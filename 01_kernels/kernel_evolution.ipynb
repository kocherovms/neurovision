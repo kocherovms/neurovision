{
 "cells": [
  {
   "cell_type": "code",
   "execution_count": 1,
   "id": "2bbfdaee-2db9-4f81-8965-5e4e35bfa85c",
   "metadata": {
    "editable": true,
    "slideshow": {
     "slide_type": ""
    },
    "tags": []
   },
   "outputs": [
    {
     "name": "stdout",
     "output_type": "stream",
     "text": [
      "4.51 μs ± 134 ns per loop (mean ± std. dev. of 7 runs, 10,000 loops each)\n",
      "4.82 μs ± 53.2 ns per loop (mean ± std. dev. of 7 runs, 10,000 loops each)\n",
      "Started pool with 12 workers, chunk size = 21\n",
      "Process ID: 1460587\n"
     ]
    }
   ],
   "source": [
    "import os\n",
    "import matplotlib.pyplot as plt\n",
    "from tqdm.notebook import tqdm\n",
    "\n",
    "%run kernel_grid.ipynb\n",
    "\n",
    "print(f'Process ID: {os.getpid()}')"
   ]
  },
  {
   "cell_type": "code",
   "execution_count": 2,
   "id": "d97870ec-a8a4-4f12-96df-3a14bc371483",
   "metadata": {},
   "outputs": [],
   "source": [
    "config = Config()"
   ]
  },
  {
   "cell_type": "code",
   "execution_count": 3,
   "id": "8ce33ec1-bf16-47bc-836d-254bbf00c17d",
   "metadata": {},
   "outputs": [
    {
     "data": {
      "application/vnd.jupyter.widget-view+json": {
       "model_id": "ed7c43f658a042f29778520030973667",
       "version_major": 2,
       "version_minor": 0
      },
      "text/plain": [
       "  0%|          | 0/3000 [00:00<?, ?it/s]"
      ]
     },
     "metadata": {},
     "output_type": "display_data"
    },
    {
     "name": "stdout",
     "output_type": "stream",
     "text": [
      "Loaded 3000 images\n",
      "CPU times: user 157 ms, sys: 16 ms, total: 173 ms\n",
      "Wall time: 171 ms\n"
     ]
    }
   ],
   "source": [
    "%%time\n",
    "images = []\n",
    "\n",
    "for image_fname in tqdm(os.listdir(config.dataset_path)):\n",
    "    image_fname = os.path.join(config.dataset_path, image_fname)\n",
    "\n",
    "    # Following fuss with \"with\" is required to prevent \"Too many open files\" problem\n",
    "    with Image.open(image_fname) as image:\n",
    "        image.load()\n",
    "        assert image.width == image.height\n",
    "        assert image.mode == 'L'\n",
    "        images.append((image_fname, np.array(image)))\n",
    "        \n",
    "    assert image.fp is None\n",
    "\n",
    "print(f'Loaded {len(images)} images')"
   ]
  },
  {
   "cell_type": "code",
   "execution_count": 4,
   "id": "95ef7b1b-926c-435f-abc3-12dadd712dff",
   "metadata": {},
   "outputs": [
    {
     "data": {
      "text/plain": [
       "('dataset/dataset_source_101_ObjectCategories_cougar_face_image_0061@139,150.png',\n",
       " array([[ 0,  0,  0, ..., 15, 11,  0],\n",
       "        [ 0,  0,  0, ...,  0,  5, 17],\n",
       "        [ 0, 18,  8, ...,  0, 17, 26],\n",
       "        ...,\n",
       "        [ 0,  0,  0, ...,  0,  0,  0],\n",
       "        [ 0,  7, 15, ...,  0,  0,  1],\n",
       "        [ 3,  1, 11, ...,  0,  0,  0]], shape=(32, 32), dtype=uint8))"
      ]
     },
     "execution_count": 4,
     "metadata": {},
     "output_type": "execute_result"
    }
   ],
   "source": [
    "images[0]"
   ]
  },
  {
   "cell_type": "raw",
   "id": "1b507e39-6b1d-478d-88d5-2fe8b9f1aa32",
   "metadata": {},
   "source": [
    "my_config = Config()\n",
    "my_config.kernel_size = 32\n",
    "my_config.kernel_grid_size = 128\n",
    "\n",
    "test_grid = KernelGrid.random(my_config.kernel_grid_size, my_config.kernel_size)\n",
    "test_grid.restart_mp()\n",
    "image_data = images[0][1]\n",
    "\n",
    "%timeit test_grid.perceive_mp(image_data, config.kernel_match_threshold, config.kernel_grid_match_threshold)\n",
    "%timeit test_grid.perceive_st(image_data, config.kernel_match_threshold, config.kernel_grid_match_threshold)"
   ]
  },
  {
   "cell_type": "code",
   "execution_count": 5,
   "id": "207b73ce-92c5-44ea-90f1-038436918cbd",
   "metadata": {
    "editable": true,
    "slideshow": {
     "slide_type": ""
    },
    "tags": []
   },
   "outputs": [],
   "source": [
    "grid = KernelGrid.random(config.kernel_grid_size, config.kernel_size)"
   ]
  },
  {
   "cell_type": "code",
   "execution_count": 6,
   "id": "4ba094da-25e7-4c4c-b860-5c8ed5aa0b0d",
   "metadata": {},
   "outputs": [],
   "source": [
    "def get_day_images():\n",
    "    return images"
   ]
  },
  {
   "cell_type": "code",
   "execution_count": 8,
   "id": "7d7cce10-9b96-45b3-a531-746b4c88d105",
   "metadata": {},
   "outputs": [],
   "source": [
    "def enhance(extinct_waterline):\n",
    "    assert extinct_waterline > 0 and extinct_waterline < 1\n",
    "    \n",
    "    k_perf_scores = []\n",
    "    \n",
    "    for ij, k in grid.indices.items():\n",
    "        assert k.match_invokes > 0\n",
    "        ks = k.get_stats()\n",
    "        k_perf_score_mac = ks.complexity >= config.kernel_min_complexity\n",
    "        k_perf_score_mac = k_perf_score_mac and ks.match_success_rate > 0\n",
    "        k_perf_score = int(k_perf_score_mac) * ks.match_score\n",
    "        k_perf_scores.append((k_perf_score, k, ij))\n",
    "    \n",
    "    k_perf_scores.sort(key=lambda x: x[0])\n",
    "    extinct_list_hi = int(len(k_perf_scores) * extinct_waterline)\n",
    "    assert extinct_list_hi > 0 and extinct_list_hi < len(k_perf_scores)\n",
    "    extinct_list = k_perf_scores[0:extinct_list_hi]\n",
    "    extinct_list_ijs = set([ij for _1, _2, ji in extinct_list])\n",
    "    assert len(extinct_list) < len(k_perf_scores)\n",
    "    \n",
    "    new_kernels = dict()\n",
    "    \n",
    "    for k_perf_score, k, ij in extinct_list:\n",
    "        ns = grid.get_neighbours(ij)\n",
    "        possible_parents = []\n",
    "    \n",
    "        for n_ij, n_k in ns:\n",
    "            can_spawn_children = True\n",
    "            can_spawn_children = can_spawn_children and not n_ij in extinct_list_ijs\n",
    "            can_spawn_children = can_spawn_children and not isinstance(n_k, FenceKernel)\n",
    "            \n",
    "            if can_spawn_children:\n",
    "                assert n_k.match_invokes > 0, n_ij\n",
    "                possible_parents.append(n_k)\n",
    "    \n",
    "        possible_parents.sort(key=lambda k: k.get_stats().match_success_rate, reverse=True)\n",
    "        parent = None\n",
    "    \n",
    "        if possible_parents:\n",
    "            # TODO randombly pick up parent giving favor to more performant\n",
    "            parent = possible_parents[0]\n",
    "    \n",
    "        if parent:\n",
    "            new_kernel = parent.spawn_child()\n",
    "        else:\n",
    "            new_kernel = Kernel.random(config.kernel_size)\n",
    "    \n",
    "        new_kernels[ij] = new_kernel\n",
    "    \n",
    "    for ij, _ in new_kernels.items():\n",
    "        assert ij in grid.indices\n",
    "        \n",
    "    grid.indices.update(new_kernels)"
   ]
  },
  {
   "cell_type": "code",
   "execution_count": 9,
   "id": "97e04d33-ba0e-4038-80c1-816f703c0e0b",
   "metadata": {
    "editable": true,
    "slideshow": {
     "slide_type": ""
    },
    "tags": []
   },
   "outputs": [
    {
     "data": {
      "application/vnd.jupyter.widget-view+json": {
       "model_id": "a356c3552ce5464cbdfd2c4585f85d6c",
       "version_major": 2,
       "version_minor": 0
      },
      "text/plain": [
       "Day #0:   0%|          | 0/3000 [00:00<?, ?it/s]"
      ]
     },
     "metadata": {},
     "output_type": "display_data"
    },
    {
     "data": {
      "application/vnd.jupyter.widget-view+json": {
       "model_id": "f4b46dedd14144a3901553284997477e",
       "version_major": 2,
       "version_minor": 0
      },
      "text/plain": [
       "Day #1:   0%|          | 0/3000 [00:00<?, ?it/s]"
      ]
     },
     "metadata": {},
     "output_type": "display_data"
    },
    {
     "data": {
      "application/vnd.jupyter.widget-view+json": {
       "model_id": "46bc3dae09154c4f90c4071617902476",
       "version_major": 2,
       "version_minor": 0
      },
      "text/plain": [
       "Day #2:   0%|          | 0/3000 [00:00<?, ?it/s]"
      ]
     },
     "metadata": {},
     "output_type": "display_data"
    },
    {
     "data": {
      "application/vnd.jupyter.widget-view+json": {
       "model_id": "97876335e9b541b8bae6bc6974fd4d47",
       "version_major": 2,
       "version_minor": 0
      },
      "text/plain": [
       "Day #3:   0%|          | 0/3000 [00:00<?, ?it/s]"
      ]
     },
     "metadata": {},
     "output_type": "display_data"
    },
    {
     "data": {
      "application/vnd.jupyter.widget-view+json": {
       "model_id": "63adefaf3e51437f9f67e05c80704b54",
       "version_major": 2,
       "version_minor": 0
      },
      "text/plain": [
       "Day #4:   0%|          | 0/3000 [00:00<?, ?it/s]"
      ]
     },
     "metadata": {},
     "output_type": "display_data"
    },
    {
     "data": {
      "application/vnd.jupyter.widget-view+json": {
       "model_id": "c6bb9c9f10e84a79a2f45bbee6e9c61f",
       "version_major": 2,
       "version_minor": 0
      },
      "text/plain": [
       "Day #5:   0%|          | 0/3000 [00:00<?, ?it/s]"
      ]
     },
     "metadata": {},
     "output_type": "display_data"
    },
    {
     "data": {
      "application/vnd.jupyter.widget-view+json": {
       "model_id": "a96db35f6cb0439a83d8b52101d9bdf8",
       "version_major": 2,
       "version_minor": 0
      },
      "text/plain": [
       "Day #6:   0%|          | 0/3000 [00:00<?, ?it/s]"
      ]
     },
     "metadata": {},
     "output_type": "display_data"
    },
    {
     "data": {
      "application/vnd.jupyter.widget-view+json": {
       "model_id": "dbbcd95de2e0429583c18acd32e873aa",
       "version_major": 2,
       "version_minor": 0
      },
      "text/plain": [
       "Day #7:   0%|          | 0/3000 [00:00<?, ?it/s]"
      ]
     },
     "metadata": {},
     "output_type": "display_data"
    },
    {
     "data": {
      "application/vnd.jupyter.widget-view+json": {
       "model_id": "6ead2350219b49d9b920ba867de340f3",
       "version_major": 2,
       "version_minor": 0
      },
      "text/plain": [
       "Day #8:   0%|          | 0/3000 [00:00<?, ?it/s]"
      ]
     },
     "metadata": {},
     "output_type": "display_data"
    },
    {
     "data": {
      "application/vnd.jupyter.widget-view+json": {
       "model_id": "1398be9e108a4ab0b4d9e4d0876ece6a",
       "version_major": 2,
       "version_minor": 0
      },
      "text/plain": [
       "Day #9:   0%|          | 0/3000 [00:00<?, ?it/s]"
      ]
     },
     "metadata": {},
     "output_type": "display_data"
    },
    {
     "data": {
      "application/vnd.jupyter.widget-view+json": {
       "model_id": "0a1eef73e6e641d8bfba39f1bcecc333",
       "version_major": 2,
       "version_minor": 0
      },
      "text/plain": [
       "Day #10:   0%|          | 0/3000 [00:00<?, ?it/s]"
      ]
     },
     "metadata": {},
     "output_type": "display_data"
    },
    {
     "data": {
      "application/vnd.jupyter.widget-view+json": {
       "model_id": "45e412d76c2741b585909e3feacde6a3",
       "version_major": 2,
       "version_minor": 0
      },
      "text/plain": [
       "Day #11:   0%|          | 0/3000 [00:00<?, ?it/s]"
      ]
     },
     "metadata": {},
     "output_type": "display_data"
    },
    {
     "data": {
      "application/vnd.jupyter.widget-view+json": {
       "model_id": "a3e0f8a378354ba8a4404e05262b4edc",
       "version_major": 2,
       "version_minor": 0
      },
      "text/plain": [
       "Day #12:   0%|          | 0/3000 [00:00<?, ?it/s]"
      ]
     },
     "metadata": {},
     "output_type": "display_data"
    },
    {
     "data": {
      "application/vnd.jupyter.widget-view+json": {
       "model_id": "5e888893db304fde999993bc64d63875",
       "version_major": 2,
       "version_minor": 0
      },
      "text/plain": [
       "Day #13:   0%|          | 0/3000 [00:00<?, ?it/s]"
      ]
     },
     "metadata": {},
     "output_type": "display_data"
    },
    {
     "data": {
      "application/vnd.jupyter.widget-view+json": {
       "model_id": "e4bfd9b867f640f1a6931545905f1f73",
       "version_major": 2,
       "version_minor": 0
      },
      "text/plain": [
       "Day #14:   0%|          | 0/3000 [00:00<?, ?it/s]"
      ]
     },
     "metadata": {},
     "output_type": "display_data"
    },
    {
     "data": {
      "application/vnd.jupyter.widget-view+json": {
       "model_id": "0b201309df284fca855374431719aec9",
       "version_major": 2,
       "version_minor": 0
      },
      "text/plain": [
       "Day #15:   0%|          | 0/3000 [00:00<?, ?it/s]"
      ]
     },
     "metadata": {},
     "output_type": "display_data"
    },
    {
     "data": {
      "application/vnd.jupyter.widget-view+json": {
       "model_id": "ab1b2455c6774f0eabdd7538eb24454a",
       "version_major": 2,
       "version_minor": 0
      },
      "text/plain": [
       "Day #16:   0%|          | 0/3000 [00:00<?, ?it/s]"
      ]
     },
     "metadata": {},
     "output_type": "display_data"
    },
    {
     "data": {
      "application/vnd.jupyter.widget-view+json": {
       "model_id": "f674921bb0c641dc8b3cf2d0ca325703",
       "version_major": 2,
       "version_minor": 0
      },
      "text/plain": [
       "Day #17:   0%|          | 0/3000 [00:00<?, ?it/s]"
      ]
     },
     "metadata": {},
     "output_type": "display_data"
    },
    {
     "data": {
      "application/vnd.jupyter.widget-view+json": {
       "model_id": "56265066056c4c08bb6478accd8cb659",
       "version_major": 2,
       "version_minor": 0
      },
      "text/plain": [
       "Day #18:   0%|          | 0/3000 [00:00<?, ?it/s]"
      ]
     },
     "metadata": {},
     "output_type": "display_data"
    },
    {
     "data": {
      "application/vnd.jupyter.widget-view+json": {
       "model_id": "f3040bcfbb4c4bfb998a1bf0bfb85c33",
       "version_major": 2,
       "version_minor": 0
      },
      "text/plain": [
       "Day #19:   0%|          | 0/3000 [00:00<?, ?it/s]"
      ]
     },
     "metadata": {},
     "output_type": "display_data"
    },
    {
     "data": {
      "application/vnd.jupyter.widget-view+json": {
       "model_id": "909f967c8ade4fa189e8cd54c69a05da",
       "version_major": 2,
       "version_minor": 0
      },
      "text/plain": [
       "Day #20:   0%|          | 0/3000 [00:00<?, ?it/s]"
      ]
     },
     "metadata": {},
     "output_type": "display_data"
    },
    {
     "data": {
      "application/vnd.jupyter.widget-view+json": {
       "model_id": "7bad7d29fa1549c0bfee256322ff96a7",
       "version_major": 2,
       "version_minor": 0
      },
      "text/plain": [
       "Day #21:   0%|          | 0/3000 [00:00<?, ?it/s]"
      ]
     },
     "metadata": {},
     "output_type": "display_data"
    },
    {
     "data": {
      "application/vnd.jupyter.widget-view+json": {
       "model_id": "66a4bcd90e6c47468e0c733e7967c692",
       "version_major": 2,
       "version_minor": 0
      },
      "text/plain": [
       "Day #22:   0%|          | 0/3000 [00:00<?, ?it/s]"
      ]
     },
     "metadata": {},
     "output_type": "display_data"
    },
    {
     "data": {
      "application/vnd.jupyter.widget-view+json": {
       "model_id": "9affef9085004b70b189ee3deee296d2",
       "version_major": 2,
       "version_minor": 0
      },
      "text/plain": [
       "Day #23:   0%|          | 0/3000 [00:00<?, ?it/s]"
      ]
     },
     "metadata": {},
     "output_type": "display_data"
    },
    {
     "data": {
      "application/vnd.jupyter.widget-view+json": {
       "model_id": "23882903cb47400d9a6bcef5adcdc8e8",
       "version_major": 2,
       "version_minor": 0
      },
      "text/plain": [
       "Day #24:   0%|          | 0/3000 [00:00<?, ?it/s]"
      ]
     },
     "metadata": {},
     "output_type": "display_data"
    },
    {
     "data": {
      "application/vnd.jupyter.widget-view+json": {
       "model_id": "422b47b814a241b2ae36b6daec1dce72",
       "version_major": 2,
       "version_minor": 0
      },
      "text/plain": [
       "Day #25:   0%|          | 0/3000 [00:00<?, ?it/s]"
      ]
     },
     "metadata": {},
     "output_type": "display_data"
    },
    {
     "data": {
      "application/vnd.jupyter.widget-view+json": {
       "model_id": "54904663baf04f249d4ebb1104429230",
       "version_major": 2,
       "version_minor": 0
      },
      "text/plain": [
       "Day #26:   0%|          | 0/3000 [00:00<?, ?it/s]"
      ]
     },
     "metadata": {},
     "output_type": "display_data"
    },
    {
     "data": {
      "application/vnd.jupyter.widget-view+json": {
       "model_id": "3f1a227e489748a59acedd21576b0b90",
       "version_major": 2,
       "version_minor": 0
      },
      "text/plain": [
       "Day #27:   0%|          | 0/3000 [00:00<?, ?it/s]"
      ]
     },
     "metadata": {},
     "output_type": "display_data"
    },
    {
     "data": {
      "application/vnd.jupyter.widget-view+json": {
       "model_id": "9d9e595b57df411ea026ff2f78732f4d",
       "version_major": 2,
       "version_minor": 0
      },
      "text/plain": [
       "Day #28:   0%|          | 0/3000 [00:00<?, ?it/s]"
      ]
     },
     "metadata": {},
     "output_type": "display_data"
    },
    {
     "data": {
      "application/vnd.jupyter.widget-view+json": {
       "model_id": "0ccd9cbcff4f49edbed4d36b83b2df92",
       "version_major": 2,
       "version_minor": 0
      },
      "text/plain": [
       "Day #29:   0%|          | 0/3000 [00:00<?, ?it/s]"
      ]
     },
     "metadata": {},
     "output_type": "display_data"
    },
    {
     "data": {
      "application/vnd.jupyter.widget-view+json": {
       "model_id": "0cbfd5e308a94627acf65344d65fa193",
       "version_major": 2,
       "version_minor": 0
      },
      "text/plain": [
       "Day #30:   0%|          | 0/3000 [00:00<?, ?it/s]"
      ]
     },
     "metadata": {},
     "output_type": "display_data"
    },
    {
     "data": {
      "application/vnd.jupyter.widget-view+json": {
       "model_id": "5a928cd59d67482eaf3f40de4d70774d",
       "version_major": 2,
       "version_minor": 0
      },
      "text/plain": [
       "Day #31:   0%|          | 0/3000 [00:00<?, ?it/s]"
      ]
     },
     "metadata": {},
     "output_type": "display_data"
    },
    {
     "data": {
      "application/vnd.jupyter.widget-view+json": {
       "model_id": "21380f02d4444961b215a93fdbd3898b",
       "version_major": 2,
       "version_minor": 0
      },
      "text/plain": [
       "Day #32:   0%|          | 0/3000 [00:00<?, ?it/s]"
      ]
     },
     "metadata": {},
     "output_type": "display_data"
    },
    {
     "data": {
      "application/vnd.jupyter.widget-view+json": {
       "model_id": "818912453f744d59ae1016651ad3185c",
       "version_major": 2,
       "version_minor": 0
      },
      "text/plain": [
       "Day #33:   0%|          | 0/3000 [00:00<?, ?it/s]"
      ]
     },
     "metadata": {},
     "output_type": "display_data"
    },
    {
     "data": {
      "application/vnd.jupyter.widget-view+json": {
       "model_id": "348f4de4d09e489f98184f0dae5b629c",
       "version_major": 2,
       "version_minor": 0
      },
      "text/plain": [
       "Day #34:   0%|          | 0/3000 [00:00<?, ?it/s]"
      ]
     },
     "metadata": {},
     "output_type": "display_data"
    },
    {
     "data": {
      "application/vnd.jupyter.widget-view+json": {
       "model_id": "1df3548351fd4e208b7d4d49b5f5512b",
       "version_major": 2,
       "version_minor": 0
      },
      "text/plain": [
       "Day #35:   0%|          | 0/3000 [00:00<?, ?it/s]"
      ]
     },
     "metadata": {},
     "output_type": "display_data"
    },
    {
     "data": {
      "application/vnd.jupyter.widget-view+json": {
       "model_id": "f46fff910d5646159f17b113eb741eaf",
       "version_major": 2,
       "version_minor": 0
      },
      "text/plain": [
       "Day #36:   0%|          | 0/3000 [00:00<?, ?it/s]"
      ]
     },
     "metadata": {},
     "output_type": "display_data"
    },
    {
     "data": {
      "application/vnd.jupyter.widget-view+json": {
       "model_id": "bcddda2014c84466b133614adf9e881b",
       "version_major": 2,
       "version_minor": 0
      },
      "text/plain": [
       "Day #37:   0%|          | 0/3000 [00:00<?, ?it/s]"
      ]
     },
     "metadata": {},
     "output_type": "display_data"
    },
    {
     "data": {
      "application/vnd.jupyter.widget-view+json": {
       "model_id": "b4cbb0aa00d449dfaf2b31a5230ed04c",
       "version_major": 2,
       "version_minor": 0
      },
      "text/plain": [
       "Day #38:   0%|          | 0/3000 [00:00<?, ?it/s]"
      ]
     },
     "metadata": {},
     "output_type": "display_data"
    },
    {
     "data": {
      "application/vnd.jupyter.widget-view+json": {
       "model_id": "0488afa71aa34fe1b43a7abd830a9b5e",
       "version_major": 2,
       "version_minor": 0
      },
      "text/plain": [
       "Day #39:   0%|          | 0/3000 [00:00<?, ?it/s]"
      ]
     },
     "metadata": {},
     "output_type": "display_data"
    },
    {
     "data": {
      "application/vnd.jupyter.widget-view+json": {
       "model_id": "837b8b0f205942e2a8a7a316efd9d8e0",
       "version_major": 2,
       "version_minor": 0
      },
      "text/plain": [
       "Day #40:   0%|          | 0/3000 [00:00<?, ?it/s]"
      ]
     },
     "metadata": {},
     "output_type": "display_data"
    },
    {
     "data": {
      "application/vnd.jupyter.widget-view+json": {
       "model_id": "2126812934a4439d820c34415f364f8e",
       "version_major": 2,
       "version_minor": 0
      },
      "text/plain": [
       "Day #41:   0%|          | 0/3000 [00:00<?, ?it/s]"
      ]
     },
     "metadata": {},
     "output_type": "display_data"
    },
    {
     "data": {
      "application/vnd.jupyter.widget-view+json": {
       "model_id": "13cde73f816c4f79ac0469d83fcbbcbc",
       "version_major": 2,
       "version_minor": 0
      },
      "text/plain": [
       "Day #42:   0%|          | 0/3000 [00:00<?, ?it/s]"
      ]
     },
     "metadata": {},
     "output_type": "display_data"
    },
    {
     "data": {
      "application/vnd.jupyter.widget-view+json": {
       "model_id": "57a16e7c7a5c4063b00291a13c865295",
       "version_major": 2,
       "version_minor": 0
      },
      "text/plain": [
       "Day #43:   0%|          | 0/3000 [00:00<?, ?it/s]"
      ]
     },
     "metadata": {},
     "output_type": "display_data"
    },
    {
     "data": {
      "application/vnd.jupyter.widget-view+json": {
       "model_id": "593601847b6142d18a451de1d11480e9",
       "version_major": 2,
       "version_minor": 0
      },
      "text/plain": [
       "Day #44:   0%|          | 0/3000 [00:00<?, ?it/s]"
      ]
     },
     "metadata": {},
     "output_type": "display_data"
    },
    {
     "data": {
      "application/vnd.jupyter.widget-view+json": {
       "model_id": "57f88453297f491f8dddc2e0427f0459",
       "version_major": 2,
       "version_minor": 0
      },
      "text/plain": [
       "Day #45:   0%|          | 0/3000 [00:00<?, ?it/s]"
      ]
     },
     "metadata": {},
     "output_type": "display_data"
    },
    {
     "data": {
      "application/vnd.jupyter.widget-view+json": {
       "model_id": "c902b26a5f62426b80ebfab1527b52b0",
       "version_major": 2,
       "version_minor": 0
      },
      "text/plain": [
       "Day #46:   0%|          | 0/3000 [00:00<?, ?it/s]"
      ]
     },
     "metadata": {},
     "output_type": "display_data"
    },
    {
     "data": {
      "application/vnd.jupyter.widget-view+json": {
       "model_id": "0352b6af2c334f609a9ebac12714c6b9",
       "version_major": 2,
       "version_minor": 0
      },
      "text/plain": [
       "Day #47:   0%|          | 0/3000 [00:00<?, ?it/s]"
      ]
     },
     "metadata": {},
     "output_type": "display_data"
    },
    {
     "data": {
      "application/vnd.jupyter.widget-view+json": {
       "model_id": "9765339dc06540dbb23dfc73b1a22284",
       "version_major": 2,
       "version_minor": 0
      },
      "text/plain": [
       "Day #48:   0%|          | 0/3000 [00:00<?, ?it/s]"
      ]
     },
     "metadata": {},
     "output_type": "display_data"
    },
    {
     "data": {
      "application/vnd.jupyter.widget-view+json": {
       "model_id": "ad73dfee529041598adcba5ac4ecc9a4",
       "version_major": 2,
       "version_minor": 0
      },
      "text/plain": [
       "Day #49:   0%|          | 0/3000 [00:00<?, ?it/s]"
      ]
     },
     "metadata": {},
     "output_type": "display_data"
    },
    {
     "data": {
      "application/vnd.jupyter.widget-view+json": {
       "model_id": "3fbf526ff0c2411c9fd00b72976bbd7a",
       "version_major": 2,
       "version_minor": 0
      },
      "text/plain": [
       "Day #50:   0%|          | 0/3000 [00:00<?, ?it/s]"
      ]
     },
     "metadata": {},
     "output_type": "display_data"
    },
    {
     "data": {
      "application/vnd.jupyter.widget-view+json": {
       "model_id": "aeae832f6e144645ac5c6d2dc73d0df8",
       "version_major": 2,
       "version_minor": 0
      },
      "text/plain": [
       "Day #51:   0%|          | 0/3000 [00:00<?, ?it/s]"
      ]
     },
     "metadata": {},
     "output_type": "display_data"
    },
    {
     "data": {
      "application/vnd.jupyter.widget-view+json": {
       "model_id": "efffaba8c3b846c28acf0550df47f1c7",
       "version_major": 2,
       "version_minor": 0
      },
      "text/plain": [
       "Day #52:   0%|          | 0/3000 [00:00<?, ?it/s]"
      ]
     },
     "metadata": {},
     "output_type": "display_data"
    },
    {
     "data": {
      "application/vnd.jupyter.widget-view+json": {
       "model_id": "23094d6df08a4c079aa278cbcafa3b61",
       "version_major": 2,
       "version_minor": 0
      },
      "text/plain": [
       "Day #53:   0%|          | 0/3000 [00:00<?, ?it/s]"
      ]
     },
     "metadata": {},
     "output_type": "display_data"
    },
    {
     "data": {
      "application/vnd.jupyter.widget-view+json": {
       "model_id": "c798097b0d0041f9a5b006d6a3c78c39",
       "version_major": 2,
       "version_minor": 0
      },
      "text/plain": [
       "Day #54:   0%|          | 0/3000 [00:00<?, ?it/s]"
      ]
     },
     "metadata": {},
     "output_type": "display_data"
    },
    {
     "data": {
      "application/vnd.jupyter.widget-view+json": {
       "model_id": "c7805db494c34389b42c3dae0428e48c",
       "version_major": 2,
       "version_minor": 0
      },
      "text/plain": [
       "Day #55:   0%|          | 0/3000 [00:00<?, ?it/s]"
      ]
     },
     "metadata": {},
     "output_type": "display_data"
    },
    {
     "data": {
      "application/vnd.jupyter.widget-view+json": {
       "model_id": "ee0b358e91ac4007adab90119f2812fe",
       "version_major": 2,
       "version_minor": 0
      },
      "text/plain": [
       "Day #56:   0%|          | 0/3000 [00:00<?, ?it/s]"
      ]
     },
     "metadata": {},
     "output_type": "display_data"
    },
    {
     "data": {
      "application/vnd.jupyter.widget-view+json": {
       "model_id": "5c863186e3d04334a53d2a76388887ca",
       "version_major": 2,
       "version_minor": 0
      },
      "text/plain": [
       "Day #57:   0%|          | 0/3000 [00:00<?, ?it/s]"
      ]
     },
     "metadata": {},
     "output_type": "display_data"
    },
    {
     "data": {
      "application/vnd.jupyter.widget-view+json": {
       "model_id": "277907835a9c4dc0b49b7ad3847117b5",
       "version_major": 2,
       "version_minor": 0
      },
      "text/plain": [
       "Day #58:   0%|          | 0/3000 [00:00<?, ?it/s]"
      ]
     },
     "metadata": {},
     "output_type": "display_data"
    },
    {
     "data": {
      "application/vnd.jupyter.widget-view+json": {
       "model_id": "8a75de01be344a6296b59913adc9e6e5",
       "version_major": 2,
       "version_minor": 0
      },
      "text/plain": [
       "Day #59:   0%|          | 0/3000 [00:00<?, ?it/s]"
      ]
     },
     "metadata": {},
     "output_type": "display_data"
    },
    {
     "data": {
      "application/vnd.jupyter.widget-view+json": {
       "model_id": "5678133b82da4e8c819328182dc1c59b",
       "version_major": 2,
       "version_minor": 0
      },
      "text/plain": [
       "Day #60:   0%|          | 0/3000 [00:00<?, ?it/s]"
      ]
     },
     "metadata": {},
     "output_type": "display_data"
    },
    {
     "data": {
      "application/vnd.jupyter.widget-view+json": {
       "model_id": "7e2572f1386e4ed2853ca44a7ddfcc0e",
       "version_major": 2,
       "version_minor": 0
      },
      "text/plain": [
       "Day #61:   0%|          | 0/3000 [00:00<?, ?it/s]"
      ]
     },
     "metadata": {},
     "output_type": "display_data"
    },
    {
     "data": {
      "application/vnd.jupyter.widget-view+json": {
       "model_id": "627970a564d24760a8947449ff04bc63",
       "version_major": 2,
       "version_minor": 0
      },
      "text/plain": [
       "Day #62:   0%|          | 0/3000 [00:00<?, ?it/s]"
      ]
     },
     "metadata": {},
     "output_type": "display_data"
    },
    {
     "data": {
      "application/vnd.jupyter.widget-view+json": {
       "model_id": "f8230a63c51142af8deeaa61b3d4cfe9",
       "version_major": 2,
       "version_minor": 0
      },
      "text/plain": [
       "Day #63:   0%|          | 0/3000 [00:00<?, ?it/s]"
      ]
     },
     "metadata": {},
     "output_type": "display_data"
    },
    {
     "data": {
      "application/vnd.jupyter.widget-view+json": {
       "model_id": "0defb8cd21a9426788ecac83a738f209",
       "version_major": 2,
       "version_minor": 0
      },
      "text/plain": [
       "Day #64:   0%|          | 0/3000 [00:00<?, ?it/s]"
      ]
     },
     "metadata": {},
     "output_type": "display_data"
    },
    {
     "data": {
      "application/vnd.jupyter.widget-view+json": {
       "model_id": "ae7499b0936040368c2d4be714be74ee",
       "version_major": 2,
       "version_minor": 0
      },
      "text/plain": [
       "Day #65:   0%|          | 0/3000 [00:00<?, ?it/s]"
      ]
     },
     "metadata": {},
     "output_type": "display_data"
    },
    {
     "data": {
      "application/vnd.jupyter.widget-view+json": {
       "model_id": "76c8dc052d014cd0866b94ffd274ae29",
       "version_major": 2,
       "version_minor": 0
      },
      "text/plain": [
       "Day #66:   0%|          | 0/3000 [00:00<?, ?it/s]"
      ]
     },
     "metadata": {},
     "output_type": "display_data"
    },
    {
     "data": {
      "application/vnd.jupyter.widget-view+json": {
       "model_id": "7b5aacdaf0f2499da172c906f66318ee",
       "version_major": 2,
       "version_minor": 0
      },
      "text/plain": [
       "Day #67:   0%|          | 0/3000 [00:00<?, ?it/s]"
      ]
     },
     "metadata": {},
     "output_type": "display_data"
    },
    {
     "data": {
      "application/vnd.jupyter.widget-view+json": {
       "model_id": "4b83b8568bf442199bdc2d658afb9611",
       "version_major": 2,
       "version_minor": 0
      },
      "text/plain": [
       "Day #68:   0%|          | 0/3000 [00:00<?, ?it/s]"
      ]
     },
     "metadata": {},
     "output_type": "display_data"
    },
    {
     "data": {
      "application/vnd.jupyter.widget-view+json": {
       "model_id": "c4f6d459d89d44929171d1c459017400",
       "version_major": 2,
       "version_minor": 0
      },
      "text/plain": [
       "Day #69:   0%|          | 0/3000 [00:00<?, ?it/s]"
      ]
     },
     "metadata": {},
     "output_type": "display_data"
    },
    {
     "data": {
      "application/vnd.jupyter.widget-view+json": {
       "model_id": "e80fa66a8def43d687c74b0ce1a4264a",
       "version_major": 2,
       "version_minor": 0
      },
      "text/plain": [
       "Day #70:   0%|          | 0/3000 [00:00<?, ?it/s]"
      ]
     },
     "metadata": {},
     "output_type": "display_data"
    },
    {
     "data": {
      "application/vnd.jupyter.widget-view+json": {
       "model_id": "072e2a8b8d054fa09f003e57e3dd983a",
       "version_major": 2,
       "version_minor": 0
      },
      "text/plain": [
       "Day #71:   0%|          | 0/3000 [00:00<?, ?it/s]"
      ]
     },
     "metadata": {},
     "output_type": "display_data"
    },
    {
     "data": {
      "application/vnd.jupyter.widget-view+json": {
       "model_id": "8373db1c0a88445683b5c65ba0968d4d",
       "version_major": 2,
       "version_minor": 0
      },
      "text/plain": [
       "Day #72:   0%|          | 0/3000 [00:00<?, ?it/s]"
      ]
     },
     "metadata": {},
     "output_type": "display_data"
    },
    {
     "data": {
      "application/vnd.jupyter.widget-view+json": {
       "model_id": "b75d82faf8d94399aef16d794ea432c7",
       "version_major": 2,
       "version_minor": 0
      },
      "text/plain": [
       "Day #73:   0%|          | 0/3000 [00:00<?, ?it/s]"
      ]
     },
     "metadata": {},
     "output_type": "display_data"
    },
    {
     "data": {
      "application/vnd.jupyter.widget-view+json": {
       "model_id": "8942043094024cad89d2a6c90c093d0d",
       "version_major": 2,
       "version_minor": 0
      },
      "text/plain": [
       "Day #74:   0%|          | 0/3000 [00:00<?, ?it/s]"
      ]
     },
     "metadata": {},
     "output_type": "display_data"
    },
    {
     "data": {
      "application/vnd.jupyter.widget-view+json": {
       "model_id": "16ab7691ec7b430982bc6d43aabef032",
       "version_major": 2,
       "version_minor": 0
      },
      "text/plain": [
       "Day #75:   0%|          | 0/3000 [00:00<?, ?it/s]"
      ]
     },
     "metadata": {},
     "output_type": "display_data"
    },
    {
     "data": {
      "application/vnd.jupyter.widget-view+json": {
       "model_id": "064d253cc4394e6780136f06eb0c768b",
       "version_major": 2,
       "version_minor": 0
      },
      "text/plain": [
       "Day #76:   0%|          | 0/3000 [00:00<?, ?it/s]"
      ]
     },
     "metadata": {},
     "output_type": "display_data"
    },
    {
     "data": {
      "application/vnd.jupyter.widget-view+json": {
       "model_id": "b32e333653424a50a4c1a381ed029ffd",
       "version_major": 2,
       "version_minor": 0
      },
      "text/plain": [
       "Day #77:   0%|          | 0/3000 [00:00<?, ?it/s]"
      ]
     },
     "metadata": {},
     "output_type": "display_data"
    },
    {
     "data": {
      "application/vnd.jupyter.widget-view+json": {
       "model_id": "ad0ca59e8b924986b71d8b102b31fc51",
       "version_major": 2,
       "version_minor": 0
      },
      "text/plain": [
       "Day #78:   0%|          | 0/3000 [00:00<?, ?it/s]"
      ]
     },
     "metadata": {},
     "output_type": "display_data"
    },
    {
     "data": {
      "application/vnd.jupyter.widget-view+json": {
       "model_id": "4d220697a29a4b96846674ac8f60ee83",
       "version_major": 2,
       "version_minor": 0
      },
      "text/plain": [
       "Day #79:   0%|          | 0/3000 [00:00<?, ?it/s]"
      ]
     },
     "metadata": {},
     "output_type": "display_data"
    },
    {
     "data": {
      "application/vnd.jupyter.widget-view+json": {
       "model_id": "525f1df9a8da45549a03b28a36eea80a",
       "version_major": 2,
       "version_minor": 0
      },
      "text/plain": [
       "Day #80:   0%|          | 0/3000 [00:00<?, ?it/s]"
      ]
     },
     "metadata": {},
     "output_type": "display_data"
    },
    {
     "data": {
      "application/vnd.jupyter.widget-view+json": {
       "model_id": "30464a319f7a47809c1722cca303e989",
       "version_major": 2,
       "version_minor": 0
      },
      "text/plain": [
       "Day #81:   0%|          | 0/3000 [00:00<?, ?it/s]"
      ]
     },
     "metadata": {},
     "output_type": "display_data"
    },
    {
     "data": {
      "application/vnd.jupyter.widget-view+json": {
       "model_id": "442a1d1760ab4629a8a6eea5694112fa",
       "version_major": 2,
       "version_minor": 0
      },
      "text/plain": [
       "Day #82:   0%|          | 0/3000 [00:00<?, ?it/s]"
      ]
     },
     "metadata": {},
     "output_type": "display_data"
    },
    {
     "data": {
      "application/vnd.jupyter.widget-view+json": {
       "model_id": "2814d3d38ad247b6bab8fbc52e5124d4",
       "version_major": 2,
       "version_minor": 0
      },
      "text/plain": [
       "Day #83:   0%|          | 0/3000 [00:00<?, ?it/s]"
      ]
     },
     "metadata": {},
     "output_type": "display_data"
    },
    {
     "data": {
      "application/vnd.jupyter.widget-view+json": {
       "model_id": "424aa32dc9424160b5a6f1abbb77c64a",
       "version_major": 2,
       "version_minor": 0
      },
      "text/plain": [
       "Day #84:   0%|          | 0/3000 [00:00<?, ?it/s]"
      ]
     },
     "metadata": {},
     "output_type": "display_data"
    },
    {
     "data": {
      "application/vnd.jupyter.widget-view+json": {
       "model_id": "87b0834281874e25b56d46e33e38e302",
       "version_major": 2,
       "version_minor": 0
      },
      "text/plain": [
       "Day #85:   0%|          | 0/3000 [00:00<?, ?it/s]"
      ]
     },
     "metadata": {},
     "output_type": "display_data"
    },
    {
     "data": {
      "application/vnd.jupyter.widget-view+json": {
       "model_id": "0b09a6cf40824a8190f1f34b64acaf02",
       "version_major": 2,
       "version_minor": 0
      },
      "text/plain": [
       "Day #86:   0%|          | 0/3000 [00:00<?, ?it/s]"
      ]
     },
     "metadata": {},
     "output_type": "display_data"
    },
    {
     "data": {
      "application/vnd.jupyter.widget-view+json": {
       "model_id": "7f7acc53000d4ffbb406dce8bdd157a1",
       "version_major": 2,
       "version_minor": 0
      },
      "text/plain": [
       "Day #87:   0%|          | 0/3000 [00:00<?, ?it/s]"
      ]
     },
     "metadata": {},
     "output_type": "display_data"
    },
    {
     "data": {
      "application/vnd.jupyter.widget-view+json": {
       "model_id": "ea6407c7d03641198c59fdf1a7136cbc",
       "version_major": 2,
       "version_minor": 0
      },
      "text/plain": [
       "Day #88:   0%|          | 0/3000 [00:00<?, ?it/s]"
      ]
     },
     "metadata": {},
     "output_type": "display_data"
    },
    {
     "data": {
      "application/vnd.jupyter.widget-view+json": {
       "model_id": "a9182b6901a246ea9c98a41c3f2d23bd",
       "version_major": 2,
       "version_minor": 0
      },
      "text/plain": [
       "Day #89:   0%|          | 0/3000 [00:00<?, ?it/s]"
      ]
     },
     "metadata": {},
     "output_type": "display_data"
    },
    {
     "data": {
      "application/vnd.jupyter.widget-view+json": {
       "model_id": "01e552c363d4431cafd30a5c96a5ea07",
       "version_major": 2,
       "version_minor": 0
      },
      "text/plain": [
       "Day #90:   0%|          | 0/3000 [00:00<?, ?it/s]"
      ]
     },
     "metadata": {},
     "output_type": "display_data"
    },
    {
     "data": {
      "application/vnd.jupyter.widget-view+json": {
       "model_id": "4877267afd9b483a9da6429324bd2a8b",
       "version_major": 2,
       "version_minor": 0
      },
      "text/plain": [
       "Day #91:   0%|          | 0/3000 [00:00<?, ?it/s]"
      ]
     },
     "metadata": {},
     "output_type": "display_data"
    },
    {
     "data": {
      "application/vnd.jupyter.widget-view+json": {
       "model_id": "f19b82eb6e604510aff82f96c55fab96",
       "version_major": 2,
       "version_minor": 0
      },
      "text/plain": [
       "Day #92:   0%|          | 0/3000 [00:00<?, ?it/s]"
      ]
     },
     "metadata": {},
     "output_type": "display_data"
    },
    {
     "data": {
      "application/vnd.jupyter.widget-view+json": {
       "model_id": "92ef7fe45dc44126ab7ef973f5bfb57c",
       "version_major": 2,
       "version_minor": 0
      },
      "text/plain": [
       "Day #93:   0%|          | 0/3000 [00:00<?, ?it/s]"
      ]
     },
     "metadata": {},
     "output_type": "display_data"
    },
    {
     "data": {
      "application/vnd.jupyter.widget-view+json": {
       "model_id": "174e27889c854d0293b16af95bde0d5b",
       "version_major": 2,
       "version_minor": 0
      },
      "text/plain": [
       "Day #94:   0%|          | 0/3000 [00:00<?, ?it/s]"
      ]
     },
     "metadata": {},
     "output_type": "display_data"
    },
    {
     "data": {
      "application/vnd.jupyter.widget-view+json": {
       "model_id": "a0b6b434f41643a4ba666bc7e06b5fcb",
       "version_major": 2,
       "version_minor": 0
      },
      "text/plain": [
       "Day #95:   0%|          | 0/3000 [00:00<?, ?it/s]"
      ]
     },
     "metadata": {},
     "output_type": "display_data"
    },
    {
     "data": {
      "application/vnd.jupyter.widget-view+json": {
       "model_id": "6a16101f261e4eceae9bd911c7e78ed5",
       "version_major": 2,
       "version_minor": 0
      },
      "text/plain": [
       "Day #96:   0%|          | 0/3000 [00:00<?, ?it/s]"
      ]
     },
     "metadata": {},
     "output_type": "display_data"
    },
    {
     "data": {
      "application/vnd.jupyter.widget-view+json": {
       "model_id": "b33921e5ac5a4b2ea5230aa919a7c69a",
       "version_major": 2,
       "version_minor": 0
      },
      "text/plain": [
       "Day #97:   0%|          | 0/3000 [00:00<?, ?it/s]"
      ]
     },
     "metadata": {},
     "output_type": "display_data"
    },
    {
     "data": {
      "application/vnd.jupyter.widget-view+json": {
       "model_id": "1b09bb756bad46c6a50cdde3da9b77bf",
       "version_major": 2,
       "version_minor": 0
      },
      "text/plain": [
       "Day #98:   0%|          | 0/3000 [00:00<?, ?it/s]"
      ]
     },
     "metadata": {},
     "output_type": "display_data"
    },
    {
     "data": {
      "application/vnd.jupyter.widget-view+json": {
       "model_id": "9f64b453029245b49211c9f63b7ef419",
       "version_major": 2,
       "version_minor": 0
      },
      "text/plain": [
       "Day #99:   0%|          | 0/3000 [00:00<?, ?it/s]"
      ]
     },
     "metadata": {},
     "output_type": "display_data"
    },
    {
     "name": "stdout",
     "output_type": "stream",
     "text": [
      "CPU times: user 8min 39s, sys: 1.39 s, total: 8min 41s\n",
      "Wall time: 8min 40s\n"
     ]
    }
   ],
   "source": [
    "%%time\n",
    "train_stats = []\n",
    "\n",
    "# for day in range(config.kernel_grid_evolution_days):\n",
    "for day in range(100):\n",
    "    # Make day impressions\n",
    "    day_images = get_day_images()\n",
    "    grid.reset_stats()\n",
    "\n",
    "    for image in tqdm(day_images, desc=f'Day #{day}'):\n",
    "        image_data = image[1]\n",
    "        grid.perceive(image_data, config.kernel_match_threshold, config.kernel_grid_match_threshold)\n",
    "\n",
    "    assert grid.perceive_invokes > 0\n",
    "    grid_stats = grid.get_stats()\n",
    "    train_stats.append(grid_stats)\n",
    "\n",
    "    # Adjust kernels to better match day impressions\n",
    "    enhance(0.5)"
   ]
  },
  {
   "cell_type": "code",
   "execution_count": 10,
   "id": "92524b05-de67-4fc0-a74a-6234f70e4771",
   "metadata": {},
   "outputs": [
    {
     "data": {
      "image/png": "[encoded data removed]",
      "text/plain": [
       "<Figure size 640x480 with 2 Axes>"
      ]
     },
     "metadata": {},
     "output_type": "display_data"
    }
   ],
   "source": [
    "fig, ax = plt.subplots(2)\n",
    "days_count = len(train_stats)\n",
    "ax[0].bar(list(range(days_count)), [ts.perceive_success_rate for ts in train_stats])\n",
    "ax[0].set_ylabel('Perf score')\n",
    "\n",
    "ax[1].bar(list(range(days_count)), [ts.kernels_match_success_rates.mean for ts in train_stats])\n",
    "ax[1].set_xlabel('Days')\n",
    "ax[1].set_ylabel('Avg kernels perf score')\n",
    "plt.show()"
   ]
  },
  {
   "cell_type": "code",
   "execution_count": 13,
   "id": "1e6e25a8-eeb6-402e-b4be-4279497b3186",
   "metadata": {},
   "outputs": [
    {
     "data": {
      "text/html": [
       "<div style=\"\n",
       "        display: grid; \n",
       "        grid-template-columns: repeat(16, 50px);\n",
       "        column-gap: 1px;\n",
       "        row-gap: 1px;\">\n",
       "        \n",
       "            <figure style=\"margin: 5px !important;\">\n",
       "              <img src=\"data:image/png;base64,iVBORw0KGgoAAAANSUhEUgAAADIAAAAyAQAAAAA2RLUcAAAAGElEQVR4nGNgGJ6A8T+EYoLymXArHVQAALvyAQa/fE4EAAAAAElFTkSuQmCC\" style=\"height: auto\">\n",
       "              <figcaption style=\"font-size: 0.6em\">0.10%</figcaption>\n",
       "            </figure>\n",
       "        \n",
       "            <figure style=\"margin: 5px !important;\">\n",
       "              <img src=\"data:image/png;base64,iVBORw0KGgoAAAANSUhEUgAAADIAAAAyAQAAAAA2RLUcAAAAGElEQVR4nGNgGJ6A8T+EYoLymXArHVQAALvyAQa/fE4EAAAAAElFTkSuQmCC\" style=\"height: auto\">\n",
       "              <figcaption style=\"font-size: 0.6em\">0.10%</figcaption>\n",
       "            </figure>\n",
       "        \n",
       "            <figure style=\"margin: 5px !important;\">\n",
       "              <img src=\"data:image/png;base64,iVBORw0KGgoAAAANSUhEUgAAADIAAAAyAQAAAAA2RLUcAAAAHElEQVR4nGNgGJ6A8T8DAwMDw0EmKJ8Jt9JBBQBAwQHGKOUJqAAAAABJRU5ErkJggg==\" style=\"height: auto\">\n",
       "              <figcaption style=\"font-size: 0.6em\">0.10%</figcaption>\n",
       "            </figure>\n",
       "        \n",
       "            <figure style=\"margin: 5px !important;\">\n",
       "              <img src=\"data:image/png;base64,iVBORw0KGgoAAAANSUhEUgAAADIAAAAyAQAAAAA2RLUcAAAAGElEQVR4nGNgGJ6A8T+EYoLymXArHVQAALvyAQa/fE4EAAAAAElFTkSuQmCC\" style=\"height: auto\">\n",
       "              <figcaption style=\"font-size: 0.6em\">0.10%</figcaption>\n",
       "            </figure>\n",
       "        \n",
       "            <figure style=\"margin: 5px !important;\">\n",
       "              <img src=\"data:image/png;base64,iVBORw0KGgoAAAANSUhEUgAAADIAAAAyAQAAAAA2RLUcAAAAHUlEQVR4nGNgGJ6A8T+EYoLymdAVHEAVx0XTGwAAMWEBzl3ASq4AAAAASUVORK5CYII=\" style=\"height: auto\">\n",
       "              <figcaption style=\"font-size: 0.6em\">0.10%</figcaption>\n",
       "            </figure>\n",
       "        \n",
       "            <figure style=\"margin: 5px !important;\">\n",
       "              <img src=\"data:image/png;base64,iVBORw0KGgoAAAANSUhEUgAAADIAAAAyAQAAAAA2RLUcAAAAO0lEQVR4nO3KsQ2AIABE0YeNbOGorsYojEBJdzbEWBkH8FWXn5OOarMknR1nBu3uHJlrTB6d6veqfH5eW/wLN3r23EAAAAAASUVORK5CYII=\" style=\"height: auto\">\n",
       "              <figcaption style=\"font-size: 0.6em\">0.10%</figcaption>\n",
       "            </figure>\n",
       "        \n",
       "            <figure style=\"margin: 5px !important;\">\n",
       "              <img src=\"data:image/png;base64,iVBORw0KGgoAAAANSUhEUgAAADIAAAAyAQAAAAA2RLUcAAAAPElEQVR4nO3KsQ2AIABE0SeNbOGorsYojGBJdzbE2OEAvuryc9JRFVPS2XHmoj2dI2OOwatT/T7ZWlk8bnT0C/nddgaWAAAAAElFTkSuQmCC\" style=\"height: auto\">\n",
       "              <figcaption style=\"font-size: 0.6em\">0.10%</figcaption>\n",
       "            </figure>\n",
       "        \n",
       "            <figure style=\"margin: 5px !important;\">\n",
       "              <img src=\"data:image/png;base64,iVBORw0KGgoAAAANSUhEUgAAADIAAAAyAQAAAAA2RLUcAAAAO0lEQVR4nO3KsQ2AIABE0YeNbOGorsYojEBJdzbEWBkH8FWXn5OOarMknR1nBu3uHJlrTB6d6veqfH5eW/wLN3r23EAAAAAASUVORK5CYII=\" style=\"height: auto\">\n",
       "              <figcaption style=\"font-size: 0.6em\">0.10%</figcaption>\n",
       "            </figure>\n",
       "        \n",
       "            <figure style=\"margin: 5px !important;\">\n",
       "              <img src=\"data:image/png;base64,iVBORw0KGgoAAAANSUhEUgAAADIAAAAyAQAAAAA2RLUcAAAAN0lEQVR4nO3IoQ3AIABFwUtN2YJRu1pHYQQk7teQhgGQnHp50lBcpqRx40nn/T81Y8Zg+RTHJh9b0gs2xjO69QAAAABJRU5ErkJggg==\" style=\"height: auto\">\n",
       "              <figcaption style=\"font-size: 0.6em\">0.10%</figcaption>\n",
       "            </figure>\n",
       "        \n",
       "            <figure style=\"margin: 5px !important;\">\n",
       "              <img src=\"data:image/png;base64,iVBORw0KGgoAAAANSUhEUgAAADIAAAAyAQAAAAA2RLUcAAAAPElEQVR4nO3KsQ2AIABE0Rca2cJRWY1RGMGS7mwIsdMBfNXl52SgKpZkcKDlou/OmbnG5NGpft/08nK4AXTSC/joRoYGAAAAAElFTkSuQmCC\" style=\"height: auto\">\n",
       "              <figcaption style=\"font-size: 0.6em\">0.10%</figcaption>\n",
       "            </figure>\n",
       "        \n",
       "            <figure style=\"margin: 5px !important;\">\n",
       "              <img src=\"data:image/png;base64,iVBORw0KGgoAAAANSUhEUgAAADIAAAAyAQAAAAA2RLUcAAAAPElEQVR4nO3KsQ2AIABE0Rca2cJRWY1RGMGS7mwIsdMBfNXl52SgKpZkcKDlou/OmbnG5NGpft/08nK4AXTSC/joRoYGAAAAAElFTkSuQmCC\" style=\"height: auto\">\n",
       "              <figcaption style=\"font-size: 0.6em\">0.10%</figcaption>\n",
       "            </figure>\n",
       "        \n",
       "            <figure style=\"margin: 5px !important;\">\n",
       "              <img src=\"data:image/png;base64,iVBORw0KGgoAAAANSUhEUgAAADIAAAAyAQAAAAA2RLUcAAAAN0lEQVR4nGOwf8DAwFDAwMQABf//P2Bg4GBgYKj//4GBDSHOwCD//wcjhPGD4QCSOET5KKAKAADKGwrmlx15ZgAAAABJRU5ErkJggg==\" style=\"height: auto\">\n",
       "              <figcaption style=\"font-size: 0.6em\">0.10%</figcaption>\n",
       "            </figure>\n",
       "        \n",
       "            <figure style=\"margin: 5px !important;\">\n",
       "              <img src=\"data:image/png;base64,iVBORw0KGgoAAAANSUhEUgAAADIAAAAyAQAAAAA2RLUcAAAAPElEQVR4nO3KsQ2AIABE0Rca2cJRWY1RGMGS7mwIsdMBfNXl52SgKpZkcKDlou/OmbnG5NGpft/08nK4AXTSC/joRoYGAAAAAElFTkSuQmCC\" style=\"height: auto\">\n",
       "              <figcaption style=\"font-size: 0.6em\">0.10%</figcaption>\n",
       "            </figure>\n",
       "        \n",
       "            <figure style=\"margin: 5px !important;\">\n",
       "              <img src=\"data:image/png;base64,iVBORw0KGgoAAAANSUhEUgAAADIAAAAyAQAAAAA2RLUcAAAAPElEQVR4nO3KsQ2AIABE0Rca2cJRWY1RGMGS7mwIsdMBfNXl52SgKpZkcKDlou/OmbnG5NGpft/08nK4AXTSC/joRoYGAAAAAElFTkSuQmCC\" style=\"height: auto\">\n",
       "              <figcaption style=\"font-size: 0.6em\">0.10%</figcaption>\n",
       "            </figure>\n",
       "        \n",
       "            <figure style=\"margin: 5px !important;\">\n",
       "              <img src=\"data:image/png;base64,iVBORw0KGgoAAAANSUhEUgAAADIAAAAyAQAAAAA2RLUcAAAALklEQVR4nGNgIBGwQCgmKJdJGrv4AADGB0j246GZBIhTR2363wcGhgNI4YPVvQBx9gTa5ZCv6gAAAABJRU5ErkJggg==\" style=\"height: auto\">\n",
       "              <figcaption style=\"font-size: 0.6em\">0.07%</figcaption>\n",
       "            </figure>\n",
       "        \n",
       "            <figure style=\"margin: 5px !important;\">\n",
       "              <img src=\"data:image/png;base64,iVBORw0KGgoAAAANSUhEUgAAADIAAAAyAQAAAAA2RLUcAAAALklEQVR4nGNgIBGwQCgmKJdJGrv4AADGB0j246GZBIhTR2363wcGhgNI4YPVvQBx9gTa5ZCv6gAAAABJRU5ErkJggg==\" style=\"height: auto\">\n",
       "              <figcaption style=\"font-size: 0.6em\">0.07%</figcaption>\n",
       "            </figure>\n",
       "        \n",
       "            <figure style=\"margin: 5px !important;\">\n",
       "              <img src=\"data:image/png;base64,iVBORw0KGgoAAAANSUhEUgAAADIAAAAyAQAAAAA2RLUcAAAAJklEQVR4nGNgGDaA8QEDAwMTlIOHZhIgTh216X8fGBgOwPi43AsAPDkEsWm0YJEAAAAASUVORK5CYII=\" style=\"height: auto\">\n",
       "              <figcaption style=\"font-size: 0.6em\">0.07%</figcaption>\n",
       "            </figure>\n",
       "        \n",
       "            <figure style=\"margin: 5px !important;\">\n",
       "              <img src=\"data:image/png;base64,iVBORw0KGgoAAAANSUhEUgAAADIAAAAyAQAAAAA2RLUcAAAAJ0lEQVR4nGNgGDaA8QEDAwMTlIOHZhIgTh016QNMDAz/PiCJ43IvAEI5BLFkdsTWAAAAAElFTkSuQmCC\" style=\"height: auto\">\n",
       "              <figcaption style=\"font-size: 0.6em\">0.07%</figcaption>\n",
       "            </figure>\n",
       "        \n",
       "            <figure style=\"margin: 5px !important;\">\n",
       "              <img src=\"data:image/png;base64,iVBORw0KGgoAAAANSUhEUgAAADIAAAAyAQAAAAA2RLUcAAAAHUlEQVR4nGP4//////8HGJgYIABGjwKagAOEwhcAAeYGgkqG2VwAAAAASUVORK5CYII=\" style=\"height: auto\">\n",
       "              <figcaption style=\"font-size: 0.6em\">0.07%</figcaption>\n",
       "            </figure>\n",
       "        \n",
       "            <figure style=\"margin: 5px !important;\">\n",
       "              <img src=\"data:image/png;base64,iVBORw0KGgoAAAANSUhEUgAAADIAAAAyAQAAAAA2RLUcAAAALklEQVR4nGNgIBGwQCgmKJdJGrv4AADGB0j246GZBIhTR2363wcGhgNI4YPVvQBx9gTa5ZCv6gAAAABJRU5ErkJggg==\" style=\"height: auto\">\n",
       "              <figcaption style=\"font-size: 0.6em\">0.07%</figcaption>\n",
       "            </figure>\n",
       "        \n",
       "            <figure style=\"margin: 5px !important;\">\n",
       "              <img src=\"data:image/png;base64,iVBORw0KGgoAAAANSUhEUgAAADIAAAAyAQAAAAA2RLUcAAAAJklEQVR4nGNgGDaA8QEDAwMTlIOHZhIgTh216X8fGBgOwPi43AsAPDkEsWm0YJEAAAAASUVORK5CYII=\" style=\"height: auto\">\n",
       "              <figcaption style=\"font-size: 0.6em\">0.07%</figcaption>\n",
       "            </figure>\n",
       "        \n",
       "            <figure style=\"margin: 5px !important;\">\n",
       "              <img src=\"data:image/png;base64,iVBORw0KGgoAAAANSUhEUgAAADIAAAAyAQAAAAA2RLUcAAAAJklEQVR4nGNgGDaA8QEDAwMTlIOHZhIgTh216X8fGBgOwPi43AsAPDkEsWm0YJEAAAAASUVORK5CYII=\" style=\"height: auto\">\n",
       "              <figcaption style=\"font-size: 0.6em\">0.07%</figcaption>\n",
       "            </figure>\n",
       "        \n",
       "            <figure style=\"margin: 5px !important;\">\n",
       "              <img src=\"data:image/png;base64,iVBORw0KGgoAAAANSUhEUgAAADIAAAAyAQAAAAA2RLUcAAAAHUlEQVR4nGP4//////8HGJgYIABGjwKagAOEwhcAAeYGgkqG2VwAAAAASUVORK5CYII=\" style=\"height: auto\">\n",
       "              <figcaption style=\"font-size: 0.6em\">0.07%</figcaption>\n",
       "            </figure>\n",
       "        \n",
       "            <figure style=\"margin: 5px !important;\">\n",
       "              <img src=\"data:image/png;base64,iVBORw0KGgoAAAANSUhEUgAAADIAAAAyAQAAAAA2RLUcAAAAHUlEQVR4nGP8z8DAwPCfiYkBAmD0IAYNA+0AWgIAkNYChuiBofMAAAAASUVORK5CYII=\" style=\"height: auto\">\n",
       "              <figcaption style=\"font-size: 0.6em\">0.07%</figcaption>\n",
       "            </figure>\n",
       "        \n",
       "            <figure style=\"margin: 5px !important;\">\n",
       "              <img src=\"data:image/png;base64,iVBORw0KGgoAAAANSUhEUgAAADIAAAAyAQAAAAA2RLUcAAAAJklEQVR4nGNgGDaA8QEDAwMTlIOHZhIgTh216X8fGBgOwPi43AsAPDkEsWm0YJEAAAAASUVORK5CYII=\" style=\"height: auto\">\n",
       "              <figcaption style=\"font-size: 0.6em\">0.07%</figcaption>\n",
       "            </figure>\n",
       "        \n",
       "            <figure style=\"margin: 5px !important;\">\n",
       "              <img src=\"data:image/png;base64,iVBORw0KGgoAAAANSUhEUgAAADIAAAAyAQAAAAA2RLUcAAAAJklEQVR4nGNgGDaA8QEDAwMTlIOHZhIgTh216X8fGBgOwPi43AsAPDkEsWm0YJEAAAAASUVORK5CYII=\" style=\"height: auto\">\n",
       "              <figcaption style=\"font-size: 0.6em\">0.07%</figcaption>\n",
       "            </figure>\n",
       "        \n",
       "            <figure style=\"margin: 5px !important;\">\n",
       "              <img src=\"data:image/png;base64,iVBORw0KGgoAAAANSUhEUgAAADIAAAAyAQAAAAA2RLUcAAAAHUlEQVR4nGP4//////8HGJgYIABGjwKagAOEwhcAAeYGgkqG2VwAAAAASUVORK5CYII=\" style=\"height: auto\">\n",
       "              <figcaption style=\"font-size: 0.6em\">0.07%</figcaption>\n",
       "            </figure>\n",
       "        \n",
       "            <figure style=\"margin: 5px !important;\">\n",
       "              <img src=\"data:image/png;base64,iVBORw0KGgoAAAANSUhEUgAAADIAAAAyAQAAAAA2RLUcAAAAHUlEQVR4nGP8z8DAwPCfiYkBAmD0IAYNA+0AWgIAkNYChuiBofMAAAAASUVORK5CYII=\" style=\"height: auto\">\n",
       "              <figcaption style=\"font-size: 0.6em\">0.07%</figcaption>\n",
       "            </figure>\n",
       "        \n",
       "            <figure style=\"margin: 5px !important;\">\n",
       "              <img src=\"data:image/png;base64,iVBORw0KGgoAAAANSUhEUgAAADIAAAAyAQAAAAA2RLUcAAAAJklEQVR4nGNgGDaA8QEDAwMTlIOHZhIgTh216X8fGBgOwPi43AsAPDkEsWm0YJEAAAAASUVORK5CYII=\" style=\"height: auto\">\n",
       "              <figcaption style=\"font-size: 0.6em\">0.07%</figcaption>\n",
       "            </figure>\n",
       "        \n",
       "            <figure style=\"margin: 5px !important;\">\n",
       "              <img src=\"data:image/png;base64,iVBORw0KGgoAAAANSUhEUgAAADIAAAAyAQAAAAA2RLUcAAAAJklEQVR4nGNgGDaA8QEDAwMTlIOHZhIgTh216X8fGBgOwPi43AsAPDkEsWm0YJEAAAAASUVORK5CYII=\" style=\"height: auto\">\n",
       "              <figcaption style=\"font-size: 0.6em\">0.07%</figcaption>\n",
       "            </figure>\n",
       "        \n",
       "            <figure style=\"margin: 5px !important;\">\n",
       "              <img src=\"data:image/png;base64,iVBORw0KGgoAAAANSUhEUgAAADIAAAAyAQAAAAA2RLUcAAAAHklEQVR4nGNgoBF4AKGYGEZpBgbGAxD6P1wcV/gAAJTHA8u4QXeWAAAAAElFTkSuQmCC\" style=\"height: auto\">\n",
       "              <figcaption style=\"font-size: 0.6em\">0.07%</figcaption>\n",
       "            </figure>\n",
       "        \n",
       "            <figure style=\"margin: 5px !important;\">\n",
       "              <img src=\"data:image/png;base64,iVBORw0KGgoAAAANSUhEUgAAADIAAAAyAQAAAAA2RLUcAAAAHUlEQVR4nGP4//////8HGJgYIABGjwKagAOEwhcAAeYGgkqG2VwAAAAASUVORK5CYII=\" style=\"height: auto\">\n",
       "              <figcaption style=\"font-size: 0.6em\">0.07%</figcaption>\n",
       "            </figure>\n",
       "        \n",
       "            <figure style=\"margin: 5px !important;\">\n",
       "              <img src=\"data:image/png;base64,iVBORw0KGgoAAAANSUhEUgAAADIAAAAyAQAAAAA2RLUcAAAAHUlEQVR4nGP4//////8HGJgYIABGjwKagAOEwhcAAeYGgkqG2VwAAAAASUVORK5CYII=\" style=\"height: auto\">\n",
       "              <figcaption style=\"font-size: 0.6em\">0.07%</figcaption>\n",
       "            </figure>\n",
       "        \n",
       "            <figure style=\"margin: 5px !important;\">\n",
       "              <img src=\"data:image/png;base64,iVBORw0KGgoAAAANSUhEUgAAADIAAAAyAQAAAAA2RLUcAAAAHUlEQVR4nGP4//////8HGJgYIABGjwKagAOEwhcAAeYGgkqG2VwAAAAASUVORK5CYII=\" style=\"height: auto\">\n",
       "              <figcaption style=\"font-size: 0.6em\">0.07%</figcaption>\n",
       "            </figure>\n",
       "        \n",
       "            <figure style=\"margin: 5px !important;\">\n",
       "              <img src=\"data:image/png;base64,iVBORw0KGgoAAAANSUhEUgAAADIAAAAyAQAAAAA2RLUcAAAAJElEQVR4nGNgoAo4AKEYGZjQxJkwlA4T8P//////G+D+pZY/AbTmBwWzHGmFAAAAAElFTkSuQmCC\" style=\"height: auto\">\n",
       "              <figcaption style=\"font-size: 0.6em\">0.07%</figcaption>\n",
       "            </figure>\n",
       "        \n",
       "            <figure style=\"margin: 5px !important;\">\n",
       "              <img src=\"data:image/png;base64,iVBORw0KGgoAAAANSUhEUgAAADIAAAAyAQAAAAA2RLUcAAAAGUlEQVR4nGNgYGBgYGA8wMQAAaM0eTS1AABzqQES1L5eBAAAAABJRU5ErkJggg==\" style=\"height: auto\">\n",
       "              <figcaption style=\"font-size: 0.6em\">0.07%</figcaption>\n",
       "            </figure>\n",
       "        \n",
       "            <figure style=\"margin: 5px !important;\">\n",
       "              <img src=\"data:image/png;base64,iVBORw0KGgoAAAANSUhEUgAAADIAAAAyAQAAAAA2RLUcAAAAIUlEQVR4nGNgGDaA8QEDAwMTlIOHZhIgTh216X8fiFAHABIUAxJdn8vRAAAAAElFTkSuQmCC\" style=\"height: auto\">\n",
       "              <figcaption style=\"font-size: 0.6em\">0.07%</figcaption>\n",
       "            </figure>\n",
       "        \n",
       "            <figure style=\"margin: 5px !important;\">\n",
       "              <img src=\"data:image/png;base64,iVBORw0KGgoAAAANSUhEUgAAADIAAAAyAQAAAAA2RLUcAAAAHklEQVR4nGNgoBF4AKGYGEZpBgbGAxD6P1wcV/gAAJTHA8u4QXeWAAAAAElFTkSuQmCC\" style=\"height: auto\">\n",
       "              <figcaption style=\"font-size: 0.6em\">0.07%</figcaption>\n",
       "            </figure>\n",
       "        \n",
       "            <figure style=\"margin: 5px !important;\">\n",
       "              <img src=\"data:image/png;base64,iVBORw0KGgoAAAANSUhEUgAAADIAAAAyAQAAAAA2RLUcAAAAG0lEQVR4nGNgoBF4AKGYGEZpBgaGA+jiuMIHAHK/AsuCz0+pAAAAAElFTkSuQmCC\" style=\"height: auto\">\n",
       "              <figcaption style=\"font-size: 0.6em\">0.07%</figcaption>\n",
       "            </figure>\n",
       "        \n",
       "            <figure style=\"margin: 5px !important;\">\n",
       "              <img src=\"data:image/png;base64,iVBORw0KGgoAAAANSUhEUgAAADIAAAAyAQAAAAA2RLUcAAAAHUlEQVR4nGP4//////8HGJgYIABGjwKagAOEwhcAAeYGgkqG2VwAAAAASUVORK5CYII=\" style=\"height: auto\">\n",
       "              <figcaption style=\"font-size: 0.6em\">0.07%</figcaption>\n",
       "            </figure>\n",
       "        \n",
       "            <figure style=\"margin: 5px !important;\">\n",
       "              <img src=\"data:image/png;base64,iVBORw0KGgoAAAANSUhEUgAAADIAAAAyAQAAAAA2RLUcAAAAHUlEQVR4nGP4//////8HGJgYIABGjwKagAOEwhcAAeYGgkqG2VwAAAAASUVORK5CYII=\" style=\"height: auto\">\n",
       "              <figcaption style=\"font-size: 0.6em\">0.07%</figcaption>\n",
       "            </figure>\n",
       "        \n",
       "            <figure style=\"margin: 5px !important;\">\n",
       "              <img src=\"data:image/png;base64,iVBORw0KGgoAAAANSUhEUgAAADIAAAAyAQAAAAA2RLUcAAAAGUlEQVR4nGNgYGBgYGA8wMQAAaM0eTS1AABzqQES1L5eBAAAAABJRU5ErkJggg==\" style=\"height: auto\">\n",
       "              <figcaption style=\"font-size: 0.6em\">0.07%</figcaption>\n",
       "            </figure>\n",
       "        \n",
       "            <figure style=\"margin: 5px !important;\">\n",
       "              <img src=\"data:image/png;base64,iVBORw0KGgoAAAANSUhEUgAAADIAAAAyAQAAAAA2RLUcAAAAGUlEQVR4nGNgYGBgYGA8wMQAAaM0eTS1AABzqQES1L5eBAAAAABJRU5ErkJggg==\" style=\"height: auto\">\n",
       "              <figcaption style=\"font-size: 0.6em\">0.07%</figcaption>\n",
       "            </figure>\n",
       "        \n",
       "            <figure style=\"margin: 5px !important;\">\n",
       "              <img src=\"data:image/png;base64,iVBORw0KGgoAAAANSUhEUgAAADIAAAAyAQAAAAA2RLUcAAAAGUlEQVR4nGNgYGBgYGA8wMQAAaM0eTS1AABzqQES1L5eBAAAAABJRU5ErkJggg==\" style=\"height: auto\">\n",
       "              <figcaption style=\"font-size: 0.6em\">0.07%</figcaption>\n",
       "            </figure>\n",
       "        \n",
       "            <figure style=\"margin: 5px !important;\">\n",
       "              <img src=\"data:image/png;base64,iVBORw0KGgoAAAANSUhEUgAAADIAAAAyAQAAAAA2RLUcAAAAGUlEQVR4nGNgoBF4AKGYGEYkfYCQOlzhAwB+vwLLscLn5gAAAABJRU5ErkJggg==\" style=\"height: auto\">\n",
       "              <figcaption style=\"font-size: 0.6em\">0.07%</figcaption>\n",
       "            </figure>\n",
       "        \n",
       "            <figure style=\"margin: 5px !important;\">\n",
       "              <img src=\"data:image/png;base64,iVBORw0KGgoAAAANSUhEUgAAADIAAAAyAQAAAAA2RLUcAAAAHUlEQVR4nGP4//////8HGJgYIABGjwKagAOEwhcAAeYGgkqG2VwAAAAASUVORK5CYII=\" style=\"height: auto\">\n",
       "              <figcaption style=\"font-size: 0.6em\">0.07%</figcaption>\n",
       "            </figure>\n",
       "        \n",
       "            <figure style=\"margin: 5px !important;\">\n",
       "              <img src=\"data:image/png;base64,iVBORw0KGgoAAAANSUhEUgAAADIAAAAyAQAAAAA2RLUcAAAAHklEQVR4nGP4//////8HGJgYIABGjwJaAMYDhMIXAAIIBoNGFbnMAAAAAElFTkSuQmCC\" style=\"height: auto\">\n",
       "              <figcaption style=\"font-size: 0.6em\">0.07%</figcaption>\n",
       "            </figure>\n",
       "        \n",
       "            <figure style=\"margin: 5px !important;\">\n",
       "              <img src=\"data:image/png;base64,iVBORw0KGgoAAAANSUhEUgAAADIAAAAyAQAAAAA2RLUcAAAAGUlEQVR4nGNgYGBgYGA8wMQAAaM0eTS1AABzqQES1L5eBAAAAABJRU5ErkJggg==\" style=\"height: auto\">\n",
       "              <figcaption style=\"font-size: 0.6em\">0.07%</figcaption>\n",
       "            </figure>\n",
       "        \n",
       "            <figure style=\"margin: 5px !important;\">\n",
       "              <img src=\"data:image/png;base64,iVBORw0KGgoAAAANSUhEUgAAADIAAAAyAQAAAAA2RLUcAAAAGUlEQVR4nGNgYGBgYGA8wMQAAaM0eTS1AABzqQES1L5eBAAAAABJRU5ErkJggg==\" style=\"height: auto\">\n",
       "              <figcaption style=\"font-size: 0.6em\">0.07%</figcaption>\n",
       "            </figure>\n",
       "        \n",
       "            <figure style=\"margin: 5px !important;\">\n",
       "              <img src=\"data:image/png;base64,iVBORw0KGgoAAAANSUhEUgAAADIAAAAyAQAAAAA2RLUcAAAAHUlEQVR4nGP4//////8HGJgYIABGjwKqggPEhi8ACDYGhA4Li7UAAAAASUVORK5CYII=\" style=\"height: auto\">\n",
       "              <figcaption style=\"font-size: 0.6em\">0.07%</figcaption>\n",
       "            </figure>\n",
       "        \n",
       "            <figure style=\"margin: 5px !important;\">\n",
       "              <img src=\"data:image/png;base64,iVBORw0KGgoAAAANSUhEUgAAADIAAAAyAQAAAAA2RLUcAAAAHUlEQVR4nGP4//////8HGJgYIABGjwKagAOEwhcAAeYGgkqG2VwAAAAASUVORK5CYII=\" style=\"height: auto\">\n",
       "              <figcaption style=\"font-size: 0.6em\">0.07%</figcaption>\n",
       "            </figure>\n",
       "        \n",
       "            <figure style=\"margin: 5px !important;\">\n",
       "              <img src=\"data:image/png;base64,iVBORw0KGgoAAAANSUhEUgAAADIAAAAyAQAAAAA2RLUcAAAAHklEQVR4nGP4//////8HGJgYIABGjwJaAMYDhMIXAAIIBoNGFbnMAAAAAElFTkSuQmCC\" style=\"height: auto\">\n",
       "              <figcaption style=\"font-size: 0.6em\">0.07%</figcaption>\n",
       "            </figure>\n",
       "        \n",
       "            <figure style=\"margin: 5px !important;\">\n",
       "              <img src=\"data:image/png;base64,iVBORw0KGgoAAAANSUhEUgAAADIAAAAyAQAAAAA2RLUcAAAAHUlEQVR4nGP4//////8HGJgYIABGjwKagAOEwhcAAeYGgkqG2VwAAAAASUVORK5CYII=\" style=\"height: auto\">\n",
       "              <figcaption style=\"font-size: 0.6em\">0.07%</figcaption>\n",
       "            </figure>\n",
       "        \n",
       "            <figure style=\"margin: 5px !important;\">\n",
       "              <img src=\"data:image/png;base64,iVBORw0KGgoAAAANSUhEUgAAADIAAAAyAQAAAAA2RLUcAAAANUlEQVR4nGP4/4CBgYGBgYkBCv7//wBh1P//gyzOwCD//x+Ewf8PRZyBgY1hFBAHDjARUAAAarsLP2ZLAsAAAAAASUVORK5CYII=\" style=\"height: auto\">\n",
       "              <figcaption style=\"font-size: 0.6em\">0.07%</figcaption>\n",
       "            </figure>\n",
       "        \n",
       "            <figure style=\"margin: 5px !important;\">\n",
       "              <img src=\"data:image/png;base64,iVBORw0KGgoAAAANSUhEUgAAADIAAAAyAQAAAAA2RLUcAAAAM0lEQVR4nGP4/4CBgYGBgYkBCv5DBRjq/39AFmdgkP//A8r4gSLOwMDBMAqIAweYCCgAAEldCylPnZ8aAAAAAElFTkSuQmCC\" style=\"height: auto\">\n",
       "              <figcaption style=\"font-size: 0.6em\">0.07%</figcaption>\n",
       "            </figure>\n",
       "        \n",
       "            <figure style=\"margin: 5px !important;\">\n",
       "              <img src=\"data:image/png;base64,iVBORw0KGgoAAAANSUhEUgAAADIAAAAyAQAAAAA2RLUcAAAAHUlEQVR4nGP4//////8HGJgYIABGjwKqggPEhi8ACDYGhA4Li7UAAAAASUVORK5CYII=\" style=\"height: auto\">\n",
       "              <figcaption style=\"font-size: 0.6em\">0.07%</figcaption>\n",
       "            </figure>\n",
       "        \n",
       "            <figure style=\"margin: 5px !important;\">\n",
       "              <img src=\"data:image/png;base64,iVBORw0KGgoAAAANSUhEUgAAADIAAAAyAQAAAAA2RLUcAAAAHUlEQVR4nGP4//////8HGJgYIABGjwKagAOEwhcAAeYGgkqG2VwAAAAASUVORK5CYII=\" style=\"height: auto\">\n",
       "              <figcaption style=\"font-size: 0.6em\">0.07%</figcaption>\n",
       "            </figure>\n",
       "        \n",
       "            <figure style=\"margin: 5px !important;\">\n",
       "              <img src=\"data:image/png;base64,iVBORw0KGgoAAAANSUhEUgAAADIAAAAyAQAAAAA2RLUcAAAAM0lEQVR4nGP4/4CBgYGBgYkBCv5DBRjq/39AFmdgkP//A8r4gSLOwMDBMAqIAweYCCgAAEldCylPnZ8aAAAAAElFTkSuQmCC\" style=\"height: auto\">\n",
       "              <figcaption style=\"font-size: 0.6em\">0.07%</figcaption>\n",
       "            </figure>\n",
       "        \n",
       "            <figure style=\"margin: 5px !important;\">\n",
       "              <img src=\"data:image/png;base64,iVBORw0KGgoAAAANSUhEUgAAADIAAAAyAQAAAAA2RLUcAAAANElEQVR4nGP4/4CBgYGBgYkBCv5DBRjq/39AFmdgkP//A8r4gSLOwMDBMAqIAowHmAioAABJfwsqMiSuUwAAAABJRU5ErkJggg==\" style=\"height: auto\">\n",
       "              <figcaption style=\"font-size: 0.6em\">0.07%</figcaption>\n",
       "            </figure>\n",
       "        \n",
       "            <figure style=\"margin: 5px !important;\">\n",
       "              <img src=\"data:image/png;base64,iVBORw0KGgoAAAANSUhEUgAAADIAAAAyAQAAAAA2RLUcAAAAHUlEQVR4nGP4//////8HGJgYIABGjwKagAOEwhcAAeYGgkqG2VwAAAAASUVORK5CYII=\" style=\"height: auto\">\n",
       "              <figcaption style=\"font-size: 0.6em\">0.07%</figcaption>\n",
       "            </figure>\n",
       "        \n",
       "            <figure style=\"margin: 5px !important;\">\n",
       "              <img src=\"data:image/png;base64,iVBORw0KGgoAAAANSUhEUgAAADIAAAAyAQAAAAA2RLUcAAAAH0lEQVR4nGP8z8DAwMDAyMQAATB6EIEEBoZB6S6aAADy6QFop9VqpQAAAABJRU5ErkJggg==\" style=\"height: auto\">\n",
       "              <figcaption style=\"font-size: 0.6em\">0.07%</figcaption>\n",
       "            </figure>\n",
       "        \n",
       "            <figure style=\"margin: 5px !important;\">\n",
       "              <img src=\"data:image/png;base64,iVBORw0KGgoAAAANSUhEUgAAADIAAAAyAQAAAAA2RLUcAAAAHUlEQVR4nGP4//////8HGJgYIABGjwKagAOEwhcAAeYGgkqG2VwAAAAASUVORK5CYII=\" style=\"height: auto\">\n",
       "              <figcaption style=\"font-size: 0.6em\">0.07%</figcaption>\n",
       "            </figure>\n",
       "        \n",
       "            <figure style=\"margin: 5px !important;\">\n",
       "              <img src=\"data:image/png;base64,iVBORw0KGgoAAAANSUhEUgAAADIAAAAyAQAAAAA2RLUcAAAAH0lEQVR4nGP8z8DAwMDAyMQAATB6EIEEBoZB6S6aAADy6QFop9VqpQAAAABJRU5ErkJggg==\" style=\"height: auto\">\n",
       "              <figcaption style=\"font-size: 0.6em\">0.07%</figcaption>\n",
       "            </figure>\n",
       "        \n",
       "            <figure style=\"margin: 5px !important;\">\n",
       "              <img src=\"data:image/png;base64,iVBORw0KGgoAAAANSUhEUgAAADIAAAAyAQAAAAA2RLUcAAAAH0lEQVR4nGP8z8DAwMBwkIkBAmD0IAIJDAyD0l00AQAZxwIokIflzgAAAABJRU5ErkJggg==\" style=\"height: auto\">\n",
       "              <figcaption style=\"font-size: 0.6em\">0.07%</figcaption>\n",
       "            </figure>\n",
       "        \n",
       "            <figure style=\"margin: 5px !important;\">\n",
       "              <img src=\"data:image/png;base64,iVBORw0KGgoAAAANSUhEUgAAADIAAAAyAQAAAAA2RLUcAAAAJElEQVR4nGM4wMDAwMDAwMSASjM8wC4+COiGQe4+7DQO96IDAAmsBDt8bwCDAAAAAElFTkSuQmCC\" style=\"height: auto\">\n",
       "              <figcaption style=\"font-size: 0.6em\">0.07%</figcaption>\n",
       "            </figure>\n",
       "        \n",
       "            <figure style=\"margin: 5px !important;\">\n",
       "              <img src=\"data:image/png;base64,iVBORw0KGgoAAAANSUhEUgAAADIAAAAyAQAAAAA2RLUcAAAAI0lEQVR4nGM4wMDAwMDAwMSASjM8wC4+COiGQe4+4mgc7gcA+80EP+SXozsAAAAASUVORK5CYII=\" style=\"height: auto\">\n",
       "              <figcaption style=\"font-size: 0.6em\">0.07%</figcaption>\n",
       "            </figure>\n",
       "        \n",
       "            <figure style=\"margin: 5px !important;\">\n",
       "              <img src=\"data:image/png;base64,iVBORw0KGgoAAAANSUhEUgAAADIAAAAyAQAAAAA2RLUcAAAAH0lEQVR4nGP8z8DAwMBwkIkBAmD0IAIJDAyD0l00AQAZxwIokIflzgAAAABJRU5ErkJggg==\" style=\"height: auto\">\n",
       "              <figcaption style=\"font-size: 0.6em\">0.07%</figcaption>\n",
       "            </figure>\n",
       "        \n",
       "            <figure style=\"margin: 5px !important;\">\n",
       "              <img src=\"data:image/png;base64,iVBORw0KGgoAAAANSUhEUgAAADIAAAAyAQAAAAA2RLUcAAAAI0lEQVR4nGM4wMDAwMDAwMSASjM8wC4+COiGQe4+4mgc7gcA+80EP+SXozsAAAAASUVORK5CYII=\" style=\"height: auto\">\n",
       "              <figcaption style=\"font-size: 0.6em\">0.07%</figcaption>\n",
       "            </figure>\n",
       "        \n",
       "            <figure style=\"margin: 5px !important;\">\n",
       "              <img src=\"data:image/png;base64,iVBORw0KGgoAAAANSUhEUgAAADIAAAAyAQAAAAA2RLUcAAAAHUlEQVR4nGP8z8DAwMBwkIkBAmD0IAYNA+0AWgIALZcCRsTiQwAAAAAASUVORK5CYII=\" style=\"height: auto\">\n",
       "              <figcaption style=\"font-size: 0.6em\">0.07%</figcaption>\n",
       "            </figure>\n",
       "        \n",
       "            <figure style=\"margin: 5px !important;\">\n",
       "              <img src=\"data:image/png;base64,iVBORw0KGgoAAAANSUhEUgAAADIAAAAyAQAAAAA2RLUcAAAAH0lEQVR4nGP8z8DAwMDAyMQAATB6EIEEBoZB6S6aAADy6QFop9VqpQAAAABJRU5ErkJggg==\" style=\"height: auto\">\n",
       "              <figcaption style=\"font-size: 0.6em\">0.07%</figcaption>\n",
       "            </figure>\n",
       "        \n",
       "            <figure style=\"margin: 5px !important;\">\n",
       "              <img src=\"data:image/png;base64,iVBORw0KGgoAAAANSUhEUgAAADIAAAAyAQAAAAA2RLUcAAAAHUlEQVR4nGN4wMDAwMDAwMQwaOkEZD7D4HcvRTQAxZ4CgZ9Z8jQAAAAASUVORK5CYII=\" style=\"height: auto\">\n",
       "              <figcaption style=\"font-size: 0.6em\">0.07%</figcaption>\n",
       "            </figure>\n",
       "        \n",
       "            <figure style=\"margin: 5px !important;\">\n",
       "              <img src=\"data:image/png;base64,iVBORw0KGgoAAAANSUhEUgAAADIAAAAyAQAAAAA2RLUcAAAAKElEQVR4nGNg+P+/gYGBgYkBAhD0QxYGrOIDTjeg0QPtHjJp+T/YxAFrPwXhVc/c/AAAAABJRU5ErkJggg==\" style=\"height: auto\">\n",
       "              <figcaption style=\"font-size: 0.6em\">0.03%</figcaption>\n",
       "            </figure>\n",
       "        \n",
       "            <figure style=\"margin: 5px !important;\">\n",
       "              <img src=\"data:image/png;base64,iVBORw0KGgoAAAANSUhEUgAAADIAAAAyAQAAAAA2RLUcAAAAIklEQVR4nGNgYP/fwMDAwMQAAUg0CwN28VEaQv/BJk4pAAAB4gLZOb81mAAAAABJRU5ErkJggg==\" style=\"height: auto\">\n",
       "              <figcaption style=\"font-size: 0.6em\">0.03%</figcaption>\n",
       "            </figure>\n",
       "        \n",
       "            <figure style=\"margin: 5px !important;\">\n",
       "              <img src=\"data:image/png;base64,iVBORw0KGgoAAAANSUhEUgAAADIAAAAyAQAAAAA2RLUcAAAAKElEQVR4nGNg+P+/gYGBgYkBAhD0QxYGrOIDTjeg0QPtHjJp+T/YxAFrPwXhVc/c/AAAAABJRU5ErkJggg==\" style=\"height: auto\">\n",
       "              <figcaption style=\"font-size: 0.6em\">0.03%</figcaption>\n",
       "            </figure>\n",
       "        \n",
       "            <figure style=\"margin: 5px !important;\">\n",
       "              <img src=\"data:image/png;base64,iVBORw0KGgoAAAANSUhEUgAAADIAAAAyAQAAAAA2RLUcAAAAMUlEQVR4nGP8z8DAwMBwkIkBApgOMjIyMjIywPmDj25gYGBgYDgAIQeBeyiiGdHCHwDuWgan4qt1AgAAAABJRU5ErkJggg==\" style=\"height: auto\">\n",
       "              <figcaption style=\"font-size: 0.6em\">0.03%</figcaption>\n",
       "            </figure>\n",
       "        \n",
       "            <figure style=\"margin: 5px !important;\">\n",
       "              <img src=\"data:image/png;base64,iVBORw0KGgoAAAANSUhEUgAAADIAAAAyAQAAAAA2RLUcAAAAIklEQVR4nGNgoDeo/8fAwMDABOXhpv8qEKduqNDMD4hRBwAEVQPEm8Or9gAAAABJRU5ErkJggg==\" style=\"height: auto\">\n",
       "              <figcaption style=\"font-size: 0.6em\">0.03%</figcaption>\n",
       "            </figure>\n",
       "        \n",
       "            <figure style=\"margin: 5px !important;\">\n",
       "              <img src=\"data:image/png;base64,iVBORw0KGgoAAAANSUhEUgAAADIAAAAyAQAAAAA2RLUcAAAAHklEQVR4nGNgGHKgAauo/P////9/YGCCcnHRgx0AAFLTBZTiPh8RAAAAAElFTkSuQmCC\" style=\"height: auto\">\n",
       "              <figcaption style=\"font-size: 0.6em\">0.03%</figcaption>\n",
       "            </figure>\n",
       "        \n",
       "            <figure style=\"margin: 5px !important;\">\n",
       "              <img src=\"data:image/png;base64,iVBORw0KGgoAAAANSUhEUgAAADIAAAAyAQAAAAA2RLUcAAAAM0lEQVR4nGP8z8DAwMBwkIkBApgOMjIyMjIywPmDj25gYGBgYDgAIQeBe8iiGaHhzoAGAPwiBqNtmXtbAAAAAElFTkSuQmCC\" style=\"height: auto\">\n",
       "              <figcaption style=\"font-size: 0.6em\">0.03%</figcaption>\n",
       "            </figure>\n",
       "        \n",
       "            <figure style=\"margin: 5px !important;\">\n",
       "              <img src=\"data:image/png;base64,iVBORw0KGgoAAAANSUhEUgAAADIAAAAyAQAAAAA2RLUcAAAAKElEQVR4nGNgGCzg//8GBgYGJigPQT9kQeUzNKDRDIOblv+DTRwXAACNIQW5ViefiwAAAABJRU5ErkJggg==\" style=\"height: auto\">\n",
       "              <figcaption style=\"font-size: 0.6em\">0.03%</figcaption>\n",
       "            </figure>\n",
       "        \n",
       "            <figure style=\"margin: 5px !important;\">\n",
       "              <img src=\"data:image/png;base64,iVBORw0KGgoAAAANSUhEUgAAADIAAAAyAQAAAAA2RLUcAAAAJUlEQVR4nGP8z8DAwMBwkIkBAuD0Q0ZGRkYmOH8QgYaBdgAtAQCFwwMxyQYSVQAAAABJRU5ErkJggg==\" style=\"height: auto\">\n",
       "              <figcaption style=\"font-size: 0.6em\">0.03%</figcaption>\n",
       "            </figure>\n",
       "        \n",
       "            <figure style=\"margin: 5px !important;\">\n",
       "              <img src=\"data:image/png;base64,iVBORw0KGgoAAAANSUhEUgAAADIAAAAyAQAAAAA2RLUcAAAALElEQVR4nGP4/////wYGBiYGCGA6yMjIxIDEH3x0Axo9MO6w////HxKfWgAAU/gJzbjC+OQAAAAASUVORK5CYII=\" style=\"height: auto\">\n",
       "              <figcaption style=\"font-size: 0.6em\">0.03%</figcaption>\n",
       "            </figure>\n",
       "        \n",
       "            <figure style=\"margin: 5px !important;\">\n",
       "              <img src=\"data:image/png;base64,iVBORw0KGgoAAAANSUhEUgAAADIAAAAyAQAAAAA2RLUcAAAAK0lEQVR4nGNgGDxA/v//A0xQNjL9l5EJmd8AUy/DwIiinvn/PwZ0/UMNAACI4wdN3ggu7wAAAABJRU5ErkJggg==\" style=\"height: auto\">\n",
       "              <figcaption style=\"font-size: 0.6em\">0.03%</figcaption>\n",
       "            </figure>\n",
       "        \n",
       "            <figure style=\"margin: 5px !important;\">\n",
       "              <img src=\"data:image/png;base64,iVBORw0KGgoAAAANSUhEUgAAADIAAAAyAQAAAAA2RLUcAAAALklEQVR4nGP4//////8NDEwMEMB0kJGRkYkBwR98dAMajV+9/f////8h+IMdAACa4gu2Crb4LQAAAABJRU5ErkJggg==\" style=\"height: auto\">\n",
       "              <figcaption style=\"font-size: 0.6em\">0.03%</figcaption>\n",
       "            </figure>\n",
       "        \n",
       "            <figure style=\"margin: 5px !important;\">\n",
       "              <img src=\"data:image/png;base64,iVBORw0KGgoAAAANSUhEUgAAADIAAAAyAQAAAAA2RLUcAAAAGUlEQVR4nGNgYGBgYGA/wMQAAaM0eTS1AAB85QEYPEBnGgAAAABJRU5ErkJggg==\" style=\"height: auto\">\n",
       "              <figcaption style=\"font-size: 0.6em\">0.03%</figcaption>\n",
       "            </figure>\n",
       "        \n",
       "            <figure style=\"margin: 5px !important;\">\n",
       "              <img src=\"data:image/png;base64,iVBORw0KGgoAAAANSUhEUgAAADIAAAAyAQAAAAA2RLUcAAAAgElEQVR4nF2MsQ3CUAwF7zsopIioaYA1qBCLJGIghvijZISMQJnSJaKisBXycGPf+ekBwB1jM8WD23n1BtBNATfUf3JfkZ7imrM5dj9p7pz/EfHFg82RnmeN84D6f37k6eqb5F3derjkf0D9O7hZxBtVc/v0RzR3kpqfX3K/1H8B5EwTpEYGwYAAAAAASUVORK5CYII=\" style=\"height: auto\">\n",
       "              <figcaption style=\"font-size: 0.6em\">0.03%</figcaption>\n",
       "            </figure>\n",
       "        \n",
       "            <figure style=\"margin: 5px !important;\">\n",
       "              <img src=\"data:image/png;base64,iVBORw0KGgoAAAANSUhEUgAAADIAAAAyAQAAAAA2RLUcAAAAKklEQVR4nGNgoDP4//////8fGJhg/AMMDAwMBnA+EXQDmfqIojHcR2cAAMczDlubq4AWAAAAAElFTkSuQmCC\" style=\"height: auto\">\n",
       "              <figcaption style=\"font-size: 0.6em\">0.03%</figcaption>\n",
       "            </figure>\n",
       "        \n",
       "            <figure style=\"margin: 5px !important;\">\n",
       "              <img src=\"data:image/png;base64,iVBORw0KGgoAAAANSUhEUgAAADIAAAAyAQAAAAA2RLUcAAAAJUlEQVR4nGP8z8DAwMBwkIkBAuD0Q0ZGRkYmOH8QgYaBdgAtAQCFwwMxyQYSVQAAAABJRU5ErkJggg==\" style=\"height: auto\">\n",
       "              <figcaption style=\"font-size: 0.6em\">0.03%</figcaption>\n",
       "            </figure>\n",
       "        \n",
       "            <figure style=\"margin: 5px !important;\">\n",
       "              <img src=\"data:image/png;base64,iVBORw0KGgoAAAANSUhEUgAAADIAAAAyAQAAAAA2RLUcAAAAMElEQVR4nGP8z8DAwMBwkIkBApgOMjIyMjIywPmDj25gYGBgYDgAIQmpZ0Tz32AHAPipBn9iLtsEAAAAAElFTkSuQmCC\" style=\"height: auto\">\n",
       "              <figcaption style=\"font-size: 0.6em\">0.03%</figcaption>\n",
       "            </figure>\n",
       "        \n",
       "            <figure style=\"margin: 5px !important;\">\n",
       "              <img src=\"data:image/png;base64,iVBORw0KGgoAAAANSUhEUgAAADIAAAAyAQAAAAA2RLUcAAAAMUlEQVR4nGP4//////8NDEwMEMB0kJGRkYkBwR94OgGNv2CQuAs7bf////9/CD6pAADXNAvSC+4rSwAAAABJRU5ErkJggg==\" style=\"height: auto\">\n",
       "              <figcaption style=\"font-size: 0.6em\">0.03%</figcaption>\n",
       "            </figure>\n",
       "        \n",
       "            <figure style=\"margin: 5px !important;\">\n",
       "              <img src=\"data:image/png;base64,iVBORw0KGgoAAAANSUhEUgAAADIAAAAyAQAAAAA2RLUcAAAAgElEQVR4nF2MsQ3CUAwF7zsopIioaYA1qBCLJGIghvijZISMQJnSJaKisBXycGPf+ekBwB1jM8WD23n1BtBNATfUf3JfkZ7imrM5dj9p7pz/EfHFg82RnmeN84D6f37k6eqb5F3derjkf0D9O7hZxBtVc/v0RzR3kpqfX3K/1H8B5EwTpEYGwYAAAAAASUVORK5CYII=\" style=\"height: auto\">\n",
       "              <figcaption style=\"font-size: 0.6em\">0.03%</figcaption>\n",
       "            </figure>\n",
       "        \n",
       "            <figure style=\"margin: 5px !important;\">\n",
       "              <img src=\"data:image/png;base64,iVBORw0KGgoAAAANSUhEUgAAADIAAAAyAQAAAAA2RLUcAAAAJklEQVR4nGNgQAfy/xsYGBiYoDwstAAOcXrRDWg0vez9QIw6SgEA+0ID7StsX2IAAAAASUVORK5CYII=\" style=\"height: auto\">\n",
       "              <figcaption style=\"font-size: 0.6em\">0.03%</figcaption>\n",
       "            </figure>\n",
       "        \n",
       "            <figure style=\"margin: 5px !important;\">\n",
       "              <img src=\"data:image/png;base64,iVBORw0KGgoAAAANSUhEUgAAADIAAAAyAQAAAAA2RLUcAAAAH0lEQVR4nGNgYGBgYGA4wAShGfDT7ATkR2n89E+C6gCfrwIjdTe5awAAAABJRU5ErkJggg==\" style=\"height: auto\">\n",
       "              <figcaption style=\"font-size: 0.6em\">0.03%</figcaption>\n",
       "            </figure>\n",
       "        \n",
       "            <figure style=\"margin: 5px !important;\">\n",
       "              <img src=\"data:image/png;base64,iVBORw0KGgoAAAANSUhEUgAAADIAAAAyAQAAAAA2RLUcAAAAIElEQVR4nGNgYGBgYGA8wMQAAfhpNgLyw5X+RVAdtQAA43kCEldQgkoAAAAASUVORK5CYII=\" style=\"height: auto\">\n",
       "              <figcaption style=\"font-size: 0.6em\">0.03%</figcaption>\n",
       "            </figure>\n",
       "        \n",
       "            <figure style=\"margin: 5px !important;\">\n",
       "              <img src=\"data:image/png;base64,iVBORw0KGgoAAAANSUhEUgAAADIAAAAyAQAAAAA2RLUcAAAAIElEQVR4nGNgYGBgYGA8wMQAAfhpNgLyw5X+RVAdtQAA43kCEldQgkoAAAAASUVORK5CYII=\" style=\"height: auto\">\n",
       "              <figcaption style=\"font-size: 0.6em\">0.03%</figcaption>\n",
       "            </figure>\n",
       "        \n",
       "            <figure style=\"margin: 5px !important;\">\n",
       "              <img src=\"data:image/png;base64,iVBORw0KGgoAAAANSUhEUgAAADIAAAAyAQAAAAA2RLUcAAAAMklEQVR4nGP8z8DAwMBwkIkBApgOMjIyMjIywPmDj25gYGBgYDgAIallLiM0HBgGGAAAt3EGh7rBC54AAAAASUVORK5CYII=\" style=\"height: auto\">\n",
       "              <figcaption style=\"font-size: 0.6em\">0.03%</figcaption>\n",
       "            </figure>\n",
       "        \n",
       "            <figure style=\"margin: 5px !important;\">\n",
       "              <img src=\"data:image/png;base64,iVBORw0KGgoAAAANSUhEUgAAADIAAAAyAQAAAAA2RLUcAAAAJklEQVR4nGNgQAfy/xsYGBiYoDwstAAOcXrRDWg0vez9QIw6SgEA+0ID7StsX2IAAAAASUVORK5CYII=\" style=\"height: auto\">\n",
       "              <figcaption style=\"font-size: 0.6em\">0.03%</figcaption>\n",
       "            </figure>\n",
       "        \n",
       "            <figure style=\"margin: 5px !important;\">\n",
       "              <img src=\"data:image/png;base64,iVBORw0KGgoAAAANSUhEUgAAADIAAAAyAQAAAAA2RLUcAAAAH0lEQVR4nGNgYGBgYGA4wAShGfDT7ATkR2n89E+C6gCfrwIjdTe5awAAAABJRU5ErkJggg==\" style=\"height: auto\">\n",
       "              <figcaption style=\"font-size: 0.6em\">0.03%</figcaption>\n",
       "            </figure>\n",
       "        \n",
       "            <figure style=\"margin: 5px !important;\">\n",
       "              <img src=\"data:image/png;base64,iVBORw0KGgoAAAANSUhEUgAAADIAAAAyAQAAAAA2RLUcAAAAH0lEQVR4nGNgYGBgYGA4wAShGfDT7ATkR2n89E+C6gCfrwIjdTe5awAAAABJRU5ErkJggg==\" style=\"height: auto\">\n",
       "              <figcaption style=\"font-size: 0.6em\">0.03%</figcaption>\n",
       "            </figure>\n",
       "        \n",
       "            <figure style=\"margin: 5px !important;\">\n",
       "              <img src=\"data:image/png;base64,iVBORw0KGgoAAAANSUhEUgAAADIAAAAyAQAAAAA2RLUcAAAAN0lEQVR4nGNgoCk4wARlQOh6CKf+P1wcymVgYGD4//8ATB2E2wChHiD0MzAwQEQZGA4gmzt8AAAXEhAhcPlpIwAAAABJRU5ErkJggg==\" style=\"height: auto\">\n",
       "              <figcaption style=\"font-size: 0.6em\">0.03%</figcaption>\n",
       "            </figure>\n",
       "        \n",
       "            <figure style=\"margin: 5px !important;\">\n",
       "              <img src=\"data:image/png;base64,iVBORw0KGgoAAAANSUhEUgAAADIAAAAyAQAAAAA2RLUcAAAARUlEQVR4nGP4/4CBgYGBgYkBCv5DBRjq/39AFmdgkP//A8r4gSLOwMDBMPKABISChQML+38Ghv9McD5K+LDBWQdQxLEAAOAjDVg6xneIAAAAAElFTkSuQmCC\" style=\"height: auto\">\n",
       "              <figcaption style=\"font-size: 0.6em\">0.03%</figcaption>\n",
       "            </figure>\n",
       "        \n",
       "            <figure style=\"margin: 5px !important;\">\n",
       "              <img src=\"data:image/png;base64,iVBORw0KGgoAAAANSUhEUgAAADIAAAAyAQAAAAA2RLUcAAAAKElEQVR4nGP4//////8HGJgYoOAAAwMDgwOcPwjphiHiTqJoBrTwBwA1Ag5TK608LQAAAABJRU5ErkJggg==\" style=\"height: auto\">\n",
       "              <figcaption style=\"font-size: 0.6em\">0.03%</figcaption>\n",
       "            </figure>\n",
       "        \n",
       "            <figure style=\"margin: 5px !important;\">\n",
       "              <img src=\"data:image/png;base64,iVBORw0KGgoAAAANSUhEUgAAADIAAAAyAQAAAAA2RLUcAAAAKklEQVR4nGP8z8DAwMBwkIkBApgOMjIyMjIywPmjNEU0Iyx8GVHDFRcAAHvWBKnikmVyAAAAAElFTkSuQmCC\" style=\"height: auto\">\n",
       "              <figcaption style=\"font-size: 0.6em\">0.03%</figcaption>\n",
       "            </figure>\n",
       "        \n",
       "            <figure style=\"margin: 5px !important;\">\n",
       "              <img src=\"data:image/png;base64,iVBORw0KGgoAAAANSUhEUgAAADIAAAAyAQAAAAA2RLUcAAAAMklEQVR4nGP8z8DAwMBwkIkBApgOMjIyMjIywPmDj25gYGBgYDgAIallLiM0HBgGGAAAt3EGh7rBC54AAAAASUVORK5CYII=\" style=\"height: auto\">\n",
       "              <figcaption style=\"font-size: 0.6em\">0.03%</figcaption>\n",
       "            </figure>\n",
       "        \n",
       "            <figure style=\"margin: 5px !important;\">\n",
       "              <img src=\"data:image/png;base64,iVBORw0KGgoAAAANSUhEUgAAADIAAAAyAQAAAAA2RLUcAAAAJklEQVR4nGNgQAfy/xsYGBiYoDwstAAOcXrRDWg0vez9QIw6SgEA+0ID7StsX2IAAAAASUVORK5CYII=\" style=\"height: auto\">\n",
       "              <figcaption style=\"font-size: 0.6em\">0.03%</figcaption>\n",
       "            </figure>\n",
       "        \n",
       "            <figure style=\"margin: 5px !important;\">\n",
       "              <img src=\"data:image/png;base64,iVBORw0KGgoAAAANSUhEUgAAADIAAAAyAQAAAAA2RLUcAAAAH0lEQVR4nGNgYGBgYGA4wAShGfDT7ATkR2n89E+C6gCfrwIjdTe5awAAAABJRU5ErkJggg==\" style=\"height: auto\">\n",
       "              <figcaption style=\"font-size: 0.6em\">0.03%</figcaption>\n",
       "            </figure>\n",
       "        \n",
       "            <figure style=\"margin: 5px !important;\">\n",
       "              <img src=\"data:image/png;base64,iVBORw0KGgoAAAANSUhEUgAAADIAAAAyAQAAAAA2RLUcAAAAQElEQVR4nGP4/4CBgYGBgYkBCv5DBRjq/39AFmdgkP//A8r4gSLOwMDBQFfA////AZj9yPR/RiZUdw0+cICQ+wB4XA8Af6/V0wAAAABJRU5ErkJggg==\" style=\"height: auto\">\n",
       "              <figcaption style=\"font-size: 0.6em\">0.03%</figcaption>\n",
       "            </figure>\n",
       "        \n",
       "            <figure style=\"margin: 5px !important;\">\n",
       "              <img src=\"data:image/png;base64,iVBORw0KGgoAAAANSUhEUgAAADIAAAAyAQAAAAA2RLUcAAAAfElEQVR4nJWNsQ2DQAxFH4YyUigZgw1oGeMGyFA3CiNkhJQpU1AgBJcUtgK/xM3Xe/q24cL0YABjZExVnG09vAEsyrenZ4v6NP3PnL0FP2bk3/3l3GbtJ7RXnOuC9Jo5+KO+y56Js4evc72Lt2ZT7t7BWfcHOXP098hN/Q+sNhf13hCHUQAAAABJRU5ErkJggg==\" style=\"height: auto\">\n",
       "              <figcaption style=\"font-size: 0.6em\">0.03%</figcaption>\n",
       "            </figure>\n",
       "        \n",
       "            <figure style=\"margin: 5px !important;\">\n",
       "              <img src=\"data:image/png;base64,iVBORw0KGgoAAAANSUhEUgAAADIAAAAyAQAAAAA2RLUcAAAAK0lEQVR4nGP8z8DAwPCfiYkBCg4wMDAwsDHA+ANFM0LdxTDsATMDAwPC3wBZSgTwqHd1AAAAAABJRU5ErkJggg==\" style=\"height: auto\">\n",
       "              <figcaption style=\"font-size: 0.6em\">0.03%</figcaption>\n",
       "            </figure>\n",
       "        \n",
       "            <figure style=\"margin: 5px !important;\">\n",
       "              <img src=\"data:image/png;base64,iVBORw0KGgoAAAANSUhEUgAAADIAAAAyAQAAAAA2RLUcAAAAK0lEQVR4nGP8z8DAwPCfiYkBCg4wMDAwsDHA+ANFM0LdxTDsATMDAwPC3wBZSgTwqHd1AAAAAABJRU5ErkJggg==\" style=\"height: auto\">\n",
       "              <figcaption style=\"font-size: 0.6em\">0.03%</figcaption>\n",
       "            </figure>\n",
       "        \n",
       "            <figure style=\"margin: 5px !important;\">\n",
       "              <img src=\"data:image/png;base64,iVBORw0KGgoAAAANSUhEUgAAADIAAAAyAQAAAAA2RLUcAAAAK0lEQVR4nGP8z8DAwPCfiYkBCg4wMDAwsDHA+ANFM0LdxTDsATMDAwPC3wBZSgTwqHd1AAAAAABJRU5ErkJggg==\" style=\"height: auto\">\n",
       "              <figcaption style=\"font-size: 0.6em\">0.03%</figcaption>\n",
       "            </figure>\n",
       "        \n",
       "            <figure style=\"margin: 5px !important;\">\n",
       "              <img src=\"data:image/png;base64,iVBORw0KGgoAAAANSUhEUgAAADIAAAAyAQAAAAA2RLUcAAAAQElEQVR4nGNgQAfy/xsYGBiYoDwstAAOcfrQLAwNDAwMDEzSUBomrvAAVd0DKP0ETf9fmD4FVP2E6Q/EqKMUAABgpgjt2ujBsQAAAABJRU5ErkJggg==\" style=\"height: auto\">\n",
       "              <figcaption style=\"font-size: 0.6em\">0.03%</figcaption>\n",
       "            </figure>\n",
       "        \n",
       "            <figure style=\"margin: 5px !important;\">\n",
       "              <img src=\"data:image/png;base64,iVBORw0KGgoAAAANSUhEUgAAADIAAAAyAQAAAAA2RLUcAAAAaUlEQVR4nGNgYGBgYGA4wAShGcijGYlUx4ZDnAPK40cT14fSDnBxBgaGBgbGHxAW+wdU9RwXEPwHDAwMBQcYGP4wMDD/Q7KP+QFDzScGBgb7////H0CIMzD///+HgYGB6a8CQwuS++gNAH65E8h+pRUcAAAAAElFTkSuQmCC\" style=\"height: auto\">\n",
       "              <figcaption style=\"font-size: 0.6em\">0.03%</figcaption>\n",
       "            </figure>\n",
       "        \n",
       "            <figure style=\"margin: 5px !important;\">\n",
       "              <img src=\"data:image/png;base64,iVBORw0KGgoAAAANSUhEUgAAADIAAAAyAQAAAAA2RLUcAAAAYElEQVR4nGP4/4CBgYGBgYkBCv5DBRjq/39AFmdgkP//A8r4gSLOwMDBMKQAExTzNiD8wcTAwCDgAOUfQPVfHYRi/MeAop4Jjc/zBUILfEAVZ1iAMOYAkrn/oHQNA5J6AOACE/cVqpXbAAAAAElFTkSuQmCC\" style=\"height: auto\">\n",
       "              <figcaption style=\"font-size: 0.6em\">0.03%</figcaption>\n",
       "            </figure>\n",
       "        \n",
       "            <figure style=\"margin: 5px !important;\">\n",
       "              <img src=\"data:image/png;base64,iVBORw0KGgoAAAANSUhEUgAAADIAAAAyAQAAAAA2RLUcAAAAH0lEQVR4nGP8z8DAwMDAyMQAATB6EIEPDAyD0l00AQB4SAH4uw3PRgAAAABJRU5ErkJggg==\" style=\"height: auto\">\n",
       "              <figcaption style=\"font-size: 0.6em\">0.03%</figcaption>\n",
       "            </figure>\n",
       "        \n",
       "            <figure style=\"margin: 5px !important;\">\n",
       "              <img src=\"data:image/png;base64,iVBORw0KGgoAAAANSUhEUgAAADIAAAAyAQAAAAA2RLUcAAAAKElEQVR4nGP8z8DAwMDAyMQABQcYGBgYGBlg/EFINwwRdxJFM6KFPwAabARhmEc0oQAAAABJRU5ErkJggg==\" style=\"height: auto\">\n",
       "              <figcaption style=\"font-size: 0.6em\">0.03%</figcaption>\n",
       "            </figure>\n",
       "        \n",
       "            <figure style=\"margin: 5px !important;\">\n",
       "              <img src=\"data:image/png;base64,iVBORw0KGgoAAAANSUhEUgAAADIAAAAyAQAAAAA2RLUcAAAAK0lEQVR4nGP4/////w8MDEwMUHCAgYHBAMEfBHQCGn/BIHEXSTQDejjjAADsqgwh2+y68AAAAABJRU5ErkJggg==\" style=\"height: auto\">\n",
       "              <figcaption style=\"font-size: 0.6em\">0.03%</figcaption>\n",
       "            </figure>\n",
       "        \n",
       "            <figure style=\"margin: 5px !important;\">\n",
       "              <img src=\"data:image/png;base64,iVBORw0KGgoAAAANSUhEUgAAADIAAAAyAQAAAAA2RLUcAAAAJElEQVR4nGP4//8PAwMDAxMDFBxg4EHmDwI6YZC7jyKaAS38AU+fCEkH7D5UAAAAAElFTkSuQmCC\" style=\"height: auto\">\n",
       "              <figcaption style=\"font-size: 0.6em\">0.03%</figcaption>\n",
       "            </figure>\n",
       "        \n",
       "            <figure style=\"margin: 5px !important;\">\n",
       "              <img src=\"data:image/png;base64,iVBORw0KGgoAAAANSUhEUgAAADIAAAAyAQAAAAA2RLUcAAAAUklEQVR4nGNgGKRAAUr/YUhgYGBgYIKJ/4fS9g8YUMTl/6Dymf83QBj1D1DEGdj/ICtAiEMVMjDw/0EVR5j0AUWcgf8HKp8RprAOVZyBg4FoAADWnRKWgzo3mQAAAABJRU5ErkJggg==\" style=\"height: auto\">\n",
       "              <figcaption style=\"font-size: 0.6em\">0.03%</figcaption>\n",
       "            </figure>\n",
       "        \n",
       "            <figure style=\"margin: 5px !important;\">\n",
       "              <img src=\"data:image/png;base64,iVBORw0KGgoAAAANSUhEUgAAADIAAAAyAQAAAAA2RLUcAAAAK0lEQVR4nGNgGPQggYGBgYGJXN3//////wGhH27OAwYGhgJMcXJpnPaQCADTrwulC8O82wAAAABJRU5ErkJggg==\" style=\"height: auto\">\n",
       "              <figcaption style=\"font-size: 0.6em\">0.03%</figcaption>\n",
       "            </figure>\n",
       "        \n",
       "            <figure style=\"margin: 5px !important;\">\n",
       "              <img src=\"data:image/png;base64,iVBORw0KGgoAAAANSUhEUgAAADIAAAAyAQAAAAA2RLUcAAAAHklEQVR4nGNgGHKgYSAsZfzPwMDAwHCQCcrHRVMKACLhAkr6/1KrAAAAAElFTkSuQmCC\" style=\"height: auto\">\n",
       "              <figcaption style=\"font-size: 0.6em\">0.03%</figcaption>\n",
       "            </figure>\n",
       "        \n",
       "            <figure style=\"margin: 5px !important;\">\n",
       "              <img src=\"data:image/png;base64,iVBORw0KGgoAAAANSUhEUgAAADIAAAAyAQAAAAA2RLUcAAAAKUlEQVR4nGP4//////8NDEwMEMB0kJGRkYkBwR+laUPb/////x8DBgAATDUK2tJsOAMAAAAASUVORK5CYII=\" style=\"height: auto\">\n",
       "              <figcaption style=\"font-size: 0.6em\">0.03%</figcaption>\n",
       "            </figure>\n",
       "        \n",
       "            <figure style=\"margin: 5px !important;\">\n",
       "              <img src=\"data:image/png;base64,iVBORw0KGgoAAAANSUhEUgAAADIAAAAyAQAAAAA2RLUcAAAAKElEQVR4nGP4//////8NDEwMEMB0kJGRkYkBwR+laUvb/////x+CDwAqlQrewFdddgAAAABJRU5ErkJggg==\" style=\"height: auto\">\n",
       "              <figcaption style=\"font-size: 0.6em\">0.03%</figcaption>\n",
       "            </figure>\n",
       "        \n",
       "            <figure style=\"margin: 5px !important;\">\n",
       "              <img src=\"data:image/png;base64,iVBORw0KGgoAAAANSUhEUgAAADIAAAAyAQAAAAA2RLUcAAAAIklEQVR4nGP8z8DAwMDAyMQAATB6EIEEBgYUd33AIT4sAAATtwK6g7xPOwAAAABJRU5ErkJggg==\" style=\"height: auto\">\n",
       "              <figcaption style=\"font-size: 0.6em\">0.03%</figcaption>\n",
       "            </figure>\n",
       "        \n",
       "            <figure style=\"margin: 5px !important;\">\n",
       "              <img src=\"data:image/png;base64,iVBORw0KGgoAAAANSUhEUgAAADIAAAAyAQAAAAA2RLUcAAAAJklEQVR4nGNgGGhQw8DAwMDABOVhoRPQ+AsIqCeLZmD4QVXzyKUBC0YCtY7jUYcAAAAASUVORK5CYII=\" style=\"height: auto\">\n",
       "              <figcaption style=\"font-size: 0.6em\">0.03%</figcaption>\n",
       "            </figure>\n",
       "        \n",
       "            <figure style=\"margin: 5px !important;\">\n",
       "              <img src=\"data:image/png;base64,iVBORw0KGgoAAAANSUhEUgAAADIAAAAyAQAAAAA2RLUcAAAAJElEQVR4nGP8z8DA8J+JgYkBCg4wMDCwMcD5ozRtaEZouKMDALi6BSOEZaYdAAAAAElFTkSuQmCC\" style=\"height: auto\">\n",
       "              <figcaption style=\"font-size: 0.6em\">0.03%</figcaption>\n",
       "            </figure>\n",
       "        \n",
       "            <figure style=\"margin: 5px !important;\">\n",
       "              <img src=\"data:image/png;base64,iVBORw0KGgoAAAANSUhEUgAAADIAAAAyAQAAAAA2RLUcAAAAJklEQVR4nGNgGGhQw8DAwMDABOVhoRPQ+AsIqCeLZmD4QVXzyKUBC0YCtY7jUYcAAAAASUVORK5CYII=\" style=\"height: auto\">\n",
       "              <figcaption style=\"font-size: 0.6em\">0.03%</figcaption>\n",
       "            </figure>\n",
       "        \n",
       "            <figure style=\"margin: 5px !important;\">\n",
       "              <img src=\"data:image/png;base64,iVBORw0KGgoAAAANSUhEUgAAADIAAAAyAQAAAAA2RLUcAAAAKklEQVR4nGP4/////w8MDEwMUHCAgYHBAMEfBHQCGn/BIHEXVWgGtPAHAHcaDCcbAYu9AAAAAElFTkSuQmCC\" style=\"height: auto\">\n",
       "              <figcaption style=\"font-size: 0.6em\">0.03%</figcaption>\n",
       "            </figure>\n",
       "        \n",
       "            <figure style=\"margin: 5px !important;\">\n",
       "              <img src=\"data:image/png;base64,iVBORw0KGgoAAAANSUhEUgAAADIAAAAyAQAAAAA2RLUcAAAAKklEQVR4nGP4/////w8MDEwMUHCAgYHBAMEfBHQCGn/BIHEXVWgGtPAHAHcaDCcbAYu9AAAAAElFTkSuQmCC\" style=\"height: auto\">\n",
       "              <figcaption style=\"font-size: 0.6em\">0.03%</figcaption>\n",
       "            </figure>\n",
       "        \n",
       "            <figure style=\"margin: 5px !important;\">\n",
       "              <img src=\"data:image/png;base64,iVBORw0KGgoAAAANSUhEUgAAADIAAAAyAQAAAAA2RLUcAAAAEklEQVR4nGNgGHKgYaAdQEsAAHAQAIFp7U6dAAAAAElFTkSuQmCC\" style=\"height: auto\">\n",
       "              <figcaption style=\"font-size: 0.6em\">0.00%</figcaption>\n",
       "            </figure>\n",
       "        \n",
       "            <figure style=\"margin: 5px !important;\">\n",
       "              <img src=\"data:image/png;base64,iVBORw0KGgoAAAANSUhEUgAAADIAAAAyAQAAAAA2RLUcAAAAEklEQVR4nGNgGHKgYaAdQEsAAHAQAIFp7U6dAAAAAElFTkSuQmCC\" style=\"height: auto\">\n",
       "              <figcaption style=\"font-size: 0.6em\">0.00%</figcaption>\n",
       "            </figure>\n",
       "        \n",
       "            <figure style=\"margin: 5px !important;\">\n",
       "              <img src=\"data:image/png;base64,iVBORw0KGgoAAAANSUhEUgAAADIAAAAyAQAAAAA2RLUcAAAAUElEQVR4nM3MsQmAMAAF0WciWLuN4ziIYNzEqawdIQOIsbEI2FhYeM2H43P8nhHCd705g1jOqhu0S59g0uTaH0qCnaHycWWrfzcduvTwb/cCxwkMDdbhfcUAAAAASUVORK5CYII=\" style=\"height: auto\">\n",
       "              <figcaption style=\"font-size: 0.6em\">0.00%</figcaption>\n",
       "            </figure>\n",
       "        \n",
       "            <figure style=\"margin: 5px !important;\">\n",
       "              <img src=\"data:image/png;base64,iVBORw0KGgoAAAANSUhEUgAAADIAAAAyAQAAAAA2RLUcAAAADklEQVR4nGNgGAWDCQAAAZAAAdO7EP4AAAAASUVORK5CYII=\" style=\"height: auto\">\n",
       "              <figcaption style=\"font-size: 0.6em\">0.00%</figcaption>\n",
       "            </figure>\n",
       "        \n",
       "            <figure style=\"margin: 5px !important;\">\n",
       "              <img src=\"data:image/png;base64,iVBORw0KGgoAAAANSUhEUgAAADIAAAAyAQAAAAA2RLUcAAAAEklEQVR4nGNgGHKgYaAdQEsAAHAQAIFp7U6dAAAAAElFTkSuQmCC\" style=\"height: auto\">\n",
       "              <figcaption style=\"font-size: 0.6em\">0.00%</figcaption>\n",
       "            </figure>\n",
       "        \n",
       "            <figure style=\"margin: 5px !important;\">\n",
       "              <img src=\"data:image/png;base64,iVBORw0KGgoAAAANSUhEUgAAADIAAAAyAQAAAAA2RLUcAAAAS0lEQVR4nGNgGHKggVIDEiAU4wcGBgYmqBgTAwPfBwhTjgFJnIGB4Q+Ez/yEAUU9ywJUdTVQ+gcDijr2FxCGPAOKOMRUBgamJ6jiAH2SCe8eY+/SAAAAAElFTkSuQmCC\" style=\"height: auto\">\n",
       "              <figcaption style=\"font-size: 0.6em\">0.00%</figcaption>\n",
       "            </figure>\n",
       "        \n",
       "            <figure style=\"margin: 5px !important;\">\n",
       "              <img src=\"data:image/png;base64,iVBORw0KGgoAAAANSUhEUgAAADIAAAAyAQAAAAA2RLUcAAAAG0lEQVR4nGNgGHKgYaAdQF3A/IGBgYGBCcoDAHx6AXYAHOf3AAAAAElFTkSuQmCC\" style=\"height: auto\">\n",
       "              <figcaption style=\"font-size: 0.6em\">0.00%</figcaption>\n",
       "            </figure>\n",
       "        \n",
       "            <figure style=\"margin: 5px !important;\">\n",
       "              <img src=\"data:image/png;base64,iVBORw0KGgoAAAANSUhEUgAAADIAAAAyAQAAAAA2RLUcAAAAEklEQVR4nGNgGHKgYaAdQEsAAHAQAIFp7U6dAAAAAElFTkSuQmCC\" style=\"height: auto\">\n",
       "              <figcaption style=\"font-size: 0.6em\">0.00%</figcaption>\n",
       "            </figure>\n",
       "        \n",
       "            <figure style=\"margin: 5px !important;\">\n",
       "              <img src=\"data:image/png;base64,iVBORw0KGgoAAAANSUhEUgAAADIAAAAyAQAAAAA2RLUcAAAAEklEQVR4nGNgGHKgYaAdQEsAAHAQAIFp7U6dAAAAAElFTkSuQmCC\" style=\"height: auto\">\n",
       "              <figcaption style=\"font-size: 0.6em\">0.00%</figcaption>\n",
       "            </figure>\n",
       "        \n",
       "            <figure style=\"margin: 5px !important;\">\n",
       "              <img src=\"data:image/png;base64,iVBORw0KGgoAAAANSUhEUgAAADIAAAAyAQAAAAA2RLUcAAAADklEQVR4nGNgGAWDCQAAAZAAAdO7EP4AAAAASUVORK5CYII=\" style=\"height: auto\">\n",
       "              <figcaption style=\"font-size: 0.6em\">0.00%</figcaption>\n",
       "            </figure>\n",
       "        \n",
       "            <figure style=\"margin: 5px !important;\">\n",
       "              <img src=\"data:image/png;base64,iVBORw0KGgoAAAANSUhEUgAAADIAAAAyAQAAAAA2RLUcAAAAEklEQVR4nGNgGHKgYaAdQEsAAHAQAIFp7U6dAAAAAElFTkSuQmCC\" style=\"height: auto\">\n",
       "              <figcaption style=\"font-size: 0.6em\">0.00%</figcaption>\n",
       "            </figure>\n",
       "        \n",
       "            <figure style=\"margin: 5px !important;\">\n",
       "              <img src=\"data:image/png;base64,iVBORw0KGgoAAAANSUhEUgAAADIAAAAyAQAAAAA2RLUcAAAAF0lEQVR4nGNgGPQggYGBgYFpgB1BLwAAXEAAY0pqFIoAAAAASUVORK5CYII=\" style=\"height: auto\">\n",
       "              <figcaption style=\"font-size: 0.6em\">0.00%</figcaption>\n",
       "            </figure>\n",
       "        \n",
       "            <figure style=\"margin: 5px !important;\">\n",
       "              <img src=\"data:image/png;base64,iVBORw0KGgoAAAANSUhEUgAAADIAAAAyAQAAAAA2RLUcAAAAF0lEQVR4nGNgGPQggYGBgYFpgB1BLwAAXEAAY0pqFIoAAAAASUVORK5CYII=\" style=\"height: auto\">\n",
       "              <figcaption style=\"font-size: 0.6em\">0.00%</figcaption>\n",
       "            </figure>\n",
       "        \n",
       "            <figure style=\"margin: 5px !important;\">\n",
       "              <img src=\"data:image/png;base64,iVBORw0KGgoAAAANSUhEUgAAADIAAAAyAQAAAAA2RLUcAAAADklEQVR4nGNgGAWDCQAAAZAAAdO7EP4AAAAASUVORK5CYII=\" style=\"height: auto\">\n",
       "              <figcaption style=\"font-size: 0.6em\">0.00%</figcaption>\n",
       "            </figure>\n",
       "        \n",
       "            <figure style=\"margin: 5px !important;\">\n",
       "              <img src=\"data:image/png;base64,iVBORw0KGgoAAAANSUhEUgAAADIAAAAyAQAAAAA2RLUcAAAAEklEQVR4nGNgGHKgYaAdQEsAAHAQAIFp7U6dAAAAAElFTkSuQmCC\" style=\"height: auto\">\n",
       "              <figcaption style=\"font-size: 0.6em\">0.00%</figcaption>\n",
       "            </figure>\n",
       "        \n",
       "            <figure style=\"margin: 5px !important;\">\n",
       "              <img src=\"data:image/png;base64,iVBORw0KGgoAAAANSUhEUgAAADIAAAAyAQAAAAA2RLUcAAAAEklEQVR4nGNgGHIgYaAdQEsAAFRwAGHOpzBMAAAAAElFTkSuQmCC\" style=\"height: auto\">\n",
       "              <figcaption style=\"font-size: 0.6em\">0.00%</figcaption>\n",
       "            </figure>\n",
       "        \n",
       "            <figure style=\"margin: 5px !important;\">\n",
       "              <img src=\"data:image/png;base64,iVBORw0KGgoAAAANSUhEUgAAADIAAAAyAQAAAAA2RLUcAAAAEklEQVR4nGNgGHKgYaAdQEsAAHAQAIFp7U6dAAAAAElFTkSuQmCC\" style=\"height: auto\">\n",
       "              <figcaption style=\"font-size: 0.6em\">0.00%</figcaption>\n",
       "            </figure>\n",
       "        \n",
       "            <figure style=\"margin: 5px !important;\">\n",
       "              <img src=\"data:image/png;base64,iVBORw0KGgoAAAANSUhEUgAAADIAAAAyAQAAAAA2RLUcAAAAEklEQVR4nGNgGHKgYaAdQEsAAHAQAIFp7U6dAAAAAElFTkSuQmCC\" style=\"height: auto\">\n",
       "              <figcaption style=\"font-size: 0.6em\">0.00%</figcaption>\n",
       "            </figure>\n",
       "        \n",
       "            <figure style=\"margin: 5px !important;\">\n",
       "              <img src=\"data:image/png;base64,iVBORw0KGgoAAAANSUhEUgAAADIAAAAyAQAAAAA2RLUcAAAADklEQVR4nGNgGAWDCQAAAZAAAdO7EP4AAAAASUVORK5CYII=\" style=\"height: auto\">\n",
       "              <figcaption style=\"font-size: 0.6em\">0.00%</figcaption>\n",
       "            </figure>\n",
       "        \n",
       "            <figure style=\"margin: 5px !important;\">\n",
       "              <img src=\"data:image/png;base64,iVBORw0KGgoAAAANSUhEUgAAADIAAAAyAQAAAAA2RLUcAAAAEklEQVR4nGNgGHKgYaAdQEsAAHAQAIFp7U6dAAAAAElFTkSuQmCC\" style=\"height: auto\">\n",
       "              <figcaption style=\"font-size: 0.6em\">0.00%</figcaption>\n",
       "            </figure>\n",
       "        \n",
       "            <figure style=\"margin: 5px !important;\">\n",
       "              <img src=\"data:image/png;base64,iVBORw0KGgoAAAANSUhEUgAAADIAAAAyAQAAAAA2RLUcAAAAEklEQVR4nGNgGHKgYaAdQEsAAHAQAIFp7U6dAAAAAElFTkSuQmCC\" style=\"height: auto\">\n",
       "              <figcaption style=\"font-size: 0.6em\">0.00%</figcaption>\n",
       "            </figure>\n",
       "        \n",
       "            <figure style=\"margin: 5px !important;\">\n",
       "              <img src=\"data:image/png;base64,iVBORw0KGgoAAAANSUhEUgAAADIAAAAyAQAAAAA2RLUcAAAAHklEQVR4nGNgGHKgYaAdQB3QAKGYHzAwMDAwMEFFAYeNAeaBIRHoAAAAAElFTkSuQmCC\" style=\"height: auto\">\n",
       "              <figcaption style=\"font-size: 0.6em\">0.00%</figcaption>\n",
       "            </figure>\n",
       "        \n",
       "            <figure style=\"margin: 5px !important;\">\n",
       "              <img src=\"data:image/png;base64,iVBORw0KGgoAAAANSUhEUgAAADIAAAAyAQAAAAA2RLUcAAAAF0lEQVR4nGNgGPQggYGBgYFpgB1BLwAAXEAAY0pqFIoAAAAASUVORK5CYII=\" style=\"height: auto\">\n",
       "              <figcaption style=\"font-size: 0.6em\">0.00%</figcaption>\n",
       "            </figure>\n",
       "        \n",
       "            <figure style=\"margin: 5px !important;\">\n",
       "              <img src=\"data:image/png;base64,iVBORw0KGgoAAAANSUhEUgAAADIAAAAyAQAAAAA2RLUcAAAANklEQVR4nNXKMQ6AIBQFwfFhz5U5mheTT0PsrYxbTpbfNV68V+Ao2RC0CXrVePxEhXBnf1+0ALxiB99alJBLAAAAAElFTkSuQmCC\" style=\"height: auto\">\n",
       "              <figcaption style=\"font-size: 0.6em\">0.00%</figcaption>\n",
       "            </figure>\n",
       "        \n",
       "            <figure style=\"margin: 5px !important;\">\n",
       "              <img src=\"data:image/png;base64,iVBORw0KGgoAAAANSUhEUgAAADIAAAAyAQAAAAA2RLUcAAAAEklEQVR4nGNgGHKgYaAdQEsAAHAQAIFp7U6dAAAAAElFTkSuQmCC\" style=\"height: auto\">\n",
       "              <figcaption style=\"font-size: 0.6em\">0.00%</figcaption>\n",
       "            </figure>\n",
       "        \n",
       "            <figure style=\"margin: 5px !important;\">\n",
       "              <img src=\"data:image/png;base64,iVBORw0KGgoAAAANSUhEUgAAADIAAAAyAQAAAAA2RLUcAAAAJklEQVR4nGNgIAPY/z/ABGWi0D+ZGLCKw2j2fxjiZIAG8rUOfgAAm3YEkSNwDpUAAAAASUVORK5CYII=\" style=\"height: auto\">\n",
       "              <figcaption style=\"font-size: 0.6em\">0.00%</figcaption>\n",
       "            </figure>\n",
       "        \n",
       "            <figure style=\"margin: 5px !important;\">\n",
       "              <img src=\"data:image/png;base64,iVBORw0KGgoAAAANSUhEUgAAADIAAAAyAQAAAAA2RLUcAAAAEklEQVR4nGNgGHKgYaAdQEsAAHAQAIFp7U6dAAAAAElFTkSuQmCC\" style=\"height: auto\">\n",
       "              <figcaption style=\"font-size: 0.6em\">0.00%</figcaption>\n",
       "            </figure>\n",
       "        \n",
       "            <figure style=\"margin: 5px !important;\">\n",
       "              <img src=\"data:image/png;base64,iVBORw0KGgoAAAANSUhEUgAAADIAAAAyAQAAAAA2RLUcAAAANUlEQVR4nGNgGPQggYGBgYGJMjMOwPRDaH4Ih/EHA4q4XQcDAwMDA/MHVPvqoPKPKHcHQQAA4GUFUrYlnEkAAAAASUVORK5CYII=\" style=\"height: auto\">\n",
       "              <figcaption style=\"font-size: 0.6em\">0.00%</figcaption>\n",
       "            </figure>\n",
       "        \n",
       "            <figure style=\"margin: 5px !important;\">\n",
       "              <img src=\"data:image/png;base64,iVBORw0KGgoAAAANSUhEUgAAADIAAAAyAQAAAAA2RLUcAAAAEklEQVR4nGNgGHKgYaAdQEsAAHAQAIFp7U6dAAAAAElFTkSuQmCC\" style=\"height: auto\">\n",
       "              <figcaption style=\"font-size: 0.6em\">0.00%</figcaption>\n",
       "            </figure>\n",
       "        \n",
       "            <figure style=\"margin: 5px !important;\">\n",
       "              <img src=\"data:image/png;base64,iVBORw0KGgoAAAANSUhEUgAAADIAAAAyAQAAAAA2RLUcAAAAGklEQVR4nGNgGHKggVQNTFAMY/M2YIoPFgAAy6wBGFnBY3IAAAAASUVORK5CYII=\" style=\"height: auto\">\n",
       "              <figcaption style=\"font-size: 0.6em\">0.00%</figcaption>\n",
       "            </figure>\n",
       "        \n",
       "            <figure style=\"margin: 5px !important;\">\n",
       "              <img src=\"data:image/png;base64,iVBORw0KGgoAAAANSUhEUgAAADIAAAAyAQAAAAA2RLUcAAAAEklEQVR4nGNgGHKgYaAdQEsAAHAQAIFp7U6dAAAAAElFTkSuQmCC\" style=\"height: auto\">\n",
       "              <figcaption style=\"font-size: 0.6em\">0.00%</figcaption>\n",
       "            </figure>\n",
       "        \n",
       "            <figure style=\"margin: 5px !important;\">\n",
       "              <img src=\"data:image/png;base64,iVBORw0KGgoAAAANSUhEUgAAADIAAAAyAQAAAAA2RLUcAAAAHUlEQVR4nGNgGHKggaamH4BQTDD+Ayj/AZo4jQAAjR8DB2xNXFsAAAAASUVORK5CYII=\" style=\"height: auto\">\n",
       "              <figcaption style=\"font-size: 0.6em\">0.00%</figcaption>\n",
       "            </figure>\n",
       "        \n",
       "            <figure style=\"margin: 5px !important;\">\n",
       "              <img src=\"data:image/png;base64,iVBORw0KGgoAAAANSUhEUgAAADIAAAAyAQAAAAA2RLUcAAAAF0lEQVR4nGNgGPQggYGBgYFpgB1BLwAAXEAAY0pqFIoAAAAASUVORK5CYII=\" style=\"height: auto\">\n",
       "              <figcaption style=\"font-size: 0.6em\">0.00%</figcaption>\n",
       "            </figure>\n",
       "        \n",
       "            <figure style=\"margin: 5px !important;\">\n",
       "              <img src=\"data:image/png;base64,iVBORw0KGgoAAAANSUhEUgAAADIAAAAyAQAAAAA2RLUcAAAAEklEQVR4nGNgGHKgYaAdQEsAAHAQAIFp7U6dAAAAAElFTkSuQmCC\" style=\"height: auto\">\n",
       "              <figcaption style=\"font-size: 0.6em\">0.00%</figcaption>\n",
       "            </figure>\n",
       "        \n",
       "            <figure style=\"margin: 5px !important;\">\n",
       "              <img src=\"data:image/png;base64,iVBORw0KGgoAAAANSUhEUgAAADIAAAAyAQAAAAA2RLUcAAAAU0lEQVR4nGNgYG9gYGBgYGKAAeYHyHyEOMMHbOJMDAw9ONTL4RDnb8AuzvwAu/lxAqjqGD9A+P97sKtHcQA2cf4G7OLMB7CLM37ALs5QgcanAgAA4eEKdHyZMMEAAAAASUVORK5CYII=\" style=\"height: auto\">\n",
       "              <figcaption style=\"font-size: 0.6em\">0.00%</figcaption>\n",
       "            </figure>\n",
       "        \n",
       "            <figure style=\"margin: 5px !important;\">\n",
       "              <img src=\"data:image/png;base64,iVBORw0KGgoAAAANSUhEUgAAADIAAAAyAQAAAAA2RLUcAAAALUlEQVR4nGNgGHKgAZligokyP0DhM/2dA2XJo6qDKWRg+IAqziAHpXnQxOkKAPfzBaUOBeNHAAAAAElFTkSuQmCC\" style=\"height: auto\">\n",
       "              <figcaption style=\"font-size: 0.6em\">0.00%</figcaption>\n",
       "            </figure>\n",
       "        \n",
       "            <figure style=\"margin: 5px !important;\">\n",
       "              <img src=\"data:image/png;base64,iVBORw0KGgoAAAANSUhEUgAAADIAAAAyAQAAAAA2RLUcAAAAEklEQVR4nGNgGHKgYaAdQEsAAHAQAIFp7U6dAAAAAElFTkSuQmCC\" style=\"height: auto\">\n",
       "              <figcaption style=\"font-size: 0.6em\">0.00%</figcaption>\n",
       "            </figure>\n",
       "        \n",
       "            <figure style=\"margin: 5px !important;\">\n",
       "              <img src=\"data:image/png;base64,iVBORw0KGgoAAAANSUhEUgAAADIAAAAyAQAAAAA2RLUcAAAAEklEQVR4nGNgGHKgYaAdQEsAAHAQAIFp7U6dAAAAAElFTkSuQmCC\" style=\"height: auto\">\n",
       "              <figcaption style=\"font-size: 0.6em\">0.00%</figcaption>\n",
       "            </figure>\n",
       "        \n",
       "            <figure style=\"margin: 5px !important;\">\n",
       "              <img src=\"data:image/png;base64,iVBORw0KGgoAAAANSUhEUgAAADIAAAAyAQAAAAA2RLUcAAAAF0lEQVR4nGNgGPTgAQMDAwPTADuCXgAA0sAA4yx8SugAAAAASUVORK5CYII=\" style=\"height: auto\">\n",
       "              <figcaption style=\"font-size: 0.6em\">0.00%</figcaption>\n",
       "            </figure>\n",
       "        \n",
       "            <figure style=\"margin: 5px !important;\">\n",
       "              <img src=\"data:image/png;base64,iVBORw0KGgoAAAANSUhEUgAAADIAAAAyAQAAAAA2RLUcAAAAF0lEQVR4nGNgGPQggYGBgYFpgB1BLwAAXEAAY0pqFIoAAAAASUVORK5CYII=\" style=\"height: auto\">\n",
       "              <figcaption style=\"font-size: 0.6em\">0.00%</figcaption>\n",
       "            </figure>\n",
       "        \n",
       "            <figure style=\"margin: 5px !important;\">\n",
       "              <img src=\"data:image/png;base64,iVBORw0KGgoAAAANSUhEUgAAADIAAAAyAQAAAAA2RLUcAAAAEklEQVR4nGNgGHKgYaAdQEsAAHAQAIFp7U6dAAAAAElFTkSuQmCC\" style=\"height: auto\">\n",
       "              <figcaption style=\"font-size: 0.6em\">0.00%</figcaption>\n",
       "            </figure>\n",
       "        \n",
       "            <figure style=\"margin: 5px !important;\">\n",
       "              <img src=\"data:image/png;base64,iVBORw0KGgoAAAANSUhEUgAAADIAAAAyAQAAAAA2RLUcAAAAHElEQVR4nGNgGCTgAIRigvEVcIgzMDTQwTUDBgALXgIlMZ3XWgAAAABJRU5ErkJggg==\" style=\"height: auto\">\n",
       "              <figcaption style=\"font-size: 0.6em\">0.00%</figcaption>\n",
       "            </figure>\n",
       "        \n",
       "            <figure style=\"margin: 5px !important;\">\n",
       "              <img src=\"data:image/png;base64,iVBORw0KGgoAAAANSUhEUgAAADIAAAAyAQAAAAA2RLUcAAAAEklEQVR4nGNgGHKgYaAdQEsAAHAQAIFp7U6dAAAAAElFTkSuQmCC\" style=\"height: auto\">\n",
       "              <figcaption style=\"font-size: 0.6em\">0.00%</figcaption>\n",
       "            </figure>\n",
       "        \n",
       "            <figure style=\"margin: 5px !important;\">\n",
       "              <img src=\"data:image/png;base64,iVBORw0KGgoAAAANSUhEUgAAADIAAAAyAQAAAAA2RLUcAAAAEklEQVR4nGNgGHKgYaAdQEsAAHAQAIFp7U6dAAAAAElFTkSuQmCC\" style=\"height: auto\">\n",
       "              <figcaption style=\"font-size: 0.6em\">0.00%</figcaption>\n",
       "            </figure>\n",
       "        \n",
       "            <figure style=\"margin: 5px !important;\">\n",
       "              <img src=\"data:image/png;base64,iVBORw0KGgoAAAANSUhEUgAAADIAAAAyAQAAAAA2RLUcAAAADklEQVR4nGNgGAWDCQAAAZAAAdO7EP4AAAAASUVORK5CYII=\" style=\"height: auto\">\n",
       "              <figcaption style=\"font-size: 0.6em\">0.00%</figcaption>\n",
       "            </figure>\n",
       "        \n",
       "            <figure style=\"margin: 5px !important;\">\n",
       "              <img src=\"data:image/png;base64,iVBORw0KGgoAAAANSUhEUgAAADIAAAAyAQAAAAA2RLUcAAAAEklEQVR4nGNgGHKgYaAdQEsAAHAQAIFp7U6dAAAAAElFTkSuQmCC\" style=\"height: auto\">\n",
       "              <figcaption style=\"font-size: 0.6em\">0.00%</figcaption>\n",
       "            </figure>\n",
       "        \n",
       "            <figure style=\"margin: 5px !important;\">\n",
       "              <img src=\"data:image/png;base64,iVBORw0KGgoAAAANSUhEUgAAADIAAAAyAQAAAAA2RLUcAAAAP0lEQVR4nGNgaGBgYGBgYGKAgf8w/h9Uceb/fyAM/v8fkMUZGPj/H2BgYmBg+OiAKs7A4IDGpwpooL6RgwcAANQSCkUKBEVWAAAAAElFTkSuQmCC\" style=\"height: auto\">\n",
       "              <figcaption style=\"font-size: 0.6em\">0.00%</figcaption>\n",
       "            </figure>\n",
       "        \n",
       "            <figure style=\"margin: 5px !important;\">\n",
       "              <img src=\"data:image/png;base64,iVBORw0KGgoAAAANSUhEUgAAADIAAAAyAQAAAAA2RLUcAAAAEklEQVR4nGNgGHKgYaAdQEsAAHAQAIFp7U6dAAAAAElFTkSuQmCC\" style=\"height: auto\">\n",
       "              <figcaption style=\"font-size: 0.6em\">0.00%</figcaption>\n",
       "            </figure>\n",
       "        \n",
       "            <figure style=\"margin: 5px !important;\">\n",
       "              <img src=\"data:image/png;base64,iVBORw0KGgoAAAANSUhEUgAAADIAAAAyAQAAAAA2RLUcAAAAGklEQVR4nGNgGPTgDwMDAwMTgs8zUA6hBwAA9wgBC0PEb5MAAAAASUVORK5CYII=\" style=\"height: auto\">\n",
       "              <figcaption style=\"font-size: 0.6em\">0.00%</figcaption>\n",
       "            </figure>\n",
       "        \n",
       "            <figure style=\"margin: 5px !important;\">\n",
       "              <img src=\"data:image/png;base64,iVBORw0KGgoAAAANSUhEUgAAADIAAAAyAQAAAAA2RLUcAAAAEklEQVR4nGNgGHKgYaAdQEsAAHAQAIFp7U6dAAAAAElFTkSuQmCC\" style=\"height: auto\">\n",
       "              <figcaption style=\"font-size: 0.6em\">0.00%</figcaption>\n",
       "            </figure>\n",
       "        \n",
       "            <figure style=\"margin: 5px !important;\">\n",
       "              <img src=\"data:image/png;base64,iVBORw0KGgoAAAANSUhEUgAAADIAAAAyAQAAAAA2RLUcAAAAEklEQVR4nGNgGHKgYaAdQEsAAHAQAIFp7U6dAAAAAElFTkSuQmCC\" style=\"height: auto\">\n",
       "              <figcaption style=\"font-size: 0.6em\">0.00%</figcaption>\n",
       "            </figure>\n",
       "        \n",
       "            <figure style=\"margin: 5px !important;\">\n",
       "              <img src=\"data:image/png;base64,iVBORw0KGgoAAAANSUhEUgAAADIAAAAyAQAAAAA2RLUcAAAAEklEQVR4nGNgGHKgYaAdQEsAAHAQAIFp7U6dAAAAAElFTkSuQmCC\" style=\"height: auto\">\n",
       "              <figcaption style=\"font-size: 0.6em\">0.00%</figcaption>\n",
       "            </figure>\n",
       "        \n",
       "            <figure style=\"margin: 5px !important;\">\n",
       "              <img src=\"data:image/png;base64,iVBORw0KGgoAAAANSUhEUgAAADIAAAAyAQAAAAA2RLUcAAAAPElEQVR4nO3KsQ2AIABE0SeNbOGorsYojGBJdzbE2OEAvuryc9JRFVPS2XHmoj2dI2OOwatT/T7ZWlk8bnT0C/nddgaWAAAAAElFTkSuQmCC\" style=\"height: auto\">\n",
       "              <figcaption style=\"font-size: 0.6em\">0.00%</figcaption>\n",
       "            </figure>\n",
       "        \n",
       "            <figure style=\"margin: 5px !important;\">\n",
       "              <img src=\"data:image/png;base64,iVBORw0KGgoAAAANSUhEUgAAADIAAAAyAQAAAAA2RLUcAAAAHUlEQVR4nGNgGPRAgIGBgYEJymFiYPgzcE6hPQAA7XwBERKTWeoAAAAASUVORK5CYII=\" style=\"height: auto\">\n",
       "              <figcaption style=\"font-size: 0.6em\">0.00%</figcaption>\n",
       "            </figure>\n",
       "        \n",
       "            <figure style=\"margin: 5px !important;\">\n",
       "              <img src=\"data:image/png;base64,iVBORw0KGgoAAAANSUhEUgAAADIAAAAyAQAAAAA2RLUcAAAAEklEQVR4nGNgGHLgw0A7gJYAANDAAPEWw3QHAAAAAElFTkSuQmCC\" style=\"height: auto\">\n",
       "              <figcaption style=\"font-size: 0.6em\">0.00%</figcaption>\n",
       "            </figure>\n",
       "        \n",
       "            <figure style=\"margin: 5px !important;\">\n",
       "              <img src=\"data:image/png;base64,iVBORw0KGgoAAAANSUhEUgAAADIAAAAyAQAAAAA2RLUcAAAALUlEQVR4nGNgYGD+//8HAxMDBOCiGRgYmB8wVBBURwNaAM0d/FD3fiHg3iEJACAFCI4ax/EpAAAAAElFTkSuQmCC\" style=\"height: auto\">\n",
       "              <figcaption style=\"font-size: 0.6em\">0.00%</figcaption>\n",
       "            </figure>\n",
       "        \n",
       "            <figure style=\"margin: 5px !important;\">\n",
       "              <img src=\"data:image/png;base64,iVBORw0KGgoAAAANSUhEUgAAADIAAAAyAQAAAAA2RLUcAAAAGklEQVR4nGNgGPQggYGBgYEJwRcYGGfQBwAAahAAc6ewrLcAAAAASUVORK5CYII=\" style=\"height: auto\">\n",
       "              <figcaption style=\"font-size: 0.6em\">0.00%</figcaption>\n",
       "            </figure>\n",
       "        \n",
       "            <figure style=\"margin: 5px !important;\">\n",
       "              <img src=\"data:image/png;base64,iVBORw0KGgoAAAANSUhEUgAAADIAAAAyAQAAAAA2RLUcAAAAF0lEQVR4nGNgGPQggYGBgYFpgB1BLwAAXEAAY0pqFIoAAAAASUVORK5CYII=\" style=\"height: auto\">\n",
       "              <figcaption style=\"font-size: 0.6em\">0.00%</figcaption>\n",
       "            </figure>\n",
       "        \n",
       "            <figure style=\"margin: 5px !important;\">\n",
       "              <img src=\"data:image/png;base64,iVBORw0KGgoAAAANSUhEUgAAADIAAAAyAQAAAAA2RLUcAAAAH0lEQVR4nGNgIBEcgFBMMP4DKP8Bmjj1QAKNzB2UAACurQLpz/ZAjgAAAABJRU5ErkJggg==\" style=\"height: auto\">\n",
       "              <figcaption style=\"font-size: 0.6em\">0.00%</figcaption>\n",
       "            </figure>\n",
       "        \n",
       "            <figure style=\"margin: 5px !important;\">\n",
       "              <img src=\"data:image/png;base64,iVBORw0KGgoAAAANSUhEUgAAADIAAAAyAQAAAAA2RLUcAAAAGUlEQVR4nGNgGPQggYGBgYEJwf+AQ3xYAAB8/wG10qNLmQAAAABJRU5ErkJggg==\" style=\"height: auto\">\n",
       "              <figcaption style=\"font-size: 0.6em\">0.00%</figcaption>\n",
       "            </figure>\n",
       "        \n",
       "            <figure style=\"margin: 5px !important;\">\n",
       "              <img src=\"data:image/png;base64,iVBORw0KGgoAAAANSUhEUgAAADIAAAAyAQAAAAA2RLUcAAAAOElEQVR4nGNgQAP/IRQTwwMoDQM/oLQMmjg7Ch8hztyATZxYGsncBFRxGRT3wPX9f4Gq/z/DkAQAi4kIAck/Kr8AAAAASUVORK5CYII=\" style=\"height: auto\">\n",
       "              <figcaption style=\"font-size: 0.6em\">0.00%</figcaption>\n",
       "            </figure>\n",
       "        \n",
       "            <figure style=\"margin: 5px !important;\">\n",
       "              <img src=\"data:image/png;base64,iVBORw0KGgoAAAANSUhEUgAAADIAAAAyAQAAAAA2RLUcAAAAF0lEQVR4nGNgGPQggYGBgYFpgB1BLwAAXEAAY0pqFIoAAAAASUVORK5CYII=\" style=\"height: auto\">\n",
       "              <figcaption style=\"font-size: 0.6em\">0.00%</figcaption>\n",
       "            </figure>\n",
       "        \n",
       "            <figure style=\"margin: 5px !important;\">\n",
       "              <img src=\"data:image/png;base64,iVBORw0KGgoAAAANSUhEUgAAADIAAAAyAQAAAAA2RLUcAAAAHUlEQVR4nGNgGPQggYGBgYEJymFiYFAYMJfQAQAAeaAAhag8kKYAAAAASUVORK5CYII=\" style=\"height: auto\">\n",
       "              <figcaption style=\"font-size: 0.6em\">0.00%</figcaption>\n",
       "            </figure>\n",
       "        \n",
       "            <figure style=\"margin: 5px !important;\">\n",
       "              <img src=\"data:image/png;base64,iVBORw0KGgoAAAANSUhEUgAAADIAAAAyAQAAAAA2RLUcAAAAcElEQVR4nL3PsQkCQRSE4W/3QMzOCtTKxE48c4u4UrYUS1iMDNRn5LHIKUZOMvAPzLwHm6iySSniIZPv6djy/qwvmdXo2vI1qWR2xMTfHXWO/+Djh54Type9111psGjzureE7uYw93dsXVqui8G/9ATQ1Rr9XwQk1gAAAABJRU5ErkJggg==\" style=\"height: auto\">\n",
       "              <figcaption style=\"font-size: 0.6em\">0.00%</figcaption>\n",
       "            </figure>\n",
       "        \n",
       "            <figure style=\"margin: 5px !important;\">\n",
       "              <img src=\"data:image/png;base64,iVBORw0KGgoAAAANSUhEUgAAADIAAAAyAQAAAAA2RLUcAAAAF0lEQVR4nGNgGPQggYGBgYFpgB1BLwAAXEAAY0pqFIoAAAAASUVORK5CYII=\" style=\"height: auto\">\n",
       "              <figcaption style=\"font-size: 0.6em\">0.00%</figcaption>\n",
       "            </figure>\n",
       "        \n",
       "            <figure style=\"margin: 5px !important;\">\n",
       "              <img src=\"data:image/png;base64,iVBORw0KGgoAAAANSUhEUgAAADIAAAAyAQAAAAA2RLUcAAAAH0lEQVR4nGNgGPQggYGBgYEJymFiYDCA0heQxYcLAAA33wFpBbeICAAAAABJRU5ErkJggg==\" style=\"height: auto\">\n",
       "              <figcaption style=\"font-size: 0.6em\">0.00%</figcaption>\n",
       "            </figure>\n",
       "        \n",
       "            <figure style=\"margin: 5px !important;\">\n",
       "              <img src=\"data:image/png;base64,iVBORw0KGgoAAAANSUhEUgAAADIAAAAyAQAAAAA2RLUcAAAAF0lEQVR4nGNgGPQggYGBgYFpgB1BLwAAXEAAY0pqFIoAAAAASUVORK5CYII=\" style=\"height: auto\">\n",
       "              <figcaption style=\"font-size: 0.6em\">0.00%</figcaption>\n",
       "            </figure>\n",
       "        \n",
       "            <figure style=\"margin: 5px !important;\">\n",
       "              <img src=\"data:image/png;base64,iVBORw0KGgoAAAANSUhEUgAAADIAAAAyAQAAAAA2RLUcAAAAF0lEQVR4nGNgGPQggYGBgYFpgB1BLwAAXEAAY0pqFIoAAAAASUVORK5CYII=\" style=\"height: auto\">\n",
       "              <figcaption style=\"font-size: 0.6em\">0.00%</figcaption>\n",
       "            </figure>\n",
       "        \n",
       "            <figure style=\"margin: 5px !important;\">\n",
       "              <img src=\"data:image/png;base64,iVBORw0KGgoAAAANSUhEUgAAADIAAAAyAQAAAAA2RLUcAAAAMUlEQVR4nNXPMREAIBTD0NevFGlYQRksHAMKIEsv3cIbZIJR22skSRQNzk+//Ou9uxejJAWHX8ImcQAAAABJRU5ErkJggg==\" style=\"height: auto\">\n",
       "              <figcaption style=\"font-size: 0.6em\">0.00%</figcaption>\n",
       "            </figure>\n",
       "        \n",
       "            <figure style=\"margin: 5px !important;\">\n",
       "              <img src=\"data:image/png;base64,iVBORw0KGgoAAAANSUhEUgAAADIAAAAyAQAAAAA2RLUcAAAAWElEQVR4nI3OsQ2AMAxE0RcXlAzCBAzCAIzASBmFURiFApAgJAg3J/1vWwcswjFXgrS+eEDX4OV93/aPHBp8JJgLnm/1Pv/Ghz/rVX2Llzn92EPa6j5yhe/uAwc2jfZZCwAAAABJRU5ErkJggg==\" style=\"height: auto\">\n",
       "              <figcaption style=\"font-size: 0.6em\">0.00%</figcaption>\n",
       "            </figure>\n",
       "        \n",
       "            <figure style=\"margin: 5px !important;\">\n",
       "              <img src=\"data:image/png;base64,iVBORw0KGgoAAAANSUhEUgAAADIAAAAyAQAAAAA2RLUcAAAAGUlEQVR4nGNgGHLgAQMDAwMTA8MCKD2sAABLbwGFmrOwVAAAAABJRU5ErkJggg==\" style=\"height: auto\">\n",
       "              <figcaption style=\"font-size: 0.6em\">0.00%</figcaption>\n",
       "            </figure>\n",
       "        \n",
       "            <figure style=\"margin: 5px !important;\">\n",
       "              <img src=\"data:image/png;base64,iVBORw0KGgoAAAANSUhEUgAAADIAAAAyAQAAAAA2RLUcAAAAF0lEQVR4nGNgGPQggYGBgYFpgB1BLwAAXEAAY0pqFIoAAAAASUVORK5CYII=\" style=\"height: auto\">\n",
       "              <figcaption style=\"font-size: 0.6em\">0.00%</figcaption>\n",
       "            </figure>\n",
       "        \n",
       "            <figure style=\"margin: 5px !important;\">\n",
       "              <img src=\"data:image/png;base64,iVBORw0KGgoAAAANSUhEUgAAADIAAAAyAQAAAAA2RLUcAAAAF0lEQVR4nGNgGPQggYGBgYFpgB1BLwAAXEAAY0pqFIoAAAAASUVORK5CYII=\" style=\"height: auto\">\n",
       "              <figcaption style=\"font-size: 0.6em\">0.00%</figcaption>\n",
       "            </figure>\n",
       "        \n",
       "            <figure style=\"margin: 5px !important;\">\n",
       "              <img src=\"data:image/png;base64,iVBORw0KGgoAAAANSUhEUgAAADIAAAAyAQAAAAA2RLUcAAAAF0lEQVR4nGNgGPQggYGBgYFpgB1BLwAAXEAAY0pqFIoAAAAASUVORK5CYII=\" style=\"height: auto\">\n",
       "              <figcaption style=\"font-size: 0.6em\">0.00%</figcaption>\n",
       "            </figure>\n",
       "        \n",
       "            <figure style=\"margin: 5px !important;\">\n",
       "              <img src=\"data:image/png;base64,iVBORw0KGgoAAAANSUhEUgAAADIAAAAyAQAAAAA2RLUcAAAAF0lEQVR4nGNgGPQggYGBgYFpgB1BLwAAXEAAY0pqFIoAAAAASUVORK5CYII=\" style=\"height: auto\">\n",
       "              <figcaption style=\"font-size: 0.6em\">0.00%</figcaption>\n",
       "            </figure>\n",
       "        \n",
       "            <figure style=\"margin: 5px !important;\">\n",
       "              <img src=\"data:image/png;base64,iVBORw0KGgoAAAANSUhEUgAAADIAAAAyAQAAAAA2RLUcAAAADklEQVR4nGNgGAWDCQAAAZAAAdO7EP4AAAAASUVORK5CYII=\" style=\"height: auto\">\n",
       "              <figcaption style=\"font-size: 0.6em\">0.00%</figcaption>\n",
       "            </figure>\n",
       "        \n",
       "            <figure style=\"margin: 5px !important;\">\n",
       "              <img src=\"data:image/png;base64,iVBORw0KGgoAAAANSUhEUgAAADIAAAAyAQAAAAA2RLUcAAAADklEQVR4nGNgGAWDCQAAAZAAAdO7EP4AAAAASUVORK5CYII=\" style=\"height: auto\">\n",
       "              <figcaption style=\"font-size: 0.6em\">0.00%</figcaption>\n",
       "            </figure>\n",
       "        \n",
       "            <figure style=\"margin: 5px !important;\">\n",
       "              <img src=\"data:image/png;base64,iVBORw0KGgoAAAANSUhEUgAAADIAAAAyAQAAAAA2RLUcAAAADklEQVR4nGNgGAWDCQAAAZAAAdO7EP4AAAAASUVORK5CYII=\" style=\"height: auto\">\n",
       "              <figcaption style=\"font-size: 0.6em\">0.00%</figcaption>\n",
       "            </figure>\n",
       "        \n",
       "            <figure style=\"margin: 5px !important;\">\n",
       "              <img src=\"data:image/png;base64,iVBORw0KGgoAAAANSUhEUgAAADIAAAAyAQAAAAA2RLUcAAAAEklEQVR4nGNgGHLgw0A7gJYAANDAAPEWw3QHAAAAAElFTkSuQmCC\" style=\"height: auto\">\n",
       "              <figcaption style=\"font-size: 0.6em\">0.00%</figcaption>\n",
       "            </figure>\n",
       "        \n",
       "            <figure style=\"margin: 5px !important;\">\n",
       "              <img src=\"data:image/png;base64,iVBORw0KGgoAAAANSUhEUgAAADIAAAAyAQAAAAA2RLUcAAAAGUlEQVR4nGNgGPQggYGBgYEJwf+AQ3xYAAB8/wG10qNLmQAAAABJRU5ErkJggg==\" style=\"height: auto\">\n",
       "              <figcaption style=\"font-size: 0.6em\">0.00%</figcaption>\n",
       "            </figure>\n",
       "        \n",
       "            <figure style=\"margin: 5px !important;\">\n",
       "              <img src=\"data:image/png;base64,iVBORw0KGgoAAAANSUhEUgAAADIAAAAyAQAAAAA2RLUcAAAAF0lEQVR4nGNgGPQggYGBgYFpgB1BLwAAXEAAY0pqFIoAAAAASUVORK5CYII=\" style=\"height: auto\">\n",
       "              <figcaption style=\"font-size: 0.6em\">0.00%</figcaption>\n",
       "            </figure>\n",
       "        \n",
       "            <figure style=\"margin: 5px !important;\">\n",
       "              <img src=\"data:image/png;base64,iVBORw0KGgoAAAANSUhEUgAAADIAAAAyAQAAAAA2RLUcAAAAF0lEQVR4nGNgGPQggYGBgYFpgB1BLwAAXEAAY0pqFIoAAAAASUVORK5CYII=\" style=\"height: auto\">\n",
       "              <figcaption style=\"font-size: 0.6em\">0.00%</figcaption>\n",
       "            </figure>\n",
       "        \n",
       "            <figure style=\"margin: 5px !important;\">\n",
       "              <img src=\"data:image/png;base64,iVBORw0KGgoAAAANSUhEUgAAADIAAAAyAQAAAAA2RLUcAAAAF0lEQVR4nGNgGPQggYGBgYFpgB1BLwAAXEAAY0pqFIoAAAAASUVORK5CYII=\" style=\"height: auto\">\n",
       "              <figcaption style=\"font-size: 0.6em\">0.00%</figcaption>\n",
       "            </figure>\n",
       "        \n",
       "            <figure style=\"margin: 5px !important;\">\n",
       "              <img src=\"data:image/png;base64,iVBORw0KGgoAAAANSUhEUgAAADIAAAAyAQAAAAA2RLUcAAAADklEQVR4nGNgGAWDCQAAAZAAAdO7EP4AAAAASUVORK5CYII=\" style=\"height: auto\">\n",
       "              <figcaption style=\"font-size: 0.6em\">0.00%</figcaption>\n",
       "            </figure>\n",
       "        \n",
       "            <figure style=\"margin: 5px !important;\">\n",
       "              <img src=\"data:image/png;base64,iVBORw0KGgoAAAANSUhEUgAAADIAAAAyAQAAAAA2RLUcAAAAF0lEQVR4nGNgGPQggYGBgYFpgB1BLwAAXEAAY0pqFIoAAAAASUVORK5CYII=\" style=\"height: auto\">\n",
       "              <figcaption style=\"font-size: 0.6em\">0.00%</figcaption>\n",
       "            </figure>\n",
       "        \n",
       "            <figure style=\"margin: 5px !important;\">\n",
       "              <img src=\"data:image/png;base64,iVBORw0KGgoAAAANSUhEUgAAADIAAAAyAQAAAAA2RLUcAAAATElEQVR4nGNgGPQggYGBgYGJbO3/H6DoZ///h4GBgYFJAiIEE2d50Pj/gQIDA8MfBv4HyOofMDB+gPJ5kMSZHjD8b0DmI7Hl0MRJoQFJhA4pBhnP/AAAAABJRU5ErkJggg==\" style=\"height: auto\">\n",
       "              <figcaption style=\"font-size: 0.6em\">0.00%</figcaption>\n",
       "            </figure>\n",
       "        \n",
       "            <figure style=\"margin: 5px !important;\">\n",
       "              <img src=\"data:image/png;base64,iVBORw0KGgoAAAANSUhEUgAAADIAAAAyAQAAAAA2RLUcAAAAF0lEQVR4nGNgGPQggYGBgYFpgB1BLwAAXEAAY0pqFIoAAAAASUVORK5CYII=\" style=\"height: auto\">\n",
       "              <figcaption style=\"font-size: 0.6em\">0.00%</figcaption>\n",
       "            </figure>\n",
       "        \n",
       "            <figure style=\"margin: 5px !important;\">\n",
       "              <img src=\"data:image/png;base64,iVBORw0KGgoAAAANSUhEUgAAADIAAAAyAQAAAAA2RLUcAAAADklEQVR4nGNgGAWDCQAAAZAAAdO7EP4AAAAASUVORK5CYII=\" style=\"height: auto\">\n",
       "              <figcaption style=\"font-size: 0.6em\">0.00%</figcaption>\n",
       "            </figure>\n",
       "        \n",
       "            <figure style=\"margin: 5px !important;\">\n",
       "              <img src=\"data:image/png;base64,iVBORw0KGgoAAAANSUhEUgAAADIAAAAyAQAAAAA2RLUcAAAAEklEQVR4nGNgGHLgw0A7gJYAANDAAPEWw3QHAAAAAElFTkSuQmCC\" style=\"height: auto\">\n",
       "              <figcaption style=\"font-size: 0.6em\">0.00%</figcaption>\n",
       "            </figure>\n",
       "        \n",
       "            <figure style=\"margin: 5px !important;\">\n",
       "              <img src=\"data:image/png;base64,iVBORw0KGgoAAAANSUhEUgAAADIAAAAyAQAAAAA2RLUcAAAAF0lEQVR4nGNgGPQggYGBgYFpgB1BLwAAXEAAY0pqFIoAAAAASUVORK5CYII=\" style=\"height: auto\">\n",
       "              <figcaption style=\"font-size: 0.6em\">0.00%</figcaption>\n",
       "            </figure>\n",
       "        \n",
       "            <figure style=\"margin: 5px !important;\">\n",
       "              <img src=\"data:image/png;base64,iVBORw0KGgoAAAANSUhEUgAAADIAAAAyAQAAAAA2RLUcAAAAF0lEQVR4nGNgGPQggYGBgYFpgB1BLwAAXEAAY0pqFIoAAAAASUVORK5CYII=\" style=\"height: auto\">\n",
       "              <figcaption style=\"font-size: 0.6em\">0.00%</figcaption>\n",
       "            </figure>\n",
       "        \n",
       "            <figure style=\"margin: 5px !important;\">\n",
       "              <img src=\"data:image/png;base64,iVBORw0KGgoAAAANSUhEUgAAADIAAAAyAQAAAAA2RLUcAAAAF0lEQVR4nGNgGPQggYGBgYFpgB1BLwAAXEAAY0pqFIoAAAAASUVORK5CYII=\" style=\"height: auto\">\n",
       "              <figcaption style=\"font-size: 0.6em\">0.00%</figcaption>\n",
       "            </figure>\n",
       "        \n",
       "            <figure style=\"margin: 5px !important;\">\n",
       "              <img src=\"data:image/png;base64,iVBORw0KGgoAAAANSUhEUgAAADIAAAAyAQAAAAA2RLUcAAAAF0lEQVR4nGNgGPQggYGBgYFpgB1BLwAAXEAAY0pqFIoAAAAASUVORK5CYII=\" style=\"height: auto\">\n",
       "              <figcaption style=\"font-size: 0.6em\">0.00%</figcaption>\n",
       "            </figure>\n",
       "        \n",
       "            <figure style=\"margin: 5px !important;\">\n",
       "              <img src=\"data:image/png;base64,iVBORw0KGgoAAAANSUhEUgAAADIAAAAyAQAAAAA2RLUcAAAAF0lEQVR4nGNgGPQggYGBgYFpgB1BLwAAXEAAY0pqFIoAAAAASUVORK5CYII=\" style=\"height: auto\">\n",
       "              <figcaption style=\"font-size: 0.6em\">0.00%</figcaption>\n",
       "            </figure>\n",
       "        \n",
       "            <figure style=\"margin: 5px !important;\">\n",
       "              <img src=\"data:image/png;base64,iVBORw0KGgoAAAANSUhEUgAAADIAAAAyAQAAAAA2RLUcAAAAF0lEQVR4nGNgGPQggYGBgYFpgB1BLwAAXEAAY0pqFIoAAAAASUVORK5CYII=\" style=\"height: auto\">\n",
       "              <figcaption style=\"font-size: 0.6em\">0.00%</figcaption>\n",
       "            </figure>\n",
       "        \n",
       "            <figure style=\"margin: 5px !important;\">\n",
       "              <img src=\"data:image/png;base64,iVBORw0KGgoAAAANSUhEUgAAADIAAAAyAQAAAAA2RLUcAAAAGklEQVR4nGNgGPQggYGBgYEJwX8wMM6gDwAAHa8BQzmrUFIAAAAASUVORK5CYII=\" style=\"height: auto\">\n",
       "              <figcaption style=\"font-size: 0.6em\">0.00%</figcaption>\n",
       "            </figure>\n",
       "        \n",
       "            <figure style=\"margin: 5px !important;\">\n",
       "              <img src=\"data:image/png;base64,iVBORw0KGgoAAAANSUhEUgAAADIAAAAyAQAAAAA2RLUcAAAALklEQVR4nGNgQAfs/////3+ACcpDohkZGZkYsIgTS/////8fhjgRIIFE9UMaAAAayAlAkisSOAAAAABJRU5ErkJggg==\" style=\"height: auto\">\n",
       "              <figcaption style=\"font-size: 0.6em\">0.00%</figcaption>\n",
       "            </figure>\n",
       "        \n",
       "            <figure style=\"margin: 5px !important;\">\n",
       "              <img src=\"data:image/png;base64,iVBORw0KGgoAAAANSUhEUgAAADIAAAAyAQAAAAA2RLUcAAAADklEQVR4nGNgGAWDCQAAAZAAAdO7EP4AAAAASUVORK5CYII=\" style=\"height: auto\">\n",
       "              <figcaption style=\"font-size: 0.6em\">0.00%</figcaption>\n",
       "            </figure>\n",
       "        \n",
       "            <figure style=\"margin: 5px !important;\">\n",
       "              <img src=\"data:image/png;base64,iVBORw0KGgoAAAANSUhEUgAAADIAAAAyAQAAAAA2RLUcAAAAUElEQVR4nGNgYGBggmIYYGxA8JHFGRwwxZkYGBgYPuAQR9fPQVgdFjqBbHM0CMgLYBdndMDufiY0dVxofBYoHYAqzqgAYfKh2ZMEodkFkMUBanQD+7lNbHAAAAAASUVORK5CYII=\" style=\"height: auto\">\n",
       "              <figcaption style=\"font-size: 0.6em\">0.00%</figcaption>\n",
       "            </figure>\n",
       "        \n",
       "            <figure style=\"margin: 5px !important;\">\n",
       "              <img src=\"data:image/png;base64,iVBORw0KGgoAAAANSUhEUgAAADIAAAAyAQAAAAA2RLUcAAAAF0lEQVR4nGNgGPQggYGBgYFpgB1BLwAAXEAAY0pqFIoAAAAASUVORK5CYII=\" style=\"height: auto\">\n",
       "              <figcaption style=\"font-size: 0.6em\">0.00%</figcaption>\n",
       "            </figure>\n",
       "        \n",
       "            <figure style=\"margin: 5px !important;\">\n",
       "              <img src=\"data:image/png;base64,iVBORw0KGgoAAAANSUhEUgAAADIAAAAyAQAAAAA2RLUcAAAAF0lEQVR4nGNgGPQggYGBgYFpgB1BLwAAXEAAY0pqFIoAAAAASUVORK5CYII=\" style=\"height: auto\">\n",
       "              <figcaption style=\"font-size: 0.6em\">0.00%</figcaption>\n",
       "            </figure>\n",
       "        \n",
       "            <figure style=\"margin: 5px !important;\">\n",
       "              <img src=\"data:image/png;base64,iVBORw0KGgoAAAANSUhEUgAAADIAAAAyAQAAAAA2RLUcAAAAHUlEQVR4nGP8z8DAwMBwkIkBAmD0IAYNA+0AWgIALZcCRsTiQwAAAAAASUVORK5CYII=\" style=\"height: auto\">\n",
       "              <figcaption style=\"font-size: 0.6em\">0.00%</figcaption>\n",
       "            </figure>\n",
       "        \n",
       "            <figure style=\"margin: 5px !important;\">\n",
       "              <img src=\"data:image/png;base64,iVBORw0KGgoAAAANSUhEUgAAADIAAAAyAQAAAAA2RLUcAAAAOklEQVR4nGNgGPQggYGBgYEJRYj9AITPAReH0AZo6uogFOMPNHXofHQazdz/bVCe/QFUdRcwzKUUAABdWAhFLK78cQAAAABJRU5ErkJggg==\" style=\"height: auto\">\n",
       "              <figcaption style=\"font-size: 0.6em\">0.00%</figcaption>\n",
       "            </figure>\n",
       "        \n",
       "            <figure style=\"margin: 5px !important;\">\n",
       "              <img src=\"data:image/png;base64,iVBORw0KGgoAAAANSUhEUgAAADIAAAAyAQAAAAA2RLUcAAAAOUlEQVR4nGNgYGDgYWBgYGKAABgNY2MTZ2zALs7ggCmOQn/AoY8Dh/p/DAxMDAwJGOoZG7CbMwwAABP9A82tLteqAAAAAElFTkSuQmCC\" style=\"height: auto\">\n",
       "              <figcaption style=\"font-size: 0.6em\">0.00%</figcaption>\n",
       "            </figure>\n",
       "        \n",
       "            <figure style=\"margin: 5px !important;\">\n",
       "              <img src=\"data:image/png;base64,iVBORw0KGgoAAAANSUhEUgAAADIAAAAyAQAAAAA2RLUcAAAAXElEQVR4nGNgGPQggYGDgYEJWcQOyndsQBFn/IdQx8TAwMD0C0Lz/EAVF7gAoRMOoJpbBzXmDwOKeqYvEJqHAVVc4AMqP2EBhPkPVR0zlM/yBVX8zwcI/XcBsjgAJhURlHkxjhcAAAAASUVORK5CYII=\" style=\"height: auto\">\n",
       "              <figcaption style=\"font-size: 0.6em\">0.00%</figcaption>\n",
       "            </figure>\n",
       "        \n",
       "            <figure style=\"margin: 5px !important;\">\n",
       "              <img src=\"data:image/png;base64,iVBORw0KGgoAAAANSUhEUgAAADIAAAAyAQAAAAA2RLUcAAAAF0lEQVR4nGNgGPQggYGBgYFpgB1BLwAAXEAAY0pqFIoAAAAASUVORK5CYII=\" style=\"height: auto\">\n",
       "              <figcaption style=\"font-size: 0.6em\">0.00%</figcaption>\n",
       "            </figure>\n",
       "        \n",
       "            <figure style=\"margin: 5px !important;\">\n",
       "              <img src=\"data:image/png;base64,iVBORw0KGgoAAAANSUhEUgAAADIAAAAyAQAAAAA2RLUcAAAAF0lEQVR4nGNgGPQggYGBgYFpgB1BLwAAXEAAY0pqFIoAAAAASUVORK5CYII=\" style=\"height: auto\">\n",
       "              <figcaption style=\"font-size: 0.6em\">0.00%</figcaption>\n",
       "            </figure>\n",
       "        \n",
       "            <figure style=\"margin: 5px !important;\">\n",
       "              <img src=\"data:image/png;base64,iVBORw0KGgoAAAANSUhEUgAAADIAAAAyAQAAAAA2RLUcAAAAF0lEQVR4nGNgGPQggYGBgYFpgB1BLwAAXEAAY0pqFIoAAAAASUVORK5CYII=\" style=\"height: auto\">\n",
       "              <figcaption style=\"font-size: 0.6em\">0.00%</figcaption>\n",
       "            </figure>\n",
       "        \n",
       "            <figure style=\"margin: 5px !important;\">\n",
       "              <img src=\"data:image/png;base64,iVBORw0KGgoAAAANSUhEUgAAADIAAAAyAQAAAAA2RLUcAAAAF0lEQVR4nGNgGPQggYGBgYFpgB1BLwAAXEAAY0pqFIoAAAAASUVORK5CYII=\" style=\"height: auto\">\n",
       "              <figcaption style=\"font-size: 0.6em\">0.00%</figcaption>\n",
       "            </figure>\n",
       "        \n",
       "            <figure style=\"margin: 5px !important;\">\n",
       "              <img src=\"data:image/png;base64,iVBORw0KGgoAAAANSUhEUgAAADIAAAAyAQAAAAA2RLUcAAAADklEQVR4nGNgGAWDCQAAAZAAAdO7EP4AAAAASUVORK5CYII=\" style=\"height: auto\">\n",
       "              <figcaption style=\"font-size: 0.6em\">0.00%</figcaption>\n",
       "            </figure>\n",
       "        \n",
       "            <figure style=\"margin: 5px !important;\">\n",
       "              <img src=\"data:image/png;base64,iVBORw0KGgoAAAANSUhEUgAAADIAAAAyAQAAAAA2RLUcAAAADklEQVR4nGNgGAWDCQAAAZAAAdO7EP4AAAAASUVORK5CYII=\" style=\"height: auto\">\n",
       "              <figcaption style=\"font-size: 0.6em\">0.00%</figcaption>\n",
       "            </figure>\n",
       "        \n",
       "            <figure style=\"margin: 5px !important;\">\n",
       "              <img src=\"data:image/png;base64,iVBORw0KGgoAAAANSUhEUgAAADIAAAAyAQAAAAA2RLUcAAAAF0lEQVR4nGNgGPQggYGBgYFpgB1BLwAAXEAAY0pqFIoAAAAASUVORK5CYII=\" style=\"height: auto\">\n",
       "              <figcaption style=\"font-size: 0.6em\">0.00%</figcaption>\n",
       "            </figure>\n",
       "        \n",
       "            <figure style=\"margin: 5px !important;\">\n",
       "              <img src=\"data:image/png;base64,iVBORw0KGgoAAAANSUhEUgAAADIAAAAyAQAAAAA2RLUcAAAAF0lEQVR4nGNgGPQggYGBgYFpgB1BLwAAXEAAY0pqFIoAAAAASUVORK5CYII=\" style=\"height: auto\">\n",
       "              <figcaption style=\"font-size: 0.6em\">0.00%</figcaption>\n",
       "            </figure>\n",
       "        \n",
       "            <figure style=\"margin: 5px !important;\">\n",
       "              <img src=\"data:image/png;base64,iVBORw0KGgoAAAANSUhEUgAAADIAAAAyAQAAAAA2RLUcAAAADklEQVR4nGNgGAWDCQAAAZAAAdO7EP4AAAAASUVORK5CYII=\" style=\"height: auto\">\n",
       "              <figcaption style=\"font-size: 0.6em\">0.00%</figcaption>\n",
       "            </figure>\n",
       "        \n",
       "            <figure style=\"margin: 5px !important;\">\n",
       "              <img src=\"data:image/png;base64,iVBORw0KGgoAAAANSUhEUgAAADIAAAAyAQAAAAA2RLUcAAAAF0lEQVR4nGNgGPQggYGBgYFpgB1BLwAAXEAAY0pqFIoAAAAASUVORK5CYII=\" style=\"height: auto\">\n",
       "              <figcaption style=\"font-size: 0.6em\">0.00%</figcaption>\n",
       "            </figure>\n",
       "        \n",
       "            <figure style=\"margin: 5px !important;\">\n",
       "              <img src=\"data:image/png;base64,iVBORw0KGgoAAAANSUhEUgAAADIAAAAyAQAAAAA2RLUcAAAAJElEQVR4nGNgGPQggYGBgYEJQ5iZAVmciYGxAVUdM21dRSMAAMjaAPC9S+TjAAAAAElFTkSuQmCC\" style=\"height: auto\">\n",
       "              <figcaption style=\"font-size: 0.6em\">0.00%</figcaption>\n",
       "            </figure>\n",
       "        \n",
       "            <figure style=\"margin: 5px !important;\">\n",
       "              <img src=\"data:image/png;base64,iVBORw0KGgoAAAANSUhEUgAAADIAAAAyAQAAAAA2RLUcAAAAF0lEQVR4nGNgGPQggYGBgYFpgB1BLwAAXEAAY0pqFIoAAAAASUVORK5CYII=\" style=\"height: auto\">\n",
       "              <figcaption style=\"font-size: 0.6em\">0.00%</figcaption>\n",
       "            </figure>\n",
       "        \n",
       "            <figure style=\"margin: 5px !important;\">\n",
       "              <img src=\"data:image/png;base64,iVBORw0KGgoAAAANSUhEUgAAADIAAAAyAQAAAAA2RLUcAAAAF0lEQVR4nGNgGPQggYGBgYFpgB1BLwAAXEAAY0pqFIoAAAAASUVORK5CYII=\" style=\"height: auto\">\n",
       "              <figcaption style=\"font-size: 0.6em\">0.00%</figcaption>\n",
       "            </figure>\n",
       "        \n",
       "            <figure style=\"margin: 5px !important;\">\n",
       "              <img src=\"data:image/png;base64,iVBORw0KGgoAAAANSUhEUgAAADIAAAAyAQAAAAA2RLUcAAAADklEQVR4nGNgGAWDCQAAAZAAAdO7EP4AAAAASUVORK5CYII=\" style=\"height: auto\">\n",
       "              <figcaption style=\"font-size: 0.6em\">0.00%</figcaption>\n",
       "            </figure>\n",
       "        \n",
       "            <figure style=\"margin: 5px !important;\">\n",
       "              <img src=\"data:image/png;base64,iVBORw0KGgoAAAANSUhEUgAAADIAAAAyAQAAAAA2RLUcAAAAF0lEQVR4nGNgGPQggYGBgYFpgB1BLwAAXEAAY0pqFIoAAAAASUVORK5CYII=\" style=\"height: auto\">\n",
       "              <figcaption style=\"font-size: 0.6em\">0.00%</figcaption>\n",
       "            </figure>\n",
       "        \n",
       "            <figure style=\"margin: 5px !important;\">\n",
       "              <img src=\"data:image/png;base64,iVBORw0KGgoAAAANSUhEUgAAADIAAAAyAQAAAAA2RLUcAAAADklEQVR4nGNgGAWDCQAAAZAAAdO7EP4AAAAASUVORK5CYII=\" style=\"height: auto\">\n",
       "              <figcaption style=\"font-size: 0.6em\">0.00%</figcaption>\n",
       "            </figure>\n",
       "        \n",
       "            <figure style=\"margin: 5px !important;\">\n",
       "              <img src=\"data:image/png;base64,iVBORw0KGgoAAAANSUhEUgAAADIAAAAyAQAAAAA2RLUcAAAAKElEQVR4nGNgGPQggYGBgYGJeub9////A9w8JHMfMDAUYIjTisblDgDDfQmvpwJ4lwAAAABJRU5ErkJggg==\" style=\"height: auto\">\n",
       "              <figcaption style=\"font-size: 0.6em\">0.00%</figcaption>\n",
       "            </figure>\n",
       "        \n",
       "            <figure style=\"margin: 5px !important;\">\n",
       "              <img src=\"data:image/png;base64,iVBORw0KGgoAAAANSUhEUgAAADIAAAAyAQAAAAA2RLUcAAAAF0lEQVR4nGNgGPQggYGBgYFpgB1BLwAAXEAAY0pqFIoAAAAASUVORK5CYII=\" style=\"height: auto\">\n",
       "              <figcaption style=\"font-size: 0.6em\">0.00%</figcaption>\n",
       "            </figure>\n",
       "        \n",
       "            <figure style=\"margin: 5px !important;\">\n",
       "              <img src=\"data:image/png;base64,iVBORw0KGgoAAAANSUhEUgAAADIAAAAyAQAAAAA2RLUcAAAAF0lEQVR4nGNgGPQggYGBgYFpgB1BLwAAXEAAY0pqFIoAAAAASUVORK5CYII=\" style=\"height: auto\">\n",
       "              <figcaption style=\"font-size: 0.6em\">0.00%</figcaption>\n",
       "            </figure>\n",
       "        \n",
       "            <figure style=\"margin: 5px !important;\">\n",
       "              <img src=\"data:image/png;base64,iVBORw0KGgoAAAANSUhEUgAAADIAAAAyAQAAAAA2RLUcAAAAF0lEQVR4nGNgGPQggYGBgYFpgB1BLwAAXEAAY0pqFIoAAAAASUVORK5CYII=\" style=\"height: auto\">\n",
       "              <figcaption style=\"font-size: 0.6em\">0.00%</figcaption>\n",
       "            </figure>\n",
       "        \n",
       "            <figure style=\"margin: 5px !important;\">\n",
       "              <img src=\"data:image/png;base64,iVBORw0KGgoAAAANSUhEUgAAADIAAAAyAQAAAAA2RLUcAAAADklEQVR4nGNgGAWDCQAAAZAAAdO7EP4AAAAASUVORK5CYII=\" style=\"height: auto\">\n",
       "              <figcaption style=\"font-size: 0.6em\">0.00%</figcaption>\n",
       "            </figure>\n",
       "        \n",
       "            <figure style=\"margin: 5px !important;\">\n",
       "              <img src=\"data:image/png;base64,iVBORw0KGgoAAAANSUhEUgAAADIAAAAyAQAAAAA2RLUcAAAADklEQVR4nGNgGAWDCQAAAZAAAdO7EP4AAAAASUVORK5CYII=\" style=\"height: auto\">\n",
       "              <figcaption style=\"font-size: 0.6em\">0.00%</figcaption>\n",
       "            </figure>\n",
       "        \n",
       "            <figure style=\"margin: 5px !important;\">\n",
       "              <img src=\"data:image/png;base64,iVBORw0KGgoAAAANSUhEUgAAADIAAAAyAQAAAAA2RLUcAAAAF0lEQVR4nGNgGPQggYGBgYFpgB1BLwAAXEAAY0pqFIoAAAAASUVORK5CYII=\" style=\"height: auto\">\n",
       "              <figcaption style=\"font-size: 0.6em\">0.00%</figcaption>\n",
       "            </figure>\n",
       "        \n",
       "    </div>"
      ],
      "text/plain": [
       "<IPython.core.display.HTML object>"
      ]
     },
     "execution_count": 13,
     "metadata": {},
     "output_type": "execute_result"
    }
   ],
   "source": [
    "kernel_images = grid.get_kernel_images(1)\n",
    "kernel_images.sort(key=lambda ki: ki.kernel.get_stats().match_success_rate, reverse=True)\n",
    "images = []\n",
    "captions = {}\n",
    "\n",
    "for ki in kernel_images:\n",
    "    image = ki.image.resize((50, 50))\n",
    "    images.append(image)\n",
    "    captions[id(image)] = f'{ki.kernel.get_stats().match_success_rate * 100:.2f}%'\n",
    "\n",
    "display_images_grid(images, grid.size, captions=captions)"
   ]
  },
  {
   "cell_type": "code",
   "execution_count": null,
   "id": "5dda9be3-8a79-442a-96ab-132355b8770d",
   "metadata": {},
   "outputs": [],
   "source": [
    "ops1 = grid.indices[(15,15)].genotype.ops\n",
    "ops2 = grid.indices[(13,13)].genotype.ops\n",
    "ops1 == ops2"
   ]
  },
  {
   "cell_type": "raw",
   "id": "d9a628b9-4765-4428-8ff8-624999be67b9",
   "metadata": {},
   "source": [
    "%%time\n",
    "\n",
    "for day in tqdm(range(config.kernel_grid_evolution_days)):\n",
    "    grid.restart_mp()\n",
    "    # Make day impressions\n",
    "    day_images = get_day_images()\n",
    "\n",
    "    for image in day_images:\n",
    "        image_data = image[1]\n",
    "        grid.perceive_mp(image_data, config.kernel_match_threshold, config.kernel_grid_match_threshold)\n",
    "\n",
    "    # Adjust kernels to better match day impressions\n",
    "    pass"
   ]
  }
 ],
 "metadata": {
  "kernelspec": {
   "display_name": "Python 3 (ipykernel)",
   "language": "python",
   "name": "python3"
  },
  "language_info": {
   "codemirror_mode": {
    "name": "ipython",
    "version": 3
   },
   "file_extension": ".py",
   "mimetype": "text/x-python",
   "name": "python",
   "nbconvert_exporter": "python",
   "pygments_lexer": "ipython3",
   "version": "3.12.8"
  }
 },
 "nbformat": 4,
 "nbformat_minor": 5
}
