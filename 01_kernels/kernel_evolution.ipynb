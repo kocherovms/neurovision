{
 "cells": [
  {
   "cell_type": "code",
   "execution_count": 40,
   "id": "2bbfdaee-2db9-4f81-8965-5e4e35bfa85c",
   "metadata": {
    "editable": true,
    "slideshow": {
     "slide_type": ""
    },
    "tags": []
   },
   "outputs": [
    {
     "name": "stdout",
     "output_type": "stream",
     "text": [
      "Process ID: 1396951\n"
     ]
    }
   ],
   "source": [
    "import os\n",
    "from tqdm.notebook import tqdm\n",
    "\n",
    "%run kernel_grid.ipynb\n",
    "\n",
    "print(f'Process ID: {os.getpid()}')"
   ]
  },
  {
   "cell_type": "code",
   "execution_count": 41,
   "id": "d97870ec-a8a4-4f12-96df-3a14bc371483",
   "metadata": {},
   "outputs": [],
   "source": [
    "config = Config()"
   ]
  },
  {
   "cell_type": "code",
   "execution_count": 42,
   "id": "8ce33ec1-bf16-47bc-836d-254bbf00c17d",
   "metadata": {},
   "outputs": [
    {
     "data": {
      "application/vnd.jupyter.widget-view+json": {
       "model_id": "680b0cb80ace46e581eeb305a0946c1b",
       "version_major": 2,
       "version_minor": 0
      },
      "text/plain": [
       "  0%|          | 0/3000 [00:00<?, ?it/s]"
      ]
     },
     "metadata": {},
     "output_type": "display_data"
    },
    {
     "name": "stdout",
     "output_type": "stream",
     "text": [
      "Loaded 3000 images\n",
      "CPU times: user 147 ms, sys: 28.1 ms, total: 175 ms\n",
      "Wall time: 172 ms\n"
     ]
    }
   ],
   "source": [
    "%%time\n",
    "images = []\n",
    "\n",
    "for image_fname in tqdm(os.listdir(config.dataset_path)):\n",
    "    image_fname = os.path.join(config.dataset_path, image_fname)\n",
    "\n",
    "    # Following fuss with \"with\" is required to prevent \"Too many open files\" problem\n",
    "    with Image.open(image_fname) as image:\n",
    "        image.load()\n",
    "        assert image.width == image.height\n",
    "        assert image.mode == 'L'\n",
    "        images.append((image_fname, np.array(image)))\n",
    "        \n",
    "    assert image.fp is None\n",
    "\n",
    "print(f'Loaded {len(images)} images')"
   ]
  },
  {
   "cell_type": "code",
   "execution_count": 43,
   "id": "95ef7b1b-926c-435f-abc3-12dadd712dff",
   "metadata": {},
   "outputs": [
    {
     "data": {
      "text/plain": [
       "('dataset/dataset_source_101_ObjectCategories_cougar_face_image_0061@139,150.png',\n",
       " array([[ 0,  0,  0, ..., 15, 11,  0],\n",
       "        [ 0,  0,  0, ...,  0,  5, 17],\n",
       "        [ 0, 18,  8, ...,  0, 17, 26],\n",
       "        ...,\n",
       "        [ 0,  0,  0, ...,  0,  0,  0],\n",
       "        [ 0,  7, 15, ...,  0,  0,  1],\n",
       "        [ 3,  1, 11, ...,  0,  0,  0]], shape=(32, 32), dtype=uint8))"
      ]
     },
     "execution_count": 43,
     "metadata": {},
     "output_type": "execute_result"
    }
   ],
   "source": [
    "images[0]"
   ]
  },
  {
   "cell_type": "code",
   "execution_count": 44,
   "id": "207b73ce-92c5-44ea-90f1-038436918cbd",
   "metadata": {
    "editable": true,
    "slideshow": {
     "slide_type": ""
    },
    "tags": []
   },
   "outputs": [],
   "source": [
    "grid = KernelGrid.random(config)"
   ]
  },
  {
   "cell_type": "code",
   "execution_count": 45,
   "id": "4ba094da-25e7-4c4c-b860-5c8ed5aa0b0d",
   "metadata": {},
   "outputs": [],
   "source": [
    "def get_day_images():\n",
    "    return images"
   ]
  },
  {
   "cell_type": "code",
   "execution_count": null,
   "id": "c9a87d75-c9c9-4438-98f0-31d69e33c05a",
   "metadata": {
    "editable": true,
    "slideshow": {
     "slide_type": ""
    },
    "tags": []
   },
   "outputs": [
    {
     "data": {
      "application/vnd.jupyter.widget-view+json": {
       "model_id": "9976a040424741b3abe5cb4f4162f45c",
       "version_major": 2,
       "version_minor": 0
      },
      "text/plain": [
       "  0%|          | 0/14 [00:00<?, ?it/s]"
      ]
     },
     "metadata": {},
     "output_type": "display_data"
    }
   ],
   "source": [
    "%%time\n",
    "\n",
    "for day in tqdm(range(config.kernel_grid_evolution_days)):\n",
    "    # Make day impressions\n",
    "    day_images = get_day_images()\n",
    "\n",
    "    for image in day_images:\n",
    "        image_data = image[1]\n",
    "        grid.run_image_st(image_data, config.kernel_match_threshold, config.kernel_grid_match_threshold)\n",
    "\n",
    "    # Adjust kernels to better match day impressions\n",
    "    pass"
   ]
  },
  {
   "cell_type": "code",
   "execution_count": null,
   "id": "5aa733bd-e326-4646-92d9-072cf2e5f420",
   "metadata": {},
   "outputs": [],
   "source": []
  }
 ],
 "metadata": {
  "kernelspec": {
   "display_name": "Python 3 (ipykernel)",
   "language": "python",
   "name": "python3"
  },
  "language_info": {
   "codemirror_mode": {
    "name": "ipython",
    "version": 3
   },
   "file_extension": ".py",
   "mimetype": "text/x-python",
   "name": "python",
   "nbconvert_exporter": "python",
   "pygments_lexer": "ipython3",
   "version": "3.12.8"
  }
 },
 "nbformat": 4,
 "nbformat_minor": 5
}
