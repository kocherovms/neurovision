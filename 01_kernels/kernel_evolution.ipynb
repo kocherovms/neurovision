{
 "cells": [
  {
   "cell_type": "code",
   "execution_count": 4,
   "id": "2bbfdaee-2db9-4f81-8965-5e4e35bfa85c",
   "metadata": {
    "editable": true,
    "slideshow": {
     "slide_type": ""
    },
    "tags": []
   },
   "outputs": [
    {
     "name": "stdout",
     "output_type": "stream",
     "text": [
      "6.88 μs ± 3.7 μs per loop (mean ± std. dev. of 7 runs, 10,000 loops each)\n",
      "4.76 μs ± 53.9 ns per loop (mean ± std. dev. of 7 runs, 10,000 loops each)\n",
      "Started pool with 12 workers, chunk size = 21\n",
      "Process ID: 1432051\n"
     ]
    }
   ],
   "source": [
    "import os\n",
    "from tqdm.notebook import tqdm\n",
    "\n",
    "%run kernel_grid.ipynb\n",
    "\n",
    "print(f'Process ID: {os.getpid()}')"
   ]
  },
  {
   "cell_type": "code",
   "execution_count": 5,
   "id": "d97870ec-a8a4-4f12-96df-3a14bc371483",
   "metadata": {},
   "outputs": [],
   "source": [
    "config = Config()"
   ]
  },
  {
   "cell_type": "code",
   "execution_count": 6,
   "id": "8ce33ec1-bf16-47bc-836d-254bbf00c17d",
   "metadata": {},
   "outputs": [
    {
     "data": {
      "application/vnd.jupyter.widget-view+json": {
       "model_id": "5c914c916fe7496da495ceccc414cc77",
       "version_major": 2,
       "version_minor": 0
      },
      "text/plain": [
       "  0%|          | 0/3000 [00:00<?, ?it/s]"
      ]
     },
     "metadata": {},
     "output_type": "display_data"
    },
    {
     "name": "stdout",
     "output_type": "stream",
     "text": [
      "Loaded 3000 images\n",
      "CPU times: user 145 ms, sys: 31.8 ms, total: 177 ms\n",
      "Wall time: 176 ms\n"
     ]
    }
   ],
   "source": [
    "%%time\n",
    "images = []\n",
    "\n",
    "for image_fname in tqdm(os.listdir(config.dataset_path)):\n",
    "    image_fname = os.path.join(config.dataset_path, image_fname)\n",
    "\n",
    "    # Following fuss with \"with\" is required to prevent \"Too many open files\" problem\n",
    "    with Image.open(image_fname) as image:\n",
    "        image.load()\n",
    "        assert image.width == image.height\n",
    "        assert image.mode == 'L'\n",
    "        images.append((image_fname, np.array(image)))\n",
    "        \n",
    "    assert image.fp is None\n",
    "\n",
    "print(f'Loaded {len(images)} images')"
   ]
  },
  {
   "cell_type": "code",
   "execution_count": 7,
   "id": "95ef7b1b-926c-435f-abc3-12dadd712dff",
   "metadata": {},
   "outputs": [
    {
     "data": {
      "text/plain": [
       "('dataset/dataset_source_101_ObjectCategories_cougar_face_image_0061@139,150.png',\n",
       " array([[ 0,  0,  0, ..., 15, 11,  0],\n",
       "        [ 0,  0,  0, ...,  0,  5, 17],\n",
       "        [ 0, 18,  8, ...,  0, 17, 26],\n",
       "        ...,\n",
       "        [ 0,  0,  0, ...,  0,  0,  0],\n",
       "        [ 0,  7, 15, ...,  0,  0,  1],\n",
       "        [ 3,  1, 11, ...,  0,  0,  0]], shape=(32, 32), dtype=uint8))"
      ]
     },
     "execution_count": 7,
     "metadata": {},
     "output_type": "execute_result"
    }
   ],
   "source": [
    "images[0]"
   ]
  },
  {
   "cell_type": "raw",
   "id": "1b507e39-6b1d-478d-88d5-2fe8b9f1aa32",
   "metadata": {},
   "source": [
    "my_config = Config()\n",
    "my_config.kernel_size = 32\n",
    "my_config.kernel_grid_size = 128\n",
    "\n",
    "test_grid = KernelGrid.random(my_config)\n",
    "test_grid.restart_mp()\n",
    "image_data = images[0][1]\n",
    "\n",
    "%timeit test_grid.run_image_mp(image_data, config.kernel_match_threshold, config.kernel_grid_match_threshold)\n",
    "%timeit test_grid.run_image_st(image_data, config.kernel_match_threshold, config.kernel_grid_match_threshold)"
   ]
  },
  {
   "cell_type": "code",
   "execution_count": 11,
   "id": "207b73ce-92c5-44ea-90f1-038436918cbd",
   "metadata": {
    "editable": true,
    "slideshow": {
     "slide_type": ""
    },
    "tags": []
   },
   "outputs": [],
   "source": [
    "grid = KernelGrid.random(config)"
   ]
  },
  {
   "cell_type": "code",
   "execution_count": 12,
   "id": "4ba094da-25e7-4c4c-b860-5c8ed5aa0b0d",
   "metadata": {},
   "outputs": [],
   "source": [
    "def get_day_images():\n",
    "    return images"
   ]
  },
  {
   "cell_type": "code",
   "execution_count": 13,
   "id": "97e04d33-ba0e-4038-80c1-816f703c0e0b",
   "metadata": {
    "editable": true,
    "slideshow": {
     "slide_type": ""
    },
    "tags": []
   },
   "outputs": [
    {
     "data": {
      "application/vnd.jupyter.widget-view+json": {
       "model_id": "46adc8708d904de1aa6f4ebacc9524a3",
       "version_major": 2,
       "version_minor": 0
      },
      "text/plain": [
       "  0%|          | 0/14 [00:00<?, ?it/s]"
      ]
     },
     "metadata": {},
     "output_type": "display_data"
    },
    {
     "name": "stdout",
     "output_type": "stream",
     "text": [
      "CPU times: user 57.7 s, sys: 13.1 ms, total: 57.7 s\n",
      "Wall time: 57.7 s\n"
     ]
    }
   ],
   "source": [
    "%%time\n",
    "\n",
    "for day in tqdm(range(config.kernel_grid_evolution_days)):\n",
    "    # Make day impressions\n",
    "    day_images = get_day_images()\n",
    "\n",
    "    for image in day_images:\n",
    "        image_data = image[1]\n",
    "        grid.run_image_st(image_data, config.kernel_match_threshold, config.kernel_grid_match_threshold)\n",
    "\n",
    "    # Adjust kernels to better match day impressions\n",
    "    pass"
   ]
  },
  {
   "cell_type": "raw",
   "id": "d9a628b9-4765-4428-8ff8-624999be67b9",
   "metadata": {},
   "source": [
    "%%time\n",
    "\n",
    "for day in tqdm(range(config.kernel_grid_evolution_days)):\n",
    "    grid.restart_mp()\n",
    "    # Make day impressions\n",
    "    day_images = get_day_images()\n",
    "\n",
    "    for image in day_images:\n",
    "        image_data = image[1]\n",
    "        grid.run_image_mp(image_data, config.kernel_match_threshold, config.kernel_grid_match_threshold)\n",
    "\n",
    "    # Adjust kernels to better match day impressions\n",
    "    pass"
   ]
  },
  {
   "cell_type": "code",
   "execution_count": null,
   "id": "65a750fb-a7fc-48c7-96e5-1b7d5523558d",
   "metadata": {},
   "outputs": [],
   "source": []
  }
 ],
 "metadata": {
  "kernelspec": {
   "display_name": "Python 3 (ipykernel)",
   "language": "python",
   "name": "python3"
  },
  "language_info": {
   "codemirror_mode": {
    "name": "ipython",
    "version": 3
   },
   "file_extension": ".py",
   "mimetype": "text/x-python",
   "name": "python",
   "nbconvert_exporter": "python",
   "pygments_lexer": "ipython3",
   "version": "3.12.8"
  }
 },
 "nbformat": 4,
 "nbformat_minor": 5
}
