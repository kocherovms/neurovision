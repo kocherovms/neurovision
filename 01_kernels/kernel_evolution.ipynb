{
 "cells": [
  {
   "cell_type": "code",
   "execution_count": 1,
   "id": "2bbfdaee-2db9-4f81-8965-5e4e35bfa85c",
   "metadata": {
    "editable": true,
    "slideshow": {
     "slide_type": ""
    },
    "tags": []
   },
   "outputs": [
    {
     "name": "stdout",
     "output_type": "stream",
     "text": [
      "Match score over image \"dataset/dataset_source_101_ObjectCategories_anchor_image_0023@54,44.png\" = 0.04199711833615235\n",
      "Process ID: 1396951\n"
     ]
    }
   ],
   "source": [
    "import os\n",
    "from tqdm.notebook import tqdm\n",
    "\n",
    "%run kernel_grid.ipynb\n",
    "\n",
    "print(f'Process ID: {os.getpid()}')"
   ]
  },
  {
   "cell_type": "code",
   "execution_count": 2,
   "id": "d97870ec-a8a4-4f12-96df-3a14bc371483",
   "metadata": {},
   "outputs": [],
   "source": [
    "config = Config()"
   ]
  },
  {
   "cell_type": "code",
   "execution_count": 3,
   "id": "8ce33ec1-bf16-47bc-836d-254bbf00c17d",
   "metadata": {},
   "outputs": [
    {
     "name": "stdout",
     "output_type": "stream",
     "text": [
      "CPU times: user 7 μs, sys: 0 ns, total: 7 μs\n",
      "Wall time: 12.9 μs\n",
      "Loaded 3000 images\n"
     ]
    }
   ],
   "source": [
    "%time\n",
    "images = []\n",
    "\n",
    "for image_fname in os.listdir(config.dataset_path):\n",
    "    image_fname = os.path.join(config.dataset_path, image_fname)\n",
    "\n",
    "    # Following fuss is required to overcome problem with \"Too many open files\"\n",
    "    with Image.open(image_fname) as image:\n",
    "        image.load()\n",
    "        images.append(image)\n",
    "        \n",
    "    assert image.fp is None\n",
    "\n",
    "print(f'Loaded {len(images)} images')"
   ]
  },
  {
   "cell_type": "code",
   "execution_count": 4,
   "id": "207b73ce-92c5-44ea-90f1-038436918cbd",
   "metadata": {
    "editable": true,
    "slideshow": {
     "slide_type": ""
    },
    "tags": []
   },
   "outputs": [],
   "source": [
    "grid = KernelGrid.random(config)"
   ]
  },
  {
   "cell_type": "code",
   "execution_count": 5,
   "id": "4ba094da-25e7-4c4c-b860-5c8ed5aa0b0d",
   "metadata": {},
   "outputs": [],
   "source": [
    "def get_day_images():\n",
    "    return images"
   ]
  },
  {
   "cell_type": "code",
   "execution_count": 6,
   "id": "c9a87d75-c9c9-4438-98f0-31d69e33c05a",
   "metadata": {
    "editable": true,
    "slideshow": {
     "slide_type": ""
    },
    "tags": []
   },
   "outputs": [
    {
     "data": {
      "application/vnd.jupyter.widget-view+json": {
       "model_id": "3790b580dd194e38afa65cf81e59f544",
       "version_major": 2,
       "version_minor": 0
      },
      "text/plain": [
       "  0%|          | 0/14 [00:00<?, ?it/s]"
      ]
     },
     "metadata": {},
     "output_type": "display_data"
    },
    {
     "name": "stdout",
     "output_type": "stream",
     "text": [
      "CPU times: user 1min 26s, sys: 3.78 s, total: 1min 29s\n",
      "Wall time: 1min 25s\n"
     ]
    }
   ],
   "source": [
    "%%time\n",
    "\n",
    "for day in tqdm(range(config.kernel_grid_evolution_days)):\n",
    "    # Make impressions\n",
    "    day_images = get_day_images()\n",
    "\n",
    "    for image in day_images:\n",
    "        grid.run_image_st(image, config.kernel_match_threshold, config.kernel_grid_match_threshold)\n",
    "\n",
    "    # Adjust kernels to better match impressions\n",
    "    pass"
   ]
  },
  {
   "cell_type": "code",
   "execution_count": null,
   "id": "a4cd1ed5-3b6e-49f7-aabc-4eb4ad017bbd",
   "metadata": {},
   "outputs": [],
   "source": []
  }
 ],
 "metadata": {
  "kernelspec": {
   "display_name": "Python 3 (ipykernel)",
   "language": "python",
   "name": "python3"
  },
  "language_info": {
   "codemirror_mode": {
    "name": "ipython",
    "version": 3
   },
   "file_extension": ".py",
   "mimetype": "text/x-python",
   "name": "python",
   "nbconvert_exporter": "python",
   "pygments_lexer": "ipython3",
   "version": "3.12.8"
  }
 },
 "nbformat": 4,
 "nbformat_minor": 5
}
