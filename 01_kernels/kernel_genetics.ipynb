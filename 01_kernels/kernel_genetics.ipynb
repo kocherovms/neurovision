{
 "cells": [
  {
   "cell_type": "code",
   "execution_count": 35,
   "id": "a82c4574-9aac-4e3e-aec9-20a03ea98398",
   "metadata": {
    "editable": true,
    "slideshow": {
     "slide_type": ""
    },
    "tags": []
   },
   "outputs": [],
   "source": [
    "import numpy as np\n",
    "from PIL import Image, ImageDraw, ImageChops\n",
    "\n",
    "%run utils.ipynb"
   ]
  },
  {
   "cell_type": "code",
   "execution_count": 36,
   "id": "afaa45af-f5ca-4302-968a-5d64e58857ce",
   "metadata": {
    "editable": true,
    "slideshow": {
     "slide_type": ""
    },
    "tags": []
   },
   "outputs": [],
   "source": [
    "class KernelGenotype:\n",
    "    OP_CODE_LINE = 'LINE'\n",
    "    OP_CODE_CIRCLE = 'CIRCLE'\n",
    "    OP_CODE_RECT = 'RECT'\n",
    "    OP_CODES = [OP_CODE_LINE, OP_CODE_CIRCLE, OP_CODE_RECT]\n",
    "\n",
    "    COMPOSE_TYPE_OR = 'OR'\n",
    "    COMPOSE_TYPE_XOR = 'XOR'\n",
    "    COMPOSE_TYPE_AND = 'AND'\n",
    "    \n",
    "    COMPOSE_TYPES = [COMPOSE_TYPE_OR, COMPOSE_TYPE_XOR, COMPOSE_TYPE_AND]\n",
    "    \n",
    "    def __init__(self):\n",
    "        super()\n",
    "        self.ops = []\n",
    "\n",
    "    def __eq__(self, other): \n",
    "        if not isinstance(other, KernelGenotype):\n",
    "            raise NotImplemented\n",
    "\n",
    "        return self.ops == other.ops\n",
    "\n",
    "    @classmethod\n",
    "    def random(cls, depth=10):\n",
    "        assert depth > 0\n",
    "        g = cls()\n",
    "        \n",
    "        for i in range(depth):\n",
    "            op_code_index = np.random.randint(len(KernelGenotype.OP_CODES))\n",
    "            op_code = KernelGenotype.OP_CODES[op_code_index] \n",
    "            compose_type_index = np.random.randint(len(KernelGenotype.COMPOSE_TYPES))\n",
    "            compose_type = KernelGenotype.COMPOSE_TYPES[compose_type_index] if i > 0 else KernelGenotype.COMPOSE_TYPE_OR\n",
    "            op = KernelGenotype.generate_op(op_code, compose_type)\n",
    "            g.ops.append(op)\n",
    "\n",
    "        return g\n",
    "\n",
    "    @classmethod\n",
    "    def from_ops(cls, ops):\n",
    "        g = cls()\n",
    "        g.ops = ops\n",
    "        return g\n",
    "\n",
    "    @staticmethod\n",
    "    def generate_op(op_code, compose_type):\n",
    "        params = KernelGenotype.generate_params(op_code)\n",
    "        return dict(\n",
    "            op=op_code,\n",
    "            compose=compose_type,\n",
    "            **params\n",
    "        )\n",
    "\n",
    "    @staticmethod \n",
    "    def generate_params(op_code):\n",
    "        generators = {\n",
    "            KernelGenotype.OP_CODE_LINE: KernelGenotype.generate_params_line,\n",
    "            KernelGenotype.OP_CODE_CIRCLE: KernelGenotype.generate_params_circle,\n",
    "            KernelGenotype.OP_CODE_RECT: KernelGenotype.generate_params_rect\n",
    "        }\n",
    "\n",
    "        assert op_code in generators.keys()\n",
    "        return generators[op_code]()\n",
    "\n",
    "    @staticmethod\n",
    "    def generate_params_line():\n",
    "        return dict(\n",
    "            coords=np.random.randn(4),\n",
    "            width=1 + np.random.randint(3)\n",
    "        )\n",
    "\n",
    "    @staticmethod\n",
    "    def generate_params_circle():\n",
    "        return dict(\n",
    "            center=np.random.randn(2),\n",
    "            radius=abs(np.random.randn()),\n",
    "            width=1 + np.random.randint(3)\n",
    "        )\n",
    "\n",
    "    @staticmethod\n",
    "    def generate_params_rect():\n",
    "        return dict(\n",
    "            coords=np.random.randn(4),\n",
    "            width=1 + np.random.randint(3)\n",
    "        )\n",
    "\n",
    "    @staticmethod\n",
    "    def build_op(op_code, compose_type, **kwargs):\n",
    "        return dict(\n",
    "            op=op_code,\n",
    "            compose=compose_type,\n",
    "            **kwargs\n",
    "        )\n",
    "\n",
    "    # produces kernel mask/matrix based on ops\n",
    "    def build_phenotype(self, kernel_size):\n",
    "        assert kernel_size > 0\n",
    "        m = Image.new('1', (kernel_size, kernel_size), 0)\n",
    "\n",
    "        if not self.ops:\n",
    "            return m\n",
    "            \n",
    "        layer = Image.new('1', (kernel_size, kernel_size), 0)\n",
    "        draw = ImageDraw.Draw(layer)\n",
    "        drawers = {\n",
    "            KernelGenotype.OP_CODE_LINE: KernelGenotype.draw_line,\n",
    "            KernelGenotype.OP_CODE_CIRCLE: KernelGenotype.draw_circle,\n",
    "            KernelGenotype.OP_CODE_RECT: KernelGenotype.draw_rect\n",
    "        }\n",
    "        composers = {\n",
    "            KernelGenotype.COMPOSE_TYPE_OR: ImageChops.logical_or,\n",
    "            KernelGenotype.COMPOSE_TYPE_XOR: ImageChops.logical_xor,\n",
    "            KernelGenotype.COMPOSE_TYPE_AND: ImageChops.logical_and,\n",
    "        }\n",
    "        \n",
    "        for op in self.ops:\n",
    "            draw.rectangle([0, 0, kernel_size -1, kernel_size - 1], 0)\n",
    "            op_code = op['op']\n",
    "\n",
    "            if not op_code in drawers:\n",
    "                print(f'Unknown OP_CODE={op_code}!')\n",
    "                continue\n",
    "\n",
    "            compose_type = op['compose']\n",
    "\n",
    "            if not compose_type in composers:\n",
    "                print(f'Unknown COMPOSE_TYPE={compose_type}!')\n",
    "                continue\n",
    "\n",
    "            drawer = drawers[op_code]\n",
    "            drawer(kernel_size, draw, op)\n",
    "            composer = composers[compose_type]\n",
    "            m = composer(m, layer)\n",
    "\n",
    "        return m\n",
    "\n",
    "    @staticmethod\n",
    "    def draw_line(sz, draw, params):\n",
    "        xy = KernelGenotype.translate_coords(params['coords'], sz)\n",
    "        #print(f'kms@ xy={xy}')\n",
    "        width = params.get('width', 1)\n",
    "        draw.line(xy, width=width, fill='white')\n",
    "\n",
    "    @staticmethod\n",
    "    def draw_rect(sz, draw, params):\n",
    "        xy = KernelGenotype.translate_coords(params['coords'], sz)\n",
    "        def enforce_asc(i, j):\n",
    "            if xy[i] > xy[j]:\n",
    "                t = xy[j]\n",
    "                xy[j] = xy[i]\n",
    "                xy[i] = t\n",
    "        enforce_asc(0, 2)\n",
    "        enforce_asc(1, 3)\n",
    "        #print(f'kms@ xy={xy}')\n",
    "        width = params.get('width', 1)\n",
    "        draw.rectangle(xy, width=width, outline='white')\n",
    "\n",
    "    @staticmethod\n",
    "    def draw_circle(sz, draw, params):\n",
    "        center = KernelGenotype.translate_coords(params['center'], sz)\n",
    "        radius = int(params['radius'] * (sz - 1) / 2)\n",
    "        #print(f'kms@ center={center} radius={radius}')\n",
    "        width = params.get('width', 1)\n",
    "        draw.circle(center, radius, width=width, outline='white')\n",
    "\n",
    "    @staticmethod\n",
    "    def translate_coords(coords, sz):\n",
    "        assert sz > 1\n",
    "        half_sz = (sz - 1) / 2\n",
    "        xy = []\n",
    "        \n",
    "        for i, v in enumerate(coords):\n",
    "            # y coord (odd) => revert, x coord (even) => no revert\n",
    "            v = v * (half_sz if i % 2 == 0 else -half_sz)\n",
    "            v += half_sz\n",
    "            xy.append(int(v))\n",
    "\n",
    "        return xy\n"
   ]
  },
  {
   "cell_type": "code",
   "execution_count": 37,
   "id": "307add7d-cf2e-4212-bee9-a710f5a3301e",
   "metadata": {
    "editable": true,
    "slideshow": {
     "slide_type": ""
    },
    "tags": []
   },
   "outputs": [],
   "source": [
    "# horz line\n",
    "ops = [\n",
    "    KernelGenotype.build_op(KernelGenotype.OP_CODE_LINE, KernelGenotype.COMPOSE_TYPE_OR, coords=[-1, 0, 1, 0], width=1) \n",
    "]\n",
    "g = KernelGenotype.from_ops(ops)\n",
    "img = g.build_phenotype(7)\n",
    "fact = pil_image_to_2d_bytes(img)\n",
    "\n",
    "expected = np.array([\n",
    "    [0, 0, 0, 0, 0, 0, 0],\n",
    "    [0, 0, 0, 0, 0, 0, 0],\n",
    "    [0, 0, 0, 0, 0, 0, 0],\n",
    "    [1, 1, 1, 1, 1, 1, 1],\n",
    "    [0, 0, 0, 0, 0, 0, 0],\n",
    "    [0, 0, 0, 0, 0, 0, 0],\n",
    "    [0, 0, 0, 0, 0, 0, 0],\n",
    "], dtype=np.uint8)\n",
    "assert np.array_equal(expected, fact)\n",
    "\n",
    "# vert line\n",
    "ops = [\n",
    "    KernelGenotype.build_op(KernelGenotype.OP_CODE_LINE, KernelGenotype.COMPOSE_TYPE_OR, coords=[0, 1, 0, -1], width=1) \n",
    "]\n",
    "g = KernelGenotype.from_ops(ops)\n",
    "img = g.build_phenotype(7)\n",
    "fact = pil_image_to_2d_bytes(img)\n",
    "assert np.array_equal(expected.T, fact)\n",
    "\n",
    "# cross with hole inside\n",
    "ops = [\n",
    "    KernelGenotype.build_op(KernelGenotype.OP_CODE_LINE, KernelGenotype.COMPOSE_TYPE_OR, coords=[0, 1, 0, -1], width=1), \n",
    "    KernelGenotype.build_op(KernelGenotype.OP_CODE_LINE, KernelGenotype.COMPOSE_TYPE_XOR, coords=[-1, 0, 1, 0], width=1) \n",
    "]\n",
    "g = KernelGenotype.from_ops(ops)\n",
    "img = g.build_phenotype(7)\n",
    "fact = pil_image_to_2d_bytes(img)\n",
    "assert np.array_equal(np.bitwise_xor(expected, expected.T), fact)\n",
    "\n",
    "# circle\n",
    "ops = [\n",
    "    KernelGenotype.build_op(KernelGenotype.OP_CODE_CIRCLE, KernelGenotype.COMPOSE_TYPE_OR, center=[0, 0], radius=1, width=1), \n",
    "]\n",
    "expected = np.array([\n",
    "    [0, 1, 0],\n",
    "    [1, 0, 1],\n",
    "    [0, 1, 0],\n",
    "], dtype=np.uint8)\n",
    "g = KernelGenotype.from_ops(ops)\n",
    "img = g.build_phenotype(3)\n",
    "fact = pil_image_to_2d_bytes(img)\n",
    "assert np.array_equal(expected, fact)\n",
    "\n",
    "# rect\n",
    "ops = [\n",
    "    KernelGenotype.build_op(KernelGenotype.OP_CODE_RECT, KernelGenotype.COMPOSE_TYPE_OR, coords=[-1, -1, 1, 1], width=1), \n",
    "]\n",
    "expected = np.array([\n",
    "    [1, 1, 1],\n",
    "    [1, 0, 1],\n",
    "    [1, 1, 1],\n",
    "], dtype=np.uint8)\n",
    "g = KernelGenotype.from_ops(ops)\n",
    "img = g.build_phenotype(3)\n",
    "fact = pil_image_to_2d_bytes(img)\n",
    "assert np.array_equal(expected, fact)"
   ]
  },
  {
   "cell_type": "code",
   "execution_count": 38,
   "id": "21f32a0a-5334-4c02-8c91-213695243321",
   "metadata": {
    "editable": true,
    "slideshow": {
     "slide_type": ""
    },
    "tags": []
   },
   "outputs": [
    {
     "data": {
      "image/jpeg": "[encoded data removed]",
      "image/png": "[encoded data removed]",
      "text/plain": [
       "<PIL.Image.Image image mode=1 size=100x100>"
      ]
     },
     "execution_count": 38,
     "metadata": {},
     "output_type": "execute_result"
    }
   ],
   "source": [
    "g = KernelGenotype.random(10)\n",
    "#print(g.ops)\n",
    "g.build_phenotype(32).resize((100, 100))"
   ]
  },
  {
   "cell_type": "code",
   "execution_count": 39,
   "id": "c9acd20c-d12f-49bb-b62a-91364158dac8",
   "metadata": {},
   "outputs": [
    {
     "data": {
      "text/plain": [
       "{'op': 'CIRCLE',\n",
       " 'compose': 'OR',\n",
       " 'center': array([-0.39363463, -0.76445754]),\n",
       " 'radius': 0.08821722130474059,\n",
       " 'width': 3}"
      ]
     },
     "execution_count": 39,
     "metadata": {},
     "output_type": "execute_result"
    }
   ],
   "source": [
    "g.ops[0]"
   ]
  },
  {
   "cell_type": "code",
   "execution_count": 40,
   "id": "1853f9df-6629-402b-8286-15bcdd763527",
   "metadata": {},
   "outputs": [
    {
     "data": {
      "image/jpeg": "[encoded data removed]",
      "image/png": "[encoded data removed]",
      "text/plain": [
       "<PIL.Image.Image image mode=1 size=100x100>"
      ]
     },
     "execution_count": 40,
     "metadata": {},
     "output_type": "execute_result"
    }
   ],
   "source": [
    "ops2 = [\n",
    "    g.ops[0],\n",
    "    g.ops[1],\n",
    "    g.ops[2],\n",
    "    g.ops[3],\n",
    "    g.ops[4],\n",
    "    g.ops[5],\n",
    "]\n",
    "KernelGenotype.from_ops(ops2).build_phenotype(32).resize((100, 100))"
   ]
  },
  {
   "cell_type": "code",
   "execution_count": 41,
   "id": "ce89defa-a096-4fbe-9f68-19fc945f457d",
   "metadata": {
    "editable": true,
    "slideshow": {
     "slide_type": ""
    },
    "tags": []
   },
   "outputs": [],
   "source": [
    "import copy\n",
    "g_empty1 = KernelGenotype()\n",
    "g_empty2 = KernelGenotype()\n",
    "assert g_empty1 == g_empty2\n",
    "\n",
    "ops = [\n",
    "    KernelGenotype.build_op(KernelGenotype.OP_CODE_RECT, KernelGenotype.COMPOSE_TYPE_OR, coords=[-1, -1, 1, 1], width=1), \n",
    "]\n",
    "g1 = KernelGenotype.from_ops(ops)\n",
    "g2 = KernelGenotype.from_ops(ops)\n",
    "assert g1 == g2\n",
    "assert g_empty1 != g2\n",
    "\n",
    "ops2 = copy.deepcopy(ops)\n",
    "ops2[0]['op'] = KernelGenotype.OP_CODE_LINE\n",
    "assert ops[0]['op'] == KernelGenotype.OP_CODE_RECT\n",
    "assert ops2[0]['op'] == KernelGenotype.OP_CODE_LINE\n",
    "g3 = KernelGenotype.from_ops(ops2)\n",
    "assert g1 != g3, (g1.ops, g3.ops)"
   ]
  },
  {
   "cell_type": "code",
   "execution_count": null,
   "id": "e629427a-02ae-4db9-a46d-f69c72654b67",
   "metadata": {
    "editable": true,
    "slideshow": {
     "slide_type": ""
    },
    "tags": []
   },
   "outputs": [],
   "source": []
  }
 ],
 "metadata": {
  "kernelspec": {
   "display_name": "Python 3 (ipykernel)",
   "language": "python",
   "name": "python3"
  },
  "language_info": {
   "codemirror_mode": {
    "name": "ipython",
    "version": 3
   },
   "file_extension": ".py",
   "mimetype": "text/x-python",
   "name": "python",
   "nbconvert_exporter": "python",
   "pygments_lexer": "ipython3",
   "version": "3.12.8"
  }
 },
 "nbformat": 4,
 "nbformat_minor": 5
}
