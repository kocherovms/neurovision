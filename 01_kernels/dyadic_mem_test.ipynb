{
 "cells": [
  {
   "cell_type": "code",
   "execution_count": 169,
   "id": "9fe0ca9a-724a-445b-a96e-ff0270ba0863",
   "metadata": {},
   "outputs": [],
   "source": [
    "import os\n",
    "import re\n",
    "import numpy as np\n",
    "import pandas as pd\n",
    "from sklearn.model_selection import train_test_split"
   ]
  },
  {
   "cell_type": "code",
   "execution_count": 157,
   "id": "8c931b67-4073-4e7f-94c4-85d035dde6b9",
   "metadata": {},
   "outputs": [],
   "source": [
    "def clean_text(text):\n",
    "    text = text.lower()\n",
    "    text = text.replace(' ', '_')\n",
    "    text = re.sub(r'[^a-z_]', '', text)\n",
    "    return text"
   ]
  },
  {
   "cell_type": "code",
   "execution_count": 158,
   "id": "1d2107af-ead3-465b-8ff5-804ab2c893fd",
   "metadata": {},
   "outputs": [],
   "source": [
    "with open(os.path.join('text', 'text_sh.txt'), 'r', encoding='cp1251') as file:\n",
    "    content = file.read().replace('\\n', '')\n",
    "    content = clean_text(content)"
   ]
  },
  {
   "cell_type": "code",
   "execution_count": 116,
   "id": "8903bbed-37e8-4dda-965b-93babb4b51a8",
   "metadata": {},
   "outputs": [],
   "source": [
    "PERIOD_OF_IDS = 10\n",
    "WINDOW_SIZE = 6\n",
    "CODE_SIZE = 256\n",
    "CODE_ACTIVE_BITS = 8"
   ]
  },
  {
   "cell_type": "code",
   "execution_count": 117,
   "id": "077994bb-caf9-4ff5-82a5-779075aabe21",
   "metadata": {},
   "outputs": [],
   "source": [
    "VOCAB = dict()\n",
    "syms = [chr(x) for x in range(ord('a'), ord('z') + 1)]\n",
    "syms += ['_']\n",
    "codes = set()\n",
    "\n",
    "for sym in syms:\n",
    "    for p in range(PERIOD_OF_IDS):\n",
    "        vocab_item_id = f'{sym}:{p}'\n",
    "        vocab_item_code = np.zeros(CODE_SIZE, dtype=int)\n",
    "        vocab_item_code[:CODE_ACTIVE_BITS] = 1\n",
    "\n",
    "        while True:\n",
    "            vocab_item_code = np.random.permutation(vocab_item_code)\n",
    "            assert (vocab_item_code == 1).sum() == CODE_ACTIVE_BITS\n",
    "            vocab_item_code_str = ''.join(map(str, vocab_item_code))\n",
    "\n",
    "            if not vocab_item_code_str in codes:\n",
    "                codes.add(vocab_item_code_str)\n",
    "                break\n",
    "\n",
    "        VOCAB[vocab_item_id] = vocab_item_code\n",
    "\n",
    "assert len(codes) == len(syms) * PERIOD_OF_IDS, (len(codes), len(syms))"
   ]
  },
  {
   "cell_type": "code",
   "execution_count": 153,
   "id": "31f62027-4832-403b-bbb1-a1df98d97ae3",
   "metadata": {},
   "outputs": [],
   "source": [
    "def encode(content, offsets):\n",
    "    df = pd.DataFrame(columns=['text'])\n",
    "    \n",
    "    for offset in offsets:\n",
    "        window_texts = []\n",
    "        window_offset_texts = []\n",
    "        cumcodes = []\n",
    "        \n",
    "        window = []\n",
    "        window_text = []\n",
    "        window_offset_text = []\n",
    "        \n",
    "        for i, ch in enumerate(content):\n",
    "            p = (i + offset) % PERIOD_OF_IDS\n",
    "            q = f'{ch}:{p}'\n",
    "            code = VOCAB[q]\n",
    "            window.append(code)\n",
    "            window_text.append(ch)\n",
    "            window_offset_text.append(q)\n",
    "        \n",
    "            while len(window) > WINDOW_SIZE:\n",
    "                window.pop(0)\n",
    "                window_text.pop(0)\n",
    "                window_offset_text.pop(0)\n",
    "        \n",
    "            if len(window) == WINDOW_SIZE:\n",
    "                cumcode = np.sum(window, axis=0)\n",
    "                cumcode[cumcode > 1] = 1\n",
    "                cumcodes.append(cumcode)\n",
    "    \n",
    "                window_texts.append(''.join(window_text))\n",
    "                window_offset_texts.append(''.join(window_offset_text))\n",
    "        \n",
    "        df['text'] = window_texts\n",
    "        df[f'offset_{offset}_text'] = window_offset_texts\n",
    "        df[f'offset_{offset}_code'] = cumcodes\n",
    "\n",
    "    return df"
   ]
  },
  {
   "cell_type": "code",
   "execution_count": 163,
   "id": "8f4c9905-ea16-420d-a481-dcf46cee3d0d",
   "metadata": {},
   "outputs": [
    {
     "data": {
      "text/html": [
       "<div>\n",
       "<style scoped>\n",
       "    .dataframe tbody tr th:only-of-type {\n",
       "        vertical-align: middle;\n",
       "    }\n",
       "\n",
       "    .dataframe tbody tr th {\n",
       "        vertical-align: top;\n",
       "    }\n",
       "\n",
       "    .dataframe thead th {\n",
       "        text-align: right;\n",
       "    }\n",
       "</style>\n",
       "<table border=\"1\" class=\"dataframe\">\n",
       "  <thead>\n",
       "    <tr style=\"text-align: right;\">\n",
       "      <th></th>\n",
       "      <th>text</th>\n",
       "      <th>offset_0_text</th>\n",
       "      <th>offset_0_code</th>\n",
       "      <th>offset_8_text</th>\n",
       "      <th>offset_8_code</th>\n",
       "    </tr>\n",
       "  </thead>\n",
       "  <tbody>\n",
       "    <tr>\n",
       "      <th>0</th>\n",
       "      <td>hello_</td>\n",
       "      <td>h:0e:1l:2l:3o:4_:5</td>\n",
       "      <td>[1, 0, 0, 0, 0, 0, 0, 0, 0, 1, 1, 0, 0, 0, 0, ...</td>\n",
       "      <td>h:8e:9l:0l:1o:2_:3</td>\n",
       "      <td>[0, 0, 0, 0, 0, 0, 0, 0, 1, 0, 0, 0, 0, 0, 0, ...</td>\n",
       "    </tr>\n",
       "  </tbody>\n",
       "</table>\n",
       "</div>"
      ],
      "text/plain": [
       "     text       offset_0_text  \\\n",
       "0  hello_  h:0e:1l:2l:3o:4_:5   \n",
       "\n",
       "                                       offset_0_code       offset_8_text  \\\n",
       "0  [1, 0, 0, 0, 0, 0, 0, 0, 0, 1, 1, 0, 0, 0, 0, ...  h:8e:9l:0l:1o:2_:3   \n",
       "\n",
       "                                       offset_8_code  \n",
       "0  [0, 0, 0, 0, 0, 0, 0, 0, 1, 0, 0, 0, 0, 0, 0, ...  "
      ]
     },
     "execution_count": 163,
     "metadata": {},
     "output_type": "execute_result"
    }
   ],
   "source": [
    "encode(clean_text('hello_'), [0, 8])"
   ]
  },
  {
   "cell_type": "code",
   "execution_count": 170,
   "id": "ced2ead2-6fda-40bb-aa9c-56187925b053",
   "metadata": {},
   "outputs": [
    {
     "data": {
      "text/html": [
       "<div>\n",
       "<style scoped>\n",
       "    .dataframe tbody tr th:only-of-type {\n",
       "        vertical-align: middle;\n",
       "    }\n",
       "\n",
       "    .dataframe tbody tr th {\n",
       "        vertical-align: top;\n",
       "    }\n",
       "\n",
       "    .dataframe thead th {\n",
       "        text-align: right;\n",
       "    }\n",
       "</style>\n",
       "<table border=\"1\" class=\"dataframe\">\n",
       "  <thead>\n",
       "    <tr style=\"text-align: right;\">\n",
       "      <th></th>\n",
       "      <th>text</th>\n",
       "      <th>offset_0_text</th>\n",
       "      <th>offset_0_code</th>\n",
       "      <th>offset_1_text</th>\n",
       "      <th>offset_1_code</th>\n",
       "    </tr>\n",
       "  </thead>\n",
       "  <tbody>\n",
       "    <tr>\n",
       "      <th>0</th>\n",
       "      <td>the_so</td>\n",
       "      <td>t:0h:1e:2_:3s:4o:5</td>\n",
       "      <td>[0, 0, 0, 0, 1, 0, 0, 0, 0, 0, 1, 0, 1, 1, 0, ...</td>\n",
       "      <td>t:1h:2e:3_:4s:5o:6</td>\n",
       "      <td>[0, 0, 0, 0, 0, 0, 0, 0, 0, 0, 0, 0, 0, 0, 0, ...</td>\n",
       "    </tr>\n",
       "    <tr>\n",
       "      <th>1</th>\n",
       "      <td>he_son</td>\n",
       "      <td>h:1e:2_:3s:4o:5n:6</td>\n",
       "      <td>[0, 0, 0, 0, 1, 0, 0, 0, 0, 1, 1, 0, 0, 1, 0, ...</td>\n",
       "      <td>h:2e:3_:4s:5o:6n:7</td>\n",
       "      <td>[0, 0, 0, 0, 0, 0, 0, 0, 0, 1, 0, 0, 0, 0, 0, ...</td>\n",
       "    </tr>\n",
       "    <tr>\n",
       "      <th>2</th>\n",
       "      <td>e_sonn</td>\n",
       "      <td>e:2_:3s:4o:5n:6n:7</td>\n",
       "      <td>[0, 0, 0, 0, 0, 0, 0, 0, 0, 1, 0, 0, 0, 0, 0, ...</td>\n",
       "      <td>e:3_:4s:5o:6n:7n:8</td>\n",
       "      <td>[0, 0, 0, 0, 0, 1, 0, 0, 0, 1, 0, 0, 0, 0, 0, ...</td>\n",
       "    </tr>\n",
       "    <tr>\n",
       "      <th>3</th>\n",
       "      <td>_sonne</td>\n",
       "      <td>_:3s:4o:5n:6n:7e:8</td>\n",
       "      <td>[0, 0, 0, 0, 0, 0, 0, 1, 0, 1, 0, 0, 0, 0, 0, ...</td>\n",
       "      <td>_:4s:5o:6n:7n:8e:9</td>\n",
       "      <td>[0, 0, 0, 0, 0, 1, 0, 0, 0, 1, 0, 0, 0, 0, 0, ...</td>\n",
       "    </tr>\n",
       "    <tr>\n",
       "      <th>4</th>\n",
       "      <td>sonnet</td>\n",
       "      <td>s:4o:5n:6n:7e:8t:9</td>\n",
       "      <td>[0, 0, 0, 0, 0, 0, 1, 1, 0, 1, 0, 0, 0, 0, 0, ...</td>\n",
       "      <td>s:5o:6n:7n:8e:9t:0</td>\n",
       "      <td>[0, 0, 0, 0, 0, 1, 0, 0, 0, 1, 0, 0, 1, 0, 0, ...</td>\n",
       "    </tr>\n",
       "  </tbody>\n",
       "</table>\n",
       "</div>"
      ],
      "text/plain": [
       "     text       offset_0_text  \\\n",
       "0  the_so  t:0h:1e:2_:3s:4o:5   \n",
       "1  he_son  h:1e:2_:3s:4o:5n:6   \n",
       "2  e_sonn  e:2_:3s:4o:5n:6n:7   \n",
       "3  _sonne  _:3s:4o:5n:6n:7e:8   \n",
       "4  sonnet  s:4o:5n:6n:7e:8t:9   \n",
       "\n",
       "                                       offset_0_code       offset_1_text  \\\n",
       "0  [0, 0, 0, 0, 1, 0, 0, 0, 0, 0, 1, 0, 1, 1, 0, ...  t:1h:2e:3_:4s:5o:6   \n",
       "1  [0, 0, 0, 0, 1, 0, 0, 0, 0, 1, 1, 0, 0, 1, 0, ...  h:2e:3_:4s:5o:6n:7   \n",
       "2  [0, 0, 0, 0, 0, 0, 0, 0, 0, 1, 0, 0, 0, 0, 0, ...  e:3_:4s:5o:6n:7n:8   \n",
       "3  [0, 0, 0, 0, 0, 0, 0, 1, 0, 1, 0, 0, 0, 0, 0, ...  _:4s:5o:6n:7n:8e:9   \n",
       "4  [0, 0, 0, 0, 0, 0, 1, 1, 0, 1, 0, 0, 0, 0, 0, ...  s:5o:6n:7n:8e:9t:0   \n",
       "\n",
       "                                       offset_1_code  \n",
       "0  [0, 0, 0, 0, 0, 0, 0, 0, 0, 0, 0, 0, 0, 0, 0, ...  \n",
       "1  [0, 0, 0, 0, 0, 0, 0, 0, 0, 1, 0, 0, 0, 0, 0, ...  \n",
       "2  [0, 0, 0, 0, 0, 1, 0, 0, 0, 1, 0, 0, 0, 0, 0, ...  \n",
       "3  [0, 0, 0, 0, 0, 1, 0, 0, 0, 1, 0, 0, 0, 0, 0, ...  \n",
       "4  [0, 0, 0, 0, 0, 1, 0, 0, 0, 1, 0, 0, 1, 0, 0, ...  "
      ]
     },
     "execution_count": 170,
     "metadata": {},
     "output_type": "execute_result"
    }
   ],
   "source": [
    "df = encode(content, [0, 1])\n",
    "df.head()"
   ]
  },
  {
   "cell_type": "code",
   "execution_count": 172,
   "id": "2f40ba24-4266-4206-b715-ffed07433a47",
   "metadata": {},
   "outputs": [],
   "source": [
    "df_train, df_test = train_test_split(df)"
   ]
  },
  {
   "cell_type": "code",
   "execution_count": null,
   "id": "38ad4f3f-8ed4-4db2-98bf-bae4202e8b43",
   "metadata": {},
   "outputs": [],
   "source": []
  },
  {
   "cell_type": "code",
   "execution_count": null,
   "id": "d83dcf7b-bd44-4824-a0fe-1d33349a9064",
   "metadata": {},
   "outputs": [],
   "source": []
  }
 ],
 "metadata": {
  "kernelspec": {
   "display_name": "Python 3 (ipykernel)",
   "language": "python",
   "name": "python3"
  },
  "language_info": {
   "codemirror_mode": {
    "name": "ipython",
    "version": 3
   },
   "file_extension": ".py",
   "mimetype": "text/x-python",
   "name": "python",
   "nbconvert_exporter": "python",
   "pygments_lexer": "ipython3",
   "version": "3.12.2"
  }
 },
 "nbformat": 4,
 "nbformat_minor": 5
}
