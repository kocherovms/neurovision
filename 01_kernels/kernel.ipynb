{
 "cells": [
  {
   "cell_type": "code",
   "execution_count": 59,
   "id": "5fc5c834-0112-460e-bf4a-eff8918b8c9d",
   "metadata": {
    "editable": true,
    "slideshow": {
     "slide_type": ""
    },
    "tags": []
   },
   "outputs": [],
   "source": [
    "import numpy as np\n",
    "import timeit\n",
    "import os\n",
    "import pickle\n",
    "from PIL import Image, ImageDraw\n",
    "\n",
    "%run utils.ipynb\n",
    "%run kernel_genetics.ipynb"
   ]
  },
  {
   "cell_type": "code",
   "execution_count": 60,
   "id": "c562aa38-ae98-4e74-9b57-c1604dfad958",
   "metadata": {
    "editable": true,
    "slideshow": {
     "slide_type": ""
    },
    "tags": []
   },
   "outputs": [],
   "source": [
    "class Kernel:\n",
    "    def __init__(self, size):\n",
    "        super()\n",
    "        self.genotype = KernelGenotype()\n",
    "        self.size = size\n",
    "        self.m = []\n",
    "        self.m_ones = 0\n",
    "        # stats\n",
    "        self.match_count = 0\n",
    "    \n",
    "    def __eq__(self, other): \n",
    "        if not isinstance(other, Kernel):\n",
    "            return NotImplemented\n",
    "\n",
    "        return self.genotype == other.genotype and self.size == other.size and np.array_equal(self.m, other.m) and self.m_ones == other.m_ones\n",
    "\n",
    "    @classmethod\n",
    "    def random_nog(cls, config):\n",
    "        k = cls(config.kernel_size)\n",
    "        assert k.size >= 2\n",
    "        assert config.kernel_initial_complexity >= 0 and config.kernel_initial_complexity <= 1\n",
    "\n",
    "        k.m = np.uint8(np.random.uniform(size=(k.size, k.size)) <= config.kernel_initial_complexity)\n",
    "        k.m_ones = k.compute_ones()\n",
    "\n",
    "        if k.m_ones == 0:\n",
    "            # complete blank mask was generated. Put random pixel somewhere\n",
    "            random_pos = np.random.randint(k.size, size=(2,))\n",
    "            k.m[random_pos[0], random_pos[1]] = 1\n",
    "            k.m_ones = k.compute_ones()\n",
    "            assert k.m_ones == 1\n",
    "            \n",
    "        return k\n",
    "\n",
    "    @classmethod\n",
    "    def solid_nog(cls, config, solid_value):\n",
    "        assert solid_value in [0, 1]\n",
    "        \n",
    "        k = cls(config.kernel_size)\n",
    "        k.m = np.full((k.size, k.size), solid_value, dtype=np.uint8)\n",
    "        k.m_ones = k.compute_ones()\n",
    "        return k\n",
    "\n",
    "    @classmethod\n",
    "    def from_m_data_nog(cls, m_data):\n",
    "        assert len(m_data.shape) == 2\n",
    "        assert m_data.shape[0] == m_data.shape[1]\n",
    "        assert m_data.shape[0] > 0\n",
    "        \n",
    "        k = cls(m_data.shape[0])\n",
    "        k.m = m_data\n",
    "        k.m_ones = k.compute_ones()\n",
    "        return k\n",
    "\n",
    "    @classmethod\n",
    "    def random(cls, config):\n",
    "        k = cls(config.kernel_size)\n",
    "        assert k.size >= 2\n",
    "        k.genotype = KernelGenotype.random(1)\n",
    "        pheno_image = k.genotype.build_phenotype(k.size)\n",
    "        k.m = pil_image_to_2d_bytes(pheno_image)\n",
    "        k.m_ones = k.compute_ones()\n",
    "        return k\n",
    "\n",
    "    def compute_ones(self):\n",
    "        rv = 0\n",
    "        # direct iteration is simplier to handle than np.unique_counts\n",
    "        # because output of the latter may be any of [0, 1], [0], [1], []\n",
    "        for x in np.nditer(self.m): \n",
    "            rv += (x == 1)\n",
    "\n",
    "        return rv\n",
    "\n",
    "    def get_complexity(self):\n",
    "       return self.m_ones / (self.size * self.size)\n",
    "\n",
    "    def get_inverted(self):\n",
    "        k = Kernel(self.size)\n",
    "        k.m = self.m.copy()\n",
    "        k.m = 1 - k.m\n",
    "        k.m_ones = k.compute_ones()\n",
    "        return k\n",
    "\n",
    "    def match(self, image, image_bits_per_pixel, match_threshold):\n",
    "        assert image_bits_per_pixel in [1, 8] # bw or grayscale only\n",
    "        assert match_threshold > 0 and match_threshold <= 1\n",
    "\n",
    "        if not self.m_ones: # empty phenotype\n",
    "            return False, 0\n",
    "            \n",
    "        v = np.einsum('ij,ij->', self.m, image, dtype=np.uint32)\n",
    "        # print(f'kms@ v={v} ones={self.m_ones}')\n",
    "\n",
    "        if self.m_ones > 0:\n",
    "            denom = self.m_ones\n",
    "            denom *= 2 ** image_bits_per_pixel - 1\n",
    "            v /= denom\n",
    "\n",
    "        if v > match_threshold:\n",
    "            is_match = True\n",
    "            self.match_count += 1\n",
    "        else:\n",
    "            is_match = False\n",
    "\n",
    "        return is_match, v\n",
    "\n",
    "    def reset_stats(self):\n",
    "        self.match_count = 0\n",
    "\n",
    "    def to_image(self, inverted=True):\n",
    "        sz = (self.size, self.size)\n",
    "        bts = self.m.ravel() # 2d -> 1d\n",
    "\n",
    "        if inverted:\n",
    "            bts = 1 - bts # invert 0 -> 1 / 1-> 0\n",
    "            \n",
    "        bts = np.packbits(bts) # uint8 -> 1 bit\n",
    "        return Image.frombytes('1', size=sz, data=bts)\n"
   ]
  },
  {
   "cell_type": "code",
   "execution_count": 61,
   "id": "45490cc2-60fd-4a3d-ac88-d11b66f64748",
   "metadata": {
    "editable": true,
    "slideshow": {
     "slide_type": ""
    },
    "tags": []
   },
   "outputs": [],
   "source": [
    "class FenceKernel(Kernel):\n",
    "    pass"
   ]
  },
  {
   "cell_type": "code",
   "execution_count": 62,
   "id": "2a7b8c5a-73d4-44f7-9ae7-8398bcee1a86",
   "metadata": {},
   "outputs": [],
   "source": [
    "my_config = Config()\n",
    "ones_kernel = Kernel.solid_nog(my_config, 1)\n",
    "zeros_kernel = Kernel.solid_nog(my_config, 0)\n",
    "assert ones_kernel != zeros_kernel\n",
    "assert ones_kernel == Kernel.solid_nog(my_config, 1)\n",
    "assert zeros_kernel == Kernel.solid_nog(my_config, 0)"
   ]
  },
  {
   "cell_type": "code",
   "execution_count": 63,
   "id": "021cd7a6-b833-4ea5-8d87-a74f976ef6a2",
   "metadata": {},
   "outputs": [
    {
     "data": {
      "text/html": [
       "\n",
       "        <div style=\"display: flex; flex-flow: row wrap; text-align: center;\">\n",
       "        \n",
       "            <figure style=\"margin: 5px !important;\">\n",
       "              <img src=\"data:image/png;base64,iVBORw0KGgoAAAANSUhEUgAAAGQAAABkAQAAAABYmaj5AAAAK0lEQVR4nGP8z4AAH5kYkMEoj1q8v4wKg8Yt2HgsUJr5/8C7ZZQ3yhv+PAC3XATa9WmVAQAAAABJRU5ErkJggg==\" style=\"height: auto\">\n",
       "              <figcaption style=\"font-size: 0.6em\">Complexity 0 / 0.015625</figcaption>\n",
       "            </figure>\n",
       "        \n",
       "            <figure style=\"margin: 5px !important;\">\n",
       "              <img src=\"data:image/png;base64,iVBORw0KGgoAAAANSUhEUgAAAGQAAABkAQAAAABYmaj5AAAAYUlEQVR4nNXUsQ2DQBQE0fkYCbrAnVAarVICZEcA49AE6BDRHZtt9rTBhvyzNpxTf9vjW43lqrUAW8/H8pZcw8SUAIajtOXButEJAljakl9XTYyqLjXJbtWqzlGzOl75YD/b+SY7GstdEAAAAABJRU5ErkJggg==\" style=\"height: auto\">\n",
       "              <figcaption style=\"font-size: 0.6em\">Complexity 1 / 0.1875</figcaption>\n",
       "            </figure>\n",
       "        \n",
       "            <figure style=\"margin: 5px !important;\">\n",
       "              <img src=\"data:image/png;base64,iVBORw0KGgoAAAANSUhEUgAAAGQAAABkAQAAAABYmaj5AAAAYUlEQVR4nNWUMQqAMBAE52LA/MKnik/LU/yBdhaBtQlEm2DnZZtlumHhzkTLGXjGMVkCyJE9/O7SIZglSYVFOjyZvSnWnoSCK7PuurpYVeN4XWs3NtC6NtBn2BI5OnH5Rje0RCAPeM+boQAAAABJRU5ErkJggg==\" style=\"height: auto\">\n",
       "              <figcaption style=\"font-size: 0.6em\">Complexity 2 / 0.171875</figcaption>\n",
       "            </figure>\n",
       "        \n",
       "            <figure style=\"margin: 5px !important;\">\n",
       "              <img src=\"data:image/png;base64,iVBORw0KGgoAAAANSUhEUgAAAGQAAABkAQAAAABYmaj5AAAAaklEQVR4nM3TsQmAQAxG4RcNnKUjuImruZobaefB4W9joXCIViZN+LpHIGgDoJV2aLhOXCFpSlIB0xKp7C4/d6v/Wx5lHWQzj9DyVWMBWR+ipSoHSNvsBdMaqezNdbMNUVqqcoBs8X/spgOgJBqKSDyg/gAAAABJRU5ErkJggg==\" style=\"height: auto\">\n",
       "              <figcaption style=\"font-size: 0.6em\">Complexity 3 / 0.421875</figcaption>\n",
       "            </figure>\n",
       "        \n",
       "            <figure style=\"margin: 5px !important;\">\n",
       "              <img src=\"data:image/png;base64,iVBORw0KGgoAAAANSUhEUgAAAGQAAABkAQAAAABYmaj5AAAAYklEQVR4nNWSMQ5AUBQEd/2C0g046nczbuIISo2MQoiEROn9rXa6yWYlSTXAbJZK9wQmIB8Vt6HM3miy+ygu72SbVUpAOS8QZ+bfXb48c80odQWta65KFcrsSUMjbXYqZ90duUwrj0XE6RwAAAAASUVORK5CYII=\" style=\"height: auto\">\n",
       "              <figcaption style=\"font-size: 0.6em\">Complexity 4 / 0.375</figcaption>\n",
       "            </figure>\n",
       "        \n",
       "            <figure style=\"margin: 5px !important;\">\n",
       "              <img src=\"data:image/png;base64,iVBORw0KGgoAAAANSUhEUgAAAGQAAABkAQAAAABYmaj5AAAAaUlEQVR4nM3SMQ5AUBBF0fv4CaUdsTRbsxNLoCP58RQUKERnppmc7mYyAECbQZ4KrhNX2O6B0nbkaqh8zBj8uqskdYDV/N3yVckADAJtc6SyhyT1UVo+K1EtrHWb0/8tb9K5ywxE/oKbdqiCId1yogc5AAAAAElFTkSuQmCC\" style=\"height: auto\">\n",
       "              <figcaption style=\"font-size: 0.6em\">Complexity 5 / 0.53125</figcaption>\n",
       "            </figure>\n",
       "        \n",
       "            <figure style=\"margin: 5px !important;\">\n",
       "              <img src=\"data:image/png;base64,iVBORw0KGgoAAAANSUhEUgAAAGQAAABkAQAAAABYmaj5AAAAYklEQVR4nNXSsQ2AMAwF0R+CBFsgJsloMBqjwAaULhBHAQVVhGjiuLGue7IsYJbSIQX2Ru/xW224d2QbS1tyJexxcpa2ZJ2SJlgia0VfIABToobrmg/Lnxrw/RMdofdi+VoX2uQkNMOVDCgAAAAASUVORK5CYII=\" style=\"height: auto\">\n",
       "              <figcaption style=\"font-size: 0.6em\">Complexity 6 / 0.578125</figcaption>\n",
       "            </figure>\n",
       "        \n",
       "            <figure style=\"margin: 5px !important;\">\n",
       "              <img src=\"data:image/png;base64,iVBORw0KGgoAAAANSUhEUgAAAGQAAABkAQAAAABYmaj5AAAAS0lEQVR4nO2TIQ4AIRADhzP7LL7G03gSEkHSMwiCQl1KcuPqJk0LQKgCwMOKb0IdQhqQ1JzMNk9CxcTlIGX3Pvd2fz7BexPSTR+bvAFVE1uZ/dY4AAAAAElFTkSuQmCC\" style=\"height: auto\">\n",
       "              <figcaption style=\"font-size: 0.6em\">Complexity 7 / 0.796875</figcaption>\n",
       "            </figure>\n",
       "        \n",
       "            <figure style=\"margin: 5px !important;\">\n",
       "              <img src=\"data:image/png;base64,iVBORw0KGgoAAAANSUhEUgAAAGQAAABkAQAAAABYmaj5AAAAW0lEQVR4nNWUQQqAMAwEd6UQf5Wn6df8ic+oIG5PBQ8iuTWdU+Y2hBBI2tFZ8CavzcRW+5Rpgx9m0p2lJWaSSNJ0jm/5M64A4Bf9Gd4StgIAVo+SoCXwC3yu222dUxMH0wSIDwAAAABJRU5ErkJggg==\" style=\"height: auto\">\n",
       "              <figcaption style=\"font-size: 0.6em\">Complexity 8 / 0.75</figcaption>\n",
       "            </figure>\n",
       "        \n",
       "            <figure style=\"margin: 5px !important;\">\n",
       "              <img src=\"data:image/png;base64,iVBORw0KGgoAAAANSUhEUgAAAGQAAABkAQAAAABYmaj5AAAAK0lEQVR4nGNgGJLg/w8kDhOK1GDiIQHG/x8Gk8twunMU0BIM6lQwmiboBwADkwYcOTd4xQAAAABJRU5ErkJggg==\" style=\"height: auto\">\n",
       "              <figcaption style=\"font-size: 0.6em\">Complexity 9 / 0.953125</figcaption>\n",
       "            </figure>\n",
       "        \n",
       "            <figure style=\"margin: 5px !important;\">\n",
       "              <img src=\"data:image/png;base64,iVBORw0KGgoAAAANSUhEUgAAAGQAAABkAQAAAABYmaj5AAAAFElEQVR4nGNgGAWjYBSMglFATwAABXgAAQj9RYMAAAAASUVORK5CYII=\" style=\"height: auto\">\n",
       "              <figcaption style=\"font-size: 0.6em\">Complexity 10 / 1.0</figcaption>\n",
       "            </figure>\n",
       "        \n",
       "        </div>\n",
       "    "
      ],
      "text/plain": [
       "<IPython.core.display.HTML object>"
      ]
     },
     "execution_count": 63,
     "metadata": {},
     "output_type": "execute_result"
    }
   ],
   "source": [
    "my_config = Config()\n",
    "my_config.kernel_size = 8\n",
    "kimgs = []\n",
    "kimgcaps = dict()\n",
    "\n",
    "for cmplx in range(0, 10 + 1):\n",
    "    my_config.kernel_initial_complexity = cmplx / 10\n",
    "    k = Kernel.random_nog(my_config)\n",
    "    kimg = k.to_image().resize((100, 100))\n",
    "    kimgs.append(kimg)\n",
    "    kimgcaps[id(kimg)] = f'Complexity {cmplx} / {k.get_complexity()}'\n",
    "\n",
    "display_images(kimgs, kimgcaps)"
   ]
  },
  {
   "cell_type": "code",
   "execution_count": 64,
   "id": "53fb4deb-5fc9-4f75-83e6-f1c3bb80f7a7",
   "metadata": {
    "editable": true,
    "slideshow": {
     "slide_type": ""
    },
    "tags": []
   },
   "outputs": [],
   "source": [
    "my_config = Config()\n",
    "\n",
    "for i in range(2, 32):\n",
    "    my_config.kernel_size = i\n",
    "    k = Kernel.random_nog(my_config)\n",
    "    is_match, match_score = k.match(k.m, 1, my_config.kernel_match_threshold)\n",
    "    assert is_match\n",
    "    assert match_score == 1, f'ks={i}, k.m={k.m}'\n",
    "\n",
    "    invk = k.get_inverted()\n",
    "    is_match, match_score_inv = k.match(invk.m, 1, my_config.kernel_match_threshold)\n",
    "    assert not is_match\n",
    "    assert match_score_inv == 0"
   ]
  },
  {
   "cell_type": "code",
   "execution_count": 65,
   "id": "38ce330d-0596-4231-a521-8e5fd6e57c3c",
   "metadata": {},
   "outputs": [],
   "source": [
    "my_config = Config()\n",
    "k = Kernel.random_nog(my_config)\n",
    "run_counts = 10\n",
    "\n",
    "for i in range(run_counts):\n",
    "    is_match, match_score = k.match(k.m, 1, my_config.kernel_match_threshold)\n",
    "    assert is_match\n",
    "    assert match_score == 1, f'ks={i}, k.m={k.m}'\n",
    "\n",
    "assert k.match_count == run_counts, k.match_count\n",
    "k.reset_stats()\n",
    "assert k.match_count == 0\n",
    "\n",
    "k.match(k.m, 1, my_config.kernel_match_threshold)\n",
    "assert k.match_count == 1\n",
    "\n",
    "my_config.kernel_size = 8 \n",
    "half_fill_image = Image.new('L', (8, 8), 0)\n",
    "draw = ImageDraw.Draw(half_fill_image)\n",
    "draw.rectangle([0, 0, 3, 7], 255)\n",
    "k = Kernel.solid_nog(my_config, 1)\n",
    "is_match, match_score = k.match(half_fill_image, 8, 0.49)\n",
    "assert is_match\n",
    "assert match_score == 0.5, match_score\n",
    "\n",
    "is_match, match_score = k.match(half_fill_image, 8, 0.5)\n",
    "assert not is_match\n",
    "assert match_score == 0.5, match_score"
   ]
  },
  {
   "cell_type": "code",
   "execution_count": 66,
   "id": "2b03cb16-fca5-4ef5-a3e6-7da228f5d127",
   "metadata": {
    "editable": true,
    "slideshow": {
     "slide_type": ""
    },
    "tags": []
   },
   "outputs": [
    {
     "data": {
      "text/html": [
       "\n",
       "        <div style=\"display: flex; flex-flow: row wrap; text-align: center;\">\n",
       "        \n",
       "            <figure style=\"margin: 5px !important;\">\n",
       "              <img src=\"data:image/png;base64,iVBORw0KGgoAAAANSUhEUgAAAGQAAABkCAAAAABVicqIAAAAZElEQVR4nO3NsQqAIABF0WprEwTJ//84RRDcXPsAG4JoO3d98M6+rZ0hpivnfKUYzod9bY7eaimltj7mOh+vTj4GgUAgEAgEAoFAIBAIBAKBQCAQCAQCgUAgEAgEAoFAIBDIv93pRg3IerbqtwAAAABJRU5ErkJggg==\" style=\"height: auto\">\n",
       "              \n",
       "            </figure>\n",
       "        \n",
       "            <figure style=\"margin: 5px !important;\">\n",
       "              <img src=\"data:image/png;base64,iVBORw0KGgoAAAANSUhEUgAAAGQAAABkCAAAAABVicqIAAAAeElEQVR4nO3ZMQqDABAAQRWbdAEhJP9/XEJAsDKlviCFzVazH5ji7qobBkmSFDfeAmS+F8hSII8CeRbIC3IFSWaSbFdxJ+NeIEeATIEBgUAgEAgEAoFAIBDI3+ZfgWwFshbIt0A+BfKGXEGSmSTbVdxJ8hCQJEl5JyEEDaGsBvAYAAAAAElFTkSuQmCC\" style=\"height: auto\">\n",
       "              \n",
       "            </figure>\n",
       "        \n",
       "            <figure style=\"margin: 5px !important;\">\n",
       "              <img src=\"data:image/png;base64,iVBORw0KGgoAAAANSUhEUgAAAGQAAABkAQAAAABYmaj5AAAAJUlEQVR4nGNgYGBgYP///w8DAwMDAxMDMhjljfJGeaO8UR71eQB8cAPIY/YpdQAAAABJRU5ErkJggg==\" style=\"height: auto\">\n",
       "              \n",
       "            </figure>\n",
       "        \n",
       "            <figure style=\"margin: 5px !important;\">\n",
       "              <img src=\"data:image/png;base64,iVBORw0KGgoAAAANSUhEUgAAAGQAAABkAQAAAABYmaj5AAAAHklEQVR4nGNgGAWjgPE/EucjE4rcKI9S3igYBegAAC2HAiKHtVYDAAAAAElFTkSuQmCC\" style=\"height: auto\">\n",
       "              \n",
       "            </figure>\n",
       "        \n",
       "            <figure style=\"margin: 5px !important;\">\n",
       "              <img src=\"data:image/png;base64,iVBORw0KGgoAAAANSUhEUgAAAGQAAABkAQAAAABYmaj5AAAAHUlEQVR4nGP8z4AAH5kYkMEoj1LeKBgFo2AUYAIAfIkCIofPQ2EAAAAASUVORK5CYII=\" style=\"height: auto\">\n",
       "              \n",
       "            </figure>\n",
       "        \n",
       "            <figure style=\"margin: 5px !important;\">\n",
       "              <img src=\"data:image/png;base64,iVBORw0KGgoAAAANSUhEUgAAAGQAAABkAQAAAABYmaj5AAAAH0lEQVR4nGP4//9/AwMMMDEgg1HeKG+UN8ob5VGfBwAvuQRENE+WyAAAAABJRU5ErkJggg==\" style=\"height: auto\">\n",
       "              \n",
       "            </figure>\n",
       "        \n",
       "        </div>\n",
       "    "
      ],
      "text/plain": [
       "<IPython.core.display.HTML object>"
      ]
     },
     "execution_count": 66,
     "metadata": {},
     "output_type": "execute_result"
    }
   ],
   "source": [
    "my_config = Config()\n",
    "horz_line_image = Image.new('L', (8, 8), 0)\n",
    "draw = ImageDraw.Draw(horz_line_image)\n",
    "draw.rectangle([0, 2, 7, 5], 255)\n",
    "\n",
    "vert_line_image = Image.new('L', (8, 8), 0)\n",
    "draw = ImageDraw.Draw(vert_line_image)\n",
    "draw.rectangle([2, 0, 5, 7], 255)\n",
    "\n",
    "m_data = np.array([\n",
    "    [0, 0, 0, 0, 0, 0, 0, 0],\n",
    "    [0, 0, 0, 0, 0, 0, 0, 0],\n",
    "    [0, 0, 0, 0, 0, 0, 0, 0],\n",
    "    [1, 1, 1, 1, 1, 1, 1, 1],\n",
    "    [1, 1, 1, 1, 1, 1, 1, 1],\n",
    "    [0, 0, 0, 0, 0, 0, 0, 0],\n",
    "    [0, 0, 0, 0, 0, 0, 0, 0],\n",
    "    [0, 0, 0, 0, 0, 0, 0, 0],\n",
    "], dtype=np.uint8)\n",
    "\n",
    "horz_line_kernel = Kernel.from_m_data_nog(m_data)\n",
    "shifted_horz_line_kernel = Kernel.from_m_data_nog(np.roll(m_data, -3, axis=0))\n",
    "vert_line_kernel = Kernel.from_m_data_nog(m_data.T)\n",
    "vert_line_kernel.match(vert_line_image, 8, my_config.kernel_match_threshold)\n",
    "shifted_vert_line_kernel = Kernel.from_m_data_nog(np.roll(m_data.T, -3, axis=1))\n",
    "\n",
    "assert horz_line_kernel.match(horz_line_image, 8, my_config.kernel_match_threshold)[1] == 1\n",
    "assert vert_line_kernel.match(vert_line_image, 8, my_config.kernel_match_threshold)[1] == 1\n",
    "assert shifted_horz_line_kernel.match(horz_line_image, 8, my_config.kernel_match_threshold)[1] == 0\n",
    "assert shifted_vert_line_kernel.match(vert_line_image, 8, my_config.kernel_match_threshold)[1] == 0\n",
    "\n",
    "display_images(\n",
    "    [vert_line_image.resize((100, 100)), \n",
    "     horz_line_image.resize((100, 100)), \n",
    "     vert_line_kernel.to_image(inverted=False).resize((100, 100)),\n",
    "     horz_line_kernel.to_image(inverted=False).resize((100, 100)),\n",
    "     shifted_horz_line_kernel.to_image(inverted=False).resize((100, 100)),\n",
    "     shifted_vert_line_kernel.to_image(inverted=False).resize((100, 100)),\n",
    "    ]\n",
    ")"
   ]
  },
  {
   "cell_type": "code",
   "execution_count": 67,
   "id": "d4ead886-6f31-410f-9454-6224cfbfa147",
   "metadata": {
    "editable": true,
    "slideshow": {
     "slide_type": ""
    },
    "tags": []
   },
   "outputs": [
    {
     "data": {
      "image/jpeg": "[encoded data removed]",
      "image/png": "[encoded data removed]",
      "text/plain": [
       "<PIL.Image.Image image mode=1 size=32x32>"
      ]
     },
     "execution_count": 67,
     "metadata": {},
     "output_type": "execute_result"
    }
   ],
   "source": [
    "my_config = Config()\n",
    "k = Kernel.random(my_config)\n",
    "k.to_image(inverted=False)"
   ]
  },
  {
   "cell_type": "code",
   "execution_count": 68,
   "id": "7e777284-f207-4b25-9f51-e4cd0a7a3fc3",
   "metadata": {
    "editable": true,
    "slideshow": {
     "slide_type": ""
    },
    "tags": []
   },
   "outputs": [
    {
     "name": "stdout",
     "output_type": "stream",
     "text": [
      "Match score over image \"dataset/dataset_source_101_ObjectCategories_Motorbikes_image_0156@171,115.png\" = 0.09800334768053563\n"
     ]
    },
    {
     "data": {
      "text/html": [
       "\n",
       "        <div style=\"display: flex; flex-flow: row wrap; text-align: center;\">\n",
       "        \n",
       "            <figure style=\"margin: 5px !important;\">\n",
       "              <img src=\"data:image/png;base64,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\" style=\"height: auto\">\n",
       "              \n",
       "            </figure>\n",
       "        \n",
       "            <figure style=\"margin: 5px !important;\">\n",
       "              <img src=\"data:image/png;base64,iVBORw0KGgoAAAANSUhEUgAAAUAAAAFAAQAAAADl65gHAAACOElEQVR4nO2bO47jMBBEH1cCJqRuJF1tb0YfZW9AhQNQqA341UQbLCSQIANZtl/SbnSzqkUj+UVyNiBJYldAjkVgJXYPYKVf/OOa4P8BkbOS5MudJGCR5FN65GZmngeJv30ql9tdSZQcy8zM8+DuLwOAXPzoMvlSlg2dBDMU+DFfMmZL781x//5jVsxxrp0EMxCIdOth7ApQ9hk5K00F8AZIykcWaHXLlxTImZnd7HGQmIC0QpOoKgimNnsDLJm5l0vJTBFoPQQzFmjMtggAyRdFZkORamAOLtNFMCOB2fn7JdqWNA0om/+uqQDeAVcAxHkZYT3s/gLst2H/kypIcK09BDMU2KivmxbI2iwNa/oIZiiQaGDK5ZaU1NdmN3sDbPPhgOxs8tQ5paePYIYC1/R6brDrWgXfRgD6bF5md7FmughmKJDsLwPV+VdFNrXZa2BSyPFyn/2XHEma05lXwMuADZijfPrZwBznin5vlzHH+TVr5mkwbfnKTSvJgFw1ef48u9njINH0u5oUn+cC1ePMieYLYJOUH/4ybzvJ1PQQzFBgM2uu7Sv5GU8zQeshmKFAWkOpfGzGsahdvo9ghgKLn2krpWrlXEdTNT8O0h5eulsZbGhUWg/BDAXm3T7bzej80xm00Ki0HoIZCmyqIg8C0ggz1RFMbfYK2NaMs+2jgDp1ngrgDbBML9M580Y63ztcD8EMBaaHZtHv+zLgrHbTL7F6eghmKJAfZ5nyHzRCY3RmzbwB/gUTrfLNVGproQAAAABJRU5ErkJggg==\" style=\"height: auto\">\n",
       "              \n",
       "            </figure>\n",
       "        \n",
       "        </div>\n",
       "    "
      ],
      "text/plain": [
       "<IPython.core.display.HTML object>"
      ]
     },
     "execution_count": 68,
     "metadata": {},
     "output_type": "execute_result"
    }
   ],
   "source": [
    "my_config = Config()\n",
    "\n",
    "image_fnames = os.listdir(my_config.dataset_path)\n",
    "fname_i = np.random.randint(0, len(image_fnames))\n",
    "image_fname = os.path.join(my_config.dataset_path, image_fnames[fname_i])\n",
    "\n",
    "z = Image.open(image_fname)\n",
    "z_2d_bytes = np.frombuffer(z.tobytes(), dtype=np.uint8).reshape(32, 32)\n",
    "\n",
    "k = Kernel.random_nog(my_config)\n",
    "_, match_score = k.match(z_2d_bytes, 8, my_config.kernel_match_threshold)\n",
    "print(f'Match score over image \"{image_fname}\" = {match_score}')\n",
    "\n",
    "display_images([z.resize([320, 320]), k.to_image().resize((320, 320))])"
   ]
  },
  {
   "cell_type": "code",
   "execution_count": null,
   "id": "27c9235d-28fc-4dba-ba72-6a20f1982d0f",
   "metadata": {},
   "outputs": [],
   "source": []
  }
 ],
 "metadata": {
  "kernelspec": {
   "display_name": "Python 3 (ipykernel)",
   "language": "python",
   "name": "python3"
  },
  "language_info": {
   "codemirror_mode": {
    "name": "ipython",
    "version": 3
   },
   "file_extension": ".py",
   "mimetype": "text/x-python",
   "name": "python",
   "nbconvert_exporter": "python",
   "pygments_lexer": "ipython3",
   "version": "3.12.8"
  }
 },
 "nbformat": 4,
 "nbformat_minor": 5
}
