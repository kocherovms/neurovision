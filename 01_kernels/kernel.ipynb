{
 "cells": [
  {
   "cell_type": "code",
   "execution_count": 38,
   "id": "5fc5c834-0112-460e-bf4a-eff8918b8c9d",
   "metadata": {
    "editable": true,
    "slideshow": {
     "slide_type": ""
    },
    "tags": []
   },
   "outputs": [],
   "source": [
    "import numpy as np\n",
    "import timeit\n",
    "import os\n",
    "import pickle\n",
    "from PIL import Image, ImageDraw\n",
    "\n",
    "%run utils.ipynb\n",
    "%run kernel_genetics.ipynb"
   ]
  },
  {
   "cell_type": "code",
   "execution_count": 39,
   "id": "c562aa38-ae98-4e74-9b57-c1604dfad958",
   "metadata": {
    "editable": true,
    "slideshow": {
     "slide_type": ""
    },
    "tags": []
   },
   "outputs": [],
   "source": [
    "class Kernel:\n",
    "    def __init__(self, size):\n",
    "        super()\n",
    "        self.genotype = KernelGenotype()\n",
    "        self.size = size\n",
    "        self.m = []\n",
    "        self.m_ones = 0\n",
    "        # stats\n",
    "        self.match_invokes = 0\n",
    "        self.match_invokes_success = 0\n",
    "    \n",
    "    def __eq__(self, other): \n",
    "        if not isinstance(other, Kernel):\n",
    "            return NotImplemented\n",
    "\n",
    "        return self.genotype == other.genotype and self.size == other.size and np.array_equal(self.m, other.m) and self.m_ones == other.m_ones\n",
    "\n",
    "    @classmethod\n",
    "    def random_nog(cls, config):\n",
    "        k = cls(config.kernel_size)\n",
    "        assert k.size >= 2\n",
    "        assert config.kernel_initial_complexity >= 0 and config.kernel_initial_complexity <= 1\n",
    "\n",
    "        k.m = np.uint8(np.random.uniform(size=(k.size, k.size)) <= config.kernel_initial_complexity)\n",
    "        k.m_ones = k.compute_ones()\n",
    "\n",
    "        if k.m_ones == 0:\n",
    "            # complete blank mask was generated. Put random pixel somewhere\n",
    "            random_pos = np.random.randint(k.size, size=(2,))\n",
    "            k.m[random_pos[0], random_pos[1]] = 1\n",
    "            k.m_ones = k.compute_ones()\n",
    "            assert k.m_ones == 1\n",
    "            \n",
    "        return k\n",
    "\n",
    "    @classmethod\n",
    "    def solid_nog(cls, config, solid_value):\n",
    "        assert solid_value in [0, 1]\n",
    "        \n",
    "        k = cls(config.kernel_size)\n",
    "        k.m = np.full((k.size, k.size), solid_value, dtype=np.uint8)\n",
    "        k.m_ones = k.compute_ones()\n",
    "        return k\n",
    "\n",
    "    @classmethod\n",
    "    def from_m_data_nog(cls, m_data):\n",
    "        assert len(m_data.shape) == 2\n",
    "        assert m_data.shape[0] == m_data.shape[1]\n",
    "        assert m_data.shape[0] > 0\n",
    "        \n",
    "        k = cls(m_data.shape[0])\n",
    "        k.m = m_data\n",
    "        k.m_ones = k.compute_ones()\n",
    "        return k\n",
    "\n",
    "    @classmethod\n",
    "    def random(cls, config):\n",
    "        k = cls(config.kernel_size)\n",
    "        assert k.size >= 2\n",
    "        k.genotype = KernelGenotype.random(1)\n",
    "        pheno_image = k.genotype.build_phenotype(k.size)\n",
    "        k.m = pil_image_to_2d_bytes(pheno_image)\n",
    "        k.m_ones = k.compute_ones()\n",
    "        return k\n",
    "\n",
    "    def compute_ones(self):\n",
    "        rv = 0\n",
    "        # direct iteration is simplier to handle than np.unique_counts\n",
    "        # because output of the latter may be any of [0, 1], [0], [1], []\n",
    "        for x in np.nditer(self.m): \n",
    "            rv += (x == 1)\n",
    "\n",
    "        return rv\n",
    "\n",
    "    def get_complexity(self):\n",
    "       return self.m_ones / (self.size * self.size)\n",
    "\n",
    "    def get_inverted(self):\n",
    "        k = Kernel(self.size)\n",
    "        k.m = self.m.copy()\n",
    "        k.m = 1 - k.m\n",
    "        k.m_ones = k.compute_ones()\n",
    "        return k\n",
    "\n",
    "    def match(self, image, image_bits_per_pixel, match_threshold):\n",
    "        assert image_bits_per_pixel in [1, 8] # bw or grayscale only\n",
    "        assert match_threshold > 0 and match_threshold <= 1\n",
    "        self.match_invokes += 1\n",
    "\n",
    "        if not self.m_ones: # empty phenotype\n",
    "            return False, 0\n",
    "            \n",
    "        v = np.einsum('ij,ij->', self.m, image, dtype=np.uint32)\n",
    "        # print(f'kms@ v={v} ones={self.m_ones}')\n",
    "\n",
    "        if self.m_ones > 0:\n",
    "            denom = self.m_ones\n",
    "            denom *= 2 ** image_bits_per_pixel - 1\n",
    "            v /= denom\n",
    "\n",
    "        if v > match_threshold:\n",
    "            is_match = True\n",
    "            self.match_invokes_success += 1\n",
    "        else:\n",
    "            is_match = False\n",
    "\n",
    "        return is_match, v\n",
    "\n",
    "    def reset_stats(self):\n",
    "        self.match_invokes = 0\n",
    "        self.match_invokes_success = 0\n",
    "\n",
    "    def to_image(self, inverted=True):\n",
    "        sz = (self.size, self.size)\n",
    "        bts = self.m.ravel() # 2d -> 1d\n",
    "\n",
    "        if inverted:\n",
    "            bts = 1 - bts # invert 0 -> 1 / 1-> 0\n",
    "            \n",
    "        bts = np.packbits(bts) # uint8 -> 1 bit\n",
    "        return Image.frombytes('1', size=sz, data=bts)\n"
   ]
  },
  {
   "cell_type": "code",
   "execution_count": 40,
   "id": "45490cc2-60fd-4a3d-ac88-d11b66f64748",
   "metadata": {
    "editable": true,
    "slideshow": {
     "slide_type": ""
    },
    "tags": []
   },
   "outputs": [],
   "source": [
    "class FenceKernel(Kernel):\n",
    "    pass"
   ]
  },
  {
   "cell_type": "code",
   "execution_count": 41,
   "id": "2a7b8c5a-73d4-44f7-9ae7-8398bcee1a86",
   "metadata": {},
   "outputs": [],
   "source": [
    "my_config = Config()\n",
    "ones_kernel = Kernel.solid_nog(my_config, 1)\n",
    "zeros_kernel = Kernel.solid_nog(my_config, 0)\n",
    "assert ones_kernel != zeros_kernel\n",
    "assert ones_kernel == Kernel.solid_nog(my_config, 1)\n",
    "assert zeros_kernel == Kernel.solid_nog(my_config, 0)"
   ]
  },
  {
   "cell_type": "code",
   "execution_count": 42,
   "id": "021cd7a6-b833-4ea5-8d87-a74f976ef6a2",
   "metadata": {},
   "outputs": [
    {
     "data": {
      "text/html": [
       "\n",
       "        <div style=\"display: flex; flex-flow: row wrap; text-align: center;\">\n",
       "        \n",
       "            <figure style=\"margin: 5px !important;\">\n",
       "              <img src=\"data:image/png;base64,iVBORw0KGgoAAAANSUhEUgAAAGQAAABkAQAAAABYmaj5AAAAJ0lEQVR4nGP8z4AAH5kYkMHg5jVyDB634OIxDtnQHeWN8kZ5tOMBAB+lBTDlm/e7AAAAAElFTkSuQmCC\" style=\"height: auto\">\n",
       "              <figcaption style=\"font-size: 0.6em\">Complexity 0 / 0.015625</figcaption>\n",
       "            </figure>\n",
       "        \n",
       "            <figure style=\"margin: 5px !important;\">\n",
       "              <img src=\"data:image/png;base64,iVBORw0KGgoAAAANSUhEUgAAAGQAAABkAQAAAABYmaj5AAAAW0lEQVR4nNXQMQqAQAxE0Um08BZ7FY/uVbyBloL4bQQFYUm32WnC7x4x9G53fddDrZ7H8i/r5bs2SYfNKSzhEgAsUrlaWwJOThXYMslqNT53oL0l4pSEp5LV6gb50BupmYPeuQAAAABJRU5ErkJggg==\" style=\"height: auto\">\n",
       "              <figcaption style=\"font-size: 0.6em\">Complexity 1 / 0.125</figcaption>\n",
       "            </figure>\n",
       "        \n",
       "            <figure style=\"margin: 5px !important;\">\n",
       "              <img src=\"data:image/png;base64,iVBORw0KGgoAAAANSUhEUgAAAGQAAABkAQAAAABYmaj5AAAAXElEQVR4nM2TMQqAQAwEN3Jw/sKnij/1Cdqlcmw8uCped9kqA1sMCzFVV8u9qE9eEoCPNCd7qvLlme0S7+naATiNK5NZRMXataVet/Q/lsostCaPyx8dax6XMXoBpBAej5ax1MQAAAAASUVORK5CYII=\" style=\"height: auto\">\n",
       "              <figcaption style=\"font-size: 0.6em\">Complexity 2 / 0.21875</figcaption>\n",
       "            </figure>\n",
       "        \n",
       "            <figure style=\"margin: 5px !important;\">\n",
       "              <img src=\"data:image/png;base64,iVBORw0KGgoAAAANSUhEUgAAAGQAAABkAQAAAABYmaj5AAAAbElEQVR4nM2UMQ6CUBAF5ymJrTfwKN+b4dE8CkeghAQdCxosSOjYaTbTTTabxZWFxxcubCluc9JBHAu07NqcF7QFzP3sln3DCaCp1t7nH070qg7Fr+BmkmeNlsOWRH1/0kp/hs51Xj2/5bj9AEzlLDLlWonXAAAAAElFTkSuQmCC\" style=\"height: auto\">\n",
       "              <figcaption style=\"font-size: 0.6em\">Complexity 3 / 0.3125</figcaption>\n",
       "            </figure>\n",
       "        \n",
       "            <figure style=\"margin: 5px !important;\">\n",
       "              <img src=\"data:image/png;base64,iVBORw0KGgoAAAANSUhEUgAAAGQAAABkAQAAAABYmaj5AAAAaElEQVR4nNXQMRJEQBhE4W4TTOoGruJmHM3eyGamCk8gUbbY0K+zl33VUqbPDAlWqdJxccsc4htJdq5i2+1iV89brktAn9k3RpL9UwNDCq4Wk5RhVhPa+VvdJEnC9fOW2ypuE5/0nnc3YgcxyvGC4F0AAAAASUVORK5CYII=\" style=\"height: auto\">\n",
       "              <figcaption style=\"font-size: 0.6em\">Complexity 4 / 0.3125</figcaption>\n",
       "            </figure>\n",
       "        \n",
       "            <figure style=\"margin: 5px !important;\">\n",
       "              <img src=\"data:image/png;base64,iVBORw0KGgoAAAANSUhEUgAAAGQAAABkAQAAAABYmaj5AAAAYklEQVR4nM3QMQ6AIBBE0b9CwjE4CkfzqnoDS0wIY6OJNIbOne51PwOwVghSh4X3HEsVktTYgw5XZYxLUqU0sut3704gy/Ofo6KAJBct3zrNzCy6aJnVs6Dt95YJleanZUIXgCIeh94PBmIAAAAASUVORK5CYII=\" style=\"height: auto\">\n",
       "              <figcaption style=\"font-size: 0.6em\">Complexity 5 / 0.5</figcaption>\n",
       "            </figure>\n",
       "        \n",
       "            <figure style=\"margin: 5px !important;\">\n",
       "              <img src=\"data:image/png;base64,iVBORw0KGgoAAAANSUhEUgAAAGQAAABkAQAAAABYmaj5AAAAa0lEQVR4nNWSsQ2DQBTF/I9IN1ayGYx2o2SElEQimIIGpOhS8vM6d9aTAUZtAFA4LjGpETEuGVw6hDNU26Dr1S5dT4Dqvlcms18VTO94fCLK5S4dQnXmnr3WM90CqIJYUpl9eVfb4DP+p90ND0Mwn182J6oAAAAASUVORK5CYII=\" style=\"height: auto\">\n",
       "              <figcaption style=\"font-size: 0.6em\">Complexity 6 / 0.5</figcaption>\n",
       "            </figure>\n",
       "        \n",
       "            <figure style=\"margin: 5px !important;\">\n",
       "              <img src=\"data:image/png;base64,iVBORw0KGgoAAAANSUhEUgAAAGQAAABkAQAAAABYmaj5AAAAZ0lEQVR4nM3OsQmAMBRF0fdjIKUjuIqjZbSs4gaWCsFrIQGxCFr5X/O43ZESWW1B9/mtyPVDFcGV7Fm7AUVawv+WTtmImc0uLK8rIiltLiy9Es04HX9bPqoTxYOl74ScoErG6knWqxOlYh1zuaX7bQAAAABJRU5ErkJggg==\" style=\"height: auto\">\n",
       "              <figcaption style=\"font-size: 0.6em\">Complexity 7 / 0.609375</figcaption>\n",
       "            </figure>\n",
       "        \n",
       "            <figure style=\"margin: 5px !important;\">\n",
       "              <img src=\"data:image/png;base64,iVBORw0KGgoAAAANSUhEUgAAAGQAAABkAQAAAABYmaj5AAAATklEQVR4nN2QsQ2AMBDEfIS9WI1RGSFlCsRRRaKK0v0Hd+4sY/uks/ElsUlyg2I/4S0D6xRf4S0znYBcM5X9wRbFDeC4geiDI9uVp2XeXgSPECRFZf2SAAAAAElFTkSuQmCC\" style=\"height: auto\">\n",
       "              <figcaption style=\"font-size: 0.6em\">Complexity 8 / 0.828125</figcaption>\n",
       "            </figure>\n",
       "        \n",
       "            <figure style=\"margin: 5px !important;\">\n",
       "              <img src=\"data:image/png;base64,iVBORw0KGgoAAAANSUhEUgAAAGQAAABkAQAAAABYmaj5AAAASklEQVR4nGNgGLKA/f8BCIMJRXgw8WCA+f+DAXcLfh77/wZIeDL+/zDQbiGWx/D/BwMD+///fwaBW4hJBaOAJuD/DyTOYIp3fDwAGD0QSCJHvaIAAAAASUVORK5CYII=\" style=\"height: auto\">\n",
       "              <figcaption style=\"font-size: 0.6em\">Complexity 9 / 0.84375</figcaption>\n",
       "            </figure>\n",
       "        \n",
       "            <figure style=\"margin: 5px !important;\">\n",
       "              <img src=\"data:image/png;base64,iVBORw0KGgoAAAANSUhEUgAAAGQAAABkAQAAAABYmaj5AAAAFElEQVR4nGNgGAWjYBSMglFATwAABXgAAQj9RYMAAAAASUVORK5CYII=\" style=\"height: auto\">\n",
       "              <figcaption style=\"font-size: 0.6em\">Complexity 10 / 1.0</figcaption>\n",
       "            </figure>\n",
       "        \n",
       "        </div>\n",
       "    "
      ],
      "text/plain": [
       "<IPython.core.display.HTML object>"
      ]
     },
     "execution_count": 42,
     "metadata": {},
     "output_type": "execute_result"
    }
   ],
   "source": [
    "my_config = Config()\n",
    "my_config.kernel_size = 8\n",
    "kimgs = []\n",
    "kimgcaps = dict()\n",
    "\n",
    "for cmplx in range(0, 10 + 1):\n",
    "    my_config.kernel_initial_complexity = cmplx / 10\n",
    "    k = Kernel.random_nog(my_config)\n",
    "    kimg = k.to_image().resize((100, 100))\n",
    "    kimgs.append(kimg)\n",
    "    kimgcaps[id(kimg)] = f'Complexity {cmplx} / {k.get_complexity()}'\n",
    "\n",
    "display_images(kimgs, kimgcaps)"
   ]
  },
  {
   "cell_type": "code",
   "execution_count": 43,
   "id": "53fb4deb-5fc9-4f75-83e6-f1c3bb80f7a7",
   "metadata": {
    "editable": true,
    "slideshow": {
     "slide_type": ""
    },
    "tags": []
   },
   "outputs": [],
   "source": [
    "my_config = Config()\n",
    "\n",
    "for i in range(2, 32):\n",
    "    my_config.kernel_size = i\n",
    "    k = Kernel.random_nog(my_config)\n",
    "    is_match, match_score = k.match(k.m, 1, my_config.kernel_match_threshold)\n",
    "    assert is_match\n",
    "    assert match_score == 1, f'ks={i}, k.m={k.m}'\n",
    "\n",
    "    invk = k.get_inverted()\n",
    "    is_match, match_score_inv = k.match(invk.m, 1, my_config.kernel_match_threshold)\n",
    "    assert not is_match\n",
    "    assert match_score_inv == 0"
   ]
  },
  {
   "cell_type": "code",
   "execution_count": 44,
   "id": "38ce330d-0596-4231-a521-8e5fd6e57c3c",
   "metadata": {},
   "outputs": [],
   "source": [
    "my_config = Config()\n",
    "k = Kernel.random_nog(my_config)\n",
    "run_counts = 10\n",
    "\n",
    "for i in range(run_counts):\n",
    "    is_match, match_score = k.match(k.m, 1, my_config.kernel_match_threshold)\n",
    "    assert is_match\n",
    "    assert match_score == 1, f'ks={i}, k.m={k.m}'\n",
    "\n",
    "assert k.match_invokes == run_counts\n",
    "assert k.match_invokes_success == run_counts, k.match_invokes_success\n",
    "k.reset_stats()\n",
    "assert k.match_invokes == 0\n",
    "assert k.match_invokes_success == 0\n",
    "\n",
    "k.match(k.m, 1, my_config.kernel_match_threshold)\n",
    "assert k.match_invokes == 1\n",
    "assert k.match_invokes_success == 1\n",
    "\n",
    "my_config.kernel_size = 8 \n",
    "half_fill_image = Image.new('L', (8, 8), 0)\n",
    "draw = ImageDraw.Draw(half_fill_image)\n",
    "draw.rectangle([0, 0, 3, 7], 255)\n",
    "k = Kernel.solid_nog(my_config, 1)\n",
    "is_match, match_score = k.match(half_fill_image, 8, 0.49)\n",
    "assert is_match\n",
    "assert match_score == 0.5, match_score\n",
    "\n",
    "is_match, match_score = k.match(half_fill_image, 8, 0.5)\n",
    "assert not is_match\n",
    "assert match_score == 0.5, match_score"
   ]
  },
  {
   "cell_type": "code",
   "execution_count": 45,
   "id": "2b03cb16-fca5-4ef5-a3e6-7da228f5d127",
   "metadata": {
    "editable": true,
    "slideshow": {
     "slide_type": ""
    },
    "tags": []
   },
   "outputs": [
    {
     "data": {
      "text/html": [
       "\n",
       "        <div style=\"display: flex; flex-flow: row wrap; text-align: center;\">\n",
       "        \n",
       "            <figure style=\"margin: 5px !important;\">\n",
       "              <img src=\"data:image/png;base64,iVBORw0KGgoAAAANSUhEUgAAAGQAAABkCAAAAABVicqIAAAAZElEQVR4nO3NsQqAIABF0WprEwTJ//84RRDcXPsAG4JoO3d98M6+rZ0hpivnfKUYzod9bY7eaimltj7mOh+vTj4GgUAgEAgEAoFAIBAIBAKBQCAQCAQCgUAgEAgEAoFAIBDIv93pRg3IerbqtwAAAABJRU5ErkJggg==\" style=\"height: auto\">\n",
       "              \n",
       "            </figure>\n",
       "        \n",
       "            <figure style=\"margin: 5px !important;\">\n",
       "              <img src=\"data:image/png;base64,iVBORw0KGgoAAAANSUhEUgAAAGQAAABkCAAAAABVicqIAAAAeElEQVR4nO3ZMQqDABAAQRWbdAEhJP9/XEJAsDKlviCFzVazH5ji7qobBkmSFDfeAmS+F8hSII8CeRbIC3IFSWaSbFdxJ+NeIEeATIEBgUAgEAgEAoFAIBDI3+ZfgWwFshbIt0A+BfKGXEGSmSTbVdxJ8hCQJEl5JyEEDaGsBvAYAAAAAElFTkSuQmCC\" style=\"height: auto\">\n",
       "              \n",
       "            </figure>\n",
       "        \n",
       "            <figure style=\"margin: 5px !important;\">\n",
       "              <img src=\"data:image/png;base64,iVBORw0KGgoAAAANSUhEUgAAAGQAAABkAQAAAABYmaj5AAAAJUlEQVR4nGNgYGBgYP///w8DAwMDAxMDMhjljfJGeaO8UR71eQB8cAPIY/YpdQAAAABJRU5ErkJggg==\" style=\"height: auto\">\n",
       "              \n",
       "            </figure>\n",
       "        \n",
       "            <figure style=\"margin: 5px !important;\">\n",
       "              <img src=\"data:image/png;base64,iVBORw0KGgoAAAANSUhEUgAAAGQAAABkAQAAAABYmaj5AAAAHklEQVR4nGNgGAWjgPE/EucjE4rcKI9S3igYBegAAC2HAiKHtVYDAAAAAElFTkSuQmCC\" style=\"height: auto\">\n",
       "              \n",
       "            </figure>\n",
       "        \n",
       "            <figure style=\"margin: 5px !important;\">\n",
       "              <img src=\"data:image/png;base64,iVBORw0KGgoAAAANSUhEUgAAAGQAAABkAQAAAABYmaj5AAAAHUlEQVR4nGP8z4AAH5kYkMEoj1LeKBgFo2AUYAIAfIkCIofPQ2EAAAAASUVORK5CYII=\" style=\"height: auto\">\n",
       "              \n",
       "            </figure>\n",
       "        \n",
       "            <figure style=\"margin: 5px !important;\">\n",
       "              <img src=\"data:image/png;base64,iVBORw0KGgoAAAANSUhEUgAAAGQAAABkAQAAAABYmaj5AAAAH0lEQVR4nGP4//9/AwMMMDEgg1HeKG+UN8ob5VGfBwAvuQRENE+WyAAAAABJRU5ErkJggg==\" style=\"height: auto\">\n",
       "              \n",
       "            </figure>\n",
       "        \n",
       "        </div>\n",
       "    "
      ],
      "text/plain": [
       "<IPython.core.display.HTML object>"
      ]
     },
     "execution_count": 45,
     "metadata": {},
     "output_type": "execute_result"
    }
   ],
   "source": [
    "my_config = Config()\n",
    "horz_line_image = Image.new('L', (8, 8), 0)\n",
    "draw = ImageDraw.Draw(horz_line_image)\n",
    "draw.rectangle([0, 2, 7, 5], 255)\n",
    "\n",
    "vert_line_image = Image.new('L', (8, 8), 0)\n",
    "draw = ImageDraw.Draw(vert_line_image)\n",
    "draw.rectangle([2, 0, 5, 7], 255)\n",
    "\n",
    "m_data = np.array([\n",
    "    [0, 0, 0, 0, 0, 0, 0, 0],\n",
    "    [0, 0, 0, 0, 0, 0, 0, 0],\n",
    "    [0, 0, 0, 0, 0, 0, 0, 0],\n",
    "    [1, 1, 1, 1, 1, 1, 1, 1],\n",
    "    [1, 1, 1, 1, 1, 1, 1, 1],\n",
    "    [0, 0, 0, 0, 0, 0, 0, 0],\n",
    "    [0, 0, 0, 0, 0, 0, 0, 0],\n",
    "    [0, 0, 0, 0, 0, 0, 0, 0],\n",
    "], dtype=np.uint8)\n",
    "\n",
    "horz_line_kernel = Kernel.from_m_data_nog(m_data)\n",
    "shifted_horz_line_kernel = Kernel.from_m_data_nog(np.roll(m_data, -3, axis=0))\n",
    "vert_line_kernel = Kernel.from_m_data_nog(m_data.T)\n",
    "vert_line_kernel.match(vert_line_image, 8, my_config.kernel_match_threshold)\n",
    "shifted_vert_line_kernel = Kernel.from_m_data_nog(np.roll(m_data.T, -3, axis=1))\n",
    "\n",
    "assert horz_line_kernel.match(horz_line_image, 8, my_config.kernel_match_threshold)[1] == 1\n",
    "assert vert_line_kernel.match(vert_line_image, 8, my_config.kernel_match_threshold)[1] == 1\n",
    "assert shifted_horz_line_kernel.match(horz_line_image, 8, my_config.kernel_match_threshold)[1] == 0\n",
    "assert shifted_vert_line_kernel.match(vert_line_image, 8, my_config.kernel_match_threshold)[1] == 0\n",
    "\n",
    "display_images(\n",
    "    [vert_line_image.resize((100, 100)), \n",
    "     horz_line_image.resize((100, 100)), \n",
    "     vert_line_kernel.to_image(inverted=False).resize((100, 100)),\n",
    "     horz_line_kernel.to_image(inverted=False).resize((100, 100)),\n",
    "     shifted_horz_line_kernel.to_image(inverted=False).resize((100, 100)),\n",
    "     shifted_vert_line_kernel.to_image(inverted=False).resize((100, 100)),\n",
    "    ]\n",
    ")"
   ]
  },
  {
   "cell_type": "code",
   "execution_count": 46,
   "id": "d4ead886-6f31-410f-9454-6224cfbfa147",
   "metadata": {
    "editable": true,
    "slideshow": {
     "slide_type": ""
    },
    "tags": []
   },
   "outputs": [
    {
     "data": {
      "image/jpeg": "[encoded data removed]",
      "image/png": "[encoded data removed]",
      "text/plain": [
       "<PIL.Image.Image image mode=1 size=32x32>"
      ]
     },
     "execution_count": 46,
     "metadata": {},
     "output_type": "execute_result"
    }
   ],
   "source": [
    "my_config = Config()\n",
    "k = Kernel.random(my_config)\n",
    "k.to_image(inverted=False)"
   ]
  },
  {
   "cell_type": "code",
   "execution_count": 47,
   "id": "7e777284-f207-4b25-9f51-e4cd0a7a3fc3",
   "metadata": {
    "editable": true,
    "slideshow": {
     "slide_type": ""
    },
    "tags": []
   },
   "outputs": [
    {
     "name": "stdout",
     "output_type": "stream",
     "text": [
      "Match score over image \"dataset/dataset_source_101_ObjectCategories_Motorbikes_image_0532@139,96.png\" = 0.07998289658542544\n"
     ]
    },
    {
     "data": {
      "text/html": [
       "\n",
       "        <div style=\"display: flex; flex-flow: row wrap; text-align: center;\">\n",
       "        \n",
       "            <figure style=\"margin: 5px !important;\">\n",
       "              <img src=\"data:image/png;base64,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\" style=\"height: auto\">\n",
       "              \n",
       "            </figure>\n",
       "        \n",
       "            <figure style=\"margin: 5px !important;\">\n",
       "              <img src=\"data:image/png;base64,iVBORw0KGgoAAAANSUhEUgAAAUAAAAFAAQAAAADl65gHAAAB/0lEQVR4nO2aS27DMAxEx9UB3Bs5R1dvpAMoYBf8Otl0UUiQQi8CIXgLEwOSQ1rA1QpRPTuoohBRK4SL5MGlP1/445Pg/4BgFVgUPQGn/9eBi/oSwWwFguqp+cF6uCiWPfXMnBkOQopWixpRPSmUNKJWUpnRIFczTheiDqJWQovh/ypSmeEgiBog7aRJDeNChrMjc2YaGJThE/cZFsX8Wnqz8SBEBc4UhCQhakA6gGkgtGh1eLORk3aczJk54NUK4ee7EFUAxwNy0ud5AHgeawSzEaiumWK3Z2XYmzUpeCsEsxWI0O1NGRdKT6nMcBBhRwZoCuF10lwjmK1AsWUy9GviVBtlqiIrBLMVqDsZ92G6LVPD3JGueQYIds2+MrOOAwCWQqnMcDDumi8bZbi43crcCsFsBZojg+42YcsziqZthWC2AnEToAdDcJMnlRkO2tjiDrncPgqoiV4hmK1A+NpfNGrlNV2ozn3HzwRtmWk7APUC8TP03Hf8TDCux+4tP16gyUlzPAj1ymKYg0GL39CyzwwH3z9nQjaaMs8oskIwW4F4a/4+3jTTKHNmPMiZojbZC5m7gtybzQHDDsBnF7KbmdpsUpnhYMgK3TB3AH5xtuU3zTlgUEamylsNk1o39x0/E3xTwe7RuiEAMmfGg5ApJtxgitsAz6MVgtkK/AWDtlyxw96sQAAAAABJRU5ErkJggg==\" style=\"height: auto\">\n",
       "              \n",
       "            </figure>\n",
       "        \n",
       "        </div>\n",
       "    "
      ],
      "text/plain": [
       "<IPython.core.display.HTML object>"
      ]
     },
     "execution_count": 47,
     "metadata": {},
     "output_type": "execute_result"
    }
   ],
   "source": [
    "my_config = Config()\n",
    "\n",
    "image_fnames = os.listdir(my_config.dataset_path)\n",
    "fname_i = np.random.randint(0, len(image_fnames))\n",
    "image_fname = os.path.join(my_config.dataset_path, image_fnames[fname_i])\n",
    "\n",
    "z = Image.open(image_fname)\n",
    "z_2d_bytes = np.frombuffer(z.tobytes(), dtype=np.uint8).reshape(32, 32)\n",
    "\n",
    "k = Kernel.random_nog(my_config)\n",
    "_, match_score = k.match(z_2d_bytes, 8, my_config.kernel_match_threshold)\n",
    "print(f'Match score over image \"{image_fname}\" = {match_score}')\n",
    "\n",
    "display_images([z.resize([320, 320]), k.to_image().resize((320, 320))])"
   ]
  },
  {
   "cell_type": "code",
   "execution_count": 48,
   "id": "27c9235d-28fc-4dba-ba72-6a20f1982d0f",
   "metadata": {
    "editable": true,
    "slideshow": {
     "slide_type": ""
    },
    "tags": []
   },
   "outputs": [],
   "source": [
    "m_data = np.array([\n",
    "    [1, 1, 1, 1, 0, 0, 0, 0],\n",
    "    [1, 1, 1, 1, 0, 0, 0, 0],\n",
    "    [1, 1, 1, 1, 0, 0, 0, 0],\n",
    "    [1, 1, 1, 1, 0, 0, 0, 0],\n",
    "    [1, 1, 1, 1, 0, 0, 0, 0],\n",
    "    [1, 1, 1, 1, 0, 0, 0, 0],\n",
    "    [1, 1, 1, 1, 0, 0, 0, 0],\n",
    "    [1, 1, 1, 1, 0, 0, 0, 0],\n",
    "], dtype=np.uint8)\n",
    "kernels = [\n",
    "    Kernel.from_m_data_nog(m_data), \n",
    "    Kernel.from_m_data_nog(m_data.T),\n",
    "    Kernel.from_m_data_nog(np.roll(m_data, 4, axis=1)), \n",
    "    Kernel.from_m_data_nog(np.roll(m_data.T, 4, axis=0))\n",
    "]\n",
    "vert_bar_image = Image.new('L', (8, 8), 0)\n",
    "draw = ImageDraw.Draw(vert_bar_image)\n",
    "draw.rectangle([0, 0, 3, 7], 255)\n",
    "\n",
    "assert kernels[0].match(vert_bar_image, 8, 0.5)[1] == 1\n",
    "assert kernels[1].match(vert_bar_image, 8, 0.5)[1] == 0.5\n",
    "assert kernels[2].match(vert_bar_image, 8, 0.5)[1] == 0\n",
    "assert kernels[3].match(vert_bar_image, 8, 0.5)[1] == 0.5"
   ]
  }
 ],
 "metadata": {
  "kernelspec": {
   "display_name": "Python 3 (ipykernel)",
   "language": "python",
   "name": "python3"
  },
  "language_info": {
   "codemirror_mode": {
    "name": "ipython",
    "version": 3
   },
   "file_extension": ".py",
   "mimetype": "text/x-python",
   "name": "python",
   "nbconvert_exporter": "python",
   "pygments_lexer": "ipython3",
   "version": "3.12.8"
  }
 },
 "nbformat": 4,
 "nbformat_minor": 5
}
