{
 "cells": [
  {
   "cell_type": "code",
   "execution_count": 1,
   "id": "5fc5c834-0112-460e-bf4a-eff8918b8c9d",
   "metadata": {
    "editable": true,
    "slideshow": {
     "slide_type": ""
    },
    "tags": []
   },
   "outputs": [],
   "source": [
    "import numpy as np\n",
    "import timeit\n",
    "import os\n",
    "import pickle\n",
    "from PIL import Image, ImageDraw\n",
    "\n",
    "%run utils.ipynb\n",
    "%run kernel_genetics.ipynb"
   ]
  },
  {
   "cell_type": "code",
   "execution_count": 2,
   "id": "c562aa38-ae98-4e74-9b57-c1604dfad958",
   "metadata": {
    "editable": true,
    "slideshow": {
     "slide_type": ""
    },
    "tags": []
   },
   "outputs": [],
   "source": [
    "class Kernel:\n",
    "    def __init__(self, size):\n",
    "        super()\n",
    "        self.genotype = KernelGenotype()\n",
    "        self.size = size\n",
    "        self.m = []\n",
    "        self.m_ones = 0\n",
    "    \n",
    "    def __eq__(self, other): \n",
    "        if not isinstance(other, Kernel):\n",
    "            return NotImplemented\n",
    "\n",
    "        return self.genotype == other.genotype and self.size == other.size and np.array_equal(self.m, other.m) and self.m_ones == other.m_ones\n",
    "\n",
    "    @classmethod\n",
    "    def random_nog(cls, config):\n",
    "        k = cls(config.kernel_size)\n",
    "        assert k.size >= 2\n",
    "        assert config.kernel_initial_complexity >= 0 and config.kernel_initial_complexity <= 1\n",
    "\n",
    "        k.m = np.uint8(np.random.uniform(size=(k.size, k.size)) <= config.kernel_initial_complexity)\n",
    "        k.m_ones = k.compute_ones()\n",
    "\n",
    "        if k.m_ones == 0:\n",
    "            # complete blank mask was generated. Put random pixel somewhere\n",
    "            random_pos = np.random.randint(k.size, size=(2,))\n",
    "            k.m[random_pos[0], random_pos[1]] = 1\n",
    "            k.m_ones = k.compute_ones()\n",
    "            assert k.m_ones == 1\n",
    "            \n",
    "        return k\n",
    "\n",
    "    @classmethod\n",
    "    def solid_nog(cls, config, solid_value):\n",
    "        assert solid_value in [0, 1]\n",
    "        \n",
    "        k = cls(config.kernel_size)\n",
    "        k.m = np.full((k.size, k.size), solid_value, dtype=np.uint8)\n",
    "        k.m_ones = k.compute_ones()\n",
    "        return k\n",
    "\n",
    "    @classmethod\n",
    "    def from_m_data_nog(cls, m_data):\n",
    "        assert len(m_data.shape) == 2\n",
    "        assert m_data.shape[0] == m_data.shape[1]\n",
    "        assert m_data.shape[0] > 0\n",
    "        \n",
    "        k = cls(m_data.shape[0])\n",
    "        k.m = m_data\n",
    "        k.m_ones = k.compute_ones()\n",
    "        return k\n",
    "\n",
    "    @classmethod\n",
    "    def random(cls, config):\n",
    "        k = cls(config.kernel_size)\n",
    "        assert k.size >= 2\n",
    "        k.genotype = KernelGenotype.random(1)\n",
    "        pheno_image = k.genotype.build_phenotype(k.size)\n",
    "        k.m = pil_image_to_2d_bytes(pheno_image)\n",
    "        k.m_ones = k.compute_ones()\n",
    "        return k\n",
    "\n",
    "    def compute_ones(self):\n",
    "        rv = 0\n",
    "        # direct iteration is simplier to handle than np.unique_counts\n",
    "        # because output of the latter may be any of [0, 1], [0], [1], []\n",
    "        for x in np.nditer(self.m): \n",
    "            rv += (x == 1)\n",
    "\n",
    "        return rv\n",
    "\n",
    "    def get_complexity(self):\n",
    "       return self.m_ones / (self.size * self.size)\n",
    "\n",
    "    def get_inverted(self):\n",
    "        k = Kernel(self.size)\n",
    "        k.m = self.m.copy()\n",
    "        k.m = 1 - k.m\n",
    "        k.m_ones = k.compute_ones()\n",
    "        return k\n",
    "\n",
    "    def apply(self, image, image_bits_per_pixel):\n",
    "        assert image_bits_per_pixel in [1, 8] # bw or grayscale only\n",
    "\n",
    "        if not self.m_ones: # empty phenotype\n",
    "            return 0\n",
    "            \n",
    "        v = np.einsum('ij,ij->', self.m, image, dtype=np.uint32)\n",
    "        # print(f'kms@ v={v} ones={self.m_ones}')\n",
    "\n",
    "        if self.m_ones > 0:\n",
    "            denom = self.m_ones\n",
    "            denom *= 2 ** image_bits_per_pixel - 1\n",
    "            v /= denom\n",
    "\n",
    "        return v\n",
    "\n",
    "    def to_image(self, inverted=True):\n",
    "        sz = (self.size, self.size)\n",
    "        bts = self.m.ravel() # 2d -> 1d\n",
    "\n",
    "        if inverted:\n",
    "            bts = 1 - bts # invert 0 -> 1 / 1-> 0\n",
    "            \n",
    "        bts = np.packbits(bts) # uint8 -> 1 bit\n",
    "        return Image.frombytes('1', size=sz, data=bts)\n"
   ]
  },
  {
   "cell_type": "code",
   "execution_count": 3,
   "id": "45490cc2-60fd-4a3d-ac88-d11b66f64748",
   "metadata": {
    "editable": true,
    "slideshow": {
     "slide_type": ""
    },
    "tags": []
   },
   "outputs": [],
   "source": [
    "class FenceKernel(Kernel):\n",
    "    pass"
   ]
  },
  {
   "cell_type": "code",
   "execution_count": 4,
   "id": "2a7b8c5a-73d4-44f7-9ae7-8398bcee1a86",
   "metadata": {},
   "outputs": [],
   "source": [
    "my_config = Config()\n",
    "ones_kernel = Kernel.solid_nog(my_config, 1)\n",
    "zeros_kernel = Kernel.solid_nog(my_config, 0)\n",
    "assert ones_kernel != zeros_kernel\n",
    "assert ones_kernel == Kernel.solid_nog(my_config, 1)\n",
    "assert zeros_kernel == Kernel.solid_nog(my_config, 0)"
   ]
  },
  {
   "cell_type": "code",
   "execution_count": 5,
   "id": "021cd7a6-b833-4ea5-8d87-a74f976ef6a2",
   "metadata": {},
   "outputs": [
    {
     "data": {
      "text/html": [
       "\n",
       "        <div style=\"display: flex; flex-flow: row wrap; text-align: center;\">\n",
       "        \n",
       "            <figure style=\"margin: 5px !important;\">\n",
       "              <img src=\"data:image/png;base64,iVBORw0KGgoAAAANSUhEUgAAAGQAAABkAQAAAABYmaj5AAAAJUlEQVR4nGP8z4AAH5kYkMEob4TxDrIMHrcQwWMcTbujvCHKAwCSYwVsOwTyuwAAAABJRU5ErkJggg==\" style=\"height: auto\">\n",
       "              <figcaption style=\"font-size: 0.6em\">Complexity 0 / 0.015625</figcaption>\n",
       "            </figure>\n",
       "        \n",
       "            <figure style=\"margin: 5px !important;\">\n",
       "              <img src=\"data:image/png;base64,iVBORw0KGgoAAAANSUhEUgAAAGQAAABkAQAAAABYmaj5AAAARUlEQVR4nGP4DwMPGP9/YGJABoOXxwKl/7LI/xtotxDjTub/A++WUd6A8Rg5Bo9bSOD9ZGwYNG7Bw/v//z8igAeVy/DwAJ9XFDvD+IJ4AAAAAElFTkSuQmCC\" style=\"height: auto\">\n",
       "              <figcaption style=\"font-size: 0.6em\">Complexity 1 / 0.09375</figcaption>\n",
       "            </figure>\n",
       "        \n",
       "            <figure style=\"margin: 5px !important;\">\n",
       "              <img src=\"data:image/png;base64,iVBORw0KGgoAAAANSUhEUgAAAGQAAABkAQAAAABYmaj5AAAAV0lEQVR4nGP8z4AAH5kYkMEg5/1kZGQZLG7BwWNhYGBgYP9PhMpRHiW8h0yDxy2YPEZEHvvPNKhcRgTvICMjI/P/D4PCLVh5LIzsPxh+ctj/HwRuIZ4HAPXUDZiXzOk7AAAAAElFTkSuQmCC\" style=\"height: auto\">\n",
       "              <figcaption style=\"font-size: 0.6em\">Complexity 2 / 0.140625</figcaption>\n",
       "            </figure>\n",
       "        \n",
       "            <figure style=\"margin: 5px !important;\">\n",
       "              <img src=\"data:image/png;base64,iVBORw0KGgoAAAANSUhEUgAAAGQAAABkAQAAAABYmaj5AAAAa0lEQVR4nM3SsQ2DQBAF0TlAujJwJ5RmSnMp0AHODgkzBEgW0YmM3Wyyp6/FwlvVKbk0XC9uQVb9tLo/bak61TF7XuB1E7n84xtJdm/d6XFLvdZkgV96BbDcLVQLw0Yf+nc7gCw4N3soWa0O0HU5sVjZ9CwAAAAASUVORK5CYII=\" style=\"height: auto\">\n",
       "              <figcaption style=\"font-size: 0.6em\">Complexity 3 / 0.265625</figcaption>\n",
       "            </figure>\n",
       "        \n",
       "            <figure style=\"margin: 5px !important;\">\n",
       "              <img src=\"data:image/png;base64,iVBORw0KGgoAAAANSUhEUgAAAGQAAABkAQAAAABYmaj5AAAAZElEQVR4nNWSsQ3DMBDE+HIAjeFRtZpXyQYpvzBMN0YQuwiCNJJZPTvicagmB4VPxrXwfVqGKjsbQNMFZn2NVHYxNSLayrN0b/nZHlGTmmD/lu8rqB5svVv+sbE3gUlLmG713R23jSapC+/mWwAAAABJRU5ErkJggg==\" style=\"height: auto\">\n",
       "              <figcaption style=\"font-size: 0.6em\">Complexity 4 / 0.390625</figcaption>\n",
       "            </figure>\n",
       "        \n",
       "            <figure style=\"margin: 5px !important;\">\n",
       "              <img src=\"data:image/png;base64,iVBORw0KGgoAAAANSUhEUgAAAGQAAABkAQAAAABYmaj5AAAAbUlEQVR4nM3TMQ5AQBBG4TdsQucI3MTRnM1NHIFui7W/ggIR0ZlpJq/7ihkUGSK9NAEF5/Fb4dhrwPLiSXYtqKQIpZT/trw6jytItK6dt7JGVkPp/XYVAUaz7n/L50LSDm+l2ZPs8cf65MDyvTZi0SgMK9TFkwAAAABJRU5ErkJggg==\" style=\"height: auto\">\n",
       "              <figcaption style=\"font-size: 0.6em\">Complexity 5 / 0.515625</figcaption>\n",
       "            </figure>\n",
       "        \n",
       "            <figure style=\"margin: 5px !important;\">\n",
       "              <img src=\"data:image/png;base64,iVBORw0KGgoAAAANSUhEUgAAAGQAAABkAQAAAABYmaj5AAAAV0lEQVR4nN2SsQmAQBTFghZ/DEdxNB3NURzB8oqDWJyFIFzr19elC+FBaAGY9Bi4Ly/RlOeawKXreW10f92lSxYIzd7zWXdRa/LvAhBuGVz+913U9XN1T9QsIUHOaEcEAAAAAElFTkSuQmCC\" style=\"height: auto\">\n",
       "              <figcaption style=\"font-size: 0.6em\">Complexity 6 / 0.671875</figcaption>\n",
       "            </figure>\n",
       "        \n",
       "            <figure style=\"margin: 5px !important;\">\n",
       "              <img src=\"data:image/png;base64,iVBORw0KGgoAAAANSUhEUgAAAGQAAABkAQAAAABYmaj5AAAAbElEQVR4nM2SsQkCURAFZ09hL7QDS7nStDTt5Eq48AunY6IggqLR38kmGx4Pnux1GXilrj2YdI7K1ajH9LRx7t7yzbaRjUtMa4GWf9ZtAFRfF+CgrlD6re+Wxsg59Rq73i2fDRukqrfeLb/bHR5AKk4Afk3TAAAAAElFTkSuQmCC\" style=\"height: auto\">\n",
       "              <figcaption style=\"font-size: 0.6em\">Complexity 7 / 0.578125</figcaption>\n",
       "            </figure>\n",
       "        \n",
       "            <figure style=\"margin: 5px !important;\">\n",
       "              <img src=\"data:image/png;base64,iVBORw0KGgoAAAANSUhEUgAAAGQAAABkAQAAAABYmaj5AAAAT0lEQVR4nGP4/4OBgf3/AQYG+X8MDEwMyGDw8hgY2P83MDAwDHZXDzXA/P8Bw0CHGWmhW/9jcLhlOKUCFGD/Z5DnMRY46yHz/4+DyWX4eADT6BCRBswojAAAAABJRU5ErkJggg==\" style=\"height: auto\">\n",
       "              <figcaption style=\"font-size: 0.6em\">Complexity 8 / 0.828125</figcaption>\n",
       "            </figure>\n",
       "        \n",
       "            <figure style=\"margin: 5px !important;\">\n",
       "              <img src=\"data:image/png;base64,iVBORw0KGgoAAAANSUhEUgAAAGQAAABkAQAAAABYmaj5AAAAMUlEQVR4nGNgGAWjYMgDxv8fmFAEBhOPgYGBof7H4HALaa5mYGCw/zMI3EKEO4cYAABYzATnpiQ0hgAAAABJRU5ErkJggg==\" style=\"height: auto\">\n",
       "              <figcaption style=\"font-size: 0.6em\">Complexity 9 / 0.953125</figcaption>\n",
       "            </figure>\n",
       "        \n",
       "            <figure style=\"margin: 5px !important;\">\n",
       "              <img src=\"data:image/png;base64,iVBORw0KGgoAAAANSUhEUgAAAGQAAABkAQAAAABYmaj5AAAAFElEQVR4nGNgGAWjYBSMglFATwAABXgAAQj9RYMAAAAASUVORK5CYII=\" style=\"height: auto\">\n",
       "              <figcaption style=\"font-size: 0.6em\">Complexity 10 / 1.0</figcaption>\n",
       "            </figure>\n",
       "        \n",
       "        </div>\n",
       "    "
      ],
      "text/plain": [
       "<IPython.core.display.HTML object>"
      ]
     },
     "execution_count": 5,
     "metadata": {},
     "output_type": "execute_result"
    }
   ],
   "source": [
    "my_config = Config()\n",
    "my_config.kernel_size = 8\n",
    "kimgs = []\n",
    "kimgcaps = dict()\n",
    "\n",
    "for cmplx in range(0, 10 + 1):\n",
    "    my_config.kernel_initial_complexity = cmplx / 10\n",
    "    k = Kernel.random_nog(my_config)\n",
    "    kimg = k.to_image().resize((100, 100))\n",
    "    kimgs.append(kimg)\n",
    "    kimgcaps[id(kimg)] = f'Complexity {cmplx} / {k.get_complexity()}'\n",
    "\n",
    "display_images(kimgs, kimgcaps)"
   ]
  },
  {
   "cell_type": "code",
   "execution_count": 6,
   "id": "53fb4deb-5fc9-4f75-83e6-f1c3bb80f7a7",
   "metadata": {},
   "outputs": [],
   "source": [
    "my_config = Config()\n",
    "\n",
    "for i in range(2, 32):\n",
    "    my_config.kernel_size = i\n",
    "    k = Kernel.random_nog(my_config)\n",
    "    match_score = k.apply(k.m, 1)\n",
    "    assert match_score == 1, f'ks={i}, k.m={k.m}'\n",
    "\n",
    "    invk = k.get_inverted()\n",
    "    match_score_inv = k.apply(invk.m, 1)\n",
    "    assert match_score_inv == 0"
   ]
  },
  {
   "cell_type": "code",
   "execution_count": 7,
   "id": "2b03cb16-fca5-4ef5-a3e6-7da228f5d127",
   "metadata": {
    "editable": true,
    "slideshow": {
     "slide_type": ""
    },
    "tags": []
   },
   "outputs": [
    {
     "data": {
      "text/html": [
       "\n",
       "        <div style=\"display: flex; flex-flow: row wrap; text-align: center;\">\n",
       "        \n",
       "            <figure style=\"margin: 5px !important;\">\n",
       "              <img src=\"data:image/png;base64,iVBORw0KGgoAAAANSUhEUgAAAGQAAABkCAAAAABVicqIAAAAZElEQVR4nO3NsQqAIABF0WprEwTJ//84RRDcXPsAG4JoO3d98M6+rZ0hpivnfKUYzod9bY7eaimltj7mOh+vTj4GgUAgEAgEAoFAIBAIBAKBQCAQCAQCgUAgEAgEAoFAIBDIv93pRg3IerbqtwAAAABJRU5ErkJggg==\" style=\"height: auto\">\n",
       "              \n",
       "            </figure>\n",
       "        \n",
       "            <figure style=\"margin: 5px !important;\">\n",
       "              <img src=\"data:image/png;base64,iVBORw0KGgoAAAANSUhEUgAAAGQAAABkCAAAAABVicqIAAAAeElEQVR4nO3ZMQqDABAAQRWbdAEhJP9/XEJAsDKlviCFzVazH5ji7qobBkmSFDfeAmS+F8hSII8CeRbIC3IFSWaSbFdxJ+NeIEeATIEBgUAgEAgEAoFAIBDI3+ZfgWwFshbIt0A+BfKGXEGSmSTbVdxJ8hCQJEl5JyEEDaGsBvAYAAAAAElFTkSuQmCC\" style=\"height: auto\">\n",
       "              \n",
       "            </figure>\n",
       "        \n",
       "            <figure style=\"margin: 5px !important;\">\n",
       "              <img src=\"data:image/png;base64,iVBORw0KGgoAAAANSUhEUgAAAGQAAABkAQAAAABYmaj5AAAAJUlEQVR4nGNgYGBgYP///w8DAwMDAxMDMhjljfJGeaO8UR71eQB8cAPIY/YpdQAAAABJRU5ErkJggg==\" style=\"height: auto\">\n",
       "              \n",
       "            </figure>\n",
       "        \n",
       "            <figure style=\"margin: 5px !important;\">\n",
       "              <img src=\"data:image/png;base64,iVBORw0KGgoAAAANSUhEUgAAAGQAAABkAQAAAABYmaj5AAAAHklEQVR4nGNgGAWjgPE/EucjE4rcKI9S3igYBegAAC2HAiKHtVYDAAAAAElFTkSuQmCC\" style=\"height: auto\">\n",
       "              \n",
       "            </figure>\n",
       "        \n",
       "            <figure style=\"margin: 5px !important;\">\n",
       "              <img src=\"data:image/png;base64,iVBORw0KGgoAAAANSUhEUgAAAGQAAABkAQAAAABYmaj5AAAAHUlEQVR4nGP8z4AAH5kYkMEoj1LeKBgFo2AUYAIAfIkCIofPQ2EAAAAASUVORK5CYII=\" style=\"height: auto\">\n",
       "              \n",
       "            </figure>\n",
       "        \n",
       "            <figure style=\"margin: 5px !important;\">\n",
       "              <img src=\"data:image/png;base64,iVBORw0KGgoAAAANSUhEUgAAAGQAAABkAQAAAABYmaj5AAAAH0lEQVR4nGP4//9/AwMMMDEgg1HeKG+UN8ob5VGfBwAvuQRENE+WyAAAAABJRU5ErkJggg==\" style=\"height: auto\">\n",
       "              \n",
       "            </figure>\n",
       "        \n",
       "        </div>\n",
       "    "
      ],
      "text/plain": [
       "<IPython.core.display.HTML object>"
      ]
     },
     "execution_count": 7,
     "metadata": {},
     "output_type": "execute_result"
    }
   ],
   "source": [
    "horz_line_image = Image.new('L', (8, 8), 0)\n",
    "draw = ImageDraw.Draw(horz_line_image)\n",
    "draw.rectangle([0, 2, 7, 5], 255)\n",
    "\n",
    "vert_line_image = Image.new('L', (8, 8), 0)\n",
    "draw = ImageDraw.Draw(vert_line_image)\n",
    "draw.rectangle([2, 0, 5, 7], 255)\n",
    "\n",
    "m_data = np.array([\n",
    "    [0, 0, 0, 0, 0, 0, 0, 0],\n",
    "    [0, 0, 0, 0, 0, 0, 0, 0],\n",
    "    [0, 0, 0, 0, 0, 0, 0, 0],\n",
    "    [1, 1, 1, 1, 1, 1, 1, 1],\n",
    "    [1, 1, 1, 1, 1, 1, 1, 1],\n",
    "    [0, 0, 0, 0, 0, 0, 0, 0],\n",
    "    [0, 0, 0, 0, 0, 0, 0, 0],\n",
    "    [0, 0, 0, 0, 0, 0, 0, 0],\n",
    "], dtype=np.uint8)\n",
    "\n",
    "horz_line_kernel = Kernel.from_m_data_nog(m_data)\n",
    "shifted_horz_line_kernel = Kernel.from_m_data_nog(np.roll(m_data, -3, axis=0))\n",
    "vert_line_kernel = Kernel.from_m_data_nog(m_data.T)\n",
    "vert_line_kernel.apply(vert_line_image, 8)\n",
    "shifted_vert_line_kernel = Kernel.from_m_data_nog(np.roll(m_data.T, -3, axis=1))\n",
    "\n",
    "assert horz_line_kernel.apply(horz_line_image, 8) == 1\n",
    "assert vert_line_kernel.apply(vert_line_image, 8) == 1\n",
    "assert shifted_horz_line_kernel.apply(horz_line_image, 8) == 0\n",
    "assert shifted_vert_line_kernel.apply(vert_line_image, 8) == 0\n",
    "\n",
    "display_images(\n",
    "    [vert_line_image.resize((100, 100)), \n",
    "     horz_line_image.resize((100, 100)), \n",
    "     vert_line_kernel.to_image(inverted=False).resize((100, 100)),\n",
    "     horz_line_kernel.to_image(inverted=False).resize((100, 100)),\n",
    "     shifted_horz_line_kernel.to_image(inverted=False).resize((100, 100)),\n",
    "     shifted_vert_line_kernel.to_image(inverted=False).resize((100, 100)),\n",
    "    ]\n",
    ")"
   ]
  },
  {
   "cell_type": "code",
   "execution_count": 8,
   "id": "d4ead886-6f31-410f-9454-6224cfbfa147",
   "metadata": {
    "editable": true,
    "slideshow": {
     "slide_type": ""
    },
    "tags": []
   },
   "outputs": [
    {
     "data": {
      "image/jpeg": "[encoded data removed]",
      "image/png": "[encoded data removed]",
      "text/plain": [
       "<PIL.Image.Image image mode=1 size=32x32>"
      ]
     },
     "execution_count": 8,
     "metadata": {},
     "output_type": "execute_result"
    }
   ],
   "source": [
    "my_config = Config()\n",
    "k = Kernel.random(my_config)\n",
    "k.to_image(inverted=False)"
   ]
  },
  {
   "cell_type": "code",
   "execution_count": 9,
   "id": "7e777284-f207-4b25-9f51-e4cd0a7a3fc3",
   "metadata": {
    "editable": true,
    "slideshow": {
     "slide_type": ""
    },
    "tags": []
   },
   "outputs": [
    {
     "name": "stdout",
     "output_type": "stream",
     "text": [
      "Match score over image \"dataset/dataset_source_101_ObjectCategories_Motorbikes_image_0338@205,123.png\" = 0.06282174107427987\n"
     ]
    },
    {
     "data": {
      "text/html": [
       "\n",
       "        <div style=\"display: flex; flex-flow: row wrap; text-align: center;\">\n",
       "        \n",
       "            <figure style=\"margin: 5px !important;\">\n",
       "              <img src=\"data:image/png;base64,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\" style=\"height: auto\">\n",
       "              \n",
       "            </figure>\n",
       "        \n",
       "            <figure style=\"margin: 5px !important;\">\n",
       "              <img src=\"data:image/png;base64,iVBORw0KGgoAAAANSUhEUgAAAUAAAAFAAQAAAADl65gHAAACJUlEQVR4nO2aS6rbMBSGP9WeK9AF3KUkW+vO7KV0AQXdYUDh78BHD8dQOmhtpCsNgpx8EB8O/3lJSGESd0XSTuIeIO3su2/85RrgvwFnh386wSTwEfH5PWr9UCZeTuvt19yCMV2BaME0Y/oIk6QAlXrwQzOng+iw4uYtSRELc4pNGNMViDkgJ5vFR6SQfsBbsmnBmK5AwGunj5TyLaQFAD80czqYIleYpAWSZo6rBWO6Ai1yLf6QbEoFMDxzDbh+aCuR3QNgvQFgEgIf/99fD/BPq6STLa4tXkoSipWYWjCmK3CXU8JUP21OCWxVQQvGdAXmlJ9q5QVzReWoZXSa54NgOSV7gVQ1W1yzxrMFY7oCeYth2/DMdlKZBrRgTG+gfzr4nLdn6ecM8HK280/nHpe/4xcEsX7/Le8r5x7F0c9cAvKW6K2L2eUe7iOanQ+mieaud7H2P1fSy5ibnQ9iBzLJC+Ukc3MZ2HFNC8Z0BVK3+nmsqUou9tCCMV2Bh6r5XpRSrRHNTgcp8xeqvB+oirZxQ+MKkKKKOs9o126OaHYByO5WU5ZQqc00PHMlqB83ACa5h5eAl9t+X92Me/Byl7/jVwOpppcWvuJuLpAU1YIxXYG5QrYj510MK/3MmDWfDu6uZFRXm5KO8kcLxnQFVjPLo2aScEY0uwCs7mO+t/+bhALjjuYlYG5bYlULlC6mCKcFY7oCKV1lmpvV584lzLVgTFfgb4/5OYOCKaMGAAAAAElFTkSuQmCC\" style=\"height: auto\">\n",
       "              \n",
       "            </figure>\n",
       "        \n",
       "        </div>\n",
       "    "
      ],
      "text/plain": [
       "<IPython.core.display.HTML object>"
      ]
     },
     "execution_count": 9,
     "metadata": {},
     "output_type": "execute_result"
    }
   ],
   "source": [
    "my_config = Config()\n",
    "\n",
    "image_fnames = os.listdir(my_config.dataset_path)\n",
    "fname_i = np.random.randint(0, len(image_fnames))\n",
    "image_fname = os.path.join(my_config.dataset_path, image_fnames[fname_i])\n",
    "\n",
    "z = Image.open(image_fname)\n",
    "z_2d_bytes = np.frombuffer(z.tobytes(), dtype=np.uint8).reshape(32, 32)\n",
    "\n",
    "k = Kernel.random_nog(my_config)\n",
    "match_score = k.apply(z_2d_bytes, 8)\n",
    "print(f'Match score over image \"{image_fname}\" = {match_score}')\n",
    "\n",
    "display_images([z.resize([320, 320]), k.to_image().resize((320, 320))])"
   ]
  }
 ],
 "metadata": {
  "kernelspec": {
   "display_name": "Python 3 (ipykernel)",
   "language": "python",
   "name": "python3"
  },
  "language_info": {
   "codemirror_mode": {
    "name": "ipython",
    "version": 3
   },
   "file_extension": ".py",
   "mimetype": "text/x-python",
   "name": "python",
   "nbconvert_exporter": "python",
   "pygments_lexer": "ipython3",
   "version": "3.12.8"
  }
 },
 "nbformat": 4,
 "nbformat_minor": 5
}
