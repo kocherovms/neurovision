{
 "cells": [
  {
   "cell_type": "code",
   "execution_count": 53,
   "id": "5fc5c834-0112-460e-bf4a-eff8918b8c9d",
   "metadata": {
    "editable": true,
    "slideshow": {
     "slide_type": ""
    },
    "tags": []
   },
   "outputs": [],
   "source": [
    "import numpy as np\n",
    "import timeit\n",
    "import os\n",
    "import pickle\n",
    "from PIL import Image, ImageDraw\n",
    "\n",
    "%run utils.ipynb\n",
    "%run kernel_genetics.ipynb"
   ]
  },
  {
   "cell_type": "code",
   "execution_count": 54,
   "id": "c562aa38-ae98-4e74-9b57-c1604dfad958",
   "metadata": {
    "editable": true,
    "slideshow": {
     "slide_type": ""
    },
    "tags": []
   },
   "outputs": [],
   "source": [
    "class Kernel:\n",
    "    def __init__(self, size):\n",
    "        super()\n",
    "        self.genotype = KernelGenotype()\n",
    "        self.size = size\n",
    "        self.m = []\n",
    "        self.m_ones = 0\n",
    "        # stats\n",
    "        self.match_invokes = 0\n",
    "        self.match_invokes_success = 0\n",
    "    \n",
    "    def __eq__(self, other): \n",
    "        if not isinstance(other, Kernel):\n",
    "            return NotImplemented\n",
    "\n",
    "        return self.genotype == other.genotype and self.size == other.size and np.array_equal(self.m, other.m) and self.m_ones == other.m_ones\n",
    "\n",
    "    @classmethod\n",
    "    def random_nog(cls, config):\n",
    "        k = cls(config.kernel_size)\n",
    "        assert k.size >= 2\n",
    "        assert config.kernel_initial_complexity >= 0 and config.kernel_initial_complexity <= 1\n",
    "\n",
    "        k.m = np.uint8(np.random.uniform(size=(k.size, k.size)) <= config.kernel_initial_complexity)\n",
    "        k.m_ones = k.compute_ones()\n",
    "\n",
    "        if k.m_ones == 0:\n",
    "            # complete blank mask was generated. Put random pixel somewhere\n",
    "            random_pos = np.random.randint(k.size, size=(2,))\n",
    "            k.m[random_pos[0], random_pos[1]] = 1\n",
    "            k.m_ones = k.compute_ones()\n",
    "            assert k.m_ones == 1\n",
    "            \n",
    "        return k\n",
    "\n",
    "    @classmethod\n",
    "    def solid_nog(cls, config, solid_value):\n",
    "        assert solid_value in [0, 1]\n",
    "        \n",
    "        k = cls(config.kernel_size)\n",
    "        k.m = np.full((k.size, k.size), solid_value, dtype=np.uint8)\n",
    "        k.m_ones = k.compute_ones()\n",
    "        return k\n",
    "\n",
    "    @classmethod\n",
    "    def from_m_data_nog(cls, m_data):\n",
    "        assert len(m_data.shape) == 2\n",
    "        assert m_data.shape[0] == m_data.shape[1]\n",
    "        assert m_data.shape[0] > 0\n",
    "        \n",
    "        k = cls(m_data.shape[0])\n",
    "        k.m = m_data\n",
    "        k.m_ones = k.compute_ones()\n",
    "        return k\n",
    "\n",
    "    @classmethod\n",
    "    def random(cls, config):\n",
    "        k = cls(config.kernel_size)\n",
    "        assert k.size >= 2\n",
    "        k.genotype = KernelGenotype.random(1)\n",
    "        pheno_image = k.genotype.build_phenotype(k.size)\n",
    "        k.m = pil_image_to_2d_bytes(pheno_image)\n",
    "        k.m_ones = k.compute_ones()\n",
    "        return k\n",
    "\n",
    "    def compute_ones(self):\n",
    "        rv = 0\n",
    "        # direct iteration is simplier to handle than np.unique_counts\n",
    "        # because output of the latter may be any of [0, 1], [0], [1], []\n",
    "        for x in np.nditer(self.m): \n",
    "            rv += (x == 1)\n",
    "\n",
    "        return rv\n",
    "\n",
    "    def get_complexity(self):\n",
    "       return self.m_ones / (self.size * self.size)\n",
    "\n",
    "    def get_inverted(self):\n",
    "        k = Kernel(self.size)\n",
    "        k.m = self.m.copy()\n",
    "        k.m = 1 - k.m\n",
    "        k.m_ones = k.compute_ones()\n",
    "        return k\n",
    "\n",
    "    def match(self, image, image_bits_per_pixel, match_threshold):\n",
    "        assert image_bits_per_pixel in [1, 8] # bw or grayscale only\n",
    "        assert match_threshold > 0 and match_threshold <= 1\n",
    "        self.match_invokes += 1\n",
    "\n",
    "        if not self.m_ones: # empty phenotype\n",
    "            return False, 0\n",
    "            \n",
    "        v = np.einsum('ij,ij->', self.m, image, dtype=np.uint32)\n",
    "        # print(f'kms@ v={v} ones={self.m_ones}')\n",
    "\n",
    "        if self.m_ones > 0:\n",
    "            denom = self.m_ones\n",
    "            denom *= 2 ** image_bits_per_pixel - 1\n",
    "            v /= denom\n",
    "\n",
    "        if v > match_threshold:\n",
    "            is_match = True\n",
    "            self.match_invokes_success += 1\n",
    "        else:\n",
    "            is_match = False\n",
    "\n",
    "        return is_match, v\n",
    "\n",
    "    def reset_stats(self):\n",
    "        self.match_invokes = 0\n",
    "        self.match_invokes_success = 0\n",
    "\n",
    "    def to_image(self, inverted=True):\n",
    "        sz = (self.size, self.size)\n",
    "        bts = self.m.ravel() # 2d -> 1d\n",
    "\n",
    "        if inverted:\n",
    "            bts = 1 - bts # invert 0 -> 1 / 1-> 0\n",
    "            \n",
    "        bts = np.packbits(bts) # uint8 -> 1 bit\n",
    "        return Image.frombytes('1', size=sz, data=bts)\n"
   ]
  },
  {
   "cell_type": "code",
   "execution_count": 55,
   "id": "45490cc2-60fd-4a3d-ac88-d11b66f64748",
   "metadata": {
    "editable": true,
    "slideshow": {
     "slide_type": ""
    },
    "tags": []
   },
   "outputs": [],
   "source": [
    "class FenceKernel(Kernel):\n",
    "    pass"
   ]
  },
  {
   "cell_type": "code",
   "execution_count": 56,
   "id": "2a7b8c5a-73d4-44f7-9ae7-8398bcee1a86",
   "metadata": {},
   "outputs": [],
   "source": [
    "my_config = Config()\n",
    "ones_kernel = Kernel.solid_nog(my_config, 1)\n",
    "zeros_kernel = Kernel.solid_nog(my_config, 0)\n",
    "assert ones_kernel != zeros_kernel\n",
    "assert ones_kernel == Kernel.solid_nog(my_config, 1)\n",
    "assert zeros_kernel == Kernel.solid_nog(my_config, 0)"
   ]
  },
  {
   "cell_type": "code",
   "execution_count": 57,
   "id": "021cd7a6-b833-4ea5-8d87-a74f976ef6a2",
   "metadata": {},
   "outputs": [
    {
     "data": {
      "text/html": [
       "\n",
       "        <div style=\"display: flex; flex-flow: row wrap; text-align: center;\">\n",
       "        \n",
       "            <figure style=\"margin: 5px !important;\">\n",
       "              <img src=\"data:image/png;base64,iVBORw0KGgoAAAANSUhEUgAAAGQAAABkAQAAAABYmaj5AAAAKklEQVR4nGP8z4AAH5kYkMEob+TwfjI2DBq3EMtjYWD/T5zKUd4ob3DxAJX8BTozjP7RAAAAAElFTkSuQmCC\" style=\"height: auto\">\n",
       "              <figcaption style=\"font-size: 0.6em\">Complexity 0 / 0.015625</figcaption>\n",
       "            </figure>\n",
       "        \n",
       "            <figure style=\"margin: 5px !important;\">\n",
       "              <img src=\"data:image/png;base64,iVBORw0KGgoAAAANSUhEUgAAAGQAAABkAQAAAABYmaj5AAAASklEQVR4nGP8z4AAH5kYkMEoj1IeC4L5n2lQuQyVxzg0UwEjB5T1kGnA3YKHxwIN3b8s8v8G2i2kp13m/wPvFiJ4B1kGj1uI4AEAMb0LfkQsuDgAAAAASUVORK5CYII=\" style=\"height: auto\">\n",
       "              <figcaption style=\"font-size: 0.6em\">Complexity 1 / 0.078125</figcaption>\n",
       "            </figure>\n",
       "        \n",
       "            <figure style=\"margin: 5px !important;\">\n",
       "              <img src=\"data:image/png;base64,iVBORw0KGgoAAAANSUhEUgAAAGQAAABkAQAAAABYmaj5AAAAZUlEQVR4nM3QsQ2EMBAF0VmwZNq4SqAzWqOV6+DI7OSGFBKLcDd70gajj429sar6m7hfXhWqdIDv55+q7ClU9ZiTrxvecGYqGyoW6LGlaBmoAFRffGZSsQe1pWgZq+oZW46Wt7oALeckcpmkEoQAAAAASUVORK5CYII=\" style=\"height: auto\">\n",
       "              <figcaption style=\"font-size: 0.6em\">Complexity 2 / 0.171875</figcaption>\n",
       "            </figure>\n",
       "        \n",
       "            <figure style=\"margin: 5px !important;\">\n",
       "              <img src=\"data:image/png;base64,iVBORw0KGgoAAAANSUhEUgAAAGQAAABkAQAAAABYmaj5AAAAXklEQVR4nNWUuQ2AQBDEZo+TtgxKoTVKg06gA8guQJiQTyJlbzJnDqwxdG5Nuq4GmlMclzcJoKjb1O5/u3xRliRnzJJRTQWiSA4wGUsks4ennN4ZGghdwZ2s8meITQekOR+js75r4QAAAABJRU5ErkJggg==\" style=\"height: auto\">\n",
       "              <figcaption style=\"font-size: 0.6em\">Complexity 3 / 0.203125</figcaption>\n",
       "            </figure>\n",
       "        \n",
       "            <figure style=\"margin: 5px !important;\">\n",
       "              <img src=\"data:image/png;base64,iVBORw0KGgoAAAANSUhEUgAAAGQAAABkAQAAAABYmaj5AAAAaklEQVR4nNWSsQ2DUBDFfPwi6VghmzAaGY1swgjQ/YLINBRAgZQqxzUnd9aTUd8Ph+IINOwvL8X2ywLMmcxOpKrDN17/d7kggF71VhVgBaCoTpnMzp5qpVsSuPy27i2aiNZ48onoUldwpBXZYDJz+O7TLgAAAABJRU5ErkJggg==\" style=\"height: auto\">\n",
       "              <figcaption style=\"font-size: 0.6em\">Complexity 4 / 0.46875</figcaption>\n",
       "            </figure>\n",
       "        \n",
       "            <figure style=\"margin: 5px !important;\">\n",
       "              <img src=\"data:image/png;base64,iVBORw0KGgoAAAANSUhEUgAAAGQAAABkAQAAAABYmaj5AAAAaUlEQVR4nN3UIQ6AMAxG4ddtyXBwI642bgY3gRuAQxB+BAgws1uo6nNfKgoA9AcAjvfUXFHpXk1raUumtJl28JrLW3JlraxhCiDrqpJlCqKeOUtbsk5JKWqswfK/6zpgMLPA4qv+BZ+6AEScKMGpwRLTAAAAAElFTkSuQmCC\" style=\"height: auto\">\n",
       "              <figcaption style=\"font-size: 0.6em\">Complexity 5 / 0.546875</figcaption>\n",
       "            </figure>\n",
       "        \n",
       "            <figure style=\"margin: 5px !important;\">\n",
       "              <img src=\"data:image/png;base64,iVBORw0KGgoAAAANSUhEUgAAAGQAAABkAQAAAABYmaj5AAAAYUlEQVR4nNXQMRJAQBAF0R6ryrEcjaNxE0cQEtACApEi2vWTqc5eDUC30Ko6V9xXcLkAjBFRZbc8FACNQ3KKkr97OdUpu+Wj+hdr7IGke+6fva/a826R3/Jca6hDGZa3dQDu4CC9SOjb6gAAAABJRU5ErkJggg==\" style=\"height: auto\">\n",
       "              <figcaption style=\"font-size: 0.6em\">Complexity 6 / 0.65625</figcaption>\n",
       "            </figure>\n",
       "        \n",
       "            <figure style=\"margin: 5px !important;\">\n",
       "              <img src=\"data:image/png;base64,iVBORw0KGgoAAAANSUhEUgAAAGQAAABkAQAAAABYmaj5AAAAXElEQVR4nNWUsQ2AMAwEzwHJLRswCqOR0TIKbEAZqqdCSgOiC77uutPLMtzM0pFo+bO5sqsAsql3y7ONnIYD7Kl3y5s1WJwrAFeGRdq6t3xcNxhrhSHCuq4S64NdryIYs+q3y1wAAAAASUVORK5CYII=\" style=\"height: auto\">\n",
       "              <figcaption style=\"font-size: 0.6em\">Complexity 7 / 0.765625</figcaption>\n",
       "            </figure>\n",
       "        \n",
       "            <figure style=\"margin: 5px !important;\">\n",
       "              <img src=\"data:image/png;base64,iVBORw0KGgoAAAANSUhEUgAAAGQAAABkAQAAAABYmaj5AAAAUElEQVR4nNWSMQrAIBRDnyJ4rB7NHs3eqKNDIZ2lIHbLz/YyPUIgeJLuPBVOBFUnHI+By4qKALiKgcuPdTWgqmP/AiDAC77WTeoOLhvrBssLNEQRJ4WOeOUAAAAASUVORK5CYII=\" style=\"height: auto\">\n",
       "              <figcaption style=\"font-size: 0.6em\">Complexity 8 / 0.828125</figcaption>\n",
       "            </figure>\n",
       "        \n",
       "            <figure style=\"margin: 5px !important;\">\n",
       "              <img src=\"data:image/png;base64,iVBORw0KGgoAAAANSUhEUgAAAGQAAABkAQAAAABYmaj5AAAANUlEQVR4nGNgGLKA/f8BCIMJRXgw8UYBnQDj/w+DKd6HUypg/v+AYaBDEG/o/v8xaNxCPA8AOOYH6l8Cw6UAAAAASUVORK5CYII=\" style=\"height: auto\">\n",
       "              <figcaption style=\"font-size: 0.6em\">Complexity 9 / 0.9375</figcaption>\n",
       "            </figure>\n",
       "        \n",
       "            <figure style=\"margin: 5px !important;\">\n",
       "              <img src=\"data:image/png;base64,iVBORw0KGgoAAAANSUhEUgAAAGQAAABkAQAAAABYmaj5AAAAFElEQVR4nGNgGAWjYBSMglFATwAABXgAAQj9RYMAAAAASUVORK5CYII=\" style=\"height: auto\">\n",
       "              <figcaption style=\"font-size: 0.6em\">Complexity 10 / 1.0</figcaption>\n",
       "            </figure>\n",
       "        \n",
       "        </div>\n",
       "    "
      ],
      "text/plain": [
       "<IPython.core.display.HTML object>"
      ]
     },
     "execution_count": 57,
     "metadata": {},
     "output_type": "execute_result"
    }
   ],
   "source": [
    "my_config = Config()\n",
    "my_config.kernel_size = 8\n",
    "kimgs = []\n",
    "kimgcaps = dict()\n",
    "\n",
    "for cmplx in range(0, 10 + 1):\n",
    "    my_config.kernel_initial_complexity = cmplx / 10\n",
    "    k = Kernel.random_nog(my_config)\n",
    "    kimg = k.to_image().resize((100, 100))\n",
    "    kimgs.append(kimg)\n",
    "    kimgcaps[id(kimg)] = f'Complexity {cmplx} / {k.get_complexity()}'\n",
    "\n",
    "display_images(kimgs, kimgcaps)"
   ]
  },
  {
   "cell_type": "code",
   "execution_count": 58,
   "id": "53fb4deb-5fc9-4f75-83e6-f1c3bb80f7a7",
   "metadata": {
    "editable": true,
    "slideshow": {
     "slide_type": ""
    },
    "tags": []
   },
   "outputs": [],
   "source": [
    "my_config = Config()\n",
    "\n",
    "for i in range(2, 32):\n",
    "    my_config.kernel_size = i\n",
    "    k = Kernel.random_nog(my_config)\n",
    "    is_match, match_score = k.match(k.m, 1, my_config.kernel_match_threshold)\n",
    "    assert is_match\n",
    "    assert match_score == 1, f'ks={i}, k.m={k.m}'\n",
    "\n",
    "    invk = k.get_inverted()\n",
    "    is_match, match_score_inv = k.match(invk.m, 1, my_config.kernel_match_threshold)\n",
    "    assert not is_match\n",
    "    assert match_score_inv == 0"
   ]
  },
  {
   "cell_type": "code",
   "execution_count": 59,
   "id": "38ce330d-0596-4231-a521-8e5fd6e57c3c",
   "metadata": {},
   "outputs": [],
   "source": [
    "my_config = Config()\n",
    "k = Kernel.random_nog(my_config)\n",
    "run_counts = 10\n",
    "\n",
    "for i in range(run_counts):\n",
    "    is_match, match_score = k.match(k.m, 1, my_config.kernel_match_threshold)\n",
    "    assert is_match\n",
    "    assert match_score == 1, f'ks={i}, k.m={k.m}'\n",
    "\n",
    "assert k.match_invokes == run_counts\n",
    "assert k.match_invokes_success == run_counts, k.match_invokes_success\n",
    "k.reset_stats()\n",
    "assert k.match_invokes == 0\n",
    "assert k.match_invokes_success == 0\n",
    "\n",
    "k.match(k.m, 1, my_config.kernel_match_threshold)\n",
    "assert k.match_invokes == 1\n",
    "assert k.match_invokes_success == 1\n",
    "\n",
    "my_config.kernel_size = 8 \n",
    "half_fill_image = Image.new('L', (8, 8), 0)\n",
    "draw = ImageDraw.Draw(half_fill_image)\n",
    "draw.rectangle([0, 0, 3, 7], 255)\n",
    "k = Kernel.solid_nog(my_config, 1)\n",
    "is_match, match_score = k.match(half_fill_image, 8, 0.49)\n",
    "assert is_match\n",
    "assert match_score == 0.5, match_score\n",
    "\n",
    "is_match, match_score = k.match(half_fill_image, 8, 0.5)\n",
    "assert not is_match\n",
    "assert match_score == 0.5, match_score"
   ]
  },
  {
   "cell_type": "code",
   "execution_count": 60,
   "id": "2b03cb16-fca5-4ef5-a3e6-7da228f5d127",
   "metadata": {
    "editable": true,
    "slideshow": {
     "slide_type": ""
    },
    "tags": []
   },
   "outputs": [
    {
     "data": {
      "text/html": [
       "\n",
       "        <div style=\"display: flex; flex-flow: row wrap; text-align: center;\">\n",
       "        \n",
       "            <figure style=\"margin: 5px !important;\">\n",
       "              <img src=\"data:image/png;base64,iVBORw0KGgoAAAANSUhEUgAAAGQAAABkCAAAAABVicqIAAAAZElEQVR4nO3NsQqAIABF0WprEwTJ//84RRDcXPsAG4JoO3d98M6+rZ0hpivnfKUYzod9bY7eaimltj7mOh+vTj4GgUAgEAgEAoFAIBAIBAKBQCAQCAQCgUAgEAgEAoFAIBDIv93pRg3IerbqtwAAAABJRU5ErkJggg==\" style=\"height: auto\">\n",
       "              \n",
       "            </figure>\n",
       "        \n",
       "            <figure style=\"margin: 5px !important;\">\n",
       "              <img src=\"data:image/png;base64,iVBORw0KGgoAAAANSUhEUgAAAGQAAABkCAAAAABVicqIAAAAeElEQVR4nO3ZMQqDABAAQRWbdAEhJP9/XEJAsDKlviCFzVazH5ji7qobBkmSFDfeAmS+F8hSII8CeRbIC3IFSWaSbFdxJ+NeIEeATIEBgUAgEAgEAoFAIBDI3+ZfgWwFshbIt0A+BfKGXEGSmSTbVdxJ8hCQJEl5JyEEDaGsBvAYAAAAAElFTkSuQmCC\" style=\"height: auto\">\n",
       "              \n",
       "            </figure>\n",
       "        \n",
       "            <figure style=\"margin: 5px !important;\">\n",
       "              <img src=\"data:image/png;base64,iVBORw0KGgoAAAANSUhEUgAAAGQAAABkAQAAAABYmaj5AAAAJUlEQVR4nGNgYGBgYP///w8DAwMDAxMDMhjljfJGeaO8UR71eQB8cAPIY/YpdQAAAABJRU5ErkJggg==\" style=\"height: auto\">\n",
       "              \n",
       "            </figure>\n",
       "        \n",
       "            <figure style=\"margin: 5px !important;\">\n",
       "              <img src=\"data:image/png;base64,iVBORw0KGgoAAAANSUhEUgAAAGQAAABkAQAAAABYmaj5AAAAHklEQVR4nGNgGAWjgPE/EucjE4rcKI9S3igYBegAAC2HAiKHtVYDAAAAAElFTkSuQmCC\" style=\"height: auto\">\n",
       "              \n",
       "            </figure>\n",
       "        \n",
       "            <figure style=\"margin: 5px !important;\">\n",
       "              <img src=\"data:image/png;base64,iVBORw0KGgoAAAANSUhEUgAAAGQAAABkAQAAAABYmaj5AAAAHUlEQVR4nGP8z4AAH5kYkMEoj1LeKBgFo2AUYAIAfIkCIofPQ2EAAAAASUVORK5CYII=\" style=\"height: auto\">\n",
       "              \n",
       "            </figure>\n",
       "        \n",
       "            <figure style=\"margin: 5px !important;\">\n",
       "              <img src=\"data:image/png;base64,iVBORw0KGgoAAAANSUhEUgAAAGQAAABkAQAAAABYmaj5AAAAH0lEQVR4nGP4//9/AwMMMDEgg1HeKG+UN8ob5VGfBwAvuQRENE+WyAAAAABJRU5ErkJggg==\" style=\"height: auto\">\n",
       "              \n",
       "            </figure>\n",
       "        \n",
       "        </div>\n",
       "    "
      ],
      "text/plain": [
       "<IPython.core.display.HTML object>"
      ]
     },
     "execution_count": 60,
     "metadata": {},
     "output_type": "execute_result"
    }
   ],
   "source": [
    "my_config = Config()\n",
    "horz_line_image = Image.new('L', (8, 8), 0)\n",
    "draw = ImageDraw.Draw(horz_line_image)\n",
    "draw.rectangle([0, 2, 7, 5], 255)\n",
    "\n",
    "vert_line_image = Image.new('L', (8, 8), 0)\n",
    "draw = ImageDraw.Draw(vert_line_image)\n",
    "draw.rectangle([2, 0, 5, 7], 255)\n",
    "\n",
    "m_data = np.array([\n",
    "    [0, 0, 0, 0, 0, 0, 0, 0],\n",
    "    [0, 0, 0, 0, 0, 0, 0, 0],\n",
    "    [0, 0, 0, 0, 0, 0, 0, 0],\n",
    "    [1, 1, 1, 1, 1, 1, 1, 1],\n",
    "    [1, 1, 1, 1, 1, 1, 1, 1],\n",
    "    [0, 0, 0, 0, 0, 0, 0, 0],\n",
    "    [0, 0, 0, 0, 0, 0, 0, 0],\n",
    "    [0, 0, 0, 0, 0, 0, 0, 0],\n",
    "], dtype=np.uint8)\n",
    "\n",
    "horz_line_kernel = Kernel.from_m_data_nog(m_data)\n",
    "shifted_horz_line_kernel = Kernel.from_m_data_nog(np.roll(m_data, -3, axis=0))\n",
    "vert_line_kernel = Kernel.from_m_data_nog(m_data.T)\n",
    "vert_line_kernel.match(vert_line_image, 8, my_config.kernel_match_threshold)\n",
    "shifted_vert_line_kernel = Kernel.from_m_data_nog(np.roll(m_data.T, -3, axis=1))\n",
    "\n",
    "assert horz_line_kernel.match(horz_line_image, 8, my_config.kernel_match_threshold)[1] == 1\n",
    "assert vert_line_kernel.match(vert_line_image, 8, my_config.kernel_match_threshold)[1] == 1\n",
    "assert shifted_horz_line_kernel.match(horz_line_image, 8, my_config.kernel_match_threshold)[1] == 0\n",
    "assert shifted_vert_line_kernel.match(vert_line_image, 8, my_config.kernel_match_threshold)[1] == 0\n",
    "\n",
    "display_images(\n",
    "    [vert_line_image.resize((100, 100)), \n",
    "     horz_line_image.resize((100, 100)), \n",
    "     vert_line_kernel.to_image(inverted=False).resize((100, 100)),\n",
    "     horz_line_kernel.to_image(inverted=False).resize((100, 100)),\n",
    "     shifted_horz_line_kernel.to_image(inverted=False).resize((100, 100)),\n",
    "     shifted_vert_line_kernel.to_image(inverted=False).resize((100, 100)),\n",
    "    ]\n",
    ")"
   ]
  },
  {
   "cell_type": "code",
   "execution_count": 61,
   "id": "d4ead886-6f31-410f-9454-6224cfbfa147",
   "metadata": {
    "editable": true,
    "slideshow": {
     "slide_type": ""
    },
    "tags": []
   },
   "outputs": [
    {
     "data": {
      "image/jpeg": "[encoded data removed]",
      "image/png": "[encoded data removed]",
      "text/plain": [
       "<PIL.Image.Image image mode=1 size=32x32>"
      ]
     },
     "execution_count": 61,
     "metadata": {},
     "output_type": "execute_result"
    }
   ],
   "source": [
    "my_config = Config()\n",
    "k = Kernel.random(my_config)\n",
    "k.to_image(inverted=False)"
   ]
  },
  {
   "cell_type": "code",
   "execution_count": 62,
   "id": "7e777284-f207-4b25-9f51-e4cd0a7a3fc3",
   "metadata": {
    "editable": true,
    "slideshow": {
     "slide_type": ""
    },
    "tags": []
   },
   "outputs": [
    {
     "name": "stdout",
     "output_type": "stream",
     "text": [
      "Match score over image \"dataset/dataset_source_101_ObjectCategories_flamingo_head_image_0017@53,61.png\" = 0.008737745098039216\n"
     ]
    },
    {
     "data": {
      "text/html": [
       "\n",
       "        <div style=\"display: flex; flex-flow: row wrap; text-align: center;\">\n",
       "        \n",
       "            <figure style=\"margin: 5px !important;\">\n",
       "              <img src=\"data:image/png;base64,iVBORw0KGgoAAAANSUhEUgAAAUAAAAFACAAAAADo+/p2AAAmdElEQVR4nO1d6ZrjuAqF+vL+j1zcHxJwQEiWl6R7+obpqSS2LCHErsVMU2D+4R/mHyYmYiIhIhISEv0jJPTbCv9Qu9v/vRGYiIlJkdlojft/CkJXMGX9R8Tw4M+JKr5QwOtuBXxc5B8ENha8TcD/U1Ad8iXgLeCvDrwN/y0d+PcoXMPkJAHNi7F6BCoUfqcHw6HJyy3JA24WOz67BBRW/0kcByYJTMHCb6Mh4Kw+6SVKSPi4hgoDJtscmFsUIhbkwPe6z62NvwKYzJXfIqAg3qMIY73vE+GGtDsPF3mwjfhFJhQiYumE430CtoYYG3QRBhL2S2+VYqaLwpewvIkHE+8RUOJXIbIQuI1mktz30c7j3zaU1y3BAzqQGv14hwMlaR4ZvgUBZ6E3GuIbHAhwmfYxJ8F7BKREs6wD/x+BG3QCfiORm3AswuEHcOBf4lR8AtRgdCF2DqRDI8KFCPuv2MLb4c8oDqeeaUGGeysCCg9GQwMRtqsMH705eULXD8gEL9Db34E746uuGhsBybwYoiMRdrdE3ZjkwLL2J3ozNxCeIIKycDIRT2wO8KVx7dwHBPRYbklAMacYfafkG7YWlAPXpON7fNkFwt3BrGIO2rZ6TrRplEPxZZxgOeZAjjwn7i479krCxo7CJJkpTyA9QaWF3lSx/CGE5s8JSBRfj4EVTurA9q3w5hOFGLjjQQuTOPAjdkWDX3Od9ZOOU/ooIo6qXeNUeNL4UyAqt5vVml27iUWzGYyEgxTLth9Y0Cde+oQrc97/fBtW2vlvJHITDmPhLS0zKXTOW5sAX6nBEm1Mg9VYMuWiofrWmVDOr2UNjuk24XTNVNd5QJd/u4KRQOiLcVHAuyOFece8kwy3rs3KTejav5iCvWUpcyXKRwcZM7a/HH7CaAsXT0QyA0BcVVmEZybWTblrQ9lmXfainYzOHBBIzp9ho6KwIBsFNxhITVJSUArE8fdzKxOKQEuH3yPCPScWJXfgwLoRFVCBx0yXOGVYSSha2ptgaQMd2/FmwbOFIk8QUDyYg3jFMLslwkwawG2HbBqpqv8XOUtTUiRkM0PKgb8ltqg9xh49z4HWDqa/bxkRfdyESUPvOCvdHxFtOQVdYldMiH2MrLnRhLByiNYSy71FBxqw374IXNBoXSMbcUATdMI3CtqMmg8zUzN+hRUexPr9HPingZMJK1BDWx0misperLr2jURuQuDA6HpR7Rf99cADB056wQMHXugtEFCbdNUhcbHGSZta+DWfAHNewAMukkoMAmwFL6QenICMlbbGAgUdsa2KQyrsSk5kyLzs+5DZCrsf5A6hqLMoGKycRxRFmFPCWlp0eIWDuuGPIcP5mio/ZQ29AybC4HYoCdHZ5s4416VECcimDdimnH6JggCeE+HCIziiYDCbnL6VzxcVjoEu+pDID8GNvgqBA9vI/ejg/civN8hQbDfHlcWfrunpk4ALL6IDTiSpQ242c7pgF0AH9tS1zbqL/OJyq7M60NC+GIf4w+nntZyEUrJPk7FUivmeFW7Cy6wcyL/MjIJ4UoSzCrwEjzGskr53SBjzbtSXrFyATkBlvcCBzMy3RO6vdCJVVksWPA/fSOQmvLoXVHBgv/JXstEaJHytOqALbcG4kFyS4ZGAucTdadVujS/WEvu0oVSFwqqI5rvIxBGVQEAiOU/ElxlXdf92CHY2qOMisDgJwoRu0azx7H2K/SEO+eXMgXSPA40HW0tEWjl7Slhh1w8cAeo5U4M+xlsDF6af3GQQEZE7FdIy+ImAF0gIHEiaT5AQiN/01M9AChL0YnL+VgMoRiLPg1ZTla2odMeaVQdeUIRIQNSAxuBzaTnh1N4bio5GzCxAtWVbZJG0un3U1pVBdl6MHQm48Rw4ATGLkKjTfyQGqRt8eM+XpROEBdJE2zqQCIgE6PWI5LftDOolboswCo6PyFmSLE3lefpW+YKlFS5FfExDmIC7xZajygsIIoxtyRWbvgMpun0eJgN3WOwaPt9I5CYAB8aETuPAKzzoibziVmlH/kywE1rl8DHen8Ir9AjcThXhOQ1rm8rDXbGfPBazm4foFjHJCVd+rKN7agy/YAN5FTuVzXUCNkOECrWRToykwRNZop85MJBtyoEH7rmg7rS1Led5N8R4ceIBPaVqSVFtXgYO9LESPd9pHzhxYOKazIba1CYhNCLbxUXYPZTV3I6wSQiHqzpKK355KSNLN+NKQGlS3L+ExgKWFebWHodv+QwrQHS1eGJ1uWQUveyOrS5wgw5ay7CaUbejW7SHHZqM8gu6S90fV7GVQFIrgTyW6iw5kKe3vUYteOTgEXVemoXUfoiD5Q50cVbtYLca+whzUYI9oKlo+ALMNXzzsYJ4O+hAwHfsRWmFPRlgWnTg0SM5tlFeSjEsNMhHtmU5FmKyQCTaOSjHpimnOtAtxUBAqh9LKBc/Jp2EjErFo0+AspP4hWwKDVCEV4jMhQMmlZrbNxDwpBE55MD2c/SeHocUWl2vZukdfiORm/Ai9fmk4sDHhOuRis5Xcs7fFjcZoYpV+PRC1wV0YCxVPlzYk7lXM3mg+RLcMV/29EC5jsXxoJQFFaNhkW47QYFim9yPPBVzQjoBjfugommLgNLYm8P+jcRvWU7uDFAD2G/10g6g9hcGa+BiJniNNLkFQ8FCQj/NK7fuIwEzESuQiBk4yZvdsdigoNXak7Gl4cKH/sHArhJ/RtB5w+ANQ7NpZ0kjWeJAnRFAvOb4RQY/hLHUVLlOxI17R/zZKR+W3joyWeUl+FaIsd5WIbP0OSkJMmAE1LTLBZu/u4qP3TEfd800HbhSg8YImyiCYKyfaGcbBK/NzYkelMWGHtCvi7AoCUF3buhAK2axxaDaSmzH6jZA1352eTvWg6V3P3nKci9uQftP7RQ3LU1GZhtKJ6BsKudQ6ID1evvBE4ja6ESyx1Z+yrnnNsCNajAlasWZB+6wYkjAqyu8rsDHGtqFqANHmLHKNxK5CZEDHwQeviQwZfNsKqFoZD+iOutcEhBwr4LD6ivzUpEIU/SbrSqO+yMtoGorD3eVJPAb62zNq/vVF9cmJXSqttxG44xNNncbEQwfKyqwWuCrxzUcA4azner9JhcRF/x0P/AyxGhxbA0YUfB375OvZJIVH/jTRZq8fMLOm00BPsrGTi36DFPK+Tc/kJwJrlIRo/YlIQNmueElBXHJy2y4e7wa5JK7guey6jywU0S5V1b4b68T3t/Q/kTy4jUZb7pkEVFedzUFS5sskVW3F0fE/DOJ5fq3pR3zhX51uZcP7HkiMvwt7kWdN2A2HOZ4LMKjt1tgFE2ZF88P8aEgi3Fn1ZF27VXceQoWRi6YrL3Gcb3pJois6b3B+fEsiCUHfhrOHwb8Z1AtWsVL30jkJjz/Rps8YoV1/WTQfRtKDvQePUrAgnZzx+TdNGQ4zmYJSzyGJe7tol+I212PK8wQ0lQ5nQwEzBx4po3TwN3pVbsTNmr0CAO+m52piT2YO54Q8HxQD09I/iuaUS0J+D4Z5jAdpwy0jmcBr3yFbdrQOCRqJNgvDPHJDoeUGYLw6EDUFar3YVw4VnroA0Md4jIUwAtJB24Sb9IOJ+lc+HpW7tidvQ6666YIdmTyvQCYqSlK3hJhbMPqx+0t20g+C00H0ipKY5fEYyOyWgL6lBUeAp5lxPUJgq75Yb99j+dKeN6NgYj/v+PsrWHVj28kchMe5ECpPv55uEPA/w6N3HMbXJ1Y6jw4AWX4cojUQwB9uxIM7VQPnQPDXBwwfbplzwde8GIW206vwb0TLpLjIh5ylRzI6fMiB8anTmfoRrKfT/KNdfBNJgxbYxoHlj5pDt7p/BgWInwK0lN3gooh4L9aD6OcDr7yIMJc3tuFh/OBl3pe6vfrEBJEpPJbYjZw4N4q4zqZ8A8BA/9NMgFZFwpdHMF/koARFhzocDmL8o1EbkJ5im/I125z97v96lkCMpXyA6w+4ugbAWGS3B0kAcOUqKvgVL6TSzwGcLO96cEP9dPxNSOed75kJOPKnvP46/mB/Y8vjCAiEhZ8mZvnPsHbiG/+unnW2/xphuZ10RXnBpkiB/JoQwZxurs+cTwG2ecU+lQA++3EBzrfoO5CeRb9NhxEQ4oXum08MBMT8fZy/rOmt6rvRchezNRPESYiEiH+1WaY/ORvrJEjCbf375/DVE+mckWjqiO/ANA4UGW45jFwofVE6Y38dAHIgX1PjouAiNhb2fVumMVA9fLEK0lXIgxvNofUwEqETYZn1SaX8JL+MR3YG7cxtEHSOIFhxjAMaVjz83R6AVrp2w1COICnQguRH8NpCBUwldwryAcObMRh25CBJjgI0FwNv9EMwztpY6RrBdK31fGloyVu366ms7xlRgKOboIamjk27wQe2w63Ffs9G1JXcfKxbyRyE8pYuOu0Yihk+PnudS77oGcQX3pYRlcd+pVUFsJAwJ7WJUrHFrnFGlOTcmG1ZA0H+cCYIsUFXnigxVDjGjX1aITaEnUmjcByurCqERKqbH6dKAUjWUavSjDfe5aGo6ICGoxVqe2MbYInYuY3pKpytDRWq2oPjsjMi/oHDnRjo3Mi+lpq9CbHY3cI13CQFRo+NqDcsD7UDs0wYtGRQynzKNMXwmwaVZwB6KZboB6trg9fHI6XXgSnXt3T+EY7Y+vI02IPJFofQRYN553iMK3+djdXGaTjK/Y0eInAQBpurpiQjY97vNVO+MU3t6TaPAB6eSW6I1vsJRhSbs2QwQ1TfGWffOTihZ1dOMDwbk0dNqBefI+Nt7GFj/gpeD0MFIJAG6PXjmAhwooaw75hhn2OHm3E0cwUPqMHJwq+uoyHesB4kSHq7Eu6+Q/urLASiLbAiueVXaCysT4zIs4NbkScH0AzLhXyJtSuxjIRCmJYqAuN8tyFjiK8BFXsGs3ag51ag4XPOhBqan+rBeDnxPMYhoMED/03ZPIKlRtvTXBl10ZC5BdMx/K1S99I5CZERzq5IrLBFzMIWZtsg/gKBxKI8LvAlCCzyqFb4bJdPP6uuh8chzm4EldMcnBgfTfRAMetG4h6U+oawVYFjzHclY0obErwB04GZTvwV0ZKxEjkFth4kSoO75O2zkZr9uQYPoaeZ65+gmB2Xdw8h/Po9qBXxr9QrSf3ojUlIvAD4UZ0Yc9JsT/bmULnVdw7V6SabKCbMQQ+ZcVXYJc7ui9NwvSDImxDMmiRIhsTFNbShV9hook5PR84+GIc/5l0EHrJFQyXC8KoT+tlN3nQ5tRcINqHxUF+LG92pKcAZwacBP6hHyBg03Lmw9sEgfMhEclyB9N4y5WsmysnqZ4mtIk+hBvNJUxGRKga22BE6iTIFd3Yp6Z+8Fmcv+gvAQx1j+HNdlsXMDyo0qbq9ILK7lKEZ9r7CgpMFEQ4aw/lP0idTFz4PwKFWVLqTTnwaRQmr1kjCt49CN9/AMYB/kYiN+Ez6wMfV1KbTV54ARFkhiH4nr9d5R0ERDvYPBUIQJply8rEDeYDzWNKpzsRm3lBgaMYBwImlDs8T0ALLfpS7+ZFpN3Ijqei6P9uNo/mU30w3sqsCruOc4dK7KdU+L1JhLlHH7/0Q+poRFctrgpqgdcN+gnkPxn+CNHuzEirRfQzcaAKSYZNAm4qk7BvoD3x205vpXyCAUki4CL+mIJQoV9hcRvrWO2suxMW8fnIfLDSzL86IOBZ7Q/lQ+QmoAlNbBMBr/qAxYkIbFdRH+7U1enHv8PRVBMn9V06EKam7Fo6+xjeUkFUuVjbIDhyGMeqJdld9+mzaYNNkwkTvs8KS5uSghNwC523geEeOKniiZOt4T1B0llJ4sEpkPCB8EY/cE2NwWI84sTcTGoqnSZeVYXgNxK5Ca+3LSkd6+3OlK0oGET4ieZc8V94MaO7pRUHltz9msyYnLReE2S0U7bkcZnwu9Ec9NwuSVe0+14gpsbrmd0RjAOREzl9zsFcvmxxMbAQvNRfWFdHHRdVGJwQxkIkPZiT80RUP3A/KHq5b3ZjkwwPX4j03Cn9TmTBRrl2Pvg0Z8DOx+remq1OcGWxX/HeQa0Ar8kKOhfhRU0H/CLeLXiFhISP+9CRZD+qVzlQJXGTAcPOp23c7M2G14wJRG2RmsZ4Sj9MH0yittsql4gEFvaJKUKr+lDKNg66jVAYEXTq9/uUuVFwRg+WHsa2wgOXAV7e6CLszro62Ts1neYjcGMYmzpnhevJT/HdS6OOfdZ5UhEAo+XWYBNsEE4hB6/HPdklnUNdPiqT7+8Arx/eE7z1ZKV9duEbidyE145mSGApI5hzezd77ULEA/MKI4aj83WhF0Uy4WCiWtNsRsDmwP41JCRSTUZEmUqAJCTJPRw4T8MZB2LmM1/nSECaFL00oGVceQ7UDnhClWyAQ8DEIExEuhPgZOO63bWt0c+ncZV1+YZDbd5fCXdWfQ9VPwPiuCEHSpAUn913pPeS/wjGgYIvezbIJGxsFwnYnraCUj33JyC9yydSz/rR+BSwP4m6JxMKDqyh76gyArYHIwNe4z+Ur/sj0LSN6YShTttZEqYhTjvSVQyxkKTWHkcONMLfEsHHV1lVa4xjgUTA1pFzari0wmu0/GyWfsH3RN1lm1sMXFeIrj6biKaN5aH10yKc4biCuLZPVedfoPbm4HFalXa6wfrfSOQmBA68zkMPa697sGCqwb0+rqjI5iCdxsPHrhw+5Fv67kUkD+hASMbZ2nqnqIcofrLLUT0jtVHbv0brvh/R4Gma4Ptf7r7XdkufRs+EEE+OltZWvPe0a1jUtuRAw/BltZ7puOQvnDzAGJV8EMA3Zh1LfXliu48fMYwXSEVzZA78Fn3tVyPmpg+tDelAtpCZySgYKr/CRl2wQsR1qjrfOhH228eqrMJ49pxtAmF1wwvsemF9EifWtxYhWhfTWVncx1n26jmEy3M0fvIETBC5zxr0bGxCKJ7CMIqwXxhEOFSTvkSw7cmmnhGxe6e3WWx/yxIpAZv8Vi2oolHSqN6BJ5b6B/p45eWkMKKuBO/mBeFQqfvUMzsSLUJfpdiVDbKgsSUYkRxaYuzqVy++nLQq/7eEI/MzVPsQuYxlEb6A/TcSuQn+jnU9qGiTJXFV9z1Qxfd4Lga+zrZMER0r/TUEAg4V11UK3DY/BmFfEQ5a5vRjUcux60CwBY2AQs1c9NUe5jXXlcHP4WoI5X7NiIQ1U1qm8IYl/xioAI7iBjD8PfFA9SNegS/AgQIkGCkUrhwzLdHr104qyDsqS1n2iAMHrqLVBv3MWS3Cf17v9VanaQJ9b43FHT0DbLxH1Zq3IQSIfqTgTXdjcBOThPtVcCc9MFL51WU8EO2Ab70nycCB5ZkJi0oGRyVxp1XN7rtKXnA0a0NglFJZ0G6vX6gCaFt0ZAohDjaZ3iSeMt/MASzDKUYO5Lq0s2AnoJ3a4BxjHnSMOUjZI1z10Qo6EE2F0FhgBKFx9q7s+roaVFWcLo2FjqvxKMNrZt14bhJM7mpItvwD50c9Meh+IgIOnFVTARxsls3YKVfATk0YGIBC2Fo81r+U6IqFHR4W+y0KERtcLyuCe5yuN7j5jvWLp29bt+pTgb3qZQ0rvKY3LqzdX9b5jURuQrlTae5aRijFZ8EblrsBDqQZB67a55n0zh/pDsxl/ptBPS9sMfciTy2Tfs9DclPmUYTJjUjywNEUQjXs9VV+VvqCiOVt56X/Gj4OFdRIQFdMo64dYeKMSvEgLEoKHAjj0I+p1JYrCi3shxASPO0NJWoOTDg6uTtcY/4btuYeOBMVB/bIx7YNJDTZnD1lwm3PV5fVBMnNkZmwbhynuGnWSsQFBaHzFdWNGFk4gFoBEW9ieOfLAAUHMv1wOz/PXmhToQs/fbdTcDWjV0L6pgqmfg7AoAL6mMBmF05SHDg298w4ELrtQ91+SCA3FT96EyDCy4iqMiJ27pptX5nAXH4r6Afi/ajsNjZspHZetBZ1QnJgQEsNRDdN20YOhD1g/XeVch64xLE5nuIdCOjLbiDWqUDKr6uLrIeN9wWGydOLHmFf8bmhgxNPZYJGe1BqyICE4QLVLchQiTBbWk2W7+Qw5cLD5Ql2TEZD12Qyio1WdG5+z/RIQqKMOeDNGjHmQe9AqzspwniS6FEPdiz1UPNwYvaTrtkJZGYirLd3qvtGIjfhb3q3ptmgjYhB6DbfcjC1V2FCwJPaZxfgcKKo7yT8VfJNqGiG4UZYlhTuStOxavnyfkXA/jY0Rf/IkO8D5G4gXBM1j8L2u0/5BMfNHrCtn6WjvwVMgQMFLg9FLRrJpYmoIqA5z0+fbiDEXuUvOxE7HdRF+2Xx3eZDSxJIeBUXtcIarrkvkEodVl9zYMdORODUWOeZTRStvvancso7BfTEJRIi+mWxvHEOv2ItV4+a6Y4yhxOiS4AbE1pWxyDz8EbAebrpHFT8ZFKshBST3ImIhnTNRRjyuGtFNVeYJQdGZntKB/Y3vgir7wStNHFlm+yGw3JT2yk0vawD2dfQDBVJplfUkUc6EDF8NPtoDusvo/w4AX21wEpfSFIO74BU8UICaw6c1HMXJtUZAWkk4Jl6/gh8I5GbsHizIY1pgttQ8k7iwGrX6FtAwsd4M2YYJmxfvowg5JyfhHgyv0YUoZHVGzGexcW8v8EbGjrfM+iVw12HcnD8TMvKPNMh1W6pOjXOZAnlDxwgAL5Q4HcwANz/4skwA16FFbYjr/hhETbrMOSPotP5CRshOHFQL9TyDTlJTsK8QvlyUsqp8PbcyY7V+s4PCIij03ebEM/Scw/BGNAWXqVAgIcPpp9EEzcm6MCec35QiAnfstewQRb8BAf2Ltq8S0rucvgyauq1DgTeeIM1HKdpeBjmozT6E2j4rLcHPfYpyKlrGsyMSIRHmUKoolBSMW+HaOvH/h31eCXC74e/IZRIztNV+EYiN+FPz4m8w136KBwTsHBoHoa8/ODjAi6Ysh/6W7uLq3yg1/spjT60/On23KoFL1nvFdZm24h4KPf+Xn2OblPeyD4VkYcVJXprAsJaxvcHp+Hbp1KlyBwuwuGmOEZFmveIA33iah7V3If8/sRPGBV2ik2CjBz1lYr6shV+NtcVsm/yGWH2pUXWLlMt2VkHHqazeqmPWpAPkQ0hTSnV3ZWCA7dFOL2aUJup57L+YVh0864j/X4v8S+HKQH7zOkox86BjKwPmmQPijnW/yIcbbQhVLaoKTxnqJe7nd/zeDh9fsbyHkNefXK4eqTaJ9I/nAN7stjug3doBBze0rUEjhw45LLewZijtsmN59xqKDaBWoTVQWJcjBtO3Seys4oa6+ExQZssOGbX38WEZb2SESgnMo6gWKWvn3DUJxOxRO5mCmubhGwh1zEG3Bk8Elt03ffuGFwDQ7LUNTkBfYhHJCD7/yrCfUOg2Mp1cY6EIdTX0Bdbiyb90I1xyNdW8R36GQWKSjZY/C4HVq0xUd8071f1GnX1Z8tteef4LH9axhtPcd/BQOQd6TTyX7pdwYSAuh+oHzcr8NZZ8RIWKeu13235gwN0jdwx3H6EjBw+5vMwq0trcAJy+j/hMV6yLVe/eqWfUHDOE0QbMq5a/uvhiZT+G12Pvx9eUdHRQs9m9zqdSMW/9vxZUnbbgTusOuSaBuTGwSsyoilWehQqAoIVqD3LBK5omMIbvDbgoGtc0YPzBYiD4sUCzafJCAQ0AsCo9rVfNQ2VY+B8G9IdlqeMgHEg/uw4YASUaAjygvuDGQiJRuTNHAhbePtoqkfB0bwP+7s7z7Z/wltuDEI4YxcaDeSzJhm+MRCwatE9S2WG5110JyDQD0dTB5UrJ8mP92qMy8TCuv7qYMyFzWj3WcWKA3XLsDmOSsA+Yv0sXBZq2+vdJ/IukfbDVu2dINARvKyF3qLo4WIxqPA9tZafNblgoq4qWXSD7BksTWlkNg9jwIYmoNsDTrFTFgQwJQrRZlDuj8FAQM9R8KD+sHFJJGX920zzEZ7hvDegXxLh0GPgUD1aRDf/w3YM15nJnLxJB3obcAiJx9uh2SzCQRueVC7wLPD50EzSgSa6RISvpMHCGF1zRvlxMA7EZEHC6O0wSPDWMzwQsMFnHfq7kYiJ2/8rHBHwwJASE9Gvyf25s6mmDuZFSFbumdr2szEae0QRxn1zUUUFR5GJWEh+6z3SFQRPaZOOs3qjEg4RB3yc2xzrAcb6sdeo8hIJ3SqHUs1hdEexPamnUx3RUKnvlRyjOiwAgTvjNUQM58Y3ichpIKZgHOiM1kjg4XDPNFsZiJ6MJYGAdjbQoSdDetYYoO0ck5kmviQ7V5XCI+mY4wMnOJDRC1pvURhPsHRkWuODCBuuAhTlrgPtpdyrRsWc2jJVAS1KfCSV+9F4RmYNSvq7xitAl64j70w5MDii8EwQ4cSB3pSXzm/VSWUGBatbaxJI2d9MxV+fVAgtabk8zXVCB9p+5qMtMsaB5ZkIvRNwnp/fcicbCQhdD31KYDrQNqTlZ+pHCuktrkJfoi05bAQrKQangFEHpvaY8giCDhwfnSipEZr5jq91oUT8dNo4uD0+Dc3CoENyE5EG+9Kbf86fPDzFd3X4SebAM25CKz9L18501ekWtgc0gM7objT6xJzIafz+JRiNCBGtPdszqvgULoJf9lopfIh7wY1nKYYAvcZoIsKd809Y/Qku+m1WzbgaamqKZuBmsP0ML/Y4h34gfp74L+dnUISr29fpZ6kx/1nUlXcND9iUty12JGQ5VXe3htw4EC9q/Xl5FVEWYZxPug+7wlRY8RUdOH0pjO/lDnSLDgTUvPFwmmsvkYzIxFW+golHeAd1DZ7c6Nblq37OdflOy2sk1PiNU4LDt/6LTzUYiV9S0Os+A3YBjjXPoiIJckJAgElIw8H1K47qDc3GZ9d9C3l5xbrgp1GEx65MOrALQY30KKKk4OyFEMciPBRl0IGlvB0A69hwuirxC1Y4vCL8QafOOVDPSKiDsdw9MQ6cVQyzD4LxSfo8j7HWxFELV0FdrQPfDxUX3h200RO6DAUHruG7Y/0mgAh/ICIL6RzKP+7FEM/D6PQV0Amo0+SPElGXGSmAeZMqf3amcfUXJy9oOIZZBgSPgBc13AK2PT2HRiT06i6Ihwp+ABcHxKeL+g8D2oMCp/zYerer2BgRUZGvNAySFX509QhwoPoBONNQuRtb1dZWcRe2eDSzXOY/jzBfkSOeO+LJX2tBQZt4exhDTHRgmSX1EZkuaps+XRSsi0hWDl2QhhzhwIE7/vomWLpZZ++AA20NGGATlPaSUQ6Cph0RxvrH05nTKca9uirgHHTgU4akPCo2LMOfzncdIIAK8BFcg29gxK9OAR+KNQJaoPKsFc7m0VYO9pG63tZ6pHkpm2OiNDEWHiuYWq2eeRV88i7A7cfPBh91czdql8NwUuEbidyED8XCuqL0kzBpzUW4zA21v/sCUiZUHwZ4QdHzJJzpu8GUT4rEu76cZpcSltLXpX1Pk1BfO7HiwFEvHoQabvaMn4AC5OQDt80zVXMUzLsfE4Az6C9oLqOUp8AW03sL6SWNBaxu5kTdrNnVo0Ac90dZMLzk7C1UlIFJJV9d+hAXsv3jxA3aYi91sxGaYlzVzcO3sLUNPxlC+njfQTlwPpFwEzr9NJ1gWrpo59FNHE1zwKwoeLv9i3Oj9L8S5qlhf9Mc0Ig8+u5dJhi7kOQdx8p04Ol9WLM3ghgGmQc1Vg0F8ynIesXU5gIt4MDHLbC+NaR6986QyHsDhOSPXVsC4LQ2OgYfnxMZ35P0ERiyKCeeWcI3ErkJ6diTmbd5m2PMvG/wnyfAaFy2sHyMUheG9ZvbUG7cqgAI6Hhn7T64lDsZiLidN3ViZq4GxePO8iHVewFcF8mzWXtI9+VXu4bmjxN8Ly/nq/Bxy4oNQ94S6F+r+vOb5AMHVr0Bs11Zzqk/0VnM9o56NmoZ7VZXPLNngdPxKUKdgI3Vm7ykE56eyD+BfxqoWUDigU6fWeu4XUpdj2Ixy7iSOHCgBx45BmyhydKNAdRbYdwlrjXlGtYibOGoUSE4+I67XnM+NvcrBfoc4gW87krO3iufG0MplPR/xpxFeQY5cEFBFOHWjzzNx3RKlXt99iE5UhqqsuEC6oe6dhqHg6iokCRsK7fdywiZ7EIGad144EBnXG/VF7riaEfMJy2Y8sfdTvolGMtYU8GBs44I9NO+qKKI5SMJSw5k/4civNSD6MaMgskJr+FqKw4s4tEb2ODMQnOE8OyQBJOHlLrAgf2DQ0dM49UcGBjfRWHDiBwVOHwBai5fEOATcdsIqdUNDiRnv23f8RuJ3ATnwOURT2tOTo5h+z/qLMkF/xVQAjIqZAQ3w1aQYd11VXjQ69GNKR6dtr4NAt/E/sA9VZDlooOACh+wS4SXOZH2ZvBQ3aRXXP8yM4ZQuv5D+JTO3zipM32Apw/OvXd4DVxASQiHYQIvHLr5ey1bkDJSk+OXSEAdjxLpNVq5qTVPpKMdcll1RhfPm5gN/uKOFQ5ehg/UKGj96tAbk0AgYK53AuA+MIy8u0VHFSja0VmftXvoDmg6pUcvAY3yUeBAf2b0MJs/OSi3/pP15Aj3YYTp6l7TANtPg797xDvzG1yVEKDi+OirF19PPfVDt0vZUGbrXGS+6LrCsZZ8iNMpmzLGmjIWWCEjpCfQUWSjGM+MFH4Nzc7tE5ji0EHGM+ciu2+m7/25gMp4cQqI0JREaxHOJN+wILQRiRRQOOouu3/O1fsDwQ59I5HbcGFW7vAsgWZFiz0I/wAM5tiWdpRHfE6r6N/QhHMdpZ8i4uhKHzvIW5AM9FGxyWEYwQvpZQMHlt7fWMmKA8UONNqeqp+GhennM9y8996XXcNXviJ8YsTsQFD2yZN+SmhcGuEEJJK9ZLbV/BjLpfp5gwn1FCnziLO4GnqVCKe64HsVvzFPMBEk4DoosJawgTFE7sUYdp6chRP+PJwqF64qmoBUJcKLetWvg4kmJxGjmyqJgJsgaUHPe+zPsQC7GtP5hdGTPubAquJwpi93311deG/dlilZK0eUAGsx7V51MsIZGA5xnhTzjnBBrIDeTAceA+u7ggps2uGLmzavqnu0Ha2m2weQbxs0bHYASO+dEuGxoilGp05R/QfgG4nchC8Bb8LjIjxdePWPwiUOhNcqDPB/RT36ivBt+B/iXVhV8hXZGgAAAABJRU5ErkJggg==\" style=\"height: auto\">\n",
       "              \n",
       "            </figure>\n",
       "        \n",
       "            <figure style=\"margin: 5px !important;\">\n",
       "              <img src=\"data:image/png;base64,iVBORw0KGgoAAAANSUhEUgAAAUAAAAFAAQAAAADl65gHAAACFElEQVR4nO2azW3DMAyFn+vcNUJHUUd3R+kGGkDB64GkRKdF0UNrQQp1CBL4A2Ligf8CMkmyACQrkMtOkhU8sOuDI5Ev+OUJ8G9AUE7ZySNRP1gAlczODMYsBToB1F1Eo2ouRHL0Oz4nqMo4dxEpTCMWAIhodj0oSQS5+UdueshP020GY5YCNc80d+mBTJM/IN9mMGYp0DJJ0rLsIe3Y0/CZy0FoYkmkL8YK0PMMD+yhzNUgepms0Qw7JYa5CBfKXA+qaxxonY01mVYQRKc5BgSQ6sk/ksnT+5kcneb1IE6tpcW1w9QSn4kZwADwtiFVbLncAeB+IxIBYOeWP26V768c/o7PCfrsIsXYw7GJzQzGLAX6qhmWYmzg3E+dwpilQOczOqIxUWw9sEfVPARsWxlrYCT5S9Vc0eWZwZilQPhWpsUwV5YVIKrmEWDbz5yamnNnA0Q0ux60pXKPXKe8zzYSmMGYpUD0TT9ZNLtINJP5s0k2gzFLgXBBK5eHYWZFH0LPYMxS4JcbGj7PWJUW+5kBILoKbklzWCDTp5FnrgellZH2X51Ef9qYucZEcwhod2fkW4WPa+1OYCgzAIRVZO0U+Iua7cxgzFKgy/GudEbyokRtNgL0NwG/azJb5TaDMUuB1lWihbRi3WcvnSOaDQBbv2+ecgB+lhabs3Fg/tg2sgDbGwDdocnZCeC+/dtfB/jD+QSbsEyNB4C7mQAAAABJRU5ErkJggg==\" style=\"height: auto\">\n",
       "              \n",
       "            </figure>\n",
       "        \n",
       "        </div>\n",
       "    "
      ],
      "text/plain": [
       "<IPython.core.display.HTML object>"
      ]
     },
     "execution_count": 62,
     "metadata": {},
     "output_type": "execute_result"
    }
   ],
   "source": [
    "my_config = Config()\n",
    "\n",
    "image_fnames = os.listdir(my_config.dataset_path)\n",
    "fname_i = np.random.randint(0, len(image_fnames))\n",
    "image_fname = os.path.join(my_config.dataset_path, image_fnames[fname_i])\n",
    "\n",
    "z = Image.open(image_fname)\n",
    "z_2d_bytes = np.frombuffer(z.tobytes(), dtype=np.uint8).reshape(32, 32)\n",
    "\n",
    "k = Kernel.random_nog(my_config)\n",
    "_, match_score = k.match(z_2d_bytes, 8, my_config.kernel_match_threshold)\n",
    "print(f'Match score over image \"{image_fname}\" = {match_score}')\n",
    "\n",
    "display_images([z.resize([320, 320]), k.to_image().resize((320, 320))])"
   ]
  },
  {
   "cell_type": "code",
   "execution_count": 63,
   "id": "27c9235d-28fc-4dba-ba72-6a20f1982d0f",
   "metadata": {
    "editable": true,
    "slideshow": {
     "slide_type": ""
    },
    "tags": []
   },
   "outputs": [],
   "source": [
    "m_data = np.array([\n",
    "    [1, 1, 1, 1, 0, 0, 0, 0],\n",
    "    [1, 1, 1, 1, 0, 0, 0, 0],\n",
    "    [1, 1, 1, 1, 0, 0, 0, 0],\n",
    "    [1, 1, 1, 1, 0, 0, 0, 0],\n",
    "    [1, 1, 1, 1, 0, 0, 0, 0],\n",
    "    [1, 1, 1, 1, 0, 0, 0, 0],\n",
    "    [1, 1, 1, 1, 0, 0, 0, 0],\n",
    "    [1, 1, 1, 1, 0, 0, 0, 0],\n",
    "], dtype=np.uint8)\n",
    "kernels = [\n",
    "    Kernel.from_m_data_nog(m_data), \n",
    "    Kernel.from_m_data_nog(m_data.T),\n",
    "    Kernel.from_m_data_nog(np.roll(m_data, 4, axis=1)), \n",
    "    Kernel.from_m_data_nog(np.roll(m_data.T, 4, axis=0))\n",
    "]\n",
    "vert_bar_image = Image.new('L', (8, 8), 0)\n",
    "draw = ImageDraw.Draw(vert_bar_image)\n",
    "draw.rectangle([0, 0, 3, 7], 255)\n",
    "\n",
    "assert kernels[0].match(vert_bar_image, 8, 0.5)[1] == 1\n",
    "assert kernels[1].match(vert_bar_image, 8, 0.5)[1] == 0.5\n",
    "assert kernels[2].match(vert_bar_image, 8, 0.5)[1] == 0\n",
    "assert kernels[3].match(vert_bar_image, 8, 0.5)[1] == 0.5"
   ]
  }
 ],
 "metadata": {
  "kernelspec": {
   "display_name": "Python 3 (ipykernel)",
   "language": "python",
   "name": "python3"
  },
  "language_info": {
   "codemirror_mode": {
    "name": "ipython",
    "version": 3
   },
   "file_extension": ".py",
   "mimetype": "text/x-python",
   "name": "python",
   "nbconvert_exporter": "python",
   "pygments_lexer": "ipython3",
   "version": "3.12.8"
  }
 },
 "nbformat": 4,
 "nbformat_minor": 5
}
