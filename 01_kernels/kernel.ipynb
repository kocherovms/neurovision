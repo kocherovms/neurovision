{
 "cells": [
  {
   "cell_type": "code",
   "execution_count": 10,
   "id": "5fc5c834-0112-460e-bf4a-eff8918b8c9d",
   "metadata": {
    "editable": true,
    "slideshow": {
     "slide_type": ""
    },
    "tags": []
   },
   "outputs": [],
   "source": [
    "import numpy as np\n",
    "import timeit\n",
    "import os\n",
    "import pickle\n",
    "from PIL import Image, ImageDraw\n",
    "\n",
    "%run utils.ipynb\n",
    "%run kernel_genetics.ipynb"
   ]
  },
  {
   "cell_type": "code",
   "execution_count": 43,
   "id": "c562aa38-ae98-4e74-9b57-c1604dfad958",
   "metadata": {
    "editable": true,
    "slideshow": {
     "slide_type": ""
    },
    "tags": []
   },
   "outputs": [],
   "source": [
    "class Kernel:\n",
    "    def __init__(self, size):\n",
    "        super()\n",
    "        self.genotype = KernelGenotype()\n",
    "        self.size = size\n",
    "        self.m = []\n",
    "        self.m_ones = 0\n",
    "        # stats\n",
    "        self.match_invokes = 0\n",
    "        self.match_invokes_success = 0\n",
    "    \n",
    "    def __eq__(self, other): \n",
    "        if not isinstance(other, Kernel):\n",
    "            return NotImplemented\n",
    "\n",
    "        return self.genotype == other.genotype and self.size == other.size and np.array_equal(self.m, other.m) and self.m_ones == other.m_ones\n",
    "\n",
    "    @classmethod\n",
    "    def random_nog(cls, config):\n",
    "        k = cls(config.kernel_size)\n",
    "        assert k.size >= 2\n",
    "        assert config.kernel_initial_complexity >= 0 and config.kernel_initial_complexity <= 1\n",
    "\n",
    "        k.m = np.uint8(np.random.uniform(size=(k.size, k.size)) <= config.kernel_initial_complexity)\n",
    "        k.m_ones = k.compute_ones()\n",
    "\n",
    "        if k.m_ones == 0:\n",
    "            # complete blank mask was generated. Put random pixel somewhere\n",
    "            random_pos = np.random.randint(k.size, size=(2,))\n",
    "            k.m[random_pos[0], random_pos[1]] = 1\n",
    "            k.m_ones = k.compute_ones()\n",
    "            assert k.m_ones == 1\n",
    "            \n",
    "        return k\n",
    "\n",
    "    @classmethod\n",
    "    def solid_nog(cls, config, solid_value):\n",
    "        assert solid_value in [0, 1]\n",
    "        \n",
    "        k = cls(config.kernel_size)\n",
    "        k.m = np.full((k.size, k.size), solid_value, dtype=np.uint8)\n",
    "        k.m_ones = k.compute_ones()\n",
    "        return k\n",
    "\n",
    "    @classmethod\n",
    "    def from_m_data_nog(cls, m_data):\n",
    "        assert len(m_data.shape) == 2\n",
    "        assert m_data.shape[0] == m_data.shape[1]\n",
    "        assert m_data.shape[0] > 0\n",
    "        \n",
    "        k = cls(m_data.shape[0])\n",
    "        k.m = m_data\n",
    "        k.m_ones = k.compute_ones()\n",
    "        return k\n",
    "\n",
    "    @classmethod\n",
    "    def random(cls, config):\n",
    "        k = cls(config.kernel_size)\n",
    "        assert k.size >= 2\n",
    "        k.genotype = KernelGenotype.random(1)\n",
    "        k.m = k.genotype.build_phenotype(k.size)\n",
    "        k.m_ones = k.compute_ones()\n",
    "        return k\n",
    "\n",
    "    def compute_ones(self):\n",
    "        rv = 0\n",
    "        # direct iteration is simplier to handle than np.unique_counts\n",
    "        # because output of the latter may be any of [0, 1], [0], [1], []\n",
    "        for x in np.nditer(self.m): \n",
    "            rv += (x == 1)\n",
    "\n",
    "        return rv\n",
    "\n",
    "    def get_complexity(self):\n",
    "       return self.m_ones / (self.size * self.size)\n",
    "\n",
    "    def get_inverted(self):\n",
    "        k = Kernel(self.size)\n",
    "        k.m = self.m.copy()\n",
    "        k.m = 1 - k.m\n",
    "        k.m_ones = k.compute_ones()\n",
    "        return k\n",
    "\n",
    "    # image is expected to be in grayscale mode, be it a PIL Image or just a 2d array\n",
    "    # i.e. each pixel has to be 0..255\n",
    "    def match(self, image, match_threshold, precomputed_pulp=None):\n",
    "        assert isinstance(image, Image.Image) or isinstance(image, np.ndarray)\n",
    "        assert not isinstance(image, Image.Image) or image.mode == 'L'\n",
    "        assert not isinstance(image, np.ndarray) or(len(image.shape) == 2 and image.shape[0] == image.shape[1] and image.dtype == np.uint8)\n",
    "        assert match_threshold > 0 and match_threshold <= 1\n",
    "        self.match_invokes += 1\n",
    "\n",
    "        # empty phenotype\n",
    "        if not self.m_ones: \n",
    "            return False, 0\n",
    "\n",
    "        pulp = precomputed_pulp\n",
    "        \n",
    "        if pulp is None:\n",
    "            # PIL.Image.Image implements __array_interface__, \n",
    "            # so it's straightforward to pass image to np.einsum directly\n",
    "            # otherwise we have just bytes in form of numpy array\n",
    "            pulp = self.compute_match_pulp(image)\n",
    "\n",
    "        if self.m_ones > 0:\n",
    "            denom = self.m_ones\n",
    "            denom *= 255 # width of grayscale image\n",
    "            pulp /= denom\n",
    "\n",
    "        is_match = pulp > match_threshold\n",
    "        self.match_invokes_success += int(is_match)\n",
    "        return is_match, pulp\n",
    "\n",
    "    # самая мякотка вычислений ядра свёртки =)\n",
    "    def compute_match_pulp(self, image):\n",
    "        return self.compute_match_pulp_2(image) # variant with ravel is a little bit faster\n",
    "        \n",
    "    def compute_match_pulp_1(self, image):\n",
    "        return np.einsum('ij,ij->', self.m, image, dtype=np.uint32)\n",
    "\n",
    "    def compute_match_pulp_2(self, image):\n",
    "        a = np.ravel(self.m).astype(np.uint32)\n",
    "        b = np.ravel(image).astype(np.uint32)\n",
    "        return np.dot(a, b)\n",
    "\n",
    "    def reset_stats(self):\n",
    "        self.match_invokes = 0\n",
    "        self.match_invokes_success = 0\n",
    "\n",
    "    def to_image(self, inverted=True):\n",
    "        sz = (self.size, self.size)\n",
    "        bts = self.m.ravel() # 2d -> 1d\n",
    "\n",
    "        if inverted:\n",
    "            bts = 1 - bts # invert 0 -> 1 / 1-> 0\n",
    "            \n",
    "        bts = np.packbits(bts) # uint8 -> 1 bit\n",
    "        return Image.frombytes('1', size=sz, data=bts)\n"
   ]
  },
  {
   "cell_type": "code",
   "execution_count": 44,
   "id": "4188f4a3-320e-4dd8-94d9-7d99e2a0f81e",
   "metadata": {},
   "outputs": [
    {
     "name": "stdout",
     "output_type": "stream",
     "text": [
      "5.53 μs ± 1.94 μs per loop (mean ± std. dev. of 7 runs, 10,000 loops each)\n",
      "4.91 μs ± 70.7 ns per loop (mean ± std. dev. of 7 runs, 10,000 loops each)\n"
     ]
    },
    {
     "data": {
      "text/plain": [
       "(np.uint32(83895), np.uint32(83895))"
      ]
     },
     "execution_count": 44,
     "metadata": {},
     "output_type": "execute_result"
    }
   ],
   "source": [
    "my_config = Config()\n",
    "my_config.kernel_size = 32\n",
    "k = Kernel.random_nog(my_config)\n",
    "image = Image.new('L', (my_config.kernel_size, my_config.kernel_size), 255)\n",
    "%timeit -n10000 k.compute_match_pulp_1(image)\n",
    "%timeit -n10000 k.compute_match_pulp_2(image)\n",
    "assert k.compute_match_pulp_1(image) == k.compute_match_pulp_2(image)\n",
    "k.compute_match_pulp_1(image), k.compute_match_pulp_2(image)"
   ]
  },
  {
   "cell_type": "code",
   "execution_count": 292,
   "id": "45490cc2-60fd-4a3d-ac88-d11b66f64748",
   "metadata": {
    "editable": true,
    "slideshow": {
     "slide_type": ""
    },
    "tags": []
   },
   "outputs": [],
   "source": [
    "class FenceKernel(Kernel):\n",
    "    pass"
   ]
  },
  {
   "cell_type": "code",
   "execution_count": 293,
   "id": "2a7b8c5a-73d4-44f7-9ae7-8398bcee1a86",
   "metadata": {},
   "outputs": [],
   "source": [
    "my_config = Config()\n",
    "ones_kernel = Kernel.solid_nog(my_config, 1)\n",
    "zeros_kernel = Kernel.solid_nog(my_config, 0)\n",
    "assert ones_kernel != zeros_kernel\n",
    "assert ones_kernel == Kernel.solid_nog(my_config, 1)\n",
    "assert zeros_kernel == Kernel.solid_nog(my_config, 0)"
   ]
  },
  {
   "cell_type": "code",
   "execution_count": 294,
   "id": "021cd7a6-b833-4ea5-8d87-a74f976ef6a2",
   "metadata": {},
   "outputs": [
    {
     "data": {
      "text/html": [
       "\n",
       "        <div style=\"display: flex; flex-flow: row wrap; text-align: center;\">\n",
       "        \n",
       "            <figure style=\"margin: 5px !important;\">\n",
       "              <img src=\"data:image/png;base64,iVBORw0KGgoAAAANSUhEUgAAAGQAAABkAQAAAABYmaj5AAAALklEQVR4nO3OoQEAIAzAsAH//8RJcEGwc9iJ1cU1gL3gzMjV1ZBwK521Wq3WTw/BBw5fShYosgAAAABJRU5ErkJggg==\" style=\"height: auto\">\n",
       "              <figcaption style=\"font-size: 0.6em\">Complexity 0 / 0.015625</figcaption>\n",
       "            </figure>\n",
       "        \n",
       "            <figure style=\"margin: 5px !important;\">\n",
       "              <img src=\"data:image/png;base64,iVBORw0KGgoAAAANSUhEUgAAAGQAAABkAQAAAABYmaj5AAAAVUlEQVR4nGP8z4AAH5kYkMEoj0q8gywMD5kGiVuw8hj+///fwMBg/////38D7RbieYxDJO2yIJj/mQaVy/DzfjI2QJiM/z8MtFtw81gY2P8Tp3Iw8QBkxxN5ZbaO/gAAAABJRU5ErkJggg==\" style=\"height: auto\">\n",
       "              <figcaption style=\"font-size: 0.6em\">Complexity 1 / 0.109375</figcaption>\n",
       "            </figure>\n",
       "        \n",
       "            <figure style=\"margin: 5px !important;\">\n",
       "              <img src=\"data:image/png;base64,iVBORw0KGgoAAAANSUhEUgAAAGQAAABkAQAAAABYmaj5AAAAWUlEQVR4nNWUsQ2AMBADHcIesMmPBqMxEnQpgKOJlFQgqnzcWNedXFgkLbBFgH1QHb8UqODwZNY3XWF24/JNY+5Ie5c3ErBKdmq6W7v8sybJcP4MKg/W0boPf3IoG+oM0kUAAAAASUVORK5CYII=\" style=\"height: auto\">\n",
       "              <figcaption style=\"font-size: 0.6em\">Complexity 2 / 0.171875</figcaption>\n",
       "            </figure>\n",
       "        \n",
       "            <figure style=\"margin: 5px !important;\">\n",
       "              <img src=\"data:image/png;base64,iVBORw0KGgoAAAANSUhEUgAAAGQAAABkAQAAAABYmaj5AAAAXklEQVR4nNWTMQqAMBAEhyjEX/iUPM2v6g+0iyCMRRCsAlaJW910w7KHGaIle+CdnilqBthCe5f/E6qZ9K8VYGax/+2ORDknhqu9y4d2y48lXZu7VNv1uWY5ejKr0Q2QOTE2Ir1vzAAAAABJRU5ErkJggg==\" style=\"height: auto\">\n",
       "              <figcaption style=\"font-size: 0.6em\">Complexity 3 / 0.203125</figcaption>\n",
       "            </figure>\n",
       "        \n",
       "            <figure style=\"margin: 5px !important;\">\n",
       "              <img src=\"data:image/png;base64,iVBORw0KGgoAAAANSUhEUgAAAGQAAABkAQAAAABYmaj5AAAAWElEQVR4nN2SMQ5AUBAFZ5FQupGj+UdzFEdQkkhGo0CnW6Z73WTyAEZVZ6DiSt6Fqk616pLJ7LEiopzG0acy406raw6X/72gYeuAYU/g8q5uab9SNz5W9wDV5zGqXqC3ZgAAAABJRU5ErkJggg==\" style=\"height: auto\">\n",
       "              <figcaption style=\"font-size: 0.6em\">Complexity 4 / 0.375</figcaption>\n",
       "            </figure>\n",
       "        \n",
       "            <figure style=\"margin: 5px !important;\">\n",
       "              <img src=\"data:image/png;base64,iVBORw0KGgoAAAANSUhEUgAAAGQAAABkAQAAAABYmaj5AAAAaklEQVR4nNWUMQ5AQAAEZ5HwC57iZzyNn/ADpStkFRpErr2z3XSTTXaxPda+shXckzGpAZglFcldIlQZCALaJbVLnIK8A6xZ9/lqV7XBAFZWZh8U1B/q9J+NcX3CVHpJ7hL33BlsO3PPJ52pxSwKh+IebwAAAABJRU5ErkJggg==\" style=\"height: auto\">\n",
       "              <figcaption style=\"font-size: 0.6em\">Complexity 5 / 0.40625</figcaption>\n",
       "            </figure>\n",
       "        \n",
       "            <figure style=\"margin: 5px !important;\">\n",
       "              <img src=\"data:image/png;base64,iVBORw0KGgoAAAANSUhEUgAAAGQAAABkAQAAAABYmaj5AAAAc0lEQVR4nNWUsQ3CQBAEZ/mXnpAOcCcuza1RCnRgskOyvQ5MAAESRD42OU02Oq0WB0PQT5wXOPCavFS13eJb8T2T2TvheHo6/XcH+zKrk8f9Xb6lZh0BsE57u3ymqhY8lMLll+7aDii+pu5EFdDMrH9asBUmOyWoJihNFgAAAABJRU5ErkJggg==\" style=\"height: auto\">\n",
       "              <figcaption style=\"font-size: 0.6em\">Complexity 6 / 0.515625</figcaption>\n",
       "            </figure>\n",
       "        \n",
       "            <figure style=\"margin: 5px !important;\">\n",
       "              <img src=\"data:image/png;base64,iVBORw0KGgoAAAANSUhEUgAAAGQAAABkAQAAAABYmaj5AAAAYklEQVR4nNXUsQ2AMAxE0W+IlJYNWJXRGIURoEvFpQGJAkWiyuHO3dPpbMhaACC0DzzHeNMRKgAoJisZbzNqs043AeQCoLCSNdO9KgDz2dvSduq+se6Wb2pJK+afIQU/7G4FXiYgPZA53BIAAAAASUVORK5CYII=\" style=\"height: auto\">\n",
       "              <figcaption style=\"font-size: 0.6em\">Complexity 7 / 0.703125</figcaption>\n",
       "            </figure>\n",
       "        \n",
       "            <figure style=\"margin: 5px !important;\">\n",
       "              <img src=\"data:image/png;base64,iVBORw0KGgoAAAANSUhEUgAAAGQAAABkAQAAAABYmaj5AAAAWUlEQVR4nGNgYGCo////AAMDAwMDAxMDMhi8vKEE6n/AWIMpBNF57P8ZORgYmP8/GARuIZbHwvCTcbC4hYjUav+HQf7fQLuFHN5DpsHjFkwew39IBhtaaRcApgsQXl7wHsEAAAAASUVORK5CYII=\" style=\"height: auto\">\n",
       "              <figcaption style=\"font-size: 0.6em\">Complexity 8 / 0.828125</figcaption>\n",
       "            </figure>\n",
       "        \n",
       "            <figure style=\"margin: 5px !important;\">\n",
       "              <img src=\"data:image/png;base64,iVBORw0KGgoAAAANSUhEUgAAAGQAAABkAQAAAABYmaj5AAAANUlEQVR4nGNgGLKA/f8BCIMJRXgw8RBA/t9Au4U4dw5NMARCdwik1iGaJv7/QOIMphDExwMAEX0IMJIx9/8AAAAASUVORK5CYII=\" style=\"height: auto\">\n",
       "              <figcaption style=\"font-size: 0.6em\">Complexity 9 / 0.921875</figcaption>\n",
       "            </figure>\n",
       "        \n",
       "            <figure style=\"margin: 5px !important;\">\n",
       "              <img src=\"data:image/png;base64,iVBORw0KGgoAAAANSUhEUgAAAGQAAABkAQAAAABYmaj5AAAAFElEQVR4nGNgGAWjYBSMglFATwAABXgAAQj9RYMAAAAASUVORK5CYII=\" style=\"height: auto\">\n",
       "              <figcaption style=\"font-size: 0.6em\">Complexity 10 / 1.0</figcaption>\n",
       "            </figure>\n",
       "        \n",
       "        </div>\n",
       "    "
      ],
      "text/plain": [
       "<IPython.core.display.HTML object>"
      ]
     },
     "execution_count": 294,
     "metadata": {},
     "output_type": "execute_result"
    }
   ],
   "source": [
    "my_config = Config()\n",
    "my_config.kernel_size = 8\n",
    "kimgs = []\n",
    "kimgcaps = dict()\n",
    "\n",
    "for cmplx in range(0, 10 + 1):\n",
    "    my_config.kernel_initial_complexity = cmplx / 10\n",
    "    k = Kernel.random_nog(my_config)\n",
    "    kimg = k.to_image().resize((100, 100))\n",
    "    kimgs.append(kimg)\n",
    "    kimgcaps[id(kimg)] = f'Complexity {cmplx} / {k.get_complexity()}'\n",
    "\n",
    "display_images(kimgs, kimgcaps)"
   ]
  },
  {
   "cell_type": "code",
   "execution_count": 295,
   "id": "53fb4deb-5fc9-4f75-83e6-f1c3bb80f7a7",
   "metadata": {
    "editable": true,
    "slideshow": {
     "slide_type": ""
    },
    "tags": []
   },
   "outputs": [],
   "source": [
    "my_config = Config()\n",
    "\n",
    "for i in range(2, 32):\n",
    "    my_config.kernel_size = i\n",
    "    k = Kernel.random_nog(my_config)\n",
    "    is_match, match_score = k.match(k.m * 255, my_config.kernel_match_threshold)\n",
    "    assert is_match\n",
    "    assert match_score == 1, f'ks={i}, k.m={k.m}'\n",
    "\n",
    "    invk = k.get_inverted()\n",
    "    is_match, match_score_inv = k.match(invk.m * 255, my_config.kernel_match_threshold)\n",
    "    assert not is_match\n",
    "    assert match_score_inv == 0"
   ]
  },
  {
   "cell_type": "code",
   "execution_count": 296,
   "id": "38ce330d-0596-4231-a521-8e5fd6e57c3c",
   "metadata": {},
   "outputs": [],
   "source": [
    "my_config = Config()\n",
    "k = Kernel.random_nog(my_config)\n",
    "run_counts = 10\n",
    "\n",
    "for i in range(run_counts):\n",
    "    is_match, match_score = k.match(k.m * 255, my_config.kernel_match_threshold)\n",
    "    assert is_match\n",
    "    assert match_score == 1, f'ks={i}, k.m={k.m}'\n",
    "\n",
    "assert k.match_invokes == run_counts\n",
    "assert k.match_invokes_success == run_counts, k.match_invokes_success\n",
    "k.reset_stats()\n",
    "assert k.match_invokes == 0\n",
    "assert k.match_invokes_success == 0\n",
    "\n",
    "k.match(k.m * 255, my_config.kernel_match_threshold)\n",
    "assert k.match_invokes == 1\n",
    "assert k.match_invokes_success == 1\n",
    "\n",
    "my_config.kernel_size = 8 \n",
    "half_fill_image = Image.new('L', (8, 8), 0)\n",
    "draw = ImageDraw.Draw(half_fill_image)\n",
    "draw.rectangle([0, 0, 3, 7], 255)\n",
    "k = Kernel.solid_nog(my_config, 1)\n",
    "is_match, match_score = k.match(half_fill_image, 0.49)\n",
    "assert is_match\n",
    "assert match_score == 0.5, match_score\n",
    "\n",
    "is_match, match_score = k.match(half_fill_image, 0.5)\n",
    "assert not is_match\n",
    "assert match_score == 0.5, match_score"
   ]
  },
  {
   "cell_type": "code",
   "execution_count": 297,
   "id": "93e38de5-dc86-42ad-8832-1b0b9cd7bca3",
   "metadata": {},
   "outputs": [],
   "source": [
    "my_config = Config()\n",
    "my_config.kernel_size = 8 \n",
    "k = Kernel.solid_nog(my_config, 1)\n",
    "\n",
    "is_match, match_score = k.match(Image.new('L', (8, 8), 255), 0.99)\n",
    "assert is_match \n",
    "assert match_score == 1\n",
    "\n",
    "is_match, match_score = k.match(Image.new('L', (8, 8), 0), 0.01)\n",
    "assert not is_match \n",
    "assert match_score == 0\n",
    "\n",
    "is_match, match_score = k.match(np.full((8, 8), 255, dtype=np.uint8), 0.99)\n",
    "assert is_match \n",
    "assert match_score == 1\n",
    "\n",
    "is_match, match_score = k.match(np.zeros((8, 8), dtype=np.uint8), 0.01)\n",
    "assert not is_match \n",
    "assert match_score == 0\n",
    "\n",
    "k = Kernel.solid_nog(my_config, 0)\n",
    "is_match, match_score = k.match(Image.new('L', (8, 8), 255), 0.99)\n",
    "assert not is_match \n",
    "assert match_score == 0"
   ]
  },
  {
   "cell_type": "code",
   "execution_count": 298,
   "id": "2b03cb16-fca5-4ef5-a3e6-7da228f5d127",
   "metadata": {
    "editable": true,
    "slideshow": {
     "slide_type": ""
    },
    "tags": []
   },
   "outputs": [
    {
     "data": {
      "text/html": [
       "\n",
       "        <div style=\"display: flex; flex-flow: row wrap; text-align: center;\">\n",
       "        \n",
       "            <figure style=\"margin: 5px !important;\">\n",
       "              <img src=\"data:image/png;base64,iVBORw0KGgoAAAANSUhEUgAAAGQAAABkCAAAAABVicqIAAAAZElEQVR4nO3NsQqAIABF0WprEwTJ//84RRDcXPsAG4JoO3d98M6+rZ0hpivnfKUYzod9bY7eaimltj7mOh+vTj4GgUAgEAgEAoFAIBAIBAKBQCAQCAQCgUAgEAgEAoFAIBDIv93pRg3IerbqtwAAAABJRU5ErkJggg==\" style=\"height: auto\">\n",
       "              \n",
       "            </figure>\n",
       "        \n",
       "            <figure style=\"margin: 5px !important;\">\n",
       "              <img src=\"data:image/png;base64,iVBORw0KGgoAAAANSUhEUgAAAGQAAABkCAAAAABVicqIAAAAeElEQVR4nO3ZMQqDABAAQRWbdAEhJP9/XEJAsDKlviCFzVazH5ji7qobBkmSFDfeAmS+F8hSII8CeRbIC3IFSWaSbFdxJ+NeIEeATIEBgUAgEAgEAoFAIBDI3+ZfgWwFshbIt0A+BfKGXEGSmSTbVdxJ8hCQJEl5JyEEDaGsBvAYAAAAAElFTkSuQmCC\" style=\"height: auto\">\n",
       "              \n",
       "            </figure>\n",
       "        \n",
       "            <figure style=\"margin: 5px !important;\">\n",
       "              <img src=\"data:image/png;base64,iVBORw0KGgoAAAANSUhEUgAAAGQAAABkAQAAAABYmaj5AAAAJUlEQVR4nGNgYGBgYP///w8DAwMDAxMDMhjljfJGeaO8UR71eQB8cAPIY/YpdQAAAABJRU5ErkJggg==\" style=\"height: auto\">\n",
       "              \n",
       "            </figure>\n",
       "        \n",
       "            <figure style=\"margin: 5px !important;\">\n",
       "              <img src=\"data:image/png;base64,iVBORw0KGgoAAAANSUhEUgAAAGQAAABkAQAAAABYmaj5AAAAHklEQVR4nGNgGAWjgPE/EucjE4rcKI9S3igYBegAAC2HAiKHtVYDAAAAAElFTkSuQmCC\" style=\"height: auto\">\n",
       "              \n",
       "            </figure>\n",
       "        \n",
       "            <figure style=\"margin: 5px !important;\">\n",
       "              <img src=\"data:image/png;base64,iVBORw0KGgoAAAANSUhEUgAAAGQAAABkAQAAAABYmaj5AAAAHUlEQVR4nGP8z4AAH5kYkMEoj1LeKBgFo2AUYAIAfIkCIofPQ2EAAAAASUVORK5CYII=\" style=\"height: auto\">\n",
       "              \n",
       "            </figure>\n",
       "        \n",
       "            <figure style=\"margin: 5px !important;\">\n",
       "              <img src=\"data:image/png;base64,iVBORw0KGgoAAAANSUhEUgAAAGQAAABkAQAAAABYmaj5AAAAH0lEQVR4nGP4//9/AwMMMDEgg1HeKG+UN8ob5VGfBwAvuQRENE+WyAAAAABJRU5ErkJggg==\" style=\"height: auto\">\n",
       "              \n",
       "            </figure>\n",
       "        \n",
       "        </div>\n",
       "    "
      ],
      "text/plain": [
       "<IPython.core.display.HTML object>"
      ]
     },
     "execution_count": 298,
     "metadata": {},
     "output_type": "execute_result"
    }
   ],
   "source": [
    "my_config = Config()\n",
    "horz_line_image = Image.new('L', (8, 8), 0)\n",
    "draw = ImageDraw.Draw(horz_line_image)\n",
    "draw.rectangle([0, 2, 7, 5], 255)\n",
    "\n",
    "vert_line_image = Image.new('L', (8, 8), 0)\n",
    "draw = ImageDraw.Draw(vert_line_image)\n",
    "draw.rectangle([2, 0, 5, 7], 255)\n",
    "\n",
    "m_data = np.array([\n",
    "    [0, 0, 0, 0, 0, 0, 0, 0],\n",
    "    [0, 0, 0, 0, 0, 0, 0, 0],\n",
    "    [0, 0, 0, 0, 0, 0, 0, 0],\n",
    "    [1, 1, 1, 1, 1, 1, 1, 1],\n",
    "    [1, 1, 1, 1, 1, 1, 1, 1],\n",
    "    [0, 0, 0, 0, 0, 0, 0, 0],\n",
    "    [0, 0, 0, 0, 0, 0, 0, 0],\n",
    "    [0, 0, 0, 0, 0, 0, 0, 0],\n",
    "], dtype=np.uint8)\n",
    "\n",
    "horz_line_kernel = Kernel.from_m_data_nog(m_data)\n",
    "shifted_horz_line_kernel = Kernel.from_m_data_nog(np.roll(m_data, -3, axis=0))\n",
    "vert_line_kernel = Kernel.from_m_data_nog(m_data.T)\n",
    "vert_line_kernel.match(vert_line_image, my_config.kernel_match_threshold)\n",
    "shifted_vert_line_kernel = Kernel.from_m_data_nog(np.roll(m_data.T, -3, axis=1))\n",
    "\n",
    "assert horz_line_kernel.match(horz_line_image, my_config.kernel_match_threshold)[1] == 1\n",
    "assert vert_line_kernel.match(vert_line_image, my_config.kernel_match_threshold)[1] == 1\n",
    "assert shifted_horz_line_kernel.match(horz_line_image, my_config.kernel_match_threshold)[1] == 0\n",
    "assert shifted_vert_line_kernel.match(vert_line_image, my_config.kernel_match_threshold)[1] == 0\n",
    "\n",
    "display_images(\n",
    "    [vert_line_image.resize((100, 100)), \n",
    "     horz_line_image.resize((100, 100)), \n",
    "     vert_line_kernel.to_image(inverted=False).resize((100, 100)),\n",
    "     horz_line_kernel.to_image(inverted=False).resize((100, 100)),\n",
    "     shifted_horz_line_kernel.to_image(inverted=False).resize((100, 100)),\n",
    "     shifted_vert_line_kernel.to_image(inverted=False).resize((100, 100)),\n",
    "    ]\n",
    ")"
   ]
  },
  {
   "cell_type": "code",
   "execution_count": 299,
   "id": "d4ead886-6f31-410f-9454-6224cfbfa147",
   "metadata": {
    "editable": true,
    "slideshow": {
     "slide_type": ""
    },
    "tags": []
   },
   "outputs": [
    {
     "data": {
      "image/jpeg": "[encoded data removed]",
      "image/png": "[encoded data removed]",
      "text/plain": [
       "<PIL.Image.Image image mode=1 size=32x32>"
      ]
     },
     "execution_count": 299,
     "metadata": {},
     "output_type": "execute_result"
    }
   ],
   "source": [
    "my_config = Config()\n",
    "k = Kernel.random(my_config)\n",
    "k.to_image(inverted=False)"
   ]
  },
  {
   "cell_type": "code",
   "execution_count": 300,
   "id": "27c9235d-28fc-4dba-ba72-6a20f1982d0f",
   "metadata": {
    "editable": true,
    "slideshow": {
     "slide_type": ""
    },
    "tags": []
   },
   "outputs": [],
   "source": [
    "m_data = np.array([\n",
    "    [1, 1, 1, 1, 0, 0, 0, 0],\n",
    "    [1, 1, 1, 1, 0, 0, 0, 0],\n",
    "    [1, 1, 1, 1, 0, 0, 0, 0],\n",
    "    [1, 1, 1, 1, 0, 0, 0, 0],\n",
    "    [1, 1, 1, 1, 0, 0, 0, 0],\n",
    "    [1, 1, 1, 1, 0, 0, 0, 0],\n",
    "    [1, 1, 1, 1, 0, 0, 0, 0],\n",
    "    [1, 1, 1, 1, 0, 0, 0, 0],\n",
    "], dtype=np.uint8)\n",
    "kernels = [\n",
    "    Kernel.from_m_data_nog(m_data), \n",
    "    Kernel.from_m_data_nog(m_data.T),\n",
    "    Kernel.from_m_data_nog(np.roll(m_data, 4, axis=1)), \n",
    "    Kernel.from_m_data_nog(np.roll(m_data.T, 4, axis=0))\n",
    "]\n",
    "vert_bar_image = Image.new('L', (8, 8), 0)\n",
    "draw = ImageDraw.Draw(vert_bar_image)\n",
    "draw.rectangle([0, 0, 3, 7], 255)\n",
    "\n",
    "assert kernels[0].match(vert_bar_image, 0.5)[1] == 1\n",
    "assert kernels[1].match(vert_bar_image, 0.5)[1] == 0.5\n",
    "assert kernels[2].match(vert_bar_image, 0.5)[1] == 0\n",
    "assert kernels[3].match(vert_bar_image, 0.5)[1] == 0.5"
   ]
  },
  {
   "cell_type": "code",
   "execution_count": null,
   "id": "5895bbec-9822-4f22-88a4-eefe6b1d37ab",
   "metadata": {},
   "outputs": [],
   "source": []
  }
 ],
 "metadata": {
  "kernelspec": {
   "display_name": "Python 3 (ipykernel)",
   "language": "python",
   "name": "python3"
  },
  "language_info": {
   "codemirror_mode": {
    "name": "ipython",
    "version": 3
   },
   "file_extension": ".py",
   "mimetype": "text/x-python",
   "name": "python",
   "nbconvert_exporter": "python",
   "pygments_lexer": "ipython3",
   "version": "3.12.8"
  }
 },
 "nbformat": 4,
 "nbformat_minor": 5
}
