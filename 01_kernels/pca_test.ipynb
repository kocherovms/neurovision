{
 "cells": [
  {
   "cell_type": "code",
   "execution_count": 621,
   "id": "f8a11af4-e61d-42eb-8fa8-bfda089fe664",
   "metadata": {},
   "outputs": [],
   "source": [
    "from sklearn.decomposition import PCA\n",
    "from sklearn import preprocessing\n",
    "from PIL import Image, ImageDraw\n",
    "import numpy as np\n",
    "import matplotlib.pyplot as plt"
   ]
  },
  {
   "cell_type": "code",
   "execution_count": 622,
   "id": "342dcdda-0caf-4098-a1b4-a78bf3f43d0f",
   "metadata": {},
   "outputs": [],
   "source": [
    "IMAGE_SIZE = 9\n",
    "vert_bar_image = Image.new('L', (IMAGE_SIZE, IMAGE_SIZE))\n",
    "\n",
    "center_pt = IMAGE_SIZE // 2\n",
    "coords = [\n",
    "    (center_pt - 2, 0),\n",
    "    (center_pt + 2, IMAGE_SIZE - 1)\n",
    "]\n",
    "ImageDraw.Draw(vert_bar_image).rectangle(coords, outline=255, fill=255)\n",
    "\n",
    "horz_bar_image = vert_bar_image.rotate(90)\n",
    "diag_bar_image = vert_bar_image.rotate(45)\n",
    "diag_bar_image2 = vert_bar_image.rotate(-30)"
   ]
  },
  {
   "cell_type": "code",
   "execution_count": 623,
   "id": "2038a37a-5535-4a37-8d36-10299aaf5a58",
   "metadata": {},
   "outputs": [
    {
     "data": {
      "image/jpeg": "[encoded data removed]",
      "image/png": "[encoded data removed]",
      "text/plain": [
       "<PIL.Image.Image image mode=L size=50x50>"
      ]
     },
     "execution_count": 623,
     "metadata": {},
     "output_type": "execute_result"
    }
   ],
   "source": [
    "vert_bar_image.resize((50, 50))"
   ]
  },
  {
   "cell_type": "code",
   "execution_count": 624,
   "id": "fd575592-20d6-4e2c-bd66-a215d83f8120",
   "metadata": {},
   "outputs": [
    {
     "data": {
      "image/jpeg": "[encoded data removed]",
      "image/png": "[encoded data removed]",
      "text/plain": [
       "<PIL.Image.Image image mode=L size=50x50>"
      ]
     },
     "execution_count": 624,
     "metadata": {},
     "output_type": "execute_result"
    }
   ],
   "source": [
    "horz_bar_image.resize((50, 50))"
   ]
  },
  {
   "cell_type": "code",
   "execution_count": 625,
   "id": "010a76db-b6a1-45d0-8767-0334baead5de",
   "metadata": {},
   "outputs": [
    {
     "data": {
      "image/jpeg": "[encoded data removed]",
      "image/png": "[encoded data removed]",
      "text/plain": [
       "<PIL.Image.Image image mode=L size=50x50>"
      ]
     },
     "execution_count": 625,
     "metadata": {},
     "output_type": "execute_result"
    }
   ],
   "source": [
    "diag_bar_image.resize((50, 50))"
   ]
  },
  {
   "cell_type": "code",
   "execution_count": 626,
   "id": "6b3ab2bc-7bea-47a7-af88-02f25928a908",
   "metadata": {},
   "outputs": [
    {
     "data": {
      "image/jpeg": "[encoded data removed]",
      "image/png": "[encoded data removed]",
      "text/plain": [
       "<PIL.Image.Image image mode=L size=50x50>"
      ]
     },
     "execution_count": 626,
     "metadata": {},
     "output_type": "execute_result"
    }
   ],
   "source": [
    "diag_bar_image2.resize((50, 50))"
   ]
  },
  {
   "cell_type": "code",
   "execution_count": 627,
   "id": "f2b08f37-7e5a-44bc-9a9a-493c04ff78b3",
   "metadata": {},
   "outputs": [],
   "source": [
    "def display_kernel_raw(kernel, precision=1):\n",
    "    kernel = kernel.reshape(IMAGE_SIZE, IMAGE_SIZE)\n",
    "    format_string = '{:4.' + str(precision) + 'f}'\n",
    "    \n",
    "    for r in kernel:\n",
    "        s = ''\n",
    "        for c in r:\n",
    "            # s += ' ' + f'{c:4.1f}'\n",
    "            s += ' ' + format_string.format(c)\n",
    "\n",
    "        print(s)   "
   ]
  },
  {
   "cell_type": "code",
   "execution_count": 628,
   "id": "56112158-046e-4cd6-bab7-415cd45ee8ac",
   "metadata": {},
   "outputs": [],
   "source": [
    "SAMPLES_COUNT = 100\n",
    "data = []\n",
    "\n",
    "# for i in range(SAMPLES_COUNT // 2):\n",
    "#     data.append(np.array(vert_bar_image).ravel())\n",
    "#     # data.append(np.array(vert_bar_image).ravel())\n",
    "#     data.append(np.array(horz_bar_image).ravel())\n",
    "#     data.append(np.array(horz_bar_image).ravel())\n",
    "\n",
    "# data.append(np.array(vert_bar_image).ravel())\n",
    "\n",
    "images = [vert_bar_image, horz_bar_image, diag_bar_image, diag_bar_image2]\n",
    "images =list(map(lambda x: np.array(x).ravel(), images))\n",
    "random_indices = np.random.randint(len(images), size=SAMPLES_COUNT)\n",
    "\n",
    "for i in random_indices:\n",
    "    data.append(images[i])\n",
    "\n",
    "data = np.array(data)"
   ]
  },
  {
   "cell_type": "code",
   "execution_count": 629,
   "id": "7bac8b50-015d-44ef-887d-eede76c384f9",
   "metadata": {},
   "outputs": [
    {
     "data": {
      "text/plain": [
       "((100, 81), array([  0, 255], dtype=uint8))"
      ]
     },
     "execution_count": 629,
     "metadata": {},
     "output_type": "execute_result"
    }
   ],
   "source": [
    "data.shape, np.unique(data)"
   ]
  },
  {
   "cell_type": "code",
   "execution_count": 630,
   "id": "b00d0e88-c7f4-4479-90bf-a6044311324c",
   "metadata": {},
   "outputs": [],
   "source": [
    "scaled_data = preprocessing.scale(data)"
   ]
  },
  {
   "cell_type": "code",
   "execution_count": 631,
   "id": "1ec6935e-3402-44a9-844b-de1cb160142d",
   "metadata": {},
   "outputs": [
    {
     "name": "stdout",
     "output_type": "stream",
     "text": [
      "  0.0  0.0  1.1  1.1  1.1  1.1  1.1  0.0  0.0\n",
      "  0.0 -0.7  1.1  0.6  0.6  1.1  1.1 -0.6  0.0\n",
      " -1.1 -1.1  0.6  0.0  0.0  0.0  0.7 -1.1 -1.1\n",
      " -1.1 -1.1  0.0  0.0  0.0  0.0  0.0 -1.1 -0.6\n",
      " -0.6 -1.1  0.0  0.0  0.0  0.0  0.0 -1.1 -0.6\n",
      " -0.6 -1.1  0.0  0.0  0.0  0.0  0.0 -1.1 -1.1\n",
      " -1.1 -1.1  0.7  0.0  0.0  0.0  0.6 -1.1 -1.1\n",
      "  0.0 -0.6  1.1  1.1  0.6  0.6  1.1 -0.7  0.0\n",
      "  0.0  0.0  1.1  1.1  1.1  1.1  1.1  0.0  0.0\n"
     ]
    }
   ],
   "source": [
    "display_kernel_raw(preprocessing.scale(data)[0])"
   ]
  },
  {
   "cell_type": "code",
   "execution_count": 632,
   "id": "1be8d538-b301-4326-94bb-e866d9680081",
   "metadata": {},
   "outputs": [
    {
     "name": "stdout",
     "output_type": "stream",
     "text": [
      " -1.1 -1.1  0.9  0.9  0.9  0.9  0.9 -1.1 -1.1\n",
      " -1.1 -1.1  0.9  0.9  0.9  0.9  0.9 -1.1 -1.1\n",
      " -1.1 -1.1  0.9  0.9  0.9  0.9  0.9 -1.1 -1.1\n",
      " -1.1 -1.1  0.9  0.9  0.9  0.9  0.9 -1.1 -1.1\n",
      " -1.1 -1.1  0.9  0.9  0.9  0.9  0.9 -1.1 -1.1\n",
      " -1.1 -1.1  0.9  0.9  0.9  0.9  0.9 -1.1 -1.1\n",
      " -1.1 -1.1  0.9  0.9  0.9  0.9  0.9 -1.1 -1.1\n",
      " -1.1 -1.1  0.9  0.9  0.9  0.9  0.9 -1.1 -1.1\n",
      " -1.1 -1.1  0.9  0.9  0.9  0.9  0.9 -1.1 -1.1\n"
     ]
    }
   ],
   "source": [
    "display_kernel_raw(preprocessing.scale(data, axis=1)[0])"
   ]
  },
  {
   "cell_type": "code",
   "execution_count": 633,
   "id": "c20dbfdb-2ef8-499c-ac49-a8e41bc973d5",
   "metadata": {},
   "outputs": [
    {
     "name": "stdout",
     "output_type": "stream",
     "text": [
      " -1.1 -1.1  0.9  0.9  0.9  0.9  0.9 -1.1 -1.1\n",
      " -1.1 -1.1  0.9  0.9  0.9  0.9  0.9 -1.1 -1.1\n",
      " -1.1 -1.1  0.9  0.9  0.9  0.9  0.9 -1.1 -1.1\n",
      " -1.1 -1.1  0.9  0.9  0.9  0.9  0.9 -1.1 -1.1\n",
      " -1.1 -1.1  0.9  0.9  0.9  0.9  0.9 -1.1 -1.1\n",
      " -1.1 -1.1  0.9  0.9  0.9  0.9  0.9 -1.1 -1.1\n",
      " -1.1 -1.1  0.9  0.9  0.9  0.9  0.9 -1.1 -1.1\n",
      " -1.1 -1.1  0.9  0.9  0.9  0.9  0.9 -1.1 -1.1\n",
      " -1.1 -1.1  0.9  0.9  0.9  0.9  0.9 -1.1 -1.1\n"
     ]
    }
   ],
   "source": [
    "display_kernel_raw(preprocessing.scale(data.T).T[0])"
   ]
  },
  {
   "cell_type": "code",
   "execution_count": 634,
   "id": "39591cb0-200f-4f69-9051-cd9ee16e3b65",
   "metadata": {},
   "outputs": [],
   "source": [
    "pca = PCA()\n",
    "pca.fit(scaled_data)\n",
    "pca_data = pca.transform(scaled_data)"
   ]
  },
  {
   "cell_type": "code",
   "execution_count": 635,
   "id": "295a7a95-24d9-4c47-9ad2-30ca9e2379a4",
   "metadata": {},
   "outputs": [
    {
     "data": {
      "image/png": "[encoded data removed]",
      "text/plain": [
       "<Figure size 640x480 with 1 Axes>"
      ]
     },
     "metadata": {},
     "output_type": "display_data"
    }
   ],
   "source": [
    "per_var = np.round(pca.explained_variance_ratio_ * 100, decimals=1)[:10]\n",
    "per_var_names = [f'PC{i+1}' for i in range(len(per_var))]\n",
    "\n",
    "p = plt.bar(per_var_names, per_var)\n",
    "plt.bar_label(p, map(str, per_var))\n",
    "plt.show()"
   ]
  },
  {
   "cell_type": "code",
   "execution_count": 636,
   "id": "258ceb85-4271-4c5c-b956-e94656af63d6",
   "metadata": {},
   "outputs": [
    {
     "name": "stdout",
     "output_type": "stream",
     "text": [
      "  0.0  0.0  0.0  0.0 255.0 255.0 255.0  0.0  0.0\n",
      "  0.0  0.0  0.0 255.0 255.0 255.0 255.0  0.0  0.0\n",
      "  0.0  0.0 255.0 255.0 255.0 255.0 255.0 255.0 255.0\n",
      "  0.0  0.0 255.0 255.0 255.0 255.0 255.0 255.0  0.0\n",
      "  0.0  0.0 255.0 255.0 255.0 255.0 255.0  0.0  0.0\n",
      "  0.0 255.0 255.0 255.0 255.0 255.0 255.0  0.0  0.0\n",
      " 255.0 255.0 255.0 255.0 255.0 255.0 255.0  0.0  0.0\n",
      "  0.0  0.0 255.0 255.0 255.0 255.0  0.0  0.0  0.0\n",
      "  0.0  0.0 255.0 255.0 255.0  0.0  0.0  0.0  0.0\n"
     ]
    },
    {
     "data": {
      "image/jpeg": "[encoded data removed]",
      "image/png": "[encoded data removed]",
      "text/plain": [
       "<PIL.Image.Image image mode=L size=50x50>"
      ]
     },
     "execution_count": 636,
     "metadata": {},
     "output_type": "execute_result"
    }
   ],
   "source": [
    "pc = pca.components_[0].copy()\n",
    "pc *= data.std(axis=0)\n",
    "pc += data.mean(axis=0)\n",
    "pc[pc < 127] = 0\n",
    "pc[pc > 0] = 255\n",
    "display_kernel_raw(pc, 1)\n",
    "Image.frombytes('L', size=(IMAGE_SIZE, IMAGE_SIZE), data=pc.astype(np.uint8)).resize((50, 50))"
   ]
  },
  {
   "cell_type": "code",
   "execution_count": 637,
   "id": "e7b15667-2661-44f4-93f7-9f6aff8d80a9",
   "metadata": {},
   "outputs": [
    {
     "name": "stdout",
     "output_type": "stream",
     "text": [
      "  0.0  0.0 255.0 255.0  0.0  0.0  0.0  0.0  0.0\n",
      "  0.0  0.0 255.0 255.0 255.0  0.0  0.0  0.0  0.0\n",
      " 255.0 255.0 255.0 255.0 255.0 255.0 255.0  0.0  0.0\n",
      " 255.0 255.0 255.0 255.0 255.0 255.0 255.0  0.0  0.0\n",
      "  0.0 255.0 255.0 255.0 255.0 255.0 255.0 255.0  0.0\n",
      "  0.0  0.0 255.0 255.0 255.0 255.0 255.0 255.0 255.0\n",
      "  0.0  0.0 255.0 255.0 255.0 255.0 255.0 255.0 255.0\n",
      "  0.0  0.0  0.0  0.0 255.0 255.0 255.0  0.0  0.0\n",
      "  0.0  0.0  0.0  0.0  0.0 255.0 255.0  0.0  0.0\n"
     ]
    },
    {
     "data": {
      "image/jpeg": "[encoded data removed]",
      "image/png": "[encoded data removed]",
      "text/plain": [
       "<PIL.Image.Image image mode=L size=50x50>"
      ]
     },
     "execution_count": 637,
     "metadata": {},
     "output_type": "execute_result"
    }
   ],
   "source": [
    "pc = pca.components_[1].copy()\n",
    "pc *= data.std(axis=0)\n",
    "pc += data.mean(axis=0)\n",
    "pc[pc < 127] = 0\n",
    "pc[pc > 0] = 255\n",
    "display_kernel_raw(pc, 1)\n",
    "Image.frombytes('L', size=(IMAGE_SIZE, IMAGE_SIZE), data=pc.astype(np.uint8)).resize((50, 50))"
   ]
  },
  {
   "cell_type": "code",
   "execution_count": 638,
   "id": "939f758f-ded2-4842-81dc-ab754f429a58",
   "metadata": {},
   "outputs": [
    {
     "data": {
      "image/png": "[encoded data removed]",
      "text/plain": [
       "<Figure size 640x480 with 1 Axes>"
      ]
     },
     "metadata": {},
     "output_type": "display_data"
    }
   ],
   "source": [
    "z = np.unique_counts(random_indices)\n",
    "plt.bar(list(map(str, z.values)), z.counts)\n",
    "plt.show()"
   ]
  },
  {
   "cell_type": "code",
   "execution_count": null,
   "id": "85498846-9a6f-4ff7-a6b0-f1d0e7a6035c",
   "metadata": {},
   "outputs": [],
   "source": []
  }
 ],
 "metadata": {
  "kernelspec": {
   "display_name": "Python 3 (ipykernel)",
   "language": "python",
   "name": "python3"
  },
  "language_info": {
   "codemirror_mode": {
    "name": "ipython",
    "version": 3
   },
   "file_extension": ".py",
   "mimetype": "text/x-python",
   "name": "python",
   "nbconvert_exporter": "python",
   "pygments_lexer": "ipython3",
   "version": "3.12.2"
  }
 },
 "nbformat": 4,
 "nbformat_minor": 5
}
