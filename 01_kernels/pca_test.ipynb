{
 "cells": [
  {
   "cell_type": "code",
   "execution_count": 403,
   "id": "f8a11af4-e61d-42eb-8fa8-bfda089fe664",
   "metadata": {},
   "outputs": [],
   "source": [
    "from sklearn.decomposition import PCA\n",
    "from sklearn import preprocessing\n",
    "from PIL import Image, ImageDraw\n",
    "import numpy as np\n",
    "import matplotlib.pyplot as plt\n",
    "from decimal import Decimal\n",
    "\n",
    "%run utils.ipynb"
   ]
  },
  {
   "cell_type": "code",
   "execution_count": 91,
   "id": "342dcdda-0caf-4098-a1b4-a78bf3f43d0f",
   "metadata": {},
   "outputs": [
    {
     "data": {
      "text/html": [
       "\n",
       "        <div style=\"display: flex; flex-flow: row wrap; text-align: center;\">\n",
       "        \n",
       "            <figure style=\"margin: 5px !important;\">\n",
       "              <img src=\"data:image/png;base64,iVBORw0KGgoAAAANSUhEUgAAADIAAAAyCAAAAAA7VNdtAAAANklEQVR4nGNkQAFCuuYWRvJIAg/PnTh5+R2KGiYGksGollEto1pGtYxqGdUyqmVUy6iWgdUCAAUzBmS+yPboAAAAAElFTkSuQmCC\" style=\"height: auto\">\n",
       "              \n",
       "            </figure>\n",
       "        \n",
       "            <figure style=\"margin: 5px !important;\">\n",
       "              <img src=\"data:image/png;base64,iVBORw0KGgoAAAANSUhEUgAAADIAAAAyCAAAAAA7VNdtAAAAOUlEQVR4nGNkwASMysYW5tp8CIGv108fP3P7D5THhEULATCqZVTLqJZRLaNaRrWMahnVMqplYLUAALKyB2Q0n0tFAAAAAElFTkSuQmCC\" style=\"height: auto\">\n",
       "              \n",
       "            </figure>\n",
       "        \n",
       "            <figure style=\"margin: 5px !important;\">\n",
       "              <img src=\"data:image/png;base64,iVBORw0KGgoAAAANSUhEUgAAADIAAAAyCAAAAAA7VNdtAAAAOklEQVR4nGNkgAIWVRNLU01uBjj4dPXkibN3/zNgACZMIUJgVMuollEto1pGtYxqGdUyqmVUy8BqAQD/sgdkTcbX1AAAAABJRU5ErkJggg==\" style=\"height: auto\">\n",
       "              \n",
       "            </figure>\n",
       "        \n",
       "            <figure style=\"margin: 5px !important;\">\n",
       "              <img src=\"data:image/png;base64,iVBORw0KGgoAAAANSUhEUgAAADIAAAAyCAAAAAA7VNdtAAAARUlEQVR4nO3UsRUAEBAEUeddBfoQ039EogYqoYYRspP/dEJQ6oUsYeKZk8JJxcQmJxuTiIXI18QXJ4OTxknH5GIXSr3RAf+kBhb9Ab8OAAAAAElFTkSuQmCC\" style=\"height: auto\">\n",
       "              \n",
       "            </figure>\n",
       "        \n",
       "            <figure style=\"margin: 5px !important;\">\n",
       "              <img src=\"data:image/png;base64,iVBORw0KGgoAAAANSUhEUgAAADIAAAAyCAAAAAA7VNdtAAADzUlEQVR4nIXWOW/jVhQF4PO4bxIXUaS1WLI9SAKkSZVqigAp8qNTZaqkT4BgZmJ7PNo3Llq4PzHVGKIpy7ciDvDhEfdePpDgWzm//vb+Xf7vH79/iHGxmOcnkWMJQDheuixOiKbwDAgrKI03CAcAHM/zgmvIHAivWG5Miyynl4mgG7o67OgCIaLZC9UoDIM3iNS+7pnu0BJB5PYd1/Wmozi5TLSr739wm1ZLJIzisq39VMm88CIRjO53P/V4URQI5Hajlz/SYDp7nXBAy+n0hx0AAOF5FTiux+3ltizL8iz5EbDu+o5xGhrt7k0aJlEUH8+R90Czf2tX5ie3BrESeMvF2R5wvwCS2TZIJTQGnBuOxMQ712ruZ4AVJbkSkkavGYWNzJtm58gQACHVkKiSdQzpeqzvzpECIIRhqoRlAWnjdjoxLYqXu8N9BjhZVatvBgCMcXUTqdEuCKMX5E9Atq+6dQLFfcd3/ekofUk+APowkW2mRqQ2MfdzNfe8F+QvoLUX7J5WI7yluMWIepNJdaDcPRDKzsBTAVQbx/MaQNYj2/SAk9XhAPjr+aiVCZIsc7WjzHZ3cDDSJE7oKaHh7J5dNm2HqxPZ6u8FL1ytsgrBYcHvTfeWadb7xurXpBXMHnI/r5BklS7VYdl09RqB1tH624ejP0sqJPN3LJ81u0GH1Igimsc9E0z0oEIozYD5fL4wNYZj2VNHOE6E5l9dXe1yWlD6jQAAwuXIODa1RrN+jxHDGWyFw267jSsk2XxhPMPpM2euPtW5I44/G2dVQoOnaGTdlppTb7VgH5vbxac88CvkuM090co0N64fwxtiO5tQfz6jlVMOERConYFfJ5ymAcJmbJvrUwKUgL+eT+ySEyWRrzYAgOX0lrFeJQCO4fyeXWuWbVcJACjtm0wLawSHOX8w24NSU2qEMW+kblwnyTJbKte56lo1gkbfjIs6Sf0dxx4UZ9A985kKelnWCaUA5Nli0dIZhmWqO8eQEnUCAAjXY5vVlYamVUgWJyl9haSbr8JOt7tdtRLvlys/eYXQcJTOjEGh2OxJWgZf7sfbV0i5o4GkR3K7J56kyfrx70/eK+QYxR5piu4gME7SYDl++Lh6haAsAW81H9sML0gCR4osTfPJeLbcnJnLSYXT/9iNZtmWhtRfe9vF52mQ4SKJFkL0ZA+opDDp5vHLwp/M97hM0k3hKd2i4ZRIvad/ng5hkLxB8iBasQd9kJZlFs4ePmZ5nr9BKE0A2YvyEkUcLJ5/BOrLV61dlNESxzzaP0dvkSQvSqCkRfoc/Q+3cLKQjiinvAAAAABJRU5ErkJggg==\" style=\"height: auto\">\n",
       "              \n",
       "            </figure>\n",
       "        \n",
       "            <figure style=\"margin: 5px !important;\">\n",
       "              <img src=\"data:image/png;base64,iVBORw0KGgoAAAANSUhEUgAAADIAAAAyCAAAAAA7VNdtAAADZ0lEQVR4nH3WSZPaRhQA4F4lhBZAEHbIGJfjqbL/QA6p/PVckh+QQzxJBTJmwAwMCAkJtLS6lQPLSJge3fRef3r91K0GCKTX6Jdff/4IAQAg+PP33/5wz3EkJwrF8DwKU/USl5OSodFTFmK1bF4S5NZoTCjFVrOinbJQMertMGGMpUJCFNOyyta7dkU5TaXc+DGu7D3XCxIJUe1up261h/apAWy0uXHnzqcglhCo1e8+DC3TrmnH/pHR0Tvh0hLBVtaLag/uP1pEVS4TU6tczJKXGZERotvdoZ4ri7ECMqusEighWYaopucDKUsYX233iZBViVNRuBcH1/X2q8nST2WEJSwRuUXm/uLrfO0+zz0mI4IzFms5Eiz++TI7BEEgJSWKBMsRcdhM/x4zwcWNXiDBhOBWTacwH+XhzvHOd1cE66ZlaN1Bo5zfrxRDwYCEELPbaVv1ftvAeaJQgqTE6v40aupV2ywkKM19L9fEaI4+9YmiqoUPSUBCYXaboFK1ORgWQhkA+yBMAU5vEwGJZuYDaRRHcTBb+8m5yDWJmchgIeBuHNefTzeRrJckSRgrBJzp14XnLNehrIoQKUsKVbZPX8ZuGPhSUqIoS/MB5i8fH7acc36DIIwxrtnm1euNfWcVFh57IVA1TEOr3rVMWshDwSIgIVqj07IrnUFNzecVShDiUvLufc+s2raSz1OqKIpkYqBUH96/N9SSWqiSQURVWS+K2eiPdAAKKwn8MM2uzu0L4YBohpFPsTiK09nKjYSEZOz6ccxZO8FqsgpSCQExK24VEL1Mpi/e82InJSJlCcuvyWE5/uspDHa+lFCU8TwR7vPjw4SnKeffE4gQRtS2NHzaR0IIIbzlcrHYgO8vAgAgZcMwyv1h/XyssP1+H3qT2dq7IQABANBKu9euNnqd87ESOcvl1nuabmI5Gdx/aOqVqnkkWbR5HM89Z+VxGSFma/S5h6ly/gWOnaeHf3fR4ZDJCFL0WrOV2yjMf3ka77Isk5IsjQ+7HcIEo6PjyWG3vTn8TNJg9Z+y0UzLLJ+ayQSXCkAAAMyboV3V7vZg6UggRFgqTgTsv+ndAFu14+pDRKh68wW/TizeUsVTf+iftjlEmNI3iUgSAIC2CS6HKIRQ/n/oNeMf4jd6vklixsUbA1+v/wF/9I+6fWNHCwAAAABJRU5ErkJggg==\" style=\"height: auto\">\n",
       "              \n",
       "            </figure>\n",
       "        \n",
       "        </div>\n",
       "    "
      ],
      "text/plain": [
       "<IPython.core.display.HTML object>"
      ]
     },
     "execution_count": 91,
     "metadata": {},
     "output_type": "execute_result"
    }
   ],
   "source": [
    "IMAGE_SIZE = 9\n",
    "vert_bar_image = Image.new('L', (IMAGE_SIZE, IMAGE_SIZE))\n",
    "\n",
    "center_pt = IMAGE_SIZE // 2\n",
    "coords = [\n",
    "    (center_pt - 1, 0),\n",
    "    (center_pt + 1, IMAGE_SIZE - 1)\n",
    "]\n",
    "ImageDraw.Draw(vert_bar_image).rectangle(coords, outline=255, fill=255)\n",
    "\n",
    "vert_bar_image2 = Image.new('L', (IMAGE_SIZE, IMAGE_SIZE))\n",
    "coords = [\n",
    "    (center_pt - 1 + 1, 0),\n",
    "    (center_pt + 1 + 1, IMAGE_SIZE - 1)\n",
    "]\n",
    "ImageDraw.Draw(vert_bar_image2).rectangle(coords, outline=255, fill=255)\n",
    "\n",
    "vert_bar_image3 = Image.new('L', (IMAGE_SIZE, IMAGE_SIZE))\n",
    "coords = [\n",
    "    (center_pt - 1 - 1, 0),\n",
    "    (center_pt + 1 - 1, IMAGE_SIZE - 1)\n",
    "]\n",
    "ImageDraw.Draw(vert_bar_image3).rectangle(coords, outline=255, fill=255)\n",
    "\n",
    "horz_bar_image = vert_bar_image.rotate(90)\n",
    "diag_bar_image = vert_bar_image.rotate(45)\n",
    "diag_bar_image2 = vert_bar_image.rotate(-30)\n",
    "\n",
    "all_images = [vert_bar_image, vert_bar_image2, vert_bar_image3, horz_bar_image, diag_bar_image, diag_bar_image2]\n",
    "display_images(list(map(lambda x: x.resize((50, 50)), all_images)))"
   ]
  },
  {
   "cell_type": "code",
   "execution_count": 92,
   "id": "f2b08f37-7e5a-44bc-9a9a-493c04ff78b3",
   "metadata": {},
   "outputs": [],
   "source": [
    "def display_kernel_raw(kernel, precision=1):\n",
    "    kernel = kernel.reshape(IMAGE_SIZE, IMAGE_SIZE)\n",
    "    format_string = '{:4.' + str(precision) + 'f}'\n",
    "    \n",
    "    for r in kernel:\n",
    "        s = ''\n",
    "        for c in r:\n",
    "            # s += ' ' + f'{c:4.1f}'\n",
    "            s += ' ' + format_string.format(c)\n",
    "\n",
    "        print(s)   "
   ]
  },
  {
   "cell_type": "code",
   "execution_count": null,
   "id": "94f9a959-e9c4-4f2e-82e4-46e19cff35bd",
   "metadata": {},
   "outputs": [],
   "source": []
  },
  {
   "cell_type": "code",
   "execution_count": 93,
   "id": "56112158-046e-4cd6-bab7-415cd45ee8ac",
   "metadata": {},
   "outputs": [
    {
     "data": {
      "text/html": [
       "\n",
       "        <div style=\"display: flex; flex-flow: row wrap; text-align: center;\">\n",
       "        \n",
       "            <figure style=\"margin: 5px !important;\">\n",
       "              <img src=\"data:image/png;base64,iVBORw0KGgoAAAANSUhEUgAAADIAAAAyCAAAAAA7VNdtAAAANklEQVR4nGNkQAFCuuYWRvJIAg/PnTh5+R2KGiYGksGollEto1pGtYxqGdUyqmVUy6iWgdUCAAUzBmS+yPboAAAAAElFTkSuQmCC\" style=\"height: auto\">\n",
       "              <figcaption style=\"font-size: 0.6em\">23</figcaption>\n",
       "            </figure>\n",
       "        \n",
       "            <figure style=\"margin: 5px !important;\">\n",
       "              <img src=\"data:image/png;base64,iVBORw0KGgoAAAANSUhEUgAAADIAAAAyCAAAAAA7VNdtAAAANklEQVR4nGNkQAFCuuYWRvJIAg/PnTh5+R2KGiYGksGollEto1pGtYxqGdUyqmVUy6iWgdUCAAUzBmS+yPboAAAAAElFTkSuQmCC\" style=\"height: auto\">\n",
       "              <figcaption style=\"font-size: 0.6em\">31</figcaption>\n",
       "            </figure>\n",
       "        \n",
       "            <figure style=\"margin: 5px !important;\">\n",
       "              <img src=\"data:image/png;base64,iVBORw0KGgoAAAANSUhEUgAAADIAAAAyCAAAAAA7VNdtAAAARUlEQVR4nO3UsRUAEBAEUeddBfoQ039EogYqoYYRspP/dEJQ6oUsYeKZk8JJxcQmJxuTiIXI18QXJ4OTxknH5GIXSr3RAf+kBhb9Ab8OAAAAAElFTkSuQmCC\" style=\"height: auto\">\n",
       "              <figcaption style=\"font-size: 0.6em\">46</figcaption>\n",
       "            </figure>\n",
       "        \n",
       "        </div>\n",
       "    "
      ],
      "text/plain": [
       "<IPython.core.display.HTML object>"
      ]
     },
     "execution_count": 93,
     "metadata": {},
     "output_type": "execute_result"
    }
   ],
   "source": [
    "images_source = [vert_bar_image, vert_bar_image, horz_bar_image]\n",
    "images_source_caps = np.zeros(len(images_source), dtype=np.int32)\n",
    "SAMPLES_COUNT = 100\n",
    "data = []\n",
    "images = list(map(lambda x: np.array(x).ravel(), images_source))\n",
    "random_indices = np.random.randint(len(images), size=SAMPLES_COUNT)\n",
    "\n",
    "for i in random_indices:\n",
    "    data.append(images[i])\n",
    "    images_source_caps[i] += 1\n",
    "\n",
    "data = np.array(data)\n",
    "display_images(list(map(lambda x: x.resize((50, 50)), images_source)), captions=images_source_caps)"
   ]
  },
  {
   "cell_type": "code",
   "execution_count": 94,
   "id": "7bac8b50-015d-44ef-887d-eede76c384f9",
   "metadata": {},
   "outputs": [
    {
     "data": {
      "text/plain": [
       "((100, 81), array([  0, 255], dtype=uint8))"
      ]
     },
     "execution_count": 94,
     "metadata": {},
     "output_type": "execute_result"
    }
   ],
   "source": [
    "data.shape, np.unique(data)"
   ]
  },
  {
   "cell_type": "code",
   "execution_count": 95,
   "id": "b00d0e88-c7f4-4479-90bf-a6044311324c",
   "metadata": {},
   "outputs": [],
   "source": [
    "scaled_data = preprocessing.scale(data)"
   ]
  },
  {
   "cell_type": "code",
   "execution_count": 96,
   "id": "1ec6935e-3402-44a9-844b-de1cb160142d",
   "metadata": {},
   "outputs": [
    {
     "name": "stdout",
     "output_type": "stream",
     "text": [
      "  0.0  0.0  0.0  0.9  0.9  0.9  0.0  0.0  0.0\n",
      "  0.0  0.0  0.0  0.9  0.9  0.9  0.0  0.0  0.0\n",
      "  0.0  0.0  0.0  0.9  0.9  0.9  0.0  0.0  0.0\n",
      " -0.9 -0.9 -0.9  0.0  0.0  0.0 -0.9 -0.9 -0.9\n",
      " -0.9 -0.9 -0.9  0.0  0.0  0.0 -0.9 -0.9 -0.9\n",
      " -0.9 -0.9 -0.9  0.0  0.0  0.0 -0.9 -0.9 -0.9\n",
      "  0.0  0.0  0.0  0.9  0.9  0.9  0.0  0.0  0.0\n",
      "  0.0  0.0  0.0  0.9  0.9  0.9  0.0  0.0  0.0\n",
      "  0.0  0.0  0.0  0.9  0.9  0.9  0.0  0.0  0.0\n"
     ]
    }
   ],
   "source": [
    "display_kernel_raw(preprocessing.scale(data)[0])"
   ]
  },
  {
   "cell_type": "code",
   "execution_count": 97,
   "id": "1be8d538-b301-4326-94bb-e866d9680081",
   "metadata": {},
   "outputs": [
    {
     "name": "stdout",
     "output_type": "stream",
     "text": [
      " -0.7 -0.7 -0.7  1.4  1.4  1.4 -0.7 -0.7 -0.7\n",
      " -0.7 -0.7 -0.7  1.4  1.4  1.4 -0.7 -0.7 -0.7\n",
      " -0.7 -0.7 -0.7  1.4  1.4  1.4 -0.7 -0.7 -0.7\n",
      " -0.7 -0.7 -0.7  1.4  1.4  1.4 -0.7 -0.7 -0.7\n",
      " -0.7 -0.7 -0.7  1.4  1.4  1.4 -0.7 -0.7 -0.7\n",
      " -0.7 -0.7 -0.7  1.4  1.4  1.4 -0.7 -0.7 -0.7\n",
      " -0.7 -0.7 -0.7  1.4  1.4  1.4 -0.7 -0.7 -0.7\n",
      " -0.7 -0.7 -0.7  1.4  1.4  1.4 -0.7 -0.7 -0.7\n",
      " -0.7 -0.7 -0.7  1.4  1.4  1.4 -0.7 -0.7 -0.7\n"
     ]
    }
   ],
   "source": [
    "display_kernel_raw(preprocessing.scale(data, axis=1)[0])"
   ]
  },
  {
   "cell_type": "code",
   "execution_count": 98,
   "id": "c20dbfdb-2ef8-499c-ac49-a8e41bc973d5",
   "metadata": {},
   "outputs": [
    {
     "name": "stdout",
     "output_type": "stream",
     "text": [
      " -0.7 -0.7 -0.7  1.4  1.4  1.4 -0.7 -0.7 -0.7\n",
      " -0.7 -0.7 -0.7  1.4  1.4  1.4 -0.7 -0.7 -0.7\n",
      " -0.7 -0.7 -0.7  1.4  1.4  1.4 -0.7 -0.7 -0.7\n",
      " -0.7 -0.7 -0.7  1.4  1.4  1.4 -0.7 -0.7 -0.7\n",
      " -0.7 -0.7 -0.7  1.4  1.4  1.4 -0.7 -0.7 -0.7\n",
      " -0.7 -0.7 -0.7  1.4  1.4  1.4 -0.7 -0.7 -0.7\n",
      " -0.7 -0.7 -0.7  1.4  1.4  1.4 -0.7 -0.7 -0.7\n",
      " -0.7 -0.7 -0.7  1.4  1.4  1.4 -0.7 -0.7 -0.7\n",
      " -0.7 -0.7 -0.7  1.4  1.4  1.4 -0.7 -0.7 -0.7\n"
     ]
    }
   ],
   "source": [
    "display_kernel_raw(preprocessing.scale(data.T).T[0])"
   ]
  },
  {
   "cell_type": "code",
   "execution_count": 99,
   "id": "39591cb0-200f-4f69-9051-cd9ee16e3b65",
   "metadata": {},
   "outputs": [],
   "source": [
    "pca = PCA() #svd_solver='randomized')\n",
    "pca.fit(scaled_data)\n",
    "pca_data = pca.transform(scaled_data)"
   ]
  },
  {
   "cell_type": "code",
   "execution_count": 100,
   "id": "295a7a95-24d9-4c47-9ad2-30ca9e2379a4",
   "metadata": {},
   "outputs": [
    {
     "data": {
      "image/png": "[encoded data removed]",
      "text/plain": [
       "<Figure size 1200x800 with 1 Axes>"
      ]
     },
     "metadata": {},
     "output_type": "display_data"
    }
   ],
   "source": [
    "per_var = np.round(pca.explained_variance_ratio_ * 100, decimals=1)[:10]\n",
    "per_var_names = [f'PC{i+1}' for i in range(len(per_var))]\n",
    "\n",
    "p = plt.bar(per_var_names, per_var)\n",
    "plt.bar_label(p, map(str, per_var))\n",
    "plt.show()"
   ]
  },
  {
   "cell_type": "code",
   "execution_count": 101,
   "id": "258ceb85-4271-4c5c-b956-e94656af63d6",
   "metadata": {},
   "outputs": [
    {
     "data": {
      "text/html": [
       "\n",
       "        <div style=\"display: flex; flex-flow: row wrap; text-align: center;\">\n",
       "        \n",
       "            <figure style=\"margin: 5px !important;\">\n",
       "              <img src=\"data:image/png;base64,iVBORw0KGgoAAAANSUhEUgAAADIAAAAyCAAAAAA7VNdtAAAANklEQVR4nGNkQAFCuuYWRvJIAg/PnTh5+R2KGiYGksGollEto1pGtYxqGdUyqmVUy6iWgdUCAAUzBmS+yPboAAAAAElFTkSuQmCC\" style=\"height: auto\">\n",
       "              <figcaption style=\"font-size: 0.6em\">100.0</figcaption>\n",
       "            </figure>\n",
       "        \n",
       "        </div>\n",
       "    "
      ],
      "text/plain": [
       "<IPython.core.display.HTML object>"
      ]
     },
     "execution_count": 101,
     "metadata": {},
     "output_type": "execute_result"
    }
   ],
   "source": [
    "pc_imgs = []\n",
    "pc_caps = []\n",
    "evr_cumsum = np.cumsum(pca.explained_variance_ratio_)\n",
    "\n",
    "for i, cumsum in zip(range(10), evr_cumsum):\n",
    "    pc = pca.components_[i].copy()\n",
    "    pc *= data.std(axis=0)\n",
    "    pc += data.mean(axis=0)\n",
    "    pc[pc < 127] = 0\n",
    "    pc[pc > 0] = 255\n",
    "    # display_kernel_raw(pc, 1)\n",
    "    pc_imgs.append(Image.frombytes('L', size=(IMAGE_SIZE, IMAGE_SIZE), data=pc.astype(np.uint8)).resize((50, 50)))\n",
    "    pc_caps.append(f'{pca.explained_variance_ratio_[i] * 100:.1f}')\n",
    "\n",
    "    if cumsum >= 1:\n",
    "        break\n",
    "\n",
    "display_images(pc_imgs, captions=pc_caps)"
   ]
  },
  {
   "cell_type": "code",
   "execution_count": 102,
   "id": "e6e30ee7-962a-4770-a337-f68676846291",
   "metadata": {},
   "outputs": [
    {
     "data": {
      "text/plain": [
       "((100, 81), (81,), (81, 81))"
      ]
     },
     "execution_count": 102,
     "metadata": {},
     "output_type": "execute_result"
    }
   ],
   "source": [
    "scaled_data.shape, scaled_data[0].shape, pca.components_.shape"
   ]
  },
  {
   "cell_type": "code",
   "execution_count": 103,
   "id": "85498846-9a6f-4ff7-a6b0-f1d0e7a6035c",
   "metadata": {},
   "outputs": [
    {
     "data": {
      "text/plain": [
       "array([1, 1, 0, 0, 1, 2, 2, 1, 2, 2, 1, 1, 2, 2, 2, 1, 1, 0, 0, 2, 2, 2,\n",
       "       1, 2, 2, 2, 1, 0, 1, 2, 0, 2, 1, 1, 2, 2, 1, 1, 0, 2, 1, 2, 1, 2,\n",
       "       2, 0, 2, 2, 0, 1, 2, 0, 0, 0, 0, 2, 0, 1, 0, 2, 2, 1, 1, 2, 2, 1,\n",
       "       2, 0, 0, 2, 2, 0, 1, 0, 0, 2, 1, 2, 1, 2, 2, 1, 1, 2, 2, 2, 2, 0,\n",
       "       2, 0, 0, 2, 2, 2, 2, 1, 1, 1, 1, 2])"
      ]
     },
     "execution_count": 103,
     "metadata": {},
     "output_type": "execute_result"
    }
   ],
   "source": [
    "random_indices"
   ]
  },
  {
   "cell_type": "code",
   "execution_count": 104,
   "id": "8127701a-96d5-4a0e-8dbd-fba13336edb2",
   "metadata": {},
   "outputs": [
    {
     "data": {
      "text/plain": [
       "array([ 5.54,  0.  ,  0.  , -0.  ,  0.  ,  0.  , -0.  , -0.  , -0.  ,\n",
       "        0.  , -0.  ,  0.  , -0.  , -0.  ,  0.  ,  0.  , -0.  ,  0.  ,\n",
       "       -0.  , -0.  ,  0.  ,  0.  , -0.  ,  0.  ,  0.  ,  0.  , -0.  ,\n",
       "       -0.  ,  0.  ,  0.  , -0.  ,  0.  , -0.  ,  0.  , -0.  ,  0.  ,\n",
       "        0.  ,  0.  ,  0.  , -0.  ,  0.  , -0.  ,  0.  , -0.  , -0.  ,\n",
       "       -0.  ,  0.  , -0.  ,  0.  , -0.  ,  0.  , -0.  ,  0.  , -0.  ,\n",
       "        0.  ,  0.  , -0.  ,  0.  , -0.  ,  0.  ,  0.  , -0.  , -0.  ,\n",
       "        0.  , -0.  ,  0.  , -0.  , -0.  ,  0.  ,  0.  ,  0.  ,  0.  ,\n",
       "        0.  ,  0.  ,  0.  , -0.  ,  0.  ,  0.  ,  0.  ,  0.  , -0.  ])"
      ]
     },
     "execution_count": 104,
     "metadata": {},
     "output_type": "execute_result"
    }
   ],
   "source": [
    "z = np.round(scaled_data[1] @ pca.components_.T, decimals=2)\n",
    "z"
   ]
  },
  {
   "cell_type": "code",
   "execution_count": 105,
   "id": "20c073d5-6aa3-429c-a550-3fc78cbd6ffa",
   "metadata": {},
   "outputs": [
    {
     "data": {
      "text/plain": [
       "True"
      ]
     },
     "execution_count": 105,
     "metadata": {},
     "output_type": "execute_result"
    }
   ],
   "source": [
    "np.array_equal(np.round(scaled_data[0] @ pca.components_.T, decimals=3), np.round(pca_data[0], decimals=3))"
   ]
  },
  {
   "cell_type": "code",
   "execution_count": 106,
   "id": "94fc6d3e-12fd-4b8f-b9bf-6f8d49f07d55",
   "metadata": {},
   "outputs": [
    {
     "name": "stdout",
     "output_type": "stream",
     "text": [
      "  0.0  0.0  0.0  0.9  0.9  0.9  0.0  0.0  0.0\n",
      "  0.0  0.0  0.0  0.9  0.9  0.9  0.0  0.0  0.0\n",
      "  0.0  0.0  0.0  0.9  0.9  0.9  0.0  0.0  0.0\n",
      " -0.9 -0.9 -0.9  0.0  0.0  0.0 -0.9 -0.9 -0.9\n",
      " -0.9 -0.9 -0.9  0.0  0.0  0.0 -0.9 -0.9 -0.9\n",
      " -0.9 -0.9 -0.9  0.0  0.0  0.0 -0.9 -0.9 -0.9\n",
      "  0.0  0.0  0.0  0.9  0.9  0.9  0.0  0.0  0.0\n",
      "  0.0  0.0  0.0  0.9  0.9  0.9  0.0  0.0  0.0\n",
      "  0.0  0.0  0.0  0.9  0.9  0.9  0.0  0.0  0.0\n"
     ]
    }
   ],
   "source": [
    "display_kernel_raw(z @ pca.components_)"
   ]
  },
  {
   "cell_type": "code",
   "execution_count": 107,
   "id": "57df4601-8253-4ea4-9826-8de0b45a9108",
   "metadata": {},
   "outputs": [
    {
     "name": "stdout",
     "output_type": "stream",
     "text": [
      "  0.0  0.0  0.0  0.9  0.9  0.9  0.0  0.0  0.0\n",
      "  0.0  0.0  0.0  0.9  0.9  0.9  0.0  0.0  0.0\n",
      "  0.0  0.0  0.0  0.9  0.9  0.9  0.0  0.0  0.0\n",
      " -0.9 -0.9 -0.9  0.0  0.0  0.0 -0.9 -0.9 -0.9\n",
      " -0.9 -0.9 -0.9  0.0  0.0  0.0 -0.9 -0.9 -0.9\n",
      " -0.9 -0.9 -0.9  0.0  0.0  0.0 -0.9 -0.9 -0.9\n",
      "  0.0  0.0  0.0  0.9  0.9  0.9  0.0  0.0  0.0\n",
      "  0.0  0.0  0.0  0.9  0.9  0.9  0.0  0.0  0.0\n",
      "  0.0  0.0  0.0  0.9  0.9  0.9  0.0  0.0  0.0\n"
     ]
    }
   ],
   "source": [
    "display_kernel_raw(scaled_data[0], 1)"
   ]
  },
  {
   "cell_type": "code",
   "execution_count": 108,
   "id": "492b4a11-6eee-4286-a7c2-d9274866ec45",
   "metadata": {},
   "outputs": [
    {
     "data": {
      "text/plain": [
       "array([ 5.54,  0.  ,  0.  , -0.  ,  0.  ,  0.  , -0.  , -0.  , -0.  ,\n",
       "        0.  , -0.  ,  0.  , -0.  ,  0.  ,  0.  ,  0.  , -0.  ,  0.  ,\n",
       "       -0.  , -0.  ,  0.  ,  0.  , -0.  ,  0.  ,  0.  ,  0.  , -0.  ,\n",
       "       -0.  ,  0.  ,  0.  , -0.  ,  0.  , -0.  ,  0.  , -0.  ,  0.  ,\n",
       "        0.  , -0.  , -0.  , -0.  ,  0.  , -0.  , -0.  , -0.  ,  0.  ,\n",
       "       -0.  , -0.  ,  0.  , -0.  , -0.  ,  0.  ,  0.  , -0.  , -0.  ,\n",
       "        0.  ,  0.  , -0.  ,  0.  ,  0.  ,  0.  ,  0.  ,  0.  , -0.  ,\n",
       "        0.  , -0.  ,  0.  , -0.  ,  0.  ,  0.  ,  0.  ,  0.  ,  0.  ,\n",
       "        0.  ,  0.  ,  0.  , -0.  ,  0.  ,  0.  ,  0.  ,  0.  , -0.  ])"
      ]
     },
     "execution_count": 108,
     "metadata": {},
     "output_type": "execute_result"
    }
   ],
   "source": [
    "np.round(pca_data[0], decimals=2)"
   ]
  },
  {
   "cell_type": "code",
   "execution_count": 109,
   "id": "2a3ecab6-16f5-44dc-aaab-ac1ff66f1eba",
   "metadata": {},
   "outputs": [
    {
     "data": {
      "text/plain": [
       "array([ 5.54,  0.  ,  0.  , -0.  ,  0.  ,  0.  , -0.  , -0.  , -0.  ,\n",
       "        0.  , -0.  ,  0.  , -0.  ,  0.  ,  0.  ,  0.  , -0.  ,  0.  ,\n",
       "       -0.  , -0.  ,  0.  ,  0.  , -0.  ,  0.  ,  0.  ,  0.  , -0.  ,\n",
       "       -0.  ,  0.  ,  0.  , -0.  ,  0.  , -0.  ,  0.  , -0.  ,  0.  ,\n",
       "        0.  , -0.  , -0.  , -0.  ,  0.  , -0.  , -0.  , -0.  ,  0.  ,\n",
       "       -0.  , -0.  ,  0.  , -0.  , -0.  ,  0.  ,  0.  , -0.  , -0.  ,\n",
       "        0.  ,  0.  , -0.  ,  0.  ,  0.  ,  0.  ,  0.  ,  0.  , -0.  ,\n",
       "        0.  , -0.  ,  0.  , -0.  ,  0.  ,  0.  ,  0.  ,  0.  ,  0.  ,\n",
       "        0.  ,  0.  ,  0.  , -0.  ,  0.  ,  0.  ,  0.  ,  0.  , -0.  ])"
      ]
     },
     "execution_count": 109,
     "metadata": {},
     "output_type": "execute_result"
    }
   ],
   "source": [
    "np.round(pca_data[1], decimals=2)"
   ]
  },
  {
   "cell_type": "code",
   "execution_count": 110,
   "id": "e4058042-5aa3-46a0-8892-4c7f21cca912",
   "metadata": {},
   "outputs": [
    {
     "data": {
      "text/plain": [
       "array([ 5.54,  0.  ,  0.  , -0.  ,  0.  ,  0.  , -0.  , -0.  , -0.  ,\n",
       "        0.  , -0.  ,  0.  , -0.  ,  0.  ,  0.  ,  0.  , -0.  ,  0.  ,\n",
       "       -0.  , -0.  ,  0.  ,  0.  , -0.  ,  0.  ,  0.  ,  0.  , -0.  ,\n",
       "       -0.  ,  0.  ,  0.  , -0.  ,  0.  , -0.  ,  0.  , -0.  ,  0.  ,\n",
       "        0.  , -0.  , -0.  , -0.  ,  0.  , -0.  , -0.  , -0.  ,  0.  ,\n",
       "       -0.  , -0.  ,  0.  , -0.  , -0.  ,  0.  ,  0.  , -0.  , -0.  ,\n",
       "        0.  ,  0.  , -0.  ,  0.  ,  0.  ,  0.  ,  0.  ,  0.  , -0.  ,\n",
       "        0.  , -0.  ,  0.  , -0.  ,  0.  ,  0.  ,  0.  ,  0.  ,  0.  ,\n",
       "        0.  ,  0.  ,  0.  , -0.  ,  0.  ,  0.  ,  0.  ,  0.  , -0.  ])"
      ]
     },
     "execution_count": 110,
     "metadata": {},
     "output_type": "execute_result"
    }
   ],
   "source": [
    "np.round(pca_data[2], decimals=2)"
   ]
  },
  {
   "cell_type": "code",
   "execution_count": 111,
   "id": "6a4e31a2-7db1-4c91-9eaf-b0544d3e0ec6",
   "metadata": {},
   "outputs": [
    {
     "data": {
      "text/plain": [
       "array([ 5.54,  0.  ,  0.  , -0.  ,  0.  ,  0.  , -0.  , -0.  , -0.  ,\n",
       "        0.  , -0.  ,  0.  , -0.  ,  0.  ,  0.  ,  0.  , -0.  ,  0.  ,\n",
       "       -0.  , -0.  ,  0.  ,  0.  , -0.  ,  0.  ,  0.  ,  0.  , -0.  ,\n",
       "       -0.  ,  0.  ,  0.  , -0.  ,  0.  , -0.  ,  0.  , -0.  ,  0.  ,\n",
       "        0.  , -0.  , -0.  , -0.  ,  0.  , -0.  , -0.  , -0.  ,  0.  ,\n",
       "       -0.  , -0.  ,  0.  , -0.  , -0.  ,  0.  ,  0.  , -0.  , -0.  ,\n",
       "        0.  ,  0.  , -0.  ,  0.  ,  0.  ,  0.  ,  0.  ,  0.  , -0.  ,\n",
       "        0.  , -0.  ,  0.  , -0.  ,  0.  ,  0.  ,  0.  ,  0.  ,  0.  ,\n",
       "        0.  ,  0.  ,  0.  , -0.  ,  0.  ,  0.  ,  0.  ,  0.  , -0.  ])"
      ]
     },
     "execution_count": 111,
     "metadata": {},
     "output_type": "execute_result"
    }
   ],
   "source": [
    "np.round(pca_data[3], decimals=2)"
   ]
  },
  {
   "cell_type": "code",
   "execution_count": 112,
   "id": "65dc12e4-5aae-4da1-ad2b-099f2fbd9e3b",
   "metadata": {},
   "outputs": [
    {
     "data": {
      "text/html": [
       "\n",
       "        <div style=\"display: flex; flex-flow: row wrap; text-align: center;\">\n",
       "        \n",
       "            <figure style=\"margin: 5px !important;\">\n",
       "              <img src=\"data:image/png;base64,iVBORw0KGgoAAAANSUhEUgAAADIAAAAyCAAAAAA7VNdtAAAByElEQVR4nO2Uu44VMQyGf19mU63EC9Aj0SDe/xkQDRI9L4BElY0vFJmZTM7MHnYltNW6iu18+m3HCmGyD5++fP388VGsNixF/c+vH9++//w93WG82t6RN0B0djMzMwEgb/x/qPRr58v3VTKRr1G5bzcqtBqIQMObkSGTAImIiBCxBIRp9TmBweky2gjIsizLsgiLAiqM7quDh5aW7RTuWEoppTwIExiiTA+llFIWQITPiButSFFiUpAQoyMJVTkXxghoL4QBThAB1Asz6DKQMTJniKrqIQRWVVVhsOzRMTEmAjEzT0/FzLxmRjnTs+DS5vD0LLjcqduU5pQ5rVQPTMxAtuW9QHrmupcXme6tEW1becxvkUNYDxc25oSAcBgbH4F7Qx6puZc7Qz70EtspMpEREXHMR0SsmR2x7eQRcDMzMwayr2WYmZkHwodK2xELWGuttaaUniCh7AELGIZK3UtwB9Vaa63gMIckR/ebIYPPSGYAtdZanzS9GRQSTx1xpI932QtDAtkLc7g1gMm7b4k4fBfTfNLd3T0z3MGRqx/ToC9/y8z+W+7eZP/rtwSwLdbFb3mpsi/v5c49p7Ku4YtV7ts78gbIX9aWHqvlXfi9AAAAAElFTkSuQmCC\" style=\"height: auto\">\n",
       "              <figcaption style=\"font-size: 0.6em\">-8</figcaption>\n",
       "            </figure>\n",
       "        \n",
       "            <figure style=\"margin: 5px !important;\">\n",
       "              <img src=\"data:image/png;base64,iVBORw0KGgoAAAANSUhEUgAAADIAAAAyCAAAAAA7VNdtAAAA5UlEQVR4nO2UMW4CQQxF33cQSs0FcoA0aZL716Sh4QBcgBqlsFNs1rOzOyxEQiuEcPe9fvvHI49FFZv3z6+Pt1fwH9YGp8Nu+70/VjXGv+OJPAyyqmVERARAjPQtXSRJAtBID5DUcQHRFCFmkeK1ymY8QGZmZoAMAZ1WgGyKBH3J0KX/RRNxrnXJI2q+fbXaz5J2ItMLzVg9QJORKolM3+97eaBLLkhkRQgIRLULCuJDJNzd3V8gHBN0uvvURsiKfsO4uzszyJ8L8y6tXgYuI33uxtqrr7TPtUjGMtvybt/LE1kA+QWEK6yMbBvesQAAAABJRU5ErkJggg==\" style=\"height: auto\">\n",
       "              <figcaption style=\"font-size: 0.6em\">-7</figcaption>\n",
       "            </figure>\n",
       "        \n",
       "            <figure style=\"margin: 5px !important;\">\n",
       "              <img src=\"data:image/png;base64,iVBORw0KGgoAAAANSUhEUgAAADIAAAAyCAAAAAA7VNdtAAAAvklEQVR4nO2WMQ7DIAxFvw0n6DG6N/ef26lL9x6iHRqBu6EYpwpmiKgUTxbigW2+AYIyosBMBAgAAkRyTiJqDsNtB7IDQmbAHKWsYEOayQWocrHIqbgC0A8ly3LteNYrNIg/Xvy7TBphDrzMT3LKWSP08CMvi6jIVxC/HPZRcpyLKwBRsHKQVBW5QtJ2+j0t9nEHNm6R38VtFUx8WmRDlvHuR64aaWmxm4q8pZE7rouOS2lY63gsKuT4Kvwv8gV0LqgK5fOcpAAAAABJRU5ErkJggg==\" style=\"height: auto\">\n",
       "              <figcaption style=\"font-size: 0.6em\">-6</figcaption>\n",
       "            </figure>\n",
       "        \n",
       "            <figure style=\"margin: 5px !important;\">\n",
       "              <img src=\"data:image/png;base64,iVBORw0KGgoAAAANSUhEUgAAADIAAAAyCAAAAAA7VNdtAAABSklEQVR4nO2WMWrEQAxFv2R53OYCqQOpQu5/hpAqF0idKpVlWUqxEFsyrNfLEgisKhvr8aXRH2FCCm5taMJABIgANx1VPefgcNyRP0Akv7pxx1iP0sz8LAIDwdP01c6rAFaRStygF1C1ZccaJeUhi17gZHk6jrwszwHiNgxNCAgABITpOKoHaIW8LkCAutZOCE5ZYTqqzgFaIHk+rvJYVIahdavCZx3HokJfFVkDADBXRDghzJvZMnNkxBIS3PUFMbOiorkwEGVDmG5ObEqIEzOl9qdpmjJyjS1/Sz8V1vd9OrKudw/OhbWMtFa8LREovUhGZHPnZHbKiCeE3Oso3d0z8l0K013DyOfy+VJbftT2983/dlzlPfV6yUW+Yl0QcmyWko6bpYQafUGmmnCDbQlpSYURe2tc2gaBnUVYRGSNwGf3+6/Cf0B+AD59CNNOyw8BAAAAAElFTkSuQmCC\" style=\"height: auto\">\n",
       "              <figcaption style=\"font-size: 0.6em\">-5</figcaption>\n",
       "            </figure>\n",
       "        \n",
       "            <figure style=\"margin: 5px !important;\">\n",
       "              <img src=\"data:image/png;base64,iVBORw0KGgoAAAANSUhEUgAAADIAAAAyCAAAAAA7VNdtAAABv0lEQVR4nO2WO47cMAyGf9KUPH4A6dNukSLI/Q8SpMgFcgI/1hZNppjEljyL2UmwCBBgXdmQP3+kSEkmFJc0Xd/GitwcxOTbOg3jrMU7jD++3pF/gEj5qKqqDPLNQRW5qqrqXQQppUR2rf5GvqWU0n0LNEP4ipwkb5AL6svlkrclm27LCfnw+84BIDRd30YmdwcRua1T084JAGhHnpAzLyDDOKecgHxGxpA0fdfWDNg1T1umcZjVMwLy5SAMHJq+a2u6KgnwZRqHORk4s3zaCXdQbPqurbNcl2kc5tVBdOTy8UAMHJu+a2OGrNM4zKuBM6Q/4jJw3fRdMe+RCdVi4CMy2WvpRGBmPhWXmbmiwrK3g7uBWVVjgaiqahnYWiCo1iC5x9Z1XU+53FoKjd5a/qYt9/lxN7CIiJTjImJlYLFAYoyxEHNMcUOJ3FrOYdxYbEfM4GZmZXpmZpvBs1IOhSVt8Fcb5seBPNqW3/fRh5v/6/HFR5fYt4x4bCHTq9vFL+RgMiEAoH7hrDxvSidkqYQtR56fT8Rb7JYSQgiHhT0EeWXnDyGEIMdh4SGE+4iIiEhFTlcLTETk/Vfhf0B+AgIMPhPBXjCOAAAAAElFTkSuQmCC\" style=\"height: auto\">\n",
       "              <figcaption style=\"font-size: 0.6em\">-4</figcaption>\n",
       "            </figure>\n",
       "        \n",
       "            <figure style=\"margin: 5px !important;\">\n",
       "              <img src=\"data:image/png;base64,iVBORw0KGgoAAAANSUhEUgAAADIAAAAyCAAAAAA7VNdtAAABzElEQVR4nO3VwY7TMBAG4N9jT5tW2jacOHLgsLz/08CBB+BE2pWatGPP7CElzqSou6AVQgKfOqm/ZlL/dgLc4If23W7DMFUQBUh//N49iZtD+OXxn/wBknxZSimlEEwVZuFa3yUqIpJQV19ERO8SiIikACsKilfy5s+CpmmapsaS7NI0i9ukB1feJjkFYm/Sh/rZEHjXtvtNBNQQCCj9Yd8dxRBm5LEKQ1jt2na/obEIgPaHrjtexuIH+VSFgUYSAAMQABuJIlSTPk5EFXG9a9v9ZtZ4f+i647mAqJL3t6SZkaFZrzcLsvVku93OBRq5XHL0ZFpLA0BEtFhcIiIyR6bMmeoYS0+uwTSrROZESUTyPBFZRER8Y3lOLOacPck55+zI78Ry+klTRUwppeS/TymV4BpjR5iZPWFmVnIkTiQExBhjhBvXS3My7VJTRVDVxbZVvV6r5OQaK2m1YheY0+l0WgTmmyPr/nweXorl14m8OvyfUc0rt9iX2sTPN3K33MjhpePi9sWXnvx/Kmr5hvgpy3NsGIZV0Om0vAzDMCymvMFpyWPKjMbGLDPz8rRc3JSZmeuzIDMz6T0SxwELY941xhijJ3/tu/IfJ8947Tb5RB2rjAAAAABJRU5ErkJggg==\" style=\"height: auto\">\n",
       "              <figcaption style=\"font-size: 0.6em\">-3</figcaption>\n",
       "            </figure>\n",
       "        \n",
       "            <figure style=\"margin: 5px !important;\">\n",
       "              <img src=\"data:image/png;base64,iVBORw0KGgoAAAANSUhEUgAAADIAAAAyCAAAAAA7VNdtAAACEElEQVR4nO2VQW/UMBCF34ydbF2WKl01nBAX/v9P4oK4BW2jZanb2J7hkNax02URqEKVwCeP409vPH4TE6qx6fp+t21JJMEw63TcD8P4UO1h/Pb4j/wFxNZhmgeJJEBV5/AsEmOMMTKJJCizzvFZBKeQFz8Lt23btost0bZty1Ijb6pw03VdVzrZSgionWzf56kCuOj6frdtSDTBEGs4Xm4223sAtCAfM6ECdl3f77aGVAVMpOl4fXU1egETPUdEBWZGmFQVRKQyIwlMuVD2Q1aRBOuub97ttgRAQQD0+NZdXvkIw4tKn1UkwV5e3/S7siLOKNm7CMOLiluQiMY55xxKxDl3rwG2QJa7VAYxM1e3y8zMxKACyZ4TSeCUUkqmQFJKKUkCQTMSSgQhhBBKJIQQQojQn6nQM6+nJ/trVvkTW+YsiABjjDFlXo8rWhW5WRIjNE3TNE2JPK2URV5UYMCnVdiAzYLkXhAVqIiIlOcTEREVFD1j/fIxIdKF9740jPfee18bZniazbaMSsmXttwPX29XtvxcJmbc4c5/q8y/H4a1+T9llbnFDofbqsX2w7BusYw8NvLhcFs18n4YxlUjfylLis3x4eHuFw+f/V6FHk3DsUTGcRxXP6UqgkzTNE1YkGmappp4gb8lrLXWWhIhGGYVa+2zLaeIFWLjOWT2uiEiwDDrHNbIq30r/3HkB2wAWrD8eyM6AAAAAElFTkSuQmCC\" style=\"height: auto\">\n",
       "              <figcaption style=\"font-size: 0.6em\">-2</figcaption>\n",
       "            </figure>\n",
       "        \n",
       "            <figure style=\"margin: 5px !important;\">\n",
       "              <img src=\"data:image/png;base64,iVBORw0KGgoAAAANSUhEUgAAADIAAAAyCAAAAAA7VNdtAAACUUlEQVR4nO2VX2vbUAzFj/7YddI2hUBI08G+/+cabGkIBJKtjWNfSXtwY197UCiFPk1PV+AfVzr3SCaMolptNuuHks0MIuLNcbfd7uvRN4wPx3/kCxAdp94F3B1EdE3fQ1JKKSVmM0NEeJe/f0tKKSUJS4a4ppNbPt+LlmVZlgUzd7aMsixLHVem8+EcoGqxWCwWBbsZRNjbOL+8XOoAZcjjQARotnp8XD8U5G4Q5mhnFCHnAA2Mfh8IB89Xm836QSjcwUxhx5uimL06eGAyxB0yX22e1gumiAARhZ+qopi9GpgH5Nv15G6Qu9Xmab0gIAAQEPdKXP4xCPfa6rJHzKB3y+VyeZ/L09YXKxNEBqS6nswMWlVVVWUEqqqqqlYgIj3Sl8gRYCLKtAFARETMo156N7gZ6B8Xuru7GbKHGV7WLYFSSimVGZJSSskSMmup9UgykJmZZQTMzCwZOg27DvDh0F4IAqAimTQAICIiGtBM5N7KDkBUVUfmVlVVCYgOyFCZAMLMPKqVmZklRq/fd+Xu8IiIyJGIiOgWQY/0W93NYEVd13WRIXVd1/VlbJjDcItBGrmpipTZ8nQ4HA4TW/7sS3CHzBuP9Ds3/+7Xdj8x/4+hagfPz21bj0Zst93uJyPWI90gn9v2kg/ycbfd7ieD/JypA6qMKM7Zujjunp/3k3XxmkuK5ub2dkbZv/J0Op1Ok6U0ypCapmkaYksGUfemaZpmsmA/vy258xQDBBEhVVVlfw/RLpiIICLuqqravHvLW0QEmPkt/3Qv/5EvQP4Ckc9fs3J6AqkAAAAASUVORK5CYII=\" style=\"height: auto\">\n",
       "              <figcaption style=\"font-size: 0.6em\">-1</figcaption>\n",
       "            </figure>\n",
       "        \n",
       "            <figure style=\"margin: 5px !important;\">\n",
       "              <img src=\"data:image/png;base64,iVBORw0KGgoAAAANSUhEUgAAADIAAAAyCAAAAAA7VNdtAAACJklEQVR4nO2VYW/aQAyGX/tMRmlW2kqUNtK0//+zpkm0DKmFNgUWfPY+hF4uIFVqO02TNn863+UBbB5fCL0YXX/5Wl0OyTQiCPv2fvbt+9269wzjzfEf+QOI9FNrg8wMZPA2fRWJbZDFCJB7m34Y+XgtIiIiAzIiiLCriIg0/WeGvXRUlmVZdiaHpizLsm+yTF5W7g4+nUwmk8uCLBo4sDdht97GZwMRJeQmIWYI5XV1U10IuRmYyXXoO6U6grlDqoTECPl8XVXVRYC7g4gQT1yVnxQhdMj0ZWUaMTibXk2vLgkOACD4QLc//WSHIKm3Mu4QRXE2Ph+fn2W12vP544YaSIYU6ZAZRVEURZERaSdH0sqJQMzMvX+XmZmJQNQhyTkzw7GFe09h1pWv6TBGRFVVzRFVVY0RRJ6Q2EOOLNx7miPv0TK8rMgdIYQQQn4e9lshdOUnlaM7gohIT24REQkB2SdlTWZuW3rc5PYkIaml7r6f9RwxMzN3uKftbnxMFWiapmlGGdK0AbPuW1YdEjHwk+X4lDMtl6vlavXY13KefliMkA19Gsouk/9h/mM+P5B/lhAzhCcToU02Yg+z2ezuYMRu8/L51GVA22yQ729nt3cHg7zI+4N1GI4GMX/xLRaLxcF1se2lVtd1XUQyVYiwb+q6ruuDS6mXteLqjkwj3Nn1SO3fcVvuLSRyIAT2NrW3I7vXkL2FBHYwsx97+he/K/9x5BeW42lr0rtSfQAAAABJRU5ErkJggg==\" style=\"height: auto\">\n",
       "              <figcaption style=\"font-size: 0.6em\">0</figcaption>\n",
       "            </figure>\n",
       "        \n",
       "            <figure style=\"margin: 5px !important;\">\n",
       "              <img src=\"data:image/png;base64,iVBORw0KGgoAAAANSUhEUgAAADIAAAAyCAAAAAA7VNdtAAACR0lEQVR4nO2VTVPbQAyG9bExiXEAA+bU6aH9/z+pPXR6IgFT4hjYrKQe1ll7+Zq0h05nWp0krR6vV361Rsjs+MOnzx+bBclOgGesD6tvX75+32Y1BL9s/5E/gLg81GioqoBKQ3gIAhGRQxAREREFVQFU1BgfdhYDsMPO4pxzzjGBQ2BmjHHIa46mD8ayLMuynJPMBNixxoQZAI5InQgzwGVd13VdkAYFcqSLsKnrrTNATIy7TIgq8PKyaZrLGZooEKPt4OH+/vFIgGhErvaeioA7vWqapuG4JSIIPtxv/FEA5tQod56QIDA7Pb+4uDhHNDBAQDPd3t31vAN2I1LtPQkBiqqqqiqlAOCxqqoqeHCOE1IkhBCKoiiKYkIMGYPZBEmnQkRAxElrhiwOKwlJAlI1eCmpmDFQfQUREZDXEZFsF5ksgr5QYZRp1OlgvzNiqRFGBMTMzNN1ZmYmAqKxY2kbNgMmIso2JiIi5uzrJ88IY8FLJK4kJA2SmYGZmWWjZUNqknZ+70kIgN5776eI9957vwPT8Szd3tMgsHNd13XziSy7ruu6bS7L24SIgJPy7OyYJuK/ubm5vf2Ri/86vbUq8FOxPFnYZMTWq9X19SYfsfX0+Pg0PzlZwDjIfrVardebfJDbsTkAGI7bdunmJCFeF49t27btNr8unqb9Aez7vu9t/Ff2fd/3ec2zeyyEEEIQkyBgBBrjvOYtWeL0VXJ7tgsPMjRiIKIhDu8hUVLERgYUsWeiewtBIgMipNeQv/Zf+Y8jPwECz2jJ6YMKWQAAAABJRU5ErkJggg==\" style=\"height: auto\">\n",
       "              <figcaption style=\"font-size: 0.6em\">1</figcaption>\n",
       "            </figure>\n",
       "        \n",
       "            <figure style=\"margin: 5px !important;\">\n",
       "              <img src=\"data:image/png;base64,iVBORw0KGgoAAAANSUhEUgAAADIAAAAyCAAAAAA7VNdtAAACGUlEQVR4nO2VPW/cMAyGX1JSfC5wtm7q2KFD+/9/TTt06NgpslPE8emDHXQnyZdLvw7IFAIGqI/HFOmXMmFj+w+fPn98/46jD9BGpccf3758/f6w2cP4Z3tDXgHR26FUa/zfIikb8kPn4Z8RkYywXENuz0UppZRiVkmgFJ/GF4ipvoC6bJRYQRuW2HVd1x0F1CD7moeA98MwDPsdpRChNItahmHYSwLVDLQtMVKEHq211t5RigmsWHZHa62lAMUljj6UICHCHKy19qAgIiAixKO19gAPpUsYPZy9GDy6YRzHcSBAABAgT+M4DmGF0aUIui+IV9j1fd/3ZQpAniAYU5FSMRKBNsaYpoaAMcYYraF1+Ry1EEQAgYioRYiIQHn1HKVoLivxUh9ZP4JGnDrVRcFzSZ1Eh5ToGpJeRFKL/I8sCyPMYGbmzVv4NNVMtwi9iNAGKUckIhBdQ/LKlVxEgNzwLZJvgbx6juLPXgwBwXvvfYt4770PAUT1uywV8ZBlWZZlaWSZJ1bEUDU2n70UIo56mqZp14h/mqZpftiK/76cOkVojM65u9piR+ecu5+2LebKsZOAxTnn7mojPznnnJu3jdz81ARE8zzPfaTkA7RheZzneX74ub0uNvXBuq7ruiqOPiAmlfJ4u+fiHosxxhgTYowgppTH2z2335YnSVFWYtYP818gzCdZX9HpM4SqNf7Nubwhr4D8AnBTXMSCuhoQAAAAAElFTkSuQmCC\" style=\"height: auto\">\n",
       "              <figcaption style=\"font-size: 0.6em\">2</figcaption>\n",
       "            </figure>\n",
       "        \n",
       "            <figure style=\"margin: 5px !important;\">\n",
       "              <img src=\"data:image/png;base64,iVBORw0KGgoAAAANSUhEUgAAADIAAAAyCAAAAAA7VNdtAAACDUlEQVR4nO2Uwa7UMAxFr51Mo3QiPoA1YoP4/w9BbBBrPgClqdImDotMk3TmMRI89FZYquTczqnH1nUIp3j34dPnj+8dpy1BT1r8j29fvn7/efoN44/jP/IGiD4fS48hf4pIKUVGREop8ryKiFRGUAkRuavy+l64B24P891ndWcKgGmapmnSjELQWks9KwDUEduIUsDWWmutYa0y1EWJWGut3QREjdHuyCQLtHPOOTeRTAJWXJRzzrk9gVX7e/rakJRxcdfr1V01SREwcalC3KF0R+Yjy2mHmed5nmcGSgERIPM8z3NgXLRqiDmyRMBkjDGmSQCMMcZMgsulzanDRTKUUkqpgbgpjEHWbRAEAoiG0QCHQMAwseaGUsrNliNysxsGWTfPSSkQEZGTC6tSULp8rvLo9WETDulvbNnbJ6rNPrZf3zSklWGiF4xbFQJ1+Vzl90OmF4eMZ0PGMOR8ZDkLcs455xGpiiBzrxLby7SDY4wxxsGWMcYYtx0o7Us6HJmkDAkhhBC6+VMIIYR1RxrMvzQkC3azLItfJpJcV2zzy7L4cF4xPzQKvnjvvbec97rIq/fe+3Be5LUPB8C0ruu6Mqc9QWctaw2cros0zgfbtm3bZjjtOwpB6vk0w4cL9ubl2yOP1v4XtyUxMzEREYOIiImZ6SnCRJU4bM1EdH/B3lXpMeSv7uU/8gbIL0diYbKy1T5gAAAAAElFTkSuQmCC\" style=\"height: auto\">\n",
       "              <figcaption style=\"font-size: 0.6em\">3</figcaption>\n",
       "            </figure>\n",
       "        \n",
       "            <figure style=\"margin: 5px !important;\">\n",
       "              <img src=\"data:image/png;base64,iVBORw0KGgoAAAANSUhEUgAAADIAAAAyCAAAAAA7VNdtAAAB2ElEQVR4nO1Uu5LUMBDseVi6hCo+gJyABP7/IyAhIOcDqCI5yZqZC2zZ8npvdyG46Caw1S21ZzzqGsIhPn7++u3Lpw/c6owpqf/9/fP7j19/DmcY/xzvkjeQ6BFGREQAQFzgW1liObg9H8iCCAAR6K/7We7GRRYiIiIARKARj5IhTYBERESYRRwijBUHBpmmTeABTimllJQwEVSkYwfxJtLcV26GKeecc1ZiErByLDjNEOGzxBphyjk/5azkHCDmQH7KOU8BVTkXZghMSyEMRoBAa6WTQdMu2VsmBlFVHSiwqqoKQ2Rj944xEZiZ+XBVC0OgnR72L9p/jGHzcC1XDHVlR2PnVysedAsRwE4Pkrjm9c4M9P/Ycvsvomsu7MxADxJ0zUmy7FwpjF7tM91o8usxNtn7yiPg7u4+Hl2YQOy0tr4yc1hrrbXGiNWW3lprzRxme5a6SZphrrXWWpXcF/O3Wmuts4GwO7lsJZiBSinPpYC8OVg5SnkupcwN4XyWhAeilFJKEbLWoCErrg63/V62woCAL4UltnlGUMctQMO/HPoTZmZmDjMDG3nHhyZftL/7cpuWj8zku3GeljhOS5ym5TnLas7t+UCW9at0gW9luRvvkjeQvADJyB6zeNOfMAAAAABJRU5ErkJggg==\" style=\"height: auto\">\n",
       "              <figcaption style=\"font-size: 0.6em\">4</figcaption>\n",
       "            </figure>\n",
       "        \n",
       "            <figure style=\"margin: 5px !important;\">\n",
       "              <img src=\"data:image/png;base64,iVBORw0KGgoAAAANSUhEUgAAADIAAAAyCAAAAAA7VNdtAAABH0lEQVR4nO2UMVLEMAxF35cCDRUn4AAUNAz3rxkaCg7ACahoYCRRbLDX2bCwFRkGVZb833xZiS2GuLy+vbu5uoC3d87O4fX58f7h6WXQGCfHP7JNZBrTqqoqgFrkv9yYJEkAWuR7SM/rKNJ1U+usCmRmZgbIELDLVdC9OpKA3NzdACsMMHc3V4GacPJmGCBzM3NAjgA3MzcB5t+5zH3MLgwurUUNx9XBBHWIdMl6oZX7p1xMfxl9uyO1JmRlexqVB39hL7Tydq/YHxpyR6opSvN9G56PjuQ+UpERkQ5VSJARkVFANeEUn6sEKiMzw6ECByIzI2vePuICZCL/wqXTQGVm5s4PA3Z5jWdZmdjqa7k3ZH6I9NjsA7vZK/aPnBofk9e2kwiRjBcAAAAASUVORK5CYII=\" style=\"height: auto\">\n",
       "              <figcaption style=\"font-size: 0.6em\">5</figcaption>\n",
       "            </figure>\n",
       "        \n",
       "            <figure style=\"margin: 5px !important;\">\n",
       "              <img src=\"data:image/png;base64,iVBORw0KGgoAAAANSUhEUgAAADIAAAAyCAAAAAA7VNdtAAAAsklEQVR4nO2WOw4CMQxEZyKfgGtQI+5fIhpaSm4BFBkKkDbeRCJOsSzSusrvRZ5k8iFckImJoN41QVlZcmMSwrEhCyCsW+ZbGZ/0R1FrAZyWRvfOVzucbPs4cogjx6ks8IMUbVlZUqmZ1zhyrxGXRgOJ+2EZJ1uRmMCWGQCvxZ4e6ZA/csRyOLH1LvJjKneumN1q5Ist7RJHTi6NriN2DiMD18XApbTaGHgsZsj2Vfhf5AVj0pcfiBae2AAAAABJRU5ErkJggg==\" style=\"height: auto\">\n",
       "              <figcaption style=\"font-size: 0.6em\">6</figcaption>\n",
       "            </figure>\n",
       "        \n",
       "            <figure style=\"margin: 5px !important;\">\n",
       "              <img src=\"data:image/png;base64,iVBORw0KGgoAAAANSUhEUgAAADIAAAAyCAAAAAA7VNdtAAABRklEQVR4nO3WS2rEMAwG4F+Wkmx7jEJX7f3P0K7mBL1AoatJbKkLd7AlD/NiKBTGqxj8xZKlmBDcSNO8TJIAMxABmrf9uqlfg6vHg/wBET/VnJjQlzLnrCcJykqmrvprOb0LUNZAorhDLkBsS9mvYQU9+U0v6GR5bs8GqoTqBIBVUicH8toAAD4QA0AHUlBnv+StEQNV0kVRiYE68nI1oc+RcEfKEfIVSayUDoFxI4rEPNQ2sUKROpIdMUocSMm5eLL3gakt3pTxxDZHFJTg09+2QG5py8kHNk3ujMFQQ/KBLY0oEk9zSJ8XSiF98UTigYHFyJPSiMGQhsJoKcXQ9bJ8h1zON4wc6bFznby7nrw3ggs/sY/2xgs/5BuuC0IYR0hYMRBIIDkuuMdtybPbJZGdu8Z5Hki8+gNJIiI9gRW1x6/CfyA/dVEEmBA5QeIAAAAASUVORK5CYII=\" style=\"height: auto\">\n",
       "              <figcaption style=\"font-size: 0.6em\">7</figcaption>\n",
       "            </figure>\n",
       "        \n",
       "            <figure style=\"margin: 5px !important;\">\n",
       "              <img src=\"data:image/png;base64,iVBORw0KGgoAAAANSUhEUgAAADIAAAAyCAAAAAA7VNdtAAABmUlEQVR4nO3WTW7bMBAF4DfDGcW2AnTfbRfdFLn/OYJueoGeoLITcjjThQKLlAzbLYICBcKV/j49UhxRInRN9uN4GBKFB4gpaj5O08m6axh/3D7IPyDS75qZGQe7B4jZq5mZXSUopRTyZfZLKeV6CmxLViHvMBY87Ha7tizZa31dkU/LdoDmSmaKCBBReD4eDicLUEO+XCAJ8AAx8Fb8PfnWCEC3KdN0KkBj5OksIkDDfhwPA82egMjHaTrlANHZyNeFOHgmzVhn4uCGfN4SbUi5QB4XUpGG/Tim9onqI1HKFakhvBCAmXk1uW+H2hRbiIPZzLQjZmbWdyx3BElVmjlA5JzzaizblC7Gtil/U5bnuoxwsIiI9OdFxPuODR0ZhmFohwIaSqnoyTZl3Y1Nii+kAu7u3VTC3d0r0JBffcdqxM2C+dmTe8ryx0LuLf7n8w3vfsW+ozF3vch0c7nYEvTt4cK3cr0orchrSuwteXlZifdYLUVVdUnhUJUbK7+qqqbzx4JDVa8TERGRRDynMLmIyMevwv9AfgPGgEEtjn/z1wAAAABJRU5ErkJggg==\" style=\"height: auto\">\n",
       "              <figcaption style=\"font-size: 0.6em\">8</figcaption>\n",
       "            </figure>\n",
       "        \n",
       "        </div>\n",
       "    "
      ],
      "text/plain": [
       "<IPython.core.display.HTML object>"
      ]
     },
     "execution_count": 112,
     "metadata": {},
     "output_type": "execute_result"
    }
   ],
   "source": [
    "x = pca_data[0].copy()\n",
    "x_imgs = []\n",
    "x_caps = []\n",
    "\n",
    "for i in range(-8, 9):\n",
    "    x[0] = i\n",
    "    k = x @ pca.components_\n",
    "    k *= data.std(axis=0)\n",
    "    k += data.mean(axis=0)\n",
    "    # pc[pc < 127] = 0\n",
    "    # pc[pc > 0] = 255\n",
    "    x_imgs.append(Image.frombytes('L', size=(IMAGE_SIZE, IMAGE_SIZE), data=k.astype(np.uint8)).resize((50, 50)))\n",
    "    x_caps.append(f'{i}')\n",
    "\n",
    "display_images(x_imgs, captions=x_caps)"
   ]
  },
  {
   "cell_type": "code",
   "execution_count": 113,
   "id": "fcbdb5c7-7d77-47aa-9897-94628ae5b516",
   "metadata": {},
   "outputs": [],
   "source": [
    "xy_data = []\n",
    "\n",
    "for y in range(IMAGE_SIZE):\n",
    "    for x in range(IMAGE_SIZE):\n",
    "        i = y * IMAGE_SIZE + x\n",
    "        samples_indices = np.argwhere(data[:,i] > 0)\n",
    "        samples_indices = samples_indices.reshape(-1)\n",
    "\n",
    "        for si in samples_indices:\n",
    "            xy_data.append([x, y])\n",
    "\n",
    "xy_data = np.array(xy_data)"
   ]
  },
  {
   "cell_type": "code",
   "execution_count": 114,
   "id": "025876a7-443c-4f6a-a8d9-10edb67d752b",
   "metadata": {},
   "outputs": [
    {
     "data": {
      "text/plain": [
       "array([[3, 0],\n",
       "       [3, 0],\n",
       "       [3, 0],\n",
       "       ...,\n",
       "       [5, 8],\n",
       "       [5, 8],\n",
       "       [5, 8]], shape=(2700, 2))"
      ]
     },
     "execution_count": 114,
     "metadata": {},
     "output_type": "execute_result"
    }
   ],
   "source": [
    "xy_data"
   ]
  },
  {
   "cell_type": "code",
   "execution_count": 115,
   "id": "20d970d2-5558-4d0b-8a4e-71f1c609af50",
   "metadata": {},
   "outputs": [
    {
     "data": {
      "image/jpeg": "[encoded data removed]",
      "image/png": "[encoded data removed]",
      "text/plain": [
       "<PIL.Image.Image image mode=L size=50x50>"
      ]
     },
     "execution_count": 115,
     "metadata": {},
     "output_type": "execute_result"
    }
   ],
   "source": [
    "test_image = Image.new('L', size=(IMAGE_SIZE, IMAGE_SIZE))\n",
    "test_image_draw = ImageDraw.Draw(test_image)\n",
    "\n",
    "for xy in xy_data:\n",
    "    test_image_draw.point(list(xy), fill=255)\n",
    "    \n",
    "test_image.resize((50, 50))"
   ]
  },
  {
   "cell_type": "code",
   "execution_count": 116,
   "id": "b6a7fc1b-bf32-4c17-bd04-3220ad413c6c",
   "metadata": {},
   "outputs": [
    {
     "data": {
      "text/html": [
       "<style>#sk-container-id-2 {\n",
       "  /* Definition of color scheme common for light and dark mode */\n",
       "  --sklearn-color-text: #000;\n",
       "  --sklearn-color-text-muted: #666;\n",
       "  --sklearn-color-line: gray;\n",
       "  /* Definition of color scheme for unfitted estimators */\n",
       "  --sklearn-color-unfitted-level-0: #fff5e6;\n",
       "  --sklearn-color-unfitted-level-1: #f6e4d2;\n",
       "  --sklearn-color-unfitted-level-2: #ffe0b3;\n",
       "  --sklearn-color-unfitted-level-3: chocolate;\n",
       "  /* Definition of color scheme for fitted estimators */\n",
       "  --sklearn-color-fitted-level-0: #f0f8ff;\n",
       "  --sklearn-color-fitted-level-1: #d4ebff;\n",
       "  --sklearn-color-fitted-level-2: #b3dbfd;\n",
       "  --sklearn-color-fitted-level-3: cornflowerblue;\n",
       "\n",
       "  /* Specific color for light theme */\n",
       "  --sklearn-color-text-on-default-background: var(--sg-text-color, var(--theme-code-foreground, var(--jp-content-font-color1, black)));\n",
       "  --sklearn-color-background: var(--sg-background-color, var(--theme-background, var(--jp-layout-color0, white)));\n",
       "  --sklearn-color-border-box: var(--sg-text-color, var(--theme-code-foreground, var(--jp-content-font-color1, black)));\n",
       "  --sklearn-color-icon: #696969;\n",
       "\n",
       "  @media (prefers-color-scheme: dark) {\n",
       "    /* Redefinition of color scheme for dark theme */\n",
       "    --sklearn-color-text-on-default-background: var(--sg-text-color, var(--theme-code-foreground, var(--jp-content-font-color1, white)));\n",
       "    --sklearn-color-background: var(--sg-background-color, var(--theme-background, var(--jp-layout-color0, #111)));\n",
       "    --sklearn-color-border-box: var(--sg-text-color, var(--theme-code-foreground, var(--jp-content-font-color1, white)));\n",
       "    --sklearn-color-icon: #878787;\n",
       "  }\n",
       "}\n",
       "\n",
       "#sk-container-id-2 {\n",
       "  color: var(--sklearn-color-text);\n",
       "}\n",
       "\n",
       "#sk-container-id-2 pre {\n",
       "  padding: 0;\n",
       "}\n",
       "\n",
       "#sk-container-id-2 input.sk-hidden--visually {\n",
       "  border: 0;\n",
       "  clip: rect(1px 1px 1px 1px);\n",
       "  clip: rect(1px, 1px, 1px, 1px);\n",
       "  height: 1px;\n",
       "  margin: -1px;\n",
       "  overflow: hidden;\n",
       "  padding: 0;\n",
       "  position: absolute;\n",
       "  width: 1px;\n",
       "}\n",
       "\n",
       "#sk-container-id-2 div.sk-dashed-wrapped {\n",
       "  border: 1px dashed var(--sklearn-color-line);\n",
       "  margin: 0 0.4em 0.5em 0.4em;\n",
       "  box-sizing: border-box;\n",
       "  padding-bottom: 0.4em;\n",
       "  background-color: var(--sklearn-color-background);\n",
       "}\n",
       "\n",
       "#sk-container-id-2 div.sk-container {\n",
       "  /* jupyter's `normalize.less` sets `[hidden] { display: none; }`\n",
       "     but bootstrap.min.css set `[hidden] { display: none !important; }`\n",
       "     so we also need the `!important` here to be able to override the\n",
       "     default hidden behavior on the sphinx rendered scikit-learn.org.\n",
       "     See: https://github.com/scikit-learn/scikit-learn/issues/21755 */\n",
       "  display: inline-block !important;\n",
       "  position: relative;\n",
       "}\n",
       "\n",
       "#sk-container-id-2 div.sk-text-repr-fallback {\n",
       "  display: none;\n",
       "}\n",
       "\n",
       "div.sk-parallel-item,\n",
       "div.sk-serial,\n",
       "div.sk-item {\n",
       "  /* draw centered vertical line to link estimators */\n",
       "  background-image: linear-gradient(var(--sklearn-color-text-on-default-background), var(--sklearn-color-text-on-default-background));\n",
       "  background-size: 2px 100%;\n",
       "  background-repeat: no-repeat;\n",
       "  background-position: center center;\n",
       "}\n",
       "\n",
       "/* Parallel-specific style estimator block */\n",
       "\n",
       "#sk-container-id-2 div.sk-parallel-item::after {\n",
       "  content: \"\";\n",
       "  width: 100%;\n",
       "  border-bottom: 2px solid var(--sklearn-color-text-on-default-background);\n",
       "  flex-grow: 1;\n",
       "}\n",
       "\n",
       "#sk-container-id-2 div.sk-parallel {\n",
       "  display: flex;\n",
       "  align-items: stretch;\n",
       "  justify-content: center;\n",
       "  background-color: var(--sklearn-color-background);\n",
       "  position: relative;\n",
       "}\n",
       "\n",
       "#sk-container-id-2 div.sk-parallel-item {\n",
       "  display: flex;\n",
       "  flex-direction: column;\n",
       "}\n",
       "\n",
       "#sk-container-id-2 div.sk-parallel-item:first-child::after {\n",
       "  align-self: flex-end;\n",
       "  width: 50%;\n",
       "}\n",
       "\n",
       "#sk-container-id-2 div.sk-parallel-item:last-child::after {\n",
       "  align-self: flex-start;\n",
       "  width: 50%;\n",
       "}\n",
       "\n",
       "#sk-container-id-2 div.sk-parallel-item:only-child::after {\n",
       "  width: 0;\n",
       "}\n",
       "\n",
       "/* Serial-specific style estimator block */\n",
       "\n",
       "#sk-container-id-2 div.sk-serial {\n",
       "  display: flex;\n",
       "  flex-direction: column;\n",
       "  align-items: center;\n",
       "  background-color: var(--sklearn-color-background);\n",
       "  padding-right: 1em;\n",
       "  padding-left: 1em;\n",
       "}\n",
       "\n",
       "\n",
       "/* Toggleable style: style used for estimator/Pipeline/ColumnTransformer box that is\n",
       "clickable and can be expanded/collapsed.\n",
       "- Pipeline and ColumnTransformer use this feature and define the default style\n",
       "- Estimators will overwrite some part of the style using the `sk-estimator` class\n",
       "*/\n",
       "\n",
       "/* Pipeline and ColumnTransformer style (default) */\n",
       "\n",
       "#sk-container-id-2 div.sk-toggleable {\n",
       "  /* Default theme specific background. It is overwritten whether we have a\n",
       "  specific estimator or a Pipeline/ColumnTransformer */\n",
       "  background-color: var(--sklearn-color-background);\n",
       "}\n",
       "\n",
       "/* Toggleable label */\n",
       "#sk-container-id-2 label.sk-toggleable__label {\n",
       "  cursor: pointer;\n",
       "  display: flex;\n",
       "  width: 100%;\n",
       "  margin-bottom: 0;\n",
       "  padding: 0.5em;\n",
       "  box-sizing: border-box;\n",
       "  text-align: center;\n",
       "  align-items: start;\n",
       "  justify-content: space-between;\n",
       "  gap: 0.5em;\n",
       "}\n",
       "\n",
       "#sk-container-id-2 label.sk-toggleable__label .caption {\n",
       "  font-size: 0.6rem;\n",
       "  font-weight: lighter;\n",
       "  color: var(--sklearn-color-text-muted);\n",
       "}\n",
       "\n",
       "#sk-container-id-2 label.sk-toggleable__label-arrow:before {\n",
       "  /* Arrow on the left of the label */\n",
       "  content: \"▸\";\n",
       "  float: left;\n",
       "  margin-right: 0.25em;\n",
       "  color: var(--sklearn-color-icon);\n",
       "}\n",
       "\n",
       "#sk-container-id-2 label.sk-toggleable__label-arrow:hover:before {\n",
       "  color: var(--sklearn-color-text);\n",
       "}\n",
       "\n",
       "/* Toggleable content - dropdown */\n",
       "\n",
       "#sk-container-id-2 div.sk-toggleable__content {\n",
       "  max-height: 0;\n",
       "  max-width: 0;\n",
       "  overflow: hidden;\n",
       "  text-align: left;\n",
       "  /* unfitted */\n",
       "  background-color: var(--sklearn-color-unfitted-level-0);\n",
       "}\n",
       "\n",
       "#sk-container-id-2 div.sk-toggleable__content.fitted {\n",
       "  /* fitted */\n",
       "  background-color: var(--sklearn-color-fitted-level-0);\n",
       "}\n",
       "\n",
       "#sk-container-id-2 div.sk-toggleable__content pre {\n",
       "  margin: 0.2em;\n",
       "  border-radius: 0.25em;\n",
       "  color: var(--sklearn-color-text);\n",
       "  /* unfitted */\n",
       "  background-color: var(--sklearn-color-unfitted-level-0);\n",
       "}\n",
       "\n",
       "#sk-container-id-2 div.sk-toggleable__content.fitted pre {\n",
       "  /* unfitted */\n",
       "  background-color: var(--sklearn-color-fitted-level-0);\n",
       "}\n",
       "\n",
       "#sk-container-id-2 input.sk-toggleable__control:checked~div.sk-toggleable__content {\n",
       "  /* Expand drop-down */\n",
       "  max-height: 200px;\n",
       "  max-width: 100%;\n",
       "  overflow: auto;\n",
       "}\n",
       "\n",
       "#sk-container-id-2 input.sk-toggleable__control:checked~label.sk-toggleable__label-arrow:before {\n",
       "  content: \"▾\";\n",
       "}\n",
       "\n",
       "/* Pipeline/ColumnTransformer-specific style */\n",
       "\n",
       "#sk-container-id-2 div.sk-label input.sk-toggleable__control:checked~label.sk-toggleable__label {\n",
       "  color: var(--sklearn-color-text);\n",
       "  background-color: var(--sklearn-color-unfitted-level-2);\n",
       "}\n",
       "\n",
       "#sk-container-id-2 div.sk-label.fitted input.sk-toggleable__control:checked~label.sk-toggleable__label {\n",
       "  background-color: var(--sklearn-color-fitted-level-2);\n",
       "}\n",
       "\n",
       "/* Estimator-specific style */\n",
       "\n",
       "/* Colorize estimator box */\n",
       "#sk-container-id-2 div.sk-estimator input.sk-toggleable__control:checked~label.sk-toggleable__label {\n",
       "  /* unfitted */\n",
       "  background-color: var(--sklearn-color-unfitted-level-2);\n",
       "}\n",
       "\n",
       "#sk-container-id-2 div.sk-estimator.fitted input.sk-toggleable__control:checked~label.sk-toggleable__label {\n",
       "  /* fitted */\n",
       "  background-color: var(--sklearn-color-fitted-level-2);\n",
       "}\n",
       "\n",
       "#sk-container-id-2 div.sk-label label.sk-toggleable__label,\n",
       "#sk-container-id-2 div.sk-label label {\n",
       "  /* The background is the default theme color */\n",
       "  color: var(--sklearn-color-text-on-default-background);\n",
       "}\n",
       "\n",
       "/* On hover, darken the color of the background */\n",
       "#sk-container-id-2 div.sk-label:hover label.sk-toggleable__label {\n",
       "  color: var(--sklearn-color-text);\n",
       "  background-color: var(--sklearn-color-unfitted-level-2);\n",
       "}\n",
       "\n",
       "/* Label box, darken color on hover, fitted */\n",
       "#sk-container-id-2 div.sk-label.fitted:hover label.sk-toggleable__label.fitted {\n",
       "  color: var(--sklearn-color-text);\n",
       "  background-color: var(--sklearn-color-fitted-level-2);\n",
       "}\n",
       "\n",
       "/* Estimator label */\n",
       "\n",
       "#sk-container-id-2 div.sk-label label {\n",
       "  font-family: monospace;\n",
       "  font-weight: bold;\n",
       "  display: inline-block;\n",
       "  line-height: 1.2em;\n",
       "}\n",
       "\n",
       "#sk-container-id-2 div.sk-label-container {\n",
       "  text-align: center;\n",
       "}\n",
       "\n",
       "/* Estimator-specific */\n",
       "#sk-container-id-2 div.sk-estimator {\n",
       "  font-family: monospace;\n",
       "  border: 1px dotted var(--sklearn-color-border-box);\n",
       "  border-radius: 0.25em;\n",
       "  box-sizing: border-box;\n",
       "  margin-bottom: 0.5em;\n",
       "  /* unfitted */\n",
       "  background-color: var(--sklearn-color-unfitted-level-0);\n",
       "}\n",
       "\n",
       "#sk-container-id-2 div.sk-estimator.fitted {\n",
       "  /* fitted */\n",
       "  background-color: var(--sklearn-color-fitted-level-0);\n",
       "}\n",
       "\n",
       "/* on hover */\n",
       "#sk-container-id-2 div.sk-estimator:hover {\n",
       "  /* unfitted */\n",
       "  background-color: var(--sklearn-color-unfitted-level-2);\n",
       "}\n",
       "\n",
       "#sk-container-id-2 div.sk-estimator.fitted:hover {\n",
       "  /* fitted */\n",
       "  background-color: var(--sklearn-color-fitted-level-2);\n",
       "}\n",
       "\n",
       "/* Specification for estimator info (e.g. \"i\" and \"?\") */\n",
       "\n",
       "/* Common style for \"i\" and \"?\" */\n",
       "\n",
       ".sk-estimator-doc-link,\n",
       "a:link.sk-estimator-doc-link,\n",
       "a:visited.sk-estimator-doc-link {\n",
       "  float: right;\n",
       "  font-size: smaller;\n",
       "  line-height: 1em;\n",
       "  font-family: monospace;\n",
       "  background-color: var(--sklearn-color-background);\n",
       "  border-radius: 1em;\n",
       "  height: 1em;\n",
       "  width: 1em;\n",
       "  text-decoration: none !important;\n",
       "  margin-left: 0.5em;\n",
       "  text-align: center;\n",
       "  /* unfitted */\n",
       "  border: var(--sklearn-color-unfitted-level-1) 1pt solid;\n",
       "  color: var(--sklearn-color-unfitted-level-1);\n",
       "}\n",
       "\n",
       ".sk-estimator-doc-link.fitted,\n",
       "a:link.sk-estimator-doc-link.fitted,\n",
       "a:visited.sk-estimator-doc-link.fitted {\n",
       "  /* fitted */\n",
       "  border: var(--sklearn-color-fitted-level-1) 1pt solid;\n",
       "  color: var(--sklearn-color-fitted-level-1);\n",
       "}\n",
       "\n",
       "/* On hover */\n",
       "div.sk-estimator:hover .sk-estimator-doc-link:hover,\n",
       ".sk-estimator-doc-link:hover,\n",
       "div.sk-label-container:hover .sk-estimator-doc-link:hover,\n",
       ".sk-estimator-doc-link:hover {\n",
       "  /* unfitted */\n",
       "  background-color: var(--sklearn-color-unfitted-level-3);\n",
       "  color: var(--sklearn-color-background);\n",
       "  text-decoration: none;\n",
       "}\n",
       "\n",
       "div.sk-estimator.fitted:hover .sk-estimator-doc-link.fitted:hover,\n",
       ".sk-estimator-doc-link.fitted:hover,\n",
       "div.sk-label-container:hover .sk-estimator-doc-link.fitted:hover,\n",
       ".sk-estimator-doc-link.fitted:hover {\n",
       "  /* fitted */\n",
       "  background-color: var(--sklearn-color-fitted-level-3);\n",
       "  color: var(--sklearn-color-background);\n",
       "  text-decoration: none;\n",
       "}\n",
       "\n",
       "/* Span, style for the box shown on hovering the info icon */\n",
       ".sk-estimator-doc-link span {\n",
       "  display: none;\n",
       "  z-index: 9999;\n",
       "  position: relative;\n",
       "  font-weight: normal;\n",
       "  right: .2ex;\n",
       "  padding: .5ex;\n",
       "  margin: .5ex;\n",
       "  width: min-content;\n",
       "  min-width: 20ex;\n",
       "  max-width: 50ex;\n",
       "  color: var(--sklearn-color-text);\n",
       "  box-shadow: 2pt 2pt 4pt #999;\n",
       "  /* unfitted */\n",
       "  background: var(--sklearn-color-unfitted-level-0);\n",
       "  border: .5pt solid var(--sklearn-color-unfitted-level-3);\n",
       "}\n",
       "\n",
       ".sk-estimator-doc-link.fitted span {\n",
       "  /* fitted */\n",
       "  background: var(--sklearn-color-fitted-level-0);\n",
       "  border: var(--sklearn-color-fitted-level-3);\n",
       "}\n",
       "\n",
       ".sk-estimator-doc-link:hover span {\n",
       "  display: block;\n",
       "}\n",
       "\n",
       "/* \"?\"-specific style due to the `<a>` HTML tag */\n",
       "\n",
       "#sk-container-id-2 a.estimator_doc_link {\n",
       "  float: right;\n",
       "  font-size: 1rem;\n",
       "  line-height: 1em;\n",
       "  font-family: monospace;\n",
       "  background-color: var(--sklearn-color-background);\n",
       "  border-radius: 1rem;\n",
       "  height: 1rem;\n",
       "  width: 1rem;\n",
       "  text-decoration: none;\n",
       "  /* unfitted */\n",
       "  color: var(--sklearn-color-unfitted-level-1);\n",
       "  border: var(--sklearn-color-unfitted-level-1) 1pt solid;\n",
       "}\n",
       "\n",
       "#sk-container-id-2 a.estimator_doc_link.fitted {\n",
       "  /* fitted */\n",
       "  border: var(--sklearn-color-fitted-level-1) 1pt solid;\n",
       "  color: var(--sklearn-color-fitted-level-1);\n",
       "}\n",
       "\n",
       "/* On hover */\n",
       "#sk-container-id-2 a.estimator_doc_link:hover {\n",
       "  /* unfitted */\n",
       "  background-color: var(--sklearn-color-unfitted-level-3);\n",
       "  color: var(--sklearn-color-background);\n",
       "  text-decoration: none;\n",
       "}\n",
       "\n",
       "#sk-container-id-2 a.estimator_doc_link.fitted:hover {\n",
       "  /* fitted */\n",
       "  background-color: var(--sklearn-color-fitted-level-3);\n",
       "}\n",
       "</style><div id=\"sk-container-id-2\" class=\"sk-top-container\"><div class=\"sk-text-repr-fallback\"><pre>PCA()</pre><b>In a Jupyter environment, please rerun this cell to show the HTML representation or trust the notebook. <br />On GitHub, the HTML representation is unable to render, please try loading this page with nbviewer.org.</b></div><div class=\"sk-container\" hidden><div class=\"sk-item\"><div class=\"sk-estimator fitted sk-toggleable\"><input class=\"sk-toggleable__control sk-hidden--visually\" id=\"sk-estimator-id-2\" type=\"checkbox\" checked><label for=\"sk-estimator-id-2\" class=\"sk-toggleable__label fitted sk-toggleable__label-arrow\"><div><div>PCA</div></div><div><a class=\"sk-estimator-doc-link fitted\" rel=\"noreferrer\" target=\"_blank\" href=\"https://scikit-learn.org/1.6/modules/generated/sklearn.decomposition.PCA.html\">?<span>Documentation for PCA</span></a><span class=\"sk-estimator-doc-link fitted\">i<span>Fitted</span></span></div></label><div class=\"sk-toggleable__content fitted\"><pre>PCA()</pre></div> </div></div></div></div>"
      ],
      "text/plain": [
       "PCA()"
      ]
     },
     "execution_count": 116,
     "metadata": {},
     "output_type": "execute_result"
    }
   ],
   "source": [
    "xy_data_scaled = preprocessing.scale(xy_data)\n",
    "xy_pca = PCA()\n",
    "xy_pca.fit(xy_data_scaled)"
   ]
  },
  {
   "cell_type": "code",
   "execution_count": 117,
   "id": "a5c1cb35-6a9f-4aa6-bbd1-2966c9fc5831",
   "metadata": {},
   "outputs": [
    {
     "data": {
      "image/png": "[encoded data removed]",
      "text/plain": [
       "<Figure size 1200x800 with 1 Axes>"
      ]
     },
     "metadata": {},
     "output_type": "display_data"
    }
   ],
   "source": [
    "per_var = np.round(xy_pca.explained_variance_ratio_ * 100, decimals=1)[:10]\n",
    "per_var_names = [f'PC{i+1}' for i in range(len(per_var))]\n",
    "\n",
    "p = plt.bar(per_var_names, per_var)\n",
    "plt.bar_label(p, map(str, per_var))\n",
    "plt.show()"
   ]
  },
  {
   "cell_type": "code",
   "execution_count": 118,
   "id": "d36d65c9-f50a-4445-b1b2-8da7f14c22c6",
   "metadata": {},
   "outputs": [
    {
     "data": {
      "text/html": [
       "\n",
       "        <div style=\"display: flex; flex-flow: row wrap; text-align: center;\">\n",
       "        \n",
       "            <figure style=\"margin: 5px !important;\">\n",
       "              <img src=\"data:image/png;base64,iVBORw0KGgoAAAANSUhEUgAAADIAAAAyCAAAAAA7VNdtAAACGklEQVR4nO3VzW7aQBAH8P/aa0NwDASIwAkSShM1L9K364P10PbYS1UlCqZ8BGO8Bnv9sevtoVJaJVa8vVaZ00qrn0Yzmp2FUkp9/fiBQjsMAFKAtv6NHHJlu/qEboHwiO5EVWVRCC3yDeA7cyzHGQtCPfIZIIYx9TjzaZJqkU+AM55ejsjW5eu9FvkCDKU3uu2simVvoUV8gJ+n6PT4YDDoJQoVVAMBwKLgcc2Z6l6mScFTXjSTMlp+h6vizjuHH7abQIMgnpPAcU9Prmf54508HjRI8vP40Jre3Ey75VztV6+L34QXO5PmI8ubChp0bR0iJYAot3ouhm6LNBDj6SSI7QAdizRNzR9imtQCDCUaGvYXsShRgJRCOwuhEBmQlcrUJSaKJBLZUdqnhJDXWvD05lUeb+YCoerPqMiSNG8m4Nt7Y20JXNizdLtcahCVbqzYdfrdy5mI7ghjOuQxW7f617fjCzuwI1+rlpCZxuhk1vF6bnTft8rmWqQEIII4k6AnvXOPVVKI6lUCAEj3G9+N8qJ7hQOPGavbH88XK/Nd7raq0/eTNFo8lDrk6MtV+3wyntjFysl3pGYPPCfpirXpFfEuxlU/XbRrkrwgWR6CwCtaA8Ruu3bcXnwSClD7cBeekTgtpBYBgGQ776fG0g9rp6aWFMEPMSd7f8PrbmunnA6GZw44C6NElxiWRU1UpShri3mLt/gv4hd94wr9gAD8vwAAAABJRU5ErkJggg==\" style=\"height: auto\">\n",
       "              <figcaption style=\"font-size: 0.6em\">50.0</figcaption>\n",
       "            </figure>\n",
       "        \n",
       "            <figure style=\"margin: 5px !important;\">\n",
       "              <img src=\"data:image/png;base64,iVBORw0KGgoAAAANSUhEUgAAADIAAAAyCAAAAAA7VNdtAAABvUlEQVR4nO3Uy26bQBTG8b8DxvU1xrHs0DRSk0ZVn6RP1/fqolV33fQe2fJdGAYP2MAwXdAqTWpDuq387WbgJ50zHAattf7w5rXFo3MCqBSj9m8k2GZW8/HEXIIb6OZQA5ClSZzoEvIRwpXuv3QAiMXa9cvIOyDT54N8KSe3SpQV9hbqZ0Nn2ALA/4w/VSXkPdg3dvfmHAAXd9zYlZARyFOp6x0AVNe2e0H+SGvNvrZMQHjual4FINha/av8wFUkZXiIpGL21VoCEAcVpxEBsFtNJ9vsAEFOzOAUAKPeGF7lwyNva9EqPUTCWTTJJ6Z5+eLZ835eY0POn+w7CRNgm/gnFQDsE6c2uARAiFGv7R8iWZb8WqauCHd5Ncponjk7pZJEZX+Tu+z8xdjO/dYznbSXBN5axEWEYPopGQGg0U/7Mpr/ICwm4VQt2gBYg4uLniG+4S/29PJHorkY5V+19arXue54LFpmMYnj34Pc6W5odHW7Xq0Uk7sIz10t8XwZPxiBwwR/+sWwN99nwYOfoYDIcXXdihajdXJ/v7L/dYCmbbetdOP7wX1TQAzTNCo6S1NVchkcc8wxx/z/+QnnU9ALxc2wkgAAAABJRU5ErkJggg==\" style=\"height: auto\">\n",
       "              <figcaption style=\"font-size: 0.6em\">50.0</figcaption>\n",
       "            </figure>\n",
       "        \n",
       "        </div>\n",
       "    "
      ],
      "text/plain": [
       "<IPython.core.display.HTML object>"
      ]
     },
     "execution_count": 118,
     "metadata": {},
     "output_type": "execute_result"
    }
   ],
   "source": [
    "pc_imgs = []\n",
    "pc_caps = []\n",
    "evr_cumsum = np.cumsum(xy_pca.explained_variance_ratio_)\n",
    "\n",
    "for i, cumsum in zip(range(10), evr_cumsum):\n",
    "    pc = xy_pca.components_[i].copy()\n",
    "    pc *= xy_data.std(axis=0)\n",
    "    pc += xy_data.mean(axis=0)\n",
    "    # pc[pc < 127] = 0\n",
    "    # pc[pc > 0] = 255\n",
    "    # display_kernel_raw(pc, 1)\n",
    "    pc_img = Image.new('L', size=(IMAGE_SIZE, IMAGE_SIZE))\n",
    "    pc_img_draw = ImageDraw.Draw(pc_img)\n",
    "    pc_img_draw.line([(0, 0), tuple(pc)], fill=255)\n",
    "    pc_imgs.append(pc_img.resize((50, 50)))\n",
    "    pc_caps.append(f'{xy_pca.explained_variance_ratio_[i] * 100:.1f}')\n",
    "\n",
    "    if cumsum >= 1:\n",
    "        break\n",
    "\n",
    "display_images(pc_imgs, captions=pc_caps)"
   ]
  },
  {
   "cell_type": "code",
   "execution_count": 119,
   "id": "702f7c52-a7eb-431c-860a-1dc352e4304c",
   "metadata": {},
   "outputs": [
    {
     "name": "stdout",
     "output_type": "stream",
     "text": [
      "[0. 0. 0. 0. 0. 0. 0. 0. 0. 0.]                                          0.00   0.00\n",
      "[0. 0. 0. 0. 0. 0. 0. 0. 0. 0.]                                          0.00   0.00\n",
      "\n",
      "[1. 0. 0. 0. 0. 0. 0. 0. 0. 0.]                                          0.10   0.30\n",
      "[ 3.   -0.33 -0.33 -0.33 -0.33 -0.33 -0.33 -0.33 -0.33 -0.33]           -0.00   1.00\n",
      "\n",
      "[1. 1. 0. 0. 0. 0. 0. 0. 0. 0.]                                          0.20   0.40\n",
      "[ 2.   2.  -0.5 -0.5 -0.5 -0.5 -0.5 -0.5 -0.5 -0.5]                     -0.00   1.00\n",
      "\n",
      "[1. 1. 1. 0. 0. 0. 0. 0. 0. 0.]                                          0.30   0.46\n",
      "[ 1.53  1.53  1.53 -0.65 -0.65 -0.65 -0.65 -0.65 -0.65 -0.65]           -0.00   1.00\n",
      "\n",
      "[1. 1. 1. 1. 0. 0. 0. 0. 0. 0.]                                          0.40   0.49\n",
      "[ 1.22  1.22  1.22  1.22 -0.82 -0.82 -0.82 -0.82 -0.82 -0.82]           -0.00   1.00\n",
      "\n",
      "[1. 1. 1. 1. 1. 0. 0. 0. 0. 0.]                                          0.50   0.50\n",
      "[ 1.  1.  1.  1.  1. -1. -1. -1. -1. -1.]                                0.00   1.00\n",
      "\n",
      "[1. 1. 1. 1. 1. 1. 0. 0. 0. 0.]                                          0.60   0.49\n",
      "[ 0.82  0.82  0.82  0.82  0.82  0.82 -1.22 -1.22 -1.22 -1.22]            0.00   1.00\n",
      "\n",
      "[1. 1. 1. 1. 1. 1. 1. 0. 0. 0.]                                          0.70   0.46\n",
      "[ 0.65  0.65  0.65  0.65  0.65  0.65  0.65 -1.53 -1.53 -1.53]            0.00   1.00\n",
      "\n",
      "[1. 1. 1. 1. 1. 1. 1. 1. 0. 0.]                                          0.80   0.40\n",
      "[ 0.5  0.5  0.5  0.5  0.5  0.5  0.5  0.5 -2.  -2. ]                     -0.00   1.00\n",
      "\n",
      "[1. 1. 1. 1. 1. 1. 1. 1. 1. 0.]                                          0.90   0.30\n",
      "[ 0.33  0.33  0.33  0.33  0.33  0.33  0.33  0.33  0.33 -3.  ]           -0.00   1.00\n",
      "\n",
      "[1. 1. 1. 1. 1. 1. 1. 1. 1. 1.]                                          1.00   0.00\n",
      "[0. 0. 0. 0. 0. 0. 0. 0. 0. 0.]                                          0.00   0.00\n",
      "\n"
     ]
    }
   ],
   "source": [
    "for i in range(10 + 1):\n",
    "    arr = [1] * i + [0] * (10 - i)\n",
    "    arr = np.array(arr)\n",
    "    print(f'{str(np.round(arr.astype(np.float32), decimals=1)):70} {arr.mean():6.2f} {arr.std():6.2f}')\n",
    "    print(f'{str(np.round(preprocessing.scale(arr), decimals=2)):70} {preprocessing.scale(arr).mean():6.2f} {preprocessing.scale(arr).std():6.2f}\\n')\n",
    "    "
   ]
  },
  {
   "cell_type": "code",
   "execution_count": 120,
   "id": "7a16aed7-c36e-4369-8078-f1877cf20db6",
   "metadata": {},
   "outputs": [
    {
     "data": {
      "image/png": "[encoded data removed]",
      "text/plain": [
       "<Figure size 1200x800 with 1 Axes>"
      ]
     },
     "metadata": {},
     "output_type": "display_data"
    }
   ],
   "source": [
    "x = np.random.randn(100)\n",
    "noise = np.random.randn(100) / 5\n",
    "y = x + (noise - noise.mean())\n",
    "# y = x + 0.5\n",
    "\n",
    "plt.scatter(x, y)\n",
    "plt.xlim(-1, 1)\n",
    "plt.ylim(-1, 1)\n",
    "plt.show()"
   ]
  },
  {
   "cell_type": "code",
   "execution_count": 121,
   "id": "7e59fb45-65a8-48e8-a284-48f3e2a54af0",
   "metadata": {},
   "outputs": [
    {
     "data": {
      "text/plain": [
       "array([[1.  , 0.98],\n",
       "       [0.98, 1.  ]])"
      ]
     },
     "execution_count": 121,
     "metadata": {},
     "output_type": "execute_result"
    }
   ],
   "source": [
    "dataset = np.vstack((x, y)).T\n",
    "dataset_norm = preprocessing.scale(dataset)\n",
    "cov1 = (dataset_norm.T @ dataset_norm) / dataset.shape[0]\n",
    "np.round(cov1, decimals=2)"
   ]
  },
  {
   "cell_type": "code",
   "execution_count": 122,
   "id": "d3ded7b9-aa6b-45fc-87e9-3bf7a05ded6c",
   "metadata": {},
   "outputs": [],
   "source": [
    "evc = np.linalg.eig(cov1).eigenvectors"
   ]
  },
  {
   "cell_type": "code",
   "execution_count": 123,
   "id": "7c9522c4-ad03-4b61-a2ac-1b49c1f141c6",
   "metadata": {},
   "outputs": [
    {
     "data": {
      "text/plain": [
       "array([[ 0.02, -0.  ],\n",
       "       [-0.  ,  1.98]])"
      ]
     },
     "execution_count": 123,
     "metadata": {},
     "output_type": "execute_result"
    }
   ],
   "source": [
    "dataset_norm_rot = (dataset_norm @ evc)\n",
    "cov2 = (dataset_norm_rot.T @ dataset_norm_rot) / dataset.shape[0]\n",
    "np.round(cov2, decimals=2)"
   ]
  },
  {
   "cell_type": "code",
   "execution_count": 124,
   "id": "68051a8c-5697-42e7-9a7f-079c034aae91",
   "metadata": {},
   "outputs": [
    {
     "data": {
      "image/png": "[encoded data removed]",
      "text/plain": [
       "<Figure size 1200x800 with 1 Axes>"
      ]
     },
     "metadata": {},
     "output_type": "display_data"
    }
   ],
   "source": [
    "plt.scatter(dataset_norm_rot[:,0], dataset_norm_rot[:,1])\n",
    "plt.xlim(-1, 1)\n",
    "plt.ylim(-1, 1)\n",
    "plt.show()"
   ]
  },
  {
   "cell_type": "code",
   "execution_count": 125,
   "id": "41b96f2c-de11-4780-ae0b-e8dcdce484fb",
   "metadata": {},
   "outputs": [
    {
     "data": {
      "text/plain": [
       "array([0., 0.])"
      ]
     },
     "execution_count": 125,
     "metadata": {},
     "output_type": "execute_result"
    }
   ],
   "source": [
    "np.round([dataset_norm_rot[:,0].mean(), dataset_norm_rot[:,1].mean()], decimals=3)"
   ]
  },
  {
   "cell_type": "code",
   "execution_count": 126,
   "id": "9473df8e-b5f4-4230-9183-518d2745730e",
   "metadata": {},
   "outputs": [
    {
     "data": {
      "text/plain": [
       "array([0.139, 1.407])"
      ]
     },
     "execution_count": 126,
     "metadata": {},
     "output_type": "execute_result"
    }
   ],
   "source": [
    "np.round([dataset_norm_rot[:,0].std(), dataset_norm_rot[:,1].std()], decimals=3)"
   ]
  },
  {
   "cell_type": "code",
   "execution_count": 127,
   "id": "5c2fb559-5bdb-4c53-a4c8-ca0e509d98c1",
   "metadata": {},
   "outputs": [],
   "source": [
    "x = np.array([1, 1, 0, 0])\n",
    "y = np.array([0, 0, 1, 1])\n",
    "z = np.array([0, 0, 0, 1])\n",
    "w = np.array([0, 0, 1, 0])\n",
    "o = np.array([0, 0, 0, 0])\n",
    "dataset = np.vstack((x, x, x, y, y, z, w, o)) \n",
    "\n",
    "\n",
    "# a = np.array([0, 1, 0, 0, 1, 0, 0, 1, 0])\n",
    "# b = np.array([0, 0, 0, 1, 1, 1, 0, 0, 0])\n",
    "# o = np.array([0, 0, 0, 0, 0, 0, 0, 0, 0])\n",
    "# dataset = np.vstack((a, b, a, b, a, b, a, a, a, b, a, a, a, b, o, o, o)) \n",
    "\n",
    "# x = np.array([1, 1])\n",
    "# y = np.array([0, 0])\n",
    "# dataset = None\n",
    "# dataset = np.vstack((x, y)) \n"
   ]
  },
  {
   "cell_type": "code",
   "execution_count": 128,
   "id": "d1bbd532-9e4f-41c4-b3fc-3dcde1c51f32",
   "metadata": {},
   "outputs": [
    {
     "data": {
      "text/plain": [
       "array([[1, 1, 0, 0],\n",
       "       [1, 1, 0, 0],\n",
       "       [1, 1, 0, 0],\n",
       "       [0, 0, 1, 1],\n",
       "       [0, 0, 1, 1],\n",
       "       [0, 0, 0, 1],\n",
       "       [0, 0, 1, 0],\n",
       "       [0, 0, 0, 0]])"
      ]
     },
     "execution_count": 128,
     "metadata": {},
     "output_type": "execute_result"
    }
   ],
   "source": [
    "dataset"
   ]
  },
  {
   "cell_type": "code",
   "execution_count": 129,
   "id": "698d85a7-fab2-4b28-b6ff-af00b5d04857",
   "metadata": {},
   "outputs": [
    {
     "data": {
      "text/plain": [
       "array([[ 1.29,  1.29, -0.77, -0.77],\n",
       "       [ 1.29,  1.29, -0.77, -0.77],\n",
       "       [ 1.29,  1.29, -0.77, -0.77],\n",
       "       [-0.77, -0.77,  1.29,  1.29],\n",
       "       [-0.77, -0.77,  1.29,  1.29],\n",
       "       [-0.77, -0.77, -0.77,  1.29],\n",
       "       [-0.77, -0.77,  1.29, -0.77],\n",
       "       [-0.77, -0.77, -0.77, -0.77]])"
      ]
     },
     "execution_count": 129,
     "metadata": {},
     "output_type": "execute_result"
    }
   ],
   "source": [
    "dataset_norm = preprocessing.scale(dataset)\n",
    "np.round(dataset_norm, decimals=2)"
   ]
  },
  {
   "cell_type": "code",
   "execution_count": 130,
   "id": "833be321-e40b-4f48-80d4-05a75cb6b5b3",
   "metadata": {},
   "outputs": [
    {
     "data": {
      "text/plain": [
       "array([[1., 1., 0., 0.],\n",
       "       [1., 1., 0., 0.],\n",
       "       [1., 1., 0., 0.],\n",
       "       [0., 0., 1., 1.],\n",
       "       [0., 0., 1., 1.],\n",
       "       [0., 0., 0., 1.],\n",
       "       [0., 0., 1., 0.],\n",
       "       [0., 0., 0., 0.]])"
      ]
     },
     "execution_count": 130,
     "metadata": {},
     "output_type": "execute_result"
    }
   ],
   "source": [
    "(dataset_norm * dataset.std(axis=0)) + dataset.mean(axis=0)"
   ]
  },
  {
   "cell_type": "code",
   "execution_count": 131,
   "id": "c6696f0e-7d5f-4829-b07a-bd6faaa2961a",
   "metadata": {},
   "outputs": [
    {
     "data": {
      "text/plain": [
       "array([[ 1.  ,  1.  , -0.6 , -0.6 ],\n",
       "       [ 1.  ,  1.  , -0.6 , -0.6 ],\n",
       "       [-0.6 , -0.6 ,  1.  ,  0.47],\n",
       "       [-0.6 , -0.6 ,  0.47,  1.  ]])"
      ]
     },
     "execution_count": 131,
     "metadata": {},
     "output_type": "execute_result"
    }
   ],
   "source": [
    "cov1 = (dataset_norm.T @ dataset_norm) / dataset.shape[0]\n",
    "np.round(cov1, decimals=2)"
   ]
  },
  {
   "cell_type": "code",
   "execution_count": 132,
   "id": "8e530460-157d-4422-bce9-7481b07375ac",
   "metadata": {},
   "outputs": [
    {
     "data": {
      "text/plain": [
       "(array([[-0.6, -0.7, -0.4, -0. ],\n",
       "        [-0.6,  0.7, -0.4, -0. ],\n",
       "        [ 0.4, -0. , -0.6, -0.7],\n",
       "        [ 0.4, -0. , -0.6,  0.7]]),\n",
       " array([ 2.96, -0.  ,  0.5 ,  0.53]))"
      ]
     },
     "execution_count": 132,
     "metadata": {},
     "output_type": "execute_result"
    }
   ],
   "source": [
    "eig = np.linalg.eig(cov1)\n",
    "evc = eig.eigenvectors\n",
    "eva = eig.eigenvalues\n",
    "np.round(evc, decimals=1), np.round(eva, decimals=2)"
   ]
  },
  {
   "cell_type": "code",
   "execution_count": 133,
   "id": "e7df5cef-8c9f-4191-8d1d-9c77e7d68eb5",
   "metadata": {},
   "outputs": [
    {
     "data": {
      "text/plain": [
       "array([[0., 0., 0., 0.],\n",
       "       [0., 1., 0., 0.],\n",
       "       [1., 0., 0., 0.],\n",
       "       [1., 0., 0., 1.]])"
      ]
     },
     "execution_count": 133,
     "metadata": {},
     "output_type": "execute_result"
    }
   ],
   "source": [
    "np.round(((evc).T * dataset.std(axis=0) + dataset.mean(axis=0)).T, decimals=0)"
   ]
  },
  {
   "cell_type": "code",
   "execution_count": null,
   "id": "d4c06065-e04d-431e-8fc9-e960ca0b642d",
   "metadata": {},
   "outputs": [],
   "source": []
  },
  {
   "cell_type": "code",
   "execution_count": null,
   "id": "ad38a6be-828b-4c30-b2bd-0335fe2be491",
   "metadata": {},
   "outputs": [],
   "source": []
  },
  {
   "cell_type": "code",
   "execution_count": null,
   "id": "039cfdf0-5736-482b-a2e2-092493425a9d",
   "metadata": {},
   "outputs": [],
   "source": []
  },
  {
   "cell_type": "code",
   "execution_count": 134,
   "id": "b024ef5d-ae38-47ac-8088-f96962011584",
   "metadata": {},
   "outputs": [
    {
     "data": {
      "text/plain": [
       "array([ 2.96, -0.  ,  0.5 ,  0.53])"
      ]
     },
     "execution_count": 134,
     "metadata": {},
     "output_type": "execute_result"
    }
   ],
   "source": [
    "np.round(eig.eigenvalues, decimals=2)"
   ]
  },
  {
   "cell_type": "code",
   "execution_count": 135,
   "id": "aacff0f4-d666-4104-b34f-1fe705ab4f9f",
   "metadata": {},
   "outputs": [
    {
     "data": {
      "text/plain": [
       "array([ 0., -0.,  0.])"
      ]
     },
     "execution_count": 135,
     "metadata": {},
     "output_type": "execute_result"
    }
   ],
   "source": [
    "np.round([evc[:,0] @ evc[:,1].T, evc[:,0] @ evc[:,2].T, evc[:,0] @ evc[:,3].T], decimals=2)"
   ]
  },
  {
   "cell_type": "code",
   "execution_count": null,
   "id": "0908ede9-dbea-4ef9-9f9d-1ed985607b76",
   "metadata": {},
   "outputs": [],
   "source": []
  },
  {
   "cell_type": "code",
   "execution_count": 136,
   "id": "04915389-2afc-4069-ad14-d5cbbb755775",
   "metadata": {},
   "outputs": [
    {
     "data": {
      "text/plain": [
       "array([[2.96, 0.  , 0.  , 0.  ],\n",
       "       [0.  , 0.  , 0.  , 0.  ],\n",
       "       [0.  , 0.  , 0.5 , 0.  ],\n",
       "       [0.  , 0.  , 0.  , 0.53]])"
      ]
     },
     "execution_count": 136,
     "metadata": {},
     "output_type": "execute_result"
    }
   ],
   "source": [
    "dataset_norm_rot = (dataset_norm @ evc)\n",
    "cov2 = (dataset_norm_rot.T @ dataset_norm_rot) / dataset.shape[0]\n",
    "np.round(cov2, decimals=2)"
   ]
  },
  {
   "cell_type": "code",
   "execution_count": null,
   "id": "4c4edc70-6b11-4503-86f0-1172d320c39e",
   "metadata": {},
   "outputs": [],
   "source": []
  },
  {
   "cell_type": "code",
   "execution_count": 137,
   "id": "587a3382-7354-41fc-b9b4-03d0d596431a",
   "metadata": {},
   "outputs": [
    {
     "data": {
      "text/plain": [
       "array([[ 0.,  1.,  0.,  0.],\n",
       "       [ 0.,  1.,  0.,  0.],\n",
       "       [ 0.,  1.,  0.,  0.],\n",
       "       [-0.,  0.,  0.,  1.],\n",
       "       [-0.,  0.,  0.,  1.],\n",
       "       [ 1.,  0.,  1.,  0.],\n",
       "       [ 1.,  0.,  1.,  0.],\n",
       "       [ 1.,  1.,  1.,  0.]])"
      ]
     },
     "execution_count": 137,
     "metadata": {},
     "output_type": "execute_result"
    }
   ],
   "source": [
    "dataset_norm_mapped = dataset_norm @ evc0\n",
    "dataset_norm_restored = dataset_norm_mapped @ evc.T\n",
    "dataset_norm_restored2 = (dataset_norm_restored * dataset.std(axis=0)) + dataset.mean(axis=0)\n",
    "np.round(dataset_norm_restored2, decimals=0)"
   ]
  },
  {
   "cell_type": "code",
   "execution_count": 138,
   "id": "5d14072b-5bb2-4e38-bef5-1bfa692d081d",
   "metadata": {},
   "outputs": [
    {
     "data": {
      "text/plain": [
       "array([[0., 0., 0., 0.],\n",
       "       [0., 0., 0., 0.],\n",
       "       [1., 0., 0., 0.],\n",
       "       [1., 0., 0., 0.]])"
      ]
     },
     "execution_count": 138,
     "metadata": {},
     "output_type": "execute_result"
    }
   ],
   "source": [
    "evc0 = evc.copy()\n",
    "\n",
    "for i in range(1, evc0.shape[1]):\n",
    "    evc0[:,i] = 0\n",
    "    \n",
    "evc0 = evc0 * dataset.std(axis=0)\n",
    "evc0 += dataset.mean(axis=0)\n",
    "np.round(evc0, decimals=0)"
   ]
  },
  {
   "cell_type": "code",
   "execution_count": 139,
   "id": "416f0255-a4e4-460d-8ab1-90bc06651b6f",
   "metadata": {},
   "outputs": [
    {
     "data": {
      "text/plain": [
       "array([0.375, 0.375, 0.375, 0.375])"
      ]
     },
     "execution_count": 139,
     "metadata": {},
     "output_type": "execute_result"
    }
   ],
   "source": [
    "dataset.mean(axis=0)"
   ]
  },
  {
   "cell_type": "code",
   "execution_count": 140,
   "id": "2d3c23eb-4391-4756-b691-d5dd963a9e3e",
   "metadata": {},
   "outputs": [
    {
     "data": {
      "text/plain": [
       "array([[1, 1, 0, 0],\n",
       "       [1, 1, 0, 0],\n",
       "       [1, 1, 0, 0],\n",
       "       [0, 0, 1, 1],\n",
       "       [0, 0, 1, 1],\n",
       "       [0, 0, 0, 1],\n",
       "       [0, 0, 1, 0],\n",
       "       [0, 0, 0, 0]])"
      ]
     },
     "execution_count": 140,
     "metadata": {},
     "output_type": "execute_result"
    }
   ],
   "source": [
    "dataset"
   ]
  },
  {
   "cell_type": "code",
   "execution_count": 149,
   "id": "15cae61b-7ce5-41f3-b436-285dd92c9f4b",
   "metadata": {},
   "outputs": [
    {
     "ename": "NameError",
     "evalue": "name 'Y' is not defined",
     "output_type": "error",
     "traceback": [
      "\u001b[0;31m---------------------------------------------------------------------------\u001b[0m",
      "\u001b[0;31mNameError\u001b[0m                                 Traceback (most recent call last)",
      "Cell \u001b[0;32mIn[149], line 1\u001b[0m\n\u001b[0;32m----> 1\u001b[0m C \u001b[38;5;241m=\u001b[39m cov_mat(Y\u001b[38;5;241m.\u001b[39mT)\n\u001b[1;32m      2\u001b[0m eVe, eVa \u001b[38;5;241m=\u001b[39m np\u001b[38;5;241m.\u001b[39mlinalg\u001b[38;5;241m.\u001b[39meig(C)\n\u001b[1;32m      4\u001b[0m plt\u001b[38;5;241m.\u001b[39mscatter(Y[:, \u001b[38;5;241m0\u001b[39m], Y[:, \u001b[38;5;241m1\u001b[39m])\n",
      "\u001b[0;31mNameError\u001b[0m: name 'Y' is not defined"
     ]
    }
   ],
   "source": [
    "C = cov_mat(Y.T)\n",
    "eVe, eVa = np.linalg.eig(C)\n",
    "\n",
    "plt.scatter(Y[:, 0], Y[:, 1])\n",
    "\n",
    "for e, v in zip(eVe, eVa.T):\n",
    "    plt.plot([0, 3*np.sqrt(e)*v[0]], [0, 3*np.sqrt(e)*v[1]], 'k-', lw=2)\n",
    "\n",
    "plt.title('Transformed Data')\n",
    "plt.axis('equal');"
   ]
  },
  {
   "cell_type": "code",
   "execution_count": null,
   "id": "6f7bf43c-4fa0-4f62-b69c-dfb67e3ffdc2",
   "metadata": {},
   "outputs": [],
   "source": []
  },
  {
   "cell_type": "code",
   "execution_count": null,
   "id": "d27fcf66-78b5-4aa0-94b2-8f88c3eda2dd",
   "metadata": {},
   "outputs": [],
   "source": []
  },
  {
   "cell_type": "code",
   "execution_count": null,
   "id": "0cd80292-c392-4bdc-aa87-38e158761fd2",
   "metadata": {},
   "outputs": [],
   "source": []
  },
  {
   "cell_type": "code",
   "execution_count": null,
   "id": "a7b24529-8932-4497-a934-780b99434e97",
   "metadata": {},
   "outputs": [],
   "source": [
    "plt.style.use('ggplot')\n",
    "plt.rcParams['figure.figsize'] = (12, 8)\n",
    "\n",
    "# Normal distributed x and y vector with mean 0 and standard deviation 1\n",
    "x = np.clip(np.random.normal(0, 1, 500), -1, 1)\n",
    "#y = np.random.normal(0, 1, 500)\n",
    "y = np.sqrt(1 - np.pow(x, 2))\n",
    "X = np.vstack((x, y)).T\n",
    "\n",
    "plt.scatter(X[:, 0], X[:, 1])\n",
    "plt.title('Generated Data')\n",
    "plt.axis('equal');"
   ]
  },
  {
   "cell_type": "code",
   "execution_count": 148,
   "id": "33a09905-5ffa-4a4f-ac70-a6763249d788",
   "metadata": {},
   "outputs": [
    {
     "data": {
      "text/plain": [
       "array([[0.48, 0.01],\n",
       "       [0.01, 0.18]])"
      ]
     },
     "execution_count": 148,
     "metadata": {},
     "output_type": "execute_result"
    }
   ],
   "source": [
    "# Covariance\n",
    "def cov(x, y):\n",
    "    xbar, ybar = x.mean(), y.mean()\n",
    "    return np.sum((x - xbar)*(y - ybar))/(len(x) - 1)\n",
    "\n",
    "# Covariance matrix\n",
    "def cov_mat(X):\n",
    "    return np.array([[cov(X[0], X[0]), cov(X[0], X[1])], \\\n",
    "                     [cov(X[1], X[0]), cov(X[1], X[1])]])\n",
    "\n",
    "# Calculate covariance matrix \n",
    "np.round(cov_mat(X.T), decimals=2)"
   ]
  },
  {
   "cell_type": "code",
   "execution_count": null,
   "id": "a55007d8-0a2d-42f1-b1b3-0ecbedab0de3",
   "metadata": {},
   "outputs": [],
   "source": [
    "# Center the matrix at the origin\n",
    "X = X - np.mean(X, 0)\n",
    "\n",
    "# Scaling matrix\n",
    "sx, sy = 1.5, 1\n",
    "Scale = np.array([[sx, 0], [0, sy]])\n",
    "\n",
    "# Apply scaling matrix to X\n",
    "#Y = X.dot(Scale)\n",
    "Y = (Scale @ X.T).T\n",
    "\n",
    "plt.scatter(Y[:, 0], Y[:, 1])\n",
    "plt.title('Transformed Data')\n",
    "plt.axis('equal')\n",
    "\n",
    "# Calculate covariance matrix\n",
    "np.round(cov_mat(Y.T), decimals=2)"
   ]
  },
  {
   "cell_type": "code",
   "execution_count": null,
   "id": "82ff3896-7fef-48c6-91de-9c1f2b1bbbdc",
   "metadata": {},
   "outputs": [],
   "source": [
    "# Scaling matrix\n",
    "sx, sy = 1, 0.5\n",
    "Scale = np.array([[sx, 0], [0, sy]])\n",
    "\n",
    "# Rotation matrix\n",
    "theta = 1/6 * np.pi\n",
    "c, s = np.cos(theta), np.sin(theta)\n",
    "Rot = np.array([[c, -s], [s, c]])\n",
    "\n",
    "# Transformation matrix\n",
    "#T = Scale.dot(Rot)\n",
    "T = Rot @ Scale\n",
    "#T = Rot\n",
    "\n",
    "# Apply transformation matrix to X\n",
    "#Y = X.dot(T)\n",
    "#Y = X @ T\n",
    "#Y = (X @ T.T)\n",
    "Y = (T @ X.T).T # the same as (X @ T.T)\n",
    "\n",
    "# plt.scatter(X[:, 0], X[:, 1], c='b')\n",
    "\n",
    "plt.scatter(Y[:, 0], Y[:, 1])\n",
    "plt.title(f'Transformed Data {sx, sy, theta/np.pi}')\n",
    "plt.axis('equal')\n",
    "\n",
    "# plt.plot([0, Rot[:,0][0]], [0, Rot[:,0][1]], 'k-', lw=2)\n",
    "# plt.plot([0, Rot[:,1][0]], [0, Rot[:,1][1]], 'k-', lw=2)\n",
    "\n",
    "plt.plot([0, T[:,0][0]], [0, T[:,0][1]], 'k-', lw=2)\n",
    "plt.plot([0, T[:,1][0]], [0, T[:,1][1]], 'k-', lw=2)\n",
    "\n",
    "# plt.plot([0, 0.81], [0, 0.59], 'k-', lw=2)\n",
    "# plt.plot([0, -0.12], [0, 0.16], 'k-', lw=2)\n",
    "\n",
    "# Calculate covariance matrix\n",
    "np.round([T, Rot, cov_mat(Y.T)], decimals=2)"
   ]
  },
  {
   "cell_type": "code",
   "execution_count": null,
   "id": "6a427491-b68e-47f3-ba77-3590ec6ac4d2",
   "metadata": {},
   "outputs": [],
   "source": [
    "import io\n",
    "from IPython.display import HTML\n",
    "\n",
    "animation = []\n",
    "\n",
    "for angle in range(0, 210, 5):\n",
    "    # Scaling matrix\n",
    "    sx, sy = 0.7, 3.4\n",
    "    Scale = np.array([[sx, 0], [0, sy]])\n",
    "    \n",
    "    # Rotation matrix\n",
    "    theta = (angle / 100) * np.pi\n",
    "    c, s = np.cos(theta), np.sin(theta)\n",
    "    Rot = np.array([[c, -s], [s, c]])\n",
    "    \n",
    "    # Transformation matrix\n",
    "    T = Rot @ Scale\n",
    "    \n",
    "    # Apply transformation matrix to X\n",
    "    Y = (T @ X.T).T # the same as (X @ T.T)\n",
    "\n",
    "    plt.clf()\n",
    "    #plt.scatter(X[:, 0], X[:, 1], c='b')\n",
    "    \n",
    "    plt.scatter(Y[:, 0], Y[:, 1])\n",
    "    plt.title(f'Transformed Data {sx, sy, theta/np.pi}')\n",
    "    plt.axis('equal')\n",
    "\n",
    "    plt.plot([0, Rot[:,0][0]], [0, Rot[:,0][1]], 'b', lw=2)\n",
    "    plt.plot([0, Rot[:,1][0]], [0, Rot[:,1][1]], 'b', lw=2)\n",
    "\n",
    "    \n",
    "    plt.plot([0, T[:,0][0]], [0, T[:,0][1]], 'k-', lw=2)\n",
    "    plt.plot([0, T[:,1][0]], [0, T[:,1][1]], 'k-', lw=2)\n",
    "\n",
    "    inmemoryfile = io.BytesIO()\n",
    "    plt.savefig(inmemoryfile)\n",
    "\n",
    "    img = Image.open(inmemoryfile)\n",
    "    animation.append(img)\n",
    "\n",
    "plt.clf()\n",
    "animation[0].save(\"animation.gif\", save_all=True, append_images=animation[1:], duration=500)"
   ]
  },
  {
   "cell_type": "code",
   "execution_count": null,
   "id": "307e9f29-9230-413e-a520-4126ac29bde3",
   "metadata": {},
   "outputs": [],
   "source": [
    "HTML('<img src=\"animation.gif\">')"
   ]
  },
  {
   "cell_type": "code",
   "execution_count": null,
   "id": "b7bb2f2c-0890-4b68-86bc-d60c256e7b6c",
   "metadata": {},
   "outputs": [],
   "source": [
    "C = cov_mat(Y.T)\n",
    "eVe, eVa = np.linalg.eig(C)\n",
    "\n",
    "plt.scatter(Y[:, 0], Y[:, 1])\n",
    "\n",
    "for e, v in zip(eVe, eVa.T):\n",
    "    plt.plot([0, 3*np.sqrt(e)*v[0]], [0, 3*np.sqrt(e)*v[1]], 'k-', lw=2)\n",
    "    \n",
    "plt.title('Transformed Data')\n",
    "plt.axis('equal');\n"
   ]
  },
  {
   "cell_type": "code",
   "execution_count": 235,
   "id": "3a0ac026-039f-4b09-9c11-a5afbf8be3fd",
   "metadata": {},
   "outputs": [
    {
     "data": {
      "image/png": "[encoded data removed]",
      "text/plain": [
       "<Figure size 1200x800 with 1 Axes>"
      ]
     },
     "metadata": {},
     "output_type": "display_data"
    }
   ],
   "source": [
    "x = np.random.randn(5)\n",
    "y = np.random.randn(5)\n",
    "z = 10 * x - y\n",
    "# z = - 10 * y\n",
    "\n",
    "plt.scatter(y, z)\n",
    "plt.show()"
   ]
  },
  {
   "cell_type": "code",
   "execution_count": null,
   "id": "4db3869e-64a8-4754-a0df-969ecb9bae37",
   "metadata": {},
   "outputs": [],
   "source": []
  },
  {
   "cell_type": "code",
   "execution_count": 236,
   "id": "d6566cdb-b5c6-48e0-af35-3f19304042f3",
   "metadata": {},
   "outputs": [],
   "source": [
    "dataset = np.vstack([x, y, z]).T\n",
    "dataset_norm = preprocessing.scale(dataset)\n",
    "dataset_cov = (dataset_norm.T @ dataset_norm) / (dataset.shape[0] - 1)"
   ]
  },
  {
   "cell_type": "code",
   "execution_count": 237,
   "id": "2989ad33-b0d5-42f5-9128-84b98e2f58c0",
   "metadata": {},
   "outputs": [
    {
     "data": {
      "text/plain": [
       "array([[-0.11704504, -0.70561985, -0.46483053],\n",
       "       [-0.88672739,  0.45884534, -9.32611928],\n",
       "       [ 1.05676843, -0.57707089, 11.14475521],\n",
       "       [-0.13169248,  1.90978501, -3.22670981],\n",
       "       [-0.87810442, -1.70566946, -7.07537472]])"
      ]
     },
     "execution_count": 237,
     "metadata": {},
     "output_type": "execute_result"
    }
   ],
   "source": [
    "dataset"
   ]
  },
  {
   "cell_type": "code",
   "execution_count": 189,
   "id": "eb3a15c1-c316-4fe7-9520-3fce3fbbd198",
   "metadata": {},
   "outputs": [
    {
     "data": {
      "text/plain": [
       "array([[ 1.01010101,  0.02549492,  1.00552361],\n",
       "       [ 0.02549492,  1.01010101, -0.07064371],\n",
       "       [ 1.00552361, -0.07064371,  1.01010101]])"
      ]
     },
     "execution_count": 189,
     "metadata": {},
     "output_type": "execute_result"
    }
   ],
   "source": [
    "dataset_cov"
   ]
  },
  {
   "cell_type": "code",
   "execution_count": 193,
   "id": "f0c2224a-7b0d-453f-b497-ac7826b1c00b",
   "metadata": {},
   "outputs": [
    {
     "data": {
      "text/plain": [
       "array([[ 0.70599024, -0.0317741 ,  0.70750844],\n",
       "       [ 0.06997266,  0.99723467, -0.02503685],\n",
       "       [-0.70475642,  0.06718202,  0.70626126]])"
      ]
     },
     "execution_count": 193,
     "metadata": {},
     "output_type": "execute_result"
    }
   ],
   "source": [
    "pca = PCA() #svd_solver='randomized')\n",
    "pca.fit(dataset_norm)\n",
    "pca_data = pca.transform(dataset_norm)\n",
    "pca.components_"
   ]
  },
  {
   "cell_type": "code",
   "execution_count": 191,
   "id": "38cc1051-d1de-42da-9406-38a90f429166",
   "metadata": {},
   "outputs": [
    {
     "data": {
      "image/png": "[encoded data removed]",
      "text/plain": [
       "<Figure size 1200x800 with 1 Axes>"
      ]
     },
     "metadata": {},
     "output_type": "display_data"
    }
   ],
   "source": [
    "per_var = np.round(pca.explained_variance_ratio_ * 100, decimals=1)[:10]\n",
    "per_var_names = [f'PC{i+1}' for i in range(len(per_var))]\n",
    "\n",
    "p = plt.bar(per_var_names, per_var)\n",
    "plt.bar_label(p, map(str, per_var))\n",
    "plt.show()"
   ]
  },
  {
   "cell_type": "code",
   "execution_count": null,
   "id": "c8b938a9-b2ad-4a3f-8ca4-deef1a5dd7d3",
   "metadata": {},
   "outputs": [],
   "source": []
  },
  {
   "cell_type": "code",
   "execution_count": null,
   "id": "0befe268-fd4c-4dd0-8028-8b557fc1a835",
   "metadata": {},
   "outputs": [],
   "source": []
  },
  {
   "cell_type": "code",
   "execution_count": 161,
   "id": "231d8f05-1746-42f5-a8bf-72d6b2b15e53",
   "metadata": {},
   "outputs": [
    {
     "data": {
      "text/plain": [
       "array([[1.        , 0.15570862],\n",
       "       [0.15570862, 1.        ]])"
      ]
     },
     "execution_count": 161,
     "metadata": {},
     "output_type": "execute_result"
    }
   ],
   "source": [
    "dataset = np.vstack([x, y]).T\n",
    "dataset_norm = preprocessing.scale(dataset)\n",
    "dataset_cov = (dataset_norm.T @ dataset_norm) / dataset.shape[0]\n",
    "dataset_cov"
   ]
  },
  {
   "cell_type": "code",
   "execution_count": 159,
   "id": "3e1624da-987b-4ab2-aca3-a6840266ad7f",
   "metadata": {},
   "outputs": [
    {
     "data": {
      "text/plain": [
       "array([[9.31277394e-01, 1.92184805e-02],\n",
       "       [1.92184805e-02, 3.96605774e-04]])"
      ]
     },
     "execution_count": 159,
     "metadata": {},
     "output_type": "execute_result"
    }
   ],
   "source": [
    "cov_mat(dataset_norm)"
   ]
  },
  {
   "cell_type": "code",
   "execution_count": null,
   "id": "3b01a1c7-f6b2-4f6f-960f-322ddf37784d",
   "metadata": {},
   "outputs": [],
   "source": [
    "dataset = np.vstack((x, y)).T\n",
    "dataset_norm = preprocessing.scale(dataset)\n",
    "cov1 = (dataset_norm.T @ dataset_norm) / dataset.shape[0]\n",
    "np.round(cov1, decimals=2)"
   ]
  },
  {
   "cell_type": "code",
   "execution_count": 164,
   "id": "1a46ddfa-ca71-439a-9e97-b075de217088",
   "metadata": {},
   "outputs": [
    {
     "data": {
      "text/plain": [
       "100"
      ]
     },
     "execution_count": 164,
     "metadata": {},
     "output_type": "execute_result"
    }
   ],
   "source": [
    "len(dataset.T[0])"
   ]
  },
  {
   "cell_type": "code",
   "execution_count": 169,
   "id": "cfc7807f-4163-401b-b7b2-4489b0b371be",
   "metadata": {},
   "outputs": [
    {
     "data": {
      "text/plain": [
       "np.float64(1.0644150002423671)"
      ]
     },
     "execution_count": 169,
     "metadata": {},
     "output_type": "execute_result"
    }
   ],
   "source": [
    "cov(dataset.T[1], dataset.T[1])"
   ]
  },
  {
   "cell_type": "code",
   "execution_count": null,
   "id": "415c21fe-0d3e-4bc7-aa4e-5f157947dad9",
   "metadata": {},
   "outputs": [],
   "source": [
    "# Covariance\n",
    "def cov(x, y):\n",
    "    xbar, ybar = x.mean(), y.mean()\n",
    "    return np.sum((x - xbar)*(y - ybar))/(len(x) - 1)\n",
    "\n",
    "# Covariance matrix\n",
    "def cov_mat(X):\n",
    "    return np.array([[cov(X[0], X[0]), cov(X[0], X[1])], \\\n",
    "                     [cov(X[1], X[0]), cov(X[1], X[1])]])\n",
    "\n",
    "# Calculate covariance matrix \n",
    "np.round(cov_mat(X.T), decimals=2)"
   ]
  },
  {
   "cell_type": "code",
   "execution_count": 194,
   "id": "ea6ee729-121f-433f-a5a0-f8d3eb483e50",
   "metadata": {},
   "outputs": [
    {
     "data": {
      "text/plain": [
       "np.float64(-1.27675647831893e-17)"
      ]
     },
     "execution_count": 194,
     "metadata": {},
     "output_type": "execute_result"
    }
   ],
   "source": [
    "dataset_norm.T[1].mean()"
   ]
  },
  {
   "cell_type": "code",
   "execution_count": 263,
   "id": "c7fd2387-f227-4857-be40-0e9353a49300",
   "metadata": {},
   "outputs": [
    {
     "data": {
      "text/plain": [
       "(array([[ 0.03323474, -0.26013247,  0.59247988],\n",
       "        [-0.31097767,  0.2606322 , -3.37040892],\n",
       "        [ 0.55818008, -0.20264362,  5.78444447],\n",
       "        [ 0.02668421,  0.90951214, -0.64267008],\n",
       "        [-0.30712136, -0.70736825, -2.36384535]]),\n",
       " np.float64(7.292457271747727))"
      ]
     },
     "execution_count": 263,
     "metadata": {},
     "output_type": "execute_result"
    }
   ],
   "source": [
    "dataset2 = dataset - dataset.mean(axis=0)\n",
    "dataset2 = dataset2 / np.sqrt(dataset2.shape[0])\n",
    "dataset2, np.linalg.norm(dataset2, 'fro')"
   ]
  },
  {
   "cell_type": "code",
   "execution_count": 264,
   "id": "929dc65d-35cb-40be-ab5d-0f99ca397b79",
   "metadata": {},
   "outputs": [],
   "source": [
    "u, s, v = np.linalg.svd(dataset2)"
   ]
  },
  {
   "cell_type": "code",
   "execution_count": 265,
   "id": "39393966-987e-4875-b780-b18eb163b395",
   "metadata": {},
   "outputs": [
    {
     "data": {
      "text/plain": [
       "((5, 5), (3,), (3, 3))"
      ]
     },
     "execution_count": 265,
     "metadata": {},
     "output_type": "execute_result"
    }
   ],
   "source": [
    "u.shape, s.shape, v.shape"
   ]
  },
  {
   "cell_type": "code",
   "execution_count": 266,
   "id": "9afb07e6-479f-486b-abed-d62f534564ac",
   "metadata": {},
   "outputs": [
    {
     "data": {
      "text/plain": [
       "array([[-0.08324917, -0.2030317 ,  0.43237647, -0.18394105,  0.85502279],\n",
       "       [ 0.47148136,  0.15277775, -0.51427659, -0.67138174,  0.19781414],\n",
       "       [-0.80875692, -0.06108127, -0.55097954, -0.11230416,  0.16121613],\n",
       "       [ 0.09137878,  0.735928  , -0.20286283,  0.50326428,  0.39450176],\n",
       "       [ 0.32914596, -0.62459278, -0.45148466,  0.49952487,  0.21950697]])"
      ]
     },
     "execution_count": 266,
     "metadata": {},
     "output_type": "execute_result"
    }
   ],
   "source": [
    "u"
   ]
  },
  {
   "cell_type": "code",
   "execution_count": 267,
   "id": "e0d56222-ffbc-435e-ade4-007f3a26b877",
   "metadata": {},
   "outputs": [
    {
     "data": {
      "text/plain": [
       "array([7.18926269e+00, 1.22247089e+00, 9.52627985e-17])"
      ]
     },
     "execution_count": 267,
     "metadata": {},
     "output_type": "execute_result"
    }
   ],
   "source": [
    "s"
   ]
  },
  {
   "cell_type": "code",
   "execution_count": 268,
   "id": "92647bd1-40f5-40a0-b2f2-d7d26da815d4",
   "metadata": {},
   "outputs": [
    {
     "data": {
      "text/plain": [
       "array([[-0.09729347,  0.02207614, -0.99501087],\n",
       "       [ 0.10070662,  0.99484105,  0.01222515],\n",
       "       [ 0.99014754, -0.09901475, -0.09901475]])"
      ]
     },
     "execution_count": 268,
     "metadata": {},
     "output_type": "execute_result"
    }
   ],
   "source": [
    "v"
   ]
  },
  {
   "cell_type": "code",
   "execution_count": 270,
   "id": "a734d110-f451-4061-a225-990f06ed1aa9",
   "metadata": {},
   "outputs": [
    {
     "data": {
      "text/plain": [
       "array([3.15334978e+00, 2.24864074e+00, 4.94597182e-16])"
      ]
     },
     "execution_count": 270,
     "metadata": {},
     "output_type": "execute_result"
    }
   ],
   "source": [
    "dataset_norm = preprocessing.scale(dataset)\n",
    "np.linalg.svd(dataset_norm).S"
   ]
  },
  {
   "cell_type": "code",
   "execution_count": null,
   "id": "cf069b1c-0e3e-415b-b73f-af339e0ec2f2",
   "metadata": {},
   "outputs": [],
   "source": []
  },
  {
   "cell_type": "code",
   "execution_count": null,
   "id": "02e0f5c1-29bd-4e1a-b62b-d7d65f7a8a3d",
   "metadata": {},
   "outputs": [],
   "source": []
  },
  {
   "cell_type": "code",
   "execution_count": null,
   "id": "5a70569a-ee92-4b69-9c4c-5f85367121c9",
   "metadata": {},
   "outputs": [],
   "source": []
  },
  {
   "cell_type": "code",
   "execution_count": 347,
   "id": "5a0d5821-590a-437a-b073-886857076e1b",
   "metadata": {},
   "outputs": [],
   "source": [
    "dataset3 = dataset - dataset.mean(axis=0)"
   ]
  },
  {
   "cell_type": "code",
   "execution_count": 348,
   "id": "af2be13b-f0ce-4ef8-bdba-f58a519f6f1e",
   "metadata": {},
   "outputs": [
    {
     "data": {
      "text/plain": [
       "array([[ 6.3100e-01,  4.8000e-02,  6.2570e+00],\n",
       "       [ 4.8000e-02,  1.8800e+00, -1.3960e+00],\n",
       "       [ 6.2570e+00, -1.3960e+00,  6.3964e+01]])"
      ]
     },
     "execution_count": 348,
     "metadata": {},
     "output_type": "execute_result"
    }
   ],
   "source": [
    "dataset3_cov = (dataset3.T @ dataset3) / (dataset3.shape[0]-1)\n",
    "np.round(dataset3_cov, decimals=3)"
   ]
  },
  {
   "cell_type": "code",
   "execution_count": 349,
   "id": "eb3f1a16-f703-4795-99a3-de48e3813d72",
   "metadata": {},
   "outputs": [],
   "source": [
    "dataset3_Y = dataset3 / np.sqrt(dataset.shape[0] - 1)"
   ]
  },
  {
   "cell_type": "code",
   "execution_count": 350,
   "id": "6bedc358-581a-40ec-b65a-7cd4f1ba474b",
   "metadata": {},
   "outputs": [],
   "source": [
    "eval, evec = np.linalg.eig(dataset3_cov)"
   ]
  },
  {
   "cell_type": "code",
   "execution_count": 351,
   "id": "88a37118-3000-46d3-8a20-ee53db17bffc",
   "metadata": {},
   "outputs": [
    {
     "data": {
      "text/html": [
       "<style>#sk-container-id-12 {\n",
       "  /* Definition of color scheme common for light and dark mode */\n",
       "  --sklearn-color-text: #000;\n",
       "  --sklearn-color-text-muted: #666;\n",
       "  --sklearn-color-line: gray;\n",
       "  /* Definition of color scheme for unfitted estimators */\n",
       "  --sklearn-color-unfitted-level-0: #fff5e6;\n",
       "  --sklearn-color-unfitted-level-1: #f6e4d2;\n",
       "  --sklearn-color-unfitted-level-2: #ffe0b3;\n",
       "  --sklearn-color-unfitted-level-3: chocolate;\n",
       "  /* Definition of color scheme for fitted estimators */\n",
       "  --sklearn-color-fitted-level-0: #f0f8ff;\n",
       "  --sklearn-color-fitted-level-1: #d4ebff;\n",
       "  --sklearn-color-fitted-level-2: #b3dbfd;\n",
       "  --sklearn-color-fitted-level-3: cornflowerblue;\n",
       "\n",
       "  /* Specific color for light theme */\n",
       "  --sklearn-color-text-on-default-background: var(--sg-text-color, var(--theme-code-foreground, var(--jp-content-font-color1, black)));\n",
       "  --sklearn-color-background: var(--sg-background-color, var(--theme-background, var(--jp-layout-color0, white)));\n",
       "  --sklearn-color-border-box: var(--sg-text-color, var(--theme-code-foreground, var(--jp-content-font-color1, black)));\n",
       "  --sklearn-color-icon: #696969;\n",
       "\n",
       "  @media (prefers-color-scheme: dark) {\n",
       "    /* Redefinition of color scheme for dark theme */\n",
       "    --sklearn-color-text-on-default-background: var(--sg-text-color, var(--theme-code-foreground, var(--jp-content-font-color1, white)));\n",
       "    --sklearn-color-background: var(--sg-background-color, var(--theme-background, var(--jp-layout-color0, #111)));\n",
       "    --sklearn-color-border-box: var(--sg-text-color, var(--theme-code-foreground, var(--jp-content-font-color1, white)));\n",
       "    --sklearn-color-icon: #878787;\n",
       "  }\n",
       "}\n",
       "\n",
       "#sk-container-id-12 {\n",
       "  color: var(--sklearn-color-text);\n",
       "}\n",
       "\n",
       "#sk-container-id-12 pre {\n",
       "  padding: 0;\n",
       "}\n",
       "\n",
       "#sk-container-id-12 input.sk-hidden--visually {\n",
       "  border: 0;\n",
       "  clip: rect(1px 1px 1px 1px);\n",
       "  clip: rect(1px, 1px, 1px, 1px);\n",
       "  height: 1px;\n",
       "  margin: -1px;\n",
       "  overflow: hidden;\n",
       "  padding: 0;\n",
       "  position: absolute;\n",
       "  width: 1px;\n",
       "}\n",
       "\n",
       "#sk-container-id-12 div.sk-dashed-wrapped {\n",
       "  border: 1px dashed var(--sklearn-color-line);\n",
       "  margin: 0 0.4em 0.5em 0.4em;\n",
       "  box-sizing: border-box;\n",
       "  padding-bottom: 0.4em;\n",
       "  background-color: var(--sklearn-color-background);\n",
       "}\n",
       "\n",
       "#sk-container-id-12 div.sk-container {\n",
       "  /* jupyter's `normalize.less` sets `[hidden] { display: none; }`\n",
       "     but bootstrap.min.css set `[hidden] { display: none !important; }`\n",
       "     so we also need the `!important` here to be able to override the\n",
       "     default hidden behavior on the sphinx rendered scikit-learn.org.\n",
       "     See: https://github.com/scikit-learn/scikit-learn/issues/21755 */\n",
       "  display: inline-block !important;\n",
       "  position: relative;\n",
       "}\n",
       "\n",
       "#sk-container-id-12 div.sk-text-repr-fallback {\n",
       "  display: none;\n",
       "}\n",
       "\n",
       "div.sk-parallel-item,\n",
       "div.sk-serial,\n",
       "div.sk-item {\n",
       "  /* draw centered vertical line to link estimators */\n",
       "  background-image: linear-gradient(var(--sklearn-color-text-on-default-background), var(--sklearn-color-text-on-default-background));\n",
       "  background-size: 2px 100%;\n",
       "  background-repeat: no-repeat;\n",
       "  background-position: center center;\n",
       "}\n",
       "\n",
       "/* Parallel-specific style estimator block */\n",
       "\n",
       "#sk-container-id-12 div.sk-parallel-item::after {\n",
       "  content: \"\";\n",
       "  width: 100%;\n",
       "  border-bottom: 2px solid var(--sklearn-color-text-on-default-background);\n",
       "  flex-grow: 1;\n",
       "}\n",
       "\n",
       "#sk-container-id-12 div.sk-parallel {\n",
       "  display: flex;\n",
       "  align-items: stretch;\n",
       "  justify-content: center;\n",
       "  background-color: var(--sklearn-color-background);\n",
       "  position: relative;\n",
       "}\n",
       "\n",
       "#sk-container-id-12 div.sk-parallel-item {\n",
       "  display: flex;\n",
       "  flex-direction: column;\n",
       "}\n",
       "\n",
       "#sk-container-id-12 div.sk-parallel-item:first-child::after {\n",
       "  align-self: flex-end;\n",
       "  width: 50%;\n",
       "}\n",
       "\n",
       "#sk-container-id-12 div.sk-parallel-item:last-child::after {\n",
       "  align-self: flex-start;\n",
       "  width: 50%;\n",
       "}\n",
       "\n",
       "#sk-container-id-12 div.sk-parallel-item:only-child::after {\n",
       "  width: 0;\n",
       "}\n",
       "\n",
       "/* Serial-specific style estimator block */\n",
       "\n",
       "#sk-container-id-12 div.sk-serial {\n",
       "  display: flex;\n",
       "  flex-direction: column;\n",
       "  align-items: center;\n",
       "  background-color: var(--sklearn-color-background);\n",
       "  padding-right: 1em;\n",
       "  padding-left: 1em;\n",
       "}\n",
       "\n",
       "\n",
       "/* Toggleable style: style used for estimator/Pipeline/ColumnTransformer box that is\n",
       "clickable and can be expanded/collapsed.\n",
       "- Pipeline and ColumnTransformer use this feature and define the default style\n",
       "- Estimators will overwrite some part of the style using the `sk-estimator` class\n",
       "*/\n",
       "\n",
       "/* Pipeline and ColumnTransformer style (default) */\n",
       "\n",
       "#sk-container-id-12 div.sk-toggleable {\n",
       "  /* Default theme specific background. It is overwritten whether we have a\n",
       "  specific estimator or a Pipeline/ColumnTransformer */\n",
       "  background-color: var(--sklearn-color-background);\n",
       "}\n",
       "\n",
       "/* Toggleable label */\n",
       "#sk-container-id-12 label.sk-toggleable__label {\n",
       "  cursor: pointer;\n",
       "  display: flex;\n",
       "  width: 100%;\n",
       "  margin-bottom: 0;\n",
       "  padding: 0.5em;\n",
       "  box-sizing: border-box;\n",
       "  text-align: center;\n",
       "  align-items: start;\n",
       "  justify-content: space-between;\n",
       "  gap: 0.5em;\n",
       "}\n",
       "\n",
       "#sk-container-id-12 label.sk-toggleable__label .caption {\n",
       "  font-size: 0.6rem;\n",
       "  font-weight: lighter;\n",
       "  color: var(--sklearn-color-text-muted);\n",
       "}\n",
       "\n",
       "#sk-container-id-12 label.sk-toggleable__label-arrow:before {\n",
       "  /* Arrow on the left of the label */\n",
       "  content: \"▸\";\n",
       "  float: left;\n",
       "  margin-right: 0.25em;\n",
       "  color: var(--sklearn-color-icon);\n",
       "}\n",
       "\n",
       "#sk-container-id-12 label.sk-toggleable__label-arrow:hover:before {\n",
       "  color: var(--sklearn-color-text);\n",
       "}\n",
       "\n",
       "/* Toggleable content - dropdown */\n",
       "\n",
       "#sk-container-id-12 div.sk-toggleable__content {\n",
       "  max-height: 0;\n",
       "  max-width: 0;\n",
       "  overflow: hidden;\n",
       "  text-align: left;\n",
       "  /* unfitted */\n",
       "  background-color: var(--sklearn-color-unfitted-level-0);\n",
       "}\n",
       "\n",
       "#sk-container-id-12 div.sk-toggleable__content.fitted {\n",
       "  /* fitted */\n",
       "  background-color: var(--sklearn-color-fitted-level-0);\n",
       "}\n",
       "\n",
       "#sk-container-id-12 div.sk-toggleable__content pre {\n",
       "  margin: 0.2em;\n",
       "  border-radius: 0.25em;\n",
       "  color: var(--sklearn-color-text);\n",
       "  /* unfitted */\n",
       "  background-color: var(--sklearn-color-unfitted-level-0);\n",
       "}\n",
       "\n",
       "#sk-container-id-12 div.sk-toggleable__content.fitted pre {\n",
       "  /* unfitted */\n",
       "  background-color: var(--sklearn-color-fitted-level-0);\n",
       "}\n",
       "\n",
       "#sk-container-id-12 input.sk-toggleable__control:checked~div.sk-toggleable__content {\n",
       "  /* Expand drop-down */\n",
       "  max-height: 200px;\n",
       "  max-width: 100%;\n",
       "  overflow: auto;\n",
       "}\n",
       "\n",
       "#sk-container-id-12 input.sk-toggleable__control:checked~label.sk-toggleable__label-arrow:before {\n",
       "  content: \"▾\";\n",
       "}\n",
       "\n",
       "/* Pipeline/ColumnTransformer-specific style */\n",
       "\n",
       "#sk-container-id-12 div.sk-label input.sk-toggleable__control:checked~label.sk-toggleable__label {\n",
       "  color: var(--sklearn-color-text);\n",
       "  background-color: var(--sklearn-color-unfitted-level-2);\n",
       "}\n",
       "\n",
       "#sk-container-id-12 div.sk-label.fitted input.sk-toggleable__control:checked~label.sk-toggleable__label {\n",
       "  background-color: var(--sklearn-color-fitted-level-2);\n",
       "}\n",
       "\n",
       "/* Estimator-specific style */\n",
       "\n",
       "/* Colorize estimator box */\n",
       "#sk-container-id-12 div.sk-estimator input.sk-toggleable__control:checked~label.sk-toggleable__label {\n",
       "  /* unfitted */\n",
       "  background-color: var(--sklearn-color-unfitted-level-2);\n",
       "}\n",
       "\n",
       "#sk-container-id-12 div.sk-estimator.fitted input.sk-toggleable__control:checked~label.sk-toggleable__label {\n",
       "  /* fitted */\n",
       "  background-color: var(--sklearn-color-fitted-level-2);\n",
       "}\n",
       "\n",
       "#sk-container-id-12 div.sk-label label.sk-toggleable__label,\n",
       "#sk-container-id-12 div.sk-label label {\n",
       "  /* The background is the default theme color */\n",
       "  color: var(--sklearn-color-text-on-default-background);\n",
       "}\n",
       "\n",
       "/* On hover, darken the color of the background */\n",
       "#sk-container-id-12 div.sk-label:hover label.sk-toggleable__label {\n",
       "  color: var(--sklearn-color-text);\n",
       "  background-color: var(--sklearn-color-unfitted-level-2);\n",
       "}\n",
       "\n",
       "/* Label box, darken color on hover, fitted */\n",
       "#sk-container-id-12 div.sk-label.fitted:hover label.sk-toggleable__label.fitted {\n",
       "  color: var(--sklearn-color-text);\n",
       "  background-color: var(--sklearn-color-fitted-level-2);\n",
       "}\n",
       "\n",
       "/* Estimator label */\n",
       "\n",
       "#sk-container-id-12 div.sk-label label {\n",
       "  font-family: monospace;\n",
       "  font-weight: bold;\n",
       "  display: inline-block;\n",
       "  line-height: 1.2em;\n",
       "}\n",
       "\n",
       "#sk-container-id-12 div.sk-label-container {\n",
       "  text-align: center;\n",
       "}\n",
       "\n",
       "/* Estimator-specific */\n",
       "#sk-container-id-12 div.sk-estimator {\n",
       "  font-family: monospace;\n",
       "  border: 1px dotted var(--sklearn-color-border-box);\n",
       "  border-radius: 0.25em;\n",
       "  box-sizing: border-box;\n",
       "  margin-bottom: 0.5em;\n",
       "  /* unfitted */\n",
       "  background-color: var(--sklearn-color-unfitted-level-0);\n",
       "}\n",
       "\n",
       "#sk-container-id-12 div.sk-estimator.fitted {\n",
       "  /* fitted */\n",
       "  background-color: var(--sklearn-color-fitted-level-0);\n",
       "}\n",
       "\n",
       "/* on hover */\n",
       "#sk-container-id-12 div.sk-estimator:hover {\n",
       "  /* unfitted */\n",
       "  background-color: var(--sklearn-color-unfitted-level-2);\n",
       "}\n",
       "\n",
       "#sk-container-id-12 div.sk-estimator.fitted:hover {\n",
       "  /* fitted */\n",
       "  background-color: var(--sklearn-color-fitted-level-2);\n",
       "}\n",
       "\n",
       "/* Specification for estimator info (e.g. \"i\" and \"?\") */\n",
       "\n",
       "/* Common style for \"i\" and \"?\" */\n",
       "\n",
       ".sk-estimator-doc-link,\n",
       "a:link.sk-estimator-doc-link,\n",
       "a:visited.sk-estimator-doc-link {\n",
       "  float: right;\n",
       "  font-size: smaller;\n",
       "  line-height: 1em;\n",
       "  font-family: monospace;\n",
       "  background-color: var(--sklearn-color-background);\n",
       "  border-radius: 1em;\n",
       "  height: 1em;\n",
       "  width: 1em;\n",
       "  text-decoration: none !important;\n",
       "  margin-left: 0.5em;\n",
       "  text-align: center;\n",
       "  /* unfitted */\n",
       "  border: var(--sklearn-color-unfitted-level-1) 1pt solid;\n",
       "  color: var(--sklearn-color-unfitted-level-1);\n",
       "}\n",
       "\n",
       ".sk-estimator-doc-link.fitted,\n",
       "a:link.sk-estimator-doc-link.fitted,\n",
       "a:visited.sk-estimator-doc-link.fitted {\n",
       "  /* fitted */\n",
       "  border: var(--sklearn-color-fitted-level-1) 1pt solid;\n",
       "  color: var(--sklearn-color-fitted-level-1);\n",
       "}\n",
       "\n",
       "/* On hover */\n",
       "div.sk-estimator:hover .sk-estimator-doc-link:hover,\n",
       ".sk-estimator-doc-link:hover,\n",
       "div.sk-label-container:hover .sk-estimator-doc-link:hover,\n",
       ".sk-estimator-doc-link:hover {\n",
       "  /* unfitted */\n",
       "  background-color: var(--sklearn-color-unfitted-level-3);\n",
       "  color: var(--sklearn-color-background);\n",
       "  text-decoration: none;\n",
       "}\n",
       "\n",
       "div.sk-estimator.fitted:hover .sk-estimator-doc-link.fitted:hover,\n",
       ".sk-estimator-doc-link.fitted:hover,\n",
       "div.sk-label-container:hover .sk-estimator-doc-link.fitted:hover,\n",
       ".sk-estimator-doc-link.fitted:hover {\n",
       "  /* fitted */\n",
       "  background-color: var(--sklearn-color-fitted-level-3);\n",
       "  color: var(--sklearn-color-background);\n",
       "  text-decoration: none;\n",
       "}\n",
       "\n",
       "/* Span, style for the box shown on hovering the info icon */\n",
       ".sk-estimator-doc-link span {\n",
       "  display: none;\n",
       "  z-index: 9999;\n",
       "  position: relative;\n",
       "  font-weight: normal;\n",
       "  right: .2ex;\n",
       "  padding: .5ex;\n",
       "  margin: .5ex;\n",
       "  width: min-content;\n",
       "  min-width: 20ex;\n",
       "  max-width: 50ex;\n",
       "  color: var(--sklearn-color-text);\n",
       "  box-shadow: 2pt 2pt 4pt #999;\n",
       "  /* unfitted */\n",
       "  background: var(--sklearn-color-unfitted-level-0);\n",
       "  border: .5pt solid var(--sklearn-color-unfitted-level-3);\n",
       "}\n",
       "\n",
       ".sk-estimator-doc-link.fitted span {\n",
       "  /* fitted */\n",
       "  background: var(--sklearn-color-fitted-level-0);\n",
       "  border: var(--sklearn-color-fitted-level-3);\n",
       "}\n",
       "\n",
       ".sk-estimator-doc-link:hover span {\n",
       "  display: block;\n",
       "}\n",
       "\n",
       "/* \"?\"-specific style due to the `<a>` HTML tag */\n",
       "\n",
       "#sk-container-id-12 a.estimator_doc_link {\n",
       "  float: right;\n",
       "  font-size: 1rem;\n",
       "  line-height: 1em;\n",
       "  font-family: monospace;\n",
       "  background-color: var(--sklearn-color-background);\n",
       "  border-radius: 1rem;\n",
       "  height: 1rem;\n",
       "  width: 1rem;\n",
       "  text-decoration: none;\n",
       "  /* unfitted */\n",
       "  color: var(--sklearn-color-unfitted-level-1);\n",
       "  border: var(--sklearn-color-unfitted-level-1) 1pt solid;\n",
       "}\n",
       "\n",
       "#sk-container-id-12 a.estimator_doc_link.fitted {\n",
       "  /* fitted */\n",
       "  border: var(--sklearn-color-fitted-level-1) 1pt solid;\n",
       "  color: var(--sklearn-color-fitted-level-1);\n",
       "}\n",
       "\n",
       "/* On hover */\n",
       "#sk-container-id-12 a.estimator_doc_link:hover {\n",
       "  /* unfitted */\n",
       "  background-color: var(--sklearn-color-unfitted-level-3);\n",
       "  color: var(--sklearn-color-background);\n",
       "  text-decoration: none;\n",
       "}\n",
       "\n",
       "#sk-container-id-12 a.estimator_doc_link.fitted:hover {\n",
       "  /* fitted */\n",
       "  background-color: var(--sklearn-color-fitted-level-3);\n",
       "}\n",
       "</style><div id=\"sk-container-id-12\" class=\"sk-top-container\"><div class=\"sk-text-repr-fallback\"><pre>PCA()</pre><b>In a Jupyter environment, please rerun this cell to show the HTML representation or trust the notebook. <br />On GitHub, the HTML representation is unable to render, please try loading this page with nbviewer.org.</b></div><div class=\"sk-container\" hidden><div class=\"sk-item\"><div class=\"sk-estimator fitted sk-toggleable\"><input class=\"sk-toggleable__control sk-hidden--visually\" id=\"sk-estimator-id-12\" type=\"checkbox\" checked><label for=\"sk-estimator-id-12\" class=\"sk-toggleable__label fitted sk-toggleable__label-arrow\"><div><div>PCA</div></div><div><a class=\"sk-estimator-doc-link fitted\" rel=\"noreferrer\" target=\"_blank\" href=\"https://scikit-learn.org/1.6/modules/generated/sklearn.decomposition.PCA.html\">?<span>Documentation for PCA</span></a><span class=\"sk-estimator-doc-link fitted\">i<span>Fitted</span></span></div></label><div class=\"sk-toggleable__content fitted\"><pre>PCA()</pre></div> </div></div></div></div>"
      ],
      "text/plain": [
       "PCA()"
      ]
     },
     "execution_count": 351,
     "metadata": {},
     "output_type": "execute_result"
    }
   ],
   "source": [
    "ppp = PCA()\n",
    "ppp.fit(dataset3)"
   ]
  },
  {
   "cell_type": "code",
   "execution_count": 352,
   "id": "6fcbf96d-5f9d-476d-8eab-abc9069c81a9",
   "metadata": {},
   "outputs": [],
   "source": [
    "u, s, v = np.linalg.svd(dataset3_Y)"
   ]
  },
  {
   "cell_type": "code",
   "execution_count": 386,
   "id": "3b2b7d02-f5b9-43e5-865d-0c6d75bf48de",
   "metadata": {},
   "outputs": [],
   "source": [
    "u_, s_, v_ = np.linalg.svd(dataset3_cov.T)"
   ]
  },
  {
   "cell_type": "code",
   "execution_count": 353,
   "id": "8850dd39-7c5a-4af4-bbe9-c634fc19a659",
   "metadata": {},
   "outputs": [
    {
     "data": {
      "text/plain": [
       "(array([[ 0.09729347, -0.02207614,  0.99501087],\n",
       "        [ 0.99014754, -0.09901475, -0.09901475],\n",
       "        [-0.10070662, -0.99484105, -0.01222515]]),\n",
       " array([64.6069,  0.    ,  1.868 ]))"
      ]
     },
     "execution_count": 353,
     "metadata": {},
     "output_type": "execute_result"
    }
   ],
   "source": [
    "evec.T, np.round(eval, decimals=4)"
   ]
  },
  {
   "cell_type": "code",
   "execution_count": 354,
   "id": "31a17a55-7de2-4d65-a4c2-c55a9a3d51f2",
   "metadata": {},
   "outputs": [
    {
     "data": {
      "text/plain": [
       "(array([[ 0.09729347, -0.02207614,  0.99501087],\n",
       "        [ 0.10070662,  0.99484105,  0.01222515],\n",
       "        [ 0.99014754, -0.09901475, -0.09901475]]),\n",
       " array([64.6069,  1.868 ,  0.    ]))"
      ]
     },
     "execution_count": 354,
     "metadata": {},
     "output_type": "execute_result"
    }
   ],
   "source": [
    "ppp.components_, np.round(ppp.explained_variance_, decimals=4)"
   ]
  },
  {
   "cell_type": "code",
   "execution_count": 355,
   "id": "21008e4d-26e0-4927-9468-b2222511d161",
   "metadata": {},
   "outputs": [
    {
     "data": {
      "text/plain": [
       "(array([[-0.09729347,  0.02207614, -0.99501087],\n",
       "        [ 0.10070662,  0.99484105,  0.01222515],\n",
       "        [-0.99014754,  0.09901475,  0.09901475]]),\n",
       " array([64.6069,  1.868 ,  0.    ]))"
      ]
     },
     "execution_count": 355,
     "metadata": {},
     "output_type": "execute_result"
    }
   ],
   "source": [
    "v, np.round(s*s, decimals=4)"
   ]
  },
  {
   "cell_type": "code",
   "execution_count": 385,
   "id": "ba3c806f-5af0-4bd4-a8cd-4e9ebca9b927",
   "metadata": {},
   "outputs": [
    {
     "data": {
      "text/plain": [
       "(array([[-0.09729347,  0.02207614, -0.99501087],\n",
       "        [-0.10070662, -0.99484105, -0.01222515],\n",
       "        [ 0.99014754, -0.09901475, -0.09901475]]),\n",
       " array([4.174048e+03, 3.489600e+00, 0.000000e+00]))"
      ]
     },
     "execution_count": 385,
     "metadata": {},
     "output_type": "execute_result"
    }
   ],
   "source": [
    "v_, np.round(s_*s_, decimals=4)"
   ]
  },
  {
   "cell_type": "code",
   "execution_count": null,
   "id": "4e0482c8-313a-4a94-a5c0-7b94c663b9d2",
   "metadata": {},
   "outputs": [],
   "source": []
  },
  {
   "cell_type": "code",
   "execution_count": 374,
   "id": "7cb678e4-281b-481c-a979-d40b566d65e7",
   "metadata": {},
   "outputs": [],
   "source": [
    "dataset3_norm = preprocessing.scale(dataset)\n",
    "dataset3_norm_Y = dataset3_norm / np.sqrt(dataset.shape[0] - 1)"
   ]
  },
  {
   "cell_type": "code",
   "execution_count": 375,
   "id": "1f82c300-f8dc-4349-bad7-a3beeb9f6106",
   "metadata": {},
   "outputs": [
    {
     "data": {
      "text/html": [
       "<style>#sk-container-id-16 {\n",
       "  /* Definition of color scheme common for light and dark mode */\n",
       "  --sklearn-color-text: #000;\n",
       "  --sklearn-color-text-muted: #666;\n",
       "  --sklearn-color-line: gray;\n",
       "  /* Definition of color scheme for unfitted estimators */\n",
       "  --sklearn-color-unfitted-level-0: #fff5e6;\n",
       "  --sklearn-color-unfitted-level-1: #f6e4d2;\n",
       "  --sklearn-color-unfitted-level-2: #ffe0b3;\n",
       "  --sklearn-color-unfitted-level-3: chocolate;\n",
       "  /* Definition of color scheme for fitted estimators */\n",
       "  --sklearn-color-fitted-level-0: #f0f8ff;\n",
       "  --sklearn-color-fitted-level-1: #d4ebff;\n",
       "  --sklearn-color-fitted-level-2: #b3dbfd;\n",
       "  --sklearn-color-fitted-level-3: cornflowerblue;\n",
       "\n",
       "  /* Specific color for light theme */\n",
       "  --sklearn-color-text-on-default-background: var(--sg-text-color, var(--theme-code-foreground, var(--jp-content-font-color1, black)));\n",
       "  --sklearn-color-background: var(--sg-background-color, var(--theme-background, var(--jp-layout-color0, white)));\n",
       "  --sklearn-color-border-box: var(--sg-text-color, var(--theme-code-foreground, var(--jp-content-font-color1, black)));\n",
       "  --sklearn-color-icon: #696969;\n",
       "\n",
       "  @media (prefers-color-scheme: dark) {\n",
       "    /* Redefinition of color scheme for dark theme */\n",
       "    --sklearn-color-text-on-default-background: var(--sg-text-color, var(--theme-code-foreground, var(--jp-content-font-color1, white)));\n",
       "    --sklearn-color-background: var(--sg-background-color, var(--theme-background, var(--jp-layout-color0, #111)));\n",
       "    --sklearn-color-border-box: var(--sg-text-color, var(--theme-code-foreground, var(--jp-content-font-color1, white)));\n",
       "    --sklearn-color-icon: #878787;\n",
       "  }\n",
       "}\n",
       "\n",
       "#sk-container-id-16 {\n",
       "  color: var(--sklearn-color-text);\n",
       "}\n",
       "\n",
       "#sk-container-id-16 pre {\n",
       "  padding: 0;\n",
       "}\n",
       "\n",
       "#sk-container-id-16 input.sk-hidden--visually {\n",
       "  border: 0;\n",
       "  clip: rect(1px 1px 1px 1px);\n",
       "  clip: rect(1px, 1px, 1px, 1px);\n",
       "  height: 1px;\n",
       "  margin: -1px;\n",
       "  overflow: hidden;\n",
       "  padding: 0;\n",
       "  position: absolute;\n",
       "  width: 1px;\n",
       "}\n",
       "\n",
       "#sk-container-id-16 div.sk-dashed-wrapped {\n",
       "  border: 1px dashed var(--sklearn-color-line);\n",
       "  margin: 0 0.4em 0.5em 0.4em;\n",
       "  box-sizing: border-box;\n",
       "  padding-bottom: 0.4em;\n",
       "  background-color: var(--sklearn-color-background);\n",
       "}\n",
       "\n",
       "#sk-container-id-16 div.sk-container {\n",
       "  /* jupyter's `normalize.less` sets `[hidden] { display: none; }`\n",
       "     but bootstrap.min.css set `[hidden] { display: none !important; }`\n",
       "     so we also need the `!important` here to be able to override the\n",
       "     default hidden behavior on the sphinx rendered scikit-learn.org.\n",
       "     See: https://github.com/scikit-learn/scikit-learn/issues/21755 */\n",
       "  display: inline-block !important;\n",
       "  position: relative;\n",
       "}\n",
       "\n",
       "#sk-container-id-16 div.sk-text-repr-fallback {\n",
       "  display: none;\n",
       "}\n",
       "\n",
       "div.sk-parallel-item,\n",
       "div.sk-serial,\n",
       "div.sk-item {\n",
       "  /* draw centered vertical line to link estimators */\n",
       "  background-image: linear-gradient(var(--sklearn-color-text-on-default-background), var(--sklearn-color-text-on-default-background));\n",
       "  background-size: 2px 100%;\n",
       "  background-repeat: no-repeat;\n",
       "  background-position: center center;\n",
       "}\n",
       "\n",
       "/* Parallel-specific style estimator block */\n",
       "\n",
       "#sk-container-id-16 div.sk-parallel-item::after {\n",
       "  content: \"\";\n",
       "  width: 100%;\n",
       "  border-bottom: 2px solid var(--sklearn-color-text-on-default-background);\n",
       "  flex-grow: 1;\n",
       "}\n",
       "\n",
       "#sk-container-id-16 div.sk-parallel {\n",
       "  display: flex;\n",
       "  align-items: stretch;\n",
       "  justify-content: center;\n",
       "  background-color: var(--sklearn-color-background);\n",
       "  position: relative;\n",
       "}\n",
       "\n",
       "#sk-container-id-16 div.sk-parallel-item {\n",
       "  display: flex;\n",
       "  flex-direction: column;\n",
       "}\n",
       "\n",
       "#sk-container-id-16 div.sk-parallel-item:first-child::after {\n",
       "  align-self: flex-end;\n",
       "  width: 50%;\n",
       "}\n",
       "\n",
       "#sk-container-id-16 div.sk-parallel-item:last-child::after {\n",
       "  align-self: flex-start;\n",
       "  width: 50%;\n",
       "}\n",
       "\n",
       "#sk-container-id-16 div.sk-parallel-item:only-child::after {\n",
       "  width: 0;\n",
       "}\n",
       "\n",
       "/* Serial-specific style estimator block */\n",
       "\n",
       "#sk-container-id-16 div.sk-serial {\n",
       "  display: flex;\n",
       "  flex-direction: column;\n",
       "  align-items: center;\n",
       "  background-color: var(--sklearn-color-background);\n",
       "  padding-right: 1em;\n",
       "  padding-left: 1em;\n",
       "}\n",
       "\n",
       "\n",
       "/* Toggleable style: style used for estimator/Pipeline/ColumnTransformer box that is\n",
       "clickable and can be expanded/collapsed.\n",
       "- Pipeline and ColumnTransformer use this feature and define the default style\n",
       "- Estimators will overwrite some part of the style using the `sk-estimator` class\n",
       "*/\n",
       "\n",
       "/* Pipeline and ColumnTransformer style (default) */\n",
       "\n",
       "#sk-container-id-16 div.sk-toggleable {\n",
       "  /* Default theme specific background. It is overwritten whether we have a\n",
       "  specific estimator or a Pipeline/ColumnTransformer */\n",
       "  background-color: var(--sklearn-color-background);\n",
       "}\n",
       "\n",
       "/* Toggleable label */\n",
       "#sk-container-id-16 label.sk-toggleable__label {\n",
       "  cursor: pointer;\n",
       "  display: flex;\n",
       "  width: 100%;\n",
       "  margin-bottom: 0;\n",
       "  padding: 0.5em;\n",
       "  box-sizing: border-box;\n",
       "  text-align: center;\n",
       "  align-items: start;\n",
       "  justify-content: space-between;\n",
       "  gap: 0.5em;\n",
       "}\n",
       "\n",
       "#sk-container-id-16 label.sk-toggleable__label .caption {\n",
       "  font-size: 0.6rem;\n",
       "  font-weight: lighter;\n",
       "  color: var(--sklearn-color-text-muted);\n",
       "}\n",
       "\n",
       "#sk-container-id-16 label.sk-toggleable__label-arrow:before {\n",
       "  /* Arrow on the left of the label */\n",
       "  content: \"▸\";\n",
       "  float: left;\n",
       "  margin-right: 0.25em;\n",
       "  color: var(--sklearn-color-icon);\n",
       "}\n",
       "\n",
       "#sk-container-id-16 label.sk-toggleable__label-arrow:hover:before {\n",
       "  color: var(--sklearn-color-text);\n",
       "}\n",
       "\n",
       "/* Toggleable content - dropdown */\n",
       "\n",
       "#sk-container-id-16 div.sk-toggleable__content {\n",
       "  max-height: 0;\n",
       "  max-width: 0;\n",
       "  overflow: hidden;\n",
       "  text-align: left;\n",
       "  /* unfitted */\n",
       "  background-color: var(--sklearn-color-unfitted-level-0);\n",
       "}\n",
       "\n",
       "#sk-container-id-16 div.sk-toggleable__content.fitted {\n",
       "  /* fitted */\n",
       "  background-color: var(--sklearn-color-fitted-level-0);\n",
       "}\n",
       "\n",
       "#sk-container-id-16 div.sk-toggleable__content pre {\n",
       "  margin: 0.2em;\n",
       "  border-radius: 0.25em;\n",
       "  color: var(--sklearn-color-text);\n",
       "  /* unfitted */\n",
       "  background-color: var(--sklearn-color-unfitted-level-0);\n",
       "}\n",
       "\n",
       "#sk-container-id-16 div.sk-toggleable__content.fitted pre {\n",
       "  /* unfitted */\n",
       "  background-color: var(--sklearn-color-fitted-level-0);\n",
       "}\n",
       "\n",
       "#sk-container-id-16 input.sk-toggleable__control:checked~div.sk-toggleable__content {\n",
       "  /* Expand drop-down */\n",
       "  max-height: 200px;\n",
       "  max-width: 100%;\n",
       "  overflow: auto;\n",
       "}\n",
       "\n",
       "#sk-container-id-16 input.sk-toggleable__control:checked~label.sk-toggleable__label-arrow:before {\n",
       "  content: \"▾\";\n",
       "}\n",
       "\n",
       "/* Pipeline/ColumnTransformer-specific style */\n",
       "\n",
       "#sk-container-id-16 div.sk-label input.sk-toggleable__control:checked~label.sk-toggleable__label {\n",
       "  color: var(--sklearn-color-text);\n",
       "  background-color: var(--sklearn-color-unfitted-level-2);\n",
       "}\n",
       "\n",
       "#sk-container-id-16 div.sk-label.fitted input.sk-toggleable__control:checked~label.sk-toggleable__label {\n",
       "  background-color: var(--sklearn-color-fitted-level-2);\n",
       "}\n",
       "\n",
       "/* Estimator-specific style */\n",
       "\n",
       "/* Colorize estimator box */\n",
       "#sk-container-id-16 div.sk-estimator input.sk-toggleable__control:checked~label.sk-toggleable__label {\n",
       "  /* unfitted */\n",
       "  background-color: var(--sklearn-color-unfitted-level-2);\n",
       "}\n",
       "\n",
       "#sk-container-id-16 div.sk-estimator.fitted input.sk-toggleable__control:checked~label.sk-toggleable__label {\n",
       "  /* fitted */\n",
       "  background-color: var(--sklearn-color-fitted-level-2);\n",
       "}\n",
       "\n",
       "#sk-container-id-16 div.sk-label label.sk-toggleable__label,\n",
       "#sk-container-id-16 div.sk-label label {\n",
       "  /* The background is the default theme color */\n",
       "  color: var(--sklearn-color-text-on-default-background);\n",
       "}\n",
       "\n",
       "/* On hover, darken the color of the background */\n",
       "#sk-container-id-16 div.sk-label:hover label.sk-toggleable__label {\n",
       "  color: var(--sklearn-color-text);\n",
       "  background-color: var(--sklearn-color-unfitted-level-2);\n",
       "}\n",
       "\n",
       "/* Label box, darken color on hover, fitted */\n",
       "#sk-container-id-16 div.sk-label.fitted:hover label.sk-toggleable__label.fitted {\n",
       "  color: var(--sklearn-color-text);\n",
       "  background-color: var(--sklearn-color-fitted-level-2);\n",
       "}\n",
       "\n",
       "/* Estimator label */\n",
       "\n",
       "#sk-container-id-16 div.sk-label label {\n",
       "  font-family: monospace;\n",
       "  font-weight: bold;\n",
       "  display: inline-block;\n",
       "  line-height: 1.2em;\n",
       "}\n",
       "\n",
       "#sk-container-id-16 div.sk-label-container {\n",
       "  text-align: center;\n",
       "}\n",
       "\n",
       "/* Estimator-specific */\n",
       "#sk-container-id-16 div.sk-estimator {\n",
       "  font-family: monospace;\n",
       "  border: 1px dotted var(--sklearn-color-border-box);\n",
       "  border-radius: 0.25em;\n",
       "  box-sizing: border-box;\n",
       "  margin-bottom: 0.5em;\n",
       "  /* unfitted */\n",
       "  background-color: var(--sklearn-color-unfitted-level-0);\n",
       "}\n",
       "\n",
       "#sk-container-id-16 div.sk-estimator.fitted {\n",
       "  /* fitted */\n",
       "  background-color: var(--sklearn-color-fitted-level-0);\n",
       "}\n",
       "\n",
       "/* on hover */\n",
       "#sk-container-id-16 div.sk-estimator:hover {\n",
       "  /* unfitted */\n",
       "  background-color: var(--sklearn-color-unfitted-level-2);\n",
       "}\n",
       "\n",
       "#sk-container-id-16 div.sk-estimator.fitted:hover {\n",
       "  /* fitted */\n",
       "  background-color: var(--sklearn-color-fitted-level-2);\n",
       "}\n",
       "\n",
       "/* Specification for estimator info (e.g. \"i\" and \"?\") */\n",
       "\n",
       "/* Common style for \"i\" and \"?\" */\n",
       "\n",
       ".sk-estimator-doc-link,\n",
       "a:link.sk-estimator-doc-link,\n",
       "a:visited.sk-estimator-doc-link {\n",
       "  float: right;\n",
       "  font-size: smaller;\n",
       "  line-height: 1em;\n",
       "  font-family: monospace;\n",
       "  background-color: var(--sklearn-color-background);\n",
       "  border-radius: 1em;\n",
       "  height: 1em;\n",
       "  width: 1em;\n",
       "  text-decoration: none !important;\n",
       "  margin-left: 0.5em;\n",
       "  text-align: center;\n",
       "  /* unfitted */\n",
       "  border: var(--sklearn-color-unfitted-level-1) 1pt solid;\n",
       "  color: var(--sklearn-color-unfitted-level-1);\n",
       "}\n",
       "\n",
       ".sk-estimator-doc-link.fitted,\n",
       "a:link.sk-estimator-doc-link.fitted,\n",
       "a:visited.sk-estimator-doc-link.fitted {\n",
       "  /* fitted */\n",
       "  border: var(--sklearn-color-fitted-level-1) 1pt solid;\n",
       "  color: var(--sklearn-color-fitted-level-1);\n",
       "}\n",
       "\n",
       "/* On hover */\n",
       "div.sk-estimator:hover .sk-estimator-doc-link:hover,\n",
       ".sk-estimator-doc-link:hover,\n",
       "div.sk-label-container:hover .sk-estimator-doc-link:hover,\n",
       ".sk-estimator-doc-link:hover {\n",
       "  /* unfitted */\n",
       "  background-color: var(--sklearn-color-unfitted-level-3);\n",
       "  color: var(--sklearn-color-background);\n",
       "  text-decoration: none;\n",
       "}\n",
       "\n",
       "div.sk-estimator.fitted:hover .sk-estimator-doc-link.fitted:hover,\n",
       ".sk-estimator-doc-link.fitted:hover,\n",
       "div.sk-label-container:hover .sk-estimator-doc-link.fitted:hover,\n",
       ".sk-estimator-doc-link.fitted:hover {\n",
       "  /* fitted */\n",
       "  background-color: var(--sklearn-color-fitted-level-3);\n",
       "  color: var(--sklearn-color-background);\n",
       "  text-decoration: none;\n",
       "}\n",
       "\n",
       "/* Span, style for the box shown on hovering the info icon */\n",
       ".sk-estimator-doc-link span {\n",
       "  display: none;\n",
       "  z-index: 9999;\n",
       "  position: relative;\n",
       "  font-weight: normal;\n",
       "  right: .2ex;\n",
       "  padding: .5ex;\n",
       "  margin: .5ex;\n",
       "  width: min-content;\n",
       "  min-width: 20ex;\n",
       "  max-width: 50ex;\n",
       "  color: var(--sklearn-color-text);\n",
       "  box-shadow: 2pt 2pt 4pt #999;\n",
       "  /* unfitted */\n",
       "  background: var(--sklearn-color-unfitted-level-0);\n",
       "  border: .5pt solid var(--sklearn-color-unfitted-level-3);\n",
       "}\n",
       "\n",
       ".sk-estimator-doc-link.fitted span {\n",
       "  /* fitted */\n",
       "  background: var(--sklearn-color-fitted-level-0);\n",
       "  border: var(--sklearn-color-fitted-level-3);\n",
       "}\n",
       "\n",
       ".sk-estimator-doc-link:hover span {\n",
       "  display: block;\n",
       "}\n",
       "\n",
       "/* \"?\"-specific style due to the `<a>` HTML tag */\n",
       "\n",
       "#sk-container-id-16 a.estimator_doc_link {\n",
       "  float: right;\n",
       "  font-size: 1rem;\n",
       "  line-height: 1em;\n",
       "  font-family: monospace;\n",
       "  background-color: var(--sklearn-color-background);\n",
       "  border-radius: 1rem;\n",
       "  height: 1rem;\n",
       "  width: 1rem;\n",
       "  text-decoration: none;\n",
       "  /* unfitted */\n",
       "  color: var(--sklearn-color-unfitted-level-1);\n",
       "  border: var(--sklearn-color-unfitted-level-1) 1pt solid;\n",
       "}\n",
       "\n",
       "#sk-container-id-16 a.estimator_doc_link.fitted {\n",
       "  /* fitted */\n",
       "  border: var(--sklearn-color-fitted-level-1) 1pt solid;\n",
       "  color: var(--sklearn-color-fitted-level-1);\n",
       "}\n",
       "\n",
       "/* On hover */\n",
       "#sk-container-id-16 a.estimator_doc_link:hover {\n",
       "  /* unfitted */\n",
       "  background-color: var(--sklearn-color-unfitted-level-3);\n",
       "  color: var(--sklearn-color-background);\n",
       "  text-decoration: none;\n",
       "}\n",
       "\n",
       "#sk-container-id-16 a.estimator_doc_link.fitted:hover {\n",
       "  /* fitted */\n",
       "  background-color: var(--sklearn-color-fitted-level-3);\n",
       "}\n",
       "</style><div id=\"sk-container-id-16\" class=\"sk-top-container\"><div class=\"sk-text-repr-fallback\"><pre>PCA()</pre><b>In a Jupyter environment, please rerun this cell to show the HTML representation or trust the notebook. <br />On GitHub, the HTML representation is unable to render, please try loading this page with nbviewer.org.</b></div><div class=\"sk-container\" hidden><div class=\"sk-item\"><div class=\"sk-estimator fitted sk-toggleable\"><input class=\"sk-toggleable__control sk-hidden--visually\" id=\"sk-estimator-id-16\" type=\"checkbox\" checked><label for=\"sk-estimator-id-16\" class=\"sk-toggleable__label fitted sk-toggleable__label-arrow\"><div><div>PCA</div></div><div><a class=\"sk-estimator-doc-link fitted\" rel=\"noreferrer\" target=\"_blank\" href=\"https://scikit-learn.org/1.6/modules/generated/sklearn.decomposition.PCA.html\">?<span>Documentation for PCA</span></a><span class=\"sk-estimator-doc-link fitted\">i<span>Fitted</span></span></div></label><div class=\"sk-toggleable__content fitted\"><pre>PCA()</pre></div> </div></div></div></div>"
      ],
      "text/plain": [
       "PCA()"
      ]
     },
     "execution_count": 375,
     "metadata": {},
     "output_type": "execute_result"
    }
   ],
   "source": [
    "ppp2 = PCA()\n",
    "ppp2.fit(dataset3_norm)"
   ]
  },
  {
   "cell_type": "code",
   "execution_count": 376,
   "id": "88ea10fc-db8a-4e4e-a125-9cee5c29cfab",
   "metadata": {},
   "outputs": [],
   "source": [
    "u2, s2, v2 = np.linalg.svd(dataset3_norm_Y)"
   ]
  },
  {
   "cell_type": "code",
   "execution_count": 380,
   "id": "50b5b1b7-d77c-4d43-9fc9-92ee7142578e",
   "metadata": {},
   "outputs": [
    {
     "data": {
      "text/plain": [
       "(array([[ 0.70324948, -0.05962755,  0.70843823],\n",
       "        [ 0.12756956,  0.99088686, -0.04323464],\n",
       "        [-0.69940416,  0.12077989,  0.70444733]]),\n",
       " array([2.4859, 1.2641, 0.    ]))"
      ]
     },
     "execution_count": 380,
     "metadata": {},
     "output_type": "execute_result"
    }
   ],
   "source": [
    "ppp2.components_, np.round(ppp2.explained_variance_, decimals=4)"
   ]
  },
  {
   "cell_type": "code",
   "execution_count": 378,
   "id": "3263a63e-fa0b-4f4b-903a-5cded18d48a6",
   "metadata": {},
   "outputs": [
    {
     "data": {
      "text/plain": [
       "(array([[-0.70324948,  0.05962755, -0.70843823],\n",
       "        [ 0.12756956,  0.99088686, -0.04323464],\n",
       "        [-0.69940416,  0.12077989,  0.70444733]]),\n",
       " array([2.4859, 1.2641, 0.    ]))"
      ]
     },
     "execution_count": 378,
     "metadata": {},
     "output_type": "execute_result"
    }
   ],
   "source": [
    "v2, np.round(s2*s2, decimals=4)"
   ]
  },
  {
   "cell_type": "code",
   "execution_count": 388,
   "id": "9bbdd2fb-45e4-46c9-8893-4ddbc6c259f4",
   "metadata": {},
   "outputs": [],
   "source": [
    "X = dataset3.T"
   ]
  },
  {
   "cell_type": "code",
   "execution_count": 391,
   "id": "43a415f9-24ee-4ede-9e44-bbd7f2061b8d",
   "metadata": {},
   "outputs": [],
   "source": [
    "A = X @ X.T"
   ]
  },
  {
   "cell_type": "code",
   "execution_count": 399,
   "id": "88f2bb08-9253-41e8-8be5-eccbeb79b9b5",
   "metadata": {},
   "outputs": [
    {
     "data": {
      "text/plain": [
       "array([[  632.75218449,  -137.85083981,  6465.37268468],\n",
       "       [ -137.85083981,    87.80676477, -1466.31516283],\n",
       "       [ 6465.37268468, -1466.31516283, 66120.04200965]])"
      ]
     },
     "execution_count": 399,
     "metadata": {},
     "output_type": "execute_result"
    }
   ],
   "source": [
    "A @ A.T"
   ]
  },
  {
   "cell_type": "code",
   "execution_count": 400,
   "id": "2b22ee41-0c99-4108-a851-64dfdc5f8805",
   "metadata": {},
   "outputs": [
    {
     "data": {
      "text/plain": [
       "array([[  632.75218449,  -137.85083981,  6465.37268468],\n",
       "       [ -137.85083981,    87.80676477, -1466.31516283],\n",
       "       [ 6465.37268468, -1466.31516283, 66120.04200965]])"
      ]
     },
     "execution_count": 400,
     "metadata": {},
     "output_type": "execute_result"
    }
   ],
   "source": [
    "A.T @ A"
   ]
  },
  {
   "cell_type": "code",
   "execution_count": 402,
   "id": "4c302c80-4ca3-4f83-ba11-374f6b1a7942",
   "metadata": {},
   "outputs": [
    {
     "ename": "NameError",
     "evalue": "name 'decimal' is not defined",
     "output_type": "error",
     "traceback": [
      "\u001b[0;31m---------------------------------------------------------------------------\u001b[0m",
      "\u001b[0;31mNameError\u001b[0m                                 Traceback (most recent call last)",
      "Cell \u001b[0;32mIn[402], line 1\u001b[0m\n\u001b[0;32m----> 1\u001b[0m decimal(\u001b[38;5;241m1\u001b[39m)\n",
      "\u001b[0;31mNameError\u001b[0m: name 'decimal' is not defined"
     ]
    }
   ],
   "source": []
  },
  {
   "cell_type": "code",
   "execution_count": null,
   "id": "73705e2c-7578-4649-b218-33d122d8bdb6",
   "metadata": {},
   "outputs": [],
   "source": [
    "for i in "
   ]
  }
 ],
 "metadata": {
  "kernelspec": {
   "display_name": "Python 3 (ipykernel)",
   "language": "python",
   "name": "python3"
  },
  "language_info": {
   "codemirror_mode": {
    "name": "ipython",
    "version": 3
   },
   "file_extension": ".py",
   "mimetype": "text/x-python",
   "name": "python",
   "nbconvert_exporter": "python",
   "pygments_lexer": "ipython3",
   "version": "3.12.2"
  }
 },
 "nbformat": 4,
 "nbformat_minor": 5
}
