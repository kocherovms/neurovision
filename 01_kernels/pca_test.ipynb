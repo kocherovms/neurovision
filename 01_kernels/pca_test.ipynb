{
 "cells": [
  {
   "cell_type": "code",
   "execution_count": 797,
   "id": "f8a11af4-e61d-42eb-8fa8-bfda089fe664",
   "metadata": {},
   "outputs": [],
   "source": [
    "from sklearn.decomposition import PCA\n",
    "from fdsfds import preprocessing\n",
    "from PIL import Image, ImageDraw\n",
    "import numpy as np\n",
    "import matplotlib.pyplot as plt\n",
    "\n",
    "%run utils.ipynb"
   ]
  },
  {
   "cell_type": "code",
   "execution_count": 798,
   "id": "342dcdda-0caf-4098-a1b4-a78bf3f43d0f",
   "metadata": {},
   "outputs": [
    {
     "data": {
      "text/html": [
       "\n",
       "        <div style=\"display: flex; flex-flow: row wrap; text-align: center;\">\n",
       "        \n",
       "            <figure style=\"margin: 5px !important;\">\n",
       "              <img src=\"data:image/png;base64,iVBORw0KGgoAAAANSUhEUgAAADIAAAAyCAAAAAA7VNdtAAAANklEQVR4nGNkQAFCuuYWRvJIAg/PnTh5+R2KGiYGksGollEto1pGtYxqGdUyqmVUy6iWgdUCAAUzBmS+yPboAAAAAElFTkSuQmCC\" style=\"height: auto\">\n",
       "              \n",
       "            </figure>\n",
       "        \n",
       "            <figure style=\"margin: 5px !important;\">\n",
       "              <img src=\"data:image/png;base64,iVBORw0KGgoAAAANSUhEUgAAADIAAAAyCAAAAAA7VNdtAAAAOUlEQVR4nGNkwASMysYW5tp8CIGv108fP3P7D5THhEULATCqZVTLqJZRLaNaRrWMahnVMqplYLUAALKyB2Q0n0tFAAAAAElFTkSuQmCC\" style=\"height: auto\">\n",
       "              \n",
       "            </figure>\n",
       "        \n",
       "            <figure style=\"margin: 5px !important;\">\n",
       "              <img src=\"data:image/png;base64,iVBORw0KGgoAAAANSUhEUgAAADIAAAAyCAAAAAA7VNdtAAAAOklEQVR4nGNkgAIWVRNLU01uBjj4dPXkibN3/zNgACZMIUJgVMuollEto1pGtYxqGdUyqmVUy8BqAQD/sgdkTcbX1AAAAABJRU5ErkJggg==\" style=\"height: auto\">\n",
       "              \n",
       "            </figure>\n",
       "        \n",
       "            <figure style=\"margin: 5px !important;\">\n",
       "              <img src=\"data:image/png;base64,iVBORw0KGgoAAAANSUhEUgAAADIAAAAyCAAAAAA7VNdtAAAARUlEQVR4nO3UsRUAEBAEUeddBfoQ039EogYqoYYRspP/dEJQ6oUsYeKZk8JJxcQmJxuTiIXI18QXJ4OTxknH5GIXSr3RAf+kBhb9Ab8OAAAAAElFTkSuQmCC\" style=\"height: auto\">\n",
       "              \n",
       "            </figure>\n",
       "        \n",
       "            <figure style=\"margin: 5px !important;\">\n",
       "              <img src=\"data:image/png;base64,iVBORw0KGgoAAAANSUhEUgAAADIAAAAyCAAAAAA7VNdtAAADzUlEQVR4nIXWOW/jVhQF4PO4bxIXUaS1WLI9SAKkSZVqigAp8qNTZaqkT4BgZmJ7PNo3Llq4PzHVGKIpy7ciDvDhEfdePpDgWzm//vb+Xf7vH79/iHGxmOcnkWMJQDheuixOiKbwDAgrKI03CAcAHM/zgmvIHAivWG5Miyynl4mgG7o67OgCIaLZC9UoDIM3iNS+7pnu0BJB5PYd1/Wmozi5TLSr739wm1ZLJIzisq39VMm88CIRjO53P/V4URQI5Hajlz/SYDp7nXBAy+n0hx0AAOF5FTiux+3ltizL8iz5EbDu+o5xGhrt7k0aJlEUH8+R90Czf2tX5ie3BrESeMvF2R5wvwCS2TZIJTQGnBuOxMQ712ruZ4AVJbkSkkavGYWNzJtm58gQACHVkKiSdQzpeqzvzpECIIRhqoRlAWnjdjoxLYqXu8N9BjhZVatvBgCMcXUTqdEuCKMX5E9Atq+6dQLFfcd3/ekofUk+APowkW2mRqQ2MfdzNfe8F+QvoLUX7J5WI7yluMWIepNJdaDcPRDKzsBTAVQbx/MaQNYj2/SAk9XhAPjr+aiVCZIsc7WjzHZ3cDDSJE7oKaHh7J5dNm2HqxPZ6u8FL1ytsgrBYcHvTfeWadb7xurXpBXMHnI/r5BklS7VYdl09RqB1tH624ejP0sqJPN3LJ81u0GH1Igimsc9E0z0oEIozYD5fL4wNYZj2VNHOE6E5l9dXe1yWlD6jQAAwuXIODa1RrN+jxHDGWyFw267jSsk2XxhPMPpM2euPtW5I44/G2dVQoOnaGTdlppTb7VgH5vbxac88CvkuM090co0N64fwxtiO5tQfz6jlVMOERConYFfJ5ymAcJmbJvrUwKUgL+eT+ySEyWRrzYAgOX0lrFeJQCO4fyeXWuWbVcJACjtm0wLawSHOX8w24NSU2qEMW+kblwnyTJbKte56lo1gkbfjIs6Sf0dxx4UZ9A985kKelnWCaUA5Nli0dIZhmWqO8eQEnUCAAjXY5vVlYamVUgWJyl9haSbr8JOt7tdtRLvlys/eYXQcJTOjEGh2OxJWgZf7sfbV0i5o4GkR3K7J56kyfrx70/eK+QYxR5piu4gME7SYDl++Lh6haAsAW81H9sML0gCR4osTfPJeLbcnJnLSYXT/9iNZtmWhtRfe9vF52mQ4SKJFkL0ZA+opDDp5vHLwp/M97hM0k3hKd2i4ZRIvad/ng5hkLxB8iBasQd9kJZlFs4ePmZ5nr9BKE0A2YvyEkUcLJ5/BOrLV61dlNESxzzaP0dvkSQvSqCkRfoc/Q+3cLKQjiinvAAAAABJRU5ErkJggg==\" style=\"height: auto\">\n",
       "              \n",
       "            </figure>\n",
       "        \n",
       "            <figure style=\"margin: 5px !important;\">\n",
       "              <img src=\"data:image/png;base64,iVBORw0KGgoAAAANSUhEUgAAADIAAAAyCAAAAAA7VNdtAAADZ0lEQVR4nH3WSZPaRhQA4F4lhBZAEHbIGJfjqbL/QA6p/PVckh+QQzxJBTJmwAwMCAkJtLS6lQPLSJge3fRef3r91K0GCKTX6Jdff/4IAQAg+PP33/5wz3EkJwrF8DwKU/USl5OSodFTFmK1bF4S5NZoTCjFVrOinbJQMertMGGMpUJCFNOyyta7dkU5TaXc+DGu7D3XCxIJUe1up261h/apAWy0uXHnzqcglhCo1e8+DC3TrmnH/pHR0Tvh0hLBVtaLag/uP1pEVS4TU6tczJKXGZERotvdoZ4ri7ECMqusEighWYaopucDKUsYX233iZBViVNRuBcH1/X2q8nST2WEJSwRuUXm/uLrfO0+zz0mI4IzFms5Eiz++TI7BEEgJSWKBMsRcdhM/x4zwcWNXiDBhOBWTacwH+XhzvHOd1cE66ZlaN1Bo5zfrxRDwYCEELPbaVv1ftvAeaJQgqTE6v40aupV2ywkKM19L9fEaI4+9YmiqoUPSUBCYXaboFK1ORgWQhkA+yBMAU5vEwGJZuYDaRRHcTBb+8m5yDWJmchgIeBuHNefTzeRrJckSRgrBJzp14XnLNehrIoQKUsKVbZPX8ZuGPhSUqIoS/MB5i8fH7acc36DIIwxrtnm1euNfWcVFh57IVA1TEOr3rVMWshDwSIgIVqj07IrnUFNzecVShDiUvLufc+s2raSz1OqKIpkYqBUH96/N9SSWqiSQURVWS+K2eiPdAAKKwn8MM2uzu0L4YBohpFPsTiK09nKjYSEZOz6ccxZO8FqsgpSCQExK24VEL1Mpi/e82InJSJlCcuvyWE5/uspDHa+lFCU8TwR7vPjw4SnKeffE4gQRtS2NHzaR0IIIbzlcrHYgO8vAgAgZcMwyv1h/XyssP1+H3qT2dq7IQABANBKu9euNnqd87ESOcvl1nuabmI5Gdx/aOqVqnkkWbR5HM89Z+VxGSFma/S5h6ly/gWOnaeHf3fR4ZDJCFL0WrOV2yjMf3ka77Isk5IsjQ+7HcIEo6PjyWG3vTn8TNJg9Z+y0UzLLJ+ayQSXCkAAAMyboV3V7vZg6UggRFgqTgTsv+ndAFu14+pDRKh68wW/TizeUsVTf+iftjlEmNI3iUgSAIC2CS6HKIRQ/n/oNeMf4jd6vklixsUbA1+v/wF/9I+6fWNHCwAAAABJRU5ErkJggg==\" style=\"height: auto\">\n",
       "              \n",
       "            </figure>\n",
       "        \n",
       "        </div>\n",
       "    "
      ],
      "text/plain": [
       "<IPython.core.display.HTML object>"
      ]
     },
     "execution_count": 798,
     "metadata": {},
     "output_type": "execute_result"
    }
   ],
   "source": [
    "IMAGE_SIZE = 9\n",
    "vert_bar_image = Image.new('L', (IMAGE_SIZE, IMAGE_SIZE))\n",
    "\n",
    "center_pt = IMAGE_SIZE // 2\n",
    "coords = [\n",
    "    (center_pt - 1, 0),\n",
    "    (center_pt + 1, IMAGE_SIZE - 1)\n",
    "]\n",
    "ImageDraw.Draw(vert_bar_image).rectangle(coords, outline=255, fill=255)\n",
    "\n",
    "vert_bar_image2 = Image.new('L', (IMAGE_SIZE, IMAGE_SIZE))\n",
    "coords = [\n",
    "    (center_pt - 1 + 1, 0),\n",
    "    (center_pt + 1 + 1, IMAGE_SIZE - 1)\n",
    "]\n",
    "ImageDraw.Draw(vert_bar_image2).rectangle(coords, outline=255, fill=255)\n",
    "\n",
    "vert_bar_image3 = Image.new('L', (IMAGE_SIZE, IMAGE_SIZE))\n",
    "coords = [\n",
    "    (center_pt - 1 - 1, 0),\n",
    "    (center_pt + 1 - 1, IMAGE_SIZE - 1)\n",
    "]\n",
    "ImageDraw.Draw(vert_bar_image3).rectangle(coords, outline=255, fill=255)\n",
    "\n",
    "horz_bar_image = vert_bar_image.rotate(90)\n",
    "diag_bar_image = vert_bar_image.rotate(45)\n",
    "diag_bar_image2 = vert_bar_image.rotate(-30)\n",
    "\n",
    "all_images = [vert_bar_image, vert_bar_image2, vert_bar_image3, horz_bar_image, diag_bar_image, diag_bar_image2]\n",
    "display_images(list(map(lambda x: x.resize((50, 50)), all_images)))"
   ]
  },
  {
   "cell_type": "code",
   "execution_count": 799,
   "id": "f2b08f37-7e5a-44bc-9a9a-493c04ff78b3",
   "metadata": {},
   "outputs": [],
   "source": [
    "def display_kernel_raw(kernel, precision=1):\n",
    "    kernel = kernel.reshape(IMAGE_SIZE, IMAGE_SIZE)\n",
    "    format_string = '{:4.' + str(precision) + 'f}'\n",
    "    \n",
    "    for r in kernel:\n",
    "        s = ''\n",
    "        for c in r:\n",
    "            # s += ' ' + f'{c:4.1f}'\n",
    "            s += ' ' + format_string.format(c)\n",
    "\n",
    "        print(s)   "
   ]
  },
  {
   "cell_type": "code",
   "execution_count": null,
   "id": "94f9a959-e9c4-4f2e-82e4-46e19cff35bd",
   "metadata": {},
   "outputs": [],
   "source": []
  },
  {
   "cell_type": "code",
   "execution_count": 932,
   "id": "56112158-046e-4cd6-bab7-415cd45ee8ac",
   "metadata": {},
   "outputs": [
    {
     "data": {
      "text/html": [
       "\n",
       "        <div style=\"display: flex; flex-flow: row wrap; text-align: center;\">\n",
       "        \n",
       "            <figure style=\"margin: 5px !important;\">\n",
       "              <img src=\"data:image/png;base64,iVBORw0KGgoAAAANSUhEUgAAADIAAAAyCAAAAAA7VNdtAAAANklEQVR4nGNkQAFCuuYWRvJIAg/PnTh5+R2KGiYGksGollEto1pGtYxqGdUyqmVUy6iWgdUCAAUzBmS+yPboAAAAAElFTkSuQmCC\" style=\"height: auto\">\n",
       "              <figcaption style=\"font-size: 0.6em\">27</figcaption>\n",
       "            </figure>\n",
       "        \n",
       "            <figure style=\"margin: 5px !important;\">\n",
       "              <img src=\"data:image/png;base64,iVBORw0KGgoAAAANSUhEUgAAADIAAAAyCAAAAAA7VNdtAAAANklEQVR4nGNkQAFCuuYWRvJIAg/PnTh5+R2KGiYGksGollEto1pGtYxqGdUyqmVUy6iWgdUCAAUzBmS+yPboAAAAAElFTkSuQmCC\" style=\"height: auto\">\n",
       "              <figcaption style=\"font-size: 0.6em\">42</figcaption>\n",
       "            </figure>\n",
       "        \n",
       "            <figure style=\"margin: 5px !important;\">\n",
       "              <img src=\"data:image/png;base64,iVBORw0KGgoAAAANSUhEUgAAADIAAAAyCAAAAAA7VNdtAAAARUlEQVR4nO3UsRUAEBAEUeddBfoQ039EogYqoYYRspP/dEJQ6oUsYeKZk8JJxcQmJxuTiIXI18QXJ4OTxknH5GIXSr3RAf+kBhb9Ab8OAAAAAElFTkSuQmCC\" style=\"height: auto\">\n",
       "              <figcaption style=\"font-size: 0.6em\">31</figcaption>\n",
       "            </figure>\n",
       "        \n",
       "        </div>\n",
       "    "
      ],
      "text/plain": [
       "<IPython.core.display.HTML object>"
      ]
     },
     "execution_count": 932,
     "metadata": {},
     "output_type": "execute_result"
    }
   ],
   "source": [
    "images_source = [vert_bar_image, vert_bar_image, horz_bar_image]\n",
    "images_source_caps = np.zeros(len(images_source), dtype=np.int32)\n",
    "SAMPLES_COUNT = 100\n",
    "data = []\n",
    "images = list(map(lambda x: np.array(x).ravel(), images_source))\n",
    "random_indices = np.random.randint(len(images), size=SAMPLES_COUNT)\n",
    "\n",
    "for i in random_indices:\n",
    "    data.append(images[i])\n",
    "    images_source_caps[i] += 1\n",
    "\n",
    "data = np.array(data)\n",
    "display_images(list(map(lambda x: x.resize((50, 50)), images_source)), captions=images_source_caps)"
   ]
  },
  {
   "cell_type": "code",
   "execution_count": 801,
   "id": "7bac8b50-015d-44ef-887d-eede76c384f9",
   "metadata": {},
   "outputs": [
    {
     "data": {
      "text/plain": [
       "((100, 81), array([  0, 255], dtype=uint8))"
      ]
     },
     "execution_count": 801,
     "metadata": {},
     "output_type": "execute_result"
    }
   ],
   "source": [
    "data.shape, np.unique(data)"
   ]
  },
  {
   "cell_type": "code",
   "execution_count": 802,
   "id": "b00d0e88-c7f4-4479-90bf-a6044311324c",
   "metadata": {},
   "outputs": [],
   "source": [
    "scaled_data = preprocessing.scale(data)"
   ]
  },
  {
   "cell_type": "code",
   "execution_count": 803,
   "id": "1ec6935e-3402-44a9-844b-de1cb160142d",
   "metadata": {},
   "outputs": [
    {
     "name": "stdout",
     "output_type": "stream",
     "text": [
      "  0.0  0.0  0.0  0.7  0.7  0.7  0.0  0.0  0.0\n",
      "  0.0  0.0  0.0  0.7  0.7  0.7  0.0  0.0  0.0\n",
      "  0.0  0.0  0.0  0.7  0.7  0.7  0.0  0.0  0.0\n",
      " -0.7 -0.7 -0.7  0.0  0.0  0.0 -0.7 -0.7 -0.7\n",
      " -0.7 -0.7 -0.7  0.0  0.0  0.0 -0.7 -0.7 -0.7\n",
      " -0.7 -0.7 -0.7  0.0  0.0  0.0 -0.7 -0.7 -0.7\n",
      "  0.0  0.0  0.0  0.7  0.7  0.7  0.0  0.0  0.0\n",
      "  0.0  0.0  0.0  0.7  0.7  0.7  0.0  0.0  0.0\n",
      "  0.0  0.0  0.0  0.7  0.7  0.7  0.0  0.0  0.0\n"
     ]
    }
   ],
   "source": [
    "display_kernel_raw(preprocessing.scale(data)[0])"
   ]
  },
  {
   "cell_type": "code",
   "execution_count": 804,
   "id": "1be8d538-b301-4326-94bb-e866d9680081",
   "metadata": {},
   "outputs": [
    {
     "name": "stdout",
     "output_type": "stream",
     "text": [
      " -0.7 -0.7 -0.7  1.4  1.4  1.4 -0.7 -0.7 -0.7\n",
      " -0.7 -0.7 -0.7  1.4  1.4  1.4 -0.7 -0.7 -0.7\n",
      " -0.7 -0.7 -0.7  1.4  1.4  1.4 -0.7 -0.7 -0.7\n",
      " -0.7 -0.7 -0.7  1.4  1.4  1.4 -0.7 -0.7 -0.7\n",
      " -0.7 -0.7 -0.7  1.4  1.4  1.4 -0.7 -0.7 -0.7\n",
      " -0.7 -0.7 -0.7  1.4  1.4  1.4 -0.7 -0.7 -0.7\n",
      " -0.7 -0.7 -0.7  1.4  1.4  1.4 -0.7 -0.7 -0.7\n",
      " -0.7 -0.7 -0.7  1.4  1.4  1.4 -0.7 -0.7 -0.7\n",
      " -0.7 -0.7 -0.7  1.4  1.4  1.4 -0.7 -0.7 -0.7\n"
     ]
    }
   ],
   "source": [
    "display_kernel_raw(preprocessing.scale(data, axis=1)[0])"
   ]
  },
  {
   "cell_type": "code",
   "execution_count": 805,
   "id": "c20dbfdb-2ef8-499c-ac49-a8e41bc973d5",
   "metadata": {},
   "outputs": [
    {
     "name": "stdout",
     "output_type": "stream",
     "text": [
      " -0.7 -0.7 -0.7  1.4  1.4  1.4 -0.7 -0.7 -0.7\n",
      " -0.7 -0.7 -0.7  1.4  1.4  1.4 -0.7 -0.7 -0.7\n",
      " -0.7 -0.7 -0.7  1.4  1.4  1.4 -0.7 -0.7 -0.7\n",
      " -0.7 -0.7 -0.7  1.4  1.4  1.4 -0.7 -0.7 -0.7\n",
      " -0.7 -0.7 -0.7  1.4  1.4  1.4 -0.7 -0.7 -0.7\n",
      " -0.7 -0.7 -0.7  1.4  1.4  1.4 -0.7 -0.7 -0.7\n",
      " -0.7 -0.7 -0.7  1.4  1.4  1.4 -0.7 -0.7 -0.7\n",
      " -0.7 -0.7 -0.7  1.4  1.4  1.4 -0.7 -0.7 -0.7\n",
      " -0.7 -0.7 -0.7  1.4  1.4  1.4 -0.7 -0.7 -0.7\n"
     ]
    }
   ],
   "source": [
    "display_kernel_raw(preprocessing.scale(data.T).T[0])"
   ]
  },
  {
   "cell_type": "code",
   "execution_count": 866,
   "id": "39591cb0-200f-4f69-9051-cd9ee16e3b65",
   "metadata": {},
   "outputs": [],
   "source": [
    "pca = PCA() #svd_solver='randomized')\n",
    "pca.fit(scaled_data)\n",
    "pca_data = pca.transform(scaled_data)"
   ]
  },
  {
   "cell_type": "code",
   "execution_count": 867,
   "id": "295a7a95-24d9-4c47-9ad2-30ca9e2379a4",
   "metadata": {},
   "outputs": [
    {
     "data": {
      "image/png": "[encoded data removed]",
      "text/plain": [
       "<Figure size 640x480 with 1 Axes>"
      ]
     },
     "metadata": {},
     "output_type": "display_data"
    }
   ],
   "source": [
    "per_var = np.round(pca.explained_variance_ratio_ * 100, decimals=1)[:10]\n",
    "per_var_names = [f'PC{i+1}' for i in range(len(per_var))]\n",
    "\n",
    "p = plt.bar(per_var_names, per_var)\n",
    "plt.bar_label(p, map(str, per_var))\n",
    "plt.show()"
   ]
  },
  {
   "cell_type": "code",
   "execution_count": 868,
   "id": "258ceb85-4271-4c5c-b956-e94656af63d6",
   "metadata": {},
   "outputs": [
    {
     "data": {
      "text/html": [
       "\n",
       "        <div style=\"display: flex; flex-flow: row wrap; text-align: center;\">\n",
       "        \n",
       "            <figure style=\"margin: 5px !important;\">\n",
       "              <img src=\"data:image/png;base64,iVBORw0KGgoAAAANSUhEUgAAADIAAAAyCAAAAAA7VNdtAAAANklEQVR4nGNkQAFCuuYWRvJIAg/PnTh5+R2KGiYGksGollEto1pGtYxqGdUyqmVUy6iWgdUCAAUzBmS+yPboAAAAAElFTkSuQmCC\" style=\"height: auto\">\n",
       "              <figcaption style=\"font-size: 0.6em\">100.0</figcaption>\n",
       "            </figure>\n",
       "        \n",
       "        </div>\n",
       "    "
      ],
      "text/plain": [
       "<IPython.core.display.HTML object>"
      ]
     },
     "execution_count": 868,
     "metadata": {},
     "output_type": "execute_result"
    }
   ],
   "source": [
    "pc_imgs = []\n",
    "pc_caps = []\n",
    "evr_cumsum = np.cumsum(pca.explained_variance_ratio_)\n",
    "\n",
    "for i, cumsum in zip(range(10), evr_cumsum):\n",
    "    pc = pca.components_[i].copy()\n",
    "    pc *= data.std(axis=0)\n",
    "    pc += data.mean(axis=0)\n",
    "    pc[pc < 127] = 0\n",
    "    pc[pc > 0] = 255\n",
    "    # display_kernel_raw(pc, 1)\n",
    "    pc_imgs.append(Image.frombytes('L', size=(IMAGE_SIZE, IMAGE_SIZE), data=pc.astype(np.uint8)).resize((50, 50)))\n",
    "    pc_caps.append(f'{pca.explained_variance_ratio_[i] * 100:.1f}')\n",
    "\n",
    "    if cumsum >= 1:\n",
    "        break\n",
    "\n",
    "display_images(pc_imgs, captions=pc_caps)"
   ]
  },
  {
   "cell_type": "code",
   "execution_count": 869,
   "id": "e6e30ee7-962a-4770-a337-f68676846291",
   "metadata": {},
   "outputs": [
    {
     "data": {
      "text/plain": [
       "((100, 81), (81,), (81, 81))"
      ]
     },
     "execution_count": 869,
     "metadata": {},
     "output_type": "execute_result"
    }
   ],
   "source": [
    "scaled_data.shape, scaled_data[0].shape, pca.components_.shape"
   ]
  },
  {
   "cell_type": "code",
   "execution_count": 870,
   "id": "85498846-9a6f-4ff7-a6b0-f1d0e7a6035c",
   "metadata": {},
   "outputs": [
    {
     "data": {
      "text/plain": [
       "array([1, 2, 2, 1, 1, 1, 0, 1, 1, 0, 2, 2, 0, 2, 0, 0, 0, 0, 1, 2, 2, 0,\n",
       "       0, 2, 1, 1, 2, 2, 2, 0, 2, 0, 2, 2, 1, 0, 0, 0, 1, 2, 1, 0, 1, 0,\n",
       "       1, 0, 1, 2, 2, 1, 0, 2, 1, 0, 0, 1, 1, 1, 2, 1, 0, 2, 2, 1, 2, 0,\n",
       "       1, 1, 1, 2, 2, 0, 0, 1, 2, 1, 0, 1, 1, 0, 1, 0, 0, 2, 1, 2, 1, 1,\n",
       "       2, 0, 0, 2, 0, 0, 2, 0, 0, 0, 0, 2])"
      ]
     },
     "execution_count": 870,
     "metadata": {},
     "output_type": "execute_result"
    }
   ],
   "source": [
    "random_indices"
   ]
  },
  {
   "cell_type": "code",
   "execution_count": 871,
   "id": "8127701a-96d5-4a0e-8dbd-fba13336edb2",
   "metadata": {},
   "outputs": [
    {
     "data": {
      "text/plain": [
       "array([-8.95,  0.  , -0.  , -0.  , -0.  , -0.  ,  0.  , -0.  ,  0.  ,\n",
       "       -0.  ,  0.  ,  0.  , -0.  , -0.  ,  0.  ,  0.  , -0.  ,  0.  ,\n",
       "        0.  ,  0.  ,  0.  , -0.  ,  0.  , -0.  ,  0.  , -0.  , -0.  ,\n",
       "        0.  , -0.  , -0.  ,  0.  ,  0.  ,  0.  ,  0.  , -0.  , -0.  ,\n",
       "        0.  , -0.  , -0.  , -0.  ,  0.  ,  0.  , -0.  , -0.  ,  0.  ,\n",
       "       -0.  ,  0.  ,  0.  ,  0.  ,  0.  ,  0.  ,  0.  , -0.  , -0.  ,\n",
       "       -0.  , -0.  , -0.  ,  0.  ,  0.  , -0.  ,  0.  ,  0.  , -0.  ,\n",
       "        0.  , -0.  ,  0.  , -0.  ,  0.  ,  0.  , -0.  ,  0.  , -0.  ,\n",
       "       -0.  ,  0.  ,  0.  ,  0.  ,  0.  ,  0.  ,  0.  ,  0.  , -0.  ])"
      ]
     },
     "execution_count": 871,
     "metadata": {},
     "output_type": "execute_result"
    }
   ],
   "source": [
    "z = np.round(scaled_data[1] @ pca.components_.T, decimals=2)\n",
    "z"
   ]
  },
  {
   "cell_type": "code",
   "execution_count": 872,
   "id": "20c073d5-6aa3-429c-a550-3fc78cbd6ffa",
   "metadata": {},
   "outputs": [
    {
     "data": {
      "text/plain": [
       "True"
      ]
     },
     "execution_count": 872,
     "metadata": {},
     "output_type": "execute_result"
    }
   ],
   "source": [
    "np.array_equal(np.round(scaled_data[0] @ pca.components_.T, decimals=3), np.round(pca_data[0], decimals=3))"
   ]
  },
  {
   "cell_type": "code",
   "execution_count": 873,
   "id": "94fc6d3e-12fd-4b8f-b9bf-6f8d49f07d55",
   "metadata": {},
   "outputs": [
    {
     "name": "stdout",
     "output_type": "stream",
     "text": [
      " -0.0  0.0  0.0 -1.5 -1.5 -1.5  0.0  0.0  0.0\n",
      "  0.0  0.0  0.0 -1.5 -1.5 -1.5  0.0  0.0  0.0\n",
      "  0.0  0.0  0.0 -1.5 -1.5 -1.5  0.0  0.0  0.0\n",
      "  1.5  1.5  1.5  0.0  0.0  0.0  1.5  1.5  1.5\n",
      "  1.5  1.5  1.5  0.0  0.0  0.0  1.5  1.5  1.5\n",
      "  1.5  1.5  1.5  0.0  0.0  0.0  1.5  1.5  1.5\n",
      "  0.0  0.0  0.0 -1.5 -1.5 -1.5  0.0  0.0  0.0\n",
      "  0.0  0.0  0.0 -1.5 -1.5 -1.5  0.0  0.0  0.0\n",
      "  0.0  0.0  0.0 -1.5 -1.5 -1.5  0.0  0.0  0.0\n"
     ]
    }
   ],
   "source": [
    "display_kernel_raw(z @ pca.components_)"
   ]
  },
  {
   "cell_type": "code",
   "execution_count": 874,
   "id": "57df4601-8253-4ea4-9826-8de0b45a9108",
   "metadata": {},
   "outputs": [
    {
     "name": "stdout",
     "output_type": "stream",
     "text": [
      "  0.0  0.0  0.0  0.7  0.7  0.7  0.0  0.0  0.0\n",
      "  0.0  0.0  0.0  0.7  0.7  0.7  0.0  0.0  0.0\n",
      "  0.0  0.0  0.0  0.7  0.7  0.7  0.0  0.0  0.0\n",
      " -0.7 -0.7 -0.7  0.0  0.0  0.0 -0.7 -0.7 -0.7\n",
      " -0.7 -0.7 -0.7  0.0  0.0  0.0 -0.7 -0.7 -0.7\n",
      " -0.7 -0.7 -0.7  0.0  0.0  0.0 -0.7 -0.7 -0.7\n",
      "  0.0  0.0  0.0  0.7  0.7  0.7  0.0  0.0  0.0\n",
      "  0.0  0.0  0.0  0.7  0.7  0.7  0.0  0.0  0.0\n",
      "  0.0  0.0  0.0  0.7  0.7  0.7  0.0  0.0  0.0\n"
     ]
    }
   ],
   "source": [
    "display_kernel_raw(scaled_data[0], 1)"
   ]
  },
  {
   "cell_type": "code",
   "execution_count": 875,
   "id": "492b4a11-6eee-4286-a7c2-d9274866ec45",
   "metadata": {},
   "outputs": [
    {
     "data": {
      "text/plain": [
       "array([ 4.02, -0.  ,  0.  ,  0.  ,  0.  ,  0.  , -0.  ,  0.  , -0.  ,\n",
       "        0.  , -0.  , -0.  ,  0.  ,  0.  , -0.  , -0.  ,  0.  , -0.  ,\n",
       "       -0.  , -0.  , -0.  ,  0.  , -0.  ,  0.  , -0.  ,  0.  , -0.  ,\n",
       "       -0.  ,  0.  ,  0.  , -0.  , -0.  , -0.  , -0.  ,  0.  ,  0.  ,\n",
       "        0.  ,  0.  , -0.  , -0.  , -0.  , -0.  ,  0.  ,  0.  , -0.  ,\n",
       "       -0.  ,  0.  ,  0.  , -0.  ,  0.  , -0.  ,  0.  ,  0.  ,  0.  ,\n",
       "        0.  ,  0.  ,  0.  , -0.  , -0.  , -0.  , -0.  ,  0.  ,  0.  ,\n",
       "       -0.  ,  0.  , -0.  ,  0.  ,  0.  ,  0.  , -0.  , -0.  ,  0.  ,\n",
       "        0.  , -0.  ,  0.  , -0.  ,  0.  ,  0.  ,  0.  , -0.  , -0.  ])"
      ]
     },
     "execution_count": 875,
     "metadata": {},
     "output_type": "execute_result"
    }
   ],
   "source": [
    "np.round(pca_data[0], decimals=2)"
   ]
  },
  {
   "cell_type": "code",
   "execution_count": 876,
   "id": "2a3ecab6-16f5-44dc-aaab-ac1ff66f1eba",
   "metadata": {},
   "outputs": [
    {
     "data": {
      "text/plain": [
       "array([-8.95,  0.  , -0.  , -0.  , -0.  , -0.  ,  0.  , -0.  ,  0.  ,\n",
       "       -0.  ,  0.  ,  0.  , -0.  , -0.  ,  0.  ,  0.  , -0.  ,  0.  ,\n",
       "        0.  ,  0.  ,  0.  , -0.  ,  0.  , -0.  ,  0.  , -0.  ,  0.  ,\n",
       "        0.  , -0.  ,  0.  ,  0.  ,  0.  ,  0.  ,  0.  , -0.  , -0.  ,\n",
       "       -0.  , -0.  , -0.  ,  0.  ,  0.  ,  0.  , -0.  , -0.  ,  0.  ,\n",
       "        0.  , -0.  ,  0.  ,  0.  , -0.  ,  0.  , -0.  , -0.  , -0.  ,\n",
       "       -0.  , -0.  , -0.  ,  0.  ,  0.  ,  0.  ,  0.  ,  0.  , -0.  ,\n",
       "        0.  , -0.  , -0.  , -0.  , -0.  , -0.  , -0.  ,  0.  ,  0.  ,\n",
       "       -0.  , -0.  , -0.  ,  0.  ,  0.  ,  0.  ,  0.  ,  0.  ,  0.  ])"
      ]
     },
     "execution_count": 876,
     "metadata": {},
     "output_type": "execute_result"
    }
   ],
   "source": [
    "np.round(pca_data[1], decimals=2)"
   ]
  },
  {
   "cell_type": "code",
   "execution_count": 877,
   "id": "e4058042-5aa3-46a0-8892-4c7f21cca912",
   "metadata": {},
   "outputs": [
    {
     "data": {
      "text/plain": [
       "array([-8.95,  0.  , -0.  , -0.  , -0.  , -0.  ,  0.  , -0.  ,  0.  ,\n",
       "       -0.  ,  0.  ,  0.  , -0.  , -0.  ,  0.  ,  0.  , -0.  ,  0.  ,\n",
       "        0.  ,  0.  ,  0.  , -0.  ,  0.  , -0.  ,  0.  , -0.  ,  0.  ,\n",
       "        0.  , -0.  ,  0.  ,  0.  ,  0.  ,  0.  ,  0.  , -0.  , -0.  ,\n",
       "       -0.  , -0.  , -0.  ,  0.  ,  0.  ,  0.  , -0.  , -0.  ,  0.  ,\n",
       "        0.  , -0.  ,  0.  ,  0.  , -0.  ,  0.  , -0.  , -0.  , -0.  ,\n",
       "       -0.  , -0.  , -0.  ,  0.  ,  0.  ,  0.  ,  0.  ,  0.  , -0.  ,\n",
       "        0.  , -0.  , -0.  , -0.  , -0.  , -0.  , -0.  ,  0.  ,  0.  ,\n",
       "       -0.  , -0.  , -0.  ,  0.  ,  0.  ,  0.  ,  0.  ,  0.  ,  0.  ])"
      ]
     },
     "execution_count": 877,
     "metadata": {},
     "output_type": "execute_result"
    }
   ],
   "source": [
    "np.round(pca_data[2], decimals=2)"
   ]
  },
  {
   "cell_type": "code",
   "execution_count": 878,
   "id": "6a4e31a2-7db1-4c91-9eaf-b0544d3e0ec6",
   "metadata": {},
   "outputs": [
    {
     "data": {
      "text/plain": [
       "array([ 4.02, -0.  ,  0.  ,  0.  ,  0.  ,  0.  , -0.  ,  0.  , -0.  ,\n",
       "        0.  , -0.  , -0.  ,  0.  ,  0.  , -0.  , -0.  ,  0.  , -0.  ,\n",
       "       -0.  , -0.  , -0.  ,  0.  , -0.  ,  0.  , -0.  ,  0.  , -0.  ,\n",
       "       -0.  ,  0.  ,  0.  , -0.  , -0.  , -0.  , -0.  ,  0.  ,  0.  ,\n",
       "        0.  ,  0.  , -0.  , -0.  , -0.  , -0.  ,  0.  ,  0.  , -0.  ,\n",
       "       -0.  ,  0.  ,  0.  , -0.  ,  0.  , -0.  ,  0.  ,  0.  ,  0.  ,\n",
       "        0.  ,  0.  ,  0.  , -0.  , -0.  , -0.  , -0.  ,  0.  ,  0.  ,\n",
       "       -0.  ,  0.  , -0.  ,  0.  ,  0.  ,  0.  , -0.  , -0.  ,  0.  ,\n",
       "        0.  , -0.  ,  0.  , -0.  ,  0.  ,  0.  ,  0.  , -0.  , -0.  ])"
      ]
     },
     "execution_count": 878,
     "metadata": {},
     "output_type": "execute_result"
    }
   ],
   "source": [
    "np.round(pca_data[3], decimals=2)"
   ]
  },
  {
   "cell_type": "code",
   "execution_count": 882,
   "id": "65dc12e4-5aae-4da1-ad2b-099f2fbd9e3b",
   "metadata": {},
   "outputs": [
    {
     "data": {
      "text/html": [
       "\n",
       "        <div style=\"display: flex; flex-flow: row wrap; text-align: center;\">\n",
       "        \n",
       "            <figure style=\"margin: 5px !important;\">\n",
       "              <img src=\"data:image/png;base64,iVBORw0KGgoAAAANSUhEUgAAADIAAAAyCAAAAAA7VNdtAAABFUlEQVR4nO2WMW7DMAxFP2XmADlGli7N/U/QLjlC9izZgspihhSN+KlAsocABazFFqxnflJftAVuyKSqSQADIICVnPNsbk3C4rEhb0DUTy0D4K0kRMJLhHbfwoJGZElAeYguAQjCfuW5SzeKBFsyKXs/HXCyHpYjnyxLtd6rkjNL0+Ny5OPv1gCkJlJQ10kuEamraA3kxyMT4pg9UqkwvHBpgkeepnsIiw4yEqY3j8zKFgq5KOViZr301xyxnY+iJEx2IkJFplwG0pfZI60jZ5R+cQhaW1kIuYZcehXTc0Q6ttST0zBk/q/lyLdHBg7yinaxpikxAkAqZLRbVkj7aVDWaeMhCqc/hY8FIbFiALZfhX+B3AFZFL90hRlc5QAAAABJRU5ErkJggg==\" style=\"height: auto\">\n",
       "              <figcaption style=\"font-size: 0.6em\">-8</figcaption>\n",
       "            </figure>\n",
       "        \n",
       "            <figure style=\"margin: 5px !important;\">\n",
       "              <img src=\"data:image/png;base64,iVBORw0KGgoAAAANSUhEUgAAADIAAAAyCAAAAAA7VNdtAAABlUlEQVR4nO3WTW7cMAwF4EeJ+jGQRQ/QbRddpfc/RbvqBXqEALYkSswiyVhUgckkCAoUiFZjwJ+fKVHyEMzwccspOFJVEJGOVo69dnOPw5vHJ/kHhO1lFxFP01KKiPSrBM070nn1a23XU4DmHWbSVvEBtcDlnIJzQxVEbgxP2Ie9hb68/FIA4LjlFIgUCgKptnLsVQCALinfzBN8ylsKRKoAiFRb2Y9ip4zv357y40IUoGcCQEEAnokCdJLvZ4qCOOUtBZA+FapoZT+KKGhK+XqmKBynvKV5FqXsR5EBmlLuLMkp21rZh7AQb4h3HsvwzisZIobAS1iIiCwp1ZBBzkcjaq11Ic0QdZ6dKb+11ix5T1teXv1pxkIIplN5SB9kXyxaEqMtBbEPdZawJfzXnmPusKTPRGn0dZL76N2SB5vSWn+1Yf5cyM1t+ftMubX5f54puHGL/TK13rKR33FcEOxwmz2UWjnWQ2lduXFAu/28LuIjTkuEEOaPOEbvr5AQY5wJ6ejtKvHMzDwR7czj86/C/0AeAY3IN+mXLCB2AAAAAElFTkSuQmCC\" style=\"height: auto\">\n",
       "              <figcaption style=\"font-size: 0.6em\">-7</figcaption>\n",
       "            </figure>\n",
       "        \n",
       "            <figure style=\"margin: 5px !important;\">\n",
       "              <img src=\"data:image/png;base64,iVBORw0KGgoAAAANSUhEUgAAADIAAAAyCAAAAAA7VNdtAAABxUlEQVR4nO3WO47bMBAG4H/4krKU0qdNkSb3P0qaXCAHkLSw+ZhJsYbEoQ2tkyJAgJ3GoO0PnIF/0iKoci/zHAcHEYYhQrluy/Ja1HcM/rg+yD8gTi9rrbVWgghDiG7rUyIpJU98/PoppSSnBDnnbAAWhiGDnHPO543d9upez8k4jmMbS6o5XzryWS/vkvxpGLoku69tP+TiNE+DhYiAiFCv67JuRUAN+b4DAci/zHMcDCACIoCv27K8ZgGIHhGB8XGap4HeJidAruuybplBDfm2ExaYEKd5GprGr+uybolB5iBf7kloSFqnOxI7EmMrECILvCZ7LgUCY4zpgnp7qyV75oQFUmutXpFaa60MkoMk1Rh8SqHdh1NKqZulKGJKKaUdppRSSlHkb47YnkthgXHOOac/d86xbiwoEkJQo8CEEDI0sTshgbHWWqiy1lpLinC7C5iZNWFmZgYdWXabaiyDDKnAbNvWB+aXniVO67ux/LmTp8P/4yDPHrGdPH2Q6b3r4v6Pj6BrfED6S6kjF++ttORy6cTj25Ju92TfwmPivff+2AXsvc+nhEIIIRzESA6hyBmxbwURgiGCWGut/XhU+B/Ib+HcODAIcOEhAAAAAElFTkSuQmCC\" style=\"height: auto\">\n",
       "              <figcaption style=\"font-size: 0.6em\">-6</figcaption>\n",
       "            </figure>\n",
       "        \n",
       "            <figure style=\"margin: 5px !important;\">\n",
       "              <img src=\"data:image/png;base64,iVBORw0KGgoAAAANSUhEUgAAADIAAAAyCAAAAAA7VNdtAAAB80lEQVR4nO3VTY/TMBAG4HfG9iYbqV3ltEckDvD/fw4cuHOKaKVQx/YMBxd/RKvswgEhgU9J2ye1J6/HhG48nOb5PDkSETCzhvWyLNet+w3jl8d/8geI7W9TSiklJhGBqmq+PyYhhBBQ334IIRwTxBhjpEJijDEeTwwAVAFAm+tDQsMwjGONJcs2DFvv7Kk+HaCcZEuiAibWOFoitylAlbyrQkFDJlBREBPiejmfr15B1dgP7RLuxJCogog1rZdluXoFqJKPhQjAw2menyYiVQBEquu3Zbl6AbiS95UoeMwkF4yATG4CashzIUlhxtM8Pz025fk+PjxMtwQylUw9maapFXgM3ifuScmlqoKZeRdUZmbWbmIlQJo0x7In92C2RQ4tERNCCK4R4R5MkkpiS3IMWxJjjDEmkBbyO1us5FJJYay11vbfW2stdRUrs1BWGOeca+cF55xziTtiCoHCGGMMunH/qCVSiChIRKQnIiIioCaWayFJYcQMg+sCs67rugvM1/ZfeFy37fZaLL9U8tbwfyrkzVvsc1uxlzZyJk3G6JV2kQ++vl1cu5JSUI23/Vm5a0r9W1Dv/Y2FRBIMs2437/2u/b3QLfNCqbk+JvcY/pyYWmutPyQ5l3UtcM45kw5JHkREYGYVY4zZkb/2rPzHyQ8LTmAJGPdqOgAAAABJRU5ErkJggg==\" style=\"height: auto\">\n",
       "              <figcaption style=\"font-size: 0.6em\">-5</figcaption>\n",
       "            </figure>\n",
       "        \n",
       "            <figure style=\"margin: 5px !important;\">\n",
       "              <img src=\"data:image/png;base64,iVBORw0KGgoAAAANSUhEUgAAADIAAAAyCAAAAAA7VNdtAAACC0lEQVR4nO2VQY/aMBCF34ydsAa2BbHpqVKl/v/fVKlSTwUELbBe4nimBxbHDpRqpVW1UjsnPydfPJ68sQlFjOZNs5jWJBJhmLXdr5fLzbF4h/Hi+I/8BcSWMp6CRCKgqid5E+m6rus6JpEIZdaTvongGvLqe+G6ruu6tyXquq5ZSmRSyNFsNpvlTrYxBC2dbD+eRwoF3c2bZjGtoCJgJoS9G40mTwoCJeRzQkTBbt40i6khVQETady/v7/feAHxDeTDYsqAKogA2c8ukU/nkUSBHc+bZjElAAoCoPuJG7977MAm1dY+DJCHZpFXxLGqGSAuIZ2gcs45hxxxzj1pANseSSNlgJiZi7/LzMzEYOqR5DmJAo4xxmgyJMYYo0Ro2j1syBGEEELIkRBCCKED629WoQuvP3cDFJpyxYvDpiwIBGOMMXlezzNaFLlKiZGgqqqqqnLkPJMXuf+mIfD1VdiAOU3b1AsqAhURkXx/IiKiAvRNY316GAUd3Xnvc8N47733pWFWOWLHkUh8bsv1arUZeOxrn5iC3c9HfyjMv/6+HJr/S4nMd7tt0WLr5Q3k1Mi73Y+ikdfL5WbQyN/ykmJ0OB79Hy4+eyikp6oyXY5st9vt4FAqFKRt27ZFj7Rt25bEK5yWsNZaa0mEYJhVrLUXr1wjBojtbiEnrxsiAgyznmSJvNm78h9HfgG8plmwdOuzAgAAAABJRU5ErkJggg==\" style=\"height: auto\">\n",
       "              <figcaption style=\"font-size: 0.6em\">-4</figcaption>\n",
       "            </figure>\n",
       "        \n",
       "            <figure style=\"margin: 5px !important;\">\n",
       "              <img src=\"data:image/png;base64,iVBORw0KGgoAAAANSUhEUgAAADIAAAAyCAAAAAA7VNdtAAACUUlEQVR4nO2VX2vbUAzFj/7YddI2hUBI08G+/+cabGkIBJKtjWNfSXtwY197UCiFPk1PV+AfVzr3SCaMolptNuuHks0MIuLNcbfd7uvRN4wPx3/kCxAdp94F3B1EdE3fQ1JKKSVmM0NEeJe/f0tKKSUJS4a4ppNbPt+LlmVZlgUzd7aMsixLHVem8+EcoGqxWCwWBbsZRNjbOL+8XOoAZcjjQARotnp8XD8U5G4Q5mhnFCHnAA2Mfh8IB89Xm836QSjcwUxhx5uimL06eGAyxB0yX22e1gumiAARhZ+qopi9GpgH5Nv15G6Qu9Xmab0gIAAQEPdKXP4xCPfa6rJHzKB3y+VyeZ/L09YXKxNEBqS6nswMWlVVVWUEqqqqqlYgIj3Sl8gRYCLKtAFARETMo156N7gZ6B8Xuru7GbKHGV7WLYFSSimVGZJSSskSMmup9UgykJmZZQTMzCwZOg27DvDh0F4IAqAimTQAICIiGtBM5N7KDkBUVUfmVlVVCYgOyFCZAMLMPKqVmZklRq/fd+Xu8IiIyJGIiOgWQY/0W93NYEVd13WRIXVd1/VlbJjDcItBGrmpipTZ8nQ4HA4TW/7sS3CHzBuP9Ds3/+7Xdj8x/4+hagfPz21bj0Zst93uJyPWI90gn9v2kg/ycbfd7ieD/JypA6qMKM7Zujjunp/3k3XxmkuK5ub2dkbZv/J0Op1Ok6U0ypCapmkaYksGUfemaZpmsmA/vy258xQDBBEhVVVlfw/RLpiIICLuqqravHvLW0QEmPkt/3Qv/5EvQP4Ckc9fs3J6AqkAAAAASUVORK5CYII=\" style=\"height: auto\">\n",
       "              <figcaption style=\"font-size: 0.6em\">-3</figcaption>\n",
       "            </figure>\n",
       "        \n",
       "            <figure style=\"margin: 5px !important;\">\n",
       "              <img src=\"data:image/png;base64,iVBORw0KGgoAAAANSUhEUgAAADIAAAAyCAAAAAA7VNdtAAACLUlEQVR4nO2V227aQBBA54ZDqWkoygVZav//u1rJSqCiVKbUMXPpA2G9hihRL6oqtfu0s+vDsOMza4TBmCzeva/mF+RqwEL+sK4/fLzbDZ4h+OHxH/kDiAxDPwxwd0BP4XOImamahZsBYLipmtlLiHuOuJ8hv34WERGRETkiiJCbiIh0w2fGg3BSltNp2Zss+2lZlkOT5TpNIwBfX19fXc1H5OZATL7nbtfa1wDEHqkS4Q5cLqqqmjOGByBh2BjUaGtAhOeIu4FMF1VVzQkjAhAxfAxq1CgwpULJTcqiBqPpzc3t7VvEgAAEjBhZ++Cv9sDSZ5mlLKpQvJnNZrPL7Kyx+9K01IFIn6VICBEURVEURUaklRzp3yUiIBHR4O0SEdFhJyHJOfOjhjmSPO2tEU2bZmCqqpojqqpqBoiREBsgZicW2uNShvyMlnycYQQwMzPn+/y4xNwfP6lsEcAiIgO5RUSEGbJfyorsdCjpeZGJgPiJInsExNNFjoDoV/v2cVWAruu6bpIh3WGAe59lc5yFGox8PL2cYKblZrPZbJqhlsv+LxjIN7oY8z6Tf32/XC5P5K9TFnfgxlmgzVpsXdf13UmLJeTQyM4CbdbI67qu704aeZXXB3Y8nhSWffg+f1qtVifXRTsIfbttmpGSq4IIeds02+325FIaRAdxdU+uBhHkeqb277gtmZmImTAAmAmZiJn9BUQkR0SYef8cQknDAKKnPP2Lv5X/OPIdaUZoZ6t0/McAAAAASUVORK5CYII=\" style=\"height: auto\">\n",
       "              <figcaption style=\"font-size: 0.6em\">-2</figcaption>\n",
       "            </figure>\n",
       "        \n",
       "            <figure style=\"margin: 5px !important;\">\n",
       "              <img src=\"data:image/png;base64,iVBORw0KGgoAAAANSUhEUgAAADIAAAAyCAAAAAA7VNdtAAACQklEQVR4nO2VT2/bMAzFH0nFTTJ1heHVlwE7bN//I22HAbukDYyurtM6IrmDU0Ve/2BrgWHAppNI6Weaz08yYTbevP/46cO7FdleIQv23eXXz1++3cz2MH57/Ef+ABLmoU2DzAxk8Cl8FlFVVTUyU5DBp/jXqqhB5fEqr+8lhBBCEKJAEGGf4jTfc3KcO2i9Xq/X6yXZQiGBfUq4gwqkzoA7ONZ1XdcnZMnAgf1Or+t6WBiIMhTOM2IGOW3b87ZZkKuBhXzPu+t+XCqYj0h7PzM1hLdt27aNAOYgBlR2fT8uE1iyUKG5n6kmVGdN0zQNAQ6AAEd/dbULI4JIRmJGUkIVY4wxpwDcxRhjWiCEI1JlhAlVVVVVVRCHjGNRILkrIgIRFdIcsnRYyUh2g5nDzN28RNzcp5XHEFWoqdrMhVNGQYXIelw02APjTs42FA96iS2zEDAGi8jxAwCAiIgwg4vvksu4OIRFeI6wCItAmB9BmMBMRZ8AQEzETOACyZK6O9zdfS7yIVWkw3g/05RA4ziOY4mM4ziO4x5ux176jGjCPvR9358Utuz7vu9v5rbcZsHUENLq7CyiMP92u91uv8/Nv8lvbQa5rWJcaXHEtpvNZnM9P2IXZft8W8XTlRUH+fJis7no5we5K9QB7ddddypLsjRdF7dd13Xdzfy6uCv1AQ3DMAx+/FcOwzAM8z0/3WMppZSSkiWFs/sUz/e8/rbkaRDEIcw+hc8iMjmXwAJmdnlg7aersIOfqPLX/iv/ceQHUZxfx2TrKswAAAAASUVORK5CYII=\" style=\"height: auto\">\n",
       "              <figcaption style=\"font-size: 0.6em\">-1</figcaption>\n",
       "            </figure>\n",
       "        \n",
       "            <figure style=\"margin: 5px !important;\">\n",
       "              <img src=\"data:image/png;base64,iVBORw0KGgoAAAANSUhEUgAAADIAAAAyCAAAAAA7VNdtAAACFklEQVR4nO2VQW+dMAzH/3aSlqExCpfdJu2yff+Ps10m7bYLlEdF6Uti7wCEsD5V2t7UUy0h2SY/gZ2/E8LBqk9fvn7+WHL0AdYZmX79+Pb953hYw/hre0NeAbHHUHfL/BeRGGOMUSASwUKyxC8ishiWh7bwP9dirbXWGoYojDG0xE/HNTebpwBQFEVRFLcc2cI4I1IURVGcAYASUiVaFVRVVfWhKjjGAGuM2MeqqipVEO1fabPKYe7atm1aRyICZtbSt237wBHMqWrbJCRGuLumadrGkIqCmDT6+6YZycOYHakT4iNu6rqu65pIoSCQ6lNd17WcYdyOlJsXbcBtWZZlmVIAyrIsy5lhnUmI2zxWwDnnnMuINRMPSOoEEQFElPUGW4KQpW1Sg6hCn+lDRGR5cwlZpHUJWQR3BfIvskyMMoOZs20GsGb4sPtXIUSgy8jyJiFpsFV1nf0cWY8BZGnrNy+GAO+99z5HlkwAKDXSTpsnPkKmaZqmKZPlNE3T9HiGCfuPDQmJEY6HYRhuM/EPwzAMp6P4+4SIwGjV953bR8x3fd/398cR67JKQfK+6+7cPshz33VddzoOcrrUFABoHMfTu8DRRxhn5PE0juM4Avlxcc77g3me53nm5a4UI0t86OGf51gIIYQQNcYAYsgSH9dcf1qukuJVcBdE9wwxxhhjmJUNmHmNX0Rot8y/upY35BWQ33s5ZaCVaLU1AAAAAElFTkSuQmCC\" style=\"height: auto\">\n",
       "              <figcaption style=\"font-size: 0.6em\">0</figcaption>\n",
       "            </figure>\n",
       "        \n",
       "            <figure style=\"margin: 5px !important;\">\n",
       "              <img src=\"data:image/png;base64,iVBORw0KGgoAAAANSUhEUgAAADIAAAAyCAAAAAA7VNdtAAAB/klEQVR4nO2VzY7VMAyFj13f3pGSsGfLggW8/6PAggVb9iQZpm1is+hPUu7VSMNICAksVXVsf01rnbiEk7159+Hj+7eO61wg46D525dPn79+P9UwXmz/kT+AyHlpzTr/WURVVdXMVLHeVFVfvcvrv4U3M2bwejH/8ljpGAON4ziOozAbQy6s29pAHeIOQA3snHPOPZBKxSBs5JxzblEQH5D4A6kK8T6E4EeyomAhkxCC96WAh4aE3dNScQkhhBAEUAUzcM0hhLAsGIRvd6nLgqv33ntPgAEgwLz33j9NuFyGA7keCBGuq3XtWQOGy9iQ1rFBMYiInPouIiLDgGE4wq3nROhb2Rut2f0phxrMdr301XukCzdENyXeQVSh2jqmXRJ2I9xN2TA7wr8jy4NRItCNCpmZmQhE7cWoS4KJiE5tIyIiZnCnMWrJreAWWTO332K2yuSO2Zrddym7V2tFLaWU0leXUkqpFVwbMh3IsoCmaZqmqZPlGphh1jSWdk9LRU0ppZSa+EtKKaXHBUsn/ni8cFXIJcYYXTtic4wxxnw+YscupgaWFGP0D6RlPchPMcaU0vkg574xdMk552ysc4GMrI8555x/nMfFqT+Y53me55HrXKA06Lo+19wdsLrKWknvDdjXT0tq1vnPIrwplzaN3h2wL9/lr/1X/uPIT3S+UdDyjZW1AAAAAElFTkSuQmCC\" style=\"height: auto\">\n",
       "              <figcaption style=\"font-size: 0.6em\">1</figcaption>\n",
       "            </figure>\n",
       "        \n",
       "            <figure style=\"margin: 5px !important;\">\n",
       "              <img src=\"data:image/png;base64,iVBORw0KGgoAAAANSUhEUgAAADIAAAAyCAAAAAA7VNdtAAAB3klEQVR4nO2VwcrVMBCFzySTNgHBF3AtuBHf/ynEjeDaFxDEJDfJjIveJul/e/EqvyJoV3Om/ejM4TQlHK6Xr9++e/Pqha2XArdw+/r54/sPn74cnjH46es/8gcQPkpVVVUAqtBZ/wjZnpvKhxDoLJ55F2OMMYaIyICIaNNPEDuGAsDMzGytWoW19qoNABrI2glRmHVd13V1hmBhnb3qRUCmM+z3SpqAgw8heGesbbDWiIYQfPhWYWwfj8NetVqx+OC9D5ZUFGRIrfc++JXAY4MxWCPC4lfv/WoAVRAB4r1f/aLgZSBur0gU7JxzrrcA65xzjiuYu7fcRzSGcOvp1XVMbe5GEAggIqIZ2RoEjDb3NIyMzMiUnhNEz4K7d/Qc0buIzsivxHKsT7Qte7v+ducMwV0Ed5DfabLslYhCRERkRraOYmpz2atWG2oppZQyxbKUUkptIDPekgdSQSmnlPIIf0sp5XQpUB1Jjn2EJtAUU0pxMdK2T+ySUoopV7Q6Ypn6oqJoMcUYE5lWGqyzkmKMKebjh9wHgwLIOeec2dZLBUPbpi84HBdt9ge11lprQ2sV1Kht+uDh03Ps6qmqClRVb11/jtOSqOdwFg8hPdYPIgC295xE+y/+V/7jyHftF1WukiCdKQAAAABJRU5ErkJggg==\" style=\"height: auto\">\n",
       "              <figcaption style=\"font-size: 0.6em\">2</figcaption>\n",
       "            </figure>\n",
       "        \n",
       "            <figure style=\"margin: 5px !important;\">\n",
       "              <img src=\"data:image/png;base64,iVBORw0KGgoAAAANSUhEUgAAADIAAAAyCAAAAAA7VNdtAAABo0lEQVR4nO1Vu47VUAycsX1Eh7Q/QE9Bg/j/L0A0FPT7A0h06NgeiuzNTW5yhRat0BZrKUe245EfmeMQO3n4+PnLpw/vLX9PjHfRvx6/f/324+cuxvBseYO8TkjsTUmSAEjQ1v57Fq3HixR2B0Iuz5nExi/QzN0NIA0kYO5uRmETFmv/asAi3D1IuuAkw90jrEHjEdJoecQYI4zmgBstxhgR3jRfW4hx0UqCjxERg6QbSGJExBietPBjFlTDIiIiuJRBYrGNNF8DY81nBOza/tPg3N3MANq1sLWrZa7kfrYXz8Z9+C5HyG3EAXJDqQPDthDpLqu0vH2S2EcdiHt1rO5/uS/77s4ntmjHLCRwh7t7Wv+fIV8nJp1d9Ytn446+aC2gu6uqSQkAKVVVdwPqNTDyolVLnZmZGegWaKbFbqHrWthcs7RUc2bmdKgKTmlm5pwldJ5kUQuVOefMtq4EjJ1zzsyCGicQQOjMqkpJlWBIWVWZLWBT2H4+S/uA1JCArqruPWHvbcs9eXfygttyPY5ys/nXy0+COFsGr/gv9gZ5rvwBSoz1hsaX1b8AAAAASUVORK5CYII=\" style=\"height: auto\">\n",
       "              <figcaption style=\"font-size: 0.6em\">3</figcaption>\n",
       "            </figure>\n",
       "        \n",
       "            <figure style=\"margin: 5px !important;\">\n",
       "              <img src=\"data:image/png;base64,iVBORw0KGgoAAAANSUhEUgAAADIAAAAyCAAAAAA7VNdtAAAARUlEQVR4nGNkQAFCumaWhgpIAg/OHz91+R2KGiYGksGollEto1pggJGBEQ+XWraMahnVMjy0/Gf4j4dLLVtGtYxqGSlaADiyCmTqvin8AAAAAElFTkSuQmCC\" style=\"height: auto\">\n",
       "              <figcaption style=\"font-size: 0.6em\">4</figcaption>\n",
       "            </figure>\n",
       "        \n",
       "            <figure style=\"margin: 5px !important;\">\n",
       "              <img src=\"data:image/png;base64,iVBORw0KGgoAAAANSUhEUgAAADIAAAAyCAAAAAA7VNdtAAAA/UlEQVR4nO2WMQ7CMAxFvxP3AByDhYn7n4CJI3AABjYgjRnKENsRaYKEhNQuVdS82t/+cUtQF0VmDgQIAAIkp5RmUXsCuq8N+QHCeikJgG2lQci9hEz3xW2oRKYA5CXp7ACX2Ds9dWtGIWdLS9JOL1c4mff9yFEpCJGZy17llNKclYIR5NCN0NUjZRWlgiSN1DyXDZI1UiEWKxRaTJToHSRW/t1pMYSv2FMjWaQlf+SITZ8To4komIo9DNKWP1JkjVQZ00q+OS2tivHFIy0nn/uR0zcIsO4gD4yLkaFkEQBUIGunZYHUn7rMGmPcRbHyo/tYGMRXDMD2q/AXyAtS48Nz2FX3gwAAAABJRU5ErkJggg==\" style=\"height: auto\">\n",
       "              <figcaption style=\"font-size: 0.6em\">5</figcaption>\n",
       "            </figure>\n",
       "        \n",
       "            <figure style=\"margin: 5px !important;\">\n",
       "              <img src=\"data:image/png;base64,iVBORw0KGgoAAAANSUhEUgAAADIAAAAyCAAAAAA7VNdtAAABb0lEQVR4nO3WO04EMQwG4N+OE7ZB4gDUFDRw/1NAwwm4Ac1sHjbF7M7EWbQvrZCQmCozyqfYsRMNwT0hbTZ3kcnMQESmZTtNubk5jIuff/ILRPxrq7UG6kpZa63tKEFhJuurn3M5vgpQAqMnZRQ3yAU8tGUgTOqn0MM6NtCukwEzEAG7TjZQt8pTJ/aEyGAgkNmedEZeVmEgmQlgAAiYSTXQauT1cvK8EDPwTLpcZ6IgWsnjIel3sf5A7heihiBpk9yOisSYawPxSpZaGhmY+aC287d+leoCA9exuLXWIbDsiILZR5ZzHnMpjhiFwC79Ukrx5Jq2XIowb3KM0SUj2pqRDyx5kpJPBUkV7Il4IgdnTkThyXIYTA1Q1ZGoqvpSfg2BldMN8zmQM9ryYyFnN//b5eQdqznvIF9xXXRDAIeXUtlO46U0Vk4nWPNkrNQNbkvEGPvAoG17gsSUUk/IVMtREkREpCPWRPT/V+EvkG/HkTXu2yM1pQAAAABJRU5ErkJggg==\" style=\"height: auto\">\n",
       "              <figcaption style=\"font-size: 0.6em\">6</figcaption>\n",
       "            </figure>\n",
       "        \n",
       "            <figure style=\"margin: 5px !important;\">\n",
       "              <img src=\"data:image/png;base64,iVBORw0KGgoAAAANSUhEUgAAADIAAAAyCAAAAAA7VNdtAAABrElEQVR4nO2WTY7bMAyFH/UXN3a6n3UXXfT+R+miJ+gBEgeJRJFdZCCbcuFJi0GBAsOVBfnzI+lH2QQT4TidxkOAqsARge/z+XJlc4/DH8cH8g+QYJe11lorQVWgRK/rXURzzpFkefs556y7CEopxemClFLKu9eCYRiGtS2pFr51yGe73Dj502HonBy+tEsFEI/TaTx4qCqICPU+ny/XAoAW5FsjFKAH4qBQEAjyQBQg2iKQXWTpU/jaVETh0nE6jYdV4vf5fLlmAblF5WWLpBWS52mDjB0yGgIJohQt4pdSFM5772HCe+8dQK4VE1rPVRTKzGwZZuYqIJWGZJMYQs5xbSLJOeeuFqPiHDPzuhhmZmaD/I0tmy9VFC6EEILdDyGITSwZJKWUjLBLKTEs0p4p9KrSpxFCJdPkNtgq+ph92+RaaxUBoY1zmE1iRcnBGmaee8P8tLUcp8ubtvzRdp82//em8vSINeTpQaa3jovth49gY/gN0h9KHXIL0esaud064j1OyxhjjIsKSYyx7CKUUkppQZyWlFj3EP8IqBIcEdR77/3Hr8L/gPwCdH02GDCblSIAAAAASUVORK5CYII=\" style=\"height: auto\">\n",
       "              <figcaption style=\"font-size: 0.6em\">7</figcaption>\n",
       "            </figure>\n",
       "        \n",
       "            <figure style=\"margin: 5px !important;\">\n",
       "              <img src=\"data:image/png;base64,iVBORw0KGgoAAAANSUhEUgAAADIAAAAyCAAAAAA7VNdtAAAB8UlEQVR4nO3VQYvbMBAF4DcjKXEMCfjU40IPpf//15Qeeu/JkIDXsaR5PTiVLbPr3fZQCq1OlpMPjaUnSVC1w7nrLm0QM4OqMg7Xvr9N1X8Uv9z+kz9AfN3NOeecVcwMJDn390mMMUYsqx9jjPsEKaWUpJCUUkr7hYEkCQCsu68TaZqmaZZYqk1NE2vkz8sAgMxJ9mI0qChT40XCREAW8rQmOM4ENEJUkIbr5XK7oyKfyqMBMhMnRkJEmYdr39/uXC+g/1wGMUKbc9ddWhESgAg5XPv+NhpEyzD+40tkrlKAF8mHQjLhmnPXXU6r6Xk+HQ7tmCFuIW1N2rZdC5zS/Z61JuWzSEJVdRNUVVVlVVgJEDPnWNbkEUxZZtnHNTEXY4xhJeIjmGILSWsyx3BNUkoppQxhIb+zxUouKYTz3ntf/+6991LNWKmCSrgQQljXhRBCCFkr4goB4ZxzDlV7vFoTK8QIMTOriZmZGUQWMhSSCWfuePRVYIZhGDaB+b4eRZthmp7fiuW3mrwn/F+Wqt+7xb6Wx1c2ct9vNrK8cVzMF199XNyqKZVIpnF7V24OpaoHjuN4UBOzDKfKaRzHcXP2bU9LkceiSd3dIY8Y/iyM3nt/3yVzLpdvQQghuLxL5iYiAlWlOefchvy1d+U/Tn4AjUdhF4sMca0AAAAASUVORK5CYII=\" style=\"height: auto\">\n",
       "              <figcaption style=\"font-size: 0.6em\">8</figcaption>\n",
       "            </figure>\n",
       "        \n",
       "        </div>\n",
       "    "
      ],
      "text/plain": [
       "<IPython.core.display.HTML object>"
      ]
     },
     "execution_count": 882,
     "metadata": {},
     "output_type": "execute_result"
    }
   ],
   "source": [
    "x = pca_data[0].copy()\n",
    "x_imgs = []\n",
    "x_caps = []\n",
    "\n",
    "for i in range(-8, 9):\n",
    "    x[0] = i\n",
    "    k = x @ pca.components_\n",
    "    k *= data.std(axis=0)\n",
    "    k += data.mean(axis=0)\n",
    "    # pc[pc < 127] = 0\n",
    "    # pc[pc > 0] = 255\n",
    "    x_imgs.append(Image.frombytes('L', size=(IMAGE_SIZE, IMAGE_SIZE), data=k.astype(np.uint8)).resize((50, 50)))\n",
    "    x_caps.append(f'{i}')\n",
    "\n",
    "display_images(x_imgs, captions=x_caps)"
   ]
  },
  {
   "cell_type": "code",
   "execution_count": 933,
   "id": "fcbdb5c7-7d77-47aa-9897-94628ae5b516",
   "metadata": {},
   "outputs": [],
   "source": [
    "xy_data = []\n",
    "\n",
    "for y in range(IMAGE_SIZE):\n",
    "    for x in range(IMAGE_SIZE):\n",
    "        i = y * IMAGE_SIZE + x\n",
    "        samples_indices = np.argwhere(data[:,i] > 0)\n",
    "        samples_indices = samples_indices.reshape(-1)\n",
    "\n",
    "        for si in samples_indices:\n",
    "            xy_data.append([x, y])\n",
    "\n",
    "xy_data = np.array(xy_data)"
   ]
  },
  {
   "cell_type": "code",
   "execution_count": 934,
   "id": "025876a7-443c-4f6a-a8d9-10edb67d752b",
   "metadata": {},
   "outputs": [
    {
     "data": {
      "text/plain": [
       "array([[3, 0],\n",
       "       [3, 0],\n",
       "       [3, 0],\n",
       "       ...,\n",
       "       [5, 8],\n",
       "       [5, 8],\n",
       "       [5, 8]], shape=(2700, 2))"
      ]
     },
     "execution_count": 934,
     "metadata": {},
     "output_type": "execute_result"
    }
   ],
   "source": [
    "xy_data"
   ]
  },
  {
   "cell_type": "code",
   "execution_count": 935,
   "id": "20d970d2-5558-4d0b-8a4e-71f1c609af50",
   "metadata": {},
   "outputs": [
    {
     "data": {
      "image/jpeg": "[encoded data removed]",
      "image/png": "[encoded data removed]",
      "text/plain": [
       "<PIL.Image.Image image mode=L size=50x50>"
      ]
     },
     "execution_count": 935,
     "metadata": {},
     "output_type": "execute_result"
    }
   ],
   "source": [
    "test_image = Image.new('L', size=(IMAGE_SIZE, IMAGE_SIZE))\n",
    "test_image_draw = ImageDraw.Draw(test_image)\n",
    "\n",
    "for xy in xy_data:\n",
    "    test_image_draw.point(list(xy), fill=255)\n",
    "    \n",
    "test_image.resize((50, 50))"
   ]
  },
  {
   "cell_type": "code",
   "execution_count": 936,
   "id": "b6a7fc1b-bf32-4c17-bd04-3220ad413c6c",
   "metadata": {},
   "outputs": [
    {
     "data": {
      "text/html": [
       "<style>#sk-container-id-11 {\n",
       "  /* Definition of color scheme common for light and dark mode */\n",
       "  --sklearn-color-text: #000;\n",
       "  --sklearn-color-text-muted: #666;\n",
       "  --sklearn-color-line: gray;\n",
       "  /* Definition of color scheme for unfitted estimators */\n",
       "  --sklearn-color-unfitted-level-0: #fff5e6;\n",
       "  --sklearn-color-unfitted-level-1: #f6e4d2;\n",
       "  --sklearn-color-unfitted-level-2: #ffe0b3;\n",
       "  --sklearn-color-unfitted-level-3: chocolate;\n",
       "  /* Definition of color scheme for fitted estimators */\n",
       "  --sklearn-color-fitted-level-0: #f0f8ff;\n",
       "  --sklearn-color-fitted-level-1: #d4ebff;\n",
       "  --sklearn-color-fitted-level-2: #b3dbfd;\n",
       "  --sklearn-color-fitted-level-3: cornflowerblue;\n",
       "\n",
       "  /* Specific color for light theme */\n",
       "  --sklearn-color-text-on-default-background: var(--sg-text-color, var(--theme-code-foreground, var(--jp-content-font-color1, black)));\n",
       "  --sklearn-color-background: var(--sg-background-color, var(--theme-background, var(--jp-layout-color0, white)));\n",
       "  --sklearn-color-border-box: var(--sg-text-color, var(--theme-code-foreground, var(--jp-content-font-color1, black)));\n",
       "  --sklearn-color-icon: #696969;\n",
       "\n",
       "  @media (prefers-color-scheme: dark) {\n",
       "    /* Redefinition of color scheme for dark theme */\n",
       "    --sklearn-color-text-on-default-background: var(--sg-text-color, var(--theme-code-foreground, var(--jp-content-font-color1, white)));\n",
       "    --sklearn-color-background: var(--sg-background-color, var(--theme-background, var(--jp-layout-color0, #111)));\n",
       "    --sklearn-color-border-box: var(--sg-text-color, var(--theme-code-foreground, var(--jp-content-font-color1, white)));\n",
       "    --sklearn-color-icon: #878787;\n",
       "  }\n",
       "}\n",
       "\n",
       "#sk-container-id-11 {\n",
       "  color: var(--sklearn-color-text);\n",
       "}\n",
       "\n",
       "#sk-container-id-11 pre {\n",
       "  padding: 0;\n",
       "}\n",
       "\n",
       "#sk-container-id-11 input.sk-hidden--visually {\n",
       "  border: 0;\n",
       "  clip: rect(1px 1px 1px 1px);\n",
       "  clip: rect(1px, 1px, 1px, 1px);\n",
       "  height: 1px;\n",
       "  margin: -1px;\n",
       "  overflow: hidden;\n",
       "  padding: 0;\n",
       "  position: absolute;\n",
       "  width: 1px;\n",
       "}\n",
       "\n",
       "#sk-container-id-11 div.sk-dashed-wrapped {\n",
       "  border: 1px dashed var(--sklearn-color-line);\n",
       "  margin: 0 0.4em 0.5em 0.4em;\n",
       "  box-sizing: border-box;\n",
       "  padding-bottom: 0.4em;\n",
       "  background-color: var(--sklearn-color-background);\n",
       "}\n",
       "\n",
       "#sk-container-id-11 div.sk-container {\n",
       "  /* jupyter's `normalize.less` sets `[hidden] { display: none; }`\n",
       "     but bootstrap.min.css set `[hidden] { display: none !important; }`\n",
       "     so we also need the `!important` here to be able to override the\n",
       "     default hidden behavior on the sphinx rendered scikit-learn.org.\n",
       "     See: https://github.com/scikit-learn/scikit-learn/issues/21755 */\n",
       "  display: inline-block !important;\n",
       "  position: relative;\n",
       "}\n",
       "\n",
       "#sk-container-id-11 div.sk-text-repr-fallback {\n",
       "  display: none;\n",
       "}\n",
       "\n",
       "div.sk-parallel-item,\n",
       "div.sk-serial,\n",
       "div.sk-item {\n",
       "  /* draw centered vertical line to link estimators */\n",
       "  background-image: linear-gradient(var(--sklearn-color-text-on-default-background), var(--sklearn-color-text-on-default-background));\n",
       "  background-size: 2px 100%;\n",
       "  background-repeat: no-repeat;\n",
       "  background-position: center center;\n",
       "}\n",
       "\n",
       "/* Parallel-specific style estimator block */\n",
       "\n",
       "#sk-container-id-11 div.sk-parallel-item::after {\n",
       "  content: \"\";\n",
       "  width: 100%;\n",
       "  border-bottom: 2px solid var(--sklearn-color-text-on-default-background);\n",
       "  flex-grow: 1;\n",
       "}\n",
       "\n",
       "#sk-container-id-11 div.sk-parallel {\n",
       "  display: flex;\n",
       "  align-items: stretch;\n",
       "  justify-content: center;\n",
       "  background-color: var(--sklearn-color-background);\n",
       "  position: relative;\n",
       "}\n",
       "\n",
       "#sk-container-id-11 div.sk-parallel-item {\n",
       "  display: flex;\n",
       "  flex-direction: column;\n",
       "}\n",
       "\n",
       "#sk-container-id-11 div.sk-parallel-item:first-child::after {\n",
       "  align-self: flex-end;\n",
       "  width: 50%;\n",
       "}\n",
       "\n",
       "#sk-container-id-11 div.sk-parallel-item:last-child::after {\n",
       "  align-self: flex-start;\n",
       "  width: 50%;\n",
       "}\n",
       "\n",
       "#sk-container-id-11 div.sk-parallel-item:only-child::after {\n",
       "  width: 0;\n",
       "}\n",
       "\n",
       "/* Serial-specific style estimator block */\n",
       "\n",
       "#sk-container-id-11 div.sk-serial {\n",
       "  display: flex;\n",
       "  flex-direction: column;\n",
       "  align-items: center;\n",
       "  background-color: var(--sklearn-color-background);\n",
       "  padding-right: 1em;\n",
       "  padding-left: 1em;\n",
       "}\n",
       "\n",
       "\n",
       "/* Toggleable style: style used for estimator/Pipeline/ColumnTransformer box that is\n",
       "clickable and can be expanded/collapsed.\n",
       "- Pipeline and ColumnTransformer use this feature and define the default style\n",
       "- Estimators will overwrite some part of the style using the `sk-estimator` class\n",
       "*/\n",
       "\n",
       "/* Pipeline and ColumnTransformer style (default) */\n",
       "\n",
       "#sk-container-id-11 div.sk-toggleable {\n",
       "  /* Default theme specific background. It is overwritten whether we have a\n",
       "  specific estimator or a Pipeline/ColumnTransformer */\n",
       "  background-color: var(--sklearn-color-background);\n",
       "}\n",
       "\n",
       "/* Toggleable label */\n",
       "#sk-container-id-11 label.sk-toggleable__label {\n",
       "  cursor: pointer;\n",
       "  display: flex;\n",
       "  width: 100%;\n",
       "  margin-bottom: 0;\n",
       "  padding: 0.5em;\n",
       "  box-sizing: border-box;\n",
       "  text-align: center;\n",
       "  align-items: start;\n",
       "  justify-content: space-between;\n",
       "  gap: 0.5em;\n",
       "}\n",
       "\n",
       "#sk-container-id-11 label.sk-toggleable__label .caption {\n",
       "  font-size: 0.6rem;\n",
       "  font-weight: lighter;\n",
       "  color: var(--sklearn-color-text-muted);\n",
       "}\n",
       "\n",
       "#sk-container-id-11 label.sk-toggleable__label-arrow:before {\n",
       "  /* Arrow on the left of the label */\n",
       "  content: \"▸\";\n",
       "  float: left;\n",
       "  margin-right: 0.25em;\n",
       "  color: var(--sklearn-color-icon);\n",
       "}\n",
       "\n",
       "#sk-container-id-11 label.sk-toggleable__label-arrow:hover:before {\n",
       "  color: var(--sklearn-color-text);\n",
       "}\n",
       "\n",
       "/* Toggleable content - dropdown */\n",
       "\n",
       "#sk-container-id-11 div.sk-toggleable__content {\n",
       "  max-height: 0;\n",
       "  max-width: 0;\n",
       "  overflow: hidden;\n",
       "  text-align: left;\n",
       "  /* unfitted */\n",
       "  background-color: var(--sklearn-color-unfitted-level-0);\n",
       "}\n",
       "\n",
       "#sk-container-id-11 div.sk-toggleable__content.fitted {\n",
       "  /* fitted */\n",
       "  background-color: var(--sklearn-color-fitted-level-0);\n",
       "}\n",
       "\n",
       "#sk-container-id-11 div.sk-toggleable__content pre {\n",
       "  margin: 0.2em;\n",
       "  border-radius: 0.25em;\n",
       "  color: var(--sklearn-color-text);\n",
       "  /* unfitted */\n",
       "  background-color: var(--sklearn-color-unfitted-level-0);\n",
       "}\n",
       "\n",
       "#sk-container-id-11 div.sk-toggleable__content.fitted pre {\n",
       "  /* unfitted */\n",
       "  background-color: var(--sklearn-color-fitted-level-0);\n",
       "}\n",
       "\n",
       "#sk-container-id-11 input.sk-toggleable__control:checked~div.sk-toggleable__content {\n",
       "  /* Expand drop-down */\n",
       "  max-height: 200px;\n",
       "  max-width: 100%;\n",
       "  overflow: auto;\n",
       "}\n",
       "\n",
       "#sk-container-id-11 input.sk-toggleable__control:checked~label.sk-toggleable__label-arrow:before {\n",
       "  content: \"▾\";\n",
       "}\n",
       "\n",
       "/* Pipeline/ColumnTransformer-specific style */\n",
       "\n",
       "#sk-container-id-11 div.sk-label input.sk-toggleable__control:checked~label.sk-toggleable__label {\n",
       "  color: var(--sklearn-color-text);\n",
       "  background-color: var(--sklearn-color-unfitted-level-2);\n",
       "}\n",
       "\n",
       "#sk-container-id-11 div.sk-label.fitted input.sk-toggleable__control:checked~label.sk-toggleable__label {\n",
       "  background-color: var(--sklearn-color-fitted-level-2);\n",
       "}\n",
       "\n",
       "/* Estimator-specific style */\n",
       "\n",
       "/* Colorize estimator box */\n",
       "#sk-container-id-11 div.sk-estimator input.sk-toggleable__control:checked~label.sk-toggleable__label {\n",
       "  /* unfitted */\n",
       "  background-color: var(--sklearn-color-unfitted-level-2);\n",
       "}\n",
       "\n",
       "#sk-container-id-11 div.sk-estimator.fitted input.sk-toggleable__control:checked~label.sk-toggleable__label {\n",
       "  /* fitted */\n",
       "  background-color: var(--sklearn-color-fitted-level-2);\n",
       "}\n",
       "\n",
       "#sk-container-id-11 div.sk-label label.sk-toggleable__label,\n",
       "#sk-container-id-11 div.sk-label label {\n",
       "  /* The background is the default theme color */\n",
       "  color: var(--sklearn-color-text-on-default-background);\n",
       "}\n",
       "\n",
       "/* On hover, darken the color of the background */\n",
       "#sk-container-id-11 div.sk-label:hover label.sk-toggleable__label {\n",
       "  color: var(--sklearn-color-text);\n",
       "  background-color: var(--sklearn-color-unfitted-level-2);\n",
       "}\n",
       "\n",
       "/* Label box, darken color on hover, fitted */\n",
       "#sk-container-id-11 div.sk-label.fitted:hover label.sk-toggleable__label.fitted {\n",
       "  color: var(--sklearn-color-text);\n",
       "  background-color: var(--sklearn-color-fitted-level-2);\n",
       "}\n",
       "\n",
       "/* Estimator label */\n",
       "\n",
       "#sk-container-id-11 div.sk-label label {\n",
       "  font-family: monospace;\n",
       "  font-weight: bold;\n",
       "  display: inline-block;\n",
       "  line-height: 1.2em;\n",
       "}\n",
       "\n",
       "#sk-container-id-11 div.sk-label-container {\n",
       "  text-align: center;\n",
       "}\n",
       "\n",
       "/* Estimator-specific */\n",
       "#sk-container-id-11 div.sk-estimator {\n",
       "  font-family: monospace;\n",
       "  border: 1px dotted var(--sklearn-color-border-box);\n",
       "  border-radius: 0.25em;\n",
       "  box-sizing: border-box;\n",
       "  margin-bottom: 0.5em;\n",
       "  /* unfitted */\n",
       "  background-color: var(--sklearn-color-unfitted-level-0);\n",
       "}\n",
       "\n",
       "#sk-container-id-11 div.sk-estimator.fitted {\n",
       "  /* fitted */\n",
       "  background-color: var(--sklearn-color-fitted-level-0);\n",
       "}\n",
       "\n",
       "/* on hover */\n",
       "#sk-container-id-11 div.sk-estimator:hover {\n",
       "  /* unfitted */\n",
       "  background-color: var(--sklearn-color-unfitted-level-2);\n",
       "}\n",
       "\n",
       "#sk-container-id-11 div.sk-estimator.fitted:hover {\n",
       "  /* fitted */\n",
       "  background-color: var(--sklearn-color-fitted-level-2);\n",
       "}\n",
       "\n",
       "/* Specification for estimator info (e.g. \"i\" and \"?\") */\n",
       "\n",
       "/* Common style for \"i\" and \"?\" */\n",
       "\n",
       ".sk-estimator-doc-link,\n",
       "a:link.sk-estimator-doc-link,\n",
       "a:visited.sk-estimator-doc-link {\n",
       "  float: right;\n",
       "  font-size: smaller;\n",
       "  line-height: 1em;\n",
       "  font-family: monospace;\n",
       "  background-color: var(--sklearn-color-background);\n",
       "  border-radius: 1em;\n",
       "  height: 1em;\n",
       "  width: 1em;\n",
       "  text-decoration: none !important;\n",
       "  margin-left: 0.5em;\n",
       "  text-align: center;\n",
       "  /* unfitted */\n",
       "  border: var(--sklearn-color-unfitted-level-1) 1pt solid;\n",
       "  color: var(--sklearn-color-unfitted-level-1);\n",
       "}\n",
       "\n",
       ".sk-estimator-doc-link.fitted,\n",
       "a:link.sk-estimator-doc-link.fitted,\n",
       "a:visited.sk-estimator-doc-link.fitted {\n",
       "  /* fitted */\n",
       "  border: var(--sklearn-color-fitted-level-1) 1pt solid;\n",
       "  color: var(--sklearn-color-fitted-level-1);\n",
       "}\n",
       "\n",
       "/* On hover */\n",
       "div.sk-estimator:hover .sk-estimator-doc-link:hover,\n",
       ".sk-estimator-doc-link:hover,\n",
       "div.sk-label-container:hover .sk-estimator-doc-link:hover,\n",
       ".sk-estimator-doc-link:hover {\n",
       "  /* unfitted */\n",
       "  background-color: var(--sklearn-color-unfitted-level-3);\n",
       "  color: var(--sklearn-color-background);\n",
       "  text-decoration: none;\n",
       "}\n",
       "\n",
       "div.sk-estimator.fitted:hover .sk-estimator-doc-link.fitted:hover,\n",
       ".sk-estimator-doc-link.fitted:hover,\n",
       "div.sk-label-container:hover .sk-estimator-doc-link.fitted:hover,\n",
       ".sk-estimator-doc-link.fitted:hover {\n",
       "  /* fitted */\n",
       "  background-color: var(--sklearn-color-fitted-level-3);\n",
       "  color: var(--sklearn-color-background);\n",
       "  text-decoration: none;\n",
       "}\n",
       "\n",
       "/* Span, style for the box shown on hovering the info icon */\n",
       ".sk-estimator-doc-link span {\n",
       "  display: none;\n",
       "  z-index: 9999;\n",
       "  position: relative;\n",
       "  font-weight: normal;\n",
       "  right: .2ex;\n",
       "  padding: .5ex;\n",
       "  margin: .5ex;\n",
       "  width: min-content;\n",
       "  min-width: 20ex;\n",
       "  max-width: 50ex;\n",
       "  color: var(--sklearn-color-text);\n",
       "  box-shadow: 2pt 2pt 4pt #999;\n",
       "  /* unfitted */\n",
       "  background: var(--sklearn-color-unfitted-level-0);\n",
       "  border: .5pt solid var(--sklearn-color-unfitted-level-3);\n",
       "}\n",
       "\n",
       ".sk-estimator-doc-link.fitted span {\n",
       "  /* fitted */\n",
       "  background: var(--sklearn-color-fitted-level-0);\n",
       "  border: var(--sklearn-color-fitted-level-3);\n",
       "}\n",
       "\n",
       ".sk-estimator-doc-link:hover span {\n",
       "  display: block;\n",
       "}\n",
       "\n",
       "/* \"?\"-specific style due to the `<a>` HTML tag */\n",
       "\n",
       "#sk-container-id-11 a.estimator_doc_link {\n",
       "  float: right;\n",
       "  font-size: 1rem;\n",
       "  line-height: 1em;\n",
       "  font-family: monospace;\n",
       "  background-color: var(--sklearn-color-background);\n",
       "  border-radius: 1rem;\n",
       "  height: 1rem;\n",
       "  width: 1rem;\n",
       "  text-decoration: none;\n",
       "  /* unfitted */\n",
       "  color: var(--sklearn-color-unfitted-level-1);\n",
       "  border: var(--sklearn-color-unfitted-level-1) 1pt solid;\n",
       "}\n",
       "\n",
       "#sk-container-id-11 a.estimator_doc_link.fitted {\n",
       "  /* fitted */\n",
       "  border: var(--sklearn-color-fitted-level-1) 1pt solid;\n",
       "  color: var(--sklearn-color-fitted-level-1);\n",
       "}\n",
       "\n",
       "/* On hover */\n",
       "#sk-container-id-11 a.estimator_doc_link:hover {\n",
       "  /* unfitted */\n",
       "  background-color: var(--sklearn-color-unfitted-level-3);\n",
       "  color: var(--sklearn-color-background);\n",
       "  text-decoration: none;\n",
       "}\n",
       "\n",
       "#sk-container-id-11 a.estimator_doc_link.fitted:hover {\n",
       "  /* fitted */\n",
       "  background-color: var(--sklearn-color-fitted-level-3);\n",
       "}\n",
       "</style><div id=\"sk-container-id-11\" class=\"sk-top-container\"><div class=\"sk-text-repr-fallback\"><pre>PCA()</pre><b>In a Jupyter environment, please rerun this cell to show the HTML representation or trust the notebook. <br />On GitHub, the HTML representation is unable to render, please try loading this page with nbviewer.org.</b></div><div class=\"sk-container\" hidden><div class=\"sk-item\"><div class=\"sk-estimator fitted sk-toggleable\"><input class=\"sk-toggleable__control sk-hidden--visually\" id=\"sk-estimator-id-11\" type=\"checkbox\" checked><label for=\"sk-estimator-id-11\" class=\"sk-toggleable__label fitted sk-toggleable__label-arrow\"><div><div>PCA</div></div><div><a class=\"sk-estimator-doc-link fitted\" rel=\"noreferrer\" target=\"_blank\" href=\"https://scikit-learn.org/1.6/modules/generated/sklearn.decomposition.PCA.html\">?<span>Documentation for PCA</span></a><span class=\"sk-estimator-doc-link fitted\">i<span>Fitted</span></span></div></label><div class=\"sk-toggleable__content fitted\"><pre>PCA()</pre></div> </div></div></div></div>"
      ],
      "text/plain": [
       "PCA()"
      ]
     },
     "execution_count": 936,
     "metadata": {},
     "output_type": "execute_result"
    }
   ],
   "source": [
    "xy_data_scaled = preprocessing.scale(xy_data)\n",
    "xy_pca = PCA()\n",
    "xy_pca.fit(xy_data_scaled)"
   ]
  },
  {
   "cell_type": "code",
   "execution_count": 937,
   "id": "a5c1cb35-6a9f-4aa6-bbd1-2966c9fc5831",
   "metadata": {},
   "outputs": [
    {
     "data": {
      "image/png": "[encoded data removed]",
      "text/plain": [
       "<Figure size 640x480 with 1 Axes>"
      ]
     },
     "metadata": {},
     "output_type": "display_data"
    }
   ],
   "source": [
    "per_var = np.round(xy_pca.explained_variance_ratio_ * 100, decimals=1)[:10]\n",
    "per_var_names = [f'PC{i+1}' for i in range(len(per_var))]\n",
    "\n",
    "p = plt.bar(per_var_names, per_var)\n",
    "plt.bar_label(p, map(str, per_var))\n",
    "plt.show()"
   ]
  },
  {
   "cell_type": "code",
   "execution_count": 931,
   "id": "d36d65c9-f50a-4445-b1b2-8da7f14c22c6",
   "metadata": {},
   "outputs": [
    {
     "data": {
      "text/html": [
       "\n",
       "        <div style=\"display: flex; flex-flow: row wrap; text-align: center;\">\n",
       "        \n",
       "            <figure style=\"margin: 5px !important;\">\n",
       "              <img src=\"data:image/png;base64,iVBORw0KGgoAAAANSUhEUgAAADIAAAAyCAAAAAA7VNdtAAACa0lEQVR4nO2Vy3LTMBSGf0u+1E6cNEnTUFoKvQ3T9+DteDAWwJIF06HpNG1afEns+CrLstiRmYxNxY4FZ6v5pHP+858jSCnl148fdCgHASBq6NbfIQmTpquO6D6wSmR/Jpqa81qqIN+APJCTi1GVxHEqVJDPgJRyNsoz70HkSsgnwD54dbSPaN7EIVdBvgDj97PDK9un4T1RIKAvgGImh8f9vWB/T1NBCICcE7uPoWNApRQQAJLoJmDpsmaqiK5TAqARXKUtIAAsCgEwXjcqBAgACp4zpAyGkjl1AA1Lgic3LI3x60xw/lJ6OoA6eZ7TXpW551aeroPoBd10ADx+0CPH1ofX7wrvVsQKifFokT9aR29OpnZ5p60fa4XENmxlGql7cTKrzHDuFC8joigA6pxxa1iPJ+PRCsAfJPgtq1iHge+AmZNTiKooWGeTtp3I/LteZORiej1lke9393WLMO97MXYcazops0eLbTpHZ4vwQHj28PT87YERuczvNsL2RETpkkzI8fB8EFZLp3vatkhTVYDYNM7EpuO+2T1tO5eVglg2ejaV3VtgByFENwEQybunbQcxDaoBEHXd7c1dhEoO1ExI5VpIw5IIcYm97iW9I39TrJ+GcZKbh2cJZ0XZJsIOUifLm6qPtHc5yNPA8xUQHi0azx64/dEV8+ckS1ocvftKjM29cXx5dbovFjRaKtRSJ2VISTkmB6eSegNTAZGcA3BXWUNBKWlVutWwm/B5oWvLMG11TStS+rdmoHm3fusWaEXq8Cb7oW1+PudtK6A1W9pzexaqPMvazNmKaJqmAZBSKn0F/+OfiF+5dC/tESoMJQAAAABJRU5ErkJggg==\" style=\"height: auto\">\n",
       "              <figcaption style=\"font-size: 0.6em\">50.0</figcaption>\n",
       "            </figure>\n",
       "        \n",
       "            <figure style=\"margin: 5px !important;\">\n",
       "              <img src=\"data:image/png;base64,iVBORw0KGgoAAAANSUhEUgAAADIAAAAyCAAAAAA7VNdtAAACAElEQVR4nO3UXXPSQBQG4BdIkxIgIYWWTx1aHPXGf+G/84d5oV4647SjBflogHyHJGw22fWC0U6RpPHSGd7Ls3kmu8nZA845//LhvYDCKQNIEwjSvxGfcLFRnAgbwNpC6XJG4zgpRL4CkVnppB3imGYx8gkolcvDXuTOvwdhIfIRqHWGg3bJUCLdKkQ+A620134jP8RLdVaIzIDoMoSsRpqmqcG+yjnn2QSA6xhrPXJZY0h2AAASBEGcS6izvIXCvPq4lQIAd/Rlkk/g/SwZtUat+uqsAgB8ecccP58Ei+1UGtyMX/QkAOD3zJqv80kUmxUhrI+UoQwAnOrtppi5MwEA0hTAxvJ3NAEAXjpXrwZemlDKsggAwLeWU3H/Fos2x9VtYJtWPiHGRLD3d4Bz5e0oNCbcPdZ0j4RaP/z7MwCA1h9eyfFMsBcklzCHrMUyAGAkjvr9VHYmtWOf+pGk4Z8+Fl7GooKL1oW25sBh6xy9845tbhoVIl5eIyFRuEufJ6ExbfhSzDrvusRe6WYBQjd3ZCor9U6PBPPb2Ns9TxKTGVXl+nW3L3lKpB88c5QwN9DLKrpiV7N9Ta4UIYwCYc+Njo6P7ClJndWs6XsPdvj09DkE/uJb3Azms8OuySHBgq9kYq8s+rReyiaSXDsX0r9/ZQ75vZY9a0455ZT/Nr8Aj5gFWTY/prYAAAAASUVORK5CYII=\" style=\"height: auto\">\n",
       "              <figcaption style=\"font-size: 0.6em\">50.0</figcaption>\n",
       "            </figure>\n",
       "        \n",
       "        </div>\n",
       "    "
      ],
      "text/plain": [
       "<IPython.core.display.HTML object>"
      ]
     },
     "execution_count": 931,
     "metadata": {},
     "output_type": "execute_result"
    }
   ],
   "source": [
    "pc_imgs = []\n",
    "pc_caps = []\n",
    "evr_cumsum = np.cumsum(xy_pca.explained_variance_ratio_)\n",
    "\n",
    "for i, cumsum in zip(range(10), evr_cumsum):\n",
    "    pc = xy_pca.components_[i].copy()\n",
    "    pc *= xy_data.std(axis=0)\n",
    "    pc += xy_data.mean(axis=0)\n",
    "    # pc[pc < 127] = 0\n",
    "    # pc[pc > 0] = 255\n",
    "    # display_kernel_raw(pc, 1)\n",
    "    pc_img = Image.new('L', size=(IMAGE_SIZE, IMAGE_SIZE))\n",
    "    pc_img_draw = ImageDraw.Draw(pc_img)\n",
    "    pc_img_draw.line([(0, 0), tuple(pc)], fill=255)\n",
    "    pc_imgs.append(pc_img.resize((50, 50)))\n",
    "    pc_caps.append(f'{xy_pca.explained_variance_ratio_[i] * 100:.1f}')\n",
    "\n",
    "    if cumsum >= 1:\n",
    "        break\n",
    "\n",
    "display_images(pc_imgs, captions=pc_caps)"
   ]
  },
  {
   "cell_type": "code",
   "execution_count": 999,
   "id": "702f7c52-a7eb-431c-860a-1dc352e4304c",
   "metadata": {},
   "outputs": [
    {
     "name": "stdout",
     "output_type": "stream",
     "text": [
      "[0. 0. 0. 0. 0. 0. 0. 0. 0. 0.]                                          0.00   0.00\n",
      "[0. 0. 0. 0. 0. 0. 0. 0. 0. 0.]                                          0.00   0.00\n",
      "\n",
      "[1. 0. 0. 0. 0. 0. 0. 0. 0. 0.]                                          0.10   0.30\n",
      "[ 3.   -0.33 -0.33 -0.33 -0.33 -0.33 -0.33 -0.33 -0.33 -0.33]           -0.00   1.00\n",
      "\n",
      "[1. 1. 0. 0. 0. 0. 0. 0. 0. 0.]                                          0.20   0.40\n",
      "[ 2.   2.  -0.5 -0.5 -0.5 -0.5 -0.5 -0.5 -0.5 -0.5]                     -0.00   1.00\n",
      "\n",
      "[1. 1. 1. 0. 0. 0. 0. 0. 0. 0.]                                          0.30   0.46\n",
      "[ 1.53  1.53  1.53 -0.65 -0.65 -0.65 -0.65 -0.65 -0.65 -0.65]           -0.00   1.00\n",
      "\n",
      "[1. 1. 1. 1. 0. 0. 0. 0. 0. 0.]                                          0.40   0.49\n",
      "[ 1.22  1.22  1.22  1.22 -0.82 -0.82 -0.82 -0.82 -0.82 -0.82]           -0.00   1.00\n",
      "\n",
      "[1. 1. 1. 1. 1. 0. 0. 0. 0. 0.]                                          0.50   0.50\n",
      "[ 1.  1.  1.  1.  1. -1. -1. -1. -1. -1.]                                0.00   1.00\n",
      "\n",
      "[1. 1. 1. 1. 1. 1. 0. 0. 0. 0.]                                          0.60   0.49\n",
      "[ 0.82  0.82  0.82  0.82  0.82  0.82 -1.22 -1.22 -1.22 -1.22]            0.00   1.00\n",
      "\n",
      "[1. 1. 1. 1. 1. 1. 1. 0. 0. 0.]                                          0.70   0.46\n",
      "[ 0.65  0.65  0.65  0.65  0.65  0.65  0.65 -1.53 -1.53 -1.53]            0.00   1.00\n",
      "\n",
      "[1. 1. 1. 1. 1. 1. 1. 1. 0. 0.]                                          0.80   0.40\n",
      "[ 0.5  0.5  0.5  0.5  0.5  0.5  0.5  0.5 -2.  -2. ]                     -0.00   1.00\n",
      "\n",
      "[1. 1. 1. 1. 1. 1. 1. 1. 1. 0.]                                          0.90   0.30\n",
      "[ 0.33  0.33  0.33  0.33  0.33  0.33  0.33  0.33  0.33 -3.  ]           -0.00   1.00\n",
      "\n",
      "[1. 1. 1. 1. 1. 1. 1. 1. 1. 1.]                                          1.00   0.00\n",
      "[0. 0. 0. 0. 0. 0. 0. 0. 0. 0.]                                          0.00   0.00\n",
      "\n"
     ]
    }
   ],
   "source": [
    "for i in range(10 + 1):\n",
    "    arr = [1] * i + [0] * (10 - i)\n",
    "    arr = np.array(arr)\n",
    "    print(f'{str(np.round(arr.astype(np.float32), decimals=1)):70} {arr.mean():6.2f} {arr.std():6.2f}')\n",
    "    print(f'{str(np.round(preprocessing.scale(arr), decimals=2)):70} {preprocessing.scale(arr).mean():6.2f} {preprocessing.scale(arr).std():6.2f}\\n')\n",
    "    "
   ]
  },
  {
   "cell_type": "code",
   "execution_count": 1138,
   "id": "7a16aed7-c36e-4369-8078-f1877cf20db6",
   "metadata": {},
   "outputs": [
    {
     "data": {
      "image/png": "[encoded data removed]",
      "text/plain": [
       "<Figure size 640x480 with 1 Axes>"
      ]
     },
     "metadata": {},
     "output_type": "display_data"
    }
   ],
   "source": [
    "x = np.random.randn(100)\n",
    "noise = np.random.randn(100) / 5\n",
    "y = x + (noise - noise.mean())\n",
    "# y = x + 0.5\n",
    "\n",
    "plt.scatter(x, y)\n",
    "plt.xlim(-1, 1)\n",
    "plt.ylim(-1, 1)\n",
    "plt.show()"
   ]
  },
  {
   "cell_type": "code",
   "execution_count": 1117,
   "id": "7e59fb45-65a8-48e8-a284-48f3e2a54af0",
   "metadata": {},
   "outputs": [
    {
     "data": {
      "text/plain": [
       "array([[1., 1.],\n",
       "       [1., 1.]])"
      ]
     },
     "execution_count": 1117,
     "metadata": {},
     "output_type": "execute_result"
    }
   ],
   "source": [
    "dataset = np.vstack((x, y)).T\n",
    "dataset_norm = preprocessing.scale(dataset)\n",
    "cov1 = (dataset_norm.T @ dataset_norm) / dataset.shape[0]\n",
    "np.round(cov1, decimals=2)"
   ]
  },
  {
   "cell_type": "code",
   "execution_count": 1118,
   "id": "d3ded7b9-aa6b-45fc-87e9-3bf7a05ded6c",
   "metadata": {},
   "outputs": [],
   "source": [
    "evc = np.linalg.eig(cov1).eigenvectors"
   ]
  },
  {
   "cell_type": "code",
   "execution_count": 1119,
   "id": "7c9522c4-ad03-4b61-a2ac-1b49c1f141c6",
   "metadata": {},
   "outputs": [
    {
     "data": {
      "text/plain": [
       "array([[ 2., -0.],\n",
       "       [-0.,  0.]])"
      ]
     },
     "execution_count": 1119,
     "metadata": {},
     "output_type": "execute_result"
    }
   ],
   "source": [
    "dataset_norm_rot = (dataset_norm @ evc)\n",
    "cov2 = (dataset_norm_rot.T @ dataset_norm_rot) / dataset.shape[0]\n",
    "np.round(cov2, decimals=2)"
   ]
  },
  {
   "cell_type": "code",
   "execution_count": 1120,
   "id": "68051a8c-5697-42e7-9a7f-079c034aae91",
   "metadata": {},
   "outputs": [
    {
     "data": {
      "image/png": "[encoded data removed]",
      "text/plain": [
       "<Figure size 640x480 with 1 Axes>"
      ]
     },
     "metadata": {},
     "output_type": "display_data"
    }
   ],
   "source": [
    "plt.scatter(dataset_norm_rot[:,0], dataset_norm_rot[:,1])\n",
    "plt.xlim(-1, 1)\n",
    "plt.ylim(-1, 1)\n",
    "plt.show()"
   ]
  },
  {
   "cell_type": "code",
   "execution_count": 1121,
   "id": "41b96f2c-de11-4780-ae0b-e8dcdce484fb",
   "metadata": {},
   "outputs": [
    {
     "data": {
      "text/plain": [
       "array([0., 0.])"
      ]
     },
     "execution_count": 1121,
     "metadata": {},
     "output_type": "execute_result"
    }
   ],
   "source": [
    "np.round([dataset_norm_rot[:,0].mean(), dataset_norm_rot[:,1].mean()], decimals=3)"
   ]
  },
  {
   "cell_type": "code",
   "execution_count": 1122,
   "id": "9473df8e-b5f4-4230-9183-518d2745730e",
   "metadata": {},
   "outputs": [
    {
     "data": {
      "text/plain": [
       "array([1.414, 0.   ])"
      ]
     },
     "execution_count": 1122,
     "metadata": {},
     "output_type": "execute_result"
    }
   ],
   "source": [
    "np.round([dataset_norm_rot[:,0].std(), dataset_norm_rot[:,1].std()], decimals=3)"
   ]
  },
  {
   "cell_type": "code",
   "execution_count": 1617,
   "id": "5c2fb559-5bdb-4c53-a4c8-ca0e509d98c1",
   "metadata": {},
   "outputs": [],
   "source": [
    "x = np.array([1, 1, 0, 0])\n",
    "y = np.array([0, 0, 1, 1])\n",
    "z = np.array([0, 0, 0, 1])\n",
    "w = np.array([0, 0, 1, 0])\n",
    "o = np.array([0, 0, 0, 0])\n",
    "dataset = np.vstack((x, x, x, y, y, z, w, o)) \n",
    "\n",
    "\n",
    "# a = np.array([0, 1, 0, 0, 1, 0, 0, 1, 0])\n",
    "# b = np.array([0, 0, 0, 1, 1, 1, 0, 0, 0])\n",
    "# o = np.array([0, 0, 0, 0, 0, 0, 0, 0, 0])\n",
    "# dataset = np.vstack((a, b, a, b, a, b, a, a, a, b, a, a, a, b, o, o, o)) \n",
    "\n",
    "# x = np.array([1, 1])\n",
    "# y = np.array([0, 0])\n",
    "# dataset = None\n",
    "# dataset = np.vstack((x, y)) \n"
   ]
  },
  {
   "cell_type": "code",
   "execution_count": 1618,
   "id": "d1bbd532-9e4f-41c4-b3fc-3dcde1c51f32",
   "metadata": {},
   "outputs": [
    {
     "data": {
      "text/plain": [
       "array([[1, 1, 0, 0],\n",
       "       [1, 1, 0, 0],\n",
       "       [1, 1, 0, 0],\n",
       "       [0, 0, 1, 1],\n",
       "       [0, 0, 1, 1],\n",
       "       [0, 0, 0, 1],\n",
       "       [0, 0, 1, 0],\n",
       "       [0, 0, 0, 0]])"
      ]
     },
     "execution_count": 1618,
     "metadata": {},
     "output_type": "execute_result"
    }
   ],
   "source": [
    "dataset"
   ]
  },
  {
   "cell_type": "code",
   "execution_count": 1619,
   "id": "698d85a7-fab2-4b28-b6ff-af00b5d04857",
   "metadata": {},
   "outputs": [
    {
     "data": {
      "text/plain": [
       "array([[ 1.29,  1.29, -0.77, -0.77],\n",
       "       [ 1.29,  1.29, -0.77, -0.77],\n",
       "       [ 1.29,  1.29, -0.77, -0.77],\n",
       "       [-0.77, -0.77,  1.29,  1.29],\n",
       "       [-0.77, -0.77,  1.29,  1.29],\n",
       "       [-0.77, -0.77, -0.77,  1.29],\n",
       "       [-0.77, -0.77,  1.29, -0.77],\n",
       "       [-0.77, -0.77, -0.77, -0.77]])"
      ]
     },
     "execution_count": 1619,
     "metadata": {},
     "output_type": "execute_result"
    }
   ],
   "source": [
    "dataset_norm = preprocessing.scale(dataset)\n",
    "np.round(dataset_norm, decimals=2)"
   ]
  },
  {
   "cell_type": "code",
   "execution_count": 1620,
   "id": "833be321-e40b-4f48-80d4-05a75cb6b5b3",
   "metadata": {},
   "outputs": [
    {
     "data": {
      "text/plain": [
       "array([[1., 1., 0., 0.],\n",
       "       [1., 1., 0., 0.],\n",
       "       [1., 1., 0., 0.],\n",
       "       [0., 0., 1., 1.],\n",
       "       [0., 0., 1., 1.],\n",
       "       [0., 0., 0., 1.],\n",
       "       [0., 0., 1., 0.],\n",
       "       [0., 0., 0., 0.]])"
      ]
     },
     "execution_count": 1620,
     "metadata": {},
     "output_type": "execute_result"
    }
   ],
   "source": [
    "(dataset_norm * dataset.std(axis=0)) + dataset.mean(axis=0)"
   ]
  },
  {
   "cell_type": "code",
   "execution_count": 1621,
   "id": "c6696f0e-7d5f-4829-b07a-bd6faaa2961a",
   "metadata": {},
   "outputs": [
    {
     "data": {
      "text/plain": [
       "array([[ 1.  ,  1.  , -0.6 , -0.6 ],\n",
       "       [ 1.  ,  1.  , -0.6 , -0.6 ],\n",
       "       [-0.6 , -0.6 ,  1.  ,  0.47],\n",
       "       [-0.6 , -0.6 ,  0.47,  1.  ]])"
      ]
     },
     "execution_count": 1621,
     "metadata": {},
     "output_type": "execute_result"
    }
   ],
   "source": [
    "cov1 = (dataset_norm.T @ dataset_norm) / dataset.shape[0]\n",
    "np.round(cov1, decimals=2)"
   ]
  },
  {
   "cell_type": "code",
   "execution_count": 1627,
   "id": "8e530460-157d-4422-bce9-7481b07375ac",
   "metadata": {},
   "outputs": [
    {
     "data": {
      "text/plain": [
       "(array([[-0.6, -0.7, -0.4, -0. ],\n",
       "        [-0.6,  0.7, -0.4, -0. ],\n",
       "        [ 0.4, -0. , -0.6, -0.7],\n",
       "        [ 0.4, -0. , -0.6,  0.7]]),\n",
       " array([ 2.96, -0.  ,  0.5 ,  0.53]))"
      ]
     },
     "execution_count": 1627,
     "metadata": {},
     "output_type": "execute_result"
    }
   ],
   "source": [
    "eig = np.linalg.eig(cov1)\n",
    "evc = eig.eigenvectors\n",
    "eva = eig.eigenvalues\n",
    "np.round(evc, decimals=1), np.round(eva, decimals=2)"
   ]
  },
  {
   "cell_type": "code",
   "execution_count": 1628,
   "id": "e7df5cef-8c9f-4191-8d1d-9c77e7d68eb5",
   "metadata": {},
   "outputs": [
    {
     "data": {
      "text/plain": [
       "array([[0., 0., 0., 0.],\n",
       "       [0., 1., 0., 0.],\n",
       "       [1., 0., 0., 0.],\n",
       "       [1., 0., 0., 1.]])"
      ]
     },
     "execution_count": 1628,
     "metadata": {},
     "output_type": "execute_result"
    }
   ],
   "source": [
    "np.round(((evc).T * dataset.std(axis=0) + dataset.mean(axis=0)).T, decimals=0)"
   ]
  },
  {
   "cell_type": "code",
   "execution_count": null,
   "id": "d4c06065-e04d-431e-8fc9-e960ca0b642d",
   "metadata": {},
   "outputs": [],
   "source": []
  },
  {
   "cell_type": "code",
   "execution_count": null,
   "id": "ad38a6be-828b-4c30-b2bd-0335fe2be491",
   "metadata": {},
   "outputs": [],
   "source": []
  },
  {
   "cell_type": "code",
   "execution_count": null,
   "id": "039cfdf0-5736-482b-a2e2-092493425a9d",
   "metadata": {},
   "outputs": [],
   "source": []
  },
  {
   "cell_type": "code",
   "execution_count": 1240,
   "id": "b024ef5d-ae38-47ac-8088-f96962011584",
   "metadata": {},
   "outputs": [
    {
     "data": {
      "text/plain": [
       "array([ 3.91,  0.09, -0.  ,  0.  ])"
      ]
     },
     "execution_count": 1240,
     "metadata": {},
     "output_type": "execute_result"
    }
   ],
   "source": [
    "np.round(eig.eigenvalues, decimals=2)"
   ]
  },
  {
   "cell_type": "code",
   "execution_count": 1241,
   "id": "aacff0f4-d666-4104-b34f-1fe705ab4f9f",
   "metadata": {},
   "outputs": [
    {
     "data": {
      "text/plain": [
       "array([ 0.,  0., -0.])"
      ]
     },
     "execution_count": 1241,
     "metadata": {},
     "output_type": "execute_result"
    }
   ],
   "source": [
    "np.round([evc[:,0] @ evc[:,1].T, evc[:,0] @ evc[:,2].T, evc[:,0] @ evc[:,3].T], decimals=2)"
   ]
  },
  {
   "cell_type": "code",
   "execution_count": null,
   "id": "0908ede9-dbea-4ef9-9f9d-1ed985607b76",
   "metadata": {},
   "outputs": [],
   "source": []
  },
  {
   "cell_type": "code",
   "execution_count": 1242,
   "id": "04915389-2afc-4069-ad14-d5cbbb755775",
   "metadata": {},
   "outputs": [
    {
     "data": {
      "text/plain": [
       "array([[ 3.91, -0.  ,  0.  , -0.  ],\n",
       "       [-0.  ,  0.09,  0.  , -0.  ],\n",
       "       [ 0.  ,  0.  ,  0.  , -0.  ],\n",
       "       [-0.  , -0.  , -0.  ,  0.  ]])"
      ]
     },
     "execution_count": 1242,
     "metadata": {},
     "output_type": "execute_result"
    }
   ],
   "source": [
    "dataset_norm_rot = (dataset_norm @ evc)\n",
    "cov2 = (dataset_norm_rot.T @ dataset_norm_rot) / dataset.shape[0]\n",
    "np.round(cov2, decimals=2)"
   ]
  },
  {
   "cell_type": "code",
   "execution_count": null,
   "id": "4c4edc70-6b11-4503-86f0-1172d320c39e",
   "metadata": {},
   "outputs": [],
   "source": []
  },
  {
   "cell_type": "code",
   "execution_count": 1243,
   "id": "587a3382-7354-41fc-b9b4-03d0d596431a",
   "metadata": {},
   "outputs": [
    {
     "data": {
      "text/plain": [
       "array([[ 1.,  1., -1., -1.],\n",
       "       [ 1.,  1., -1., -1.],\n",
       "       [ 1.,  1., -1., -1.],\n",
       "       [ 1.,  1., -1., -1.],\n",
       "       [-0., -0.,  0.,  1.],\n",
       "       [-0., -0.,  0.,  1.],\n",
       "       [-0., -0., -0., -0.]])"
      ]
     },
     "execution_count": 1243,
     "metadata": {},
     "output_type": "execute_result"
    }
   ],
   "source": [
    "dataset_norm_mapped = dataset_norm @ evc0\n",
    "dataset_norm_restored = dataset_norm_mapped @ evc.T\n",
    "dataset_norm_restored2 = (dataset_norm_restored * dataset.std(axis=0)) + dataset.mean(axis=0)\n",
    "np.round(dataset_norm_restored2, decimals=0)"
   ]
  },
  {
   "cell_type": "code",
   "execution_count": 1244,
   "id": "5d14072b-5bb2-4e38-bef5-1bfa692d081d",
   "metadata": {},
   "outputs": [
    {
     "data": {
      "text/plain": [
       "array([[-0.,  0., -0., -0.],\n",
       "       [-0.,  0., -0., -0.],\n",
       "       [ 1.,  0., -0., -0.],\n",
       "       [ 1.,  0., -0., -0.]])"
      ]
     },
     "execution_count": 1244,
     "metadata": {},
     "output_type": "execute_result"
    }
   ],
   "source": [
    "evc0 = evc.copy()\n",
    "\n",
    "for i in range(1, evc0.shape[1]):\n",
    "    evc0[:,i] = 0\n",
    "    \n",
    "evc0 = evc0 * dataset.std(axis=0)\n",
    "evc0 += dataset.mean(axis=0)\n",
    "np.round(evc0, decimals=0)"
   ]
  },
  {
   "cell_type": "code",
   "execution_count": 1245,
   "id": "416f0255-a4e4-460d-8ab1-90bc06651b6f",
   "metadata": {},
   "outputs": [
    {
     "data": {
      "text/plain": [
       "array([ 0.14285714,  0.14285714, -0.28571429, -0.14285714])"
      ]
     },
     "execution_count": 1245,
     "metadata": {},
     "output_type": "execute_result"
    }
   ],
   "source": [
    "dataset.mean(axis=0)"
   ]
  },
  {
   "cell_type": "code",
   "execution_count": 1246,
   "id": "2d3c23eb-4391-4756-b691-d5dd963a9e3e",
   "metadata": {},
   "outputs": [
    {
     "data": {
      "text/plain": [
       "array([[ 1,  1, -1, -1],\n",
       "       [ 1,  1, -1, -1],\n",
       "       [ 1,  1, -1, -1],\n",
       "       [ 1,  1, -1, -1],\n",
       "       [-1, -1,  1,  1],\n",
       "       [-1, -1,  1,  1],\n",
       "       [-1, -1,  0,  1]])"
      ]
     },
     "execution_count": 1246,
     "metadata": {},
     "output_type": "execute_result"
    }
   ],
   "source": [
    "dataset"
   ]
  },
  {
   "cell_type": "code",
   "execution_count": null,
   "id": "15cae61b-7ce5-41f3-b436-285dd92c9f4b",
   "metadata": {},
   "outputs": [],
   "source": [
    "C = cov_mat(Y.T)\n",
    "eVe, eVa = np.linalg.eig(C)\n",
    "\n",
    "plt.scatter(Y[:, 0], Y[:, 1])\n",
    "\n",
    "for e, v in zip(eVe, eVa.T):\n",
    "    plt.plot([0, 3*np.sqrt(e)*v[0]], [0, 3*np.sqrt(e)*v[1]], 'k-', lw=2)\n",
    "\n",
    "plt.title('Transformed Data')\n",
    "plt.axis('equal');"
   ]
  },
  {
   "cell_type": "code",
   "execution_count": null,
   "id": "6f7bf43c-4fa0-4f62-b69c-dfb67e3ffdc2",
   "metadata": {},
   "outputs": [],
   "source": []
  },
  {
   "cell_type": "code",
   "execution_count": null,
   "id": "d27fcf66-78b5-4aa0-94b2-8f88c3eda2dd",
   "metadata": {},
   "outputs": [],
   "source": []
  },
  {
   "cell_type": "code",
   "execution_count": null,
   "id": "0cd80292-c392-4bdc-aa87-38e158761fd2",
   "metadata": {},
   "outputs": [],
   "source": []
  },
  {
   "cell_type": "code",
   "execution_count": 1490,
   "id": "a7b24529-8932-4497-a934-780b99434e97",
   "metadata": {},
   "outputs": [
    {
     "data": {
      "image/png": "[encoded data removed]",
      "text/plain": [
       "<Figure size 1200x800 with 1 Axes>"
      ]
     },
     "metadata": {},
     "output_type": "display_data"
    }
   ],
   "source": [
    "plt.style.use('ggplot')\n",
    "plt.rcParams['figure.figsize'] = (12, 8)\n",
    "\n",
    "# Normal distributed x and y vector with mean 0 and standard deviation 1\n",
    "x = np.clip(np.random.normal(0, 1, 500), -1, 1)\n",
    "#y = np.random.normal(0, 1, 500)\n",
    "y = np.sqrt(1 - np.pow(x, 2))\n",
    "X = np.vstack((x, y)).T\n",
    "\n",
    "plt.scatter(X[:, 0], X[:, 1])\n",
    "plt.title('Generated Data')\n",
    "plt.axis('equal');"
   ]
  },
  {
   "cell_type": "code",
   "execution_count": 1491,
   "id": "33a09905-5ffa-4a4f-ac70-a6763249d788",
   "metadata": {},
   "outputs": [
    {
     "data": {
      "text/plain": [
       "array([[ 0.49, -0.  ],\n",
       "       [-0.  ,  0.17]])"
      ]
     },
     "execution_count": 1491,
     "metadata": {},
     "output_type": "execute_result"
    }
   ],
   "source": [
    "# Covariance\n",
    "def cov(x, y):\n",
    "    xbar, ybar = x.mean(), y.mean()\n",
    "    return np.sum((x - xbar)*(y - ybar))/(len(x) - 1)\n",
    "\n",
    "# Covariance matrix\n",
    "def cov_mat(X):\n",
    "    return np.array([[cov(X[0], X[0]), cov(X[0], X[1])], \\\n",
    "                     [cov(X[1], X[0]), cov(X[1], X[1])]])\n",
    "\n",
    "# Calculate covariance matrix \n",
    "np.round(cov_mat(X.T), decimals=2)"
   ]
  },
  {
   "cell_type": "code",
   "execution_count": 1504,
   "id": "a55007d8-0a2d-42f1-b1b3-0ecbedab0de3",
   "metadata": {},
   "outputs": [
    {
     "data": {
      "text/plain": [
       "array([[ 1.1 , -0.  ],\n",
       "       [-0.  ,  0.17]])"
      ]
     },
     "execution_count": 1504,
     "metadata": {},
     "output_type": "execute_result"
    },
    {
     "data": {
      "image/png": "[encoded data removed]",
      "text/plain": [
       "<Figure size 1200x800 with 1 Axes>"
      ]
     },
     "metadata": {},
     "output_type": "display_data"
    }
   ],
   "source": [
    "# Center the matrix at the origin\n",
    "X = X - np.mean(X, 0)\n",
    "\n",
    "# Scaling matrix\n",
    "sx, sy = 1.5, 1\n",
    "Scale = np.array([[sx, 0], [0, sy]])\n",
    "\n",
    "# Apply scaling matrix to X\n",
    "#Y = X.dot(Scale)\n",
    "Y = (Scale @ X.T).T\n",
    "\n",
    "plt.scatter(Y[:, 0], Y[:, 1])\n",
    "plt.title('Transformed Data')\n",
    "plt.axis('equal')\n",
    "\n",
    "# Calculate covariance matrix\n",
    "np.round(cov_mat(Y.T), decimals=2)"
   ]
  },
  {
   "cell_type": "code",
   "execution_count": 1495,
   "id": "82ff3896-7fef-48c6-91de-9c1f2b1bbbdc",
   "metadata": {},
   "outputs": [
    {
     "data": {
      "text/plain": [
       "array([[[ 0.87, -0.25],\n",
       "        [ 0.5 ,  0.43]],\n",
       "\n",
       "       [[ 0.87, -0.5 ],\n",
       "        [ 0.5 ,  0.87]],\n",
       "\n",
       "       [[ 0.38,  0.19],\n",
       "        [ 0.19,  0.15]]])"
      ]
     },
     "execution_count": 1495,
     "metadata": {},
     "output_type": "execute_result"
    },
    {
     "data": {
      "image/png": "[encoded data removed]",
      "text/plain": [
       "<Figure size 1200x800 with 1 Axes>"
      ]
     },
     "metadata": {},
     "output_type": "display_data"
    }
   ],
   "source": [
    "# Scaling matrix\n",
    "sx, sy = 1, 0.5\n",
    "Scale = np.array([[sx, 0], [0, sy]])\n",
    "\n",
    "# Rotation matrix\n",
    "theta = 1/6 * np.pi\n",
    "c, s = np.cos(theta), np.sin(theta)\n",
    "Rot = np.array([[c, -s], [s, c]])\n",
    "\n",
    "# Transformation matrix\n",
    "#T = Scale.dot(Rot)\n",
    "T = Rot @ Scale\n",
    "#T = Rot\n",
    "\n",
    "# Apply transformation matrix to X\n",
    "#Y = X.dot(T)\n",
    "#Y = X @ T\n",
    "#Y = (X @ T.T)\n",
    "Y = (T @ X.T).T # the same as (X @ T.T)\n",
    "\n",
    "# plt.scatter(X[:, 0], X[:, 1], c='b')\n",
    "\n",
    "plt.scatter(Y[:, 0], Y[:, 1])\n",
    "plt.title(f'Transformed Data {sx, sy, theta/np.pi}')\n",
    "plt.axis('equal')\n",
    "\n",
    "# plt.plot([0, Rot[:,0][0]], [0, Rot[:,0][1]], 'k-', lw=2)\n",
    "# plt.plot([0, Rot[:,1][0]], [0, Rot[:,1][1]], 'k-', lw=2)\n",
    "\n",
    "plt.plot([0, T[:,0][0]], [0, T[:,0][1]], 'k-', lw=2)\n",
    "plt.plot([0, T[:,1][0]], [0, T[:,1][1]], 'k-', lw=2)\n",
    "\n",
    "# plt.plot([0, 0.81], [0, 0.59], 'k-', lw=2)\n",
    "# plt.plot([0, -0.12], [0, 0.16], 'k-', lw=2)\n",
    "\n",
    "# Calculate covariance matrix\n",
    "np.round([T, Rot, cov_mat(Y.T)], decimals=2)"
   ]
  },
  {
   "cell_type": "code",
   "execution_count": 1496,
   "id": "6a427491-b68e-47f3-ba77-3590ec6ac4d2",
   "metadata": {},
   "outputs": [
    {
     "data": {
      "text/plain": [
       "<Figure size 1200x800 with 0 Axes>"
      ]
     },
     "metadata": {},
     "output_type": "display_data"
    }
   ],
   "source": [
    "import io\n",
    "from IPython.display import HTML\n",
    "\n",
    "animation = []\n",
    "\n",
    "for angle in range(0, 210, 5):\n",
    "    # Scaling matrix\n",
    "    sx, sy = 0.7, 3.4\n",
    "    Scale = np.array([[sx, 0], [0, sy]])\n",
    "    \n",
    "    # Rotation matrix\n",
    "    theta = (angle / 100) * np.pi\n",
    "    c, s = np.cos(theta), np.sin(theta)\n",
    "    Rot = np.array([[c, -s], [s, c]])\n",
    "    \n",
    "    # Transformation matrix\n",
    "    T = Rot @ Scale\n",
    "    \n",
    "    # Apply transformation matrix to X\n",
    "    Y = (T @ X.T).T # the same as (X @ T.T)\n",
    "\n",
    "    plt.clf()\n",
    "    #plt.scatter(X[:, 0], X[:, 1], c='b')\n",
    "    \n",
    "    plt.scatter(Y[:, 0], Y[:, 1])\n",
    "    plt.title(f'Transformed Data {sx, sy, theta/np.pi}')\n",
    "    plt.axis('equal')\n",
    "\n",
    "    plt.plot([0, Rot[:,0][0]], [0, Rot[:,0][1]], 'b', lw=2)\n",
    "    plt.plot([0, Rot[:,1][0]], [0, Rot[:,1][1]], 'b', lw=2)\n",
    "\n",
    "    \n",
    "    plt.plot([0, T[:,0][0]], [0, T[:,0][1]], 'k-', lw=2)\n",
    "    plt.plot([0, T[:,1][0]], [0, T[:,1][1]], 'k-', lw=2)\n",
    "\n",
    "    inmemoryfile = io.BytesIO()\n",
    "    plt.savefig(inmemoryfile)\n",
    "\n",
    "    img = Image.open(inmemoryfile)\n",
    "    animation.append(img)\n",
    "\n",
    "plt.clf()\n",
    "animation[0].save(\"animation.gif\", save_all=True, append_images=animation[1:], duration=500)"
   ]
  },
  {
   "cell_type": "code",
   "execution_count": 1497,
   "id": "307e9f29-9230-413e-a520-4126ac29bde3",
   "metadata": {},
   "outputs": [
    {
     "data": {
      "text/html": [
       "<img src=\"animation.gif\">"
      ],
      "text/plain": [
       "<IPython.core.display.HTML object>"
      ]
     },
     "execution_count": 1497,
     "metadata": {},
     "output_type": "execute_result"
    }
   ],
   "source": [
    "HTML('<img src=\"animation.gif\">')"
   ]
  },
  {
   "cell_type": "code",
   "execution_count": 1505,
   "id": "b7bb2f2c-0890-4b68-86bc-d60c256e7b6c",
   "metadata": {},
   "outputs": [
    {
     "data": {
      "image/png": "[encoded data removed]",
      "text/plain": [
       "<Figure size 1200x800 with 1 Axes>"
      ]
     },
     "metadata": {},
     "output_type": "display_data"
    }
   ],
   "source": [
    "C = cov_mat(Y.T)\n",
    "eVe, eVa = np.linalg.eig(C)\n",
    "\n",
    "plt.scatter(Y[:, 0], Y[:, 1])\n",
    "\n",
    "for e, v in zip(eVe, eVa.T):\n",
    "    plt.plot([0, 3*np.sqrt(e)*v[0]], [0, 3*np.sqrt(e)*v[1]], 'k-', lw=2)\n",
    "    \n",
    "plt.title('Transformed Data')\n",
    "plt.axis('equal');\n"
   ]
  }
 ],
 "metadata": {
  "kernelspec": {
   "display_name": "Python 3 (ipykernel)",
   "language": "python",
   "name": "python3"
  },
  "language_info": {
   "codemirror_mode": {
    "name": "ipython",
    "version": 3
   },
   "file_extension": ".py",
   "mimetype": "text/x-python",
   "name": "python",
   "nbconvert_exporter": "python",
   "pygments_lexer": "ipython3",
   "version": "3.12.2"
  }
 },
 "nbformat": 4,
 "nbformat_minor": 5
}
