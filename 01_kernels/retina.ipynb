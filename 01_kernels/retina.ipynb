{
 "cells": [
  {
   "cell_type": "code",
   "execution_count": 1,
   "id": "c4fe85d2-bb20-4055-9572-5bbcd3fb091f",
   "metadata": {},
   "outputs": [],
   "source": [
    "import os\n",
    "import matplotlib.pyplot as plt\n",
    "from tqdm.notebook import tqdm\n",
    "import scipy\n",
    "import numpy as np\n",
    "import cupy as cp\n",
    "import math\n",
    "import json\n",
    "from PIL import Image, ImageDraw\n",
    "from scipy.special import factorial\n",
    "\n",
    "%run utils.ipynb"
   ]
  },
  {
   "cell_type": "code",
   "execution_count": 2,
   "id": "e21439ab-88f0-4ed3-abeb-ca1041542d34",
   "metadata": {},
   "outputs": [],
   "source": [
    "variant = 'RETINA'\n",
    "config = Config(variant)"
   ]
  },
  {
   "cell_type": "code",
   "execution_count": 3,
   "id": "115fbd20-38ff-444d-a204-ac01dff57362",
   "metadata": {},
   "outputs": [
    {
     "data": {
      "application/vnd.jupyter.widget-view+json": {
       "model_id": "70935f33248c42358038efac0cdbb406",
       "version_major": 2,
       "version_minor": 0
      },
      "text/plain": [
       "  0%|          | 0/5002 [00:00<?, ?it/s]"
      ]
     },
     "metadata": {},
     "output_type": "display_data"
    },
    {
     "name": "stdout",
     "output_type": "stream",
     "text": [
      "Loaded 5000 images\n",
      "CPU times: user 646 ms, sys: 62 ms, total: 708 ms\n",
      "Wall time: 706 ms\n"
     ]
    }
   ],
   "source": [
    "%%time\n",
    "IMAGE_SIZE = -1\n",
    "IMAGES = []\n",
    "IMAGES_METADATA = []\n",
    "\n",
    "with open(os.path.join(config.dataset_path, config.dataset_metadata_file_name)) as f:\n",
    "    metadata = json.load(f)\n",
    "\n",
    "for image_fname in tqdm(os.listdir(config.dataset_path)):\n",
    "    image_fname = os.path.join(config.dataset_path, image_fname)\n",
    "\n",
    "    if not image_fname.endswith('.png'):\n",
    "        continue\n",
    "\n",
    "    # Following fuss with \"with\" is required to prevent \"Too many open files\" problem\n",
    "    with Image.open(image_fname) as image:\n",
    "        image.load()\n",
    "        assert image.width == image.height\n",
    "        assert image.width == IMAGE_SIZE or IMAGE_SIZE == -1\n",
    "        IMAGE_SIZE = image.width\n",
    "        assert image.mode == 'L'\n",
    "        image_index = len(IMAGES)\n",
    "        IMAGES.append(np.array(image).ravel())\n",
    "        metadata_record = metadata[os.path.basename(image_fname)]\n",
    "        metadata_record = np.rec.array([(image_fname, metadata_record.get('value', '?'))], dtype=[('file_name', 'object'), ('value', 'object')])\n",
    "        IMAGES_METADATA.append(metadata_record)\n",
    "        \n",
    "    assert image.fp is None\n",
    "\n",
    "assert len(IMAGES) == len(IMAGES_METADATA)\n",
    "IMAGES = np.array(IMAGES)\n",
    "IMAGES_METADATA = np.rec.array(np.concatenate(IMAGES_METADATA))\n",
    "print(f'Loaded {len(IMAGES)} images')"
   ]
  },
  {
   "cell_type": "code",
   "execution_count": 4,
   "id": "383793ea-d1e2-4c79-a264-6d43f01c34b1",
   "metadata": {},
   "outputs": [],
   "source": [
    "device_marker = np.empty(1)\n",
    "xp = cp.get_array_module(device_marker)"
   ]
  },
  {
   "cell_type": "code",
   "execution_count": 5,
   "id": "3083067c-b9e8-429e-a2ba-3de0e94da8b6",
   "metadata": {},
   "outputs": [],
   "source": [
    "SENSOR_RECEPTIVE_FIELD_SIZE = 8\n",
    "SENSOR_GROUP_SIZE = 4\n",
    "RETINA_SIZE = 16\n",
    "\n",
    "# single sensor occupies (RETINA_SIZE * SENSOR_RECEPTIVE_FIELD_SIZE) ^ 2\n",
    "# we have group of such sensors stacked under each other in a square fashion, hence SENSOR_GROUP_SIZE^2\n",
    "# to cover all visual area we have RETINA_SIZE^2 of such groups\n",
    "RETINA = xp.zeros((RETINA_SIZE, RETINA_SIZE, pow(SENSOR_GROUP_SIZE, 2), pow(RETINA_SIZE * SENSOR_RECEPTIVE_FIELD_SIZE, 2)))"
   ]
  },
  {
   "cell_type": "code",
   "execution_count": null,
   "id": "110480d5-8868-4795-b7c4-3acc908e921a",
   "metadata": {},
   "outputs": [],
   "source": []
  },
  {
   "cell_type": "code",
   "execution_count": 6,
   "id": "baa40b7a-5dd3-413c-a1ee-6ea67a7cd4e2",
   "metadata": {},
   "outputs": [
    {
     "data": {
      "text/html": [
       "\n",
       "        <div style=\"display: flex; flex-flow: row wrap; text-align: center;\">\n",
       "        \n",
       "            <figure style=\"margin: 5px !important;\">\n",
       "              <img src=\"data:image/png;base64,iVBORw0KGgoAAAANSUhEUgAAAGQAAABkCAAAAABVicqIAAAAbElEQVR4nO3NoQ0CQRAAwHs8IfkOsI9Cf8B+A7RIC9RADQhAo06RCyG3VLGomQZmKMuxP8+tZFoth893e1rnJnPrvU1jalJarbW+59zkGhHx2OUmm0vEfZ97DGWcyuuWmwAAAAAAAAAAAPzNDz+rHO9DdQsvAAAAAElFTkSuQmCC\" style=\"height: auto\">\n",
       "              \n",
       "            </figure>\n",
       "        \n",
       "            <figure style=\"margin: 5px !important;\">\n",
       "              <img src=\"data:image/png;base64,iVBORw0KGgoAAAANSUhEUgAAAGQAAABkCAAAAABVicqIAAAAd0lEQVR4nO3NoRGDQBBA0b2biwHBDDWgbmLSAJZ66IYGKABDCdAAIoPIBYvAxESxVLGo/xp4Tpr6/PZ/seTazPvHe/iZJrrMKWTdZpkEeVZHnwfLQ2RSVU3RNilG1c/L9nBSRtlX2wQAAAAAAAAAAAAAAAAAbnMBqiMZmM0EGqoAAAAASUVORK5CYII=\" style=\"height: auto\">\n",
       "              \n",
       "            </figure>\n",
       "        \n",
       "            <figure style=\"margin: 5px !important;\">\n",
       "              <img src=\"data:image/png;base64,iVBORw0KGgoAAAANSUhEUgAAAGQAAABkCAAAAABVicqIAAAAeUlEQVR4nO3NsQ2CUBSG0f89Gkg0JBYUlJQ4gIPoCLCPjYmljSuwAjtQvYrCAfQVJJcprtV3FjghXs9Femd5ivdHmbvb0TUJpvX1OzyTZxKldqg28zwUZ6kZ7euaqJ7M0sX3CDr1+iy+CQAAAAAAAAAAAAAAAAD8zQ7+OBZFhXMVTgAAAABJRU5ErkJggg==\" style=\"height: auto\">\n",
       "              \n",
       "            </figure>\n",
       "        \n",
       "            <figure style=\"margin: 5px !important;\">\n",
       "              <img src=\"data:image/png;base64,iVBORw0KGgoAAAANSUhEUgAAAGQAAABkCAAAAABVicqIAAAAcElEQVR4nO3NsQ1BYRQG0O8pFEIkNBoRrajMorODxCISQ7wVrKBR2kGhUYnuN8VVnbPA6XJZ3Z/9N5UG5+NyuN5PapNTduPvdl6bJBl1rdUmt+SQ16c0yfTaWr+oPbrMNnk/ahMAAAAAAAAAAIC/+QGishIeTn9llQAAAABJRU5ErkJggg==\" style=\"height: auto\">\n",
       "              \n",
       "            </figure>\n",
       "        \n",
       "            <figure style=\"margin: 5px !important;\">\n",
       "              <img src=\"data:image/png;base64,iVBORw0KGgoAAAANSUhEUgAAAGQAAABkCAAAAABVicqIAAAAbElEQVR4nO3NsQ0BcRgH0B+JhELDBFqxiN4CRrhY43KFIaxgBKMoLjmdhuRvik/13gIv6dv1vEyp+XDJd3da1yZdks9hW5skSVqrTR5JFuO7Njnes5puY2kyy2b/fE2lBwAAAAAAAAAAwP/8AF8kEe8DETRPAAAAAElFTkSuQmCC\" style=\"height: auto\">\n",
       "              \n",
       "            </figure>\n",
       "        \n",
       "            <figure style=\"margin: 5px !important;\">\n",
       "              <img src=\"data:image/png;base64,iVBORw0KGgoAAAANSUhEUgAAAGQAAABkCAAAAABVicqIAAAAb0lEQVR4nO3NsQ1BYRQG0I9EohGFyg5GsoQR9GIMBQMYQWEEvUgkihcRiSe/Ka7qnAVOsmn9fpxa29be6+Wk9BiukmO/mNUmSS5prTY55fod3V+lyWB6+Jy73a02yWzePR+lBwAAAAAAAAAAwP/8AAZOGXytETOSAAAAAElFTkSuQmCC\" style=\"height: auto\">\n",
       "              \n",
       "            </figure>\n",
       "        \n",
       "            <figure style=\"margin: 5px !important;\">\n",
       "              <img src=\"data:image/png;base64,iVBORw0KGgoAAAANSUhEUgAAAGQAAABkCAAAAABVicqIAAAAbklEQVR4nO3NsQnCUBQAwKf8VGKVSnBEGxdwAnGEYCFuYuMSgpUo2AgpYvGc4lndLXAR+8zLKmodMnPcLUuP+TZiOrW+NomYhluXtcn1e7wvXmNpMus3rXueH7VJtHV+3qUHAAAAAAAAAADA//wAiv4ZUVIzbF4AAAAASUVORK5CYII=\" style=\"height: auto\">\n",
       "              \n",
       "            </figure>\n",
       "        \n",
       "            <figure style=\"margin: 5px !important;\">\n",
       "              <img src=\"data:image/png;base64,iVBORw0KGgoAAAANSUhEUgAAAGQAAABkCAAAAABVicqIAAAAbElEQVR4nO3NsQnCUBQAwCfaBDsbC0fIRs4kjiGY3i6pHELcQBAC8guxkOcUz+pugYs4ZF43UeuYmTnuapPM/JwvfemxijbdX12rTYbbN9bzuzRZLPd9Pk+P2iS6bba59AAAAAAAAAAAAPifH7BUHi750CvJAAAAAElFTkSuQmCC\" style=\"height: auto\">\n",
       "              \n",
       "            </figure>\n",
       "        \n",
       "            <figure style=\"margin: 5px !important;\">\n",
       "              <img src=\"data:image/png;base64,iVBORw0KGgoAAAANSUhEUgAAAGQAAABkCAAAAABVicqIAAAAaklEQVR4nO3NsQ1BARQF0PcTkq/VSHRqS1jCVqKxgw1MYAA70EgkCjqRXFM81TkLnKpdcp5Xr32SnJa9SZIkm9ZjcvhW1XjrTS6rzzC9vlqTYdyu8zjee5OaLfJ+th4AAAAAAAAAAAD/8wOiHxw7vovFkQAAAABJRU5ErkJggg==\" style=\"height: auto\">\n",
       "              \n",
       "            </figure>\n",
       "        \n",
       "            <figure style=\"margin: 5px !important;\">\n",
       "              <img src=\"data:image/png;base64,iVBORw0KGgoAAAANSUhEUgAAAGQAAABkCAAAAABVicqIAAAAcUlEQVR4nO3NsQ0BARQA0E+uIKLRSKiukEhsoteYScsAdtBqtAqxhIIguQG+Kb7qvQVexC7zMola+8zM06z06M9vEbFelCbN9X7ejsalRzSP9nOI5bc06Q02q3weX7VJDKfZvUsPAAAAAAAAAACA//kBiNoXmcf+7ZIAAAAASUVORK5CYII=\" style=\"height: auto\">\n",
       "              \n",
       "            </figure>\n",
       "        \n",
       "            <figure style=\"margin: 5px !important;\">\n",
       "              <img src=\"data:image/png;base64,iVBORw0KGgoAAAANSUhEUgAAAGQAAABkCAAAAABVicqIAAAAbUlEQVR4nO3NsQ0BARQA0O+qc6VGotexyNXspdcwgsIEWkNcJSISRKJRfFN81XsLvGg3madJ1FpdM/M4Kz2a5e4S0c9rk+a9v0VkbTJ0n+1juJcmo3a9+ObhXJvEeJqvZ+kBAAAAAAAAAADwPz9O1RpTADX9MgAAAABJRU5ErkJggg==\" style=\"height: auto\">\n",
       "              \n",
       "            </figure>\n",
       "        \n",
       "            <figure style=\"margin: 5px !important;\">\n",
       "              <img src=\"data:image/png;base64,iVBORw0KGgoAAAANSUhEUgAAAGQAAABkCAAAAABVicqIAAAAb0lEQVR4nO3NsREBURQAwMeYPwglZuQaIRNfRSq55HSgAhVIDAJzcpFAILiviifabWAj9rWeFpFr275rPa5Sj/HmdvjEbp2bDOX5jai5SV8mJR6v3KS7zs99c0lNRjFbDtN76gEAAAAAAAAAAPA/PyyAGCFRIRmrAAAAAElFTkSuQmCC\" style=\"height: auto\">\n",
       "              \n",
       "            </figure>\n",
       "        \n",
       "            <figure style=\"margin: 5px !important;\">\n",
       "              <img src=\"data:image/png;base64,iVBORw0KGgoAAAANSUhEUgAAAGQAAABkCAAAAABVicqIAAAAa0lEQVR4nO3NsQ1BYRQG0I9CaBUK0RpAK6F9iR1MI7GIWSyhQM8ALyTvN8VVnbPASbpTf52n1LjbffrtZVmb7L9JDuvaZEiStNrkOUnL/V2aZHo8t8em9hhltli9brUJAAAAAAAAAADA3/wACfYSXqj+9bcAAAAASUVORK5CYII=\" style=\"height: auto\">\n",
       "              \n",
       "            </figure>\n",
       "        \n",
       "            <figure style=\"margin: 5px !important;\">\n",
       "              <img src=\"data:image/png;base64,iVBORw0KGgoAAAANSUhEUgAAAGQAAABkCAAAAABVicqIAAAAbklEQVR4nO3NuwnCUBQA0PvEwspKLIJt7K39tIEIjuBe1m4lmAFEHECJzymu1TkLnBLdrl2dXpFp0u3fx+21yU0OnzpG3+Ym33FWImpucl+c5zE8U5OYXmodNrlHieU6HrfcBAAAAAAAAAAA4G9+5r8URPKy3KAAAAAASUVORK5CYII=\" style=\"height: auto\">\n",
       "              \n",
       "            </figure>\n",
       "        \n",
       "            <figure style=\"margin: 5px !important;\">\n",
       "              <img src=\"data:image/png;base64,iVBORw0KGgoAAAANSUhEUgAAAGQAAABkCAAAAABVicqIAAAAd0lEQVR4nO3NsQ2CQBiG4Y+LE1BY2JNcqLgBpGUAaJzCrWzcgFEorjwSAwMQgXOK3+p9FngKde0+v1dZct19+z5fN9Pk0m7H4H2VLBO3n30jZctDLj2CFBfTRNcx5xhsj0Jlrc9kmwAAAAAAAAAAAAAAAADA3/wACn4YKsNsZBMAAAAASUVORK5CYII=\" style=\"height: auto\">\n",
       "              \n",
       "            </figure>\n",
       "        \n",
       "            <figure style=\"margin: 5px !important;\">\n",
       "              <img src=\"data:image/png;base64,iVBORw0KGgoAAAANSUhEUgAAAGQAAABkCAAAAABVicqIAAAAcklEQVR4nO3QvQ2BYRSA0fsmComC2EHzdaKSoP1qI4odrMAMEiLR2cBPXFNc1TkLPMnTot98b7tPVGr9+v1qsb9XRgar53c7nJ1qI6PFchJRuyuOmZmXrjYyPmRe57WNFtMuHufaCAAAAAAAAAAAwN/8AKkfGYeIs2zMAAAAAElFTkSuQmCC\" style=\"height: auto\">\n",
       "              \n",
       "            </figure>\n",
       "        \n",
       "        </div>\n",
       "    "
      ],
      "text/plain": [
       "<IPython.core.display.HTML object>"
      ]
     },
     "execution_count": 6,
     "metadata": {},
     "output_type": "execute_result"
    }
   ],
   "source": [
    "group_sensors_img = []\n",
    "steps = pow(SENSOR_GROUP_SIZE, 2)\n",
    "sz = RETINA_SIZE * SENSOR_RECEPTIVE_FIELD_SIZE\n",
    "\n",
    "for i in range(steps):\n",
    "    canvas = Image.new('L', (sz, sz))\n",
    "    draw = ImageDraw.Draw(canvas)\n",
    "    draw.ellipse([0, 0, SENSOR_RECEPTIVE_FIELD_SIZE - 1, SENSOR_RECEPTIVE_FIELD_SIZE - 1], outline=0, fill=127, width=0)\n",
    "    angle = i * 360 / steps\n",
    "    draw.chord([0, 0, SENSOR_RECEPTIVE_FIELD_SIZE - 1, SENSOR_RECEPTIVE_FIELD_SIZE - 1], angle, angle + 180, outline=255, fill=255)\n",
    "    group_sensors_img.append(canvas)\n",
    "\n",
    "display_images(list(map(lambda x: x.resize((100, 100)), group_sensors_img)))\n",
    "\n",
    "# canvas = Image.new('L', (100, 100))\n",
    "# draw = ImageDraw.Draw(canvas)\n",
    "# draw.chord([0, 0, 100 - 1, 100 - 1], 0, 0 + 180, outline=255, fill=255)\n",
    "\n",
    "# for i in range(steps):\n",
    "#     angle = -i * 360 / steps\n",
    "#     canvas2 = canvas.rotate(angle, resample=Image.Resampling.BICUBIC)\n",
    "#     group_sensors_img.append(canvas2.resize((8, 8)))\n",
    "\n",
    "#display_images(group_sensors_img)"
   ]
  },
  {
   "cell_type": "code",
   "execution_count": 7,
   "id": "be3b9873-9700-43c8-8706-656ef252a942",
   "metadata": {},
   "outputs": [
    {
     "data": {
      "text/plain": [
       "((16, 128, 128),\n",
       " UniqueCountsResult(values=array([-1.36363636, -1.26086957, -1.16666667, -1.08      , -1.        ,\n",
       "         0.        ,  1.        ]), counts=array([    44,    138,     48,     50,    104, 261312,    448])))"
      ]
     },
     "execution_count": 7,
     "metadata": {},
     "output_type": "execute_result"
    }
   ],
   "source": [
    "group_sensors = xp.array(list(map(xp.array, group_sensors_img))).astype(float)\n",
    "shape_save = group_sensors.shape\n",
    "group_sensors = group_sensors.reshape(SENSOR_GROUP_SIZE*SENSOR_GROUP_SIZE, -1)\n",
    "# Due to rough granularity count of positive pixels and negative may be not eqaul => equalize via weight\n",
    "group_sensors[group_sensors==255] = 1\n",
    "counts_of_positives = (group_sensors == 1).sum(axis=1)\n",
    "counts_of_negatives = (group_sensors == 127).sum(axis=1)\n",
    "white_image = xp.ones(group_sensors.shape[1])\n",
    "\n",
    "for i, (p, n) in enumerate(zip(counts_of_positives, counts_of_negatives)):\n",
    "    assert p > 0, (i, p)\n",
    "    assert n > 0, (i, n)\n",
    "    group_sensors[i][group_sensors[i] == 127] = -1 * (p / n)\n",
    "    v = group_sensors[i] @ white_image\n",
    "    assert xp.isclose(v, 0), v\n",
    "\n",
    "group_sensors = group_sensors.reshape(shape_save)\n",
    "group_sensors.shape, np.unique_counts(group_sensors)"
   ]
  },
  {
   "cell_type": "code",
   "execution_count": 8,
   "id": "bf6aa296-de3b-4b90-86ce-186b23c81491",
   "metadata": {},
   "outputs": [
    {
     "data": {
      "text/plain": [
       "(array([-1.,  0.,  1.]),\n",
       " array([26, 25, 23, 24, 26, 24, 23, 25, 26, 23, 23, 22, 26, 22, 23, 23]))"
      ]
     },
     "execution_count": 8,
     "metadata": {},
     "output_type": "execute_result"
    }
   ],
   "source": [
    "np.unique(group_sensors[0]), counts_of_negatives"
   ]
  },
  {
   "cell_type": "code",
   "execution_count": 9,
   "id": "8a143610-9874-459d-a83a-eed4cfe2d5e4",
   "metadata": {},
   "outputs": [
    {
     "data": {
      "text/plain": [
       "(np.int64(29), np.int64(23), np.float64(1.2608695652173914))"
      ]
     },
     "execution_count": 9,
     "metadata": {},
     "output_type": "execute_result"
    }
   ],
   "source": [
    "p, n, p/n"
   ]
  },
  {
   "cell_type": "code",
   "execution_count": 10,
   "id": "b78cca41-6f73-449e-97ae-fa8e7d07237b",
   "metadata": {},
   "outputs": [
    {
     "data": {
      "text/html": [
       "\n",
       "        <div style=\"display: flex; flex-flow: row wrap; text-align: center;\">\n",
       "        \n",
       "            <figure style=\"margin: 5px !important;\">\n",
       "              <img src=\"data:image/png;base64,iVBORw0KGgoAAAANSUhEUgAAAGQAAABkCAAAAABVicqIAAABsElEQVR4nO3WMUtbURjG8f+5VRsCReLgWFBCESGQqVM/RBBNpn6GOwj9DN6LRT9Ep06d7p0U4RSETJ0cOhgdU0hBRG8a0zydunQrnBPw8v6HszzDu5zhB9Z/5MZTYHX1EUga0wXQfHoCGgQchpJ0W0rSrJxJUnkrSZeXwYYh64V03SWTtM++pIzutVQ0m8GGdcfGLj++wztmQ3i7xld4s8nVz5BDbXKfFkDifgMuWQh4oQWQEG5wAmC29u8rXKgBdkbSw4ALSRmZpAsGD9JoayvYsOPo9rj6zKtDHnP40OTjPf1dvnwLOdQm934ZR7SEI8lgDmSdCXDeOQcmnQyY93rBhgH0vc+h7X3hcIX3bci97wcdapN7vYwjS/ldpwBlCnCT3gCkJUCeBxtO4aiqzlrsVdV4m+1xVe3ROquqo5CDgwbzOTTQL3jpmMLKClOCDnXJcGe4i5fhznAXL8Od4S5ehjvD3TPPcGe4i5fhznAXL8Od4S5ehjvD3TPPcGe4i5fhznAXL8Od4S5eNcLdCUCRChilI0BpAX+pFmQ4gWPJtziQ7tq076QDWl46Djn8AcfBC7Jmki2eAAAAAElFTkSuQmCC\" style=\"height: auto\">\n",
       "              \n",
       "            </figure>\n",
       "        \n",
       "            <figure style=\"margin: 5px !important;\">\n",
       "              <img src=\"data:image/png;base64,iVBORw0KGgoAAAANSUhEUgAAAGQAAABkCAAAAABVicqIAAACUUlEQVR4nO3Wv0vUcRzH8edXj9SLsAvvggoHuSIk6CCRhqZoq0BEL4wEiZbaImiJiARTT0OpxqRoiXLoB3YVJZkfKbJBJ41AzyyoMyt/oF9N5dXg0h/w+QrK5zW8l+f6Hh6wYXYNgCthgFNlAPvrAPLqrQU8jQM3aqPL0DtdOwVT7R1fgfOd32yFc7yXpLEuSVrsWpCkZxlJetdnLXygMC2NJmiWVEWVpGYSo1I6HLYWCj22lTLxGQ7xtx/KN9EHe2IM/bYZ1mTHATgGwMHtAMVlALlHrQW8xQfA3frvPnyMHR6BmSe33wKNJm0rXGZOkrJfJGllWJI0KEkanrEWPrE3I82dzOmR1JLbLKkndGJOyuwusRb2eSQqGHrIlgvMp+BimOuzJEt5PGgzrMl2ArALgGgIYPNWAHbYC974JaC349EMjByJ9oOfvXoHeGEabIVOVr8gK0k/ByRJr/67VsJLkkuS2hKTknoPdEv6Vd4kaammwlqog6QxKYgbk/bw0sbEIWVM0mrYMPNenwZ+3Gv8A7NnJt7ASnFNKzDZedZWGF/9rvujkjTwVJLm2yRJKXuhIacdIHYLIGrGgILsc4Bwi7VQBE2+3x2h0vezJZRkfb+SSLfvN9kMHuSzvAz5aBHyPBYgFGIBq2Et5nDncBfcHO4c7oKbw53D3fqew53DXYBzuHO4C24Odw53wc3hzuFufc/hzuEuwDncOdwFN4c7h7vg5nDncLe+t4Fw1wYQuymgyGSAgmwaoKDFWiiCVslEqJam48SnpWoiRmq1Gf4BRETZOko2yw8AAAAASUVORK5CYII=\" style=\"height: auto\">\n",
       "              \n",
       "            </figure>\n",
       "        \n",
       "            <figure style=\"margin: 5px !important;\">\n",
       "              <img src=\"data:image/png;base64,iVBORw0KGgoAAAANSUhEUgAAAGQAAABkCAAAAABVicqIAAACdUlEQVR4nO3Wz0vTcQDG8eero9QKmUEIyrKxLALJCqtDXboLEro6uBDCY1b0g4JOHcoNK4KyQ4Y28NIignRBIERfixLDKPFg5poVy0pT+vE1M9/9DcJnIvJ5rq/rc3hLy2aJRJWk84lGSbWJq5LKE4nVUk6nMZBgMt0ZGGE2/brkJqTTVWH4lG4KGoOjZXoG8L4LYKbrN0D3O4CnrjF4ocIkjFYqCtSqFoiqchSSqwqMQaGjoi36Mizt0WyftHOFeqXydRqaNAmLMadRDz5L1cVvnks7tk8lpOJq3ZR8h3JNgQTP4sc0wId4qy4wH4/7d8Pd+D6ToB8Agx8BRoYBMgOzwM/+KWPwUptT4NXnPAau5EaBXt+BXzC2aYMxqHBUWaOhO1pzQr9j0ukCXfqh8Bbdf2USFuVdG5Wak0rzJyaltUV/xqT8Ur2VcoKOKZDgWmSvnuJG6nSOiUjE2QpHIuv1zxSUSQBf278D3BoEuPsQoL/DHNxW+C9wfes3oG9HD+DtagaorzEGh6Ww68akkOsmHTlJ1w1JMdcNG4Xls0ymIVCke5kbgRI1ZfoCAVVkMtsCK5UyBwIYqP8MeAcfATRdBGhvMAYdDboC4B4HmDiVAjibBLgRMwZtUrPn9fi13/PGgwqOe95++Xs8r9kkOFKe5uakPPFHWuloRvL5NCOjsBizcWfjLmuzcWfjLovvsnG3ALBxtxRn487GXfZm487GXdZm487GXRbfZeNuAWDjbinOxp2Nu+zNxp2Nu6zNxp2Nuyy+y8bdAsDG3VLc8om7ywBPjs8D306OApzpBmiNGoM2qQVcv+pgOqTQNNTJ70KLSfgP6mGw6DykE9wAAAAASUVORK5CYII=\" style=\"height: auto\">\n",
       "              \n",
       "            </figure>\n",
       "        \n",
       "            <figure style=\"margin: 5px !important;\">\n",
       "              <img src=\"data:image/png;base64,iVBORw0KGgoAAAANSUhEUgAAAGQAAABkCAAAAABVicqIAAACrElEQVR4nO3WQWjWdRzH8fejbXvaTN0Q28YwdBOXzNig6WNbWp0dlFuPGQl6EJLwuRR5qIhMYhtzQUSWCoFH6yAMH4SYmP9tpojoxUPgxlojDB9xrHzaM/PdxS7hguBnp9/n8L28r9/DC/6P5TIAO94A2JQDqM89CSzObQ4VwKl24Jp7gV6/BLb6wxJIhwugt6/UVl60NNm+/JBOvrlyq05/Xbv0frBQxpjqgQ9Vz75yVy1tuKHacSZYeI5leR3fRJ/6Gj1qP63jml9RFSzUpVj6DL/+CJ2ULsHGckagqZbrt0OGluUAjY0AK1sAKlsAUhuCBfD7WuDKnQxwyN3AFr8A0p4PFUDHPoNRp07U8JF/nujkef32LSrmggWYVW/sOan+dHy/WrjaUdL5ifbpYKGV5gkt7eScepg+dZQdv+vPa1YHC0+naH2Z6yd54m3u9sO7lRyeJbueU1dDhgWXChcoHHkM+O5aDXCg0AJkCnuAilvBAujn3TBmsivFQQu7GujU/ZspKwULoHr0pXPqN/s+UC8MvqD+cqx5LlhYTXZefeepW+qZFcPqb1W9qq3bgoWNkE2S/kU0JUl+Mal8kqyF/iTJBgwLP0TQDe0FGPwK4PWhSmD90LNAebgAlnbXw2WPrIJPvLyqjC3OtFVT7nyoAOpsT+NFNZf5WD3a9aJ6qac+XKjhU9X3u1RH2yZUG/KqmYPBQgf0FovDdWwvFm+uY83NYrGb6uFisTcdLlSlIM29e5DGOShfxB9A+sENFSLuIu4i7iLuIu4WWMRdxN2jW8RdxF3EXcRdxN1DQ8RdxN0/F3EXcRdxF3EXcQcRdxF3EXf/FiLuIu6IuIu4C72Iu/+Eu0HV97ruqyNt46oNp/VvqgUJHTCgSR2v6kwzTTOapTrRgcfDhaq/ALW9F107+vOGAAAAAElFTkSuQmCC\" style=\"height: auto\">\n",
       "              \n",
       "            </figure>\n",
       "        \n",
       "            <figure style=\"margin: 5px !important;\">\n",
       "              <img src=\"data:image/png;base64,iVBORw0KGgoAAAANSUhEUgAAAGQAAABkCAAAAABVicqIAAACr0lEQVR4nO3Wz0vXdwDH8efX5revrpxWWCwpNIX4YiG2MqlvBTtspxjDdIuIOkix6AsS1DnIyqi2QT+ow6S61SUmeRlC7dOyX/SDjQ6DigrmchmV5De1eu6y0yjY4F2n9+vwujz/gQe8j+UXA7StAWjKA3ycnw5MyDeHCuCDU+Vw01NLYJc/boIVXjwEJeECqL+WcUWfLKBTxzeSU7s/KA4WiuGCeiPbpY58+vWIurnutnq8vC9UODGVj3r1fo4udR0t6gEa7mjf9A+DhaoUZfMZ/B2WMnYZFqU5D7UzuPU4ZKgvB5gzB6CyHqC0HiA1L1gAz7Wn4NqT9irYYccSWOahryDjz6ECqN1wXi9NYbv+sZScuonMi2ABhtVjk8+ov03bqg4tbBzT8c3pwVAhn2buXR1t5azaRZd6lrbneq+6OliYm6LhC26dZPIWRvbA1lL2DdOa5fSNkOGtS4ULDB2uA366WZeGbUMLpsLiofWzYeKjYAHUDfCLHi1iu16sIqfPmikZDRZA9Rsuqd3sUPvLm9WBZUWvQ4Xl0Dqur9bUPFK/r+xT+0t2qwM1K0OFP7PQmiR7i6lNkt6JpHqTJAt7kmR1UcjwXtbTDrD/CMDqnlIg2/MJkA4XwLGBRrjqwEbo9OEPxSz36fUKShwPFUAdbuKauoFd6lFy6uWqCeECfKv+9XmLakfTXfVEZa96debOYKEadhcK52bxZaEw2EDNw0JhLRV9hcJ3k8KFshRkePkSMjgK6SJeAJl/PlSIuIu4i7iLuIu4e8si7iLu3t0i7iLuIu4i7iLu3hgi7iLu/r2Iu4i7iLuIu4g7iLiLuIu4i7gLFiLuIu4i7v7LIu7+F+72q4OftbxWOxbdUY9XnlGvzOwMFqphr/bPZpU+a6T2qa6nItGDk4KFA2V/AyQAIV7j8k/6AAAAAElFTkSuQmCC\" style=\"height: auto\">\n",
       "              \n",
       "            </figure>\n",
       "        \n",
       "            <figure style=\"margin: 5px !important;\">\n",
       "              <img src=\"data:image/png;base64,iVBORw0KGgoAAAANSUhEUgAAAGQAAABkCAAAAABVicqIAAACzElEQVR4nO3Wz2vWdQDA8fez53F7tpq2xR5qKhFNk5kmT9DTmM+K6hR0Gs0aKHXa6Jl20NyhkzCRRyTJi2TgjDqE4Km2QzXQaq35xA4NIhQ3CNzCH6XN9nU+7nl36xR0+Rw6fM6vf+BFZj0AmwHoAKCtCSAgcLKyHui/WgQKc3uB9olPgfQHwQC08hDMuNgNR6yV4AUdhcZwAOpsCxW99QyHtTqYLqqjTQ3hAL5Xxziq3uKNZfXJTVfUfZwPBe/AunH9CsqaQK+6nR1zup+14SBF65a6338mVchUpyHfxMwyTzySmlsICW+dAej8rhnITeSBphN7gdTuj0MB6EcpmHZqA4z4Rzf06ABkV4MBqKMwqdOtHNKFnRTVEtmVYABL6oeMqT9xUL35WP6eVnenroeCPbBlXi+QPq9CWX2a1//Sg2wOB5lfXulLXWL15fdSCQxff5BFPru3LXWBS+GAfAkgexyAcgPAm10AO4aCAXdWB4BxT9fDsLMPw3PVJA8NN2qhANQBmNRTdRzSHzZQ1NtdNK4EA1AdYlo9w4g61dalLr6YrgUD6KvqN2y6oZKbULc3ltVhesNB5uzdd5ni8razLHHtpS/WcScZvt/DFc71BgNyPQDsAqAXgEI7QFs4oHKtCzi2UgL6lz8BOn+dXQv1k8EA9M88XPT+IBzW02t4XmdbaKwFA1CXuplRBzminnqgqF7sWBMO4Lg6wS51hcK8ujU3rh7gaDiAkSQ5B68myVXY+FuSbKX5yyQphYO3oe7RTLYeHiebhY3pbDZFS3NDNkNdezDgZKUd6F/YCRTmh/inaid+DAUxdzF3xNzF3MXcxdzF3MXcxdzF3MXcxdz9N8TcxdxBzF3MXczdv0LMXcwdMXcxdzF3MXcxdzF3MXcxd//H3L2vfk1fTe/y7JzamRtT91MOBQeAY/o5vKY3oeO2PkXrt7ovJPwNYtHD5TlMmVMAAAAASUVORK5CYII=\" style=\"height: auto\">\n",
       "              \n",
       "            </figure>\n",
       "        \n",
       "            <figure style=\"margin: 5px !important;\">\n",
       "              <img src=\"data:image/png;base64,iVBORw0KGgoAAAANSUhEUgAAAGQAAABkCAAAAABVicqIAAACz0lEQVR4nO3WQUjddQDA8a++N/szehpWlo9VGGkiNR5se0bie1QURNjlkUqH0S42KGiEYFdhazyp7dAh8bAgCFpQUKDRwdqQrWRhMChia442NpZZ0+d8b+6x9+2wa9Dld+jwO3+u38MX8u0A+S6A7hxAe34bEBKO+DIw7AzQ//sVIDtrK6TKwQD09D2w5PIAHLbyBhT1GCThANSf4IyuPcghrZcoqB+QhAOav4dH9/AdtL3IzzXSz2ZWl2F3V+NkMIC2OV2AsgolNUfugr5DazhoouNx//6F1ECjvghPN7NUpa+d5ashYfh6EehefxfoOPkjsL28moamUjAAnW6CRRd2wEFXBqCgY5A0ggGoH8EpXexgUq8WGVTfJNkKBjTfgFKGNcg/QhU686l6HYYSK8EAei/qPKkTeutOGDsZ3dRxesJB+tfnR9PnuP3MRFKDiUv3c41PK7ubFzgXDuidfQJIfbMP4P1pgNEvAXrCARseAGb9ogUmvHYvPHXLPXDXn8EA1P1wSmcyTOoP3QzqeoFkKxiAug6LahcH1TEK6lckjWAAw3WdoXtVz9Ixr3/1bC/r1t6mUjAg/VllYtsG5/s+SWqsPHc8m75dndh4IbXl50OhANre3gEwPggw/BpA7i2A1nDAaUeAKT8GXq39AfRd8AFoOREMQK/vgjNu7k9zyPqxuyno2ftIwgGoK7CkZjms7qWoHicJB3BUq68zok7Tf1G/7czO6W/F1FQwACZv3PwaXqrU1uChyzWfpHWuWj8QFNjVmbRArjdJ4OF8kjTR2p9J0kHhqEPAyJ0ju3QFyM6ZgdRUMIhzF+eOOHdx7uLc/TvEuYtzR5y7OHdx7uLcxbmLcxfnLs5dnLs4d/8Nce7i3BHnLs5dnLs4d3Hu4tzFuYtz93+cuyO6OcZwQz+kf1nnO7Ozer6YKgcD4D2dh1f0Jjy2rjtpX9DxkPAPAN/YAffroyEAAAAASUVORK5CYII=\" style=\"height: auto\">\n",
       "              \n",
       "            </figure>\n",
       "        \n",
       "            <figure style=\"margin: 5px !important;\">\n",
       "              <img src=\"data:image/png;base64,iVBORw0KGgoAAAANSUhEUgAAAGQAAABkCAAAAABVicqIAAACv0lEQVR4nO3Wz0vTcQDH4dd332lruBmikitLy1QMIkpYC8nC6hBUiDUtCKToB1Ed6hB0Copso5QO/aCoQxBGQaRg0EEwl0IoBQYhhYlJJVpkq5w6890/8TnF5/z8Aw/cjAIcugNQ0Q+Q05MHcMscNOtuAKLqLYfwyOR2CHXoFLgxYwCSCuG11AhN0iOolr6BzxzgAXLhL2S5zIPjRzC9CExCrzQGcUkh9k9JB6gYkh6S2WUMILtNOgpN0m2oS6m7gLXvNFpN0BzA6QtVlbCmI1IDvNmwNQDttZuL4Iw5iM6cBFb9eeSD/O7PueCPpSvBqTMGIGk5vJIa4aLUCpukr+CbNwZ4gFmYgxn4CzMgmAHS5sDzG57CJDQvZgpqa0mnWdKCksYAygeljbid0jGIzelekIYJvV1JqTlwOLbjzcg9itqeOOdhsNV3bYwno8nnL01C+dBuwO27BdDyHqDhWxAoNQf8UnIpdGg6Cmc1fwM2zGoAFkwYAzxZBFKwiAUCP44PMjLIBidoDPAAF8ELx/NwoaoKB3KOQoY5IJpSOptV41KE/E7pnNcfS6troVNnDIATHxKXoGw80Q6MJl4UQ1t/d51RyH6+E+D6DYB9AwBrB/1A0BzQq748iGtkC+xPTZ+GiiE9gMwuY4A3QqUDW1hWAKt9rIPcFdSAp9oY4AF2gAuRLDxQWIwDbgRMQouUhHpJRYSHpSOEnkntuHFjAFyeTcZg11yqEwp/pAZXEOya/rLHJHhZePCxFwL3D/sh8+P6wBS4JT/mwG8OWnQ3C+rVUwbhT5PbIPRMJ8GNGwObO5s7mzubO5s7mzubO5s7mzubO5s7mzubO5s7mzubO5s7mzubO5s7mzubO5s7mzubO5s7m7v/LHfN0k+IzktFhD9Khwl1SG24MWMAXNHsVdgrJaDkp4ZXkpPQ93qT8A+lSF3cUpR7wgAAAABJRU5ErkJggg==\" style=\"height: auto\">\n",
       "              \n",
       "            </figure>\n",
       "        \n",
       "            <figure style=\"margin: 5px !important;\">\n",
       "              <img src=\"data:image/png;base64,iVBORw0KGgoAAAANSUhEUgAAAGQAAABkCAAAAABVicqIAAACm0lEQVR4nO3Wz2sWdADH8deep5kumaayYuXQ2nTYReiwPFhEpwrDWD6KNKKgWolQh7K7gmyIQn9AP0Z0kYRVEwsGRiB07RB6UBsR4dZhalPbM59Ph/4ACb63vtf36x94cyID2JcxDC5/gQ0XrqEknEwGaHUyxsiVTNE/kzmaE8VA433u8lGXDnu3CkMvQPeHxUADfdzlwaYOPT1Ccz0l4UJyjckkQw7eSt6y43LylVXniwHrprOI48l2RpfyDjt/ydf0lgPGsweDOboGS98/jG8Wh8tC604eYmg+B+ibzaf0TLTn6BotBiQZ4KdkjGPJFE8nc6zuFAMNtFlhhbt0CPm3loLGX0yzyMktbvFyS7vtkY/lRjFg+GJu05xNhplYzmEOLOQc28oBr+co+nNmI278/CTOLLXKwvDFbKQ5m1cw0fkEB/78DdvKgZvJADPJGEeSKZ5azhz3LxQDjbUssZ7b9NCmu1uHrt5ioIFj3MehPk1279bFprfpLgdad3KHoflkWN9sJ4f1TLTzna7RYoDxnMNgLj2Kxfk9mG4fLQvrptOH42lhdOUz7Lz0O3rLgQvJAJPJGAdvZYodl/Mrq84XA41d3OZZ/uaJNVbY9Bg0nikGGniRJrvXavD4Vl08sIuScCq5yf4k241cTQ7pP5vMaE4WAxzPHF7K8iCbr6+8Qe8P+bIoNPAcGL+M1ac/R2PhNUrCqWQz+5NXGbmaKfrPZo7mZDHQeI8ORwh7twhDz0P3B8Wgzt1/gzp3de7q3N0b6tzVuVPnrs5dnbs6d3Xu6tzVuatzV+euzt29oc5dnbs6d3Xu6tzVuatzV+euzp06d//XuTuZ3KDVSbYbuZK8q38m+VZzohjgRP7AvmSIwet5kw0/5nRR+AcDPB7WYUiifgAAAABJRU5ErkJggg==\" style=\"height: auto\">\n",
       "              \n",
       "            </figure>\n",
       "        \n",
       "            <figure style=\"margin: 5px !important;\">\n",
       "              <img src=\"data:image/png;base64,iVBORw0KGgoAAAANSUhEUgAAAGQAAABkCAAAAABVicqIAAACRklEQVR4nO3avWtVdxzH8dc9t9cnShQpDoEebEkk6OKmhaI4SRxECD5QeobSxbEOGv8AQW8qGrq73MRRiGB0sipIpNDBRQjEp0ApSDJYW4zJTe7X4RpwiEPxp9Pvu53zOuNneA+Hi1HiaFToWxrH1qkXSAmXIkqOdaJiz9No0TsZs9SbyUBxCpytwZFvoP8QNM4kAwWwAjogvHdJoHgA7oBHCzD/VNC5lwzYfD1KnI8KQ8vj2D39N3rSQfHPLXAFXFup4eHjBl6lg+LYKPRPwbbb61bY1Dy4QG0oGRARJX9EVJyLaLEvYpYNnWSwuq7l94bxbhLtdFD8B16C191v2xCvkgED01FSvx0VmitjODH/F3akA36KEr1RwZurMDGfFoqBYaiPgWajgxPfv8GOdODfiJLJiIrhiBZ7l2KW9XPJQPEl2AI2gUYDaj3JYHXCX4A6qHVfNdJBcXwRfpyD336HP0eWayweTQY4GSX6upNYvAo35tJCsXkQ/AyG6oHdfW30pANTESUjERU/vI4WO5/Ec9bdTQaK78ABsGsjfPWtGsX+ZLC6ru4Yug/vJpEQilHQBBPPYeYWtH9NBjgfJQ5Hha+XxtFz/0VaKHyOuxxRcjyiYs+zaNF7M2apjyQDxS9gGBzZDv2D0DidDHLc/T/IcZfjTo67HHdy3K0JOe5y3Mlxl+Mux93akOMuxx057nLc5bhbE3Lc5bj7hJfjLsddjrscd3Lc5bj7eMhxl+PuE8bdZXAhYOIZzNyE9kgykPSvtw/BWy2wlZv/f9HrAAAAAElFTkSuQmCC\" style=\"height: auto\">\n",
       "              \n",
       "            </figure>\n",
       "        \n",
       "            <figure style=\"margin: 5px !important;\">\n",
       "              <img src=\"data:image/png;base64,iVBORw0KGgoAAAANSUhEUgAAAGQAAABkCAAAAABVicqIAAACk0lEQVR4nO3Wz2vXdQDH8cf389WcFhpKUlJRNHV0MjpYB+0vsItuWhT9gEorz53FYm1Jhh3qUhgEHSTRambBMhGVftAhKDTRCRXiJjR/bDq/7vvq4LWL8O72vr4e19fhyY6cQ3+ynN6LeYnFR7KHkvBucomBbrLS6jPJq5aNJF9pDxUDkjzPL8n7dxhMDj/oiWTicT3lQIMRZjlyRZfTY8LUcQpCc5z5HGIev101hwtnoHu4GLBof5ZiMANYf2M3Vp38GwvLAZtzEL05eS8mx9dhf2d7WRi4lmssH0/6LB3tZqsFQ518o7W+GJDkA35IDi31ZvLHGmuTy6/o6RYDkizhaLKBbclHrEnG6JkpBpor3M4k85lmLp2OhlwqBvSdyBLao9mAoe7H2HThT6woB7yQ7ViWvUtw6ddHsXdqoCz0nchV2qNJH0PXs5VNEznIinLgcvIjI8m5B7yRXBzw2PV0dpk3UQxIcg9Hk6fYluxmTXL25lcKgQZzmcMc2jS0aN1cS0GzccYMz0zosOs7s/w8fAMz/cUAm7MOvdk+H1Pf3o0vJ/vKwqL9mcRgspL1U9nCqt/zBQvLgWPJeYaTLPf0dPKyh08nn7vt+2JAkkf4KXm97a1kzwJrk7/u1FMONBinzT+zGqantZidpCA079EwRIt9Z7U49TV03ikGGEwvnsyLLe6b+azNwiPjc4tCg1Hw4UO41v8cund9QknYmVxmY5KVVo8lr1l2IBnRHi4GNe5q3NW4q3FX467GXY27Gnc17mrc3RrUuLs1qHFX406Nuxp3atz9N9S4q3FX467GXY27Gnc17mrc1bircVfj7n+Mu520eTsa9o1pceoAdIaLAXbkfvTnWfRe/xSLj50vC/8CspH0rc2sHfoAAAAASUVORK5CYII=\" style=\"height: auto\">\n",
       "              \n",
       "            </figure>\n",
       "        \n",
       "            <figure style=\"margin: 5px !important;\">\n",
       "              <img src=\"data:image/png;base64,iVBORw0KGgoAAAANSUhEUgAAAGQAAABkCAAAAABVicqIAAACzElEQVR4nO3WS0uUYQBH8TPzmjNajlEpOQRZlomLKAjUUAu6LAKJEMfuBFG50Ba1CFpE0kVGKqkopWhoVxRECgotxMukElpBUYhWZhaJGnhLHSf9t+gLJDzLZ/3bnsWBa5q9DkVSGNaNqS+NZWH9KsYk3JDGIDAvpZL1RTqBv16qxQkaA5B0DN5It5dQIbWsYZs0nIPXHOAGGmAOOiaZh4E+BHMdYBDcHXQJmvj2Ez7MRN7AyBcaYb7FGEDiiwKAO3cBDrwD2NQdD/jMAZT2hq/ChqFwHTAQblkDtV2thUYhMK1oIuuHpBySG6XzMfHBqJrjXIXGACRVwyupKYnLUk8u+dLEKbzzxgAkLYc2qQjKpRDkSf3gjRgD3JNMxMEoERdMoRmIRhkDjRsDyPi8F3A6awCqegD2j/iAdHPgomTP2/4QqbXPXBeh+5H35iDPBsZfvDQJGd3SVpxGqQSCfxTysX9Y79NINwdMSK+gXvq5knPS2D6yZxWtwjNsDEBSCrRJB6Bcegh50td/rRgC3EAsxIAHHPCACzzAInNAIFIGrP/9xAvJrT9WQHwwugVchcYAOHMpdwtsrM/ZAbzN3pkAdfu2p8JZc5BYK52CCukeFE6rNYVNHzWwDZ85oF0ahEpJfg5OSUfI/Cw9JrbZGICkzdAplTpckZ7Gky99X4rXHOAGRsCByTncoClc4B0Fk1ClB0ugWG0bIOvb6C7wN6gMnEpjANw87FkMh0JOAqS9JsHBF1612AO3jIGb6dDwBZg4OvkcZtdOd66GuU+9BTBlDqqkcSiWlEpWn3QSf4NUh1NpDOzc2bmzc2fnzs6dnTs7d3bu7NzZuVsY2LlbGNi5s3P3v6tm587OnZ07O3d27uzc2bmzc2fnzs6dnTs7d3bu7NwZhBt6kAABtWdAVv/obvDX6zQ4QWMAVAcAjt8HyOwCWNaWBFBjDP4C/sjqu3sy2RgAAAAASUVORK5CYII=\" style=\"height: auto\">\n",
       "              \n",
       "            </figure>\n",
       "        \n",
       "            <figure style=\"margin: 5px !important;\">\n",
       "              <img src=\"data:image/png;base64,iVBORw0KGgoAAAANSUhEUgAAAGQAAABkCAAAAABVicqIAAACxUlEQVR4nO3WvWvcdQCA8efukvRHMNcSMZqjCsEmhqDlQJMUg7nVF3QJXkKHYpeIZLBIJA4uQrVc6Msgaqig4CB0sKByKVVio6cpVyWCgoOalCr1JY2aF3uJSXOPQ/8Bh+8ifOfP+gwPHNcZeFI3Yd+q7qe1ouOEhJN6fZRiXd+gf1Fn2nNl/aGQKQUDUJdgXs1xTD1EQT1DEg5Iw8ojsEPtmSXq3Hj7LMK3YxAS5hwGJn0HOLjxO9Cz4O3QNBsMYPdzewHGHwIoPgWQfxYgGw7g4Qufn4C2jysfAWcqF++GFz/7YjgoFLf1NJ3L+g1tM/pHV3NJ/zmUGgoGoK5CVe3gqDrKoPoBST0YkAYm4Aa8ucwOVC8grB2H7XDAukeAsmebYMLfboUDW/bCrmvBALrL9wKZ84cBTkwBjLwP0BUOUuwbafj+XVITyUYJxm7j9SUefSB9rhoSui/rDJlZ3YKSup+R6zpOVzhgXddaKKu9TKjPZw5s6flk17VgQPoWeG+dPXDpCs3w66Wdxkb4cDOVDQagUymoWtkLR10agEEdhaQeDKD4VwHoXH0FaPv0K6C5tNwAqaFgQIq2e/zzOzID9e0qPJhmvkZPK4u/hITd01q5GQMMqXnyC/oC2XDAnK72Mqke5mBNX2vpWdCLHU2zwQDUr+FLXbmDl3V7iEH1VZJwADq3B+ZdHIBjro1BQd+CJBzAKR8Hhj0N9P90FchN2wKZyWAA3N+eNEG+O0ngrr4kSZHtb0kaggIv/b15Dh5b21iBO3/e8D6y07XtI0HhlNaeZlidov+yftKem9YfC5nJYBDnLs5dnLs4d3Hu4tzFuYtzF+cuzl2cuzh3ce7i3MW5i3MX5y7OHcS5i3MX5+4/QJy7OHfEuYtzF+cuzt3/Zu5O+gRQvHlkV64CubJZyJSCAdDXCtDXAdCZB2jtawwL/wJRk7Z5zBr+FgAAAABJRU5ErkJggg==\" style=\"height: auto\">\n",
       "              \n",
       "            </figure>\n",
       "        \n",
       "            <figure style=\"margin: 5px !important;\">\n",
       "              <img src=\"data:image/png;base64,iVBORw0KGgoAAAANSUhEUgAAAGQAAABkCAAAAABVicqIAAACv0lEQVR4nO3WwWvWZQDA8e9v7+v220pzi73kNKKaZstM3qC3MV+L/oAOraYNDLu00Tvt4NBDJ8Ehr0iShyIDZxR16lRbhxpYb0tfFzs46BC4QeAE097Zamu9+n67de3yXILn/PkHPnBKv4BX9BZ039YddFT0ECHhHfUbBhr6F8/Mqz25CfUw5VAwCupyH7PqMCfUs/cU1cvd68IB6O95uOydYRjTc+t4TufaaW0EA5i50QucWisBgysfAz2/zG2A5ulgALk9AOwFoB+AQhdAZziAFyuVMmyqVCaBLyuVR2CsUnk5KAzU9Tu23lTJTak7W8vqUfrDAaojVNXzHFcvdvaq11/INIIBqEMwrWebOKaXtlDU2720rgUD+OPuEDDpuWY46tz98Gx9NQ8tNxuhAPIlgPQ0AOUWgAO9ALtGgkHC4wPJz5+SfTtZLcPovbx3g5eeTL6qhoTtC/otmQsqlNWn2PenHmFbOGBZ/YAJ9QpH1FsP5f/W+v7k11DwGqjjMK3VDo7p4m6Kaol0LRiAfphA1Ytb4Li1PtijQ5DeDQbw+nmAnu/XA7mpPNB25iCQ7P8oFJDQsb3pt59ICtl6FfJtzK7w6APJ/GJIuG9Sv4ayrkK/upNd83qYDeGAH9QJTqpLvLqiPrb1qnqIC6HgLVDn2pnRpacZ0/pwpqiOt7WEA9CZjTDr9T44YaMEz+s4tIYDeH+mCxhc3A0UFkaArqlPgMyZH0MBNG3Kps3wMGkKD2bSNKF9fUuapakrHDRKy7XPYMdq7SpwrVbr4c7nS7UhGm8GgjfgtDrFXnWNwoL6RG5SHeVkOIi5i7mLuYu5i7mLuYu5i7mLuYu5i7mDmLuYu5i7mLuYu5i7mLuYu5i7mLv/hpi7mDti7mLuYu5i7v5HudsMDF4rAoX5g/xbtXeDAWQ3A7ANgG4AOtsCwz9m15OGcg9ZrAAAAABJRU5ErkJggg==\" style=\"height: auto\">\n",
       "              \n",
       "            </figure>\n",
       "        \n",
       "            <figure style=\"margin: 5px !important;\">\n",
       "              <img src=\"data:image/png;base64,iVBORw0KGgoAAAANSUhEUgAAAGQAAABkCAAAAABVicqIAAACtUlEQVR4nO3Wz2vXdQDH8ed3uq/fLV1bypQcyuYG8mXFmOYc+tXAg51EYm0qEnoYiuIXRmBnwaUTfwWm5KGR3vISDXeJgfqx5i/8QeEhSLHA6XShjvZ1m/ns0jFjX3jn6f06vC6Pf+AJB3VwIR/ps2bqn+pWqhL9YmYwOFbBYXV4bdtLtWvZHfVU9Vn16vzuYFCLOtrCdXUb+9ST5NQrNdPCATgx1AzXHNoO3T78qpTVPr1RRZmToQD6OgEOfwmwqa8cyPYtBdLh4HWtPUkOllKfJP0zSPUnSRYOJMmmkqAwqX9trnusfl49oA6W7VeH6taFggdZVHdwWe1lrzpY2aoOrSp5GQpWg7oNftCTJezRSzXk9FkrZePBAEZONADf32pIw6cjS2bD8pGtC2HG42DwH0uFhKb13P6GWZ8wdgB2l3NolPYs394MCYvv6ng759QeetRzdPyp92prg8FiRtWvZ51Vf56zWx15r3lCJ3elh0NBPo3aCxf18lvs0fsryak7yTwPBuD5zhRcf9JZA3vtWgGrPL4BMl4IBdBYCbBoEUB1I0B5I0DqnWBAiop3Gf4FVjJxBZaluQj187j9R0h4s19/y9GjbqFNPUbTHR2Y+0YwqOFH9Wa2Rx1bs3FM3dXwq3qqciAUnJ6N+lMFV/XJErp1cjs5tXd6aTAoBX8/Uwm3PLMC9vndTnjfS8ehLBxAfjlAx2aAljzA2/m5wLR8ayggBRlevIAMjkO6hOdA5p8PBvsLhfML+LBQGG6i7mGh8DFVA4XC0ZnhoIIj6qMP2lS7Wu6qp6v71WvzPwsGMe5i3MW4i3EX4+7fIcZdcRDjLsYdMe5i3MW4e+Vi3E0ZYtwVDTHupgwx7oqDGHcx7ohxF+Muxt0rF+NuyhDjrmiIcTdliHFXHMS4i3HH/xd3r2V/A2OnIV7Obu3/AAAAAElFTkSuQmCC\" style=\"height: auto\">\n",
       "              \n",
       "            </figure>\n",
       "        \n",
       "            <figure style=\"margin: 5px !important;\">\n",
       "              <img src=\"data:image/png;base64,iVBORw0KGgoAAAANSUhEUgAAAGQAAABkCAAAAABVicqIAAACrklEQVR4nO3W3WvVdQDH8ffRNk9bmhti2xiGbtGSGRs0PbrlQ9cNfFjHigS9EIrw3CR6YRGZxBw6QSTLAsFL7SIYHQSZqD83U0T0xovADZ8IwyONlaedqW9v8rJ2hC+7+n4uPjevf+AN+zSp5z0da6F5TLPUJLrvxXBQTb/qru4n6vn2EdXGX1Qzu4NBJ+p4T9NFNZf5Wj3SvUa91NMQDmqxtLkBLnt4AXzj5QUVrHSsvYZKJ0MBDGwF6P8e4MOBKmDxwFtAZTiYrmWTpG8GzUmSn0kqnySvQV+SZANCiuykuv3V++rJeYPqX9W9qm3vBoOlqB5554x64pMv1Av9q9Xff2iZCAYL0UMbYNhkU4rdFjY10qXbllNRCgZQOPwCcOpaLbCz0ApkCluAWfeDwf8sFRLa1nL9OLM/42Ef7Khi/zjZxfx8NSS0jGrpA86o+9mrDrHxb72zaGEweINx9caW4+qtH7ephaudJZ0c7bgbDNrQ4YMw5O1jtXzl42NdvK0/fcqsiWAAnq0DrvyZAfa4GVjpt0Dac6EAWucCNDUBzG8FqGoFSC0JBqSY8yZ//AZdlC7B0krOQ3Md1x+EhJfzOrKMver79Kh9tI1ofl51MKhnWHXnl6qn1z1US0tuqHaeDAYr0AdX6qouWrrZMXeP3vx4/iq9e7RuzpNgUIG3O4BrbgV6/Q5Y5a8vQTocQC4DsPEjgGU5gIbcK8DM3PJQQArSPHoEaZyAyhn8A6T//WDQWywO1rO+WLz3OovuFYsbqBksFnvT4aCaA6qfd6sOtY+qNub1WaoFgRh3Me5i3MW4i3H3HxDjLsZdjLupIcZdjLsYd2Utxl35EOPueSHGXfkQ4y7GXYy7qSHGXYy7GHdlLcZd+RDj7nkhxl35EOMuxl2Mu6lheuJuWvYU8rQXXcf8J40AAAAASUVORK5CYII=\" style=\"height: auto\">\n",
       "              \n",
       "            </figure>\n",
       "        \n",
       "            <figure style=\"margin: 5px !important;\">\n",
       "              <img src=\"data:image/png;base64,iVBORw0KGgoAAAANSUhEUgAAAGQAAABkCAAAAABVicqIAAACe0lEQVR4nO3Wy0uUYQCF8TM6eIuwMQhBmUzsJoiWdFnUpr0gotbCCSNaZkkXClqXDlab0oWFNpCLkgjSiQIh+krKDKPERRdt7DJaaormp2Y+/Qsz8CoS79n+tmfxSA3g+FQBU3nKm4IK+RxokEm4AvC0dgkYOz0IcK4ToLHeGNwQQF/VCOAeegxQcwmgpdoYtFYrGq32Z+hetMmfpZpoj9+vgmh0hz9ZQ+bgf1ql4wSlPMcJe+QJO06eFHScSrPwB7heOAb0FHcB7p46gKpSY3BUAD9bfgHc7AdofwjQ22oObgmuBfbrOU6gQhcYDwQ8hXA8sFF/TUGOPJs1tChlp45PSOsz5oel1Gx9kBJyPaZgZeZRUakG7mjtKc0GpbNpujytynzdf2MStg2BW5XwBLiaWA888x78DcNbNxmDAk0D9H8F+PgeINq3AMz0ThqD14Lu0En18SXUqIsshUK+vdAeOmASPMf0YEQqyXz3QireOXlXyixRs+Q9nGgKVupdGfn68V7ap4UeaXeSnklbNmhgwiSkh2GwSPVAucqBehUNQnhNmjFIVzfA5w6AuY5ZgM5PAM8dY/BSMBG57f/IQuRtVjNEIrsq4VukJtcYnMjxtiv4Smrb/rhZerTu+wlpql1HZpTQlmQKVupdStHiopQi5qVkj+Ykr1dzMgp1rtvlU5nrjuYqd9R1y+Trct06o3AVwKkFGD8zBHA+DNAUNAY27lblbNzFDjbu4puNOxt3y/kuG3exg427eN9l4y52sHG3KmfjLnawcRffbNzZuFvOd9m4ix1s3MX7Lht3sYONu1U5G3exg427+Gbjzsbdcr7Lxl3sYONuFe4fcIfhQO0pZCUAAAAASUVORK5CYII=\" style=\"height: auto\">\n",
       "              \n",
       "            </figure>\n",
       "        \n",
       "            <figure style=\"margin: 5px !important;\">\n",
       "              <img src=\"data:image/png;base64,iVBORw0KGgoAAAANSUhEUgAAAGQAAABkCAAAAABVicqIAAACbUlEQVR4nO3WT0jTcRzG8ffcSDHCFqRQISUrwoIGiXjIS3TpH5ioURRIdAkKslgIEYFQ6Vp5sIuQFN3KogIdRYzMnxTZIU8aga40qun6o6I/l9rToUtHB98Jxvc5fC6v6+fwhojk+KmWxgMExqVq/I4UwSRcl6RY3W9JI6EhSarvlKSWsDFozaoDGD3lAZLlGwC3YA+AGzIGSV/sGPD1zoEfMHn8wXOYL/RGgOSWE6ZgmP9oNY4ThoDjRD14oo4TgLDj1JiFWUnNwaSk7u0xSd9KGyXNHqowBrVIkvoSkjT2VpL07J9rBJ76Rs4D3W0PJ2BwV08vuAnvLeCJc8kUtLMWgHUArPYBLF8JwBpzsCjzEKyg/x4rzjIdhnO5XJukpphHfSZhc1yaOpzVJemqt0lSl+/glBTfWGQMtjIlSYmPkjQ/8Pc/JEkDE8bgnSd1F7jd8MWFN/k7B2Hi8c0XwBUnagousB+AfQCUFQAUlgB49xqDxZmHVcWMvocd/OqF0mX0wKZ8+r+bhLyoNBSkSVIVVZKaCA5J0dxcY5DHK0n60CFJqY4ZSeqMS9LLHmPw2lc2DLQc/TwH3eOpBPy83zYMRNqNQQOXAbiYC3CkBGBbLUB2gzFYnHkgh7k5yEEpyPYwAz4fMxiFRteN+al03UQRRQnXrcQfc91Go9AsSbEzkvQpFJek+qgk3Qgbg9as0wCjJwHGytcDbsFugOmQMbBxl+5s3C0cbNylNxt3Nu4yNxt3Nu4yNxt3Nu6W/GzcLRxs3KU3G3c27jI3G3c27jI3G3c27pb8bNwtHGzcpTcbdzbuMjcbdzbulvj+AHpE0lIEKuRQAAAAAElFTkSuQmCC\" style=\"height: auto\">\n",
       "              \n",
       "            </figure>\n",
       "        \n",
       "            <figure style=\"margin: 5px !important;\">\n",
       "              <img src=\"data:image/png;base64,iVBORw0KGgoAAAANSUhEUgAAAGQAAABkCAAAAABVicqIAAABtklEQVR4nO3WP0tbURzG8efEaEOgSDp0FJRQRDJk6tT3oIjGqW/hLgVfQ27wz6vo0qmLN1NAOAUhUycHhwTHFCmI6E0TvV8XQeh24dxgwu87nOUZfssZPtIR+Jr24bau+i3sq+bhSCGHE4CzKAMG0QDIojOAOA42nDhUfG5tBkcWqZb3HanufeLkEu/rUsf7VthhCrQbN0Cv0QNuGm1gur0dbGjN5nd9ncGRxcmpuaPLH3r/TQ8d6bCq4zu1tvTzd8hhcwj3BzoHYsXAuQ7uYbi+HmzYfPldk5X/X+RCDSp/zySV3JMkV8qQtEQmqaSAw8Lk9GFLf66kL5r0pc8r+iV9+qjLvyGH1QQGTcXAnvaAWM0BJNVqsGFVfYDrLsCkOwHoXgNcXAQb+m40lrS8/CCpVBlnkqrTqaSKAg4Lk5MqenyUKuKf9M5pLJXLGivo0E7TXk27aTra0MYoTXdV66VpO+hwCpBEAMNoCBAlr1QLMpwa7t5ihrscGe5yZbgz3BWX4c5wV1yGO8Pd3Ge4y5HhLleGO8NdcRnuDHfFZbgz3M19hrscGe5yZbgz3BWX4c5wN+c9AyA5wKGvU06hAAAAAElFTkSuQmCC\" style=\"height: auto\">\n",
       "              \n",
       "            </figure>\n",
       "        \n",
       "            <figure style=\"margin: 5px !important;\">\n",
       "              <img src=\"data:image/png;base64,iVBORw0KGgoAAAANSUhEUgAAAGQAAABkCAAAAABVicqIAAACPUlEQVR4nO3WT0iTcRzH8feDI4cpNok6CKayhcgOw6KTeugehrl5kowY3UYkdOhebMM/1KFLXT3UCILyOQQD4ZEKT56EgjYCoSwpdLhHN9unU3cHv2cY/D7X9+kL38ML5iUvQlLajRLdlZJEPGkek2FRklYyDUmlTElSI7MiSbmcsbDoiODn9AGjC3c2oPvd82fAq71bwFxq/NBQuDfdgjtatpTn5SHqea6D43peFPKelzIb6pKy8R1JxXhR0k48K6k+MWEspFrzXTPAyN2Hn6Dz6ZsC8Hj/ATB79XbdWACgLQZArAugrxfgTMxwCHwOietsvqRrjmoe7newUCE1zOsNk2GoLO1PsyopR07SKtP7UnlgwFgYQpJUq0qSKpKk35KkvT/GQiW03ID+sbUtCCe/fxTMnF5uwPiFFzVDYawfgLPpLoB0HCB5DeBy2li4lA76sQBw6Bnmx2cYpbYOV06xBhfPsfnLZOh2pVKCnKQppiTlSJQkt6PDWOhmXZK+uJJUXalJ0tuvkuR9MBbeO9sH0NlT3YG2XrYa0Me3Opxv/+kbCwAkCjEgXLgB8OQRwGzBMRVuFlr0XYQ5OoIwOoR2hwMIhTjAaMj6fjHCpO9vDzK47fuTRIq+nzUaliTJzUhSOVOWpIwr/aOakbBkcXcSZ3HXxCzumprFncVdcLO4s7gL8rss7o4fLO5O5CzumpjFXVOzuLO4C24WdxZ3QX6Xxd3xg8XdiZzFXROzuGtqFncWd8HN4s7i7j/fX9Pmv/7esrkGAAAAAElFTkSuQmCC\" style=\"height: auto\">\n",
       "              \n",
       "            </figure>\n",
       "        \n",
       "        </div>\n",
       "    "
      ],
      "text/plain": [
       "<IPython.core.display.HTML object>"
      ]
     },
     "execution_count": 10,
     "metadata": {},
     "output_type": "execute_result"
    }
   ],
   "source": [
    "sz = RETINA_SIZE * SENSOR_RECEPTIVE_FIELD_SIZE\n",
    "steps = 36 # 10 degreee\n",
    "specific_samples_img = []\n",
    "\n",
    "for i in range(steps):\n",
    "    canvas = Image.new('L', (sz, sz))\n",
    "    draw = ImageDraw.Draw(canvas)\n",
    "    angle = i * 360 / steps\n",
    "    \n",
    "    # coords = [-SENSOR_RECEPTIVE_FIELD_SIZE, -SENSOR_RECEPTIVE_FIELD_SIZE, SENSOR_RECEPTIVE_FIELD_SIZE*2 - 1, SENSOR_RECEPTIVE_FIELD_SIZE*2 - 1]\n",
    "    # draw.chord(coords, angle, angle + 180, outline=255, fill=255)\n",
    "    # draw.rectangle([SENSOR_RECEPTIVE_FIELD_SIZE, 0, sz, sz], fill=0)\n",
    "    # draw.rectangle([0, SENSOR_RECEPTIVE_FIELD_SIZE, sz, sz], fill=0)\n",
    "    \n",
    "    draw.chord([0, 0, SENSOR_RECEPTIVE_FIELD_SIZE - 1, SENSOR_RECEPTIVE_FIELD_SIZE - 1], angle, angle + 180, outline=255, fill=255)\n",
    "    crop = canvas.crop([0, 0, SENSOR_RECEPTIVE_FIELD_SIZE, SENSOR_RECEPTIVE_FIELD_SIZE])\n",
    "\n",
    "    for x in range(0, sz, SENSOR_RECEPTIVE_FIELD_SIZE):\n",
    "        for y in range(0, sz, SENSOR_RECEPTIVE_FIELD_SIZE):\n",
    "            canvas.paste(crop, [x, y, x + SENSOR_RECEPTIVE_FIELD_SIZE, y + SENSOR_RECEPTIVE_FIELD_SIZE])\n",
    "            \n",
    "    specific_samples_img.append(canvas)\n",
    "\n",
    "display_images(list(map(lambda x: x.resize((100, 100)), specific_samples_img[:20])))"
   ]
  },
  {
   "cell_type": "code",
   "execution_count": 11,
   "id": "792c3dac-ca1e-4f4e-9a8b-a4f798b30ec0",
   "metadata": {},
   "outputs": [
    {
     "data": {
      "text/plain": [
       "((36, 16384),\n",
       " UniqueCountsResult(values=array([0., 1.]), counts=array([331776, 258048])))"
      ]
     },
     "execution_count": 11,
     "metadata": {},
     "output_type": "execute_result"
    }
   ],
   "source": [
    "SPECIFIC_SAMPLES = xp.array(list(map(xp.array, specific_samples_img))).astype(float)\n",
    "SPECIFIC_SAMPLES[SPECIFIC_SAMPLES==255] = 1\n",
    "SPECIFIC_SAMPLES = SPECIFIC_SAMPLES.reshape(SPECIFIC_SAMPLES.shape[0], -1)\n",
    "SPECIFIC_SAMPLES.shape, np.unique_counts(SPECIFIC_SAMPLES)"
   ]
  },
  {
   "cell_type": "code",
   "execution_count": 12,
   "id": "9fe5ba15-4b95-4c3e-b557-25f1fc940281",
   "metadata": {},
   "outputs": [],
   "source": [
    "RETINA = RETINA.reshape((RETINA_SIZE, RETINA_SIZE, pow(SENSOR_GROUP_SIZE, 2), pow(RETINA_SIZE * SENSOR_RECEPTIVE_FIELD_SIZE, 2)))\n",
    "\n",
    "for y in range(RETINA_SIZE):\n",
    "    for x in range(RETINA_SIZE):\n",
    "        for g in range(pow(SENSOR_GROUP_SIZE, 2)):\n",
    "            sensor_at_place = group_sensors[g]\n",
    "            sensor_at_place = np.roll(sensor_at_place, y * SENSOR_RECEPTIVE_FIELD_SIZE, axis=0)\n",
    "            sensor_at_place = np.roll(sensor_at_place, x * SENSOR_RECEPTIVE_FIELD_SIZE, axis=1)\n",
    "            RETINA[y, x, g, :] = sensor_at_place.reshape(-1)"
   ]
  },
  {
   "cell_type": "code",
   "execution_count": 13,
   "id": "ed9b5115-6edc-4632-898a-8b7d15650010",
   "metadata": {},
   "outputs": [
    {
     "data": {
      "image/jpeg": "[encoded data removed]",
      "image/png": "[encoded data removed]",
      "text/plain": [
       "<PIL.Image.Image image mode=L size=128x128>"
      ]
     },
     "execution_count": 13,
     "metadata": {},
     "output_type": "execute_result"
    }
   ],
   "source": [
    "Image.frombytes('L', size=(sz, sz), data=RETINA[0,4,0].astype(xp.uint8) * 255)"
   ]
  },
  {
   "cell_type": "code",
   "execution_count": 14,
   "id": "d04d0285-6644-4f60-a8b5-9f320516cbd4",
   "metadata": {},
   "outputs": [],
   "source": [
    "RETINA = RETINA.reshape((-1, pow(RETINA_SIZE * SENSOR_RECEPTIVE_FIELD_SIZE, 2)))"
   ]
  },
  {
   "cell_type": "code",
   "execution_count": 15,
   "id": "c4aa0d5e-c843-4bcb-9bb8-36ff4ce90147",
   "metadata": {},
   "outputs": [
    {
     "data": {
      "image/jpeg": "[encoded data removed]",
      "image/png": "[encoded data removed]",
      "text/plain": [
       "<PIL.Image.Image image mode=L size=128x128>"
      ]
     },
     "execution_count": 15,
     "metadata": {},
     "output_type": "execute_result"
    }
   ],
   "source": [
    "Image.frombytes('L', size=(sz, sz), data=RETINA[4000].astype(xp.uint8) * 255)"
   ]
  },
  {
   "cell_type": "code",
   "execution_count": null,
   "id": "c3d2b1d8-9547-454c-8b6e-72d012ff1fb1",
   "metadata": {},
   "outputs": [],
   "source": []
  },
  {
   "cell_type": "code",
   "execution_count": 16,
   "id": "ed82d2ea-3b57-40e4-95a1-7f9adb8a0373",
   "metadata": {},
   "outputs": [
    {
     "data": {
      "text/plain": [
       "(4096, 36)"
      ]
     },
     "execution_count": 16,
     "metadata": {},
     "output_type": "execute_result"
    }
   ],
   "source": [
    "specific_samples_sense_res = (RETINA @ SPECIFIC_SAMPLES.T > 0).astype(xp.uint8)\n",
    "specific_samples_sense_res.shape"
   ]
  },
  {
   "cell_type": "code",
   "execution_count": 17,
   "id": "3e143a5f-c3ed-429e-8560-4951c55b47ac",
   "metadata": {},
   "outputs": [
    {
     "data": {
      "text/plain": [
       "(16, 16, 16, 36)"
      ]
     },
     "execution_count": 17,
     "metadata": {},
     "output_type": "execute_result"
    }
   ],
   "source": [
    "specific_samples_sense_res = specific_samples_sense_res.reshape(RETINA_SIZE, RETINA_SIZE, pow(SENSOR_GROUP_SIZE, 2), -1)\n",
    "specific_samples_sense_res.shape"
   ]
  },
  {
   "cell_type": "code",
   "execution_count": 18,
   "id": "cc8daa0b-8763-45e4-b255-31d389cf701f",
   "metadata": {},
   "outputs": [
    {
     "name": "stdout",
     "output_type": "stream",
     "text": [
      "[1 1 1 1 0 0 0 0 0 0 0 0 0 1 1 1]\n",
      "[1 1 1 1 1 0 0 0 0 0 0 0 0 1 1 1]\n",
      "[1 1 1 1 1 0 0 0 0 0 0 0 0 1 1 1]\n",
      "[1 1 1 1 1 1 0 0 0 0 0 0 0 0 1 1]\n",
      "[1 1 1 1 1 1 0 0 0 0 0 0 0 0 1 1]\n",
      "[1 1 1 1 1 1 1 0 0 0 0 0 0 0 0 1]\n",
      "[1 1 1 1 1 1 1 0 0 0 0 0 0 0 0 1]\n",
      "[1 1 1 1 1 1 1 1 0 0 0 0 0 0 0 0]\n",
      "[1 1 1 1 1 1 1 1 0 0 0 0 0 0 0 0]\n",
      "[0 1 1 1 1 1 1 1 0 0 0 0 0 0 0 0]\n",
      "[0 1 1 1 1 1 1 1 1 0 0 0 0 0 0 0]\n",
      "[0 1 1 1 1 1 1 1 1 0 0 0 0 0 0 0]\n",
      "[0 0 1 1 1 1 1 1 1 1 0 0 0 0 0 0]\n",
      "[0 0 1 1 1 1 1 1 1 1 0 0 0 0 0 0]\n",
      "[0 0 0 1 1 1 1 1 1 1 1 0 0 0 0 0]\n",
      "[0 0 0 1 1 1 1 1 1 1 1 0 0 0 0 0]\n",
      "[0 0 0 0 1 1 1 1 1 1 1 1 0 0 0 0]\n",
      "[0 0 0 0 1 1 1 1 1 1 1 1 0 0 0 0]\n",
      "[0 0 0 0 0 1 1 1 1 1 1 1 0 0 0 0]\n",
      "[0 0 0 0 0 1 1 1 1 1 1 1 1 0 0 0]\n",
      "[0 0 0 0 0 1 1 1 1 1 1 1 1 0 0 0]\n",
      "[0 0 0 0 0 0 1 1 1 1 1 1 1 1 0 0]\n",
      "[0 0 0 0 0 0 1 1 1 1 1 1 1 1 0 0]\n",
      "[0 0 0 0 0 0 0 1 1 1 1 1 1 1 1 0]\n",
      "[0 0 0 0 0 0 0 1 1 1 1 1 1 1 1 0]\n",
      "[0 0 0 0 0 0 0 0 1 1 1 1 1 1 1 1]\n",
      "[0 0 0 0 0 0 0 0 1 1 1 1 1 1 1 1]\n",
      "[0 0 0 0 0 0 0 0 0 1 1 1 1 1 1 1]\n",
      "[1 0 0 0 0 0 0 0 0 1 1 1 1 1 1 1]\n",
      "[1 0 0 0 0 0 0 0 0 1 1 1 1 1 1 1]\n",
      "[1 1 0 0 0 0 0 0 0 0 1 1 1 1 1 1]\n",
      "[1 1 0 0 0 0 0 0 0 0 1 1 1 1 1 1]\n",
      "[1 1 1 0 0 0 0 0 0 0 0 1 1 1 1 1]\n",
      "[1 1 1 0 0 0 0 0 0 0 0 1 1 1 1 1]\n",
      "[1 1 1 1 0 0 0 0 0 0 0 0 1 1 1 1]\n",
      "[1 1 1 1 0 0 0 0 0 0 0 0 1 1 1 1]\n"
     ]
    }
   ],
   "source": [
    "for i in range(SPECIFIC_SAMPLES.shape[0]):\n",
    "    print(specific_samples_sense_res[2, 3, :, i])"
   ]
  },
  {
   "cell_type": "code",
   "execution_count": 297,
   "id": "74647b50-c55e-4e31-b2cd-31cb4f8a8ffb",
   "metadata": {},
   "outputs": [],
   "source": [
    "def lay_grid(image, step):\n",
    "    draw = ImageDraw.Draw(image)\n",
    "\n",
    "    for c in range(step - 1, image.height, step):\n",
    "        draw.line([0, c, image.width, c], fill=127)\n",
    "        draw.line([c, 0, c, image.height], fill=127)\n",
    "\n",
    "    return image"
   ]
  },
  {
   "cell_type": "code",
   "execution_count": 321,
   "id": "3c683677-a0a1-4ddb-98fe-b587a7c552cd",
   "metadata": {},
   "outputs": [
    {
     "data": {
      "text/html": [
       "\n",
       "        <div style=\"display: flex; flex-flow: row wrap; text-align: center;\">\n",
       "        \n",
       "            <figure style=\"margin: 5px !important;\">\n",
       "              <img src=\"data:image/png;base64,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\" style=\"height: auto\">\n",
       "              \n",
       "            </figure>\n",
       "        \n",
       "            <figure style=\"margin: 5px !important;\">\n",
       "              <img src=\"data:image/png;base64,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\" style=\"height: auto\">\n",
       "              \n",
       "            </figure>\n",
       "        \n",
       "        </div>\n",
       "    "
      ],
      "text/plain": [
       "<IPython.core.display.HTML object>"
      ]
     },
     "execution_count": 321,
     "metadata": {},
     "output_type": "execute_result"
    }
   ],
   "source": [
    "original_img = IMAGES[10] # 10 - вертикальная единичка\n",
    "sense_res = RETINA @ original_img\n",
    "sense_res = sense_res.reshape(RETINA_SIZE, RETINA_SIZE, -1)\n",
    "\n",
    "sz = RETINA_SIZE * SENSOR_RECEPTIVE_FIELD_SIZE\n",
    "sensed_image = np.zeros((sz, sz))\n",
    "\n",
    "for y in range(sense_res.shape[0]):\n",
    "    for x in range(sense_res.shape[1]):\n",
    "        sense_vector = (sense_res[y, x] > 1).astype(xp.uint8)\n",
    "        # Find most similar reaction among specific samples of reactions\n",
    "        sense_vector_match = sense_vector @ specific_samples_sense_res[y, x, :]\n",
    "\n",
    "        if sense_vector_match.max() > 6:\n",
    "            max_i = xp.argmax(sense_vector_match)\n",
    "            most_similar_specific_sample = SPECIFIC_SAMPLES[max_i].reshape((sz, sz))\n",
    "            srfs = SENSOR_RECEPTIVE_FIELD_SIZE\n",
    "            np.copyto(sensed_image[y*srfs:(y+1)*srfs, x*srfs:(x+1)*srfs], most_similar_specific_sample[y*srfs:(y+1)*srfs, x*srfs:(x+1)*srfs])\n",
    "\n",
    "images = [lay_grid(Image.frombytes('L', size=(sz, sz), data=(original_img).astype(np.uint8)), SENSOR_RECEPTIVE_FIELD_SIZE), \n",
    "          lay_grid(Image.frombytes('L', size=(sz, sz), data=(sensed_image * 255).astype(np.uint8)), SENSOR_RECEPTIVE_FIELD_SIZE)]\n",
    "display_images(list(map(lambda x: x.resize((400, 400)), images)))"
   ]
  },
  {
   "cell_type": "code",
   "execution_count": 301,
   "id": "694ecdc8-b2c1-4b96-9703-0be2dee3e061",
   "metadata": {},
   "outputs": [
    {
     "data": {
      "text/plain": [
       "array([[  32.        , -136.8       , -190.60869565, -194.        ],\n",
       "       [-200.        , -194.        , -186.08695652, -161.76      ],\n",
       "       [ -32.        ,   78.43478261,  216.34782609,  285.81818182],\n",
       "       [ 200.        ,  281.09090909,  229.91304348,  134.95652174]])"
      ]
     },
     "execution_count": 301,
     "metadata": {},
     "output_type": "execute_result"
    }
   ],
   "source": [
    "sense_res[4,8].reshape(4,4)"
   ]
  },
  {
   "cell_type": "code",
   "execution_count": 391,
   "id": "e4bff958-3180-4969-ae46-1f1afffacfb0",
   "metadata": {},
   "outputs": [
    {
     "data": {
      "text/plain": [
       "(array([[195, 232, 255, 255, 255, 255, 255, 246],\n",
       "        [205, 235, 255, 255, 255, 255, 255, 246],\n",
       "        [212, 237, 255, 255, 255, 255, 255, 246],\n",
       "        [218, 239, 255, 255, 255, 255, 255, 246],\n",
       "        [223, 241, 254, 255, 255, 255, 255, 246],\n",
       "        [226, 243, 254, 255, 255, 255, 255, 246],\n",
       "        [229, 244, 254, 255, 255, 255, 255, 246],\n",
       "        [231, 244, 254, 255, 255, 255, 255, 246]], dtype=uint8),\n",
       " (8, 8))"
      ]
     },
     "execution_count": 391,
     "metadata": {},
     "output_type": "execute_result"
    }
   ],
   "source": [
    "z = original_img.reshape(128, 128)\n",
    "i = 4\n",
    "j = 8\n",
    "zpart = z[i*8:(i+1)*8,j*8:(j+1)*8]\n",
    "zpart, zpart.shape"
   ]
  },
  {
   "cell_type": "code",
   "execution_count": 393,
   "id": "705e1276-2f2d-4bc0-85bf-4ab56704d0c9",
   "metadata": {},
   "outputs": [
    {
     "data": {
      "text/plain": [
       "(16, 16384)"
      ]
     },
     "execution_count": 393,
     "metadata": {},
     "output_type": "execute_result"
    }
   ],
   "source": [
    "aaa = RETINA.reshape(16,16,16,-1)[4,8,:]\n",
    "aaa.shape"
   ]
  },
  {
   "cell_type": "code",
   "execution_count": 406,
   "id": "ccc86e6b-f4da-4651-af90-417003e4e244",
   "metadata": {},
   "outputs": [
    {
     "data": {
      "text/plain": [
       "array([  32.        , -136.8       , -190.60869565, -194.        ,\n",
       "       -200.        , -194.        , -186.08695652, -161.76      ,\n",
       "        -32.        ,   78.43478261,  216.34782609,  285.81818182,\n",
       "        200.        ,  281.09090909,  229.91304348,  134.95652174])"
      ]
     },
     "execution_count": 406,
     "metadata": {},
     "output_type": "execute_result"
    }
   ],
   "source": [
    "aaa2 = aaa.reshape(16,128,128)\n",
    "aaa2 = aaa2[:,i*8:(i+1)*8,j*8:(j+1)*8]\n",
    "aaa2 = aaa2.reshape(16,-1)\n",
    "aaa2 @ zpart.reshape(-1)"
   ]
  },
  {
   "cell_type": "code",
   "execution_count": 413,
   "id": "112b874c-5d32-4beb-9dd3-df536dd21292",
   "metadata": {},
   "outputs": [
    {
     "data": {
      "text/plain": [
       "array([[ 0.  ,  0.  , -1.36, -1.36, -1.36,  1.  ,  0.  ,  0.  ],\n",
       "       [ 0.  , -1.36, -1.36, -1.36,  1.  ,  1.  ,  1.  ,  0.  ],\n",
       "       [-1.36, -1.36, -1.36, -1.36,  1.  ,  1.  ,  1.  ,  1.  ],\n",
       "       [-1.36, -1.36, -1.36, -1.36,  1.  ,  1.  ,  1.  ,  1.  ],\n",
       "       [-1.36, -1.36, -1.36, -1.36,  1.  ,  1.  ,  1.  ,  1.  ],\n",
       "       [-1.36, -1.36, -1.36,  1.  ,  1.  ,  1.  ,  1.  ,  1.  ],\n",
       "       [ 0.  , -1.36,  1.  ,  1.  ,  1.  ,  1.  ,  1.  ,  0.  ],\n",
       "       [ 0.  ,  0.  ,  1.  ,  1.  ,  1.  ,  1.  ,  0.  ,  0.  ]])"
      ]
     },
     "execution_count": 413,
     "metadata": {},
     "output_type": "execute_result"
    }
   ],
   "source": [
    "np.round(aaa2[13].reshape(8,8), 2)"
   ]
  },
  {
   "cell_type": "code",
   "execution_count": null,
   "id": "bec047cb-bb04-4baa-8ae8-0d2bb95c04a3",
   "metadata": {},
   "outputs": [],
   "source": []
  },
  {
   "cell_type": "code",
   "execution_count": null,
   "id": "ab1cdd65-fff3-432b-af00-d9618d06d250",
   "metadata": {},
   "outputs": [],
   "source": []
  },
  {
   "cell_type": "code",
   "execution_count": null,
   "id": "f8076d1f-1f3f-45c2-b9b2-f8f165a8e0e4",
   "metadata": {},
   "outputs": [],
   "source": []
  },
  {
   "cell_type": "code",
   "execution_count": 271,
   "id": "9211d730-59a9-4c05-8721-228f9cfd51f8",
   "metadata": {},
   "outputs": [
    {
     "data": {
      "text/html": [
       "\n",
       "        <div style=\"display: flex; flex-flow: row wrap; text-align: center;\">\n",
       "        \n",
       "            <figure style=\"margin: 5px !important;\">\n",
       "              <img src=\"data:image/png;base64,iVBORw0KGgoAAAANSUhEUgAAAIAAAACACAAAAADmVT4XAAAAY0lEQVR4nO3UoQEAMAgDwYT9d25Fh0D0zkSC+oTf9Sw/MMv3M33brZ00SZq15Xs6oAOgAzoAOqADoAM6ADqgA6ADOgA6oAOgAzoAOqADoAM6ADqgA6ADOgA6oAOgAzoAOqADFwH1FGEM089OAAAAAElFTkSuQmCC\" style=\"height: auto\">\n",
       "              \n",
       "            </figure>\n",
       "        \n",
       "            <figure style=\"margin: 5px !important;\">\n",
       "              <img src=\"data:image/png;base64,iVBORw0KGgoAAAANSUhEUgAAAIAAAACACAAAAADmVT4XAAAAQElEQVR4nO3QsREAIAgDQGT/nbVQzxFS+F/RJaGK3415j1CBDuW+Amd56gHVOzqWDwAAAAAAAAAAAAAAAAAAUAtjcwEMcCw+RQAAAABJRU5ErkJggg==\" style=\"height: auto\">\n",
       "              \n",
       "            </figure>\n",
       "        \n",
       "            <figure style=\"margin: 5px !important;\">\n",
       "              <img src=\"data:image/png;base64,iVBORw0KGgoAAAANSUhEUgAAAIAAAACACAAAAADmVT4XAAAAQklEQVR4nO3OsRHAMAwDMUr77+wUPs/AIsAC/8nvnXJ/c7oLm3QX5sWnNLDT7WdvutYHAAAAAAAAAAAAAAAAAADIB5nkBgn2arZEAAAAAElFTkSuQmCC\" style=\"height: auto\">\n",
       "              \n",
       "            </figure>\n",
       "        \n",
       "            <figure style=\"margin: 5px !important;\">\n",
       "              <img src=\"data:image/png;base64,iVBORw0KGgoAAAANSUhEUgAAAIAAAACACAAAAADmVT4XAAAAQklEQVR4nO3QsREAIAwDMeP9d4aCIdxIhdv8JZm72/O944Jm/INmXNCMC3rGBc1J8gcAAAAAAAAAAAAAAAAAAGDiARHFBwmMXZGjAAAAAElFTkSuQmCC\" style=\"height: auto\">\n",
       "              \n",
       "            </figure>\n",
       "        \n",
       "            <figure style=\"margin: 5px !important;\">\n",
       "              <img src=\"data:image/png;base64,iVBORw0KGgoAAAANSUhEUgAAAIAAAACACAAAAADmVT4XAAAARElEQVR4nO3TAQ0AMQwDsSz8Oe9h5KXZBK5q1SQ3Sx330zteQZfx/wywvEHPMJ4kzcn6EwEAAAAAAAAAAAAAAAAAgMd9G7EGCzpo+90AAAAASUVORK5CYII=\" style=\"height: auto\">\n",
       "              \n",
       "            </figure>\n",
       "        \n",
       "            <figure style=\"margin: 5px !important;\">\n",
       "              <img src=\"data:image/png;base64,iVBORw0KGgoAAAANSUhEUgAAAIAAAACACAAAAADmVT4XAAAASUlEQVR4nO3SIRLAMAwDQdX//3MKah4o0F1ikhkdSJIkJzXz7fcKZm+tYO5PfhBQ/ILJ7P5TDKjuAwAAAAAAAAAAAAAAAAAA5AUQvgYL2A2QlAAAAABJRU5ErkJggg==\" style=\"height: auto\">\n",
       "              \n",
       "            </figure>\n",
       "        \n",
       "            <figure style=\"margin: 5px !important;\">\n",
       "              <img src=\"data:image/png;base64,iVBORw0KGgoAAAANSUhEUgAAAIAAAACACAAAAADmVT4XAAAAQklEQVR4nO3OMQHAMADDsDT8OW/HyiE7JAJ28g/PrNzbnx306+903E/H/fT2z27gTPsAAAAAAAAAAAAAAAAAAAB5AQrFBwnrOA8sAAAAAElFTkSuQmCC\" style=\"height: auto\">\n",
       "              \n",
       "            </figure>\n",
       "        \n",
       "            <figure style=\"margin: 5px !important;\">\n",
       "              <img src=\"data:image/png;base64,iVBORw0KGgoAAAANSUhEUgAAAIAAAACACAAAAADmVT4XAAAAQElEQVR4nO3OsREAIAwDMcNl/5WhyBBupMblO2G9Vniq9T3QzCfTzSf37J7agU3X+gAAAAAAAAAAAAAAAAAAAPkNGgQRRgMVJQAAAABJRU5ErkJggg==\" style=\"height: auto\">\n",
       "              \n",
       "            </figure>\n",
       "        \n",
       "        </div>\n",
       "    "
      ],
      "text/plain": [
       "<IPython.core.display.HTML object>"
      ]
     },
     "execution_count": 271,
     "metadata": {},
     "output_type": "execute_result"
    }
   ],
   "source": [
    "sample_index = 0\n",
    "z = RETINA @ SPECIFIC_SAMPLES.T\n",
    "z = z.reshape(16, 16, 16, -1)\n",
    "t = (z[0,0,:,sample_index] > 0).astype(np.uint8).reshape(4,4)\n",
    "w = group_sensors.reshape(4, 4, (sz*sz))\n",
    "images = []\n",
    "\n",
    "for i in range(t.shape[0]):\n",
    "    for j in range(t.shape[1]):\n",
    "        if t[i,j] > 0:\n",
    "            data = w[i,j]\n",
    "            data[data < 0] = 0\n",
    "            data[data == 1] = 255\n",
    "            img = Image.frombytes('L', size=(sz, sz), data=data.astype(np.uint8))\n",
    "            images.append(img)\n",
    "\n",
    "images.insert(0, Image.frombytes('L', size=(sz, sz), data=(SPECIFIC_SAMPLES[sample_index] * 255).astype(np.uint8)))\n",
    "display_images(images)"
   ]
  },
  {
   "cell_type": "code",
   "execution_count": 270,
   "id": "20cd3544-ecc4-4995-9e5c-cd52272ed039",
   "metadata": {},
   "outputs": [
    {
     "data": {
      "text/html": [
       "\n",
       "        <div style=\"display: flex; flex-flow: row wrap; text-align: center;\">\n",
       "        \n",
       "            <figure style=\"margin: 5px !important;\">\n",
       "              <img src=\"data:image/png;base64,iVBORw0KGgoAAAANSUhEUgAAAIAAAACACAAAAADmVT4XAAAANklEQVR4nO3OMQEAMAjEQMC/53bBwzPcGUj61eqKmEzWgAEDhwYAAAAAAAAAAAAAAAAAAIC4D+erARI/3AN/AAAAAElFTkSuQmCC\" style=\"height: auto\">\n",
       "              \n",
       "            </figure>\n",
       "        \n",
       "        </div>\n",
       "    "
      ],
      "text/plain": [
       "<IPython.core.display.HTML object>"
      ]
     },
     "execution_count": 270,
     "metadata": {},
     "output_type": "execute_result"
    }
   ],
   "source": [
    "white_sample = Image.new('L', size=(sz, sz))\n",
    "ImageDraw.Draw(white_sample).rectangle([0, 0, SENSOR_RECEPTIVE_FIELD_SIZE, SENSOR_RECEPTIVE_FIELD_SIZE], fill=255)\n",
    "white_sample_data = xp.array(white_sample).reshape(-1)\n",
    "\n",
    "z = RETINA @ white_sample_data\n",
    "z = z.reshape(16, 16, 16, -1)\n",
    "t = (z[0,0,:,0] > 1).astype(np.uint8).reshape(4,4)\n",
    "w = group_sensors.reshape(4, 4, (sz*sz))\n",
    "images = []\n",
    "\n",
    "for i in range(t.shape[0]):\n",
    "    for j in range(t.shape[1]):\n",
    "        if t[i,j] > 0:\n",
    "            data = w[i,j]\n",
    "            data[data < -1] = 0\n",
    "            data[data == 1] = 255\n",
    "            img = Image.frombytes('L', size=(sz, sz), data=data.astype(np.uint8))\n",
    "            images.append(img)\n",
    "\n",
    "images.insert(0, white_sample)\n",
    "display_images(images)"
   ]
  }
 ],
 "metadata": {
  "kernelspec": {
   "display_name": "Python 3 (ipykernel)",
   "language": "python",
   "name": "python3"
  },
  "language_info": {
   "codemirror_mode": {
    "name": "ipython",
    "version": 3
   },
   "file_extension": ".py",
   "mimetype": "text/x-python",
   "name": "python",
   "nbconvert_exporter": "python",
   "pygments_lexer": "ipython3",
   "version": "3.12.2"
  }
 },
 "nbformat": 4,
 "nbformat_minor": 5
}
