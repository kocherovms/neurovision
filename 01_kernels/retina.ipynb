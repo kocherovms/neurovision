{
 "cells": [
  {
   "cell_type": "code",
   "execution_count": 1,
   "id": "c4fe85d2-bb20-4055-9572-5bbcd3fb091f",
   "metadata": {},
   "outputs": [],
   "source": [
    "import os\n",
    "import matplotlib.pyplot as plt\n",
    "from tqdm.notebook import tqdm\n",
    "import scipy\n",
    "import numpy as np\n",
    "import cupy as cp\n",
    "import math\n",
    "import json\n",
    "from PIL import Image, ImageDraw\n",
    "from scipy.special import factorial\n",
    "\n",
    "%run utils.ipynb"
   ]
  },
  {
   "cell_type": "code",
   "execution_count": 2,
   "id": "e21439ab-88f0-4ed3-abeb-ca1041542d34",
   "metadata": {},
   "outputs": [],
   "source": [
    "variant = 'RETINA'\n",
    "config = Config(variant)"
   ]
  },
  {
   "cell_type": "code",
   "execution_count": 3,
   "id": "115fbd20-38ff-444d-a204-ac01dff57362",
   "metadata": {},
   "outputs": [
    {
     "data": {
      "application/vnd.jupyter.widget-view+json": {
       "model_id": "b08acf4a5125436e836c9831f2942847",
       "version_major": 2,
       "version_minor": 0
      },
      "text/plain": [
       "  0%|          | 0/5002 [00:00<?, ?it/s]"
      ]
     },
     "metadata": {},
     "output_type": "display_data"
    },
    {
     "name": "stdout",
     "output_type": "stream",
     "text": [
      "Loaded 5000 images\n",
      "CPU times: user 703 ms, sys: 67.8 ms, total: 771 ms\n",
      "Wall time: 768 ms\n"
     ]
    }
   ],
   "source": [
    "%%time\n",
    "IMAGE_SIZE = -1\n",
    "IMAGES = []\n",
    "IMAGES_METADATA = []\n",
    "\n",
    "with open(os.path.join(config.dataset_path, config.dataset_metadata_file_name)) as f:\n",
    "    metadata = json.load(f)\n",
    "\n",
    "for image_fname in tqdm(os.listdir(config.dataset_path)):\n",
    "    image_fname = os.path.join(config.dataset_path, image_fname)\n",
    "\n",
    "    if not image_fname.endswith('.png'):\n",
    "        continue\n",
    "\n",
    "    # Following fuss with \"with\" is required to prevent \"Too many open files\" problem\n",
    "    with Image.open(image_fname) as image:\n",
    "        image.load()\n",
    "        assert image.width == image.height\n",
    "        assert image.width == IMAGE_SIZE or IMAGE_SIZE == -1\n",
    "        IMAGE_SIZE = image.width\n",
    "        assert image.mode == 'L'\n",
    "        image_index = len(IMAGES)\n",
    "        IMAGES.append(np.array(image).ravel())\n",
    "        metadata_record = metadata[os.path.basename(image_fname)]\n",
    "        metadata_record = np.rec.array([(image_fname, metadata_record.get('value', '?'))], dtype=[('file_name', 'object'), ('value', 'object')])\n",
    "        IMAGES_METADATA.append(metadata_record)\n",
    "        \n",
    "    assert image.fp is None\n",
    "\n",
    "assert len(IMAGES) == len(IMAGES_METADATA)\n",
    "IMAGES = np.array(IMAGES)\n",
    "IMAGES_METADATA = np.rec.array(np.concatenate(IMAGES_METADATA))\n",
    "print(f'Loaded {len(IMAGES)} images')"
   ]
  },
  {
   "cell_type": "code",
   "execution_count": 4,
   "id": "383793ea-d1e2-4c79-a264-6d43f01c34b1",
   "metadata": {},
   "outputs": [],
   "source": [
    "device_marker = np.empty(1)\n",
    "xp = cp.get_array_module(device_marker)"
   ]
  },
  {
   "cell_type": "code",
   "execution_count": 5,
   "id": "3083067c-b9e8-429e-a2ba-3de0e94da8b6",
   "metadata": {},
   "outputs": [],
   "source": [
    "SENSOR_RECEPTIVE_FIELD_SIZE = 8\n",
    "SENSOR_GROUP_SIZE = 4\n",
    "RETINA_SIZE = 16"
   ]
  },
  {
   "cell_type": "code",
   "execution_count": 9,
   "id": "baa40b7a-5dd3-413c-a1ee-6ea67a7cd4e2",
   "metadata": {},
   "outputs": [
    {
     "data": {
      "text/html": [
       "<div style=\"\n",
       "        display: grid; \n",
       "        grid-template-columns: repeat(4, 100px);\n",
       "        column-gap: 1px;\n",
       "        row-gap: 1px;\">\n",
       "        \n",
       "            <figure style=\"margin: 5px !important;\">\n",
       "              <img src=\"data:image/png;base64,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\" style=\"height: auto\">\n",
       "              <figcaption style=\"font-size: 0.6em\">#0 (0, 0)</figcaption>\n",
       "            </figure>\n",
       "        \n",
       "            <figure style=\"margin: 5px !important;\">\n",
       "              <img src=\"data:image/png;base64,iVBORw0KGgoAAAANSUhEUgAAAGQAAABkCAAAAABVicqIAAAJ+UlEQVR4nK2aa2/kug2GeZPsmew5LVCgaP//j2tR4GSTGd8lkv0g22MnnuwkWeXDLixbjymRryh6EI5a/ePPP/725x9/PJ1DYARwc3X33T2IyEgI4JpS116vl9frpRmOhqNDCCIiAgIe9h49ADg/9DiEaKYAzK/vR7dt+gqD7gx3zCCi3WsdMnaXEZGIjimHF5mLKbgMdIex6cRiCPOjEBRmYqJ5Td6u+J5SOhGQiIlZjlZFdqPP10REmOnOMh42RGIWEZE80w8hs3sgoFQxBGGi23zdt2RlEEsIUZ0d3N3BfX1yYwkSESERSlVVMYgwIYI73p0xh9I52xFipQbZzc3c7PZ2N4gTMTMzkdR1XcXATIsP+6E9juvCI5GEmNWRspmpKoIdQACJJUhglqquqyqGArlLcQTHZbpIQq7MgTirZk2U3dY7dxCJMUQRqaqqXiBluu4EI87TBUgs0R1ZJGtOCZPbzW22EJZQVVUIIcYqxhiEEWdDPgpGB0AkMUBkCSHnNDGCm+p7CJKEqq5PMUoVQggShGgefucrNzMAyxs4IHtAYgkx5jQxuVtGfO9dyBJjfT7VZcqEFx/+IOSXNUFyIRIJKac0BUIzzWmdrxuEJcS6Pj3VtURmZizq5cu8HCz8TSCRydnEsqY8DuCqmZmW+bpBJMRYnU7nUy2BN0p3X4ZnFwYAKK9jrpYyk1vOSXgdYoXEGGNV16fTqQ5ChOAlBP2DqPdZ3AABCAHd3UIiVE0pTcKse0is67quq6qq6loEEcCgBO0jqgKIREAA7sxgKcU4hZAX/5JTuamqTqdTiUERAbwXGvcaIiIXqoS5ZZ2DXv4+W1LVp/O5roLMalIW+wb6WJEREBdfFBYJMVZ5dnEA+Ue5SWKsT3VdBabZl8zdSnQgAM5rczhdSw8iAJAXOa6yAvIM+We5QSTEGGMMjOAG4G5mbhtLjil7IgLALMhZnTjMkH+VG4hJRESEwBzLlmBu4ADo+BBhWUVElqjqyJJmC/69mkqISIhuRUbKzrPaUUzZ5C97BIKDIZTdhSSoA0nMvoOUQc3c3dZ9bQ4T9LvrvnaVZ+YtjFgioISc95aYZss55ZzN5mla3tFvBFwGht0VAAC3YqibI3GAec4KZF6TnKc0TeMIpmZm4CV/fDiVcAAwwFWTkUTMbOddnqdx7Ady0wxuBuAEgIhe8ovb1N9bk7LfI7gDkAuRBVs2xzlOYBr7QchV0xIngEgIJSWe//0oy8Nl4wEHZCR2W/1mjngfRxFwzUmYnQwQCJecCOGBmduoHALuZWnWLhAGUE0ppawABrCBLHP+cMM3iemqwmCW0zSlSZ15C/E5aN5t9HdNw/lvveO2n+QcqynlDJjzBuIlUzPbxCbuh3zPQNidb97sjCkrkq4QQCipms4G3V51lqq9cq4hhTdf2UGYJVbZnCXrDEFEUNWcMrpBkYJlNooJ6Pf0ecPYQIglZnWUUAIVEQkBNKdE6GbqXoILEdEB59RuN13b//tNuHd5l0RDCknNAIDKtq1TGhHcMsIGsg5wxxDfqc8mgyQOBsQp78ZKYSJ0zQTuvnTQ8uK+YDZDbnJkfwdBEkeSrLMaIAKCp5HBNWci9HXlHWd1v1mxlU1HR/fbJrTLhQFIsm3WF9AnRrecJl5Tvc3Ax0u+zfreQBwJkC3YZqsCcEEwTVM53iFC0bSbpC0xt43UkvX5gXcBElKZkU3MObnlFEIQZi6ztUgB3rz5rey80YbdmfEoFQXTFGNJow5E7UPZPDgzHj6Ba6oWshHdICXXX9MHP378AHJ4A4uEEKtkjqveFCfwJTVbQXcwv4QgcwixytmBF71BQgRzMzU1c9+I2iHnlxCYUzVDDppLMBIigqlqzph9L2pHG8+vIcgcoprTkn0gIgGC5pwTTW7gbpvw/RqERKIBSky2QBDRNaWJSiZkG+X82nSV0/MsnPOsIAKkNBG6ZcKNqOEXpwuQggNJzrqMBYjgaRIEy5IQvCQ/5PTVhQdkj8Squtu0fBJy05R4TgSW2sFXLREkLgeJOeYQwAOjaZ52Nas7RciHIIgutisXIDiD55xCYCZyArhF6RcgCOjk70sG6JZSCCIsWrbHfab2SUuOnd/y7QB6lA5+DnKnSQghxBgrNding+9c7OsQZgkhxCqb0yxqMEPeJs9fh8BaEERZRY2WnQzhMIP8dEPmELM5ctTFkmVfnkum34cQSYjqwNtMDeessGwH34fAImpxrm8sXxGQ5r/fYAkiBwfklNUWvZkhpfSL9FsssYBlm9lm4kjl0wDSb7BkFjW1fTpYnOw3QgBJbKtqS/JHSGX/LFc/dRjcte0xb3cEw8WF17f5OgQ+OK7udQW75WqJnnufpT6Nd7/VjeSlMJCIiJmWst03m5qa3ioSfxUIsYiEEPD409dnGSmnlHUtdP6vQERirKoK6PCj1GdbnoZxnFJaSlH/LZAY6/p0dvqOS69Np77r+mGY0rwm/wEAAIr1+WkylOpb3ja3PHXNtem6YdxD6vPTmJHjyT56+sGWhu7yerk23WA7yOnHH9k5nNJvgNjUN5efP1+vTV9Wfl4Teuonx1g/Jf3o8cdaGrvm8vP5+fXazpYU7+JuVJT6PIzp+5Bx6JrLy/NfPy/NbEmJEx4VpTr/6MdJv+vENvZdc3n9+fz8ukBeCkQxVOe26/phPH8TMvRd1zbX6+X15TpDegAAQArVqW3brus64U1R8OG2SLFr13Vt27ZN07bt7MLzLX3V913bNtdTBC4bwt3U9oDg82dSN9fL9dq0bdf3ff+mtpLGoe/a67kWnAIxs7CwPCwyZlmzZlW11Dy/vF7brr850SojaRq65lQF1C5wCDHEGEEe1GS3nKZpSlNKmpqX55dL0w3T6qgrRNPQNTGQjk0Isa7rWh3oQZFxS+MwDMMwTCm1ry8vr003pPcfMzVNfSPsaTiFqj6fn9SJ5UG9dM1T37Vt1w1j6q+Xl0vTTwcQ12noGHVoq6o+/5jUUYI9bEke++Z6vTbdMI5te712w6TrwxtIGluw1DexOv+Y1ClUSR+FaJqG9vL6emm6cRr6tm3HdAAByyN6HqtK6qdRgWN1yg+rpeWp75rXny+XdsjjOAzDmI8+lVtG0DQG4XrIwLE+T/r4dOk0ds3l5fn1OmiplB9CXMHKYbbOLtW5H9NnIGnsu+by8nIZTEvIHFVTDUwTERKcnOtzP6b86JIAuOY09m1zfX3tYQn+95AlnQVA5eppGKakn7FE0zQMXds0/XJOPqwLrx1dNYxjyqof/SrmDcVVcxrHYegOnOUozbJxmnLOuv1VyC8YYKY552kajxzyMJebUs66HAgeo7ibac5pOuo9hOScVc0+lVOYmWpeviw+AJlri3d/5PG+ucNcknwYArvq5aMYX8uEb9v/AXcZldXr681sAAAAAElFTkSuQmCC\" style=\"height: auto\">\n",
       "              <figcaption style=\"font-size: 0.6em\">#1 (0, 1)</figcaption>\n",
       "            </figure>\n",
       "        \n",
       "            <figure style=\"margin: 5px !important;\">\n",
       "              <img src=\"data:image/png;base64,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\" style=\"height: auto\">\n",
       "              <figcaption style=\"font-size: 0.6em\">#2 (0, 2)</figcaption>\n",
       "            </figure>\n",
       "        \n",
       "            <figure style=\"margin: 5px !important;\">\n",
       "              <img src=\"data:image/png;base64,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\" style=\"height: auto\">\n",
       "              <figcaption style=\"font-size: 0.6em\">#3 (0, 3)</figcaption>\n",
       "            </figure>\n",
       "        \n",
       "            <figure style=\"margin: 5px !important;\">\n",
       "              <img src=\"data:image/png;base64,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\" style=\"height: auto\">\n",
       "              <figcaption style=\"font-size: 0.6em\">#4 (1, 0)</figcaption>\n",
       "            </figure>\n",
       "        \n",
       "            <figure style=\"margin: 5px !important;\">\n",
       "              <img src=\"data:image/png;base64,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\" style=\"height: auto\">\n",
       "              <figcaption style=\"font-size: 0.6em\">#5 (1, 1)</figcaption>\n",
       "            </figure>\n",
       "        \n",
       "            <figure style=\"margin: 5px !important;\">\n",
       "              <img src=\"data:image/png;base64,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\" style=\"height: auto\">\n",
       "              <figcaption style=\"font-size: 0.6em\">#6 (1, 2)</figcaption>\n",
       "            </figure>\n",
       "        \n",
       "            <figure style=\"margin: 5px !important;\">\n",
       "              <img src=\"data:image/png;base64,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\" style=\"height: auto\">\n",
       "              <figcaption style=\"font-size: 0.6em\">#7 (1, 3)</figcaption>\n",
       "            </figure>\n",
       "        \n",
       "            <figure style=\"margin: 5px !important;\">\n",
       "              <img src=\"data:image/png;base64,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\" style=\"height: auto\">\n",
       "              <figcaption style=\"font-size: 0.6em\">#8 (2, 0)</figcaption>\n",
       "            </figure>\n",
       "        \n",
       "            <figure style=\"margin: 5px !important;\">\n",
       "              <img src=\"data:image/png;base64,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\" style=\"height: auto\">\n",
       "              <figcaption style=\"font-size: 0.6em\">#9 (2, 1)</figcaption>\n",
       "            </figure>\n",
       "        \n",
       "            <figure style=\"margin: 5px !important;\">\n",
       "              <img src=\"data:image/png;base64,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\" style=\"height: auto\">\n",
       "              <figcaption style=\"font-size: 0.6em\">#10 (2, 2)</figcaption>\n",
       "            </figure>\n",
       "        \n",
       "            <figure style=\"margin: 5px !important;\">\n",
       "              <img src=\"data:image/png;base64,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\" style=\"height: auto\">\n",
       "              <figcaption style=\"font-size: 0.6em\">#11 (2, 3)</figcaption>\n",
       "            </figure>\n",
       "        \n",
       "            <figure style=\"margin: 5px !important;\">\n",
       "              <img src=\"data:image/png;base64,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\" style=\"height: auto\">\n",
       "              <figcaption style=\"font-size: 0.6em\">#12 (3, 0)</figcaption>\n",
       "            </figure>\n",
       "        \n",
       "            <figure style=\"margin: 5px !important;\">\n",
       "              <img src=\"data:image/png;base64,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\" style=\"height: auto\">\n",
       "              <figcaption style=\"font-size: 0.6em\">#13 (3, 1)</figcaption>\n",
       "            </figure>\n",
       "        \n",
       "            <figure style=\"margin: 5px !important;\">\n",
       "              <img src=\"data:image/png;base64,iVBORw0KGgoAAAANSUhEUgAAAGQAAABkCAAAAABVicqIAAAJ8ElEQVR4nK2a2XrjqhKFawQkO3u//0t2x4NmoM4FSLHb8o7jPtwknwd+LVAtFsgIey0c//n495+Pj0Oryghg2ZKZ3X0GkYgIASwuc385nz4/T6dxtzvafRUREQEBd9/9ajdYRETc7+0JhKhStn5s93N3DCL+CYSIiBBvdOwyDMCsjCIiEjOLvA5hLlJw7f87HQBIxCKqu2/uoVGYiYnqnDwnWLkCA0QiZnXOx+U7SB0fERFhJvxu3m++iSzq/JJsjJv27eo2CAIilOkW71SFifAFJVakMKtfkiFLMsuWs+W8ffNLCSIREiGheO+dVi1mCPBnjcAKzwgG2QBJXMrE4kLKOaUYU4T0OFxITMxMRBJCcE6FaL2HbUePoYEhAFg2Q9IMpC7MU8wxzvMyg+VHJUAsrCzM4n0IXlXo9vZ6pAAYgoFZNmRAdXFZljnFZRrHEfIm5F6JqFMVFu+9906YEOpw7U6MmaGVUkFhgWwpxSUt09B3ZCnuQIhFvXdORbxzzjsVQoT1Lv1q2xgaZLDyXplMAksxLcPVMaRlxgcIIolzwQen4lSdijBj7d7AHsSYQV4LnohFVYTRYpq7oJiWiSk9QEhUfWga51RFRUjobub3hisXCAGpC957ZUxpujjKcRp0c5MNQszifGja4EVZiKt7le73Jh7MzLKBESBraA5tExQtjY1AnIZeZXqEiBZIECVGWuv/qQ0XfwQDQGL17fF4bDxbGhymaeiC34xshTCLOudDaBqvQohoYBmglMIdYv0fDdDQEIhYnW8OHx+HIJB7ilN3PbTB63IPEVVV55z3PoggAmTIYLvDtLZ1ZWPRMgjHY1DIksbueGibpmli+XJdAVC3JiJSrh7xGaDIQyQ0BGKpVxdCAOB2atvD4XA4jlMtSAkF4kOtERZhBgCjjPBIqdIMARDIEBCZ1ZXydQ4AQENo28PxY5gTV0hbIM4Hv5ov4R/94s3/1XmrZSMRsaprmuCdqzet+tAePoY5o6+QQx0u78NqvQC3NX4/57beUCtBWNRp0wTvhMunxIXmOMyJtM3lhWN5Q50P3jnhWhu2+RXa7VpvZrnctQjELCqqzmlogtcVwurb4xRB/HAHQVHnglMhLItHKWUDgPtcZNkymJXRYnWlqQ/BKddPorjmGI39YayQjypRVF0xXrO8DczDvNeGZIAk6oIPLjhxLjjZIOzCIaNrjvO9EmZWUWVCy4AABvmegeuyYtnADA2QRX1oGh88i3NONq8iDRklHKbZ7iBEJFx9N+OjkvV2ros6lvXH+dC0TfDMrCrbuJIEYNfMy1qMh/o6EhETEUBGvJ/6OlJfQwYAgF+QxhMxyZYfjRRI/ZJiXYBrnQACEiISgn3Zle0gABCs5CxR9SE0TRMQCW/KixhZU87riNeKrxxAwCdrbZ0YRDIEIxYW0eomnuAunhOarAUFACD3wfKFXI0AACRSrc656ia3Uv9IhVtELrOAezK2VxCQip2wSDErp/okAN9CeO2oRgL70xRXSwQsGGQiFCnrbXG7byE35rcttneeWPOjASIgEDIyk6q40ATvVNbL/C9I/YuGzzYhVucQkYCIhVRYnaoPwTsV+lYIfE3Jfend6chmq/GylMTktFiqbmbyX5BtgGw/Vq8YgOpXToPzzquoel9t+ztI3rqqAe5WUAmKVQoClSpvgg9OWcXpS6O1KammdDcv6yVWJQAAJOp8aEPwyswq8spo3SipKnaTNZQbDolYXWiatvFKRMzrQvqykts/5f/b72PZGJYE2LRei139GQhegjwogBoarOyhVZ33oWm8Aq77v9chTxsCUiYAZJEtAPotg76yed3f3df2leHq/vamvb4zfgq5z3AAQEgirkQ4VZGfMJ5A7jMcASETi6pvwoue+D3kIcMx1wkJwXsn/P+A3GU4pBJktJqiU/0h4w/I187qK8MBfWU4cT54/amQx7OVza9uM5z3wXvvRFTLrvhvlNR2n+FInG9CE7yvM/NTIc9v4dsMpy60TRN8CfHykl+9AIE/M1xom8YTEjH9mHEPuQ+/txmubIvLDV0c4G3I1v9NhpOS4YL3wRPAK2esr0FuM9xtiPtp5xvk9khgtfY3M9y3ELhbFt/LcN9C0Gw7xHg3wz2H0K2Mkq/ezXDfKilizDLA2xnuWyV59RKDtzPct0rQ1hiH+d0M9xzy9e8arfHdDPcKZEvD72a455A11K1nllBOTN7JcM8h9cTTci6pevXENzLcc0i8UQKI9hcZ7jmkHhOWTRAiriv6GxlubXVrdrPFXp+nYdlIMas6H4ph/TDDbZCcckr55rCgrwhiEqoD5ZqmCc7pu36V47IsMca0Hnt0BcKiwigu+OCdhnJI9p4QsLSM0zTNc1wPcK4AAEDiMihJaJu2UXHBN/7mbOmHLc1j3w/jOM93EHQJOJP69nBslbU+dXiPYWkerpeu68f1UO1SlAQjNRTffnwchKU8Q3gTkuPUX0/nS9evx4N1uBJIyCguHD6OQsT841R9A1mm/nL6/Lxch3uIkVsykAvN4ShAhERvG29axv56+v3rdOkqpNxdjNIsCYidbxpGWJ/8vtWWaewv59+/fp+7evhc6oTJzzFmIFZ1f7N0AECap6G7nk+fv0/XCikVzzrNS0zZDP7KCgEApnHo++56uZxPlwopBpmXUqMxpRS3k6OfdL0GKkt93/dd13XXrutqncAGmadpHIa+Y8Y19L6qytZHsZYtnS+Xa9f1wzAMq0HWj6U4z9PQd2cnSdbVkF9eq3KOKaaYUsrL9dfn6dL1wzitT7RXSI7LNHSXxpENUs75VU1elGI5LvM8L/OypOX6+evzfO3HeXtqvkHSMg2dV0pzq+Jc8D4YvFoqlpdpHMdxHOdl6U6fn6drPy4PD5gtLVPvhWwegnO+adsmA/GLXm8pzkPfdX0/TstwOX+er8O8A8lxGhQtDlfvQnuYlozPfvKwpyROw/VyuVz7cZq67nLpxzlte6qtmxzngSxNXaO+PXwsGVl9tv1OH5Us89idT6fztZ/mcei6blr2IQhpHrwXf/hnMRQXllchkOM89NfT789zN8ZpGsdxil/HdTcQLEMmHD6WTOqbOaZXleQ0T/31/PnrdBlTXOZ5mfcglsDSLMJEYc7kQjst6eXhymmZhv56/vw8jzmVkvn67hckWy5P1bExcu1xnJdXhQBYiss0dNfL6TTAWvwPEDOEVI/jI7nDMM5L+omStMzj2HfX67A+Wt9RcvN678dpWmJKTw6j9yiWUlymaRz7/PjuXknnaZ5jjOnmlyffMSDnFGOc52mHsf9bonmJMZUA/mIzs5xTjMu89+4uJMaYUs57F/W05fKbmLj33i4kp5xyvn8Q8d/NDCznlNPuhe3bbN5+x/FyMzOzJ+L/B93ogWenhKhLAAAAAElFTkSuQmCC\" style=\"height: auto\">\n",
       "              <figcaption style=\"font-size: 0.6em\">#14 (3, 2)</figcaption>\n",
       "            </figure>\n",
       "        \n",
       "            <figure style=\"margin: 5px !important;\">\n",
       "              <img src=\"data:image/png;base64,iVBORw0KGgoAAAANSUhEUgAAAGQAAABkCAAAAABVicqIAAAKBklEQVR4nK2a63LjPI6GcSQpJ/3N3v/97cxW7VZ3fJAsiQfsD1K2rMjdTnVUqXJiSnwIEHgJUkHYu8L7Pz/+9c+PH28HVUYAK5bN7OEeRGQkBLAc49Cfz6fj+XQZ97qjXQgiIgIC7rbuPQDYHnodQtQoAG34tnfbqq0y6El3+wwiehjWLuPha0Qkon3K7pfM1RRcOnrCWDViNYT5VQgKMzFRm5PtjD9SaiMCEjExy96syEPv7TsREWZ6Mo27FyIxi4hIavQ9CALWyQMU71SFie7+em7JjUEsqi4bG5iZmd0fvFuCSIRESCjee6fNFjN86jGD2giIxCLqfC6QrBQrpZT7IysIMTEzEUkIwTkVoiWGbdcew9vEIzGry9mQUik55wxWdiBALKwszOJ9CF5VaB1enyiGYLi4i1hzLobEKeeY4prxaImoUxUW7733TpgQmrueJCM2dwESaymAxJJS4ohQVlFzhxCLeu+cinjnnHcqhNgM+V0yGgAiixkQi7oYI5OVnHYgiCTOBR+cilN1KsKMrXsD+2SMoQHWERgQSR1mnNI8E1rJET9HF5Ko+tB1zqmKipDQw8w/8dcyQkAS0ZRcnEeEnBPvQIhZnA/dIXhRFuKmXrb4ZWfi7wKJTMaWc85zGhlKzlH4NvUriGiFBFFipCX/n8twC+FqCgBAKSVrYiolxThL3EKYRZ3zIXSdVyFEtBqF9pustyZuVegBwUrRiJBzjNHFPG8goqrqnPPeBxFEgAIFbD8L15jFEiIgADNmKDHOMaVs0ChSKai3S0SqlBribwGbC5Gq+9T5GFPOhiy1Awn1Dh9ajrAIMwAYFYRdim3+QAAArH5FIGZRn4oB67RYcqgQ54NfxJdw0+lmidyEggECFLSCdf6I1Wcgcd2cmiVvzV3eh0V6AdY5vh24reO5rlgGSNkIasgjazFWP8fUsl7e66c6H7xzwi037KZXbXw3hq3abqYYIFhBBDQDEmCXUiq5PEBQ1LngVAjr4mF2i6wH55m1n7WNaJixLAWOobCaWbm5Q360T1F1VXjNSlWrJyuVfVIyQ2uVVy2MEFshsqznzRJmVlFlQiuAAAblkYGrwS8MW7U1owmJSKSKH9MjhIiEm+4W/GzJJpwf3XWbRQQjIBLvvXPqWhIu0VVHwEQEUBAfp37VL95mydaTVSeyoAEgIKvrutB571qB1PIEEJCwJe1NrmyDaAA03K4uaKU+aDVPwuHtEDrvmiVh7RFAwGdrbe0LAXCn3QxrdUI148Ph8N4dvG+W6OPNz7q/27Fb2JqVYgUASESd9yF03eEQFktuC4qBwc0P+7Cm6EvB/wTinffehxAWBgivEAYAK39vlAWX0h03Jf8GEroQvHfOLQyQrRjef7HNb4hVZJmJeQuBG4RDaIp+a11+Q1uicylP7kVdMw2JDJFFVFg2GxEzaxAW77vgnax2EQtkmxNNB6skWq2tAAGIVZ2q8mb+rdTcRWbnQ/BOVneIrft98NEit3cIATKrC86rPO52DKxAAQAiVg3eiaxWJSmr+5ahQ11PFowVMACkWsSpD8F7kS2kWUIk6px7MHVlyW2K8SGsrD1uWMtRdb4LQR8hiyMACFnkVqxvLXksFWsA4GoIlcHifAiH4D4lcZ1VRCQSZuE15JM+WUPgOuSWx1lUnQ9dt4GsR1d3wbRaUdeQ1b14U8HbEofELA3ig99C7k/WnTA+seR24WplN7NSzACQRaRWgM77z5DPfdwhnwZTyyegeuqBa8i6AvzCznhtyZIi2BaXevRhBguEXV3xVET2zzf+ALlHFhrVnX/dPZiZLRD1XfDOiewfPDyHLCG8BCEiFgJiYWFhwmoJAACzuhCCU+UnBzUvQO46WJNOVYTJwFrdQqzqg/fui85au6vVbPWci0Sdd+qYzWCRFRJx3jvdSvBXLKkKB4TN/8F7J9wUEury7dR5Zf5KaMFK6tt5CGDbzKoLIXiVRfbb8YnoRpe+AmkkAKi7bXHed11wso4IrPGwXRZfhuBKfZCIVV0IXedlJc5VvYi2C9afIe0BWwoupHpy5ZwPXed1tWLey+mvWtJMMbOquViPxlSd8z747aHbl85YdyDFykoHF5H6aoe7kLCFkLhaNamqfAvjVtWbWbFsYMjsnA91k/o9DJB/6mcxK6UUsCZRbSf8TZB/LZBSSilmQKQaauX01cz+E8SK5VKKFUCS5aTzmxgg/1U/i5VScjWFRb3zX9fB55C7u3Ip2YoBMKuq+7oOPof8uEFKyfU0l0hYvm/a7yFcrBTLtf5HZCb+ug4+vTDXz5qMxYpZLePqbuebIKtq5b6mtC3bd5myOdFa//VdzgLAqXXYRv8dV3vncD+AkUv9pPo+4FsmwUouOTcBAQCQX7WBm8J/C6WkGGNKKbfXG/K/9XtR57wv6H7z7KuX5ThO0zTPaTke/B8AAEB1oesORl+t23avPI/DcB3HeW6Qf1eID4e3twzsvsEUy/P1cu77YZxrVSf/DQAAFA7vYwTS8A2Qkqbhcjyd+2F8gHD3PswZ2Xfd3/urxGk4Hz8+zpdrg/wHAADo7ceUTdxhiv6vITmOw+X46+fx3DdInXh+H5ORD2/v899D4jQO59Ovn79OfVVG+b8KGaOx6w4/ruPb3/orz9O1v5yOH7+OlwapycgJxIe3frhex8NfQqbxOgz95Xw+Hc8NcgUAACT13Vvf9/3b0NZ2/JpELhWz5WEYhr7v+0vf9y1P2i1Xf70OfX85dw4YCdvL0xcl874aFcun8/nS98P1er0uAtlui9N4HfrzIQjOSsx1z0ivbkBLSTnllHMu8fLz43juh+s4Le+bbjVinMfh0nnFPCirOnXOwavbHSspzvMc5xhzvHz8/DhdhnH+9E6rBrdTytNF1YUQQjagP52u3iBxGsdxHMc5xv748XG8DGPMO5D5ehG2OHbqw+Hwlo341YLbcpqvQ98PwzjF6/n0cbpc5x2I5XkcGPPYex8O73M2FC0vW5Km6+V8Pl+GcZr6/nwexjnfHl5B4tRDideL84f3ORupj/lVSI7z2J+Ox9NlmObx2vf9FHcgUNKElibvJbxNGdj5LpXdLneukubrcDn++jj1Y5qmcRyntPc+viSEHCcVDmMCduEw59fdledpuJw+fh7PY05xnuO8C7EMJc3CTCGZ+MN1il+BxOk6XE4fH6ex5Joy92dXlkDJkQgJOuNwuE4xvTolAJZTnK795Xw8XmFJ/s+QduIKAJjZv43jHPNXLMlxHsehv1yuy6nWniX3hsGP0xRTzr/7r5gNxXJOcZrGcdgJlr3Fo0zznFLKpfzxfcptfKXklNI8T3sBubtCzTGlXMpv/79nQzErJacU573WXUhKKedSXs4SgPrCP6eU9tp2ISWXXMrtZPyFywyslHx7EfsCBEpZTuhfvszM7Inx/w8q+fNP3o94mQAAAABJRU5ErkJggg==\" style=\"height: auto\">\n",
       "              <figcaption style=\"font-size: 0.6em\">#15 (3, 3)</figcaption>\n",
       "            </figure>\n",
       "        \n",
       "    </div>"
      ],
      "text/plain": [
       "<IPython.core.display.HTML object>"
      ]
     },
     "execution_count": 9,
     "metadata": {},
     "output_type": "execute_result"
    }
   ],
   "source": [
    "group_sensors_img = []\n",
    "captions = []\n",
    "steps = pow(SENSOR_GROUP_SIZE, 2)\n",
    "sz = RETINA_SIZE * SENSOR_RECEPTIVE_FIELD_SIZE\n",
    "\n",
    "for i in range(steps):\n",
    "    canvas = Image.new('L', (sz, sz))\n",
    "    draw = ImageDraw.Draw(canvas)\n",
    "    draw.ellipse([0, 0, SENSOR_RECEPTIVE_FIELD_SIZE - 1, SENSOR_RECEPTIVE_FIELD_SIZE - 1], outline=0, fill=127, width=0)\n",
    "    angle = i * 360 / steps\n",
    "    draw.chord([0, 0, SENSOR_RECEPTIVE_FIELD_SIZE - 1, SENSOR_RECEPTIVE_FIELD_SIZE - 1], angle, angle + 180, outline=255, fill=255)\n",
    "    group_sensors_img.append(canvas)\n",
    "    captions.append(f'#{i} ({i // SENSOR_GROUP_SIZE}, {i % SENSOR_GROUP_SIZE})')\n",
    "\n",
    "display_images_grid(list(map(lambda x: x.crop([0,0,SENSOR_RECEPTIVE_FIELD_SIZE,SENSOR_RECEPTIVE_FIELD_SIZE]).resize((100, 100)), group_sensors_img)), col_count=SENSOR_GROUP_SIZE, captions=captions)\n",
    "\n",
    "# canvas = Image.new('L', (100, 100))\n",
    "# draw = ImageDraw.Draw(canvas)\n",
    "# draw.chord([0, 0, 100 - 1, 100 - 1], 0, 0 + 180, outline=255, fill=255)\n",
    "\n",
    "# for i in range(steps):\n",
    "#     angle = -i * 360 / steps\n",
    "#     canvas2 = canvas.rotate(angle, resample=Image.Resampling.BICUBIC)\n",
    "#     group_sensors_img.append(canvas2.resize((8, 8)))\n",
    "\n",
    "#display_images(group_sensors_img)"
   ]
  },
  {
   "cell_type": "code",
   "execution_count": 192,
   "id": "7b0d1921-5dbf-4553-ad87-56298f907899",
   "metadata": {},
   "outputs": [
    {
     "data": {
      "text/plain": [
       "((16, 128, 128),\n",
       " UniqueCountsResult(values=array([-1.36363636, -1.26086957, -1.16666667, -1.08      , -1.        ,\n",
       "         0.        ,  1.        ]), counts=array([    44,    138,     48,     50,    104, 261312,    448])))"
      ]
     },
     "execution_count": 192,
     "metadata": {},
     "output_type": "execute_result"
    }
   ],
   "source": [
    "group_sensors = xp.array(list(map(xp.array, group_sensors_img))).astype(float)\n",
    "shape_save = group_sensors.shape\n",
    "group_sensors = group_sensors.reshape(SENSOR_GROUP_SIZE*SENSOR_GROUP_SIZE, -1)\n",
    "# Due to rough granularity count of positive pixels and negative may be not eqaul => equalize via weight\n",
    "group_sensors[group_sensors==255] = 1\n",
    "counts_of_positives = (group_sensors == 1).sum(axis=1)\n",
    "counts_of_negatives = (group_sensors == 127).sum(axis=1)\n",
    "white_image = xp.ones(group_sensors.shape[1])\n",
    "\n",
    "for i, (p, n) in enumerate(zip(counts_of_positives, counts_of_negatives)):\n",
    "    assert p > 0, (i, p)\n",
    "    assert n > 0, (i, n)\n",
    "    group_sensors[i][group_sensors[i] == 127] = -1 * (p / n)\n",
    "    v = group_sensors[i] @ white_image\n",
    "    assert xp.isclose(v, 0), v\n",
    "\n",
    "group_sensors = group_sensors.reshape(shape_save)\n",
    "group_sensors.shape, np.unique_counts(group_sensors)"
   ]
  },
  {
   "cell_type": "code",
   "execution_count": 11,
   "id": "0d46f2ac-0a79-4a60-9d7c-66ecffad1524",
   "metadata": {},
   "outputs": [
    {
     "data": {
      "text/plain": [
       "((16, 128, 128),\n",
       " UniqueCountsResult(values=array([-1.,  0.,  1.]), counts=array([   384, 261312,    448])))"
      ]
     },
     "execution_count": 11,
     "metadata": {},
     "output_type": "execute_result"
    }
   ],
   "source": [
    "# group_sensors = xp.array(list(map(xp.array, group_sensors_img))).astype(float)\n",
    "# group_sensors[group_sensors == 127] = -1\n",
    "# group_sensors[group_sensors == 255] = 1\n",
    "# group_sensors.shape, np.unique_counts(group_sensors)"
   ]
  },
  {
   "cell_type": "code",
   "execution_count": 193,
   "id": "5bd350e3-1d36-48d2-b0c5-2cbb8e7b33a3",
   "metadata": {},
   "outputs": [
    {
     "data": {
      "text/plain": [
       "(array([26, 27, 29, 28, 26, 28, 29, 27, 26, 29, 29, 30, 26, 30, 29, 29]),\n",
       " np.float64(28.0),\n",
       " np.int64(26),\n",
       " np.int64(30),\n",
       " np.float64(1.4142135623730951))"
      ]
     },
     "execution_count": 193,
     "metadata": {},
     "output_type": "execute_result"
    }
   ],
   "source": [
    "group_sensors_ones = (group_sensors.reshape(group_sensors.shape[0], -1) == 1).sum(axis=1)\n",
    "group_sensors_ones, group_sensors_ones.mean(), group_sensors_ones.min(), group_sensors_ones.max(), group_sensors_ones.std()"
   ]
  },
  {
   "cell_type": "code",
   "execution_count": 194,
   "id": "b78cca41-6f73-449e-97ae-fa8e7d07237b",
   "metadata": {},
   "outputs": [
    {
     "data": {
      "text/html": [
       "<div style=\"\n",
       "        display: grid; \n",
       "        grid-template-columns: repeat(6, 100px);\n",
       "        column-gap: 1px;\n",
       "        row-gap: 1px;\">\n",
       "        \n",
       "            <figure style=\"margin: 5px !important;\">\n",
       "              <img src=\"data:image/png;base64,iVBORw0KGgoAAAANSUhEUgAAAGQAAABkCAAAAABVicqIAAABsElEQVR4nO3WMUtbURjG8f+5VRsCReLgWFBCESGQqVM/RBBNpn6GOwj9DN6LRT9Ep06d7p0U4RSETJ0cOhgdU0hBRG8a0zydunQrnBPw8v6HszzDu5zhB9Z/5MZTYHX1EUga0wXQfHoCGgQchpJ0W0rSrJxJUnkrSZeXwYYh64V03SWTtM++pIzutVQ0m8GGdcfGLj++wztmQ3i7xld4s8nVz5BDbXKfFkDifgMuWQh4oQWQEG5wAmC29u8rXKgBdkbSw4ALSRmZpAsGD9JoayvYsOPo9rj6zKtDHnP40OTjPf1dvnwLOdQm934ZR7SEI8lgDmSdCXDeOQcmnQyY93rBhgH0vc+h7X3hcIX3bci97wcdapN7vYwjS/ldpwBlCnCT3gCkJUCeBxtO4aiqzlrsVdV4m+1xVe3ROquqo5CDgwbzOTTQL3jpmMLKClOCDnXJcGe4i5fhznAXL8Od4S5ehjvD3TPPcGe4i5fhznAXL8Od4S5ehjvD3TPPcGe4i5fhznAXL8Od4S5eNcLdCUCRChilI0BpAX+pFmQ4gWPJtziQ7tq076QDWl46Djn8AcfBC7Jmki2eAAAAAElFTkSuQmCC\" style=\"height: auto\">\n",
       "              <figcaption style=\"font-size: 0.6em\">#0</figcaption>\n",
       "            </figure>\n",
       "        \n",
       "            <figure style=\"margin: 5px !important;\">\n",
       "              <img src=\"data:image/png;base64,iVBORw0KGgoAAAANSUhEUgAAAGQAAABkCAAAAABVicqIAAACUUlEQVR4nO3Wv0vUcRzH8edXj9SLsAvvggoHuSIk6CCRhqZoq0BEL4wEiZbaImiJiARTT0OpxqRoiXLoB3YVJZkfKbJBJ41AzyyoMyt/oF9N5dXg0h/w+QrK5zW8l+f6Hh6wYXYNgCthgFNlAPvrAPLqrQU8jQM3aqPL0DtdOwVT7R1fgfOd32yFc7yXpLEuSVrsWpCkZxlJetdnLXygMC2NJmiWVEWVpGYSo1I6HLYWCj22lTLxGQ7xtx/KN9EHe2IM/bYZ1mTHATgGwMHtAMVlALlHrQW8xQfA3frvPnyMHR6BmSe33wKNJm0rXGZOkrJfJGllWJI0KEkanrEWPrE3I82dzOmR1JLbLKkndGJOyuwusRb2eSQqGHrIlgvMp+BimOuzJEt5PGgzrMl2ArALgGgIYPNWAHbYC974JaC349EMjByJ9oOfvXoHeGEabIVOVr8gK0k/ByRJr/67VsJLkkuS2hKTknoPdEv6Vd4kaammwlqog6QxKYgbk/bw0sbEIWVM0mrYMPNenwZ+3Gv8A7NnJt7ASnFNKzDZedZWGF/9rvujkjTwVJLm2yRJKXuhIacdIHYLIGrGgILsc4Bwi7VQBE2+3x2h0vezJZRkfb+SSLfvN9kMHuSzvAz5aBHyPBYgFGIBq2Et5nDncBfcHO4c7oKbw53D3fqew53DXYBzuHO4C24Odw53wc3hzuFufc/hzuEuwDncOdwFN4c7h7vg5nDncLe+t4Fw1wYQuymgyGSAgmwaoKDFWiiCVslEqJam48SnpWoiRmq1Gf4BRETZOko2yw8AAAAASUVORK5CYII=\" style=\"height: auto\">\n",
       "              <figcaption style=\"font-size: 0.6em\">#1</figcaption>\n",
       "            </figure>\n",
       "        \n",
       "            <figure style=\"margin: 5px !important;\">\n",
       "              <img src=\"data:image/png;base64,iVBORw0KGgoAAAANSUhEUgAAAGQAAABkCAAAAABVicqIAAACdUlEQVR4nO3Wz0vTcQDG8eero9QKmUEIyrKxLALJCqtDXboLEro6uBDCY1b0g4JOHcoNK4KyQ4Y28NIignRBIERfixLDKPFg5poVy0pT+vE1M9/9DcJnIvJ5rq/rc3hLy2aJRJWk84lGSbWJq5LKE4nVUk6nMZBgMt0ZGGE2/brkJqTTVWH4lG4KGoOjZXoG8L4LYKbrN0D3O4CnrjF4ocIkjFYqCtSqFoiqchSSqwqMQaGjoi36Mizt0WyftHOFeqXydRqaNAmLMadRDz5L1cVvnks7tk8lpOJq3ZR8h3JNgQTP4sc0wId4qy4wH4/7d8Pd+D6ToB8Agx8BRoYBMgOzwM/+KWPwUptT4NXnPAau5EaBXt+BXzC2aYMxqHBUWaOhO1pzQr9j0ukCXfqh8Bbdf2USFuVdG5Wak0rzJyaltUV/xqT8Ur2VcoKOKZDgWmSvnuJG6nSOiUjE2QpHIuv1zxSUSQBf278D3BoEuPsQoL/DHNxW+C9wfes3oG9HD+DtagaorzEGh6Ww68akkOsmHTlJ1w1JMdcNG4Xls0ymIVCke5kbgRI1ZfoCAVVkMtsCK5UyBwIYqP8MeAcfATRdBGhvMAYdDboC4B4HmDiVAjibBLgRMwZtUrPn9fi13/PGgwqOe95++Xs8r9kkOFKe5uakPPFHWuloRvL5NCOjsBizcWfjLmuzcWfjLovvsnG3ALBxtxRn487GXfZm487GXdZm487GXRbfZeNuAWDjbinOxp2Nu+zNxp2Nu6zNxp2Nuyy+y8bdAsDG3VLc8om7ywBPjs8D306OApzpBmiNGoM2qQVcv+pgOqTQNNTJ70KLSfgP6mGw6DykE9wAAAAASUVORK5CYII=\" style=\"height: auto\">\n",
       "              <figcaption style=\"font-size: 0.6em\">#2</figcaption>\n",
       "            </figure>\n",
       "        \n",
       "            <figure style=\"margin: 5px !important;\">\n",
       "              <img src=\"data:image/png;base64,iVBORw0KGgoAAAANSUhEUgAAAGQAAABkCAAAAABVicqIAAACrElEQVR4nO3WQWjWdRzH8fejbXvaTN0Q28YwdBOXzNig6WNbWp0dlFuPGQl6EJLwuRR5qIhMYhtzQUSWCoFH6yAMH4SYmP9tpojoxUPgxlojDB9xrHzaM/PdxS7hguBnp9/n8L28r9/DC/6P5TIAO94A2JQDqM89CSzObQ4VwKl24Jp7gV6/BLb6wxJIhwugt6/UVl60NNm+/JBOvrlyq05/Xbv0frBQxpjqgQ9Vz75yVy1tuKHacSZYeI5leR3fRJ/6Gj1qP63jml9RFSzUpVj6DL/+CJ2ULsHGckagqZbrt0OGluUAjY0AK1sAKlsAUhuCBfD7WuDKnQxwyN3AFr8A0p4PFUDHPoNRp07U8JF/nujkef32LSrmggWYVW/sOan+dHy/WrjaUdL5ifbpYKGV5gkt7eScepg+dZQdv+vPa1YHC0+naH2Z6yd54m3u9sO7lRyeJbueU1dDhgWXChcoHHkM+O5aDXCg0AJkCnuAilvBAujn3TBmsivFQQu7GujU/ZspKwULoHr0pXPqN/s+UC8MvqD+cqx5LlhYTXZefeepW+qZFcPqb1W9qq3bgoWNkE2S/kU0JUl+Mal8kqyF/iTJBgwLP0TQDe0FGPwK4PWhSmD90LNAebgAlnbXw2WPrIJPvLyqjC3OtFVT7nyoAOpsT+NFNZf5WD3a9aJ6qac+XKjhU9X3u1RH2yZUG/KqmYPBQgf0FovDdWwvFm+uY83NYrGb6uFisTcdLlSlIM29e5DGOShfxB9A+sENFSLuIu4i7iLuIu4WWMRdxN2jW8RdxF3EXcRdxN1DQ8RdxN0/F3EXcRdxF3EXcQcRdxF3EXf/FiLuIu6IuIu4C72Iu/+Eu0HV97ruqyNt46oNp/VvqgUJHTCgSR2v6kwzTTOapTrRgcfDhaq/ALW9F107+vOGAAAAAElFTkSuQmCC\" style=\"height: auto\">\n",
       "              <figcaption style=\"font-size: 0.6em\">#3</figcaption>\n",
       "            </figure>\n",
       "        \n",
       "            <figure style=\"margin: 5px !important;\">\n",
       "              <img src=\"data:image/png;base64,iVBORw0KGgoAAAANSUhEUgAAAGQAAABkCAAAAABVicqIAAACr0lEQVR4nO3Wz0vXdwDH8efX5revrpxWWCwpNIX4YiG2MqlvBTtspxjDdIuIOkix6AsS1DnIyqi2QT+ow6S61SUmeRlC7dOyX/SDjQ6DigrmchmV5De1eu6y0yjY4F2n9+vwujz/gQe8j+UXA7StAWjKA3ycnw5MyDeHCuCDU+Vw01NLYJc/boIVXjwEJeECqL+WcUWfLKBTxzeSU7s/KA4WiuGCeiPbpY58+vWIurnutnq8vC9UODGVj3r1fo4udR0t6gEa7mjf9A+DhaoUZfMZ/B2WMnYZFqU5D7UzuPU4ZKgvB5gzB6CyHqC0HiA1L1gAz7Wn4NqT9irYYccSWOahryDjz6ECqN1wXi9NYbv+sZScuonMi2ABhtVjk8+ov03bqg4tbBzT8c3pwVAhn2buXR1t5azaRZd6lrbneq+6OliYm6LhC26dZPIWRvbA1lL2DdOa5fSNkOGtS4ULDB2uA366WZeGbUMLpsLiofWzYeKjYAHUDfCLHi1iu16sIqfPmikZDRZA9Rsuqd3sUPvLm9WBZUWvQ4Xl0Dqur9bUPFK/r+xT+0t2qwM1K0OFP7PQmiR7i6lNkt6JpHqTJAt7kmR1UcjwXtbTDrD/CMDqnlIg2/MJkA4XwLGBRrjqwEbo9OEPxSz36fUKShwPFUAdbuKauoFd6lFy6uWqCeECfKv+9XmLakfTXfVEZa96debOYKEadhcK52bxZaEw2EDNw0JhLRV9hcJ3k8KFshRkePkSMjgK6SJeAJl/PlSIuIu4i7iLuIu4e8si7iLu3t0i7iLuIu4i7iLu3hgi7iLu/r2Iu4i7iLuIu4g7iLiLuIu4i7gLFiLuIu4i7v7LIu7+F+72q4OftbxWOxbdUY9XnlGvzOwMFqphr/bPZpU+a6T2qa6nItGDk4KFA2V/AyQAIV7j8k/6AAAAAElFTkSuQmCC\" style=\"height: auto\">\n",
       "              <figcaption style=\"font-size: 0.6em\">#4</figcaption>\n",
       "            </figure>\n",
       "        \n",
       "            <figure style=\"margin: 5px !important;\">\n",
       "              <img src=\"data:image/png;base64,iVBORw0KGgoAAAANSUhEUgAAAGQAAABkCAAAAABVicqIAAACzElEQVR4nO3Wz2vWdQDA8fez53F7tpq2xR5qKhFNk5kmT9DTmM+K6hR0Gs0aKHXa6Jl20NyhkzCRRyTJi2TgjDqE4Km2QzXQaq35xA4NIhQ3CNzCH6XN9nU+7nl36xR0+Rw6fM6vf+BFZj0AmwHoAKCtCSAgcLKyHui/WgQKc3uB9olPgfQHwQC08hDMuNgNR6yV4AUdhcZwAOpsCxW99QyHtTqYLqqjTQ3hAL5Xxziq3uKNZfXJTVfUfZwPBe/AunH9CsqaQK+6nR1zup+14SBF65a6338mVchUpyHfxMwyTzySmlsICW+dAej8rhnITeSBphN7gdTuj0MB6EcpmHZqA4z4Rzf06ABkV4MBqKMwqdOtHNKFnRTVEtmVYABL6oeMqT9xUL35WP6eVnenroeCPbBlXi+QPq9CWX2a1//Sg2wOB5lfXulLXWL15fdSCQxff5BFPru3LXWBS+GAfAkgexyAcgPAm10AO4aCAXdWB4BxT9fDsLMPw3PVJA8NN2qhANQBmNRTdRzSHzZQ1NtdNK4EA1AdYlo9w4g61dalLr6YrgUD6KvqN2y6oZKbULc3ltVhesNB5uzdd5ni8razLHHtpS/WcScZvt/DFc71BgNyPQDsAqAXgEI7QFs4oHKtCzi2UgL6lz8BOn+dXQv1k8EA9M88XPT+IBzW02t4XmdbaKwFA1CXuplRBzminnqgqF7sWBMO4Lg6wS51hcK8ujU3rh7gaDiAkSQ5B68myVXY+FuSbKX5yyQphYO3oe7RTLYeHiebhY3pbDZFS3NDNkNdezDgZKUd6F/YCRTmh/inaid+DAUxdzF3xNzF3MXcxdzF3MXcxdzF3MXcxdz9N8TcxdxBzF3MXczdv0LMXcwdMXcxdzF3MXcxdzF3MXcxd//H3L2vfk1fTe/y7JzamRtT91MOBQeAY/o5vKY3oeO2PkXrt7ovJPwNYtHD5TlMmVMAAAAASUVORK5CYII=\" style=\"height: auto\">\n",
       "              <figcaption style=\"font-size: 0.6em\">#5</figcaption>\n",
       "            </figure>\n",
       "        \n",
       "            <figure style=\"margin: 5px !important;\">\n",
       "              <img src=\"data:image/png;base64,iVBORw0KGgoAAAANSUhEUgAAAGQAAABkCAAAAABVicqIAAACz0lEQVR4nO3WQUjddQDA8a++N/szehpWlo9VGGkiNR5se0bie1QURNjlkUqH0S42KGiEYFdhazyp7dAh8bAgCFpQUKDRwdqQrWRhMChia442NpZZ0+d8b+6x9+2wa9Dld+jwO3+u38MX8u0A+S6A7hxAe34bEBKO+DIw7AzQ//sVIDtrK6TKwQD09D2w5PIAHLbyBhT1GCThANSf4IyuPcghrZcoqB+QhAOav4dH9/AdtL3IzzXSz2ZWl2F3V+NkMIC2OV2AsgolNUfugr5DazhoouNx//6F1ECjvghPN7NUpa+d5ashYfh6EehefxfoOPkjsL28moamUjAAnW6CRRd2wEFXBqCgY5A0ggGoH8EpXexgUq8WGVTfJNkKBjTfgFKGNcg/QhU686l6HYYSK8EAei/qPKkTeutOGDsZ3dRxesJB+tfnR9PnuP3MRFKDiUv3c41PK7ubFzgXDuidfQJIfbMP4P1pgNEvAXrCARseAGb9ogUmvHYvPHXLPXDXn8EA1P1wSmcyTOoP3QzqeoFkKxiAug6LahcH1TEK6lckjWAAw3WdoXtVz9Ixr3/1bC/r1t6mUjAg/VllYtsG5/s+SWqsPHc8m75dndh4IbXl50OhANre3gEwPggw/BpA7i2A1nDAaUeAKT8GXq39AfRd8AFoOREMQK/vgjNu7k9zyPqxuyno2ftIwgGoK7CkZjms7qWoHicJB3BUq68zok7Tf1G/7czO6W/F1FQwACZv3PwaXqrU1uChyzWfpHWuWj8QFNjVmbRArjdJ4OF8kjTR2p9J0kHhqEPAyJ0ju3QFyM6ZgdRUMIhzF+eOOHdx7uLc/TvEuYtzR5y7OHdx7uLcxbmLcxfnLs5dnLs4d/8Nce7i3BHnLs5dnLs4d3Hu4tzFuYtz93+cuyO6OcZwQz+kf1nnO7Ozer6YKgcD4D2dh1f0Jjy2rjtpX9DxkPAPAN/YAffroyEAAAAASUVORK5CYII=\" style=\"height: auto\">\n",
       "              <figcaption style=\"font-size: 0.6em\">#6</figcaption>\n",
       "            </figure>\n",
       "        \n",
       "            <figure style=\"margin: 5px !important;\">\n",
       "              <img src=\"data:image/png;base64,iVBORw0KGgoAAAANSUhEUgAAAGQAAABkCAAAAABVicqIAAACv0lEQVR4nO3Wz0vTcQDH4dd332lruBmikitLy1QMIkpYC8nC6hBUiDUtCKToB1Ed6hB0Copso5QO/aCoQxBGQaRg0EEwl0IoBQYhhYlJJVpkq5w6890/8TnF5/z8Aw/cjAIcugNQ0Q+Q05MHcMscNOtuAKLqLYfwyOR2CHXoFLgxYwCSCuG11AhN0iOolr6BzxzgAXLhL2S5zIPjRzC9CExCrzQGcUkh9k9JB6gYkh6S2WUMILtNOgpN0m2oS6m7gLXvNFpN0BzA6QtVlbCmI1IDvNmwNQDttZuL4Iw5iM6cBFb9eeSD/O7PueCPpSvBqTMGIGk5vJIa4aLUCpukr+CbNwZ4gFmYgxn4CzMgmAHS5sDzG57CJDQvZgpqa0mnWdKCksYAygeljbid0jGIzelekIYJvV1JqTlwOLbjzcg9itqeOOdhsNV3bYwno8nnL01C+dBuwO27BdDyHqDhWxAoNQf8UnIpdGg6Cmc1fwM2zGoAFkwYAzxZBFKwiAUCP44PMjLIBidoDPAAF8ELx/NwoaoKB3KOQoY5IJpSOptV41KE/E7pnNcfS6troVNnDIATHxKXoGw80Q6MJl4UQ1t/d51RyH6+E+D6DYB9AwBrB/1A0BzQq748iGtkC+xPTZ+GiiE9gMwuY4A3QqUDW1hWAKt9rIPcFdSAp9oY4AF2gAuRLDxQWIwDbgRMQouUhHpJRYSHpSOEnkntuHFjAFyeTcZg11yqEwp/pAZXEOya/rLHJHhZePCxFwL3D/sh8+P6wBS4JT/mwG8OWnQ3C+rVUwbhT5PbIPRMJ8GNGwObO5s7mzubO5s7mzubO5s7mzubO5s7mzubO5s7mzubO5s7mzubO5s7mzubO5s7mzubO5s7m7v/LHfN0k+IzktFhD9Khwl1SG24MWMAXNHsVdgrJaDkp4ZXkpPQ93qT8A+lSF3cUpR7wgAAAABJRU5ErkJggg==\" style=\"height: auto\">\n",
       "              <figcaption style=\"font-size: 0.6em\">#7</figcaption>\n",
       "            </figure>\n",
       "        \n",
       "            <figure style=\"margin: 5px !important;\">\n",
       "              <img src=\"data:image/png;base64,iVBORw0KGgoAAAANSUhEUgAAAGQAAABkCAAAAABVicqIAAACm0lEQVR4nO3Wz2sWdADH8deep5kumaayYuXQ2nTYReiwPFhEpwrDWD6KNKKgWolQh7K7gmyIQn9AP0Z0kYRVEwsGRiB07RB6UBsR4dZhalPbM59Ph/4ACb63vtf36x94cyID2JcxDC5/gQ0XrqEknEwGaHUyxsiVTNE/kzmaE8VA433u8lGXDnu3CkMvQPeHxUADfdzlwaYOPT1Ccz0l4UJyjckkQw7eSt6y43LylVXniwHrprOI48l2RpfyDjt/ydf0lgPGsweDOboGS98/jG8Wh8tC604eYmg+B+ibzaf0TLTn6BotBiQZ4KdkjGPJFE8nc6zuFAMNtFlhhbt0CPm3loLGX0yzyMktbvFyS7vtkY/lRjFg+GJu05xNhplYzmEOLOQc28oBr+co+nNmI278/CTOLLXKwvDFbKQ5m1cw0fkEB/78DdvKgZvJADPJGEeSKZ5azhz3LxQDjbUssZ7b9NCmu1uHrt5ioIFj3MehPk1279bFprfpLgdad3KHoflkWN9sJ4f1TLTzna7RYoDxnMNgLj2Kxfk9mG4fLQvrptOH42lhdOUz7Lz0O3rLgQvJAJPJGAdvZYodl/Mrq84XA41d3OZZ/uaJNVbY9Bg0nikGGniRJrvXavD4Vl08sIuScCq5yf4k241cTQ7pP5vMaE4WAxzPHF7K8iCbr6+8Qe8P+bIoNPAcGL+M1ac/R2PhNUrCqWQz+5NXGbmaKfrPZo7mZDHQeI8ORwh7twhDz0P3B8Wgzt1/gzp3de7q3N0b6tzVuVPnrs5dnbs6d3Xu6tzVuatzV+euzt29oc5dnbs6d3Xu6tzVuatzV+euzp06d//XuTuZ3KDVSbYbuZK8q38m+VZzohjgRP7AvmSIwet5kw0/5nRR+AcDPB7WYUiifgAAAABJRU5ErkJggg==\" style=\"height: auto\">\n",
       "              <figcaption style=\"font-size: 0.6em\">#8</figcaption>\n",
       "            </figure>\n",
       "        \n",
       "            <figure style=\"margin: 5px !important;\">\n",
       "              <img src=\"data:image/png;base64,iVBORw0KGgoAAAANSUhEUgAAAGQAAABkCAAAAABVicqIAAACRklEQVR4nO3avWtVdxzH8dc9t9cnShQpDoEebEkk6OKmhaI4SRxECD5QeobSxbEOGv8AQW8qGrq73MRRiGB0sipIpNDBRQjEp0ApSDJYW4zJTe7X4RpwiEPxp9Pvu53zOuNneA+Hi1HiaFToWxrH1qkXSAmXIkqOdaJiz9No0TsZs9SbyUBxCpytwZFvoP8QNM4kAwWwAjogvHdJoHgA7oBHCzD/VNC5lwzYfD1KnI8KQ8vj2D39N3rSQfHPLXAFXFup4eHjBl6lg+LYKPRPwbbb61bY1Dy4QG0oGRARJX9EVJyLaLEvYpYNnWSwuq7l94bxbhLtdFD8B16C191v2xCvkgED01FSvx0VmitjODH/F3akA36KEr1RwZurMDGfFoqBYaiPgWajgxPfv8GOdODfiJLJiIrhiBZ7l2KW9XPJQPEl2AI2gUYDaj3JYHXCX4A6qHVfNdJBcXwRfpyD336HP0eWayweTQY4GSX6upNYvAo35tJCsXkQ/AyG6oHdfW30pANTESUjERU/vI4WO5/Ec9bdTQaK78ABsGsjfPWtGsX+ZLC6ru4Yug/vJpEQilHQBBPPYeYWtH9NBjgfJQ5Hha+XxtFz/0VaKHyOuxxRcjyiYs+zaNF7M2apjyQDxS9gGBzZDv2D0DidDHLc/T/IcZfjTo67HHdy3K0JOe5y3Mlxl+Mux93akOMuxx057nLc5bhbE3Lc5bj7hJfjLsddjrscd3Lc5bj7eMhxl+PuE8bdZXAhYOIZzNyE9kgykPSvtw/BWy2wlZv/f9HrAAAAAElFTkSuQmCC\" style=\"height: auto\">\n",
       "              <figcaption style=\"font-size: 0.6em\">#9</figcaption>\n",
       "            </figure>\n",
       "        \n",
       "            <figure style=\"margin: 5px !important;\">\n",
       "              <img src=\"data:image/png;base64,iVBORw0KGgoAAAANSUhEUgAAAGQAAABkCAAAAABVicqIAAACk0lEQVR4nO3Wz2vXdQDH8cf389WcFhpKUlJRNHV0MjpYB+0vsItuWhT9gEorz53FYm1Jhh3qUhgEHSTRambBMhGVftAhKDTRCRXiJjR/bDq/7vvq4LWL8O72vr4e19fhyY6cQ3+ynN6LeYnFR7KHkvBucomBbrLS6jPJq5aNJF9pDxUDkjzPL8n7dxhMDj/oiWTicT3lQIMRZjlyRZfTY8LUcQpCc5z5HGIev101hwtnoHu4GLBof5ZiMANYf2M3Vp38GwvLAZtzEL05eS8mx9dhf2d7WRi4lmssH0/6LB3tZqsFQ518o7W+GJDkA35IDi31ZvLHGmuTy6/o6RYDkizhaLKBbclHrEnG6JkpBpor3M4k85lmLp2OhlwqBvSdyBLao9mAoe7H2HThT6woB7yQ7ViWvUtw6ddHsXdqoCz0nchV2qNJH0PXs5VNEznIinLgcvIjI8m5B7yRXBzw2PV0dpk3UQxIcg9Hk6fYluxmTXL25lcKgQZzmcMc2jS0aN1cS0GzccYMz0zosOs7s/w8fAMz/cUAm7MOvdk+H1Pf3o0vJ/vKwqL9mcRgspL1U9nCqt/zBQvLgWPJeYaTLPf0dPKyh08nn7vt+2JAkkf4KXm97a1kzwJrk7/u1FMONBinzT+zGqantZidpCA079EwRIt9Z7U49TV03ikGGEwvnsyLLe6b+azNwiPjc4tCg1Hw4UO41v8cund9QknYmVxmY5KVVo8lr1l2IBnRHi4GNe5q3NW4q3FX467GXY27Gnc17mrc3RrUuLs1qHFX406Nuxp3atz9N9S4q3FX467GXY27Gnc17mrc1bircVfj7n+Mu520eTsa9o1pceoAdIaLAXbkfvTnWfRe/xSLj50vC/8CspH0rc2sHfoAAAAASUVORK5CYII=\" style=\"height: auto\">\n",
       "              <figcaption style=\"font-size: 0.6em\">#10</figcaption>\n",
       "            </figure>\n",
       "        \n",
       "            <figure style=\"margin: 5px !important;\">\n",
       "              <img src=\"data:image/png;base64,iVBORw0KGgoAAAANSUhEUgAAAGQAAABkCAAAAABVicqIAAACzElEQVR4nO3WS0uUYQBH8TPzmjNajlEpOQRZlomLKAjUUAu6LAKJEMfuBFG50Ba1CFpE0kVGKqkopWhoVxRECgotxMukElpBUYhWZhaJGnhLHSf9t+gLJDzLZ/3bnsWBa5q9DkVSGNaNqS+NZWH9KsYk3JDGIDAvpZL1RTqBv16qxQkaA5B0DN5It5dQIbWsYZs0nIPXHOAGGmAOOiaZh4E+BHMdYBDcHXQJmvj2Ez7MRN7AyBcaYb7FGEDiiwKAO3cBDrwD2NQdD/jMAZT2hq/ChqFwHTAQblkDtV2thUYhMK1oIuuHpBySG6XzMfHBqJrjXIXGACRVwyupKYnLUk8u+dLEKbzzxgAkLYc2qQjKpRDkSf3gjRgD3JNMxMEoERdMoRmIRhkDjRsDyPi8F3A6awCqegD2j/iAdHPgomTP2/4QqbXPXBeh+5H35iDPBsZfvDQJGd3SVpxGqQSCfxTysX9Y79NINwdMSK+gXvq5knPS2D6yZxWtwjNsDEBSCrRJB6Bcegh50td/rRgC3EAsxIAHHPCACzzAInNAIFIGrP/9xAvJrT9WQHwwugVchcYAOHMpdwtsrM/ZAbzN3pkAdfu2p8JZc5BYK52CCukeFE6rNYVNHzWwDZ85oF0ahEpJfg5OSUfI/Cw9JrbZGICkzdAplTpckZ7Gky99X4rXHOAGRsCByTncoClc4B0Fk1ClB0ugWG0bIOvb6C7wN6gMnEpjANw87FkMh0JOAqS9JsHBF1612AO3jIGb6dDwBZg4OvkcZtdOd66GuU+9BTBlDqqkcSiWlEpWn3QSf4NUh1NpDOzc2bmzc2fnzs6dnTs7d3bu7NzZuVsY2LlbGNi5s3P3v6tm587OnZ07O3d27uzc2bmzc2fnzs6dnTs7d3bu7NwZhBt6kAABtWdAVv/obvDX6zQ4QWMAVAcAjt8HyOwCWNaWBFBjDP4C/sjqu3sy2RgAAAAASUVORK5CYII=\" style=\"height: auto\">\n",
       "              <figcaption style=\"font-size: 0.6em\">#11</figcaption>\n",
       "            </figure>\n",
       "        \n",
       "            <figure style=\"margin: 5px !important;\">\n",
       "              <img src=\"data:image/png;base64,iVBORw0KGgoAAAANSUhEUgAAAGQAAABkCAAAAABVicqIAAACxUlEQVR4nO3WvWvcdQCA8efukvRHMNcSMZqjCsEmhqDlQJMUg7nVF3QJXkKHYpeIZLBIJA4uQrVc6Msgaqig4CB0sKByKVVio6cpVyWCgoOalCr1JY2aF3uJSXOPQ/8Bh+8ifOfP+gwPHNcZeFI3Yd+q7qe1ouOEhJN6fZRiXd+gf1Fn2nNl/aGQKQUDUJdgXs1xTD1EQT1DEg5Iw8ojsEPtmSXq3Hj7LMK3YxAS5hwGJn0HOLjxO9Cz4O3QNBsMYPdzewHGHwIoPgWQfxYgGw7g4Qufn4C2jysfAWcqF++GFz/7YjgoFLf1NJ3L+g1tM/pHV3NJ/zmUGgoGoK5CVe3gqDrKoPoBST0YkAYm4Aa8ucwOVC8grB2H7XDAukeAsmebYMLfboUDW/bCrmvBALrL9wKZ84cBTkwBjLwP0BUOUuwbafj+XVITyUYJxm7j9SUefSB9rhoSui/rDJlZ3YKSup+R6zpOVzhgXddaKKu9TKjPZw5s6flk17VgQPoWeG+dPXDpCs3w66Wdxkb4cDOVDQagUymoWtkLR10agEEdhaQeDKD4VwHoXH0FaPv0K6C5tNwAqaFgQIq2e/zzOzID9e0qPJhmvkZPK4u/hITd01q5GQMMqXnyC/oC2XDAnK72Mqke5mBNX2vpWdCLHU2zwQDUr+FLXbmDl3V7iEH1VZJwADq3B+ZdHIBjro1BQd+CJBzAKR8Hhj0N9P90FchN2wKZyWAA3N+eNEG+O0ngrr4kSZHtb0kaggIv/b15Dh5b21iBO3/e8D6y07XtI0HhlNaeZlidov+yftKem9YfC5nJYBDnLs5dnLs4d3Hu4tzFuYtzF+cuzl2cuzh3ce7i3MW5i3MX5y7OHcS5i3MX5+4/QJy7OHfEuYtzF+cuzt3/Zu5O+gRQvHlkV64CubJZyJSCAdDXCtDXAdCZB2jtawwL/wJRk7Z5zBr+FgAAAABJRU5ErkJggg==\" style=\"height: auto\">\n",
       "              <figcaption style=\"font-size: 0.6em\">#12</figcaption>\n",
       "            </figure>\n",
       "        \n",
       "            <figure style=\"margin: 5px !important;\">\n",
       "              <img src=\"data:image/png;base64,iVBORw0KGgoAAAANSUhEUgAAAGQAAABkCAAAAABVicqIAAACv0lEQVR4nO3WwWvWZQDA8e9v7+v220pzi73kNKKaZstM3qC3MV+L/oAOraYNDLu00Tvt4NBDJ8Ehr0iShyIDZxR16lRbhxpYb0tfFzs46BC4QeAE097Zamu9+n67de3yXILn/PkHPnBKv4BX9BZ039YddFT0ECHhHfUbBhr6F8/Mqz25CfUw5VAwCupyH7PqMCfUs/cU1cvd68IB6O95uOydYRjTc+t4TufaaW0EA5i50QucWisBgysfAz2/zG2A5ulgALk9AOwFoB+AQhdAZziAFyuVMmyqVCaBLyuVR2CsUnk5KAzU9Tu23lTJTak7W8vqUfrDAaojVNXzHFcvdvaq11/INIIBqEMwrWebOKaXtlDU2720rgUD+OPuEDDpuWY46tz98Gx9NQ8tNxuhAPIlgPQ0AOUWgAO9ALtGgkHC4wPJz5+SfTtZLcPovbx3g5eeTL6qhoTtC/otmQsqlNWn2PenHmFbOGBZ/YAJ9QpH1FsP5f/W+v7k11DwGqjjMK3VDo7p4m6Kaol0LRiAfphA1Ytb4Li1PtijQ5DeDQbw+nmAnu/XA7mpPNB25iCQ7P8oFJDQsb3pt59ICtl6FfJtzK7w6APJ/GJIuG9Sv4ayrkK/upNd83qYDeGAH9QJTqpLvLqiPrb1qnqIC6HgLVDn2pnRpacZ0/pwpqiOt7WEA9CZjTDr9T44YaMEz+s4tIYDeH+mCxhc3A0UFkaArqlPgMyZH0MBNG3Kps3wMGkKD2bSNKF9fUuapakrHDRKy7XPYMdq7SpwrVbr4c7nS7UhGm8GgjfgtDrFXnWNwoL6RG5SHeVkOIi5i7mLuYu5i7mLuYu5i7mLuYu5i7mDmLuYu5i7mLuYu5i7mLuYu5i7mLv/hpi7mDti7mLuYu5i7v5HudsMDF4rAoX5g/xbtXeDAWQ3A7ANgG4AOtsCwz9m15OGcg9ZrAAAAABJRU5ErkJggg==\" style=\"height: auto\">\n",
       "              <figcaption style=\"font-size: 0.6em\">#13</figcaption>\n",
       "            </figure>\n",
       "        \n",
       "            <figure style=\"margin: 5px !important;\">\n",
       "              <img src=\"data:image/png;base64,iVBORw0KGgoAAAANSUhEUgAAAGQAAABkCAAAAABVicqIAAACtUlEQVR4nO3Wz2vXdQDH8ed3uq/fLV1bypQcyuYG8mXFmOYc+tXAg51EYm0qEnoYiuIXRmBnwaUTfwWm5KGR3vISDXeJgfqx5i/8QeEhSLHA6XShjvZ1m/ns0jFjX3jn6f06vC6Pf+AJB3VwIR/ps2bqn+pWqhL9YmYwOFbBYXV4bdtLtWvZHfVU9Vn16vzuYFCLOtrCdXUb+9ST5NQrNdPCATgx1AzXHNoO3T78qpTVPr1RRZmToQD6OgEOfwmwqa8cyPYtBdLh4HWtPUkOllKfJP0zSPUnSRYOJMmmkqAwqX9trnusfl49oA6W7VeH6taFggdZVHdwWe1lrzpY2aoOrSp5GQpWg7oNftCTJezRSzXk9FkrZePBAEZONADf32pIw6cjS2bD8pGtC2HG42DwH0uFhKb13P6GWZ8wdgB2l3NolPYs394MCYvv6ng759QeetRzdPyp92prg8FiRtWvZ51Vf56zWx15r3lCJ3elh0NBPo3aCxf18lvs0fsryak7yTwPBuD5zhRcf9JZA3vtWgGrPL4BMl4IBdBYCbBoEUB1I0B5I0DqnWBAiop3Gf4FVjJxBZaluQj187j9R0h4s19/y9GjbqFNPUbTHR2Y+0YwqOFH9Wa2Rx1bs3FM3dXwq3qqciAUnJ6N+lMFV/XJErp1cjs5tXd6aTAoBX8/Uwm3PLMC9vndTnjfS8ehLBxAfjlAx2aAljzA2/m5wLR8ayggBRlevIAMjkO6hOdA5p8PBvsLhfML+LBQGG6i7mGh8DFVA4XC0ZnhoIIj6qMP2lS7Wu6qp6v71WvzPwsGMe5i3MW4i3EX4+7fIcZdcRDjLsYdMe5i3MW4e+Vi3E0ZYtwVDTHupgwx7oqDGHcx7ohxF+Muxt0rF+NuyhDjrmiIcTdliHFXHMS4i3HH/xd3r2V/A2OnIV7Obu3/AAAAAElFTkSuQmCC\" style=\"height: auto\">\n",
       "              <figcaption style=\"font-size: 0.6em\">#14</figcaption>\n",
       "            </figure>\n",
       "        \n",
       "            <figure style=\"margin: 5px !important;\">\n",
       "              <img src=\"data:image/png;base64,iVBORw0KGgoAAAANSUhEUgAAAGQAAABkCAAAAABVicqIAAACrklEQVR4nO3W3WvVdQDH8ffRNk9bmhti2xiGbtGSGRs0PbrlQ9cNfFjHigS9EIrw3CR6YRGZxBw6QSTLAsFL7SIYHQSZqD83U0T0xovADZ8IwyONlaedqW9v8rJ2hC+7+n4uPjevf+AN+zSp5z0da6F5TLPUJLrvxXBQTb/qru4n6vn2EdXGX1Qzu4NBJ+p4T9NFNZf5Wj3SvUa91NMQDmqxtLkBLnt4AXzj5QUVrHSsvYZKJ0MBDGwF6P8e4MOBKmDxwFtAZTiYrmWTpG8GzUmSn0kqnySvQV+SZANCiuykuv3V++rJeYPqX9W9qm3vBoOlqB5554x64pMv1Av9q9Xff2iZCAYL0UMbYNhkU4rdFjY10qXbllNRCgZQOPwCcOpaLbCz0ApkCluAWfeDwf8sFRLa1nL9OLM/42Ef7Khi/zjZxfx8NSS0jGrpA86o+9mrDrHxb72zaGEweINx9caW4+qtH7ephaudJZ0c7bgbDNrQ4YMw5O1jtXzl42NdvK0/fcqsiWAAnq0DrvyZAfa4GVjpt0Dac6EAWucCNDUBzG8FqGoFSC0JBqSY8yZ//AZdlC7B0krOQ3Md1x+EhJfzOrKMver79Kh9tI1ofl51MKhnWHXnl6qn1z1US0tuqHaeDAYr0AdX6qouWrrZMXeP3vx4/iq9e7RuzpNgUIG3O4BrbgV6/Q5Y5a8vQTocQC4DsPEjgGU5gIbcK8DM3PJQQArSPHoEaZyAyhn8A6T//WDQWywO1rO+WLz3OovuFYsbqBksFnvT4aCaA6qfd6sOtY+qNub1WaoFgRh3Me5i3MW4i3H3HxDjLsZdjLupIcZdjLsYd2Utxl35EOPueSHGXfkQ4y7GXYy7qSHGXYy7GHdlLcZd+RDj7nkhxl35EOMuxl2Mu6lheuJuWvYU8rQXXcf8J40AAAAASUVORK5CYII=\" style=\"height: auto\">\n",
       "              <figcaption style=\"font-size: 0.6em\">#15</figcaption>\n",
       "            </figure>\n",
       "        \n",
       "            <figure style=\"margin: 5px !important;\">\n",
       "              <img src=\"data:image/png;base64,iVBORw0KGgoAAAANSUhEUgAAAGQAAABkCAAAAABVicqIAAACe0lEQVR4nO3Wy0uUYQCF8TM6eIuwMQhBmUzsJoiWdFnUpr0gotbCCSNaZkkXClqXDlab0oWFNpCLkgjSiQIh+krKDKPERRdt7DJaaormp2Y+/Qsz8CoS79n+tmfxSA3g+FQBU3nKm4IK+RxokEm4AvC0dgkYOz0IcK4ToLHeGNwQQF/VCOAeegxQcwmgpdoYtFYrGq32Z+hetMmfpZpoj9+vgmh0hz9ZQ+bgf1ql4wSlPMcJe+QJO06eFHScSrPwB7heOAb0FHcB7p46gKpSY3BUAD9bfgHc7AdofwjQ22oObgmuBfbrOU6gQhcYDwQ8hXA8sFF/TUGOPJs1tChlp45PSOsz5oel1Gx9kBJyPaZgZeZRUakG7mjtKc0GpbNpujytynzdf2MStg2BW5XwBLiaWA888x78DcNbNxmDAk0D9H8F+PgeINq3AMz0ThqD14Lu0En18SXUqIsshUK+vdAeOmASPMf0YEQqyXz3QireOXlXyixRs+Q9nGgKVupdGfn68V7ap4UeaXeSnklbNmhgwiSkh2GwSPVAucqBehUNQnhNmjFIVzfA5w6AuY5ZgM5PAM8dY/BSMBG57f/IQuRtVjNEIrsq4VukJtcYnMjxtiv4Smrb/rhZerTu+wlpql1HZpTQlmQKVupdStHiopQi5qVkj+Ykr1dzMgp1rtvlU5nrjuYqd9R1y+Trct06o3AVwKkFGD8zBHA+DNAUNAY27lblbNzFDjbu4puNOxt3y/kuG3exg427eN9l4y52sHG3KmfjLnawcRffbNzZuFvOd9m4ix1s3MX7Lht3sYONu1U5G3exg427+Gbjzsbdcr7Lxl3sYONuFe4fcIfhQO0pZCUAAAAASUVORK5CYII=\" style=\"height: auto\">\n",
       "              <figcaption style=\"font-size: 0.6em\">#16</figcaption>\n",
       "            </figure>\n",
       "        \n",
       "            <figure style=\"margin: 5px !important;\">\n",
       "              <img src=\"data:image/png;base64,iVBORw0KGgoAAAANSUhEUgAAAGQAAABkCAAAAABVicqIAAACbUlEQVR4nO3WT0jTcRzG8ffcSDHCFqRQISUrwoIGiXjIS3TpH5ioURRIdAkKslgIEYFQ6Vp5sIuQFN3KogIdRYzMnxTZIU8aga40qun6o6I/l9rToUtHB98Jxvc5fC6v6+fwhojk+KmWxgMExqVq/I4UwSRcl6RY3W9JI6EhSarvlKSWsDFozaoDGD3lAZLlGwC3YA+AGzIGSV/sGPD1zoEfMHn8wXOYL/RGgOSWE6ZgmP9oNY4ThoDjRD14oo4TgLDj1JiFWUnNwaSk7u0xSd9KGyXNHqowBrVIkvoSkjT2VpL07J9rBJ76Rs4D3W0PJ2BwV08vuAnvLeCJc8kUtLMWgHUArPYBLF8JwBpzsCjzEKyg/x4rzjIdhnO5XJukpphHfSZhc1yaOpzVJemqt0lSl+/glBTfWGQMtjIlSYmPkjQ/8Pc/JEkDE8bgnSd1F7jd8MWFN/k7B2Hi8c0XwBUnagousB+AfQCUFQAUlgB49xqDxZmHVcWMvocd/OqF0mX0wKZ8+r+bhLyoNBSkSVIVVZKaCA5J0dxcY5DHK0n60CFJqY4ZSeqMS9LLHmPw2lc2DLQc/TwH3eOpBPy83zYMRNqNQQOXAbiYC3CkBGBbLUB2gzFYnHkgh7k5yEEpyPYwAz4fMxiFRteN+al03UQRRQnXrcQfc91Go9AsSbEzkvQpFJek+qgk3Qgbg9as0wCjJwHGytcDbsFugOmQMbBxl+5s3C0cbNylNxt3Nu4yNxt3Nu4yNxt3Nu6W/GzcLRxs3KU3G3c27jI3G3c27jI3G3c27pb8bNwtHGzcpTcbdzbuMjcbdzbulvj+AHpE0lIEKuRQAAAAAElFTkSuQmCC\" style=\"height: auto\">\n",
       "              <figcaption style=\"font-size: 0.6em\">#17</figcaption>\n",
       "            </figure>\n",
       "        \n",
       "            <figure style=\"margin: 5px !important;\">\n",
       "              <img src=\"data:image/png;base64,iVBORw0KGgoAAAANSUhEUgAAAGQAAABkCAAAAABVicqIAAABtklEQVR4nO3WP0tbURzG8efEaEOgSDp0FJRQRDJk6tT3oIjGqW/hLgVfQ27wz6vo0qmLN1NAOAUhUycHhwTHFCmI6E0TvV8XQeh24dxgwu87nOUZfssZPtIR+Jr24bau+i3sq+bhSCGHE4CzKAMG0QDIojOAOA42nDhUfG5tBkcWqZb3HanufeLkEu/rUsf7VthhCrQbN0Cv0QNuGm1gur0dbGjN5nd9ncGRxcmpuaPLH3r/TQ8d6bCq4zu1tvTzd8hhcwj3BzoHYsXAuQ7uYbi+HmzYfPldk5X/X+RCDSp/zySV3JMkV8qQtEQmqaSAw8Lk9GFLf66kL5r0pc8r+iV9+qjLvyGH1QQGTcXAnvaAWM0BJNVqsGFVfYDrLsCkOwHoXgNcXAQb+m40lrS8/CCpVBlnkqrTqaSKAg4Lk5MqenyUKuKf9M5pLJXLGivo0E7TXk27aTra0MYoTXdV66VpO+hwCpBEAMNoCBAlr1QLMpwa7t5ihrscGe5yZbgz3BWX4c5wV1yGO8Pd3Ge4y5HhLleGO8NdcRnuDHfFZbgz3M19hrscGe5yZbgz3BWX4c5wN+c9AyA5wKGvU06hAAAAAElFTkSuQmCC\" style=\"height: auto\">\n",
       "              <figcaption style=\"font-size: 0.6em\">#18</figcaption>\n",
       "            </figure>\n",
       "        \n",
       "            <figure style=\"margin: 5px !important;\">\n",
       "              <img src=\"data:image/png;base64,iVBORw0KGgoAAAANSUhEUgAAAGQAAABkCAAAAABVicqIAAACPUlEQVR4nO3WT0iTcRzH8feDI4cpNok6CKayhcgOw6KTeugehrl5kowY3UYkdOhebMM/1KFLXT3UCILyOQQD4ZEKT56EgjYCoSwpdLhHN9unU3cHv2cY/D7X9+kL38ML5iUvQlLajRLdlZJEPGkek2FRklYyDUmlTElSI7MiSbmcsbDoiODn9AGjC3c2oPvd82fAq71bwFxq/NBQuDfdgjtatpTn5SHqea6D43peFPKelzIb6pKy8R1JxXhR0k48K6k+MWEspFrzXTPAyN2Hn6Dz6ZsC8Hj/ATB79XbdWACgLQZArAugrxfgTMxwCHwOietsvqRrjmoe7newUCE1zOsNk2GoLO1PsyopR07SKtP7UnlgwFgYQpJUq0qSKpKk35KkvT/GQiW03ID+sbUtCCe/fxTMnF5uwPiFFzVDYawfgLPpLoB0HCB5DeBy2li4lA76sQBw6Bnmx2cYpbYOV06xBhfPsfnLZOh2pVKCnKQppiTlSJQkt6PDWOhmXZK+uJJUXalJ0tuvkuR9MBbeO9sH0NlT3YG2XrYa0Me3Opxv/+kbCwAkCjEgXLgB8OQRwGzBMRVuFlr0XYQ5OoIwOoR2hwMIhTjAaMj6fjHCpO9vDzK47fuTRIq+nzUaliTJzUhSOVOWpIwr/aOakbBkcXcSZ3HXxCzumprFncVdcLO4s7gL8rss7o4fLO5O5CzumpjFXVOzuLO4C24WdxZ3QX6Xxd3xg8XdiZzFXROzuGtqFncWd8HN4s7i7j/fX9Pmv/7esrkGAAAAAElFTkSuQmCC\" style=\"height: auto\">\n",
       "              <figcaption style=\"font-size: 0.6em\">#19</figcaption>\n",
       "            </figure>\n",
       "        \n",
       "            <figure style=\"margin: 5px !important;\">\n",
       "              <img src=\"data:image/png;base64,iVBORw0KGgoAAAANSUhEUgAAAGQAAABkCAAAAABVicqIAAACcklEQVR4nO3Wz0vTcQDG8WcmKVbYDCIQlopZBKIRloe6dA9E3OrgQAiPWdIPCjp1KCeWBKWHDG3gpUkE6oJAiL4qJJoR4kFMWxnTUkssv2bqu39hwmcy4vNcX9fn8JaawPHKD0uFKlwCv7wONMkktAH03gCYujoPbNa/AQi1GIP7qukAuFsH8Oq8C8xWjwLUtBsDKcN3LB4vls83FK9Trq81/lw5vpr4tDmI6z9awHEapULHiXrkiTpOodToOAGjcAGg4aQL9B0fAuZLHgF/K6qNQUBPhwFedgGMPQH40f4doMMcSHnBi1DiCQYXuCV/0GFAp4MP2dBBU4BHkg5pxpV8GYsLUs4+d0ZKz2dq0xRsz7c8Kq3Q+DPtuaKVRul6lu4tK3BUL96bhOLP8Ptcej8Q2tEMvE6rdmE6/7AxOKKRX8DaaBxgYhJgZgzg57AxWJbOhLug3BsOb3JHLeEvjOpyeBAMgkeSatU9K/n3vhuRyotnu6UDZzfC66Zgu96Vc1TfJqRTWhuSTuxUv1S0X+OLJiE7ClOlCgFVqgJCKp2CaNYuY5CttwAfewFWelYBej4BOAPGYFB5l2JfIVAWi8Hj3A+xNSZ9nbFFKKgzBpK0OxIpkvQgUiWpNnJbUlmkM80YRLbpXcrU+rqUKf5IGR6tSunpWpVRaHDdPq8qXXeuQAVzrlspb5/rNhiFNoDoTYDpawsA9Q5AY6sxaLZxl4qzcWfjLlmzcWfjLpnvsnGXONi42+q7bNwlDjbuUnI27mzcJWs27mzcJfNdNu4SBxt3W32XjbvEwcZdSs7GnY27ZM3GnY27ZL7Lxl3iYOMuBfcPlFXbEH6JCRUAAAAASUVORK5CYII=\" style=\"height: auto\">\n",
       "              <figcaption style=\"font-size: 0.6em\">#20</figcaption>\n",
       "            </figure>\n",
       "        \n",
       "            <figure style=\"margin: 5px !important;\">\n",
       "              <img src=\"data:image/png;base64,iVBORw0KGgoAAAANSUhEUgAAAGQAAABkCAAAAABVicqIAAACs0lEQVR4nO3WT2jWdRzA8fczdXvckuYyYzWcOlc2JkyNuTWn4FnB/vhokgcPCyN6ShQ9JIgpMYfabVGEheBFD4rDB0Em5m+KC8n0oBebWJiOHLhZ/vQZ7N1hdggaGHzr9P0cv+/v8cOHFxX7NJlOTofnMX9Y11Cd6D6mhgu0qZ6sUR1Y2KeOrfpE9dOWYOEAVd+qLn1v/Fuq9tddVn3+m2ABymZdHradWQcH/YyXNt3xElXNd0adEioUBeC1ngagvGc9wJcHADp6SsMF/pfJ5JKkC+qTpJBhUiFJ5lHSlSQ5CBiaVTufGVF7Z5xS79VuVUdXNgULOeZcUm0/qLrjfdWzK35TH9cHC8LsDSPaWrLhou5izVd6gfbNWiypDRUEqN041ALPLR7aDqX1V04D9V/cywYLQxMvRLhAhqbVXDvCtC087IJt5ex/QK6B4z+GDK/+rH+spU/dy371LO+kenPO3GBhPk2/q8XW66offq16ZKPq7cXBwgNYcUhtqTr0q+6iu1/P8/ExfZwJFgRY1+0yaNvsHqjpuP8D0HHOqaHCd+MHksZygMaZAHV1AJULMsFCY4aqBu7egKUUv4fmUvrg5ZlcHQkZqgs60ESX+jbr1L0sGdBCxYxg4VleV/1pQVF9+MYZ1Z3bVU+1BQsXmPLRLbV10a1R3V159b72lx++rWNl+VBBgO6LLocPTtgJbUe9ApVHfzEbLgDwQv5FgPwSgHfXArTmJ4UKLfkMZHkEZBkrQlmGRzB58pOnUKGiM017p/NWmg7O5ZXBNH2T6t407SQbLozjrlCjenPhedVVO/QvqgUJn0fcRdxF3EXcRdz9c4i4i7iLuIu4i7ibKETc/buJuIu4+/tChAsRdxF3EXcRdxF3EXcRdxF3EXcRdxF3EXdPESLuIu7+Q9xNeNRCzp/iRDw85Aaa+gAAAABJRU5ErkJggg==\" style=\"height: auto\">\n",
       "              <figcaption style=\"font-size: 0.6em\">#21</figcaption>\n",
       "            </figure>\n",
       "        \n",
       "            <figure style=\"margin: 5px !important;\">\n",
       "              <img src=\"data:image/png;base64,iVBORw0KGgoAAAANSUhEUgAAAGQAAABkCAAAAABVicqIAAACtklEQVR4nO3WP2zUdRyH8efov5MGbQshlFw0IEohMWmbgNWroC462IhSTh1xKYbgApHEPzEiMaVinUhMMXRywcmBC0sNyc8DTk1pwOBAuAYCJRAuXinlwl3t42Ac3b50+r7XZ/3kkxetRzVpJ6ezG+ia1V10JnqUx8IFsqqnMqqlnl/UxYFPVA/1BQujdAz+qr4yMKZ+2fehWnx6cE5dGy4A7Zd0G00n9CvYs+Dv0HtPm8OFRvgr+wN3qb9fX/sHfNfw+mWYfO3jWrjA0iyVS5IReCZJ8ika8kmygWUjSZKDgGGr6nDrfXVi1Wn17lMH1Pob3cFCjnXHb6kvj55TP/vgR/XMq2Pqw65gQeCFWe0nc14PkRrTszCktaZgQYDecrkPVk6VD0LzifIpYKh8syVYKC/NcdG9wz9PsmI/81/DR8sdnSO32Z+mQoZNN3T+HQrqEb5Rz/BeTafXrQ8WuuiermstO1VW931/XT25+6p6c0uwMAfsVV+if0a/oKOoBRjXhy3BggBDug2yFQ9D5pxFSB3XdLiQAtjYVHoAmbY7d2DFk9USsGnZZUOFhhQdm71xDfqZvwBbmxfOw7OrFy/eDxk681rqZkQd5F31CM+XNN+6Klh4ghdVrz5XUx+89bPq5wdVT2eDhbM0rRlXt6/eU9fDbVsqWly+5pIuPh4sCDCu22GvDkP2lpPQ9pumw4VGYPdk6gocq6wsQmFX7wxU3hz8ux4sAKRbANJpgJY0QGO6MWxoHa5WJ9rZWa3eXs/G29Xq23ROVKvDpMOFf3GXz6hO9xRUBz7V/6gWJHwbcRdxF3EXcRdxF3EXcRdxF3EXcRdx9ygXcRdx9+iOK+Iu4i7iLuIu4i7iLuIu4i7iDiLuIu4i7iLuIu7+H3cXuALHZjuKUMj1zEBlx86FerCwJP+RfwBU6ljhRxvFRAAAAABJRU5ErkJggg==\" style=\"height: auto\">\n",
       "              <figcaption style=\"font-size: 0.6em\">#22</figcaption>\n",
       "            </figure>\n",
       "        \n",
       "            <figure style=\"margin: 5px !important;\">\n",
       "              <img src=\"data:image/png;base64,iVBORw0KGgoAAAANSUhEUgAAAGQAAABkCAAAAABVicqIAAAC3UlEQVR4nO3WzWsWdADA8e+z12fm8zhnPJIuY9JkPHR4mPgs0ccFHQoiCbRn9kLoJS2xssLOA+d6pLRAwXZwNC+dig4bFAwmsq21IZISBE3R8KXNsm25xzndt0Pnbj/o8jt//oEP6RN6biV7dOZJWmf1ZZ4Y1U9YfjIY0DSu9mf61Mv5g+rSzuem1K61weAYNP6oFuhRu9mrnqdtTq0MB8DKn7Sd6tOLdsG+u45D6x2tCwcAq53MAr+XXwX6PAp0OFQTDEYAeDcHsLsIUPgQoPH9dDhYUVWx6y2/v0D2C250UPtN6t5rVHe3PSjNhoMZsrfUj+tG1cHM5+rt9a8/1MXt62+GgiK031Q314+qh+lVx3hbXarYFgoENs9ogcYftJOKHh2GvbpQFwwE2OT9p2HVLT+Cmq/tB95zujYYzAHw7S6AU58C7PmuEniqf0M4aEmQe2lpYoDUB0yfhEPL7pWkmH3w1a8hoeWq3u1gSC1RUocoLuiVpqZg0ELNO4t6v3XTH+qhRy+p/akv1amaA6FgDtivFth6QztpGNNh6NWFZDAQ4E3dBlumPAyN5xyDxCmXksFAgKrbpWXAxNkMcGSmGWi/syMRDIoJGrL8+TNsZWkE8jUVww/ZkEn8MhUSGgd1MscJdQe71RKFazrwyOpgsIJVZ9TJ5gPq/CvPzqul7AV1sL4vFIxAda9aYN+idrHxLx0nfVGtrgoGAKf1Gdg/azdsuex5qB/RunAAkHJgDXD9WhvQYwfwokcrg8FxIJlqS0MymV8HtcmWHFQlH9sYFNKflecHUrxRLv/2OLmp8uwLrDtb/ruT5eGApgl1IHNGvdJ2UHXn89PqkbXB4HjMXcxdzF3MXcxdzF0AiLmLuYu5i7mLufsPiLmLuYu5i7mLuYu5i7mLuYu5i7mLuYu5i7mLuYu5i7n7n3KXtn8NcP3qvyMrAtstVQaDYwDV+QaAXDNAUx6gIR8S/gGGzvIG1kbL+AAAAABJRU5ErkJggg==\" style=\"height: auto\">\n",
       "              <figcaption style=\"font-size: 0.6em\">#23</figcaption>\n",
       "            </figure>\n",
       "        \n",
       "            <figure style=\"margin: 5px !important;\">\n",
       "              <img src=\"data:image/png;base64,iVBORw0KGgoAAAANSUhEUgAAAGQAAABkCAAAAABVicqIAAACv0lEQVR4nO3W72sUZADA8e/dad5WTjfWvVhWMDwdGnNp3GW1iqAgerm6WZG9CEM0HOjQ1wNFbpS+6sWiaPWuqBdRd2ApuWoddiUl2CunWGrQbul+uNu6ed/+iedVPK8//8AHDuj3HTyksxthRl+CL/VtQgLDaimzRb2cY0mbBU6rRQ6FghOw8Se1/+731OPsVc/z+Ly6OhwA7TP6FKu/0mMwrFXIqS3hIAk3T3F5msZpli5CdZpv4dIFJu4EgwoAQ30AuwsAjw4DdB5sCwfrVvHikF//SvdH3BiE8tqlV6H42EpxLhzMwhG12NKrnsmg1rJ8p42BcFCAZ/5Sd95bUY8yrp7jLbWZCgYCO//RfjZM6gjJMZ2EN3W5JRiYhMo1Gg2u/QKLNMtyCz6rM9cMBgsAqS92AYy9A/DGqRSwrbQpHPQkyD/f/LlMZp+1d+FIerkor2RXPrkUEjist3exTS2CejbFhF7ZFA56YHdD/93+4Ix6mAtqiTF1OvFaKJgH9i9oP09M6QgdP+gkfKDL6WAgwA19Ej7WozCo56BTm+lgIMDDtWIrdF6cyED6/dkssOfmQCIYFBJ0dTfmf6d1+0qiAvlkqnKHLe3Nqb9DAod0qo9edQDqWoRvtNwWDtbBkDqV3awuvswtdZSSepYDoeBHaP2wof2pvQt6jB01rdL+m7omHADU9Gn4VI/D63oeNqgt4QBgyHIXPFv/Iw+bqw7CPeOOpoLBSViVTubbSKR55AFIp7r74K4163cEBfbVF8ttbK3X/7wfrtfnXoDP6wsjsD8cMKyWM1vVK3mW1UHOqKPh4GTMXcxdzF3MXcxdzF3MXcxdzF3MXcxdzF3MXcxdzF3MXcxdzF3MXcxdzF3MXcxdzF3MXcxdzN3/MHelLniufjUPPVULsHbcYioYnAAg1wHQmwW4LweQzoWE/wBtw06wmSO7AgAAAABJRU5ErkJggg==\" style=\"height: auto\">\n",
       "              <figcaption style=\"font-size: 0.6em\">#24</figcaption>\n",
       "            </figure>\n",
       "        \n",
       "            <figure style=\"margin: 5px !important;\">\n",
       "              <img src=\"data:image/png;base64,iVBORw0KGgoAAAANSUhEUgAAAGQAAABkCAAAAABVicqIAAACwUlEQVR4nO3Wy0tUYQCG8WfOGadT6RgSkUYLu4gJiYvKFqa0rE2BlBciEaIiXIQZtmkRFOl0sfuNFhEEQZsKshLUdDCLLCgsJPFS2HXEzKlRO45vi/6FbxXf+rd9Fg/USdEM8qWfK2BK2gat0klMAiUj0oOszE5psJCr0ux2dktqdI3BaWBNTCphcYd0nMB56RVUSfLMgQM9v0F8HYBZFIUkNAMGwQFSGRyFNBJvIRXaYT50zBqDboDavgJg43AZkP28CXBvPQ6bg3Qo6+q4B8u7Wz4CLW0juXCq802NUWCn5DfOy5mQWhfRK31fyTVpsjRgDLYDu+JSMevfS0dZ0C49h0vSrGcM5MD1URDPopBk/CLMwGHwzQEOMBffh/mQgFQYh1SYkDH4BXBztBzYO3YCWPeh0wXv5UCOOcgNUrjpc+dtFu2b+nYQ6oOxqiSVKwba3puDPqiTYuXkSzON4EutLq1SX445yAXviq8/693qn1I9+V+kB6S9kGJzjEEcYFjaADekI1AhdUGmNO0ZAzn/CguACy6kQBBSIMUc4ABjM5EeGJtpPwcTU6M7IBH/s23aGJRBVlHFfZhXVPwaKNzwOB/yiiIHzEEtcEh6V0CBNFkKko5DVLoXNgfpkP1UGshLuyAlKqmWFGHtuPQkZAyeAmkjUjHuHekY1EgvoECSZw4ciCchQDIBDvwAF2KAQXCAEA/7IcTwXQhCI7hwwjcGZyDobY2GCXirepeBt+RROYTCDefMwVlgvx9/Ema1JsaWwviv6S3wcDLRYBQo+SQ1Z2VGpaFCrkkqY4+kiGsMmuzc2bmzc2fnzs6dnTs7d3bu7NzZubNzZ+fOzp2dOzt3du7s3Nm5s3Nn587OnZ07O3d27uzc2bmzc/cfzl1zP4QYugspqAGCEPGNQRPA5q4MYFlvLrCwuQoIHb1iDi7zF7oPASUVW+2xAAAAAElFTkSuQmCC\" style=\"height: auto\">\n",
       "              <figcaption style=\"font-size: 0.6em\">#25</figcaption>\n",
       "            </figure>\n",
       "        \n",
       "            <figure style=\"margin: 5px !important;\">\n",
       "              <img src=\"data:image/png;base64,iVBORw0KGgoAAAANSUhEUgAAAGQAAABkCAAAAABVicqIAAACkUlEQVR4nO3az2sXdBzH8cf3+91yWmg4khoVRVNHJ6ODddD+ArvMTYuiH1Bp5bmzWKytyLBDXQqDoIMkWs0sWCai0g86BIUmOqFC3ITmj03n131fHfYvfE7xOT+ub97v5+GNfTm2kpdyuZ/VyRAu5F1FwdfJeJ9Xk3PrrU06w1xJRlvF4D08Pp084cGjyYg7Pkh+5fkkPeWgyclZYvIsHdeOscA4CkITnLtEl+u/s4QjLOVopxichH9Or8PeW4MYzghW5eDycrACu9oHsWlqBveeTj8OZ1tZ8G3ao8vsSGdilYFkajU3cmOwUQyG8crVZKMNfyZvWnUk+ZEPk05PMQhMJhv4ONnJ5uQ4vcl8TzFIE03tNt3MsZQZbudKisE1+OvSVnzSGcXmTLTozak15WAAw7P78ehvV9C7P33YlRfKgsOZ3sqO3BxlIJlocT2n1pSDAexp5+Zjhi8nb3jgQjLOT8n0kmJwFc4nG9ib7OSp5Dj3LM5KIUgTDRo0adFFF910l4PFBXlr7BcWfL+HtulnmDc/NF8MtmBg5ivc/d0slu5KPzZlW1nwZf5Yx/bMDrI2GcFMDi4vByvwRXL2YS8nc09bnWSMi8kPtxWDE7jz72SjZfuSt7ReT37mkSQ95aDJzAINc3M0LfxLiykUhMXz+80ZGs4foMEoTd5pF4P30T11bDmtz+fvo/FinkR/RkpCk0/v6uC5oRt46CMwgaJgPDnU57Vkcr21SbZwNRlrFYPdatzVuKtxV+Ouxl2Nuxp3Ne5q3NW4q3FX467GXY27Gnc17mrc1bircVfjrsZdjbsadzXuatzVuKtx9/+Lu0NnaJg8QFPepsVYuxjshosnVuKzm/14NkO4f/GHrRT8B2yE9K0MlcI1AAAAAElFTkSuQmCC\" style=\"height: auto\">\n",
       "              <figcaption style=\"font-size: 0.6em\">#26</figcaption>\n",
       "            </figure>\n",
       "        \n",
       "            <figure style=\"margin: 5px !important;\">\n",
       "              <img src=\"data:image/png;base64,iVBORw0KGgoAAAANSUhEUgAAAGQAAABkCAAAAABVicqIAAACSUlEQVR4nO3av2tWVxjA8c97375qpUQRcQj0YiWR0C5uURDFSexQAiFRpHcoXTrqYOMfUIhJxYi7y2schQhVJ/sDSqTQwUUQbBMDpSDJUG1JTN7kfRyug042eMh0znb4XDhc7nPgO1x4NrsH02t9qGIEZVyWFizEnV7aMTdIFd1RyoiJZjK4UoDP++GTIWhcBN+2ksH5+hABumDDGysJFAhzS7DyCPwEfukmgwfw9+NDmF4fRhXjKON2TzrYVaD1x0M0Nm6B6+Dei3TwvMDKyYmdbGy7vw9m++HqcCMZjMJCxDHaEd9RRfxGGdHdkQziremqh2EddNKB+pBO/cAy+Ae8iGTwH/y1dAY3NiZQxf0mZTw+mA4GYGkGbr6EKnpRxlcpocDLo2fQbU2AG00YO5gOBmAh1g7TjhijirhDGbG4PRn8W3/4VgvsBLtBTyMZfPR6hBugCT6oz00HCjTWJ3+HH6/B4pewOrKaDE7D4g9wcxWq6EMZ36SEAp2+Q4jmMPganOpJB7vgafz5Ke1YPksVMUkZ8fO2ZDBboOHAXvjwM3ACHC+SwZG3pqve1IMhIdSbe0/g6Qyob+v3nWRwFZ792oPptY9RxRcoYzwlFLZoLcTdXtoxP0gVcZoyYrKZDKbqNznVD/uHwBi40EoG53LcbQZy3OW4y3GX444cdznu3h9y3OW4y3H3bshxl+NOjrscd3Lc5bjLcfcG5Ljb9Mpx978hx91mIMddjrscdznu5LjLcZcC6s3dJzA/A3EJTHaSwRRb8DvcKx/0lZuqcqwNAAAAAElFTkSuQmCC\" style=\"height: auto\">\n",
       "              <figcaption style=\"font-size: 0.6em\">#27</figcaption>\n",
       "            </figure>\n",
       "        \n",
       "            <figure style=\"margin: 5px !important;\">\n",
       "              <img src=\"data:image/png;base64,iVBORw0KGgoAAAANSUhEUgAAAGQAAABkCAAAAABVicqIAAACnElEQVR4nO3Wz2sWdADH8deep5kumaayYuXQ2nTYReiwPKyIThWGsXwUcURBZYlQh7K7gmyIQn9AP0Z0kYRVEwsGRiB07RB6UBsRoXaY2pztmc+nw/6C6Hv8nl/XD3zecP3iBny5NIjx7MVATioL5jLTz1SujjCeTouBZKJZDE41wEtDxNY9dHR9zH0+6i4GHzRY3yR6euhoPsx9+lAUfJ1c2eHt5O4BQ0kmuZ5cWFUMLuKb/LqTd7MwxvbkBOYz3VsO1mF4/ls8+sMC1hzLIHbnUFlgrj3Rw2eZ7WN/bgzxSO6NdRWD1sqE8yxTyXHGk58ZSDqri0EaCKHDfZZZpk27HGjwyWPaba1XuWvLKeaZ5naKwd84n5v7OZKlCYaT2SaLubStHAyjtXAWT/9yGxvPph/H8kZZ4Pe/9uPTzgRey2yTjbm0rRwMr6xr6RmmkqOMJzMMJDcfLAZ3Gujo7qZND4usZ4HermKwtsE7m+gyOkpT32Ee4Djd5QC+T3uix5F0ZvsMJzeGuJd7Y13FoIVj7WnsvjGPxy9nEOdzqCzwx+Wd+Hx5DK2cQF+me8vBOvgtV3YwlbsHGE8mGUgurCoGF1fu94lNLFvzFP/wPIs81ygGuxrseoguW5+kYe0oTV5GUTCTnOt3OLk2YnuSfdxJJpvF4DS+yo+9vLl8azODS3kFczlREhq8frOBL86sxpWVvb2AosBczvUzlWsjHEz2sTmZbBaD0yvrenGI2LKHcJQOH3YXg/dr3P0XqHFX467GXY27Gnc17mrc1bircYcadzXuatzVuKtxV+Ouxl2Nuxp3Ne5q3NW4q3FX467GXY27Gnf/J+6+S2b6vZdcHbE96bS4nUw0i8EpnMlPG3grtwYZSvbiz5wsCf8CBDMe1hCzIc0AAAAASUVORK5CYII=\" style=\"height: auto\">\n",
       "              <figcaption style=\"font-size: 0.6em\">#28</figcaption>\n",
       "            </figure>\n",
       "        \n",
       "            <figure style=\"margin: 5px !important;\">\n",
       "              <img src=\"data:image/png;base64,iVBORw0KGgoAAAANSUhEUgAAAGQAAABkCAAAAABVicqIAAAC00lEQVR4nO3W/0/McQDH8ed9Pl3qKLGEM19CJ6H1A46tmPGLfimaShthhvGL7/mdjTtWYzbpR2aM+YGtrB+iadr8YGOLtVnCiJVZuqtTn7t7+YE/4T0/vX9+/AMPgMoXs4GlfcVAfkcjkHmhFWNwA4Bvag/CXX0Iwz6la2GxFHGNQbMDTFFZBFMUVoOH7xwk4azfGJxwIMcF4QYgDbMgBXMAo1DYKw2U5FyXJhrYLynKulGpO9MY9MI56V0ZZVKiBiRdhB7pUa45mAnB8t2PIVC+6Q0QrugshZLy6ClzcBKA114kAFe9pwVQnRgpgvyxyRqfMagF+CxtgtvSBdgrvYRFUjrLGMgB0iBIQQo8SIIHnjnAIat1AZ7n7t8BE5Q2wyg5j2FMxiAOp6WRekqlZAQ8qculS+oPmYNiH+HtWaGdFBz93bgSmjJ27BqkYfnqp60mAbj1ox448vMysP7TcxeyXg2EzEExwHdNbYB7UhPsk9phsTQyzRjEHCCB3w/jEIA45EEccn3GYIYDB/PBx4YKcMk7BhlwHvzmANgreZFAaEzqKqBPGi6iTUrU+IxBbQaTvcnRJlJvY8VbYWg4tO09sZ68tofm4D7Ayf4yYMvHOqDwZQvg3unMNQczAX5ooAQeaLwBDkhRWCJ1ZxqDXgeIszQfYgRWQRy2wDhsdozBRgfWTgcf85aBg68CXKgEjMLmr1JHcH6PNBimTVIdhyVFXWPQAse9WHcuazT2cyGMxier4Eli4pJJcLies8eFvuzwkB/mrXiWDVVzrwUwBtn/ctcRhLsaDEOjVAeLpKhrDFr+5m57EUyxpBqS0AQpOOM3Bsdt7mzubO5s7mzubO5s7mzubO5s7mzubO5s7mzubO5s7mzubO5s7mzubO5s7mzubO5s7mzubO7+Y+6+SO3B+c+lD2FuSulaDkmKuMagGU5LPbMplX4th9/SLuiSrpiEPzXlJ6VB8RFpAAAAAElFTkSuQmCC\" style=\"height: auto\">\n",
       "              <figcaption style=\"font-size: 0.6em\">#29</figcaption>\n",
       "            </figure>\n",
       "        \n",
       "            <figure style=\"margin: 5px !important;\">\n",
       "              <img src=\"data:image/png;base64,iVBORw0KGgoAAAANSUhEUgAAAGQAAABkCAAAAABVicqIAAACvUlEQVR4nO3W72vUdQDA8ffd1+lt6c0d6x6sVSCejhlzubhTrIygIHvQg+XNjOxBBKLlIod7HCzkO1Ih6IERNHoQFPQg6q6fwixx2EJIqEddUpHB3Cib7dRt9+6f+DyKz+PXP/ACoFwAGCgB3FUGyJUJDKPWeuDx5q8V6Ju1ChumTJNgcApgXh+BD/UEPK+XoFdtDwdZOt7thNXk0F5oMXQSVumqAa1wAKNqo7RVXXqGv9VJauo0R0PBBTimjUEG1GFoagpfaT0fDjoz9GxaXvyJjh0rmRmoZJOZVfq7Wo25kADcP592QPeP54qQe+d6CXjxr+FMMKgCXNWH4T2dgBG9CN3aygUDs3AkD/Lgblil8DKsQArL4QA4uKy3d9y7oB7nslrjjHot81woWITj+u9+tqspqNMJ5/TKlnDQl6HyROv7OsXDzr8F47lbqRworXzwc0gAko/3A5w5CfDCFwmwvbYlHPQBXPb2TnhTx+GpljUoLHltXTBYzMKuXtra6B2CDrJ7M2yEp9vJZ4PBenj0T3XXnTPqBFPqRV5SW0kwEMbVtH1APVtEnS/xjS4Ph4PqGhrn/XKCG+e5OgKfbbj57BwzmZX085AAMDoIcLAKsHMMoPvVfDjoBHjfRj+8YvMA7JlzEgo/OL02GFwAuhZ0D22f6uswprNQVtvDAWz+Tn3ojrfVExxSL7F7UW0LBzCm1ovb1CsVbqkjnFUnw8FpONxcqufZ1mz+fjf80fznSfioeeM1OBIOWJPLVvJkcjxwD+SSTYOwdt3GoaAAjFrvgceav1Vg66wjsH7KySQYnI65i7mLuYu5i7mLuYu5i7mLuYu5i7mLuYu5i7mLuYu5i7mLuYu5i7mLuYu5i7mLuYu5i7mLufsf5q5W7Fd/KXNTW1W+VlOOhYJTcFS/LXCfXt8MC7oPPtE3QsJ/ywpnekQkFY0AAAAASUVORK5CYII=\" style=\"height: auto\">\n",
       "              <figcaption style=\"font-size: 0.6em\">#30</figcaption>\n",
       "            </figure>\n",
       "        \n",
       "            <figure style=\"margin: 5px !important;\">\n",
       "              <img src=\"data:image/png;base64,iVBORw0KGgoAAAANSUhEUgAAAGQAAABkCAAAAABVicqIAAAC3UlEQVR4nO3Wz2sWZADA8e9+vzP3Ome8ki5j4mS8dHiZ+C7R1wUdEiIJtHclEXpJSayssEuXgdNeMS1QkB0czUtdgg57IWI0e9nm2pCwCIKmaJi2WbYt9zaX+3bo1i16js/58w98AGqyTQCZVoCWLEBTlrBA0oE1wM3rHUCveWCnhapgcArgvD4JB2c9DluvehkaR7Q+HEBNn5rjwKL2sOl3HSf5rVpTHQxYdUGdbD2kzr/41LxaSH+jDjb2h4IRmgd1MsMZdRd71QK5G1p8aHUwWFFBU5rfvodtLI1AtrZy+AEbUxU/TIUEoPpOYRkwcTEFHJtpBTrv7qoIBnmAV3Q7bJ3yKDSXHIOKcy4lgoHAQTXHtp+1m6YxHYY+XUgEA6l9bVHvt2/+VT3y8HfqQMNH6lTtoVAwR9t1vdfFkFqgoA6RX9BrLS3BoK2CzHNLE0Ua3mL6LBxZ9mdB8um/Pv4xJAB89gLAufcB9n1eBTw+sDEctAFs9v4TsOq270Dtpw4AbzhdFwzmgC0zmqP5knZT2avDsF8X6oOB0HlL3dI4qh6lTx3jVXWpcnsokPRt9b36UXUw9aF6Z/1LD3Rx5/pboSBP5Z7SV+9CulT6BOqKpS9S1JwsfbkjJADwegZgbx4g9zZA85vJcLACYLWTaeCX8h6g3xNAl0O1wWAEWHlFO6k5v2gPHLjnOLTf1fpwAM1fqzl61ePsVy/TMadWhQNaJtRi6oJ6reOw6u4d0+qxtcHgNMkPyvPFBl4ul396lMxUefYZ1l0s/9HN8nAAJBo6kpBIZNdBXaItA9WJRzaFBWiwuAa4eeOfkXUBz3qiKhichpi7mLuYu5i7mLuYu5i7mLuYu5i7/wIxdzF3MXcxdzF3MXcxd8TcxdxBzF3MXcxdzF3MXczd/4aYu5i7f48saO7G1YFUv3o1e1hd2v30lNqzNhicInlGSyvZpzMbaJ/V53lsVE+y/Gww+Buret5an1erHwAAAABJRU5ErkJggg==\" style=\"height: auto\">\n",
       "              <figcaption style=\"font-size: 0.6em\">#31</figcaption>\n",
       "            </figure>\n",
       "        \n",
       "            <figure style=\"margin: 5px !important;\">\n",
       "              <img src=\"data:image/png;base64,iVBORw0KGgoAAAANSUhEUgAAAGQAAABkCAAAAABVicqIAAACvklEQVR4nO3Wz2vWdQDA8fejbntyaNsUcfZQaJZzEGwDbfZMrc4NKtfTz0unGUMvRR4qIpPYlq1rznB3W4d48MHLQvg29SmpkVAnn1HoI0oPuOZ8cL/eHaJDF3kGH3b6vK+vf+ANq1AK4CjjZXirpViE/Z3lcXjk0OKppVAAwJgehAEdhOxNf4amnzQdDqjbOqYe3HJ4QU807bmjxfVbr+ryxmAgz6hee2pevffS96ofH1M9nw0GF2ktaKmDYbWP19Qhni5poXFzMHg4RUu71/+AHuZ+gb31i5fhyS3Lv94NCCmAXXWle5Bpun0bNjxaLQG71/xmKFgL0K8HIHvHE5C5ZBFSpzUdDoABdT89Zf2ElqJOwpjebwgG0jG9oPPZqYp65Os/1bNvX1Nv7AkGs+y+rnOvMqkO8YV6gdfndXr7jmDQlqLjRX8/y4Z3mfsc3l/vyCy5dr+bCgmrVVel0g2bpirHoP5M5RzQX7nREAwqwL4Z7SFzWY+TGtWL0K/zdcFAtp++qT47ckn96J1v1AvPj6r324KB7FUdbLyrTmw+r/712HvqwgsdwSBHKpckw/BEkhRSrC0kyU7WDCdJDgLCarUxn28HTuXfAAbyQ8C+/Lf1wSAPNF/VA9Sd0c/g8KJXoOtvrQ8HtPT9qD7XO6p+2n1ULT7eN6tuCwdkVQsZ1enOSdXeD1WPdweDL2kcrFYnmjlUrd7awa5b1erLtE5Uq4OkwwGQbgBIpwEa0gDr0uuCQgrgSGq8DG9uKhahp6s8Dtv6lr5aCgVAnLs4d3Hu4tzFuYtzF+fu/8W5qxni3K0I4tzFuYtzF+cuzt0DinNXK8S5W3lx7mqGOHcrgjh3ce7i3MW5i3P3gOLc1Qpx7lZenLua4d+5O5dRLXX+oC73fqD/rVoQGKHxpCbN5HRmJ20z+gqtiZ7koXDwDzaSDChKaeJ7AAAAAElFTkSuQmCC\" style=\"height: auto\">\n",
       "              <figcaption style=\"font-size: 0.6em\">#32</figcaption>\n",
       "            </figure>\n",
       "        \n",
       "            <figure style=\"margin: 5px !important;\">\n",
       "              <img src=\"data:image/png;base64,iVBORw0KGgoAAAANSUhEUgAAAGQAAABkCAAAAABVicqIAAACqklEQVR4nO3W32vVdRzH8ed36nbcCuc0YzVcOlc2JsyMuTlX4HVC/jpbkRdeLJTwlBR5kRBWxBxqdxNDNIRu9KJodBBioX6nuJBML+qmJhamQwdull89gz29sKuiKPvg1ed1+X68/4AnPKg9WngMoLAc4JUugPbCtFDQVgDoP+Pz8NoX9kLHUc9D9dFfzIUDZrx+SW1/5tKkvl994YYOV356WacqCqFAVqj+tKSk3lrzteq721WPdQSD09QWdaSFPnU93eoulo9osWpuMJiVUNPE1R9hJaVvoLWcIXhyHhcmQgIAzZUAzfMAGhoAqpckwaAZoLvf56Bjmx9AXc+Nb4Gek84MBSeEVYfVtprDv+pO+of1FG98pneSYCAtv6ml9h9Utx5QPbJJ9fKyYHCTp3/W37sYUnexRz3OS5leXLAwGCxOaHmR74/w8Jvc6oO3K9lzk3wTn38XEv5uSTgAoH7TWBvMWTa2Hcobz38FNO67ngsGY/DExgltL9t4Rney4WM9Tec2LZXVhwJZcFa186Dqji2qx1ddU+80BgNpVe19aEIdnHtMvV7/ljr5QkswyJPk07QPGtO0mDCtmKaLKOtL0zwEhAe2ZweagMqBlwH27wXoGSgPB1Ax/9y4ncw/OOqHPL75imepab0y6YxQUJKaT1RXvqr6XlumDjecU33kUDCgQ7VYp3px6SnV1TvufQWDj6jqzbLB2azLstGFPDWaZWupHcyyXnLhIIEct4EcUyWoSLgN06f/cQoGxLiLcRfj7h8hxl2Muxh3/wJi3N3HYtzFuItxF+Muxt1fIMZdjLs/LcZdjLsYdzHu7gti3MW4i3EX4y7GXYy7GHcx7v7nYtz9t7j7sk51ZOmQOrX6nXtfwWAvVbs1nU1exxexeFw3UJvqbmaGg7v5YTw8dHidDQAAAABJRU5ErkJggg==\" style=\"height: auto\">\n",
       "              <figcaption style=\"font-size: 0.6em\">#33</figcaption>\n",
       "            </figure>\n",
       "        \n",
       "            <figure style=\"margin: 5px !important;\">\n",
       "              <img src=\"data:image/png;base64,iVBORw0KGgoAAAANSUhEUgAAAGQAAABkCAAAAABVicqIAAACaElEQVR4nO3Wz0vTcQDG8WcmKVbYDCIQlsqyCEQjLA916R6I6OrgQAiPWdIPCjp1KDcsCUoPFdrAS5MI1AWBEH1VSDQjxIPYbGVMSy2x/Jqp7/4Fhc8E5fNcX9fn8Ja203ZHo4WSHkQrJdVGb0sqjbanGYOo8i4lvkGgNJGAx7kfE8uM+9oTc1BQZwz0DuBTN8Bi1xJA12cAp88Y9Cs7BvEShYBKVQIhlcQhlrXLGGR7lHNU38ekU1oekE7sVK9UuF+jcyZhM+aRpFp1TklVe98PSWVFU53SgbOrkRVTIOlMpAPKvJHIGnfUHPnKsC5H+sEkDP0GloeTAGPjAJMjAL8GjcGCir7An3PpvUBoRxPwJq3ahYn8w8bgiEcl5Rp9rj1XtBiWrmfp3oICR/Xyg0nYtHcd0qQr+TLmZqWcfe6klJ5PfM0USMoLXoRiTzA4yy1VBR36dDr4kFUdNAXo2SDAqw6AkacAP1t/ALSZA10AaDjpAj3HB4CZ4kfAv/JqYxCQAo4TlvyOE/PIE3McvxR2HLOwjZbhO5ZMFsnnG0jWKdfXknyhHF9NcsIcJFXTBnC3DuD1eReYqh4GqGk1BnoCELsJMHFtFqDeAQi3GIMmqcF1e7yqcN3pAhVMu26FvD2u22ASPFKmVlakTPFXyvBoSUpP15KMwibNxp2Nu9TMxp2NuxS/y8adjbutPBt36wcbdxufjTsbd6mZjTsbdyl+l407G3dbeTbu1g827jY+G3c27lIzG3c27lL8Lht3Nu628rZX3HXfAIhfnQHW6t8ChJqNwX2pERyvqmDeL/88VMnrQKNJ+A9CnNsQ0jW4zwAAAABJRU5ErkJggg==\" style=\"height: auto\">\n",
       "              <figcaption style=\"font-size: 0.6em\">#34</figcaption>\n",
       "            </figure>\n",
       "        \n",
       "            <figure style=\"margin: 5px !important;\">\n",
       "              <img src=\"data:image/png;base64,iVBORw0KGgoAAAANSUhEUgAAAGQAAABkCAAAAABVicqIAAACMUlEQVR4nO3WQUiTcRzG8e+bkkMcNok6CKayhUjCqOikHroHYm47SUaMjouEDt0LNxStQ5c6dskRBNUrBJrwRoUnT0JRzkAIKwuV7Z1z7ukUdPTwf4fI/7l+bz9+hw8cqcXzMSCUvwrw8D7AWN4xFa7lnY0ytLSVfkFDO+s16OD7Hpxu+ukbCyxJ0ldXkkqvK5L06pskeR+Mhfe0utJqnKykEUYkZYmvSm5zs7HQ6tDWy4/P0E9lCS4d5x2cPcXKb5OhbjuZDgOkzwEkrgBcTBsLF9LO0xp0Drxdh1Diy0fB6N5sDQbPPKsYCgOdSJIqJUnSjiTpjyRpe99Y2KGnIBVTLErKkpW0SKooFbq6jIUeh/gQK7OExynl4E4zUzske3mxbDLUbQ0xAGJhgI52gBMxg8EZBc7fuvcJWh69zAMPineBscs39owFRwFd5/8dS1WBbN8msNC3AGz2ZYHq0JCxkIKk5+Ug6nmug+N6XhRynpc0Go7MnA6gf+rmMrS+efIYeL59HRhPDu4aCrdT9fmuGYC5DMBaZg0gMweQyxkLMzDh+/MRhn1/o5vuDd8fJjLv+xMmgwMhqlUIoV1ocihDYyNljIZ6zeLO4i64WdxZ3AU3i7uDzuLu8M3izuIu4FncWdwFN4s7i7vgZnF30FncHb5Z3FncBTyLO4u74GZxZ3EX3CzuDjqLu8O3I4S7aQA3I6CQKQDKuPCPakbCNExKXoSEtBUluiUliHjSpMnwF5+VGU8QaFPqAAAAAElFTkSuQmCC\" style=\"height: auto\">\n",
       "              <figcaption style=\"font-size: 0.6em\">#35</figcaption>\n",
       "            </figure>\n",
       "        \n",
       "    </div>"
      ],
      "text/plain": [
       "<IPython.core.display.HTML object>"
      ]
     },
     "execution_count": 194,
     "metadata": {},
     "output_type": "execute_result"
    }
   ],
   "source": [
    "sz = RETINA_SIZE * SENSOR_RECEPTIVE_FIELD_SIZE\n",
    "steps = 36 # 10 degreee\n",
    "specific_samples_img = []\n",
    "captions = []\n",
    "\n",
    "for i in range(steps):\n",
    "    canvas = Image.new('L', (sz, sz))\n",
    "    draw = ImageDraw.Draw(canvas)\n",
    "    angle = i * 360 / steps\n",
    "    \n",
    "    # coords = [-SENSOR_RECEPTIVE_FIELD_SIZE, -SENSOR_RECEPTIVE_FIELD_SIZE, SENSOR_RECEPTIVE_FIELD_SIZE*2 - 1, SENSOR_RECEPTIVE_FIELD_SIZE*2 - 1]\n",
    "    # draw.chord(coords, angle, angle + 180, outline=255, fill=255)\n",
    "    # draw.rectangle([SENSOR_RECEPTIVE_FIELD_SIZE, 0, sz, sz], fill=0)\n",
    "    # draw.rectangle([0, SENSOR_RECEPTIVE_FIELD_SIZE, sz, sz], fill=0)\n",
    "    \n",
    "    draw.chord([0, 0, SENSOR_RECEPTIVE_FIELD_SIZE - 1, SENSOR_RECEPTIVE_FIELD_SIZE - 1], angle, angle + 180, outline=255, fill=255)\n",
    "    crop = canvas.crop([0, 0, SENSOR_RECEPTIVE_FIELD_SIZE, SENSOR_RECEPTIVE_FIELD_SIZE])\n",
    "\n",
    "    for x in range(0, sz, SENSOR_RECEPTIVE_FIELD_SIZE):\n",
    "        for y in range(0, sz, SENSOR_RECEPTIVE_FIELD_SIZE):\n",
    "            canvas.paste(crop, [x, y, x + SENSOR_RECEPTIVE_FIELD_SIZE, y + SENSOR_RECEPTIVE_FIELD_SIZE])\n",
    "            \n",
    "    specific_samples_img.append(canvas)\n",
    "    captions.append(f'#{i}')\n",
    "\n",
    "display_images_grid(list(map(lambda x: x.resize((100, 100)), specific_samples_img)), col_count=int(np.sqrt(steps)), captions=captions)"
   ]
  },
  {
   "cell_type": "code",
   "execution_count": 195,
   "id": "792c3dac-ca1e-4f4e-9a8b-a4f798b30ec0",
   "metadata": {},
   "outputs": [
    {
     "data": {
      "text/plain": [
       "((36, 16384),\n",
       " UniqueCountsResult(values=array([0., 1.]), counts=array([331776, 258048])))"
      ]
     },
     "execution_count": 195,
     "metadata": {},
     "output_type": "execute_result"
    }
   ],
   "source": [
    "SPECIFIC_SAMPLES = xp.array(list(map(xp.array, specific_samples_img))).astype(float)\n",
    "SPECIFIC_SAMPLES[SPECIFIC_SAMPLES==255] = 1\n",
    "SPECIFIC_SAMPLES = SPECIFIC_SAMPLES.reshape(SPECIFIC_SAMPLES.shape[0], -1)\n",
    "SPECIFIC_SAMPLES.shape, np.unique_counts(SPECIFIC_SAMPLES)"
   ]
  },
  {
   "cell_type": "code",
   "execution_count": 208,
   "id": "9fe5ba15-4b95-4c3e-b557-25f1fc940281",
   "metadata": {},
   "outputs": [],
   "source": [
    "# single sensor occupies (RETINA_SIZE * SENSOR_RECEPTIVE_FIELD_SIZE) ^ 2\n",
    "# we have group of such sensors stacked under each other in a square fashion, hence SENSOR_GROUP_SIZE^2\n",
    "# to cover all visual area we have RETINA_SIZE^2 of such groups\n",
    "retina = xp.zeros((RETINA_SIZE, RETINA_SIZE, pow(SENSOR_GROUP_SIZE, 2), pow(RETINA_SIZE * SENSOR_RECEPTIVE_FIELD_SIZE, 2)))\n",
    "retina = retina.reshape((RETINA_SIZE, RETINA_SIZE, pow(SENSOR_GROUP_SIZE, 2), -1))\n",
    "\n",
    "for y in range(RETINA_SIZE):\n",
    "    for x in range(RETINA_SIZE):\n",
    "        for g in range(pow(SENSOR_GROUP_SIZE, 2)):\n",
    "            sensor_at_place = group_sensors[g]\n",
    "            sensor_at_place = np.roll(sensor_at_place, y * SENSOR_RECEPTIVE_FIELD_SIZE, axis=0)\n",
    "            sensor_at_place = np.roll(sensor_at_place, x * SENSOR_RECEPTIVE_FIELD_SIZE, axis=1)\n",
    "            retina[y, x, g, :] = sensor_at_place.reshape(-1)\n",
    "\n",
    "retina = retina.reshape((-1, pow(RETINA_SIZE * SENSOR_RECEPTIVE_FIELD_SIZE, 2)))\n",
    "RETINA_POS = retina\n",
    "RETINA_NEG = retina.copy()\n",
    "\n",
    "RETINA_POS[RETINA_POS < 0] = 0\n",
    "\n",
    "RETINA_NEG[RETINA_NEG > 0] = 0\n",
    "#RETINA_NEG[RETINA_NEG < 0] = 1"
   ]
  },
  {
   "cell_type": "code",
   "execution_count": 209,
   "id": "c4aa0d5e-c843-4bcb-9bb8-36ff4ce90147",
   "metadata": {},
   "outputs": [
    {
     "data": {
      "image/jpeg": "[encoded data removed]",
      "image/png": "[encoded data removed]",
      "text/plain": [
       "<PIL.Image.Image image mode=L size=128x128>"
      ]
     },
     "execution_count": 209,
     "metadata": {},
     "output_type": "execute_result"
    }
   ],
   "source": [
    "Image.frombytes('L', size=(sz, sz), data=RETINA_POS[4 * pow(SENSOR_GROUP_SIZE, 2)].astype(xp.uint8) * 255)"
   ]
  },
  {
   "cell_type": "code",
   "execution_count": 210,
   "id": "ed9b5115-6edc-4632-898a-8b7d15650010",
   "metadata": {},
   "outputs": [
    {
     "data": {
      "image/jpeg": "[encoded data removed]",
      "image/png": "[encoded data removed]",
      "text/plain": [
       "<PIL.Image.Image image mode=L size=128x128>"
      ]
     },
     "execution_count": 210,
     "metadata": {},
     "output_type": "execute_result"
    }
   ],
   "source": [
    "Image.frombytes('L', size=(sz, sz), data=RETINA_NEG.reshape((RETINA_SIZE, RETINA_SIZE, pow(SENSOR_GROUP_SIZE, 2), -1))[0,4,0].astype(xp.uint8) * 255)"
   ]
  },
  {
   "cell_type": "code",
   "execution_count": null,
   "id": "ed82d2ea-3b57-40e4-95a1-7f9adb8a0373",
   "metadata": {},
   "outputs": [],
   "source": []
  },
  {
   "cell_type": "code",
   "execution_count": 211,
   "id": "cc8daa0b-8763-45e4-b255-31d389cf701f",
   "metadata": {},
   "outputs": [
    {
     "name": "stdout",
     "output_type": "stream",
     "text": [
      "[1. 1. 1. 1. 0. 0. 0. 0. 0. 0. 0. 0. 0. 1. 1. 1.] => 7\n",
      "[1. 1. 1. 1. 1. 0. 0. 0. 0. 0. 0. 0. 0. 1. 1. 1.] => 8\n",
      "[1. 1. 1. 1. 1. 0. 0. 0. 0. 0. 0. 0. 0. 1. 1. 1.] => 8\n",
      "[1. 1. 1. 1. 1. 1. 0. 0. 0. 0. 0. 0. 0. 0. 1. 1.] => 8\n",
      "[1. 1. 1. 1. 1. 1. 0. 0. 0. 0. 0. 0. 0. 0. 1. 1.] => 8\n",
      "[1. 1. 1. 1. 1. 1. 1. 0. 0. 0. 0. 0. 0. 0. 0. 1.] => 8\n",
      "[1. 1. 1. 1. 1. 1. 1. 0. 0. 0. 0. 0. 0. 0. 0. 1.] => 8\n",
      "[1. 1. 1. 1. 1. 1. 1. 1. 0. 0. 0. 0. 0. 0. 0. 0.] => 8\n",
      "[1. 1. 1. 1. 1. 1. 1. 1. 0. 0. 0. 0. 0. 0. 0. 0.] => 8\n",
      "[0. 1. 1. 1. 1. 1. 1. 1. 0. 0. 0. 0. 0. 0. 0. 0.] => 7\n",
      "[0. 1. 1. 1. 1. 1. 1. 1. 1. 0. 0. 0. 0. 0. 0. 0.] => 8\n",
      "[0. 1. 1. 1. 1. 1. 1. 1. 1. 0. 0. 0. 0. 0. 0. 0.] => 8\n",
      "[0. 0. 1. 1. 1. 1. 1. 1. 1. 1. 0. 0. 0. 0. 0. 0.] => 8\n",
      "[0. 0. 1. 1. 1. 1. 1. 1. 1. 1. 0. 0. 0. 0. 0. 0.] => 8\n",
      "[0. 0. 0. 1. 1. 1. 1. 1. 1. 1. 1. 0. 0. 0. 0. 0.] => 8\n",
      "[0. 0. 0. 1. 1. 1. 1. 1. 1. 1. 1. 0. 0. 0. 0. 0.] => 8\n",
      "[0. 0. 0. 0. 1. 1. 1. 1. 1. 1. 1. 1. 0. 0. 0. 0.] => 8\n",
      "[0. 0. 0. 0. 1. 1. 1. 1. 1. 1. 1. 1. 0. 0. 0. 0.] => 8\n",
      "[0. 0. 0. 0. 0. 1. 1. 1. 1. 1. 1. 1. 0. 0. 0. 0.] => 7\n",
      "[0. 0. 0. 0. 0. 1. 1. 1. 1. 1. 1. 1. 1. 0. 0. 0.] => 8\n",
      "[0. 0. 0. 0. 0. 1. 1. 1. 1. 1. 1. 1. 1. 0. 0. 0.] => 8\n",
      "[0. 0. 0. 0. 0. 0. 1. 1. 1. 1. 1. 1. 1. 1. 0. 0.] => 8\n",
      "[0. 0. 0. 0. 0. 0. 1. 1. 1. 1. 1. 1. 1. 1. 0. 0.] => 8\n",
      "[0. 0. 0. 0. 0. 0. 0. 1. 1. 1. 1. 1. 1. 1. 1. 0.] => 8\n",
      "[0. 0. 0. 0. 0. 0. 0. 1. 1. 1. 1. 1. 1. 1. 1. 0.] => 8\n",
      "[0. 0. 0. 0. 0. 0. 0. 0. 1. 1. 1. 1. 1. 1. 1. 1.] => 8\n",
      "[0. 0. 0. 0. 0. 0. 0. 0. 1. 1. 1. 1. 1. 1. 1. 1.] => 8\n",
      "[0. 0. 0. 0. 0. 0. 0. 0. 0. 1. 1. 1. 1. 1. 1. 1.] => 7\n",
      "[1. 0. 0. 0. 0. 0. 0. 0. 0. 1. 1. 1. 1. 1. 1. 1.] => 8\n",
      "[1. 0. 0. 0. 0. 0. 0. 0. 0. 1. 1. 1. 1. 1. 1. 1.] => 8\n",
      "[1. 1. 0. 0. 0. 0. 0. 0. 0. 0. 1. 1. 1. 1. 1. 1.] => 8\n",
      "[1. 1. 0. 0. 0. 0. 0. 0. 0. 0. 1. 1. 1. 1. 1. 1.] => 8\n",
      "[1. 1. 1. 0. 0. 0. 0. 0. 0. 0. 0. 1. 1. 1. 1. 1.] => 8\n",
      "[1. 1. 1. 0. 0. 0. 0. 0. 0. 0. 0. 1. 1. 1. 1. 1.] => 8\n",
      "[1. 1. 1. 1. 0. 0. 0. 0. 0. 0. 0. 0. 1. 1. 1. 1.] => 8\n",
      "[1. 1. 1. 1. 0. 0. 0. 0. 0. 0. 0. 0. 1. 1. 1. 1.] => 8\n"
     ]
    }
   ],
   "source": [
    "assert xp.array_equal(xp.unique(SPECIFIC_SAMPLES), [0, 1])\n",
    "\n",
    "specific_samples_sense_pos = RETINA_POS @ SPECIFIC_SAMPLES.T\n",
    "specific_samples_sense_neg = RETINA_NEG @ SPECIFIC_SAMPLES.T\n",
    "specific_samples_sense_pos = specific_samples_sense_pos.reshape(RETINA_SIZE, RETINA_SIZE, pow(SENSOR_GROUP_SIZE, 2), -1)\n",
    "specific_samples_sense_neg = specific_samples_sense_neg.reshape(RETINA_SIZE, RETINA_SIZE, pow(SENSOR_GROUP_SIZE, 2), -1)\n",
    "specific_samples_sense_ref = specific_samples_sense_pos.copy() # reference\n",
    "assert specific_samples_sense_pos.shape == specific_samples_sense_neg.shape\n",
    "\n",
    "# Base for calculations = AREA of illumination must be at least 1/2 of area of positive receptors\n",
    "# Next we exclude sensors which do not minimal LEVEL of illumination = area * (255 * 10%)\n",
    "# Finally we exclude sensors which do not have enough contrast (DIFF) - use NEG part of retina and use logarithmic scale (dB)\n",
    "# For specific samples situation is more straighforward, since is liminiscense is binary (0 or 1)\n",
    "\n",
    "for y in range(specific_samples_sense_ref.shape[0]):\n",
    "    for x in range(specific_samples_sense_ref.shape[1]):\n",
    "        # Matrix of how each group of sensors (rows) perceives each of specific samples (columns)\n",
    "        perceive_matrix = specific_samples_sense_ref[y, x]\n",
    "        assert perceive_matrix.shape == (pow(SENSOR_GROUP_SIZE, 2), SPECIFIC_SAMPLES.shape[0])\n",
    "        cond1 = (perceive_matrix.T / group_sensors_ones).T >= 0.5 # At least half of a positive area of each of sensors is activated\n",
    "\n",
    "        perceive_matrix_pos = specific_samples_sense_pos[y, x]\n",
    "        perceive_matrix_neg = xp.abs(specific_samples_sense_neg[y, x])\n",
    "        assert perceive_matrix_pos.shape == perceive_matrix.shape\n",
    "        assert perceive_matrix_neg.shape == perceive_matrix.shape\n",
    "\n",
    "        cond2 = perceive_matrix_pos > perceive_matrix_neg # There is more activation on positive areas than on negative\n",
    "        assert cond1.shape == cond2.shape\n",
    "        specific_samples_sense_ref[y, x] = (cond1 & cond2).astype(float)\n",
    "\n",
    "for i in range(SPECIFIC_SAMPLES.shape[0]):\n",
    "    v = specific_samples_sense_ref[0, 0, :, i]\n",
    "    print(f'{v} => {(v == 1).sum()}')\n",
    "\n",
    "    for y in range(specific_samples_sense_ref.shape[0]):\n",
    "        for x in range(specific_samples_sense_ref.shape[1]):\n",
    "            assert xp.array_equal(v, specific_samples_sense_ref[y, x, :, i])"
   ]
  },
  {
   "cell_type": "code",
   "execution_count": 212,
   "id": "74647b50-c55e-4e31-b2cd-31cb4f8a8ffb",
   "metadata": {},
   "outputs": [],
   "source": [
    "def lay_grid(image, step):\n",
    "    draw = ImageDraw.Draw(image)\n",
    "\n",
    "    for c in range(step - 1, image.height, step):\n",
    "        draw.line([0, c, image.width, c], fill=127)\n",
    "        draw.line([c, 0, c, image.height], fill=127)\n",
    "\n",
    "    return image"
   ]
  },
  {
   "cell_type": "code",
   "execution_count": null,
   "id": "8e66a9bd-31e9-4ba7-b5ce-f3904cff74bb",
   "metadata": {},
   "outputs": [],
   "source": []
  },
  {
   "cell_type": "code",
   "execution_count": 267,
   "id": "3c683677-a0a1-4ddb-98fe-b587a7c552cd",
   "metadata": {},
   "outputs": [],
   "source": [
    "MINIMAL_ILLUMINATION_ABS_LEVEL = 255 * 0.1\n",
    "MINIMAL_ILLUMINATION_DIFF_DB = 2 # dB\n",
    "MINIMAL_ILLUMINATION_DIFF_RATIO = pow(10, MINIMAL_ILLUMINATION_DIFF_DB/20)\n",
    "\n",
    "def perceive_images(images):\n",
    "    sense_ress = []\n",
    "    image_masks = images.copy()\n",
    "    image_masks[image_masks > 0] = 1\n",
    "    \n",
    "    sense_area = (RETINA_POS @ image_masks.T).T # for check of illuminated area\n",
    "    sense_level = (RETINA_POS @ images.T).T # for check of absolute illumination\n",
    "    sense_neg_level = (RETINA_NEG @ images.T).T # for check of relative diff\n",
    "\n",
    "    assert sense_area.shape == (len(images), pow(RETINA_SIZE, 2) * pow(SENSOR_GROUP_SIZE,2)), sense_area.shape\n",
    "    assert sense_area.shape == sense_level.shape\n",
    "    assert sense_area.shape == sense_neg_level.shape\n",
    "    \n",
    "    # Base for calculations = AREA of illumination must be at least 1/2 of area of positive receptors\n",
    "    # Next we exclude sensors which do not minimal LEVEL of illumination = area * (255 * 10%)\n",
    "    # Finally we exclude sensors which do not have enough contrast (DIFF) - use NEG part of retina and use logarithmic scale (dB)\n",
    "    for sense_area_i, sense_level_i, sense_neg_level_i in zip(sense_area, sense_level, sense_neg_level):\n",
    "        sense_area_i = sense_area_i.reshape(-1, 16)\n",
    "        cond1 = (sense_area_i / group_sensors_ones) >= 0.5 # At least half of a positive area of each of sensors is activated\n",
    "        cond1 = cond1.reshape(-1,)\n",
    "    \n",
    "        sense_level_i = sense_level_i.reshape(-1, 16)\n",
    "        sense_level_i[sense_level_i <= 0] = 1e-6 # to ease cond3\n",
    "        cond2 = (sense_level_i > MINIMAL_ILLUMINATION_ABS_LEVEL * group_sensors_ones) # Illumination level of an area must exceed given threshold\n",
    "        cond2 = cond2.reshape(-1,)\n",
    "    \n",
    "        sense_neg_level_i = xp.abs(sense_neg_level_i)\n",
    "        sense_neg_level_i[sense_neg_level_i <= 0] = 1e-6 # to ease cond3\n",
    "        cond3 = (sense_level_i.reshape(-1,) / sense_neg_level_i) >= MINIMAL_ILLUMINATION_DIFF_RATIO # Illumination of positive area must be > illumination of negative one\n",
    "    \n",
    "        sense_res = (cond1 & cond2 & cond3).astype(float)\n",
    "        sense_ress.append(sense_res)\n",
    "\n",
    "    return xp.array(sense_ress)"
   ]
  },
  {
   "cell_type": "code",
   "execution_count": 268,
   "id": "31cd553d-edb6-42c3-8b08-eb8a0d909e12",
   "metadata": {},
   "outputs": [
    {
     "name": "stdout",
     "output_type": "stream",
     "text": [
      "CPU times: user 2min 20s, sys: 3.28 s, total: 2min 23s\n",
      "Wall time: 15.5 s\n"
     ]
    }
   ],
   "source": [
    "%%time\n",
    "sense_ress = perceive_images(IMAGES)"
   ]
  },
  {
   "cell_type": "code",
   "execution_count": 298,
   "id": "de26bf28-0b0c-4920-88cb-d671e065e681",
   "metadata": {},
   "outputs": [
    {
     "data": {
      "text/plain": [
       "array([7.14, 1.55])"
      ]
     },
     "execution_count": 298,
     "metadata": {},
     "output_type": "execute_result"
    }
   ],
   "source": [
    "sense_avg_bits_count = (sense_ress == 1).sum(axis=1) / sense_ress.shape[1]\n",
    "np.round([sense_avg_bits_count.mean() * 100, sense_avg_bits_count.std() * 100], 2)"
   ]
  },
  {
   "cell_type": "code",
   "execution_count": 299,
   "id": "674646eb-80ac-4d89-b777-0280ccc22449",
   "metadata": {},
   "outputs": [
    {
     "data": {
      "text/plain": [
       "array([22.97,  5.76])"
      ]
     },
     "execution_count": 299,
     "metadata": {},
     "output_type": "execute_result"
    }
   ],
   "source": [
    "image_avg_bits_count = (IMAGES > 0).sum(axis=1) / IMAGES.shape[1]\n",
    "np.round([image_avg_bits_count.mean() * 100, image_avg_bits_count.std() * 100], 2)"
   ]
  },
  {
   "cell_type": "code",
   "execution_count": 301,
   "id": "7c617032-762e-40cd-9fe5-37a39ef288cd",
   "metadata": {},
   "outputs": [
    {
     "data": {
      "text/plain": [
       "np.float64(3.22)"
      ]
     },
     "execution_count": 301,
     "metadata": {},
     "output_type": "execute_result"
    }
   ],
   "source": [
    "np.round(image_avg_bits_count.mean() / sense_avg_bits_count.mean(), 2)"
   ]
  },
  {
   "cell_type": "code",
   "execution_count": 285,
   "id": "79ead318-b480-45e6-be94-08b3792b985a",
   "metadata": {},
   "outputs": [
    {
     "data": {
      "text/html": [
       "\n",
       "        <div style=\"display: flex; flex-flow: row wrap; text-align: center;\">\n",
       "        \n",
       "            <figure style=\"margin: 5px !important;\">\n",
       "              <img src=\"data:image/png;base64,iVBORw0KGgoAAAANSUhEUgAAAZAAAAGQCAAAAACl1GkQAAA1yUlEQVR4nO2923Ik2ZEd6u77FhGZqKI45Ew3q5rDmW6ZiZTJTE/6nvN4/uKc39MPyM6R2JSm76TY3axCZsS+uuthR+QFSKCAZhUyEh1eVlVAOiKQO1buqy9fjnDCzH/6L//05X/9b7I4ntbxH//z767o1suLndUWQGZmCyAzswWQmdkCyMxsAWRmtgAyM1sAmZktgMzMFkBmZgsgM7MFkJnZAsjMbAFkZrYAMjNbAJmZnQREDv5dHE/rOAlIzgKSF8eTOxjw9JAlAsKL46kdDADanHDoRoFq7e1etTg+qKNVwPo/3XodQL1uoPutuX3J4vigjt+sIOH/fet1AGg7nXq/OJ7Y0bRW4f9zwrHY+Ux/eeJF7K5M2PSL46kdK6f0f73tAP3JZy83f/zqxLSzOD6k4/XvGqv/263XAYx+/bL/6hS3bnF8SAf9+tdGn9gxQgwMHE4slRfHh3bcsTFUeIdncXxIB+EdRydGIaDGxfHEDo0gy2nvzGwBZGa2ADIzWwCZmS2AzMwWQGZmCyAzswWQmdkCyMxsAWRmtgAyM1sAmZktRLmZORai3JwcC1FuXo6FKDczx8+YKPeqge63+tbr9zgWotz7d+wfATYrHXt/c2pFgHal0/bGrfCp3u5ClJuh/dyIcggADLpbmbgdyo01DYtuVyZuhoJUO4/cc6sP4PiZEeUQABEAirSf/O7l5n99E5QGFBj5BgKZ21e/M5s/fRtIAcj4B+Sp3u7PjSiHgIgImOXKfQz+z58P2gLCDhBJZW1/A8Of/9grDTIaiDzV2/25EeXGphJDKQAAgEiAuAeEhQgBRIQLsDDLXbf6YG8XT6zwYK48svfgQKVIMV41BGb9D0FbJKzjGAhwLs1ag1r9wiExFy5cmPnp3i4hwElARirXiU51yQ5EIqW1VkhXrQLz4tdZOSDCA0DsSw16/Q9esJRcSsm5FC78RG9XI8jpHvI8DVEpbYwh3VkEvfoFa4uKkCogwrmolQbVvXAsOaecMwKAnCAZfjj7GQGCQKS0tVablSMwawZtFSlCAhQQ4ZxxpUF3L0MpOcUUCUAY4cSn+YPZzwcQRELSxjjr7NohmJVGY7RSagSEJRVWWlTHoaSYdCAUKYWWHvJhDFEpra1rmmblCPS6U8ZorRQpQAEpnHPJJamOYooxKEJhzk+Lx88JEEBS2ljXtt3KEepGWWOM1ooUAgAXzjn2m6SVSyF4VfuHrhPJyYjSh7CfDyBISmljrWtWq84R6FXT2LGLEABwKSV59KCMSl4rQiickiJchqwPYAhUl1jOte2qUwS6fdFOXaQCkkvqgwJqXFaEIJzy5Hw6+5kAgoRaaW2MdU3TrVph0N2LzmprjFZECMK5lKSuFZBbZQThkitYiMsq673ZdFqCirSx1ljnnGu7JgdQzXo1AaIQmHPmJI6AbFskl5yjUUrRMmS9ZyMqqEgpY2yFo23bxicg162MtsYoRYTAXLKkZAjIuJJDqkvip8bjeQOCCICkhbTSyljbNE3bNk3b2oJApmmNMtoQIQAQIglajYBKo9ZaVTgAlx7yXgxBKiBKF221VtY617ZN27ZtYxMxaue00lqNzxsJRbRCQNJQ0didcz2hnQTk/HSx9+NAAECls3G6Lnjbrmvbtm2NJ0ZtrSa9X0QhgigCACRVsUDEehr/hO04CchceWSPcQgApCKAgKSNMdY513ar1Xq9vrpSA4Fyq5W6cZE2CgFJAREiiDDnnFKSJyTKnR6y5skje7RDRABJi3XWusa5rl2tV6tV15ElQG1v4gGANYKI0+ZcRLhGsxai3N/jQEDAAl2rQHUvcrMy1jln27ZtrFYoLAAl9Op4zyeQN76A5MipMAApY5vMoBIvRLm/z4GAggzuNw00/6hYO6W1NtpYDdlL6fFthv7r3ByerCMIcP+dh3zNEobEqhHTvgg+xsKgXrcLUe4nOKbgYP2amtYkHwQJEAmRkBSRUgpKEtNadWMJhVK8T2Q0cBlDuIW5htYXotx7tRtP/gmPQh5rz5QoV6kkqu0Mx0xKK1J1LUuIRMT9NrurFg+IcCLCIsX7TFpLqd1j6iIA2K3tQpR7vKP2hErAEmw//uRl/P5atV3j0FhrjdFGG2fTd1/mq09fEexYciClFC79X767Vi9aDt7n6P3gvfcpZgb9yad2Ico93jEBQkgo+EL9+mV++716AahRu6ZtnHPOrdqQ/7xdvfq9PgCEc04lvSk/XqvuZdlykjRcbzbXm+0wRAajX8FClHu8Y2pNAQBAlxhAWCFpY13Tdk3jnHPrVjsCaszh3KKU0Vl5gwCkgBBAuKQYvB+GJ2zHsyXKIZGQUQiknWmapmmb2kHq8S7irb0Zp1RyYQCoCysBQCSllFLlidrxDIlyCHVCJyIlymkEMq6e8rZt45w1ejq9knJAuBLhnFJJqQgIl8IiE7POmCy8EOXeh+F4uKiNsTUW4qzVxmj97iCHHNhTvNedPTNADjeG46kUKa3NGJ2y1mittVJ0ey+yf/hyy3b3/PD2zAC5bRMgxlprrR5ZJoT37Q5PAvJE9nMARGmtKx5W6UpVvP/jfj44ni8g+6dII//HWGuMUkoRwl1zSI1F3QThSRF5roAATJM6Kj0NWkaTrtzqe3vIOUes5wzIGA8fhyxjjDGaFD0x8e2x9hwBwZ3RNIcYrY3WWhEREbyTSbLMIe/R6rNGJCTCcZVVe4jWhGqHhcjTZuI80J4fIABISEREShEAkN5bDVOd+/3da88PkDpWKaVIKUQgBRUMpZSakm4RxhXVHXcgPLSnfPfPEBBAIiKlNRmtEFCh0VorpbUiBXCw5T4GpD56BEAkPh8iz44oh4ioSGltlLEKgTRYa8zI1B2vuPWIcexYBFB3Lnuj+3eRC1HuHQ4pgIKktDHWGQKyqmvr6bvdXaE1AurDtqNCwAJWI5CyJdkUtVaq6ggAQGEBKSee4kKUe6ejZq5ZZ5rOEZAybVOPFQ+uwNshCVICRisAVIbqrmU8iVRZACZkPmQ7nh9RDmtipzHGGmebtlEApBBKCgbF7cae5AuUYdhDJMIlZ85DZADOLECVJlcYlYkhr1oFqm0z4I3BZiHK3efAGpoipZTWythOQ2GG4t+2zpl9maHytYf+y3zQR0QKF+HhrwHydZEYYkbTku1expBK5OZjB90nmm8BshDl3unAkUqKSMZqZFDqZuqNDEMyXXMwWwuICDDHmFEp4WqFubCwMKimM2kbBABv7CcXotyDbKeBVUf/n3L1edh0z4woN9EStNZKa0iRbdsQjoT2HUqy3SR71R5+1Ct0pd8ms3LIhZlLKaVUTqmgbVTc+gK3ti8LUe4eB5LWzjVN27Zd0zRqSNj++pdOUx2zdlfkLz5/s/7X1wqm4Gw9RST0X/1baj76FUWffPRDSX4IMcSQ9K8+7jb/9m0QYuDTv/zvb8fzI8qRMq5brVdXL9Ci6TRvwf3y1cooa4xWe251SF+/6V793tRni1W8jEXhdfrzW/er36phM2x7LKGE7bYfhm2w9Cvov/0fWyE+XrIuRLn7HKUUNJlRaeva9QuVVFHdi7UmY44qOTaWgJwFuJmys3IE1Kw0CYrkaLRShMIlEwNw8ulDt+N5EOVo51DONW3brdbrqxcvX9KghEzTItCx6hXzib2ZSJUi3dMinEsp5VI4gzYIqEyQW3yqhSh326FHB2nrum61Wq3XV1dXL17CWw2onREGKQyTuiJBzAKSkxkpp3XzLGCBRaAeao10LpdyKVJA1QT2JMCFH/aufuZEOURBPT7EpmnbrlutxBKgsVoYa67U/SEpnDLblb5hapx/nkBk4zkAUrkMxFQpitaN1NGOLQJqS4KAICi7BLaTj3UMNQLW8NYNe6pD+GcBSBVsyMpOjNG68m2KIUDSiACjJPKDnuouBIITRk9ozwIQAEBtypho27Zt2zrnnMsaAR7PMrlNJX1CqsOzAAQFSDtoWufaruvatmkaa41BtT82ecABigiyAAiXfGylFJwodB+6uzwPQADIOtV0TdOuVquua5saACF6BLlkfOQgJUM6tlwqVCLyoY+4ngMgBABk2tKum6Zdrdertq2ZIPy40UoYmQG4JEk3re7p+WRc6b3acwAEEUC5Vrp123Sr1XrdtY2zD8kCGa+HsQ4CQxEAybGEEELw3vvgQwghJixyH1Hl/dkzAAQJAZTtcHXVtF23Xq27trFGqxN4jMfx+2t3/4uIMDALcIpU0RgthBixCIiwCH1gUJ4BIEAIQK5V66u27bpVt+pa54x6tOBu3c8D50DhhkUqXE9cPrRdPiCVMapsp6/WXde1q3bVNs5ofVNZ5t6bAIAI8zhkYe0awzAMw+B9CEllARCWO5gO788uHhBEIhQk15nV1WpSKHNWHydJ3V4e4UHICgCQ64mXAOcIYRqzBu99CCGrck5A5kN7e7dD6r5a2dau1qtxE9JYY26z4nD3Hx5/Ub8RqWOS5CjjSDVNIjHrInWRdROQhSh30zgXFiDTNOur9aprW9c4Z601BkbmIsB0UDWZ0QikD4MhqAiRARGBS+YYg/dDP/T9dtsPYQAIBTjF2w9yIcqd9ICy0nXdat21jXPOGGMMABGervZLeNuB0ypZcuIUY9wPWxEg5EVR7mEOVHbtFKAWqzUhCJeEzDlpp/xQoAxxFLKU3RXgTxHlUua0CQU4efYx5cKASttcREVwjkA1i6Lcux1Iuvt1C6CAcl+CMUYpTYoUGUxfe9h+kQGOh36C9LWH/osbRLnCXPz3AcqGOYYsugHTvQgxppxR/6aB7rcnAt4LUe7Wy6SsMyCCSinap3YAIfs+27a5ea6IwL7PR0S53TFWChm1gj1NjitRjppFUe7nac+AKEe6aS0KKF1l3MdCeIgi/XVy6+72rbjfHDtwDILk4BMaBaOYXMmlMLPgUnr1wQ4k3f3TK0cZ9HrdOmeV1kSESAryF5+/ufr0E4Cbc0j88k9v1p++PlxnSSmllP5/f5fUVcvehxQG7wc/hJjKUnr14Q4k+wv8JZAINS+uVl1rralyJrby4V7/4fYqa8jfvOle/f5wzV/lmd7wj9equ2LFSWK/2VxfX28Hn5fSqw93CGcbuGY5kzbWOrcrmtM4AnIEt8LinSMgd7TiV8qkEqMlQGWzriV2corBD/kJG/gciHI1CVB4jLzWR6mICLjcsQXLpxylsFTdslG7tGr8apWfqoHPgiiHUD/NwiXnlKJCkKKVImogFQHJcnvIqo582HjJKddTGICayauU0trYlEp+wtKr886if4SJiAi/H5oI3rD39y7fbc8AkL2mEk+ZT1x7xGNBwT1X7jYiT8QDegaATA9MRPZw/KQeMl60u3JUsFl6yOPscEz5Oz7GexTPogI02cUDIljPzaez85/eOeoUVEO5tZsxi+zLuzyNXX4Il5RSlSFdSdc/aRaueHApIgBci9vXk8Wn7igXCsiYHAACpI1RCECg9qW8Hns7AeGa5VmJciWllFIpo6LyU9olAlIHKKxKS0pbqxBQURXkJaTpDP6Oq2+9LiMgpeSR5JBDjDGlPJ4tfugGHdolAgIING6nhZR2TiOgQquNVmpf8u7ggpuP9FihSaRu9EvOuYhwVMn7EEKMOZenHrUuEhCgqhmHCkibpjEEhGTN2Ecen18jwMxcckoFgCOkYRh8CDHlXJ6Az3toFwkIIpIipUihMrZpLAEqbQ8QGXvIQ1GpM3rOMWYBDjn2fT8MIcb05LPIhQJCpJRWWpE2ruksAWpnral6SkQHomNyKm3quIBnpcCVklMIWaCwxL4f/DB2kRGQc6a0zZAPd+yoEvvaaGWsa9qa2+mqcNyo7Y50xIeTPU8Obz1ckXo2GWPMAqWk0A9D8MHHlDLzUnr1HQ7JAiRAShtjXNu0FkG5VaUtWmMUjWKwY740wM0NsNUEqM3u5QKCIKUOWXkYhn7wwcdxrSVP1sCLJcpJlY0zzlrXdrWHjAV0rNE73judEI4bPXDDwcxl6iF+sx0GH0OoyVPyZA28VKIc1WIHzlhnrW1bZwkAgEtUJCXpcU5XEIYCZQgEvD/4RUSE5BnKsLWQAaTOH3EYttt+SAwizIBEmpG0KaUwP1EDL5UoN87oNaVfW2O0hrgpW1slZgipnqCPfLiEcEh9RwQoX3nov8wKC2A9xColxhB88BnsSnUp5VwyFy7CLPxEDbxYotxRwGKSsSZFOPaNuuId+XArd1OV7yRRrp4oVoGsSo4THitXyFM1cCHK3WFPus69YZdIlKvaF2r3B0sR0zhVg0mHO5A9Ua5uRgQBAAWk30S7bolZgIGFhblwyVlIQeh9YRCBaWuJT9bACyXKKa1tVdEwzjmlVczY/voX7bgr3CvE5C8+f7P+7BXtNOAEqyRQ+eLzuP7X39iUmAvnknOOIfhtyUhl++1fh8yZ5bCTLES5exzauKZtu7Zr2wLKaV0A3C8+vrLWOqMOkm+rcNwfFJS9ngMiAqT8NbS/+Q9N8LnkHFNMYei34jkhwvDXL97Gkm6oMC1EubsdKbEgaZ2LCGCtSkG2aa117mhfVYly+vb21zoCci02jCiMwCWnGIP3gQRK2G7izd+/EOXuc0wy+UpNJbmhCu8yHwvH3UWUgyIgJZsYYorBex+GYbvdXm+SKrfTCJ+sgZdKlFOmniLWkiDjUfsYYcJDuYDKhyv7IQvHAHl1BPF9iGEYBu+Hoe/7Nxu2RSEAEJYzNPDyFeUOiWyPJ7VJySl63/d9PwxD3w/XW+hYAecnD9zu7RIBkenUfIqsAxyIZNyE5OjZ7lbFNSGkpOj7Tb/p+34Y+mHT41WxwKU8bVDq0C4RkGrjOfw+C/2xPUSYc4pDv91eb/vtMPR+O6jAAMLl3Vd/KLtcQP5+Ey45hqHfXG+2294PYettZIBz4vGsAHnsFCKccwzDdrN5u9n23oc+lnhCrOFJ7YIBOZjOf9oNxh4ybDfX19veh9hnSfwkMmV32wUD8lMWVkcmNUVqGLbbzab3MflCieEuuYinsUsEBJGOytoRjti8a9BCPDzCFZGScwxh6Pt+2/uYMlNeAHm8IR5rHSOiwKP7yshsSCl6P/R971MSiFmWOeTRdlt2GuAnzSTCXEpKKVZdRQYoReDJcnNO2qWlIyBWQA5LP6oqbf1oNfDaR0rJOaeU87mhqHYhgNRMAwBEApzg2EnlE/y0PAQRrpCUUrvGmaKEh3YhRLndt4iwLzOla2FuUGO3uQnJTeG4nfsgmC4yhdLP2sDdSxdElEtFQLjAmE0+FfhwDrdUSDtnyBw3pxLl1O1xoJZeNaQVgUjJKcV8/gZeGlFOxkSNsVa60kYbY42xoBFwXw16b3g3UQ4BkWQXSdntBU+V3nmqBl4SUQ5BwLUKVPsi2s41bdc2zhhFCFKAAUocSKPZF4QGAIiTcFzZHUXWwSoNBYrfliFmBmVcG3lggcpVO1/LL4gohyBgXjXQvdJZW6Otda5xCrLn3MOmwPBdaghv1NrOk3Dc9Hmc5pDy9QDDN4E3bzaJ2n9nrvoQRc7e8sshylX6TtPp1AcmJCQktd+FlCy6MQpvbMX3fLgD3mK93zAk01jIqaRcOYoj7eesLV+IcjO0SyHKoQB1a5P6IJUeV0kORKSJw1DsqlEgN1I/ZLs5rSgn/SbalYOUcko5p5ILM5+/5RdDlEMEhub1v7zsv/wL28Za17i2aZxzzjaW//rnYf3JR67muk2jEmAlyn36+sQc8sXnsfvnf+TrN9dvk7++7rc+pMLnbvnlEOUQscBKf/zS/+V/5nbddt1qrSzZruvaqzbn76H96LMVyEG6pwBOFVZPrLLyN39rP/oX/t8aw3V4+8Pf/nbdh8TnbvnlEOUEAGCIDJJCVskUFkRSI4UxWQJyXXeUTYgwEeXMHUQ527KzikBKisEPcRYtvySinFEIqCxZU5MJTU26VSMvSwT4xnX3E+VG6YwqHqd15nM38IKIckhYxGoEMlY5Z+0u47amryEIlyKlRq4AoA5ZO+G4W0NWEZCSuLDAmB1nOZVzt/yyiHJYT3sVHBwsVuMxZHjud/he7DIA2eVFAdHE7K0VnY0xuozH7zKW9ByvechNa5+ZE5SXAQjAKFuFREDqRh8phLCvNvHo+87LLgaQ0fCgh0yWaw+Z3bP9SXYRgIwc3jFiSHVVdFBcm3Aa1A6mynfBsw8xPrFm3P12EYDAboFUAak6J2NmtKorrSnTYLcX+eBVaz+MXQog07EHEYwUh8MeAnAx7IB32aUAghMTjoBq7tQYUK95ngeaMg/vGfWSmU0+FwLIbsBHwpo3tesjap/mWQMfMqsH/Fi7EEB2Gz8iOWRljWJMAPNbv/5EuxBARtFLwGnZq2sPUUoRqHEsG9dY8lBwqg7Why+R/ii7DEBwB8h+Uh/VFRXBgZDyIyCpmsmTjPUHbsDD7SKIcmNZDwAAxGMWqSKE3ZB1sOLFkxVWj/cbe6W46bsZtPwyiHKcGCRPArpVcbGy5Bo70d7gNt/6TqKc0QhIuhAiTIVHEp+/5ZdDlBMGFqmr1JEmN24MAUYG9ok73UuUqytekVq4nkeq3FlbfjFEOSTSqNdOAdqGnNEKgUsKXqM4guTHCqu7yQDr0z4gygGAjDVwASAOBcqw4T6kAqRsEwvqXM7d8oshyiESoWr+0YF5QehaqyRui7/+0VmnEcrXw1hhdT85I+A7iHL+2yibt9uI7qVe/dLHVJ5KOO4ZEOUAAUE5pzlmIDWW6xpVxUGGW3y4es1totwIiAxDMq2VkkrOJZdSysgcXohyix3bhRDlEAF10xpOGavI+KS7T5X25tYdwFGcGo8U5Y5N+k00nZWcck4551y41LX1QpR7iAMRFer2o49f5rcbahrXmLZtm6Zx1hqs+nCffQI7FZRJmC9/+cc3689eT+OUwKR1kr76PLav/oGv326vw3az6YcQcnmqCquXT5RDIk3mpf4llO3fVEaNpn2xvlqvVl3rCFL+GvYVVgHGVRZAzF+96V7/gfZVKcb9oi/f/M39+nX5nmQow9sf3rzd9iGVc7f8YohywpBUaZIACFNVkdPWuqZtO5j04U5UWHWOgJy6fZDSWgLUNmsC4cqT62dClDsd1pkdUQ6NMZUoZ3YhEBEuJQOMtLdTtyp3qACkLMA5xpRKKZUrN2b6LES5hzhQaaONMwSkrDZmBIRLzmlXSFUqf7FeME4VBw6AqdIkKghJgKPPIaXCXHscJz53yy+FKIdYz9oJALXRRmutx6TbR99LAISkCIDklFM+Q1Gj++0CAEFUpLQySiGiMroqLqrHCQWMyZ0iAlCkFAEuKad0hrJf99uMAZki5FRHrDqHaGucHWnW9PiqqKOee2IBSTHFERGZDyQzBwQBgUhrY41zGoGs2KZWCdET7/0xNlYwTkWAc0ghxpjzVEh9FjZHQKawByAiEBJpa61rnEEgq0zbNk1F5FDp/d2GALWcNJSYBTgOyYcY4zhqzQSSOQICAFVwiXBM3rDOubY1CArRtG3tI2okAI1LKzkuE3LqpgAiXLLkUAGJ3odx1JrNoDVTQAAACIkIFSmtrWuatjUEymjbtq6xbqzd8sh7CnNOJYfMwEGHsVhh4bOq+h3ZTAGpPJKabqu1sW3Ttp0lINc0jXPWOmvMbhI5CIzfQujGC1JyytEngRIg9oMPIaU5TSIzBQQQYBT9UcYY17a19pdqVq1z1hjnrNFKjXjIjrEgh3e4OYSJCJeUYvBJpIQS+sGHGFNeAHmAEZHSdcHrXNuuutYQKLfqnK2qM1oreiyhl7nkFAafGEoIoR+GEFJ68vqq99hMAamyWFoZY4ypp4irhgBUs1pbbZTWxqijda/c/AJPUG2qVK/3PgqUzH47eH+O+qr32DwBqduPketjrWvbbrVykoCa9coqQ0ppTXoqjAAAN8YrqNPJzacsXEqOtYdwjMMwDCGkcSfyRG17h82VKFfZV1ob66xr2rbt1iYVUG61NqTHClQn09im/eQhUW537yoMOwxRoISh97WH5LoRmUXL50qUi5BZBElr45qm7VbrK9MHUN3LK026KvdOE4hVCKg1wA39MjAagQ5aSJoQSoneJ4YyXG+9997HEFMss2j5rIlyYxzKuNpBVmuViVXTrQzeePBEdwQY8BaDTrjWDEkCJWy3PgQfQ0ppJ7+/EOXucKxSe2Wdc23TNG3jnNFEhMA5hYIKKmMXRUQ0+KFAGXoDu4/dEVEu7sas5Lfb7XYYwtghkJRhRG1yznUOWYhypxwtdJ/YbBuljbbGGGM1lAFoYOi/Te1u4qg7DZoqrCo4+NjtiHLbL/JuGikphDD43hcGcC9UyJWWxTxN6gtR7i5H4Kr6SrW2KipFyAWMswdFpsYy6SeE46qXfZ9t14zfAVRJWC6liEipJ1hynI+wEOUeZIcKDc/c5kiUW9u4GUDpenRSmaOkSfxQmhu0NwEA4H6T3Lqd6Fdj7jnIyKBrEVnGqnqllFxyEqUwDqHIUVrI+Vs+U6Lcp3bzp2+5XbmmadrWKe2ctZ2Tv37HV5/+Rh1eIgIE8cs/vVl/+mqcQ2SvA1C++DyuP31NmFiYhVPwfuj7TU5WyfbPP3gWriH1acxaiHKnHK+g/+a/l6t/t1qvrkQZsk3XtS9WnP4aVq/+w9FCnUU0DPmbN92r30+rrH2mc0pfQ/fq9xpCYS6cQ7+53lDZpoAN+O+/2mapu3SeNuoLUe4ux8Am2iJI2ljXtl27WpVJH+7AFABA5wjIWYCbS3g7XdGUUkrBohSBcE7JCHLot0VSKYclwM7e8tkqyik0xjpXR62mcc4YIBQ5VUAt30mUYwEpghBzKbnEMAzehxBTKlPgBJGOLl2Icnc4rFjrXNM0Tdu2beOsUYUQOOfbQ1blw6VxyML9HJKKAKfoos855xx93w+DDzFN6YqIBIiyj4YsRLk7DWuo0FrnnHPOWsOEhzlSDzVhKTnnlFOsllLKRQCEmeFwDzILmycgiAi4y7SteJiiEA6eXmU23H6YR9olIwO4lJxTrJWNYkwpF6gimLX2xZwQmScgUOMh2tixj1hjtKIjQOBhe8VKyU4THiHElHJmAWBmAZkVbRFmDojS2k62i6CfYjLcY8Kl5JzjDo8YYyrjkCUwswFrnoDIGDGsjBNjrTVaG61pPK06iBDer/yDAAA8Dle1kH0IMaXEXA+2BEVAQE7MsOeyOQICY0ydlKpU91EXa1o8yYPVZQBASoZcC+N5770PMaYohWsPoTqFzAePuQICu9KRkyjWVK7wwSYIIgBckoQQvA/BD8PgQwghSdnNITPCAgBmC0gtrXpYzZNq3YP7S6vumQ6CgsACICWWELwffBiGYah9BIugSF31zuwceaaAjDVuD+vdvis9ZycFVP8VISgswDmiHwY/DN4PfugHH0KkOqmL4MzWWLMFBGAM0u7lpx9hVZWMsTAApwDDMPQjIH4YQohqBGRenQMA5g3ITmfxcYhITY+WApkBOHkY+r7ve+/9EOq8rqdIyALIwwyPtPUfdLxxwGFEqaFZyCzAMZR+22+3df6oWxHZhaZmZ/Mlyt1hk9DV0ff7LwRGAFlEcgHg6HPfb7bbfhhC5WD5CHXIOkFtfLIG3uWYKVGOMxYWgFr4Vmtt9HhKaiam1V65z2oENLSjYIlIEeC62+Pk4/Z6s7ne9oMPMaWUtr4NBSSn2bV8nkQ5vjG2T3NJrYFw4gK6IRyHICggY4GdNMTtdnN9vdkOPsaccxoCZQY4WwMvkii3xs5ZhVJS9AqyNdn0fuTDlZ3sFQigguALlCEQ1JljKgAN5doX4DgEXwUCBJAUIAq1hkC1ze1o10KUO+F41ULzsYH11apVuYdwba1RyqnwjYf+y6yA94AAQCXKbb9IWFVfsXIWmIH99wHYc85kV7pZp1wys5RU7EcOVr81twFZiHL778cYHkDTmTQE0FpXvWQ17tPZD/cIx63cKDSOAuPJI5QYMmolpTAzMwuPkpfkmnMzAS+bKPd324Th/PXIZ0SUQxBABt2ubPERda0RUnsIEiH3m2Sv2tvP9LDCaj27HemhJYUsNc+zlFJYdrkjq7Wdl2RedcyKKFf3FgW6V7+z/rsfab3qVqbpuqZxVitldfjqT2n9r6/07Tnkiz+9ufr0Exh3IMIsXApzCj/+9VqUxO2m7wfvY13aIID67Wd2TpJ5o2NeRDkkAMAML/RHkH78TgVRrW6vXlytV401prXb/M3b7tXv7a1Vlk/fvOle/wEn4QwuXHLOJW7k+loQ2V//7c3bzcbvFv/GzEsyb3TMiyg3Lc1TrrMykdLGuKZp29Ya40Y+nLu9mW0nRbmKkxQuJedUKBkCAZCSgh/6fr+oOjsf7kKIckiKsbMEqlnrrmsbaydqgwAUhtO7uXJIlBNmZp6WVWOcVxAA6GCVe34m4CnHrIhyiAqV0kDrhkC3V2bdtY0zmhBAmEtRudZLNXDwYAUOFeWmIYu5lFzKmH0uAIhIShe+65efteV7x8yIckhKG9SNQSDbma6tmg1aj+Jxj1qy3oqizPNs97bNBxAEUtoo0xhE1bCp6ytr9LjwPYwJHq6ybt9oLB+2+//REjXntBkBQqSMMbYxBOTQrtqmcdboKnn5OGmsXQgYptjKxdQunhEgqJS2tmkMgnLa1SGr9pDH6zABHGDwE6LAZ7P5AAJEdZlbe4jrurZxzphdIbapTio8JPI6Bn9hSpG+GERmA0jlxVlXe4jWTdu0jR2l/OjvmwYuCI/5AFIXWcY5ZwjI2mYasXStxvbY280uz+CBNhtAEKv6aFPFR5vO7fAYVZge+CGvQSque5K6MZQHk0/Pb7MBBHAU/3EGgUwV8qvCioRHq97771I5WTVmWCq9fXY5IPfZLGos406MyRhnNAKZmhNS8Xj0BMLMnHPOmcdvZiRy+S47bw9BFKBaBrLWrDfWVLElO8KhqsLGAyGpSzBhLjnnlFIRkMIpz0gG9l12RkDGgb0+bVK69pCDqhS17te74djvN+o3NWcqpRh34Smej2TcO+zMRLmJ9oZj2oG21qBUQKqq4r4KwiEfbm/HwnFjsUjOOccUarzwSDLuqRt4YUS5UgByPWxCrAEQayWDsk1rjTXWaq2nTDY9FVK9KRxnD4TjsBadFM4peB8ZShyGIfgQY5TjXz6n2rKj484KO09EF9tlqCEppZU2xlg3zSHWGGO02uExplWduhUdCschITDnFH0/JAaOwYeYci6H72IOknm3bQZEuVUkUxOlbNuu2sYaNQrHRSlcslZ13QsAY4XVQcPRpwvVvvQqAADnFIL3fhh8P8QCAIJKuyykEx//8vnUlh0dZybKtdB9ojNqRKSqadI0jYbMCOHH7BSpcZM+LnvLVwP0Xx4UUq1GUL4aheMAoK6qUkopphhDAdOQ7V7EEFPa95G51ZYdHXMgysm+TjqSIqUUgqAymvbxjClWfl+FVds2409N1JNRHotFuNSQrtz85Wdt+QnHMyfK7c5LHpXXfm47K1EubgeuByNEWAsOK4UliW0amqSQp2N0kH4TTxPldqVXAUBKVY3LJRdRBtMQeKRgP30DL4so9+kvtv/z26TtWAKhiv+0jR4ydP/0K0dQi0wRjopk+cvP4/pfX6vbc8hUehUBgEPww9AP/ZBidkaGv/7gSyl1b/i0Dbw0otwrGL7978G22mhrXNO2K1GN6QxvpfnVJyuFNRBC02wS89dwIBw3GqqD0qsAkPvt5vr6rSqRQyLB8OO3m5RjSjkX2f/yhSh30hGHxFSYEVWp6RvaGIVArusmQHZDlLtTOM7iWHoVAIwNu4KqyQiWsN2mEg/Eq5+ygRdFlANAZdjUihTWmloNT4/xcxyTAA/OevmODZUUgUlqjmM/DKNCgE8NE9RT+DkJx82XKEfagnN6FMXahz8AxsxmYaSJ0wMxHwrHTYYKQhbglAwkLsX3m8122/fDMAwlcdX8QVKAB3PIQpS7yxARSdW8ztEUISAR0f2h8IPXRQAkJ5TAJflhNB8CJwHhnBkuJ5575njIqDKj1FhwSmutCABQKYSpd4xbioNnesSaAwEEzhGKLyX6frvd9v3gvfeSGYFzllFJ+TyNfJydv4cQIRGNiCita/EJpUCI7iSQTpuUejopAJI9J59HQLb9MHjvMTMIlwLIlxIOOTcgMIr+qL0RAQApJfLQSKEAAKfAwaccfL+d5pBAWQC4FKCLGbHODcixBpNSSmkYewgzIgKcEnvbn2+N8z9AiUP2fUph6LcjIt6rLCBcCl4QKeisgEzSS3s4lFKjmhyB0I59eN89qtIAJx/9NoUw9P12s9luB++DHnsI4cXgce4eAocdpEICBABEBPJAaoOwAHAccNhEH4Z+qGV0hhA4MwAzA14KHOfvIbDrIjWArhQQwiReVn9Mjq8AOF70MgtAiV62G+/D0FcxpsGHAKWmpR/XbJm3nQ8QgSlr4GC8UqRk1DShKdlWDv6euE0VqC5hKJvNMISh90M/9H7YC8cBL5P6Q+1oTiciUgQENSX3YQMWSykMwHHI280wDMMQhsEPPoSQ1E6F6VLgODcgtcbUfgIhUjRO6nvawr0PU+pOHDgNqd/2vR+qalz0MUZVGKBq9F4MlfS8c8jYQ1CNDCwiUiNXCw4GrLtNmHPOLFCiD32/7YfBBx98jDGmSiWdFJcvxM5GlAOAad2rDo3GVdbuRyYG3FEh1THNULjknFIB4Iih72s5ihBCzDGlGpLiWQrHzY8ol+qmjUfdOKq6cdZaqIeh+5+csDETUW7/nhFk7CEcedhuttth8DHEkFJKGXxikHyi6TMmyp1VUW48XMT90aLSWu4qpHpTOA5AuBYFqcfvQz/0vR/qcJVyhrsjKAtR7sThf6tAuXXputY5Z4yuhMPgJQnkfb1UgdqHJuG4QUMalWCFJacYw8YXkCK5CBApA4CkTc4J1Dz5cPMkyulXLbh/0uycNdoaq7EEKMPQyPcRNv8W9z9ZP0wE6RsP/ReZRiWHmotTcs7+bxEI0axUE1PKpWoxlQL0apZ8uLkS5VqTfQAa1bDqJoQ0QfJsO3cQ7wCAiQ+3I8qNp1xVFiuGDIRcyqgaJ8Igwghta9I2nKuBP0eiXIVrnyp9SZS403Y2ohx1K5t9BNJEatykTxVWs7tZYRUBQPrrKhxXJWZkzFXjIoCSYtoXiJTxmrny4WZJlHOv/8X6b3+AprU13dY545zrmvKXr/OLT1/vf5IBBBEhf/nHN+vPXiPkUnLOJaWUUg4pJJEU3258TDGVPGV58rlpbxdGlOvUR7+IP3wt6xdtV4SMsm3bdquX65z/AquJ9jatshAJYv7qTff6DwQhpxRjDMFHH4ZBhBni5ofN4L1PaVLK4nPT3i6MKDdEBslRcpFpY2isc02bzAHtDQB3G8NKlFMATakVVBG45BRjBAQO/bb33qck+4zbs9PeLokopwkBlRFjtDY1LwcRx+jG6X1TgboG5pRS8N4Pve+Hvt8mbYFzCCkXZhDcR33nyYebJ1GuJgZaMcaYqchUTaDlUR8OAOquVgCBsArHFUGoJdeGoe+Hfhi2fWoUSEm1oCoS4FToa6Z8uBkT5UaW3EQ3eXBKuky1O6P33mclIDmllHKuHexiznZv29kAQdyzsg4geUBaej01KZxzjjHFELgwSUkp51wrRsK7Tu1nbGfuIWN86qCH0EO6yKh0mXNKKSUuAlJyzqXMrZDq4+3sQxYdR0PogWPWWHO4lEl8lOtXl47HuYcsInU0Yqk6i7zjsQoAAI+SsKVUPSYu/AzwODsNiPahkMf0EJjoPZNcMkgtRnHxdl55pkMC0C6u/lMPCJ8BGnDOIQumIUsd2/Gsjvc+6OfQJW7YeXrIjit9c1K/icd995gyqyblgQtSurzHzqwod0Szpp80Ys1CE+/92dl6yKhdhvuJfbdVf5i44sRCxYohHmXsXq6dBZCdHlnVnTl4sg+DY6fsPgqK76Te76/ufRF2FqKcHL+ye7YHEdi9SNYNJmM9cRn5QweX4YkdzPlpb5dClBOQWJNpsG4exnFLa22S2uvDAcC+E+tJOM5ITvXEvu5b6jaklJzTcTPnyoebpaJczYvdZW9M9NtxzDr5tnAUjpvi77W+4dhF6r2evh3PgiiHyLRuFKC22igUKTkqAmHOmIdwoA93FA+ZhON89MPgY0yFAVFpVgDKdRxzOtAzeYJ2vG/H2YhyiEzNRy2Yl5q6zlKJmILRWmvtTPxzhO0XaUr3lKk4HpSvBtj+WwKIZYyph5hBOxSH0P6j9rlGt56uHe/bcVainHKN4ZxJKVJEahx8kJBDn23XjD+2e9sIMvTZdg6hiPABDYiBFOYQ+Xba2jz5cM+ZKPf87GxEOdWuTR4C1Pl5l9mmFETPrms0CCDu1fnkQDhOmAsXLqUwFy6iNEQfy60uMlc+3PyIcijQvvrdL8JffgDXWmusIV2FkxvHP/zZr//5Y1fZcQe2F47LKYQYfBiCj8kHblbQf/e9zyUfzyEz5cPNkCiHAlfqI4g/fC2rq7ZtGAjINE3bXnWlfA/dx/9+BXyjjEtKk3Bc8n3fb7cbTZwlDYU69N9/eR1zTEerrJny4WZIlBOAPjCw37IQl8KFAVApU2ouNBl3ezlupwqrYBWClBy1IhpVgjgFH/INovvZaW+XRJSjmqCTtRfmknJOOWdmAoiMnIJBUTcOpvYVVrkSS0ZahCACKqWL6Bsb4Hny4eZHlEMQ0ApBuOQYhEuOKYYUcykoFApw7IlA66Mxa1dhFUqeIreIREoIAJUxDALHQ9Y8+XDzJMoJAEhOAVXJOcecMzMAaFKp0t4U4uEq66YhPIOj3RN2FkAEavRVSoxAJeVkUsrMAqiVjgxSYtR0N0lrrNzyHO18PUQAuKQIlHXWJuXCAoha2yTAKUZROJ0mnrh4OpAcv5hKfF++nXfIKrkkKjnrnFkAkZQ1JTJIDoa1iICoY5k/xHrUPlLkLknn52F2VjUg4SIlkio5F6mFDK3mxCQpaC4iIprVNLPTNG3U0McISZnkFJ8JLOftIVyEE5WiWIBQKa2tBmbi5KkYLqWMmQoIsJd8TzHGEGNKOeWaAi1YU9fP1Zj3aOfl9jLDWJFTaqFPbTSQAIcesslm0rpWSAghMXD0SoboB+99CCGmlFKqBT0vp1ThvXZGQPZZhKXKvkdttNdgFOSwLdaO2uO1nroCPzCU4a3mPvmarjN470NMUmWxLkcK9j47t+YiAIAAA+Wkow5KE0gDZYBorbFGK620IkLUOPQF8vZHk30KPvh+mLR/6ha+lEvRSr7X5gAIiECpiChFSBbykP2u1qeaANkWyJsfTA4phhCGwfdDGHwIOGpdPotBaxaAjKSRpCMhgBEoCZS1RptRhxERFYRNhvRWqZJSRSQMPvow+EkveRmy3qMJc8mREBhbljwkMlYbpTSRIoUIJLnPkN5mLCWnFGMIVThu8CoyVumtZ7AlOXPp1ckhjKUkIuCMVwx524OxtZY6qcoRFeEC6c1mKqwaYwwppThEnRiAc+Gbc8j5aW+XQpS77ZBcSs7JKl1eMKS3P7KxShMpHAnYIuQaHYdYBErJKaeUYso5DdF5Bo7DbdrAXPlws1WUO3JIEuFMhIEhbX/Ixug94xeAxfxC6/i3t1mQax22nHLJ2UeODFzSTNrxdzhmUHp17yBSSisFpIlAmAui1Ip6Vc66iO1q1SpAqAQHAUTSWoxCUK7booJj7uJM+XDzI8qdcoy8E8DmVxbsL6koRQi0q4TAYtYa9BVl3Cd8sjCn4n5toXulA94UsJ4pH26eRLlbjppSIKiMU5wyEx4UlhQAIVIohRlwJJiOZaqEnFNpCAVvReHmyYe7SKLcyeXriYTDZxelOmvp1SOHjH9xdWX92+3BsxcAAARcv7T+zXZ3g91fXF3ZcN3jraK3c+XDzY8od59D/fYzu/n8q9t9RP3zZ3bzp4MP0Pj4Uf32M7v549dzo71dElHuXod5/XL45v874XCfwPDN/3/6iv7r2dHeLokotzjuJMqdzqCaJ4/s2TvoLlKHuamHvziexKER5Jml3V++LYDMzBZAZmYLIDOzBZCZ2QLIzGwBZGa2ADIzWwCZmS2AzMwWQGZmCyAzs9MZYwf/Lo6ndZwEZK48smfvOKei3OK4bbMiyi2OmRHlFsfciHKLY9ZEuZ+tzYcotzhmSpT7GTtmSpT7+ToWotz8HAtRbk6OhSg3M8dClJuhLYDMzBZAZmYLIDOzBZCZ2QLIzGwBZGa2ADIzWwCZmS2AzMwWQGZmCyAzs4UoNzPHQpSbk2Mhys3LsRDlZuZoFbD+j7deB1C/aaD7RJ2ici2OD+h4tYKM/9et1wGou7Lhur99yeL4sI61U/j/3nodAEDu0mpbHB/Yoa9OvZ4iK3si7Ls4PqwjFfk/SQ0YIXxTOsQAAAAASUVORK5CYII=\" style=\"height: auto\">\n",
       "              \n",
       "            </figure>\n",
       "        \n",
       "            <figure style=\"margin: 5px !important;\">\n",
       "              <img src=\"data:image/png;base64,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\" style=\"height: auto\">\n",
       "              \n",
       "            </figure>\n",
       "        \n",
       "        </div>\n",
       "    "
      ],
      "text/plain": [
       "<IPython.core.display.HTML object>"
      ]
     },
     "execution_count": 285,
     "metadata": {},
     "output_type": "execute_result"
    }
   ],
   "source": [
    "MINIMAL_ILLUMINATION_ABS_LEVEL = 255 * 0.1\n",
    "MINIMAL_ILLUMINATION_DIFF_DB = 2 # dB\n",
    "MINIMAL_ILLUMINATION_DIFF_RATIO = pow(10, MINIMAL_ILLUMINATION_DIFF_DB/20)\n",
    "\n",
    "image = IMAGES[0] # 10 - вертикальная единичка\n",
    "\n",
    "image_mask = image.copy()\n",
    "image_mask[image_mask > 0] = 1\n",
    "\n",
    "sense_area = RETINA_POS @ image_mask # for check of illuminated area\n",
    "sense_level = RETINA_POS @ image # for check of absolute illumination\n",
    "sense_neg_level = RETINA_NEG @ image # for check of relative diff\n",
    "\n",
    "sense_area, sense_level, sense_neg_level = [x.reshape(RETINA_SIZE, RETINA_SIZE, -1) for x in [sense_area, sense_level, sense_neg_level]]\n",
    "assert sense_area.shape == sense_level.shape\n",
    "assert sense_area.shape == sense_neg_level.shape\n",
    "sense_res = sense_area.copy()\n",
    "\n",
    "sz = RETINA_SIZE * SENSOR_RECEPTIVE_FIELD_SIZE\n",
    "sensed_image = np.zeros((sz, sz))\n",
    "\n",
    "# Base for calculations = AREA of illumination must be at least 1/2 of area of positive receptors\n",
    "# Next we exclude sensors which do not minimal LEVEL of illumination = area * (255 * 10%)\n",
    "# Finally we exclude sensors which do not have enough contrast (DIFF) - use NEG part of retina and use logarithmic scale (dB)\n",
    "# For specific samples situation is more straighforward, since is liminiscense is binary (0 or 1)\n",
    "\n",
    "for y in range(sense_area.shape[0]):\n",
    "    for x in range(sense_area.shape[1]):\n",
    "        # Matrix of how each group of sensors (rows) perceives each of specific samples (columns)\n",
    "        perceive_vector_area = sense_area[y, x]\n",
    "        assert perceive_vector_area.shape == (pow(SENSOR_GROUP_SIZE, 2),), perceive_vector_area.shape\n",
    "        cond1 = (perceive_vector_area / group_sensors_ones).T >= 0.5 # At least half of a positive area of each of sensors is activated\n",
    "\n",
    "        perceive_vector_level = sense_level[y, x].copy()\n",
    "        assert xp.all(perceive_vector_level >= 0)\n",
    "        perceive_vector_level[perceive_vector_level <= 0] = 1e-6 # to ease cond3\n",
    "        assert xp.all(perceive_vector_level > 0), perceive_vector_level\n",
    "        assert perceive_vector_level.shape == perceive_vector_area.shape\n",
    "        cond2 = (perceive_vector_level > MINIMAL_ILLUMINATION_ABS_LEVEL * group_sensors_ones) # Illumination level of an area must exceed given threshold\n",
    "\n",
    "        perceive_vector_neg_level = xp.abs(sense_neg_level[y, x])\n",
    "        perceive_vector_neg_level[perceive_vector_neg_level <= 0] = 1e-6 # to ease cond3\n",
    "        assert perceive_vector_neg_level.shape == perceive_vector_area.shape\n",
    "        cond3 = (perceive_vector_level / perceive_vector_neg_level) >= MINIMAL_ILLUMINATION_DIFF_RATIO # Illumination of positive area must > illumination of negative one\n",
    "\n",
    "        sense_vector = (cond1 & cond2 & cond3).astype(float)\n",
    "        sense_res[y, x] = sense_vector\n",
    "\n",
    "        if xp.any(sense_vector > 0):\n",
    "            # Find most similar reaction among specific samples of reactions\n",
    "            a = sense_vector\n",
    "            b = specific_samples_sense_ref[y, x, :]\n",
    "            sense_vector_cos_sim = (a @ b)/(xp.linalg.norm(a) * xp.linalg.norm(b, axis=0))\n",
    "            best_i = xp.argmax(sense_vector_cos_sim)\n",
    "            most_similar_specific_sample = SPECIFIC_SAMPLES[best_i].reshape((sz, sz))\n",
    "            srfs = SENSOR_RECEPTIVE_FIELD_SIZE\n",
    "            np.copyto(sensed_image[y*srfs:(y+1)*srfs, x*srfs:(x+1)*srfs], most_similar_specific_sample[y*srfs:(y+1)*srfs, x*srfs:(x+1)*srfs])\n",
    "\n",
    "    #     if y == 4 and x == 8:\n",
    "    #         break\n",
    "\n",
    "    # if y == 4 and x == 8:\n",
    "    #         break\n",
    "\n",
    "images = [lay_grid(Image.frombytes('L', size=(sz, sz), data=image), SENSOR_RECEPTIVE_FIELD_SIZE), \n",
    "          lay_grid(Image.frombytes('L', size=(sz, sz), data=(sensed_image * 255).astype(np.uint8)), SENSOR_RECEPTIVE_FIELD_SIZE)]\n",
    "display_images(list(map(lambda x: x.resize((400, 400)), images)))"
   ]
  },
  {
   "cell_type": "code",
   "execution_count": 286,
   "id": "aba758fe-ce91-41d4-9ba5-1b29ab4734a6",
   "metadata": {},
   "outputs": [
    {
     "data": {
      "text/plain": [
       "True"
      ]
     },
     "execution_count": 286,
     "metadata": {},
     "output_type": "execute_result"
    }
   ],
   "source": [
    "np.array_equal(sense_res.reshape(-1), sense_ress[0].reshape(-1))"
   ]
  },
  {
   "cell_type": "code",
   "execution_count": 231,
   "id": "7111cb5e-3291-4f50-888f-cf2c7c1679cc",
   "metadata": {},
   "outputs": [
    {
     "data": {
      "text/plain": [
       "np.float64(0.13043212890625)"
      ]
     },
     "execution_count": 231,
     "metadata": {},
     "output_type": "execute_result"
    }
   ],
   "source": [
    "(image > 0).sum() / image.size"
   ]
  },
  {
   "cell_type": "code",
   "execution_count": 232,
   "id": "e4bff958-3180-4969-ae46-1f1afffacfb0",
   "metadata": {},
   "outputs": [
    {
     "data": {
      "text/plain": [
       "(array([[195, 232, 255, 255, 255, 255, 255, 246],\n",
       "        [205, 235, 255, 255, 255, 255, 255, 246],\n",
       "        [212, 237, 255, 255, 255, 255, 255, 246],\n",
       "        [218, 239, 255, 255, 255, 255, 255, 246],\n",
       "        [223, 241, 254, 255, 255, 255, 255, 246],\n",
       "        [226, 243, 254, 255, 255, 255, 255, 246],\n",
       "        [229, 244, 254, 255, 255, 255, 255, 246],\n",
       "        [231, 244, 254, 255, 255, 255, 255, 246]], dtype=uint8),\n",
       " (8, 8))"
      ]
     },
     "execution_count": 232,
     "metadata": {},
     "output_type": "execute_result"
    }
   ],
   "source": [
    "z = image.reshape(128, 128)\n",
    "i = 4\n",
    "j = 8\n",
    "zpart = z[i*8:(i+1)*8,j*8:(j+1)*8]\n",
    "zpart, zpart.shape"
   ]
  },
  {
   "cell_type": "code",
   "execution_count": 233,
   "id": "705e1276-2f2d-4bc0-85bf-4ab56704d0c9",
   "metadata": {},
   "outputs": [
    {
     "data": {
      "text/plain": [
       "(16, 16384)"
      ]
     },
     "execution_count": 233,
     "metadata": {},
     "output_type": "execute_result"
    }
   ],
   "source": [
    "aaa = RETINA_POS.reshape(16,16,16,-1)[i,j,:]\n",
    "bbb = RETINA_NEG.reshape(16,16,16,-1)[i,j,:]\n",
    "aaa.shape"
   ]
  },
  {
   "cell_type": "code",
   "execution_count": 234,
   "id": "ccc86e6b-f4da-4651-af90-417003e4e244",
   "metadata": {},
   "outputs": [
    {
     "data": {
      "text/plain": [
       "array([6510., 6678., 7159., 6904., 6394., 6904., 7161., 6666., 6478.,\n",
       "       7278., 7339., 7614., 6594., 7612., 7345., 7303.])"
      ]
     },
     "execution_count": 234,
     "metadata": {},
     "output_type": "execute_result"
    }
   ],
   "source": [
    "aaa2 = aaa.reshape(16,128,128)\n",
    "aaa2 = aaa2[:,i*8:(i+1)*8,j*8:(j+1)*8]\n",
    "aaa2 = aaa2.reshape(16,-1)\n",
    "aaa2 @ zpart.reshape(-1)"
   ]
  },
  {
   "cell_type": "code",
   "execution_count": 235,
   "id": "13ac9c38-5248-4663-b414-3cb80a839ba5",
   "metadata": {},
   "outputs": [
    {
     "data": {
      "text/plain": [
       "array([-6478.        , -6814.8       , -7349.60869565, -7098.        ,\n",
       "       -6594.        , -7098.        , -7347.08695652, -6827.76      ,\n",
       "       -6510.        , -7199.56521739, -7122.65217391, -7328.18181818,\n",
       "       -6394.        , -7330.90909091, -7115.08695652, -7168.04347826])"
      ]
     },
     "execution_count": 235,
     "metadata": {},
     "output_type": "execute_result"
    }
   ],
   "source": [
    "bbb2 = bbb.reshape(16,128,128)\n",
    "bbb2 = bbb2[:,i*8:(i+1)*8,j*8:(j+1)*8]\n",
    "bbb2 = bbb2.reshape(16,-1)\n",
    "bbb2 @ zpart.reshape(-1)"
   ]
  },
  {
   "cell_type": "code",
   "execution_count": 236,
   "id": "112b874c-5d32-4beb-9dd3-df536dd21292",
   "metadata": {},
   "outputs": [
    {
     "data": {
      "text/plain": [
       "(array([-1.0049398 , -0.97992604, -0.97406546, -0.97266836, -0.9696694 ,\n",
       "        -0.97266836, -0.97467201, -0.97630848, -0.99508449, -1.01089438,\n",
       "        -1.03037462, -1.03900261, -1.03127932, -1.03834325, -1.03231346,\n",
       "        -1.01882753]),\n",
       " array([[False, False, False, False],\n",
       "        [False, False, False, False],\n",
       "        [False, False, False, False],\n",
       "        [False, False, False, False]]))"
      ]
     },
     "execution_count": 236,
     "metadata": {},
     "output_type": "execute_result"
    }
   ],
   "source": [
    "ppp = (aaa2 @ zpart.reshape(-1)) / (bbb2 @ zpart.reshape(-1))\n",
    "ppp,  (ppp >= MINIMAL_ILLUMINATION_DIFF_RATIO).reshape(4,-1)"
   ]
  },
  {
   "cell_type": "code",
   "execution_count": null,
   "id": "ab1cdd65-fff3-432b-af00-d9618d06d250",
   "metadata": {},
   "outputs": [],
   "source": []
  },
  {
   "cell_type": "code",
   "execution_count": null,
   "id": "f8076d1f-1f3f-45c2-b9b2-f8f165a8e0e4",
   "metadata": {},
   "outputs": [],
   "source": []
  }
 ],
 "metadata": {
  "kernelspec": {
   "display_name": "Python 3 (ipykernel)",
   "language": "python",
   "name": "python3"
  },
  "language_info": {
   "codemirror_mode": {
    "name": "ipython",
    "version": 3
   },
   "file_extension": ".py",
   "mimetype": "text/x-python",
   "name": "python",
   "nbconvert_exporter": "python",
   "pygments_lexer": "ipython3",
   "version": "3.12.2"
  }
 },
 "nbformat": 4,
 "nbformat_minor": 5
}
