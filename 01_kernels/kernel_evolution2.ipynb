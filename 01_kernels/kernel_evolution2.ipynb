{
 "cells": [
  {
   "cell_type": "code",
   "execution_count": 37,
   "id": "2bbfdaee-2db9-4f81-8965-5e4e35bfa85c",
   "metadata": {
    "editable": true,
    "slideshow": {
     "slide_type": ""
    },
    "tags": []
   },
   "outputs": [
    {
     "name": "stdout",
     "output_type": "stream",
     "text": [
      "5.02 μs ± 262 ns per loop (mean ± std. dev. of 7 runs, 10,000 loops each)\n",
      "4.92 μs ± 31.6 ns per loop (mean ± std. dev. of 7 runs, 10,000 loops each)\n",
      "Process ID: 1486830\n"
     ]
    }
   ],
   "source": [
    "import os\n",
    "import matplotlib.pyplot as plt\n",
    "from tqdm.notebook import tqdm\n",
    "from datetime import datetime\n",
    "from sklearn.model_selection import train_test_split\n",
    "from collections import namedtuple\n",
    "import cupy as cp\n",
    "\n",
    "%run kernel.ipynb"
   ]
  },
  {
   "cell_type": "code",
   "execution_count": 38,
   "id": "d97870ec-a8a4-4f12-96df-3a14bc371483",
   "metadata": {},
   "outputs": [],
   "source": [
    "config = Config()"
   ]
  },
  {
   "cell_type": "code",
   "execution_count": 39,
   "id": "8ce33ec1-bf16-47bc-836d-254bbf00c17d",
   "metadata": {},
   "outputs": [
    {
     "data": {
      "application/vnd.jupyter.widget-view+json": {
       "model_id": "9b9b243e3b474215baae76f374142864",
       "version_major": 2,
       "version_minor": 0
      },
      "text/plain": [
       "  0%|          | 0/9998 [00:00<?, ?it/s]"
      ]
     },
     "metadata": {},
     "output_type": "display_data"
    },
    {
     "name": "stdout",
     "output_type": "stream",
     "text": [
      "Loaded 9998 images\n",
      "CPU times: user 469 ms, sys: 67.7 ms, total: 536 ms\n",
      "Wall time: 536 ms\n"
     ]
    }
   ],
   "source": [
    "%%time\n",
    "images = []\n",
    "image_fnames = {}\n",
    "\n",
    "for image_fname in tqdm(os.listdir(config.dataset_path)):\n",
    "    image_fname = os.path.join(config.dataset_path, image_fname)\n",
    "\n",
    "    # Following fuss with \"with\" is required to prevent \"Too many open files\" problem\n",
    "    with Image.open(image_fname) as image:\n",
    "        image.load()\n",
    "        assert image.width == image.height\n",
    "        assert image.mode == 'L'\n",
    "        image_index = len(images)\n",
    "        images.append(np.array(image))\n",
    "        image_fnames[image_index] = image_fname\n",
    "        \n",
    "    assert image.fp is None\n",
    "\n",
    "assert len(images) == len(image_fnames)\n",
    "print(f'Loaded {len(images)} images')"
   ]
  },
  {
   "cell_type": "code",
   "execution_count": null,
   "id": "7ece8995-b3d6-4926-8a1e-a45485a8b0bb",
   "metadata": {},
   "outputs": [],
   "source": []
  },
  {
   "cell_type": "code",
   "execution_count": 1,
   "id": "92524b05-de67-4fc0-a74a-6234f70e4771",
   "metadata": {},
   "outputs": [],
   "source": [
    "if False:\n",
    "    fig, ax = plt.subplots(3)\n",
    "    days_count = len(train_stats)\n",
    "    \n",
    "    ax[0].plot(list(range(days_count)), [ts.kernel_matches for ts in train_stats])\n",
    "    ax[0].set_ylabel('Kernels matches')\n",
    "    \n",
    "    ax[1].bar(list(range(days_count)), [ts.perceive_success_rate for ts in train_stats])\n",
    "    ax[1].set_ylabel('Perf score')\n",
    "    \n",
    "    ax[2].bar(list(range(days_count)), [ts.kernels_match_success_rates.mean for ts in train_stats])\n",
    "    ax[2].set_xlabel('Days')\n",
    "    ax[2].set_ylabel('Avg kernels perf score')\n",
    "    plt.show()"
   ]
  },
  {
   "cell_type": "code",
   "execution_count": null,
   "id": "13479cf2-8a6d-4ea0-aa1f-a4852121b4f6",
   "metadata": {},
   "outputs": [],
   "source": []
  }
 ],
 "metadata": {
  "kernelspec": {
   "display_name": "Python 3 (ipykernel)",
   "language": "python",
   "name": "python3"
  },
  "language_info": {
   "codemirror_mode": {
    "name": "ipython",
    "version": 3
   },
   "file_extension": ".py",
   "mimetype": "text/x-python",
   "name": "python",
   "nbconvert_exporter": "python",
   "pygments_lexer": "ipython3",
   "version": "3.12.2"
  }
 },
 "nbformat": 4,
 "nbformat_minor": 5
}
