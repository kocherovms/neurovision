{
 "cells": [
  {
   "cell_type": "code",
   "execution_count": 3,
   "id": "82ee1fe6-4391-4664-b3fd-439efd55e4da",
   "metadata": {
    "editable": true,
    "slideshow": {
     "slide_type": ""
    },
    "tags": []
   },
   "outputs": [],
   "source": [
    "import os, io\n",
    "import configparser\n",
    "import PIL\n",
    "import IPython\n",
    "import numpy as np"
   ]
  },
  {
   "cell_type": "code",
   "execution_count": 4,
   "id": "67d3e146-17dd-42e4-ae29-a742cfb47062",
   "metadata": {
    "editable": true,
    "slideshow": {
     "slide_type": ""
    },
    "tags": []
   },
   "outputs": [],
   "source": [
    "class Config:\n",
    "    DEFAULTS = dict(\n",
    "        kernel_size=32,\n",
    "        kernel_initial_complexity=0.1,\n",
    "        kernel_score_threshold=0.5,\n",
    "        grid_size=16,\n",
    "        grid_score_threshold=0.1,\n",
    "        dataset_source='dataset_source/101_ObjectCategories',\n",
    "        dataset_path='dataset',\n",
    "        dataset_sample_count=1000\n",
    "    )\n",
    "    \n",
    "    def __init__(self):\n",
    "        super()\n",
    "        self.reload()\n",
    "\n",
    "    def reload(self):\n",
    "        config = configparser.ConfigParser(defaults=type(self).DEFAULTS)\n",
    "\n",
    "        if os.path.exists('config.txt'):\n",
    "            config.read('config.txt')\n",
    "\n",
    "        def_section = config['DEFAULT']\n",
    "        \n",
    "        for k in def_section:\n",
    "            typ = type(type(self).DEFAULTS[k]) # enforce proper type (e.g. kernel_size must by int, not string)\n",
    "            setattr(self, k, typ(def_section[k]))"
   ]
  },
  {
   "cell_type": "code",
   "execution_count": 5,
   "id": "7575fb85-52e8-4593-8b0b-31571632104a",
   "metadata": {
    "editable": true,
    "slideshow": {
     "slide_type": ""
    },
    "tags": []
   },
   "outputs": [],
   "source": [
    "def pil_image_to_2d_bytes(image):\n",
    "    assert image.width == image.height\n",
    "\n",
    "    if image.mode != 'L' and image.mode != '1':\n",
    "        assert False, f'Unsupported mode {image.mode}'\n",
    "\n",
    "    l_image = image if image.mode == 'L' else image.convert('L')\n",
    "    arr = np.frombuffer(l_image.tobytes(), dtype=np.uint8)\n",
    "    rv = arr.reshape(l_image.width, l_image.width)\n",
    "    return rv if image.mode == 'L' else rv / 255"
   ]
  },
  {
   "cell_type": "code",
   "execution_count": 6,
   "id": "a2ca5916-b0b1-464a-9fa7-e4f04b10df6a",
   "metadata": {
    "editable": true,
    "slideshow": {
     "slide_type": ""
    },
    "tags": []
   },
   "outputs": [],
   "source": [
    "# from https://gist.github.com/parente/691d150c934b89ce744b5d54103d7f1e\n",
    "def _src_from_data(data):\n",
    "    \"\"\"Base64 encodes image bytes for inclusion in an HTML img element\"\"\"\n",
    "    img_obj = IPython.display.Image(data=data)\n",
    "    for bundle in img_obj._repr_mimebundle_():\n",
    "        for mimetype, b64value in bundle.items():\n",
    "            if mimetype.startswith('image/'):\n",
    "                return f'data:{mimetype};base64,{b64value}'\n",
    "\n",
    "def display_images(images, captions=None, row_height='auto'):\n",
    "    \"\"\"Shows a set of images in a gallery that flexes with the width of the notebook.\n",
    "    \n",
    "    Parameters\n",
    "    ----------\n",
    "    images: list of str or bytes\n",
    "        URLs or bytes of images to display\n",
    "\n",
    "    row_height: str\n",
    "        CSS height value to assign to all images. Set to 'auto' by default to show images\n",
    "        with their native dimensions. Set to a value like '250px' to make all rows\n",
    "        in the gallery equal height.\n",
    "    \"\"\"\n",
    "    figures = []\n",
    "    \n",
    "    for image in images:\n",
    "        if isinstance(image, bytes) or isinstance(image, PIL.Image.Image):\n",
    "            if isinstance(image, bytes):\n",
    "                bts = image\n",
    "            else:\n",
    "                b = io.BytesIO()\n",
    "                image.save(b, format='PNG')\n",
    "                bts = b.getvalue()\n",
    "            \n",
    "            src = _src_from_data(bts)\n",
    "        else:\n",
    "            src = image\n",
    "            #caption = f'<figcaption style=\"font-size: 0.6em\">{image}</figcaption>'\n",
    "\n",
    "        caption = ''\n",
    "        \n",
    "        if captions:\n",
    "            caption = captions[id(image)]\n",
    "\n",
    "            if caption:\n",
    "                caption = f'<figcaption style=\"font-size: 0.6em\">{caption}</figcaption>'\n",
    "        \n",
    "        figures.append(f'''\n",
    "            <figure style=\"margin: 5px !important;\">\n",
    "              <img src=\"{src}\" style=\"height: {row_height}\">\n",
    "              {caption}\n",
    "            </figure>\n",
    "        ''')\n",
    "    return IPython.display.HTML(data=f'''\n",
    "        <div style=\"display: flex; flex-flow: row wrap; text-align: center;\">\n",
    "        {''.join(figures)}\n",
    "        </div>\n",
    "    ''')"
   ]
  }
 ],
 "metadata": {
  "kernelspec": {
   "display_name": "Python 3 (ipykernel)",
   "language": "python",
   "name": "python3"
  },
  "language_info": {
   "codemirror_mode": {
    "name": "ipython",
    "version": 3
   },
   "file_extension": ".py",
   "mimetype": "text/x-python",
   "name": "python",
   "nbconvert_exporter": "python",
   "pygments_lexer": "ipython3",
   "version": "3.12.8"
  }
 },
 "nbformat": 4,
 "nbformat_minor": 5
}
