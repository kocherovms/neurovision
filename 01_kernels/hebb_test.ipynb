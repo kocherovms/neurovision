{
 "cells": [
  {
   "cell_type": "code",
   "execution_count": 1,
   "id": "a188f1bf-2d21-4490-8532-c3a73321d62e",
   "metadata": {},
   "outputs": [],
   "source": [
    "import os\n",
    "import matplotlib.pyplot as plt\n",
    "from tqdm.notebook import tqdm\n",
    "from datetime import datetime\n",
    "from sklearn.model_selection import train_test_split\n",
    "from sklearn.decomposition import PCA\n",
    "from sklearn import preprocessing\n",
    "import scipy\n",
    "from collections import namedtuple\n",
    "import numpy as np\n",
    "import cupy as cp\n",
    "import math\n",
    "import json\n",
    "\n",
    "%run utils.ipynb"
   ]
  },
  {
   "cell_type": "code",
   "execution_count": 259,
   "id": "e112da14-c98e-4237-b918-3ebb94025f8e",
   "metadata": {},
   "outputs": [
    {
     "data": {
      "text/html": [
       "\n",
       "        <div style=\"display: flex; flex-flow: row wrap; text-align: center;\">\n",
       "        \n",
       "            <figure style=\"margin: 5px !important;\">\n",
       "              <img src=\"data:image/png;base64,iVBORw0KGgoAAAANSUhEUgAAADIAAAAyCAAAAAA7VNdtAAAANklEQVR4nGNkwASM6lb25koM904ePHbzP6Y0ExYtBMCollEto1pGtYxqGdUyqmVUy6iWgdUCABiRBmR5jpnGAAAAAElFTkSuQmCC\" style=\"height: auto\">\n",
       "              \n",
       "            </figure>\n",
       "        \n",
       "            <figure style=\"margin: 5px !important;\">\n",
       "              <img src=\"data:image/png;base64,iVBORw0KGgoAAAANSUhEUgAAADIAAAAyCAAAAAA7VNdtAAAANklEQVR4nGNkwASM6lb25koM904ePHbzP6Y0ExYtBMCollEto1pGtYxqGdUyqmVUy6iWgdUCABiRBmR5jpnGAAAAAElFTkSuQmCC\" style=\"height: auto\">\n",
       "              \n",
       "            </figure>\n",
       "        \n",
       "            <figure style=\"margin: 5px !important;\">\n",
       "              <img src=\"data:image/png;base64,iVBORw0KGgoAAAANSUhEUgAAADIAAAAyCAAAAAA7VNdtAAAANklEQVR4nGNkwASM6lb25koM904ePHbzP6Y0ExYtBMCollEto1pGtYxqGdUyqmVUy6iWgdUCABiRBmR5jpnGAAAAAElFTkSuQmCC\" style=\"height: auto\">\n",
       "              \n",
       "            </figure>\n",
       "        \n",
       "            <figure style=\"margin: 5px !important;\">\n",
       "              <img src=\"data:image/png;base64,iVBORw0KGgoAAAANSUhEUgAAADIAAAAyCAAAAAA7VNdtAAAARElEQVR4nO3SsREAEBQE0X9GL9QgUbtQByKFiNSwIXObv2wjnHPPJ2GSCyeNk46JFicHk4RF5M3J5GRgosoJH8Y590EXk8IFJOUp6v0AAAAASUVORK5CYII=\" style=\"height: auto\">\n",
       "              \n",
       "            </figure>\n",
       "        \n",
       "            <figure style=\"margin: 5px !important;\">\n",
       "              <img src=\"data:image/png;base64,iVBORw0KGgoAAAANSUhEUgAAADIAAAAyCAAAAAA7VNdtAAACvklEQVR4nM3WSXPTMBgG4Dfxls1L7GSaFtq0CYVe+v9/S6cbJc7ieotteZVlc2CGAabUusF7+nR4Dvr0aSTgP00PQF+SJKnX0KqqeYgIQFSnU00oIi/gJvJ0uTxVoo2YZrxEml7efhq5an4IuYm2WN+q+2qn27ykJw4mqp6blqWnaJuWgzRl4r/mMYyLMi0JSZtuQuP9PZsg1W+sLNhtunogAqDhMz0MDUO1vuT2MH1l3aQK6vBRWd7MLo3SyLaDqpvUSeb2RTprjPOq+GapcTdpGQPgBkletdLEOi2bmtK/D4L4s4o9e0aFo3hWWGXk+zykcB6wHYrNmUES+yFPOUjl3gWqdvZhoSHQC8flIHWQ7ySzMLTV2K222l/FL4QRAkRmgvGUmZZpRADenB3x9+Ux8F2XJdA+krjKsuytU/2DsGh7D71H1GuNRIdtwUEQb0RvrKujz+tif1d6lIOkdvoif7z+vJzSZ+p8zTlITgOhT7T19KJt9pb61jX9kzBWAk5AyranTMyTuGF1zd4nAIDE3730pVA4uZlUSRgSDlK4T5I7EOrF+CrdP1c8pPbuE31yspiv2ui+9hwO0hwrR9ZuxlcrNcDrk8C6CSME0CcrqDNhbpmG303QAjgGfhAIKdTTK50Wec7eJwCA+PAkm4jHq0GcuHuHhxB7EKmTkbJe5u5DHZYcJNuVtrJYrS8MtoH3LeEgpXsU+5eD5fSyJ3kzzeUgdZ0Dik9oTx6q5tyrG8aa9l0CAEj8gz1Qjv3ZJ6nM4jil3aTwv46Ow141l85zx95SDsKCx/x5NJ+b5yBPUha8vxcAQBsxTxlfy+crLRHCjcRBGpK5GCsX0BZDS1X6HAQtAyLfD47DhBR1y0MAANH+UXayx0NMuUm6GyZ6uX8J+Ul5qA8DFodhhR8fku6Isiz1W0op7Xh6/2m+A8XHhaHlPuqcAAAAAElFTkSuQmCC\" style=\"height: auto\">\n",
       "              \n",
       "            </figure>\n",
       "        \n",
       "            <figure style=\"margin: 5px !important;\">\n",
       "              <img src=\"data:image/png;base64,iVBORw0KGgoAAAANSUhEUgAAADIAAAAyCAAAAAA7VNdtAAACqUlEQVR4nLXUSXPTMBQH8L8kL2k2O0tD4kI3IGEYPgCc+OwcOHHjwFBa0jak2ZzNieMstiQuzLi4TuxhhneU3s9Pz1oIDsfL9x8/vFbuv3z6/C34M0QTSEz8ByIlCKWUkHBISSC+IEyFqtDQJFXZcSiAprIwMYlwSSjA6KO8JKJQKYCACxkO7c8mhBAUdemtlLm74WmIlssdsROD2xS9gbOTKYhea1QzpUrQHfqTtu2lqZJtvDkvqHx973jL0cBLU6Votd6W/MHNr7azWy3TEL1sXbQqi3UwvJkI8eiXxRLGFIWZjXr9mc4ywh17f83GEi1fLOTMVy+OdWQUGWyRTPRKw6qa5y/KAEAI5YmEZCpnzVOzahUAEUim+SmqlJ63mkYmTwF3HRBtlUzUXNU6KwCQmDoeJ0gkElrOLAB84W67/dmaJxME0LIAlg+9+ag9XKYhvqQKgEn7queMBosgBZESEvCGP7+2N6ulm4boTG6B6eD+x5XgnB9eGGEKo7R8JJZT2e8PBk7MByOE5YuFrGqZu77ndzujRdwaIkQ1Tqxqppjf3vGN3bY3KYhinrZO83CnQ9tb2rMgDSlarabh3vY61wt/E16rQ71ky9ZFaTz27VsHiBVRIuhRsUQMXa6d+Hw8efp2gqgEms7kXvGE+BwAFEXZ/4xGZgQPfACCqnpaolGx2WK95VTdS8L2KWWUVvJkPTEmM8/fK0JC9Hwhpxk1NrvT5h3bEylItmbVCllDtaeB2+1F71U8qTcvK6q/GE7m2+nIiT0rkV6yx5fvLAyvx98f+Mbz0lTRjPr5WSDaTqcNKQ9sZViFZfKmrmfJNnrXoxHuC6FMASgRCeLxVgrBASEJS00E93dAAKYlkLAXKQJfBlweOCpPFialEEKCkP3ZUZI2/oH8BsRTMH/O4iLHAAAAAElFTkSuQmCC\" style=\"height: auto\">\n",
       "              \n",
       "            </figure>\n",
       "        \n",
       "            <figure style=\"margin: 5px !important;\">\n",
       "              <img src=\"data:image/png;base64,iVBORw0KGgoAAAANSUhEUgAAADIAAAAyCAAAAAA7VNdtAAAAGUlEQVR4nO3BAQ0AAADCoPdPbQ8HFAAA/wYJ9gAByjRWDQAAAABJRU5ErkJggg==\" style=\"height: auto\">\n",
       "              \n",
       "            </figure>\n",
       "        \n",
       "        </div>\n",
       "    "
      ],
      "text/plain": [
       "<IPython.core.display.HTML object>"
      ]
     },
     "execution_count": 259,
     "metadata": {},
     "output_type": "execute_result"
    }
   ],
   "source": [
    "IMAGE_SIZE = 9\n",
    "BAR_HALF_WIDTH = 0\n",
    "vert_bar_image = Image.new('L', (IMAGE_SIZE, IMAGE_SIZE))\n",
    "\n",
    "center_pt = IMAGE_SIZE // 2\n",
    "coords = [\n",
    "    (center_pt - BAR_HALF_WIDTH, 0),\n",
    "    (center_pt + BAR_HALF_WIDTH, IMAGE_SIZE - 1)\n",
    "]\n",
    "ImageDraw.Draw(vert_bar_image).rectangle(coords, outline=255, fill=255)\n",
    "\n",
    "vert_bar_image2 = Image.new('L', (IMAGE_SIZE, IMAGE_SIZE))\n",
    "coords = [\n",
    "    (center_pt - BAR_HALF_WIDTH + BAR_HALF_WIDTH, 0),\n",
    "    (center_pt + BAR_HALF_WIDTH + BAR_HALF_WIDTH, IMAGE_SIZE - 1)\n",
    "]\n",
    "ImageDraw.Draw(vert_bar_image2).rectangle(coords, outline=255, fill=255)\n",
    "\n",
    "vert_bar_image3 = Image.new('L', (IMAGE_SIZE, IMAGE_SIZE))\n",
    "coords = [\n",
    "    (center_pt - BAR_HALF_WIDTH - BAR_HALF_WIDTH, 0),\n",
    "    (center_pt + BAR_HALF_WIDTH - BAR_HALF_WIDTH, IMAGE_SIZE - 1)\n",
    "]\n",
    "ImageDraw.Draw(vert_bar_image3).rectangle(coords, outline=255, fill=255)\n",
    "\n",
    "horz_bar_image = vert_bar_image.rotate(90)\n",
    "diag_bar_image = vert_bar_image.rotate(45)\n",
    "diag_bar_image2 = vert_bar_image.rotate(-30)\n",
    "empty_image = Image.new('L', (IMAGE_SIZE, IMAGE_SIZE))\n",
    "\n",
    "all_images = [vert_bar_image, vert_bar_image2, vert_bar_image3, horz_bar_image, diag_bar_image, diag_bar_image2, empty_image]\n",
    "display_images(list(map(lambda x: x.resize((50, 50)), all_images)))"
   ]
  },
  {
   "cell_type": "code",
   "execution_count": 3,
   "id": "b6249390-49dd-4b80-b7ec-47d6e1028e95",
   "metadata": {},
   "outputs": [],
   "source": [
    "def display_kernel_raw(kernel, precision=1):\n",
    "    kernel = kernel.reshape(IMAGE_SIZE, IMAGE_SIZE)\n",
    "    format_string = '{:4.' + str(precision) + 'f}'\n",
    "    \n",
    "    for r in kernel:\n",
    "        s = ''\n",
    "        for c in r:\n",
    "            s += ' ' + format_string.format(c)\n",
    "\n",
    "        print(s)   "
   ]
  },
  {
   "cell_type": "code",
   "execution_count": 264,
   "id": "1d44109a-05e3-4f58-a145-95eb03214d12",
   "metadata": {},
   "outputs": [
    {
     "data": {
      "text/html": [
       "\n",
       "        <div style=\"display: flex; flex-flow: row wrap; text-align: center;\">\n",
       "        \n",
       "            <figure style=\"margin: 5px !important;\">\n",
       "              <img src=\"data:image/png;base64,iVBORw0KGgoAAAANSUhEUgAAADIAAAAyCAAAAAA7VNdtAAAANklEQVR4nGNkwASM6lb25koM904ePHbzP6Y0ExYtBMCollEto1pGtYxqGdUyqmVUy6iWgdUCABiRBmR5jpnGAAAAAElFTkSuQmCC\" style=\"height: auto\">\n",
       "              <figcaption style=\"font-size: 0.6em\">72 (24%)</figcaption>\n",
       "            </figure>\n",
       "        \n",
       "            <figure style=\"margin: 5px !important;\">\n",
       "              <img src=\"data:image/png;base64,iVBORw0KGgoAAAANSUhEUgAAADIAAAAyCAAAAAA7VNdtAAAAGUlEQVR4nO3BAQ0AAADCoPdPbQ8HFAAA/wYJ9gAByjRWDQAAAABJRU5ErkJggg==\" style=\"height: auto\">\n",
       "              <figcaption style=\"font-size: 0.6em\">228 (76%)</figcaption>\n",
       "            </figure>\n",
       "        \n",
       "        </div>\n",
       "    "
      ],
      "text/plain": [
       "<IPython.core.display.HTML object>"
      ]
     },
     "execution_count": 264,
     "metadata": {},
     "output_type": "execute_result"
    }
   ],
   "source": [
    "SAMPLES_COUNT = 300\n",
    "# images_source = [vert_bar_image, vert_bar_image, horz_bar_image]\n",
    "# images_source = [vert_bar_image, horz_bar_image, horz_bar_image, horz_bar_image, diag_bar_image]\n",
    "images_source = [vert_bar_image, empty_image, empty_image, empty_image, empty_image]\n",
    "images_source_set = dict()\n",
    "\n",
    "for s in images_source:\n",
    "    images_source_set[id(s)] = [s, 0]\n",
    "\n",
    "images_asbytes = list(map(lambda x: np.array(x).ravel(), images_source))\n",
    "random_indices = np.random.randint(len(images), size=SAMPLES_COUNT)\n",
    "IMAGES = []\n",
    "\n",
    "for i in random_indices:\n",
    "    IMAGES.append(images_asbytes[i])\n",
    "    images_source_set[id(images_source[i])][1] += 1\n",
    "    \n",
    "IMAGES = np.array(IMAGES)\n",
    "\n",
    "images_to_display = []\n",
    "images_source_caps = []\n",
    "\n",
    "for image, counter in images_source_set.values():\n",
    "    images_to_display.append(image)\n",
    "    images_source_caps.append(f'{counter} ({counter/IMAGES.shape[0] * 100:.0f}%)')\n",
    "\n",
    "display_images(list(map(lambda x: x.resize((50, 50)), images_to_display)), captions=images_source_caps)"
   ]
  },
  {
   "cell_type": "code",
   "execution_count": 282,
   "id": "0579d456-eb3c-4acc-927a-c45cb80ca3ab",
   "metadata": {},
   "outputs": [],
   "source": [
    "mask1 = np.ones(IMAGE_SIZE * IMAGE_SIZE) # full cover\n",
    "mask2 = np.zeros((IMAGE_SIZE, IMAGE_SIZE)) # horz bar \n",
    "mask2[3,:] = 1\n",
    "mask2[4,:] = 1\n",
    "mask2[5,:] = 1\n",
    "mask3 = mask2.T\n",
    "mask2 = mask2.reshape(-1)\n",
    "mask3 = mask3.reshape(-1) # vert bar\n",
    "CLUSTER_MASKS = np.array([mask1, mask2, mask3])\n",
    "\n",
    "means = 1 / np.pow(CLUSTER_MASKS.sum(axis=1), 1)\n",
    "sigmas = means / 3\n",
    "CLUSTERS = np.random.normal(means, sigmas, size=(CLUSTER_MASKS.shape[1], CLUSTER_MASKS.shape[0])).T\n",
    "# CLUSTERS = np.ones((IMAGE_SIZE * IMAGE_SIZE)).reshape(1, -1) # oja falls into inf/nan here"
   ]
  },
  {
   "cell_type": "code",
   "execution_count": 283,
   "id": "d6c39ec0-3a78-4165-8a0b-4e32cbdbe211",
   "metadata": {},
   "outputs": [],
   "source": [
    "# mean = 1 / np.pow(IMAGE_SIZE * IMAGE_SIZE, 1)\n",
    "# sigma = mean / 3\n",
    "# CLUSTERS = np.random.normal(mean, sigma, size=(IMAGE_SIZE * IMAGE_SIZE))\n",
    "# CLUSTER_MASKS = (CLUSTERS > 0)"
   ]
  },
  {
   "cell_type": "code",
   "execution_count": 284,
   "id": "c47151d4-183f-45b0-87f6-a1bcdeed6bd8",
   "metadata": {},
   "outputs": [
    {
     "data": {
      "application/vnd.jupyter.widget-view+json": {
       "model_id": "71c1227e631842ae8851f31e8d948d2f",
       "version_major": 2,
       "version_minor": 0
      },
      "text/plain": [
       "  0%|          | 0/10 [00:00<?, ?it/s]"
      ]
     },
     "metadata": {},
     "output_type": "display_data"
    },
    {
     "name": "stdout",
     "output_type": "stream",
     "text": [
      "Cluster #0\n",
      "    0    0    0    0    1    0    0    0    0\n",
      "    0    0    0    0    1    0    0    0    0\n",
      "    0    0    0    0    1    0    0    0    0\n",
      "    0    0    0    0    1    0    0    0    0\n",
      "    0    0    0    0    1    0    0    0    0\n",
      "    0    0    0    0    1    0    0    0    0\n",
      "    0    0    0    0    1    0    0    0    0\n",
      "    0    0    0    0    1    0    0    0    0\n",
      "    0    0    0    0    1    0    0    0    0\n",
      "\n",
      "\n",
      "Cluster #1\n",
      "    0    0    0    0    0    0    0    0    0\n",
      "    0    0    0    0    0    0    0    0    0\n",
      "    0    0    0    0    0    0    0    0    0\n",
      "    0    0    0    0    1    0    0    0    0\n",
      "    0    0    0    0    1    0    0    0    0\n",
      "    0    0    0    0    1    0    0    0    0\n",
      "    0    0    0    0    0    0    0    0    0\n",
      "    0    0    0    0    0    0    0    0    0\n",
      "    0    0    0    0    0    0    0    0    0\n",
      "\n",
      "\n",
      "Cluster #2\n",
      "    0    0    0    0    1    0    0    0    0\n",
      "    0    0    0    0    1    0    0    0    0\n",
      "    0    0    0    0    1    0    0    0    0\n",
      "    0    0    0    0    1    0    0    0    0\n",
      "    0    0    0    0    1    0    0    0    0\n",
      "    0    0    0    0    1    0    0    0    0\n",
      "    0    0    0    0    1    0    0    0    0\n",
      "    0    0    0    0    1    0    0    0    0\n",
      "    0    0    0    0    1    0    0    0    0\n",
      "\n",
      "\n"
     ]
    }
   ],
   "source": [
    "nu = 0.05\n",
    "batch_size = 300\n",
    "epochs = 10\n",
    "image_indices = np.arange(IMAGES.shape[0])\n",
    "method = 'oja' # oja, classic, rdzb\n",
    "\n",
    "for batches in tqdm(range(epochs)):\n",
    "    np.random.shuffle(image_indices)\n",
    "    \n",
    "    for ii in image_indices[:batch_size]:\n",
    "        image = IMAGES[ii] / 255\n",
    "        xes = image * CLUSTER_MASKS\n",
    "        yeks = image @ CLUSTERS.T\n",
    "\n",
    "        if method == 'oja':\n",
    "            grow = (nu * yeks).reshape(1, -1).T\n",
    "            grow = xes * grow \n",
    "            assert np.array_equal(xes[0] * (nu * yeks[0]), grow[0])\n",
    "            stabil = (nu * np.pow(yeks, 2)).reshape(1, -1).T\n",
    "            stabil = CLUSTERS * stabil \n",
    "            CLUSTERS = CLUSTERS + grow - stabil\n",
    "        elif method == 'classic':\n",
    "            denom = np.pow(CLUSTERS + xes * (nu * yeks).reshape(1, -1).T, 2)\n",
    "            denom = np.sqrt(np.sum(denom, axis=1).reshape(1, -1).T)\n",
    "            assert np.array_equal(denom[0], [np.sqrt(np.pow(CLUSTERS[0] + (nu * yeks[0] * xes[0]), 2).sum())])\n",
    "            nomin = CLUSTERS + xes * (nu * yeks).reshape(1, -1).T\n",
    "            CLUSTERS = nomin / denom\n",
    "        elif method == 'rdzb':\n",
    "            nomin = CLUSTERS + xes * (nu * yeks).reshape(1, -1).T\n",
    "            denom = nomin.max(axis=1)\n",
    "            assert np.array_equal(denom[0], nomin[0].max())\n",
    "            CLUSTERS = (nomin.T / denom).T\n",
    "        else:\n",
    "            assert False, method\n",
    "\n",
    "    # Pruning\n",
    "    CLUSTER_MASKS = (CLUSTERS.T >= np.max(CLUSTERS, axis=1) * 0.75).T\n",
    "    CLUSTERS = CLUSTERS * CLUSTER_MASKS\n",
    "    \n",
    "    nu *= 0.9\n",
    "\n",
    "for i, c in enumerate(CLUSTER_MASKS):\n",
    "    print(f'Cluster #{i}')\n",
    "    display_kernel_raw(c.astype(np.uint8), precision=0)\n",
    "    print('\\n')"
   ]
  },
  {
   "cell_type": "code",
   "execution_count": 274,
   "id": "2fc711e9-a30d-4699-8bd6-d32c5cb51f39",
   "metadata": {},
   "outputs": [
    {
     "data": {
      "text/plain": [
       "[np.float64(0.11979017906172475)]"
      ]
     },
     "execution_count": 274,
     "metadata": {},
     "output_type": "execute_result"
    }
   ],
   "source": [
    "[np.sqrt(np.pow(CLUSTERS[0] + (nu * yeks[0] * xes[0]), 2).sum())]"
   ]
  },
  {
   "cell_type": "code",
   "execution_count": null,
   "id": "cb4dd09b-8604-4e54-9aa4-76ee792ecf27",
   "metadata": {},
   "outputs": [],
   "source": []
  },
  {
   "cell_type": "code",
   "execution_count": null,
   "id": "9a3a75d7-225d-4d7b-ae52-c9fdcb7cca6f",
   "metadata": {},
   "outputs": [],
   "source": []
  }
 ],
 "metadata": {
  "kernelspec": {
   "display_name": "Python 3 (ipykernel)",
   "language": "python",
   "name": "python3"
  },
  "language_info": {
   "codemirror_mode": {
    "name": "ipython",
    "version": 3
   },
   "file_extension": ".py",
   "mimetype": "text/x-python",
   "name": "python",
   "nbconvert_exporter": "python",
   "pygments_lexer": "ipython3",
   "version": "3.12.2"
  }
 },
 "nbformat": 4,
 "nbformat_minor": 5
}
