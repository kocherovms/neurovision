{
 "cells": [
  {
   "cell_type": "code",
   "execution_count": 19,
   "id": "b296971e-d043-4dfb-b431-4feb06eed018",
   "metadata": {},
   "outputs": [
    {
     "name": "stdout",
     "output_type": "stream",
     "text": [
      "CPU time (for 1 iterations): 1.7099 seconds\n",
      "GPU time (for 1 iterations): 0.4246 seconds\n",
      "Speedup: 4.03x\n"
     ]
    }
   ],
   "source": [
    "import numpy as np\n",
    "import cupy as cp\n",
    "import time\n",
    "\n",
    "# Matrix size (adjust for your hardware)\n",
    "size = 2000\n",
    "iterations = 1  # Number of iterations\n",
    "\n",
    "# Create NumPy matrices\n",
    "a_cpu = np.full((10000, 32*32), 1)\n",
    "b_cpu = np.full((32*32, 10*10*10*10), 0.5)\n",
    "\n",
    "# # Create CuPy matrices on the GPU\n",
    "a_gpu = cp.asarray(a_cpu)\n",
    "b_gpu = cp.asarray(b_cpu)\n",
    "\n",
    "# Time CPU calculation\n",
    "start_cpu = time.time()\n",
    "for _ in range(iterations):\n",
    "    c_cpu = a_cpu @ b_cpu\n",
    "\n",
    "assert c_cpu[0,0] == 32*32*(1*0.5), c_cpu[0]\n",
    "\n",
    "time_cpu = time.time() - start_cpu\n",
    "\n",
    "# Time GPU calculation\n",
    "start_gpu = time.time()\n",
    "for _ in range(iterations):\n",
    "    c_gpu = a_gpu @ b_gpu\n",
    "\n",
    "# # Ensure all GPU calculations have finished\n",
    "cp.cuda.Stream.null.synchronize()\n",
    "\n",
    "time_gpu = time.time() - start_gpu\n",
    "\n",
    "print(f\"CPU time (for {iterations} iterations): {time_cpu:.4f} seconds\")\n",
    "print(f\"GPU time (for {iterations} iterations): {time_gpu:.4f} seconds\")\n",
    "print(f\"Speedup: {time_cpu / time_gpu:.2f}x\")"
   ]
  },
  {
   "cell_type": "code",
   "execution_count": 3,
   "id": "2ec06580-394e-4a9e-a0c0-42482703b617",
   "metadata": {},
   "outputs": [
    {
     "data": {
      "text/plain": [
       "(10000, 1024)"
      ]
     },
     "execution_count": 3,
     "metadata": {},
     "output_type": "execute_result"
    }
   ],
   "source": [
    "np.random.rand(10000, 32*32).shape"
   ]
  },
  {
   "cell_type": "code",
   "execution_count": 12,
   "id": "64ce3851-ac8c-48f7-833e-1d180189756a",
   "metadata": {},
   "outputs": [
    {
     "data": {
      "text/plain": [
       "0.5"
      ]
     },
     "execution_count": 12,
     "metadata": {},
     "output_type": "execute_result"
    }
   ],
   "source": [
    "(1*0.5 + 1*0.5 + 1*0.5) / 3"
   ]
  },
  {
   "cell_type": "code",
   "execution_count": 18,
   "id": "069b416f-807e-429f-bd32-2e155ad98799",
   "metadata": {},
   "outputs": [
    {
     "data": {
      "text/plain": [
       "np.float64(512.0)"
      ]
     },
     "execution_count": 18,
     "metadata": {},
     "output_type": "execute_result"
    }
   ],
   "source": [
    "c_cpu[0,0]"
   ]
  }
 ],
 "metadata": {
  "kernelspec": {
   "display_name": "Python 3 (ipykernel)",
   "language": "python",
   "name": "python3"
  },
  "language_info": {
   "codemirror_mode": {
    "name": "ipython",
    "version": 3
   },
   "file_extension": ".py",
   "mimetype": "text/x-python",
   "name": "python",
   "nbconvert_exporter": "python",
   "pygments_lexer": "ipython3",
   "version": "3.12.2"
  }
 },
 "nbformat": 4,
 "nbformat_minor": 5
}
