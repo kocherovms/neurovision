{
 "cells": [
  {
   "cell_type": "code",
   "execution_count": 1,
   "id": "addd86b9-0901-4183-b967-9d91c91fae3a",
   "metadata": {},
   "outputs": [],
   "source": [
    "import os, math\n",
    "from collections import defaultdict\n",
    "import itertools\n",
    "import sqlite3\n",
    "\n",
    "import logging\n",
    "import logging.handlers\n",
    "\n",
    "from PIL import Image, ImageDraw\n",
    "from tqdm.notebook import tqdm\n",
    "\n",
    "from sklearn.model_selection import train_test_split\n",
    "import matplotlib.pyplot as plt\n",
    "import scipy\n",
    "import numpy as np\n",
    "import cupy as cp\n",
    "import pandas as pd\n",
    "\n",
    "from utils import *\n",
    "from hdc import *"
   ]
  },
  {
   "cell_type": "code",
   "execution_count": 2,
   "id": "3fedbcf1-4879-4d06-9b0f-2d11a5fd8ce2",
   "metadata": {},
   "outputs": [],
   "source": [
    "RNG = np.random.default_rng()"
   ]
  },
  {
   "cell_type": "code",
   "execution_count": 3,
   "id": "7eb0d306-f21d-4a89-bb05-73daed6ce658",
   "metadata": {},
   "outputs": [
    {
     "data": {
      "text/plain": [
       "array([[7, 3, 0, 5],\n",
       "       [5, 2, 8, 3],\n",
       "       [3, 5, 2, 2],\n",
       "       [4, 9, 8, 7]])"
      ]
     },
     "execution_count": 3,
     "metadata": {},
     "output_type": "execute_result"
    }
   ],
   "source": [
    "x = RNG.integers(10, size=16).reshape(4,4)\n",
    "x"
   ]
  },
  {
   "cell_type": "code",
   "execution_count": 4,
   "id": "003bfccf-fdd1-42f0-965f-83b651303463",
   "metadata": {},
   "outputs": [
    {
     "data": {
      "text/plain": [
       "array([7, 8, 5, 9])"
      ]
     },
     "execution_count": 4,
     "metadata": {},
     "output_type": "execute_result"
    }
   ],
   "source": [
    "xa1 = np.max(x, axis=1)\n",
    "xa1"
   ]
  },
  {
   "cell_type": "code",
   "execution_count": 5,
   "id": "eb131efc-2a48-4c24-9cb0-594d7c24b6ae",
   "metadata": {},
   "outputs": [
    {
     "data": {
      "text/plain": [
       "array([15, 18, 12, 28])"
      ]
     },
     "execution_count": 5,
     "metadata": {},
     "output_type": "execute_result"
    }
   ],
   "source": [
    "xa2 = np.sum(x, axis=1)\n",
    "xa2"
   ]
  },
  {
   "cell_type": "code",
   "execution_count": 6,
   "id": "3b908b35-1d3a-4240-9377-5da6d3223d55",
   "metadata": {},
   "outputs": [
    {
     "data": {
      "text/plain": [
       "array([3, 1, 0, 2])"
      ]
     },
     "execution_count": 6,
     "metadata": {},
     "output_type": "execute_result"
    }
   ],
   "source": [
    "np.argsort(-xa1)"
   ]
  },
  {
   "cell_type": "code",
   "execution_count": 7,
   "id": "bf5e4a77-e7b8-4e6d-a024-0929087c6edf",
   "metadata": {},
   "outputs": [
    {
     "data": {
      "text/plain": [
       "array([3, 1, 0, 2])"
      ]
     },
     "execution_count": 7,
     "metadata": {},
     "output_type": "execute_result"
    }
   ],
   "source": [
    "np.argsort(-xa2)"
   ]
  },
  {
   "cell_type": "code",
   "execution_count": 8,
   "id": "9cb88ea7-21ae-4d54-bcf4-998376d2ed0c",
   "metadata": {},
   "outputs": [
    {
     "data": {
      "text/plain": [
       "UniqueCountsResult(values=array([ 1,  2, 10, 20]), counts=array([1, 1, 2, 1]))"
      ]
     },
     "execution_count": 8,
     "metadata": {},
     "output_type": "execute_result"
    }
   ],
   "source": [
    "l = [10, 20, 10, 1, 2]\n",
    "np.unique_counts(l)"
   ]
  },
  {
   "cell_type": "code",
   "execution_count": 9,
   "id": "aa664615-de21-4a63-9d69-e3391fd0f162",
   "metadata": {},
   "outputs": [
    {
     "data": {
      "text/plain": [
       "'  723'"
      ]
     },
     "execution_count": 9,
     "metadata": {},
     "output_type": "execute_result"
    }
   ],
   "source": [
    "v = 723\n",
    "f'{v:5}'"
   ]
  },
  {
   "cell_type": "code",
   "execution_count": 10,
   "id": "e11614fd-ae9e-420e-9e0b-de11495de81b",
   "metadata": {},
   "outputs": [
    {
     "data": {
      "image/png": "[encoded data removed]",
      "text/plain": [
       "<Figure size 640x480 with 1 Axes>"
      ]
     },
     "metadata": {},
     "output_type": "display_data"
    },
    {
     "data": {
      "text/html": [
       "<div>\n",
       "<style scoped>\n",
       "    .dataframe tbody tr th:only-of-type {\n",
       "        vertical-align: middle;\n",
       "    }\n",
       "\n",
       "    .dataframe tbody tr th {\n",
       "        vertical-align: top;\n",
       "    }\n",
       "\n",
       "    .dataframe thead th {\n",
       "        text-align: right;\n",
       "    }\n",
       "</style>\n",
       "<table border=\"1\" class=\"dataframe\">\n",
       "  <thead>\n",
       "    <tr style=\"text-align: right;\">\n",
       "      <th></th>\n",
       "      <th>x</th>\n",
       "      <th>y</th>\n",
       "    </tr>\n",
       "  </thead>\n",
       "  <tbody>\n",
       "    <tr>\n",
       "      <th>0</th>\n",
       "      <td>0.0</td>\n",
       "      <td>1.000000</td>\n",
       "    </tr>\n",
       "    <tr>\n",
       "      <th>1</th>\n",
       "      <td>1.0</td>\n",
       "      <td>0.367879</td>\n",
       "    </tr>\n",
       "    <tr>\n",
       "      <th>2</th>\n",
       "      <td>2.0</td>\n",
       "      <td>0.135335</td>\n",
       "    </tr>\n",
       "    <tr>\n",
       "      <th>3</th>\n",
       "      <td>3.0</td>\n",
       "      <td>0.049787</td>\n",
       "    </tr>\n",
       "    <tr>\n",
       "      <th>4</th>\n",
       "      <td>4.0</td>\n",
       "      <td>0.018316</td>\n",
       "    </tr>\n",
       "  </tbody>\n",
       "</table>\n",
       "</div>"
      ],
      "text/plain": [
       "     x         y\n",
       "0  0.0  1.000000\n",
       "1  1.0  0.367879\n",
       "2  2.0  0.135335\n",
       "3  3.0  0.049787\n",
       "4  4.0  0.018316"
      ]
     },
     "execution_count": 10,
     "metadata": {},
     "output_type": "execute_result"
    }
   ],
   "source": [
    "l = 1\n",
    "xs = list(range(5))\n",
    "ys = []\n",
    "df = pd.DataFrame(columns=['x', 'y'])\n",
    "\n",
    "for x in xs:\n",
    "    y = l * np.exp(-l * x)\n",
    "    ys.append(y)\n",
    "    df.loc[len(df)] = [x, y]\n",
    "\n",
    "plt.plot(xs, ys)\n",
    "plt.grid()\n",
    "plt.show()\n",
    "\n",
    "df"
   ]
  },
  {
   "cell_type": "code",
   "execution_count": 11,
   "id": "448efb63-b008-4164-b4cb-03fe04af4e33",
   "metadata": {},
   "outputs": [
    {
     "data": {
      "image/png": "[encoded data removed]",
      "text/plain": [
       "<Figure size 640x480 with 1 Axes>"
      ]
     },
     "metadata": {},
     "output_type": "display_data"
    },
    {
     "data": {
      "text/html": [
       "<div>\n",
       "<style scoped>\n",
       "    .dataframe tbody tr th:only-of-type {\n",
       "        vertical-align: middle;\n",
       "    }\n",
       "\n",
       "    .dataframe tbody tr th {\n",
       "        vertical-align: top;\n",
       "    }\n",
       "\n",
       "    .dataframe thead th {\n",
       "        text-align: right;\n",
       "    }\n",
       "</style>\n",
       "<table border=\"1\" class=\"dataframe\">\n",
       "  <thead>\n",
       "    <tr style=\"text-align: right;\">\n",
       "      <th></th>\n",
       "      <th>x</th>\n",
       "      <th>y</th>\n",
       "    </tr>\n",
       "  </thead>\n",
       "  <tbody>\n",
       "    <tr>\n",
       "      <th>0</th>\n",
       "      <td>0.0</td>\n",
       "      <td>0.200000</td>\n",
       "    </tr>\n",
       "    <tr>\n",
       "      <th>1</th>\n",
       "      <td>1.0</td>\n",
       "      <td>0.244281</td>\n",
       "    </tr>\n",
       "    <tr>\n",
       "      <th>2</th>\n",
       "      <td>2.0</td>\n",
       "      <td>0.298365</td>\n",
       "    </tr>\n",
       "    <tr>\n",
       "      <th>3</th>\n",
       "      <td>3.0</td>\n",
       "      <td>0.364424</td>\n",
       "    </tr>\n",
       "    <tr>\n",
       "      <th>4</th>\n",
       "      <td>4.0</td>\n",
       "      <td>0.445108</td>\n",
       "    </tr>\n",
       "    <tr>\n",
       "      <th>5</th>\n",
       "      <td>5.0</td>\n",
       "      <td>0.543656</td>\n",
       "    </tr>\n",
       "    <tr>\n",
       "      <th>6</th>\n",
       "      <td>6.0</td>\n",
       "      <td>0.664023</td>\n",
       "    </tr>\n",
       "    <tr>\n",
       "      <th>7</th>\n",
       "      <td>7.0</td>\n",
       "      <td>0.811040</td>\n",
       "    </tr>\n",
       "    <tr>\n",
       "      <th>8</th>\n",
       "      <td>8.0</td>\n",
       "      <td>0.990606</td>\n",
       "    </tr>\n",
       "    <tr>\n",
       "      <th>9</th>\n",
       "      <td>9.0</td>\n",
       "      <td>1.209929</td>\n",
       "    </tr>\n",
       "  </tbody>\n",
       "</table>\n",
       "</div>"
      ],
      "text/plain": [
       "     x         y\n",
       "0  0.0  0.200000\n",
       "1  1.0  0.244281\n",
       "2  2.0  0.298365\n",
       "3  3.0  0.364424\n",
       "4  4.0  0.445108\n",
       "5  5.0  0.543656\n",
       "6  6.0  0.664023\n",
       "7  7.0  0.811040\n",
       "8  8.0  0.990606\n",
       "9  9.0  1.209929"
      ]
     },
     "execution_count": 11,
     "metadata": {},
     "output_type": "execute_result"
    }
   ],
   "source": [
    "l = 0.2\n",
    "xs = list(range(10))\n",
    "ys = []\n",
    "df = pd.DataFrame(columns=['x', 'y'])\n",
    "\n",
    "for x in xs:\n",
    "    y = l * np.exp(l * x)\n",
    "    ys.append(y)\n",
    "    df.loc[len(df)] = [x, y]\n",
    "\n",
    "plt.plot(xs, ys)\n",
    "plt.grid()\n",
    "plt.show()\n",
    "\n",
    "df"
   ]
  },
  {
   "cell_type": "code",
   "execution_count": 160,
   "id": "9ddd8e1f-3601-45c4-a340-116e72cf11e8",
   "metadata": {},
   "outputs": [
    {
     "data": {
      "image/png": "[encoded data removed]",
      "text/plain": [
       "<Figure size 640x480 with 1 Axes>"
      ]
     },
     "metadata": {},
     "output_type": "display_data"
    },
    {
     "data": {
      "text/plain": [
       "(256, 256, np.int64(-63), np.int64(63), np.int64(-62), np.int64(63))"
      ]
     },
     "execution_count": 160,
     "metadata": {},
     "output_type": "execute_result"
    }
   ],
   "source": [
    "mean = [0, 0]\n",
    "# cov = [[1, 0], [0, 100]]  # diagonal covariance\n",
    "cov = [[64, 0], [0, 64]]  # spherical covariance\n",
    "xs, ys = np.random.multivariate_normal(mean, cov, 10000).T * 4\n",
    "xs = xs[(xs >= -64) & (xs <= 64)].astype(int)\n",
    "ys = ys[(ys >= -64) & (ys <= 64)].astype(int)\n",
    "unique_xy_pairs = set()\n",
    "\n",
    "for x, y in zip(xs, ys):\n",
    "    unique_xy_pairs.add((x, y))\n",
    "\n",
    "xs = list(map(lambda xy_pair: xy_pair[0], unique_xy_pairs))[:256]\n",
    "ys = list(map(lambda xy_pair: xy_pair[1], unique_xy_pairs))[:256]\n",
    "\n",
    "\n",
    "plt.scatter(xs, ys)\n",
    "plt.ylim(-64, 64)\n",
    "plt.xlim(-64, 64)\n",
    "# plt.axis('equal')\n",
    "plt.show()\n",
    "len(xs), len(ys), np.min(xs), np.max(xs), np.min(ys), np.max(ys)"
   ]
  },
  {
   "cell_type": "code",
   "execution_count": null,
   "id": "18d1280e-e9a0-492d-bc78-e9b7205ae225",
   "metadata": {},
   "outputs": [],
   "source": []
  },
  {
   "cell_type": "code",
   "execution_count": null,
   "id": "bc335ad9-bf7d-48eb-abbb-97dc4381e1c0",
   "metadata": {},
   "outputs": [],
   "source": []
  }
 ],
 "metadata": {
  "kernelspec": {
   "display_name": "Python 3 (ipykernel)",
   "language": "python",
   "name": "python3"
  },
  "language_info": {
   "codemirror_mode": {
    "name": "ipython",
    "version": 3
   },
   "file_extension": ".py",
   "mimetype": "text/x-python",
   "name": "python",
   "nbconvert_exporter": "python",
   "pygments_lexer": "ipython3",
   "version": "3.12.2"
  }
 },
 "nbformat": 4,
 "nbformat_minor": 5
}
