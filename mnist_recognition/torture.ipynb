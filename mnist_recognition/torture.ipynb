{
 "cells": [
  {
   "cell_type": "code",
   "execution_count": 1,
   "id": "addd86b9-0901-4183-b967-9d91c91fae3a",
   "metadata": {},
   "outputs": [],
   "source": [
    "import os, math\n",
    "from collections import defaultdict\n",
    "import itertools\n",
    "import sqlite3\n",
    "\n",
    "import logging\n",
    "import logging.handlers\n",
    "\n",
    "from PIL import Image, ImageDraw\n",
    "from tqdm.notebook import tqdm\n",
    "\n",
    "from sklearn.model_selection import train_test_split\n",
    "import matplotlib.pyplot as plt\n",
    "import scipy\n",
    "import numpy as np\n",
    "import cupy as cp\n",
    "import pandas as pd\n",
    "\n",
    "from utils import *\n",
    "from hdc import *"
   ]
  },
  {
   "cell_type": "code",
   "execution_count": 2,
   "id": "3fedbcf1-4879-4d06-9b0f-2d11a5fd8ce2",
   "metadata": {},
   "outputs": [],
   "source": [
    "RNG = np.random.default_rng()"
   ]
  },
  {
   "cell_type": "code",
   "execution_count": 3,
   "id": "7eb0d306-f21d-4a89-bb05-73daed6ce658",
   "metadata": {},
   "outputs": [
    {
     "data": {
      "text/plain": [
       "array([[7, 0, 3, 8],\n",
       "       [6, 4, 6, 9],\n",
       "       [3, 5, 3, 8],\n",
       "       [5, 2, 0, 8]])"
      ]
     },
     "execution_count": 3,
     "metadata": {},
     "output_type": "execute_result"
    }
   ],
   "source": [
    "x = RNG.integers(10, size=16).reshape(4,4)\n",
    "x"
   ]
  },
  {
   "cell_type": "code",
   "execution_count": 4,
   "id": "003bfccf-fdd1-42f0-965f-83b651303463",
   "metadata": {},
   "outputs": [
    {
     "data": {
      "text/plain": [
       "array([8, 9, 8, 8])"
      ]
     },
     "execution_count": 4,
     "metadata": {},
     "output_type": "execute_result"
    }
   ],
   "source": [
    "xa1 = np.max(x, axis=1)\n",
    "xa1"
   ]
  },
  {
   "cell_type": "code",
   "execution_count": 5,
   "id": "eb131efc-2a48-4c24-9cb0-594d7c24b6ae",
   "metadata": {},
   "outputs": [
    {
     "data": {
      "text/plain": [
       "array([18, 25, 19, 15])"
      ]
     },
     "execution_count": 5,
     "metadata": {},
     "output_type": "execute_result"
    }
   ],
   "source": [
    "xa2 = np.sum(x, axis=1)\n",
    "xa2"
   ]
  },
  {
   "cell_type": "code",
   "execution_count": 6,
   "id": "3b908b35-1d3a-4240-9377-5da6d3223d55",
   "metadata": {},
   "outputs": [
    {
     "data": {
      "text/plain": [
       "array([1, 0, 2, 3])"
      ]
     },
     "execution_count": 6,
     "metadata": {},
     "output_type": "execute_result"
    }
   ],
   "source": [
    "np.argsort(-xa1)"
   ]
  },
  {
   "cell_type": "code",
   "execution_count": 7,
   "id": "bf5e4a77-e7b8-4e6d-a024-0929087c6edf",
   "metadata": {},
   "outputs": [
    {
     "data": {
      "text/plain": [
       "array([1, 2, 0, 3])"
      ]
     },
     "execution_count": 7,
     "metadata": {},
     "output_type": "execute_result"
    }
   ],
   "source": [
    "np.argsort(-xa2)"
   ]
  },
  {
   "cell_type": "code",
   "execution_count": 8,
   "id": "9cb88ea7-21ae-4d54-bcf4-998376d2ed0c",
   "metadata": {},
   "outputs": [
    {
     "data": {
      "text/plain": [
       "UniqueCountsResult(values=array([ 1,  2, 10, 20]), counts=array([1, 1, 2, 1]))"
      ]
     },
     "execution_count": 8,
     "metadata": {},
     "output_type": "execute_result"
    }
   ],
   "source": [
    "l = [10, 20, 10, 1, 2]\n",
    "np.unique_counts(l)"
   ]
  },
  {
   "cell_type": "code",
   "execution_count": 9,
   "id": "aa664615-de21-4a63-9d69-e3391fd0f162",
   "metadata": {},
   "outputs": [
    {
     "data": {
      "text/plain": [
       "'  723'"
      ]
     },
     "execution_count": 9,
     "metadata": {},
     "output_type": "execute_result"
    }
   ],
   "source": [
    "v = 723\n",
    "f'{v:5}'"
   ]
  },
  {
   "cell_type": "code",
   "execution_count": 10,
   "id": "e11614fd-ae9e-420e-9e0b-de11495de81b",
   "metadata": {},
   "outputs": [
    {
     "data": {
      "image/png": "[encoded data removed]",
      "text/plain": [
       "<Figure size 640x480 with 1 Axes>"
      ]
     },
     "metadata": {},
     "output_type": "display_data"
    },
    {
     "data": {
      "text/html": [
       "<div>\n",
       "<style scoped>\n",
       "    .dataframe tbody tr th:only-of-type {\n",
       "        vertical-align: middle;\n",
       "    }\n",
       "\n",
       "    .dataframe tbody tr th {\n",
       "        vertical-align: top;\n",
       "    }\n",
       "\n",
       "    .dataframe thead th {\n",
       "        text-align: right;\n",
       "    }\n",
       "</style>\n",
       "<table border=\"1\" class=\"dataframe\">\n",
       "  <thead>\n",
       "    <tr style=\"text-align: right;\">\n",
       "      <th></th>\n",
       "      <th>x</th>\n",
       "      <th>y</th>\n",
       "    </tr>\n",
       "  </thead>\n",
       "  <tbody>\n",
       "    <tr>\n",
       "      <th>0</th>\n",
       "      <td>0.0</td>\n",
       "      <td>1.000000</td>\n",
       "    </tr>\n",
       "    <tr>\n",
       "      <th>1</th>\n",
       "      <td>1.0</td>\n",
       "      <td>0.367879</td>\n",
       "    </tr>\n",
       "    <tr>\n",
       "      <th>2</th>\n",
       "      <td>2.0</td>\n",
       "      <td>0.135335</td>\n",
       "    </tr>\n",
       "    <tr>\n",
       "      <th>3</th>\n",
       "      <td>3.0</td>\n",
       "      <td>0.049787</td>\n",
       "    </tr>\n",
       "    <tr>\n",
       "      <th>4</th>\n",
       "      <td>4.0</td>\n",
       "      <td>0.018316</td>\n",
       "    </tr>\n",
       "  </tbody>\n",
       "</table>\n",
       "</div>"
      ],
      "text/plain": [
       "     x         y\n",
       "0  0.0  1.000000\n",
       "1  1.0  0.367879\n",
       "2  2.0  0.135335\n",
       "3  3.0  0.049787\n",
       "4  4.0  0.018316"
      ]
     },
     "execution_count": 10,
     "metadata": {},
     "output_type": "execute_result"
    }
   ],
   "source": [
    "l = 1\n",
    "xs = list(range(5))\n",
    "ys = []\n",
    "df = pd.DataFrame(columns=['x', 'y'])\n",
    "\n",
    "for x in xs:\n",
    "    y = l * np.exp(-l * x)\n",
    "    ys.append(y)\n",
    "    df.loc[len(df)] = [x, y]\n",
    "\n",
    "plt.plot(xs, ys)\n",
    "plt.grid()\n",
    "plt.show()\n",
    "\n",
    "df"
   ]
  },
  {
   "cell_type": "code",
   "execution_count": 11,
   "id": "448efb63-b008-4164-b4cb-03fe04af4e33",
   "metadata": {},
   "outputs": [
    {
     "data": {
      "image/png": "[encoded data removed]",
      "text/plain": [
       "<Figure size 640x480 with 1 Axes>"
      ]
     },
     "metadata": {},
     "output_type": "display_data"
    },
    {
     "data": {
      "text/html": [
       "<div>\n",
       "<style scoped>\n",
       "    .dataframe tbody tr th:only-of-type {\n",
       "        vertical-align: middle;\n",
       "    }\n",
       "\n",
       "    .dataframe tbody tr th {\n",
       "        vertical-align: top;\n",
       "    }\n",
       "\n",
       "    .dataframe thead th {\n",
       "        text-align: right;\n",
       "    }\n",
       "</style>\n",
       "<table border=\"1\" class=\"dataframe\">\n",
       "  <thead>\n",
       "    <tr style=\"text-align: right;\">\n",
       "      <th></th>\n",
       "      <th>x</th>\n",
       "      <th>y</th>\n",
       "    </tr>\n",
       "  </thead>\n",
       "  <tbody>\n",
       "    <tr>\n",
       "      <th>0</th>\n",
       "      <td>0.0</td>\n",
       "      <td>0.200000</td>\n",
       "    </tr>\n",
       "    <tr>\n",
       "      <th>1</th>\n",
       "      <td>1.0</td>\n",
       "      <td>0.244281</td>\n",
       "    </tr>\n",
       "    <tr>\n",
       "      <th>2</th>\n",
       "      <td>2.0</td>\n",
       "      <td>0.298365</td>\n",
       "    </tr>\n",
       "    <tr>\n",
       "      <th>3</th>\n",
       "      <td>3.0</td>\n",
       "      <td>0.364424</td>\n",
       "    </tr>\n",
       "    <tr>\n",
       "      <th>4</th>\n",
       "      <td>4.0</td>\n",
       "      <td>0.445108</td>\n",
       "    </tr>\n",
       "    <tr>\n",
       "      <th>5</th>\n",
       "      <td>5.0</td>\n",
       "      <td>0.543656</td>\n",
       "    </tr>\n",
       "    <tr>\n",
       "      <th>6</th>\n",
       "      <td>6.0</td>\n",
       "      <td>0.664023</td>\n",
       "    </tr>\n",
       "    <tr>\n",
       "      <th>7</th>\n",
       "      <td>7.0</td>\n",
       "      <td>0.811040</td>\n",
       "    </tr>\n",
       "    <tr>\n",
       "      <th>8</th>\n",
       "      <td>8.0</td>\n",
       "      <td>0.990606</td>\n",
       "    </tr>\n",
       "    <tr>\n",
       "      <th>9</th>\n",
       "      <td>9.0</td>\n",
       "      <td>1.209929</td>\n",
       "    </tr>\n",
       "  </tbody>\n",
       "</table>\n",
       "</div>"
      ],
      "text/plain": [
       "     x         y\n",
       "0  0.0  0.200000\n",
       "1  1.0  0.244281\n",
       "2  2.0  0.298365\n",
       "3  3.0  0.364424\n",
       "4  4.0  0.445108\n",
       "5  5.0  0.543656\n",
       "6  6.0  0.664023\n",
       "7  7.0  0.811040\n",
       "8  8.0  0.990606\n",
       "9  9.0  1.209929"
      ]
     },
     "execution_count": 11,
     "metadata": {},
     "output_type": "execute_result"
    }
   ],
   "source": [
    "l = 0.2\n",
    "xs = list(range(10))\n",
    "ys = []\n",
    "df = pd.DataFrame(columns=['x', 'y'])\n",
    "\n",
    "for x in xs:\n",
    "    y = l * np.exp(l * x)\n",
    "    ys.append(y)\n",
    "    df.loc[len(df)] = [x, y]\n",
    "\n",
    "plt.plot(xs, ys)\n",
    "plt.grid()\n",
    "plt.show()\n",
    "\n",
    "df"
   ]
  },
  {
   "cell_type": "code",
   "execution_count": 108,
   "id": "9ddd8e1f-3601-45c4-a340-116e72cf11e8",
   "metadata": {},
   "outputs": [
    {
     "data": {
      "image/png": "[encoded data removed]",
      "text/plain": [
       "<Figure size 640x480 with 1 Axes>"
      ]
     },
     "metadata": {},
     "output_type": "display_data"
    },
    {
     "data": {
      "text/plain": [
       "(256,\n",
       " 256,\n",
       " np.float64(-62.44890824233715),\n",
       " np.float64(63.137477985821306),\n",
       " np.float64(-59.202632850730254),\n",
       " np.float64(58.74094030640433))"
      ]
     },
     "execution_count": 108,
     "metadata": {},
     "output_type": "execute_result"
    }
   ],
   "source": [
    "mean = [0, 0]\n",
    "# cov = [[1, 0], [0, 100]]  # diagonal covariance\n",
    "cov = [[1, 0], [0, 1]]  # spherical covariance\n",
    "x, y = np.random.multivariate_normal(mean, cov, 10000).T * 30\n",
    "\n",
    "def scale_to_range(a, lo, hi):\n",
    "    a_lo = np.min(a)\n",
    "    a_hi = np.abs(np.max(a))\n",
    "    # a = a_lo + a * (a_hi - a_lo) / (hi - lo)\n",
    "    # print((hi - lo), (a_hi - a_lo))\n",
    "    a = a / a_hi * hi\n",
    "    return a\n",
    "\n",
    "x = x[(x >= -64) & (x <= 64)][:256]\n",
    "y = y[(y >= -64) & (y <= 64)][:256]\n",
    "# x = x[:256]\n",
    "# y = y[:256]\n",
    "# x = scale_to_range(x, -64, 64)\n",
    "# y = scale_to_range(y, -64, 64)\n",
    "\n",
    "plt.scatter(x, y)\n",
    "plt.ylim(-64, 64)\n",
    "plt.xlim(-64, 64)\n",
    "# plt.axis('equal')\n",
    "plt.show()\n",
    "len(x), len(y), np.min(x), np.max(x), np.min(y), np.max(y)"
   ]
  },
  {
   "cell_type": "code",
   "execution_count": 88,
   "id": "18d1280e-e9a0-492d-bc78-e9b7205ae225",
   "metadata": {},
   "outputs": [
    {
     "data": {
      "text/plain": [
       "array([ -6.8426984 ,  -5.36773633,  -2.88622584,  12.25365357,\n",
       "       -19.13624585, -11.09629262,  -1.83306295, -24.52109327,\n",
       "        15.99300964,  25.64594334,  42.05381835,  18.68352927,\n",
       "       -33.42983621, -33.16886818, -21.62367738,   1.00024849,\n",
       "       -20.68722051, -11.60019884,  17.20259558,  -6.66894143,\n",
       "       -12.82990039, -12.70588884,   9.14354449,  40.94526741,\n",
       "        10.33130609,  -9.72006222, -46.54726875, -23.73140217,\n",
       "       -15.75393681,   1.9311851 ,   6.81628521,   2.8241368 ,\n",
       "       -12.23601019,   0.23387323,   8.721398  ,   0.91396973,\n",
       "       -23.31634992, -10.71705127, -26.40444876,  -6.03563571,\n",
       "       -35.14662069,  16.12262696,  16.5540593 ,  -9.54711557,\n",
       "        34.36801419, -12.62685888,  12.12746884,   1.60185852,\n",
       "       -12.00499452, -31.26605079,  35.16763599,  21.41758251,\n",
       "        21.09807473, -20.25063589,   7.71053817,  38.9457459 ,\n",
       "       -25.80827761, -47.59605887, -19.96829665,  17.21699519,\n",
       "        -5.92916717, -40.20978418,  31.77018486,  15.0886144 ,\n",
       "        15.3908012 ,  31.03030052,   5.50582573,  45.53961384,\n",
       "         6.48168552, -15.97212664,  29.11543282,  14.40350937,\n",
       "         1.05670127, -29.28710108,  32.81845294, -19.07370804,\n",
       "        27.36325644, -22.42420959, -48.40439605, -20.53653712,\n",
       "       -18.33595933,  36.54395344,  -0.94960404,   9.02878655,\n",
       "        -9.68049682,  -3.22243245,  37.6411848 , -26.88061312,\n",
       "         4.88203214, -10.19823009,  31.54807247,   4.17643986,\n",
       "         0.39012659,  20.5976383 ,  -5.86835421, -10.28652958,\n",
       "       -38.16745025,  16.6750688 , -19.30257471,  -2.7863558 ,\n",
       "       -15.58069534,  18.15695495,   8.8858307 , -24.29169148,\n",
       "       -23.29573354,  -4.47688692, -14.91132179,  35.43414875,\n",
       "        24.405113  , -24.63988759,  18.62949981,   1.36832338,\n",
       "        25.19568102, -18.10802365,  13.65628494,  14.9549662 ,\n",
       "        15.27124336,  -7.09178201,  18.12455637,  27.57355725,\n",
       "        12.08419124,  22.88762234, -11.31102401, -10.00362107,\n",
       "         9.70688299, -26.5310357 ,  17.00415987,   1.77363842,\n",
       "       -19.98264177, -10.81462124, -20.545777  ,   8.84279637,\n",
       "         9.11713917,  -0.332748  ,   7.2117496 ,  30.1235034 ,\n",
       "       -18.0435804 ,  20.46634653,  23.0305949 ,  -3.44475016,\n",
       "        16.43760153,  -6.17272456, -27.43304748, -12.09001031,\n",
       "        11.88132241,  -5.56111247, -10.18537805,   0.46053358,\n",
       "       -14.88814434,   5.93246705, -20.38051841,  -0.42942825,\n",
       "        12.69789485, -17.65741855,  -4.50759253,   8.4326307 ,\n",
       "        -9.69695637,   7.54684189,  17.68731614,   4.10411493,\n",
       "        25.29374685,  45.24587775,  -9.14082251, -16.74949186,\n",
       "       -14.18852518,  -7.55002549, -34.57412067, -13.09249683,\n",
       "         2.32962882,  22.88099192, -23.75648171,   8.03032576,\n",
       "        41.26427656,  -6.89999487,  15.14992836,  36.07378445,\n",
       "        22.39431282,  59.07566072, -23.78469136, -16.93848169,\n",
       "       -21.48260999,  31.14562204,  -5.31187581,  13.85616129,\n",
       "        -3.33937422,  -5.43073287, -17.68458663,  -3.88675897,\n",
       "         8.68422156,  10.4777988 , -24.5372275 , -21.91338907,\n",
       "        20.96212809, -14.30299967,  13.09816768,  -3.68530047,\n",
       "        -2.78895072, -15.5089195 ,  20.53213702,   4.14605111,\n",
       "       -33.49909163, -28.97174998,  42.26370136,  -4.14569187,\n",
       "        47.33748668,  -3.02873334,  30.93258723,  -8.8995139 ,\n",
       "         3.65129375, -15.07804762,  64.        , -18.83307267,\n",
       "         4.21090635,   4.90188684,  34.22363451,   5.34370555,\n",
       "       -13.28414036, -10.42223332, -18.90362448,  -8.47520191,\n",
       "        -5.39192426, -34.09921864,  21.43836347,   8.87975538,\n",
       "       -22.06941549,  23.8040247 ,  30.86861246,  33.31868537,\n",
       "       -11.84547284, -34.52062704, -17.65106798,   7.49535521,\n",
       "        -1.2402115 ,   2.31626789, -28.98278926,  -4.74067351,\n",
       "        22.31789709, -26.24174711,  -6.99031414,  38.78603549,\n",
       "        -4.14574593,   2.73193472, -32.01778782,  20.41838813,\n",
       "         4.78197475,  34.1913145 , -10.41278387,  27.80003916,\n",
       "        10.61095551,   2.2303419 ,  24.97324829,  -1.2594868 ,\n",
       "       -39.03248002, -25.01517125,   1.67420596])"
      ]
     },
     "execution_count": 88,
     "metadata": {},
     "output_type": "execute_result"
    }
   ],
   "source": []
  },
  {
   "cell_type": "code",
   "execution_count": null,
   "id": "bc335ad9-bf7d-48eb-abbb-97dc4381e1c0",
   "metadata": {},
   "outputs": [],
   "source": []
  }
 ],
 "metadata": {
  "kernelspec": {
   "display_name": "Python 3 (ipykernel)",
   "language": "python",
   "name": "python3"
  },
  "language_info": {
   "codemirror_mode": {
    "name": "ipython",
    "version": 3
   },
   "file_extension": ".py",
   "mimetype": "text/x-python",
   "name": "python",
   "nbconvert_exporter": "python",
   "pygments_lexer": "ipython3",
   "version": "3.12.2"
  }
 },
 "nbformat": 4,
 "nbformat_minor": 5
}
