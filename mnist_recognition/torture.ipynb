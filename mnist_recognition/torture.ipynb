{
 "cells": [
  {
   "cell_type": "code",
   "execution_count": null,
   "id": "addd86b9-0901-4183-b967-9d91c91fae3a",
   "metadata": {},
   "outputs": [],
   "source": [
    "import os, math\n",
    "from collections import defaultdict\n",
    "import itertools\n",
    "import sqlite3\n",
    "\n",
    "import logging\n",
    "import logging.handlers\n",
    "\n",
    "from PIL import Image, ImageDraw\n",
    "from tqdm.notebook import tqdm\n",
    "\n",
    "from sklearn.model_selection import train_test_split\n",
    "import matplotlib.pyplot as plt\n",
    "import scipy\n",
    "import numpy as np\n",
    "import cupy as cp\n",
    "import pandas as pd\n",
    "\n",
    "from utils import *\n",
    "from hdc import *"
   ]
  },
  {
   "cell_type": "code",
   "execution_count": null,
   "id": "3fedbcf1-4879-4d06-9b0f-2d11a5fd8ce2",
   "metadata": {},
   "outputs": [],
   "source": [
    "RNG = np.random.default_rng()"
   ]
  },
  {
   "cell_type": "code",
   "execution_count": null,
   "id": "7eb0d306-f21d-4a89-bb05-73daed6ce658",
   "metadata": {},
   "outputs": [],
   "source": [
    "x = RNG.integers(10, size=16).reshape(4,4)\n",
    "x"
   ]
  },
  {
   "cell_type": "code",
   "execution_count": null,
   "id": "003bfccf-fdd1-42f0-965f-83b651303463",
   "metadata": {},
   "outputs": [],
   "source": [
    "xa1 = np.max(x, axis=1)\n",
    "xa1"
   ]
  },
  {
   "cell_type": "code",
   "execution_count": null,
   "id": "eb131efc-2a48-4c24-9cb0-594d7c24b6ae",
   "metadata": {},
   "outputs": [],
   "source": [
    "xa2 = np.sum(x, axis=1)\n",
    "xa2"
   ]
  },
  {
   "cell_type": "code",
   "execution_count": null,
   "id": "3b908b35-1d3a-4240-9377-5da6d3223d55",
   "metadata": {},
   "outputs": [],
   "source": [
    "np.argsort(-xa1)"
   ]
  },
  {
   "cell_type": "code",
   "execution_count": null,
   "id": "bf5e4a77-e7b8-4e6d-a024-0929087c6edf",
   "metadata": {},
   "outputs": [],
   "source": [
    "np.argsort(-xa2)"
   ]
  },
  {
   "cell_type": "code",
   "execution_count": 2,
   "id": "9cb88ea7-21ae-4d54-bcf4-998376d2ed0c",
   "metadata": {},
   "outputs": [
    {
     "data": {
      "text/plain": [
       "1"
      ]
     },
     "execution_count": 2,
     "metadata": {},
     "output_type": "execute_result"
    }
   ],
   "source": [
    "1 % 1000"
   ]
  }
 ],
 "metadata": {
  "kernelspec": {
   "display_name": "Python 3 (ipykernel)",
   "language": "python",
   "name": "python3"
  },
  "language_info": {
   "codemirror_mode": {
    "name": "ipython",
    "version": 3
   },
   "file_extension": ".py",
   "mimetype": "text/x-python",
   "name": "python",
   "nbconvert_exporter": "python",
   "pygments_lexer": "ipython3",
   "version": "3.12.2"
  }
 },
 "nbformat": 4,
 "nbformat_minor": 5
}
