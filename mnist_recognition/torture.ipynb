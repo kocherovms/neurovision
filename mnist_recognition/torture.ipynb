{
 "cells": [
  {
   "cell_type": "code",
   "execution_count": 1,
   "id": "addd86b9-0901-4183-b967-9d91c91fae3a",
   "metadata": {},
   "outputs": [],
   "source": [
    "import os, math\n",
    "from collections import defaultdict\n",
    "from heapq import heapify, heappush, heappop\n",
    "import itertools\n",
    "import sqlite3\n",
    "\n",
    "import logging\n",
    "import logging.handlers\n",
    "\n",
    "from PIL import Image, ImageDraw\n",
    "from tqdm.notebook import tqdm\n",
    "\n",
    "from sklearn.model_selection import train_test_split\n",
    "from scipy.interpolate import RegularGridInterpolator\n",
    "import matplotlib.pyplot as plt\n",
    "import scipy\n",
    "import numpy as np\n",
    "import cupy as cp\n",
    "import pandas as pd\n",
    "\n",
    "from utils import *\n",
    "from hdc import *"
   ]
  },
  {
   "cell_type": "code",
   "execution_count": 37,
   "id": "28fcd98e-24b6-47ee-b648-4d534b4686ef",
   "metadata": {},
   "outputs": [
    {
     "data": {
      "image/png": "[encoded data removed]",
      "text/plain": [
       "<Figure size 640x480 with 1 Axes>"
      ]
     },
     "metadata": {},
     "output_type": "display_data"
    },
    {
     "data": {
      "text/plain": [
       "array([[-4. , -3.5, -3. , -2.5, -2. , -1.5, -1. ],\n",
       "       [-2.7, -2.2, -1.8, -1.3, -0.9, -0.4, -0. ],\n",
       "       [-1.3, -0.9, -0.6, -0.2,  0.2,  0.6,  1. ],\n",
       "       [ 0. ,  0.3,  0.7,  1. ,  1.3,  1.7,  2. ],\n",
       "       [ 1.3,  1.6,  1.9,  2.2,  2.4,  2.7,  3. ],\n",
       "       [ 2.7,  2.9,  3.1,  3.3,  3.6,  3.8,  4. ],\n",
       "       [ 4. ,  4.2,  4.3,  4.5,  4.7,  4.8,  5. ]])"
      ]
     },
     "execution_count": 37,
     "metadata": {},
     "output_type": "execute_result"
    }
   ],
   "source": [
    "a1 = np.array([-4, -1, 4, 5]).reshape(2, 2)\n",
    "\n",
    "a2 = np.insert(a1, -1, [[0]] * 5, axis=1)\n",
    "a2 = np.insert(a2, -1, [[0]] * 5, axis=0)\n",
    "a2 = a2.astype(float)\n",
    "\n",
    "interp = RegularGridInterpolator(([0, a2.shape[1] - 1], [0, a2.shape[0] - 1]), a1)\n",
    "\n",
    "for i in range(a2.shape[0]):\n",
    "    for j in range(a2.shape[1]):\n",
    "        a2[i,j] = interp((i, j))\n",
    "\n",
    "plt.imshow(a2, cmap='bwr', interpolation='nearest')\n",
    "plt.show()\n",
    "np.round(a2, decimals=1)"
   ]
  },
  {
   "cell_type": "code",
   "execution_count": 38,
   "id": "e958468b-cd5a-46b7-8f12-b64fb5c45990",
   "metadata": {},
   "outputs": [
    {
     "data": {
      "text/plain": [
       "array([-3.5, -3. ])"
      ]
     },
     "execution_count": 38,
     "metadata": {},
     "output_type": "execute_result"
    }
   ],
   "source": [
    "interp([(0, 1), (0, 2)])"
   ]
  },
  {
   "cell_type": "code",
   "execution_count": 3,
   "id": "9039d024-f263-40ed-91ac-12775d149bf5",
   "metadata": {},
   "outputs": [],
   "source": [
    "LOG = Logging()\n",
    "LOG('hello28')"
   ]
  },
  {
   "cell_type": "code",
   "execution_count": 11,
   "id": "bf90a609-5f1f-435c-a06f-ee62a401de7b",
   "metadata": {},
   "outputs": [],
   "source": [
    "class LogPrefix(object):\n",
    "    def __init__(self):\n",
    "        self.stanzas = dict()\n",
    "        self.stanzas_order = []\n",
    "\n",
    "    def push(self, stanza_name, stanza_value):\n",
    "        if stanza_name in self.stanzas:\n",
    "            self.stanzas[stanza_name] = stanza_value\n",
    "            return\n",
    "\n",
    "        self.stanzas[stanza_name] = stanza_value\n",
    "        self.stanzas_order.append(stanza_name)\n",
    "\n",
    "    def pop(self, stanza_name):\n",
    "        if stanza_name in self.stanzas:\n",
    "            del self.stanzas[stanza_name]\n",
    "\n",
    "        try:\n",
    "            self.stanzas_order.remove(stanza_name)\n",
    "        except ValueError:\n",
    "            pass\n",
    "\n",
    "    def __call__(self):\n",
    "        return '[' + ','.join(map(lambda s: f'{s}={self.stanzas[s]}', self.stanzas_order)) + ']'"
   ]
  },
  {
   "cell_type": "code",
   "execution_count": 13,
   "id": "b95ecd1d-ee11-43ca-a7e5-37630751254a",
   "metadata": {},
   "outputs": [
    {
     "data": {
      "text/plain": [
       "'[HOST=123,IMAGE_ID=345]'"
      ]
     },
     "execution_count": 13,
     "metadata": {},
     "output_type": "execute_result"
    }
   ],
   "source": [
    "lp = LogPrefix()\n",
    "lp.push('HOST', 123)\n",
    "lp.push('IMAGE_ID', 345)\n",
    "lp()"
   ]
  },
  {
   "cell_type": "code",
   "execution_count": 17,
   "id": "9419464c-6679-4ec4-9f06-7e40720ad160",
   "metadata": {},
   "outputs": [
    {
     "data": {
      "text/plain": [
       "'[]'"
      ]
     },
     "execution_count": 17,
     "metadata": {},
     "output_type": "execute_result"
    }
   ],
   "source": [
    "lp.pop('?')\n",
    "lp()"
   ]
  },
  {
   "cell_type": "code",
   "execution_count": 15,
   "id": "80d88d2c-74d0-4ab3-9d6b-87f990dab2fd",
   "metadata": {},
   "outputs": [
    {
     "data": {
      "text/plain": [
       "'[IMAGE_ID=345]'"
      ]
     },
     "execution_count": 15,
     "metadata": {},
     "output_type": "execute_result"
    }
   ],
   "source": [
    "lp.pop('HOST')\n",
    "lp()"
   ]
  },
  {
   "cell_type": "code",
   "execution_count": 16,
   "id": "4727d0b4-0395-4f1c-8ddb-b9e93a886f6a",
   "metadata": {},
   "outputs": [
    {
     "data": {
      "text/plain": [
       "'[]'"
      ]
     },
     "execution_count": 16,
     "metadata": {},
     "output_type": "execute_result"
    }
   ],
   "source": [
    "lp.pop('IMAGE_ID')\n",
    "lp()"
   ]
  },
  {
   "cell_type": "code",
   "execution_count": 3,
   "id": "3fedbcf1-4879-4d06-9b0f-2d11a5fd8ce2",
   "metadata": {},
   "outputs": [],
   "source": [
    "RNG = np.random.default_rng()"
   ]
  },
  {
   "cell_type": "code",
   "execution_count": 4,
   "id": "7eb0d306-f21d-4a89-bb05-73daed6ce658",
   "metadata": {},
   "outputs": [
    {
     "data": {
      "text/plain": [
       "array([[7, 5, 3, 8],\n",
       "       [0, 4, 7, 0],\n",
       "       [0, 3, 2, 6],\n",
       "       [0, 0, 5, 0]])"
      ]
     },
     "execution_count": 4,
     "metadata": {},
     "output_type": "execute_result"
    }
   ],
   "source": [
    "x = RNG.integers(10, size=16).reshape(4,4)\n",
    "x"
   ]
  },
  {
   "cell_type": "code",
   "execution_count": 5,
   "id": "003bfccf-fdd1-42f0-965f-83b651303463",
   "metadata": {},
   "outputs": [
    {
     "data": {
      "text/plain": [
       "array([8, 7, 6, 5])"
      ]
     },
     "execution_count": 5,
     "metadata": {},
     "output_type": "execute_result"
    }
   ],
   "source": [
    "xa1 = np.max(x, axis=1)\n",
    "xa1"
   ]
  },
  {
   "cell_type": "code",
   "execution_count": 6,
   "id": "eb131efc-2a48-4c24-9cb0-594d7c24b6ae",
   "metadata": {},
   "outputs": [
    {
     "data": {
      "text/plain": [
       "array([23, 11, 11,  5])"
      ]
     },
     "execution_count": 6,
     "metadata": {},
     "output_type": "execute_result"
    }
   ],
   "source": [
    "xa2 = np.sum(x, axis=1)\n",
    "xa2"
   ]
  },
  {
   "cell_type": "code",
   "execution_count": 7,
   "id": "3b908b35-1d3a-4240-9377-5da6d3223d55",
   "metadata": {},
   "outputs": [
    {
     "data": {
      "text/plain": [
       "array([0, 1, 2, 3])"
      ]
     },
     "execution_count": 7,
     "metadata": {},
     "output_type": "execute_result"
    }
   ],
   "source": [
    "np.argsort(-xa1)"
   ]
  },
  {
   "cell_type": "code",
   "execution_count": 8,
   "id": "bf5e4a77-e7b8-4e6d-a024-0929087c6edf",
   "metadata": {},
   "outputs": [
    {
     "data": {
      "text/plain": [
       "array([0, 1, 2, 3])"
      ]
     },
     "execution_count": 8,
     "metadata": {},
     "output_type": "execute_result"
    }
   ],
   "source": [
    "np.argsort(-xa2)"
   ]
  },
  {
   "cell_type": "code",
   "execution_count": 9,
   "id": "9cb88ea7-21ae-4d54-bcf4-998376d2ed0c",
   "metadata": {},
   "outputs": [
    {
     "data": {
      "text/plain": [
       "UniqueCountsResult(values=array([ 1,  2, 10, 20]), counts=array([1, 1, 2, 1]))"
      ]
     },
     "execution_count": 9,
     "metadata": {},
     "output_type": "execute_result"
    }
   ],
   "source": [
    "l = [10, 20, 10, 1, 2]\n",
    "np.unique_counts(l)"
   ]
  },
  {
   "cell_type": "code",
   "execution_count": 10,
   "id": "aa664615-de21-4a63-9d69-e3391fd0f162",
   "metadata": {},
   "outputs": [
    {
     "data": {
      "text/plain": [
       "'  723'"
      ]
     },
     "execution_count": 10,
     "metadata": {},
     "output_type": "execute_result"
    }
   ],
   "source": [
    "v = 723\n",
    "f'{v:5}'"
   ]
  },
  {
   "cell_type": "code",
   "execution_count": 11,
   "id": "e11614fd-ae9e-420e-9e0b-de11495de81b",
   "metadata": {},
   "outputs": [
    {
     "data": {
      "image/png": "[encoded data removed]",
      "text/plain": [
       "<Figure size 640x480 with 1 Axes>"
      ]
     },
     "metadata": {},
     "output_type": "display_data"
    },
    {
     "data": {
      "text/html": [
       "<div>\n",
       "<style scoped>\n",
       "    .dataframe tbody tr th:only-of-type {\n",
       "        vertical-align: middle;\n",
       "    }\n",
       "\n",
       "    .dataframe tbody tr th {\n",
       "        vertical-align: top;\n",
       "    }\n",
       "\n",
       "    .dataframe thead th {\n",
       "        text-align: right;\n",
       "    }\n",
       "</style>\n",
       "<table border=\"1\" class=\"dataframe\">\n",
       "  <thead>\n",
       "    <tr style=\"text-align: right;\">\n",
       "      <th></th>\n",
       "      <th>x</th>\n",
       "      <th>y</th>\n",
       "    </tr>\n",
       "  </thead>\n",
       "  <tbody>\n",
       "    <tr>\n",
       "      <th>0</th>\n",
       "      <td>0.0</td>\n",
       "      <td>1.000000</td>\n",
       "    </tr>\n",
       "    <tr>\n",
       "      <th>1</th>\n",
       "      <td>1.0</td>\n",
       "      <td>0.367879</td>\n",
       "    </tr>\n",
       "    <tr>\n",
       "      <th>2</th>\n",
       "      <td>2.0</td>\n",
       "      <td>0.135335</td>\n",
       "    </tr>\n",
       "    <tr>\n",
       "      <th>3</th>\n",
       "      <td>3.0</td>\n",
       "      <td>0.049787</td>\n",
       "    </tr>\n",
       "    <tr>\n",
       "      <th>4</th>\n",
       "      <td>4.0</td>\n",
       "      <td>0.018316</td>\n",
       "    </tr>\n",
       "  </tbody>\n",
       "</table>\n",
       "</div>"
      ],
      "text/plain": [
       "     x         y\n",
       "0  0.0  1.000000\n",
       "1  1.0  0.367879\n",
       "2  2.0  0.135335\n",
       "3  3.0  0.049787\n",
       "4  4.0  0.018316"
      ]
     },
     "execution_count": 11,
     "metadata": {},
     "output_type": "execute_result"
    }
   ],
   "source": [
    "l = 1\n",
    "xs = list(range(5))\n",
    "ys = []\n",
    "df = pd.DataFrame(columns=['x', 'y'])\n",
    "\n",
    "for x in xs:\n",
    "    y = l * np.exp(-l * x)\n",
    "    ys.append(y)\n",
    "    df.loc[len(df)] = [x, y]\n",
    "\n",
    "plt.plot(xs, ys)\n",
    "plt.grid()\n",
    "plt.show()\n",
    "\n",
    "df"
   ]
  },
  {
   "cell_type": "code",
   "execution_count": 12,
   "id": "448efb63-b008-4164-b4cb-03fe04af4e33",
   "metadata": {},
   "outputs": [
    {
     "data": {
      "image/png": "[encoded data removed]",
      "text/plain": [
       "<Figure size 640x480 with 1 Axes>"
      ]
     },
     "metadata": {},
     "output_type": "display_data"
    },
    {
     "data": {
      "text/html": [
       "<div>\n",
       "<style scoped>\n",
       "    .dataframe tbody tr th:only-of-type {\n",
       "        vertical-align: middle;\n",
       "    }\n",
       "\n",
       "    .dataframe tbody tr th {\n",
       "        vertical-align: top;\n",
       "    }\n",
       "\n",
       "    .dataframe thead th {\n",
       "        text-align: right;\n",
       "    }\n",
       "</style>\n",
       "<table border=\"1\" class=\"dataframe\">\n",
       "  <thead>\n",
       "    <tr style=\"text-align: right;\">\n",
       "      <th></th>\n",
       "      <th>x</th>\n",
       "      <th>y</th>\n",
       "    </tr>\n",
       "  </thead>\n",
       "  <tbody>\n",
       "    <tr>\n",
       "      <th>0</th>\n",
       "      <td>0.0</td>\n",
       "      <td>0.200000</td>\n",
       "    </tr>\n",
       "    <tr>\n",
       "      <th>1</th>\n",
       "      <td>1.0</td>\n",
       "      <td>0.244281</td>\n",
       "    </tr>\n",
       "    <tr>\n",
       "      <th>2</th>\n",
       "      <td>2.0</td>\n",
       "      <td>0.298365</td>\n",
       "    </tr>\n",
       "    <tr>\n",
       "      <th>3</th>\n",
       "      <td>3.0</td>\n",
       "      <td>0.364424</td>\n",
       "    </tr>\n",
       "    <tr>\n",
       "      <th>4</th>\n",
       "      <td>4.0</td>\n",
       "      <td>0.445108</td>\n",
       "    </tr>\n",
       "    <tr>\n",
       "      <th>5</th>\n",
       "      <td>5.0</td>\n",
       "      <td>0.543656</td>\n",
       "    </tr>\n",
       "    <tr>\n",
       "      <th>6</th>\n",
       "      <td>6.0</td>\n",
       "      <td>0.664023</td>\n",
       "    </tr>\n",
       "    <tr>\n",
       "      <th>7</th>\n",
       "      <td>7.0</td>\n",
       "      <td>0.811040</td>\n",
       "    </tr>\n",
       "    <tr>\n",
       "      <th>8</th>\n",
       "      <td>8.0</td>\n",
       "      <td>0.990606</td>\n",
       "    </tr>\n",
       "    <tr>\n",
       "      <th>9</th>\n",
       "      <td>9.0</td>\n",
       "      <td>1.209929</td>\n",
       "    </tr>\n",
       "  </tbody>\n",
       "</table>\n",
       "</div>"
      ],
      "text/plain": [
       "     x         y\n",
       "0  0.0  0.200000\n",
       "1  1.0  0.244281\n",
       "2  2.0  0.298365\n",
       "3  3.0  0.364424\n",
       "4  4.0  0.445108\n",
       "5  5.0  0.543656\n",
       "6  6.0  0.664023\n",
       "7  7.0  0.811040\n",
       "8  8.0  0.990606\n",
       "9  9.0  1.209929"
      ]
     },
     "execution_count": 12,
     "metadata": {},
     "output_type": "execute_result"
    }
   ],
   "source": [
    "l = 0.2\n",
    "xs = list(range(10))\n",
    "ys = []\n",
    "df = pd.DataFrame(columns=['x', 'y'])\n",
    "\n",
    "for x in xs:\n",
    "    y = l * np.exp(l * x)\n",
    "    ys.append(y)\n",
    "    df.loc[len(df)] = [x, y]\n",
    "\n",
    "plt.plot(xs, ys)\n",
    "plt.grid()\n",
    "plt.show()\n",
    "\n",
    "df"
   ]
  },
  {
   "cell_type": "code",
   "execution_count": 13,
   "id": "9ddd8e1f-3601-45c4-a340-116e72cf11e8",
   "metadata": {},
   "outputs": [
    {
     "data": {
      "image/png": "[encoded data removed]",
      "text/plain": [
       "<Figure size 640x480 with 1 Axes>"
      ]
     },
     "metadata": {},
     "output_type": "display_data"
    },
    {
     "data": {
      "text/plain": [
       "(256, 256, np.int64(-62), np.int64(62), np.int64(-62), np.int64(63))"
      ]
     },
     "execution_count": 13,
     "metadata": {},
     "output_type": "execute_result"
    }
   ],
   "source": [
    "mean = [0, 0]\n",
    "# cov = [[1, 0], [0, 100]]  # diagonal covariance\n",
    "cov = [[64, 0], [0, 64]]  # spherical covariance\n",
    "xs, ys = np.random.multivariate_normal(mean, cov, 10000).T * 4\n",
    "xs = xs[(xs >= -64) & (xs <= 64)].astype(int)\n",
    "ys = ys[(ys >= -64) & (ys <= 64)].astype(int)\n",
    "unique_xy_pairs = set()\n",
    "\n",
    "for x, y in zip(xs, ys):\n",
    "    unique_xy_pairs.add((x, y))\n",
    "\n",
    "xs = list(map(lambda xy_pair: xy_pair[0], unique_xy_pairs))[:256]\n",
    "ys = list(map(lambda xy_pair: xy_pair[1], unique_xy_pairs))[:256]\n",
    "\n",
    "\n",
    "plt.scatter(xs, ys)\n",
    "plt.ylim(-64, 64)\n",
    "plt.xlim(-64, 64)\n",
    "# plt.axis('equal')\n",
    "plt.show()\n",
    "len(xs), len(ys), np.min(xs), np.max(xs), np.min(ys), np.max(ys)"
   ]
  },
  {
   "cell_type": "code",
   "execution_count": 14,
   "id": "18d1280e-e9a0-492d-bc78-e9b7205ae225",
   "metadata": {},
   "outputs": [
    {
     "data": {
      "text/plain": [
       "array([[ 1, 10],\n",
       "       [ 2, 20],\n",
       "       [ 3, 30]])"
      ]
     },
     "execution_count": 14,
     "metadata": {},
     "output_type": "execute_result"
    }
   ],
   "source": [
    "a = [1, 2, 3]\n",
    "b = [10, 20, 30]\n",
    "np.vstack([a, b]).T"
   ]
  },
  {
   "cell_type": "code",
   "execution_count": 57,
   "id": "911b448c-fdca-4855-b714-2fb90136f709",
   "metadata": {},
   "outputs": [],
   "source": [
    "hdc = Hdc(10_000, np)"
   ]
  },
  {
   "cell_type": "code",
   "execution_count": 66,
   "id": "bc335ad9-bf7d-48eb-abbb-97dc4381e1c0",
   "metadata": {},
   "outputs": [
    {
     "name": "stdout",
     "output_type": "stream",
     "text": [
      "149 ms ± 726 μs per loop (mean ± std. dev. of 7 runs, 10 loops each)\n"
     ]
    }
   ],
   "source": [
    "%%timeit\n",
    "# mappings = np.array([[1, 1, 1], [0, 1, 0], [-1, 1, -1], [0, 1, -1]])\n",
    "# vectors = np.array([[-1, -1, 1], [1, 1, -1]])\n",
    "mappings = hdc(500)\n",
    "vectors = hdc(100)\n",
    "r = np.empty((mappings.shape[0], vectors.shape[0], mappings.shape[1]))\n",
    "r = np.einsum('ij,kj->ikj', mappings, vectors)"
   ]
  },
  {
   "cell_type": "code",
   "execution_count": 67,
   "id": "5ff9ee73-200d-41ff-899d-43e3d94226ff",
   "metadata": {},
   "outputs": [
    {
     "name": "stdout",
     "output_type": "stream",
     "text": [
      "1.24 s ± 3.7 ms per loop (mean ± std. dev. of 7 runs, 1 loop each)\n"
     ]
    }
   ],
   "source": [
    "%%timeit\n",
    "mappings = hdc(500)\n",
    "vectors = hdc(100)\n",
    "r = np.empty((mappings.shape[0], vectors.shape[0], mappings.shape[1]))\n",
    "for j in range(vectors.shape[0]):\n",
    "    r[:,j,:] = mappings * vectors[j]\n"
   ]
  },
  {
   "cell_type": "code",
   "execution_count": 50,
   "id": "41f3bbe6-078e-4f56-b333-9f4fa9c1892a",
   "metadata": {},
   "outputs": [
    {
     "data": {
      "text/plain": [
       "array([[[-1., -1.,  1.],\n",
       "        [ 1.,  1., -1.]],\n",
       "\n",
       "       [[ 0., -1.,  0.],\n",
       "        [ 0.,  1.,  0.]],\n",
       "\n",
       "       [[ 1., -1., -1.],\n",
       "        [-1.,  1.,  1.]],\n",
       "\n",
       "       [[ 0., -1., -1.],\n",
       "        [ 0.,  1.,  1.]]])"
      ]
     },
     "execution_count": 50,
     "metadata": {},
     "output_type": "execute_result"
    }
   ],
   "source": [
    "r"
   ]
  },
  {
   "cell_type": "code",
   "execution_count": 29,
   "id": "2b85fffd-5e1f-4db5-9eaf-25a9a58aaddf",
   "metadata": {},
   "outputs": [
    {
     "data": {
      "text/plain": [
       "array([[[-1, -1,  1],\n",
       "        [ 1,  1, -1]]])"
      ]
     },
     "execution_count": 29,
     "metadata": {},
     "output_type": "execute_result"
    }
   ],
   "source": [
    "vectors[np.newaxis, :]"
   ]
  },
  {
   "cell_type": "code",
   "execution_count": 34,
   "id": "154756d3-72e9-45bb-9ceb-43689aa884fa",
   "metadata": {},
   "outputs": [
    {
     "data": {
      "text/plain": [
       "array([[0],\n",
       "       [1],\n",
       "       [2]])"
      ]
     },
     "execution_count": 34,
     "metadata": {},
     "output_type": "execute_result"
    }
   ],
   "source": [
    "np.array([0, 1, 2])[:, np.newaxis]"
   ]
  },
  {
   "cell_type": "code",
   "execution_count": null,
   "id": "622bf54f-5b1c-49a1-ba90-f999d092b4b3",
   "metadata": {},
   "outputs": [],
   "source": [
    "for i in mappings:\n",
    "    for j in mappings[i]:\n",
    "        for k in vectors:\n",
    "            mappings[i][j] * vectors[k][j]"
   ]
  },
  {
   "cell_type": "code",
   "execution_count": 19,
   "id": "97cfea2d-9730-49e9-8477-5de77e4d6469",
   "metadata": {},
   "outputs": [
    {
     "data": {
      "text/plain": [
       "0"
      ]
     },
     "execution_count": 19,
     "metadata": {},
     "output_type": "execute_result"
    }
   ],
   "source": [
    "l = list(range(10))\n",
    "heapify(l)\n"
   ]
  },
  {
   "cell_type": "code",
   "execution_count": 33,
   "id": "a7814ba4-fb75-4b34-ba22-b627ba0d0402",
   "metadata": {},
   "outputs": [],
   "source": [
    "heappush(l, 1000)"
   ]
  },
  {
   "cell_type": "code",
   "execution_count": 35,
   "id": "2d1b72ba-670c-4237-bb80-63e73abfee75",
   "metadata": {},
   "outputs": [
    {
     "data": {
      "text/plain": [
       "10"
      ]
     },
     "execution_count": 35,
     "metadata": {},
     "output_type": "execute_result"
    }
   ],
   "source": [
    "heappop(l)"
   ]
  }
 ],
 "metadata": {
  "kernelspec": {
   "display_name": "Python 3 (ipykernel)",
   "language": "python",
   "name": "python3"
  },
  "language_info": {
   "codemirror_mode": {
    "name": "ipython",
    "version": 3
   },
   "file_extension": ".py",
   "mimetype": "text/x-python",
   "name": "python",
   "nbconvert_exporter": "python",
   "pygments_lexer": "ipython3",
   "version": "3.12.2"
  }
 },
 "nbformat": 4,
 "nbformat_minor": 5
}
