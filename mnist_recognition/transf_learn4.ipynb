{
 "cells": [
  {
   "cell_type": "code",
   "execution_count": 1,
   "id": "27532844-1826-4299-b063-16a22e592f3f",
   "metadata": {},
   "outputs": [],
   "source": [
    "import os, math\n",
    "from enum import StrEnum, auto\n",
    "from collections import defaultdict, namedtuple, Counter\n",
    "import itertools\n",
    "import sqlite3\n",
    "import pickle\n",
    "import datetime\n",
    "import multiprocessing as mp\n",
    "import gc\n",
    "import json\n",
    "import decimal\n",
    "from IPython.core.getipython import get_ipython\n",
    "\n",
    "from PIL import Image, ImageDraw\n",
    "from tqdm.notebook import tqdm\n",
    "\n",
    "from sklearn.model_selection import train_test_split\n",
    "from sklearn.decomposition import PCA\n",
    "import matplotlib.pyplot as plt\n",
    "import scipy\n",
    "import numpy as np\n",
    "import cupy as cp\n",
    "import pandas as pd\n",
    "\n",
    "from module.utils import *\n",
    "from module.hdc import *\n",
    "from module.constants import *"
   ]
  },
  {
   "cell_type": "code",
   "execution_count": 2,
   "id": "73358262-adf2-4d17-a383-f120a5d1f8aa",
   "metadata": {},
   "outputs": [
    {
     "name": "stdout",
     "output_type": "stream",
     "text": [
      "xp = cupy\n",
      "transf_learn4.ipynb\n"
     ]
    }
   ],
   "source": [
    "LOG = Logging()\n",
    "\n",
    "config_var = 'SQLITE3_SEQ_GRID_0_2_4096'\n",
    "config = Config(config_var)\n",
    "RNG = np.random.default_rng()\n",
    "mp_ctx = mp.get_context('spawn') # req-d for CUPY to work, 'fork' method leads to failures in bootstrap somewhere around CUDA\n",
    "\n",
    "if cp.cuda.is_available():\n",
    "    xp = cp.get_array_module(cp.empty(1))\n",
    "    xp_array_from_gpu = lambda a: a.get() if isinstance(a, cp.ndarray) else a\n",
    "    xp_array_to_gpu = lambda a: cp.asarray(a) if isinstance(a, np.ndarray) else a\n",
    "    xp_array_to_gpu_copy = lambda a: cp.asarray(a) if isinstance(a, np.ndarray) else a\n",
    "else:\n",
    "    xp = cp.get_array_module(np.empty(1))\n",
    "    xp_array_from_gpu = lambda a: a\n",
    "    xp_array_to_gpu = lambda a: a\n",
    "    xp_array_to_gpu_copy = lambda a: a.copy()\n",
    "\n",
    "print(f'xp = {xp.__name__}')\n",
    "\n",
    "with open(get_ipython().kernel.config['IPKernelApp']['connection_file'], 'r') as cf:\n",
    "    notebook_fname = json.load(cf)['jupyter_session']\n",
    "    notebook_fname = os.path.basename(notebook_fname)\n",
    "\n",
    "print(notebook_fname)"
   ]
  },
  {
   "cell_type": "code",
   "execution_count": 3,
   "id": "656ee6b7-3982-4f99-9251-6b67fef36ae3",
   "metadata": {},
   "outputs": [],
   "source": [
    "%run sequencing_sp2.ipynb"
   ]
  },
  {
   "cell_type": "markdown",
   "id": "d5c8f88a-5403-4177-b5fc-e0e2a1da9c2d",
   "metadata": {},
   "source": [
    "# Open DB"
   ]
  },
  {
   "cell_type": "code",
   "execution_count": 4,
   "id": "d2dd62ab-b44e-4251-9e86-d41b3672e36e",
   "metadata": {},
   "outputs": [
    {
     "name": "stdout",
     "output_type": "stream",
     "text": [
      "CPU times: user 9 μs, sys: 0 ns, total: 9 μs\n",
      "Wall time: 29.3 μs\n"
     ]
    },
    {
     "data": {
      "text/plain": [
       "((10000, 7), (2000, 7))"
      ]
     },
     "execution_count": 4,
     "metadata": {},
     "output_type": "execute_result"
    }
   ],
   "source": [
    "%time\n",
    "train_db_con = sqlite3.connect(DBUtils.get_full_db_file_name(config, config.train_db_file_name))\n",
    "test_db_con = sqlite3.connect(DBUtils.get_full_db_file_name(config, config.test_db_file_name))\n",
    "test_results_db_con = sqlite3.connect(DBUtils.get_full_db_file_name(config, config.test_results_db_file_name, with_prefix=False), autocommit=True)\n",
    "transfs_db_con = sqlite3.connect(DBUtils.get_full_db_file_name(config, config.transfs_db_file_name, with_prefix=False), autocommit=True)\n",
    "\n",
    "if not DBUtils.is_table_exists(test_results_db_con, 'test_runs'):\n",
    "    test_results_db_con.execute('CREATE TABLE test_runs(test_run_id INTEGER PRIMARY KEY, dummy)')\n",
    "\n",
    "if not DBUtils.is_table_exists(transfs_db_con, 'pixels'):\n",
    "    transfs_db_con.execute('CREATE TABLE pixels(encoding, sbv)')\n",
    "\n",
    "if not DBUtils.is_table_exists(transfs_db_con, 'clusters'):\n",
    "    transfs_db_con.execute('CREATE TABLE clusters(encoding, transf_code, output_bit, sbv, meta)')\n",
    "\n",
    "df_train_images = pd.read_sql_query('SELECT * FROM images', con=train_db_con, index_col='image_id')\n",
    "df_test_images = pd.read_sql_query('SELECT * FROM images', con=test_db_con, index_col='image_id')\n",
    "df_train_images.shape, df_test_images.shape"
   ]
  },
  {
   "cell_type": "code",
   "execution_count": 5,
   "id": "70b21219-4f16-4824-90ec-7bda1574c5d1",
   "metadata": {},
   "outputs": [
    {
     "data": {
      "text/html": [
       "<div style=\"\n",
       "        display: grid; \n",
       "        grid-template-columns: repeat(8, 128px);\n",
       "        column-gap: 1px;\n",
       "        row-gap: 1px;\">\n",
       "        \n",
       "            <figure style=\"margin: 5px !important;\">\n",
       "              <img src=\"data:image/png;base64,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\" style=\"height: auto\">\n",
       "              <figcaption style=\"font-size: 0.6em\">2</figcaption>\n",
       "            </figure>\n",
       "        \n",
       "            <figure style=\"margin: 5px !important;\">\n",
       "              <img src=\"data:image/png;base64,iVBORw0KGgoAAAANSUhEUgAAAIAAAACACAAAAADmVT4XAAALWklEQVR4nO2aV5MjuZGAE0ChvGdV0bQdsxshc///h5ziQgrFaJpsQ1veW+hhRivplmyy2RujBzEfq1jIjwkgHQBwkYtc5CL/7YLe/T0CAGAA7D8BgHlZkTkYurYuq/osBO59APLkylOgKbNwt2v+AwBUu/r9JxOVUfBCimT4wQAIUcWaff6DgzJ/iePVebP5DgDCK7Y3mc5GOONZrNIfDoAVd3IzdXQNc0NpyGeO9A4ATp/c3U5NkSODpIg8OW8UfD6AaE1vbzyNIsaAATvTD5xpAYQQ1kaTq+lI5XFXJnFSdj8UABNeHI2vriemzEOxmc8fNsV5JjgXQJANbzq7GqkiQLz4vy8PT9lZbuBcACoZ48l0OtY5Dppw8ee/LMPsR1qACJoznU0cUwAYymj9uNhV/Q+dAsG++nA3MQSAto7DIIiKM9fguQCy9+Gnu4kC0FWpH8b5uXvgXACqTe4/X40kGOos2PpJ2Z6r/zwAarnT62tPwdCW8W61i6uzDXAGABZlY/bxxjNVBNDn/vPjKqrO1n8GADGvbm4+348kBABDtpp/fQrrHwpgf/rDx+uJyQEAtPHy69dldP4SOAOAt25/95Orfot+Rbh6egry85fA2wEwr46mU5MCsL6r/e12F6btmZHwPABBUjSNAsBQZMnzahcX52Wj5wJQURR5DgCgyzbr+XOQv0v/GwEQIpKmiBQDAFTxaj5fhmX/Hv1vBCBUskaWKmBgrEv95eJ5m9TnheGzABCvmZPrsSkAdG3hLxcPy13+ji34ZgAQzKu7+2uLh6HNovXTw1c/Kd43A28DwKJ9/eF+ZlLoq2Szelo8pu17tuCbATjJHN9cOSrH2jxcL5eb3TuCwJsBECAq6s7YNSQKTbJ+ftnG79f/lroAEV7SbddWBYAmfJ4/7or363+DBTDiJUU3LUPAAKX/PH8Omh8LQGXdMExdxgBtsl2+bJIWv88HvA2Aky3PcwwZs6bJN5utH5f7E2FEqCBQghEAsKGrq/o1V/EGAH1ycz3WKTRJHDyu/Ljq9u9ARk3XMSUeI2BDnfmrzW8DQK3Z3e1YI0MZLJcPL0HeDvsbU0R0Pn66MiWKYOjy7VeSp78JgGTPbq8dBXX57nGx2CRVf0C/Yk0//c9HR+UxG9r4mcbL3SsJy2kACGFOG42nriHivgieF8u9WRDCiAqSObm7v79zJQAAMEngGnLBhkMO80QAjpdtZzy2FR5QsX182ER78lBEOEGxncns7tNs9E0/aKZl2zap2wML5kQAzKuW63mOLiKAfDNfpNmehYU4SXVuPtxfjceO/I+Homo6IUoPpo2nAVDZHE88x1IoQJtuX166bk8QJIJmzz7//ueZLom/dKyIZDhR3zeH2pinACCqmN5s5pkqhYGlURgk+zHV0fT27sPHCQHoGWOMYISopNujIs8ODX4UAAEmkjW7u7v3NAptWW38uNz/U966+XR7PxsRgLpsmnagkiJxsmFHaXywiXfcApgImnv384fbsQKsiMLHTXYgBxHcz3+8HjsiQB3HeVZ2ojPmiahbdrSjh4Y/bgFMJWN8//PHiSJCk21fFusDvRCkTD7/caKoAF20DeIoa9VO1gVe1nRN4s62AKaiZnuzmxsbI6iT7dNik+8PQZo9ubl3AEEXbpe7KMoG06gHIBylHDnYRj0OIOgjz3NtnQB0Rbh6fNxme7YUFUX39sozEbRVtn162qVFx8k9IMTauqrag2HzKABRRrOrsaVQAFanu6eHeZDuARAc7/qnW5tCFwfBy8Oj3yBR53hKoM3DXZgdrF5OAHBmV57OM4CuiDfP88dyXztC9n769PFGB8h2L6v53x4jpHu8IguEVfF2vU0OFvDHp0AyHNdWOABW57G/Wm6GfX5ddj/8fDdRWJP5z49f//acShQrqsKjrgy3a/9w/XocgBMkWRIoYk2ZJnGc7MnDEKKqPbnyTAENVbxdrbdhRbCsGxLp6jTy/fRwD+coAGPAGCCE+jqNo7T8tX4EmJM1a+SaIgdDFe82ftYiQXfGjoqqJPR3QVYfikUnOKKh69oeAPoyCeO9pTAmvKqblilzAEMVB0HSYNF0pzNPRUXk7/ywfMcuAMaGYWDAuiIOon2VIMJU0g1DVwUMMFRpFBWDqNreZDISujKJwigehoPd/OMAhAoCz2Fo8zgM0321MCeopqkrEgcAfZWnWYNl07YtU0NDV5dl8Vr6foIj0kxbFzBr83AX7ANAVLUcSxMIAAxtVWRFLxquZ+uSAB2HEXs1dz/uByTT9SwRszoNfT/ZE9aRoI9cW6UMAPqmLooaK6PJZKRQDJQXKPdq9XW0NMOS4XqmSFiThbsg3bMIEa+NHEsmAwD0TdN0jOrjq4klEQDAGONXT5OOTwGvGoYMAG0eh3G+x6EgKuuGJhEGAH3XAxFUezx1TQmzrszz8vUC/ng45nhRAADcV0mY7itGEKGiJFKCgPVNC7za2tPZzDMk0qa758UyfrWEPCEf4CgBAMLqNCqafQ4FcxzlOAwwNFWL1ZHo3NxeW4aMi93XL/Mv21eL+OMA6PscDnUel92eOIAQIoRgjGBomoHq49a7u5nKEunz9Zc/PSy3BzK4EwEAYYwAYGiqoqj3FkMIY4wxAmB9D6LVD+PZeEQwVPH64ctDULzaxjoFgAD0bZVk5YHUGqFv+gEQETSXR45nURiqYLNar/192cObADDGAHUSbqPygEdBhBCMgAGmImPURLanAVT+89NyF7/+/0+yAEIAdbjcHE4qAGEEDADziApaizQTAJLVfP4SHD3MOqEwQQDQ5WFcsQMNETb0fd8PDDAlvDwMiKcA2fZpvljFR/uoJ0TD4dsYmOOFmu1Zhayri7xsegDA3x1rW7erxXzx4u8NXm8DYKzvAXjVsgxNZvviepMHa0ky7H+i1dtt+PI4f9oen4ETLNB3HUOixbIX2+jZnqKUZTuRk0fTfz6JHv769LLeBWleHe1iHbdA39Qd5U0hm7ibZmB7gmubh0r4L6lKH8z/9y+rqKja7vhZznGAtsorggVqu+Nty+D7XkTf7i8hQIjIAofRv9xIatL1/K+bY/vvVIChzuIIBB6r7nWGoPvuVwnPoaFnmON5UTNGk4kl/hJ1uyoL/fgk9acAVIlvIp3DknvXky4Lvz2mqoTaZuBkTdPskevNZtovQ3VNVb7q/98E0FfxTuM4XhBGLYbC33wLroql4arqBMMejbyx51im+ssXRVE1J58inDAFia/JikypzqAJV35bAYDljg1cFp1ouZ47nniWxOMBA8AwNNk2TOuTTxJPAEij0KoGjGQYqihhoxIAG66r4arsRcNxRo47UsjQll3XtFVXZ+uH7YEK/jyALDLTmiEAmbUNcaMGACmGLqO2GXjVMHXDUAHaIsuSKM2qKg9eXvJT9Z8CkMdR+u1sThpx5seqRwA8L1DUD0BESRJEAWAo42C3XG3CvCzzNPoNAViTx2GU5AYFwKo46gZAAAgwIIYAYYwRBmizYLdezhfPu7RsmqE//STruAWaPJY3a4tohHAc/VWzibVt17dF4m/Xy8fF0t/XwXwvAEGiRHJLkmVF+tXrOMnKssziwPf99SZ8q/4TANq87zBqAsc0TROJ/+91sFr7cZqmSZTEeZa+/TLNCbGgb+qhr0LPdYt6cP6NgIXL+WIVRHGapkXZdW+Y+9MB2AAtQn2Z50WeV4UpATAGCAbG+jJ4elgsgzDO8vy8O62nNatZmaC2zKOtaZuqCAy+AUBfJ6vlchenWVGde4R8Wre8L6EpIkWRZVmk368QM2CsLZMozoqqbs6+xHHaRVBECMdxHEcoIf+opxkADF3bNF3X93s7Zxe5yEUucpGLXOQiF7nIRS5ykYucJH8H/nHPkd0vq4QAAAAASUVORK5CYII=\" style=\"height: auto\">\n",
       "              <figcaption style=\"font-size: 0.6em\">6</figcaption>\n",
       "            </figure>\n",
       "        \n",
       "            <figure style=\"margin: 5px !important;\">\n",
       "              <img src=\"data:image/png;base64,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\" style=\"height: auto\">\n",
       "              <figcaption style=\"font-size: 0.6em\">7</figcaption>\n",
       "            </figure>\n",
       "        \n",
       "            <figure style=\"margin: 5px !important;\">\n",
       "              <img src=\"data:image/png;base64,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\" style=\"height: auto\">\n",
       "              <figcaption style=\"font-size: 0.6em\">4</figcaption>\n",
       "            </figure>\n",
       "        \n",
       "            <figure style=\"margin: 5px !important;\">\n",
       "              <img src=\"data:image/png;base64,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\" style=\"height: auto\">\n",
       "              <figcaption style=\"font-size: 0.6em\">0</figcaption>\n",
       "            </figure>\n",
       "        \n",
       "            <figure style=\"margin: 5px !important;\">\n",
       "              <img src=\"data:image/png;base64,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\" style=\"height: auto\">\n",
       "              <figcaption style=\"font-size: 0.6em\">0</figcaption>\n",
       "            </figure>\n",
       "        \n",
       "            <figure style=\"margin: 5px !important;\">\n",
       "              <img src=\"data:image/png;base64,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\" style=\"height: auto\">\n",
       "              <figcaption style=\"font-size: 0.6em\">0</figcaption>\n",
       "            </figure>\n",
       "        \n",
       "            <figure style=\"margin: 5px !important;\">\n",
       "              <img src=\"data:image/png;base64,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\" style=\"height: auto\">\n",
       "              <figcaption style=\"font-size: 0.6em\">6</figcaption>\n",
       "            </figure>\n",
       "        \n",
       "            <figure style=\"margin: 5px !important;\">\n",
       "              <img src=\"data:image/png;base64,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\" style=\"height: auto\">\n",
       "              <figcaption style=\"font-size: 0.6em\">3</figcaption>\n",
       "            </figure>\n",
       "        \n",
       "            <figure style=\"margin: 5px !important;\">\n",
       "              <img src=\"data:image/png;base64,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\" style=\"height: auto\">\n",
       "              <figcaption style=\"font-size: 0.6em\">0</figcaption>\n",
       "            </figure>\n",
       "        \n",
       "            <figure style=\"margin: 5px !important;\">\n",
       "              <img src=\"data:image/png;base64,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\" style=\"height: auto\">\n",
       "              <figcaption style=\"font-size: 0.6em\">8</figcaption>\n",
       "            </figure>\n",
       "        \n",
       "            <figure style=\"margin: 5px !important;\">\n",
       "              <img src=\"data:image/png;base64,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\" style=\"height: auto\">\n",
       "              <figcaption style=\"font-size: 0.6em\">9</figcaption>\n",
       "            </figure>\n",
       "        \n",
       "            <figure style=\"margin: 5px !important;\">\n",
       "              <img src=\"data:image/png;base64,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\" style=\"height: auto\">\n",
       "              <figcaption style=\"font-size: 0.6em\">8</figcaption>\n",
       "            </figure>\n",
       "        \n",
       "            <figure style=\"margin: 5px !important;\">\n",
       "              <img src=\"data:image/png;base64,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\" style=\"height: auto\">\n",
       "              <figcaption style=\"font-size: 0.6em\">4</figcaption>\n",
       "            </figure>\n",
       "        \n",
       "            <figure style=\"margin: 5px !important;\">\n",
       "              <img src=\"data:image/png;base64,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\" style=\"height: auto\">\n",
       "              <figcaption style=\"font-size: 0.6em\">5</figcaption>\n",
       "            </figure>\n",
       "        \n",
       "            <figure style=\"margin: 5px !important;\">\n",
       "              <img src=\"data:image/png;base64,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\" style=\"height: auto\">\n",
       "              <figcaption style=\"font-size: 0.6em\">8</figcaption>\n",
       "            </figure>\n",
       "        \n",
       "    </div>"
      ],
      "text/plain": [
       "<IPython.core.display.HTML object>"
      ]
     },
     "execution_count": 5,
     "metadata": {},
     "output_type": "execute_result"
    }
   ],
   "source": [
    "count = 8\n",
    "\n",
    "def get_images_and_labels(df, ids):\n",
    "    image_datas = df.loc[ids]['png']\n",
    "    images = [Image.open(io.BytesIO(image_data)) for image_data in image_datas]\n",
    "    labels = df.loc[ids]['value']\n",
    "    return images, list(labels)\n",
    "\n",
    "def get_some_random_images_and_labels(df, count):\n",
    "    image_ids = RNG.choice(df.index.unique(), count, replace=False)\n",
    "    return get_images_and_labels(df, image_ids)\n",
    "\n",
    "train_images, train_labels = get_some_random_images_and_labels(df_train_images, count)\n",
    "test_images, test_labels = get_some_random_images_and_labels(df_test_images, count)\n",
    "\n",
    "display_images_grid(train_images + test_images, captions=train_labels + test_labels, col_count=count)"
   ]
  },
  {
   "cell_type": "markdown",
   "id": "49a9c189-4620-4fff-b12c-0553540cc48d",
   "metadata": {},
   "source": [
    "# Core logic"
   ]
  },
  {
   "cell_type": "markdown",
   "id": "3e1f9cdd-a16c-4406-9eb6-69a653b84175",
   "metadata": {},
   "source": [
    "## Hyper Parameters"
   ]
  },
  {
   "cell_type": "code",
   "execution_count": 274,
   "id": "8d1303e2-9a31-466c-8eb6-48bd7a0a7fb8",
   "metadata": {},
   "outputs": [],
   "source": [
    "# HP_SIGNAL_VEC_LEN = 2000 # aka SBV\n",
    "# HP_SIGNAL_VEC_NON_ZERO_BITS = 9\n",
    "# HP_SIGNAL_ENCODING = f'{HP_SIGNAL_VEC_LEN}/{HP_SIGNAL_VEC_NON_ZERO_BITS}'\n",
    "\n",
    "# HP_CLUSTER_ONES_COUNT_THRES = 5\n",
    "# HP_CLUSTER_CREATION_ONES_COUNT_THRES = 6\n",
    "# HP_CLUSTER_LEARN_STATE_IDLE_CYCLES = 10\n",
    "# HP_CLUSTER_PREPROD_STATE_IDLE_CYCLES = 30\n",
    "# HP_CLUSTER_LEARN_STATE_SIGNALS_PROCESSED_THRES = 50\n",
    "# HP_CLUSTER_PREPROD_STATE_SIGNALS_PROCESSED_THRES = 10\n",
    "# HP_CLUSTER_BINARIZE_THRES = 0.75\n",
    "# HP_CLUSTER_ACCURACY_THRES = 0.75\n",
    "\n",
    "# HP_PIXELS_COUNT = config.sample_size ** 2\n",
    "\n",
    "HP_SIGNAL_VEC_LEN = 256 # aka SBV\n",
    "HP_SIGNAL_VEC_NON_ZERO_BITS = 6\n",
    "HP_SIGNAL_ENCODING = f'{HP_SIGNAL_VEC_LEN}/{HP_SIGNAL_VEC_NON_ZERO_BITS}'\n",
    "\n",
    "HP_CLUSTER_ONES_COUNT_THRES = 3\n",
    "HP_CLUSTER_CREATION_ONES_COUNT_THRES = 4\n",
    "HP_CLUSTER_LEARN_STATE_IDLE_CYCLES = 10\n",
    "HP_CLUSTER_PREPROD_STATE_IDLE_CYCLES = 30\n",
    "HP_CLUSTER_LEARN_STATE_SIGNALS_PROCESSED_THRES = 10\n",
    "HP_CLUSTER_PREPROD_STATE_SIGNALS_PROCESSED_THRES = 30\n",
    "HP_CLUSTER_BINARIZE_THRES = 0.75\n",
    "HP_CLUSTER_ACCURACY_THRES = 0.95\n",
    "\n",
    "HP_TOY_IMAGE_SIZE = 10\n",
    "HP_TOY_IMAGE_SQUARE = HP_TOY_IMAGE_SIZE ** 2\n",
    "HP_TOY_IMAGE_KERNEL_SIZE = 8\n",
    "HP_TOY_IMAGE_KERNEL_SQUARE = HP_TOY_IMAGE_KERNEL_SIZE ** 2\n",
    "assert HP_TOY_IMAGE_KERNEL_SIZE <= HP_TOY_IMAGE_SIZE\n",
    "HP_TOY_IMAGE_ONES_COUNT = 8\n",
    "\n",
    "HP_PIXELS_COUNT = HP_TOY_IMAGE_SQUARE"
   ]
  },
  {
   "cell_type": "markdown",
   "id": "24850512-c1a7-4d52-a17a-bf1a5f7641a7",
   "metadata": {},
   "source": [
    "## Types"
   ]
  },
  {
   "cell_type": "code",
   "execution_count": 7,
   "id": "62aec35b-11c1-4d9a-9cdc-b7315222c610",
   "metadata": {},
   "outputs": [],
   "source": [
    "class ClusterState(StrEnum):\n",
    "    LEARN = auto()\n",
    "    PREPROD = auto()\n",
    "    PROD = auto()\n",
    "    DEAD = auto()\n",
    "\n",
    "class ClusterMeta:\n",
    "    def __init__(self, cluster_ind, cluster_key, output_bit, nu, cycle):\n",
    "        self.state = ClusterState.LEARN\n",
    "        self.cluster_ind = cluster_ind\n",
    "        self.cluster_key = cluster_key\n",
    "        self.output_bit = output_bit\n",
    "        self.nu = nu\n",
    "        self.cycle = cycle\n",
    "        self.ones_count = 0\n",
    "        self.signals_processed = 0\n",
    "        self.stats = Counter()\n",
    "        self.verify_image_ids = {}\n",
    "        self.alarm_cycle = None"
   ]
  },
  {
   "cell_type": "markdown",
   "id": "f70e4714-7395-4a8a-93f7-7248507d6e9f",
   "metadata": {},
   "source": [
    "## Memory"
   ]
  },
  {
   "cell_type": "code",
   "execution_count": 8,
   "id": "385867d3-df1a-44cd-a8b6-ab94e752aad3",
   "metadata": {},
   "outputs": [],
   "source": [
    "def hdv_array_log_like_grow_policy(size):\n",
    "    k = math.log(size, 100_000)\n",
    "    new_size = size * 2 if k < 1 else size * 1.1\n",
    "    return int(new_size)\n",
    "\n",
    "CLUSTERS = HdvArray(HP_SIGNAL_VEC_LEN, xp, dtype='f', grow_policy=hdv_array_log_like_grow_policy)\n",
    "CLUSTER_MASKS = HdvArray(HP_SIGNAL_VEC_LEN, xp, dtype='f', grow_policy=hdv_array_log_like_grow_policy)\n",
    "\n",
    "CLUSTER_KEY_TO_CLUSTER_IND = {} # key - cluster key (i.e. pair (output_bit, tuple(input_bits))), value - cluster ind\n",
    "\n",
    "CLUSTER_METAS = {} # key - cluster index, value ClusterMeta instance"
   ]
  },
  {
   "cell_type": "code",
   "execution_count": 9,
   "id": "944a2145-43bc-4ece-b640-e4562074deaf",
   "metadata": {},
   "outputs": [],
   "source": [
    "def gc_memory():\n",
    "    gc.collect()\n",
    "    \n",
    "    if cp.cuda.is_available():\n",
    "        cp.get_default_memory_pool().free_all_blocks()\n",
    "\n",
    "def clear_memory(with_caches=False):\n",
    "    CLUSTER_KEY_TO_CLUSTER_IND.clear()\n",
    "    CLUSTER_METAS.clear()\n",
    "    CLUSTER_MASKS.clear()\n",
    "    CLUSTERS.clear()\n",
    "    \n",
    "    if with_caches:\n",
    "        pass\n",
    "    \n",
    "    gc_memory()"
   ]
  },
  {
   "cell_type": "markdown",
   "id": "6438e5f1-7eb4-483c-8572-a32543ab348d",
   "metadata": {},
   "source": [
    "## SBV"
   ]
  },
  {
   "cell_type": "raw",
   "id": "c0294e1e-250b-45b4-aa7b-8172ed6328c5",
   "metadata": {},
   "source": [
    "SBV stands for \"sparsed binary vector\""
   ]
  },
  {
   "cell_type": "code",
   "execution_count": 10,
   "id": "b1a43c52-4006-4a8e-a97d-507ee8f69ef7",
   "metadata": {},
   "outputs": [
    {
     "name": "stdout",
     "output_type": "stream",
     "text": [
      "PIXEL_SBVS loaded from database (ROWID=2)\n"
     ]
    }
   ],
   "source": [
    "df_pixels = pd.read_sql('SELECT rowid, sbv FROM pixels WHERE encoding=:encoding', params={'encoding': HP_SIGNAL_ENCODING}, con=transfs_db_con)\n",
    "\n",
    "if len(df_pixels) > 0:\n",
    "    PIXEL_SBVS = pickle.loads(df_pixels.iloc[0].sbv)\n",
    "    print(f'PIXEL_SBVS loaded from database (ROWID={df_pixels.iloc[0].rowid})')\n",
    "else:\n",
    "    PIXEL_SBVS = np.zeros((HP_PIXELS_COUNT, HP_SIGNAL_VEC_LEN), dtype='f')\n",
    "    \n",
    "    for i in range(PIXEL_SBVS.shape[0]):\n",
    "        ii = RNG.choice(HP_SIGNAL_VEC_LEN, HP_SIGNAL_VEC_NON_ZERO_BITS, replace=False)\n",
    "        PIXEL_SBVS[i][ii] = 1\n",
    "\n",
    "    transfs_db_con.execute('INSERT INTO pixels (encoding, sbv) VALUES (:encoding, :sbv)', {'encoding': HP_SIGNAL_ENCODING, 'sbv': pickle.dumps(PIXEL_SBVS)})\n",
    "    print('PIXEL_SBVS created from scratch')\n",
    "\n",
    "assert PIXEL_SBVS.shape[0] == HP_PIXELS_COUNT\n",
    "assert np.all(PIXEL_SBVS.sum(axis=1) == HP_SIGNAL_VEC_NON_ZERO_BITS)\n",
    "# PIXEL_SBVS = xp_array_to_gpu(PIXEL_SBVS)"
   ]
  },
  {
   "cell_type": "markdown",
   "id": "de73e165-ba51-4050-b4b8-1af91973f3e3",
   "metadata": {},
   "source": [
    "## lambdas"
   ]
  },
  {
   "cell_type": "code",
   "execution_count": 11,
   "id": "9973a30b-4267-42a8-b61c-5c2c869c902c",
   "metadata": {},
   "outputs": [],
   "source": [
    "fetch_si_xy = lambda si: (si.x, si.y)\n",
    "get_sequence = lambda sequences: np.array(list(itertools.chain.from_iterable(sequences)))\n",
    "get_sequences_reading = lambda sequences, seq_reading_code: list(map(lambda r: sequences[r[0]] if r[1] == 0 else list(reversed(sequences[r[0]])), seq_reading_code))\n",
    "get_xy_sequence = lambda sequence, si_ind_dict: np.array(list(map(lambda si_ind: fetch_si_xy(si_ind_dict[si_ind]), sequence)))\n",
    "get_raw_image = lambda image_id: Image.open(io.BytesIO((df_train_images if image_id < 100_000_000 else df_test_images).loc[image_id]['png']))\n",
    "get_cluster_key = lambda output_bit, input_bits: (int(output_bit), tuple(map(int, sorted(input_bits))))\n",
    "signal_elem_ind_to_xy = lambda ind: (int(ind % HP_COMBI_SPACE_SIZE), int(ind // HP_COMBI_SPACE_SIZE))\n",
    "signal_elem_inds_to_xy = lambda inds: list(map(lambda ind: signal_elem_ind_to_xy(ind), inds))\n",
    "get_cluster_logic = lambda cluster_ind: (signal_elem_inds_to_xy(xp_array_from_gpu(xp.argwhere(CLUSTERS.array_active[cluster_ind]).ravel()).astype('i')), signal_elem_ind_to_xy(CLUSTER_METAS[cluster_ind].output_bit))"
   ]
  },
  {
   "cell_type": "markdown",
   "id": "a6579ab9-f958-4519-9eff-82e5e9b4677f",
   "metadata": {},
   "source": [
    "## calc_seq_ipxy"
   ]
  },
  {
   "cell_type": "raw",
   "id": "c8f25bec-0e1b-4f6d-9fd1-42e8c2d678a9",
   "metadata": {},
   "source": [
    "IPXY = InterPolate by XY"
   ]
  },
  {
   "cell_type": "code",
   "execution_count": 12,
   "id": "442809ec-87e2-47d6-be59-672b60fcd5bc",
   "metadata": {},
   "outputs": [],
   "source": [
    "def calc_seq_ipxy(sequences, si_ind_dict):\n",
    "    unique_pts = {} # Dictionaries preserve insertion order  (https://docs.python.org/3/library/stdtypes.html#typesmapping)\n",
    "        \n",
    "    for sequence in sequences:\n",
    "        xy_sequence = get_xy_sequence(sequence, si_ind_dict)\n",
    "        xy_sequence_fwd = np.roll(xy_sequence, -1, axis=0)\n",
    "        vec_sequence = xy_sequence_fwd - xy_sequence\n",
    "        vec_sequence[-1,:] = 0 # get rid of reciprocal vector which connects tail to tip\n",
    "        vec_len_sequence = np.linalg.norm(vec_sequence, axis=1)\n",
    "        vec_len_sequence_nozero = np.where(vec_len_sequence != 0, vec_len_sequence, 1e-6) # prevent 0 len vectors\n",
    "        norm_vec_sequence = (vec_sequence.T / vec_len_sequence_nozero).T\n",
    "        vec_len_sequence = np.round(vec_len_sequence, decimals=0).astype(int)\n",
    "        \n",
    "        assert len(sequence) == vec_sequence.shape[0]\n",
    "        assert len(sequence) == vec_len_sequence.shape[0]\n",
    "        assert len(sequence) == norm_vec_sequence.shape[0]\n",
    "        \n",
    "        for pt, pt_to, norm_vec, vec_len in zip(xy_sequence, xy_sequence_fwd, norm_vec_sequence, vec_len_sequence):\n",
    "            if vec_len <= 0:\n",
    "                continue\n",
    "\n",
    "            pts = pt + (np.arange(vec_len) * norm_vec[np.newaxis,:].T).T # path interpolation\n",
    "            pts = np.round(pts, decimals=0).astype(int)\n",
    "            pts = np.vstack([pts, pt_to])\n",
    "            unique_pts.update(map(lambda p: (tuple(p), 1), pts))\n",
    "\n",
    "    return np.vstack(list(unique_pts.keys()))"
   ]
  },
  {
   "cell_type": "markdown",
   "id": "2fbb6298-8d85-4d7b-bd1b-db831bd714d0",
   "metadata": {},
   "source": [
    "## calc_seq_bv"
   ]
  },
  {
   "cell_type": "raw",
   "id": "d7c672d8-825f-4a48-ae5c-6c4a4a68b901",
   "metadata": {},
   "source": [
    "BV - binary vector with one-hot encoding"
   ]
  },
  {
   "cell_type": "code",
   "execution_count": 13,
   "id": "bf069dce-adf8-453c-be28-b55a61f97627",
   "metadata": {},
   "outputs": [],
   "source": [
    "def calc_seq_bv(seq_xy):\n",
    "    seq_xy = xp_array_to_gpu(seq_xy)\n",
    "    seq_xy = seq_xy * (HP_COMBI_SPACE_SIZE / config.sample_size)\n",
    "    # Leave only points which fit into square defined by HP_COMBI_CLUSTERS_SPACE_SIZE,\n",
    "    # use filtering instead of clipping because clipping tends to introduce false point clustering at the bounadries\n",
    "    seq_xy = xp.round(seq_xy, decimals=0)\n",
    "    ii = xp.all(((seq_xy >= 0) & (seq_xy < HP_COMBI_SPACE_SIZE)), axis=1) \n",
    "    seq_xy = seq_xy[ii]\n",
    "    ind_seq = (seq_xy @ xp.array([1, HP_COMBI_SPACE_SIZE])).astype(int)\n",
    "    bitmap_vec = xp.zeros((HP_COMBI_SPACE_SIZE, HP_COMBI_SPACE_SIZE), dtype='f').ravel()\n",
    "    bitmap_vec[ind_seq] = 1\n",
    "    return bitmap_vec"
   ]
  },
  {
   "cell_type": "markdown",
   "id": "8a7dc09c-d4b0-4fbd-a76d-92684194d275",
   "metadata": {},
   "source": [
    "## calc_seq_sbv"
   ]
  },
  {
   "cell_type": "code",
   "execution_count": 14,
   "id": "6b092598-5634-479f-b788-de7de2b5b22e",
   "metadata": {},
   "outputs": [],
   "source": [
    "def calc_seq_sbv(seq_xy):\n",
    "    ii = np.all(((seq_xy >= 0) & (seq_xy < config.sample_size)), axis=1) \n",
    "    seq_xy = seq_xy[ii]\n",
    "    ind_seq = (seq_xy @ np.array([1, config.sample_size])).astype(int)\n",
    "    seq_sbv = np.where(np.sum(PIXEL_SBVS[ind_seq], axis=0) > 0, 1, 0) # aka Bloom filter\n",
    "    return seq_sbv"
   ]
  },
  {
   "cell_type": "code",
   "execution_count": 15,
   "id": "f929d080-2398-4055-a1d9-0189f89bee39",
   "metadata": {},
   "outputs": [],
   "source": [
    "# def calc_seq_sbv(seq_xy):\n",
    "#     seq_xy = xp_array_to_gpu(seq_xy)\n",
    "#     ii = xp.all(((seq_xy >= 0) & (seq_xy < config.sample_size)), axis=1) \n",
    "#     seq_xy = seq_xy[ii]\n",
    "#     ind_seq = (seq_xy @ xp.array([1, config.sample_size])).astype(int)\n",
    "#     seq_sbv = xp.where(xp.sum(PIXEL_SBVS[ind_seq], axis=0) > 0, 1, 0) # aka Bloom filter\n",
    "#     return seq_sbv"
   ]
  },
  {
   "cell_type": "markdown",
   "id": "76bee177-67c1-4f6d-8ab6-14d652cb5515",
   "metadata": {},
   "source": [
    "## seq_sbv_to_bv"
   ]
  },
  {
   "cell_type": "code",
   "execution_count": 16,
   "id": "3ca199c2-561d-449c-be1a-9662e97ef703",
   "metadata": {},
   "outputs": [],
   "source": [
    "def seq_sbv_to_bv(seq_sbv):\n",
    "    seq_sbv = xp_array_from_gpu(seq_sbv)\n",
    "    pixel_sbv_inds = np.argwhere((PIXEL_SBVS @ seq_sbv) >= HP_SIGNAL_VEC_NON_ZERO_BITS).ravel()\n",
    "    seq_bv = np.zeros((config.sample_size, config.sample_size)).ravel()\n",
    "    seq_bv[pixel_sbv_inds] = 1\n",
    "    return seq_bv"
   ]
  },
  {
   "cell_type": "markdown",
   "id": "5d288799-ded2-4d59-a102-d6fec7581575",
   "metadata": {},
   "source": [
    "## get_seq_bv_pair"
   ]
  },
  {
   "cell_type": "code",
   "execution_count": 17,
   "id": "57e7573e-e617-4e98-b4e7-927032d178b5",
   "metadata": {},
   "outputs": [],
   "source": [
    "def get_seq_bv_pair(df_image, transf):\n",
    "    si_ind_dict = pickle.loads(df_image.inner_si_ind_dict)\n",
    "    sequences = pickle.loads(df_image.inner_sequences)\n",
    "    seq_reading_code = tuple(zip(range(len(sequences)), (0,) * len(sequences)))\n",
    "    seq_reading = get_sequences_reading(sequences, seq_reading_code)\n",
    "    seq_ipxy = calc_seq_ipxy(seq_reading, si_ind_dict)\n",
    "    seq_bv = calc_seq_bv(seq_ipxy)\n",
    "\n",
    "    seq_ipxy_transf = np.hstack([seq_ipxy, np.ones(seq_ipxy.shape[0])[:,np.newaxis]]) # make homogeneous coords\n",
    "    seq_ipxy_transf = (transf @ seq_ipxy_transf.T).T[:,:2]\n",
    "    seq_bv_transf = calc_seq_bv(seq_ipxy_transf)\n",
    "    \n",
    "    return seq_bv, seq_bv_transf"
   ]
  },
  {
   "cell_type": "markdown",
   "id": "1f4341be-05a5-42c1-8c1b-cd855427d724",
   "metadata": {},
   "source": [
    "## get_seq_sbv_pair"
   ]
  },
  {
   "cell_type": "code",
   "execution_count": 18,
   "id": "8d3dbf81-c490-4b1f-8f86-c08a50a2d0b5",
   "metadata": {},
   "outputs": [],
   "source": [
    "def get_seq_sbv_pair_kern(sequences, si_ind_dict, transf):\n",
    "    seq = get_sequence(sequences)\n",
    "    seq_xy = get_xy_sequence(seq, si_ind_dict)\n",
    "    \n",
    "    seq_sbv = calc_seq_sbv(seq_xy)\n",
    "\n",
    "    seq_xy_transf = np.hstack([seq_xy, np.ones(seq_xy.shape[0])[:,np.newaxis]]) # make homogeneous coords\n",
    "    seq_xy_transf = (transf @ seq_xy_transf.T).T[:,:2]\n",
    "    seq_sbv_transf = calc_seq_sbv(seq_xy_transf)\n",
    "    \n",
    "    return seq_sbv, seq_sbv_transf"
   ]
  },
  {
   "cell_type": "code",
   "execution_count": 19,
   "id": "1fa66b17-293e-4681-9058-e2b0ac01d9ab",
   "metadata": {},
   "outputs": [],
   "source": [
    "def get_seq_sbv_pair(df_image, transf):\n",
    "    sequences = pickle.loads(df_image.inner_sequences)\n",
    "    si_ind_dict = pickle.loads(df_image.inner_si_ind_dict)\n",
    "    return get_seq_sbv_pair_kern(sequences, si_ind_dict, transf)"
   ]
  },
  {
   "cell_type": "markdown",
   "id": "aa61025a-f1f8-4b85-9b3b-a28c919b4387",
   "metadata": {},
   "source": [
    "## get_random_toy_image_ids"
   ]
  },
  {
   "cell_type": "code",
   "execution_count": 20,
   "id": "b0f9ed5a-fde1-473f-8f25-895767869647",
   "metadata": {},
   "outputs": [],
   "source": [
    "def get_random_toy_image_ids(count):\n",
    "    result = []\n",
    "    bits_list = RNG.integers(2, size=(count, HP_TOY_IMAGE_KERNEL_SQUARE), dtype='b')\n",
    "\n",
    "    for _ in range(count):\n",
    "        bits = np.zeros(HP_TOY_IMAGE_KERNEL_SQUARE, dtype='b')\n",
    "        ii = RNG.choice(HP_TOY_IMAGE_KERNEL_SQUARE, HP_TOY_IMAGE_ONES_COUNT, replace=False)\n",
    "        bits[ii] = 1\n",
    "        image_id = sum(map(lambda x: 2**int(x), ii))\n",
    "        assert ''.join(map(str, reversed(bits))) == np.binary_repr(image_id, width=HP_TOY_IMAGE_KERNEL_SQUARE)\n",
    "        result.append(image_id)\n",
    "\n",
    "    return result"
   ]
  },
  {
   "cell_type": "markdown",
   "id": "54d7a684-fe05-46e1-8c6e-a1b75279c8d4",
   "metadata": {},
   "source": [
    "## get_toy_image"
   ]
  },
  {
   "cell_type": "code",
   "execution_count": 21,
   "id": "18fd1716-363b-419b-81b4-f91b632785b3",
   "metadata": {},
   "outputs": [],
   "source": [
    "def get_toy_image(image_id):\n",
    "    bits = np.binary_repr(image_id, width=HP_TOY_IMAGE_KERNEL_SQUARE)\n",
    "    bits = np.array(list(map(int, reversed(bits))), dtype='f')\n",
    "    image = np.zeros((HP_TOY_IMAGE_SIZE, HP_TOY_IMAGE_SIZE), dtype='f')\n",
    "    offset = (HP_TOY_IMAGE_SIZE - HP_TOY_IMAGE_KERNEL_SIZE) // 2\n",
    "    image[offset:offset+HP_TOY_IMAGE_KERNEL_SIZE,offset:offset+HP_TOY_IMAGE_KERNEL_SIZE] = bits.reshape(HP_TOY_IMAGE_KERNEL_SIZE, -1)\n",
    "    return image.ravel()"
   ]
  },
  {
   "cell_type": "markdown",
   "id": "c53ad2f3-dc17-4bcb-a9c9-9b44aa1f3a42",
   "metadata": {},
   "source": [
    "## calc_toy_image_sbv"
   ]
  },
  {
   "cell_type": "code",
   "execution_count": 22,
   "id": "d240081d-6785-4dc9-9139-114faf2f88d4",
   "metadata": {},
   "outputs": [],
   "source": [
    "def calc_toy_image_sbv(image):\n",
    "    assert image.shape[0] == PIXEL_SBVS.shape[0]\n",
    "    mask = image.astype(bool)\n",
    "    active_pixels = PIXEL_SBVS[mask]\n",
    "    return np.where(active_pixels.sum(axis = 0) > 0, 1, 0) # aka Bloom filter"
   ]
  },
  {
   "cell_type": "markdown",
   "id": "33dcc7c6-f12f-4c92-b55e-3901f92796ce",
   "metadata": {},
   "source": [
    "## toy_image_sbv_to_bv"
   ]
  },
  {
   "cell_type": "code",
   "execution_count": 23,
   "id": "b4c1ec61-f00f-447e-9cf1-a161ef102b4f",
   "metadata": {},
   "outputs": [],
   "source": [
    "def toy_image_sbv_to_bv(sbv):\n",
    "    sbv = xp_array_from_gpu(sbv)\n",
    "    pixel_sbv_inds = np.argwhere((PIXEL_SBVS @ sbv) >= HP_SIGNAL_VEC_NON_ZERO_BITS).ravel()\n",
    "    bv = np.zeros((HP_TOY_IMAGE_SIZE, HP_TOY_IMAGE_SIZE)).ravel()\n",
    "    bv[pixel_sbv_inds] = 1\n",
    "    return bv"
   ]
  },
  {
   "cell_type": "markdown",
   "id": "454d74a8-397e-42b6-af1e-18437ef2f791",
   "metadata": {},
   "source": [
    "## .lab hdc"
   ]
  },
  {
   "cell_type": "code",
   "execution_count": 24,
   "id": "8a77cf8e-74e7-408e-83ed-bf28a26b2875",
   "metadata": {},
   "outputs": [],
   "source": [
    "# hdc = Hdc(10_000, np, dtype='f')\n",
    "# hdc.bundle = hdc.bundle_noties\n",
    "# hdc.cos_sim_threshold = 0.055\n",
    "# hdc.hdist_threshold = 4700\n",
    "\n",
    "hdc = Hdc(1_000, np, dtype='f')\n",
    "hdc.bundle = hdc.bundle_noties\n",
    "hdc.cos_sim_threshold = 0.10\n",
    "\n",
    "# hdc = Hdc(2_000, np, dtype='f')\n",
    "# hdc.bundle = hdc.bundle_noties\n",
    "# hdc.cos_sim_threshold = 0.10"
   ]
  },
  {
   "cell_type": "code",
   "execution_count": 25,
   "id": "69ac53e2-f39a-4e59-abfd-2b5eeb834122",
   "metadata": {},
   "outputs": [],
   "source": [
    "PIXEL_HDVS = hdc(config.sample_size ** 2)\n",
    "PIXEL_HDVS_NORM = hdc.normalize(PIXEL_HDVS)"
   ]
  },
  {
   "cell_type": "code",
   "execution_count": 26,
   "id": "af16ae38-e56f-48df-85c5-426649ab275a",
   "metadata": {},
   "outputs": [
    {
     "data": {
      "image/png": "[encoded data removed]",
      "text/plain": [
       "<Figure size 1200x480 with 2 Axes>"
      ]
     },
     "metadata": {},
     "output_type": "display_data"
    }
   ],
   "source": [
    "image_id = RNG.choice(df_train_images.index)\n",
    "image = next(df_train_images.loc[[image_id]].itertuples())\n",
    "si_ind_dict = pickle.loads(image.inner_si_ind_dict)\n",
    "sequences = pickle.loads(image.inner_sequences)\n",
    "seq = get_sequence(sequences)\n",
    "seq_xy = get_xy_sequence(seq, si_ind_dict)\n",
    "ii = np.all(((seq_xy >= 0) & (seq_xy < config.sample_size)), axis=1) \n",
    "seq_xy = seq_xy[ii]\n",
    "ind_seq = (seq_xy @ np.array([1, config.sample_size])).astype(int)\n",
    "seq_bv_true = np.zeros((config.sample_size, config.sample_size)).ravel()\n",
    "seq_bv_true[ind_seq] = 1\n",
    "\n",
    "seq_hdv = hdc.bundle(PIXEL_HDVS[ind_seq])\n",
    "seq_hdv_binary = hdc.to_binary(seq_hdv)\n",
    "seq_hdv_bipolar = hdc.to_bipolar(seq_hdv_binary)\n",
    "seq_hdv_bipolar_norm = hdc.normalize(seq_hdv_bipolar)\n",
    "pixel_hdv_inds = np.argwhere((PIXEL_HDVS_NORM @ seq_hdv_bipolar_norm) > hdc.cos_sim_threshold).ravel()\n",
    "seq_bv = np.zeros((config.sample_size, config.sample_size)).ravel()\n",
    "seq_bv[pixel_hdv_inds] = 1\n",
    "\n",
    "error_level = np.count_nonzero(seq_bv != seq_bv_true)\n",
    "\n",
    "fig, (ax1, ax2) = plt.subplots(1, 2)\n",
    "fig.set_figwidth(12)\n",
    "ax1.set_title(f'image_id={image_id}, points={len(ind_seq)}')\n",
    "ax1.imshow(seq_bv_true.reshape(config.sample_size, -1));\n",
    "ax2.set_title(f'err.={error_level}')\n",
    "ax2.set_title(f'N={seq_hdv.shape[0]} / {seq_hdv_binary.sum():.0f}, err.={error_level}')\n",
    "ax2.imshow(seq_bv.reshape(config.sample_size, -1));"
   ]
  },
  {
   "cell_type": "code",
   "execution_count": 27,
   "id": "93bd685d-76e0-4de1-a67b-6a61e9a2c29b",
   "metadata": {},
   "outputs": [
    {
     "data": {
      "image/jpeg": "[encoded data removed]",
      "image/png": "[encoded data removed]",
      "text/plain": [
       "<PIL.PngImagePlugin.PngImageFile image mode=L size=128x128>"
      ]
     },
     "execution_count": 27,
     "metadata": {},
     "output_type": "execute_result"
    }
   ],
   "source": [
    "get_raw_image(image_id)"
   ]
  },
  {
   "cell_type": "markdown",
   "id": "582ad609-9873-4ab3-830f-488d15ecf505",
   "metadata": {},
   "source": [
    "## .lab sbv"
   ]
  },
  {
   "cell_type": "code",
   "execution_count": 28,
   "id": "9d858d2c-11f8-4b20-a572-c9c1edcfaf55",
   "metadata": {},
   "outputs": [
    {
     "ename": "IndexError",
     "evalue": "index 10564 is out of bounds for axis 0 with size 100",
     "output_type": "error",
     "traceback": [
      "\u001b[0;31m---------------------------------------------------------------------------\u001b[0m",
      "\u001b[0;31mIndexError\u001b[0m                                Traceback (most recent call last)",
      "Cell \u001b[0;32mIn[28], line 15\u001b[0m\n\u001b[1;32m     12\u001b[0m seq_bv_true[ind_seq] \u001b[38;5;241m=\u001b[39m \u001b[38;5;241m1\u001b[39m\n\u001b[1;32m     14\u001b[0m \u001b[38;5;66;03m# seq_sbv = np.where(np.sum(PIXEL_SBVS[ind_seq], axis=0) > 0, 1, 0) # aka Bloom filter\u001b[39;00m\n\u001b[0;32m---> 15\u001b[0m seq_sbv \u001b[38;5;241m=\u001b[39m calc_seq_sbv(seq_xy)\n\u001b[1;32m     16\u001b[0m \u001b[38;5;66;03m# pixel_sbv_inds = np.argwhere((PIXEL_SBVS @ seq_sbv) >= SBV_NON_ZERO_INDS).ravel()\u001b[39;00m\n\u001b[1;32m     17\u001b[0m \u001b[38;5;66;03m# seq_bv = np.zeros((config.sample_size, config.sample_size)).ravel()\u001b[39;00m\n\u001b[1;32m     18\u001b[0m \u001b[38;5;66;03m# seq_bv[pixel_sbv_inds] = 1\u001b[39;00m\n\u001b[1;32m     19\u001b[0m seq_bv \u001b[38;5;241m=\u001b[39m seq_sbv_to_bv(seq_sbv)\n",
      "Cell \u001b[0;32mIn[14], line 5\u001b[0m, in \u001b[0;36mcalc_seq_sbv\u001b[0;34m(seq_xy)\u001b[0m\n\u001b[1;32m      3\u001b[0m seq_xy \u001b[38;5;241m=\u001b[39m seq_xy[ii]\n\u001b[1;32m      4\u001b[0m ind_seq \u001b[38;5;241m=\u001b[39m (seq_xy \u001b[38;5;241m@\u001b[39m np\u001b[38;5;241m.\u001b[39marray([\u001b[38;5;241m1\u001b[39m, config\u001b[38;5;241m.\u001b[39msample_size]))\u001b[38;5;241m.\u001b[39mastype(\u001b[38;5;28mint\u001b[39m)\n\u001b[0;32m----> 5\u001b[0m seq_sbv \u001b[38;5;241m=\u001b[39m np\u001b[38;5;241m.\u001b[39mwhere(np\u001b[38;5;241m.\u001b[39msum(PIXEL_SBVS[ind_seq], axis\u001b[38;5;241m=\u001b[39m\u001b[38;5;241m0\u001b[39m) \u001b[38;5;241m>\u001b[39m \u001b[38;5;241m0\u001b[39m, \u001b[38;5;241m1\u001b[39m, \u001b[38;5;241m0\u001b[39m) \u001b[38;5;66;03m# aka Bloom filter\u001b[39;00m\n\u001b[1;32m      6\u001b[0m \u001b[38;5;28;01mreturn\u001b[39;00m seq_sbv\n",
      "\u001b[0;31mIndexError\u001b[0m: index 10564 is out of bounds for axis 0 with size 100"
     ]
    }
   ],
   "source": [
    "# image_id = RNG.choice(df_train_images.index)\n",
    "# image_id = 44917 # 60 points\n",
    "image = next(df_train_images.loc[[image_id]].itertuples())\n",
    "si_ind_dict = pickle.loads(image.inner_si_ind_dict)\n",
    "sequences = pickle.loads(image.inner_sequences)\n",
    "seq = get_sequence(sequences)\n",
    "seq_xy = get_xy_sequence(seq, si_ind_dict)\n",
    "ii = np.all(((seq_xy >= 0) & (seq_xy < config.sample_size)), axis=1) \n",
    "seq_xy = seq_xy[ii]\n",
    "ind_seq = (seq_xy @ np.array([1, config.sample_size])).astype(int)\n",
    "seq_bv_true = np.zeros((config.sample_size, config.sample_size)).ravel()\n",
    "seq_bv_true[ind_seq] = 1\n",
    "\n",
    "# seq_sbv = np.where(np.sum(PIXEL_SBVS[ind_seq], axis=0) > 0, 1, 0) # aka Bloom filter\n",
    "seq_sbv = calc_seq_sbv(seq_xy)\n",
    "# pixel_sbv_inds = np.argwhere((PIXEL_SBVS @ seq_sbv) >= SBV_NON_ZERO_INDS).ravel()\n",
    "# seq_bv = np.zeros((config.sample_size, config.sample_size)).ravel()\n",
    "# seq_bv[pixel_sbv_inds] = 1\n",
    "seq_bv = seq_sbv_to_bv(seq_sbv)\n",
    "\n",
    "error_level = np.count_nonzero(seq_bv != seq_bv_true)\n",
    "\n",
    "fig, (ax1, ax2) = plt.subplots(1, 2)\n",
    "fig.set_figwidth(12)\n",
    "ax1.set_title(f'image_id={image_id}, points={len(ind_seq)}')\n",
    "ax1.imshow(seq_bv_true.reshape(config.sample_size, -1))\n",
    "ax2.set_title(f'sbv={seq_sbv.shape[0]} / {seq_sbv.sum()}, non_zero_inds={HP_SIGNAL_VEC_NON_ZERO_BITS}, err.={error_level}')\n",
    "ax2.imshow(seq_bv.reshape(config.sample_size, -1));"
   ]
  },
  {
   "cell_type": "markdown",
   "id": "8a40ec0a-891b-4385-88c3-6699bf574057",
   "metadata": {},
   "source": [
    "# Train"
   ]
  },
  {
   "cell_type": "code",
   "execution_count": 29,
   "id": "4287bb50-b460-4bdd-8d19-322e30669418",
   "metadata": {},
   "outputs": [],
   "source": [
    "move_to_ooc_transf = np.array([\n",
    "    [1, 0, -config.sample_size / 2],\n",
    "    [0, 1, -config.sample_size / 2],\n",
    "    [0, 0, 1]])\n",
    "theta = np.deg2rad(45)\n",
    "cos_theta = math.cos(theta)\n",
    "sin_theta = math.sin(theta)\n",
    "rotation_transf = np.array([\n",
    "    [cos_theta, -sin_theta, 0],\n",
    "    [sin_theta, cos_theta, 0],\n",
    "    [0, 0, 1]\n",
    "])\n",
    "move_to_target_loc_transf = np.array([\n",
    "    [1, 0, config.sample_size / 2],\n",
    "    [0, 1, config.sample_size / 2],\n",
    "    [0, 0, 1]])\n",
    "transf_rotate_45 = move_to_target_loc_transf @ rotation_transf @ move_to_ooc_transf"
   ]
  },
  {
   "cell_type": "code",
   "execution_count": 30,
   "id": "0e80b056-0944-48cd-82c1-04b246f9551e",
   "metadata": {},
   "outputs": [],
   "source": [
    "transf_offset_10_0 = np.array([\n",
    "    [1, 0, 10],\n",
    "    [0, 1, 0],\n",
    "    [0, 0, 1]])"
   ]
  },
  {
   "cell_type": "code",
   "execution_count": 31,
   "id": "d53d9c0e-7546-4979-a953-0b8f46f1ce48",
   "metadata": {},
   "outputs": [],
   "source": [
    "transfs = {\n",
    "    'offset_10_0': transf_offset_10_0,\n",
    "    'rotate_45': transf_rotate_45,\n",
    "}\n",
    "transf_code = 'offset_10_0'\n",
    "transf = transfs[transf_code]"
   ]
  },
  {
   "cell_type": "code",
   "execution_count": 32,
   "id": "145172a9-54d1-4563-a7ab-cde78584810c",
   "metadata": {},
   "outputs": [],
   "source": [
    "LOG.is_enabled = True"
   ]
  },
  {
   "cell_type": "code",
   "execution_count": 33,
   "id": "b5b3a964-acfe-449a-8668-928587811e45",
   "metadata": {},
   "outputs": [],
   "source": [
    "clear_memory(with_caches=True)"
   ]
  },
  {
   "cell_type": "code",
   "execution_count": 249,
   "id": "66c512a5-916f-4a20-b37c-e0369e7d65c8",
   "metadata": {},
   "outputs": [],
   "source": [
    "# HP_OUTER_CYCLES_COUNT = 10\n",
    "# HP_INNER_CYCLES_COUNT = 500\n",
    "# HP_OUTPUT_BITS_PER_BATCH = 50\n",
    "\n",
    "# HP_POINTS_COUNT = HP_OUTPUT_BITS_PER_BATCH * 100\n",
    "# HP_POINT_NON_ZERO_BITS = 100\n",
    "\n",
    "HP_OUTER_CYCLES_COUNT = 3\n",
    "HP_INNER_CYCLES_COUNT = 300\n",
    "HP_OUTPUT_BITS_PER_BATCH = 256\n",
    "\n",
    "HP_POINTS_COUNT = 60000\n",
    "HP_POINT_NON_ZERO_BITS = 32"
   ]
  },
  {
   "cell_type": "code",
   "execution_count": 35,
   "id": "40a229ad-4719-4074-b4b8-ae25b0ce03c4",
   "metadata": {},
   "outputs": [],
   "source": [
    "# cycle_images_count = min(50, len(df_train_images))\n",
    "cycle_images_count = min(100, len(df_train_images))"
   ]
  },
  {
   "cell_type": "code",
   "execution_count": 36,
   "id": "e3ff7b17-861c-4b58-9a85-0e23fbe91a6c",
   "metadata": {},
   "outputs": [],
   "source": [
    "use_toy_images = True"
   ]
  },
  {
   "cell_type": "code",
   "execution_count": 128,
   "id": "b4697dfc-cda8-4f15-a003-edebae4c86d1",
   "metadata": {},
   "outputs": [
    {
     "data": {
      "text/plain": [
       "Counter({4: 33861, 3: 33380, 5: 13937, 6: 2716, 7: 316, 8: 24})"
      ]
     },
     "execution_count": 128,
     "metadata": {},
     "output_type": "execute_result"
    }
   ],
   "source": [
    "Counter(map(lambda m: m.ones_count, filter(lambda m: m.state == ClusterState.PROD, CLUSTER_METAS.values())))"
   ]
  },
  {
   "cell_type": "code",
   "execution_count": 38,
   "id": "8d50659f-5d22-4cd6-903e-fdab294c9bd1",
   "metadata": {},
   "outputs": [],
   "source": [
    "# Counter(map(lambda m: m.stats.total(), filter(lambda m: m.state == ClusterState.PREPROD, CLUSTER_METAS.values())))"
   ]
  },
  {
   "cell_type": "code",
   "execution_count": null,
   "id": "b0698197-86d2-4210-aed7-271d8d208c9f",
   "metadata": {},
   "outputs": [],
   "source": [
    "nomins = active_clusters + grow # grow weights within clusters\n",
    "denoms = nomins.max(axis=1) \n",
    "# CLUSTERS.array_active[active_cluster_inds] = (nomins.T / denoms).T # upload new new weights\n",
    "CLUSTERS.array_active[active_cluster_inds] = xp.where(ys >= HP_CLUSTER_ONES_COUNT_THRES,  (nomins.T / denoms).T # upload new new weights"
   ]
  },
  {
   "cell_type": "code",
   "execution_count": 273,
   "id": "68e63c8e-a9fc-4f6a-a714-1429b64ad4de",
   "metadata": {},
   "outputs": [
    {
     "data": {
      "text/plain": [
       "array([[7, 7, 7, 7],\n",
       "       [2, 2, 2, 2],\n",
       "       [3, 3, 3, 3]])"
      ]
     },
     "execution_count": 273,
     "metadata": {},
     "output_type": "execute_result"
    }
   ],
   "source": [
    "a = np.array([0, 1, 1])\n",
    "b = np.array([[1,1,1,1], [2,2,2,2], [3,3,3,3]])\n",
    "c = np.array([[7,7,7,7], [8,8,8,8], [9,9,9,9]])\n",
    "np.where(a[:,np.newaxis], b, c)"
   ]
  },
  {
   "cell_type": "code",
   "execution_count": 250,
   "id": "a2366ea9-8171-4373-b8ce-9cc0299c365f",
   "metadata": {},
   "outputs": [
    {
     "data": {
      "application/vnd.jupyter.widget-view+json": {
       "model_id": "c12a5325ade14ddcad6a9eac032c0402",
       "version_major": 2,
       "version_minor": 0
      },
      "text/plain": [
       "Outer cycle:   0%|          | 0/3 [00:00<?, ?it/s]"
      ]
     },
     "metadata": {},
     "output_type": "display_data"
    },
    {
     "data": {
      "application/vnd.jupyter.widget-view+json": {
       "model_id": "f762d367ae5c4365842189bc57095f7a",
       "version_major": 2,
       "version_minor": 0
      },
      "text/plain": [
       "Inner cycle:   0%|          | 0/300 [00:00<?, ?it/s]"
      ]
     },
     "metadata": {},
     "output_type": "display_data"
    },
    {
     "data": {
      "application/vnd.jupyter.widget-view+json": {
       "model_id": "4389894036934a439d7b3bea6deaa821",
       "version_major": 2,
       "version_minor": 0
      },
      "text/plain": [
       "Inner cycle:   0%|          | 0/300 [00:00<?, ?it/s]"
      ]
     },
     "metadata": {},
     "output_type": "display_data"
    },
    {
     "data": {
      "application/vnd.jupyter.widget-view+json": {
       "model_id": "184ae60020134408ba48aff4c4f1ef51",
       "version_major": 2,
       "version_minor": 0
      },
      "text/plain": [
       "Inner cycle:   0%|          | 0/300 [00:00<?, ?it/s]"
      ]
     },
     "metadata": {},
     "output_type": "display_data"
    }
   ],
   "source": [
    "# %%time\n",
    "batch_output_bits_filter = lambda s, e: True\n",
    "# batch_output_bits_filter = lambda s, e: s == 0\n",
    "\n",
    "for outer_cycle in tqdm(range(HP_OUTER_CYCLES_COUNT), desc='Outer cycle'):\n",
    "    with LOG.auto_prefix('OCYCLE', outer_cycle):\n",
    "        for start_output_bit in range(0, HP_SIGNAL_VEC_LEN, HP_OUTPUT_BITS_PER_BATCH):\n",
    "            end_output_bit = start_output_bit + HP_OUTPUT_BITS_PER_BATCH - 1\n",
    "            end_output_bit = min(end_output_bit, HP_SIGNAL_VEC_LEN - 1)\n",
    "            assert end_output_bit >= start_output_bit, (start_output_bit, end_output_bit)\n",
    "\n",
    "            if not batch_output_bits_filter(start_output_bit, end_output_bit):\n",
    "                continue\n",
    "            \n",
    "            with LOG.auto_prefix('OBITS', f'{start_output_bit}:{end_output_bit}'):\n",
    "                clear_memory(with_caches=True)\n",
    "\n",
    "                ## Create combinatorial points from scratch for output bits (OBITS)\n",
    "                POINTS = []\n",
    "                POINT_OUTPUT_BITS = []\n",
    "                output_bits = RNG.choice(HP_SIGNAL_VEC_LEN, HP_POINTS_COUNT)\n",
    "                \n",
    "                for output_bit in range(start_output_bit, end_output_bit + 1):\n",
    "                    point_vec = np.zeros(HP_SIGNAL_VEC_LEN, dtype='f')\n",
    "                    non_zero_inds = RNG.choice(HP_SIGNAL_VEC_LEN, HP_POINT_NON_ZERO_BITS, replace=False)\n",
    "                    point_vec[non_zero_inds] = 1\n",
    "                    POINTS.append(point_vec)\n",
    "                    POINT_OUTPUT_BITS.append(output_bit)\n",
    "                \n",
    "                POINTS = xp_array_to_gpu(np.vstack(POINTS))\n",
    "                POINT_OUTPUT_BITS = np.hstack(POINT_OUTPUT_BITS)\n",
    "                POINT_INDS = np.arange(POINTS.shape[0])\n",
    "\n",
    "                ## Restore prod clusters for output bits (OBITS)\n",
    "                df_clusters = pd.read_sql('SELECT ROWID, output_bit, sbv, meta FROM clusters WHERE encoding=:encoding AND transf_code=:transf_code ' + \n",
    "                                          'AND output_bit>=:start_output_bit AND output_bit<=:end_output_bit', \n",
    "                                          params={\n",
    "                                              'encoding': HP_SIGNAL_ENCODING, \n",
    "                                              'transf_code': transf_code,\n",
    "                                              'start_output_bit': start_output_bit, \n",
    "                                              'end_output_bit': end_output_bit}, \n",
    "                                          con=transfs_db_con)\n",
    "                \n",
    "                for cluster_row in df_clusters.itertuples():\n",
    "                    prod_clusters_for_output_bit = pickle.loads(cluster_row.sbv)\n",
    "                    prod_cluster_metas_for_output_bit = pickle.loads(cluster_row.meta)\n",
    "                    assert prod_clusters_for_output_bit.shape[0] == len(prod_cluster_metas_for_output_bit)\n",
    "\n",
    "                    for cluster, meta in zip(prod_clusters_for_output_bit, prod_cluster_metas_for_output_bit):\n",
    "                        cluster = xp_array_to_gpu(cluster)\n",
    "                        cluster_ind = CLUSTERS.lease()\n",
    "                        assert CLUSTER_MASKS.lease() == cluster_ind\n",
    "                        meta.cluster_ind = cluster_ind\n",
    "                        CLUSTERS.array_active[cluster_ind] = cluster\n",
    "                        CLUSTER_MASKS.array_active[cluster_ind] = cluster\n",
    "                        CLUSTER_METAS[cluster_ind] = meta\n",
    "                        cluster_key = get_cluster_key(meta.output_bit, np.argwhere(cluster).ravel())\n",
    "                        CLUSTER_KEY_TO_CLUSTER_IND[cluster_key] = cluster_ind\n",
    "\n",
    "                    LOG(f'Loaded {prod_clusters_for_output_bit.shape[0]} clusters for output bit {cluster_row.output_bit} (ROWID={cluster_row.rowid})')\n",
    "\n",
    "                prod_cluster_metas = list(filter(lambda c: c.state == ClusterState.PROD, CLUSTER_METAS.values()))\n",
    "                unique_prod_cluster_keys = set(map(lambda m: get_cluster_key(m.output_bit, np.argwhere(CLUSTERS.array_active[m.cluster_ind]).ravel()), prod_cluster_metas))\n",
    "                \n",
    "                ## Mine clusters\n",
    "                for cycle in tqdm(range(HP_INNER_CYCLES_COUNT), leave=False, desc='Inner cycle'):\n",
    "                    with LOG.auto_prefix('ICYCLE', cycle):\n",
    "                        ### Prepare input and output signals for training\n",
    "                        signals_input = []\n",
    "                        signals_output = []\n",
    "                        \n",
    "                        if use_toy_images:\n",
    "                            cycle_image_ids = get_random_toy_image_ids(cycle_images_count)\n",
    "\n",
    "                            for cycle_image_id in cycle_image_ids:\n",
    "                                toy_image_origin = get_toy_image(cycle_image_id)\n",
    "                                toy_image_transf = np.roll(toy_image_origin.reshape(HP_TOY_IMAGE_SIZE, -1), 1, axis=1).ravel()\n",
    "                                toy_image_origin_sbv, toy_image_transf_sbv = calc_toy_image_sbv(toy_image_origin), calc_toy_image_sbv(toy_image_transf)\n",
    "                                signals_input.append(toy_image_origin_sbv)\n",
    "                                signals_output.append(toy_image_transf_sbv)\n",
    "                        else:\n",
    "                            cycle_image_ids = RNG.choice(df_train_images.index, cycle_images_count, replace=False).astype('i')\n",
    "                            df_cycle_images = df_train_images.loc[cycle_image_ids]\n",
    "                            \n",
    "                            for image in df_cycle_images.itertuples():\n",
    "                                seq_origin_sbv, seq_transf_sbv = get_seq_sbv_pair(image, transf)\n",
    "                                signals_input.append(seq_origin_sbv)\n",
    "                                signals_output.append(seq_transf_sbv)\n",
    "                        \n",
    "                        signals_input = xp.vstack(signals_input)\n",
    "                        signals_output = np.vstack(signals_output)\n",
    "                        ### \n",
    "                                         \n",
    "                        cluster_states = Counter(map(lambda m: m.state.name, CLUSTER_METAS.values()))\n",
    "                        do_create_clusters = cluster_states[ClusterState.LEARN.name] < 100_000\n",
    "                        do_learn_clusters = cluster_states[ClusterState.PREPROD.name] < 200_000\n",
    "                        do_promote_clusters = cluster_states[ClusterState.PREPROD.name] < 200_000\n",
    "                        \n",
    "                        LOG(f'===')\n",
    "                        LOG(f'Cycle {cycle} started, clusters: {cluster_states}, CLUSTERS.array.shape={CLUSTERS.array.shape}')\n",
    "                        \n",
    "                        ###\n",
    "                        if do_create_clusters:\n",
    "                            new_clusters_count = 0\n",
    "                            \n",
    "                            for signal_input, signal_output in zip(signals_input, signals_output):\n",
    "                                active_points_mask = signal_output[POINT_OUTPUT_BITS] != 0\n",
    "                                active_point_inds = POINT_INDS[active_points_mask]\n",
    "\n",
    "                                if active_point_inds.shape[0] == 0:\n",
    "                                    continue\n",
    "                                    \n",
    "                                active_points = POINTS[active_point_inds] # subset of POINTS which are connected to active output bits\n",
    "                                active_points_signal_input_mat = active_points * signal_input\n",
    "                                active_points_signal_input_mask = xp.any(active_points_signal_input_mat, axis=1) # which of active_points have any ON bits within input signal?\n",
    "                                active_points_signal_input_mask = xp_array_from_gpu(active_points_signal_input_mask)\n",
    "                        \n",
    "                                for mask_value, point_ind, subsignal_input, subsignal_input_gpu in zip(active_points_signal_input_mask,\n",
    "                                                                                                       active_point_inds, \n",
    "                                                                                                       xp_array_from_gpu(active_points_signal_input_mat),\n",
    "                                                                                                       active_points_signal_input_mat):\n",
    "                                    if not mask_value:\n",
    "                                        continue\n",
    "                                    \n",
    "                                    active_output_bit = int(POINT_OUTPUT_BITS[point_ind])\n",
    "                                    active_input_bits = np.argwhere(subsignal_input).ravel()\n",
    "\n",
    "                                    if active_input_bits.shape[0] < HP_CLUSTER_CREATION_ONES_COUNT_THRES:\n",
    "                                        continue\n",
    "                                    \n",
    "                                    cluster_key = get_cluster_key(active_output_bit, active_input_bits)\n",
    "                        \n",
    "                                    if cluster_key in CLUSTER_KEY_TO_CLUSTER_IND:\n",
    "                                        continue\n",
    "                        \n",
    "                                    cluster_ind = CLUSTERS.lease()\n",
    "                                    cluster_mask_ind = CLUSTER_MASKS.lease()\n",
    "                                    assert cluster_ind == cluster_mask_ind\n",
    "                                    CLUSTERS.array_active[cluster_ind] = subsignal_input_gpu\n",
    "                                    CLUSTER_MASKS.array_active[cluster_ind] = subsignal_input_gpu\n",
    "                                    cluster_meta = ClusterMeta(cluster_ind=cluster_ind, cluster_key=cluster_key, output_bit=active_output_bit, nu=1/subsignal_input.sum(), cycle=cycle)\n",
    "                                    cluster_meta.alarm_cycle = cycle + HP_CLUSTER_LEARN_STATE_IDLE_CYCLES\n",
    "                                    CLUSTER_METAS[cluster_ind] = cluster_meta\n",
    "                                    CLUSTER_KEY_TO_CLUSTER_IND[cluster_key] = cluster_ind\n",
    "                                    new_clusters_count += 1\n",
    "                        \n",
    "                            LOG(f'Created {new_clusters_count} clusters')\n",
    "                        \n",
    "                        ###\n",
    "                        learn_cluster_metas = list(filter(lambda c: c.state == ClusterState.LEARN, CLUSTER_METAS.values()))\n",
    "                            \n",
    "                        if do_learn_clusters:\n",
    "                            learn_cluster_inds = np.array(list(map(lambda m: m.cluster_ind, learn_cluster_metas)), dtype='i')\n",
    "                            learn_cluster_output_bits = np.array(list(map(lambda m: m.output_bit, learn_cluster_metas)), dtype='i')\n",
    "                            cluster_nus = xp.array(list(map(lambda m: m.nu, CLUSTER_METAS.values())))\n",
    "                            learned_clusters_inds = set()\n",
    "                            \n",
    "                            for signal_input, signal_output in zip(signals_input, signals_output):\n",
    "                                # this stanza 'signal_output[learn_cluster_output_bits] != 0' effectively produces\n",
    "                                # boolean mask for learn_cluster_inds - clusters which are connected to currently active output bits\n",
    "                                active_cluster_inds = learn_cluster_inds[signal_output[learn_cluster_output_bits] != 0]\n",
    "                        \n",
    "                                if active_cluster_inds.shape[0] == 0:\n",
    "                                    continue\n",
    "                                \n",
    "                                active_clusters = CLUSTERS.array_active[active_cluster_inds] # subset of CLUSTERS which are connected to active bits in signal_output\n",
    "                                active_cluster_masks = CLUSTER_MASKS.array_active[active_cluster_inds]\n",
    "                                cluster_nus = cluster_nus[active_cluster_inds]\n",
    "\n",
    "                                ys = signal_input @ active_clusters.T # how each cluster reacted on signal_input (strength), ca. shape (35,).\n",
    "                                zs = signal_input @ active_cluster_masks.T # number of activated bits within each cluster for given signal_input, ca. shape (35,)\n",
    "                                grow = (signal_input * (cluster_nus * ys)[:,np.newaxis]) # how weights within each cluster must grow up in response co signal_input, matrix, ca. shape (35, 1024)\n",
    "                                grow *= active_cluster_masks # masking, only allow weights which belong to clusters to grow up, matrix, ca. shape (35, 1024)\n",
    "                                nomins = active_clusters + grow # grow weights within clusters\n",
    "                                denoms = nomins.max(axis=1) \n",
    "                                updated_active_clusters = (nomins.T / denoms).T \n",
    "                                # CLUSTERS.array_active[active_cluster_inds] = updated_active_clusters # upload updated weights\n",
    "                                \n",
    "                                # upload updated weights for those clusters which have enough bits touched by signal\n",
    "                                # (i.e. we won't update clusters which have e.g. 1 bit touched)\n",
    "                                zs_mask = xp_array_from_gpu(zs >= HP_CLUSTER_ONES_COUNT_THRES)\n",
    "                                # CLUSTERS.array_active[active_cluster_inds] = xp.where(zs_mask[:,np.newaxis], updated_active_clusters, active_clusters) \n",
    "                                CLUSTERS.array_active[active_cluster_inds[zs_mask]] = updated_active_clusters[zs_mask]\n",
    "                        \n",
    "                                for cluster_ind in active_cluster_inds[zs_mask]:\n",
    "                                    cluster_meta = CLUSTER_METAS[cluster_ind]\n",
    "                                    cluster_meta.signals_processed += 1\n",
    "                                    cluster_meta.alarm_cycle = cycle + HP_CLUSTER_LEARN_STATE_IDLE_CYCLES\n",
    "                                    learned_clusters_inds.add(cluster_ind)\n",
    "                        \n",
    "                            LOG(f'Learned {len(learned_clusters_inds)} clusters')\n",
    "                        else:\n",
    "                            # Postpone alarm for this cycle since learning is on pause\n",
    "                            for cluster_meta in filter(lambda m: not m.alarm_cycle is None, learn_cluster_metas):\n",
    "                                cluster_meta.alarm_cycle += 1\n",
    "\n",
    "                        ### Promote LEARN clusters to PREPROD/DEAD if they've learned enough\n",
    "                        if do_promote_clusters:\n",
    "                            cluster_metas_to_promote = list(filter(lambda c: c.state == ClusterState.LEARN and c.signals_processed > HP_CLUSTER_LEARN_STATE_SIGNALS_PROCESSED_THRES, CLUSTER_METAS.values()))\n",
    "                            cluster_inds_to_promote = list(map(lambda c: c.cluster_ind, cluster_metas_to_promote))\n",
    "                            binarized_clusters = xp.where(CLUSTERS.array_active[cluster_inds_to_promote] > HP_CLUSTER_BINARIZE_THRES, 1, 0)\n",
    "                            binarized_clusters_ones_counts = binarized_clusters.sum(axis=1)\n",
    "                            CLUSTERS.array_active[cluster_inds_to_promote] = binarized_clusters\n",
    "                        \n",
    "                            new_cluster_states = Counter()\n",
    "                            \n",
    "                            for cluster_meta, ones_count in zip(cluster_metas_to_promote, binarized_clusters_ones_counts):\n",
    "                                cluster_ind = cluster_meta.cluster_ind\n",
    "                                cluster_meta.ones_count = int(ones_count)\n",
    "                                assert cluster_meta.ones_count > 0\n",
    "                    \n",
    "                                if cluster_meta.ones_count >= HP_CLUSTER_ONES_COUNT_THRES:\n",
    "                                    cluster_meta.state = ClusterState.PREPROD\n",
    "                                    cluster_meta.alarm_cycle = cycle + HP_CLUSTER_PREPROD_STATE_IDLE_CYCLES\n",
    "                                else:\n",
    "                                    cluster_meta.state = ClusterState.DEAD\n",
    "                                    cluster_meta.alarm_cycle = None\n",
    "                                    \n",
    "                                new_cluster_states[cluster_meta.state.name] += 1\n",
    "                        \n",
    "                            LOG(f'Promoted {len(cluster_metas_to_promote)} clusters: {new_cluster_states}')\n",
    "                    \n",
    "                        ### Verify PREPROD clusters against new signals\n",
    "                        preprod_cluster_metas = list(filter(lambda c: c.state == ClusterState.PREPROD, CLUSTER_METAS.values()))\n",
    "                        preprod_cluster_inds = np.array(list(map(lambda c: c.cluster_ind, preprod_cluster_metas)), dtype='i')\n",
    "                        preprod_cluster_ones_counts = xp.array(list(map(lambda c: c.ones_count, preprod_cluster_metas)), dtype='f')\n",
    "                        preprod_cluster_output_bits = np.array(list(map(lambda c: c.output_bit, preprod_cluster_metas)), dtype='i')\n",
    "                        preprod_clusters = CLUSTERS.array_active[preprod_cluster_inds]\n",
    "                        verified_cluster_inds = set()\n",
    "                        \n",
    "                        for signal_input, signal_output, signal_image_id in zip(signals_input, signals_output, cycle_image_ids):\n",
    "                            activated_clusters_mask = xp_array_from_gpu((preprod_clusters @ signal_input) >= preprod_cluster_ones_counts)\n",
    "                            # cast array of output_bit numbers [0, 3, 4, 7, 7, 0, 3, 32, ..] to TP array [True, False, False, True, True, True, False, False, ...]\n",
    "                            # where True if output_bit of preprod_cluster is enabled in signal_output and False otherwise\n",
    "                            preprod_cluster_output_bits_tf = signal_output[preprod_cluster_output_bits] != 0\n",
    "                            \n",
    "                            for cluster_ind, tf in zip(preprod_cluster_inds[activated_clusters_mask], preprod_cluster_output_bits_tf[activated_clusters_mask]):\n",
    "                                tf = bool(tf) # not mandatory, but eases further inspections by eyes\n",
    "                                signal_image_id = int(signal_image_id)\n",
    "                                cluster_meta = CLUSTER_METAS[cluster_ind]\n",
    "                    \n",
    "                                if not signal_image_id in cluster_meta.verify_image_ids:\n",
    "                                    cluster_meta.stats[tf] += 1\n",
    "                                    cluster_meta.verify_image_ids[signal_image_id] = tf\n",
    "                                    cluster_meta.alarm_cycle = cycle + HP_CLUSTER_PREPROD_STATE_IDLE_CYCLES\n",
    "                                    verified_cluster_inds.add(cluster_ind)\n",
    "                    \n",
    "                        LOG(f'Verified {len(verified_cluster_inds)} clusters')\n",
    "\n",
    "                        \n",
    "                        ### Weed the garden\n",
    "                        ready_for_prod_cluster_metas = list(filter(lambda c: (c.state == ClusterState.PREPROD) and (c.stats.total() >= HP_CLUSTER_PREPROD_STATE_SIGNALS_PROCESSED_THRES), CLUSTER_METAS.values()))\n",
    "                        accurate_ready_for_prod_cluster_metas = filter(lambda c: c.stats[True] / c.stats.total() >= HP_CLUSTER_ACCURACY_THRES, ready_for_prod_cluster_metas)\n",
    "                        unneeded_cluster_metas = list(filter(lambda c: c.stats[True] / c.stats.total() < HP_CLUSTER_ACCURACY_THRES, ready_for_prod_cluster_metas))\n",
    "                        \n",
    "                        for cluster_meta in accurate_ready_for_prod_cluster_metas:\n",
    "                            assert cluster_meta.ones_count >= HP_CLUSTER_ONES_COUNT_THRES\n",
    "                            cluster_key_for_prod = get_cluster_key(cluster_meta.output_bit, np.argwhere(CLUSTERS.array_active[cluster_meta.cluster_ind]).ravel())\n",
    "                    \n",
    "                            if cluster_key_for_prod in unique_prod_cluster_keys:\n",
    "                                unneeded_cluster_metas.append(cluster_meta)\n",
    "                                continue\n",
    "                                \n",
    "                            cluster_meta.state = ClusterState.PROD\n",
    "                            cluster_meta.alarm_cycle = None\n",
    "                            unique_prod_cluster_keys.add(cluster_key_for_prod)\n",
    "                    \n",
    "                        unneeded_cluster_metas.extend(filter(lambda m: m.alarm_cycle is not None and m.alarm_cycle < cycle, CLUSTER_METAS.values()))\n",
    "                        unneeded_cluster_metas.extend(filter(lambda m: m.state == ClusterState.DEAD, CLUSTER_METAS.values()))\n",
    "                        \n",
    "                        for cluster_meta in unneeded_cluster_metas:\n",
    "                            cluster_ind = cluster_meta.cluster_ind\n",
    "                            del CLUSTER_KEY_TO_CLUSTER_IND[cluster_meta.cluster_key]\n",
    "                            del CLUSTER_METAS[cluster_ind]\n",
    "                            CLUSTERS.release(cluster_ind)\n",
    "                            CLUSTER_MASKS.release(cluster_ind)\n",
    "                    \n",
    "                        LOG(f'Removed {len(unneeded_cluster_metas)} loser clusters')\n",
    "                        # gc_memory()\n",
    "\n",
    "                ## Persist mined prod clusters for output bits (OBITS)\n",
    "                prod_cluster_metas_per_output_bit = defaultdict(list)\n",
    "                \n",
    "                for meta in filter(lambda m: m.state == ClusterState.PROD, CLUSTER_METAS.values()):\n",
    "                    prod_cluster_metas_per_output_bit[meta.output_bit].append(meta)\n",
    "\n",
    "                for output_bit, metas in prod_cluster_metas_per_output_bit.items():\n",
    "                    cluster_inds = np.array(list(map(lambda m: m.cluster_ind, metas)), dtype='i')\n",
    "                    # Leave only super clusters, i.e. clusters which are not subsets of any other clusters\n",
    "                    clusters = CLUSTERS.array_active[cluster_inds]\n",
    "                    crossings = (clusters @ clusters.T)\n",
    "                    cluster_ones_counts = clusters.sum(axis=1)\n",
    "                    crossings[xp.diag_indices_from(crossings)] = 0\n",
    "                    super_clusters_mask = ~xp.any((crossings.T >= cluster_ones_counts).T, axis=1)\n",
    "\n",
    "                    clusters = xp_array_from_gpu(clusters[super_clusters_mask])\n",
    "                    super_clusters_mask = xp_array_from_gpu(super_clusters_mask)\n",
    "                    \n",
    "                    pickled_clusters = pickle.dumps(clusters)\n",
    "                    pickled_metas = pickle.dumps(list(map(lambda x: x[1], filter(lambda x: x[0], zip(super_clusters_mask, metas)))))\n",
    "                    # Changing autocommit to False will open a new transaction, and changing it to True will commit any pending transaction.\n",
    "                    # https://docs.python.org/3/library/sqlite3.html#connection-objects\n",
    "                    transfs_db_con.autocommit = False\n",
    "                    transfs_db_con.execute('DELETE FROM clusters WHERE encoding=:encoding AND transf_code=:transf_code AND output_bit=:output_bit',\n",
    "                                           {'encoding': HP_SIGNAL_ENCODING, 'transf_code': transf_code, 'output_bit': output_bit})\n",
    "                    transfs_db_con.execute('INSERT INTO clusters (encoding, transf_code, output_bit, sbv, meta) VALUES (:encoding, :transf_code, :output_bit, :sbv, :meta)',\n",
    "                                           {'encoding': HP_SIGNAL_ENCODING, 'transf_code': transf_code, 'output_bit': output_bit, 'sbv': pickled_clusters, 'meta': pickled_metas})\n",
    "                    transfs_db_con.autocommit = True\n",
    "                    LOG(f'Persisted {clusters.shape[0]} super clusters for output bit {output_bit} of total {cluster_inds.shape[0]} clusters')"
   ]
  },
  {
   "cell_type": "code",
   "execution_count": 118,
   "id": "cf723882-55c0-49d9-acb7-e50274d2201b",
   "metadata": {},
   "outputs": [
    {
     "data": {
      "image/png": "[encoded data removed]",
      "text/plain": [
       "<Figure size 1200x480 with 2 Axes>"
      ]
     },
     "metadata": {},
     "output_type": "display_data"
    }
   ],
   "source": [
    "signal_ind = RNG.choice(signals_input.shape[0])\n",
    "# signal_ind = 0\n",
    "signal_input = xp_array_from_gpu(signals_input[signal_ind])\n",
    "signal_output = signals_output[signal_ind]\n",
    "\n",
    "if use_toy_images:\n",
    "    signal_input = toy_image_sbv_to_bv(signal_input)\n",
    "    signal_output = toy_image_sbv_to_bv(signal_output)\n",
    "else:\n",
    "    signal_input = seq_sbv_to_bv(signal_input)\n",
    "    signal_output = seq_sbv_to_bv(signal_output)\n",
    "    \n",
    "fig, (ax1, ax2) = plt.subplots(1, 2)\n",
    "fig.set_figwidth(12)\n",
    "ax1.imshow(vec_to_square_matrix(signal_input))\n",
    "ax2.imshow(vec_to_square_matrix(signal_output));"
   ]
  },
  {
   "cell_type": "markdown",
   "id": "c4e073c2-0c90-4248-a9fc-57f4f063892f",
   "metadata": {},
   "source": [
    "# Test"
   ]
  },
  {
   "cell_type": "code",
   "execution_count": 264,
   "id": "e2f16c68-f0ed-426c-b7bb-3790e51e3e83",
   "metadata": {},
   "outputs": [
    {
     "data": {
      "text/plain": [
       "[0, 1, 2, 3, 4, 5, 6, 7, 8, 9]"
      ]
     },
     "execution_count": 264,
     "metadata": {},
     "output_type": "execute_result"
    }
   ],
   "source": [
    "list(CLUSTER_METAS.keys())[:10]"
   ]
  },
  {
   "cell_type": "code",
   "execution_count": 267,
   "id": "8bd121e0-acec-4f37-b1fd-80849244c03d",
   "metadata": {},
   "outputs": [
    {
     "data": {
      "text/plain": [
       "{'state': <ClusterState.PROD: 'prod'>,\n",
       " 'cluster_ind': 9,\n",
       " 'cluster_key': (24, (16, 33, 72, 105, 147, 152, 251)),\n",
       " 'output_bit': 24,\n",
       " 'nu': np.float64(0.14285714285714285),\n",
       " 'cycle': 29,\n",
       " 'ones_count': 5,\n",
       " 'signals_processed': 68,\n",
       " 'stats': Counter({True: 10, False: 1}),\n",
       " 'verify_image_ids': {150635274584068: True,\n",
       "  290275373662212: True,\n",
       "  909727129023824900: True,\n",
       "  9242521200084648968: False,\n",
       "  36284957484038: True,\n",
       "  13510807489364996: True,\n",
       "  4611691517596156932: True,\n",
       "  4538786146960460: True,\n",
       "  9223512825884327937: True,\n",
       "  9223372037140006028: True,\n",
       "  11673330251328929793: True},\n",
       " 'alarm_cycle': None}"
      ]
     },
     "execution_count": 267,
     "metadata": {},
     "output_type": "execute_result"
    }
   ],
   "source": [
    "vars(CLUSTER_METAS[9])"
   ]
  },
  {
   "cell_type": "code",
   "execution_count": 251,
   "id": "5175b5c1-2cf3-4a31-b471-269694674987",
   "metadata": {},
   "outputs": [
    {
     "data": {
      "application/vnd.jupyter.widget-view+json": {
       "model_id": "c61452acde0f4b0da26f9d6678c0ead0",
       "version_major": 2,
       "version_minor": 0
      },
      "text/plain": [
       "  0%|          | 0/199 [00:00<?, ?it/s]"
      ]
     },
     "metadata": {},
     "output_type": "display_data"
    },
    {
     "data": {
      "text/plain": [
       "(54331, (54331, 256))"
      ]
     },
     "execution_count": 251,
     "metadata": {},
     "output_type": "execute_result"
    }
   ],
   "source": [
    "clear_memory(with_caches=True)\n",
    "\n",
    "df_clusters = pd.read_sql('SELECT output_bit, sbv, meta FROM clusters WHERE encoding=:encoding AND transf_code=:transf_code', \n",
    "                          params={\n",
    "                              'encoding': HP_SIGNAL_ENCODING, \n",
    "                              'transf_code': transf_code},\n",
    "                          con=transfs_db_con)\n",
    "                \n",
    "for cluster_row in tqdm(df_clusters.itertuples(), total=len(df_clusters)):\n",
    "    prod_clusters_for_output_bit = pickle.loads(cluster_row.sbv)\n",
    "    # prod_cluster_ones_counts_for_output_bit = prod_clusters_for_output_bit.sum(axis=1)\n",
    "    # assert prod_clusters_for_output_bit.shape[0] == len(prod_cluster_metas_for_output_bit)\n",
    "    prod_cluster_metas_for_output_bit = pickle.loads(cluster_row.meta)\n",
    "\n",
    "    # crossings = (prod_clusters_for_output_bit @ prod_clusters_for_output_bit.T)\n",
    "    # crossings[np.diag_indices_from(crossings)] = 0\n",
    "    # mask = ~np.any((crossings.T >= prod_cluster_ones_counts_for_output_bit).T, axis=1)\n",
    "\n",
    "    # for mask_value, cluster, meta in zip(mask, prod_clusters_for_output_bit, prod_cluster_metas_for_output_bit):\n",
    "    for cluster, meta in zip(prod_clusters_for_output_bit, prod_cluster_metas_for_output_bit):\n",
    "        # if not mask_value:\n",
    "        #     continue\n",
    "            \n",
    "        cluster = xp_array_to_gpu(cluster)\n",
    "        cluster_ind = CLUSTERS.lease()\n",
    "        assert CLUSTER_MASKS.lease() == cluster_ind\n",
    "        meta.cluster_ind = cluster_ind\n",
    "        CLUSTERS.array_active[cluster_ind] = cluster\n",
    "        CLUSTER_MASKS.array_active[cluster_ind] = cluster\n",
    "        CLUSTER_METAS[cluster_ind] = meta\n",
    "        cluster_key = get_cluster_key(meta.output_bit, np.argwhere(cluster).ravel())\n",
    "        CLUSTER_KEY_TO_CLUSTER_IND[cluster_key] = cluster_ind\n",
    "\n",
    "len(CLUSTER_METAS), CLUSTERS.array_active.shape"
   ]
  },
  {
   "cell_type": "code",
   "execution_count": 252,
   "id": "f2005f19-90c6-489f-9680-f0b72b97bc5c",
   "metadata": {},
   "outputs": [
    {
     "data": {
      "text/plain": [
       "(54331, 256)"
      ]
     },
     "execution_count": 252,
     "metadata": {},
     "output_type": "execute_result"
    }
   ],
   "source": [
    "# prod_cluster_metas = list(filter(lambda c: c.state == ClusterState.PROD and c.stats[True] > 5, CLUSTER_METAS.values()))\n",
    "prod_cluster_metas = list(filter(lambda c: c.state == ClusterState.PROD, CLUSTER_METAS.values()))\n",
    "prod_cluster_inds = np.array(list(map(lambda c: c.cluster_ind, prod_cluster_metas)), dtype='i')\n",
    "prod_cluster_ones_counts = xp.array(list(map(lambda c: c.ones_count, prod_cluster_metas)), dtype='f')\n",
    "prod_cluster_output_bits = np.array(list(map(lambda c: c.output_bit, prod_cluster_metas)), dtype='i')\n",
    "prod_clusters = CLUSTERS.array_active[prod_cluster_inds]\n",
    "prod_clusters.shape"
   ]
  },
  {
   "cell_type": "code",
   "execution_count": 260,
   "id": "f5f56508-9e19-4911-b739-a04452cf59d4",
   "metadata": {},
   "outputs": [
    {
     "data": {
      "image/png": "[encoded data removed]",
      "text/plain": [
       "<Figure size 1200x480 with 2 Axes>"
      ]
     },
     "metadata": {},
     "output_type": "display_data"
    }
   ],
   "source": [
    "toy_image_id = get_random_toy_image_ids(1)[0]\n",
    "toy_image = get_toy_image(toy_image_id)\n",
    "\n",
    "toy_image_sbv = calc_toy_image_sbv(toy_image)\n",
    "toy_image_sbv = xp_array_to_gpu(toy_image_sbv)\n",
    "\n",
    "activated_clusters_mask = (prod_clusters @ toy_image_sbv) >= prod_cluster_ones_counts\n",
    "activated_clusters_mask = xp_array_from_gpu(activated_clusters_mask)\n",
    "values = Counter(prod_cluster_output_bits[activated_clusters_mask])\n",
    "toy_image_sbv_out = np.zeros_like(toy_image_sbv)\n",
    "# seq_sbv_out[list(values.keys())] = list(values.values())\n",
    "toy_image_sbv_out[list(values.keys())] = 1\n",
    "\n",
    "fig, (ax1, ax2) = plt.subplots(1, 2)\n",
    "fig.set_figwidth(12)\n",
    "ax1.imshow(vec_to_square_matrix(toy_image_sbv_to_bv(toy_image_sbv)))\n",
    "ax2.imshow(vec_to_square_matrix(toy_image_sbv_to_bv(toy_image_sbv_out)));"
   ]
  },
  {
   "cell_type": "code",
   "execution_count": 263,
   "id": "bd3d6124-ae28-47e5-9877-7bf2eb87d8c3",
   "metadata": {},
   "outputs": [
    {
     "data": {
      "image/png": "[encoded data removed]",
      "text/plain": [
       "<Figure size 1600x480 with 2 Axes>"
      ]
     },
     "metadata": {},
     "output_type": "display_data"
    }
   ],
   "source": [
    "fig, (ax1, ax2) = plt.subplots(2, 1)\n",
    "fig.set_figwidth(16)\n",
    "\n",
    "toy_image_transf = np.roll(toy_image.reshape(HP_TOY_IMAGE_SIZE, -1), 1, axis=1).ravel()\n",
    "toy_image_transf_sbv = calc_toy_image_sbv(toy_image_transf)\n",
    "\n",
    "ax1.set_title(f'non_zero_bits={toy_image_transf_sbv.sum()}')\n",
    "ax1.imshow(np.ones((100, 1)) * xp_array_from_gpu(toy_image_transf_sbv));\n",
    "ax2.set_title(f'non_zero_bits={toy_image_sbv_out.sum()}')\n",
    "ax2.imshow(np.ones((100, 1)) * xp_array_from_gpu(toy_image_sbv_out));"
   ]
  },
  {
   "cell_type": "code",
   "execution_count": 39,
   "id": "9a743124-b134-445f-8a7c-de08006155f1",
   "metadata": {},
   "outputs": [],
   "source": [
    "# inspected_ind = 0\n",
    "# cluster_ind = prod_cluster_inds[inspected_ind]\n",
    "# get_cluster_logic(cluster_ind), vars(CLUSTER_METAS[cluster_ind])"
   ]
  },
  {
   "cell_type": "code",
   "execution_count": 86,
   "id": "7cb47b56-9290-45e7-990a-d8c4f330b756",
   "metadata": {},
   "outputs": [
    {
     "name": "stdout",
     "output_type": "stream",
     "text": [
      "3697 ([(12, 9), (11, 11), (24, 15)], (12, 16)) [[300]\n",
      " [363]\n",
      " [504]]\n"
     ]
    }
   ],
   "source": [
    "for ind in np.argwhere(activated_clusters_mask).ravel():\n",
    "    cl = get_cluster_logic(prod_cluster_inds[ind])\n",
    "\n",
    "    if cl[1][1] == 16 and cl[1][0] < 15:\n",
    "        print(ind, cl, np.argwhere(CLUSTERS.array_active[prod_cluster_inds[3697]]))"
   ]
  },
  {
   "cell_type": "code",
   "execution_count": 53,
   "id": "da374d86-709e-4d82-bc2a-82e50dd790fe",
   "metadata": {},
   "outputs": [
    {
     "data": {
      "text/plain": [
       "Counter({np.int32(174): 4,\n",
       "         np.int32(1639): 3,\n",
       "         np.int32(421): 1,\n",
       "         np.int32(628): 1,\n",
       "         np.int32(788): 1,\n",
       "         np.int32(860): 1,\n",
       "         np.int32(921): 1,\n",
       "         np.int32(1130): 1,\n",
       "         np.int32(1195): 1,\n",
       "         np.int32(1525): 1,\n",
       "         np.int32(1816): 1,\n",
       "         np.int32(229): 1,\n",
       "         np.int32(303): 1,\n",
       "         np.int32(372): 1,\n",
       "         np.int32(373): 1})"
      ]
     },
     "execution_count": 53,
     "metadata": {},
     "output_type": "execute_result"
    },
    {
     "data": {
      "image/png": "[encoded data removed]",
      "text/plain": [
       "<Figure size 1200x480 with 2 Axes>"
      ]
     },
     "metadata": {},
     "output_type": "display_data"
    }
   ],
   "source": [
    "# %%time\n",
    "image_id = RNG.choice(df_train_images.index)\n",
    "image = next(df_train_images.loc[[image_id]].itertuples())\n",
    "si_ind_dict = pickle.loads(image.inner_si_ind_dict)\n",
    "sequences = pickle.loads(image.inner_sequences)\n",
    "seq = get_sequence(sequences)\n",
    "seq_xy = get_xy_sequence(seq, si_ind_dict)\n",
    "seq_sbv = calc_seq_sbv(seq_xy)\n",
    "seq_sbv = xp_array_to_gpu(seq_sbv)\n",
    "\n",
    "activated_clusters_mask = (prod_clusters @ seq_sbv) >= prod_cluster_ones_counts\n",
    "activated_clusters_mask = xp_array_from_gpu(activated_clusters_mask)\n",
    "values = Counter(prod_cluster_output_bits[activated_clusters_mask])\n",
    "seq_sbv_out = np.zeros_like(seq_sbv)\n",
    "# seq_sbv_out[list(values.keys())] = list(values.values())\n",
    "seq_sbv_out[list(values.keys())] = 1\n",
    "\n",
    "# # seq_bv_out[prod_cluster_output_bits[activated_clusters_mask]] = 1\n",
    "# seq_bv_out = xp.where(seq_bv_out > seq_bv_out.mean(), 1, 0)\n",
    "# # seq_bv_out = xp.where(seq_bv_out > np.median(seq_bv_out), 1, 0)\n",
    "\n",
    "fig, (ax1, ax2) = plt.subplots(1, 2)\n",
    "fig.set_figwidth(12)\n",
    "ax1.imshow(vec_to_square_matrix(seq_sbv_to_bv(seq_sbv)))\n",
    "ax2.imshow(vec_to_square_matrix(seq_sbv_to_bv(seq_sbv_out)))\n",
    "\n",
    "#np.unique_counts(prod_clusters.sum(axis=1).get())\n",
    "values"
   ]
  },
  {
   "cell_type": "code",
   "execution_count": 55,
   "id": "2c1d2e99-712e-464b-8663-d874155ea878",
   "metadata": {},
   "outputs": [
    {
     "data": {
      "text/plain": [
       "np.int64(347)"
      ]
     },
     "execution_count": 55,
     "metadata": {},
     "output_type": "execute_result"
    }
   ],
   "source": [
    "xp_array_from_gpu(seq_sbv).sum()"
   ]
  },
  {
   "cell_type": "code",
   "execution_count": 56,
   "id": "4c2f51df-bb23-4d07-bce9-02bd930ba70f",
   "metadata": {},
   "outputs": [
    {
     "data": {
      "image/png": "[encoded data removed]",
      "text/plain": [
       "<Figure size 1600x480 with 2 Axes>"
      ]
     },
     "metadata": {},
     "output_type": "display_data"
    }
   ],
   "source": [
    "fig, (ax1, ax2) = plt.subplots(2, 1)\n",
    "fig.set_figwidth(16)\n",
    "ax1.imshow(np.ones((100, 1)) * xp_array_from_gpu(seq_sbv));\n",
    "ax2.imshow(np.ones((100, 1)) * xp_array_from_gpu(seq_sbv_out));"
   ]
  },
  {
   "cell_type": "code",
   "execution_count": null,
   "id": "6cc119b7-ff88-4898-8760-116f2f55cf5e",
   "metadata": {},
   "outputs": [],
   "source": []
  }
 ],
 "metadata": {
  "kernelspec": {
   "display_name": "Python 3 (ipykernel)",
   "language": "python",
   "name": "python3"
  },
  "language_info": {
   "codemirror_mode": {
    "name": "ipython",
    "version": 3
   },
   "file_extension": ".py",
   "mimetype": "text/x-python",
   "name": "python",
   "nbconvert_exporter": "python",
   "pygments_lexer": "ipython3",
   "version": "3.12.9"
  }
 },
 "nbformat": 4,
 "nbformat_minor": 5
}
