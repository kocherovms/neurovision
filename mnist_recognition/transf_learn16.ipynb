{
 "cells": [
  {
   "cell_type": "code",
   "execution_count": 1,
   "id": "27532844-1826-4299-b063-16a22e592f3f",
   "metadata": {},
   "outputs": [],
   "source": [
    "import os, math\n",
    "from enum import StrEnum, auto\n",
    "from collections import defaultdict, namedtuple, Counter, deque\n",
    "from dataclasses import dataclass\n",
    "import typing\n",
    "import itertools\n",
    "import sqlite3\n",
    "import pickle\n",
    "import datetime\n",
    "import multiprocessing as mp\n",
    "import queue\n",
    "import gc\n",
    "import json\n",
    "import decimal\n",
    "from IPython.core.getipython import get_ipython\n",
    "\n",
    "from PIL import Image, ImageDraw\n",
    "from tqdm.notebook import tqdm\n",
    "\n",
    "from sklearn.model_selection import train_test_split\n",
    "from sklearn.decomposition import PCA\n",
    "import matplotlib.pyplot as plt\n",
    "import matplotlib as mpl\n",
    "import scipy\n",
    "import numpy as np\n",
    "import cupy as cp\n",
    "import pandas as pd\n",
    "\n",
    "from module.utils import *\n",
    "from module.hdc import *\n",
    "from module.constants import *"
   ]
  },
  {
   "cell_type": "code",
   "execution_count": 2,
   "id": "73358262-adf2-4d17-a383-f120a5d1f8aa",
   "metadata": {},
   "outputs": [
    {
     "name": "stdout",
     "output_type": "stream",
     "text": [
      "xp = cupy\n",
      "transf_learn16.ipynb\n"
     ]
    }
   ],
   "source": [
    "LOG = Logging()\n",
    "\n",
    "config_var = 'SQLITE3_SEQ_GRID_0_2_4096'\n",
    "config = Config(config_var)\n",
    "RNG = np.random.default_rng()\n",
    "\n",
    "if cp.cuda.is_available():\n",
    "    xp = cp.get_array_module(cp.empty(1))\n",
    "    xp_array_from_gpu = lambda a: a.get() if isinstance(a, cp.ndarray) else a\n",
    "    xp_array_to_gpu = lambda a: cp.asarray(a) if isinstance(a, np.ndarray) else a\n",
    "    xp_array_to_gpu_copy = lambda a: cp.asarray(a) if isinstance(a, np.ndarray) else a\n",
    "else:\n",
    "    xp = cp.get_array_module(np.empty(1))\n",
    "    xp_array_from_gpu = lambda a: a\n",
    "    xp_array_to_gpu = lambda a: a\n",
    "    xp_array_to_gpu_copy = lambda a: a.copy()\n",
    "\n",
    "print(f'xp = {xp.__name__}')\n",
    "\n",
    "with open(get_ipython().kernel.config['IPKernelApp']['connection_file'], 'r') as cf:\n",
    "    notebook_fname = json.load(cf)['jupyter_session']\n",
    "    notebook_fname = os.path.basename(notebook_fname)\n",
    "\n",
    "print(notebook_fname)"
   ]
  },
  {
   "cell_type": "code",
   "execution_count": 3,
   "id": "656ee6b7-3982-4f99-9251-6b67fef36ae3",
   "metadata": {},
   "outputs": [],
   "source": [
    "%run sequencing_sp2.ipynb # req-d for sequences depickling"
   ]
  },
  {
   "cell_type": "markdown",
   "id": "d5c8f88a-5403-4177-b5fc-e0e2a1da9c2d",
   "metadata": {},
   "source": [
    "# Data Loading"
   ]
  },
  {
   "cell_type": "code",
   "execution_count": 4,
   "id": "d2dd62ab-b44e-4251-9e86-d41b3672e36e",
   "metadata": {},
   "outputs": [
    {
     "name": "stdout",
     "output_type": "stream",
     "text": [
      "CPU times: user 9 μs, sys: 0 ns, total: 9 μs\n",
      "Wall time: 19.1 μs\n"
     ]
    }
   ],
   "source": [
    "%time\n",
    "train_db_con = sqlite3.connect(DBUtils.get_full_db_file_name(config, config.train_db_file_name))\n",
    "test_db_con = sqlite3.connect(DBUtils.get_full_db_file_name(config, config.test_db_file_name))\n",
    "\n",
    "test_results_db_con = sqlite3.connect(DBUtils.get_full_db_file_name(config, config.test_results_db_file_name, with_prefix=False), autocommit=True)\n",
    "test_results_db_con.execute('CREATE TABLE IF NOT EXISTS test_runs(test_run_id INTEGER PRIMARY KEY, dummy)')\n",
    "\n",
    "transfs_db_con = sqlite3.connect(DBUtils.get_full_db_file_name(config, config.transfs_db_file_name, with_prefix=False), autocommit=True)\n",
    "transfs_db_con.execute('CREATE TABLE IF NOT EXISTS features(encoding, type, x, y, radius, angle, bitmap_mask_nzb, nzb)')\n",
    "transfs_db_con.execute('CREATE TABLE IF NOT EXISTS points(encoding, count, non_zero_bits, output_bit, nzb_list)')\n",
    "transfs_db_con.execute('CREATE TABLE IF NOT EXISTS clusters(encoding, transf_code, output_bit, metas, nzb_list)');"
   ]
  },
  {
   "cell_type": "code",
   "execution_count": 5,
   "id": "2683b5d5-b74a-4e0c-8f19-032bc1eab29d",
   "metadata": {},
   "outputs": [],
   "source": [
    "# df_points = pd.read_sql('SELECT ROWID, points FROM points', con=transfs_db_con)\n",
    "\n",
    "# for points_row in tqdm(df_points.itertuples(), total=len(df_points)):\n",
    "#     row_id = int(points_row.rowid)\n",
    "#     points = pickle.loads(points_row.points)\n",
    "#     nzb_list = list(map(lambda p: np.flatnonzero(p), points))\n",
    "#     transfs_db_con.execute('UPDATE points SET nzb_list=:nzb_list WHERE ROWID=:rowid', {'nzb_list': pickle.dumps(nzb_list), 'rowid': row_id})"
   ]
  },
  {
   "cell_type": "code",
   "execution_count": 6,
   "id": "217a5762-dbb2-4a14-9e08-0cebecbbb2a5",
   "metadata": {},
   "outputs": [],
   "source": [
    "# df_points = pd.read_sql('SELECT ROWID, nzb_list FROM points', con=transfs_db_con)\n",
    "\n",
    "# for points_row in tqdm(df_points.itertuples(), total=len(df_points)):\n",
    "#     row_id = int(points_row.rowid)\n",
    "#     nzb_list = pickle.loads(points_row.nzb_list)\n",
    "#     nzb_list = list(map(lambda nzb: list(map(int, nzb)), nzb_list))\n",
    "#     transfs_db_con.execute('UPDATE points SET nzb_list=:nzb_list WHERE ROWID=:rowid', {'nzb_list': pickle.dumps(nzb_list), 'rowid': row_id})"
   ]
  },
  {
   "cell_type": "code",
   "execution_count": 7,
   "id": "5751b028-6879-45a5-a950-7474ff3ebae3",
   "metadata": {},
   "outputs": [],
   "source": [
    "# df_features = pd.read_sql('SELECT ROWID, sbv FROM features', con=transfs_db_con)\n",
    "\n",
    "# for feature_row in tqdm(df_features.itertuples(), total=len(df_features)):\n",
    "#     row_id = int(feature_row.rowid)\n",
    "#     feature = pickle.loads(feature_row.sbv)\n",
    "#     nzb = np.flatnonzero(feature)\n",
    "#     transfs_db_con.execute('UPDATE features SET nzb=:nzb WHERE ROWID=:rowid', {'nzb': pickle.dumps(nzb), 'rowid': row_id})"
   ]
  },
  {
   "cell_type": "code",
   "execution_count": 8,
   "id": "9ff404ba-8935-4e20-b1f6-20bc8e5473cb",
   "metadata": {},
   "outputs": [],
   "source": [
    "# df_features = pd.read_sql('SELECT ROWID, nzb FROM features', con=transfs_db_con)\n",
    "\n",
    "# for feature_row in tqdm(df_features.itertuples(), total=len(df_features)):\n",
    "#     row_id = int(feature_row.rowid)\n",
    "#     nzb = pickle.loads(feature_row.nzb)\n",
    "#     nzb = list(map(int, nzb))\n",
    "#     transfs_db_con.execute('UPDATE features SET nzb=:nzb WHERE ROWID=:rowid', {'nzb': pickle.dumps(nzb), 'rowid': row_id})"
   ]
  },
  {
   "cell_type": "code",
   "execution_count": 9,
   "id": "9404f082-1a15-42da-afa4-60b935eb499c",
   "metadata": {},
   "outputs": [],
   "source": [
    "# df_features = pd.read_sql('SELECT ROWID, bitmap_mask_nzb FROM features', con=transfs_db_con)\n",
    "\n",
    "# for feature_row in tqdm(df_features.itertuples(), total=len(df_features)):\n",
    "#     row_id = int(feature_row.rowid)\n",
    "#     bitmap_mask_nzb = pickle.loads(feature_row.bitmap_mask_nzb)\n",
    "#     bitmap_mask_nzb = list(map(int, bitmap_mask_nzb))\n",
    "#     transfs_db_con.execute('UPDATE features SET bitmap_mask_nzb=:bitmap_mask_nzb WHERE ROWID=:rowid', {'bitmap_mask_nzb': pickle.dumps(bitmap_mask_nzb), 'rowid': row_id})"
   ]
  },
  {
   "cell_type": "code",
   "execution_count": 10,
   "id": "f2e2207b-2da2-49a6-a8e8-85cf554cc705",
   "metadata": {},
   "outputs": [],
   "source": [
    "# df_clusters = pd.read_sql('SELECT ROWID, sbv FROM clusters', con=transfs_db_con)\n",
    "\n",
    "# for clusters_row in tqdm(df_clusters.itertuples(), total=len(df_clusters)):\n",
    "#     row_id = int(clusters_row.rowid)\n",
    "#     clusters = pickle.loads(clusters_row.sbv)\n",
    "#     nzb_list = list(map(lambda c: np.flatnonzero(c), clusters))\n",
    "#     transfs_db_con.execute('UPDATE clusters SET nzb_list=:nzb_list WHERE ROWID=:rowid', {'nzb_list': pickle.dumps(nzb_list), 'rowid': row_id})"
   ]
  },
  {
   "cell_type": "code",
   "execution_count": 11,
   "id": "eeadc038-7f14-46af-8bc1-f9566d89da9a",
   "metadata": {},
   "outputs": [],
   "source": [
    "# df_clusters = pd.read_sql('SELECT ROWID, nzb_list FROM clusters', con=transfs_db_con)\n",
    "\n",
    "# for clusters_row in tqdm(df_clusters.itertuples(), total=len(df_clusters)):\n",
    "#     row_id = int(clusters_row.rowid)\n",
    "#     nzb_list = pickle.loads(clusters_row.nzb_list)\n",
    "#     nzb_list = list(map(lambda nzb: list(map(int, nzb)), nzb_list))\n",
    "#     transfs_db_con.execute('UPDATE clusters SET nzb_list=:nzb_list WHERE ROWID=:rowid', {'nzb_list': pickle.dumps(nzb_list), 'rowid': row_id})"
   ]
  },
  {
   "cell_type": "code",
   "execution_count": 12,
   "id": "075fb95e-af1f-4b14-9b2b-7d2046b51f69",
   "metadata": {},
   "outputs": [
    {
     "data": {
      "text/plain": [
       "((10000, 7), (2000, 7))"
      ]
     },
     "execution_count": 12,
     "metadata": {},
     "output_type": "execute_result"
    }
   ],
   "source": [
    "df_train_images = pd.read_sql_query('SELECT * FROM images', con=train_db_con, index_col='image_id')\n",
    "df_test_images = pd.read_sql_query('SELECT * FROM images', con=test_db_con, index_col='image_id')\n",
    "df_train_images.shape, df_test_images.shape"
   ]
  },
  {
   "cell_type": "code",
   "execution_count": 13,
   "id": "70b21219-4f16-4824-90ec-7bda1574c5d1",
   "metadata": {},
   "outputs": [
    {
     "data": {
      "text/html": [
       "<div style=\"\n",
       "        display: grid; \n",
       "        grid-template-columns: repeat(8, 128px);\n",
       "        column-gap: 1px;\n",
       "        row-gap: 1px;\">\n",
       "        \n",
       "            <figure style=\"margin: 5px !important;\">\n",
       "              <img src=\"data:image/png;base64,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\" style=\"height: auto\">\n",
       "              <figcaption style=\"font-size: 0.6em\">5</figcaption>\n",
       "            </figure>\n",
       "        \n",
       "            <figure style=\"margin: 5px !important;\">\n",
       "              <img src=\"data:image/png;base64,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\" style=\"height: auto\">\n",
       "              <figcaption style=\"font-size: 0.6em\">7</figcaption>\n",
       "            </figure>\n",
       "        \n",
       "            <figure style=\"margin: 5px !important;\">\n",
       "              <img src=\"data:image/png;base64,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\" style=\"height: auto\">\n",
       "              <figcaption style=\"font-size: 0.6em\">7</figcaption>\n",
       "            </figure>\n",
       "        \n",
       "            <figure style=\"margin: 5px !important;\">\n",
       "              <img src=\"data:image/png;base64,iVBORw0KGgoAAAANSUhEUgAAAIAAAACACAAAAADmVT4XAAAE0klEQVR4nO2ayXLjNhCGGwBXkeYiy5Y88kyqEldySc55/9fIbWY8Htvaae7YcqDGU5WbGiwyB/5HVRH81Gj86AYIMGnSpEmTJk2aNGlkEbPHqe3YFJRUUkiJGsEyA3BvVgsX6rx8y7JyDADv/q/fryB72T5/46MAuKs//57D7vNjwI97PQKAHa8fUlg4drN9cloMgSEAsdwAIL6tdmnoa6kuR6BmAFoJDgBhep1GoUPp5YvKFIDXJQB4UZwkse8gAAynQEveAIAzi5L5vFZaDQ0AoDUAgBemN/tWK36xG5kCnLOOeemHUqnmci8wjsBZbnrXqvp0GAuAONEtr3f+5TndF4AdJPXxyh0NACw/auLAGXwZvou5Mgx9e3AjehdhtmNbiNH6AtBSCiERu1FfUyDqbH/M28udsKcI6DbbfH/eV6MBAM82Ty+HEQFEnR1PJaIk6S8JBRfi8gD0BgBAKMHU+L35AGWMMQRBbxEglKJC0BuA1lpjquL+AJRSGILeVoFWEkXQG4CSUmL2gv4AhBByRB/QkrftCJ3Ru5TgbTumE2rFORcjRkArJTEzYAqAWvq9ApwJCCGEklGtmBDU+00BLNZ15ForJRUmBwyKUkIo85xuC1aSt017eW9sBsAsL/QdCgCgRFuVZSMGXYaEuVdx2AFIXhV5UQ8LQG3/Kg66flTwungbHMDxoyg4TwGvi7zC5IABAHPDKApcBgCgRV281XxYK2ZemMRhB6B4nWc1Zi8wWAWWH6fplUcBQLV1WRQNpio0AZilN4vIY6BUccryqkGd1xsA2NHt/YfrGVNVuX96OVaD3xc48d2nj/GMyvL16fPjrsGNYhoBx2ZtsX388nRs6NBTwPx4ngKAarPd9pAL3CgmVmzZLgCAlqJtUPWgIcB7L0YAcLWAKYCSAgCAEGb9qAsGBSBadWlHKGMjAOCj3hcA7kSkPwDKeiHAA3iejTmS+a+QRkSplUQB4nS+LwB7Fq6WqW8BdNUxfhUgAdzk9n59E3ZPE2qQD7ggUm++/nS/CM74GrQGZJOIA2B+slqv0llXD0reDL0XUC9ZrlepRwAAZFOcDqcSUZLjAZifLO+Wsdc1JfVp87p9Q92dY5PQDeY3y4VnE00ARHnavOzKFjUSAoAA+Mn8+noeM5AAALLJj4cM+X4EAPVmyfrjbRKw8ycwWjYl9v9jAKx4df/pYR3Z778o0SIrUhxA8ssfv368C34aj5YCWRCiAFj04beHZep34ScASkqB6wlwANSNFot5YHcLWGvVthxzSIwGIMz2fNdi3fuV5FXDkS6IAwBCyY+vVYhUbVnU3OCwEOOE+rz9AIAWTZ6XiAtTIwBK37/XUbx6y4pm0Ckg1HIcxzqbUFtkpxzXmGMBgDLrx0U9UU1+PGa1AQAqB36ehMjmbb8/VXgfQkRAi7rIHZdSCwBUddpuTuWgUyCL7aNXRr7nWQC0PTx/3xV8UIDTt6C5W14nlgVgtfuvX475oADi9FVlx5KD4wHocvv4tWkGzQGZv7RFrQihdgjZYfO6wd3ZogF0kylFLdLkWQTPX15PBhmIAlACQBNVPqdpAPt/vldG78cYkRagZbX1fd+BavuMLsY6IRoqAoRSxiilFKRoTfbiSZMmTZo0adKkSf8H/QvAdUkGQe7SoAAAAABJRU5ErkJggg==\" style=\"height: auto\">\n",
       "              <figcaption style=\"font-size: 0.6em\">1</figcaption>\n",
       "            </figure>\n",
       "        \n",
       "            <figure style=\"margin: 5px !important;\">\n",
       "              <img src=\"data:image/png;base64,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\" style=\"height: auto\">\n",
       "              <figcaption style=\"font-size: 0.6em\">5</figcaption>\n",
       "            </figure>\n",
       "        \n",
       "            <figure style=\"margin: 5px !important;\">\n",
       "              <img src=\"data:image/png;base64,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\" style=\"height: auto\">\n",
       "              <figcaption style=\"font-size: 0.6em\">0</figcaption>\n",
       "            </figure>\n",
       "        \n",
       "            <figure style=\"margin: 5px !important;\">\n",
       "              <img src=\"data:image/png;base64,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\" style=\"height: auto\">\n",
       "              <figcaption style=\"font-size: 0.6em\">4</figcaption>\n",
       "            </figure>\n",
       "        \n",
       "            <figure style=\"margin: 5px !important;\">\n",
       "              <img src=\"data:image/png;base64,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\" style=\"height: auto\">\n",
       "              <figcaption style=\"font-size: 0.6em\">4</figcaption>\n",
       "            </figure>\n",
       "        \n",
       "            <figure style=\"margin: 5px !important;\">\n",
       "              <img src=\"data:image/png;base64,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\" style=\"height: auto\">\n",
       "              <figcaption style=\"font-size: 0.6em\">9</figcaption>\n",
       "            </figure>\n",
       "        \n",
       "            <figure style=\"margin: 5px !important;\">\n",
       "              <img src=\"data:image/png;base64,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\" style=\"height: auto\">\n",
       "              <figcaption style=\"font-size: 0.6em\">6</figcaption>\n",
       "            </figure>\n",
       "        \n",
       "            <figure style=\"margin: 5px !important;\">\n",
       "              <img src=\"data:image/png;base64,iVBORw0KGgoAAAANSUhEUgAAAIAAAACACAAAAADmVT4XAAALGUlEQVR4nO2a2XbbOBKGqwBwFSlq9Zp00jPz/i8zF3NOetLxEnnRRpHiinUuJDuRnY5It7rnRnUjGyKBTwAK+KsAgKMd7WhHO9rRjna0o/2fDd/4GqWEEoLGaKW11sa8FYC98T0v6Pi+y0xdFFVZ1fzvBiDB2Xgw7LlqvZyvVkki9d8M4A8u35+fjztqeXc39ajWhfqbABAQEa2Ty19+ubwcd2RkEUYAqFNLqY2B1kPRDoAQymzP8/zzjx8uT0aRI8WAE8vp9IqK86oq6rbttwRA5njdwXjYOz0/G4Q+04p2hszvjtKyqopkMf+rAYjldcfvPr4/GQ26PjWCS+P0ve4gz6u6TGe2yFsTtAVwg/7Zh39d9gOXqlJpTVy3063ritdlEkBdx1XLWdB2CGw/iAajcWQDEC0kIhKjlOCSV5FLqL/MueBCCNmUoyUAdTzf9z3HBgCglraAUGOMklryKAyH75fper1ep1ljt2zdA67rMIIGAQAtMIgEwBhjtBb90fskjhez2exB878IgFiWxRgBTcEAMgRABESDaMBoKapk8XjXdRSvtABsMgwtFyIklDJKKdn8swEgT986AIHvWDbUFcey2fLcEsBorbUBRABAIAY2f36zAIC5RHBJSLNVqR2AMUop/V3Pvt7NPbB9rGuJRjXaIt+2GT3VjE9/fwOhnu3JvOBGViU/OABhtuvajJCXXxgABAMGEChl/ZNM6CrPZYPNqaUXWJ1uFHrWLgA+fyoNSCj6Y2kxnuda7IzXAQCI2x0M+x2bAACY1xNAcQ2EEjqwQqtKElHwvVqtHQD1eqNxv+NQAIDX3SvKQhqkzPG8COL7aamU3ueL7QDcoDccdH22+9vNpjdMtU5zrpHaPavjDof9KK253FdlCwAkzO8ORoNg2wFPxcYYJUVd8yxNcq6Aeidq5ILth0FR7XWE5gBImB/2RyeDjv0NAAEAtRJlGi/TJEmLWhoaXlZ1lCkn6Ob5XtnfAoC6YTQYjiKbkt3R17xMZpPJ4zLJylpoFi2VHgtOO2HqvHLYtwMwNxgMh4NegC92GVXnyXxy/WWySIqac8V60g8QBXV9lx2uB4gTjs7OR1331W8S2fzxfnJ7cx9npeAaQPZXaWQpZIzRH1X1NgDqj959+HAavn5BrG5+v36cThdZtZn0VVXXtZH65Ub15wBYMP7wz19O/W8l29p1ufjy78+LPCv40waslRAoVaOIsTmAP3r34XLo7ZYaNHU2u/n0KVVaGWPQAACCVpIorU0DguZD4ISD8aj7YlprxdP59OHh8XsFpjfxsmkyAo0BCLW9MAo9a7dSWSSz27vFekcBGkBCCWWU0v0IjQDQAFLmuJ5n0WcJsAFYP9xeT+Jd7YNIKGWKUoLkYG5ICLUcx37p1zJ9uL66T3clMCLCRio3iFWbAiBllu1a5EWVqljc38/XYvdhLXmtq7KsuTqQIEGg1LIdm75UgbqIH+6nq2K3UBTpkpXxcrmu9yrjhgBIGbNsG+CFClBFPH2YZbtPqzpbIubLOI33B0hNAQhljL5eWA3P0yR7WcrXc6Gz5SovDgUAuLEffkGtF1OAqCKuZRantRAHGoJtQPJ6RlF/eCEjYcyWTytRc2XKpJJFmou9gqwpgAEppVKvq7OH/1BnSSUVMkYQjaySOC6gUlTXpdjvAw0BDIDgdc25DwD4NA8NAthjHa3SvBTEti1Ew9OHCV1WvAYj5V5J3hgAjDGiLrLMt1+Icavvjor1OuPEcW0kpoojpnG1Ljk0TJ42XYiMKNP5I+1au65APLvD8ywT6LgWElMHqMC2Td04bdh4NxTZ7MaXp4MQ4DtJhoQyi1quJJZlATHCQhb2A8jzgwPI7CFArq0A4Qlhg0HARlshpQQRbGoFpydeOV/8BQAzSys77Ps7xQYMMGIbQERAYMzrqYGa3jyUhwZQ9Yoi6/a6421+5MkIwHfTggEAnZ+NhzOtGk3D5rJcFBRZxyN5GAYUcDsAP9rvO72zX9ZWXpRNZmJzAFWDRstU8cWl9+0n/yBEBtI5/VV406k4LIAWWmjgeSrcnv2t2LzuBO2Of0WH1o3yts0BjFJcG8GV2x91yHfNmudP3A6J2+dgqiTlDbJE7cLzigDSMOoo33WtTdETiJQa6UayUqerDE+Xa1nwvSnblkkqniPxHMiGo+FGHj53hK44dbdD42igPFlmOs70vnnQEkDzNdhMl+9IJ8AddVSlFVP2pluoS+xqFeca1N6UbdtEpZDG8VzbH29FyJMXrJeL3KpgsKmPUbc8jTMpynxfhqItABguNSB5UkdGayU5r1bzZc66i77vOJZlMcRgcFapKk2qPZqkfaKSOOFg2O9sXjRGiTJdxslyGZekEwbBYDTodjwbnN4FmGK5yA4OYIfji3enkb3NzshydX9787hI1hXajt1994+PZxoJY8GZbZJ7n+3xg/YATnd0cTHubia8FmUy//rp09dFVnJDkET/EoQQyijxHbe+j7x9DbQGQMvrDgZdd7Ma6zKe3V1fX3+Ny01CbmVHkee4nksYY/2ubzPycz9oDUAsN4y63jZTptK7q9svN9NVtu1otZpOHNsLDQBQz3UsRvRPI8TWANT2OmHobLdkGV//52oyS+rnNurlneX1xgYAgDFGKf25Nm99dGu7Xifw6dYNxer20++zon5OiKJaP9q9i80mYBAJJfjTo5vWZ0adIPA9GzaroKnT2d1d/F0+lsjc6iSFAAAwP4ok/hwAcfyoF3qbBdcYLfJ1En/fPmhRFXm5icikEFLuS9i3zJa70WgYeZvxN0oW6/W62MlHGyU437RveFnVXOxRZntTqbsAnf7JuLfNVRotiqz8oexBBACVr7OiPiyA5Q/G4/5TDxgtpSH2jiIijFmWxQgA5PFylVfikEOAdjg6Px8G25eQUNvvDQshpdYGAIxB5vhhN/Bsoqr53WSa7g2RWgEQJzp9/+5kC0AM87rjy4RmeVFLDcZoIJYXjUajyKc8/vr56uty32bYDoC60cnFxVMPIIVO/yzh3mK5yrgEo5UhXjQ+Px/3XKhnV79d3x4YAC2/NxxG20MzRKTdUa68wHPcShqjlaad0dnFxbBDxPrx5svNNOGHPTPanBs+RwWITncsbdcP00oZo6WmwfD04qRHy/Lx/v5+npSHPDMCeJ2lYf4A/O44zbkyoJUhfm84inxY5LfXd/OkOliOaGNGCV7XLmwSsAYBiBvZ0bisuDQGjDHo+GHoVuni4frLw6rc54NtAbSssjRlnr1dCADApp7eZOoBwABSZlkwzSZfrm9n67pBkqZdD4ginrpoqPVUQsjrCnSdLSY3X6dJ2eQCQTuAennrCkUDgD++h1ekq6vfr24fV43abxuazRjPMTz9ySPl/eTh6vOXySoXP3nqrQD1vM4q/+xD5w+f0NOr325ub+/ndaPgvC2A4GWF44+zkCE85yierjAYNCDnX68+X909LNOm9/taXuEAmS4mn8Mq8Ds2g+0k10ZrpaRQQtbzm/9eT2arvPH9wtaiVGYTv7o7uTjvOygVIIDWUvK6LIsyL/Ll4/39fL1/AXw7AFQPYnb9MQfSQSEAEZTkvCjSNElWqyRN0nXBRfMLZe0BeJxNH3PLswIUHBBBibrK1/EqXs4Xq6zmUrW51tgeQGtZCq/vq+ceELwqslWyipfLtGx7pfJt13iKxZWZuyglIIKWQtRllmfZel3sf/eFve1eMYb9XsDAbNSv1kpKXnNe180WnwMAUMbod+uAMcZoo82fuOB8tKMd7WhHO9rRjna0/5v9DyK/IX9gmzr5AAAAAElFTkSuQmCC\" style=\"height: auto\">\n",
       "              <figcaption style=\"font-size: 0.6em\">8</figcaption>\n",
       "            </figure>\n",
       "        \n",
       "            <figure style=\"margin: 5px !important;\">\n",
       "              <img src=\"data:image/png;base64,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\" style=\"height: auto\">\n",
       "              <figcaption style=\"font-size: 0.6em\">2</figcaption>\n",
       "            </figure>\n",
       "        \n",
       "            <figure style=\"margin: 5px !important;\">\n",
       "              <img src=\"data:image/png;base64,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\" style=\"height: auto\">\n",
       "              <figcaption style=\"font-size: 0.6em\">4</figcaption>\n",
       "            </figure>\n",
       "        \n",
       "            <figure style=\"margin: 5px !important;\">\n",
       "              <img src=\"data:image/png;base64,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\" style=\"height: auto\">\n",
       "              <figcaption style=\"font-size: 0.6em\">2</figcaption>\n",
       "            </figure>\n",
       "        \n",
       "            <figure style=\"margin: 5px !important;\">\n",
       "              <img src=\"data:image/png;base64,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\" style=\"height: auto\">\n",
       "              <figcaption style=\"font-size: 0.6em\">3</figcaption>\n",
       "            </figure>\n",
       "        \n",
       "            <figure style=\"margin: 5px !important;\">\n",
       "              <img src=\"data:image/png;base64,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\" style=\"height: auto\">\n",
       "              <figcaption style=\"font-size: 0.6em\">3</figcaption>\n",
       "            </figure>\n",
       "        \n",
       "    </div>"
      ],
      "text/plain": [
       "<IPython.core.display.HTML object>"
      ]
     },
     "execution_count": 13,
     "metadata": {},
     "output_type": "execute_result"
    }
   ],
   "source": [
    "count = 8\n",
    "\n",
    "def get_images_and_labels(df, ids):\n",
    "    image_datas = df.loc[ids]['png']\n",
    "    images = [Image.open(io.BytesIO(image_data)) for image_data in image_datas]\n",
    "    labels = df.loc[ids]['value']\n",
    "    return images, list(labels)\n",
    "\n",
    "def get_some_random_images_and_labels(df, count):\n",
    "    image_ids = RNG.choice(df.index.unique(), count, replace=False)\n",
    "    return get_images_and_labels(df, image_ids)\n",
    "\n",
    "train_images, train_labels = get_some_random_images_and_labels(df_train_images, count)\n",
    "test_images, test_labels = get_some_random_images_and_labels(df_test_images, count)\n",
    "\n",
    "display_images_grid(train_images + test_images, captions=train_labels + test_labels, col_count=count)"
   ]
  },
  {
   "cell_type": "markdown",
   "id": "49a9c189-4620-4fff-b12c-0553540cc48d",
   "metadata": {},
   "source": [
    "# Core logic"
   ]
  },
  {
   "cell_type": "markdown",
   "id": "3e1f9cdd-a16c-4406-9eb6-69a653b84175",
   "metadata": {},
   "source": [
    "## Hyper Parameters"
   ]
  },
  {
   "cell_type": "code",
   "execution_count": 14,
   "id": "8d1303e2-9a31-466c-8eb6-48bd7a0a7fb8",
   "metadata": {},
   "outputs": [],
   "source": [
    "HP_SIGNAL_VEC_LEN = 1000 # aka SBV\n",
    "HP_SIGNAL_VEC_NON_ZERO_BITS = 8\n",
    "HP_SIGNAL_VEC_FEATURES_COUNT = 20\n",
    "HP_SIGNAL_ENCODING = f'{HP_SIGNAL_VEC_LEN}/{HP_SIGNAL_VEC_NON_ZERO_BITS}'\n",
    "\n",
    "HP_PIXEL_FEATURES_RANDOM_SEED = 42\n",
    "HP_PIXEL_FEATURES_COUNT = 2_000\n",
    "\n",
    "HP_POINTS_COUNT = 250_000\n",
    "# HP_POINTS_COUNT = 100_000\n",
    "HP_POINT_NON_ZERO_BITS = 40"
   ]
  },
  {
   "cell_type": "markdown",
   "id": "24850512-c1a7-4d52-a17a-bf1a5f7641a7",
   "metadata": {},
   "source": [
    "## Types"
   ]
  },
  {
   "cell_type": "code",
   "execution_count": 15,
   "id": "62aec35b-11c1-4d9a-9cdc-b7315222c610",
   "metadata": {},
   "outputs": [],
   "source": [
    "class ClusterState(StrEnum):\n",
    "    DEAD = auto()\n",
    "    LEARN = auto()\n",
    "    PROD_CANDIDATE = auto()\n",
    "    PROD_WORK = auto()\n",
    "    PROD_ETERNAL = auto()\n",
    "\n",
    "# Constant or slow changing props. Frequently changed (hot track) props reside in sidecars\n",
    "class ClusterMeta:\n",
    "    def __init__(self, cluster_ind):\n",
    "        self.state = ClusterState.LEARN\n",
    "        self.cluster_ind = cluster_ind\n",
    "        self.cluster_key = ()\n",
    "        self.output_bit = 999_999_999\n",
    "        self.input_bits = ()\n",
    "        self.ones_count = -1\n",
    "        \n",
    "        # props for LEARN state\n",
    "        self.binarization_schedule = ()\n",
    "        \n",
    "        # props for PROD_CANDIDATE/PROD_WORK states\n",
    "        self.accuracy_calc = None\n",
    "        self.verify_signal_ids = []"
   ]
  },
  {
   "cell_type": "markdown",
   "id": "f70e4714-7395-4a8a-93f7-7248507d6e9f",
   "metadata": {},
   "source": [
    "## Memory"
   ]
  },
  {
   "cell_type": "code",
   "execution_count": 16,
   "id": "944a2145-43bc-4ece-b640-e4562074deaf",
   "metadata": {},
   "outputs": [],
   "source": [
    "def hdv_array_log_like_grow_policy(size):\n",
    "    k = math.log(size, 100_000)\n",
    "    new_size = size * 2 if k < 1 else size * 1.1\n",
    "    return int(new_size)\n",
    "\n",
    "def gc_memory():\n",
    "    gc.collect()\n",
    "    \n",
    "    if cp.cuda.is_available():\n",
    "        cp.get_default_memory_pool().free_all_blocks()"
   ]
  },
  {
   "cell_type": "markdown",
   "id": "de73e165-ba51-4050-b4b8-1af91973f3e3",
   "metadata": {},
   "source": [
    "## Lambdas, Minifuncs, etc."
   ]
  },
  {
   "cell_type": "code",
   "execution_count": 17,
   "id": "9973a30b-4267-42a8-b61c-5c2c869c902c",
   "metadata": {},
   "outputs": [],
   "source": [
    "fetch_si_xy = lambda si: (si.x, si.y)\n",
    "get_sequence = lambda sequences: np.array(list(itertools.chain.from_iterable(sequences)))\n",
    "get_sequences_reading = lambda sequences, seq_reading_code: list(map(lambda r: sequences[r[0]] if r[1] == 0 else list(reversed(sequences[r[0]])), seq_reading_code))\n",
    "get_xy_sequence = lambda sequence, si_ind_dict: np.array(list(map(lambda si_ind: fetch_si_xy(si_ind_dict[si_ind]), sequence)))\n",
    "get_raw_image = lambda image_id: Image.open(io.BytesIO((df_train_images if image_id < 100_000_000 else df_test_images).loc[image_id]['png']))\n",
    "get_cluster_key = lambda output_bit, input_bits: (int(output_bit), tuple(map(int, sorted(input_bits))))\n",
    "\n",
    "bundle_sbvs = lambda sbvs: np.where(sbvs.sum(axis=0), 1, 0).astype('f') # aka bloom filter\n",
    "debundle_sbv = lambda sbv, sbv_dict_array, non_zero_bits: (sbv_dict_array @ sbv) == non_zero_bits\n",
    "\n",
    "# NZV = non-zero bits, e.g. [2, 3, 8]\n",
    "# SBV = sparsed binary vector, e.g. [0, 0, 1, 1, 0, 0, 0, 0, 1, 0]\n",
    "def nzb_to_sbv(nzb, sbv_len):\n",
    "    vec = np.zeros(sbv_len, dtype='f')\n",
    "    vec[nzb] = 1\n",
    "    return vec\n",
    "\n",
    "sbv_to_nzb = lambda sbv: list(map(int, np.flatnonzero(sbv)))\n",
    "\n",
    "# OHE = one-hot encoding\n",
    "def xy_list_to_ohe_vec(xy_list):\n",
    "    valid_boolmap = np.all(((xy_list >= 0) & (xy_list < config.sample_size)), axis=1)\n",
    "    xy_list = xy_list[valid_boolmap]\n",
    "    inds = xy_list @ np.array([1, config.sample_size])\n",
    "    vec = np.zeros(config.sample_size ** 2, dtype='f')\n",
    "    vec[inds] = 1\n",
    "    return vec\n",
    "\n",
    "def interval_governeur(interval, fun):\n",
    "    assert interval >= 0\n",
    "    countdown = interval\n",
    "    \n",
    "    def call(is_forced=False):\n",
    "        nonlocal countdown\n",
    "\n",
    "        if countdown <= 0 or is_forced:\n",
    "            fun()\n",
    "            countdown = interval\n",
    "        \n",
    "        countdown -= 1\n",
    "\n",
    "    return call"
   ]
  },
  {
   "cell_type": "markdown",
   "id": "b69ac7e2-5c69-499a-b267-7919b9c0a014",
   "metadata": {},
   "source": [
    "## Average Filters"
   ]
  },
  {
   "cell_type": "code",
   "execution_count": 18,
   "id": "3af06346-4787-44fe-8ef8-4187796ea22b",
   "metadata": {},
   "outputs": [],
   "source": [
    "# https://youtu.be/HCd-leV8OkU?t=1240\n",
    "class AverageFilter:\n",
    "    def __init__(self):\n",
    "        self.value = 0 # aka prev_average\n",
    "        self.n = 0\n",
    "\n",
    "    def __call__(self, x):\n",
    "        self.n += 1\n",
    "        alpha = (self.n - 1) / self.n\n",
    "        result = alpha * self.value + (1 - alpha) * x\n",
    "        self.value = result\n",
    "        return result"
   ]
  },
  {
   "cell_type": "code",
   "execution_count": 19,
   "id": "a297cf9a-ed53-4529-a24f-da10417806bd",
   "metadata": {},
   "outputs": [],
   "source": [
    "a = 1 + np.arange(9)\n",
    "f = AverageFilter()\n",
    "avg = f(a[0])\n",
    "assert np.isclose(avg, 1)\n",
    "assert np.isclose(avg, f.value)\n",
    "\n",
    "for x in a[1:]:\n",
    "    avg = f(x)\n",
    "    assert np.isclose(avg, f.value)\n",
    "\n",
    "assert np.isclose(avg, 5)\n",
    "assert np.isclose(avg, f.value)"
   ]
  },
  {
   "cell_type": "code",
   "execution_count": 20,
   "id": "d1efe410-6d67-4ccd-823e-c91034d9c55a",
   "metadata": {},
   "outputs": [],
   "source": [
    "# https://www.youtube.com/watch?v=HCd-leV8OkU&t=583s\n",
    "# https://read.nxtbook.com/ieee/signal_processing/signal_processing_nov_2023/implementing_moving_average_f.html\n",
    "class MovingAverageFilter:\n",
    "    def __init__(self, n):\n",
    "        assert n >= 1\n",
    "        self.n = n\n",
    "        self.prev_average = 0\n",
    "        self.value = 0 \n",
    "        self.x_queue = deque()\n",
    "\n",
    "    def __call__(self, x):\n",
    "        self.x_queue.append(x)\n",
    "\n",
    "        while len(self.x_queue) > (self.n + 1):\n",
    "            self.x_queue.popleft()\n",
    "\n",
    "        x_old = self.x_queue[0] if len(self.x_queue) > self.n else 0\n",
    "        result = self.prev_average + (x - x_old) / self.n\n",
    "        self.prev_average = result\n",
    "\n",
    "        if len(self.x_queue) < (self.n + 1):\n",
    "            result = result * self.n / len(self.x_queue)\n",
    "\n",
    "        self.value = result\n",
    "        return result"
   ]
  },
  {
   "cell_type": "code",
   "execution_count": 21,
   "id": "0eafc439-58d8-49b5-b8d2-6a1ab99e1d41",
   "metadata": {},
   "outputs": [],
   "source": [
    "a = np.array([55, 60, 19, 80, 30, 19, 57, 26, 36, 78, 70, 34,  5, 65, 22, 10, 53,\n",
    "       28, 98,  1, 67, 94, 29, 37, 87, 98, 39, 71, 98, 68, 47, 20, 15, 13,\n",
    "        3, 83, 43, 86, 95, 21,  3, 64, 20, 97, 47, 15, 78, 20, 80, 75, 31,\n",
    "       11, 24, 54, 53, 42, 44,  8,  1, 74, 47, 63,  5, 34, 89, 72, 95, 17,\n",
    "       69, 67, 57, 42,  2, 81, 67, 41, 14, 25, 74, 59, 78,  1, 75, 15,  7,\n",
    "       70, 68, 36, 60, 46, 81,  2, 34, 39, 71, 42, 30, 48, 26, 86])\n",
    "f = MovingAverageFilter(10)\n",
    "avg = f(a[0])\n",
    "assert np.isclose(avg, a[0])\n",
    "assert np.isclose(avg, f.value)\n",
    "\n",
    "for x in a[1:]:\n",
    "    avg = f(x)\n",
    "    assert np.isclose(avg, f.value)\n",
    "\n",
    "assert np.isclose(avg, 45.9)\n",
    "assert np.isclose(avg, f.value)"
   ]
  },
  {
   "cell_type": "markdown",
   "id": "6438e5f1-7eb4-483c-8572-a32543ab348d",
   "metadata": {},
   "source": [
    "## Pixel Features"
   ]
  },
  {
   "cell_type": "code",
   "execution_count": 22,
   "id": "7f5094ec-ad1a-448a-b80d-affd9212524a",
   "metadata": {},
   "outputs": [],
   "source": [
    "rng_for_pixel_features = np.random.default_rng(HP_PIXEL_FEATURES_RANDOM_SEED)"
   ]
  },
  {
   "cell_type": "code",
   "execution_count": 23,
   "id": "1eedf20d-039e-46a5-bfec-93f84fa2e863",
   "metadata": {},
   "outputs": [],
   "source": [
    "class PixelFeature:\n",
    "    def __init__(self, x, y, radius, bitmap_mask, dist_mask):\n",
    "        self.x = x\n",
    "        self.y = y\n",
    "        self.radius = radius\n",
    "        self.bitmap_mask = bitmap_mask\n",
    "        self.dist_mask = dist_mask\n",
    "        self.sbv = None"
   ]
  },
  {
   "cell_type": "code",
   "execution_count": 24,
   "id": "49aed96f-3cec-4f3f-9152-537a004d3931",
   "metadata": {},
   "outputs": [
    {
     "data": {
      "image/png": "[encoded data removed]",
      "text/plain": [
       "<Figure size 1600x480 with 4 Axes>"
      ]
     },
     "metadata": {},
     "output_type": "display_data"
    }
   ],
   "source": [
    "radius_to_pattern = {}\n",
    "radius_to_dist_pattern = {} # config.sample_size if pixel if out of pattern, otherwise distance to center (within center distance = 0)\n",
    "\n",
    "# for r in [3, 1]:\n",
    "# for r in [5]:\n",
    "# for r in [3]:\n",
    "for r in [2]:\n",
    "# for r in [1]:\n",
    "    if r in [1, 2]:\n",
    "        canvas = Image.new('1', size=(r * 2 + 1, r * 2 + 1), color='white')\n",
    "    else:\n",
    "        canvas = Image.new('1', size=(r * 2 + 1, r * 2 + 1), color='black')\n",
    "        draw = ImageDraw.Draw(canvas)\n",
    "        draw.circle([r, r], radius=r, outline='white', fill='white')\n",
    "\n",
    "    pattern = np.array(canvas, dtype='f')\n",
    "    radius_to_pattern[r] = pattern\n",
    "\n",
    "    dist_pattern = np.zeros_like(pattern, dtype='f')\n",
    "    \n",
    "    for i in range(pattern.shape[0]):\n",
    "        for j in range(pattern.shape[1]):\n",
    "            dist = config.sample_size\n",
    "            \n",
    "            if pattern[i,j] != 0:\n",
    "                vec = np.array([i - r, j - r])\n",
    "                dist = np.linalg.norm(vec)\n",
    "                assert dist < config.sample_size\n",
    "\n",
    "            dist_pattern[i,j] = dist\n",
    "    \n",
    "    radius_to_dist_pattern[r] = dist_pattern\n",
    "\n",
    "r = max(radius_to_pattern.keys())\n",
    "\n",
    "fig, (ax1, ax2) = plt.subplots(1, 2)\n",
    "fig.set_figwidth(16)\n",
    "im = ax1.imshow(radius_to_pattern[r])\n",
    "fig.colorbar(im, ax=ax1);\n",
    "im = ax2.imshow(np.where(radius_to_dist_pattern[r] < config.sample_size, radius_to_dist_pattern[r], np.inf))\n",
    "fig.colorbar(im, ax=ax2);"
   ]
  },
  {
   "cell_type": "code",
   "execution_count": 25,
   "id": "d09730cf-4810-434b-a64e-5b3cc1932f71",
   "metadata": {},
   "outputs": [],
   "source": [
    "# n = 50_000\n",
    "# xs = rng_for_pixel_features.integers(0, config.sample_size, size=n)\n",
    "# ys = rng_for_pixel_features.integers(0, config.sample_size, size=n)\n",
    "# radii = rng_for_pixel_features.choice(list(radius_to_pattern.keys()), size=n)\n",
    "# xy_list = np.vstack([xs, ys]).T\n",
    "# assert np.all(np.all((xy_list >= 0) & (xy_list < config.sample_size), axis=1))\n",
    "# bitmap_padding = 0\n",
    "# bitmap = np.zeros((config.sample_size + bitmap_padding * 2, config.sample_size + bitmap_padding * 2))\n",
    "# pixel_features = []\n",
    "\n",
    "# for xy, radius in zip(xy_list, radii):\n",
    "#     pattern = radius_to_pattern[radius]\n",
    "#     i0, j0 = bitmap_padding, bitmap_padding\n",
    "#     i = i0 + xy[1]\n",
    "#     j = j0 + xy[0]\n",
    "#     i_lo = i - radius\n",
    "#     i_hi = i + radius + 1\n",
    "#     j_lo = j - radius\n",
    "#     j_hi = j + radius + 1\n",
    "    \n",
    "#     if i_lo < 0 or j_lo < 0 or i_hi > config.sample_size or j_hi > config.sample_size:\n",
    "#         continue\n",
    "    \n",
    "#     merge_site = bitmap[i_lo:i_hi,j_lo:j_hi]\n",
    "#     merge_site_mask = np.where(merge_site != 0, 1, 0)\n",
    "#     assert pattern.shape == merge_site.shape\n",
    "#     overlap_ratio = np.where(pattern != 0, merge_site_mask, 0).sum() / pattern.sum()\n",
    "\n",
    "#     # if overlap_ratio > 0.75:\n",
    "#     # if overlap_ratio > 0.5:\n",
    "#     # if overlap_ratio > 0.35:\n",
    "#     if overlap_ratio > 0.25:\n",
    "#     # if overlap_ratio > 0.0:\n",
    "#         continue\n",
    "    \n",
    "#     # merge_site = np.where(pattern != 0, radius, merge_site)\n",
    "#     merge_site = merge_site + pattern\n",
    "#     bitmap[i-radius:i+radius+1,j-radius:j+radius+1] = merge_site\n",
    "#     pixel_feature_bitmap_mask = np.zeros_like(bitmap, dtype='f')\n",
    "#     pixel_feature_bitmap_mask[i_lo:i_hi,j_lo:j_hi] = pattern\n",
    "#     pixel_feature_bitmap_mask = pixel_feature_bitmap_mask[bitmap_padding:bitmap_padding+config.sample_size, bitmap_padding:bitmap_padding+config.sample_size]\n",
    "#     pixel_feature_dist_mask = np.full_like(bitmap, config.sample_size, dtype='f')\n",
    "#     pixel_feature_dist_mask[i_lo:i_hi,j_lo:j_hi] = radius_to_dist_pattern[radius]\n",
    "#     pixel_feature = PixelFeature(x=int(xy[0]), y=int(xy[1]), radius=radius, bitmap_mask=pixel_feature_bitmap_mask.ravel(), dist_mask=pixel_feature_dist_mask.ravel())\n",
    "#     pixel_features.append(pixel_feature)\n",
    "\n",
    "#     if len(pixel_features) >= HP_PIXEL_FEATURES_COUNT:\n",
    "#         break\n",
    "    \n",
    "# bitmap = bitmap[bitmap_padding:bitmap_padding+config.sample_size, bitmap_padding:bitmap_padding+config.sample_size]\n",
    "\n",
    "# fig, (ax1, ax2) = plt.subplots(1, 2)\n",
    "# fig.set_figwidth(18)\n",
    "\n",
    "# ax1.set_title(f'Pixel-Features Count={len(pixel_features)}, non-covered area={(bitmap == 0).sum() / (bitmap.shape[0] ** 2) * 100:.1f}%')\n",
    "# im = ax1.imshow(bitmap, cmap='turbo')\n",
    "# fig.colorbar(im, ax=ax1);\n",
    "\n",
    "# random_pixel_feature_ind = rng_for_pixel_features.choice(len(pixel_features))\n",
    "# ax2.set_title(f'Bitmap Mask of Pixel-Feature #{random_pixel_feature_ind}')\n",
    "# im = ax2.imshow(vec_to_square_matrix(pixel_features[random_pixel_feature_ind].bitmap_mask), cmap='bwr')"
   ]
  },
  {
   "cell_type": "code",
   "execution_count": 26,
   "id": "b544b69e-3d29-4906-a9f9-1953657069e8",
   "metadata": {},
   "outputs": [
    {
     "data": {
      "image/png": "[encoded data removed]",
      "text/plain": [
       "<Figure size 1800x480 with 3 Axes>"
      ]
     },
     "metadata": {},
     "output_type": "display_data"
    }
   ],
   "source": [
    "radius = max(radius_to_pattern.keys())\n",
    "\n",
    "mgrid = np.mgrid[0:config.sample_size, 0:config.sample_size]\n",
    "xs = mgrid[0].ravel()\n",
    "ys = mgrid[1].ravel()\n",
    "xy_list = np.vstack([xs, ys]).T\n",
    "assert np.all(np.all((xy_list >= 0) & (xy_list < config.sample_size), axis=1))\n",
    "\n",
    "bitmap_padding = 0\n",
    "bitmap = np.zeros((config.sample_size + bitmap_padding * 2, config.sample_size + bitmap_padding * 2))\n",
    "pixel_features = []\n",
    "\n",
    "# for overlap in [0, 0.25, 0.5]:\n",
    "for overlap in [0]:\n",
    "    for xy in xy_list:\n",
    "        if len(pixel_features) >= HP_PIXEL_FEATURES_COUNT:\n",
    "            break\n",
    "            \n",
    "        if bitmap[xy[1], xy[0]] != 0:\n",
    "            continue\n",
    "\n",
    "        pattern = radius_to_pattern[radius]\n",
    "        i0, j0 = bitmap_padding, bitmap_padding\n",
    "        i = i0 + xy[1]\n",
    "        j = j0 + xy[0]\n",
    "        i_lo = i - radius\n",
    "        i_hi = i + radius + 1\n",
    "        j_lo = j - radius\n",
    "        j_hi = j + radius + 1\n",
    "        \n",
    "        if i_lo < 0 or j_lo < 0 or i_hi > config.sample_size or j_hi > config.sample_size:\n",
    "            continue\n",
    "        \n",
    "        merge_site = bitmap[i_lo:i_hi,j_lo:j_hi]\n",
    "        merge_site_mask = np.where(merge_site != 0, 1, 0)\n",
    "        assert pattern.shape == merge_site.shape\n",
    "        overlap_ratio = np.where(pattern != 0, merge_site_mask, 0).sum() / pattern.sum()\n",
    "    \n",
    "        if overlap_ratio > overlap:\n",
    "            continue\n",
    "        \n",
    "        merge_site = merge_site + pattern\n",
    "        bitmap[i-radius:i+radius+1,j-radius:j+radius+1] = merge_site\n",
    "        pixel_feature_bitmap_mask = np.zeros_like(bitmap, dtype='f')\n",
    "        pixel_feature_bitmap_mask[i_lo:i_hi,j_lo:j_hi] = pattern\n",
    "        pixel_feature_bitmap_mask = pixel_feature_bitmap_mask[bitmap_padding:bitmap_padding+config.sample_size, bitmap_padding:bitmap_padding+config.sample_size]\n",
    "        pixel_feature_dist_mask = np.full_like(bitmap, config.sample_size, dtype='f')\n",
    "        pixel_feature_dist_mask[i_lo:i_hi,j_lo:j_hi] = radius_to_dist_pattern[radius]\n",
    "        pixel_feature = PixelFeature(x=int(xy[0]), y=int(xy[1]), radius=radius, bitmap_mask=pixel_feature_bitmap_mask.ravel(), dist_mask=pixel_feature_dist_mask.ravel())\n",
    "        pixel_features.append(pixel_feature)\n",
    "    \n",
    "bitmap = bitmap[bitmap_padding:bitmap_padding+config.sample_size, bitmap_padding:bitmap_padding+config.sample_size]\n",
    "\n",
    "fig, (ax1, ax2) = plt.subplots(1, 2)\n",
    "fig.set_figwidth(18)\n",
    "\n",
    "ax1.set_title(f'Pixel-Features Count={len(pixel_features)}, non-covered area={(bitmap == 0).sum() / (bitmap.shape[0] ** 2) * 100:.1f}%')\n",
    "im = ax1.imshow(bitmap, cmap='turbo')\n",
    "fig.colorbar(im, ax=ax1);\n",
    "\n",
    "random_pixel_feature_ind = rng_for_pixel_features.choice(len(pixel_features))\n",
    "ax2.set_title(f'Bitmap Mask of Pixel-Feature #{random_pixel_feature_ind}')\n",
    "im = ax2.imshow(vec_to_square_matrix(pixel_features[random_pixel_feature_ind].bitmap_mask), cmap='bwr')"
   ]
  },
  {
   "cell_type": "code",
   "execution_count": 27,
   "id": "b1a43c52-4006-4a8e-a97d-507ee8f69ef7",
   "metadata": {},
   "outputs": [
    {
     "name": "stdout",
     "output_type": "stream",
     "text": [
      "Loaded 3117 pixel features\n",
      "Linked 625 pixel features\n"
     ]
    }
   ],
   "source": [
    "df_pixel_features = pd.read_sql('SELECT x, y, radius, nzb FROM features WHERE encoding=:encoding AND type=:type', \n",
    "                                params={'encoding': HP_SIGNAL_ENCODING, 'type': 'pixel'}, con=transfs_db_con)\n",
    "db_pixel_features_dict = dict(map(lambda p: ((p.x, p.y, p.radius), nzb_to_sbv(pickle.loads(p.nzb), HP_SIGNAL_VEC_LEN)), df_pixel_features.itertuples()))\n",
    "unique_sbv_keys = set(map(lambda sbv: tuple(sorted(map(int, np.flatnonzero(sbv)))), db_pixel_features_dict.values()))\n",
    "assert len(unique_sbv_keys) == len(db_pixel_features_dict)\n",
    "print(f'Loaded {len(unique_sbv_keys)} pixel features')\n",
    "new_pixel_features = []\n",
    "linked_count = 0\n",
    "\n",
    "for pf in pixel_features:\n",
    "    key = (pf.x, pf.y, pf.radius)\n",
    "\n",
    "    if key in db_pixel_features_dict:\n",
    "        pf.sbv = db_pixel_features_dict[key]\n",
    "        linked_count += 1\n",
    "        continue\n",
    "        \n",
    "    attempts_to_generate_unique_sbv = 10\n",
    "    sbv = np.zeros(HP_SIGNAL_VEC_LEN, dtype='f')\n",
    "\n",
    "    for _ in range(attempts_to_generate_unique_sbv):\n",
    "        ii = RNG.choice(HP_SIGNAL_VEC_LEN, HP_SIGNAL_VEC_NON_ZERO_BITS, replace=False)\n",
    "        sbv_key = tuple(sorted(ii))\n",
    "\n",
    "        if not sbv_key in unique_sbv_keys:\n",
    "            sbv[ii] = 1\n",
    "            unique_sbv_keys.add(sbv_key)\n",
    "            break\n",
    "    else:\n",
    "        assert False, f'Failed to get unique SBV for pixel feature within {attempts_to_generate_unique_sbv} attempts'\n",
    "\n",
    "    new_pixel_features.append(pf)\n",
    "    pf.sbv = sbv\n",
    "\n",
    "print(f'Linked {linked_count} pixel features')\n",
    "\n",
    "if new_pixel_features:\n",
    "    transfs_db_con.autocommit = False\n",
    "    \n",
    "    for pf in tqdm(new_pixel_features, desc='Persiting'):\n",
    "        transfs_db_con.execute('INSERT INTO features(encoding, type, x, y, radius, bitmap_mask_nzb, nzb) VALUES (:encoding, :type, :x, :y, :radius, :bitmap_mask_nzb, :nzb)',\n",
    "                               {\n",
    "                                   'encoding': HP_SIGNAL_ENCODING, \n",
    "                                   'type': 'pixel', \n",
    "                                   'x': pf.x, \n",
    "                                   'y': pf.y, \n",
    "                                   'radius': pf.radius, \n",
    "                                   'bitmap_mask_nzb': pickle.dumps(sbv_to_nzb(pf.bitmap_mask)),\n",
    "                                   'nzb': pickle.dumps(sbv_to_nzb(pf.sbv))\n",
    "                               })\n",
    "\n",
    "    transfs_db_con.autocommit = True\n",
    "    print(f'Created and persisted {len(new_pixel_features)} new pixel features')\n",
    "\n",
    "PIXEL_FEATURE_SBVS = np.array(list(map(lambda pf: pf.sbv, pixel_features)))\n",
    "PIXEL_FEATURE_BITMAP_MASKS = np.array(list(map(lambda pf: pf.bitmap_mask, pixel_features)))\n",
    "PIXEL_FEATURE_DIST_MASKS = np.array(list(map(lambda pf: pf.dist_mask, pixel_features)))\n",
    "PIXEL_FEATURE_XY_ARRAY = np.array(list(map(lambda pf: (pf.x, pf.y), pixel_features)))"
   ]
  },
  {
   "cell_type": "code",
   "execution_count": 28,
   "id": "b832999d-38af-4cc2-8bb3-de740eabb24b",
   "metadata": {},
   "outputs": [
    {
     "data": {
      "application/vnd.jupyter.widget-view+json": {
       "model_id": "4ebf02fb68864951be71e65b5c4bdd9b",
       "version_major": 2,
       "version_minor": 0
      },
      "text/plain": [
       "  0%|          | 0/2000 [00:00<?, ?it/s]"
      ]
     },
     "metadata": {},
     "output_type": "display_data"
    }
   ],
   "source": [
    "df_train_images_ = df_train_images.head(2000)\n",
    "# df_train_images_ = df_train_images\n",
    "gpu_pixel_feature_bitmap_masks = xp_array_to_gpu(PIXEL_FEATURE_BITMAP_MASKS)\n",
    "PIXEL_FEATURE_FREQS = np.zeros(PIXEL_FEATURE_SBVS.shape[0], dtype='i')\n",
    "\n",
    "for image in tqdm(df_train_images_.itertuples(), total=len(df_train_images_)):\n",
    "    sequences = pickle.loads(image.inner_sequences)\n",
    "    si_ind_dict = pickle.loads(image.inner_si_ind_dict)\n",
    "    xy_list_full = get_xy_sequence(get_sequence(sequences), si_ind_dict)\n",
    "    ohe_vec = xy_list_to_ohe_vec(xy_list_full)\n",
    "    ohe_vec = xp_array_to_gpu(ohe_vec)\n",
    "    pixel_feature_inds = np.flatnonzero(gpu_pixel_feature_bitmap_masks @ ohe_vec)\n",
    "    pixel_feature_inds = xp_array_from_gpu(pixel_feature_inds)\n",
    "    PIXEL_FEATURE_FREQS[pixel_feature_inds] += 1\n",
    "\n",
    "ACTIVE_PIXEL_FEATURES_COUNT = np.count_nonzero(PIXEL_FEATURE_FREQS)"
   ]
  },
  {
   "cell_type": "code",
   "execution_count": 29,
   "id": "db7ee713-4923-4b05-a16a-9a9266f5a9f6",
   "metadata": {},
   "outputs": [
    {
     "data": {
      "image/png": "[encoded data removed]",
      "text/plain": [
       "<Figure size 1800x480 with 3 Axes>"
      ]
     },
     "metadata": {},
     "output_type": "display_data"
    }
   ],
   "source": [
    "bitmap = np.zeros((config.sample_size, config.sample_size), dtype='i')\n",
    "assert PIXEL_FEATURE_BITMAP_MASKS.shape[0] == PIXEL_FEATURE_FREQS.shape[0]\n",
    "\n",
    "for mask, freq in zip(xp_array_from_gpu(PIXEL_FEATURE_BITMAP_MASKS), PIXEL_FEATURE_FREQS):\n",
    "    mask_with_freq = np.where(mask, freq, 0)\n",
    "    bitmap += mask_with_freq.reshape(bitmap.shape)\n",
    "\n",
    "fig, (ax1, ax2) = plt.subplots(1, 2)\n",
    "fig.set_figwidth(18)\n",
    "\n",
    "ax1.set_title(f'Frequency Map of Pixel Features')\n",
    "im = ax1.imshow(bitmap, cmap='turbo')\n",
    "fig.colorbar(im, ax=ax1)\n",
    "\n",
    "pixel_feature_freqs_sorted_desc = -np.sort(-PIXEL_FEATURE_FREQS)\n",
    "percentile = 1\n",
    "ind = int(np.count_nonzero(pixel_feature_freqs_sorted_desc) * percentile)\n",
    "freq_thres = pixel_feature_freqs_sorted_desc[ind-1]\n",
    "# bitmap2 = np.where(bitmap, 1, 0)\n",
    "bitmap2 = np.where(PIXEL_FEATURE_BITMAP_MASKS[(PIXEL_FEATURE_FREQS >= freq_thres)].sum(axis=0), 1, 0)\n",
    "# bitmap2 = xp_array_from_gpu(bitmap2)\n",
    "bitmap2 = vec_to_square_matrix(bitmap2)\n",
    "# a = (PIXEL_FEATURE_FREQS > 0).sum()\n",
    "a = (PIXEL_FEATURE_FREQS >= freq_thres).sum()\n",
    "b = PIXEL_FEATURE_BITMAP_MASKS.shape[0]\n",
    "ax2.set_title(f'Binary Frequency Map of Pixel Features, {a} / {b} ({a / b * 100:.1f}%), freq_thres={freq_thres}')\n",
    "ax2.imshow(bitmap2);"
   ]
  },
  {
   "cell_type": "markdown",
   "id": "ad92bf7c-ae67-4312-900a-adb12769a5e7",
   "metadata": {},
   "source": [
    "## Transformations"
   ]
  },
  {
   "cell_type": "code",
   "execution_count": 30,
   "id": "4287bb50-b460-4bdd-8d19-322e30669418",
   "metadata": {},
   "outputs": [],
   "source": [
    "def get_rotate_transf(deg):\n",
    "    half_sz = config.sample_size / 2\n",
    "    move_to_ooc_transf = np.array([\n",
    "        [1, 0, -half_sz],\n",
    "        [0, 1, -half_sz],\n",
    "        [0, 0, 1]])\n",
    "    theta = np.deg2rad(deg)\n",
    "    cos_theta = math.cos(theta)\n",
    "    sin_theta = math.sin(theta)\n",
    "    rotate_transf = np.array([\n",
    "        [cos_theta, -sin_theta, 0],\n",
    "        [sin_theta, cos_theta, 0],\n",
    "        [0, 0, 1]\n",
    "    ])\n",
    "    move_to_target_loc_transf = np.array([\n",
    "        [1, 0, half_sz],\n",
    "        [0, 1, half_sz],\n",
    "        [0, 0, 1]])\n",
    "    return move_to_target_loc_transf @ rotate_transf @ move_to_ooc_transf\n",
    "\n",
    "def get_offset_transf(dx=0, dy=0):\n",
    "    return np.array([\n",
    "        [1, 0, dx],\n",
    "        [0, 1, dy],\n",
    "        [0, 0, 1]])"
   ]
  },
  {
   "cell_type": "code",
   "execution_count": 31,
   "id": "d53d9c0e-7546-4979-a953-0b8f46f1ce48",
   "metadata": {},
   "outputs": [],
   "source": [
    "transfs = {\n",
    "    'offset_10_0': get_offset_transf(10, 0),\n",
    "    'offset_1_0': get_offset_transf(1, 0),\n",
    "    'offset_-1_0': get_offset_transf(-1, 0),\n",
    "    'offset_0_1': get_offset_transf(0, 1),\n",
    "    'offset_1_1': get_offset_transf(1, 1),\n",
    "    'offset_5_0': get_offset_transf(5, 0),\n",
    "    'rotate_45': get_rotate_transf(45),\n",
    "    'rotate_90': get_rotate_transf(90),\n",
    "}\n",
    "TRANSF_CODE = 'rotate_45'\n",
    "TRANSF = transfs[TRANSF_CODE]"
   ]
  },
  {
   "cell_type": "markdown",
   "id": "61d38b52-00d2-4c2b-9e59-ab1e62f83ec5",
   "metadata": {},
   "source": [
    "## XY List <-> Pixel Features"
   ]
  },
  {
   "cell_type": "code",
   "execution_count": 32,
   "id": "3f8469ab-48b7-462b-864b-274b9e91b1b7",
   "metadata": {},
   "outputs": [],
   "source": [
    "def xy_list_to_pixel_feature_inds(xy_list):\n",
    "    ohe_vec = xy_list_to_ohe_vec(xy_list)\n",
    "    # ohe_vec = xp_array_to_gpu(ohe_vec)\n",
    "    inds = np.flatnonzero(PIXEL_FEATURE_BITMAP_MASKS @ ohe_vec)\n",
    "    # return xp_array_from_gpu(inds)\n",
    "    return inds\n",
    "\n",
    "def xy_list_to_nearest_pixel_feature_inds(xy_list):\n",
    "    valid_boolmap = np.all(((xy_list >= 0) & (xy_list < config.sample_size)), axis=1)\n",
    "    xy_list = xy_list[valid_boolmap]\n",
    "    inds = xy_list @ np.array([1, config.sample_size])\n",
    "    vecs = np.zeros((inds.shape[0], config.sample_size ** 2), dtype='f')\n",
    "\n",
    "    for i, j in enumerate(inds):\n",
    "        vecs[i,j] = 1\n",
    "\n",
    "    # compute matrix where rows correspond to xy pairs and columns correspond to pixel features\n",
    "    # value in cell [i,j] == dist_from_xy[i]_to_center_of_pixel_feature[j]\n",
    "    mat = vecs @ PIXEL_FEATURE_DIST_MASKS.T\n",
    "    # for each xy get index of pixel feature which has minimal distance to center of pixel feature\n",
    "    t = np.argmin(mat, axis=1)\n",
    "    # if row consists of dists which exceed config.sample_size then np.argmin has no sense for such row (it means that there is no match with any pixel feature),\n",
    "    # as such - exclude such row from consideration\n",
    "    rows_with_good_values_boolmap = np.any(mat < config.sample_size, axis=1)\n",
    "    t = t[rows_with_good_values_boolmap]\n",
    "    return np.unique(t)"
   ]
  },
  {
   "cell_type": "markdown",
   "id": "de4fc099-261c-469e-b3f7-e52868634935",
   "metadata": {},
   "source": [
    "## Signals Generator"
   ]
  },
  {
   "cell_type": "code",
   "execution_count": 33,
   "id": "b5c7f3ec-4599-4d2b-8031-44ef454ee41f",
   "metadata": {},
   "outputs": [],
   "source": [
    "SignalsGeneratorResult = namedtuple('SignalsGeneratorResult', \n",
    "                                    ['signals_input', 'signals_output', # SBV\n",
    "                                     'signal_ids', \n",
    "                                     'signal_xy_lists_input', 'signal_xy_lists_output', \n",
    "                                     'xy_list_full'])\n",
    "DummySignalsGeneratorResult = lambda: SignalsGeneratorResult([], [], [], [], [], [])"
   ]
  },
  {
   "cell_type": "markdown",
   "id": "cb595d40-bf06-496a-8f56-71d64b706724",
   "metadata": {},
   "source": [
    "### RealImageSignalsGenerator"
   ]
  },
  {
   "cell_type": "code",
   "execution_count": 34,
   "id": "7658b6e8-c858-46ea-b72f-572c22e14e74",
   "metadata": {},
   "outputs": [],
   "source": [
    "# For each image generate number of signals (image_variants_count) by randomly select of si_ind and convert this si_ind to pixel features\n",
    "class RealImageSignalsGenerator:\n",
    "    def __init__(self, transf, signals_count, image_variants_count, logger=lambda m: True):\n",
    "        self.transf = transf\n",
    "        self.signals_count = signals_count\n",
    "        assert image_variants_count > 0\n",
    "        self.image_variants_count = image_variants_count\n",
    "\n",
    "        self.image_id = -1\n",
    "        self.image_variants_count_for_image_id = 0\n",
    "        self.image_variants_generated = 0\n",
    "        self.xy_list_full = []\n",
    "        self.xy_list_inds_count = -1\n",
    "        \n",
    "    def __call__(self):\n",
    "        signals_input = []\n",
    "        signals_output = []\n",
    "        signal_ids = []\n",
    "        signal_xy_lists_input = []\n",
    "        signal_xy_lists_output = []\n",
    "\n",
    "        while len(signals_input) < self.signals_count:\n",
    "            if self.image_id == -1 or self.image_variants_generated >= self.image_variants_count_for_image_id:\n",
    "                # the very first call or variants of current image are exhausted, switch to next image\n",
    "                self.image_id = int(RNG.choice(df_train_images.index))\n",
    "                self.image_variants_generated = 0\n",
    "                image = df_train_images.loc[self.image_id]\n",
    "                # pickle.loads consumes almost 50% of the time of execution of generate() :=(\n",
    "                sequences = pickle.loads(image.inner_sequences)\n",
    "                si_ind_dict = pickle.loads(image.inner_si_ind_dict)\n",
    "                xy_list_full = get_xy_sequence(get_sequence(sequences), si_ind_dict)\n",
    "                self.xy_list_full = xy_list_full\n",
    "                \n",
    "                xy_list_inds_count = min(xy_list_full.shape[0], HP_SIGNAL_VEC_FEATURES_COUNT)\n",
    "                xy_list_combinations_count = math.comb(xy_list_full.shape[0], xy_list_inds_count)\n",
    "\n",
    "                if xy_list_combinations_count >= self.image_variants_count:\n",
    "                    self.xy_list_inds_count = xy_list_inds_count\n",
    "                    self.image_variants_count_for_image_id = self.image_variants_count\n",
    "                else:\n",
    "                    assert xy_list_inds_count > 0\n",
    "                    xy_list_inds_count_to_combinations_count = Counter()\n",
    "                \n",
    "                    for inds_count in range(xy_list_inds_count, 0, -1):\n",
    "                        xy_list_inds_count_to_combinations_count[inds_count] = math.comb(xy_list_full.shape[0], inds_count)\n",
    "\n",
    "                    xy_list_inds_count_with_most_variants = xy_list_inds_count_to_combinations_count.most_common(1)[0]\n",
    "                    self.xy_list_inds_count = xy_list_inds_count_with_most_variants[0]\n",
    "                    self.image_variants_count_for_image_id = min(self.image_variants_count, xy_list_inds_count_with_most_variants[1])\n",
    "            \n",
    "                self.xy_list_inds_count > 0\n",
    "                self.xy_list_inds_count <= self.xy_list_full.shape[0]\n",
    "                assert self.image_variants_count_for_image_id > 0, self.image_variants_count_for_image_id\n",
    "                assert self.image_variants_count_for_image_id <= self.image_variants_count, self.image_variants_count_for_image_id\n",
    "\n",
    "            xy_list_inds = RNG.choice(self.xy_list_full.shape[0], self.xy_list_inds_count, replace=False)\n",
    "            xy_list_origin = self.xy_list_full[xy_list_inds]\n",
    "            ###\n",
    "            xy_list_origin = PIXEL_FEATURE_XY_ARRAY[xy_list_to_pixel_feature_inds(xy_list_origin)]\n",
    "            ###\n",
    "            xy_list_transf = np.hstack([xy_list_origin, np.ones(xy_list_origin.shape[0])[:,np.newaxis]]) # make homogeneous coords\n",
    "            xy_list_transf = (self.transf @ xy_list_transf.T).T[:,:2]\n",
    "            xy_list_transf = np.round(xy_list_transf, decimals=0).astype(int)\n",
    "            xy_list_origin_sbv = bundle_sbvs(PIXEL_FEATURE_SBVS[xy_list_to_pixel_feature_inds(xy_list_origin)])\n",
    "            xy_list_transf_sbv = bundle_sbvs(PIXEL_FEATURE_SBVS[xy_list_to_pixel_feature_inds(xy_list_transf)])\n",
    "            assert xy_list_origin_sbv.shape[0] == HP_SIGNAL_VEC_LEN\n",
    "            assert xy_list_transf_sbv.shape[0] == HP_SIGNAL_VEC_LEN\n",
    "            \n",
    "            self.image_variants_generated += 1\n",
    "            signals_input.append(xy_list_origin_sbv)\n",
    "            signals_output.append(xy_list_transf_sbv)\n",
    "            signal_ids.append((self.image_id, tuple(map(int, sorted(xy_list_inds)))))\n",
    "            signal_xy_lists_input.append(xy_list_origin)\n",
    "            signal_xy_lists_output.append(xy_list_transf)\n",
    "\n",
    "        assert len(signals_input) == len(signals_output)\n",
    "        assert len(signals_input) == len(signal_ids)\n",
    "        assert len(signals_input) == len(signal_xy_lists_input)\n",
    "        assert len(signals_input) == len(signal_xy_lists_output)\n",
    "        return SignalsGeneratorResult(signals_input=np.vstack(signals_input), \n",
    "                                      signals_output=np.vstack(signals_output), \n",
    "                                      signal_ids=signal_ids,\n",
    "                                      signal_xy_lists_input=signal_xy_lists_input,\n",
    "                                      signal_xy_lists_output=signal_xy_lists_output,\n",
    "                                      xy_list_full=self.xy_list_full)\n",
    "\n",
    "    def switch(self):\n",
    "        pass"
   ]
  },
  {
   "cell_type": "code",
   "execution_count": 35,
   "id": "2b0e17c6-76e4-468c-aef6-0ab313fd94f3",
   "metadata": {},
   "outputs": [],
   "source": [
    "generator = RealImageSignalsGenerator(TRANSF, 100, 10)"
   ]
  },
  {
   "cell_type": "code",
   "execution_count": 36,
   "id": "f43d9bc0-6bba-430b-b426-d0c9e67ea094",
   "metadata": {},
   "outputs": [
    {
     "name": "stdout",
     "output_type": "stream",
     "text": [
      "CPU times: user 7.36 s, sys: 12 ms, total: 7.37 s\n",
      "Wall time: 119 ms\n"
     ]
    }
   ],
   "source": [
    "%%time\n",
    "sgr = generator()\n",
    "signal_ind = 0"
   ]
  },
  {
   "cell_type": "code",
   "execution_count": 37,
   "id": "72a4b162-f21a-4183-a1cf-d871c15b7e04",
   "metadata": {},
   "outputs": [
    {
     "data": {
      "image/png": "[encoded data removed]",
      "text/plain": [
       "<Figure size 1600x480 with 3 Axes>"
      ]
     },
     "metadata": {},
     "output_type": "display_data"
    }
   ],
   "source": [
    "# signal_ind = RNG.choice(len(sgr.signals_output))\n",
    "# signal_ind = 19\n",
    "signal_ind = (signal_ind + 1) % len(sgr.signals_output)\n",
    "pixel_feature_inds = debundle_sbv(sgr.signals_output[signal_ind], PIXEL_FEATURE_SBVS, HP_SIGNAL_VEC_NON_ZERO_BITS)\n",
    "bm_output = PIXEL_FEATURE_BITMAP_MASKS[pixel_feature_inds].sum(axis=0)\n",
    "bm_output = xp_array_from_gpu(bm_output)\n",
    "    \n",
    "fig, (ax1, ax2, ax3) = plt.subplots(1, 3)\n",
    "fig.set_figwidth(16)\n",
    "ax1.set_title(f'Input #{signal_ind}: {sgr.signal_xy_lists_input[signal_ind].shape[0]} xy items')\n",
    "ax1.imshow(vec_to_square_matrix(xy_list_to_ohe_vec(sgr.signal_xy_lists_input[signal_ind])))\n",
    "ax2.set_title(f'Transformed: {sgr.signal_xy_lists_output[signal_ind].shape[0]} xy items')\n",
    "ax2.imshow(vec_to_square_matrix(xy_list_to_ohe_vec(sgr.signal_xy_lists_output[signal_ind])))\n",
    "ax3.set_title(f'Decoded from SBV: {np.count_nonzero(pixel_feature_inds)} pixel features')\n",
    "ax3.imshow(vec_to_square_matrix(bm_output));"
   ]
  },
  {
   "cell_type": "markdown",
   "id": "8584e695-2870-4f02-861c-3217675901f3",
   "metadata": {},
   "source": [
    "### FixedPixelFeatureSignalsGenerator"
   ]
  },
  {
   "cell_type": "code",
   "execution_count": 38,
   "id": "482b9dad-fc72-4610-b1b3-30d2d58f6617",
   "metadata": {},
   "outputs": [],
   "source": [
    "# one pixel feature is fixed for a number calls (fixation period) and remaining features are randomly picked according to their frequency\n",
    "class FixedPixelFeatureSignalsGenerator:\n",
    "    def __init__(self, transf, signals_count, fixation_period, logger=lambda m: True):\n",
    "        self.transf = transf\n",
    "        self.signals_count = signals_count\n",
    "        assert fixation_period > 0\n",
    "        self.fixation_period = fixation_period\n",
    "        self.fixation_countdown = self.fixation_period\n",
    "        self.fixed_pixel_feature_ind = -1\n",
    "        self.pixel_feature_inds_sorted_by_freq_desc = np.argsort(-PIXEL_FEATURE_FREQS)\n",
    "        # strip pixel features which have zero freqs, i.o.w. leave only those with nonzero\n",
    "        active_pixel_features_count = np.count_nonzero(PIXEL_FEATURE_FREQS)\n",
    "        assert active_pixel_features_count > 0\n",
    "        self.pixel_feature_inds_sorted_by_freq_desc = self.pixel_feature_inds_sorted_by_freq_desc[:active_pixel_features_count]\n",
    "        assert self.pixel_feature_inds_sorted_by_freq_desc.shape[0] == active_pixel_features_count\n",
    "        self.pixel_feature_inds = np.arange(PIXEL_FEATURE_SBVS.shape[0])\n",
    "        \n",
    "    def __call__(self):\n",
    "        signals_input = [] # SBV\n",
    "        signals_output = [] # SBV\n",
    "        signal_ids = []\n",
    "        signal_xy_lists_input = []\n",
    "        signal_xy_lists_output = []\n",
    "\n",
    "        while len(signals_input) < self.signals_count:\n",
    "            if self.fixed_pixel_feature_ind == -1 or self.fixation_countdown <= 0:\n",
    "                self.fixed_pixel_feature_ind = self.pixel_feature_inds_sorted_by_freq_desc[0]\n",
    "                self.pixel_feature_inds_sorted_by_freq_desc = np.roll(self.pixel_feature_inds_sorted_by_freq_desc, -1)\n",
    "                # temporarily ban fixed pixel feature from being picked up as a free one\n",
    "                self.free_pixel_feature_probs = PIXEL_FEATURE_FREQS[:].astype('f')\n",
    "                self.free_pixel_feature_probs[self.fixed_pixel_feature_ind] = 0\n",
    "                self.free_pixel_feature_probs /= self.free_pixel_feature_probs.sum()\n",
    "                self.fixation_countdown = self.fixation_period\n",
    "\n",
    "            assert self.fixed_pixel_feature_ind != -1\n",
    "            # pick up remaining pixel feature (via their probabilities) excluding fixed pixel feature\n",
    "            free_pixel_feature_inds = RNG.choice(self.pixel_feature_inds, HP_SIGNAL_VEC_FEATURES_COUNT-1, p=self.free_pixel_feature_probs, replace=False)\n",
    "            pixel_feature_inds_input = np.hstack([self.fixed_pixel_feature_ind, free_pixel_feature_inds])\n",
    "            assert pixel_feature_inds_input.shape[0] == HP_SIGNAL_VEC_FEATURES_COUNT\n",
    "\n",
    "            xy_list_input = PIXEL_FEATURE_XY_ARRAY[pixel_feature_inds_input]\n",
    "            xy_list_transf = np.hstack([xy_list_input, np.ones(xy_list_input.shape[0])[:,np.newaxis]]) # make homogeneous coords\n",
    "            xy_list_transf = (self.transf @ xy_list_transf.T).T[:,:2]\n",
    "            xy_list_transf = np.round(xy_list_transf, decimals=0).astype(int)\n",
    "            # pixel_feature_inds_output = xy_list_to_nearest_pixel_feature_inds(xy_list_transf) # must be used when there is overlap among pixel features\n",
    "            # pixel_feature_inds_output = xy_list_to_pixel_feature_inds(xy_list_transf) # can be used when there is no overlap among pixel features\n",
    "            pixel_feature_inds_output = xy_list_to_pixel_feature_inds(xy_list_transf) # can be used when there is no overlap among pixel features\n",
    "            xy_list_output = PIXEL_FEATURE_XY_ARRAY[pixel_feature_inds_output]\n",
    "            xy_list_input_sbv = bundle_sbvs(PIXEL_FEATURE_SBVS[pixel_feature_inds_input])\n",
    "            xy_list_output_sbv = bundle_sbvs(PIXEL_FEATURE_SBVS[pixel_feature_inds_output])\n",
    "            assert xy_list_input_sbv.shape[0] == HP_SIGNAL_VEC_LEN\n",
    "            assert xy_list_output_sbv.shape[0] == HP_SIGNAL_VEC_LEN\n",
    "            self.fixation_countdown -= 1\n",
    "            \n",
    "            signals_input.append(xy_list_input_sbv)\n",
    "            signals_output.append(xy_list_output_sbv)\n",
    "            signal_ids.append(tuple(map(int, sorted(pixel_feature_inds_input))))\n",
    "            signal_xy_lists_input.append(xy_list_input)\n",
    "            signal_xy_lists_output.append(xy_list_output)\n",
    "\n",
    "        assert len(signals_input) == len(signals_output)\n",
    "        assert len(signals_input) == len(signal_ids)\n",
    "        assert len(signals_input) == len(signal_xy_lists_input)\n",
    "        assert len(signals_input) == len(signal_xy_lists_output)\n",
    "        return SignalsGeneratorResult(signals_input=np.vstack(signals_input), \n",
    "                                      signals_output=np.vstack(signals_output),\n",
    "                                      signal_ids=signal_ids,\n",
    "                                      signal_xy_lists_input=signal_xy_lists_input,\n",
    "                                      signal_xy_lists_output=signal_xy_lists_output,\n",
    "                                      xy_list_full=[])\n",
    "\n",
    "    def switch(self):\n",
    "        pass"
   ]
  },
  {
   "cell_type": "code",
   "execution_count": 39,
   "id": "5fbf6b35-2f32-480d-b83a-e7c5b4e2f423",
   "metadata": {},
   "outputs": [],
   "source": [
    "generator = FixedPixelFeatureSignalsGenerator(TRANSF, 100, 10)"
   ]
  },
  {
   "cell_type": "code",
   "execution_count": 40,
   "id": "3092b3c0-a77d-45f9-b61a-9ae7490cba91",
   "metadata": {},
   "outputs": [
    {
     "name": "stdout",
     "output_type": "stream",
     "text": [
      "CPU times: user 4.6 s, sys: 7.11 ms, total: 4.61 s\n",
      "Wall time: 74 ms\n"
     ]
    }
   ],
   "source": [
    "%%time\n",
    "sgr = generator()\n",
    "signal_ind = 0"
   ]
  },
  {
   "cell_type": "code",
   "execution_count": 41,
   "id": "7ff48a2a-53f3-4de0-b904-3a25a9d6bc34",
   "metadata": {},
   "outputs": [
    {
     "data": {
      "image/png": "[encoded data removed]",
      "text/plain": [
       "<Figure size 1600x480 with 3 Axes>"
      ]
     },
     "metadata": {},
     "output_type": "display_data"
    }
   ],
   "source": [
    "# signal_ind = RNG.choice(len(sgr.signals_output))\n",
    "# signal_ind = 19\n",
    "signal_ind = (signal_ind + 1) % len(sgr.signals_output)\n",
    "pixel_feature_inds = debundle_sbv(sgr.signals_output[signal_ind], PIXEL_FEATURE_SBVS, HP_SIGNAL_VEC_NON_ZERO_BITS)\n",
    "bm_output = PIXEL_FEATURE_BITMAP_MASKS[pixel_feature_inds].sum(axis=0)\n",
    "bm_output = xp_array_from_gpu(bm_output)\n",
    "    \n",
    "fig, (ax1, ax2, ax3) = plt.subplots(1, 3)\n",
    "fig.set_figwidth(16)\n",
    "ax1.set_title(f'Input #{signal_ind}: {sgr.signal_xy_lists_input[signal_ind].shape[0]} xy items')\n",
    "t = xy_list_to_ohe_vec(sgr.signal_xy_lists_input[signal_ind])\n",
    "t[PIXEL_FEATURE_XY_ARRAY[generator.fixed_pixel_feature_ind] @ [1, config.sample_size]] = 2\n",
    "ax1.imshow(vec_to_square_matrix(t))\n",
    "ax2.set_title(f'Transformed: {sgr.signal_xy_lists_output[signal_ind].shape[0]} xy items')\n",
    "ax2.imshow(vec_to_square_matrix(xy_list_to_ohe_vec(sgr.signal_xy_lists_output[signal_ind])))\n",
    "ax3.set_title(f'Decoded from SBV: {np.count_nonzero(pixel_feature_inds)} pixel features')\n",
    "ax3.imshow(vec_to_square_matrix(bm_output));"
   ]
  },
  {
   "cell_type": "markdown",
   "id": "b6cdc2e5-a4e6-4020-83c8-70d9235c4c0b",
   "metadata": {},
   "source": [
    "### RollingPixelFeatureSignalsGenerator"
   ]
  },
  {
   "cell_type": "code",
   "execution_count": 42,
   "id": "9788b21c-d563-4cc7-9170-e671925bb04d",
   "metadata": {},
   "outputs": [],
   "source": [
    "# On every call specified number (fresh_count) of pixel features is replaced with a fresh ones\n",
    "class RollingPixelFeatureSignalsGenerator:\n",
    "    def __init__(self, transf, signals_count, fresh_count, logger=lambda m: True):\n",
    "        self.transf = transf\n",
    "        self.signals_count = signals_count\n",
    "        assert fresh_count > 0\n",
    "        self.fresh_count = fresh_count\n",
    "        self.pixel_feature_inds_fifo = np.array([])\n",
    "        self.pixel_feature_inds_set = set()\n",
    "        self.pixel_feature_probs = PIXEL_FEATURE_FREQS[:].astype('f')\n",
    "        self.pixel_feature_probs /= self.pixel_feature_probs.sum()\n",
    "        self.pixel_features_count = PIXEL_FEATURE_FREQS.shape[0]\n",
    "        \n",
    "    def __call__(self):\n",
    "        signals_input = [] # SBV\n",
    "        signals_output = [] # SBV\n",
    "        signal_ids = []\n",
    "        signal_xy_lists_input = []\n",
    "        signal_xy_lists_output = []\n",
    "\n",
    "        while len(signals_input) < self.signals_count:\n",
    "            if self.pixel_feature_inds_fifo.shape[0] == 0:\n",
    "                self.pixel_feature_inds_fifo = RNG.choice(self.pixel_features_count, HP_SIGNAL_VEC_FEATURES_COUNT, p=self.pixel_feature_probs, replace=False)\n",
    "                self.pixel_feature_inds_set = set(self.pixel_feature_inds_fifo)\n",
    "            else:\n",
    "                fresh_pixel_features_gathered = 0\n",
    "                \n",
    "                for _ in range(self.fresh_count):\n",
    "                    for _ in range(self.pixel_features_count):\n",
    "                        new_pixel_feature_ind = RNG.choice(self.pixel_features_count, p=self.pixel_feature_probs)\n",
    "\n",
    "                        if not new_pixel_feature_ind in self.pixel_feature_inds_set:\n",
    "                            self.pixel_feature_inds_fifo = np.hstack([self.pixel_feature_inds_fifo, new_pixel_feature_ind])\n",
    "                            self.pixel_feature_inds_set.add(new_pixel_feature_ind)\n",
    "                            fresh_pixel_features_gathered += 1\n",
    "                            break\n",
    "                    else:\n",
    "                        # failed to find new pixel feature ind which is not within self.pixel_feature_inds_fifo, =(\n",
    "                        # maybe next call will be more successful...\n",
    "                        pass\n",
    "\n",
    "                assert fresh_pixel_features_gathered >=0 and fresh_pixel_features_gathered <= self.fresh_count, fresh_pixel_features_gathered\n",
    "                removed_pixel_feature_inds = self.pixel_feature_inds_fifo[:fresh_pixel_features_gathered]\n",
    "                self.pixel_feature_inds_fifo = self.pixel_feature_inds_fifo[fresh_pixel_features_gathered:]\n",
    "                for ind in removed_pixel_feature_inds: self.pixel_feature_inds_set.remove(ind)\n",
    "\n",
    "            pixel_feature_inds_input = self.pixel_feature_inds_fifo\n",
    "            xy_list_input = PIXEL_FEATURE_XY_ARRAY[pixel_feature_inds_input]\n",
    "            xy_list_transf = np.hstack([xy_list_input, np.ones(xy_list_input.shape[0])[:,np.newaxis]]) # make homogeneous coords\n",
    "            xy_list_transf = (self.transf @ xy_list_transf.T).T[:,:2]\n",
    "            xy_list_transf = np.round(xy_list_transf, decimals=0).astype(int)\n",
    "            # pixel_feature_inds_output = xy_list_to_nearest_pixel_feature_inds(xy_list_transf) # must be used when there is overlap among pixel features\n",
    "            # pixel_feature_inds_output = xy_list_to_pixel_feature_inds(xy_list_transf) # can be used when there is no overlap among pixel features\n",
    "            pixel_feature_inds_output = xy_list_to_pixel_feature_inds(xy_list_transf) # can be used when there is no overlap among pixel features\n",
    "            xy_list_output = PIXEL_FEATURE_XY_ARRAY[pixel_feature_inds_output]\n",
    "            xy_list_input_sbv = bundle_sbvs(PIXEL_FEATURE_SBVS[pixel_feature_inds_input])\n",
    "            xy_list_output_sbv = bundle_sbvs(PIXEL_FEATURE_SBVS[pixel_feature_inds_output])\n",
    "            assert xy_list_input_sbv.shape[0] == HP_SIGNAL_VEC_LEN\n",
    "            assert xy_list_output_sbv.shape[0] == HP_SIGNAL_VEC_LEN\n",
    "            \n",
    "            signals_input.append(xy_list_input_sbv)\n",
    "            signals_output.append(xy_list_output_sbv)\n",
    "            signal_ids.append(tuple(map(int, sorted(pixel_feature_inds_input))))\n",
    "            signal_xy_lists_input.append(xy_list_input)\n",
    "            signal_xy_lists_output.append(xy_list_output)\n",
    "\n",
    "        assert len(signals_input) == len(signals_output)\n",
    "        assert len(signals_input) == len(signal_ids)\n",
    "        assert len(signals_input) == len(signal_xy_lists_input)\n",
    "        assert len(signals_input) == len(signal_xy_lists_output)\n",
    "        return SignalsGeneratorResult(signals_input=np.vstack(signals_input), \n",
    "                                      signals_output=np.vstack(signals_output),\n",
    "                                      signal_ids=signal_ids,\n",
    "                                      signal_xy_lists_input=signal_xy_lists_input,\n",
    "                                      signal_xy_lists_output=signal_xy_lists_output,\n",
    "                                      xy_list_full=[])\n",
    "\n",
    "    def switch(self):\n",
    "        pass"
   ]
  },
  {
   "cell_type": "code",
   "execution_count": 43,
   "id": "7818f44c-2b09-45da-be87-407ff05b8245",
   "metadata": {},
   "outputs": [],
   "source": [
    "generator = RollingPixelFeatureSignalsGenerator(TRANSF, 100, 1)"
   ]
  },
  {
   "cell_type": "code",
   "execution_count": 44,
   "id": "0a5d9a3b-6051-4478-b2df-8c099987c8ce",
   "metadata": {},
   "outputs": [
    {
     "name": "stdout",
     "output_type": "stream",
     "text": [
      "CPU times: user 3.67 s, sys: 0 ns, total: 3.67 s\n",
      "Wall time: 58.9 ms\n"
     ]
    }
   ],
   "source": [
    "%%time\n",
    "sgr = generator()\n",
    "signal_ind = 0"
   ]
  },
  {
   "cell_type": "code",
   "execution_count": 45,
   "id": "0f66996f-f9b1-4048-a47e-e1b4a73dffb6",
   "metadata": {},
   "outputs": [
    {
     "data": {
      "image/png": "[encoded data removed]",
      "text/plain": [
       "<Figure size 1600x480 with 3 Axes>"
      ]
     },
     "metadata": {},
     "output_type": "display_data"
    }
   ],
   "source": [
    "signal_ind = (signal_ind + 1) % len(sgr.signals_output)\n",
    "pixel_feature_inds = debundle_sbv(sgr.signals_output[signal_ind], PIXEL_FEATURE_SBVS, HP_SIGNAL_VEC_NON_ZERO_BITS)\n",
    "bm_output = PIXEL_FEATURE_BITMAP_MASKS[pixel_feature_inds].sum(axis=0)\n",
    "bm_output = xp_array_from_gpu(bm_output)\n",
    "    \n",
    "fig, (ax1, ax2, ax3) = plt.subplots(1, 3)\n",
    "fig.set_figwidth(16)\n",
    "ax1.set_title(f'Input #{signal_ind}: {sgr.signal_xy_lists_input[signal_ind].shape[0]} xy items')\n",
    "ax1.imshow(vec_to_square_matrix(xy_list_to_ohe_vec(sgr.signal_xy_lists_input[signal_ind])))\n",
    "ax2.set_title(f'Transformed: {sgr.signal_xy_lists_output[signal_ind].shape[0]} xy items')\n",
    "ax2.imshow(vec_to_square_matrix(xy_list_to_ohe_vec(sgr.signal_xy_lists_output[signal_ind])))\n",
    "ax3.set_title(f'Decoded from SBV: {np.count_nonzero(pixel_feature_inds)} pixel features')\n",
    "ax3.imshow(vec_to_square_matrix(bm_output));"
   ]
  },
  {
   "cell_type": "markdown",
   "id": "eea2abc0-1c71-43ed-85fe-4b70824d3dac",
   "metadata": {},
   "source": [
    "### PooledPixelFeatureSignalsGenerator"
   ]
  },
  {
   "cell_type": "code",
   "execution_count": 46,
   "id": "7b37e997-8ab1-4035-8fba-31154364e8c8",
   "metadata": {},
   "outputs": [],
   "source": [
    "# Create pool of pixel features of designated size (pool_size) and sample signals from that pool. \n",
    "# Recreate pool on switch call\n",
    "class PooledPixelFeatureSignalsGenerator:\n",
    "    def __init__(self, transf, signals_count, pool_size, logger=lambda m: True):\n",
    "        self.logger = logger\n",
    "        self.transf = transf\n",
    "        self.signals_count = signals_count\n",
    "        assert pool_size >= HP_SIGNAL_VEC_FEATURES_COUNT\n",
    "        self.pool_size = pool_size\n",
    "        self.pooled_pixel_feature_inds = np.array([])\n",
    "        self.pixel_feature_inds_sorted_by_freq_desc = np.argsort(-PIXEL_FEATURE_FREQS)\n",
    "        # strip pixel features which have zero freqs, i.o.w. leave only those with nonzero\n",
    "        active_pixel_features_count = np.count_nonzero(PIXEL_FEATURE_FREQS)\n",
    "        assert active_pixel_features_count > 0\n",
    "        self.pixel_feature_inds_sorted_by_freq_desc = self.pixel_feature_inds_sorted_by_freq_desc[:active_pixel_features_count]\n",
    "        assert self.pixel_feature_inds_sorted_by_freq_desc.shape[0] == active_pixel_features_count\n",
    "        self.switch()\n",
    "        \n",
    "    def __call__(self):\n",
    "        signals_input = [] # SBV\n",
    "        signals_output = [] # SBV\n",
    "        signal_ids = []\n",
    "        signal_xy_lists_input = []\n",
    "        signal_xy_lists_output = []\n",
    "\n",
    "        while len(signals_input) < self.signals_count:\n",
    "            pixel_feature_inds_input = RNG.choice(self.pooled_pixel_feature_inds, HP_SIGNAL_VEC_FEATURES_COUNT, replace=False)\n",
    "            xy_list_input = PIXEL_FEATURE_XY_ARRAY[pixel_feature_inds_input]\n",
    "            xy_list_transf = np.hstack([xy_list_input, np.ones(xy_list_input.shape[0])[:,np.newaxis]]) # make homogeneous coords\n",
    "            xy_list_transf = (self.transf @ xy_list_transf.T).T[:,:2]\n",
    "            xy_list_transf = np.round(xy_list_transf, decimals=0).astype(int)\n",
    "            # pixel_feature_inds_output = xy_list_to_nearest_pixel_feature_inds(xy_list_transf) # must be used when there is overlap among pixel features\n",
    "            pixel_feature_inds_output = xy_list_to_pixel_feature_inds(xy_list_transf) # can be used when there is no overlap among pixel features\n",
    "            xy_list_output = PIXEL_FEATURE_XY_ARRAY[pixel_feature_inds_output]\n",
    "            xy_list_input_sbv = bundle_sbvs(PIXEL_FEATURE_SBVS[pixel_feature_inds_input])\n",
    "            xy_list_output_sbv = bundle_sbvs(PIXEL_FEATURE_SBVS[pixel_feature_inds_output])\n",
    "            assert xy_list_input_sbv.shape[0] == HP_SIGNAL_VEC_LEN\n",
    "            assert xy_list_output_sbv.shape[0] == HP_SIGNAL_VEC_LEN\n",
    "\n",
    "            signals_input.append(xy_list_input_sbv)\n",
    "            signals_output.append(xy_list_output_sbv)\n",
    "            signal_ids.append(tuple(map(int, sorted(pixel_feature_inds_input))))\n",
    "            signal_xy_lists_input.append(xy_list_input)\n",
    "            signal_xy_lists_output.append(xy_list_output)\n",
    "\n",
    "        assert len(signals_input) == len(signals_output)\n",
    "        assert len(signals_input) == len(signal_ids)\n",
    "        assert len(signals_input) == len(signal_xy_lists_input)\n",
    "        assert len(signals_input) == len(signal_xy_lists_output)\n",
    "        return SignalsGeneratorResult(signals_input=np.vstack(signals_input), \n",
    "                                      signals_output=np.vstack(signals_output),\n",
    "                                      signal_ids=signal_ids,\n",
    "                                      signal_xy_lists_input=signal_xy_lists_input,\n",
    "                                      signal_xy_lists_output=signal_xy_lists_output,\n",
    "                                      xy_list_full=[])\n",
    "\n",
    "    def switch(self):\n",
    "        self.pooled_pixel_feature_inds = self.pixel_feature_inds_sorted_by_freq_desc[:self.pool_size]\n",
    "        self.pixel_feature_inds_sorted_by_freq_desc = np.roll(self.pixel_feature_inds_sorted_by_freq_desc, -self.pool_size)\n",
    "        l = self.pooled_pixel_feature_inds[0]\n",
    "        h = self.pooled_pixel_feature_inds[-1]\n",
    "        self.logger(f'Pool inds=[{l}, ..., {h}], freqs=[{PIXEL_FEATURE_FREQS[l]}, ..., {PIXEL_FEATURE_FREQS[h]}]')\n",
    "        assert self.pooled_pixel_feature_inds.shape[0] >= HP_SIGNAL_VEC_FEATURES_COUNT"
   ]
  },
  {
   "cell_type": "code",
   "execution_count": 47,
   "id": "6a24b503-6dbc-4de4-bb5f-8c0ac1459e4d",
   "metadata": {},
   "outputs": [
    {
     "name": "stdout",
     "output_type": "stream",
     "text": [
      "Pool inds=[338, ..., 308], freqs=[518, ..., 418]\n"
     ]
    }
   ],
   "source": [
    "generator = PooledPixelFeatureSignalsGenerator(TRANSF, 100, 30, logger=lambda m: print(m))"
   ]
  },
  {
   "cell_type": "code",
   "execution_count": 48,
   "id": "df9d8338-d79c-447c-9c1f-3f9597e18b1d",
   "metadata": {},
   "outputs": [
    {
     "name": "stdout",
     "output_type": "stream",
     "text": [
      "CPU times: user 3.14 s, sys: 3.25 ms, total: 3.14 s\n",
      "Wall time: 49.5 ms\n"
     ]
    }
   ],
   "source": [
    "%%time\n",
    "sgr = generator()\n",
    "signal_ind = 0"
   ]
  },
  {
   "cell_type": "code",
   "execution_count": 49,
   "id": "ff68218d-b223-435a-9c5d-29b69dae4a0c",
   "metadata": {},
   "outputs": [
    {
     "data": {
      "image/png": "[encoded data removed]",
      "text/plain": [
       "<Figure size 1600x480 with 3 Axes>"
      ]
     },
     "metadata": {},
     "output_type": "display_data"
    }
   ],
   "source": [
    "signal_ind = (signal_ind + 1) % len(sgr.signals_output)\n",
    "pixel_feature_inds = debundle_sbv(sgr.signals_output[signal_ind], PIXEL_FEATURE_SBVS, HP_SIGNAL_VEC_NON_ZERO_BITS)\n",
    "bm_output = PIXEL_FEATURE_BITMAP_MASKS[pixel_feature_inds].sum(axis=0)\n",
    "bm_output = xp_array_from_gpu(bm_output)\n",
    "    \n",
    "fig, (ax1, ax2, ax3) = plt.subplots(1, 3)\n",
    "fig.set_figwidth(16)\n",
    "ax1.set_title(f'Input #{signal_ind}: {sgr.signal_xy_lists_input[signal_ind].shape[0]} xy items')\n",
    "ax1.imshow(vec_to_square_matrix(xy_list_to_ohe_vec(sgr.signal_xy_lists_input[signal_ind])))\n",
    "ax2.set_title(f'Transformed: {sgr.signal_xy_lists_output[signal_ind].shape[0]} xy items')\n",
    "ax2.imshow(vec_to_square_matrix(xy_list_to_ohe_vec(sgr.signal_xy_lists_output[signal_ind])))\n",
    "ax3.set_title(f'Decoded from SBV: {np.count_nonzero(pixel_feature_inds)} pixel features')\n",
    "ax3.imshow(vec_to_square_matrix(bm_output));"
   ]
  },
  {
   "cell_type": "markdown",
   "id": "ef66cf7b-eecd-4f77-b6b4-51357f7df976",
   "metadata": {},
   "source": [
    "### AsyncSignalsGenerator"
   ]
  },
  {
   "cell_type": "code",
   "execution_count": 50,
   "id": "a7c56784-3284-4abc-af5b-93d1e569f7bf",
   "metadata": {},
   "outputs": [],
   "source": [
    "@dataclass\n",
    "class AsyncSignalsGeneratorTask:\n",
    "    task_id: int\n",
    "    op: str\n",
    "    params: dict = None\n",
    "\n",
    "@dataclass\n",
    "class AsyncSignalsGeneratorTaskResult:\n",
    "    task_id: int\n",
    "    payload: typing.Any = None\n",
    "\n",
    "def async_signals_generator_fun(generator_typename, inp_queue, out_queue, *args):\n",
    "    LOG.app_name = 'HOST_ASG'\n",
    "    LOG(f'Starting host for async signals generator {generator_typename}')\n",
    "\n",
    "    match generator_typename:\n",
    "        case RealImageSignalsGenerator.__name__:\n",
    "            generator = RealImageSignalsGenerator(*args, logger=LOG)\n",
    "        case FixedPixelFeatureSignalsGenerator.__name__:\n",
    "            generator = FixedPixelFeatureSignalsGenerator(*args, logger=LOG)\n",
    "        case RollingPixelFeatureSignalsGenerator.__name__:\n",
    "            generator = RollingPixelFeatureSignalsGenerator(*args, logger=LOG)\n",
    "        case PooledPixelFeatureSignalsGenerator.__name__:\n",
    "            generator = PooledPixelFeatureSignalsGenerator(*args, logger=LOG)\n",
    "        case _:\n",
    "            assert False, generator_typename\n",
    "\n",
    "    LOG(f'Host is ready')\n",
    "\n",
    "    task_wait_timeout = 60\n",
    "    is_running = True\n",
    "    is_recreate_pending = True\n",
    "\n",
    "    while is_running:\n",
    "        if is_recreate_pending:\n",
    "            LOG('Begin generating signals')\n",
    "            sgr = generator()\n",
    "            LOG('End generating signals')\n",
    "            is_recreate_pending = False\n",
    "            \n",
    "        try:\n",
    "            task = inp_queue.get(block=True, timeout=task_wait_timeout)\n",
    "        except queue.Empty:\n",
    "            LOG(f'Didn\\'t get any tasks within {task_wait_timeout} seconds, waiting again')\n",
    "            continue\n",
    "\n",
    "        with LOG.auto_prefix('TASK_ID', task.task_id):\n",
    "            LOG(f'Got task #{task.task_id} {task.op}')\n",
    "            task_result = AsyncSignalsGeneratorTaskResult(task_id=task.task_id)\n",
    "            \n",
    "            match task.op:\n",
    "                case 'HEALTHCHECK':\n",
    "                    pass\n",
    "                case 'TERMINATE':\n",
    "                    is_running = False\n",
    "                case 'GENERATE':\n",
    "                    task_result.payload = sgr\n",
    "                    is_recreate_pending = True\n",
    "                case 'SWITCH':\n",
    "                    generator.switch()\n",
    "                    is_recreate_pending = True\n",
    "                case _:\n",
    "                    LOG(f'Unknown task op: {task.op}, ignoring')\n",
    "    \n",
    "            out_queue.put(task_result)\n",
    "            LOG('Task complete')\n",
    "        \n",
    "    LOG(f'Host is going down')\n",
    "        \n",
    "class AsyncSignalsGenerator:\n",
    "    task_id = 0\n",
    "    \n",
    "    def __init__(self, generator_type, *args):\n",
    "        mp_ctx = mp.get_context('fork')\n",
    "        self.task_queue = mp_ctx.Queue()\n",
    "        self.result_queue = mp_ctx.Queue()\n",
    "        self.process = mp_ctx.Process(target=async_signals_generator_fun, \n",
    "                                      args=(generator_type.__name__, self.task_queue, self.result_queue, *args))\n",
    "        self.process.start()\n",
    "\n",
    "    @staticmethod\n",
    "    def gen_task_id():\n",
    "        AsyncSignalsGenerator.task_id += 1\n",
    "        return AsyncSignalsGenerator.task_id\n",
    "\n",
    "    def healthcheck(self):\n",
    "        assert self.process.is_alive()\n",
    "        task = AsyncSignalsGeneratorTask(task_id=self.gen_task_id(), op='HEALTHCHECK')\n",
    "        self.task_queue.put(task)\n",
    "        self.result_queue.get(timeout=3)\n",
    "        \n",
    "    def terminate(self):\n",
    "        if not self.process.is_alive():\n",
    "            return\n",
    "            \n",
    "        task = AsyncSignalsGeneratorTask(task_id=self.gen_task_id(), op='TERMINATE')\n",
    "        self.task_queue.put(task)\n",
    "        try:\n",
    "            self.result_queue.get(timeout=10)\n",
    "            self.process.join()\n",
    "        except queue.Empty:\n",
    "            print('Failed to shutdown host gracefully, terminating')\n",
    "            self.process.terminate()\n",
    "\n",
    "    def __call__(self):\n",
    "        assert self.process.is_alive()\n",
    "        task = AsyncSignalsGeneratorTask(task_id=self.gen_task_id(), op='GENERATE')\n",
    "        self.task_queue.put(task)\n",
    "        sgr = self.result_queue.get().payload\n",
    "        return sgr\n",
    "\n",
    "    def switch(self):\n",
    "        assert self.process.is_alive()\n",
    "        task = AsyncSignalsGeneratorTask(task_id=self.gen_task_id(), op='SWITCH')\n",
    "        self.task_queue.put(task)\n",
    "        self.result_queue.get()"
   ]
  },
  {
   "cell_type": "code",
   "execution_count": 51,
   "id": "ffec3279-3bd2-4fb4-ba78-77813ff25362",
   "metadata": {},
   "outputs": [
    {
     "name": "stdout",
     "output_type": "stream",
     "text": [
      "Async signals generator is ready\n",
      "CPU times: user 1.31 ms, sys: 4.98 ms, total: 6.29 ms\n",
      "Wall time: 16.2 ms\n",
      "Async signals generator terminated\n"
     ]
    }
   ],
   "source": [
    "try:\n",
    "    # test_signals_generator = AsyncSignalsGenerator(RealImageSignalsGenerator, TRANSF, 100, 10)\n",
    "    # test_signals_generator = AsyncSignalsGenerator(FixedPixelFeatureSignalsGenerator, TRANSF, 100, 10)\n",
    "    # test_signals_generator = AsyncSignalsGenerator(RollingPixelFeatureSignalsGenerator, TRANSF, 100, 10)\n",
    "    test_signals_generator = AsyncSignalsGenerator(PooledPixelFeatureSignalsGenerator, TRANSF, 100, 30)\n",
    "    test_signals_generator.healthcheck()\n",
    "    print(f'Async signals generator is ready')\n",
    "    %time sgr = test_signals_generator()\n",
    "finally:\n",
    "    test_signals_generator.terminate()\n",
    "    print(f'Async signals generator terminated')\n",
    "    del test_signals_generator"
   ]
  },
  {
   "cell_type": "markdown",
   "id": "540c8953-6ec6-41ad-945a-9f397989b501",
   "metadata": {},
   "source": [
    "## Points"
   ]
  },
  {
   "cell_type": "raw",
   "id": "d97e49f9-261c-4316-bf89-3f28475c9835",
   "metadata": {},
   "source": [
    "Here we define combinatorial points"
   ]
  },
  {
   "cell_type": "code",
   "execution_count": 52,
   "id": "9dbcbcad-eb00-4479-a32b-ae36b8373cce",
   "metadata": {},
   "outputs": [
    {
     "data": {
      "application/vnd.jupyter.widget-view+json": {
       "model_id": "6dd5bc359c904182ab8297e5714c3010",
       "version_major": 2,
       "version_minor": 0
      },
      "text/plain": [
       "Load:   0%|          | 0/1000 [00:00<?, ?it/s]"
      ]
     },
     "metadata": {},
     "output_type": "display_data"
    },
    {
     "name": "stdout",
     "output_type": "stream",
     "text": [
      "250_000 POINTS loaded from database\n"
     ]
    }
   ],
   "source": [
    "df_points = pd.read_sql('SELECT output_bit, nzb_list FROM points WHERE encoding=:encoding AND count=:count AND non_zero_bits=:non_zero_bits', \n",
    "                        params={\n",
    "                            'encoding': HP_SIGNAL_ENCODING,\n",
    "                            'count': HP_POINTS_COUNT,\n",
    "                            'non_zero_bits': HP_POINT_NON_ZERO_BITS}, \n",
    "                        con=transfs_db_con)\n",
    "\n",
    "if len(df_points) > 0:\n",
    "    POINTS = []\n",
    "    POINT_OUTPUT_BITS = []\n",
    "    \n",
    "    for row in tqdm(df_points.itertuples(), total=len(df_points), desc='Load'):\n",
    "        nzb_list = pickle.loads(row.nzb_list)\n",
    "        l = len(nzb_list)\n",
    "        assert l > 0\n",
    "        points = np.zeros((l, HP_SIGNAL_VEC_LEN), dtype='f')\n",
    "\n",
    "        for i, nzb in enumerate(nzb_list):\n",
    "            points[i,nzb] = 1\n",
    "\n",
    "        POINTS.append(points)\n",
    "        \n",
    "        point_output_bits = np.full(l, row.output_bit, dtype='i')\n",
    "        POINT_OUTPUT_BITS.append(point_output_bits)\n",
    "        \n",
    "    POINTS = np.vstack(POINTS)\n",
    "    POINT_OUTPUT_BITS = np.hstack(POINT_OUTPUT_BITS)\n",
    "    assert np.all(POINTS.sum(axis=1) == HP_POINT_NON_ZERO_BITS)\n",
    "    assert POINTS.shape[0] == POINT_OUTPUT_BITS.shape[0]\n",
    "    assert POINTS.ndim == 2\n",
    "    assert POINT_OUTPUT_BITS.ndim == 1\n",
    "    print(f'{POINTS.shape[0]:_} POINTS loaded from database')\n",
    "else:\n",
    "    POINTS = []\n",
    "    POINT_OUTPUT_BITS = []\n",
    "    output_bits = RNG.choice(HP_SIGNAL_VEC_LEN, HP_POINTS_COUNT)\n",
    "    output_bit_to_nzb_list = defaultdict(list)\n",
    "    \n",
    "    for output_bit in tqdm(output_bits, desc='Generate'):\n",
    "        nzb = sbv_to_nzb(RNG.choice(HP_SIGNAL_VEC_LEN, HP_POINT_NON_ZERO_BITS, replace=False))\n",
    "        \n",
    "        point_vec = np.zeros(HP_SIGNAL_VEC_LEN, dtype='f')\n",
    "        point_vec[nzb] = 1\n",
    "        POINTS.append(point_vec)\n",
    "        POINT_OUTPUT_BITS.append(output_bit)\n",
    "\n",
    "        output_bit_to_nzb_list[output_bit].append(nzb)\n",
    "\n",
    "    POINTS = np.vstack(POINTS)\n",
    "    POINT_OUTPUT_BITS = np.hstack(POINT_OUTPUT_BITS)\n",
    "    assert np.all(POINTS.sum(axis=1) == HP_POINT_NON_ZERO_BITS)\n",
    "    assert POINTS.shape[0] == POINT_OUTPUT_BITS.shape[0]\n",
    "\n",
    "    for output_bit, nzb_list in tqdm(output_bit_to_nzb_list.items(), desc='Save'):\n",
    "        params = {\n",
    "            'encoding': HP_SIGNAL_ENCODING, \n",
    "            'count': HP_POINTS_COUNT,\n",
    "            'non_zero_bits': HP_POINT_NON_ZERO_BITS,\n",
    "            'output_bit': int(output_bit),\n",
    "            'nzb_list': pickle.dumps(nzb_list),\n",
    "            }\n",
    "        transfs_db_con.execute('INSERT INTO points(encoding, count, non_zero_bits, output_bit, nzb_list) ' + \n",
    "                               'VALUES(:encoding, :count, :non_zero_bits, :output_bit, :nzb_list)', params)\n",
    "    \n",
    "    print(f'{POINTS.shape[0]:_} POINTS created from scratch')"
   ]
  },
  {
   "cell_type": "markdown",
   "id": "454d74a8-397e-42b6-af1e-18437ef2f791",
   "metadata": {},
   "source": [
    "## .lab hdc"
   ]
  },
  {
   "cell_type": "code",
   "execution_count": 53,
   "id": "8a77cf8e-74e7-408e-83ed-bf28a26b2875",
   "metadata": {},
   "outputs": [],
   "source": [
    "# hdc = Hdc(10_000, np, dtype='f')\n",
    "# hdc.bundle = hdc.bundle_noties\n",
    "# hdc.cos_sim_threshold = 0.055\n",
    "# hdc.hdist_threshold = 4700\n",
    "\n",
    "hdc = Hdc(1_000, np, dtype='f')\n",
    "hdc.bundle = hdc.bundle_noties\n",
    "hdc.cos_sim_threshold = 0.10\n",
    "\n",
    "# hdc = Hdc(2_000, np, dtype='f')\n",
    "# hdc.bundle = hdc.bundle_noties\n",
    "# hdc.cos_sim_threshold = 0.10"
   ]
  },
  {
   "cell_type": "code",
   "execution_count": 54,
   "id": "69ac53e2-f39a-4e59-abfd-2b5eeb834122",
   "metadata": {},
   "outputs": [],
   "source": [
    "PIXEL_HDVS = hdc(config.sample_size ** 2)\n",
    "PIXEL_HDVS_NORM = hdc.normalize(PIXEL_HDVS)"
   ]
  },
  {
   "cell_type": "code",
   "execution_count": 55,
   "id": "af16ae38-e56f-48df-85c5-426649ab275a",
   "metadata": {},
   "outputs": [
    {
     "data": {
      "image/png": "[encoded data removed]",
      "text/plain": [
       "<Figure size 1200x480 with 2 Axes>"
      ]
     },
     "metadata": {},
     "output_type": "display_data"
    }
   ],
   "source": [
    "image_id = RNG.choice(df_train_images.index)\n",
    "image = next(df_train_images.loc[[image_id]].itertuples())\n",
    "si_ind_dict = pickle.loads(image.inner_si_ind_dict)\n",
    "sequences = pickle.loads(image.inner_sequences)\n",
    "seq = get_sequence(sequences)\n",
    "seq_xy = get_xy_sequence(seq, si_ind_dict)\n",
    "ii = np.all(((seq_xy >= 0) & (seq_xy < config.sample_size)), axis=1) \n",
    "seq_xy = seq_xy[ii]\n",
    "ind_seq = (seq_xy @ np.array([1, config.sample_size])).astype(int)\n",
    "seq_bv_true = np.zeros((config.sample_size, config.sample_size)).ravel()\n",
    "seq_bv_true[ind_seq] = 1\n",
    "\n",
    "seq_hdv = hdc.bundle(PIXEL_HDVS[ind_seq])\n",
    "seq_hdv_binary = hdc.to_binary(seq_hdv)\n",
    "seq_hdv_bipolar = hdc.to_bipolar(seq_hdv_binary)\n",
    "seq_hdv_bipolar_norm = hdc.normalize(seq_hdv_bipolar)\n",
    "pixel_hdv_inds = np.argwhere((PIXEL_HDVS_NORM @ seq_hdv_bipolar_norm) > hdc.cos_sim_threshold).ravel()\n",
    "seq_bv = np.zeros((config.sample_size, config.sample_size)).ravel()\n",
    "seq_bv[pixel_hdv_inds] = 1\n",
    "\n",
    "error_level = np.count_nonzero(seq_bv != seq_bv_true)\n",
    "\n",
    "fig, (ax1, ax2) = plt.subplots(1, 2)\n",
    "fig.set_figwidth(12)\n",
    "ax1.set_title(f'image_id={image_id}, points={len(ind_seq)}')\n",
    "ax1.imshow(seq_bv_true.reshape(config.sample_size, -1));\n",
    "ax2.set_title(f'err.={error_level}')\n",
    "ax2.set_title(f'N={seq_hdv.shape[0]} / {seq_hdv_binary.sum():.0f}, err.={error_level}')\n",
    "ax2.imshow(seq_bv.reshape(config.sample_size, -1));"
   ]
  },
  {
   "cell_type": "code",
   "execution_count": 56,
   "id": "93bd685d-76e0-4de1-a67b-6a61e9a2c29b",
   "metadata": {},
   "outputs": [
    {
     "data": {
      "image/jpeg": "[encoded data removed]",
      "image/png": "[encoded data removed]",
      "text/plain": [
       "<PIL.PngImagePlugin.PngImageFile image mode=L size=128x128>"
      ]
     },
     "execution_count": 56,
     "metadata": {},
     "output_type": "execute_result"
    }
   ],
   "source": [
    "get_raw_image(image_id)"
   ]
  },
  {
   "cell_type": "markdown",
   "id": "582ad609-9873-4ab3-830f-488d15ecf505",
   "metadata": {},
   "source": [
    "## .lab sbv"
   ]
  },
  {
   "cell_type": "code",
   "execution_count": 57,
   "id": "9d858d2c-11f8-4b20-a572-c9c1edcfaf55",
   "metadata": {},
   "outputs": [],
   "source": [
    "# # image_id = RNG.choice(df_train_images.index)\n",
    "# # image_id = 44917 # 60 points\n",
    "# image = next(df_train_images.loc[[image_id]].itertuples())\n",
    "# si_ind_dict = pickle.loads(image.inner_si_ind_dict)\n",
    "# sequences = pickle.loads(image.inner_sequences)\n",
    "# seq = get_sequence(sequences)\n",
    "# seq_xy = get_xy_sequence(seq, si_ind_dict)\n",
    "# ii = np.all(((seq_xy >= 0) & (seq_xy < config.sample_size)), axis=1) \n",
    "# seq_xy = seq_xy[ii]\n",
    "# ind_seq = (seq_xy @ np.array([1, config.sample_size])).astype(int)\n",
    "# seq_bv_true = np.zeros((config.sample_size, config.sample_size)).ravel()\n",
    "# seq_bv_true[ind_seq] = 1\n",
    "\n",
    "# # seq_sbv = np.where(np.sum(PIXELS[ind_seq], axis=0) > 0, 1, 0) # aka Bloom filter\n",
    "# seq_sbv = calc_seq_sbv(seq_xy)\n",
    "# # pixel_sbv_inds = np.argwhere((PIXELS @ seq_sbv) >= SBV_NON_ZERO_INDS).ravel()\n",
    "# # seq_bv = np.zeros((config.sample_size, config.sample_size)).ravel()\n",
    "# # seq_bv[pixel_sbv_inds] = 1\n",
    "# seq_bv = seq_sbv_to_bv(seq_sbv)\n",
    "\n",
    "# error_level = np.count_nonzero(seq_bv != seq_bv_true)\n",
    "\n",
    "# fig, (ax1, ax2) = plt.subplots(1, 2)\n",
    "# fig.set_figwidth(12)\n",
    "# ax1.set_title(f'image_id={image_id}, points={len(ind_seq)}')\n",
    "# ax1.imshow(seq_bv_true.reshape(config.sample_size, -1))\n",
    "# ax2.set_title(f'sbv={seq_sbv.shape[0]} / {seq_sbv.sum()}, non_zero_inds={HP_SIGNAL_VEC_NON_ZERO_BITS}, err.={error_level}')\n",
    "# ax2.imshow(seq_bv.reshape(config.sample_size, -1));"
   ]
  },
  {
   "cell_type": "markdown",
   "id": "8a40ec0a-891b-4385-88c3-6699bf574057",
   "metadata": {},
   "source": [
    "# Train"
   ]
  },
  {
   "cell_type": "code",
   "execution_count": 58,
   "id": "145172a9-54d1-4563-a7ab-cde78584810c",
   "metadata": {},
   "outputs": [],
   "source": [
    "LOG.is_enabled = True"
   ]
  },
  {
   "cell_type": "code",
   "execution_count": 59,
   "id": "66c512a5-916f-4a20-b37c-e0369e7d65c8",
   "metadata": {},
   "outputs": [],
   "source": [
    "HP_CLUSTER_ONES_COUNT_THRES = 6\n",
    "HP_CLUSTER_CREATION_ONES_COUNT_THRES = 7\n",
    "HP_CLUSTER_LEARN_BINARIZATION_SCHEDULE = (5, 10)\n",
    "HP_CLUSTER_RELEARN_BINARIZATION_SCHEDULE = (5,)\n",
    "HP_CLUSTER_BINARIZE_THRES = 0.75\n",
    "HP_CLUSTER_PROD_WORK_SIGNALS_PROCESSED_THRES = 10\n",
    "HP_CLUSTER_PROD_WORK_ACCURACY_THRES = 0.9\n",
    "HP_CLUSTER_PROD_ETERNAL_SIGNALS_PROCESSED_THRES = 100\n",
    "HP_CLUSTER_PROD_ETERNAL_ACCURACY_THRES = 0.98\n",
    "        \n",
    "HP_LEARN_CLUSTERS_COUNT_SOFT_LIMIT = 300_000\n",
    "HP_PROD_CANDIDATE_CLUSTERS_COUNT_SOFT_LIMIT = 100_000\n",
    "HP_PROD_WORK_CLUSTERS_COUNT_SOFT_LIMIT = 100_000\n",
    "\n",
    "HP_EPOCHS_COUNT = 1\n",
    "HP_OUTPUT_BITS_PER_BATCH = 250\n",
    "HP_NEW_SIGNALS_COUNT_PER_CYCLE = min(100, len(df_train_images))\n",
    "HP_PERSIST_PROD_CLUSTERS_INTERVAL = 100\n",
    "HP_RESET_LEARN_CLUSTERS_INTERVAL = 100\n",
    "# HP_CYCLES_COUNT = math.ceil(ACTIVE_PIXEL_FEATURES_COUNT / HP_RESET_LEARN_CLUSTERS_INTERVAL) * HP_RESET_LEARN_CLUSTERS_INTERVAL\n",
    "HP_CYCLES_COUNT = 1000"
   ]
  },
  {
   "cell_type": "code",
   "execution_count": null,
   "id": "cd7cbc0c-c3c1-4f51-b13f-a97de369ed9d",
   "metadata": {},
   "outputs": [],
   "source": []
  },
  {
   "cell_type": "code",
   "execution_count": 60,
   "id": "f66fc018-bf78-4703-9545-b5096cf011ea",
   "metadata": {},
   "outputs": [],
   "source": [
    "def persist_prod_clusters():\n",
    "    persisted_count = 0\n",
    "    output_bit_to_prod_cluster_metas = defaultdict(list)\n",
    "    \n",
    "    for meta in CLUSTER_METAS.values():\n",
    "        output_bit_to_prod_cluster_metas[meta.output_bit].append(meta)\n",
    "    \n",
    "    for output_bit, metas in output_bit_to_prod_cluster_metas.items():\n",
    "        cluster_inds = list(map(lambda m: m.cluster_ind, metas))\n",
    "        # Leave only super clusters, i.e. clusters which are not subsets of any other clusters\n",
    "        clusters = CLUSTERS.array[cluster_inds]\n",
    "        cluster_ones_counts = clusters.sum(axis=1)\n",
    "        crossings = (clusters @ clusters.T)\n",
    "        crossings[xp.diag_indices_from(crossings)] = 0\n",
    "        super_clusters_boolmap = ~xp.any((crossings.T >= cluster_ones_counts).T, axis=1)\n",
    "    \n",
    "        clusters = xp_array_from_gpu(clusters[super_clusters_boolmap])\n",
    "        super_clusters_boolmap = xp_array_from_gpu(super_clusters_boolmap)\n",
    "        \n",
    "        nzb_list = list(map(sbv_to_nzb, clusters))\n",
    "        pickled_nzb_list = pickle.dumps(nzb_list)\n",
    "        pickled_metas = pickle.dumps(list(map(lambda x: x[1], filter(lambda x: x[0], zip(super_clusters_boolmap, metas)))))\n",
    "        # Changing autocommit to False will open a new transaction, and changing it to True will commit any pending transaction.\n",
    "        # https://docs.python.org/3/library/sqlite3.html#connection-objects\n",
    "        transfs_db_con.autocommit = False\n",
    "        transfs_db_con.execute('DELETE FROM clusters WHERE encoding=:encoding AND transf_code=:transf_code AND output_bit=:output_bit',\n",
    "                               {'encoding': HP_SIGNAL_ENCODING, 'transf_code': TRANSF_CODE, 'output_bit': output_bit})\n",
    "        transfs_db_con.execute('INSERT INTO clusters (encoding, transf_code, output_bit, metas, nzb_list) VALUES (:encoding, :transf_code, :output_bit, :metas, :nzb_list)',\n",
    "                               {'encoding': HP_SIGNAL_ENCODING, 'transf_code': TRANSF_CODE, 'output_bit': output_bit, 'metas': pickled_metas, 'nzb_list': pickled_nzb_list})\n",
    "        transfs_db_con.autocommit = True\n",
    "        persisted_count += clusters.shape[0]\n",
    "        LOG(f'Persisted {clusters.shape[0]} (of {len(cluster_inds)}) super clusters for output bit {output_bit}')\n",
    "    \n",
    "    LOG(f'Persisted {persisted_count} clusters in total for encoding=\"{HP_SIGNAL_ENCODING}\" and transf_code=\"{TRANSF_CODE}\"')"
   ]
  },
  {
   "cell_type": "code",
   "execution_count": null,
   "id": "8e19dd93-b32f-46e4-8332-fad6a18d0bbe",
   "metadata": {},
   "outputs": [],
   "source": []
  },
  {
   "cell_type": "code",
   "execution_count": null,
   "id": "fb510fc1-b7f2-45a9-be62-6ea078dec772",
   "metadata": {},
   "outputs": [],
   "source": []
  },
  {
   "cell_type": "code",
   "execution_count": 61,
   "id": "07cc803f-ed2d-4fad-8552-c6c773bf84f1",
   "metadata": {},
   "outputs": [],
   "source": [
    "class LearnClustersSidecar(HdvArrayObserver):\n",
    "    def __init__(self):\n",
    "        self.cluster_states_counter = Counter() \n",
    "        self.cluster_states = [] \n",
    "        \n",
    "        # Bunch of HOT GPU related arrays. Change in batch only!\n",
    "        self.masks = xp.array([], dtype='f')\n",
    "        self.output_bits = xp.array([], dtype='i')\n",
    "        self.nus = xp.array([], dtype='f')\n",
    "        self.signals_learned_counters = xp.array([], dtype='i')\n",
    "        self.signals_to_learn_till_binarization_counters = xp.array([], dtype='i')\n",
    "        \n",
    "        # Cold arrays, may be easily cherry-picked from CPU side\n",
    "        self.last_activity_cycles = np.array([], dtype='i')\n",
    "        self.is_present_boolmap = np.array([], dtype=bool)\n",
    "        self.is_dead_boolmap = np.array([], dtype=bool)\n",
    "        self.is_binarizable_boolmap = np.array([], dtype=bool)\n",
    "        self.is_promotable_boolmap = np.array([], dtype=bool)\n",
    "\n",
    "    def size_changed(self, new_size):\n",
    "        assert new_size > len(self.cluster_states)\n",
    "        self.cluster_states = self.cluster_states + [''] * (new_size - len(self.cluster_states))\n",
    "\n",
    "        self.masks = xp.resize(self.masks, (new_size, HP_SIGNAL_VEC_LEN))\n",
    "        self.output_bits = xp.resize(self.output_bits, new_size)\n",
    "        self.nus = xp.resize(self.nus, new_size)\n",
    "        self.signals_learned_counters = xp.resize(self.signals_learned_counters, new_size)\n",
    "        self.signals_to_learn_till_binarization_counters = xp.resize(self.signals_to_learn_till_binarization_counters, new_size)\n",
    "\n",
    "        # ndarray.resize if faster than np.resize and fills new space with zeros unlike np.resize. Unfortunately cupy doesn't have ndarray.resize\n",
    "        self.last_activity_cycles.resize(new_size, refcheck=False)\n",
    "        self.is_present_boolmap.resize(new_size, refcheck=False)\n",
    "        self.is_dead_boolmap.resize(new_size, refcheck=False)\n",
    "        self.is_binarizable_boolmap.resize(new_size, refcheck=False)\n",
    "        self.is_promotable_boolmap.resize(new_size, refcheck=False)\n",
    "\n",
    "    def patch(self, cluster_inds, patch):\n",
    "        # patch is expected to be of type _LearnClustersSidecarPatch\n",
    "        def process_array_field(self_field, patch_field, pack_method):\n",
    "            if patch_field:\n",
    "                assert len(patch_field) == cluster_inds.shape[0]    \n",
    "                self_field[cluster_inds] = pack_method(patch_field)\n",
    "\n",
    "        process_array_field(self.masks, patch.masks, np.vstack)\n",
    "        process_array_field(self.output_bits, patch.output_bits, np.hstack)\n",
    "        process_array_field(self.nus, patch.nus, np.hstack)\n",
    "        process_array_field(self.signals_learned_counters, patch.signals_learned_counters, np.hstack)\n",
    "        process_array_field(self.signals_to_learn_till_binarization_counters, patch.signals_to_learn_till_binarization_counters, np.hstack)\n",
    "        process_array_field(self.last_activity_cycles, patch.last_activity_cycles, np.hstack)\n",
    "        process_array_field(self.is_present_boolmap, patch.is_present_boolmap, np.hstack)\n",
    "        process_array_field(self.is_dead_boolmap, patch.is_dead_boolmap, np.hstack)\n",
    "        process_array_field(self.is_binarizable_boolmap, patch.is_binarizable_boolmap, np.hstack)\n",
    "        process_array_field(self.is_promotable_boolmap, patch.is_promotable_boolmap, np.hstack)\n",
    "\n",
    "        # Special handling for cluster_states\n",
    "        if patch.cluster_states:\n",
    "            assert len(patch.cluster_states) == cluster_inds.shape[0]\n",
    "\n",
    "            for cluster_ind, cluster_state in zip(cluster_inds, patch.cluster_states):\n",
    "                old_cluster_state = self.cluster_states[cluster_ind]\n",
    "                \n",
    "                if old_cluster_state:\n",
    "                    self.cluster_states_counter[old_cluster_state] -= 1\n",
    "                    assert self.cluster_states_counter[old_cluster_state] >= 0\n",
    "\n",
    "                self.cluster_states[cluster_ind] = cluster_state.name\n",
    "                self.cluster_states_counter[cluster_state.name] += 1\n",
    "                \n",
    "\n",
    "    # def sync(self, cluster_meta):\n",
    "    #     cluster_ind = cluster_meta.cluster_ind\n",
    "    #     old_cluster_state = self.cluster_states[cluster_ind]\n",
    "\n",
    "    #     if old_cluster_state:\n",
    "    #         self.cluster_states_counter[old_cluster_state] -= 1\n",
    "            \n",
    "    #     self.cluster_states[cluster_ind] = cluster_meta.state.name\n",
    "    #     self.cluster_states_counter[cluster_meta.state.name] += 1\n",
    "\n",
    "    #     # self.output_bits[cluster_ind] = cluster_meta.output_bit\n",
    "    #     # self.nus[cluster_ind] = cluster_meta.nu\n",
    "    #     # self.signals_learned_counters[cluster_ind] = cluster_meta.signals_learned\n",
    "    #     # self.signals_to_learn_till_binarization_counters[cluster_ind] = cluster_meta.signals_to_learn_till_binarization\n",
    "\n",
    "    #     # self.is_dead_boolmap[cluster_ind] = cluster_meta.state == ClusterState.DEAD\n",
    "    #     # is_binarizable = cluster_meta.state == ClusterState.LEARN and cluster_meta.signals_to_learn_till_binarization <= 0\n",
    "    #     # is_promotable = cluster_meta.state == ClusterState.LEARN and not cluster_meta.binarization_schedule\n",
    "    #     # self.is_binarizable_boolmap[cluster_ind] = is_binarizable and not is_promotable\n",
    "    #     # self.is_promotable_boolmap[cluster_ind] = is_promotable\n",
    "\n",
    "    def remove(self, cluster_ind):\n",
    "        old_cluster_state = self.cluster_states[cluster_ind]\n",
    "\n",
    "        if old_cluster_state:\n",
    "            self.cluster_states_counter[old_cluster_state] -= 1\n",
    "            assert self.cluster_states_counter[old_cluster_state] >= 0\n",
    "            \n",
    "        self.cluster_states[cluster_ind] = ''\n",
    "\n",
    "        # Don't update following arrays since they are on GPU side. Manyfold slowdown!!!\n",
    "        # self.masks[cluster_ind] = 0\n",
    "        # self.output_bits[cluster_ind] = -1\n",
    "        # self.nus[cluster_ind] = -1\n",
    "        # self.signals_learned_counters[cluster_ind] = -1\n",
    "        # self.signals_to_learn_till_binarization_counters[cluster_ind] = -1\n",
    "        \n",
    "        self.last_activity_cycles[cluster_ind] = -1\n",
    "        self.is_present_boolmap[cluster_ind] = False\n",
    "        self.is_dead_boolmap[cluster_ind] = False\n",
    "        self.is_binarizable_boolmap[cluster_ind] = False\n",
    "        self.is_promotable_boolmap[cluster_ind] = False\n",
    "\n",
    "learn_clusters_sidecar_field_names = list(vars(LearnClustersSidecar()).keys())\n",
    "_LearnClustersSidecarPatch = namedtuple('_LearnClustersSidecarPatch', learn_clusters_sidecar_field_names)\n",
    "LearnClustersSidecarPatch = lambda: _LearnClustersSidecarPatch._make(map(lambda _: [], range(len(learn_clusters_sidecar_field_names))))\n",
    "\n",
    "class ClustersSidecar(HdvArrayObserver):\n",
    "    def __init__(self):\n",
    "        self.cluster_states_counter = Counter()\n",
    "        self.cluster_states = []\n",
    "        \n",
    "        self.output_bits = np.array([], dtype='i')\n",
    "        self.ones_counts = np.array([], dtype='f')\n",
    "        self.last_activity_cycles = np.array([], dtype='i')\n",
    "\n",
    "        self.is_dead_boolmap = np.array([], dtype=bool)\n",
    "        self.is_verifiable_boolmap = np.array([], dtype=bool)\n",
    "        self.is_promotable_to_prod_work_boolmap = np.array([], dtype=bool)\n",
    "        self.is_prod_candidate_boolmap = np.array([], dtype=bool)\n",
    "        self.is_prod_work_boolmap = np.array([], dtype=bool)\n",
    "\n",
    "    def size_changed(self, new_size):\n",
    "        assert new_size > len(self.cluster_states)\n",
    "        self.cluster_states = self.cluster_states + [''] * (new_size - len(self.cluster_states))\n",
    "        \n",
    "        self.output_bits.resize(new_size, refcheck=False)\n",
    "        self.ones_counts.resize(new_size, refcheck=False)\n",
    "        self.last_activity_cycles.resize(new_size, refcheck=False)\n",
    "\n",
    "        self.is_dead_boolmap.resize(new_size, refcheck=False)\n",
    "        self.is_verifiable_boolmap.resize(new_size, refcheck=False)\n",
    "        self.is_promotable_to_prod_work_boolmap.resize(new_size, refcheck=False)\n",
    "        self.is_prod_candidate_boolmap.resize(new_size, refcheck=False)\n",
    "        self.is_prod_work_boolmap.resize(new_size, refcheck=False)\n",
    "\n",
    "    def sync(self, cluster_meta):\n",
    "        cluster_ind = cluster_meta.cluster_ind\n",
    "        old_cluster_state = self.cluster_states[cluster_ind]\n",
    "\n",
    "        if old_cluster_state:\n",
    "            self.cluster_states_counter[old_cluster_state] -= 1\n",
    "            \n",
    "        self.cluster_states[cluster_ind] = cluster_meta.state.name\n",
    "        self.cluster_states_counter[cluster_meta.state.name] += 1\n",
    "        \n",
    "        self.output_bits[cluster_ind] = cluster_meta.output_bit\n",
    "        self.ones_counts[cluster_ind] = cluster_meta.ones_count\n",
    "\n",
    "        self.is_dead_boolmap[cluster_ind] = cluster_meta.state == ClusterState.DEAD\n",
    "        self.is_verifiable_boolmap[cluster_ind] = cluster_meta.state in [ClusterState.PROD_CANDIDATE, ClusterState.PROD_WORK]\n",
    "        is_promotable = cluster_meta.state == ClusterState.PROD_CANDIDATE and len(cluster_meta.verify_signal_ids) >= HP_CLUSTER_PROD_WORK_SIGNALS_PROCESSED_THRES\n",
    "        self.is_promotable_to_prod_work_boolmap[cluster_ind] = is_promotable\n",
    "        self.is_prod_candidate_boolmap[cluster_ind] = cluster_meta.state == ClusterState.PROD_CANDIDATE\n",
    "        self.is_prod_work_boolmap[cluster_ind] = cluster_meta.state == ClusterState.PROD_WORK\n",
    "\n",
    "    def remove(self, cluster_ind):\n",
    "        old_cluster_state = self.cluster_states[cluster_ind]\n",
    "\n",
    "        if old_cluster_state:\n",
    "            self.cluster_states_counter[old_cluster_state] -= 1\n",
    "            \n",
    "        self.cluster_states[cluster_ind] = ''\n",
    "        \n",
    "        self.output_bits[cluster_ind] = -1\n",
    "        self.ones_counts[cluster_ind] = -1\n",
    "        self.last_activity_cycles[cluster_ind] = -1\n",
    "\n",
    "        self.is_dead_boolmap[cluster_ind] = False\n",
    "        self.is_verifiable_boolmap[cluster_ind] = False\n",
    "        self.is_promotable_to_prod_work_boolmap[cluster_ind] = False\n",
    "        self.is_prod_candidate_boolmap[cluster_ind] = False\n",
    "        self.is_prod_work_boolmap[cluster_ind] = False"
   ]
  },
  {
   "cell_type": "code",
   "execution_count": null,
   "id": "c2f58a54-397e-44f6-a64b-0b47df4e03ba",
   "metadata": {},
   "outputs": [],
   "source": []
  },
  {
   "cell_type": "code",
   "execution_count": 62,
   "id": "599ba982-6298-4ea3-98ce-cfe6b92951ae",
   "metadata": {},
   "outputs": [],
   "source": [
    "cuda_create_clusters_kernel = cp.RawKernel(r'''\n",
    "extern \"C\" __global__\n",
    "void create_clusters(\n",
    "                    // INPUT DATA\n",
    "                    const int theHpVecLen,\n",
    "                    const int theHpPointNonZeroBits,\n",
    "                    const int theHpCreationOnesCountThres,\n",
    "                    const float * const theSignalInput, // vector[theHpVecLen]\n",
    "                    const int thePointsCount,\n",
    "                    const int * const thePointInds, // vector[thePointsCount] - mapping from local pointInds to real pointInds\n",
    "                    const float * const thePoints,    // matrix[**realPointsCount**][theHpVecLen]\n",
    "                    // OUTPUT DATA\n",
    "                    int * const theOnesCounts, // vector[thePointsCount]\n",
    "                    int * const theNzbLists // matrix[thePointsCount][theHpPointNonZeroBits],\n",
    "                    ) { \n",
    "    const int localPointInd = blockDim.x * blockIdx.x + threadIdx.x;\n",
    "\n",
    "    if(localPointInd >= thePointsCount)\n",
    "        return;\n",
    "\n",
    "    const int pointInd = thePointInds[localPointInd];\n",
    "    const auto pointsPtrOffset = pointInd * theHpVecLen;\n",
    "    const float * const point = thePoints + pointsPtrOffset;\n",
    "    int * const nzbList = theNzbLists + localPointInd * theHpPointNonZeroBits;\n",
    "    int nzbInd = 0;\n",
    "\n",
    "    for(int i = 0; i < theHpVecLen; i++) {\n",
    "        if(point[i] > 0&& theSignalInput[i] > 0) {\n",
    "            if(nzbInd >= theHpPointNonZeroBits) {\n",
    "                asm(\"trap;\");\n",
    "            }\n",
    "            \n",
    "            nzbList[nzbInd] = i;\n",
    "            nzbInd++;\n",
    "        }\n",
    "    }\n",
    "\n",
    "    theOnesCounts[localPointInd] = nzbInd >= theHpCreationOnesCountThres ? nzbInd : 0;\n",
    "}\n",
    "''', 'create_clusters')\n",
    "cuda_create_clusters_kernel.compile()"
   ]
  },
  {
   "cell_type": "code",
   "execution_count": 63,
   "id": "6b685cd5-654b-4abe-ab87-b9d7e8fb035b",
   "metadata": {},
   "outputs": [],
   "source": [
    "cuda_learn_clusters_kernel = cp.RawKernel(r'''\n",
    "extern \"C\" __global__\n",
    "void learn_clusters(\n",
    "                    // INPUT DATA\n",
    "                    const int theHpVecLen,\n",
    "                    const int theHpClusterOnesCountThres,\n",
    "                    const int theSignalsCount,\n",
    "                    const float * const theSignalsInput,  // matrix[theSignalsCount][theHpVecLen]\n",
    "                    const float * const theSignalsOutput,  // matrix[theSignalsCount][theHpVecLen]\n",
    "                    const int theClustersCount,\n",
    "                    const float * theClusters,    // matrix[theClustersCount][theHpVecLen]\n",
    "                    const bool * const theIsPresentBoolmap, // vector[theClustersCount]\n",
    "                    const int * const theClusterOutputBits, // vector[theClustersCount]\n",
    "                    const float * const theClusterMasks, // matrix[theClustersCount][theHpVecLen]\n",
    "                    const float * const theClusterNus, // vector[theClustersCount]\n",
    "                    // OUTPUT DATA\n",
    "                    int * const theClusterSignalsLearnedCounters, // vector[theClustersCount]\n",
    "                    int * const theClusterSignalsTillBinarizationCounters, // vector[theClustersCount]\n",
    "                    float * const theUpdatedClusters, // vector[theClustersCount]\n",
    "                    int * const theClusterUpdateCounters // vector[theClustersCount]\n",
    "                    ) { \n",
    "    const int clusterInd = blockDim.x * blockIdx.x + threadIdx.x;\n",
    "\n",
    "    if(clusterInd >= theClustersCount)\n",
    "        return;\n",
    "\n",
    "    if(!theIsPresentBoolmap[clusterInd])\n",
    "        return;\n",
    "        \n",
    "    const auto clustersPtrOffset = clusterInd * theHpVecLen;\n",
    "    const float * const cluster = theClusters + clustersPtrOffset;\n",
    "    const float * const mask = theClusterMasks + clustersPtrOffset;\n",
    "    float * const updatedCluster = theUpdatedClusters + clustersPtrOffset;\n",
    "    const int outputBit = theClusterOutputBits[clusterInd];\n",
    "    const float nu = theClusterNus[clusterInd];\n",
    "    \n",
    "    for(int signalInd = 0; signalInd < theSignalsCount && theClusterSignalsTillBinarizationCounters[clusterInd] > 0; signalInd++) {\n",
    "        const auto signalsPtrOffset = signalInd * theHpVecLen;\n",
    "        const float * const signalInput = theSignalsInput + signalsPtrOffset;\n",
    "        const float * const signalOutput = theSignalsOutput + signalsPtrOffset;\n",
    "    \n",
    "        if(!signalOutput[outputBit])\n",
    "            continue;\n",
    "    \n",
    "        float activationStrength = 0.0f;\n",
    "        int bitsTouched = 0;\n",
    "        \n",
    "        for(int i = 0; i < theHpVecLen; i++) {\n",
    "            const int inputBitValue = signalInput[i]; // binary value (1 or 0)\n",
    "            activationStrength += inputBitValue ? cluster[i] : 0;\n",
    "            bitsTouched += inputBitValue ? mask[i] : 0;\n",
    "        }\n",
    "    \n",
    "        if(bitsTouched < theHpClusterOnesCountThres)\n",
    "            continue;\n",
    "    \n",
    "        const float k = nu * activationStrength;\n",
    "        float maxWeight = 0.0f;\n",
    "        \n",
    "        for(int i = 0; i < theHpVecLen; i++) {\n",
    "            if(mask[i]) {\n",
    "                const float updatedWeight = cluster[i] + k * signalInput[i];\n",
    "                updatedCluster[i] = updatedWeight;\n",
    "                maxWeight = fmax(maxWeight, updatedWeight);\n",
    "            }\n",
    "        }\n",
    "    \n",
    "        for(int i = 0; i < theHpVecLen; i++) {\n",
    "            updatedCluster[i] /= maxWeight;\n",
    "        }\n",
    "    \n",
    "        theClusterUpdateCounters[clusterInd] += 1;\n",
    "        theClusterSignalsLearnedCounters[clusterInd] += 1;\n",
    "        theClusterSignalsTillBinarizationCounters[clusterInd] -= 1;\n",
    "    }\n",
    "}\n",
    "''', 'learn_clusters')\n",
    "cuda_learn_clusters_kernel.compile()"
   ]
  },
  {
   "cell_type": "code",
   "execution_count": 64,
   "id": "74f647ab-191d-4050-beac-1e6ecb213b17",
   "metadata": {},
   "outputs": [],
   "source": [
    "cuda_binarize_clusters_kernel = cp.RawKernel(r'''\n",
    "extern \"C\" __global__\n",
    "void binarize_clusters(\n",
    "                    // INPUT DATA\n",
    "                    const int theHpVecLen,\n",
    "                    const int theHpPointNonZeroBits,\n",
    "                    const float theHpBinarizeThres,\n",
    "                    const int theClustersCount,\n",
    "                    const int * const theClusterInds, // vector[theClustersCount] - mapping from local clusterInds to real clusterInds\n",
    "                    const float * const theClusters,    // matrix[**realClustersCount**][theHpVecLen]\n",
    "                    // OUTPUT DATA\n",
    "                    float * const theUpdatedClusters, // matrix[**realClustersCount**][theHpVecLen]\n",
    "                    float * const theUpdatedClusterMasks, // matrix[**realClustersCount**][theHpVecLen]\n",
    "                    int * const theOnesCounts, // vector[theClustersCount]\n",
    "                    int * const theNzbLists // matrix[theClustersCount][theHpPointNonZeroBits],\n",
    "                    ) { \n",
    "    const int localClusterInd = blockDim.x * blockIdx.x + threadIdx.x;\n",
    "\n",
    "    if(localClusterInd >= theClustersCount)\n",
    "        return;\n",
    "\n",
    "    const int clusterInd = theClusterInds[localClusterInd];\n",
    "    const auto clustersPtrOffset = clusterInd * theHpVecLen;\n",
    "    const float * const cluster = theClusters + clustersPtrOffset;\n",
    "    float * const updatedCluster = theUpdatedClusters + clustersPtrOffset;\n",
    "    float * const updatedClusterMask = theUpdatedClusterMasks + clustersPtrOffset;\n",
    "    int * const onesCount = theOnesCounts + localClusterInd;\n",
    "    int * const nzbList = theNzbLists + localClusterInd * theHpPointNonZeroBits;\n",
    "    int nzbInd = 0;\n",
    "\n",
    "    for(int i = 0; i < theHpVecLen; i++) {\n",
    "        const int v = cluster[i] > theHpBinarizeThres ? 1 : 0;\n",
    "        updatedCluster[i] = v;\n",
    "        updatedClusterMask[i] = v;\n",
    "        \n",
    "        if(v > 0) {\n",
    "            if(nzbInd >= theHpPointNonZeroBits) {\n",
    "                asm(\"trap;\");\n",
    "            }\n",
    "            \n",
    "            nzbList[nzbInd] = i;\n",
    "            nzbInd++;\n",
    "        }\n",
    "    }\n",
    "\n",
    "    *onesCount = nzbInd;\n",
    "}\n",
    "''', 'binarize_clusters')\n",
    "cuda_binarize_clusters_kernel.compile()"
   ]
  },
  {
   "cell_type": "code",
   "execution_count": null,
   "id": "f4db3f2a-6f4b-4cbe-b004-0733dab7e58e",
   "metadata": {},
   "outputs": [],
   "source": []
  },
  {
   "cell_type": "code",
   "execution_count": null,
   "id": "ddc1db1f-77eb-485f-a573-c06da50009fa",
   "metadata": {},
   "outputs": [],
   "source": []
  },
  {
   "cell_type": "code",
   "execution_count": null,
   "id": "67cdd0e0-70d6-4166-8e07-0e203a15e1cb",
   "metadata": {},
   "outputs": [],
   "source": []
  },
  {
   "cell_type": "code",
   "execution_count": 78,
   "id": "a2366ea9-8171-4373-b8ce-9cc0299c365f",
   "metadata": {},
   "outputs": [
    {
     "data": {
      "application/vnd.jupyter.widget-view+json": {
       "model_id": "2c652b90d88a48aab6e2adf3c9e99984",
       "version_major": 2,
       "version_minor": 0
      },
      "text/plain": [
       "Epoch:   0%|          | 0/1 [00:00<?, ?it/s]"
      ]
     },
     "metadata": {},
     "output_type": "display_data"
    },
    {
     "data": {
      "application/vnd.jupyter.widget-view+json": {
       "model_id": "5bc822d6ee444e4ebfc6a86a2ee36029",
       "version_major": 2,
       "version_minor": 0
      },
      "text/plain": [
       "Output bit batch:   0%|          | 0/4 [00:00<?, ?it/s]"
      ]
     },
     "metadata": {},
     "output_type": "display_data"
    },
    {
     "data": {
      "application/vnd.jupyter.widget-view+json": {
       "model_id": "11bd76a4e6914c39a22169f6b27d749c",
       "version_major": 2,
       "version_minor": 0
      },
      "text/plain": [
       "Cycle:   0%|          | 0/1000 [00:00<?, ?it/s]"
      ]
     },
     "metadata": {},
     "output_type": "display_data"
    },
    {
     "name": "stderr",
     "output_type": "stream",
     "text": [
      "Process ForkProcess-14:\n",
      "Traceback (most recent call last):\n",
      "  File \"/home/misha/anaconda3/envs/mine/lib/python3.12/multiprocessing/process.py\", line 314, in _bootstrap\n",
      "    self.run()\n",
      "  File \"/home/misha/anaconda3/envs/mine/lib/python3.12/multiprocessing/process.py\", line 108, in run\n",
      "    self._target(*self._args, **self._kwargs)\n",
      "  File \"/tmp/ipykernel_379318/3647690549.py\", line 42, in async_signals_generator_fun\n",
      "    task = inp_queue.get(block=True, timeout=task_wait_timeout)\n",
      "           ^^^^^^^^^^^^^^^^^^^^^^^^^^^^^^^^^^^^^^^^^^^^^^^^^^^^\n",
      "  File \"/home/misha/anaconda3/envs/mine/lib/python3.12/multiprocessing/queues.py\", line 113, in get\n",
      "    if not self._poll(timeout):\n",
      "           ^^^^^^^^^^^^^^^^^^^\n",
      "  File \"/home/misha/anaconda3/envs/mine/lib/python3.12/multiprocessing/connection.py\", line 257, in poll\n",
      "    return self._poll(timeout)\n",
      "           ^^^^^^^^^^^^^^^^^^^\n",
      "  File \"/home/misha/anaconda3/envs/mine/lib/python3.12/multiprocessing/connection.py\", line 440, in _poll\n",
      "    r = wait([self], timeout)\n",
      "        ^^^^^^^^^^^^^^^^^^^^^\n",
      "  File \"/home/misha/anaconda3/envs/mine/lib/python3.12/multiprocessing/connection.py\", line 1136, in wait\n",
      "    ready = selector.select(timeout)\n",
      "            ^^^^^^^^^^^^^^^^^^^^^^^^\n",
      "  File \"/home/misha/anaconda3/envs/mine/lib/python3.12/selectors.py\", line 415, in select\n",
      "    fd_event_list = self._selector.poll(timeout)\n",
      "                    ^^^^^^^^^^^^^^^^^^^^^^^^^^^^\n",
      "KeyboardInterrupt\n"
     ]
    }
   ],
   "source": [
    "# batch_output_bits_filter = lambda s, e: True\n",
    "# batch_output_bits_filter = lambda s, e: s >= 500\n",
    "batch_output_bits_filter = lambda s, e: s >= 750 and s < 1000\n",
    "\n",
    "if 'signals_generator' in globals():\n",
    "    if isinstance(signals_generator, AsyncSignalsGenerator):\n",
    "        signals_generator.terminate()\n",
    "        del signals_generator\n",
    "\n",
    "# signals_generator = AsyncSignalsGenerator(RealImageSignalsGenerator, TRANSF, HP_NEW_SIGNALS_COUNT_PER_CYCLE, 10)\n",
    "# signals_generator = AsyncSignalsGenerator(RollingPixelFeatureSignalsGenerator, TRANSF, HP_NEW_SIGNALS_COUNT_PER_CYCLE, 1)\n",
    "# signals_generator = AsyncSignalsGenerator(PooledPixelFeatureSignalsGenerator, TRANSF, HP_NEW_SIGNALS_COUNT_PER_CYCLE, 160, 200)\n",
    "signals_generator = AsyncSignalsGenerator(PooledPixelFeatureSignalsGenerator, TRANSF, HP_NEW_SIGNALS_COUNT_PER_CYCLE, 100)\n",
    "signals_generator.healthcheck()\n",
    "\n",
    "persist_prod_clusters_governeur = interval_governeur(HP_PERSIST_PROD_CLUSTERS_INTERVAL, persist_prod_clusters)\n",
    "\n",
    "for epoch in tqdm(range(HP_EPOCHS_COUNT), desc='Epoch'):\n",
    "    with LOG.auto_prefix('EPOCH', epoch):\n",
    "        for start_output_bit in tqdm(range(0, HP_SIGNAL_VEC_LEN, HP_OUTPUT_BITS_PER_BATCH), leave=False, desc='Output bit batch'):\n",
    "            end_output_bit = start_output_bit + HP_OUTPUT_BITS_PER_BATCH - 1\n",
    "            end_output_bit = min(end_output_bit, HP_SIGNAL_VEC_LEN - 1)\n",
    "            assert end_output_bit >= start_output_bit, (start_output_bit, end_output_bit)\n",
    "\n",
    "            if not batch_output_bits_filter(start_output_bit, end_output_bit):\n",
    "                continue\n",
    "            \n",
    "            with LOG.auto_prefix('OBITS', f'{start_output_bit}:{end_output_bit}'):\n",
    "                CLUSTERS_SIDECAR = ClustersSidecar()\n",
    "                CLUSTERS = HdvArray(HP_SIGNAL_VEC_LEN, xp, initial_length=100_000, dtype='f', grow_policy=hdv_array_log_like_grow_policy, observer=CLUSTERS_SIDECAR)\n",
    "                CLUSTER_METAS = {}\n",
    "\n",
    "                LEARN_CLUSTERS_SIDECAR = None\n",
    "                LEARN_CLUSTERS = None\n",
    "                LEARN_CLUSTER_METAS = None\n",
    "\n",
    "                def reset_learn_clusters():\n",
    "                    global LEARN_CLUSTERS_SIDECAR, LEARN_CLUSTERS, LEARN_CLUSTER_METAS\n",
    "                    LEARN_CLUSTERS_SIDECAR = LearnClustersSidecar()\n",
    "                    LEARN_CLUSTERS = HdvArray(HP_SIGNAL_VEC_LEN, xp, initial_length=100_000, dtype='f', grow_policy=hdv_array_log_like_grow_policy, observer=LEARN_CLUSTERS_SIDECAR)\n",
    "                    LEARN_CLUSTER_METAS = {}\n",
    "                    LOG('LEARN clusters reset')\n",
    "\n",
    "                reset_learn_clusters()\n",
    "                reset_learn_clusters_governeur = interval_governeur(HP_RESET_LEARN_CLUSTERS_INTERVAL, reset_learn_clusters)\n",
    "                \n",
    "                ## Select points for output bits (OBITS)\n",
    "                points_mask = (POINT_OUTPUT_BITS >= start_output_bit) & (POINT_OUTPUT_BITS <= end_output_bit)\n",
    "                points = xp_array_to_gpu(POINTS[points_mask])\n",
    "                point_output_bits = POINT_OUTPUT_BITS[points_mask]\n",
    "                point_inds = np.arange(points.shape[0])\n",
    "                LOG(f'{points.shape[0]} combinatorial points selected for output bits {start_output_bit}:{end_output_bit}, avg. points per output bit={points.shape[0] / ((end_output_bit - start_output_bit) + 1):.0f}')\n",
    "                assert points.shape[0] > 0\n",
    "\n",
    "                ## Restore prod clusters for output bits (OBITS)\n",
    "                df_clusters = pd.read_sql('SELECT ROWID, output_bit, metas, nzb_list FROM clusters WHERE encoding=:encoding AND transf_code=:transf_code ' + \n",
    "                                          'AND output_bit>=:start_output_bit AND output_bit<=:end_output_bit', \n",
    "                                          params={\n",
    "                                              'encoding': HP_SIGNAL_ENCODING, \n",
    "                                              'transf_code': TRANSF_CODE,\n",
    "                                              'start_output_bit': start_output_bit, \n",
    "                                              'end_output_bit': end_output_bit}, \n",
    "                                          con=transfs_db_con)\n",
    "                \n",
    "                clusters = []\n",
    "                cluster_inds = []\n",
    "                \n",
    "                for cluster_row in df_clusters.itertuples():\n",
    "                    cluster_nzb_list_for_output_bit = pickle.loads(cluster_row.nzb_list)\n",
    "                    cluster_metas_for_output_bit = pickle.loads(cluster_row.metas)\n",
    "                    assert len(cluster_nzb_list_for_output_bit) == len(cluster_metas_for_output_bit)\n",
    "\n",
    "                    for nzb, meta in zip(cluster_nzb_list_for_output_bit, cluster_metas_for_output_bit):\n",
    "                        assert len(nzb) > 0\n",
    "                        cluster = np.zeros(HP_SIGNAL_VEC_LEN, dtype='f')\n",
    "                        cluster[nzb] = 1\n",
    "                        clusters.append(cluster)\n",
    "                        \n",
    "                        cluster_ind = CLUSTERS.lease()\n",
    "                        meta.cluster_ind = cluster_ind\n",
    "                        cluster_inds.append(cluster_ind)\n",
    "                        \n",
    "                        CLUSTER_METAS[cluster_ind] = meta\n",
    "                        CLUSTERS_SIDECAR.sync(meta)\n",
    "\n",
    "                    LOG(f'Loaded {len(cluster_metas_for_output_bit)} clusters for output bit {cluster_row.output_bit} (ROWID={cluster_row.rowid})')\n",
    "\n",
    "                if clusters:\n",
    "                    assert len(clusters) == len(cluster_inds)\n",
    "                    CLUSTERS.array[cluster_inds] = np.vstack(clusters)\n",
    "                    assert len(CLUSTER_METAS) == CLUSTERS.len\n",
    "                    \n",
    "                LOG(f'Loaded {len(CLUSTER_METAS)} clusters in total for encoding=\"{HP_SIGNAL_ENCODING}\" and transf_code=\"{TRANSF_CODE}\"')\n",
    "\n",
    "                unique_cluster_keys = set(map(lambda m: m.cluster_key, CLUSTER_METAS.values()))\n",
    "                assert len(unique_cluster_keys) == len(CLUSTER_METAS)\n",
    "                new_clusters_creation_rate_calc = AverageFilter()\n",
    "\n",
    "                sgr = DummySignalsGeneratorResult()\n",
    "                \n",
    "                def switch_signals_generator():\n",
    "                    global sgr\n",
    "                    sgr = DummySignalsGeneratorResult()\n",
    "                    signals_generator.switch()\n",
    "                    LOG('Signals generator switched')\n",
    "                    \n",
    "                switch_signals_generator_governeur = interval_governeur(HP_RESET_LEARN_CLUSTERS_INTERVAL, switch_signals_generator)\n",
    "\n",
    "                stats_signals_processed_count = 0\n",
    "                stats_parent_signals_count = 0\n",
    "                stats_learn_clusters_created_count = 0\n",
    "                \n",
    "                def report_stats():\n",
    "                    global stats_signals_processed_count, stats_parent_signals_count, stats_learn_clusters_created_count\n",
    "                    LOG(f'STATS: total signals={stats_signals_processed_count:_}')\n",
    "                    LOG(f'STATS: parent signals={stats_parent_signals_count:_}')\n",
    "                    LOG(f'STATS: learn clusters created={stats_learn_clusters_created_count:_}')\n",
    "                    stats_signals_processed_count = 0\n",
    "                    stats_parent_signals_count = 0\n",
    "                    stats_learn_clusters_created_count = 0\n",
    "                \n",
    "                report_stats_governeur = interval_governeur(HP_RESET_LEARN_CLUSTERS_INTERVAL, report_stats)\n",
    "                \n",
    "                ## Mine clusters\n",
    "                for cycle in tqdm(range(HP_CYCLES_COUNT), leave=False, desc='Cycle'):\n",
    "                    with LOG.auto_prefix('CYCLE', cycle):\n",
    "                        LOG(f'===')\n",
    "                        persist_prod_clusters_governeur()\n",
    "                        switch_signals_generator_governeur()\n",
    "                        reset_learn_clusters_governeur()\n",
    "                        report_stats_governeur()\n",
    "                        \n",
    "                        ### General stats reporting\n",
    "                        cluster_states = {}\n",
    "                        cluster_states.update(LEARN_CLUSTERS_SIDECAR.cluster_states_counter.most_common())\n",
    "                        cluster_states.update(CLUSTERS_SIDECAR.cluster_states_counter.most_common())\n",
    "                        cluster_states = dict(filter(lambda kv: kv[1] != 0, cluster_states.items())) # retain only states with non-zero counts (eases inspection by eyes)\n",
    "                        check_count = cluster_states.get(ClusterState.LEARN.name, 0)\n",
    "                        assert check_count == len(LEARN_CLUSTER_METAS)\n",
    "                        check_count = sum(map(lambda cs: cluster_states.get(cs.name, 0), [ClusterState.PROD_CANDIDATE, ClusterState.PROD_WORK, ClusterState.PROD_ETERNAL]))\n",
    "                        assert check_count == len(CLUSTER_METAS)\n",
    "                        LOG(f'Cycle {cycle} started, clusters: {cluster_states}, LEARN_CLUSTERS.array.shape={LEARN_CLUSTERS.array.shape}, CLUSTERS.array.shape={CLUSTERS.array.shape}')\n",
    "                        \n",
    "                        ### Prepare input and output signals for training\n",
    "                        prev_cycle_sgr = sgr\n",
    "                        sgr = signals_generator()\n",
    "                        sgr = sgr._replace(signals_input=xp_array_to_gpu(sgr.signals_input))\n",
    "                        assert len(sgr.signal_ids) == sgr.signals_input.shape[0]\n",
    "                        assert sgr.signals_input.shape[0] == sgr.signals_output.shape[0]\n",
    "                        stats_signals_processed_count += sgr.signals_input.shape[0]\n",
    "                        LOG(f'Prepared {sgr.signals_input.shape[0]} signals')\n",
    "                        # assert False\n",
    "\n",
    "                        ### Create new clusters\n",
    "                        # if len(prev_cycle_sgr.signals_input) > 0:\n",
    "                        #     assert False\n",
    "                            \n",
    "                        learn_clusters_count = len(LEARN_CLUSTER_METAS)\n",
    "                        learn_clusters_sidecar_patch = LearnClustersSidecarPatch()\n",
    "                        new_clusters = []\n",
    "                        new_cluster_inds = []\n",
    "                        signals_count_for_new_clusters = 0\n",
    "\n",
    "                        # LOG('kms@1')\n",
    "\n",
    "                        # Create clusters from prev sgr to avoid situation when clusters are created and get immediately learned on the same data\n",
    "                        for signal_input, signal_output in zip(prev_cycle_sgr.signals_input, prev_cycle_sgr.signals_output):\n",
    "                            if learn_clusters_count + new_clusters_creation_rate_calc.value > HP_LEARN_CLUSTERS_COUNT_SOFT_LIMIT:\n",
    "                                break\n",
    "                                \n",
    "                            signals_count_for_new_clusters += 1\n",
    "                            active_points_boolmap = signal_output[point_output_bits] != 0\n",
    "                            active_point_inds = point_inds[active_points_boolmap]\n",
    "\n",
    "                            if active_point_inds.shape[0] == 0:\n",
    "                                new_clusters_creation_rate_calc(0)\n",
    "                                continue\n",
    "                                \n",
    "                            learn_clusters_count0 = learn_clusters_count\n",
    "                            ones_counts = xp.zeros(active_point_inds.shape[0], dtype='i')\n",
    "                            nzb_list = xp.full((active_point_inds.shape[0], HP_POINT_NON_ZERO_BITS), -1, dtype='i')\n",
    "                            cuda_block_size = 256\n",
    "                            cuda_blocks_count = math.ceil(active_point_inds.shape[0] / cuda_block_size)\n",
    "                            cuda_create_clusters_kernel((cuda_blocks_count, ), (cuda_block_size,),\n",
    "                                                          (cp.int32(HP_SIGNAL_VEC_LEN),\n",
    "                                                           cp.int32(HP_POINT_NON_ZERO_BITS),\n",
    "                                                           cp.int32(HP_CLUSTER_CREATION_ONES_COUNT_THRES),\n",
    "                                                           signal_input,\n",
    "                                                           cp.int32(active_point_inds.shape[0]), \n",
    "                                                           xp_array_to_gpu(active_point_inds),\n",
    "                                                           points,\n",
    "                                                           ones_counts,\n",
    "                                                           nzb_list\n",
    "                                                           ))\n",
    "                            ones_counts = xp_array_from_gpu(ones_counts)\n",
    "                            nzb_list = xp_array_from_gpu(nzb_list)\n",
    "                            good_inds_boolmap = ones_counts > 0\n",
    "                            \n",
    "                            for point_ind, ones_count, nzb in zip(active_point_inds[good_inds_boolmap], ones_counts[good_inds_boolmap], nzb_list[good_inds_boolmap]):\n",
    "                                assert ones_count >= HP_CLUSTER_CREATION_ONES_COUNT_THRES\n",
    "                                active_input_bits = nzb[:ones_count]\n",
    "                                cluster = np.zeros(HP_SIGNAL_VEC_LEN, dtype='f')\n",
    "                                cluster[active_input_bits] = 1\n",
    "                                \n",
    "                                active_output_bit = int(point_output_bits[point_ind])\n",
    "                                cluster_key = get_cluster_key(active_output_bit, active_input_bits) ### ! dur = 1.13, 3.01 vs 4.14 (wo 3.03, 2.99, 3.04, wt 4.13, 4.15, 4.16)\n",
    "                        \n",
    "                                if cluster_key in unique_cluster_keys:\n",
    "                                    continue\n",
    "                        \n",
    "                                # GPU doesn't honor frequent uploads of data - it renders way to slow execution.\n",
    "                                # as such during clusters-creation-loop a) stage new clusters on CPU b) reserve indices in GPU array\n",
    "                                # At the end bulk upload to GPU\n",
    "                                cluster_ind = LEARN_CLUSTERS.lease() ### ! dur = 0.51, 4.12 vs 4.63 (wo 4.05, 4.15, 4.17, wt 4.62, 4.62, 4.65)\n",
    "                                new_clusters.append(cluster)\n",
    "                                new_cluster_inds.append(cluster_ind)\n",
    "                                \n",
    "                                cluster_meta = ClusterMeta(cluster_ind)\n",
    "                                cluster_meta.cluster_key = cluster_key\n",
    "                                cluster_meta.output_bit = active_output_bit\n",
    "                                cluster_meta.input_bits = tuple(map(int, active_input_bits))\n",
    "                                cluster_meta.binarization_schedule = HP_CLUSTER_LEARN_BINARIZATION_SCHEDULE\n",
    "                        \n",
    "                                ### !!! dur = 2.11, 7.12 vs 9.23 (wo 7.26, 6.84, 7.29, wt 9.13, 9.26, 9.32)\n",
    "                                learn_clusters_sidecar_patch.cluster_states.append(cluster_meta.state)\n",
    "                                learn_clusters_sidecar_patch.masks.append(cluster)\n",
    "                                learn_clusters_sidecar_patch.output_bits.append(active_output_bit)\n",
    "                                learn_clusters_sidecar_patch.nus.append(1 / ones_count)\n",
    "                                learn_clusters_sidecar_patch.signals_to_learn_till_binarization_counters.append(cluster_meta.binarization_schedule[0])\n",
    "                                learn_clusters_sidecar_patch.signals_learned_counters.append(0)\n",
    "                                learn_clusters_sidecar_patch.last_activity_cycles.append(cycle)\n",
    "                                learn_clusters_sidecar_patch.is_present_boolmap.append(True)\n",
    "                                \n",
    "                                assert not cluster_ind in LEARN_CLUSTER_METAS\n",
    "                                LEARN_CLUSTER_METAS[cluster_ind] = cluster_meta ### !! dur = 1.27, 5.81 vs 7.08 (wo 5.96, 5.75, 5.74, wt 7.28, 7.02, 6.95)\n",
    "                                unique_cluster_keys.add(cluster_key)\n",
    "                                learn_clusters_count += 1\n",
    "\n",
    "                            assert learn_clusters_count >= learn_clusters_count0\n",
    "                            new_clusters_creation_rate_calc(learn_clusters_count - learn_clusters_count0)\n",
    "\n",
    "                        # LOG('kms@2')\n",
    "                        stats_parent_signals_count += signals_count_for_new_clusters\n",
    "                        stats_learn_clusters_created_count += len(new_clusters)\n",
    "                        LOG(f'Created {len(new_clusters)} LEARN clusters from {signals_count_for_new_clusters} signals, create rate={new_clusters_creation_rate_calc.value:.0f} clusters/signal')\n",
    "\n",
    "                        # if cycle == 0:\n",
    "                        #     assert False\n",
    "\n",
    "                        if new_clusters:\n",
    "                            new_cluster_inds = np.array(new_cluster_inds)\n",
    "                            new_clusters = np.vstack(new_clusters)\n",
    "                            assert new_clusters.shape[0] == new_cluster_inds.shape[0]\n",
    "                            LEARN_CLUSTERS.array[new_cluster_inds] = new_clusters\n",
    "                            # LEARN_CLUSTERS_SIDECAR.masks[new_cluster_inds] = new_clusters\n",
    "                            LEARN_CLUSTERS_SIDECAR.patch(new_cluster_inds, learn_clusters_sidecar_patch)\n",
    "                            LOG(f'Uploaded to GPU {new_clusters.shape[0]} LEARN clusters')\n",
    "\n",
    "                        ### Learn clusters\n",
    "                        learn_clusters_count = LEARN_CLUSTERS.active_len\n",
    "                        learned_cluster_inds = []\n",
    "                        \n",
    "                        if learn_clusters_count > 0:\n",
    "                            learn_clusters = LEARN_CLUSTERS.array_active\n",
    "                            assert learn_clusters.shape[0] == learn_clusters_count\n",
    "                            learn_cluster_is_present_boolmap = xp_array_to_gpu(LEARN_CLUSTERS_SIDECAR.is_present_boolmap[:learn_clusters_count])\n",
    "                            learn_cluster_output_bits = LEARN_CLUSTERS_SIDECAR.output_bits[:learn_clusters_count]\n",
    "                            learn_cluster_masks = LEARN_CLUSTERS_SIDECAR.masks[:learn_clusters_count]\n",
    "                            learn_cluster_nus = LEARN_CLUSTERS_SIDECAR.nus[:learn_clusters_count]\n",
    "                            learn_cluster_signals_learned_counters = LEARN_CLUSTERS_SIDECAR.signals_learned_counters[:learn_clusters_count]\n",
    "                            learn_cluster_signals_till_binarization_counters = LEARN_CLUSTERS_SIDECAR.signals_to_learn_till_binarization_counters[:learn_clusters_count]\n",
    "                            learn_cluster_update_counters = xp.zeros(learn_clusters_count, dtype='i')\n",
    "                            assert learn_clusters.shape[0] > 0\n",
    "                            assert learn_clusters.shape[0] == learn_cluster_is_present_boolmap.shape[0]\n",
    "                            assert learn_clusters.shape == learn_cluster_masks.shape\n",
    "                            assert learn_clusters.shape[0] == learn_cluster_nus.shape[0]\n",
    "                            assert learn_clusters.shape[0] == learn_cluster_output_bits.shape[0]\n",
    "                            assert learn_clusters.shape[0] == learn_cluster_signals_learned_counters.shape[0]\n",
    "                            assert learn_clusters.shape[0] == learn_cluster_signals_till_binarization_counters.shape[0]\n",
    "                            assert learn_clusters.shape[0] == learn_cluster_update_counters.shape[0]\n",
    "                            assert not learn_clusters.base is None\n",
    "                            assert not learn_cluster_masks.base is None\n",
    "    \n",
    "                            cuda_block_size = 256\n",
    "                            cuda_blocks_count = math.ceil(learn_clusters.shape[0] / cuda_block_size)\n",
    "                            cuda_learn_clusters_kernel((cuda_blocks_count, ), (cuda_block_size,),\n",
    "                                                       (\n",
    "                                                        # INPUT\n",
    "                                                        cp.int32(HP_SIGNAL_VEC_LEN),\n",
    "                                                        cp.int32(HP_CLUSTER_ONES_COUNT_THRES),\n",
    "                                                        cp.int32(sgr.signals_input.shape[0]),\n",
    "                                                        sgr.signals_input, \n",
    "                                                        xp_array_to_gpu(sgr.signals_output),\n",
    "                                                        cp.int32(learn_clusters.shape[0]), \n",
    "                                                        learn_clusters, \n",
    "                                                        learn_cluster_is_present_boolmap,\n",
    "                                                        learn_cluster_output_bits, \n",
    "                                                        learn_cluster_masks, \n",
    "                                                        learn_cluster_nus, \n",
    "                                                        # OUTPUT\n",
    "                                                        learn_cluster_signals_learned_counters,\n",
    "                                                        learn_cluster_signals_till_binarization_counters,\n",
    "                                                        learn_clusters,\n",
    "                                                        learn_cluster_update_counters\n",
    "                                                        ))\n",
    "                            learned_cluster_inds = xp_array_from_gpu(np.flatnonzero(learn_cluster_update_counters))\n",
    "                            LEARN_CLUSTERS_SIDECAR.last_activity_cycles[learned_cluster_inds] = cycle\n",
    "                            is_binarizable_boolmap = LEARN_CLUSTERS_SIDECAR.is_present_boolmap[:learn_clusters_count]\n",
    "                            is_binarizable_boolmap = is_binarizable_boolmap & xp_array_from_gpu(learn_cluster_signals_till_binarization_counters <= 0)\n",
    "                            LEARN_CLUSTERS_SIDECAR.is_binarizable_boolmap[:learn_clusters_count] = is_binarizable_boolmap\n",
    "\n",
    "                        LOG(f'Learned {len(learned_cluster_inds)} clusters')\n",
    "\n",
    "                        ### Binarize LEARN clusters (develop specialization)\n",
    "                        is_binarizable_boolmap = LEARN_CLUSTERS_SIDECAR.is_binarizable_boolmap[:LEARN_CLUSTERS.active_len]\n",
    "                        cluster_inds_to_binarize = np.arange(LEARN_CLUSTERS.active_len, dtype='i')[is_binarizable_boolmap]\n",
    "                        new_cluster_states = Counter()\n",
    "                        death_reasons = Counter()\n",
    "\n",
    "                        if cluster_inds_to_binarize.shape[0] > 0:\n",
    "                            ones_counts = xp.zeros(cluster_inds_to_binarize.shape[0], dtype='i')\n",
    "                            nzb_list = xp.full((cluster_inds_to_binarize.shape[0], HP_POINT_NON_ZERO_BITS), -1, dtype='i')\n",
    "                            cuda_block_size = 256\n",
    "                            cuda_blocks_count = math.ceil(cluster_inds_to_binarize.shape[0] / cuda_block_size)\n",
    "                            cuda_binarize_clusters_kernel((cuda_blocks_count, ), (cuda_block_size,),\n",
    "                                                          (cp.int32(HP_SIGNAL_VEC_LEN),\n",
    "                                                           cp.int32(HP_POINT_NON_ZERO_BITS),\n",
    "                                                           cp.float32(HP_CLUSTER_BINARIZE_THRES),\n",
    "                                                           cp.int32(cluster_inds_to_binarize.shape[0]), \n",
    "                                                           xp_array_to_gpu(cluster_inds_to_binarize),\n",
    "                                                           LEARN_CLUSTERS.array, \n",
    "                                                           LEARN_CLUSTERS.array,\n",
    "                                                           LEARN_CLUSTERS_SIDECAR.masks,\n",
    "                                                           ones_counts,\n",
    "                                                           nzb_list\n",
    "                                                           ))\n",
    "                            ones_counts = xp_array_from_gpu(ones_counts)\n",
    "                            nzb_list = xp_array_from_gpu(nzb_list)\n",
    "                            learn_clusters_sidecar_patch = LearnClustersSidecarPatch()\n",
    "                            \n",
    "                            for cluster_ind, ones_count, nzb in zip(cluster_inds_to_binarize, ones_counts, nzb_list):\n",
    "                                cluster_meta = LEARN_CLUSTER_METAS[cluster_ind]\n",
    "                                assert cluster_meta.state == ClusterState.LEARN\n",
    "                                # assert cluster_meta.signals_to_learn_till_binarization <= 0\n",
    "                                # cluster_meta.last_activity_cycle = cycle\n",
    "                                cluster_meta.binarization_schedule = cluster_meta.binarization_schedule[1:]\n",
    "                                # cluster_meta.signals_to_learn_till_binarization = cluster_meta.binarization_schedule[0] if cluster_meta.binarization_schedule else 0\n",
    "                                cluster_meta.ones_count = int(ones_count)\n",
    "                                assert cluster_meta.ones_count > 0\n",
    "                                # cluster_meta.nu = 1 / cluster_meta.ones_count\n",
    "\n",
    "                                b = cluster_meta.binarization_schedule[0] if cluster_meta.binarization_schedule else 0\n",
    "                                learn_clusters_sidecar_patch.signals_to_learn_till_binarization_counters.append(b)\n",
    "                                learn_clusters_sidecar_patch.nus.append(1 / cluster_meta.ones_count)\n",
    "                                learn_clusters_sidecar_patch.last_activity_cycles.append(cycle)\n",
    "\n",
    "                                if cluster_meta.ones_count >= HP_CLUSTER_ONES_COUNT_THRES:\n",
    "                                    old_cluster_key = cluster_meta.cluster_key\n",
    "                                    cluster_meta.input_bits = tuple(map(int, nzb[:ones_count]))\n",
    "                                    new_cluster_key = get_cluster_key(cluster_meta.output_bit, cluster_meta.input_bits)\n",
    "    \n",
    "                                    if old_cluster_key != new_cluster_key:\n",
    "                                        if new_cluster_key in unique_cluster_keys:\n",
    "                                            cluster_meta.state = ClusterState.DEAD\n",
    "                                            death_reasons['DUPLICATE'] += 1\n",
    "                                        else:\n",
    "                                            cluster_meta.cluster_key = new_cluster_key\n",
    "                                            unique_cluster_keys.remove(old_cluster_key)\n",
    "                                            unique_cluster_keys.add(new_cluster_key)\n",
    "                                else:\n",
    "                                    cluster_meta.state = ClusterState.DEAD\n",
    "                                    death_reasons['SHORT'] += 1\n",
    "\n",
    "                                # LEARN_CLUSTERS_SIDECAR.sync(cluster_meta)\n",
    "                                learn_clusters_sidecar_patch.cluster_states.append(cluster_meta.state)\n",
    "                                learn_clusters_sidecar_patch.is_dead_boolmap.append(cluster_meta.state == ClusterState.DEAD)\n",
    "                                learn_clusters_sidecar_patch.is_promotable_boolmap.append(cluster_meta.state == ClusterState.LEARN and not cluster_meta.binarization_schedule)\n",
    "                                new_cluster_states[cluster_meta.state.name] += 1\n",
    "                            \n",
    "                            LEARN_CLUSTERS_SIDECAR.patch(cluster_inds_to_binarize, learn_clusters_sidecar_patch)\n",
    "\n",
    "                        LOG(f'Binarized {cluster_inds_to_binarize.shape[0]} LEARN clusters: {new_cluster_states}; death reasons: {death_reasons}')\n",
    "                        # assert False\n",
    "                        \n",
    "                        ### Promote LEARN clusters to PROD_CANDIDATE if they've learned enough (binarization schedule is exhausted)\n",
    "                        prod_candidate_clusters_count = CLUSTERS_SIDECAR.cluster_states_counter[ClusterState.PROD_CANDIDATE.name]\n",
    "                        is_promotable_boolmap = LEARN_CLUSTERS_SIDECAR.is_promotable_boolmap[:LEARN_CLUSTERS.active_len]\n",
    "                        cluster_inds_to_promote = np.arange(LEARN_CLUSTERS.active_len)[is_promotable_boolmap]\n",
    "                        new_cluster_states = Counter()\n",
    "                        \n",
    "                        for cluster_ind in cluster_inds_to_promote:\n",
    "                            cluster_meta = LEARN_CLUSTER_METAS[cluster_ind]\n",
    "                            assert cluster_meta.state == ClusterState.LEARN\n",
    "                            assert not cluster_meta.binarization_schedule\n",
    "                            assert cluster_meta.ones_count >= HP_CLUSTER_ONES_COUNT_THRES\n",
    "                            cluster_ind = cluster_meta.cluster_ind\n",
    "                            # cluster_meta.last_activity_cycle = cycle\n",
    "                            cluster_meta.state = ClusterState.PROD_CANDIDATE\n",
    "                            cluster_meta.accuracy_calc = AverageFilter()\n",
    "                            cluster_meta.verify_signal_ids.clear()\n",
    "                            del LEARN_CLUSTER_METAS[cluster_ind]\n",
    "                            LEARN_CLUSTERS_SIDECAR.remove(cluster_ind)\n",
    "                            LEARN_CLUSTERS.release(cluster_ind, do_wipeout_data=False)\n",
    "\n",
    "                            # move to PROD_CANDIDATE under new cluster_ind\n",
    "                            cluster_meta.cluster_ind = CLUSTERS.lease()\n",
    "                            CLUSTERS.array[cluster_meta.cluster_ind] = LEARN_CLUSTERS.array[cluster_ind]\n",
    "                            assert not cluster_meta.cluster_ind in CLUSTER_METAS\n",
    "                            CLUSTER_METAS[cluster_meta.cluster_ind] = cluster_meta\n",
    "                            CLUSTERS_SIDECAR.sync(cluster_meta)\n",
    "                            CLUSTERS_SIDECAR.last_activity_cycles[cluster_meta.cluster_ind] = cycle\n",
    "\n",
    "                            new_cluster_states[cluster_meta.state.name] += 1\n",
    "\n",
    "                            if (prod_candidate_clusters_count + new_cluster_states.total()) >= HP_PROD_CANDIDATE_CLUSTERS_COUNT_SOFT_LIMIT:\n",
    "                                # do not exceed limit of prod candidates to avoid their preliminary death by soft limit checker\n",
    "                                break\n",
    "\n",
    "                        LOG(f'Promoted {new_cluster_states.total()} of {cluster_inds_to_promote.shape[0]} LEARN clusters: {new_cluster_states}')\n",
    "\n",
    "                        ### Verify PROD_CANDIDATE/PROD_WORK clusters against new signals\n",
    "                        verify_cluster_inds = np.arange(CLUSTERS.array.shape[0])[CLUSTERS_SIDECAR.is_verifiable_boolmap]\n",
    "                        verify_cluster_ones_counts = xp_array_to_gpu(CLUSTERS_SIDECAR.ones_counts[verify_cluster_inds])\n",
    "                        verify_cluster_output_bits = CLUSTERS_SIDECAR.output_bits[verify_cluster_inds]\n",
    "                        verify_clusters = CLUSTERS.array[verify_cluster_inds]\n",
    "                        verified_cluster_inds = set()\n",
    "                        # row - signal input, column - how many bits are activated in verify cluster for corresponding signal_input\n",
    "                        signal_input_to_activated_clusters_boolmap_mat = sgr.signals_input @ verify_clusters.T\n",
    "                        # row - signal_input, column - true if corresponding verify cluster have enough bits activated, false otherwise\n",
    "                        signal_input_to_activated_clusters_boolmap_mat = (signal_input_to_activated_clusters_boolmap_mat >= verify_cluster_ones_counts)\n",
    "                        signal_input_to_activated_clusters_boolmap_mat = xp_array_from_gpu(signal_input_to_activated_clusters_boolmap_mat)\n",
    "                        assert signal_input_to_activated_clusters_boolmap_mat.shape[0] == sgr.signals_output.shape[0]\n",
    "                        assert signal_input_to_activated_clusters_boolmap_mat.shape[0] == len(sgr.signal_ids)\n",
    "                        \n",
    "                        for activated_clusters_boolmap, signal_output, signal_id in zip(signal_input_to_activated_clusters_boolmap_mat, \n",
    "                                                                                        sgr.signals_output, sgr.signal_ids):\n",
    "                            # cast array of output_bit numbers [0, 3, 4, 7, 7, 0, 3, 32, ..] to TP array [True, False, False, True, True, True, False, False, ...]\n",
    "                            # where True if output_bit of verify_cluster is enabled in signal_output and False otherwise\n",
    "                            verify_cluster_output_bits_tf = signal_output[verify_cluster_output_bits] != 0\n",
    "                            cluster_inds = verify_cluster_inds[activated_clusters_boolmap]\n",
    "                            tfs = verify_cluster_output_bits_tf[activated_clusters_boolmap]\n",
    "                            assert cluster_inds.shape[0] == tfs.shape[0]\n",
    "                            \n",
    "                            for cluster_ind, tf in zip(cluster_inds, tfs):\n",
    "                                cluster_meta = CLUSTER_METAS[cluster_ind]\n",
    "                                cluster_meta.last_activity_cycle = cycle\n",
    "                                cluster_meta.accuracy_calc(int(tf))\n",
    "                                cluster_meta.verify_signal_ids.append((signal_id, int(tf)))\n",
    "                                CLUSTERS_SIDECAR.sync(cluster_meta)\n",
    "                                verified_cluster_inds.add(cluster_ind)\n",
    "                    \n",
    "                        LOG(f'Verified {len(verified_cluster_inds)} PROD_* clusters')\n",
    "\n",
    "                        ### Promote PROD_CANDIDATE clusters to PROD_WORK if they've been verified enough\n",
    "                        is_promotable_to_prod_work_boolmap = CLUSTERS_SIDECAR.is_promotable_to_prod_work_boolmap[:CLUSTERS.active_len]\n",
    "                        cluster_inds_to_promote = np.arange(CLUSTERS.active_len)[is_promotable_to_prod_work_boolmap]\n",
    "                        new_cluster_states = Counter()\n",
    "                        \n",
    "                        for cluster_ind in cluster_inds_to_promote:\n",
    "                            cluster_meta = CLUSTER_METAS[cluster_ind]\n",
    "                            assert cluster_meta.state == ClusterState.PROD_CANDIDATE\n",
    "                            assert len(cluster_meta.verify_signal_ids) >= HP_CLUSTER_PROD_WORK_SIGNALS_PROCESSED_THRES\n",
    "                            assert cluster_meta.ones_count >= HP_CLUSTER_ONES_COUNT_THRES\n",
    "                            cluster_meta.state = ClusterState.PROD_WORK\n",
    "                            cluster_meta.accuracy_calc = MovingAverageFilter(HP_CLUSTER_PROD_ETERNAL_SIGNALS_PROCESSED_THRES)\n",
    "                            \n",
    "                            for verify_signal_id in cluster_meta.verify_signal_ids:\n",
    "                                cluster_meta.accuracy_calc(verify_signal_id[1])\n",
    "\n",
    "                            CLUSTERS_SIDECAR.sync(cluster_meta)\n",
    "                            new_cluster_states[cluster_meta.state.name] += 1\n",
    "                    \n",
    "                        LOG(f'Promoted {new_cluster_states.total()} PROD_CANDIDATE clusters: {new_cluster_states}')\n",
    "\n",
    "                        ### Promote PROD_WORK clusters to PROD_ETERNAL or depromote back to LEARN based on accuracy and experience\n",
    "                        is_prod_work_boolmap = CLUSTERS_SIDECAR.is_prod_work_boolmap[:CLUSTERS.active_len]\n",
    "                        cluster_inds_to_promote = np.arange(CLUSTERS.active_len)[is_prod_work_boolmap]\n",
    "                        new_cluster_states = Counter()\n",
    "                        learn_cluster_inds = []\n",
    "                        learn_clusters_sidecar_patch = LearnClustersSidecarPatch()\n",
    "                        \n",
    "                        for cluster_ind in cluster_inds_to_promote:\n",
    "                            cluster_meta = CLUSTER_METAS[cluster_ind]\n",
    "                            assert cluster_meta.state == ClusterState.PROD_WORK\n",
    "                            assert cluster_meta.ones_count >= HP_CLUSTER_ONES_COUNT_THRES\n",
    "                            accuracy = cluster_meta.accuracy_calc.value\n",
    "\n",
    "                            if accuracy < HP_CLUSTER_PROD_WORK_ACCURACY_THRES:\n",
    "                                # bad, bad, bad prod-work cluster. You are too inaccurate, you are depromoted back to LEARN so you've a chance to fix your behavior\n",
    "                                cluster_ind = cluster_meta.cluster_ind\n",
    "                                del CLUSTER_METAS[cluster_ind]\n",
    "                                CLUSTERS.release(cluster_ind, do_wipeout_data=False)\n",
    "                                CLUSTERS_SIDECAR.remove(cluster_ind)\n",
    "                                \n",
    "                                cluster_meta.cluster_ind = LEARN_CLUSTERS.lease()\n",
    "                                cluster_meta.state = ClusterState.LEARN\n",
    "                                assert cluster_meta.cluster_key in unique_cluster_keys\n",
    "                                # cluster_meta.nu = 1 / cluster_meta.ones_count\n",
    "                                # cluster_meta.signals_learned = 0\n",
    "                                cluster_meta.binarization_schedule = HP_CLUSTER_RELEARN_BINARIZATION_SCHEDULE\n",
    "                                # cluster_meta.signals_to_learn_till_binarization = cluster_meta.binarization_schedule[0]\n",
    "                                cluster_meta.accuracy_calc = None\n",
    "                                cluster_meta.verify_signal_ids.clear()\n",
    "                                \n",
    "                                assert not cluster_meta.cluster_ind in LEARN_CLUSTER_METAS\n",
    "                                LEARN_CLUSTER_METAS[cluster_meta.cluster_ind] = cluster_meta\n",
    "                                LEARN_CLUSTERS.array[cluster_meta.cluster_ind] = CLUSTERS.array[cluster_ind]\n",
    "                                # LEARN_CLUSTERS_SIDECAR.masks[cluster_meta.cluster_ind] = CLUSTERS.array[cluster_ind]\n",
    "                                # LEARN_CLUSTERS_SIDECAR.sync(cluster_meta)\n",
    "                                \n",
    "                                learn_cluster_inds.append(cluster_meta.cluster_ind)\n",
    "                                learn_clusters_sidecar_patch.cluster_states.append(cluster_meta.state)\n",
    "                                learn_clusters_sidecar_patch.masks.append(CLUSTERS.array[cluster_ind])\n",
    "                                learn_clusters_sidecar_patch.nus.append(1 / cluster_meta.ones_count)\n",
    "                                learn_clusters_sidecar_patch.signals_learned_counters.append(0)\n",
    "                                learn_clusters_sidecar_patch.signals_to_learn_till_binarization_counters.append(cluster_meta.binarization_schedule[0])\n",
    "                                learn_clusters_sidecar_patch.last_activity_cycles.append(cycle)\n",
    "                                learn_clusters_sidecar_patch.is_present_boolmap.append(True)\n",
    "                                \n",
    "                            elif len(cluster_meta.verify_signal_ids) >= HP_CLUSTER_PROD_ETERNAL_SIGNALS_PROCESSED_THRES and accuracy >= HP_CLUSTER_PROD_ETERNAL_ACCURACY_THRES:\n",
    "                                # Elite cluster is born! Promote to pantheon of eternal clusters\n",
    "                                cluster_meta.state = ClusterState.PROD_ETERNAL\n",
    "                                CLUSTERS_SIDECAR.sync(cluster_meta)\n",
    "                            else:\n",
    "                                continue\n",
    "                                \n",
    "                            new_cluster_states[cluster_meta.state.name] += 1\n",
    "\n",
    "                        LEARN_CLUSTERS_SIDECAR.patch(np.array(learn_cluster_inds), learn_clusters_sidecar_patch)\n",
    "                        LOG(f'Promoted {new_cluster_states.total()} PROD_WORK clusters: {new_cluster_states}')\n",
    "                    \n",
    "                        ### Weed the garden\n",
    "                        def remove_cluster(meta, metas, clusters, clusters_sidecar):\n",
    "                            unique_cluster_keys.remove(meta.cluster_key)\n",
    "                            del metas[meta.cluster_ind]\n",
    "                            clusters.release(meta.cluster_ind, do_wipeout_data=False)\n",
    "                            clusters_sidecar.remove(meta.cluster_ind)\n",
    "                        \n",
    "                        def remove_dead_clusters(metas, clusters, clusters_sidecar):\n",
    "                            is_dead_boolmap = clusters_sidecar.is_dead_boolmap[:clusters.active_len]\n",
    "                            cluster_inds_to_remove = np.arange(clusters.active_len)[is_dead_boolmap]\n",
    "\n",
    "                            for cluster_ind in cluster_inds_to_remove:\n",
    "                                meta = metas[cluster_ind]\n",
    "                                assert meta.state == ClusterState.DEAD\n",
    "                                remove_cluster(meta, metas, clusters, clusters_sidecar)\n",
    "                                \n",
    "                            assert len(metas) == clusters.len, (len(metas), clusters.len)\n",
    "                            return len(cluster_inds_to_remove)\n",
    "\n",
    "                        def soft_limit_clusters(soft_limit, metas, clusters, clusters_sidecar, cluster_state):\n",
    "                            clusters_count = clusters_sidecar.cluster_states_counter[cluster_state.name]\n",
    "                            \n",
    "                            if clusters_count <= soft_limit:\n",
    "                                return 0, -1, -1\n",
    "                                \n",
    "                            metas_of_interest = list(filter(lambda m: m.state == cluster_state, metas.values()))\n",
    "                            assert len(metas_of_interest) == clusters_count\n",
    "                            redundant_metas_count = len(metas_of_interest) - soft_limit\n",
    "                            assert redundant_metas_count > 0\n",
    "                            metas_by_inactivity = list(map(lambda m: (m.last_activity_cycle, m.cluster_ind), metas_of_interest))\n",
    "                            metas_by_inactivity.sort() # most inactive metas will be concentrated at the very beginning\n",
    "                            most_inactive_metas = metas_by_inactivity[:redundant_metas_count]\n",
    "                            min_age = cycle - most_inactive_metas[-1][0]\n",
    "                            max_age = cycle - most_inactive_metas[0][0]\n",
    "                            most_inactive_metas = list(map(lambda x: metas[x[1]], most_inactive_metas))\n",
    "                            assert len(most_inactive_metas) == redundant_metas_count\n",
    "                            \n",
    "                            for meta in most_inactive_metas:\n",
    "                                remove_cluster(meta, metas, clusters, clusters_sidecar)\n",
    "                                \n",
    "                            assert len(metas) == clusters.len\n",
    "                            return len(most_inactive_metas), min_age, max_age\n",
    "\n",
    "                        removed_count = remove_dead_clusters(LEARN_CLUSTER_METAS, LEARN_CLUSTERS, LEARN_CLUSTERS_SIDECAR)\n",
    "                        LOG(f'Removed {removed_count} dead LEARN clusters')\n",
    "                        removed_count = remove_dead_clusters(CLUSTER_METAS, CLUSTERS, CLUSTERS_SIDECAR)\n",
    "                        LOG(f'Removed {removed_count} dead PROD_CANDIDATE clusters')\n",
    "                        removed_count, min_age, max_age = soft_limit_clusters(HP_LEARN_CLUSTERS_COUNT_SOFT_LIMIT, LEARN_CLUSTER_METAS, LEARN_CLUSTERS, LEARN_CLUSTERS_SIDECAR, ClusterState.LEARN)\n",
    "                        LOG(f'Removed {removed_count} LEARN clusters by soft limit {HP_LEARN_CLUSTERS_COUNT_SOFT_LIMIT:_}; age=[{min_age}, {max_age}]')\n",
    "                        removed_count, min_age, max_age = soft_limit_clusters(HP_PROD_CANDIDATE_CLUSTERS_COUNT_SOFT_LIMIT, CLUSTER_METAS, CLUSTERS, CLUSTERS_SIDECAR, ClusterState.PROD_CANDIDATE)\n",
    "                        LOG(f'Removed {removed_count} PROD_CANDIDATE clusters by soft limit {HP_PROD_CANDIDATE_CLUSTERS_COUNT_SOFT_LIMIT:_}; age=[{min_age}, {max_age}]')\n",
    "                        removed_count, min_age, max_age = soft_limit_clusters(HP_PROD_WORK_CLUSTERS_COUNT_SOFT_LIMIT, CLUSTER_METAS, CLUSTERS, CLUSTERS_SIDECAR, ClusterState.PROD_WORK)\n",
    "                        LOG(f'Removed {removed_count} PROD_WORK clusters by soft limit {HP_PROD_WORK_CLUSTERS_COUNT_SOFT_LIMIT:_}; age=[{min_age}, {max_age}]')\n",
    "\n",
    "                persist_prod_clusters_governeur(is_forced=True)"
   ]
  },
  {
   "cell_type": "code",
   "execution_count": 73,
   "id": "84fe82bc-db6c-436c-a8b4-fc004b7caee5",
   "metadata": {},
   "outputs": [],
   "source": [
    "bm = LEARN_CLUSTERS_SIDECAR.is_dead_boolmap[:LEARN_CLUSTERS.active_len]\n",
    "inds = np.arange(LEARN_CLUSTERS.active_len)[bm]\n",
    "\n",
    "for i, cluster_ind in enumerate(inds):\n",
    "    meta = LEARN_CLUSTER_METAS[cluster_ind]\n",
    "    assert meta.state == ClusterState.DEAD"
   ]
  },
  {
   "cell_type": "code",
   "execution_count": 120,
   "id": "7cf1958f-2700-4dfc-8b6c-ea86b7d67e40",
   "metadata": {},
   "outputs": [
    {
     "data": {
      "text/plain": [
       "(0, np.int64(286786))"
      ]
     },
     "execution_count": 120,
     "metadata": {},
     "output_type": "execute_result"
    }
   ],
   "source": [
    "i, cluster_ind"
   ]
  },
  {
   "cell_type": "code",
   "execution_count": 122,
   "id": "acea7655-30bf-4f08-bc4f-6583038d6874",
   "metadata": {},
   "outputs": [
    {
     "data": {
      "text/plain": [
       "{'state': <ClusterState.LEARN: 'learn'>,\n",
       " 'cluster_ind': 286786,\n",
       " 'cluster_key': (783, (50, 231, 360, 428, 803, 899, 945)),\n",
       " 'output_bit': 783,\n",
       " 'input_bits': (np.int32(50),\n",
       "  np.int32(231),\n",
       "  np.int32(360),\n",
       "  np.int32(428),\n",
       "  np.int32(803),\n",
       "  np.int32(899),\n",
       "  np.int32(945)),\n",
       " 'ones_count': -1,\n",
       " 'binarization_schedule': (5, 10),\n",
       " 'accuracy_calc': None,\n",
       " 'verify_signal_ids': []}"
      ]
     },
     "execution_count": 122,
     "metadata": {},
     "output_type": "execute_result"
    }
   ],
   "source": [
    "vars(meta)"
   ]
  },
  {
   "cell_type": "code",
   "execution_count": 128,
   "id": "2016afe1-8d3b-432b-af17-286d955cdccf",
   "metadata": {},
   "outputs": [
    {
     "data": {
      "text/plain": [
       "(np.True_, np.True_, 'LEARN')"
      ]
     },
     "execution_count": 128,
     "metadata": {},
     "output_type": "execute_result"
    }
   ],
   "source": [
    "LEARN_CLUSTERS_SIDECAR.is_present_boolmap[286786], LEARN_CLUSTERS_SIDECAR.is_dead_boolmap[286786], LEARN_CLUSTERS_SIDECAR.cluster_states[286786]"
   ]
  },
  {
   "cell_type": "code",
   "execution_count": 65,
   "id": "d9c0c992-16a0-41fa-b22c-c72d254de264",
   "metadata": {},
   "outputs": [],
   "source": [
    "# active_points = points[active_point_inds] # subset of points which are connected to active output bits\n",
    "# active_points_signal_input_mat = active_points * signal_input\n",
    "# active_points_signal_input_boolmap = (active_points_signal_input_mat.sum(axis=1) >= HP_CLUSTER_CREATION_ONES_COUNT_THRES) # active_points must have at least ON bits within input signal\n",
    "# active_points_signal_input_mat = xp_array_from_gpu(active_points_signal_input_mat)\n",
    "# active_points_signal_input_inds = np.flatnonzero(xp_array_from_gpu(active_points_signal_input_boolmap))\n",
    "# learn_clusters_count0 = learn_clusters_count\n",
    "\n",
    "# for active_points_signal_input_ind in active_points_signal_input_inds:\n",
    "#     point_ind = active_point_inds[active_points_signal_input_ind]\n",
    "#     subsignal_input = active_points_signal_input_mat[active_points_signal_input_ind]\n",
    "    \n",
    "#     active_output_bit = int(point_output_bits[point_ind])\n",
    "#     active_input_bits = np.flatnonzero(subsignal_input) ### !!!! dur = 1.84, 1.18 vs 3.02 (wo 1.22, 1.16, 1.16, wt 3, 3.04, 3.04)\n",
    "#     ones_count = active_input_bits.shape[0]\n",
    "#     assert ones_count >= HP_CLUSTER_CREATION_ONES_COUNT_THRES"
   ]
  },
  {
   "cell_type": "code",
   "execution_count": null,
   "id": "4839f33f-8fb8-47fc-b934-6eabaa41c900",
   "metadata": {},
   "outputs": [],
   "source": [
    "ones_counts = xp.zeros(active_point_inds.shape[0], dtype='i')\n",
    "nzb_list = xp.full((active_point_inds.shape[0], HP_POINT_NON_ZERO_BITS), -1, dtype='i')\n",
    "cuda_block_size = 256\n",
    "cuda_blocks_count = math.ceil(active_point_inds.shape[0] / cuda_block_size)\n",
    "cuda_binarize_clusters_kernel((cuda_blocks_count, ), (cuda_block_size,),\n",
    "                              (cp.int32(HP_SIGNAL_VEC_LEN),\n",
    "                               cp.int32(HP_POINT_NON_ZERO_BITS),\n",
    "                               cp.int32(HP_CLUSTER_CREATION_ONES_COUNT_THRES),\n",
    "                               signal_input,\n",
    "                               cp.int32(active_point_inds.shape[0]), \n",
    "                               xp_array_to_gpu(active_point_inds),\n",
    "                               points,\n",
    "                               ones_counts,\n",
    "                               nzb_list\n",
    "                               ))"
   ]
  },
  {
   "cell_type": "code",
   "execution_count": 83,
   "id": "f2f91116-75e0-4cea-9d3f-e00a946ef547",
   "metadata": {},
   "outputs": [],
   "source": []
  },
  {
   "cell_type": "code",
   "execution_count": 110,
   "id": "e3e359fb-9c9d-468c-82bd-4f87fc9e2812",
   "metadata": {},
   "outputs": [],
   "source": [
    "LEARN_CLUSTERS.clear()\n",
    "LEARN_CLUSTER_METAS.clear()\n",
    "unique_cluster_keys.clear()"
   ]
  },
  {
   "cell_type": "code",
   "execution_count": 111,
   "id": "765040ce-682f-4f15-90d5-f851e5fdeed8",
   "metadata": {},
   "outputs": [
    {
     "name": "stdout",
     "output_type": "stream",
     "text": [
      "CPU times: user 3.12 s, sys: 37.1 ms, total: 3.15 s\n",
      "Wall time: 3.15 s\n"
     ]
    }
   ],
   "source": [
    "%%time\n",
    "learn_clusters_count = len(LEARN_CLUSTER_METAS)\n",
    "learn_clusters_sidecar_patch = LearnClustersSidecarPatch()\n",
    "new_clusters = []\n",
    "new_cluster_inds = []\n",
    "signals_count_for_new_clusters = 0\n",
    "\n",
    "# Create signals from prev sgr to avoid situation when clusters are created and get immediately learned on the same data\n",
    "for signal_input, signal_output in zip(prev_cycle_sgr.signals_input, prev_cycle_sgr.signals_output):\n",
    "    if learn_clusters_count + new_clusters_creation_rate_calc.value > HP_LEARN_CLUSTERS_COUNT_SOFT_LIMIT:\n",
    "        break\n",
    "        \n",
    "    signals_count_for_new_clusters += 1\n",
    "    active_points_boolmap = signal_output[point_output_bits] != 0\n",
    "    active_point_inds = point_inds[active_points_boolmap]\n",
    "\n",
    "    if active_point_inds.shape[0] == 0:\n",
    "        new_clusters_creation_rate_calc(0)\n",
    "        continue\n",
    "\n",
    "    learn_clusters_count0 = learn_clusters_count\n",
    "    ones_counts = xp.zeros(active_point_inds.shape[0], dtype='i')\n",
    "    nzb_list = xp.full((active_point_inds.shape[0], HP_POINT_NON_ZERO_BITS), -1, dtype='i')\n",
    "    cuda_block_size = 256\n",
    "    cuda_blocks_count = math.ceil(active_point_inds.shape[0] / cuda_block_size)\n",
    "    cuda_create_clusters_kernel((cuda_blocks_count, ), (cuda_block_size,),\n",
    "                                  (cp.int32(HP_SIGNAL_VEC_LEN),\n",
    "                                   cp.int32(HP_POINT_NON_ZERO_BITS),\n",
    "                                   cp.int32(HP_CLUSTER_CREATION_ONES_COUNT_THRES),\n",
    "                                   signal_input,\n",
    "                                   cp.int32(active_point_inds.shape[0]), \n",
    "                                   xp_array_to_gpu(active_point_inds),\n",
    "                                   points,\n",
    "                                   ones_counts,\n",
    "                                   nzb_list\n",
    "                                   ))\n",
    "    ones_counts = xp_array_from_gpu(ones_counts)\n",
    "    nzb_list = xp_array_from_gpu(nzb_list)\n",
    "    good_inds_boolmap = ones_counts > 0\n",
    "    \n",
    "    for point_ind, ones_count, nzb in zip(active_point_inds[good_inds_boolmap], ones_counts[good_inds_boolmap], nzb_list[good_inds_boolmap]):\n",
    "        assert ones_count >= HP_CLUSTER_CREATION_ONES_COUNT_THRES\n",
    "        active_input_bits = nzb[:ones_count]\n",
    "        # cluster = active_points_signal_input_mat[active_points_signal_input_ind]\n",
    "        cluster = np.zeros(HP_SIGNAL_VEC_LEN, dtype='f')\n",
    "        cluster[active_input_bits] = 1\n",
    "        \n",
    "        active_output_bit = int(point_output_bits[point_ind])\n",
    "        # active_input_bits = np.flatnonzero(cluster) ### !!!! dur = 1.84, 1.18 vs 3.02 (wo 1.22, 1.16, 1.16, wt 3, 3.04, 3.04)\n",
    "        # ones_count = active_input_bits.shape[0]\n",
    "        cluster_key = get_cluster_key2(active_output_bit, active_input_bits) ### ! dur = 1.13, 3.01 vs 4.14 (wo 3.03, 2.99, 3.04, wt 4.13, 4.15, 4.16)\n",
    "\n",
    "        if cluster_key in unique_cluster_keys:\n",
    "            continue\n",
    "\n",
    "        # GPU doesn't honor frequent uploads of data - it renders way to slow execution.\n",
    "        # as such during clusters-creation-loop a) stage new clusters on CPU b) reserve indices in GPU array\n",
    "        # At the end bulk upload to GPU\n",
    "        cluster_ind = LEARN_CLUSTERS.lease() ### ! dur = 0.51, 4.12 vs 4.63 (wo 4.05, 4.15, 4.17, wt 4.62, 4.62, 4.65)\n",
    "        new_clusters.append(cluster)\n",
    "        new_cluster_inds.append(cluster_ind)\n",
    "        \n",
    "        cluster_meta = ClusterMeta(cluster_ind)\n",
    "        cluster_meta.cluster_key = cluster_key\n",
    "        cluster_meta.output_bit = active_output_bit\n",
    "        cluster_meta.input_bits = tuple(active_input_bits)\n",
    "        # cluster_meta.nu = 1 / cluster.sum()\n",
    "        cluster_meta.binarization_schedule = HP_CLUSTER_LEARN_BINARIZATION_SCHEDULE\n",
    "        # cluster_meta.signals_to_learn_till_binarization = cluster_meta.binarization_schedule[0]\n",
    "        # cluster_meta.last_activity_cycle = cycle\n",
    "\n",
    "        ### !!! dur = 2.11, 7.12 vs 9.23 (wo 7.26, 6.84, 7.29, wt 9.13, 9.26, 9.32)\n",
    "        learn_clusters_sidecar_patch.cluster_states.append(cluster_meta.state)\n",
    "        learn_clusters_sidecar_patch.masks.append(cluster)\n",
    "        learn_clusters_sidecar_patch.output_bits.append(active_output_bit)\n",
    "        learn_clusters_sidecar_patch.nus.append(1 / ones_count)\n",
    "        learn_clusters_sidecar_patch.signals_to_learn_till_binarization_counters.append(cluster_meta.binarization_schedule[0])\n",
    "        learn_clusters_sidecar_patch.signals_learned_counters.append(0)\n",
    "        learn_clusters_sidecar_patch.last_activity_cycles.append(cycle)\n",
    "        learn_clusters_sidecar_patch.is_present_boolmap.append(True)\n",
    "        \n",
    "        # # assert not cluster_ind in LEARN_CLUSTER_METAS\n",
    "        LEARN_CLUSTER_METAS[cluster_ind] = cluster_meta ### !! dur = 1.27, 5.81 vs 7.08 (wo 5.96, 5.75, 5.74, wt 7.28, 7.02, 6.95)\n",
    "        # # # # LEARN_CLUSTERS_SIDECAR.sync(cluster_meta)\n",
    "        unique_cluster_keys.add(cluster_key)\n",
    "        learn_clusters_count += 1\n",
    "\n",
    "    assert learn_clusters_count >= learn_clusters_count0\n",
    "    new_clusters_creation_rate_calc(learn_clusters_count - learn_clusters_count0)"
   ]
  },
  {
   "cell_type": "code",
   "execution_count": null,
   "id": "fc5ca4dd-cbec-4981-bf5a-dc9e40eb66b9",
   "metadata": {},
   "outputs": [],
   "source": []
  },
  {
   "cell_type": "code",
   "execution_count": 208,
   "id": "05dd29de-4261-4638-89eb-ef682b083533",
   "metadata": {},
   "outputs": [
    {
     "data": {
      "text/plain": [
       "np.float64(3.0199999999999996)"
      ]
     },
     "execution_count": 208,
     "metadata": {},
     "output_type": "execute_result"
    }
   ],
   "source": [
    "np.mean([8.54, 8.4, 8.52])"
   ]
  },
  {
   "cell_type": "code",
   "execution_count": 221,
   "id": "99cb69bf-d5f0-4de1-8804-2662c81ebe81",
   "metadata": {},
   "outputs": [
    {
     "data": {
      "text/plain": [
       "np.float64(8.453333333333333)"
      ]
     },
     "execution_count": 221,
     "metadata": {},
     "output_type": "execute_result"
    }
   ],
   "source": [
    "np.mean([8.46, 8.47, 8.43])"
   ]
  },
  {
   "cell_type": "code",
   "execution_count": null,
   "id": "9c0a3266-174d-4da8-8432-9d3d57bca2ae",
   "metadata": {},
   "outputs": [],
   "source": []
  },
  {
   "cell_type": "code",
   "execution_count": null,
   "id": "0628fa0b-43db-48be-b8c6-fc905bf4b40c",
   "metadata": {},
   "outputs": [],
   "source": []
  },
  {
   "cell_type": "code",
   "execution_count": null,
   "id": "14d287b4-c588-4844-b45e-2287249b1054",
   "metadata": {},
   "outputs": [],
   "source": []
  },
  {
   "cell_type": "code",
   "execution_count": null,
   "id": "8b56d690-1f83-4083-ad11-c955ccdbf38c",
   "metadata": {},
   "outputs": [],
   "source": []
  },
  {
   "cell_type": "code",
   "execution_count": null,
   "id": "77ec7d11-5cc0-4ed0-9973-b912e0c659f1",
   "metadata": {},
   "outputs": [],
   "source": []
  },
  {
   "cell_type": "code",
   "execution_count": null,
   "id": "5a701102-402e-4fe8-9439-e44f93a9f255",
   "metadata": {},
   "outputs": [],
   "source": []
  },
  {
   "cell_type": "code",
   "execution_count": null,
   "id": "efa78aae-aecf-4fdf-b05a-751dbbe00c27",
   "metadata": {},
   "outputs": [],
   "source": []
  },
  {
   "cell_type": "code",
   "execution_count": null,
   "id": "885a6df3-ff4a-4b93-99c4-8fa715583ac3",
   "metadata": {},
   "outputs": [],
   "source": []
  },
  {
   "cell_type": "code",
   "execution_count": null,
   "id": "21842fe1-b240-4060-a58f-a1429f0bb2ed",
   "metadata": {},
   "outputs": [],
   "source": []
  },
  {
   "cell_type": "code",
   "execution_count": null,
   "id": "cf0905b5-c41c-4d07-bd86-5aaf8235a5c5",
   "metadata": {},
   "outputs": [],
   "source": []
  },
  {
   "cell_type": "code",
   "execution_count": null,
   "id": "4098223b-9a6f-4b4c-a9a7-1e6f7eefc21a",
   "metadata": {},
   "outputs": [],
   "source": []
  },
  {
   "cell_type": "code",
   "execution_count": null,
   "id": "e4670d21-3173-419c-bba2-c13a8bd85e3c",
   "metadata": {},
   "outputs": [],
   "source": []
  },
  {
   "cell_type": "code",
   "execution_count": null,
   "id": "a6987c45-ee8c-4fd7-aefa-2b4ddf6bda3e",
   "metadata": {},
   "outputs": [],
   "source": []
  },
  {
   "cell_type": "code",
   "execution_count": null,
   "id": "150066c5-a048-4ae3-80fc-26d7c624282e",
   "metadata": {},
   "outputs": [],
   "source": []
  },
  {
   "cell_type": "code",
   "execution_count": null,
   "id": "0c91a6af-73b2-4e26-9e25-febc71ebd381",
   "metadata": {},
   "outputs": [],
   "source": []
  },
  {
   "cell_type": "code",
   "execution_count": 116,
   "id": "36b77f81-0829-4636-a2e7-225d003bdb1f",
   "metadata": {},
   "outputs": [],
   "source": [
    "lc = LEARN_CLUSTERS.array_active.copy()\n",
    "lcm = LEARN_CLUSTERS_SIDECAR.masks[:lc.shape[0]].copy()"
   ]
  },
  {
   "cell_type": "code",
   "execution_count": 145,
   "id": "580b19d4-c191-49d3-8b0e-f00bcb7bddd7",
   "metadata": {},
   "outputs": [
    {
     "name": "stdout",
     "output_type": "stream",
     "text": [
      "CPU times: user 10.8 ms, sys: 9 ms, total: 19.8 ms\n",
      "Wall time: 17.8 ms\n"
     ]
    }
   ],
   "source": [
    "%%time\n",
    "is_binarizable_boolmap = LEARN_CLUSTERS_SIDECAR.is_binarizable_boolmap[:LEARN_CLUSTERS.active_len]\n",
    "cluster_inds_to_binarize = np.arange(LEARN_CLUSTERS.active_len, dtype='i')[is_binarizable_boolmap]\n",
    "new_cluster_states = Counter()\n",
    "death_reasons = Counter()\n",
    "\n",
    "ones_counts = xp.zeros(cluster_inds_to_binarize.shape[0], dtype='i')\n",
    "nzb_list = xp.full((cluster_inds_to_binarize.shape[0], HP_POINT_NON_ZERO_BITS), -1, dtype='i')\n",
    "dumps = xp.zeros(cluster_inds_to_binarize.shape[0], dtype='f')\n",
    "\n",
    "cuda_block_size = 256\n",
    "cuda_blocks_count = math.ceil(cluster_inds_to_binarize.shape[0] / cuda_block_size)\n",
    "cuda_binarize_clusters_kernel((cuda_blocks_count, ), (cuda_block_size,),\n",
    "                              (cp.int32(HP_SIGNAL_VEC_LEN),\n",
    "                               cp.int32(HP_POINT_NON_ZERO_BITS),\n",
    "                               cp.float32(HP_CLUSTER_BINARIZE_THRES),\n",
    "                               cluster_inds_to_binarize.shape[0], \n",
    "                               xp_array_to_gpu(cluster_inds_to_binarize),\n",
    "                               LEARN_CLUSTERS.array, \n",
    "                               lc,\n",
    "                               lcm,\n",
    "                               ones_counts,\n",
    "                               nzb_list,\n",
    "                               dumps,\n",
    "                               ))\n",
    "ones_counts = xp_array_from_gpu(ones_counts)\n",
    "nzb_list = xp_array_from_gpu(nzb_list)\n",
    "dumps = xp_array_from_gpu(dumps)\n",
    "learn_clusters_sidecar_patch = LearnClustersSidecarPatch()\n",
    "\n",
    "# for cluster_ind, ones_count, nzb in zip(cluster_inds_to_binarize, ones_counts, nzb_list):\n",
    "#     cluster_meta = LEARN_CLUSTER_METAS[cluster_ind]\n",
    "#     assert cluster_meta.state == ClusterState.LEARN\n",
    "#     # assert cluster_meta.signals_to_learn_till_binarization <= 0\n",
    "#     # cluster_meta.last_activity_cycle = cycle\n",
    "#     cluster_meta.binarization_schedule = (10, )\n",
    "# #     # cluster_meta.signals_to_learn_till_binarization = cluster_meta.binarization_schedule[0] if cluster_meta.binarization_schedule else 0\n",
    "#     cluster_meta.ones_count = int(ones_count)\n",
    "#     assert cluster_meta.ones_count > 0\n",
    "#     # cluster_meta.nu = 1 / cluster_meta.ones_count\n",
    "\n",
    "#     b = cluster_meta.binarization_schedule[0] if cluster_meta.binarization_schedule else 0\n",
    "#     learn_clusters_sidecar_patch.signals_to_learn_till_binarization_counters.append(b)\n",
    "#     learn_clusters_sidecar_patch.nus.append(1 / cluster_meta.ones_count)\n",
    "#     learn_clusters_sidecar_patch.last_activity_cycles.append(cycle)\n",
    "\n",
    "#     if cluster_meta.ones_count >= HP_CLUSTER_ONES_COUNT_THRES:\n",
    "#         pass\n",
    "#         # tuple(nzb[nzb != -1])\n",
    "#         tuple(nzb[:ones_count])\n",
    "#         # tuple(np.flatnonzero(v))\n",
    "#         # old_cluster_key = cluster_meta.cluster_key\n",
    "#         # cluster_meta.input_bits = tuple(nzb[nzb != -1]) # FACK!!!! очень медленно\n",
    "#         # new_cluster_key = get_cluster_key(cluster_meta.output_bit, cluster_meta.input_bits)\n",
    "\n",
    "#         # if old_cluster_key != new_cluster_key:\n",
    "#         #     if new_cluster_key in unique_cluster_keys:\n",
    "#         #         cluster_meta.state = ClusterState.DEAD\n",
    "#         #         death_reasons['DUPLICATE'] += 1\n",
    "#         #     else:\n",
    "#         #         cluster_meta.cluster_key = new_cluster_key\n",
    "#         #         unique_cluster_keys.remove(old_cluster_key)\n",
    "#         #         unique_cluster_keys.add(new_cluster_key)\n",
    "#     else:\n",
    "#         # cluster_meta.state = ClusterState.DEAD\n",
    "#         death_reasons['SHORT'] += 1\n",
    "\n",
    "# #     # LEARN_CLUSTERS_SIDECAR.sync(cluster_meta)\n",
    "#     learn_clusters_sidecar_patch.cluster_states.append(cluster_meta.state)\n",
    "#     learn_clusters_sidecar_patch.is_dead_boolmap.append(cluster_meta.state == ClusterState.DEAD)\n",
    "#     learn_clusters_sidecar_patch.is_promotable_boolmap.append(cluster_meta.state == ClusterState.LEARN and not cluster_meta.binarization_schedule)\n",
    "# #     new_cluster_states[cluster_meta.state.name] += 1"
   ]
  },
  {
   "cell_type": "code",
   "execution_count": null,
   "id": "974ae1c6-f353-4729-a9a4-76b7143f7939",
   "metadata": {},
   "outputs": [],
   "source": []
  },
  {
   "cell_type": "code",
   "execution_count": 143,
   "id": "92601739-6a35-4bba-8745-6fbc264c9a5b",
   "metadata": {},
   "outputs": [
    {
     "data": {
      "text/plain": [
       "array(1)"
      ]
     },
     "execution_count": 143,
     "metadata": {},
     "output_type": "execute_result"
    }
   ],
   "source": [
    "np.count_nonzero(lc[3547])"
   ]
  },
  {
   "cell_type": "code",
   "execution_count": 144,
   "id": "c1b07306-2c6d-4624-a68b-c2c67f35e1e0",
   "metadata": {},
   "outputs": [
    {
     "data": {
      "text/plain": [
       "array([ 1,  2,  3,  4,  5,  6,  7,  8,  9, 10, 11], dtype=int32)"
      ]
     },
     "execution_count": 144,
     "metadata": {},
     "output_type": "execute_result"
    }
   ],
   "source": [
    "np.unique(ones_counts)"
   ]
  },
  {
   "cell_type": "code",
   "execution_count": 120,
   "id": "a8f84e8c-7c23-40e2-92cd-048db39b9ebf",
   "metadata": {},
   "outputs": [],
   "source": [
    "binarized_clusters = xp.where(LEARN_CLUSTERS.array[cluster_inds_to_binarize] > HP_CLUSTER_BINARIZE_THRES, 1, 0)\n",
    "binarized_clusters_ones_counts = xp_array_from_gpu(binarized_clusters.sum(axis=1))"
   ]
  },
  {
   "cell_type": "code",
   "execution_count": 121,
   "id": "7d31ffd4-b2ba-4853-a82d-ca4232fa8642",
   "metadata": {},
   "outputs": [
    {
     "data": {
      "text/plain": [
       "array([ 1,  2,  3,  4,  5,  6,  7,  8,  9, 10, 11])"
      ]
     },
     "execution_count": 121,
     "metadata": {},
     "output_type": "execute_result"
    }
   ],
   "source": [
    "np.unique(binarized_clusters_ones_counts)"
   ]
  },
  {
   "cell_type": "code",
   "execution_count": 122,
   "id": "5651f767-1d08-4f03-8794-67cd0419184f",
   "metadata": {},
   "outputs": [
    {
     "data": {
      "text/plain": [
       "array([  316,   393,  1910,  2563,  2847,  3056,  3538,  4422,  5015,\n",
       "        6174,  6285,  6410,  6649,  6726,  6787,  6970,  7707,  8145,\n",
       "        8384,  8404,  8604,  9082,  9578,  9903, 10619, 10972, 10987,\n",
       "       11095, 11571, 11595, 12095, 12582, 12690, 12933, 13332, 13554,\n",
       "       13933, 14183, 14382, 15004, 15264, 15330, 15485, 15667, 16188,\n",
       "       16200, 16762, 16824, 17420, 17444, 18763, 19384, 19445, 19568,\n",
       "       19880, 19997, 20119, 20264, 21568, 21623, 22397, 22615, 22801,\n",
       "       23033, 23155, 23307, 23459, 24312, 24372, 24522, 25069, 25304,\n",
       "       26859, 27175, 27284, 27604, 27841, 27913, 28322, 28628, 28726,\n",
       "       28820, 29127, 29237])"
      ]
     },
     "execution_count": 122,
     "metadata": {},
     "output_type": "execute_result"
    }
   ],
   "source": [
    "np.flatnonzero(binarized_clusters_ones_counts < 2)"
   ]
  },
  {
   "cell_type": "code",
   "execution_count": 127,
   "id": "7132f3ac-5163-4e9e-9ea2-088d73d1b9d8",
   "metadata": {},
   "outputs": [
    {
     "data": {
      "text/plain": [
       "np.int32(3547)"
      ]
     },
     "execution_count": 127,
     "metadata": {},
     "output_type": "execute_result"
    }
   ],
   "source": [
    "cluster_inds_to_binarize[316]"
   ]
  },
  {
   "cell_type": "code",
   "execution_count": 128,
   "id": "30b574d8-f74b-47cd-bacd-d58dc9273835",
   "metadata": {},
   "outputs": [
    {
     "data": {
      "text/plain": [
       "array(1)"
      ]
     },
     "execution_count": 128,
     "metadata": {},
     "output_type": "execute_result"
    }
   ],
   "source": [
    "np.count_nonzero(LEARN_CLUSTERS.array[3547] > HP_CLUSTER_BINARIZE_THRES)"
   ]
  },
  {
   "cell_type": "code",
   "execution_count": null,
   "id": "eca46af4-8359-49d4-af65-4697c660fce9",
   "metadata": {},
   "outputs": [],
   "source": []
  },
  {
   "cell_type": "code",
   "execution_count": null,
   "id": "99e56f1e-d894-4c86-a8cd-4e97a149ee3c",
   "metadata": {},
   "outputs": [],
   "source": []
  },
  {
   "cell_type": "code",
   "execution_count": null,
   "id": "023408f7-bd54-4f0d-8dd3-48e8a668dfd0",
   "metadata": {},
   "outputs": [],
   "source": []
  },
  {
   "cell_type": "code",
   "execution_count": null,
   "id": "c5d66372-414e-4501-8bc0-93b4ebaae457",
   "metadata": {},
   "outputs": [],
   "source": []
  },
  {
   "cell_type": "code",
   "execution_count": 64,
   "id": "c6beef83-29a1-424f-a43e-202e447519a1",
   "metadata": {},
   "outputs": [],
   "source": [
    "lc = learn_clusters[cluster_inds_to_binarize]\n",
    "lcm = learn_cluster_masks[cluster_inds_to_binarize]"
   ]
  },
  {
   "cell_type": "code",
   "execution_count": 65,
   "id": "4143a4c4-861d-426f-aa6b-11d3d92efa48",
   "metadata": {},
   "outputs": [
    {
     "name": "stdout",
     "output_type": "stream",
     "text": [
      "CPU times: user 91.1 ms, sys: 2.05 ms, total: 93.1 ms\n",
      "Wall time: 91 ms\n"
     ]
    }
   ],
   "source": [
    "%%time\n",
    "binarized_clusters = xp.where(learn_clusters[cluster_inds_to_binarize] > HP_CLUSTER_BINARIZE_THRES, 1, 0)\n",
    "lc[:] = binarized_clusters\n",
    "lcm[:] = binarized_clusters\n",
    "binarized_clusters_ones_counts = xp_array_from_gpu(binarized_clusters.sum(axis=1))\n",
    "binarized_clusters = xp_array_from_gpu(binarized_clusters)\n",
    "learn_clusters_sidecar_patch = LearnClustersSidecarPatch()\n",
    "\n",
    "for cluster_ind, cluster, ones_count in zip(cluster_inds_to_binarize, binarized_clusters, binarized_clusters_ones_counts):\n",
    "    cluster_meta = LEARN_CLUSTER_METAS[cluster_ind]\n",
    "    assert cluster_meta.state == ClusterState.LEARN\n",
    "\n",
    "    if cluster_meta.ones_count >= HP_CLUSTER_ONES_COUNT_THRES:\n",
    "        tuple(np.flatnonzero(cluster))"
   ]
  },
  {
   "cell_type": "code",
   "execution_count": null,
   "id": "e434d187-dd08-48ba-8fc7-7e37ea822877",
   "metadata": {},
   "outputs": [],
   "source": []
  },
  {
   "cell_type": "code",
   "execution_count": null,
   "id": "db347fff-71d0-40c5-a3ca-b206b97d7805",
   "metadata": {},
   "outputs": [],
   "source": []
  },
  {
   "cell_type": "code",
   "execution_count": 68,
   "id": "56861e87-a73a-4e09-8070-618aa6d1e545",
   "metadata": {},
   "outputs": [],
   "source": []
  },
  {
   "cell_type": "code",
   "execution_count": 75,
   "id": "b6d991af-a800-4029-a23e-46ee3af3d2e6",
   "metadata": {},
   "outputs": [],
   "source": [
    "lc = learn_clusters.copy()\n",
    "lcm = learn_cluster_masks.copy()"
   ]
  },
  {
   "cell_type": "code",
   "execution_count": 112,
   "id": "17970fa7-4ad0-4198-8df6-0af68d735704",
   "metadata": {},
   "outputs": [
    {
     "name": "stdout",
     "output_type": "stream",
     "text": [
      "CPU times: user 53.1 ms, sys: 2 ms, total: 55.1 ms\n",
      "Wall time: 53.6 ms\n"
     ]
    }
   ],
   "source": [
    "%%time\n",
    "nzb_list = xp.full((cluster_inds_to_binarize.shape[0], HP_POINT_NON_ZERO_BITS), -1, dtype='i')\n",
    "cuda_block_size = 256\n",
    "cuda_blocks_count = math.ceil(cluster_inds_to_binarize.shape[0] / cuda_block_size)\n",
    "cuda_binarize_clusters_kernel((cuda_blocks_count, ), (cuda_block_size,),\n",
    "                           (HP_SIGNAL_VEC_LEN,\n",
    "                            HP_POINT_NON_ZERO_BITS,\n",
    "                            HP_CLUSTER_BINARIZE_THRES,\n",
    "                            cluster_inds_to_binarize.shape[0], \n",
    "                            xp_array_to_gpu(cluster_inds_to_binarize),\n",
    "                            learn_clusters, \n",
    "                            lc,\n",
    "                            lcm,\n",
    "                            nzb_list\n",
    "                            ))\n",
    "nzb_list = xp_array_from_gpu(nzb_list)\n",
    "learn_clusters_sidecar_patch = LearnClustersSidecarPatch()\n",
    "\n",
    "for cluster_ind, nzb in zip(cluster_inds_to_binarize, nzb_list):\n",
    "    cluster_meta = LEARN_CLUSTER_METAS[cluster_ind]\n",
    "    assert cluster_meta.state == ClusterState.LEARN\n",
    "\n",
    "    if cluster_meta.ones_count >= HP_CLUSTER_ONES_COUNT_THRES:\n",
    "        tuple(nzb[nzb != -1])\n",
    "        # tuple(np.flatnonzero(cluster))\n",
    "        pass"
   ]
  },
  {
   "cell_type": "code",
   "execution_count": 95,
   "id": "f700f014-a403-4e53-8c7a-39a3b8cf3514",
   "metadata": {},
   "outputs": [
    {
     "data": {
      "text/plain": [
       "array([ 89, 177, 190, 219, 463, 496, 652, 658, 712, 761, 911,  -1,  -1,\n",
       "        -1,  -1,  -1,  -1,  -1,  -1,  -1,  -1,  -1,  -1,  -1,  -1,  -1,\n",
       "        -1,  -1,  -1,  -1,  -1,  -1,  -1,  -1,  -1,  -1,  -1,  -1,  -1,\n",
       "        -1], dtype=int32)"
      ]
     },
     "execution_count": 95,
     "metadata": {},
     "output_type": "execute_result"
    }
   ],
   "source": [
    "nzb_list[-15]"
   ]
  },
  {
   "cell_type": "code",
   "execution_count": 96,
   "id": "9890917e-eea6-4dc4-9c1e-5348ef1b0a86",
   "metadata": {},
   "outputs": [
    {
     "data": {
      "text/plain": [
       "np.int32(299300)"
      ]
     },
     "execution_count": 96,
     "metadata": {},
     "output_type": "execute_result"
    }
   ],
   "source": [
    "cluster_inds_to_binarize[-15]"
   ]
  },
  {
   "cell_type": "code",
   "execution_count": 103,
   "id": "c2d57599-f5b7-4900-9315-195236c8bde0",
   "metadata": {},
   "outputs": [
    {
     "data": {
      "text/plain": [
       "(array([ 89, 177, 190, 219, 463, 496, 652, 658, 712, 761, 911]),\n",
       " array([ 89, 177, 190, 219, 463, 496, 652, 658, 712, 761, 911]))"
      ]
     },
     "execution_count": 103,
     "metadata": {},
     "output_type": "execute_result"
    }
   ],
   "source": [
    "np.flatnonzero(lc[299300]), np.flatnonzero(lcm[299300])"
   ]
  },
  {
   "cell_type": "code",
   "execution_count": 109,
   "id": "dc28a93b-1433-4711-8b0a-1fb5bec4f1e9",
   "metadata": {},
   "outputs": [
    {
     "data": {
      "text/plain": [
       "array([ 53,  95, 136, 690, 713, 858, 884], dtype=int32)"
      ]
     },
     "execution_count": 109,
     "metadata": {},
     "output_type": "execute_result"
    }
   ],
   "source": []
  },
  {
   "cell_type": "code",
   "execution_count": null,
   "id": "6c4f8664-a19a-415c-9e53-66a9d265c09d",
   "metadata": {},
   "outputs": [],
   "source": []
  },
  {
   "cell_type": "code",
   "execution_count": null,
   "id": "5eaa1509-0a2f-44be-84d9-7649c0426e3b",
   "metadata": {},
   "outputs": [],
   "source": []
  },
  {
   "cell_type": "code",
   "execution_count": 171,
   "id": "303a2ea2-a050-497d-b0a4-a0d8b9f6b75d",
   "metadata": {},
   "outputs": [
    {
     "name": "stdout",
     "output_type": "stream",
     "text": [
      "CPU times: user 4.06 ms, sys: 1.85 ms, total: 5.91 ms\n",
      "Wall time: 4.46 ms\n"
     ]
    }
   ],
   "source": [
    "%%time\n",
    "learn_clusters = LEARN_CLUSTERS.array_active\n",
    "updated_learn_clusters = learn_clusters.copy()\n",
    "assert learn_clusters.shape[0] == learn_clusters_count\n",
    "learn_cluster_masks = LEARN_CLUSTERS_SIDECAR.masks[:learn_clusters_count]\n",
    "learn_cluster_nus = xp_array_to_gpu(LEARN_CLUSTERS_SIDECAR.nus[:learn_clusters_count])\n",
    "learn_cluster_output_bits = xp_array_to_gpu(LEARN_CLUSTERS_SIDECAR.output_bits[:learn_clusters_count])\n",
    "learn_cluster_signals_learned_counters = xp_array_to_gpu(LEARN_CLUSTERS_SIDECAR.signals_learned_counters[:learn_clusters_count])\n",
    "learn_cluster_signals_till_binarization_counters = xp_array_to_gpu(LEARN_CLUSTERS_SIDECAR.signals_to_learn_till_binarization_counters[:learn_clusters_count])\n",
    "learn_cluster_update_counters = xp.zeros(learn_clusters_count, dtype='i')\n",
    "assert learn_clusters.shape[0] > 0\n",
    "assert learn_clusters.shape == learn_cluster_masks.shape\n",
    "assert learn_clusters.shape[0] == learn_cluster_nus.shape[0]\n",
    "assert learn_clusters.shape[0] == learn_cluster_output_bits.shape[0]\n",
    "assert learn_clusters.shape[0] == learn_cluster_signals_learned_counters.shape[0]\n",
    "assert learn_clusters.shape[0] == learn_cluster_signals_till_binarization_counters.shape[0]\n",
    "assert learn_clusters.shape[0] == learn_cluster_update_counters.shape[0]\n",
    "assert not learn_clusters.base is None\n",
    "assert not learn_cluster_masks.base is None\n",
    "\n",
    "cuda_block_size = 256\n",
    "cuda_blocks_count = math.ceil(learn_clusters.shape[0] / cuda_block_size)\n",
    "cuda_learn_clusters_kernel((cuda_blocks_count, ), (cuda_block_size,),\n",
    "                           (HP_SIGNAL_VEC_LEN,\n",
    "                            HP_CLUSTER_ONES_COUNT_THRES,\n",
    "                            sgr.signals_input.shape[0],\n",
    "                            sgr.signals_input, \n",
    "                            xp_array_to_gpu(sgr.signals_output),\n",
    "                            learn_clusters.shape[0], \n",
    "                            learn_clusters, \n",
    "                            learn_cluster_masks, \n",
    "                            learn_cluster_nus, \n",
    "                            learn_cluster_output_bits, \n",
    "                            learn_cluster_signals_learned_counters,\n",
    "                            learn_cluster_signals_till_binarization_counters,\n",
    "                            updated_learn_clusters,\n",
    "                            learn_cluster_update_counters\n",
    "                            ))"
   ]
  },
  {
   "cell_type": "code",
   "execution_count": 172,
   "id": "71c487f0-889d-4ff8-8651-ba7423b90296",
   "metadata": {},
   "outputs": [
    {
     "name": "stdout",
     "output_type": "stream",
     "text": [
      "CPU times: user 53.6 ms, sys: 1.07 ms, total: 54.6 ms\n",
      "Wall time: 52.4 ms\n"
     ]
    }
   ],
   "source": [
    "%%time\n",
    "learn_cluster_signals_learned_counters = xp_array_from_gpu(learn_cluster_signals_learned_counters)\n",
    "learn_cluster_signals_till_binarization_counters = xp_array_from_gpu(learn_cluster_signals_till_binarization_counters)\n",
    "learn_cluster_update_counters = xp_array_from_gpu(learn_cluster_update_counters)\n",
    "learned_clusters_inds = set()\n",
    "learn_updates_count = 0\n",
    "\n",
    "for cluster_ind in np.flatnonzero(learn_cluster_update_counters):\n",
    "    cluster_meta = LEARN_CLUSTER_METAS[cluster_ind]\n",
    "    assert cluster_meta.state == ClusterState.LEARN\n",
    "    assert cluster_meta.signals_to_learn_till_binarization > 0\n",
    "    # # assert signal_output[cluster_meta.output_bit] == 1\n",
    "    cluster_meta.last_activity_cycle = cycle\n",
    "    cluster_meta.signals_learned = learn_cluster_signals_learned_counters[cluster_ind]\n",
    "    cluster_meta.signals_to_learn_till_binarization = learn_cluster_signals_till_binarization_counters[cluster_ind]\n",
    "    LEARN_CLUSTERS_SIDECAR.sync(cluster_meta)\n",
    "    learned_clusters_inds.add(cluster_ind)\n",
    "    learn_updates_count += learn_cluster_update_counters[cluster_ind]"
   ]
  },
  {
   "cell_type": "code",
   "execution_count": 170,
   "id": "b8bafd90-b6f2-4d74-a688-4b308a0775be",
   "metadata": {},
   "outputs": [
    {
     "data": {
      "text/plain": [
       "(4525,)"
      ]
     },
     "execution_count": 170,
     "metadata": {},
     "output_type": "execute_result"
    }
   ],
   "source": [
    "np.flatnonzero(learn_cluster_update_counters).shape"
   ]
  },
  {
   "cell_type": "code",
   "execution_count": 165,
   "id": "bb37b632-dc03-4338-ad05-dbb9e737ac73",
   "metadata": {},
   "outputs": [
    {
     "name": "stdout",
     "output_type": "stream",
     "text": [
      "CPU times: user 107 ms, sys: 33 μs, total: 107 ms\n",
      "Wall time: 105 ms\n"
     ]
    }
   ],
   "source": [
    "%%time\n",
    "for cluster_ind in np.flatnonzero(learn_cluster_update_counters):\n",
    "    cluster_meta = LEARN_CLUSTER_METAS[cluster_ind]\n",
    "    LEARN_CLUSTERS_SIDECAR.sync(cluster_meta)"
   ]
  },
  {
   "cell_type": "code",
   "execution_count": null,
   "id": "32576b2e-c728-4f03-8587-1507277a6691",
   "metadata": {},
   "outputs": [],
   "source": []
  },
  {
   "cell_type": "code",
   "execution_count": null,
   "id": "3b14cb75-0d6a-4fcc-b446-b7c18e02ff6c",
   "metadata": {},
   "outputs": [],
   "source": []
  },
  {
   "cell_type": "code",
   "execution_count": null,
   "id": "5798d64c-644e-440c-a035-bfa3de919452",
   "metadata": {},
   "outputs": [],
   "source": []
  },
  {
   "cell_type": "code",
   "execution_count": null,
   "id": "117f4de8-2b7f-40ec-90b5-09c7279f2e5f",
   "metadata": {},
   "outputs": [],
   "source": []
  },
  {
   "cell_type": "code",
   "execution_count": null,
   "id": "bd309f11-6b35-439f-8246-029e700ec76c",
   "metadata": {},
   "outputs": [],
   "source": []
  },
  {
   "cell_type": "code",
   "execution_count": null,
   "id": "a0c7c478-0ec7-4792-9f4c-d0613c22d38f",
   "metadata": {},
   "outputs": [],
   "source": []
  },
  {
   "cell_type": "code",
   "execution_count": 430,
   "id": "c0611667-6c9f-4580-8b4c-ddac5c533726",
   "metadata": {},
   "outputs": [],
   "source": [
    "learn_cluster_output_bits = LEARN_CLUSTERS_SIDECAR.output_bits[:learn_clusters.shape[0]]\n",
    "signal_ind = 50\n",
    "signal_input = sgr.signals_input[signal_ind].astype('f')\n",
    "signal_output = sgr.signals_output[signal_ind].astype('f')"
   ]
  },
  {
   "cell_type": "code",
   "execution_count": 431,
   "id": "824b4a1a-0486-4902-8940-e51457eb6e64",
   "metadata": {},
   "outputs": [
    {
     "name": "stdout",
     "output_type": "stream",
     "text": [
      "CPU times: user 8.52 ms, sys: 1.88 ms, total: 10.4 ms\n",
      "Wall time: 7.88 ms\n"
     ]
    }
   ],
   "source": [
    "%%time\n",
    "learn_clusters_boolmap = signal_output.astype(bool)[learn_cluster_output_bits]\n",
    "assert learn_clusters_boolmap.shape[0] == learn_clusters.shape[0]\n",
    "# funnel_avg_filters[0](np.count_nonzero(learn_clusters_boolmap))\n",
    "learn_clusters_boolmap = learn_clusters_boolmap & learn_clusters_is_updatable_boolmap\n",
    "active_cluster_inds = learn_cluster_inds[learn_clusters_boolmap]\n",
    "# funnel_avg_filters[1](active_cluster_inds.shape[0])\n",
    "\n",
    "# narrow down clusters to those which have enough bits touched by signal\n",
    "# (i.e. we dont want to update clusters which have e.g. 1 or 2 bit touched out of minimal count (say 10))\n",
    "active_cluster_masks = learn_cluster_masks[active_cluster_inds]\n",
    "zs = signal_input @ active_cluster_masks.T # number of activated bits within each cluster for given signal_input, ca. shape (35,)\n",
    "zs = xp_array_from_gpu(zs)\n",
    "active_cluster_inds = active_cluster_inds[zs >= HP_CLUSTER_ONES_COUNT_THRES]\n",
    "# funnel_avg_filters[2](active_cluster_inds.shape[0])\n",
    "\n",
    "active_clusters = learn_clusters[active_cluster_inds] # subset of CLUSTERS which are connected to active bits in signal_output\n",
    "active_cluster_masks = learn_cluster_masks[active_cluster_inds]\n",
    "active_cluster_nus = learn_cluster_nus[active_cluster_inds]\n",
    "\n",
    "ys = signal_input @ active_clusters.T # how each cluster reacted on signal_input (strength), ca. shape (35,).\n",
    "grow = (signal_input * (active_cluster_nus * ys)[:,np.newaxis]) # how weights within each cluster must grow up in response to signal_input, matrix, ca. shape (35, 1024)\n",
    "grow *= active_cluster_masks # masking, only allow weights which belong to clusters to grow up, matrix, ca. shape (35, 1024)\n",
    "nomins = active_clusters + grow # grow weights within clusters\n",
    "denoms = nomins.max(axis=1) \n",
    "qqq = (nomins.T / denoms).T  # upload updated weights\n",
    "# learn_clusters[active_cluster_inds] = (nomins.T / denoms).T  # upload updated weights"
   ]
  },
  {
   "cell_type": "code",
   "execution_count": 432,
   "id": "93a03728-5386-4b13-9d86-2a945d6acd47",
   "metadata": {},
   "outputs": [
    {
     "data": {
      "text/plain": [
       "array([  1123,   1661,   2531, ..., 294541, 294854, 294974],\n",
       "      shape=(2857,), dtype=int32)"
      ]
     },
     "execution_count": 432,
     "metadata": {},
     "output_type": "execute_result"
    }
   ],
   "source": [
    "active_cluster_inds"
   ]
  },
  {
   "cell_type": "code",
   "execution_count": 433,
   "id": "cc944426-ee3c-4cc2-b324-b36744c3717d",
   "metadata": {},
   "outputs": [
    {
     "data": {
      "text/plain": [
       "array([[0., 0., 0., ..., 0., 0., 0.],\n",
       "       [0., 0., 0., ..., 0., 0., 0.],\n",
       "       [0., 0., 0., ..., 0., 0., 0.],\n",
       "       ...,\n",
       "       [0., 0., 0., ..., 0., 0., 0.],\n",
       "       [0., 0., 0., ..., 0., 0., 0.],\n",
       "       [0., 0., 0., ..., 0., 0., 0.]], shape=(2857, 1000), dtype=float32)"
      ]
     },
     "execution_count": 433,
     "metadata": {},
     "output_type": "execute_result"
    }
   ],
   "source": [
    "qqq"
   ]
  },
  {
   "cell_type": "code",
   "execution_count": 434,
   "id": "cfd6cf9d-13a8-4249-89d3-acd198c56250",
   "metadata": {},
   "outputs": [],
   "source": []
  },
  {
   "cell_type": "code",
   "execution_count": 435,
   "id": "2d9c9822-a0b9-44fc-a481-f6b6feefceff",
   "metadata": {},
   "outputs": [],
   "source": [
    "updated_learn_clusters = learn_clusters.copy()\n",
    "updated_learn_clusters_boolmap = xp.zeros(learn_clusters.shape[0], dtype='i')\n",
    "signal_output = xp_array_to_gpu(signal_output)\n",
    "learn_cluster_output_bits = xp_array_to_gpu(LEARN_CLUSTERS_SIDECAR.output_bits[:learn_clusters.shape[0]])"
   ]
  },
  {
   "cell_type": "code",
   "execution_count": 436,
   "id": "408b9da9-476c-4b14-93de-adedbd8c0a71",
   "metadata": {},
   "outputs": [
    {
     "name": "stdout",
     "output_type": "stream",
     "text": [
      "CPU times: user 452 μs, sys: 0 ns, total: 452 μs\n",
      "Wall time: 389 μs\n"
     ]
    }
   ],
   "source": [
    "%%time\n",
    "block_size = 256\n",
    "blocks_count = math.ceil(learn_clusters.shape[0] / block_size)\n",
    "learn_clusters_kernel((blocks_count, ), (block_size,),\n",
    "                      (HP_SIGNAL_VEC_LEN,\n",
    "                       HP_CLUSTER_ONES_COUNT_THRES,\n",
    "                       signal_input, \n",
    "                       signal_output,\n",
    "                       learn_clusters.shape[0], \n",
    "                       learn_clusters, \n",
    "                       learn_cluster_masks, \n",
    "                       learn_cluster_nus, \n",
    "                       learn_cluster_output_bits, \n",
    "                       updated_learn_clusters,\n",
    "                       updated_learn_clusters_boolmap\n",
    "                      ))"
   ]
  },
  {
   "cell_type": "code",
   "execution_count": 437,
   "id": "b588f7ae-ea30-41c3-81e7-e053c187b910",
   "metadata": {},
   "outputs": [
    {
     "data": {
      "text/plain": [
       "np.True_"
      ]
     },
     "execution_count": 437,
     "metadata": {},
     "output_type": "execute_result"
    }
   ],
   "source": [
    "np.all(active_cluster_inds == xp_array_from_gpu(np.flatnonzero(updated_learn_clusters_boolmap)))"
   ]
  },
  {
   "cell_type": "code",
   "execution_count": 438,
   "id": "5a66f8ad-ea25-4a94-860f-e9ef71195756",
   "metadata": {},
   "outputs": [
    {
     "data": {
      "text/plain": [
       "array(True)"
      ]
     },
     "execution_count": 438,
     "metadata": {},
     "output_type": "execute_result"
    }
   ],
   "source": [
    "np.all(np.isclose(qqq, updated_learn_clusters[updated_learn_clusters_boolmap.astype(bool)]))"
   ]
  },
  {
   "cell_type": "code",
   "execution_count": null,
   "id": "2761106f-8c01-4896-9637-8ff15900a4c2",
   "metadata": {},
   "outputs": [],
   "source": []
  },
  {
   "cell_type": "code",
   "execution_count": 233,
   "id": "22cd4d5b-332f-42cf-bd8c-49280135971a",
   "metadata": {},
   "outputs": [
    {
     "data": {
      "text/plain": [
       "(array([[ 97],\n",
       "        [242],\n",
       "        [319],\n",
       "        [374],\n",
       "        [495],\n",
       "        [583],\n",
       "        [603],\n",
       "        [655],\n",
       "        [688],\n",
       "        [872]]),\n",
       " array([[ 97],\n",
       "        [242],\n",
       "        [319],\n",
       "        [374],\n",
       "        [495],\n",
       "        [583],\n",
       "        [603],\n",
       "        [655],\n",
       "        [688],\n",
       "        [872]]))"
      ]
     },
     "execution_count": 233,
     "metadata": {},
     "output_type": "execute_result"
    }
   ],
   "source": [
    "ind = 19\n",
    "np.argwhere(qqq[ind]), np.argwhere(updated_active_clusters[ind])"
   ]
  },
  {
   "cell_type": "code",
   "execution_count": 232,
   "id": "edb27a7f-72c7-4ebb-af93-7ceb2d10f566",
   "metadata": {},
   "outputs": [
    {
     "data": {
      "text/plain": [
       "(array([1.        , 1.        , 1.        , 0.92879879, 1.        ,\n",
       "        1.        , 0.29836699]),\n",
       " array([1.        , 1.        , 1.        , 0.92879874, 1.        ,\n",
       "        1.        , 0.298367  ], dtype=float32))"
      ]
     },
     "execution_count": 232,
     "metadata": {},
     "output_type": "execute_result"
    }
   ],
   "source": [
    "qqq[ind][np.flatnonzero(qqq[ind])], updated_active_clusters[ind][np.flatnonzero(updated_active_clusters[ind])]"
   ]
  },
  {
   "cell_type": "code",
   "execution_count": 308,
   "id": "2b94947e-5d2b-4f62-b146-2f272c014f4e",
   "metadata": {},
   "outputs": [],
   "source": [
    "#active_clusters[0]"
   ]
  },
  {
   "cell_type": "code",
   "execution_count": null,
   "id": "3055ae3f-8c0f-4f08-9bc9-7aa05ba16e64",
   "metadata": {},
   "outputs": [],
   "source": []
  },
  {
   "cell_type": "code",
   "execution_count": null,
   "id": "f1fcabdc-cc6c-480c-a49a-06c13fedf660",
   "metadata": {},
   "outputs": [],
   "source": []
  },
  {
   "cell_type": "code",
   "execution_count": 87,
   "id": "b49e99ed-860e-454e-a8d4-43effcc20c65",
   "metadata": {},
   "outputs": [],
   "source": [
    "# learn_clusters_kernel = cp.RawKernel(r'''\n",
    "# extern \"C\" __global__\n",
    "# void learn_clusters(const int theVecLen,\n",
    "#                     const float * const theSignalInput, \n",
    "#                     const int theActiveClustersCount,\n",
    "#                     const float * const theActiveClusters, \n",
    "#                     const float * const theActiveClusterMasks, \n",
    "#                     const float * const theActiveClusterNus,\n",
    "#                     float * const theUpdatedActiveClusters) {\n",
    "#     const int clusterInd = blockDim.x * blockIdx.x + threadIdx.x;\n",
    "\n",
    "#     if(clusterInd >= theActiveClustersCount)\n",
    "#         return;\n",
    "\n",
    "#     const float * const cluster = theActiveClusters[clusterInd];\n",
    "#     float activationStrength = 0.0f;\n",
    "    \n",
    "#     for(int i = 0; i < theVecLen; i++) {\n",
    "#         activationStrength += cluster[i] * theSignalInput[i];\n",
    "#     }\n",
    "\n",
    "#     const float k = theActiveClusterNus[clusterInd] * activationStrength;\n",
    "#     const float * const mask = theActiveClusterMasks[clusterInd];\n",
    "#     float * const updatedCluster = theUpdatedActiveClusters[clusterInd];\n",
    "#     float maxWeight = 0.0f;\n",
    "    \n",
    "#     for(int i = 0; i < theVecLen; i++) {\n",
    "#         weight = cluster[i] + k * theSignalInput[i] * mask[i];\n",
    "#         updatedCluster[i] = weight;\n",
    "#         maxWeight = fmax(maxWeight, weight);\n",
    "#     }\n",
    "\n",
    "#     for(int i = 0; i < theVecLen; i++) {\n",
    "#         updatedCluster[i] /= weight;\n",
    "#     }\n",
    "# }\n",
    "# ''', 'learn_clusters')"
   ]
  },
  {
   "cell_type": "code",
   "execution_count": 266,
   "id": "f91a031b-ad9a-489a-9a9c-54067911336d",
   "metadata": {},
   "outputs": [],
   "source": [
    "# learn_clusters_kernel = cp.RawKernel(r'''\n",
    "# extern \"C\" __global__\n",
    "# void learn_clusters(const int theVecLen,\n",
    "#                     const float * const theSignalInput, \n",
    "#                     const int theActiveClustersCount,\n",
    "#                     const float * const theActiveClusters, \n",
    "#                     const float * const theActiveClusterMasks, \n",
    "#                     const float * const theActiveClusterNus,\n",
    "#                     float * const theUpdatedActiveClusters) {\n",
    "#     const int clusterInd = blockDim.x * blockIdx.x + threadIdx.x;\n",
    "\n",
    "#     if(clusterInd >= theActiveClustersCount)\n",
    "#         return;\n",
    "\n",
    "#     const auto ptrOffset = clusterInd * theVecLen;\n",
    "#     const float * const cluster = theActiveClusters + ptrOffset;\n",
    "#     float activationStrength = 0.0f;\n",
    "    \n",
    "#     for(int i = 0; i < theVecLen; i++) {\n",
    "#         if(cluster[i])\n",
    "#             activationStrength += cluster[i] * theSignalInput[i];\n",
    "#     }\n",
    "\n",
    "#     const float k = theActiveClusterNus[clusterInd] * activationStrength;\n",
    "#     const float * const mask = theActiveClusterMasks + ptrOffset;\n",
    "#     float * const updatedCluster = theUpdatedActiveClusters + ptrOffset;\n",
    "#     float maxWeight = 0.0f;\n",
    "    \n",
    "#     for(int i = 0; i < theVecLen; i++) {\n",
    "#         if(mask[i]) {\n",
    "#             const float updatedWeight = cluster[i] + k * theSignalInput[i];\n",
    "#             updatedCluster[i] = updatedWeight;\n",
    "#             maxWeight = fmax(maxWeight, updatedWeight);\n",
    "#         }\n",
    "#     }\n",
    "\n",
    "#     for(int i = 0; i < theVecLen; i++) {\n",
    "#         updatedCluster[i] /= maxWeight;\n",
    "#     }\n",
    "# }\n",
    "# ''', 'learn_clusters')"
   ]
  },
  {
   "cell_type": "code",
   "execution_count": null,
   "id": "690e0322-7373-429d-9cdc-fbecc0ea15a7",
   "metadata": {},
   "outputs": [],
   "source": [
    "# %%time\n",
    "# updated_active_clusters = active_clusters.copy()\n",
    "# block_size = 256\n",
    "# blocks_count = math.ceil(active_clusters.shape[0] / block_size)\n",
    "# learn_clusters_kernel((blocks_count, ), (block_size,),\n",
    "#                       (HP_SIGNAL_VEC_LEN, \n",
    "#                        signal_input, \n",
    "#                        active_clusters.shape[0], \n",
    "#                        active_clusters, \n",
    "#                        active_cluster_masks, \n",
    "#                        active_cluster_nus, \n",
    "#                        updated_active_clusters))"
   ]
  },
  {
   "cell_type": "code",
   "execution_count": null,
   "id": "a39f0cba-48f5-4339-9fa1-9be55d413863",
   "metadata": {},
   "outputs": [],
   "source": [
    "# add_kernel = cp.RawKernel(r'''\n",
    "# extern \"C\" __global__\n",
    "# void my_add(const float* x1, const float* x2, float* y) {\n",
    "#     int tid = blockDim.x * blockIdx.x + threadIdx.x;\n",
    "#     y[tid] = x1[tid] + x2[tid];\n",
    "# }\n",
    "# ''', 'my_add')\n",
    "# x1 = cp.arange(25, dtype=cp.float32).reshape(5, 5)\n",
    "# x2 = cp.arange(25, dtype=cp.float32).reshape(5, 5)\n",
    "# y = cp.zeros((5, 5), dtype=cp.float32)\n",
    "# add_kernel((5,), (5,), (x1, x2, y))"
   ]
  },
  {
   "cell_type": "markdown",
   "id": "1f11c2c9-4664-4377-b3cd-833ff161eb43",
   "metadata": {},
   "source": [
    "## Post-train"
   ]
  },
  {
   "cell_type": "code",
   "execution_count": null,
   "id": "e23016d1-4fe9-4952-b3f2-3f30477554f5",
   "metadata": {},
   "outputs": [],
   "source": []
  },
  {
   "cell_type": "code",
   "execution_count": 62,
   "id": "cf723882-55c0-49d9-acb7-e50274d2201b",
   "metadata": {},
   "outputs": [
    {
     "data": {
      "image/png": "[encoded data removed]",
      "text/plain": [
       "<Figure size 1600x480 with 4 Axes>"
      ]
     },
     "metadata": {},
     "output_type": "display_data"
    }
   ],
   "source": [
    "signal_ind = RNG.choice(signals_input.shape[0])\n",
    "# signal_ind = 0\n",
    "signal_input = xp_array_from_gpu(signals_input[signal_ind])\n",
    "signal_output = signals_output[signal_ind]\n",
    "\n",
    "# xy_list_input = PIXEL_FEATURE_XY_ARRAY[debundle_sbv(signal_input, PIXEL_FEATURE_SBVS, HP_SIGNAL_VEC_NON_ZERO_BITS)]\n",
    "# xy_list_output = PIXEL_FEATURE_XY_ARRAY[debundle_sbv(signal_output, PIXEL_FEATURE_SBVS, HP_SIGNAL_VEC_NON_ZERO_BITS)]\n",
    "# ohe_input = xy_list_to_ohe_vec(xy_list_input)\n",
    "# ohe_output = xy_list_to_ohe_vec(xy_list_output)\n",
    "\n",
    "pixel_feature_inds = debundle_sbv(signal_input, PIXEL_FEATURE_SBVS, HP_SIGNAL_VEC_NON_ZERO_BITS)\n",
    "bm_input = PIXEL_FEATURE_BITMAP_MASKS[pixel_feature_inds].sum(axis=0)\n",
    "pixel_feature_inds = debundle_sbv(signal_output, PIXEL_FEATURE_SBVS, HP_SIGNAL_VEC_NON_ZERO_BITS)\n",
    "bm_output = PIXEL_FEATURE_BITMAP_MASKS[pixel_feature_inds].sum(axis=0)\n",
    "    \n",
    "fig, (ax1, ax2, ax3) = plt.subplots(1, 3)\n",
    "fig.set_figwidth(16)\n",
    "ax1.imshow(vec_to_square_matrix(xy_list_to_ohe_vec(raw_signals_input[signal_ind])))\n",
    "# ax2.imshow(vec_to_square_matrix(ohe_input))\n",
    "# ax3.imshow(vec_to_square_matrix(ohe_output));\n",
    "ax2.imshow(vec_to_square_matrix(bm_input))\n",
    "ax3.imshow(vec_to_square_matrix(bm_output));"
   ]
  },
  {
   "cell_type": "markdown",
   "id": "c4e073c2-0c90-4248-a9fc-57f4f063892f",
   "metadata": {},
   "source": [
    "# Test"
   ]
  },
  {
   "cell_type": "code",
   "execution_count": 128,
   "id": "5175b5c1-2cf3-4a31-b471-269694674987",
   "metadata": {},
   "outputs": [
    {
     "data": {
      "application/vnd.jupyter.widget-view+json": {
       "model_id": "e5a6f9e26d264f4eaddac5b45c6b9d81",
       "version_major": 2,
       "version_minor": 0
      },
      "text/plain": [
       "  0%|          | 0/1000 [00:00<?, ?it/s]"
      ]
     },
     "metadata": {},
     "output_type": "display_data"
    },
    {
     "data": {
      "text/plain": [
       "(460258, 1000)"
      ]
     },
     "execution_count": 128,
     "metadata": {},
     "output_type": "execute_result"
    }
   ],
   "source": [
    "df_clusters = pd.read_sql('SELECT output_bit, metas, nzb_list FROM clusters WHERE encoding=:encoding AND transf_code=:transf_code', \n",
    "                          params={\n",
    "                              'encoding': HP_SIGNAL_ENCODING, \n",
    "                              'transf_code': TRANSF_CODE},\n",
    "                          con=transfs_db_con)\n",
    "clusters = []\n",
    "cluster_metas = []\n",
    "\n",
    "for cluster_row in tqdm(df_clusters.itertuples(), total=len(df_clusters)):\n",
    "    cluster_nzb_list_for_output_bit = pickle.loads(cluster_row.nzb_list)\n",
    "    cluster_metas_for_output_bit = pickle.loads(cluster_row.metas)\n",
    "    assert len(cluster_nzb_list_for_output_bit) == len(cluster_metas_for_output_bit)\n",
    "\n",
    "    for nzb, meta in zip(cluster_nzb_list_for_output_bit, cluster_metas_for_output_bit):\n",
    "        assert len(nzb) > 0\n",
    "        \n",
    "        if meta.state in [ClusterState.PROD_WORK, ClusterState.PROD_ETERNAL]:\n",
    "            cluster = np.zeros(HP_SIGNAL_VEC_LEN, dtype='f')\n",
    "            cluster[nzb] = 1\n",
    "            clusters.append(cluster)\n",
    "        \n",
    "            cluster_ind = len(clusters)\n",
    "            meta.cluster_ind = cluster_ind\n",
    "            cluster_metas.append(meta)\n",
    "\n",
    "clusters = np.vstack(clusters)\n",
    "assert clusters.shape[0] == len(cluster_metas)\n",
    "    \n",
    "cluster_ones_counts = np.array(list(map(lambda m: m.ones_count, cluster_metas)), dtype='f')\n",
    "cluster_output_bits = np.array(list(map(lambda m: m.output_bit, cluster_metas)), dtype='i')\n",
    "cluster_input_bits_list = list(map(lambda m: m.input_bits, cluster_metas))\n",
    "clusters.shape"
   ]
  },
  {
   "cell_type": "code",
   "execution_count": 221,
   "id": "4b637ce9-40a8-49c6-b3e0-d132e60e01dd",
   "metadata": {},
   "outputs": [
    {
     "data": {
      "image/png": "[encoded data removed]",
      "text/plain": [
       "<Figure size 1800x600 with 3 Axes>"
      ]
     },
     "metadata": {},
     "output_type": "display_data"
    }
   ],
   "source": [
    "signals_generator = RealImageSignalsGenerator(TRANSF, 1, 1)\n",
    "# signals_generator = PooledPixelFeatureSignalsGenerator(TRANSF, 1, 100)\n",
    "sgr = signals_generator()\n",
    "\n",
    "input_sbv = sgr.signals_input[0]\n",
    "true_output_sbv = sgr.signals_output[0]\n",
    "infer_output_sbv = np.zeros_like(input_sbv)\n",
    "\n",
    "activated_clusters_boolmap = (clusters @ input_sbv) >= cluster_ones_counts\n",
    "output_bit_to_activated_clusters_count = Counter(cluster_output_bits[activated_clusters_boolmap])\n",
    "infer_output_sbv[list(output_bit_to_activated_clusters_count.keys())] = list(output_bit_to_activated_clusters_count.values())\n",
    "infer_output_sbv = np.where(infer_output_sbv > 0, 1, 0)\n",
    "condition_00 = (true_output_sbv == 0) & (infer_output_sbv == 0)\n",
    "condition_01 = (true_output_sbv == 0) & (infer_output_sbv == 1)\n",
    "condition_11 = (true_output_sbv == 1) & (infer_output_sbv == 1)\n",
    "diff_output_sbv = np.where(condition_00, 0, np.where(condition_11, 1, np.where(condition_01, 2, 3)))\n",
    "\n",
    "colors = ['black', 'gold', 'red', 'blue']\n",
    "bounds = [0, 1, 2, 3, 4]\n",
    "cmap = mpl.colors.ListedColormap(colors)\n",
    "norm = mpl.colors.BoundaryNorm(bounds, cmap.N)\n",
    "\n",
    "fig, (ax1, ax2, ax3) = plt.subplots(3, 1)\n",
    "fig.set_figwidth(18)\n",
    "fig.set_figheight(6)\n",
    "ax1.set_title(f'True Output SBV, non_zero_bits={np.count_nonzero(true_output_sbv)}')\n",
    "ax1.imshow(np.ones((80, 1)) * true_output_sbv, interpolation='none', cmap=cmap, norm=norm);\n",
    "ax2.set_title(f'Infer Output SBV, non_zero_bits={np.count_nonzero(infer_output_sbv)}')\n",
    "ax2.imshow(np.ones((80, 1)) * infer_output_sbv, interpolation='none', cmap=cmap, norm=norm);\n",
    "ax3.set_title(f'Diff Output SBV, TP={(diff_output_sbv == 1).sum()} (gold), FP={(diff_output_sbv == 2).sum()} (red), FN={(diff_output_sbv == 3).sum()} (blue)')\n",
    "ax3.imshow(np.ones((80, 1)) * diff_output_sbv, interpolation='none', cmap=cmap, norm=norm);"
   ]
  },
  {
   "cell_type": "code",
   "execution_count": 107,
   "id": "cbf93336-9a8f-4d35-adf7-384779124e8a",
   "metadata": {},
   "outputs": [
    {
     "data": {
      "application/vnd.jupyter.widget-view+json": {
       "model_id": "c4d9afecfa004fc7995599520663f5f1",
       "version_major": 2,
       "version_minor": 0
      },
      "text/plain": [
       "  0%|          | 0/100 [00:00<?, ?it/s]"
      ]
     },
     "metadata": {},
     "output_type": "display_data"
    },
    {
     "data": {
      "image/png": "[encoded data removed]",
      "text/plain": [
       "<Figure size 1600x480 with 2 Axes>"
      ]
     },
     "metadata": {},
     "output_type": "display_data"
    }
   ],
   "source": [
    "thres = 0\n",
    "toy_image_ids = get_random_toy_image_ids(100)\n",
    "bv_errors_count_list = defaultdict(list)\n",
    "sbv_errors_count_list = defaultdict(list)\n",
    "\n",
    "for toy_image_id in tqdm(toy_image_ids):\n",
    "    toy_image_origin = get_toy_image(toy_image_id)\n",
    "    toy_image_transf = transform_toy_image(toy_image_origin, TRANSF)\n",
    "\n",
    "    toy_image_origin_sbv = calc_toy_image_sbv(toy_image_origin)\n",
    "    toy_image_transf_sbv = calc_toy_image_sbv(toy_image_transf)\n",
    "    \n",
    "    activated_clusters_mask = (clusters @ toy_image_origin_sbv) >= cluster_ones_counts\n",
    "    \n",
    "    toy_image_infer_sbv = np.zeros_like(toy_image_origin_sbv)\n",
    "\n",
    "    # Approach 1: judge if output_bit is ON/OFF based on number of activated clusters\n",
    "    output_bit_to_activated_clusters_count = Counter(cluster_output_bits[activated_clusters_mask])\n",
    "    toy_image_infer_sbv[list(output_bit_to_activated_clusters_count.keys())] = list(output_bit_to_activated_clusters_count.values())\n",
    "    toy_image_infer_sbv = np.where(toy_image_infer_sbv > thres, 1, 0)\n",
    "\n",
    "    # Approach 2: judge if output_bit is ON/OFF based on number of unique bits touched by clusters within input signal\n",
    "    # output_bit_to_unique_input_bits = defaultdict(set)\n",
    "\n",
    "    # for mask_value, output_bit, input_bits in zip(activated_clusters_mask, cluster_output_bits, cluster_input_bits_list):\n",
    "    #     if not mask_value:\n",
    "    #         continue\n",
    "\n",
    "    #     output_bit_to_unique_input_bits[output_bit].update(input_bits)\n",
    "    # toy_image_infer_sbv[list(output_bit_to_unique_input_bits.keys())] = list(map(len, output_bit_to_unique_input_bits.values()))\n",
    "    # toy_image_infer_sbv = np.where(toy_image_infer_sbv > thres, 1, 0)\n",
    "    \n",
    "    sbv_false_positives_count = (toy_image_transf_sbv[toy_image_infer_sbv == 1] == 0).sum()\n",
    "    sbv_false_negatives_count = (toy_image_transf_sbv[toy_image_infer_sbv == 0] == 1).sum()\n",
    "    assert np.count_nonzero(toy_image_transf_sbv != toy_image_infer_sbv) == (sbv_false_positives_count + sbv_false_negatives_count)\n",
    "    sbv_errors_count_list['FP'].append(sbv_false_positives_count)\n",
    "    sbv_errors_count_list['FN'].append(sbv_false_negatives_count)\n",
    "    \n",
    "    toy_image_infer_bv = toy_image_sbv_to_bv(toy_image_infer_sbv)\n",
    "    toy_image_transf_bv = toy_image_sbv_to_bv(toy_image_transf_sbv)\n",
    "    bv_false_positives_count = (toy_image_transf_bv[toy_image_infer_bv == 1] == 0).sum()\n",
    "    bv_false_negatives_count = (toy_image_transf_bv[toy_image_infer_bv == 0] == 1).sum()\n",
    "    assert np.count_nonzero(toy_image_transf_bv != toy_image_infer_bv) == (bv_false_positives_count + bv_false_negatives_count)\n",
    "    bv_errors_count_list['FP'].append(bv_false_positives_count)\n",
    "    bv_errors_count_list['FN'].append(bv_false_negatives_count)\n",
    "\n",
    "fig, (ax1, ax2) = plt.subplots(2, 1)\n",
    "fig.set_figwidth(16)\n",
    "fig.tight_layout() \n",
    "errors_count = sum(itertools.chain.from_iterable(bv_errors_count_list.values()))\n",
    "ax1.set_title(f'BV Errors count={errors_count}, avg.={errors_count / len(toy_image_ids):.2f}; thres={thres}, clusters count={clusters.shape[0]}')\n",
    "\n",
    "for error_kind, errors_count in bv_errors_count_list.items():\n",
    "    ax1.bar(list(map(str, range(len(toy_image_ids)))), errors_count, label=error_kind)\n",
    "\n",
    "ax1.legend()\n",
    "\n",
    "errors_count = sum(itertools.chain.from_iterable(sbv_errors_count_list.values()))\n",
    "ax2.set_title(f'SBV Errors count={errors_count}, avg.={errors_count / len(toy_image_ids):.2f}; thres={thres}, clusters count={clusters.shape[0]}')\n",
    "\n",
    "for error_kind, errors_count in sbv_errors_count_list.items():\n",
    "    ax2.bar(list(map(str, range(len(toy_image_ids)))), errors_count, label=error_kind)\n",
    "\n",
    "ax2.legend();"
   ]
  },
  {
   "cell_type": "code",
   "execution_count": null,
   "id": "47f59aa5-155f-42d1-89f4-952ba29d1e2a",
   "metadata": {},
   "outputs": [],
   "source": []
  },
  {
   "cell_type": "code",
   "execution_count": null,
   "id": "bcc9f312-6621-4f77-ad5d-e0e5050dc036",
   "metadata": {},
   "outputs": [],
   "source": []
  },
  {
   "cell_type": "code",
   "execution_count": null,
   "id": "cf7b155d-cd7f-4649-91dc-f932bcb0e553",
   "metadata": {},
   "outputs": [],
   "source": []
  },
  {
   "cell_type": "code",
   "execution_count": null,
   "id": "f901126b-b8c1-457c-aced-0923b43927f8",
   "metadata": {},
   "outputs": [],
   "source": []
  },
  {
   "cell_type": "code",
   "execution_count": 116,
   "id": "f5f56508-9e19-4911-b739-a04452cf59d4",
   "metadata": {},
   "outputs": [
    {
     "data": {
      "image/png": "[encoded data removed]",
      "text/plain": [
       "<Figure size 1200x480 with 3 Axes>"
      ]
     },
     "metadata": {},
     "output_type": "display_data"
    }
   ],
   "source": [
    "toy_image_id = get_random_toy_image_ids(1)[0]\n",
    "toy_image = get_toy_image(toy_image_id)\n",
    "toy_image_sbv = calc_toy_image_sbv(toy_image)\n",
    "\n",
    "toy_image_transf = transform_toy_image(toy_image, TRANSF)\n",
    "toy_image_transf_sbv = encode_toy_image_sbv(toy_image_transf)\n",
    "\n",
    "activated_clusters_mask = (clusters @ toy_image_sbv) >= cluster_ones_counts\n",
    "values = Counter(cluster_output_bits[activated_clusters_mask])\n",
    "toy_image_sbv_out = np.zeros_like(toy_image_sbv)\n",
    "# toy_image_sbv_out[list(values.keys())] = list(values.values())\n",
    "# toy_image_sbv_out = np.where(toy_image_sbv_out > 1, 1, 0)\n",
    "toy_image_sbv_out[list(values.keys())] = 1\n",
    "\n",
    "fig, (ax1, ax2, ax3) = plt.subplots(1, 3)\n",
    "fig.set_figwidth(12)\n",
    "ax1.set_title('Origin')\n",
    "ax1.imshow(vec_to_square_matrix(decode_toy_image_sbv(toy_image_sbv)))\n",
    "ax2.set_title('Transf')\n",
    "ax2.imshow(vec_to_square_matrix(decode_toy_image_sbv(toy_image_transf_sbv)))\n",
    "ax3.set_title('Infer')\n",
    "ax3.imshow(vec_to_square_matrix(decode_toy_image_sbv(toy_image_sbv_out)));"
   ]
  },
  {
   "cell_type": "code",
   "execution_count": 110,
   "id": "bd3d6124-ae28-47e5-9877-7bf2eb87d8c3",
   "metadata": {},
   "outputs": [
    {
     "data": {
      "image/png": "[encoded data removed]",
      "text/plain": [
       "<Figure size 1600x480 with 2 Axes>"
      ]
     },
     "metadata": {},
     "output_type": "display_data"
    }
   ],
   "source": [
    "fig, (ax1, ax2) = plt.subplots(2, 1)\n",
    "fig.set_figwidth(16)\n",
    "\n",
    "toy_image_transf = transform_toy_image(toy_image, TRANSF)\n",
    "toy_image_transf_sbv = encode_toy_image_sbv(toy_image_transf)\n",
    "\n",
    "ax1.set_title(f'non_zero_bits={toy_image_transf_sbv.sum()}')\n",
    "ax1.imshow(np.ones((30, 1)) * toy_image_transf_sbv);\n",
    "ax2.set_title(f'non_zero_bits={toy_image_sbv_out.sum()}')\n",
    "ax2.imshow(np.ones((30, 1)) * toy_image_sbv_out);"
   ]
  }
 ],
 "metadata": {
  "kernelspec": {
   "display_name": "Python 3 (ipykernel)",
   "language": "python",
   "name": "python3"
  },
  "language_info": {
   "codemirror_mode": {
    "name": "ipython",
    "version": 3
   },
   "file_extension": ".py",
   "mimetype": "text/x-python",
   "name": "python",
   "nbconvert_exporter": "python",
   "pygments_lexer": "ipython3",
   "version": "3.12.9"
  }
 },
 "nbformat": 4,
 "nbformat_minor": 5
}
