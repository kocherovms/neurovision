{
 "cells": [
  {
   "cell_type": "code",
   "execution_count": 1,
   "id": "27532844-1826-4299-b063-16a22e592f3f",
   "metadata": {},
   "outputs": [],
   "source": [
    "import os, math\n",
    "from enum import StrEnum, auto\n",
    "from collections import defaultdict, namedtuple, Counter\n",
    "import itertools\n",
    "import sqlite3\n",
    "import pickle\n",
    "import datetime\n",
    "import multiprocessing as mp\n",
    "import gc\n",
    "import json\n",
    "import decimal\n",
    "from IPython.core.getipython import get_ipython\n",
    "\n",
    "from PIL import Image, ImageDraw\n",
    "from tqdm.notebook import tqdm\n",
    "\n",
    "from sklearn.model_selection import train_test_split\n",
    "from sklearn.decomposition import PCA\n",
    "import matplotlib.pyplot as plt\n",
    "import scipy\n",
    "import numpy as np\n",
    "import cupy as cp\n",
    "import pandas as pd\n",
    "\n",
    "from module.utils import *\n",
    "from module.hdc import *\n",
    "from module.constants import *"
   ]
  },
  {
   "cell_type": "code",
   "execution_count": 2,
   "id": "73358262-adf2-4d17-a383-f120a5d1f8aa",
   "metadata": {},
   "outputs": [
    {
     "name": "stdout",
     "output_type": "stream",
     "text": [
      "xp = cupy\n",
      "transf_learn6.ipynb\n"
     ]
    }
   ],
   "source": [
    "LOG = Logging()\n",
    "\n",
    "config_var = 'SQLITE3_SEQ_GRID_0_2_4096'\n",
    "config = Config(config_var)\n",
    "RNG = np.random.default_rng()\n",
    "mp_ctx = mp.get_context('spawn') # req-d for CUPY to work, 'fork' method leads to failures in bootstrap somewhere around CUDA\n",
    "\n",
    "if cp.cuda.is_available():\n",
    "    xp = cp.get_array_module(cp.empty(1))\n",
    "    xp_array_from_gpu = lambda a: a.get() if isinstance(a, cp.ndarray) else a\n",
    "    xp_array_to_gpu = lambda a: cp.asarray(a) if isinstance(a, np.ndarray) else a\n",
    "    xp_array_to_gpu_copy = lambda a: cp.asarray(a) if isinstance(a, np.ndarray) else a\n",
    "else:\n",
    "    xp = cp.get_array_module(np.empty(1))\n",
    "    xp_array_from_gpu = lambda a: a\n",
    "    xp_array_to_gpu = lambda a: a\n",
    "    xp_array_to_gpu_copy = lambda a: a.copy()\n",
    "\n",
    "print(f'xp = {xp.__name__}')\n",
    "\n",
    "with open(get_ipython().kernel.config['IPKernelApp']['connection_file'], 'r') as cf:\n",
    "    notebook_fname = json.load(cf)['jupyter_session']\n",
    "    notebook_fname = os.path.basename(notebook_fname)\n",
    "\n",
    "print(notebook_fname)"
   ]
  },
  {
   "cell_type": "code",
   "execution_count": 3,
   "id": "656ee6b7-3982-4f99-9251-6b67fef36ae3",
   "metadata": {},
   "outputs": [],
   "source": [
    "%run sequencing_sp2.ipynb"
   ]
  },
  {
   "cell_type": "markdown",
   "id": "d5c8f88a-5403-4177-b5fc-e0e2a1da9c2d",
   "metadata": {},
   "source": [
    "# Open DB"
   ]
  },
  {
   "cell_type": "code",
   "execution_count": 4,
   "id": "d2dd62ab-b44e-4251-9e86-d41b3672e36e",
   "metadata": {},
   "outputs": [
    {
     "name": "stdout",
     "output_type": "stream",
     "text": [
      "CPU times: user 9 μs, sys: 0 ns, total: 9 μs\n",
      "Wall time: 17.6 μs\n"
     ]
    },
    {
     "data": {
      "text/plain": [
       "((10000, 7), (2000, 7))"
      ]
     },
     "execution_count": 4,
     "metadata": {},
     "output_type": "execute_result"
    }
   ],
   "source": [
    "%time\n",
    "train_db_con = sqlite3.connect(DBUtils.get_full_db_file_name(config, config.train_db_file_name))\n",
    "test_db_con = sqlite3.connect(DBUtils.get_full_db_file_name(config, config.test_db_file_name))\n",
    "test_results_db_con = sqlite3.connect(DBUtils.get_full_db_file_name(config, config.test_results_db_file_name, with_prefix=False), autocommit=True)\n",
    "transfs_db_con = sqlite3.connect(DBUtils.get_full_db_file_name(config, config.transfs_db_file_name, with_prefix=False), autocommit=True)\n",
    "\n",
    "if not DBUtils.is_table_exists(test_results_db_con, 'test_runs'):\n",
    "    test_results_db_con.execute('CREATE TABLE test_runs(test_run_id INTEGER PRIMARY KEY, dummy)')\n",
    "\n",
    "if not DBUtils.is_table_exists(transfs_db_con, 'points'):\n",
    "    transfs_db_con.execute('CREATE TABLE points(encoding, count, non_zero_bits, points, output_bits)')\n",
    "\n",
    "if not DBUtils.is_table_exists(transfs_db_con, 'pixels'):\n",
    "    transfs_db_con.execute('CREATE TABLE pixels(encoding, sbv)')\n",
    "\n",
    "if not DBUtils.is_table_exists(transfs_db_con, 'clusters'):\n",
    "    transfs_db_con.execute('CREATE TABLE clusters(encoding, transf_code, output_bit, sbv, meta)')\n",
    "\n",
    "df_train_images = pd.read_sql_query('SELECT * FROM images', con=train_db_con, index_col='image_id')\n",
    "df_test_images = pd.read_sql_query('SELECT * FROM images', con=test_db_con, index_col='image_id')\n",
    "df_train_images.shape, df_test_images.shape"
   ]
  },
  {
   "cell_type": "code",
   "execution_count": 5,
   "id": "70b21219-4f16-4824-90ec-7bda1574c5d1",
   "metadata": {},
   "outputs": [
    {
     "data": {
      "text/html": [
       "<div style=\"\n",
       "        display: grid; \n",
       "        grid-template-columns: repeat(8, 128px);\n",
       "        column-gap: 1px;\n",
       "        row-gap: 1px;\">\n",
       "        \n",
       "            <figure style=\"margin: 5px !important;\">\n",
       "              <img src=\"data:image/png;base64,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\" style=\"height: auto\">\n",
       "              <figcaption style=\"font-size: 0.6em\">8</figcaption>\n",
       "            </figure>\n",
       "        \n",
       "            <figure style=\"margin: 5px !important;\">\n",
       "              <img src=\"data:image/png;base64,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\" style=\"height: auto\">\n",
       "              <figcaption style=\"font-size: 0.6em\">5</figcaption>\n",
       "            </figure>\n",
       "        \n",
       "            <figure style=\"margin: 5px !important;\">\n",
       "              <img src=\"data:image/png;base64,iVBORw0KGgoAAAANSUhEUgAAAIAAAACACAAAAADmVT4XAAAMEUlEQVR4nO2a2XLruBGGG+C+k9oly/ZZZiqpyfs/SqqSSc5iH0mWRHHfSRDIheRlMiNZizM38V++kSUCHxvN7kaDAO9617ve9a53vetd73rXu971rne96/9d6KyLEMYcRgjtPnEYo8dPL9WSuiGUMXZgLP4cAIYlWZF4DmPEGHCiIks8jzECeJ4KAUAeen5aEdq+NQAIqm3psshxmFIQNcvSZZHnf2eC8P7r93VaNvSACc4B4CTN6fdsTRJ4TFuQrV7PUhWRx/9tgXWXJ5TDJSMXAyBAgLbiRVk1nEHf1uQdgN3r25rC/f4qo0kyKvIxgxb2GeFIAMZxnMALgiiIsqbphtlxDEUUOMwYSIbtGH84jjm4JaqlrhCq233LcKwFsCjLqqqqumZYlmUoqiaJPI8xABJkVfuD2wcAsK6lni1By6Cme0Y+EkCUNNUwLNOybafbsXWO5zHGGCPACHPcnvlBHTtDqUmzqiHoAgsgLOuaYZiWbTsdp9Pr2grs/I0BAgDWwpP/oRexBUsSmNnS2jrouQCcIMqW49imYZimZVu2Ywu7mQBQ27YtJZQ0dU1aCkiQVUXk8XNUUnVVEni8N+C9DoBVyxpOhj1TlVVV01VdF56+Y1VV1XVDSJXFSV4Tymnd4dBSeA6hR5NwGOM/iJLHA0jWcHjz4WagyxwviqIgik9fkbxIs6ysSV2GrhcVNRWcm0oQeIwBYLfqpD0YjF8FEK3+ZPrp84eBzjOEEQBiu9tpiyxN4zjJa1Ln/modFjWS+0J33LSMwaMFyrysm3Y/wUEAThAEc3R9Pb2eDHu7aQlp27altCVlnqVpkiRFTeo82vhJCyIWeJ7jHlectW0bR3Fa1OQ8AMG0re7V9XQ47Bu7MZuiKuuqLIuizLM8z7OiKBtSl0VatIJm98bTviFvlwBQW5W5t3K9MK/bsyKh5Ewno+urUVc3pN39J0maFVkaRVGc5UVZVU1NCGkaRjnJHkyuxldXHU3kAQAQa8soWM4fXD9v9ibEQwBY6U4/X0/HPYPbZboqCsIoTZPI23hBWlR1QxiljFImyoo1vPl4O+p1TIXbRgXUlvF6vlj7EdnvhnsBEEKS0R3fXI8HNgfAGkpJlYReECVZEnmbTZiWzWN8RbxkdvpX0+lV39Zk/jEq0SrxXC9MqwN3uQ8AYV7UOoPJdOjoHACrizxL4jDwwyQv8jQKwqR4+rGg653+cDCeTPq2Jj3HZVangR9m9YH591uAl1SnPxyPuxoPwKo88dcr1/PDuKjrpiyy/Hl+rjvoDyfjYc+xDU3knwsjViVhkJT78tBhC3CiZju9fs/gEdCqSPyHu7uZG8RZTSmlhLyoMZzxzfRqOhlYisgLGMPTerdVEoRJdRYAIF5UdMM0FABo6zzcLH98u3ejtHz6AaDtnzmefri5mo56GgeA4NnfWJXHQZBWh0rCQ06IOY4XBAAAWgTL+d3d/Y8gf/oeC4LIC4Ig8Pb49mY6Gvb0R7BtnkSMVGmw8c8FAMaA7e6G5e6P79+/z9bN89eSpmiKpqqq6gwmk77jKC/pgTGgTRH7Gz/bW4scBmDAWtoSIgAALcPlbLEOX8yvWKZpmZZlWpbd6XVMRXhxLULAGCVZEvpeSMh5AMAYo5RuL26roqgo91zV6HbHsR3bcRzHNk1dE/EW+rn2JCT3N54fZYd2JQcBABBCu6AuKGaXCGZGKaUMEOKMTrdj2ZZl2ZapSHybNWVJkPS0QQFUx97i29zPX5n/AADCCPM8DwCA1X6ljpO8IHXVtICwaHa7jqlrmqprCm7LIou8sBScfldXRIFHAKhcf/367Zvf7B3/NQAEgBBCGAAA62N1XFZ1VeVp0QDiZbPbtVRZEAVJwHUZbrzVfJUr008tRZhDAADl8te/3y2Dg0/AQQAGjNK2JRwAYI23GsrapkiitGZYkE3H0SUOAyBG8mC5eFjcLwujNRxdkXaFiHf36yw6/AQcBmhJU2ZxZPAc5rAADBBryyROa4YFSTMMBQBo05RFsJovlutNSjQGz/UfyUPPO5gFXgGgpC4S37UbTcOwG5QTZa1oGOIEUZIAaFOmSRh4y4XrFbUmDyY9S5N2FTiipD5i/r0AjDZVFrlzuekJLx5xUdQoAwQICG3qMg3c5XK9WieZZA0G4w/XfUsSdgAIoX2bkSMtUOXR2hBaJMkvNz7Clq6uy7LMo838frZ2PdIOBuPP08mwq2GEGAIgdQuYO7ArfhWAtXWReCqmCDMLACgAAALMgDHalHmeFUUebWb3M9crAGzRGY0HtiYAQAuUBn5S7q0DjwOgpEoEXOV5GpgIgG7zHwZgtK3zJEnLqkzD1dINCwAAUbdtY2srWibJ+ssiqi8BYABtnbIq8v1N38CPFkAYGGOkSqM4bUhT5nGUlAAAgqIbuiwgAIA2Xjz8+PrdKy+zANCaNpm38d2uyj0WGRiAMkaqNIxTSikldVO3ACDohq4pImYIAOpw9uvXH4uguggAGIO2AojTxFeeANAjQBQ/l2SA+F7PNjSZx8AQVFnw8P3LQ5Ac4YJHbM3qmNXiSwDGWFvn6fMzjhXNGN1OHFXkEWOE5KHnLpd+Vr8aho8CgCanwlOdibaWaasXMUawR+Prj7ddhUeAaJNFG9fd+Fl1lAGOAGANq34DAMB+0/mTOx9+/jiddGUMALSMN6u1Fyb7N2OnAkDb/vfu/jdDc7J99dNPQ1sXMQC0ReiuXD8p6N6+2MkA7PBQnKg5w9FuQ8iaLFg9rILsqPUHANjbuzlaiJN129HEbbxu0s18tgwPbcbeGADxgqRqmrDtCbRVvJ7PVvFxDghwbq/4eXosaoahKTJCAAzRKo02y6WXHr0CFwIgQdG7o76tbnMArZLQ87wgPSoGvgmA3BlNbz71t5sSUibeyvWirCLHH0NcBsApw59/vr0ZbPsnJN08zJd+Wh37CF4MgCRz/Plvt31DZGgLsJivgrw5fvqLADgkmZ3h9ObaEGALkHnL5SYuj/fAywCQavWvxoOOKe1SFSrD9WqTvroXeSsAzhhe344dVXhsiqIqXC3944MgAFwUiAR78uF2bElPHk+LcLMJD3dkfqcLLKB1RtOrviE+AaRx4IfZCY/gBQCY44VOfzQaONq2d0/qqn5Y+3FOTngELwGQVX00Ho965rYQRk3khd/uN/nxSeAyAEHtdK8mw56j71ag9O7n3+/8Ex3gbAAkmb3JdNx3DGWbBVnuz77cLcITksAFAAgJemd0fTXs6AoHAIyxOvWWs8UmPSkIng/Aydbo9tN0aG7bsqwlWeStl+6JQfBcAIRFvTP5+HnY1bdVECVFFGzczYlZ4FwAxIu6M7i6uelq2/NC2uTxxt1sgqQ+dEr9ZgCcYnTH0/GwZ/PbDSMpQnexWAdJ/tqlbwPAm5Prm8/Trsrvzg5J/HB3930Rlq9d+VYAnY+/fJyOzKe+SR3c/f3Lwj2hEL0MQOx8/NtPfXWbgygGkm/u/vHrpjzclX9DAMUe3X4w0a6Nzdo89hb3P+KzZj8dAGFe0U3LRNvGGaJ1Ga5dLzx7/pMBeEVTd40QAABa+O5idab/AcDJBQknm6YmPbbGAdrUnf1YJadVYRcACKrV69vbDMwAAEjqzufr43ohf6zjlwAB4rTO4OpmZL04P0/c2XyTHNMSvRgAMCc7V58+Xk+70tP/mmR9P/PTP8UCmBO17u0vf5lalsQeX9Oo49VsXhR/DoCgWP3rn/46Fnju8RWCOg83y/Xjwc7/GIBX7d5wPB6asO1aIspI7AdBdHwz4jIAyRpdXw8tFQAAIQAERbxeuJc44EkASOpMP9z0te3LMwAAkK7u71evnYq9puPjgGQNp2NHpAC7GFAG82/37llFwAsdvwScYtqWJiAAYIwxRt3l7MfCKy5wwNMAMMeLoiSLAICgTNLs4duX+2Xw5wEwSingbRmCsof5ejGfL/24OL0QPhOANmXx+NJGE97/89uDG8Rpdfhk+C0BSJWGgS5zIgDxlvf/+tcqyqrq4AurbwvQxGuZZJ4tAjT+3b/vF96RDfm3Aig9LnuwTY0HIKk7m/nZmVXgb3V8N0FSVVWSJQED0DqPk+zYhvxbASCMH99fZozSlp3SDXzXu961X/8B5JY77Matq5UAAAAASUVORK5CYII=\" style=\"height: auto\">\n",
       "              <figcaption style=\"font-size: 0.6em\">9</figcaption>\n",
       "            </figure>\n",
       "        \n",
       "            <figure style=\"margin: 5px !important;\">\n",
       "              <img src=\"data:image/png;base64,iVBORw0KGgoAAAANSUhEUgAAAIAAAACACAAAAADmVT4XAAAIj0lEQVR4nO2aWY/i2BXHz/VujHezFQVUFbVMt0Z5iJTv/wmiSOlJppfaKHa8493YOA/V05l5GAljIA/hL/FgIZ/74/C/9557bICzzjrrrLPOOuuss84666yz/t+FDhADw3CSqbFEHofhJt8WRZmbiUMAkCzX6LbqiT5ZrKMsPzkAzgrq8OOdGjyx+XZbbEvdfAAAjObV7s3Pf2m7jLvy4yzPTwxAcNrlYNC7ZNm5xLNUUs5WBwDAhe5Pw0GTBYJkuRoTx6cGoOSrjw+yCBBnOMPSxKkzgPHN/v09SQGEyRYjcOykABhGip1utyMDAGRpusm2pSZh9Qzwje71fVd8v9j4lhttTjoNkXL38WbYod8vYnup+3GpWVgVgGre/3XYFkkAAMhDa2Fs8tNlAAHI7avbGxEvAAoAf+04XtkgFQAQy7Hd/kVDRoBgG0fxdGn7paNUyQDfafaHrToCACg83Xh8M5JTApDK4ObqRns3YOpO3x5n6/JRKgBIrav7wYX4HsEzF+P5uiCyEwGQNEP1rgf9iwZPFkmabhYLw4lJhUi3WZ5lebbzVNizIhIaTaV3d3elSQzKbMP09dXKCrI8z5LID8Iw2tkMe2aA6973L3udBs8CJNZoZLhhuq3XOWYb2KZpW1m664q8HwDGXzw8dDWBIwDitT55WsaI5oRWUyy81ZyjsiDYNdQeAAhhjNS8vGoJNNomgWPOdDfcsnVZ6XQUWNdoGnxz52j7AJA0r2gNTaJg6+mzmWk5hcDIDVVsqDzUaJYvnPkxAXCa1xqaxFMAofH4rycbWF5UWy2txrFUQTOCksxYdDwPIKqutJuqQANE1uLp0xdPHFz2O52WTGIIFSQjyoZM7xyuLAACuq52em2FI4vUXMzmup3wtNTQpBqFEAIMI4HmGfxYAAiImta/7g+adQhWz68LA29j3ZvLBpssTUSyNEkQKC9zNioHgACj+M7tx36zWcusx39880C9ljqXHSExjBATNYVjKAiCZPeipCQARnJy9+7nLscTvvn06XPRG37oahKT+9PPOtG+yeQanbtutPuWUA4Apzm1czm46gDK1tZqaVJk+6Ev4KnjTL5O6FhQWCxLDCfcHAtAbPUGg7aMIFjP7Vy4qPV7LQkLzOXzaDKrN3OSRIlnu+GxMkA2Hj5cDjQagvl8ZjMPt/XhrUo4k5fRt8e5CQUrCEXsmpZ/LACq9eFvHVFC4E6elyAOVU5r18L5r5+eXgwrEElekcKNY1j+Zud5UA6Aaw0/NnAc8sBembx4d8MQRGy+ffn0dZZmW4zlxXoaWbrpH8MDGIbjstposABQIJxkOFEWUbrWx69vk4UPQDC1Gotl69XCOgoAQbO1plKnAAAQqyUap1FJrC/fJi+vRgBAc5LAkRCak7Hhp4cHQCQnqV2FynEAwPgun2G1wtCfHx8X5srbAsMrDbmGF95qMgnCY3iA5JvdrkJlFACgGqVBEvvW6N+/fDY2aYoYXmm1ZRZSz5gvshKno90BKLHV7yrMexFJEACFa45fn5+eYwAAWmh0OzK1jf21u3M1VA6AUXq3HY37sc8lzuz5+W1svDdEKPnyZqBRmzCIdv//SwEgtnF9r4gc9n5ZBO7k269fV/r3wyCtXd31NSL2gnLjl8mA2ruuk9R3AN9cPn/55av3W0eI1frDtgCe7aXH6pCQvNqiAACggNyzltPR6+v4t/Ifqyntjop8S3eici2S3QFw+n0NgE0QRpaxmL7NrPfxEWB0TZAlJrCn48V690WoHABGvI8PiTE3V8vVUl/4P75ia3ydQf7s6WVsH8mEAL8VWsH863i2NKzgu98QRjCCUGfJjTN9fJkcDSCLvQIBQKKPn56nS3u9/d4QQyQjNFSBxeP18m2se+UOyLsDxMZIpADAf34ZTebm+ofXEKM0ez2Nw7aRo5vrEvVgKYBiPfq7RQBANB+9Ld3wv17H+IvhzUOHA0h910t2P5mXAwD3yfuCA8DGsx0/+t3PxITeh4dhqwbbJPSj7FiNysJPFgQCgCLPsvz3/VCcv7h76DEIojCMNls41jqQZdGfhOCUVrsOm43l+CUNUArgT4VTNZ6DjeWOV165RehAAARF0wR4i9nz3CtnwMMAECzLUGjjzB5f5n5JB1YHQAjnZbFOo9RdjMZGeHIAguG0y47KQurMR3M7Ku3BygBCq3c1aNYgsWdvphef3AOEdDm86WsURNZi6m9KPqw4BADfHgw6PCp8xzSTkmvQIQAwTu20JTKNnHVQ7nHdoQBYuaXVi8C2vPKd+vcIVQEkTWI27kr38v1CVQQg6LrEE4mzNP18987YHyJUGh/hNMviEDmGVeI8+gdVzACO4zhsfNss05M4IABG4BhA7JmG/b8BoFkKLyByLdMJ9gSo4AEM0YoisFgRr03dKdESOBQAVRPbvbZMo8RZLcz1HjthVQCl27/tqxQkzmrmBeW3gaoAtNq/ve1KUERr09z5GdEBASjpYnCp0kXo+1ECCBAUe+xGVQCE5oXGxJGrBwXD1DkyC9bBqR5cAgAQvNaSMXtlzAJSkS/a9XD6mp4SgOQUTYis8XKZ8njrbii5nL8sHaUCAM7URTYKHCumVLV9dSMZK678hlTl/QGcpDGCpDmZyghRxOIg3mMxqgBQFFsASury0QaIvND9+atd2gKVAPJNRpAqneYFwpcvL6PZTD/p0azIswwIkS8AEMTx6z9nXvlJULUgAYTjRbEtstBezVfljyXVdkOCYQAgSeIoCr+NdW+f8SsBkAwOkLu2bZnOy5O5X01W6S9AAOAt54vZTF8snL0SUAUgjxy7lszG0+l0srK88ttAVYBw8RnR6XK6Wi4Xlh/vWRVXAPBf8AmRuba7dl0/Ltmd+6EK7xWzoshh2zRJkzTdZCVfpj0EAKD3m4vvn7POOuuss/bTfwAFEhFW+y7otQAAAABJRU5ErkJggg==\" style=\"height: auto\">\n",
       "              <figcaption style=\"font-size: 0.6em\">9</figcaption>\n",
       "            </figure>\n",
       "        \n",
       "            <figure style=\"margin: 5px !important;\">\n",
       "              <img src=\"data:image/png;base64,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\" style=\"height: auto\">\n",
       "              <figcaption style=\"font-size: 0.6em\">3</figcaption>\n",
       "            </figure>\n",
       "        \n",
       "            <figure style=\"margin: 5px !important;\">\n",
       "              <img src=\"data:image/png;base64,iVBORw0KGgoAAAANSUhEUgAAAIAAAACACAAAAADmVT4XAAAFU0lEQVR4nO2aS3PbNhDHdwGQIEWKeliWH5PEM5npse33/yqZTppkWtd2TEkU38SrByWepj0B4Mg98H8H+OPucnexIMCkSZMmTZo0adKkSZNeWTjOLogEEYzWBsz5ARBpmCwXkawPx05qY4XARgAAGqa37+/W/f3HL/tW6LMD0CBevf3l19v6A+2kNsJq8QgAJJgtN29++vldRZ4fG6m1Oi8AsmS9ffvmZsuW25vbVms5nBkgzK7v7u42EUC6fSdBtK1NEPgDkGh5+/792wUABBdvZV/srJb7A1CeXd3dXacAgswv6zwN8JwWQGTRfH25XcXUGBJGMWfEagNPAKQ0itNsuYwDNEZrbYxlcrPD/e9yEkSzJE3TkABq0XftII0VgLcFAh7FszgmAKCHpqpaYVcMvGOAMhaGnAEAqKEuy7q3ykO+LgAEJEhOu+i2yPNDK61M4AsAAMZ8q3+q3T897qrhrADGGGO0PgE0h69f97VdEPhbwLxYQLbH/f7YqXO74LuU6Nu66QZttWpEADkMfd8P6hUAEAEAxDAMQlg+f1wL9P0glF1HNmoMSDF0wi4ExyjHBr6XHy37brA0wCiJ6NvzjRJDZ5cGxwHAkwVE13Vdbw0wRluOhIBWRZ4fbUvhCADGaA2IIIv7T18eS2m9gSfAKQ8TYob804ff70u7UjwCACChlFEKff75t88PpWUWAu8gRMbjWcQpiOLxj4e91YlgFADC56v1MglgqHZfd7U4uwXobHV1vckCM9TFvrLPAt4xwJKLm5ttFoJoqmNjW4hGAKDx6up6nTAt+67tXXbwdUG83FwuIgCthN1cYCyA2fJymzHAl77s3ADRYrNJGQAAUqcdfIMwSpfLCMEYQLd38QNAyuNZjADathF6kZ8LCGNBgACgtMMXOAIAZYxSAAD1ShYIw5AhAEA/SEcCjxhADJI05hSMMU1jeSgeA4Dy5OJiETMwQ3coG4dC5AkQJOur7SqhoNpDvq97NwCPGGDJ+nKzihmoJn/elZZnwhEAKE+zLOHEyCp/2pV2Y4ExAJCyIGCMmv749PB07F+hFhgDSAl0+4c/Hw/nBzBaK2UATXd4+OuxcOoG/CxgtNYGQHfHnfVkZhSA06nAKNHV9WskotN4SkklhbAfTIwAAGCMVkoqqbTlTdVIAEgQjRJSSIfruhEACA14QLUY+r539oBPEJJwls4CM7R13bbK1Qc+qTiaZ3MOfVPXdSe1ow+8ANJFxlG0TdN2rs/3ioEwmScRUUPfD/aDiZddfABmaRoxo5VzBPoBYDBL0zggrsY/ycsFUZLE0COixx28BwALozjiinyfFZ8ZAGkQcs4D3z8QnGOA8IiHIaOE+Ly/qwUQgEQRDxijvr9gOLoAgfGIh4wigHEuRD4AyDjnYUAJKK804AxAWRCGYchAKyFt7wj+KbcgRHL6BkIKWgzWlxT+AECCKI4izoiRXdfL86diGqXZfMYZyK6pGsdTmQcAhvP15WYRMzNUh6LsHDtidwAIs8vr7Somui12edGcHQDDbHO1WUQom2KXF617O+BqATbLlosZA9kc9/tje34XEMZ5GKAe2vJweI0YQCSUgJGiLYuicj2WAbiXY0QALbGry6KofSzgWA2RUApKyLoqy6p1nE/5AAQ8nnHoZVEcy7b3+AgcAWiYrlYp7av9vqgtf5n4l9yCkPAkW8RQ757zY219X/2D3CxACGNEd/unx/zYyVdoSIxoDs9h/fxw/3x0HFD6AajqPiloe8jzh9LtqsgXYP+xysjQ1HXhcF38g9yaWhJGPECtpBTCcTo2adKkSZMmTfrf6G9yvrIavLIBFgAAAABJRU5ErkJggg==\" style=\"height: auto\">\n",
       "              <figcaption style=\"font-size: 0.6em\">1</figcaption>\n",
       "            </figure>\n",
       "        \n",
       "            <figure style=\"margin: 5px !important;\">\n",
       "              <img src=\"data:image/png;base64,iVBORw0KGgoAAAANSUhEUgAAAIAAAACACAAAAADmVT4XAAAOsElEQVR4nO2aWXfbuJKACwvBnSKp1ZKXJH23h3v//w+ZOXN7ptNJbNnaJYqLxBXAPFB2HMeU5aT7zDy44uMTSyDqYwGojQR4kzd5kzd5kzd5kzd5kzd5k/9jQT98Xf3v8PN0IilBSilBvjgR/UEAoApVFEopIQQhhDEh+J5Biqoq8izNyor/aQCYGbppGLqmMYUQTBhTKQaQgABEke93280q2O3/PABm2Y7XajmmaagKoYqmG+o9AM924XZ+q2EsZfXnACDT9jyv7XuubZu6QinTTVMjAAIwQJXGwbrFECgK2xcvILwSABFCKKXMcX3f8123ZVqGRilhmkEAADAAAGMaY1hizQvCZLdP81L8cQBU00zTtNx223Nt2zR1VWUEE6qQx8NUUwK1esE23Aar1Sb+4wCoZjue33Y7nbZr6SpTFUIxBoyenELFpGY7jaPtenmjlFnVfBxfB6Bajtvu9PudTsd3dIVggiVCIAEBf+QJJBBNtSVPd+FypuTJXhSNLuF0AEyoarf8TrvT67b9dsvUntz11//e28OwDZWmwTbDu6LJCK8AMG2n0+31/ZbrOrbzVP+zPpXZsoq3O6Fson3DPjgdgNpn/eFoOHA1XWeaSl6+AgCo4faSHCm4yppGnAygecOry6uLgUUwBoKxQPDV2M+KBIRUy89KJPMo/CkAhBBpdUdXl5ejHq3nrpdUSBBSCPHNAiPACGEMGAPGupMXIg1mTRY7CQApiqqfXVxeDbstetBxuPUyz7I0zUpxbwwJgAljqmboKgIAargckpmpoOd34YkAluNdvnt/1XbYk6/EfhNuNuGuAoLrDwSiqmE5XgdrAACgmEBD31Dw84HpNABm+YOLi4uRyUh9lw9Ln23n8+l0EZZAaiNzgZjheJ0z0G0CAJLoirp0dNqwW04DoJrT7nQ7bQXgsNyy9vvxYno7vb2dBQXQrwCm24655rYMBAIIYcwxGfkpAKLqpmXqCgAgCQCyyLO8KqsqXi5mi9lsGZZAvy6BnsQxVy29UigmAEAV2qT/xFOAqaqxgwZAACLdrIMk2WVxGAbRdhvu+cMekECy3XadU53l9mHNjqRmp1kAE0Kw5JwASIQAZLa+mazWQZTs87TIs6KUIA+nQEJV7HEAlmcjIBQBgOCiMR6eZgEJIIXgnBwsIIvdZj6ZLYIk41yAlCARfzwayl0cRS27jgCcC9lkg9MARJlnRSW/riNCBGOQvMzu9T5WQBhjHc9UlUOiesxdngQgy30cJQVQOGxCxCxvL4AwlcTPpFx6t+ONrt4NPJNhAACMnyYMrwQQZbK1opQ/TIJVtyCG4/pLY776bnmR++6Xi+Gg69uaSuSx2z8VQJb70NjuCoHvVagOqJbrtVsqgbDEBPgjQ7T67//114Fn6gxjkAigrJo3wWl7gOe7KAzjnYZxvaBUk1jRVJ1hzMISYVkWWSXqqKV3rt5dXXUthQIACCFEnKRFU4VwmgV4mYbbzXrjaIdzjRlgylTTtNrnSQXAsyTJKwmYMt3pXP515Nvq4ViWebpZbffFT1lAVFm0Wc3bvIVrAEQYpprZ8vtxknEpimQb7AqOiGq7frvT75r3vl/mUTCfrpOfApAgCrldTluAKEMAEhBGRBEm5xWvKiGqLFytoqxCit7udl3TYAwJJBECENl2djddJ/lPWUBK4Ml6aiFEiAFIAkKPCmOQZRq1nDCrkGJ0+j2bAkiQsq7T0nA+mQX7n09K9+sx5EVZtlSFYIQeexfEGJHEyjmimtduYXhcsufb+d08yH7OEwIAZGuUxPu8yBxLJwjBtwec2disBBDF1O9jlkQIAGQWzG5n26YVeAVAuc02SSGBC8IQAikl+upkJdKIKSQgQqnA8MgzF8lmNl1ERdO0rwCoElIxy1R10wJ4yEtRrQ0z5TAOybpIQiAFgSwMVsvVNmtsFLyiNJNQbYNg6+6K753v4/z8PkWWvCzScPJlsonTqjEgva42THdxFO9LgY5HuANAlawXk9tP15uUN6ckr6yOeZFlz5R5Ej3kqVICIAQSpCyT6ceP48k8LI/0ql4HYBsMw3Nh5bniV/IsmHy+WUb7Y02SUwEwpkwxvH7Pd3SlDvIPugG+WZEHFAQgOOfVke7A6QBIbbU7bd/3/U7XVh6rRFJ+swfvLYQQVe12P6vKprr0VQDU7P3yy3nXMgzLcpRvvzu4nIc/D7+xYrYvSoLLXf7zAKrpDf/2r790NYIVSp8UmhKeuEWJJAACxWhzRHm4in4KAGFMdMMdXL378KFdz89LIaSQQgIiCsEghZRSSgkACGF0sAdCzKp4GbgGPtKzfRlA0TTD9bpnH656rQOSyLN0l6VpAarX9zUAXhVZVnAJmKq6rtyvCNFsUSx82yi4+GE/gFTH8wfD4dnZ4FCaAy/T7Wq5CTYxOL/809IAZJFst0nBgWotHxNycAtEMVDVbbt2XEATwYsAxPDPzq7eXQ5cQ69XusrTaDG+mU4nG2jv3KEDkCXBfB6kFVKsjqAYKGAAkIhiyn3XsXL+45WRZreHl+8/XHX1wwdlto+X0/Hn8d14A+3Wu0tVzcNwPZmu9yVidgqosg2GAUBiQhRuWbpKcaPnPg6ACDX9s4vL8753rx+q3WY5Hd/cThYbgPXkd2/LijgOFosgK5FiRvGm2+v7zr1GRaGUNOt/AQBTvdU7f3c1cNWHz6pocjO+u5uuYgCA5a+lT6s03YVRUgggbDZ2ex/+rtjfnsvm2HUUAFPNaQ/Ory5c42ECnm5uf7ueroI6xwj/Z6EjWVVFXpRcAmBC9V5iDB62HOdciGfjxwkAVG91B2fDs56BJccIQEC128xvv3xZRrs6y0v2E1THolqHBFDS9iEDkwiAc85F4yE8CoCw4fVHlxd91yIAAkBWeZYEk8/j6XKzP7jX7wp/pGimwb76SsHvfdTrLUCtsw8fLt51DQIAGEBW8Wpyd3d9PQ/Tsona9bsXfxl8XTIhhRDN7YGjFlBbo7//47zbOrTmZJVur3/9eLfYhI1ZPtjDDx+u3l3a9RUIgFfV0TVoAkCAmOmPPvxtaFIQGEDyKg3nX/7977s4rxr9iu6d/+Of7/queW+BKs+LsuI/YAGimG672+936gxDVtkuXIyvb8bzRutjwuzuYHR54an1tEKKfZzs87K5RdQIIInl9XvtlgmHAF9F88n4+tMsbNIPkhpOZzTst1tGPSsWRb7dBNEu+xELMKc/HPj6Q+KVB9f//fFusmpOLpDa6g8vR11bp6gOvzIPV4tVEGdVczxuBNC8wfnAq59KSOB5tPzyX7/Oo7z5UaRqd0dXF0PfUFDdSQK+D+bTRbDLXu0HECiWPzjrtzQMALIs83hxd/Plev28egSIUNXqnp1fjLot/X5OmcfLyWQRvjorRphSo90fjfquhgFA5PF6fvfxehE23D5SmGE6Xu/84rzXthhAnTPzbDu9vp6Fx1LC5wGoarj94fl519GwRFJky0+frm9ugsb9r9l+r9fvDXpd137YNlDt1+OPN0Hztm0CwIre6vbPhmeeoiABIotnv/3np3m4a1pJze4MLy9H3XbLNhjFhwyVp9Fi/Pkmz18NgBTdaXe7Hd9GIDnP49Xky2+fgqphJyPb6/Qv3r8/bzuGqiCQAmGQvEqD1WI2mb/wDsHzAEbLc1uWgQBQlQSL8afx7Pt+JKGKwpiqKKbrd4aXw36rbowiKXlVZPtoeX23jF56heHZJWCW67mHTnu5+vLp+vebzfe+jBi243ieo2mm5fjdjlMnYgAI5ftku1lMx9ebxsbEcQuYLdfW6i5ruf70H58mi/33w9RWtzcYjXoGZYzphqE9zCWyaD2/G99Np03n5iUA3bR0VjuTKlmMx6vdtwZACLDh9oaji/cfRhZCSGKMMJKiLln34XJ+9/nL7WqbvPgSybOOCCuqqiqH4yQlIKoSXqsAAIIIJYSaXn8wGl2cD765VIqqzDfL6ezu5nYWNHdoj1sAY/KQyRLDHxTGruBEZQxLkIhghamabjme3+527SfXlmEYzqeT2Wq22O6LIz74mAXqpyKHAa1RZq3CXamYlk6lFJhQVbNs2zZ0wzCfVsqQLu/mt3d3i10c78uX9T8LIKWoquqQxVBniN3lOiyUlmspUghMFU1veZ7FCEaEYokeZ908mn++uRlP11XFm8uhlyzA8/ThxQ9i+KAZVpizlvcIwPfuKwUpDo1ZgUDKcHY3vh7fzXcn6G4EEHmyDfy8/g6rNlJ1OympbZtUCoEJZartPFQqdSlcFXleFUUZ3Px+fTsPTtb/PEAWLnW/fuNAIgZUt7y8IprOiJQSIUKp9vQ6kUVRkiS7zeTmbhEcbcqcAJCHitZN6hiCFcwMm3OJKMEIpEQIMMboybOgLFqtNptgu14u181J+4kAskioGYRJoQCSiNw/dT0kR/UQuN9gCKSUVbpdzOer1XqzCcL4hBe4XgCo8iTcrJaeoTKMv/3um/vmvCqLoqiqYh8sF8tNEIRhkjT3hU8G4JBG69mt7ru2duxiXGZRGCZplibhOgiSZLdLs5ed34sAIHmeBFOPFcCOAvAsXk4X6yjZJVEU74qirE55g+9FAClBpOHCYVIxdAYAAg4lft2Gv1efp9F6cjNZBFGSJPs0l/LZlu3rAaB+Oj1TiaZREyNAGGOMAEBUZcUlSCFkVRbFPt5Mbyerbbzb7/NT3N7pAMDTrYqBEukwhSjskGrgItplXIgyS9N9XuZpuF6st7s0y5qeyv0wgCwiLCTB3DM0VTdIPU6mm1Vc8iqLgiDOKl6mSZykRXm8H/1DAFDuJAeCeWwbhmlzS0MAEG9m06Coyt1msQgzLmVVlCWXom7O/rEAlRACM0XElmmYdsvUGIV8Ox0fAObLMJOAToi3PwgggUsUKbC3DV3VDUtnlECZrBaruORVGm3C0+PNDwEAgCz3qNiqTFEUxhghGHiexEm9CXcvprsnypFnTwhhSinBCOPDKxBSVCXnUoLgvPrBY/cmb/Imb/Imb/Im/+/kfwHXJJDssr8NLwAAAABJRU5ErkJggg==\" style=\"height: auto\">\n",
       "              <figcaption style=\"font-size: 0.6em\">8</figcaption>\n",
       "            </figure>\n",
       "        \n",
       "            <figure style=\"margin: 5px !important;\">\n",
       "              <img src=\"data:image/png;base64,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\" style=\"height: auto\">\n",
       "              <figcaption style=\"font-size: 0.6em\">5</figcaption>\n",
       "            </figure>\n",
       "        \n",
       "            <figure style=\"margin: 5px !important;\">\n",
       "              <img src=\"data:image/png;base64,iVBORw0KGgoAAAANSUhEUgAAAIAAAACACAAAAADmVT4XAAAKhUlEQVR4nO2aWXfbuq6AAVLUPNmKHSfpsHvO2uus+/9/z173du80zeBJ80QS98Fxk7RxLbduz4vxoAeKIj+BIAhAAjjJSU5ykpOc5CQnOcl/WXB4T4aMM84YPj6ltVZaKU0/BWAM7slMy3Y93zUNZAgA0NVlVRZF/VPzHwDA7TBKJueJb3HGAADK1Xw+v6Pmd2nA9JPp5bt3lyNHcAYAkN7eXH9iXVX+DgAE4Y1mV2/ff3gzdsWmrQwdwWXbY0M/YQfDAJBxJ77444/Ly1kSbhu9s544F/7dKivaXwuAyC0/efvnn8kotp+anTGzvNHs5vof+asBuHDj6bs//+NbNnv2bGC6o/Ora1+u018MIJwwmV68eWMBgH7Cchw3ThKvn9+ufngzDgJgVjSZzSZb9T9aHAKCZVlCLi4+52nXqV8I4CZX767G9mv3TDc+u5x396vsVwJ4Z2/fX0aPfbdbjjZu3HDHl5kS0P6YIQ4CMLyzyzfnIZfGMxMAIgBE4FZ4Xmlo8uxXASCa3mhyPvbE67ctP2lUl6VFq9XhDmkvAAIath8nZ4Ft4KvjMydWrM/zOqvbw+1ggAaYsP1oNLIFf+UmIYAZcksWec1B/gIABGY6bhCEjCF9owECQhLMcrp0XaPuu+MDAOOm7TiuCU/2/xUDY8JMZuuGtNINEb3e70cBkBnCFMYL9eM3kRQLphVagvO87fuD1mGABgxTGOz5hPhKIGcn5Pq2YcyzEg46nPdrwDAtS7B9Y4rIinwDUAgOutd7eh8EwC3HsV6swGaRn5AQAZjj+LxvemYYiE0vByPsBWCmG0a+/XILktZKS6k0cINzjsgMBBFNSm25rm3nRTV4O+wHsMNxEm3DMNj4Ii1l2zV106PpOJbBmUECwYqurCgOA+8B5REBLD+OA+dRA4iggbRs26oqsqxlThi6lhBCa5Mxn4XjyHdt3g0PVIdsQ9MUz+IgUrJv6rIo0tW6Zt5oFDiObSsLBLMtCi2O1KwXxwMg2VZl1fSSP+493ZR5ked5nq2zmrnrVRAEYaBQmIgAYVdXxdIz+VBnsBdA1SvbiqZVv03JVHF3u1inaVmWZYeW7/nJZNqRsDeAphuEviuOCFCABn9WdiYQIQKq7NNfN/NVVnZdp9AwTWf2ttOG4wMAAKFwfM+xxFAr3A9Q9T0mi6Kxv2jg/v/+926Z14qIAJFZuWTc8iPNAUCCcHzfc51Wwuun96EAGhQ567yo3MeclLp8cX+3zL+MnnPHs91o1DNAQG66QRRFYdeoQc5oSEjW1VVZVQ0zGQAAo76tq+cpaTF3hBOfdQYnQG550fhsmuusbo+iAQCgvq3KsjK4AQDAELSi58dRvxbMSS5qkwEgN0GNzxelxmFHwqCgVLZVlrqmMBEAiIiAGc+CH1UABher3GIMGUcGo7NZKfthafMwgCZbjGzTtBCA2raTSgP7AoBKaWM+X6xMNAUC5+CPzrIqWwyqvgwCUNXixuKmT6hll5d12z8vzBBAV6bz2xgpZAYAGHYwzvMH83gAVN2bxPwzDdTkq7Rs5deVoa6Yf3I08k3yJPxRsfKtYwLMtRTJRcL6fPGwLBqpv7IvVS9vTLSDGACAuB2OYk8cEaDVkoLLh7Dulvef52nTq68CZNWs70xzfKEBAIhZru/axhEBlCLj7p9Y2v1q/vBpWfb6KwBqi6UVZM1GMciEMNiw4HhYiUZDVz78pW5MWaTp4iHvvsnBZMXNcf7F9WxqiMcDAKB2SWufq7ZpqrLqvl4CUC1YadltWklrKdWwRHEwQJ9V9wZqpbVS30wPQL0qqkY+thMBMs77YwJQ990Dlkg37TYlQS5sx3Fs+bWp/ATAAOk6ufEOyIUTxXEUqm3L7wF4eltuIUuScdwB9L8RwDLFJm5Ezrg1Ts6SVuu9QcGRAJAzJxkH1iZ6RmTgRcmk7uVeOzyWBpwoufzXZfiUQNmjWaqp31s/PBIA868+fHj/YfQ0nIguG+ry9W8CMKO3//OfN9OYAwARAgDzkrpd3bxW1vlZgFfOGB6ML//49yx4yqIJuGnb5v4D6WAA5KYpDMaeOAg0H83Op2exjU/zqSZP07LbGxYergHhh6EjOCJuawRaYfhmOgosDkTbxm79+ePfd/neA+lQADS90XQSWQZ/ApCSvItJaHEEoEfN6Gbxz18fb1N5RACGjHNhx+dXF7EjONsCkOy1fZb4L2JAWS1v/r5elUcEMCzLsm3HiycXs8h+ASCVGY3cJ4MjrZsiXS7W2/P5KABWGMdRFEVRPB65psGelkApbbjR1gsCkpJdlq7TtOr3xwSDAdCMr2bn59NxYLuOwdkzg9dETNiCkIAAkEh2ZZpmWfFt4PQTAGBF5+/fvbk689hmDz7bhkiI20IuAoLumyIvqrrfHw4cYgNOPDm/uJzsuv9sMq36rm3bQbkh29/lUbjth2Hg7rz/fA8QaSIalJ4PBkBm2q79HYU91zZuZMi4B3w950IYIBX/erbHl3/WhMgYY2zQyx3giBAZglb8xXLv7vxFAwj4nQr+cADSB/ytQKTV9uuFEFyrfpdLPABAdm07wLM8zf84p+UL1VS7HhwMQKqvy6qVA1UAtF0nww2tHrtdJbPhGlBtmRf13jAbAACQcWF7dgMAGASB2XY7I6PhALJKV1GiGMDeAiByYYeTN22NAOC4DnwnqToAoFwGwVQL+D4BIQAzLH/yXsUtY9CrvqvkbtMZDtDnCyfMu73ehQCZYQeKgre9wala39+XcvcXlAMAqrU9WhWNAzu+3z3OjwDMAGDmqFLCoOwGq/V3PMchRlisF/efx2MhDIZAL33flyshATIDmeF1WhiUUbZKi/IIRqj7Op//E8A0Hsd88+3w8b02Lu/J721ucqXI4MSKSVq1dbFr6Yb7AS2xXHyE4uIdOebjZK8rFoGQIXICjqDCJG/afLVr3AM8oYJ6Tc160duhuy/hQUAEQkQwnSipUn9n1fIAACJA1TW9HbgQCGRsG5YR0SYC0ES4+d0Nv4RMwnJ937OOYAMApFolJZi8eUgiz3Osx4eRZC9l37VV03M/jt3n5zDjhhAG37l7D0pMtCIi0OXt7OJyNo359mHqq6auymy+qs3ZB+PFV04iei2b/DEA0ERaVvO/J2//3WgwzMdXbYqsyPP04fpz4fyLhS/+9dBaKal3H+OHARBp2RYgFhUITlqFJgD0VZamWZau7j5eZ66Oz6zeNgwGRMgASKu+/84p/kP1gX5peZbK5qNAAICs8zwriiydf7orHG/slGPfsYXBuLANMLlu62b3X04/VqCQ+S1m12FgGwCgurqqq6Yq82XWyFur/jQexaFr27bHDQCh66Jsd+aIP1ghaebtvWVbAhGIpOz6vu+7rmkkLfr7UTKZJpEfBCPTAYC2SPN6ZyDzgwCdLBlyjoBAQFqTIkVEBDorbr3x+XI6isK4MSyfsnS5yupja0DrXSOShq5TqsnCMEybIpSfP35+SKud5bojFiqfpE5Zu/ZcL7gee2r56fp+Ve4M5X4JgK6hNoUwLc8xdZ2lRdPsBBj+Y/MBsjknGDLGGGkllf6OJzrJSU5ykpOc5CQnOcl/W/4frQNEhm9M7dsAAAAASUVORK5CYII=\" style=\"height: auto\">\n",
       "              <figcaption style=\"font-size: 0.6em\">2</figcaption>\n",
       "            </figure>\n",
       "        \n",
       "            <figure style=\"margin: 5px !important;\">\n",
       "              <img src=\"data:image/png;base64,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\" style=\"height: auto\">\n",
       "              <figcaption style=\"font-size: 0.6em\">0</figcaption>\n",
       "            </figure>\n",
       "        \n",
       "            <figure style=\"margin: 5px !important;\">\n",
       "              <img src=\"data:image/png;base64,iVBORw0KGgoAAAANSUhEUgAAAIAAAACACAAAAADmVT4XAAAD1klEQVR4nO2au5LjNhBF+wGAL2ml9SNw4CoHm/j/P8aZy+Vgdm3v7JZEiW+gHUhfgDs1SHhzUocXDfB2U0S7du3atWvXrl27Couxy8U5xxZjSpYs6w4OA3DnH09+vd+HeVm2LAIQIPz86ddm+PrPt75PW9YdQAD/06ffj9e/vfA2cxEHTr/8dv62Xq53L3l3wAAktB9+OMcuOOHMcs7kfkpDVdd1ULbcTQADBO9VKMWYMm+BAbgQgvfKlpKVcIDVee+9E+A4QwBYRJ33zglTrgEIALM655yqIE+BAIjz3jmV7C2IAmioquCg54cAxNdtUznJXX0cIDSHrnZs2QWIAvi6bStHZgQQIACuauqgwBYEAdiFqgrKZEiwQhxQX1VemaBgB23DxzFsZsmyKxE6iNQ5Faa0LfNW4nXMoqrCto63flxjAQBmZmFbbt9f+ykWieX0BPi6rKUAmG0b+mvKPYzeAIBSXDILgNBIRkxMSB6CAYiJWFgLATBZShaNgEQCOmBxmaY5ry19CChCZuE03y/jdcrrS1EAYuY0X2W8DGu+BZADzGnuabiUc4BsnXWYlty+jPAitBRjRCIRehAxM9IVvMFBxCJSqjd8EpR1gLCu4A0AiIrFcmIispQSZAK6DVPc1i0zDBERHEhsm22YCr2MiCht003vtyk/EKEOxInsdi0FwMK2xq3vEQCsNQuOtnKBRELTtrJYjLltGQigoTsejIBACgJI1R67GKExJTqi6braY78POeBCFUyZkBERlAnFeR+FqdSQ6jmgIMwBdFSrYAlAb0N14KgeBWAXghNsBTAHvPdeGKpBBEBdqCr3GFTmK3MbMonUTdNUQcEayANgUV+fTseuuhc6CdW3p4/n08HXXrG+INeB0J4/no6dBsVSea4D4qqu6+qKxeIGpeLMXSDqQ/BeKS7jOK3v356zqKoypXW83YYS84FHT2xxHm79AMwpsx1gEWamtI5DmQnJczJhcZlGKBVjvSFbXOd5yf52DwCYERETxW1ZSmxDer6EzeK2Zn+uwQAeSinGBKwADGAp5f974g0AjMAJzVvMCaEpHbwEggbTbIBHCmANdVM5pMHL/X0iJjP2dXdoQplPNmZm4pvu0IYCDpiZmRG7uuua3D+yEWUnIksxJlInbXc8NAUcsLhtSTzJ8XT60FXvXgOPAWkioqrp2hpZgsxLU1zm8d4TTasxdBDl1sC23L+//Gn678vrdUBCaSZAXMfr5z+Wv/Ty5fN/r/f1vQEsbaOl8eXI062/DwhA5vIxsah3SrbFFBMSiXbt2rVr165du3aV1v/gO6npsBCLegAAAABJRU5ErkJggg==\" style=\"height: auto\">\n",
       "              <figcaption style=\"font-size: 0.6em\">1</figcaption>\n",
       "            </figure>\n",
       "        \n",
       "            <figure style=\"margin: 5px !important;\">\n",
       "              <img src=\"data:image/png;base64,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\" style=\"height: auto\">\n",
       "              <figcaption style=\"font-size: 0.6em\">3</figcaption>\n",
       "            </figure>\n",
       "        \n",
       "            <figure style=\"margin: 5px !important;\">\n",
       "              <img src=\"data:image/png;base64,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\" style=\"height: auto\">\n",
       "              <figcaption style=\"font-size: 0.6em\">8</figcaption>\n",
       "            </figure>\n",
       "        \n",
       "            <figure style=\"margin: 5px !important;\">\n",
       "              <img src=\"data:image/png;base64,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\" style=\"height: auto\">\n",
       "              <figcaption style=\"font-size: 0.6em\">6</figcaption>\n",
       "            </figure>\n",
       "        \n",
       "            <figure style=\"margin: 5px !important;\">\n",
       "              <img src=\"data:image/png;base64,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\" style=\"height: auto\">\n",
       "              <figcaption style=\"font-size: 0.6em\">7</figcaption>\n",
       "            </figure>\n",
       "        \n",
       "            <figure style=\"margin: 5px !important;\">\n",
       "              <img src=\"data:image/png;base64,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\" style=\"height: auto\">\n",
       "              <figcaption style=\"font-size: 0.6em\">3</figcaption>\n",
       "            </figure>\n",
       "        \n",
       "    </div>"
      ],
      "text/plain": [
       "<IPython.core.display.HTML object>"
      ]
     },
     "execution_count": 5,
     "metadata": {},
     "output_type": "execute_result"
    }
   ],
   "source": [
    "count = 8\n",
    "\n",
    "def get_images_and_labels(df, ids):\n",
    "    image_datas = df.loc[ids]['png']\n",
    "    images = [Image.open(io.BytesIO(image_data)) for image_data in image_datas]\n",
    "    labels = df.loc[ids]['value']\n",
    "    return images, list(labels)\n",
    "\n",
    "def get_some_random_images_and_labels(df, count):\n",
    "    image_ids = RNG.choice(df.index.unique(), count, replace=False)\n",
    "    return get_images_and_labels(df, image_ids)\n",
    "\n",
    "train_images, train_labels = get_some_random_images_and_labels(df_train_images, count)\n",
    "test_images, test_labels = get_some_random_images_and_labels(df_test_images, count)\n",
    "\n",
    "display_images_grid(train_images + test_images, captions=train_labels + test_labels, col_count=count)"
   ]
  },
  {
   "cell_type": "markdown",
   "id": "49a9c189-4620-4fff-b12c-0553540cc48d",
   "metadata": {},
   "source": [
    "# Core logic"
   ]
  },
  {
   "cell_type": "markdown",
   "id": "3e1f9cdd-a16c-4406-9eb6-69a653b84175",
   "metadata": {},
   "source": [
    "## Hyper Parameters"
   ]
  },
  {
   "cell_type": "code",
   "execution_count": 149,
   "id": "8d1303e2-9a31-466c-8eb6-48bd7a0a7fb8",
   "metadata": {},
   "outputs": [],
   "source": [
    "# HP_SIGNAL_VEC_LEN = 2000 # aka SBV\n",
    "# HP_SIGNAL_VEC_NON_ZERO_BITS = 9\n",
    "# HP_SIGNAL_ENCODING = f'{HP_SIGNAL_VEC_LEN}/{HP_SIGNAL_VEC_NON_ZERO_BITS}'\n",
    "\n",
    "# HP_POINTS_COUNT = 60_000\n",
    "# HP_POINT_NON_ZERO_BITS = 50\n",
    "\n",
    "# HP_CLUSTER_ONES_COUNT_THRES = 7\n",
    "# HP_CLUSTER_CREATION_ONES_COUNT_THRES = 8\n",
    "# HP_CLUSTER_LEARN_STATE_IDLE_CYCLES = 10\n",
    "# HP_CLUSTER_PREPROD_STATE_IDLE_CYCLES = 30\n",
    "# HP_CLUSTER_LEARN_STATE_BINARIZATION_SCHEDULE = (10, 10)\n",
    "# HP_CLUSTER_PREPROD_STATE_SIGNALS_PROCESSED_THRES = 50\n",
    "# HP_CLUSTER_BINARIZE_THRES = 0.75\n",
    "# HP_CLUSTER_ACCURACY_THRES = 0.98\n",
    "\n",
    "# HP_PIXELS_COUNT = config.sample_size ** 2\n",
    "\n",
    "HP_SIGNAL_VEC_LEN = 256 # aka SBV\n",
    "HP_SIGNAL_VEC_NON_ZERO_BITS = 6\n",
    "HP_SIGNAL_ENCODING = f'{HP_SIGNAL_VEC_LEN}/{HP_SIGNAL_VEC_NON_ZERO_BITS}'\n",
    "\n",
    "HP_POINTS_COUNT = 60_000\n",
    "HP_POINT_NON_ZERO_BITS = 32\n",
    "\n",
    "HP_CLUSTER_ONES_COUNT_THRES = 4\n",
    "HP_CLUSTER_CREATION_ONES_COUNT_THRES = 5\n",
    "HP_CLUSTER_LEARN_STATE_IDLE_CYCLES = 10\n",
    "HP_CLUSTER_PREPROD_STATE_IDLE_CYCLES = 30\n",
    "HP_CLUSTER_LEARN_STATE_BINARIZATION_SCHEDULE = (10, 10)\n",
    "HP_CLUSTER_PREPROD_STATE_SIGNALS_PROCESSED_THRES = 50\n",
    "HP_CLUSTER_BINARIZE_THRES = 0.75\n",
    "HP_CLUSTER_ACCURACY_THRES = 0.98\n",
    "\n",
    "HP_TOY_IMAGE_SIZE = 10\n",
    "HP_TOY_IMAGE_SQUARE = HP_TOY_IMAGE_SIZE ** 2\n",
    "HP_TOY_IMAGE_KERNEL_SIZE = 8\n",
    "HP_TOY_IMAGE_KERNEL_SQUARE = HP_TOY_IMAGE_KERNEL_SIZE ** 2\n",
    "assert HP_TOY_IMAGE_KERNEL_SIZE <= HP_TOY_IMAGE_SIZE\n",
    "HP_TOY_IMAGE_ONES_COUNT = 8\n",
    "\n",
    "HP_PIXELS_COUNT = HP_TOY_IMAGE_SQUARE\n",
    "\n",
    "HP_USE_TOY_IMAGES = True"
   ]
  },
  {
   "cell_type": "markdown",
   "id": "24850512-c1a7-4d52-a17a-bf1a5f7641a7",
   "metadata": {},
   "source": [
    "## Types"
   ]
  },
  {
   "cell_type": "code",
   "execution_count": 7,
   "id": "62aec35b-11c1-4d9a-9cdc-b7315222c610",
   "metadata": {},
   "outputs": [],
   "source": [
    "class ClusterState(StrEnum):\n",
    "    LEARN = auto()\n",
    "    PREPROD = auto()\n",
    "    PROD = auto()\n",
    "    DEAD = auto()\n",
    "\n",
    "class ClusterMeta:\n",
    "    def __init__(self, cluster_ind):\n",
    "        self.state = ClusterState.LEARN\n",
    "        self.cluster_ind = cluster_ind\n",
    "        self.cluster_key = ()\n",
    "        self.output_bit = -1\n",
    "        self.input_bits = ()\n",
    "        self.nu = 0\n",
    "        self.ones_count = -1\n",
    "        self.signals_learned = -1\n",
    "        self.signals_to_learn_till_binarization = 0\n",
    "        self.binarization_schedule = ()\n",
    "        self.stats = Counter()\n",
    "        self.verify_image_ids = {}\n",
    "        self.alarm_cycle = None"
   ]
  },
  {
   "cell_type": "markdown",
   "id": "f70e4714-7395-4a8a-93f7-7248507d6e9f",
   "metadata": {},
   "source": [
    "## Memory"
   ]
  },
  {
   "cell_type": "code",
   "execution_count": 8,
   "id": "385867d3-df1a-44cd-a8b6-ab94e752aad3",
   "metadata": {},
   "outputs": [],
   "source": [
    "def hdv_array_log_like_grow_policy(size):\n",
    "    k = math.log(size, 100_000)\n",
    "    new_size = size * 2 if k < 1 else size * 1.1\n",
    "    return int(new_size)\n",
    "\n",
    "CLUSTERS = HdvArray(HP_SIGNAL_VEC_LEN, np, initial_length=10_000, dtype='f', grow_policy=hdv_array_log_like_grow_policy)\n",
    "CLUSTER_MASKS = HdvArray(HP_SIGNAL_VEC_LEN, np, initial_length=10_000, dtype='f', grow_policy=hdv_array_log_like_grow_policy)\n",
    "CLUSTER_METAS = {} # key - cluster index, value ClusterMeta instance"
   ]
  },
  {
   "cell_type": "code",
   "execution_count": 9,
   "id": "944a2145-43bc-4ece-b640-e4562074deaf",
   "metadata": {},
   "outputs": [],
   "source": [
    "def gc_memory():\n",
    "    gc.collect()\n",
    "    \n",
    "    if cp.cuda.is_available():\n",
    "        cp.get_default_memory_pool().free_all_blocks()\n",
    "\n",
    "def clear_memory(with_gc=True):\n",
    "    CLUSTER_METAS.clear()\n",
    "    CLUSTER_MASKS.clear(is_hard_clear=True)\n",
    "    CLUSTERS.clear(is_hard_clear=True)\n",
    "\n",
    "    if with_gc:\n",
    "        gc_memory()"
   ]
  },
  {
   "cell_type": "markdown",
   "id": "540c8953-6ec6-41ad-945a-9f397989b501",
   "metadata": {},
   "source": [
    "## Combinatorial Points"
   ]
  },
  {
   "cell_type": "code",
   "execution_count": 10,
   "id": "9dbcbcad-eb00-4479-a32b-ae36b8373cce",
   "metadata": {},
   "outputs": [
    {
     "name": "stdout",
     "output_type": "stream",
     "text": [
      "60000 POINTS loaded from database (ROWID=1)\n"
     ]
    }
   ],
   "source": [
    "df_points = pd.read_sql('SELECT rowid, points, output_bits FROM points WHERE encoding=:encoding AND count=:count AND non_zero_bits=:non_zero_bits', \n",
    "                        params={\n",
    "                            'encoding': HP_SIGNAL_ENCODING,\n",
    "                            'count': HP_POINTS_COUNT,\n",
    "                            'non_zero_bits': HP_POINT_NON_ZERO_BITS}, \n",
    "                        con=transfs_db_con)\n",
    "\n",
    "if len(df_points) > 0:\n",
    "    POINTS = pickle.loads(df_points.iloc[0].points)\n",
    "    POINT_OUTPUT_BITS = pickle.loads(df_points.iloc[0].output_bits)\n",
    "    assert np.all(POINTS.sum(axis=1) == HP_POINT_NON_ZERO_BITS)\n",
    "    assert POINTS.shape[0] == POINT_OUTPUT_BITS.shape[0]\n",
    "    print(f'{POINTS.shape[0]} POINTS loaded from database (ROWID={df_points.iloc[0].rowid})')\n",
    "else:\n",
    "    POINTS = []\n",
    "    POINT_OUTPUT_BITS = []\n",
    "    output_bits = RNG.choice(HP_SIGNAL_VEC_LEN, HP_POINTS_COUNT)\n",
    "    \n",
    "    for output_bit in output_bits:\n",
    "        point_vec = np.zeros(HP_SIGNAL_VEC_LEN, dtype='f')\n",
    "        non_zero_inds = RNG.choice(HP_SIGNAL_VEC_LEN, HP_POINT_NON_ZERO_BITS, replace=False)\n",
    "        point_vec[non_zero_inds] = 1\n",
    "        POINTS.append(point_vec)\n",
    "        POINT_OUTPUT_BITS.append(output_bit)\n",
    "\n",
    "    POINTS = np.vstack(POINTS)\n",
    "    POINT_OUTPUT_BITS = np.hstack(POINT_OUTPUT_BITS)\n",
    "    assert np.all(POINTS.sum(axis=1) == HP_POINT_NON_ZERO_BITS)\n",
    "    assert POINTS.shape[0] == POINT_OUTPUT_BITS.shape[0]\n",
    "    transfs_db_con.execute('INSERT INTO points(encoding, count, non_zero_bits, points, output_bits) VALUES(:encoding, :count, :non_zero_bits, :points, :output_bits)', \n",
    "                           {\n",
    "                               'encoding': HP_SIGNAL_ENCODING, \n",
    "                               'count': HP_POINTS_COUNT,\n",
    "                               'non_zero_bits': HP_POINT_NON_ZERO_BITS,\n",
    "                               'points': pickle.dumps(POINTS),\n",
    "                               'output_bits': pickle.dumps(POINT_OUTPUT_BITS)\n",
    "                           })\n",
    "    print(f'{POINTS.shape[0]} POINTS created from scratch')"
   ]
  },
  {
   "cell_type": "markdown",
   "id": "6438e5f1-7eb4-483c-8572-a32543ab348d",
   "metadata": {},
   "source": [
    "## Pixels SBV"
   ]
  },
  {
   "cell_type": "raw",
   "id": "c0294e1e-250b-45b4-aa7b-8172ed6328c5",
   "metadata": {},
   "source": [
    "SBV stands for \"sparsed binary vector\""
   ]
  },
  {
   "cell_type": "code",
   "execution_count": 150,
   "id": "b1a43c52-4006-4a8e-a97d-507ee8f69ef7",
   "metadata": {},
   "outputs": [
    {
     "name": "stdout",
     "output_type": "stream",
     "text": [
      "PIXEL_SBVS loaded from database (ROWID=2)\n"
     ]
    }
   ],
   "source": [
    "df_pixels = pd.read_sql('SELECT rowid, sbv FROM pixels WHERE encoding=:encoding', params={'encoding': HP_SIGNAL_ENCODING}, con=transfs_db_con)\n",
    "\n",
    "if len(df_pixels) > 0:\n",
    "    PIXEL_SBVS = pickle.loads(df_pixels.iloc[0].sbv)\n",
    "    print(f'PIXEL_SBVS loaded from database (ROWID={df_pixels.iloc[0].rowid})')\n",
    "else:\n",
    "    attempts_to_generate_unique = 10\n",
    "    \n",
    "    for _ in range(attempts_to_generate_unique):\n",
    "        PIXEL_SBVS = np.zeros((HP_PIXELS_COUNT, HP_SIGNAL_VEC_LEN), dtype='f')\n",
    "        \n",
    "        for i in range(PIXEL_SBVS.shape[0]):\n",
    "            ii = RNG.choice(HP_SIGNAL_VEC_LEN, HP_SIGNAL_VEC_NON_ZERO_BITS, replace=False)\n",
    "            PIXEL_SBVS[i][ii] = 1\n",
    "    \n",
    "        crossings = PIXEL_SBVS @ PIXEL_SBVS.T\n",
    "        crossings = np.tril(crossings, -1)\n",
    "        duplicate_inds = np.argwhere(crossings >= HP_SIGNAL_VEC_NON_ZERO_BITS)\n",
    "\n",
    "        if duplicate_inds.shape[0] == 0:\n",
    "            break\n",
    "        else:\n",
    "            print(f'Got {duplicate_inds.shape[0]} duplicate SBVs, retrying')\n",
    "    else:\n",
    "        assert False, f'Failed to generate unique SBVs for {HP_PIXELS_COUNT} pixels in {attempts_to_generate_unique} attempts'\n",
    "\n",
    "    transfs_db_con.execute('INSERT INTO pixels (encoding, sbv) VALUES (:encoding, :sbv)', {'encoding': HP_SIGNAL_ENCODING, 'sbv': pickle.dumps(PIXEL_SBVS)})\n",
    "    print('PIXEL_SBVS created from scratch')\n",
    "\n",
    "assert PIXEL_SBVS.shape[0] == HP_PIXELS_COUNT\n",
    "assert np.all(PIXEL_SBVS.sum(axis=1) == HP_SIGNAL_VEC_NON_ZERO_BITS)"
   ]
  },
  {
   "cell_type": "markdown",
   "id": "de73e165-ba51-4050-b4b8-1af91973f3e3",
   "metadata": {},
   "source": [
    "## lambdas"
   ]
  },
  {
   "cell_type": "code",
   "execution_count": 12,
   "id": "9973a30b-4267-42a8-b61c-5c2c869c902c",
   "metadata": {},
   "outputs": [],
   "source": [
    "fetch_si_xy = lambda si: (si.x, si.y)\n",
    "get_sequence = lambda sequences: np.array(list(itertools.chain.from_iterable(sequences)))\n",
    "get_sequences_reading = lambda sequences, seq_reading_code: list(map(lambda r: sequences[r[0]] if r[1] == 0 else list(reversed(sequences[r[0]])), seq_reading_code))\n",
    "get_xy_sequence = lambda sequence, si_ind_dict: np.array(list(map(lambda si_ind: fetch_si_xy(si_ind_dict[si_ind]), sequence)))\n",
    "get_raw_image = lambda image_id: Image.open(io.BytesIO((df_train_images if image_id < 100_000_000 else df_test_images).loc[image_id]['png']))\n",
    "get_cluster_key = lambda tag, output_bit, input_bits: (tag, int(output_bit), tuple(map(int, sorted(input_bits))))\n",
    "signal_elem_ind_to_xy = lambda ind: (int(ind % HP_COMBI_SPACE_SIZE), int(ind // HP_COMBI_SPACE_SIZE))\n",
    "signal_elem_inds_to_xy = lambda inds: list(map(lambda ind: signal_elem_ind_to_xy(ind), inds))\n",
    "get_cluster_logic = lambda cluster_ind: (signal_elem_inds_to_xy(xp_array_from_gpu(xp.argwhere(CLUSTERS.array_active[cluster_ind]).ravel()).astype('i')), signal_elem_ind_to_xy(CLUSTER_METAS[cluster_ind].output_bit))"
   ]
  },
  {
   "cell_type": "markdown",
   "id": "a6579ab9-f958-4519-9eff-82e5e9b4677f",
   "metadata": {},
   "source": [
    "## calc_seq_ipxy"
   ]
  },
  {
   "cell_type": "raw",
   "id": "c8f25bec-0e1b-4f6d-9fd1-42e8c2d678a9",
   "metadata": {},
   "source": [
    "IPXY = InterPolate by XY"
   ]
  },
  {
   "cell_type": "code",
   "execution_count": 13,
   "id": "442809ec-87e2-47d6-be59-672b60fcd5bc",
   "metadata": {},
   "outputs": [],
   "source": [
    "def calc_seq_ipxy(sequences, si_ind_dict):\n",
    "    unique_pts = {} # Dictionaries preserve insertion order  (https://docs.python.org/3/library/stdtypes.html#typesmapping)\n",
    "        \n",
    "    for sequence in sequences:\n",
    "        xy_sequence = get_xy_sequence(sequence, si_ind_dict)\n",
    "        xy_sequence_fwd = np.roll(xy_sequence, -1, axis=0)\n",
    "        vec_sequence = xy_sequence_fwd - xy_sequence\n",
    "        vec_sequence[-1,:] = 0 # get rid of reciprocal vector which connects tail to tip\n",
    "        vec_len_sequence = np.linalg.norm(vec_sequence, axis=1)\n",
    "        vec_len_sequence_nozero = np.where(vec_len_sequence != 0, vec_len_sequence, 1e-6) # prevent 0 len vectors\n",
    "        norm_vec_sequence = (vec_sequence.T / vec_len_sequence_nozero).T\n",
    "        vec_len_sequence = np.round(vec_len_sequence, decimals=0).astype(int)\n",
    "        \n",
    "        assert len(sequence) == vec_sequence.shape[0]\n",
    "        assert len(sequence) == vec_len_sequence.shape[0]\n",
    "        assert len(sequence) == norm_vec_sequence.shape[0]\n",
    "        \n",
    "        for pt, pt_to, norm_vec, vec_len in zip(xy_sequence, xy_sequence_fwd, norm_vec_sequence, vec_len_sequence):\n",
    "            if vec_len <= 0:\n",
    "                continue\n",
    "\n",
    "            pts = pt + (np.arange(vec_len) * norm_vec[np.newaxis,:].T).T # path interpolation\n",
    "            pts = np.round(pts, decimals=0).astype(int)\n",
    "            pts = np.vstack([pts, pt_to])\n",
    "            unique_pts.update(map(lambda p: (tuple(p), 1), pts))\n",
    "\n",
    "    return np.vstack(list(unique_pts.keys()))"
   ]
  },
  {
   "cell_type": "markdown",
   "id": "2fbb6298-8d85-4d7b-bd1b-db831bd714d0",
   "metadata": {},
   "source": [
    "## calc_seq_bv"
   ]
  },
  {
   "cell_type": "raw",
   "id": "d7c672d8-825f-4a48-ae5c-6c4a4a68b901",
   "metadata": {},
   "source": [
    "BV - binary vector with one-hot encoding"
   ]
  },
  {
   "cell_type": "code",
   "execution_count": 14,
   "id": "bf069dce-adf8-453c-be28-b55a61f97627",
   "metadata": {},
   "outputs": [],
   "source": [
    "def calc_seq_bv(seq_xy):\n",
    "    seq_xy = xp_array_to_gpu(seq_xy)\n",
    "    seq_xy = seq_xy * (HP_COMBI_SPACE_SIZE / config.sample_size)\n",
    "    # Leave only points which fit into square defined by HP_COMBI_CLUSTERS_SPACE_SIZE,\n",
    "    # use filtering instead of clipping because clipping tends to introduce false point clustering at the bounadries\n",
    "    seq_xy = xp.round(seq_xy, decimals=0)\n",
    "    ii = xp.all(((seq_xy >= 0) & (seq_xy < HP_COMBI_SPACE_SIZE)), axis=1) \n",
    "    seq_xy = seq_xy[ii]\n",
    "    ind_seq = (seq_xy @ xp.array([1, HP_COMBI_SPACE_SIZE])).astype(int)\n",
    "    bitmap_vec = xp.zeros((HP_COMBI_SPACE_SIZE, HP_COMBI_SPACE_SIZE), dtype='f').ravel()\n",
    "    bitmap_vec[ind_seq] = 1\n",
    "    return bitmap_vec"
   ]
  },
  {
   "cell_type": "markdown",
   "id": "8a7dc09c-d4b0-4fbd-a76d-92684194d275",
   "metadata": {},
   "source": [
    "## calc_seq_sbv"
   ]
  },
  {
   "cell_type": "code",
   "execution_count": 15,
   "id": "6b092598-5634-479f-b788-de7de2b5b22e",
   "metadata": {},
   "outputs": [],
   "source": [
    "def calc_seq_sbv(seq_xy):\n",
    "    ii = np.all(((seq_xy >= 0) & (seq_xy < config.sample_size)), axis=1) \n",
    "    seq_xy = seq_xy[ii]\n",
    "    ind_seq = (seq_xy @ np.array([1, config.sample_size])).astype(int)\n",
    "    seq_sbv = np.where(np.sum(PIXEL_SBVS[ind_seq], axis=0) > 0, 1, 0) # aka Bloom filter\n",
    "    return seq_sbv"
   ]
  },
  {
   "cell_type": "code",
   "execution_count": 16,
   "id": "f929d080-2398-4055-a1d9-0189f89bee39",
   "metadata": {},
   "outputs": [],
   "source": [
    "# def calc_seq_sbv(seq_xy):\n",
    "#     seq_xy = xp_array_to_gpu(seq_xy)\n",
    "#     ii = xp.all(((seq_xy >= 0) & (seq_xy < config.sample_size)), axis=1) \n",
    "#     seq_xy = seq_xy[ii]\n",
    "#     ind_seq = (seq_xy @ xp.array([1, config.sample_size])).astype(int)\n",
    "#     seq_sbv = xp.where(xp.sum(PIXEL_SBVS[ind_seq], axis=0) > 0, 1, 0) # aka Bloom filter\n",
    "#     return seq_sbv"
   ]
  },
  {
   "cell_type": "markdown",
   "id": "76bee177-67c1-4f6d-8ab6-14d652cb5515",
   "metadata": {},
   "source": [
    "## seq_sbv_to_bv"
   ]
  },
  {
   "cell_type": "code",
   "execution_count": 17,
   "id": "3ca199c2-561d-449c-be1a-9662e97ef703",
   "metadata": {},
   "outputs": [],
   "source": [
    "def seq_sbv_to_bv(seq_sbv):\n",
    "    seq_sbv = xp_array_from_gpu(seq_sbv)\n",
    "    pixel_sbv_inds = np.argwhere((PIXEL_SBVS @ seq_sbv) >= HP_SIGNAL_VEC_NON_ZERO_BITS).ravel()\n",
    "    seq_bv = np.zeros((config.sample_size, config.sample_size)).ravel()\n",
    "    seq_bv[pixel_sbv_inds] = 1\n",
    "    return seq_bv"
   ]
  },
  {
   "cell_type": "markdown",
   "id": "5d288799-ded2-4d59-a102-d6fec7581575",
   "metadata": {},
   "source": [
    "## get_seq_bv_pair"
   ]
  },
  {
   "cell_type": "code",
   "execution_count": 18,
   "id": "57e7573e-e617-4e98-b4e7-927032d178b5",
   "metadata": {},
   "outputs": [],
   "source": [
    "def get_seq_bv_pair(df_image, transf):\n",
    "    si_ind_dict = pickle.loads(df_image.inner_si_ind_dict)\n",
    "    sequences = pickle.loads(df_image.inner_sequences)\n",
    "    seq_reading_code = tuple(zip(range(len(sequences)), (0,) * len(sequences)))\n",
    "    seq_reading = get_sequences_reading(sequences, seq_reading_code)\n",
    "    seq_ipxy = calc_seq_ipxy(seq_reading, si_ind_dict)\n",
    "    seq_bv = calc_seq_bv(seq_ipxy)\n",
    "\n",
    "    seq_ipxy_transf = np.hstack([seq_ipxy, np.ones(seq_ipxy.shape[0])[:,np.newaxis]]) # make homogeneous coords\n",
    "    seq_ipxy_transf = (transf @ seq_ipxy_transf.T).T[:,:2]\n",
    "    seq_bv_transf = calc_seq_bv(seq_ipxy_transf)\n",
    "    \n",
    "    return seq_bv, seq_bv_transf"
   ]
  },
  {
   "cell_type": "markdown",
   "id": "1f4341be-05a5-42c1-8c1b-cd855427d724",
   "metadata": {},
   "source": [
    "## get_seq_sbv_pair"
   ]
  },
  {
   "cell_type": "code",
   "execution_count": 19,
   "id": "8d3dbf81-c490-4b1f-8f86-c08a50a2d0b5",
   "metadata": {},
   "outputs": [],
   "source": [
    "def get_seq_sbv_pair_kern(sequences, si_ind_dict, transf):\n",
    "    seq = get_sequence(sequences)\n",
    "    seq_xy = get_xy_sequence(seq, si_ind_dict)\n",
    "    \n",
    "    seq_sbv = calc_seq_sbv(seq_xy)\n",
    "\n",
    "    seq_xy_transf = np.hstack([seq_xy, np.ones(seq_xy.shape[0])[:,np.newaxis]]) # make homogeneous coords\n",
    "    seq_xy_transf = (transf @ seq_xy_transf.T).T[:,:2]\n",
    "    seq_sbv_transf = calc_seq_sbv(seq_xy_transf)\n",
    "    \n",
    "    return seq_sbv, seq_sbv_transf"
   ]
  },
  {
   "cell_type": "code",
   "execution_count": 20,
   "id": "1fa66b17-293e-4681-9058-e2b0ac01d9ab",
   "metadata": {},
   "outputs": [],
   "source": [
    "def get_seq_sbv_pair(df_image, transf):\n",
    "    sequences = pickle.loads(df_image.inner_sequences)\n",
    "    si_ind_dict = pickle.loads(df_image.inner_si_ind_dict)\n",
    "    return get_seq_sbv_pair_kern(sequences, si_ind_dict, transf)"
   ]
  },
  {
   "cell_type": "markdown",
   "id": "aa61025a-f1f8-4b85-9b3b-a28c919b4387",
   "metadata": {},
   "source": [
    "## get_random_toy_image_ids"
   ]
  },
  {
   "cell_type": "code",
   "execution_count": 21,
   "id": "b0f9ed5a-fde1-473f-8f25-895767869647",
   "metadata": {},
   "outputs": [],
   "source": [
    "def get_random_toy_image_ids(count):\n",
    "    result = []\n",
    "    bits_list = RNG.integers(2, size=(count, HP_TOY_IMAGE_KERNEL_SQUARE), dtype='b')\n",
    "\n",
    "    for _ in range(count):\n",
    "        bits = np.zeros(HP_TOY_IMAGE_KERNEL_SQUARE, dtype='b')\n",
    "        ii = RNG.choice(HP_TOY_IMAGE_KERNEL_SQUARE, HP_TOY_IMAGE_ONES_COUNT, replace=False)\n",
    "        bits[ii] = 1\n",
    "        image_id = sum(map(lambda x: 2**int(x), ii))\n",
    "        assert ''.join(map(str, reversed(bits))) == np.binary_repr(image_id, width=HP_TOY_IMAGE_KERNEL_SQUARE)\n",
    "        result.append(image_id)\n",
    "\n",
    "    return result"
   ]
  },
  {
   "cell_type": "markdown",
   "id": "54d7a684-fe05-46e1-8c6e-a1b75279c8d4",
   "metadata": {},
   "source": [
    "## get_toy_image"
   ]
  },
  {
   "cell_type": "code",
   "execution_count": 22,
   "id": "18fd1716-363b-419b-81b4-f91b632785b3",
   "metadata": {},
   "outputs": [],
   "source": [
    "def get_toy_image(image_id):\n",
    "    bits = np.binary_repr(image_id, width=HP_TOY_IMAGE_KERNEL_SQUARE)\n",
    "    bits = np.array(list(map(int, reversed(bits))), dtype='f')\n",
    "    image = np.zeros((HP_TOY_IMAGE_SIZE, HP_TOY_IMAGE_SIZE), dtype='f')\n",
    "    offset = (HP_TOY_IMAGE_SIZE - HP_TOY_IMAGE_KERNEL_SIZE) // 2\n",
    "    image[offset:offset+HP_TOY_IMAGE_KERNEL_SIZE,offset:offset+HP_TOY_IMAGE_KERNEL_SIZE] = bits.reshape(HP_TOY_IMAGE_KERNEL_SIZE, -1)\n",
    "    return image.ravel()"
   ]
  },
  {
   "cell_type": "markdown",
   "id": "47d09d0f-663b-4c6a-a67c-ca314d7bfaeb",
   "metadata": {},
   "source": [
    "## get_toy_image_pixel_coords"
   ]
  },
  {
   "cell_type": "code",
   "execution_count": 23,
   "id": "8759db1c-d34d-4725-b2f8-6cf0e1576d88",
   "metadata": {},
   "outputs": [],
   "source": [
    "def get_toy_image_pixel_coords(toy_image):\n",
    "    toy_image = vec_to_square_matrix(toy_image)\n",
    "    pixel_ij_list = np.nonzero(toy_image) # tuple of 2 arrays (i and j) where pixels are non zero\n",
    "    ij = np.array(list(zip(*pixel_ij_list)))\n",
    "    xy = np.roll(ij, 1, axis=1)\n",
    "    return xy"
   ]
  },
  {
   "cell_type": "markdown",
   "id": "3efadb1b-0890-49dd-a960-a79bc3dbf342",
   "metadata": {},
   "source": [
    "## transform_toy_image"
   ]
  },
  {
   "cell_type": "code",
   "execution_count": 24,
   "id": "6df827de-0961-4886-8249-c4cd20028c89",
   "metadata": {},
   "outputs": [],
   "source": [
    "def transform_toy_image(toy_image, transf):\n",
    "    xy_list = get_toy_image_pixel_coords(toy_image)\n",
    "    xy_list = (transf @ np.hstack([xy_list, np.ones(xy_list.shape[0])[:,np.newaxis]]).T).T[:,:2]\n",
    "    xy_list = np.round(xy_list, decimals=0).astype(int)\n",
    "    ii = np.all(((xy_list >= 0) & (xy_list < HP_TOY_IMAGE_SIZE)), axis=1) \n",
    "    xy_list = xy_list[ii]\n",
    "    inds = (xy_list @ np.array([1, HP_TOY_IMAGE_SIZE])).astype(int)\n",
    "    toy_image = np.zeros_like(toy_image.ravel())\n",
    "    toy_image[inds] = 1\n",
    "    return toy_image"
   ]
  },
  {
   "cell_type": "markdown",
   "id": "c53ad2f3-dc17-4bcb-a9c9-9b44aa1f3a42",
   "metadata": {},
   "source": [
    "## calc_toy_image_sbv"
   ]
  },
  {
   "cell_type": "code",
   "execution_count": 25,
   "id": "d240081d-6785-4dc9-9139-114faf2f88d4",
   "metadata": {},
   "outputs": [],
   "source": [
    "def calc_toy_image_sbv(image):\n",
    "    assert image.shape[0] == PIXEL_SBVS.shape[0]\n",
    "    mask = image.astype(bool)\n",
    "    active_pixels = PIXEL_SBVS[mask]\n",
    "    return np.where(active_pixels.sum(axis = 0) > 0, 1, 0) # aka Bloom filter"
   ]
  },
  {
   "cell_type": "markdown",
   "id": "33dcc7c6-f12f-4c92-b55e-3901f92796ce",
   "metadata": {},
   "source": [
    "## toy_image_sbv_to_bv"
   ]
  },
  {
   "cell_type": "code",
   "execution_count": 26,
   "id": "b4c1ec61-f00f-447e-9cf1-a161ef102b4f",
   "metadata": {},
   "outputs": [],
   "source": [
    "def toy_image_sbv_to_bv(sbv):\n",
    "    sbv = xp_array_from_gpu(sbv)\n",
    "    pixel_sbv_inds = np.argwhere((PIXEL_SBVS @ sbv) >= HP_SIGNAL_VEC_NON_ZERO_BITS).ravel()\n",
    "    bv = np.zeros((HP_TOY_IMAGE_SIZE, HP_TOY_IMAGE_SIZE)).ravel()\n",
    "    bv[pixel_sbv_inds] = 1\n",
    "    return bv"
   ]
  },
  {
   "cell_type": "markdown",
   "id": "454d74a8-397e-42b6-af1e-18437ef2f791",
   "metadata": {},
   "source": [
    "## .lab hdc"
   ]
  },
  {
   "cell_type": "code",
   "execution_count": 27,
   "id": "8a77cf8e-74e7-408e-83ed-bf28a26b2875",
   "metadata": {},
   "outputs": [],
   "source": [
    "# hdc = Hdc(10_000, np, dtype='f')\n",
    "# hdc.bundle = hdc.bundle_noties\n",
    "# hdc.cos_sim_threshold = 0.055\n",
    "# hdc.hdist_threshold = 4700\n",
    "\n",
    "hdc = Hdc(1_000, np, dtype='f')\n",
    "hdc.bundle = hdc.bundle_noties\n",
    "hdc.cos_sim_threshold = 0.10\n",
    "\n",
    "# hdc = Hdc(2_000, np, dtype='f')\n",
    "# hdc.bundle = hdc.bundle_noties\n",
    "# hdc.cos_sim_threshold = 0.10"
   ]
  },
  {
   "cell_type": "code",
   "execution_count": 28,
   "id": "69ac53e2-f39a-4e59-abfd-2b5eeb834122",
   "metadata": {},
   "outputs": [],
   "source": [
    "PIXEL_HDVS = hdc(config.sample_size ** 2)\n",
    "PIXEL_HDVS_NORM = hdc.normalize(PIXEL_HDVS)"
   ]
  },
  {
   "cell_type": "code",
   "execution_count": 29,
   "id": "af16ae38-e56f-48df-85c5-426649ab275a",
   "metadata": {},
   "outputs": [
    {
     "data": {
      "image/png": "[encoded data removed]",
      "text/plain": [
       "<Figure size 1200x480 with 2 Axes>"
      ]
     },
     "metadata": {},
     "output_type": "display_data"
    }
   ],
   "source": [
    "image_id = RNG.choice(df_train_images.index)\n",
    "image = next(df_train_images.loc[[image_id]].itertuples())\n",
    "si_ind_dict = pickle.loads(image.inner_si_ind_dict)\n",
    "sequences = pickle.loads(image.inner_sequences)\n",
    "seq = get_sequence(sequences)\n",
    "seq_xy = get_xy_sequence(seq, si_ind_dict)\n",
    "ii = np.all(((seq_xy >= 0) & (seq_xy < config.sample_size)), axis=1) \n",
    "seq_xy = seq_xy[ii]\n",
    "ind_seq = (seq_xy @ np.array([1, config.sample_size])).astype(int)\n",
    "seq_bv_true = np.zeros((config.sample_size, config.sample_size)).ravel()\n",
    "seq_bv_true[ind_seq] = 1\n",
    "\n",
    "seq_hdv = hdc.bundle(PIXEL_HDVS[ind_seq])\n",
    "seq_hdv_binary = hdc.to_binary(seq_hdv)\n",
    "seq_hdv_bipolar = hdc.to_bipolar(seq_hdv_binary)\n",
    "seq_hdv_bipolar_norm = hdc.normalize(seq_hdv_bipolar)\n",
    "pixel_hdv_inds = np.argwhere((PIXEL_HDVS_NORM @ seq_hdv_bipolar_norm) > hdc.cos_sim_threshold).ravel()\n",
    "seq_bv = np.zeros((config.sample_size, config.sample_size)).ravel()\n",
    "seq_bv[pixel_hdv_inds] = 1\n",
    "\n",
    "error_level = np.count_nonzero(seq_bv != seq_bv_true)\n",
    "\n",
    "fig, (ax1, ax2) = plt.subplots(1, 2)\n",
    "fig.set_figwidth(12)\n",
    "ax1.set_title(f'image_id={image_id}, points={len(ind_seq)}')\n",
    "ax1.imshow(seq_bv_true.reshape(config.sample_size, -1));\n",
    "ax2.set_title(f'err.={error_level}')\n",
    "ax2.set_title(f'N={seq_hdv.shape[0]} / {seq_hdv_binary.sum():.0f}, err.={error_level}')\n",
    "ax2.imshow(seq_bv.reshape(config.sample_size, -1));"
   ]
  },
  {
   "cell_type": "code",
   "execution_count": 30,
   "id": "93bd685d-76e0-4de1-a67b-6a61e9a2c29b",
   "metadata": {},
   "outputs": [
    {
     "data": {
      "image/jpeg": "[encoded data removed]",
      "image/png": "[encoded data removed]",
      "text/plain": [
       "<PIL.PngImagePlugin.PngImageFile image mode=L size=128x128>"
      ]
     },
     "execution_count": 30,
     "metadata": {},
     "output_type": "execute_result"
    }
   ],
   "source": [
    "get_raw_image(image_id)"
   ]
  },
  {
   "cell_type": "markdown",
   "id": "582ad609-9873-4ab3-830f-488d15ecf505",
   "metadata": {},
   "source": [
    "## .lab sbv"
   ]
  },
  {
   "cell_type": "code",
   "execution_count": 31,
   "id": "9d858d2c-11f8-4b20-a572-c9c1edcfaf55",
   "metadata": {},
   "outputs": [],
   "source": [
    "# # image_id = RNG.choice(df_train_images.index)\n",
    "# # image_id = 44917 # 60 points\n",
    "# image = next(df_train_images.loc[[image_id]].itertuples())\n",
    "# si_ind_dict = pickle.loads(image.inner_si_ind_dict)\n",
    "# sequences = pickle.loads(image.inner_sequences)\n",
    "# seq = get_sequence(sequences)\n",
    "# seq_xy = get_xy_sequence(seq, si_ind_dict)\n",
    "# ii = np.all(((seq_xy >= 0) & (seq_xy < config.sample_size)), axis=1) \n",
    "# seq_xy = seq_xy[ii]\n",
    "# ind_seq = (seq_xy @ np.array([1, config.sample_size])).astype(int)\n",
    "# seq_bv_true = np.zeros((config.sample_size, config.sample_size)).ravel()\n",
    "# seq_bv_true[ind_seq] = 1\n",
    "\n",
    "# # seq_sbv = np.where(np.sum(PIXEL_SBVS[ind_seq], axis=0) > 0, 1, 0) # aka Bloom filter\n",
    "# seq_sbv = calc_seq_sbv(seq_xy)\n",
    "# # pixel_sbv_inds = np.argwhere((PIXEL_SBVS @ seq_sbv) >= SBV_NON_ZERO_INDS).ravel()\n",
    "# # seq_bv = np.zeros((config.sample_size, config.sample_size)).ravel()\n",
    "# # seq_bv[pixel_sbv_inds] = 1\n",
    "# seq_bv = seq_sbv_to_bv(seq_sbv)\n",
    "\n",
    "# error_level = np.count_nonzero(seq_bv != seq_bv_true)\n",
    "\n",
    "# fig, (ax1, ax2) = plt.subplots(1, 2)\n",
    "# fig.set_figwidth(12)\n",
    "# ax1.set_title(f'image_id={image_id}, points={len(ind_seq)}')\n",
    "# ax1.imshow(seq_bv_true.reshape(config.sample_size, -1))\n",
    "# ax2.set_title(f'sbv={seq_sbv.shape[0]} / {seq_sbv.sum()}, non_zero_inds={HP_SIGNAL_VEC_NON_ZERO_BITS}, err.={error_level}')\n",
    "# ax2.imshow(seq_bv.reshape(config.sample_size, -1));"
   ]
  },
  {
   "cell_type": "markdown",
   "id": "8a40ec0a-891b-4385-88c3-6699bf574057",
   "metadata": {},
   "source": [
    "# Train"
   ]
  },
  {
   "cell_type": "code",
   "execution_count": 32,
   "id": "4287bb50-b460-4bdd-8d19-322e30669418",
   "metadata": {},
   "outputs": [],
   "source": [
    "def get_rotate_transf(deg):\n",
    "    half_sz = config.sample_size / 2 if not HP_USE_TOY_IMAGES else HP_TOY_IMAGE_SIZE / 2\n",
    "    move_to_ooc_transf = np.array([\n",
    "        [1, 0, -half_sz],\n",
    "        [0, 1, -half_sz],\n",
    "        [0, 0, 1]])\n",
    "    theta = np.deg2rad(deg)\n",
    "    cos_theta = math.cos(theta)\n",
    "    sin_theta = math.sin(theta)\n",
    "    rotate_transf = np.array([\n",
    "        [cos_theta, -sin_theta, 0],\n",
    "        [sin_theta, cos_theta, 0],\n",
    "        [0, 0, 1]\n",
    "    ])\n",
    "    move_to_target_loc_transf = np.array([\n",
    "        [1, 0, half_sz],\n",
    "        [0, 1, half_sz],\n",
    "        [0, 0, 1]])\n",
    "    return move_to_target_loc_transf @ rotate_transf @ move_to_ooc_transf\n",
    "\n",
    "def get_offset_transf(dx=0, dy=0):\n",
    "    return np.array([\n",
    "        [1, 0, dx],\n",
    "        [0, 1, dy],\n",
    "        [0, 0, 1]])"
   ]
  },
  {
   "cell_type": "code",
   "execution_count": 93,
   "id": "d53d9c0e-7546-4979-a953-0b8f46f1ce48",
   "metadata": {},
   "outputs": [],
   "source": [
    "transfs = {\n",
    "    'offset_10_0': get_offset_transf(10, 0),\n",
    "    'offset_1_0': get_offset_transf(1, 0),\n",
    "    'offset_-1_0': get_offset_transf(-1, 0),\n",
    "    'offset_0_1': get_offset_transf(0, 1),\n",
    "    'offset_1_1': get_offset_transf(1, 1),\n",
    "    'offset_5_0': get_offset_transf(5, 0),\n",
    "    'rotate_45': get_rotate_transf(45),\n",
    "    'rotate_90': get_rotate_transf(90),\n",
    "}\n",
    "TRANSF_CODE = 'rotate_45'\n",
    "TRANSF = transfs[TRANSF_CODE]"
   ]
  },
  {
   "cell_type": "code",
   "execution_count": 94,
   "id": "145172a9-54d1-4563-a7ab-cde78584810c",
   "metadata": {},
   "outputs": [],
   "source": [
    "LOG.is_enabled = True"
   ]
  },
  {
   "cell_type": "code",
   "execution_count": 95,
   "id": "66c512a5-916f-4a20-b37c-e0369e7d65c8",
   "metadata": {},
   "outputs": [],
   "source": [
    "HP_MAX_LEARN_CLUSTERS_COUNT = 300_000\n",
    "HP_EPOCHS_COUNT = 1\n",
    "HP_OUTPUT_BITS_PER_BATCH = 256\n",
    "HP_CYCLES_COUNT = 100\n",
    "HP_CYCLE_IMAGES_COUNT = min(100, len(df_train_images))"
   ]
  },
  {
   "cell_type": "code",
   "execution_count": null,
   "id": "14a44b60-5ac3-4951-aae9-89b5bbb89058",
   "metadata": {},
   "outputs": [],
   "source": []
  },
  {
   "cell_type": "code",
   "execution_count": 96,
   "id": "a2366ea9-8171-4373-b8ce-9cc0299c365f",
   "metadata": {},
   "outputs": [
    {
     "data": {
      "application/vnd.jupyter.widget-view+json": {
       "model_id": "db254199edc746bba2e660afaafd5983",
       "version_major": 2,
       "version_minor": 0
      },
      "text/plain": [
       "Epoch:   0%|          | 0/1 [00:00<?, ?it/s]"
      ]
     },
     "metadata": {},
     "output_type": "display_data"
    },
    {
     "data": {
      "application/vnd.jupyter.widget-view+json": {
       "model_id": "5c77cf584c9e44cab4d049098feeb564",
       "version_major": 2,
       "version_minor": 0
      },
      "text/plain": [
       "Output bit batch:   0%|          | 0/1 [00:00<?, ?it/s]"
      ]
     },
     "metadata": {},
     "output_type": "display_data"
    },
    {
     "data": {
      "application/vnd.jupyter.widget-view+json": {
       "model_id": "5a1c5bb884c349878994212863cb9f7e",
       "version_major": 2,
       "version_minor": 0
      },
      "text/plain": [
       "Cycle:   0%|          | 0/100 [00:00<?, ?it/s]"
      ]
     },
     "metadata": {},
     "output_type": "display_data"
    }
   ],
   "source": [
    "# %%time\n",
    "batch_output_bits_filter = lambda s, e: True\n",
    "# batch_output_bits_filter = lambda s, e: s >= 80\n",
    "\n",
    "for epoch in tqdm(range(HP_EPOCHS_COUNT), desc='Epoch'):\n",
    "    with LOG.auto_prefix('EPOCH', epoch):\n",
    "        for start_output_bit in tqdm(range(0, HP_SIGNAL_VEC_LEN, HP_OUTPUT_BITS_PER_BATCH), leave=False, desc='Output bit batch'):\n",
    "            end_output_bit = start_output_bit + HP_OUTPUT_BITS_PER_BATCH - 1\n",
    "            end_output_bit = min(end_output_bit, HP_SIGNAL_VEC_LEN - 1)\n",
    "            assert end_output_bit >= start_output_bit, (start_output_bit, end_output_bit)\n",
    "\n",
    "            if not batch_output_bits_filter(start_output_bit, end_output_bit):\n",
    "                continue\n",
    "            \n",
    "            with LOG.auto_prefix('OBITS', f'{start_output_bit}:{end_output_bit}'):\n",
    "                clear_memory(with_gc=False)\n",
    "                ## Select points for output bits (OBITS)\n",
    "                points_mask = (POINT_OUTPUT_BITS >= start_output_bit) & (POINT_OUTPUT_BITS <= end_output_bit)\n",
    "                points = xp_array_to_gpu(POINTS[points_mask])\n",
    "                point_output_bits = POINT_OUTPUT_BITS[points_mask]\n",
    "                point_inds = np.arange(points.shape[0])\n",
    "                LOG(f'{points.shape[0]} combinatorial points selected for output bits {start_output_bit}:{end_output_bit}, avg. points per output bit={points.shape[0] / ((end_output_bit - start_output_bit) + 1):.0f}')\n",
    "                assert points.shape[0] > 0\n",
    "\n",
    "                ## Restore prod clusters for output bits (OBITS)\n",
    "                df_clusters = pd.read_sql('SELECT ROWID, output_bit, sbv, meta FROM clusters WHERE encoding=:encoding AND transf_code=:transf_code ' + \n",
    "                                          'AND output_bit>=:start_output_bit AND output_bit<=:end_output_bit', \n",
    "                                          params={\n",
    "                                              'encoding': HP_SIGNAL_ENCODING, \n",
    "                                              'transf_code': TRANSF_CODE,\n",
    "                                              'start_output_bit': start_output_bit, \n",
    "                                              'end_output_bit': end_output_bit}, \n",
    "                                          con=transfs_db_con)\n",
    "                \n",
    "                for cluster_row in df_clusters.itertuples():\n",
    "                    prod_clusters_for_output_bit = pickle.loads(cluster_row.sbv)\n",
    "                    prod_cluster_metas_for_output_bit = pickle.loads(cluster_row.meta)\n",
    "                    assert prod_clusters_for_output_bit.shape[0] == len(prod_cluster_metas_for_output_bit)\n",
    "\n",
    "                    for cluster, meta in zip(prod_clusters_for_output_bit, prod_cluster_metas_for_output_bit):\n",
    "                        cluster_ind = CLUSTERS.lease()\n",
    "                        assert CLUSTER_MASKS.lease() == cluster_ind\n",
    "                        meta.cluster_ind = cluster_ind\n",
    "                        CLUSTERS.array[cluster_ind] = cluster\n",
    "                        CLUSTER_MASKS.array[cluster_ind] = cluster\n",
    "                        CLUSTER_METAS[cluster_ind] = meta\n",
    "\n",
    "                    LOG(f'Loaded {prod_clusters_for_output_bit.shape[0]} clusters for output bit {cluster_row.output_bit} (ROWID={cluster_row.rowid})')\n",
    "\n",
    "                assert len(CLUSTER_METAS) == CLUSTERS.active_len\n",
    "                assert len(CLUSTER_METAS) == CLUSTER_MASKS.active_len\n",
    "                LOG(f'Loaded {len(CLUSTER_METAS)} clusters in total for encoding=\"{HP_SIGNAL_ENCODING}\" and transf_code=\"{TRANSF_CODE}\"')\n",
    "\n",
    "                prod_cluster_metas = filter(lambda c: c.state == ClusterState.PROD, CLUSTER_METAS.values())\n",
    "                unique_cluster_keys = set(map(lambda m: m.cluster_key, prod_cluster_metas))\n",
    "                \n",
    "                ## Mine clusters\n",
    "                for cycle in tqdm(range(HP_CYCLES_COUNT), leave=False, desc='Cycle'):\n",
    "                    with LOG.auto_prefix('CYCLE', cycle):\n",
    "                        LOG(f'===')\n",
    "                        ### Prepare input and output signals for training\n",
    "                        signals_input = []\n",
    "                        signals_output = []\n",
    "                        \n",
    "                        if HP_USE_TOY_IMAGES:\n",
    "                            cycle_image_ids = get_random_toy_image_ids(HP_CYCLE_IMAGES_COUNT)\n",
    "\n",
    "                            for cycle_image_id in cycle_image_ids:\n",
    "                                toy_image_origin = get_toy_image(cycle_image_id)\n",
    "                                toy_image_transf = transform_toy_image(toy_image_origin, TRANSF)\n",
    "                                toy_image_origin_sbv, toy_image_transf_sbv = calc_toy_image_sbv(toy_image_origin), calc_toy_image_sbv(toy_image_transf)\n",
    "                                signals_input.append(toy_image_origin_sbv)\n",
    "                                signals_output.append(toy_image_transf_sbv)\n",
    "                        else:\n",
    "                            cycle_image_ids = RNG.choice(df_train_images.index, HP_CYCLE_IMAGES_COUNT, replace=False).astype('i')\n",
    "                            df_cycle_images = df_train_images.loc[cycle_image_ids]\n",
    "                            \n",
    "                            for image in df_cycle_images.itertuples():\n",
    "                                seq_origin_sbv, seq_transf_sbv = get_seq_sbv_pair(image, TRANSF)\n",
    "                                signals_input.append(seq_origin_sbv)\n",
    "                                signals_output.append(seq_transf_sbv)\n",
    "                        \n",
    "                        signals_input = xp.vstack(signals_input)\n",
    "                        signals_output = np.vstack(signals_output)\n",
    "                        assert signals_input.shape[0] == signals_output.shape[0]\n",
    "                        LOG(f'Prepared {signals_input.shape[0]} signals')\n",
    "                        \n",
    "                        ### \n",
    "                        cluster_states = Counter(map(lambda m: m.state.name, CLUSTER_METAS.values()))\n",
    "                        LOG(f'Cycle {cycle} started, clusters: {cluster_states}, CLUSTERS.array.shape={CLUSTERS.array.shape}')\n",
    "                        \n",
    "                        ### Create new clusters\n",
    "                        learn_cluster_count = cluster_states[ClusterState.LEARN.name]\n",
    "                        new_clusters_count = 0\n",
    "                        \n",
    "                        for signal_input, signal_output in zip(signals_input, signals_output):\n",
    "                            if learn_cluster_count > HP_MAX_LEARN_CLUSTERS_COUNT:\n",
    "                                break\n",
    "                                \n",
    "                            active_points_mask = signal_output[point_output_bits] != 0\n",
    "                            active_point_inds = point_inds[active_points_mask]\n",
    "\n",
    "                            if active_point_inds.shape[0] == 0:\n",
    "                                continue\n",
    "                                \n",
    "                            active_points = points[active_point_inds] # subset of points which are connected to active output bits\n",
    "                            active_points_signal_input_mat = active_points * signal_input\n",
    "                            active_points_signal_input_mask = (active_points_signal_input_mat.sum(axis=1) >= HP_CLUSTER_CREATION_ONES_COUNT_THRES) # active_points must have at least ON bits within input signal\n",
    "                            active_points_signal_input_mask = xp_array_from_gpu(active_points_signal_input_mask)\n",
    "                    \n",
    "                            for mask_value, point_ind, subsignal_input in zip(active_points_signal_input_mask,\n",
    "                                                                              active_point_inds, \n",
    "                                                                              xp_array_from_gpu(active_points_signal_input_mat)):\n",
    "                                if not mask_value:\n",
    "                                    continue\n",
    "                                \n",
    "                                active_output_bit = int(point_output_bits[point_ind])\n",
    "                                active_input_bits = np.flatnonzero(subsignal_input)\n",
    "                                assert active_input_bits.shape[0] >= HP_CLUSTER_CREATION_ONES_COUNT_THRES\n",
    "                                cluster_key = get_cluster_key(ClusterState.LEARN.name, active_output_bit, active_input_bits)\n",
    "                    \n",
    "                                if cluster_key in unique_cluster_keys:\n",
    "                                    continue\n",
    "                    \n",
    "                                cluster_ind = CLUSTERS.lease()\n",
    "                                cluster_mask_ind = CLUSTER_MASKS.lease()\n",
    "                                assert cluster_ind == cluster_mask_ind\n",
    "                                # due to frequent uploads hosting CLUSTERS and CLUSTER_MASKS on GPU slow downs whole process a lot,\n",
    "                                # as such host CLUSTERS and CLUSTER_MASKS on CPU and bulk upload to GPU when needed\n",
    "                                CLUSTERS.array[cluster_ind] = subsignal_input\n",
    "                                CLUSTER_MASKS.array[cluster_ind] = subsignal_input\n",
    "                                cluster_meta = ClusterMeta(cluster_ind)\n",
    "                                cluster_meta.cluster_key = cluster_key\n",
    "                                cluster_meta.output_bit = active_output_bit\n",
    "                                cluster_meta.input_bits = tuple(active_input_bits)\n",
    "                                cluster_meta.nu = 1 / subsignal_input.sum()\n",
    "                                cluster_meta.signals_to_learn_till_binarization = HP_CLUSTER_LEARN_STATE_BINARIZATION_SCHEDULE[0]\n",
    "                                cluster_meta.binarization_schedule = HP_CLUSTER_LEARN_STATE_BINARIZATION_SCHEDULE\n",
    "                                cluster_meta.alarm_cycle = cycle + HP_CLUSTER_LEARN_STATE_IDLE_CYCLES\n",
    "                                CLUSTER_METAS[cluster_ind] = cluster_meta\n",
    "                                unique_cluster_keys.add(cluster_key)\n",
    "                                new_clusters_count += 1\n",
    "                                learn_cluster_count += 1\n",
    "                    \n",
    "                        LOG(f'Created {new_clusters_count} clusters')\n",
    "\n",
    "                        ### Upload clusters to GPU to speed-up learning, binarization and verification steps\n",
    "                        gpu_clusters = xp_array_to_gpu(CLUSTERS.array_active)\n",
    "                        gpu_cluster_masks = xp_array_to_gpu(CLUSTER_MASKS.array_active)\n",
    "                        gpu_cluster_nus = np.zeros(CLUSTERS.active_len)\n",
    "                        for m in CLUSTER_METAS.values(): gpu_cluster_nus[m.cluster_ind] = m.nu\n",
    "                        gpu_cluster_nus = xp_array_to_gpu(gpu_cluster_nus)\n",
    "                        LOG('GPU upload complete')\n",
    "\n",
    "                        ### Learn clusters\n",
    "                        learn_cluster_metas = list(filter(lambda c: c.state == ClusterState.LEARN, CLUSTER_METAS.values()))\n",
    "                        learn_cluster_inds = np.array(list(map(lambda m: m.cluster_ind, learn_cluster_metas)), dtype='i')\n",
    "                        learn_cluster_output_bits = list(map(lambda m: m.output_bit, learn_cluster_metas))\n",
    "                        learned_clusters_inds = set()\n",
    "                        \n",
    "                        for signal_input, signal_output in zip(signals_input, signals_output):\n",
    "                            # this stanza 'signal_output[learn_cluster_output_bits] != 0' effectively produces\n",
    "                            # boolean mask for learn_cluster_inds - clusters which are connected to currently active output bits\n",
    "                            active_cluster_inds = learn_cluster_inds[signal_output[learn_cluster_output_bits] != 0]\n",
    "                    \n",
    "                            if active_cluster_inds.shape[0] == 0:\n",
    "                                continue\n",
    "                            \n",
    "                            active_clusters = gpu_clusters[active_cluster_inds] # subset of CLUSTERS which are connected to active bits in signal_output\n",
    "                            active_cluster_masks = gpu_cluster_masks[active_cluster_inds]\n",
    "                            active_cluster_nus = gpu_cluster_nus[active_cluster_inds]\n",
    "\n",
    "                            ys = signal_input @ active_clusters.T # how each cluster reacted on signal_input (strength), ca. shape (35,).\n",
    "                            zs = signal_input @ active_cluster_masks.T # number of activated bits within each cluster for given signal_input, ca. shape (35,)\n",
    "                            grow = (signal_input * (active_cluster_nus * ys)[:,np.newaxis]) # how weights within each cluster must grow up in response to signal_input, matrix, ca. shape (35, 1024)\n",
    "                            grow *= active_cluster_masks # masking, only allow weights which belong to clusters to grow up, matrix, ca. shape (35, 1024)\n",
    "                            nomins = active_clusters + grow # grow weights within clusters\n",
    "                            denoms = nomins.max(axis=1) \n",
    "                            updated_active_clusters = (nomins.T / denoms).T \n",
    "                            # upload updated weights for those clusters which have enough bits touched by signal\n",
    "                            # (i.e. we won't update clusters which have e.g. 1 bit touched)\n",
    "                            zs_mask = xp_array_from_gpu(zs >= HP_CLUSTER_ONES_COUNT_THRES)\n",
    "                            gpu_clusters[active_cluster_inds[zs_mask]] = updated_active_clusters[zs_mask]\n",
    "                    \n",
    "                            for cluster_ind in active_cluster_inds[zs_mask]:\n",
    "                                cluster_meta = CLUSTER_METAS[cluster_ind]\n",
    "                                cluster_meta.signals_learned += 1\n",
    "                                cluster_meta.signals_to_learn_till_binarization -= 1\n",
    "                                cluster_meta.alarm_cycle = cycle + HP_CLUSTER_LEARN_STATE_IDLE_CYCLES\n",
    "                                learned_clusters_inds.add(cluster_ind)\n",
    "                    \n",
    "                        LOG(f'Learned {len(learned_clusters_inds)} clusters')\n",
    "\n",
    "                        ### Binarize LEARN clusters (develop specialization)\n",
    "                        cluster_metas_to_binarize = list(filter(lambda m: m.state == ClusterState.LEARN and m.signals_to_learn_till_binarization <= 0, CLUSTER_METAS.values()))\n",
    "                        cluster_inds_to_binarize = list(map(lambda m: m.cluster_ind, cluster_metas_to_binarize))\n",
    "                        new_cluster_states = Counter()\n",
    "\n",
    "                        if cluster_inds_to_binarize:\n",
    "                            binarized_clusters = xp.where(gpu_clusters[cluster_inds_to_binarize] > HP_CLUSTER_BINARIZE_THRES, 1, 0)\n",
    "                            gpu_clusters[cluster_inds_to_binarize] = binarized_clusters\n",
    "                            gpu_cluster_masks[cluster_inds_to_binarize] = binarized_clusters\n",
    "                            binarized_clusters_ones_counts = xp_array_from_gpu(binarized_clusters.sum(axis=1))\n",
    "                            binarized_clusters = xp_array_from_gpu(binarized_clusters)\n",
    "                        \n",
    "                            for cluster_meta, cluster, ones_count in zip(cluster_metas_to_binarize, binarized_clusters, binarized_clusters_ones_counts):\n",
    "                                cluster_ind = cluster_meta.cluster_ind\n",
    "                                cluster_meta.binarization_schedule = cluster_meta.binarization_schedule[1:]\n",
    "                                cluster_meta.signals_to_learn_till_binarization = cluster_meta.binarization_schedule[0] if cluster_meta.binarization_schedule else 0\n",
    "                                cluster_meta.ones_count = int(ones_count)\n",
    "                                assert cluster_meta.ones_count > 0\n",
    "                    \n",
    "                                if cluster_meta.ones_count >= HP_CLUSTER_ONES_COUNT_THRES:\n",
    "                                    old_cluster_key = cluster_meta.cluster_key\n",
    "                                    cluster_meta.input_bits = tuple(np.flatnonzero(cluster))\n",
    "                                    new_cluster_key = get_cluster_key(ClusterState.LEARN.name, cluster_meta.output_bit, cluster_meta.input_bits)\n",
    "    \n",
    "                                    if old_cluster_key != new_cluster_key:\n",
    "                                        if new_cluster_key in unique_cluster_keys:\n",
    "                                            cluster_meta.state = ClusterState.DEAD\n",
    "                                            cluster_meta.alarm_cycle = None\n",
    "                                        else:\n",
    "                                            cluster_meta.cluster_key = new_cluster_key\n",
    "                                            unique_cluster_keys.remove(old_cluster_key)\n",
    "                                            unique_cluster_keys.add(new_cluster_key)\n",
    "                                else:\n",
    "                                    cluster_meta.state = ClusterState.DEAD\n",
    "                                    cluster_meta.alarm_cycle = None\n",
    "                                    \n",
    "                                new_cluster_states[cluster_meta.state.name] += 1\n",
    "                    \n",
    "                        LOG(f'Binarized {len(cluster_metas_to_binarize)} clusters: {new_cluster_states}')\n",
    "                        \n",
    "                        ### Promote LEARN clusters to PREPROD/DEAD if they've learned enough (binarization schedule is exhausted)\n",
    "                        new_cluster_states = Counter()\n",
    "                        learn_cluster_metas_to_promote = filter(lambda m: m.state == ClusterState.LEARN and not m.binarization_schedule, CLUSTER_METAS.values())\n",
    "                        \n",
    "                        for cluster_meta in learn_cluster_metas_to_promote:\n",
    "                            cluster_ind = cluster_meta.cluster_ind\n",
    "                            assert cluster_meta.ones_count >= HP_CLUSTER_ONES_COUNT_THRES\n",
    "                \n",
    "                            old_cluster_key = cluster_meta.cluster_key\n",
    "                            new_cluster_key = get_cluster_key(ClusterState.PROD.name, cluster_meta.output_bit, cluster_meta.input_bits)\n",
    "\n",
    "                            if new_cluster_key in unique_cluster_keys:\n",
    "                                cluster_meta.state = ClusterState.DEAD\n",
    "                                cluster_meta.alarm_cycle = None\n",
    "                            else:\n",
    "                                cluster_meta.cluster_key = new_cluster_key\n",
    "                                cluster_meta.state = ClusterState.PREPROD\n",
    "                                cluster_meta.alarm_cycle = cycle + HP_CLUSTER_PREPROD_STATE_IDLE_CYCLES\n",
    "                                unique_cluster_keys.remove(old_cluster_key)\n",
    "                                unique_cluster_keys.add(new_cluster_key)\n",
    "                                \n",
    "                            new_cluster_states[cluster_meta.state.name] += 1\n",
    "\n",
    "                        LOG(f'Promoted {new_cluster_states.total()} LEARN clusters: {new_cluster_states}')\n",
    "\n",
    "                        ### Promote PREPROD clusters to PROD/DEAD if they've been verified enough\n",
    "                        new_cluster_states = Counter()\n",
    "                        preprod_cluster_metas_to_promote = filter(lambda c: (c.state == ClusterState.PREPROD) and (c.stats.total() >= HP_CLUSTER_PREPROD_STATE_SIGNALS_PROCESSED_THRES), CLUSTER_METAS.values())\n",
    "                        \n",
    "                        for cluster_meta in preprod_cluster_metas_to_promote:\n",
    "                            accuracy = cluster_meta.stats[True] / cluster_meta.stats.total()\n",
    "\n",
    "                            if accuracy >= HP_CLUSTER_ACCURACY_THRES:\n",
    "                                assert cluster_meta.ones_count >= HP_CLUSTER_ONES_COUNT_THRES\n",
    "                                cluster_meta.state = ClusterState.PROD\n",
    "                                cluster_meta.alarm_cycle = None\n",
    "                            else:\n",
    "                                cluster_meta.state = ClusterState.DEAD\n",
    "                                cluster_meta.alarm_cycle = None\n",
    "                                \n",
    "                            new_cluster_states[cluster_meta.state.name] += 1\n",
    "                    \n",
    "                        LOG(f'Promoted {new_cluster_states.total()} PREPROD clusters: {new_cluster_states}')\n",
    "                    \n",
    "                        ### Verify PREPROD clusters against new signals\n",
    "                        preprod_cluster_metas = list(filter(lambda m: m.state == ClusterState.PREPROD, CLUSTER_METAS.values()))\n",
    "                        preprod_cluster_inds = np.array(list(map(lambda m: m.cluster_ind, preprod_cluster_metas)), dtype='i')\n",
    "                        preprod_cluster_ones_counts = xp.array(list(map(lambda m: m.ones_count, preprod_cluster_metas)), dtype='f')\n",
    "                        preprod_cluster_output_bits = np.array(list(map(lambda m: m.output_bit, preprod_cluster_metas)), dtype='i')\n",
    "                        preprod_clusters = gpu_clusters[preprod_cluster_inds]\n",
    "                        verified_cluster_inds = set()\n",
    "                        \n",
    "                        for signal_input, signal_output, signal_image_id in zip(signals_input, signals_output, cycle_image_ids):\n",
    "                            activated_clusters_mask = xp_array_from_gpu((preprod_clusters @ signal_input) >= preprod_cluster_ones_counts)\n",
    "                            # cast array of output_bit numbers [0, 3, 4, 7, 7, 0, 3, 32, ..] to TP array [True, False, False, True, True, True, False, False, ...]\n",
    "                            # where True if output_bit of preprod_cluster is enabled in signal_output and False otherwise\n",
    "                            preprod_cluster_output_bits_tf = signal_output[preprod_cluster_output_bits] != 0\n",
    "                            \n",
    "                            for cluster_ind, tf in zip(preprod_cluster_inds[activated_clusters_mask], preprod_cluster_output_bits_tf[activated_clusters_mask]):\n",
    "                                tf = bool(tf) # not mandatory, but eases further inspections by eyes\n",
    "                                signal_image_id = int(signal_image_id)\n",
    "                                cluster_meta = CLUSTER_METAS[cluster_ind]\n",
    "                    \n",
    "                                if not signal_image_id in cluster_meta.verify_image_ids:\n",
    "                                    cluster_meta.stats[tf] += 1\n",
    "                                    cluster_meta.verify_image_ids[signal_image_id] = tf\n",
    "                                    cluster_meta.alarm_cycle = cycle + HP_CLUSTER_PREPROD_STATE_IDLE_CYCLES\n",
    "                                    verified_cluster_inds.add(cluster_ind)\n",
    "                    \n",
    "                        LOG(f'Verified {len(verified_cluster_inds)} clusters')\n",
    "\n",
    "                        ### Download back clusters and masks back from GPU so they can be modified on CPU side during weeding\n",
    "                        CLUSTERS.array_active[:] = xp_array_from_gpu(gpu_clusters)\n",
    "                        CLUSTER_MASKS.array_active[:] = xp_array_from_gpu(gpu_cluster_masks)\n",
    "                        LOG('GPU download complete')\n",
    "\n",
    "                        ### Weed the garden\n",
    "                        unneeded_cluster_metas = []\n",
    "                        unneeded_cluster_metas.extend(filter(lambda m: m.state == ClusterState.DEAD, CLUSTER_METAS.values()))\n",
    "                        unneeded_cluster_metas.extend(filter(lambda m: m.alarm_cycle is not None and m.alarm_cycle < cycle, CLUSTER_METAS.values()))\n",
    "                        \n",
    "                        for cluster_meta in unneeded_cluster_metas:\n",
    "                            cluster_ind = cluster_meta.cluster_ind\n",
    "                            unique_cluster_keys.remove(cluster_meta.cluster_key)\n",
    "                            del CLUSTER_METAS[cluster_ind]\n",
    "                            CLUSTERS.release(cluster_ind)\n",
    "                            CLUSTER_MASKS.release(cluster_ind)\n",
    "                    \n",
    "                        LOG(f'Removed {len(unneeded_cluster_metas)} loser clusters')\n",
    "\n",
    "                ## Persist mined prod clusters for output bits (OBITS)\n",
    "                output_bit_to_prod_cluster_metas = defaultdict(list)\n",
    "                gpu_clusters = xp_array_to_gpu(CLUSTERS.array_active)\n",
    "                persisted_count = 0\n",
    "                \n",
    "                for meta in filter(lambda m: m.state == ClusterState.PROD, CLUSTER_METAS.values()):\n",
    "                    output_bit_to_prod_cluster_metas[meta.output_bit].append(meta)\n",
    "\n",
    "                for output_bit, metas in output_bit_to_prod_cluster_metas.items():\n",
    "                    cluster_inds = list(map(lambda m: m.cluster_ind, metas))\n",
    "                    # Leave only super clusters, i.e. clusters which are not subsets of any other clusters\n",
    "                    clusters = gpu_clusters[cluster_inds]\n",
    "                    cluster_ones_counts = clusters.sum(axis=1)\n",
    "                    crossings = (clusters @ clusters.T)\n",
    "                    crossings[xp.diag_indices_from(crossings)] = 0\n",
    "                    super_clusters_mask = ~xp.any((crossings.T >= cluster_ones_counts).T, axis=1)\n",
    "\n",
    "                    clusters = xp_array_from_gpu(clusters[super_clusters_mask])\n",
    "                    super_clusters_mask = xp_array_from_gpu(super_clusters_mask)\n",
    "                    \n",
    "                    pickled_clusters = pickle.dumps(clusters)\n",
    "                    pickled_metas = pickle.dumps(list(map(lambda x: x[1], filter(lambda x: x[0], zip(super_clusters_mask, metas)))))\n",
    "                    # Changing autocommit to False will open a new transaction, and changing it to True will commit any pending transaction.\n",
    "                    # https://docs.python.org/3/library/sqlite3.html#connection-objects\n",
    "                    transfs_db_con.autocommit = False\n",
    "                    transfs_db_con.execute('DELETE FROM clusters WHERE encoding=:encoding AND transf_code=:transf_code AND output_bit=:output_bit',\n",
    "                                           {'encoding': HP_SIGNAL_ENCODING, 'transf_code': TRANSF_CODE, 'output_bit': output_bit})\n",
    "                    transfs_db_con.execute('INSERT INTO clusters (encoding, transf_code, output_bit, sbv, meta) VALUES (:encoding, :transf_code, :output_bit, :sbv, :meta)',\n",
    "                                           {'encoding': HP_SIGNAL_ENCODING, 'transf_code': TRANSF_CODE, 'output_bit': output_bit, 'sbv': pickled_clusters, 'meta': pickled_metas})\n",
    "                    transfs_db_con.autocommit = True\n",
    "                    persisted_count += clusters.shape[0]\n",
    "                    LOG(f'Persisted {clusters.shape[0]} (of {len(cluster_inds)}) super clusters for output bit {output_bit}')\n",
    "\n",
    "                LOG(f'Persisted {persisted_count} clusters in total for encoding=\"{HP_SIGNAL_ENCODING}\" and transf_code=\"{TRANSF_CODE}\"')"
   ]
  },
  {
   "cell_type": "code",
   "execution_count": 101,
   "id": "cf723882-55c0-49d9-acb7-e50274d2201b",
   "metadata": {},
   "outputs": [
    {
     "data": {
      "image/png": "[encoded data removed]",
      "text/plain": [
       "<Figure size 1200x480 with 2 Axes>"
      ]
     },
     "metadata": {},
     "output_type": "display_data"
    }
   ],
   "source": [
    "signal_ind = RNG.choice(signals_input.shape[0])\n",
    "# signal_ind = 0\n",
    "signal_input = xp_array_from_gpu(signals_input[signal_ind])\n",
    "signal_output = signals_output[signal_ind]\n",
    "\n",
    "if HP_USE_TOY_IMAGES:\n",
    "    signal_input = toy_image_sbv_to_bv(signal_input)\n",
    "    signal_output = toy_image_sbv_to_bv(signal_output)\n",
    "else:\n",
    "    signal_input = seq_sbv_to_bv(signal_input)\n",
    "    signal_output = seq_sbv_to_bv(signal_output)\n",
    "    \n",
    "fig, (ax1, ax2) = plt.subplots(1, 2)\n",
    "fig.set_figwidth(12)\n",
    "ax1.imshow(vec_to_square_matrix(signal_input))\n",
    "ax2.imshow(vec_to_square_matrix(signal_output));"
   ]
  },
  {
   "cell_type": "markdown",
   "id": "c4e073c2-0c90-4248-a9fc-57f4f063892f",
   "metadata": {},
   "source": [
    "# Test"
   ]
  },
  {
   "cell_type": "code",
   "execution_count": 106,
   "id": "5175b5c1-2cf3-4a31-b471-269694674987",
   "metadata": {},
   "outputs": [
    {
     "data": {
      "application/vnd.jupyter.widget-view+json": {
       "model_id": "2dcb877c2a4e46a6a4641144c21aacdd",
       "version_major": 2,
       "version_minor": 0
      },
      "text/plain": [
       "  0%|          | 0/186 [00:00<?, ?it/s]"
      ]
     },
     "metadata": {},
     "output_type": "display_data"
    },
    {
     "data": {
      "text/plain": [
       "(47333, 256)"
      ]
     },
     "execution_count": 106,
     "metadata": {},
     "output_type": "execute_result"
    }
   ],
   "source": [
    "clear_memory()\n",
    "\n",
    "df_clusters = pd.read_sql('SELECT output_bit, sbv, meta FROM clusters WHERE encoding=:encoding AND transf_code=:transf_code', \n",
    "                          params={\n",
    "                              'encoding': HP_SIGNAL_ENCODING, \n",
    "                              'transf_code': TRANSF_CODE},\n",
    "                              # 'transf_code': 'rotate_90'},\n",
    "                          con=transfs_db_con)\n",
    "                \n",
    "for cluster_row in tqdm(df_clusters.itertuples(), total=len(df_clusters)):\n",
    "    clusters_for_output_bit = pickle.loads(cluster_row.sbv)\n",
    "    cluster_metas_for_output_bit = pickle.loads(cluster_row.meta)\n",
    "\n",
    "    for cluster, meta in zip(clusters_for_output_bit, cluster_metas_for_output_bit):\n",
    "        cluster_ind = CLUSTERS.lease()\n",
    "        assert CLUSTER_MASKS.lease() == cluster_ind\n",
    "        meta.cluster_ind = cluster_ind\n",
    "        CLUSTERS.array_active[cluster_ind] = cluster\n",
    "        CLUSTER_MASKS.array_active[cluster_ind] = cluster\n",
    "        CLUSTER_METAS[cluster_ind] = meta\n",
    "\n",
    "cluster_metas = list(filter(lambda m: m.state == ClusterState.PROD, CLUSTER_METAS.values()))\n",
    "cluster_inds = list(map(lambda m: m.cluster_ind, cluster_metas))\n",
    "cluster_ones_counts = np.array(list(map(lambda m: m.ones_count, cluster_metas)), dtype='f')\n",
    "cluster_output_bits = np.array(list(map(lambda m: m.output_bit, cluster_metas)), dtype='i')\n",
    "cluster_input_bits_list = list(map(lambda m: m.input_bits, cluster_metas))\n",
    "clusters = CLUSTERS.array[cluster_inds]\n",
    "assert clusters.shape[0] == len(CLUSTER_METAS)\n",
    "clusters.shape"
   ]
  },
  {
   "cell_type": "code",
   "execution_count": 107,
   "id": "cbf93336-9a8f-4d35-adf7-384779124e8a",
   "metadata": {},
   "outputs": [
    {
     "data": {
      "application/vnd.jupyter.widget-view+json": {
       "model_id": "c4d9afecfa004fc7995599520663f5f1",
       "version_major": 2,
       "version_minor": 0
      },
      "text/plain": [
       "  0%|          | 0/100 [00:00<?, ?it/s]"
      ]
     },
     "metadata": {},
     "output_type": "display_data"
    },
    {
     "data": {
      "image/png": "[encoded data removed]",
      "text/plain": [
       "<Figure size 1600x480 with 2 Axes>"
      ]
     },
     "metadata": {},
     "output_type": "display_data"
    }
   ],
   "source": [
    "thres = 0\n",
    "toy_image_ids = get_random_toy_image_ids(100)\n",
    "bv_errors_count_list = defaultdict(list)\n",
    "sbv_errors_count_list = defaultdict(list)\n",
    "\n",
    "for toy_image_id in tqdm(toy_image_ids):\n",
    "    toy_image_origin = get_toy_image(toy_image_id)\n",
    "    toy_image_transf = transform_toy_image(toy_image_origin, TRANSF)\n",
    "\n",
    "    toy_image_origin_sbv = calc_toy_image_sbv(toy_image_origin)\n",
    "    toy_image_transf_sbv = calc_toy_image_sbv(toy_image_transf)\n",
    "    \n",
    "    activated_clusters_mask = (clusters @ toy_image_origin_sbv) >= cluster_ones_counts\n",
    "    \n",
    "    toy_image_infer_sbv = np.zeros_like(toy_image_origin_sbv)\n",
    "\n",
    "    # Approach 1: judge if output_bit is ON/OFF based on number of activated clusters\n",
    "    output_bit_to_activated_clusters_count = Counter(cluster_output_bits[activated_clusters_mask])\n",
    "    toy_image_infer_sbv[list(output_bit_to_activated_clusters_count.keys())] = list(output_bit_to_activated_clusters_count.values())\n",
    "    toy_image_infer_sbv = np.where(toy_image_infer_sbv > thres, 1, 0)\n",
    "\n",
    "    # Approach 2: judge if output_bit is ON/OFF based on number of unique bits touched by clusters within input signal\n",
    "    # output_bit_to_unique_input_bits = defaultdict(set)\n",
    "\n",
    "    # for mask_value, output_bit, input_bits in zip(activated_clusters_mask, cluster_output_bits, cluster_input_bits_list):\n",
    "    #     if not mask_value:\n",
    "    #         continue\n",
    "\n",
    "    #     output_bit_to_unique_input_bits[output_bit].update(input_bits)\n",
    "    # toy_image_infer_sbv[list(output_bit_to_unique_input_bits.keys())] = list(map(len, output_bit_to_unique_input_bits.values()))\n",
    "    # toy_image_infer_sbv = np.where(toy_image_infer_sbv > thres, 1, 0)\n",
    "    \n",
    "    sbv_false_positives_count = (toy_image_transf_sbv[toy_image_infer_sbv == 1] == 0).sum()\n",
    "    sbv_false_negatives_count = (toy_image_transf_sbv[toy_image_infer_sbv == 0] == 1).sum()\n",
    "    assert np.count_nonzero(toy_image_transf_sbv != toy_image_infer_sbv) == (sbv_false_positives_count + sbv_false_negatives_count)\n",
    "    sbv_errors_count_list['FP'].append(sbv_false_positives_count)\n",
    "    sbv_errors_count_list['FN'].append(sbv_false_negatives_count)\n",
    "    \n",
    "    toy_image_infer_bv = toy_image_sbv_to_bv(toy_image_infer_sbv)\n",
    "    toy_image_transf_bv = toy_image_sbv_to_bv(toy_image_transf_sbv)\n",
    "    bv_false_positives_count = (toy_image_transf_bv[toy_image_infer_bv == 1] == 0).sum()\n",
    "    bv_false_negatives_count = (toy_image_transf_bv[toy_image_infer_bv == 0] == 1).sum()\n",
    "    assert np.count_nonzero(toy_image_transf_bv != toy_image_infer_bv) == (bv_false_positives_count + bv_false_negatives_count)\n",
    "    bv_errors_count_list['FP'].append(bv_false_positives_count)\n",
    "    bv_errors_count_list['FN'].append(bv_false_negatives_count)\n",
    "\n",
    "fig, (ax1, ax2) = plt.subplots(2, 1)\n",
    "fig.set_figwidth(16)\n",
    "fig.tight_layout() \n",
    "errors_count = sum(itertools.chain.from_iterable(bv_errors_count_list.values()))\n",
    "ax1.set_title(f'BV Errors count={errors_count}, avg.={errors_count / len(toy_image_ids):.2f}; thres={thres}, clusters count={clusters.shape[0]}')\n",
    "\n",
    "for error_kind, errors_count in bv_errors_count_list.items():\n",
    "    ax1.bar(list(map(str, range(len(toy_image_ids)))), errors_count, label=error_kind)\n",
    "\n",
    "ax1.legend()\n",
    "\n",
    "errors_count = sum(itertools.chain.from_iterable(sbv_errors_count_list.values()))\n",
    "ax2.set_title(f'SBV Errors count={errors_count}, avg.={errors_count / len(toy_image_ids):.2f}; thres={thres}, clusters count={clusters.shape[0]}')\n",
    "\n",
    "for error_kind, errors_count in sbv_errors_count_list.items():\n",
    "    ax2.bar(list(map(str, range(len(toy_image_ids)))), errors_count, label=error_kind)\n",
    "\n",
    "ax2.legend();"
   ]
  },
  {
   "cell_type": "code",
   "execution_count": null,
   "id": "47f59aa5-155f-42d1-89f4-952ba29d1e2a",
   "metadata": {},
   "outputs": [],
   "source": []
  },
  {
   "cell_type": "code",
   "execution_count": null,
   "id": "bcc9f312-6621-4f77-ad5d-e0e5050dc036",
   "metadata": {},
   "outputs": [],
   "source": []
  },
  {
   "cell_type": "code",
   "execution_count": null,
   "id": "cf7b155d-cd7f-4649-91dc-f932bcb0e553",
   "metadata": {},
   "outputs": [],
   "source": []
  },
  {
   "cell_type": "code",
   "execution_count": null,
   "id": "f901126b-b8c1-457c-aced-0923b43927f8",
   "metadata": {},
   "outputs": [],
   "source": []
  },
  {
   "cell_type": "code",
   "execution_count": 116,
   "id": "f5f56508-9e19-4911-b739-a04452cf59d4",
   "metadata": {},
   "outputs": [
    {
     "data": {
      "image/png": "[encoded data removed]",
      "text/plain": [
       "<Figure size 1200x480 with 3 Axes>"
      ]
     },
     "metadata": {},
     "output_type": "display_data"
    }
   ],
   "source": [
    "toy_image_id = get_random_toy_image_ids(1)[0]\n",
    "toy_image = get_toy_image(toy_image_id)\n",
    "toy_image_sbv = calc_toy_image_sbv(toy_image)\n",
    "\n",
    "toy_image_transf = transform_toy_image(toy_image, TRANSF)\n",
    "toy_image_transf_sbv = calc_toy_image_sbv(toy_image_transf)\n",
    "\n",
    "activated_clusters_mask = (clusters @ toy_image_sbv) >= cluster_ones_counts\n",
    "values = Counter(cluster_output_bits[activated_clusters_mask])\n",
    "toy_image_sbv_out = np.zeros_like(toy_image_sbv)\n",
    "# toy_image_sbv_out[list(values.keys())] = list(values.values())\n",
    "# toy_image_sbv_out = np.where(toy_image_sbv_out > 1, 1, 0)\n",
    "toy_image_sbv_out[list(values.keys())] = 1\n",
    "\n",
    "fig, (ax1, ax2, ax3) = plt.subplots(1, 3)\n",
    "fig.set_figwidth(12)\n",
    "ax1.set_title('Origin')\n",
    "ax1.imshow(vec_to_square_matrix(toy_image_sbv_to_bv(toy_image_sbv)))\n",
    "ax2.set_title('Transf')\n",
    "ax2.imshow(vec_to_square_matrix(toy_image_sbv_to_bv(toy_image_transf_sbv)))\n",
    "ax3.set_title('Infer')\n",
    "ax3.imshow(vec_to_square_matrix(toy_image_sbv_to_bv(toy_image_sbv_out)));"
   ]
  },
  {
   "cell_type": "code",
   "execution_count": 110,
   "id": "bd3d6124-ae28-47e5-9877-7bf2eb87d8c3",
   "metadata": {},
   "outputs": [
    {
     "data": {
      "image/png": "[encoded data removed]",
      "text/plain": [
       "<Figure size 1600x480 with 2 Axes>"
      ]
     },
     "metadata": {},
     "output_type": "display_data"
    }
   ],
   "source": [
    "fig, (ax1, ax2) = plt.subplots(2, 1)\n",
    "fig.set_figwidth(16)\n",
    "\n",
    "toy_image_transf = transform_toy_image(toy_image, TRANSF)\n",
    "toy_image_transf_sbv = calc_toy_image_sbv(toy_image_transf)\n",
    "\n",
    "ax1.set_title(f'non_zero_bits={toy_image_transf_sbv.sum()}')\n",
    "ax1.imshow(np.ones((30, 1)) * toy_image_transf_sbv);\n",
    "ax2.set_title(f'non_zero_bits={toy_image_sbv_out.sum()}')\n",
    "ax2.imshow(np.ones((30, 1)) * toy_image_sbv_out);"
   ]
  },
  {
   "cell_type": "code",
   "execution_count": 98,
   "id": "6cc119b7-ff88-4898-8760-116f2f55cf5e",
   "metadata": {},
   "outputs": [
    {
     "data": {
      "text/plain": [
       "{'state': <ClusterState.PROD: 'prod'>,\n",
       " 'cluster_ind': 117147,\n",
       " 'cluster_key': ('PROD', 79, (4, 81, 139, 235)),\n",
       " 'output_bit': 79,\n",
       " 'input_bits': (np.int64(4), np.int64(81), np.int64(139), np.int64(235)),\n",
       " 'nu': np.float64(0.2),\n",
       " 'ones_count': 4,\n",
       " 'signals_learned': 20,\n",
       " 'signals_to_learn_till_binarization': 0,\n",
       " 'binarization_schedule': (),\n",
       " 'stats': Counter({True: 21}),\n",
       " 'verify_image_ids': {576764218053755016: True,\n",
       "  5190404076692602884: True,\n",
       "  577248079938322432: True,\n",
       "  577591059383583041: True,\n",
       "  580968750514200648: True,\n",
       "  576467667200770066: True,\n",
       "  1729387480129994752: True,\n",
       "  12177878596664426496: True,\n",
       "  648523303807352912: True,\n",
       "  9835866053246189568: True,\n",
       "  581250809070616640: True,\n",
       "  603486749187997697: True,\n",
       "  594479551552163841: True,\n",
       "  729587563450400772: True,\n",
       "  577593953654670336: True,\n",
       "  580968784341270561: True,\n",
       "  9799837187221495860: True,\n",
       "  864695631732539648: True,\n",
       "  864695560878755840: True,\n",
       "  648522745528861184: True,\n",
       "  576570721719812228: True},\n",
       " 'alarm_cycle': None}"
      ]
     },
     "execution_count": 98,
     "metadata": {},
     "output_type": "execute_result"
    }
   ],
   "source": [
    "cluster_ind = RNG.choice(len(cluster_metas))\n",
    "vars(cluster_metas[cluster_ind])"
   ]
  }
 ],
 "metadata": {
  "kernelspec": {
   "display_name": "Python 3 (ipykernel)",
   "language": "python",
   "name": "python3"
  },
  "language_info": {
   "codemirror_mode": {
    "name": "ipython",
    "version": 3
   },
   "file_extension": ".py",
   "mimetype": "text/x-python",
   "name": "python",
   "nbconvert_exporter": "python",
   "pygments_lexer": "ipython3",
   "version": "3.12.9"
  }
 },
 "nbformat": 4,
 "nbformat_minor": 5
}
