{
 "cells": [
  {
   "cell_type": "code",
   "execution_count": 1,
   "id": "27532844-1826-4299-b063-16a22e592f3f",
   "metadata": {},
   "outputs": [],
   "source": [
    "import os, math\n",
    "from enum import StrEnum, auto\n",
    "from collections import defaultdict, namedtuple, Counter\n",
    "import itertools\n",
    "import sqlite3\n",
    "import pickle\n",
    "import datetime\n",
    "import multiprocessing as mp\n",
    "import gc\n",
    "import json\n",
    "import decimal\n",
    "from IPython.core.getipython import get_ipython\n",
    "\n",
    "from PIL import Image, ImageDraw\n",
    "from tqdm.notebook import tqdm\n",
    "\n",
    "from sklearn.model_selection import train_test_split\n",
    "from sklearn.decomposition import PCA\n",
    "import matplotlib.pyplot as plt\n",
    "import scipy\n",
    "import numpy as np\n",
    "import cupy as cp\n",
    "import pandas as pd\n",
    "\n",
    "from module.utils import *\n",
    "from module.hdc import *\n",
    "from module.constants import *"
   ]
  },
  {
   "cell_type": "code",
   "execution_count": 2,
   "id": "73358262-adf2-4d17-a383-f120a5d1f8aa",
   "metadata": {},
   "outputs": [
    {
     "name": "stdout",
     "output_type": "stream",
     "text": [
      "xp = cupy\n",
      "transf_learn6.ipynb\n"
     ]
    }
   ],
   "source": [
    "LOG = Logging()\n",
    "\n",
    "config_var = 'SQLITE3_SEQ_GRID_0_2_4096'\n",
    "config = Config(config_var)\n",
    "RNG = np.random.default_rng()\n",
    "mp_ctx = mp.get_context('spawn') # req-d for CUPY to work, 'fork' method leads to failures in bootstrap somewhere around CUDA\n",
    "\n",
    "if cp.cuda.is_available():\n",
    "    xp = cp.get_array_module(cp.empty(1))\n",
    "    xp_array_from_gpu = lambda a: a.get() if isinstance(a, cp.ndarray) else a\n",
    "    xp_array_to_gpu = lambda a: cp.asarray(a) if isinstance(a, np.ndarray) else a\n",
    "    xp_array_to_gpu_copy = lambda a: cp.asarray(a) if isinstance(a, np.ndarray) else a\n",
    "else:\n",
    "    xp = cp.get_array_module(np.empty(1))\n",
    "    xp_array_from_gpu = lambda a: a\n",
    "    xp_array_to_gpu = lambda a: a\n",
    "    xp_array_to_gpu_copy = lambda a: a.copy()\n",
    "\n",
    "print(f'xp = {xp.__name__}')\n",
    "\n",
    "with open(get_ipython().kernel.config['IPKernelApp']['connection_file'], 'r') as cf:\n",
    "    notebook_fname = json.load(cf)['jupyter_session']\n",
    "    notebook_fname = os.path.basename(notebook_fname)\n",
    "\n",
    "print(notebook_fname)"
   ]
  },
  {
   "cell_type": "code",
   "execution_count": 3,
   "id": "656ee6b7-3982-4f99-9251-6b67fef36ae3",
   "metadata": {},
   "outputs": [],
   "source": [
    "%run sequencing_sp2.ipynb"
   ]
  },
  {
   "cell_type": "markdown",
   "id": "d5c8f88a-5403-4177-b5fc-e0e2a1da9c2d",
   "metadata": {},
   "source": [
    "# Open DB"
   ]
  },
  {
   "cell_type": "code",
   "execution_count": 4,
   "id": "d2dd62ab-b44e-4251-9e86-d41b3672e36e",
   "metadata": {},
   "outputs": [
    {
     "name": "stdout",
     "output_type": "stream",
     "text": [
      "CPU times: user 9 μs, sys: 0 ns, total: 9 μs\n",
      "Wall time: 17.9 μs\n"
     ]
    },
    {
     "data": {
      "text/plain": [
       "((10000, 7), (2000, 7))"
      ]
     },
     "execution_count": 4,
     "metadata": {},
     "output_type": "execute_result"
    }
   ],
   "source": [
    "%time\n",
    "train_db_con = sqlite3.connect(DBUtils.get_full_db_file_name(config, config.train_db_file_name))\n",
    "test_db_con = sqlite3.connect(DBUtils.get_full_db_file_name(config, config.test_db_file_name))\n",
    "test_results_db_con = sqlite3.connect(DBUtils.get_full_db_file_name(config, config.test_results_db_file_name, with_prefix=False), autocommit=True)\n",
    "transfs_db_con = sqlite3.connect(DBUtils.get_full_db_file_name(config, config.transfs_db_file_name, with_prefix=False), autocommit=True)\n",
    "\n",
    "if not DBUtils.is_table_exists(test_results_db_con, 'test_runs'):\n",
    "    test_results_db_con.execute('CREATE TABLE test_runs(test_run_id INTEGER PRIMARY KEY, dummy)')\n",
    "\n",
    "if not DBUtils.is_table_exists(transfs_db_con, 'points'):\n",
    "    transfs_db_con.execute('CREATE TABLE points(encoding, count, non_zero_bits, points, output_bits)')\n",
    "\n",
    "if not DBUtils.is_table_exists(transfs_db_con, 'pixels'):\n",
    "    transfs_db_con.execute('CREATE TABLE pixels(encoding, sbv)')\n",
    "\n",
    "if not DBUtils.is_table_exists(transfs_db_con, 'clusters'):\n",
    "    transfs_db_con.execute('CREATE TABLE clusters(encoding, transf_code, output_bit, sbv, meta)')\n",
    "\n",
    "df_train_images = pd.read_sql_query('SELECT * FROM images', con=train_db_con, index_col='image_id')\n",
    "df_test_images = pd.read_sql_query('SELECT * FROM images', con=test_db_con, index_col='image_id')\n",
    "df_train_images.shape, df_test_images.shape"
   ]
  },
  {
   "cell_type": "code",
   "execution_count": 5,
   "id": "70b21219-4f16-4824-90ec-7bda1574c5d1",
   "metadata": {},
   "outputs": [
    {
     "data": {
      "text/html": [
       "<div style=\"\n",
       "        display: grid; \n",
       "        grid-template-columns: repeat(8, 128px);\n",
       "        column-gap: 1px;\n",
       "        row-gap: 1px;\">\n",
       "        \n",
       "            <figure style=\"margin: 5px !important;\">\n",
       "              <img src=\"data:image/png;base64,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\" style=\"height: auto\">\n",
       "              <figcaption style=\"font-size: 0.6em\">2</figcaption>\n",
       "            </figure>\n",
       "        \n",
       "            <figure style=\"margin: 5px !important;\">\n",
       "              <img src=\"data:image/png;base64,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\" style=\"height: auto\">\n",
       "              <figcaption style=\"font-size: 0.6em\">2</figcaption>\n",
       "            </figure>\n",
       "        \n",
       "            <figure style=\"margin: 5px !important;\">\n",
       "              <img src=\"data:image/png;base64,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\" style=\"height: auto\">\n",
       "              <figcaption style=\"font-size: 0.6em\">7</figcaption>\n",
       "            </figure>\n",
       "        \n",
       "            <figure style=\"margin: 5px !important;\">\n",
       "              <img src=\"data:image/png;base64,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\" style=\"height: auto\">\n",
       "              <figcaption style=\"font-size: 0.6em\">1</figcaption>\n",
       "            </figure>\n",
       "        \n",
       "            <figure style=\"margin: 5px !important;\">\n",
       "              <img src=\"data:image/png;base64,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\" style=\"height: auto\">\n",
       "              <figcaption style=\"font-size: 0.6em\">3</figcaption>\n",
       "            </figure>\n",
       "        \n",
       "            <figure style=\"margin: 5px !important;\">\n",
       "              <img src=\"data:image/png;base64,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\" style=\"height: auto\">\n",
       "              <figcaption style=\"font-size: 0.6em\">6</figcaption>\n",
       "            </figure>\n",
       "        \n",
       "            <figure style=\"margin: 5px !important;\">\n",
       "              <img src=\"data:image/png;base64,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\" style=\"height: auto\">\n",
       "              <figcaption style=\"font-size: 0.6em\">8</figcaption>\n",
       "            </figure>\n",
       "        \n",
       "            <figure style=\"margin: 5px !important;\">\n",
       "              <img src=\"data:image/png;base64,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\" style=\"height: auto\">\n",
       "              <figcaption style=\"font-size: 0.6em\">7</figcaption>\n",
       "            </figure>\n",
       "        \n",
       "            <figure style=\"margin: 5px !important;\">\n",
       "              <img src=\"data:image/png;base64,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\" style=\"height: auto\">\n",
       "              <figcaption style=\"font-size: 0.6em\">3</figcaption>\n",
       "            </figure>\n",
       "        \n",
       "            <figure style=\"margin: 5px !important;\">\n",
       "              <img src=\"data:image/png;base64,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\" style=\"height: auto\">\n",
       "              <figcaption style=\"font-size: 0.6em\">5</figcaption>\n",
       "            </figure>\n",
       "        \n",
       "            <figure style=\"margin: 5px !important;\">\n",
       "              <img src=\"data:image/png;base64,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\" style=\"height: auto\">\n",
       "              <figcaption style=\"font-size: 0.6em\">1</figcaption>\n",
       "            </figure>\n",
       "        \n",
       "            <figure style=\"margin: 5px !important;\">\n",
       "              <img src=\"data:image/png;base64,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\" style=\"height: auto\">\n",
       "              <figcaption style=\"font-size: 0.6em\">4</figcaption>\n",
       "            </figure>\n",
       "        \n",
       "            <figure style=\"margin: 5px !important;\">\n",
       "              <img src=\"data:image/png;base64,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\" style=\"height: auto\">\n",
       "              <figcaption style=\"font-size: 0.6em\">6</figcaption>\n",
       "            </figure>\n",
       "        \n",
       "            <figure style=\"margin: 5px !important;\">\n",
       "              <img src=\"data:image/png;base64,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\" style=\"height: auto\">\n",
       "              <figcaption style=\"font-size: 0.6em\">5</figcaption>\n",
       "            </figure>\n",
       "        \n",
       "            <figure style=\"margin: 5px !important;\">\n",
       "              <img src=\"data:image/png;base64,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\" style=\"height: auto\">\n",
       "              <figcaption style=\"font-size: 0.6em\">8</figcaption>\n",
       "            </figure>\n",
       "        \n",
       "            <figure style=\"margin: 5px !important;\">\n",
       "              <img src=\"data:image/png;base64,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\" style=\"height: auto\">\n",
       "              <figcaption style=\"font-size: 0.6em\">9</figcaption>\n",
       "            </figure>\n",
       "        \n",
       "    </div>"
      ],
      "text/plain": [
       "<IPython.core.display.HTML object>"
      ]
     },
     "execution_count": 5,
     "metadata": {},
     "output_type": "execute_result"
    }
   ],
   "source": [
    "count = 8\n",
    "\n",
    "def get_images_and_labels(df, ids):\n",
    "    image_datas = df.loc[ids]['png']\n",
    "    images = [Image.open(io.BytesIO(image_data)) for image_data in image_datas]\n",
    "    labels = df.loc[ids]['value']\n",
    "    return images, list(labels)\n",
    "\n",
    "def get_some_random_images_and_labels(df, count):\n",
    "    image_ids = RNG.choice(df.index.unique(), count, replace=False)\n",
    "    return get_images_and_labels(df, image_ids)\n",
    "\n",
    "train_images, train_labels = get_some_random_images_and_labels(df_train_images, count)\n",
    "test_images, test_labels = get_some_random_images_and_labels(df_test_images, count)\n",
    "\n",
    "display_images_grid(train_images + test_images, captions=train_labels + test_labels, col_count=count)"
   ]
  },
  {
   "cell_type": "markdown",
   "id": "49a9c189-4620-4fff-b12c-0553540cc48d",
   "metadata": {},
   "source": [
    "# Core logic"
   ]
  },
  {
   "cell_type": "markdown",
   "id": "3e1f9cdd-a16c-4406-9eb6-69a653b84175",
   "metadata": {},
   "source": [
    "## Hyper Parameters"
   ]
  },
  {
   "cell_type": "code",
   "execution_count": 6,
   "id": "8d1303e2-9a31-466c-8eb6-48bd7a0a7fb8",
   "metadata": {},
   "outputs": [],
   "source": [
    "# HP_SIGNAL_VEC_LEN = 2000 # aka SBV\n",
    "# HP_SIGNAL_VEC_NON_ZERO_BITS = 9\n",
    "# HP_SIGNAL_ENCODING = f'{HP_SIGNAL_VEC_LEN}/{HP_SIGNAL_VEC_NON_ZERO_BITS}'\n",
    "\n",
    "# HP_CLUSTER_ONES_COUNT_THRES = 5\n",
    "# HP_CLUSTER_CREATION_ONES_COUNT_THRES = 6\n",
    "# HP_CLUSTER_LEARN_STATE_IDLE_CYCLES = 10\n",
    "# HP_CLUSTER_PREPROD_STATE_IDLE_CYCLES = 30\n",
    "# HP_CLUSTER_LEARN_STATE_BINARIZE_SCHEDULE = (10, 20)\n",
    "# HP_CLUSTER_PREPROD_STATE_SIGNALS_PROCESSED_THRES = 10\n",
    "# HP_CLUSTER_BINARIZE_THRES = 0.75\n",
    "# HP_CLUSTER_ACCURACY_THRES = 0.75\n",
    "\n",
    "# HP_PIXELS_COUNT = config.sample_size ** 2\n",
    "\n",
    "HP_SIGNAL_VEC_LEN = 256 # aka SBV\n",
    "HP_SIGNAL_VEC_NON_ZERO_BITS = 6\n",
    "HP_SIGNAL_ENCODING = f'{HP_SIGNAL_VEC_LEN}/{HP_SIGNAL_VEC_NON_ZERO_BITS}'\n",
    "\n",
    "HP_POINTS_COUNT = 60_000\n",
    "HP_POINT_NON_ZERO_BITS = 32\n",
    "\n",
    "HP_CLUSTER_ONES_COUNT_THRES = 4\n",
    "HP_CLUSTER_CREATION_ONES_COUNT_THRES = 5\n",
    "HP_CLUSTER_LEARN_STATE_IDLE_CYCLES = 10\n",
    "HP_CLUSTER_PREPROD_STATE_IDLE_CYCLES = 30\n",
    "HP_CLUSTER_LEARN_STATE_BINARIZATION_SCHEDULE = (10, 10)\n",
    "HP_CLUSTER_PREPROD_STATE_SIGNALS_PROCESSED_THRES = 50\n",
    "HP_CLUSTER_BINARIZE_THRES = 0.75\n",
    "HP_CLUSTER_ACCURACY_THRES = 0.98\n",
    "\n",
    "HP_TOY_IMAGE_SIZE = 10\n",
    "HP_TOY_IMAGE_SQUARE = HP_TOY_IMAGE_SIZE ** 2\n",
    "HP_TOY_IMAGE_KERNEL_SIZE = 8\n",
    "HP_TOY_IMAGE_KERNEL_SQUARE = HP_TOY_IMAGE_KERNEL_SIZE ** 2\n",
    "assert HP_TOY_IMAGE_KERNEL_SIZE <= HP_TOY_IMAGE_SIZE\n",
    "HP_TOY_IMAGE_ONES_COUNT = 8\n",
    "\n",
    "HP_PIXELS_COUNT = HP_TOY_IMAGE_SQUARE\n",
    "\n",
    "HP_USE_TOY_IMAGES = True"
   ]
  },
  {
   "cell_type": "markdown",
   "id": "24850512-c1a7-4d52-a17a-bf1a5f7641a7",
   "metadata": {},
   "source": [
    "## Types"
   ]
  },
  {
   "cell_type": "code",
   "execution_count": 7,
   "id": "62aec35b-11c1-4d9a-9cdc-b7315222c610",
   "metadata": {},
   "outputs": [],
   "source": [
    "class ClusterState(StrEnum):\n",
    "    LEARN = auto()\n",
    "    PREPROD = auto()\n",
    "    PROD = auto()\n",
    "    DEAD = auto()\n",
    "\n",
    "class ClusterMeta:\n",
    "    def __init__(self, cluster_ind):\n",
    "        self.state = ClusterState.LEARN\n",
    "        self.cluster_ind = cluster_ind\n",
    "        self.cluster_key = ()\n",
    "        self.output_bit = -1\n",
    "        self.input_bits = ()\n",
    "        self.nu = 0\n",
    "        self.ones_count = -1\n",
    "        self.signals_learned = -1\n",
    "        self.signals_to_learn_till_binarization = 0\n",
    "        self.binarization_schedule = ()\n",
    "        self.stats = Counter()\n",
    "        self.verify_image_ids = {}\n",
    "        self.alarm_cycle = None"
   ]
  },
  {
   "cell_type": "markdown",
   "id": "f70e4714-7395-4a8a-93f7-7248507d6e9f",
   "metadata": {},
   "source": [
    "## Memory"
   ]
  },
  {
   "cell_type": "code",
   "execution_count": 8,
   "id": "385867d3-df1a-44cd-a8b6-ab94e752aad3",
   "metadata": {},
   "outputs": [],
   "source": [
    "def hdv_array_log_like_grow_policy(size):\n",
    "    k = math.log(size, 100_000)\n",
    "    new_size = size * 2 if k < 1 else size * 1.1\n",
    "    return int(new_size)\n",
    "\n",
    "CLUSTERS = HdvArray(HP_SIGNAL_VEC_LEN, np, initial_length=10_000, dtype='f', grow_policy=hdv_array_log_like_grow_policy)\n",
    "CLUSTER_MASKS = HdvArray(HP_SIGNAL_VEC_LEN, np, initial_length=10_000, dtype='f', grow_policy=hdv_array_log_like_grow_policy)\n",
    "CLUSTER_METAS = {} # key - cluster index, value ClusterMeta instance"
   ]
  },
  {
   "cell_type": "code",
   "execution_count": 9,
   "id": "944a2145-43bc-4ece-b640-e4562074deaf",
   "metadata": {},
   "outputs": [],
   "source": [
    "def gc_memory():\n",
    "    gc.collect()\n",
    "    \n",
    "    if cp.cuda.is_available():\n",
    "        cp.get_default_memory_pool().free_all_blocks()\n",
    "\n",
    "def clear_memory(with_gc=True):\n",
    "    CLUSTER_METAS.clear()\n",
    "    CLUSTER_MASKS.clear(is_hard_clear=True)\n",
    "    CLUSTERS.clear(is_hard_clear=True)\n",
    "\n",
    "    if with_gc:\n",
    "        gc_memory()"
   ]
  },
  {
   "cell_type": "markdown",
   "id": "540c8953-6ec6-41ad-945a-9f397989b501",
   "metadata": {},
   "source": [
    "## Combinatorial Points"
   ]
  },
  {
   "cell_type": "code",
   "execution_count": 10,
   "id": "9dbcbcad-eb00-4479-a32b-ae36b8373cce",
   "metadata": {},
   "outputs": [
    {
     "name": "stdout",
     "output_type": "stream",
     "text": [
      "60000 POINTS loaded from database (ROWID=1)\n"
     ]
    }
   ],
   "source": [
    "df_points = pd.read_sql('SELECT rowid, points, output_bits FROM points WHERE encoding=:encoding AND count=:count AND non_zero_bits=:non_zero_bits', \n",
    "                        params={\n",
    "                            'encoding': HP_SIGNAL_ENCODING,\n",
    "                            'count': HP_POINTS_COUNT,\n",
    "                            'non_zero_bits': HP_POINT_NON_ZERO_BITS}, \n",
    "                        con=transfs_db_con)\n",
    "\n",
    "if len(df_points) > 0:\n",
    "    POINTS = pickle.loads(df_points.iloc[0].points)\n",
    "    POINT_OUTPUT_BITS = pickle.loads(df_points.iloc[0].output_bits)\n",
    "    assert np.all(POINTS.sum(axis=1) == HP_POINT_NON_ZERO_BITS)\n",
    "    assert POINTS.shape[0] == POINT_OUTPUT_BITS.shape[0]\n",
    "    print(f'{POINTS.shape[0]} POINTS loaded from database (ROWID={df_points.iloc[0].rowid})')\n",
    "else:\n",
    "    POINTS = []\n",
    "    POINT_OUTPUT_BITS = []\n",
    "    output_bits = RNG.choice(HP_SIGNAL_VEC_LEN, HP_POINTS_COUNT)\n",
    "    \n",
    "    for output_bit in output_bits:\n",
    "        point_vec = np.zeros(HP_SIGNAL_VEC_LEN, dtype='f')\n",
    "        non_zero_inds = RNG.choice(HP_SIGNAL_VEC_LEN, HP_POINT_NON_ZERO_BITS, replace=False)\n",
    "        point_vec[non_zero_inds] = 1\n",
    "        POINTS.append(point_vec)\n",
    "        POINT_OUTPUT_BITS.append(output_bit)\n",
    "\n",
    "    POINTS = np.vstack(POINTS)\n",
    "    POINT_OUTPUT_BITS = np.hstack(POINT_OUTPUT_BITS)\n",
    "    assert np.all(POINTS.sum(axis=1) == HP_POINT_NON_ZERO_BITS)\n",
    "    assert POINTS.shape[0] == POINT_OUTPUT_BITS.shape[0]\n",
    "    transfs_db_con.execute('INSERT INTO points(encoding, count, non_zero_bits, points, output_bits) VALUES(:encoding, :count, :non_zero_bits, :points, :output_bits)', \n",
    "                           {\n",
    "                               'encoding': HP_SIGNAL_ENCODING, \n",
    "                               'count': HP_POINTS_COUNT,\n",
    "                               'non_zero_bits': HP_POINT_NON_ZERO_BITS,\n",
    "                               'points': pickle.dumps(POINTS),\n",
    "                               'output_bits': pickle.dumps(POINT_OUTPUT_BITS)\n",
    "                           })\n",
    "    print(f'{POINTS.shape[0]} POINTS created from scratch')"
   ]
  },
  {
   "cell_type": "markdown",
   "id": "6438e5f1-7eb4-483c-8572-a32543ab348d",
   "metadata": {},
   "source": [
    "## Pixels SBV"
   ]
  },
  {
   "cell_type": "raw",
   "id": "c0294e1e-250b-45b4-aa7b-8172ed6328c5",
   "metadata": {},
   "source": [
    "SBV stands for \"sparsed binary vector\""
   ]
  },
  {
   "cell_type": "code",
   "execution_count": 11,
   "id": "b1a43c52-4006-4a8e-a97d-507ee8f69ef7",
   "metadata": {},
   "outputs": [
    {
     "name": "stdout",
     "output_type": "stream",
     "text": [
      "PIXEL_SBVS loaded from database (ROWID=2)\n"
     ]
    }
   ],
   "source": [
    "df_pixels = pd.read_sql('SELECT rowid, sbv FROM pixels WHERE encoding=:encoding', params={'encoding': HP_SIGNAL_ENCODING}, con=transfs_db_con)\n",
    "\n",
    "if len(df_pixels) > 0:\n",
    "    PIXEL_SBVS = pickle.loads(df_pixels.iloc[0].sbv)\n",
    "    print(f'PIXEL_SBVS loaded from database (ROWID={df_pixels.iloc[0].rowid})')\n",
    "else:\n",
    "    PIXEL_SBVS = np.zeros((HP_PIXELS_COUNT, HP_SIGNAL_VEC_LEN), dtype='f')\n",
    "    \n",
    "    for i in range(PIXEL_SBVS.shape[0]):\n",
    "        ii = RNG.choice(HP_SIGNAL_VEC_LEN, HP_SIGNAL_VEC_NON_ZERO_BITS, replace=False)\n",
    "        PIXEL_SBVS[i][ii] = 1\n",
    "\n",
    "    transfs_db_con.execute('INSERT INTO pixels (encoding, sbv) VALUES (:encoding, :sbv)', {'encoding': HP_SIGNAL_ENCODING, 'sbv': pickle.dumps(PIXEL_SBVS)})\n",
    "    print('PIXEL_SBVS created from scratch')\n",
    "\n",
    "assert PIXEL_SBVS.shape[0] == HP_PIXELS_COUNT\n",
    "assert np.all(PIXEL_SBVS.sum(axis=1) == HP_SIGNAL_VEC_NON_ZERO_BITS)\n",
    "# PIXEL_SBVS = xp_array_to_gpu(PIXEL_SBVS)"
   ]
  },
  {
   "cell_type": "markdown",
   "id": "de73e165-ba51-4050-b4b8-1af91973f3e3",
   "metadata": {},
   "source": [
    "## lambdas"
   ]
  },
  {
   "cell_type": "code",
   "execution_count": 12,
   "id": "9973a30b-4267-42a8-b61c-5c2c869c902c",
   "metadata": {},
   "outputs": [],
   "source": [
    "fetch_si_xy = lambda si: (si.x, si.y)\n",
    "get_sequence = lambda sequences: np.array(list(itertools.chain.from_iterable(sequences)))\n",
    "get_sequences_reading = lambda sequences, seq_reading_code: list(map(lambda r: sequences[r[0]] if r[1] == 0 else list(reversed(sequences[r[0]])), seq_reading_code))\n",
    "get_xy_sequence = lambda sequence, si_ind_dict: np.array(list(map(lambda si_ind: fetch_si_xy(si_ind_dict[si_ind]), sequence)))\n",
    "get_raw_image = lambda image_id: Image.open(io.BytesIO((df_train_images if image_id < 100_000_000 else df_test_images).loc[image_id]['png']))\n",
    "get_cluster_key = lambda tag, output_bit, input_bits: (tag, int(output_bit), tuple(map(int, sorted(input_bits))))\n",
    "signal_elem_ind_to_xy = lambda ind: (int(ind % HP_COMBI_SPACE_SIZE), int(ind // HP_COMBI_SPACE_SIZE))\n",
    "signal_elem_inds_to_xy = lambda inds: list(map(lambda ind: signal_elem_ind_to_xy(ind), inds))\n",
    "get_cluster_logic = lambda cluster_ind: (signal_elem_inds_to_xy(xp_array_from_gpu(xp.argwhere(CLUSTERS.array_active[cluster_ind]).ravel()).astype('i')), signal_elem_ind_to_xy(CLUSTER_METAS[cluster_ind].output_bit))"
   ]
  },
  {
   "cell_type": "markdown",
   "id": "a6579ab9-f958-4519-9eff-82e5e9b4677f",
   "metadata": {},
   "source": [
    "## calc_seq_ipxy"
   ]
  },
  {
   "cell_type": "raw",
   "id": "c8f25bec-0e1b-4f6d-9fd1-42e8c2d678a9",
   "metadata": {},
   "source": [
    "IPXY = InterPolate by XY"
   ]
  },
  {
   "cell_type": "code",
   "execution_count": 13,
   "id": "442809ec-87e2-47d6-be59-672b60fcd5bc",
   "metadata": {},
   "outputs": [],
   "source": [
    "def calc_seq_ipxy(sequences, si_ind_dict):\n",
    "    unique_pts = {} # Dictionaries preserve insertion order  (https://docs.python.org/3/library/stdtypes.html#typesmapping)\n",
    "        \n",
    "    for sequence in sequences:\n",
    "        xy_sequence = get_xy_sequence(sequence, si_ind_dict)\n",
    "        xy_sequence_fwd = np.roll(xy_sequence, -1, axis=0)\n",
    "        vec_sequence = xy_sequence_fwd - xy_sequence\n",
    "        vec_sequence[-1,:] = 0 # get rid of reciprocal vector which connects tail to tip\n",
    "        vec_len_sequence = np.linalg.norm(vec_sequence, axis=1)\n",
    "        vec_len_sequence_nozero = np.where(vec_len_sequence != 0, vec_len_sequence, 1e-6) # prevent 0 len vectors\n",
    "        norm_vec_sequence = (vec_sequence.T / vec_len_sequence_nozero).T\n",
    "        vec_len_sequence = np.round(vec_len_sequence, decimals=0).astype(int)\n",
    "        \n",
    "        assert len(sequence) == vec_sequence.shape[0]\n",
    "        assert len(sequence) == vec_len_sequence.shape[0]\n",
    "        assert len(sequence) == norm_vec_sequence.shape[0]\n",
    "        \n",
    "        for pt, pt_to, norm_vec, vec_len in zip(xy_sequence, xy_sequence_fwd, norm_vec_sequence, vec_len_sequence):\n",
    "            if vec_len <= 0:\n",
    "                continue\n",
    "\n",
    "            pts = pt + (np.arange(vec_len) * norm_vec[np.newaxis,:].T).T # path interpolation\n",
    "            pts = np.round(pts, decimals=0).astype(int)\n",
    "            pts = np.vstack([pts, pt_to])\n",
    "            unique_pts.update(map(lambda p: (tuple(p), 1), pts))\n",
    "\n",
    "    return np.vstack(list(unique_pts.keys()))"
   ]
  },
  {
   "cell_type": "markdown",
   "id": "2fbb6298-8d85-4d7b-bd1b-db831bd714d0",
   "metadata": {},
   "source": [
    "## calc_seq_bv"
   ]
  },
  {
   "cell_type": "raw",
   "id": "d7c672d8-825f-4a48-ae5c-6c4a4a68b901",
   "metadata": {},
   "source": [
    "BV - binary vector with one-hot encoding"
   ]
  },
  {
   "cell_type": "code",
   "execution_count": 14,
   "id": "bf069dce-adf8-453c-be28-b55a61f97627",
   "metadata": {},
   "outputs": [],
   "source": [
    "def calc_seq_bv(seq_xy):\n",
    "    seq_xy = xp_array_to_gpu(seq_xy)\n",
    "    seq_xy = seq_xy * (HP_COMBI_SPACE_SIZE / config.sample_size)\n",
    "    # Leave only points which fit into square defined by HP_COMBI_CLUSTERS_SPACE_SIZE,\n",
    "    # use filtering instead of clipping because clipping tends to introduce false point clustering at the bounadries\n",
    "    seq_xy = xp.round(seq_xy, decimals=0)\n",
    "    ii = xp.all(((seq_xy >= 0) & (seq_xy < HP_COMBI_SPACE_SIZE)), axis=1) \n",
    "    seq_xy = seq_xy[ii]\n",
    "    ind_seq = (seq_xy @ xp.array([1, HP_COMBI_SPACE_SIZE])).astype(int)\n",
    "    bitmap_vec = xp.zeros((HP_COMBI_SPACE_SIZE, HP_COMBI_SPACE_SIZE), dtype='f').ravel()\n",
    "    bitmap_vec[ind_seq] = 1\n",
    "    return bitmap_vec"
   ]
  },
  {
   "cell_type": "markdown",
   "id": "8a7dc09c-d4b0-4fbd-a76d-92684194d275",
   "metadata": {},
   "source": [
    "## calc_seq_sbv"
   ]
  },
  {
   "cell_type": "code",
   "execution_count": 15,
   "id": "6b092598-5634-479f-b788-de7de2b5b22e",
   "metadata": {},
   "outputs": [],
   "source": [
    "def calc_seq_sbv(seq_xy):\n",
    "    ii = np.all(((seq_xy >= 0) & (seq_xy < config.sample_size)), axis=1) \n",
    "    seq_xy = seq_xy[ii]\n",
    "    ind_seq = (seq_xy @ np.array([1, config.sample_size])).astype(int)\n",
    "    seq_sbv = np.where(np.sum(PIXEL_SBVS[ind_seq], axis=0) > 0, 1, 0) # aka Bloom filter\n",
    "    return seq_sbv"
   ]
  },
  {
   "cell_type": "code",
   "execution_count": 16,
   "id": "f929d080-2398-4055-a1d9-0189f89bee39",
   "metadata": {},
   "outputs": [],
   "source": [
    "# def calc_seq_sbv(seq_xy):\n",
    "#     seq_xy = xp_array_to_gpu(seq_xy)\n",
    "#     ii = xp.all(((seq_xy >= 0) & (seq_xy < config.sample_size)), axis=1) \n",
    "#     seq_xy = seq_xy[ii]\n",
    "#     ind_seq = (seq_xy @ xp.array([1, config.sample_size])).astype(int)\n",
    "#     seq_sbv = xp.where(xp.sum(PIXEL_SBVS[ind_seq], axis=0) > 0, 1, 0) # aka Bloom filter\n",
    "#     return seq_sbv"
   ]
  },
  {
   "cell_type": "markdown",
   "id": "76bee177-67c1-4f6d-8ab6-14d652cb5515",
   "metadata": {},
   "source": [
    "## seq_sbv_to_bv"
   ]
  },
  {
   "cell_type": "code",
   "execution_count": 17,
   "id": "3ca199c2-561d-449c-be1a-9662e97ef703",
   "metadata": {},
   "outputs": [],
   "source": [
    "def seq_sbv_to_bv(seq_sbv):\n",
    "    seq_sbv = xp_array_from_gpu(seq_sbv)\n",
    "    pixel_sbv_inds = np.argwhere((PIXEL_SBVS @ seq_sbv) >= HP_SIGNAL_VEC_NON_ZERO_BITS).ravel()\n",
    "    seq_bv = np.zeros((config.sample_size, config.sample_size)).ravel()\n",
    "    seq_bv[pixel_sbv_inds] = 1\n",
    "    return seq_bv"
   ]
  },
  {
   "cell_type": "markdown",
   "id": "5d288799-ded2-4d59-a102-d6fec7581575",
   "metadata": {},
   "source": [
    "## get_seq_bv_pair"
   ]
  },
  {
   "cell_type": "code",
   "execution_count": 18,
   "id": "57e7573e-e617-4e98-b4e7-927032d178b5",
   "metadata": {},
   "outputs": [],
   "source": [
    "def get_seq_bv_pair(df_image, transf):\n",
    "    si_ind_dict = pickle.loads(df_image.inner_si_ind_dict)\n",
    "    sequences = pickle.loads(df_image.inner_sequences)\n",
    "    seq_reading_code = tuple(zip(range(len(sequences)), (0,) * len(sequences)))\n",
    "    seq_reading = get_sequences_reading(sequences, seq_reading_code)\n",
    "    seq_ipxy = calc_seq_ipxy(seq_reading, si_ind_dict)\n",
    "    seq_bv = calc_seq_bv(seq_ipxy)\n",
    "\n",
    "    seq_ipxy_transf = np.hstack([seq_ipxy, np.ones(seq_ipxy.shape[0])[:,np.newaxis]]) # make homogeneous coords\n",
    "    seq_ipxy_transf = (transf @ seq_ipxy_transf.T).T[:,:2]\n",
    "    seq_bv_transf = calc_seq_bv(seq_ipxy_transf)\n",
    "    \n",
    "    return seq_bv, seq_bv_transf"
   ]
  },
  {
   "cell_type": "markdown",
   "id": "1f4341be-05a5-42c1-8c1b-cd855427d724",
   "metadata": {},
   "source": [
    "## get_seq_sbv_pair"
   ]
  },
  {
   "cell_type": "code",
   "execution_count": 19,
   "id": "8d3dbf81-c490-4b1f-8f86-c08a50a2d0b5",
   "metadata": {},
   "outputs": [],
   "source": [
    "def get_seq_sbv_pair_kern(sequences, si_ind_dict, transf):\n",
    "    seq = get_sequence(sequences)\n",
    "    seq_xy = get_xy_sequence(seq, si_ind_dict)\n",
    "    \n",
    "    seq_sbv = calc_seq_sbv(seq_xy)\n",
    "\n",
    "    seq_xy_transf = np.hstack([seq_xy, np.ones(seq_xy.shape[0])[:,np.newaxis]]) # make homogeneous coords\n",
    "    seq_xy_transf = (transf @ seq_xy_transf.T).T[:,:2]\n",
    "    seq_sbv_transf = calc_seq_sbv(seq_xy_transf)\n",
    "    \n",
    "    return seq_sbv, seq_sbv_transf"
   ]
  },
  {
   "cell_type": "code",
   "execution_count": 20,
   "id": "1fa66b17-293e-4681-9058-e2b0ac01d9ab",
   "metadata": {},
   "outputs": [],
   "source": [
    "def get_seq_sbv_pair(df_image, transf):\n",
    "    sequences = pickle.loads(df_image.inner_sequences)\n",
    "    si_ind_dict = pickle.loads(df_image.inner_si_ind_dict)\n",
    "    return get_seq_sbv_pair_kern(sequences, si_ind_dict, transf)"
   ]
  },
  {
   "cell_type": "markdown",
   "id": "aa61025a-f1f8-4b85-9b3b-a28c919b4387",
   "metadata": {},
   "source": [
    "## get_random_toy_image_ids"
   ]
  },
  {
   "cell_type": "code",
   "execution_count": 21,
   "id": "b0f9ed5a-fde1-473f-8f25-895767869647",
   "metadata": {},
   "outputs": [],
   "source": [
    "def get_random_toy_image_ids(count):\n",
    "    result = []\n",
    "    bits_list = RNG.integers(2, size=(count, HP_TOY_IMAGE_KERNEL_SQUARE), dtype='b')\n",
    "\n",
    "    for _ in range(count):\n",
    "        bits = np.zeros(HP_TOY_IMAGE_KERNEL_SQUARE, dtype='b')\n",
    "        ii = RNG.choice(HP_TOY_IMAGE_KERNEL_SQUARE, HP_TOY_IMAGE_ONES_COUNT, replace=False)\n",
    "        bits[ii] = 1\n",
    "        image_id = sum(map(lambda x: 2**int(x), ii))\n",
    "        assert ''.join(map(str, reversed(bits))) == np.binary_repr(image_id, width=HP_TOY_IMAGE_KERNEL_SQUARE)\n",
    "        result.append(image_id)\n",
    "\n",
    "    return result"
   ]
  },
  {
   "cell_type": "markdown",
   "id": "54d7a684-fe05-46e1-8c6e-a1b75279c8d4",
   "metadata": {},
   "source": [
    "## get_toy_image"
   ]
  },
  {
   "cell_type": "code",
   "execution_count": 22,
   "id": "18fd1716-363b-419b-81b4-f91b632785b3",
   "metadata": {},
   "outputs": [],
   "source": [
    "def get_toy_image(image_id):\n",
    "    bits = np.binary_repr(image_id, width=HP_TOY_IMAGE_KERNEL_SQUARE)\n",
    "    bits = np.array(list(map(int, reversed(bits))), dtype='f')\n",
    "    image = np.zeros((HP_TOY_IMAGE_SIZE, HP_TOY_IMAGE_SIZE), dtype='f')\n",
    "    offset = (HP_TOY_IMAGE_SIZE - HP_TOY_IMAGE_KERNEL_SIZE) // 2\n",
    "    image[offset:offset+HP_TOY_IMAGE_KERNEL_SIZE,offset:offset+HP_TOY_IMAGE_KERNEL_SIZE] = bits.reshape(HP_TOY_IMAGE_KERNEL_SIZE, -1)\n",
    "    return image.ravel()"
   ]
  },
  {
   "cell_type": "markdown",
   "id": "47d09d0f-663b-4c6a-a67c-ca314d7bfaeb",
   "metadata": {},
   "source": [
    "## get_toy_image_pixel_coords"
   ]
  },
  {
   "cell_type": "code",
   "execution_count": 23,
   "id": "8759db1c-d34d-4725-b2f8-6cf0e1576d88",
   "metadata": {},
   "outputs": [],
   "source": [
    "def get_toy_image_pixel_coords(toy_image):\n",
    "    toy_image = vec_to_square_matrix(toy_image)\n",
    "    pixel_ij_list = np.nonzero(toy_image) # tuple of 2 arrays (i and j) where pixels are non zero\n",
    "    ij = np.array(list(zip(*pixel_ij_list)))\n",
    "    xy = np.roll(ij, 1, axis=1)\n",
    "    return xy"
   ]
  },
  {
   "cell_type": "markdown",
   "id": "3efadb1b-0890-49dd-a960-a79bc3dbf342",
   "metadata": {},
   "source": [
    "## transform_toy_image"
   ]
  },
  {
   "cell_type": "code",
   "execution_count": 24,
   "id": "6df827de-0961-4886-8249-c4cd20028c89",
   "metadata": {},
   "outputs": [],
   "source": [
    "def transform_toy_image(toy_image, transf):\n",
    "    xy_list = get_toy_image_pixel_coords(toy_image)\n",
    "    xy_list = (transf @ np.hstack([xy_list, np.ones(xy_list.shape[0])[:,np.newaxis]]).T).T[:,:2]\n",
    "    xy_list = np.round(xy_list, decimals=0).astype(int)\n",
    "    ii = np.all(((xy_list >= 0) & (xy_list < HP_TOY_IMAGE_SIZE)), axis=1) \n",
    "    xy_list = xy_list[ii]\n",
    "    inds = (xy_list @ np.array([1, HP_TOY_IMAGE_SIZE])).astype(int)\n",
    "    toy_image = np.zeros_like(toy_image.ravel())\n",
    "    toy_image[inds] = 1\n",
    "    return toy_image"
   ]
  },
  {
   "cell_type": "markdown",
   "id": "c53ad2f3-dc17-4bcb-a9c9-9b44aa1f3a42",
   "metadata": {},
   "source": [
    "## calc_toy_image_sbv"
   ]
  },
  {
   "cell_type": "code",
   "execution_count": 25,
   "id": "d240081d-6785-4dc9-9139-114faf2f88d4",
   "metadata": {},
   "outputs": [],
   "source": [
    "def calc_toy_image_sbv(image):\n",
    "    assert image.shape[0] == PIXEL_SBVS.shape[0]\n",
    "    mask = image.astype(bool)\n",
    "    active_pixels = PIXEL_SBVS[mask]\n",
    "    return np.where(active_pixels.sum(axis = 0) > 0, 1, 0) # aka Bloom filter"
   ]
  },
  {
   "cell_type": "markdown",
   "id": "33dcc7c6-f12f-4c92-b55e-3901f92796ce",
   "metadata": {},
   "source": [
    "## toy_image_sbv_to_bv"
   ]
  },
  {
   "cell_type": "code",
   "execution_count": 26,
   "id": "b4c1ec61-f00f-447e-9cf1-a161ef102b4f",
   "metadata": {},
   "outputs": [],
   "source": [
    "def toy_image_sbv_to_bv(sbv):\n",
    "    sbv = xp_array_from_gpu(sbv)\n",
    "    pixel_sbv_inds = np.argwhere((PIXEL_SBVS @ sbv) >= HP_SIGNAL_VEC_NON_ZERO_BITS).ravel()\n",
    "    bv = np.zeros((HP_TOY_IMAGE_SIZE, HP_TOY_IMAGE_SIZE)).ravel()\n",
    "    bv[pixel_sbv_inds] = 1\n",
    "    return bv"
   ]
  },
  {
   "cell_type": "markdown",
   "id": "454d74a8-397e-42b6-af1e-18437ef2f791",
   "metadata": {},
   "source": [
    "## .lab hdc"
   ]
  },
  {
   "cell_type": "code",
   "execution_count": 27,
   "id": "8a77cf8e-74e7-408e-83ed-bf28a26b2875",
   "metadata": {},
   "outputs": [],
   "source": [
    "# hdc = Hdc(10_000, np, dtype='f')\n",
    "# hdc.bundle = hdc.bundle_noties\n",
    "# hdc.cos_sim_threshold = 0.055\n",
    "# hdc.hdist_threshold = 4700\n",
    "\n",
    "hdc = Hdc(1_000, np, dtype='f')\n",
    "hdc.bundle = hdc.bundle_noties\n",
    "hdc.cos_sim_threshold = 0.10\n",
    "\n",
    "# hdc = Hdc(2_000, np, dtype='f')\n",
    "# hdc.bundle = hdc.bundle_noties\n",
    "# hdc.cos_sim_threshold = 0.10"
   ]
  },
  {
   "cell_type": "code",
   "execution_count": 28,
   "id": "69ac53e2-f39a-4e59-abfd-2b5eeb834122",
   "metadata": {},
   "outputs": [],
   "source": [
    "PIXEL_HDVS = hdc(config.sample_size ** 2)\n",
    "PIXEL_HDVS_NORM = hdc.normalize(PIXEL_HDVS)"
   ]
  },
  {
   "cell_type": "code",
   "execution_count": 29,
   "id": "af16ae38-e56f-48df-85c5-426649ab275a",
   "metadata": {},
   "outputs": [
    {
     "data": {
      "image/png": "[encoded data removed]",
      "text/plain": [
       "<Figure size 1200x480 with 2 Axes>"
      ]
     },
     "metadata": {},
     "output_type": "display_data"
    }
   ],
   "source": [
    "image_id = RNG.choice(df_train_images.index)\n",
    "image = next(df_train_images.loc[[image_id]].itertuples())\n",
    "si_ind_dict = pickle.loads(image.inner_si_ind_dict)\n",
    "sequences = pickle.loads(image.inner_sequences)\n",
    "seq = get_sequence(sequences)\n",
    "seq_xy = get_xy_sequence(seq, si_ind_dict)\n",
    "ii = np.all(((seq_xy >= 0) & (seq_xy < config.sample_size)), axis=1) \n",
    "seq_xy = seq_xy[ii]\n",
    "ind_seq = (seq_xy @ np.array([1, config.sample_size])).astype(int)\n",
    "seq_bv_true = np.zeros((config.sample_size, config.sample_size)).ravel()\n",
    "seq_bv_true[ind_seq] = 1\n",
    "\n",
    "seq_hdv = hdc.bundle(PIXEL_HDVS[ind_seq])\n",
    "seq_hdv_binary = hdc.to_binary(seq_hdv)\n",
    "seq_hdv_bipolar = hdc.to_bipolar(seq_hdv_binary)\n",
    "seq_hdv_bipolar_norm = hdc.normalize(seq_hdv_bipolar)\n",
    "pixel_hdv_inds = np.argwhere((PIXEL_HDVS_NORM @ seq_hdv_bipolar_norm) > hdc.cos_sim_threshold).ravel()\n",
    "seq_bv = np.zeros((config.sample_size, config.sample_size)).ravel()\n",
    "seq_bv[pixel_hdv_inds] = 1\n",
    "\n",
    "error_level = np.count_nonzero(seq_bv != seq_bv_true)\n",
    "\n",
    "fig, (ax1, ax2) = plt.subplots(1, 2)\n",
    "fig.set_figwidth(12)\n",
    "ax1.set_title(f'image_id={image_id}, points={len(ind_seq)}')\n",
    "ax1.imshow(seq_bv_true.reshape(config.sample_size, -1));\n",
    "ax2.set_title(f'err.={error_level}')\n",
    "ax2.set_title(f'N={seq_hdv.shape[0]} / {seq_hdv_binary.sum():.0f}, err.={error_level}')\n",
    "ax2.imshow(seq_bv.reshape(config.sample_size, -1));"
   ]
  },
  {
   "cell_type": "code",
   "execution_count": 30,
   "id": "93bd685d-76e0-4de1-a67b-6a61e9a2c29b",
   "metadata": {},
   "outputs": [
    {
     "data": {
      "image/jpeg": "[encoded data removed]",
      "image/png": "[encoded data removed]",
      "text/plain": [
       "<PIL.PngImagePlugin.PngImageFile image mode=L size=128x128>"
      ]
     },
     "execution_count": 30,
     "metadata": {},
     "output_type": "execute_result"
    }
   ],
   "source": [
    "get_raw_image(image_id)"
   ]
  },
  {
   "cell_type": "markdown",
   "id": "582ad609-9873-4ab3-830f-488d15ecf505",
   "metadata": {},
   "source": [
    "## .lab sbv"
   ]
  },
  {
   "cell_type": "code",
   "execution_count": 31,
   "id": "9d858d2c-11f8-4b20-a572-c9c1edcfaf55",
   "metadata": {},
   "outputs": [],
   "source": [
    "# # image_id = RNG.choice(df_train_images.index)\n",
    "# # image_id = 44917 # 60 points\n",
    "# image = next(df_train_images.loc[[image_id]].itertuples())\n",
    "# si_ind_dict = pickle.loads(image.inner_si_ind_dict)\n",
    "# sequences = pickle.loads(image.inner_sequences)\n",
    "# seq = get_sequence(sequences)\n",
    "# seq_xy = get_xy_sequence(seq, si_ind_dict)\n",
    "# ii = np.all(((seq_xy >= 0) & (seq_xy < config.sample_size)), axis=1) \n",
    "# seq_xy = seq_xy[ii]\n",
    "# ind_seq = (seq_xy @ np.array([1, config.sample_size])).astype(int)\n",
    "# seq_bv_true = np.zeros((config.sample_size, config.sample_size)).ravel()\n",
    "# seq_bv_true[ind_seq] = 1\n",
    "\n",
    "# # seq_sbv = np.where(np.sum(PIXEL_SBVS[ind_seq], axis=0) > 0, 1, 0) # aka Bloom filter\n",
    "# seq_sbv = calc_seq_sbv(seq_xy)\n",
    "# # pixel_sbv_inds = np.argwhere((PIXEL_SBVS @ seq_sbv) >= SBV_NON_ZERO_INDS).ravel()\n",
    "# # seq_bv = np.zeros((config.sample_size, config.sample_size)).ravel()\n",
    "# # seq_bv[pixel_sbv_inds] = 1\n",
    "# seq_bv = seq_sbv_to_bv(seq_sbv)\n",
    "\n",
    "# error_level = np.count_nonzero(seq_bv != seq_bv_true)\n",
    "\n",
    "# fig, (ax1, ax2) = plt.subplots(1, 2)\n",
    "# fig.set_figwidth(12)\n",
    "# ax1.set_title(f'image_id={image_id}, points={len(ind_seq)}')\n",
    "# ax1.imshow(seq_bv_true.reshape(config.sample_size, -1))\n",
    "# ax2.set_title(f'sbv={seq_sbv.shape[0]} / {seq_sbv.sum()}, non_zero_inds={HP_SIGNAL_VEC_NON_ZERO_BITS}, err.={error_level}')\n",
    "# ax2.imshow(seq_bv.reshape(config.sample_size, -1));"
   ]
  },
  {
   "cell_type": "markdown",
   "id": "8a40ec0a-891b-4385-88c3-6699bf574057",
   "metadata": {},
   "source": [
    "# Train"
   ]
  },
  {
   "cell_type": "code",
   "execution_count": 32,
   "id": "4287bb50-b460-4bdd-8d19-322e30669418",
   "metadata": {},
   "outputs": [],
   "source": [
    "def get_rotate_transf(deg):\n",
    "    half_sz = config.sample_size / 2 if not HP_USE_TOY_IMAGES else HP_TOY_IMAGE_SIZE / 2\n",
    "    move_to_ooc_transf = np.array([\n",
    "        [1, 0, -half_sz],\n",
    "        [0, 1, -half_sz],\n",
    "        [0, 0, 1]])\n",
    "    theta = np.deg2rad(deg)\n",
    "    cos_theta = math.cos(theta)\n",
    "    sin_theta = math.sin(theta)\n",
    "    rotate_transf = np.array([\n",
    "        [cos_theta, -sin_theta, 0],\n",
    "        [sin_theta, cos_theta, 0],\n",
    "        [0, 0, 1]\n",
    "    ])\n",
    "    move_to_target_loc_transf = np.array([\n",
    "        [1, 0, half_sz],\n",
    "        [0, 1, half_sz],\n",
    "        [0, 0, 1]])\n",
    "    return move_to_target_loc_transf @ rotate_transf @ move_to_ooc_transf\n",
    "\n",
    "def get_offset_transf(dx=0, dy=0):\n",
    "    return np.array([\n",
    "        [1, 0, dx],\n",
    "        [0, 1, dy],\n",
    "        [0, 0, 1]])"
   ]
  },
  {
   "cell_type": "code",
   "execution_count": 33,
   "id": "d53d9c0e-7546-4979-a953-0b8f46f1ce48",
   "metadata": {},
   "outputs": [],
   "source": [
    "transfs = {\n",
    "    'offset_10_0': get_offset_transf(10, 0),\n",
    "    'offset_1_0': get_offset_transf(1, 0),\n",
    "    'rotate_45': get_rotate_transf(45),\n",
    "    'rotate_90': get_rotate_transf(90),\n",
    "}\n",
    "transf_code = 'rotate_90'\n",
    "transf = transfs[transf_code]"
   ]
  },
  {
   "cell_type": "code",
   "execution_count": 34,
   "id": "145172a9-54d1-4563-a7ab-cde78584810c",
   "metadata": {},
   "outputs": [],
   "source": [
    "LOG.is_enabled = True"
   ]
  },
  {
   "cell_type": "code",
   "execution_count": 35,
   "id": "66c512a5-916f-4a20-b37c-e0369e7d65c8",
   "metadata": {},
   "outputs": [],
   "source": [
    "HP_MAX_LEARN_CLUSTERS_COUNT = 300_000\n",
    "HP_EPOCHS_COUNT = 1\n",
    "HP_OUTPUT_BITS_PER_BATCH = 256\n",
    "HP_CYCLES_COUNT = 100\n",
    "HP_CYCLE_IMAGES_COUNT = min(100, len(df_train_images))"
   ]
  },
  {
   "cell_type": "code",
   "execution_count": null,
   "id": "14a44b60-5ac3-4951-aae9-89b5bbb89058",
   "metadata": {},
   "outputs": [],
   "source": []
  },
  {
   "cell_type": "code",
   "execution_count": 36,
   "id": "a2366ea9-8171-4373-b8ce-9cc0299c365f",
   "metadata": {},
   "outputs": [
    {
     "data": {
      "application/vnd.jupyter.widget-view+json": {
       "model_id": "0f4d9c3106d149fabc951e72cb183891",
       "version_major": 2,
       "version_minor": 0
      },
      "text/plain": [
       "Epoch:   0%|          | 0/1 [00:00<?, ?it/s]"
      ]
     },
     "metadata": {},
     "output_type": "display_data"
    },
    {
     "data": {
      "application/vnd.jupyter.widget-view+json": {
       "model_id": "ea549cb1b7ea42db898ce4774d6bf2be",
       "version_major": 2,
       "version_minor": 0
      },
      "text/plain": [
       "Output bit batch:   0%|          | 0/1 [00:00<?, ?it/s]"
      ]
     },
     "metadata": {},
     "output_type": "display_data"
    },
    {
     "data": {
      "application/vnd.jupyter.widget-view+json": {
       "model_id": "48e9e1c1db7044e5b5751cdced641166",
       "version_major": 2,
       "version_minor": 0
      },
      "text/plain": [
       "Cycle:   0%|          | 0/100 [00:00<?, ?it/s]"
      ]
     },
     "metadata": {},
     "output_type": "display_data"
    }
   ],
   "source": [
    "# %%time\n",
    "batch_output_bits_filter = lambda s, e: True\n",
    "# batch_output_bits_filter = lambda s, e: s >= 80\n",
    "\n",
    "for epoch in tqdm(range(HP_EPOCHS_COUNT), desc='Epoch'):\n",
    "    with LOG.auto_prefix('EPOCH', epoch):\n",
    "        for start_output_bit in tqdm(range(0, HP_SIGNAL_VEC_LEN, HP_OUTPUT_BITS_PER_BATCH), leave=False, desc='Output bit batch'):\n",
    "            end_output_bit = start_output_bit + HP_OUTPUT_BITS_PER_BATCH - 1\n",
    "            end_output_bit = min(end_output_bit, HP_SIGNAL_VEC_LEN - 1)\n",
    "            assert end_output_bit >= start_output_bit, (start_output_bit, end_output_bit)\n",
    "\n",
    "            if not batch_output_bits_filter(start_output_bit, end_output_bit):\n",
    "                continue\n",
    "            \n",
    "            with LOG.auto_prefix('OBITS', f'{start_output_bit}:{end_output_bit}'):\n",
    "                clear_memory(with_gc=False)\n",
    "                ## Select points for output bits (OBITS)\n",
    "                points_mask = (POINT_OUTPUT_BITS >= start_output_bit) & (POINT_OUTPUT_BITS <= end_output_bit)\n",
    "                points = xp_array_to_gpu(POINTS[points_mask])\n",
    "                point_output_bits = POINT_OUTPUT_BITS[points_mask]\n",
    "                point_inds = np.arange(points.shape[0])\n",
    "                LOG(f'{points.shape[0]} combinatorial points selected for output bits {start_output_bit}:{end_output_bit}, avg. points per output bit={points.shape[0] / ((end_output_bit - start_output_bit) + 1):.0f}')\n",
    "                assert points.shape[0] > 0\n",
    "\n",
    "                ## Restore prod clusters for output bits (OBITS)\n",
    "                df_clusters = pd.read_sql('SELECT ROWID, output_bit, sbv, meta FROM clusters WHERE encoding=:encoding AND transf_code=:transf_code ' + \n",
    "                                          'AND output_bit>=:start_output_bit AND output_bit<=:end_output_bit', \n",
    "                                          params={\n",
    "                                              'encoding': HP_SIGNAL_ENCODING, \n",
    "                                              'transf_code': transf_code,\n",
    "                                              'start_output_bit': start_output_bit, \n",
    "                                              'end_output_bit': end_output_bit}, \n",
    "                                          con=transfs_db_con)\n",
    "                \n",
    "                for cluster_row in df_clusters.itertuples():\n",
    "                    prod_clusters_for_output_bit = pickle.loads(cluster_row.sbv)\n",
    "                    prod_cluster_metas_for_output_bit = pickle.loads(cluster_row.meta)\n",
    "                    assert prod_clusters_for_output_bit.shape[0] == len(prod_cluster_metas_for_output_bit)\n",
    "\n",
    "                    for cluster, meta in zip(prod_clusters_for_output_bit, prod_cluster_metas_for_output_bit):\n",
    "                        cluster_ind = CLUSTERS.lease()\n",
    "                        assert CLUSTER_MASKS.lease() == cluster_ind\n",
    "                        meta.cluster_ind = cluster_ind\n",
    "                        CLUSTERS.array[cluster_ind] = cluster\n",
    "                        CLUSTER_MASKS.array[cluster_ind] = cluster\n",
    "                        CLUSTER_METAS[cluster_ind] = meta\n",
    "\n",
    "                    LOG(f'Loaded {prod_clusters_for_output_bit.shape[0]} clusters for output bit {cluster_row.output_bit} (ROWID={cluster_row.rowid})')\n",
    "\n",
    "                assert len(CLUSTER_METAS) == CLUSTERS.active_len\n",
    "                assert len(CLUSTER_METAS) == CLUSTER_MASKS.active_len\n",
    "                LOG(f'Loaded {len(CLUSTER_METAS)} clusters in total for encoding={HP_SIGNAL_ENCODING} and transf_code={transf_code}')\n",
    "\n",
    "                prod_cluster_metas = filter(lambda c: c.state == ClusterState.PROD, CLUSTER_METAS.values())\n",
    "                unique_cluster_keys = set(map(lambda m: m.cluster_key, prod_cluster_metas))\n",
    "                \n",
    "                ## Mine clusters\n",
    "                for cycle in tqdm(range(HP_CYCLES_COUNT), leave=False, desc='Cycle'):\n",
    "                    with LOG.auto_prefix('CYCLE', cycle):\n",
    "                        LOG(f'===')\n",
    "                        ### Prepare input and output signals for training\n",
    "                        signals_input = []\n",
    "                        signals_output = []\n",
    "                        \n",
    "                        if HP_USE_TOY_IMAGES:\n",
    "                            cycle_image_ids = get_random_toy_image_ids(HP_CYCLE_IMAGES_COUNT)\n",
    "\n",
    "                            for cycle_image_id in cycle_image_ids:\n",
    "                                toy_image_origin = get_toy_image(cycle_image_id)\n",
    "                                toy_image_transf = transform_toy_image(toy_image_origin, transf)\n",
    "                                toy_image_origin_sbv, toy_image_transf_sbv = calc_toy_image_sbv(toy_image_origin), calc_toy_image_sbv(toy_image_transf)\n",
    "                                signals_input.append(toy_image_origin_sbv)\n",
    "                                signals_output.append(toy_image_transf_sbv)\n",
    "                        else:\n",
    "                            cycle_image_ids = RNG.choice(df_train_images.index, HP_CYCLE_IMAGES_COUNT, replace=False).astype('i')\n",
    "                            df_cycle_images = df_train_images.loc[cycle_image_ids]\n",
    "                            \n",
    "                            for image in df_cycle_images.itertuples():\n",
    "                                seq_origin_sbv, seq_transf_sbv = get_seq_sbv_pair(image, transf)\n",
    "                                signals_input.append(seq_origin_sbv)\n",
    "                                signals_output.append(seq_transf_sbv)\n",
    "                        \n",
    "                        signals_input = xp.vstack(signals_input)\n",
    "                        signals_output = np.vstack(signals_output)\n",
    "                        assert signals_input.shape[0] == signals_output.shape[0]\n",
    "                        LOG(f'Prepared {signals_input.shape[0]} signals')\n",
    "                        \n",
    "                        ### \n",
    "                        cluster_states = Counter(map(lambda m: m.state.name, CLUSTER_METAS.values()))\n",
    "                        LOG(f'Cycle {cycle} started, clusters: {cluster_states}, CLUSTERS.array.shape={CLUSTERS.array.shape}')\n",
    "                        \n",
    "                        ### Create new clusters\n",
    "                        learn_cluster_count = cluster_states[ClusterState.LEARN.name]\n",
    "                        new_clusters_count = 0\n",
    "                        \n",
    "                        for signal_input, signal_output in zip(signals_input, signals_output):\n",
    "                            if learn_cluster_count > HP_MAX_LEARN_CLUSTERS_COUNT:\n",
    "                                break\n",
    "                                \n",
    "                            active_points_mask = signal_output[point_output_bits] != 0\n",
    "                            active_point_inds = point_inds[active_points_mask]\n",
    "\n",
    "                            if active_point_inds.shape[0] == 0:\n",
    "                                continue\n",
    "                                \n",
    "                            active_points = points[active_point_inds] # subset of points which are connected to active output bits\n",
    "                            active_points_signal_input_mat = active_points * signal_input\n",
    "                            active_points_signal_input_mask = (active_points_signal_input_mat.sum(axis=1) >= HP_CLUSTER_CREATION_ONES_COUNT_THRES) # active_points must have at least ON bits within input signal\n",
    "                            active_points_signal_input_mask = xp_array_from_gpu(active_points_signal_input_mask)\n",
    "                    \n",
    "                            for mask_value, point_ind, subsignal_input in zip(active_points_signal_input_mask,\n",
    "                                                                              active_point_inds, \n",
    "                                                                              xp_array_from_gpu(active_points_signal_input_mat)):\n",
    "                                if not mask_value:\n",
    "                                    continue\n",
    "                                \n",
    "                                active_output_bit = int(point_output_bits[point_ind])\n",
    "                                active_input_bits = np.flatnonzero(subsignal_input)\n",
    "                                assert active_input_bits.shape[0] >= HP_CLUSTER_CREATION_ONES_COUNT_THRES\n",
    "                                cluster_key = get_cluster_key(ClusterState.LEARN.name, active_output_bit, active_input_bits)\n",
    "                    \n",
    "                                if cluster_key in unique_cluster_keys:\n",
    "                                    continue\n",
    "                    \n",
    "                                cluster_ind = CLUSTERS.lease()\n",
    "                                cluster_mask_ind = CLUSTER_MASKS.lease()\n",
    "                                assert cluster_ind == cluster_mask_ind\n",
    "                                # due to frequent uploads hosting CLUSTERS and CLUSTER_MASKS on GPU slow downs whole process a lot,\n",
    "                                # as such host CLUSTERS and CLUSTER_MASKS on CPU and bulk upload to GPU when needed\n",
    "                                CLUSTERS.array[cluster_ind] = subsignal_input\n",
    "                                CLUSTER_MASKS.array[cluster_ind] = subsignal_input\n",
    "                                cluster_meta = ClusterMeta(cluster_ind)\n",
    "                                cluster_meta.cluster_key = cluster_key\n",
    "                                cluster_meta.output_bit = active_output_bit\n",
    "                                cluster_meta.input_bits = tuple(active_input_bits)\n",
    "                                cluster_meta.nu = 1 / subsignal_input.sum()\n",
    "                                cluster_meta.signals_to_learn_till_binarization = HP_CLUSTER_LEARN_STATE_BINARIZATION_SCHEDULE[0]\n",
    "                                cluster_meta.binarization_schedule = HP_CLUSTER_LEARN_STATE_BINARIZATION_SCHEDULE\n",
    "                                cluster_meta.alarm_cycle = cycle + HP_CLUSTER_LEARN_STATE_IDLE_CYCLES\n",
    "                                CLUSTER_METAS[cluster_ind] = cluster_meta\n",
    "                                unique_cluster_keys.add(cluster_key)\n",
    "                                new_clusters_count += 1\n",
    "                                learn_cluster_count += 1\n",
    "                    \n",
    "                        LOG(f'Created {new_clusters_count} clusters')\n",
    "\n",
    "                        ### Upload clusters to GPU to speed-up learning, binarization and verification steps\n",
    "                        gpu_clusters = xp_array_to_gpu(CLUSTERS.array_active)\n",
    "                        gpu_cluster_masks = xp_array_to_gpu(CLUSTER_MASKS.array_active)\n",
    "                        gpu_cluster_nus = np.zeros(CLUSTERS.active_len)\n",
    "                        for m in CLUSTER_METAS.values(): gpu_cluster_nus[m.cluster_ind] = m.nu\n",
    "                        gpu_cluster_nus = xp_array_to_gpu(gpu_cluster_nus)\n",
    "                        LOG('GPU upload complete')\n",
    "\n",
    "                        ### Learn clusters\n",
    "                        learn_cluster_metas = list(filter(lambda c: c.state == ClusterState.LEARN, CLUSTER_METAS.values()))\n",
    "                        learn_cluster_inds = np.array(list(map(lambda m: m.cluster_ind, learn_cluster_metas)), dtype='i')\n",
    "                        learn_cluster_output_bits = list(map(lambda m: m.output_bit, learn_cluster_metas))\n",
    "                        learned_clusters_inds = set()\n",
    "                        \n",
    "                        for signal_input, signal_output in zip(signals_input, signals_output):\n",
    "                            # this stanza 'signal_output[learn_cluster_output_bits] != 0' effectively produces\n",
    "                            # boolean mask for learn_cluster_inds - clusters which are connected to currently active output bits\n",
    "                            active_cluster_inds = learn_cluster_inds[signal_output[learn_cluster_output_bits] != 0]\n",
    "                    \n",
    "                            if active_cluster_inds.shape[0] == 0:\n",
    "                                continue\n",
    "                            \n",
    "                            active_clusters = gpu_clusters[active_cluster_inds] # subset of CLUSTERS which are connected to active bits in signal_output\n",
    "                            active_cluster_masks = gpu_cluster_masks[active_cluster_inds]\n",
    "                            active_cluster_nus = gpu_cluster_nus[active_cluster_inds]\n",
    "\n",
    "                            ys = signal_input @ active_clusters.T # how each cluster reacted on signal_input (strength), ca. shape (35,).\n",
    "                            zs = signal_input @ active_cluster_masks.T # number of activated bits within each cluster for given signal_input, ca. shape (35,)\n",
    "                            grow = (signal_input * (active_cluster_nus * ys)[:,np.newaxis]) # how weights within each cluster must grow up in response to signal_input, matrix, ca. shape (35, 1024)\n",
    "                            grow *= active_cluster_masks # masking, only allow weights which belong to clusters to grow up, matrix, ca. shape (35, 1024)\n",
    "                            nomins = active_clusters + grow # grow weights within clusters\n",
    "                            denoms = nomins.max(axis=1) \n",
    "                            updated_active_clusters = (nomins.T / denoms).T \n",
    "                            # upload updated weights for those clusters which have enough bits touched by signal\n",
    "                            # (i.e. we won't update clusters which have e.g. 1 bit touched)\n",
    "                            zs_mask = xp_array_from_gpu(zs >= HP_CLUSTER_ONES_COUNT_THRES)\n",
    "                            gpu_clusters[active_cluster_inds[zs_mask]] = updated_active_clusters[zs_mask]\n",
    "                    \n",
    "                            for cluster_ind in active_cluster_inds[zs_mask]:\n",
    "                                cluster_meta = CLUSTER_METAS[cluster_ind]\n",
    "                                cluster_meta.signals_learned += 1\n",
    "                                cluster_meta.signals_to_learn_till_binarization -= 1\n",
    "                                cluster_meta.alarm_cycle = cycle + HP_CLUSTER_LEARN_STATE_IDLE_CYCLES\n",
    "                                learned_clusters_inds.add(cluster_ind)\n",
    "                    \n",
    "                        LOG(f'Learned {len(learned_clusters_inds)} clusters')\n",
    "\n",
    "                        ### Binarize LEARN clusters (develop specialization)\n",
    "                        cluster_metas_to_binarize = list(filter(lambda m: m.state == ClusterState.LEARN and m.signals_to_learn_till_binarization <= 0, CLUSTER_METAS.values()))\n",
    "                        cluster_inds_to_binarize = list(map(lambda m: m.cluster_ind, cluster_metas_to_binarize))\n",
    "                        new_cluster_states = Counter()\n",
    "\n",
    "                        if cluster_inds_to_binarize:\n",
    "                            binarized_clusters = xp.where(gpu_clusters[cluster_inds_to_binarize] > HP_CLUSTER_BINARIZE_THRES, 1, 0)\n",
    "                            gpu_clusters[cluster_inds_to_binarize] = binarized_clusters\n",
    "                            gpu_cluster_masks[cluster_inds_to_binarize] = binarized_clusters\n",
    "                            binarized_clusters_ones_counts = xp_array_from_gpu(binarized_clusters.sum(axis=1))\n",
    "                            binarized_clusters = xp_array_from_gpu(binarized_clusters)\n",
    "                        \n",
    "                            for cluster_meta, cluster, ones_count in zip(cluster_metas_to_binarize, binarized_clusters, binarized_clusters_ones_counts):\n",
    "                                cluster_ind = cluster_meta.cluster_ind\n",
    "                                cluster_meta.binarization_schedule = cluster_meta.binarization_schedule[1:]\n",
    "                                cluster_meta.signals_to_learn_till_binarization = cluster_meta.binarization_schedule[0] if cluster_meta.binarization_schedule else 0\n",
    "                                cluster_meta.ones_count = int(ones_count)\n",
    "                                assert cluster_meta.ones_count > 0\n",
    "                    \n",
    "                                if cluster_meta.ones_count >= HP_CLUSTER_ONES_COUNT_THRES:\n",
    "                                    old_cluster_key = cluster_meta.cluster_key\n",
    "                                    cluster_meta.input_bits = tuple(np.flatnonzero(cluster))\n",
    "                                    new_cluster_key = get_cluster_key(ClusterState.LEARN.name, cluster_meta.output_bit, cluster_meta.input_bits)\n",
    "    \n",
    "                                    if old_cluster_key != new_cluster_key:\n",
    "                                        if new_cluster_key in unique_cluster_keys:\n",
    "                                            cluster_meta.state = ClusterState.DEAD\n",
    "                                            cluster_meta.alarm_cycle = None\n",
    "                                        else:\n",
    "                                            cluster_meta.cluster_key = new_cluster_key\n",
    "                                            unique_cluster_keys.remove(old_cluster_key)\n",
    "                                            unique_cluster_keys.add(new_cluster_key)\n",
    "                                else:\n",
    "                                    cluster_meta.state = ClusterState.DEAD\n",
    "                                    cluster_meta.alarm_cycle = None\n",
    "                                    \n",
    "                                new_cluster_states[cluster_meta.state.name] += 1\n",
    "                    \n",
    "                        LOG(f'Binarized {len(cluster_metas_to_binarize)} clusters: {new_cluster_states}')\n",
    "                        \n",
    "                        ### Promote LEARN clusters to PREPROD/DEAD if they've learned enough (binarization schedule is exhausted)\n",
    "                        new_cluster_states = Counter()\n",
    "                        learn_cluster_metas_to_promote = filter(lambda m: m.state == ClusterState.LEARN and not m.binarization_schedule, CLUSTER_METAS.values())\n",
    "                        \n",
    "                        for cluster_meta in learn_cluster_metas_to_promote:\n",
    "                            cluster_ind = cluster_meta.cluster_ind\n",
    "                            assert cluster_meta.ones_count >= HP_CLUSTER_ONES_COUNT_THRES\n",
    "                \n",
    "                            old_cluster_key = cluster_meta.cluster_key\n",
    "                            new_cluster_key = get_cluster_key(ClusterState.PROD.name, cluster_meta.output_bit, cluster_meta.input_bits)\n",
    "\n",
    "                            if new_cluster_key in unique_cluster_keys:\n",
    "                                cluster_meta.state = ClusterState.DEAD\n",
    "                                cluster_meta.alarm_cycle = None\n",
    "                            else:\n",
    "                                cluster_meta.cluster_key = new_cluster_key\n",
    "                                cluster_meta.state = ClusterState.PREPROD\n",
    "                                cluster_meta.alarm_cycle = cycle + HP_CLUSTER_PREPROD_STATE_IDLE_CYCLES\n",
    "                                unique_cluster_keys.remove(old_cluster_key)\n",
    "                                unique_cluster_keys.add(new_cluster_key)\n",
    "                                \n",
    "                            new_cluster_states[cluster_meta.state.name] += 1\n",
    "\n",
    "                        LOG(f'Promoted {new_cluster_states.total()} LEARN clusters: {new_cluster_states}')\n",
    "\n",
    "                        ### Promote PREPROD clusters to PROD/DEAD if they've been verified enough\n",
    "                        new_cluster_states = Counter()\n",
    "                        preprod_cluster_metas_to_promote = filter(lambda c: (c.state == ClusterState.PREPROD) and (c.stats.total() >= HP_CLUSTER_PREPROD_STATE_SIGNALS_PROCESSED_THRES), CLUSTER_METAS.values())\n",
    "                        \n",
    "                        for cluster_meta in preprod_cluster_metas_to_promote:\n",
    "                            accuracy = cluster_meta.stats[True] / cluster_meta.stats.total()\n",
    "\n",
    "                            if accuracy >= HP_CLUSTER_ACCURACY_THRES:\n",
    "                                assert cluster_meta.ones_count >= HP_CLUSTER_ONES_COUNT_THRES\n",
    "                                cluster_meta.state = ClusterState.PROD\n",
    "                                cluster_meta.alarm_cycle = None\n",
    "                            else:\n",
    "                                cluster_meta.state = ClusterState.DEAD\n",
    "                                cluster_meta.alarm_cycle = None\n",
    "                                \n",
    "                            new_cluster_states[cluster_meta.state.name] += 1\n",
    "                    \n",
    "                        LOG(f'Promoted {new_cluster_states.total()} PREPROD clusters: {new_cluster_states}')\n",
    "                    \n",
    "                        ### Verify PREPROD clusters against new signals\n",
    "                        preprod_cluster_metas = list(filter(lambda m: m.state == ClusterState.PREPROD, CLUSTER_METAS.values()))\n",
    "                        preprod_cluster_inds = np.array(list(map(lambda m: m.cluster_ind, preprod_cluster_metas)), dtype='i')\n",
    "                        preprod_cluster_ones_counts = xp.array(list(map(lambda m: m.ones_count, preprod_cluster_metas)), dtype='f')\n",
    "                        preprod_cluster_output_bits = np.array(list(map(lambda m: m.output_bit, preprod_cluster_metas)), dtype='i')\n",
    "                        preprod_clusters = gpu_clusters[preprod_cluster_inds]\n",
    "                        verified_cluster_inds = set()\n",
    "                        \n",
    "                        for signal_input, signal_output, signal_image_id in zip(signals_input, signals_output, cycle_image_ids):\n",
    "                            activated_clusters_mask = xp_array_from_gpu((preprod_clusters @ signal_input) >= preprod_cluster_ones_counts)\n",
    "                            # cast array of output_bit numbers [0, 3, 4, 7, 7, 0, 3, 32, ..] to TP array [True, False, False, True, True, True, False, False, ...]\n",
    "                            # where True if output_bit of preprod_cluster is enabled in signal_output and False otherwise\n",
    "                            preprod_cluster_output_bits_tf = signal_output[preprod_cluster_output_bits] != 0\n",
    "                            \n",
    "                            for cluster_ind, tf in zip(preprod_cluster_inds[activated_clusters_mask], preprod_cluster_output_bits_tf[activated_clusters_mask]):\n",
    "                                tf = bool(tf) # not mandatory, but eases further inspections by eyes\n",
    "                                signal_image_id = int(signal_image_id)\n",
    "                                cluster_meta = CLUSTER_METAS[cluster_ind]\n",
    "                    \n",
    "                                if not signal_image_id in cluster_meta.verify_image_ids:\n",
    "                                    cluster_meta.stats[tf] += 1\n",
    "                                    cluster_meta.verify_image_ids[signal_image_id] = tf\n",
    "                                    cluster_meta.alarm_cycle = cycle + HP_CLUSTER_PREPROD_STATE_IDLE_CYCLES\n",
    "                                    verified_cluster_inds.add(cluster_ind)\n",
    "                    \n",
    "                        LOG(f'Verified {len(verified_cluster_inds)} clusters')\n",
    "\n",
    "                        ### Download back clusters and masks back from GPU so they can be modified on CPU side during weeding\n",
    "                        CLUSTERS.array_active[:] = xp_array_from_gpu(gpu_clusters)\n",
    "                        CLUSTER_MASKS.array_active[:] = xp_array_from_gpu(gpu_cluster_masks)\n",
    "                        LOG('GPU download complete')\n",
    "\n",
    "                        ### Weed the garden\n",
    "                        unneeded_cluster_metas = []\n",
    "                        unneeded_cluster_metas.extend(filter(lambda m: m.state == ClusterState.DEAD, CLUSTER_METAS.values()))\n",
    "                        unneeded_cluster_metas.extend(filter(lambda m: m.alarm_cycle is not None and m.alarm_cycle < cycle, CLUSTER_METAS.values()))\n",
    "                        \n",
    "                        for cluster_meta in unneeded_cluster_metas:\n",
    "                            cluster_ind = cluster_meta.cluster_ind\n",
    "                            unique_cluster_keys.remove(cluster_meta.cluster_key)\n",
    "                            del CLUSTER_METAS[cluster_ind]\n",
    "                            CLUSTERS.release(cluster_ind)\n",
    "                            CLUSTER_MASKS.release(cluster_ind)\n",
    "                    \n",
    "                        LOG(f'Removed {len(unneeded_cluster_metas)} loser clusters')\n",
    "\n",
    "                ## Persist mined prod clusters for output bits (OBITS)\n",
    "                output_bit_to_prod_cluster_metas = defaultdict(list)\n",
    "                gpu_clusters = xp_array_to_gpu(CLUSTERS.array_active)\n",
    "                persisted_count = 0\n",
    "                \n",
    "                for meta in filter(lambda m: m.state == ClusterState.PROD, CLUSTER_METAS.values()):\n",
    "                    output_bit_to_prod_cluster_metas[meta.output_bit].append(meta)\n",
    "\n",
    "                for output_bit, metas in output_bit_to_prod_cluster_metas.items():\n",
    "                    cluster_inds = list(map(lambda m: m.cluster_ind, metas))\n",
    "                    # Leave only super clusters, i.e. clusters which are not subsets of any other clusters\n",
    "                    clusters = gpu_clusters[cluster_inds]\n",
    "                    crossings = (clusters @ clusters.T)\n",
    "                    cluster_ones_counts = clusters.sum(axis=1)\n",
    "                    crossings[xp.diag_indices_from(crossings)] = 0\n",
    "                    super_clusters_mask = ~xp.any((crossings.T >= cluster_ones_counts).T, axis=1)\n",
    "\n",
    "                    clusters = xp_array_from_gpu(clusters[super_clusters_mask])\n",
    "                    super_clusters_mask = xp_array_from_gpu(super_clusters_mask)\n",
    "                    \n",
    "                    pickled_clusters = pickle.dumps(clusters)\n",
    "                    pickled_metas = pickle.dumps(list(map(lambda x: x[1], filter(lambda x: x[0], zip(super_clusters_mask, metas)))))\n",
    "                    # Changing autocommit to False will open a new transaction, and changing it to True will commit any pending transaction.\n",
    "                    # https://docs.python.org/3/library/sqlite3.html#connection-objects\n",
    "                    transfs_db_con.autocommit = False\n",
    "                    transfs_db_con.execute('DELETE FROM clusters WHERE encoding=:encoding AND transf_code=:transf_code AND output_bit=:output_bit',\n",
    "                                           {'encoding': HP_SIGNAL_ENCODING, 'transf_code': transf_code, 'output_bit': output_bit})\n",
    "                    transfs_db_con.execute('INSERT INTO clusters (encoding, transf_code, output_bit, sbv, meta) VALUES (:encoding, :transf_code, :output_bit, :sbv, :meta)',\n",
    "                                           {'encoding': HP_SIGNAL_ENCODING, 'transf_code': transf_code, 'output_bit': output_bit, 'sbv': pickled_clusters, 'meta': pickled_metas})\n",
    "                    transfs_db_con.autocommit = True\n",
    "                    persisted_count += clusters.shape[0]\n",
    "                    LOG(f'Persisted {clusters.shape[0]} (of {len(cluster_inds)}) super clusters for output bit {output_bit}')\n",
    "\n",
    "                LOG(f'Persisted {persisted_count} clusters in total for encoding={HP_SIGNAL_ENCODING} and transf_code={transf_code}')"
   ]
  },
  {
   "cell_type": "code",
   "execution_count": 438,
   "id": "cf723882-55c0-49d9-acb7-e50274d2201b",
   "metadata": {},
   "outputs": [
    {
     "data": {
      "image/png": "[encoded data removed]",
      "text/plain": [
       "<Figure size 1200x480 with 2 Axes>"
      ]
     },
     "metadata": {},
     "output_type": "display_data"
    }
   ],
   "source": [
    "signal_ind = RNG.choice(signals_input.shape[0])\n",
    "# signal_ind = 0\n",
    "signal_input = xp_array_from_gpu(signals_input[signal_ind])\n",
    "signal_output = signals_output[signal_ind]\n",
    "\n",
    "if HP_USE_TOY_IMAGES:\n",
    "    signal_input = toy_image_sbv_to_bv(signal_input)\n",
    "    signal_output = toy_image_sbv_to_bv(signal_output)\n",
    "else:\n",
    "    signal_input = seq_sbv_to_bv(signal_input)\n",
    "    signal_output = seq_sbv_to_bv(signal_output)\n",
    "    \n",
    "fig, (ax1, ax2) = plt.subplots(1, 2)\n",
    "fig.set_figwidth(12)\n",
    "ax1.imshow(vec_to_square_matrix(signal_input))\n",
    "ax2.imshow(vec_to_square_matrix(signal_output));"
   ]
  },
  {
   "cell_type": "markdown",
   "id": "c4e073c2-0c90-4248-a9fc-57f4f063892f",
   "metadata": {},
   "source": [
    "# Test"
   ]
  },
  {
   "cell_type": "code",
   "execution_count": 38,
   "id": "5175b5c1-2cf3-4a31-b471-269694674987",
   "metadata": {},
   "outputs": [
    {
     "data": {
      "application/vnd.jupyter.widget-view+json": {
       "model_id": "f907d31ea6d54af99c69a6942a671f74",
       "version_major": 2,
       "version_minor": 0
      },
      "text/plain": [
       "  0%|          | 0/200 [00:00<?, ?it/s]"
      ]
     },
     "metadata": {},
     "output_type": "display_data"
    },
    {
     "data": {
      "text/plain": [
       "(49491, 256)"
      ]
     },
     "execution_count": 38,
     "metadata": {},
     "output_type": "execute_result"
    }
   ],
   "source": [
    "clear_memory()\n",
    "\n",
    "df_clusters = pd.read_sql('SELECT output_bit, sbv, meta FROM clusters WHERE encoding=:encoding AND transf_code=:transf_code', \n",
    "                          params={\n",
    "                              'encoding': HP_SIGNAL_ENCODING, \n",
    "                              'transf_code': transf_code},\n",
    "                          con=transfs_db_con)\n",
    "                \n",
    "for cluster_row in tqdm(df_clusters.itertuples(), total=len(df_clusters)):\n",
    "    clusters_for_output_bit = pickle.loads(cluster_row.sbv)\n",
    "    cluster_metas_for_output_bit = pickle.loads(cluster_row.meta)\n",
    "\n",
    "    for cluster, meta in zip(clusters_for_output_bit, cluster_metas_for_output_bit):\n",
    "        cluster_ind = CLUSTERS.lease()\n",
    "        assert CLUSTER_MASKS.lease() == cluster_ind\n",
    "        meta.cluster_ind = cluster_ind\n",
    "        CLUSTERS.array_active[cluster_ind] = cluster\n",
    "        CLUSTER_MASKS.array_active[cluster_ind] = cluster\n",
    "        CLUSTER_METAS[cluster_ind] = meta\n",
    "\n",
    "cluster_metas = list(filter(lambda m: m.state == ClusterState.PROD, CLUSTER_METAS.values()))\n",
    "cluster_inds = list(map(lambda m: m.cluster_ind, cluster_metas))\n",
    "cluster_ones_counts = np.array(list(map(lambda m: m.ones_count, cluster_metas)), dtype='f')\n",
    "cluster_output_bits = np.array(list(map(lambda m: m.output_bit, cluster_metas)), dtype='i')\n",
    "cluster_input_bits_list = list(map(lambda m: m.input_bits, cluster_metas))\n",
    "clusters = CLUSTERS.array[cluster_inds]\n",
    "assert clusters.shape[0] == len(CLUSTER_METAS)\n",
    "clusters.shape"
   ]
  },
  {
   "cell_type": "code",
   "execution_count": null,
   "id": "583dc8a5-7e46-4a86-bba5-e456a73d8165",
   "metadata": {},
   "outputs": [],
   "source": []
  },
  {
   "cell_type": "code",
   "execution_count": 55,
   "id": "cbf93336-9a8f-4d35-adf7-384779124e8a",
   "metadata": {},
   "outputs": [
    {
     "data": {
      "application/vnd.jupyter.widget-view+json": {
       "model_id": "b8c54831f16b4e5099ccb088deb652d6",
       "version_major": 2,
       "version_minor": 0
      },
      "text/plain": [
       "  0%|          | 0/100 [00:00<?, ?it/s]"
      ]
     },
     "metadata": {},
     "output_type": "display_data"
    },
    {
     "data": {
      "image/png": "[encoded data removed]",
      "text/plain": [
       "<Figure size 1600x480 with 2 Axes>"
      ]
     },
     "metadata": {},
     "output_type": "display_data"
    }
   ],
   "source": [
    "thres = 0\n",
    "toy_image_ids = get_random_toy_image_ids(100)\n",
    "bv_errors_count_list = defaultdict(list)\n",
    "sbv_errors_count_list = defaultdict(list)\n",
    "\n",
    "for toy_image_id in tqdm(toy_image_ids):\n",
    "    toy_image_origin = get_toy_image(toy_image_id)\n",
    "    toy_image_transf = transform_toy_image(toy_image_origin, transf)\n",
    "\n",
    "    toy_image_origin_sbv = calc_toy_image_sbv(toy_image_origin)\n",
    "    toy_image_transf_sbv = calc_toy_image_sbv(toy_image_transf)\n",
    "    \n",
    "    activated_clusters_mask = (clusters @ toy_image_origin_sbv) >= cluster_ones_counts\n",
    "    \n",
    "    toy_image_infer_sbv = np.zeros_like(toy_image_origin_sbv)\n",
    "\n",
    "    # Approach 1: judge if output_bit is ON/OFF based on number of activated clusters\n",
    "    output_bit_to_activated_clusters_count = Counter(cluster_output_bits[activated_clusters_mask])\n",
    "    toy_image_infer_sbv[list(output_bit_to_activated_clusters_count.keys())] = list(output_bit_to_activated_clusters_count.values())\n",
    "    toy_image_infer_sbv = np.where(toy_image_infer_sbv > thres, 1, 0)\n",
    "\n",
    "    # Approach 2: judge if output_bit is ON/OFF based on number of unique bits touched by clusters within input signal\n",
    "    # output_bit_to_unique_input_bits = defaultdict(set)\n",
    "\n",
    "    # for mask_value, output_bit, input_bits in zip(activated_clusters_mask, cluster_output_bits, cluster_input_bits_list):\n",
    "    #     if not mask_value:\n",
    "    #         continue\n",
    "\n",
    "    #     output_bit_to_unique_input_bits[output_bit].update(input_bits)\n",
    "    # toy_image_infer_sbv[list(output_bit_to_unique_input_bits.keys())] = list(map(len, output_bit_to_unique_input_bits.values()))\n",
    "    # toy_image_infer_sbv = np.where(toy_image_infer_sbv > thres, 1, 0)\n",
    "    \n",
    "    sbv_false_positives_count = (toy_image_transf_sbv[toy_image_infer_sbv == 1] == 0).sum()\n",
    "    sbv_false_negatives_count = (toy_image_transf_sbv[toy_image_infer_sbv == 0] == 1).sum()\n",
    "    assert np.count_nonzero(toy_image_transf_sbv != toy_image_infer_sbv) == (sbv_false_positives_count + sbv_false_negatives_count)\n",
    "    sbv_errors_count_list['FP'].append(sbv_false_positives_count)\n",
    "    sbv_errors_count_list['FN'].append(sbv_false_negatives_count)\n",
    "    \n",
    "    toy_image_infer_bv = toy_image_sbv_to_bv(toy_image_infer_sbv)\n",
    "    toy_image_transf_bv = toy_image_sbv_to_bv(toy_image_transf_sbv)\n",
    "    bv_false_positives_count = (toy_image_transf_bv[toy_image_infer_bv == 1] == 0).sum()\n",
    "    bv_false_negatives_count = (toy_image_transf_bv[toy_image_infer_bv == 0] == 1).sum()\n",
    "    assert np.count_nonzero(toy_image_transf_bv != toy_image_infer_bv) == (bv_false_positives_count + bv_false_negatives_count)\n",
    "    bv_errors_count_list['FP'].append(bv_false_positives_count)\n",
    "    bv_errors_count_list['FN'].append(bv_false_negatives_count)\n",
    "\n",
    "fig, (ax1, ax2) = plt.subplots(2, 1)\n",
    "fig.set_figwidth(16)\n",
    "fig.tight_layout() \n",
    "errors_count = sum(itertools.chain.from_iterable(bv_errors_count_list.values()))\n",
    "ax1.set_title(f'BV Errors count={errors_count}, avg.={errors_count / len(toy_image_ids):.2f}; thres={thres}, clusters count={clusters.shape[0]}')\n",
    "\n",
    "for error_kind, errors_count in bv_errors_count_list.items():\n",
    "    ax1.bar(list(map(str, range(len(toy_image_ids)))), errors_count, label=error_kind)\n",
    "\n",
    "ax1.legend()\n",
    "\n",
    "errors_count = sum(itertools.chain.from_iterable(sbv_errors_count_list.values()))\n",
    "ax2.set_title(f'SBV Errors count={errors_count}, avg.={errors_count / len(toy_image_ids):.2f}; thres={thres}, clusters count={clusters.shape[0]}')\n",
    "\n",
    "for error_kind, errors_count in sbv_errors_count_list.items():\n",
    "    ax2.bar(list(map(str, range(len(toy_image_ids)))), errors_count, label=error_kind)\n",
    "\n",
    "ax2.legend();"
   ]
  },
  {
   "cell_type": "code",
   "execution_count": null,
   "id": "47f59aa5-155f-42d1-89f4-952ba29d1e2a",
   "metadata": {},
   "outputs": [],
   "source": []
  },
  {
   "cell_type": "code",
   "execution_count": null,
   "id": "bcc9f312-6621-4f77-ad5d-e0e5050dc036",
   "metadata": {},
   "outputs": [],
   "source": []
  },
  {
   "cell_type": "code",
   "execution_count": null,
   "id": "cf7b155d-cd7f-4649-91dc-f932bcb0e553",
   "metadata": {},
   "outputs": [],
   "source": []
  },
  {
   "cell_type": "code",
   "execution_count": null,
   "id": "f901126b-b8c1-457c-aced-0923b43927f8",
   "metadata": {},
   "outputs": [],
   "source": []
  },
  {
   "cell_type": "code",
   "execution_count": 48,
   "id": "f5f56508-9e19-4911-b739-a04452cf59d4",
   "metadata": {},
   "outputs": [
    {
     "data": {
      "image/png": "[encoded data removed]",
      "text/plain": [
       "<Figure size 1200x480 with 2 Axes>"
      ]
     },
     "metadata": {},
     "output_type": "display_data"
    }
   ],
   "source": [
    "toy_image_id = get_random_toy_image_ids(1)[0]\n",
    "toy_image = get_toy_image(toy_image_id)\n",
    "\n",
    "toy_image_sbv = calc_toy_image_sbv(toy_image)\n",
    "\n",
    "activated_clusters_mask = (clusters @ toy_image_sbv) >= cluster_ones_counts\n",
    "values = Counter(cluster_output_bits[activated_clusters_mask])\n",
    "toy_image_sbv_out = np.zeros_like(toy_image_sbv)\n",
    "# toy_image_sbv_out[list(values.keys())] = list(values.values())\n",
    "# toy_image_sbv_out = np.where(toy_image_sbv_out > 1, 1, 0)\n",
    "toy_image_sbv_out[list(values.keys())] = 1\n",
    "\n",
    "fig, (ax1, ax2) = plt.subplots(1, 2)\n",
    "fig.set_figwidth(12)\n",
    "ax1.imshow(vec_to_square_matrix(toy_image_sbv_to_bv(toy_image_sbv)))\n",
    "ax2.imshow(vec_to_square_matrix(toy_image_sbv_to_bv(toy_image_sbv_out)));"
   ]
  },
  {
   "cell_type": "code",
   "execution_count": 54,
   "id": "bd3d6124-ae28-47e5-9877-7bf2eb87d8c3",
   "metadata": {},
   "outputs": [
    {
     "data": {
      "image/png": "[encoded data removed]",
      "text/plain": [
       "<Figure size 1600x480 with 2 Axes>"
      ]
     },
     "metadata": {},
     "output_type": "display_data"
    }
   ],
   "source": [
    "fig, (ax1, ax2) = plt.subplots(2, 1)\n",
    "fig.set_figwidth(16)\n",
    "\n",
    "toy_image_transf = transform_toy_image(toy_image, transf)\n",
    "toy_image_transf_sbv = calc_toy_image_sbv(toy_image_transf)\n",
    "\n",
    "ax1.set_title(f'non_zero_bits={toy_image_transf_sbv.sum()}')\n",
    "ax1.imshow(np.ones((30, 1)) * toy_image_transf_sbv);\n",
    "ax2.set_title(f'non_zero_bits={toy_image_sbv_out.sum()}')\n",
    "ax2.imshow(np.ones((30, 1)) * toy_image_sbv_out);"
   ]
  },
  {
   "cell_type": "code",
   "execution_count": 98,
   "id": "6cc119b7-ff88-4898-8760-116f2f55cf5e",
   "metadata": {},
   "outputs": [
    {
     "data": {
      "text/plain": [
       "{'state': <ClusterState.PROD: 'prod'>,\n",
       " 'cluster_ind': 117147,\n",
       " 'cluster_key': ('PROD', 79, (4, 81, 139, 235)),\n",
       " 'output_bit': 79,\n",
       " 'input_bits': (np.int64(4), np.int64(81), np.int64(139), np.int64(235)),\n",
       " 'nu': np.float64(0.2),\n",
       " 'ones_count': 4,\n",
       " 'signals_learned': 20,\n",
       " 'signals_to_learn_till_binarization': 0,\n",
       " 'binarization_schedule': (),\n",
       " 'stats': Counter({True: 21}),\n",
       " 'verify_image_ids': {576764218053755016: True,\n",
       "  5190404076692602884: True,\n",
       "  577248079938322432: True,\n",
       "  577591059383583041: True,\n",
       "  580968750514200648: True,\n",
       "  576467667200770066: True,\n",
       "  1729387480129994752: True,\n",
       "  12177878596664426496: True,\n",
       "  648523303807352912: True,\n",
       "  9835866053246189568: True,\n",
       "  581250809070616640: True,\n",
       "  603486749187997697: True,\n",
       "  594479551552163841: True,\n",
       "  729587563450400772: True,\n",
       "  577593953654670336: True,\n",
       "  580968784341270561: True,\n",
       "  9799837187221495860: True,\n",
       "  864695631732539648: True,\n",
       "  864695560878755840: True,\n",
       "  648522745528861184: True,\n",
       "  576570721719812228: True},\n",
       " 'alarm_cycle': None}"
      ]
     },
     "execution_count": 98,
     "metadata": {},
     "output_type": "execute_result"
    }
   ],
   "source": [
    "cluster_ind = RNG.choice(len(cluster_metas))\n",
    "vars(cluster_metas[cluster_ind])"
   ]
  }
 ],
 "metadata": {
  "kernelspec": {
   "display_name": "Python 3 (ipykernel)",
   "language": "python",
   "name": "python3"
  },
  "language_info": {
   "codemirror_mode": {
    "name": "ipython",
    "version": 3
   },
   "file_extension": ".py",
   "mimetype": "text/x-python",
   "name": "python",
   "nbconvert_exporter": "python",
   "pygments_lexer": "ipython3",
   "version": "3.12.9"
  }
 },
 "nbformat": 4,
 "nbformat_minor": 5
}
