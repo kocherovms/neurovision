{
 "cells": [
  {
   "cell_type": "code",
   "execution_count": 2,
   "id": "27532844-1826-4299-b063-16a22e592f3f",
   "metadata": {},
   "outputs": [],
   "source": [
    "import os, math\n",
    "from enum import StrEnum, auto\n",
    "from collections import defaultdict, namedtuple, Counter\n",
    "import itertools\n",
    "import sqlite3\n",
    "import pickle\n",
    "import datetime\n",
    "import multiprocessing as mp\n",
    "import gc\n",
    "import json\n",
    "import decimal\n",
    "from IPython.core.getipython import get_ipython\n",
    "\n",
    "from PIL import Image, ImageDraw\n",
    "from tqdm.notebook import tqdm\n",
    "\n",
    "from sklearn.model_selection import train_test_split\n",
    "from sklearn.decomposition import PCA\n",
    "import matplotlib.pyplot as plt\n",
    "import scipy\n",
    "import numpy as np\n",
    "import cupy as cp\n",
    "import pandas as pd\n",
    "\n",
    "from module.utils import *\n",
    "from module.hdc import *\n",
    "from module.constants import *"
   ]
  },
  {
   "cell_type": "code",
   "execution_count": 3,
   "id": "73358262-adf2-4d17-a383-f120a5d1f8aa",
   "metadata": {},
   "outputs": [
    {
     "name": "stdout",
     "output_type": "stream",
     "text": [
      "xp = cupy\n",
      "transf_learn6.ipynb\n"
     ]
    }
   ],
   "source": [
    "LOG = Logging()\n",
    "\n",
    "config_var = 'SQLITE3_SEQ_GRID_0_2_4096'\n",
    "config = Config(config_var)\n",
    "RNG = np.random.default_rng()\n",
    "mp_ctx = mp.get_context('spawn') # req-d for CUPY to work, 'fork' method leads to failures in bootstrap somewhere around CUDA\n",
    "\n",
    "if cp.cuda.is_available():\n",
    "    xp = cp.get_array_module(cp.empty(1))\n",
    "    xp_array_from_gpu = lambda a: a.get() if isinstance(a, cp.ndarray) else a\n",
    "    xp_array_to_gpu = lambda a: cp.asarray(a) if isinstance(a, np.ndarray) else a\n",
    "    xp_array_to_gpu_copy = lambda a: cp.asarray(a) if isinstance(a, np.ndarray) else a\n",
    "else:\n",
    "    xp = cp.get_array_module(np.empty(1))\n",
    "    xp_array_from_gpu = lambda a: a\n",
    "    xp_array_to_gpu = lambda a: a\n",
    "    xp_array_to_gpu_copy = lambda a: a.copy()\n",
    "\n",
    "print(f'xp = {xp.__name__}')\n",
    "\n",
    "with open(get_ipython().kernel.config['IPKernelApp']['connection_file'], 'r') as cf:\n",
    "    notebook_fname = json.load(cf)['jupyter_session']\n",
    "    notebook_fname = os.path.basename(notebook_fname)\n",
    "\n",
    "print(notebook_fname)"
   ]
  },
  {
   "cell_type": "code",
   "execution_count": 4,
   "id": "656ee6b7-3982-4f99-9251-6b67fef36ae3",
   "metadata": {},
   "outputs": [],
   "source": [
    "%run sequencing_sp2.ipynb"
   ]
  },
  {
   "cell_type": "markdown",
   "id": "d5c8f88a-5403-4177-b5fc-e0e2a1da9c2d",
   "metadata": {},
   "source": [
    "# Open DB"
   ]
  },
  {
   "cell_type": "code",
   "execution_count": 5,
   "id": "d2dd62ab-b44e-4251-9e86-d41b3672e36e",
   "metadata": {},
   "outputs": [
    {
     "name": "stdout",
     "output_type": "stream",
     "text": [
      "CPU times: user 9 μs, sys: 0 ns, total: 9 μs\n",
      "Wall time: 17.4 μs\n"
     ]
    },
    {
     "data": {
      "text/plain": [
       "((10000, 7), (2000, 7))"
      ]
     },
     "execution_count": 5,
     "metadata": {},
     "output_type": "execute_result"
    }
   ],
   "source": [
    "%time\n",
    "train_db_con = sqlite3.connect(DBUtils.get_full_db_file_name(config, config.train_db_file_name))\n",
    "test_db_con = sqlite3.connect(DBUtils.get_full_db_file_name(config, config.test_db_file_name))\n",
    "test_results_db_con = sqlite3.connect(DBUtils.get_full_db_file_name(config, config.test_results_db_file_name, with_prefix=False), autocommit=True)\n",
    "transfs_db_con = sqlite3.connect(DBUtils.get_full_db_file_name(config, config.transfs_db_file_name, with_prefix=False), autocommit=True)\n",
    "\n",
    "if not DBUtils.is_table_exists(test_results_db_con, 'test_runs'):\n",
    "    test_results_db_con.execute('CREATE TABLE test_runs(test_run_id INTEGER PRIMARY KEY, dummy)')\n",
    "\n",
    "if not DBUtils.is_table_exists(transfs_db_con, 'pixels'):\n",
    "    transfs_db_con.execute('CREATE TABLE pixels(encoding, sbv)')\n",
    "\n",
    "if not DBUtils.is_table_exists(transfs_db_con, 'clusters'):\n",
    "    transfs_db_con.execute('CREATE TABLE clusters(encoding, transf_code, output_bit, sbv, meta)')\n",
    "\n",
    "df_train_images = pd.read_sql_query('SELECT * FROM images', con=train_db_con, index_col='image_id')\n",
    "df_test_images = pd.read_sql_query('SELECT * FROM images', con=test_db_con, index_col='image_id')\n",
    "df_train_images.shape, df_test_images.shape"
   ]
  },
  {
   "cell_type": "code",
   "execution_count": 6,
   "id": "70b21219-4f16-4824-90ec-7bda1574c5d1",
   "metadata": {},
   "outputs": [
    {
     "data": {
      "text/html": [
       "<div style=\"\n",
       "        display: grid; \n",
       "        grid-template-columns: repeat(8, 128px);\n",
       "        column-gap: 1px;\n",
       "        row-gap: 1px;\">\n",
       "        \n",
       "            <figure style=\"margin: 5px !important;\">\n",
       "              <img src=\"data:image/png;base64,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\" style=\"height: auto\">\n",
       "              <figcaption style=\"font-size: 0.6em\">5</figcaption>\n",
       "            </figure>\n",
       "        \n",
       "            <figure style=\"margin: 5px !important;\">\n",
       "              <img src=\"data:image/png;base64,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\" style=\"height: auto\">\n",
       "              <figcaption style=\"font-size: 0.6em\">8</figcaption>\n",
       "            </figure>\n",
       "        \n",
       "            <figure style=\"margin: 5px !important;\">\n",
       "              <img src=\"data:image/png;base64,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\" style=\"height: auto\">\n",
       "              <figcaption style=\"font-size: 0.6em\">0</figcaption>\n",
       "            </figure>\n",
       "        \n",
       "            <figure style=\"margin: 5px !important;\">\n",
       "              <img src=\"data:image/png;base64,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\" style=\"height: auto\">\n",
       "              <figcaption style=\"font-size: 0.6em\">0</figcaption>\n",
       "            </figure>\n",
       "        \n",
       "            <figure style=\"margin: 5px !important;\">\n",
       "              <img src=\"data:image/png;base64,iVBORw0KGgoAAAANSUhEUgAAAIAAAACACAAAAADmVT4XAAAEpklEQVR4nO2aS28bNxDH/8PHPmU9UsdxkDSHAkG//9fpoQWKWnFiy5asXe2L5PQgOXaOmV2simL/F51I/jQcDmeGC0yaNGnSpEmTJk2aNOnMoh5DSRERAObAYB4bQCVZniWRJa7Komo650XTGDGAzq/eXy0XmfIPX9b3T2UdRDboA3D9+bfrq6Xq1n8kRrFrRNP0AMguP/3+6/s3ul2Fsm7risa1AOlkfnl9/VYhubx6tzsUe5k7iQGUjfPFaqYARPO3T+V2IwNQolFEpEyU5nkEACFeXf4yi0QzCQEAKG2jJDEAOq+TWRbrMS0AAEoZGykA7L13XnYIewAQ6BgHEdr95u6haGUEYgA+RmAAXD/erm93YwOAOXAAAG7OYoEjw/EnnMMHXkQmmV3ksZaNlofiF4B4frkvd0ZmgiEAksXbqriPR74LXgHY2arczCIdJKOH8oGLLI1EsXAQgDjN8zxNNAkIBgCAjtIsz7PUKgHBEBZQNs6yLE2MOo8FSJs4y7I0tmcCAOk4z7MkthITCI8hE/Cc0xMRsixJImvcz880RBwATBwnkbWSYzAAAECw1mitzuUDAIhAJKqzhADHlV6CfwjMzJL6cAALMABm5iCqTwfaAtm/HxBArsGcUFrnD2cBIcH/xQeEZ3A4gLPHgRC8LAwMZQHnvA8iCwxxGTHYOee9qDoaBIB923ad815gggEAGKFr27ZzTmKBIXwg+Kaum7ZzEgsMAtA1dV03rcgHhgDwbVUUZVV3I8aB40qn8O+bstgXZeUkoWCIQOSbQ1GUVe3OFQeCa5umabtxq+PXYY+ZOQTR+mKAV3cPQxujJSl5H4DXIlJai2pziH3gpU15bJJ1zgtTIikA6e9W57bcbZ+qbtSEhJQxz7Uw1w9f/rndNuMCGBtZcxwcDpubv9cP9agAOsryNDIEHHvFN7e7cS1gs8VqmdsjQFduH58OnWwm4YtJvHz34XqVHAFcW5VVK3s2lAIkbz58+niZKQDg4Nq2daPWBRQv3328XqWnYxCcLBvqAWDTxXJx8oGztOvJ2Mg+t2blZZEcoN+iAwD8sO3UozqXAwQfvm87jQ/wukHVTzKAH3pS8n8vBwAzwM8NW6IeBpEeQyKiPh+g9ATQWmv9nJCcYQtIG2utOQUipZTkqaQXgLFRHEWnhESRNCMWA6gojpMkPuVkIUjvAUCUlBJMnGRZFlsFBoeqbp2sKJEBkNJxOruYz1OrKbiuedgWjZxAAKCjdHYxXy7yyChXH56+3W0PLUtDgWALlE2yfD6fJ0qRb/ab27tdJStMZQCkjI2SJE0tgNAddo+7opEmZKJTQKS0NsYAAPuuqZuuhxOKE5LTbwjOOS8szYUADA6BT2uy917aGpACvO5HsO+aphX1ZnoAgIiU1gCgfFXsy0bwYtoD4PghWaIAIOJq+7CrhFWREABEShsLANCu2NxvD+NagJmD71oAQFU8bja7qgeAIBKy7+r9/U1sANzffN1sy6bHKfh5AA5dtVvnfq0B7P768+vTQR6IRQC+JfBhPVcAqs23u32Pu1D02kdKmSiOLQHwTdN0QfhcNGnSpEmTJk36b+hfaBBUe8LGjA0AAAAASUVORK5CYII=\" style=\"height: auto\">\n",
       "              <figcaption style=\"font-size: 0.6em\">1</figcaption>\n",
       "            </figure>\n",
       "        \n",
       "            <figure style=\"margin: 5px !important;\">\n",
       "              <img src=\"data:image/png;base64,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\" style=\"height: auto\">\n",
       "              <figcaption style=\"font-size: 0.6em\">9</figcaption>\n",
       "            </figure>\n",
       "        \n",
       "            <figure style=\"margin: 5px !important;\">\n",
       "              <img src=\"data:image/png;base64,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\" style=\"height: auto\">\n",
       "              <figcaption style=\"font-size: 0.6em\">3</figcaption>\n",
       "            </figure>\n",
       "        \n",
       "            <figure style=\"margin: 5px !important;\">\n",
       "              <img src=\"data:image/png;base64,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\" style=\"height: auto\">\n",
       "              <figcaption style=\"font-size: 0.6em\">1</figcaption>\n",
       "            </figure>\n",
       "        \n",
       "            <figure style=\"margin: 5px !important;\">\n",
       "              <img src=\"data:image/png;base64,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\" style=\"height: auto\">\n",
       "              <figcaption style=\"font-size: 0.6em\">7</figcaption>\n",
       "            </figure>\n",
       "        \n",
       "            <figure style=\"margin: 5px !important;\">\n",
       "              <img src=\"data:image/png;base64,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\" style=\"height: auto\">\n",
       "              <figcaption style=\"font-size: 0.6em\">0</figcaption>\n",
       "            </figure>\n",
       "        \n",
       "            <figure style=\"margin: 5px !important;\">\n",
       "              <img src=\"data:image/png;base64,iVBORw0KGgoAAAANSUhEUgAAAIAAAACACAAAAADmVT4XAAAMaUlEQVR4nO2aWXPjOJLHEyfBW6Qky2e7ao7v/2H2YTZmo6cO22XdFG8SIIB9cPVsd2+1RblcvbER/odfHEEyf0oCyTwA8KY3velNb3rTm970pje96f9Y6PtuRhYAASAECCEAa8GCtQBPf2NEvweAUAQWEKWMCddloKVUSslhGLQx1o5C+C4AJog1ljquHyTzNICuKuuqruuuk3Iw5ocDcN9nxljmhUl6cXuZomq3O2RZlpdV0/YKzA8GEJMk5EZbHsTT+c1fb2eoXK93u220zw4lxUjqMS54AQBlnFFKSfAVgPlRkl5dLjxwMXX9IE52u71gpVU/CIBFcRD4nggnkc+NNdTxgnCaeAAkMNyfVMV2vfI5Vt2Yd/ACADc9n6fJJIqiQDBrDaaUO54PAMADHkrZbiY+R6octcXHA2BCiJEagmTx08ViPkuiQDgEwABCCGFiEVgsBFirfGZVm3H8egCUcSa4Q20vwT//6aeLxXw6Cb1fWzDKACEMAMBRVei7nIx79Lir4iSKI9+1favd2cXVPE3j6Le3qkYi7joAAMAYY5SgV3wFYnpzcTZPQtTVksbTWRwE3m8dbJu8JR5iGABAjw2DowGCxbv315fzGHdVB24Yuoz+7ud1ddFQy10OACClVIN+pUiIEMbe/OLm9ubyzAOoWsuEQGCUNhZZAIOAYGSqummZMBYArOq7ru3VqEB4HIC4vh+/f397fZZ4ABAIQwhAX5a1HIwxRgNxHEFl1Sry9HE1qquLomqH1/EADc/Ozt797fYiEv9zg8yWy23TD3pQg2VhPPGxNggTggFAd3W+3x/qUYFwDMDi3fXt7eWM//tSI4vVh48PRaMGJRUSyWKRepw7lBEEoNrisNtts1q+DgB2otn5Yp5GAGAAAwyqr/b3n36+OzRyUMoSvyUOJxRzTrE1qj5sVuttVjSv9AoQJswRjgMAgIwxui33u/Xdvz59KVo5WMw9zIUXhKHvRh4HmW+Wj3efl1nVvxKAtUYb/XVb22FoD8vPd18eH9e7pjcAXpCcXV5dnU8C1/E8Dt3m55/vHtfbQ/1qAEPf1m2vAACQUW25+fif/7zf5lUDAABOenl98+76LPIcwgjI8vG//uPjrmy7YXilbWhUW+ZVq375p9gv7z7e5/3T453p+c1P11fn04ATC1oVm/t//fNjrqy1I7PS4wB9tfen7ZM9I+uiqKUhghNMCCHB9e27y/Np6GAzSNlWu4cP96vtMMr0SADd7pGZ3D5FXtMVWTmIuTNgzoXrOf78/DyNIw8r1Vb5frNcfXrIT7E/AqC2bXtWfPVAVxUNScWAuHDDOApFEIUupaC6Mt+tH+4esmzfnmJ/xCvoZNneZk9Lzgx9b4TAlDueHyVJxCihMKi2zvfb9f2HD3f1MJzkgBG7QGtld+vlFFOKEabcc7kjHOF5YRh6YLSUbVsW2W67evj0+fEk46MAAABk9vkfNohin/iJ6REX3HEcl+K2lW3btXVdlfkh22/W+cn2R+YDxUdRLK4tp6H1NFBGGaVM1nVZFEVV1U3d1HVdl7n8QQC4+jwc3kEQBwGPARBggjDI6nG52e/zom66vlNKDiNTgNMBoNmqDqcXreewX2GparfabLK8bDr5EtvjAayqDSRZ1elfJ2IYtJJ911RlqV5ofTSAUUCKsu6k++tUFGFCCMHIfod9GFU8WGuHpirLsv5NkCFceH4QBF+T8Zdp3Bqw1tg632+F1S4DAIsALFDHj5S2COzhtOh3OgAA6Hp3L7pDErqUYkIJRtSdKCL8aDKZHCqlpBoGc/pSHF8bNiverGazSeh5whWCU2dCvGlZVsXhcMir4lA2TX+y/RMAunW/S2bzaRpP4ijUFmggYtl1bV2V+WG7fFxnYPQPBJBZuQ3T+XyWzqZJ24W+w7kAbQbZNUX2GDmMYWRP9sF4AGOGru1lV5dVkcdx6PuuIzhjzI1lHHKMuef5ft1rbcwJa+G0BkVfoqEtsygMg8D3fT+IkikH4KlDmZcsVpttXjVt38kfBQCq1s1BCCFcz/OCIJnfwAUAgE+c+GK3Xq23WXYosBmfE5wIYDpJMMaEccd1/XB61XORAAAIGqn8bDZfr9eeIHZ8VnIqwC++RUwIL8h75rPex4ApcV3hcNfzXM93KC60/bGNSitV3/fKEpvPAs5EFEeUJ5h74WS2n0b+tmnbUXvy5Y1Kq8Bo3R8+hKEbTBaXl2fAYh5M5mXxJQn93U79YACwgx26/NFxgnAyv+0QjSgjbtTLbho4nJt2VEz4HgCtoQUA5EdppqhDpc8JYz5oDtqCrDs5ojr6rm75V5BKDpZy1M0mvucJAWTa9gYN0tRSHa0QXwEAQNYE62o1S5NJmk49cKYDZWDRvqibPwUAZKHr7ed0Nl8srsy5AyEIBgYENfJYQHgVADRoWWy9eL44VAMmqUciFw9SY93Wx+59FQAL1qiu6ZRSyoJuZp5wJvNmgC7P/hSAJw0NBtV1VXZxfX7miIkkpNocrdVeEQCG1nZVvl1eldp1aAA+3X86mq++JoCVQ1McdtuDDc9S7PLY3iUeO5KzvyqA1tC3bWeTfa0cQiBJJlFQPT8+e00AAADQNYgsrztKAHiQzgvW9M854dUBwPRVVVW1QwCQm5w3GJs/FwDprm3adgAAwyfzWvXNc5d/EwAjjCkhyKphMGP7bb/Iatn3vdQAAMyLosB5tvz7FgDmjnA8TxBVl1X/7Bv8ppRSgzYWASLMcRg5HcCJ4zidRrzdLjeH02tvY6yxBgAAIYSOjI6+DRDO5xc3Z2714DNq+xcUXOhrAWvtsUH+twAQ4W40u74Jas9aAmZ/YuuHEIIxAgCwxhwbon8LwGrVS8uCaQgK+0EQV0qqQY+aRQMAIpRSSgAArH0RgJEl5dPGOh6h0cXyyzor8qLp7NjKkzHOOUMAYLU+RvBNgM5KlOwr7TnuNN9cLTer1Wp86UuEK4TDAMCaYVDqBQC9avFsvTtz/Gk8m05ny8jBBCE7Yi0ghL048l1OEYAdZNfJ5wcX3wxEVuvqsH4I9CxijBDmMEKFcFh5fBqJHDc5n09chgDAyKYsG/ms5/4oFPf7z6ze/HQ5Fc6Eua4fzx7CR1p3x0ZhVsyvbm/Pgqfnymq/y5+vkP4IYDh8KJcPWaMSj8XCn8wWaUDxHuljWW5w+ff378+fAEyXbzeH7tm89I8ATNlvvmx7i1TqO74IJ6lHtCUYqucDo5te/+0vV2c+AQCQdb7f1c8z/yGAlJAbL3RUNwkFF4zpvjXcC4qmG7T+/XQcPZ1iQPjs8vrmeh4LDMaaqizK+sjKfe5zrA+PgdnPk0mURF640Ci83B/y/JCX/yvHsIQx7riuWPz9L5fzic8Bhq7dZmV77EvybD7QbXA+SZJ0dn19HsbEvyiL8rD9cv+4hd/vLSr8MErSZHHz7iLxGQCoYr/clkfnt88CDId+5QVxen4YGHOTYKG6Nl99cJG1+rdZhuOHcTo/v1yczadpQAFAV7svX7bl0dDxLICuayBumBbI9enEpRzB0MRE9gYTUn/9bQhR6nhBnMwWVzeX09hzKVgw2ebx7mFbHW3VHJ+aVUqD6+I6DYRwPSe0UqJwtt6Vg7YWMCbEcVw/iJ88ELkMma5tu+3jw/39+sieGQMAIGvCTHEXh2GYns3D4JLG1+vHVdapQSPKuON5QeAHQRSn6UQgMF223R7Wq+Vyuy2/3wMAIEtTPcZ+GKUX7wcUTNz0ZvPlcVt3UmMuPD+IwsATQgjPZQC2y1d3n5erzS4rmvZow3AMwKC7AxWuH8/2mlEIhBO6hLplrwwVQRBGcRRwSjDBAEZ15e7Lx5/vVlledfr4YZoRABasGfqauXUPQqBm4hHd9MoS4REniKIwDEMGAEb3aujautjcf/r8sMvrV+4RKQsWYbWfTQIH1fusQSIMwskkDp/O7qiqreu2qsp8v3x82JQje/cnFCa6BysP91EUuERWjfFngRun0/ipAJb7XX7Iirwoijw7ZFU/sld6SmWktKy3ruv7HtNyoFMSW8LY0yBPblbL3Xa3P+RFWdd9p55OGb0qgLVm6BDlrudxq60DbuQzZDoB1urDE0B2KMq6PZIEvRTgiUIpJVsGFrjFtlnHkcestbrKdvs8z4uqbo4mLb/RC84VY8oIWES8MI48VzBqrTV9U9dt23ayl8NJc5sXACCMEAAgwhilhCBsAazRw6C1Ntp8rcre9KY3velNb3rT/xv9Ny7E3tj4crkIAAAAAElFTkSuQmCC\" style=\"height: auto\">\n",
       "              <figcaption style=\"font-size: 0.6em\">3</figcaption>\n",
       "            </figure>\n",
       "        \n",
       "            <figure style=\"margin: 5px !important;\">\n",
       "              <img src=\"data:image/png;base64,iVBORw0KGgoAAAANSUhEUgAAAIAAAACACAAAAADmVT4XAAAL5ElEQVR4nO2a2ZriOLKAQ5LlfQPMDplV1TNX5/2fZWa6p3JhX4yxsfFu61yYzKquqgFDZs/NZMAFn5Gl3xGhiJBkgA/5kA/5kA/5kA/5kA/5kA/5kA/5Xxf0Xv3g6oMJIYRSiss8S7M0zQp2/kbunQAAU45wHMcLoihpukrz48HzXc+PLtz3XgCcIAi8QAVZ0XS93WmJibterZc4S/P/AgCiVJRkURQFSdXMRmMw6srxdmaqJI/zsGTnrPBGAEw4wlHKC5KiyKIgiKpmmo3+wAJDRIDzNEU0OquEtwLImipLkigpqioLPOUlVdX0pgkAaqtADIi8cby/EIDq3U5DUxVF1VRJIITwgigJMgcARAWMiSDzLAr/MgCqWcO7jqmrqqYpEkWIYcIRjAEAQOQwxoRknn2uixsAEEKIUI5iwGJzeH/XNXVF1RSl6oqVZVkCIII5DvIkCjSRvDcApYKkKrJAeNHsDHpNXZElRTr9m0VRjgilPI+B4ymlHD4b7G4AIKKiNq1WQ5VESdVNXRVFgRdPf6au4yWcrMoy5ittnJ+FNwBwkmY2e8NBt6Eqkkh5jnKEnLRcxofN0k7EpgWEcrjIszQryncEQBhTWWu02oO7Ub+pqxIBYAAMWFGyIs+S0FvNt6kOslKUrFLA+fGvBCCSqumm1Wp3+722qfIAAAgAlVkSR3EUhsFhs3EhUTMguF6XVwLovV7bsqyG2TA1iX+9noXe3nFdz/MD95CKuMs4ntRLtNcBiM37L4Ou1dRFQaCEvQyRHvfbxWJl284hjnLaaOSIFyhC593vBgDe7N79bdxtmTJGwKBEgBBAEfuevZxM5qut4+eMGkqJKU/Pzv6rATAhHKXa8H48HFgNpbrIiiIv8zQ6ent7PZ8ubccrAAuaaapi3fFrAwiyqhutwafP/ZYuny4ilh4D3zt4+72zt7eOnwAWjfZw+Lmr8nVLrZoAvGK2+/1er9ezdPG17yzcb1brrePs/eh4jDKkCGZ3fDcaDQyKAIDVcIJ6AKLa6AzvPw07pqEIr8oND/vN9Hmysh3vWJZFyYmK0bn78mnYbqi1fetiQ4QxoUaz3Rvd3w+aqsQjgLyAssyiwHXW0+fJercPqqZUs3rD0ahvykJdF6ihAV6R1Van1+sNe01D4gCgzOI4DIPAdR17vVo73rFqieVmfzjoWQ2Z5yozIYQwOu8NlzUgNdut3qDXbTVMVeAAAPL44Nr2bu/s3cPhcAiTk6V5rT0cD9qmwhN8ihEXx78MwKnWeDAc9yxNOs3t9HjYrWez1XbnHqI8y4ri1JSqrV6/YyoCQcBOBBfd8DwAAiTpndF4NOw2ZAKAgbE48JzNYjJdbB0v+FP3RFANQ1dF/nVcVhTFhZXJWQCECdWt3nDcbxsqAQDIk9jfbTbr9XK53bs/1HolQ4TjCAevC66yyNL8PMFZAMzxSrMzGA8tQ6ySW3pwt/PZbL133cMx/aF5lmd5XpRlBQ9VlkzSvLwdgMqm1Rv0e4ZQZZ78uFvPH78+r6MkybIfO2ZFked5UQLAyQJ5HB6j7HYNcKLe6nS67aZ8SmzH/WY2efj6ZGevg3wnAs9h9M3/APIk9P0wLX5sWBcAUa3VH3SbmowBsTLP091y+jSZr50flQ9ACKXNpqmrIvdaibA89JydF94MgEWzf3/Xq+yP8jjwV4//fppvvOTntkRStcGgZzVUoYoBDEGZBs5qZR+z2wGaw/u7rla1yYLdZvb1j6d1GP7CqLxmtUd3w05L4QmwKvrk8WG7XO2iNwAY3dHAUjiGAMrYW8+en56nu7JEPxHwSqM3HA+7LUNAlQ8UqAi8nb21D7dPQ8JrzXZTEwkwVqa+vZhMF9v9z/bHhKpWf3Q37DVUgUABAIDyJNwt1rZ33gBnARAnKIapS5SwssgCe/74dbH+lf2xrLX695/vOh1DwACIIQBceKvZ4/M2+Jm3NgDmBEnVZUpQmWehu54+/GH70S/0SfVO/+7LbyNTVTj2Uolm9sMfT0/bX7WvC4AIFSVZwAixIo0Ou+Vk4uW/WOojtTUYf/ryeSATDtjLnIu2j/983vxiwtYHAEI4QeAAgJVFGh/dnf1ddwghhAAhhNTuYHw3HnRbGICVANUKeb+ZTxdulL4pGyJ8Wuqzskjj0P/+cTDlKKWUclTvju+GfUvFAFUKYFkcRfPl2vbCn8L1dQDfqkpWlkX2J3USUZJlWZYlyez0B23TOK2TEKAy8RzneW4fovN56CIAY6x87QEh8n2dx8m6Zui6oWlao9WxTIEnDDHGEAJg0X6xeFw4x/Ty+Oc1wF40gBChktrYvMxpJKu6YZimaRq6YTaahoJO5gcAKCJ3NZltvOjCFuFlAISrp0aYExTr7ii99IgkWdM0Tdd1TdU1TVMBAJ3iIyvTcL9ZrHaXQtBlAIQIRwEAEOGVskCNv788JOIFUZIkSZYkURYl4eUyADBWxP5utVy7UQ0DnAVgAIAq1yYCoaL56VtUwRzhOPryxVVzhIABK7PI3283O/9iCLgEAKzI4ogCABDMCar1pwoXVR+EEKAX8yOAkhVpFLi7nRedLQNqAeSxt11mPM9f2uz4thGAKurA98M6HngegKX+6kHoN1u0xkqXnSphxIo8S+I4rvf8FwC8uVy495x6cbuHMQBgVSGcp3GcpBdDcB2ALFiTNESq0bjQyXfuXqSR7x+j84VoTQAoY5cwJBsyE8jJ1U5rPQasZKwsGUIE42qnprqcBM5mbR9qW+B8IMojl2GBz/eGKnM4zximPCUIMVZkWZbGSY6oJPA85QgCYAxYHjqzyeTZvlgG1AMo02MJkHv9TreloDTOOUUFhFlZpFEUBp6fIMUwVEVG5BSDkmDz+PvzcnPppKgmAMtZlmfxfjOK0gaKjhmv57lIUJHFge/vbSfkzG7BMKWAAFhZpsf96umPJ8f/ReF2EwArszxPwyCD4oiiIOONUBcJKrLIPxycjRMKmWTmL5uxRRI629VitvRrZYEaAAAA+RHKHFhooDjKqGaoPEFFHodB4Nn7TFNKXuKrWIzyYLeazDZucMX4NbZoihjKMt7KkKUFEWWRw1CWWRInRy+AzpDqpsRXOTNz589P0wsroesBoIjzxOMplAVDHEcwIMbKosizOBFVJpkNjhAGACxx51+fZ059+9cFKLIIAH0Lt5UwAMYBlRQVAAoAyKL9cjrb+LWDYF2AKjGz11/fRNRNXa6KAcbK5Ojt1vahVh10JcB/EL05GHeqrRvEijw6eo7jRZcL4fcCEFvjT5/7WlWqFnnkH1zXPaaXjsvfD0C17r7cd6tUybL44NiOG9SPwW8GQKLRGfabMgEAKBN3O59vvHp14DsB8Hq73zOlygTR5vHhaepdFQLeCMBJutVtS9W5KAuWv/9juj5crYDbAZCiNSyrSTBmCCDxFl//tby4GfBeAAgToli9dkMXAaBkZerY68Vyc60D3gwAVDWswd/HjerANjl6y9nKCW4Z/zYALDTHn+/vP5lVEIq2i+nj+poc/EYAROX2l//7rW/pCACgCNaPj0/bX23e/SUACFPZsEaff7NkigEYHPeryfPCuT4E3AgAVGm0u512SxcAIEtTZ7WYze1DUrsQfiMAE8zuoG/p1Zo49b3VdDpb1l6KvR0AS83BqNeUKQBAGe1Xs8l0uU2z2xRwAwCvtQej7ikER4ftfDJd2u7lw6F3AUAYE63ZGQw6usRBkef7zWIyXTrBbQ54PQDmeKnVHY1HLV1AZRIeN5PHh9nKva4MfAsAr+idwWg0VCQKebjfLZ6+Pizd4Eb73wTQ6HR73Q6HCSS+vZg8P0+30ZVF0FsABMVsWc2GBABZuF9Np/PNzrt99KsBiGR2Ou2mAQCQ+ZvJv2fL/bkXxd4dgJNMq93SeQCA2Fs+/L7y/BsD0G0AmJc1taqBQtdePD3ssvOngu8NAABlFrq8AtF+uVgs18HbRr8aII/2K0hdU4DksH2eOW+0//UAmbdMthNN5iCLfHvh3R4AX+W694o5QRR5gVIEZZ7FwbH+Tsw7AVRvjp1+sp9Pjz/kQz7kQz7kBvl/agXS43E7tXoAAAAASUVORK5CYII=\" style=\"height: auto\">\n",
       "              <figcaption style=\"font-size: 0.6em\">9</figcaption>\n",
       "            </figure>\n",
       "        \n",
       "            <figure style=\"margin: 5px !important;\">\n",
       "              <img src=\"data:image/png;base64,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\" style=\"height: auto\">\n",
       "              <figcaption style=\"font-size: 0.6em\">7</figcaption>\n",
       "            </figure>\n",
       "        \n",
       "            <figure style=\"margin: 5px !important;\">\n",
       "              <img src=\"data:image/png;base64,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\" style=\"height: auto\">\n",
       "              <figcaption style=\"font-size: 0.6em\">5</figcaption>\n",
       "            </figure>\n",
       "        \n",
       "            <figure style=\"margin: 5px !important;\">\n",
       "              <img src=\"data:image/png;base64,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\" style=\"height: auto\">\n",
       "              <figcaption style=\"font-size: 0.6em\">7</figcaption>\n",
       "            </figure>\n",
       "        \n",
       "            <figure style=\"margin: 5px !important;\">\n",
       "              <img src=\"data:image/png;base64,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\" style=\"height: auto\">\n",
       "              <figcaption style=\"font-size: 0.6em\">4</figcaption>\n",
       "            </figure>\n",
       "        \n",
       "    </div>"
      ],
      "text/plain": [
       "<IPython.core.display.HTML object>"
      ]
     },
     "execution_count": 6,
     "metadata": {},
     "output_type": "execute_result"
    }
   ],
   "source": [
    "count = 8\n",
    "\n",
    "def get_images_and_labels(df, ids):\n",
    "    image_datas = df.loc[ids]['png']\n",
    "    images = [Image.open(io.BytesIO(image_data)) for image_data in image_datas]\n",
    "    labels = df.loc[ids]['value']\n",
    "    return images, list(labels)\n",
    "\n",
    "def get_some_random_images_and_labels(df, count):\n",
    "    image_ids = RNG.choice(df.index.unique(), count, replace=False)\n",
    "    return get_images_and_labels(df, image_ids)\n",
    "\n",
    "train_images, train_labels = get_some_random_images_and_labels(df_train_images, count)\n",
    "test_images, test_labels = get_some_random_images_and_labels(df_test_images, count)\n",
    "\n",
    "display_images_grid(train_images + test_images, captions=train_labels + test_labels, col_count=count)"
   ]
  },
  {
   "cell_type": "markdown",
   "id": "49a9c189-4620-4fff-b12c-0553540cc48d",
   "metadata": {},
   "source": [
    "# Core logic"
   ]
  },
  {
   "cell_type": "markdown",
   "id": "3e1f9cdd-a16c-4406-9eb6-69a653b84175",
   "metadata": {},
   "source": [
    "## Hyper Parameters"
   ]
  },
  {
   "cell_type": "code",
   "execution_count": 7,
   "id": "8d1303e2-9a31-466c-8eb6-48bd7a0a7fb8",
   "metadata": {},
   "outputs": [],
   "source": [
    "# HP_SIGNAL_VEC_LEN = 2000 # aka SBV\n",
    "# HP_SIGNAL_VEC_NON_ZERO_BITS = 9\n",
    "# HP_SIGNAL_ENCODING = f'{HP_SIGNAL_VEC_LEN}/{HP_SIGNAL_VEC_NON_ZERO_BITS}'\n",
    "\n",
    "# HP_CLUSTER_ONES_COUNT_THRES = 5\n",
    "# HP_CLUSTER_CREATION_ONES_COUNT_THRES = 6\n",
    "# HP_CLUSTER_LEARN_STATE_IDLE_CYCLES = 10\n",
    "# HP_CLUSTER_PREPROD_STATE_IDLE_CYCLES = 30\n",
    "# HP_CLUSTER_LEARN_STATE_BINARIZE_SCHEDULE = (10, 20)\n",
    "# HP_CLUSTER_PREPROD_STATE_SIGNALS_PROCESSED_THRES = 10\n",
    "# HP_CLUSTER_BINARIZE_THRES = 0.75\n",
    "# HP_CLUSTER_ACCURACY_THRES = 0.75\n",
    "\n",
    "# HP_PIXELS_COUNT = config.sample_size ** 2\n",
    "\n",
    "HP_SIGNAL_VEC_LEN = 256 # aka SBV\n",
    "HP_SIGNAL_VEC_NON_ZERO_BITS = 6\n",
    "HP_SIGNAL_ENCODING = f'{HP_SIGNAL_VEC_LEN}/{HP_SIGNAL_VEC_NON_ZERO_BITS}'\n",
    "\n",
    "HP_CLUSTER_ONES_COUNT_THRES = 3\n",
    "HP_CLUSTER_CREATION_ONES_COUNT_THRES = 4\n",
    "HP_CLUSTER_LEARN_STATE_IDLE_CYCLES = 10\n",
    "HP_CLUSTER_PREPROD_STATE_IDLE_CYCLES = 30\n",
    "HP_CLUSTER_LEARN_STATE_BINARIZATION_SCHEDULE = (10, 10)\n",
    "HP_CLUSTER_PREPROD_STATE_SIGNALS_PROCESSED_THRES = 20\n",
    "HP_CLUSTER_BINARIZE_THRES = 0.75\n",
    "HP_CLUSTER_ACCURACY_THRES = 0.99\n",
    "\n",
    "HP_TOY_IMAGE_SIZE = 10\n",
    "HP_TOY_IMAGE_SQUARE = HP_TOY_IMAGE_SIZE ** 2\n",
    "HP_TOY_IMAGE_KERNEL_SIZE = 8\n",
    "HP_TOY_IMAGE_KERNEL_SQUARE = HP_TOY_IMAGE_KERNEL_SIZE ** 2\n",
    "assert HP_TOY_IMAGE_KERNEL_SIZE <= HP_TOY_IMAGE_SIZE\n",
    "HP_TOY_IMAGE_ONES_COUNT = 8\n",
    "\n",
    "HP_PIXELS_COUNT = HP_TOY_IMAGE_SQUARE"
   ]
  },
  {
   "cell_type": "markdown",
   "id": "24850512-c1a7-4d52-a17a-bf1a5f7641a7",
   "metadata": {},
   "source": [
    "## Types"
   ]
  },
  {
   "cell_type": "code",
   "execution_count": 8,
   "id": "62aec35b-11c1-4d9a-9cdc-b7315222c610",
   "metadata": {},
   "outputs": [],
   "source": [
    "class ClusterState(StrEnum):\n",
    "    LEARN = auto()\n",
    "    PREPROD = auto()\n",
    "    PROD = auto()\n",
    "    DEAD = auto()\n",
    "\n",
    "class ClusterMeta:\n",
    "    def __init__(self, cluster_ind):\n",
    "        self.state = ClusterState.LEARN\n",
    "        self.cluster_ind = cluster_ind\n",
    "        self.cluster_key = ()\n",
    "        self.output_bit = -1\n",
    "        self.input_bits = ()\n",
    "        self.nu = 0\n",
    "        self.ones_count = -1\n",
    "        self.signals_learned = -1\n",
    "        self.signals_to_learn_till_binarization = 0\n",
    "        self.binarization_schedule = ()\n",
    "        self.stats = Counter()\n",
    "        self.verify_image_ids = {}\n",
    "        self.alarm_cycle = None"
   ]
  },
  {
   "cell_type": "markdown",
   "id": "f70e4714-7395-4a8a-93f7-7248507d6e9f",
   "metadata": {},
   "source": [
    "## Memory"
   ]
  },
  {
   "cell_type": "code",
   "execution_count": 9,
   "id": "385867d3-df1a-44cd-a8b6-ab94e752aad3",
   "metadata": {},
   "outputs": [],
   "source": [
    "def hdv_array_log_like_grow_policy(size):\n",
    "    k = math.log(size, 100_000)\n",
    "    new_size = size * 2 if k < 1 else size * 1.1\n",
    "    return int(new_size)\n",
    "\n",
    "CLUSTERS = HdvArray(HP_SIGNAL_VEC_LEN, np, initial_length=10_000, dtype='f', grow_policy=hdv_array_log_like_grow_policy)\n",
    "CLUSTER_MASKS = HdvArray(HP_SIGNAL_VEC_LEN, np, initial_length=10_000, dtype='f', grow_policy=hdv_array_log_like_grow_policy)\n",
    "CLUSTER_METAS = {} # key - cluster index, value ClusterMeta instance"
   ]
  },
  {
   "cell_type": "code",
   "execution_count": 10,
   "id": "944a2145-43bc-4ece-b640-e4562074deaf",
   "metadata": {},
   "outputs": [],
   "source": [
    "def gc_memory():\n",
    "    gc.collect()\n",
    "    \n",
    "    if cp.cuda.is_available():\n",
    "        cp.get_default_memory_pool().free_all_blocks()\n",
    "\n",
    "def clear_memory():\n",
    "    CLUSTER_METAS.clear()\n",
    "    CLUSTER_MASKS.clear(is_hard_clear=True)\n",
    "    CLUSTERS.clear(is_hard_clear=True)\n",
    "    gc_memory()"
   ]
  },
  {
   "cell_type": "markdown",
   "id": "6438e5f1-7eb4-483c-8572-a32543ab348d",
   "metadata": {},
   "source": [
    "## SBV"
   ]
  },
  {
   "cell_type": "raw",
   "id": "c0294e1e-250b-45b4-aa7b-8172ed6328c5",
   "metadata": {},
   "source": [
    "SBV stands for \"sparsed binary vector\""
   ]
  },
  {
   "cell_type": "code",
   "execution_count": 11,
   "id": "b1a43c52-4006-4a8e-a97d-507ee8f69ef7",
   "metadata": {},
   "outputs": [
    {
     "name": "stdout",
     "output_type": "stream",
     "text": [
      "PIXEL_SBVS loaded from database (ROWID=2)\n"
     ]
    }
   ],
   "source": [
    "df_pixels = pd.read_sql('SELECT rowid, sbv FROM pixels WHERE encoding=:encoding', params={'encoding': HP_SIGNAL_ENCODING}, con=transfs_db_con)\n",
    "\n",
    "if len(df_pixels) > 0:\n",
    "    PIXEL_SBVS = pickle.loads(df_pixels.iloc[0].sbv)\n",
    "    print(f'PIXEL_SBVS loaded from database (ROWID={df_pixels.iloc[0].rowid})')\n",
    "else:\n",
    "    PIXEL_SBVS = np.zeros((HP_PIXELS_COUNT, HP_SIGNAL_VEC_LEN), dtype='f')\n",
    "    \n",
    "    for i in range(PIXEL_SBVS.shape[0]):\n",
    "        ii = RNG.choice(HP_SIGNAL_VEC_LEN, HP_SIGNAL_VEC_NON_ZERO_BITS, replace=False)\n",
    "        PIXEL_SBVS[i][ii] = 1\n",
    "\n",
    "    transfs_db_con.execute('INSERT INTO pixels (encoding, sbv) VALUES (:encoding, :sbv)', {'encoding': HP_SIGNAL_ENCODING, 'sbv': pickle.dumps(PIXEL_SBVS)})\n",
    "    print('PIXEL_SBVS created from scratch')\n",
    "\n",
    "assert PIXEL_SBVS.shape[0] == HP_PIXELS_COUNT\n",
    "assert np.all(PIXEL_SBVS.sum(axis=1) == HP_SIGNAL_VEC_NON_ZERO_BITS)\n",
    "# PIXEL_SBVS = xp_array_to_gpu(PIXEL_SBVS)"
   ]
  },
  {
   "cell_type": "markdown",
   "id": "de73e165-ba51-4050-b4b8-1af91973f3e3",
   "metadata": {},
   "source": [
    "## lambdas"
   ]
  },
  {
   "cell_type": "code",
   "execution_count": 12,
   "id": "9973a30b-4267-42a8-b61c-5c2c869c902c",
   "metadata": {},
   "outputs": [],
   "source": [
    "fetch_si_xy = lambda si: (si.x, si.y)\n",
    "get_sequence = lambda sequences: np.array(list(itertools.chain.from_iterable(sequences)))\n",
    "get_sequences_reading = lambda sequences, seq_reading_code: list(map(lambda r: sequences[r[0]] if r[1] == 0 else list(reversed(sequences[r[0]])), seq_reading_code))\n",
    "get_xy_sequence = lambda sequence, si_ind_dict: np.array(list(map(lambda si_ind: fetch_si_xy(si_ind_dict[si_ind]), sequence)))\n",
    "get_raw_image = lambda image_id: Image.open(io.BytesIO((df_train_images if image_id < 100_000_000 else df_test_images).loc[image_id]['png']))\n",
    "get_cluster_key = lambda tag, output_bit, input_bits: (tag, int(output_bit), tuple(map(int, sorted(input_bits))))\n",
    "signal_elem_ind_to_xy = lambda ind: (int(ind % HP_COMBI_SPACE_SIZE), int(ind // HP_COMBI_SPACE_SIZE))\n",
    "signal_elem_inds_to_xy = lambda inds: list(map(lambda ind: signal_elem_ind_to_xy(ind), inds))\n",
    "get_cluster_logic = lambda cluster_ind: (signal_elem_inds_to_xy(xp_array_from_gpu(xp.argwhere(CLUSTERS.array_active[cluster_ind]).ravel()).astype('i')), signal_elem_ind_to_xy(CLUSTER_METAS[cluster_ind].output_bit))"
   ]
  },
  {
   "cell_type": "markdown",
   "id": "a6579ab9-f958-4519-9eff-82e5e9b4677f",
   "metadata": {},
   "source": [
    "## calc_seq_ipxy"
   ]
  },
  {
   "cell_type": "raw",
   "id": "c8f25bec-0e1b-4f6d-9fd1-42e8c2d678a9",
   "metadata": {},
   "source": [
    "IPXY = InterPolate by XY"
   ]
  },
  {
   "cell_type": "code",
   "execution_count": 13,
   "id": "442809ec-87e2-47d6-be59-672b60fcd5bc",
   "metadata": {},
   "outputs": [],
   "source": [
    "def calc_seq_ipxy(sequences, si_ind_dict):\n",
    "    unique_pts = {} # Dictionaries preserve insertion order  (https://docs.python.org/3/library/stdtypes.html#typesmapping)\n",
    "        \n",
    "    for sequence in sequences:\n",
    "        xy_sequence = get_xy_sequence(sequence, si_ind_dict)\n",
    "        xy_sequence_fwd = np.roll(xy_sequence, -1, axis=0)\n",
    "        vec_sequence = xy_sequence_fwd - xy_sequence\n",
    "        vec_sequence[-1,:] = 0 # get rid of reciprocal vector which connects tail to tip\n",
    "        vec_len_sequence = np.linalg.norm(vec_sequence, axis=1)\n",
    "        vec_len_sequence_nozero = np.where(vec_len_sequence != 0, vec_len_sequence, 1e-6) # prevent 0 len vectors\n",
    "        norm_vec_sequence = (vec_sequence.T / vec_len_sequence_nozero).T\n",
    "        vec_len_sequence = np.round(vec_len_sequence, decimals=0).astype(int)\n",
    "        \n",
    "        assert len(sequence) == vec_sequence.shape[0]\n",
    "        assert len(sequence) == vec_len_sequence.shape[0]\n",
    "        assert len(sequence) == norm_vec_sequence.shape[0]\n",
    "        \n",
    "        for pt, pt_to, norm_vec, vec_len in zip(xy_sequence, xy_sequence_fwd, norm_vec_sequence, vec_len_sequence):\n",
    "            if vec_len <= 0:\n",
    "                continue\n",
    "\n",
    "            pts = pt + (np.arange(vec_len) * norm_vec[np.newaxis,:].T).T # path interpolation\n",
    "            pts = np.round(pts, decimals=0).astype(int)\n",
    "            pts = np.vstack([pts, pt_to])\n",
    "            unique_pts.update(map(lambda p: (tuple(p), 1), pts))\n",
    "\n",
    "    return np.vstack(list(unique_pts.keys()))"
   ]
  },
  {
   "cell_type": "markdown",
   "id": "2fbb6298-8d85-4d7b-bd1b-db831bd714d0",
   "metadata": {},
   "source": [
    "## calc_seq_bv"
   ]
  },
  {
   "cell_type": "raw",
   "id": "d7c672d8-825f-4a48-ae5c-6c4a4a68b901",
   "metadata": {},
   "source": [
    "BV - binary vector with one-hot encoding"
   ]
  },
  {
   "cell_type": "code",
   "execution_count": 14,
   "id": "bf069dce-adf8-453c-be28-b55a61f97627",
   "metadata": {},
   "outputs": [],
   "source": [
    "def calc_seq_bv(seq_xy):\n",
    "    seq_xy = xp_array_to_gpu(seq_xy)\n",
    "    seq_xy = seq_xy * (HP_COMBI_SPACE_SIZE / config.sample_size)\n",
    "    # Leave only points which fit into square defined by HP_COMBI_CLUSTERS_SPACE_SIZE,\n",
    "    # use filtering instead of clipping because clipping tends to introduce false point clustering at the bounadries\n",
    "    seq_xy = xp.round(seq_xy, decimals=0)\n",
    "    ii = xp.all(((seq_xy >= 0) & (seq_xy < HP_COMBI_SPACE_SIZE)), axis=1) \n",
    "    seq_xy = seq_xy[ii]\n",
    "    ind_seq = (seq_xy @ xp.array([1, HP_COMBI_SPACE_SIZE])).astype(int)\n",
    "    bitmap_vec = xp.zeros((HP_COMBI_SPACE_SIZE, HP_COMBI_SPACE_SIZE), dtype='f').ravel()\n",
    "    bitmap_vec[ind_seq] = 1\n",
    "    return bitmap_vec"
   ]
  },
  {
   "cell_type": "markdown",
   "id": "8a7dc09c-d4b0-4fbd-a76d-92684194d275",
   "metadata": {},
   "source": [
    "## calc_seq_sbv"
   ]
  },
  {
   "cell_type": "code",
   "execution_count": 15,
   "id": "6b092598-5634-479f-b788-de7de2b5b22e",
   "metadata": {},
   "outputs": [],
   "source": [
    "def calc_seq_sbv(seq_xy):\n",
    "    ii = np.all(((seq_xy >= 0) & (seq_xy < config.sample_size)), axis=1) \n",
    "    seq_xy = seq_xy[ii]\n",
    "    ind_seq = (seq_xy @ np.array([1, config.sample_size])).astype(int)\n",
    "    seq_sbv = np.where(np.sum(PIXEL_SBVS[ind_seq], axis=0) > 0, 1, 0) # aka Bloom filter\n",
    "    return seq_sbv"
   ]
  },
  {
   "cell_type": "code",
   "execution_count": 16,
   "id": "f929d080-2398-4055-a1d9-0189f89bee39",
   "metadata": {},
   "outputs": [],
   "source": [
    "# def calc_seq_sbv(seq_xy):\n",
    "#     seq_xy = xp_array_to_gpu(seq_xy)\n",
    "#     ii = xp.all(((seq_xy >= 0) & (seq_xy < config.sample_size)), axis=1) \n",
    "#     seq_xy = seq_xy[ii]\n",
    "#     ind_seq = (seq_xy @ xp.array([1, config.sample_size])).astype(int)\n",
    "#     seq_sbv = xp.where(xp.sum(PIXEL_SBVS[ind_seq], axis=0) > 0, 1, 0) # aka Bloom filter\n",
    "#     return seq_sbv"
   ]
  },
  {
   "cell_type": "markdown",
   "id": "76bee177-67c1-4f6d-8ab6-14d652cb5515",
   "metadata": {},
   "source": [
    "## seq_sbv_to_bv"
   ]
  },
  {
   "cell_type": "code",
   "execution_count": 17,
   "id": "3ca199c2-561d-449c-be1a-9662e97ef703",
   "metadata": {},
   "outputs": [],
   "source": [
    "def seq_sbv_to_bv(seq_sbv):\n",
    "    seq_sbv = xp_array_from_gpu(seq_sbv)\n",
    "    pixel_sbv_inds = np.argwhere((PIXEL_SBVS @ seq_sbv) >= HP_SIGNAL_VEC_NON_ZERO_BITS).ravel()\n",
    "    seq_bv = np.zeros((config.sample_size, config.sample_size)).ravel()\n",
    "    seq_bv[pixel_sbv_inds] = 1\n",
    "    return seq_bv"
   ]
  },
  {
   "cell_type": "markdown",
   "id": "5d288799-ded2-4d59-a102-d6fec7581575",
   "metadata": {},
   "source": [
    "## get_seq_bv_pair"
   ]
  },
  {
   "cell_type": "code",
   "execution_count": 18,
   "id": "57e7573e-e617-4e98-b4e7-927032d178b5",
   "metadata": {},
   "outputs": [],
   "source": [
    "def get_seq_bv_pair(df_image, transf):\n",
    "    si_ind_dict = pickle.loads(df_image.inner_si_ind_dict)\n",
    "    sequences = pickle.loads(df_image.inner_sequences)\n",
    "    seq_reading_code = tuple(zip(range(len(sequences)), (0,) * len(sequences)))\n",
    "    seq_reading = get_sequences_reading(sequences, seq_reading_code)\n",
    "    seq_ipxy = calc_seq_ipxy(seq_reading, si_ind_dict)\n",
    "    seq_bv = calc_seq_bv(seq_ipxy)\n",
    "\n",
    "    seq_ipxy_transf = np.hstack([seq_ipxy, np.ones(seq_ipxy.shape[0])[:,np.newaxis]]) # make homogeneous coords\n",
    "    seq_ipxy_transf = (transf @ seq_ipxy_transf.T).T[:,:2]\n",
    "    seq_bv_transf = calc_seq_bv(seq_ipxy_transf)\n",
    "    \n",
    "    return seq_bv, seq_bv_transf"
   ]
  },
  {
   "cell_type": "markdown",
   "id": "1f4341be-05a5-42c1-8c1b-cd855427d724",
   "metadata": {},
   "source": [
    "## get_seq_sbv_pair"
   ]
  },
  {
   "cell_type": "code",
   "execution_count": 19,
   "id": "8d3dbf81-c490-4b1f-8f86-c08a50a2d0b5",
   "metadata": {},
   "outputs": [],
   "source": [
    "def get_seq_sbv_pair_kern(sequences, si_ind_dict, transf):\n",
    "    seq = get_sequence(sequences)\n",
    "    seq_xy = get_xy_sequence(seq, si_ind_dict)\n",
    "    \n",
    "    seq_sbv = calc_seq_sbv(seq_xy)\n",
    "\n",
    "    seq_xy_transf = np.hstack([seq_xy, np.ones(seq_xy.shape[0])[:,np.newaxis]]) # make homogeneous coords\n",
    "    seq_xy_transf = (transf @ seq_xy_transf.T).T[:,:2]\n",
    "    seq_sbv_transf = calc_seq_sbv(seq_xy_transf)\n",
    "    \n",
    "    return seq_sbv, seq_sbv_transf"
   ]
  },
  {
   "cell_type": "code",
   "execution_count": 20,
   "id": "1fa66b17-293e-4681-9058-e2b0ac01d9ab",
   "metadata": {},
   "outputs": [],
   "source": [
    "def get_seq_sbv_pair(df_image, transf):\n",
    "    sequences = pickle.loads(df_image.inner_sequences)\n",
    "    si_ind_dict = pickle.loads(df_image.inner_si_ind_dict)\n",
    "    return get_seq_sbv_pair_kern(sequences, si_ind_dict, transf)"
   ]
  },
  {
   "cell_type": "markdown",
   "id": "aa61025a-f1f8-4b85-9b3b-a28c919b4387",
   "metadata": {},
   "source": [
    "## get_random_toy_image_ids"
   ]
  },
  {
   "cell_type": "code",
   "execution_count": 21,
   "id": "b0f9ed5a-fde1-473f-8f25-895767869647",
   "metadata": {},
   "outputs": [],
   "source": [
    "def get_random_toy_image_ids(count):\n",
    "    result = []\n",
    "    bits_list = RNG.integers(2, size=(count, HP_TOY_IMAGE_KERNEL_SQUARE), dtype='b')\n",
    "\n",
    "    for _ in range(count):\n",
    "        bits = np.zeros(HP_TOY_IMAGE_KERNEL_SQUARE, dtype='b')\n",
    "        ii = RNG.choice(HP_TOY_IMAGE_KERNEL_SQUARE, HP_TOY_IMAGE_ONES_COUNT, replace=False)\n",
    "        bits[ii] = 1\n",
    "        image_id = sum(map(lambda x: 2**int(x), ii))\n",
    "        assert ''.join(map(str, reversed(bits))) == np.binary_repr(image_id, width=HP_TOY_IMAGE_KERNEL_SQUARE)\n",
    "        result.append(image_id)\n",
    "\n",
    "    return result"
   ]
  },
  {
   "cell_type": "markdown",
   "id": "54d7a684-fe05-46e1-8c6e-a1b75279c8d4",
   "metadata": {},
   "source": [
    "## get_toy_image"
   ]
  },
  {
   "cell_type": "code",
   "execution_count": 22,
   "id": "18fd1716-363b-419b-81b4-f91b632785b3",
   "metadata": {},
   "outputs": [],
   "source": [
    "def get_toy_image(image_id):\n",
    "    bits = np.binary_repr(image_id, width=HP_TOY_IMAGE_KERNEL_SQUARE)\n",
    "    bits = np.array(list(map(int, reversed(bits))), dtype='f')\n",
    "    image = np.zeros((HP_TOY_IMAGE_SIZE, HP_TOY_IMAGE_SIZE), dtype='f')\n",
    "    offset = (HP_TOY_IMAGE_SIZE - HP_TOY_IMAGE_KERNEL_SIZE) // 2\n",
    "    image[offset:offset+HP_TOY_IMAGE_KERNEL_SIZE,offset:offset+HP_TOY_IMAGE_KERNEL_SIZE] = bits.reshape(HP_TOY_IMAGE_KERNEL_SIZE, -1)\n",
    "    return image.ravel()"
   ]
  },
  {
   "cell_type": "markdown",
   "id": "c53ad2f3-dc17-4bcb-a9c9-9b44aa1f3a42",
   "metadata": {},
   "source": [
    "## calc_toy_image_sbv"
   ]
  },
  {
   "cell_type": "code",
   "execution_count": 23,
   "id": "d240081d-6785-4dc9-9139-114faf2f88d4",
   "metadata": {},
   "outputs": [],
   "source": [
    "def calc_toy_image_sbv(image):\n",
    "    assert image.shape[0] == PIXEL_SBVS.shape[0]\n",
    "    mask = image.astype(bool)\n",
    "    active_pixels = PIXEL_SBVS[mask]\n",
    "    return np.where(active_pixels.sum(axis = 0) > 0, 1, 0) # aka Bloom filter"
   ]
  },
  {
   "cell_type": "markdown",
   "id": "33dcc7c6-f12f-4c92-b55e-3901f92796ce",
   "metadata": {},
   "source": [
    "## toy_image_sbv_to_bv"
   ]
  },
  {
   "cell_type": "code",
   "execution_count": 24,
   "id": "b4c1ec61-f00f-447e-9cf1-a161ef102b4f",
   "metadata": {},
   "outputs": [],
   "source": [
    "def toy_image_sbv_to_bv(sbv):\n",
    "    sbv = xp_array_from_gpu(sbv)\n",
    "    pixel_sbv_inds = np.argwhere((PIXEL_SBVS @ sbv) >= HP_SIGNAL_VEC_NON_ZERO_BITS).ravel()\n",
    "    bv = np.zeros((HP_TOY_IMAGE_SIZE, HP_TOY_IMAGE_SIZE)).ravel()\n",
    "    bv[pixel_sbv_inds] = 1\n",
    "    return bv"
   ]
  },
  {
   "cell_type": "markdown",
   "id": "454d74a8-397e-42b6-af1e-18437ef2f791",
   "metadata": {},
   "source": [
    "## .lab hdc"
   ]
  },
  {
   "cell_type": "code",
   "execution_count": 25,
   "id": "8a77cf8e-74e7-408e-83ed-bf28a26b2875",
   "metadata": {},
   "outputs": [],
   "source": [
    "# hdc = Hdc(10_000, np, dtype='f')\n",
    "# hdc.bundle = hdc.bundle_noties\n",
    "# hdc.cos_sim_threshold = 0.055\n",
    "# hdc.hdist_threshold = 4700\n",
    "\n",
    "hdc = Hdc(1_000, np, dtype='f')\n",
    "hdc.bundle = hdc.bundle_noties\n",
    "hdc.cos_sim_threshold = 0.10\n",
    "\n",
    "# hdc = Hdc(2_000, np, dtype='f')\n",
    "# hdc.bundle = hdc.bundle_noties\n",
    "# hdc.cos_sim_threshold = 0.10"
   ]
  },
  {
   "cell_type": "code",
   "execution_count": 26,
   "id": "69ac53e2-f39a-4e59-abfd-2b5eeb834122",
   "metadata": {},
   "outputs": [],
   "source": [
    "PIXEL_HDVS = hdc(config.sample_size ** 2)\n",
    "PIXEL_HDVS_NORM = hdc.normalize(PIXEL_HDVS)"
   ]
  },
  {
   "cell_type": "code",
   "execution_count": 27,
   "id": "af16ae38-e56f-48df-85c5-426649ab275a",
   "metadata": {},
   "outputs": [
    {
     "data": {
      "image/png": "[encoded data removed]",
      "text/plain": [
       "<Figure size 1200x480 with 2 Axes>"
      ]
     },
     "metadata": {},
     "output_type": "display_data"
    }
   ],
   "source": [
    "image_id = RNG.choice(df_train_images.index)\n",
    "image = next(df_train_images.loc[[image_id]].itertuples())\n",
    "si_ind_dict = pickle.loads(image.inner_si_ind_dict)\n",
    "sequences = pickle.loads(image.inner_sequences)\n",
    "seq = get_sequence(sequences)\n",
    "seq_xy = get_xy_sequence(seq, si_ind_dict)\n",
    "ii = np.all(((seq_xy >= 0) & (seq_xy < config.sample_size)), axis=1) \n",
    "seq_xy = seq_xy[ii]\n",
    "ind_seq = (seq_xy @ np.array([1, config.sample_size])).astype(int)\n",
    "seq_bv_true = np.zeros((config.sample_size, config.sample_size)).ravel()\n",
    "seq_bv_true[ind_seq] = 1\n",
    "\n",
    "seq_hdv = hdc.bundle(PIXEL_HDVS[ind_seq])\n",
    "seq_hdv_binary = hdc.to_binary(seq_hdv)\n",
    "seq_hdv_bipolar = hdc.to_bipolar(seq_hdv_binary)\n",
    "seq_hdv_bipolar_norm = hdc.normalize(seq_hdv_bipolar)\n",
    "pixel_hdv_inds = np.argwhere((PIXEL_HDVS_NORM @ seq_hdv_bipolar_norm) > hdc.cos_sim_threshold).ravel()\n",
    "seq_bv = np.zeros((config.sample_size, config.sample_size)).ravel()\n",
    "seq_bv[pixel_hdv_inds] = 1\n",
    "\n",
    "error_level = np.count_nonzero(seq_bv != seq_bv_true)\n",
    "\n",
    "fig, (ax1, ax2) = plt.subplots(1, 2)\n",
    "fig.set_figwidth(12)\n",
    "ax1.set_title(f'image_id={image_id}, points={len(ind_seq)}')\n",
    "ax1.imshow(seq_bv_true.reshape(config.sample_size, -1));\n",
    "ax2.set_title(f'err.={error_level}')\n",
    "ax2.set_title(f'N={seq_hdv.shape[0]} / {seq_hdv_binary.sum():.0f}, err.={error_level}')\n",
    "ax2.imshow(seq_bv.reshape(config.sample_size, -1));"
   ]
  },
  {
   "cell_type": "code",
   "execution_count": 28,
   "id": "93bd685d-76e0-4de1-a67b-6a61e9a2c29b",
   "metadata": {},
   "outputs": [
    {
     "data": {
      "image/jpeg": "[encoded data removed]",
      "image/png": "[encoded data removed]",
      "text/plain": [
       "<PIL.PngImagePlugin.PngImageFile image mode=L size=128x128>"
      ]
     },
     "execution_count": 28,
     "metadata": {},
     "output_type": "execute_result"
    }
   ],
   "source": [
    "get_raw_image(image_id)"
   ]
  },
  {
   "cell_type": "markdown",
   "id": "582ad609-9873-4ab3-830f-488d15ecf505",
   "metadata": {},
   "source": [
    "## .lab sbv"
   ]
  },
  {
   "cell_type": "code",
   "execution_count": 29,
   "id": "9d858d2c-11f8-4b20-a572-c9c1edcfaf55",
   "metadata": {},
   "outputs": [],
   "source": [
    "# # image_id = RNG.choice(df_train_images.index)\n",
    "# # image_id = 44917 # 60 points\n",
    "# image = next(df_train_images.loc[[image_id]].itertuples())\n",
    "# si_ind_dict = pickle.loads(image.inner_si_ind_dict)\n",
    "# sequences = pickle.loads(image.inner_sequences)\n",
    "# seq = get_sequence(sequences)\n",
    "# seq_xy = get_xy_sequence(seq, si_ind_dict)\n",
    "# ii = np.all(((seq_xy >= 0) & (seq_xy < config.sample_size)), axis=1) \n",
    "# seq_xy = seq_xy[ii]\n",
    "# ind_seq = (seq_xy @ np.array([1, config.sample_size])).astype(int)\n",
    "# seq_bv_true = np.zeros((config.sample_size, config.sample_size)).ravel()\n",
    "# seq_bv_true[ind_seq] = 1\n",
    "\n",
    "# # seq_sbv = np.where(np.sum(PIXEL_SBVS[ind_seq], axis=0) > 0, 1, 0) # aka Bloom filter\n",
    "# seq_sbv = calc_seq_sbv(seq_xy)\n",
    "# # pixel_sbv_inds = np.argwhere((PIXEL_SBVS @ seq_sbv) >= SBV_NON_ZERO_INDS).ravel()\n",
    "# # seq_bv = np.zeros((config.sample_size, config.sample_size)).ravel()\n",
    "# # seq_bv[pixel_sbv_inds] = 1\n",
    "# seq_bv = seq_sbv_to_bv(seq_sbv)\n",
    "\n",
    "# error_level = np.count_nonzero(seq_bv != seq_bv_true)\n",
    "\n",
    "# fig, (ax1, ax2) = plt.subplots(1, 2)\n",
    "# fig.set_figwidth(12)\n",
    "# ax1.set_title(f'image_id={image_id}, points={len(ind_seq)}')\n",
    "# ax1.imshow(seq_bv_true.reshape(config.sample_size, -1))\n",
    "# ax2.set_title(f'sbv={seq_sbv.shape[0]} / {seq_sbv.sum()}, non_zero_inds={HP_SIGNAL_VEC_NON_ZERO_BITS}, err.={error_level}')\n",
    "# ax2.imshow(seq_bv.reshape(config.sample_size, -1));"
   ]
  },
  {
   "cell_type": "markdown",
   "id": "8a40ec0a-891b-4385-88c3-6699bf574057",
   "metadata": {},
   "source": [
    "# Train"
   ]
  },
  {
   "cell_type": "code",
   "execution_count": 30,
   "id": "4287bb50-b460-4bdd-8d19-322e30669418",
   "metadata": {},
   "outputs": [],
   "source": [
    "move_to_ooc_transf = np.array([\n",
    "    [1, 0, -config.sample_size / 2],\n",
    "    [0, 1, -config.sample_size / 2],\n",
    "    [0, 0, 1]])\n",
    "theta = np.deg2rad(45)\n",
    "cos_theta = math.cos(theta)\n",
    "sin_theta = math.sin(theta)\n",
    "rotation_transf = np.array([\n",
    "    [cos_theta, -sin_theta, 0],\n",
    "    [sin_theta, cos_theta, 0],\n",
    "    [0, 0, 1]\n",
    "])\n",
    "move_to_target_loc_transf = np.array([\n",
    "    [1, 0, config.sample_size / 2],\n",
    "    [0, 1, config.sample_size / 2],\n",
    "    [0, 0, 1]])\n",
    "transf_rotate_45 = move_to_target_loc_transf @ rotation_transf @ move_to_ooc_transf"
   ]
  },
  {
   "cell_type": "code",
   "execution_count": 31,
   "id": "0e80b056-0944-48cd-82c1-04b246f9551e",
   "metadata": {},
   "outputs": [],
   "source": [
    "transf_offset_10_0 = np.array([\n",
    "    [1, 0, 10],\n",
    "    [0, 1, 0],\n",
    "    [0, 0, 1]])"
   ]
  },
  {
   "cell_type": "code",
   "execution_count": 32,
   "id": "d53d9c0e-7546-4979-a953-0b8f46f1ce48",
   "metadata": {},
   "outputs": [],
   "source": [
    "transfs = {\n",
    "    'offset_10_0': transf_offset_10_0,\n",
    "    'rotate_45': transf_rotate_45,\n",
    "}\n",
    "transf_code = 'offset_10_0'\n",
    "transf = transfs[transf_code]"
   ]
  },
  {
   "cell_type": "code",
   "execution_count": 33,
   "id": "145172a9-54d1-4563-a7ab-cde78584810c",
   "metadata": {},
   "outputs": [],
   "source": [
    "LOG.is_enabled = True"
   ]
  },
  {
   "cell_type": "code",
   "execution_count": 34,
   "id": "b5b3a964-acfe-449a-8668-928587811e45",
   "metadata": {},
   "outputs": [],
   "source": [
    "clear_memory()"
   ]
  },
  {
   "cell_type": "code",
   "execution_count": 35,
   "id": "66c512a5-916f-4a20-b37c-e0369e7d65c8",
   "metadata": {},
   "outputs": [],
   "source": [
    "HP_MAX_LEARN_CLUSTERS_COUNT = 300_000\n",
    "\n",
    "# HP_EPOCHS_COUNT = 10\n",
    "# HP_CYCLES_COUNT = 500\n",
    "# HP_OUTPUT_BITS_PER_BATCH = 50\n",
    "\n",
    "# HP_POINTS_COUNT = HP_OUTPUT_BITS_PER_BATCH * 100\n",
    "# HP_POINT_NON_ZERO_BITS = 100\n",
    "\n",
    "HP_EPOCHS_COUNT = 1\n",
    "HP_CYCLES_COUNT = 100\n",
    "HP_OUTPUT_BITS_PER_BATCH = 256\n",
    "\n",
    "HP_POINTS_COUNT = HP_OUTPUT_BITS_PER_BATCH * 200\n",
    "HP_POINT_NON_ZERO_BITS = 32"
   ]
  },
  {
   "cell_type": "code",
   "execution_count": 45,
   "id": "40a229ad-4719-4074-b4b8-ae25b0ce03c4",
   "metadata": {},
   "outputs": [],
   "source": [
    "# cycle_images_count = min(50, len(df_train_images))\n",
    "cycle_images_count = min(100, len(df_train_images))\n",
    "use_toy_images = True"
   ]
  },
  {
   "cell_type": "code",
   "execution_count": 37,
   "id": "b4697dfc-cda8-4f15-a003-edebae4c86d1",
   "metadata": {},
   "outputs": [],
   "source": [
    "# Counter(map(lambda m: m.ones_count, filter(lambda m: m.state == ClusterState.PROD, CLUSTER_METAS.values())))"
   ]
  },
  {
   "cell_type": "code",
   "execution_count": 59,
   "id": "a2366ea9-8171-4373-b8ce-9cc0299c365f",
   "metadata": {},
   "outputs": [
    {
     "data": {
      "application/vnd.jupyter.widget-view+json": {
       "model_id": "9a01524b368f4800866df673e6ef4d36",
       "version_major": 2,
       "version_minor": 0
      },
      "text/plain": [
       "Epoch:   0%|          | 0/1 [00:00<?, ?it/s]"
      ]
     },
     "metadata": {},
     "output_type": "display_data"
    },
    {
     "data": {
      "application/vnd.jupyter.widget-view+json": {
       "model_id": "8e83bb0690e14ca7a631aee15b9270be",
       "version_major": 2,
       "version_minor": 0
      },
      "text/plain": [
       "Cycle:   0%|          | 0/100 [00:00<?, ?it/s]"
      ]
     },
     "metadata": {},
     "output_type": "display_data"
    }
   ],
   "source": [
    "# %%time\n",
    "batch_output_bits_filter = lambda s, e: True\n",
    "# batch_output_bits_filter = lambda s, e: s == 0\n",
    "\n",
    "for epoch in tqdm(range(HP_EPOCHS_COUNT), desc='Epoch'):\n",
    "    with LOG.auto_prefix('EPOCH', epoch):\n",
    "        for start_output_bit in range(0, HP_SIGNAL_VEC_LEN, HP_OUTPUT_BITS_PER_BATCH):\n",
    "            end_output_bit = start_output_bit + HP_OUTPUT_BITS_PER_BATCH - 1\n",
    "            end_output_bit = min(end_output_bit, HP_SIGNAL_VEC_LEN - 1)\n",
    "            assert end_output_bit >= start_output_bit, (start_output_bit, end_output_bit)\n",
    "\n",
    "            if not batch_output_bits_filter(start_output_bit, end_output_bit):\n",
    "                continue\n",
    "            \n",
    "            with LOG.auto_prefix('OBITS', f'{start_output_bit}:{end_output_bit}'):\n",
    "                clear_memory()\n",
    "\n",
    "                ## Create combinatorial points from scratch for output bits (OBITS)\n",
    "                POINTS = []\n",
    "                POINT_OUTPUT_BITS = []\n",
    "                output_bits = RNG.choice(range(start_output_bit, end_output_bit + 1), HP_POINTS_COUNT)\n",
    "                \n",
    "                for output_bit in output_bits:\n",
    "                    point_vec = np.zeros(HP_SIGNAL_VEC_LEN, dtype='f')\n",
    "                    non_zero_inds = RNG.choice(HP_SIGNAL_VEC_LEN, HP_POINT_NON_ZERO_BITS, replace=False)\n",
    "                    point_vec[non_zero_inds] = 1\n",
    "                    POINTS.append(point_vec)\n",
    "                    POINT_OUTPUT_BITS.append(output_bit)\n",
    "                \n",
    "                POINTS = xp_array_to_gpu(np.vstack(POINTS))\n",
    "                POINT_OUTPUT_BITS = np.hstack(POINT_OUTPUT_BITS)\n",
    "                POINT_INDS = np.arange(POINTS.shape[0])\n",
    "                LOG(f'{POINTS.shape[0]} combinatorial points created')\n",
    "\n",
    "                ## Restore prod clusters for output bits (OBITS)\n",
    "                df_clusters = pd.read_sql('SELECT ROWID, output_bit, sbv, meta FROM clusters WHERE encoding=:encoding AND transf_code=:transf_code ' + \n",
    "                                          'AND output_bit>=:start_output_bit AND output_bit<=:end_output_bit', \n",
    "                                          params={\n",
    "                                              'encoding': HP_SIGNAL_ENCODING, \n",
    "                                              'transf_code': transf_code,\n",
    "                                              'start_output_bit': start_output_bit, \n",
    "                                              'end_output_bit': end_output_bit}, \n",
    "                                          con=transfs_db_con)\n",
    "                \n",
    "                for cluster_row in df_clusters.itertuples():\n",
    "                    prod_clusters_for_output_bit = pickle.loads(cluster_row.sbv)\n",
    "                    prod_cluster_metas_for_output_bit = pickle.loads(cluster_row.meta)\n",
    "                    assert prod_clusters_for_output_bit.shape[0] == len(prod_cluster_metas_for_output_bit)\n",
    "\n",
    "                    for cluster, meta in zip(prod_clusters_for_output_bit, prod_cluster_metas_for_output_bit):\n",
    "                        cluster = xp_array_to_gpu(cluster)\n",
    "                        cluster_ind = CLUSTERS.lease()\n",
    "                        assert CLUSTER_MASKS.lease() == cluster_ind\n",
    "                        meta.cluster_ind = cluster_ind\n",
    "                        CLUSTERS.array[cluster_ind] = cluster\n",
    "                        CLUSTER_MASKS.array[cluster_ind] = cluster\n",
    "                        CLUSTER_METAS[cluster_ind] = meta\n",
    "\n",
    "                    LOG(f'Loaded {prod_clusters_for_output_bit.shape[0]} clusters for output bit {cluster_row.output_bit} (ROWID={cluster_row.rowid})')\n",
    "\n",
    "                assert len(CLUSTER_METAS) == CLUSTERS.active_len\n",
    "                assert len(CLUSTER_METAS) == CLUSTER_MASKS.active_len\n",
    "                LOG(f'Loaded {len(CLUSTER_METAS)} clusters in total')\n",
    "\n",
    "                prod_cluster_metas = filter(lambda c: c.state == ClusterState.PROD, CLUSTER_METAS.values())\n",
    "                unique_cluster_keys = set(map(lambda m: m.cluster_key, prod_cluster_metas))\n",
    "                \n",
    "                ## Mine clusters\n",
    "                for cycle in tqdm(range(HP_CYCLES_COUNT), leave=False, desc='Cycle'):\n",
    "                    with LOG.auto_prefix('CYCLE', cycle):\n",
    "                        ### Prepare input and output signals for training\n",
    "                        signals_input = []\n",
    "                        signals_output = []\n",
    "                        \n",
    "                        if use_toy_images:\n",
    "                            cycle_image_ids = get_random_toy_image_ids(cycle_images_count)\n",
    "\n",
    "                            for cycle_image_id in cycle_image_ids:\n",
    "                                toy_image_origin = get_toy_image(cycle_image_id)\n",
    "                                toy_image_transf = np.roll(toy_image_origin.reshape(HP_TOY_IMAGE_SIZE, -1), 1, axis=1).ravel()\n",
    "                                toy_image_origin_sbv, toy_image_transf_sbv = calc_toy_image_sbv(toy_image_origin), calc_toy_image_sbv(toy_image_transf)\n",
    "                                signals_input.append(toy_image_origin_sbv)\n",
    "                                signals_output.append(toy_image_transf_sbv)\n",
    "                        else:\n",
    "                            cycle_image_ids = RNG.choice(df_train_images.index, cycle_images_count, replace=False).astype('i')\n",
    "                            df_cycle_images = df_train_images.loc[cycle_image_ids]\n",
    "                            \n",
    "                            for image in df_cycle_images.itertuples():\n",
    "                                seq_origin_sbv, seq_transf_sbv = get_seq_sbv_pair(image, transf)\n",
    "                                signals_input.append(seq_origin_sbv)\n",
    "                                signals_output.append(seq_transf_sbv)\n",
    "                        \n",
    "                        signals_input = xp.vstack(signals_input)\n",
    "                        signals_output = np.vstack(signals_output)\n",
    "                        ### \n",
    "                                         \n",
    "                        cluster_states = Counter(map(lambda m: m.state.name, CLUSTER_METAS.values()))\n",
    "                        \n",
    "                        LOG(f'===')\n",
    "                        LOG(f'Cycle {cycle} started, clusters: {cluster_states}, CLUSTERS.array.shape={CLUSTERS.array.shape}')\n",
    "                        \n",
    "                        ### Create new clusters\n",
    "                        learn_cluster_count = cluster_states[ClusterState.LEARN.name]\n",
    "                        new_clusters_count = 0\n",
    "                        \n",
    "                        for signal_input, signal_output in zip(signals_input, signals_output):\n",
    "                            if learn_cluster_count > HP_MAX_LEARN_CLUSTERS_COUNT:\n",
    "                                break\n",
    "                                \n",
    "                            active_points_mask = signal_output[POINT_OUTPUT_BITS] != 0\n",
    "                            active_point_inds = POINT_INDS[active_points_mask]\n",
    "\n",
    "                            if active_point_inds.shape[0] == 0:\n",
    "                                continue\n",
    "                                \n",
    "                            active_points = POINTS[active_point_inds] # subset of POINTS which are connected to active output bits\n",
    "                            active_points_signal_input_mat = active_points * signal_input\n",
    "                            active_points_signal_input_mask = (active_points_signal_input_mat.sum(axis=1) >= HP_CLUSTER_CREATION_ONES_COUNT_THRES) # active_points must have at least ON bits within input signal\n",
    "                            active_points_signal_input_mask = xp_array_from_gpu(active_points_signal_input_mask)\n",
    "                    \n",
    "                            for mask_value, point_ind, subsignal_input in zip(active_points_signal_input_mask,\n",
    "                                                                              active_point_inds, \n",
    "                                                                              xp_array_from_gpu(active_points_signal_input_mat)):\n",
    "                                if not mask_value:\n",
    "                                    continue\n",
    "                                \n",
    "                                active_output_bit = int(POINT_OUTPUT_BITS[point_ind])\n",
    "                                active_input_bits = np.flatnonzero(subsignal_input)\n",
    "                                assert active_input_bits.shape[0] >= HP_CLUSTER_CREATION_ONES_COUNT_THRES\n",
    "                                cluster_key = get_cluster_key(ClusterState.LEARN.name, active_output_bit, active_input_bits)\n",
    "                    \n",
    "                                if cluster_key in unique_cluster_keys:\n",
    "                                    continue\n",
    "                    \n",
    "                                cluster_ind = CLUSTERS.lease()\n",
    "                                cluster_mask_ind = CLUSTER_MASKS.lease()\n",
    "                                assert cluster_ind == cluster_mask_ind\n",
    "                                # due to frequent uploads hosting CLUSTERS and CLUSTER_MASKS on GPU slow downs whole process a lot,\n",
    "                                # as such host CLUSTERS and CLUSTER_MASKS on CPU and bulk upload to GPU when needed\n",
    "                                CLUSTERS.array[cluster_ind] = subsignal_input\n",
    "                                CLUSTER_MASKS.array[cluster_ind] = subsignal_input\n",
    "                                cluster_meta = ClusterMeta(cluster_ind)\n",
    "                                cluster_meta.cluster_key = cluster_key\n",
    "                                cluster_meta.output_bit = active_output_bit\n",
    "                                cluster_meta.input_bits = tuple(active_input_bits)\n",
    "                                cluster_meta.nu = 1 / subsignal_input.sum()\n",
    "                                cluster_meta.signals_to_learn_till_binarization = HP_CLUSTER_LEARN_STATE_BINARIZATION_SCHEDULE[0]\n",
    "                                cluster_meta.binarization_schedule = HP_CLUSTER_LEARN_STATE_BINARIZATION_SCHEDULE\n",
    "                                cluster_meta.alarm_cycle = cycle + HP_CLUSTER_LEARN_STATE_IDLE_CYCLES\n",
    "                                CLUSTER_METAS[cluster_ind] = cluster_meta\n",
    "                                unique_cluster_keys.add(cluster_key)\n",
    "                                new_clusters_count += 1\n",
    "                                learn_cluster_count += 1\n",
    "                    \n",
    "                        LOG(f'Created {new_clusters_count} clusters')\n",
    "\n",
    "                        ### Upload clusters to GPU to speed-up learning, binarization and verification steps\n",
    "                        gpu_clusters = xp_array_to_gpu(CLUSTERS.array_active)\n",
    "                        gpu_cluster_masks = xp_array_to_gpu(CLUSTER_MASKS.array_active)\n",
    "                        gpu_cluster_nus = np.zeros(CLUSTERS.active_len)\n",
    "                        for m in CLUSTER_METAS.values(): gpu_cluster_nus[m.cluster_ind] = m.nu\n",
    "                        gpu_cluster_nus = xp_array_to_gpu(gpu_cluster_nus)\n",
    "                        LOG('GPU upload complete')\n",
    "\n",
    "                        ### Learn clusters\n",
    "                        learn_cluster_metas = list(filter(lambda c: c.state == ClusterState.LEARN, CLUSTER_METAS.values()))\n",
    "                        learn_cluster_inds = np.array(list(map(lambda m: m.cluster_ind, learn_cluster_metas)), dtype='i')\n",
    "                        learn_cluster_output_bits = list(map(lambda m: m.output_bit, learn_cluster_metas))\n",
    "                        learned_clusters_inds = set()\n",
    "                        \n",
    "                        for signal_input, signal_output in zip(signals_input, signals_output):\n",
    "                            # this stanza 'signal_output[learn_cluster_output_bits] != 0' effectively produces\n",
    "                            # boolean mask for learn_cluster_inds - clusters which are connected to currently active output bits\n",
    "                            active_cluster_inds = learn_cluster_inds[signal_output[learn_cluster_output_bits] != 0]\n",
    "                    \n",
    "                            if active_cluster_inds.shape[0] == 0:\n",
    "                                continue\n",
    "                            \n",
    "                            active_clusters = gpu_clusters[active_cluster_inds] # subset of CLUSTERS which are connected to active bits in signal_output\n",
    "                            active_cluster_masks = gpu_cluster_masks[active_cluster_inds]\n",
    "                            active_cluster_nus = gpu_cluster_nus[active_cluster_inds]\n",
    "\n",
    "                            ys = signal_input @ active_clusters.T # how each cluster reacted on signal_input (strength), ca. shape (35,).\n",
    "                            zs = signal_input @ active_cluster_masks.T # number of activated bits within each cluster for given signal_input, ca. shape (35,)\n",
    "                            grow = (signal_input * (active_cluster_nus * ys)[:,np.newaxis]) # how weights within each cluster must grow up in response co signal_input, matrix, ca. shape (35, 1024)\n",
    "                            grow *= active_cluster_masks # masking, only allow weights which belong to clusters to grow up, matrix, ca. shape (35, 1024)\n",
    "                            nomins = active_clusters + grow # grow weights within clusters\n",
    "                            denoms = nomins.max(axis=1) \n",
    "                            updated_active_clusters = (nomins.T / denoms).T \n",
    "                            # upload updated weights for those clusters which have enough bits touched by signal\n",
    "                            # (i.e. we won't update clusters which have e.g. 1 bit touched)\n",
    "                            zs_mask = xp_array_from_gpu(zs >= HP_CLUSTER_ONES_COUNT_THRES)\n",
    "                            gpu_clusters[active_cluster_inds[zs_mask]] = updated_active_clusters[zs_mask]\n",
    "                    \n",
    "                            for cluster_ind in active_cluster_inds[zs_mask]:\n",
    "                                cluster_meta = CLUSTER_METAS[cluster_ind]\n",
    "                                cluster_meta.signals_learned += 1\n",
    "                                cluster_meta.signals_to_learn_till_binarization -= 1\n",
    "                                cluster_meta.alarm_cycle = cycle + HP_CLUSTER_LEARN_STATE_IDLE_CYCLES\n",
    "                                learned_clusters_inds.add(cluster_ind)\n",
    "                    \n",
    "                        LOG(f'Learned {len(learned_clusters_inds)} clusters')\n",
    "\n",
    "                        ### Binarize LEARN clusters (develop specialization)\n",
    "                        cluster_metas_to_binarize = list(filter(lambda m: m.state == ClusterState.LEARN and m.signals_to_learn_till_binarization <= 0, CLUSTER_METAS.values()))\n",
    "                        cluster_inds_to_binarize = list(map(lambda m: m.cluster_ind, cluster_metas_to_binarize))\n",
    "                        new_cluster_states = Counter()\n",
    "\n",
    "                        if cluster_inds_to_binarize:\n",
    "                            binarized_clusters = xp.where(gpu_clusters[cluster_inds_to_binarize] > HP_CLUSTER_BINARIZE_THRES, 1, 0)\n",
    "                            gpu_clusters[cluster_inds_to_binarize] = binarized_clusters\n",
    "                            gpu_cluster_masks[cluster_inds_to_binarize] = binarized_clusters\n",
    "                            binarized_clusters_ones_counts = xp_array_from_gpu(binarized_clusters.sum(axis=1))\n",
    "                            binarized_clusters = xp_array_from_gpu(binarized_clusters)\n",
    "                        \n",
    "                            for cluster_meta, cluster, ones_count in zip(cluster_metas_to_binarize, binarized_clusters, binarized_clusters_ones_counts):\n",
    "                                cluster_ind = cluster_meta.cluster_ind\n",
    "                                cluster_meta.binarization_schedule = cluster_meta.binarization_schedule[1:]\n",
    "                                cluster_meta.signals_to_learn_till_binarization = cluster_meta.binarization_schedule[0] if cluster_meta.binarization_schedule else 0\n",
    "                                cluster_meta.ones_count = int(ones_count)\n",
    "                                assert cluster_meta.ones_count > 0\n",
    "                    \n",
    "                                if cluster_meta.ones_count >= HP_CLUSTER_ONES_COUNT_THRES:\n",
    "                                    old_cluster_key = cluster_meta.cluster_key\n",
    "                                    cluster_meta.input_bits = tuple(np.flatnonzero(cluster))\n",
    "                                    new_cluster_key = get_cluster_key(ClusterState.LEARN.name, cluster_meta.output_bit, cluster_meta.input_bits)\n",
    "    \n",
    "                                    if old_cluster_key != new_cluster_key:\n",
    "                                        if new_cluster_key in unique_cluster_keys:\n",
    "                                            cluster_meta.state = ClusterState.DEAD\n",
    "                                            cluster_meta.alarm_cycle = None\n",
    "                                        else:\n",
    "                                            cluster_meta.cluster_key = new_cluster_key\n",
    "                                            unique_cluster_keys.remove(old_cluster_key)\n",
    "                                            unique_cluster_keys.add(new_cluster_key)\n",
    "                                else:\n",
    "                                    cluster_meta.state = ClusterState.DEAD\n",
    "                                    cluster_meta.alarm_cycle = None\n",
    "                                    \n",
    "                                new_cluster_states[cluster_meta.state.name] += 1\n",
    "                    \n",
    "                        LOG(f'Binarized {len(cluster_metas_to_binarize)} clusters: {new_cluster_states}')\n",
    "                        \n",
    "                        ### Promote LEARN clusters to PREPROD/DEAD if they've learned enough (binarization schedule is exhausted)\n",
    "                        new_cluster_states = Counter()\n",
    "                        learn_cluster_metas_to_promote = filter(lambda m: m.state == ClusterState.LEARN and not m.binarization_schedule, CLUSTER_METAS.values())\n",
    "                        \n",
    "                        for cluster_meta in learn_cluster_metas_to_promote:\n",
    "                            cluster_ind = cluster_meta.cluster_ind\n",
    "                            assert cluster_meta.ones_count >= HP_CLUSTER_ONES_COUNT_THRES\n",
    "                \n",
    "                            old_cluster_key = cluster_meta.cluster_key\n",
    "                            new_cluster_key = get_cluster_key(ClusterState.PROD.name, cluster_meta.output_bit, cluster_meta.input_bits)\n",
    "\n",
    "                            if new_cluster_key in unique_cluster_keys:\n",
    "                                cluster_meta.state = ClusterState.DEAD\n",
    "                                cluster_meta.alarm_cycle = None\n",
    "                            else:\n",
    "                                cluster_meta.cluster_key = new_cluster_key\n",
    "                                cluster_meta.state = ClusterState.PREPROD\n",
    "                                cluster_meta.alarm_cycle = cycle + HP_CLUSTER_PREPROD_STATE_IDLE_CYCLES\n",
    "                                unique_cluster_keys.remove(old_cluster_key)\n",
    "                                unique_cluster_keys.add(new_cluster_key)\n",
    "                                \n",
    "                            new_cluster_states[cluster_meta.state.name] += 1\n",
    "\n",
    "                        LOG(f'Promoted {new_cluster_states.total()} LEARN clusters: {new_cluster_states}')\n",
    "\n",
    "                        ### Promote PREPROD clusters to PROD/DEAD if they've been verified enough\n",
    "                        new_cluster_states = Counter()\n",
    "                        preprod_cluster_metas_to_promote = filter(lambda c: (c.state == ClusterState.PREPROD) and (c.stats.total() >= HP_CLUSTER_PREPROD_STATE_SIGNALS_PROCESSED_THRES), CLUSTER_METAS.values())\n",
    "                        \n",
    "                        for cluster_meta in preprod_cluster_metas_to_promote:\n",
    "                            accuracy = cluster_meta.stats[True] / cluster_meta.stats.total()\n",
    "\n",
    "                            if accuracy >= HP_CLUSTER_ACCURACY_THRES:\n",
    "                                assert cluster_meta.ones_count >= HP_CLUSTER_ONES_COUNT_THRES\n",
    "                                cluster_meta.state = ClusterState.PROD\n",
    "                                cluster_meta.alarm_cycle = None\n",
    "                            else:\n",
    "                                cluster_meta.state = ClusterState.DEAD\n",
    "                                cluster_meta.alarm_cycle = None\n",
    "                                \n",
    "                            new_cluster_states[cluster_meta.state.name] += 1\n",
    "                    \n",
    "                        LOG(f'Promoted {new_cluster_states.total()} PREPROD clusters: {new_cluster_states}')\n",
    "                    \n",
    "                        ### Verify PREPROD clusters against new signals\n",
    "                        preprod_cluster_metas = list(filter(lambda m: m.state == ClusterState.PREPROD, CLUSTER_METAS.values()))\n",
    "                        preprod_cluster_inds = np.array(list(map(lambda m: m.cluster_ind, preprod_cluster_metas)), dtype='i')\n",
    "                        preprod_cluster_ones_counts = xp.array(list(map(lambda m: m.ones_count, preprod_cluster_metas)), dtype='f')\n",
    "                        preprod_cluster_output_bits = np.array(list(map(lambda m: m.output_bit, preprod_cluster_metas)), dtype='i')\n",
    "                        preprod_clusters = gpu_clusters[preprod_cluster_inds]\n",
    "                        verified_cluster_inds = set()\n",
    "                        \n",
    "                        for signal_input, signal_output, signal_image_id in zip(signals_input, signals_output, cycle_image_ids):\n",
    "                            activated_clusters_mask = xp_array_from_gpu((preprod_clusters @ signal_input) >= preprod_cluster_ones_counts)\n",
    "                            # cast array of output_bit numbers [0, 3, 4, 7, 7, 0, 3, 32, ..] to TP array [True, False, False, True, True, True, False, False, ...]\n",
    "                            # where True if output_bit of preprod_cluster is enabled in signal_output and False otherwise\n",
    "                            preprod_cluster_output_bits_tf = signal_output[preprod_cluster_output_bits] != 0\n",
    "                            \n",
    "                            for cluster_ind, tf in zip(preprod_cluster_inds[activated_clusters_mask], preprod_cluster_output_bits_tf[activated_clusters_mask]):\n",
    "                                tf = bool(tf) # not mandatory, but eases further inspections by eyes\n",
    "                                signal_image_id = int(signal_image_id)\n",
    "                                cluster_meta = CLUSTER_METAS[cluster_ind]\n",
    "                    \n",
    "                                if not signal_image_id in cluster_meta.verify_image_ids:\n",
    "                                    cluster_meta.stats[tf] += 1\n",
    "                                    cluster_meta.verify_image_ids[signal_image_id] = tf\n",
    "                                    cluster_meta.alarm_cycle = cycle + HP_CLUSTER_PREPROD_STATE_IDLE_CYCLES\n",
    "                                    verified_cluster_inds.add(cluster_ind)\n",
    "                    \n",
    "                        LOG(f'Verified {len(verified_cluster_inds)} clusters')\n",
    "\n",
    "                        ### Download back clusters and masks back from GPU so they can be modified on CPU side during weeding\n",
    "                        CLUSTERS.array_active[:] = xp_array_from_gpu(gpu_clusters)\n",
    "                        CLUSTER_MASKS.array_active[:] = xp_array_from_gpu(gpu_cluster_masks)\n",
    "                        LOG('GPU download complete')\n",
    "\n",
    "                        ### Weed the garden\n",
    "                        unneeded_cluster_metas = []\n",
    "                        unneeded_cluster_metas.extend(filter(lambda m: m.state == ClusterState.DEAD, CLUSTER_METAS.values()))\n",
    "                        unneeded_cluster_metas.extend(filter(lambda m: m.alarm_cycle is not None and m.alarm_cycle < cycle, CLUSTER_METAS.values()))\n",
    "                        \n",
    "                        for cluster_meta in unneeded_cluster_metas:\n",
    "                            cluster_ind = cluster_meta.cluster_ind\n",
    "                            unique_cluster_keys.remove(cluster_meta.cluster_key)\n",
    "                            del CLUSTER_METAS[cluster_ind]\n",
    "                            CLUSTERS.release(cluster_ind)\n",
    "                            CLUSTER_MASKS.release(cluster_ind)\n",
    "                    \n",
    "                        LOG(f'Removed {len(unneeded_cluster_metas)} loser clusters')\n",
    "\n",
    "                ## Persist mined prod clusters for output bits (OBITS)\n",
    "                output_bit_to_prod_cluster_metas = defaultdict(list)\n",
    "                gpu_clusters = xp_array_to_gpu(CLUSTERS.array_active)\n",
    "                persisted_count = 0\n",
    "                \n",
    "                for meta in filter(lambda m: m.state == ClusterState.PROD, CLUSTER_METAS.values()):\n",
    "                    output_bit_to_prod_cluster_metas[meta.output_bit].append(meta)\n",
    "\n",
    "                for output_bit, metas in output_bit_to_prod_cluster_metas.items():\n",
    "                    cluster_inds = list(map(lambda m: m.cluster_ind, metas))\n",
    "                    # Leave only super clusters, i.e. clusters which are not subsets of any other clusters\n",
    "                    clusters = gpu_clusters[cluster_inds]\n",
    "                    crossings = (clusters @ clusters.T)\n",
    "                    cluster_ones_counts = clusters.sum(axis=1)\n",
    "                    crossings[xp.diag_indices_from(crossings)] = 0\n",
    "                    super_clusters_mask = ~xp.any((crossings.T >= cluster_ones_counts).T, axis=1)\n",
    "\n",
    "                    clusters = xp_array_from_gpu(clusters[super_clusters_mask])\n",
    "                    super_clusters_mask = xp_array_from_gpu(super_clusters_mask)\n",
    "                    \n",
    "                    pickled_clusters = pickle.dumps(clusters)\n",
    "                    pickled_metas = pickle.dumps(list(map(lambda x: x[1], filter(lambda x: x[0], zip(super_clusters_mask, metas)))))\n",
    "                    # Changing autocommit to False will open a new transaction, and changing it to True will commit any pending transaction.\n",
    "                    # https://docs.python.org/3/library/sqlite3.html#connection-objects\n",
    "                    transfs_db_con.autocommit = False\n",
    "                    transfs_db_con.execute('DELETE FROM clusters WHERE encoding=:encoding AND transf_code=:transf_code AND output_bit=:output_bit',\n",
    "                                           {'encoding': HP_SIGNAL_ENCODING, 'transf_code': transf_code, 'output_bit': output_bit})\n",
    "                    transfs_db_con.execute('INSERT INTO clusters (encoding, transf_code, output_bit, sbv, meta) VALUES (:encoding, :transf_code, :output_bit, :sbv, :meta)',\n",
    "                                           {'encoding': HP_SIGNAL_ENCODING, 'transf_code': transf_code, 'output_bit': output_bit, 'sbv': pickled_clusters, 'meta': pickled_metas})\n",
    "                    transfs_db_con.autocommit = True\n",
    "                    persisted_count += clusters.shape[0]\n",
    "                    LOG(f'Persisted {clusters.shape[0]} super clusters for output bit {output_bit} of total {len(cluster_inds)} clusters')\n",
    "\n",
    "                LOG(f'Persisted {persisted_count} clusters in total')"
   ]
  },
  {
   "cell_type": "code",
   "execution_count": null,
   "id": "82c39971-f23b-4b3e-b105-cc5725fff5d4",
   "metadata": {},
   "outputs": [],
   "source": []
  },
  {
   "cell_type": "code",
   "execution_count": 118,
   "id": "cf723882-55c0-49d9-acb7-e50274d2201b",
   "metadata": {},
   "outputs": [
    {
     "data": {
      "image/png": "[encoded data removed]",
      "text/plain": [
       "<Figure size 1200x480 with 2 Axes>"
      ]
     },
     "metadata": {},
     "output_type": "display_data"
    }
   ],
   "source": [
    "signal_ind = RNG.choice(signals_input.shape[0])\n",
    "# signal_ind = 0\n",
    "signal_input = xp_array_from_gpu(signals_input[signal_ind])\n",
    "signal_output = signals_output[signal_ind]\n",
    "\n",
    "if use_toy_images:\n",
    "    signal_input = toy_image_sbv_to_bv(signal_input)\n",
    "    signal_output = toy_image_sbv_to_bv(signal_output)\n",
    "else:\n",
    "    signal_input = seq_sbv_to_bv(signal_input)\n",
    "    signal_output = seq_sbv_to_bv(signal_output)\n",
    "    \n",
    "fig, (ax1, ax2) = plt.subplots(1, 2)\n",
    "fig.set_figwidth(12)\n",
    "ax1.imshow(vec_to_square_matrix(signal_input))\n",
    "ax2.imshow(vec_to_square_matrix(signal_output));"
   ]
  },
  {
   "cell_type": "markdown",
   "id": "c4e073c2-0c90-4248-a9fc-57f4f063892f",
   "metadata": {},
   "source": [
    "# Test"
   ]
  },
  {
   "cell_type": "code",
   "execution_count": 60,
   "id": "5175b5c1-2cf3-4a31-b471-269694674987",
   "metadata": {},
   "outputs": [
    {
     "data": {
      "application/vnd.jupyter.widget-view+json": {
       "model_id": "334912e2fe1e494da682d0a4ba57cb91",
       "version_major": 2,
       "version_minor": 0
      },
      "text/plain": [
       "  0%|          | 0/200 [00:00<?, ?it/s]"
      ]
     },
     "metadata": {},
     "output_type": "display_data"
    },
    {
     "data": {
      "text/plain": [
       "(121947, (121947, 256))"
      ]
     },
     "execution_count": 60,
     "metadata": {},
     "output_type": "execute_result"
    }
   ],
   "source": [
    "clear_memory()\n",
    "\n",
    "df_clusters = pd.read_sql('SELECT output_bit, sbv, meta FROM clusters WHERE encoding=:encoding AND transf_code=:transf_code', \n",
    "                          params={\n",
    "                              'encoding': HP_SIGNAL_ENCODING, \n",
    "                              'transf_code': transf_code},\n",
    "                          con=transfs_db_con)\n",
    "                \n",
    "for cluster_row in tqdm(df_clusters.itertuples(), total=len(df_clusters)):\n",
    "    prod_clusters_for_output_bit = pickle.loads(cluster_row.sbv)\n",
    "    prod_cluster_metas_for_output_bit = pickle.loads(cluster_row.meta)\n",
    "\n",
    "    for cluster, meta in zip(prod_clusters_for_output_bit, prod_cluster_metas_for_output_bit):\n",
    "        cluster_ind = CLUSTERS.lease()\n",
    "        assert CLUSTER_MASKS.lease() == cluster_ind\n",
    "        meta.cluster_ind = cluster_ind\n",
    "        CLUSTERS.array_active[cluster_ind] = cluster\n",
    "        CLUSTER_MASKS.array_active[cluster_ind] = cluster\n",
    "        CLUSTER_METAS[cluster_ind] = meta\n",
    "\n",
    "len(CLUSTER_METAS), CLUSTERS.array_active.shape"
   ]
  },
  {
   "cell_type": "code",
   "execution_count": 61,
   "id": "f2005f19-90c6-489f-9680-f0b72b97bc5c",
   "metadata": {},
   "outputs": [
    {
     "data": {
      "text/plain": [
       "(121947, 256)"
      ]
     },
     "execution_count": 61,
     "metadata": {},
     "output_type": "execute_result"
    }
   ],
   "source": [
    "prod_cluster_metas = list(filter(lambda c: c.state == ClusterState.PROD, CLUSTER_METAS.values()))\n",
    "prod_cluster_inds = list(map(lambda c: c.cluster_ind, prod_cluster_metas))\n",
    "prod_cluster_ones_counts = np.array(list(map(lambda c: c.ones_count, prod_cluster_metas)), dtype='f')\n",
    "prod_cluster_output_bits = np.array(list(map(lambda c: c.output_bit, prod_cluster_metas)), dtype='i')\n",
    "prod_clusters = CLUSTERS.array[prod_cluster_inds]\n",
    "prod_clusters.shape"
   ]
  },
  {
   "cell_type": "code",
   "execution_count": 70,
   "id": "f5f56508-9e19-4911-b739-a04452cf59d4",
   "metadata": {},
   "outputs": [
    {
     "data": {
      "image/png": "[encoded data removed]",
      "text/plain": [
       "<Figure size 1200x480 with 2 Axes>"
      ]
     },
     "metadata": {},
     "output_type": "display_data"
    }
   ],
   "source": [
    "toy_image_id = get_random_toy_image_ids(1)[0]\n",
    "toy_image = get_toy_image(toy_image_id)\n",
    "\n",
    "toy_image_sbv = calc_toy_image_sbv(toy_image)\n",
    "\n",
    "activated_clusters_mask = (prod_clusters @ toy_image_sbv) >= prod_cluster_ones_counts\n",
    "values = Counter(prod_cluster_output_bits[activated_clusters_mask])\n",
    "toy_image_sbv_out = np.zeros_like(toy_image_sbv)\n",
    "# toy_image_sbv_out[list(values.keys())] = list(values.values())\n",
    "# toy_image_sbv_out = np.where(toy_image_sbv_out > 1, 1, 0)\n",
    "toy_image_sbv_out[list(values.keys())] = 1\n",
    "\n",
    "fig, (ax1, ax2) = plt.subplots(1, 2)\n",
    "fig.set_figwidth(12)\n",
    "ax1.imshow(vec_to_square_matrix(toy_image_sbv_to_bv(toy_image_sbv)))\n",
    "ax2.imshow(vec_to_square_matrix(toy_image_sbv_to_bv(toy_image_sbv_out)));"
   ]
  },
  {
   "cell_type": "code",
   "execution_count": 71,
   "id": "bd3d6124-ae28-47e5-9877-7bf2eb87d8c3",
   "metadata": {},
   "outputs": [
    {
     "data": {
      "image/png": "[encoded data removed]",
      "text/plain": [
       "<Figure size 1600x480 with 2 Axes>"
      ]
     },
     "metadata": {},
     "output_type": "display_data"
    }
   ],
   "source": [
    "fig, (ax1, ax2) = plt.subplots(2, 1)\n",
    "fig.set_figwidth(16)\n",
    "\n",
    "toy_image_transf = np.roll(toy_image.reshape(HP_TOY_IMAGE_SIZE, -1), 1, axis=1).ravel()\n",
    "toy_image_transf_sbv = calc_toy_image_sbv(toy_image_transf)\n",
    "\n",
    "ax1.set_title(f'non_zero_bits={toy_image_transf_sbv.sum()}')\n",
    "ax1.imshow(np.ones((100, 1)) * toy_image_transf_sbv);\n",
    "ax2.set_title(f'non_zero_bits={toy_image_sbv_out.sum()}')\n",
    "ax2.imshow(np.ones((100, 1)) * toy_image_sbv_out);"
   ]
  },
  {
   "cell_type": "code",
   "execution_count": 98,
   "id": "6cc119b7-ff88-4898-8760-116f2f55cf5e",
   "metadata": {},
   "outputs": [
    {
     "data": {
      "text/plain": [
       "{'state': <ClusterState.PROD: 'prod'>,\n",
       " 'cluster_ind': 117147,\n",
       " 'cluster_key': ('PROD', 79, (4, 81, 139, 235)),\n",
       " 'output_bit': 79,\n",
       " 'input_bits': (np.int64(4), np.int64(81), np.int64(139), np.int64(235)),\n",
       " 'nu': np.float64(0.2),\n",
       " 'ones_count': 4,\n",
       " 'signals_learned': 20,\n",
       " 'signals_to_learn_till_binarization': 0,\n",
       " 'binarization_schedule': (),\n",
       " 'stats': Counter({True: 21}),\n",
       " 'verify_image_ids': {576764218053755016: True,\n",
       "  5190404076692602884: True,\n",
       "  577248079938322432: True,\n",
       "  577591059383583041: True,\n",
       "  580968750514200648: True,\n",
       "  576467667200770066: True,\n",
       "  1729387480129994752: True,\n",
       "  12177878596664426496: True,\n",
       "  648523303807352912: True,\n",
       "  9835866053246189568: True,\n",
       "  581250809070616640: True,\n",
       "  603486749187997697: True,\n",
       "  594479551552163841: True,\n",
       "  729587563450400772: True,\n",
       "  577593953654670336: True,\n",
       "  580968784341270561: True,\n",
       "  9799837187221495860: True,\n",
       "  864695631732539648: True,\n",
       "  864695560878755840: True,\n",
       "  648522745528861184: True,\n",
       "  576570721719812228: True},\n",
       " 'alarm_cycle': None}"
      ]
     },
     "execution_count": 98,
     "metadata": {},
     "output_type": "execute_result"
    }
   ],
   "source": [
    "cluster_ind = RNG.choice(len(prod_cluster_metas))\n",
    "vars(prod_cluster_metas[cluster_ind])"
   ]
  }
 ],
 "metadata": {
  "kernelspec": {
   "display_name": "Python 3 (ipykernel)",
   "language": "python",
   "name": "python3"
  },
  "language_info": {
   "codemirror_mode": {
    "name": "ipython",
    "version": 3
   },
   "file_extension": ".py",
   "mimetype": "text/x-python",
   "name": "python",
   "nbconvert_exporter": "python",
   "pygments_lexer": "ipython3",
   "version": "3.12.9"
  }
 },
 "nbformat": 4,
 "nbformat_minor": 5
}
