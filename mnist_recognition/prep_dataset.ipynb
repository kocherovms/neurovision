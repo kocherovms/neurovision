{
 "cells": [
  {
   "cell_type": "code",
   "execution_count": 1,
   "id": "6c86defd-bcc8-4c1a-a068-8516ca735189",
   "metadata": {
    "editable": true,
    "slideshow": {
     "slide_type": ""
    },
    "tags": []
   },
   "outputs": [],
   "source": [
    "import os\n",
    "from pathlib import Path\n",
    "from tqdm.notebook import tqdm\n",
    "from PIL import Image, ImageFilter, ImageEnhance, ImageDraw, ImageOps\n",
    "import numpy as np\n",
    "from IPython.display import display\n",
    "import IPython.display\n",
    "import matplotlib.pyplot as plt\n",
    "import json\n",
    "from utils import Config"
   ]
  },
  {
   "cell_type": "code",
   "execution_count": 2,
   "id": "9708c01c-6b74-4989-9aec-3aad24ceca74",
   "metadata": {},
   "outputs": [],
   "source": [
    "config = Config()"
   ]
  },
  {
   "cell_type": "code",
   "execution_count": 3,
   "id": "dae0e412-efba-4521-a875-24aaa80a79b9",
   "metadata": {},
   "outputs": [],
   "source": [
    "def clear_dataset_folder():\n",
    "    if not os.path.exists(config.dataset_path):\n",
    "        print(f'Creating \"{config.dataset_path}\"')\n",
    "        os.mkdir(config.dataset_path)\n",
    "    else:\n",
    "        print(f'Cleaning \"{config.dataset_path}\"')\n",
    "        removed = 0\n",
    "        \n",
    "        for fn in os.listdir(config.dataset_path):\n",
    "            if fn.endswith(\".png\") or fn.endswith(\".json\"):\n",
    "                os.remove(os.path.join(config.dataset_path, fn))\n",
    "                removed += 1\n",
    "    \n",
    "        print(f'Removed {removed} samples under \"{config.dataset_path}\"')"
   ]
  },
  {
   "cell_type": "code",
   "execution_count": 4,
   "id": "5c0b6ed6-3a72-49c1-8697-e8ce77fdb76d",
   "metadata": {},
   "outputs": [],
   "source": [
    "dataset_source = os.path.join(config.dataset_source)"
   ]
  },
  {
   "cell_type": "code",
   "execution_count": 5,
   "id": "caec5fc7-0dd5-4fa9-bcc5-b27603910ee9",
   "metadata": {},
   "outputs": [],
   "source": [
    "import struct\n",
    "from array import array\n",
    "\n",
    "#\n",
    "# MNIST Data Loader Class\n",
    "#\n",
    "class MnistDataloader(object):\n",
    "    def __init__(self, training_images_filepath,training_labels_filepath,\n",
    "                 test_images_filepath, test_labels_filepath):\n",
    "        self.training_images_filepath = training_images_filepath\n",
    "        self.training_labels_filepath = training_labels_filepath\n",
    "        self.test_images_filepath = test_images_filepath\n",
    "        self.test_labels_filepath = test_labels_filepath\n",
    "    \n",
    "    def read_images_labels(self, images_filepath, labels_filepath):        \n",
    "        labels = []\n",
    "        \n",
    "        with open(labels_filepath, 'rb') as file:\n",
    "            magic, size = struct.unpack(\">II\", file.read(8))\n",
    "            if magic != 2049:\n",
    "                raise ValueError('Magic number mismatch, expected 2049, got {}'.format(magic))\n",
    "            labels = array(\"B\", file.read())        \n",
    "        \n",
    "        with open(images_filepath, 'rb') as file:\n",
    "            magic, size, rows, cols = struct.unpack(\">IIII\", file.read(16))\n",
    "            if magic != 2051:\n",
    "                raise ValueError('Magic number mismatch, expected 2051, got {}'.format(magic))\n",
    "            image_data = array(\"B\", file.read())        \n",
    "        \n",
    "        images = []\n",
    "        \n",
    "        # for i in range(size):\n",
    "        #     images.append([0] * rows * cols)\n",
    "            \n",
    "        for i in range(size):\n",
    "            img = np.array(image_data[i * rows * cols:(i + 1) * rows * cols])\n",
    "            img = img.reshape(28, 28)\n",
    "            images.append(img)\n",
    "        \n",
    "        return np.array(images), np.array(labels)\n",
    "            \n",
    "    def load_data(self):\n",
    "        x_train, y_train = self.read_images_labels(self.training_images_filepath, self.training_labels_filepath)\n",
    "        x_test, y_test = self.read_images_labels(self.test_images_filepath, self.test_labels_filepath)\n",
    "        return (x_train, y_train),(x_test, y_test)     "
   ]
  },
  {
   "cell_type": "code",
   "execution_count": 6,
   "id": "66395581-f1a7-47e8-b8c5-fab244693426",
   "metadata": {},
   "outputs": [
    {
     "name": "stdout",
     "output_type": "stream",
     "text": [
      "CPU times: user 118 ms, sys: 70.9 ms, total: 189 ms\n",
      "Wall time: 189 ms\n"
     ]
    },
    {
     "data": {
      "image/png": "[encoded data removed]",
      "text/plain": [
       "<Figure size 1000x500 with 10 Axes>"
      ]
     },
     "metadata": {},
     "output_type": "display_data"
    }
   ],
   "source": [
    "%%time\n",
    "import random\n",
    "import matplotlib.pyplot as plt\n",
    "\n",
    "#\n",
    "# Set file paths based on added MNIST Datasets\n",
    "#\n",
    "training_images_filepath = os.path.join(dataset_source, 'train-images-idx3-ubyte')\n",
    "training_labels_filepath = os.path.join(dataset_source, 'train-labels-idx1-ubyte')\n",
    "test_images_filepath = os.path.join(dataset_source, 't10k-images-idx3-ubyte')\n",
    "test_labels_filepath = os.path.join(dataset_source, 't10k-labels-idx1-ubyte')\n",
    "\n",
    "#\n",
    "# Helper function to show a list of images with their relating titles\n",
    "#\n",
    "def show_images(images, title_texts):\n",
    "    cols = 5\n",
    "    rows = int(len(images)/cols) + 1\n",
    "    plt.figure(figsize=(10,5))\n",
    "    index = 1    \n",
    "    for x in zip(images, title_texts):        \n",
    "        image = x[0]        \n",
    "        title_text = x[1]\n",
    "        plt.subplot(rows, cols, index)        \n",
    "        plt.imshow(image, cmap=plt.cm.gray)\n",
    "        if (title_text != ''):\n",
    "            plt.title(title_text, fontsize = 6);        \n",
    "        index += 1\n",
    "\n",
    "#\n",
    "# Load MINST dataset\n",
    "#\n",
    "mnist_dataloader = MnistDataloader(training_images_filepath, training_labels_filepath, test_images_filepath, test_labels_filepath)\n",
    "(x_train, y_train), (x_test, y_test) = mnist_dataloader.load_data()\n",
    "\n",
    "# Show some random training and test images \n",
    "images_2_show = []\n",
    "titles_2_show = []\n",
    "for i in range(0, 5):\n",
    "    r = random.randint(1, 60000)\n",
    "    images_2_show.append(x_train[r])\n",
    "    titles_2_show.append('training image [' + str(r) + '] = ' + str(y_train[r]))    \n",
    "\n",
    "for i in range(0, 5):\n",
    "    r = random.randint(1, 10000)\n",
    "    images_2_show.append(x_test[r])        \n",
    "    titles_2_show.append('test image [' + str(r) + '] = ' + str(y_test[r]))    \n",
    "\n",
    "show_images(images_2_show, titles_2_show)"
   ]
  },
  {
   "cell_type": "code",
   "execution_count": 7,
   "id": "1c38135e-b030-4c68-ac0a-173c1fcef746",
   "metadata": {},
   "outputs": [
    {
     "name": "stdout",
     "output_type": "stream",
     "text": [
      "Cleaning \"dataset\"\n",
      "Removed 0 samples under \"dataset\"\n"
     ]
    },
    {
     "data": {
      "application/vnd.jupyter.widget-view+json": {
       "model_id": "c403adb16657489592dcc2dd484a3239",
       "version_major": 2,
       "version_minor": 0
      },
      "text/plain": [
       "  0%|          | 0/10000 [00:00<?, ?it/s]"
      ]
     },
     "metadata": {},
     "output_type": "display_data"
    },
    {
     "name": "stdout",
     "output_type": "stream",
     "text": [
      "10000 samples generated\n"
     ]
    }
   ],
   "source": [
    "clear_dataset_folder()\n",
    "image_indices = np.arange(len(x_train))\n",
    "np.random.shuffle(image_indices)\n",
    "image_indices = image_indices[:config.dataset_sample_count]\n",
    "metadata = {}\n",
    "\n",
    "for i in tqdm(image_indices):\n",
    "    img_data = x_train[i]\n",
    "    img_label = y_train[i]\n",
    "\n",
    "    with Image.frombytes('L', size=(28, 28), data=img_data) as img:\n",
    "        img = img.resize((config.sample_size, config.sample_size))\n",
    "        # img = img.point(lambda x: 255 if x > 50 else 0)\n",
    "        sample_img_fname = f'train_{i:05d}_{img_label}.png'\n",
    "\n",
    "        if sample_img_fname in metadata:\n",
    "            continue\n",
    "            \n",
    "        img.save(os.path.join(config.dataset_path, sample_img_fname), format='png')\n",
    "        metadata[sample_img_fname] = dict(origin='', value=str(img_label))\n",
    "\n",
    "with open(os.path.join(config.dataset_path, config.dataset_metadata_file_name), 'w') as f:\n",
    "    json.dump(metadata, f, indent=0)\n",
    "\n",
    "print(f'{len(metadata)} samples generated')"
   ]
  },
  {
   "cell_type": "code",
   "execution_count": null,
   "id": "67e53cfa-a6a9-478c-aeb8-7ce5de3dc598",
   "metadata": {},
   "outputs": [],
   "source": []
  }
 ],
 "metadata": {
  "kernelspec": {
   "display_name": "Python 3 (ipykernel)",
   "language": "python",
   "name": "python3"
  },
  "language_info": {
   "codemirror_mode": {
    "name": "ipython",
    "version": 3
   },
   "file_extension": ".py",
   "mimetype": "text/x-python",
   "name": "python",
   "nbconvert_exporter": "python",
   "pygments_lexer": "ipython3",
   "version": "3.12.2"
  }
 },
 "nbformat": 4,
 "nbformat_minor": 5
}
