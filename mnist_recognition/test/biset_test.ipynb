{
 "cells": [
  {
   "cell_type": "code",
   "execution_count": 6,
   "id": "3c182b3c-7e71-414d-ba1a-a63e41f282d2",
   "metadata": {},
   "outputs": [],
   "source": [
    "import sys\n",
    "sys.path.append('../module')\n",
    "import biset\n",
    "from bisetw import *\n",
    "import numpy as np"
   ]
  },
  {
   "cell_type": "code",
   "execution_count": 7,
   "id": "f9d8a9c2-e4cd-4219-b369-5d05eb1c3c9a",
   "metadata": {},
   "outputs": [],
   "source": [
    "RNG = np.random.default_rng(42)"
   ]
  },
  {
   "cell_type": "code",
   "execution_count": 8,
   "id": "5277cdca-2544-4369-be49-ec1cbdc692e2",
   "metadata": {},
   "outputs": [
    {
     "data": {
      "text/plain": [
       "array([[ 89, 773, 654, ..., 827, 276, 631],\n",
       "       [165, 758, 700, ..., 226, 564, 669],\n",
       "       [940, 437, 160, ..., 139, 245, 114],\n",
       "       ...,\n",
       "       [229, 639, 203, ..., 848, 189, 681],\n",
       "       [444, 358, 602, ..., 378, 429, 907],\n",
       "       [461, 276, 873, ..., 109, 356,  42]],\n",
       "      shape=(10000, 40), dtype=int32)"
      ]
     },
     "execution_count": 8,
     "metadata": {},
     "output_type": "execute_result"
    }
   ],
   "source": [
    "dense_ints_matrix = RNG.choice(1000, (10_000, 40)).astype('i')\n",
    "dense_ints_matrix"
   ]
  },
  {
   "cell_type": "code",
   "execution_count": 9,
   "id": "2b7791e1-bfc8-4087-9da7-2f94b762d3f5",
   "metadata": {},
   "outputs": [
    {
     "data": {
      "text/plain": [
       "(array([[754, 403, 902, ...,  -1,  -1,  -1],\n",
       "        [528, 311, 725, ...,  -1,  -1,  -1],\n",
       "        [889, 213, 560, ...,  -1,  -1,  -1],\n",
       "        ...,\n",
       "        [685, 410, 203, ...,  -1,  -1,  -1],\n",
       "        [265, 333, 526, ...,  -1,  -1,  -1],\n",
       "        [258, 702, 758, ...,  -1,  -1,  -1]],\n",
       "       shape=(10000, 40), dtype=int32),\n",
       " array([10, 17, 18, ..., 35,  4, 27], shape=(10000,)))"
      ]
     },
     "execution_count": 9,
     "metadata": {},
     "output_type": "execute_result"
    }
   ],
   "source": [
    "sparsed_ints_matrix = RNG.choice(1000, (10_000, 40)).astype('i')\n",
    "sparsed_ints_matrix_ones_counts = 3 + RNG.choice(sparsed_ints_matrix.shape[1] - 3, sparsed_ints_matrix.shape[0])\n",
    "\n",
    "for i, ones_count in enumerate(sparsed_ints_matrix_ones_counts):\n",
    "    sparsed_ints_matrix[i,ones_count:] = -1\n",
    "\n",
    "sparsed_ints_matrix, sparsed_ints_matrix_ones_counts"
   ]
  },
  {
   "cell_type": "code",
   "execution_count": 10,
   "id": "fd11fc04-f8e7-4088-8396-2ede60abe62b",
   "metadata": {},
   "outputs": [],
   "source": [
    "x = bisetw()\n",
    "assert len(x) == 0\n",
    "assert not dense_ints_matrix[0] in x\n",
    "x.add(dense_ints_matrix[0])\n",
    "assert len(x) == 1\n",
    "assert dense_ints_matrix[0] in x"
   ]
  },
  {
   "cell_type": "code",
   "execution_count": 11,
   "id": "71ca6f3a-b210-4ce8-bc16-7332466146a0",
   "metadata": {},
   "outputs": [],
   "source": [
    "x = bisetw()\n",
    "x.add(dense_ints_matrix[0])\n",
    "x.add(dense_ints_matrix[0])\n",
    "assert len(x) == 1\n",
    "assert dense_ints_matrix[0] in x"
   ]
  },
  {
   "cell_type": "code",
   "execution_count": 12,
   "id": "af1cc9da-c547-41ab-9a74-88bfff4c48a1",
   "metadata": {},
   "outputs": [
    {
     "name": "stdout",
     "output_type": "stream",
     "text": [
      "'#0: [89, 773, 654, 438, 433, 858, 85, 697, 201, 94, 526, 975, 735, 761, 717, 786, 513, 128, 839, 450, 500, 370, 182, 926, 781, 643, 402, 822, 545, 443, 450, 227, 92, 554, 887, 63, 858, 827, 276, 631]'\n"
     ]
    }
   ],
   "source": [
    "x = bisetw()\n",
    "x.add(dense_ints_matrix[0])\n",
    "x.remove(dense_ints_matrix[0])\n",
    "assert len(x) == 0\n",
    "assert not dense_ints_matrix[0] in x\n",
    "\n",
    "try:\n",
    "    x.remove(dense_ints_matrix[0])\n",
    "except KeyError as e:\n",
    "    print(e)"
   ]
  },
  {
   "cell_type": "code",
   "execution_count": 13,
   "id": "3e118481-d62f-4f61-bc16-b85274aa55e7",
   "metadata": {},
   "outputs": [],
   "source": [
    "x = bisetw()\n",
    "x.add(dense_ints_matrix[0])\n",
    "x.clear()\n",
    "assert len(x) == 0\n",
    "assert not dense_ints_matrix[0] in x\n",
    "x.add(dense_ints_matrix[0])\n",
    "assert len(x) == 1\n",
    "assert dense_ints_matrix[0] in x"
   ]
  },
  {
   "cell_type": "code",
   "execution_count": 14,
   "id": "92b0ef73-f2cd-4162-8def-394f237465a2",
   "metadata": {},
   "outputs": [],
   "source": [
    "x = bisetw()\n",
    "x.add_many(dense_ints_matrix)\n",
    "\n",
    "for ints in dense_ints_matrix:\n",
    "    assert ints in x"
   ]
  },
  {
   "cell_type": "code",
   "execution_count": 15,
   "id": "2e9ff214-05bb-4a10-963d-d9e98006f778",
   "metadata": {},
   "outputs": [],
   "source": [
    "x = bisetw()\n",
    "x.add_many(dense_ints_matrix)\n",
    "assert len(x) > 0\n",
    "x.clear()\n",
    "\n",
    "for ints in dense_ints_matrix:\n",
    "    assert not ints in x"
   ]
  },
  {
   "cell_type": "code",
   "execution_count": 16,
   "id": "87087455-0cde-4d1b-8ee2-242f4026f246",
   "metadata": {},
   "outputs": [],
   "source": [
    "x = bisetw()\n",
    "x.add(dense_ints_matrix[0])\n",
    "assert len(x) == 1\n",
    "assert dense_ints_matrix[0] in x\n",
    "assert not dense_ints_matrix[1] in x\n",
    "x.replace(dense_ints_matrix[0], dense_ints_matrix[0])\n",
    "assert len(x) == 1\n",
    "assert dense_ints_matrix[0] in x\n",
    "assert not dense_ints_matrix[1] in x\n",
    "x.replace(dense_ints_matrix[0], dense_ints_matrix[1])\n",
    "assert len(x) == 1\n",
    "assert not dense_ints_matrix[0] in x\n",
    "assert dense_ints_matrix[1] in x"
   ]
  },
  {
   "cell_type": "code",
   "execution_count": 17,
   "id": "c0b1fe5d-a1b0-47d0-96d2-2564e8e530d8",
   "metadata": {},
   "outputs": [],
   "source": [
    "inds = RNG.choice(dense_ints_matrix.shape[0], 100_000)\n",
    "dense_ints_matrix_with_dups = dense_ints_matrix[inds]\n",
    "\n",
    "x = bisetw()\n",
    "x_is_added_boolmap = x.add_many(dense_ints_matrix_with_dups)\n",
    "assert np.count_nonzero(~x_is_added_boolmap) > 0\n",
    "\n",
    "y = set()\n",
    "y_is_added_boolmap = []\n",
    "\n",
    "for ints in dense_ints_matrix_with_dups:\n",
    "    e = tuple(ints)  \n",
    "\n",
    "    if not e in y:\n",
    "        y.add(e)\n",
    "        y_is_added_boolmap.append(True)\n",
    "    else:\n",
    "        y_is_added_boolmap.append(False)\n",
    "\n",
    "y_is_added_boolmap = np.array(y_is_added_boolmap)\n",
    "assert np.all(x_is_added_boolmap == y_is_added_boolmap)"
   ]
  },
  {
   "cell_type": "code",
   "execution_count": 18,
   "id": "21da6fc6-5f57-468c-9edb-114fe60d966d",
   "metadata": {},
   "outputs": [],
   "source": [
    "dense_ints_matrix2 = RNG.choice(1000, (10_000, 40)).astype('i')\n",
    "ints_for_removal = np.vstack([dense_ints_matrix, dense_ints_matrix2])\n",
    "RNG.shuffle(ints_for_removal, axis=0)\n",
    "\n",
    "x = bisetw()\n",
    "x.add_many(dense_ints_matrix)\n",
    "x_is_removed_boolmap = x.remove_many(ints_for_removal)\n",
    "assert np.count_nonzero(~x_is_removed_boolmap) > 0\n",
    "\n",
    "y = set(map(tuple, dense_ints_matrix))\n",
    "y_is_removed_boolmap = []\n",
    "\n",
    "for ints in ints_for_removal:\n",
    "    e = tuple(ints)\n",
    "\n",
    "    if e in y:\n",
    "        y.remove(e)\n",
    "        y_is_removed_boolmap.append(True)\n",
    "    else:\n",
    "        y_is_removed_boolmap.append(False)\n",
    "\n",
    "y_is_removed_boolmap = np.array(y_is_removed_boolmap)\n",
    "assert np.all(x_is_removed_boolmap == y_is_removed_boolmap)"
   ]
  },
  {
   "cell_type": "code",
   "execution_count": 19,
   "id": "e00584cc-19de-410b-9fee-66777ded0645",
   "metadata": {},
   "outputs": [],
   "source": [
    "inds = RNG.choice(sparsed_ints_matrix.shape[0], 100_000)\n",
    "sparsed_ints_matrix_with_dups = sparsed_ints_matrix[inds]\n",
    "sparsed_ints_matrix_ones_counts_with_dups= sparsed_ints_matrix_ones_counts[inds]\n",
    "\n",
    "x = bisetw()\n",
    "x_is_added_boolmap = x.add_many(sparsed_ints_matrix_with_dups, sparsed_ints_matrix_ones_counts_with_dups)\n",
    "assert np.count_nonzero(~x_is_added_boolmap) > 0\n",
    "\n",
    "y = set()\n",
    "y_is_added_boolmap = []\n",
    "\n",
    "for ints, ones_count in zip(sparsed_ints_matrix_with_dups, sparsed_ints_matrix_ones_counts_with_dups):\n",
    "    e = tuple(ints[:ones_count])  \n",
    "\n",
    "    if not e in y:\n",
    "        y.add(e)\n",
    "        y_is_added_boolmap.append(True)\n",
    "    else:\n",
    "        y_is_added_boolmap.append(False)\n",
    "\n",
    "y_is_added_boolmap = np.array(y_is_added_boolmap)\n",
    "assert np.all(x_is_added_boolmap == y_is_added_boolmap)"
   ]
  },
  {
   "cell_type": "code",
   "execution_count": 20,
   "id": "2ef9db84-618e-4671-9c16-bfa33fc80c2c",
   "metadata": {},
   "outputs": [],
   "source": [
    "sparsed_ints_matrix2 = RNG.choice(1000, (10_000, 40)).astype('i')\n",
    "sparsed_ints_matrix2_ones_counts = RNG.choice(sparsed_ints_matrix2.shape[1], sparsed_ints_matrix2.shape[0])\n",
    "\n",
    "for i, ones_count in enumerate(sparsed_ints_matrix2_ones_counts):\n",
    "    sparsed_ints_matrix2[i,ones_count:] = -1\n",
    "\n",
    "combined_sparsed_ints_matrix_for_removal = np.vstack([sparsed_ints_matrix, sparsed_ints_matrix2])\n",
    "combined_sparsed_ints_matrix_ones_counts_for_removal = np.hstack([sparsed_ints_matrix_ones_counts, sparsed_ints_matrix2_ones_counts])\n",
    "ii = RNG.choice(combined_sparsed_ints_matrix_for_removal.shape[0], combined_sparsed_ints_matrix_for_removal.shape[0], replace=False)\n",
    "combined_sparsed_ints_matrix_for_removal = combined_sparsed_ints_matrix_for_removal[ii]\n",
    "combined_sparsed_ints_matrix_ones_counts_for_removal = combined_sparsed_ints_matrix_ones_counts_for_removal[ii]\n",
    "\n",
    "x = bisetw()\n",
    "x.add_many(sparsed_ints_matrix, sparsed_ints_matrix_ones_counts)\n",
    "x_is_removed_boolmap = x.remove_many(combined_sparsed_ints_matrix_for_removal, combined_sparsed_ints_matrix_ones_counts_for_removal)\n",
    "assert np.count_nonzero(~x_is_removed_boolmap) > 0\n",
    "\n",
    "y = set()\n",
    "\n",
    "for ints, ones_count in zip(sparsed_ints_matrix, sparsed_ints_matrix_ones_counts):\n",
    "    e = tuple(ints[:ones_count])  \n",
    "    y.add(e)\n",
    "\n",
    "y_is_removed_boolmap = []\n",
    "\n",
    "for ints, ones_count in zip(combined_sparsed_ints_matrix_for_removal, combined_sparsed_ints_matrix_ones_counts_for_removal):\n",
    "    e = tuple(ints[:ones_count])\n",
    "\n",
    "    if e in y:\n",
    "        y.remove(e)\n",
    "        y_is_removed_boolmap.append(True)\n",
    "    else:\n",
    "        y_is_removed_boolmap.append(False)\n",
    "\n",
    "y_is_removed_boolmap = np.array(y_is_removed_boolmap)\n",
    "assert np.all(x_is_removed_boolmap == y_is_removed_boolmap)"
   ]
  },
  {
   "cell_type": "code",
   "execution_count": 21,
   "id": "3fe53e19-829b-484b-b216-fda51f87d3c6",
   "metadata": {},
   "outputs": [
    {
     "name": "stdout",
     "output_type": "stream",
     "text": [
      "'keyFrom #0: [646, 590, 64, 895, 201, 808, 357, 242, 944, 487, 383, 142, 826, 518, 106, 666, 85, 807, 619, 150, 276, 553, 544, 761, 724, 274, 195, 162, 501, 372, 378, 223, 82, 275, 531, 481, 44, 941, 567, 185]'\n"
     ]
    }
   ],
   "source": [
    "ints_from = dense_ints_matrix[:100]\n",
    "ints_to = dense_ints_matrix[-100:]\n",
    "\n",
    "x = bisetw()\n",
    "x.add_many(ints_from)\n",
    "is_replaced_boolmap = x.replace_many(ints_from, ints_from)\n",
    "assert np.all(is_replaced_boolmap)\n",
    "\n",
    "for ints in ints_from:\n",
    "    assert ints in x\n",
    "\n",
    "is_replaced_boolmap = x.replace_many(ints_from, ints_to)\n",
    "assert np.all(is_replaced_boolmap)\n",
    "\n",
    "for ints in ints_from:\n",
    "    assert not ints in x\n",
    "\n",
    "for ints in ints_to:\n",
    "    assert ints in x\n",
    "\n",
    "x.clear()\n",
    "x.add_many(ints_from)\n",
    "\n",
    "try:\n",
    "    x.replace_many(ints_to, ints_from)\n",
    "except KeyError as e:\n",
    "    print(e)\n",
    "\n",
    "x.clear()\n",
    "x.add_many(ints_from)\n",
    "x.add(ints_to[0])\n",
    "is_replaced_boolmap = x.replace_many(ints_from, ints_to)\n",
    "assert is_replaced_boolmap[0] == False\n",
    "assert np.all(is_replaced_boolmap[1:])\n",
    "\n",
    "x.clear()\n",
    "x.add_many(ints_from)\n",
    "x.add_many(ints_to)\n",
    "assert len(x) == ints_from.shape[0] + ints_to.shape[0]\n",
    "is_replaced_boolmap = x.replace_many(ints_from, ints_to)\n",
    "assert np.all(is_replaced_boolmap == False)"
   ]
  },
  {
   "cell_type": "code",
   "execution_count": 22,
   "id": "5c60cb40-d6f4-44f4-9ba0-ac9fbfa520bb",
   "metadata": {},
   "outputs": [
    {
     "name": "stdout",
     "output_type": "stream",
     "text": [
      "'keyFrom #0: [423, 98, 392, 347, 921, 648, 122, 104, 736, 355, 471, 619, 177, 78, 888, 934, 834, 792, 622, 324, 878, 978]'\n"
     ]
    }
   ],
   "source": [
    "ints_from = sparsed_ints_matrix[:100]\n",
    "ints_from_ones_counts = sparsed_ints_matrix_ones_counts[:100]\n",
    "ints_to = sparsed_ints_matrix[-100:]\n",
    "ints_to_ones_counts = sparsed_ints_matrix_ones_counts[-100:]\n",
    "\n",
    "x = bisetw()\n",
    "x.add_many(ints_from, key_sizes=ints_from_ones_counts)\n",
    "is_replaced_boolmap = x.replace_many(ints_from, ints_from, key_from_sizes=ints_from_ones_counts, key_to_sizes=ints_from_ones_counts)\n",
    "assert np.all(is_replaced_boolmap)\n",
    "\n",
    "for ints, ones_count in zip(ints_from, ints_from_ones_counts):\n",
    "    assert ints[:ones_count] in x\n",
    "\n",
    "is_replaced_boolmap = x.replace_many(ints_from, ints_to, key_from_sizes=ints_from_ones_counts, key_to_sizes=ints_to_ones_counts)\n",
    "assert np.all(is_replaced_boolmap)\n",
    "\n",
    "for ints, ones_count in zip(ints_from, ints_from_ones_counts):\n",
    "    assert not ints[:ones_count] in x\n",
    "\n",
    "for ints, ones_count in zip(ints_to, ints_to_ones_counts):\n",
    "    assert ints[:ones_count] in x\n",
    "\n",
    "x.clear()\n",
    "x.add_many(ints_from, key_sizes=ints_from_ones_counts)\n",
    "\n",
    "try:\n",
    "    x.replace_many(ints_to, ints_from, key_from_sizes=ints_to_ones_counts, key_to_sizes=ints_from_ones_counts)\n",
    "except KeyError as e:\n",
    "    print(e)\n",
    "\n",
    "x.clear()\n",
    "x.add_many(ints_from, key_sizes=ints_from_ones_counts)\n",
    "x.add(ints_to[0,:ints_to_ones_counts[0]])\n",
    "is_replaced_boolmap = x.replace_many(ints_from, ints_to, key_from_sizes=ints_from_ones_counts, key_to_sizes=ints_to_ones_counts)\n",
    "assert is_replaced_boolmap[0] == False\n",
    "assert np.all(is_replaced_boolmap[1:])\n",
    "\n",
    "x.clear()\n",
    "x.add_many(ints_from, key_sizes=ints_from_ones_counts)\n",
    "x.add_many(ints_to, key_sizes=ints_to_ones_counts)\n",
    "assert len(x) == ints_from.shape[0] + ints_to.shape[0]\n",
    "is_replaced_boolmap = x.replace_many(ints_from, ints_to, key_from_sizes=ints_from_ones_counts, key_to_sizes=ints_to_ones_counts)\n",
    "assert np.all(is_replaced_boolmap == False)"
   ]
  },
  {
   "cell_type": "code",
   "execution_count": 23,
   "id": "43bca21a-405e-43bd-a73a-ce2f94da5cdb",
   "metadata": {},
   "outputs": [
    {
     "name": "stdout",
     "output_type": "stream",
     "text": [
      "61.2 ns ± 4.96 ns per loop (mean ± std. dev. of 7 runs, 10,000,000 loops each)\n"
     ]
    }
   ],
   "source": [
    "%%timeit\n",
    "y = set()"
   ]
  },
  {
   "cell_type": "code",
   "execution_count": 24,
   "id": "21875e30-1452-4079-a648-b387ebbd30c1",
   "metadata": {},
   "outputs": [
    {
     "name": "stdout",
     "output_type": "stream",
     "text": [
      "355 ns ± 7.81 ns per loop (mean ± std. dev. of 7 runs, 1,000,000 loops each)\n"
     ]
    }
   ],
   "source": [
    "%%timeit\n",
    "x = bisetw()"
   ]
  },
  {
   "cell_type": "code",
   "execution_count": 25,
   "id": "14e29d0d-b896-4137-b81b-1f4599a001f5",
   "metadata": {},
   "outputs": [
    {
     "name": "stdout",
     "output_type": "stream",
     "text": [
      "153 ns ± 0.258 ns per loop (mean ± std. dev. of 7 runs, 10,000,000 loops each)\n"
     ]
    }
   ],
   "source": [
    "%%timeit\n",
    "x = biset.biset_create()\n",
    "biset.biset_destroy(x)"
   ]
  },
  {
   "cell_type": "code",
   "execution_count": 26,
   "id": "6313059d-5074-4512-957e-5e6bdd746931",
   "metadata": {},
   "outputs": [],
   "source": [
    "biset_create = biset.biset_create\n",
    "biset_destroy = biset.biset_destroy"
   ]
  },
  {
   "cell_type": "code",
   "execution_count": 27,
   "id": "ad8cde14-d23d-423f-832d-ff10fe65265b",
   "metadata": {},
   "outputs": [
    {
     "name": "stdout",
     "output_type": "stream",
     "text": [
      "144 ns ± 0.126 ns per loop (mean ± std. dev. of 7 runs, 10,000,000 loops each)\n"
     ]
    }
   ],
   "source": [
    "%%timeit\n",
    "x = biset_create()\n",
    "biset_destroy(x)"
   ]
  },
  {
   "cell_type": "code",
   "execution_count": 28,
   "id": "408979db-2935-461d-8c4f-ff09052dcaf8",
   "metadata": {},
   "outputs": [],
   "source": [
    "x = bisetw()"
   ]
  },
  {
   "cell_type": "code",
   "execution_count": 29,
   "id": "a46c0328-af7e-478f-99ac-24927f520fe9",
   "metadata": {},
   "outputs": [
    {
     "name": "stdout",
     "output_type": "stream",
     "text": [
      "2.97 ms ± 4.4 μs per loop (mean ± std. dev. of 7 runs, 100 loops each)\n"
     ]
    }
   ],
   "source": [
    "%%timeit\n",
    "x.clear()\n",
    "x.add_many(dense_ints_matrix)"
   ]
  },
  {
   "cell_type": "code",
   "execution_count": 30,
   "id": "efd88e07-42c0-49b8-8a68-3ab00ee03963",
   "metadata": {},
   "outputs": [],
   "source": [
    "y = set()"
   ]
  },
  {
   "cell_type": "code",
   "execution_count": 31,
   "id": "8fbe3417-e6ed-4df0-a63b-3a6d9261d6b7",
   "metadata": {},
   "outputs": [
    {
     "name": "stdout",
     "output_type": "stream",
     "text": [
      "27.5 ms ± 147 μs per loop (mean ± std. dev. of 7 runs, 10 loops each)\n"
     ]
    }
   ],
   "source": [
    "%%timeit\n",
    "y.clear()\n",
    "is_added = []\n",
    "\n",
    "for ints in dense_ints_matrix:\n",
    "    e = tuple(ints)  \n",
    "\n",
    "    if not e in y:\n",
    "        y.add(e)\n",
    "        is_added.append(True)\n",
    "    else:\n",
    "        is_added.append(False)"
   ]
  },
  {
   "cell_type": "code",
   "execution_count": 32,
   "id": "557bbd49-f46f-45a5-92b9-5b9ca264575e",
   "metadata": {},
   "outputs": [
    {
     "name": "stdout",
     "output_type": "stream",
     "text": [
      "2.82 ms ± 16 μs per loop (mean ± std. dev. of 7 runs, 100 loops each)\n"
     ]
    }
   ],
   "source": [
    "%%timeit\n",
    "x.clear()\n",
    "x.add_many(sparsed_ints_matrix, sparsed_ints_matrix_ones_counts)"
   ]
  },
  {
   "cell_type": "code",
   "execution_count": 33,
   "id": "3e750465-fcb8-4198-93ae-c70ecc4f5a12",
   "metadata": {},
   "outputs": [
    {
     "name": "stdout",
     "output_type": "stream",
     "text": [
      "21.5 ms ± 161 μs per loop (mean ± std. dev. of 7 runs, 10 loops each)\n"
     ]
    }
   ],
   "source": [
    "%%timeit\n",
    "y.clear()\n",
    "is_added = []\n",
    "\n",
    "for ints, ones_count in zip(sparsed_ints_matrix, sparsed_ints_matrix_ones_counts):\n",
    "    e = tuple(ints[:ones_count])  \n",
    "\n",
    "    if not e in y:\n",
    "        y.add(e)\n",
    "        is_added.append(True)\n",
    "    else:\n",
    "        is_added.append(False)"
   ]
  },
  {
   "cell_type": "code",
   "execution_count": null,
   "id": "71571c49-403f-4804-8b30-5885a557cccd",
   "metadata": {},
   "outputs": [],
   "source": []
  }
 ],
 "metadata": {
  "kernelspec": {
   "display_name": "Python 3 (ipykernel)",
   "language": "python",
   "name": "python3"
  },
  "language_info": {
   "codemirror_mode": {
    "name": "ipython",
    "version": 3
   },
   "file_extension": ".py",
   "mimetype": "text/x-python",
   "name": "python",
   "nbconvert_exporter": "python",
   "pygments_lexer": "ipython3",
   "version": "3.12.9"
  }
 },
 "nbformat": 4,
 "nbformat_minor": 5
}
