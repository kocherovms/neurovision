{
 "cells": [
  {
   "cell_type": "code",
   "execution_count": 6,
   "id": "0e337393-720f-4dd9-b13b-347b6cdfae82",
   "metadata": {},
   "outputs": [],
   "source": [
    "from collections import defaultdict\n",
    "import math\n",
    "\n",
    "import numpy as np\n",
    "import cupy as cp\n",
    "import pandas as pd\n",
    "from tqdm.notebook import tqdm\n",
    "import matplotlib.pyplot as plt"
   ]
  },
  {
   "cell_type": "code",
   "execution_count": 7,
   "id": "d8183561-fc66-48c2-b864-70fe9f1350b4",
   "metadata": {},
   "outputs": [
    {
     "name": "stdout",
     "output_type": "stream",
     "text": [
      "xp = numpy\n"
     ]
    }
   ],
   "source": [
    "RNG = np.random.default_rng()\n",
    "\n",
    "if cp.cuda.is_available():\n",
    "# if cp.cuda.is_available() and False:\n",
    "    xp = cp.get_array_module(cp.empty(1))\n",
    "    xp_array_from_gpu = lambda a: a.get() if isinstance(a, cp.ndarray) else a\n",
    "    xp_array_to_gpu = lambda a: cp.asarray(a) if isinstance(a, np.ndarray) else a\n",
    "else:\n",
    "    xp = cp.get_array_module(np.empty(1))\n",
    "    xp_array_from_gpu = lambda a: a\n",
    "    xp_array_to_gpu = lambda a: a\n",
    "    \n",
    "print(f'xp = {xp.__name__}')"
   ]
  },
  {
   "cell_type": "code",
   "execution_count": 9,
   "id": "5097ecd3-ca20-433c-bf1d-095e60fcdda6",
   "metadata": {},
   "outputs": [
    {
     "data": {
      "application/vnd.jupyter.widget-view+json": {
       "model_id": "994cb6ca1e384fb7a35ef2fdafa64086",
       "version_major": 2,
       "version_minor": 0
      },
      "text/plain": [
       "sbv_dim:   0%|          | 0/1 [00:00<?, ?it/s]"
      ]
     },
     "metadata": {},
     "output_type": "display_data"
    },
    {
     "data": {
      "application/vnd.jupyter.widget-view+json": {
       "model_id": "",
       "version_major": 2,
       "version_minor": 0
      },
      "text/plain": [
       "non_zero_bits:   0%|          | 0/1 [00:00<?, ?it/s]"
      ]
     },
     "metadata": {},
     "output_type": "display_data"
    },
    {
     "data": {
      "application/vnd.jupyter.widget-view+json": {
       "model_id": "",
       "version_major": 2,
       "version_minor": 0
      },
      "text/plain": [
       "entities:   0%|          | 0/1000 [00:00<?, ?it/s]"
      ]
     },
     "metadata": {},
     "output_type": "display_data"
    },
    {
     "data": {
      "application/vnd.jupyter.widget-view+json": {
       "model_id": "9ef4ef2c17d44eb9a919445d0f16bbc2",
       "version_major": 2,
       "version_minor": 0
      },
      "text/plain": [
       "bundle_size:   0%|          | 0/100 [00:00<?, ?it/s]"
      ]
     },
     "metadata": {},
     "output_type": "display_data"
    }
   ],
   "source": [
    "# sbv_dims = [1000]\n",
    "# non_zero_bits_list = range(1, 10)\n",
    "# sbv_dims = [1000, 1200, 1500, 1800, 2000, 2500, 3000, 3500, 4000, 5000]\n",
    "# sbv_dims = [256, 512]\n",
    "# sbv_dims = [256, 512, 1024]\n",
    "# sbv_dims = [1200, 1300, 1400, 1500]\n",
    "sbv_dims = [1000]\n",
    "# non_zero_bits_list = range(2, 26)\n",
    "# non_zero_bits_list = range(2, 31)\n",
    "non_zero_bits_list = range(2, 3)\n",
    "index = []\n",
    "columns = defaultdict(list)\n",
    "# min_entities_count = 128 ** 2 # ~16k \n",
    "# min_entities_count = 32 ** 2 # ~1k\n",
    "# min_entities_count = 100\n",
    "# min_entities_count = 9 * 4 * 50 * 2 # 10 degree, 3600\n",
    "# min_entities_count = 6 * 4 * 50 * 2 # 15 degree, 2400\n",
    "# min_entities_count = 5 * 4 * 50 * 2 # 18 degree, 2000\n",
    "# min_entities_count = 3 * 4 * 50 * 2 # 30 degree, 1200\n",
    "# min_entities_count = 36 * 128 * 128\n",
    "# min_entities_count = 128 * 10 + 128 * 10 + 36 * 10\n",
    "# min_entities_count = 1000 * 24 # 15 degree fidelity\n",
    "min_entities_count = 1000\n",
    "\n",
    "for sbv_dim in tqdm(sbv_dims, desc='sbv_dim'):\n",
    "    index.append((min_entities_count, sbv_dim, 'bundle_size_0_FP'))\n",
    "    index.append((min_entities_count, sbv_dim, 'bundle_size_1_FP'))\n",
    "    index.append((min_entities_count, sbv_dim, 'bundle_size_2_FP'))\n",
    "    index.append((min_entities_count, sbv_dim, 'bundle_ones_count_0_FP'))\n",
    "    index.append((min_entities_count, sbv_dim, 'bundle_ones_count_1_FP'))\n",
    "    index.append((min_entities_count, sbv_dim, 'bundle_ones_count_2_FP'))\n",
    "\n",
    "    for non_zero_bits in tqdm(non_zero_bits_list, leave=False, desc='non_zero_bits'):\n",
    "        bundle_size_0_FP = 0\n",
    "        bundle_size_1_FP = 0\n",
    "        bundle_size_2_FP = 0\n",
    "        bundle_size_to_max_ones_count = {}\n",
    "        entities_count = math.comb(sbv_dim, non_zero_bits)\n",
    "\n",
    "        if entities_count >= min_entities_count:\n",
    "            entities = np.zeros((min_entities_count, sbv_dim), dtype='f')\n",
    "            unique_entity_codes = set()\n",
    "            \n",
    "            for i in tqdm(range(entities.shape[0]), leave=False, desc='entities'):\n",
    "                attempts_to_get_unique_entity_code = 10\n",
    "\n",
    "                for _ in range(attempts_to_get_unique_entity_code):\n",
    "                    ii = RNG.choice(sbv_dim, non_zero_bits, replace=False)\n",
    "                    entity_code = tuple(sorted(ii))\n",
    "\n",
    "                    if not entity_code in unique_entity_codes:\n",
    "                        entities[i][ii] = 1\n",
    "                        unique_entity_codes.add(entity_code)\n",
    "                        break\n",
    "                else:\n",
    "                    assert False, f'Failed to get unique entity code within {attempts_to_get_unique_entity_code} attempts'\n",
    "\n",
    "            assert np.all(entities.sum(axis=1) == non_zero_bits)\n",
    "            entities = xp_array_to_gpu(entities)\n",
    "\n",
    "            for bundle_size in tqdm(list(range(1, 101)), leave=False, desc='bundle_size'):\n",
    "                errors_count_list = []\n",
    "                max_ones_count = 0\n",
    "                \n",
    "                for _ in range(50):\n",
    "                    # entity_inds = RNG.choice(entities.shape[0], bundle_size, replace=False)\n",
    "                    # entities_for_bundle = entities[entity_inds]\n",
    "                    # sbv = xp.where(entities_for_bundle.sum(axis=0) > 0, 1, 0)\n",
    "                    # entities_for_bundle_restored = entities[((entities @ sbv) == non_zero_bits)]\n",
    "                    # errors_count = xp.count_nonzero(entities_for_bundle.sum(axis=0) != entities_for_bundle_restored.sum(axis=0))\n",
    "\n",
    "                    entity_inds = RNG.choice(entities.shape[0], bundle_size, replace=False)\n",
    "                    entity_inds_mask = xp.zeros(entities.shape[0], dtype=bool)\n",
    "                    entity_inds_mask[entity_inds] = True\n",
    "                    entities_for_bundle = entities[entity_inds]\n",
    "                    sbv = xp.where(entities_for_bundle.sum(axis=0) > 0, 1, 0)\n",
    "                    entity_inds_mask_restored = (entities @ sbv) == non_zero_bits\n",
    "                    assert xp.all((entity_inds_mask_restored * entity_inds_mask) == entity_inds_mask) # assert than we don't lose any entities during restore procedure\n",
    "                    errors_count = int((entity_inds_mask != entity_inds_mask_restored).sum()) # count False positives (phantom entities)\n",
    "                    errors_count_list.append(errors_count)\n",
    "                    max_ones_count = max(max_ones_count, sbv.sum())\n",
    "\n",
    "                bundle_size_to_max_ones_count[bundle_size] = max_ones_count\n",
    "                errors_count_list = np.array(errors_count_list)\n",
    "                min_errors_count = np.min(errors_count_list)\n",
    "                        \n",
    "                if min_errors_count > 2:\n",
    "                    break\n",
    "\n",
    "                bundle_size_0_FP = bundle_size if np.all(errors_count_list <= 0) and bundle_size_0_FP == bundle_size - 1 else bundle_size_0_FP\n",
    "                bundle_size_1_FP = bundle_size if np.all(errors_count_list <= 1) and bundle_size_1_FP == bundle_size - 1 else bundle_size_1_FP\n",
    "                bundle_size_2_FP = bundle_size if np.all(errors_count_list <= 2) and bundle_size_2_FP == bundle_size - 1 else bundle_size_2_FP\n",
    "\n",
    "        columns[non_zero_bits].append(bundle_size_0_FP)        \n",
    "        columns[non_zero_bits].append(bundle_size_1_FP)        \n",
    "        columns[non_zero_bits].append(bundle_size_2_FP)        \n",
    "        columns[non_zero_bits].append(bundle_size_to_max_ones_count[bundle_size_0_FP])\n",
    "        columns[non_zero_bits].append(bundle_size_to_max_ones_count[bundle_size_1_FP])\n",
    "        columns[non_zero_bits].append(bundle_size_to_max_ones_count[bundle_size_2_FP])\n",
    "        \n",
    "        # columns[non_zero_bits].append(bundle_size_0_FP * non_zero_bits)\n",
    "        # columns[non_zero_bits].append(bundle_size_1_FP * non_zero_bits)\n",
    "        # columns[non_zero_bits].append(bundle_size_2_FP * non_zero_bits)"
   ]
  },
  {
   "cell_type": "code",
   "execution_count": 11,
   "id": "d9486060-1693-467f-99dd-4211a52eb575",
   "metadata": {},
   "outputs": [
    {
     "data": {
      "text/html": [
       "<div>\n",
       "<style scoped>\n",
       "    .dataframe tbody tr th:only-of-type {\n",
       "        vertical-align: middle;\n",
       "    }\n",
       "\n",
       "    .dataframe tbody tr th {\n",
       "        vertical-align: top;\n",
       "    }\n",
       "\n",
       "    .dataframe thead th {\n",
       "        text-align: right;\n",
       "    }\n",
       "</style>\n",
       "<table border=\"1\" class=\"dataframe\">\n",
       "  <thead>\n",
       "    <tr style=\"text-align: right;\">\n",
       "      <th></th>\n",
       "      <th></th>\n",
       "      <th></th>\n",
       "      <th>2</th>\n",
       "    </tr>\n",
       "    <tr>\n",
       "      <th>entities</th>\n",
       "      <th>N</th>\n",
       "      <th>param</th>\n",
       "      <th></th>\n",
       "    </tr>\n",
       "  </thead>\n",
       "  <tbody>\n",
       "    <tr>\n",
       "      <th rowspan=\"6\" valign=\"top\">1000</th>\n",
       "      <th rowspan=\"6\" valign=\"top\">1000</th>\n",
       "      <th>bundle_size_0_FP</th>\n",
       "      <td>2</td>\n",
       "    </tr>\n",
       "    <tr>\n",
       "      <th>bundle_size_1_FP</th>\n",
       "      <td>7</td>\n",
       "    </tr>\n",
       "    <tr>\n",
       "      <th>bundle_size_2_FP</th>\n",
       "      <td>12</td>\n",
       "    </tr>\n",
       "    <tr>\n",
       "      <th>bundle_ones_count_0_FP</th>\n",
       "      <td>4</td>\n",
       "    </tr>\n",
       "    <tr>\n",
       "      <th>bundle_ones_count_1_FP</th>\n",
       "      <td>14</td>\n",
       "    </tr>\n",
       "    <tr>\n",
       "      <th>bundle_ones_count_2_FP</th>\n",
       "      <td>24</td>\n",
       "    </tr>\n",
       "  </tbody>\n",
       "</table>\n",
       "</div>"
      ],
      "text/plain": [
       "                                       2\n",
       "entities N    param                     \n",
       "1000     1000 bundle_size_0_FP         2\n",
       "              bundle_size_1_FP         7\n",
       "              bundle_size_2_FP        12\n",
       "              bundle_ones_count_0_FP   4\n",
       "              bundle_ones_count_1_FP  14\n",
       "              bundle_ones_count_2_FP  24"
      ]
     },
     "execution_count": 11,
     "metadata": {},
     "output_type": "execute_result"
    }
   ],
   "source": [
    "pd.DataFrame(columns, index=pd.MultiIndex.from_tuples(index, names=['entities', 'N', 'param']))[range(2,3)]"
   ]
  },
  {
   "cell_type": "code",
   "execution_count": null,
   "id": "c2ea472a-bc99-466c-8584-78303bf81c38",
   "metadata": {},
   "outputs": [],
   "source": []
  }
 ],
 "metadata": {
  "kernelspec": {
   "display_name": "Python 3 (ipykernel)",
   "language": "python",
   "name": "python3"
  },
  "language_info": {
   "codemirror_mode": {
    "name": "ipython",
    "version": 3
   },
   "file_extension": ".py",
   "mimetype": "text/x-python",
   "name": "python",
   "nbconvert_exporter": "python",
   "pygments_lexer": "ipython3",
   "version": "3.12.2"
  }
 },
 "nbformat": 4,
 "nbformat_minor": 5
}
