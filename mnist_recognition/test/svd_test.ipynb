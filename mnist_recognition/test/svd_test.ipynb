{
 "cells": [
  {
   "cell_type": "code",
   "execution_count": 1,
   "id": "fc9aa7be-7e1b-43a4-8e0f-57f3b77cc23f",
   "metadata": {},
   "outputs": [],
   "source": [
    "import sys\n",
    "sys.path.append('../module')\n",
    "\n",
    "import os, math\n",
    "from collections import defaultdict, namedtuple, deque\n",
    "import dataclasses\n",
    "from dataclasses import dataclass\n",
    "import itertools\n",
    "import sqlite3\n",
    "import logging\n",
    "import logging.handlers\n",
    "import pickle\n",
    "import datetime\n",
    "import multiprocessing as mp\n",
    "import gc\n",
    "\n",
    "from PIL import Image, ImageDraw\n",
    "from tqdm.notebook import tqdm\n",
    "\n",
    "from sklearn.model_selection import train_test_split\n",
    "import matplotlib.pyplot as plt\n",
    "import scipy\n",
    "import numpy as np\n",
    "import cupy as cp\n",
    "import pandas as pd\n",
    "\n",
    "from utils import *\n",
    "from hdc import *\n",
    "from constants import *"
   ]
  },
  {
   "cell_type": "code",
   "execution_count": 2,
   "id": "1e566dae-52a6-4d86-b4df-25954f9f88a5",
   "metadata": {},
   "outputs": [
    {
     "ename": "KeyError",
     "evalue": "'SQLITE3_SEQ_GRID_0_2_4096'",
     "output_type": "error",
     "traceback": [
      "\u001b[0;31m---------------------------------------------------------------------------\u001b[0m",
      "\u001b[0;31mKeyError\u001b[0m                                  Traceback (most recent call last)",
      "Cell \u001b[0;32mIn[2], line 4\u001b[0m\n\u001b[1;32m      1\u001b[0m LOG \u001b[38;5;241m=\u001b[39m Logging()\n\u001b[1;32m      3\u001b[0m config_var \u001b[38;5;241m=\u001b[39m \u001b[38;5;124m'\u001b[39m\u001b[38;5;124mSQLITE3_SEQ_GRID_0_2_4096\u001b[39m\u001b[38;5;124m'\u001b[39m\n\u001b[0;32m----> 4\u001b[0m config \u001b[38;5;241m=\u001b[39m Config(config_var)\n\u001b[1;32m      5\u001b[0m RNG \u001b[38;5;241m=\u001b[39m np\u001b[38;5;241m.\u001b[39mrandom\u001b[38;5;241m.\u001b[39mdefault_rng()\n\u001b[1;32m      6\u001b[0m mp_ctx \u001b[38;5;241m=\u001b[39m mp\u001b[38;5;241m.\u001b[39mget_context(\u001b[38;5;124m'\u001b[39m\u001b[38;5;124mspawn\u001b[39m\u001b[38;5;124m'\u001b[39m) \u001b[38;5;66;03m# req-d for CUPY to work, 'fork' method leads to failures in bootstrap somewhere around CUDA\u001b[39;00m\n",
      "File \u001b[0;32m~/dev/mine/neurovision/mnist_recognition/test/../module/utils.py:39\u001b[0m, in \u001b[0;36mConfig.__init__\u001b[0;34m(self, section_name)\u001b[0m\n\u001b[1;32m     37\u001b[0m \u001b[38;5;28msuper\u001b[39m()\n\u001b[1;32m     38\u001b[0m \u001b[38;5;28mself\u001b[39m\u001b[38;5;241m.\u001b[39msection_name \u001b[38;5;241m=\u001b[39m section_name\n\u001b[0;32m---> 39\u001b[0m \u001b[38;5;28mself\u001b[39m\u001b[38;5;241m.\u001b[39mreload()\n",
      "File \u001b[0;32m~/dev/mine/neurovision/mnist_recognition/test/../module/utils.py:50\u001b[0m, in \u001b[0;36mConfig.reload\u001b[0;34m(self)\u001b[0m\n\u001b[1;32m     47\u001b[0m sections \u001b[38;5;241m=\u001b[39m [config[\u001b[38;5;124m'\u001b[39m\u001b[38;5;124mDEFAULT\u001b[39m\u001b[38;5;124m'\u001b[39m]]\n\u001b[1;32m     49\u001b[0m \u001b[38;5;28;01mif\u001b[39;00m \u001b[38;5;28mself\u001b[39m\u001b[38;5;241m.\u001b[39msection_name \u001b[38;5;241m!=\u001b[39m \u001b[38;5;124m'\u001b[39m\u001b[38;5;124mDEFAULT\u001b[39m\u001b[38;5;124m'\u001b[39m:\n\u001b[0;32m---> 50\u001b[0m     sections\u001b[38;5;241m.\u001b[39mappend(config[\u001b[38;5;28mself\u001b[39m\u001b[38;5;241m.\u001b[39msection_name])\n\u001b[1;32m     52\u001b[0m \u001b[38;5;28;01mfor\u001b[39;00m section \u001b[38;5;129;01min\u001b[39;00m sections:\n\u001b[1;32m     53\u001b[0m     \u001b[38;5;28;01mfor\u001b[39;00m k \u001b[38;5;129;01min\u001b[39;00m section:\n",
      "File \u001b[0;32m~/anaconda3/envs/mine/lib/python3.12/configparser.py:941\u001b[0m, in \u001b[0;36mRawConfigParser.__getitem__\u001b[0;34m(self, key)\u001b[0m\n\u001b[1;32m    939\u001b[0m \u001b[38;5;28;01mdef\u001b[39;00m \u001b[38;5;21m__getitem__\u001b[39m(\u001b[38;5;28mself\u001b[39m, key):\n\u001b[1;32m    940\u001b[0m     \u001b[38;5;28;01mif\u001b[39;00m key \u001b[38;5;241m!=\u001b[39m \u001b[38;5;28mself\u001b[39m\u001b[38;5;241m.\u001b[39mdefault_section \u001b[38;5;129;01mand\u001b[39;00m \u001b[38;5;129;01mnot\u001b[39;00m \u001b[38;5;28mself\u001b[39m\u001b[38;5;241m.\u001b[39mhas_section(key):\n\u001b[0;32m--> 941\u001b[0m         \u001b[38;5;28;01mraise\u001b[39;00m \u001b[38;5;167;01mKeyError\u001b[39;00m(key)\n\u001b[1;32m    942\u001b[0m     \u001b[38;5;28;01mreturn\u001b[39;00m \u001b[38;5;28mself\u001b[39m\u001b[38;5;241m.\u001b[39m_proxies[key]\n",
      "\u001b[0;31mKeyError\u001b[0m: 'SQLITE3_SEQ_GRID_0_2_4096'"
     ]
    }
   ],
   "source": [
    "LOG = Logging()\n",
    "\n",
    "config_var = 'SQLITE3_SEQ_GRID_0_2_4096'\n",
    "config = Config(config_var)\n",
    "RNG = np.random.default_rng()\n",
    "mp_ctx = mp.get_context('spawn') # req-d for CUPY to work, 'fork' method leads to failures in bootstrap somewhere around CUDA\n",
    "\n",
    "if cp.cuda.is_available():\n",
    "    xp = cp.get_array_module(cp.empty(1))\n",
    "    xp_array_from_gpu = lambda a: a.get() if isinstance(a, cp.ndarray) else a\n",
    "    xp_array_to_gpu = lambda a: cp.asarray(a) if isinstance(a, np.ndarray) else a\n",
    "    xp_array_to_gpu_copy = lambda a: cp.asarray(a) if isinstance(a, np.ndarray) else a\n",
    "else:\n",
    "    xp = cp.get_array_module(np.empty(1))\n",
    "    xp_array_from_gpu = lambda a: a\n",
    "    xp_array_to_gpu = lambda a: a\n",
    "    xp_array_to_gpu_copy = lambda a: a.copy()\n",
    "\n",
    "print(f'xp = {xp.__name__}')\n",
    "\n",
    "hdc = Hdc(10_000, xp)"
   ]
  },
  {
   "cell_type": "code",
   "execution_count": null,
   "id": "7852a6d9-cf14-4ef7-8218-c1e37bcae265",
   "metadata": {},
   "outputs": [],
   "source": [
    "%run sequencing_sp2.ipynb"
   ]
  },
  {
   "cell_type": "code",
   "execution_count": null,
   "id": "3bbfe92b-d5f9-4ee3-9fd9-ee91ca5182bf",
   "metadata": {},
   "outputs": [],
   "source": []
  },
  {
   "cell_type": "code",
   "execution_count": null,
   "id": "37df6519-d03e-4ccd-9d54-4d1046817e6b",
   "metadata": {},
   "outputs": [],
   "source": [
    "def create_matrix(m, n):\n",
    "  '''Creates a random matrix of shape mxn for testing.'''  \n",
    "  M = np.random.rand(m, n)  # Generate random matrix of size m x n\n",
    "  print('The original matrix M:\\n', M)  \n",
    "  print('M shape:', M.shape)  # Print the shape for reference\n",
    "  return M\n",
    "\n",
    "def decompose_matrix(M):\n",
    "  '''Decomposes the matrix M using Singular Value Decomposition (SVD).'''\n",
    "  U, S, V = np.linalg.svd(M)  # Perform SVD \n",
    "  print('U shape:', U.shape) \n",
    "  print('S shape:', S.shape)\n",
    "  print('V shape:', V.shape)\n",
    "\n",
    "  # Adjust matrix shapes to ensure U (m x n), S (n x n), V (n x n):\n",
    "  U = U[:, :S.shape[0]]  # Limit U to the number of singular values \n",
    "  S = np.diag(S)  # Convert S (a vector) into a diagonal matrix\n",
    "  print('Adjusted U shape:', U.shape)\n",
    "  print('Adjusted S shape:', S.shape)\n",
    "  print('Adjusted V shape:', V.shape)\n",
    "\n",
    "  return U, S, V\n",
    "\n",
    "# def reconstruct_matrix(U, S, V, r):\n",
    "#   '''Reconstructs the matrix using the SVD components with rank r.''' \n",
    "#   # print('\\nReconstructing matrix with rank=', r)\n",
    "#   R = U[:, :r] @ S[:r, :r] @ V[:r, :]  # Use rank-reduced components for approximation \n",
    "#   # print(R)\n",
    "#   # print('R shape:', R.shape)  # Output shape of the approximated matrix\n",
    "#   return R\n",
    "\n",
    "def reconstruct_matrix(U, S, V, ranks):\n",
    "    return U[:, ranks] @ np.take(np.take(S, ranks, axis=0), ranks, axis=1) @ V[ranks, :]\n",
    "\n",
    "def compare_matrices(M, R):\n",
    "  '''Calculates the difference and relative difference between the original and \n",
    "      reconstructed matrix.'''\n",
    "  D = M - R  # Element-wise difference\n",
    "  M_norm = np.linalg.norm(M, 'fro')  # Frobenius norm of original matrix\n",
    "  D_norm = np.linalg.norm(D, 'fro')  # Frobenius norm of difference matrix\n",
    "  print('Diff:\\n', np.array_str(D, precision=2, suppress_small=True))  # Print differences\n",
    "  return D_norm / M_norm  # Calculate the relative difference ratio\n"
   ]
  },
  {
   "cell_type": "code",
   "execution_count": null,
   "id": "d66a90e8-66e2-41d0-8971-d679ddded056",
   "metadata": {},
   "outputs": [],
   "source": []
  },
  {
   "cell_type": "code",
   "execution_count": null,
   "id": "3b1dc9af-fa68-4d47-8bb2-6d07c53b34b2",
   "metadata": {},
   "outputs": [],
   "source": []
  },
  {
   "cell_type": "code",
   "execution_count": null,
   "id": "828ef23a-85c2-43ad-90f3-f85275e9caea",
   "metadata": {},
   "outputs": [],
   "source": [
    "train_db_con = sqlite3.connect(DBUtils.get_full_db_file_name(config, config.train_db_file_name))\n",
    "df_train_images = pd.read_sql_query('SELECT * FROM images', con=train_db_con, index_col='image_id')"
   ]
  },
  {
   "cell_type": "code",
   "execution_count": null,
   "id": "3ae20c54-9193-4b1e-b6e3-38e1254f72c6",
   "metadata": {},
   "outputs": [],
   "source": [
    "image_id = RNG.choice(df_train_images.index)"
   ]
  },
  {
   "cell_type": "code",
   "execution_count": null,
   "id": "0bd86e9d-df5d-4af2-adeb-b92cb2aef465",
   "metadata": {},
   "outputs": [],
   "source": [
    "df_image = df_train_images.loc[image_id]\n",
    "Image.open(io.BytesIO(df_image['png']))"
   ]
  },
  {
   "cell_type": "code",
   "execution_count": null,
   "id": "f73e473e-df4b-4308-8b68-c6d62d086bd7",
   "metadata": {},
   "outputs": [],
   "source": []
  },
  {
   "cell_type": "code",
   "execution_count": null,
   "id": "e288e09f-c21c-4e34-9714-740c94c907f6",
   "metadata": {},
   "outputs": [],
   "source": [
    "expand_normal_vec = lambda j: (j.real, j.imag)\n",
    "fetch_si_xy = lambda si: (si.x, si.y)\n",
    "get_sequence = lambda sequences: np.array(list(itertools.chain.from_iterable(sequences)))\n",
    "get_normal_sequence = lambda sequence, si_ind_dict: np.array(list(map(lambda si_ind: expand_normal_vec(si_ind_dict[si_ind].normal_vec), sequence)))\n",
    "get_xy_sequence = lambda sequence, si_ind_dict: np.array(list(map(lambda si_ind: fetch_si_xy(si_ind_dict[si_ind]), sequence)))"
   ]
  },
  {
   "cell_type": "code",
   "execution_count": null,
   "id": "5525f367-f9c1-493b-9fd0-5fc79ee8f23f",
   "metadata": {},
   "outputs": [],
   "source": [
    "BLOCKS_COUNT = 100\n",
    "BLOCK_LEN = 5\n",
    "SEQ_LV_MAT_SHAPE = (BLOCKS_COUNT, BLOCK_LEN, 2)\n",
    "\n",
    "def calc_seq_lv_mat(sequences, si_ind_dict, cache={}):\n",
    "    seq_lv_mat = np.zeros(SEQ_LV_MAT_SHAPE, dtype='f').reshape(-1, 2)\n",
    "    assert sequences\n",
    "    # assert len(sequences) <= SEQ_SUBLVS_COUNT\n",
    "\n",
    "    xy_prev_seq_tail = np.zeros(2)\n",
    "    block_index = 0\n",
    "    \n",
    "    for sequence_i, sequence in enumerate(sequences):\n",
    "        assert sequence\n",
    "        # print(f'sequence len={len(sequence)}')\n",
    "        xy_sequence = get_xy_sequence(sequence, si_ind_dict)\n",
    "        xy_sequence0 = xy_sequence[0].copy()\n",
    "        xy_sequence_last = xy_sequence[-1].copy()\n",
    "        xy_sequence -= xy_sequence0\n",
    "        \n",
    "        if sequence_i == 0:\n",
    "            ingress_vec = np.array([0, 0])\n",
    "        else:\n",
    "            ingress_vec = xy_sequence0 - xy_prev_seq_tail\n",
    "            \n",
    "        # Remember tip last position so we would be able to compute\n",
    "        # ingress vec for next seq RELATIVELY!!! (from tail to tip, not from beginning of whole figure)\n",
    "        xy_prev_seq_tail = xy_sequence_last\n",
    "        \n",
    "        vec_sequence = np.array(list(map(lambda xy_pair: (xy_pair[1][0] - xy_pair[0][0], xy_pair[1][1] - xy_pair[0][1]), \n",
    "                                         zip(xy_sequence, np.roll(xy_sequence, -1, axis=0)))))\n",
    "        vec_sequence = vec_sequence[:-1] # get rid of reciprocal vector which connects tail to tip\n",
    "\n",
    "        is_block_switch = True\n",
    "        row_index = 0\n",
    "\n",
    "        for si_ind, vec in zip(sequence, vec_sequence):\n",
    "            if is_block_switch:\n",
    "                is_block_switch = False\n",
    "                row_index = block_index * BLOCK_LEN\n",
    "                seq_lv_mat[row_index] = ingress_vec\n",
    "                # print(f'{block_index}:{row_index} = {ingress_vec}')\n",
    "                row_index += 1\n",
    "                ingress_vec = np.array([0, 0])\n",
    "                \n",
    "            seq_lv_mat[row_index] = vec\n",
    "            # print(f'{block_index}:{row_index} = {vec}')\n",
    "            row_index += 1\n",
    "\n",
    "            if (row_index % BLOCK_LEN) == 0:\n",
    "                is_block_switch = True\n",
    "                block_index += 1\n",
    "\n",
    "        if is_block_switch == False:\n",
    "            block_index += 1\n",
    "\n",
    "        # print('end')\n",
    "        \n",
    "\n",
    "    return seq_lv_mat.reshape((BLOCKS_COUNT, -1))"
   ]
  },
  {
   "cell_type": "code",
   "execution_count": null,
   "id": "a181245f-ecac-4ae5-b5e6-4915e6f0882b",
   "metadata": {},
   "outputs": [],
   "source": [
    "si_ind_dict = pickle.loads(df_image['inner_si_ind_dict'])\n",
    "sequences = pickle.loads(df_image['inner_sequences'])\n",
    "\n",
    "MAX_SEQUENCES_COUNT = 5\n",
    "\n",
    "if len(sequences) > MAX_SEQUENCES_COUNT:\n",
    "    seq_indices = RNG.choice(len(sequences), MAX_SEQUENCES_COUNT, replace=False)\n",
    "else:\n",
    "    seq_indices = list(range(len(sequences)))\n",
    "    \n",
    "assert len(seq_indices) <= MAX_SEQUENCES_COUNT\n",
    "\n",
    "seq_lv_codes = []\n",
    "\n",
    "for perm_seq_indices in itertools.permutations(seq_indices, len(seq_indices)):\n",
    "    for seq_orientation in itertools.product(range(2), repeat=len(seq_indices)):\n",
    "        seq_lv_codes.append(tuple(zip(perm_seq_indices, seq_orientation)))\n",
    "\n",
    "cache = {}\n",
    "seq_lv_mats = []\n",
    "\n",
    "for seq_lv_code in seq_lv_codes:\n",
    "    sequences_reading = list(map(lambda seq_ind_and_orient: sequences[seq_ind_and_orient[0]] if seq_ind_and_orient[1] == 0 else list(reversed(sequences[seq_ind_and_orient[0]])), seq_lv_code))\n",
    "    seq_lv_mat = calc_seq_lv_mat(sequences_reading, si_ind_dict, cache)\n",
    "    seq_lv_mats.append(seq_lv_mat)"
   ]
  },
  {
   "cell_type": "code",
   "execution_count": null,
   "id": "3a360451-8802-4741-b760-0b941890b334",
   "metadata": {},
   "outputs": [],
   "source": [
    "len(seq_lv_mats)"
   ]
  },
  {
   "cell_type": "code",
   "execution_count": null,
   "id": "93e610e5-3482-4153-a4f8-173e316ea61e",
   "metadata": {},
   "outputs": [],
   "source": [
    "# calc_seq_lv_mat(sequences_reading, si_ind_dict, cache)[:,:10]"
   ]
  },
  {
   "cell_type": "code",
   "execution_count": null,
   "id": "a4cce6ce-1e87-44b6-95e3-aac8413bf73e",
   "metadata": {},
   "outputs": [],
   "source": [
    "def render_seq_lv_mat(seq_lv_mat, delta_xy=0, k=None):\n",
    "    image_pil = Image.new('L', size=(800, 800), color='black')\n",
    "    image_pil = image_pil.convert('RGB')\n",
    "    k = image_pil.size[0] / config.sample_size if k is None else k\n",
    "    draw = ImageDraw.Draw(image_pil)\n",
    "    \n",
    "    offset = np.array([image_pil.size[0] // 2 + delta_xy, image_pil.size[1] // 2 + delta_xy])\n",
    "    xy = offset\n",
    "\n",
    "    # for vec in zip(seq_lv_mat.reshape(-1, 2), np.roll(seq_lv_mat.reshape(-1, 2), -1, axis=0)):\n",
    "    for vec_ind, vec in enumerate(seq_lv_mat.reshape(-1, 2)):\n",
    "        xy_old = xy\n",
    "        draw.rectangle([xy[0] - 1, xy[1] - 1, xy[0] + 1, xy[1] + 1], width=1, fill='green')\n",
    "        xy = xy + k * vec\n",
    "        draw.rectangle([xy[0] - 1, xy[1] - 1, xy[0] + 1, xy[1] + 1], width=1, fill='green')\n",
    "\n",
    "        if vec_ind % BLOCK_LEN != 0:\n",
    "            draw.line([xy_old[0], xy_old[1], xy[0], xy[1]], width=1, fill='green')\n",
    "        \n",
    "    return image_pil"
   ]
  },
  {
   "cell_type": "code",
   "execution_count": null,
   "id": "e42f4899-4d49-460b-9256-f9661198a141",
   "metadata": {},
   "outputs": [],
   "source": [
    "render_seq_lv_mat(seq_lv_mat, k=4)"
   ]
  },
  {
   "cell_type": "code",
   "execution_count": null,
   "id": "78607a91-6d8a-4e32-9eaf-15b038507f79",
   "metadata": {},
   "outputs": [],
   "source": [
    "U, S, V = decompose_matrix(seq_lv_mat)"
   ]
  },
  {
   "cell_type": "code",
   "execution_count": null,
   "id": "8b9c4fba-539f-44a4-ab22-6d6482350b42",
   "metadata": {},
   "outputs": [],
   "source": [
    "-np.sort(-np.unique(S)), -np.round(np.sort(-np.unique(S ** 2)), decimals=0), -np.round(np.sort(-(np.unique(S ** 2) / np.sum((S ** 2).ravel()))), decimals=2) "
   ]
  },
  {
   "cell_type": "code",
   "execution_count": null,
   "id": "9586d53a-bacd-4e14-b26b-9e5b378aede4",
   "metadata": {},
   "outputs": [],
   "source": [
    "# seq_lv_mat_r = reconstruct_matrix(U, S, V, 8)\n",
    "ranks = [0, 1, 2, 3]\n",
    "# r = 1\n",
    "# seq_lv_mat_r = U[:, :1] @ S[:1, :1] @ V[:1, :]  # Use rank-reduced components for approximation \n",
    "# seq_lv_mat_r = U[:, ranks] @ np.take(np.take(S, ranks, axis=0), ranks, axis=1) @ V[ranks, :]\n",
    "seq_lv_mat_r = reconstruct_matrix(U, S, V, ranks)\n",
    "render_seq_lv_mat(seq_lv_mat_r, k=4)"
   ]
  },
  {
   "cell_type": "code",
   "execution_count": null,
   "id": "9d8c4c8f-a858-4b79-861d-c0ec65bba1d4",
   "metadata": {},
   "outputs": [],
   "source": [
    "seq_lv_mat2 = seq_lv_mats[RNG.choice(len(seq_lv_mats) - 1)]\n",
    "U2, S2, V2 = decompose_matrix(seq_lv_mat2)"
   ]
  },
  {
   "cell_type": "code",
   "execution_count": null,
   "id": "6b859f9d-a3d1-4029-93a2-01a0e762ebcc",
   "metadata": {},
   "outputs": [],
   "source": [
    "-np.sort(-np.unique(S2)), -np.round(np.sort(-np.unique(S2 ** 2)), decimals=0), -np.round(np.sort(-(np.unique(S2 ** 2) / np.sum((S2 ** 2).ravel()))), decimals=2) "
   ]
  },
  {
   "cell_type": "code",
   "execution_count": null,
   "id": "eef048f2-3ad8-46fb-b3fd-4f5fdb5aaa59",
   "metadata": {},
   "outputs": [],
   "source": [
    "seq_lv_mat_r2 = reconstruct_matrix(U2, S2, V2, ranks)\n",
    "render_seq_lv_mat(seq_lv_mat_r2, k=4)"
   ]
  },
  {
   "cell_type": "code",
   "execution_count": null,
   "id": "82322456-8bb1-4ed0-9e14-bca53545dfe2",
   "metadata": {},
   "outputs": [],
   "source": []
  },
  {
   "cell_type": "code",
   "execution_count": null,
   "id": "db8174cf-1c53-47e6-9f98-62ce86feac18",
   "metadata": {},
   "outputs": [],
   "source": []
  },
  {
   "cell_type": "code",
   "execution_count": null,
   "id": "8ee94310-e9b4-4572-a33a-ac51b1c6e91e",
   "metadata": {},
   "outputs": [],
   "source": []
  },
  {
   "cell_type": "code",
   "execution_count": null,
   "id": "6168eabf-183c-40d7-8672-54a1d7303b14",
   "metadata": {},
   "outputs": [],
   "source": []
  },
  {
   "cell_type": "code",
   "execution_count": null,
   "id": "1a0c6594-38d7-47bc-ba22-33b6059a7726",
   "metadata": {},
   "outputs": [],
   "source": []
  },
  {
   "cell_type": "code",
   "execution_count": null,
   "id": "92b3f1f8-687e-44f6-8635-5a88c857d4fa",
   "metadata": {},
   "outputs": [],
   "source": []
  },
  {
   "cell_type": "code",
   "execution_count": null,
   "id": "81b483df-4944-4d50-833f-cd60da16ed79",
   "metadata": {},
   "outputs": [],
   "source": []
  },
  {
   "cell_type": "code",
   "execution_count": null,
   "id": "3e27cbfd-bddd-4143-997d-b7720147286d",
   "metadata": {},
   "outputs": [],
   "source": []
  },
  {
   "cell_type": "code",
   "execution_count": null,
   "id": "fa1ae0b7-53ec-4e71-b2fc-9b7ebd413300",
   "metadata": {},
   "outputs": [],
   "source": [
    "# # Test the functions with sample values:\n",
    "# m = 10\n",
    "# n = 5\n",
    "# M = create_matrix(m, n)  # Create the matrix\n",
    "\n",
    "# U, S, V = decompose_matrix(M)  # Decompose with SVD \n",
    "\n",
    "# R1 = reconstruct_matrix(U, S, V, n)  # Full reconstruction (using all singular values)\n",
    "# diff_ratio1 = compare_matrices(M, R1)\n",
    "# print(f'Diff ratio 1: {diff_ratio1:.2f}')\n",
    "\n",
    "# R2 = reconstruct_matrix(U, S, V, 1)  # Reduced-rank reconstruction\n",
    "# diff_ratio2 = compare_matrices(M, R2)\n",
    "# print(f'Diff ratio 2: {diff_ratio2:.2f}')"
   ]
  }
 ],
 "metadata": {
  "kernelspec": {
   "display_name": "Python 3 (ipykernel)",
   "language": "python",
   "name": "python3"
  },
  "language_info": {
   "codemirror_mode": {
    "name": "ipython",
    "version": 3
   },
   "file_extension": ".py",
   "mimetype": "text/x-python",
   "name": "python",
   "nbconvert_exporter": "python",
   "pygments_lexer": "ipython3",
   "version": "3.12.9"
  }
 },
 "nbformat": 4,
 "nbformat_minor": 5
}
