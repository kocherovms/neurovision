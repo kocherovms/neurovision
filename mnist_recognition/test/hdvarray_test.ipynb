{
 "cells": [
  {
   "cell_type": "code",
   "execution_count": 1,
   "id": "7adb1d00-26c5-4716-a792-2e250dc06843",
   "metadata": {},
   "outputs": [],
   "source": [
    "import sys\n",
    "sys.path.append('../module')\n",
    "\n",
    "from collections import defaultdict\n",
    "import math\n",
    "\n",
    "import numpy as np\n",
    "import cupy as cp\n",
    "import pandas as pd\n",
    "from tqdm.notebook import tqdm\n",
    "import matplotlib.pyplot as plt\n",
    "\n",
    "from hdc import *"
   ]
  },
  {
   "cell_type": "code",
   "execution_count": 2,
   "id": "b23cd3d6-6795-4326-87a7-611355da5bbf",
   "metadata": {},
   "outputs": [],
   "source": [
    "RNG = np.random.default_rng()"
   ]
  },
  {
   "cell_type": "code",
   "execution_count": 3,
   "id": "8a841739-a67b-4a21-9879-b86743cb2b4a",
   "metadata": {},
   "outputs": [
    {
     "name": "stdout",
     "output_type": "stream",
     "text": [
      "xp = cupy\n"
     ]
    }
   ],
   "source": [
    "if cp.cuda.is_available():\n",
    "# if cp.cuda.is_available() and False:\n",
    "    xp = cp.get_array_module(cp.empty(1))\n",
    "    xp_array_from_gpu = lambda a: a.get() if isinstance(a, cp.ndarray) else a\n",
    "    xp_array_to_gpu = lambda a: cp.asarray(a) if isinstance(a, np.ndarray) else a\n",
    "else:\n",
    "    xp = cp.get_array_module(np.empty(1))\n",
    "    xp_array_from_gpu = lambda a: a\n",
    "    xp_array_to_gpu = lambda a: a\n",
    "    \n",
    "print(f'xp = {xp.__name__}')"
   ]
  },
  {
   "cell_type": "code",
   "execution_count": 4,
   "id": "f35b7423-1db6-4750-afd5-0d2c6d2e09bb",
   "metadata": {},
   "outputs": [],
   "source": [
    "hdc = Hdc(10000, xp, dtype='f')\n",
    "hdc.bundle = hdc.bundle_noties\n",
    "COS_SIM_THRESHOLD = 0.055\n",
    "HDIST_THRESHOLD = 4700"
   ]
  },
  {
   "cell_type": "code",
   "execution_count": 17,
   "id": "a0f4de90-17f9-4453-9931-1d69d652382f",
   "metadata": {},
   "outputs": [],
   "source": [
    "arr = HdvArray(10, xp, 1)\n",
    "\n",
    "inds = arr.lease_many(1)\n",
    "assert len(inds) == 1\n",
    "assert inds[0] == 0\n",
    "arr.release_many(inds)\n",
    "\n",
    "inds = arr.lease_many(5)\n",
    "assert len(inds) == 5\n",
    "assert set(inds) == set(range(5))\n",
    "arr.release_many(inds)\n",
    "\n",
    "inds = arr.lease_many(25)\n",
    "assert len(inds) == 25\n",
    "assert set(inds) == set(range(25))\n",
    "arr.release_many(inds)\n",
    "\n",
    "arr.clear()\n",
    "inds = arr.lease_many(25)\n",
    "arr.release_many(inds[:5])\n",
    "inds2 = arr.lease_many(5)\n",
    "assert set(inds2) == set(range(5))\n",
    "inds3 = arr.lease_many(5)\n",
    "assert set(inds3) == set(range(25, 25 + 5))"
   ]
  },
  {
   "cell_type": "code",
   "execution_count": 12,
   "id": "84765c3c-d876-4c52-b453-47df89e7fa74",
   "metadata": {},
   "outputs": [
    {
     "data": {
      "text/plain": [
       "array([ True,  True,  True, False, False, False, False, False,  True,\n",
       "        True,  True,  True,  True,  True,  True,  True,  True,  True,\n",
       "        True,  True,  True,  True,  True,  True,  True])"
      ]
     },
     "execution_count": 12,
     "metadata": {},
     "output_type": "execute_result"
    }
   ],
   "source": [
    "np.array(inds) == np.arange(25)"
   ]
  },
  {
   "cell_type": "code",
   "execution_count": 5,
   "id": "a0ee7079-a152-43c6-ba8f-31cef1f50ae7",
   "metadata": {},
   "outputs": [],
   "source": [
    "hdv_array = HdvArray(hdc.N, xp, 10)\n",
    "assert len(hdv_array.leased_indices) == 0\n",
    "reference = dict(enumerate(hdc(100)))\n",
    "leased_indices = dict()\n",
    "\n",
    "assert xp.all(hdv_array.array == 0)\n",
    "\n",
    "for i in reference.keys():\n",
    "    leased_i = hdv_array.lease()\n",
    "    assert xp.all(hdv_array.array[leased_i] == 0)\n",
    "    leased_indices[leased_i] = i\n",
    "    hdv_array.array[leased_i] = reference[i]\n",
    "\n",
    "assert len(hdv_array.leased_indices) == len(reference)\n",
    "\n",
    "for leased_i, reference_i in leased_indices.items():\n",
    "    assert xp.array_equal(hdv_array.array[leased_i], reference[reference_i])\n",
    "    hdv_array.release(leased_i)\n",
    "    assert xp.all(hdv_array.array[leased_i] == 0)\n",
    "\n",
    "assert len(hdv_array.leased_indices) == 0\n",
    "\n",
    "for leased_i in leased_indices.keys():\n",
    "    assert xp.all(hdv_array.array[leased_i] == 0)\n",
    "\n",
    "assert xp.all(hdv_array.array == 0)\n",
    "leased_indices.clear()\n",
    "\n",
    "assert len(hdv_array.leased_indices) == 0\n",
    "\n",
    "for i in np.random.default_rng().choice(list(reference.keys()), len(reference) // 2, replace=False):\n",
    "    leased_i = hdv_array.lease()\n",
    "    assert xp.all(hdv_array.array[leased_i] == 0)\n",
    "    leased_indices[leased_i] = i\n",
    "    hdv_array.array[leased_i] = reference[i]\n",
    "\n",
    "assert len(hdv_array.leased_indices) == len(reference) // 2\n",
    "\n",
    "for leased_i, reference_i in leased_indices.items():\n",
    "    assert xp.array_equal(hdv_array.array[leased_i], reference[reference_i])\n",
    "    hdv_array.release(leased_i)\n",
    "\n",
    "assert len(hdv_array.leased_indices) == 0\n",
    "\n",
    "for leased_i in leased_indices.keys():\n",
    "    assert xp.all(hdv_array.array[leased_i] == 0)"
   ]
  },
  {
   "cell_type": "code",
   "execution_count": 6,
   "id": "9c6e27ac-82fd-47a4-a156-1352f6f187b3",
   "metadata": {},
   "outputs": [],
   "source": [
    "hdv_array = HdvArray(hdc.N, xp, 10)\n",
    "assert hdv_array.array_active.size == 0\n",
    "\n",
    "hdvs = hdc(100)\n",
    "hdv_index_to_hdv_array_index = dict()\n",
    "\n",
    "for hdv_index, hdv in enumerate(hdvs):\n",
    "    hdv_array_index = hdv_array.lease()\n",
    "    assert hdv_array_index < hdv_array.active_len\n",
    "    assert hdv_array.active_len == hdv_index + 1, hdv_array.active_len \n",
    "    hdv_array.array_active[hdv_array_index] = hdv\n",
    "    hdv_index_to_hdv_array_index[hdv_index] = hdv_array_index\n",
    "\n",
    "assert hdv_array.active_len == hdvs.shape[0], hdv_array.active_len\n",
    "\n",
    "# remove some elements\n",
    "pop_indices = RNG.choice(hdvs.shape[0], 30, replace=False)\n",
    "\n",
    "for index in pop_indices:\n",
    "    hdv_array_index = hdv_index_to_hdv_array_index[index]\n",
    "    hdv_array.release(hdv_array_index)\n",
    "\n",
    "assert hdv_array.active_len >= hdvs.shape[0] - len(pop_indices)\n",
    "\n",
    "remaining_indices = sorted(list(set(range(hdvs.shape[0])) - set(pop_indices)))\n",
    "\n",
    "for hdv_index in remaining_indices:\n",
    "    hdv_array_index = hdv_index_to_hdv_array_index[hdv_index]\n",
    "    assert hdv_array_index < hdv_array.active_len\n",
    "    assert xp.array_equal(hdv_array.array_active[hdv_array_index], hdvs[hdv_index])\n",
    "\n",
    "# add removed elements back\n",
    "for hdv_index in pop_indices:\n",
    "    hdv_array_index = hdv_array.lease()\n",
    "    hdv_array.array_active[hdv_array_index] = hdvs[hdv_index]\n",
    "    hdv_index_to_hdv_array_index[hdv_index] = hdv_array_index\n",
    "    \n",
    "assert hdv_array.active_len >= hdvs.shape[0]\n",
    "\n",
    "for hdv_index, hdv_array_index in hdv_index_to_hdv_array_index.items():\n",
    "    assert hdv_array_index < hdv_array.active_len\n",
    "    hdv = hdvs[hdv_index]\n",
    "    assert xp.array_equal(hdv_array.array_active[hdv_array_index], hdv)\n",
    "\n",
    "hdv_array.clear()\n",
    "assert hdv_array.active_len == 0\n",
    "assert hdv_array.array_active.size == 0"
   ]
  },
  {
   "cell_type": "code",
   "execution_count": 7,
   "id": "fd5f8b1e-61e1-498f-94e5-7b30d74ba92a",
   "metadata": {},
   "outputs": [
    {
     "data": {
      "application/vnd.jupyter.widget-view+json": {
       "model_id": "a7fc3baf0d9a478faf37105dd5f47418",
       "version_major": 2,
       "version_minor": 0
      },
      "text/plain": [
       "  0%|          | 0/3 [00:00<?, ?it/s]"
      ]
     },
     "metadata": {},
     "output_type": "display_data"
    },
    {
     "data": {
      "application/vnd.jupyter.widget-view+json": {
       "model_id": "632b57b8b89247f094b68ecb942516ff",
       "version_major": 2,
       "version_minor": 0
      },
      "text/plain": [
       "  0%|          | 0/1000 [00:00<?, ?it/s]"
      ]
     },
     "metadata": {},
     "output_type": "display_data"
    },
    {
     "data": {
      "application/vnd.jupyter.widget-view+json": {
       "model_id": "892a7c0123354e24a2af5533b33cc761",
       "version_major": 2,
       "version_minor": 0
      },
      "text/plain": [
       "  0%|          | 0/1000 [00:00<?, ?it/s]"
      ]
     },
     "metadata": {},
     "output_type": "display_data"
    },
    {
     "data": {
      "application/vnd.jupyter.widget-view+json": {
       "model_id": "79a969dc622e4230a50b11ae685cbba2",
       "version_major": 2,
       "version_minor": 0
      },
      "text/plain": [
       "  0%|          | 0/1000 [00:00<?, ?it/s]"
      ]
     },
     "metadata": {},
     "output_type": "display_data"
    },
    {
     "name": "stdout",
     "output_type": "stream",
     "text": [
      "CPU times: user 6min 2s, sys: 775 ms, total: 6min 3s\n",
      "Wall time: 6min 2s\n"
     ]
    }
   ],
   "source": [
    "%%time\n",
    "# Stress test for HdvArray\n",
    "hdv_array = HdvArray(hdc.N, xp, 10)\n",
    "hdvs = hdc(1000)\n",
    "undeployed_hdv_indices = set(list(range(hdvs.shape[0])))\n",
    "deployed_hdv_indices = set()\n",
    "hdv_index_to_hdv_array_index = dict()\n",
    "hdv_array_index_to_hdv_index = dict()\n",
    "\n",
    "def do_thorough_check_of_hdv_array_active():\n",
    "    for i in range(hdv_array.active_len):\n",
    "        if i in hdv_array_index_to_hdv_index:\n",
    "            hdv_index = hdv_array_index_to_hdv_index[i]\n",
    "            hdv = hdvs[hdv_index]\n",
    "            assert hdv_array.array_active[i].base is not None\n",
    "            assert xp.array_equal(hdv_array.array_active[i], hdv)\n",
    "            assert xp.array_equal(hdv_array.array[i], hdv)\n",
    "        else:\n",
    "            assert xp.all(hdv_array.array_active[i] == 0)\n",
    "            assert xp.all(hdv_array.array[i] == 0)\n",
    "\n",
    "    assert hdv_array.active_len <= hdvs.shape[0]\n",
    "\n",
    "    for i in range(hdv_array.active_len, hdv_array.array.shape[0]):\n",
    "        assert xp.all(hdv_array.array[i] == 0) # array_active is not legitimate here!\n",
    "\n",
    "for ps in tqdm([(0.7, 0.3), (0.3, 0.7), (0.5, 0.5)]):\n",
    "    for _ in tqdm(range(1000), leave=False):\n",
    "        op = RNG.choice(['OP_ADD', 'OP_DEL'], p=ps)\n",
    "    \n",
    "        match op:\n",
    "            case 'OP_ADD':\n",
    "                if undeployed_hdv_indices:\n",
    "                    hdv_index = undeployed_hdv_indices.pop()\n",
    "                    assert not hdv_index in deployed_hdv_indices\n",
    "                    deployed_hdv_indices.add(hdv_index)\n",
    "                    hdv_array_index = hdv_array.lease()\n",
    "                    hdv_index_to_hdv_array_index[hdv_index] = hdv_array_index\n",
    "                    hdv_array_index_to_hdv_index[hdv_array_index] = hdv_index\n",
    "                    hdv_array.array[hdv_array_index] = hdvs[hdv_index]\n",
    "            case 'OP_DEL':\n",
    "                if deployed_hdv_indices:\n",
    "                    hdv_index = deployed_hdv_indices.pop()\n",
    "                    hdv_array_index = hdv_index_to_hdv_array_index[hdv_index]\n",
    "                    hdv_array.release(hdv_array_index)\n",
    "                    del hdv_index_to_hdv_array_index[hdv_index]\n",
    "                    del hdv_array_index_to_hdv_index[hdv_array_index]\n",
    "                    assert not hdv_index in undeployed_hdv_indices\n",
    "                    undeployed_hdv_indices.add(hdv_index)            \n",
    "    \n",
    "        do_thorough_check_of_hdv_array_active()"
   ]
  },
  {
   "cell_type": "code",
   "execution_count": 8,
   "id": "8260c0be-662f-4d01-81d0-0e191a829728",
   "metadata": {},
   "outputs": [],
   "source": [
    "class TestOb(HdvArrayObserver):\n",
    "    def __init__(self):\n",
    "        self.size = -1\n",
    "        \n",
    "    def size_changed(self, new_size):\n",
    "        self.size = new_size\n",
    "\n",
    "ob = TestOb()\n",
    "hdv_array = HdvArray(hdc.N, xp, 1, observer=ob)\n",
    "assert ob.size == hdv_array.array.shape[0]\n",
    "\n",
    "for _ in range(10):\n",
    "    hdv_array.lease()\n",
    "    assert ob.size == hdv_array.array.shape[0]\n",
    "\n",
    "for i in range(10):\n",
    "    hdv_array.release(i)\n",
    "    assert ob.size == hdv_array.array.shape[0]\n",
    "\n",
    "hdv_array.clear()\n",
    "assert ob.size == hdv_array.array.shape[0]\n",
    "\n",
    "hdv_array.clear(is_hard_clear=True)\n",
    "assert ob.size == hdv_array.array.shape[0]\n",
    "assert ob.size == 1"
   ]
  },
  {
   "cell_type": "code",
   "execution_count": 5,
   "id": "916da89e-ce82-4bba-bddc-afa2cdff1398",
   "metadata": {},
   "outputs": [
    {
     "ename": "NameError",
     "evalue": "name 'free_indices' is not defined",
     "output_type": "error",
     "traceback": [
      "\u001b[0;31m---------------------------------------------------------------------------\u001b[0m",
      "\u001b[0;31mNameError\u001b[0m                                 Traceback (most recent call last)",
      "Cell \u001b[0;32mIn[5], line 2\u001b[0m\n\u001b[1;32m      1\u001b[0m arr \u001b[38;5;241m=\u001b[39m HdvArray(\u001b[38;5;241m10\u001b[39m, xp, \u001b[38;5;241m1\u001b[39m)\n\u001b[0;32m----> 2\u001b[0m arr\u001b[38;5;241m.\u001b[39mlease_many(\u001b[38;5;241m10\u001b[39m)\n",
      "File \u001b[0;32m~/dev/mine/neurovision/mnist_recognition/test/../module/hdc.py:185\u001b[0m, in \u001b[0;36mHdvArray.lease_many\u001b[0;34m(self, count)\u001b[0m\n\u001b[1;32m    182\u001b[0m remn \u001b[38;5;241m=\u001b[39m count \u001b[38;5;241m-\u001b[39m \u001b[38;5;28mlen\u001b[39m(indices)\n\u001b[1;32m    183\u001b[0m \u001b[38;5;28;01massert\u001b[39;00m remn \u001b[38;5;241m>\u001b[39m\u001b[38;5;241m=\u001b[39m \u001b[38;5;241m0\u001b[39m\n\u001b[0;32m--> 185\u001b[0m \u001b[38;5;28;01mif\u001b[39;00m \u001b[38;5;28mlen\u001b[39m(free_indices) \u001b[38;5;241m>\u001b[39m remn:\n\u001b[1;32m    186\u001b[0m     \u001b[38;5;28mself\u001b[39m\u001b[38;5;241m.\u001b[39mfree_indices\u001b[38;5;241m.\u001b[39msort()\n\u001b[1;32m    188\u001b[0m inds_batch \u001b[38;5;241m=\u001b[39m \u001b[38;5;28mself\u001b[39m\u001b[38;5;241m.\u001b[39mfree_indices[:remn]\n",
      "\u001b[0;31mNameError\u001b[0m: name 'free_indices' is not defined"
     ]
    }
   ],
   "source": []
  },
  {
   "cell_type": "code",
   "execution_count": null,
   "id": "9174efa2-8ecd-4ee5-9e08-2fcd605a7025",
   "metadata": {},
   "outputs": [],
   "source": []
  }
 ],
 "metadata": {
  "kernelspec": {
   "display_name": "Python 3 (ipykernel)",
   "language": "python",
   "name": "python3"
  },
  "language_info": {
   "codemirror_mode": {
    "name": "ipython",
    "version": 3
   },
   "file_extension": ".py",
   "mimetype": "text/x-python",
   "name": "python",
   "nbconvert_exporter": "python",
   "pygments_lexer": "ipython3",
   "version": "3.12.9"
  }
 },
 "nbformat": 4,
 "nbformat_minor": 5
}
