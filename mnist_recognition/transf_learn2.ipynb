{
 "cells": [
  {
   "cell_type": "code",
   "execution_count": 392,
   "id": "27532844-1826-4299-b063-16a22e592f3f",
   "metadata": {},
   "outputs": [],
   "source": [
    "import os, math\n",
    "from enum import StrEnum, auto\n",
    "from collections import defaultdict, namedtuple, Counter\n",
    "import itertools\n",
    "import sqlite3\n",
    "import pickle\n",
    "import datetime\n",
    "import multiprocessing as mp\n",
    "import gc\n",
    "import json\n",
    "from IPython.core.getipython import get_ipython\n",
    "\n",
    "from PIL import Image, ImageDraw\n",
    "from tqdm.notebook import tqdm\n",
    "\n",
    "from sklearn.model_selection import train_test_split\n",
    "from sklearn.decomposition import PCA\n",
    "import matplotlib.pyplot as plt\n",
    "import scipy\n",
    "import numpy as np\n",
    "import cupy as cp\n",
    "import pandas as pd\n",
    "\n",
    "from module.utils import *\n",
    "from module.hdc import *\n",
    "from module.constants import *"
   ]
  },
  {
   "cell_type": "code",
   "execution_count": 393,
   "id": "73358262-adf2-4d17-a383-f120a5d1f8aa",
   "metadata": {},
   "outputs": [
    {
     "name": "stdout",
     "output_type": "stream",
     "text": [
      "xp = numpy\n",
      "transf_learn2.ipynb\n"
     ]
    }
   ],
   "source": [
    "LOG = Logging()\n",
    "\n",
    "config_var = 'SQLITE3_SEQ_GRID_0_2_4096'\n",
    "config = Config(config_var)\n",
    "RNG = np.random.default_rng()\n",
    "mp_ctx = mp.get_context('spawn') # req-d for CUPY to work, 'fork' method leads to failures in bootstrap somewhere around CUDA\n",
    "\n",
    "if cp.cuda.is_available():\n",
    "    xp = cp.get_array_module(cp.empty(1))\n",
    "    xp_array_from_gpu = lambda a: a.get() if isinstance(a, cp.ndarray) else a\n",
    "    xp_array_to_gpu = lambda a: cp.asarray(a) if isinstance(a, np.ndarray) else a\n",
    "    xp_array_to_gpu_copy = lambda a: cp.asarray(a) if isinstance(a, np.ndarray) else a\n",
    "else:\n",
    "    xp = cp.get_array_module(np.empty(1))\n",
    "    xp_array_from_gpu = lambda a: a\n",
    "    xp_array_to_gpu = lambda a: a\n",
    "    xp_array_to_gpu_copy = lambda a: a.copy()\n",
    "\n",
    "print(f'xp = {xp.__name__}')\n",
    "\n",
    "with open(get_ipython().kernel.config['IPKernelApp']['connection_file'], 'r') as cf:\n",
    "    notebook_fname = json.load(cf)['jupyter_session']\n",
    "    notebook_fname = os.path.basename(notebook_fname)\n",
    "\n",
    "print(notebook_fname)"
   ]
  },
  {
   "cell_type": "code",
   "execution_count": 394,
   "id": "656ee6b7-3982-4f99-9251-6b67fef36ae3",
   "metadata": {},
   "outputs": [],
   "source": [
    "%run sequencing_sp2.ipynb"
   ]
  },
  {
   "cell_type": "markdown",
   "id": "d5c8f88a-5403-4177-b5fc-e0e2a1da9c2d",
   "metadata": {},
   "source": [
    "# Open DB"
   ]
  },
  {
   "cell_type": "code",
   "execution_count": 395,
   "id": "d2dd62ab-b44e-4251-9e86-d41b3672e36e",
   "metadata": {},
   "outputs": [
    {
     "name": "stdout",
     "output_type": "stream",
     "text": [
      "CPU times: user 2 μs, sys: 0 ns, total: 2 μs\n",
      "Wall time: 3.81 μs\n"
     ]
    },
    {
     "data": {
      "text/plain": [
       "((10000, 7), (2000, 7))"
      ]
     },
     "execution_count": 395,
     "metadata": {},
     "output_type": "execute_result"
    }
   ],
   "source": [
    "%time\n",
    "train_db_con = sqlite3.connect(DBUtils.get_full_db_file_name(config, config.train_db_file_name))\n",
    "test_db_con = sqlite3.connect(DBUtils.get_full_db_file_name(config, config.test_db_file_name))\n",
    "test_results_db_con = sqlite3.connect(DBUtils.get_full_db_file_name(config, config.test_results_db_file_name, with_prefix=False), autocommit=True)\n",
    "\n",
    "if not DBUtils.is_table_exists(test_results_db_con, 'test_runs'):\n",
    "    test_results_db_con.execute('CREATE TABLE test_runs(test_run_id INTEGER PRIMARY KEY, dummy)')\n",
    "\n",
    "df_train_images = pd.read_sql_query('SELECT * FROM images', con=train_db_con, index_col='image_id')\n",
    "df_test_images = pd.read_sql_query('SELECT * FROM images', con=test_db_con, index_col='image_id')\n",
    "df_train_images.shape, df_test_images.shape"
   ]
  },
  {
   "cell_type": "code",
   "execution_count": 396,
   "id": "70b21219-4f16-4824-90ec-7bda1574c5d1",
   "metadata": {},
   "outputs": [
    {
     "data": {
      "text/html": [
       "<div style=\"\n",
       "        display: grid; \n",
       "        grid-template-columns: repeat(8, 128px);\n",
       "        column-gap: 1px;\n",
       "        row-gap: 1px;\">\n",
       "        \n",
       "            <figure style=\"margin: 5px !important;\">\n",
       "              <img src=\"data:image/png;base64,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\" style=\"height: auto\">\n",
       "              <figcaption style=\"font-size: 0.6em\">4</figcaption>\n",
       "            </figure>\n",
       "        \n",
       "            <figure style=\"margin: 5px !important;\">\n",
       "              <img src=\"data:image/png;base64,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\" style=\"height: auto\">\n",
       "              <figcaption style=\"font-size: 0.6em\">5</figcaption>\n",
       "            </figure>\n",
       "        \n",
       "            <figure style=\"margin: 5px !important;\">\n",
       "              <img src=\"data:image/png;base64,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\" style=\"height: auto\">\n",
       "              <figcaption style=\"font-size: 0.6em\">5</figcaption>\n",
       "            </figure>\n",
       "        \n",
       "            <figure style=\"margin: 5px !important;\">\n",
       "              <img src=\"data:image/png;base64,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\" style=\"height: auto\">\n",
       "              <figcaption style=\"font-size: 0.6em\">9</figcaption>\n",
       "            </figure>\n",
       "        \n",
       "            <figure style=\"margin: 5px !important;\">\n",
       "              <img src=\"data:image/png;base64,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\" style=\"height: auto\">\n",
       "              <figcaption style=\"font-size: 0.6em\">1</figcaption>\n",
       "            </figure>\n",
       "        \n",
       "            <figure style=\"margin: 5px !important;\">\n",
       "              <img src=\"data:image/png;base64,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\" style=\"height: auto\">\n",
       "              <figcaption style=\"font-size: 0.6em\">8</figcaption>\n",
       "            </figure>\n",
       "        \n",
       "            <figure style=\"margin: 5px !important;\">\n",
       "              <img src=\"data:image/png;base64,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\" style=\"height: auto\">\n",
       "              <figcaption style=\"font-size: 0.6em\">5</figcaption>\n",
       "            </figure>\n",
       "        \n",
       "            <figure style=\"margin: 5px !important;\">\n",
       "              <img src=\"data:image/png;base64,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\" style=\"height: auto\">\n",
       "              <figcaption style=\"font-size: 0.6em\">3</figcaption>\n",
       "            </figure>\n",
       "        \n",
       "            <figure style=\"margin: 5px !important;\">\n",
       "              <img src=\"data:image/png;base64,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\" style=\"height: auto\">\n",
       "              <figcaption style=\"font-size: 0.6em\">5</figcaption>\n",
       "            </figure>\n",
       "        \n",
       "            <figure style=\"margin: 5px !important;\">\n",
       "              <img src=\"data:image/png;base64,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\" style=\"height: auto\">\n",
       "              <figcaption style=\"font-size: 0.6em\">9</figcaption>\n",
       "            </figure>\n",
       "        \n",
       "            <figure style=\"margin: 5px !important;\">\n",
       "              <img src=\"data:image/png;base64,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\" style=\"height: auto\">\n",
       "              <figcaption style=\"font-size: 0.6em\">3</figcaption>\n",
       "            </figure>\n",
       "        \n",
       "            <figure style=\"margin: 5px !important;\">\n",
       "              <img src=\"data:image/png;base64,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\" style=\"height: auto\">\n",
       "              <figcaption style=\"font-size: 0.6em\">9</figcaption>\n",
       "            </figure>\n",
       "        \n",
       "            <figure style=\"margin: 5px !important;\">\n",
       "              <img src=\"data:image/png;base64,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\" style=\"height: auto\">\n",
       "              <figcaption style=\"font-size: 0.6em\">5</figcaption>\n",
       "            </figure>\n",
       "        \n",
       "            <figure style=\"margin: 5px !important;\">\n",
       "              <img src=\"data:image/png;base64,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\" style=\"height: auto\">\n",
       "              <figcaption style=\"font-size: 0.6em\">2</figcaption>\n",
       "            </figure>\n",
       "        \n",
       "            <figure style=\"margin: 5px !important;\">\n",
       "              <img src=\"data:image/png;base64,iVBORw0KGgoAAAANSUhEUgAAAIAAAACACAAAAADmVT4XAAADeUlEQVR4nO2aTY/bNhCGhx+SqI/aseMcEqB7KFoU6DH//5f0sD0EyLa7iTfxWhIpfkwPdpqeZwQTAfjeRT0ghzPzjgRQVFRUVFRUVFSUWYL1rJRVpUUMIaaEeGsAIWU97N9s1fR8PNklRNIqmgNQdYdff/+5/vzX/cev45wDoN3/8v4P8/dPGEUKnnQGHAAh6/5w95vZnI/nsFhxawAAQKkbA/t3d1NapjHdGABTjMEvUVWv75Y0PR/9jQEAEKObxg1s3/r56YMircEKQiUlegfQ7ab90EjSKrSnLo9W7dAZLQCkrrQCWiJiAKh2s9sNRgL4xS0+kmKQA6Db7X6/MQqiHc+j9TcHkE2/3fSNguTsbB0xFXMAdF3XlQKAFGNMtA3gAAAIKS/lDBHh9kEImFJCRAAQQlALKwMAMaWUru8XgljYWUcAxCZkPYAVVAB+eIBL7CMiNR55iUgIEAIAkd6Wr7QD9Au5RgwIoZRWxEzEBUBEELrpW1PRWjImACIiiGrYvRpaWnfHbEoBE4KoN7jftDXJGPB8AWBKCUSlxHYwGXbgm6Q0ps4QA/8rwlpluQVCiO+JgLjGSrWAnotZLVmMMXFbEgZACotzPjIJOADeTpOjjSVWAUDvZusy7gCmGAI7CBgAQiqlJGfOxwXQtTG1ZhKw5gOm64xmZhKWOW1MU6t8OwBSai25qZRbCwRr2swF+N6K0jlYtYDuBtYBWEU/NgD+dwjZGxK6CkABKAA8ZyQldT65CgCQ57NrAeQuRinGSPxOsgpAit4tIacv8IuzS05rFnI7o7BY60NOczpPs8sKYMfRXgCyNKUpOGtzzgeyd8WyMl3XZDSnunt1eL0x+cyp7naHw9YogExdsWzaoW+rfEeAl2LEDEPGrDjOp+P2xV3LIfVGMAD8i1Tdu+kCQP5owwAIY4Thy/UHKnIq5BxBxPN5/jaolFIrSjywbnFYfLyuIHVjGk0Y2vHSSEK4DolkZbquIkys1vIFsmpac/sdwBQXd6nH1LEp8wiCHU9nD6AqiSHcPAgB4vz1+GUBAKOCtZ5AwPydL4zHfzrTA8jkpikDgB8/PTSm62GcJusoJoUJsJwe+xjtFu8fTqT3MwGSe6798fF+wIc/nxxpCV41l3XXD90w1Pjy9PhMIuC2E0oqpaSE4H3g+tSioqKioqKioqI8+hf/Mast917HrQAAAABJRU5ErkJggg==\" style=\"height: auto\">\n",
       "              <figcaption style=\"font-size: 0.6em\">1</figcaption>\n",
       "            </figure>\n",
       "        \n",
       "            <figure style=\"margin: 5px !important;\">\n",
       "              <img src=\"data:image/png;base64,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\" style=\"height: auto\">\n",
       "              <figcaption style=\"font-size: 0.6em\">3</figcaption>\n",
       "            </figure>\n",
       "        \n",
       "    </div>"
      ],
      "text/plain": [
       "<IPython.core.display.HTML object>"
      ]
     },
     "execution_count": 396,
     "metadata": {},
     "output_type": "execute_result"
    }
   ],
   "source": [
    "count = 8\n",
    "\n",
    "def get_images_and_labels(df, ids):\n",
    "    image_datas = df.loc[ids]['png']\n",
    "    images = [Image.open(io.BytesIO(image_data)) for image_data in image_datas]\n",
    "    labels = df.loc[ids]['value']\n",
    "    return images, list(labels)\n",
    "\n",
    "def get_some_random_images_and_labels(df, count):\n",
    "    image_ids = RNG.choice(df.index.unique(), count, replace=False)\n",
    "    return get_images_and_labels(df, image_ids)\n",
    "\n",
    "train_images, train_labels = get_some_random_images_and_labels(df_train_images, count)\n",
    "test_images, test_labels = get_some_random_images_and_labels(df_test_images, count)\n",
    "\n",
    "display_images_grid(train_images + test_images, captions=train_labels + test_labels, col_count=count)"
   ]
  },
  {
   "cell_type": "markdown",
   "id": "49a9c189-4620-4fff-b12c-0553540cc48d",
   "metadata": {},
   "source": [
    "# Core logic"
   ]
  },
  {
   "cell_type": "markdown",
   "id": "3e1f9cdd-a16c-4406-9eb6-69a653b84175",
   "metadata": {},
   "source": [
    "## Hyper Parameters"
   ]
  },
  {
   "cell_type": "code",
   "execution_count": 397,
   "id": "8d1303e2-9a31-466c-8eb6-48bd7a0a7fb8",
   "metadata": {},
   "outputs": [],
   "source": [
    "HP_SIGNAL_VEC_LEN = 1024\n",
    "HP_COMBI_SPACE_SIZE = int(np.sqrt(HP_SIGNAL_VEC_LEN))\n",
    "HP_CLUSTER_SIGNALS_PROCESSED_THRES = 50\n",
    "HP_CLUSTER_STATS_LEN_THRES = 10\n",
    "HP_CLUSTER_ACCURACY_THRES = 0.75\n",
    "HP_CLUSTER_BINARIZE_THRES = 0.75\n",
    "HP_POINTS_COUNT = 5000\n",
    "HP_POINT_NON_ZERO_BITS = 100\n",
    "\n",
    "assert HP_COMBI_SPACE_SIZE ** 2 == HP_SIGNAL_VEC_LEN"
   ]
  },
  {
   "cell_type": "markdown",
   "id": "24850512-c1a7-4d52-a17a-bf1a5f7641a7",
   "metadata": {},
   "source": [
    "## Types"
   ]
  },
  {
   "cell_type": "code",
   "execution_count": 398,
   "id": "62aec35b-11c1-4d9a-9cdc-b7315222c610",
   "metadata": {},
   "outputs": [],
   "source": [
    "class ClusterState(StrEnum):\n",
    "    LEARN = auto()\n",
    "    PREPROD = auto()\n",
    "    PROD = auto()\n",
    "\n",
    "class ClusterMeta:\n",
    "    def __init__(self, cluster_ind, cluster_key, output_bit, nu, cycle):\n",
    "        self.state = ClusterState.LEARN\n",
    "        self.cluster_ind = cluster_ind\n",
    "        self.cluster_key = cluster_key\n",
    "        self.output_bit = output_bit\n",
    "        self.nu = nu\n",
    "        self.cycle = cycle\n",
    "        self.ones_count = 0\n",
    "        self.signals_processed = 0\n",
    "        self.stats = Counter()\n",
    "        self.verify_image_ids = {}"
   ]
  },
  {
   "cell_type": "markdown",
   "id": "f70e4714-7395-4a8a-93f7-7248507d6e9f",
   "metadata": {},
   "source": [
    "## Memory"
   ]
  },
  {
   "cell_type": "code",
   "execution_count": 399,
   "id": "385867d3-df1a-44cd-a8b6-ab94e752aad3",
   "metadata": {},
   "outputs": [],
   "source": [
    "CLUSTERS = HdvArray(HP_COMBI_SPACE_SIZE ** 2, xp, dtype='f')\n",
    "CLUSTER_MASKS = HdvArray(HP_COMBI_SPACE_SIZE ** 2, xp, dtype='f')\n",
    "\n",
    "CLUSTER_KEY_TO_CLUSTER_IND = {} # key - cluster key (i.e. pair (output_bit, tuple(input_bits))), value - cluster ind\n",
    "\n",
    "CLUSTER_METAS = {} # key - cluster index, value ClusterMeta instance"
   ]
  },
  {
   "cell_type": "code",
   "execution_count": 400,
   "id": "944a2145-43bc-4ece-b640-e4562074deaf",
   "metadata": {},
   "outputs": [],
   "source": [
    "def gc_memory():\n",
    "    gc.collect()\n",
    "    \n",
    "    if cp.cuda.is_available():\n",
    "        cp.get_default_memory_pool().free_all_blocks()\n",
    "\n",
    "def clear_memory(with_caches=False):\n",
    "    CLUSTER_KEY_TO_CLUSTER_IND.clear()\n",
    "    CLUSTER_METAS.clear()\n",
    "    CLUSTER_MASKS.clear()\n",
    "    CLUSTERS.clear()\n",
    "    \n",
    "    if with_caches:\n",
    "        pass\n",
    "    \n",
    "    gc_memory()"
   ]
  },
  {
   "cell_type": "markdown",
   "id": "652e9f54-23e3-432a-b96f-67992c9bac07",
   "metadata": {},
   "source": [
    "## Combinatorial Space (CS)"
   ]
  },
  {
   "cell_type": "code",
   "execution_count": 401,
   "id": "2d1d727c-338c-4662-a884-5563443e4fce",
   "metadata": {},
   "outputs": [
    {
     "name": "stdout",
     "output_type": "stream",
     "text": [
      "CPU times: user 46.6 ms, sys: 3.89 ms, total: 50.5 ms\n",
      "Wall time: 49.9 ms\n"
     ]
    }
   ],
   "source": [
    "%%time\n",
    "POINTS = []\n",
    "POINT_OUTPUT_BITS = []\n",
    "output_bits = RNG.choice(HP_SIGNAL_VEC_LEN, HP_POINTS_COUNT)\n",
    "\n",
    "for output_bit in output_bits:\n",
    "    point_vec = np.zeros(HP_SIGNAL_VEC_LEN, dtype='f')\n",
    "    non_zero_inds = RNG.choice(HP_SIGNAL_VEC_LEN, HP_POINT_NON_ZERO_BITS, replace=False)\n",
    "    point_vec[non_zero_inds] = 1\n",
    "    POINTS.append(point_vec)\n",
    "    POINT_OUTPUT_BITS.append(output_bit)\n",
    "\n",
    "POINTS = xp_array_to_gpu(np.vstack(POINTS))\n",
    "POINT_OUTPUT_BITS = np.hstack(POINT_OUTPUT_BITS)\n",
    "POINT_INDS = np.arange(POINTS.shape[0])"
   ]
  },
  {
   "cell_type": "code",
   "execution_count": 402,
   "id": "26f1817b-0645-44aa-b90b-74aeede2db33",
   "metadata": {},
   "outputs": [
    {
     "data": {
      "image/png": "[encoded data removed]",
      "text/plain": [
       "<Figure size 640x480 with 2 Axes>"
      ]
     },
     "metadata": {},
     "output_type": "display_data"
    }
   ],
   "source": [
    "point_ind = RNG.choice(POINTS.shape[0])\n",
    "point = POINTS[point_ind]\n",
    "plt.imshow(xp_array_from_gpu(point.reshape(HP_COMBI_SPACE_SIZE, -1)))\n",
    "plt.title(f'Point #{point_ind}, output bit={POINT_OUTPUT_BITS[point_ind]}, non-zero bits={point.sum():.0f}')\n",
    "plt.colorbar();"
   ]
  },
  {
   "cell_type": "markdown",
   "id": "6438e5f1-7eb4-483c-8572-a32543ab348d",
   "metadata": {},
   "source": [
    "## SBV"
   ]
  },
  {
   "cell_type": "raw",
   "id": "c0294e1e-250b-45b4-aa7b-8172ed6328c5",
   "metadata": {},
   "source": [
    "SBV stands for \"sparsed binary vector\""
   ]
  },
  {
   "cell_type": "code",
   "execution_count": 403,
   "id": "b1a43c52-4006-4a8e-a97d-507ee8f69ef7",
   "metadata": {},
   "outputs": [],
   "source": [
    "SBV_NON_ZERO_INDS = 6\n",
    "PIXEL_SBVS = np.zeros((config.sample_size ** 2, HP_SIGNAL_VEC_LEN), dtype='f')\n",
    "\n",
    "for i in range(PIXEL_SBVS.shape[0]):\n",
    "    ii = RNG.choice(HP_SIGNAL_VEC_LEN, SBV_NON_ZERO_INDS, replace=False)\n",
    "    PIXEL_SBVS[i][ii] = 1\n",
    "\n",
    "assert np.all(PIXEL_SBVS.sum(axis=1) == SBV_NON_ZERO_INDS)"
   ]
  },
  {
   "cell_type": "markdown",
   "id": "de73e165-ba51-4050-b4b8-1af91973f3e3",
   "metadata": {},
   "source": [
    "## lambdas"
   ]
  },
  {
   "cell_type": "code",
   "execution_count": 404,
   "id": "9973a30b-4267-42a8-b61c-5c2c869c902c",
   "metadata": {},
   "outputs": [],
   "source": [
    "fetch_si_xy = lambda si: (si.x, si.y)\n",
    "get_sequence = lambda sequences: np.array(list(itertools.chain.from_iterable(sequences)))\n",
    "get_sequences_reading = lambda sequences, seq_reading_code: list(map(lambda r: sequences[r[0]] if r[1] == 0 else list(reversed(sequences[r[0]])), seq_reading_code))\n",
    "get_xy_sequence = lambda sequence, si_ind_dict: np.array(list(map(lambda si_ind: fetch_si_xy(si_ind_dict[si_ind]), sequence)))\n",
    "get_raw_image = lambda image_id: Image.open(io.BytesIO((df_train_images if image_id < 100_000_000 else df_test_images).loc[image_id]['png']))\n",
    "get_cluster_key = lambda output_bit, input_bits: (int(output_bit), tuple(map(int, sorted(input_bits))))\n",
    "signal_elem_ind_to_xy = lambda ind: (int(ind % HP_COMBI_SPACE_SIZE), int(ind // HP_COMBI_SPACE_SIZE))\n",
    "signal_elem_inds_to_xy = lambda inds: list(map(lambda ind: signal_elem_ind_to_xy(ind), inds))\n",
    "get_cluster_logic = lambda cluster_ind: (signal_elem_inds_to_xy(xp_array_from_gpu(xp.argwhere(CLUSTERS.array_active[cluster_ind]).ravel()).astype('i')), signal_elem_ind_to_xy(CLUSTER_METAS[cluster_ind].output_bit))"
   ]
  },
  {
   "cell_type": "markdown",
   "id": "a6579ab9-f958-4519-9eff-82e5e9b4677f",
   "metadata": {},
   "source": [
    "## calc_seq_ipxy"
   ]
  },
  {
   "cell_type": "code",
   "execution_count": 405,
   "id": "442809ec-87e2-47d6-be59-672b60fcd5bc",
   "metadata": {},
   "outputs": [],
   "source": [
    "def calc_seq_ipxy(sequences, si_ind_dict):\n",
    "    unique_pts = {} # Dictionaries preserve insertion order  (https://docs.python.org/3/library/stdtypes.html#typesmapping)\n",
    "        \n",
    "    for sequence in sequences:\n",
    "        xy_sequence = get_xy_sequence(sequence, si_ind_dict)\n",
    "        xy_sequence_fwd = np.roll(xy_sequence, -1, axis=0)\n",
    "        vec_sequence = xy_sequence_fwd - xy_sequence\n",
    "        vec_sequence[-1,:] = 0 # get rid of reciprocal vector which connects tail to tip\n",
    "        vec_len_sequence = np.linalg.norm(vec_sequence, axis=1)\n",
    "        vec_len_sequence_nozero = np.where(vec_len_sequence != 0, vec_len_sequence, 1e-6) # prevent 0 len vectors\n",
    "        norm_vec_sequence = (vec_sequence.T / vec_len_sequence_nozero).T\n",
    "        vec_len_sequence = np.round(vec_len_sequence, decimals=0).astype(int)\n",
    "        \n",
    "        assert len(sequence) == vec_sequence.shape[0]\n",
    "        assert len(sequence) == vec_len_sequence.shape[0]\n",
    "        assert len(sequence) == norm_vec_sequence.shape[0]\n",
    "        \n",
    "        for pt, pt_to, norm_vec, vec_len in zip(xy_sequence, xy_sequence_fwd, norm_vec_sequence, vec_len_sequence):\n",
    "            if vec_len <= 0:\n",
    "                continue\n",
    "\n",
    "            pts = pt + (np.arange(vec_len) * norm_vec[np.newaxis,:].T).T # path interpolation\n",
    "            pts = np.round(pts, decimals=0).astype(int)\n",
    "            pts = np.vstack([pts, pt_to])\n",
    "            unique_pts.update(map(lambda p: (tuple(p), 1), pts))\n",
    "\n",
    "    return np.vstack(list(unique_pts.keys()))"
   ]
  },
  {
   "cell_type": "markdown",
   "id": "2fbb6298-8d85-4d7b-bd1b-db831bd714d0",
   "metadata": {},
   "source": [
    "## calc_seq_bv"
   ]
  },
  {
   "cell_type": "code",
   "execution_count": 406,
   "id": "bf069dce-adf8-453c-be28-b55a61f97627",
   "metadata": {},
   "outputs": [],
   "source": [
    "def calc_seq_bv(seq_xy):\n",
    "    seq_xy = xp_array_to_gpu(seq_xy)\n",
    "    seq_xy = seq_xy * (HP_COMBI_SPACE_SIZE / config.sample_size)\n",
    "    # Leave only points which fit into square defined by HP_COMBI_CLUSTERS_SPACE_SIZE,\n",
    "    # use filtering instead of clipping because clipping tends to introduce false point clustering at the bounadries\n",
    "    seq_xy = xp.round(seq_xy, decimals=0)\n",
    "    ii = xp.all(((seq_xy >= 0) & (seq_xy < HP_COMBI_SPACE_SIZE)), axis=1) \n",
    "    seq_xy = seq_xy[ii]\n",
    "    ind_seq = (seq_xy @ xp.array([1, HP_COMBI_SPACE_SIZE])).astype(int)\n",
    "    bitmap_vec = xp.zeros((HP_COMBI_SPACE_SIZE, HP_COMBI_SPACE_SIZE), dtype='f').ravel()\n",
    "    bitmap_vec[ind_seq] = 1\n",
    "    return bitmap_vec"
   ]
  },
  {
   "cell_type": "markdown",
   "id": "8a7dc09c-d4b0-4fbd-a76d-92684194d275",
   "metadata": {},
   "source": [
    "## calc_seq_sbv"
   ]
  },
  {
   "cell_type": "code",
   "execution_count": 407,
   "id": "f929d080-2398-4055-a1d9-0189f89bee39",
   "metadata": {},
   "outputs": [],
   "source": [
    "def calc_seq_sbv(seq_xy):\n",
    "    seq_xy = xp_array_to_gpu(seq_xy)\n",
    "    ii = xp.all(((seq_xy >= 0) & (seq_xy < config.sample_size)), axis=1) \n",
    "    seq_xy = seq_xy[ii]\n",
    "    ind_seq = (seq_xy @ xp.array([1, config.sample_size])).astype(int)\n",
    "    seq_sbv = xp.where(xp.sum(PIXEL_SBVS[ind_seq], axis=0) > 0, 1, 0) # aka Bloom filter\n",
    "    return seq_sbv"
   ]
  },
  {
   "cell_type": "markdown",
   "id": "76bee177-67c1-4f6d-8ab6-14d652cb5515",
   "metadata": {},
   "source": [
    "## seq_sbv_to_bv"
   ]
  },
  {
   "cell_type": "code",
   "execution_count": 422,
   "id": "3ca199c2-561d-449c-be1a-9662e97ef703",
   "metadata": {},
   "outputs": [],
   "source": [
    "def seq_sbv_to_bv(seq_sbv):\n",
    "    pixel_sbv_inds = xp.argwhere((PIXEL_SBVS @ seq_sbv) >= SBV_NON_ZERO_INDS).ravel()\n",
    "    pixel_sbv_inds = xp_array_from_gpu(pixel_sbv_inds)\n",
    "    seq_bv = np.zeros((config.sample_size, config.sample_size)).ravel()\n",
    "    seq_bv[pixel_sbv_inds] = 1\n",
    "    return seq_bv"
   ]
  },
  {
   "cell_type": "markdown",
   "id": "5d288799-ded2-4d59-a102-d6fec7581575",
   "metadata": {},
   "source": [
    "## get_seq_bv_pair"
   ]
  },
  {
   "cell_type": "code",
   "execution_count": 408,
   "id": "57e7573e-e617-4e98-b4e7-927032d178b5",
   "metadata": {},
   "outputs": [],
   "source": [
    "def get_seq_bv_pair(df_image, transf):\n",
    "    si_ind_dict = pickle.loads(df_image.inner_si_ind_dict)\n",
    "    sequences = pickle.loads(df_image.inner_sequences)\n",
    "    seq_reading_code = tuple(zip(range(len(sequences)), (0,) * len(sequences)))\n",
    "    seq_reading = get_sequences_reading(sequences, seq_reading_code)\n",
    "    seq_ipxy = calc_seq_ipxy(seq_reading, si_ind_dict)\n",
    "    seq_bv = calc_seq_bv(seq_ipxy)\n",
    "\n",
    "    seq_ipxy_transf = np.hstack([seq_ipxy, np.ones(seq_ipxy.shape[0])[:,np.newaxis]]) # make homogeneous coords\n",
    "    seq_ipxy_transf = (transf @ seq_ipxy_transf.T).T[:,:2]\n",
    "    seq_bv_transf = calc_seq_bv(seq_ipxy_transf)\n",
    "    \n",
    "    return seq_bv, seq_bv_transf"
   ]
  },
  {
   "cell_type": "markdown",
   "id": "1f4341be-05a5-42c1-8c1b-cd855427d724",
   "metadata": {},
   "source": [
    "## get_seq_sbv_pair"
   ]
  },
  {
   "cell_type": "code",
   "execution_count": 447,
   "id": "1fa66b17-293e-4681-9058-e2b0ac01d9ab",
   "metadata": {},
   "outputs": [],
   "source": [
    "def get_seq_sbv_pair(df_image, transf):\n",
    "    si_ind_dict = pickle.loads(df_image.inner_si_ind_dict)\n",
    "    sequences = pickle.loads(df_image.inner_sequences)\n",
    "    seq = get_sequence(sequences)\n",
    "    seq_xy = get_xy_sequence(seq, si_ind_dict)\n",
    "    \n",
    "    seq_sbv = calc_seq_sbv(seq_xy)\n",
    "\n",
    "    seq_xy_transf = np.hstack([seq_xy, np.ones(seq_xy.shape[0])[:,np.newaxis]]) # make homogeneous coords\n",
    "    seq_xy_transf = (transf @ seq_xy_transf.T).T[:,:2]\n",
    "    seq_sbv_transf = calc_seq_sbv(seq_xy_transf)\n",
    "    \n",
    "    return seq_sbv, seq_sbv_transf"
   ]
  },
  {
   "cell_type": "markdown",
   "id": "454d74a8-397e-42b6-af1e-18437ef2f791",
   "metadata": {},
   "source": [
    "## .lab hdc"
   ]
  },
  {
   "cell_type": "code",
   "execution_count": 410,
   "id": "8a77cf8e-74e7-408e-83ed-bf28a26b2875",
   "metadata": {},
   "outputs": [],
   "source": [
    "# hdc = Hdc(10_000, xp, dtype='f')\n",
    "# hdc.bundle = hdc.bundle_noties\n",
    "# hdc.cos_sim_threshold = 0.055\n",
    "# hdc.hdist_threshold = 4700\n",
    "\n",
    "hdc = Hdc(1_000, xp, dtype='f')\n",
    "hdc.bundle = hdc.bundle_noties\n",
    "hdc.cos_sim_threshold = 0.10\n",
    "\n",
    "# hdc = Hdc(2_000, xp, dtype='f')\n",
    "# hdc.bundle = hdc.bundle_noties\n",
    "# hdc.cos_sim_threshold = 0.10"
   ]
  },
  {
   "cell_type": "code",
   "execution_count": 411,
   "id": "69ac53e2-f39a-4e59-abfd-2b5eeb834122",
   "metadata": {},
   "outputs": [],
   "source": [
    "PIXEL_HDVS = hdc(config.sample_size ** 2)\n",
    "PIXEL_HDVS_NORM = hdc.normalize(PIXEL_HDVS)"
   ]
  },
  {
   "cell_type": "code",
   "execution_count": 412,
   "id": "af16ae38-e56f-48df-85c5-426649ab275a",
   "metadata": {},
   "outputs": [
    {
     "data": {
      "image/png": "[encoded data removed]",
      "text/plain": [
       "<Figure size 1200x480 with 2 Axes>"
      ]
     },
     "metadata": {},
     "output_type": "display_data"
    }
   ],
   "source": [
    "image_id = RNG.choice(df_train_images.index)\n",
    "image = next(df_train_images.loc[[image_id]].itertuples())\n",
    "si_ind_dict = pickle.loads(image.inner_si_ind_dict)\n",
    "sequences = pickle.loads(image.inner_sequences)\n",
    "seq = get_sequence(sequences)\n",
    "seq_xy = get_xy_sequence(seq, si_ind_dict)\n",
    "ii = xp.all(((seq_xy >= 0) & (seq_xy < config.sample_size)), axis=1) \n",
    "seq_xy = seq_xy[ii]\n",
    "ind_seq = (seq_xy @ xp.array([1, config.sample_size])).astype(int)\n",
    "seq_bv_true = np.zeros((config.sample_size, config.sample_size)).ravel()\n",
    "seq_bv_true[ind_seq] = 1\n",
    "\n",
    "seq_hdv = hdc.bundle(PIXEL_HDVS[ind_seq])\n",
    "seq_hdv_binary = hdc.to_binary(seq_hdv)\n",
    "seq_hdv_bipolar = hdc.to_bipolar(seq_hdv_binary)\n",
    "seq_hdv_bipolar_norm = hdc.normalize(seq_hdv_bipolar)\n",
    "pixel_hdv_inds = np.argwhere((PIXEL_HDVS_NORM @ seq_hdv_bipolar_norm) > hdc.cos_sim_threshold).ravel()\n",
    "seq_bv = np.zeros((config.sample_size, config.sample_size)).ravel()\n",
    "seq_bv[pixel_hdv_inds] = 1\n",
    "\n",
    "error_level = np.count_nonzero(seq_bv != seq_bv_true)\n",
    "\n",
    "fig, (ax1, ax2) = plt.subplots(1, 2)\n",
    "fig.set_figwidth(12)\n",
    "ax1.set_title(f'image_id={image_id}, points={len(ind_seq)}')\n",
    "ax1.imshow(seq_bv_true.reshape(config.sample_size, -1));\n",
    "ax2.set_title(f'err.={error_level}')\n",
    "ax2.set_title(f'N={seq_hdv.shape[0]} / {seq_hdv_binary.sum():.0f}, err.={error_level}')\n",
    "ax2.imshow(seq_bv.reshape(config.sample_size, -1));"
   ]
  },
  {
   "cell_type": "code",
   "execution_count": 413,
   "id": "93bd685d-76e0-4de1-a67b-6a61e9a2c29b",
   "metadata": {},
   "outputs": [
    {
     "data": {
      "image/jpeg": "[encoded data removed]",
      "image/png": "[encoded data removed]",
      "text/plain": [
       "<PIL.PngImagePlugin.PngImageFile image mode=L size=128x128>"
      ]
     },
     "execution_count": 413,
     "metadata": {},
     "output_type": "execute_result"
    }
   ],
   "source": [
    "get_raw_image(image_id)"
   ]
  },
  {
   "cell_type": "markdown",
   "id": "582ad609-9873-4ab3-830f-488d15ecf505",
   "metadata": {},
   "source": [
    "## .lab sbv"
   ]
  },
  {
   "cell_type": "code",
   "execution_count": 423,
   "id": "9d858d2c-11f8-4b20-a572-c9c1edcfaf55",
   "metadata": {},
   "outputs": [
    {
     "data": {
      "image/png": "[encoded data removed]",
      "text/plain": [
       "<Figure size 1200x480 with 2 Axes>"
      ]
     },
     "metadata": {},
     "output_type": "display_data"
    }
   ],
   "source": [
    "# image_id = RNG.choice(df_train_images.index)\n",
    "# image_id = 44917 # 60 points\n",
    "image = next(df_train_images.loc[[image_id]].itertuples())\n",
    "si_ind_dict = pickle.loads(image.inner_si_ind_dict)\n",
    "sequences = pickle.loads(image.inner_sequences)\n",
    "seq = get_sequence(sequences)\n",
    "seq_xy = get_xy_sequence(seq, si_ind_dict)\n",
    "ii = xp.all(((seq_xy >= 0) & (seq_xy < config.sample_size)), axis=1) \n",
    "seq_xy = seq_xy[ii]\n",
    "ind_seq = (seq_xy @ xp.array([1, config.sample_size])).astype(int)\n",
    "seq_bv_true = np.zeros((config.sample_size, config.sample_size)).ravel()\n",
    "seq_bv_true[ind_seq] = 1\n",
    "\n",
    "# seq_sbv = np.where(np.sum(PIXEL_SBVS[ind_seq], axis=0) > 0, 1, 0) # aka Bloom filter\n",
    "seq_sbv = calc_seq_sbv(seq_xy)\n",
    "# pixel_sbv_inds = np.argwhere((PIXEL_SBVS @ seq_sbv) >= SBV_NON_ZERO_INDS).ravel()\n",
    "# seq_bv = np.zeros((config.sample_size, config.sample_size)).ravel()\n",
    "# seq_bv[pixel_sbv_inds] = 1\n",
    "seq_bv = seq_sbv_to_bv(seq_sbv)\n",
    "\n",
    "error_level = np.count_nonzero(seq_bv != seq_bv_true)\n",
    "\n",
    "fig, (ax1, ax2) = plt.subplots(1, 2)\n",
    "fig.set_figwidth(12)\n",
    "ax1.set_title(f'image_id={image_id}, points={len(ind_seq)}')\n",
    "ax1.imshow(seq_bv_true.reshape(config.sample_size, -1))\n",
    "ax2.set_title(f'sbv={seq_sbv.shape[0]} / {seq_sbv.sum()}, non_zero_inds={SBV_NON_ZERO_INDS}, err.={error_level}')\n",
    "ax2.imshow(seq_bv.reshape(config.sample_size, -1));"
   ]
  },
  {
   "cell_type": "code",
   "execution_count": null,
   "id": "2093e4c3-52cb-43c2-a8eb-1bea00414b10",
   "metadata": {},
   "outputs": [],
   "source": []
  },
  {
   "cell_type": "markdown",
   "id": "8a40ec0a-891b-4385-88c3-6699bf574057",
   "metadata": {},
   "source": [
    "# Train"
   ]
  },
  {
   "cell_type": "code",
   "execution_count": 436,
   "id": "4287bb50-b460-4bdd-8d19-322e30669418",
   "metadata": {},
   "outputs": [],
   "source": [
    "move_to_ooc_transf = np.array([\n",
    "    [1, 0, -config.sample_size / 2],\n",
    "    [0, 1, -config.sample_size / 2],\n",
    "    [0, 0, 1]])\n",
    "theta = np.deg2rad(45)\n",
    "cos_theta = math.cos(theta)\n",
    "sin_theta = math.sin(theta)\n",
    "rotation_transf = np.array([\n",
    "    [cos_theta, -sin_theta, 0],\n",
    "    [sin_theta, cos_theta, 0],\n",
    "    [0, 0, 1]\n",
    "])\n",
    "move_to_target_loc_transf = np.array([\n",
    "    [1, 0, config.sample_size / 2],\n",
    "    [0, 1, config.sample_size / 2],\n",
    "    [0, 0, 1]])\n",
    "transf_rot45 = move_to_target_loc_transf @ rotation_transf @ move_to_ooc_transf"
   ]
  },
  {
   "cell_type": "code",
   "execution_count": 437,
   "id": "0e80b056-0944-48cd-82c1-04b246f9551e",
   "metadata": {},
   "outputs": [],
   "source": [
    "transf_offset = np.array([\n",
    "    [1, 0, 10],\n",
    "    [0, 1, 0],\n",
    "    [0, 0, 1]])"
   ]
  },
  {
   "cell_type": "code",
   "execution_count": 438,
   "id": "d53d9c0e-7546-4979-a953-0b8f46f1ce48",
   "metadata": {},
   "outputs": [],
   "source": [
    "# TRANSF = transf_rot45\n",
    "TRANSF = transf_offset"
   ]
  },
  {
   "cell_type": "code",
   "execution_count": 439,
   "id": "145172a9-54d1-4563-a7ab-cde78584810c",
   "metadata": {},
   "outputs": [],
   "source": [
    "LOG.is_enabled = True"
   ]
  },
  {
   "cell_type": "code",
   "execution_count": 451,
   "id": "b5b3a964-acfe-449a-8668-928587811e45",
   "metadata": {},
   "outputs": [],
   "source": [
    "clear_memory(with_caches=True)"
   ]
  },
  {
   "cell_type": "code",
   "execution_count": 452,
   "id": "40a229ad-4719-4074-b4b8-ae25b0ce03c4",
   "metadata": {},
   "outputs": [],
   "source": [
    "cycle_images_count = min(100, len(df_train_images))\n",
    "cycles_count = 1"
   ]
  },
  {
   "cell_type": "code",
   "execution_count": 453,
   "id": "a2366ea9-8171-4373-b8ce-9cc0299c365f",
   "metadata": {},
   "outputs": [
    {
     "data": {
      "application/vnd.jupyter.widget-view+json": {
       "model_id": "e04efce3b9ff46dba4487e81ba068351",
       "version_major": 2,
       "version_minor": 0
      },
      "text/plain": [
       "Cycle:   0%|          | 0/1 [00:00<?, ?it/s]"
      ]
     },
     "metadata": {},
     "output_type": "display_data"
    },
    {
     "data": {
      "application/vnd.jupyter.widget-view+json": {
       "model_id": "",
       "version_major": 2,
       "version_minor": 0
      },
      "text/plain": [
       "Prepare signals:   0%|          | 0/100 [00:00<?, ?it/s]"
      ]
     },
     "metadata": {},
     "output_type": "display_data"
    },
    {
     "data": {
      "application/vnd.jupyter.widget-view+json": {
       "model_id": "",
       "version_major": 2,
       "version_minor": 0
      },
      "text/plain": [
       "Create clusters:   0%|          | 0/100 [00:00<?, ?it/s]"
      ]
     },
     "metadata": {},
     "output_type": "display_data"
    },
    {
     "data": {
      "application/vnd.jupyter.widget-view+json": {
       "model_id": "",
       "version_major": 2,
       "version_minor": 0
      },
      "text/plain": [
       "Learn clusters:   0%|          | 0/100 [00:00<?, ?it/s]"
      ]
     },
     "metadata": {},
     "output_type": "display_data"
    },
    {
     "data": {
      "application/vnd.jupyter.widget-view+json": {
       "model_id": "",
       "version_major": 2,
       "version_minor": 0
      },
      "text/plain": [
       "Promote clusters: 0it [00:00, ?it/s]"
      ]
     },
     "metadata": {},
     "output_type": "display_data"
    },
    {
     "data": {
      "application/vnd.jupyter.widget-view+json": {
       "model_id": "",
       "version_major": 2,
       "version_minor": 0
      },
      "text/plain": [
       "Verify clusters:   0%|          | 0/100 [00:00<?, ?it/s]"
      ]
     },
     "metadata": {},
     "output_type": "display_data"
    }
   ],
   "source": [
    "# %%time\n",
    "prod_cluster_metas = list(filter(lambda c: c.state == ClusterState.PROD, CLUSTER_METAS.values()))\n",
    "unique_prod_cluster_keys = set(map(lambda m: get_cluster_key(m.output_bit, np.argwhere(CLUSTERS.array_active[m.cluster_ind]).ravel()), prod_cluster_metas))\n",
    "\n",
    "for cycle in tqdm(range(cycles_count), desc='Cycle'):\n",
    "    cycle_image_ids = RNG.choice(df_train_images.index, cycle_images_count, replace=False).astype('i')\n",
    "    # cycle_image_ids = [52523]\n",
    "    df_cycle_images = df_train_images.loc[cycle_image_ids]\n",
    "\n",
    "    ###\n",
    "    signals_input = []\n",
    "    signals_output = []\n",
    "    \n",
    "    for image_ind, image in tqdm(enumerate(df_cycle_images.itertuples()), total=len(df_cycle_images), leave=False, desc='Prepare signals'):\n",
    "        seq_sbv_origin, seq_sbv_transf = get_seq_sbv_pair(image, TRANSF)\n",
    "        signals_input.append(seq_sbv_origin)\n",
    "        signals_output.append(seq_sbv_transf)\n",
    "\n",
    "    signals_input = xp.vstack(signals_input)\n",
    "    signals_output = xp_array_from_gpu(xp.vstack(signals_output))\n",
    "\n",
    "    ###\n",
    "    for signal_input, signal_output in tqdm(zip(signals_input, signals_output), total=signals_input.shape[0], leave=False, desc='Create clusters'):\n",
    "        active_points_mask = signal_output[POINT_OUTPUT_BITS] != 0\n",
    "        active_point_inds = POINT_INDS[active_points_mask]\n",
    "        assert active_point_inds.shape[0] > 0\n",
    "        active_points = POINTS[active_point_inds] # subset of POINTS which are connected with active output bits\n",
    "        active_points_signal_input_mat = active_points * signal_input\n",
    "        active_points_signal_input_mask = xp.any(active_points_signal_input_mat, axis=1) # which of active_points have any ON bits within input signal?\n",
    "        active_points_signal_input_mask = xp_array_from_gpu(active_points_signal_input_mask)\n",
    "\n",
    "        for point_ind, subsignal_input, subsignal_input_gpu in zip(active_point_inds[active_points_signal_input_mask], \n",
    "                                                                   xp_array_from_gpu(active_points_signal_input_mat[active_points_signal_input_mask]),\n",
    "                                                                   active_points_signal_input_mat[active_points_signal_input_mask]):\n",
    "            active_output_bit = int(POINT_OUTPUT_BITS[point_ind])\n",
    "            active_input_bits = np.argwhere(subsignal_input).ravel()\n",
    "            cluster_key = get_cluster_key(active_output_bit, active_input_bits)\n",
    "\n",
    "            if cluster_key in CLUSTER_KEY_TO_CLUSTER_IND:\n",
    "                continue\n",
    "\n",
    "            cluster_ind = CLUSTERS.lease()\n",
    "            cluster_mask_ind = CLUSTER_MASKS.lease()\n",
    "            assert cluster_ind == cluster_mask_ind\n",
    "            CLUSTERS.array_active[cluster_ind] = subsignal_input_gpu\n",
    "            CLUSTER_MASKS.array_active[cluster_ind] = subsignal_input_gpu\n",
    "            cluster_meta = ClusterMeta(cluster_ind=cluster_ind, cluster_key=cluster_key, output_bit=active_output_bit, nu=1/subsignal_input.sum(), cycle=cycle)\n",
    "            CLUSTER_METAS[cluster_ind] = cluster_meta\n",
    "            CLUSTER_KEY_TO_CLUSTER_IND[cluster_key] = cluster_ind\n",
    "\n",
    "    ###\n",
    "    learn_cluster_metas = list(filter(lambda c: c.state == ClusterState.LEARN, CLUSTER_METAS.values()))\n",
    "    learn_cluster_inds = np.array(list(map(lambda c: c.cluster_ind, learn_cluster_metas)), dtype='i')\n",
    "    learn_cluster_output_bits = np.array(list(map(lambda c: c.output_bit, learn_cluster_metas)), dtype='i')\n",
    "    \n",
    "    for signal_input, signal_output in tqdm(zip(signals_input, signals_output), total=signals_input.shape[0], leave=False, desc='Learn clusters'):\n",
    "        # this stanza 'signal_output[learn_cluster_output_bits] != 0' effectively produces\n",
    "        # boolean mask for learn_cluster_inds - clusters which are connected to currently active output bits\n",
    "        active_cluster_inds = learn_cluster_inds[signal_output[learn_cluster_output_bits] != 0]\n",
    "\n",
    "        if active_cluster_inds.shape[0] == 0:\n",
    "            continue\n",
    "        \n",
    "        active_clusters = CLUSTERS.array_active[active_cluster_inds] # subset of CLUSTERS which are connected to active bits in signal_output\n",
    "        active_cluster_masks = CLUSTER_MASKS.array_active[active_cluster_inds]\n",
    "        cluster_nus = xp.array(list(map(lambda cluster_ind: CLUSTER_METAS[cluster_ind].nu, active_cluster_inds)))\n",
    "\n",
    "        ys = signal_input @ active_clusters.T # how each cluster reacted on signal_input, ca. shape (35,)\n",
    "        grow = (signal_input * (cluster_nus * ys)[:,np.newaxis]) # how weights within each cluster must grow up in response co signal_input, matrix, ca. shape (35, 1024)\n",
    "        grow *= active_cluster_masks # masking, only allow weights which belong to clusters to grow up, matrix, ca. shape (35, 1024)\n",
    "        nomins = active_clusters + grow # grow weights within clusters\n",
    "        denoms = nomins.max(axis=1) \n",
    "        CLUSTERS.array_active[active_cluster_inds] = (nomins.T / denoms).T # upload new new weights\n",
    "\n",
    "        for cluster_ind in active_cluster_inds:\n",
    "            cluster_meta = CLUSTER_METAS[cluster_ind]\n",
    "            cluster_meta.signals_processed += 1\n",
    "\n",
    "    ### Promote LEARN clusters to PREPROD if they've learned enough\n",
    "    cluster_metas_to_promote = list(filter(lambda c: c.state == ClusterState.LEARN and c.signals_processed > HP_CLUSTER_SIGNALS_PROCESSED_THRES, CLUSTER_METAS.values()))\n",
    "    cluster_inds_to_promote = list(map(lambda c: c.cluster_ind, cluster_metas_to_promote))\n",
    "    binarized_clusters = xp.where(CLUSTERS.array_active[cluster_inds_to_promote] > HP_CLUSTER_BINARIZE_THRES, 1, 0)\n",
    "    binarized_clusters_ones_counts = binarized_clusters.sum(axis=1)\n",
    "    CLUSTERS.array_active[cluster_inds_to_promote] = binarized_clusters\n",
    "    \n",
    "    for cluster_meta, ones_count in tqdm(zip(cluster_metas_to_promote, binarized_clusters_ones_counts), total=len(cluster_metas_to_promote), leave=False, desc='Promote clusters'):\n",
    "        cluster_ind = cluster_meta.cluster_ind\n",
    "        cluster_meta.ones_count = int(ones_count)\n",
    "        assert cluster_meta.ones_count > 0\n",
    "        cluster_meta.state = ClusterState.PREPROD\n",
    "\n",
    "    ### Verify PREPROD cluster against new signals\n",
    "    prod_cluster_metas = list(filter(lambda c: c.state == ClusterState.PREPROD, CLUSTER_METAS.values()))\n",
    "    prod_cluster_inds = np.array(list(map(lambda c: c.cluster_ind, prod_cluster_metas)), dtype='i')\n",
    "    prod_cluster_ones_counts = xp.array(list(map(lambda c: c.ones_count, prod_cluster_metas)), dtype='f')\n",
    "    prod_cluster_output_bits = np.array(list(map(lambda c: c.output_bit, prod_cluster_metas)), dtype='i')\n",
    "    prod_clusters = CLUSTERS.array_active[prod_cluster_inds]\n",
    "    \n",
    "    for signal_input, signal_output, signal_image_id in tqdm(zip(signals_input, signals_output, cycle_image_ids), \n",
    "                                                             total=signals_input.shape[0], leave=False, desc='Verify clusters'):\n",
    "        activated_clusters_mask = xp_array_from_gpu((prod_clusters @ signal_input) >= prod_cluster_ones_counts)\n",
    "        # cast array of output_bit numbers [0, 3, 4, 7, 7, 0, 3, 32, ..] to TP array [True, False, False, True, True, True, False, False, ...]\n",
    "        # where True if output_bit of prod_cluster is enabled in signal_output and False otherwise\n",
    "        prod_cluster_output_bits_tf = signal_output[prod_cluster_output_bits] != 0\n",
    "        \n",
    "        for cluster_ind, tf in zip(prod_cluster_inds[activated_clusters_mask], prod_cluster_output_bits_tf[activated_clusters_mask]):\n",
    "            tf = bool(tf) # not mandatory, but eases further inspections by eyes\n",
    "            signal_image_id = int(signal_image_id)\n",
    "            cluster_meta = CLUSTER_METAS[cluster_ind]\n",
    "\n",
    "            if not signal_image_id in cluster_meta.verify_image_ids:\n",
    "                cluster_meta.stats[tf] += 1\n",
    "                cluster_meta.verify_image_ids[signal_image_id] = tf\n",
    "\n",
    "    ### \n",
    "    ready_for_prod_cluster_metas = list(filter(lambda c: c.state == ClusterState.PREPROD and c.stats.total() > HP_CLUSTER_STATS_LEN_THRES, CLUSTER_METAS.values()))\n",
    "    accurate_ready_for_prod_cluster_metas = filter(lambda c: c.stats[True] / c.stats.total() >= HP_CLUSTER_ACCURACY_THRES, ready_for_prod_cluster_metas)\n",
    "    unneeded_cluster_metas = list(filter(lambda c: c.stats[True] / c.stats.total() < HP_CLUSTER_ACCURACY_THRES, ready_for_prod_cluster_metas))\n",
    "    \n",
    "    for cluster_meta in accurate_ready_for_prod_cluster_metas:\n",
    "        cluster_key_for_prod = get_cluster_key(cluster_meta.output_bit, np.argwhere(CLUSTERS.array_active[cluster_meta.cluster_ind]).ravel())\n",
    "\n",
    "        if cluster_key_for_prod in unique_prod_cluster_keys:\n",
    "            unneeded_cluster_metas.append(cluster_meta)\n",
    "            continue\n",
    "            \n",
    "        cluster_meta.state = ClusterState.PROD\n",
    "        unique_prod_cluster_keys.add(cluster_key_for_prod)\n",
    "\n",
    "    for cluster_meta in unneeded_cluster_metas:\n",
    "        cluster_ind = cluster_meta.cluster_ind\n",
    "        del CLUSTER_KEY_TO_CLUSTER_IND[cluster_meta.cluster_key]\n",
    "        del CLUSTER_METAS[cluster_ind]\n",
    "        CLUSTERS.release(cluster_ind)\n",
    "        CLUSTER_MASKS.release(cluster_ind)"
   ]
  },
  {
   "cell_type": "code",
   "execution_count": 454,
   "id": "cf723882-55c0-49d9-acb7-e50274d2201b",
   "metadata": {},
   "outputs": [
    {
     "data": {
      "image/png": "[encoded data removed]",
      "text/plain": [
       "<Figure size 1200x480 with 2 Axes>"
      ]
     },
     "metadata": {},
     "output_type": "display_data"
    }
   ],
   "source": [
    "signal_ind = RNG.choice(signals_input.shape[0])\n",
    "signal_ind = -1\n",
    "signal_input = xp_array_from_gpu(signals_input[signal_ind])\n",
    "signal_output = signals_output[signal_ind]\n",
    "signal_input = seq_sbv_to_bv(signal_input)\n",
    "signal_output = seq_sbv_to_bv(signal_output)\n",
    "fig, (ax1, ax2) = plt.subplots(1, 2)\n",
    "fig.set_figwidth(12)\n",
    "ax1.imshow(vec_to_square_matrix(signal_input))\n",
    "ax2.imshow(vec_to_square_matrix(signal_output));"
   ]
  },
  {
   "cell_type": "markdown",
   "id": "c4e073c2-0c90-4248-a9fc-57f4f063892f",
   "metadata": {},
   "source": [
    "# Test"
   ]
  },
  {
   "cell_type": "code",
   "execution_count": 24,
   "id": "f2005f19-90c6-489f-9680-f0b72b97bc5c",
   "metadata": {},
   "outputs": [
    {
     "data": {
      "text/plain": [
       "(1127, 1024)"
      ]
     },
     "execution_count": 24,
     "metadata": {},
     "output_type": "execute_result"
    }
   ],
   "source": [
    "# prod_cluster_metas = list(filter(lambda c: c.state == ClusterState.PROD and c.stats[True] > 5, CLUSTER_METAS.values()))\n",
    "prod_cluster_metas = list(filter(lambda c: c.state == ClusterState.PROD, CLUSTER_METAS.values()))\n",
    "prod_cluster_inds = np.array(list(map(lambda c: c.cluster_ind, prod_cluster_metas)), dtype='i')\n",
    "prod_cluster_ones_counts = xp.array(list(map(lambda c: c.ones_count, prod_cluster_metas)), dtype='f')\n",
    "prod_cluster_output_bits = np.array(list(map(lambda c: c.output_bit, prod_cluster_metas)), dtype='i')\n",
    "prod_clusters = CLUSTERS.array_active[prod_cluster_inds]\n",
    "prod_clusters.shape"
   ]
  },
  {
   "cell_type": "code",
   "execution_count": 44,
   "id": "9a743124-b134-445f-8a7c-de08006155f1",
   "metadata": {},
   "outputs": [
    {
     "data": {
      "text/plain": [
       "(([(22, 18), (23, 18)], (25, 18)),\n",
       " {'state': <ClusterState.PROD: 'prod'>,\n",
       "  'cluster_ind': 2,\n",
       "  'cluster_key': (601, (361, 434, 595, 598, 599, 657, 753)),\n",
       "  'output_bit': 601,\n",
       "  'nu': np.float32(0.14285715),\n",
       "  'cycle': 0,\n",
       "  'ones_count': 2,\n",
       "  'signals_processed': 56,\n",
       "  'stats': Counter({True: 11}),\n",
       "  'verify_image_ids': {47014: True,\n",
       "   14352: True,\n",
       "   36824: True,\n",
       "   5295: True,\n",
       "   46041: True,\n",
       "   42784: True,\n",
       "   49595: True,\n",
       "   12614: True,\n",
       "   30822: True,\n",
       "   11357: True,\n",
       "   17629: True}})"
      ]
     },
     "execution_count": 44,
     "metadata": {},
     "output_type": "execute_result"
    }
   ],
   "source": [
    "inspected_ind = 0\n",
    "cluster_ind = prod_cluster_inds[inspected_ind]\n",
    "get_cluster_logic(cluster_ind), vars(CLUSTER_METAS[cluster_ind])"
   ]
  },
  {
   "cell_type": "code",
   "execution_count": 84,
   "id": "9f99c747-b18c-458b-873f-487e347e34a8",
   "metadata": {},
   "outputs": [
    {
     "data": {
      "text/plain": [
       "UniqueCountsResult(values=array([ 0.,  1.,  2.,  3.,  4.,  5.,  6.,  7.,  8.,  9., 10., 11.],\n",
       "      dtype=float32), counts=array([949,  23,  14,  11,   8,   4,   5,   2,   1,   3,   2,   2]))"
      ]
     },
     "execution_count": 84,
     "metadata": {},
     "output_type": "execute_result"
    }
   ],
   "source": [
    "np.unique_counts(seq_bv_out.get())"
   ]
  },
  {
   "cell_type": "code",
   "execution_count": 76,
   "id": "82c262a8-efd8-401b-8c23-db16c94b9274",
   "metadata": {},
   "outputs": [
    {
     "data": {
      "text/plain": [
       "([(13, 22), (14, 22)], (16, 22))"
      ]
     },
     "execution_count": 76,
     "metadata": {},
     "output_type": "execute_result"
    }
   ],
   "source": [
    "get_cluster_logic(prod_cluster_inds[4])"
   ]
  },
  {
   "cell_type": "code",
   "execution_count": 86,
   "id": "7cb47b56-9290-45e7-990a-d8c4f330b756",
   "metadata": {},
   "outputs": [
    {
     "name": "stdout",
     "output_type": "stream",
     "text": [
      "3697 ([(12, 9), (11, 11), (24, 15)], (12, 16)) [[300]\n",
      " [363]\n",
      " [504]]\n"
     ]
    }
   ],
   "source": [
    "for ind in np.argwhere(activated_clusters_mask).ravel():\n",
    "    cl = get_cluster_logic(prod_cluster_inds[ind])\n",
    "\n",
    "    if cl[1][1] == 16 and cl[1][0] < 15:\n",
    "        print(ind, cl, np.argwhere(CLUSTERS.array_active[prod_cluster_inds[3697]]))"
   ]
  },
  {
   "cell_type": "code",
   "execution_count": 88,
   "id": "a5e3bbc6-2c19-4509-aa6a-fd84024fb5af",
   "metadata": {},
   "outputs": [
    {
     "data": {
      "text/plain": [
       "array([1., 1., 1.], dtype=float32)"
      ]
     },
     "execution_count": 88,
     "metadata": {},
     "output_type": "execute_result"
    }
   ],
   "source": [
    "seq_bv[[300, 363, 504]]"
   ]
  },
  {
   "cell_type": "code",
   "execution_count": 25,
   "id": "da374d86-709e-4d82-bc2a-82e50dd790fe",
   "metadata": {},
   "outputs": [
    {
     "name": "stdout",
     "output_type": "stream",
     "text": [
      "CPU times: user 179 ms, sys: 2.8 ms, total: 182 ms\n",
      "Wall time: 21.5 ms\n"
     ]
    },
    {
     "data": {
      "image/png": "[encoded data removed]",
      "text/plain": [
       "<Figure size 1200x480 with 2 Axes>"
      ]
     },
     "metadata": {},
     "output_type": "display_data"
    }
   ],
   "source": [
    "%%time\n",
    "image_id = RNG.choice(df_train_images.index)\n",
    "image = next(df_train_images.loc[[image_id]].itertuples())\n",
    "si_ind_dict = pickle.loads(image.inner_si_ind_dict)\n",
    "sequences = pickle.loads(image.inner_sequences)\n",
    "seq_reading_code = tuple(zip(range(len(sequences)), (0,) * len(sequences)))\n",
    "seq_reading = get_sequences_reading(sequences, seq_reading_code)\n",
    "seq_ipxy = calc_seq_ipxy(seq_reading, si_ind_dict)\n",
    "seq_bv = calc_seq_bv(seq_ipxy)\n",
    "\n",
    "activated_clusters_mask = (prod_clusters @ seq_bv) >= prod_cluster_ones_counts\n",
    "activated_clusters_mask = xp_array_from_gpu(activated_clusters_mask)\n",
    "seq_bv_out = np.zeros_like(seq_bv)\n",
    "# seq_bv_out[prod_cluster_output_bits[activated_clusters_mask]] = 1\n",
    "values = Counter(prod_cluster_output_bits[activated_clusters_mask])\n",
    "seq_bv_out[list(values.keys())] = list(values.values())\n",
    "seq_bv_out = xp.where(seq_bv_out > seq_bv_out.mean(), 1, 0)\n",
    "# seq_bv_out = xp.where(seq_bv_out > np.median(seq_bv_out), 1, 0)\n",
    "\n",
    "fig, (ax1, ax2) = plt.subplots(1, 2)\n",
    "fig.set_figwidth(12)\n",
    "ax1.imshow(xp_array_from_gpu(seq_bv).reshape(32, -1))\n",
    "ax2.imshow(xp_array_from_gpu(seq_bv_out).reshape(32, -1));"
   ]
  }
 ],
 "metadata": {
  "kernelspec": {
   "display_name": "Python 3 (ipykernel)",
   "language": "python",
   "name": "python3"
  },
  "language_info": {
   "codemirror_mode": {
    "name": "ipython",
    "version": 3
   },
   "file_extension": ".py",
   "mimetype": "text/x-python",
   "name": "python",
   "nbconvert_exporter": "python",
   "pygments_lexer": "ipython3",
   "version": "3.12.2"
  }
 },
 "nbformat": 4,
 "nbformat_minor": 5
}
