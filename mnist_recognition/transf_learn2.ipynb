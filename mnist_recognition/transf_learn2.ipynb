{
 "cells": [
  {
   "cell_type": "code",
   "execution_count": 2,
   "id": "27532844-1826-4299-b063-16a22e592f3f",
   "metadata": {},
   "outputs": [],
   "source": [
    "import os, math\n",
    "from enum import StrEnum, auto\n",
    "from collections import defaultdict, namedtuple, Counter\n",
    "import itertools\n",
    "import sqlite3\n",
    "import pickle\n",
    "import datetime\n",
    "import multiprocessing as mp\n",
    "import gc\n",
    "import json\n",
    "from IPython.core.getipython import get_ipython\n",
    "\n",
    "from PIL import Image, ImageDraw\n",
    "from tqdm.notebook import tqdm\n",
    "\n",
    "from sklearn.model_selection import train_test_split\n",
    "from sklearn.decomposition import PCA\n",
    "import matplotlib.pyplot as plt\n",
    "import scipy\n",
    "import numpy as np\n",
    "import cupy as cp\n",
    "import pandas as pd\n",
    "\n",
    "from module.utils import *\n",
    "from module.hdc import *\n",
    "from module.constants import *"
   ]
  },
  {
   "cell_type": "code",
   "execution_count": 3,
   "id": "73358262-adf2-4d17-a383-f120a5d1f8aa",
   "metadata": {},
   "outputs": [
    {
     "name": "stdout",
     "output_type": "stream",
     "text": [
      "xp = cupy\n",
      "transf_learn2.ipynb\n"
     ]
    }
   ],
   "source": [
    "LOG = Logging()\n",
    "\n",
    "config_var = 'SQLITE3_SEQ_GRID_0_2_4096'\n",
    "config = Config(config_var)\n",
    "RNG = np.random.default_rng()\n",
    "mp_ctx = mp.get_context('spawn') # req-d for CUPY to work, 'fork' method leads to failures in bootstrap somewhere around CUDA\n",
    "\n",
    "if cp.cuda.is_available():\n",
    "    xp = cp.get_array_module(cp.empty(1))\n",
    "    xp_array_from_gpu = lambda a: a.get() if isinstance(a, cp.ndarray) else a\n",
    "    xp_array_to_gpu = lambda a: cp.asarray(a) if isinstance(a, np.ndarray) else a\n",
    "    xp_array_to_gpu_copy = lambda a: cp.asarray(a) if isinstance(a, np.ndarray) else a\n",
    "else:\n",
    "    xp = cp.get_array_module(np.empty(1))\n",
    "    xp_array_from_gpu = lambda a: a\n",
    "    xp_array_to_gpu = lambda a: a\n",
    "    xp_array_to_gpu_copy = lambda a: a.copy()\n",
    "\n",
    "print(f'xp = {xp.__name__}')\n",
    "\n",
    "with open(get_ipython().kernel.config['IPKernelApp']['connection_file'], 'r') as cf:\n",
    "    notebook_fname = json.load(cf)['jupyter_session']\n",
    "    notebook_fname = os.path.basename(notebook_fname)\n",
    "\n",
    "print(notebook_fname)"
   ]
  },
  {
   "cell_type": "code",
   "execution_count": 4,
   "id": "656ee6b7-3982-4f99-9251-6b67fef36ae3",
   "metadata": {},
   "outputs": [],
   "source": [
    "%run sequencing_sp2.ipynb"
   ]
  },
  {
   "cell_type": "markdown",
   "id": "d5c8f88a-5403-4177-b5fc-e0e2a1da9c2d",
   "metadata": {},
   "source": [
    "# Open DB"
   ]
  },
  {
   "cell_type": "code",
   "execution_count": 5,
   "id": "d2dd62ab-b44e-4251-9e86-d41b3672e36e",
   "metadata": {},
   "outputs": [
    {
     "name": "stdout",
     "output_type": "stream",
     "text": [
      "CPU times: user 9 μs, sys: 0 ns, total: 9 μs\n",
      "Wall time: 18.8 μs\n"
     ]
    },
    {
     "data": {
      "text/plain": [
       "((10000, 7), (2000, 7))"
      ]
     },
     "execution_count": 5,
     "metadata": {},
     "output_type": "execute_result"
    }
   ],
   "source": [
    "%time\n",
    "train_db_con = sqlite3.connect(DBUtils.get_full_db_file_name(config, config.train_db_file_name))\n",
    "test_db_con = sqlite3.connect(DBUtils.get_full_db_file_name(config, config.test_db_file_name))\n",
    "test_results_db_con = sqlite3.connect(DBUtils.get_full_db_file_name(config, config.test_results_db_file_name, with_prefix=False), autocommit=True)\n",
    "\n",
    "if not DBUtils.is_table_exists(test_results_db_con, 'test_runs'):\n",
    "    test_results_db_con.execute('CREATE TABLE test_runs(test_run_id INTEGER PRIMARY KEY, dummy)')\n",
    "\n",
    "df_train_images = pd.read_sql_query('SELECT * FROM images', con=train_db_con, index_col='image_id')\n",
    "df_test_images = pd.read_sql_query('SELECT * FROM images', con=test_db_con, index_col='image_id')\n",
    "df_train_images.shape, df_test_images.shape"
   ]
  },
  {
   "cell_type": "code",
   "execution_count": 6,
   "id": "70b21219-4f16-4824-90ec-7bda1574c5d1",
   "metadata": {},
   "outputs": [
    {
     "data": {
      "text/html": [
       "<div style=\"\n",
       "        display: grid; \n",
       "        grid-template-columns: repeat(8, 128px);\n",
       "        column-gap: 1px;\n",
       "        row-gap: 1px;\">\n",
       "        \n",
       "            <figure style=\"margin: 5px !important;\">\n",
       "              <img src=\"data:image/png;base64,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\" style=\"height: auto\">\n",
       "              <figcaption style=\"font-size: 0.6em\">2</figcaption>\n",
       "            </figure>\n",
       "        \n",
       "            <figure style=\"margin: 5px !important;\">\n",
       "              <img src=\"data:image/png;base64,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\" style=\"height: auto\">\n",
       "              <figcaption style=\"font-size: 0.6em\">5</figcaption>\n",
       "            </figure>\n",
       "        \n",
       "            <figure style=\"margin: 5px !important;\">\n",
       "              <img src=\"data:image/png;base64,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\" style=\"height: auto\">\n",
       "              <figcaption style=\"font-size: 0.6em\">0</figcaption>\n",
       "            </figure>\n",
       "        \n",
       "            <figure style=\"margin: 5px !important;\">\n",
       "              <img src=\"data:image/png;base64,iVBORw0KGgoAAAANSUhEUgAAAIAAAACACAAAAADmVT4XAAAMkUlEQVR4nO2aWXfbOLLHqwCQ4C5RktfYTqZ75tzv/3nm3LmdmSTetFDcsdZ9cNyd5HiR7JzMi/9vEgDiR6BQLBQA8KY3velNb3rTm970pv+y8GXNGGd435SIiDzRN8WcIQICMsYYMgDvrfPu+zpfJV4GEMSJZEAECOCtMUbr74slR+SBjCMpJQPd1m3fDePPA5DTWR6A98AA7Dj0fWfou+JcMiaSopzkeR5Ac315tboF438WQFgcnMwkWA8MyfRNXXPfflM8OZjHjIf54mgxK6chrf7IA6b6h+Z7DwC8Fw+zo7N38wisQ4aku3q7TeOqdUQEiMgXJ+8WCedhcXh0WJYTpLC5jgPBXgeAMoqiKJIBMpEsjo9LCc4jY2T6uq6bpu7GodcURHE0Pz6eJYIH2XxeZjHCUFdV1QzmARPYA4Al09l0PitihhhOyjIP0BFjDO3Qtd2o+r65vd1SOpsVs/lsEgkeyDyLuBua9b//918fb6rxARPYAyDIj05Pzk4PckaexXEiORIgY+j1OGpHZlh//Hjjy9N38yLPYskZ56Eg1WxuLv/45z8/VUq/DiCfHV9cfLg4nnBviXPOEL8OKXnvkZO6TYLUzS8uFmkUCIEABFa1y8vPnz7+33+u+4cmYFcAHgTy6N3F+/Ozk0P+9T8i8t4b61gYRQAAko0mduXp8TRkQMoaq50Z6uXl5Zcvt/Uj/e8IILKiOP/t7+9PD6f3/TtlnbWqa5WYHi4AACBZUOnT6USC0ePQNl2v1dBsVsvVej080v+OAHJydPT+77+dL7Lo6z+m7ZTRul2v+vDEJQkAABbBwotQWNV3dbVcrptBDUPTtt0w6McevRMAT2en53/7cHFc8K9LedxWzaCU2l5fN1GXLBIA8BCG5J1RY9tUm9ury5ttr0Y9aG3IP2R/uwEgMh6Vh+/enx3NJ4K0cuRJdVVVD0qN9c11G4XH60IwRoDk9di1TV1X6+X11W3daW30Y4O/K0AQxsXpxd8+nCxSAX1dDUrpoW2adlRaddV6iNMvR1EaS0Z27LvtZrOtm7rertdVN9oHnc9eACxMp4uzD79dzDIJqrq+3jR113b9MCqjje4HHedfFsGszAPbrVfr5c1y03Z9P/b9oK17rv9dAJLpwcnZ2buUCxib1eX17e2m7pUxxhrnvKNxeVly7X2kV5dfrq+urqtu1MZ55zwRvnoEkMukmJSzkgOAt3poVpdXm9E6d/96drv8IrwbI7X89Onq+upmO6jnnroXQCDjJI45AAAGMpY0VKtvv+y231zBWE9Ctbq8Wq5WVet273+HZchEIARnAADAo8m8TVF9/4a6vtbbq0So7WrVtO24T/+7+AFEBHIAAMSTUndF9MN33bbQrcIAddc02hq7T/87AJB3RmvjGQAxmaltkYTfA9redgIZmXF8KOp7JQCZsW27flABR+ShT7IsyxJr/zICctopBPRO7zX4OwJ41YTJetsOyBAFyiSdlPO2+9bQPXlAAHKP+ttXAqBcrqqSYcCQg0yni6NhRd+sAwKHAPBQ1P8zAIyHaLW8yZCikKMI48nhqUay3V8A9NL9zS4ARDS268sJ1wfTTDIU8fSoI44Exvk/3/lFL78bAADZYfVv6OrBMRaiSMozHscCqBv3cHivAQBSa99tGiukYCGLSpHlMTrHye635F8OoLfDdmvCLOFEQmRRkQo9avC/DMA53Vs5mUbe2DTmXDK1bQ1DIv3gjvdnAwAA+G71KbJNdwoiBEjKUxvEAVKrno04fhIA2OazqzcjBiHnwLLjMM8Ccqx+PNr7yQC+d/2mwzgNMQowmudFRONI3ptfBEBK9T1mZc5cEUueJBG12wEA/EivcAN75Qdss/6Ss6E/mnMOEJUnHUSSExr7iwDAtVds2LSWhwEDSA58OonQUvsaO9gvQ6Jux2pjgjQWEYdgGs4KpgdL/vng9ycBaN01Sk6nErIo4Gk6C8ZtYwBo+EUABHYrLmeJGxbTPEIQ5dH5IGSAtMMO4GcAAAD0t/+y2+q94zwEiGbvgzIPvO3oBdHQywDMxm1XtZOxgACxOJscxn4cyf8yANd0m9pn8yIAL3gSzee+rXogeNnHeX8AsqBpcn1ThpwL5DyQx2drGwbr2rzky/SyROVQr64nQRgLAACcvlNZmYbQ6Rd4pJcBkKquMplN734lJ+HJXJLBlvb3SC8DQF3fJPF0QQgAJA8mOrFd7+kFkfnLALyqlzIpyyxlHFGIGMx61QN4u7clvnAKdLtiYRxCmeYxAABMT2qMuO1/FYDtwQK64fiY3wHIA1ukvll1z7T8SQBgRzs4p/rGp0UIAMCn4UHYXH6q9l0HLwTwWgOBcz6aTuYAQCxJvP58NGta2m+b8kIAAIC+QuRJHo5hEDLJgE0OTs9po7SxeyyGVwDYgQELA7vN8zxiEkDOL9r4tqq7Qf0SADCd9YzG6uDAFIwFwKfnLru8ulnjHv7gNQDOKc/I9J0hj5gwlp9gkgQMgdz4KwAIqAsEWkvkgAdRmJbA0QPnzJP1u5niawAAwA0VaWutpjBjEHvGEIM4YNYNdrcA4ZUAYDqrjDaaZbMCRMKQBVEiSBkadhuC1wK4QY3GOi9nh2UAAWMijCTqwQDuli/dEeDuwPDunPi7ZJAHZwgZzxYH2YQLnjDB0Y4aw7ACs0OAsiMAE4ILzsg756z7IQJWLWdJkfN5kUuMGZAjOSk/Cd/vYIk7AohIhjLkZJVRSv8QAXvV+DAO3ekxkwDSex7Pj+aRG+0OMdpuAEGcJ3EcMaf6Hsn9aN/G6yBkdiSZRAAhxJPjo8zVlSIFz3mk5wEQUOTTMk8iCbr1+q+LA/ci5/QmFAgyTWYCmWQAqV1dLhXBs055h2x5GCaLo6NJEjDd+EoNyj7w0GEbAISS6yyOGACkk4OTjcXnswfPA4gkL88/nM8i1M1NY5v6RxsEAADbMesY2v5gEQgAADk96YjGZwOU5w8sZLE4+f1/flsEtl7aL/6RoMsrPxgEOxoeZwAAojg2XtVV/1oAmc9Ozj/89vuC95FbRwF7uBpp0zvGyfE4DSSAF9mBM+16o54heBKAMS6Kw7P3F+fH8wIsZyKeLkJrjP8zO0x/LjSCWgTkeBi4IgxEkEy9butRVIN6Kp34NICM0sX7338/P57FYMeus/GR2bZ1OzpkCAjgv3MJFYy9I9cdTCecRx6dNjy/ul2/GIDLvDx5/49/vMszAUNdNSY5TbbLayCLnAECePft0YWvhoHAj5pkzCEJiFhURNQ/ZYlPj4CI8tnxu4uTgKEdh1Fjls7rlFGgmWCESN4Ybf9KUvkB4iwN40ITE1wi42Foqqun+njaCBGZkGmeAAAyHsaMCd9KEW01EwwQyWqltNZ3B1VEnmSAzlpHgICQeO/Gm+TJPp4sJKu1cYQAACjSUlgewFBMT1uLHBGRzNgP4zgqQwBIzlNQHk7T+7XCo1zXecSf6uNJAG/GvuuG0TMAkIUoPHI0i9NeOWSAiKSGtu37ftQeEMARBem0nBd3+3YgFsZpFD6ycncD6Op6W09SRhBksSNAIOfujkqQAamuabqu67UDRPAAQsZpPvkK4Ak55w9eH9oNgJweunqzTr3knD84kl3b9N8AIBeBjLK7USfyzrlnIvSnAbwdm9VVyUyZhQ9XScNoGIZBewAEAkTGRZjEoQAAZF61TaeejE6fBahvCukcix+rExRRrJT9CgCIyISM73CZadbLqn/yXOVpAHCqXUpmMSrSxyqh5NK6+x0pAiAT4s7uXLe5vlq1LwcAIj9UAQeZpjxlzpH3nggAGeOM3YcmGEr4dktMABYYgq/X15dX69cAAIDpK44C1U0WMvBGGU8AGEgZiIAzBEARJQK+v5upRu3Jm82nj398vm2fDEqePznVLVhVf54UaSzs0HaOAFic5amMQsHIY1weFD80UlUzGqNWnz7++3ZTP3qHaCcAsoMb6qskymcTaevN1hIAy8t5kSVxyJzD7ET8AOCa22U7jP3y838+b0f1uhEA5zRWiCxfzBNTLTcGANhkcVDmWSKZM1iYKJt/12R98+Vq2w/t8urzdf9MZL7DBYav5jUaFdvtWn/9YbosjSW3BnPL3BEAOgAAZAB69eXzTd2N3Wa5bp57/B57w44Nrvs6n9Rx3UZhwJzDuK4+TxHudgCIALZeLateKdVun4sI97pXzKTw+n4+hQxFwDl6j0FS5BF+4wj82PeDsc5oNT57uLsHADKkP5PBDBneuwF2d8mG7p9H3nvvgcj7HbMUb3rTm970pje96U1v+m/q/wGm4zdsO0QUBAAAAABJRU5ErkJggg==\" style=\"height: auto\">\n",
       "              <figcaption style=\"font-size: 0.6em\">5</figcaption>\n",
       "            </figure>\n",
       "        \n",
       "            <figure style=\"margin: 5px !important;\">\n",
       "              <img src=\"data:image/png;base64,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\" style=\"height: auto\">\n",
       "              <figcaption style=\"font-size: 0.6em\">2</figcaption>\n",
       "            </figure>\n",
       "        \n",
       "            <figure style=\"margin: 5px !important;\">\n",
       "              <img src=\"data:image/png;base64,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\" style=\"height: auto\">\n",
       "              <figcaption style=\"font-size: 0.6em\">4</figcaption>\n",
       "            </figure>\n",
       "        \n",
       "            <figure style=\"margin: 5px !important;\">\n",
       "              <img src=\"data:image/png;base64,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\" style=\"height: auto\">\n",
       "              <figcaption style=\"font-size: 0.6em\">3</figcaption>\n",
       "            </figure>\n",
       "        \n",
       "            <figure style=\"margin: 5px !important;\">\n",
       "              <img src=\"data:image/png;base64,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\" style=\"height: auto\">\n",
       "              <figcaption style=\"font-size: 0.6em\">6</figcaption>\n",
       "            </figure>\n",
       "        \n",
       "            <figure style=\"margin: 5px !important;\">\n",
       "              <img src=\"data:image/png;base64,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\" style=\"height: auto\">\n",
       "              <figcaption style=\"font-size: 0.6em\">7</figcaption>\n",
       "            </figure>\n",
       "        \n",
       "            <figure style=\"margin: 5px !important;\">\n",
       "              <img src=\"data:image/png;base64,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\" style=\"height: auto\">\n",
       "              <figcaption style=\"font-size: 0.6em\">9</figcaption>\n",
       "            </figure>\n",
       "        \n",
       "            <figure style=\"margin: 5px !important;\">\n",
       "              <img src=\"data:image/png;base64,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\" style=\"height: auto\">\n",
       "              <figcaption style=\"font-size: 0.6em\">8</figcaption>\n",
       "            </figure>\n",
       "        \n",
       "            <figure style=\"margin: 5px !important;\">\n",
       "              <img src=\"data:image/png;base64,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\" style=\"height: auto\">\n",
       "              <figcaption style=\"font-size: 0.6em\">9</figcaption>\n",
       "            </figure>\n",
       "        \n",
       "            <figure style=\"margin: 5px !important;\">\n",
       "              <img src=\"data:image/png;base64,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\" style=\"height: auto\">\n",
       "              <figcaption style=\"font-size: 0.6em\">7</figcaption>\n",
       "            </figure>\n",
       "        \n",
       "            <figure style=\"margin: 5px !important;\">\n",
       "              <img src=\"data:image/png;base64,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\" style=\"height: auto\">\n",
       "              <figcaption style=\"font-size: 0.6em\">3</figcaption>\n",
       "            </figure>\n",
       "        \n",
       "            <figure style=\"margin: 5px !important;\">\n",
       "              <img src=\"data:image/png;base64,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\" style=\"height: auto\">\n",
       "              <figcaption style=\"font-size: 0.6em\">7</figcaption>\n",
       "            </figure>\n",
       "        \n",
       "            <figure style=\"margin: 5px !important;\">\n",
       "              <img src=\"data:image/png;base64,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\" style=\"height: auto\">\n",
       "              <figcaption style=\"font-size: 0.6em\">2</figcaption>\n",
       "            </figure>\n",
       "        \n",
       "    </div>"
      ],
      "text/plain": [
       "<IPython.core.display.HTML object>"
      ]
     },
     "execution_count": 6,
     "metadata": {},
     "output_type": "execute_result"
    }
   ],
   "source": [
    "count = 8\n",
    "\n",
    "def get_images_and_labels(df, ids):\n",
    "    image_datas = df.loc[ids]['png']\n",
    "    images = [Image.open(io.BytesIO(image_data)) for image_data in image_datas]\n",
    "    labels = df.loc[ids]['value']\n",
    "    return images, list(labels)\n",
    "\n",
    "def get_some_random_images_and_labels(df, count):\n",
    "    image_ids = RNG.choice(df.index.unique(), count, replace=False)\n",
    "    return get_images_and_labels(df, image_ids)\n",
    "\n",
    "train_images, train_labels = get_some_random_images_and_labels(df_train_images, count)\n",
    "test_images, test_labels = get_some_random_images_and_labels(df_test_images, count)\n",
    "\n",
    "display_images_grid(train_images + test_images, captions=train_labels + test_labels, col_count=count)"
   ]
  },
  {
   "cell_type": "markdown",
   "id": "49a9c189-4620-4fff-b12c-0553540cc48d",
   "metadata": {},
   "source": [
    "# Core logic"
   ]
  },
  {
   "cell_type": "markdown",
   "id": "3e1f9cdd-a16c-4406-9eb6-69a653b84175",
   "metadata": {},
   "source": [
    "## Hyper Parameters"
   ]
  },
  {
   "cell_type": "code",
   "execution_count": 7,
   "id": "8d1303e2-9a31-466c-8eb6-48bd7a0a7fb8",
   "metadata": {},
   "outputs": [],
   "source": [
    "HP_SIGNAL_VEC_LEN = 1024\n",
    "HP_COMBI_SPACE_SIZE = int(np.sqrt(HP_SIGNAL_VEC_LEN))\n",
    "HP_CLUSTER_SIGNALS_PROCESSED_THRES = 50\n",
    "HP_CLUSTER_STATS_LEN_THRES = 10\n",
    "HP_CLUSTER_ACCURACY_THRES = 0.75\n",
    "HP_CLUSTER_BINARIZE_THRES = 0.75\n",
    "HP_CLUSTER_ONES_COUNT_THRES = 4\n",
    "\n",
    "HP_POINTS_COUNT = 5000\n",
    "HP_POINT_NON_ZERO_BITS = 50\n",
    "\n",
    "assert HP_COMBI_SPACE_SIZE ** 2 == HP_SIGNAL_VEC_LEN"
   ]
  },
  {
   "cell_type": "markdown",
   "id": "24850512-c1a7-4d52-a17a-bf1a5f7641a7",
   "metadata": {},
   "source": [
    "## Types"
   ]
  },
  {
   "cell_type": "code",
   "execution_count": 8,
   "id": "62aec35b-11c1-4d9a-9cdc-b7315222c610",
   "metadata": {},
   "outputs": [],
   "source": [
    "class ClusterState(StrEnum):\n",
    "    LEARN = auto()\n",
    "    PREPROD = auto()\n",
    "    PROD = auto()\n",
    "    DEAD = auto()\n",
    "\n",
    "class ClusterMeta:\n",
    "    def __init__(self, cluster_ind, cluster_key, output_bit, nu, cycle):\n",
    "        self.state = ClusterState.LEARN\n",
    "        self.cluster_ind = cluster_ind\n",
    "        self.cluster_key = cluster_key\n",
    "        self.output_bit = output_bit\n",
    "        self.nu = nu\n",
    "        self.cycle = cycle\n",
    "        self.ones_count = 0\n",
    "        self.signals_processed = 0\n",
    "        self.stats = Counter()\n",
    "        self.verify_image_ids = {}"
   ]
  },
  {
   "cell_type": "markdown",
   "id": "f70e4714-7395-4a8a-93f7-7248507d6e9f",
   "metadata": {},
   "source": [
    "## Memory"
   ]
  },
  {
   "cell_type": "code",
   "execution_count": 9,
   "id": "385867d3-df1a-44cd-a8b6-ab94e752aad3",
   "metadata": {},
   "outputs": [],
   "source": [
    "def log_like_grow(size):\n",
    "    k = math.log(size, 100_000)\n",
    "    new_size = size * 2 if k < 1 else size * 1.1\n",
    "    return int(new_size)\n",
    "\n",
    "CLUSTERS = HdvArray(HP_COMBI_SPACE_SIZE ** 2, xp, dtype='f', grow_policy=log_like_grow)\n",
    "CLUSTER_MASKS = HdvArray(HP_COMBI_SPACE_SIZE ** 2, xp, dtype='f', grow_policy=log_like_grow)\n",
    "\n",
    "CLUSTER_KEY_TO_CLUSTER_IND = {} # key - cluster key (i.e. pair (output_bit, tuple(input_bits))), value - cluster ind\n",
    "\n",
    "CLUSTER_METAS = {} # key - cluster index, value ClusterMeta instance"
   ]
  },
  {
   "cell_type": "code",
   "execution_count": 10,
   "id": "944a2145-43bc-4ece-b640-e4562074deaf",
   "metadata": {},
   "outputs": [],
   "source": [
    "def gc_memory():\n",
    "    gc.collect()\n",
    "    \n",
    "    if cp.cuda.is_available():\n",
    "        cp.get_default_memory_pool().free_all_blocks()\n",
    "\n",
    "def clear_memory(with_caches=False):\n",
    "    CLUSTER_KEY_TO_CLUSTER_IND.clear()\n",
    "    CLUSTER_METAS.clear()\n",
    "    CLUSTER_MASKS.clear()\n",
    "    CLUSTERS.clear()\n",
    "    \n",
    "    if with_caches:\n",
    "        pass\n",
    "    \n",
    "    gc_memory()"
   ]
  },
  {
   "cell_type": "markdown",
   "id": "652e9f54-23e3-432a-b96f-67992c9bac07",
   "metadata": {},
   "source": [
    "## Combinatorial Space (CS)"
   ]
  },
  {
   "cell_type": "code",
   "execution_count": 11,
   "id": "2d1d727c-338c-4662-a884-5563443e4fce",
   "metadata": {},
   "outputs": [
    {
     "name": "stdout",
     "output_type": "stream",
     "text": [
      "CPU times: user 122 ms, sys: 39.1 ms, total: 161 ms\n",
      "Wall time: 160 ms\n"
     ]
    }
   ],
   "source": [
    "%%time\n",
    "POINTS = []\n",
    "POINT_OUTPUT_BITS = []\n",
    "output_bits = RNG.choice(HP_SIGNAL_VEC_LEN, HP_POINTS_COUNT)\n",
    "\n",
    "for output_bit in output_bits:\n",
    "    point_vec = np.zeros(HP_SIGNAL_VEC_LEN, dtype='f')\n",
    "    non_zero_inds = RNG.choice(HP_SIGNAL_VEC_LEN, HP_POINT_NON_ZERO_BITS, replace=False)\n",
    "    point_vec[non_zero_inds] = 1\n",
    "    POINTS.append(point_vec)\n",
    "    POINT_OUTPUT_BITS.append(output_bit)\n",
    "\n",
    "POINTS = xp_array_to_gpu(np.vstack(POINTS))\n",
    "POINT_OUTPUT_BITS = np.hstack(POINT_OUTPUT_BITS)\n",
    "POINT_INDS = np.arange(POINTS.shape[0])"
   ]
  },
  {
   "cell_type": "code",
   "execution_count": 12,
   "id": "26f1817b-0645-44aa-b90b-74aeede2db33",
   "metadata": {},
   "outputs": [
    {
     "data": {
      "image/png": "[encoded data removed]",
      "text/plain": [
       "<Figure size 640x480 with 2 Axes>"
      ]
     },
     "metadata": {},
     "output_type": "display_data"
    }
   ],
   "source": [
    "point_ind = RNG.choice(POINTS.shape[0])\n",
    "point = POINTS[point_ind]\n",
    "plt.imshow(xp_array_from_gpu(point.reshape(HP_COMBI_SPACE_SIZE, -1)))\n",
    "plt.title(f'Point #{point_ind}, output bit={POINT_OUTPUT_BITS[point_ind]}, non-zero bits={point.sum():.0f}')\n",
    "plt.colorbar();"
   ]
  },
  {
   "cell_type": "markdown",
   "id": "6438e5f1-7eb4-483c-8572-a32543ab348d",
   "metadata": {},
   "source": [
    "## SBV"
   ]
  },
  {
   "cell_type": "raw",
   "id": "c0294e1e-250b-45b4-aa7b-8172ed6328c5",
   "metadata": {},
   "source": [
    "SBV stands for \"sparsed binary vector\""
   ]
  },
  {
   "cell_type": "code",
   "execution_count": 13,
   "id": "b1a43c52-4006-4a8e-a97d-507ee8f69ef7",
   "metadata": {},
   "outputs": [],
   "source": [
    "SBV_NON_ZERO_INDS = 6\n",
    "PIXEL_SBVS = xp.zeros((config.sample_size ** 2, HP_SIGNAL_VEC_LEN), dtype='f')\n",
    "\n",
    "for i in range(PIXEL_SBVS.shape[0]):\n",
    "    ii = RNG.choice(HP_SIGNAL_VEC_LEN, SBV_NON_ZERO_INDS, replace=False)\n",
    "    PIXEL_SBVS[i][ii] = 1\n",
    "\n",
    "assert xp.all(PIXEL_SBVS.sum(axis=1) == SBV_NON_ZERO_INDS)"
   ]
  },
  {
   "cell_type": "markdown",
   "id": "de73e165-ba51-4050-b4b8-1af91973f3e3",
   "metadata": {},
   "source": [
    "## lambdas"
   ]
  },
  {
   "cell_type": "code",
   "execution_count": 14,
   "id": "9973a30b-4267-42a8-b61c-5c2c869c902c",
   "metadata": {},
   "outputs": [],
   "source": [
    "fetch_si_xy = lambda si: (si.x, si.y)\n",
    "get_sequence = lambda sequences: np.array(list(itertools.chain.from_iterable(sequences)))\n",
    "get_sequences_reading = lambda sequences, seq_reading_code: list(map(lambda r: sequences[r[0]] if r[1] == 0 else list(reversed(sequences[r[0]])), seq_reading_code))\n",
    "get_xy_sequence = lambda sequence, si_ind_dict: np.array(list(map(lambda si_ind: fetch_si_xy(si_ind_dict[si_ind]), sequence)))\n",
    "get_raw_image = lambda image_id: Image.open(io.BytesIO((df_train_images if image_id < 100_000_000 else df_test_images).loc[image_id]['png']))\n",
    "get_cluster_key = lambda output_bit, input_bits: (int(output_bit), tuple(map(int, sorted(input_bits))))\n",
    "signal_elem_ind_to_xy = lambda ind: (int(ind % HP_COMBI_SPACE_SIZE), int(ind // HP_COMBI_SPACE_SIZE))\n",
    "signal_elem_inds_to_xy = lambda inds: list(map(lambda ind: signal_elem_ind_to_xy(ind), inds))\n",
    "get_cluster_logic = lambda cluster_ind: (signal_elem_inds_to_xy(xp_array_from_gpu(xp.argwhere(CLUSTERS.array_active[cluster_ind]).ravel()).astype('i')), signal_elem_ind_to_xy(CLUSTER_METAS[cluster_ind].output_bit))"
   ]
  },
  {
   "cell_type": "markdown",
   "id": "a6579ab9-f958-4519-9eff-82e5e9b4677f",
   "metadata": {},
   "source": [
    "## calc_seq_ipxy"
   ]
  },
  {
   "cell_type": "code",
   "execution_count": 15,
   "id": "442809ec-87e2-47d6-be59-672b60fcd5bc",
   "metadata": {},
   "outputs": [],
   "source": [
    "def calc_seq_ipxy(sequences, si_ind_dict):\n",
    "    unique_pts = {} # Dictionaries preserve insertion order  (https://docs.python.org/3/library/stdtypes.html#typesmapping)\n",
    "        \n",
    "    for sequence in sequences:\n",
    "        xy_sequence = get_xy_sequence(sequence, si_ind_dict)\n",
    "        xy_sequence_fwd = np.roll(xy_sequence, -1, axis=0)\n",
    "        vec_sequence = xy_sequence_fwd - xy_sequence\n",
    "        vec_sequence[-1,:] = 0 # get rid of reciprocal vector which connects tail to tip\n",
    "        vec_len_sequence = np.linalg.norm(vec_sequence, axis=1)\n",
    "        vec_len_sequence_nozero = np.where(vec_len_sequence != 0, vec_len_sequence, 1e-6) # prevent 0 len vectors\n",
    "        norm_vec_sequence = (vec_sequence.T / vec_len_sequence_nozero).T\n",
    "        vec_len_sequence = np.round(vec_len_sequence, decimals=0).astype(int)\n",
    "        \n",
    "        assert len(sequence) == vec_sequence.shape[0]\n",
    "        assert len(sequence) == vec_len_sequence.shape[0]\n",
    "        assert len(sequence) == norm_vec_sequence.shape[0]\n",
    "        \n",
    "        for pt, pt_to, norm_vec, vec_len in zip(xy_sequence, xy_sequence_fwd, norm_vec_sequence, vec_len_sequence):\n",
    "            if vec_len <= 0:\n",
    "                continue\n",
    "\n",
    "            pts = pt + (np.arange(vec_len) * norm_vec[np.newaxis,:].T).T # path interpolation\n",
    "            pts = np.round(pts, decimals=0).astype(int)\n",
    "            pts = np.vstack([pts, pt_to])\n",
    "            unique_pts.update(map(lambda p: (tuple(p), 1), pts))\n",
    "\n",
    "    return np.vstack(list(unique_pts.keys()))"
   ]
  },
  {
   "cell_type": "markdown",
   "id": "2fbb6298-8d85-4d7b-bd1b-db831bd714d0",
   "metadata": {},
   "source": [
    "## calc_seq_bv"
   ]
  },
  {
   "cell_type": "code",
   "execution_count": 16,
   "id": "bf069dce-adf8-453c-be28-b55a61f97627",
   "metadata": {},
   "outputs": [],
   "source": [
    "def calc_seq_bv(seq_xy):\n",
    "    seq_xy = xp_array_to_gpu(seq_xy)\n",
    "    seq_xy = seq_xy * (HP_COMBI_SPACE_SIZE / config.sample_size)\n",
    "    # Leave only points which fit into square defined by HP_COMBI_CLUSTERS_SPACE_SIZE,\n",
    "    # use filtering instead of clipping because clipping tends to introduce false point clustering at the bounadries\n",
    "    seq_xy = xp.round(seq_xy, decimals=0)\n",
    "    ii = xp.all(((seq_xy >= 0) & (seq_xy < HP_COMBI_SPACE_SIZE)), axis=1) \n",
    "    seq_xy = seq_xy[ii]\n",
    "    ind_seq = (seq_xy @ xp.array([1, HP_COMBI_SPACE_SIZE])).astype(int)\n",
    "    bitmap_vec = xp.zeros((HP_COMBI_SPACE_SIZE, HP_COMBI_SPACE_SIZE), dtype='f').ravel()\n",
    "    bitmap_vec[ind_seq] = 1\n",
    "    return bitmap_vec"
   ]
  },
  {
   "cell_type": "markdown",
   "id": "8a7dc09c-d4b0-4fbd-a76d-92684194d275",
   "metadata": {},
   "source": [
    "## calc_seq_sbv"
   ]
  },
  {
   "cell_type": "code",
   "execution_count": 17,
   "id": "f929d080-2398-4055-a1d9-0189f89bee39",
   "metadata": {},
   "outputs": [],
   "source": [
    "def calc_seq_sbv(seq_xy):\n",
    "    seq_xy = xp_array_to_gpu(seq_xy)\n",
    "    ii = xp.all(((seq_xy >= 0) & (seq_xy < config.sample_size)), axis=1) \n",
    "    seq_xy = seq_xy[ii]\n",
    "    ind_seq = (seq_xy @ xp.array([1, config.sample_size])).astype(int)\n",
    "    seq_sbv = xp.where(xp.sum(PIXEL_SBVS[ind_seq], axis=0) > 0, 1, 0) # aka Bloom filter\n",
    "    return seq_sbv"
   ]
  },
  {
   "cell_type": "markdown",
   "id": "76bee177-67c1-4f6d-8ab6-14d652cb5515",
   "metadata": {},
   "source": [
    "## seq_sbv_to_bv"
   ]
  },
  {
   "cell_type": "code",
   "execution_count": 18,
   "id": "3ca199c2-561d-449c-be1a-9662e97ef703",
   "metadata": {},
   "outputs": [],
   "source": [
    "def seq_sbv_to_bv(seq_sbv):\n",
    "    pixel_sbv_inds = xp.argwhere((PIXEL_SBVS @ seq_sbv) >= SBV_NON_ZERO_INDS).ravel()\n",
    "    pixel_sbv_inds = xp_array_from_gpu(pixel_sbv_inds)\n",
    "    seq_bv = np.zeros((config.sample_size, config.sample_size)).ravel()\n",
    "    seq_bv[pixel_sbv_inds] = 1\n",
    "    return seq_bv"
   ]
  },
  {
   "cell_type": "markdown",
   "id": "5d288799-ded2-4d59-a102-d6fec7581575",
   "metadata": {},
   "source": [
    "## get_seq_bv_pair"
   ]
  },
  {
   "cell_type": "code",
   "execution_count": 19,
   "id": "57e7573e-e617-4e98-b4e7-927032d178b5",
   "metadata": {},
   "outputs": [],
   "source": [
    "def get_seq_bv_pair(df_image, transf):\n",
    "    si_ind_dict = pickle.loads(df_image.inner_si_ind_dict)\n",
    "    sequences = pickle.loads(df_image.inner_sequences)\n",
    "    seq_reading_code = tuple(zip(range(len(sequences)), (0,) * len(sequences)))\n",
    "    seq_reading = get_sequences_reading(sequences, seq_reading_code)\n",
    "    seq_ipxy = calc_seq_ipxy(seq_reading, si_ind_dict)\n",
    "    seq_bv = calc_seq_bv(seq_ipxy)\n",
    "\n",
    "    seq_ipxy_transf = np.hstack([seq_ipxy, np.ones(seq_ipxy.shape[0])[:,np.newaxis]]) # make homogeneous coords\n",
    "    seq_ipxy_transf = (transf @ seq_ipxy_transf.T).T[:,:2]\n",
    "    seq_bv_transf = calc_seq_bv(seq_ipxy_transf)\n",
    "    \n",
    "    return seq_bv, seq_bv_transf"
   ]
  },
  {
   "cell_type": "markdown",
   "id": "1f4341be-05a5-42c1-8c1b-cd855427d724",
   "metadata": {},
   "source": [
    "## get_seq_sbv_pair"
   ]
  },
  {
   "cell_type": "code",
   "execution_count": 20,
   "id": "1fa66b17-293e-4681-9058-e2b0ac01d9ab",
   "metadata": {},
   "outputs": [],
   "source": [
    "def get_seq_sbv_pair(df_image, transf):\n",
    "    si_ind_dict = pickle.loads(df_image.inner_si_ind_dict)\n",
    "    sequences = pickle.loads(df_image.inner_sequences)\n",
    "    seq = get_sequence(sequences)\n",
    "    seq_xy = get_xy_sequence(seq, si_ind_dict)\n",
    "    \n",
    "    seq_sbv = calc_seq_sbv(seq_xy)\n",
    "\n",
    "    seq_xy_transf = np.hstack([seq_xy, np.ones(seq_xy.shape[0])[:,np.newaxis]]) # make homogeneous coords\n",
    "    seq_xy_transf = (transf @ seq_xy_transf.T).T[:,:2]\n",
    "    seq_sbv_transf = calc_seq_sbv(seq_xy_transf)\n",
    "    \n",
    "    return seq_sbv, seq_sbv_transf"
   ]
  },
  {
   "cell_type": "markdown",
   "id": "454d74a8-397e-42b6-af1e-18437ef2f791",
   "metadata": {},
   "source": [
    "## .lab hdc"
   ]
  },
  {
   "cell_type": "code",
   "execution_count": 21,
   "id": "8a77cf8e-74e7-408e-83ed-bf28a26b2875",
   "metadata": {},
   "outputs": [],
   "source": [
    "# hdc = Hdc(10_000, np, dtype='f')\n",
    "# hdc.bundle = hdc.bundle_noties\n",
    "# hdc.cos_sim_threshold = 0.055\n",
    "# hdc.hdist_threshold = 4700\n",
    "\n",
    "hdc = Hdc(1_000, np, dtype='f')\n",
    "hdc.bundle = hdc.bundle_noties\n",
    "hdc.cos_sim_threshold = 0.10\n",
    "\n",
    "# hdc = Hdc(2_000, np, dtype='f')\n",
    "# hdc.bundle = hdc.bundle_noties\n",
    "# hdc.cos_sim_threshold = 0.10"
   ]
  },
  {
   "cell_type": "code",
   "execution_count": 22,
   "id": "69ac53e2-f39a-4e59-abfd-2b5eeb834122",
   "metadata": {},
   "outputs": [],
   "source": [
    "PIXEL_HDVS = hdc(config.sample_size ** 2)\n",
    "PIXEL_HDVS_NORM = hdc.normalize(PIXEL_HDVS)"
   ]
  },
  {
   "cell_type": "code",
   "execution_count": 23,
   "id": "af16ae38-e56f-48df-85c5-426649ab275a",
   "metadata": {},
   "outputs": [
    {
     "data": {
      "image/png": "[encoded data removed]",
      "text/plain": [
       "<Figure size 1200x480 with 2 Axes>"
      ]
     },
     "metadata": {},
     "output_type": "display_data"
    }
   ],
   "source": [
    "image_id = RNG.choice(df_train_images.index)\n",
    "image = next(df_train_images.loc[[image_id]].itertuples())\n",
    "si_ind_dict = pickle.loads(image.inner_si_ind_dict)\n",
    "sequences = pickle.loads(image.inner_sequences)\n",
    "seq = get_sequence(sequences)\n",
    "seq_xy = get_xy_sequence(seq, si_ind_dict)\n",
    "ii = np.all(((seq_xy >= 0) & (seq_xy < config.sample_size)), axis=1) \n",
    "seq_xy = seq_xy[ii]\n",
    "ind_seq = (seq_xy @ np.array([1, config.sample_size])).astype(int)\n",
    "seq_bv_true = np.zeros((config.sample_size, config.sample_size)).ravel()\n",
    "seq_bv_true[ind_seq] = 1\n",
    "\n",
    "seq_hdv = hdc.bundle(PIXEL_HDVS[ind_seq])\n",
    "seq_hdv_binary = hdc.to_binary(seq_hdv)\n",
    "seq_hdv_bipolar = hdc.to_bipolar(seq_hdv_binary)\n",
    "seq_hdv_bipolar_norm = hdc.normalize(seq_hdv_bipolar)\n",
    "pixel_hdv_inds = np.argwhere((PIXEL_HDVS_NORM @ seq_hdv_bipolar_norm) > hdc.cos_sim_threshold).ravel()\n",
    "seq_bv = np.zeros((config.sample_size, config.sample_size)).ravel()\n",
    "seq_bv[pixel_hdv_inds] = 1\n",
    "\n",
    "error_level = np.count_nonzero(seq_bv != seq_bv_true)\n",
    "\n",
    "fig, (ax1, ax2) = plt.subplots(1, 2)\n",
    "fig.set_figwidth(12)\n",
    "ax1.set_title(f'image_id={image_id}, points={len(ind_seq)}')\n",
    "ax1.imshow(seq_bv_true.reshape(config.sample_size, -1));\n",
    "ax2.set_title(f'err.={error_level}')\n",
    "ax2.set_title(f'N={seq_hdv.shape[0]} / {seq_hdv_binary.sum():.0f}, err.={error_level}')\n",
    "ax2.imshow(seq_bv.reshape(config.sample_size, -1));"
   ]
  },
  {
   "cell_type": "code",
   "execution_count": 24,
   "id": "93bd685d-76e0-4de1-a67b-6a61e9a2c29b",
   "metadata": {},
   "outputs": [
    {
     "data": {
      "image/jpeg": "[encoded data removed]",
      "image/png": "[encoded data removed]",
      "text/plain": [
       "<PIL.PngImagePlugin.PngImageFile image mode=L size=128x128>"
      ]
     },
     "execution_count": 24,
     "metadata": {},
     "output_type": "execute_result"
    }
   ],
   "source": [
    "get_raw_image(image_id)"
   ]
  },
  {
   "cell_type": "markdown",
   "id": "582ad609-9873-4ab3-830f-488d15ecf505",
   "metadata": {},
   "source": [
    "## .lab sbv"
   ]
  },
  {
   "cell_type": "code",
   "execution_count": 25,
   "id": "9d858d2c-11f8-4b20-a572-c9c1edcfaf55",
   "metadata": {},
   "outputs": [
    {
     "data": {
      "image/png": "[encoded data removed]",
      "text/plain": [
       "<Figure size 1200x480 with 2 Axes>"
      ]
     },
     "metadata": {},
     "output_type": "display_data"
    }
   ],
   "source": [
    "# image_id = RNG.choice(df_train_images.index)\n",
    "# image_id = 44917 # 60 points\n",
    "image = next(df_train_images.loc[[image_id]].itertuples())\n",
    "si_ind_dict = pickle.loads(image.inner_si_ind_dict)\n",
    "sequences = pickle.loads(image.inner_sequences)\n",
    "seq = get_sequence(sequences)\n",
    "seq_xy = get_xy_sequence(seq, si_ind_dict)\n",
    "ii = np.all(((seq_xy >= 0) & (seq_xy < config.sample_size)), axis=1) \n",
    "seq_xy = seq_xy[ii]\n",
    "ind_seq = (seq_xy @ np.array([1, config.sample_size])).astype(int)\n",
    "seq_bv_true = np.zeros((config.sample_size, config.sample_size)).ravel()\n",
    "seq_bv_true[ind_seq] = 1\n",
    "\n",
    "# seq_sbv = np.where(np.sum(PIXEL_SBVS[ind_seq], axis=0) > 0, 1, 0) # aka Bloom filter\n",
    "seq_sbv = calc_seq_sbv(seq_xy)\n",
    "# pixel_sbv_inds = np.argwhere((PIXEL_SBVS @ seq_sbv) >= SBV_NON_ZERO_INDS).ravel()\n",
    "# seq_bv = np.zeros((config.sample_size, config.sample_size)).ravel()\n",
    "# seq_bv[pixel_sbv_inds] = 1\n",
    "seq_bv = seq_sbv_to_bv(seq_sbv)\n",
    "\n",
    "error_level = np.count_nonzero(seq_bv != seq_bv_true)\n",
    "\n",
    "fig, (ax1, ax2) = plt.subplots(1, 2)\n",
    "fig.set_figwidth(12)\n",
    "ax1.set_title(f'image_id={image_id}, points={len(ind_seq)}')\n",
    "ax1.imshow(seq_bv_true.reshape(config.sample_size, -1))\n",
    "ax2.set_title(f'sbv={seq_sbv.shape[0]} / {seq_sbv.sum()}, non_zero_inds={SBV_NON_ZERO_INDS}, err.={error_level}')\n",
    "ax2.imshow(seq_bv.reshape(config.sample_size, -1));"
   ]
  },
  {
   "cell_type": "code",
   "execution_count": null,
   "id": "2093e4c3-52cb-43c2-a8eb-1bea00414b10",
   "metadata": {},
   "outputs": [],
   "source": []
  },
  {
   "cell_type": "markdown",
   "id": "8a40ec0a-891b-4385-88c3-6699bf574057",
   "metadata": {},
   "source": [
    "# Train"
   ]
  },
  {
   "cell_type": "code",
   "execution_count": 26,
   "id": "4287bb50-b460-4bdd-8d19-322e30669418",
   "metadata": {},
   "outputs": [],
   "source": [
    "move_to_ooc_transf = np.array([\n",
    "    [1, 0, -config.sample_size / 2],\n",
    "    [0, 1, -config.sample_size / 2],\n",
    "    [0, 0, 1]])\n",
    "theta = np.deg2rad(45)\n",
    "cos_theta = math.cos(theta)\n",
    "sin_theta = math.sin(theta)\n",
    "rotation_transf = np.array([\n",
    "    [cos_theta, -sin_theta, 0],\n",
    "    [sin_theta, cos_theta, 0],\n",
    "    [0, 0, 1]\n",
    "])\n",
    "move_to_target_loc_transf = np.array([\n",
    "    [1, 0, config.sample_size / 2],\n",
    "    [0, 1, config.sample_size / 2],\n",
    "    [0, 0, 1]])\n",
    "transf_rot45 = move_to_target_loc_transf @ rotation_transf @ move_to_ooc_transf"
   ]
  },
  {
   "cell_type": "code",
   "execution_count": 27,
   "id": "0e80b056-0944-48cd-82c1-04b246f9551e",
   "metadata": {},
   "outputs": [],
   "source": [
    "transf_offset = np.array([\n",
    "    [1, 0, 10],\n",
    "    [0, 1, 0],\n",
    "    [0, 0, 1]])"
   ]
  },
  {
   "cell_type": "code",
   "execution_count": 28,
   "id": "d53d9c0e-7546-4979-a953-0b8f46f1ce48",
   "metadata": {},
   "outputs": [],
   "source": [
    "# TRANSF = transf_rot45\n",
    "TRANSF = transf_offset"
   ]
  },
  {
   "cell_type": "code",
   "execution_count": 29,
   "id": "145172a9-54d1-4563-a7ab-cde78584810c",
   "metadata": {},
   "outputs": [],
   "source": [
    "LOG.is_enabled = True"
   ]
  },
  {
   "cell_type": "code",
   "execution_count": 30,
   "id": "b5b3a964-acfe-449a-8668-928587811e45",
   "metadata": {},
   "outputs": [],
   "source": [
    "clear_memory(with_caches=True)"
   ]
  },
  {
   "cell_type": "code",
   "execution_count": 37,
   "id": "40a229ad-4719-4074-b4b8-ae25b0ce03c4",
   "metadata": {},
   "outputs": [],
   "source": [
    "cycle_images_count = min(50, len(df_train_images))\n",
    "cycles_count = 30"
   ]
  },
  {
   "cell_type": "code",
   "execution_count": 38,
   "id": "b4697dfc-cda8-4f15-a003-edebae4c86d1",
   "metadata": {},
   "outputs": [],
   "source": [
    "# Counter(map(lambda m: m.ones_count, CLUSTER_METAS.values()))"
   ]
  },
  {
   "cell_type": "code",
   "execution_count": 41,
   "id": "8d50659f-5d22-4cd6-903e-fdab294c9bd1",
   "metadata": {},
   "outputs": [
    {
     "data": {
      "text/plain": [
       "Counter({0: 193277,\n",
       "         1: 96362,\n",
       "         2: 52258,\n",
       "         3: 31045,\n",
       "         4: 18009,\n",
       "         5: 10300,\n",
       "         6: 5286,\n",
       "         7: 2615,\n",
       "         8: 1177,\n",
       "         9: 526})"
      ]
     },
     "execution_count": 41,
     "metadata": {},
     "output_type": "execute_result"
    }
   ],
   "source": [
    "# Counter(map(lambda m: m.stats.total(), filter(lambda m: m.state == ClusterState.PREPROD, CLUSTER_METAS.values())))"
   ]
  },
  {
   "cell_type": "code",
   "execution_count": null,
   "id": "b891735a-16e4-46a0-9d02-c4a446ab6306",
   "metadata": {},
   "outputs": [],
   "source": []
  },
  {
   "cell_type": "code",
   "execution_count": 40,
   "id": "a2366ea9-8171-4373-b8ce-9cc0299c365f",
   "metadata": {},
   "outputs": [
    {
     "data": {
      "application/vnd.jupyter.widget-view+json": {
       "model_id": "9588e3a4214141dfa531f37b8c233f9e",
       "version_major": 2,
       "version_minor": 0
      },
      "text/plain": [
       "Cycle:   0%|          | 0/30 [00:00<?, ?it/s]"
      ]
     },
     "metadata": {},
     "output_type": "display_data"
    },
    {
     "data": {
      "application/vnd.jupyter.widget-view+json": {
       "model_id": "5c2639587dc040cdbc205077bc26bbdc",
       "version_major": 2,
       "version_minor": 0
      },
      "text/plain": [
       "Prepare signals:   0%|          | 0/50 [00:00<?, ?it/s]"
      ]
     },
     "metadata": {},
     "output_type": "display_data"
    },
    {
     "data": {
      "application/vnd.jupyter.widget-view+json": {
       "model_id": "ddf89696f8d64914a7b81e8368dd8fbf",
       "version_major": 2,
       "version_minor": 0
      },
      "text/plain": [
       "Learn clusters:   0%|          | 0/50 [00:00<?, ?it/s]"
      ]
     },
     "metadata": {},
     "output_type": "display_data"
    },
    {
     "data": {
      "application/vnd.jupyter.widget-view+json": {
       "model_id": "8688c29917c34cab957c6956afc3e558",
       "version_major": 2,
       "version_minor": 0
      },
      "text/plain": [
       "Promote clusters:   0%|          | 0/46549 [00:00<?, ?it/s]"
      ]
     },
     "metadata": {},
     "output_type": "display_data"
    },
    {
     "data": {
      "application/vnd.jupyter.widget-view+json": {
       "model_id": "d4ed61499afb4edba776f88166463581",
       "version_major": 2,
       "version_minor": 0
      },
      "text/plain": [
       "Verify clusters:   0%|          | 0/50 [00:00<?, ?it/s]"
      ]
     },
     "metadata": {},
     "output_type": "display_data"
    },
    {
     "ename": "OutOfMemoryError",
     "evalue": "Out of memory allocating 3,365,724,160 bytes (allocated so far: 14,424,320,000 bytes).",
     "output_type": "error",
     "traceback": [
      "\u001b[0;31m---------------------------------------------------------------------------\u001b[0m",
      "\u001b[0;31mOutOfMemoryError\u001b[0m                          Traceback (most recent call last)",
      "Cell \u001b[0;32mIn[40], line 117\u001b[0m\n\u001b[1;32m    113\u001b[0m prod_clusters \u001b[38;5;241m=\u001b[39m CLUSTERS\u001b[38;5;241m.\u001b[39marray_active[prod_cluster_inds]\n\u001b[1;32m    115\u001b[0m \u001b[38;5;28;01mfor\u001b[39;00m signal_input, signal_output, signal_image_id \u001b[38;5;129;01min\u001b[39;00m tqdm(\u001b[38;5;28mzip\u001b[39m(signals_input, signals_output, cycle_image_ids), \n\u001b[1;32m    116\u001b[0m                                                          total\u001b[38;5;241m=\u001b[39msignals_input\u001b[38;5;241m.\u001b[39mshape[\u001b[38;5;241m0\u001b[39m], leave\u001b[38;5;241m=\u001b[39m\u001b[38;5;28;01mFalse\u001b[39;00m, desc\u001b[38;5;241m=\u001b[39m\u001b[38;5;124m'\u001b[39m\u001b[38;5;124mVerify clusters\u001b[39m\u001b[38;5;124m'\u001b[39m):\n\u001b[0;32m--> 117\u001b[0m     activated_clusters_mask \u001b[38;5;241m=\u001b[39m xp_array_from_gpu((prod_clusters \u001b[38;5;241m@\u001b[39m signal_input) \u001b[38;5;241m>\u001b[39m\u001b[38;5;241m=\u001b[39m prod_cluster_ones_counts)\n\u001b[1;32m    118\u001b[0m     \u001b[38;5;66;03m# cast array of output_bit numbers [0, 3, 4, 7, 7, 0, 3, 32, ..] to TP array [True, False, False, True, True, True, False, False, ...]\u001b[39;00m\n\u001b[1;32m    119\u001b[0m     \u001b[38;5;66;03m# where True if output_bit of prod_cluster is enabled in signal_output and False otherwise\u001b[39;00m\n\u001b[1;32m    120\u001b[0m     prod_cluster_output_bits_tf \u001b[38;5;241m=\u001b[39m signal_output[prod_cluster_output_bits] \u001b[38;5;241m!=\u001b[39m \u001b[38;5;241m0\u001b[39m\n",
      "File \u001b[0;32mcupy/_core/core.pyx:1342\u001b[0m, in \u001b[0;36mcupy._core.core._ndarray_base.__matmul__\u001b[0;34m()\u001b[0m\n",
      "File \u001b[0;32mcupy/_core/_routines_linalg.pyx:846\u001b[0m, in \u001b[0;36mcupy._core._routines_linalg.matmul\u001b[0;34m()\u001b[0m\n",
      "File \u001b[0;32mcupy/_core/_routines_linalg.pyx:536\u001b[0m, in \u001b[0;36mcupy._core._routines_linalg.dot\u001b[0;34m()\u001b[0m\n",
      "File \u001b[0;32mcupy/_core/_routines_linalg.pyx:576\u001b[0m, in \u001b[0;36mcupy._core._routines_linalg.tensordot_core\u001b[0;34m()\u001b[0m\n",
      "File \u001b[0;32mcupy/_core/core.pyx:623\u001b[0m, in \u001b[0;36mcupy._core.core._ndarray_base.astype\u001b[0;34m()\u001b[0m\n",
      "File \u001b[0;32mcupy/_core/core.pyx:151\u001b[0m, in \u001b[0;36mcupy._core.core.ndarray.__new__\u001b[0;34m()\u001b[0m\n",
      "File \u001b[0;32mcupy/_core/core.pyx:239\u001b[0m, in \u001b[0;36mcupy._core.core._ndarray_base._init\u001b[0;34m()\u001b[0m\n",
      "File \u001b[0;32mcupy/cuda/memory.pyx:738\u001b[0m, in \u001b[0;36mcupy.cuda.memory.alloc\u001b[0;34m()\u001b[0m\n",
      "File \u001b[0;32mcupy/cuda/memory.pyx:1424\u001b[0m, in \u001b[0;36mcupy.cuda.memory.MemoryPool.malloc\u001b[0;34m()\u001b[0m\n",
      "File \u001b[0;32mcupy/cuda/memory.pyx:1445\u001b[0m, in \u001b[0;36mcupy.cuda.memory.MemoryPool.malloc\u001b[0;34m()\u001b[0m\n",
      "File \u001b[0;32mcupy/cuda/memory.pyx:1116\u001b[0m, in \u001b[0;36mcupy.cuda.memory.SingleDeviceMemoryPool.malloc\u001b[0;34m()\u001b[0m\n",
      "File \u001b[0;32mcupy/cuda/memory.pyx:1137\u001b[0m, in \u001b[0;36mcupy.cuda.memory.SingleDeviceMemoryPool._malloc\u001b[0;34m()\u001b[0m\n",
      "File \u001b[0;32mcupy/cuda/memory.pyx:1382\u001b[0m, in \u001b[0;36mcupy.cuda.memory.SingleDeviceMemoryPool._try_malloc\u001b[0;34m()\u001b[0m\n",
      "File \u001b[0;32mcupy/cuda/memory.pyx:1385\u001b[0m, in \u001b[0;36mcupy.cuda.memory.SingleDeviceMemoryPool._try_malloc\u001b[0;34m()\u001b[0m\n",
      "\u001b[0;31mOutOfMemoryError\u001b[0m: Out of memory allocating 3,365,724,160 bytes (allocated so far: 14,424,320,000 bytes)."
     ]
    }
   ],
   "source": [
    "# %%time\n",
    "prod_cluster_metas = list(filter(lambda c: c.state == ClusterState.PROD, CLUSTER_METAS.values()))\n",
    "unique_prod_cluster_keys = set(map(lambda m: get_cluster_key(m.output_bit, np.argwhere(CLUSTERS.array_active[m.cluster_ind]).ravel()), prod_cluster_metas))\n",
    "\n",
    "for cycle in tqdm(range(cycles_count), desc='Cycle'):\n",
    "    cycle_image_ids = RNG.choice(df_train_images.index, cycle_images_count, replace=False).astype('i')\n",
    "    # cycle_image_ids = [52523]\n",
    "    df_cycle_images = df_train_images.loc[cycle_image_ids]\n",
    "\n",
    "    ###\n",
    "    signals_input = []\n",
    "    signals_output = []\n",
    "    \n",
    "    for image_ind, image in tqdm(enumerate(df_cycle_images.itertuples()), total=len(df_cycle_images), leave=False, desc='Prepare signals'):\n",
    "        seq_sbv_origin, seq_sbv_transf = get_seq_sbv_pair(image, TRANSF)\n",
    "        signals_input.append(seq_sbv_origin)\n",
    "        signals_output.append(seq_sbv_transf)\n",
    "\n",
    "    signals_input = xp.vstack(signals_input)\n",
    "    signals_output = xp_array_from_gpu(xp.vstack(signals_output))\n",
    "\n",
    "    ###\n",
    "    cluster_states = Counter(map(lambda m: m.state.name, CLUSTER_METAS.values()))\n",
    "    LOG(f'===')\n",
    "    LOG(f'Cycle {cycle} started, clusters: {cluster_states}, CLUSTERS.array.shape={CLUSTERS.array.shape}')\n",
    "    ###\n",
    "    if cluster_states[ClusterState.LEARN.name] < 100_000:\n",
    "        new_clusters_count = 0\n",
    "        \n",
    "        for signal_input, signal_output in tqdm(zip(signals_input, signals_output), total=signals_input.shape[0], leave=False, desc='Create clusters'):\n",
    "            active_points_mask = signal_output[POINT_OUTPUT_BITS] != 0\n",
    "            active_point_inds = POINT_INDS[active_points_mask]\n",
    "            assert active_point_inds.shape[0] > 0\n",
    "            active_points = POINTS[active_point_inds] # subset of POINTS which are connected to active output bits\n",
    "            active_points_signal_input_mat = active_points * signal_input\n",
    "            active_points_signal_input_mask = xp.any(active_points_signal_input_mat, axis=1) # which of active_points have any ON bits within input signal?\n",
    "            active_points_signal_input_mask = xp_array_from_gpu(active_points_signal_input_mask)\n",
    "    \n",
    "            for point_ind, subsignal_input, subsignal_input_gpu in zip(active_point_inds[active_points_signal_input_mask], \n",
    "                                                                       xp_array_from_gpu(active_points_signal_input_mat[active_points_signal_input_mask]),\n",
    "                                                                       active_points_signal_input_mat[active_points_signal_input_mask]):\n",
    "                active_output_bit = int(POINT_OUTPUT_BITS[point_ind])\n",
    "                active_input_bits = np.argwhere(subsignal_input).ravel()\n",
    "                cluster_key = get_cluster_key(active_output_bit, active_input_bits)\n",
    "    \n",
    "                if cluster_key in CLUSTER_KEY_TO_CLUSTER_IND:\n",
    "                    continue\n",
    "    \n",
    "                cluster_ind = CLUSTERS.lease()\n",
    "                cluster_mask_ind = CLUSTER_MASKS.lease()\n",
    "                assert cluster_ind == cluster_mask_ind\n",
    "                CLUSTERS.array_active[cluster_ind] = subsignal_input_gpu\n",
    "                CLUSTER_MASKS.array_active[cluster_ind] = subsignal_input_gpu\n",
    "                cluster_meta = ClusterMeta(cluster_ind=cluster_ind, cluster_key=cluster_key, output_bit=active_output_bit, nu=1/subsignal_input.sum(), cycle=cycle)\n",
    "                CLUSTER_METAS[cluster_ind] = cluster_meta\n",
    "                CLUSTER_KEY_TO_CLUSTER_IND[cluster_key] = cluster_ind\n",
    "                new_clusters_count += 1\n",
    "    \n",
    "        LOG(f'Created {new_clusters_count} clusters')\n",
    "    ###\n",
    "    learn_cluster_metas = list(filter(lambda c: c.state == ClusterState.LEARN, CLUSTER_METAS.values()))\n",
    "    learn_cluster_inds = np.array(list(map(lambda c: c.cluster_ind, learn_cluster_metas)), dtype='i')\n",
    "    learn_cluster_output_bits = np.array(list(map(lambda c: c.output_bit, learn_cluster_metas)), dtype='i')\n",
    "    \n",
    "    for signal_input, signal_output in tqdm(zip(signals_input, signals_output), total=signals_input.shape[0], leave=False, desc='Learn clusters'):\n",
    "        # this stanza 'signal_output[learn_cluster_output_bits] != 0' effectively produces\n",
    "        # boolean mask for learn_cluster_inds - clusters which are connected to currently active output bits\n",
    "        active_cluster_inds = learn_cluster_inds[signal_output[learn_cluster_output_bits] != 0]\n",
    "\n",
    "        if active_cluster_inds.shape[0] == 0:\n",
    "            continue\n",
    "        \n",
    "        active_clusters = CLUSTERS.array_active[active_cluster_inds] # subset of CLUSTERS which are connected to active bits in signal_output\n",
    "        active_cluster_masks = CLUSTER_MASKS.array_active[active_cluster_inds]\n",
    "        cluster_nus = xp.array(list(map(lambda cluster_ind: CLUSTER_METAS[cluster_ind].nu, active_cluster_inds)))\n",
    "\n",
    "        ys = signal_input @ active_clusters.T # how each cluster reacted on signal_input, ca. shape (35,)\n",
    "        grow = (signal_input * (cluster_nus * ys)[:,np.newaxis]) # how weights within each cluster must grow up in response co signal_input, matrix, ca. shape (35, 1024)\n",
    "        grow *= active_cluster_masks # masking, only allow weights which belong to clusters to grow up, matrix, ca. shape (35, 1024)\n",
    "        nomins = active_clusters + grow # grow weights within clusters\n",
    "        denoms = nomins.max(axis=1) \n",
    "        CLUSTERS.array_active[active_cluster_inds] = (nomins.T / denoms).T # upload new new weights\n",
    "\n",
    "        for cluster_ind in active_cluster_inds:\n",
    "            cluster_meta = CLUSTER_METAS[cluster_ind]\n",
    "            cluster_meta.signals_processed += 1\n",
    "\n",
    "    LOG(f'Learned {len(learn_cluster_metas)} clusters')\n",
    "\n",
    "    ### Promote LEARN clusters to PREPROD if they've learned enough\n",
    "    cluster_metas_to_promote = list(filter(lambda c: c.state == ClusterState.LEARN and c.signals_processed > HP_CLUSTER_SIGNALS_PROCESSED_THRES, CLUSTER_METAS.values()))\n",
    "    cluster_inds_to_promote = list(map(lambda c: c.cluster_ind, cluster_metas_to_promote))\n",
    "    binarized_clusters = xp.where(CLUSTERS.array_active[cluster_inds_to_promote] > HP_CLUSTER_BINARIZE_THRES, 1, 0)\n",
    "    binarized_clusters_ones_counts = binarized_clusters.sum(axis=1)\n",
    "    CLUSTERS.array_active[cluster_inds_to_promote] = binarized_clusters\n",
    "\n",
    "    new_cluster_states = Counter()\n",
    "    \n",
    "    for cluster_meta, ones_count in tqdm(zip(cluster_metas_to_promote, binarized_clusters_ones_counts), total=len(cluster_metas_to_promote), leave=False, desc='Promote clusters'):\n",
    "        cluster_ind = cluster_meta.cluster_ind\n",
    "        cluster_meta.ones_count = int(ones_count)\n",
    "        assert cluster_meta.ones_count > 0\n",
    "        cluster_meta.state = ClusterState.PREPROD if cluster_meta.ones_count >= HP_CLUSTER_ONES_COUNT_THRES else ClusterState.DEAD\n",
    "        new_cluster_states[cluster_meta.state.name] += 1\n",
    "\n",
    "    LOG(f'Promoted {len(cluster_metas_to_promote)} clusters: {new_cluster_states}')\n",
    "\n",
    "    ### Verify PREPROD cluster against new signals\n",
    "    preprod_cluster_metas = list(filter(lambda c: c.state == ClusterState.PREPROD, CLUSTER_METAS.values()))\n",
    "    preprod_cluster_inds = np.array(list(map(lambda c: c.cluster_ind, preprod_cluster_metas)), dtype='i')\n",
    "    preprod_cluster_ones_counts = xp.array(list(map(lambda c: c.ones_count, preprod_cluster_metas)), dtype='f')\n",
    "    preprod_cluster_output_bits = np.array(list(map(lambda c: c.output_bit, preprod_cluster_metas)), dtype='i')\n",
    "    preprod_clusters = CLUSTERS.array_active[preprod_cluster_inds]\n",
    "    \n",
    "    for signal_input, signal_output, signal_image_id in tqdm(zip(signals_input, signals_output, cycle_image_ids), \n",
    "                                                             total=signals_input.shape[0], leave=False, desc='Verify clusters'):\n",
    "        activated_clusters_mask = xp_array_from_gpu((preprod_clusters @ signal_input) >= preprod_cluster_ones_counts)\n",
    "        # cast array of output_bit numbers [0, 3, 4, 7, 7, 0, 3, 32, ..] to TP array [True, False, False, True, True, True, False, False, ...]\n",
    "        # where True if output_bit of preprod_cluster is enabled in signal_output and False otherwise\n",
    "        preprod_cluster_output_bits_tf = signal_output[preprod_cluster_output_bits] != 0\n",
    "        \n",
    "        for cluster_ind, tf in zip(preprod_cluster_inds[activated_clusters_mask], preprod_cluster_output_bits_tf[activated_clusters_mask]):\n",
    "            tf = bool(tf) # not mandatory, but eases further inspections by eyes\n",
    "            signal_image_id = int(signal_image_id)\n",
    "            cluster_meta = CLUSTER_METAS[cluster_ind]\n",
    "\n",
    "            if not signal_image_id in cluster_meta.verify_image_ids:\n",
    "                cluster_meta.stats[tf] += 1\n",
    "                cluster_meta.verify_image_ids[signal_image_id] = tf\n",
    "\n",
    "    LOG(f'Verified {len(preprod_cluster_metas)} clusters')\n",
    "    \n",
    "    ### \n",
    "    ready_for_prod_cluster_metas = list(filter(lambda c: (c.state == ClusterState.PREPROD) and (c.stats.total() >= HP_CLUSTER_STATS_LEN_THRES), CLUSTER_METAS.values()))\n",
    "    accurate_ready_for_prod_cluster_metas = filter(lambda c: c.stats[True] / c.stats.total() >= HP_CLUSTER_ACCURACY_THRES, ready_for_prod_cluster_metas)\n",
    "    unneeded_cluster_metas = list(filter(lambda c: c.stats[True] / c.stats.total() < HP_CLUSTER_ACCURACY_THRES, ready_for_prod_cluster_metas))\n",
    "    \n",
    "    for cluster_meta in accurate_ready_for_prod_cluster_metas:\n",
    "        assert cluster_meta.ones_count >= HP_CLUSTER_ONES_COUNT_THRES\n",
    "        cluster_key_for_prod = get_cluster_key(cluster_meta.output_bit, np.argwhere(CLUSTERS.array_active[cluster_meta.cluster_ind]).ravel())\n",
    "\n",
    "        if cluster_key_for_prod in unique_prod_cluster_keys:\n",
    "            unneeded_cluster_metas.append(cluster_meta)\n",
    "            continue\n",
    "            \n",
    "        cluster_meta.state = ClusterState.PROD\n",
    "        unique_prod_cluster_keys.add(cluster_key_for_prod)\n",
    "\n",
    "    unneeded_cluster_metas.extend(filter(lambda m: m.state == ClusterState.DEAD, CLUSTER_METAS.values()))\n",
    "    \n",
    "    for cluster_meta in unneeded_cluster_metas:\n",
    "        cluster_ind = cluster_meta.cluster_ind\n",
    "        del CLUSTER_KEY_TO_CLUSTER_IND[cluster_meta.cluster_key]\n",
    "        del CLUSTER_METAS[cluster_ind]\n",
    "        CLUSTERS.release(cluster_ind)\n",
    "        CLUSTER_MASKS.release(cluster_ind)\n",
    "\n",
    "    LOG(f'Removed {len(unneeded_cluster_metas)} loser clusters')\n",
    "    gc_memory()"
   ]
  },
  {
   "cell_type": "code",
   "execution_count": 454,
   "id": "cf723882-55c0-49d9-acb7-e50274d2201b",
   "metadata": {},
   "outputs": [
    {
     "data": {
      "image/png": "[encoded data removed]",
      "text/plain": [
       "<Figure size 1200x480 with 2 Axes>"
      ]
     },
     "metadata": {},
     "output_type": "display_data"
    }
   ],
   "source": [
    "signal_ind = RNG.choice(signals_input.shape[0])\n",
    "signal_ind = -1\n",
    "signal_input = xp_array_from_gpu(signals_input[signal_ind])\n",
    "signal_output = signals_output[signal_ind]\n",
    "signal_input = seq_sbv_to_bv(signal_input)\n",
    "signal_output = seq_sbv_to_bv(signal_output)\n",
    "fig, (ax1, ax2) = plt.subplots(1, 2)\n",
    "fig.set_figwidth(12)\n",
    "ax1.imshow(vec_to_square_matrix(signal_input))\n",
    "ax2.imshow(vec_to_square_matrix(signal_output));"
   ]
  },
  {
   "cell_type": "markdown",
   "id": "c4e073c2-0c90-4248-a9fc-57f4f063892f",
   "metadata": {},
   "source": [
    "# Test"
   ]
  },
  {
   "cell_type": "code",
   "execution_count": 24,
   "id": "f2005f19-90c6-489f-9680-f0b72b97bc5c",
   "metadata": {},
   "outputs": [
    {
     "data": {
      "text/plain": [
       "(1127, 1024)"
      ]
     },
     "execution_count": 24,
     "metadata": {},
     "output_type": "execute_result"
    }
   ],
   "source": [
    "# prod_cluster_metas = list(filter(lambda c: c.state == ClusterState.PROD and c.stats[True] > 5, CLUSTER_METAS.values()))\n",
    "prod_cluster_metas = list(filter(lambda c: c.state == ClusterState.PROD, CLUSTER_METAS.values()))\n",
    "prod_cluster_inds = np.array(list(map(lambda c: c.cluster_ind, prod_cluster_metas)), dtype='i')\n",
    "prod_cluster_ones_counts = xp.array(list(map(lambda c: c.ones_count, prod_cluster_metas)), dtype='f')\n",
    "prod_cluster_output_bits = np.array(list(map(lambda c: c.output_bit, prod_cluster_metas)), dtype='i')\n",
    "prod_clusters = CLUSTERS.array_active[prod_cluster_inds]\n",
    "prod_clusters.shape"
   ]
  },
  {
   "cell_type": "code",
   "execution_count": 44,
   "id": "9a743124-b134-445f-8a7c-de08006155f1",
   "metadata": {},
   "outputs": [
    {
     "data": {
      "text/plain": [
       "(([(22, 18), (23, 18)], (25, 18)),\n",
       " {'state': <ClusterState.PROD: 'prod'>,\n",
       "  'cluster_ind': 2,\n",
       "  'cluster_key': (601, (361, 434, 595, 598, 599, 657, 753)),\n",
       "  'output_bit': 601,\n",
       "  'nu': np.float32(0.14285715),\n",
       "  'cycle': 0,\n",
       "  'ones_count': 2,\n",
       "  'signals_processed': 56,\n",
       "  'stats': Counter({True: 11}),\n",
       "  'verify_image_ids': {47014: True,\n",
       "   14352: True,\n",
       "   36824: True,\n",
       "   5295: True,\n",
       "   46041: True,\n",
       "   42784: True,\n",
       "   49595: True,\n",
       "   12614: True,\n",
       "   30822: True,\n",
       "   11357: True,\n",
       "   17629: True}})"
      ]
     },
     "execution_count": 44,
     "metadata": {},
     "output_type": "execute_result"
    }
   ],
   "source": [
    "inspected_ind = 0\n",
    "cluster_ind = prod_cluster_inds[inspected_ind]\n",
    "get_cluster_logic(cluster_ind), vars(CLUSTER_METAS[cluster_ind])"
   ]
  },
  {
   "cell_type": "code",
   "execution_count": 84,
   "id": "9f99c747-b18c-458b-873f-487e347e34a8",
   "metadata": {},
   "outputs": [
    {
     "data": {
      "text/plain": [
       "UniqueCountsResult(values=array([ 0.,  1.,  2.,  3.,  4.,  5.,  6.,  7.,  8.,  9., 10., 11.],\n",
       "      dtype=float32), counts=array([949,  23,  14,  11,   8,   4,   5,   2,   1,   3,   2,   2]))"
      ]
     },
     "execution_count": 84,
     "metadata": {},
     "output_type": "execute_result"
    }
   ],
   "source": [
    "np.unique_counts(seq_bv_out.get())"
   ]
  },
  {
   "cell_type": "code",
   "execution_count": 76,
   "id": "82c262a8-efd8-401b-8c23-db16c94b9274",
   "metadata": {},
   "outputs": [
    {
     "data": {
      "text/plain": [
       "([(13, 22), (14, 22)], (16, 22))"
      ]
     },
     "execution_count": 76,
     "metadata": {},
     "output_type": "execute_result"
    }
   ],
   "source": [
    "get_cluster_logic(prod_cluster_inds[4])"
   ]
  },
  {
   "cell_type": "code",
   "execution_count": 86,
   "id": "7cb47b56-9290-45e7-990a-d8c4f330b756",
   "metadata": {},
   "outputs": [
    {
     "name": "stdout",
     "output_type": "stream",
     "text": [
      "3697 ([(12, 9), (11, 11), (24, 15)], (12, 16)) [[300]\n",
      " [363]\n",
      " [504]]\n"
     ]
    }
   ],
   "source": [
    "for ind in np.argwhere(activated_clusters_mask).ravel():\n",
    "    cl = get_cluster_logic(prod_cluster_inds[ind])\n",
    "\n",
    "    if cl[1][1] == 16 and cl[1][0] < 15:\n",
    "        print(ind, cl, np.argwhere(CLUSTERS.array_active[prod_cluster_inds[3697]]))"
   ]
  },
  {
   "cell_type": "code",
   "execution_count": 88,
   "id": "a5e3bbc6-2c19-4509-aa6a-fd84024fb5af",
   "metadata": {},
   "outputs": [
    {
     "data": {
      "text/plain": [
       "array([1., 1., 1.], dtype=float32)"
      ]
     },
     "execution_count": 88,
     "metadata": {},
     "output_type": "execute_result"
    }
   ],
   "source": [
    "seq_bv[[300, 363, 504]]"
   ]
  },
  {
   "cell_type": "code",
   "execution_count": 25,
   "id": "da374d86-709e-4d82-bc2a-82e50dd790fe",
   "metadata": {},
   "outputs": [
    {
     "name": "stdout",
     "output_type": "stream",
     "text": [
      "CPU times: user 179 ms, sys: 2.8 ms, total: 182 ms\n",
      "Wall time: 21.5 ms\n"
     ]
    },
    {
     "data": {
      "image/png": "[encoded data removed]",
      "text/plain": [
       "<Figure size 1200x480 with 2 Axes>"
      ]
     },
     "metadata": {},
     "output_type": "display_data"
    }
   ],
   "source": [
    "%%time\n",
    "image_id = RNG.choice(df_train_images.index)\n",
    "image = next(df_train_images.loc[[image_id]].itertuples())\n",
    "si_ind_dict = pickle.loads(image.inner_si_ind_dict)\n",
    "sequences = pickle.loads(image.inner_sequences)\n",
    "seq_reading_code = tuple(zip(range(len(sequences)), (0,) * len(sequences)))\n",
    "seq_reading = get_sequences_reading(sequences, seq_reading_code)\n",
    "seq_ipxy = calc_seq_ipxy(seq_reading, si_ind_dict)\n",
    "seq_bv = calc_seq_bv(seq_ipxy)\n",
    "\n",
    "activated_clusters_mask = (prod_clusters @ seq_bv) >= prod_cluster_ones_counts\n",
    "activated_clusters_mask = xp_array_from_gpu(activated_clusters_mask)\n",
    "seq_bv_out = np.zeros_like(seq_bv)\n",
    "# seq_bv_out[prod_cluster_output_bits[activated_clusters_mask]] = 1\n",
    "values = Counter(prod_cluster_output_bits[activated_clusters_mask])\n",
    "seq_bv_out[list(values.keys())] = list(values.values())\n",
    "seq_bv_out = xp.where(seq_bv_out > seq_bv_out.mean(), 1, 0)\n",
    "# seq_bv_out = xp.where(seq_bv_out > np.median(seq_bv_out), 1, 0)\n",
    "\n",
    "fig, (ax1, ax2) = plt.subplots(1, 2)\n",
    "fig.set_figwidth(12)\n",
    "ax1.imshow(xp_array_from_gpu(seq_bv).reshape(32, -1))\n",
    "ax2.imshow(xp_array_from_gpu(seq_bv_out).reshape(32, -1));"
   ]
  }
 ],
 "metadata": {
  "kernelspec": {
   "display_name": "Python 3 (ipykernel)",
   "language": "python",
   "name": "python3"
  },
  "language_info": {
   "codemirror_mode": {
    "name": "ipython",
    "version": 3
   },
   "file_extension": ".py",
   "mimetype": "text/x-python",
   "name": "python",
   "nbconvert_exporter": "python",
   "pygments_lexer": "ipython3",
   "version": "3.12.9"
  }
 },
 "nbformat": 4,
 "nbformat_minor": 5
}
