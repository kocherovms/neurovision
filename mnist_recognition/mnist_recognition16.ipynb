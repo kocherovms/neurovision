{
 "cells": [
  {
   "cell_type": "code",
   "execution_count": 1,
   "id": "27532844-1826-4299-b063-16a22e592f3f",
   "metadata": {},
   "outputs": [],
   "source": [
    "import os, math\n",
    "from collections import defaultdict, namedtuple\n",
    "import itertools\n",
    "import sqlite3\n",
    "\n",
    "import logging\n",
    "import logging.handlers\n",
    "\n",
    "from PIL import Image, ImageDraw\n",
    "from tqdm.notebook import tqdm\n",
    "\n",
    "from sklearn.model_selection import train_test_split\n",
    "import matplotlib.pyplot as plt\n",
    "import scipy\n",
    "import numpy as np\n",
    "import cupy as cp\n",
    "import pandas as pd\n",
    "\n",
    "from utils import *\n",
    "from hdc import *"
   ]
  },
  {
   "cell_type": "code",
   "execution_count": 2,
   "id": "73358262-adf2-4d17-a383-f120a5d1f8aa",
   "metadata": {},
   "outputs": [
    {
     "name": "stdout",
     "output_type": "stream",
     "text": [
      "xp = cupy\n"
     ]
    }
   ],
   "source": [
    "config_var = 'SQLITE3_MULTI_GRID_RETINA'\n",
    "config = Config(config_var)\n",
    "RNG = np.random.default_rng()\n",
    "\n",
    "if cp.cuda.is_available():\n",
    "    xp = cp.get_array_module(cp.empty(1))\n",
    "    xp_array_from_gpu = lambda a: a.get() if isinstance(a, cp.ndarray) else a\n",
    "    xp_array_to_gpu = lambda a: cp.asarray(a) if isinstance(a, np.ndarray) else a\n",
    "else:\n",
    "    xp = cp.get_array_module(np.empty(1))\n",
    "    xp_array_from_gpu = lambda a: a\n",
    "    xp_array_to_gpu = lambda a: a\n",
    "    \n",
    "print(f'xp = {xp.__name__}')\n",
    "\n",
    "log = logging.getLogger('kmslog')\n",
    "log.setLevel(logging.DEBUG)\n",
    "\n",
    "if not log.hasHandlers():\n",
    "    log.addHandler(logging.handlers.SysLogHandler(address = '/dev/log', facility=logging.handlers.SysLogHandler.LOG_LOCAL0))\n",
    "\n",
    "train_db_con = sqlite3.connect(os.path.join(config.dataset_path, config.train_db_file_name))\n",
    "test_db_con = sqlite3.connect(os.path.join(config.dataset_path, config.test_db_file_name))"
   ]
  },
  {
   "cell_type": "code",
   "execution_count": 3,
   "id": "d2dd62ab-b44e-4251-9e86-d41b3672e36e",
   "metadata": {},
   "outputs": [
    {
     "name": "stdout",
     "output_type": "stream",
     "text": [
      "CPU times: user 1 μs, sys: 0 ns, total: 1 μs\n",
      "Wall time: 3.58 μs\n"
     ]
    },
    {
     "data": {
      "text/plain": [
       "((10000, 3), (2000, 3))"
      ]
     },
     "execution_count": 3,
     "metadata": {},
     "output_type": "execute_result"
    }
   ],
   "source": [
    "%time\n",
    "df_train_images = pd.read_sql_query('SELECT * FROM images', con=train_db_con, index_col='image_id')\n",
    "df_test_images = pd.read_sql_query('SELECT * FROM images', con=test_db_con, index_col='image_id')\n",
    "df_train_images.shape, df_test_images.shape"
   ]
  },
  {
   "cell_type": "code",
   "execution_count": 4,
   "id": "70b21219-4f16-4824-90ec-7bda1574c5d1",
   "metadata": {},
   "outputs": [
    {
     "data": {
      "text/html": [
       "<div style=\"\n",
       "        display: grid; \n",
       "        grid-template-columns: repeat(8, 128px);\n",
       "        column-gap: 1px;\n",
       "        row-gap: 1px;\">\n",
       "        \n",
       "            <figure style=\"margin: 5px !important;\">\n",
       "              <img src=\"data:image/png;base64,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\" style=\"height: auto\">\n",
       "              <figcaption style=\"font-size: 0.6em\">5</figcaption>\n",
       "            </figure>\n",
       "        \n",
       "            <figure style=\"margin: 5px !important;\">\n",
       "              <img src=\"data:image/png;base64,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\" style=\"height: auto\">\n",
       "              <figcaption style=\"font-size: 0.6em\">1</figcaption>\n",
       "            </figure>\n",
       "        \n",
       "            <figure style=\"margin: 5px !important;\">\n",
       "              <img src=\"data:image/png;base64,iVBORw0KGgoAAAANSUhEUgAAAIAAAACACAAAAADmVT4XAAAD8UlEQVR4nO2ayZLjNgyGQXCXJS8pT3LJ5JD3f6a5JZWkq6e9SqK4IAf3kmtAl1xdo//gm8xPIAACoAAWLVq0aNGiRT+6BO8pgYgoESilVKoAFOspqa21zcrJ6fhyGB8B4Lt1t99v9eWPb8MjAJTf7Pe//vaL+96c/6pan2sB2+5+/vr7V//P5Zt5BAAqt+q2+y9NWTt8BIBQ2nrfrLw3khdH72LyozbGGK2kxIcACKmM0QqFQMmzYSUASm2d1RKVtt5WWYHpA9o1jTMSpOt2uyHGRPMCoHbNyisB6Db7w/FCeW4AZbw3SCDc5stZUJq463O3AJVSUhChXf90CuOV7wTMMKRSSikEaJpu3To1N0DJMYxTzITat21jJXt9LkAc+36Y8s0bGzO/BeLYX/spkdTON1X5mAdAaRqGMOVbQvBm/i3IUwghFkLtVm1jH2CBGMIUM6B2q5Wf3wnpzQJvW/AIHxhDzCCUts7oiqKE6QPT0F+GKQOgUkrh7AB5up5OlzEDIAoUNTUJ7ywo4XrszmMCAAAiYp+FXIA89fp8DRkAoJSa9dlOGMYhxLqmrAqg5JRyub05Ve1BZVX/un6ZG0AIgSgEEMDtd3YLCER8rYUFSin5ubh6C1Bb55yT3GxQ0VbcfE/atuvWXYqJ5wh8AAIiAJDNZrvbbWMPvFFJvQV82e52u1AKLyvUdHZEAIAG2vV2ew0xsv6kzgkFAICyq26zbgyzzeQu/RGIQrlus26ZhSHbAgKEuEUeoW03mxVzVMIGoPdjuKBddd1qZguUklNK6RaJxretn9UHiEoMYRiGqRAIaZx33O6IF4ZUchj76+WiBQJIbazlVsbc7vgGcB0zvQ5u9bwWAKIwDn0/FQKB2npn1NxRkGKMMWUCkKZpV57ZHPBTcc45pVwKCWnacdPauQFKyaWUXEhIS3HTMhvEiuOYiKiUQoha5rZhJqJKACIiEFI6dh7gn4YfAAAg2SVZfVn+RsN8kg8g/vvKpXAR7mSBUri9yZ0A+FoAFoAFYAFYABaABeBzAwjxNiMQ7JH957bAAvBwgI/G5BF9wZ30uQH40X8fAAHc7xHvBHAX1QDUXZfdAQAAAG5u8H6DNDuAEAgAoB4xoKCS3+4u3yfncwJQSVMIIWYAgPTB8j9VMaRK/enFGy0FULn2gfk9WwXAeHpqBSoJkKfD8fUufVaAlz9lRqMBpuv376dhboAyHiRk7U2G8fj8dOjTzAA0nYUQvlEDDIfnv1/mB0ijENKq0EI4Hp+fLrx7w4qLyzwBAIUnD1N/Pb+c5gagkqikcPAKcoxh6HkAFcepACFQIiIQFcqF/13pokWLFi1atOjH1r+QlOhhCWKMCQAAAABJRU5ErkJggg==\" style=\"height: auto\">\n",
       "              <figcaption style=\"font-size: 0.6em\">1</figcaption>\n",
       "            </figure>\n",
       "        \n",
       "            <figure style=\"margin: 5px !important;\">\n",
       "              <img src=\"data:image/png;base64,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\" style=\"height: auto\">\n",
       "              <figcaption style=\"font-size: 0.6em\">7</figcaption>\n",
       "            </figure>\n",
       "        \n",
       "            <figure style=\"margin: 5px !important;\">\n",
       "              <img src=\"data:image/png;base64,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\" style=\"height: auto\">\n",
       "              <figcaption style=\"font-size: 0.6em\">5</figcaption>\n",
       "            </figure>\n",
       "        \n",
       "            <figure style=\"margin: 5px !important;\">\n",
       "              <img src=\"data:image/png;base64,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\" style=\"height: auto\">\n",
       "              <figcaption style=\"font-size: 0.6em\">8</figcaption>\n",
       "            </figure>\n",
       "        \n",
       "            <figure style=\"margin: 5px !important;\">\n",
       "              <img src=\"data:image/png;base64,iVBORw0KGgoAAAANSUhEUgAAAIAAAACACAAAAADmVT4XAAAIF0lEQVR4nO2aWXPkthHHcRMkSA6pGc3K0q7jWpfz/b9PKqlkbXklzcEZkiAIEEcefKy0eeGxlvIw/aoi9JvuBvDvbgBwsYtd7I0NfoMlMCUYeOe8Dz5M/ZosB8Aiz2NolNRmsHYqwbcASG9uCySrQyM74N4AgKQ3H2/w6YFg6J2Z/PU3ABBXt9/jY1Bm6PvJObUcABGeXV1j1J6kkuT1ASCmLElz6k9FIxv8FgAk4omgJk1FzF4dAAJEGOM8popRgtH0Y2WpBxBmjPMkxjgMeph8Ciz3AMI0iuKYByePu6oz/tUBKIsizumgTw/3VaNfHYCwiMc8ooOqHu6lGV4bAFEuUhFHGJi2OujpKbAYgKWrYpVGEPpB97NWWAaAebbeXGUcIBBm/PzlACguNtt1FgEA4LylFnsgX6+LBAPrAMRzVliYAzhKi0JQ51U/fQN8CwDEkizjQdlTo2Ycg8sBIEvShAx1t6vk8BYAiMUiwaY9Px7bYdYKCwEIixOO9Hn/dJzpgWW7AFGeiIQM9WF/6uy8JZYBkEikggz17qmSbwFAGE/SGJvzfle9hQdwnCRxRII67w9zQzA/CSGmfH2VRcCqpjpUrXavDRCvypsPa2bq4/5wPMvpYmgpgLj5/v3tNWncw8PToXn9oxhldz99XGfo3N4/7E9ymFwVLgXA6bsffsyDOu8fnqqmD+CV9QCiSXG9LbmtD4dTq/1MPTIfADIu8jxBuq5OrZm3AwBYEAISxXESIa/O1bmzcObvn+0BSCKRxBEBQ3uu6t7NP8/meQDTKC9XgiHbt6dTo+ZHYB4AZGK1uX23ioDpzlXV9PPE0AKAqPzu7vZ9yZyqq8NR6tcGQHz94ePt+wLr9lwdKzO8egh4efvD7Ub47lRV59aHuYfAXADEss3NNkPqdDjWcp4W/HOtWV8RUW6u+FB9/nXXTG7MfQMASOO8yHD3+OnTY7Mg/rMBEOFplkD5+OmXfTfvFl4GQFgUxxx0x8enSi0EmJ6EECLGOI8gMO25ltObMgsBIMSUc0Yx8EPfdUsOQQDAjBBARHgcMwyAHbTWdqYQmg8AMI1FzJD31hgzvD4AxFEiEob8YIw2xi5MgRk5QLnIEgas7Xut3wQgznLBgvZdbwY7fUi0FADRJM9TFsyglLaLHTDDA0zkRcqA0Uqbwb8BABWrIo+R1b3+WghAhCAIbhLUdIAoLddlgp3ReviqKQIJw2CYViROzwGWFutCEGeMMV9V5CiKGejDJIEwOwTa9P8zoCDxKoYS2ikSYc42TDNBB636rw4BCPlqk8M2Qo1xo0XaZICAKI8pGJTs9PN0gxDT1fbDhrSHvGo71Y/MhOkAAFOKBy0b2T/bAxBiKq4+/P19JHf3T4fdfmwqTtcDCBMCrWoaqd2XIRmEiIn13U8/CvW0uf8V6WZky2j6LsCEEuh62XQvukIQYZ5d333MTJkktKvoyPHFJAAIIIp4FDHoetnKr9pSEDOerqIYWtc/5bHyo3oW0wAwZlkqYuadaur2hRoKIYAAIAZAlLpeF5kad1NN0gMIM7HK05gh17fNy5IweOfsYDQAWJTrq3IlGIYjBqmTACBmIk+TiEJnVKee98UC8G7QSkoAAM9WxSoXDI9ZfBoAwjSKKEHw9ycjz/4WgremaxsFABVplgpOR02yp+4CiBCCCGFCKXk5qg7OqPZcCc8x45xH0V8AELx3znsAMIuThLNnU6oAgO/laf/EPEwgYZRSgtGI1tFEAGcHY62HLMnylL98L+H6ttqVlEQcIUzIyGH+pBwI3hrTK6UsTlZlIZ67AARvVH142p2UDRBjPBJgWg54P/TydEyo42Xf7Dh5rkiC0/JcZRvjAUIIoXGvGaaFIFgjjw9XISPxNVS7hLyMse3b87ntHUQIQjjuldbUHNDt/hdurq9zkejPgrzMMq9l3Uj9W7E0UhBMAwDOtAeO9BBvykxuV4nULwBs33X94AAEIIxsHE3LgRC8OlPs2Q3K0tN2c6Wl+aLMIfDO2onV4uTr2KozwWXrGShv/lazY630H/8x+AARQhACACAccxHMAfCmQ7RqDQDlhxoW95/37k/p4SCJeEQR/MP+CgDg+kBPTRdgfOd5KZDVX8oTEgsR/3Y6jHXBDIBgaX2u2wyUmMVAyz6o33U4jdNVLiIMvA9ju5fTAYJzXX3c7ygi6fXQnJqQdNpqGwAoirJcCYaCs4O14yrnWZ1S0+7+vepEHkflnSbXJ9lrpY0F67vv3q1XCQFu0ErpUS3kWQBOfv4H2G9uNjy+oetz23aqbaV2xe33d5tS4GB110k1SpnPAgjdE1a7u85ukiL9TvedbJvzSdpse/tulXPg+k62bafHxGAeQH906qwChiDLGHCqa9uqam283q6TGDrZNq1UelRlMG9kM0hvLWEk6PUqZZhDHLFYuagoVxRrVT0d607bMOY6mgfghxAAAabebtdlyjCAEU4cYEkaA93sH3/+XHUjH1TMAwje9hCY8+Pmersp0ySOWCQIwQwAMBx/+fTv+2Nnw6gbcebcMPjBD/LwUG62201RFFmOePKbPqqfPv3r08OpH9nGnwsQvNUSx3UrZXPVyKK3PnAIAmgf73/++fO+/euq4y/mvXUgWFWfjqu8yNMIBB/k/T//8+u+VmPfUyx7xhNMC0x7SEWSiIRTEHzQh4fHQy3NWFGw8HU9oowxyiillBIMQgBWtVJpM1qWLASAX67+P25f770fq8cudrGLXexiF7vYxS52sYtd7P/B/gs+nlAX9UAvXAAAAABJRU5ErkJggg==\" style=\"height: auto\">\n",
       "              <figcaption style=\"font-size: 0.6em\">6</figcaption>\n",
       "            </figure>\n",
       "        \n",
       "            <figure style=\"margin: 5px !important;\">\n",
       "              <img src=\"data:image/png;base64,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\" style=\"height: auto\">\n",
       "              <figcaption style=\"font-size: 0.6em\">4</figcaption>\n",
       "            </figure>\n",
       "        \n",
       "            <figure style=\"margin: 5px !important;\">\n",
       "              <img src=\"data:image/png;base64,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\" style=\"height: auto\">\n",
       "              <figcaption style=\"font-size: 0.6em\">2</figcaption>\n",
       "            </figure>\n",
       "        \n",
       "            <figure style=\"margin: 5px !important;\">\n",
       "              <img src=\"data:image/png;base64,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\" style=\"height: auto\">\n",
       "              <figcaption style=\"font-size: 0.6em\">8</figcaption>\n",
       "            </figure>\n",
       "        \n",
       "            <figure style=\"margin: 5px !important;\">\n",
       "              <img src=\"data:image/png;base64,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\" style=\"height: auto\">\n",
       "              <figcaption style=\"font-size: 0.6em\">3</figcaption>\n",
       "            </figure>\n",
       "        \n",
       "            <figure style=\"margin: 5px !important;\">\n",
       "              <img src=\"data:image/png;base64,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\" style=\"height: auto\">\n",
       "              <figcaption style=\"font-size: 0.6em\">1</figcaption>\n",
       "            </figure>\n",
       "        \n",
       "            <figure style=\"margin: 5px !important;\">\n",
       "              <img src=\"data:image/png;base64,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\" style=\"height: auto\">\n",
       "              <figcaption style=\"font-size: 0.6em\">9</figcaption>\n",
       "            </figure>\n",
       "        \n",
       "            <figure style=\"margin: 5px !important;\">\n",
       "              <img src=\"data:image/png;base64,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\" style=\"height: auto\">\n",
       "              <figcaption style=\"font-size: 0.6em\">3</figcaption>\n",
       "            </figure>\n",
       "        \n",
       "            <figure style=\"margin: 5px !important;\">\n",
       "              <img src=\"data:image/png;base64,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\" style=\"height: auto\">\n",
       "              <figcaption style=\"font-size: 0.6em\">3</figcaption>\n",
       "            </figure>\n",
       "        \n",
       "            <figure style=\"margin: 5px !important;\">\n",
       "              <img src=\"data:image/png;base64,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\" style=\"height: auto\">\n",
       "              <figcaption style=\"font-size: 0.6em\">2</figcaption>\n",
       "            </figure>\n",
       "        \n",
       "    </div>"
      ],
      "text/plain": [
       "<IPython.core.display.HTML object>"
      ]
     },
     "execution_count": 4,
     "metadata": {},
     "output_type": "execute_result"
    }
   ],
   "source": [
    "count = 8\n",
    "\n",
    "def get_some_random_images_and_labels(df, count):\n",
    "    image_ids = RNG.choice(df.index.unique(), count, replace=False)\n",
    "    image_datas = df.loc[image_ids]['png']\n",
    "    images = [Image.open(io.BytesIO(image_data)) for image_data in image_datas]\n",
    "    labels = df.loc[image_ids]['value']\n",
    "    return images, list(labels)\n",
    "\n",
    "train_images, train_labels = get_some_random_images_and_labels(df_train_images, count)\n",
    "test_images, test_labels = get_some_random_images_and_labels(df_test_images, count)\n",
    "\n",
    "display_images_grid(train_images + test_images, captions=train_labels + test_labels, col_count=count)"
   ]
  },
  {
   "cell_type": "code",
   "execution_count": 5,
   "id": "e5019d63-ce09-4130-ac07-b6ae15a84ab4",
   "metadata": {},
   "outputs": [],
   "source": [
    "COS_SIM_THRESHOLD = 0.055\n",
    "hdc = Hdc(10_000, xp)"
   ]
  },
  {
   "cell_type": "code",
   "execution_count": 6,
   "id": "fe4596eb-8b95-46f6-842c-e5819bad21b3",
   "metadata": {},
   "outputs": [],
   "source": [
    "DIGITS = hdc(10)\n",
    "DIGITS_NORM = hdc.normalize(DIGITS)"
   ]
  },
  {
   "cell_type": "code",
   "execution_count": 7,
   "id": "317bc435-b1be-4e25-8f4f-b9e3d35f522b",
   "metadata": {},
   "outputs": [],
   "source": [
    "class CorticalColumn(object):\n",
    "    def __init__(self):\n",
    "        self.assoc_hdvs = HdvArray(hdc.N, xp, 100)\n",
    "        i = self.assoc_hdvs.lease()\n",
    "        self.assoc_hdvs.array[i] = hdc() # Deploy random assoc hdvs in order to avoid constant checks for active_len during training"
   ]
  },
  {
   "cell_type": "code",
   "execution_count": 8,
   "id": "1e8dc096-5076-4657-b22c-a489c2be1694",
   "metadata": {},
   "outputs": [],
   "source": [
    "COLUMNS = {}\n",
    "COLUMNS = {-1: CorticalColumn()}\n",
    "# COLUMNS.update(map(lambda i: (i, CorticalColumn()), range(config.cortical_columns_count)))\n",
    "TRAIN_RUN_ID = 0\n",
    "TEST_RUN_ID = 0\n",
    "\n",
    "df_test_results = pd.DataFrame(columns=['source_ds', 'test_run_id', 'test_image_id', 'true_value', 'engram_id', 'infer_value', 'sim'])"
   ]
  },
  {
   "cell_type": "code",
   "execution_count": null,
   "id": "11ab3764-3bad-47ba-8377-8bcddeaf1b83",
   "metadata": {},
   "outputs": [],
   "source": []
  },
  {
   "cell_type": "code",
   "execution_count": 9,
   "id": "bc72b601-6398-4d84-9ce3-97e1a9a92bfa",
   "metadata": {},
   "outputs": [
    {
     "data": {
      "application/vnd.jupyter.widget-view+json": {
       "model_id": "c56e08f1b57a497985d408f9817bd2da",
       "version_major": 2,
       "version_minor": 0
      },
      "text/plain": [
       "Columns:   0%|          | 0/1 [00:00<?, ?it/s]"
      ]
     },
     "metadata": {},
     "output_type": "display_data"
    },
    {
     "data": {
      "application/vnd.jupyter.widget-view+json": {
       "model_id": "",
       "version_major": 2,
       "version_minor": 0
      },
      "text/plain": [
       "Mining:   0%|          | 0/100 [00:00<?, ?it/s]"
      ]
     },
     "metadata": {},
     "output_type": "display_data"
    }
   ],
   "source": [
    "# TRAIN RUN\n",
    "TRAIN_RUN_ID += 1\n",
    "batch_size = 100\n",
    "\n",
    "for column_id, column in tqdm(COLUMNS.items(), desc='Columns'):\n",
    "    image_ids = RNG.choice(df_train_images.index.unique(), batch_size, replace=False)\n",
    "    short_memory = defaultdict(lambda: defaultdict(list))\n",
    "\n",
    "    # ENGRAMS (associations) mining\n",
    "    for image_no, image_id in tqdm(enumerate(image_ids), leave=False, total=len(image_ids), desc='Mining'):\n",
    "        image_value = df_train_images.loc[image_id]['value']\n",
    "        target_hdv_index = int(image_value)\n",
    "        target_hdv = DIGITS[target_hdv_index]\n",
    "        \n",
    "        df_image_encodings = pd.read_sql('SELECT hdv FROM image_encodings WHERE image_id=:image_id AND column_id=:column_id', \n",
    "                                         params={'image_id': int(image_id), 'column_id': column_id}, \n",
    "                                         con=train_db_con)\n",
    "        \n",
    "        for image_encoding_hdv in df_image_encodings['hdv']:\n",
    "            image_encoding_hdv = xp.frombuffer(image_encoding_hdv, dtype='b')\n",
    "            assert image_encoding_hdv.shape == (hdc.N,)\n",
    "            assoc_hdv_index = column.assoc_hdvs.lease()\n",
    "            column.assoc_hdvs.array[assoc_hdv_index] = hdc.bind(image_encoding_hdv, target_hdv)\n",
    "            short_memory[target_hdv_index]['source_hdvs'].append(image_encoding_hdv)\n",
    "            short_memory[target_hdv_index]['assoc_hdv_indices'].append(assoc_hdv_index)"
   ]
  },
  {
   "cell_type": "code",
   "execution_count": 10,
   "id": "91a367ee-337d-43ad-b8a5-693ded370cc2",
   "metadata": {},
   "outputs": [
    {
     "name": "stdout",
     "output_type": "stream",
     "text": [
      "0 -> 451, 451\n",
      "8 -> 369, 369\n",
      "3 -> 492, 492\n",
      "1 -> 533, 533\n",
      "5 -> 369, 369\n",
      "9 -> 451, 451\n",
      "7 -> 369, 369\n",
      "2 -> 492, 492\n",
      "4 -> 287, 287\n",
      "6 -> 287, 287\n"
     ]
    }
   ],
   "source": [
    "for target_hdv_index, tab in short_memory.items():\n",
    "    tab['source_hdvs'] = xp.array(tab['source_hdvs'])\n",
    "    tab['assoc_hdv_indices'] = list(set(tab['assoc_hdv_indices'])) # get rid of duplicates\n",
    "    assert len(tab['assoc_hdv_indices']) > 0\n",
    "    tab['assoc_hdvs'] = xp.take(column.assoc_hdvs.array, tab['assoc_hdv_indices'], axis=0)\n",
    "    print(f'{target_hdv_index} -> {tab['source_hdvs'].shape[0]}, {len(tab['assoc_hdv_indices'])}')"
   ]
  },
  {
   "cell_type": "code",
   "execution_count": 11,
   "id": "d7241886-0454-43b6-b1f6-94bffcb8b230",
   "metadata": {},
   "outputs": [
    {
     "data": {
      "application/vnd.jupyter.widget-view+json": {
       "model_id": "",
       "version_major": 2,
       "version_minor": 0
      },
      "text/plain": [
       "Consolidation:   0%|          | 0/10 [00:00<?, ?it/s]"
      ]
     },
     "metadata": {},
     "output_type": "display_data"
    },
    {
     "data": {
      "application/vnd.jupyter.widget-view+json": {
       "model_id": "",
       "version_major": 2,
       "version_minor": 0
      },
      "text/plain": [
       "  0%|          | 0/1000 [00:00<?, ?it/s]"
      ]
     },
     "metadata": {},
     "output_type": "display_data"
    },
    {
     "data": {
      "application/vnd.jupyter.widget-view+json": {
       "model_id": "",
       "version_major": 2,
       "version_minor": 0
      },
      "text/plain": [
       "  0%|          | 0/1000 [00:00<?, ?it/s]"
      ]
     },
     "metadata": {},
     "output_type": "display_data"
    },
    {
     "data": {
      "application/vnd.jupyter.widget-view+json": {
       "model_id": "",
       "version_major": 2,
       "version_minor": 0
      },
      "text/plain": [
       "  0%|          | 0/1000 [00:00<?, ?it/s]"
      ]
     },
     "metadata": {},
     "output_type": "display_data"
    },
    {
     "data": {
      "application/vnd.jupyter.widget-view+json": {
       "model_id": "",
       "version_major": 2,
       "version_minor": 0
      },
      "text/plain": [
       "  0%|          | 0/1000 [00:00<?, ?it/s]"
      ]
     },
     "metadata": {},
     "output_type": "display_data"
    },
    {
     "data": {
      "application/vnd.jupyter.widget-view+json": {
       "model_id": "",
       "version_major": 2,
       "version_minor": 0
      },
      "text/plain": [
       "  0%|          | 0/1000 [00:00<?, ?it/s]"
      ]
     },
     "metadata": {},
     "output_type": "display_data"
    },
    {
     "data": {
      "application/vnd.jupyter.widget-view+json": {
       "model_id": "",
       "version_major": 2,
       "version_minor": 0
      },
      "text/plain": [
       "  0%|          | 0/1000 [00:00<?, ?it/s]"
      ]
     },
     "metadata": {},
     "output_type": "display_data"
    },
    {
     "data": {
      "application/vnd.jupyter.widget-view+json": {
       "model_id": "",
       "version_major": 2,
       "version_minor": 0
      },
      "text/plain": [
       "  0%|          | 0/1000 [00:00<?, ?it/s]"
      ]
     },
     "metadata": {},
     "output_type": "display_data"
    },
    {
     "data": {
      "application/vnd.jupyter.widget-view+json": {
       "model_id": "",
       "version_major": 2,
       "version_minor": 0
      },
      "text/plain": [
       "  0%|          | 0/1000 [00:00<?, ?it/s]"
      ]
     },
     "metadata": {},
     "output_type": "display_data"
    },
    {
     "data": {
      "application/vnd.jupyter.widget-view+json": {
       "model_id": "",
       "version_major": 2,
       "version_minor": 0
      },
      "text/plain": [
       "  0%|          | 0/1000 [00:00<?, ?it/s]"
      ]
     },
     "metadata": {},
     "output_type": "display_data"
    },
    {
     "data": {
      "application/vnd.jupyter.widget-view+json": {
       "model_id": "",
       "version_major": 2,
       "version_minor": 0
      },
      "text/plain": [
       "  0%|          | 0/1000 [00:00<?, ?it/s]"
      ]
     },
     "metadata": {},
     "output_type": "display_data"
    }
   ],
   "source": [
    "consolidation_cycles = 1000\n",
    "    \n",
    "# ENGRAMS (associations) consolidation\n",
    "for target_hdv_index, tab in tqdm(short_memory.items(), leave=False, desc='Consolidation', total=len(short_memory)):\n",
    "    assoc_hdvs_count = tab['assoc_hdvs'].shape[0]\n",
    "    assert assoc_hdvs_count > 0\n",
    "    random_tuples_count = assoc_hdvs_count * (assoc_hdvs_count - 1) // 2\n",
    "    consolidation_cycles_ = min(random_tuples_count, consolidation_cycles)\n",
    "    log.debug(f'[COL={column_id}] Begin consolidation for target HDV index={target_hdv_index}, assoc HDVs before={assoc_hdvs_count}, cycles={consolidation_cycles_}')\n",
    "                \n",
    "    for _ in tqdm(range(consolidation_cycles_), leave=False):\n",
    "        if tab['assoc_hdvs'].shape[0] <= 1:\n",
    "            pass # don't break to not break tqdm =)\n",
    "        # Here we have all source HDVs associated with SINGLE taget_hdv via assoc_hdvs.\n",
    "        # Our goal is to optimize associations by bundling them together,\n",
    "        # but without breaking associations. The latter (breaking) could happen because\n",
    "        # we could have several distinct clusters (say A, B, C) which map to X.\n",
    "        # Should we bundle all these cluster into one megabundle then some of associations will get broken\n",
    "        \n",
    "        # 1. Pick two random assoc HDVs and merge together\n",
    "        assert tab['assoc_hdvs'].shape[0] > 1\n",
    "        assoc_hdv_indices_raw = list(range(tab['assoc_hdvs'].shape[0]))\n",
    "        assoc_hdv_indices_to_merge = RNG.choice(assoc_hdv_indices_raw, 2, replace=False)\n",
    "        assoc_hdv_indices_to_take = set(assoc_hdv_indices_raw) - set(assoc_hdv_indices_to_merge)\n",
    "        index_where_to_place_bundle = 0\n",
    "        assoc_hdv_indices_to_take = [index_where_to_place_bundle] + list(assoc_hdv_indices_to_take)\n",
    "        new_assoc_hdvs = xp.take(tab['assoc_hdvs'], assoc_hdv_indices_to_take, axis=0)\n",
    "        new_assoc_hdvs[index_where_to_place_bundle] = hdc.bundle(tab['assoc_hdvs'][assoc_hdv_indices_to_merge[0]], tab['assoc_hdvs'][assoc_hdv_indices_to_merge[1]])\n",
    "        log.debug(f'[COL={column_id}] Consolidation target HDV index={target_hdv_index}, assocs={tab['assoc_hdvs'].shape[0]}, merge {assoc_hdv_indices_to_merge[0]} with {assoc_hdv_indices_to_merge[1]}')\n",
    "\n",
    "        # 2. Check that association invariant still holds place for all source HDVs. Commit or rollback merge accordingly\n",
    "        # assoc_results = xp.einsum('ij,kj->ikj', tab['source_hdvs'], new_assoc_hdvs, dtype='b') # batch bind (map) source hdvs via new assoc_hdvs\n",
    "        # # all source hdvs still should get lead to the same SINGLE target_hdv via assoc hdvs\n",
    "        # assoc_results_shape = assoc_results.shape\n",
    "        # assoc_results = assoc_results.reshape(-1, hdc.N)\n",
    "        # assoc_results_norm = hdc.normalize(assoc_results)\n",
    "        # target_hdv = DIGITS_NORM[target_hdv_index]\n",
    "        # digit_proximity = assoc_results_norm @ target_hdv\n",
    "        # digit_proximity = digit_proximity.reshape(assoc_results_shape[0], assoc_results_shape[1])\n",
    "\n",
    "        # Equivalent non-efficient, but more comprehensible and less memory-demanding core\n",
    "        digit_proximity2 = xp.zeros((tab['source_hdvs'].shape[0], tab['assoc_hdvs'].shape[0]))\n",
    "        \n",
    "        for source_hdv_index, source_hdv in enumerate(tab['source_hdvs']):\n",
    "            assoc_results2 = tab['assoc_hdvs'] * source_hdv # map source hdv via multiple assoc_hdvs\n",
    "            assoc_results2_norm = hdc.normalize(assoc_results2)\n",
    "            digit_proximity2_for_source_hdv = assoc_results2_norm @ DIGITS_NORM[target_hdv_index] # how close is mapped source hdv to target HDV under each assoc HDV?\n",
    "            digit_proximity2[source_hdv_index] = digit_proximity2_for_source_hdv\n",
    "\n",
    "        # assert xp.allclose(digit_proximity, digit_proximity2)\n",
    "        digit_proximity = digit_proximity2\n",
    "\n",
    "        if xp.any(xp.max(digit_proximity, axis=1) < COS_SIM_THRESHOLD):\n",
    "            # We broke some associations. Rollback\n",
    "            log.debug(f'[COL={column_id}] Consolidation target HDV index={target_hdv_index}, merge of {assoc_hdv_indices_to_merge[0]} with {assoc_hdv_indices_to_merge[1]} is BREAKING')\n",
    "            pass\n",
    "        else:\n",
    "            # We didn't break any associations. Replace tab['assoc_hdvs'] with more compact version\n",
    "            log.debug(f'[COL={column_id}] Consolidation target HDV index={target_hdv_index}, merge of {assoc_hdv_indices_to_merge[0]} with {assoc_hdv_indices_to_merge[1]} is OK')\n",
    "            tab['assoc_hdvs'] = new_assoc_hdvs\n",
    "\n",
    "    log.debug(f'[COL={column_id}] End consolidation for target HDV index={target_hdv_index}, assoc HDVs before={assoc_hdvs_count}, after={tab['assoc_hdvs'].shape[0]}, reduced by {assoc_hdvs_count - tab['assoc_hdvs'].shape[0]} ({1 - tab['assoc_hdvs'].shape[0] / assoc_hdvs_count:.2f}%)')"
   ]
  },
  {
   "cell_type": "code",
   "execution_count": 13,
   "id": "fee2e91a-3cf9-4f1f-b9c9-51464ce6d7f3",
   "metadata": {},
   "outputs": [
    {
     "name": "stdout",
     "output_type": "stream",
     "text": [
      "0 -> 451, 31\n",
      "8 -> 369, 21\n",
      "3 -> 492, 33\n",
      "1 -> 533, 22\n",
      "5 -> 369, 86\n",
      "9 -> 451, 16\n",
      "7 -> 369, 24\n",
      "2 -> 492, 44\n",
      "4 -> 287, 10\n",
      "6 -> 287, 6\n"
     ]
    }
   ],
   "source": [
    "for target_hdv_index, tab in short_memory.items():\n",
    "    print(f'{target_hdv_index} -> {tab['source_hdvs'].shape[0]}, {len(tab['assoc_hdvs'])}')"
   ]
  },
  {
   "cell_type": "code",
   "execution_count": 30,
   "id": "c0b56ec5-7e3c-4d78-970b-cab45003054e",
   "metadata": {},
   "outputs": [
    {
     "data": {
      "text/plain": [
       "293"
      ]
     },
     "execution_count": 30,
     "metadata": {},
     "output_type": "execute_result"
    }
   ],
   "source": [
    "column.assoc_hdvs.clear()\n",
    "\n",
    "for tab in short_memory.values():\n",
    "    for assoc_hdv in tab['assoc_hdvs']:\n",
    "        index = column.assoc_hdvs.lease()\n",
    "        column.assoc_hdvs.array[index] = assoc_hdv\n",
    "\n",
    "column.assoc_hdvs.len"
   ]
  },
  {
   "cell_type": "code",
   "execution_count": null,
   "id": "cc549286-4674-4011-a93d-24ee0e15c8f1",
   "metadata": {},
   "outputs": [],
   "source": []
  },
  {
   "cell_type": "code",
   "execution_count": 13,
   "id": "9ee32737-067b-47ea-9d07-5e67b9e4b801",
   "metadata": {},
   "outputs": [
    {
     "data": {
      "text/html": [
       "<div style=\"\n",
       "        display: grid; \n",
       "        grid-template-columns: repeat(8, 128px);\n",
       "        column-gap: 1px;\n",
       "        row-gap: 1px;\">\n",
       "        \n",
       "            <figure style=\"margin: 5px !important;\">\n",
       "              <img src=\"data:image/png;base64,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\" style=\"height: auto\">\n",
       "              <figcaption style=\"font-size: 0.6em\">clust=248, #7346, val=5</figcaption>\n",
       "            </figure>\n",
       "        \n",
       "    </div>"
      ],
      "text/plain": [
       "<IPython.core.display.HTML object>"
      ]
     },
     "execution_count": 13,
     "metadata": {},
     "output_type": "execute_result"
    }
   ],
   "source": [
    "images = []\n",
    "captions = []\n",
    "\n",
    "if COLUMN.engrams.keys():\n",
    "    random_engram_i = RNG.choice(list(COLUMN.engrams.keys()))\n",
    "    image_ids = COLUMN.engram_to_image_ids[random_engram_i]\n",
    "    df_i = df_train_images.loc[list(image_ids)]\n",
    "    image_datas = df_i['png']\n",
    "    images = [Image.open(io.BytesIO(image_data)) for image_data in image_datas]\n",
    "    captions = list(map(lambda p: f'clust={random_engram_i}, #{p[0]}, val={p[1]}', zip(df_i.index, df_i['value'])))\n",
    "\n",
    "images = images[:32]\n",
    "captions = captions[:32]\n",
    "display_images_grid(images, captions=captions, col_count=8)"
   ]
  },
  {
   "cell_type": "code",
   "execution_count": 73,
   "id": "dedefb7f-24e7-43ca-91d6-eecc3fbaeb17",
   "metadata": {},
   "outputs": [
    {
     "data": {
      "application/vnd.jupyter.widget-view+json": {
       "model_id": "5040442d32244544bd759570a58c0829",
       "version_major": 2,
       "version_minor": 0
      },
      "text/plain": [
       "  0%|          | 0/1000 [00:00<?, ?it/s]"
      ]
     },
     "metadata": {},
     "output_type": "display_data"
    }
   ],
   "source": [
    "# TEST RUN\n",
    "TEST_RUN_ID += 1\n",
    "count = 1000\n",
    "test_run_source = (df_test_images, test_db_con, 'test')\n",
    "# test_run_source = (df_train_images, train_db_con, 'train')\n",
    "test_image_ids = RNG.choice(test_run_source[0].index.unique(), count, replace=False)\n",
    "test_result_rows = defaultdict(list)\n",
    "df_inference_results = pd.DataFrame(columns=['column_id', 'image_id', 'image_encoding_index', 'inference_vector'])\n",
    "\n",
    "for image_id in tqdm(test_image_ids):\n",
    "    column_inference_results_tab = defaultdict(list)\n",
    "    \n",
    "    image_value = test_run_source[0].loc[image_id]['value']\n",
    "    df_image_encodings = pd.read_sql('SELECT hdv FROM image_encodings WHERE image_id=:image_id AND column_id=:column_id', \n",
    "                                     params={'image_id': int(image_id), 'column_id': column_id}, \n",
    "                                     con=test_run_source[1])\n",
    "    assert len(df_image_encodings) > 0\n",
    "    image_encoding_hdvs = list(map(lambda h: xp.frombuffer(h, dtype='b'), df_image_encodings['hdv']))\n",
    "    digits_proximities = []\n",
    "\n",
    "    for image_encoding_index, image_encoding_hdv in enumerate(image_encoding_hdvs):\n",
    "        assoc_results = column.assoc_hdvs.array_active * image_encoding_hdv\n",
    "        assoc_results_norm = hdc.normalize(assoc_results)\n",
    "        digits_proximity = assoc_results_norm @ DIGITS_NORM.T\n",
    "        digits_proximity[digits_proximity < COS_SIM_THRESHOLD] = 0\n",
    "        digits_proximity = xp_array_from_gpu(xp.sum(digits_proximity, axis=0))\n",
    "        digits_proximities.append(digits_proximity)\n",
    "\n",
    "    digits_proximities = np.sum(digits_proximities, axis=0) # reduce to just a vector\n",
    "    digits_probabilities = np.exp(digits_proximities) / np.exp(digits_proximities).sum() # turn to probabilties\n",
    "    # column_inference_results_tab['column_id'].append(column_id)\n",
    "    # column_inference_results_tab['image_id'].append(image_id)\n",
    "    # # column_inference_results_tab['image_encoding_index'].append(image_encoding_index)\n",
    "    # column_inference_results_tab['inference_vector'].append(np.exp(digits_proximities) / np.exp(digits_proximities).sum())\n",
    "    \n",
    "    # df_inference_results = pd.concat([df_inference_results, pd.DataFrame(column_inference_results_tab)])\n",
    "\n",
    "    digit_index = -1\n",
    "    \n",
    "    if np.any(digits_probabilities > 0):\n",
    "        digit_index = RNG.choice(DIGITS.shape[0], p=digits_probabilities)\n",
    "\n",
    "    test_result_rows['source_ds'].append(test_run_source[2])\n",
    "    test_result_rows['test_run_id'].append(TEST_RUN_ID)\n",
    "    test_result_rows['test_image_id'].append(image_id)\n",
    "    test_result_rows['true_value'].append(image_value)\n",
    "    test_result_rows['engram_id'].append(digit_index)\n",
    "    test_result_rows['infer_value'].append(str(digit_index))\n",
    "    test_result_rows['sim'].append(COS_SIM_THRESHOLD if digit_index != -1 else 0)\n",
    "    \n",
    "\n",
    "assert set(test_result_rows.keys()) == set(df_test_results.columns)\n",
    "df_test_results_for_run = pd.DataFrame(test_result_rows, columns=df_test_results.columns)\n",
    "concat_list = [df_test_results] if len(df_test_results) > 0 else []\n",
    "concat_list.append(df_test_results_for_run)\n",
    "df_test_results = pd.concat(concat_list, ignore_index=True)\n",
    "\n",
    "    \n",
    "        \n",
    "\n",
    "    \n",
    "\n",
    "    \n",
    "    # image_encoding_hdvs_norm = hdc.normalize(image_encoding_hdvs)\n",
    "    # image_encoding_hdvs_norm = xp_array_to_gpu(image_encoding_hdvs_norm)\n",
    "\n",
    "    \n",
    "\n",
    "    # cos_sim_matrix = COLUMN.engram_norms.array @ image_encoding_hdvs_norm.T\n",
    "    # cos_sim_matrix[cos_sim_matrix < COS_SIM_THRESHOLD] = 0\n",
    "    # cos_sim_vector = xp_array_from_gpu(xp.sum(cos_sim_matrix, axis=1)) # how each mem recall (sum cos sim) is close to current image\n",
    "    \n",
    "    # assert cos_sim_vector.shape == (COLUMN.engram_norms.array.shape[0],)\n",
    "    # engram_ids_by_match_score = np.argsort(-cos_sim_vector) # sorted desc\n",
    "\n",
    "    # if engram_ids_by_match_score.shape[0] > 0:\n",
    "    #     engram_id = engram_ids_by_match_score[0]\n",
    "    #     cos_sim_value = cos_sim_vector[engram_id]\n",
    "\n",
    "    #     # if cos_sim_value >= COS_SIM_THRESHOLD:\n",
    "    #     if cos_sim_value > 0:\n",
    "    #         engram_image_ids = COLUMN.engram_to_image_ids[engram_id]\n",
    "    #         assert len(engram_image_ids) > 0\n",
    "    #         engram_image_id = next(iter(engram_image_ids))\n",
    "    #         engram_image_value = df_train_images.loc[engram_image_id]['value']\n",
    "    #         max_cos_sim_index = engram_id\n",
    "    #         max_similar_engram_image_value = engram_image_value\n",
    "    #         max_cos_sim = cos_sim_value\n",
    "    \n",
    "    # test_result_rows['source_ds'].append(test_run_source[2])\n",
    "    # test_result_rows['test_run_id'].append(TEST_RUN_ID)\n",
    "    # test_result_rows['test_image_id'].append(image_id)\n",
    "    # test_result_rows['true_value'].append(image_value)\n",
    "    # test_result_rows['engram_id'].append(max_cos_sim_index)\n",
    "    # test_result_rows['infer_value'].append(max_similar_engram_image_value)\n",
    "    # test_result_rows['sim'].append(max_cos_sim)\n",
    "    \n",
    "\n",
    "# assert set(test_result_rows.keys()) == set(df_test_results.columns)\n",
    "# df_test_results_for_run = pd.DataFrame(test_result_rows, columns=df_test_results.columns)\n",
    "# concat_list = [df_test_results] if len(df_test_results) > 0 else []\n",
    "# concat_list.append(df_test_results_for_run)\n",
    "# df_test_results = pd.concat(concat_list, ignore_index=True)"
   ]
  },
  {
   "cell_type": "code",
   "execution_count": 74,
   "id": "9ded612b-96ae-4f3d-a964-d78dcfb19834",
   "metadata": {},
   "outputs": [
    {
     "data": {
      "image/png": "[encoded data removed]",
      "text/plain": [
       "<Figure size 1600x400 with 3 Axes>"
      ]
     },
     "metadata": {},
     "output_type": "display_data"
    },
    {
     "data": {
      "text/html": [
       "<div>\n",
       "<style scoped>\n",
       "    .dataframe tbody tr th:only-of-type {\n",
       "        vertical-align: middle;\n",
       "    }\n",
       "\n",
       "    .dataframe tbody tr th {\n",
       "        vertical-align: top;\n",
       "    }\n",
       "\n",
       "    .dataframe thead th {\n",
       "        text-align: right;\n",
       "    }\n",
       "</style>\n",
       "<table border=\"1\" class=\"dataframe\">\n",
       "  <thead>\n",
       "    <tr style=\"text-align: right;\">\n",
       "      <th></th>\n",
       "      <th>count</th>\n",
       "      <th>infers</th>\n",
       "      <th>correct_infers</th>\n",
       "      <th>infer_ratio</th>\n",
       "      <th>accuracy_count</th>\n",
       "      <th>accuracy_infers</th>\n",
       "    </tr>\n",
       "    <tr>\n",
       "      <th>test_run_id</th>\n",
       "      <th></th>\n",
       "      <th></th>\n",
       "      <th></th>\n",
       "      <th></th>\n",
       "      <th></th>\n",
       "      <th></th>\n",
       "    </tr>\n",
       "  </thead>\n",
       "  <tbody>\n",
       "    <tr>\n",
       "      <th>15</th>\n",
       "      <td>100</td>\n",
       "      <td>0</td>\n",
       "      <td>0</td>\n",
       "      <td>0.0</td>\n",
       "      <td>0.000</td>\n",
       "      <td>NaN</td>\n",
       "    </tr>\n",
       "    <tr>\n",
       "      <th>16</th>\n",
       "      <td>100</td>\n",
       "      <td>100</td>\n",
       "      <td>0</td>\n",
       "      <td>1.0</td>\n",
       "      <td>0.000</td>\n",
       "      <td>0.000</td>\n",
       "    </tr>\n",
       "    <tr>\n",
       "      <th>17</th>\n",
       "      <td>100</td>\n",
       "      <td>100</td>\n",
       "      <td>69</td>\n",
       "      <td>1.0</td>\n",
       "      <td>0.690</td>\n",
       "      <td>0.690</td>\n",
       "    </tr>\n",
       "    <tr>\n",
       "      <th>18</th>\n",
       "      <td>100</td>\n",
       "      <td>100</td>\n",
       "      <td>57</td>\n",
       "      <td>1.0</td>\n",
       "      <td>0.570</td>\n",
       "      <td>0.570</td>\n",
       "    </tr>\n",
       "    <tr>\n",
       "      <th>19</th>\n",
       "      <td>100</td>\n",
       "      <td>100</td>\n",
       "      <td>73</td>\n",
       "      <td>1.0</td>\n",
       "      <td>0.730</td>\n",
       "      <td>0.730</td>\n",
       "    </tr>\n",
       "    <tr>\n",
       "      <th>20</th>\n",
       "      <td>1000</td>\n",
       "      <td>1000</td>\n",
       "      <td>664</td>\n",
       "      <td>1.0</td>\n",
       "      <td>0.664</td>\n",
       "      <td>0.664</td>\n",
       "    </tr>\n",
       "  </tbody>\n",
       "</table>\n",
       "</div>"
      ],
      "text/plain": [
       "             count  infers  correct_infers  infer_ratio  accuracy_count  \\\n",
       "test_run_id                                                               \n",
       "15             100       0               0          0.0           0.000   \n",
       "16             100     100               0          1.0           0.000   \n",
       "17             100     100              69          1.0           0.690   \n",
       "18             100     100              57          1.0           0.570   \n",
       "19             100     100              73          1.0           0.730   \n",
       "20            1000    1000             664          1.0           0.664   \n",
       "\n",
       "             accuracy_infers  \n",
       "test_run_id                   \n",
       "15                       NaN  \n",
       "16                     0.000  \n",
       "17                     0.690  \n",
       "18                     0.570  \n",
       "19                     0.730  \n",
       "20                     0.664  "
      ]
     },
     "execution_count": 74,
     "metadata": {},
     "output_type": "execute_result"
    }
   ],
   "source": [
    "df_test_results2 = df_test_results.copy()\n",
    "df_test_results2['is_infer'] = df_test_results2['engram_id'] > -1\n",
    "df_test_results2['is_correct_infer'] = df_test_results2['true_value'] == df_test_results2['infer_value']\n",
    "df_test_results2 = df_test_results2.groupby(by=['test_run_id']).agg({'test_image_id': 'count', 'is_infer': 'sum', 'is_correct_infer': 'sum'})\n",
    "df_test_results2.rename(columns=dict(test_image_id='count', is_infer='infers', is_correct_infer='correct_infers'), inplace=True, errors='raise')\n",
    "df_test_results2['infer_ratio'] = df_test_results2['infers'] / df_test_results2['count']\n",
    "df_test_results2['accuracy_count'] = df_test_results2['correct_infers'] / df_test_results2['count']\n",
    "df_test_results2['accuracy_infers'] = df_test_results2['correct_infers'] / df_test_results2['infers']\n",
    "\n",
    "plt.figure(figsize=(16, 4))\n",
    "plt.subplot(1, 3, 1)\n",
    "b = plt.bar(list(map(str, df_test_results2.index)), list(df_test_results2['infer_ratio']))\n",
    "plt.bar_label(b, map(lambda p: f'{p*100:.0f}', df_test_results2['infer_ratio']), label_type='center')\n",
    "plt.ylim(0, 1)\n",
    "plt.title('Infers, %')\n",
    "plt.xlabel('Test run')\n",
    "plt.grid()\n",
    "\n",
    "plt.subplot(1, 3, 2)\n",
    "b = plt.bar(list(map(str, df_test_results2.index)), list(df_test_results2['accuracy_count']))\n",
    "plt.bar_label(b, map(lambda p: f'{p*100:.0f}', df_test_results2['accuracy_count']), label_type='center')\n",
    "plt.ylim(0, 1)\n",
    "plt.title('Accuracy (Count), %')\n",
    "plt.xlabel('Test run')\n",
    "plt.grid()\n",
    "\n",
    "plt.subplot(1, 3, 3)\n",
    "b = plt.bar(list(map(str, df_test_results2.index)), list(df_test_results2['accuracy_infers']))\n",
    "plt.bar_label(b, map(lambda p: f'{p*100:.0f}', df_test_results2['accuracy_infers']), label_type='center')\n",
    "plt.ylim(0, 1)\n",
    "plt.title('Accuracy (Infers), %')\n",
    "plt.xlabel('Test run')\n",
    "plt.grid()\n",
    "\n",
    "plt.show()\n",
    "df_test_results2"
   ]
  },
  {
   "cell_type": "code",
   "execution_count": null,
   "id": "90c7e7d6-d5fc-4012-9c88-164320308f20",
   "metadata": {},
   "outputs": [],
   "source": []
  },
  {
   "cell_type": "code",
   "execution_count": 17,
   "id": "a7f7fd04-f413-47bf-b601-3a9327b61c82",
   "metadata": {},
   "outputs": [
    {
     "data": {
      "text/html": [
       "<div>\n",
       "<style scoped>\n",
       "    .dataframe tbody tr th:only-of-type {\n",
       "        vertical-align: middle;\n",
       "    }\n",
       "\n",
       "    .dataframe tbody tr th {\n",
       "        vertical-align: top;\n",
       "    }\n",
       "\n",
       "    .dataframe thead th {\n",
       "        text-align: right;\n",
       "    }\n",
       "</style>\n",
       "<table border=\"1\" class=\"dataframe\">\n",
       "  <thead>\n",
       "    <tr style=\"text-align: right;\">\n",
       "      <th></th>\n",
       "      <th>test_run_id</th>\n",
       "      <th>test_image_id</th>\n",
       "      <th>true_value</th>\n",
       "      <th>engram_id</th>\n",
       "      <th>engram_value</th>\n",
       "      <th>sim</th>\n",
       "    </tr>\n",
       "  </thead>\n",
       "  <tbody>\n",
       "    <tr>\n",
       "      <th>0</th>\n",
       "      <td>1</td>\n",
       "      <td>100002322</td>\n",
       "      <td>5</td>\n",
       "      <td>79</td>\n",
       "      <td>3</td>\n",
       "      <td>3.862693</td>\n",
       "    </tr>\n",
       "    <tr>\n",
       "      <th>1</th>\n",
       "      <td>1</td>\n",
       "      <td>100002322</td>\n",
       "      <td>5</td>\n",
       "      <td>20</td>\n",
       "      <td>8</td>\n",
       "      <td>3.840800</td>\n",
       "    </tr>\n",
       "    <tr>\n",
       "      <th>2</th>\n",
       "      <td>1</td>\n",
       "      <td>100002322</td>\n",
       "      <td>5</td>\n",
       "      <td>233</td>\n",
       "      <td>5</td>\n",
       "      <td>3.744116</td>\n",
       "    </tr>\n",
       "    <tr>\n",
       "      <th>3</th>\n",
       "      <td>1</td>\n",
       "      <td>100002322</td>\n",
       "      <td>5</td>\n",
       "      <td>200</td>\n",
       "      <td>5</td>\n",
       "      <td>3.571549</td>\n",
       "    </tr>\n",
       "    <tr>\n",
       "      <th>4</th>\n",
       "      <td>1</td>\n",
       "      <td>100002322</td>\n",
       "      <td>5</td>\n",
       "      <td>237</td>\n",
       "      <td>5</td>\n",
       "      <td>3.424872</td>\n",
       "    </tr>\n",
       "    <tr>\n",
       "      <th>5</th>\n",
       "      <td>1</td>\n",
       "      <td>100002322</td>\n",
       "      <td>5</td>\n",
       "      <td>1</td>\n",
       "      <td>5</td>\n",
       "      <td>3.314627</td>\n",
       "    </tr>\n",
       "    <tr>\n",
       "      <th>6</th>\n",
       "      <td>1</td>\n",
       "      <td>100002322</td>\n",
       "      <td>5</td>\n",
       "      <td>47</td>\n",
       "      <td>3</td>\n",
       "      <td>3.269252</td>\n",
       "    </tr>\n",
       "    <tr>\n",
       "      <th>7</th>\n",
       "      <td>1</td>\n",
       "      <td>100002322</td>\n",
       "      <td>5</td>\n",
       "      <td>163</td>\n",
       "      <td>3</td>\n",
       "      <td>3.015236</td>\n",
       "    </tr>\n",
       "    <tr>\n",
       "      <th>8</th>\n",
       "      <td>1</td>\n",
       "      <td>100002322</td>\n",
       "      <td>5</td>\n",
       "      <td>196</td>\n",
       "      <td>5</td>\n",
       "      <td>2.974074</td>\n",
       "    </tr>\n",
       "    <tr>\n",
       "      <th>9</th>\n",
       "      <td>1</td>\n",
       "      <td>100002322</td>\n",
       "      <td>5</td>\n",
       "      <td>2</td>\n",
       "      <td>3</td>\n",
       "      <td>2.696484</td>\n",
       "    </tr>\n",
       "  </tbody>\n",
       "</table>\n",
       "</div>"
      ],
      "text/plain": [
       "   test_run_id  test_image_id true_value  engram_id engram_value       sim\n",
       "0            1      100002322          5         79            3  3.862693\n",
       "1            1      100002322          5         20            8  3.840800\n",
       "2            1      100002322          5        233            5  3.744116\n",
       "3            1      100002322          5        200            5  3.571549\n",
       "4            1      100002322          5        237            5  3.424872\n",
       "5            1      100002322          5          1            5  3.314627\n",
       "6            1      100002322          5         47            3  3.269252\n",
       "7            1      100002322          5        163            3  3.015236\n",
       "8            1      100002322          5        196            5  2.974074\n",
       "9            1      100002322          5          2            3  2.696484"
      ]
     },
     "execution_count": 17,
     "metadata": {},
     "output_type": "execute_result"
    }
   ],
   "source": [
    "df_test_results_incorrect_infers = df_test_results_for_run[df_test_results_for_run['true_value'] != df_test_results_for_run['infer_value']]\n",
    "incorrect_infer_row_index = RNG.choice(df_test_results_incorrect_infers.index.unique())\n",
    "test_run_id = df_test_results_incorrect_infers.loc[incorrect_infer_row_index]['test_run_id']\n",
    "incorrect_infer_image_id = df_test_results_incorrect_infers.loc[incorrect_infer_row_index]['test_image_id']\n",
    "image_data = test_run_source[0].loc[incorrect_infer_image_id]['png']\n",
    "image_value = test_run_source[0].loc[incorrect_infer_image_id]['value']\n",
    "\n",
    "df_x = pd.DataFrame(columns=['test_run_id', 'test_image_id', 'true_value', 'engram_id', 'engram_value', 'sim'])\n",
    "df_image_encodings = pd.read_sql('SELECT hdv FROM image_encodings WHERE image_id=:image_id', params={'image_id': int(incorrect_infer_image_id)}, con=test_run_source[1])\n",
    "assert len(df_image_encodings) > 0\n",
    "image_encoding_hdvs = list(map(lambda h: np.frombuffer(h, dtype='b'), df_image_encodings['hdv']))\n",
    "image_encoding_hdvs_norm = hdc.normalize(image_encoding_hdvs)\n",
    "image_encoding_hdvs_norm = xp_array_to_gpu(image_encoding_hdvs_norm)\n",
    "\n",
    "cos_sim_matrix = COLUMN.engram_norms.array @ image_encoding_hdvs_norm.T\n",
    "cos_sim_matrix[cos_sim_matrix < COS_SIM_THRESHOLD] = 0\n",
    "cos_sim_vector = xp_array_from_gpu(xp.sum(cos_sim_matrix, axis=1)) # how each mem recall (sum cos sim) is close to current image\n",
    "\n",
    "assert cos_sim_vector.shape == (COLUMN.engram_norms.array.shape[0],)\n",
    "engram_ids_by_match_score = np.argsort(-cos_sim_vector) # sorted desc\n",
    "\n",
    "for pos, engram_id in enumerate(engram_ids_by_match_score):\n",
    "    cos_sim_value = cos_sim_vector[engram_id]\n",
    "\n",
    "    if cos_sim_value <= 0:\n",
    "        break\n",
    "        \n",
    "    engram_image_ids = COLUMN.engram_to_image_ids[engram_id]\n",
    "    assert len(engram_image_ids) > 0\n",
    "    engram_image_id = next(iter(engram_image_ids))\n",
    "    engram_image_value = df_train_images.loc[engram_image_id]['value'] # exactly from train! (i.e. we look for prototype in train data)\n",
    "    df_x.loc[len(df_x)] = [test_run_id, incorrect_infer_image_id, image_value, engram_id, engram_image_value, cos_sim_value]\n",
    "\n",
    "df_x.sort_values(by='sim', ascending=False).head(10)"
   ]
  },
  {
   "cell_type": "code",
   "execution_count": 18,
   "id": "5ff3a026-80df-4d27-af26-5939c7a1ae64",
   "metadata": {},
   "outputs": [
    {
     "data": {
      "text/html": [
       "\n",
       "        <div style=\"display: flex; flex-flow: row wrap; text-align: center;\">\n",
       "        \n",
       "            <figure style=\"margin: 5px !important;\">\n",
       "              <img src=\"data:image/png;base64,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\" style=\"height: auto\">\n",
       "              <figcaption style=\"font-size: 0.6em\">5</figcaption>\n",
       "            </figure>\n",
       "        \n",
       "        </div>\n",
       "    "
      ],
      "text/plain": [
       "<IPython.core.display.HTML object>"
      ]
     },
     "execution_count": 18,
     "metadata": {},
     "output_type": "execute_result"
    }
   ],
   "source": [
    "image_data = test_run_source[0].loc[incorrect_infer_image_id]['png']\n",
    "image = Image.open(io.BytesIO(image_data))\n",
    "label = test_run_source[0].loc[incorrect_infer_image_id]['value']\n",
    "display_images([image], captions=[label])"
   ]
  },
  {
   "cell_type": "code",
   "execution_count": 19,
   "id": "0c9b40bc-7e09-40a6-947b-090d0ef463a2",
   "metadata": {},
   "outputs": [
    {
     "data": {
      "text/html": [
       "<div>\n",
       "<style scoped>\n",
       "    .dataframe tbody tr th:only-of-type {\n",
       "        vertical-align: middle;\n",
       "    }\n",
       "\n",
       "    .dataframe tbody tr th {\n",
       "        vertical-align: top;\n",
       "    }\n",
       "\n",
       "    .dataframe thead th {\n",
       "        text-align: right;\n",
       "    }\n",
       "</style>\n",
       "<table border=\"1\" class=\"dataframe\">\n",
       "  <thead>\n",
       "    <tr style=\"text-align: right;\">\n",
       "      <th></th>\n",
       "      <th>engram_value</th>\n",
       "      <th>sim</th>\n",
       "      <th>true_value</th>\n",
       "    </tr>\n",
       "    <tr>\n",
       "      <th>engram_id</th>\n",
       "      <th></th>\n",
       "      <th></th>\n",
       "      <th></th>\n",
       "    </tr>\n",
       "  </thead>\n",
       "  <tbody>\n",
       "    <tr>\n",
       "      <th>79</th>\n",
       "      <td>3</td>\n",
       "      <td>3.862693</td>\n",
       "      <td>5</td>\n",
       "    </tr>\n",
       "    <tr>\n",
       "      <th>20</th>\n",
       "      <td>8</td>\n",
       "      <td>3.840800</td>\n",
       "      <td>5</td>\n",
       "    </tr>\n",
       "    <tr>\n",
       "      <th>233</th>\n",
       "      <td>5</td>\n",
       "      <td>3.744116</td>\n",
       "      <td>5</td>\n",
       "    </tr>\n",
       "    <tr>\n",
       "      <th>200</th>\n",
       "      <td>5</td>\n",
       "      <td>3.571549</td>\n",
       "      <td>5</td>\n",
       "    </tr>\n",
       "    <tr>\n",
       "      <th>237</th>\n",
       "      <td>5</td>\n",
       "      <td>3.424872</td>\n",
       "      <td>5</td>\n",
       "    </tr>\n",
       "    <tr>\n",
       "      <th>...</th>\n",
       "      <td>...</td>\n",
       "      <td>...</td>\n",
       "      <td>...</td>\n",
       "    </tr>\n",
       "    <tr>\n",
       "      <th>288</th>\n",
       "      <td>4</td>\n",
       "      <td>0.056177</td>\n",
       "      <td>5</td>\n",
       "    </tr>\n",
       "    <tr>\n",
       "      <th>146</th>\n",
       "      <td>3</td>\n",
       "      <td>0.055770</td>\n",
       "      <td>5</td>\n",
       "    </tr>\n",
       "    <tr>\n",
       "      <th>320</th>\n",
       "      <td>2</td>\n",
       "      <td>0.055655</td>\n",
       "      <td>5</td>\n",
       "    </tr>\n",
       "    <tr>\n",
       "      <th>133</th>\n",
       "      <td>6</td>\n",
       "      <td>0.055636</td>\n",
       "      <td>5</td>\n",
       "    </tr>\n",
       "    <tr>\n",
       "      <th>60</th>\n",
       "      <td>3</td>\n",
       "      <td>0.055534</td>\n",
       "      <td>5</td>\n",
       "    </tr>\n",
       "  </tbody>\n",
       "</table>\n",
       "<p>112 rows × 3 columns</p>\n",
       "</div>"
      ],
      "text/plain": [
       "          engram_value       sim true_value\n",
       "engram_id                                  \n",
       "79                   3  3.862693          5\n",
       "20                   8  3.840800          5\n",
       "233                  5  3.744116          5\n",
       "200                  5  3.571549          5\n",
       "237                  5  3.424872          5\n",
       "...                ...       ...        ...\n",
       "288                  4  0.056177          5\n",
       "146                  3  0.055770          5\n",
       "320                  2  0.055655          5\n",
       "133                  6  0.055636          5\n",
       "60                   3  0.055534          5\n",
       "\n",
       "[112 rows x 3 columns]"
      ]
     },
     "execution_count": 19,
     "metadata": {},
     "output_type": "execute_result"
    }
   ],
   "source": [
    "df_x_pivot = pd.pivot_table(df_x, index='engram_id', \n",
    "                            values=['true_value', 'engram_value', 'sim'], \n",
    "                            aggfunc=dict(engram_value='first', true_value='first', sim='sum'))\n",
    "df_x_pivot.sort_values(by='sim', ascending=False)"
   ]
  },
  {
   "cell_type": "code",
   "execution_count": null,
   "id": "4b970735-532f-4a82-adfa-2df3f534203b",
   "metadata": {},
   "outputs": [],
   "source": []
  },
  {
   "cell_type": "code",
   "execution_count": 20,
   "id": "13076351-aaf9-4ef1-9e86-a77ee51ab0c0",
   "metadata": {},
   "outputs": [
    {
     "data": {
      "text/html": [
       "<div>\n",
       "<style scoped>\n",
       "    .dataframe tbody tr th:only-of-type {\n",
       "        vertical-align: middle;\n",
       "    }\n",
       "\n",
       "    .dataframe tbody tr th {\n",
       "        vertical-align: top;\n",
       "    }\n",
       "\n",
       "    .dataframe thead th {\n",
       "        text-align: right;\n",
       "    }\n",
       "</style>\n",
       "<table border=\"1\" class=\"dataframe\">\n",
       "  <thead>\n",
       "    <tr style=\"text-align: right;\">\n",
       "      <th></th>\n",
       "      <th>engram_value</th>\n",
       "      <th>sim</th>\n",
       "      <th>true_value</th>\n",
       "    </tr>\n",
       "    <tr>\n",
       "      <th>engram_id</th>\n",
       "      <th></th>\n",
       "      <th></th>\n",
       "      <th></th>\n",
       "    </tr>\n",
       "  </thead>\n",
       "  <tbody>\n",
       "    <tr>\n",
       "      <th>79</th>\n",
       "      <td>3</td>\n",
       "      <td>3.862693</td>\n",
       "      <td>5</td>\n",
       "    </tr>\n",
       "    <tr>\n",
       "      <th>20</th>\n",
       "      <td>8</td>\n",
       "      <td>3.840800</td>\n",
       "      <td>5</td>\n",
       "    </tr>\n",
       "    <tr>\n",
       "      <th>233</th>\n",
       "      <td>5</td>\n",
       "      <td>3.744116</td>\n",
       "      <td>5</td>\n",
       "    </tr>\n",
       "    <tr>\n",
       "      <th>200</th>\n",
       "      <td>5</td>\n",
       "      <td>3.571549</td>\n",
       "      <td>5</td>\n",
       "    </tr>\n",
       "    <tr>\n",
       "      <th>237</th>\n",
       "      <td>5</td>\n",
       "      <td>3.424872</td>\n",
       "      <td>5</td>\n",
       "    </tr>\n",
       "    <tr>\n",
       "      <th>...</th>\n",
       "      <td>...</td>\n",
       "      <td>...</td>\n",
       "      <td>...</td>\n",
       "    </tr>\n",
       "    <tr>\n",
       "      <th>288</th>\n",
       "      <td>4</td>\n",
       "      <td>0.056177</td>\n",
       "      <td>5</td>\n",
       "    </tr>\n",
       "    <tr>\n",
       "      <th>146</th>\n",
       "      <td>3</td>\n",
       "      <td>0.055770</td>\n",
       "      <td>5</td>\n",
       "    </tr>\n",
       "    <tr>\n",
       "      <th>320</th>\n",
       "      <td>2</td>\n",
       "      <td>0.055655</td>\n",
       "      <td>5</td>\n",
       "    </tr>\n",
       "    <tr>\n",
       "      <th>133</th>\n",
       "      <td>6</td>\n",
       "      <td>0.055636</td>\n",
       "      <td>5</td>\n",
       "    </tr>\n",
       "    <tr>\n",
       "      <th>60</th>\n",
       "      <td>3</td>\n",
       "      <td>0.055534</td>\n",
       "      <td>5</td>\n",
       "    </tr>\n",
       "  </tbody>\n",
       "</table>\n",
       "<p>112 rows × 3 columns</p>\n",
       "</div>"
      ],
      "text/plain": [
       "          engram_value       sim true_value\n",
       "engram_id                                  \n",
       "79                   3  3.862693          5\n",
       "20                   8  3.840800          5\n",
       "233                  5  3.744116          5\n",
       "200                  5  3.571549          5\n",
       "237                  5  3.424872          5\n",
       "...                ...       ...        ...\n",
       "288                  4  0.056177          5\n",
       "146                  3  0.055770          5\n",
       "320                  2  0.055655          5\n",
       "133                  6  0.055636          5\n",
       "60                   3  0.055534          5\n",
       "\n",
       "[112 rows x 3 columns]"
      ]
     },
     "execution_count": 20,
     "metadata": {},
     "output_type": "execute_result"
    }
   ],
   "source": [
    "df_x_pivot = pd.pivot_table(df_x, index='engram_id', \n",
    "                            values=['true_value', 'engram_value', 'sim'], \n",
    "                            aggfunc=dict(engram_value='first', true_value='first', sim='max'))\n",
    "df_x_pivot.sort_values(by='sim', ascending=False)"
   ]
  },
  {
   "cell_type": "code",
   "execution_count": 21,
   "id": "741528e7-cb1b-4583-93eb-c9c8425c70be",
   "metadata": {},
   "outputs": [
    {
     "data": {
      "text/plain": [
       "np.int64(1)"
      ]
     },
     "execution_count": 21,
     "metadata": {},
     "output_type": "execute_result"
    }
   ],
   "source": [
    "df_test_results_incorrect_infers.loc[incorrect_infer_row_index]['test_run_id']"
   ]
  },
  {
   "cell_type": "code",
   "execution_count": 22,
   "id": "75cc7cda-ca51-48b0-8fd1-b21a9244fcb5",
   "metadata": {},
   "outputs": [
    {
     "data": {
      "text/plain": [
       "np.int64(396)"
      ]
     },
     "execution_count": 22,
     "metadata": {},
     "output_type": "execute_result"
    }
   ],
   "source": [
    "incorrect_infer_row_index"
   ]
  },
  {
   "cell_type": "code",
   "execution_count": null,
   "id": "173a27b8-9f22-47c0-a23a-ca3669ac1222",
   "metadata": {},
   "outputs": [],
   "source": []
  },
  {
   "cell_type": "code",
   "execution_count": null,
   "id": "88170617-5c38-4250-87af-edd152d31a51",
   "metadata": {},
   "outputs": [],
   "source": []
  }
 ],
 "metadata": {
  "kernelspec": {
   "display_name": "Python 3 (ipykernel)",
   "language": "python",
   "name": "python3"
  },
  "language_info": {
   "codemirror_mode": {
    "name": "ipython",
    "version": 3
   },
   "file_extension": ".py",
   "mimetype": "text/x-python",
   "name": "python",
   "nbconvert_exporter": "python",
   "pygments_lexer": "ipython3",
   "version": "3.12.2"
  }
 },
 "nbformat": 4,
 "nbformat_minor": 5
}
