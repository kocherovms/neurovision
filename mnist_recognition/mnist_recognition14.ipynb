{
 "cells": [
  {
   "cell_type": "code",
   "execution_count": 1,
   "id": "27532844-1826-4299-b063-16a22e592f3f",
   "metadata": {},
   "outputs": [],
   "source": [
    "import os, math\n",
    "from collections import defaultdict\n",
    "import itertools\n",
    "import sqlite3\n",
    "\n",
    "import logging\n",
    "import logging.handlers\n",
    "\n",
    "from PIL import Image, ImageDraw\n",
    "from tqdm.notebook import tqdm\n",
    "\n",
    "from sklearn.model_selection import train_test_split\n",
    "import matplotlib.pyplot as plt\n",
    "import scipy\n",
    "import numpy as np\n",
    "import cupy as cp\n",
    "import pandas as pd\n",
    "\n",
    "from utils import *\n",
    "from hdc import *"
   ]
  },
  {
   "cell_type": "code",
   "execution_count": 2,
   "id": "73358262-adf2-4d17-a383-f120a5d1f8aa",
   "metadata": {},
   "outputs": [
    {
     "name": "stdout",
     "output_type": "stream",
     "text": [
      "xp = cupy\n"
     ]
    }
   ],
   "source": [
    "# config_var = 'SQLITE3'\n",
    "# config_var = 'SQLITE3_CIRCULAR_CIRCLES_RETINA'\n",
    "config_var = 'SQLITE3_GRID_RETINA'\n",
    "config = Config(config_var)\n",
    "RNG = np.random.default_rng()\n",
    "\n",
    "if cp.cuda.is_available():\n",
    "    device_marker = cp.empty(1)\n",
    "    xp_array_from_gpu = lambda a: a.get() if isinstance(a, cp.ndarray) else a\n",
    "    xp_array_to_gpu = lambda a: cp.asarray(a) if isinstance(a, np.ndarray) else a\n",
    "else:\n",
    "    device_marker = np.empty(1)\n",
    "    xp_array_from_gpu = lambda a: a\n",
    "    xp_array_to_gpu = lambda a: a\n",
    "    \n",
    "xp = cp.get_array_module(device_marker)\n",
    "print(f'xp = {xp.__name__}')\n",
    "\n",
    "log = logging.getLogger('kmslog')\n",
    "log.setLevel(logging.DEBUG)\n",
    "\n",
    "if not log.hasHandlers():\n",
    "    log.addHandler(logging.handlers.SysLogHandler(address = '/dev/log', facility=logging.handlers.SysLogHandler.LOG_LOCAL0))\n",
    "\n",
    "train_db_con = sqlite3.connect(os.path.join(config.dataset_path, config.train_db_file_name))\n",
    "test_db_con = sqlite3.connect(os.path.join(config.dataset_path, config.test_db_file_name))"
   ]
  },
  {
   "cell_type": "code",
   "execution_count": 3,
   "id": "d2dd62ab-b44e-4251-9e86-d41b3672e36e",
   "metadata": {},
   "outputs": [
    {
     "name": "stdout",
     "output_type": "stream",
     "text": [
      "CPU times: user 3 μs, sys: 1 μs, total: 4 μs\n",
      "Wall time: 4.77 μs\n"
     ]
    },
    {
     "data": {
      "text/plain": [
       "((10000, 3), (2000, 3))"
      ]
     },
     "execution_count": 3,
     "metadata": {},
     "output_type": "execute_result"
    }
   ],
   "source": [
    "%time\n",
    "df_train_images = pd.read_sql_query('SELECT * FROM images', con=train_db_con, index_col='image_id')\n",
    "df_test_images = pd.read_sql_query('SELECT * FROM images', con=test_db_con, index_col='image_id')\n",
    "df_train_images.shape, df_test_images.shape"
   ]
  },
  {
   "cell_type": "code",
   "execution_count": 4,
   "id": "75910c5d-054d-43c0-9a34-125ecde5a068",
   "metadata": {},
   "outputs": [
    {
     "data": {
      "text/html": [
       "<div>\n",
       "<style scoped>\n",
       "    .dataframe tbody tr th:only-of-type {\n",
       "        vertical-align: middle;\n",
       "    }\n",
       "\n",
       "    .dataframe tbody tr th {\n",
       "        vertical-align: top;\n",
       "    }\n",
       "\n",
       "    .dataframe thead th {\n",
       "        text-align: right;\n",
       "    }\n",
       "</style>\n",
       "<table border=\"1\" class=\"dataframe\">\n",
       "  <thead>\n",
       "    <tr style=\"text-align: right;\">\n",
       "      <th></th>\n",
       "      <th>index</th>\n",
       "      <th>value</th>\n",
       "      <th>png</th>\n",
       "    </tr>\n",
       "    <tr>\n",
       "      <th>image_id</th>\n",
       "      <th></th>\n",
       "      <th></th>\n",
       "      <th></th>\n",
       "    </tr>\n",
       "  </thead>\n",
       "  <tbody>\n",
       "    <tr>\n",
       "      <th>29421</th>\n",
       "      <td>0</td>\n",
       "      <td>0</td>\n",
       "      <td>b'\\x89PNG\\r\\n\\x1a\\n\\x00\\x00\\x00\\rIHDR\\x00\\x00\\...</td>\n",
       "    </tr>\n",
       "  </tbody>\n",
       "</table>\n",
       "</div>"
      ],
      "text/plain": [
       "          index value                                                png\n",
       "image_id                                                                \n",
       "29421         0     0  b'\\x89PNG\\r\\n\\x1a\\n\\x00\\x00\\x00\\rIHDR\\x00\\x00\\..."
      ]
     },
     "execution_count": 4,
     "metadata": {},
     "output_type": "execute_result"
    }
   ],
   "source": [
    "df_train_images.head(1)"
   ]
  },
  {
   "cell_type": "code",
   "execution_count": 5,
   "id": "b5a3b4ca-998d-4309-8499-d868b00ef9be",
   "metadata": {},
   "outputs": [],
   "source": [
    "def matrix_to_image(m):\n",
    "    m = m.ravel()\n",
    "    sz = int(np.sqrt(m.shape[0]))\n",
    "    assert sz * sz == m.shape[0]\n",
    "    return Image.frombytes('L', size=(sz, sz), data=m.astype('b'))"
   ]
  },
  {
   "cell_type": "code",
   "execution_count": 6,
   "id": "bc06ecb2-5ba8-4669-9dd9-17624127b081",
   "metadata": {},
   "outputs": [],
   "source": [
    "def lay_grid(image, step):\n",
    "    draw = ImageDraw.Draw(image)\n",
    "\n",
    "    for c in range(step - 1, image.height, step):\n",
    "        draw.line([0, c, image.width, c], fill=127)\n",
    "        draw.line([c, 0, c, image.height], fill=127)\n",
    "\n",
    "    return image"
   ]
  },
  {
   "cell_type": "code",
   "execution_count": 7,
   "id": "70b21219-4f16-4824-90ec-7bda1574c5d1",
   "metadata": {},
   "outputs": [
    {
     "data": {
      "text/html": [
       "<div style=\"\n",
       "        display: grid; \n",
       "        grid-template-columns: repeat(8, 128px);\n",
       "        column-gap: 1px;\n",
       "        row-gap: 1px;\">\n",
       "        \n",
       "            <figure style=\"margin: 5px !important;\">\n",
       "              <img src=\"data:image/png;base64,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\" style=\"height: auto\">\n",
       "              <figcaption style=\"font-size: 0.6em\">5</figcaption>\n",
       "            </figure>\n",
       "        \n",
       "            <figure style=\"margin: 5px !important;\">\n",
       "              <img src=\"data:image/png;base64,iVBORw0KGgoAAAANSUhEUgAAAIAAAACACAAAAADmVT4XAAAFXElEQVR4nO2aS7PjNBCFT+vld5L7IlAsqGIB//8XMbCh5gGXGWzf2JK6WSS5A6xiKSQ1Rc4yVZa/tKR295GAm2666aabbrrp/y7KfJxIKW00SQwhisjiEUwmgHVF2a66IgzPz8MceDFCJoBybbfZfvtNN7998+ZdjxCXjpAJoIvucfv9j98/jD/ZcfSB+cIRMNX66ZvvfvjxqVfv31S9DotHUFnvJ1NvHr/+evuo16u60IqWr+lMANvebbdPawOIpO2oPABdtA/b7X0NzDu/ePrPAOCq1f3T07oAxpcp8IXzAJFtus3d/V3rgMQ0lANA1lX3jw/3m65UgLCwXDYC5NrNV9un+1VrATAzL08CyFkDynUP2+3jXVtqABwj8/JEnDcFzebh4a6rCgDsvU/Jg1kApmy7rq0cQdhP026aQ0IEMrahdmVTl1YD7MdhGIbRx+UE6QCkbVGWVgPgeRj6fhjDRacAyjjnjIKA/cs4jOMuIQBZiUgZawxBSOI8z9PsU0bJWANEpBQpAiDMzJw0St63AEnfn3MBiAiLCAhESimVNlROBOQ1+RMRJRQjuQBn0RcNQAAgIkgqBM4AcBbdAL5oAAEAIkJiCsgGOIu+aACRpEL8bAAC4bRe4EwAf0O5TiYkpbRWmSZTDoAyriispuNiSAtDTlVc1G1dWgXJWY5ZfUHdNpVTEMF1ImCLsnRaAYeS6MIA+7fuiwJljDEmaUFmAHDw8+wDg5Qtq7quS6OXhyEdQOI89uNuZkC7pu26tnEJMUjvjCROY9+3TSRoJ03bNrWPvLhTyGjNot+97ObAIFJSFEXhNNHirXAyACkQ4bDnAQASQwhx35DtG4OUnXgqAGmjFAHgGOMBgGOIvPcnYwwhhASzfAGAtVoBEr2XQxv6OfuIn+d5nlO8ypMBlHFGAxzBB0eaSGu1D0ucp2maZh+Xd6sL1oDSGiB5daQ/f4wQvU8MwOkAIswEfLbiyFTdet04LSLRH3LSfwcgHBQiwPFoBJFr7x4fVqXav9/7NIfk5AhwQFQAczzuPNfdPz02TgsHH/w8h+WnFQsAhKNEBbAc3Uiy9fpu4xQi834TLj4vWgIAYRHe2yKHX5SrmpKAo1Gcdl5weipmkmMm3BORccW+QweQXJCcPAWA7Lff8UUC0p+fTi5ITp+CV0vs+E/p4EtRlkd0+hT8O8JapxpjiQD/EEE7Z3RuU4DUioigTOns4eGs3iwxiKRcXR4AJAshMQLKlE1lVb5TmwigTFE1ldP5708FKJr1pquutwh12W3uVpUlADh2JxcFcM1q1ZZX3IbGlaUz53A3EseQxIPacwFwmKbdlHJIdi4Av+v7l3lfgYhcPhGxfxn6YYrXi0CYxtcIXANAwjR8Gma52ueYw0RlP8lrLk6uRxIBJAp/HCbeZ8KsG2mpABzsuJuDBZDl1icbFIJ5Nw59pTWBcBWbjuf++bdPO88g2h8eJw2TcYPC97+/Y4bSREjuS3IAwvD8wVrnNNF1jMow9X8OUxAQaW2sNUkIOQcWMfjIIKW0qdqmaWqrlw+Xe2QDUiBTtOv1et2VCW5tzoXGV5NeOaw2m3UXoyxeihlWLUc/T/ubI6ZqmqaubEKNlmHVhvHTc12VhdGKyFqjk0rEDIDdx7cWylhdlYBRJDFe9B4Rv/yuY4BxGk4DEn2ST5YTgT/iFFRRarIddtNuN/uEEGQA+BiCKpsSLBM+PPcv82WvckmMQq6u1PjxQ4fnn9/1UxS5aB5AnPr3GN+uuwrDr788TzGhPs5rrnRRNU1ZlAbzn398HHzCFzkPgJTSSilF4Jh0WnDTTTfddNNNN90E/AWGVcJcYZLO9AAAAABJRU5ErkJggg==\" style=\"height: auto\">\n",
       "              <figcaption style=\"font-size: 0.6em\">1</figcaption>\n",
       "            </figure>\n",
       "        \n",
       "            <figure style=\"margin: 5px !important;\">\n",
       "              <img src=\"data:image/png;base64,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\" style=\"height: auto\">\n",
       "              <figcaption style=\"font-size: 0.6em\">9</figcaption>\n",
       "            </figure>\n",
       "        \n",
       "            <figure style=\"margin: 5px !important;\">\n",
       "              <img src=\"data:image/png;base64,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\" style=\"height: auto\">\n",
       "              <figcaption style=\"font-size: 0.6em\">8</figcaption>\n",
       "            </figure>\n",
       "        \n",
       "            <figure style=\"margin: 5px !important;\">\n",
       "              <img src=\"data:image/png;base64,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\" style=\"height: auto\">\n",
       "              <figcaption style=\"font-size: 0.6em\">6</figcaption>\n",
       "            </figure>\n",
       "        \n",
       "            <figure style=\"margin: 5px !important;\">\n",
       "              <img src=\"data:image/png;base64,iVBORw0KGgoAAAANSUhEUgAAAIAAAACACAAAAADmVT4XAAAIB0lEQVR4nO2ayZLjxhGGsxbsO8C92ZtGYYcc4Qi//6PY8sia5goSxEKAxF4+dLd1kD0EQIgX878xGih8nVWVmZVZAHfdddddd9111/+70B8xJiKUUgRQ11VVVfV3H6Z/BACnWrbBQZ2mp2N0zG8OgAX75ctchjLyvfUyuzEAYoiI9uvfftIh32+W3Onw/ef7twDCVNAnP/zFhmyr02jJ3R6A8KJiWBikUR7qIr4xAANEKCEIAYCkqiJ3AeDCnzsIU46jUKYAgASBJxc2eu8AiBNlVSR1BgCACcYXAHqeAoQ4xXCGjsZ9/Lzo6HoFQAhR2Z7MHp5GKmXN3ukZgIr6+PXL03RkUGBQl+UFR9w3AKGSMXn96dVRZI6xOj+n2SWCXgEwFWRzOH95NRDCVVkkx+O5uDAV/S5CKmm6aVkWBgAoYt/dB6fyhgCMSpqhyQIGACBFuF68ucdbAgCvGIYqfPiWzFt8/baJiu+/0qsj4mXTtjQB1QAAdbJf/Ovb9mYWQAhh3R4MB4ZEGAPG4mC3Wbk3WwOY5wVxNH98nDmagOs8z4LN1t0Hp/xG25BIumFMn17mY1MXUHkOo923levHaXWjbUhkZzx+eHqaOaLEQxHvt+tfV94xLW8GIFnTx8fHh5GJMK6zaLd4W7hBkjO4EQAW9eFkMnIMDqDOYn+7WGwOcXY5IvUFgAR9MB5aCg/A8lPoLr8t91HaICL2BsBr9sDWeAAozpG/Xfy6SeILPqhXACyohqlJlEGZnqKDu17tyqK6IQDlJUWReMKqIo1D/+B5YcMX+/g6QoTnKcGEAEJVFodBFJ8bvttPLMCcQKGuagDAdRr5YZI3zMh6AUCEihKHyjyvAVCRhH54qpoO3AcA4SRNkylUZQlQpkff809l03N/D2sAUUlzBqbKY1ZilgTebufHjaegBwBG1eH0YepoIq7OWeiul6tdmF7KhnsEAM6cPs8fJ6ZMiuy4X7wtln6SNvEBPQEgxXl4mU9HpsjO0X69WCzWSVHczgLIcMazh9nQlPE58dbL1Xp3aBCEegLAkqQMnl/mY1uXaHk+rH5drrxj2mKEawGM2WQ2f56PTJlnebT55R9b12/qBPsA4Ac//ul5MjJVUcB5Gqy//n0fH5sEwb4AlNEPf30dahzBuCpOwfbtl6CsLuTB/QAgQBhjMp7Nn54sCsCqMksi3/NOLQfqCIAw4URZVp5fZ45OAQDK9BhGx1Ob9XcFAMKEV6zBwJn/OFE5AID3IHxuHAKuBABMBXXw/DybTociAACUaRwGx4zRph7wOgCMqaDY09eXoa0IAABQ5eckORWMtB2qEwDClBMkzRyMBhpP3yN6XZVFdekU0hsAoYIoy6qqqeJHHRAh3KAm91/UJSFBmHC8KEqSyHOfdUiECaX0UlWyJwBAhHK8wPOUYASsBgBgCCHUpf/RDQBhQgihnzVhAKjLPEvzRieBPgAAGGOMsc9fAJAngR80T4avAkAAVVUURVFVFfv4PstCd7MLs6Z5yFUAAKwuy6Isi7KqPyxQJIftyg3OtwJgAIzVrK4/JqKIg73retGlgszv1ckPMMCUFziKEQLE6rosovXG9YI4LVuvgS4AdckRQVYVkSMYA87PYbhbfF16x7Rsvws6WaAGKuuGroiUYIDquF68Ld8WXpJX7CYWAECCYlq6KnAYgGXh6uefl64XplV9qSLUF4Ag66ZpKAJBANkpcL/9sg7ic6tcsDMAQhgTRbcc21RFCmWRhIf9bneI01apYHcAwBwnmvZgMLB0idRFEnqedwiSrP366waACC9p9mA4HFiaQKo02u92hyjJOqQCANDBESEqqJbtOI6lywKu03C33R2OHRzAh9pbgIqaadvWe2OiPPm7revH7WPAp1pbgFFJtx3L0GQeAxSxt1qs/XPHBdANQDYdxzYUkQJAEbmLt7XfpCT6P9R+CnjVGjiWKvEYAIp4v165cY46E7QG4GXDGTqGInIAAMUp3O+CnHW/itIKAGFMNdMZjhxdem8O1/k5jjNo74G7AWCOF+3hZDZ1tI97Cagusqzzx9sCIMLJ+nA8nU41kf9YvawqO+/A1gCAedlwhqPRQCQYGAKoirKsbwhAeEkzTVNXCQDUULP4mGSXmsM9AjDMSaqqSML7CbRI02DnJ92CYCcAQJwoK9LHtRSUR7673MW3BCC8rCoSBYYAgKXBevnmxt29MAC0dMWcpBm6zL/3houTv35besmVAG0sgHnFGg4MmQMGrE4jb7Pc+Jd6w30CIF4fTmeOwiHGqiIJ3OVie00gbA1ARXM8f1BlDlhVnMLDdrU8nBqXxXsAkDR7NBnzhEJdpkng7bbbqKpuBIAQlmzHcSwDAOoqS4KD5/lB67JgZwAiKfb0eWrKAABQnvzt2vXj6+JQOwB9On98fTA5AABURO7ybRNckQi1BuDMxz+/zB+0d79RxLvVyo3K7olQewBj+vplYirvANU58rzwXN0MAGFBdcbTgfIehxBiVVVdvBzRGwACwiuGPRpbn45bklVVkfg+up4NxkCAiaBqhmH852FJMy1Ll/ro+TX5JxAigigK/G/fQ5ykaapIe7iX3XQN4Do/HRWAGiEAFsR5BZdvS/YHwKo0WBmZyFiNAADC/XbjRecrA2FjAMaqLFxx8T/5z+Lo6Rj4wSFqXxf9vZqYEQGhsm4aEvk8gBTZOT2fT+cWHdJrAAAQwpSS37ohrK7ruqqvzMjvuuuuu+666667AADg37YTklX3TZY8AAAAAElFTkSuQmCC\" style=\"height: auto\">\n",
       "              <figcaption style=\"font-size: 0.6em\">1</figcaption>\n",
       "            </figure>\n",
       "        \n",
       "            <figure style=\"margin: 5px !important;\">\n",
       "              <img src=\"data:image/png;base64,iVBORw0KGgoAAAANSUhEUgAAAIAAAACACAAAAADmVT4XAAAEBElEQVR4nO2ayXLjNhCGuwECXEBR0owtu1KppHLI+79T4ilvM9ZCUVywdA50apzcCLCoVAa/DiodCH36gYYajQaIioqKioqK+tGFAY8iQ8Y5gjPG0vIAyBMhs1Jl0B72tfUdJvEHSLJCbXa7Nbz94ZrrAFTb3W+/3uIXeHvWVwAQefX5/pff70G8FMx7mBAAtfm8u7+/o4OS/kspBKDc7nY325XNJfcH8PcOZfnp9na7SgVnAcEc4kCx3m6qXDgM2U38HQAuM6XylHMeMEgIADLOOefAruUAjQLvXTgUAJyz1jogogCGIAecc85ByNeHOTCLIkAEmAOAnPPOR2YCsFcEwBHhegAEgIz7/6n6P/kdIMlUBc46rx0xFICIUK5u7mTb9eYKAEQOMF3f/SwPR3sNACAHKNe7n4CG1muAOaZAqM1N25y41wChUUBEwGWuijTxG2qOjQi5kDLxTM3D9wECZDxJPA2YZQqQC5lKz9x4jingaa5ULv2GCokCREQiYklebesy9YuCoDBEBHAESbFu61W2vAMA4xoQedWfVrlYHGBMywlZqvpqVcjEZy8OOReMBxMC4Kkqy1LlPpHgD0DkjDHWEQLwTK2qdZXL6Qf1gCkgq7UeC3RM5mW13hC4yUlBgAPODF03GIcAKLJCrcpMTN+PAxyw/eV86bQDAMREppnP94c4oC/H/aHux3yUMcYYw+kA/g7QcN4X6lM7ZuREBF7H9IApGJp9Wt737wDOOedTrAiYAtOeT3UzjFNARM7LgYCNyJmhHwLq5MEANBZnxnXnXaYKqZLhx3XvEQAzAHDG2PUcAET0/d3zAMyiuQC8Y2GOtPwf74sD/M3h++D/Zg1EgAgQASJABIgA/wUAv/vLuQDw/SZ3eYAPaanXNfJ8DoyvqwGMl/lsyRrRv45GjAsp+PRzQsjJCJB9PxmxRKZSTK+Whjnw4QOXmVeNJrhOaMf6AHKZK59+nhAAO3Rd1w/GAQCKvFyVuVgQgKzuTqe6aXtHACwtN9u1mg4QUKRy+kKHY920nAPwbLU9n9T0S4MAAEtWn07nps0EByZVtamKJR0AslZfLpe2NwSAIi2KTCZLLkIAAGOM0ZYAeCKklMn0YnUggLPWWEcAjCec+3S1Bd+aGaO1BWDvnVVLA5AZ2kvbG7BWD8Ngpl/hB94Z2b7er1PJUts2p+O5M0sDmObbk8CEk62/PT+9HrvJvRyhAOfX3IGUoPfPD38+vrVLA9jmKzcsz0i/Pj48vByWB+iOjGSZaf30+PjyVg9LA7jhwkBm9Gaev7zur7AInQZwaE+lPTx/rVs9vXgf2sRigYxuXqTrzufO2OkNTaHFZkR87/G31gU3mEZFRUVFRUX9kPoLG+3YXcb780gAAAAASUVORK5CYII=\" style=\"height: auto\">\n",
       "              <figcaption style=\"font-size: 0.6em\">1</figcaption>\n",
       "            </figure>\n",
       "        \n",
       "            <figure style=\"margin: 5px !important;\">\n",
       "              <img src=\"data:image/png;base64,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\" style=\"height: auto\">\n",
       "              <figcaption style=\"font-size: 0.6em\">0</figcaption>\n",
       "            </figure>\n",
       "        \n",
       "            <figure style=\"margin: 5px !important;\">\n",
       "              <img src=\"data:image/png;base64,iVBORw0KGgoAAAANSUhEUgAAAIAAAACACAAAAADmVT4XAAAExklEQVR4nO2aS3PbNhDHdxcPvmTKstw4btLv/5l66GSm49ROJEsyRVF8ANge7JlOj8RypEP4vxP4abHYFwQwa9asWbNmzfrVhRMsgYoQOQRmBh77tZ4AIMkyg77vB+98GEswAQClt6uCutOp6buerwCg8vXjCpv9jprgRh+pHIBssf79N3yjvh8Ujf5cCICIOi3vv3zmtN2P330CANLJYvX565dArzo4Hy4OoEy2WD18/WPo/ibv3GgfnMACaVGuHx67fa74ChYAJG3Soiy7IlFRQS3Kcf4nBiQFxhitFI1nkAJw8N77AIDKGKNwNIEQgJk5eDewY9LW6PHLCQEQSRFx8AGUtYke7wdSAJNmRWYJgEySJebiFlDJ4nZVZhqBbJZnib60BVRaru9vCwOgkrzII66iEICSm9XdbWEQyGR5Zi8PYPPFTZFoANTmKrdA2yxLDCEgKa3o8gBkbGI1AQASEY2vMcUAymitEAGYYXxJKg/FREorQuDgnXNhfDqWAiARERGw69qm7f3FAQAQkRB4aKrD22m4OAADMwJB6Or9bl93oysSsQWYGRAh9PX+9VCPt8AEfQEAIvDQHKu6G90YTQDwbgF2/bnp3eV7Qw6BGRDY913rrhAHAAEQATi4vo/Yf4JIqDURAgfnYgwgzoYmzfNEAXAIfnwUkgPobHl/vzD44QsxKwgBFncPD6UF4PE90RQAaPLVp0/WAjAzYowJhBZQabFcIrwn4yu0ZgxkrGzOJXTC8UOpiQGCj+jIpwQgZC9bQeCEiKRzO74XmgoAjU3y+2WmrgVA9qZcPa6LqwFgsrh/eFwXwkgS74So83J9V6ZCCwhuAWmbxbSjkwEgIOL4odB0AMwhXDUSMgfnI6uASQCAmVm6/wSt2cc6sc4wGUAswVQA0ddhKgAfItPyJL1hCP7cDnF5WT6uJ2DXnffHNqotkAMgAg+n/fbQDFELiEc0iMCuOeyqc1RnNgkAhOHctEOcF8oiYWBmAIx4KJkCgNkHH5gBtU0TE5mXRQDMHJgBlU1TGzEnFgIgEhEhACApFVuYSCoik7z/cHZ910fMKIUAaLJyWS5SDa6tq7dTFxcJJQDF7fpumRtwp8PrrmouHQfeAcpMQV+//tzsGxe1jAQgvVmWuUXfVrvN9u0cByDIBSrJ88yC64777WZ7aC6dDVGZJLUU2nq/eXn+EXsEAguQttbA0B8P2x8vP4/txQFQa6PQd+fj2363P0eWRBIAUkoRA/uha7u4akCajpG0Mmma2IhX6w8JLMDMjBoglDeLIg8u7gwkJRkHRo2KyrK8qQZwlwZgZgYiBWmaWGvcdapiZvbeOedjm0TJLQAE9sGfm6Zp2iGyUZdYABHDgH1dVVV96iMnlqI5IQA7aI9VdazPsYMCkQ8gsOOuaZq2jY1DspoQESB459wQlweEAIBE+D6vjm2NpQCIwN4NEf8k/U+iSMjB8bk+nbu4clAOEFznq83Lthr/aD4FAENwTf3y9M/T5nQNAObgum7z7a+nzfYqAOCHth6ev/35/a25yhGwa6rX9vnp6Vnw+yUA4bz73rZPPw9HwfYigPoZfvTbTSPaXwJwfK4T11S9DCB+uIKkFbEXPxzOmjVr1qxZs355/QswF1D0kilbngAAAABJRU5ErkJggg==\" style=\"height: auto\">\n",
       "              <figcaption style=\"font-size: 0.6em\">1</figcaption>\n",
       "            </figure>\n",
       "        \n",
       "            <figure style=\"margin: 5px !important;\">\n",
       "              <img src=\"data:image/png;base64,iVBORw0KGgoAAAANSUhEUgAAAIAAAACACAAAAADmVT4XAAAN70lEQVR4nO2aV3McR5LHM8u277HAwJCQtNrYuLjv/1EuLi5uRWlJwo9vX13mHgagAIzBDEjdyyLfgKnu/HWWycp/FcC7vdu7vdu7vdu7/bsbHtAUAQEQEREJEkTc/LBzzhlrrHN2j7ey/QGAECSEUsaYkFIIxghZR3DOmrYuy6Jp2h8MgIwyyoQQnh/GcRx4kjMC7mkLALBGq2oxGY+XeWnctne9BYBIj3MuPC8I4k6v302iQIp1AKPbKhtffhEcrW5/HAB6vu8LIaTvh1HSGw4HnTj0JFn96p4CqHJx6xEg4Ix+PQQ7AQihnHNGCCLz/MCTQgjfC8K40x/00sjb+Az3I4nGoBQMXKtf64adAMj8OIkCwRjlvud5QnAhhCeDKE2ScKN/AAAaGUOCNOTo8sp+BwAyLxmMhmkoBJdSSsk5Z5wyKqTne3z7gzwEr9sNiNXEGfVGAEIZk1Hv9MPZIPY97knBOeOUUkQghNINM/BPkyzsx6ytG3BG756M6wAIiIwLITjzwv75h/Nh7HvCE4wzyv706pxxDgAQwIEF5x5GIiIlQKkAqpZZgwhYOOe298MaABLCeJikSSCo9DvHJ8fd0JNcMEafNzTGGOuAgLNGG62NsQ6QcOn7ggJA1B3VxPelmDdKHQQgZNg/OR2lkjARpt0kkpxTTl+EXCvVttoiAdeqplF1rbQFyvyk240pBYD4GMM08oRYZmZ7N6wDMBF1T/72958GHhLk0hOckfU1ty3rpm5aiwRNUxdVlRdla4DJaFA5RJ8CeH2vmwacMu7a7SvSBgA/7o0ufv37sQfgENEhAgC6p4nLVEVRV1WtLBI0dZkXxTIrlAHmJYVB10a+hyQKUkm0BmK0qfcHEGFncHR0NExe/uKMNdpY64xuyqIo66pWDhFtXRVFmeWlMsDksjVt2e0mkc8Z9Xt1qQinXC7bVpu9AIiM+0fDXrxhmbGqrqq6aZq6KvOyqhulLSJa1dR1XVa1tkB5VuXT68HRUT+JAgleegxhkvbuJstFVu0H4KWD42Ei11o6o4psuciyLCuKoqhq1WrjEMFp3eq2Vdo4IDTLJpfJ0dnHcthaFDQceN1ef3Bzcw3NngAyHRwNYv5s3FprrdHVcjYZz6fT+SIvy6bRxq4aOeuss9aCA0QyZ8wf5QYBGWcou3EviUKf6eV0k/8NY0DG/aNevMpzFhCc07pttdZtsZyO76eTyXRRlJVqN3YpAABQLTvdOG60ZZxDAKpcBIKR/QCI3zk+GSQ+BwAgAM6qqsiLSjVNmS1m08V8tsiqutnqHQBMXpR1ox5nv66Ws1lWbwbeANAdncce/8Zr6tn4frooy6asyjwviqKsmld2Gs4arR/yoCtmN//6dHm92JyVNs6C4ZMhaOps/PXz1WSZ15VulWpV2+6I/sNbV7kKAcBVy/Hl7/+8nuV7AgDh4k//rqmW49svnz7fz7OycSuDHbnl4a2ccU4pAoBR5XJ2d3ufqz27wLXlcsYoIRat1XWZz8aXXy6v7xfZa5/99COY9H2Pr9IXIhJCtm3i1wBMdv0b9cPAA1dXVbaYTyb3V9fjRXGAfyBe0u2lPkMApDJMuv0W882jcA1Az/4Qy+5gmNI2m83m9+P7eTZfLGt9gH9gfmd41PM5AiAP0uFZTRlu3hutR2D+WY2PPzSNqKe3d+Obm/tl26r2IP9A/aTXSyl9ADjKNXVNsZl1DSDHOssNtrIaX9/cX9/cb1xBXwHgnh94AA4AqQg7w1pl0827v7X/WpUb4yhkop7d3U/up2/wD85Z+207TEXca+qJvyeAM8pZcNUNV9likS23JvJd1jZ1WUlGViNfRH1T3YZ7AoDTzrpmLqlp6rpp9ikwN7yjKnLhcQYA4Khv2mXs7ZkLHDhn2mJCAKy17rW6YvNLJbWqaRihAAAOKZdibVO5DQAcODB7VJVbDClj3eNuwPFb3WpUXZR1u/lTDtEH9gOIup3j819Gqc/pKuhUL+6uP98s980F32k0/fjx4vRkNIi+ZdR6/Pvvn/813pzBfziA7F3856+jXhx4lD7so8vbT//99Wb6/wNA0sHZL78OY04ZPGRNtbz7+sflvPpruwApo5RSyk9Ojgfd1EcAAHTWaF1MxvfjefFXD0LuB54npXf8cRDyxxmHuqryxdXddFlt28T8KADqpWkSh1E4OO1Lq9uHLaiuZtP7q/tFtVUx+0EANEz7g14nTeNOtyNcS4ARAEBTLe+ubiZZs3U38T0AK80SgVIu4/7RsN/ppEkUBR7FR0XAqmI+nWWV2rqifxcAF5xzzoWQQdwd9LtJHIWBFIJ9008otHVR1jt2sd8DQLwwCMMgCIIgjNNOEge+lIJT+qeCw4ltG7VLpfkeABl10k4nTZI4jqIoDDzBCKUECSJ5TH22VarVOyTp7wCIOv1+r9fvdTppEgWBFIwCOFgVBAgOAaAsirysd4nGbwBAJEwILpNur9ft9jppmsSBL9dkO6OUur++Gc+yeodi+pYIII+7/U6UJkmSREkchqHvCbrWTM8n89t//fHlbl4eIlLt4Z/53Q8/n/fS0Pd86XlCCr6p9FXjPy6vLi/vZlW1ZRl+EwAS5sfDi//4dZR4jHJCCSEEiVsfZ9ntp39e3o7nhTE7BOODAajwk8HJ+cefT2Lx9P/P60VnXXV79eWP6/G82F1SHAqAPO4PTy4+HHee+38eAJXnefbp09fbyaJ8paQ5OAKie/7Th/OzrtjVqBl/vZ58/fx1mr1a0h0KQGT3wz9+OepEqIBvXV6Km//53+v76WKbLPIdANRLRxe/9AUBDfapeL0ya4AhFJPL3/7r66Ju9atSxoEAiEwESbfXoUbjQ93jwFnjrLXWGGO0pdRknz9/ubzODcDrZc1BAIhMSCk9KakmQCkFAECwulFN09RKKa2MA53f/HY5zferLQ4DoExKQdEBUsBvpY5tijzPlsuialSjWqPKxf3NK7PvbQCECk8yMG2LSL+tfW2Zzxez6Xi6KKqmruumqdu62reoPQyAeb7HoK1rpMQhOOts29b5cjabju/G87xs6rqsD1JTDgMQXuBRXSyZkZw4o5Wqy7LMssViPhvPlkWlVFMdIiYdCsD9wCP1XBgV+dQ0VZHNp/NlXpRFkWVZ2ah9Jt53AFAviHxsZmCMc7QtlrPJ9fXtrGhapVTTtNrYHYcz3w8gZBBFAdMlIZQBaRbj8c3nz5fTSlvnrH0QMf8qAEK4H8dRFEjmjKpLcMXk7vb6y5er2Vs0jDcA+GHU6SSB73tSkjYr1eL2+mZ8O158l//9AVjY76RpEgZR4Alqc5XfX17eZsvlgYPuzQBe96ifhkEQRnHAXFMsp1efv9w27StHwz8MIOgOT4axJ6UfxwFtLbRVPp/ODhNQ3wrApJDJ6YfzYSAY98LQxxZ1U3iCAuBDUrT2TXrefgAi7XUGp+cnPY8RxjxfgJZC0no+K2qHBBDBmb1urLwRwBt8OBudnA5TRpAQzimYKEl8U+RtpgEdIDgFb1T29gBgydHF305HR90IEQEIIjiwiWyz3MwbBxYQbFO4t4jKrwIgISQdjs4+ng77ybO2wmajpYkauwKoc/81Wdk5Z83aac8rAMQPg8FPF+ejYSd63pT6nVHjLdUqAqbJnh/NPuzWHv9w4Jxt67woXy4brwFER0cnH38+G3aCly15PGKDylhwgGCaYpk1FjYfDCE454wuZze3a1rNKwAiPf35/Px81AvX9uAkxKjRDh4Aqqx8CvA0AohordXN4grL2UsPrwBEvdOfLk6OerFABAdPcx3xZLoSAQDAtFVZ7wQwbTkl8+u1Ino7ADLGvdHp6dnpoLvhztKLYPth3bQvAR6WBoJotVEFTIL1WmY7APGTND375afTYRqs1WG4VgzTgBsLiLDaEryMgNbMenJDFb8DIBicjs4uPo56nlh/bn2wIacOAN2K4DkAAIImBNe5d3WB7Iwuzj6MegkluJbz3Ybhvrpssg5AAICAs9rY9UPfHQCUe2EURaEHAPbFN7tvRdc3T99+R4QXEQAAAqZt2w1a0XYAp+uiKJWjjx/xzR0AgHXuURBbecLVTRt4ekb8hJmhaapKrRPsAGgWdx5Ph5uzHDprXwAggAPEzYdTaJt8mW+Qy3YAVFN0mB7X4aZftdLPAQABnAMkfINgBgCqWMwXxbpcth3ANgvjxNE0767PAVeXTWvgZWc7B0ilfDgvfGb5cjYZzw8CAO2QTyfTSegRfBz0zjnnrK7LslJbADzfl4wQfJx0DtC5dnFzdX03zddV8x1d4FxTLCY3fRIySgiuZpDVqqnqMi/KhxsRz9KeA6R+EHicEKSMU4rOOuOMVov7q6u78aI+AADAmTqbXIVt5AnGcHVN2TT5crHMs6xq1iVoBwAsCCKfUaRMepIjaKO1UvVyej+e5cUhAA7QNsX0WtRJ6AmOzjpA0OVsMp4usqyqN0QAAGgYRgEjSIUfhoK4VitV12WxmC+KVq8L9zsj4Gy1uGdNEvnyEaAtJ3d3k0WWV83migiDMPIZQSqCKJLEta1qqqos86LY7wbFc2vzKdZR4En2GIFqNhnPs6LcVpC5QjUeJUi4HwYSndZK1XVdV1t0g1cut9MoiUPP45yukitqlS+zvNqp/wlBEAgTnuTojNFatUqpLTXMKwBESMlXd2kdOECwRtWNanfKAJQiAhLKGEHnHvS7bU+8AoBIVvf4H9s556yzu67JAj7sFlaPOXDgHOx84t3e7d3e7d3e7d3+ve3/AOPZaKJkTVaiAAAAAElFTkSuQmCC\" style=\"height: auto\">\n",
       "              <figcaption style=\"font-size: 0.6em\">2</figcaption>\n",
       "            </figure>\n",
       "        \n",
       "            <figure style=\"margin: 5px !important;\">\n",
       "              <img src=\"data:image/png;base64,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\" style=\"height: auto\">\n",
       "              <figcaption style=\"font-size: 0.6em\">3</figcaption>\n",
       "            </figure>\n",
       "        \n",
       "            <figure style=\"margin: 5px !important;\">\n",
       "              <img src=\"data:image/png;base64,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\" style=\"height: auto\">\n",
       "              <figcaption style=\"font-size: 0.6em\">3</figcaption>\n",
       "            </figure>\n",
       "        \n",
       "            <figure style=\"margin: 5px !important;\">\n",
       "              <img src=\"data:image/png;base64,iVBORw0KGgoAAAANSUhEUgAAAIAAAACACAAAAADmVT4XAAAK9UlEQVR4nO2a2XbbOBKGq7BxFylZiu04mZwz0+//RLOm493UQnEngJoLyYkzlkhmonTfuI5vfAwDHwvAX4UCAN7szd7szd7szd7szd7szf5kw5GNkAAAaFyfTEglBedIuq6brve/xLguAceODgDAvUky8V2HmTJ9TI35WQBExgCIgIgGKZCAqfDd+/NkEohu9R9elz8NwIXkSGStNf1fsyPg0k8uPn1azCLV3PPt46r7SQCmPN/lZLTu6obs0PjC8ZPFxdXH89lEtc7698jrbI/jRgBw/+wsltDVdbHO9CCAE08XHz5cXc6nkdJ6MZ+uTNuZowQjAER48encgzrPlkKXQ63Rm71///Evl/NZGICMp7OztcnB/gyAjC5++xRiuUpvdcaHWjN//vHT1dX5NHQBQHlRkjS6a4+2HwMQLj78bYJFGuHaGwSQ4ezy4/vzs4nLAKCzTLmOZMfbDwIgk140W8RYSpZHzoBwIVPBdHG+mIYe2qbV92lWtub4BAwCIDChHC8IQxBIy0j1fAsAAAo3TOaLaeAi1Mtldvefz/ervDm+Bgc9gEwpRzmOREQT+6rXAwhM+VEym0WeAMhvP9/eXt88rKq6R42HPMCEch0lBUfkOnBFPwCTXjRJkjjgCF129/d/3Dwss8L0zcEQAJee57lScmDCd1X/GuTSj6fTeBIoAKqzx+t/3S3zqlcIhwCY9IIwcCUHAFBKYK8HhD99d7FIfAmg2+06fXxIt7XuH2EQwJ9MQnfXirH+8UFN3l19OE8cBNvkqzRNV0UzMD4MrGrmBJM4dHeet33bCQBAxecfP5xPFEBXb5er9SZvhpR70ANOECfRXn463bujAdRkcXk5jySRaYptti2q/mRkBABXQRxPfIVgrS3Kvg0NwFWQzGaxLwGs6dqmaZrhJGbQA2E8jQOFpNtquS7afgAviuPI5UBEZMekL8MecMNkmoQOs7rYPKZZ7ydJ5QVR6CkGRIgMEXGYYHARhsk0Dh2krlw9Lrdtz6JCqTw/8F2JQADIOOeDoWsQgDthnESeQNL1dpOVfYuKK9fzfU9xBCJARBzYtQAwZg0kSaA4km7qqj6e2SAyx/N833PE/vdRww9LsQqTxJcMrOnatjuekCGXrh/4nqcYABAi40OyNQqAOUEcOxyAtO46bY4DCOX5zw5AAGCn8YBw/DBkiEBGa23M0Y2FTLiu6zjqWTTtoG4OAiAi81xvFwjIGq21Pb4JGOdSSsERAMCarmnawQy6HwAZF07oq+cWQx+12/i7XWXbcrst617dHAQALr1o8jUHIiBr+7SNdgYAAKbON+usGoqEAH06gNwJkjiQz/0b3RuL6DuAZrteZZUe4YEeAOGE0yTYe8B0ba8OfEUAAADblFlWDOUiAwDA3TCJQ4cBAJCut+vVpk8J6UXwsV1V5GU7fJLtA7DMjZIkdDgAAHXF6uHuMTueYNDLJWK7uiiq9ucWIQk/nibRLhsy9Ta9u30sezIcIvq6RKhrqqrpfm4bchUmsyTaeaAps+Xjw7JvFSIie9Y++mkdQEAnjGdn09DlQFbnm/V6ndU9HTEhpRDsGUDrTo+ZgSMAyLiMksXF5XziMOqa4vFxuSmbnn6QK28XigFGiMYQABPKTxbnl5ezyOXQZunt7WNW9y1qJt0g+npywt3P/x8NmXAnZ4vzy4tICUbN5uHm9mnbmw+i8KModJ/nABDHReNjACqIz+bz+cxDQN1kT3f3y7w3xWbSDaPw69nx+3wEEeHYhBwG4G6YnM2S0EcAoLZYpemmHDjjuf63KQAistYYC4CcO44jqK3q7tAeOuIBJ5qdTcNdOcK0xTpN10XfGgRiThB+BSAyXdc2NQCA9JKzqW82T0/bQ9J4xANecjZP/H1y0RbZaj1wyiTuBFHgyr0HrDW6ay0AcC++/PQh6W7/2TXavq63HgZwwul8HnvMcAAwXV3kQ5GFSTcIviUPiIwxBgDgx/Or3/46r/3yaXVI918DIII3mZ4tzmJv90eju7bVlqlXi4C+Fbtdz/e/6QATjh/lNTUsmL5bXF1dzcpNcLi88wqASeVEF5fvLxaxJ5CArNbGAlPofJtBBACyxhAyxhkR4CQKPEeKvRhzf3puVLjt+GS+mL9/n7g10OF86jWAGyWzD58+XC5CXyIRda0hJl2yL89ZiGS7tjVMKMXBWpbEoaeexwcZveuCeVYYJ1ksJvHE7cqibg/m1AcAkouLj3+5ukyU5ABkO22Z8iMH+QthQSTTlHXHHN+VoC2Pp5Gn+LMSq0knzvKyIXe2mLnMVNt0uR25DZkzmV++v3g3ixARLVljUYUJ01x8m0NEJF0VZcvd0FekjZjM48CRfK8+IgC3qdsOvOlZxKpVlT6mWX0wOr4CQOGGk3gSBmI/EnJ3ctZFVsiDAEGgSBsRzs8mviP2p1HuMqU7o0GFodJN9nR3l+aHD7avdwGXjuc6apeMMgDpxucY1/SdB2A3BZo5nifJWO5OptPweRcgd6RrrbWGWF3kj18+/357u67HASByIQRH2m8oBghiUnbwcg0gANiu6TSTSgmyxKS7q+YhASAg5xIAbFeX2016+/vnm6dsczibOqQDyICsef5ewYQ31UQvgxsCABltLHLBGQEhY4LzfQSk55YM2/Xdzd31ly8PWdseDmYHlZDI6E7CXjdRyoOB1VqiF6W7F90TEVkLZKrl/ZfPN9fXt8vqUA+HAYisMbptBADt/MnYQQD2vbI950IAYNq2rlptump1f319f/+0OTr+IQBrdNs0DcfdPQciY/xQckEAQIh7RUbA5xSIdLlOV1nZNOV2/ZSu1tueQPoKgKxu66osHMtpl1U+F1v6ziSMccEZZwwBgXR+//n6YZNXZVOVZVX3JXOvPWDaKt96kmpOL7TziAcAAJCImFCuI/e1ZNJl+vnvX9JNURtrBg7VrwBsV23Xgtrce/bAoBERk0EYebRfF6bJnq6/PGWDN1yHAKjdPpliHfkOp556xPcAgG4yn8eGGEcABF1tlstR478GMPXG5E+e6wg2LrEHICAM3n3sDHAlBQCCbYosP35T1gtga1MJIThn8CP31dFHksrxNcFuHVflYeUdBqCuqwBG3ut/s1jM3j2XD7Tu2qYe54CDSvgDTwW+WtFoYJwzBGvqsqyakeOPfD8wbFw4nu85Akm3RV7Uo47mAIO14tHmBdEkCj2FpKvtZlvpsVN4IgDmh9FkEroCSVfbbFuNqc4AwMmmQEjH831HMiBdF3lR95/jXtiJPIBCub6v+K48tC0O53+/EIBx5fq+AADq6jzPR9xWnRpAOp7HEcDqusqrZrQHTrQGGOdSqV0o7Oq67sYUSXf/eRoAQPb1VGK0NiPj6OkA/mfX/4CMngiAXpRgkB1JIn8lwItHVjj2vuy0APDD4ev0APsOEXf5/J8GwBDpBwhODoBgrR245v+lAEbvCuVjCU6VkOwrw9aURbbZFPVoJTwZwK4qp6tN+nh/n454u3FigN2rS2i3y4fb6+tN8YcDwO742GzSh9ub20rrsSnRqQB2StiV2Wq5XK7G3NedFoB2r0aaMttk+agb0xMDWGuJrK3zbJOPuq88PYAxXafzzXrT/9LmVwGQbst806Vpui5aGvF45tQAtsvTG9s93Dyk4y7NTw1AdfpvdquXd3fpsvepza8CsNUDXwWm2GzyovghD/zgKfxoN9L3PUld23ZdN1qETgiwf4C/K92dqss3e7M3e7M3+2Psv52Fs7ChhVpNAAAAAElFTkSuQmCC\" style=\"height: auto\">\n",
       "              <figcaption style=\"font-size: 0.6em\">4</figcaption>\n",
       "            </figure>\n",
       "        \n",
       "            <figure style=\"margin: 5px !important;\">\n",
       "              <img src=\"data:image/png;base64,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\" style=\"height: auto\">\n",
       "              <figcaption style=\"font-size: 0.6em\">9</figcaption>\n",
       "            </figure>\n",
       "        \n",
       "            <figure style=\"margin: 5px !important;\">\n",
       "              <img src=\"data:image/png;base64,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\" style=\"height: auto\">\n",
       "              <figcaption style=\"font-size: 0.6em\">9</figcaption>\n",
       "            </figure>\n",
       "        \n",
       "            <figure style=\"margin: 5px !important;\">\n",
       "              <img src=\"data:image/png;base64,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\" style=\"height: auto\">\n",
       "              <figcaption style=\"font-size: 0.6em\">1</figcaption>\n",
       "            </figure>\n",
       "        \n",
       "    </div>"
      ],
      "text/plain": [
       "<IPython.core.display.HTML object>"
      ]
     },
     "execution_count": 7,
     "metadata": {},
     "output_type": "execute_result"
    }
   ],
   "source": [
    "count = 8\n",
    "\n",
    "def get_some_random_images_and_labels(df, count):\n",
    "    image_ids = RNG.choice(df.index.unique(), count, replace=False)\n",
    "    image_datas = df.loc[image_ids]['png']\n",
    "    images = [Image.open(io.BytesIO(image_data)) for image_data in image_datas]\n",
    "    labels = df.loc[image_ids]['value']\n",
    "    return images, list(labels)\n",
    "\n",
    "train_images, train_labels = get_some_random_images_and_labels(df_train_images, count)\n",
    "test_images, test_labels = get_some_random_images_and_labels(df_test_images, count)\n",
    "\n",
    "display_images_grid(train_images + test_images, captions=train_labels + test_labels, col_count=count)"
   ]
  },
  {
   "cell_type": "code",
   "execution_count": 8,
   "id": "e5019d63-ce09-4130-ac07-b6ae15a84ab4",
   "metadata": {},
   "outputs": [],
   "source": [
    "# COS_SIM_THRESHOLD = 0.075\n",
    "COS_SIM_THRESHOLD = 0.055\n",
    "hdc = Hdc(10_000, np)"
   ]
  },
  {
   "cell_type": "code",
   "execution_count": 9,
   "id": "317bc435-b1be-4e25-8f4f-b9e3d35f522b",
   "metadata": {},
   "outputs": [],
   "source": [
    "class CorticalColumn(object):\n",
    "    def __init__(self):\n",
    "        # engram = collection of related HDV\n",
    "        self.engrams = defaultdict(list) \n",
    "        self.engram_norms = HdvArray(hdc.N, xp)\n",
    "        self.engram_to_image_ids = defaultdict(set)\n",
    "        self.engram_is_sealed = set()"
   ]
  },
  {
   "cell_type": "code",
   "execution_count": 10,
   "id": "1e8dc096-5076-4657-b22c-a489c2be1694",
   "metadata": {},
   "outputs": [],
   "source": [
    "COLUMN = CorticalColumn()\n",
    "TRAIN_RUN_ID = 0\n",
    "TEST_RUN_ID = 0\n",
    "\n",
    "df_test_results = pd.DataFrame(columns=['source_ds', 'test_run_id', 'test_image_id', 'true_value', 'engram_id', 'infer_value', 'sim'])"
   ]
  },
  {
   "cell_type": "code",
   "execution_count": 26,
   "id": "bc72b601-6398-4d84-9ce3-97e1a9a92bfa",
   "metadata": {},
   "outputs": [
    {
     "data": {
      "application/vnd.jupyter.widget-view+json": {
       "model_id": "0931ff89ca7042eb864bdb99541c591c",
       "version_major": 2,
       "version_minor": 0
      },
      "text/plain": [
       "Epoch:   0%|          | 0/10 [00:00<?, ?it/s]"
      ]
     },
     "metadata": {},
     "output_type": "display_data"
    },
    {
     "data": {
      "application/vnd.jupyter.widget-view+json": {
       "model_id": "1f0fdb23f0af4720a2a5c58893089d2b",
       "version_major": 2,
       "version_minor": 0
      },
      "text/plain": [
       "Attempt:   0%|          | 0/10 [00:00<?, ?it/s]"
      ]
     },
     "metadata": {},
     "output_type": "display_data"
    },
    {
     "data": {
      "application/vnd.jupyter.widget-view+json": {
       "model_id": "",
       "version_major": 2,
       "version_minor": 0
      },
      "text/plain": [
       "Image (train):   0%|          | 0/1000 [00:00<?, ?it/s]"
      ]
     },
     "metadata": {},
     "output_type": "display_data"
    },
    {
     "data": {
      "application/vnd.jupyter.widget-view+json": {
       "model_id": "",
       "version_major": 2,
       "version_minor": 0
      },
      "text/plain": [
       "Image (test):   0%|          | 0/1000 [00:00<?, ?it/s]"
      ]
     },
     "metadata": {},
     "output_type": "display_data"
    },
    {
     "data": {
      "application/vnd.jupyter.widget-view+json": {
       "model_id": "",
       "version_major": 2,
       "version_minor": 0
      },
      "text/plain": [
       "Image (train):   0%|          | 0/13 [00:00<?, ?it/s]"
      ]
     },
     "metadata": {},
     "output_type": "display_data"
    },
    {
     "data": {
      "application/vnd.jupyter.widget-view+json": {
       "model_id": "",
       "version_major": 2,
       "version_minor": 0
      },
      "text/plain": [
       "Image (test):   0%|          | 0/13 [00:00<?, ?it/s]"
      ]
     },
     "metadata": {},
     "output_type": "display_data"
    },
    {
     "data": {
      "application/vnd.jupyter.widget-view+json": {
       "model_id": "",
       "version_major": 2,
       "version_minor": 0
      },
      "text/plain": [
       "Image (train):   0%|          | 0/8 [00:00<?, ?it/s]"
      ]
     },
     "metadata": {},
     "output_type": "display_data"
    },
    {
     "data": {
      "application/vnd.jupyter.widget-view+json": {
       "model_id": "",
       "version_major": 2,
       "version_minor": 0
      },
      "text/plain": [
       "Image (test):   0%|          | 0/8 [00:00<?, ?it/s]"
      ]
     },
     "metadata": {},
     "output_type": "display_data"
    },
    {
     "data": {
      "application/vnd.jupyter.widget-view+json": {
       "model_id": "",
       "version_major": 2,
       "version_minor": 0
      },
      "text/plain": [
       "Image (train):   0%|          | 0/5 [00:00<?, ?it/s]"
      ]
     },
     "metadata": {},
     "output_type": "display_data"
    },
    {
     "data": {
      "application/vnd.jupyter.widget-view+json": {
       "model_id": "",
       "version_major": 2,
       "version_minor": 0
      },
      "text/plain": [
       "Image (test):   0%|          | 0/5 [00:00<?, ?it/s]"
      ]
     },
     "metadata": {},
     "output_type": "display_data"
    },
    {
     "data": {
      "application/vnd.jupyter.widget-view+json": {
       "model_id": "",
       "version_major": 2,
       "version_minor": 0
      },
      "text/plain": [
       "Image (train):   0%|          | 0/1 [00:00<?, ?it/s]"
      ]
     },
     "metadata": {},
     "output_type": "display_data"
    },
    {
     "data": {
      "application/vnd.jupyter.widget-view+json": {
       "model_id": "",
       "version_major": 2,
       "version_minor": 0
      },
      "text/plain": [
       "Image (test):   0%|          | 0/1 [00:00<?, ?it/s]"
      ]
     },
     "metadata": {},
     "output_type": "display_data"
    },
    {
     "data": {
      "application/vnd.jupyter.widget-view+json": {
       "model_id": "",
       "version_major": 2,
       "version_minor": 0
      },
      "text/plain": [
       "Attempt:   0%|          | 0/10 [00:00<?, ?it/s]"
      ]
     },
     "metadata": {},
     "output_type": "display_data"
    },
    {
     "data": {
      "application/vnd.jupyter.widget-view+json": {
       "model_id": "",
       "version_major": 2,
       "version_minor": 0
      },
      "text/plain": [
       "Image (train):   0%|          | 0/1000 [00:00<?, ?it/s]"
      ]
     },
     "metadata": {},
     "output_type": "display_data"
    },
    {
     "data": {
      "application/vnd.jupyter.widget-view+json": {
       "model_id": "",
       "version_major": 2,
       "version_minor": 0
      },
      "text/plain": [
       "Image (test):   0%|          | 0/1000 [00:00<?, ?it/s]"
      ]
     },
     "metadata": {},
     "output_type": "display_data"
    },
    {
     "data": {
      "application/vnd.jupyter.widget-view+json": {
       "model_id": "",
       "version_major": 2,
       "version_minor": 0
      },
      "text/plain": [
       "Image (train):   0%|          | 0/21 [00:00<?, ?it/s]"
      ]
     },
     "metadata": {},
     "output_type": "display_data"
    },
    {
     "data": {
      "application/vnd.jupyter.widget-view+json": {
       "model_id": "",
       "version_major": 2,
       "version_minor": 0
      },
      "text/plain": [
       "Image (test):   0%|          | 0/21 [00:00<?, ?it/s]"
      ]
     },
     "metadata": {},
     "output_type": "display_data"
    },
    {
     "data": {
      "application/vnd.jupyter.widget-view+json": {
       "model_id": "",
       "version_major": 2,
       "version_minor": 0
      },
      "text/plain": [
       "Image (train):   0%|          | 0/9 [00:00<?, ?it/s]"
      ]
     },
     "metadata": {},
     "output_type": "display_data"
    },
    {
     "data": {
      "application/vnd.jupyter.widget-view+json": {
       "model_id": "",
       "version_major": 2,
       "version_minor": 0
      },
      "text/plain": [
       "Image (test):   0%|          | 0/9 [00:00<?, ?it/s]"
      ]
     },
     "metadata": {},
     "output_type": "display_data"
    },
    {
     "data": {
      "application/vnd.jupyter.widget-view+json": {
       "model_id": "",
       "version_major": 2,
       "version_minor": 0
      },
      "text/plain": [
       "Image (train):   0%|          | 0/7 [00:00<?, ?it/s]"
      ]
     },
     "metadata": {},
     "output_type": "display_data"
    },
    {
     "data": {
      "application/vnd.jupyter.widget-view+json": {
       "model_id": "",
       "version_major": 2,
       "version_minor": 0
      },
      "text/plain": [
       "Image (test):   0%|          | 0/7 [00:00<?, ?it/s]"
      ]
     },
     "metadata": {},
     "output_type": "display_data"
    },
    {
     "data": {
      "application/vnd.jupyter.widget-view+json": {
       "model_id": "",
       "version_major": 2,
       "version_minor": 0
      },
      "text/plain": [
       "Image (train):   0%|          | 0/2 [00:00<?, ?it/s]"
      ]
     },
     "metadata": {},
     "output_type": "display_data"
    },
    {
     "data": {
      "application/vnd.jupyter.widget-view+json": {
       "model_id": "",
       "version_major": 2,
       "version_minor": 0
      },
      "text/plain": [
       "Image (test):   0%|          | 0/2 [00:00<?, ?it/s]"
      ]
     },
     "metadata": {},
     "output_type": "display_data"
    },
    {
     "data": {
      "application/vnd.jupyter.widget-view+json": {
       "model_id": "",
       "version_major": 2,
       "version_minor": 0
      },
      "text/plain": [
       "Image (train):   0%|          | 0/1 [00:00<?, ?it/s]"
      ]
     },
     "metadata": {},
     "output_type": "display_data"
    },
    {
     "data": {
      "application/vnd.jupyter.widget-view+json": {
       "model_id": "",
       "version_major": 2,
       "version_minor": 0
      },
      "text/plain": [
       "Image (test):   0%|          | 0/1 [00:00<?, ?it/s]"
      ]
     },
     "metadata": {},
     "output_type": "display_data"
    },
    {
     "data": {
      "application/vnd.jupyter.widget-view+json": {
       "model_id": "",
       "version_major": 2,
       "version_minor": 0
      },
      "text/plain": [
       "Image (train):   0%|          | 0/1 [00:00<?, ?it/s]"
      ]
     },
     "metadata": {},
     "output_type": "display_data"
    },
    {
     "data": {
      "application/vnd.jupyter.widget-view+json": {
       "model_id": "",
       "version_major": 2,
       "version_minor": 0
      },
      "text/plain": [
       "Image (test):   0%|          | 0/1 [00:00<?, ?it/s]"
      ]
     },
     "metadata": {},
     "output_type": "display_data"
    },
    {
     "data": {
      "application/vnd.jupyter.widget-view+json": {
       "model_id": "",
       "version_major": 2,
       "version_minor": 0
      },
      "text/plain": [
       "Image (train):   0%|          | 0/1 [00:00<?, ?it/s]"
      ]
     },
     "metadata": {},
     "output_type": "display_data"
    },
    {
     "data": {
      "application/vnd.jupyter.widget-view+json": {
       "model_id": "",
       "version_major": 2,
       "version_minor": 0
      },
      "text/plain": [
       "Image (test):   0%|          | 0/1 [00:00<?, ?it/s]"
      ]
     },
     "metadata": {},
     "output_type": "display_data"
    },
    {
     "data": {
      "application/vnd.jupyter.widget-view+json": {
       "model_id": "",
       "version_major": 2,
       "version_minor": 0
      },
      "text/plain": [
       "Image (train):   0%|          | 0/1 [00:00<?, ?it/s]"
      ]
     },
     "metadata": {},
     "output_type": "display_data"
    },
    {
     "data": {
      "application/vnd.jupyter.widget-view+json": {
       "model_id": "",
       "version_major": 2,
       "version_minor": 0
      },
      "text/plain": [
       "Image (test):   0%|          | 0/1 [00:00<?, ?it/s]"
      ]
     },
     "metadata": {},
     "output_type": "display_data"
    },
    {
     "data": {
      "application/vnd.jupyter.widget-view+json": {
       "model_id": "",
       "version_major": 2,
       "version_minor": 0
      },
      "text/plain": [
       "Image (train):   0%|          | 0/1 [00:00<?, ?it/s]"
      ]
     },
     "metadata": {},
     "output_type": "display_data"
    },
    {
     "data": {
      "application/vnd.jupyter.widget-view+json": {
       "model_id": "",
       "version_major": 2,
       "version_minor": 0
      },
      "text/plain": [
       "Image (test):   0%|          | 0/1 [00:00<?, ?it/s]"
      ]
     },
     "metadata": {},
     "output_type": "display_data"
    },
    {
     "data": {
      "application/vnd.jupyter.widget-view+json": {
       "model_id": "",
       "version_major": 2,
       "version_minor": 0
      },
      "text/plain": [
       "Attempt:   0%|          | 0/10 [00:00<?, ?it/s]"
      ]
     },
     "metadata": {},
     "output_type": "display_data"
    },
    {
     "data": {
      "application/vnd.jupyter.widget-view+json": {
       "model_id": "",
       "version_major": 2,
       "version_minor": 0
      },
      "text/plain": [
       "Image (train):   0%|          | 0/1000 [00:00<?, ?it/s]"
      ]
     },
     "metadata": {},
     "output_type": "display_data"
    },
    {
     "data": {
      "application/vnd.jupyter.widget-view+json": {
       "model_id": "",
       "version_major": 2,
       "version_minor": 0
      },
      "text/plain": [
       "Image (test):   0%|          | 0/1000 [00:00<?, ?it/s]"
      ]
     },
     "metadata": {},
     "output_type": "display_data"
    },
    {
     "data": {
      "application/vnd.jupyter.widget-view+json": {
       "model_id": "",
       "version_major": 2,
       "version_minor": 0
      },
      "text/plain": [
       "Image (train):   0%|          | 0/14 [00:00<?, ?it/s]"
      ]
     },
     "metadata": {},
     "output_type": "display_data"
    },
    {
     "data": {
      "application/vnd.jupyter.widget-view+json": {
       "model_id": "",
       "version_major": 2,
       "version_minor": 0
      },
      "text/plain": [
       "Image (test):   0%|          | 0/14 [00:00<?, ?it/s]"
      ]
     },
     "metadata": {},
     "output_type": "display_data"
    },
    {
     "data": {
      "application/vnd.jupyter.widget-view+json": {
       "model_id": "",
       "version_major": 2,
       "version_minor": 0
      },
      "text/plain": [
       "Image (train):   0%|          | 0/10 [00:00<?, ?it/s]"
      ]
     },
     "metadata": {},
     "output_type": "display_data"
    },
    {
     "data": {
      "application/vnd.jupyter.widget-view+json": {
       "model_id": "",
       "version_major": 2,
       "version_minor": 0
      },
      "text/plain": [
       "Image (test):   0%|          | 0/10 [00:00<?, ?it/s]"
      ]
     },
     "metadata": {},
     "output_type": "display_data"
    },
    {
     "data": {
      "application/vnd.jupyter.widget-view+json": {
       "model_id": "",
       "version_major": 2,
       "version_minor": 0
      },
      "text/plain": [
       "Image (train):   0%|          | 0/7 [00:00<?, ?it/s]"
      ]
     },
     "metadata": {},
     "output_type": "display_data"
    },
    {
     "data": {
      "application/vnd.jupyter.widget-view+json": {
       "model_id": "",
       "version_major": 2,
       "version_minor": 0
      },
      "text/plain": [
       "Image (test):   0%|          | 0/7 [00:00<?, ?it/s]"
      ]
     },
     "metadata": {},
     "output_type": "display_data"
    },
    {
     "data": {
      "application/vnd.jupyter.widget-view+json": {
       "model_id": "",
       "version_major": 2,
       "version_minor": 0
      },
      "text/plain": [
       "Image (train):   0%|          | 0/5 [00:00<?, ?it/s]"
      ]
     },
     "metadata": {},
     "output_type": "display_data"
    },
    {
     "data": {
      "application/vnd.jupyter.widget-view+json": {
       "model_id": "",
       "version_major": 2,
       "version_minor": 0
      },
      "text/plain": [
       "Image (test):   0%|          | 0/5 [00:00<?, ?it/s]"
      ]
     },
     "metadata": {},
     "output_type": "display_data"
    },
    {
     "data": {
      "application/vnd.jupyter.widget-view+json": {
       "model_id": "",
       "version_major": 2,
       "version_minor": 0
      },
      "text/plain": [
       "Image (train):   0%|          | 0/4 [00:00<?, ?it/s]"
      ]
     },
     "metadata": {},
     "output_type": "display_data"
    },
    {
     "data": {
      "application/vnd.jupyter.widget-view+json": {
       "model_id": "",
       "version_major": 2,
       "version_minor": 0
      },
      "text/plain": [
       "Image (test):   0%|          | 0/4 [00:00<?, ?it/s]"
      ]
     },
     "metadata": {},
     "output_type": "display_data"
    },
    {
     "data": {
      "application/vnd.jupyter.widget-view+json": {
       "model_id": "",
       "version_major": 2,
       "version_minor": 0
      },
      "text/plain": [
       "Image (train):   0%|          | 0/3 [00:00<?, ?it/s]"
      ]
     },
     "metadata": {},
     "output_type": "display_data"
    },
    {
     "data": {
      "application/vnd.jupyter.widget-view+json": {
       "model_id": "",
       "version_major": 2,
       "version_minor": 0
      },
      "text/plain": [
       "Image (test):   0%|          | 0/3 [00:00<?, ?it/s]"
      ]
     },
     "metadata": {},
     "output_type": "display_data"
    },
    {
     "data": {
      "application/vnd.jupyter.widget-view+json": {
       "model_id": "",
       "version_major": 2,
       "version_minor": 0
      },
      "text/plain": [
       "Image (train):   0%|          | 0/2 [00:00<?, ?it/s]"
      ]
     },
     "metadata": {},
     "output_type": "display_data"
    },
    {
     "data": {
      "application/vnd.jupyter.widget-view+json": {
       "model_id": "",
       "version_major": 2,
       "version_minor": 0
      },
      "text/plain": [
       "Image (test):   0%|          | 0/2 [00:00<?, ?it/s]"
      ]
     },
     "metadata": {},
     "output_type": "display_data"
    },
    {
     "data": {
      "application/vnd.jupyter.widget-view+json": {
       "model_id": "5229ae3d8e464920b257173d0c16dcf9",
       "version_major": 2,
       "version_minor": 0
      },
      "text/plain": [
       "Image (train):   0%|          | 0/1 [00:00<?, ?it/s]"
      ]
     },
     "metadata": {},
     "output_type": "display_data"
    },
    {
     "data": {
      "application/vnd.jupyter.widget-view+json": {
       "model_id": "d8679ce281794c6ebba16579afdc35ab",
       "version_major": 2,
       "version_minor": 0
      },
      "text/plain": [
       "Image (test):   0%|          | 0/1 [00:00<?, ?it/s]"
      ]
     },
     "metadata": {},
     "output_type": "display_data"
    },
    {
     "data": {
      "application/vnd.jupyter.widget-view+json": {
       "model_id": "39d6e80df4814a878162256de24c62c6",
       "version_major": 2,
       "version_minor": 0
      },
      "text/plain": [
       "Image (train):   0%|          | 0/1 [00:00<?, ?it/s]"
      ]
     },
     "metadata": {},
     "output_type": "display_data"
    },
    {
     "data": {
      "application/vnd.jupyter.widget-view+json": {
       "model_id": "b7fb6933ba55491fb236511fca9bd499",
       "version_major": 2,
       "version_minor": 0
      },
      "text/plain": [
       "Image (test):   0%|          | 0/1 [00:00<?, ?it/s]"
      ]
     },
     "metadata": {},
     "output_type": "display_data"
    },
    {
     "data": {
      "application/vnd.jupyter.widget-view+json": {
       "model_id": "3dcc299bc6de4ea3a73703e26615aff8",
       "version_major": 2,
       "version_minor": 0
      },
      "text/plain": [
       "Attempt:   0%|          | 0/10 [00:00<?, ?it/s]"
      ]
     },
     "metadata": {},
     "output_type": "display_data"
    },
    {
     "data": {
      "application/vnd.jupyter.widget-view+json": {
       "model_id": "0517820778ec4424ab891b4f8e679fd0",
       "version_major": 2,
       "version_minor": 0
      },
      "text/plain": [
       "Image (train):   0%|          | 0/1000 [00:00<?, ?it/s]"
      ]
     },
     "metadata": {},
     "output_type": "display_data"
    },
    {
     "data": {
      "application/vnd.jupyter.widget-view+json": {
       "model_id": "029f22ee70574af9af3091cfd3c5cba9",
       "version_major": 2,
       "version_minor": 0
      },
      "text/plain": [
       "Image (test):   0%|          | 0/1000 [00:00<?, ?it/s]"
      ]
     },
     "metadata": {},
     "output_type": "display_data"
    },
    {
     "data": {
      "application/vnd.jupyter.widget-view+json": {
       "model_id": "96670f6ce62a4f3288862b78dd0f92de",
       "version_major": 2,
       "version_minor": 0
      },
      "text/plain": [
       "Image (train):   0%|          | 0/15 [00:00<?, ?it/s]"
      ]
     },
     "metadata": {},
     "output_type": "display_data"
    },
    {
     "data": {
      "application/vnd.jupyter.widget-view+json": {
       "model_id": "f2cdde626954460b9107f64a064ac256",
       "version_major": 2,
       "version_minor": 0
      },
      "text/plain": [
       "Image (test):   0%|          | 0/15 [00:00<?, ?it/s]"
      ]
     },
     "metadata": {},
     "output_type": "display_data"
    },
    {
     "data": {
      "application/vnd.jupyter.widget-view+json": {
       "model_id": "57cfdc6a78854a619aab76095564223e",
       "version_major": 2,
       "version_minor": 0
      },
      "text/plain": [
       "Image (train):   0%|          | 0/12 [00:00<?, ?it/s]"
      ]
     },
     "metadata": {},
     "output_type": "display_data"
    },
    {
     "data": {
      "application/vnd.jupyter.widget-view+json": {
       "model_id": "630dd9ef3e3b420d916e026cc247da57",
       "version_major": 2,
       "version_minor": 0
      },
      "text/plain": [
       "Image (test):   0%|          | 0/12 [00:00<?, ?it/s]"
      ]
     },
     "metadata": {},
     "output_type": "display_data"
    },
    {
     "data": {
      "application/vnd.jupyter.widget-view+json": {
       "model_id": "3a5daa1b0e67432b943c250057196ec3",
       "version_major": 2,
       "version_minor": 0
      },
      "text/plain": [
       "Image (train):   0%|          | 0/10 [00:00<?, ?it/s]"
      ]
     },
     "metadata": {},
     "output_type": "display_data"
    },
    {
     "data": {
      "application/vnd.jupyter.widget-view+json": {
       "model_id": "73e8461dd62447e5bfe4b6974a78d78a",
       "version_major": 2,
       "version_minor": 0
      },
      "text/plain": [
       "Image (test):   0%|          | 0/10 [00:00<?, ?it/s]"
      ]
     },
     "metadata": {},
     "output_type": "display_data"
    },
    {
     "data": {
      "application/vnd.jupyter.widget-view+json": {
       "model_id": "76cd8ceddbaf4ed3a1d4a2916ba89c89",
       "version_major": 2,
       "version_minor": 0
      },
      "text/plain": [
       "Image (train):   0%|          | 0/6 [00:00<?, ?it/s]"
      ]
     },
     "metadata": {},
     "output_type": "display_data"
    },
    {
     "data": {
      "application/vnd.jupyter.widget-view+json": {
       "model_id": "171e4202712444c3afd7fb835d47aa10",
       "version_major": 2,
       "version_minor": 0
      },
      "text/plain": [
       "Image (test):   0%|          | 0/6 [00:00<?, ?it/s]"
      ]
     },
     "metadata": {},
     "output_type": "display_data"
    },
    {
     "data": {
      "application/vnd.jupyter.widget-view+json": {
       "model_id": "e7c96cdb6df84e60b62c2203917131b8",
       "version_major": 2,
       "version_minor": 0
      },
      "text/plain": [
       "Image (train):   0%|          | 0/4 [00:00<?, ?it/s]"
      ]
     },
     "metadata": {},
     "output_type": "display_data"
    },
    {
     "data": {
      "application/vnd.jupyter.widget-view+json": {
       "model_id": "70d405e7d3e645de8e2fc8149c5d5958",
       "version_major": 2,
       "version_minor": 0
      },
      "text/plain": [
       "Image (test):   0%|          | 0/4 [00:00<?, ?it/s]"
      ]
     },
     "metadata": {},
     "output_type": "display_data"
    },
    {
     "data": {
      "application/vnd.jupyter.widget-view+json": {
       "model_id": "97158d08cded4e13b50b79ceb33b3d90",
       "version_major": 2,
       "version_minor": 0
      },
      "text/plain": [
       "Image (train):   0%|          | 0/2 [00:00<?, ?it/s]"
      ]
     },
     "metadata": {},
     "output_type": "display_data"
    },
    {
     "data": {
      "application/vnd.jupyter.widget-view+json": {
       "model_id": "7165f477d8c0423bb3aca4b495bc27ae",
       "version_major": 2,
       "version_minor": 0
      },
      "text/plain": [
       "Image (test):   0%|          | 0/2 [00:00<?, ?it/s]"
      ]
     },
     "metadata": {},
     "output_type": "display_data"
    },
    {
     "data": {
      "application/vnd.jupyter.widget-view+json": {
       "model_id": "7fc97131d4f2480786be7d5c2a5ca524",
       "version_major": 2,
       "version_minor": 0
      },
      "text/plain": [
       "Image (train):   0%|          | 0/1 [00:00<?, ?it/s]"
      ]
     },
     "metadata": {},
     "output_type": "display_data"
    },
    {
     "data": {
      "application/vnd.jupyter.widget-view+json": {
       "model_id": "da7354a85eb046e492c1bc2a632318b6",
       "version_major": 2,
       "version_minor": 0
      },
      "text/plain": [
       "Image (test):   0%|          | 0/1 [00:00<?, ?it/s]"
      ]
     },
     "metadata": {},
     "output_type": "display_data"
    },
    {
     "data": {
      "application/vnd.jupyter.widget-view+json": {
       "model_id": "88a6b028d43346479101e0f3ca7aaabb",
       "version_major": 2,
       "version_minor": 0
      },
      "text/plain": [
       "Image (train):   0%|          | 0/1 [00:00<?, ?it/s]"
      ]
     },
     "metadata": {},
     "output_type": "display_data"
    },
    {
     "data": {
      "application/vnd.jupyter.widget-view+json": {
       "model_id": "529bc68c80614e2d94b6ae81475f280e",
       "version_major": 2,
       "version_minor": 0
      },
      "text/plain": [
       "Image (test):   0%|          | 0/1 [00:00<?, ?it/s]"
      ]
     },
     "metadata": {},
     "output_type": "display_data"
    },
    {
     "data": {
      "application/vnd.jupyter.widget-view+json": {
       "model_id": "2de22d0d2cec49078b69caf506038c31",
       "version_major": 2,
       "version_minor": 0
      },
      "text/plain": [
       "Attempt:   0%|          | 0/10 [00:00<?, ?it/s]"
      ]
     },
     "metadata": {},
     "output_type": "display_data"
    },
    {
     "data": {
      "application/vnd.jupyter.widget-view+json": {
       "model_id": "8fe559d9153942649c15b28428420185",
       "version_major": 2,
       "version_minor": 0
      },
      "text/plain": [
       "Image (train):   0%|          | 0/1000 [00:00<?, ?it/s]"
      ]
     },
     "metadata": {},
     "output_type": "display_data"
    },
    {
     "data": {
      "application/vnd.jupyter.widget-view+json": {
       "model_id": "3e828d4113354d97b94c3882a570fc47",
       "version_major": 2,
       "version_minor": 0
      },
      "text/plain": [
       "Image (test):   0%|          | 0/1000 [00:00<?, ?it/s]"
      ]
     },
     "metadata": {},
     "output_type": "display_data"
    },
    {
     "data": {
      "application/vnd.jupyter.widget-view+json": {
       "model_id": "879ecc942ce44f01a6ba0ec95630bdeb",
       "version_major": 2,
       "version_minor": 0
      },
      "text/plain": [
       "Image (train):   0%|          | 0/8 [00:00<?, ?it/s]"
      ]
     },
     "metadata": {},
     "output_type": "display_data"
    },
    {
     "data": {
      "application/vnd.jupyter.widget-view+json": {
       "model_id": "527c1ca42a1644f6a36931da10f60a77",
       "version_major": 2,
       "version_minor": 0
      },
      "text/plain": [
       "Image (test):   0%|          | 0/8 [00:00<?, ?it/s]"
      ]
     },
     "metadata": {},
     "output_type": "display_data"
    },
    {
     "data": {
      "application/vnd.jupyter.widget-view+json": {
       "model_id": "0e97f323461145dd9132fa41293e4961",
       "version_major": 2,
       "version_minor": 0
      },
      "text/plain": [
       "Image (train):   0%|          | 0/6 [00:00<?, ?it/s]"
      ]
     },
     "metadata": {},
     "output_type": "display_data"
    },
    {
     "data": {
      "application/vnd.jupyter.widget-view+json": {
       "model_id": "21c3a5810d5a48b8aaf9206b9993e346",
       "version_major": 2,
       "version_minor": 0
      },
      "text/plain": [
       "Image (test):   0%|          | 0/6 [00:00<?, ?it/s]"
      ]
     },
     "metadata": {},
     "output_type": "display_data"
    },
    {
     "data": {
      "application/vnd.jupyter.widget-view+json": {
       "model_id": "86223a5da4204b1895f0e50d6ab2def5",
       "version_major": 2,
       "version_minor": 0
      },
      "text/plain": [
       "Image (train):   0%|          | 0/5 [00:00<?, ?it/s]"
      ]
     },
     "metadata": {},
     "output_type": "display_data"
    },
    {
     "data": {
      "application/vnd.jupyter.widget-view+json": {
       "model_id": "cfce660f557a47b0bd32606f481b2447",
       "version_major": 2,
       "version_minor": 0
      },
      "text/plain": [
       "Image (test):   0%|          | 0/5 [00:00<?, ?it/s]"
      ]
     },
     "metadata": {},
     "output_type": "display_data"
    },
    {
     "data": {
      "application/vnd.jupyter.widget-view+json": {
       "model_id": "d826e179977343238cae7130d3329cb5",
       "version_major": 2,
       "version_minor": 0
      },
      "text/plain": [
       "Image (train):   0%|          | 0/1 [00:00<?, ?it/s]"
      ]
     },
     "metadata": {},
     "output_type": "display_data"
    },
    {
     "data": {
      "application/vnd.jupyter.widget-view+json": {
       "model_id": "7dc9f06e563540e8af8cfe0182eef16d",
       "version_major": 2,
       "version_minor": 0
      },
      "text/plain": [
       "Image (test):   0%|          | 0/1 [00:00<?, ?it/s]"
      ]
     },
     "metadata": {},
     "output_type": "display_data"
    },
    {
     "data": {
      "application/vnd.jupyter.widget-view+json": {
       "model_id": "654d7c56e36a4524bdb06f89a2037d90",
       "version_major": 2,
       "version_minor": 0
      },
      "text/plain": [
       "Image (train):   0%|          | 0/1 [00:00<?, ?it/s]"
      ]
     },
     "metadata": {},
     "output_type": "display_data"
    },
    {
     "data": {
      "application/vnd.jupyter.widget-view+json": {
       "model_id": "d69e7b38bc0247219a01eb6f2d4e2886",
       "version_major": 2,
       "version_minor": 0
      },
      "text/plain": [
       "Image (test):   0%|          | 0/1 [00:00<?, ?it/s]"
      ]
     },
     "metadata": {},
     "output_type": "display_data"
    },
    {
     "data": {
      "application/vnd.jupyter.widget-view+json": {
       "model_id": "d82494d869504221b4387f2c2ef0a9dc",
       "version_major": 2,
       "version_minor": 0
      },
      "text/plain": [
       "Image (train):   0%|          | 0/1 [00:00<?, ?it/s]"
      ]
     },
     "metadata": {},
     "output_type": "display_data"
    },
    {
     "data": {
      "application/vnd.jupyter.widget-view+json": {
       "model_id": "c8fe58ebe94a419c92153967705a90f2",
       "version_major": 2,
       "version_minor": 0
      },
      "text/plain": [
       "Image (test):   0%|          | 0/1 [00:00<?, ?it/s]"
      ]
     },
     "metadata": {},
     "output_type": "display_data"
    },
    {
     "data": {
      "application/vnd.jupyter.widget-view+json": {
       "model_id": "fd2d5031d3c647f492de80410a19716e",
       "version_major": 2,
       "version_minor": 0
      },
      "text/plain": [
       "Image (train):   0%|          | 0/1 [00:00<?, ?it/s]"
      ]
     },
     "metadata": {},
     "output_type": "display_data"
    },
    {
     "data": {
      "application/vnd.jupyter.widget-view+json": {
       "model_id": "6712aa1947414fd3891987c527a8b6d9",
       "version_major": 2,
       "version_minor": 0
      },
      "text/plain": [
       "Image (test):   0%|          | 0/1 [00:00<?, ?it/s]"
      ]
     },
     "metadata": {},
     "output_type": "display_data"
    },
    {
     "data": {
      "application/vnd.jupyter.widget-view+json": {
       "model_id": "5d72544c71cd40ff8bedd040455128b1",
       "version_major": 2,
       "version_minor": 0
      },
      "text/plain": [
       "Attempt:   0%|          | 0/10 [00:00<?, ?it/s]"
      ]
     },
     "metadata": {},
     "output_type": "display_data"
    },
    {
     "data": {
      "application/vnd.jupyter.widget-view+json": {
       "model_id": "6c601f997cd047c1b3078f8516515064",
       "version_major": 2,
       "version_minor": 0
      },
      "text/plain": [
       "Image (train):   0%|          | 0/1000 [00:00<?, ?it/s]"
      ]
     },
     "metadata": {},
     "output_type": "display_data"
    },
    {
     "data": {
      "application/vnd.jupyter.widget-view+json": {
       "model_id": "7a5dedd43916420abec828d5cf925d7f",
       "version_major": 2,
       "version_minor": 0
      },
      "text/plain": [
       "Image (test):   0%|          | 0/1000 [00:00<?, ?it/s]"
      ]
     },
     "metadata": {},
     "output_type": "display_data"
    },
    {
     "data": {
      "application/vnd.jupyter.widget-view+json": {
       "model_id": "24cf045b3a514a95a1820b16903b27b0",
       "version_major": 2,
       "version_minor": 0
      },
      "text/plain": [
       "Image (train):   0%|          | 0/7 [00:00<?, ?it/s]"
      ]
     },
     "metadata": {},
     "output_type": "display_data"
    },
    {
     "data": {
      "application/vnd.jupyter.widget-view+json": {
       "model_id": "6b5faf9571d946d789169cbc742dca5d",
       "version_major": 2,
       "version_minor": 0
      },
      "text/plain": [
       "Image (test):   0%|          | 0/7 [00:00<?, ?it/s]"
      ]
     },
     "metadata": {},
     "output_type": "display_data"
    },
    {
     "data": {
      "application/vnd.jupyter.widget-view+json": {
       "model_id": "44826fac868b40629bc2258424580d24",
       "version_major": 2,
       "version_minor": 0
      },
      "text/plain": [
       "Image (train):   0%|          | 0/5 [00:00<?, ?it/s]"
      ]
     },
     "metadata": {},
     "output_type": "display_data"
    },
    {
     "data": {
      "application/vnd.jupyter.widget-view+json": {
       "model_id": "0105dcf4682a48a4a98c7b380f54f076",
       "version_major": 2,
       "version_minor": 0
      },
      "text/plain": [
       "Image (test):   0%|          | 0/5 [00:00<?, ?it/s]"
      ]
     },
     "metadata": {},
     "output_type": "display_data"
    },
    {
     "data": {
      "application/vnd.jupyter.widget-view+json": {
       "model_id": "56fc3e0d30364041a14280093b24a693",
       "version_major": 2,
       "version_minor": 0
      },
      "text/plain": [
       "Image (train):   0%|          | 0/4 [00:00<?, ?it/s]"
      ]
     },
     "metadata": {},
     "output_type": "display_data"
    },
    {
     "data": {
      "application/vnd.jupyter.widget-view+json": {
       "model_id": "6c69db4072da4be1b391912dd8f8530b",
       "version_major": 2,
       "version_minor": 0
      },
      "text/plain": [
       "Image (test):   0%|          | 0/4 [00:00<?, ?it/s]"
      ]
     },
     "metadata": {},
     "output_type": "display_data"
    },
    {
     "data": {
      "application/vnd.jupyter.widget-view+json": {
       "model_id": "5cd33ff6717b4964b10e735466dc2bdd",
       "version_major": 2,
       "version_minor": 0
      },
      "text/plain": [
       "Image (train):   0%|          | 0/4 [00:00<?, ?it/s]"
      ]
     },
     "metadata": {},
     "output_type": "display_data"
    },
    {
     "data": {
      "application/vnd.jupyter.widget-view+json": {
       "model_id": "bed0e34a21894936b3a2779104320782",
       "version_major": 2,
       "version_minor": 0
      },
      "text/plain": [
       "Image (test):   0%|          | 0/4 [00:00<?, ?it/s]"
      ]
     },
     "metadata": {},
     "output_type": "display_data"
    },
    {
     "data": {
      "application/vnd.jupyter.widget-view+json": {
       "model_id": "c15209befa8a41ed87cdf6e7dc85c140",
       "version_major": 2,
       "version_minor": 0
      },
      "text/plain": [
       "Image (train):   0%|          | 0/4 [00:00<?, ?it/s]"
      ]
     },
     "metadata": {},
     "output_type": "display_data"
    },
    {
     "data": {
      "application/vnd.jupyter.widget-view+json": {
       "model_id": "b90d0d4543834b28aacb5410dd570bf3",
       "version_major": 2,
       "version_minor": 0
      },
      "text/plain": [
       "Image (test):   0%|          | 0/4 [00:00<?, ?it/s]"
      ]
     },
     "metadata": {},
     "output_type": "display_data"
    },
    {
     "data": {
      "application/vnd.jupyter.widget-view+json": {
       "model_id": "9a948fdefb764844ae672edda2089986",
       "version_major": 2,
       "version_minor": 0
      },
      "text/plain": [
       "Image (train):   0%|          | 0/3 [00:00<?, ?it/s]"
      ]
     },
     "metadata": {},
     "output_type": "display_data"
    },
    {
     "data": {
      "application/vnd.jupyter.widget-view+json": {
       "model_id": "99b1c1c7a2ac461c9d9a23488aabcd4b",
       "version_major": 2,
       "version_minor": 0
      },
      "text/plain": [
       "Image (test):   0%|          | 0/3 [00:00<?, ?it/s]"
      ]
     },
     "metadata": {},
     "output_type": "display_data"
    },
    {
     "data": {
      "application/vnd.jupyter.widget-view+json": {
       "model_id": "649634cf9c804e5997759e925e5eda1d",
       "version_major": 2,
       "version_minor": 0
      },
      "text/plain": [
       "Image (train):   0%|          | 0/3 [00:00<?, ?it/s]"
      ]
     },
     "metadata": {},
     "output_type": "display_data"
    },
    {
     "data": {
      "application/vnd.jupyter.widget-view+json": {
       "model_id": "89ced75559664717a4b9b5fa079c450c",
       "version_major": 2,
       "version_minor": 0
      },
      "text/plain": [
       "Image (test):   0%|          | 0/3 [00:00<?, ?it/s]"
      ]
     },
     "metadata": {},
     "output_type": "display_data"
    },
    {
     "data": {
      "application/vnd.jupyter.widget-view+json": {
       "model_id": "66754a312280461288d55b84072ec78b",
       "version_major": 2,
       "version_minor": 0
      },
      "text/plain": [
       "Image (train):   0%|          | 0/3 [00:00<?, ?it/s]"
      ]
     },
     "metadata": {},
     "output_type": "display_data"
    },
    {
     "data": {
      "application/vnd.jupyter.widget-view+json": {
       "model_id": "2afdaedafe8742ff90c59b1de3a9dd6c",
       "version_major": 2,
       "version_minor": 0
      },
      "text/plain": [
       "Image (test):   0%|          | 0/3 [00:00<?, ?it/s]"
      ]
     },
     "metadata": {},
     "output_type": "display_data"
    },
    {
     "data": {
      "application/vnd.jupyter.widget-view+json": {
       "model_id": "72633d5f471b40b2be5dd8f9a1b5d4ad",
       "version_major": 2,
       "version_minor": 0
      },
      "text/plain": [
       "Image (train):   0%|          | 0/2 [00:00<?, ?it/s]"
      ]
     },
     "metadata": {},
     "output_type": "display_data"
    },
    {
     "data": {
      "application/vnd.jupyter.widget-view+json": {
       "model_id": "a8873849f27c412d8821e62bc8867c3e",
       "version_major": 2,
       "version_minor": 0
      },
      "text/plain": [
       "Image (test):   0%|          | 0/2 [00:00<?, ?it/s]"
      ]
     },
     "metadata": {},
     "output_type": "display_data"
    },
    {
     "data": {
      "application/vnd.jupyter.widget-view+json": {
       "model_id": "bdb7a4e30c4a4b21b46b6c4655ea101e",
       "version_major": 2,
       "version_minor": 0
      },
      "text/plain": [
       "Attempt:   0%|          | 0/10 [00:00<?, ?it/s]"
      ]
     },
     "metadata": {},
     "output_type": "display_data"
    },
    {
     "data": {
      "application/vnd.jupyter.widget-view+json": {
       "model_id": "93d1cba0f24c4e9987c79559b5bcb15f",
       "version_major": 2,
       "version_minor": 0
      },
      "text/plain": [
       "Image (train):   0%|          | 0/1000 [00:00<?, ?it/s]"
      ]
     },
     "metadata": {},
     "output_type": "display_data"
    },
    {
     "data": {
      "application/vnd.jupyter.widget-view+json": {
       "model_id": "58830230f6224710ad4910cbf4bdf674",
       "version_major": 2,
       "version_minor": 0
      },
      "text/plain": [
       "Image (test):   0%|          | 0/1000 [00:00<?, ?it/s]"
      ]
     },
     "metadata": {},
     "output_type": "display_data"
    },
    {
     "data": {
      "application/vnd.jupyter.widget-view+json": {
       "model_id": "274b9b9acc184fcbbce13f94ff3fc0e9",
       "version_major": 2,
       "version_minor": 0
      },
      "text/plain": [
       "Image (train):   0%|          | 0/10 [00:00<?, ?it/s]"
      ]
     },
     "metadata": {},
     "output_type": "display_data"
    },
    {
     "data": {
      "application/vnd.jupyter.widget-view+json": {
       "model_id": "1ab8005be4eb4200a428c1df141171ac",
       "version_major": 2,
       "version_minor": 0
      },
      "text/plain": [
       "Image (test):   0%|          | 0/10 [00:00<?, ?it/s]"
      ]
     },
     "metadata": {},
     "output_type": "display_data"
    },
    {
     "data": {
      "application/vnd.jupyter.widget-view+json": {
       "model_id": "cfb819fecc3d4f10a3b73aecc454239d",
       "version_major": 2,
       "version_minor": 0
      },
      "text/plain": [
       "Image (train):   0%|          | 0/6 [00:00<?, ?it/s]"
      ]
     },
     "metadata": {},
     "output_type": "display_data"
    },
    {
     "data": {
      "application/vnd.jupyter.widget-view+json": {
       "model_id": "f7f9a7a7f9a346128977a45dceb84afd",
       "version_major": 2,
       "version_minor": 0
      },
      "text/plain": [
       "Image (test):   0%|          | 0/6 [00:00<?, ?it/s]"
      ]
     },
     "metadata": {},
     "output_type": "display_data"
    },
    {
     "data": {
      "application/vnd.jupyter.widget-view+json": {
       "model_id": "5857ddcda97e45c5a0e4d2db832d0be9",
       "version_major": 2,
       "version_minor": 0
      },
      "text/plain": [
       "Image (train):   0%|          | 0/1 [00:00<?, ?it/s]"
      ]
     },
     "metadata": {},
     "output_type": "display_data"
    },
    {
     "data": {
      "application/vnd.jupyter.widget-view+json": {
       "model_id": "bc2a4245d5c94e75bd7b213f1ae0015c",
       "version_major": 2,
       "version_minor": 0
      },
      "text/plain": [
       "Image (test):   0%|          | 0/1 [00:00<?, ?it/s]"
      ]
     },
     "metadata": {},
     "output_type": "display_data"
    },
    {
     "data": {
      "application/vnd.jupyter.widget-view+json": {
       "model_id": "bd873d7aeb3b4cb99200893f206ce7f5",
       "version_major": 2,
       "version_minor": 0
      },
      "text/plain": [
       "Image (train):   0%|          | 0/1 [00:00<?, ?it/s]"
      ]
     },
     "metadata": {},
     "output_type": "display_data"
    },
    {
     "data": {
      "application/vnd.jupyter.widget-view+json": {
       "model_id": "6b169bfdcca04d38ab0416bdd7e9f0b3",
       "version_major": 2,
       "version_minor": 0
      },
      "text/plain": [
       "Image (test):   0%|          | 0/1 [00:00<?, ?it/s]"
      ]
     },
     "metadata": {},
     "output_type": "display_data"
    },
    {
     "data": {
      "application/vnd.jupyter.widget-view+json": {
       "model_id": "648d97793a25486aa6937cfeedf6683a",
       "version_major": 2,
       "version_minor": 0
      },
      "text/plain": [
       "Image (train):   0%|          | 0/1 [00:00<?, ?it/s]"
      ]
     },
     "metadata": {},
     "output_type": "display_data"
    },
    {
     "data": {
      "application/vnd.jupyter.widget-view+json": {
       "model_id": "d492c3f2cfb04350be758a260109fe5d",
       "version_major": 2,
       "version_minor": 0
      },
      "text/plain": [
       "Image (test):   0%|          | 0/1 [00:00<?, ?it/s]"
      ]
     },
     "metadata": {},
     "output_type": "display_data"
    },
    {
     "data": {
      "application/vnd.jupyter.widget-view+json": {
       "model_id": "1ab477d0c73f4867ad7f18b3aa1838f9",
       "version_major": 2,
       "version_minor": 0
      },
      "text/plain": [
       "Image (train):   0%|          | 0/1 [00:00<?, ?it/s]"
      ]
     },
     "metadata": {},
     "output_type": "display_data"
    },
    {
     "data": {
      "application/vnd.jupyter.widget-view+json": {
       "model_id": "202e6149460c47a18672e9a1bcad9865",
       "version_major": 2,
       "version_minor": 0
      },
      "text/plain": [
       "Image (test):   0%|          | 0/1 [00:00<?, ?it/s]"
      ]
     },
     "metadata": {},
     "output_type": "display_data"
    },
    {
     "data": {
      "application/vnd.jupyter.widget-view+json": {
       "model_id": "e216f4057aa84c61a236f534bc34eb49",
       "version_major": 2,
       "version_minor": 0
      },
      "text/plain": [
       "Image (train):   0%|          | 0/1 [00:00<?, ?it/s]"
      ]
     },
     "metadata": {},
     "output_type": "display_data"
    },
    {
     "data": {
      "application/vnd.jupyter.widget-view+json": {
       "model_id": "360dd59e655c4551b0a87a156374cbdf",
       "version_major": 2,
       "version_minor": 0
      },
      "text/plain": [
       "Image (test):   0%|          | 0/1 [00:00<?, ?it/s]"
      ]
     },
     "metadata": {},
     "output_type": "display_data"
    },
    {
     "data": {
      "application/vnd.jupyter.widget-view+json": {
       "model_id": "cdb55d418c86494696ce5f260f70b095",
       "version_major": 2,
       "version_minor": 0
      },
      "text/plain": [
       "Image (train):   0%|          | 0/1 [00:00<?, ?it/s]"
      ]
     },
     "metadata": {},
     "output_type": "display_data"
    },
    {
     "data": {
      "application/vnd.jupyter.widget-view+json": {
       "model_id": "a788dc358b224d429a692c5e42eaa912",
       "version_major": 2,
       "version_minor": 0
      },
      "text/plain": [
       "Image (test):   0%|          | 0/1 [00:00<?, ?it/s]"
      ]
     },
     "metadata": {},
     "output_type": "display_data"
    },
    {
     "data": {
      "application/vnd.jupyter.widget-view+json": {
       "model_id": "fb44befe9bb14ad2938df0b308fdd521",
       "version_major": 2,
       "version_minor": 0
      },
      "text/plain": [
       "Attempt:   0%|          | 0/10 [00:00<?, ?it/s]"
      ]
     },
     "metadata": {},
     "output_type": "display_data"
    },
    {
     "data": {
      "application/vnd.jupyter.widget-view+json": {
       "model_id": "42bcaffa294146d8a74b8e74912db5be",
       "version_major": 2,
       "version_minor": 0
      },
      "text/plain": [
       "Image (train):   0%|          | 0/1000 [00:00<?, ?it/s]"
      ]
     },
     "metadata": {},
     "output_type": "display_data"
    },
    {
     "data": {
      "application/vnd.jupyter.widget-view+json": {
       "model_id": "ab8c534f757e411fb1204a95f679e5a8",
       "version_major": 2,
       "version_minor": 0
      },
      "text/plain": [
       "Image (test):   0%|          | 0/1000 [00:00<?, ?it/s]"
      ]
     },
     "metadata": {},
     "output_type": "display_data"
    },
    {
     "data": {
      "application/vnd.jupyter.widget-view+json": {
       "model_id": "6d4f52867ee449ec90da0e68e2cd9d7c",
       "version_major": 2,
       "version_minor": 0
      },
      "text/plain": [
       "Image (train):   0%|          | 0/11 [00:00<?, ?it/s]"
      ]
     },
     "metadata": {},
     "output_type": "display_data"
    },
    {
     "data": {
      "application/vnd.jupyter.widget-view+json": {
       "model_id": "7fa049e20775457e8a27e65ecc727b83",
       "version_major": 2,
       "version_minor": 0
      },
      "text/plain": [
       "Image (test):   0%|          | 0/11 [00:00<?, ?it/s]"
      ]
     },
     "metadata": {},
     "output_type": "display_data"
    },
    {
     "data": {
      "application/vnd.jupyter.widget-view+json": {
       "model_id": "74f951de4b8f424b93535e5b7cc7b282",
       "version_major": 2,
       "version_minor": 0
      },
      "text/plain": [
       "Image (train):   0%|          | 0/5 [00:00<?, ?it/s]"
      ]
     },
     "metadata": {},
     "output_type": "display_data"
    },
    {
     "data": {
      "application/vnd.jupyter.widget-view+json": {
       "model_id": "3cf9d26397b0424db6b19acf78afa5aa",
       "version_major": 2,
       "version_minor": 0
      },
      "text/plain": [
       "Image (test):   0%|          | 0/5 [00:00<?, ?it/s]"
      ]
     },
     "metadata": {},
     "output_type": "display_data"
    },
    {
     "data": {
      "application/vnd.jupyter.widget-view+json": {
       "model_id": "82bda5990b2a4e3f8f3ad5c653dfd166",
       "version_major": 2,
       "version_minor": 0
      },
      "text/plain": [
       "Image (train):   0%|          | 0/3 [00:00<?, ?it/s]"
      ]
     },
     "metadata": {},
     "output_type": "display_data"
    },
    {
     "data": {
      "application/vnd.jupyter.widget-view+json": {
       "model_id": "2f9671eb0d4248a7b8791cbe2844cd0a",
       "version_major": 2,
       "version_minor": 0
      },
      "text/plain": [
       "Image (test):   0%|          | 0/3 [00:00<?, ?it/s]"
      ]
     },
     "metadata": {},
     "output_type": "display_data"
    },
    {
     "data": {
      "application/vnd.jupyter.widget-view+json": {
       "model_id": "553ea0348a1c4cf2b308d876cc84df6e",
       "version_major": 2,
       "version_minor": 0
      },
      "text/plain": [
       "Image (train):   0%|          | 0/2 [00:00<?, ?it/s]"
      ]
     },
     "metadata": {},
     "output_type": "display_data"
    },
    {
     "data": {
      "application/vnd.jupyter.widget-view+json": {
       "model_id": "31f1aad4853b49c183a07b50e221e12f",
       "version_major": 2,
       "version_minor": 0
      },
      "text/plain": [
       "Image (test):   0%|          | 0/2 [00:00<?, ?it/s]"
      ]
     },
     "metadata": {},
     "output_type": "display_data"
    },
    {
     "data": {
      "application/vnd.jupyter.widget-view+json": {
       "model_id": "8a3eb1940d9a44fb8b5b522dc0f742be",
       "version_major": 2,
       "version_minor": 0
      },
      "text/plain": [
       "Image (train):   0%|          | 0/2 [00:00<?, ?it/s]"
      ]
     },
     "metadata": {},
     "output_type": "display_data"
    },
    {
     "data": {
      "application/vnd.jupyter.widget-view+json": {
       "model_id": "d4cd9420a1be4979854c8e2ca97f365c",
       "version_major": 2,
       "version_minor": 0
      },
      "text/plain": [
       "Image (test):   0%|          | 0/2 [00:00<?, ?it/s]"
      ]
     },
     "metadata": {},
     "output_type": "display_data"
    },
    {
     "data": {
      "application/vnd.jupyter.widget-view+json": {
       "model_id": "fd4f6f5f8fb445c397e1acfd0214ca06",
       "version_major": 2,
       "version_minor": 0
      },
      "text/plain": [
       "Image (train):   0%|          | 0/1 [00:00<?, ?it/s]"
      ]
     },
     "metadata": {},
     "output_type": "display_data"
    },
    {
     "data": {
      "application/vnd.jupyter.widget-view+json": {
       "model_id": "47863bafa38b4a5dac6e99ed26b4b3e7",
       "version_major": 2,
       "version_minor": 0
      },
      "text/plain": [
       "Image (test):   0%|          | 0/1 [00:00<?, ?it/s]"
      ]
     },
     "metadata": {},
     "output_type": "display_data"
    },
    {
     "data": {
      "application/vnd.jupyter.widget-view+json": {
       "model_id": "dba75b6551024efdb6a95ced29e785c3",
       "version_major": 2,
       "version_minor": 0
      },
      "text/plain": [
       "Image (train):   0%|          | 0/1 [00:00<?, ?it/s]"
      ]
     },
     "metadata": {},
     "output_type": "display_data"
    },
    {
     "data": {
      "application/vnd.jupyter.widget-view+json": {
       "model_id": "c5d0c357ff764978a33de8d5af8ff153",
       "version_major": 2,
       "version_minor": 0
      },
      "text/plain": [
       "Image (test):   0%|          | 0/1 [00:00<?, ?it/s]"
      ]
     },
     "metadata": {},
     "output_type": "display_data"
    },
    {
     "data": {
      "application/vnd.jupyter.widget-view+json": {
       "model_id": "6a9e61568c8d4084a868132833b6edcf",
       "version_major": 2,
       "version_minor": 0
      },
      "text/plain": [
       "Attempt:   0%|          | 0/10 [00:00<?, ?it/s]"
      ]
     },
     "metadata": {},
     "output_type": "display_data"
    },
    {
     "data": {
      "application/vnd.jupyter.widget-view+json": {
       "model_id": "e65e69174bf640b18bb775d5b9fe7e22",
       "version_major": 2,
       "version_minor": 0
      },
      "text/plain": [
       "Image (train):   0%|          | 0/1000 [00:00<?, ?it/s]"
      ]
     },
     "metadata": {},
     "output_type": "display_data"
    },
    {
     "data": {
      "application/vnd.jupyter.widget-view+json": {
       "model_id": "a7617cbfda92410ba956d9e3aaa57853",
       "version_major": 2,
       "version_minor": 0
      },
      "text/plain": [
       "Image (test):   0%|          | 0/1000 [00:00<?, ?it/s]"
      ]
     },
     "metadata": {},
     "output_type": "display_data"
    },
    {
     "data": {
      "application/vnd.jupyter.widget-view+json": {
       "model_id": "c59666b6d167458481339b0032687161",
       "version_major": 2,
       "version_minor": 0
      },
      "text/plain": [
       "Image (train):   0%|          | 0/12 [00:00<?, ?it/s]"
      ]
     },
     "metadata": {},
     "output_type": "display_data"
    },
    {
     "data": {
      "application/vnd.jupyter.widget-view+json": {
       "model_id": "306523fb4a3f44d49cb286cd0e8cddf0",
       "version_major": 2,
       "version_minor": 0
      },
      "text/plain": [
       "Image (test):   0%|          | 0/12 [00:00<?, ?it/s]"
      ]
     },
     "metadata": {},
     "output_type": "display_data"
    },
    {
     "data": {
      "application/vnd.jupyter.widget-view+json": {
       "model_id": "cca525a130284a3eb5b1896e748b01ba",
       "version_major": 2,
       "version_minor": 0
      },
      "text/plain": [
       "Image (train):   0%|          | 0/10 [00:00<?, ?it/s]"
      ]
     },
     "metadata": {},
     "output_type": "display_data"
    },
    {
     "data": {
      "application/vnd.jupyter.widget-view+json": {
       "model_id": "7c65a2571d614815bdc6ea528c3a0ef4",
       "version_major": 2,
       "version_minor": 0
      },
      "text/plain": [
       "Image (test):   0%|          | 0/10 [00:00<?, ?it/s]"
      ]
     },
     "metadata": {},
     "output_type": "display_data"
    },
    {
     "data": {
      "application/vnd.jupyter.widget-view+json": {
       "model_id": "7cf117db0c5c412f86bfb2516c54e2b5",
       "version_major": 2,
       "version_minor": 0
      },
      "text/plain": [
       "Image (train):   0%|          | 0/8 [00:00<?, ?it/s]"
      ]
     },
     "metadata": {},
     "output_type": "display_data"
    },
    {
     "data": {
      "application/vnd.jupyter.widget-view+json": {
       "model_id": "4928b48b35bf4a5a874a55ee0cf013e6",
       "version_major": 2,
       "version_minor": 0
      },
      "text/plain": [
       "Image (test):   0%|          | 0/8 [00:00<?, ?it/s]"
      ]
     },
     "metadata": {},
     "output_type": "display_data"
    },
    {
     "data": {
      "application/vnd.jupyter.widget-view+json": {
       "model_id": "d9fb9ba452e847a5805cab43142f115a",
       "version_major": 2,
       "version_minor": 0
      },
      "text/plain": [
       "Image (train):   0%|          | 0/5 [00:00<?, ?it/s]"
      ]
     },
     "metadata": {},
     "output_type": "display_data"
    },
    {
     "data": {
      "application/vnd.jupyter.widget-view+json": {
       "model_id": "2406c752d06748cfa6af476b286188c5",
       "version_major": 2,
       "version_minor": 0
      },
      "text/plain": [
       "Image (test):   0%|          | 0/5 [00:00<?, ?it/s]"
      ]
     },
     "metadata": {},
     "output_type": "display_data"
    },
    {
     "data": {
      "application/vnd.jupyter.widget-view+json": {
       "model_id": "c2a16b9c346f4406adf1aa205c95878c",
       "version_major": 2,
       "version_minor": 0
      },
      "text/plain": [
       "Image (train):   0%|          | 0/2 [00:00<?, ?it/s]"
      ]
     },
     "metadata": {},
     "output_type": "display_data"
    },
    {
     "data": {
      "application/vnd.jupyter.widget-view+json": {
       "model_id": "4c894a8fa7874a41808a32c3849a245c",
       "version_major": 2,
       "version_minor": 0
      },
      "text/plain": [
       "Image (test):   0%|          | 0/2 [00:00<?, ?it/s]"
      ]
     },
     "metadata": {},
     "output_type": "display_data"
    },
    {
     "data": {
      "application/vnd.jupyter.widget-view+json": {
       "model_id": "e8620483dd744784bf60dadd886caf88",
       "version_major": 2,
       "version_minor": 0
      },
      "text/plain": [
       "Image (train):   0%|          | 0/1 [00:00<?, ?it/s]"
      ]
     },
     "metadata": {},
     "output_type": "display_data"
    },
    {
     "data": {
      "application/vnd.jupyter.widget-view+json": {
       "model_id": "6d17c72e42614830b24112c306bf0e53",
       "version_major": 2,
       "version_minor": 0
      },
      "text/plain": [
       "Image (test):   0%|          | 0/1 [00:00<?, ?it/s]"
      ]
     },
     "metadata": {},
     "output_type": "display_data"
    },
    {
     "data": {
      "application/vnd.jupyter.widget-view+json": {
       "model_id": "51d98242e3be4329a3abcb20765ab6df",
       "version_major": 2,
       "version_minor": 0
      },
      "text/plain": [
       "Image (train):   0%|          | 0/1 [00:00<?, ?it/s]"
      ]
     },
     "metadata": {},
     "output_type": "display_data"
    },
    {
     "data": {
      "application/vnd.jupyter.widget-view+json": {
       "model_id": "0eae9487c59948d7a31926fd7291a6e2",
       "version_major": 2,
       "version_minor": 0
      },
      "text/plain": [
       "Image (test):   0%|          | 0/1 [00:00<?, ?it/s]"
      ]
     },
     "metadata": {},
     "output_type": "display_data"
    },
    {
     "data": {
      "application/vnd.jupyter.widget-view+json": {
       "model_id": "60299ab8367e4e1a8ff2887e70117de8",
       "version_major": 2,
       "version_minor": 0
      },
      "text/plain": [
       "Image (train):   0%|          | 0/1 [00:00<?, ?it/s]"
      ]
     },
     "metadata": {},
     "output_type": "display_data"
    },
    {
     "data": {
      "application/vnd.jupyter.widget-view+json": {
       "model_id": "6794908a399e4786956e5d1488188797",
       "version_major": 2,
       "version_minor": 0
      },
      "text/plain": [
       "Image (test):   0%|          | 0/1 [00:00<?, ?it/s]"
      ]
     },
     "metadata": {},
     "output_type": "display_data"
    },
    {
     "data": {
      "application/vnd.jupyter.widget-view+json": {
       "model_id": "3670b23bb83d46d0ab0b3accb3986485",
       "version_major": 2,
       "version_minor": 0
      },
      "text/plain": [
       "Image (train):   0%|          | 0/1 [00:00<?, ?it/s]"
      ]
     },
     "metadata": {},
     "output_type": "display_data"
    },
    {
     "data": {
      "application/vnd.jupyter.widget-view+json": {
       "model_id": "fcf7430df7fd4ff4844da1c801d7dc31",
       "version_major": 2,
       "version_minor": 0
      },
      "text/plain": [
       "Image (test):   0%|          | 0/1 [00:00<?, ?it/s]"
      ]
     },
     "metadata": {},
     "output_type": "display_data"
    },
    {
     "data": {
      "application/vnd.jupyter.widget-view+json": {
       "model_id": "7d4b78aab2c34a1dbac44d139338ba16",
       "version_major": 2,
       "version_minor": 0
      },
      "text/plain": [
       "Attempt:   0%|          | 0/10 [00:00<?, ?it/s]"
      ]
     },
     "metadata": {},
     "output_type": "display_data"
    },
    {
     "data": {
      "application/vnd.jupyter.widget-view+json": {
       "model_id": "2e324dd432264ef4b99588b6ebdeee4f",
       "version_major": 2,
       "version_minor": 0
      },
      "text/plain": [
       "Image (train):   0%|          | 0/1000 [00:00<?, ?it/s]"
      ]
     },
     "metadata": {},
     "output_type": "display_data"
    },
    {
     "data": {
      "application/vnd.jupyter.widget-view+json": {
       "model_id": "dd22351a9e63441f959070c7c5448594",
       "version_major": 2,
       "version_minor": 0
      },
      "text/plain": [
       "Image (test):   0%|          | 0/1000 [00:00<?, ?it/s]"
      ]
     },
     "metadata": {},
     "output_type": "display_data"
    },
    {
     "data": {
      "application/vnd.jupyter.widget-view+json": {
       "model_id": "af8de78f51a04314be1a1e5a2f8449ef",
       "version_major": 2,
       "version_minor": 0
      },
      "text/plain": [
       "Image (train):   0%|          | 0/21 [00:00<?, ?it/s]"
      ]
     },
     "metadata": {},
     "output_type": "display_data"
    },
    {
     "data": {
      "application/vnd.jupyter.widget-view+json": {
       "model_id": "2ef21d61cb3e4eb7b2768fe769adc704",
       "version_major": 2,
       "version_minor": 0
      },
      "text/plain": [
       "Image (test):   0%|          | 0/21 [00:00<?, ?it/s]"
      ]
     },
     "metadata": {},
     "output_type": "display_data"
    },
    {
     "data": {
      "application/vnd.jupyter.widget-view+json": {
       "model_id": "b68c79169e99404797f54ef180d07cb3",
       "version_major": 2,
       "version_minor": 0
      },
      "text/plain": [
       "Image (train):   0%|          | 0/15 [00:00<?, ?it/s]"
      ]
     },
     "metadata": {},
     "output_type": "display_data"
    },
    {
     "data": {
      "application/vnd.jupyter.widget-view+json": {
       "model_id": "d348cde2ce4d454ca00d14989d8e267c",
       "version_major": 2,
       "version_minor": 0
      },
      "text/plain": [
       "Image (test):   0%|          | 0/15 [00:00<?, ?it/s]"
      ]
     },
     "metadata": {},
     "output_type": "display_data"
    },
    {
     "data": {
      "application/vnd.jupyter.widget-view+json": {
       "model_id": "89928e8892ce4600803a40414c3d9d4f",
       "version_major": 2,
       "version_minor": 0
      },
      "text/plain": [
       "Image (train):   0%|          | 0/9 [00:00<?, ?it/s]"
      ]
     },
     "metadata": {},
     "output_type": "display_data"
    },
    {
     "data": {
      "application/vnd.jupyter.widget-view+json": {
       "model_id": "67525b0fb46547ccae58122580228d62",
       "version_major": 2,
       "version_minor": 0
      },
      "text/plain": [
       "Image (test):   0%|          | 0/9 [00:00<?, ?it/s]"
      ]
     },
     "metadata": {},
     "output_type": "display_data"
    },
    {
     "data": {
      "application/vnd.jupyter.widget-view+json": {
       "model_id": "3b304ff965d54e85812d68a963b9ce38",
       "version_major": 2,
       "version_minor": 0
      },
      "text/plain": [
       "Image (train):   0%|          | 0/9 [00:00<?, ?it/s]"
      ]
     },
     "metadata": {},
     "output_type": "display_data"
    },
    {
     "data": {
      "application/vnd.jupyter.widget-view+json": {
       "model_id": "23243d2403414385aef4e733270da845",
       "version_major": 2,
       "version_minor": 0
      },
      "text/plain": [
       "Image (test):   0%|          | 0/9 [00:00<?, ?it/s]"
      ]
     },
     "metadata": {},
     "output_type": "display_data"
    },
    {
     "data": {
      "application/vnd.jupyter.widget-view+json": {
       "model_id": "248209db1f4f407bb34b6ead60c7b548",
       "version_major": 2,
       "version_minor": 0
      },
      "text/plain": [
       "Image (train):   0%|          | 0/7 [00:00<?, ?it/s]"
      ]
     },
     "metadata": {},
     "output_type": "display_data"
    },
    {
     "data": {
      "application/vnd.jupyter.widget-view+json": {
       "model_id": "a84d9809b37948069812e6f44adbe911",
       "version_major": 2,
       "version_minor": 0
      },
      "text/plain": [
       "Image (test):   0%|          | 0/7 [00:00<?, ?it/s]"
      ]
     },
     "metadata": {},
     "output_type": "display_data"
    },
    {
     "data": {
      "application/vnd.jupyter.widget-view+json": {
       "model_id": "33ce9ff0db154b4582f11c20c057d779",
       "version_major": 2,
       "version_minor": 0
      },
      "text/plain": [
       "Image (train):   0%|          | 0/6 [00:00<?, ?it/s]"
      ]
     },
     "metadata": {},
     "output_type": "display_data"
    },
    {
     "data": {
      "application/vnd.jupyter.widget-view+json": {
       "model_id": "6c56012c16614f3f8d0e71b640d23ad8",
       "version_major": 2,
       "version_minor": 0
      },
      "text/plain": [
       "Image (test):   0%|          | 0/6 [00:00<?, ?it/s]"
      ]
     },
     "metadata": {},
     "output_type": "display_data"
    },
    {
     "data": {
      "application/vnd.jupyter.widget-view+json": {
       "model_id": "6f62e112fe784ff3b6ad4fcda02a7603",
       "version_major": 2,
       "version_minor": 0
      },
      "text/plain": [
       "Image (train):   0%|          | 0/3 [00:00<?, ?it/s]"
      ]
     },
     "metadata": {},
     "output_type": "display_data"
    },
    {
     "data": {
      "application/vnd.jupyter.widget-view+json": {
       "model_id": "92b76c979eff49aea36d968899bf04e0",
       "version_major": 2,
       "version_minor": 0
      },
      "text/plain": [
       "Image (test):   0%|          | 0/3 [00:00<?, ?it/s]"
      ]
     },
     "metadata": {},
     "output_type": "display_data"
    },
    {
     "data": {
      "application/vnd.jupyter.widget-view+json": {
       "model_id": "38f010b4ffa7408d9f6f715b58ae6035",
       "version_major": 2,
       "version_minor": 0
      },
      "text/plain": [
       "Image (train):   0%|          | 0/3 [00:00<?, ?it/s]"
      ]
     },
     "metadata": {},
     "output_type": "display_data"
    },
    {
     "data": {
      "application/vnd.jupyter.widget-view+json": {
       "model_id": "a7c112b9c87c4e48a65de7b21e0fb96e",
       "version_major": 2,
       "version_minor": 0
      },
      "text/plain": [
       "Image (test):   0%|          | 0/3 [00:00<?, ?it/s]"
      ]
     },
     "metadata": {},
     "output_type": "display_data"
    },
    {
     "data": {
      "application/vnd.jupyter.widget-view+json": {
       "model_id": "c68dbbeb3f8240d7961d216816b3c7e1",
       "version_major": 2,
       "version_minor": 0
      },
      "text/plain": [
       "Image (train):   0%|          | 0/3 [00:00<?, ?it/s]"
      ]
     },
     "metadata": {},
     "output_type": "display_data"
    },
    {
     "data": {
      "application/vnd.jupyter.widget-view+json": {
       "model_id": "984414f9615c4a3b8a73ac87775f700d",
       "version_major": 2,
       "version_minor": 0
      },
      "text/plain": [
       "Image (test):   0%|          | 0/3 [00:00<?, ?it/s]"
      ]
     },
     "metadata": {},
     "output_type": "display_data"
    }
   ],
   "source": [
    "# TRAIN RUN\n",
    "TRAIN_RUN_ID += 1\n",
    "epochs = 10\n",
    "attempts_to_get_no_mistakes = 10\n",
    "count = 1000\n",
    "consolidation_threshold = 1000\n",
    "\n",
    "for epoch in tqdm(range(epochs), desc='Epoch'):\n",
    "    train_step_image_ids = RNG.choice(df_train_images.index.unique(), count, replace=False)\n",
    "\n",
    "    for attempt_to_get_no_mistakes in tqdm(range(attempts_to_get_no_mistakes), leave=False, desc='Attempt'):\n",
    "        # EVOLVE MEMORIES\n",
    "        for image_no, image_id in tqdm(enumerate(train_step_image_ids), leave=False, total=len(train_step_image_ids), desc='Image (train)'):\n",
    "            log.debug(f'[train_run_id={TRAIN_RUN_ID}, image_no={image_no}, image_id={image_id}] Engram count={COLUMN.engram_norms.len()}')\n",
    "            \n",
    "            image_value = df_train_images.loc[image_id]['value']\n",
    "            df_image_encodings = pd.read_sql('SELECT hdv FROM image_encodings WHERE image_id=:image_id', params={'image_id': int(image_id)}, con=train_db_con)\n",
    "            assert len(df_image_encodings) > 0\n",
    "            image_encoding_hdvs = list(map(lambda h: np.frombuffer(h, dtype='b'), df_image_encodings['hdv']))\n",
    "            image_encoding_hdvs_norm = hdc.normalize(image_encoding_hdvs)\n",
    "            image_encoding_hdvs_norm = xp_array_to_gpu(image_encoding_hdvs_norm)\n",
    "    \n",
    "            cos_sim_matrix = COLUMN.engram_norms.array @ image_encoding_hdvs_norm.T\n",
    "            cos_sim_matrix[cos_sim_matrix < COS_SIM_THRESHOLD] = 0\n",
    "            cos_sim_vector = xp_array_from_gpu(xp.sum(cos_sim_matrix, axis=1)) # how each mem recall (sum cos sim) is close to current image\n",
    "            \n",
    "            assert cos_sim_vector.shape == (COLUMN.engram_norms.array.shape[0],)\n",
    "            engram_ids_by_match_score = np.argsort(-cos_sim_vector) # sorted desc\n",
    "            match_found = False\n",
    "            match_pos = False\n",
    "            match_is_updated = False\n",
    "    \n",
    "            for pos, engram_id in enumerate(engram_ids_by_match_score):\n",
    "                cos_sim_value = cos_sim_vector[engram_id]\n",
    "                log.debug(f'[train_run_id={TRAIN_RUN_ID}, image_no={image_no}, image_id={image_id}] Checking engram #{engram_id}, pos={pos}, sim={cos_sim_value:.2f}')\n",
    "    \n",
    "                if cos_sim_value <= 0:\n",
    "                    break\n",
    "    \n",
    "                engram_image_ids = COLUMN.engram_to_image_ids[engram_id]\n",
    "                assert len(engram_image_ids) > 0\n",
    "                engram_is_sealed = engram_id in COLUMN.engram_is_sealed\n",
    "                engram_image_id = next(iter(engram_image_ids))\n",
    "                engram_image_value = df_train_images.loc[engram_image_id]['value']\n",
    "    \n",
    "                if engram_image_value != image_value:\n",
    "                    log.debug(f'[train_run_id={TRAIN_RUN_ID}, image_no={image_no}, image_id={image_id}] Match WRONG, engram value={engram_image_value} vs {image_value}')\n",
    "                else:\n",
    "                    log.debug(f'[train_run_id={TRAIN_RUN_ID}, image_no={image_no}, image_id={image_id}] Match CORRECT, sealed={engram_is_sealed}')\n",
    "    \n",
    "                    if not engram_is_sealed:\n",
    "                        engram_image_ids.add(image_id)\n",
    "                        engram_hdvs = COLUMN.engrams[engram_id] # list\n",
    "                        image_encoding_hdvs_bundle = hdc.bundle(image_encoding_hdvs)\n",
    "                        engram_hdvs_bundle = hdc.bundle(engram_hdvs)\n",
    "                        before_sim = hdc.sim(engram_hdvs_bundle, image_encoding_hdvs_bundle)\n",
    "                        engram_hdvs.append(image_encoding_hdvs_bundle)\n",
    "                        engram_hdvs_bundle = hdc.bundle(engram_hdvs)\n",
    "                        after_sim = hdc.sim(engram_hdvs_bundle, image_encoding_hdvs_bundle)\n",
    "                        engram_hdvs_bundle = xp_array_to_gpu(engram_hdvs_bundle)\n",
    "                        COLUMN.engram_norms.array[engram_id] = hdc.normalize(engram_hdvs_bundle)\n",
    "\n",
    "                        assert before_sim != 0\n",
    "                        sim_chg_ratio = (after_sim / before_sim - 1)\n",
    "                        \n",
    "                        if sim_chg_ratio < 0.01:\n",
    "                            log.debug(f'[train_run_id={TRAIN_RUN_ID}, image_no={image_no}, image_id={image_id}] engram #{engram_id} (sz={len(engram_hdvs)}) is sealed, sim change = {100 * sim_chg_ratio:.3f}%')\n",
    "                            COLUMN.engram_is_sealed.add(engram_id)\n",
    "    \n",
    "                    match_found = True\n",
    "                    match_pos = pos\n",
    "                    match_is_updated = not engram_is_sealed\n",
    "                    break\n",
    "    \n",
    "            log.debug(f'[train_run_id={TRAIN_RUN_ID}, image_no={image_no}, image_id={image_id}] Match found={match_found}, pos={match_pos}, is updated={match_is_updated}')\n",
    "    \n",
    "            if (match_found and match_pos == 0) or (match_found and match_is_updated):\n",
    "                pass\n",
    "            else:\n",
    "                engram_id = COLUMN.engram_norms.lease()\n",
    "                engram_bundle = hdc.bundle(image_encoding_hdvs)\n",
    "                COLUMN.engram_norms.array[engram_id] = xp_array_to_gpu(hdc.normalize(engram_bundle))\n",
    "                COLUMN.engrams[engram_id].append(engram_bundle)\n",
    "                COLUMN.engram_to_image_ids[engram_id].add(image_id)\n",
    "                log.debug(f'[train_run_id={TRAIN_RUN_ID}, image_no={image_no}, image_id={image_id}] New engram {engram_id}')\n",
    "    \n",
    "            if image_no > 0 and image_no % consolidation_threshold == 0:\n",
    "                # CONSOLIDATE MEMORY\n",
    "                def dump_engram_lengths(when):\n",
    "                    engram_lengths = list(map(lambda image_ids: len(image_ids), COLUMN.engram_to_image_ids.values()))\n",
    "                    engram_lengths = np.unique_counts(engram_lengths)\n",
    "                    \n",
    "                    for v, c in zip(reversed(engram_lengths.values), reversed(engram_lengths.counts)):\n",
    "                        log.debug(f'[train_run_id={TRAIN_RUN_ID}, consolidation] {when:10} {v:5} {c:5}')\n",
    "    \n",
    "                before_len = COLUMN.engram_norms.len()\n",
    "                assert before_len == len(COLUMN.engrams)\n",
    "                \n",
    "                log.debug(f'[train_run_id={TRAIN_RUN_ID}, consolidation] BEFORE engrams count = {before_len}')\n",
    "                dump_engram_lengths('BEFORE')\n",
    "                \n",
    "                engram_indices_to_release = []\n",
    "                \n",
    "                for engram_id, image_ids in COLUMN.engram_to_image_ids.items():\n",
    "                    #l = 0.1\n",
    "                    l = 1\n",
    "                    exp_distro_level = l * np.exp(-l * len(image_ids))\n",
    "                    rand_level = RNG.random()\n",
    "                    do_release = rand_level < exp_distro_level\n",
    "                    \n",
    "                    if do_release:\n",
    "                        engram_indices_to_release.append(engram_id)\n",
    "                        log.debug(f'[train_run_id={TRAIN_RUN_ID}, consolidation] Dropping engram #{engram_id}, len={len(image_ids)}: {rand_level:.5f} < {exp_distro_level:.5f}')\n",
    "            \n",
    "                for engram_index_to_release in engram_indices_to_release:\n",
    "                    del COLUMN.engrams[engram_index_to_release]\n",
    "                    del COLUMN.engram_to_image_ids[engram_index_to_release]\n",
    "                    COLUMN.engram_norms.release(engram_index_to_release)\n",
    "                    COLUMN.engram_is_sealed.discard(engram_index_to_release)\n",
    "            \n",
    "                after_len = COLUMN.engram_norms.len()\n",
    "                assert after_len == len(COLUMN.engrams)\n",
    "                \n",
    "                log.debug(f'[train_run_id={TRAIN_RUN_ID}, consolidation] AFTER engrams count = {after_len}')\n",
    "                dump_engram_lengths('AFTER')\n",
    "\n",
    "        mistake_image_ids = []\n",
    "        \n",
    "        for image_no, image_id in tqdm(enumerate(train_step_image_ids), leave=False, total=len(train_step_image_ids), desc='Image (test)'):\n",
    "            image_value = df_train_images.loc[image_id]['value']\n",
    "            df_image_encodings = pd.read_sql('SELECT hdv FROM image_encodings WHERE image_id=:image_id', params={'image_id': int(image_id)}, con=train_db_con)\n",
    "            assert len(df_image_encodings) > 0\n",
    "            image_encoding_hdvs = list(map(lambda h: np.frombuffer(h, dtype='b'), df_image_encodings['hdv']))\n",
    "            image_encoding_hdvs_norm = hdc.normalize(image_encoding_hdvs)\n",
    "            image_encoding_hdvs_norm = xp_array_to_gpu(image_encoding_hdvs_norm)\n",
    "        \n",
    "            cos_sim_matrix = COLUMN.engram_norms.array @ image_encoding_hdvs_norm.T\n",
    "            cos_sim_matrix[cos_sim_matrix < COS_SIM_THRESHOLD] = 0\n",
    "            cos_sim_vector = xp_array_from_gpu(xp.sum(cos_sim_matrix, axis=1)) # how each mem recall (sum cos sim) is close to current image\n",
    "            \n",
    "            assert cos_sim_vector.shape == (COLUMN.engram_norms.array.shape[0],)\n",
    "            engram_ids_by_match_score = np.argsort(-cos_sim_vector) # sorted desc\n",
    "        \n",
    "            if engram_ids_by_match_score.shape[0] > 0:\n",
    "                engram_id = engram_ids_by_match_score[0]\n",
    "                cos_sim_value = cos_sim_vector[engram_id]\n",
    "        \n",
    "                if cos_sim_value > 0:\n",
    "                    engram_image_ids = COLUMN.engram_to_image_ids[engram_id]\n",
    "                    assert len(engram_image_ids) > 0\n",
    "                    engram_image_id = next(iter(engram_image_ids))\n",
    "                    engram_image_value = df_train_images.loc[engram_image_id]['value']\n",
    "\n",
    "                    if engram_image_value != image_value:\n",
    "                        mistake_image_ids.append(image_id)\n",
    "\n",
    "        log.debug(f'[train_run_id={TRAIN_RUN_ID}] Mistaken image ids = {len(mistake_image_ids)}')\n",
    "\n",
    "        if not mistake_image_ids:\n",
    "            break\n",
    "            \n",
    "        train_step_image_ids = mistake_image_ids\n",
    "\n",
    "        "
   ]
  },
  {
   "cell_type": "code",
   "execution_count": 12,
   "id": "cc549286-4674-4011-a93d-24ee0e15c8f1",
   "metadata": {},
   "outputs": [
    {
     "data": {
      "text/plain": [
       "321"
      ]
     },
     "execution_count": 12,
     "metadata": {},
     "output_type": "execute_result"
    }
   ],
   "source": [
    "len(COLUMN.engrams)"
   ]
  },
  {
   "cell_type": "code",
   "execution_count": 13,
   "id": "9ee32737-067b-47ea-9d07-5e67b9e4b801",
   "metadata": {},
   "outputs": [
    {
     "data": {
      "text/html": [
       "<div style=\"\n",
       "        display: grid; \n",
       "        grid-template-columns: repeat(8, 128px);\n",
       "        column-gap: 1px;\n",
       "        row-gap: 1px;\">\n",
       "        \n",
       "            <figure style=\"margin: 5px !important;\">\n",
       "              <img src=\"data:image/png;base64,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\" style=\"height: auto\">\n",
       "              <figcaption style=\"font-size: 0.6em\">clust=248, #7346, val=5</figcaption>\n",
       "            </figure>\n",
       "        \n",
       "    </div>"
      ],
      "text/plain": [
       "<IPython.core.display.HTML object>"
      ]
     },
     "execution_count": 13,
     "metadata": {},
     "output_type": "execute_result"
    }
   ],
   "source": [
    "images = []\n",
    "captions = []\n",
    "\n",
    "if COLUMN.engrams.keys():\n",
    "    random_engram_i = RNG.choice(list(COLUMN.engrams.keys()))\n",
    "    image_ids = COLUMN.engram_to_image_ids[random_engram_i]\n",
    "    df_i = df_train_images.loc[list(image_ids)]\n",
    "    image_datas = df_i['png']\n",
    "    images = [Image.open(io.BytesIO(image_data)) for image_data in image_datas]\n",
    "    captions = list(map(lambda p: f'clust={random_engram_i}, #{p[0]}, val={p[1]}', zip(df_i.index, df_i['value'])))\n",
    "\n",
    "images = images[:32]\n",
    "captions = captions[:32]\n",
    "display_images_grid(images, captions=captions, col_count=8)"
   ]
  },
  {
   "cell_type": "code",
   "execution_count": 27,
   "id": "dedefb7f-24e7-43ca-91d6-eecc3fbaeb17",
   "metadata": {},
   "outputs": [
    {
     "data": {
      "application/vnd.jupyter.widget-view+json": {
       "model_id": "101dd829f15a43cca4446375415cb247",
       "version_major": 2,
       "version_minor": 0
      },
      "text/plain": [
       "  0%|          | 0/2000 [00:00<?, ?it/s]"
      ]
     },
     "metadata": {},
     "output_type": "display_data"
    }
   ],
   "source": [
    "# TEST RUN\n",
    "TEST_RUN_ID += 1\n",
    "count = 2000\n",
    "test_run_source = (df_test_images, test_db_con, 'test')\n",
    "# test_run_source = (df_train_images, train_db_con, 'train')\n",
    "test_image_ids = RNG.choice(test_run_source[0].index.unique(), count, replace=False)\n",
    "test_result_rows = defaultdict(list)\n",
    "\n",
    "for image_id in tqdm(test_image_ids):\n",
    "    max_cos_sim_index = -1 # aka engram id\n",
    "    max_similar_engram_image_value = ''\n",
    "    max_cos_sim = 0\n",
    "\n",
    "    image_value = test_run_source[0].loc[image_id]['value']\n",
    "    df_image_encodings = pd.read_sql('SELECT hdv FROM image_encodings WHERE image_id=:image_id', params={'image_id': int(image_id)}, con=test_run_source[1])\n",
    "    assert len(df_image_encodings) > 0\n",
    "    image_encoding_hdvs = list(map(lambda h: np.frombuffer(h, dtype='b'), df_image_encodings['hdv']))\n",
    "    image_encoding_hdvs_norm = hdc.normalize(image_encoding_hdvs)\n",
    "    image_encoding_hdvs_norm = xp_array_to_gpu(image_encoding_hdvs_norm)\n",
    "\n",
    "    cos_sim_matrix = COLUMN.engram_norms.array @ image_encoding_hdvs_norm.T\n",
    "    cos_sim_matrix[cos_sim_matrix < COS_SIM_THRESHOLD] = 0\n",
    "    cos_sim_vector = xp_array_from_gpu(xp.sum(cos_sim_matrix, axis=1)) # how each mem recall (sum cos sim) is close to current image\n",
    "    \n",
    "    assert cos_sim_vector.shape == (COLUMN.engram_norms.array.shape[0],)\n",
    "    engram_ids_by_match_score = np.argsort(-cos_sim_vector) # sorted desc\n",
    "\n",
    "    if engram_ids_by_match_score.shape[0] > 0:\n",
    "        engram_id = engram_ids_by_match_score[0]\n",
    "        cos_sim_value = cos_sim_vector[engram_id]\n",
    "\n",
    "        # if cos_sim_value >= COS_SIM_THRESHOLD:\n",
    "        if cos_sim_value > 0:\n",
    "            engram_image_ids = COLUMN.engram_to_image_ids[engram_id]\n",
    "            assert len(engram_image_ids) > 0\n",
    "            engram_image_id = next(iter(engram_image_ids))\n",
    "            engram_image_value = df_train_images.loc[engram_image_id]['value']\n",
    "            max_cos_sim_index = engram_id\n",
    "            max_similar_engram_image_value = engram_image_value\n",
    "            max_cos_sim = cos_sim_value\n",
    "    \n",
    "    test_result_rows['source_ds'].append(test_run_source[2])\n",
    "    test_result_rows['test_run_id'].append(TEST_RUN_ID)\n",
    "    test_result_rows['test_image_id'].append(image_id)\n",
    "    test_result_rows['true_value'].append(image_value)\n",
    "    test_result_rows['engram_id'].append(max_cos_sim_index)\n",
    "    test_result_rows['infer_value'].append(max_similar_engram_image_value)\n",
    "    test_result_rows['sim'].append(max_cos_sim)\n",
    "    \n",
    "\n",
    "assert set(test_result_rows.keys()) == set(df_test_results.columns)\n",
    "df_test_results_for_run = pd.DataFrame(test_result_rows, columns=df_test_results.columns)\n",
    "concat_list = [df_test_results] if len(df_test_results) > 0 else []\n",
    "concat_list.append(df_test_results_for_run)\n",
    "df_test_results = pd.concat(concat_list, ignore_index=True)"
   ]
  },
  {
   "cell_type": "code",
   "execution_count": 28,
   "id": "9ded612b-96ae-4f3d-a964-d78dcfb19834",
   "metadata": {},
   "outputs": [
    {
     "data": {
      "image/png": "[encoded data removed]",
      "text/plain": [
       "<Figure size 1600x400 with 3 Axes>"
      ]
     },
     "metadata": {},
     "output_type": "display_data"
    },
    {
     "data": {
      "text/html": [
       "<div>\n",
       "<style scoped>\n",
       "    .dataframe tbody tr th:only-of-type {\n",
       "        vertical-align: middle;\n",
       "    }\n",
       "\n",
       "    .dataframe tbody tr th {\n",
       "        vertical-align: top;\n",
       "    }\n",
       "\n",
       "    .dataframe thead th {\n",
       "        text-align: right;\n",
       "    }\n",
       "</style>\n",
       "<table border=\"1\" class=\"dataframe\">\n",
       "  <thead>\n",
       "    <tr style=\"text-align: right;\">\n",
       "      <th></th>\n",
       "      <th>count</th>\n",
       "      <th>infers</th>\n",
       "      <th>correct_infers</th>\n",
       "      <th>infer_ratio</th>\n",
       "      <th>accuracy_count</th>\n",
       "      <th>accuracy_infers</th>\n",
       "    </tr>\n",
       "    <tr>\n",
       "      <th>test_run_id</th>\n",
       "      <th></th>\n",
       "      <th></th>\n",
       "      <th></th>\n",
       "      <th></th>\n",
       "      <th></th>\n",
       "      <th></th>\n",
       "    </tr>\n",
       "  </thead>\n",
       "  <tbody>\n",
       "    <tr>\n",
       "      <th>1</th>\n",
       "      <td>2000</td>\n",
       "      <td>2000</td>\n",
       "      <td>1809</td>\n",
       "      <td>1.0</td>\n",
       "      <td>0.9045</td>\n",
       "      <td>0.9045</td>\n",
       "    </tr>\n",
       "    <tr>\n",
       "      <th>2</th>\n",
       "      <td>2000</td>\n",
       "      <td>2000</td>\n",
       "      <td>1824</td>\n",
       "      <td>1.0</td>\n",
       "      <td>0.9120</td>\n",
       "      <td>0.9120</td>\n",
       "    </tr>\n",
       "    <tr>\n",
       "      <th>3</th>\n",
       "      <td>2000</td>\n",
       "      <td>2000</td>\n",
       "      <td>1843</td>\n",
       "      <td>1.0</td>\n",
       "      <td>0.9215</td>\n",
       "      <td>0.9215</td>\n",
       "    </tr>\n",
       "  </tbody>\n",
       "</table>\n",
       "</div>"
      ],
      "text/plain": [
       "             count  infers  correct_infers  infer_ratio  accuracy_count  \\\n",
       "test_run_id                                                               \n",
       "1             2000    2000            1809          1.0          0.9045   \n",
       "2             2000    2000            1824          1.0          0.9120   \n",
       "3             2000    2000            1843          1.0          0.9215   \n",
       "\n",
       "             accuracy_infers  \n",
       "test_run_id                   \n",
       "1                     0.9045  \n",
       "2                     0.9120  \n",
       "3                     0.9215  "
      ]
     },
     "execution_count": 28,
     "metadata": {},
     "output_type": "execute_result"
    }
   ],
   "source": [
    "df_test_results2 = df_test_results.copy()\n",
    "df_test_results2['is_infer'] = df_test_results2['engram_id'] > -1\n",
    "df_test_results2['is_correct_infer'] = df_test_results2['true_value'] == df_test_results2['infer_value']\n",
    "df_test_results2 = df_test_results2.groupby(by=['test_run_id']).agg({'test_image_id': 'count', 'is_infer': 'sum', 'is_correct_infer': 'sum'})\n",
    "df_test_results2.rename(columns=dict(test_image_id='count', is_infer='infers', is_correct_infer='correct_infers'), inplace=True, errors='raise')\n",
    "df_test_results2['infer_ratio'] = df_test_results2['infers'] / df_test_results2['count']\n",
    "df_test_results2['accuracy_count'] = df_test_results2['correct_infers'] / df_test_results2['count']\n",
    "df_test_results2['accuracy_infers'] = df_test_results2['correct_infers'] / df_test_results2['infers']\n",
    "\n",
    "plt.figure(figsize=(16, 4))\n",
    "plt.subplot(1, 3, 1)\n",
    "b = plt.bar(list(map(str, df_test_results2.index)), list(df_test_results2['infer_ratio']))\n",
    "plt.bar_label(b, map(lambda p: f'{p*100:.0f}', df_test_results2['infer_ratio']), label_type='center')\n",
    "plt.ylim(0, 1)\n",
    "plt.title('Infers, %')\n",
    "plt.xlabel('Test run')\n",
    "plt.grid()\n",
    "\n",
    "plt.subplot(1, 3, 2)\n",
    "b = plt.bar(list(map(str, df_test_results2.index)), list(df_test_results2['accuracy_count']))\n",
    "plt.bar_label(b, map(lambda p: f'{p*100:.0f}', df_test_results2['accuracy_count']), label_type='center')\n",
    "plt.ylim(0, 1)\n",
    "plt.title('Accuracy (Count), %')\n",
    "plt.xlabel('Test run')\n",
    "plt.grid()\n",
    "\n",
    "plt.subplot(1, 3, 3)\n",
    "b = plt.bar(list(map(str, df_test_results2.index)), list(df_test_results2['accuracy_infers']))\n",
    "plt.bar_label(b, map(lambda p: f'{p*100:.0f}', df_test_results2['accuracy_infers']), label_type='center')\n",
    "plt.ylim(0, 1)\n",
    "plt.title('Accuracy (Infers), %')\n",
    "plt.xlabel('Test run')\n",
    "plt.grid()\n",
    "\n",
    "plt.show()\n",
    "df_test_results2"
   ]
  },
  {
   "cell_type": "code",
   "execution_count": null,
   "id": "90c7e7d6-d5fc-4012-9c88-164320308f20",
   "metadata": {},
   "outputs": [],
   "source": []
  },
  {
   "cell_type": "code",
   "execution_count": 17,
   "id": "a7f7fd04-f413-47bf-b601-3a9327b61c82",
   "metadata": {},
   "outputs": [
    {
     "data": {
      "text/html": [
       "<div>\n",
       "<style scoped>\n",
       "    .dataframe tbody tr th:only-of-type {\n",
       "        vertical-align: middle;\n",
       "    }\n",
       "\n",
       "    .dataframe tbody tr th {\n",
       "        vertical-align: top;\n",
       "    }\n",
       "\n",
       "    .dataframe thead th {\n",
       "        text-align: right;\n",
       "    }\n",
       "</style>\n",
       "<table border=\"1\" class=\"dataframe\">\n",
       "  <thead>\n",
       "    <tr style=\"text-align: right;\">\n",
       "      <th></th>\n",
       "      <th>test_run_id</th>\n",
       "      <th>test_image_id</th>\n",
       "      <th>true_value</th>\n",
       "      <th>engram_id</th>\n",
       "      <th>engram_value</th>\n",
       "      <th>sim</th>\n",
       "    </tr>\n",
       "  </thead>\n",
       "  <tbody>\n",
       "    <tr>\n",
       "      <th>0</th>\n",
       "      <td>1</td>\n",
       "      <td>100002322</td>\n",
       "      <td>5</td>\n",
       "      <td>79</td>\n",
       "      <td>3</td>\n",
       "      <td>3.862693</td>\n",
       "    </tr>\n",
       "    <tr>\n",
       "      <th>1</th>\n",
       "      <td>1</td>\n",
       "      <td>100002322</td>\n",
       "      <td>5</td>\n",
       "      <td>20</td>\n",
       "      <td>8</td>\n",
       "      <td>3.840800</td>\n",
       "    </tr>\n",
       "    <tr>\n",
       "      <th>2</th>\n",
       "      <td>1</td>\n",
       "      <td>100002322</td>\n",
       "      <td>5</td>\n",
       "      <td>233</td>\n",
       "      <td>5</td>\n",
       "      <td>3.744116</td>\n",
       "    </tr>\n",
       "    <tr>\n",
       "      <th>3</th>\n",
       "      <td>1</td>\n",
       "      <td>100002322</td>\n",
       "      <td>5</td>\n",
       "      <td>200</td>\n",
       "      <td>5</td>\n",
       "      <td>3.571549</td>\n",
       "    </tr>\n",
       "    <tr>\n",
       "      <th>4</th>\n",
       "      <td>1</td>\n",
       "      <td>100002322</td>\n",
       "      <td>5</td>\n",
       "      <td>237</td>\n",
       "      <td>5</td>\n",
       "      <td>3.424872</td>\n",
       "    </tr>\n",
       "    <tr>\n",
       "      <th>5</th>\n",
       "      <td>1</td>\n",
       "      <td>100002322</td>\n",
       "      <td>5</td>\n",
       "      <td>1</td>\n",
       "      <td>5</td>\n",
       "      <td>3.314627</td>\n",
       "    </tr>\n",
       "    <tr>\n",
       "      <th>6</th>\n",
       "      <td>1</td>\n",
       "      <td>100002322</td>\n",
       "      <td>5</td>\n",
       "      <td>47</td>\n",
       "      <td>3</td>\n",
       "      <td>3.269252</td>\n",
       "    </tr>\n",
       "    <tr>\n",
       "      <th>7</th>\n",
       "      <td>1</td>\n",
       "      <td>100002322</td>\n",
       "      <td>5</td>\n",
       "      <td>163</td>\n",
       "      <td>3</td>\n",
       "      <td>3.015236</td>\n",
       "    </tr>\n",
       "    <tr>\n",
       "      <th>8</th>\n",
       "      <td>1</td>\n",
       "      <td>100002322</td>\n",
       "      <td>5</td>\n",
       "      <td>196</td>\n",
       "      <td>5</td>\n",
       "      <td>2.974074</td>\n",
       "    </tr>\n",
       "    <tr>\n",
       "      <th>9</th>\n",
       "      <td>1</td>\n",
       "      <td>100002322</td>\n",
       "      <td>5</td>\n",
       "      <td>2</td>\n",
       "      <td>3</td>\n",
       "      <td>2.696484</td>\n",
       "    </tr>\n",
       "  </tbody>\n",
       "</table>\n",
       "</div>"
      ],
      "text/plain": [
       "   test_run_id  test_image_id true_value  engram_id engram_value       sim\n",
       "0            1      100002322          5         79            3  3.862693\n",
       "1            1      100002322          5         20            8  3.840800\n",
       "2            1      100002322          5        233            5  3.744116\n",
       "3            1      100002322          5        200            5  3.571549\n",
       "4            1      100002322          5        237            5  3.424872\n",
       "5            1      100002322          5          1            5  3.314627\n",
       "6            1      100002322          5         47            3  3.269252\n",
       "7            1      100002322          5        163            3  3.015236\n",
       "8            1      100002322          5        196            5  2.974074\n",
       "9            1      100002322          5          2            3  2.696484"
      ]
     },
     "execution_count": 17,
     "metadata": {},
     "output_type": "execute_result"
    }
   ],
   "source": [
    "df_test_results_incorrect_infers = df_test_results_for_run[df_test_results_for_run['true_value'] != df_test_results_for_run['infer_value']]\n",
    "incorrect_infer_row_index = RNG.choice(df_test_results_incorrect_infers.index.unique())\n",
    "test_run_id = df_test_results_incorrect_infers.loc[incorrect_infer_row_index]['test_run_id']\n",
    "incorrect_infer_image_id = df_test_results_incorrect_infers.loc[incorrect_infer_row_index]['test_image_id']\n",
    "image_data = test_run_source[0].loc[incorrect_infer_image_id]['png']\n",
    "image_value = test_run_source[0].loc[incorrect_infer_image_id]['value']\n",
    "\n",
    "df_x = pd.DataFrame(columns=['test_run_id', 'test_image_id', 'true_value', 'engram_id', 'engram_value', 'sim'])\n",
    "df_image_encodings = pd.read_sql('SELECT hdv FROM image_encodings WHERE image_id=:image_id', params={'image_id': int(incorrect_infer_image_id)}, con=test_run_source[1])\n",
    "assert len(df_image_encodings) > 0\n",
    "image_encoding_hdvs = list(map(lambda h: np.frombuffer(h, dtype='b'), df_image_encodings['hdv']))\n",
    "image_encoding_hdvs_norm = hdc.normalize(image_encoding_hdvs)\n",
    "image_encoding_hdvs_norm = xp_array_to_gpu(image_encoding_hdvs_norm)\n",
    "\n",
    "cos_sim_matrix = COLUMN.engram_norms.array @ image_encoding_hdvs_norm.T\n",
    "cos_sim_matrix[cos_sim_matrix < COS_SIM_THRESHOLD] = 0\n",
    "cos_sim_vector = xp_array_from_gpu(xp.sum(cos_sim_matrix, axis=1)) # how each mem recall (sum cos sim) is close to current image\n",
    "\n",
    "assert cos_sim_vector.shape == (COLUMN.engram_norms.array.shape[0],)\n",
    "engram_ids_by_match_score = np.argsort(-cos_sim_vector) # sorted desc\n",
    "\n",
    "for pos, engram_id in enumerate(engram_ids_by_match_score):\n",
    "    cos_sim_value = cos_sim_vector[engram_id]\n",
    "\n",
    "    if cos_sim_value <= 0:\n",
    "        break\n",
    "        \n",
    "    engram_image_ids = COLUMN.engram_to_image_ids[engram_id]\n",
    "    assert len(engram_image_ids) > 0\n",
    "    engram_image_id = next(iter(engram_image_ids))\n",
    "    engram_image_value = df_train_images.loc[engram_image_id]['value'] # exactly from train! (i.e. we look for prototype in train data)\n",
    "    df_x.loc[len(df_x)] = [test_run_id, incorrect_infer_image_id, image_value, engram_id, engram_image_value, cos_sim_value]\n",
    "\n",
    "df_x.sort_values(by='sim', ascending=False).head(10)"
   ]
  },
  {
   "cell_type": "code",
   "execution_count": 18,
   "id": "5ff3a026-80df-4d27-af26-5939c7a1ae64",
   "metadata": {},
   "outputs": [
    {
     "data": {
      "text/html": [
       "\n",
       "        <div style=\"display: flex; flex-flow: row wrap; text-align: center;\">\n",
       "        \n",
       "            <figure style=\"margin: 5px !important;\">\n",
       "              <img src=\"data:image/png;base64,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\" style=\"height: auto\">\n",
       "              <figcaption style=\"font-size: 0.6em\">5</figcaption>\n",
       "            </figure>\n",
       "        \n",
       "        </div>\n",
       "    "
      ],
      "text/plain": [
       "<IPython.core.display.HTML object>"
      ]
     },
     "execution_count": 18,
     "metadata": {},
     "output_type": "execute_result"
    }
   ],
   "source": [
    "image_data = test_run_source[0].loc[incorrect_infer_image_id]['png']\n",
    "image = Image.open(io.BytesIO(image_data))\n",
    "label = test_run_source[0].loc[incorrect_infer_image_id]['value']\n",
    "display_images([image], captions=[label])"
   ]
  },
  {
   "cell_type": "code",
   "execution_count": 19,
   "id": "0c9b40bc-7e09-40a6-947b-090d0ef463a2",
   "metadata": {},
   "outputs": [
    {
     "data": {
      "text/html": [
       "<div>\n",
       "<style scoped>\n",
       "    .dataframe tbody tr th:only-of-type {\n",
       "        vertical-align: middle;\n",
       "    }\n",
       "\n",
       "    .dataframe tbody tr th {\n",
       "        vertical-align: top;\n",
       "    }\n",
       "\n",
       "    .dataframe thead th {\n",
       "        text-align: right;\n",
       "    }\n",
       "</style>\n",
       "<table border=\"1\" class=\"dataframe\">\n",
       "  <thead>\n",
       "    <tr style=\"text-align: right;\">\n",
       "      <th></th>\n",
       "      <th>engram_value</th>\n",
       "      <th>sim</th>\n",
       "      <th>true_value</th>\n",
       "    </tr>\n",
       "    <tr>\n",
       "      <th>engram_id</th>\n",
       "      <th></th>\n",
       "      <th></th>\n",
       "      <th></th>\n",
       "    </tr>\n",
       "  </thead>\n",
       "  <tbody>\n",
       "    <tr>\n",
       "      <th>79</th>\n",
       "      <td>3</td>\n",
       "      <td>3.862693</td>\n",
       "      <td>5</td>\n",
       "    </tr>\n",
       "    <tr>\n",
       "      <th>20</th>\n",
       "      <td>8</td>\n",
       "      <td>3.840800</td>\n",
       "      <td>5</td>\n",
       "    </tr>\n",
       "    <tr>\n",
       "      <th>233</th>\n",
       "      <td>5</td>\n",
       "      <td>3.744116</td>\n",
       "      <td>5</td>\n",
       "    </tr>\n",
       "    <tr>\n",
       "      <th>200</th>\n",
       "      <td>5</td>\n",
       "      <td>3.571549</td>\n",
       "      <td>5</td>\n",
       "    </tr>\n",
       "    <tr>\n",
       "      <th>237</th>\n",
       "      <td>5</td>\n",
       "      <td>3.424872</td>\n",
       "      <td>5</td>\n",
       "    </tr>\n",
       "    <tr>\n",
       "      <th>...</th>\n",
       "      <td>...</td>\n",
       "      <td>...</td>\n",
       "      <td>...</td>\n",
       "    </tr>\n",
       "    <tr>\n",
       "      <th>288</th>\n",
       "      <td>4</td>\n",
       "      <td>0.056177</td>\n",
       "      <td>5</td>\n",
       "    </tr>\n",
       "    <tr>\n",
       "      <th>146</th>\n",
       "      <td>3</td>\n",
       "      <td>0.055770</td>\n",
       "      <td>5</td>\n",
       "    </tr>\n",
       "    <tr>\n",
       "      <th>320</th>\n",
       "      <td>2</td>\n",
       "      <td>0.055655</td>\n",
       "      <td>5</td>\n",
       "    </tr>\n",
       "    <tr>\n",
       "      <th>133</th>\n",
       "      <td>6</td>\n",
       "      <td>0.055636</td>\n",
       "      <td>5</td>\n",
       "    </tr>\n",
       "    <tr>\n",
       "      <th>60</th>\n",
       "      <td>3</td>\n",
       "      <td>0.055534</td>\n",
       "      <td>5</td>\n",
       "    </tr>\n",
       "  </tbody>\n",
       "</table>\n",
       "<p>112 rows × 3 columns</p>\n",
       "</div>"
      ],
      "text/plain": [
       "          engram_value       sim true_value\n",
       "engram_id                                  \n",
       "79                   3  3.862693          5\n",
       "20                   8  3.840800          5\n",
       "233                  5  3.744116          5\n",
       "200                  5  3.571549          5\n",
       "237                  5  3.424872          5\n",
       "...                ...       ...        ...\n",
       "288                  4  0.056177          5\n",
       "146                  3  0.055770          5\n",
       "320                  2  0.055655          5\n",
       "133                  6  0.055636          5\n",
       "60                   3  0.055534          5\n",
       "\n",
       "[112 rows x 3 columns]"
      ]
     },
     "execution_count": 19,
     "metadata": {},
     "output_type": "execute_result"
    }
   ],
   "source": [
    "df_x_pivot = pd.pivot_table(df_x, index='engram_id', \n",
    "                            values=['true_value', 'engram_value', 'sim'], \n",
    "                            aggfunc=dict(engram_value='first', true_value='first', sim='sum'))\n",
    "df_x_pivot.sort_values(by='sim', ascending=False)"
   ]
  },
  {
   "cell_type": "code",
   "execution_count": null,
   "id": "4b970735-532f-4a82-adfa-2df3f534203b",
   "metadata": {},
   "outputs": [],
   "source": []
  },
  {
   "cell_type": "code",
   "execution_count": 20,
   "id": "13076351-aaf9-4ef1-9e86-a77ee51ab0c0",
   "metadata": {},
   "outputs": [
    {
     "data": {
      "text/html": [
       "<div>\n",
       "<style scoped>\n",
       "    .dataframe tbody tr th:only-of-type {\n",
       "        vertical-align: middle;\n",
       "    }\n",
       "\n",
       "    .dataframe tbody tr th {\n",
       "        vertical-align: top;\n",
       "    }\n",
       "\n",
       "    .dataframe thead th {\n",
       "        text-align: right;\n",
       "    }\n",
       "</style>\n",
       "<table border=\"1\" class=\"dataframe\">\n",
       "  <thead>\n",
       "    <tr style=\"text-align: right;\">\n",
       "      <th></th>\n",
       "      <th>engram_value</th>\n",
       "      <th>sim</th>\n",
       "      <th>true_value</th>\n",
       "    </tr>\n",
       "    <tr>\n",
       "      <th>engram_id</th>\n",
       "      <th></th>\n",
       "      <th></th>\n",
       "      <th></th>\n",
       "    </tr>\n",
       "  </thead>\n",
       "  <tbody>\n",
       "    <tr>\n",
       "      <th>79</th>\n",
       "      <td>3</td>\n",
       "      <td>3.862693</td>\n",
       "      <td>5</td>\n",
       "    </tr>\n",
       "    <tr>\n",
       "      <th>20</th>\n",
       "      <td>8</td>\n",
       "      <td>3.840800</td>\n",
       "      <td>5</td>\n",
       "    </tr>\n",
       "    <tr>\n",
       "      <th>233</th>\n",
       "      <td>5</td>\n",
       "      <td>3.744116</td>\n",
       "      <td>5</td>\n",
       "    </tr>\n",
       "    <tr>\n",
       "      <th>200</th>\n",
       "      <td>5</td>\n",
       "      <td>3.571549</td>\n",
       "      <td>5</td>\n",
       "    </tr>\n",
       "    <tr>\n",
       "      <th>237</th>\n",
       "      <td>5</td>\n",
       "      <td>3.424872</td>\n",
       "      <td>5</td>\n",
       "    </tr>\n",
       "    <tr>\n",
       "      <th>...</th>\n",
       "      <td>...</td>\n",
       "      <td>...</td>\n",
       "      <td>...</td>\n",
       "    </tr>\n",
       "    <tr>\n",
       "      <th>288</th>\n",
       "      <td>4</td>\n",
       "      <td>0.056177</td>\n",
       "      <td>5</td>\n",
       "    </tr>\n",
       "    <tr>\n",
       "      <th>146</th>\n",
       "      <td>3</td>\n",
       "      <td>0.055770</td>\n",
       "      <td>5</td>\n",
       "    </tr>\n",
       "    <tr>\n",
       "      <th>320</th>\n",
       "      <td>2</td>\n",
       "      <td>0.055655</td>\n",
       "      <td>5</td>\n",
       "    </tr>\n",
       "    <tr>\n",
       "      <th>133</th>\n",
       "      <td>6</td>\n",
       "      <td>0.055636</td>\n",
       "      <td>5</td>\n",
       "    </tr>\n",
       "    <tr>\n",
       "      <th>60</th>\n",
       "      <td>3</td>\n",
       "      <td>0.055534</td>\n",
       "      <td>5</td>\n",
       "    </tr>\n",
       "  </tbody>\n",
       "</table>\n",
       "<p>112 rows × 3 columns</p>\n",
       "</div>"
      ],
      "text/plain": [
       "          engram_value       sim true_value\n",
       "engram_id                                  \n",
       "79                   3  3.862693          5\n",
       "20                   8  3.840800          5\n",
       "233                  5  3.744116          5\n",
       "200                  5  3.571549          5\n",
       "237                  5  3.424872          5\n",
       "...                ...       ...        ...\n",
       "288                  4  0.056177          5\n",
       "146                  3  0.055770          5\n",
       "320                  2  0.055655          5\n",
       "133                  6  0.055636          5\n",
       "60                   3  0.055534          5\n",
       "\n",
       "[112 rows x 3 columns]"
      ]
     },
     "execution_count": 20,
     "metadata": {},
     "output_type": "execute_result"
    }
   ],
   "source": [
    "df_x_pivot = pd.pivot_table(df_x, index='engram_id', \n",
    "                            values=['true_value', 'engram_value', 'sim'], \n",
    "                            aggfunc=dict(engram_value='first', true_value='first', sim='max'))\n",
    "df_x_pivot.sort_values(by='sim', ascending=False)"
   ]
  },
  {
   "cell_type": "code",
   "execution_count": 21,
   "id": "741528e7-cb1b-4583-93eb-c9c8425c70be",
   "metadata": {},
   "outputs": [
    {
     "data": {
      "text/plain": [
       "np.int64(1)"
      ]
     },
     "execution_count": 21,
     "metadata": {},
     "output_type": "execute_result"
    }
   ],
   "source": [
    "df_test_results_incorrect_infers.loc[incorrect_infer_row_index]['test_run_id']"
   ]
  },
  {
   "cell_type": "code",
   "execution_count": 22,
   "id": "75cc7cda-ca51-48b0-8fd1-b21a9244fcb5",
   "metadata": {},
   "outputs": [
    {
     "data": {
      "text/plain": [
       "np.int64(396)"
      ]
     },
     "execution_count": 22,
     "metadata": {},
     "output_type": "execute_result"
    }
   ],
   "source": [
    "incorrect_infer_row_index"
   ]
  },
  {
   "cell_type": "code",
   "execution_count": null,
   "id": "173a27b8-9f22-47c0-a23a-ca3669ac1222",
   "metadata": {},
   "outputs": [],
   "source": []
  },
  {
   "cell_type": "code",
   "execution_count": null,
   "id": "88170617-5c38-4250-87af-edd152d31a51",
   "metadata": {},
   "outputs": [],
   "source": []
  }
 ],
 "metadata": {
  "kernelspec": {
   "display_name": "Python 3 (ipykernel)",
   "language": "python",
   "name": "python3"
  },
  "language_info": {
   "codemirror_mode": {
    "name": "ipython",
    "version": 3
   },
   "file_extension": ".py",
   "mimetype": "text/x-python",
   "name": "python",
   "nbconvert_exporter": "python",
   "pygments_lexer": "ipython3",
   "version": "3.12.2"
  }
 },
 "nbformat": 4,
 "nbformat_minor": 5
}
