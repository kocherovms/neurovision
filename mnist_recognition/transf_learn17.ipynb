{
 "cells": [
  {
   "cell_type": "code",
   "execution_count": 63,
   "id": "27532844-1826-4299-b063-16a22e592f3f",
   "metadata": {},
   "outputs": [],
   "source": [
    "import os, math\n",
    "from enum import StrEnum, auto\n",
    "from collections import defaultdict, namedtuple, Counter, deque\n",
    "from dataclasses import dataclass\n",
    "import typing\n",
    "import itertools\n",
    "import sqlite3\n",
    "import pickle\n",
    "import datetime\n",
    "import multiprocessing as mp\n",
    "import queue\n",
    "import gc\n",
    "import json\n",
    "import decimal\n",
    "from IPython.core.getipython import get_ipython\n",
    "\n",
    "from PIL import Image, ImageDraw\n",
    "from tqdm.notebook import tqdm\n",
    "\n",
    "from sklearn.model_selection import train_test_split\n",
    "from sklearn.decomposition import PCA\n",
    "import matplotlib.pyplot as plt\n",
    "import matplotlib as mpl\n",
    "import scipy\n",
    "import numpy as np\n",
    "import cupy as cp\n",
    "import pandas as pd\n",
    "\n",
    "from module.utils import *\n",
    "from module.hdc import *\n",
    "from module.constants import *"
   ]
  },
  {
   "cell_type": "code",
   "execution_count": 64,
   "id": "73358262-adf2-4d17-a383-f120a5d1f8aa",
   "metadata": {},
   "outputs": [
    {
     "name": "stdout",
     "output_type": "stream",
     "text": [
      "xp = cupy\n",
      "transf_learn17.ipynb\n"
     ]
    }
   ],
   "source": [
    "LOG = Logging()\n",
    "\n",
    "config_var = 'SQLITE3_SEQ_GRID_0_2_4096'\n",
    "config = Config(config_var)\n",
    "RNG = np.random.default_rng()\n",
    "\n",
    "if cp.cuda.is_available():\n",
    "    xp = cp.get_array_module(cp.empty(1))\n",
    "    xp_array_from_gpu = lambda a: a.get() if isinstance(a, cp.ndarray) else a\n",
    "    xp_array_to_gpu = lambda a: cp.asarray(a) if isinstance(a, np.ndarray) else a\n",
    "    xp_array_to_gpu_copy = lambda a: cp.asarray(a) if isinstance(a, np.ndarray) else a\n",
    "else:\n",
    "    xp = cp.get_array_module(np.empty(1))\n",
    "    xp_array_from_gpu = lambda a: a\n",
    "    xp_array_to_gpu = lambda a: a\n",
    "    xp_array_to_gpu_copy = lambda a: a.copy()\n",
    "\n",
    "print(f'xp = {xp.__name__}')\n",
    "\n",
    "with open(get_ipython().kernel.config['IPKernelApp']['connection_file'], 'r') as cf:\n",
    "    notebook_fname = json.load(cf)['jupyter_session']\n",
    "    notebook_fname = os.path.basename(notebook_fname)\n",
    "\n",
    "print(notebook_fname)"
   ]
  },
  {
   "cell_type": "code",
   "execution_count": 65,
   "id": "656ee6b7-3982-4f99-9251-6b67fef36ae3",
   "metadata": {},
   "outputs": [],
   "source": [
    "%run sequencing_sp2.ipynb # req-d for sequences depickling"
   ]
  },
  {
   "cell_type": "markdown",
   "id": "d5c8f88a-5403-4177-b5fc-e0e2a1da9c2d",
   "metadata": {},
   "source": [
    "# Data Loading"
   ]
  },
  {
   "cell_type": "code",
   "execution_count": 66,
   "id": "d2dd62ab-b44e-4251-9e86-d41b3672e36e",
   "metadata": {},
   "outputs": [
    {
     "name": "stdout",
     "output_type": "stream",
     "text": [
      "CPU times: user 6 μs, sys: 0 ns, total: 6 μs\n",
      "Wall time: 13.6 μs\n"
     ]
    }
   ],
   "source": [
    "%time\n",
    "train_db_con = sqlite3.connect(DBUtils.get_full_db_file_name(config, config.train_db_file_name))\n",
    "test_db_con = sqlite3.connect(DBUtils.get_full_db_file_name(config, config.test_db_file_name))\n",
    "\n",
    "test_results_db_con = sqlite3.connect(DBUtils.get_full_db_file_name(config, config.test_results_db_file_name, with_prefix=False), autocommit=True)\n",
    "test_results_db_con.execute('CREATE TABLE IF NOT EXISTS test_runs(test_run_id INTEGER PRIMARY KEY, dummy)')\n",
    "\n",
    "transfs_db_con = sqlite3.connect(DBUtils.get_full_db_file_name(config, config.transfs_db_file_name, with_prefix=False), autocommit=True)\n",
    "transfs_db_con.execute('CREATE TABLE IF NOT EXISTS features(encoding, type, x, y, radius, angle, bitmap_mask_nzb, nzb)')\n",
    "transfs_db_con.execute('CREATE TABLE IF NOT EXISTS points(encoding, count, non_zero_bits, output_bit, nzb_list)')\n",
    "transfs_db_con.execute('CREATE TABLE IF NOT EXISTS clusters(encoding, transf_code, output_bit, metas, nzb_list)');"
   ]
  },
  {
   "cell_type": "code",
   "execution_count": 67,
   "id": "2683b5d5-b74a-4e0c-8f19-032bc1eab29d",
   "metadata": {},
   "outputs": [],
   "source": [
    "# df_points = pd.read_sql('SELECT ROWID, points FROM points', con=transfs_db_con)\n",
    "\n",
    "# for points_row in tqdm(df_points.itertuples(), total=len(df_points)):\n",
    "#     row_id = int(points_row.rowid)\n",
    "#     points = pickle.loads(points_row.points)\n",
    "#     nzb_list = list(map(lambda p: np.flatnonzero(p), points))\n",
    "#     transfs_db_con.execute('UPDATE points SET nzb_list=:nzb_list WHERE ROWID=:rowid', {'nzb_list': pickle.dumps(nzb_list), 'rowid': row_id})"
   ]
  },
  {
   "cell_type": "code",
   "execution_count": 68,
   "id": "217a5762-dbb2-4a14-9e08-0cebecbbb2a5",
   "metadata": {},
   "outputs": [],
   "source": [
    "# df_points = pd.read_sql('SELECT ROWID, nzb_list FROM points', con=transfs_db_con)\n",
    "\n",
    "# for points_row in tqdm(df_points.itertuples(), total=len(df_points)):\n",
    "#     row_id = int(points_row.rowid)\n",
    "#     nzb_list = pickle.loads(points_row.nzb_list)\n",
    "#     nzb_list = list(map(lambda nzb: list(map(int, nzb)), nzb_list))\n",
    "#     transfs_db_con.execute('UPDATE points SET nzb_list=:nzb_list WHERE ROWID=:rowid', {'nzb_list': pickle.dumps(nzb_list), 'rowid': row_id})"
   ]
  },
  {
   "cell_type": "code",
   "execution_count": 69,
   "id": "5751b028-6879-45a5-a950-7474ff3ebae3",
   "metadata": {},
   "outputs": [],
   "source": [
    "# df_features = pd.read_sql('SELECT ROWID, sbv FROM features', con=transfs_db_con)\n",
    "\n",
    "# for feature_row in tqdm(df_features.itertuples(), total=len(df_features)):\n",
    "#     row_id = int(feature_row.rowid)\n",
    "#     feature = pickle.loads(feature_row.sbv)\n",
    "#     nzb = np.flatnonzero(feature)\n",
    "#     transfs_db_con.execute('UPDATE features SET nzb=:nzb WHERE ROWID=:rowid', {'nzb': pickle.dumps(nzb), 'rowid': row_id})"
   ]
  },
  {
   "cell_type": "code",
   "execution_count": 70,
   "id": "9ff404ba-8935-4e20-b1f6-20bc8e5473cb",
   "metadata": {},
   "outputs": [],
   "source": [
    "# df_features = pd.read_sql('SELECT ROWID, nzb FROM features', con=transfs_db_con)\n",
    "\n",
    "# for feature_row in tqdm(df_features.itertuples(), total=len(df_features)):\n",
    "#     row_id = int(feature_row.rowid)\n",
    "#     nzb = pickle.loads(feature_row.nzb)\n",
    "#     nzb = list(map(int, nzb))\n",
    "#     transfs_db_con.execute('UPDATE features SET nzb=:nzb WHERE ROWID=:rowid', {'nzb': pickle.dumps(nzb), 'rowid': row_id})"
   ]
  },
  {
   "cell_type": "code",
   "execution_count": 71,
   "id": "9404f082-1a15-42da-afa4-60b935eb499c",
   "metadata": {},
   "outputs": [],
   "source": [
    "# df_features = pd.read_sql('SELECT ROWID, bitmap_mask_nzb FROM features', con=transfs_db_con)\n",
    "\n",
    "# for feature_row in tqdm(df_features.itertuples(), total=len(df_features)):\n",
    "#     row_id = int(feature_row.rowid)\n",
    "#     bitmap_mask_nzb = pickle.loads(feature_row.bitmap_mask_nzb)\n",
    "#     bitmap_mask_nzb = list(map(int, bitmap_mask_nzb))\n",
    "#     transfs_db_con.execute('UPDATE features SET bitmap_mask_nzb=:bitmap_mask_nzb WHERE ROWID=:rowid', {'bitmap_mask_nzb': pickle.dumps(bitmap_mask_nzb), 'rowid': row_id})"
   ]
  },
  {
   "cell_type": "code",
   "execution_count": 72,
   "id": "f2e2207b-2da2-49a6-a8e8-85cf554cc705",
   "metadata": {},
   "outputs": [],
   "source": [
    "# df_clusters = pd.read_sql('SELECT ROWID, sbv FROM clusters', con=transfs_db_con)\n",
    "\n",
    "# for clusters_row in tqdm(df_clusters.itertuples(), total=len(df_clusters)):\n",
    "#     row_id = int(clusters_row.rowid)\n",
    "#     clusters = pickle.loads(clusters_row.sbv)\n",
    "#     nzb_list = list(map(lambda c: np.flatnonzero(c), clusters))\n",
    "#     transfs_db_con.execute('UPDATE clusters SET nzb_list=:nzb_list WHERE ROWID=:rowid', {'nzb_list': pickle.dumps(nzb_list), 'rowid': row_id})"
   ]
  },
  {
   "cell_type": "code",
   "execution_count": 73,
   "id": "eeadc038-7f14-46af-8bc1-f9566d89da9a",
   "metadata": {},
   "outputs": [],
   "source": [
    "# df_clusters = pd.read_sql('SELECT ROWID, nzb_list FROM clusters', con=transfs_db_con)\n",
    "\n",
    "# for clusters_row in tqdm(df_clusters.itertuples(), total=len(df_clusters)):\n",
    "#     row_id = int(clusters_row.rowid)\n",
    "#     nzb_list = pickle.loads(clusters_row.nzb_list)\n",
    "#     nzb_list = list(map(lambda nzb: list(map(int, nzb)), nzb_list))\n",
    "#     transfs_db_con.execute('UPDATE clusters SET nzb_list=:nzb_list WHERE ROWID=:rowid', {'nzb_list': pickle.dumps(nzb_list), 'rowid': row_id})"
   ]
  },
  {
   "cell_type": "code",
   "execution_count": 74,
   "id": "075fb95e-af1f-4b14-9b2b-7d2046b51f69",
   "metadata": {},
   "outputs": [
    {
     "data": {
      "text/plain": [
       "((10000, 7), (2000, 7))"
      ]
     },
     "execution_count": 74,
     "metadata": {},
     "output_type": "execute_result"
    }
   ],
   "source": [
    "df_train_images = pd.read_sql_query('SELECT * FROM images', con=train_db_con, index_col='image_id')\n",
    "df_test_images = pd.read_sql_query('SELECT * FROM images', con=test_db_con, index_col='image_id')\n",
    "df_train_images.shape, df_test_images.shape"
   ]
  },
  {
   "cell_type": "code",
   "execution_count": 75,
   "id": "70b21219-4f16-4824-90ec-7bda1574c5d1",
   "metadata": {},
   "outputs": [
    {
     "data": {
      "text/html": [
       "<div style=\"\n",
       "        display: grid; \n",
       "        grid-template-columns: repeat(8, 128px);\n",
       "        column-gap: 1px;\n",
       "        row-gap: 1px;\">\n",
       "        \n",
       "            <figure style=\"margin: 5px !important;\">\n",
       "              <img src=\"data:image/png;base64,iVBORw0KGgoAAAANSUhEUgAAAIAAAACACAAAAADmVT4XAAAFiklEQVR4nO2ayXLbOBCGGwBBEtwkeYliJ1Pz/g+VTFLjlGXLsriTIEH0HCTbSs3JLQ49B/5V9k3AxybQKwFmzZo1a9asWbNmfbDYGT/lnHPOGKC1Fq1F0ioOHYD7yvc81wHTtlrrzpAIzgBwwuUyTiIPmjzLyxwNbRXy/jxYrD9dXC4DKJ8en3aDbqe0AGNOcLG+vbm+WoWY+4INdUFbiQbAPBUvP91+vbm8SJRVaPpmT3wUIoC6Xn++uf2yXoTKNcJoXSgxKUBw9eefX25vrkIpRA+6qZ+DaS3gLdZf/7hdr3wA6EzSlLFyhZ0OAIQXxnEcKQAAT4XJIol811p4/0XgpP0ZE8JxxNGNOipKFkkUSMpiNAAAAMBhsAAAyN0giqIokJy937PTAdBa0wMAWBDS9TxXCsL+dADGXrdDtIiISPKEVICTZ8VBN1VZNdpQAiIVAI9/AICmKbIsL+veEoxAfgVvFkfTVnlRlI2hvIQzwvGrrOl0q/ue5IjOuIavwkNKRMuIxgAAYIxRk7sxABhjh+TwowCAHTQpAH3HcQAYY5wfEdg5BjjDFZ/CUBehAxxuHu3ijQNg+q4zJM8zCgAOfdvo7uB7iGHwLAAYdF1V+rUYIwdjsgVMW+Zl049gAWIw6qv0eVH1I5xCGgDq7MFR17RqcAwA0PsBwy/NCNeAaIF+6PlVoT/OAtbyfhw/QK3onDCOlTNCOKLWhvHqZr30PwwA/NXt19tLNUI2QawN3fjq83UyhgWIz+CoeBEHY5wBogWEH8aRL8/fnwwglVKu+LhXwKTru6R+wEgAnDuOI44/PiclPCsrPiaGjAspX2mmAjhJQQ79Gj5tVvx7UoqW2isfpzIybVmULa1XTbfAWyJmm+f7u01KjM3EfOD4HwEAhvLhx7e7bT35wOJFtnr8+X2zb6YE+K0atDrbPjxVw5QA/GVcBACAfVsWlSZ2KIixgHMhXl2PNZ3uSOuQARzHOXHFgECvTWgA0vU8zxVH78ccR5IPM+GHjAs/CKPIlwcA5vhR3Da0qR0BgAnHixari1XkOwwZAPPiy+shq/RkAG4YL1aXF+ExIeH+al1Y7CcD4NIPo2Sx8BhDZADMX66rvq3KqeaGXEjp+crnR5fMveSqqrO9JBXLlNPLuONIhwMcCJi/uNbV89azA2FmRAI4mVYgA+YlXV88xqpHQrFIAUAchmF443Fj26WrWDWGvd8EBAAcTKfbVsujEZhkVi+TwHcEwSG+HwCtaYv0+WkVuAdPxLhUcRwqTwpC65AAMHSV2G7uo1UUehwAGEMZBMr3pHPyYv47ABjQ2KfHTQJcusAAGDLheZ7nSkFIjQkWQAtYFXkexwMeggEI13Xl2yj1PSJFQ8aFEEKc7CeEeO2ev0+UaMhEEMZJEvkOAwB8uQzvXwmAYgHGuBstlherREmGxz4pIlok+EHSK2Bc+ioMQ+W+fTRhrUUk9e9JZ+DfvWlrqfMDAgBao9u2bbvDrJidAExiAUTbV2VZlrU28DIuHIbB0ipUSiwA01R5loWeiwDALAOrddebYarhNdq+KdM0r48ZiLVtXdctbXxPS6dtl++2KlowAAA0pkrTrKi7gUBAzOe7Yhup1fWBpq/3u90+K/QwUUICAF3+pKL1YWCBOt9tH3dZpSlngAhgqr1aZXXnAQB2+XbzuC9oPRJig8I0uf+clq0vAaTJNnf3u3rS7wmNLtw0zctAAnCb/frr711DW4logaGzMk3TNAoBoHu++7HJaIUReWSDxsmft4+el0C/327unzSySb8pRdDF051qqwtovv/aZg01IaA3qUy1ceu7iwT0z2+7FoCUDZwDgPWjflCBDyZ9SN+fDb/ojI6/EI4QnAOavid2J2bNmjVr1qxZs2b9H/QPif23pb4iEZoAAAAASUVORK5CYII=\" style=\"height: auto\">\n",
       "              <figcaption style=\"font-size: 0.6em\">1</figcaption>\n",
       "            </figure>\n",
       "        \n",
       "            <figure style=\"margin: 5px !important;\">\n",
       "              <img src=\"data:image/png;base64,iVBORw0KGgoAAAANSUhEUgAAAIAAAACACAAAAADmVT4XAAAKlUlEQVR4nO2a15biSBKGM1NKOSQhQFgJhKk2M3Ox7/8cO9vVZUF4hBNC3u5Fn+mtPYepws3sXvBzB0cRH5GZYRIAuOmmm2666aabbrrppptuuummqwrC/znBqQ+g6/onyVMNXjVkBEvDJIzi9G8GQARBECSJKOYHQBiFUZTESZId8TB5BQCCzXG8ILAsy2CUxqHv7u29s7e9vwsAC6VSuVot8CwmIUhDd7deLpdGGhyzFFcAoEW5XldazbLIEBBCEDlbYzrlUseK/2IAhCCBCIaXa/WG0lRlHoMMQJTwLE1R2X6FwyPW4BIAzHEcxwtSqVwplWSByvw4yiACMRQQjrczxj8iBJcAMMVSqVwpFwuSmKMx4cae6yeAIAg2V2IjQ2KIJIMfBeECACxW1EZTbZREloKx59r2zrIjSNBchRVFvywyZPixlTMBIABkqaq01JZalxgijXx7szU35j6CJCdRNZqWBIY8JsmcB0AyHJerNDW1IvPAdULPdbZbc2daTgwx7wtuChBIwiADH27DMwHytVqlripyjkxXgbXdWr5tO67jBimihEAyHRz6rhMdY+oc/4gttT9rjbqcy/bLxXI2WWzjKIyiKE4Apl242dnY833/qO9ysncISbZYa3/p1Yo8ctaboa4PJhuQ/XiRTA4HQeAHUUrQfw0AZnip3tHUWoGK/M1sPBqNp/OfS51gis/zFEgJoapxEIA48L33luIMgEJDaXY+KRKyzJUx0oczw3qz1Wi51VYljNjqV2wRROquprPdNQEgW+l9aav1ImVP+/p0Pl+Z9tvjnle/9FSZITiFqAeYjM0XZF0TAOakeu+XtizgYKN/e5iuTDtIkv98zsrN3qcyTxFsRdRSigwXyOi/Z/AtAEIIApClIM3+5PhiipNUrdWscdA2p6PBYL79edYgRAihUqVWr+YpAAlGBIBEXpJniWMBSIbBMI3jJIr/pKui5Kra/Nqt8rG5mA6fR8ut/bPeZCTDcrlKR6kUWJT+7A7T5P2u4A0ApIR8DsaBH/heevgppvb1i6apRWQOH/rj6dx8U+8QxRdLpfqdUszhLAUEAgAA39rt/eSgrQMRwGJFQoG9d0F8uIogQfnlH62ygJzV6z8fFqbz5oBBJidVGo1Gq8xTEKCMAAAAd2vM1/a7RfktACVWZOSQaRKgA2UEQijKDa3TyAFnuxj1X1dekgEAIAQQQorlRLlSLpclDiMAYAayLPO3y+lsbb+bkd8CMEW1ATap68JDAw7F5eR2s17iEmsxfh5Ml/aP9wnMMCzN8bwgiiKLkjDwCQwgiH3PMqaT8cR8tyi/3QOMrLVT1lnBgzWMlWtKt11mU3P0PHh+Xdh/WMhJpWJeyosczlLo2zsqY0kIgL/ZLMej8WyxfrcmvI0Ana8qScARaXoAADLlTqejSjhcvf7+MppYfwQml6+qjXKpINCxtXH2CGMAGAxSezmeDPTx0vKCYwEgQdExAeI4PkRAi7WmUuYJ1zLGo8X+xzEhWCFfaihqpZjnCNcHQUZwPMOGGOw3M3040Keb8P2e4C1AaC3YeL5x/OjQTEMwvChwNMriwA8Bi1OEEKIFSSqUyhKTOV7irFYWQWcEAcIkWo30wXi63L779f8bILOHzCJZ6CvbP5CHICQwRREgzQAkmbxEYUySOFeQCzmazCLbsV3X9lNeJLkc4XnW7OWpb6z3H3aFbyNg9S0+s82dH8WHNgGEIEsTmCKKL+ZZIUdTmBbLVYkMdivTGM+2QUYLIKFyXGYt5qPnF33nfTyd/VcEAoMASZSkB1u5LEuSJI5BRnBSgsSCyGCKESpVMV37wWb0NFglnEymJE1jbzfRh6+DqZd9PJy9jUDybs7MkjiOophAbL5MEfkCjwlEsmQWhru1MTfWpkOSfLEkMjC0lhN9PFtb75k7BPC+0jjwgzgjuGIT24jjqCyOw8hbQ2eu6zNjj0RRvesoqpBYxmjQNzbOUWaPBsjSwLUdP0a4SAgeQCj1Y2/vhYFvGTNjF2SCUP38S0/mqWA31QcD6/0MfDoAiP39bifyDMR5OkziyItdc73Zbs3dZuPEtCQ3tN9+awvJfrsYD0fTIH53Qc8BcHcrmgQhj0ESx6Hn7NbL5WplbKy9m6Fcvq51WnUZW44xHs9X5rFmjweI9gb0dobEUShL48h3bXO73WxWWzcCDF/v3nWVOp/aS/25rxv7o80evweCXeYYAs9RJMqyNI5C33Mcx7LsDOWKZe3rV60kwp05+H6vG6ujZhIAwCmXVCTGFIkxiRAAGUjTNInjOAqDFAgVRen9+qXBJs569vj79/HeD465HPlh9miAOPYOvg+ZYr3V6rTqRWiak2F/MJwfMZWfAXBYkGXzaqfbVIt07C8GL6Ph4v0G5NoArCxX271urcBHzvr14WlubI5f/ysAIKnRUns9rUhG1mry/V9PW8c57vxfCUAsK912p93gAnc9HDw+vdjZnw011wdAJEVVlJbWrBVo4K0ng8HEME+2cgEA5CRJ+fS5Vy9SoTd/fXgez4+qf1cDIMV6Q/v0SSvgZLsePNy/LK2P+q/rAuRKaqfdbVbZwFqMX56e9F1ydPq5GAARJFNTWu1mVWKAux4P9PFidYb7swFIMV9Qe5+1apEKvdnrY386353l/1wAqqQqrV6nIVKpuX69/zYwt6fln0sB+Eq3p7UbRRzulpPn7/ejMDyuAboGAESQkRtaR60Xc7G/mer6cLI8z/t5AHQuJ/Z63VZFJEN7ob8OdOOM838BAFupVe6+dBsCDp1V/+FpON+cVP8uBUBi/a7V7TQLRLBbTR7vH6d797T0fyGAWFK6nZZSYEN3Pdb7fX0Rf3wnfi0ASNN0WdO0ZkUgwr0x6uvjxfbM7X8eQE4uNj5/btcFHLjG6+PLaGaekf/PByBEpdW6u1MlItyvRo/fnhd7+5TfaS8GYEvqXbutlOjANSb955f+6uB1zl8DAAmClKtKS60IZOKsJro+ma8vjP9pAEyOVzRNq0s4dOf9p9fxdHdm/j8PgMjJFa3bVopUbG8GD/d9wzxuAL8WAJOvtdqteomLneW0//g4sKLzCvA5ABBCQqo0Ws1qns7c9XSoj6fGZef/NABE0WxNu+s1ykwULAavuj7fXcf/kQAEmy9ovS/dIgesjf7wqBvLw4PiXwVACXJd6/U0NrbW05fvD+O9f6UAHAdA8YWa2lSqBWhas+FAP23+vRQAIZItNjRNlTngbUYvg1Pn30sBIGakWvuTVpeQvR08fB+eOv9eCABJRpQb7U/NPBPY0+f7b9NT598LAUiGL1aVplrHoT0f9l/7i1Pn34sAIGLylUazWZf52DVG+nixuUb6OxoAQsxXu12tp0rYWfYfB6MP7/+vCgABooRq79eWUmai3eTpfrTYXzP8HwIACDFbqCqNEhNZy/Hr83wffvi3mOsCIIQQzGInCDaj8XSxvmICOAYAQgRjezlymcw1h4OlfX3/H0QAoSxYDzwexd5+OdlcewN+CAAhzLx1vMRp6HuOZV0zAf308d6HBIkxxVAYRqEfhVH0twMgkiQRRiiLouCc+5/LARAiIIIwTZKT/id6NQAIIQQQApBml84fN9100003/f/q36J0TmNqPv87AAAAAElFTkSuQmCC\" style=\"height: auto\">\n",
       "              <figcaption style=\"font-size: 0.6em\">9</figcaption>\n",
       "            </figure>\n",
       "        \n",
       "            <figure style=\"margin: 5px !important;\">\n",
       "              <img src=\"data:image/png;base64,iVBORw0KGgoAAAANSUhEUgAAAIAAAACACAAAAADmVT4XAAALy0lEQVR4nO2aWXfbONKGCyC4L+IiiVosS3a65/v/f2bOyXR3Elu7uO878V3Y6aRvLCuRM3Ph95KHB/WwABSqCgR417ve9a53vetd73rXf1no2gNihsEMgzEAAO27ru/6vn/hfXJtAKIokqJIPABAU2ZZnmdF/SsBeGM8GtmWhiiFMvAcz3W6XwogD28Xi+XMQpRCdtw8bnGZvvT+VQEQQrI1XaxWq7kOAFApTFsn7os2rgmAeFHUl6v75XysAwAAr6qaIrL4VwFgyTLt+399mA/Vr0iE41nmxZ12TQCijhc3H35bjkSmBQYBtA3FDPOiA64KIOqT5XI1H2tQpg0ryqilCDMM/iUeQJgh+mh+u5haMircUy5aIGGGwfhl+9cDIII8nC1X85HKNO6nz5F2xwmYnLF+RQDMq+bk5vZ2rPBNsvv4b2+IhkOWYEop/SUAnGzYs/lsojN95u4+fXSndtpjjOCM/esAIMRIhn2zmI0GhOb+cX/yIqVoAc7PwFUAEGKEwfTufnVjslA4j+tdUCNCMACgX7EIEcKsbM5/+30xUwHCzZ/rTYoVVWIRACCM0FtvQ4SJoA7nd/fTAQeFu/60dnMiD2QWgD7pjQGAERTdGttjg+1b/7jZbNOOEyWeIOjapmlfSkeuAkBZ2RyNR6bKdnGye1xvnZoXBVFgMW3rsqiaFwmuAcBpo6ltKhxNT4f1p8dDgBlWkASCaFPmWfHmAFjQx5OxLkAZ7D4/fNq6Ga8SQeRZ1Nd5kqTVWwNwsmFPLJV0mb9/eNg6UY0pw7IEQ1cmYZiW3ZsCICIOhrZtijQPj9vHrZvU0FMAhBBt8uB0ior2TQGAUwx7ahtsXZ52jw/HoATA0HVd3/dN4my3Uf62AKxsDO3pWEFFcNisN37ZAjAYuq6nXZ24+31VvymAqFn2ZDw02Dz1joejk1AKDEsIYTD0dRa63tsEIswQQlhCeEk1pwtbV7om9T0/yjoAAFZUNEXAfVPl+Ysr8McBkKDIqqbKoiSr1u1E47Mi9Lz4ecET1RpZCku7tjtn/0cBiGINx7ZtqoLAy5YukSYNXC9pcA8AiNfG05HG9k3bv1VGJA7s+c3twtYEwhCBsLRMfDfIWgwAwIj6yB7KqKnqNwFAGLP6eL5c3C5slXt61hSx7/ppTQEhJMq6ZalsmyV5/fJJ9GMADMcrk9sPd9PJyHjO+bsi8Z2Tn9YUYcKqumkZMsoDPy7eYg0QUbMWH/51Zw60Z/t9mYaecwqKpkcMJ+mmaQyEPHFOYfEGHsC8Opzdru5XEvfkf9o1eRT6nhd1HcVE0AzT1BXURo4TvIEHECcb9vxmZlsM0B4hBH1T5XEURUkJAIgVNdMcKEJTx64bXR8AMcJgslzejFQG2qpGLMdCl0d+kDz1QRAr66ahSYgWkedF5dWnALGSdXO/mpscbZO0YKQBoU0WuEFaP0VcTjUtQ+Ghy0P3+gAIscJgvLhfWgrkZRjkxBQEaPPQj/IWAQBgQRsODZlAmQa+n1wbgCGibtmz+VRGTZn5fs5zOoWuzNLsaxQW9eFoINAuiwI/yq4dBxjZGC9uJkONKZI4DcJKHLQU0b6pm66nAIA51RyPB6TOfd8Pk6I9U5hdCkAG89vVajLgm8z1kjjradXRp9LnyRIRtdF0MkBpcjx6QVZ3VwbgzcXvd8uxhKtgf0qKlmHbjgL+1oVgZWM8GYtN5OyPXly0/XUBGNm6uVvNDJ7mwXGXNowodT1FCH+tALGo6tbIpGV8OrphVp8rjS8CwAyRhvZ0OjYk1Bahc8iRSL51YSmlwAiqbuiqVDWJ70f5y/n4xQCspOg3N5ORLmNosuB0rDikwNfKk/ZtD0Q1TUOVENRZHOf1+c+/CIAbjO3VYmIqLPRF7DunVpGAYf4G6AB4fTQyFBaaIo3TsntVI/wSgMntcjZUeYA8DjzXo7gFjP92AQUsW7ZtiAiKNIqS8nwychEA5rXRbDrWJaYvg9PJ8SMsd/Ct+MeE8IPRZKxzbR4Hvh/lzavGvcADimXblsJC4W3Wj4cg41p42n+073pgOFEZ3yxvDKaoT/vd3n9FFLwIAHOqNR7pInTR9q8vn/ZhyQDCDEaI0q7rERHBmC7vbQ3F0eZxvU2y5rqLkBM1c2goLFTB5s/PX45p033d5ZRSIIIqjGaLWxOlwWGz3h7q9nwYvgAAEU03DF3loUv9/frxEBS075q67noKCGEiqH1vT+2hmpfefnd0g9d+2OsAOFGZzCeWJuC6CNzT0QkLCl2VJ2lRU0xYXhp0Ch5NLYU00XF38F68o/gBAN6a3NzdDBW2y0PndHKDogPoy8jXk6pHLC+qSOqINdPZNnG260P00iXNjwDI47u7+7khoCI+HQ6OH9cUoC8jbxAVHRBBHojAcNpY6ovguNs66dlU8DIATrOXd7djlW3z4Lg/+UlBKUBfJb4epqWCOLnvWYEXNaYM3eP+6Oev2oGvA0CYYWRzMp+NdQGqyNltj8HT+LQp4jAIY7FnJAYEgWdIWR4PRy9Iqyt6ALO8ZExms6mpkDb3tl8e9s8z3LdVErinE8shRUa8wDVF7G0fD15anekNXgbAq7o9n01GmgBVdFp/eTymT8PTrqaBdzryA15mEcuycX7YPH45RHlzPg+5CGA0nU6GOo/qNDhuN7vwOdXtEe3S0PdUlpdEhDDq4sPnh42T1D1cE0DQhhPbGkjQpb5zctwg+zrBlEJVZGneAMcC0DYPDpvt6RXV0EUAiNfHk7EhQp86+93RS/7RdWvruqpaxAD0eX7abTeH4OWm2A8AiIY9GWscVP7+cX0I//l9lHZdRwEBlJG73ay3bvGqROwCACKZY9tUCOTe9nF9iv85Ps8SjABR6PLguN8fTvH5rtBFAAh4xRhaAxF3RXjcHbzvDlmEEG8MVIkn0DFlnoZhGCfFZebPACDEEEXTTV1ioStC5/CPvisjSfpkObcthe2rsqrr5hVlwIUADCcOdEPXeIC2iNyjm36X6hLdnt7c3d8MFbZt8rKhiHDChSvgDAAmvKab+kAmAFUaeW7QfJfmSMPV/e3yxlaYpsizpOqAcEJR9+giN7wIwHCybhkDWQBo0jgMo/S7sQXdvv2wmNsDri6CMMvStGyBkNflQa8FkPTRyNQE6KvU88Ik/3twIgiDxWp1Ox3KpIkOeycrisQNX1ENXwTAqqPpbKRyUEXO7uB/twBZYzRZ/t+HhaWwdbb/89Muq+si9aPyfDl8IcBsYikMLYP95hh+1+4Qxx+Wq/ulLTNN4j58/Pdj2ndtVRbVxRvh5f875OcYUMfOyU2+7QDWnN3/tljYKqlTd/vlj48PKVBKaX/uqvpCAMwKkiSwuG/LJEqyqgPADENYMlitVoupzkMZn7brh+3BudDsKwEAMMYYIdpWeZpmBQAwkqTpmnX74X424NsyOT4+bD4fkh+2fwaA9k9HTd/WVVVWAMCp1vRmas9mQ510aeR8+fPz1vHKNwKgfdd1XU8BKCDEkBo4bTi9+/1uOtJ5rsq94+aPj58OWXPZCfx6gOfbZwDMCYqe9ilSrMlseXc/0VmAPHY2Dw+PG+/yA+C1AAgzhGAALGijhh9EFZL14fh2OTMRQBOfHv563LjJT9k/B0BYgoEykrmQJ3nVYUFRB0PbAoAudtZ//GfrRa9rA/wYAAAFSrseCyY2WgqIIRzPSRIANLGze/jrz0NZ/ZwDXgbomzLP87IhrMIMMCHPPypSWpVpeNysNzv356yfA2hSd88KkiICz8Lff2SVaZqkceg8bNz4p+2/DFD7HG1Y1QT4Zh6K0/7gRHEcOrufnf+zAJXflI00tA3u27PCefjj89ZPsyxPX98F+EGApilKZMwmss4/N8PqLNx/+c/HtZ+W1dmfpH4eoIc69g4PSqXxhEEUoK7z6PjpYbMPfiL4XgAAAHWyF8tHicMMAEDTVlmwXzvx1eyfL0yKY3OUuedueN+1TZGE8es7MGd1tp3KMCzB+PlFCrTvu67trzH773rXu971rne9613v+h/R/wNmvE35tGoAFgAAAABJRU5ErkJggg==\" style=\"height: auto\">\n",
       "              <figcaption style=\"font-size: 0.6em\">0</figcaption>\n",
       "            </figure>\n",
       "        \n",
       "            <figure style=\"margin: 5px !important;\">\n",
       "              <img src=\"data:image/png;base64,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\" style=\"height: auto\">\n",
       "              <figcaption style=\"font-size: 0.6em\">4</figcaption>\n",
       "            </figure>\n",
       "        \n",
       "            <figure style=\"margin: 5px !important;\">\n",
       "              <img src=\"data:image/png;base64,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\" style=\"height: auto\">\n",
       "              <figcaption style=\"font-size: 0.6em\">6</figcaption>\n",
       "            </figure>\n",
       "        \n",
       "            <figure style=\"margin: 5px !important;\">\n",
       "              <img src=\"data:image/png;base64,iVBORw0KGgoAAAANSUhEUgAAAIAAAACACAAAAADmVT4XAAAJ/0lEQVR4nO2aV5PbyBHHewY5J4JpyU0Kdp2//0dxnUtarXaZE0BkIo8fdnWWrVuKAacX8//EKgKNH6ane3oaA3DRRRdddNFFF1100UUXXXTRRRf9vws1ZQdjjDBCCAggTGEKYQSkrquqLMpqz410QwCE4jiWYWgMNWBeEHiWpqHOsyQKPP9XAACryKIocHRdAaPohioKLCqS0F3Pxmn6CwAkzdRVRRJpUhLWtDumIvOoCNzFlEkcv3kABAghhBBGGGOEEC/rlqGossjUJeGMTtdUZQwQGSIdLQSqJk0DEJpmGJZlGIZmGJpheFHVFEkSebquCKuali4BAMikKtaGzOUVvIVwqgtoQRRlSRJ4nhcEQRA4QeA4jmEoUhNakGTm5TJOyyxdEWtSozcITgRgRVXVdENTJFGUFVUWaIpCFIUxIgQwRTOoxgAAlKRrqiSk5VvPPxYAAQAgmpM03TBM01BlSVI0TREAoP7uOgKkAsCIoiSJ5xj8dro5CgDRDMvQFM0Kqm4amq5psiiIkqJSAAD4+0sJefU6TdMU/hNbpwEwsqqIPCfImmlqsiQKPMeyvEjtuYcQQt6OgeMAECMadkuXJVk1DFPhaZqiKYqi/+wFCUEvbi+KsqrrtxkOB8AUIxrtfs/UFEU1dV2iESGAABCqEQAQQN88/W38CQLYpXlRNZIHWFHW7e5Vz1RlWdFU9bu/6qoGIKQqi5IAxphmaAoAgFR1EcVJVjQBgPhWr9vpdG1NEnhBEv/rv6okQKo0COISUSwvKYqAEEBV5onnh0lav2X1mBEQ2vd3vbalSyxDMex/zbsyz2qAPFgu3AxxkmLVLI8BUJ1HnuP6cVo1MAcQbwzur1q6zCMEgMl3lUQexWkFkLnj52VKS7oJkg4IAOosdDdukGR74uDwEaB4WTOMlxxPCKlIXdU1wQjyKAiTF4CnZSEYjFS++rzOItf1omyPB44AQIAwxbCvv+sqT5M4LQFDFmy9uAIo/MV8g02F4njmJTJRHjobLyn2mT0coC6zLCtex7Iqs8R3Nl5KEGRbx41qQOXO80JRomRdFV/N5oGz2Sb7CqLDAUiVRX4gyywA1Hme78L1bLqKagypu3FCACBlnuUIRM3SpRez1c53Nv6uGQAod74rCTwWIE3SLE2C1XiyiCoM6dZxsteLEC3ImiZzNAAhkIRbxw2aAsj9JVeTOueqMIh3uyR0FotNUmHIQu/b8znRalmmJnEUqsui2DqO44ZZQy5IXSqPszzkdttNECdJHHl+mBEE5S5/vYa3rOGw1zJEhkJVlkSr1WqzbQoAMjcLwjwP6Gi18KJolxZZntcEgJSvM5M2eoPr276l0hRG5c7fzBdr10/KfVF4jAuKXZQjSKhgMd9GcZr/kVy+/ZDM7vXNla1JAFDnsbucr5wgzv7c3PEAhNQlxdMpjlZrP/mh1EeYkozO1VVbEwAAoAjX0+nSS/IfDJ0KAAAk9VCEUt9PfngthGlOsXqDvq0wAACo8BfPzws/21eMHA0AZVj6qMiy8geziOIUo93r9wwRAwDU6Xb2PF6He7Pg8QDVLkWIkJr8b5GLaEG2Op1Ox5JoqDFA7G/ms4Wfls0CkDcjitXs3vWVrUkskLIod850vtp4P4mA4wHeJuPs93e3N7bEAKAq9taLx6dlkBY/mwHNbU7F/t9/G1gGCwBQ+uOvz6PndfLjVPnLACit/+G3HsfgmoIq204+PczW7r5KrFEAjCmt3ev3TQCoapJG28V4tAyS/IABaASAUVX7rm9KAAC4zCPf3azX/u6ACdAQAGcPBx/7CgUAgKrEczauF6Q/D4DGAJTex/ubrkAAAOo0cFZrN4gPmYCNACAQW1e3931LAAAgu2CzmK+20b62UKMAvCRodzfDnqVwFKnKwl+On0czNznYwLkAYrfTuX9/ZSsCjas8jdejh4ex4/5kDW4QQBu8H94MuwZLU1CloTN9+vxpstv9bBFuDEBpDT/c9tu6jAGRInbnk9HT83x/R6AxAIpl2dZwOLiydYkCAJJ586fRZLX96QrYEACtWUb3w13fVvkXK6nz9ffpbHtwAJwLwFm3w6vb2472+vwqWX755zIMD0tADQDw1vXfrnsdQ0YvO8F4u3j+4pbV4f4/BwAhLJvd4bBlvGzDyiLezOaLze5YQycDMJyit+yWJrz6311OPo/c4/x/DgDFqbphGCr/2iqJp58fvj75xw3/GQA0r1gtS1dEGtcYAMpg9q/fx+sYHzcDTwVAlKhavZ6tSxwCUiMgibcYPy3CwxPgOQAIUbzeHQzv+gaPADDUeeY5m43j7+sFNQgAmJHbdx/vBm39Wx8iWK0cPyqOHv+TABBmBK377h/v2uJrkzgL1/OFs78X1SAAZgTV6gxub00ENUEAWejMJws3zn8RAOI1u9ttWzoGoEhVFtFy/DSeuvFRa9A5AIJ1NeybL40wVMaRM3r4Mt4cnwNPBaBl+/qmrzM1BgCSBev5l0+fpsmPO/a/CkAyuoNBW6VrDC/+Hz09fl3U9Ukz4FgAzNBip9/vdUyZxaSuKm89G42mS+fE1z8agFYMq39/27d1icck38Xr8ePjZHbCGnQiAGteDwc3Nx1T5Cmo060zffz8ZeGHextxDQIg2b75cN3vmBpNAeThZjp6/PK4Lk8LwCMBEMJYsfvDm0HHkDkgdelt5uPRZLaKznj8UR8sJNka3F3327rEAUnTeDV6fJrMt4dvgs4EEO3e1eD+umOIDII88tzp48PX1TY+MfyOBqDl7rv7q0HHVCgM9c5fzUcPD8/b7IQS4CQALKj29V2/bagcAJSJt5yMxpPFef4/HADRjKzb3V7bkDkAgDJx5+PJ0ovPfv6hAKykmS3b1kUGAIAU8WbyPNnExxdAJwLQgma1bMuQX75GVVmwno4W/rn+PxgAi5rd6bQMhUeIVIikkb9ZLp30h47tXwGAEKZ4szsYXrUUHgMgKPJw67ief2YCOBiAZnn16vbuetCRXvaAReAs19vo9AXwOADMiKo9fP/x2tb4l3MhqbecLb3dOQvAUQCsZLQHt+8GOkURAIAydmazlX9aDXwagN6y23aLAagJELLz1/PpKjioEdwIgKC2bEsVGQBAhFR56MxHo1XQRAgeBEDxequlv9bApMrj7Wry/BzGvwwA84phKhwiCACqPPY2i9lkVpxVhBwFgBhekkQWAwCQIvZW88Vq7/G4xgEoluMFgUcAALk/Hz9NNuevgccAIEwzLM8BAKDMff78PHKb8v9BAISQP44h5dHy6dNotfeIZvMAZZaEYcDKAJm7mo9Hk2D/5/CmAarEnUG61UUEqTf9Mln7SUMp6ECAMpgW6ydVYhHkiTOdNpaDDwUo/NLneZahEFTFLvT3H0k5Xj892PyfE8tACKmqPQfjLrroopP0b6C+4bag7rsaAAAAAElFTkSuQmCC\" style=\"height: auto\">\n",
       "              <figcaption style=\"font-size: 0.6em\">7</figcaption>\n",
       "            </figure>\n",
       "        \n",
       "            <figure style=\"margin: 5px !important;\">\n",
       "              <img src=\"data:image/png;base64,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\" style=\"height: auto\">\n",
       "              <figcaption style=\"font-size: 0.6em\">8</figcaption>\n",
       "            </figure>\n",
       "        \n",
       "            <figure style=\"margin: 5px !important;\">\n",
       "              <img src=\"data:image/png;base64,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\" style=\"height: auto\">\n",
       "              <figcaption style=\"font-size: 0.6em\">3</figcaption>\n",
       "            </figure>\n",
       "        \n",
       "            <figure style=\"margin: 5px !important;\">\n",
       "              <img src=\"data:image/png;base64,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\" style=\"height: auto\">\n",
       "              <figcaption style=\"font-size: 0.6em\">0</figcaption>\n",
       "            </figure>\n",
       "        \n",
       "            <figure style=\"margin: 5px !important;\">\n",
       "              <img src=\"data:image/png;base64,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\" style=\"height: auto\">\n",
       "              <figcaption style=\"font-size: 0.6em\">5</figcaption>\n",
       "            </figure>\n",
       "        \n",
       "            <figure style=\"margin: 5px !important;\">\n",
       "              <img src=\"data:image/png;base64,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\" style=\"height: auto\">\n",
       "              <figcaption style=\"font-size: 0.6em\">3</figcaption>\n",
       "            </figure>\n",
       "        \n",
       "            <figure style=\"margin: 5px !important;\">\n",
       "              <img src=\"data:image/png;base64,iVBORw0KGgoAAAANSUhEUgAAAIAAAACACAAAAADmVT4XAAAMQ0lEQVR4nO2a13LkuJKGE4bes4rlpTZzJnbf/1U2YjfOnu1p2fKO3oAA9kLqbnWPpCrVSHNu9F9VkCzkR5jMRIIA73rXu971rne9613vete7/s1Cr9cOAgQIAfrWpAQppDj0R/paAIRSShVF1TSVAgAI0bIyS3P+NwEQVTMM07Qcz3d1AJC8qbPN9Lr6mwAU3bAcx/P9cNDv2gAgWZVvb7R80/wNAFRRDNNyPC8IO9F43HcBQDZlujLSqZ6/MQAiVLFs27Ety3U9P+gMej4AABiGQfIocAvOhXxDAElNt9vvdRxTN03btJ3A/HZLd4MwDMuyZs/Ng78KQAw/Ov/0YeAaVFU0qmg6+XYLaZYXdnMk+BsCIDuIxh//4/eRqyGMMQBCSCAAAARS0W3P3zf1s/PwVAAEGGNKjLA3GH84G/etB/fuhxwhzbBsK1XwGwAghKlmmKbfGw0Hw4Fv/nTz2w+i6papvwUAQphojt8Je6PJsOP6xuMeHWFVN1T6Jj1AFMONxqPR2VnfpVQR6DEEiTChlDwbb04GUA23OzqfjMcRBQAJ8j72yLvAhDBGCEBKKZ/zAqcCSERU0+2OzgeRSwHug2FblRWTEmGECNF0jUjelEXFno2Ip64CopteNBx3He3HNZ6v44IDIoQomu1TLFmZpnn9bDw6EYBolhdG/YH7cIqXu9kyaSWhVDXMQLWoYEUSZ88HxNMAiOGE3ajbCQwAkABSStGWm9nNLGaSKJrluEojpGBFmpavPgQIEdXrTc4mfc8AAECsKeu6LrP17HaZMIEVJxRqKwDJtsqKun1lAISJanfPfvt01rfvrrTxZh/H+3i72ezzVgDtcMOXmGDUVlnBng2GJwFQw+ud/+O3ga/fXSm3N7PFYrXd50XVcC4pcxogGIFgZV4+3wGnAFDdDnqj87OOjiQCgHK3uLm+uZmvUyakkCCVgGNFwYLVVVXWz7uBUwBUO4iiqBPYIBlv6mY/vb6+ub2dbwEAAFNq+L7naFBXSVayA/ZPAMCG3x/2O44GwKtss9qtl6vVer68s69YjuN+/DyJHEir5bY4lJOeBBAORn1fxwCs2Fz+39UiLop8lwEAgOp2e73u+aezjiaS3XxbHOqAUwD0oDfoOioC0dbp8vKf80KitkUAAKYXDieT4XgcWSLJVqt9+RYAmu0HnqVikFJKwbnEVEGaUTCi215neDYZ9Hu+WooqS4vnndBpAEQ1HdfSCAJA1AhGLGgVDTdl3RLNdL2o3+uErkEZ8JYx/hY9oGiWZSgIAIjmjWlUSKpi1jCOFc00Xc+1LUMBACnE8z7oVACqqppCkEQIa67if2gRJZizViCiqIqqaVSlAJwxxtrDBCf4AYQJwQgAACtYcyVgQpDgQiCMKSIYAwCIukiTtGzfAIC3jLGWSwCEASOE0B0NyB+pl2R1vJ7fzvflG/iBtinzvDI0CYAlBvw9G3xgv6myzezy62x/cHd+AoBo66qsmABAgAG+v7n8jiBZU8Sb2eXFsm7a1wcgGMF9pokQAAL4nnZKAMAAgrM6T7arxQZeexUgjIntuLal3Sf7CBAAIAkPRwAj2dZVUeSHzb8YgCiG34n6kWvQu7f7bvZB8o8wiJa17cHxfzkAVg2v2x8O+5pKkXw47X7afNyNESZ/+v9fBiCa2x0O+lGIEJIA8scE/GkQuABMqaKUrw6Are7kbNSx6XdzUgAghAGkkEJwIZEEwVuiG5ZplOLQvujFq8AZ/f7pvKP/uIAkl5QCAMJNU1U1ExyQqqteJwzcum4PRqMX9oD34T8/DQLlwaW2lhoFAJAsT+KsZAyUoO9rea8T1Gn1yuFY75z99slTHsyuJsuliTUAmafxZr3PK4YN7qtG1e2GRcsPLoVjARBgjHHUHwwiBUSLOBcAUtZJXEgjddW2TNP9er3LG0Fdp8G65XpeUtb1oYaPBqC6ZZkfP/RdBQBYnedF07C2zrNS6o6l8DrP0/0+qYFaaisAVMsNkrw4WIs+EgBh1e33u+f/iHQA4FW8WmySNK+aum5A0TUiWFNXRVFK3SFcCgFYc/04iZ+tjhwPgDA1w/Hns8mHUAEQdb6+urxdbvc541wAJgRJIThveau40uKct1wqputa6usAIKIYTjj6+HkYuRR4mWzmN18v56td+qdJrgrNLcqyYgKrhqHR1xkCpJhupzcYDiPfpFDtlvOrq5vpapv9+dEmj3U13CZmyxFVnq9PHQ8AqtMdDAe9rmdSgGJ5cX11OV0lj3raKgFm9/s6uk8ZXgUAaV5vOOp3XEMB4Mnsj683s1VcPerkeNYU3tnWpRXj4qAjPhIA635vNOh6lgoA+XZ6eTFbJ/njTk40jCVZXimsPcb+cQDE8PvDfmhrwBq2nE6n80385LYTIUIJJQRj/Gjx8BQAbITDydDTQeT7ePb1erFJny59Ud0NfNcmjUrJEQhHAShWOBz3TAXqeDq7+XK9ip+2j02/N+yHLqrV+93DKwAYbhj1A4yhjud/XF3Md/nTOx4r6I/HvdBpKYiWHwyGhwEQJloQhr6rAgBL19Ob+TZ7PNlGBBM97I/ORh1bE22ZvsruGOuWO+wFtg4AIKvdfL7JnziBwLpleb3xZHwW2WqWrefz16iQYCvqnY8CHQEAiHK/Wj/hAACIHUXR5GwyCLsmbvbzq+v1E331EgBq984/DH0VAADKdLfd5U81aoWjyfj8w7hjaBTK3fzmNj2cmh8EUJzuZBK5igAh4+VqG2c/5xj358UIU6szPjufnJ8NXABZJtvNZnfo1PIYAGpF40nPVdoiSZZfvyx+sQ+EqoqmKpqq2eFgNO4POi4AL+L1Ln5qrrwMgNjReBK4pNpcXV1eXc2LXxswLcd1LceyHS8MgyBwACDfLuebX1FPBNC97mhg6nWx/Nd//e9sn/7aAYYXdLpREPqea5uGbhgqQLVf3E43T86VFwHYfhh1AwJNvLz653+v2C/7XcUNO91ef9DtdnxXVwjCGKDdr2fXs03x1wEU3eicj7sOkeVmPptO5xwAAFFKKSUEI4R0P+x2ut1eGASedZd9sLpY3l5d3h7hAw4C6N3++POnngHF+vrrxe36vkXVMk3T1BWCieF3Qt91Pdu29Tv7Io+3N398uZpvisN++CBA//ffPn7uKCJbXF/ebO5P4qkV+EHgObpCqOUHgaVpqqp+Sz+L/WJ+8eXLzTZ/yl+9AEALz38/H3m0qZLtLmV3z2K3E0XdqOOZKlVN33M1hAEQAoEBoNgubm4vLq7mCT8mHTkAQM0ginwDASCq2Z3WFABghlGv2+2GnqlQ1XAd9fvjomXlfnl7fXuz2MTsGOuHAIhq2JaGAWtuXxqdSS4BkO52gsDzXFtTCNVM9cHz2Xa9nE+ni+U6O9b+8wAIU4UiibAZIX+cF40EQKrpOKapa5pCMKE/bZT3lxe3s8Vyl2XH+MAjAACklJwjpIdGr2FMCABEVV1XKEYEIfRzxlWsLv7narbe57w9ygUcBhBtU9cNplQhGhd3xTlEyPf9lrw7MpZSSCQlX0yvL6+Wj2yXTgeos9ilGCMgWD6SXyIpAEnOmrppG9bc/utiutpnL7L/PECb71Y6oSoAPJreMs4xkqxMk6zIi2xxebGID3659BIAlm0XmmbaAADfvhD4UZDjVcM4wVAn281uH8fxZrnYFi06avkfB9Dm26XhBHfv9M2vSCRBipazpqwaTghU8Xq12e52+/0+yV74/od6IN+YejDgAABYci4QpQCsrKqmYXWVlzXHBOp0u93v4yTJ8uPizwsA0jXVe/etorZqiUkBmt16n5VVmWdFyTEGVuZpXhRFWT3/pcAJAG2OkDm+r/mLKm0o0gDy5eV8nxZZluYlRwhEyxrGWNseLgq+FICXHHlJcefWimRXKC2yis306+0mybIky0sBcFeolffl2tcFEFDleVFVNRK83S9XKd4nVnH79XK6zfI8K45K+v4KAIBkTVPXJWqqYj2d7qTt6dXy+nqVFVVdHu/wTwcAyVmdJ6hM4vnV9arRDLWJ15u0PvY44BUA6myvomy7mV1ezUtMaVtmRSOPqIO/DoCo09VNgfLNdn47WxYSE85OWW2nA1Tri9ZBZZxsV9usEgiL1zR/xBBUS7HWgZVVnqU1l3DEcfCLdKiIgoiqqRiE4G3b3h3EvjLBu971rne9613v+nfr/wFXjjywTupQ0QAAAABJRU5ErkJggg==\" style=\"height: auto\">\n",
       "              <figcaption style=\"font-size: 0.6em\">8</figcaption>\n",
       "            </figure>\n",
       "        \n",
       "            <figure style=\"margin: 5px !important;\">\n",
       "              <img src=\"data:image/png;base64,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\" style=\"height: auto\">\n",
       "              <figcaption style=\"font-size: 0.6em\">2</figcaption>\n",
       "            </figure>\n",
       "        \n",
       "            <figure style=\"margin: 5px !important;\">\n",
       "              <img src=\"data:image/png;base64,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\" style=\"height: auto\">\n",
       "              <figcaption style=\"font-size: 0.6em\">6</figcaption>\n",
       "            </figure>\n",
       "        \n",
       "            <figure style=\"margin: 5px !important;\">\n",
       "              <img src=\"data:image/png;base64,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\" style=\"height: auto\">\n",
       "              <figcaption style=\"font-size: 0.6em\">7</figcaption>\n",
       "            </figure>\n",
       "        \n",
       "            <figure style=\"margin: 5px !important;\">\n",
       "              <img src=\"data:image/png;base64,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\" style=\"height: auto\">\n",
       "              <figcaption style=\"font-size: 0.6em\">8</figcaption>\n",
       "            </figure>\n",
       "        \n",
       "    </div>"
      ],
      "text/plain": [
       "<IPython.core.display.HTML object>"
      ]
     },
     "execution_count": 75,
     "metadata": {},
     "output_type": "execute_result"
    }
   ],
   "source": [
    "count = 8\n",
    "\n",
    "def get_images_and_labels(df, ids):\n",
    "    image_datas = df.loc[ids]['png']\n",
    "    images = [Image.open(io.BytesIO(image_data)) for image_data in image_datas]\n",
    "    labels = df.loc[ids]['value']\n",
    "    return images, list(labels)\n",
    "\n",
    "def get_some_random_images_and_labels(df, count):\n",
    "    image_ids = RNG.choice(df.index.unique(), count, replace=False)\n",
    "    return get_images_and_labels(df, image_ids)\n",
    "\n",
    "train_images, train_labels = get_some_random_images_and_labels(df_train_images, count)\n",
    "test_images, test_labels = get_some_random_images_and_labels(df_test_images, count)\n",
    "\n",
    "display_images_grid(train_images + test_images, captions=train_labels + test_labels, col_count=count)"
   ]
  },
  {
   "cell_type": "markdown",
   "id": "49a9c189-4620-4fff-b12c-0553540cc48d",
   "metadata": {},
   "source": [
    "# Core logic"
   ]
  },
  {
   "cell_type": "markdown",
   "id": "3e1f9cdd-a16c-4406-9eb6-69a653b84175",
   "metadata": {},
   "source": [
    "## Hyper Parameters"
   ]
  },
  {
   "cell_type": "code",
   "execution_count": 76,
   "id": "8d1303e2-9a31-466c-8eb6-48bd7a0a7fb8",
   "metadata": {},
   "outputs": [],
   "source": [
    "HP_SIGNAL_VEC_LEN = 1000 # aka SBV\n",
    "HP_SIGNAL_VEC_NON_ZERO_BITS = 8\n",
    "HP_SIGNAL_VEC_FEATURES_COUNT = 20\n",
    "HP_SIGNAL_ENCODING = f'{HP_SIGNAL_VEC_LEN}/{HP_SIGNAL_VEC_NON_ZERO_BITS}'\n",
    "\n",
    "HP_PIXEL_FEATURES_RANDOM_SEED = 42\n",
    "HP_PIXEL_FEATURES_COUNT = 2_000\n",
    "\n",
    "HP_POINTS_COUNT = 250_000\n",
    "# HP_POINTS_COUNT = 100_000\n",
    "HP_POINT_NON_ZERO_BITS = 40"
   ]
  },
  {
   "cell_type": "markdown",
   "id": "24850512-c1a7-4d52-a17a-bf1a5f7641a7",
   "metadata": {},
   "source": [
    "## Types"
   ]
  },
  {
   "cell_type": "code",
   "execution_count": 77,
   "id": "62aec35b-11c1-4d9a-9cdc-b7315222c610",
   "metadata": {},
   "outputs": [],
   "source": [
    "class ClusterState(StrEnum):\n",
    "    DEAD = auto()\n",
    "    LEARN = auto()\n",
    "    PROD_CANDIDATE = auto()\n",
    "    PROD_WORK = auto()\n",
    "    PROD_ETERNAL = auto()\n",
    "\n",
    "# Constant or slow changing props. Frequently changed (hot track) props reside in sidecars\n",
    "class ClusterMeta:\n",
    "    def __init__(self, cluster_ind):\n",
    "        self.state = ClusterState.LEARN\n",
    "        self.cluster_ind = cluster_ind\n",
    "        self.cluster_key = ()\n",
    "        self.output_bit = 999_999_999\n",
    "        self.input_bits = ()\n",
    "        self.ones_count = -1\n",
    "        \n",
    "        # props for PROD_CANDIDATE/PROD_WORK states\n",
    "        self.accuracy_calc = None\n",
    "        self.verify_signal_ids = []"
   ]
  },
  {
   "cell_type": "markdown",
   "id": "f70e4714-7395-4a8a-93f7-7248507d6e9f",
   "metadata": {},
   "source": [
    "## Memory"
   ]
  },
  {
   "cell_type": "code",
   "execution_count": 78,
   "id": "944a2145-43bc-4ece-b640-e4562074deaf",
   "metadata": {},
   "outputs": [],
   "source": [
    "def hdv_array_log_like_grow_policy(size):\n",
    "    k = math.log(size, 100_000)\n",
    "    new_size = size * 2 if k < 1 else size * 1.1\n",
    "    return int(new_size)\n",
    "\n",
    "def gc_memory():\n",
    "    gc.collect()\n",
    "    \n",
    "    if cp.cuda.is_available():\n",
    "        cp.get_default_memory_pool().free_all_blocks()"
   ]
  },
  {
   "cell_type": "markdown",
   "id": "de73e165-ba51-4050-b4b8-1af91973f3e3",
   "metadata": {},
   "source": [
    "## Lambdas, Minifuncs, etc."
   ]
  },
  {
   "cell_type": "code",
   "execution_count": 149,
   "id": "9973a30b-4267-42a8-b61c-5c2c869c902c",
   "metadata": {},
   "outputs": [],
   "source": [
    "fetch_si_xy = lambda si: (si.x, si.y)\n",
    "get_sequence = lambda sequences: np.array(list(itertools.chain.from_iterable(sequences)))\n",
    "get_sequences_reading = lambda sequences, seq_reading_code: list(map(lambda r: sequences[r[0]] if r[1] == 0 else list(reversed(sequences[r[0]])), seq_reading_code))\n",
    "get_xy_sequence = lambda sequence, si_ind_dict: np.array(list(map(lambda si_ind: fetch_si_xy(si_ind_dict[si_ind]), sequence)))\n",
    "get_raw_image = lambda image_id: Image.open(io.BytesIO((df_train_images if image_id < 100_000_000 else df_test_images).loc[image_id]['png']))\n",
    "get_cluster_key = lambda output_bit, input_bits: (int(output_bit), tuple(map(int, sorted(input_bits))))\n",
    "\n",
    "bundle_sbvs = lambda sbvs: np.where(sbvs.sum(axis=0), 1, 0).astype('f') # aka bloom filter\n",
    "debundle_sbv = lambda sbv, sbv_dict_array, non_zero_bits: (sbv_dict_array @ sbv) == non_zero_bits\n",
    "\n",
    "# NZV = non-zero bits, e.g. [2, 3, 8]\n",
    "# SBV = sparsed binary vector, e.g. [0, 0, 1, 1, 0, 0, 0, 0, 1, 0]\n",
    "def nzb_to_sbv(nzb, sbv_len):\n",
    "    vec = np.zeros(sbv_len, dtype='f')\n",
    "    vec[nzb] = 1\n",
    "    return vec\n",
    "\n",
    "sbv_to_nzb = lambda sbv: list(map(int, np.flatnonzero(sbv)))\n",
    "\n",
    "# OHE = one-hot encoding\n",
    "def xy_list_to_ohe_vec(xy_list):\n",
    "    valid_boolmap = np.all(((xy_list >= 0) & (xy_list < config.sample_size)), axis=1)\n",
    "    xy_list = xy_list[valid_boolmap]\n",
    "    inds = xy_list @ np.array([1, config.sample_size])\n",
    "    vec = np.zeros(config.sample_size ** 2, dtype='f')\n",
    "    vec[inds] = 1\n",
    "    return vec\n",
    "\n",
    "def interval_governeur(interval, fun):\n",
    "    assert interval >= 0\n",
    "    countdown = interval\n",
    "    \n",
    "    def call(is_forced=False):\n",
    "        nonlocal countdown\n",
    "\n",
    "        if countdown <= 0 or is_forced:\n",
    "            fun()\n",
    "            countdown = interval\n",
    "        \n",
    "        countdown -= 1\n",
    "\n",
    "    return call\n",
    "\n",
    "def ensure_dtype(a, dt):\n",
    "    assert a.dtype == dt, (a.dtype, dt)\n",
    "    return a"
   ]
  },
  {
   "cell_type": "markdown",
   "id": "b69ac7e2-5c69-499a-b267-7919b9c0a014",
   "metadata": {},
   "source": [
    "## Average Filters"
   ]
  },
  {
   "cell_type": "code",
   "execution_count": 80,
   "id": "3af06346-4787-44fe-8ef8-4187796ea22b",
   "metadata": {},
   "outputs": [],
   "source": [
    "# https://youtu.be/HCd-leV8OkU?t=1240\n",
    "class AverageFilter:\n",
    "    def __init__(self):\n",
    "        self.value = 0 # aka prev_average\n",
    "        self.n = 0\n",
    "\n",
    "    def __call__(self, x):\n",
    "        self.n += 1\n",
    "        alpha = (self.n - 1) / self.n\n",
    "        result = alpha * self.value + (1 - alpha) * x\n",
    "        self.value = result\n",
    "        return result"
   ]
  },
  {
   "cell_type": "code",
   "execution_count": 81,
   "id": "a297cf9a-ed53-4529-a24f-da10417806bd",
   "metadata": {},
   "outputs": [],
   "source": [
    "a = 1 + np.arange(9)\n",
    "f = AverageFilter()\n",
    "avg = f(a[0])\n",
    "assert np.isclose(avg, 1)\n",
    "assert np.isclose(avg, f.value)\n",
    "\n",
    "for x in a[1:]:\n",
    "    avg = f(x)\n",
    "    assert np.isclose(avg, f.value)\n",
    "\n",
    "assert np.isclose(avg, 5)\n",
    "assert np.isclose(avg, f.value)"
   ]
  },
  {
   "cell_type": "code",
   "execution_count": 82,
   "id": "d1efe410-6d67-4ccd-823e-c91034d9c55a",
   "metadata": {},
   "outputs": [],
   "source": [
    "# https://www.youtube.com/watch?v=HCd-leV8OkU&t=583s\n",
    "# https://read.nxtbook.com/ieee/signal_processing/signal_processing_nov_2023/implementing_moving_average_f.html\n",
    "class MovingAverageFilter:\n",
    "    def __init__(self, n):\n",
    "        assert n >= 1\n",
    "        self.n = n\n",
    "        self.prev_average = 0\n",
    "        self.value = 0 \n",
    "        self.x_queue = deque()\n",
    "\n",
    "    def __call__(self, x):\n",
    "        self.x_queue.append(x)\n",
    "\n",
    "        while len(self.x_queue) > (self.n + 1):\n",
    "            self.x_queue.popleft()\n",
    "\n",
    "        x_old = self.x_queue[0] if len(self.x_queue) > self.n else 0\n",
    "        result = self.prev_average + (x - x_old) / self.n\n",
    "        self.prev_average = result\n",
    "\n",
    "        if len(self.x_queue) < (self.n + 1):\n",
    "            result = result * self.n / len(self.x_queue)\n",
    "\n",
    "        self.value = result\n",
    "        return result"
   ]
  },
  {
   "cell_type": "code",
   "execution_count": 83,
   "id": "0eafc439-58d8-49b5-b8d2-6a1ab99e1d41",
   "metadata": {},
   "outputs": [],
   "source": [
    "a = np.array([55, 60, 19, 80, 30, 19, 57, 26, 36, 78, 70, 34,  5, 65, 22, 10, 53,\n",
    "       28, 98,  1, 67, 94, 29, 37, 87, 98, 39, 71, 98, 68, 47, 20, 15, 13,\n",
    "        3, 83, 43, 86, 95, 21,  3, 64, 20, 97, 47, 15, 78, 20, 80, 75, 31,\n",
    "       11, 24, 54, 53, 42, 44,  8,  1, 74, 47, 63,  5, 34, 89, 72, 95, 17,\n",
    "       69, 67, 57, 42,  2, 81, 67, 41, 14, 25, 74, 59, 78,  1, 75, 15,  7,\n",
    "       70, 68, 36, 60, 46, 81,  2, 34, 39, 71, 42, 30, 48, 26, 86])\n",
    "f = MovingAverageFilter(10)\n",
    "avg = f(a[0])\n",
    "assert np.isclose(avg, a[0])\n",
    "assert np.isclose(avg, f.value)\n",
    "\n",
    "for x in a[1:]:\n",
    "    avg = f(x)\n",
    "    assert np.isclose(avg, f.value)\n",
    "\n",
    "assert np.isclose(avg, 45.9)\n",
    "assert np.isclose(avg, f.value)"
   ]
  },
  {
   "cell_type": "markdown",
   "id": "6438e5f1-7eb4-483c-8572-a32543ab348d",
   "metadata": {},
   "source": [
    "## Pixel Features"
   ]
  },
  {
   "cell_type": "code",
   "execution_count": 84,
   "id": "7f5094ec-ad1a-448a-b80d-affd9212524a",
   "metadata": {},
   "outputs": [],
   "source": [
    "rng_for_pixel_features = np.random.default_rng(HP_PIXEL_FEATURES_RANDOM_SEED)"
   ]
  },
  {
   "cell_type": "code",
   "execution_count": 85,
   "id": "1eedf20d-039e-46a5-bfec-93f84fa2e863",
   "metadata": {},
   "outputs": [],
   "source": [
    "class PixelFeature:\n",
    "    def __init__(self, x, y, radius, bitmap_mask, dist_mask):\n",
    "        self.x = x\n",
    "        self.y = y\n",
    "        self.radius = radius\n",
    "        self.bitmap_mask = bitmap_mask\n",
    "        self.dist_mask = dist_mask\n",
    "        self.sbv = None"
   ]
  },
  {
   "cell_type": "code",
   "execution_count": 86,
   "id": "49aed96f-3cec-4f3f-9152-537a004d3931",
   "metadata": {},
   "outputs": [
    {
     "data": {
      "image/png": "[encoded data removed]",
      "text/plain": [
       "<Figure size 1600x480 with 4 Axes>"
      ]
     },
     "metadata": {},
     "output_type": "display_data"
    }
   ],
   "source": [
    "radius_to_pattern = {}\n",
    "radius_to_dist_pattern = {} # config.sample_size if pixel if out of pattern, otherwise distance to center (within center distance = 0)\n",
    "\n",
    "# for r in [3, 1]:\n",
    "# for r in [5]:\n",
    "# for r in [3]:\n",
    "for r in [2]:\n",
    "# for r in [1]:\n",
    "    if r in [1, 2]:\n",
    "        canvas = Image.new('1', size=(r * 2 + 1, r * 2 + 1), color='white')\n",
    "    else:\n",
    "        canvas = Image.new('1', size=(r * 2 + 1, r * 2 + 1), color='black')\n",
    "        draw = ImageDraw.Draw(canvas)\n",
    "        draw.circle([r, r], radius=r, outline='white', fill='white')\n",
    "\n",
    "    pattern = np.array(canvas, dtype='f')\n",
    "    radius_to_pattern[r] = pattern\n",
    "\n",
    "    dist_pattern = np.zeros_like(pattern, dtype='f')\n",
    "    \n",
    "    for i in range(pattern.shape[0]):\n",
    "        for j in range(pattern.shape[1]):\n",
    "            dist = config.sample_size\n",
    "            \n",
    "            if pattern[i,j] != 0:\n",
    "                vec = np.array([i - r, j - r])\n",
    "                dist = np.linalg.norm(vec)\n",
    "                assert dist < config.sample_size\n",
    "\n",
    "            dist_pattern[i,j] = dist\n",
    "    \n",
    "    radius_to_dist_pattern[r] = dist_pattern\n",
    "\n",
    "r = max(radius_to_pattern.keys())\n",
    "\n",
    "fig, (ax1, ax2) = plt.subplots(1, 2)\n",
    "fig.set_figwidth(16)\n",
    "im = ax1.imshow(radius_to_pattern[r])\n",
    "fig.colorbar(im, ax=ax1);\n",
    "im = ax2.imshow(np.where(radius_to_dist_pattern[r] < config.sample_size, radius_to_dist_pattern[r], np.inf))\n",
    "fig.colorbar(im, ax=ax2);"
   ]
  },
  {
   "cell_type": "code",
   "execution_count": 87,
   "id": "d09730cf-4810-434b-a64e-5b3cc1932f71",
   "metadata": {},
   "outputs": [],
   "source": [
    "# n = 50_000\n",
    "# xs = rng_for_pixel_features.integers(0, config.sample_size, size=n)\n",
    "# ys = rng_for_pixel_features.integers(0, config.sample_size, size=n)\n",
    "# radii = rng_for_pixel_features.choice(list(radius_to_pattern.keys()), size=n)\n",
    "# xy_list = np.vstack([xs, ys]).T\n",
    "# assert np.all(np.all((xy_list >= 0) & (xy_list < config.sample_size), axis=1))\n",
    "# bitmap_padding = 0\n",
    "# bitmap = np.zeros((config.sample_size + bitmap_padding * 2, config.sample_size + bitmap_padding * 2))\n",
    "# pixel_features = []\n",
    "\n",
    "# for xy, radius in zip(xy_list, radii):\n",
    "#     pattern = radius_to_pattern[radius]\n",
    "#     i0, j0 = bitmap_padding, bitmap_padding\n",
    "#     i = i0 + xy[1]\n",
    "#     j = j0 + xy[0]\n",
    "#     i_lo = i - radius\n",
    "#     i_hi = i + radius + 1\n",
    "#     j_lo = j - radius\n",
    "#     j_hi = j + radius + 1\n",
    "    \n",
    "#     if i_lo < 0 or j_lo < 0 or i_hi > config.sample_size or j_hi > config.sample_size:\n",
    "#         continue\n",
    "    \n",
    "#     merge_site = bitmap[i_lo:i_hi,j_lo:j_hi]\n",
    "#     merge_site_mask = np.where(merge_site != 0, 1, 0)\n",
    "#     assert pattern.shape == merge_site.shape\n",
    "#     overlap_ratio = np.where(pattern != 0, merge_site_mask, 0).sum() / pattern.sum()\n",
    "\n",
    "#     # if overlap_ratio > 0.75:\n",
    "#     # if overlap_ratio > 0.5:\n",
    "#     # if overlap_ratio > 0.35:\n",
    "#     if overlap_ratio > 0.25:\n",
    "#     # if overlap_ratio > 0.0:\n",
    "#         continue\n",
    "    \n",
    "#     # merge_site = np.where(pattern != 0, radius, merge_site)\n",
    "#     merge_site = merge_site + pattern\n",
    "#     bitmap[i-radius:i+radius+1,j-radius:j+radius+1] = merge_site\n",
    "#     pixel_feature_bitmap_mask = np.zeros_like(bitmap, dtype='f')\n",
    "#     pixel_feature_bitmap_mask[i_lo:i_hi,j_lo:j_hi] = pattern\n",
    "#     pixel_feature_bitmap_mask = pixel_feature_bitmap_mask[bitmap_padding:bitmap_padding+config.sample_size, bitmap_padding:bitmap_padding+config.sample_size]\n",
    "#     pixel_feature_dist_mask = np.full_like(bitmap, config.sample_size, dtype='f')\n",
    "#     pixel_feature_dist_mask[i_lo:i_hi,j_lo:j_hi] = radius_to_dist_pattern[radius]\n",
    "#     pixel_feature = PixelFeature(x=int(xy[0]), y=int(xy[1]), radius=radius, bitmap_mask=pixel_feature_bitmap_mask.ravel(), dist_mask=pixel_feature_dist_mask.ravel())\n",
    "#     pixel_features.append(pixel_feature)\n",
    "\n",
    "#     if len(pixel_features) >= HP_PIXEL_FEATURES_COUNT:\n",
    "#         break\n",
    "    \n",
    "# bitmap = bitmap[bitmap_padding:bitmap_padding+config.sample_size, bitmap_padding:bitmap_padding+config.sample_size]\n",
    "\n",
    "# fig, (ax1, ax2) = plt.subplots(1, 2)\n",
    "# fig.set_figwidth(18)\n",
    "\n",
    "# ax1.set_title(f'Pixel-Features Count={len(pixel_features)}, non-covered area={(bitmap == 0).sum() / (bitmap.shape[0] ** 2) * 100:.1f}%')\n",
    "# im = ax1.imshow(bitmap, cmap='turbo')\n",
    "# fig.colorbar(im, ax=ax1);\n",
    "\n",
    "# random_pixel_feature_ind = rng_for_pixel_features.choice(len(pixel_features))\n",
    "# ax2.set_title(f'Bitmap Mask of Pixel-Feature #{random_pixel_feature_ind}')\n",
    "# im = ax2.imshow(vec_to_square_matrix(pixel_features[random_pixel_feature_ind].bitmap_mask), cmap='bwr')"
   ]
  },
  {
   "cell_type": "code",
   "execution_count": 88,
   "id": "b544b69e-3d29-4906-a9f9-1953657069e8",
   "metadata": {},
   "outputs": [
    {
     "data": {
      "image/png": "[encoded data removed]",
      "text/plain": [
       "<Figure size 1800x480 with 3 Axes>"
      ]
     },
     "metadata": {},
     "output_type": "display_data"
    }
   ],
   "source": [
    "radius = max(radius_to_pattern.keys())\n",
    "\n",
    "mgrid = np.mgrid[0:config.sample_size, 0:config.sample_size]\n",
    "xs = mgrid[0].ravel()\n",
    "ys = mgrid[1].ravel()\n",
    "xy_list = np.vstack([xs, ys]).T\n",
    "assert np.all(np.all((xy_list >= 0) & (xy_list < config.sample_size), axis=1))\n",
    "\n",
    "bitmap_padding = 0\n",
    "bitmap = np.zeros((config.sample_size + bitmap_padding * 2, config.sample_size + bitmap_padding * 2))\n",
    "pixel_features = []\n",
    "\n",
    "# for overlap in [0, 0.25, 0.5]:\n",
    "for overlap in [0]:\n",
    "    for xy in xy_list:\n",
    "        if len(pixel_features) >= HP_PIXEL_FEATURES_COUNT:\n",
    "            break\n",
    "            \n",
    "        if bitmap[xy[1], xy[0]] != 0:\n",
    "            continue\n",
    "\n",
    "        pattern = radius_to_pattern[radius]\n",
    "        i0, j0 = bitmap_padding, bitmap_padding\n",
    "        i = i0 + xy[1]\n",
    "        j = j0 + xy[0]\n",
    "        i_lo = i - radius\n",
    "        i_hi = i + radius + 1\n",
    "        j_lo = j - radius\n",
    "        j_hi = j + radius + 1\n",
    "        \n",
    "        if i_lo < 0 or j_lo < 0 or i_hi > config.sample_size or j_hi > config.sample_size:\n",
    "            continue\n",
    "        \n",
    "        merge_site = bitmap[i_lo:i_hi,j_lo:j_hi]\n",
    "        merge_site_mask = np.where(merge_site != 0, 1, 0)\n",
    "        assert pattern.shape == merge_site.shape\n",
    "        overlap_ratio = np.where(pattern != 0, merge_site_mask, 0).sum() / pattern.sum()\n",
    "    \n",
    "        if overlap_ratio > overlap:\n",
    "            continue\n",
    "        \n",
    "        merge_site = merge_site + pattern\n",
    "        bitmap[i-radius:i+radius+1,j-radius:j+radius+1] = merge_site\n",
    "        pixel_feature_bitmap_mask = np.zeros_like(bitmap, dtype='f')\n",
    "        pixel_feature_bitmap_mask[i_lo:i_hi,j_lo:j_hi] = pattern\n",
    "        pixel_feature_bitmap_mask = pixel_feature_bitmap_mask[bitmap_padding:bitmap_padding+config.sample_size, bitmap_padding:bitmap_padding+config.sample_size]\n",
    "        pixel_feature_dist_mask = np.full_like(bitmap, config.sample_size, dtype='f')\n",
    "        pixel_feature_dist_mask[i_lo:i_hi,j_lo:j_hi] = radius_to_dist_pattern[radius]\n",
    "        pixel_feature = PixelFeature(x=int(xy[0]), y=int(xy[1]), radius=radius, bitmap_mask=pixel_feature_bitmap_mask.ravel(), dist_mask=pixel_feature_dist_mask.ravel())\n",
    "        pixel_features.append(pixel_feature)\n",
    "    \n",
    "bitmap = bitmap[bitmap_padding:bitmap_padding+config.sample_size, bitmap_padding:bitmap_padding+config.sample_size]\n",
    "\n",
    "fig, (ax1, ax2) = plt.subplots(1, 2)\n",
    "fig.set_figwidth(18)\n",
    "\n",
    "ax1.set_title(f'Pixel-Features Count={len(pixel_features)}, non-covered area={(bitmap == 0).sum() / (bitmap.shape[0] ** 2) * 100:.1f}%')\n",
    "im = ax1.imshow(bitmap, cmap='turbo')\n",
    "fig.colorbar(im, ax=ax1);\n",
    "\n",
    "random_pixel_feature_ind = rng_for_pixel_features.choice(len(pixel_features))\n",
    "ax2.set_title(f'Bitmap Mask of Pixel-Feature #{random_pixel_feature_ind}')\n",
    "im = ax2.imshow(vec_to_square_matrix(pixel_features[random_pixel_feature_ind].bitmap_mask), cmap='bwr')"
   ]
  },
  {
   "cell_type": "code",
   "execution_count": 89,
   "id": "b1a43c52-4006-4a8e-a97d-507ee8f69ef7",
   "metadata": {},
   "outputs": [
    {
     "name": "stdout",
     "output_type": "stream",
     "text": [
      "Loaded 3117 pixel features\n",
      "Linked 625 pixel features\n"
     ]
    }
   ],
   "source": [
    "df_pixel_features = pd.read_sql('SELECT x, y, radius, nzb FROM features WHERE encoding=:encoding AND type=:type', \n",
    "                                params={'encoding': HP_SIGNAL_ENCODING, 'type': 'pixel'}, con=transfs_db_con)\n",
    "db_pixel_features_dict = dict(map(lambda p: ((p.x, p.y, p.radius), nzb_to_sbv(pickle.loads(p.nzb), HP_SIGNAL_VEC_LEN)), df_pixel_features.itertuples()))\n",
    "unique_sbv_keys = set(map(lambda sbv: tuple(sorted(map(int, np.flatnonzero(sbv)))), db_pixel_features_dict.values()))\n",
    "assert len(unique_sbv_keys) == len(db_pixel_features_dict)\n",
    "print(f'Loaded {len(unique_sbv_keys)} pixel features')\n",
    "new_pixel_features = []\n",
    "linked_count = 0\n",
    "\n",
    "for pf in pixel_features:\n",
    "    key = (pf.x, pf.y, pf.radius)\n",
    "\n",
    "    if key in db_pixel_features_dict:\n",
    "        pf.sbv = db_pixel_features_dict[key]\n",
    "        linked_count += 1\n",
    "        continue\n",
    "        \n",
    "    attempts_to_generate_unique_sbv = 10\n",
    "    sbv = np.zeros(HP_SIGNAL_VEC_LEN, dtype='f')\n",
    "\n",
    "    for _ in range(attempts_to_generate_unique_sbv):\n",
    "        ii = RNG.choice(HP_SIGNAL_VEC_LEN, HP_SIGNAL_VEC_NON_ZERO_BITS, replace=False)\n",
    "        sbv_key = tuple(sorted(ii))\n",
    "\n",
    "        if not sbv_key in unique_sbv_keys:\n",
    "            sbv[ii] = 1\n",
    "            unique_sbv_keys.add(sbv_key)\n",
    "            break\n",
    "    else:\n",
    "        assert False, f'Failed to get unique SBV for pixel feature within {attempts_to_generate_unique_sbv} attempts'\n",
    "\n",
    "    new_pixel_features.append(pf)\n",
    "    pf.sbv = sbv\n",
    "\n",
    "print(f'Linked {linked_count} pixel features')\n",
    "\n",
    "if new_pixel_features:\n",
    "    transfs_db_con.autocommit = False\n",
    "    \n",
    "    for pf in tqdm(new_pixel_features, desc='Persiting'):\n",
    "        transfs_db_con.execute('INSERT INTO features(encoding, type, x, y, radius, bitmap_mask_nzb, nzb) VALUES (:encoding, :type, :x, :y, :radius, :bitmap_mask_nzb, :nzb)',\n",
    "                               {\n",
    "                                   'encoding': HP_SIGNAL_ENCODING, \n",
    "                                   'type': 'pixel', \n",
    "                                   'x': pf.x, \n",
    "                                   'y': pf.y, \n",
    "                                   'radius': pf.radius, \n",
    "                                   'bitmap_mask_nzb': pickle.dumps(sbv_to_nzb(pf.bitmap_mask)),\n",
    "                                   'nzb': pickle.dumps(sbv_to_nzb(pf.sbv))\n",
    "                               })\n",
    "\n",
    "    transfs_db_con.autocommit = True\n",
    "    print(f'Created and persisted {len(new_pixel_features)} new pixel features')\n",
    "\n",
    "PIXEL_FEATURE_SBVS = np.array(list(map(lambda pf: pf.sbv, pixel_features)))\n",
    "PIXEL_FEATURE_BITMAP_MASKS = np.array(list(map(lambda pf: pf.bitmap_mask, pixel_features)))\n",
    "PIXEL_FEATURE_DIST_MASKS = np.array(list(map(lambda pf: pf.dist_mask, pixel_features)))\n",
    "PIXEL_FEATURE_XY_ARRAY = np.array(list(map(lambda pf: (pf.x, pf.y), pixel_features)))"
   ]
  },
  {
   "cell_type": "code",
   "execution_count": 90,
   "id": "b832999d-38af-4cc2-8bb3-de740eabb24b",
   "metadata": {},
   "outputs": [
    {
     "data": {
      "application/vnd.jupyter.widget-view+json": {
       "model_id": "346a387b24c544abb607ba820b0990b1",
       "version_major": 2,
       "version_minor": 0
      },
      "text/plain": [
       "  0%|          | 0/2000 [00:00<?, ?it/s]"
      ]
     },
     "metadata": {},
     "output_type": "display_data"
    }
   ],
   "source": [
    "df_train_images_ = df_train_images.head(2000)\n",
    "# df_train_images_ = df_train_images\n",
    "gpu_pixel_feature_bitmap_masks = xp_array_to_gpu(PIXEL_FEATURE_BITMAP_MASKS)\n",
    "PIXEL_FEATURE_FREQS = np.zeros(PIXEL_FEATURE_SBVS.shape[0], dtype='i')\n",
    "\n",
    "for image in tqdm(df_train_images_.itertuples(), total=len(df_train_images_)):\n",
    "    sequences = pickle.loads(image.inner_sequences)\n",
    "    si_ind_dict = pickle.loads(image.inner_si_ind_dict)\n",
    "    xy_list_full = get_xy_sequence(get_sequence(sequences), si_ind_dict)\n",
    "    ohe_vec = xy_list_to_ohe_vec(xy_list_full)\n",
    "    ohe_vec = xp_array_to_gpu(ohe_vec)\n",
    "    pixel_feature_inds = np.flatnonzero(gpu_pixel_feature_bitmap_masks @ ohe_vec)\n",
    "    pixel_feature_inds = xp_array_from_gpu(pixel_feature_inds)\n",
    "    PIXEL_FEATURE_FREQS[pixel_feature_inds] += 1\n",
    "\n",
    "ACTIVE_PIXEL_FEATURES_COUNT = np.count_nonzero(PIXEL_FEATURE_FREQS)"
   ]
  },
  {
   "cell_type": "code",
   "execution_count": 91,
   "id": "db7ee713-4923-4b05-a16a-9a9266f5a9f6",
   "metadata": {},
   "outputs": [
    {
     "data": {
      "image/png": "[encoded data removed]",
      "text/plain": [
       "<Figure size 1800x480 with 3 Axes>"
      ]
     },
     "metadata": {},
     "output_type": "display_data"
    }
   ],
   "source": [
    "bitmap = np.zeros((config.sample_size, config.sample_size), dtype='i')\n",
    "assert PIXEL_FEATURE_BITMAP_MASKS.shape[0] == PIXEL_FEATURE_FREQS.shape[0]\n",
    "\n",
    "for mask, freq in zip(xp_array_from_gpu(PIXEL_FEATURE_BITMAP_MASKS), PIXEL_FEATURE_FREQS):\n",
    "    mask_with_freq = np.where(mask, freq, 0)\n",
    "    bitmap += mask_with_freq.reshape(bitmap.shape)\n",
    "\n",
    "fig, (ax1, ax2) = plt.subplots(1, 2)\n",
    "fig.set_figwidth(18)\n",
    "\n",
    "ax1.set_title(f'Frequency Map of Pixel Features')\n",
    "im = ax1.imshow(bitmap, cmap='turbo')\n",
    "fig.colorbar(im, ax=ax1)\n",
    "\n",
    "pixel_feature_freqs_sorted_desc = -np.sort(-PIXEL_FEATURE_FREQS)\n",
    "percentile = 1\n",
    "ind = int(np.count_nonzero(pixel_feature_freqs_sorted_desc) * percentile)\n",
    "freq_thres = pixel_feature_freqs_sorted_desc[ind-1]\n",
    "# bitmap2 = np.where(bitmap, 1, 0)\n",
    "bitmap2 = np.where(PIXEL_FEATURE_BITMAP_MASKS[(PIXEL_FEATURE_FREQS >= freq_thres)].sum(axis=0), 1, 0)\n",
    "# bitmap2 = xp_array_from_gpu(bitmap2)\n",
    "bitmap2 = vec_to_square_matrix(bitmap2)\n",
    "# a = (PIXEL_FEATURE_FREQS > 0).sum()\n",
    "a = (PIXEL_FEATURE_FREQS >= freq_thres).sum()\n",
    "b = PIXEL_FEATURE_BITMAP_MASKS.shape[0]\n",
    "ax2.set_title(f'Binary Frequency Map of Pixel Features, {a} / {b} ({a / b * 100:.1f}%), freq_thres={freq_thres}')\n",
    "ax2.imshow(bitmap2);"
   ]
  },
  {
   "cell_type": "markdown",
   "id": "ad92bf7c-ae67-4312-900a-adb12769a5e7",
   "metadata": {},
   "source": [
    "## Transformations"
   ]
  },
  {
   "cell_type": "code",
   "execution_count": 92,
   "id": "4287bb50-b460-4bdd-8d19-322e30669418",
   "metadata": {},
   "outputs": [],
   "source": [
    "def get_rotate_transf(deg):\n",
    "    half_sz = config.sample_size / 2\n",
    "    move_to_ooc_transf = np.array([\n",
    "        [1, 0, -half_sz],\n",
    "        [0, 1, -half_sz],\n",
    "        [0, 0, 1]])\n",
    "    theta = np.deg2rad(deg)\n",
    "    cos_theta = math.cos(theta)\n",
    "    sin_theta = math.sin(theta)\n",
    "    rotate_transf = np.array([\n",
    "        [cos_theta, -sin_theta, 0],\n",
    "        [sin_theta, cos_theta, 0],\n",
    "        [0, 0, 1]\n",
    "    ])\n",
    "    move_to_target_loc_transf = np.array([\n",
    "        [1, 0, half_sz],\n",
    "        [0, 1, half_sz],\n",
    "        [0, 0, 1]])\n",
    "    return move_to_target_loc_transf @ rotate_transf @ move_to_ooc_transf\n",
    "\n",
    "def get_offset_transf(dx=0, dy=0):\n",
    "    return np.array([\n",
    "        [1, 0, dx],\n",
    "        [0, 1, dy],\n",
    "        [0, 0, 1]])"
   ]
  },
  {
   "cell_type": "code",
   "execution_count": 93,
   "id": "d53d9c0e-7546-4979-a953-0b8f46f1ce48",
   "metadata": {},
   "outputs": [],
   "source": [
    "transfs = {\n",
    "    'offset_10_0': get_offset_transf(10, 0),\n",
    "    'offset_1_0': get_offset_transf(1, 0),\n",
    "    'offset_-1_0': get_offset_transf(-1, 0),\n",
    "    'offset_0_1': get_offset_transf(0, 1),\n",
    "    'offset_1_1': get_offset_transf(1, 1),\n",
    "    'offset_5_0': get_offset_transf(5, 0),\n",
    "    'rotate_45': get_rotate_transf(45),\n",
    "    'rotate_90': get_rotate_transf(90),\n",
    "}\n",
    "TRANSF_CODE = 'rotate_45'\n",
    "TRANSF = transfs[TRANSF_CODE]"
   ]
  },
  {
   "cell_type": "markdown",
   "id": "61d38b52-00d2-4c2b-9e59-ab1e62f83ec5",
   "metadata": {},
   "source": [
    "## XY List <-> Pixel Features"
   ]
  },
  {
   "cell_type": "code",
   "execution_count": 94,
   "id": "3f8469ab-48b7-462b-864b-274b9e91b1b7",
   "metadata": {},
   "outputs": [],
   "source": [
    "def xy_list_to_pixel_feature_inds(xy_list):\n",
    "    ohe_vec = xy_list_to_ohe_vec(xy_list)\n",
    "    # ohe_vec = xp_array_to_gpu(ohe_vec)\n",
    "    inds = np.flatnonzero(PIXEL_FEATURE_BITMAP_MASKS @ ohe_vec)\n",
    "    # return xp_array_from_gpu(inds)\n",
    "    return inds\n",
    "\n",
    "def xy_list_to_nearest_pixel_feature_inds(xy_list):\n",
    "    valid_boolmap = np.all(((xy_list >= 0) & (xy_list < config.sample_size)), axis=1)\n",
    "    xy_list = xy_list[valid_boolmap]\n",
    "    inds = xy_list @ np.array([1, config.sample_size])\n",
    "    vecs = np.zeros((inds.shape[0], config.sample_size ** 2), dtype='f')\n",
    "\n",
    "    for i, j in enumerate(inds):\n",
    "        vecs[i,j] = 1\n",
    "\n",
    "    # compute matrix where rows correspond to xy pairs and columns correspond to pixel features\n",
    "    # value in cell [i,j] == dist_from_xy[i]_to_center_of_pixel_feature[j]\n",
    "    mat = vecs @ PIXEL_FEATURE_DIST_MASKS.T\n",
    "    # for each xy get index of pixel feature which has minimal distance to center of pixel feature\n",
    "    t = np.argmin(mat, axis=1)\n",
    "    # if row consists of dists which exceed config.sample_size then np.argmin has no sense for such row (it means that there is no match with any pixel feature),\n",
    "    # as such - exclude such row from consideration\n",
    "    rows_with_good_values_boolmap = np.any(mat < config.sample_size, axis=1)\n",
    "    t = t[rows_with_good_values_boolmap]\n",
    "    return np.unique(t)"
   ]
  },
  {
   "cell_type": "markdown",
   "id": "de4fc099-261c-469e-b3f7-e52868634935",
   "metadata": {},
   "source": [
    "## Signals Generator"
   ]
  },
  {
   "cell_type": "code",
   "execution_count": 95,
   "id": "b5c7f3ec-4599-4d2b-8031-44ef454ee41f",
   "metadata": {},
   "outputs": [],
   "source": [
    "SignalsGeneratorResult = namedtuple('SignalsGeneratorResult', \n",
    "                                    ['signals_input', 'signals_output', # SBV\n",
    "                                     'signal_ids', \n",
    "                                     'signal_xy_lists_input', 'signal_xy_lists_output', \n",
    "                                     'xy_list_full'])\n",
    "DummySignalsGeneratorResult = lambda: SignalsGeneratorResult([], [], [], [], [], [])"
   ]
  },
  {
   "cell_type": "markdown",
   "id": "cb595d40-bf06-496a-8f56-71d64b706724",
   "metadata": {},
   "source": [
    "### RealImageSignalsGenerator"
   ]
  },
  {
   "cell_type": "code",
   "execution_count": 96,
   "id": "7658b6e8-c858-46ea-b72f-572c22e14e74",
   "metadata": {},
   "outputs": [],
   "source": [
    "# For each image generate number of signals (image_variants_count) by randomly select of si_ind and convert this si_ind to pixel features\n",
    "class RealImageSignalsGenerator:\n",
    "    def __init__(self, transf, signals_count, image_variants_count, logger=lambda m: True):\n",
    "        self.transf = transf\n",
    "        self.signals_count = signals_count\n",
    "        assert image_variants_count > 0\n",
    "        self.image_variants_count = image_variants_count\n",
    "\n",
    "        self.image_id = -1\n",
    "        self.image_variants_count_for_image_id = 0\n",
    "        self.image_variants_generated = 0\n",
    "        self.xy_list_full = []\n",
    "        self.xy_list_inds_count = -1\n",
    "        \n",
    "    def __call__(self):\n",
    "        signals_input = []\n",
    "        signals_output = []\n",
    "        signal_ids = []\n",
    "        signal_xy_lists_input = []\n",
    "        signal_xy_lists_output = []\n",
    "\n",
    "        while len(signals_input) < self.signals_count:\n",
    "            if self.image_id == -1 or self.image_variants_generated >= self.image_variants_count_for_image_id:\n",
    "                # the very first call or variants of current image are exhausted, switch to next image\n",
    "                self.image_id = int(RNG.choice(df_train_images.index))\n",
    "                self.image_variants_generated = 0\n",
    "                image = df_train_images.loc[self.image_id]\n",
    "                # pickle.loads consumes almost 50% of the time of execution of generate() :=(\n",
    "                sequences = pickle.loads(image.inner_sequences)\n",
    "                si_ind_dict = pickle.loads(image.inner_si_ind_dict)\n",
    "                xy_list_full = get_xy_sequence(get_sequence(sequences), si_ind_dict)\n",
    "                self.xy_list_full = xy_list_full\n",
    "                \n",
    "                xy_list_inds_count = min(xy_list_full.shape[0], HP_SIGNAL_VEC_FEATURES_COUNT)\n",
    "                xy_list_combinations_count = math.comb(xy_list_full.shape[0], xy_list_inds_count)\n",
    "\n",
    "                if xy_list_combinations_count >= self.image_variants_count:\n",
    "                    self.xy_list_inds_count = xy_list_inds_count\n",
    "                    self.image_variants_count_for_image_id = self.image_variants_count\n",
    "                else:\n",
    "                    assert xy_list_inds_count > 0\n",
    "                    xy_list_inds_count_to_combinations_count = Counter()\n",
    "                \n",
    "                    for inds_count in range(xy_list_inds_count, 0, -1):\n",
    "                        xy_list_inds_count_to_combinations_count[inds_count] = math.comb(xy_list_full.shape[0], inds_count)\n",
    "\n",
    "                    xy_list_inds_count_with_most_variants = xy_list_inds_count_to_combinations_count.most_common(1)[0]\n",
    "                    self.xy_list_inds_count = xy_list_inds_count_with_most_variants[0]\n",
    "                    self.image_variants_count_for_image_id = min(self.image_variants_count, xy_list_inds_count_with_most_variants[1])\n",
    "            \n",
    "                self.xy_list_inds_count > 0\n",
    "                self.xy_list_inds_count <= self.xy_list_full.shape[0]\n",
    "                assert self.image_variants_count_for_image_id > 0, self.image_variants_count_for_image_id\n",
    "                assert self.image_variants_count_for_image_id <= self.image_variants_count, self.image_variants_count_for_image_id\n",
    "\n",
    "            xy_list_inds = RNG.choice(self.xy_list_full.shape[0], self.xy_list_inds_count, replace=False)\n",
    "            xy_list_origin = self.xy_list_full[xy_list_inds]\n",
    "            ###\n",
    "            xy_list_origin = PIXEL_FEATURE_XY_ARRAY[xy_list_to_pixel_feature_inds(xy_list_origin)]\n",
    "            ###\n",
    "            xy_list_transf = np.hstack([xy_list_origin, np.ones(xy_list_origin.shape[0])[:,np.newaxis]]) # make homogeneous coords\n",
    "            xy_list_transf = (self.transf @ xy_list_transf.T).T[:,:2]\n",
    "            xy_list_transf = np.round(xy_list_transf, decimals=0).astype(int)\n",
    "            xy_list_origin_sbv = bundle_sbvs(PIXEL_FEATURE_SBVS[xy_list_to_pixel_feature_inds(xy_list_origin)])\n",
    "            xy_list_transf_sbv = bundle_sbvs(PIXEL_FEATURE_SBVS[xy_list_to_pixel_feature_inds(xy_list_transf)])\n",
    "            assert xy_list_origin_sbv.shape[0] == HP_SIGNAL_VEC_LEN\n",
    "            assert xy_list_transf_sbv.shape[0] == HP_SIGNAL_VEC_LEN\n",
    "            \n",
    "            self.image_variants_generated += 1\n",
    "            signals_input.append(xy_list_origin_sbv)\n",
    "            signals_output.append(xy_list_transf_sbv)\n",
    "            signal_ids.append((self.image_id, tuple(map(int, sorted(xy_list_inds)))))\n",
    "            signal_xy_lists_input.append(xy_list_origin)\n",
    "            signal_xy_lists_output.append(xy_list_transf)\n",
    "\n",
    "        assert len(signals_input) == len(signals_output)\n",
    "        assert len(signals_input) == len(signal_ids)\n",
    "        assert len(signals_input) == len(signal_xy_lists_input)\n",
    "        assert len(signals_input) == len(signal_xy_lists_output)\n",
    "        return SignalsGeneratorResult(signals_input=np.vstack(signals_input), \n",
    "                                      signals_output=np.vstack(signals_output), \n",
    "                                      signal_ids=signal_ids,\n",
    "                                      signal_xy_lists_input=signal_xy_lists_input,\n",
    "                                      signal_xy_lists_output=signal_xy_lists_output,\n",
    "                                      xy_list_full=self.xy_list_full)\n",
    "\n",
    "    def switch(self):\n",
    "        pass"
   ]
  },
  {
   "cell_type": "code",
   "execution_count": 97,
   "id": "2b0e17c6-76e4-468c-aef6-0ab313fd94f3",
   "metadata": {},
   "outputs": [],
   "source": [
    "generator = RealImageSignalsGenerator(TRANSF, 100, 10)"
   ]
  },
  {
   "cell_type": "code",
   "execution_count": 98,
   "id": "f43d9bc0-6bba-430b-b426-d0c9e67ea094",
   "metadata": {},
   "outputs": [
    {
     "name": "stdout",
     "output_type": "stream",
     "text": [
      "CPU times: user 7.97 s, sys: 5.08 ms, total: 7.98 s\n",
      "Wall time: 129 ms\n"
     ]
    }
   ],
   "source": [
    "%%time\n",
    "sgr = generator()\n",
    "signal_ind = 0"
   ]
  },
  {
   "cell_type": "code",
   "execution_count": 99,
   "id": "72a4b162-f21a-4183-a1cf-d871c15b7e04",
   "metadata": {},
   "outputs": [
    {
     "data": {
      "image/png": "[encoded data removed]",
      "text/plain": [
       "<Figure size 1600x480 with 3 Axes>"
      ]
     },
     "metadata": {},
     "output_type": "display_data"
    }
   ],
   "source": [
    "# signal_ind = RNG.choice(len(sgr.signals_output))\n",
    "# signal_ind = 19\n",
    "signal_ind = (signal_ind + 1) % len(sgr.signals_output)\n",
    "pixel_feature_inds = debundle_sbv(sgr.signals_output[signal_ind], PIXEL_FEATURE_SBVS, HP_SIGNAL_VEC_NON_ZERO_BITS)\n",
    "bm_output = PIXEL_FEATURE_BITMAP_MASKS[pixel_feature_inds].sum(axis=0)\n",
    "bm_output = xp_array_from_gpu(bm_output)\n",
    "    \n",
    "fig, (ax1, ax2, ax3) = plt.subplots(1, 3)\n",
    "fig.set_figwidth(16)\n",
    "ax1.set_title(f'Input #{signal_ind}: {sgr.signal_xy_lists_input[signal_ind].shape[0]} xy items')\n",
    "ax1.imshow(vec_to_square_matrix(xy_list_to_ohe_vec(sgr.signal_xy_lists_input[signal_ind])))\n",
    "ax2.set_title(f'Transformed: {sgr.signal_xy_lists_output[signal_ind].shape[0]} xy items')\n",
    "ax2.imshow(vec_to_square_matrix(xy_list_to_ohe_vec(sgr.signal_xy_lists_output[signal_ind])))\n",
    "ax3.set_title(f'Decoded from SBV: {np.count_nonzero(pixel_feature_inds)} pixel features')\n",
    "ax3.imshow(vec_to_square_matrix(bm_output));"
   ]
  },
  {
   "cell_type": "markdown",
   "id": "8584e695-2870-4f02-861c-3217675901f3",
   "metadata": {},
   "source": [
    "### FixedPixelFeatureSignalsGenerator"
   ]
  },
  {
   "cell_type": "code",
   "execution_count": 100,
   "id": "482b9dad-fc72-4610-b1b3-30d2d58f6617",
   "metadata": {},
   "outputs": [],
   "source": [
    "# one pixel feature is fixed for a number calls (fixation period) and remaining features are randomly picked according to their frequency\n",
    "class FixedPixelFeatureSignalsGenerator:\n",
    "    def __init__(self, transf, signals_count, fixation_period, logger=lambda m: True):\n",
    "        self.transf = transf\n",
    "        self.signals_count = signals_count\n",
    "        assert fixation_period > 0\n",
    "        self.fixation_period = fixation_period\n",
    "        self.fixation_countdown = self.fixation_period\n",
    "        self.fixed_pixel_feature_ind = -1\n",
    "        self.pixel_feature_inds_sorted_by_freq_desc = np.argsort(-PIXEL_FEATURE_FREQS)\n",
    "        # strip pixel features which have zero freqs, i.o.w. leave only those with nonzero\n",
    "        active_pixel_features_count = np.count_nonzero(PIXEL_FEATURE_FREQS)\n",
    "        assert active_pixel_features_count > 0\n",
    "        self.pixel_feature_inds_sorted_by_freq_desc = self.pixel_feature_inds_sorted_by_freq_desc[:active_pixel_features_count]\n",
    "        assert self.pixel_feature_inds_sorted_by_freq_desc.shape[0] == active_pixel_features_count\n",
    "        self.pixel_feature_inds = np.arange(PIXEL_FEATURE_SBVS.shape[0])\n",
    "        \n",
    "    def __call__(self):\n",
    "        signals_input = [] # SBV\n",
    "        signals_output = [] # SBV\n",
    "        signal_ids = []\n",
    "        signal_xy_lists_input = []\n",
    "        signal_xy_lists_output = []\n",
    "\n",
    "        while len(signals_input) < self.signals_count:\n",
    "            if self.fixed_pixel_feature_ind == -1 or self.fixation_countdown <= 0:\n",
    "                self.fixed_pixel_feature_ind = self.pixel_feature_inds_sorted_by_freq_desc[0]\n",
    "                self.pixel_feature_inds_sorted_by_freq_desc = np.roll(self.pixel_feature_inds_sorted_by_freq_desc, -1)\n",
    "                # temporarily ban fixed pixel feature from being picked up as a free one\n",
    "                self.free_pixel_feature_probs = PIXEL_FEATURE_FREQS[:].astype('f')\n",
    "                self.free_pixel_feature_probs[self.fixed_pixel_feature_ind] = 0\n",
    "                self.free_pixel_feature_probs /= self.free_pixel_feature_probs.sum()\n",
    "                self.fixation_countdown = self.fixation_period\n",
    "\n",
    "            assert self.fixed_pixel_feature_ind != -1\n",
    "            # pick up remaining pixel feature (via their probabilities) excluding fixed pixel feature\n",
    "            free_pixel_feature_inds = RNG.choice(self.pixel_feature_inds, HP_SIGNAL_VEC_FEATURES_COUNT-1, p=self.free_pixel_feature_probs, replace=False)\n",
    "            pixel_feature_inds_input = np.hstack([self.fixed_pixel_feature_ind, free_pixel_feature_inds])\n",
    "            assert pixel_feature_inds_input.shape[0] == HP_SIGNAL_VEC_FEATURES_COUNT\n",
    "\n",
    "            xy_list_input = PIXEL_FEATURE_XY_ARRAY[pixel_feature_inds_input]\n",
    "            xy_list_transf = np.hstack([xy_list_input, np.ones(xy_list_input.shape[0])[:,np.newaxis]]) # make homogeneous coords\n",
    "            xy_list_transf = (self.transf @ xy_list_transf.T).T[:,:2]\n",
    "            xy_list_transf = np.round(xy_list_transf, decimals=0).astype(int)\n",
    "            # pixel_feature_inds_output = xy_list_to_nearest_pixel_feature_inds(xy_list_transf) # must be used when there is overlap among pixel features\n",
    "            # pixel_feature_inds_output = xy_list_to_pixel_feature_inds(xy_list_transf) # can be used when there is no overlap among pixel features\n",
    "            pixel_feature_inds_output = xy_list_to_pixel_feature_inds(xy_list_transf) # can be used when there is no overlap among pixel features\n",
    "            xy_list_output = PIXEL_FEATURE_XY_ARRAY[pixel_feature_inds_output]\n",
    "            xy_list_input_sbv = bundle_sbvs(PIXEL_FEATURE_SBVS[pixel_feature_inds_input])\n",
    "            xy_list_output_sbv = bundle_sbvs(PIXEL_FEATURE_SBVS[pixel_feature_inds_output])\n",
    "            assert xy_list_input_sbv.shape[0] == HP_SIGNAL_VEC_LEN\n",
    "            assert xy_list_output_sbv.shape[0] == HP_SIGNAL_VEC_LEN\n",
    "            self.fixation_countdown -= 1\n",
    "            \n",
    "            signals_input.append(xy_list_input_sbv)\n",
    "            signals_output.append(xy_list_output_sbv)\n",
    "            signal_ids.append(tuple(map(int, sorted(pixel_feature_inds_input))))\n",
    "            signal_xy_lists_input.append(xy_list_input)\n",
    "            signal_xy_lists_output.append(xy_list_output)\n",
    "\n",
    "        assert len(signals_input) == len(signals_output)\n",
    "        assert len(signals_input) == len(signal_ids)\n",
    "        assert len(signals_input) == len(signal_xy_lists_input)\n",
    "        assert len(signals_input) == len(signal_xy_lists_output)\n",
    "        return SignalsGeneratorResult(signals_input=np.vstack(signals_input), \n",
    "                                      signals_output=np.vstack(signals_output),\n",
    "                                      signal_ids=signal_ids,\n",
    "                                      signal_xy_lists_input=signal_xy_lists_input,\n",
    "                                      signal_xy_lists_output=signal_xy_lists_output,\n",
    "                                      xy_list_full=[])\n",
    "\n",
    "    def switch(self):\n",
    "        pass"
   ]
  },
  {
   "cell_type": "code",
   "execution_count": 101,
   "id": "5fbf6b35-2f32-480d-b83a-e7c5b4e2f423",
   "metadata": {},
   "outputs": [],
   "source": [
    "generator = FixedPixelFeatureSignalsGenerator(TRANSF, 100, 10)"
   ]
  },
  {
   "cell_type": "code",
   "execution_count": 102,
   "id": "3092b3c0-a77d-45f9-b61a-9ae7490cba91",
   "metadata": {},
   "outputs": [
    {
     "name": "stdout",
     "output_type": "stream",
     "text": [
      "CPU times: user 4.61 s, sys: 2.98 ms, total: 4.62 s\n",
      "Wall time: 73.8 ms\n"
     ]
    }
   ],
   "source": [
    "%%time\n",
    "sgr = generator()\n",
    "signal_ind = 0"
   ]
  },
  {
   "cell_type": "code",
   "execution_count": 103,
   "id": "7ff48a2a-53f3-4de0-b904-3a25a9d6bc34",
   "metadata": {},
   "outputs": [
    {
     "data": {
      "image/png": "[encoded data removed]",
      "text/plain": [
       "<Figure size 1600x480 with 3 Axes>"
      ]
     },
     "metadata": {},
     "output_type": "display_data"
    }
   ],
   "source": [
    "# signal_ind = RNG.choice(len(sgr.signals_output))\n",
    "# signal_ind = 19\n",
    "signal_ind = (signal_ind + 1) % len(sgr.signals_output)\n",
    "pixel_feature_inds = debundle_sbv(sgr.signals_output[signal_ind], PIXEL_FEATURE_SBVS, HP_SIGNAL_VEC_NON_ZERO_BITS)\n",
    "bm_output = PIXEL_FEATURE_BITMAP_MASKS[pixel_feature_inds].sum(axis=0)\n",
    "bm_output = xp_array_from_gpu(bm_output)\n",
    "    \n",
    "fig, (ax1, ax2, ax3) = plt.subplots(1, 3)\n",
    "fig.set_figwidth(16)\n",
    "ax1.set_title(f'Input #{signal_ind}: {sgr.signal_xy_lists_input[signal_ind].shape[0]} xy items')\n",
    "t = xy_list_to_ohe_vec(sgr.signal_xy_lists_input[signal_ind])\n",
    "t[PIXEL_FEATURE_XY_ARRAY[generator.fixed_pixel_feature_ind] @ [1, config.sample_size]] = 2\n",
    "ax1.imshow(vec_to_square_matrix(t))\n",
    "ax2.set_title(f'Transformed: {sgr.signal_xy_lists_output[signal_ind].shape[0]} xy items')\n",
    "ax2.imshow(vec_to_square_matrix(xy_list_to_ohe_vec(sgr.signal_xy_lists_output[signal_ind])))\n",
    "ax3.set_title(f'Decoded from SBV: {np.count_nonzero(pixel_feature_inds)} pixel features')\n",
    "ax3.imshow(vec_to_square_matrix(bm_output));"
   ]
  },
  {
   "cell_type": "markdown",
   "id": "b6cdc2e5-a4e6-4020-83c8-70d9235c4c0b",
   "metadata": {},
   "source": [
    "### RollingPixelFeatureSignalsGenerator"
   ]
  },
  {
   "cell_type": "code",
   "execution_count": 104,
   "id": "9788b21c-d563-4cc7-9170-e671925bb04d",
   "metadata": {},
   "outputs": [],
   "source": [
    "# On every call specified number (fresh_count) of pixel features is replaced with a fresh ones\n",
    "class RollingPixelFeatureSignalsGenerator:\n",
    "    def __init__(self, transf, signals_count, fresh_count, logger=lambda m: True):\n",
    "        self.transf = transf\n",
    "        self.signals_count = signals_count\n",
    "        assert fresh_count > 0\n",
    "        self.fresh_count = fresh_count\n",
    "        self.pixel_feature_inds_fifo = np.array([])\n",
    "        self.pixel_feature_inds_set = set()\n",
    "        self.pixel_feature_probs = PIXEL_FEATURE_FREQS[:].astype('f')\n",
    "        self.pixel_feature_probs /= self.pixel_feature_probs.sum()\n",
    "        self.pixel_features_count = PIXEL_FEATURE_FREQS.shape[0]\n",
    "        \n",
    "    def __call__(self):\n",
    "        signals_input = [] # SBV\n",
    "        signals_output = [] # SBV\n",
    "        signal_ids = []\n",
    "        signal_xy_lists_input = []\n",
    "        signal_xy_lists_output = []\n",
    "\n",
    "        while len(signals_input) < self.signals_count:\n",
    "            if self.pixel_feature_inds_fifo.shape[0] == 0:\n",
    "                self.pixel_feature_inds_fifo = RNG.choice(self.pixel_features_count, HP_SIGNAL_VEC_FEATURES_COUNT, p=self.pixel_feature_probs, replace=False)\n",
    "                self.pixel_feature_inds_set = set(self.pixel_feature_inds_fifo)\n",
    "            else:\n",
    "                fresh_pixel_features_gathered = 0\n",
    "                \n",
    "                for _ in range(self.fresh_count):\n",
    "                    for _ in range(self.pixel_features_count):\n",
    "                        new_pixel_feature_ind = RNG.choice(self.pixel_features_count, p=self.pixel_feature_probs)\n",
    "\n",
    "                        if not new_pixel_feature_ind in self.pixel_feature_inds_set:\n",
    "                            self.pixel_feature_inds_fifo = np.hstack([self.pixel_feature_inds_fifo, new_pixel_feature_ind])\n",
    "                            self.pixel_feature_inds_set.add(new_pixel_feature_ind)\n",
    "                            fresh_pixel_features_gathered += 1\n",
    "                            break\n",
    "                    else:\n",
    "                        # failed to find new pixel feature ind which is not within self.pixel_feature_inds_fifo, =(\n",
    "                        # maybe next call will be more successful...\n",
    "                        pass\n",
    "\n",
    "                assert fresh_pixel_features_gathered >=0 and fresh_pixel_features_gathered <= self.fresh_count, fresh_pixel_features_gathered\n",
    "                removed_pixel_feature_inds = self.pixel_feature_inds_fifo[:fresh_pixel_features_gathered]\n",
    "                self.pixel_feature_inds_fifo = self.pixel_feature_inds_fifo[fresh_pixel_features_gathered:]\n",
    "                for ind in removed_pixel_feature_inds: self.pixel_feature_inds_set.remove(ind)\n",
    "\n",
    "            pixel_feature_inds_input = self.pixel_feature_inds_fifo\n",
    "            xy_list_input = PIXEL_FEATURE_XY_ARRAY[pixel_feature_inds_input]\n",
    "            xy_list_transf = np.hstack([xy_list_input, np.ones(xy_list_input.shape[0])[:,np.newaxis]]) # make homogeneous coords\n",
    "            xy_list_transf = (self.transf @ xy_list_transf.T).T[:,:2]\n",
    "            xy_list_transf = np.round(xy_list_transf, decimals=0).astype(int)\n",
    "            # pixel_feature_inds_output = xy_list_to_nearest_pixel_feature_inds(xy_list_transf) # must be used when there is overlap among pixel features\n",
    "            # pixel_feature_inds_output = xy_list_to_pixel_feature_inds(xy_list_transf) # can be used when there is no overlap among pixel features\n",
    "            pixel_feature_inds_output = xy_list_to_pixel_feature_inds(xy_list_transf) # can be used when there is no overlap among pixel features\n",
    "            xy_list_output = PIXEL_FEATURE_XY_ARRAY[pixel_feature_inds_output]\n",
    "            xy_list_input_sbv = bundle_sbvs(PIXEL_FEATURE_SBVS[pixel_feature_inds_input])\n",
    "            xy_list_output_sbv = bundle_sbvs(PIXEL_FEATURE_SBVS[pixel_feature_inds_output])\n",
    "            assert xy_list_input_sbv.shape[0] == HP_SIGNAL_VEC_LEN\n",
    "            assert xy_list_output_sbv.shape[0] == HP_SIGNAL_VEC_LEN\n",
    "            \n",
    "            signals_input.append(xy_list_input_sbv)\n",
    "            signals_output.append(xy_list_output_sbv)\n",
    "            signal_ids.append(tuple(map(int, sorted(pixel_feature_inds_input))))\n",
    "            signal_xy_lists_input.append(xy_list_input)\n",
    "            signal_xy_lists_output.append(xy_list_output)\n",
    "\n",
    "        assert len(signals_input) == len(signals_output)\n",
    "        assert len(signals_input) == len(signal_ids)\n",
    "        assert len(signals_input) == len(signal_xy_lists_input)\n",
    "        assert len(signals_input) == len(signal_xy_lists_output)\n",
    "        return SignalsGeneratorResult(signals_input=np.vstack(signals_input), \n",
    "                                      signals_output=np.vstack(signals_output),\n",
    "                                      signal_ids=signal_ids,\n",
    "                                      signal_xy_lists_input=signal_xy_lists_input,\n",
    "                                      signal_xy_lists_output=signal_xy_lists_output,\n",
    "                                      xy_list_full=[])\n",
    "\n",
    "    def switch(self):\n",
    "        pass"
   ]
  },
  {
   "cell_type": "code",
   "execution_count": 105,
   "id": "7818f44c-2b09-45da-be87-407ff05b8245",
   "metadata": {},
   "outputs": [],
   "source": [
    "generator = RollingPixelFeatureSignalsGenerator(TRANSF, 100, 1)"
   ]
  },
  {
   "cell_type": "code",
   "execution_count": 106,
   "id": "0a5d9a3b-6051-4478-b2df-8c099987c8ce",
   "metadata": {},
   "outputs": [
    {
     "name": "stdout",
     "output_type": "stream",
     "text": [
      "CPU times: user 3.76 s, sys: 2.61 ms, total: 3.76 s\n",
      "Wall time: 60.3 ms\n"
     ]
    }
   ],
   "source": [
    "%%time\n",
    "sgr = generator()\n",
    "signal_ind = 0"
   ]
  },
  {
   "cell_type": "code",
   "execution_count": 107,
   "id": "0f66996f-f9b1-4048-a47e-e1b4a73dffb6",
   "metadata": {},
   "outputs": [
    {
     "data": {
      "image/png": "[encoded data removed]",
      "text/plain": [
       "<Figure size 1600x480 with 3 Axes>"
      ]
     },
     "metadata": {},
     "output_type": "display_data"
    }
   ],
   "source": [
    "signal_ind = (signal_ind + 1) % len(sgr.signals_output)\n",
    "pixel_feature_inds = debundle_sbv(sgr.signals_output[signal_ind], PIXEL_FEATURE_SBVS, HP_SIGNAL_VEC_NON_ZERO_BITS)\n",
    "bm_output = PIXEL_FEATURE_BITMAP_MASKS[pixel_feature_inds].sum(axis=0)\n",
    "bm_output = xp_array_from_gpu(bm_output)\n",
    "    \n",
    "fig, (ax1, ax2, ax3) = plt.subplots(1, 3)\n",
    "fig.set_figwidth(16)\n",
    "ax1.set_title(f'Input #{signal_ind}: {sgr.signal_xy_lists_input[signal_ind].shape[0]} xy items')\n",
    "ax1.imshow(vec_to_square_matrix(xy_list_to_ohe_vec(sgr.signal_xy_lists_input[signal_ind])))\n",
    "ax2.set_title(f'Transformed: {sgr.signal_xy_lists_output[signal_ind].shape[0]} xy items')\n",
    "ax2.imshow(vec_to_square_matrix(xy_list_to_ohe_vec(sgr.signal_xy_lists_output[signal_ind])))\n",
    "ax3.set_title(f'Decoded from SBV: {np.count_nonzero(pixel_feature_inds)} pixel features')\n",
    "ax3.imshow(vec_to_square_matrix(bm_output));"
   ]
  },
  {
   "cell_type": "markdown",
   "id": "eea2abc0-1c71-43ed-85fe-4b70824d3dac",
   "metadata": {},
   "source": [
    "### PooledPixelFeatureSignalsGenerator"
   ]
  },
  {
   "cell_type": "code",
   "execution_count": 160,
   "id": "7b37e997-8ab1-4035-8fba-31154364e8c8",
   "metadata": {},
   "outputs": [],
   "source": [
    "# Create pool of pixel features of designated size (pool_size) and sample signals from that pool. \n",
    "# Recreate pool on switch call\n",
    "class PooledPixelFeatureSignalsGenerator:\n",
    "    def __init__(self, transf, signals_count, pool_size, logger=lambda m: True):\n",
    "        self.logger = logger\n",
    "        self.transf = transf\n",
    "        self.signals_count = signals_count\n",
    "        assert pool_size >= HP_SIGNAL_VEC_FEATURES_COUNT\n",
    "        self.pool_size = pool_size\n",
    "        self.pooled_pixel_feature_inds = np.array([])\n",
    "        self.pixel_feature_inds_sorted_by_freq_desc = np.argsort(-PIXEL_FEATURE_FREQS)\n",
    "        # strip pixel features which have zero freqs, i.o.w. leave only those with nonzero\n",
    "        active_pixel_features_count = np.count_nonzero(PIXEL_FEATURE_FREQS)\n",
    "        assert active_pixel_features_count > 0\n",
    "        self.pixel_feature_inds_sorted_by_freq_desc = self.pixel_feature_inds_sorted_by_freq_desc[:active_pixel_features_count]\n",
    "        assert self.pixel_feature_inds_sorted_by_freq_desc.shape[0] == active_pixel_features_count\n",
    "        self.switch()\n",
    "        \n",
    "    def __call__(self):\n",
    "        signals_input = [] # SBV\n",
    "        signals_output = [] # SBV\n",
    "        signal_ids = []\n",
    "        signal_xy_lists_input = []\n",
    "        signal_xy_lists_output = []\n",
    "\n",
    "        while len(signals_input) < self.signals_count:\n",
    "            pixel_feature_inds_input = RNG.choice(self.pooled_pixel_feature_inds, HP_SIGNAL_VEC_FEATURES_COUNT, replace=False)\n",
    "            xy_list_input = PIXEL_FEATURE_XY_ARRAY[pixel_feature_inds_input]\n",
    "            xy_list_transf = np.hstack([xy_list_input, np.ones(xy_list_input.shape[0])[:,np.newaxis]]) # make homogeneous coords\n",
    "            xy_list_transf = (self.transf @ xy_list_transf.T).T[:,:2]\n",
    "            xy_list_transf = np.round(xy_list_transf, decimals=0).astype(int)\n",
    "            # pixel_feature_inds_output = xy_list_to_nearest_pixel_feature_inds(xy_list_transf) # must be used when there is overlap among pixel features\n",
    "            pixel_feature_inds_output = xy_list_to_pixel_feature_inds(xy_list_transf) # can be used when there is no overlap among pixel features\n",
    "            xy_list_output = PIXEL_FEATURE_XY_ARRAY[pixel_feature_inds_output]\n",
    "            xy_list_input_sbv = bundle_sbvs(PIXEL_FEATURE_SBVS[pixel_feature_inds_input])\n",
    "            xy_list_output_sbv = bundle_sbvs(PIXEL_FEATURE_SBVS[pixel_feature_inds_output])\n",
    "            assert xy_list_input_sbv.shape[0] == HP_SIGNAL_VEC_LEN\n",
    "            assert xy_list_output_sbv.shape[0] == HP_SIGNAL_VEC_LEN\n",
    "\n",
    "            signals_input.append(xy_list_input_sbv)\n",
    "            signals_output.append(xy_list_output_sbv)\n",
    "            signal_ids.append(tuple(map(int, sorted(pixel_feature_inds_input))))\n",
    "            signal_xy_lists_input.append(xy_list_input)\n",
    "            signal_xy_lists_output.append(xy_list_output)\n",
    "\n",
    "        assert len(signals_input) == len(signals_output)\n",
    "        assert len(signals_input) == len(signal_ids)\n",
    "        assert len(signals_input) == len(signal_xy_lists_input)\n",
    "        assert len(signals_input) == len(signal_xy_lists_output)\n",
    "        return SignalsGeneratorResult(signals_input=np.vstack(signals_input), \n",
    "                                      signals_output=np.vstack(signals_output),\n",
    "                                      signal_ids=signal_ids,\n",
    "                                      signal_xy_lists_input=signal_xy_lists_input,\n",
    "                                      signal_xy_lists_output=signal_xy_lists_output,\n",
    "                                      xy_list_full=[])\n",
    "\n",
    "    def switch(self):\n",
    "        self.pooled_pixel_feature_inds = self.pixel_feature_inds_sorted_by_freq_desc[:self.pool_size]\n",
    "        self.pixel_feature_inds_sorted_by_freq_desc = np.roll(self.pixel_feature_inds_sorted_by_freq_desc, -self.pool_size)\n",
    "        l = self.pooled_pixel_feature_inds[0]\n",
    "        h = self.pooled_pixel_feature_inds[-1]\n",
    "        self.logger(f'Pool inds=[{l}, ..., {h}], freqs=[{PIXEL_FEATURE_FREQS[l]}, ..., {PIXEL_FEATURE_FREQS[h]}]')\n",
    "        assert self.pooled_pixel_feature_inds.shape[0] >= HP_SIGNAL_VEC_FEATURES_COUNT"
   ]
  },
  {
   "cell_type": "code",
   "execution_count": 109,
   "id": "6a24b503-6dbc-4de4-bb5f-8c0ac1459e4d",
   "metadata": {},
   "outputs": [
    {
     "name": "stdout",
     "output_type": "stream",
     "text": [
      "Pool inds=[338, ..., 308], freqs=[518, ..., 418]\n"
     ]
    }
   ],
   "source": [
    "generator = PooledPixelFeatureSignalsGenerator(TRANSF, 100, 30, logger=lambda m: print(m))"
   ]
  },
  {
   "cell_type": "code",
   "execution_count": 110,
   "id": "df9d8338-d79c-447c-9c1f-3f9597e18b1d",
   "metadata": {},
   "outputs": [
    {
     "name": "stdout",
     "output_type": "stream",
     "text": [
      "CPU times: user 3.26 s, sys: 2.28 ms, total: 3.27 s\n",
      "Wall time: 52.6 ms\n"
     ]
    }
   ],
   "source": [
    "%%time\n",
    "sgr = generator()\n",
    "signal_ind = 0"
   ]
  },
  {
   "cell_type": "code",
   "execution_count": 111,
   "id": "ff68218d-b223-435a-9c5d-29b69dae4a0c",
   "metadata": {},
   "outputs": [
    {
     "data": {
      "image/png": "[encoded data removed]",
      "text/plain": [
       "<Figure size 1600x480 with 3 Axes>"
      ]
     },
     "metadata": {},
     "output_type": "display_data"
    }
   ],
   "source": [
    "signal_ind = (signal_ind + 1) % len(sgr.signals_output)\n",
    "pixel_feature_inds = debundle_sbv(sgr.signals_output[signal_ind], PIXEL_FEATURE_SBVS, HP_SIGNAL_VEC_NON_ZERO_BITS)\n",
    "bm_output = PIXEL_FEATURE_BITMAP_MASKS[pixel_feature_inds].sum(axis=0)\n",
    "bm_output = xp_array_from_gpu(bm_output)\n",
    "    \n",
    "fig, (ax1, ax2, ax3) = plt.subplots(1, 3)\n",
    "fig.set_figwidth(16)\n",
    "ax1.set_title(f'Input #{signal_ind}: {sgr.signal_xy_lists_input[signal_ind].shape[0]} xy items')\n",
    "ax1.imshow(vec_to_square_matrix(xy_list_to_ohe_vec(sgr.signal_xy_lists_input[signal_ind])))\n",
    "ax2.set_title(f'Transformed: {sgr.signal_xy_lists_output[signal_ind].shape[0]} xy items')\n",
    "ax2.imshow(vec_to_square_matrix(xy_list_to_ohe_vec(sgr.signal_xy_lists_output[signal_ind])))\n",
    "ax3.set_title(f'Decoded from SBV: {np.count_nonzero(pixel_feature_inds)} pixel features')\n",
    "ax3.imshow(vec_to_square_matrix(bm_output));"
   ]
  },
  {
   "cell_type": "markdown",
   "id": "ef66cf7b-eecd-4f77-b6b4-51357f7df976",
   "metadata": {},
   "source": [
    "### AsyncSignalsGenerator"
   ]
  },
  {
   "cell_type": "code",
   "execution_count": 112,
   "id": "a7c56784-3284-4abc-af5b-93d1e569f7bf",
   "metadata": {},
   "outputs": [],
   "source": [
    "@dataclass\n",
    "class AsyncSignalsGeneratorTask:\n",
    "    task_id: int\n",
    "    op: str\n",
    "    params: dict = None\n",
    "\n",
    "@dataclass\n",
    "class AsyncSignalsGeneratorTaskResult:\n",
    "    task_id: int\n",
    "    payload: typing.Any = None\n",
    "\n",
    "def async_signals_generator_fun(generator_typename, inp_queue, out_queue, *args):\n",
    "    LOG.app_name = 'HOST_ASG'\n",
    "    LOG(f'Starting host for async signals generator {generator_typename}')\n",
    "\n",
    "    match generator_typename:\n",
    "        case RealImageSignalsGenerator.__name__:\n",
    "            generator = RealImageSignalsGenerator(*args, logger=LOG)\n",
    "        case FixedPixelFeatureSignalsGenerator.__name__:\n",
    "            generator = FixedPixelFeatureSignalsGenerator(*args, logger=LOG)\n",
    "        case RollingPixelFeatureSignalsGenerator.__name__:\n",
    "            generator = RollingPixelFeatureSignalsGenerator(*args, logger=LOG)\n",
    "        case PooledPixelFeatureSignalsGenerator.__name__:\n",
    "            generator = PooledPixelFeatureSignalsGenerator(*args, logger=LOG)\n",
    "        case _:\n",
    "            assert False, generator_typename\n",
    "\n",
    "    LOG(f'Host is ready')\n",
    "\n",
    "    task_wait_timeout = 60\n",
    "    is_running = True\n",
    "    is_recreate_pending = True\n",
    "\n",
    "    while is_running:\n",
    "        if is_recreate_pending:\n",
    "            LOG('Begin generating signals')\n",
    "            sgr = generator()\n",
    "            LOG('End generating signals')\n",
    "            is_recreate_pending = False\n",
    "            \n",
    "        try:\n",
    "            task = inp_queue.get(block=True, timeout=task_wait_timeout)\n",
    "        except queue.Empty:\n",
    "            LOG(f'Didn\\'t get any tasks within {task_wait_timeout} seconds, waiting again')\n",
    "            continue\n",
    "\n",
    "        with LOG.auto_prefix('TASK_ID', task.task_id):\n",
    "            LOG(f'Got task #{task.task_id} {task.op}')\n",
    "            task_result = AsyncSignalsGeneratorTaskResult(task_id=task.task_id)\n",
    "            \n",
    "            match task.op:\n",
    "                case 'HEALTHCHECK':\n",
    "                    pass\n",
    "                case 'TERMINATE':\n",
    "                    is_running = False\n",
    "                case 'GENERATE':\n",
    "                    task_result.payload = sgr\n",
    "                    is_recreate_pending = True\n",
    "                case 'SWITCH':\n",
    "                    generator.switch()\n",
    "                    is_recreate_pending = True\n",
    "                case _:\n",
    "                    LOG(f'Unknown task op: {task.op}, ignoring')\n",
    "    \n",
    "            out_queue.put(task_result)\n",
    "            LOG('Task complete')\n",
    "        \n",
    "    LOG(f'Host is going down')\n",
    "        \n",
    "class AsyncSignalsGenerator:\n",
    "    task_id = 0\n",
    "    \n",
    "    def __init__(self, generator_type, *args):\n",
    "        mp_ctx = mp.get_context('fork')\n",
    "        self.task_queue = mp_ctx.Queue()\n",
    "        self.result_queue = mp_ctx.Queue()\n",
    "        self.process = mp_ctx.Process(target=async_signals_generator_fun, \n",
    "                                      args=(generator_type.__name__, self.task_queue, self.result_queue, *args))\n",
    "        self.process.start()\n",
    "\n",
    "    @staticmethod\n",
    "    def gen_task_id():\n",
    "        AsyncSignalsGenerator.task_id += 1\n",
    "        return AsyncSignalsGenerator.task_id\n",
    "\n",
    "    def healthcheck(self):\n",
    "        assert self.process.is_alive()\n",
    "        task = AsyncSignalsGeneratorTask(task_id=self.gen_task_id(), op='HEALTHCHECK')\n",
    "        self.task_queue.put(task)\n",
    "        self.result_queue.get(timeout=3)\n",
    "        \n",
    "    def terminate(self):\n",
    "        if not self.process.is_alive():\n",
    "            return\n",
    "            \n",
    "        task = AsyncSignalsGeneratorTask(task_id=self.gen_task_id(), op='TERMINATE')\n",
    "        self.task_queue.put(task)\n",
    "        try:\n",
    "            self.result_queue.get(timeout=10)\n",
    "            self.process.join()\n",
    "        except queue.Empty:\n",
    "            print('Failed to shutdown host gracefully, terminating')\n",
    "            self.process.terminate()\n",
    "\n",
    "    def __call__(self):\n",
    "        assert self.process.is_alive()\n",
    "        task = AsyncSignalsGeneratorTask(task_id=self.gen_task_id(), op='GENERATE')\n",
    "        self.task_queue.put(task)\n",
    "        sgr = self.result_queue.get().payload\n",
    "        return sgr\n",
    "\n",
    "    def switch(self):\n",
    "        assert self.process.is_alive()\n",
    "        task = AsyncSignalsGeneratorTask(task_id=self.gen_task_id(), op='SWITCH')\n",
    "        self.task_queue.put(task)\n",
    "        self.result_queue.get()"
   ]
  },
  {
   "cell_type": "code",
   "execution_count": 113,
   "id": "ffec3279-3bd2-4fb4-ba78-77813ff25362",
   "metadata": {},
   "outputs": [
    {
     "name": "stdout",
     "output_type": "stream",
     "text": [
      "Async signals generator is ready\n",
      "CPU times: user 6.88 ms, sys: 10 ms, total: 16.9 ms\n",
      "Wall time: 28.7 ms\n",
      "Async signals generator terminated\n"
     ]
    }
   ],
   "source": [
    "try:\n",
    "    # test_signals_generator = AsyncSignalsGenerator(RealImageSignalsGenerator, TRANSF, 100, 10)\n",
    "    # test_signals_generator = AsyncSignalsGenerator(FixedPixelFeatureSignalsGenerator, TRANSF, 100, 10)\n",
    "    # test_signals_generator = AsyncSignalsGenerator(RollingPixelFeatureSignalsGenerator, TRANSF, 100, 10)\n",
    "    test_signals_generator = AsyncSignalsGenerator(PooledPixelFeatureSignalsGenerator, TRANSF, 100, 30)\n",
    "    test_signals_generator.healthcheck()\n",
    "    print(f'Async signals generator is ready')\n",
    "    %time sgr = test_signals_generator()\n",
    "finally:\n",
    "    test_signals_generator.terminate()\n",
    "    print(f'Async signals generator terminated')\n",
    "    del test_signals_generator"
   ]
  },
  {
   "cell_type": "markdown",
   "id": "540c8953-6ec6-41ad-945a-9f397989b501",
   "metadata": {},
   "source": [
    "## Points"
   ]
  },
  {
   "cell_type": "raw",
   "id": "d97e49f9-261c-4316-bf89-3f28475c9835",
   "metadata": {},
   "source": [
    "Here we define combinatorial points"
   ]
  },
  {
   "cell_type": "code",
   "execution_count": 114,
   "id": "9dbcbcad-eb00-4479-a32b-ae36b8373cce",
   "metadata": {},
   "outputs": [
    {
     "data": {
      "application/vnd.jupyter.widget-view+json": {
       "model_id": "4aeb017794ba42ae8743f42f2b88c257",
       "version_major": 2,
       "version_minor": 0
      },
      "text/plain": [
       "Load:   0%|          | 0/1000 [00:00<?, ?it/s]"
      ]
     },
     "metadata": {},
     "output_type": "display_data"
    },
    {
     "name": "stdout",
     "output_type": "stream",
     "text": [
      "250_000 POINTS loaded from database\n"
     ]
    }
   ],
   "source": [
    "df_points = pd.read_sql('SELECT output_bit, nzb_list FROM points WHERE encoding=:encoding AND count=:count AND non_zero_bits=:non_zero_bits', \n",
    "                        params={\n",
    "                            'encoding': HP_SIGNAL_ENCODING,\n",
    "                            'count': HP_POINTS_COUNT,\n",
    "                            'non_zero_bits': HP_POINT_NON_ZERO_BITS}, \n",
    "                        con=transfs_db_con)\n",
    "\n",
    "if len(df_points) > 0:\n",
    "    POINTS = []\n",
    "    POINT_OUTPUT_BITS = []\n",
    "    \n",
    "    for row in tqdm(df_points.itertuples(), total=len(df_points), desc='Load'):\n",
    "        nzb_list = pickle.loads(row.nzb_list)\n",
    "        l = len(nzb_list)\n",
    "        assert l > 0\n",
    "        points = np.zeros((l, HP_SIGNAL_VEC_LEN), dtype='f')\n",
    "\n",
    "        for i, nzb in enumerate(nzb_list):\n",
    "            points[i,nzb] = 1\n",
    "\n",
    "        POINTS.append(points)\n",
    "        \n",
    "        point_output_bits = np.full(l, row.output_bit, dtype='i')\n",
    "        POINT_OUTPUT_BITS.append(point_output_bits)\n",
    "        \n",
    "    POINTS = np.vstack(POINTS)\n",
    "    POINT_OUTPUT_BITS = np.hstack(POINT_OUTPUT_BITS)\n",
    "    assert np.all(POINTS.sum(axis=1) == HP_POINT_NON_ZERO_BITS)\n",
    "    assert POINTS.shape[0] == POINT_OUTPUT_BITS.shape[0]\n",
    "    assert POINTS.ndim == 2\n",
    "    assert POINT_OUTPUT_BITS.ndim == 1\n",
    "    print(f'{POINTS.shape[0]:_} POINTS loaded from database')\n",
    "else:\n",
    "    POINTS = []\n",
    "    POINT_OUTPUT_BITS = []\n",
    "    output_bits = RNG.choice(HP_SIGNAL_VEC_LEN, HP_POINTS_COUNT)\n",
    "    output_bit_to_nzb_list = defaultdict(list)\n",
    "    \n",
    "    for output_bit in tqdm(output_bits, desc='Generate'):\n",
    "        nzb = sbv_to_nzb(RNG.choice(HP_SIGNAL_VEC_LEN, HP_POINT_NON_ZERO_BITS, replace=False))\n",
    "        \n",
    "        point_vec = np.zeros(HP_SIGNAL_VEC_LEN, dtype='f')\n",
    "        point_vec[nzb] = 1\n",
    "        POINTS.append(point_vec)\n",
    "        POINT_OUTPUT_BITS.append(output_bit)\n",
    "\n",
    "        output_bit_to_nzb_list[output_bit].append(nzb)\n",
    "\n",
    "    POINTS = np.vstack(POINTS)\n",
    "    POINT_OUTPUT_BITS = np.hstack(POINT_OUTPUT_BITS)\n",
    "    assert np.all(POINTS.sum(axis=1) == HP_POINT_NON_ZERO_BITS)\n",
    "    assert POINTS.shape[0] == POINT_OUTPUT_BITS.shape[0]\n",
    "\n",
    "    for output_bit, nzb_list in tqdm(output_bit_to_nzb_list.items(), desc='Save'):\n",
    "        params = {\n",
    "            'encoding': HP_SIGNAL_ENCODING, \n",
    "            'count': HP_POINTS_COUNT,\n",
    "            'non_zero_bits': HP_POINT_NON_ZERO_BITS,\n",
    "            'output_bit': int(output_bit),\n",
    "            'nzb_list': pickle.dumps(nzb_list),\n",
    "            }\n",
    "        transfs_db_con.execute('INSERT INTO points(encoding, count, non_zero_bits, output_bit, nzb_list) ' + \n",
    "                               'VALUES(:encoding, :count, :non_zero_bits, :output_bit, :nzb_list)', params)\n",
    "    \n",
    "    print(f'{POINTS.shape[0]:_} POINTS created from scratch')"
   ]
  },
  {
   "cell_type": "markdown",
   "id": "454d74a8-397e-42b6-af1e-18437ef2f791",
   "metadata": {},
   "source": [
    "## .lab hdc"
   ]
  },
  {
   "cell_type": "code",
   "execution_count": 115,
   "id": "8a77cf8e-74e7-408e-83ed-bf28a26b2875",
   "metadata": {},
   "outputs": [],
   "source": [
    "# hdc = Hdc(10_000, np, dtype='f')\n",
    "# hdc.bundle = hdc.bundle_noties\n",
    "# hdc.cos_sim_threshold = 0.055\n",
    "# hdc.hdist_threshold = 4700\n",
    "\n",
    "hdc = Hdc(1_000, np, dtype='f')\n",
    "hdc.bundle = hdc.bundle_noties\n",
    "hdc.cos_sim_threshold = 0.10\n",
    "\n",
    "# hdc = Hdc(2_000, np, dtype='f')\n",
    "# hdc.bundle = hdc.bundle_noties\n",
    "# hdc.cos_sim_threshold = 0.10"
   ]
  },
  {
   "cell_type": "code",
   "execution_count": 116,
   "id": "69ac53e2-f39a-4e59-abfd-2b5eeb834122",
   "metadata": {},
   "outputs": [],
   "source": [
    "PIXEL_HDVS = hdc(config.sample_size ** 2)\n",
    "PIXEL_HDVS_NORM = hdc.normalize(PIXEL_HDVS)"
   ]
  },
  {
   "cell_type": "code",
   "execution_count": 117,
   "id": "af16ae38-e56f-48df-85c5-426649ab275a",
   "metadata": {},
   "outputs": [
    {
     "data": {
      "image/png": "[encoded data removed]",
      "text/plain": [
       "<Figure size 1200x480 with 2 Axes>"
      ]
     },
     "metadata": {},
     "output_type": "display_data"
    }
   ],
   "source": [
    "image_id = RNG.choice(df_train_images.index)\n",
    "image = next(df_train_images.loc[[image_id]].itertuples())\n",
    "si_ind_dict = pickle.loads(image.inner_si_ind_dict)\n",
    "sequences = pickle.loads(image.inner_sequences)\n",
    "seq = get_sequence(sequences)\n",
    "seq_xy = get_xy_sequence(seq, si_ind_dict)\n",
    "ii = np.all(((seq_xy >= 0) & (seq_xy < config.sample_size)), axis=1) \n",
    "seq_xy = seq_xy[ii]\n",
    "ind_seq = (seq_xy @ np.array([1, config.sample_size])).astype(int)\n",
    "seq_bv_true = np.zeros((config.sample_size, config.sample_size)).ravel()\n",
    "seq_bv_true[ind_seq] = 1\n",
    "\n",
    "seq_hdv = hdc.bundle(PIXEL_HDVS[ind_seq])\n",
    "seq_hdv_binary = hdc.to_binary(seq_hdv)\n",
    "seq_hdv_bipolar = hdc.to_bipolar(seq_hdv_binary)\n",
    "seq_hdv_bipolar_norm = hdc.normalize(seq_hdv_bipolar)\n",
    "pixel_hdv_inds = np.argwhere((PIXEL_HDVS_NORM @ seq_hdv_bipolar_norm) > hdc.cos_sim_threshold).ravel()\n",
    "seq_bv = np.zeros((config.sample_size, config.sample_size)).ravel()\n",
    "seq_bv[pixel_hdv_inds] = 1\n",
    "\n",
    "error_level = np.count_nonzero(seq_bv != seq_bv_true)\n",
    "\n",
    "fig, (ax1, ax2) = plt.subplots(1, 2)\n",
    "fig.set_figwidth(12)\n",
    "ax1.set_title(f'image_id={image_id}, points={len(ind_seq)}')\n",
    "ax1.imshow(seq_bv_true.reshape(config.sample_size, -1));\n",
    "ax2.set_title(f'err.={error_level}')\n",
    "ax2.set_title(f'N={seq_hdv.shape[0]} / {seq_hdv_binary.sum():.0f}, err.={error_level}')\n",
    "ax2.imshow(seq_bv.reshape(config.sample_size, -1));"
   ]
  },
  {
   "cell_type": "code",
   "execution_count": 118,
   "id": "93bd685d-76e0-4de1-a67b-6a61e9a2c29b",
   "metadata": {},
   "outputs": [
    {
     "data": {
      "image/jpeg": "[encoded data removed]",
      "image/png": "[encoded data removed]",
      "text/plain": [
       "<PIL.PngImagePlugin.PngImageFile image mode=L size=128x128>"
      ]
     },
     "execution_count": 118,
     "metadata": {},
     "output_type": "execute_result"
    }
   ],
   "source": [
    "get_raw_image(image_id)"
   ]
  },
  {
   "cell_type": "markdown",
   "id": "582ad609-9873-4ab3-830f-488d15ecf505",
   "metadata": {},
   "source": [
    "## .lab sbv"
   ]
  },
  {
   "cell_type": "code",
   "execution_count": 119,
   "id": "9d858d2c-11f8-4b20-a572-c9c1edcfaf55",
   "metadata": {},
   "outputs": [],
   "source": [
    "# # image_id = RNG.choice(df_train_images.index)\n",
    "# # image_id = 44917 # 60 points\n",
    "# image = next(df_train_images.loc[[image_id]].itertuples())\n",
    "# si_ind_dict = pickle.loads(image.inner_si_ind_dict)\n",
    "# sequences = pickle.loads(image.inner_sequences)\n",
    "# seq = get_sequence(sequences)\n",
    "# seq_xy = get_xy_sequence(seq, si_ind_dict)\n",
    "# ii = np.all(((seq_xy >= 0) & (seq_xy < config.sample_size)), axis=1) \n",
    "# seq_xy = seq_xy[ii]\n",
    "# ind_seq = (seq_xy @ np.array([1, config.sample_size])).astype(int)\n",
    "# seq_bv_true = np.zeros((config.sample_size, config.sample_size)).ravel()\n",
    "# seq_bv_true[ind_seq] = 1\n",
    "\n",
    "# # seq_sbv = np.where(np.sum(PIXELS[ind_seq], axis=0) > 0, 1, 0) # aka Bloom filter\n",
    "# seq_sbv = calc_seq_sbv(seq_xy)\n",
    "# # pixel_sbv_inds = np.argwhere((PIXELS @ seq_sbv) >= SBV_NON_ZERO_INDS).ravel()\n",
    "# # seq_bv = np.zeros((config.sample_size, config.sample_size)).ravel()\n",
    "# # seq_bv[pixel_sbv_inds] = 1\n",
    "# seq_bv = seq_sbv_to_bv(seq_sbv)\n",
    "\n",
    "# error_level = np.count_nonzero(seq_bv != seq_bv_true)\n",
    "\n",
    "# fig, (ax1, ax2) = plt.subplots(1, 2)\n",
    "# fig.set_figwidth(12)\n",
    "# ax1.set_title(f'image_id={image_id}, points={len(ind_seq)}')\n",
    "# ax1.imshow(seq_bv_true.reshape(config.sample_size, -1))\n",
    "# ax2.set_title(f'sbv={seq_sbv.shape[0]} / {seq_sbv.sum()}, non_zero_inds={HP_SIGNAL_VEC_NON_ZERO_BITS}, err.={error_level}')\n",
    "# ax2.imshow(seq_bv.reshape(config.sample_size, -1));"
   ]
  },
  {
   "cell_type": "markdown",
   "id": "8a40ec0a-891b-4385-88c3-6699bf574057",
   "metadata": {},
   "source": [
    "# Train"
   ]
  },
  {
   "cell_type": "markdown",
   "id": "f68c0e28-fa7e-4f59-8696-f6f22e705f4b",
   "metadata": {},
   "source": [
    "## Parameters"
   ]
  },
  {
   "cell_type": "code",
   "execution_count": 120,
   "id": "145172a9-54d1-4563-a7ab-cde78584810c",
   "metadata": {},
   "outputs": [],
   "source": [
    "LOG.is_enabled = True"
   ]
  },
  {
   "cell_type": "code",
   "execution_count": 121,
   "id": "66c512a5-916f-4a20-b37c-e0369e7d65c8",
   "metadata": {},
   "outputs": [],
   "source": [
    "HP_CLUSTER_ONES_COUNT_THRES = 6\n",
    "HP_CLUSTER_CREATION_ONES_COUNT_THRES = 7\n",
    "HP_CLUSTER_LEARN_BINARIZATION_SCHEDULE = (5, 10)\n",
    "HP_CLUSTER_RELEARN_BINARIZATION_SCHEDULE = (5,)\n",
    "HP_CLUSTER_BINARIZATION_SCHEDULE_SIZE = max(len(HP_CLUSTER_LEARN_BINARIZATION_SCHEDULE), len(HP_CLUSTER_RELEARN_BINARIZATION_SCHEDULE))\n",
    "HP_CLUSTER_BINARIZE_THRES = 0.75\n",
    "HP_CLUSTER_PROD_WORK_SIGNALS_PROCESSED_THRES = 10\n",
    "HP_CLUSTER_PROD_WORK_ACCURACY_THRES = 0.9\n",
    "HP_CLUSTER_PROD_ETERNAL_SIGNALS_PROCESSED_THRES = 100\n",
    "HP_CLUSTER_PROD_ETERNAL_ACCURACY_THRES = 0.98\n",
    "        \n",
    "HP_LEARN_CLUSTERS_COUNT_SOFT_LIMIT = 300_000\n",
    "HP_PROD_CANDIDATE_CLUSTERS_COUNT_SOFT_LIMIT = 100_000\n",
    "HP_PROD_WORK_CLUSTERS_COUNT_SOFT_LIMIT = 100_000\n",
    "\n",
    "HP_EPOCHS_COUNT = 1\n",
    "HP_OUTPUT_BITS_PER_BATCH = 250\n",
    "HP_NEW_SIGNALS_COUNT_PER_CYCLE = min(100, len(df_train_images))\n",
    "HP_PERSIST_PROD_CLUSTERS_INTERVAL = 100\n",
    "HP_RESET_LEARN_CLUSTERS_INTERVAL = 100\n",
    "# HP_CYCLES_COUNT = math.ceil(ACTIVE_PIXEL_FEATURES_COUNT / HP_RESET_LEARN_CLUSTERS_INTERVAL) * HP_RESET_LEARN_CLUSTERS_INTERVAL\n",
    "HP_CYCLES_COUNT = 1000"
   ]
  },
  {
   "cell_type": "markdown",
   "id": "9d2d12c1-5b24-40f8-8744-d7163d4dd132",
   "metadata": {},
   "source": [
    "## persist_prod_clusters"
   ]
  },
  {
   "cell_type": "code",
   "execution_count": 122,
   "id": "f66fc018-bf78-4703-9545-b5096cf011ea",
   "metadata": {},
   "outputs": [],
   "source": [
    "def persist_prod_clusters():\n",
    "    persisted_count = 0\n",
    "    output_bit_to_prod_cluster_metas = defaultdict(list)\n",
    "    \n",
    "    for meta in CLUSTER_METAS.values():\n",
    "        output_bit_to_prod_cluster_metas[meta.output_bit].append(meta)\n",
    "    \n",
    "    for output_bit, metas in output_bit_to_prod_cluster_metas.items():\n",
    "        cluster_inds = list(map(lambda m: m.cluster_ind, metas))\n",
    "        # Leave only super clusters, i.e. clusters which are not subsets of any other clusters\n",
    "        clusters = CLUSTERS.array[cluster_inds]\n",
    "        cluster_ones_counts = clusters.sum(axis=1)\n",
    "        crossings = (clusters @ clusters.T)\n",
    "        crossings[xp.diag_indices_from(crossings)] = 0\n",
    "        super_clusters_boolmap = ~xp.any((crossings.T >= cluster_ones_counts).T, axis=1)\n",
    "    \n",
    "        clusters = xp_array_from_gpu(clusters[super_clusters_boolmap])\n",
    "        super_clusters_boolmap = xp_array_from_gpu(super_clusters_boolmap)\n",
    "        \n",
    "        nzb_list = list(map(sbv_to_nzb, clusters))\n",
    "        pickled_nzb_list = pickle.dumps(nzb_list)\n",
    "        pickled_metas = pickle.dumps(list(map(lambda x: x[1], filter(lambda x: x[0], zip(super_clusters_boolmap, metas)))))\n",
    "        # Changing autocommit to False will open a new transaction, and changing it to True will commit any pending transaction.\n",
    "        # https://docs.python.org/3/library/sqlite3.html#connection-objects\n",
    "        transfs_db_con.autocommit = False\n",
    "        transfs_db_con.execute('DELETE FROM clusters WHERE encoding=:encoding AND transf_code=:transf_code AND output_bit=:output_bit',\n",
    "                               {'encoding': HP_SIGNAL_ENCODING, 'transf_code': TRANSF_CODE, 'output_bit': output_bit})\n",
    "        transfs_db_con.execute('INSERT INTO clusters (encoding, transf_code, output_bit, metas, nzb_list) VALUES (:encoding, :transf_code, :output_bit, :metas, :nzb_list)',\n",
    "                               {'encoding': HP_SIGNAL_ENCODING, 'transf_code': TRANSF_CODE, 'output_bit': output_bit, 'metas': pickled_metas, 'nzb_list': pickled_nzb_list})\n",
    "        transfs_db_con.autocommit = True\n",
    "        persisted_count += clusters.shape[0]\n",
    "        LOG(f'Persisted {clusters.shape[0]} (of {len(cluster_inds)}) super clusters for output bit {output_bit}')\n",
    "    \n",
    "    LOG(f'Persisted {persisted_count} clusters in total for encoding=\"{HP_SIGNAL_ENCODING}\" and transf_code=\"{TRANSF_CODE}\"')"
   ]
  },
  {
   "cell_type": "markdown",
   "id": "d846f281-3582-4362-8b2e-e7f295d37550",
   "metadata": {},
   "source": [
    "## Sidecars"
   ]
  },
  {
   "cell_type": "code",
   "execution_count": 123,
   "id": "07cc803f-ed2d-4fad-8552-c6c773bf84f1",
   "metadata": {},
   "outputs": [],
   "source": [
    "class LearnClustersSidecar(HdvArrayObserver):\n",
    "    def __init__(self):\n",
    "        # HOT GPU related arrays. Change in CUDA kernels only to avoid manyfold slowdowns!\n",
    "        self.masks = xp.array([], dtype='f')\n",
    "        self.output_bits = xp.array([], dtype='i')\n",
    "        self.nus = xp.array([], dtype='f')\n",
    "        self.binarization_schedules = xp.array([], dtype='i')\n",
    "        self.binarization_countdowns = xp.array([], dtype='i')\n",
    "        \n",
    "        # Cold arrays, may be changed from CPU side at low-cost\n",
    "        self.cluster_states_counter = Counter() \n",
    "        self.cluster_states = [] \n",
    "        self.last_activity_cycles = np.array([], dtype='i')\n",
    "        self.is_present_boolmap = np.array([], dtype=bool)\n",
    "        self.is_dead_boolmap = np.array([], dtype=bool)\n",
    "        self.is_promotable_boolmap = np.array([], dtype=bool)\n",
    "\n",
    "    def size_changed(self, new_size):\n",
    "        self.masks = xp.resize(self.masks, (new_size, HP_SIGNAL_VEC_LEN))\n",
    "        self.output_bits = xp.resize(self.output_bits, new_size)\n",
    "        self.nus = xp.resize(self.nus, new_size)\n",
    "        self.binarization_schedules = xp.resize(self.binarization_schedules, (new_size, HP_CLUSTER_BINARIZATION_SCHEDULE_SIZE))\n",
    "        self.binarization_countdowns = xp.resize(self.binarization_countdowns, new_size)\n",
    "        \n",
    "        # ndarray.resize if faster than np.resize and fills new space with zeros unlike np.resize. Unfortunately cupy doesn't have ndarray.resize\n",
    "        assert new_size > len(self.cluster_states)\n",
    "        self.cluster_states = self.cluster_states + [''] * (new_size - len(self.cluster_states))\n",
    "        self.last_activity_cycles.resize(new_size, refcheck=False)\n",
    "        self.is_present_boolmap.resize(new_size, refcheck=False)\n",
    "        self.is_dead_boolmap.resize(new_size, refcheck=False)\n",
    "        self.is_promotable_boolmap.resize(new_size, refcheck=False)\n",
    "\n",
    "    def sync(self, cluster_meta):\n",
    "        cluster_ind = cluster_meta.cluster_ind\n",
    "        old_cluster_state = self.cluster_states[cluster_ind]\n",
    "\n",
    "        if old_cluster_state:\n",
    "            self.cluster_states_counter[old_cluster_state] -= 1\n",
    "            \n",
    "        self.cluster_states[cluster_ind] = cluster_meta.state.name\n",
    "        self.cluster_states_counter[cluster_meta.state.name] += 1\n",
    "\n",
    "        self.is_dead_boolmap[cluster_ind] = cluster_meta.state == ClusterState.DEAD\n",
    "        is_promotable = cluster_meta.state == ClusterState.LEARN and False # not cluster_meta.binarization_schedule\n",
    "        self.is_promotable_boolmap[cluster_ind] = is_promotable\n",
    "\n",
    "    def remove(self, cluster_ind):\n",
    "        # Don't update following arrays since they are on GPU side. Manyfold slowdown!!!\n",
    "        # self.masks[cluster_ind] = 0\n",
    "        # self.output_bits[cluster_ind] = -1\n",
    "        # self.nus[cluster_ind] = -1\n",
    "        # self.binarization_countdowns[cluster_ind] = -1\n",
    "        \n",
    "        old_cluster_state = self.cluster_states[cluster_ind]\n",
    "\n",
    "        if old_cluster_state:\n",
    "            self.cluster_states_counter[old_cluster_state] -= 1\n",
    "            assert self.cluster_states_counter[old_cluster_state] >= 0\n",
    "            \n",
    "        self.cluster_states[cluster_ind] = ''\n",
    "        self.last_activity_cycles[cluster_ind] = -1\n",
    "        self.is_present_boolmap[cluster_ind] = False\n",
    "        self.is_dead_boolmap[cluster_ind] = False\n",
    "        self.is_promotable_boolmap[cluster_ind] = False\n",
    "\n",
    "class ClustersSidecar(HdvArrayObserver):\n",
    "    def __init__(self):\n",
    "        self.cluster_states_counter = Counter()\n",
    "        self.cluster_states = []\n",
    "        \n",
    "        self.output_bits = np.array([], dtype='i')\n",
    "        self.ones_counts = np.array([], dtype='f')\n",
    "        self.last_activity_cycles = np.array([], dtype='i')\n",
    "\n",
    "        self.is_dead_boolmap = np.array([], dtype=bool)\n",
    "        self.is_verifiable_boolmap = np.array([], dtype=bool)\n",
    "        self.is_promotable_to_prod_work_boolmap = np.array([], dtype=bool)\n",
    "        self.is_prod_candidate_boolmap = np.array([], dtype=bool)\n",
    "        self.is_prod_work_boolmap = np.array([], dtype=bool)\n",
    "\n",
    "    def size_changed(self, new_size):\n",
    "        assert new_size > len(self.cluster_states)\n",
    "        self.cluster_states = self.cluster_states + [''] * (new_size - len(self.cluster_states))\n",
    "        \n",
    "        self.output_bits.resize(new_size, refcheck=False)\n",
    "        self.ones_counts.resize(new_size, refcheck=False)\n",
    "        self.last_activity_cycles.resize(new_size, refcheck=False)\n",
    "\n",
    "        self.is_dead_boolmap.resize(new_size, refcheck=False)\n",
    "        self.is_verifiable_boolmap.resize(new_size, refcheck=False)\n",
    "        self.is_promotable_to_prod_work_boolmap.resize(new_size, refcheck=False)\n",
    "        self.is_prod_candidate_boolmap.resize(new_size, refcheck=False)\n",
    "        self.is_prod_work_boolmap.resize(new_size, refcheck=False)\n",
    "\n",
    "    def sync(self, cluster_meta):\n",
    "        cluster_ind = cluster_meta.cluster_ind\n",
    "        old_cluster_state = self.cluster_states[cluster_ind]\n",
    "\n",
    "        if old_cluster_state:\n",
    "            self.cluster_states_counter[old_cluster_state] -= 1\n",
    "            \n",
    "        self.cluster_states[cluster_ind] = cluster_meta.state.name\n",
    "        self.cluster_states_counter[cluster_meta.state.name] += 1\n",
    "        \n",
    "        self.output_bits[cluster_ind] = cluster_meta.output_bit\n",
    "        self.ones_counts[cluster_ind] = cluster_meta.ones_count\n",
    "\n",
    "        self.is_dead_boolmap[cluster_ind] = cluster_meta.state == ClusterState.DEAD\n",
    "        self.is_verifiable_boolmap[cluster_ind] = cluster_meta.state in [ClusterState.PROD_CANDIDATE, ClusterState.PROD_WORK]\n",
    "        is_promotable = cluster_meta.state == ClusterState.PROD_CANDIDATE and len(cluster_meta.verify_signal_ids) >= HP_CLUSTER_PROD_WORK_SIGNALS_PROCESSED_THRES\n",
    "        self.is_promotable_to_prod_work_boolmap[cluster_ind] = is_promotable\n",
    "        self.is_prod_candidate_boolmap[cluster_ind] = cluster_meta.state == ClusterState.PROD_CANDIDATE\n",
    "        self.is_prod_work_boolmap[cluster_ind] = cluster_meta.state == ClusterState.PROD_WORK\n",
    "\n",
    "    def remove(self, cluster_ind):\n",
    "        old_cluster_state = self.cluster_states[cluster_ind]\n",
    "\n",
    "        if old_cluster_state:\n",
    "            self.cluster_states_counter[old_cluster_state] -= 1\n",
    "            \n",
    "        self.cluster_states[cluster_ind] = ''\n",
    "        \n",
    "        self.output_bits[cluster_ind] = -1\n",
    "        self.ones_counts[cluster_ind] = -1\n",
    "        self.last_activity_cycles[cluster_ind] = -1\n",
    "\n",
    "        self.is_dead_boolmap[cluster_ind] = False\n",
    "        self.is_verifiable_boolmap[cluster_ind] = False\n",
    "        self.is_promotable_to_prod_work_boolmap[cluster_ind] = False\n",
    "        self.is_prod_candidate_boolmap[cluster_ind] = False\n",
    "        self.is_prod_work_boolmap[cluster_ind] = False"
   ]
  },
  {
   "cell_type": "markdown",
   "id": "09980b25-5c52-438f-9e97-5e9d87f90775",
   "metadata": {},
   "source": [
    "## CUDA Kernels"
   ]
  },
  {
   "cell_type": "markdown",
   "id": "78583d8f-54bd-41e0-b3f4-dbfc4a8cf8d9",
   "metadata": {},
   "source": [
    "### cuda_get_source_data_for_new_clusters_kernel"
   ]
  },
  {
   "cell_type": "code",
   "execution_count": 154,
   "id": "599ba982-6298-4ea3-98ce-cfe6b92951ae",
   "metadata": {},
   "outputs": [],
   "source": [
    "cuda_get_source_data_for_new_clusters_kernel = cp.RawKernel(r'''\n",
    "extern \"C\" __global__\n",
    "void get_source_data_for_new_clusters_kernel(\n",
    "    // INPUT\n",
    "    const int theHpVecLen,\n",
    "    const int theHpPointNonZeroBits,\n",
    "    const int theHpCreationOnesCountThres,\n",
    "    const float * const theSignalInput, // vector[theHpVecLen]\n",
    "    const int thePointsCount,\n",
    "    const int * const thePointInds, // vector[thePointsCount] - mapping from local pointInds to real pointInds\n",
    "    const float * const thePoints,    // matrix[**realPointsCount**][theHpVecLen]\n",
    "    // OUTPUT DATA\n",
    "    int * const theNzbCounts, // vector[thePointsCount]\n",
    "    int * const theNzbs // matrix[thePointsCount][theHpPointNonZeroBits],\n",
    ") { \n",
    "    const int localPointInd = blockDim.x * blockIdx.x + threadIdx.x;\n",
    "\n",
    "    if(localPointInd >= thePointsCount)\n",
    "        return;\n",
    "\n",
    "    const int pointInd = thePointInds[localPointInd];\n",
    "    const auto pointsPtrOffset = pointInd * theHpVecLen;\n",
    "    const float * const point = thePoints + pointsPtrOffset;\n",
    "    int * const nzb = theNzbs + localPointInd * theHpPointNonZeroBits;\n",
    "    int nzbInd = 0;\n",
    "\n",
    "    for(int i = 0; i < theHpVecLen; i++) {\n",
    "        if(point[i] > 0 && theSignalInput[i] > 0) {\n",
    "            if(nzbInd >= theHpPointNonZeroBits) {\n",
    "                asm(\"trap;\");\n",
    "            }\n",
    "            \n",
    "            nzb[nzbInd] = i;\n",
    "            nzbInd++;\n",
    "        }\n",
    "    }\n",
    "\n",
    "    theNzbCounts[localPointInd] = nzbInd >= theHpCreationOnesCountThres ? nzbInd : 0;\n",
    "}\n",
    "''', 'get_source_data_for_new_clusters_kernel')\n",
    "cuda_get_source_data_for_new_clusters_kernel.compile()"
   ]
  },
  {
   "cell_type": "markdown",
   "id": "04bd62f5-7ee3-42e8-a6e8-f735ad6e3f55",
   "metadata": {},
   "source": [
    "### cuda_init_new_clusters_kernel"
   ]
  },
  {
   "cell_type": "code",
   "execution_count": 125,
   "id": "72e24fa5-e241-4463-964f-5c3991148f54",
   "metadata": {},
   "outputs": [],
   "source": [
    "cuda_init_new_clusters_kernel = cp.RawKernel(r'''\n",
    "extern \"C\" __global__\n",
    "void init_new_clusters_kernel(\n",
    "    // INPUT\n",
    "    const int theHpVecLen,\n",
    "    const int theHpPointNonZeroBits,\n",
    "    const int theHpBinarizationScheduleSize,\n",
    "    const int * const theHpBinarizationScheduleTemplate, // vector[theHpBinarizationScheduleSize]\n",
    "    const int theClustersCount,\n",
    "    const int * const theClusterInds, // vector[theClustersCount]\n",
    "    const int * const theOutputBitsLocal, // vector[theClustersCount]\n",
    "    const int * const theNzbCounts, // vector[theClustersCount]\n",
    "    const int * const theNzbs, // matrix[theClustersCount][theHpPointNonZeroBits]\n",
    "    // OUTPUT\n",
    "    float * const theClusters, // matrix[**realClustersCount**][theHpVecLen] \n",
    "    float * const theClusterMasks, // matrix[**realClustersCount**][theHpVecLen]\n",
    "    int * const theOutputBits, // vector[**realClustersCount**]\n",
    "    float * const theNus, // vector[**realClustersCount**]\n",
    "    int * const theBinarizationSchedules, // matrix[**realClustersCount**][theHpBinarizationScheduleSize]\n",
    "    float * const theBinarizationCountdownCounters // vector[**realClustersCount**]\n",
    ") { \n",
    "    const int localClusterInd = blockDim.x * blockIdx.x + threadIdx.x;\n",
    "\n",
    "    if(localClusterInd >= theClustersCount)\n",
    "        return;\n",
    "\n",
    "    const int clusterInd = theClusterInds[localClusterInd];\n",
    "    const int nzbCount = theNzbCounts[localClusterInd]; // aka onesCount\n",
    "    const int * const nzb = theNzbs + localClusterInd * theHpPointNonZeroBits;\n",
    "    const auto clustersPtrOffset = clusterInd * theHpVecLen;\n",
    "    float * const cluster = theClusters + clustersPtrOffset;\n",
    "    float * const clusterMask = theClusterMasks + clustersPtrOffset;\n",
    "\n",
    "    for(int i = 0; i < nzbCount; i++) {\n",
    "        const int bitNo = nzb[i];\n",
    "        cluster[bitNo] = 1;\n",
    "        clusterMask[bitNo] = 1;\n",
    "    }\n",
    "\n",
    "    theOutputBits[clusterInd] = theOutputBitsLocal[localClusterInd];\n",
    "    theNus[clusterInd] = 1.0f / nzbCount;\n",
    "    memcpy(\n",
    "        theBinarizationSchedules + clusterInd * theHpBinarizationScheduleSize, \n",
    "        theHpBinarizationScheduleTemplate, \n",
    "        theHpBinarizationScheduleSize * sizeof(theHpBinarizationScheduleTemplate[0]));\n",
    "    theBinarizationCountdownCounters[clusterInd] = theHpBinarizationScheduleTemplate[0];\n",
    "}\n",
    "''', 'init_new_clusters_kernel')\n",
    "cuda_init_new_clusters_kernel.compile()"
   ]
  },
  {
   "cell_type": "markdown",
   "id": "71389690-0770-4b17-9c11-b296893a3b68",
   "metadata": {},
   "source": [
    "### cuda_learn_clusters_kernel_old"
   ]
  },
  {
   "cell_type": "code",
   "execution_count": 126,
   "id": "6b685cd5-654b-4abe-ab87-b9d7e8fb035b",
   "metadata": {},
   "outputs": [],
   "source": [
    "cuda_learn_clusters_kernel_old = cp.RawKernel(r'''\n",
    "extern \"C\" __global__\n",
    "void learn_clusters(\n",
    "    // INPUT\n",
    "    const int theHpVecLen,\n",
    "    const int theHpClusterOnesCountThres,\n",
    "    const int theSignalsCount,\n",
    "    const float * const theSignalsInput,  // matrix[theSignalsCount][theHpVecLen]\n",
    "    const float * const theSignalsOutput,  // matrix[theSignalsCount][theHpVecLen]\n",
    "    const int theClustersCount,\n",
    "    const float * theClusters,    // matrix[theClustersCount][theHpVecLen]\n",
    "    const bool * const theIsPresentBoolmap, // vector[theClustersCount]\n",
    "    const int * const theClusterOutputBits, // vector[theClustersCount]\n",
    "    const float * const theClusterMasks, // matrix[theClustersCount][theHpVecLen]\n",
    "    const float * const theClusterNus, // vector[theClustersCount]\n",
    "    // OUTPUT\n",
    "    int * const theClusterSignalsLearnedCounters, // vector[theClustersCount]\n",
    "    int * const theClusterSignalsTillBinarizationCounters, // vector[theClustersCount]\n",
    "    float * const theUpdatedClusters, // vector[theClustersCount]\n",
    "    int * const theClusterUpdateCounters // vector[theClustersCount]\n",
    ") { \n",
    "    const int clusterInd = blockDim.x * blockIdx.x + threadIdx.x;\n",
    "\n",
    "    if(clusterInd >= theClustersCount)\n",
    "        return;\n",
    "\n",
    "    if(!theIsPresentBoolmap[clusterInd])\n",
    "        return;\n",
    "        \n",
    "    const auto clustersPtrOffset = clusterInd * theHpVecLen;\n",
    "    const float * const cluster = theClusters + clustersPtrOffset;\n",
    "    const float * const mask = theClusterMasks + clustersPtrOffset;\n",
    "    float * const updatedCluster = theUpdatedClusters + clustersPtrOffset;\n",
    "    const int outputBit = theClusterOutputBits[clusterInd];\n",
    "    const float nu = theClusterNus[clusterInd];\n",
    "    \n",
    "    for(int signalInd = 0; signalInd < theSignalsCount && theClusterSignalsTillBinarizationCounters[clusterInd] > 0; signalInd++) {\n",
    "        const auto signalsPtrOffset = signalInd * theHpVecLen;\n",
    "        const float * const signalInput = theSignalsInput + signalsPtrOffset;\n",
    "        const float * const signalOutput = theSignalsOutput + signalsPtrOffset;\n",
    "    \n",
    "        if(!signalOutput[outputBit])\n",
    "            continue;\n",
    "    \n",
    "        float activationStrength = 0.0f;\n",
    "        int bitsTouched = 0;\n",
    "        \n",
    "        for(int i = 0; i < theHpVecLen; i++) {\n",
    "            const int inputBitValue = signalInput[i]; // binary value (1 or 0)\n",
    "            activationStrength += inputBitValue ? cluster[i] : 0;\n",
    "            bitsTouched += inputBitValue ? mask[i] : 0;\n",
    "        }\n",
    "    \n",
    "        if(bitsTouched < theHpClusterOnesCountThres)\n",
    "            continue;\n",
    "    \n",
    "        const float k = nu * activationStrength;\n",
    "        float maxWeight = 0.0f;\n",
    "        \n",
    "        for(int i = 0; i < theHpVecLen; i++) {\n",
    "            if(mask[i]) {\n",
    "                const float updatedWeight = cluster[i] + k * signalInput[i];\n",
    "                updatedCluster[i] = updatedWeight;\n",
    "                maxWeight = fmax(maxWeight, updatedWeight);\n",
    "            }\n",
    "        }\n",
    "    \n",
    "        for(int i = 0; i < theHpVecLen; i++) {\n",
    "            updatedCluster[i] /= maxWeight;\n",
    "        }\n",
    "    \n",
    "        theClusterUpdateCounters[clusterInd] += 1;\n",
    "        theClusterSignalsLearnedCounters[clusterInd] += 1;\n",
    "        theClusterSignalsTillBinarizationCounters[clusterInd] -= 1;\n",
    "    }\n",
    "}\n",
    "''', 'learn_clusters')\n",
    "cuda_learn_clusters_kernel_old.compile()"
   ]
  },
  {
   "cell_type": "markdown",
   "id": "37d190e8-0822-4061-ae4f-fbd949e3e7b0",
   "metadata": {},
   "source": [
    "### cuda_learn_clusters_kernel"
   ]
  },
  {
   "cell_type": "code",
   "execution_count": null,
   "id": "8c65ca16-a14b-410d-8b99-1a6b1119823e",
   "metadata": {},
   "outputs": [],
   "source": [
    "cuda_learn_clusters_kernel = cp.RawKernel(r'''\n",
    "extern \"C\" __global__\n",
    "void learn_clusters(\n",
    "    // INPUT\n",
    "    const int theHpVecLen,\n",
    "    const int theHpPointNonZeroBits,\n",
    "    const float theHpBinarizeThres,\n",
    "    const int theHpBinarizationScheduleSize,\n",
    "    const int theSignalsCount,\n",
    "    const float * const theSignalsInput,  // matrix[theSignalsCount][theHpVecLen]\n",
    "    const float * const theSignalsOutput,  // matrix[theSignalsCount][theHpVecLen]\n",
    "    const int theClustersCount,\n",
    "    const bool * const theClusterIsPresentBoolmap, // vector[theClustersCount]\n",
    "    const int * const theClusterOutputBits, // vector[theClustersCount]\n",
    "    // INPUT-OUTPUT \n",
    "    float * theClusters,    // matrix[theClustersCount][theHpVecLen]\n",
    "    float * const theClusterMasks, // matrix[theClustersCount][theHpVecLen]\n",
    "    float * const theClusterNus, // vector[theClustersCount]\n",
    "    int * const theClusterBinarizationSchedules, // matrix[theClustersCount][theHpBinarizationScheduleSize]\n",
    "    int * const theClusterBinarizationCountdowns, // vector[theClustersCount]\n",
    "    // OUTPUT\n",
    "    bool * const theClusterIsBinarizedBoolmap // vector[theClustersCount]\n",
    "    int * const theClusterNzbCounts, // vector[theClustersCount]\n",
    "    int * const theClusterNzbs // matrix[theClustersCount][theHpPointNonZeroBits]\n",
    ") { \n",
    "    const int clusterInd = blockDim.x * blockIdx.x + threadIdx.x;\n",
    "\n",
    "    if(clusterInd >= theClustersCount)\n",
    "        return;\n",
    "\n",
    "    if(!theIsPresentBoolmap[clusterInd])\n",
    "        return;\n",
    "        \n",
    "    const int outputBit = theClusterOutputBits[clusterInd];\n",
    "    const auto clustersPtrOffset = clusterInd * theHpVecLen;\n",
    "    float * const cluster = theClusters + clustersPtrOffset;\n",
    "    float * const mask = theClusterMasks + clustersPtrOffset;\n",
    "    float * const nu = &theClusterNus[clusterInd];\n",
    "    int * const binarizationSchedule = theClusterBinarizationSchedules + clusterInd * theHpBinarizationScheduleSize;\n",
    "    int * const binarizationCountdown = theClusterBinarizationCountdowns[clusterInd];\n",
    "    int * const nzb = theClusterNzbs + clusterInd * theHpPointNonZeroBits;\n",
    "    \n",
    "    for(int signalInd = 0; signalInd < theSignalsCount && !theClusterIsBinarizedBoolmap[clusterInd]; signalInd++) {\n",
    "        if(*binarizationCountdown <= 0) {\n",
    "            binarize_cluster(\n",
    "                theHpVecLen, theHpPointNonZeroBits, theHpBinarizeThres, theHpBinarizationScheduleSize,\n",
    "                cluster, mask, nu, binarizationSchedule, binarizationCountdown,\n",
    "                theClusterNzbCounts[clusterInd], nzb, &theClusterIsBinarizedBoolmap[clusterInd]\n",
    "            );\n",
    "        }\n",
    "    \n",
    "        const auto signalsPtrOffset = signalInd * theHpVecLen;\n",
    "        const float * const signalInput = theSignalsInput + signalsPtrOffset;\n",
    "        const float * const signalOutput = theSignalsOutput + signalsPtrOffset;\n",
    "    \n",
    "        if(!signalOutput[outputBit])\n",
    "            continue;\n",
    "    \n",
    "        float activationStrength = 0.0f;\n",
    "        int bitsTouched = 0;\n",
    "        \n",
    "        for(int i = 0; i < theHpVecLen; i++) {\n",
    "            const int inputBitValue = signalInput[i]; // binary value (1 or 0)\n",
    "            activationStrength += inputBitValue ? cluster[i] : 0;\n",
    "            bitsTouched += inputBitValue ? mask[i] : 0;\n",
    "        }\n",
    "    \n",
    "        if(bitsTouched < theHpClusterOnesCountThres)\n",
    "            continue;\n",
    "    \n",
    "        const float k = (*nu) * activationStrength;\n",
    "        float maxWeight = 0.0f;\n",
    "        \n",
    "        for(int i = 0; i < theHpVecLen; i++) {\n",
    "            if(mask[i]) {\n",
    "                const float updatedWeight = cluster[i] + k * signalInput[i];\n",
    "                cluster[i] = updatedWeight;\n",
    "                maxWeight = fmax(maxWeight, updatedWeight);\n",
    "            }\n",
    "        }\n",
    "    \n",
    "        for(int i = 0; i < theHpVecLen; i++) {\n",
    "            cluster[i] /= maxWeight;\n",
    "        }\n",
    "    \n",
    "        *binarizationCountdown -= 1;\n",
    "    }\n",
    "\n",
    "    if(theClusterBinarizationCountdowns[clusterInd] <= 0 && !theClusterIsBinarizedBoolmap[clusterInd]) {\n",
    "        binarize_cluster(\n",
    "            theHpVecLen, theHpPointNonZeroBits, theHpBinarizeThres, theHpBinarizationScheduleSize,\n",
    "            cluster, mask, &theNus[clusterInd], binarizationSchedule, binarizationCountdown,\n",
    "            theNzbCounts[clusterInd], nzb, &theIsBinarizedBoolmap[clusterInd]\n",
    "        );\n",
    "    }\n",
    "}\n",
    "\n",
    "extern \"C\" __device__\n",
    "void binarize_cluster(\n",
    "    // INPUT\n",
    "    const int theHpVecLen,\n",
    "    const int theHpPointNonZeroBits,\n",
    "    const float theHpBinarizeThres,\n",
    "    const int theHpBinarizationScheduleSize,\n",
    "    // INPUT-OUTPUT \n",
    "    float * theCluster,    // vector[theHpVecLen]\n",
    "    float * const theMask, // vector[theHpVecLen]\n",
    "    float * const theNu, // pointer to scalar\n",
    "    int * const theBinarizationSchedule, // vector[theHpBinarizationScheduleSize]\n",
    "    int * const theBinarizationCountdown, // pointer to scalar\n",
    "    // OUTPUT\n",
    "    int * const theNzbCount, // pointer to scalar\n",
    "    int * const theNzb // vector[theHpPointNonZeroBits]\n",
    "    bool * const theIsBinarized // pointer to scalar\n",
    ") {\n",
    "    int nzbInd = 0;\n",
    "\n",
    "    for(int i = 0; i < theHpVecLen; i++) {\n",
    "        const int v = theCluster[i] > theHpBinarizeThres ? 1 : 0;\n",
    "        theCluster[i] = v;\n",
    "        theMask[i] = v;\n",
    "        \n",
    "        if(v > 0) {\n",
    "            if(nzbInd >= theHpPointNonZeroBits) {\n",
    "                asm(\"trap;\");\n",
    "            }\n",
    "            \n",
    "            theNzb[nzbInd] = i;\n",
    "            nzbInd++;\n",
    "        }\n",
    "    }\n",
    "\n",
    "    *theNzbCount = theNzb;\n",
    "    *theNu = 1.0f / theNzb;\n",
    "    memmove(\n",
    "        theBinarizationSchedule, \n",
    "        theBinarizationSchedule + 1, \n",
    "        (theHpBinarizationScheduleSize - 1) * sizeof(theBinarizationSchedule[0]));\n",
    "    theBinarizationSchedule[theHpBinarizationScheduleSize - 1] = 0;\n",
    "    *theBinarizationCountdown = theBinarizationSchedule[0];\n",
    "    *theIsBinarized = *theBinarizationCountdown == 0;\n",
    "}\n",
    "''', 'learn_clusters')\n",
    "cuda_learn_clusters_kernel.compile()"
   ]
  },
  {
   "cell_type": "markdown",
   "id": "6beed0bc-2c99-476c-baca-5b9879f10d72",
   "metadata": {},
   "source": [
    "### cuda_binarize_clusters_kernel"
   ]
  },
  {
   "cell_type": "code",
   "execution_count": 127,
   "id": "74f647ab-191d-4050-beac-1e6ecb213b17",
   "metadata": {},
   "outputs": [],
   "source": [
    "cuda_binarize_clusters_kernel = cp.RawKernel(r'''\n",
    "extern \"C\" __global__\n",
    "void binarize_clusters(\n",
    "                    // INPUT DATA\n",
    "                    const int theHpVecLen,\n",
    "                    const int theHpPointNonZeroBits,\n",
    "                    const float theHpBinarizeThres,\n",
    "                    const int theClustersCount,\n",
    "                    const int * const theClusterInds, // vector[theClustersCount] - mapping from local clusterInds to real clusterInds\n",
    "                    const float * const theClusters,    // matrix[**realClustersCount**][theHpVecLen]\n",
    "                    // OUTPUT DATA\n",
    "                    float * const theUpdatedClusters, // matrix[**realClustersCount**][theHpVecLen]\n",
    "                    float * const theUpdatedClusterMasks, // matrix[**realClustersCount**][theHpVecLen]\n",
    "                    int * const theOnesCounts, // vector[theClustersCount]\n",
    "                    int * const theNzbLists // matrix[theClustersCount][theHpPointNonZeroBits],\n",
    "                    ) { \n",
    "    const int localClusterInd = blockDim.x * blockIdx.x + threadIdx.x;\n",
    "\n",
    "    if(localClusterInd >= theClustersCount)\n",
    "        return;\n",
    "\n",
    "    const int clusterInd = theClusterInds[localClusterInd];\n",
    "    const auto clustersPtrOffset = clusterInd * theHpVecLen;\n",
    "    const float * const cluster = theClusters + clustersPtrOffset;\n",
    "    float * const updatedCluster = theUpdatedClusters + clustersPtrOffset;\n",
    "    float * const updatedClusterMask = theUpdatedClusterMasks + clustersPtrOffset;\n",
    "    int * const onesCount = theOnesCounts + localClusterInd;\n",
    "    int * const nzbList = theNzbLists + localClusterInd * theHpPointNonZeroBits;\n",
    "    int nzbInd = 0;\n",
    "\n",
    "    for(int i = 0; i < theHpVecLen; i++) {\n",
    "        const int v = cluster[i] > theHpBinarizeThres ? 1 : 0;\n",
    "        updatedCluster[i] = v;\n",
    "        updatedClusterMask[i] = v;\n",
    "        \n",
    "        if(v > 0) {\n",
    "            if(nzbInd >= theHpPointNonZeroBits) {\n",
    "                asm(\"trap;\");\n",
    "            }\n",
    "            \n",
    "            nzbList[nzbInd] = i;\n",
    "            nzbInd++;\n",
    "        }\n",
    "    }\n",
    "\n",
    "    *onesCount = nzbInd;\n",
    "}\n",
    "''', 'binarize_clusters')\n",
    "cuda_binarize_clusters_kernel.compile()"
   ]
  },
  {
   "cell_type": "markdown",
   "id": "71c9c0ac-6e3c-4c2a-9812-7017ac8fdef8",
   "metadata": {},
   "source": [
    "## Train Loop"
   ]
  },
  {
   "cell_type": "code",
   "execution_count": 128,
   "id": "38360d8b-90e4-43c3-9ef0-dc60c392b585",
   "metadata": {},
   "outputs": [
    {
     "ename": "NameError",
     "evalue": "name 'active_point_inds' is not defined",
     "output_type": "error",
     "traceback": [
      "\u001b[0;31m---------------------------------------------------------------------------\u001b[0m",
      "\u001b[0;31mNameError\u001b[0m                                 Traceback (most recent call last)",
      "Cell \u001b[0;32mIn[128], line 1\u001b[0m\n\u001b[0;32m----> 1\u001b[0m active_point_inds\n",
      "\u001b[0;31mNameError\u001b[0m: name 'active_point_inds' is not defined"
     ]
    }
   ],
   "source": [
    "active_point_inds"
   ]
  },
  {
   "cell_type": "code",
   "execution_count": null,
   "id": "96faf002-02d6-43d0-a4b9-584a7d01f54c",
   "metadata": {},
   "outputs": [],
   "source": [
    "active_point_inds[2]"
   ]
  },
  {
   "cell_type": "code",
   "execution_count": null,
   "id": "10b3cebe-2158-47d3-aede-54dc465d1015",
   "metadata": {},
   "outputs": [],
   "source": [
    "np.flatnonzero(points[2024])"
   ]
  },
  {
   "cell_type": "code",
   "execution_count": null,
   "id": "9b8b625e-48b0-4a20-9456-6c2862ef45b5",
   "metadata": {},
   "outputs": [],
   "source": [
    "nzbs[2]"
   ]
  },
  {
   "cell_type": "code",
   "execution_count": 144,
   "id": "0bbfafa5-2083-433f-8c9c-1f681a83cb37",
   "metadata": {},
   "outputs": [
    {
     "data": {
      "text/plain": [
       "True"
      ]
     },
     "execution_count": 144,
     "metadata": {},
     "output_type": "execute_result"
    }
   ],
   "source": [
    "active_point_inds.dtype == cp.int64"
   ]
  },
  {
   "cell_type": "code",
   "execution_count": 147,
   "id": "22a28766-e382-494c-a130-0d9914cc59cc",
   "metadata": {},
   "outputs": [
    {
     "data": {
      "text/plain": [
       "numpy.float32"
      ]
     },
     "execution_count": 147,
     "metadata": {},
     "output_type": "execute_result"
    }
   ],
   "source": [
    "cp.float32"
   ]
  },
  {
   "cell_type": "code",
   "execution_count": 161,
   "id": "a2366ea9-8171-4373-b8ce-9cc0299c365f",
   "metadata": {},
   "outputs": [
    {
     "data": {
      "application/vnd.jupyter.widget-view+json": {
       "model_id": "e66638aecb3b46c998ee241a88c4442a",
       "version_major": 2,
       "version_minor": 0
      },
      "text/plain": [
       "Epoch:   0%|          | 0/1 [00:00<?, ?it/s]"
      ]
     },
     "metadata": {},
     "output_type": "display_data"
    },
    {
     "data": {
      "application/vnd.jupyter.widget-view+json": {
       "model_id": "8574497c761a417fa697b38794775976",
       "version_major": 2,
       "version_minor": 0
      },
      "text/plain": [
       "Output bit batch:   0%|          | 0/4 [00:00<?, ?it/s]"
      ]
     },
     "metadata": {},
     "output_type": "display_data"
    },
    {
     "data": {
      "application/vnd.jupyter.widget-view+json": {
       "model_id": "2315c68e13824d39b1aaac6910257e89",
       "version_major": 2,
       "version_minor": 0
      },
      "text/plain": [
       "Cycle:   0%|          | 0/1000 [00:00<?, ?it/s]"
      ]
     },
     "metadata": {},
     "output_type": "display_data"
    },
    {
     "ename": "AssertionError",
     "evalue": "",
     "output_type": "error",
     "traceback": [
      "\u001b[0;31m---------------------------------------------------------------------------\u001b[0m",
      "\u001b[0;31mAssertionError\u001b[0m                            Traceback (most recent call last)",
      "Cell \u001b[0;32mIn[161], line 265\u001b[0m\n\u001b[1;32m    262\u001b[0m LOG(\u001b[38;5;124mf\u001b[39m\u001b[38;5;124m'\u001b[39m\u001b[38;5;124mCreated \u001b[39m\u001b[38;5;132;01m{\u001b[39;00m\u001b[38;5;28mlen\u001b[39m(new_cluster_inds)\u001b[38;5;132;01m}\u001b[39;00m\u001b[38;5;124m LEARN clusters from \u001b[39m\u001b[38;5;132;01m{\u001b[39;00msignals_count_for_new_clusters\u001b[38;5;132;01m}\u001b[39;00m\u001b[38;5;124m signals, create rate=\u001b[39m\u001b[38;5;132;01m{\u001b[39;00mnew_clusters_creation_rate_calc\u001b[38;5;241m.\u001b[39mvalue\u001b[38;5;132;01m:\u001b[39;00m\u001b[38;5;124m.0f\u001b[39m\u001b[38;5;132;01m}\u001b[39;00m\u001b[38;5;124m clusters/signal\u001b[39m\u001b[38;5;124m'\u001b[39m)\n\u001b[1;32m    264\u001b[0m \u001b[38;5;28;01mif\u001b[39;00m cycle \u001b[38;5;241m==\u001b[39m \u001b[38;5;241m1\u001b[39m:\n\u001b[0;32m--> 265\u001b[0m     \u001b[38;5;28;01massert\u001b[39;00m \u001b[38;5;28;01mFalse\u001b[39;00m\n\u001b[1;32m    267\u001b[0m \u001b[38;5;28;01mcontinue\u001b[39;00m\n\u001b[1;32m    269\u001b[0m \u001b[38;5;66;03m### Learn clusters\u001b[39;00m\n",
      "\u001b[0;31mAssertionError\u001b[0m: "
     ]
    },
    {
     "name": "stderr",
     "output_type": "stream",
     "text": [
      "Process ForkProcess-15:\n",
      "Traceback (most recent call last):\n",
      "  File \"/home/misha/anaconda3/envs/mine/lib/python3.12/multiprocessing/process.py\", line 314, in _bootstrap\n",
      "    self.run()\n",
      "  File \"/home/misha/anaconda3/envs/mine/lib/python3.12/multiprocessing/process.py\", line 108, in run\n",
      "    self._target(*self._args, **self._kwargs)\n",
      "  File \"/tmp/ipykernel_463838/3647690549.py\", line 42, in async_signals_generator_fun\n",
      "    task = inp_queue.get(block=True, timeout=task_wait_timeout)\n",
      "           ^^^^^^^^^^^^^^^^^^^^^^^^^^^^^^^^^^^^^^^^^^^^^^^^^^^^\n",
      "  File \"/home/misha/anaconda3/envs/mine/lib/python3.12/multiprocessing/queues.py\", line 113, in get\n",
      "    if not self._poll(timeout):\n",
      "           ^^^^^^^^^^^^^^^^^^^\n",
      "  File \"/home/misha/anaconda3/envs/mine/lib/python3.12/multiprocessing/connection.py\", line 257, in poll\n",
      "    return self._poll(timeout)\n",
      "           ^^^^^^^^^^^^^^^^^^^\n",
      "  File \"/home/misha/anaconda3/envs/mine/lib/python3.12/multiprocessing/connection.py\", line 440, in _poll\n",
      "    r = wait([self], timeout)\n",
      "        ^^^^^^^^^^^^^^^^^^^^^\n",
      "  File \"/home/misha/anaconda3/envs/mine/lib/python3.12/multiprocessing/connection.py\", line 1136, in wait\n",
      "    ready = selector.select(timeout)\n",
      "            ^^^^^^^^^^^^^^^^^^^^^^^^\n",
      "  File \"/home/misha/anaconda3/envs/mine/lib/python3.12/selectors.py\", line 415, in select\n",
      "    fd_event_list = self._selector.poll(timeout)\n",
      "                    ^^^^^^^^^^^^^^^^^^^^^^^^^^^^\n",
      "KeyboardInterrupt\n"
     ]
    }
   ],
   "source": [
    "# batch_output_bits_filter = lambda s, e: True\n",
    "# batch_output_bits_filter = lambda s, e: s >= 500\n",
    "batch_output_bits_filter = lambda s, e: s >= 750 and s < 1000\n",
    "\n",
    "if 'signals_generator' in globals():\n",
    "    if isinstance(signals_generator, AsyncSignalsGenerator):\n",
    "        signals_generator.terminate()\n",
    "        del signals_generator\n",
    "\n",
    "# signals_generator = AsyncSignalsGenerator(RealImageSignalsGenerator, TRANSF, HP_NEW_SIGNALS_COUNT_PER_CYCLE, 10)\n",
    "# signals_generator = AsyncSignalsGenerator(RollingPixelFeatureSignalsGenerator, TRANSF, HP_NEW_SIGNALS_COUNT_PER_CYCLE, 1)\n",
    "# signals_generator = AsyncSignalsGenerator(PooledPixelFeatureSignalsGenerator, TRANSF, HP_NEW_SIGNALS_COUNT_PER_CYCLE, 160, 200)\n",
    "signals_generator = AsyncSignalsGenerator(PooledPixelFeatureSignalsGenerator, TRANSF, HP_NEW_SIGNALS_COUNT_PER_CYCLE, 100)\n",
    "signals_generator.healthcheck()\n",
    "\n",
    "persist_prod_clusters_governeur = interval_governeur(HP_PERSIST_PROD_CLUSTERS_INTERVAL, persist_prod_clusters)\n",
    "\n",
    "for epoch in tqdm(range(HP_EPOCHS_COUNT), desc='Epoch'):\n",
    "    with LOG.auto_prefix('EPOCH', epoch):\n",
    "        for start_output_bit in tqdm(range(0, HP_SIGNAL_VEC_LEN, HP_OUTPUT_BITS_PER_BATCH), leave=False, desc='Output bit batch'):\n",
    "            end_output_bit = start_output_bit + HP_OUTPUT_BITS_PER_BATCH - 1\n",
    "            end_output_bit = min(end_output_bit, HP_SIGNAL_VEC_LEN - 1)\n",
    "            assert end_output_bit >= start_output_bit, (start_output_bit, end_output_bit)\n",
    "\n",
    "            if not batch_output_bits_filter(start_output_bit, end_output_bit):\n",
    "                continue\n",
    "            \n",
    "            with LOG.auto_prefix('OBITS', f'{start_output_bit}:{end_output_bit}'):\n",
    "                CLUSTERS_SIDECAR = ClustersSidecar()\n",
    "                CLUSTERS = HdvArray(HP_SIGNAL_VEC_LEN, xp, initial_length=100_000, dtype='f', grow_policy=hdv_array_log_like_grow_policy, observer=CLUSTERS_SIDECAR)\n",
    "                CLUSTER_METAS = {}\n",
    "\n",
    "                LEARN_CLUSTERS_SIDECAR = None\n",
    "                LEARN_CLUSTERS = None\n",
    "                LEARN_CLUSTER_METAS = None\n",
    "\n",
    "                def reset_learn_clusters():\n",
    "                    global LEARN_CLUSTERS_SIDECAR, LEARN_CLUSTERS, LEARN_CLUSTER_METAS\n",
    "                    LEARN_CLUSTERS_SIDECAR = LearnClustersSidecar()\n",
    "                    LEARN_CLUSTERS = HdvArray(HP_SIGNAL_VEC_LEN, xp, initial_length=100_000, dtype='f', grow_policy=hdv_array_log_like_grow_policy, observer=LEARN_CLUSTERS_SIDECAR)\n",
    "                    LEARN_CLUSTER_METAS = {}\n",
    "                    LOG('LEARN clusters reset')\n",
    "\n",
    "                reset_learn_clusters()\n",
    "                reset_learn_clusters_governeur = interval_governeur(HP_RESET_LEARN_CLUSTERS_INTERVAL, reset_learn_clusters)\n",
    "                \n",
    "                ## Select points for output bits (OBITS)\n",
    "                points_mask = (POINT_OUTPUT_BITS >= start_output_bit) & (POINT_OUTPUT_BITS <= end_output_bit)\n",
    "                points = xp_array_to_gpu(POINTS[points_mask])\n",
    "                point_output_bits = POINT_OUTPUT_BITS[points_mask]\n",
    "                point_inds = np.arange(points.shape[0], dtype='i')\n",
    "                LOG(f'{points.shape[0]} combinatorial points selected for output bits {start_output_bit}:{end_output_bit}, avg. points per output bit={points.shape[0] / ((end_output_bit - start_output_bit) + 1):.0f}')\n",
    "                assert points.shape[0] > 0\n",
    "\n",
    "                ## Restore prod clusters for output bits (OBITS)\n",
    "                df_clusters = pd.read_sql('SELECT ROWID, output_bit, metas, nzb_list FROM clusters WHERE encoding=:encoding AND transf_code=:transf_code ' + \n",
    "                                          'AND output_bit>=:start_output_bit AND output_bit<=:end_output_bit', \n",
    "                                          params={\n",
    "                                              'encoding': HP_SIGNAL_ENCODING, \n",
    "                                              'transf_code': TRANSF_CODE,\n",
    "                                              'start_output_bit': start_output_bit, \n",
    "                                              'end_output_bit': end_output_bit}, \n",
    "                                          con=transfs_db_con)\n",
    "                \n",
    "                clusters = []\n",
    "                cluster_inds = []\n",
    "                \n",
    "                for cluster_row in df_clusters.itertuples():\n",
    "                    cluster_nzb_list_for_output_bit = pickle.loads(cluster_row.nzb_list)\n",
    "                    cluster_metas_for_output_bit = pickle.loads(cluster_row.metas)\n",
    "                    assert len(cluster_nzb_list_for_output_bit) == len(cluster_metas_for_output_bit)\n",
    "\n",
    "                    for nzb, meta in zip(cluster_nzb_list_for_output_bit, cluster_metas_for_output_bit):\n",
    "                        assert len(nzb) > 0\n",
    "                        cluster = np.zeros(HP_SIGNAL_VEC_LEN, dtype='f')\n",
    "                        cluster[nzb] = 1\n",
    "                        clusters.append(cluster)\n",
    "                        \n",
    "                        cluster_ind = CLUSTERS.lease()\n",
    "                        meta.cluster_ind = cluster_ind\n",
    "                        cluster_inds.append(cluster_ind)\n",
    "                        \n",
    "                        CLUSTER_METAS[cluster_ind] = meta\n",
    "                        CLUSTERS_SIDECAR.sync(meta)\n",
    "\n",
    "                    LOG(f'Loaded {len(cluster_metas_for_output_bit)} clusters for output bit {cluster_row.output_bit} (ROWID={cluster_row.rowid})')\n",
    "\n",
    "                if clusters:\n",
    "                    assert len(clusters) == len(cluster_inds)\n",
    "                    CLUSTERS.array[cluster_inds] = np.vstack(clusters)\n",
    "                    assert len(CLUSTER_METAS) == CLUSTERS.len\n",
    "                    \n",
    "                LOG(f'Loaded {len(CLUSTER_METAS)} clusters in total for encoding=\"{HP_SIGNAL_ENCODING}\" and transf_code=\"{TRANSF_CODE}\"')\n",
    "\n",
    "                unique_cluster_keys = set(map(lambda m: m.cluster_key, CLUSTER_METAS.values()))\n",
    "                assert len(unique_cluster_keys) == len(CLUSTER_METAS)\n",
    "                new_clusters_creation_rate_calc = AverageFilter()\n",
    "\n",
    "                sgr = DummySignalsGeneratorResult()\n",
    "                \n",
    "                def switch_signals_generator():\n",
    "                    global sgr\n",
    "                    sgr = DummySignalsGeneratorResult()\n",
    "                    signals_generator.switch()\n",
    "                    LOG('Signals generator switched')\n",
    "                    \n",
    "                switch_signals_generator_governeur = interval_governeur(HP_RESET_LEARN_CLUSTERS_INTERVAL, switch_signals_generator)\n",
    "\n",
    "                stats_signals_processed_count = 0\n",
    "                stats_parent_signals_count = 0\n",
    "                stats_learn_clusters_created_count = 0\n",
    "                \n",
    "                def report_stats():\n",
    "                    global stats_signals_processed_count, stats_parent_signals_count, stats_learn_clusters_created_count\n",
    "                    LOG(f'STATS: total signals={stats_signals_processed_count:_}')\n",
    "                    LOG(f'STATS: parent signals={stats_parent_signals_count:_}')\n",
    "                    LOG(f'STATS: learn clusters created={stats_learn_clusters_created_count:_}')\n",
    "                    stats_signals_processed_count = 0\n",
    "                    stats_parent_signals_count = 0\n",
    "                    stats_learn_clusters_created_count = 0\n",
    "                \n",
    "                report_stats_governeur = interval_governeur(HP_RESET_LEARN_CLUSTERS_INTERVAL, report_stats)\n",
    "                \n",
    "                ## Mine clusters\n",
    "                for cycle in tqdm(range(HP_CYCLES_COUNT), leave=False, desc='Cycle'):\n",
    "                    with LOG.auto_prefix('CYCLE', cycle):\n",
    "                        LOG(f'===')\n",
    "                        persist_prod_clusters_governeur()\n",
    "                        switch_signals_generator_governeur()\n",
    "                        reset_learn_clusters_governeur()\n",
    "                        report_stats_governeur()\n",
    "                        \n",
    "                        ### General stats reporting\n",
    "                        cluster_states = {}\n",
    "                        cluster_states.update(LEARN_CLUSTERS_SIDECAR.cluster_states_counter.most_common())\n",
    "                        cluster_states.update(CLUSTERS_SIDECAR.cluster_states_counter.most_common())\n",
    "                        cluster_states = dict(filter(lambda kv: kv[1] != 0, cluster_states.items())) # retain only states with non-zero counts (eases inspection by eyes)\n",
    "                        check_count = cluster_states.get(ClusterState.LEARN.name, 0)\n",
    "                        assert check_count == len(LEARN_CLUSTER_METAS)\n",
    "                        check_count = sum(map(lambda cs: cluster_states.get(cs.name, 0), [ClusterState.PROD_CANDIDATE, ClusterState.PROD_WORK, ClusterState.PROD_ETERNAL]))\n",
    "                        assert check_count == len(CLUSTER_METAS)\n",
    "                        LOG(f'Cycle {cycle} started, clusters: {cluster_states}, LEARN_CLUSTERS.array.shape={LEARN_CLUSTERS.array.shape}, CLUSTERS.array.shape={CLUSTERS.array.shape}')\n",
    "                        \n",
    "                        ### Prepare input and output signals for training\n",
    "                        prev_cycle_sgr = sgr\n",
    "                        sgr = signals_generator()\n",
    "                        sgr = sgr._replace(signals_input=xp_array_to_gpu(sgr.signals_input))\n",
    "                        assert len(sgr.signal_ids) == sgr.signals_input.shape[0]\n",
    "                        assert sgr.signals_input.shape[0] == sgr.signals_output.shape[0]\n",
    "                        stats_signals_processed_count += sgr.signals_input.shape[0]\n",
    "                        LOG(f'Prepared {sgr.signals_input.shape[0]} signals')\n",
    "                        # assert False\n",
    "\n",
    "                        ### Create new clusters\n",
    "                        # if len(prev_cycle_sgr.signals_input) > 0:\n",
    "                        #     assert False\n",
    "                            \n",
    "                        learn_clusters_count = len(LEARN_CLUSTER_METAS)\n",
    "                        new_cluster_inds = []\n",
    "                        new_cluster_attrs_list = namedtuple('NewClusterAttrsList', ['output_bits', 'nzb_counts', 'nzbs'])([], [], [])\n",
    "                        signals_count_for_new_clusters = 0\n",
    "\n",
    "                        # Create clusters from prev sgr to avoid situation when clusters are created and get immediately learned on the same data\n",
    "                        for signal_input, signal_output in zip(prev_cycle_sgr.signals_input, prev_cycle_sgr.signals_output):\n",
    "                            if learn_clusters_count + new_clusters_creation_rate_calc.value > HP_LEARN_CLUSTERS_COUNT_SOFT_LIMIT:\n",
    "                                break\n",
    "                                \n",
    "                            signals_count_for_new_clusters += 1\n",
    "                            active_points_boolmap = signal_output[point_output_bits] != 0\n",
    "                            active_point_inds = point_inds[active_points_boolmap]\n",
    "\n",
    "                            if active_point_inds.shape[0] == 0:\n",
    "                                new_clusters_creation_rate_calc(0)\n",
    "                                continue\n",
    "                                \n",
    "                            nzb_counts = xp.zeros(active_point_inds.shape[0], dtype='i')\n",
    "                            nzbs = xp.full((active_point_inds.shape[0], HP_POINT_NON_ZERO_BITS), -1, dtype='i')\n",
    "                            cuda_block_size = 256\n",
    "                            cuda_blocks_count = math.ceil(active_point_inds.shape[0] / cuda_block_size)\n",
    "                            cuda_get_source_data_for_new_clusters_kernel(\n",
    "                                (cuda_blocks_count, ), (cuda_block_size,),\n",
    "                                (\n",
    "                                    # INPUT\n",
    "                                    cp.int32(HP_SIGNAL_VEC_LEN),\n",
    "                                    cp.int32(HP_POINT_NON_ZERO_BITS),\n",
    "                                    cp.int32(HP_CLUSTER_CREATION_ONES_COUNT_THRES),\n",
    "                                    ensure_dtype(signal_input, cp.float32),\n",
    "                                    cp.int32(active_point_inds.shape[0]), \n",
    "                                    ensure_dtype(xp_array_to_gpu(active_point_inds), cp.int32),\n",
    "                                    ensure_dtype(points, cp.float32),\n",
    "                                    # OUTPUT\n",
    "                                    ensure_dtype(nzb_counts, cp.int32),\n",
    "                                    ensure_dtype(nzbs, cp.int32)\n",
    "                                 )\n",
    "                            )\n",
    "\n",
    "                            nzb_counts_cpu = xp_array_from_gpu(nzb_counts)\n",
    "                            nzbs_cpu = xp_array_from_gpu(nzbs)\n",
    "                            valid_inds_boolmap = nzb_counts_cpu > 0\n",
    "                            learn_clusters_count0 = learn_clusters_count\n",
    "                            \n",
    "                            for point_ind, nzb_count, nzb in zip(active_point_inds[valid_inds_boolmap], nzb_counts_cpu[valid_inds_boolmap], nzbs_cpu[valid_inds_boolmap]):\n",
    "                                active_output_bit = int(point_output_bits[point_ind])\n",
    "                                assert nzb_count >= HP_CLUSTER_CREATION_ONES_COUNT_THRES\n",
    "                                active_input_bits = nzb[:nzb_count]\n",
    "                                cluster_key = get_cluster_key(active_output_bit, active_input_bits) \n",
    "                        \n",
    "                                if cluster_key in unique_cluster_keys:\n",
    "                                    continue\n",
    "                        \n",
    "                                # GPU doesn't honor frequent uploads of data - it renders way to slow execution.\n",
    "                                # as such during clusters-creation-loop a) stage new clusters on CPU b) reserve indices in GPU array\n",
    "                                # At the end bulk upload to GPU\n",
    "                                cluster_ind = LEARN_CLUSTERS.lease() \n",
    "                                new_cluster_inds.append(cluster_ind)\n",
    "                                new_cluster_attrs_list.output_bits.append(active_output_bit)\n",
    "                                new_cluster_attrs_list.nzb_counts.append(nzb_count)\n",
    "                                new_cluster_attrs_list.nzbs.append(nzb)\n",
    "                                \n",
    "                                cluster_meta = ClusterMeta(cluster_ind)\n",
    "                                cluster_meta.cluster_key = cluster_key\n",
    "                                cluster_meta.output_bit = active_output_bit\n",
    "                                cluster_meta.input_bits = tuple(map(int, active_input_bits))\n",
    "                                assert not cluster_ind in LEARN_CLUSTER_METAS\n",
    "                                LEARN_CLUSTER_METAS[cluster_ind] = cluster_meta\n",
    "                                LEARN_CLUSTERS_SIDECAR.sync(cluster_meta)\n",
    "                                unique_cluster_keys.add(cluster_key)\n",
    "                                learn_clusters_count += 1\n",
    "\n",
    "                            assert learn_clusters_count >= learn_clusters_count0\n",
    "                            new_clusters_creation_rate_calc(learn_clusters_count - learn_clusters_count0)\n",
    "\n",
    "                        if new_cluster_inds:\n",
    "                            new_cluster_inds = xp.array(new_cluster_inds, dtype='i')\n",
    "                            cuda_block_size = 256\n",
    "                            cuda_blocks_count = math.ceil(new_cluster_inds.shape[0] / cuda_block_size)\n",
    "                            cuda_init_new_clusters_kernel(\n",
    "                                (cuda_blocks_count, ), (cuda_block_size,),\n",
    "                                (\n",
    "                                    # INPUT\n",
    "                                    cp.int32(HP_SIGNAL_VEC_LEN),\n",
    "                                    cp.int32(HP_POINT_NON_ZERO_BITS),\n",
    "                                    cp.int32(HP_CLUSTER_BINARIZATION_SCHEDULE_SIZE),\n",
    "                                    ensure_dtype(xp.array(HP_CLUSTER_LEARN_BINARIZATION_SCHEDULE, dtype='i'), cp.int32),\n",
    "                                    cp.int32(new_cluster_inds.shape[0]), \n",
    "                                    ensure_dtype(new_cluster_inds, cp.int32),\n",
    "                                    ensure_dtype(xp.array(new_cluster_attrs_list.output_bits, dtype='i'), cp.int32),\n",
    "                                    ensure_dtype(xp.array(new_cluster_attrs_list.nzb_counts, dtype='i'), cp.int32),\n",
    "                                    ensure_dtype(xp.array(new_cluster_attrs_list.nzbs, dtype='i'), cp.int32),\n",
    "                                    # OUTPUT\n",
    "                                    ensure_dtype(LEARN_CLUSTERS.array, cp.float32),\n",
    "                                    ensure_dtype(LEARN_CLUSTERS_SIDECAR.masks, cp.float32),\n",
    "                                    ensure_dtype(LEARN_CLUSTERS_SIDECAR.output_bits, cp.int32),\n",
    "                                    ensure_dtype(LEARN_CLUSTERS_SIDECAR.nus, cp.float32),\n",
    "                                    ensure_dtype(LEARN_CLUSTERS_SIDECAR.binarization_schedules, cp.int32),\n",
    "                                    ensure_dtype(LEARN_CLUSTERS_SIDECAR.binarization_countdowns, cp.int32)\n",
    "                                 )\n",
    "                            )\n",
    "                            \n",
    "                        stats_parent_signals_count += signals_count_for_new_clusters\n",
    "                        stats_learn_clusters_created_count += len(new_cluster_inds)\n",
    "                        LOG(f'Created {len(new_cluster_inds)} LEARN clusters from {signals_count_for_new_clusters} signals, create rate={new_clusters_creation_rate_calc.value:.0f} clusters/signal')\n",
    "                        \n",
    "                        if cycle == 1:\n",
    "                            assert False\n",
    "\n",
    "                        continue\n",
    "\n",
    "                        ### Learn clusters\n",
    "                        learn_clusters_count = LEARN_CLUSTERS.active_len\n",
    "                        learned_cluster_inds = []\n",
    "                        \n",
    "                        if learn_clusters_count > 0:\n",
    "                            learn_clusters = LEARN_CLUSTERS.array_active\n",
    "                            assert learn_clusters.shape[0] == learn_clusters_count\n",
    "                            learn_cluster_is_present_boolmap = xp_array_to_gpu(LEARN_CLUSTERS_SIDECAR.is_present_boolmap[:learn_clusters_count])\n",
    "                            learn_cluster_output_bits = LEARN_CLUSTERS_SIDECAR.output_bits[:learn_clusters_count]\n",
    "                            learn_cluster_masks = LEARN_CLUSTERS_SIDECAR.masks[:learn_clusters_count]\n",
    "                            learn_cluster_nus = LEARN_CLUSTERS_SIDECAR.nus[:learn_clusters_count]\n",
    "                            learn_cluster_signals_learned_counters = LEARN_CLUSTERS_SIDECAR.signals_learned_counters[:learn_clusters_count]\n",
    "                            learn_cluster_signals_till_binarization_counters = LEARN_CLUSTERS_SIDECAR.signals_to_learn_till_binarization_counters[:learn_clusters_count]\n",
    "                            learn_cluster_update_counters = xp.zeros(learn_clusters_count, dtype='i')\n",
    "                            assert learn_clusters.shape[0] > 0\n",
    "                            assert learn_clusters.shape[0] == learn_cluster_is_present_boolmap.shape[0]\n",
    "                            assert learn_clusters.shape == learn_cluster_masks.shape\n",
    "                            assert learn_clusters.shape[0] == learn_cluster_nus.shape[0]\n",
    "                            assert learn_clusters.shape[0] == learn_cluster_output_bits.shape[0]\n",
    "                            assert learn_clusters.shape[0] == learn_cluster_signals_learned_counters.shape[0]\n",
    "                            assert learn_clusters.shape[0] == learn_cluster_signals_till_binarization_counters.shape[0]\n",
    "                            assert learn_clusters.shape[0] == learn_cluster_update_counters.shape[0]\n",
    "                            assert not learn_clusters.base is None\n",
    "                            assert not learn_cluster_masks.base is None\n",
    "    \n",
    "                            cuda_block_size = 256\n",
    "                            cuda_blocks_count = math.ceil(learn_clusters.shape[0] / cuda_block_size)\n",
    "                            cuda_learn_clusters_kernel((cuda_blocks_count, ), (cuda_block_size,),\n",
    "                                                       (\n",
    "                                                        # INPUT\n",
    "                                                        cp.int32(HP_SIGNAL_VEC_LEN),\n",
    "                                                        cp.int32(HP_CLUSTER_ONES_COUNT_THRES),\n",
    "                                                        cp.int32(sgr.signals_input.shape[0]),\n",
    "                                                        ensure_dtype(sgr.signals_input, cp.float32), \n",
    "                                                        ensure_dtype(xp_array_to_gpu(sgr.signals_output), cp.float32),\n",
    "                                                        cp.int32(learn_clusters.shape[0]), \n",
    "                                                        ensure_dtype(learn_clusters, cp.float32), \n",
    "                                                        ensure_dtype(learn_cluster_is_present_boolmap, cp.bool),\n",
    "                                                        ensure_dtype(learn_cluster_output_bits, cp.int32), \n",
    "                                                        ensure_dtype(learn_cluster_masks, cp.int32), \n",
    "                                                        ensure_dtype(learn_cluster_nus, cp.float32), \n",
    "                                                        # OUTPUT\n",
    "                                                        ensure_dtype(learn_cluster_signals_learned_counters, cp.int32),\n",
    "                                                        ensure_dtype(learn_cluster_signals_till_binarization_counters, cp.int32),\n",
    "                                                        ensure_dtype(learn_clusters, cp.float32),\n",
    "                                                        ensure_dtype(learn_cluster_update_counters, cp.int32)\n",
    "                                                        ))\n",
    "                            learned_cluster_inds = xp_array_from_gpu(np.flatnonzero(learn_cluster_update_counters))\n",
    "                            LEARN_CLUSTERS_SIDECAR.last_activity_cycles[learned_cluster_inds] = cycle\n",
    "                            is_binarizable_boolmap = LEARN_CLUSTERS_SIDECAR.is_present_boolmap[:learn_clusters_count]\n",
    "                            is_binarizable_boolmap = is_binarizable_boolmap & xp_array_from_gpu(learn_cluster_signals_till_binarization_counters <= 0)\n",
    "                            LEARN_CLUSTERS_SIDECAR.is_binarizable_boolmap[:learn_clusters_count] = is_binarizable_boolmap\n",
    "\n",
    "                        LOG(f'Learned {len(learned_cluster_inds)} clusters')\n",
    "\n",
    "                        ### Binarize LEARN clusters (develop specialization)\n",
    "                        is_binarizable_boolmap = LEARN_CLUSTERS_SIDECAR.is_binarizable_boolmap[:LEARN_CLUSTERS.active_len]\n",
    "                        cluster_inds_to_binarize = np.arange(LEARN_CLUSTERS.active_len, dtype='i')[is_binarizable_boolmap]\n",
    "                        new_cluster_states = Counter()\n",
    "                        death_reasons = Counter()\n",
    "\n",
    "                        if cluster_inds_to_binarize.shape[0] > 0:\n",
    "                            ones_counts = xp.zeros(cluster_inds_to_binarize.shape[0], dtype='i')\n",
    "                            nzb_list = xp.full((cluster_inds_to_binarize.shape[0], HP_POINT_NON_ZERO_BITS), -1, dtype='i')\n",
    "                            cuda_block_size = 256\n",
    "                            cuda_blocks_count = math.ceil(cluster_inds_to_binarize.shape[0] / cuda_block_size)\n",
    "                            cuda_binarize_clusters_kernel(\n",
    "                                (cuda_blocks_count, ), (cuda_block_size,),\n",
    "                                (\n",
    "                                    cp.int32(HP_SIGNAL_VEC_LEN),\n",
    "                                    cp.int32(HP_POINT_NON_ZERO_BITS),\n",
    "                                    cp.float32(HP_CLUSTER_BINARIZE_THRES),\n",
    "                                    cp.int32(cluster_inds_to_binarize.shape[0]), \n",
    "                                    ensure_dtype(xp_array_to_gpu(cluster_inds_to_binarize), cp.int32),\n",
    "                                    ensure_dtype(LEARN_CLUSTERS.array, cp.float32), \n",
    "                                    ensure_dtype(LEARN_CLUSTERS.array, cp.float32),\n",
    "                                    ensure_dtype(LEARN_CLUSTERS_SIDECAR.masks, cp.float32),\n",
    "                                    ensure_dtype(ones_counts, cp.int32),\n",
    "                                    ensure_dtype(nzb_list, cp.int32)\n",
    "                                )\n",
    "                            )\n",
    "                            ones_counts = xp_array_from_gpu(ones_counts)\n",
    "                            nzb_list = xp_array_from_gpu(nzb_list)\n",
    "                            learn_clusters_sidecar_patch = LearnClustersSidecarPatch()\n",
    "                            \n",
    "                            for cluster_ind, ones_count, nzb in zip(cluster_inds_to_binarize, ones_counts, nzb_list):\n",
    "                                cluster_meta = LEARN_CLUSTER_METAS[cluster_ind]\n",
    "                                assert cluster_meta.state == ClusterState.LEARN\n",
    "                                # assert cluster_meta.signals_to_learn_till_binarization <= 0\n",
    "                                # cluster_meta.last_activity_cycle = cycle\n",
    "                                cluster_meta.binarization_schedule = cluster_meta.binarization_schedule[1:]\n",
    "                                # cluster_meta.signals_to_learn_till_binarization = cluster_meta.binarization_schedule[0] if cluster_meta.binarization_schedule else 0\n",
    "                                cluster_meta.ones_count = int(ones_count)\n",
    "                                assert cluster_meta.ones_count > 0\n",
    "                                # cluster_meta.nu = 1 / cluster_meta.ones_count\n",
    "\n",
    "                                b = cluster_meta.binarization_schedule[0] if cluster_meta.binarization_schedule else 0\n",
    "                                learn_clusters_sidecar_patch.signals_to_learn_till_binarization_counters.append(b)\n",
    "                                learn_clusters_sidecar_patch.nus.append(1 / cluster_meta.ones_count)\n",
    "                                learn_clusters_sidecar_patch.last_activity_cycles.append(cycle)\n",
    "\n",
    "                                if cluster_meta.ones_count >= HP_CLUSTER_ONES_COUNT_THRES:\n",
    "                                    old_cluster_key = cluster_meta.cluster_key\n",
    "                                    cluster_meta.input_bits = tuple(map(int, nzb[:ones_count]))\n",
    "                                    new_cluster_key = get_cluster_key(cluster_meta.output_bit, cluster_meta.input_bits)\n",
    "    \n",
    "                                    if old_cluster_key != new_cluster_key:\n",
    "                                        if new_cluster_key in unique_cluster_keys:\n",
    "                                            cluster_meta.state = ClusterState.DEAD\n",
    "                                            death_reasons['DUPLICATE'] += 1\n",
    "                                        else:\n",
    "                                            cluster_meta.cluster_key = new_cluster_key\n",
    "                                            unique_cluster_keys.remove(old_cluster_key)\n",
    "                                            unique_cluster_keys.add(new_cluster_key)\n",
    "                                else:\n",
    "                                    cluster_meta.state = ClusterState.DEAD\n",
    "                                    death_reasons['SHORT'] += 1\n",
    "\n",
    "                                # LEARN_CLUSTERS_SIDECAR.sync(cluster_meta)\n",
    "                                learn_clusters_sidecar_patch.cluster_states.append(cluster_meta.state)\n",
    "                                learn_clusters_sidecar_patch.is_dead_boolmap.append(cluster_meta.state == ClusterState.DEAD)\n",
    "                                learn_clusters_sidecar_patch.is_promotable_boolmap.append(cluster_meta.state == ClusterState.LEARN and not cluster_meta.binarization_schedule)\n",
    "                                new_cluster_states[cluster_meta.state.name] += 1\n",
    "                            \n",
    "                            LEARN_CLUSTERS_SIDECAR.patch(cluster_inds_to_binarize, learn_clusters_sidecar_patch)\n",
    "\n",
    "                        LOG(f'Binarized {cluster_inds_to_binarize.shape[0]} LEARN clusters: {new_cluster_states}; death reasons: {death_reasons}')\n",
    "                        # assert False\n",
    "                        \n",
    "                        ### Promote LEARN clusters to PROD_CANDIDATE if they've learned enough (binarization schedule is exhausted)\n",
    "                        prod_candidate_clusters_count = CLUSTERS_SIDECAR.cluster_states_counter[ClusterState.PROD_CANDIDATE.name]\n",
    "                        is_promotable_boolmap = LEARN_CLUSTERS_SIDECAR.is_promotable_boolmap[:LEARN_CLUSTERS.active_len]\n",
    "                        cluster_inds_to_promote = np.arange(LEARN_CLUSTERS.active_len)[is_promotable_boolmap]\n",
    "                        new_cluster_states = Counter()\n",
    "                        \n",
    "                        for cluster_ind in cluster_inds_to_promote:\n",
    "                            cluster_meta = LEARN_CLUSTER_METAS[cluster_ind]\n",
    "                            assert cluster_meta.state == ClusterState.LEARN\n",
    "                            assert not cluster_meta.binarization_schedule\n",
    "                            assert cluster_meta.ones_count >= HP_CLUSTER_ONES_COUNT_THRES\n",
    "                            cluster_ind = cluster_meta.cluster_ind\n",
    "                            # cluster_meta.last_activity_cycle = cycle\n",
    "                            cluster_meta.state = ClusterState.PROD_CANDIDATE\n",
    "                            cluster_meta.accuracy_calc = AverageFilter()\n",
    "                            cluster_meta.verify_signal_ids.clear()\n",
    "                            del LEARN_CLUSTER_METAS[cluster_ind]\n",
    "                            LEARN_CLUSTERS_SIDECAR.remove(cluster_ind)\n",
    "                            LEARN_CLUSTERS.release(cluster_ind, do_wipeout_data=False)\n",
    "\n",
    "                            # move to PROD_CANDIDATE under new cluster_ind\n",
    "                            cluster_meta.cluster_ind = CLUSTERS.lease()\n",
    "                            CLUSTERS.array[cluster_meta.cluster_ind] = LEARN_CLUSTERS.array[cluster_ind]\n",
    "                            assert not cluster_meta.cluster_ind in CLUSTER_METAS\n",
    "                            CLUSTER_METAS[cluster_meta.cluster_ind] = cluster_meta\n",
    "                            CLUSTERS_SIDECAR.sync(cluster_meta)\n",
    "                            CLUSTERS_SIDECAR.last_activity_cycles[cluster_meta.cluster_ind] = cycle\n",
    "\n",
    "                            new_cluster_states[cluster_meta.state.name] += 1\n",
    "\n",
    "                            if (prod_candidate_clusters_count + new_cluster_states.total()) >= HP_PROD_CANDIDATE_CLUSTERS_COUNT_SOFT_LIMIT:\n",
    "                                # do not exceed limit of prod candidates to avoid their preliminary death by soft limit checker\n",
    "                                break\n",
    "\n",
    "                        LOG(f'Promoted {new_cluster_states.total()} of {cluster_inds_to_promote.shape[0]} LEARN clusters: {new_cluster_states}')\n",
    "\n",
    "                        ### Verify PROD_CANDIDATE/PROD_WORK clusters against new signals\n",
    "                        verify_cluster_inds = np.arange(CLUSTERS.array.shape[0])[CLUSTERS_SIDECAR.is_verifiable_boolmap]\n",
    "                        verify_cluster_ones_counts = xp_array_to_gpu(CLUSTERS_SIDECAR.ones_counts[verify_cluster_inds])\n",
    "                        verify_cluster_output_bits = CLUSTERS_SIDECAR.output_bits[verify_cluster_inds]\n",
    "                        verify_clusters = CLUSTERS.array[verify_cluster_inds]\n",
    "                        verified_cluster_inds = set()\n",
    "                        # row - signal input, column - how many bits are activated in verify cluster for corresponding signal_input\n",
    "                        signal_input_to_activated_clusters_boolmap_mat = sgr.signals_input @ verify_clusters.T\n",
    "                        # row - signal_input, column - true if corresponding verify cluster have enough bits activated, false otherwise\n",
    "                        signal_input_to_activated_clusters_boolmap_mat = (signal_input_to_activated_clusters_boolmap_mat >= verify_cluster_ones_counts)\n",
    "                        signal_input_to_activated_clusters_boolmap_mat = xp_array_from_gpu(signal_input_to_activated_clusters_boolmap_mat)\n",
    "                        assert signal_input_to_activated_clusters_boolmap_mat.shape[0] == sgr.signals_output.shape[0]\n",
    "                        assert signal_input_to_activated_clusters_boolmap_mat.shape[0] == len(sgr.signal_ids)\n",
    "                        \n",
    "                        for activated_clusters_boolmap, signal_output, signal_id in zip(signal_input_to_activated_clusters_boolmap_mat, \n",
    "                                                                                        sgr.signals_output, sgr.signal_ids):\n",
    "                            # cast array of output_bit numbers [0, 3, 4, 7, 7, 0, 3, 32, ..] to TP array [True, False, False, True, True, True, False, False, ...]\n",
    "                            # where True if output_bit of verify_cluster is enabled in signal_output and False otherwise\n",
    "                            verify_cluster_output_bits_tf = signal_output[verify_cluster_output_bits] != 0\n",
    "                            cluster_inds = verify_cluster_inds[activated_clusters_boolmap]\n",
    "                            tfs = verify_cluster_output_bits_tf[activated_clusters_boolmap]\n",
    "                            assert cluster_inds.shape[0] == tfs.shape[0]\n",
    "                            \n",
    "                            for cluster_ind, tf in zip(cluster_inds, tfs):\n",
    "                                cluster_meta = CLUSTER_METAS[cluster_ind]\n",
    "                                cluster_meta.last_activity_cycle = cycle\n",
    "                                cluster_meta.accuracy_calc(int(tf))\n",
    "                                cluster_meta.verify_signal_ids.append((signal_id, int(tf)))\n",
    "                                CLUSTERS_SIDECAR.sync(cluster_meta)\n",
    "                                verified_cluster_inds.add(cluster_ind)\n",
    "                    \n",
    "                        LOG(f'Verified {len(verified_cluster_inds)} PROD_* clusters')\n",
    "\n",
    "                        ### Promote PROD_CANDIDATE clusters to PROD_WORK if they've been verified enough\n",
    "                        is_promotable_to_prod_work_boolmap = CLUSTERS_SIDECAR.is_promotable_to_prod_work_boolmap[:CLUSTERS.active_len]\n",
    "                        cluster_inds_to_promote = np.arange(CLUSTERS.active_len)[is_promotable_to_prod_work_boolmap]\n",
    "                        new_cluster_states = Counter()\n",
    "                        \n",
    "                        for cluster_ind in cluster_inds_to_promote:\n",
    "                            cluster_meta = CLUSTER_METAS[cluster_ind]\n",
    "                            assert cluster_meta.state == ClusterState.PROD_CANDIDATE\n",
    "                            assert len(cluster_meta.verify_signal_ids) >= HP_CLUSTER_PROD_WORK_SIGNALS_PROCESSED_THRES\n",
    "                            assert cluster_meta.ones_count >= HP_CLUSTER_ONES_COUNT_THRES\n",
    "                            cluster_meta.state = ClusterState.PROD_WORK\n",
    "                            cluster_meta.accuracy_calc = MovingAverageFilter(HP_CLUSTER_PROD_ETERNAL_SIGNALS_PROCESSED_THRES)\n",
    "                            \n",
    "                            for verify_signal_id in cluster_meta.verify_signal_ids:\n",
    "                                cluster_meta.accuracy_calc(verify_signal_id[1])\n",
    "\n",
    "                            CLUSTERS_SIDECAR.sync(cluster_meta)\n",
    "                            new_cluster_states[cluster_meta.state.name] += 1\n",
    "                    \n",
    "                        LOG(f'Promoted {new_cluster_states.total()} PROD_CANDIDATE clusters: {new_cluster_states}')\n",
    "\n",
    "                        ### Promote PROD_WORK clusters to PROD_ETERNAL or depromote back to LEARN based on accuracy and experience\n",
    "                        is_prod_work_boolmap = CLUSTERS_SIDECAR.is_prod_work_boolmap[:CLUSTERS.active_len]\n",
    "                        cluster_inds_to_promote = np.arange(CLUSTERS.active_len)[is_prod_work_boolmap]\n",
    "                        new_cluster_states = Counter()\n",
    "                        learn_cluster_inds = []\n",
    "                        learn_clusters_sidecar_patch = LearnClustersSidecarPatch()\n",
    "                        \n",
    "                        for cluster_ind in cluster_inds_to_promote:\n",
    "                            cluster_meta = CLUSTER_METAS[cluster_ind]\n",
    "                            assert cluster_meta.state == ClusterState.PROD_WORK\n",
    "                            assert cluster_meta.ones_count >= HP_CLUSTER_ONES_COUNT_THRES\n",
    "                            accuracy = cluster_meta.accuracy_calc.value\n",
    "\n",
    "                            if accuracy < HP_CLUSTER_PROD_WORK_ACCURACY_THRES:\n",
    "                                # bad, bad, bad prod-work cluster. You are too inaccurate, you are depromoted back to LEARN so you've a chance to fix your behavior\n",
    "                                cluster_ind = cluster_meta.cluster_ind\n",
    "                                del CLUSTER_METAS[cluster_ind]\n",
    "                                CLUSTERS.release(cluster_ind, do_wipeout_data=False)\n",
    "                                CLUSTERS_SIDECAR.remove(cluster_ind)\n",
    "                                \n",
    "                                cluster_meta.cluster_ind = LEARN_CLUSTERS.lease()\n",
    "                                cluster_meta.state = ClusterState.LEARN\n",
    "                                assert cluster_meta.cluster_key in unique_cluster_keys\n",
    "                                # cluster_meta.nu = 1 / cluster_meta.ones_count\n",
    "                                # cluster_meta.signals_learned = 0\n",
    "                                cluster_meta.binarization_schedule = HP_CLUSTER_RELEARN_BINARIZATION_SCHEDULE\n",
    "                                # cluster_meta.signals_to_learn_till_binarization = cluster_meta.binarization_schedule[0]\n",
    "                                cluster_meta.accuracy_calc = None\n",
    "                                cluster_meta.verify_signal_ids.clear()\n",
    "                                \n",
    "                                assert not cluster_meta.cluster_ind in LEARN_CLUSTER_METAS\n",
    "                                LEARN_CLUSTER_METAS[cluster_meta.cluster_ind] = cluster_meta\n",
    "                                LEARN_CLUSTERS.array[cluster_meta.cluster_ind] = CLUSTERS.array[cluster_ind]\n",
    "                                # LEARN_CLUSTERS_SIDECAR.masks[cluster_meta.cluster_ind] = CLUSTERS.array[cluster_ind]\n",
    "                                # LEARN_CLUSTERS_SIDECAR.sync(cluster_meta)\n",
    "                                \n",
    "                                learn_cluster_inds.append(cluster_meta.cluster_ind)\n",
    "                                learn_clusters_sidecar_patch.cluster_states.append(cluster_meta.state)\n",
    "                                learn_clusters_sidecar_patch.masks.append(CLUSTERS.array[cluster_ind])\n",
    "                                learn_clusters_sidecar_patch.nus.append(1 / cluster_meta.ones_count)\n",
    "                                learn_clusters_sidecar_patch.signals_learned_counters.append(0)\n",
    "                                learn_clusters_sidecar_patch.signals_to_learn_till_binarization_counters.append(cluster_meta.binarization_schedule[0])\n",
    "                                learn_clusters_sidecar_patch.last_activity_cycles.append(cycle)\n",
    "                                learn_clusters_sidecar_patch.is_present_boolmap.append(True)\n",
    "                                \n",
    "                            elif len(cluster_meta.verify_signal_ids) >= HP_CLUSTER_PROD_ETERNAL_SIGNALS_PROCESSED_THRES and accuracy >= HP_CLUSTER_PROD_ETERNAL_ACCURACY_THRES:\n",
    "                                # Elite cluster is born! Promote to pantheon of eternal clusters\n",
    "                                cluster_meta.state = ClusterState.PROD_ETERNAL\n",
    "                                CLUSTERS_SIDECAR.sync(cluster_meta)\n",
    "                            else:\n",
    "                                continue\n",
    "                                \n",
    "                            new_cluster_states[cluster_meta.state.name] += 1\n",
    "\n",
    "                        LEARN_CLUSTERS_SIDECAR.patch(np.array(learn_cluster_inds), learn_clusters_sidecar_patch)\n",
    "                        LOG(f'Promoted {new_cluster_states.total()} PROD_WORK clusters: {new_cluster_states}')\n",
    "                    \n",
    "                        ### Weed the garden\n",
    "                        def remove_cluster(meta, metas, clusters, clusters_sidecar):\n",
    "                            unique_cluster_keys.remove(meta.cluster_key)\n",
    "                            del metas[meta.cluster_ind]\n",
    "                            clusters.release(meta.cluster_ind, do_wipeout_data=False)\n",
    "                            clusters_sidecar.remove(meta.cluster_ind)\n",
    "                        \n",
    "                        def remove_dead_clusters(metas, clusters, clusters_sidecar):\n",
    "                            is_dead_boolmap = clusters_sidecar.is_dead_boolmap[:clusters.active_len]\n",
    "                            cluster_inds_to_remove = np.arange(clusters.active_len)[is_dead_boolmap]\n",
    "\n",
    "                            for cluster_ind in cluster_inds_to_remove:\n",
    "                                meta = metas[cluster_ind]\n",
    "                                assert meta.state == ClusterState.DEAD\n",
    "                                remove_cluster(meta, metas, clusters, clusters_sidecar)\n",
    "                                \n",
    "                            assert len(metas) == clusters.len, (len(metas), clusters.len)\n",
    "                            return len(cluster_inds_to_remove)\n",
    "\n",
    "                        def soft_limit_clusters(soft_limit, metas, clusters, clusters_sidecar, cluster_state):\n",
    "                            clusters_count = clusters_sidecar.cluster_states_counter[cluster_state.name]\n",
    "                            \n",
    "                            if clusters_count <= soft_limit:\n",
    "                                return 0, -1, -1\n",
    "                                \n",
    "                            metas_of_interest = list(filter(lambda m: m.state == cluster_state, metas.values()))\n",
    "                            assert len(metas_of_interest) == clusters_count\n",
    "                            redundant_metas_count = len(metas_of_interest) - soft_limit\n",
    "                            assert redundant_metas_count > 0\n",
    "                            metas_by_inactivity = list(map(lambda m: (m.last_activity_cycle, m.cluster_ind), metas_of_interest))\n",
    "                            metas_by_inactivity.sort() # most inactive metas will be concentrated at the very beginning\n",
    "                            most_inactive_metas = metas_by_inactivity[:redundant_metas_count]\n",
    "                            min_age = cycle - most_inactive_metas[-1][0]\n",
    "                            max_age = cycle - most_inactive_metas[0][0]\n",
    "                            most_inactive_metas = list(map(lambda x: metas[x[1]], most_inactive_metas))\n",
    "                            assert len(most_inactive_metas) == redundant_metas_count\n",
    "                            \n",
    "                            for meta in most_inactive_metas:\n",
    "                                remove_cluster(meta, metas, clusters, clusters_sidecar)\n",
    "                                \n",
    "                            assert len(metas) == clusters.len\n",
    "                            return len(most_inactive_metas), min_age, max_age\n",
    "\n",
    "                        removed_count = remove_dead_clusters(LEARN_CLUSTER_METAS, LEARN_CLUSTERS, LEARN_CLUSTERS_SIDECAR)\n",
    "                        LOG(f'Removed {removed_count} dead LEARN clusters')\n",
    "                        removed_count = remove_dead_clusters(CLUSTER_METAS, CLUSTERS, CLUSTERS_SIDECAR)\n",
    "                        LOG(f'Removed {removed_count} dead PROD_CANDIDATE clusters')\n",
    "                        removed_count, min_age, max_age = soft_limit_clusters(HP_LEARN_CLUSTERS_COUNT_SOFT_LIMIT, LEARN_CLUSTER_METAS, LEARN_CLUSTERS, LEARN_CLUSTERS_SIDECAR, ClusterState.LEARN)\n",
    "                        LOG(f'Removed {removed_count} LEARN clusters by soft limit {HP_LEARN_CLUSTERS_COUNT_SOFT_LIMIT:_}; age=[{min_age}, {max_age}]')\n",
    "                        removed_count, min_age, max_age = soft_limit_clusters(HP_PROD_CANDIDATE_CLUSTERS_COUNT_SOFT_LIMIT, CLUSTER_METAS, CLUSTERS, CLUSTERS_SIDECAR, ClusterState.PROD_CANDIDATE)\n",
    "                        LOG(f'Removed {removed_count} PROD_CANDIDATE clusters by soft limit {HP_PROD_CANDIDATE_CLUSTERS_COUNT_SOFT_LIMIT:_}; age=[{min_age}, {max_age}]')\n",
    "                        removed_count, min_age, max_age = soft_limit_clusters(HP_PROD_WORK_CLUSTERS_COUNT_SOFT_LIMIT, CLUSTER_METAS, CLUSTERS, CLUSTERS_SIDECAR, ClusterState.PROD_WORK)\n",
    "                        LOG(f'Removed {removed_count} PROD_WORK clusters by soft limit {HP_PROD_WORK_CLUSTERS_COUNT_SOFT_LIMIT:_}; age=[{min_age}, {max_age}]')\n",
    "\n",
    "                persist_prod_clusters_governeur(is_forced=True)"
   ]
  },
  {
   "cell_type": "code",
   "execution_count": null,
   "id": "3fa0343f-eb58-469f-be2c-59abbf710fb7",
   "metadata": {},
   "outputs": [],
   "source": []
  },
  {
   "cell_type": "markdown",
   "id": "c2157ff8-4566-479d-87e4-85c46173b272",
   "metadata": {},
   "source": [
    "## Post-train"
   ]
  },
  {
   "cell_type": "code",
   "execution_count": 73,
   "id": "84fe82bc-db6c-436c-a8b4-fc004b7caee5",
   "metadata": {},
   "outputs": [],
   "source": [
    "bm = LEARN_CLUSTERS_SIDECAR.is_dead_boolmap[:LEARN_CLUSTERS.active_len]\n",
    "inds = np.arange(LEARN_CLUSTERS.active_len)[bm]\n",
    "\n",
    "for i, cluster_ind in enumerate(inds):\n",
    "    meta = LEARN_CLUSTER_METAS[cluster_ind]\n",
    "    assert meta.state == ClusterState.DEAD"
   ]
  },
  {
   "cell_type": "code",
   "execution_count": 120,
   "id": "7cf1958f-2700-4dfc-8b6c-ea86b7d67e40",
   "metadata": {},
   "outputs": [
    {
     "data": {
      "text/plain": [
       "(0, np.int64(286786))"
      ]
     },
     "execution_count": 120,
     "metadata": {},
     "output_type": "execute_result"
    }
   ],
   "source": [
    "i, cluster_ind"
   ]
  },
  {
   "cell_type": "code",
   "execution_count": 122,
   "id": "acea7655-30bf-4f08-bc4f-6583038d6874",
   "metadata": {},
   "outputs": [
    {
     "data": {
      "text/plain": [
       "{'state': <ClusterState.LEARN: 'learn'>,\n",
       " 'cluster_ind': 286786,\n",
       " 'cluster_key': (783, (50, 231, 360, 428, 803, 899, 945)),\n",
       " 'output_bit': 783,\n",
       " 'input_bits': (np.int32(50),\n",
       "  np.int32(231),\n",
       "  np.int32(360),\n",
       "  np.int32(428),\n",
       "  np.int32(803),\n",
       "  np.int32(899),\n",
       "  np.int32(945)),\n",
       " 'ones_count': -1,\n",
       " 'binarization_schedule': (5, 10),\n",
       " 'accuracy_calc': None,\n",
       " 'verify_signal_ids': []}"
      ]
     },
     "execution_count": 122,
     "metadata": {},
     "output_type": "execute_result"
    }
   ],
   "source": [
    "vars(meta)"
   ]
  },
  {
   "cell_type": "code",
   "execution_count": 128,
   "id": "2016afe1-8d3b-432b-af17-286d955cdccf",
   "metadata": {},
   "outputs": [
    {
     "data": {
      "text/plain": [
       "(np.True_, np.True_, 'LEARN')"
      ]
     },
     "execution_count": 128,
     "metadata": {},
     "output_type": "execute_result"
    }
   ],
   "source": [
    "LEARN_CLUSTERS_SIDECAR.is_present_boolmap[286786], LEARN_CLUSTERS_SIDECAR.is_dead_boolmap[286786], LEARN_CLUSTERS_SIDECAR.cluster_states[286786]"
   ]
  },
  {
   "cell_type": "code",
   "execution_count": 65,
   "id": "d9c0c992-16a0-41fa-b22c-c72d254de264",
   "metadata": {},
   "outputs": [],
   "source": [
    "# active_points = points[active_point_inds] # subset of points which are connected to active output bits\n",
    "# active_points_signal_input_mat = active_points * signal_input\n",
    "# active_points_signal_input_boolmap = (active_points_signal_input_mat.sum(axis=1) >= HP_CLUSTER_CREATION_ONES_COUNT_THRES) # active_points must have at least ON bits within input signal\n",
    "# active_points_signal_input_mat = xp_array_from_gpu(active_points_signal_input_mat)\n",
    "# active_points_signal_input_inds = np.flatnonzero(xp_array_from_gpu(active_points_signal_input_boolmap))\n",
    "# learn_clusters_count0 = learn_clusters_count\n",
    "\n",
    "# for active_points_signal_input_ind in active_points_signal_input_inds:\n",
    "#     point_ind = active_point_inds[active_points_signal_input_ind]\n",
    "#     subsignal_input = active_points_signal_input_mat[active_points_signal_input_ind]\n",
    "    \n",
    "#     active_output_bit = int(point_output_bits[point_ind])\n",
    "#     active_input_bits = np.flatnonzero(subsignal_input) ### !!!! dur = 1.84, 1.18 vs 3.02 (wo 1.22, 1.16, 1.16, wt 3, 3.04, 3.04)\n",
    "#     ones_count = active_input_bits.shape[0]\n",
    "#     assert ones_count >= HP_CLUSTER_CREATION_ONES_COUNT_THRES"
   ]
  },
  {
   "cell_type": "code",
   "execution_count": null,
   "id": "4839f33f-8fb8-47fc-b934-6eabaa41c900",
   "metadata": {},
   "outputs": [],
   "source": [
    "ones_counts = xp.zeros(active_point_inds.shape[0], dtype='i')\n",
    "nzb_list = xp.full((active_point_inds.shape[0], HP_POINT_NON_ZERO_BITS), -1, dtype='i')\n",
    "cuda_block_size = 256\n",
    "cuda_blocks_count = math.ceil(active_point_inds.shape[0] / cuda_block_size)\n",
    "cuda_binarize_clusters_kernel((cuda_blocks_count, ), (cuda_block_size,),\n",
    "                              (cp.int32(HP_SIGNAL_VEC_LEN),\n",
    "                               cp.int32(HP_POINT_NON_ZERO_BITS),\n",
    "                               cp.int32(HP_CLUSTER_CREATION_ONES_COUNT_THRES),\n",
    "                               signal_input,\n",
    "                               cp.int32(active_point_inds.shape[0]), \n",
    "                               xp_array_to_gpu(active_point_inds),\n",
    "                               points,\n",
    "                               ones_counts,\n",
    "                               nzb_list\n",
    "                               ))"
   ]
  },
  {
   "cell_type": "code",
   "execution_count": 83,
   "id": "f2f91116-75e0-4cea-9d3f-e00a946ef547",
   "metadata": {},
   "outputs": [],
   "source": []
  },
  {
   "cell_type": "code",
   "execution_count": 110,
   "id": "e3e359fb-9c9d-468c-82bd-4f87fc9e2812",
   "metadata": {},
   "outputs": [],
   "source": [
    "LEARN_CLUSTERS.clear()\n",
    "LEARN_CLUSTER_METAS.clear()\n",
    "unique_cluster_keys.clear()"
   ]
  },
  {
   "cell_type": "code",
   "execution_count": 111,
   "id": "765040ce-682f-4f15-90d5-f851e5fdeed8",
   "metadata": {},
   "outputs": [
    {
     "name": "stdout",
     "output_type": "stream",
     "text": [
      "CPU times: user 3.12 s, sys: 37.1 ms, total: 3.15 s\n",
      "Wall time: 3.15 s\n"
     ]
    }
   ],
   "source": [
    "%%time\n",
    "learn_clusters_count = len(LEARN_CLUSTER_METAS)\n",
    "learn_clusters_sidecar_patch = LearnClustersSidecarPatch()\n",
    "new_clusters = []\n",
    "new_cluster_inds = []\n",
    "signals_count_for_new_clusters = 0\n",
    "\n",
    "# Create signals from prev sgr to avoid situation when clusters are created and get immediately learned on the same data\n",
    "for signal_input, signal_output in zip(prev_cycle_sgr.signals_input, prev_cycle_sgr.signals_output):\n",
    "    if learn_clusters_count + new_clusters_creation_rate_calc.value > HP_LEARN_CLUSTERS_COUNT_SOFT_LIMIT:\n",
    "        break\n",
    "        \n",
    "    signals_count_for_new_clusters += 1\n",
    "    active_points_boolmap = signal_output[point_output_bits] != 0\n",
    "    active_point_inds = point_inds[active_points_boolmap]\n",
    "\n",
    "    if active_point_inds.shape[0] == 0:\n",
    "        new_clusters_creation_rate_calc(0)\n",
    "        continue\n",
    "\n",
    "    learn_clusters_count0 = learn_clusters_count\n",
    "    ones_counts = xp.zeros(active_point_inds.shape[0], dtype='i')\n",
    "    nzb_list = xp.full((active_point_inds.shape[0], HP_POINT_NON_ZERO_BITS), -1, dtype='i')\n",
    "    cuda_block_size = 256\n",
    "    cuda_blocks_count = math.ceil(active_point_inds.shape[0] / cuda_block_size)\n",
    "    cuda_create_clusters_kernel((cuda_blocks_count, ), (cuda_block_size,),\n",
    "                                  (cp.int32(HP_SIGNAL_VEC_LEN),\n",
    "                                   cp.int32(HP_POINT_NON_ZERO_BITS),\n",
    "                                   cp.int32(HP_CLUSTER_CREATION_ONES_COUNT_THRES),\n",
    "                                   signal_input,\n",
    "                                   cp.int32(active_point_inds.shape[0]), \n",
    "                                   xp_array_to_gpu(active_point_inds),\n",
    "                                   points,\n",
    "                                   ones_counts,\n",
    "                                   nzb_list\n",
    "                                   ))\n",
    "    ones_counts = xp_array_from_gpu(ones_counts)\n",
    "    nzb_list = xp_array_from_gpu(nzb_list)\n",
    "    good_inds_boolmap = ones_counts > 0\n",
    "    \n",
    "    for point_ind, ones_count, nzb in zip(active_point_inds[good_inds_boolmap], ones_counts[good_inds_boolmap], nzb_list[good_inds_boolmap]):\n",
    "        assert ones_count >= HP_CLUSTER_CREATION_ONES_COUNT_THRES\n",
    "        active_input_bits = nzb[:ones_count]\n",
    "        # cluster = active_points_signal_input_mat[active_points_signal_input_ind]\n",
    "        cluster = np.zeros(HP_SIGNAL_VEC_LEN, dtype='f')\n",
    "        cluster[active_input_bits] = 1\n",
    "        \n",
    "        active_output_bit = int(point_output_bits[point_ind])\n",
    "        # active_input_bits = np.flatnonzero(cluster) ### !!!! dur = 1.84, 1.18 vs 3.02 (wo 1.22, 1.16, 1.16, wt 3, 3.04, 3.04)\n",
    "        # ones_count = active_input_bits.shape[0]\n",
    "        cluster_key = get_cluster_key2(active_output_bit, active_input_bits) ### ! dur = 1.13, 3.01 vs 4.14 (wo 3.03, 2.99, 3.04, wt 4.13, 4.15, 4.16)\n",
    "\n",
    "        if cluster_key in unique_cluster_keys:\n",
    "            continue\n",
    "\n",
    "        # GPU doesn't honor frequent uploads of data - it renders way to slow execution.\n",
    "        # as such during clusters-creation-loop a) stage new clusters on CPU b) reserve indices in GPU array\n",
    "        # At the end bulk upload to GPU\n",
    "        cluster_ind = LEARN_CLUSTERS.lease() ### ! dur = 0.51, 4.12 vs 4.63 (wo 4.05, 4.15, 4.17, wt 4.62, 4.62, 4.65)\n",
    "        new_clusters.append(cluster)\n",
    "        new_cluster_inds.append(cluster_ind)\n",
    "        \n",
    "        cluster_meta = ClusterMeta(cluster_ind)\n",
    "        cluster_meta.cluster_key = cluster_key\n",
    "        cluster_meta.output_bit = active_output_bit\n",
    "        cluster_meta.input_bits = tuple(active_input_bits)\n",
    "        # cluster_meta.nu = 1 / cluster.sum()\n",
    "        cluster_meta.binarization_schedule = HP_CLUSTER_LEARN_BINARIZATION_SCHEDULE\n",
    "        # cluster_meta.signals_to_learn_till_binarization = cluster_meta.binarization_schedule[0]\n",
    "        # cluster_meta.last_activity_cycle = cycle\n",
    "\n",
    "        ### !!! dur = 2.11, 7.12 vs 9.23 (wo 7.26, 6.84, 7.29, wt 9.13, 9.26, 9.32)\n",
    "        learn_clusters_sidecar_patch.cluster_states.append(cluster_meta.state)\n",
    "        learn_clusters_sidecar_patch.masks.append(cluster)\n",
    "        learn_clusters_sidecar_patch.output_bits.append(active_output_bit)\n",
    "        learn_clusters_sidecar_patch.nus.append(1 / ones_count)\n",
    "        learn_clusters_sidecar_patch.signals_to_learn_till_binarization_counters.append(cluster_meta.binarization_schedule[0])\n",
    "        learn_clusters_sidecar_patch.signals_learned_counters.append(0)\n",
    "        learn_clusters_sidecar_patch.last_activity_cycles.append(cycle)\n",
    "        learn_clusters_sidecar_patch.is_present_boolmap.append(True)\n",
    "        \n",
    "        # # assert not cluster_ind in LEARN_CLUSTER_METAS\n",
    "        LEARN_CLUSTER_METAS[cluster_ind] = cluster_meta ### !! dur = 1.27, 5.81 vs 7.08 (wo 5.96, 5.75, 5.74, wt 7.28, 7.02, 6.95)\n",
    "        # # # # LEARN_CLUSTERS_SIDECAR.sync(cluster_meta)\n",
    "        unique_cluster_keys.add(cluster_key)\n",
    "        learn_clusters_count += 1\n",
    "\n",
    "    assert learn_clusters_count >= learn_clusters_count0\n",
    "    new_clusters_creation_rate_calc(learn_clusters_count - learn_clusters_count0)"
   ]
  },
  {
   "cell_type": "code",
   "execution_count": null,
   "id": "fc5ca4dd-cbec-4981-bf5a-dc9e40eb66b9",
   "metadata": {},
   "outputs": [],
   "source": []
  },
  {
   "cell_type": "code",
   "execution_count": 208,
   "id": "05dd29de-4261-4638-89eb-ef682b083533",
   "metadata": {},
   "outputs": [
    {
     "data": {
      "text/plain": [
       "np.float64(3.0199999999999996)"
      ]
     },
     "execution_count": 208,
     "metadata": {},
     "output_type": "execute_result"
    }
   ],
   "source": [
    "np.mean([8.54, 8.4, 8.52])"
   ]
  },
  {
   "cell_type": "code",
   "execution_count": 221,
   "id": "99cb69bf-d5f0-4de1-8804-2662c81ebe81",
   "metadata": {},
   "outputs": [
    {
     "data": {
      "text/plain": [
       "np.float64(8.453333333333333)"
      ]
     },
     "execution_count": 221,
     "metadata": {},
     "output_type": "execute_result"
    }
   ],
   "source": [
    "np.mean([8.46, 8.47, 8.43])"
   ]
  },
  {
   "cell_type": "code",
   "execution_count": null,
   "id": "9c0a3266-174d-4da8-8432-9d3d57bca2ae",
   "metadata": {},
   "outputs": [],
   "source": []
  },
  {
   "cell_type": "code",
   "execution_count": null,
   "id": "0628fa0b-43db-48be-b8c6-fc905bf4b40c",
   "metadata": {},
   "outputs": [],
   "source": []
  },
  {
   "cell_type": "code",
   "execution_count": null,
   "id": "14d287b4-c588-4844-b45e-2287249b1054",
   "metadata": {},
   "outputs": [],
   "source": []
  },
  {
   "cell_type": "code",
   "execution_count": null,
   "id": "8b56d690-1f83-4083-ad11-c955ccdbf38c",
   "metadata": {},
   "outputs": [],
   "source": []
  },
  {
   "cell_type": "code",
   "execution_count": null,
   "id": "77ec7d11-5cc0-4ed0-9973-b912e0c659f1",
   "metadata": {},
   "outputs": [],
   "source": []
  },
  {
   "cell_type": "code",
   "execution_count": null,
   "id": "5a701102-402e-4fe8-9439-e44f93a9f255",
   "metadata": {},
   "outputs": [],
   "source": []
  },
  {
   "cell_type": "code",
   "execution_count": null,
   "id": "efa78aae-aecf-4fdf-b05a-751dbbe00c27",
   "metadata": {},
   "outputs": [],
   "source": []
  },
  {
   "cell_type": "code",
   "execution_count": null,
   "id": "885a6df3-ff4a-4b93-99c4-8fa715583ac3",
   "metadata": {},
   "outputs": [],
   "source": []
  },
  {
   "cell_type": "code",
   "execution_count": null,
   "id": "21842fe1-b240-4060-a58f-a1429f0bb2ed",
   "metadata": {},
   "outputs": [],
   "source": []
  },
  {
   "cell_type": "code",
   "execution_count": null,
   "id": "cf0905b5-c41c-4d07-bd86-5aaf8235a5c5",
   "metadata": {},
   "outputs": [],
   "source": []
  },
  {
   "cell_type": "code",
   "execution_count": null,
   "id": "4098223b-9a6f-4b4c-a9a7-1e6f7eefc21a",
   "metadata": {},
   "outputs": [],
   "source": []
  },
  {
   "cell_type": "code",
   "execution_count": null,
   "id": "e4670d21-3173-419c-bba2-c13a8bd85e3c",
   "metadata": {},
   "outputs": [],
   "source": []
  },
  {
   "cell_type": "code",
   "execution_count": null,
   "id": "a6987c45-ee8c-4fd7-aefa-2b4ddf6bda3e",
   "metadata": {},
   "outputs": [],
   "source": []
  },
  {
   "cell_type": "code",
   "execution_count": null,
   "id": "150066c5-a048-4ae3-80fc-26d7c624282e",
   "metadata": {},
   "outputs": [],
   "source": []
  },
  {
   "cell_type": "code",
   "execution_count": null,
   "id": "0c91a6af-73b2-4e26-9e25-febc71ebd381",
   "metadata": {},
   "outputs": [],
   "source": []
  },
  {
   "cell_type": "code",
   "execution_count": 116,
   "id": "36b77f81-0829-4636-a2e7-225d003bdb1f",
   "metadata": {},
   "outputs": [],
   "source": [
    "lc = LEARN_CLUSTERS.array_active.copy()\n",
    "lcm = LEARN_CLUSTERS_SIDECAR.masks[:lc.shape[0]].copy()"
   ]
  },
  {
   "cell_type": "code",
   "execution_count": 145,
   "id": "580b19d4-c191-49d3-8b0e-f00bcb7bddd7",
   "metadata": {},
   "outputs": [
    {
     "name": "stdout",
     "output_type": "stream",
     "text": [
      "CPU times: user 10.8 ms, sys: 9 ms, total: 19.8 ms\n",
      "Wall time: 17.8 ms\n"
     ]
    }
   ],
   "source": [
    "%%time\n",
    "is_binarizable_boolmap = LEARN_CLUSTERS_SIDECAR.is_binarizable_boolmap[:LEARN_CLUSTERS.active_len]\n",
    "cluster_inds_to_binarize = np.arange(LEARN_CLUSTERS.active_len, dtype='i')[is_binarizable_boolmap]\n",
    "new_cluster_states = Counter()\n",
    "death_reasons = Counter()\n",
    "\n",
    "ones_counts = xp.zeros(cluster_inds_to_binarize.shape[0], dtype='i')\n",
    "nzb_list = xp.full((cluster_inds_to_binarize.shape[0], HP_POINT_NON_ZERO_BITS), -1, dtype='i')\n",
    "dumps = xp.zeros(cluster_inds_to_binarize.shape[0], dtype='f')\n",
    "\n",
    "cuda_block_size = 256\n",
    "cuda_blocks_count = math.ceil(cluster_inds_to_binarize.shape[0] / cuda_block_size)\n",
    "cuda_binarize_clusters_kernel((cuda_blocks_count, ), (cuda_block_size,),\n",
    "                              (cp.int32(HP_SIGNAL_VEC_LEN),\n",
    "                               cp.int32(HP_POINT_NON_ZERO_BITS),\n",
    "                               cp.float32(HP_CLUSTER_BINARIZE_THRES),\n",
    "                               cluster_inds_to_binarize.shape[0], \n",
    "                               xp_array_to_gpu(cluster_inds_to_binarize),\n",
    "                               LEARN_CLUSTERS.array, \n",
    "                               lc,\n",
    "                               lcm,\n",
    "                               ones_counts,\n",
    "                               nzb_list,\n",
    "                               dumps,\n",
    "                               ))\n",
    "ones_counts = xp_array_from_gpu(ones_counts)\n",
    "nzb_list = xp_array_from_gpu(nzb_list)\n",
    "dumps = xp_array_from_gpu(dumps)\n",
    "learn_clusters_sidecar_patch = LearnClustersSidecarPatch()\n",
    "\n",
    "# for cluster_ind, ones_count, nzb in zip(cluster_inds_to_binarize, ones_counts, nzb_list):\n",
    "#     cluster_meta = LEARN_CLUSTER_METAS[cluster_ind]\n",
    "#     assert cluster_meta.state == ClusterState.LEARN\n",
    "#     # assert cluster_meta.signals_to_learn_till_binarization <= 0\n",
    "#     # cluster_meta.last_activity_cycle = cycle\n",
    "#     cluster_meta.binarization_schedule = (10, )\n",
    "# #     # cluster_meta.signals_to_learn_till_binarization = cluster_meta.binarization_schedule[0] if cluster_meta.binarization_schedule else 0\n",
    "#     cluster_meta.ones_count = int(ones_count)\n",
    "#     assert cluster_meta.ones_count > 0\n",
    "#     # cluster_meta.nu = 1 / cluster_meta.ones_count\n",
    "\n",
    "#     b = cluster_meta.binarization_schedule[0] if cluster_meta.binarization_schedule else 0\n",
    "#     learn_clusters_sidecar_patch.signals_to_learn_till_binarization_counters.append(b)\n",
    "#     learn_clusters_sidecar_patch.nus.append(1 / cluster_meta.ones_count)\n",
    "#     learn_clusters_sidecar_patch.last_activity_cycles.append(cycle)\n",
    "\n",
    "#     if cluster_meta.ones_count >= HP_CLUSTER_ONES_COUNT_THRES:\n",
    "#         pass\n",
    "#         # tuple(nzb[nzb != -1])\n",
    "#         tuple(nzb[:ones_count])\n",
    "#         # tuple(np.flatnonzero(v))\n",
    "#         # old_cluster_key = cluster_meta.cluster_key\n",
    "#         # cluster_meta.input_bits = tuple(nzb[nzb != -1]) # FACK!!!! очень медленно\n",
    "#         # new_cluster_key = get_cluster_key(cluster_meta.output_bit, cluster_meta.input_bits)\n",
    "\n",
    "#         # if old_cluster_key != new_cluster_key:\n",
    "#         #     if new_cluster_key in unique_cluster_keys:\n",
    "#         #         cluster_meta.state = ClusterState.DEAD\n",
    "#         #         death_reasons['DUPLICATE'] += 1\n",
    "#         #     else:\n",
    "#         #         cluster_meta.cluster_key = new_cluster_key\n",
    "#         #         unique_cluster_keys.remove(old_cluster_key)\n",
    "#         #         unique_cluster_keys.add(new_cluster_key)\n",
    "#     else:\n",
    "#         # cluster_meta.state = ClusterState.DEAD\n",
    "#         death_reasons['SHORT'] += 1\n",
    "\n",
    "# #     # LEARN_CLUSTERS_SIDECAR.sync(cluster_meta)\n",
    "#     learn_clusters_sidecar_patch.cluster_states.append(cluster_meta.state)\n",
    "#     learn_clusters_sidecar_patch.is_dead_boolmap.append(cluster_meta.state == ClusterState.DEAD)\n",
    "#     learn_clusters_sidecar_patch.is_promotable_boolmap.append(cluster_meta.state == ClusterState.LEARN and not cluster_meta.binarization_schedule)\n",
    "# #     new_cluster_states[cluster_meta.state.name] += 1"
   ]
  },
  {
   "cell_type": "code",
   "execution_count": null,
   "id": "974ae1c6-f353-4729-a9a4-76b7143f7939",
   "metadata": {},
   "outputs": [],
   "source": []
  },
  {
   "cell_type": "code",
   "execution_count": 143,
   "id": "92601739-6a35-4bba-8745-6fbc264c9a5b",
   "metadata": {},
   "outputs": [
    {
     "data": {
      "text/plain": [
       "array(1)"
      ]
     },
     "execution_count": 143,
     "metadata": {},
     "output_type": "execute_result"
    }
   ],
   "source": [
    "np.count_nonzero(lc[3547])"
   ]
  },
  {
   "cell_type": "code",
   "execution_count": 144,
   "id": "c1b07306-2c6d-4624-a68b-c2c67f35e1e0",
   "metadata": {},
   "outputs": [
    {
     "data": {
      "text/plain": [
       "array([ 1,  2,  3,  4,  5,  6,  7,  8,  9, 10, 11], dtype=int32)"
      ]
     },
     "execution_count": 144,
     "metadata": {},
     "output_type": "execute_result"
    }
   ],
   "source": [
    "np.unique(ones_counts)"
   ]
  },
  {
   "cell_type": "code",
   "execution_count": 120,
   "id": "a8f84e8c-7c23-40e2-92cd-048db39b9ebf",
   "metadata": {},
   "outputs": [],
   "source": [
    "binarized_clusters = xp.where(LEARN_CLUSTERS.array[cluster_inds_to_binarize] > HP_CLUSTER_BINARIZE_THRES, 1, 0)\n",
    "binarized_clusters_ones_counts = xp_array_from_gpu(binarized_clusters.sum(axis=1))"
   ]
  },
  {
   "cell_type": "code",
   "execution_count": 121,
   "id": "7d31ffd4-b2ba-4853-a82d-ca4232fa8642",
   "metadata": {},
   "outputs": [
    {
     "data": {
      "text/plain": [
       "array([ 1,  2,  3,  4,  5,  6,  7,  8,  9, 10, 11])"
      ]
     },
     "execution_count": 121,
     "metadata": {},
     "output_type": "execute_result"
    }
   ],
   "source": [
    "np.unique(binarized_clusters_ones_counts)"
   ]
  },
  {
   "cell_type": "code",
   "execution_count": 122,
   "id": "5651f767-1d08-4f03-8794-67cd0419184f",
   "metadata": {},
   "outputs": [
    {
     "data": {
      "text/plain": [
       "array([  316,   393,  1910,  2563,  2847,  3056,  3538,  4422,  5015,\n",
       "        6174,  6285,  6410,  6649,  6726,  6787,  6970,  7707,  8145,\n",
       "        8384,  8404,  8604,  9082,  9578,  9903, 10619, 10972, 10987,\n",
       "       11095, 11571, 11595, 12095, 12582, 12690, 12933, 13332, 13554,\n",
       "       13933, 14183, 14382, 15004, 15264, 15330, 15485, 15667, 16188,\n",
       "       16200, 16762, 16824, 17420, 17444, 18763, 19384, 19445, 19568,\n",
       "       19880, 19997, 20119, 20264, 21568, 21623, 22397, 22615, 22801,\n",
       "       23033, 23155, 23307, 23459, 24312, 24372, 24522, 25069, 25304,\n",
       "       26859, 27175, 27284, 27604, 27841, 27913, 28322, 28628, 28726,\n",
       "       28820, 29127, 29237])"
      ]
     },
     "execution_count": 122,
     "metadata": {},
     "output_type": "execute_result"
    }
   ],
   "source": [
    "np.flatnonzero(binarized_clusters_ones_counts < 2)"
   ]
  },
  {
   "cell_type": "code",
   "execution_count": 127,
   "id": "7132f3ac-5163-4e9e-9ea2-088d73d1b9d8",
   "metadata": {},
   "outputs": [
    {
     "data": {
      "text/plain": [
       "np.int32(3547)"
      ]
     },
     "execution_count": 127,
     "metadata": {},
     "output_type": "execute_result"
    }
   ],
   "source": [
    "cluster_inds_to_binarize[316]"
   ]
  },
  {
   "cell_type": "code",
   "execution_count": 128,
   "id": "30b574d8-f74b-47cd-bacd-d58dc9273835",
   "metadata": {},
   "outputs": [
    {
     "data": {
      "text/plain": [
       "array(1)"
      ]
     },
     "execution_count": 128,
     "metadata": {},
     "output_type": "execute_result"
    }
   ],
   "source": [
    "np.count_nonzero(LEARN_CLUSTERS.array[3547] > HP_CLUSTER_BINARIZE_THRES)"
   ]
  },
  {
   "cell_type": "code",
   "execution_count": null,
   "id": "eca46af4-8359-49d4-af65-4697c660fce9",
   "metadata": {},
   "outputs": [],
   "source": []
  },
  {
   "cell_type": "code",
   "execution_count": null,
   "id": "99e56f1e-d894-4c86-a8cd-4e97a149ee3c",
   "metadata": {},
   "outputs": [],
   "source": []
  },
  {
   "cell_type": "code",
   "execution_count": null,
   "id": "023408f7-bd54-4f0d-8dd3-48e8a668dfd0",
   "metadata": {},
   "outputs": [],
   "source": []
  },
  {
   "cell_type": "code",
   "execution_count": null,
   "id": "c5d66372-414e-4501-8bc0-93b4ebaae457",
   "metadata": {},
   "outputs": [],
   "source": []
  },
  {
   "cell_type": "code",
   "execution_count": 64,
   "id": "c6beef83-29a1-424f-a43e-202e447519a1",
   "metadata": {},
   "outputs": [],
   "source": [
    "lc = learn_clusters[cluster_inds_to_binarize]\n",
    "lcm = learn_cluster_masks[cluster_inds_to_binarize]"
   ]
  },
  {
   "cell_type": "code",
   "execution_count": 65,
   "id": "4143a4c4-861d-426f-aa6b-11d3d92efa48",
   "metadata": {},
   "outputs": [
    {
     "name": "stdout",
     "output_type": "stream",
     "text": [
      "CPU times: user 91.1 ms, sys: 2.05 ms, total: 93.1 ms\n",
      "Wall time: 91 ms\n"
     ]
    }
   ],
   "source": [
    "%%time\n",
    "binarized_clusters = xp.where(learn_clusters[cluster_inds_to_binarize] > HP_CLUSTER_BINARIZE_THRES, 1, 0)\n",
    "lc[:] = binarized_clusters\n",
    "lcm[:] = binarized_clusters\n",
    "binarized_clusters_ones_counts = xp_array_from_gpu(binarized_clusters.sum(axis=1))\n",
    "binarized_clusters = xp_array_from_gpu(binarized_clusters)\n",
    "learn_clusters_sidecar_patch = LearnClustersSidecarPatch()\n",
    "\n",
    "for cluster_ind, cluster, ones_count in zip(cluster_inds_to_binarize, binarized_clusters, binarized_clusters_ones_counts):\n",
    "    cluster_meta = LEARN_CLUSTER_METAS[cluster_ind]\n",
    "    assert cluster_meta.state == ClusterState.LEARN\n",
    "\n",
    "    if cluster_meta.ones_count >= HP_CLUSTER_ONES_COUNT_THRES:\n",
    "        tuple(np.flatnonzero(cluster))"
   ]
  },
  {
   "cell_type": "code",
   "execution_count": null,
   "id": "e434d187-dd08-48ba-8fc7-7e37ea822877",
   "metadata": {},
   "outputs": [],
   "source": []
  },
  {
   "cell_type": "code",
   "execution_count": null,
   "id": "db347fff-71d0-40c5-a3ca-b206b97d7805",
   "metadata": {},
   "outputs": [],
   "source": []
  },
  {
   "cell_type": "code",
   "execution_count": 68,
   "id": "56861e87-a73a-4e09-8070-618aa6d1e545",
   "metadata": {},
   "outputs": [],
   "source": []
  },
  {
   "cell_type": "code",
   "execution_count": 75,
   "id": "b6d991af-a800-4029-a23e-46ee3af3d2e6",
   "metadata": {},
   "outputs": [],
   "source": [
    "lc = learn_clusters.copy()\n",
    "lcm = learn_cluster_masks.copy()"
   ]
  },
  {
   "cell_type": "code",
   "execution_count": 112,
   "id": "17970fa7-4ad0-4198-8df6-0af68d735704",
   "metadata": {},
   "outputs": [
    {
     "name": "stdout",
     "output_type": "stream",
     "text": [
      "CPU times: user 53.1 ms, sys: 2 ms, total: 55.1 ms\n",
      "Wall time: 53.6 ms\n"
     ]
    }
   ],
   "source": [
    "%%time\n",
    "nzb_list = xp.full((cluster_inds_to_binarize.shape[0], HP_POINT_NON_ZERO_BITS), -1, dtype='i')\n",
    "cuda_block_size = 256\n",
    "cuda_blocks_count = math.ceil(cluster_inds_to_binarize.shape[0] / cuda_block_size)\n",
    "cuda_binarize_clusters_kernel((cuda_blocks_count, ), (cuda_block_size,),\n",
    "                           (HP_SIGNAL_VEC_LEN,\n",
    "                            HP_POINT_NON_ZERO_BITS,\n",
    "                            HP_CLUSTER_BINARIZE_THRES,\n",
    "                            cluster_inds_to_binarize.shape[0], \n",
    "                            xp_array_to_gpu(cluster_inds_to_binarize),\n",
    "                            learn_clusters, \n",
    "                            lc,\n",
    "                            lcm,\n",
    "                            nzb_list\n",
    "                            ))\n",
    "nzb_list = xp_array_from_gpu(nzb_list)\n",
    "learn_clusters_sidecar_patch = LearnClustersSidecarPatch()\n",
    "\n",
    "for cluster_ind, nzb in zip(cluster_inds_to_binarize, nzb_list):\n",
    "    cluster_meta = LEARN_CLUSTER_METAS[cluster_ind]\n",
    "    assert cluster_meta.state == ClusterState.LEARN\n",
    "\n",
    "    if cluster_meta.ones_count >= HP_CLUSTER_ONES_COUNT_THRES:\n",
    "        tuple(nzb[nzb != -1])\n",
    "        # tuple(np.flatnonzero(cluster))\n",
    "        pass"
   ]
  },
  {
   "cell_type": "code",
   "execution_count": 95,
   "id": "f700f014-a403-4e53-8c7a-39a3b8cf3514",
   "metadata": {},
   "outputs": [
    {
     "data": {
      "text/plain": [
       "array([ 89, 177, 190, 219, 463, 496, 652, 658, 712, 761, 911,  -1,  -1,\n",
       "        -1,  -1,  -1,  -1,  -1,  -1,  -1,  -1,  -1,  -1,  -1,  -1,  -1,\n",
       "        -1,  -1,  -1,  -1,  -1,  -1,  -1,  -1,  -1,  -1,  -1,  -1,  -1,\n",
       "        -1], dtype=int32)"
      ]
     },
     "execution_count": 95,
     "metadata": {},
     "output_type": "execute_result"
    }
   ],
   "source": [
    "nzb_list[-15]"
   ]
  },
  {
   "cell_type": "code",
   "execution_count": 96,
   "id": "9890917e-eea6-4dc4-9c1e-5348ef1b0a86",
   "metadata": {},
   "outputs": [
    {
     "data": {
      "text/plain": [
       "np.int32(299300)"
      ]
     },
     "execution_count": 96,
     "metadata": {},
     "output_type": "execute_result"
    }
   ],
   "source": [
    "cluster_inds_to_binarize[-15]"
   ]
  },
  {
   "cell_type": "code",
   "execution_count": 103,
   "id": "c2d57599-f5b7-4900-9315-195236c8bde0",
   "metadata": {},
   "outputs": [
    {
     "data": {
      "text/plain": [
       "(array([ 89, 177, 190, 219, 463, 496, 652, 658, 712, 761, 911]),\n",
       " array([ 89, 177, 190, 219, 463, 496, 652, 658, 712, 761, 911]))"
      ]
     },
     "execution_count": 103,
     "metadata": {},
     "output_type": "execute_result"
    }
   ],
   "source": [
    "np.flatnonzero(lc[299300]), np.flatnonzero(lcm[299300])"
   ]
  },
  {
   "cell_type": "code",
   "execution_count": 109,
   "id": "dc28a93b-1433-4711-8b0a-1fb5bec4f1e9",
   "metadata": {},
   "outputs": [
    {
     "data": {
      "text/plain": [
       "array([ 53,  95, 136, 690, 713, 858, 884], dtype=int32)"
      ]
     },
     "execution_count": 109,
     "metadata": {},
     "output_type": "execute_result"
    }
   ],
   "source": []
  },
  {
   "cell_type": "code",
   "execution_count": null,
   "id": "6c4f8664-a19a-415c-9e53-66a9d265c09d",
   "metadata": {},
   "outputs": [],
   "source": []
  },
  {
   "cell_type": "code",
   "execution_count": null,
   "id": "5eaa1509-0a2f-44be-84d9-7649c0426e3b",
   "metadata": {},
   "outputs": [],
   "source": []
  },
  {
   "cell_type": "code",
   "execution_count": 171,
   "id": "303a2ea2-a050-497d-b0a4-a0d8b9f6b75d",
   "metadata": {},
   "outputs": [
    {
     "name": "stdout",
     "output_type": "stream",
     "text": [
      "CPU times: user 4.06 ms, sys: 1.85 ms, total: 5.91 ms\n",
      "Wall time: 4.46 ms\n"
     ]
    }
   ],
   "source": [
    "%%time\n",
    "learn_clusters = LEARN_CLUSTERS.array_active\n",
    "updated_learn_clusters = learn_clusters.copy()\n",
    "assert learn_clusters.shape[0] == learn_clusters_count\n",
    "learn_cluster_masks = LEARN_CLUSTERS_SIDECAR.masks[:learn_clusters_count]\n",
    "learn_cluster_nus = xp_array_to_gpu(LEARN_CLUSTERS_SIDECAR.nus[:learn_clusters_count])\n",
    "learn_cluster_output_bits = xp_array_to_gpu(LEARN_CLUSTERS_SIDECAR.output_bits[:learn_clusters_count])\n",
    "learn_cluster_signals_learned_counters = xp_array_to_gpu(LEARN_CLUSTERS_SIDECAR.signals_learned_counters[:learn_clusters_count])\n",
    "learn_cluster_signals_till_binarization_counters = xp_array_to_gpu(LEARN_CLUSTERS_SIDECAR.signals_to_learn_till_binarization_counters[:learn_clusters_count])\n",
    "learn_cluster_update_counters = xp.zeros(learn_clusters_count, dtype='i')\n",
    "assert learn_clusters.shape[0] > 0\n",
    "assert learn_clusters.shape == learn_cluster_masks.shape\n",
    "assert learn_clusters.shape[0] == learn_cluster_nus.shape[0]\n",
    "assert learn_clusters.shape[0] == learn_cluster_output_bits.shape[0]\n",
    "assert learn_clusters.shape[0] == learn_cluster_signals_learned_counters.shape[0]\n",
    "assert learn_clusters.shape[0] == learn_cluster_signals_till_binarization_counters.shape[0]\n",
    "assert learn_clusters.shape[0] == learn_cluster_update_counters.shape[0]\n",
    "assert not learn_clusters.base is None\n",
    "assert not learn_cluster_masks.base is None\n",
    "\n",
    "cuda_block_size = 256\n",
    "cuda_blocks_count = math.ceil(learn_clusters.shape[0] / cuda_block_size)\n",
    "cuda_learn_clusters_kernel((cuda_blocks_count, ), (cuda_block_size,),\n",
    "                           (HP_SIGNAL_VEC_LEN,\n",
    "                            HP_CLUSTER_ONES_COUNT_THRES,\n",
    "                            sgr.signals_input.shape[0],\n",
    "                            sgr.signals_input, \n",
    "                            xp_array_to_gpu(sgr.signals_output),\n",
    "                            learn_clusters.shape[0], \n",
    "                            learn_clusters, \n",
    "                            learn_cluster_masks, \n",
    "                            learn_cluster_nus, \n",
    "                            learn_cluster_output_bits, \n",
    "                            learn_cluster_signals_learned_counters,\n",
    "                            learn_cluster_signals_till_binarization_counters,\n",
    "                            updated_learn_clusters,\n",
    "                            learn_cluster_update_counters\n",
    "                            ))"
   ]
  },
  {
   "cell_type": "code",
   "execution_count": 172,
   "id": "71c487f0-889d-4ff8-8651-ba7423b90296",
   "metadata": {},
   "outputs": [
    {
     "name": "stdout",
     "output_type": "stream",
     "text": [
      "CPU times: user 53.6 ms, sys: 1.07 ms, total: 54.6 ms\n",
      "Wall time: 52.4 ms\n"
     ]
    }
   ],
   "source": [
    "%%time\n",
    "learn_cluster_signals_learned_counters = xp_array_from_gpu(learn_cluster_signals_learned_counters)\n",
    "learn_cluster_signals_till_binarization_counters = xp_array_from_gpu(learn_cluster_signals_till_binarization_counters)\n",
    "learn_cluster_update_counters = xp_array_from_gpu(learn_cluster_update_counters)\n",
    "learned_clusters_inds = set()\n",
    "learn_updates_count = 0\n",
    "\n",
    "for cluster_ind in np.flatnonzero(learn_cluster_update_counters):\n",
    "    cluster_meta = LEARN_CLUSTER_METAS[cluster_ind]\n",
    "    assert cluster_meta.state == ClusterState.LEARN\n",
    "    assert cluster_meta.signals_to_learn_till_binarization > 0\n",
    "    # # assert signal_output[cluster_meta.output_bit] == 1\n",
    "    cluster_meta.last_activity_cycle = cycle\n",
    "    cluster_meta.signals_learned = learn_cluster_signals_learned_counters[cluster_ind]\n",
    "    cluster_meta.signals_to_learn_till_binarization = learn_cluster_signals_till_binarization_counters[cluster_ind]\n",
    "    LEARN_CLUSTERS_SIDECAR.sync(cluster_meta)\n",
    "    learned_clusters_inds.add(cluster_ind)\n",
    "    learn_updates_count += learn_cluster_update_counters[cluster_ind]"
   ]
  },
  {
   "cell_type": "code",
   "execution_count": 170,
   "id": "b8bafd90-b6f2-4d74-a688-4b308a0775be",
   "metadata": {},
   "outputs": [
    {
     "data": {
      "text/plain": [
       "(4525,)"
      ]
     },
     "execution_count": 170,
     "metadata": {},
     "output_type": "execute_result"
    }
   ],
   "source": [
    "np.flatnonzero(learn_cluster_update_counters).shape"
   ]
  },
  {
   "cell_type": "code",
   "execution_count": 165,
   "id": "bb37b632-dc03-4338-ad05-dbb9e737ac73",
   "metadata": {},
   "outputs": [
    {
     "name": "stdout",
     "output_type": "stream",
     "text": [
      "CPU times: user 107 ms, sys: 33 μs, total: 107 ms\n",
      "Wall time: 105 ms\n"
     ]
    }
   ],
   "source": [
    "%%time\n",
    "for cluster_ind in np.flatnonzero(learn_cluster_update_counters):\n",
    "    cluster_meta = LEARN_CLUSTER_METAS[cluster_ind]\n",
    "    LEARN_CLUSTERS_SIDECAR.sync(cluster_meta)"
   ]
  },
  {
   "cell_type": "code",
   "execution_count": null,
   "id": "32576b2e-c728-4f03-8587-1507277a6691",
   "metadata": {},
   "outputs": [],
   "source": []
  },
  {
   "cell_type": "code",
   "execution_count": null,
   "id": "3b14cb75-0d6a-4fcc-b446-b7c18e02ff6c",
   "metadata": {},
   "outputs": [],
   "source": []
  },
  {
   "cell_type": "code",
   "execution_count": null,
   "id": "5798d64c-644e-440c-a035-bfa3de919452",
   "metadata": {},
   "outputs": [],
   "source": []
  },
  {
   "cell_type": "code",
   "execution_count": null,
   "id": "117f4de8-2b7f-40ec-90b5-09c7279f2e5f",
   "metadata": {},
   "outputs": [],
   "source": []
  },
  {
   "cell_type": "code",
   "execution_count": null,
   "id": "bd309f11-6b35-439f-8246-029e700ec76c",
   "metadata": {},
   "outputs": [],
   "source": []
  },
  {
   "cell_type": "code",
   "execution_count": null,
   "id": "a0c7c478-0ec7-4792-9f4c-d0613c22d38f",
   "metadata": {},
   "outputs": [],
   "source": []
  },
  {
   "cell_type": "code",
   "execution_count": 430,
   "id": "c0611667-6c9f-4580-8b4c-ddac5c533726",
   "metadata": {},
   "outputs": [],
   "source": [
    "learn_cluster_output_bits = LEARN_CLUSTERS_SIDECAR.output_bits[:learn_clusters.shape[0]]\n",
    "signal_ind = 50\n",
    "signal_input = sgr.signals_input[signal_ind].astype('f')\n",
    "signal_output = sgr.signals_output[signal_ind].astype('f')"
   ]
  },
  {
   "cell_type": "code",
   "execution_count": 431,
   "id": "824b4a1a-0486-4902-8940-e51457eb6e64",
   "metadata": {},
   "outputs": [
    {
     "name": "stdout",
     "output_type": "stream",
     "text": [
      "CPU times: user 8.52 ms, sys: 1.88 ms, total: 10.4 ms\n",
      "Wall time: 7.88 ms\n"
     ]
    }
   ],
   "source": [
    "%%time\n",
    "learn_clusters_boolmap = signal_output.astype(bool)[learn_cluster_output_bits]\n",
    "assert learn_clusters_boolmap.shape[0] == learn_clusters.shape[0]\n",
    "# funnel_avg_filters[0](np.count_nonzero(learn_clusters_boolmap))\n",
    "learn_clusters_boolmap = learn_clusters_boolmap & learn_clusters_is_updatable_boolmap\n",
    "active_cluster_inds = learn_cluster_inds[learn_clusters_boolmap]\n",
    "# funnel_avg_filters[1](active_cluster_inds.shape[0])\n",
    "\n",
    "# narrow down clusters to those which have enough bits touched by signal\n",
    "# (i.e. we dont want to update clusters which have e.g. 1 or 2 bit touched out of minimal count (say 10))\n",
    "active_cluster_masks = learn_cluster_masks[active_cluster_inds]\n",
    "zs = signal_input @ active_cluster_masks.T # number of activated bits within each cluster for given signal_input, ca. shape (35,)\n",
    "zs = xp_array_from_gpu(zs)\n",
    "active_cluster_inds = active_cluster_inds[zs >= HP_CLUSTER_ONES_COUNT_THRES]\n",
    "# funnel_avg_filters[2](active_cluster_inds.shape[0])\n",
    "\n",
    "active_clusters = learn_clusters[active_cluster_inds] # subset of CLUSTERS which are connected to active bits in signal_output\n",
    "active_cluster_masks = learn_cluster_masks[active_cluster_inds]\n",
    "active_cluster_nus = learn_cluster_nus[active_cluster_inds]\n",
    "\n",
    "ys = signal_input @ active_clusters.T # how each cluster reacted on signal_input (strength), ca. shape (35,).\n",
    "grow = (signal_input * (active_cluster_nus * ys)[:,np.newaxis]) # how weights within each cluster must grow up in response to signal_input, matrix, ca. shape (35, 1024)\n",
    "grow *= active_cluster_masks # masking, only allow weights which belong to clusters to grow up, matrix, ca. shape (35, 1024)\n",
    "nomins = active_clusters + grow # grow weights within clusters\n",
    "denoms = nomins.max(axis=1) \n",
    "qqq = (nomins.T / denoms).T  # upload updated weights\n",
    "# learn_clusters[active_cluster_inds] = (nomins.T / denoms).T  # upload updated weights"
   ]
  },
  {
   "cell_type": "code",
   "execution_count": 432,
   "id": "93a03728-5386-4b13-9d86-2a945d6acd47",
   "metadata": {},
   "outputs": [
    {
     "data": {
      "text/plain": [
       "array([  1123,   1661,   2531, ..., 294541, 294854, 294974],\n",
       "      shape=(2857,), dtype=int32)"
      ]
     },
     "execution_count": 432,
     "metadata": {},
     "output_type": "execute_result"
    }
   ],
   "source": [
    "active_cluster_inds"
   ]
  },
  {
   "cell_type": "code",
   "execution_count": 433,
   "id": "cc944426-ee3c-4cc2-b324-b36744c3717d",
   "metadata": {},
   "outputs": [
    {
     "data": {
      "text/plain": [
       "array([[0., 0., 0., ..., 0., 0., 0.],\n",
       "       [0., 0., 0., ..., 0., 0., 0.],\n",
       "       [0., 0., 0., ..., 0., 0., 0.],\n",
       "       ...,\n",
       "       [0., 0., 0., ..., 0., 0., 0.],\n",
       "       [0., 0., 0., ..., 0., 0., 0.],\n",
       "       [0., 0., 0., ..., 0., 0., 0.]], shape=(2857, 1000), dtype=float32)"
      ]
     },
     "execution_count": 433,
     "metadata": {},
     "output_type": "execute_result"
    }
   ],
   "source": [
    "qqq"
   ]
  },
  {
   "cell_type": "code",
   "execution_count": 434,
   "id": "cfd6cf9d-13a8-4249-89d3-acd198c56250",
   "metadata": {},
   "outputs": [],
   "source": []
  },
  {
   "cell_type": "code",
   "execution_count": 435,
   "id": "2d9c9822-a0b9-44fc-a481-f6b6feefceff",
   "metadata": {},
   "outputs": [],
   "source": [
    "updated_learn_clusters = learn_clusters.copy()\n",
    "updated_learn_clusters_boolmap = xp.zeros(learn_clusters.shape[0], dtype='i')\n",
    "signal_output = xp_array_to_gpu(signal_output)\n",
    "learn_cluster_output_bits = xp_array_to_gpu(LEARN_CLUSTERS_SIDECAR.output_bits[:learn_clusters.shape[0]])"
   ]
  },
  {
   "cell_type": "code",
   "execution_count": 436,
   "id": "408b9da9-476c-4b14-93de-adedbd8c0a71",
   "metadata": {},
   "outputs": [
    {
     "name": "stdout",
     "output_type": "stream",
     "text": [
      "CPU times: user 452 μs, sys: 0 ns, total: 452 μs\n",
      "Wall time: 389 μs\n"
     ]
    }
   ],
   "source": [
    "%%time\n",
    "block_size = 256\n",
    "blocks_count = math.ceil(learn_clusters.shape[0] / block_size)\n",
    "learn_clusters_kernel((blocks_count, ), (block_size,),\n",
    "                      (HP_SIGNAL_VEC_LEN,\n",
    "                       HP_CLUSTER_ONES_COUNT_THRES,\n",
    "                       signal_input, \n",
    "                       signal_output,\n",
    "                       learn_clusters.shape[0], \n",
    "                       learn_clusters, \n",
    "                       learn_cluster_masks, \n",
    "                       learn_cluster_nus, \n",
    "                       learn_cluster_output_bits, \n",
    "                       updated_learn_clusters,\n",
    "                       updated_learn_clusters_boolmap\n",
    "                      ))"
   ]
  },
  {
   "cell_type": "code",
   "execution_count": 437,
   "id": "b588f7ae-ea30-41c3-81e7-e053c187b910",
   "metadata": {},
   "outputs": [
    {
     "data": {
      "text/plain": [
       "np.True_"
      ]
     },
     "execution_count": 437,
     "metadata": {},
     "output_type": "execute_result"
    }
   ],
   "source": [
    "np.all(active_cluster_inds == xp_array_from_gpu(np.flatnonzero(updated_learn_clusters_boolmap)))"
   ]
  },
  {
   "cell_type": "code",
   "execution_count": 438,
   "id": "5a66f8ad-ea25-4a94-860f-e9ef71195756",
   "metadata": {},
   "outputs": [
    {
     "data": {
      "text/plain": [
       "array(True)"
      ]
     },
     "execution_count": 438,
     "metadata": {},
     "output_type": "execute_result"
    }
   ],
   "source": [
    "np.all(np.isclose(qqq, updated_learn_clusters[updated_learn_clusters_boolmap.astype(bool)]))"
   ]
  },
  {
   "cell_type": "code",
   "execution_count": null,
   "id": "2761106f-8c01-4896-9637-8ff15900a4c2",
   "metadata": {},
   "outputs": [],
   "source": []
  },
  {
   "cell_type": "code",
   "execution_count": 233,
   "id": "22cd4d5b-332f-42cf-bd8c-49280135971a",
   "metadata": {},
   "outputs": [
    {
     "data": {
      "text/plain": [
       "(array([[ 97],\n",
       "        [242],\n",
       "        [319],\n",
       "        [374],\n",
       "        [495],\n",
       "        [583],\n",
       "        [603],\n",
       "        [655],\n",
       "        [688],\n",
       "        [872]]),\n",
       " array([[ 97],\n",
       "        [242],\n",
       "        [319],\n",
       "        [374],\n",
       "        [495],\n",
       "        [583],\n",
       "        [603],\n",
       "        [655],\n",
       "        [688],\n",
       "        [872]]))"
      ]
     },
     "execution_count": 233,
     "metadata": {},
     "output_type": "execute_result"
    }
   ],
   "source": [
    "ind = 19\n",
    "np.argwhere(qqq[ind]), np.argwhere(updated_active_clusters[ind])"
   ]
  },
  {
   "cell_type": "code",
   "execution_count": 232,
   "id": "edb27a7f-72c7-4ebb-af93-7ceb2d10f566",
   "metadata": {},
   "outputs": [
    {
     "data": {
      "text/plain": [
       "(array([1.        , 1.        , 1.        , 0.92879879, 1.        ,\n",
       "        1.        , 0.29836699]),\n",
       " array([1.        , 1.        , 1.        , 0.92879874, 1.        ,\n",
       "        1.        , 0.298367  ], dtype=float32))"
      ]
     },
     "execution_count": 232,
     "metadata": {},
     "output_type": "execute_result"
    }
   ],
   "source": [
    "qqq[ind][np.flatnonzero(qqq[ind])], updated_active_clusters[ind][np.flatnonzero(updated_active_clusters[ind])]"
   ]
  },
  {
   "cell_type": "code",
   "execution_count": 308,
   "id": "2b94947e-5d2b-4f62-b146-2f272c014f4e",
   "metadata": {},
   "outputs": [],
   "source": [
    "#active_clusters[0]"
   ]
  },
  {
   "cell_type": "code",
   "execution_count": null,
   "id": "3055ae3f-8c0f-4f08-9bc9-7aa05ba16e64",
   "metadata": {},
   "outputs": [],
   "source": []
  },
  {
   "cell_type": "code",
   "execution_count": null,
   "id": "f1fcabdc-cc6c-480c-a49a-06c13fedf660",
   "metadata": {},
   "outputs": [],
   "source": []
  },
  {
   "cell_type": "code",
   "execution_count": 87,
   "id": "b49e99ed-860e-454e-a8d4-43effcc20c65",
   "metadata": {},
   "outputs": [],
   "source": [
    "# learn_clusters_kernel = cp.RawKernel(r'''\n",
    "# extern \"C\" __global__\n",
    "# void learn_clusters(const int theVecLen,\n",
    "#                     const float * const theSignalInput, \n",
    "#                     const int theActiveClustersCount,\n",
    "#                     const float * const theActiveClusters, \n",
    "#                     const float * const theActiveClusterMasks, \n",
    "#                     const float * const theActiveClusterNus,\n",
    "#                     float * const theUpdatedActiveClusters) {\n",
    "#     const int clusterInd = blockDim.x * blockIdx.x + threadIdx.x;\n",
    "\n",
    "#     if(clusterInd >= theActiveClustersCount)\n",
    "#         return;\n",
    "\n",
    "#     const float * const cluster = theActiveClusters[clusterInd];\n",
    "#     float activationStrength = 0.0f;\n",
    "    \n",
    "#     for(int i = 0; i < theVecLen; i++) {\n",
    "#         activationStrength += cluster[i] * theSignalInput[i];\n",
    "#     }\n",
    "\n",
    "#     const float k = theActiveClusterNus[clusterInd] * activationStrength;\n",
    "#     const float * const mask = theActiveClusterMasks[clusterInd];\n",
    "#     float * const updatedCluster = theUpdatedActiveClusters[clusterInd];\n",
    "#     float maxWeight = 0.0f;\n",
    "    \n",
    "#     for(int i = 0; i < theVecLen; i++) {\n",
    "#         weight = cluster[i] + k * theSignalInput[i] * mask[i];\n",
    "#         updatedCluster[i] = weight;\n",
    "#         maxWeight = fmax(maxWeight, weight);\n",
    "#     }\n",
    "\n",
    "#     for(int i = 0; i < theVecLen; i++) {\n",
    "#         updatedCluster[i] /= weight;\n",
    "#     }\n",
    "# }\n",
    "# ''', 'learn_clusters')"
   ]
  },
  {
   "cell_type": "code",
   "execution_count": 266,
   "id": "f91a031b-ad9a-489a-9a9c-54067911336d",
   "metadata": {},
   "outputs": [],
   "source": [
    "# learn_clusters_kernel = cp.RawKernel(r'''\n",
    "# extern \"C\" __global__\n",
    "# void learn_clusters(const int theVecLen,\n",
    "#                     const float * const theSignalInput, \n",
    "#                     const int theActiveClustersCount,\n",
    "#                     const float * const theActiveClusters, \n",
    "#                     const float * const theActiveClusterMasks, \n",
    "#                     const float * const theActiveClusterNus,\n",
    "#                     float * const theUpdatedActiveClusters) {\n",
    "#     const int clusterInd = blockDim.x * blockIdx.x + threadIdx.x;\n",
    "\n",
    "#     if(clusterInd >= theActiveClustersCount)\n",
    "#         return;\n",
    "\n",
    "#     const auto ptrOffset = clusterInd * theVecLen;\n",
    "#     const float * const cluster = theActiveClusters + ptrOffset;\n",
    "#     float activationStrength = 0.0f;\n",
    "    \n",
    "#     for(int i = 0; i < theVecLen; i++) {\n",
    "#         if(cluster[i])\n",
    "#             activationStrength += cluster[i] * theSignalInput[i];\n",
    "#     }\n",
    "\n",
    "#     const float k = theActiveClusterNus[clusterInd] * activationStrength;\n",
    "#     const float * const mask = theActiveClusterMasks + ptrOffset;\n",
    "#     float * const updatedCluster = theUpdatedActiveClusters + ptrOffset;\n",
    "#     float maxWeight = 0.0f;\n",
    "    \n",
    "#     for(int i = 0; i < theVecLen; i++) {\n",
    "#         if(mask[i]) {\n",
    "#             const float updatedWeight = cluster[i] + k * theSignalInput[i];\n",
    "#             updatedCluster[i] = updatedWeight;\n",
    "#             maxWeight = fmax(maxWeight, updatedWeight);\n",
    "#         }\n",
    "#     }\n",
    "\n",
    "#     for(int i = 0; i < theVecLen; i++) {\n",
    "#         updatedCluster[i] /= maxWeight;\n",
    "#     }\n",
    "# }\n",
    "# ''', 'learn_clusters')"
   ]
  },
  {
   "cell_type": "code",
   "execution_count": null,
   "id": "690e0322-7373-429d-9cdc-fbecc0ea15a7",
   "metadata": {},
   "outputs": [],
   "source": [
    "# %%time\n",
    "# updated_active_clusters = active_clusters.copy()\n",
    "# block_size = 256\n",
    "# blocks_count = math.ceil(active_clusters.shape[0] / block_size)\n",
    "# learn_clusters_kernel((blocks_count, ), (block_size,),\n",
    "#                       (HP_SIGNAL_VEC_LEN, \n",
    "#                        signal_input, \n",
    "#                        active_clusters.shape[0], \n",
    "#                        active_clusters, \n",
    "#                        active_cluster_masks, \n",
    "#                        active_cluster_nus, \n",
    "#                        updated_active_clusters))"
   ]
  },
  {
   "cell_type": "code",
   "execution_count": null,
   "id": "a39f0cba-48f5-4339-9fa1-9be55d413863",
   "metadata": {},
   "outputs": [],
   "source": [
    "# add_kernel = cp.RawKernel(r'''\n",
    "# extern \"C\" __global__\n",
    "# void my_add(const float* x1, const float* x2, float* y) {\n",
    "#     int tid = blockDim.x * blockIdx.x + threadIdx.x;\n",
    "#     y[tid] = x1[tid] + x2[tid];\n",
    "# }\n",
    "# ''', 'my_add')\n",
    "# x1 = cp.arange(25, dtype=cp.float32).reshape(5, 5)\n",
    "# x2 = cp.arange(25, dtype=cp.float32).reshape(5, 5)\n",
    "# y = cp.zeros((5, 5), dtype=cp.float32)\n",
    "# add_kernel((5,), (5,), (x1, x2, y))"
   ]
  },
  {
   "cell_type": "markdown",
   "id": "1f11c2c9-4664-4377-b3cd-833ff161eb43",
   "metadata": {},
   "source": []
  },
  {
   "cell_type": "code",
   "execution_count": null,
   "id": "e23016d1-4fe9-4952-b3f2-3f30477554f5",
   "metadata": {},
   "outputs": [],
   "source": []
  },
  {
   "cell_type": "code",
   "execution_count": 62,
   "id": "cf723882-55c0-49d9-acb7-e50274d2201b",
   "metadata": {},
   "outputs": [
    {
     "data": {
      "image/png": "[encoded data removed]",
      "text/plain": [
       "<Figure size 1600x480 with 4 Axes>"
      ]
     },
     "metadata": {},
     "output_type": "display_data"
    }
   ],
   "source": [
    "signal_ind = RNG.choice(signals_input.shape[0])\n",
    "# signal_ind = 0\n",
    "signal_input = xp_array_from_gpu(signals_input[signal_ind])\n",
    "signal_output = signals_output[signal_ind]\n",
    "\n",
    "# xy_list_input = PIXEL_FEATURE_XY_ARRAY[debundle_sbv(signal_input, PIXEL_FEATURE_SBVS, HP_SIGNAL_VEC_NON_ZERO_BITS)]\n",
    "# xy_list_output = PIXEL_FEATURE_XY_ARRAY[debundle_sbv(signal_output, PIXEL_FEATURE_SBVS, HP_SIGNAL_VEC_NON_ZERO_BITS)]\n",
    "# ohe_input = xy_list_to_ohe_vec(xy_list_input)\n",
    "# ohe_output = xy_list_to_ohe_vec(xy_list_output)\n",
    "\n",
    "pixel_feature_inds = debundle_sbv(signal_input, PIXEL_FEATURE_SBVS, HP_SIGNAL_VEC_NON_ZERO_BITS)\n",
    "bm_input = PIXEL_FEATURE_BITMAP_MASKS[pixel_feature_inds].sum(axis=0)\n",
    "pixel_feature_inds = debundle_sbv(signal_output, PIXEL_FEATURE_SBVS, HP_SIGNAL_VEC_NON_ZERO_BITS)\n",
    "bm_output = PIXEL_FEATURE_BITMAP_MASKS[pixel_feature_inds].sum(axis=0)\n",
    "    \n",
    "fig, (ax1, ax2, ax3) = plt.subplots(1, 3)\n",
    "fig.set_figwidth(16)\n",
    "ax1.imshow(vec_to_square_matrix(xy_list_to_ohe_vec(raw_signals_input[signal_ind])))\n",
    "# ax2.imshow(vec_to_square_matrix(ohe_input))\n",
    "# ax3.imshow(vec_to_square_matrix(ohe_output));\n",
    "ax2.imshow(vec_to_square_matrix(bm_input))\n",
    "ax3.imshow(vec_to_square_matrix(bm_output));"
   ]
  },
  {
   "cell_type": "markdown",
   "id": "c4e073c2-0c90-4248-a9fc-57f4f063892f",
   "metadata": {},
   "source": [
    "# Test"
   ]
  },
  {
   "cell_type": "code",
   "execution_count": 128,
   "id": "5175b5c1-2cf3-4a31-b471-269694674987",
   "metadata": {},
   "outputs": [
    {
     "data": {
      "application/vnd.jupyter.widget-view+json": {
       "model_id": "e5a6f9e26d264f4eaddac5b45c6b9d81",
       "version_major": 2,
       "version_minor": 0
      },
      "text/plain": [
       "  0%|          | 0/1000 [00:00<?, ?it/s]"
      ]
     },
     "metadata": {},
     "output_type": "display_data"
    },
    {
     "data": {
      "text/plain": [
       "(460258, 1000)"
      ]
     },
     "execution_count": 128,
     "metadata": {},
     "output_type": "execute_result"
    }
   ],
   "source": [
    "df_clusters = pd.read_sql('SELECT output_bit, metas, nzb_list FROM clusters WHERE encoding=:encoding AND transf_code=:transf_code', \n",
    "                          params={\n",
    "                              'encoding': HP_SIGNAL_ENCODING, \n",
    "                              'transf_code': TRANSF_CODE},\n",
    "                          con=transfs_db_con)\n",
    "clusters = []\n",
    "cluster_metas = []\n",
    "\n",
    "for cluster_row in tqdm(df_clusters.itertuples(), total=len(df_clusters)):\n",
    "    cluster_nzb_list_for_output_bit = pickle.loads(cluster_row.nzb_list)\n",
    "    cluster_metas_for_output_bit = pickle.loads(cluster_row.metas)\n",
    "    assert len(cluster_nzb_list_for_output_bit) == len(cluster_metas_for_output_bit)\n",
    "\n",
    "    for nzb, meta in zip(cluster_nzb_list_for_output_bit, cluster_metas_for_output_bit):\n",
    "        assert len(nzb) > 0\n",
    "        \n",
    "        if meta.state in [ClusterState.PROD_WORK, ClusterState.PROD_ETERNAL]:\n",
    "            cluster = np.zeros(HP_SIGNAL_VEC_LEN, dtype='f')\n",
    "            cluster[nzb] = 1\n",
    "            clusters.append(cluster)\n",
    "        \n",
    "            cluster_ind = len(clusters)\n",
    "            meta.cluster_ind = cluster_ind\n",
    "            cluster_metas.append(meta)\n",
    "\n",
    "clusters = np.vstack(clusters)\n",
    "assert clusters.shape[0] == len(cluster_metas)\n",
    "    \n",
    "cluster_ones_counts = np.array(list(map(lambda m: m.ones_count, cluster_metas)), dtype='f')\n",
    "cluster_output_bits = np.array(list(map(lambda m: m.output_bit, cluster_metas)), dtype='i')\n",
    "cluster_input_bits_list = list(map(lambda m: m.input_bits, cluster_metas))\n",
    "clusters.shape"
   ]
  },
  {
   "cell_type": "code",
   "execution_count": 221,
   "id": "4b637ce9-40a8-49c6-b3e0-d132e60e01dd",
   "metadata": {},
   "outputs": [
    {
     "data": {
      "image/png": "[encoded data removed]",
      "text/plain": [
       "<Figure size 1800x600 with 3 Axes>"
      ]
     },
     "metadata": {},
     "output_type": "display_data"
    }
   ],
   "source": [
    "signals_generator = RealImageSignalsGenerator(TRANSF, 1, 1)\n",
    "# signals_generator = PooledPixelFeatureSignalsGenerator(TRANSF, 1, 100)\n",
    "sgr = signals_generator()\n",
    "\n",
    "input_sbv = sgr.signals_input[0]\n",
    "true_output_sbv = sgr.signals_output[0]\n",
    "infer_output_sbv = np.zeros_like(input_sbv)\n",
    "\n",
    "activated_clusters_boolmap = (clusters @ input_sbv) >= cluster_ones_counts\n",
    "output_bit_to_activated_clusters_count = Counter(cluster_output_bits[activated_clusters_boolmap])\n",
    "infer_output_sbv[list(output_bit_to_activated_clusters_count.keys())] = list(output_bit_to_activated_clusters_count.values())\n",
    "infer_output_sbv = np.where(infer_output_sbv > 0, 1, 0)\n",
    "condition_00 = (true_output_sbv == 0) & (infer_output_sbv == 0)\n",
    "condition_01 = (true_output_sbv == 0) & (infer_output_sbv == 1)\n",
    "condition_11 = (true_output_sbv == 1) & (infer_output_sbv == 1)\n",
    "diff_output_sbv = np.where(condition_00, 0, np.where(condition_11, 1, np.where(condition_01, 2, 3)))\n",
    "\n",
    "colors = ['black', 'gold', 'red', 'blue']\n",
    "bounds = [0, 1, 2, 3, 4]\n",
    "cmap = mpl.colors.ListedColormap(colors)\n",
    "norm = mpl.colors.BoundaryNorm(bounds, cmap.N)\n",
    "\n",
    "fig, (ax1, ax2, ax3) = plt.subplots(3, 1)\n",
    "fig.set_figwidth(18)\n",
    "fig.set_figheight(6)\n",
    "ax1.set_title(f'True Output SBV, non_zero_bits={np.count_nonzero(true_output_sbv)}')\n",
    "ax1.imshow(np.ones((80, 1)) * true_output_sbv, interpolation='none', cmap=cmap, norm=norm);\n",
    "ax2.set_title(f'Infer Output SBV, non_zero_bits={np.count_nonzero(infer_output_sbv)}')\n",
    "ax2.imshow(np.ones((80, 1)) * infer_output_sbv, interpolation='none', cmap=cmap, norm=norm);\n",
    "ax3.set_title(f'Diff Output SBV, TP={(diff_output_sbv == 1).sum()} (gold), FP={(diff_output_sbv == 2).sum()} (red), FN={(diff_output_sbv == 3).sum()} (blue)')\n",
    "ax3.imshow(np.ones((80, 1)) * diff_output_sbv, interpolation='none', cmap=cmap, norm=norm);"
   ]
  },
  {
   "cell_type": "code",
   "execution_count": 107,
   "id": "cbf93336-9a8f-4d35-adf7-384779124e8a",
   "metadata": {},
   "outputs": [
    {
     "data": {
      "application/vnd.jupyter.widget-view+json": {
       "model_id": "c4d9afecfa004fc7995599520663f5f1",
       "version_major": 2,
       "version_minor": 0
      },
      "text/plain": [
       "  0%|          | 0/100 [00:00<?, ?it/s]"
      ]
     },
     "metadata": {},
     "output_type": "display_data"
    },
    {
     "data": {
      "image/png": "[encoded data removed]",
      "text/plain": [
       "<Figure size 1600x480 with 2 Axes>"
      ]
     },
     "metadata": {},
     "output_type": "display_data"
    }
   ],
   "source": [
    "thres = 0\n",
    "toy_image_ids = get_random_toy_image_ids(100)\n",
    "bv_errors_count_list = defaultdict(list)\n",
    "sbv_errors_count_list = defaultdict(list)\n",
    "\n",
    "for toy_image_id in tqdm(toy_image_ids):\n",
    "    toy_image_origin = get_toy_image(toy_image_id)\n",
    "    toy_image_transf = transform_toy_image(toy_image_origin, TRANSF)\n",
    "\n",
    "    toy_image_origin_sbv = calc_toy_image_sbv(toy_image_origin)\n",
    "    toy_image_transf_sbv = calc_toy_image_sbv(toy_image_transf)\n",
    "    \n",
    "    activated_clusters_mask = (clusters @ toy_image_origin_sbv) >= cluster_ones_counts\n",
    "    \n",
    "    toy_image_infer_sbv = np.zeros_like(toy_image_origin_sbv)\n",
    "\n",
    "    # Approach 1: judge if output_bit is ON/OFF based on number of activated clusters\n",
    "    output_bit_to_activated_clusters_count = Counter(cluster_output_bits[activated_clusters_mask])\n",
    "    toy_image_infer_sbv[list(output_bit_to_activated_clusters_count.keys())] = list(output_bit_to_activated_clusters_count.values())\n",
    "    toy_image_infer_sbv = np.where(toy_image_infer_sbv > thres, 1, 0)\n",
    "\n",
    "    # Approach 2: judge if output_bit is ON/OFF based on number of unique bits touched by clusters within input signal\n",
    "    # output_bit_to_unique_input_bits = defaultdict(set)\n",
    "\n",
    "    # for mask_value, output_bit, input_bits in zip(activated_clusters_mask, cluster_output_bits, cluster_input_bits_list):\n",
    "    #     if not mask_value:\n",
    "    #         continue\n",
    "\n",
    "    #     output_bit_to_unique_input_bits[output_bit].update(input_bits)\n",
    "    # toy_image_infer_sbv[list(output_bit_to_unique_input_bits.keys())] = list(map(len, output_bit_to_unique_input_bits.values()))\n",
    "    # toy_image_infer_sbv = np.where(toy_image_infer_sbv > thres, 1, 0)\n",
    "    \n",
    "    sbv_false_positives_count = (toy_image_transf_sbv[toy_image_infer_sbv == 1] == 0).sum()\n",
    "    sbv_false_negatives_count = (toy_image_transf_sbv[toy_image_infer_sbv == 0] == 1).sum()\n",
    "    assert np.count_nonzero(toy_image_transf_sbv != toy_image_infer_sbv) == (sbv_false_positives_count + sbv_false_negatives_count)\n",
    "    sbv_errors_count_list['FP'].append(sbv_false_positives_count)\n",
    "    sbv_errors_count_list['FN'].append(sbv_false_negatives_count)\n",
    "    \n",
    "    toy_image_infer_bv = toy_image_sbv_to_bv(toy_image_infer_sbv)\n",
    "    toy_image_transf_bv = toy_image_sbv_to_bv(toy_image_transf_sbv)\n",
    "    bv_false_positives_count = (toy_image_transf_bv[toy_image_infer_bv == 1] == 0).sum()\n",
    "    bv_false_negatives_count = (toy_image_transf_bv[toy_image_infer_bv == 0] == 1).sum()\n",
    "    assert np.count_nonzero(toy_image_transf_bv != toy_image_infer_bv) == (bv_false_positives_count + bv_false_negatives_count)\n",
    "    bv_errors_count_list['FP'].append(bv_false_positives_count)\n",
    "    bv_errors_count_list['FN'].append(bv_false_negatives_count)\n",
    "\n",
    "fig, (ax1, ax2) = plt.subplots(2, 1)\n",
    "fig.set_figwidth(16)\n",
    "fig.tight_layout() \n",
    "errors_count = sum(itertools.chain.from_iterable(bv_errors_count_list.values()))\n",
    "ax1.set_title(f'BV Errors count={errors_count}, avg.={errors_count / len(toy_image_ids):.2f}; thres={thres}, clusters count={clusters.shape[0]}')\n",
    "\n",
    "for error_kind, errors_count in bv_errors_count_list.items():\n",
    "    ax1.bar(list(map(str, range(len(toy_image_ids)))), errors_count, label=error_kind)\n",
    "\n",
    "ax1.legend()\n",
    "\n",
    "errors_count = sum(itertools.chain.from_iterable(sbv_errors_count_list.values()))\n",
    "ax2.set_title(f'SBV Errors count={errors_count}, avg.={errors_count / len(toy_image_ids):.2f}; thres={thres}, clusters count={clusters.shape[0]}')\n",
    "\n",
    "for error_kind, errors_count in sbv_errors_count_list.items():\n",
    "    ax2.bar(list(map(str, range(len(toy_image_ids)))), errors_count, label=error_kind)\n",
    "\n",
    "ax2.legend();"
   ]
  },
  {
   "cell_type": "code",
   "execution_count": null,
   "id": "47f59aa5-155f-42d1-89f4-952ba29d1e2a",
   "metadata": {},
   "outputs": [],
   "source": []
  },
  {
   "cell_type": "code",
   "execution_count": null,
   "id": "bcc9f312-6621-4f77-ad5d-e0e5050dc036",
   "metadata": {},
   "outputs": [],
   "source": []
  },
  {
   "cell_type": "code",
   "execution_count": null,
   "id": "cf7b155d-cd7f-4649-91dc-f932bcb0e553",
   "metadata": {},
   "outputs": [],
   "source": []
  },
  {
   "cell_type": "code",
   "execution_count": null,
   "id": "f901126b-b8c1-457c-aced-0923b43927f8",
   "metadata": {},
   "outputs": [],
   "source": []
  },
  {
   "cell_type": "code",
   "execution_count": 116,
   "id": "f5f56508-9e19-4911-b739-a04452cf59d4",
   "metadata": {},
   "outputs": [
    {
     "data": {
      "image/png": "[encoded data removed]",
      "text/plain": [
       "<Figure size 1200x480 with 3 Axes>"
      ]
     },
     "metadata": {},
     "output_type": "display_data"
    }
   ],
   "source": [
    "toy_image_id = get_random_toy_image_ids(1)[0]\n",
    "toy_image = get_toy_image(toy_image_id)\n",
    "toy_image_sbv = calc_toy_image_sbv(toy_image)\n",
    "\n",
    "toy_image_transf = transform_toy_image(toy_image, TRANSF)\n",
    "toy_image_transf_sbv = encode_toy_image_sbv(toy_image_transf)\n",
    "\n",
    "activated_clusters_mask = (clusters @ toy_image_sbv) >= cluster_ones_counts\n",
    "values = Counter(cluster_output_bits[activated_clusters_mask])\n",
    "toy_image_sbv_out = np.zeros_like(toy_image_sbv)\n",
    "# toy_image_sbv_out[list(values.keys())] = list(values.values())\n",
    "# toy_image_sbv_out = np.where(toy_image_sbv_out > 1, 1, 0)\n",
    "toy_image_sbv_out[list(values.keys())] = 1\n",
    "\n",
    "fig, (ax1, ax2, ax3) = plt.subplots(1, 3)\n",
    "fig.set_figwidth(12)\n",
    "ax1.set_title('Origin')\n",
    "ax1.imshow(vec_to_square_matrix(decode_toy_image_sbv(toy_image_sbv)))\n",
    "ax2.set_title('Transf')\n",
    "ax2.imshow(vec_to_square_matrix(decode_toy_image_sbv(toy_image_transf_sbv)))\n",
    "ax3.set_title('Infer')\n",
    "ax3.imshow(vec_to_square_matrix(decode_toy_image_sbv(toy_image_sbv_out)));"
   ]
  },
  {
   "cell_type": "code",
   "execution_count": 110,
   "id": "bd3d6124-ae28-47e5-9877-7bf2eb87d8c3",
   "metadata": {},
   "outputs": [
    {
     "data": {
      "image/png": "[encoded data removed]",
      "text/plain": [
       "<Figure size 1600x480 with 2 Axes>"
      ]
     },
     "metadata": {},
     "output_type": "display_data"
    }
   ],
   "source": [
    "fig, (ax1, ax2) = plt.subplots(2, 1)\n",
    "fig.set_figwidth(16)\n",
    "\n",
    "toy_image_transf = transform_toy_image(toy_image, TRANSF)\n",
    "toy_image_transf_sbv = encode_toy_image_sbv(toy_image_transf)\n",
    "\n",
    "ax1.set_title(f'non_zero_bits={toy_image_transf_sbv.sum()}')\n",
    "ax1.imshow(np.ones((30, 1)) * toy_image_transf_sbv);\n",
    "ax2.set_title(f'non_zero_bits={toy_image_sbv_out.sum()}')\n",
    "ax2.imshow(np.ones((30, 1)) * toy_image_sbv_out);"
   ]
  }
 ],
 "metadata": {
  "kernelspec": {
   "display_name": "Python 3 (ipykernel)",
   "language": "python",
   "name": "python3"
  },
  "language_info": {
   "codemirror_mode": {
    "name": "ipython",
    "version": 3
   },
   "file_extension": ".py",
   "mimetype": "text/x-python",
   "name": "python",
   "nbconvert_exporter": "python",
   "pygments_lexer": "ipython3",
   "version": "3.12.9"
  }
 },
 "nbformat": 4,
 "nbformat_minor": 5
}
