{
 "cells": [
  {
   "cell_type": "code",
   "execution_count": 1,
   "id": "27532844-1826-4299-b063-16a22e592f3f",
   "metadata": {},
   "outputs": [],
   "source": [
    "import os, math\n",
    "from collections import defaultdict, namedtuple\n",
    "import itertools\n",
    "import sqlite3\n",
    "import logging\n",
    "import logging.handlers\n",
    "import pickle\n",
    "import datetime\n",
    "\n",
    "from PIL import Image, ImageDraw\n",
    "from tqdm.notebook import tqdm\n",
    "\n",
    "from sklearn.model_selection import train_test_split\n",
    "import matplotlib.pyplot as plt\n",
    "import scipy\n",
    "import numpy as np\n",
    "import cupy as cp\n",
    "import pandas as pd\n",
    "\n",
    "from utils import *\n",
    "from hdc import *"
   ]
  },
  {
   "cell_type": "code",
   "execution_count": 2,
   "id": "3150ef21-ac4c-4cf3-8013-ea332b9522e7",
   "metadata": {},
   "outputs": [],
   "source": [
    "DF_TEST_RESULTS = pd.DataFrame(columns=['test_run_id', 'config_variant', 'cortical_columns', 'train_images_count', 'train_runs',\n",
    "                                        'source_ds', 'test_image_id', 'true_value', 'infer_value', 'sim'])\n",
    "TRAIN_RUN_ID = 0\n",
    "TEST_RUN_ID = 0"
   ]
  },
  {
   "cell_type": "code",
   "execution_count": 3,
   "id": "73358262-adf2-4d17-a383-f120a5d1f8aa",
   "metadata": {},
   "outputs": [
    {
     "name": "stdout",
     "output_type": "stream",
     "text": [
      "xp = cupy\n"
     ]
    }
   ],
   "source": [
    "log = logging.getLogger('kmslog')\n",
    "log.setLevel(logging.DEBUG)\n",
    "\n",
    "if not log.hasHandlers():\n",
    "    log.addHandler(logging.handlers.SysLogHandler(address = '/dev/log', facility=logging.handlers.SysLogHandler.LOG_LOCAL0))\n",
    "\n",
    "config_var = 'SQLITE3_NORMAL_GRID_RADIAL_7_256'\n",
    "config = Config(config_var)\n",
    "RNG = np.random.default_rng()\n",
    "\n",
    "if cp.cuda.is_available():\n",
    "    xp = cp.get_array_module(cp.empty(1))\n",
    "    xp_array_from_gpu = lambda a: a.get() if isinstance(a, cp.ndarray) else a\n",
    "    xp_array_to_gpu = lambda a: cp.asarray(a) if isinstance(a, np.ndarray) else a\n",
    "else:\n",
    "    xp = cp.get_array_module(np.empty(1))\n",
    "    xp_array_from_gpu = lambda a: a\n",
    "    xp_array_to_gpu = lambda a: a\n",
    "    \n",
    "print(f'xp = {xp.__name__}')\n",
    "\n",
    "def get_full_db_file_name(db_file_name):\n",
    "    return os.path.join(config.dataset_path, config.db_file_name_prefix + db_file_name)\n",
    "\n",
    "train_db_con = sqlite3.connect(get_full_db_file_name(config.train_db_file_name))\n",
    "test_db_con = sqlite3.connect(get_full_db_file_name(config.test_db_file_name))"
   ]
  },
  {
   "cell_type": "code",
   "execution_count": 4,
   "id": "771521e3-e3a5-4c9a-b861-a3aac85edb9d",
   "metadata": {},
   "outputs": [],
   "source": [
    "hdc = Hdc(10_000, xp)"
   ]
  },
  {
   "cell_type": "code",
   "execution_count": 5,
   "id": "d2dd62ab-b44e-4251-9e86-d41b3672e36e",
   "metadata": {},
   "outputs": [
    {
     "name": "stdout",
     "output_type": "stream",
     "text": [
      "CPU times: user 7 μs, sys: 1 μs, total: 8 μs\n",
      "Wall time: 15.5 μs\n"
     ]
    },
    {
     "data": {
      "text/plain": [
       "((10000, 3), (2000, 3))"
      ]
     },
     "execution_count": 5,
     "metadata": {},
     "output_type": "execute_result"
    }
   ],
   "source": [
    "%time\n",
    "df_train_images = pd.read_sql_query('SELECT * FROM images', con=train_db_con, index_col='image_id')\n",
    "df_test_images = pd.read_sql_query('SELECT * FROM images', con=test_db_con, index_col='image_id')\n",
    "df_train_images.shape, df_test_images.shape"
   ]
  },
  {
   "cell_type": "code",
   "execution_count": 6,
   "id": "70b21219-4f16-4824-90ec-7bda1574c5d1",
   "metadata": {},
   "outputs": [
    {
     "data": {
      "text/html": [
       "<div style=\"\n",
       "        display: grid; \n",
       "        grid-template-columns: repeat(8, 128px);\n",
       "        column-gap: 1px;\n",
       "        row-gap: 1px;\">\n",
       "        \n",
       "            <figure style=\"margin: 5px !important;\">\n",
       "              <img src=\"data:image/png;base64,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\" style=\"height: auto\">\n",
       "              <figcaption style=\"font-size: 0.6em\">6</figcaption>\n",
       "            </figure>\n",
       "        \n",
       "            <figure style=\"margin: 5px !important;\">\n",
       "              <img src=\"data:image/png;base64,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\" style=\"height: auto\">\n",
       "              <figcaption style=\"font-size: 0.6em\">4</figcaption>\n",
       "            </figure>\n",
       "        \n",
       "            <figure style=\"margin: 5px !important;\">\n",
       "              <img src=\"data:image/png;base64,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\" style=\"height: auto\">\n",
       "              <figcaption style=\"font-size: 0.6em\">1</figcaption>\n",
       "            </figure>\n",
       "        \n",
       "            <figure style=\"margin: 5px !important;\">\n",
       "              <img src=\"data:image/png;base64,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\" style=\"height: auto\">\n",
       "              <figcaption style=\"font-size: 0.6em\">2</figcaption>\n",
       "            </figure>\n",
       "        \n",
       "            <figure style=\"margin: 5px !important;\">\n",
       "              <img src=\"data:image/png;base64,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\" style=\"height: auto\">\n",
       "              <figcaption style=\"font-size: 0.6em\">8</figcaption>\n",
       "            </figure>\n",
       "        \n",
       "            <figure style=\"margin: 5px !important;\">\n",
       "              <img src=\"data:image/png;base64,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\" style=\"height: auto\">\n",
       "              <figcaption style=\"font-size: 0.6em\">5</figcaption>\n",
       "            </figure>\n",
       "        \n",
       "            <figure style=\"margin: 5px !important;\">\n",
       "              <img src=\"data:image/png;base64,iVBORw0KGgoAAAANSUhEUgAAAIAAAACACAAAAADmVT4XAAAMhUlEQVR4nO2aWVfjurLHS4Mtz46dxAmBht7DPcP3/zZ3rbN7gEAcx/M8SfchTffeTYAA2efl8n9igSz9UJVKpZIA3vWud73rXe961/93oZN1hDBCCBBCGGEE6C8dI+DjOHAuhPjbAIAxmWBMqCwzSaIE4z+xIdTlWVq2/Tj+TEBPB2DqskQkVTdMTWWyRAFA7MfHGBebm+tdVnX8bwNghmurssz0ievYhqYy6R4AMMY4/o/S98MwDj9/dyoA2Z17jsZkxXRnM8c0NOUHAAIE2yYwGcUPLf42ACQxRZEwQqC4s5mtMZkZjuvahoF/ain40PfjAwO8GUCZzmcmIwgxy7INRZaYapimof7Urs03myDO6v6BD74RgBrL3z56uoSxpCoKk2QiSYwx9lOzPAiuP91s47o7MQBRJ6vf/31hMYIJJQRjghHG+Ofpzzbrm+tP61068Idx4PUAiFDV8c4uLi9tRu6dSwghxACCC7EPOgigCm9vbtZ3UdEc6ub1AEK2poury7PpRPvxu7YbhADed107DMPIAQGq4+1msw2yg+O/xQTK/Oryw0fPlH/8qsiKViA81mVR1E3b9Rwh1BVJHGdJ8SAEvBVAW/zy+8XKVX6YPN/t4hoIGYs0ivOiqrsREOJNXddt244nBpAt7/KX1dS8d/mxr5KNv6uA0jGPdrs0L6pmAIzEOBzeh94AgDGlxszzFjNLlTDvuq7vh66M/W1YAyU8T8Iwy8u6f76rVwIomj5ZLWaOqckI+jROy6ppyjSKsgYI4XWeZWXVHLb6KQCo5ky9i4VrqBICaMLr2zgtq7IoyroHjETfNE3XHTb6aQD06Wp17tmajAGgDL784UdZVdZtP/B9+sFHzo/r6jXjI9lwl6vl1FQICNGmu9svd2FeVo84+skBEFHM6eLMczQZeNcV4db3t0lRH2PykwAAVazZcjm3VQR9lccbPwjj8iiXOw0AZpo98zzXlEE0Wejf+ruk6I8z+dsBECBZNSfu1LVVDG0Z++u7bVzUQqDDkebUAEAk3Z44E9tUsRjK2L+5vt1l1Svc75UAgmq2O3VsQyHQ1tHdl/989beP7HR/CwBIhuvNp5ZKYajTYP3H/35Ns+LV478cACv2fOE5JiPQN3nkX3++abojYv7JAJjheEvP0WUsxr6p8iROh78csF7oii8CQIgQw/FW5wtHk0BwzjkHhAghGKH92IIP44sW5MtmgMjKZH5+eTV3FAxcAKayZlgjofQbAOd9W7+oyxcBYKpY08X5h0tbY5iPAlNmTOaix/cAgg9tMbxoSb4IgCqG4y2XZ0uNYDRyIJJqzUraIYkCQiCEGPua8uElQfklAFjWHW/hzV2LAAAAIrJmz3utw/QbAB/7SldYzvnIBRfHOOSLAJi9uPhw5mj78TGRNbvHRjH8ABi6Mg3DtKnqujtQDHgrgOauPn44m8gAAAJhCghLhtcJTAhCCATnQ1tlcRhnURSXVfdYIvpaAMWcXVydeyYVCAAQRpjKmjNwwBh/Axi7qsziaLe5lWIE4xHueCwAQlixXW95tpxoVCAAAQhhAHVfBLlvxse2KbN4ohBEkBj6080AYbo9/3C+mNn6/iT4pxPoOAzjKARgIlEJS0xRJIQpI2N9Qh+gtne2uvy4tHVG/1Lm4ENfl1XdDyMiqmHpElEoJVQ1DNJEJwSQJh9+u1qdzU1G8Z8iP++7ukzjOKvbEWR7tpgZTJIJZZatj9H6mP/sSABqnf3628KxVAkjIb4R8KFpqjwNt9u4aHqkuKu6m5oGk6nqmFL+VXu6zxcBEHXiLT1ToQQABAchxnHo26oss2S39aOi6RHLesG7jtuEUpC6uWvrrXhuKR69CiTNdiYaBgBAwIe+a+uqKouizNMkDLOqGRBrh76IzxouVArMsKezedF2z2wNRwNQpmnqN9dHY1uWeZLESVaURVnlRdX1I0hNk2+WScMFNwhIuruM46yoTwOwr3d++3nsijSKAn8bJnldtX23r8DhOt8p25JLFJAOWHPPchmP3dP9HgsgxqFrGxUAgHdNHkdBsLm9C5KibgfxfddBCOdYtzUqEQmrzrJCQ/VMvngsAG/zcMs1CjB2dZlF4W7nb/wwK39OB6Mw2NmKyijV3LNe1El8GoAx9z/z2FKJaMssTZMoSuIofjg+dGW81WVVU6nqcoKK4JkRjgXoszXJZq7NRBmFUZqmWVlVVfPQwVCX7zTVsm1ZBcb47qt0GoAhu+uT2Wyq82zr79KiqLphHA7UfvFYp/EkbziWqUaL++ThzQC8ivqyKEuDp/4mzKqqfaQhEmPfdQMXCGGqKDJ55krkaIC+HLu+q3Seh7u4PDD398KUKUymGMQwlFUzPJOkH70MB+DD0BaMN3n2VCkESbrtTEyViL7KAz957th6fBwQfOzrlEDftU/VAjAz3dnUVqnosu3tbfBIgfTlADDyHlX75Pup/QXJmuXYhoJ5lwd3m/hUMwBH5dgAgImsKIpM8djXWZIW7TM+8HNt/80SgAghBIMY26oo6+dKNycH+HZ7iUAMbVNV7XN56ckBMMEEIwDB+7Y6YhmeHIAxRWEyQWJsqyIvm+GZGTjdzSkAIISpqpuWpTEKQ5PHYVp3JwpExwEQqhi2O5taqiSGOg2DpPxvAiAiMdN2ZrOZriDeV+kuKLr+VHHgiPEpY4Y7m03diURgqIs0jptnz6cnA0AgMd10vPOFayrAeZlneVk9Xy46GYAgVJ0sVherq7kB0FdxlDwbBU8KAIQZ86vff/Vmcw14nQRBVP59VzYHJCmGs/jlX/9wVZ1Cm+82m6gc8X/NBERRDcc7u7i6sgHBkEfbOz8shyMeiLwZAGEsSZKim5a7uFp5EwDeljv/5vp2l3cnrhEdBiBMsyzbnkzc+dn5BADqNL798unzNsqeORSdBoDImustvOnUdVxrqgN0aeBff/rjS1hXr5sBhAAdSLcPC1FFn3gXl+fzuTsxZVkCkUX++vr66006vq5MhyVZJmIcez4+et/7g1VWTXu6uvhw7s0cSwIQY5WE283G30VH3mE8ACCGY2uob+u2ruvHkv/vX2uu53lnq9XCdSwKAHWd+pu7u21UPPfp4wDWxYVLujLN43B8phcsW8uPl6v5zJlYOgWAJkvC9c36LsjaY434AIBaq3+eSX0WRhvUPn0XiWTDWf32PxeuoTJVAoAhC7fb9c2tHxXDETHoMABWneWVMuQTW+rqJn+cgEqy7izOr369sBhGFAGMWejfbdZ3/i6rx2MfqR1YBZjKGmayggdOkrrjw/j9ARLCCAECRDCVmaKa7sXlajHbvxrq+yrc3Kx9fxtlZftcJvY4gBiaspQ1U9FVSXWiNC/ruvkeUQglCCHCVM3QDdN2Fx9Wzn78ocyTzdcvN7s4Sau2P6JM/QgAb9Kdiall2pbhLHdBECWpuK90EZlJGBHJsB13MnEcx3Znxv5PTRr460+fbtKqatpD5/YXAGw1SXNM2bGc+e7OVGUCohAAALKqaTLGlNkzbzGdzhxbZWxfgOiy3e36yx+fb4txHEdx7DnqkAm6IonMOSgaqKpmyITIMlPzdgRCFU1XGcZUmcyXy9ls6hgAwDmAaNLt7c3N+nYTHBP/nwboqywtWmAACqESpqozS7Ki44CprKqqjDFh1nQ+d1yHAQCv6q5tyzi4u91sdkftP08D8K7Kk7weMQBINpFUJ8uLsukFIEJlJkkIE0k3bdu0ZACAMknTNE3iMAyjJH35HfKBVVBnelo0gwQA1JS0Wdu0fT8KQBjvrygxkZmq7I1fx0Gw9bdBnGVlVT9RODkeoG/KLE2SdAYAQDTGxf0rJASAEADaV00xAEC98zeb9Xrtp2XdD1y8/BXDQ4CxrbLIv9EamVJMMaYHj49DP4hhbLOdf+ffrW+3eX2yFxRjX2dbDWdTwzA0hUkykx9+1lRV3VR1mUZhEO2CMK9e9XziEIDgPQI0pJ8tZz53TE1RNdP4uU2RJ0mWxmmaZVmWF3lxTO5zWA/3jL2TKUzxzi+WE0PTjcnU/kuLrkijMIiCYBfnZd30fd8fc0F3WA9NIAQf2hyAxHXXOKaum1XXWjKAEAgBDF1T5UkYbHe+H0RFMxy97RwLcK8xVOiYGaqmT4KJ8QOgb+sii6Mw2gVRUr1p8KcBoE1pFymMKbqpq/QeYBz6rqmKPCvSLH/925Xveipv0DRFpoRSmckUA4BAACD4OA5d17Zd07av971jABDGGCME+/f63yVACMEFF5wfeKX7rne9613vete73vVi/R+CEt8DUXDLFAAAAABJRU5ErkJggg==\" style=\"height: auto\">\n",
       "              <figcaption style=\"font-size: 0.6em\">5</figcaption>\n",
       "            </figure>\n",
       "        \n",
       "            <figure style=\"margin: 5px !important;\">\n",
       "              <img src=\"data:image/png;base64,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\" style=\"height: auto\">\n",
       "              <figcaption style=\"font-size: 0.6em\">1</figcaption>\n",
       "            </figure>\n",
       "        \n",
       "            <figure style=\"margin: 5px !important;\">\n",
       "              <img src=\"data:image/png;base64,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\" style=\"height: auto\">\n",
       "              <figcaption style=\"font-size: 0.6em\">9</figcaption>\n",
       "            </figure>\n",
       "        \n",
       "            <figure style=\"margin: 5px !important;\">\n",
       "              <img src=\"data:image/png;base64,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\" style=\"height: auto\">\n",
       "              <figcaption style=\"font-size: 0.6em\">5</figcaption>\n",
       "            </figure>\n",
       "        \n",
       "            <figure style=\"margin: 5px !important;\">\n",
       "              <img src=\"data:image/png;base64,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\" style=\"height: auto\">\n",
       "              <figcaption style=\"font-size: 0.6em\">7</figcaption>\n",
       "            </figure>\n",
       "        \n",
       "            <figure style=\"margin: 5px !important;\">\n",
       "              <img src=\"data:image/png;base64,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\" style=\"height: auto\">\n",
       "              <figcaption style=\"font-size: 0.6em\">3</figcaption>\n",
       "            </figure>\n",
       "        \n",
       "            <figure style=\"margin: 5px !important;\">\n",
       "              <img src=\"data:image/png;base64,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\" style=\"height: auto\">\n",
       "              <figcaption style=\"font-size: 0.6em\">4</figcaption>\n",
       "            </figure>\n",
       "        \n",
       "            <figure style=\"margin: 5px !important;\">\n",
       "              <img src=\"data:image/png;base64,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\" style=\"height: auto\">\n",
       "              <figcaption style=\"font-size: 0.6em\">4</figcaption>\n",
       "            </figure>\n",
       "        \n",
       "            <figure style=\"margin: 5px !important;\">\n",
       "              <img src=\"data:image/png;base64,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\" style=\"height: auto\">\n",
       "              <figcaption style=\"font-size: 0.6em\">3</figcaption>\n",
       "            </figure>\n",
       "        \n",
       "            <figure style=\"margin: 5px !important;\">\n",
       "              <img src=\"data:image/png;base64,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\" style=\"height: auto\">\n",
       "              <figcaption style=\"font-size: 0.6em\">3</figcaption>\n",
       "            </figure>\n",
       "        \n",
       "    </div>"
      ],
      "text/plain": [
       "<IPython.core.display.HTML object>"
      ]
     },
     "execution_count": 6,
     "metadata": {},
     "output_type": "execute_result"
    }
   ],
   "source": [
    "count = 8\n",
    "\n",
    "def get_some_random_images_and_labels(df, count):\n",
    "    image_ids = RNG.choice(df.index.unique(), count, replace=False)\n",
    "    image_datas = df.loc[image_ids]['png']\n",
    "    images = [Image.open(io.BytesIO(image_data)) for image_data in image_datas]\n",
    "    labels = df.loc[image_ids]['value']\n",
    "    return images, list(labels)\n",
    "\n",
    "train_images, train_labels = get_some_random_images_and_labels(df_train_images, count)\n",
    "test_images, test_labels = get_some_random_images_and_labels(df_test_images, count)\n",
    "\n",
    "display_images_grid(train_images + test_images, captions=train_labels + test_labels, col_count=count)"
   ]
  },
  {
   "cell_type": "code",
   "execution_count": 7,
   "id": "317bc435-b1be-4e25-8f4f-b9e3d35f522b",
   "metadata": {},
   "outputs": [],
   "source": [
    "class Engram(object):\n",
    "    def __init__(self):\n",
    "        self.hdv_bundle_uncapped_ = None\n",
    "        self.hdv_bundle = None\n",
    "        self.image_value = None\n",
    "        self.image_ids = set()\n",
    "        self.is_sealed = False\n",
    "        self.updates_counter = 0\n",
    "\n",
    "    @property\n",
    "    def hdv_bundle_uncapped(self):\n",
    "        return self.hdv_bundle_uncapped_\n",
    "\n",
    "    @hdv_bundle_uncapped.setter\n",
    "    def hdv_bundle_uncapped(self, h):\n",
    "        self.hdv_bundle_uncapped_ = h\n",
    "        self.hdv_bundle = xp.sign(h)\n",
    "        self.updates_counter += 1\n",
    "\n",
    "class CorticalColumn(object):\n",
    "    def __init__(self):\n",
    "        # engram = collection of related HDV aka prototype or collective image\n",
    "        self.engrams = {} # key - index in engram_norms, value - Engram instance\n",
    "        self.engram_norms = HdvArray(hdc.N, xp) # hot part of computation - normalized versions of engrams for fast cos sim calculation\n",
    "        self.images_seen = 0"
   ]
  },
  {
   "cell_type": "code",
   "execution_count": 23,
   "id": "1e8dc096-5076-4657-b22c-a489c2be1694",
   "metadata": {},
   "outputs": [],
   "source": [
    "COLUMNS = {}\n",
    "# COLUMNS = {-1: CorticalColumn()}\n",
    "# COLUMNS.update(map(lambda i: (i, CorticalColumn()), range(1)))\n",
    "COLUMNS.update(map(lambda i: (i, CorticalColumn()), range(config.cortical_columns_count)))"
   ]
  },
  {
   "cell_type": "code",
   "execution_count": 37,
   "id": "91525025-20e5-4a9d-aa93-c7afb878ace7",
   "metadata": {},
   "outputs": [
    {
     "data": {
      "application/vnd.jupyter.widget-view+json": {
       "model_id": "7cb120844e97454888edd42f043c366a",
       "version_major": 2,
       "version_minor": 0
      },
      "text/plain": [
       "Train run:   0%|          | 0/10 [00:00<?, ?it/s]"
      ]
     },
     "metadata": {},
     "output_type": "display_data"
    },
    {
     "data": {
      "application/vnd.jupyter.widget-view+json": {
       "model_id": "",
       "version_major": 2,
       "version_minor": 0
      },
      "text/plain": [
       "Column:   0%|          | 0/7 [00:00<?, ?it/s]"
      ]
     },
     "metadata": {},
     "output_type": "display_data"
    },
    {
     "data": {
      "application/vnd.jupyter.widget-view+json": {
       "model_id": "",
       "version_major": 2,
       "version_minor": 0
      },
      "text/plain": [
       "Attempt:   0%|          | 0/10 [00:00<?, ?it/s]"
      ]
     },
     "metadata": {},
     "output_type": "display_data"
    },
    {
     "data": {
      "application/vnd.jupyter.widget-view+json": {
       "model_id": "",
       "version_major": 2,
       "version_minor": 0
      },
      "text/plain": [
       "Image (train):   0%|          | 0/1000 [00:00<?, ?it/s]"
      ]
     },
     "metadata": {},
     "output_type": "display_data"
    },
    {
     "data": {
      "application/vnd.jupyter.widget-view+json": {
       "model_id": "",
       "version_major": 2,
       "version_minor": 0
      },
      "text/plain": [
       "Image (test):   0%|          | 0/1000 [00:00<?, ?it/s]"
      ]
     },
     "metadata": {},
     "output_type": "display_data"
    },
    {
     "data": {
      "application/vnd.jupyter.widget-view+json": {
       "model_id": "",
       "version_major": 2,
       "version_minor": 0
      },
      "text/plain": [
       "Image (train):   0%|          | 0/41 [00:00<?, ?it/s]"
      ]
     },
     "metadata": {},
     "output_type": "display_data"
    },
    {
     "data": {
      "application/vnd.jupyter.widget-view+json": {
       "model_id": "",
       "version_major": 2,
       "version_minor": 0
      },
      "text/plain": [
       "Image (test):   0%|          | 0/41 [00:00<?, ?it/s]"
      ]
     },
     "metadata": {},
     "output_type": "display_data"
    },
    {
     "data": {
      "application/vnd.jupyter.widget-view+json": {
       "model_id": "",
       "version_major": 2,
       "version_minor": 0
      },
      "text/plain": [
       "Image (train):   0%|          | 0/33 [00:00<?, ?it/s]"
      ]
     },
     "metadata": {},
     "output_type": "display_data"
    },
    {
     "data": {
      "application/vnd.jupyter.widget-view+json": {
       "model_id": "",
       "version_major": 2,
       "version_minor": 0
      },
      "text/plain": [
       "Image (test):   0%|          | 0/33 [00:00<?, ?it/s]"
      ]
     },
     "metadata": {},
     "output_type": "display_data"
    },
    {
     "data": {
      "application/vnd.jupyter.widget-view+json": {
       "model_id": "",
       "version_major": 2,
       "version_minor": 0
      },
      "text/plain": [
       "Image (train):   0%|          | 0/26 [00:00<?, ?it/s]"
      ]
     },
     "metadata": {},
     "output_type": "display_data"
    },
    {
     "data": {
      "application/vnd.jupyter.widget-view+json": {
       "model_id": "",
       "version_major": 2,
       "version_minor": 0
      },
      "text/plain": [
       "Image (test):   0%|          | 0/26 [00:00<?, ?it/s]"
      ]
     },
     "metadata": {},
     "output_type": "display_data"
    },
    {
     "data": {
      "application/vnd.jupyter.widget-view+json": {
       "model_id": "",
       "version_major": 2,
       "version_minor": 0
      },
      "text/plain": [
       "Image (train):   0%|          | 0/22 [00:00<?, ?it/s]"
      ]
     },
     "metadata": {},
     "output_type": "display_data"
    },
    {
     "data": {
      "application/vnd.jupyter.widget-view+json": {
       "model_id": "",
       "version_major": 2,
       "version_minor": 0
      },
      "text/plain": [
       "Image (test):   0%|          | 0/22 [00:00<?, ?it/s]"
      ]
     },
     "metadata": {},
     "output_type": "display_data"
    },
    {
     "data": {
      "application/vnd.jupyter.widget-view+json": {
       "model_id": "",
       "version_major": 2,
       "version_minor": 0
      },
      "text/plain": [
       "Image (train):   0%|          | 0/17 [00:00<?, ?it/s]"
      ]
     },
     "metadata": {},
     "output_type": "display_data"
    },
    {
     "data": {
      "application/vnd.jupyter.widget-view+json": {
       "model_id": "",
       "version_major": 2,
       "version_minor": 0
      },
      "text/plain": [
       "Image (test):   0%|          | 0/17 [00:00<?, ?it/s]"
      ]
     },
     "metadata": {},
     "output_type": "display_data"
    },
    {
     "data": {
      "application/vnd.jupyter.widget-view+json": {
       "model_id": "",
       "version_major": 2,
       "version_minor": 0
      },
      "text/plain": [
       "Image (train):   0%|          | 0/15 [00:00<?, ?it/s]"
      ]
     },
     "metadata": {},
     "output_type": "display_data"
    },
    {
     "data": {
      "application/vnd.jupyter.widget-view+json": {
       "model_id": "",
       "version_major": 2,
       "version_minor": 0
      },
      "text/plain": [
       "Image (test):   0%|          | 0/15 [00:00<?, ?it/s]"
      ]
     },
     "metadata": {},
     "output_type": "display_data"
    },
    {
     "data": {
      "application/vnd.jupyter.widget-view+json": {
       "model_id": "",
       "version_major": 2,
       "version_minor": 0
      },
      "text/plain": [
       "Image (train):   0%|          | 0/13 [00:00<?, ?it/s]"
      ]
     },
     "metadata": {},
     "output_type": "display_data"
    },
    {
     "data": {
      "application/vnd.jupyter.widget-view+json": {
       "model_id": "",
       "version_major": 2,
       "version_minor": 0
      },
      "text/plain": [
       "Image (test):   0%|          | 0/13 [00:00<?, ?it/s]"
      ]
     },
     "metadata": {},
     "output_type": "display_data"
    },
    {
     "data": {
      "application/vnd.jupyter.widget-view+json": {
       "model_id": "",
       "version_major": 2,
       "version_minor": 0
      },
      "text/plain": [
       "Image (train):   0%|          | 0/11 [00:00<?, ?it/s]"
      ]
     },
     "metadata": {},
     "output_type": "display_data"
    },
    {
     "data": {
      "application/vnd.jupyter.widget-view+json": {
       "model_id": "",
       "version_major": 2,
       "version_minor": 0
      },
      "text/plain": [
       "Image (test):   0%|          | 0/11 [00:00<?, ?it/s]"
      ]
     },
     "metadata": {},
     "output_type": "display_data"
    },
    {
     "data": {
      "application/vnd.jupyter.widget-view+json": {
       "model_id": "",
       "version_major": 2,
       "version_minor": 0
      },
      "text/plain": [
       "Image (train):   0%|          | 0/11 [00:00<?, ?it/s]"
      ]
     },
     "metadata": {},
     "output_type": "display_data"
    },
    {
     "data": {
      "application/vnd.jupyter.widget-view+json": {
       "model_id": "",
       "version_major": 2,
       "version_minor": 0
      },
      "text/plain": [
       "Image (test):   0%|          | 0/11 [00:00<?, ?it/s]"
      ]
     },
     "metadata": {},
     "output_type": "display_data"
    },
    {
     "data": {
      "application/vnd.jupyter.widget-view+json": {
       "model_id": "",
       "version_major": 2,
       "version_minor": 0
      },
      "text/plain": [
       "Attempt:   0%|          | 0/10 [00:00<?, ?it/s]"
      ]
     },
     "metadata": {},
     "output_type": "display_data"
    },
    {
     "data": {
      "application/vnd.jupyter.widget-view+json": {
       "model_id": "",
       "version_major": 2,
       "version_minor": 0
      },
      "text/plain": [
       "Image (train):   0%|          | 0/1000 [00:00<?, ?it/s]"
      ]
     },
     "metadata": {},
     "output_type": "display_data"
    },
    {
     "data": {
      "application/vnd.jupyter.widget-view+json": {
       "model_id": "",
       "version_major": 2,
       "version_minor": 0
      },
      "text/plain": [
       "Image (test):   0%|          | 0/1000 [00:00<?, ?it/s]"
      ]
     },
     "metadata": {},
     "output_type": "display_data"
    },
    {
     "data": {
      "application/vnd.jupyter.widget-view+json": {
       "model_id": "",
       "version_major": 2,
       "version_minor": 0
      },
      "text/plain": [
       "Image (train):   0%|          | 0/140 [00:00<?, ?it/s]"
      ]
     },
     "metadata": {},
     "output_type": "display_data"
    },
    {
     "data": {
      "application/vnd.jupyter.widget-view+json": {
       "model_id": "",
       "version_major": 2,
       "version_minor": 0
      },
      "text/plain": [
       "Image (test):   0%|          | 0/140 [00:00<?, ?it/s]"
      ]
     },
     "metadata": {},
     "output_type": "display_data"
    },
    {
     "data": {
      "application/vnd.jupyter.widget-view+json": {
       "model_id": "",
       "version_major": 2,
       "version_minor": 0
      },
      "text/plain": [
       "Image (train):   0%|          | 0/119 [00:00<?, ?it/s]"
      ]
     },
     "metadata": {},
     "output_type": "display_data"
    },
    {
     "data": {
      "application/vnd.jupyter.widget-view+json": {
       "model_id": "",
       "version_major": 2,
       "version_minor": 0
      },
      "text/plain": [
       "Image (test):   0%|          | 0/119 [00:00<?, ?it/s]"
      ]
     },
     "metadata": {},
     "output_type": "display_data"
    },
    {
     "data": {
      "application/vnd.jupyter.widget-view+json": {
       "model_id": "",
       "version_major": 2,
       "version_minor": 0
      },
      "text/plain": [
       "Image (train):   0%|          | 0/99 [00:00<?, ?it/s]"
      ]
     },
     "metadata": {},
     "output_type": "display_data"
    },
    {
     "data": {
      "application/vnd.jupyter.widget-view+json": {
       "model_id": "",
       "version_major": 2,
       "version_minor": 0
      },
      "text/plain": [
       "Image (test):   0%|          | 0/99 [00:00<?, ?it/s]"
      ]
     },
     "metadata": {},
     "output_type": "display_data"
    },
    {
     "data": {
      "application/vnd.jupyter.widget-view+json": {
       "model_id": "",
       "version_major": 2,
       "version_minor": 0
      },
      "text/plain": [
       "Image (train):   0%|          | 0/83 [00:00<?, ?it/s]"
      ]
     },
     "metadata": {},
     "output_type": "display_data"
    },
    {
     "data": {
      "application/vnd.jupyter.widget-view+json": {
       "model_id": "",
       "version_major": 2,
       "version_minor": 0
      },
      "text/plain": [
       "Image (test):   0%|          | 0/83 [00:00<?, ?it/s]"
      ]
     },
     "metadata": {},
     "output_type": "display_data"
    },
    {
     "data": {
      "application/vnd.jupyter.widget-view+json": {
       "model_id": "",
       "version_major": 2,
       "version_minor": 0
      },
      "text/plain": [
       "Image (train):   0%|          | 0/78 [00:00<?, ?it/s]"
      ]
     },
     "metadata": {},
     "output_type": "display_data"
    },
    {
     "data": {
      "application/vnd.jupyter.widget-view+json": {
       "model_id": "",
       "version_major": 2,
       "version_minor": 0
      },
      "text/plain": [
       "Image (test):   0%|          | 0/78 [00:00<?, ?it/s]"
      ]
     },
     "metadata": {},
     "output_type": "display_data"
    },
    {
     "data": {
      "application/vnd.jupyter.widget-view+json": {
       "model_id": "",
       "version_major": 2,
       "version_minor": 0
      },
      "text/plain": [
       "Image (train):   0%|          | 0/70 [00:00<?, ?it/s]"
      ]
     },
     "metadata": {},
     "output_type": "display_data"
    },
    {
     "data": {
      "application/vnd.jupyter.widget-view+json": {
       "model_id": "",
       "version_major": 2,
       "version_minor": 0
      },
      "text/plain": [
       "Image (test):   0%|          | 0/70 [00:00<?, ?it/s]"
      ]
     },
     "metadata": {},
     "output_type": "display_data"
    },
    {
     "data": {
      "application/vnd.jupyter.widget-view+json": {
       "model_id": "",
       "version_major": 2,
       "version_minor": 0
      },
      "text/plain": [
       "Image (train):   0%|          | 0/63 [00:00<?, ?it/s]"
      ]
     },
     "metadata": {},
     "output_type": "display_data"
    },
    {
     "data": {
      "application/vnd.jupyter.widget-view+json": {
       "model_id": "",
       "version_major": 2,
       "version_minor": 0
      },
      "text/plain": [
       "Image (test):   0%|          | 0/63 [00:00<?, ?it/s]"
      ]
     },
     "metadata": {},
     "output_type": "display_data"
    },
    {
     "data": {
      "application/vnd.jupyter.widget-view+json": {
       "model_id": "",
       "version_major": 2,
       "version_minor": 0
      },
      "text/plain": [
       "Image (train):   0%|          | 0/58 [00:00<?, ?it/s]"
      ]
     },
     "metadata": {},
     "output_type": "display_data"
    },
    {
     "data": {
      "application/vnd.jupyter.widget-view+json": {
       "model_id": "",
       "version_major": 2,
       "version_minor": 0
      },
      "text/plain": [
       "Image (test):   0%|          | 0/58 [00:00<?, ?it/s]"
      ]
     },
     "metadata": {},
     "output_type": "display_data"
    },
    {
     "data": {
      "application/vnd.jupyter.widget-view+json": {
       "model_id": "",
       "version_major": 2,
       "version_minor": 0
      },
      "text/plain": [
       "Image (train):   0%|          | 0/50 [00:00<?, ?it/s]"
      ]
     },
     "metadata": {},
     "output_type": "display_data"
    },
    {
     "data": {
      "application/vnd.jupyter.widget-view+json": {
       "model_id": "",
       "version_major": 2,
       "version_minor": 0
      },
      "text/plain": [
       "Image (test):   0%|          | 0/50 [00:00<?, ?it/s]"
      ]
     },
     "metadata": {},
     "output_type": "display_data"
    },
    {
     "data": {
      "application/vnd.jupyter.widget-view+json": {
       "model_id": "",
       "version_major": 2,
       "version_minor": 0
      },
      "text/plain": [
       "Attempt:   0%|          | 0/10 [00:00<?, ?it/s]"
      ]
     },
     "metadata": {},
     "output_type": "display_data"
    },
    {
     "data": {
      "application/vnd.jupyter.widget-view+json": {
       "model_id": "",
       "version_major": 2,
       "version_minor": 0
      },
      "text/plain": [
       "Image (train):   0%|          | 0/1000 [00:00<?, ?it/s]"
      ]
     },
     "metadata": {},
     "output_type": "display_data"
    },
    {
     "data": {
      "application/vnd.jupyter.widget-view+json": {
       "model_id": "",
       "version_major": 2,
       "version_minor": 0
      },
      "text/plain": [
       "Image (test):   0%|          | 0/1000 [00:00<?, ?it/s]"
      ]
     },
     "metadata": {},
     "output_type": "display_data"
    },
    {
     "data": {
      "application/vnd.jupyter.widget-view+json": {
       "model_id": "",
       "version_major": 2,
       "version_minor": 0
      },
      "text/plain": [
       "Image (train):   0%|          | 0/128 [00:00<?, ?it/s]"
      ]
     },
     "metadata": {},
     "output_type": "display_data"
    },
    {
     "data": {
      "application/vnd.jupyter.widget-view+json": {
       "model_id": "",
       "version_major": 2,
       "version_minor": 0
      },
      "text/plain": [
       "Image (test):   0%|          | 0/128 [00:00<?, ?it/s]"
      ]
     },
     "metadata": {},
     "output_type": "display_data"
    },
    {
     "data": {
      "application/vnd.jupyter.widget-view+json": {
       "model_id": "",
       "version_major": 2,
       "version_minor": 0
      },
      "text/plain": [
       "Image (train):   0%|          | 0/102 [00:00<?, ?it/s]"
      ]
     },
     "metadata": {},
     "output_type": "display_data"
    },
    {
     "data": {
      "application/vnd.jupyter.widget-view+json": {
       "model_id": "4568d40b2aa242d394a8f57c88cea16f",
       "version_major": 2,
       "version_minor": 0
      },
      "text/plain": [
       "Image (test):   0%|          | 0/102 [00:00<?, ?it/s]"
      ]
     },
     "metadata": {},
     "output_type": "display_data"
    },
    {
     "data": {
      "application/vnd.jupyter.widget-view+json": {
       "model_id": "9f367ba0de3d4af7ab2b4dcd40cff1d4",
       "version_major": 2,
       "version_minor": 0
      },
      "text/plain": [
       "Image (train):   0%|          | 0/86 [00:00<?, ?it/s]"
      ]
     },
     "metadata": {},
     "output_type": "display_data"
    },
    {
     "data": {
      "application/vnd.jupyter.widget-view+json": {
       "model_id": "6f4c180497354eb38936848fd787f7ae",
       "version_major": 2,
       "version_minor": 0
      },
      "text/plain": [
       "Image (test):   0%|          | 0/86 [00:00<?, ?it/s]"
      ]
     },
     "metadata": {},
     "output_type": "display_data"
    },
    {
     "data": {
      "application/vnd.jupyter.widget-view+json": {
       "model_id": "2f4a0c8c33b3411fa25b8e9da8cc002a",
       "version_major": 2,
       "version_minor": 0
      },
      "text/plain": [
       "Image (train):   0%|          | 0/80 [00:00<?, ?it/s]"
      ]
     },
     "metadata": {},
     "output_type": "display_data"
    },
    {
     "data": {
      "application/vnd.jupyter.widget-view+json": {
       "model_id": "990a74201f674ffca286e26be07a630b",
       "version_major": 2,
       "version_minor": 0
      },
      "text/plain": [
       "Image (test):   0%|          | 0/80 [00:00<?, ?it/s]"
      ]
     },
     "metadata": {},
     "output_type": "display_data"
    },
    {
     "data": {
      "application/vnd.jupyter.widget-view+json": {
       "model_id": "62445ff46d854ea4aae293f3d946294d",
       "version_major": 2,
       "version_minor": 0
      },
      "text/plain": [
       "Image (train):   0%|          | 0/69 [00:00<?, ?it/s]"
      ]
     },
     "metadata": {},
     "output_type": "display_data"
    },
    {
     "data": {
      "application/vnd.jupyter.widget-view+json": {
       "model_id": "3e1bd5ce02ce4d059fd8b19fb850e6ef",
       "version_major": 2,
       "version_minor": 0
      },
      "text/plain": [
       "Image (test):   0%|          | 0/69 [00:00<?, ?it/s]"
      ]
     },
     "metadata": {},
     "output_type": "display_data"
    },
    {
     "data": {
      "application/vnd.jupyter.widget-view+json": {
       "model_id": "646b1fb0257247e0a8b0c6a1183068c6",
       "version_major": 2,
       "version_minor": 0
      },
      "text/plain": [
       "Image (train):   0%|          | 0/58 [00:00<?, ?it/s]"
      ]
     },
     "metadata": {},
     "output_type": "display_data"
    },
    {
     "data": {
      "application/vnd.jupyter.widget-view+json": {
       "model_id": "63f659de719a4aa6b076ec708871ec31",
       "version_major": 2,
       "version_minor": 0
      },
      "text/plain": [
       "Image (test):   0%|          | 0/58 [00:00<?, ?it/s]"
      ]
     },
     "metadata": {},
     "output_type": "display_data"
    },
    {
     "data": {
      "application/vnd.jupyter.widget-view+json": {
       "model_id": "61e8c5df8dfb4c6ba45209b77319c7cb",
       "version_major": 2,
       "version_minor": 0
      },
      "text/plain": [
       "Image (train):   0%|          | 0/51 [00:00<?, ?it/s]"
      ]
     },
     "metadata": {},
     "output_type": "display_data"
    },
    {
     "data": {
      "application/vnd.jupyter.widget-view+json": {
       "model_id": "2bdfc0bc5cc94fa7ac6a2efd4ac602a2",
       "version_major": 2,
       "version_minor": 0
      },
      "text/plain": [
       "Image (test):   0%|          | 0/51 [00:00<?, ?it/s]"
      ]
     },
     "metadata": {},
     "output_type": "display_data"
    },
    {
     "data": {
      "application/vnd.jupyter.widget-view+json": {
       "model_id": "745455b07c0c40ebb5432b53e61218fb",
       "version_major": 2,
       "version_minor": 0
      },
      "text/plain": [
       "Image (train):   0%|          | 0/44 [00:00<?, ?it/s]"
      ]
     },
     "metadata": {},
     "output_type": "display_data"
    },
    {
     "data": {
      "application/vnd.jupyter.widget-view+json": {
       "model_id": "9451aa0ba33b4dff93fd9b69be248d56",
       "version_major": 2,
       "version_minor": 0
      },
      "text/plain": [
       "Image (test):   0%|          | 0/44 [00:00<?, ?it/s]"
      ]
     },
     "metadata": {},
     "output_type": "display_data"
    },
    {
     "data": {
      "application/vnd.jupyter.widget-view+json": {
       "model_id": "282bbf7459514c1b8b705e0b895cf781",
       "version_major": 2,
       "version_minor": 0
      },
      "text/plain": [
       "Image (train):   0%|          | 0/39 [00:00<?, ?it/s]"
      ]
     },
     "metadata": {},
     "output_type": "display_data"
    },
    {
     "data": {
      "application/vnd.jupyter.widget-view+json": {
       "model_id": "10cdeb53991f4de294209823102b5153",
       "version_major": 2,
       "version_minor": 0
      },
      "text/plain": [
       "Image (test):   0%|          | 0/39 [00:00<?, ?it/s]"
      ]
     },
     "metadata": {},
     "output_type": "display_data"
    },
    {
     "data": {
      "application/vnd.jupyter.widget-view+json": {
       "model_id": "7c19ee53dbd3415ba023481d030b366e",
       "version_major": 2,
       "version_minor": 0
      },
      "text/plain": [
       "Attempt:   0%|          | 0/10 [00:00<?, ?it/s]"
      ]
     },
     "metadata": {},
     "output_type": "display_data"
    },
    {
     "data": {
      "application/vnd.jupyter.widget-view+json": {
       "model_id": "b4a2d2cbaf014258b589f7015fbbe3fc",
       "version_major": 2,
       "version_minor": 0
      },
      "text/plain": [
       "Image (train):   0%|          | 0/1000 [00:00<?, ?it/s]"
      ]
     },
     "metadata": {},
     "output_type": "display_data"
    },
    {
     "data": {
      "application/vnd.jupyter.widget-view+json": {
       "model_id": "2634af57d4bb4fb1997aca8f3c39af0f",
       "version_major": 2,
       "version_minor": 0
      },
      "text/plain": [
       "Image (test):   0%|          | 0/1000 [00:00<?, ?it/s]"
      ]
     },
     "metadata": {},
     "output_type": "display_data"
    },
    {
     "data": {
      "application/vnd.jupyter.widget-view+json": {
       "model_id": "97418adc14c140dabee222f84a54e7b0",
       "version_major": 2,
       "version_minor": 0
      },
      "text/plain": [
       "Image (train):   0%|          | 0/104 [00:00<?, ?it/s]"
      ]
     },
     "metadata": {},
     "output_type": "display_data"
    },
    {
     "data": {
      "application/vnd.jupyter.widget-view+json": {
       "model_id": "6f6aac849d7b4065b43626a4064be7ae",
       "version_major": 2,
       "version_minor": 0
      },
      "text/plain": [
       "Image (test):   0%|          | 0/104 [00:00<?, ?it/s]"
      ]
     },
     "metadata": {},
     "output_type": "display_data"
    },
    {
     "data": {
      "application/vnd.jupyter.widget-view+json": {
       "model_id": "0aeb92dfdd554f85b38a594d55629de7",
       "version_major": 2,
       "version_minor": 0
      },
      "text/plain": [
       "Image (train):   0%|          | 0/85 [00:00<?, ?it/s]"
      ]
     },
     "metadata": {},
     "output_type": "display_data"
    },
    {
     "data": {
      "application/vnd.jupyter.widget-view+json": {
       "model_id": "283fee496a8541ebaa319f40788769c7",
       "version_major": 2,
       "version_minor": 0
      },
      "text/plain": [
       "Image (test):   0%|          | 0/85 [00:00<?, ?it/s]"
      ]
     },
     "metadata": {},
     "output_type": "display_data"
    },
    {
     "data": {
      "application/vnd.jupyter.widget-view+json": {
       "model_id": "43a10d0beebf417c933480116780e319",
       "version_major": 2,
       "version_minor": 0
      },
      "text/plain": [
       "Image (train):   0%|          | 0/78 [00:00<?, ?it/s]"
      ]
     },
     "metadata": {},
     "output_type": "display_data"
    },
    {
     "data": {
      "application/vnd.jupyter.widget-view+json": {
       "model_id": "3607c2649dd64b69acf21c39a24d17e0",
       "version_major": 2,
       "version_minor": 0
      },
      "text/plain": [
       "Image (test):   0%|          | 0/78 [00:00<?, ?it/s]"
      ]
     },
     "metadata": {},
     "output_type": "display_data"
    },
    {
     "data": {
      "application/vnd.jupyter.widget-view+json": {
       "model_id": "6dca3202122642408d0da4187adae69b",
       "version_major": 2,
       "version_minor": 0
      },
      "text/plain": [
       "Image (train):   0%|          | 0/69 [00:00<?, ?it/s]"
      ]
     },
     "metadata": {},
     "output_type": "display_data"
    },
    {
     "data": {
      "application/vnd.jupyter.widget-view+json": {
       "model_id": "8a4fd2868478450bb5f5f41d8d63b799",
       "version_major": 2,
       "version_minor": 0
      },
      "text/plain": [
       "Image (test):   0%|          | 0/69 [00:00<?, ?it/s]"
      ]
     },
     "metadata": {},
     "output_type": "display_data"
    },
    {
     "data": {
      "application/vnd.jupyter.widget-view+json": {
       "model_id": "7447c95ebdcb41088ef083c4e6e54c77",
       "version_major": 2,
       "version_minor": 0
      },
      "text/plain": [
       "Image (train):   0%|          | 0/63 [00:00<?, ?it/s]"
      ]
     },
     "metadata": {},
     "output_type": "display_data"
    },
    {
     "data": {
      "application/vnd.jupyter.widget-view+json": {
       "model_id": "a32bcbcfa7bd41b39614eb3afcf21675",
       "version_major": 2,
       "version_minor": 0
      },
      "text/plain": [
       "Image (test):   0%|          | 0/63 [00:00<?, ?it/s]"
      ]
     },
     "metadata": {},
     "output_type": "display_data"
    },
    {
     "data": {
      "application/vnd.jupyter.widget-view+json": {
       "model_id": "5f2bbece5d2a4fe0ba2b668cb9e4063c",
       "version_major": 2,
       "version_minor": 0
      },
      "text/plain": [
       "Image (train):   0%|          | 0/51 [00:00<?, ?it/s]"
      ]
     },
     "metadata": {},
     "output_type": "display_data"
    },
    {
     "data": {
      "application/vnd.jupyter.widget-view+json": {
       "model_id": "ed552abb8fb942448e975ba7fa10aa44",
       "version_major": 2,
       "version_minor": 0
      },
      "text/plain": [
       "Image (test):   0%|          | 0/51 [00:00<?, ?it/s]"
      ]
     },
     "metadata": {},
     "output_type": "display_data"
    },
    {
     "data": {
      "application/vnd.jupyter.widget-view+json": {
       "model_id": "32abe888078e49e593339debc4318eee",
       "version_major": 2,
       "version_minor": 0
      },
      "text/plain": [
       "Image (train):   0%|          | 0/42 [00:00<?, ?it/s]"
      ]
     },
     "metadata": {},
     "output_type": "display_data"
    },
    {
     "data": {
      "application/vnd.jupyter.widget-view+json": {
       "model_id": "edf42664705e43a4a5aebbe415d91093",
       "version_major": 2,
       "version_minor": 0
      },
      "text/plain": [
       "Image (test):   0%|          | 0/42 [00:00<?, ?it/s]"
      ]
     },
     "metadata": {},
     "output_type": "display_data"
    },
    {
     "data": {
      "application/vnd.jupyter.widget-view+json": {
       "model_id": "7d7ea812744d4530bf914dd42048437e",
       "version_major": 2,
       "version_minor": 0
      },
      "text/plain": [
       "Image (train):   0%|          | 0/37 [00:00<?, ?it/s]"
      ]
     },
     "metadata": {},
     "output_type": "display_data"
    },
    {
     "data": {
      "application/vnd.jupyter.widget-view+json": {
       "model_id": "02d98a96f5aa4d498220e9cebd607060",
       "version_major": 2,
       "version_minor": 0
      },
      "text/plain": [
       "Image (test):   0%|          | 0/37 [00:00<?, ?it/s]"
      ]
     },
     "metadata": {},
     "output_type": "display_data"
    },
    {
     "data": {
      "application/vnd.jupyter.widget-view+json": {
       "model_id": "8170e1036ed340919f382e5cc4d61023",
       "version_major": 2,
       "version_minor": 0
      },
      "text/plain": [
       "Image (train):   0%|          | 0/31 [00:00<?, ?it/s]"
      ]
     },
     "metadata": {},
     "output_type": "display_data"
    },
    {
     "data": {
      "application/vnd.jupyter.widget-view+json": {
       "model_id": "567a38430889485e94c208b705b12ae8",
       "version_major": 2,
       "version_minor": 0
      },
      "text/plain": [
       "Image (test):   0%|          | 0/31 [00:00<?, ?it/s]"
      ]
     },
     "metadata": {},
     "output_type": "display_data"
    },
    {
     "data": {
      "application/vnd.jupyter.widget-view+json": {
       "model_id": "7aaa9ecdd979478f88a8369898bf4307",
       "version_major": 2,
       "version_minor": 0
      },
      "text/plain": [
       "Attempt:   0%|          | 0/10 [00:00<?, ?it/s]"
      ]
     },
     "metadata": {},
     "output_type": "display_data"
    },
    {
     "data": {
      "application/vnd.jupyter.widget-view+json": {
       "model_id": "3224fd5e34364b8388d414074b0da92d",
       "version_major": 2,
       "version_minor": 0
      },
      "text/plain": [
       "Image (train):   0%|          | 0/1000 [00:00<?, ?it/s]"
      ]
     },
     "metadata": {},
     "output_type": "display_data"
    },
    {
     "data": {
      "application/vnd.jupyter.widget-view+json": {
       "model_id": "91775a6b2acb4956afa6b9655c5041f0",
       "version_major": 2,
       "version_minor": 0
      },
      "text/plain": [
       "Image (test):   0%|          | 0/1000 [00:00<?, ?it/s]"
      ]
     },
     "metadata": {},
     "output_type": "display_data"
    },
    {
     "data": {
      "application/vnd.jupyter.widget-view+json": {
       "model_id": "815433f63cd84f9698f791866319ee9c",
       "version_major": 2,
       "version_minor": 0
      },
      "text/plain": [
       "Image (train):   0%|          | 0/118 [00:00<?, ?it/s]"
      ]
     },
     "metadata": {},
     "output_type": "display_data"
    },
    {
     "data": {
      "application/vnd.jupyter.widget-view+json": {
       "model_id": "93c5808fe9cd480da8764583b638e0df",
       "version_major": 2,
       "version_minor": 0
      },
      "text/plain": [
       "Image (test):   0%|          | 0/118 [00:00<?, ?it/s]"
      ]
     },
     "metadata": {},
     "output_type": "display_data"
    },
    {
     "data": {
      "application/vnd.jupyter.widget-view+json": {
       "model_id": "0860cfebcc3447c89746d8370b6eb4cd",
       "version_major": 2,
       "version_minor": 0
      },
      "text/plain": [
       "Image (train):   0%|          | 0/98 [00:00<?, ?it/s]"
      ]
     },
     "metadata": {},
     "output_type": "display_data"
    },
    {
     "data": {
      "application/vnd.jupyter.widget-view+json": {
       "model_id": "aeaa78dc191d4331b29c343addc48607",
       "version_major": 2,
       "version_minor": 0
      },
      "text/plain": [
       "Image (test):   0%|          | 0/98 [00:00<?, ?it/s]"
      ]
     },
     "metadata": {},
     "output_type": "display_data"
    },
    {
     "data": {
      "application/vnd.jupyter.widget-view+json": {
       "model_id": "8ea7f763b8034cd6b65c943d7c783f56",
       "version_major": 2,
       "version_minor": 0
      },
      "text/plain": [
       "Image (train):   0%|          | 0/85 [00:00<?, ?it/s]"
      ]
     },
     "metadata": {},
     "output_type": "display_data"
    },
    {
     "data": {
      "application/vnd.jupyter.widget-view+json": {
       "model_id": "a78f8d0f2f424d3e9f414b82a771c4ac",
       "version_major": 2,
       "version_minor": 0
      },
      "text/plain": [
       "Image (test):   0%|          | 0/85 [00:00<?, ?it/s]"
      ]
     },
     "metadata": {},
     "output_type": "display_data"
    },
    {
     "data": {
      "application/vnd.jupyter.widget-view+json": {
       "model_id": "a7f48fdb6538425c8bb0c06fe6978a1d",
       "version_major": 2,
       "version_minor": 0
      },
      "text/plain": [
       "Image (train):   0%|          | 0/74 [00:00<?, ?it/s]"
      ]
     },
     "metadata": {},
     "output_type": "display_data"
    },
    {
     "data": {
      "application/vnd.jupyter.widget-view+json": {
       "model_id": "5b1e2071753d420d9de5c378a437475f",
       "version_major": 2,
       "version_minor": 0
      },
      "text/plain": [
       "Image (test):   0%|          | 0/74 [00:00<?, ?it/s]"
      ]
     },
     "metadata": {},
     "output_type": "display_data"
    },
    {
     "data": {
      "application/vnd.jupyter.widget-view+json": {
       "model_id": "6c445fe5b359417a8276ec8526ef4ce5",
       "version_major": 2,
       "version_minor": 0
      },
      "text/plain": [
       "Image (train):   0%|          | 0/65 [00:00<?, ?it/s]"
      ]
     },
     "metadata": {},
     "output_type": "display_data"
    },
    {
     "data": {
      "application/vnd.jupyter.widget-view+json": {
       "model_id": "b94b18522e844c8bbd86db2ee74d5a6c",
       "version_major": 2,
       "version_minor": 0
      },
      "text/plain": [
       "Image (test):   0%|          | 0/65 [00:00<?, ?it/s]"
      ]
     },
     "metadata": {},
     "output_type": "display_data"
    },
    {
     "data": {
      "application/vnd.jupyter.widget-view+json": {
       "model_id": "67475933c9f340f288360d7e4049263f",
       "version_major": 2,
       "version_minor": 0
      },
      "text/plain": [
       "Image (train):   0%|          | 0/54 [00:00<?, ?it/s]"
      ]
     },
     "metadata": {},
     "output_type": "display_data"
    },
    {
     "data": {
      "application/vnd.jupyter.widget-view+json": {
       "model_id": "ec2883d0a2e948719f7e8698c98dac85",
       "version_major": 2,
       "version_minor": 0
      },
      "text/plain": [
       "Image (test):   0%|          | 0/54 [00:00<?, ?it/s]"
      ]
     },
     "metadata": {},
     "output_type": "display_data"
    },
    {
     "data": {
      "application/vnd.jupyter.widget-view+json": {
       "model_id": "00b65d6c6c5e452e816b79a278ca391a",
       "version_major": 2,
       "version_minor": 0
      },
      "text/plain": [
       "Image (train):   0%|          | 0/43 [00:00<?, ?it/s]"
      ]
     },
     "metadata": {},
     "output_type": "display_data"
    },
    {
     "data": {
      "application/vnd.jupyter.widget-view+json": {
       "model_id": "6d245bd59db741f79c51c43c26537e8f",
       "version_major": 2,
       "version_minor": 0
      },
      "text/plain": [
       "Image (test):   0%|          | 0/43 [00:00<?, ?it/s]"
      ]
     },
     "metadata": {},
     "output_type": "display_data"
    },
    {
     "data": {
      "application/vnd.jupyter.widget-view+json": {
       "model_id": "d26cb5f940244b86accacb57d4b19f0b",
       "version_major": 2,
       "version_minor": 0
      },
      "text/plain": [
       "Image (train):   0%|          | 0/35 [00:00<?, ?it/s]"
      ]
     },
     "metadata": {},
     "output_type": "display_data"
    },
    {
     "data": {
      "application/vnd.jupyter.widget-view+json": {
       "model_id": "8204ca3ef42c498184004749af03dc82",
       "version_major": 2,
       "version_minor": 0
      },
      "text/plain": [
       "Image (test):   0%|          | 0/35 [00:00<?, ?it/s]"
      ]
     },
     "metadata": {},
     "output_type": "display_data"
    },
    {
     "data": {
      "application/vnd.jupyter.widget-view+json": {
       "model_id": "518c858c7f234bd096afd281d57f4229",
       "version_major": 2,
       "version_minor": 0
      },
      "text/plain": [
       "Image (train):   0%|          | 0/32 [00:00<?, ?it/s]"
      ]
     },
     "metadata": {},
     "output_type": "display_data"
    },
    {
     "data": {
      "application/vnd.jupyter.widget-view+json": {
       "model_id": "d50cb0629d764f6e8ba7fcf83283e291",
       "version_major": 2,
       "version_minor": 0
      },
      "text/plain": [
       "Image (test):   0%|          | 0/32 [00:00<?, ?it/s]"
      ]
     },
     "metadata": {},
     "output_type": "display_data"
    },
    {
     "data": {
      "application/vnd.jupyter.widget-view+json": {
       "model_id": "cd3dfe538e844ea6bfbdd31a90b041ec",
       "version_major": 2,
       "version_minor": 0
      },
      "text/plain": [
       "Attempt:   0%|          | 0/10 [00:00<?, ?it/s]"
      ]
     },
     "metadata": {},
     "output_type": "display_data"
    },
    {
     "data": {
      "application/vnd.jupyter.widget-view+json": {
       "model_id": "fee3c18e0dd94558953a2268ccb6e144",
       "version_major": 2,
       "version_minor": 0
      },
      "text/plain": [
       "Image (train):   0%|          | 0/1000 [00:00<?, ?it/s]"
      ]
     },
     "metadata": {},
     "output_type": "display_data"
    },
    {
     "data": {
      "application/vnd.jupyter.widget-view+json": {
       "model_id": "15326b9480454b4195c719325d969181",
       "version_major": 2,
       "version_minor": 0
      },
      "text/plain": [
       "Image (test):   0%|          | 0/1000 [00:00<?, ?it/s]"
      ]
     },
     "metadata": {},
     "output_type": "display_data"
    },
    {
     "data": {
      "application/vnd.jupyter.widget-view+json": {
       "model_id": "9a119462be334ae3b002969caa364852",
       "version_major": 2,
       "version_minor": 0
      },
      "text/plain": [
       "Image (train):   0%|          | 0/125 [00:00<?, ?it/s]"
      ]
     },
     "metadata": {},
     "output_type": "display_data"
    },
    {
     "data": {
      "application/vnd.jupyter.widget-view+json": {
       "model_id": "ddbde9bfa6f44b9e8fa721c3aafa4c07",
       "version_major": 2,
       "version_minor": 0
      },
      "text/plain": [
       "Image (test):   0%|          | 0/125 [00:00<?, ?it/s]"
      ]
     },
     "metadata": {},
     "output_type": "display_data"
    },
    {
     "data": {
      "application/vnd.jupyter.widget-view+json": {
       "model_id": "9e0a34ccc9544e5b91bf2c0783501c0d",
       "version_major": 2,
       "version_minor": 0
      },
      "text/plain": [
       "Image (train):   0%|          | 0/92 [00:00<?, ?it/s]"
      ]
     },
     "metadata": {},
     "output_type": "display_data"
    },
    {
     "data": {
      "application/vnd.jupyter.widget-view+json": {
       "model_id": "7f8095c2887d45af94b2b88cc8345ca2",
       "version_major": 2,
       "version_minor": 0
      },
      "text/plain": [
       "Image (test):   0%|          | 0/92 [00:00<?, ?it/s]"
      ]
     },
     "metadata": {},
     "output_type": "display_data"
    },
    {
     "data": {
      "application/vnd.jupyter.widget-view+json": {
       "model_id": "70e30392f63448398eb44dde6d2b5efb",
       "version_major": 2,
       "version_minor": 0
      },
      "text/plain": [
       "Image (train):   0%|          | 0/78 [00:00<?, ?it/s]"
      ]
     },
     "metadata": {},
     "output_type": "display_data"
    },
    {
     "data": {
      "application/vnd.jupyter.widget-view+json": {
       "model_id": "25637b2a82ae4e24b5b147502b4eaab0",
       "version_major": 2,
       "version_minor": 0
      },
      "text/plain": [
       "Image (test):   0%|          | 0/78 [00:00<?, ?it/s]"
      ]
     },
     "metadata": {},
     "output_type": "display_data"
    },
    {
     "data": {
      "application/vnd.jupyter.widget-view+json": {
       "model_id": "6875ee5705a648a3bd671fb924e337fe",
       "version_major": 2,
       "version_minor": 0
      },
      "text/plain": [
       "Image (train):   0%|          | 0/63 [00:00<?, ?it/s]"
      ]
     },
     "metadata": {},
     "output_type": "display_data"
    },
    {
     "data": {
      "application/vnd.jupyter.widget-view+json": {
       "model_id": "3846ec6e6ba34a46a5287febe6cb8142",
       "version_major": 2,
       "version_minor": 0
      },
      "text/plain": [
       "Image (test):   0%|          | 0/63 [00:00<?, ?it/s]"
      ]
     },
     "metadata": {},
     "output_type": "display_data"
    },
    {
     "data": {
      "application/vnd.jupyter.widget-view+json": {
       "model_id": "a779523de3404cc0a3bfe3d7ab7f7101",
       "version_major": 2,
       "version_minor": 0
      },
      "text/plain": [
       "Image (train):   0%|          | 0/58 [00:00<?, ?it/s]"
      ]
     },
     "metadata": {},
     "output_type": "display_data"
    },
    {
     "data": {
      "application/vnd.jupyter.widget-view+json": {
       "model_id": "393ea7fa8ac34236894cd3d25d6280e5",
       "version_major": 2,
       "version_minor": 0
      },
      "text/plain": [
       "Image (test):   0%|          | 0/58 [00:00<?, ?it/s]"
      ]
     },
     "metadata": {},
     "output_type": "display_data"
    },
    {
     "data": {
      "application/vnd.jupyter.widget-view+json": {
       "model_id": "2ac8f11e97874f5eb57a82f9eef6e518",
       "version_major": 2,
       "version_minor": 0
      },
      "text/plain": [
       "Image (train):   0%|          | 0/52 [00:00<?, ?it/s]"
      ]
     },
     "metadata": {},
     "output_type": "display_data"
    },
    {
     "data": {
      "application/vnd.jupyter.widget-view+json": {
       "model_id": "230fee64f421470d8f7b1ac646aeed41",
       "version_major": 2,
       "version_minor": 0
      },
      "text/plain": [
       "Image (test):   0%|          | 0/52 [00:00<?, ?it/s]"
      ]
     },
     "metadata": {},
     "output_type": "display_data"
    },
    {
     "data": {
      "application/vnd.jupyter.widget-view+json": {
       "model_id": "6f9ee33d12de4eb9ad18aabb0393511b",
       "version_major": 2,
       "version_minor": 0
      },
      "text/plain": [
       "Image (train):   0%|          | 0/48 [00:00<?, ?it/s]"
      ]
     },
     "metadata": {},
     "output_type": "display_data"
    },
    {
     "data": {
      "application/vnd.jupyter.widget-view+json": {
       "model_id": "8cdf7e12609342968f5983f4a842b88b",
       "version_major": 2,
       "version_minor": 0
      },
      "text/plain": [
       "Image (test):   0%|          | 0/48 [00:00<?, ?it/s]"
      ]
     },
     "metadata": {},
     "output_type": "display_data"
    },
    {
     "data": {
      "application/vnd.jupyter.widget-view+json": {
       "model_id": "bc5c8a13d82b440983c3628123662805",
       "version_major": 2,
       "version_minor": 0
      },
      "text/plain": [
       "Image (train):   0%|          | 0/41 [00:00<?, ?it/s]"
      ]
     },
     "metadata": {},
     "output_type": "display_data"
    },
    {
     "data": {
      "application/vnd.jupyter.widget-view+json": {
       "model_id": "5ad8e3f1454b467cade338e044effa4f",
       "version_major": 2,
       "version_minor": 0
      },
      "text/plain": [
       "Image (test):   0%|          | 0/41 [00:00<?, ?it/s]"
      ]
     },
     "metadata": {},
     "output_type": "display_data"
    },
    {
     "data": {
      "application/vnd.jupyter.widget-view+json": {
       "model_id": "f155f36564c549ef968efa7fb6814a24",
       "version_major": 2,
       "version_minor": 0
      },
      "text/plain": [
       "Image (train):   0%|          | 0/29 [00:00<?, ?it/s]"
      ]
     },
     "metadata": {},
     "output_type": "display_data"
    },
    {
     "data": {
      "application/vnd.jupyter.widget-view+json": {
       "model_id": "37f8872b0b5d40f4b2e0b70d4249afe0",
       "version_major": 2,
       "version_minor": 0
      },
      "text/plain": [
       "Image (test):   0%|          | 0/29 [00:00<?, ?it/s]"
      ]
     },
     "metadata": {},
     "output_type": "display_data"
    },
    {
     "data": {
      "application/vnd.jupyter.widget-view+json": {
       "model_id": "37218a60019a40ce89d4c8d68d1c416a",
       "version_major": 2,
       "version_minor": 0
      },
      "text/plain": [
       "Attempt:   0%|          | 0/10 [00:00<?, ?it/s]"
      ]
     },
     "metadata": {},
     "output_type": "display_data"
    },
    {
     "data": {
      "application/vnd.jupyter.widget-view+json": {
       "model_id": "afd5b58b2d66475a8395b88e65d36eb9",
       "version_major": 2,
       "version_minor": 0
      },
      "text/plain": [
       "Image (train):   0%|          | 0/1000 [00:00<?, ?it/s]"
      ]
     },
     "metadata": {},
     "output_type": "display_data"
    },
    {
     "data": {
      "application/vnd.jupyter.widget-view+json": {
       "model_id": "91fa52af9d3146398c5e22612822c0ae",
       "version_major": 2,
       "version_minor": 0
      },
      "text/plain": [
       "Image (test):   0%|          | 0/1000 [00:00<?, ?it/s]"
      ]
     },
     "metadata": {},
     "output_type": "display_data"
    },
    {
     "data": {
      "application/vnd.jupyter.widget-view+json": {
       "model_id": "94bad2f5ffb244c184a20ca104a8159b",
       "version_major": 2,
       "version_minor": 0
      },
      "text/plain": [
       "Image (train):   0%|          | 0/80 [00:00<?, ?it/s]"
      ]
     },
     "metadata": {},
     "output_type": "display_data"
    },
    {
     "data": {
      "application/vnd.jupyter.widget-view+json": {
       "model_id": "b3206551dd0f4587a7de0614c83a99a2",
       "version_major": 2,
       "version_minor": 0
      },
      "text/plain": [
       "Image (test):   0%|          | 0/80 [00:00<?, ?it/s]"
      ]
     },
     "metadata": {},
     "output_type": "display_data"
    },
    {
     "data": {
      "application/vnd.jupyter.widget-view+json": {
       "model_id": "c840f08ca4624ac982dd56754609ae99",
       "version_major": 2,
       "version_minor": 0
      },
      "text/plain": [
       "Image (train):   0%|          | 0/69 [00:00<?, ?it/s]"
      ]
     },
     "metadata": {},
     "output_type": "display_data"
    },
    {
     "data": {
      "application/vnd.jupyter.widget-view+json": {
       "model_id": "1a0c93a307f5495e8224cb96182ec7fd",
       "version_major": 2,
       "version_minor": 0
      },
      "text/plain": [
       "Image (test):   0%|          | 0/69 [00:00<?, ?it/s]"
      ]
     },
     "metadata": {},
     "output_type": "display_data"
    },
    {
     "data": {
      "application/vnd.jupyter.widget-view+json": {
       "model_id": "94f7223e1fcc4e3f9d2574783bedf81c",
       "version_major": 2,
       "version_minor": 0
      },
      "text/plain": [
       "Image (train):   0%|          | 0/57 [00:00<?, ?it/s]"
      ]
     },
     "metadata": {},
     "output_type": "display_data"
    },
    {
     "data": {
      "application/vnd.jupyter.widget-view+json": {
       "model_id": "9a6997597fb7474a9cf9b7c8381b5c7d",
       "version_major": 2,
       "version_minor": 0
      },
      "text/plain": [
       "Image (test):   0%|          | 0/57 [00:00<?, ?it/s]"
      ]
     },
     "metadata": {},
     "output_type": "display_data"
    },
    {
     "data": {
      "application/vnd.jupyter.widget-view+json": {
       "model_id": "9e6d6025a6bc49159cd4282da7c13404",
       "version_major": 2,
       "version_minor": 0
      },
      "text/plain": [
       "Image (train):   0%|          | 0/46 [00:00<?, ?it/s]"
      ]
     },
     "metadata": {},
     "output_type": "display_data"
    },
    {
     "data": {
      "application/vnd.jupyter.widget-view+json": {
       "model_id": "3ce4390cdbbb4274b1d500f80e31422b",
       "version_major": 2,
       "version_minor": 0
      },
      "text/plain": [
       "Image (test):   0%|          | 0/46 [00:00<?, ?it/s]"
      ]
     },
     "metadata": {},
     "output_type": "display_data"
    },
    {
     "data": {
      "application/vnd.jupyter.widget-view+json": {
       "model_id": "30bb0986750a46ad9030fd6cc42937ff",
       "version_major": 2,
       "version_minor": 0
      },
      "text/plain": [
       "Image (train):   0%|          | 0/39 [00:00<?, ?it/s]"
      ]
     },
     "metadata": {},
     "output_type": "display_data"
    },
    {
     "data": {
      "application/vnd.jupyter.widget-view+json": {
       "model_id": "e2dd1fb3e7a340aba147b043f8c8f988",
       "version_major": 2,
       "version_minor": 0
      },
      "text/plain": [
       "Image (test):   0%|          | 0/39 [00:00<?, ?it/s]"
      ]
     },
     "metadata": {},
     "output_type": "display_data"
    },
    {
     "data": {
      "application/vnd.jupyter.widget-view+json": {
       "model_id": "1aa55d107eea43ff911f66112073afe3",
       "version_major": 2,
       "version_minor": 0
      },
      "text/plain": [
       "Image (train):   0%|          | 0/35 [00:00<?, ?it/s]"
      ]
     },
     "metadata": {},
     "output_type": "display_data"
    },
    {
     "data": {
      "application/vnd.jupyter.widget-view+json": {
       "model_id": "50ac7f170f0542dcb3c2bad0a3c665bf",
       "version_major": 2,
       "version_minor": 0
      },
      "text/plain": [
       "Image (test):   0%|          | 0/35 [00:00<?, ?it/s]"
      ]
     },
     "metadata": {},
     "output_type": "display_data"
    },
    {
     "data": {
      "application/vnd.jupyter.widget-view+json": {
       "model_id": "7bd61ce8d37c438a82d39806d510c21a",
       "version_major": 2,
       "version_minor": 0
      },
      "text/plain": [
       "Image (train):   0%|          | 0/35 [00:00<?, ?it/s]"
      ]
     },
     "metadata": {},
     "output_type": "display_data"
    },
    {
     "data": {
      "application/vnd.jupyter.widget-view+json": {
       "model_id": "5ffafe859e40467da8e489dd7f5a63ed",
       "version_major": 2,
       "version_minor": 0
      },
      "text/plain": [
       "Image (test):   0%|          | 0/35 [00:00<?, ?it/s]"
      ]
     },
     "metadata": {},
     "output_type": "display_data"
    },
    {
     "data": {
      "application/vnd.jupyter.widget-view+json": {
       "model_id": "f49c27f0b96544bdb49189aa7f95efdd",
       "version_major": 2,
       "version_minor": 0
      },
      "text/plain": [
       "Image (train):   0%|          | 0/34 [00:00<?, ?it/s]"
      ]
     },
     "metadata": {},
     "output_type": "display_data"
    },
    {
     "data": {
      "application/vnd.jupyter.widget-view+json": {
       "model_id": "cdff218021be4691bc8ee0ee1888deba",
       "version_major": 2,
       "version_minor": 0
      },
      "text/plain": [
       "Image (test):   0%|          | 0/34 [00:00<?, ?it/s]"
      ]
     },
     "metadata": {},
     "output_type": "display_data"
    },
    {
     "data": {
      "application/vnd.jupyter.widget-view+json": {
       "model_id": "6426d59ad5ef4deea3b892a3e0a14e19",
       "version_major": 2,
       "version_minor": 0
      },
      "text/plain": [
       "Image (train):   0%|          | 0/29 [00:00<?, ?it/s]"
      ]
     },
     "metadata": {},
     "output_type": "display_data"
    },
    {
     "data": {
      "application/vnd.jupyter.widget-view+json": {
       "model_id": "57aa108e46ad4cd0b420815b0ca6737e",
       "version_major": 2,
       "version_minor": 0
      },
      "text/plain": [
       "Image (test):   0%|          | 0/29 [00:00<?, ?it/s]"
      ]
     },
     "metadata": {},
     "output_type": "display_data"
    },
    {
     "data": {
      "application/vnd.jupyter.widget-view+json": {
       "model_id": "be21ca202105458a8c496fc64a1f311c",
       "version_major": 2,
       "version_minor": 0
      },
      "text/plain": [
       "Column:   0%|          | 0/7 [00:00<?, ?it/s]"
      ]
     },
     "metadata": {},
     "output_type": "display_data"
    },
    {
     "data": {
      "application/vnd.jupyter.widget-view+json": {
       "model_id": "5dd8f883b76048f69297d4473182d2fa",
       "version_major": 2,
       "version_minor": 0
      },
      "text/plain": [
       "Attempt:   0%|          | 0/10 [00:00<?, ?it/s]"
      ]
     },
     "metadata": {},
     "output_type": "display_data"
    },
    {
     "data": {
      "application/vnd.jupyter.widget-view+json": {
       "model_id": "186cc9f3958e41839748d12ab885a925",
       "version_major": 2,
       "version_minor": 0
      },
      "text/plain": [
       "Image (train):   0%|          | 0/1000 [00:00<?, ?it/s]"
      ]
     },
     "metadata": {},
     "output_type": "display_data"
    },
    {
     "data": {
      "application/vnd.jupyter.widget-view+json": {
       "model_id": "ae7d8a25eb9b46cc8038629253ab9148",
       "version_major": 2,
       "version_minor": 0
      },
      "text/plain": [
       "Image (test):   0%|          | 0/1000 [00:00<?, ?it/s]"
      ]
     },
     "metadata": {},
     "output_type": "display_data"
    },
    {
     "data": {
      "application/vnd.jupyter.widget-view+json": {
       "model_id": "75ba0852869d48cba37b9f41dc034ccf",
       "version_major": 2,
       "version_minor": 0
      },
      "text/plain": [
       "Image (train):   0%|          | 0/43 [00:00<?, ?it/s]"
      ]
     },
     "metadata": {},
     "output_type": "display_data"
    },
    {
     "data": {
      "application/vnd.jupyter.widget-view+json": {
       "model_id": "071b58654c7d41558dd0d887db00281e",
       "version_major": 2,
       "version_minor": 0
      },
      "text/plain": [
       "Image (test):   0%|          | 0/43 [00:00<?, ?it/s]"
      ]
     },
     "metadata": {},
     "output_type": "display_data"
    },
    {
     "data": {
      "application/vnd.jupyter.widget-view+json": {
       "model_id": "198de9e09f84459a9a6e33da405e7ec2",
       "version_major": 2,
       "version_minor": 0
      },
      "text/plain": [
       "Image (train):   0%|          | 0/35 [00:00<?, ?it/s]"
      ]
     },
     "metadata": {},
     "output_type": "display_data"
    },
    {
     "data": {
      "application/vnd.jupyter.widget-view+json": {
       "model_id": "5887ffb57db24c2ba27362b74328ef62",
       "version_major": 2,
       "version_minor": 0
      },
      "text/plain": [
       "Image (test):   0%|          | 0/35 [00:00<?, ?it/s]"
      ]
     },
     "metadata": {},
     "output_type": "display_data"
    },
    {
     "data": {
      "application/vnd.jupyter.widget-view+json": {
       "model_id": "0fb6a65d03c9408a8a3a231089f74276",
       "version_major": 2,
       "version_minor": 0
      },
      "text/plain": [
       "Image (train):   0%|          | 0/23 [00:00<?, ?it/s]"
      ]
     },
     "metadata": {},
     "output_type": "display_data"
    },
    {
     "data": {
      "application/vnd.jupyter.widget-view+json": {
       "model_id": "ac789bd7ec804b7ba40f7fb323d6092e",
       "version_major": 2,
       "version_minor": 0
      },
      "text/plain": [
       "Image (test):   0%|          | 0/23 [00:00<?, ?it/s]"
      ]
     },
     "metadata": {},
     "output_type": "display_data"
    },
    {
     "data": {
      "application/vnd.jupyter.widget-view+json": {
       "model_id": "f456034d58024d32a6534395b1053f61",
       "version_major": 2,
       "version_minor": 0
      },
      "text/plain": [
       "Image (train):   0%|          | 0/17 [00:00<?, ?it/s]"
      ]
     },
     "metadata": {},
     "output_type": "display_data"
    },
    {
     "data": {
      "application/vnd.jupyter.widget-view+json": {
       "model_id": "4dc8f5cb5bed4637b8a8605a9bea3781",
       "version_major": 2,
       "version_minor": 0
      },
      "text/plain": [
       "Image (test):   0%|          | 0/17 [00:00<?, ?it/s]"
      ]
     },
     "metadata": {},
     "output_type": "display_data"
    },
    {
     "data": {
      "application/vnd.jupyter.widget-view+json": {
       "model_id": "e28647bc7d2d4f80b3c29a0a074ad3c4",
       "version_major": 2,
       "version_minor": 0
      },
      "text/plain": [
       "Image (train):   0%|          | 0/17 [00:00<?, ?it/s]"
      ]
     },
     "metadata": {},
     "output_type": "display_data"
    },
    {
     "data": {
      "application/vnd.jupyter.widget-view+json": {
       "model_id": "0a77839c7cc0446c9485c79f65b2cdf0",
       "version_major": 2,
       "version_minor": 0
      },
      "text/plain": [
       "Image (test):   0%|          | 0/17 [00:00<?, ?it/s]"
      ]
     },
     "metadata": {},
     "output_type": "display_data"
    },
    {
     "data": {
      "application/vnd.jupyter.widget-view+json": {
       "model_id": "d4073dc28d5e4b92ad3b9748d22bb338",
       "version_major": 2,
       "version_minor": 0
      },
      "text/plain": [
       "Image (train):   0%|          | 0/13 [00:00<?, ?it/s]"
      ]
     },
     "metadata": {},
     "output_type": "display_data"
    },
    {
     "data": {
      "application/vnd.jupyter.widget-view+json": {
       "model_id": "945049b3cf024db5acc9aa90c7d42faf",
       "version_major": 2,
       "version_minor": 0
      },
      "text/plain": [
       "Image (test):   0%|          | 0/13 [00:00<?, ?it/s]"
      ]
     },
     "metadata": {},
     "output_type": "display_data"
    },
    {
     "data": {
      "application/vnd.jupyter.widget-view+json": {
       "model_id": "1fb292fe3a7443d495d92f94c2f02bd7",
       "version_major": 2,
       "version_minor": 0
      },
      "text/plain": [
       "Image (train):   0%|          | 0/8 [00:00<?, ?it/s]"
      ]
     },
     "metadata": {},
     "output_type": "display_data"
    },
    {
     "data": {
      "application/vnd.jupyter.widget-view+json": {
       "model_id": "70222fb253714880882e41d7e427b2f1",
       "version_major": 2,
       "version_minor": 0
      },
      "text/plain": [
       "Image (test):   0%|          | 0/8 [00:00<?, ?it/s]"
      ]
     },
     "metadata": {},
     "output_type": "display_data"
    },
    {
     "data": {
      "application/vnd.jupyter.widget-view+json": {
       "model_id": "b21230b5f8534ad5902e0908b27f0c83",
       "version_major": 2,
       "version_minor": 0
      },
      "text/plain": [
       "Image (train):   0%|          | 0/7 [00:00<?, ?it/s]"
      ]
     },
     "metadata": {},
     "output_type": "display_data"
    },
    {
     "data": {
      "application/vnd.jupyter.widget-view+json": {
       "model_id": "1a66925e5a5e4159b577ac4529c6c6b8",
       "version_major": 2,
       "version_minor": 0
      },
      "text/plain": [
       "Image (test):   0%|          | 0/7 [00:00<?, ?it/s]"
      ]
     },
     "metadata": {},
     "output_type": "display_data"
    },
    {
     "data": {
      "application/vnd.jupyter.widget-view+json": {
       "model_id": "6f16cfbdc1de4390adab57923531ce29",
       "version_major": 2,
       "version_minor": 0
      },
      "text/plain": [
       "Image (train):   0%|          | 0/7 [00:00<?, ?it/s]"
      ]
     },
     "metadata": {},
     "output_type": "display_data"
    },
    {
     "data": {
      "application/vnd.jupyter.widget-view+json": {
       "model_id": "a1bb6f9b0e054830ac35ec2ec85cf94d",
       "version_major": 2,
       "version_minor": 0
      },
      "text/plain": [
       "Image (test):   0%|          | 0/7 [00:00<?, ?it/s]"
      ]
     },
     "metadata": {},
     "output_type": "display_data"
    },
    {
     "data": {
      "application/vnd.jupyter.widget-view+json": {
       "model_id": "3ca8aae220814d87a0a17ae0088addc2",
       "version_major": 2,
       "version_minor": 0
      },
      "text/plain": [
       "Attempt:   0%|          | 0/10 [00:00<?, ?it/s]"
      ]
     },
     "metadata": {},
     "output_type": "display_data"
    },
    {
     "data": {
      "application/vnd.jupyter.widget-view+json": {
       "model_id": "d62b969c9e9b4630abe292d9274bc024",
       "version_major": 2,
       "version_minor": 0
      },
      "text/plain": [
       "Image (train):   0%|          | 0/1000 [00:00<?, ?it/s]"
      ]
     },
     "metadata": {},
     "output_type": "display_data"
    },
    {
     "data": {
      "application/vnd.jupyter.widget-view+json": {
       "model_id": "8ed3622870b944f69eebd153a7f72f67",
       "version_major": 2,
       "version_minor": 0
      },
      "text/plain": [
       "Image (test):   0%|          | 0/1000 [00:00<?, ?it/s]"
      ]
     },
     "metadata": {},
     "output_type": "display_data"
    },
    {
     "data": {
      "application/vnd.jupyter.widget-view+json": {
       "model_id": "3d65e7919b194de9b4a9fae51bf27556",
       "version_major": 2,
       "version_minor": 0
      },
      "text/plain": [
       "Image (train):   0%|          | 0/138 [00:00<?, ?it/s]"
      ]
     },
     "metadata": {},
     "output_type": "display_data"
    },
    {
     "data": {
      "application/vnd.jupyter.widget-view+json": {
       "model_id": "63f6a079c38e4a99ba430771bbeac8d1",
       "version_major": 2,
       "version_minor": 0
      },
      "text/plain": [
       "Image (test):   0%|          | 0/138 [00:00<?, ?it/s]"
      ]
     },
     "metadata": {},
     "output_type": "display_data"
    },
    {
     "data": {
      "application/vnd.jupyter.widget-view+json": {
       "model_id": "654ae0f39e5e4791b784a545b2c81443",
       "version_major": 2,
       "version_minor": 0
      },
      "text/plain": [
       "Image (train):   0%|          | 0/108 [00:00<?, ?it/s]"
      ]
     },
     "metadata": {},
     "output_type": "display_data"
    },
    {
     "data": {
      "application/vnd.jupyter.widget-view+json": {
       "model_id": "39d39afe379844d1880aa60ba69693e1",
       "version_major": 2,
       "version_minor": 0
      },
      "text/plain": [
       "Image (test):   0%|          | 0/108 [00:00<?, ?it/s]"
      ]
     },
     "metadata": {},
     "output_type": "display_data"
    },
    {
     "data": {
      "application/vnd.jupyter.widget-view+json": {
       "model_id": "dbeba694c511455eaf06be909f806a18",
       "version_major": 2,
       "version_minor": 0
      },
      "text/plain": [
       "Image (train):   0%|          | 0/97 [00:00<?, ?it/s]"
      ]
     },
     "metadata": {},
     "output_type": "display_data"
    },
    {
     "data": {
      "application/vnd.jupyter.widget-view+json": {
       "model_id": "6937fa51b1ed433c8f5f8df5f779f124",
       "version_major": 2,
       "version_minor": 0
      },
      "text/plain": [
       "Image (test):   0%|          | 0/97 [00:00<?, ?it/s]"
      ]
     },
     "metadata": {},
     "output_type": "display_data"
    },
    {
     "data": {
      "application/vnd.jupyter.widget-view+json": {
       "model_id": "0622335d3d2c418a9675b1117def8da2",
       "version_major": 2,
       "version_minor": 0
      },
      "text/plain": [
       "Image (train):   0%|          | 0/85 [00:00<?, ?it/s]"
      ]
     },
     "metadata": {},
     "output_type": "display_data"
    },
    {
     "data": {
      "application/vnd.jupyter.widget-view+json": {
       "model_id": "01ca45bccab545f6ab73bc9071783951",
       "version_major": 2,
       "version_minor": 0
      },
      "text/plain": [
       "Image (test):   0%|          | 0/85 [00:00<?, ?it/s]"
      ]
     },
     "metadata": {},
     "output_type": "display_data"
    },
    {
     "data": {
      "application/vnd.jupyter.widget-view+json": {
       "model_id": "75fe0360314f45e997e300e105bcf862",
       "version_major": 2,
       "version_minor": 0
      },
      "text/plain": [
       "Image (train):   0%|          | 0/72 [00:00<?, ?it/s]"
      ]
     },
     "metadata": {},
     "output_type": "display_data"
    },
    {
     "data": {
      "application/vnd.jupyter.widget-view+json": {
       "model_id": "09c73969abbe4952a300a3c8241f3224",
       "version_major": 2,
       "version_minor": 0
      },
      "text/plain": [
       "Image (test):   0%|          | 0/72 [00:00<?, ?it/s]"
      ]
     },
     "metadata": {},
     "output_type": "display_data"
    },
    {
     "data": {
      "application/vnd.jupyter.widget-view+json": {
       "model_id": "56cb9addc2af4727ba563d4e3b8b8a4c",
       "version_major": 2,
       "version_minor": 0
      },
      "text/plain": [
       "Image (train):   0%|          | 0/63 [00:00<?, ?it/s]"
      ]
     },
     "metadata": {},
     "output_type": "display_data"
    },
    {
     "data": {
      "application/vnd.jupyter.widget-view+json": {
       "model_id": "e953994f494f47ab81a45a2ee22d7064",
       "version_major": 2,
       "version_minor": 0
      },
      "text/plain": [
       "Image (test):   0%|          | 0/63 [00:00<?, ?it/s]"
      ]
     },
     "metadata": {},
     "output_type": "display_data"
    },
    {
     "data": {
      "application/vnd.jupyter.widget-view+json": {
       "model_id": "27c81df1216c4f95a42e3b6f621aa606",
       "version_major": 2,
       "version_minor": 0
      },
      "text/plain": [
       "Image (train):   0%|          | 0/56 [00:00<?, ?it/s]"
      ]
     },
     "metadata": {},
     "output_type": "display_data"
    },
    {
     "data": {
      "application/vnd.jupyter.widget-view+json": {
       "model_id": "1c02d513eec1497f9b160a7f85b11f6a",
       "version_major": 2,
       "version_minor": 0
      },
      "text/plain": [
       "Image (test):   0%|          | 0/56 [00:00<?, ?it/s]"
      ]
     },
     "metadata": {},
     "output_type": "display_data"
    },
    {
     "data": {
      "application/vnd.jupyter.widget-view+json": {
       "model_id": "a02bcaa08b5443189bc6e2de863b7eed",
       "version_major": 2,
       "version_minor": 0
      },
      "text/plain": [
       "Image (train):   0%|          | 0/53 [00:00<?, ?it/s]"
      ]
     },
     "metadata": {},
     "output_type": "display_data"
    },
    {
     "data": {
      "application/vnd.jupyter.widget-view+json": {
       "model_id": "c5f38005ff904465915137cb53a0c7ac",
       "version_major": 2,
       "version_minor": 0
      },
      "text/plain": [
       "Image (test):   0%|          | 0/53 [00:00<?, ?it/s]"
      ]
     },
     "metadata": {},
     "output_type": "display_data"
    },
    {
     "data": {
      "application/vnd.jupyter.widget-view+json": {
       "model_id": "740760abd9ea4aca80c53498c473d774",
       "version_major": 2,
       "version_minor": 0
      },
      "text/plain": [
       "Image (train):   0%|          | 0/48 [00:00<?, ?it/s]"
      ]
     },
     "metadata": {},
     "output_type": "display_data"
    },
    {
     "data": {
      "application/vnd.jupyter.widget-view+json": {
       "model_id": "768b9ee4002744b0b7f7147fd9dffa1b",
       "version_major": 2,
       "version_minor": 0
      },
      "text/plain": [
       "Image (test):   0%|          | 0/48 [00:00<?, ?it/s]"
      ]
     },
     "metadata": {},
     "output_type": "display_data"
    },
    {
     "data": {
      "application/vnd.jupyter.widget-view+json": {
       "model_id": "732a82cdd2c54f6898e8270d361f6e1b",
       "version_major": 2,
       "version_minor": 0
      },
      "text/plain": [
       "Attempt:   0%|          | 0/10 [00:00<?, ?it/s]"
      ]
     },
     "metadata": {},
     "output_type": "display_data"
    },
    {
     "data": {
      "application/vnd.jupyter.widget-view+json": {
       "model_id": "f6c49e7fbab8455cbfe355b630257d7c",
       "version_major": 2,
       "version_minor": 0
      },
      "text/plain": [
       "Image (train):   0%|          | 0/1000 [00:00<?, ?it/s]"
      ]
     },
     "metadata": {},
     "output_type": "display_data"
    },
    {
     "data": {
      "application/vnd.jupyter.widget-view+json": {
       "model_id": "61d656780fa047ea9a5f60d8d081ea51",
       "version_major": 2,
       "version_minor": 0
      },
      "text/plain": [
       "Image (test):   0%|          | 0/1000 [00:00<?, ?it/s]"
      ]
     },
     "metadata": {},
     "output_type": "display_data"
    },
    {
     "data": {
      "application/vnd.jupyter.widget-view+json": {
       "model_id": "ad59b8bc104647de95f8071755a7f22f",
       "version_major": 2,
       "version_minor": 0
      },
      "text/plain": [
       "Image (train):   0%|          | 0/123 [00:00<?, ?it/s]"
      ]
     },
     "metadata": {},
     "output_type": "display_data"
    },
    {
     "data": {
      "application/vnd.jupyter.widget-view+json": {
       "model_id": "2aafaf57e0ef4d17b0151e826a8264b9",
       "version_major": 2,
       "version_minor": 0
      },
      "text/plain": [
       "Image (test):   0%|          | 0/123 [00:00<?, ?it/s]"
      ]
     },
     "metadata": {},
     "output_type": "display_data"
    },
    {
     "data": {
      "application/vnd.jupyter.widget-view+json": {
       "model_id": "06856c23ea9c45c9a6dbfb782e89f5ec",
       "version_major": 2,
       "version_minor": 0
      },
      "text/plain": [
       "Image (train):   0%|          | 0/106 [00:00<?, ?it/s]"
      ]
     },
     "metadata": {},
     "output_type": "display_data"
    },
    {
     "data": {
      "application/vnd.jupyter.widget-view+json": {
       "model_id": "8a5218305a2f4a199aac3a5e5823a87e",
       "version_major": 2,
       "version_minor": 0
      },
      "text/plain": [
       "Image (test):   0%|          | 0/106 [00:00<?, ?it/s]"
      ]
     },
     "metadata": {},
     "output_type": "display_data"
    },
    {
     "data": {
      "application/vnd.jupyter.widget-view+json": {
       "model_id": "ab73adabca974cae858f69ab53da5ddf",
       "version_major": 2,
       "version_minor": 0
      },
      "text/plain": [
       "Image (train):   0%|          | 0/95 [00:00<?, ?it/s]"
      ]
     },
     "metadata": {},
     "output_type": "display_data"
    },
    {
     "data": {
      "application/vnd.jupyter.widget-view+json": {
       "model_id": "00b58257335d40758525e72d2f49fbc8",
       "version_major": 2,
       "version_minor": 0
      },
      "text/plain": [
       "Image (test):   0%|          | 0/95 [00:00<?, ?it/s]"
      ]
     },
     "metadata": {},
     "output_type": "display_data"
    },
    {
     "data": {
      "application/vnd.jupyter.widget-view+json": {
       "model_id": "867302fa79724beeafa972f55f49ce11",
       "version_major": 2,
       "version_minor": 0
      },
      "text/plain": [
       "Image (train):   0%|          | 0/86 [00:00<?, ?it/s]"
      ]
     },
     "metadata": {},
     "output_type": "display_data"
    },
    {
     "data": {
      "application/vnd.jupyter.widget-view+json": {
       "model_id": "a45ca401742f4622ae530065d98cef48",
       "version_major": 2,
       "version_minor": 0
      },
      "text/plain": [
       "Image (test):   0%|          | 0/86 [00:00<?, ?it/s]"
      ]
     },
     "metadata": {},
     "output_type": "display_data"
    },
    {
     "data": {
      "application/vnd.jupyter.widget-view+json": {
       "model_id": "597406526eb548479f1f20baa7d83894",
       "version_major": 2,
       "version_minor": 0
      },
      "text/plain": [
       "Image (train):   0%|          | 0/70 [00:00<?, ?it/s]"
      ]
     },
     "metadata": {},
     "output_type": "display_data"
    },
    {
     "data": {
      "application/vnd.jupyter.widget-view+json": {
       "model_id": "a48c518abc374772be6178d2eae79561",
       "version_major": 2,
       "version_minor": 0
      },
      "text/plain": [
       "Image (test):   0%|          | 0/70 [00:00<?, ?it/s]"
      ]
     },
     "metadata": {},
     "output_type": "display_data"
    },
    {
     "data": {
      "application/vnd.jupyter.widget-view+json": {
       "model_id": "920400f8a9cc495d90d09ea072a67ed2",
       "version_major": 2,
       "version_minor": 0
      },
      "text/plain": [
       "Image (train):   0%|          | 0/60 [00:00<?, ?it/s]"
      ]
     },
     "metadata": {},
     "output_type": "display_data"
    },
    {
     "data": {
      "application/vnd.jupyter.widget-view+json": {
       "model_id": "46c36c8079a04018b8b75a30bde95d87",
       "version_major": 2,
       "version_minor": 0
      },
      "text/plain": [
       "Image (test):   0%|          | 0/60 [00:00<?, ?it/s]"
      ]
     },
     "metadata": {},
     "output_type": "display_data"
    },
    {
     "data": {
      "application/vnd.jupyter.widget-view+json": {
       "model_id": "9cfafc79a7ff408abe25e6ae04360ccd",
       "version_major": 2,
       "version_minor": 0
      },
      "text/plain": [
       "Image (train):   0%|          | 0/52 [00:00<?, ?it/s]"
      ]
     },
     "metadata": {},
     "output_type": "display_data"
    },
    {
     "data": {
      "application/vnd.jupyter.widget-view+json": {
       "model_id": "8e95ace68911485b8c30aa5165ee9ba7",
       "version_major": 2,
       "version_minor": 0
      },
      "text/plain": [
       "Image (test):   0%|          | 0/52 [00:00<?, ?it/s]"
      ]
     },
     "metadata": {},
     "output_type": "display_data"
    },
    {
     "data": {
      "application/vnd.jupyter.widget-view+json": {
       "model_id": "9982d664bdc245d29517e75a7019b301",
       "version_major": 2,
       "version_minor": 0
      },
      "text/plain": [
       "Image (train):   0%|          | 0/44 [00:00<?, ?it/s]"
      ]
     },
     "metadata": {},
     "output_type": "display_data"
    },
    {
     "data": {
      "application/vnd.jupyter.widget-view+json": {
       "model_id": "0760ffb426284ac08385435c4a37da60",
       "version_major": 2,
       "version_minor": 0
      },
      "text/plain": [
       "Image (test):   0%|          | 0/44 [00:00<?, ?it/s]"
      ]
     },
     "metadata": {},
     "output_type": "display_data"
    },
    {
     "data": {
      "application/vnd.jupyter.widget-view+json": {
       "model_id": "e349734d9e6441da8b9bd334fd7a9e69",
       "version_major": 2,
       "version_minor": 0
      },
      "text/plain": [
       "Image (train):   0%|          | 0/38 [00:00<?, ?it/s]"
      ]
     },
     "metadata": {},
     "output_type": "display_data"
    },
    {
     "data": {
      "application/vnd.jupyter.widget-view+json": {
       "model_id": "72ee7eaeaee242ae94f6660632b30a0d",
       "version_major": 2,
       "version_minor": 0
      },
      "text/plain": [
       "Image (test):   0%|          | 0/38 [00:00<?, ?it/s]"
      ]
     },
     "metadata": {},
     "output_type": "display_data"
    },
    {
     "data": {
      "application/vnd.jupyter.widget-view+json": {
       "model_id": "7186d8de06cf4267906f186eae3ada46",
       "version_major": 2,
       "version_minor": 0
      },
      "text/plain": [
       "Attempt:   0%|          | 0/10 [00:00<?, ?it/s]"
      ]
     },
     "metadata": {},
     "output_type": "display_data"
    },
    {
     "data": {
      "application/vnd.jupyter.widget-view+json": {
       "model_id": "b83bec2caf694141a58e3bc60b4647b6",
       "version_major": 2,
       "version_minor": 0
      },
      "text/plain": [
       "Image (train):   0%|          | 0/1000 [00:00<?, ?it/s]"
      ]
     },
     "metadata": {},
     "output_type": "display_data"
    },
    {
     "data": {
      "application/vnd.jupyter.widget-view+json": {
       "model_id": "59fa3037d344440aaeb827dd514e4e58",
       "version_major": 2,
       "version_minor": 0
      },
      "text/plain": [
       "Image (test):   0%|          | 0/1000 [00:00<?, ?it/s]"
      ]
     },
     "metadata": {},
     "output_type": "display_data"
    },
    {
     "data": {
      "application/vnd.jupyter.widget-view+json": {
       "model_id": "40367ad1a92d4bc78ce6d41b84f38e17",
       "version_major": 2,
       "version_minor": 0
      },
      "text/plain": [
       "Image (train):   0%|          | 0/134 [00:00<?, ?it/s]"
      ]
     },
     "metadata": {},
     "output_type": "display_data"
    },
    {
     "data": {
      "application/vnd.jupyter.widget-view+json": {
       "model_id": "64fac792ac9a428ab70816d4bf641cee",
       "version_major": 2,
       "version_minor": 0
      },
      "text/plain": [
       "Image (test):   0%|          | 0/134 [00:00<?, ?it/s]"
      ]
     },
     "metadata": {},
     "output_type": "display_data"
    },
    {
     "data": {
      "application/vnd.jupyter.widget-view+json": {
       "model_id": "f39c6ab85eba45ed95b88bc902be1b59",
       "version_major": 2,
       "version_minor": 0
      },
      "text/plain": [
       "Image (train):   0%|          | 0/98 [00:00<?, ?it/s]"
      ]
     },
     "metadata": {},
     "output_type": "display_data"
    },
    {
     "data": {
      "application/vnd.jupyter.widget-view+json": {
       "model_id": "c652f247c85b48a6afea7b058cb5abbe",
       "version_major": 2,
       "version_minor": 0
      },
      "text/plain": [
       "Image (test):   0%|          | 0/98 [00:00<?, ?it/s]"
      ]
     },
     "metadata": {},
     "output_type": "display_data"
    },
    {
     "data": {
      "application/vnd.jupyter.widget-view+json": {
       "model_id": "4f94008ee440427687d1770230794155",
       "version_major": 2,
       "version_minor": 0
      },
      "text/plain": [
       "Image (train):   0%|          | 0/77 [00:00<?, ?it/s]"
      ]
     },
     "metadata": {},
     "output_type": "display_data"
    },
    {
     "data": {
      "application/vnd.jupyter.widget-view+json": {
       "model_id": "8c98e76a61a84456bfa873efac4b841c",
       "version_major": 2,
       "version_minor": 0
      },
      "text/plain": [
       "Image (test):   0%|          | 0/77 [00:00<?, ?it/s]"
      ]
     },
     "metadata": {},
     "output_type": "display_data"
    },
    {
     "data": {
      "application/vnd.jupyter.widget-view+json": {
       "model_id": "9bdb0728e7e243da8bbfed6b8a2f1a90",
       "version_major": 2,
       "version_minor": 0
      },
      "text/plain": [
       "Image (train):   0%|          | 0/65 [00:00<?, ?it/s]"
      ]
     },
     "metadata": {},
     "output_type": "display_data"
    },
    {
     "data": {
      "application/vnd.jupyter.widget-view+json": {
       "model_id": "5764ff4de9ba4496a5dd136fe215205d",
       "version_major": 2,
       "version_minor": 0
      },
      "text/plain": [
       "Image (test):   0%|          | 0/65 [00:00<?, ?it/s]"
      ]
     },
     "metadata": {},
     "output_type": "display_data"
    },
    {
     "data": {
      "application/vnd.jupyter.widget-view+json": {
       "model_id": "97d2760634ee4c86a0b841f03565396b",
       "version_major": 2,
       "version_minor": 0
      },
      "text/plain": [
       "Image (train):   0%|          | 0/53 [00:00<?, ?it/s]"
      ]
     },
     "metadata": {},
     "output_type": "display_data"
    },
    {
     "data": {
      "application/vnd.jupyter.widget-view+json": {
       "model_id": "283043fb0beb477c8022be963b84a7db",
       "version_major": 2,
       "version_minor": 0
      },
      "text/plain": [
       "Image (test):   0%|          | 0/53 [00:00<?, ?it/s]"
      ]
     },
     "metadata": {},
     "output_type": "display_data"
    },
    {
     "data": {
      "application/vnd.jupyter.widget-view+json": {
       "model_id": "d698df7de5a34c04965aa99dacac4c0e",
       "version_major": 2,
       "version_minor": 0
      },
      "text/plain": [
       "Image (train):   0%|          | 0/43 [00:00<?, ?it/s]"
      ]
     },
     "metadata": {},
     "output_type": "display_data"
    },
    {
     "data": {
      "application/vnd.jupyter.widget-view+json": {
       "model_id": "1771be90695e44d98ef04ca7ce85ab61",
       "version_major": 2,
       "version_minor": 0
      },
      "text/plain": [
       "Image (test):   0%|          | 0/43 [00:00<?, ?it/s]"
      ]
     },
     "metadata": {},
     "output_type": "display_data"
    },
    {
     "data": {
      "application/vnd.jupyter.widget-view+json": {
       "model_id": "46ed866676a44b64b8df1faa836f81eb",
       "version_major": 2,
       "version_minor": 0
      },
      "text/plain": [
       "Image (train):   0%|          | 0/34 [00:00<?, ?it/s]"
      ]
     },
     "metadata": {},
     "output_type": "display_data"
    },
    {
     "data": {
      "application/vnd.jupyter.widget-view+json": {
       "model_id": "9ea213d7cdef48759ab09f40aa16b466",
       "version_major": 2,
       "version_minor": 0
      },
      "text/plain": [
       "Image (test):   0%|          | 0/34 [00:00<?, ?it/s]"
      ]
     },
     "metadata": {},
     "output_type": "display_data"
    },
    {
     "data": {
      "application/vnd.jupyter.widget-view+json": {
       "model_id": "8455c3588fba414a98523c2048c7e076",
       "version_major": 2,
       "version_minor": 0
      },
      "text/plain": [
       "Image (train):   0%|          | 0/28 [00:00<?, ?it/s]"
      ]
     },
     "metadata": {},
     "output_type": "display_data"
    },
    {
     "data": {
      "application/vnd.jupyter.widget-view+json": {
       "model_id": "bce59ca8b2d14a4b8c75dc9d3f5cde98",
       "version_major": 2,
       "version_minor": 0
      },
      "text/plain": [
       "Image (test):   0%|          | 0/28 [00:00<?, ?it/s]"
      ]
     },
     "metadata": {},
     "output_type": "display_data"
    },
    {
     "data": {
      "application/vnd.jupyter.widget-view+json": {
       "model_id": "c102d223eede40159f69c40db66a7576",
       "version_major": 2,
       "version_minor": 0
      },
      "text/plain": [
       "Image (train):   0%|          | 0/23 [00:00<?, ?it/s]"
      ]
     },
     "metadata": {},
     "output_type": "display_data"
    },
    {
     "data": {
      "application/vnd.jupyter.widget-view+json": {
       "model_id": "3d0ef31bf8a545f8acd515ca632fc2a4",
       "version_major": 2,
       "version_minor": 0
      },
      "text/plain": [
       "Image (test):   0%|          | 0/23 [00:00<?, ?it/s]"
      ]
     },
     "metadata": {},
     "output_type": "display_data"
    },
    {
     "data": {
      "application/vnd.jupyter.widget-view+json": {
       "model_id": "565a61df7d5f4898b2e55159864a5f33",
       "version_major": 2,
       "version_minor": 0
      },
      "text/plain": [
       "Attempt:   0%|          | 0/10 [00:00<?, ?it/s]"
      ]
     },
     "metadata": {},
     "output_type": "display_data"
    },
    {
     "data": {
      "application/vnd.jupyter.widget-view+json": {
       "model_id": "59630690ba75423684cc73b5853b015c",
       "version_major": 2,
       "version_minor": 0
      },
      "text/plain": [
       "Image (train):   0%|          | 0/1000 [00:00<?, ?it/s]"
      ]
     },
     "metadata": {},
     "output_type": "display_data"
    },
    {
     "data": {
      "application/vnd.jupyter.widget-view+json": {
       "model_id": "202ef384954c4667a26d6fa46031af6b",
       "version_major": 2,
       "version_minor": 0
      },
      "text/plain": [
       "Image (test):   0%|          | 0/1000 [00:00<?, ?it/s]"
      ]
     },
     "metadata": {},
     "output_type": "display_data"
    },
    {
     "data": {
      "application/vnd.jupyter.widget-view+json": {
       "model_id": "f1dc239acf0d400fac81bca5f735b2f5",
       "version_major": 2,
       "version_minor": 0
      },
      "text/plain": [
       "Image (train):   0%|          | 0/112 [00:00<?, ?it/s]"
      ]
     },
     "metadata": {},
     "output_type": "display_data"
    },
    {
     "data": {
      "application/vnd.jupyter.widget-view+json": {
       "model_id": "908efcfdb1804d9bb61023201c0f1a5c",
       "version_major": 2,
       "version_minor": 0
      },
      "text/plain": [
       "Image (test):   0%|          | 0/112 [00:00<?, ?it/s]"
      ]
     },
     "metadata": {},
     "output_type": "display_data"
    },
    {
     "data": {
      "application/vnd.jupyter.widget-view+json": {
       "model_id": "3735e63dccbf49a3997c1d8aa76a7d8e",
       "version_major": 2,
       "version_minor": 0
      },
      "text/plain": [
       "Image (train):   0%|          | 0/88 [00:00<?, ?it/s]"
      ]
     },
     "metadata": {},
     "output_type": "display_data"
    },
    {
     "data": {
      "application/vnd.jupyter.widget-view+json": {
       "model_id": "3934b48d8ca74100bf9134e6e4c2e764",
       "version_major": 2,
       "version_minor": 0
      },
      "text/plain": [
       "Image (test):   0%|          | 0/88 [00:00<?, ?it/s]"
      ]
     },
     "metadata": {},
     "output_type": "display_data"
    },
    {
     "data": {
      "application/vnd.jupyter.widget-view+json": {
       "model_id": "cd0bfe72f3544975916e615b7c93204a",
       "version_major": 2,
       "version_minor": 0
      },
      "text/plain": [
       "Image (train):   0%|          | 0/70 [00:00<?, ?it/s]"
      ]
     },
     "metadata": {},
     "output_type": "display_data"
    },
    {
     "data": {
      "application/vnd.jupyter.widget-view+json": {
       "model_id": "5b5d6f4e240f4f0e8858dda5e1116d85",
       "version_major": 2,
       "version_minor": 0
      },
      "text/plain": [
       "Image (test):   0%|          | 0/70 [00:00<?, ?it/s]"
      ]
     },
     "metadata": {},
     "output_type": "display_data"
    },
    {
     "data": {
      "application/vnd.jupyter.widget-view+json": {
       "model_id": "2540370138a243439c06329e3ab8a3a7",
       "version_major": 2,
       "version_minor": 0
      },
      "text/plain": [
       "Image (train):   0%|          | 0/60 [00:00<?, ?it/s]"
      ]
     },
     "metadata": {},
     "output_type": "display_data"
    },
    {
     "data": {
      "application/vnd.jupyter.widget-view+json": {
       "model_id": "5a849b75a3604a22ba42b0dd5812c68c",
       "version_major": 2,
       "version_minor": 0
      },
      "text/plain": [
       "Image (test):   0%|          | 0/60 [00:00<?, ?it/s]"
      ]
     },
     "metadata": {},
     "output_type": "display_data"
    },
    {
     "data": {
      "application/vnd.jupyter.widget-view+json": {
       "model_id": "5d722f3b3b14421abfef5185aa89ffe1",
       "version_major": 2,
       "version_minor": 0
      },
      "text/plain": [
       "Image (train):   0%|          | 0/49 [00:00<?, ?it/s]"
      ]
     },
     "metadata": {},
     "output_type": "display_data"
    },
    {
     "data": {
      "application/vnd.jupyter.widget-view+json": {
       "model_id": "26d8331d0f7c4bfaabe8664847e97f27",
       "version_major": 2,
       "version_minor": 0
      },
      "text/plain": [
       "Image (test):   0%|          | 0/49 [00:00<?, ?it/s]"
      ]
     },
     "metadata": {},
     "output_type": "display_data"
    },
    {
     "data": {
      "application/vnd.jupyter.widget-view+json": {
       "model_id": "cf7d4a4e51814abfabfeab37d37cec45",
       "version_major": 2,
       "version_minor": 0
      },
      "text/plain": [
       "Image (train):   0%|          | 0/41 [00:00<?, ?it/s]"
      ]
     },
     "metadata": {},
     "output_type": "display_data"
    },
    {
     "data": {
      "application/vnd.jupyter.widget-view+json": {
       "model_id": "2dba6022ee7b42d5bf9c515b00c38f99",
       "version_major": 2,
       "version_minor": 0
      },
      "text/plain": [
       "Image (test):   0%|          | 0/41 [00:00<?, ?it/s]"
      ]
     },
     "metadata": {},
     "output_type": "display_data"
    },
    {
     "data": {
      "application/vnd.jupyter.widget-view+json": {
       "model_id": "4117ce8919944cd4887c8d446f593dc6",
       "version_major": 2,
       "version_minor": 0
      },
      "text/plain": [
       "Image (train):   0%|          | 0/38 [00:00<?, ?it/s]"
      ]
     },
     "metadata": {},
     "output_type": "display_data"
    },
    {
     "data": {
      "application/vnd.jupyter.widget-view+json": {
       "model_id": "4a23ac673a35482e92948464f68f1a16",
       "version_major": 2,
       "version_minor": 0
      },
      "text/plain": [
       "Image (test):   0%|          | 0/38 [00:00<?, ?it/s]"
      ]
     },
     "metadata": {},
     "output_type": "display_data"
    },
    {
     "data": {
      "application/vnd.jupyter.widget-view+json": {
       "model_id": "d337ce1c21eb45f49202a633bf032341",
       "version_major": 2,
       "version_minor": 0
      },
      "text/plain": [
       "Image (train):   0%|          | 0/35 [00:00<?, ?it/s]"
      ]
     },
     "metadata": {},
     "output_type": "display_data"
    },
    {
     "data": {
      "application/vnd.jupyter.widget-view+json": {
       "model_id": "7dbd3691724e44f09a29f9a9ec9414ac",
       "version_major": 2,
       "version_minor": 0
      },
      "text/plain": [
       "Image (test):   0%|          | 0/35 [00:00<?, ?it/s]"
      ]
     },
     "metadata": {},
     "output_type": "display_data"
    },
    {
     "data": {
      "application/vnd.jupyter.widget-view+json": {
       "model_id": "8dcc99caee8e40bda3fc1b78f74324ec",
       "version_major": 2,
       "version_minor": 0
      },
      "text/plain": [
       "Image (train):   0%|          | 0/27 [00:00<?, ?it/s]"
      ]
     },
     "metadata": {},
     "output_type": "display_data"
    },
    {
     "data": {
      "application/vnd.jupyter.widget-view+json": {
       "model_id": "4a74067dea6f401da5a94802bf139c40",
       "version_major": 2,
       "version_minor": 0
      },
      "text/plain": [
       "Image (test):   0%|          | 0/27 [00:00<?, ?it/s]"
      ]
     },
     "metadata": {},
     "output_type": "display_data"
    },
    {
     "data": {
      "application/vnd.jupyter.widget-view+json": {
       "model_id": "36d16c62b3b54adaa20f73e72d07ce8e",
       "version_major": 2,
       "version_minor": 0
      },
      "text/plain": [
       "Attempt:   0%|          | 0/10 [00:00<?, ?it/s]"
      ]
     },
     "metadata": {},
     "output_type": "display_data"
    },
    {
     "data": {
      "application/vnd.jupyter.widget-view+json": {
       "model_id": "1cc1621d2b2f4386889a8da654b25d35",
       "version_major": 2,
       "version_minor": 0
      },
      "text/plain": [
       "Image (train):   0%|          | 0/1000 [00:00<?, ?it/s]"
      ]
     },
     "metadata": {},
     "output_type": "display_data"
    },
    {
     "data": {
      "application/vnd.jupyter.widget-view+json": {
       "model_id": "b3ae10b0ac0849478fb0c5a93116dc9a",
       "version_major": 2,
       "version_minor": 0
      },
      "text/plain": [
       "Image (test):   0%|          | 0/1000 [00:00<?, ?it/s]"
      ]
     },
     "metadata": {},
     "output_type": "display_data"
    },
    {
     "data": {
      "application/vnd.jupyter.widget-view+json": {
       "model_id": "4581dd1443f944259460844639eb0cad",
       "version_major": 2,
       "version_minor": 0
      },
      "text/plain": [
       "Image (train):   0%|          | 0/97 [00:00<?, ?it/s]"
      ]
     },
     "metadata": {},
     "output_type": "display_data"
    },
    {
     "data": {
      "application/vnd.jupyter.widget-view+json": {
       "model_id": "8fa84b7ee0f14086afd9b2ef156aa43c",
       "version_major": 2,
       "version_minor": 0
      },
      "text/plain": [
       "Image (test):   0%|          | 0/97 [00:00<?, ?it/s]"
      ]
     },
     "metadata": {},
     "output_type": "display_data"
    },
    {
     "data": {
      "application/vnd.jupyter.widget-view+json": {
       "model_id": "8f1bf26b58d940679af20d9029f78e80",
       "version_major": 2,
       "version_minor": 0
      },
      "text/plain": [
       "Image (train):   0%|          | 0/77 [00:00<?, ?it/s]"
      ]
     },
     "metadata": {},
     "output_type": "display_data"
    },
    {
     "data": {
      "application/vnd.jupyter.widget-view+json": {
       "model_id": "c7216ddf21c54e08bf874f50e6390e22",
       "version_major": 2,
       "version_minor": 0
      },
      "text/plain": [
       "Image (test):   0%|          | 0/77 [00:00<?, ?it/s]"
      ]
     },
     "metadata": {},
     "output_type": "display_data"
    },
    {
     "data": {
      "application/vnd.jupyter.widget-view+json": {
       "model_id": "1e83df493cf84de9a17bf2198b5d6240",
       "version_major": 2,
       "version_minor": 0
      },
      "text/plain": [
       "Image (train):   0%|          | 0/62 [00:00<?, ?it/s]"
      ]
     },
     "metadata": {},
     "output_type": "display_data"
    },
    {
     "data": {
      "application/vnd.jupyter.widget-view+json": {
       "model_id": "20beef342c714d68b72bd960aeddcfe4",
       "version_major": 2,
       "version_minor": 0
      },
      "text/plain": [
       "Image (test):   0%|          | 0/62 [00:00<?, ?it/s]"
      ]
     },
     "metadata": {},
     "output_type": "display_data"
    },
    {
     "data": {
      "application/vnd.jupyter.widget-view+json": {
       "model_id": "b6bb721a90834d18ac5bc91da0c9b782",
       "version_major": 2,
       "version_minor": 0
      },
      "text/plain": [
       "Image (train):   0%|          | 0/53 [00:00<?, ?it/s]"
      ]
     },
     "metadata": {},
     "output_type": "display_data"
    },
    {
     "data": {
      "application/vnd.jupyter.widget-view+json": {
       "model_id": "24726698d9e64ec9a3811c3bf8d43120",
       "version_major": 2,
       "version_minor": 0
      },
      "text/plain": [
       "Image (test):   0%|          | 0/53 [00:00<?, ?it/s]"
      ]
     },
     "metadata": {},
     "output_type": "display_data"
    },
    {
     "data": {
      "application/vnd.jupyter.widget-view+json": {
       "model_id": "e4e67e15b9794c7e8e0261e0bc7ab0c7",
       "version_major": 2,
       "version_minor": 0
      },
      "text/plain": [
       "Image (train):   0%|          | 0/41 [00:00<?, ?it/s]"
      ]
     },
     "metadata": {},
     "output_type": "display_data"
    },
    {
     "data": {
      "application/vnd.jupyter.widget-view+json": {
       "model_id": "179385638cff4f8785d4df6ba0397ea0",
       "version_major": 2,
       "version_minor": 0
      },
      "text/plain": [
       "Image (test):   0%|          | 0/41 [00:00<?, ?it/s]"
      ]
     },
     "metadata": {},
     "output_type": "display_data"
    },
    {
     "data": {
      "application/vnd.jupyter.widget-view+json": {
       "model_id": "e6493a2f632a462fac1585856a5d58cf",
       "version_major": 2,
       "version_minor": 0
      },
      "text/plain": [
       "Image (train):   0%|          | 0/38 [00:00<?, ?it/s]"
      ]
     },
     "metadata": {},
     "output_type": "display_data"
    },
    {
     "data": {
      "application/vnd.jupyter.widget-view+json": {
       "model_id": "24542ba964b44daea504273d1d918465",
       "version_major": 2,
       "version_minor": 0
      },
      "text/plain": [
       "Image (test):   0%|          | 0/38 [00:00<?, ?it/s]"
      ]
     },
     "metadata": {},
     "output_type": "display_data"
    },
    {
     "data": {
      "application/vnd.jupyter.widget-view+json": {
       "model_id": "bea269903e474193bfd26c1aafeec0eb",
       "version_major": 2,
       "version_minor": 0
      },
      "text/plain": [
       "Image (train):   0%|          | 0/32 [00:00<?, ?it/s]"
      ]
     },
     "metadata": {},
     "output_type": "display_data"
    },
    {
     "data": {
      "application/vnd.jupyter.widget-view+json": {
       "model_id": "2b585e8a203249f389eb2902bd399f80",
       "version_major": 2,
       "version_minor": 0
      },
      "text/plain": [
       "Image (test):   0%|          | 0/32 [00:00<?, ?it/s]"
      ]
     },
     "metadata": {},
     "output_type": "display_data"
    },
    {
     "data": {
      "application/vnd.jupyter.widget-view+json": {
       "model_id": "07e61ffb64f147119e1cbf3b2966b83c",
       "version_major": 2,
       "version_minor": 0
      },
      "text/plain": [
       "Image (train):   0%|          | 0/28 [00:00<?, ?it/s]"
      ]
     },
     "metadata": {},
     "output_type": "display_data"
    },
    {
     "data": {
      "application/vnd.jupyter.widget-view+json": {
       "model_id": "18ee5c9fc38c4a258c4564ee305024f7",
       "version_major": 2,
       "version_minor": 0
      },
      "text/plain": [
       "Image (test):   0%|          | 0/28 [00:00<?, ?it/s]"
      ]
     },
     "metadata": {},
     "output_type": "display_data"
    },
    {
     "data": {
      "application/vnd.jupyter.widget-view+json": {
       "model_id": "187cc7edde6244258313398bbe006e46",
       "version_major": 2,
       "version_minor": 0
      },
      "text/plain": [
       "Image (train):   0%|          | 0/26 [00:00<?, ?it/s]"
      ]
     },
     "metadata": {},
     "output_type": "display_data"
    },
    {
     "data": {
      "application/vnd.jupyter.widget-view+json": {
       "model_id": "f971754278c142aa84e1a8ac42816c5e",
       "version_major": 2,
       "version_minor": 0
      },
      "text/plain": [
       "Image (test):   0%|          | 0/26 [00:00<?, ?it/s]"
      ]
     },
     "metadata": {},
     "output_type": "display_data"
    },
    {
     "data": {
      "application/vnd.jupyter.widget-view+json": {
       "model_id": "9e6a1805f59b4c66a52058c378ffcc5c",
       "version_major": 2,
       "version_minor": 0
      },
      "text/plain": [
       "Attempt:   0%|          | 0/10 [00:00<?, ?it/s]"
      ]
     },
     "metadata": {},
     "output_type": "display_data"
    },
    {
     "data": {
      "application/vnd.jupyter.widget-view+json": {
       "model_id": "ff99abca7ba54d62b0c234bed67478e8",
       "version_major": 2,
       "version_minor": 0
      },
      "text/plain": [
       "Image (train):   0%|          | 0/1000 [00:00<?, ?it/s]"
      ]
     },
     "metadata": {},
     "output_type": "display_data"
    },
    {
     "data": {
      "application/vnd.jupyter.widget-view+json": {
       "model_id": "35da16f6fac0458798fa38bc1abeecf9",
       "version_major": 2,
       "version_minor": 0
      },
      "text/plain": [
       "Image (test):   0%|          | 0/1000 [00:00<?, ?it/s]"
      ]
     },
     "metadata": {},
     "output_type": "display_data"
    },
    {
     "data": {
      "application/vnd.jupyter.widget-view+json": {
       "model_id": "672978bea7db4ca9b8822fc93a3ace5e",
       "version_major": 2,
       "version_minor": 0
      },
      "text/plain": [
       "Image (train):   0%|          | 0/92 [00:00<?, ?it/s]"
      ]
     },
     "metadata": {},
     "output_type": "display_data"
    },
    {
     "data": {
      "application/vnd.jupyter.widget-view+json": {
       "model_id": "1845c015c5be44acabfd019120912394",
       "version_major": 2,
       "version_minor": 0
      },
      "text/plain": [
       "Image (test):   0%|          | 0/92 [00:00<?, ?it/s]"
      ]
     },
     "metadata": {},
     "output_type": "display_data"
    },
    {
     "data": {
      "application/vnd.jupyter.widget-view+json": {
       "model_id": "724b650a111945c6b4d52bfdcdc22926",
       "version_major": 2,
       "version_minor": 0
      },
      "text/plain": [
       "Image (train):   0%|          | 0/75 [00:00<?, ?it/s]"
      ]
     },
     "metadata": {},
     "output_type": "display_data"
    },
    {
     "data": {
      "application/vnd.jupyter.widget-view+json": {
       "model_id": "1efb620473e5481fb633393a5ae97265",
       "version_major": 2,
       "version_minor": 0
      },
      "text/plain": [
       "Image (test):   0%|          | 0/75 [00:00<?, ?it/s]"
      ]
     },
     "metadata": {},
     "output_type": "display_data"
    },
    {
     "data": {
      "application/vnd.jupyter.widget-view+json": {
       "model_id": "6db36d791cd64b69b6bf718180575d94",
       "version_major": 2,
       "version_minor": 0
      },
      "text/plain": [
       "Image (train):   0%|          | 0/66 [00:00<?, ?it/s]"
      ]
     },
     "metadata": {},
     "output_type": "display_data"
    },
    {
     "data": {
      "application/vnd.jupyter.widget-view+json": {
       "model_id": "1d59deea4cf74411a165c239eea2c2b8",
       "version_major": 2,
       "version_minor": 0
      },
      "text/plain": [
       "Image (test):   0%|          | 0/66 [00:00<?, ?it/s]"
      ]
     },
     "metadata": {},
     "output_type": "display_data"
    },
    {
     "data": {
      "application/vnd.jupyter.widget-view+json": {
       "model_id": "8694f963ae62471986545cddf070286d",
       "version_major": 2,
       "version_minor": 0
      },
      "text/plain": [
       "Image (train):   0%|          | 0/58 [00:00<?, ?it/s]"
      ]
     },
     "metadata": {},
     "output_type": "display_data"
    },
    {
     "data": {
      "application/vnd.jupyter.widget-view+json": {
       "model_id": "84977e40c6dc42ccbde457508e2792d6",
       "version_major": 2,
       "version_minor": 0
      },
      "text/plain": [
       "Image (test):   0%|          | 0/58 [00:00<?, ?it/s]"
      ]
     },
     "metadata": {},
     "output_type": "display_data"
    },
    {
     "data": {
      "application/vnd.jupyter.widget-view+json": {
       "model_id": "8f8ba5144c504700a40ff0f5f930f755",
       "version_major": 2,
       "version_minor": 0
      },
      "text/plain": [
       "Image (train):   0%|          | 0/41 [00:00<?, ?it/s]"
      ]
     },
     "metadata": {},
     "output_type": "display_data"
    },
    {
     "data": {
      "application/vnd.jupyter.widget-view+json": {
       "model_id": "755a787d6fbc4705a23c16315928cbb4",
       "version_major": 2,
       "version_minor": 0
      },
      "text/plain": [
       "Image (test):   0%|          | 0/41 [00:00<?, ?it/s]"
      ]
     },
     "metadata": {},
     "output_type": "display_data"
    },
    {
     "data": {
      "application/vnd.jupyter.widget-view+json": {
       "model_id": "e8c14d2630bc4ede82f325c1cb148d02",
       "version_major": 2,
       "version_minor": 0
      },
      "text/plain": [
       "Image (train):   0%|          | 0/35 [00:00<?, ?it/s]"
      ]
     },
     "metadata": {},
     "output_type": "display_data"
    },
    {
     "data": {
      "application/vnd.jupyter.widget-view+json": {
       "model_id": "213fe33e5c0149cbb1826052f436431d",
       "version_major": 2,
       "version_minor": 0
      },
      "text/plain": [
       "Image (test):   0%|          | 0/35 [00:00<?, ?it/s]"
      ]
     },
     "metadata": {},
     "output_type": "display_data"
    },
    {
     "data": {
      "application/vnd.jupyter.widget-view+json": {
       "model_id": "a1ba0e44bcd14fc7865305b2d2c45c5b",
       "version_major": 2,
       "version_minor": 0
      },
      "text/plain": [
       "Image (train):   0%|          | 0/30 [00:00<?, ?it/s]"
      ]
     },
     "metadata": {},
     "output_type": "display_data"
    },
    {
     "data": {
      "application/vnd.jupyter.widget-view+json": {
       "model_id": "531146f9715f4e20a14d3bc42f3cabdb",
       "version_major": 2,
       "version_minor": 0
      },
      "text/plain": [
       "Image (test):   0%|          | 0/30 [00:00<?, ?it/s]"
      ]
     },
     "metadata": {},
     "output_type": "display_data"
    },
    {
     "data": {
      "application/vnd.jupyter.widget-view+json": {
       "model_id": "0ba429bf8c0c4194ab9356bdd88152e9",
       "version_major": 2,
       "version_minor": 0
      },
      "text/plain": [
       "Image (train):   0%|          | 0/28 [00:00<?, ?it/s]"
      ]
     },
     "metadata": {},
     "output_type": "display_data"
    },
    {
     "data": {
      "application/vnd.jupyter.widget-view+json": {
       "model_id": "8c2318f3f9384f1fad7e9ababa22f7ae",
       "version_major": 2,
       "version_minor": 0
      },
      "text/plain": [
       "Image (test):   0%|          | 0/28 [00:00<?, ?it/s]"
      ]
     },
     "metadata": {},
     "output_type": "display_data"
    },
    {
     "data": {
      "application/vnd.jupyter.widget-view+json": {
       "model_id": "a8c62f9a6c2e4517b32cc0787fb64d40",
       "version_major": 2,
       "version_minor": 0
      },
      "text/plain": [
       "Image (train):   0%|          | 0/24 [00:00<?, ?it/s]"
      ]
     },
     "metadata": {},
     "output_type": "display_data"
    },
    {
     "data": {
      "application/vnd.jupyter.widget-view+json": {
       "model_id": "f8c9725dacb94d758cbc01ae2db71939",
       "version_major": 2,
       "version_minor": 0
      },
      "text/plain": [
       "Image (test):   0%|          | 0/24 [00:00<?, ?it/s]"
      ]
     },
     "metadata": {},
     "output_type": "display_data"
    },
    {
     "data": {
      "application/vnd.jupyter.widget-view+json": {
       "model_id": "069926ce0684479c96d2d7c6bf93ee94",
       "version_major": 2,
       "version_minor": 0
      },
      "text/plain": [
       "Column:   0%|          | 0/7 [00:00<?, ?it/s]"
      ]
     },
     "metadata": {},
     "output_type": "display_data"
    },
    {
     "data": {
      "application/vnd.jupyter.widget-view+json": {
       "model_id": "4bbabe4a162c4b32bb74b6c9dc596be7",
       "version_major": 2,
       "version_minor": 0
      },
      "text/plain": [
       "Attempt:   0%|          | 0/10 [00:00<?, ?it/s]"
      ]
     },
     "metadata": {},
     "output_type": "display_data"
    },
    {
     "data": {
      "application/vnd.jupyter.widget-view+json": {
       "model_id": "5eca6948522b4c1e9850ef58b2714f20",
       "version_major": 2,
       "version_minor": 0
      },
      "text/plain": [
       "Image (train):   0%|          | 0/1000 [00:00<?, ?it/s]"
      ]
     },
     "metadata": {},
     "output_type": "display_data"
    },
    {
     "data": {
      "application/vnd.jupyter.widget-view+json": {
       "model_id": "9d53caabcfcd43419bea7ae51dd44b46",
       "version_major": 2,
       "version_minor": 0
      },
      "text/plain": [
       "Image (test):   0%|          | 0/1000 [00:00<?, ?it/s]"
      ]
     },
     "metadata": {},
     "output_type": "display_data"
    },
    {
     "data": {
      "application/vnd.jupyter.widget-view+json": {
       "model_id": "ba6617a6119f4ce287cfa6750800d679",
       "version_major": 2,
       "version_minor": 0
      },
      "text/plain": [
       "Image (train):   0%|          | 0/36 [00:00<?, ?it/s]"
      ]
     },
     "metadata": {},
     "output_type": "display_data"
    },
    {
     "data": {
      "application/vnd.jupyter.widget-view+json": {
       "model_id": "0ec6d89ac06e43f89edce542e1883f4e",
       "version_major": 2,
       "version_minor": 0
      },
      "text/plain": [
       "Image (test):   0%|          | 0/36 [00:00<?, ?it/s]"
      ]
     },
     "metadata": {},
     "output_type": "display_data"
    },
    {
     "data": {
      "application/vnd.jupyter.widget-view+json": {
       "model_id": "900f8c8348474462af064aff4a9079a6",
       "version_major": 2,
       "version_minor": 0
      },
      "text/plain": [
       "Image (train):   0%|          | 0/28 [00:00<?, ?it/s]"
      ]
     },
     "metadata": {},
     "output_type": "display_data"
    },
    {
     "data": {
      "application/vnd.jupyter.widget-view+json": {
       "model_id": "c80e9dec078e42a7abe301ca8526d3ae",
       "version_major": 2,
       "version_minor": 0
      },
      "text/plain": [
       "Image (test):   0%|          | 0/28 [00:00<?, ?it/s]"
      ]
     },
     "metadata": {},
     "output_type": "display_data"
    },
    {
     "data": {
      "application/vnd.jupyter.widget-view+json": {
       "model_id": "4283b1d6edd0485c981a3499af1a80cc",
       "version_major": 2,
       "version_minor": 0
      },
      "text/plain": [
       "Image (train):   0%|          | 0/21 [00:00<?, ?it/s]"
      ]
     },
     "metadata": {},
     "output_type": "display_data"
    },
    {
     "data": {
      "application/vnd.jupyter.widget-view+json": {
       "model_id": "d95990bf46174850b555e6e336010013",
       "version_major": 2,
       "version_minor": 0
      },
      "text/plain": [
       "Image (test):   0%|          | 0/21 [00:00<?, ?it/s]"
      ]
     },
     "metadata": {},
     "output_type": "display_data"
    },
    {
     "data": {
      "application/vnd.jupyter.widget-view+json": {
       "model_id": "eaa99edfe17844cfb7e95a53b1f0b9c2",
       "version_major": 2,
       "version_minor": 0
      },
      "text/plain": [
       "Image (train):   0%|          | 0/17 [00:00<?, ?it/s]"
      ]
     },
     "metadata": {},
     "output_type": "display_data"
    },
    {
     "data": {
      "application/vnd.jupyter.widget-view+json": {
       "model_id": "5c4f16f4af0a4923a80d09e83ddbbe00",
       "version_major": 2,
       "version_minor": 0
      },
      "text/plain": [
       "Image (test):   0%|          | 0/17 [00:00<?, ?it/s]"
      ]
     },
     "metadata": {},
     "output_type": "display_data"
    },
    {
     "data": {
      "application/vnd.jupyter.widget-view+json": {
       "model_id": "002ff92d81624e09bced47e7cd2eaf61",
       "version_major": 2,
       "version_minor": 0
      },
      "text/plain": [
       "Image (train):   0%|          | 0/14 [00:00<?, ?it/s]"
      ]
     },
     "metadata": {},
     "output_type": "display_data"
    },
    {
     "data": {
      "application/vnd.jupyter.widget-view+json": {
       "model_id": "27fe2c67188641a29e4397e582252d28",
       "version_major": 2,
       "version_minor": 0
      },
      "text/plain": [
       "Image (test):   0%|          | 0/14 [00:00<?, ?it/s]"
      ]
     },
     "metadata": {},
     "output_type": "display_data"
    },
    {
     "data": {
      "application/vnd.jupyter.widget-view+json": {
       "model_id": "629da7c4e7bb467e92bb10b6ea8cc6aa",
       "version_major": 2,
       "version_minor": 0
      },
      "text/plain": [
       "Image (train):   0%|          | 0/11 [00:00<?, ?it/s]"
      ]
     },
     "metadata": {},
     "output_type": "display_data"
    },
    {
     "data": {
      "application/vnd.jupyter.widget-view+json": {
       "model_id": "146af5d736b64d7ab2f737a11b8b7ca8",
       "version_major": 2,
       "version_minor": 0
      },
      "text/plain": [
       "Image (test):   0%|          | 0/11 [00:00<?, ?it/s]"
      ]
     },
     "metadata": {},
     "output_type": "display_data"
    },
    {
     "data": {
      "application/vnd.jupyter.widget-view+json": {
       "model_id": "3c7938835cc2454ebf821a92ff1f9934",
       "version_major": 2,
       "version_minor": 0
      },
      "text/plain": [
       "Image (train):   0%|          | 0/10 [00:00<?, ?it/s]"
      ]
     },
     "metadata": {},
     "output_type": "display_data"
    },
    {
     "data": {
      "application/vnd.jupyter.widget-view+json": {
       "model_id": "ac6548c0fd4b43b2b42ee389a004843a",
       "version_major": 2,
       "version_minor": 0
      },
      "text/plain": [
       "Image (test):   0%|          | 0/10 [00:00<?, ?it/s]"
      ]
     },
     "metadata": {},
     "output_type": "display_data"
    },
    {
     "data": {
      "application/vnd.jupyter.widget-view+json": {
       "model_id": "811426adef37425ba2629596e6127faf",
       "version_major": 2,
       "version_minor": 0
      },
      "text/plain": [
       "Image (train):   0%|          | 0/7 [00:00<?, ?it/s]"
      ]
     },
     "metadata": {},
     "output_type": "display_data"
    },
    {
     "data": {
      "application/vnd.jupyter.widget-view+json": {
       "model_id": "636832b0bce642b19722afaa29df7576",
       "version_major": 2,
       "version_minor": 0
      },
      "text/plain": [
       "Image (test):   0%|          | 0/7 [00:00<?, ?it/s]"
      ]
     },
     "metadata": {},
     "output_type": "display_data"
    },
    {
     "data": {
      "application/vnd.jupyter.widget-view+json": {
       "model_id": "0054143ffc1b4622b46ffda7e56d52b2",
       "version_major": 2,
       "version_minor": 0
      },
      "text/plain": [
       "Image (train):   0%|          | 0/7 [00:00<?, ?it/s]"
      ]
     },
     "metadata": {},
     "output_type": "display_data"
    },
    {
     "data": {
      "application/vnd.jupyter.widget-view+json": {
       "model_id": "c7e9f1b3b00a47cbbdf462c6179eedb7",
       "version_major": 2,
       "version_minor": 0
      },
      "text/plain": [
       "Image (test):   0%|          | 0/7 [00:00<?, ?it/s]"
      ]
     },
     "metadata": {},
     "output_type": "display_data"
    },
    {
     "data": {
      "application/vnd.jupyter.widget-view+json": {
       "model_id": "1f278a430a6f4102a90c86a3d9c8e559",
       "version_major": 2,
       "version_minor": 0
      },
      "text/plain": [
       "Attempt:   0%|          | 0/10 [00:00<?, ?it/s]"
      ]
     },
     "metadata": {},
     "output_type": "display_data"
    },
    {
     "data": {
      "application/vnd.jupyter.widget-view+json": {
       "model_id": "fa52c58c66f3490488b66e9abd8dc596",
       "version_major": 2,
       "version_minor": 0
      },
      "text/plain": [
       "Image (train):   0%|          | 0/1000 [00:00<?, ?it/s]"
      ]
     },
     "metadata": {},
     "output_type": "display_data"
    },
    {
     "data": {
      "application/vnd.jupyter.widget-view+json": {
       "model_id": "bec758f15cbb4bc69074dca7409bd6fc",
       "version_major": 2,
       "version_minor": 0
      },
      "text/plain": [
       "Image (test):   0%|          | 0/1000 [00:00<?, ?it/s]"
      ]
     },
     "metadata": {},
     "output_type": "display_data"
    },
    {
     "data": {
      "application/vnd.jupyter.widget-view+json": {
       "model_id": "ac614a65bf0a48fd9875443fd6b1ee5a",
       "version_major": 2,
       "version_minor": 0
      },
      "text/plain": [
       "Image (train):   0%|          | 0/96 [00:00<?, ?it/s]"
      ]
     },
     "metadata": {},
     "output_type": "display_data"
    },
    {
     "data": {
      "application/vnd.jupyter.widget-view+json": {
       "model_id": "b8b7ef57515247c89f08e24fceac1964",
       "version_major": 2,
       "version_minor": 0
      },
      "text/plain": [
       "Image (test):   0%|          | 0/96 [00:00<?, ?it/s]"
      ]
     },
     "metadata": {},
     "output_type": "display_data"
    },
    {
     "data": {
      "application/vnd.jupyter.widget-view+json": {
       "model_id": "ee178e69956b4f4aa926235d70e65510",
       "version_major": 2,
       "version_minor": 0
      },
      "text/plain": [
       "Image (train):   0%|          | 0/87 [00:00<?, ?it/s]"
      ]
     },
     "metadata": {},
     "output_type": "display_data"
    },
    {
     "data": {
      "application/vnd.jupyter.widget-view+json": {
       "model_id": "97c3b70b9e154286bc0b0e2d907f0aa8",
       "version_major": 2,
       "version_minor": 0
      },
      "text/plain": [
       "Image (test):   0%|          | 0/87 [00:00<?, ?it/s]"
      ]
     },
     "metadata": {},
     "output_type": "display_data"
    },
    {
     "data": {
      "application/vnd.jupyter.widget-view+json": {
       "model_id": "8c04ccfe3e424f9eb511568b5c57d942",
       "version_major": 2,
       "version_minor": 0
      },
      "text/plain": [
       "Image (train):   0%|          | 0/79 [00:00<?, ?it/s]"
      ]
     },
     "metadata": {},
     "output_type": "display_data"
    },
    {
     "data": {
      "application/vnd.jupyter.widget-view+json": {
       "model_id": "7e8c6eb4b2b54dcba367e892838f29d1",
       "version_major": 2,
       "version_minor": 0
      },
      "text/plain": [
       "Image (test):   0%|          | 0/79 [00:00<?, ?it/s]"
      ]
     },
     "metadata": {},
     "output_type": "display_data"
    },
    {
     "data": {
      "application/vnd.jupyter.widget-view+json": {
       "model_id": "2010db3129bb4873bb58319670ab066d",
       "version_major": 2,
       "version_minor": 0
      },
      "text/plain": [
       "Image (train):   0%|          | 0/72 [00:00<?, ?it/s]"
      ]
     },
     "metadata": {},
     "output_type": "display_data"
    },
    {
     "data": {
      "application/vnd.jupyter.widget-view+json": {
       "model_id": "fe11b5ca0f8a439eadd25fd486afced5",
       "version_major": 2,
       "version_minor": 0
      },
      "text/plain": [
       "Image (test):   0%|          | 0/72 [00:00<?, ?it/s]"
      ]
     },
     "metadata": {},
     "output_type": "display_data"
    },
    {
     "data": {
      "application/vnd.jupyter.widget-view+json": {
       "model_id": "f09c2b0fd6c7444db9e9ac2b39da16b5",
       "version_major": 2,
       "version_minor": 0
      },
      "text/plain": [
       "Image (train):   0%|          | 0/64 [00:00<?, ?it/s]"
      ]
     },
     "metadata": {},
     "output_type": "display_data"
    },
    {
     "data": {
      "application/vnd.jupyter.widget-view+json": {
       "model_id": "0eed999bb5fd47dc848568939388cb0c",
       "version_major": 2,
       "version_minor": 0
      },
      "text/plain": [
       "Image (test):   0%|          | 0/64 [00:00<?, ?it/s]"
      ]
     },
     "metadata": {},
     "output_type": "display_data"
    },
    {
     "data": {
      "application/vnd.jupyter.widget-view+json": {
       "model_id": "332de6c2149f4a389a5b3d67ba370912",
       "version_major": 2,
       "version_minor": 0
      },
      "text/plain": [
       "Image (train):   0%|          | 0/59 [00:00<?, ?it/s]"
      ]
     },
     "metadata": {},
     "output_type": "display_data"
    },
    {
     "data": {
      "application/vnd.jupyter.widget-view+json": {
       "model_id": "ea9b80830a094a6ab4932c971e483c85",
       "version_major": 2,
       "version_minor": 0
      },
      "text/plain": [
       "Image (test):   0%|          | 0/59 [00:00<?, ?it/s]"
      ]
     },
     "metadata": {},
     "output_type": "display_data"
    },
    {
     "data": {
      "application/vnd.jupyter.widget-view+json": {
       "model_id": "aaab2ceaf8ed4054b0c461177ac6f29b",
       "version_major": 2,
       "version_minor": 0
      },
      "text/plain": [
       "Image (train):   0%|          | 0/53 [00:00<?, ?it/s]"
      ]
     },
     "metadata": {},
     "output_type": "display_data"
    },
    {
     "data": {
      "application/vnd.jupyter.widget-view+json": {
       "model_id": "bc24ba858afc48c088cf4ef54950ce91",
       "version_major": 2,
       "version_minor": 0
      },
      "text/plain": [
       "Image (test):   0%|          | 0/53 [00:00<?, ?it/s]"
      ]
     },
     "metadata": {},
     "output_type": "display_data"
    },
    {
     "data": {
      "application/vnd.jupyter.widget-view+json": {
       "model_id": "227e763bf2604aff9ed6990d372bee96",
       "version_major": 2,
       "version_minor": 0
      },
      "text/plain": [
       "Image (train):   0%|          | 0/49 [00:00<?, ?it/s]"
      ]
     },
     "metadata": {},
     "output_type": "display_data"
    },
    {
     "data": {
      "application/vnd.jupyter.widget-view+json": {
       "model_id": "97f6bdd91a3543719b73de633b6badec",
       "version_major": 2,
       "version_minor": 0
      },
      "text/plain": [
       "Image (test):   0%|          | 0/49 [00:00<?, ?it/s]"
      ]
     },
     "metadata": {},
     "output_type": "display_data"
    },
    {
     "data": {
      "application/vnd.jupyter.widget-view+json": {
       "model_id": "13054eeeaac3412e9c5cb41ab1eef02d",
       "version_major": 2,
       "version_minor": 0
      },
      "text/plain": [
       "Image (train):   0%|          | 0/46 [00:00<?, ?it/s]"
      ]
     },
     "metadata": {},
     "output_type": "display_data"
    },
    {
     "data": {
      "application/vnd.jupyter.widget-view+json": {
       "model_id": "5aaa40981fc146a79a3f2a6880dbeb47",
       "version_major": 2,
       "version_minor": 0
      },
      "text/plain": [
       "Image (test):   0%|          | 0/46 [00:00<?, ?it/s]"
      ]
     },
     "metadata": {},
     "output_type": "display_data"
    },
    {
     "data": {
      "application/vnd.jupyter.widget-view+json": {
       "model_id": "99182c994fce43e69b28dc777e65c2d3",
       "version_major": 2,
       "version_minor": 0
      },
      "text/plain": [
       "Attempt:   0%|          | 0/10 [00:00<?, ?it/s]"
      ]
     },
     "metadata": {},
     "output_type": "display_data"
    },
    {
     "data": {
      "application/vnd.jupyter.widget-view+json": {
       "model_id": "bc7da1c0aa564c7799c507d6a040fec3",
       "version_major": 2,
       "version_minor": 0
      },
      "text/plain": [
       "Image (train):   0%|          | 0/1000 [00:00<?, ?it/s]"
      ]
     },
     "metadata": {},
     "output_type": "display_data"
    },
    {
     "data": {
      "application/vnd.jupyter.widget-view+json": {
       "model_id": "e9056b33ba0841b296c62b87b69f7d76",
       "version_major": 2,
       "version_minor": 0
      },
      "text/plain": [
       "Image (test):   0%|          | 0/1000 [00:00<?, ?it/s]"
      ]
     },
     "metadata": {},
     "output_type": "display_data"
    },
    {
     "data": {
      "application/vnd.jupyter.widget-view+json": {
       "model_id": "27f079849748494788f9685420bb8a16",
       "version_major": 2,
       "version_minor": 0
      },
      "text/plain": [
       "Image (train):   0%|          | 0/112 [00:00<?, ?it/s]"
      ]
     },
     "metadata": {},
     "output_type": "display_data"
    },
    {
     "data": {
      "application/vnd.jupyter.widget-view+json": {
       "model_id": "c8afff36b3fb45f08280e7eb4f449b5f",
       "version_major": 2,
       "version_minor": 0
      },
      "text/plain": [
       "Image (test):   0%|          | 0/112 [00:00<?, ?it/s]"
      ]
     },
     "metadata": {},
     "output_type": "display_data"
    },
    {
     "data": {
      "application/vnd.jupyter.widget-view+json": {
       "model_id": "7353a8bafa4542568b43b94b6919a595",
       "version_major": 2,
       "version_minor": 0
      },
      "text/plain": [
       "Image (train):   0%|          | 0/98 [00:00<?, ?it/s]"
      ]
     },
     "metadata": {},
     "output_type": "display_data"
    },
    {
     "data": {
      "application/vnd.jupyter.widget-view+json": {
       "model_id": "2329908af6a0402b8551da1825a7c058",
       "version_major": 2,
       "version_minor": 0
      },
      "text/plain": [
       "Image (test):   0%|          | 0/98 [00:00<?, ?it/s]"
      ]
     },
     "metadata": {},
     "output_type": "display_data"
    },
    {
     "data": {
      "application/vnd.jupyter.widget-view+json": {
       "model_id": "c350541119384804bb92d7fda6405f50",
       "version_major": 2,
       "version_minor": 0
      },
      "text/plain": [
       "Image (train):   0%|          | 0/82 [00:00<?, ?it/s]"
      ]
     },
     "metadata": {},
     "output_type": "display_data"
    },
    {
     "data": {
      "application/vnd.jupyter.widget-view+json": {
       "model_id": "fd1751d802ac47cab6a8a1c58d707e2a",
       "version_major": 2,
       "version_minor": 0
      },
      "text/plain": [
       "Image (test):   0%|          | 0/82 [00:00<?, ?it/s]"
      ]
     },
     "metadata": {},
     "output_type": "display_data"
    },
    {
     "data": {
      "application/vnd.jupyter.widget-view+json": {
       "model_id": "26688f3cf7b246038acac1e69c9e28ee",
       "version_major": 2,
       "version_minor": 0
      },
      "text/plain": [
       "Image (train):   0%|          | 0/76 [00:00<?, ?it/s]"
      ]
     },
     "metadata": {},
     "output_type": "display_data"
    },
    {
     "data": {
      "application/vnd.jupyter.widget-view+json": {
       "model_id": "926b06f8fff24baeac70815a2b5f496e",
       "version_major": 2,
       "version_minor": 0
      },
      "text/plain": [
       "Image (test):   0%|          | 0/76 [00:00<?, ?it/s]"
      ]
     },
     "metadata": {},
     "output_type": "display_data"
    },
    {
     "data": {
      "application/vnd.jupyter.widget-view+json": {
       "model_id": "626f7ac52073402c922751a4ccf82625",
       "version_major": 2,
       "version_minor": 0
      },
      "text/plain": [
       "Image (train):   0%|          | 0/66 [00:00<?, ?it/s]"
      ]
     },
     "metadata": {},
     "output_type": "display_data"
    },
    {
     "data": {
      "application/vnd.jupyter.widget-view+json": {
       "model_id": "182ab19eb7ce4fafa5849cc92116dc96",
       "version_major": 2,
       "version_minor": 0
      },
      "text/plain": [
       "Image (test):   0%|          | 0/66 [00:00<?, ?it/s]"
      ]
     },
     "metadata": {},
     "output_type": "display_data"
    },
    {
     "data": {
      "application/vnd.jupyter.widget-view+json": {
       "model_id": "94158d64dafd42beb1faa009bc4a549a",
       "version_major": 2,
       "version_minor": 0
      },
      "text/plain": [
       "Image (train):   0%|          | 0/61 [00:00<?, ?it/s]"
      ]
     },
     "metadata": {},
     "output_type": "display_data"
    },
    {
     "data": {
      "application/vnd.jupyter.widget-view+json": {
       "model_id": "eab9db9042394569954d29b753c8e9df",
       "version_major": 2,
       "version_minor": 0
      },
      "text/plain": [
       "Image (test):   0%|          | 0/61 [00:00<?, ?it/s]"
      ]
     },
     "metadata": {},
     "output_type": "display_data"
    },
    {
     "data": {
      "application/vnd.jupyter.widget-view+json": {
       "model_id": "af1338d24ca64c16bf43cfea8d3bc55c",
       "version_major": 2,
       "version_minor": 0
      },
      "text/plain": [
       "Image (train):   0%|          | 0/52 [00:00<?, ?it/s]"
      ]
     },
     "metadata": {},
     "output_type": "display_data"
    },
    {
     "data": {
      "application/vnd.jupyter.widget-view+json": {
       "model_id": "c3ad961e21e644cc907806e5155877d6",
       "version_major": 2,
       "version_minor": 0
      },
      "text/plain": [
       "Image (test):   0%|          | 0/52 [00:00<?, ?it/s]"
      ]
     },
     "metadata": {},
     "output_type": "display_data"
    },
    {
     "data": {
      "application/vnd.jupyter.widget-view+json": {
       "model_id": "eec09ac6d31b4a669ce3b996b27c2497",
       "version_major": 2,
       "version_minor": 0
      },
      "text/plain": [
       "Image (train):   0%|          | 0/47 [00:00<?, ?it/s]"
      ]
     },
     "metadata": {},
     "output_type": "display_data"
    },
    {
     "data": {
      "application/vnd.jupyter.widget-view+json": {
       "model_id": "47959f9b36a043239f0f51b22ae4c11c",
       "version_major": 2,
       "version_minor": 0
      },
      "text/plain": [
       "Image (test):   0%|          | 0/47 [00:00<?, ?it/s]"
      ]
     },
     "metadata": {},
     "output_type": "display_data"
    },
    {
     "data": {
      "application/vnd.jupyter.widget-view+json": {
       "model_id": "4ea0d7c46cdd4019b163c4b7cbb24749",
       "version_major": 2,
       "version_minor": 0
      },
      "text/plain": [
       "Image (train):   0%|          | 0/42 [00:00<?, ?it/s]"
      ]
     },
     "metadata": {},
     "output_type": "display_data"
    },
    {
     "data": {
      "application/vnd.jupyter.widget-view+json": {
       "model_id": "e4245cb2f4f64f0e9f0ba49d73f79a2c",
       "version_major": 2,
       "version_minor": 0
      },
      "text/plain": [
       "Image (test):   0%|          | 0/42 [00:00<?, ?it/s]"
      ]
     },
     "metadata": {},
     "output_type": "display_data"
    },
    {
     "data": {
      "application/vnd.jupyter.widget-view+json": {
       "model_id": "147fa23b4929487f9945b5ba49f0b3f6",
       "version_major": 2,
       "version_minor": 0
      },
      "text/plain": [
       "Attempt:   0%|          | 0/10 [00:00<?, ?it/s]"
      ]
     },
     "metadata": {},
     "output_type": "display_data"
    },
    {
     "data": {
      "application/vnd.jupyter.widget-view+json": {
       "model_id": "05cb872c33c846dab8c782f90238be3f",
       "version_major": 2,
       "version_minor": 0
      },
      "text/plain": [
       "Image (train):   0%|          | 0/1000 [00:00<?, ?it/s]"
      ]
     },
     "metadata": {},
     "output_type": "display_data"
    },
    {
     "data": {
      "application/vnd.jupyter.widget-view+json": {
       "model_id": "c390cc3a828e4732bdae52827a9465f0",
       "version_major": 2,
       "version_minor": 0
      },
      "text/plain": [
       "Image (test):   0%|          | 0/1000 [00:00<?, ?it/s]"
      ]
     },
     "metadata": {},
     "output_type": "display_data"
    },
    {
     "data": {
      "application/vnd.jupyter.widget-view+json": {
       "model_id": "b12b24522b0a429bb742409c5ce37f5d",
       "version_major": 2,
       "version_minor": 0
      },
      "text/plain": [
       "Image (train):   0%|          | 0/106 [00:00<?, ?it/s]"
      ]
     },
     "metadata": {},
     "output_type": "display_data"
    },
    {
     "data": {
      "application/vnd.jupyter.widget-view+json": {
       "model_id": "f04647f320b046ed8d2624ec8ff533ee",
       "version_major": 2,
       "version_minor": 0
      },
      "text/plain": [
       "Image (test):   0%|          | 0/106 [00:00<?, ?it/s]"
      ]
     },
     "metadata": {},
     "output_type": "display_data"
    },
    {
     "data": {
      "application/vnd.jupyter.widget-view+json": {
       "model_id": "d4f0dff81c614d25b805833580bd3e9d",
       "version_major": 2,
       "version_minor": 0
      },
      "text/plain": [
       "Image (train):   0%|          | 0/89 [00:00<?, ?it/s]"
      ]
     },
     "metadata": {},
     "output_type": "display_data"
    },
    {
     "data": {
      "application/vnd.jupyter.widget-view+json": {
       "model_id": "d52bd0048bb94c19a5f6cd3a5f74e1d6",
       "version_major": 2,
       "version_minor": 0
      },
      "text/plain": [
       "Image (test):   0%|          | 0/89 [00:00<?, ?it/s]"
      ]
     },
     "metadata": {},
     "output_type": "display_data"
    },
    {
     "data": {
      "application/vnd.jupyter.widget-view+json": {
       "model_id": "71c55c3c82304326be767cd52f09774d",
       "version_major": 2,
       "version_minor": 0
      },
      "text/plain": [
       "Image (train):   0%|          | 0/71 [00:00<?, ?it/s]"
      ]
     },
     "metadata": {},
     "output_type": "display_data"
    },
    {
     "data": {
      "application/vnd.jupyter.widget-view+json": {
       "model_id": "35d7cf62b75348ab972c2882f1c4a50d",
       "version_major": 2,
       "version_minor": 0
      },
      "text/plain": [
       "Image (test):   0%|          | 0/71 [00:00<?, ?it/s]"
      ]
     },
     "metadata": {},
     "output_type": "display_data"
    },
    {
     "data": {
      "application/vnd.jupyter.widget-view+json": {
       "model_id": "e78e3ff3dd83470bbedf4f6b1c836747",
       "version_major": 2,
       "version_minor": 0
      },
      "text/plain": [
       "Image (train):   0%|          | 0/57 [00:00<?, ?it/s]"
      ]
     },
     "metadata": {},
     "output_type": "display_data"
    },
    {
     "data": {
      "application/vnd.jupyter.widget-view+json": {
       "model_id": "bbbd5ef0166f4a92aded091216065c8d",
       "version_major": 2,
       "version_minor": 0
      },
      "text/plain": [
       "Image (test):   0%|          | 0/57 [00:00<?, ?it/s]"
      ]
     },
     "metadata": {},
     "output_type": "display_data"
    },
    {
     "data": {
      "application/vnd.jupyter.widget-view+json": {
       "model_id": "1c80609c214e402495d435c3559c4182",
       "version_major": 2,
       "version_minor": 0
      },
      "text/plain": [
       "Image (train):   0%|          | 0/44 [00:00<?, ?it/s]"
      ]
     },
     "metadata": {},
     "output_type": "display_data"
    },
    {
     "data": {
      "application/vnd.jupyter.widget-view+json": {
       "model_id": "8be0888acb2140e882009f979ab7f5de",
       "version_major": 2,
       "version_minor": 0
      },
      "text/plain": [
       "Image (test):   0%|          | 0/44 [00:00<?, ?it/s]"
      ]
     },
     "metadata": {},
     "output_type": "display_data"
    },
    {
     "data": {
      "application/vnd.jupyter.widget-view+json": {
       "model_id": "f910a9254cdd4db9afa54c8abc49c4a7",
       "version_major": 2,
       "version_minor": 0
      },
      "text/plain": [
       "Image (train):   0%|          | 0/35 [00:00<?, ?it/s]"
      ]
     },
     "metadata": {},
     "output_type": "display_data"
    },
    {
     "data": {
      "application/vnd.jupyter.widget-view+json": {
       "model_id": "91a01869e5e34e8a83a745b47cfa3399",
       "version_major": 2,
       "version_minor": 0
      },
      "text/plain": [
       "Image (test):   0%|          | 0/35 [00:00<?, ?it/s]"
      ]
     },
     "metadata": {},
     "output_type": "display_data"
    },
    {
     "data": {
      "application/vnd.jupyter.widget-view+json": {
       "model_id": "b50a7378f2b74de1b26ce117abbccf9f",
       "version_major": 2,
       "version_minor": 0
      },
      "text/plain": [
       "Image (train):   0%|          | 0/29 [00:00<?, ?it/s]"
      ]
     },
     "metadata": {},
     "output_type": "display_data"
    },
    {
     "data": {
      "application/vnd.jupyter.widget-view+json": {
       "model_id": "76ca10bcce6f4da4b4110ee95098b04b",
       "version_major": 2,
       "version_minor": 0
      },
      "text/plain": [
       "Image (test):   0%|          | 0/29 [00:00<?, ?it/s]"
      ]
     },
     "metadata": {},
     "output_type": "display_data"
    },
    {
     "data": {
      "application/vnd.jupyter.widget-view+json": {
       "model_id": "ac809220c95941fab2bac0ba02acca19",
       "version_major": 2,
       "version_minor": 0
      },
      "text/plain": [
       "Image (train):   0%|          | 0/25 [00:00<?, ?it/s]"
      ]
     },
     "metadata": {},
     "output_type": "display_data"
    },
    {
     "data": {
      "application/vnd.jupyter.widget-view+json": {
       "model_id": "371c1ef8d6414d479fb89e79801d92f0",
       "version_major": 2,
       "version_minor": 0
      },
      "text/plain": [
       "Image (test):   0%|          | 0/25 [00:00<?, ?it/s]"
      ]
     },
     "metadata": {},
     "output_type": "display_data"
    },
    {
     "data": {
      "application/vnd.jupyter.widget-view+json": {
       "model_id": "52d31608cb2541a09c21a3bfd0d4724b",
       "version_major": 2,
       "version_minor": 0
      },
      "text/plain": [
       "Image (train):   0%|          | 0/23 [00:00<?, ?it/s]"
      ]
     },
     "metadata": {},
     "output_type": "display_data"
    },
    {
     "data": {
      "application/vnd.jupyter.widget-view+json": {
       "model_id": "33303035aefe4df29b8b5b70f6e6b99e",
       "version_major": 2,
       "version_minor": 0
      },
      "text/plain": [
       "Image (test):   0%|          | 0/23 [00:00<?, ?it/s]"
      ]
     },
     "metadata": {},
     "output_type": "display_data"
    },
    {
     "data": {
      "application/vnd.jupyter.widget-view+json": {
       "model_id": "01560f1a5f1940f5bc5b8a22d10e3311",
       "version_major": 2,
       "version_minor": 0
      },
      "text/plain": [
       "Attempt:   0%|          | 0/10 [00:00<?, ?it/s]"
      ]
     },
     "metadata": {},
     "output_type": "display_data"
    },
    {
     "data": {
      "application/vnd.jupyter.widget-view+json": {
       "model_id": "7d79366097464c44b54c41184bbc20e8",
       "version_major": 2,
       "version_minor": 0
      },
      "text/plain": [
       "Image (train):   0%|          | 0/1000 [00:00<?, ?it/s]"
      ]
     },
     "metadata": {},
     "output_type": "display_data"
    },
    {
     "data": {
      "application/vnd.jupyter.widget-view+json": {
       "model_id": "40736fdf21ed4330ba85909bc4a1a0e6",
       "version_major": 2,
       "version_minor": 0
      },
      "text/plain": [
       "Image (test):   0%|          | 0/1000 [00:00<?, ?it/s]"
      ]
     },
     "metadata": {},
     "output_type": "display_data"
    },
    {
     "data": {
      "application/vnd.jupyter.widget-view+json": {
       "model_id": "209dfe102a394478b59dfb375f49f3be",
       "version_major": 2,
       "version_minor": 0
      },
      "text/plain": [
       "Image (train):   0%|          | 0/91 [00:00<?, ?it/s]"
      ]
     },
     "metadata": {},
     "output_type": "display_data"
    },
    {
     "data": {
      "application/vnd.jupyter.widget-view+json": {
       "model_id": "c4a97c13be3648258736aae633ae6703",
       "version_major": 2,
       "version_minor": 0
      },
      "text/plain": [
       "Image (test):   0%|          | 0/91 [00:00<?, ?it/s]"
      ]
     },
     "metadata": {},
     "output_type": "display_data"
    },
    {
     "data": {
      "application/vnd.jupyter.widget-view+json": {
       "model_id": "8cb4dd9b12744f15bba6162a55c5ac54",
       "version_major": 2,
       "version_minor": 0
      },
      "text/plain": [
       "Image (train):   0%|          | 0/72 [00:00<?, ?it/s]"
      ]
     },
     "metadata": {},
     "output_type": "display_data"
    },
    {
     "data": {
      "application/vnd.jupyter.widget-view+json": {
       "model_id": "9c317f228814497cb9707f9315cf9ae1",
       "version_major": 2,
       "version_minor": 0
      },
      "text/plain": [
       "Image (test):   0%|          | 0/72 [00:00<?, ?it/s]"
      ]
     },
     "metadata": {},
     "output_type": "display_data"
    },
    {
     "data": {
      "application/vnd.jupyter.widget-view+json": {
       "model_id": "61c42bc8ec7049c7bd6bf5ed0b5e1308",
       "version_major": 2,
       "version_minor": 0
      },
      "text/plain": [
       "Image (train):   0%|          | 0/55 [00:00<?, ?it/s]"
      ]
     },
     "metadata": {},
     "output_type": "display_data"
    },
    {
     "data": {
      "application/vnd.jupyter.widget-view+json": {
       "model_id": "1d65d9b881b140e086fdaf3df525040f",
       "version_major": 2,
       "version_minor": 0
      },
      "text/plain": [
       "Image (test):   0%|          | 0/55 [00:00<?, ?it/s]"
      ]
     },
     "metadata": {},
     "output_type": "display_data"
    },
    {
     "data": {
      "application/vnd.jupyter.widget-view+json": {
       "model_id": "e3eba08aea394127a49cef07e5912506",
       "version_major": 2,
       "version_minor": 0
      },
      "text/plain": [
       "Image (train):   0%|          | 0/47 [00:00<?, ?it/s]"
      ]
     },
     "metadata": {},
     "output_type": "display_data"
    },
    {
     "data": {
      "application/vnd.jupyter.widget-view+json": {
       "model_id": "555c6ba514f943f8b5b9477abf500359",
       "version_major": 2,
       "version_minor": 0
      },
      "text/plain": [
       "Image (test):   0%|          | 0/47 [00:00<?, ?it/s]"
      ]
     },
     "metadata": {},
     "output_type": "display_data"
    },
    {
     "data": {
      "application/vnd.jupyter.widget-view+json": {
       "model_id": "b772a2590b1e470b984e620bd2b32a98",
       "version_major": 2,
       "version_minor": 0
      },
      "text/plain": [
       "Image (train):   0%|          | 0/42 [00:00<?, ?it/s]"
      ]
     },
     "metadata": {},
     "output_type": "display_data"
    },
    {
     "data": {
      "application/vnd.jupyter.widget-view+json": {
       "model_id": "a267a8d032b84474b796043f2bd110cc",
       "version_major": 2,
       "version_minor": 0
      },
      "text/plain": [
       "Image (test):   0%|          | 0/42 [00:00<?, ?it/s]"
      ]
     },
     "metadata": {},
     "output_type": "display_data"
    },
    {
     "data": {
      "application/vnd.jupyter.widget-view+json": {
       "model_id": "07e0c615cb35416a8ba93b98fa31849a",
       "version_major": 2,
       "version_minor": 0
      },
      "text/plain": [
       "Image (train):   0%|          | 0/36 [00:00<?, ?it/s]"
      ]
     },
     "metadata": {},
     "output_type": "display_data"
    },
    {
     "data": {
      "application/vnd.jupyter.widget-view+json": {
       "model_id": "e35da3cfe0344989ab3170bcf72dfc6e",
       "version_major": 2,
       "version_minor": 0
      },
      "text/plain": [
       "Image (test):   0%|          | 0/36 [00:00<?, ?it/s]"
      ]
     },
     "metadata": {},
     "output_type": "display_data"
    },
    {
     "data": {
      "application/vnd.jupyter.widget-view+json": {
       "model_id": "46b91b98a9b84f6a98598e5d139d7fba",
       "version_major": 2,
       "version_minor": 0
      },
      "text/plain": [
       "Image (train):   0%|          | 0/30 [00:00<?, ?it/s]"
      ]
     },
     "metadata": {},
     "output_type": "display_data"
    },
    {
     "data": {
      "application/vnd.jupyter.widget-view+json": {
       "model_id": "2a944b86811e45279af762d4acb61879",
       "version_major": 2,
       "version_minor": 0
      },
      "text/plain": [
       "Image (test):   0%|          | 0/30 [00:00<?, ?it/s]"
      ]
     },
     "metadata": {},
     "output_type": "display_data"
    },
    {
     "data": {
      "application/vnd.jupyter.widget-view+json": {
       "model_id": "f9d92acda96747729974a05b714b2dc6",
       "version_major": 2,
       "version_minor": 0
      },
      "text/plain": [
       "Image (train):   0%|          | 0/28 [00:00<?, ?it/s]"
      ]
     },
     "metadata": {},
     "output_type": "display_data"
    },
    {
     "data": {
      "application/vnd.jupyter.widget-view+json": {
       "model_id": "7513ce8a0fb84ad8aa2936ba752cbf9a",
       "version_major": 2,
       "version_minor": 0
      },
      "text/plain": [
       "Image (test):   0%|          | 0/28 [00:00<?, ?it/s]"
      ]
     },
     "metadata": {},
     "output_type": "display_data"
    },
    {
     "data": {
      "application/vnd.jupyter.widget-view+json": {
       "model_id": "cb97129ead9441ed93f7e1615ecdeb4f",
       "version_major": 2,
       "version_minor": 0
      },
      "text/plain": [
       "Image (train):   0%|          | 0/24 [00:00<?, ?it/s]"
      ]
     },
     "metadata": {},
     "output_type": "display_data"
    },
    {
     "data": {
      "application/vnd.jupyter.widget-view+json": {
       "model_id": "622eab4d2e814da890bf31ae35fa0e13",
       "version_major": 2,
       "version_minor": 0
      },
      "text/plain": [
       "Image (test):   0%|          | 0/24 [00:00<?, ?it/s]"
      ]
     },
     "metadata": {},
     "output_type": "display_data"
    },
    {
     "data": {
      "application/vnd.jupyter.widget-view+json": {
       "model_id": "b3053a741321424892dc210bfbac6413",
       "version_major": 2,
       "version_minor": 0
      },
      "text/plain": [
       "Attempt:   0%|          | 0/10 [00:00<?, ?it/s]"
      ]
     },
     "metadata": {},
     "output_type": "display_data"
    },
    {
     "data": {
      "application/vnd.jupyter.widget-view+json": {
       "model_id": "63c869c7b4e9418d8e4ce51cb343ad96",
       "version_major": 2,
       "version_minor": 0
      },
      "text/plain": [
       "Image (train):   0%|          | 0/1000 [00:00<?, ?it/s]"
      ]
     },
     "metadata": {},
     "output_type": "display_data"
    },
    {
     "data": {
      "application/vnd.jupyter.widget-view+json": {
       "model_id": "4497b00776ce4b9bba29f19ba4096900",
       "version_major": 2,
       "version_minor": 0
      },
      "text/plain": [
       "Image (test):   0%|          | 0/1000 [00:00<?, ?it/s]"
      ]
     },
     "metadata": {},
     "output_type": "display_data"
    },
    {
     "data": {
      "application/vnd.jupyter.widget-view+json": {
       "model_id": "b008c39351b24d0b8fe0c6d54a12019d",
       "version_major": 2,
       "version_minor": 0
      },
      "text/plain": [
       "Image (train):   0%|          | 0/122 [00:00<?, ?it/s]"
      ]
     },
     "metadata": {},
     "output_type": "display_data"
    },
    {
     "data": {
      "application/vnd.jupyter.widget-view+json": {
       "model_id": "07ef4c2a8efc41f3aaf33c33e3d61ebb",
       "version_major": 2,
       "version_minor": 0
      },
      "text/plain": [
       "Image (test):   0%|          | 0/122 [00:00<?, ?it/s]"
      ]
     },
     "metadata": {},
     "output_type": "display_data"
    },
    {
     "data": {
      "application/vnd.jupyter.widget-view+json": {
       "model_id": "324bde4485ce4f49a70b2a77fd8f9a16",
       "version_major": 2,
       "version_minor": 0
      },
      "text/plain": [
       "Image (train):   0%|          | 0/92 [00:00<?, ?it/s]"
      ]
     },
     "metadata": {},
     "output_type": "display_data"
    },
    {
     "data": {
      "application/vnd.jupyter.widget-view+json": {
       "model_id": "ef4fbe1c6e004464b3c04f0ac079f451",
       "version_major": 2,
       "version_minor": 0
      },
      "text/plain": [
       "Image (test):   0%|          | 0/92 [00:00<?, ?it/s]"
      ]
     },
     "metadata": {},
     "output_type": "display_data"
    },
    {
     "data": {
      "application/vnd.jupyter.widget-view+json": {
       "model_id": "ebc83eb318cd4849a77554084bc3c1f5",
       "version_major": 2,
       "version_minor": 0
      },
      "text/plain": [
       "Image (train):   0%|          | 0/82 [00:00<?, ?it/s]"
      ]
     },
     "metadata": {},
     "output_type": "display_data"
    },
    {
     "data": {
      "application/vnd.jupyter.widget-view+json": {
       "model_id": "a60b66f587bc417099a85005099a0efc",
       "version_major": 2,
       "version_minor": 0
      },
      "text/plain": [
       "Image (test):   0%|          | 0/82 [00:00<?, ?it/s]"
      ]
     },
     "metadata": {},
     "output_type": "display_data"
    },
    {
     "data": {
      "application/vnd.jupyter.widget-view+json": {
       "model_id": "657cdb33c4a9469584a89925e1f0d636",
       "version_major": 2,
       "version_minor": 0
      },
      "text/plain": [
       "Image (train):   0%|          | 0/72 [00:00<?, ?it/s]"
      ]
     },
     "metadata": {},
     "output_type": "display_data"
    },
    {
     "data": {
      "application/vnd.jupyter.widget-view+json": {
       "model_id": "ce39169789e442deb324f8e7dfa54247",
       "version_major": 2,
       "version_minor": 0
      },
      "text/plain": [
       "Image (test):   0%|          | 0/72 [00:00<?, ?it/s]"
      ]
     },
     "metadata": {},
     "output_type": "display_data"
    },
    {
     "data": {
      "application/vnd.jupyter.widget-view+json": {
       "model_id": "d5ba83c18de0499f91e4b330969ead93",
       "version_major": 2,
       "version_minor": 0
      },
      "text/plain": [
       "Image (train):   0%|          | 0/64 [00:00<?, ?it/s]"
      ]
     },
     "metadata": {},
     "output_type": "display_data"
    },
    {
     "data": {
      "application/vnd.jupyter.widget-view+json": {
       "model_id": "91afbd708d6f4a82918efaf4c01c7f2d",
       "version_major": 2,
       "version_minor": 0
      },
      "text/plain": [
       "Image (test):   0%|          | 0/64 [00:00<?, ?it/s]"
      ]
     },
     "metadata": {},
     "output_type": "display_data"
    },
    {
     "data": {
      "application/vnd.jupyter.widget-view+json": {
       "model_id": "b7bdfaf522c3468da067e7b89f5c525f",
       "version_major": 2,
       "version_minor": 0
      },
      "text/plain": [
       "Image (train):   0%|          | 0/57 [00:00<?, ?it/s]"
      ]
     },
     "metadata": {},
     "output_type": "display_data"
    },
    {
     "data": {
      "application/vnd.jupyter.widget-view+json": {
       "model_id": "bf3a4f1ed6904b1dac5f5c3cfa6e87f4",
       "version_major": 2,
       "version_minor": 0
      },
      "text/plain": [
       "Image (test):   0%|          | 0/57 [00:00<?, ?it/s]"
      ]
     },
     "metadata": {},
     "output_type": "display_data"
    },
    {
     "data": {
      "application/vnd.jupyter.widget-view+json": {
       "model_id": "005c04227d664eaf88c2a006c3671ac0",
       "version_major": 2,
       "version_minor": 0
      },
      "text/plain": [
       "Image (train):   0%|          | 0/49 [00:00<?, ?it/s]"
      ]
     },
     "metadata": {},
     "output_type": "display_data"
    },
    {
     "data": {
      "application/vnd.jupyter.widget-view+json": {
       "model_id": "1c9cda239e654003aec500a27f6e87e3",
       "version_major": 2,
       "version_minor": 0
      },
      "text/plain": [
       "Image (test):   0%|          | 0/49 [00:00<?, ?it/s]"
      ]
     },
     "metadata": {},
     "output_type": "display_data"
    },
    {
     "data": {
      "application/vnd.jupyter.widget-view+json": {
       "model_id": "5f865cd55b65436586cf9969de08df3b",
       "version_major": 2,
       "version_minor": 0
      },
      "text/plain": [
       "Image (train):   0%|          | 0/42 [00:00<?, ?it/s]"
      ]
     },
     "metadata": {},
     "output_type": "display_data"
    },
    {
     "data": {
      "application/vnd.jupyter.widget-view+json": {
       "model_id": "7f466db533204b3780be17d7fdeba71f",
       "version_major": 2,
       "version_minor": 0
      },
      "text/plain": [
       "Image (test):   0%|          | 0/42 [00:00<?, ?it/s]"
      ]
     },
     "metadata": {},
     "output_type": "display_data"
    },
    {
     "data": {
      "application/vnd.jupyter.widget-view+json": {
       "model_id": "eb3876200e1c4532a003fbf5796a2375",
       "version_major": 2,
       "version_minor": 0
      },
      "text/plain": [
       "Image (train):   0%|          | 0/38 [00:00<?, ?it/s]"
      ]
     },
     "metadata": {},
     "output_type": "display_data"
    },
    {
     "data": {
      "application/vnd.jupyter.widget-view+json": {
       "model_id": "06d01a83e4cf4cdfba94f36a52dc378a",
       "version_major": 2,
       "version_minor": 0
      },
      "text/plain": [
       "Image (test):   0%|          | 0/38 [00:00<?, ?it/s]"
      ]
     },
     "metadata": {},
     "output_type": "display_data"
    },
    {
     "data": {
      "application/vnd.jupyter.widget-view+json": {
       "model_id": "d89f52969db04b5bbd04afea9cb70599",
       "version_major": 2,
       "version_minor": 0
      },
      "text/plain": [
       "Attempt:   0%|          | 0/10 [00:00<?, ?it/s]"
      ]
     },
     "metadata": {},
     "output_type": "display_data"
    },
    {
     "data": {
      "application/vnd.jupyter.widget-view+json": {
       "model_id": "2e3a2d637f644ad1ab2dbfd66d5b2064",
       "version_major": 2,
       "version_minor": 0
      },
      "text/plain": [
       "Image (train):   0%|          | 0/1000 [00:00<?, ?it/s]"
      ]
     },
     "metadata": {},
     "output_type": "display_data"
    },
    {
     "data": {
      "application/vnd.jupyter.widget-view+json": {
       "model_id": "a2a7165b9b9648d5a543ca32a27a465c",
       "version_major": 2,
       "version_minor": 0
      },
      "text/plain": [
       "Image (test):   0%|          | 0/1000 [00:00<?, ?it/s]"
      ]
     },
     "metadata": {},
     "output_type": "display_data"
    },
    {
     "data": {
      "application/vnd.jupyter.widget-view+json": {
       "model_id": "1e10bb7f53264834b553a9b8962fbb8d",
       "version_major": 2,
       "version_minor": 0
      },
      "text/plain": [
       "Image (train):   0%|          | 0/84 [00:00<?, ?it/s]"
      ]
     },
     "metadata": {},
     "output_type": "display_data"
    },
    {
     "data": {
      "application/vnd.jupyter.widget-view+json": {
       "model_id": "f038d941b1d845cda5d35f24b030f108",
       "version_major": 2,
       "version_minor": 0
      },
      "text/plain": [
       "Image (test):   0%|          | 0/84 [00:00<?, ?it/s]"
      ]
     },
     "metadata": {},
     "output_type": "display_data"
    },
    {
     "data": {
      "application/vnd.jupyter.widget-view+json": {
       "model_id": "17192554cc5c42668505ab9463d8ad29",
       "version_major": 2,
       "version_minor": 0
      },
      "text/plain": [
       "Image (train):   0%|          | 0/62 [00:00<?, ?it/s]"
      ]
     },
     "metadata": {},
     "output_type": "display_data"
    },
    {
     "data": {
      "application/vnd.jupyter.widget-view+json": {
       "model_id": "e950b2fe738e43abb8e739e9eb00a547",
       "version_major": 2,
       "version_minor": 0
      },
      "text/plain": [
       "Image (test):   0%|          | 0/62 [00:00<?, ?it/s]"
      ]
     },
     "metadata": {},
     "output_type": "display_data"
    },
    {
     "data": {
      "application/vnd.jupyter.widget-view+json": {
       "model_id": "85a06d5da1704a6d9cdf0afde4b155eb",
       "version_major": 2,
       "version_minor": 0
      },
      "text/plain": [
       "Image (train):   0%|          | 0/50 [00:00<?, ?it/s]"
      ]
     },
     "metadata": {},
     "output_type": "display_data"
    },
    {
     "data": {
      "application/vnd.jupyter.widget-view+json": {
       "model_id": "5deb5b5dcd254613a5fca2eb45e732fc",
       "version_major": 2,
       "version_minor": 0
      },
      "text/plain": [
       "Image (test):   0%|          | 0/50 [00:00<?, ?it/s]"
      ]
     },
     "metadata": {},
     "output_type": "display_data"
    },
    {
     "data": {
      "application/vnd.jupyter.widget-view+json": {
       "model_id": "6b47f7618d9f49f59e280960cc3e111f",
       "version_major": 2,
       "version_minor": 0
      },
      "text/plain": [
       "Image (train):   0%|          | 0/43 [00:00<?, ?it/s]"
      ]
     },
     "metadata": {},
     "output_type": "display_data"
    },
    {
     "data": {
      "application/vnd.jupyter.widget-view+json": {
       "model_id": "d80e07aa274f4bd1a0ca11cc2fe99562",
       "version_major": 2,
       "version_minor": 0
      },
      "text/plain": [
       "Image (test):   0%|          | 0/43 [00:00<?, ?it/s]"
      ]
     },
     "metadata": {},
     "output_type": "display_data"
    },
    {
     "data": {
      "application/vnd.jupyter.widget-view+json": {
       "model_id": "f766d72f18b744718d98276b746f1684",
       "version_major": 2,
       "version_minor": 0
      },
      "text/plain": [
       "Image (train):   0%|          | 0/42 [00:00<?, ?it/s]"
      ]
     },
     "metadata": {},
     "output_type": "display_data"
    },
    {
     "data": {
      "application/vnd.jupyter.widget-view+json": {
       "model_id": "35c0d14631bb43b0a953419bfc14ddfb",
       "version_major": 2,
       "version_minor": 0
      },
      "text/plain": [
       "Image (test):   0%|          | 0/42 [00:00<?, ?it/s]"
      ]
     },
     "metadata": {},
     "output_type": "display_data"
    },
    {
     "data": {
      "application/vnd.jupyter.widget-view+json": {
       "model_id": "be7bf0c78dc14d21ba36ff56e9e18138",
       "version_major": 2,
       "version_minor": 0
      },
      "text/plain": [
       "Image (train):   0%|          | 0/39 [00:00<?, ?it/s]"
      ]
     },
     "metadata": {},
     "output_type": "display_data"
    },
    {
     "data": {
      "application/vnd.jupyter.widget-view+json": {
       "model_id": "7f9949a0c2b04bb0a01fa9085652f265",
       "version_major": 2,
       "version_minor": 0
      },
      "text/plain": [
       "Image (test):   0%|          | 0/39 [00:00<?, ?it/s]"
      ]
     },
     "metadata": {},
     "output_type": "display_data"
    },
    {
     "data": {
      "application/vnd.jupyter.widget-view+json": {
       "model_id": "e08e46ff4dfc4082ad439516ffba5f42",
       "version_major": 2,
       "version_minor": 0
      },
      "text/plain": [
       "Image (train):   0%|          | 0/34 [00:00<?, ?it/s]"
      ]
     },
     "metadata": {},
     "output_type": "display_data"
    },
    {
     "data": {
      "application/vnd.jupyter.widget-view+json": {
       "model_id": "4b130fbb960f4b5ea2eb7ffe78f11774",
       "version_major": 2,
       "version_minor": 0
      },
      "text/plain": [
       "Image (test):   0%|          | 0/34 [00:00<?, ?it/s]"
      ]
     },
     "metadata": {},
     "output_type": "display_data"
    },
    {
     "data": {
      "application/vnd.jupyter.widget-view+json": {
       "model_id": "25045a6e6a7f4f48813750d5ebd3a6a6",
       "version_major": 2,
       "version_minor": 0
      },
      "text/plain": [
       "Image (train):   0%|          | 0/30 [00:00<?, ?it/s]"
      ]
     },
     "metadata": {},
     "output_type": "display_data"
    },
    {
     "data": {
      "application/vnd.jupyter.widget-view+json": {
       "model_id": "1ccf678700f84c3084c7c9f0e1a716f0",
       "version_major": 2,
       "version_minor": 0
      },
      "text/plain": [
       "Image (test):   0%|          | 0/30 [00:00<?, ?it/s]"
      ]
     },
     "metadata": {},
     "output_type": "display_data"
    },
    {
     "data": {
      "application/vnd.jupyter.widget-view+json": {
       "model_id": "9e8a316efa884877bff943139fd4f464",
       "version_major": 2,
       "version_minor": 0
      },
      "text/plain": [
       "Image (train):   0%|          | 0/28 [00:00<?, ?it/s]"
      ]
     },
     "metadata": {},
     "output_type": "display_data"
    },
    {
     "data": {
      "application/vnd.jupyter.widget-view+json": {
       "model_id": "1e5adca1f27f4befa16e86d4e90b72aa",
       "version_major": 2,
       "version_minor": 0
      },
      "text/plain": [
       "Image (test):   0%|          | 0/28 [00:00<?, ?it/s]"
      ]
     },
     "metadata": {},
     "output_type": "display_data"
    },
    {
     "data": {
      "application/vnd.jupyter.widget-view+json": {
       "model_id": "a8c043d0edcd4f488d9786ee526c64b8",
       "version_major": 2,
       "version_minor": 0
      },
      "text/plain": [
       "Column:   0%|          | 0/7 [00:00<?, ?it/s]"
      ]
     },
     "metadata": {},
     "output_type": "display_data"
    },
    {
     "data": {
      "application/vnd.jupyter.widget-view+json": {
       "model_id": "17900576bbed4f49aa4c47d2216d71f5",
       "version_major": 2,
       "version_minor": 0
      },
      "text/plain": [
       "Attempt:   0%|          | 0/10 [00:00<?, ?it/s]"
      ]
     },
     "metadata": {},
     "output_type": "display_data"
    },
    {
     "data": {
      "application/vnd.jupyter.widget-view+json": {
       "model_id": "1b44d94af6a0433182380773c45f1e56",
       "version_major": 2,
       "version_minor": 0
      },
      "text/plain": [
       "Image (train):   0%|          | 0/1000 [00:00<?, ?it/s]"
      ]
     },
     "metadata": {},
     "output_type": "display_data"
    },
    {
     "data": {
      "application/vnd.jupyter.widget-view+json": {
       "model_id": "b8c92416e42844b2b905a366eea7ff1f",
       "version_major": 2,
       "version_minor": 0
      },
      "text/plain": [
       "Image (test):   0%|          | 0/1000 [00:00<?, ?it/s]"
      ]
     },
     "metadata": {},
     "output_type": "display_data"
    },
    {
     "data": {
      "application/vnd.jupyter.widget-view+json": {
       "model_id": "976436bc8982411ab6e6e81af505f0e7",
       "version_major": 2,
       "version_minor": 0
      },
      "text/plain": [
       "Image (train):   0%|          | 0/22 [00:00<?, ?it/s]"
      ]
     },
     "metadata": {},
     "output_type": "display_data"
    },
    {
     "data": {
      "application/vnd.jupyter.widget-view+json": {
       "model_id": "874a81b10f2f48dd8305394c2d58d5c2",
       "version_major": 2,
       "version_minor": 0
      },
      "text/plain": [
       "Image (test):   0%|          | 0/22 [00:00<?, ?it/s]"
      ]
     },
     "metadata": {},
     "output_type": "display_data"
    },
    {
     "data": {
      "application/vnd.jupyter.widget-view+json": {
       "model_id": "d71cf9feb58c44ca9ab4d2cc45c17d93",
       "version_major": 2,
       "version_minor": 0
      },
      "text/plain": [
       "Image (train):   0%|          | 0/15 [00:00<?, ?it/s]"
      ]
     },
     "metadata": {},
     "output_type": "display_data"
    },
    {
     "data": {
      "application/vnd.jupyter.widget-view+json": {
       "model_id": "61303e9b8a1a41b790e69bcc66ecc65e",
       "version_major": 2,
       "version_minor": 0
      },
      "text/plain": [
       "Image (test):   0%|          | 0/15 [00:00<?, ?it/s]"
      ]
     },
     "metadata": {},
     "output_type": "display_data"
    },
    {
     "data": {
      "application/vnd.jupyter.widget-view+json": {
       "model_id": "6f37985ed5d943e18b19f345a6c85bbb",
       "version_major": 2,
       "version_minor": 0
      },
      "text/plain": [
       "Image (train):   0%|          | 0/12 [00:00<?, ?it/s]"
      ]
     },
     "metadata": {},
     "output_type": "display_data"
    },
    {
     "data": {
      "application/vnd.jupyter.widget-view+json": {
       "model_id": "5968d80ace7a4fb0af98b7613589f73d",
       "version_major": 2,
       "version_minor": 0
      },
      "text/plain": [
       "Image (test):   0%|          | 0/12 [00:00<?, ?it/s]"
      ]
     },
     "metadata": {},
     "output_type": "display_data"
    },
    {
     "data": {
      "application/vnd.jupyter.widget-view+json": {
       "model_id": "6aebf5db1e11431ebf18b99c9333d818",
       "version_major": 2,
       "version_minor": 0
      },
      "text/plain": [
       "Image (train):   0%|          | 0/9 [00:00<?, ?it/s]"
      ]
     },
     "metadata": {},
     "output_type": "display_data"
    },
    {
     "data": {
      "application/vnd.jupyter.widget-view+json": {
       "model_id": "5be0771b6c194bb48bd63ce834e82039",
       "version_major": 2,
       "version_minor": 0
      },
      "text/plain": [
       "Image (test):   0%|          | 0/9 [00:00<?, ?it/s]"
      ]
     },
     "metadata": {},
     "output_type": "display_data"
    },
    {
     "data": {
      "application/vnd.jupyter.widget-view+json": {
       "model_id": "ba8d856bdbde471d834e7f3eef07b9cf",
       "version_major": 2,
       "version_minor": 0
      },
      "text/plain": [
       "Image (train):   0%|          | 0/6 [00:00<?, ?it/s]"
      ]
     },
     "metadata": {},
     "output_type": "display_data"
    },
    {
     "data": {
      "application/vnd.jupyter.widget-view+json": {
       "model_id": "2ee0f5df60ac4a7884745f88f3679600",
       "version_major": 2,
       "version_minor": 0
      },
      "text/plain": [
       "Image (test):   0%|          | 0/6 [00:00<?, ?it/s]"
      ]
     },
     "metadata": {},
     "output_type": "display_data"
    },
    {
     "data": {
      "application/vnd.jupyter.widget-view+json": {
       "model_id": "180062302c5f44b4b7675e6aada81f7c",
       "version_major": 2,
       "version_minor": 0
      },
      "text/plain": [
       "Image (train):   0%|          | 0/4 [00:00<?, ?it/s]"
      ]
     },
     "metadata": {},
     "output_type": "display_data"
    },
    {
     "data": {
      "application/vnd.jupyter.widget-view+json": {
       "model_id": "457820bc9ec346cfaa1020197a8606cc",
       "version_major": 2,
       "version_minor": 0
      },
      "text/plain": [
       "Image (test):   0%|          | 0/4 [00:00<?, ?it/s]"
      ]
     },
     "metadata": {},
     "output_type": "display_data"
    },
    {
     "data": {
      "application/vnd.jupyter.widget-view+json": {
       "model_id": "495648278d9f4baca822e289dc7b96de",
       "version_major": 2,
       "version_minor": 0
      },
      "text/plain": [
       "Image (train):   0%|          | 0/3 [00:00<?, ?it/s]"
      ]
     },
     "metadata": {},
     "output_type": "display_data"
    },
    {
     "data": {
      "application/vnd.jupyter.widget-view+json": {
       "model_id": "f0feaf5f65654b318ae6de70c0ddfa86",
       "version_major": 2,
       "version_minor": 0
      },
      "text/plain": [
       "Image (test):   0%|          | 0/3 [00:00<?, ?it/s]"
      ]
     },
     "metadata": {},
     "output_type": "display_data"
    },
    {
     "data": {
      "application/vnd.jupyter.widget-view+json": {
       "model_id": "fcd3e2e82fe242e18e3dc0dfb4e6af47",
       "version_major": 2,
       "version_minor": 0
      },
      "text/plain": [
       "Image (train):   0%|          | 0/2 [00:00<?, ?it/s]"
      ]
     },
     "metadata": {},
     "output_type": "display_data"
    },
    {
     "data": {
      "application/vnd.jupyter.widget-view+json": {
       "model_id": "361e3d5394ff4b9e9f3401d156648c7a",
       "version_major": 2,
       "version_minor": 0
      },
      "text/plain": [
       "Image (test):   0%|          | 0/2 [00:00<?, ?it/s]"
      ]
     },
     "metadata": {},
     "output_type": "display_data"
    },
    {
     "data": {
      "application/vnd.jupyter.widget-view+json": {
       "model_id": "24165a500df347babe7f766f3b311ce3",
       "version_major": 2,
       "version_minor": 0
      },
      "text/plain": [
       "Image (train): 0it [00:00, ?it/s]"
      ]
     },
     "metadata": {},
     "output_type": "display_data"
    },
    {
     "data": {
      "application/vnd.jupyter.widget-view+json": {
       "model_id": "c56c766d61d9440faa90a05b1c51f1ca",
       "version_major": 2,
       "version_minor": 0
      },
      "text/plain": [
       "Image (test): 0it [00:00, ?it/s]"
      ]
     },
     "metadata": {},
     "output_type": "display_data"
    },
    {
     "data": {
      "application/vnd.jupyter.widget-view+json": {
       "model_id": "ce8d40923400459fbabbb33ff935b715",
       "version_major": 2,
       "version_minor": 0
      },
      "text/plain": [
       "Attempt:   0%|          | 0/10 [00:00<?, ?it/s]"
      ]
     },
     "metadata": {},
     "output_type": "display_data"
    },
    {
     "data": {
      "application/vnd.jupyter.widget-view+json": {
       "model_id": "6e7066c60c6544ee9d07ab1e9c9ea042",
       "version_major": 2,
       "version_minor": 0
      },
      "text/plain": [
       "Image (train):   0%|          | 0/1000 [00:00<?, ?it/s]"
      ]
     },
     "metadata": {},
     "output_type": "display_data"
    },
    {
     "data": {
      "application/vnd.jupyter.widget-view+json": {
       "model_id": "e7bd0632830a43f68216f7f8a5c2a3e4",
       "version_major": 2,
       "version_minor": 0
      },
      "text/plain": [
       "Image (test):   0%|          | 0/1000 [00:00<?, ?it/s]"
      ]
     },
     "metadata": {},
     "output_type": "display_data"
    },
    {
     "data": {
      "application/vnd.jupyter.widget-view+json": {
       "model_id": "6726d4b122b24596888995a775e7cdd0",
       "version_major": 2,
       "version_minor": 0
      },
      "text/plain": [
       "Image (train):   0%|          | 0/125 [00:00<?, ?it/s]"
      ]
     },
     "metadata": {},
     "output_type": "display_data"
    },
    {
     "data": {
      "application/vnd.jupyter.widget-view+json": {
       "model_id": "c689eb3f7e6c4f8c9b182e5c399cd0c0",
       "version_major": 2,
       "version_minor": 0
      },
      "text/plain": [
       "Image (test):   0%|          | 0/125 [00:00<?, ?it/s]"
      ]
     },
     "metadata": {},
     "output_type": "display_data"
    },
    {
     "data": {
      "application/vnd.jupyter.widget-view+json": {
       "model_id": "673a8ea44d69401eb49488e4ac5220a1",
       "version_major": 2,
       "version_minor": 0
      },
      "text/plain": [
       "Image (train):   0%|          | 0/106 [00:00<?, ?it/s]"
      ]
     },
     "metadata": {},
     "output_type": "display_data"
    },
    {
     "data": {
      "application/vnd.jupyter.widget-view+json": {
       "model_id": "337a0fbfb34d461799c3d18810111773",
       "version_major": 2,
       "version_minor": 0
      },
      "text/plain": [
       "Image (test):   0%|          | 0/106 [00:00<?, ?it/s]"
      ]
     },
     "metadata": {},
     "output_type": "display_data"
    },
    {
     "data": {
      "application/vnd.jupyter.widget-view+json": {
       "model_id": "aec870c0b1ff476088e40e18de3cd0b2",
       "version_major": 2,
       "version_minor": 0
      },
      "text/plain": [
       "Image (train):   0%|          | 0/90 [00:00<?, ?it/s]"
      ]
     },
     "metadata": {},
     "output_type": "display_data"
    },
    {
     "data": {
      "application/vnd.jupyter.widget-view+json": {
       "model_id": "76034385dc984e738a49f04335e865e6",
       "version_major": 2,
       "version_minor": 0
      },
      "text/plain": [
       "Image (test):   0%|          | 0/90 [00:00<?, ?it/s]"
      ]
     },
     "metadata": {},
     "output_type": "display_data"
    },
    {
     "data": {
      "application/vnd.jupyter.widget-view+json": {
       "model_id": "8c915d9dd5084ad9a8a790c3e321e0d7",
       "version_major": 2,
       "version_minor": 0
      },
      "text/plain": [
       "Image (train):   0%|          | 0/82 [00:00<?, ?it/s]"
      ]
     },
     "metadata": {},
     "output_type": "display_data"
    },
    {
     "data": {
      "application/vnd.jupyter.widget-view+json": {
       "model_id": "a4ab7f6ba44a4301b8939027a86f11b2",
       "version_major": 2,
       "version_minor": 0
      },
      "text/plain": [
       "Image (test):   0%|          | 0/82 [00:00<?, ?it/s]"
      ]
     },
     "metadata": {},
     "output_type": "display_data"
    },
    {
     "data": {
      "application/vnd.jupyter.widget-view+json": {
       "model_id": "626ffc8b7aab4a6ca03ef8029b7ce0b6",
       "version_major": 2,
       "version_minor": 0
      },
      "text/plain": [
       "Image (train):   0%|          | 0/70 [00:00<?, ?it/s]"
      ]
     },
     "metadata": {},
     "output_type": "display_data"
    },
    {
     "data": {
      "application/vnd.jupyter.widget-view+json": {
       "model_id": "99f81e1f2a9f4982a71508dd0571245b",
       "version_major": 2,
       "version_minor": 0
      },
      "text/plain": [
       "Image (test):   0%|          | 0/70 [00:00<?, ?it/s]"
      ]
     },
     "metadata": {},
     "output_type": "display_data"
    },
    {
     "data": {
      "application/vnd.jupyter.widget-view+json": {
       "model_id": "c206bb933f4c4b4383bfb706a126ef7a",
       "version_major": 2,
       "version_minor": 0
      },
      "text/plain": [
       "Image (train):   0%|          | 0/61 [00:00<?, ?it/s]"
      ]
     },
     "metadata": {},
     "output_type": "display_data"
    },
    {
     "data": {
      "application/vnd.jupyter.widget-view+json": {
       "model_id": "b5fb3ee0bee845809c271e82de6fda2a",
       "version_major": 2,
       "version_minor": 0
      },
      "text/plain": [
       "Image (test):   0%|          | 0/61 [00:00<?, ?it/s]"
      ]
     },
     "metadata": {},
     "output_type": "display_data"
    },
    {
     "data": {
      "application/vnd.jupyter.widget-view+json": {
       "model_id": "d978990e70d24d0398ecbe2a3c910f7e",
       "version_major": 2,
       "version_minor": 0
      },
      "text/plain": [
       "Image (train):   0%|          | 0/54 [00:00<?, ?it/s]"
      ]
     },
     "metadata": {},
     "output_type": "display_data"
    },
    {
     "data": {
      "application/vnd.jupyter.widget-view+json": {
       "model_id": "6cc55b0e70d442528341f5ba3ff3e6e1",
       "version_major": 2,
       "version_minor": 0
      },
      "text/plain": [
       "Image (test):   0%|          | 0/54 [00:00<?, ?it/s]"
      ]
     },
     "metadata": {},
     "output_type": "display_data"
    },
    {
     "data": {
      "application/vnd.jupyter.widget-view+json": {
       "model_id": "d8bb73888fac4b3a8b97dc71056212ee",
       "version_major": 2,
       "version_minor": 0
      },
      "text/plain": [
       "Image (train):   0%|          | 0/53 [00:00<?, ?it/s]"
      ]
     },
     "metadata": {},
     "output_type": "display_data"
    },
    {
     "data": {
      "application/vnd.jupyter.widget-view+json": {
       "model_id": "ca6f6068ac45451c81e5a7a45733dba5",
       "version_major": 2,
       "version_minor": 0
      },
      "text/plain": [
       "Image (test):   0%|          | 0/53 [00:00<?, ?it/s]"
      ]
     },
     "metadata": {},
     "output_type": "display_data"
    },
    {
     "data": {
      "application/vnd.jupyter.widget-view+json": {
       "model_id": "d56be80b8dcb4747829a7ff98609b58e",
       "version_major": 2,
       "version_minor": 0
      },
      "text/plain": [
       "Image (train):   0%|          | 0/48 [00:00<?, ?it/s]"
      ]
     },
     "metadata": {},
     "output_type": "display_data"
    },
    {
     "data": {
      "application/vnd.jupyter.widget-view+json": {
       "model_id": "62a90c43369f4ee58c91a5db75f85b49",
       "version_major": 2,
       "version_minor": 0
      },
      "text/plain": [
       "Image (test):   0%|          | 0/48 [00:00<?, ?it/s]"
      ]
     },
     "metadata": {},
     "output_type": "display_data"
    },
    {
     "data": {
      "application/vnd.jupyter.widget-view+json": {
       "model_id": "7c0cd4f8467541aea2441a2bf2135c27",
       "version_major": 2,
       "version_minor": 0
      },
      "text/plain": [
       "Attempt:   0%|          | 0/10 [00:00<?, ?it/s]"
      ]
     },
     "metadata": {},
     "output_type": "display_data"
    },
    {
     "data": {
      "application/vnd.jupyter.widget-view+json": {
       "model_id": "736b6bf543b4466f886ac9a10f83e810",
       "version_major": 2,
       "version_minor": 0
      },
      "text/plain": [
       "Image (train):   0%|          | 0/1000 [00:00<?, ?it/s]"
      ]
     },
     "metadata": {},
     "output_type": "display_data"
    },
    {
     "data": {
      "application/vnd.jupyter.widget-view+json": {
       "model_id": "6ee5786fdd654d2fa09f6d748f2b85dc",
       "version_major": 2,
       "version_minor": 0
      },
      "text/plain": [
       "Image (test):   0%|          | 0/1000 [00:00<?, ?it/s]"
      ]
     },
     "metadata": {},
     "output_type": "display_data"
    },
    {
     "data": {
      "application/vnd.jupyter.widget-view+json": {
       "model_id": "a2ac4ed711ca441994d50ac78edd61b1",
       "version_major": 2,
       "version_minor": 0
      },
      "text/plain": [
       "Image (train):   0%|          | 0/118 [00:00<?, ?it/s]"
      ]
     },
     "metadata": {},
     "output_type": "display_data"
    },
    {
     "data": {
      "application/vnd.jupyter.widget-view+json": {
       "model_id": "fde443f777674c73a8565afaf2666f10",
       "version_major": 2,
       "version_minor": 0
      },
      "text/plain": [
       "Image (test):   0%|          | 0/118 [00:00<?, ?it/s]"
      ]
     },
     "metadata": {},
     "output_type": "display_data"
    },
    {
     "data": {
      "application/vnd.jupyter.widget-view+json": {
       "model_id": "454f2907a48648019bd2d9bd264ac23e",
       "version_major": 2,
       "version_minor": 0
      },
      "text/plain": [
       "Image (train):   0%|          | 0/99 [00:00<?, ?it/s]"
      ]
     },
     "metadata": {},
     "output_type": "display_data"
    },
    {
     "data": {
      "application/vnd.jupyter.widget-view+json": {
       "model_id": "ab34072b799546aba69133113f67ba6b",
       "version_major": 2,
       "version_minor": 0
      },
      "text/plain": [
       "Image (test):   0%|          | 0/99 [00:00<?, ?it/s]"
      ]
     },
     "metadata": {},
     "output_type": "display_data"
    },
    {
     "data": {
      "application/vnd.jupyter.widget-view+json": {
       "model_id": "0cebf2e83d654ad5b0926770ef0b63ad",
       "version_major": 2,
       "version_minor": 0
      },
      "text/plain": [
       "Image (train):   0%|          | 0/88 [00:00<?, ?it/s]"
      ]
     },
     "metadata": {},
     "output_type": "display_data"
    },
    {
     "data": {
      "application/vnd.jupyter.widget-view+json": {
       "model_id": "c955921ead5d4943bedf4143e4d39c07",
       "version_major": 2,
       "version_minor": 0
      },
      "text/plain": [
       "Image (test):   0%|          | 0/88 [00:00<?, ?it/s]"
      ]
     },
     "metadata": {},
     "output_type": "display_data"
    },
    {
     "data": {
      "application/vnd.jupyter.widget-view+json": {
       "model_id": "a88f4706a975415a87b0f352b79a7467",
       "version_major": 2,
       "version_minor": 0
      },
      "text/plain": [
       "Image (train):   0%|          | 0/74 [00:00<?, ?it/s]"
      ]
     },
     "metadata": {},
     "output_type": "display_data"
    },
    {
     "data": {
      "application/vnd.jupyter.widget-view+json": {
       "model_id": "303ce69217d34975b74c9525a5f70248",
       "version_major": 2,
       "version_minor": 0
      },
      "text/plain": [
       "Image (test):   0%|          | 0/74 [00:00<?, ?it/s]"
      ]
     },
     "metadata": {},
     "output_type": "display_data"
    },
    {
     "data": {
      "application/vnd.jupyter.widget-view+json": {
       "model_id": "a129a99dcdca4f0aac22486fcef97ff4",
       "version_major": 2,
       "version_minor": 0
      },
      "text/plain": [
       "Image (train):   0%|          | 0/60 [00:00<?, ?it/s]"
      ]
     },
     "metadata": {},
     "output_type": "display_data"
    },
    {
     "data": {
      "application/vnd.jupyter.widget-view+json": {
       "model_id": "7f7bfbe9ad16456cb7a1c7bd791eb386",
       "version_major": 2,
       "version_minor": 0
      },
      "text/plain": [
       "Image (test):   0%|          | 0/60 [00:00<?, ?it/s]"
      ]
     },
     "metadata": {},
     "output_type": "display_data"
    },
    {
     "data": {
      "application/vnd.jupyter.widget-view+json": {
       "model_id": "10eb31d139dd42949e1142a68d8a0857",
       "version_major": 2,
       "version_minor": 0
      },
      "text/plain": [
       "Image (train):   0%|          | 0/51 [00:00<?, ?it/s]"
      ]
     },
     "metadata": {},
     "output_type": "display_data"
    },
    {
     "data": {
      "application/vnd.jupyter.widget-view+json": {
       "model_id": "8bbc53d619ff4bc183d83d50251abf34",
       "version_major": 2,
       "version_minor": 0
      },
      "text/plain": [
       "Image (test):   0%|          | 0/51 [00:00<?, ?it/s]"
      ]
     },
     "metadata": {},
     "output_type": "display_data"
    },
    {
     "data": {
      "application/vnd.jupyter.widget-view+json": {
       "model_id": "7316e3cd657e47328d29b64510a175d8",
       "version_major": 2,
       "version_minor": 0
      },
      "text/plain": [
       "Image (train):   0%|          | 0/45 [00:00<?, ?it/s]"
      ]
     },
     "metadata": {},
     "output_type": "display_data"
    },
    {
     "data": {
      "application/vnd.jupyter.widget-view+json": {
       "model_id": "12b2d3c9cc8c47c0a6ec64f0463e6512",
       "version_major": 2,
       "version_minor": 0
      },
      "text/plain": [
       "Image (test):   0%|          | 0/45 [00:00<?, ?it/s]"
      ]
     },
     "metadata": {},
     "output_type": "display_data"
    },
    {
     "data": {
      "application/vnd.jupyter.widget-view+json": {
       "model_id": "30ebcef87328461c9b10315719d2ef5a",
       "version_major": 2,
       "version_minor": 0
      },
      "text/plain": [
       "Image (train):   0%|          | 0/37 [00:00<?, ?it/s]"
      ]
     },
     "metadata": {},
     "output_type": "display_data"
    },
    {
     "data": {
      "application/vnd.jupyter.widget-view+json": {
       "model_id": "c3651e63a8e44801907805d95ee6b92b",
       "version_major": 2,
       "version_minor": 0
      },
      "text/plain": [
       "Image (test):   0%|          | 0/37 [00:00<?, ?it/s]"
      ]
     },
     "metadata": {},
     "output_type": "display_data"
    },
    {
     "data": {
      "application/vnd.jupyter.widget-view+json": {
       "model_id": "e0044e293f3c4bf1ba07409730b3945f",
       "version_major": 2,
       "version_minor": 0
      },
      "text/plain": [
       "Image (train):   0%|          | 0/32 [00:00<?, ?it/s]"
      ]
     },
     "metadata": {},
     "output_type": "display_data"
    },
    {
     "data": {
      "application/vnd.jupyter.widget-view+json": {
       "model_id": "62fa6b010620475ebbb6746665c634aa",
       "version_major": 2,
       "version_minor": 0
      },
      "text/plain": [
       "Image (test):   0%|          | 0/32 [00:00<?, ?it/s]"
      ]
     },
     "metadata": {},
     "output_type": "display_data"
    },
    {
     "data": {
      "application/vnd.jupyter.widget-view+json": {
       "model_id": "d0ea13753a4244acbc3c4399a9b04507",
       "version_major": 2,
       "version_minor": 0
      },
      "text/plain": [
       "Attempt:   0%|          | 0/10 [00:00<?, ?it/s]"
      ]
     },
     "metadata": {},
     "output_type": "display_data"
    },
    {
     "data": {
      "application/vnd.jupyter.widget-view+json": {
       "model_id": "cc0070b33fec41db97b01358d3b3fe73",
       "version_major": 2,
       "version_minor": 0
      },
      "text/plain": [
       "Image (train):   0%|          | 0/1000 [00:00<?, ?it/s]"
      ]
     },
     "metadata": {},
     "output_type": "display_data"
    },
    {
     "data": {
      "application/vnd.jupyter.widget-view+json": {
       "model_id": "b3b8421126274fb685841e2ca54102b8",
       "version_major": 2,
       "version_minor": 0
      },
      "text/plain": [
       "Image (test):   0%|          | 0/1000 [00:00<?, ?it/s]"
      ]
     },
     "metadata": {},
     "output_type": "display_data"
    },
    {
     "data": {
      "application/vnd.jupyter.widget-view+json": {
       "model_id": "3aa2a0079ce54f7db85685777c6aa3e2",
       "version_major": 2,
       "version_minor": 0
      },
      "text/plain": [
       "Image (train):   0%|          | 0/98 [00:00<?, ?it/s]"
      ]
     },
     "metadata": {},
     "output_type": "display_data"
    },
    {
     "data": {
      "application/vnd.jupyter.widget-view+json": {
       "model_id": "690ed52018fa4cc59f9b6e956fb4755c",
       "version_major": 2,
       "version_minor": 0
      },
      "text/plain": [
       "Image (test):   0%|          | 0/98 [00:00<?, ?it/s]"
      ]
     },
     "metadata": {},
     "output_type": "display_data"
    },
    {
     "data": {
      "application/vnd.jupyter.widget-view+json": {
       "model_id": "9f378ae45d8a41eea9acaeb68bec6846",
       "version_major": 2,
       "version_minor": 0
      },
      "text/plain": [
       "Image (train):   0%|          | 0/77 [00:00<?, ?it/s]"
      ]
     },
     "metadata": {},
     "output_type": "display_data"
    },
    {
     "data": {
      "application/vnd.jupyter.widget-view+json": {
       "model_id": "28d68cb5bbd342b99f74ea7a426d38f7",
       "version_major": 2,
       "version_minor": 0
      },
      "text/plain": [
       "Image (test):   0%|          | 0/77 [00:00<?, ?it/s]"
      ]
     },
     "metadata": {},
     "output_type": "display_data"
    },
    {
     "data": {
      "application/vnd.jupyter.widget-view+json": {
       "model_id": "c19726f1eef342eea22db50ab810a61c",
       "version_major": 2,
       "version_minor": 0
      },
      "text/plain": [
       "Image (train):   0%|          | 0/64 [00:00<?, ?it/s]"
      ]
     },
     "metadata": {},
     "output_type": "display_data"
    },
    {
     "data": {
      "application/vnd.jupyter.widget-view+json": {
       "model_id": "1ab499f42ff743d3a02fc16a9c76cf0e",
       "version_major": 2,
       "version_minor": 0
      },
      "text/plain": [
       "Image (test):   0%|          | 0/64 [00:00<?, ?it/s]"
      ]
     },
     "metadata": {},
     "output_type": "display_data"
    },
    {
     "data": {
      "application/vnd.jupyter.widget-view+json": {
       "model_id": "769bd41ed4864d119a42137bcb92565d",
       "version_major": 2,
       "version_minor": 0
      },
      "text/plain": [
       "Image (train):   0%|          | 0/55 [00:00<?, ?it/s]"
      ]
     },
     "metadata": {},
     "output_type": "display_data"
    },
    {
     "data": {
      "application/vnd.jupyter.widget-view+json": {
       "model_id": "51d37fe127e84112a7055fd5dc8b9b7d",
       "version_major": 2,
       "version_minor": 0
      },
      "text/plain": [
       "Image (test):   0%|          | 0/55 [00:00<?, ?it/s]"
      ]
     },
     "metadata": {},
     "output_type": "display_data"
    },
    {
     "data": {
      "application/vnd.jupyter.widget-view+json": {
       "model_id": "8bfb966d8d13492b99fa24b791607473",
       "version_major": 2,
       "version_minor": 0
      },
      "text/plain": [
       "Image (train):   0%|          | 0/43 [00:00<?, ?it/s]"
      ]
     },
     "metadata": {},
     "output_type": "display_data"
    },
    {
     "data": {
      "application/vnd.jupyter.widget-view+json": {
       "model_id": "957da3199e954aeca5a6c9d1fdbe32b4",
       "version_major": 2,
       "version_minor": 0
      },
      "text/plain": [
       "Image (test):   0%|          | 0/43 [00:00<?, ?it/s]"
      ]
     },
     "metadata": {},
     "output_type": "display_data"
    },
    {
     "data": {
      "application/vnd.jupyter.widget-view+json": {
       "model_id": "1ed74337a3234e27979c6c7c008bb34d",
       "version_major": 2,
       "version_minor": 0
      },
      "text/plain": [
       "Image (train):   0%|          | 0/39 [00:00<?, ?it/s]"
      ]
     },
     "metadata": {},
     "output_type": "display_data"
    },
    {
     "data": {
      "application/vnd.jupyter.widget-view+json": {
       "model_id": "07408d92d9174c17bdfd5ec389f6a93f",
       "version_major": 2,
       "version_minor": 0
      },
      "text/plain": [
       "Image (test):   0%|          | 0/39 [00:00<?, ?it/s]"
      ]
     },
     "metadata": {},
     "output_type": "display_data"
    },
    {
     "data": {
      "application/vnd.jupyter.widget-view+json": {
       "model_id": "9b087a51720f412ebce9f58f0b9b4c1d",
       "version_major": 2,
       "version_minor": 0
      },
      "text/plain": [
       "Image (train):   0%|          | 0/36 [00:00<?, ?it/s]"
      ]
     },
     "metadata": {},
     "output_type": "display_data"
    },
    {
     "data": {
      "application/vnd.jupyter.widget-view+json": {
       "model_id": "8254ddbb9404492586395ee0df4e3811",
       "version_major": 2,
       "version_minor": 0
      },
      "text/plain": [
       "Image (test):   0%|          | 0/36 [00:00<?, ?it/s]"
      ]
     },
     "metadata": {},
     "output_type": "display_data"
    },
    {
     "data": {
      "application/vnd.jupyter.widget-view+json": {
       "model_id": "d19eea843f4248fcb1f02b8c646965d4",
       "version_major": 2,
       "version_minor": 0
      },
      "text/plain": [
       "Image (train):   0%|          | 0/28 [00:00<?, ?it/s]"
      ]
     },
     "metadata": {},
     "output_type": "display_data"
    },
    {
     "data": {
      "application/vnd.jupyter.widget-view+json": {
       "model_id": "3c19fd58035d444d9b8a6ee6dc42e0b6",
       "version_major": 2,
       "version_minor": 0
      },
      "text/plain": [
       "Image (test):   0%|          | 0/28 [00:00<?, ?it/s]"
      ]
     },
     "metadata": {},
     "output_type": "display_data"
    },
    {
     "data": {
      "application/vnd.jupyter.widget-view+json": {
       "model_id": "e45392ed32904eebb14d5fccd7febf87",
       "version_major": 2,
       "version_minor": 0
      },
      "text/plain": [
       "Image (train):   0%|          | 0/26 [00:00<?, ?it/s]"
      ]
     },
     "metadata": {},
     "output_type": "display_data"
    },
    {
     "data": {
      "application/vnd.jupyter.widget-view+json": {
       "model_id": "79ff06c91e0a47d1a492e0fdbbe9f7f5",
       "version_major": 2,
       "version_minor": 0
      },
      "text/plain": [
       "Image (test):   0%|          | 0/26 [00:00<?, ?it/s]"
      ]
     },
     "metadata": {},
     "output_type": "display_data"
    },
    {
     "data": {
      "application/vnd.jupyter.widget-view+json": {
       "model_id": "62391c4c93794698b55f72fe574b3846",
       "version_major": 2,
       "version_minor": 0
      },
      "text/plain": [
       "Attempt:   0%|          | 0/10 [00:00<?, ?it/s]"
      ]
     },
     "metadata": {},
     "output_type": "display_data"
    },
    {
     "data": {
      "application/vnd.jupyter.widget-view+json": {
       "model_id": "13f21d0c5a5f41f0b2984646c73d5cb0",
       "version_major": 2,
       "version_minor": 0
      },
      "text/plain": [
       "Image (train):   0%|          | 0/1000 [00:00<?, ?it/s]"
      ]
     },
     "metadata": {},
     "output_type": "display_data"
    },
    {
     "data": {
      "application/vnd.jupyter.widget-view+json": {
       "model_id": "c926586e3a9043b9877461f698b69acb",
       "version_major": 2,
       "version_minor": 0
      },
      "text/plain": [
       "Image (test):   0%|          | 0/1000 [00:00<?, ?it/s]"
      ]
     },
     "metadata": {},
     "output_type": "display_data"
    },
    {
     "data": {
      "application/vnd.jupyter.widget-view+json": {
       "model_id": "2cdd07f12176425dbb6d623e2899ee51",
       "version_major": 2,
       "version_minor": 0
      },
      "text/plain": [
       "Image (train):   0%|          | 0/91 [00:00<?, ?it/s]"
      ]
     },
     "metadata": {},
     "output_type": "display_data"
    },
    {
     "data": {
      "application/vnd.jupyter.widget-view+json": {
       "model_id": "d314a7b0eeb64b04a430414fbfea41c4",
       "version_major": 2,
       "version_minor": 0
      },
      "text/plain": [
       "Image (test):   0%|          | 0/91 [00:00<?, ?it/s]"
      ]
     },
     "metadata": {},
     "output_type": "display_data"
    },
    {
     "data": {
      "application/vnd.jupyter.widget-view+json": {
       "model_id": "35625192ff6b4f53a61879fd3750e6a2",
       "version_major": 2,
       "version_minor": 0
      },
      "text/plain": [
       "Image (train):   0%|          | 0/67 [00:00<?, ?it/s]"
      ]
     },
     "metadata": {},
     "output_type": "display_data"
    },
    {
     "data": {
      "application/vnd.jupyter.widget-view+json": {
       "model_id": "162c2e8db376446f841ad37f5c04842b",
       "version_major": 2,
       "version_minor": 0
      },
      "text/plain": [
       "Image (test):   0%|          | 0/67 [00:00<?, ?it/s]"
      ]
     },
     "metadata": {},
     "output_type": "display_data"
    },
    {
     "data": {
      "application/vnd.jupyter.widget-view+json": {
       "model_id": "c26f5b589fdd4591baf9c5a0395f7c8f",
       "version_major": 2,
       "version_minor": 0
      },
      "text/plain": [
       "Image (train):   0%|          | 0/59 [00:00<?, ?it/s]"
      ]
     },
     "metadata": {},
     "output_type": "display_data"
    },
    {
     "data": {
      "application/vnd.jupyter.widget-view+json": {
       "model_id": "974757500acd4e4891edca180cd46497",
       "version_major": 2,
       "version_minor": 0
      },
      "text/plain": [
       "Image (test):   0%|          | 0/59 [00:00<?, ?it/s]"
      ]
     },
     "metadata": {},
     "output_type": "display_data"
    },
    {
     "data": {
      "application/vnd.jupyter.widget-view+json": {
       "model_id": "c964400cf9374119bc7ca3adcb4c3af2",
       "version_major": 2,
       "version_minor": 0
      },
      "text/plain": [
       "Image (train):   0%|          | 0/52 [00:00<?, ?it/s]"
      ]
     },
     "metadata": {},
     "output_type": "display_data"
    },
    {
     "data": {
      "application/vnd.jupyter.widget-view+json": {
       "model_id": "f4d70d69d2254001a1a84f413f086cec",
       "version_major": 2,
       "version_minor": 0
      },
      "text/plain": [
       "Image (test):   0%|          | 0/52 [00:00<?, ?it/s]"
      ]
     },
     "metadata": {},
     "output_type": "display_data"
    },
    {
     "data": {
      "application/vnd.jupyter.widget-view+json": {
       "model_id": "05ffbba86348489781146fe7e83a772e",
       "version_major": 2,
       "version_minor": 0
      },
      "text/plain": [
       "Image (train):   0%|          | 0/44 [00:00<?, ?it/s]"
      ]
     },
     "metadata": {},
     "output_type": "display_data"
    },
    {
     "data": {
      "application/vnd.jupyter.widget-view+json": {
       "model_id": "a2272d0db0874a928c961df76b72a848",
       "version_major": 2,
       "version_minor": 0
      },
      "text/plain": [
       "Image (test):   0%|          | 0/44 [00:00<?, ?it/s]"
      ]
     },
     "metadata": {},
     "output_type": "display_data"
    },
    {
     "data": {
      "application/vnd.jupyter.widget-view+json": {
       "model_id": "b2f17ade835c4211b426a8b9a2299dad",
       "version_major": 2,
       "version_minor": 0
      },
      "text/plain": [
       "Image (train):   0%|          | 0/34 [00:00<?, ?it/s]"
      ]
     },
     "metadata": {},
     "output_type": "display_data"
    },
    {
     "data": {
      "application/vnd.jupyter.widget-view+json": {
       "model_id": "c6a73d8a871540f69bf0845ed0a891c2",
       "version_major": 2,
       "version_minor": 0
      },
      "text/plain": [
       "Image (test):   0%|          | 0/34 [00:00<?, ?it/s]"
      ]
     },
     "metadata": {},
     "output_type": "display_data"
    },
    {
     "data": {
      "application/vnd.jupyter.widget-view+json": {
       "model_id": "712d8c77abd14ce6ad1b781cb3db88f7",
       "version_major": 2,
       "version_minor": 0
      },
      "text/plain": [
       "Image (train):   0%|          | 0/31 [00:00<?, ?it/s]"
      ]
     },
     "metadata": {},
     "output_type": "display_data"
    },
    {
     "data": {
      "application/vnd.jupyter.widget-view+json": {
       "model_id": "aa27b11de62e4ef2b873d666370a5094",
       "version_major": 2,
       "version_minor": 0
      },
      "text/plain": [
       "Image (test):   0%|          | 0/31 [00:00<?, ?it/s]"
      ]
     },
     "metadata": {},
     "output_type": "display_data"
    },
    {
     "data": {
      "application/vnd.jupyter.widget-view+json": {
       "model_id": "4bff5af6ab4c42ad918e2897372238fa",
       "version_major": 2,
       "version_minor": 0
      },
      "text/plain": [
       "Image (train):   0%|          | 0/24 [00:00<?, ?it/s]"
      ]
     },
     "metadata": {},
     "output_type": "display_data"
    },
    {
     "data": {
      "application/vnd.jupyter.widget-view+json": {
       "model_id": "89c4b9483f654a7e877ad2e246eabff8",
       "version_major": 2,
       "version_minor": 0
      },
      "text/plain": [
       "Image (test):   0%|          | 0/24 [00:00<?, ?it/s]"
      ]
     },
     "metadata": {},
     "output_type": "display_data"
    },
    {
     "data": {
      "application/vnd.jupyter.widget-view+json": {
       "model_id": "cd79a9a86fcb4d28aee33c62322557d9",
       "version_major": 2,
       "version_minor": 0
      },
      "text/plain": [
       "Image (train):   0%|          | 0/21 [00:00<?, ?it/s]"
      ]
     },
     "metadata": {},
     "output_type": "display_data"
    },
    {
     "data": {
      "application/vnd.jupyter.widget-view+json": {
       "model_id": "edb5b628af7b4d9bb1c60cc998785fc9",
       "version_major": 2,
       "version_minor": 0
      },
      "text/plain": [
       "Image (test):   0%|          | 0/21 [00:00<?, ?it/s]"
      ]
     },
     "metadata": {},
     "output_type": "display_data"
    },
    {
     "data": {
      "application/vnd.jupyter.widget-view+json": {
       "model_id": "46879f66e2b14aabbca71e36a7c2c10a",
       "version_major": 2,
       "version_minor": 0
      },
      "text/plain": [
       "Attempt:   0%|          | 0/10 [00:00<?, ?it/s]"
      ]
     },
     "metadata": {},
     "output_type": "display_data"
    },
    {
     "data": {
      "application/vnd.jupyter.widget-view+json": {
       "model_id": "126034b17c134d4d91b2541cca963c4e",
       "version_major": 2,
       "version_minor": 0
      },
      "text/plain": [
       "Image (train):   0%|          | 0/1000 [00:00<?, ?it/s]"
      ]
     },
     "metadata": {},
     "output_type": "display_data"
    },
    {
     "data": {
      "application/vnd.jupyter.widget-view+json": {
       "model_id": "9b776a53b7b741849f68fc366be63bf6",
       "version_major": 2,
       "version_minor": 0
      },
      "text/plain": [
       "Image (test):   0%|          | 0/1000 [00:00<?, ?it/s]"
      ]
     },
     "metadata": {},
     "output_type": "display_data"
    },
    {
     "data": {
      "application/vnd.jupyter.widget-view+json": {
       "model_id": "06dcad9feea44029a5f75ee831030265",
       "version_major": 2,
       "version_minor": 0
      },
      "text/plain": [
       "Image (train):   0%|          | 0/113 [00:00<?, ?it/s]"
      ]
     },
     "metadata": {},
     "output_type": "display_data"
    },
    {
     "data": {
      "application/vnd.jupyter.widget-view+json": {
       "model_id": "0ff2976394724d2396513b6c68920e2e",
       "version_major": 2,
       "version_minor": 0
      },
      "text/plain": [
       "Image (test):   0%|          | 0/113 [00:00<?, ?it/s]"
      ]
     },
     "metadata": {},
     "output_type": "display_data"
    },
    {
     "data": {
      "application/vnd.jupyter.widget-view+json": {
       "model_id": "8cb7b424ca9340969d7d147ec8d61663",
       "version_major": 2,
       "version_minor": 0
      },
      "text/plain": [
       "Image (train):   0%|          | 0/98 [00:00<?, ?it/s]"
      ]
     },
     "metadata": {},
     "output_type": "display_data"
    },
    {
     "data": {
      "application/vnd.jupyter.widget-view+json": {
       "model_id": "7de28c879be44900b13db7ef8351ea66",
       "version_major": 2,
       "version_minor": 0
      },
      "text/plain": [
       "Image (test):   0%|          | 0/98 [00:00<?, ?it/s]"
      ]
     },
     "metadata": {},
     "output_type": "display_data"
    },
    {
     "data": {
      "application/vnd.jupyter.widget-view+json": {
       "model_id": "4b1e7538ad2f4d358eca3877a23676b7",
       "version_major": 2,
       "version_minor": 0
      },
      "text/plain": [
       "Image (train):   0%|          | 0/79 [00:00<?, ?it/s]"
      ]
     },
     "metadata": {},
     "output_type": "display_data"
    },
    {
     "data": {
      "application/vnd.jupyter.widget-view+json": {
       "model_id": "c52727553fe643ab8207f4b25774184a",
       "version_major": 2,
       "version_minor": 0
      },
      "text/plain": [
       "Image (test):   0%|          | 0/79 [00:00<?, ?it/s]"
      ]
     },
     "metadata": {},
     "output_type": "display_data"
    },
    {
     "data": {
      "application/vnd.jupyter.widget-view+json": {
       "model_id": "15d41658948f4638a42f01e0da5a734d",
       "version_major": 2,
       "version_minor": 0
      },
      "text/plain": [
       "Image (train):   0%|          | 0/70 [00:00<?, ?it/s]"
      ]
     },
     "metadata": {},
     "output_type": "display_data"
    },
    {
     "data": {
      "application/vnd.jupyter.widget-view+json": {
       "model_id": "477808ea79554ca8b629f40a0272d7d6",
       "version_major": 2,
       "version_minor": 0
      },
      "text/plain": [
       "Image (test):   0%|          | 0/70 [00:00<?, ?it/s]"
      ]
     },
     "metadata": {},
     "output_type": "display_data"
    },
    {
     "data": {
      "application/vnd.jupyter.widget-view+json": {
       "model_id": "864cbc38a018475a84943c232d7890ba",
       "version_major": 2,
       "version_minor": 0
      },
      "text/plain": [
       "Image (train):   0%|          | 0/62 [00:00<?, ?it/s]"
      ]
     },
     "metadata": {},
     "output_type": "display_data"
    },
    {
     "data": {
      "application/vnd.jupyter.widget-view+json": {
       "model_id": "b77cc8157ab1414ba6bf58ea9b8c4746",
       "version_major": 2,
       "version_minor": 0
      },
      "text/plain": [
       "Image (test):   0%|          | 0/62 [00:00<?, ?it/s]"
      ]
     },
     "metadata": {},
     "output_type": "display_data"
    },
    {
     "data": {
      "application/vnd.jupyter.widget-view+json": {
       "model_id": "af348981378f4a739e075c9a29b08488",
       "version_major": 2,
       "version_minor": 0
      },
      "text/plain": [
       "Image (train):   0%|          | 0/51 [00:00<?, ?it/s]"
      ]
     },
     "metadata": {},
     "output_type": "display_data"
    },
    {
     "data": {
      "application/vnd.jupyter.widget-view+json": {
       "model_id": "c856babe1efb42089893ea7bcc74a2df",
       "version_major": 2,
       "version_minor": 0
      },
      "text/plain": [
       "Image (test):   0%|          | 0/51 [00:00<?, ?it/s]"
      ]
     },
     "metadata": {},
     "output_type": "display_data"
    },
    {
     "data": {
      "application/vnd.jupyter.widget-view+json": {
       "model_id": "08d0d16180fa4f9ebd38d883f99d57db",
       "version_major": 2,
       "version_minor": 0
      },
      "text/plain": [
       "Image (train):   0%|          | 0/42 [00:00<?, ?it/s]"
      ]
     },
     "metadata": {},
     "output_type": "display_data"
    },
    {
     "data": {
      "application/vnd.jupyter.widget-view+json": {
       "model_id": "c4ed5d91d1764ae8968b2929dc70d66d",
       "version_major": 2,
       "version_minor": 0
      },
      "text/plain": [
       "Image (test):   0%|          | 0/42 [00:00<?, ?it/s]"
      ]
     },
     "metadata": {},
     "output_type": "display_data"
    },
    {
     "data": {
      "application/vnd.jupyter.widget-view+json": {
       "model_id": "3e354a7737ef46ab86f8a67b9001b8a7",
       "version_major": 2,
       "version_minor": 0
      },
      "text/plain": [
       "Image (train):   0%|          | 0/36 [00:00<?, ?it/s]"
      ]
     },
     "metadata": {},
     "output_type": "display_data"
    },
    {
     "data": {
      "application/vnd.jupyter.widget-view+json": {
       "model_id": "fa95bca5af6b4a95b3e9f9493b4f43f0",
       "version_major": 2,
       "version_minor": 0
      },
      "text/plain": [
       "Image (test):   0%|          | 0/36 [00:00<?, ?it/s]"
      ]
     },
     "metadata": {},
     "output_type": "display_data"
    },
    {
     "data": {
      "application/vnd.jupyter.widget-view+json": {
       "model_id": "05a512159a4347dfafdc55fb6135fe32",
       "version_major": 2,
       "version_minor": 0
      },
      "text/plain": [
       "Image (train):   0%|          | 0/35 [00:00<?, ?it/s]"
      ]
     },
     "metadata": {},
     "output_type": "display_data"
    },
    {
     "data": {
      "application/vnd.jupyter.widget-view+json": {
       "model_id": "b82d3977233f43ccab680c0bcdcd51cf",
       "version_major": 2,
       "version_minor": 0
      },
      "text/plain": [
       "Image (test):   0%|          | 0/35 [00:00<?, ?it/s]"
      ]
     },
     "metadata": {},
     "output_type": "display_data"
    },
    {
     "data": {
      "application/vnd.jupyter.widget-view+json": {
       "model_id": "389b3949c20f430db60ddfbf38b8a56d",
       "version_major": 2,
       "version_minor": 0
      },
      "text/plain": [
       "Attempt:   0%|          | 0/10 [00:00<?, ?it/s]"
      ]
     },
     "metadata": {},
     "output_type": "display_data"
    },
    {
     "data": {
      "application/vnd.jupyter.widget-view+json": {
       "model_id": "36240f33a1864a0c8aeecdd79d4c0c49",
       "version_major": 2,
       "version_minor": 0
      },
      "text/plain": [
       "Image (train):   0%|          | 0/1000 [00:00<?, ?it/s]"
      ]
     },
     "metadata": {},
     "output_type": "display_data"
    },
    {
     "data": {
      "application/vnd.jupyter.widget-view+json": {
       "model_id": "86c79a3c5ece4a5f8f7b0c8fd2adc630",
       "version_major": 2,
       "version_minor": 0
      },
      "text/plain": [
       "Image (test):   0%|          | 0/1000 [00:00<?, ?it/s]"
      ]
     },
     "metadata": {},
     "output_type": "display_data"
    },
    {
     "data": {
      "application/vnd.jupyter.widget-view+json": {
       "model_id": "81a4f11fcf5b4363aa14f81011ef743b",
       "version_major": 2,
       "version_minor": 0
      },
      "text/plain": [
       "Image (train):   0%|          | 0/92 [00:00<?, ?it/s]"
      ]
     },
     "metadata": {},
     "output_type": "display_data"
    },
    {
     "data": {
      "application/vnd.jupyter.widget-view+json": {
       "model_id": "3230a333edc64a35bad7b692a54a106a",
       "version_major": 2,
       "version_minor": 0
      },
      "text/plain": [
       "Image (test):   0%|          | 0/92 [00:00<?, ?it/s]"
      ]
     },
     "metadata": {},
     "output_type": "display_data"
    },
    {
     "data": {
      "application/vnd.jupyter.widget-view+json": {
       "model_id": "6b24677ee9da4b0cabb10bb3b273cbb3",
       "version_major": 2,
       "version_minor": 0
      },
      "text/plain": [
       "Image (train):   0%|          | 0/78 [00:00<?, ?it/s]"
      ]
     },
     "metadata": {},
     "output_type": "display_data"
    },
    {
     "data": {
      "application/vnd.jupyter.widget-view+json": {
       "model_id": "f4e954b266d44ee290cc29b149b7b095",
       "version_major": 2,
       "version_minor": 0
      },
      "text/plain": [
       "Image (test):   0%|          | 0/78 [00:00<?, ?it/s]"
      ]
     },
     "metadata": {},
     "output_type": "display_data"
    },
    {
     "data": {
      "application/vnd.jupyter.widget-view+json": {
       "model_id": "1a63a0672f134623a50b6c33dd95fcab",
       "version_major": 2,
       "version_minor": 0
      },
      "text/plain": [
       "Image (train):   0%|          | 0/69 [00:00<?, ?it/s]"
      ]
     },
     "metadata": {},
     "output_type": "display_data"
    },
    {
     "data": {
      "application/vnd.jupyter.widget-view+json": {
       "model_id": "89dd08276f8c41458b80b5002d0f45ab",
       "version_major": 2,
       "version_minor": 0
      },
      "text/plain": [
       "Image (test):   0%|          | 0/69 [00:00<?, ?it/s]"
      ]
     },
     "metadata": {},
     "output_type": "display_data"
    },
    {
     "data": {
      "application/vnd.jupyter.widget-view+json": {
       "model_id": "f816a4c1900f4a0cb5908891fe259de1",
       "version_major": 2,
       "version_minor": 0
      },
      "text/plain": [
       "Image (train):   0%|          | 0/63 [00:00<?, ?it/s]"
      ]
     },
     "metadata": {},
     "output_type": "display_data"
    },
    {
     "data": {
      "application/vnd.jupyter.widget-view+json": {
       "model_id": "68a8fd54b4004db2a42f93b1d4d6cfc3",
       "version_major": 2,
       "version_minor": 0
      },
      "text/plain": [
       "Image (test):   0%|          | 0/63 [00:00<?, ?it/s]"
      ]
     },
     "metadata": {},
     "output_type": "display_data"
    },
    {
     "data": {
      "application/vnd.jupyter.widget-view+json": {
       "model_id": "35ad78d6b6dc450db5a5df8a7626ce4b",
       "version_major": 2,
       "version_minor": 0
      },
      "text/plain": [
       "Image (train):   0%|          | 0/53 [00:00<?, ?it/s]"
      ]
     },
     "metadata": {},
     "output_type": "display_data"
    },
    {
     "data": {
      "application/vnd.jupyter.widget-view+json": {
       "model_id": "53f554a54eac4a29aea815c6b2df3f3f",
       "version_major": 2,
       "version_minor": 0
      },
      "text/plain": [
       "Image (test):   0%|          | 0/53 [00:00<?, ?it/s]"
      ]
     },
     "metadata": {},
     "output_type": "display_data"
    },
    {
     "data": {
      "application/vnd.jupyter.widget-view+json": {
       "model_id": "189cfc61cd794b5291f9a03f433c5ff6",
       "version_major": 2,
       "version_minor": 0
      },
      "text/plain": [
       "Image (train):   0%|          | 0/45 [00:00<?, ?it/s]"
      ]
     },
     "metadata": {},
     "output_type": "display_data"
    },
    {
     "data": {
      "application/vnd.jupyter.widget-view+json": {
       "model_id": "b534a29a2f1c42a486e5a0581642c906",
       "version_major": 2,
       "version_minor": 0
      },
      "text/plain": [
       "Image (test):   0%|          | 0/45 [00:00<?, ?it/s]"
      ]
     },
     "metadata": {},
     "output_type": "display_data"
    },
    {
     "data": {
      "application/vnd.jupyter.widget-view+json": {
       "model_id": "4a6216c62127488eaeaa133843dc0ac6",
       "version_major": 2,
       "version_minor": 0
      },
      "text/plain": [
       "Image (train):   0%|          | 0/41 [00:00<?, ?it/s]"
      ]
     },
     "metadata": {},
     "output_type": "display_data"
    },
    {
     "data": {
      "application/vnd.jupyter.widget-view+json": {
       "model_id": "2e17ebff441a4df2b3b05fed965ed212",
       "version_major": 2,
       "version_minor": 0
      },
      "text/plain": [
       "Image (test):   0%|          | 0/41 [00:00<?, ?it/s]"
      ]
     },
     "metadata": {},
     "output_type": "display_data"
    },
    {
     "data": {
      "application/vnd.jupyter.widget-view+json": {
       "model_id": "7aa828c6e107452fadfde48350d541ff",
       "version_major": 2,
       "version_minor": 0
      },
      "text/plain": [
       "Image (train):   0%|          | 0/36 [00:00<?, ?it/s]"
      ]
     },
     "metadata": {},
     "output_type": "display_data"
    },
    {
     "data": {
      "application/vnd.jupyter.widget-view+json": {
       "model_id": "b018a3ee8c9a43958e35eb8284fb3681",
       "version_major": 2,
       "version_minor": 0
      },
      "text/plain": [
       "Image (test):   0%|          | 0/36 [00:00<?, ?it/s]"
      ]
     },
     "metadata": {},
     "output_type": "display_data"
    },
    {
     "data": {
      "application/vnd.jupyter.widget-view+json": {
       "model_id": "c3bcc44168fe4dbaab8958734bceeb89",
       "version_major": 2,
       "version_minor": 0
      },
      "text/plain": [
       "Image (train):   0%|          | 0/30 [00:00<?, ?it/s]"
      ]
     },
     "metadata": {},
     "output_type": "display_data"
    },
    {
     "data": {
      "application/vnd.jupyter.widget-view+json": {
       "model_id": "5c1c992f1c29474e93ec5117db878662",
       "version_major": 2,
       "version_minor": 0
      },
      "text/plain": [
       "Image (test):   0%|          | 0/30 [00:00<?, ?it/s]"
      ]
     },
     "metadata": {},
     "output_type": "display_data"
    },
    {
     "data": {
      "application/vnd.jupyter.widget-view+json": {
       "model_id": "47bfcaf79ff542d1ba06b449c848e72f",
       "version_major": 2,
       "version_minor": 0
      },
      "text/plain": [
       "Column:   0%|          | 0/7 [00:00<?, ?it/s]"
      ]
     },
     "metadata": {},
     "output_type": "display_data"
    },
    {
     "data": {
      "application/vnd.jupyter.widget-view+json": {
       "model_id": "ca37b7d6ca7945d882a00a24c3c478df",
       "version_major": 2,
       "version_minor": 0
      },
      "text/plain": [
       "Attempt:   0%|          | 0/10 [00:00<?, ?it/s]"
      ]
     },
     "metadata": {},
     "output_type": "display_data"
    },
    {
     "data": {
      "application/vnd.jupyter.widget-view+json": {
       "model_id": "1dee64cbbeb74aeab27c66a862dc9f75",
       "version_major": 2,
       "version_minor": 0
      },
      "text/plain": [
       "Image (train):   0%|          | 0/1000 [00:00<?, ?it/s]"
      ]
     },
     "metadata": {},
     "output_type": "display_data"
    },
    {
     "data": {
      "application/vnd.jupyter.widget-view+json": {
       "model_id": "9b78966dfc10477cb8ac20612345bc9c",
       "version_major": 2,
       "version_minor": 0
      },
      "text/plain": [
       "Image (test):   0%|          | 0/1000 [00:00<?, ?it/s]"
      ]
     },
     "metadata": {},
     "output_type": "display_data"
    },
    {
     "data": {
      "application/vnd.jupyter.widget-view+json": {
       "model_id": "7d5a02b7ce2a4dfbae07948c20c7608b",
       "version_major": 2,
       "version_minor": 0
      },
      "text/plain": [
       "Image (train):   0%|          | 0/34 [00:00<?, ?it/s]"
      ]
     },
     "metadata": {},
     "output_type": "display_data"
    },
    {
     "data": {
      "application/vnd.jupyter.widget-view+json": {
       "model_id": "2d8a18ecf666461a89ed9e67d6798d5c",
       "version_major": 2,
       "version_minor": 0
      },
      "text/plain": [
       "Image (test):   0%|          | 0/34 [00:00<?, ?it/s]"
      ]
     },
     "metadata": {},
     "output_type": "display_data"
    },
    {
     "data": {
      "application/vnd.jupyter.widget-view+json": {
       "model_id": "6fbbc5f773b7458c84153c64e19a743b",
       "version_major": 2,
       "version_minor": 0
      },
      "text/plain": [
       "Image (train):   0%|          | 0/27 [00:00<?, ?it/s]"
      ]
     },
     "metadata": {},
     "output_type": "display_data"
    },
    {
     "data": {
      "application/vnd.jupyter.widget-view+json": {
       "model_id": "6e1bd8cfd206493788fc3800d296812b",
       "version_major": 2,
       "version_minor": 0
      },
      "text/plain": [
       "Image (test):   0%|          | 0/27 [00:00<?, ?it/s]"
      ]
     },
     "metadata": {},
     "output_type": "display_data"
    },
    {
     "data": {
      "application/vnd.jupyter.widget-view+json": {
       "model_id": "617f40eea52d41edaccdcde130faa8ef",
       "version_major": 2,
       "version_minor": 0
      },
      "text/plain": [
       "Image (train):   0%|          | 0/18 [00:00<?, ?it/s]"
      ]
     },
     "metadata": {},
     "output_type": "display_data"
    },
    {
     "data": {
      "application/vnd.jupyter.widget-view+json": {
       "model_id": "c8b4fe8408dc41a897e9f7eaed9b38a1",
       "version_major": 2,
       "version_minor": 0
      },
      "text/plain": [
       "Image (test):   0%|          | 0/18 [00:00<?, ?it/s]"
      ]
     },
     "metadata": {},
     "output_type": "display_data"
    },
    {
     "data": {
      "application/vnd.jupyter.widget-view+json": {
       "model_id": "64bee427e93247fb99e6ffb0c6a8f168",
       "version_major": 2,
       "version_minor": 0
      },
      "text/plain": [
       "Image (train):   0%|          | 0/11 [00:00<?, ?it/s]"
      ]
     },
     "metadata": {},
     "output_type": "display_data"
    },
    {
     "data": {
      "application/vnd.jupyter.widget-view+json": {
       "model_id": "38c2b71db7eb44749435ac69c154377a",
       "version_major": 2,
       "version_minor": 0
      },
      "text/plain": [
       "Image (test):   0%|          | 0/11 [00:00<?, ?it/s]"
      ]
     },
     "metadata": {},
     "output_type": "display_data"
    },
    {
     "data": {
      "application/vnd.jupyter.widget-view+json": {
       "model_id": "4ae644efc2134dd69bbbb0eed394c1e9",
       "version_major": 2,
       "version_minor": 0
      },
      "text/plain": [
       "Image (train):   0%|          | 0/10 [00:00<?, ?it/s]"
      ]
     },
     "metadata": {},
     "output_type": "display_data"
    },
    {
     "data": {
      "application/vnd.jupyter.widget-view+json": {
       "model_id": "02c567f54b8d4f5e8d90f2d76e75e02a",
       "version_major": 2,
       "version_minor": 0
      },
      "text/plain": [
       "Image (test):   0%|          | 0/10 [00:00<?, ?it/s]"
      ]
     },
     "metadata": {},
     "output_type": "display_data"
    },
    {
     "data": {
      "application/vnd.jupyter.widget-view+json": {
       "model_id": "97058bbe71a44a4db316c91e301dbe26",
       "version_major": 2,
       "version_minor": 0
      },
      "text/plain": [
       "Image (train):   0%|          | 0/7 [00:00<?, ?it/s]"
      ]
     },
     "metadata": {},
     "output_type": "display_data"
    },
    {
     "data": {
      "application/vnd.jupyter.widget-view+json": {
       "model_id": "6e5f6e673df844c4bdb9c3794d5ceb4f",
       "version_major": 2,
       "version_minor": 0
      },
      "text/plain": [
       "Image (test):   0%|          | 0/7 [00:00<?, ?it/s]"
      ]
     },
     "metadata": {},
     "output_type": "display_data"
    },
    {
     "data": {
      "application/vnd.jupyter.widget-view+json": {
       "model_id": "8e00ff7e95264651a70fd52a5a4c04bf",
       "version_major": 2,
       "version_minor": 0
      },
      "text/plain": [
       "Image (train):   0%|          | 0/5 [00:00<?, ?it/s]"
      ]
     },
     "metadata": {},
     "output_type": "display_data"
    },
    {
     "data": {
      "application/vnd.jupyter.widget-view+json": {
       "model_id": "30502e0789cd460b9c6e1a7090df29f9",
       "version_major": 2,
       "version_minor": 0
      },
      "text/plain": [
       "Image (test):   0%|          | 0/5 [00:00<?, ?it/s]"
      ]
     },
     "metadata": {},
     "output_type": "display_data"
    },
    {
     "data": {
      "application/vnd.jupyter.widget-view+json": {
       "model_id": "70de32d877174dcbb0695d53b28963e8",
       "version_major": 2,
       "version_minor": 0
      },
      "text/plain": [
       "Image (train):   0%|          | 0/5 [00:00<?, ?it/s]"
      ]
     },
     "metadata": {},
     "output_type": "display_data"
    },
    {
     "data": {
      "application/vnd.jupyter.widget-view+json": {
       "model_id": "64ab400b9d4b47679b7b707cf054660b",
       "version_major": 2,
       "version_minor": 0
      },
      "text/plain": [
       "Image (test):   0%|          | 0/5 [00:00<?, ?it/s]"
      ]
     },
     "metadata": {},
     "output_type": "display_data"
    },
    {
     "data": {
      "application/vnd.jupyter.widget-view+json": {
       "model_id": "6a8e9e0054f84c2095edb5314782bc1f",
       "version_major": 2,
       "version_minor": 0
      },
      "text/plain": [
       "Image (train):   0%|          | 0/4 [00:00<?, ?it/s]"
      ]
     },
     "metadata": {},
     "output_type": "display_data"
    },
    {
     "data": {
      "application/vnd.jupyter.widget-view+json": {
       "model_id": "f8d96939e1174d03b28b4871ca803ed8",
       "version_major": 2,
       "version_minor": 0
      },
      "text/plain": [
       "Image (test):   0%|          | 0/4 [00:00<?, ?it/s]"
      ]
     },
     "metadata": {},
     "output_type": "display_data"
    },
    {
     "data": {
      "application/vnd.jupyter.widget-view+json": {
       "model_id": "68ede32b2d194478a1ecce7e43b40e66",
       "version_major": 2,
       "version_minor": 0
      },
      "text/plain": [
       "Attempt:   0%|          | 0/10 [00:00<?, ?it/s]"
      ]
     },
     "metadata": {},
     "output_type": "display_data"
    },
    {
     "data": {
      "application/vnd.jupyter.widget-view+json": {
       "model_id": "b2caa4a197d545bd893c6121922f8272",
       "version_major": 2,
       "version_minor": 0
      },
      "text/plain": [
       "Image (train):   0%|          | 0/1000 [00:00<?, ?it/s]"
      ]
     },
     "metadata": {},
     "output_type": "display_data"
    },
    {
     "data": {
      "application/vnd.jupyter.widget-view+json": {
       "model_id": "10dba21f855c4d72bf7de2558d493fcc",
       "version_major": 2,
       "version_minor": 0
      },
      "text/plain": [
       "Image (test):   0%|          | 0/1000 [00:00<?, ?it/s]"
      ]
     },
     "metadata": {},
     "output_type": "display_data"
    },
    {
     "data": {
      "application/vnd.jupyter.widget-view+json": {
       "model_id": "51f55aa7c8d647f0836747f5cbc5e3af",
       "version_major": 2,
       "version_minor": 0
      },
      "text/plain": [
       "Image (train):   0%|          | 0/116 [00:00<?, ?it/s]"
      ]
     },
     "metadata": {},
     "output_type": "display_data"
    },
    {
     "data": {
      "application/vnd.jupyter.widget-view+json": {
       "model_id": "d29767bb3ee74fce81f0af8d468e01b3",
       "version_major": 2,
       "version_minor": 0
      },
      "text/plain": [
       "Image (test):   0%|          | 0/116 [00:00<?, ?it/s]"
      ]
     },
     "metadata": {},
     "output_type": "display_data"
    },
    {
     "data": {
      "application/vnd.jupyter.widget-view+json": {
       "model_id": "1e3b43019dab469aab57c65b4ed632c6",
       "version_major": 2,
       "version_minor": 0
      },
      "text/plain": [
       "Image (train):   0%|          | 0/98 [00:00<?, ?it/s]"
      ]
     },
     "metadata": {},
     "output_type": "display_data"
    },
    {
     "data": {
      "application/vnd.jupyter.widget-view+json": {
       "model_id": "64ca819d5e2e44c095d475eddb68aa9e",
       "version_major": 2,
       "version_minor": 0
      },
      "text/plain": [
       "Image (test):   0%|          | 0/98 [00:00<?, ?it/s]"
      ]
     },
     "metadata": {},
     "output_type": "display_data"
    },
    {
     "data": {
      "application/vnd.jupyter.widget-view+json": {
       "model_id": "6c29c303734e4c8798508c497ff2878d",
       "version_major": 2,
       "version_minor": 0
      },
      "text/plain": [
       "Image (train):   0%|          | 0/88 [00:00<?, ?it/s]"
      ]
     },
     "metadata": {},
     "output_type": "display_data"
    },
    {
     "data": {
      "application/vnd.jupyter.widget-view+json": {
       "model_id": "bea83d808d2a47cfb6d5da0dc6e39e09",
       "version_major": 2,
       "version_minor": 0
      },
      "text/plain": [
       "Image (test):   0%|          | 0/88 [00:00<?, ?it/s]"
      ]
     },
     "metadata": {},
     "output_type": "display_data"
    },
    {
     "data": {
      "application/vnd.jupyter.widget-view+json": {
       "model_id": "dd3ce8b1efed4c61ab2b5794ab2e3e5a",
       "version_major": 2,
       "version_minor": 0
      },
      "text/plain": [
       "Image (train):   0%|          | 0/81 [00:00<?, ?it/s]"
      ]
     },
     "metadata": {},
     "output_type": "display_data"
    },
    {
     "data": {
      "application/vnd.jupyter.widget-view+json": {
       "model_id": "e090fc6b12534815a415b8003720b046",
       "version_major": 2,
       "version_minor": 0
      },
      "text/plain": [
       "Image (test):   0%|          | 0/81 [00:00<?, ?it/s]"
      ]
     },
     "metadata": {},
     "output_type": "display_data"
    },
    {
     "data": {
      "application/vnd.jupyter.widget-view+json": {
       "model_id": "a752c79ead2d403d8aed9770bdb10dee",
       "version_major": 2,
       "version_minor": 0
      },
      "text/plain": [
       "Image (train):   0%|          | 0/72 [00:00<?, ?it/s]"
      ]
     },
     "metadata": {},
     "output_type": "display_data"
    },
    {
     "data": {
      "application/vnd.jupyter.widget-view+json": {
       "model_id": "18f2e32d92d748da826086c201bbfc62",
       "version_major": 2,
       "version_minor": 0
      },
      "text/plain": [
       "Image (test):   0%|          | 0/72 [00:00<?, ?it/s]"
      ]
     },
     "metadata": {},
     "output_type": "display_data"
    },
    {
     "data": {
      "application/vnd.jupyter.widget-view+json": {
       "model_id": "a5a57447d4ec45b78960b10e8206dff4",
       "version_major": 2,
       "version_minor": 0
      },
      "text/plain": [
       "Image (train):   0%|          | 0/69 [00:00<?, ?it/s]"
      ]
     },
     "metadata": {},
     "output_type": "display_data"
    },
    {
     "data": {
      "application/vnd.jupyter.widget-view+json": {
       "model_id": "ecaa1ed05f444712a36967db0a25ce36",
       "version_major": 2,
       "version_minor": 0
      },
      "text/plain": [
       "Image (test):   0%|          | 0/69 [00:00<?, ?it/s]"
      ]
     },
     "metadata": {},
     "output_type": "display_data"
    },
    {
     "data": {
      "application/vnd.jupyter.widget-view+json": {
       "model_id": "e8b8611362474963a3c2d894f065df11",
       "version_major": 2,
       "version_minor": 0
      },
      "text/plain": [
       "Image (train):   0%|          | 0/62 [00:00<?, ?it/s]"
      ]
     },
     "metadata": {},
     "output_type": "display_data"
    },
    {
     "data": {
      "application/vnd.jupyter.widget-view+json": {
       "model_id": "4a85c7d5ccce497ebbbe8c34f90c13c3",
       "version_major": 2,
       "version_minor": 0
      },
      "text/plain": [
       "Image (test):   0%|          | 0/62 [00:00<?, ?it/s]"
      ]
     },
     "metadata": {},
     "output_type": "display_data"
    },
    {
     "data": {
      "application/vnd.jupyter.widget-view+json": {
       "model_id": "4cdfef3db62a4753aaaa1e3498cc2937",
       "version_major": 2,
       "version_minor": 0
      },
      "text/plain": [
       "Image (train):   0%|          | 0/54 [00:00<?, ?it/s]"
      ]
     },
     "metadata": {},
     "output_type": "display_data"
    },
    {
     "data": {
      "application/vnd.jupyter.widget-view+json": {
       "model_id": "ab3e00227fba46b6a868658fa8dba69e",
       "version_major": 2,
       "version_minor": 0
      },
      "text/plain": [
       "Image (test):   0%|          | 0/54 [00:00<?, ?it/s]"
      ]
     },
     "metadata": {},
     "output_type": "display_data"
    },
    {
     "data": {
      "application/vnd.jupyter.widget-view+json": {
       "model_id": "9a8717b8344f4254a4324470a42e9861",
       "version_major": 2,
       "version_minor": 0
      },
      "text/plain": [
       "Image (train):   0%|          | 0/42 [00:00<?, ?it/s]"
      ]
     },
     "metadata": {},
     "output_type": "display_data"
    },
    {
     "data": {
      "application/vnd.jupyter.widget-view+json": {
       "model_id": "8a69b04dc9b84eea9bd2f41e8f3b5891",
       "version_major": 2,
       "version_minor": 0
      },
      "text/plain": [
       "Image (test):   0%|          | 0/42 [00:00<?, ?it/s]"
      ]
     },
     "metadata": {},
     "output_type": "display_data"
    },
    {
     "data": {
      "application/vnd.jupyter.widget-view+json": {
       "model_id": "6aea9ba1791b4db6bce69e6e8546b8e9",
       "version_major": 2,
       "version_minor": 0
      },
      "text/plain": [
       "Attempt:   0%|          | 0/10 [00:00<?, ?it/s]"
      ]
     },
     "metadata": {},
     "output_type": "display_data"
    },
    {
     "data": {
      "application/vnd.jupyter.widget-view+json": {
       "model_id": "e078cce3765d4b2f8b4d245d33bd904b",
       "version_major": 2,
       "version_minor": 0
      },
      "text/plain": [
       "Image (train):   0%|          | 0/1000 [00:00<?, ?it/s]"
      ]
     },
     "metadata": {},
     "output_type": "display_data"
    },
    {
     "data": {
      "application/vnd.jupyter.widget-view+json": {
       "model_id": "8006cbcd63864e7e8a6870b4c62ba7fb",
       "version_major": 2,
       "version_minor": 0
      },
      "text/plain": [
       "Image (test):   0%|          | 0/1000 [00:00<?, ?it/s]"
      ]
     },
     "metadata": {},
     "output_type": "display_data"
    },
    {
     "data": {
      "application/vnd.jupyter.widget-view+json": {
       "model_id": "d4baed9fe5924cc2b71ea056229e2cde",
       "version_major": 2,
       "version_minor": 0
      },
      "text/plain": [
       "Image (train):   0%|          | 0/109 [00:00<?, ?it/s]"
      ]
     },
     "metadata": {},
     "output_type": "display_data"
    },
    {
     "data": {
      "application/vnd.jupyter.widget-view+json": {
       "model_id": "6e134fc1004e48bab30b10f47ae89cf0",
       "version_major": 2,
       "version_minor": 0
      },
      "text/plain": [
       "Image (test):   0%|          | 0/109 [00:00<?, ?it/s]"
      ]
     },
     "metadata": {},
     "output_type": "display_data"
    },
    {
     "data": {
      "application/vnd.jupyter.widget-view+json": {
       "model_id": "a03a516301cb4d90a1b748deb2dd3588",
       "version_major": 2,
       "version_minor": 0
      },
      "text/plain": [
       "Image (train):   0%|          | 0/86 [00:00<?, ?it/s]"
      ]
     },
     "metadata": {},
     "output_type": "display_data"
    },
    {
     "data": {
      "application/vnd.jupyter.widget-view+json": {
       "model_id": "e221fdf74d4846a790ff5190a0fe0073",
       "version_major": 2,
       "version_minor": 0
      },
      "text/plain": [
       "Image (test):   0%|          | 0/86 [00:00<?, ?it/s]"
      ]
     },
     "metadata": {},
     "output_type": "display_data"
    },
    {
     "data": {
      "application/vnd.jupyter.widget-view+json": {
       "model_id": "80017c89e29845348590a16c56245c45",
       "version_major": 2,
       "version_minor": 0
      },
      "text/plain": [
       "Image (train):   0%|          | 0/75 [00:00<?, ?it/s]"
      ]
     },
     "metadata": {},
     "output_type": "display_data"
    },
    {
     "data": {
      "application/vnd.jupyter.widget-view+json": {
       "model_id": "5656c6371aa04cbe98946efabd8f3c0a",
       "version_major": 2,
       "version_minor": 0
      },
      "text/plain": [
       "Image (test):   0%|          | 0/75 [00:00<?, ?it/s]"
      ]
     },
     "metadata": {},
     "output_type": "display_data"
    },
    {
     "data": {
      "application/vnd.jupyter.widget-view+json": {
       "model_id": "046239009fa3488fbbf39f8d91e28409",
       "version_major": 2,
       "version_minor": 0
      },
      "text/plain": [
       "Image (train):   0%|          | 0/61 [00:00<?, ?it/s]"
      ]
     },
     "metadata": {},
     "output_type": "display_data"
    },
    {
     "data": {
      "application/vnd.jupyter.widget-view+json": {
       "model_id": "0f7c288f3122474eaf91352cb6edff54",
       "version_major": 2,
       "version_minor": 0
      },
      "text/plain": [
       "Image (test):   0%|          | 0/61 [00:00<?, ?it/s]"
      ]
     },
     "metadata": {},
     "output_type": "display_data"
    },
    {
     "data": {
      "application/vnd.jupyter.widget-view+json": {
       "model_id": "5a05db476804421693df09862e0b4687",
       "version_major": 2,
       "version_minor": 0
      },
      "text/plain": [
       "Image (train):   0%|          | 0/54 [00:00<?, ?it/s]"
      ]
     },
     "metadata": {},
     "output_type": "display_data"
    },
    {
     "data": {
      "application/vnd.jupyter.widget-view+json": {
       "model_id": "e1adb70f2b4d483cbef47aa6ee344b92",
       "version_major": 2,
       "version_minor": 0
      },
      "text/plain": [
       "Image (test):   0%|          | 0/54 [00:00<?, ?it/s]"
      ]
     },
     "metadata": {},
     "output_type": "display_data"
    },
    {
     "data": {
      "application/vnd.jupyter.widget-view+json": {
       "model_id": "bf2148c0de8544feadce4a3e4b91a572",
       "version_major": 2,
       "version_minor": 0
      },
      "text/plain": [
       "Image (train):   0%|          | 0/49 [00:00<?, ?it/s]"
      ]
     },
     "metadata": {},
     "output_type": "display_data"
    },
    {
     "data": {
      "application/vnd.jupyter.widget-view+json": {
       "model_id": "27ae70544f474229b3bde0fd7d31b483",
       "version_major": 2,
       "version_minor": 0
      },
      "text/plain": [
       "Image (test):   0%|          | 0/49 [00:00<?, ?it/s]"
      ]
     },
     "metadata": {},
     "output_type": "display_data"
    },
    {
     "data": {
      "application/vnd.jupyter.widget-view+json": {
       "model_id": "206bf892e0cf438da57af38aa346ce0a",
       "version_major": 2,
       "version_minor": 0
      },
      "text/plain": [
       "Image (train):   0%|          | 0/42 [00:00<?, ?it/s]"
      ]
     },
     "metadata": {},
     "output_type": "display_data"
    },
    {
     "data": {
      "application/vnd.jupyter.widget-view+json": {
       "model_id": "39bcd109e4f4452aa1916cd57e65313b",
       "version_major": 2,
       "version_minor": 0
      },
      "text/plain": [
       "Image (test):   0%|          | 0/42 [00:00<?, ?it/s]"
      ]
     },
     "metadata": {},
     "output_type": "display_data"
    },
    {
     "data": {
      "application/vnd.jupyter.widget-view+json": {
       "model_id": "0710b58701434075bea39c8d81604392",
       "version_major": 2,
       "version_minor": 0
      },
      "text/plain": [
       "Image (train):   0%|          | 0/38 [00:00<?, ?it/s]"
      ]
     },
     "metadata": {},
     "output_type": "display_data"
    },
    {
     "data": {
      "application/vnd.jupyter.widget-view+json": {
       "model_id": "e3a2da9c522d4f37bba409e0fa2a7501",
       "version_major": 2,
       "version_minor": 0
      },
      "text/plain": [
       "Image (test):   0%|          | 0/38 [00:00<?, ?it/s]"
      ]
     },
     "metadata": {},
     "output_type": "display_data"
    },
    {
     "data": {
      "application/vnd.jupyter.widget-view+json": {
       "model_id": "07484d73ad434315b45101bbf869533e",
       "version_major": 2,
       "version_minor": 0
      },
      "text/plain": [
       "Image (train):   0%|          | 0/27 [00:00<?, ?it/s]"
      ]
     },
     "metadata": {},
     "output_type": "display_data"
    },
    {
     "data": {
      "application/vnd.jupyter.widget-view+json": {
       "model_id": "d42217dc66c4463fb340c6644b6fef2f",
       "version_major": 2,
       "version_minor": 0
      },
      "text/plain": [
       "Image (test):   0%|          | 0/27 [00:00<?, ?it/s]"
      ]
     },
     "metadata": {},
     "output_type": "display_data"
    },
    {
     "data": {
      "application/vnd.jupyter.widget-view+json": {
       "model_id": "96647df78ecc4b029596ee6f98e03072",
       "version_major": 2,
       "version_minor": 0
      },
      "text/plain": [
       "Attempt:   0%|          | 0/10 [00:00<?, ?it/s]"
      ]
     },
     "metadata": {},
     "output_type": "display_data"
    },
    {
     "data": {
      "application/vnd.jupyter.widget-view+json": {
       "model_id": "0540f4344acb4502b3dc8a04dbc636e7",
       "version_major": 2,
       "version_minor": 0
      },
      "text/plain": [
       "Image (train):   0%|          | 0/1000 [00:00<?, ?it/s]"
      ]
     },
     "metadata": {},
     "output_type": "display_data"
    },
    {
     "data": {
      "application/vnd.jupyter.widget-view+json": {
       "model_id": "204b678169004be4957178a8cc05a439",
       "version_major": 2,
       "version_minor": 0
      },
      "text/plain": [
       "Image (test):   0%|          | 0/1000 [00:00<?, ?it/s]"
      ]
     },
     "metadata": {},
     "output_type": "display_data"
    },
    {
     "data": {
      "application/vnd.jupyter.widget-view+json": {
       "model_id": "fb7f30c38de940f69f7c7d77343d57d6",
       "version_major": 2,
       "version_minor": 0
      },
      "text/plain": [
       "Image (train):   0%|          | 0/108 [00:00<?, ?it/s]"
      ]
     },
     "metadata": {},
     "output_type": "display_data"
    },
    {
     "data": {
      "application/vnd.jupyter.widget-view+json": {
       "model_id": "7b7d7826b24147b697be6499f934fb89",
       "version_major": 2,
       "version_minor": 0
      },
      "text/plain": [
       "Image (test):   0%|          | 0/108 [00:00<?, ?it/s]"
      ]
     },
     "metadata": {},
     "output_type": "display_data"
    },
    {
     "data": {
      "application/vnd.jupyter.widget-view+json": {
       "model_id": "903d2320d55045cd85151e557da63619",
       "version_major": 2,
       "version_minor": 0
      },
      "text/plain": [
       "Image (train):   0%|          | 0/87 [00:00<?, ?it/s]"
      ]
     },
     "metadata": {},
     "output_type": "display_data"
    },
    {
     "data": {
      "application/vnd.jupyter.widget-view+json": {
       "model_id": "eeeba19f562f4f1bbbcb892f82f93668",
       "version_major": 2,
       "version_minor": 0
      },
      "text/plain": [
       "Image (test):   0%|          | 0/87 [00:00<?, ?it/s]"
      ]
     },
     "metadata": {},
     "output_type": "display_data"
    },
    {
     "data": {
      "application/vnd.jupyter.widget-view+json": {
       "model_id": "562925689e7f424abff31486918eed34",
       "version_major": 2,
       "version_minor": 0
      },
      "text/plain": [
       "Image (train):   0%|          | 0/71 [00:00<?, ?it/s]"
      ]
     },
     "metadata": {},
     "output_type": "display_data"
    },
    {
     "data": {
      "application/vnd.jupyter.widget-view+json": {
       "model_id": "b420ab5f14ab40d38f6f101cd9884b5b",
       "version_major": 2,
       "version_minor": 0
      },
      "text/plain": [
       "Image (test):   0%|          | 0/71 [00:00<?, ?it/s]"
      ]
     },
     "metadata": {},
     "output_type": "display_data"
    },
    {
     "data": {
      "application/vnd.jupyter.widget-view+json": {
       "model_id": "7a6524320098498e9cabb3eef33a0461",
       "version_major": 2,
       "version_minor": 0
      },
      "text/plain": [
       "Image (train):   0%|          | 0/56 [00:00<?, ?it/s]"
      ]
     },
     "metadata": {},
     "output_type": "display_data"
    },
    {
     "data": {
      "application/vnd.jupyter.widget-view+json": {
       "model_id": "1f72250a9f4b4ee0a3e12ad9daa90120",
       "version_major": 2,
       "version_minor": 0
      },
      "text/plain": [
       "Image (test):   0%|          | 0/56 [00:00<?, ?it/s]"
      ]
     },
     "metadata": {},
     "output_type": "display_data"
    },
    {
     "data": {
      "application/vnd.jupyter.widget-view+json": {
       "model_id": "c0e004a9a0d24b8a810f643508b2982b",
       "version_major": 2,
       "version_minor": 0
      },
      "text/plain": [
       "Image (train):   0%|          | 0/44 [00:00<?, ?it/s]"
      ]
     },
     "metadata": {},
     "output_type": "display_data"
    },
    {
     "data": {
      "application/vnd.jupyter.widget-view+json": {
       "model_id": "ca5745ed50fc4e2f8773c121277f5355",
       "version_major": 2,
       "version_minor": 0
      },
      "text/plain": [
       "Image (test):   0%|          | 0/44 [00:00<?, ?it/s]"
      ]
     },
     "metadata": {},
     "output_type": "display_data"
    },
    {
     "data": {
      "application/vnd.jupyter.widget-view+json": {
       "model_id": "5593050dd5ae465ebb937ce47b1d8f95",
       "version_major": 2,
       "version_minor": 0
      },
      "text/plain": [
       "Image (train):   0%|          | 0/36 [00:00<?, ?it/s]"
      ]
     },
     "metadata": {},
     "output_type": "display_data"
    },
    {
     "data": {
      "application/vnd.jupyter.widget-view+json": {
       "model_id": "49affce7e7c04ee893b9955dbbea792d",
       "version_major": 2,
       "version_minor": 0
      },
      "text/plain": [
       "Image (test):   0%|          | 0/36 [00:00<?, ?it/s]"
      ]
     },
     "metadata": {},
     "output_type": "display_data"
    },
    {
     "data": {
      "application/vnd.jupyter.widget-view+json": {
       "model_id": "5e5e91aae8a948d9a668a4355e22f74b",
       "version_major": 2,
       "version_minor": 0
      },
      "text/plain": [
       "Image (train):   0%|          | 0/31 [00:00<?, ?it/s]"
      ]
     },
     "metadata": {},
     "output_type": "display_data"
    },
    {
     "data": {
      "application/vnd.jupyter.widget-view+json": {
       "model_id": "ebfbeede894a4bd6ae6b72bec897daac",
       "version_major": 2,
       "version_minor": 0
      },
      "text/plain": [
       "Image (test):   0%|          | 0/31 [00:00<?, ?it/s]"
      ]
     },
     "metadata": {},
     "output_type": "display_data"
    },
    {
     "data": {
      "application/vnd.jupyter.widget-view+json": {
       "model_id": "21132d618f964eb5bfdeee853797eef9",
       "version_major": 2,
       "version_minor": 0
      },
      "text/plain": [
       "Image (train):   0%|          | 0/27 [00:00<?, ?it/s]"
      ]
     },
     "metadata": {},
     "output_type": "display_data"
    },
    {
     "data": {
      "application/vnd.jupyter.widget-view+json": {
       "model_id": "f0527e87dd344f83a567a404f8b4af22",
       "version_major": 2,
       "version_minor": 0
      },
      "text/plain": [
       "Image (test):   0%|          | 0/27 [00:00<?, ?it/s]"
      ]
     },
     "metadata": {},
     "output_type": "display_data"
    },
    {
     "data": {
      "application/vnd.jupyter.widget-view+json": {
       "model_id": "9c6c585f36274cdebbad4c8720bde6a6",
       "version_major": 2,
       "version_minor": 0
      },
      "text/plain": [
       "Image (train):   0%|          | 0/21 [00:00<?, ?it/s]"
      ]
     },
     "metadata": {},
     "output_type": "display_data"
    },
    {
     "data": {
      "application/vnd.jupyter.widget-view+json": {
       "model_id": "2995062f17ea4fc6a05f33b79ad6c63c",
       "version_major": 2,
       "version_minor": 0
      },
      "text/plain": [
       "Image (test):   0%|          | 0/21 [00:00<?, ?it/s]"
      ]
     },
     "metadata": {},
     "output_type": "display_data"
    },
    {
     "data": {
      "application/vnd.jupyter.widget-view+json": {
       "model_id": "920c56b589664b6c86f3ac497f9d99bd",
       "version_major": 2,
       "version_minor": 0
      },
      "text/plain": [
       "Attempt:   0%|          | 0/10 [00:00<?, ?it/s]"
      ]
     },
     "metadata": {},
     "output_type": "display_data"
    },
    {
     "data": {
      "application/vnd.jupyter.widget-view+json": {
       "model_id": "630038ec26ff4a3eb0031a98f2f9ed49",
       "version_major": 2,
       "version_minor": 0
      },
      "text/plain": [
       "Image (train):   0%|          | 0/1000 [00:00<?, ?it/s]"
      ]
     },
     "metadata": {},
     "output_type": "display_data"
    },
    {
     "data": {
      "application/vnd.jupyter.widget-view+json": {
       "model_id": "70572eb5abdc4f33b3a058fbf3491bf2",
       "version_major": 2,
       "version_minor": 0
      },
      "text/plain": [
       "Image (test):   0%|          | 0/1000 [00:00<?, ?it/s]"
      ]
     },
     "metadata": {},
     "output_type": "display_data"
    },
    {
     "data": {
      "application/vnd.jupyter.widget-view+json": {
       "model_id": "79ea8d58675147cdbfb498629fb0bf3d",
       "version_major": 2,
       "version_minor": 0
      },
      "text/plain": [
       "Image (train):   0%|          | 0/91 [00:00<?, ?it/s]"
      ]
     },
     "metadata": {},
     "output_type": "display_data"
    },
    {
     "data": {
      "application/vnd.jupyter.widget-view+json": {
       "model_id": "4a4351717a494811b600a063af4daeb0",
       "version_major": 2,
       "version_minor": 0
      },
      "text/plain": [
       "Image (test):   0%|          | 0/91 [00:00<?, ?it/s]"
      ]
     },
     "metadata": {},
     "output_type": "display_data"
    },
    {
     "data": {
      "application/vnd.jupyter.widget-view+json": {
       "model_id": "0b3260f3d3344c54827d864fee58d15b",
       "version_major": 2,
       "version_minor": 0
      },
      "text/plain": [
       "Image (train):   0%|          | 0/74 [00:00<?, ?it/s]"
      ]
     },
     "metadata": {},
     "output_type": "display_data"
    },
    {
     "data": {
      "application/vnd.jupyter.widget-view+json": {
       "model_id": "b676be233f4e4548b308b5319cde52f5",
       "version_major": 2,
       "version_minor": 0
      },
      "text/plain": [
       "Image (test):   0%|          | 0/74 [00:00<?, ?it/s]"
      ]
     },
     "metadata": {},
     "output_type": "display_data"
    },
    {
     "data": {
      "application/vnd.jupyter.widget-view+json": {
       "model_id": "f219f088f2be448fad09777782084773",
       "version_major": 2,
       "version_minor": 0
      },
      "text/plain": [
       "Image (train):   0%|          | 0/63 [00:00<?, ?it/s]"
      ]
     },
     "metadata": {},
     "output_type": "display_data"
    },
    {
     "data": {
      "application/vnd.jupyter.widget-view+json": {
       "model_id": "813bb5f2830649a8a538d64f38ab8dae",
       "version_major": 2,
       "version_minor": 0
      },
      "text/plain": [
       "Image (test):   0%|          | 0/63 [00:00<?, ?it/s]"
      ]
     },
     "metadata": {},
     "output_type": "display_data"
    },
    {
     "data": {
      "application/vnd.jupyter.widget-view+json": {
       "model_id": "f2061bc3d6934a8e971f1fd587e220ae",
       "version_major": 2,
       "version_minor": 0
      },
      "text/plain": [
       "Image (train):   0%|          | 0/54 [00:00<?, ?it/s]"
      ]
     },
     "metadata": {},
     "output_type": "display_data"
    },
    {
     "data": {
      "application/vnd.jupyter.widget-view+json": {
       "model_id": "f7b5ce5b16ee4ff5ad288d99a1f1564b",
       "version_major": 2,
       "version_minor": 0
      },
      "text/plain": [
       "Image (test):   0%|          | 0/54 [00:00<?, ?it/s]"
      ]
     },
     "metadata": {},
     "output_type": "display_data"
    },
    {
     "data": {
      "application/vnd.jupyter.widget-view+json": {
       "model_id": "a691789018c24e2bb6c913e73dc650f1",
       "version_major": 2,
       "version_minor": 0
      },
      "text/plain": [
       "Image (train):   0%|          | 0/50 [00:00<?, ?it/s]"
      ]
     },
     "metadata": {},
     "output_type": "display_data"
    },
    {
     "data": {
      "application/vnd.jupyter.widget-view+json": {
       "model_id": "5380c8a5b9234f449ad9aee1f6239ebb",
       "version_major": 2,
       "version_minor": 0
      },
      "text/plain": [
       "Image (test):   0%|          | 0/50 [00:00<?, ?it/s]"
      ]
     },
     "metadata": {},
     "output_type": "display_data"
    },
    {
     "data": {
      "application/vnd.jupyter.widget-view+json": {
       "model_id": "0ae451e771b94484b24e75ad151b3f87",
       "version_major": 2,
       "version_minor": 0
      },
      "text/plain": [
       "Image (train):   0%|          | 0/43 [00:00<?, ?it/s]"
      ]
     },
     "metadata": {},
     "output_type": "display_data"
    },
    {
     "data": {
      "application/vnd.jupyter.widget-view+json": {
       "model_id": "9702829ccca8453fbdc67ad0b8def003",
       "version_major": 2,
       "version_minor": 0
      },
      "text/plain": [
       "Image (test):   0%|          | 0/43 [00:00<?, ?it/s]"
      ]
     },
     "metadata": {},
     "output_type": "display_data"
    },
    {
     "data": {
      "application/vnd.jupyter.widget-view+json": {
       "model_id": "562aa7623b134fd1acdc71f797830f2f",
       "version_major": 2,
       "version_minor": 0
      },
      "text/plain": [
       "Image (train):   0%|          | 0/33 [00:00<?, ?it/s]"
      ]
     },
     "metadata": {},
     "output_type": "display_data"
    },
    {
     "data": {
      "application/vnd.jupyter.widget-view+json": {
       "model_id": "a82136cf0bbc4192b65cb6775a4f6a12",
       "version_major": 2,
       "version_minor": 0
      },
      "text/plain": [
       "Image (test):   0%|          | 0/33 [00:00<?, ?it/s]"
      ]
     },
     "metadata": {},
     "output_type": "display_data"
    },
    {
     "data": {
      "application/vnd.jupyter.widget-view+json": {
       "model_id": "7a289efc16364bd59e4452abdb531bc8",
       "version_major": 2,
       "version_minor": 0
      },
      "text/plain": [
       "Image (train):   0%|          | 0/28 [00:00<?, ?it/s]"
      ]
     },
     "metadata": {},
     "output_type": "display_data"
    },
    {
     "data": {
      "application/vnd.jupyter.widget-view+json": {
       "model_id": "2839cf8cc26a4035a57c1b66a3485e2d",
       "version_major": 2,
       "version_minor": 0
      },
      "text/plain": [
       "Image (test):   0%|          | 0/28 [00:00<?, ?it/s]"
      ]
     },
     "metadata": {},
     "output_type": "display_data"
    },
    {
     "data": {
      "application/vnd.jupyter.widget-view+json": {
       "model_id": "cc55101f29d54735bbde66843e931592",
       "version_major": 2,
       "version_minor": 0
      },
      "text/plain": [
       "Image (train):   0%|          | 0/23 [00:00<?, ?it/s]"
      ]
     },
     "metadata": {},
     "output_type": "display_data"
    },
    {
     "data": {
      "application/vnd.jupyter.widget-view+json": {
       "model_id": "c33a9d4f240642688d1dd5e148cde053",
       "version_major": 2,
       "version_minor": 0
      },
      "text/plain": [
       "Image (test):   0%|          | 0/23 [00:00<?, ?it/s]"
      ]
     },
     "metadata": {},
     "output_type": "display_data"
    },
    {
     "data": {
      "application/vnd.jupyter.widget-view+json": {
       "model_id": "8e7e10e762c3441b99ac07c730edf624",
       "version_major": 2,
       "version_minor": 0
      },
      "text/plain": [
       "Attempt:   0%|          | 0/10 [00:00<?, ?it/s]"
      ]
     },
     "metadata": {},
     "output_type": "display_data"
    },
    {
     "data": {
      "application/vnd.jupyter.widget-view+json": {
       "model_id": "4f04dab40b6241a48bd0ba56428b5f4d",
       "version_major": 2,
       "version_minor": 0
      },
      "text/plain": [
       "Image (train):   0%|          | 0/1000 [00:00<?, ?it/s]"
      ]
     },
     "metadata": {},
     "output_type": "display_data"
    },
    {
     "data": {
      "application/vnd.jupyter.widget-view+json": {
       "model_id": "f88f5ac0021646c18d48b8a14c9b069d",
       "version_major": 2,
       "version_minor": 0
      },
      "text/plain": [
       "Image (test):   0%|          | 0/1000 [00:00<?, ?it/s]"
      ]
     },
     "metadata": {},
     "output_type": "display_data"
    },
    {
     "data": {
      "application/vnd.jupyter.widget-view+json": {
       "model_id": "e8e3316f8e8c4b9380a721001ad4a2fd",
       "version_major": 2,
       "version_minor": 0
      },
      "text/plain": [
       "Image (train):   0%|          | 0/119 [00:00<?, ?it/s]"
      ]
     },
     "metadata": {},
     "output_type": "display_data"
    },
    {
     "data": {
      "application/vnd.jupyter.widget-view+json": {
       "model_id": "e386a931abc54605aa067f2b435a7243",
       "version_major": 2,
       "version_minor": 0
      },
      "text/plain": [
       "Image (test):   0%|          | 0/119 [00:00<?, ?it/s]"
      ]
     },
     "metadata": {},
     "output_type": "display_data"
    },
    {
     "data": {
      "application/vnd.jupyter.widget-view+json": {
       "model_id": "7e57154a023344d797123ac3fedf19fc",
       "version_major": 2,
       "version_minor": 0
      },
      "text/plain": [
       "Image (train):   0%|          | 0/97 [00:00<?, ?it/s]"
      ]
     },
     "metadata": {},
     "output_type": "display_data"
    },
    {
     "data": {
      "application/vnd.jupyter.widget-view+json": {
       "model_id": "97c2bba5b66649d5aef43be808365d5f",
       "version_major": 2,
       "version_minor": 0
      },
      "text/plain": [
       "Image (test):   0%|          | 0/97 [00:00<?, ?it/s]"
      ]
     },
     "metadata": {},
     "output_type": "display_data"
    },
    {
     "data": {
      "application/vnd.jupyter.widget-view+json": {
       "model_id": "365ba5816dd542749b357e00a2395aec",
       "version_major": 2,
       "version_minor": 0
      },
      "text/plain": [
       "Image (train):   0%|          | 0/87 [00:00<?, ?it/s]"
      ]
     },
     "metadata": {},
     "output_type": "display_data"
    },
    {
     "data": {
      "application/vnd.jupyter.widget-view+json": {
       "model_id": "2078d0e353b34e07b6b5f13d0d8db473",
       "version_major": 2,
       "version_minor": 0
      },
      "text/plain": [
       "Image (test):   0%|          | 0/87 [00:00<?, ?it/s]"
      ]
     },
     "metadata": {},
     "output_type": "display_data"
    },
    {
     "data": {
      "application/vnd.jupyter.widget-view+json": {
       "model_id": "9fd8d938812c46cb9294141a139fd940",
       "version_major": 2,
       "version_minor": 0
      },
      "text/plain": [
       "Image (train):   0%|          | 0/67 [00:00<?, ?it/s]"
      ]
     },
     "metadata": {},
     "output_type": "display_data"
    },
    {
     "data": {
      "application/vnd.jupyter.widget-view+json": {
       "model_id": "94c7260383344ff9b5e951a57f4a11e5",
       "version_major": 2,
       "version_minor": 0
      },
      "text/plain": [
       "Image (test):   0%|          | 0/67 [00:00<?, ?it/s]"
      ]
     },
     "metadata": {},
     "output_type": "display_data"
    },
    {
     "data": {
      "application/vnd.jupyter.widget-view+json": {
       "model_id": "8e85d2f130cb47118e336a4dd48c061b",
       "version_major": 2,
       "version_minor": 0
      },
      "text/plain": [
       "Image (train):   0%|          | 0/59 [00:00<?, ?it/s]"
      ]
     },
     "metadata": {},
     "output_type": "display_data"
    },
    {
     "data": {
      "application/vnd.jupyter.widget-view+json": {
       "model_id": "f5471c9543024009a5c0443fd7696439",
       "version_major": 2,
       "version_minor": 0
      },
      "text/plain": [
       "Image (test):   0%|          | 0/59 [00:00<?, ?it/s]"
      ]
     },
     "metadata": {},
     "output_type": "display_data"
    },
    {
     "data": {
      "application/vnd.jupyter.widget-view+json": {
       "model_id": "6aa98dbbe1af4dea86195aa2ce3c578d",
       "version_major": 2,
       "version_minor": 0
      },
      "text/plain": [
       "Image (train):   0%|          | 0/47 [00:00<?, ?it/s]"
      ]
     },
     "metadata": {},
     "output_type": "display_data"
    },
    {
     "data": {
      "application/vnd.jupyter.widget-view+json": {
       "model_id": "79bcb44ea6244512ae5c20b674252cb0",
       "version_major": 2,
       "version_minor": 0
      },
      "text/plain": [
       "Image (test):   0%|          | 0/47 [00:00<?, ?it/s]"
      ]
     },
     "metadata": {},
     "output_type": "display_data"
    },
    {
     "data": {
      "application/vnd.jupyter.widget-view+json": {
       "model_id": "16533e0567014bdda49001d5229c403d",
       "version_major": 2,
       "version_minor": 0
      },
      "text/plain": [
       "Image (train):   0%|          | 0/42 [00:00<?, ?it/s]"
      ]
     },
     "metadata": {},
     "output_type": "display_data"
    },
    {
     "data": {
      "application/vnd.jupyter.widget-view+json": {
       "model_id": "11916c7bdd1a42d2afae9c129d66a49f",
       "version_major": 2,
       "version_minor": 0
      },
      "text/plain": [
       "Image (test):   0%|          | 0/42 [00:00<?, ?it/s]"
      ]
     },
     "metadata": {},
     "output_type": "display_data"
    },
    {
     "data": {
      "application/vnd.jupyter.widget-view+json": {
       "model_id": "eb1580c2c9b444c4ace082031aa98f20",
       "version_major": 2,
       "version_minor": 0
      },
      "text/plain": [
       "Image (train):   0%|          | 0/34 [00:00<?, ?it/s]"
      ]
     },
     "metadata": {},
     "output_type": "display_data"
    },
    {
     "data": {
      "application/vnd.jupyter.widget-view+json": {
       "model_id": "2d2cba84ace64644970dd292e87a0e62",
       "version_major": 2,
       "version_minor": 0
      },
      "text/plain": [
       "Image (test):   0%|          | 0/34 [00:00<?, ?it/s]"
      ]
     },
     "metadata": {},
     "output_type": "display_data"
    },
    {
     "data": {
      "application/vnd.jupyter.widget-view+json": {
       "model_id": "d2124167e42c40ec9b0794fffebcac03",
       "version_major": 2,
       "version_minor": 0
      },
      "text/plain": [
       "Image (train):   0%|          | 0/26 [00:00<?, ?it/s]"
      ]
     },
     "metadata": {},
     "output_type": "display_data"
    },
    {
     "data": {
      "application/vnd.jupyter.widget-view+json": {
       "model_id": "68c1d6b97dff42ef91c6e8aa6a099a49",
       "version_major": 2,
       "version_minor": 0
      },
      "text/plain": [
       "Image (test):   0%|          | 0/26 [00:00<?, ?it/s]"
      ]
     },
     "metadata": {},
     "output_type": "display_data"
    },
    {
     "data": {
      "application/vnd.jupyter.widget-view+json": {
       "model_id": "71fb00f1303847668f7f9d6d433861b0",
       "version_major": 2,
       "version_minor": 0
      },
      "text/plain": [
       "Attempt:   0%|          | 0/10 [00:00<?, ?it/s]"
      ]
     },
     "metadata": {},
     "output_type": "display_data"
    },
    {
     "data": {
      "application/vnd.jupyter.widget-view+json": {
       "model_id": "90b3d518887546b6a2902b8fb25d7ad5",
       "version_major": 2,
       "version_minor": 0
      },
      "text/plain": [
       "Image (train):   0%|          | 0/1000 [00:00<?, ?it/s]"
      ]
     },
     "metadata": {},
     "output_type": "display_data"
    },
    {
     "data": {
      "application/vnd.jupyter.widget-view+json": {
       "model_id": "7983653634f54cbdbed9bc4521ebf75d",
       "version_major": 2,
       "version_minor": 0
      },
      "text/plain": [
       "Image (test):   0%|          | 0/1000 [00:00<?, ?it/s]"
      ]
     },
     "metadata": {},
     "output_type": "display_data"
    },
    {
     "data": {
      "application/vnd.jupyter.widget-view+json": {
       "model_id": "168c2ecb5f8a49f6aeb44ee00189ff5e",
       "version_major": 2,
       "version_minor": 0
      },
      "text/plain": [
       "Image (train):   0%|          | 0/88 [00:00<?, ?it/s]"
      ]
     },
     "metadata": {},
     "output_type": "display_data"
    },
    {
     "data": {
      "application/vnd.jupyter.widget-view+json": {
       "model_id": "302df1257d144f9784c392574a6aed60",
       "version_major": 2,
       "version_minor": 0
      },
      "text/plain": [
       "Image (test):   0%|          | 0/88 [00:00<?, ?it/s]"
      ]
     },
     "metadata": {},
     "output_type": "display_data"
    },
    {
     "data": {
      "application/vnd.jupyter.widget-view+json": {
       "model_id": "a2b7ea8a296d4ff0bd4f55e900e79cbb",
       "version_major": 2,
       "version_minor": 0
      },
      "text/plain": [
       "Image (train):   0%|          | 0/76 [00:00<?, ?it/s]"
      ]
     },
     "metadata": {},
     "output_type": "display_data"
    },
    {
     "data": {
      "application/vnd.jupyter.widget-view+json": {
       "model_id": "8387f187593e4337b18f27412ada9f8a",
       "version_major": 2,
       "version_minor": 0
      },
      "text/plain": [
       "Image (test):   0%|          | 0/76 [00:00<?, ?it/s]"
      ]
     },
     "metadata": {},
     "output_type": "display_data"
    },
    {
     "data": {
      "application/vnd.jupyter.widget-view+json": {
       "model_id": "f591d4540f224d3b84863e1085832a15",
       "version_major": 2,
       "version_minor": 0
      },
      "text/plain": [
       "Image (train):   0%|          | 0/71 [00:00<?, ?it/s]"
      ]
     },
     "metadata": {},
     "output_type": "display_data"
    },
    {
     "data": {
      "application/vnd.jupyter.widget-view+json": {
       "model_id": "d5f57a4e1ca8413486836cddfd6220e0",
       "version_major": 2,
       "version_minor": 0
      },
      "text/plain": [
       "Image (test):   0%|          | 0/71 [00:00<?, ?it/s]"
      ]
     },
     "metadata": {},
     "output_type": "display_data"
    },
    {
     "data": {
      "application/vnd.jupyter.widget-view+json": {
       "model_id": "954ac0c09df041b2ae74554b5a587abe",
       "version_major": 2,
       "version_minor": 0
      },
      "text/plain": [
       "Image (train):   0%|          | 0/62 [00:00<?, ?it/s]"
      ]
     },
     "metadata": {},
     "output_type": "display_data"
    },
    {
     "data": {
      "application/vnd.jupyter.widget-view+json": {
       "model_id": "fb441ff266e64dbeba28c6bf03d36057",
       "version_major": 2,
       "version_minor": 0
      },
      "text/plain": [
       "Image (test):   0%|          | 0/62 [00:00<?, ?it/s]"
      ]
     },
     "metadata": {},
     "output_type": "display_data"
    },
    {
     "data": {
      "application/vnd.jupyter.widget-view+json": {
       "model_id": "e8adc88d3dcd40d0bf9f33205bf1af44",
       "version_major": 2,
       "version_minor": 0
      },
      "text/plain": [
       "Image (train):   0%|          | 0/54 [00:00<?, ?it/s]"
      ]
     },
     "metadata": {},
     "output_type": "display_data"
    },
    {
     "data": {
      "application/vnd.jupyter.widget-view+json": {
       "model_id": "2a85ad78b9444d6984f75ae62a6a4265",
       "version_major": 2,
       "version_minor": 0
      },
      "text/plain": [
       "Image (test):   0%|          | 0/54 [00:00<?, ?it/s]"
      ]
     },
     "metadata": {},
     "output_type": "display_data"
    },
    {
     "data": {
      "application/vnd.jupyter.widget-view+json": {
       "model_id": "b8e9f7abdb5c49a8a456abfdd0449686",
       "version_major": 2,
       "version_minor": 0
      },
      "text/plain": [
       "Image (train):   0%|          | 0/48 [00:00<?, ?it/s]"
      ]
     },
     "metadata": {},
     "output_type": "display_data"
    },
    {
     "data": {
      "application/vnd.jupyter.widget-view+json": {
       "model_id": "effd05f58bc545709be41be51c85b679",
       "version_major": 2,
       "version_minor": 0
      },
      "text/plain": [
       "Image (test):   0%|          | 0/48 [00:00<?, ?it/s]"
      ]
     },
     "metadata": {},
     "output_type": "display_data"
    },
    {
     "data": {
      "application/vnd.jupyter.widget-view+json": {
       "model_id": "d2dd912066d9440590e039e29041b504",
       "version_major": 2,
       "version_minor": 0
      },
      "text/plain": [
       "Image (train):   0%|          | 0/41 [00:00<?, ?it/s]"
      ]
     },
     "metadata": {},
     "output_type": "display_data"
    },
    {
     "data": {
      "application/vnd.jupyter.widget-view+json": {
       "model_id": "aec99a3fcedf4f24ab5dc6d20b9f184b",
       "version_major": 2,
       "version_minor": 0
      },
      "text/plain": [
       "Image (test):   0%|          | 0/41 [00:00<?, ?it/s]"
      ]
     },
     "metadata": {},
     "output_type": "display_data"
    },
    {
     "data": {
      "application/vnd.jupyter.widget-view+json": {
       "model_id": "7bd1e2523bc848e782a6a84e9d1ba3e9",
       "version_major": 2,
       "version_minor": 0
      },
      "text/plain": [
       "Image (train):   0%|          | 0/40 [00:00<?, ?it/s]"
      ]
     },
     "metadata": {},
     "output_type": "display_data"
    },
    {
     "data": {
      "application/vnd.jupyter.widget-view+json": {
       "model_id": "f1d54061d08949b1b6c55b6d16a48abd",
       "version_major": 2,
       "version_minor": 0
      },
      "text/plain": [
       "Image (test):   0%|          | 0/40 [00:00<?, ?it/s]"
      ]
     },
     "metadata": {},
     "output_type": "display_data"
    },
    {
     "data": {
      "application/vnd.jupyter.widget-view+json": {
       "model_id": "646c20f71ffb4bdfb986f25030e1a428",
       "version_major": 2,
       "version_minor": 0
      },
      "text/plain": [
       "Image (train):   0%|          | 0/34 [00:00<?, ?it/s]"
      ]
     },
     "metadata": {},
     "output_type": "display_data"
    },
    {
     "data": {
      "application/vnd.jupyter.widget-view+json": {
       "model_id": "91edc280bbf04fb6a3235b0e12dc8449",
       "version_major": 2,
       "version_minor": 0
      },
      "text/plain": [
       "Image (test):   0%|          | 0/34 [00:00<?, ?it/s]"
      ]
     },
     "metadata": {},
     "output_type": "display_data"
    },
    {
     "data": {
      "application/vnd.jupyter.widget-view+json": {
       "model_id": "941d773591644445a33ba5a8f1885d1a",
       "version_major": 2,
       "version_minor": 0
      },
      "text/plain": [
       "Column:   0%|          | 0/7 [00:00<?, ?it/s]"
      ]
     },
     "metadata": {},
     "output_type": "display_data"
    },
    {
     "data": {
      "application/vnd.jupyter.widget-view+json": {
       "model_id": "265da4a3658c44d3b206e969dc952702",
       "version_major": 2,
       "version_minor": 0
      },
      "text/plain": [
       "Attempt:   0%|          | 0/10 [00:00<?, ?it/s]"
      ]
     },
     "metadata": {},
     "output_type": "display_data"
    },
    {
     "data": {
      "application/vnd.jupyter.widget-view+json": {
       "model_id": "60b608b3f1424018b1f1f008179142f6",
       "version_major": 2,
       "version_minor": 0
      },
      "text/plain": [
       "Image (train):   0%|          | 0/1000 [00:00<?, ?it/s]"
      ]
     },
     "metadata": {},
     "output_type": "display_data"
    },
    {
     "data": {
      "application/vnd.jupyter.widget-view+json": {
       "model_id": "760bef3545424ef18270676616d212c9",
       "version_major": 2,
       "version_minor": 0
      },
      "text/plain": [
       "Image (test):   0%|          | 0/1000 [00:00<?, ?it/s]"
      ]
     },
     "metadata": {},
     "output_type": "display_data"
    },
    {
     "data": {
      "application/vnd.jupyter.widget-view+json": {
       "model_id": "538decc0ef19430ab88eb1db939236e5",
       "version_major": 2,
       "version_minor": 0
      },
      "text/plain": [
       "Image (train):   0%|          | 0/32 [00:00<?, ?it/s]"
      ]
     },
     "metadata": {},
     "output_type": "display_data"
    },
    {
     "data": {
      "application/vnd.jupyter.widget-view+json": {
       "model_id": "8610c4ad45cb423796d097203dd30441",
       "version_major": 2,
       "version_minor": 0
      },
      "text/plain": [
       "Image (test):   0%|          | 0/32 [00:00<?, ?it/s]"
      ]
     },
     "metadata": {},
     "output_type": "display_data"
    },
    {
     "data": {
      "application/vnd.jupyter.widget-view+json": {
       "model_id": "a8dd85523a54408590203f542a1f1667",
       "version_major": 2,
       "version_minor": 0
      },
      "text/plain": [
       "Image (train):   0%|          | 0/27 [00:00<?, ?it/s]"
      ]
     },
     "metadata": {},
     "output_type": "display_data"
    },
    {
     "data": {
      "application/vnd.jupyter.widget-view+json": {
       "model_id": "86cb51f35e8f46b48a16fae543032529",
       "version_major": 2,
       "version_minor": 0
      },
      "text/plain": [
       "Image (test):   0%|          | 0/27 [00:00<?, ?it/s]"
      ]
     },
     "metadata": {},
     "output_type": "display_data"
    },
    {
     "data": {
      "application/vnd.jupyter.widget-view+json": {
       "model_id": "f203d70a7ead4b47aac476a09e75490e",
       "version_major": 2,
       "version_minor": 0
      },
      "text/plain": [
       "Image (train):   0%|          | 0/21 [00:00<?, ?it/s]"
      ]
     },
     "metadata": {},
     "output_type": "display_data"
    },
    {
     "data": {
      "application/vnd.jupyter.widget-view+json": {
       "model_id": "78694b67571c49f5ac93b52a1f064d4e",
       "version_major": 2,
       "version_minor": 0
      },
      "text/plain": [
       "Image (test):   0%|          | 0/21 [00:00<?, ?it/s]"
      ]
     },
     "metadata": {},
     "output_type": "display_data"
    },
    {
     "data": {
      "application/vnd.jupyter.widget-view+json": {
       "model_id": "463a4e99af7445e796f29268a22be7a3",
       "version_major": 2,
       "version_minor": 0
      },
      "text/plain": [
       "Image (train):   0%|          | 0/13 [00:00<?, ?it/s]"
      ]
     },
     "metadata": {},
     "output_type": "display_data"
    },
    {
     "data": {
      "application/vnd.jupyter.widget-view+json": {
       "model_id": "89d61e5b28844d08b8c376c372eddce5",
       "version_major": 2,
       "version_minor": 0
      },
      "text/plain": [
       "Image (test):   0%|          | 0/13 [00:00<?, ?it/s]"
      ]
     },
     "metadata": {},
     "output_type": "display_data"
    },
    {
     "data": {
      "application/vnd.jupyter.widget-view+json": {
       "model_id": "08082762d19a4854ba8adc6040192e08",
       "version_major": 2,
       "version_minor": 0
      },
      "text/plain": [
       "Image (train):   0%|          | 0/11 [00:00<?, ?it/s]"
      ]
     },
     "metadata": {},
     "output_type": "display_data"
    },
    {
     "data": {
      "application/vnd.jupyter.widget-view+json": {
       "model_id": "8b13ad3a67f6479b87f88f74eb6faac6",
       "version_major": 2,
       "version_minor": 0
      },
      "text/plain": [
       "Image (test):   0%|          | 0/11 [00:00<?, ?it/s]"
      ]
     },
     "metadata": {},
     "output_type": "display_data"
    },
    {
     "data": {
      "application/vnd.jupyter.widget-view+json": {
       "model_id": "0198fb19dec54e4bb33ccd7bdb38a233",
       "version_major": 2,
       "version_minor": 0
      },
      "text/plain": [
       "Image (train):   0%|          | 0/10 [00:00<?, ?it/s]"
      ]
     },
     "metadata": {},
     "output_type": "display_data"
    },
    {
     "data": {
      "application/vnd.jupyter.widget-view+json": {
       "model_id": "e00382e8614e45dfb069318f6cab1842",
       "version_major": 2,
       "version_minor": 0
      },
      "text/plain": [
       "Image (test):   0%|          | 0/10 [00:00<?, ?it/s]"
      ]
     },
     "metadata": {},
     "output_type": "display_data"
    },
    {
     "data": {
      "application/vnd.jupyter.widget-view+json": {
       "model_id": "023e8e5b6f43490e88c19b20de4352f9",
       "version_major": 2,
       "version_minor": 0
      },
      "text/plain": [
       "Image (train):   0%|          | 0/9 [00:00<?, ?it/s]"
      ]
     },
     "metadata": {},
     "output_type": "display_data"
    },
    {
     "data": {
      "application/vnd.jupyter.widget-view+json": {
       "model_id": "ef7454b5aac14d5bab377433e77752be",
       "version_major": 2,
       "version_minor": 0
      },
      "text/plain": [
       "Image (test):   0%|          | 0/9 [00:00<?, ?it/s]"
      ]
     },
     "metadata": {},
     "output_type": "display_data"
    },
    {
     "data": {
      "application/vnd.jupyter.widget-view+json": {
       "model_id": "69c55da4af4142aca2676f88faeebf8e",
       "version_major": 2,
       "version_minor": 0
      },
      "text/plain": [
       "Image (train):   0%|          | 0/5 [00:00<?, ?it/s]"
      ]
     },
     "metadata": {},
     "output_type": "display_data"
    },
    {
     "data": {
      "application/vnd.jupyter.widget-view+json": {
       "model_id": "136c64003aea4ce3aeaa03f8e00b5186",
       "version_major": 2,
       "version_minor": 0
      },
      "text/plain": [
       "Image (test):   0%|          | 0/5 [00:00<?, ?it/s]"
      ]
     },
     "metadata": {},
     "output_type": "display_data"
    },
    {
     "data": {
      "application/vnd.jupyter.widget-view+json": {
       "model_id": "6e20b935cb67493385d434f4957e9c38",
       "version_major": 2,
       "version_minor": 0
      },
      "text/plain": [
       "Image (train):   0%|          | 0/4 [00:00<?, ?it/s]"
      ]
     },
     "metadata": {},
     "output_type": "display_data"
    },
    {
     "data": {
      "application/vnd.jupyter.widget-view+json": {
       "model_id": "67a5dd7295b04d8cbed650e0e0f6f0d4",
       "version_major": 2,
       "version_minor": 0
      },
      "text/plain": [
       "Image (test):   0%|          | 0/4 [00:00<?, ?it/s]"
      ]
     },
     "metadata": {},
     "output_type": "display_data"
    },
    {
     "data": {
      "application/vnd.jupyter.widget-view+json": {
       "model_id": "c72de32a588c4aacb3f0b18fd381dbdb",
       "version_major": 2,
       "version_minor": 0
      },
      "text/plain": [
       "Attempt:   0%|          | 0/10 [00:00<?, ?it/s]"
      ]
     },
     "metadata": {},
     "output_type": "display_data"
    },
    {
     "data": {
      "application/vnd.jupyter.widget-view+json": {
       "model_id": "7155bf321eca409db4ff4375dcc86834",
       "version_major": 2,
       "version_minor": 0
      },
      "text/plain": [
       "Image (train):   0%|          | 0/1000 [00:00<?, ?it/s]"
      ]
     },
     "metadata": {},
     "output_type": "display_data"
    },
    {
     "data": {
      "application/vnd.jupyter.widget-view+json": {
       "model_id": "307d761636eb4bd2aa1f79ecbe9d944c",
       "version_major": 2,
       "version_minor": 0
      },
      "text/plain": [
       "Image (test):   0%|          | 0/1000 [00:00<?, ?it/s]"
      ]
     },
     "metadata": {},
     "output_type": "display_data"
    },
    {
     "data": {
      "application/vnd.jupyter.widget-view+json": {
       "model_id": "2e00f85f417344f2b49b0addf53dd8dc",
       "version_major": 2,
       "version_minor": 0
      },
      "text/plain": [
       "Image (train):   0%|          | 0/114 [00:00<?, ?it/s]"
      ]
     },
     "metadata": {},
     "output_type": "display_data"
    },
    {
     "data": {
      "application/vnd.jupyter.widget-view+json": {
       "model_id": "46749687bccf44858d83421bd9766a75",
       "version_major": 2,
       "version_minor": 0
      },
      "text/plain": [
       "Image (test):   0%|          | 0/114 [00:00<?, ?it/s]"
      ]
     },
     "metadata": {},
     "output_type": "display_data"
    },
    {
     "data": {
      "application/vnd.jupyter.widget-view+json": {
       "model_id": "ed40fe104e0941fda9ff916838129f54",
       "version_major": 2,
       "version_minor": 0
      },
      "text/plain": [
       "Image (train):   0%|          | 0/91 [00:00<?, ?it/s]"
      ]
     },
     "metadata": {},
     "output_type": "display_data"
    },
    {
     "data": {
      "application/vnd.jupyter.widget-view+json": {
       "model_id": "a4b1d53132fe430bb3c354471a82b4f1",
       "version_major": 2,
       "version_minor": 0
      },
      "text/plain": [
       "Image (test):   0%|          | 0/91 [00:00<?, ?it/s]"
      ]
     },
     "metadata": {},
     "output_type": "display_data"
    },
    {
     "data": {
      "application/vnd.jupyter.widget-view+json": {
       "model_id": "f72d4184235b4338a88dc02a068dc599",
       "version_major": 2,
       "version_minor": 0
      },
      "text/plain": [
       "Image (train):   0%|          | 0/76 [00:00<?, ?it/s]"
      ]
     },
     "metadata": {},
     "output_type": "display_data"
    },
    {
     "data": {
      "application/vnd.jupyter.widget-view+json": {
       "model_id": "1c3cb5c4e7fd4ce7986a6d0affc88e43",
       "version_major": 2,
       "version_minor": 0
      },
      "text/plain": [
       "Image (test):   0%|          | 0/76 [00:00<?, ?it/s]"
      ]
     },
     "metadata": {},
     "output_type": "display_data"
    },
    {
     "data": {
      "application/vnd.jupyter.widget-view+json": {
       "model_id": "f99705a0f3bd40a4870af407a7612398",
       "version_major": 2,
       "version_minor": 0
      },
      "text/plain": [
       "Image (train):   0%|          | 0/65 [00:00<?, ?it/s]"
      ]
     },
     "metadata": {},
     "output_type": "display_data"
    },
    {
     "data": {
      "application/vnd.jupyter.widget-view+json": {
       "model_id": "8411893275094b4eb9c44767351049f5",
       "version_major": 2,
       "version_minor": 0
      },
      "text/plain": [
       "Image (test):   0%|          | 0/65 [00:00<?, ?it/s]"
      ]
     },
     "metadata": {},
     "output_type": "display_data"
    },
    {
     "data": {
      "application/vnd.jupyter.widget-view+json": {
       "model_id": "de4e56cf405e4907aecf16a210dce558",
       "version_major": 2,
       "version_minor": 0
      },
      "text/plain": [
       "Image (train):   0%|          | 0/54 [00:00<?, ?it/s]"
      ]
     },
     "metadata": {},
     "output_type": "display_data"
    },
    {
     "data": {
      "application/vnd.jupyter.widget-view+json": {
       "model_id": "d1b775be49fc4139a44707627d1e07b3",
       "version_major": 2,
       "version_minor": 0
      },
      "text/plain": [
       "Image (test):   0%|          | 0/54 [00:00<?, ?it/s]"
      ]
     },
     "metadata": {},
     "output_type": "display_data"
    },
    {
     "data": {
      "application/vnd.jupyter.widget-view+json": {
       "model_id": "a17fdd4c430a4a6ebf05bc2e2b019e84",
       "version_major": 2,
       "version_minor": 0
      },
      "text/plain": [
       "Image (train):   0%|          | 0/48 [00:00<?, ?it/s]"
      ]
     },
     "metadata": {},
     "output_type": "display_data"
    },
    {
     "data": {
      "application/vnd.jupyter.widget-view+json": {
       "model_id": "0e47230739ee4fdcaae57078e49fe6be",
       "version_major": 2,
       "version_minor": 0
      },
      "text/plain": [
       "Image (test):   0%|          | 0/48 [00:00<?, ?it/s]"
      ]
     },
     "metadata": {},
     "output_type": "display_data"
    },
    {
     "data": {
      "application/vnd.jupyter.widget-view+json": {
       "model_id": "b941c8b3291943b6b85a561b1264b072",
       "version_major": 2,
       "version_minor": 0
      },
      "text/plain": [
       "Image (train):   0%|          | 0/43 [00:00<?, ?it/s]"
      ]
     },
     "metadata": {},
     "output_type": "display_data"
    },
    {
     "data": {
      "application/vnd.jupyter.widget-view+json": {
       "model_id": "8769cc862a4d482fac3f8749433a4a2b",
       "version_major": 2,
       "version_minor": 0
      },
      "text/plain": [
       "Image (test):   0%|          | 0/43 [00:00<?, ?it/s]"
      ]
     },
     "metadata": {},
     "output_type": "display_data"
    },
    {
     "data": {
      "application/vnd.jupyter.widget-view+json": {
       "model_id": "28f2d005a8424defa84ed75c47422984",
       "version_major": 2,
       "version_minor": 0
      },
      "text/plain": [
       "Image (train):   0%|          | 0/41 [00:00<?, ?it/s]"
      ]
     },
     "metadata": {},
     "output_type": "display_data"
    },
    {
     "data": {
      "application/vnd.jupyter.widget-view+json": {
       "model_id": "d78f78b4971740bba5a6c2b4ddc30a08",
       "version_major": 2,
       "version_minor": 0
      },
      "text/plain": [
       "Image (test):   0%|          | 0/41 [00:00<?, ?it/s]"
      ]
     },
     "metadata": {},
     "output_type": "display_data"
    },
    {
     "data": {
      "application/vnd.jupyter.widget-view+json": {
       "model_id": "b5d2ad3bcf44460180d8ae9e14d75393",
       "version_major": 2,
       "version_minor": 0
      },
      "text/plain": [
       "Image (train):   0%|          | 0/36 [00:00<?, ?it/s]"
      ]
     },
     "metadata": {},
     "output_type": "display_data"
    },
    {
     "data": {
      "application/vnd.jupyter.widget-view+json": {
       "model_id": "24f77bdbc852466ead70dc834bf8fb35",
       "version_major": 2,
       "version_minor": 0
      },
      "text/plain": [
       "Image (test):   0%|          | 0/36 [00:00<?, ?it/s]"
      ]
     },
     "metadata": {},
     "output_type": "display_data"
    },
    {
     "data": {
      "application/vnd.jupyter.widget-view+json": {
       "model_id": "32e293c898bd40b79003cc62cb4b0c2b",
       "version_major": 2,
       "version_minor": 0
      },
      "text/plain": [
       "Attempt:   0%|          | 0/10 [00:00<?, ?it/s]"
      ]
     },
     "metadata": {},
     "output_type": "display_data"
    },
    {
     "data": {
      "application/vnd.jupyter.widget-view+json": {
       "model_id": "69883e98eda547d685de82da42048432",
       "version_major": 2,
       "version_minor": 0
      },
      "text/plain": [
       "Image (train):   0%|          | 0/1000 [00:00<?, ?it/s]"
      ]
     },
     "metadata": {},
     "output_type": "display_data"
    },
    {
     "data": {
      "application/vnd.jupyter.widget-view+json": {
       "model_id": "16a1ae507ba44702af6530be2674ab2d",
       "version_major": 2,
       "version_minor": 0
      },
      "text/plain": [
       "Image (test):   0%|          | 0/1000 [00:00<?, ?it/s]"
      ]
     },
     "metadata": {},
     "output_type": "display_data"
    },
    {
     "data": {
      "application/vnd.jupyter.widget-view+json": {
       "model_id": "84ff0da529854144840e6558a4d53bd1",
       "version_major": 2,
       "version_minor": 0
      },
      "text/plain": [
       "Image (train):   0%|          | 0/91 [00:00<?, ?it/s]"
      ]
     },
     "metadata": {},
     "output_type": "display_data"
    },
    {
     "data": {
      "application/vnd.jupyter.widget-view+json": {
       "model_id": "22398e5808b7418f9001c492428b1775",
       "version_major": 2,
       "version_minor": 0
      },
      "text/plain": [
       "Image (test):   0%|          | 0/91 [00:00<?, ?it/s]"
      ]
     },
     "metadata": {},
     "output_type": "display_data"
    },
    {
     "data": {
      "application/vnd.jupyter.widget-view+json": {
       "model_id": "fc4cc5743fd6496baf5afaeef2e2eb5e",
       "version_major": 2,
       "version_minor": 0
      },
      "text/plain": [
       "Image (train):   0%|          | 0/73 [00:00<?, ?it/s]"
      ]
     },
     "metadata": {},
     "output_type": "display_data"
    },
    {
     "data": {
      "application/vnd.jupyter.widget-view+json": {
       "model_id": "5a2a255ba9574397a9c796b2d97fdfe3",
       "version_major": 2,
       "version_minor": 0
      },
      "text/plain": [
       "Image (test):   0%|          | 0/73 [00:00<?, ?it/s]"
      ]
     },
     "metadata": {},
     "output_type": "display_data"
    },
    {
     "data": {
      "application/vnd.jupyter.widget-view+json": {
       "model_id": "991d390e69ba4449b982b825f421ec55",
       "version_major": 2,
       "version_minor": 0
      },
      "text/plain": [
       "Image (train):   0%|          | 0/59 [00:00<?, ?it/s]"
      ]
     },
     "metadata": {},
     "output_type": "display_data"
    },
    {
     "data": {
      "application/vnd.jupyter.widget-view+json": {
       "model_id": "5bf26f1d67384489a88830a83b46a068",
       "version_major": 2,
       "version_minor": 0
      },
      "text/plain": [
       "Image (test):   0%|          | 0/59 [00:00<?, ?it/s]"
      ]
     },
     "metadata": {},
     "output_type": "display_data"
    },
    {
     "data": {
      "application/vnd.jupyter.widget-view+json": {
       "model_id": "e987dc83d8cd49529c0e948c5fd34714",
       "version_major": 2,
       "version_minor": 0
      },
      "text/plain": [
       "Image (train):   0%|          | 0/49 [00:00<?, ?it/s]"
      ]
     },
     "metadata": {},
     "output_type": "display_data"
    },
    {
     "data": {
      "application/vnd.jupyter.widget-view+json": {
       "model_id": "1cf164eca7844f49976dc5cb14804ef4",
       "version_major": 2,
       "version_minor": 0
      },
      "text/plain": [
       "Image (test):   0%|          | 0/49 [00:00<?, ?it/s]"
      ]
     },
     "metadata": {},
     "output_type": "display_data"
    },
    {
     "data": {
      "application/vnd.jupyter.widget-view+json": {
       "model_id": "3434b45c15a447f198ef1fe7f54f05cf",
       "version_major": 2,
       "version_minor": 0
      },
      "text/plain": [
       "Image (train):   0%|          | 0/40 [00:00<?, ?it/s]"
      ]
     },
     "metadata": {},
     "output_type": "display_data"
    },
    {
     "data": {
      "application/vnd.jupyter.widget-view+json": {
       "model_id": "c744ad256fe6496cb37d1394bbb90bcb",
       "version_major": 2,
       "version_minor": 0
      },
      "text/plain": [
       "Image (test):   0%|          | 0/40 [00:00<?, ?it/s]"
      ]
     },
     "metadata": {},
     "output_type": "display_data"
    },
    {
     "data": {
      "application/vnd.jupyter.widget-view+json": {
       "model_id": "0d866cc5a59f4675ac27f9cf9ef46fa6",
       "version_major": 2,
       "version_minor": 0
      },
      "text/plain": [
       "Image (train):   0%|          | 0/35 [00:00<?, ?it/s]"
      ]
     },
     "metadata": {},
     "output_type": "display_data"
    },
    {
     "data": {
      "application/vnd.jupyter.widget-view+json": {
       "model_id": "4162cf70981e43e39b37b3c4815a3289",
       "version_major": 2,
       "version_minor": 0
      },
      "text/plain": [
       "Image (test):   0%|          | 0/35 [00:00<?, ?it/s]"
      ]
     },
     "metadata": {},
     "output_type": "display_data"
    },
    {
     "data": {
      "application/vnd.jupyter.widget-view+json": {
       "model_id": "049673499c8546709272ec653ca1053f",
       "version_major": 2,
       "version_minor": 0
      },
      "text/plain": [
       "Image (train):   0%|          | 0/30 [00:00<?, ?it/s]"
      ]
     },
     "metadata": {},
     "output_type": "display_data"
    },
    {
     "data": {
      "application/vnd.jupyter.widget-view+json": {
       "model_id": "974f49876c2b4507b8075ef34340aa0a",
       "version_major": 2,
       "version_minor": 0
      },
      "text/plain": [
       "Image (test):   0%|          | 0/30 [00:00<?, ?it/s]"
      ]
     },
     "metadata": {},
     "output_type": "display_data"
    },
    {
     "data": {
      "application/vnd.jupyter.widget-view+json": {
       "model_id": "7801ac1e089f4631843e18fd2b39272b",
       "version_major": 2,
       "version_minor": 0
      },
      "text/plain": [
       "Image (train):   0%|          | 0/29 [00:00<?, ?it/s]"
      ]
     },
     "metadata": {},
     "output_type": "display_data"
    },
    {
     "data": {
      "application/vnd.jupyter.widget-view+json": {
       "model_id": "07ebbfda2df646c6841a5bb3291876e8",
       "version_major": 2,
       "version_minor": 0
      },
      "text/plain": [
       "Image (test):   0%|          | 0/29 [00:00<?, ?it/s]"
      ]
     },
     "metadata": {},
     "output_type": "display_data"
    },
    {
     "data": {
      "application/vnd.jupyter.widget-view+json": {
       "model_id": "3b2a759ae93b4d50b049975026e95cdf",
       "version_major": 2,
       "version_minor": 0
      },
      "text/plain": [
       "Image (train):   0%|          | 0/27 [00:00<?, ?it/s]"
      ]
     },
     "metadata": {},
     "output_type": "display_data"
    },
    {
     "data": {
      "application/vnd.jupyter.widget-view+json": {
       "model_id": "631526a40af94a56bfa875d3f731e7e6",
       "version_major": 2,
       "version_minor": 0
      },
      "text/plain": [
       "Image (test):   0%|          | 0/27 [00:00<?, ?it/s]"
      ]
     },
     "metadata": {},
     "output_type": "display_data"
    },
    {
     "data": {
      "application/vnd.jupyter.widget-view+json": {
       "model_id": "44032137628c4400b44332ad82ba1fe3",
       "version_major": 2,
       "version_minor": 0
      },
      "text/plain": [
       "Attempt:   0%|          | 0/10 [00:00<?, ?it/s]"
      ]
     },
     "metadata": {},
     "output_type": "display_data"
    },
    {
     "data": {
      "application/vnd.jupyter.widget-view+json": {
       "model_id": "1688fdebed5944a29bddcead5c34383e",
       "version_major": 2,
       "version_minor": 0
      },
      "text/plain": [
       "Image (train):   0%|          | 0/1000 [00:00<?, ?it/s]"
      ]
     },
     "metadata": {},
     "output_type": "display_data"
    },
    {
     "data": {
      "application/vnd.jupyter.widget-view+json": {
       "model_id": "d6d2f98834094736956a7329edbedc6b",
       "version_major": 2,
       "version_minor": 0
      },
      "text/plain": [
       "Image (test):   0%|          | 0/1000 [00:00<?, ?it/s]"
      ]
     },
     "metadata": {},
     "output_type": "display_data"
    },
    {
     "data": {
      "application/vnd.jupyter.widget-view+json": {
       "model_id": "9f7b30350270483ebcaf0e880d650da8",
       "version_major": 2,
       "version_minor": 0
      },
      "text/plain": [
       "Image (train):   0%|          | 0/91 [00:00<?, ?it/s]"
      ]
     },
     "metadata": {},
     "output_type": "display_data"
    },
    {
     "data": {
      "application/vnd.jupyter.widget-view+json": {
       "model_id": "220023eb2d1a4184bd6c7dda70e967e0",
       "version_major": 2,
       "version_minor": 0
      },
      "text/plain": [
       "Image (test):   0%|          | 0/91 [00:00<?, ?it/s]"
      ]
     },
     "metadata": {},
     "output_type": "display_data"
    },
    {
     "data": {
      "application/vnd.jupyter.widget-view+json": {
       "model_id": "6ffb8159f1034302928ae500734a0ce9",
       "version_major": 2,
       "version_minor": 0
      },
      "text/plain": [
       "Image (train):   0%|          | 0/64 [00:00<?, ?it/s]"
      ]
     },
     "metadata": {},
     "output_type": "display_data"
    },
    {
     "data": {
      "application/vnd.jupyter.widget-view+json": {
       "model_id": "db53444c0bca416fab342ed930b53690",
       "version_major": 2,
       "version_minor": 0
      },
      "text/plain": [
       "Image (test):   0%|          | 0/64 [00:00<?, ?it/s]"
      ]
     },
     "metadata": {},
     "output_type": "display_data"
    },
    {
     "data": {
      "application/vnd.jupyter.widget-view+json": {
       "model_id": "caad304a10714fa8a46d9eb1e0296f63",
       "version_major": 2,
       "version_minor": 0
      },
      "text/plain": [
       "Image (train):   0%|          | 0/52 [00:00<?, ?it/s]"
      ]
     },
     "metadata": {},
     "output_type": "display_data"
    },
    {
     "data": {
      "application/vnd.jupyter.widget-view+json": {
       "model_id": "b42ae5672bb645ee80ca445651531a4f",
       "version_major": 2,
       "version_minor": 0
      },
      "text/plain": [
       "Image (test):   0%|          | 0/52 [00:00<?, ?it/s]"
      ]
     },
     "metadata": {},
     "output_type": "display_data"
    },
    {
     "data": {
      "application/vnd.jupyter.widget-view+json": {
       "model_id": "fc67b5093d874766b67979a0428ce4b5",
       "version_major": 2,
       "version_minor": 0
      },
      "text/plain": [
       "Image (train):   0%|          | 0/41 [00:00<?, ?it/s]"
      ]
     },
     "metadata": {},
     "output_type": "display_data"
    },
    {
     "data": {
      "application/vnd.jupyter.widget-view+json": {
       "model_id": "0ef26475f72843258fd702e59f916201",
       "version_major": 2,
       "version_minor": 0
      },
      "text/plain": [
       "Image (test):   0%|          | 0/41 [00:00<?, ?it/s]"
      ]
     },
     "metadata": {},
     "output_type": "display_data"
    },
    {
     "data": {
      "application/vnd.jupyter.widget-view+json": {
       "model_id": "2678fa0b85f44d30902be625e01cbf93",
       "version_major": 2,
       "version_minor": 0
      },
      "text/plain": [
       "Image (train):   0%|          | 0/36 [00:00<?, ?it/s]"
      ]
     },
     "metadata": {},
     "output_type": "display_data"
    },
    {
     "data": {
      "application/vnd.jupyter.widget-view+json": {
       "model_id": "f71fb6b56d63449da7c13ca60eca2212",
       "version_major": 2,
       "version_minor": 0
      },
      "text/plain": [
       "Image (test):   0%|          | 0/36 [00:00<?, ?it/s]"
      ]
     },
     "metadata": {},
     "output_type": "display_data"
    },
    {
     "data": {
      "application/vnd.jupyter.widget-view+json": {
       "model_id": "82c8b850e1974e4ba2a8c43133caa794",
       "version_major": 2,
       "version_minor": 0
      },
      "text/plain": [
       "Image (train):   0%|          | 0/31 [00:00<?, ?it/s]"
      ]
     },
     "metadata": {},
     "output_type": "display_data"
    },
    {
     "data": {
      "application/vnd.jupyter.widget-view+json": {
       "model_id": "a7ea2f0d5a254ff1b32ae59f0b50695e",
       "version_major": 2,
       "version_minor": 0
      },
      "text/plain": [
       "Image (test):   0%|          | 0/31 [00:00<?, ?it/s]"
      ]
     },
     "metadata": {},
     "output_type": "display_data"
    },
    {
     "data": {
      "application/vnd.jupyter.widget-view+json": {
       "model_id": "41d2cb255b2744349aed11a88eb93383",
       "version_major": 2,
       "version_minor": 0
      },
      "text/plain": [
       "Image (train):   0%|          | 0/27 [00:00<?, ?it/s]"
      ]
     },
     "metadata": {},
     "output_type": "display_data"
    },
    {
     "data": {
      "application/vnd.jupyter.widget-view+json": {
       "model_id": "ee245bcece2b4c268c6d5c15f3c16cd9",
       "version_major": 2,
       "version_minor": 0
      },
      "text/plain": [
       "Image (test):   0%|          | 0/27 [00:00<?, ?it/s]"
      ]
     },
     "metadata": {},
     "output_type": "display_data"
    },
    {
     "data": {
      "application/vnd.jupyter.widget-view+json": {
       "model_id": "f446ff9243ff476d816a147f8b1c1d28",
       "version_major": 2,
       "version_minor": 0
      },
      "text/plain": [
       "Image (train):   0%|          | 0/23 [00:00<?, ?it/s]"
      ]
     },
     "metadata": {},
     "output_type": "display_data"
    },
    {
     "data": {
      "application/vnd.jupyter.widget-view+json": {
       "model_id": "8f1d25a894064c97a87280c04f800a9d",
       "version_major": 2,
       "version_minor": 0
      },
      "text/plain": [
       "Image (test):   0%|          | 0/23 [00:00<?, ?it/s]"
      ]
     },
     "metadata": {},
     "output_type": "display_data"
    },
    {
     "data": {
      "application/vnd.jupyter.widget-view+json": {
       "model_id": "92965967923145abaf924c3176d52370",
       "version_major": 2,
       "version_minor": 0
      },
      "text/plain": [
       "Image (train):   0%|          | 0/22 [00:00<?, ?it/s]"
      ]
     },
     "metadata": {},
     "output_type": "display_data"
    },
    {
     "data": {
      "application/vnd.jupyter.widget-view+json": {
       "model_id": "bdc9427922ed4432a05d01e0d35f6c8c",
       "version_major": 2,
       "version_minor": 0
      },
      "text/plain": [
       "Image (test):   0%|          | 0/22 [00:00<?, ?it/s]"
      ]
     },
     "metadata": {},
     "output_type": "display_data"
    },
    {
     "data": {
      "application/vnd.jupyter.widget-view+json": {
       "model_id": "f5851c86e6c14b418a4784c17348e71a",
       "version_major": 2,
       "version_minor": 0
      },
      "text/plain": [
       "Attempt:   0%|          | 0/10 [00:00<?, ?it/s]"
      ]
     },
     "metadata": {},
     "output_type": "display_data"
    },
    {
     "data": {
      "application/vnd.jupyter.widget-view+json": {
       "model_id": "11e1bce58ff04be6b14751de5ba0eca0",
       "version_major": 2,
       "version_minor": 0
      },
      "text/plain": [
       "Image (train):   0%|          | 0/1000 [00:00<?, ?it/s]"
      ]
     },
     "metadata": {},
     "output_type": "display_data"
    },
    {
     "data": {
      "application/vnd.jupyter.widget-view+json": {
       "model_id": "5b38ec0ccf504d66846b3ce73a45cc89",
       "version_major": 2,
       "version_minor": 0
      },
      "text/plain": [
       "Image (test):   0%|          | 0/1000 [00:00<?, ?it/s]"
      ]
     },
     "metadata": {},
     "output_type": "display_data"
    },
    {
     "data": {
      "application/vnd.jupyter.widget-view+json": {
       "model_id": "56c2fa3a82424a10917f363e9191b616",
       "version_major": 2,
       "version_minor": 0
      },
      "text/plain": [
       "Image (train):   0%|          | 0/86 [00:00<?, ?it/s]"
      ]
     },
     "metadata": {},
     "output_type": "display_data"
    },
    {
     "data": {
      "application/vnd.jupyter.widget-view+json": {
       "model_id": "467d788eb6f24258a295468d47d0bf58",
       "version_major": 2,
       "version_minor": 0
      },
      "text/plain": [
       "Image (test):   0%|          | 0/86 [00:00<?, ?it/s]"
      ]
     },
     "metadata": {},
     "output_type": "display_data"
    },
    {
     "data": {
      "application/vnd.jupyter.widget-view+json": {
       "model_id": "d200d9101bb64648a63f72671df9513a",
       "version_major": 2,
       "version_minor": 0
      },
      "text/plain": [
       "Image (train):   0%|          | 0/72 [00:00<?, ?it/s]"
      ]
     },
     "metadata": {},
     "output_type": "display_data"
    },
    {
     "data": {
      "application/vnd.jupyter.widget-view+json": {
       "model_id": "ae719113139e4191b19255f0d883268c",
       "version_major": 2,
       "version_minor": 0
      },
      "text/plain": [
       "Image (test):   0%|          | 0/72 [00:00<?, ?it/s]"
      ]
     },
     "metadata": {},
     "output_type": "display_data"
    },
    {
     "data": {
      "application/vnd.jupyter.widget-view+json": {
       "model_id": "6231dd5be8524778a654a4e7fa7515a4",
       "version_major": 2,
       "version_minor": 0
      },
      "text/plain": [
       "Image (train):   0%|          | 0/61 [00:00<?, ?it/s]"
      ]
     },
     "metadata": {},
     "output_type": "display_data"
    },
    {
     "data": {
      "application/vnd.jupyter.widget-view+json": {
       "model_id": "5047d0f84eeb4c5488dd34a54fef0a6a",
       "version_major": 2,
       "version_minor": 0
      },
      "text/plain": [
       "Image (test):   0%|          | 0/61 [00:00<?, ?it/s]"
      ]
     },
     "metadata": {},
     "output_type": "display_data"
    },
    {
     "data": {
      "application/vnd.jupyter.widget-view+json": {
       "model_id": "47c8d759dc4e416cadfcd80ee351ec7c",
       "version_major": 2,
       "version_minor": 0
      },
      "text/plain": [
       "Image (train):   0%|          | 0/51 [00:00<?, ?it/s]"
      ]
     },
     "metadata": {},
     "output_type": "display_data"
    },
    {
     "data": {
      "application/vnd.jupyter.widget-view+json": {
       "model_id": "f1053c16dc554a7e89de7b4338bb6134",
       "version_major": 2,
       "version_minor": 0
      },
      "text/plain": [
       "Image (test):   0%|          | 0/51 [00:00<?, ?it/s]"
      ]
     },
     "metadata": {},
     "output_type": "display_data"
    },
    {
     "data": {
      "application/vnd.jupyter.widget-view+json": {
       "model_id": "6622e45997ec4a808e729480fc8db6ab",
       "version_major": 2,
       "version_minor": 0
      },
      "text/plain": [
       "Image (train):   0%|          | 0/41 [00:00<?, ?it/s]"
      ]
     },
     "metadata": {},
     "output_type": "display_data"
    },
    {
     "data": {
      "application/vnd.jupyter.widget-view+json": {
       "model_id": "f544865d0fee4afaa8dcf1bebb92cf30",
       "version_major": 2,
       "version_minor": 0
      },
      "text/plain": [
       "Image (test):   0%|          | 0/41 [00:00<?, ?it/s]"
      ]
     },
     "metadata": {},
     "output_type": "display_data"
    },
    {
     "data": {
      "application/vnd.jupyter.widget-view+json": {
       "model_id": "cd001f38484d4323917aa92f7af72bb9",
       "version_major": 2,
       "version_minor": 0
      },
      "text/plain": [
       "Image (train):   0%|          | 0/36 [00:00<?, ?it/s]"
      ]
     },
     "metadata": {},
     "output_type": "display_data"
    },
    {
     "data": {
      "application/vnd.jupyter.widget-view+json": {
       "model_id": "da6ea9031f9e4172b34a6fb2a607f4e3",
       "version_major": 2,
       "version_minor": 0
      },
      "text/plain": [
       "Image (test):   0%|          | 0/36 [00:00<?, ?it/s]"
      ]
     },
     "metadata": {},
     "output_type": "display_data"
    },
    {
     "data": {
      "application/vnd.jupyter.widget-view+json": {
       "model_id": "5fba5892763243bab6b969c8b5f05412",
       "version_major": 2,
       "version_minor": 0
      },
      "text/plain": [
       "Image (train):   0%|          | 0/35 [00:00<?, ?it/s]"
      ]
     },
     "metadata": {},
     "output_type": "display_data"
    },
    {
     "data": {
      "application/vnd.jupyter.widget-view+json": {
       "model_id": "e7d7c90cc7b442b08ad64f01e5fc10d5",
       "version_major": 2,
       "version_minor": 0
      },
      "text/plain": [
       "Image (test):   0%|          | 0/35 [00:00<?, ?it/s]"
      ]
     },
     "metadata": {},
     "output_type": "display_data"
    },
    {
     "data": {
      "application/vnd.jupyter.widget-view+json": {
       "model_id": "9bf63bf04f6248459ed19249b5f5e854",
       "version_major": 2,
       "version_minor": 0
      },
      "text/plain": [
       "Image (train):   0%|          | 0/31 [00:00<?, ?it/s]"
      ]
     },
     "metadata": {},
     "output_type": "display_data"
    },
    {
     "data": {
      "application/vnd.jupyter.widget-view+json": {
       "model_id": "e698bf9267724d5cb48edde3d3814b04",
       "version_major": 2,
       "version_minor": 0
      },
      "text/plain": [
       "Image (test):   0%|          | 0/31 [00:00<?, ?it/s]"
      ]
     },
     "metadata": {},
     "output_type": "display_data"
    },
    {
     "data": {
      "application/vnd.jupyter.widget-view+json": {
       "model_id": "0e09053aabcf4e928e872ed1d1e4e3a9",
       "version_major": 2,
       "version_minor": 0
      },
      "text/plain": [
       "Image (train):   0%|          | 0/29 [00:00<?, ?it/s]"
      ]
     },
     "metadata": {},
     "output_type": "display_data"
    },
    {
     "data": {
      "application/vnd.jupyter.widget-view+json": {
       "model_id": "a352ff08e9194846902612a54f87f9ef",
       "version_major": 2,
       "version_minor": 0
      },
      "text/plain": [
       "Image (test):   0%|          | 0/29 [00:00<?, ?it/s]"
      ]
     },
     "metadata": {},
     "output_type": "display_data"
    },
    {
     "data": {
      "application/vnd.jupyter.widget-view+json": {
       "model_id": "f691770d02e84d348f583505213832eb",
       "version_major": 2,
       "version_minor": 0
      },
      "text/plain": [
       "Attempt:   0%|          | 0/10 [00:00<?, ?it/s]"
      ]
     },
     "metadata": {},
     "output_type": "display_data"
    },
    {
     "data": {
      "application/vnd.jupyter.widget-view+json": {
       "model_id": "81ec68114b924827862f5afe4cf5243e",
       "version_major": 2,
       "version_minor": 0
      },
      "text/plain": [
       "Image (train):   0%|          | 0/1000 [00:00<?, ?it/s]"
      ]
     },
     "metadata": {},
     "output_type": "display_data"
    },
    {
     "data": {
      "application/vnd.jupyter.widget-view+json": {
       "model_id": "3d5d9c64d45c4684b6d19829853525ca",
       "version_major": 2,
       "version_minor": 0
      },
      "text/plain": [
       "Image (test):   0%|          | 0/1000 [00:00<?, ?it/s]"
      ]
     },
     "metadata": {},
     "output_type": "display_data"
    },
    {
     "data": {
      "application/vnd.jupyter.widget-view+json": {
       "model_id": "7af1d80e74084344b64ac121ad378df8",
       "version_major": 2,
       "version_minor": 0
      },
      "text/plain": [
       "Image (train):   0%|          | 0/91 [00:00<?, ?it/s]"
      ]
     },
     "metadata": {},
     "output_type": "display_data"
    },
    {
     "data": {
      "application/vnd.jupyter.widget-view+json": {
       "model_id": "ffe8d83f2e9042c2b8734418672e8107",
       "version_major": 2,
       "version_minor": 0
      },
      "text/plain": [
       "Image (test):   0%|          | 0/91 [00:00<?, ?it/s]"
      ]
     },
     "metadata": {},
     "output_type": "display_data"
    },
    {
     "data": {
      "application/vnd.jupyter.widget-view+json": {
       "model_id": "360ba7be63114bfb8a4ab0c7ccff2a96",
       "version_major": 2,
       "version_minor": 0
      },
      "text/plain": [
       "Image (train):   0%|          | 0/80 [00:00<?, ?it/s]"
      ]
     },
     "metadata": {},
     "output_type": "display_data"
    },
    {
     "data": {
      "application/vnd.jupyter.widget-view+json": {
       "model_id": "d7219247ea3f451db5c77635c8f800a0",
       "version_major": 2,
       "version_minor": 0
      },
      "text/plain": [
       "Image (test):   0%|          | 0/80 [00:00<?, ?it/s]"
      ]
     },
     "metadata": {},
     "output_type": "display_data"
    },
    {
     "data": {
      "application/vnd.jupyter.widget-view+json": {
       "model_id": "cb718fc5ee504a9ebbffadb6042dbecb",
       "version_major": 2,
       "version_minor": 0
      },
      "text/plain": [
       "Image (train):   0%|          | 0/70 [00:00<?, ?it/s]"
      ]
     },
     "metadata": {},
     "output_type": "display_data"
    },
    {
     "data": {
      "application/vnd.jupyter.widget-view+json": {
       "model_id": "5382fab0f4f646e98e90cc4be14583cd",
       "version_major": 2,
       "version_minor": 0
      },
      "text/plain": [
       "Image (test):   0%|          | 0/70 [00:00<?, ?it/s]"
      ]
     },
     "metadata": {},
     "output_type": "display_data"
    },
    {
     "data": {
      "application/vnd.jupyter.widget-view+json": {
       "model_id": "872cd6c6279f4945a1f45db7a0c61f5f",
       "version_major": 2,
       "version_minor": 0
      },
      "text/plain": [
       "Image (train):   0%|          | 0/57 [00:00<?, ?it/s]"
      ]
     },
     "metadata": {},
     "output_type": "display_data"
    },
    {
     "data": {
      "application/vnd.jupyter.widget-view+json": {
       "model_id": "13857b78f1fa4245b109fd2c382330c5",
       "version_major": 2,
       "version_minor": 0
      },
      "text/plain": [
       "Image (test):   0%|          | 0/57 [00:00<?, ?it/s]"
      ]
     },
     "metadata": {},
     "output_type": "display_data"
    },
    {
     "data": {
      "application/vnd.jupyter.widget-view+json": {
       "model_id": "7860f94d270c477f9b5064772f973ccf",
       "version_major": 2,
       "version_minor": 0
      },
      "text/plain": [
       "Image (train):   0%|          | 0/52 [00:00<?, ?it/s]"
      ]
     },
     "metadata": {},
     "output_type": "display_data"
    },
    {
     "data": {
      "application/vnd.jupyter.widget-view+json": {
       "model_id": "b0c8364d405845e0b7af72e5f639fbd2",
       "version_major": 2,
       "version_minor": 0
      },
      "text/plain": [
       "Image (test):   0%|          | 0/52 [00:00<?, ?it/s]"
      ]
     },
     "metadata": {},
     "output_type": "display_data"
    },
    {
     "data": {
      "application/vnd.jupyter.widget-view+json": {
       "model_id": "313ef7728f2f4046925e03ff78d60438",
       "version_major": 2,
       "version_minor": 0
      },
      "text/plain": [
       "Image (train):   0%|          | 0/37 [00:00<?, ?it/s]"
      ]
     },
     "metadata": {},
     "output_type": "display_data"
    },
    {
     "data": {
      "application/vnd.jupyter.widget-view+json": {
       "model_id": "eaf5a9d4027d47caace9e6d4aa4b4ce1",
       "version_major": 2,
       "version_minor": 0
      },
      "text/plain": [
       "Image (test):   0%|          | 0/37 [00:00<?, ?it/s]"
      ]
     },
     "metadata": {},
     "output_type": "display_data"
    },
    {
     "data": {
      "application/vnd.jupyter.widget-view+json": {
       "model_id": "4ce28e8b28a9437f8aaf08c94780a5f6",
       "version_major": 2,
       "version_minor": 0
      },
      "text/plain": [
       "Image (train):   0%|          | 0/34 [00:00<?, ?it/s]"
      ]
     },
     "metadata": {},
     "output_type": "display_data"
    },
    {
     "data": {
      "application/vnd.jupyter.widget-view+json": {
       "model_id": "90bf09549d7347d6a6c5ee00b72e1fd1",
       "version_major": 2,
       "version_minor": 0
      },
      "text/plain": [
       "Image (test):   0%|          | 0/34 [00:00<?, ?it/s]"
      ]
     },
     "metadata": {},
     "output_type": "display_data"
    },
    {
     "data": {
      "application/vnd.jupyter.widget-view+json": {
       "model_id": "772051806b4b4f5cabd40b1ee550bb68",
       "version_major": 2,
       "version_minor": 0
      },
      "text/plain": [
       "Image (train):   0%|          | 0/30 [00:00<?, ?it/s]"
      ]
     },
     "metadata": {},
     "output_type": "display_data"
    },
    {
     "data": {
      "application/vnd.jupyter.widget-view+json": {
       "model_id": "bafdef0b00aa4c6a84f8649c86acb1aa",
       "version_major": 2,
       "version_minor": 0
      },
      "text/plain": [
       "Image (test):   0%|          | 0/30 [00:00<?, ?it/s]"
      ]
     },
     "metadata": {},
     "output_type": "display_data"
    },
    {
     "data": {
      "application/vnd.jupyter.widget-view+json": {
       "model_id": "aa0a91aa78d240a881ed3b081665632a",
       "version_major": 2,
       "version_minor": 0
      },
      "text/plain": [
       "Image (train):   0%|          | 0/27 [00:00<?, ?it/s]"
      ]
     },
     "metadata": {},
     "output_type": "display_data"
    },
    {
     "data": {
      "application/vnd.jupyter.widget-view+json": {
       "model_id": "45789e872a6747c0aedcee529ebbeb79",
       "version_major": 2,
       "version_minor": 0
      },
      "text/plain": [
       "Image (test):   0%|          | 0/27 [00:00<?, ?it/s]"
      ]
     },
     "metadata": {},
     "output_type": "display_data"
    },
    {
     "data": {
      "application/vnd.jupyter.widget-view+json": {
       "model_id": "204bf823379c4031b3f5d615f1e27829",
       "version_major": 2,
       "version_minor": 0
      },
      "text/plain": [
       "Attempt:   0%|          | 0/10 [00:00<?, ?it/s]"
      ]
     },
     "metadata": {},
     "output_type": "display_data"
    },
    {
     "data": {
      "application/vnd.jupyter.widget-view+json": {
       "model_id": "577851ba19cd4ff6aafce88dec96bb4f",
       "version_major": 2,
       "version_minor": 0
      },
      "text/plain": [
       "Image (train):   0%|          | 0/1000 [00:00<?, ?it/s]"
      ]
     },
     "metadata": {},
     "output_type": "display_data"
    },
    {
     "data": {
      "application/vnd.jupyter.widget-view+json": {
       "model_id": "12d311090dbb41b6a5bb07a534660550",
       "version_major": 2,
       "version_minor": 0
      },
      "text/plain": [
       "Image (test):   0%|          | 0/1000 [00:00<?, ?it/s]"
      ]
     },
     "metadata": {},
     "output_type": "display_data"
    },
    {
     "data": {
      "application/vnd.jupyter.widget-view+json": {
       "model_id": "a0ba5d337c9042e19fa4c0c22e41671e",
       "version_major": 2,
       "version_minor": 0
      },
      "text/plain": [
       "Image (train):   0%|          | 0/79 [00:00<?, ?it/s]"
      ]
     },
     "metadata": {},
     "output_type": "display_data"
    },
    {
     "data": {
      "application/vnd.jupyter.widget-view+json": {
       "model_id": "3f308c2b85464425a8ed12b285c4f731",
       "version_major": 2,
       "version_minor": 0
      },
      "text/plain": [
       "Image (test):   0%|          | 0/79 [00:00<?, ?it/s]"
      ]
     },
     "metadata": {},
     "output_type": "display_data"
    },
    {
     "data": {
      "application/vnd.jupyter.widget-view+json": {
       "model_id": "34b5a062332544bcab2be07181b794e1",
       "version_major": 2,
       "version_minor": 0
      },
      "text/plain": [
       "Image (train):   0%|          | 0/66 [00:00<?, ?it/s]"
      ]
     },
     "metadata": {},
     "output_type": "display_data"
    },
    {
     "data": {
      "application/vnd.jupyter.widget-view+json": {
       "model_id": "d1ddb7a092704b4ea4a153f23854d872",
       "version_major": 2,
       "version_minor": 0
      },
      "text/plain": [
       "Image (test):   0%|          | 0/66 [00:00<?, ?it/s]"
      ]
     },
     "metadata": {},
     "output_type": "display_data"
    },
    {
     "data": {
      "application/vnd.jupyter.widget-view+json": {
       "model_id": "702a449956044c4ab2aa51c695f0ea65",
       "version_major": 2,
       "version_minor": 0
      },
      "text/plain": [
       "Image (train):   0%|          | 0/55 [00:00<?, ?it/s]"
      ]
     },
     "metadata": {},
     "output_type": "display_data"
    },
    {
     "data": {
      "application/vnd.jupyter.widget-view+json": {
       "model_id": "e389af051a824dea81e342a45328489c",
       "version_major": 2,
       "version_minor": 0
      },
      "text/plain": [
       "Image (test):   0%|          | 0/55 [00:00<?, ?it/s]"
      ]
     },
     "metadata": {},
     "output_type": "display_data"
    },
    {
     "data": {
      "application/vnd.jupyter.widget-view+json": {
       "model_id": "6636bfa9f948468b8ea95870249ae3c5",
       "version_major": 2,
       "version_minor": 0
      },
      "text/plain": [
       "Image (train):   0%|          | 0/46 [00:00<?, ?it/s]"
      ]
     },
     "metadata": {},
     "output_type": "display_data"
    },
    {
     "data": {
      "application/vnd.jupyter.widget-view+json": {
       "model_id": "e149afe5e7a640ecb8d7a7ad072ce9f8",
       "version_major": 2,
       "version_minor": 0
      },
      "text/plain": [
       "Image (test):   0%|          | 0/46 [00:00<?, ?it/s]"
      ]
     },
     "metadata": {},
     "output_type": "display_data"
    },
    {
     "data": {
      "application/vnd.jupyter.widget-view+json": {
       "model_id": "870d32f31cc44edcb08c3d0053744165",
       "version_major": 2,
       "version_minor": 0
      },
      "text/plain": [
       "Image (train):   0%|          | 0/42 [00:00<?, ?it/s]"
      ]
     },
     "metadata": {},
     "output_type": "display_data"
    },
    {
     "data": {
      "application/vnd.jupyter.widget-view+json": {
       "model_id": "5b6820f909f745f4af4b42313272ba4b",
       "version_major": 2,
       "version_minor": 0
      },
      "text/plain": [
       "Image (test):   0%|          | 0/42 [00:00<?, ?it/s]"
      ]
     },
     "metadata": {},
     "output_type": "display_data"
    },
    {
     "data": {
      "application/vnd.jupyter.widget-view+json": {
       "model_id": "294261c5e0bd46a3afbd0aad00864c83",
       "version_major": 2,
       "version_minor": 0
      },
      "text/plain": [
       "Image (train):   0%|          | 0/36 [00:00<?, ?it/s]"
      ]
     },
     "metadata": {},
     "output_type": "display_data"
    },
    {
     "data": {
      "application/vnd.jupyter.widget-view+json": {
       "model_id": "c86c8314fe6a4d8f9afc084f416e8736",
       "version_major": 2,
       "version_minor": 0
      },
      "text/plain": [
       "Image (test):   0%|          | 0/36 [00:00<?, ?it/s]"
      ]
     },
     "metadata": {},
     "output_type": "display_data"
    },
    {
     "data": {
      "application/vnd.jupyter.widget-view+json": {
       "model_id": "88a28cab45824dbaae100a16b953d19f",
       "version_major": 2,
       "version_minor": 0
      },
      "text/plain": [
       "Image (train):   0%|          | 0/34 [00:00<?, ?it/s]"
      ]
     },
     "metadata": {},
     "output_type": "display_data"
    },
    {
     "data": {
      "application/vnd.jupyter.widget-view+json": {
       "model_id": "0521bf9f10d14da1bba59b1fabe91924",
       "version_major": 2,
       "version_minor": 0
      },
      "text/plain": [
       "Image (test):   0%|          | 0/34 [00:00<?, ?it/s]"
      ]
     },
     "metadata": {},
     "output_type": "display_data"
    },
    {
     "data": {
      "application/vnd.jupyter.widget-view+json": {
       "model_id": "186f56edd870496385c7ff348821438e",
       "version_major": 2,
       "version_minor": 0
      },
      "text/plain": [
       "Image (train):   0%|          | 0/32 [00:00<?, ?it/s]"
      ]
     },
     "metadata": {},
     "output_type": "display_data"
    },
    {
     "data": {
      "application/vnd.jupyter.widget-view+json": {
       "model_id": "ec31532811f04cc6b98cabd0999ebb3f",
       "version_major": 2,
       "version_minor": 0
      },
      "text/plain": [
       "Image (test):   0%|          | 0/32 [00:00<?, ?it/s]"
      ]
     },
     "metadata": {},
     "output_type": "display_data"
    },
    {
     "data": {
      "application/vnd.jupyter.widget-view+json": {
       "model_id": "e81d792299c645a1ab4092fd8421298a",
       "version_major": 2,
       "version_minor": 0
      },
      "text/plain": [
       "Image (train):   0%|          | 0/30 [00:00<?, ?it/s]"
      ]
     },
     "metadata": {},
     "output_type": "display_data"
    },
    {
     "data": {
      "application/vnd.jupyter.widget-view+json": {
       "model_id": "abe6ded8ac804870b55ab2e5f4d116ed",
       "version_major": 2,
       "version_minor": 0
      },
      "text/plain": [
       "Image (test):   0%|          | 0/30 [00:00<?, ?it/s]"
      ]
     },
     "metadata": {},
     "output_type": "display_data"
    },
    {
     "data": {
      "application/vnd.jupyter.widget-view+json": {
       "model_id": "d2d7167849054aa1a320d66b325d225e",
       "version_major": 2,
       "version_minor": 0
      },
      "text/plain": [
       "Column:   0%|          | 0/7 [00:00<?, ?it/s]"
      ]
     },
     "metadata": {},
     "output_type": "display_data"
    },
    {
     "data": {
      "application/vnd.jupyter.widget-view+json": {
       "model_id": "c6d6c236ed0f41929634981778e815a2",
       "version_major": 2,
       "version_minor": 0
      },
      "text/plain": [
       "Attempt:   0%|          | 0/10 [00:00<?, ?it/s]"
      ]
     },
     "metadata": {},
     "output_type": "display_data"
    },
    {
     "data": {
      "application/vnd.jupyter.widget-view+json": {
       "model_id": "fb9feb364e58474e945e715a5f6bfe9a",
       "version_major": 2,
       "version_minor": 0
      },
      "text/plain": [
       "Image (train):   0%|          | 0/1000 [00:00<?, ?it/s]"
      ]
     },
     "metadata": {},
     "output_type": "display_data"
    },
    {
     "data": {
      "application/vnd.jupyter.widget-view+json": {
       "model_id": "962ebe75e70746089140a046ecd50f38",
       "version_major": 2,
       "version_minor": 0
      },
      "text/plain": [
       "Image (test):   0%|          | 0/1000 [00:00<?, ?it/s]"
      ]
     },
     "metadata": {},
     "output_type": "display_data"
    },
    {
     "data": {
      "application/vnd.jupyter.widget-view+json": {
       "model_id": "b3be8f849d9d4c4ab82dfb063d6af60b",
       "version_major": 2,
       "version_minor": 0
      },
      "text/plain": [
       "Image (train):   0%|          | 0/28 [00:00<?, ?it/s]"
      ]
     },
     "metadata": {},
     "output_type": "display_data"
    },
    {
     "data": {
      "application/vnd.jupyter.widget-view+json": {
       "model_id": "318cde04485f429ebe65d2279b5b49b9",
       "version_major": 2,
       "version_minor": 0
      },
      "text/plain": [
       "Image (test):   0%|          | 0/28 [00:00<?, ?it/s]"
      ]
     },
     "metadata": {},
     "output_type": "display_data"
    },
    {
     "data": {
      "application/vnd.jupyter.widget-view+json": {
       "model_id": "6f7c3ee78d6c48618e47078032f12fcf",
       "version_major": 2,
       "version_minor": 0
      },
      "text/plain": [
       "Image (train):   0%|          | 0/20 [00:00<?, ?it/s]"
      ]
     },
     "metadata": {},
     "output_type": "display_data"
    },
    {
     "data": {
      "application/vnd.jupyter.widget-view+json": {
       "model_id": "9373d4d0d71c49fcbe6a771e391a8607",
       "version_major": 2,
       "version_minor": 0
      },
      "text/plain": [
       "Image (test):   0%|          | 0/20 [00:00<?, ?it/s]"
      ]
     },
     "metadata": {},
     "output_type": "display_data"
    },
    {
     "data": {
      "application/vnd.jupyter.widget-view+json": {
       "model_id": "8b4f2c017793488497963989c02c8f87",
       "version_major": 2,
       "version_minor": 0
      },
      "text/plain": [
       "Image (train):   0%|          | 0/18 [00:00<?, ?it/s]"
      ]
     },
     "metadata": {},
     "output_type": "display_data"
    },
    {
     "data": {
      "application/vnd.jupyter.widget-view+json": {
       "model_id": "22411d7bb8834f51a8a9b2387ff00986",
       "version_major": 2,
       "version_minor": 0
      },
      "text/plain": [
       "Image (test):   0%|          | 0/18 [00:00<?, ?it/s]"
      ]
     },
     "metadata": {},
     "output_type": "display_data"
    },
    {
     "data": {
      "application/vnd.jupyter.widget-view+json": {
       "model_id": "e235f244f57c42d7b32c7552df7ae647",
       "version_major": 2,
       "version_minor": 0
      },
      "text/plain": [
       "Image (train):   0%|          | 0/13 [00:00<?, ?it/s]"
      ]
     },
     "metadata": {},
     "output_type": "display_data"
    },
    {
     "data": {
      "application/vnd.jupyter.widget-view+json": {
       "model_id": "0da055215427455f8799e7a1aca34ee4",
       "version_major": 2,
       "version_minor": 0
      },
      "text/plain": [
       "Image (test):   0%|          | 0/13 [00:00<?, ?it/s]"
      ]
     },
     "metadata": {},
     "output_type": "display_data"
    },
    {
     "data": {
      "application/vnd.jupyter.widget-view+json": {
       "model_id": "921997f2449940019bdc8ec28b76e32b",
       "version_major": 2,
       "version_minor": 0
      },
      "text/plain": [
       "Image (train):   0%|          | 0/12 [00:00<?, ?it/s]"
      ]
     },
     "metadata": {},
     "output_type": "display_data"
    },
    {
     "data": {
      "application/vnd.jupyter.widget-view+json": {
       "model_id": "111fe137e6794cd091855cea11dc9958",
       "version_major": 2,
       "version_minor": 0
      },
      "text/plain": [
       "Image (test):   0%|          | 0/12 [00:00<?, ?it/s]"
      ]
     },
     "metadata": {},
     "output_type": "display_data"
    },
    {
     "data": {
      "application/vnd.jupyter.widget-view+json": {
       "model_id": "d211c26eae8f445ebb0f91de4b578735",
       "version_major": 2,
       "version_minor": 0
      },
      "text/plain": [
       "Image (train):   0%|          | 0/11 [00:00<?, ?it/s]"
      ]
     },
     "metadata": {},
     "output_type": "display_data"
    },
    {
     "data": {
      "application/vnd.jupyter.widget-view+json": {
       "model_id": "494d62f5514c4b99bbf0fa60d69036a0",
       "version_major": 2,
       "version_minor": 0
      },
      "text/plain": [
       "Image (test):   0%|          | 0/11 [00:00<?, ?it/s]"
      ]
     },
     "metadata": {},
     "output_type": "display_data"
    },
    {
     "data": {
      "application/vnd.jupyter.widget-view+json": {
       "model_id": "7a2016f3170e496e8319c67bc257ebe6",
       "version_major": 2,
       "version_minor": 0
      },
      "text/plain": [
       "Image (train):   0%|          | 0/10 [00:00<?, ?it/s]"
      ]
     },
     "metadata": {},
     "output_type": "display_data"
    },
    {
     "data": {
      "application/vnd.jupyter.widget-view+json": {
       "model_id": "2cb2edcb68e74da08a389c6e84cc7dbc",
       "version_major": 2,
       "version_minor": 0
      },
      "text/plain": [
       "Image (test):   0%|          | 0/10 [00:00<?, ?it/s]"
      ]
     },
     "metadata": {},
     "output_type": "display_data"
    },
    {
     "data": {
      "application/vnd.jupyter.widget-view+json": {
       "model_id": "8766ff13fb3a490799d13bd13cb0075d",
       "version_major": 2,
       "version_minor": 0
      },
      "text/plain": [
       "Image (train):   0%|          | 0/10 [00:00<?, ?it/s]"
      ]
     },
     "metadata": {},
     "output_type": "display_data"
    },
    {
     "data": {
      "application/vnd.jupyter.widget-view+json": {
       "model_id": "78079323a5494a1faef2d0e9e1b7fefc",
       "version_major": 2,
       "version_minor": 0
      },
      "text/plain": [
       "Image (test):   0%|          | 0/10 [00:00<?, ?it/s]"
      ]
     },
     "metadata": {},
     "output_type": "display_data"
    },
    {
     "data": {
      "application/vnd.jupyter.widget-view+json": {
       "model_id": "3161baecfffe49eeabd506b5f2ee386f",
       "version_major": 2,
       "version_minor": 0
      },
      "text/plain": [
       "Image (train):   0%|          | 0/8 [00:00<?, ?it/s]"
      ]
     },
     "metadata": {},
     "output_type": "display_data"
    },
    {
     "data": {
      "application/vnd.jupyter.widget-view+json": {
       "model_id": "b1fe155a2e364b728e3122a6de91e37f",
       "version_major": 2,
       "version_minor": 0
      },
      "text/plain": [
       "Image (test):   0%|          | 0/8 [00:00<?, ?it/s]"
      ]
     },
     "metadata": {},
     "output_type": "display_data"
    },
    {
     "data": {
      "application/vnd.jupyter.widget-view+json": {
       "model_id": "7718d119805a48e7b66ab02e31de57b7",
       "version_major": 2,
       "version_minor": 0
      },
      "text/plain": [
       "Attempt:   0%|          | 0/10 [00:00<?, ?it/s]"
      ]
     },
     "metadata": {},
     "output_type": "display_data"
    },
    {
     "data": {
      "application/vnd.jupyter.widget-view+json": {
       "model_id": "71ff6fcf57224cde87fa7f735ef9ad66",
       "version_major": 2,
       "version_minor": 0
      },
      "text/plain": [
       "Image (train):   0%|          | 0/1000 [00:00<?, ?it/s]"
      ]
     },
     "metadata": {},
     "output_type": "display_data"
    },
    {
     "data": {
      "application/vnd.jupyter.widget-view+json": {
       "model_id": "95f13b84a8c14048937a8b7b43ec4a9b",
       "version_major": 2,
       "version_minor": 0
      },
      "text/plain": [
       "Image (test):   0%|          | 0/1000 [00:00<?, ?it/s]"
      ]
     },
     "metadata": {},
     "output_type": "display_data"
    },
    {
     "data": {
      "application/vnd.jupyter.widget-view+json": {
       "model_id": "4422e12b2a8c426cbb1484ef73274f21",
       "version_major": 2,
       "version_minor": 0
      },
      "text/plain": [
       "Image (train):   0%|          | 0/105 [00:00<?, ?it/s]"
      ]
     },
     "metadata": {},
     "output_type": "display_data"
    },
    {
     "data": {
      "application/vnd.jupyter.widget-view+json": {
       "model_id": "c292bf03c46c46ef967bd68c7fd5be34",
       "version_major": 2,
       "version_minor": 0
      },
      "text/plain": [
       "Image (test):   0%|          | 0/105 [00:00<?, ?it/s]"
      ]
     },
     "metadata": {},
     "output_type": "display_data"
    },
    {
     "data": {
      "application/vnd.jupyter.widget-view+json": {
       "model_id": "e1499f6a087c4ce6a57fbc637daf8689",
       "version_major": 2,
       "version_minor": 0
      },
      "text/plain": [
       "Image (train):   0%|          | 0/82 [00:00<?, ?it/s]"
      ]
     },
     "metadata": {},
     "output_type": "display_data"
    },
    {
     "data": {
      "application/vnd.jupyter.widget-view+json": {
       "model_id": "26fdc59607cd4f3780517cb6cf4ebaa0",
       "version_major": 2,
       "version_minor": 0
      },
      "text/plain": [
       "Image (test):   0%|          | 0/82 [00:00<?, ?it/s]"
      ]
     },
     "metadata": {},
     "output_type": "display_data"
    },
    {
     "data": {
      "application/vnd.jupyter.widget-view+json": {
       "model_id": "e2a9a7fa2e5946f79827109cdc968e95",
       "version_major": 2,
       "version_minor": 0
      },
      "text/plain": [
       "Image (train):   0%|          | 0/77 [00:00<?, ?it/s]"
      ]
     },
     "metadata": {},
     "output_type": "display_data"
    },
    {
     "data": {
      "application/vnd.jupyter.widget-view+json": {
       "model_id": "91d80121c02c4a2791c7126ffa7ea9ad",
       "version_major": 2,
       "version_minor": 0
      },
      "text/plain": [
       "Image (test):   0%|          | 0/77 [00:00<?, ?it/s]"
      ]
     },
     "metadata": {},
     "output_type": "display_data"
    },
    {
     "data": {
      "application/vnd.jupyter.widget-view+json": {
       "model_id": "bde3b3f8327d4c3480743f3f38552965",
       "version_major": 2,
       "version_minor": 0
      },
      "text/plain": [
       "Image (train):   0%|          | 0/67 [00:00<?, ?it/s]"
      ]
     },
     "metadata": {},
     "output_type": "display_data"
    },
    {
     "data": {
      "application/vnd.jupyter.widget-view+json": {
       "model_id": "bdf40a40d08b4e448b9a6160b0b7fdc5",
       "version_major": 2,
       "version_minor": 0
      },
      "text/plain": [
       "Image (test):   0%|          | 0/67 [00:00<?, ?it/s]"
      ]
     },
     "metadata": {},
     "output_type": "display_data"
    },
    {
     "data": {
      "application/vnd.jupyter.widget-view+json": {
       "model_id": "27ad5ba9215948b48c1905a62a68062b",
       "version_major": 2,
       "version_minor": 0
      },
      "text/plain": [
       "Image (train):   0%|          | 0/61 [00:00<?, ?it/s]"
      ]
     },
     "metadata": {},
     "output_type": "display_data"
    },
    {
     "data": {
      "application/vnd.jupyter.widget-view+json": {
       "model_id": "ab88848b47a7453ea255395d64ac8cde",
       "version_major": 2,
       "version_minor": 0
      },
      "text/plain": [
       "Image (test):   0%|          | 0/61 [00:00<?, ?it/s]"
      ]
     },
     "metadata": {},
     "output_type": "display_data"
    },
    {
     "data": {
      "application/vnd.jupyter.widget-view+json": {
       "model_id": "fb9e0258df0e4dd28202d93bdcd0d43d",
       "version_major": 2,
       "version_minor": 0
      },
      "text/plain": [
       "Image (train):   0%|          | 0/51 [00:00<?, ?it/s]"
      ]
     },
     "metadata": {},
     "output_type": "display_data"
    },
    {
     "data": {
      "application/vnd.jupyter.widget-view+json": {
       "model_id": "a5b54ba58b51424b95911607591964af",
       "version_major": 2,
       "version_minor": 0
      },
      "text/plain": [
       "Image (test):   0%|          | 0/51 [00:00<?, ?it/s]"
      ]
     },
     "metadata": {},
     "output_type": "display_data"
    },
    {
     "data": {
      "application/vnd.jupyter.widget-view+json": {
       "model_id": "8d20f15b22bb482f8ff2ef9e15d8bc8e",
       "version_major": 2,
       "version_minor": 0
      },
      "text/plain": [
       "Image (train):   0%|          | 0/48 [00:00<?, ?it/s]"
      ]
     },
     "metadata": {},
     "output_type": "display_data"
    },
    {
     "data": {
      "application/vnd.jupyter.widget-view+json": {
       "model_id": "9662e8d36a754eaca26394186cff774c",
       "version_major": 2,
       "version_minor": 0
      },
      "text/plain": [
       "Image (test):   0%|          | 0/48 [00:00<?, ?it/s]"
      ]
     },
     "metadata": {},
     "output_type": "display_data"
    },
    {
     "data": {
      "application/vnd.jupyter.widget-view+json": {
       "model_id": "71631ea5cd8a4302b875a86192558fab",
       "version_major": 2,
       "version_minor": 0
      },
      "text/plain": [
       "Image (train):   0%|          | 0/41 [00:00<?, ?it/s]"
      ]
     },
     "metadata": {},
     "output_type": "display_data"
    },
    {
     "data": {
      "application/vnd.jupyter.widget-view+json": {
       "model_id": "5cdc0a03f51c4810a431ed95e02c0b53",
       "version_major": 2,
       "version_minor": 0
      },
      "text/plain": [
       "Image (test):   0%|          | 0/41 [00:00<?, ?it/s]"
      ]
     },
     "metadata": {},
     "output_type": "display_data"
    },
    {
     "data": {
      "application/vnd.jupyter.widget-view+json": {
       "model_id": "369bdd386b0a4e369398dce87f517e83",
       "version_major": 2,
       "version_minor": 0
      },
      "text/plain": [
       "Image (train):   0%|          | 0/36 [00:00<?, ?it/s]"
      ]
     },
     "metadata": {},
     "output_type": "display_data"
    },
    {
     "data": {
      "application/vnd.jupyter.widget-view+json": {
       "model_id": "fd6f427740684c4598a4d5ccffdde0b2",
       "version_major": 2,
       "version_minor": 0
      },
      "text/plain": [
       "Image (test):   0%|          | 0/36 [00:00<?, ?it/s]"
      ]
     },
     "metadata": {},
     "output_type": "display_data"
    },
    {
     "data": {
      "application/vnd.jupyter.widget-view+json": {
       "model_id": "1cba926b985f44488ca44415cc15f02a",
       "version_major": 2,
       "version_minor": 0
      },
      "text/plain": [
       "Attempt:   0%|          | 0/10 [00:00<?, ?it/s]"
      ]
     },
     "metadata": {},
     "output_type": "display_data"
    },
    {
     "data": {
      "application/vnd.jupyter.widget-view+json": {
       "model_id": "c28256b140ce4a25aefd6f11c428b93e",
       "version_major": 2,
       "version_minor": 0
      },
      "text/plain": [
       "Image (train):   0%|          | 0/1000 [00:00<?, ?it/s]"
      ]
     },
     "metadata": {},
     "output_type": "display_data"
    },
    {
     "data": {
      "application/vnd.jupyter.widget-view+json": {
       "model_id": "854b410ff03740e190dd4f68eb385992",
       "version_major": 2,
       "version_minor": 0
      },
      "text/plain": [
       "Image (test):   0%|          | 0/1000 [00:00<?, ?it/s]"
      ]
     },
     "metadata": {},
     "output_type": "display_data"
    },
    {
     "data": {
      "application/vnd.jupyter.widget-view+json": {
       "model_id": "b6d45269dacc48e98394a782eb2fcdba",
       "version_major": 2,
       "version_minor": 0
      },
      "text/plain": [
       "Image (train):   0%|          | 0/91 [00:00<?, ?it/s]"
      ]
     },
     "metadata": {},
     "output_type": "display_data"
    },
    {
     "data": {
      "application/vnd.jupyter.widget-view+json": {
       "model_id": "bf0dfb4a4dc046dfbb34a72c7f7c2319",
       "version_major": 2,
       "version_minor": 0
      },
      "text/plain": [
       "Image (test):   0%|          | 0/91 [00:00<?, ?it/s]"
      ]
     },
     "metadata": {},
     "output_type": "display_data"
    },
    {
     "data": {
      "application/vnd.jupyter.widget-view+json": {
       "model_id": "8a66636ede6d43cc9aa1eb9665f864a7",
       "version_major": 2,
       "version_minor": 0
      },
      "text/plain": [
       "Image (train):   0%|          | 0/74 [00:00<?, ?it/s]"
      ]
     },
     "metadata": {},
     "output_type": "display_data"
    },
    {
     "data": {
      "application/vnd.jupyter.widget-view+json": {
       "model_id": "02f7f076f6274cf3a820f08b34e92f36",
       "version_major": 2,
       "version_minor": 0
      },
      "text/plain": [
       "Image (test):   0%|          | 0/74 [00:00<?, ?it/s]"
      ]
     },
     "metadata": {},
     "output_type": "display_data"
    },
    {
     "data": {
      "application/vnd.jupyter.widget-view+json": {
       "model_id": "3e12f727787e4c5e937dd3fa40d80541",
       "version_major": 2,
       "version_minor": 0
      },
      "text/plain": [
       "Image (train):   0%|          | 0/64 [00:00<?, ?it/s]"
      ]
     },
     "metadata": {},
     "output_type": "display_data"
    },
    {
     "data": {
      "application/vnd.jupyter.widget-view+json": {
       "model_id": "0fbe485cb158492f99d476091913f97e",
       "version_major": 2,
       "version_minor": 0
      },
      "text/plain": [
       "Image (test):   0%|          | 0/64 [00:00<?, ?it/s]"
      ]
     },
     "metadata": {},
     "output_type": "display_data"
    },
    {
     "data": {
      "application/vnd.jupyter.widget-view+json": {
       "model_id": "58f8bf1f912e4e69969f41070e9a1c5e",
       "version_major": 2,
       "version_minor": 0
      },
      "text/plain": [
       "Image (train):   0%|          | 0/51 [00:00<?, ?it/s]"
      ]
     },
     "metadata": {},
     "output_type": "display_data"
    },
    {
     "data": {
      "application/vnd.jupyter.widget-view+json": {
       "model_id": "ec193ca81f0b4da580410cddd3c94014",
       "version_major": 2,
       "version_minor": 0
      },
      "text/plain": [
       "Image (test):   0%|          | 0/51 [00:00<?, ?it/s]"
      ]
     },
     "metadata": {},
     "output_type": "display_data"
    },
    {
     "data": {
      "application/vnd.jupyter.widget-view+json": {
       "model_id": "70fdfd93cb05419d877d33f6ffa68742",
       "version_major": 2,
       "version_minor": 0
      },
      "text/plain": [
       "Image (train):   0%|          | 0/48 [00:00<?, ?it/s]"
      ]
     },
     "metadata": {},
     "output_type": "display_data"
    },
    {
     "data": {
      "application/vnd.jupyter.widget-view+json": {
       "model_id": "b61c0683752e4f21a32c8ceba0e89237",
       "version_major": 2,
       "version_minor": 0
      },
      "text/plain": [
       "Image (test):   0%|          | 0/48 [00:00<?, ?it/s]"
      ]
     },
     "metadata": {},
     "output_type": "display_data"
    },
    {
     "data": {
      "application/vnd.jupyter.widget-view+json": {
       "model_id": "42c9a36f7dc04aa2b560d640fbf380f2",
       "version_major": 2,
       "version_minor": 0
      },
      "text/plain": [
       "Image (train):   0%|          | 0/43 [00:00<?, ?it/s]"
      ]
     },
     "metadata": {},
     "output_type": "display_data"
    },
    {
     "data": {
      "application/vnd.jupyter.widget-view+json": {
       "model_id": "5e95b4ec15e2444c93b844eda77beba0",
       "version_major": 2,
       "version_minor": 0
      },
      "text/plain": [
       "Image (test):   0%|          | 0/43 [00:00<?, ?it/s]"
      ]
     },
     "metadata": {},
     "output_type": "display_data"
    },
    {
     "data": {
      "application/vnd.jupyter.widget-view+json": {
       "model_id": "f9af49c189804b9fb9501d9c7ee9488d",
       "version_major": 2,
       "version_minor": 0
      },
      "text/plain": [
       "Image (train):   0%|          | 0/38 [00:00<?, ?it/s]"
      ]
     },
     "metadata": {},
     "output_type": "display_data"
    },
    {
     "data": {
      "application/vnd.jupyter.widget-view+json": {
       "model_id": "16e970407a234b328969068bea61e4cf",
       "version_major": 2,
       "version_minor": 0
      },
      "text/plain": [
       "Image (test):   0%|          | 0/38 [00:00<?, ?it/s]"
      ]
     },
     "metadata": {},
     "output_type": "display_data"
    },
    {
     "data": {
      "application/vnd.jupyter.widget-view+json": {
       "model_id": "084e41067b724b8c9f8cab7e9020db50",
       "version_major": 2,
       "version_minor": 0
      },
      "text/plain": [
       "Image (train):   0%|          | 0/34 [00:00<?, ?it/s]"
      ]
     },
     "metadata": {},
     "output_type": "display_data"
    },
    {
     "data": {
      "application/vnd.jupyter.widget-view+json": {
       "model_id": "f7881ecb39794e71aef0000931f80235",
       "version_major": 2,
       "version_minor": 0
      },
      "text/plain": [
       "Image (test):   0%|          | 0/34 [00:00<?, ?it/s]"
      ]
     },
     "metadata": {},
     "output_type": "display_data"
    },
    {
     "data": {
      "application/vnd.jupyter.widget-view+json": {
       "model_id": "0a4485d897e24b84a74e9c8fa61831fb",
       "version_major": 2,
       "version_minor": 0
      },
      "text/plain": [
       "Image (train):   0%|          | 0/33 [00:00<?, ?it/s]"
      ]
     },
     "metadata": {},
     "output_type": "display_data"
    },
    {
     "data": {
      "application/vnd.jupyter.widget-view+json": {
       "model_id": "12cd94541914490cbde55c3f60d3ec1c",
       "version_major": 2,
       "version_minor": 0
      },
      "text/plain": [
       "Image (test):   0%|          | 0/33 [00:00<?, ?it/s]"
      ]
     },
     "metadata": {},
     "output_type": "display_data"
    },
    {
     "data": {
      "application/vnd.jupyter.widget-view+json": {
       "model_id": "0940946b55394851ad9b618c45d224d2",
       "version_major": 2,
       "version_minor": 0
      },
      "text/plain": [
       "Attempt:   0%|          | 0/10 [00:00<?, ?it/s]"
      ]
     },
     "metadata": {},
     "output_type": "display_data"
    },
    {
     "data": {
      "application/vnd.jupyter.widget-view+json": {
       "model_id": "df42349ee0354f0c94495727f71d0b24",
       "version_major": 2,
       "version_minor": 0
      },
      "text/plain": [
       "Image (train):   0%|          | 0/1000 [00:00<?, ?it/s]"
      ]
     },
     "metadata": {},
     "output_type": "display_data"
    },
    {
     "data": {
      "application/vnd.jupyter.widget-view+json": {
       "model_id": "90c44d7efa4c4a7bba7d789ae08bb5f5",
       "version_major": 2,
       "version_minor": 0
      },
      "text/plain": [
       "Image (test):   0%|          | 0/1000 [00:00<?, ?it/s]"
      ]
     },
     "metadata": {},
     "output_type": "display_data"
    },
    {
     "data": {
      "application/vnd.jupyter.widget-view+json": {
       "model_id": "369df739a2d54906a8e9064f70be5978",
       "version_major": 2,
       "version_minor": 0
      },
      "text/plain": [
       "Image (train):   0%|          | 0/80 [00:00<?, ?it/s]"
      ]
     },
     "metadata": {},
     "output_type": "display_data"
    },
    {
     "data": {
      "application/vnd.jupyter.widget-view+json": {
       "model_id": "5244905f63e14e18808e8f742cb02692",
       "version_major": 2,
       "version_minor": 0
      },
      "text/plain": [
       "Image (test):   0%|          | 0/80 [00:00<?, ?it/s]"
      ]
     },
     "metadata": {},
     "output_type": "display_data"
    },
    {
     "data": {
      "application/vnd.jupyter.widget-view+json": {
       "model_id": "3bbbad54ce9544f1b9716ed6c419e723",
       "version_major": 2,
       "version_minor": 0
      },
      "text/plain": [
       "Image (train):   0%|          | 0/62 [00:00<?, ?it/s]"
      ]
     },
     "metadata": {},
     "output_type": "display_data"
    },
    {
     "data": {
      "application/vnd.jupyter.widget-view+json": {
       "model_id": "29de353dfa20463ea6402d21a97cca1b",
       "version_major": 2,
       "version_minor": 0
      },
      "text/plain": [
       "Image (test):   0%|          | 0/62 [00:00<?, ?it/s]"
      ]
     },
     "metadata": {},
     "output_type": "display_data"
    },
    {
     "data": {
      "application/vnd.jupyter.widget-view+json": {
       "model_id": "b68b5318705746bc8c0e6dd72de1c53d",
       "version_major": 2,
       "version_minor": 0
      },
      "text/plain": [
       "Image (train):   0%|          | 0/53 [00:00<?, ?it/s]"
      ]
     },
     "metadata": {},
     "output_type": "display_data"
    },
    {
     "data": {
      "application/vnd.jupyter.widget-view+json": {
       "model_id": "07d9640323f94ab087c13cbe6efb157c",
       "version_major": 2,
       "version_minor": 0
      },
      "text/plain": [
       "Image (test):   0%|          | 0/53 [00:00<?, ?it/s]"
      ]
     },
     "metadata": {},
     "output_type": "display_data"
    },
    {
     "data": {
      "application/vnd.jupyter.widget-view+json": {
       "model_id": "ac474cda17e94d36823e1a302e0e85f9",
       "version_major": 2,
       "version_minor": 0
      },
      "text/plain": [
       "Image (train):   0%|          | 0/40 [00:00<?, ?it/s]"
      ]
     },
     "metadata": {},
     "output_type": "display_data"
    },
    {
     "data": {
      "application/vnd.jupyter.widget-view+json": {
       "model_id": "6fd0b25f3c034b3fadd50dcf533a2c26",
       "version_major": 2,
       "version_minor": 0
      },
      "text/plain": [
       "Image (test):   0%|          | 0/40 [00:00<?, ?it/s]"
      ]
     },
     "metadata": {},
     "output_type": "display_data"
    },
    {
     "data": {
      "application/vnd.jupyter.widget-view+json": {
       "model_id": "7b87f258ddc9446f94d796847999c54b",
       "version_major": 2,
       "version_minor": 0
      },
      "text/plain": [
       "Image (train):   0%|          | 0/34 [00:00<?, ?it/s]"
      ]
     },
     "metadata": {},
     "output_type": "display_data"
    },
    {
     "data": {
      "application/vnd.jupyter.widget-view+json": {
       "model_id": "98f5037f84c64c548d96a7053c96a4ad",
       "version_major": 2,
       "version_minor": 0
      },
      "text/plain": [
       "Image (test):   0%|          | 0/34 [00:00<?, ?it/s]"
      ]
     },
     "metadata": {},
     "output_type": "display_data"
    },
    {
     "data": {
      "application/vnd.jupyter.widget-view+json": {
       "model_id": "7fb3e65bdba142e8a594311c13e8ffe3",
       "version_major": 2,
       "version_minor": 0
      },
      "text/plain": [
       "Image (train):   0%|          | 0/27 [00:00<?, ?it/s]"
      ]
     },
     "metadata": {},
     "output_type": "display_data"
    },
    {
     "data": {
      "application/vnd.jupyter.widget-view+json": {
       "model_id": "f5ed4406b39e46a99dcefd657c6bd245",
       "version_major": 2,
       "version_minor": 0
      },
      "text/plain": [
       "Image (test):   0%|          | 0/27 [00:00<?, ?it/s]"
      ]
     },
     "metadata": {},
     "output_type": "display_data"
    },
    {
     "data": {
      "application/vnd.jupyter.widget-view+json": {
       "model_id": "7cdb5599f8ee4851b736359f212fa3cd",
       "version_major": 2,
       "version_minor": 0
      },
      "text/plain": [
       "Image (train):   0%|          | 0/22 [00:00<?, ?it/s]"
      ]
     },
     "metadata": {},
     "output_type": "display_data"
    },
    {
     "data": {
      "application/vnd.jupyter.widget-view+json": {
       "model_id": "3c660034672047cbb38e1ed3e134cd3d",
       "version_major": 2,
       "version_minor": 0
      },
      "text/plain": [
       "Image (test):   0%|          | 0/22 [00:00<?, ?it/s]"
      ]
     },
     "metadata": {},
     "output_type": "display_data"
    },
    {
     "data": {
      "application/vnd.jupyter.widget-view+json": {
       "model_id": "bbf0379b3e3d452b9811bae2ab75ef14",
       "version_major": 2,
       "version_minor": 0
      },
      "text/plain": [
       "Image (train):   0%|          | 0/20 [00:00<?, ?it/s]"
      ]
     },
     "metadata": {},
     "output_type": "display_data"
    },
    {
     "data": {
      "application/vnd.jupyter.widget-view+json": {
       "model_id": "3204c2f68f054e9b8b8f41bd39bbc62f",
       "version_major": 2,
       "version_minor": 0
      },
      "text/plain": [
       "Image (test):   0%|          | 0/20 [00:00<?, ?it/s]"
      ]
     },
     "metadata": {},
     "output_type": "display_data"
    },
    {
     "data": {
      "application/vnd.jupyter.widget-view+json": {
       "model_id": "54e3b54d94484b17af329eb431e8f0bb",
       "version_major": 2,
       "version_minor": 0
      },
      "text/plain": [
       "Image (train):   0%|          | 0/16 [00:00<?, ?it/s]"
      ]
     },
     "metadata": {},
     "output_type": "display_data"
    },
    {
     "data": {
      "application/vnd.jupyter.widget-view+json": {
       "model_id": "4a1984b4df1641a891d714def4fdd145",
       "version_major": 2,
       "version_minor": 0
      },
      "text/plain": [
       "Image (test):   0%|          | 0/16 [00:00<?, ?it/s]"
      ]
     },
     "metadata": {},
     "output_type": "display_data"
    },
    {
     "data": {
      "application/vnd.jupyter.widget-view+json": {
       "model_id": "35149020412b4c0598059dc302dbe914",
       "version_major": 2,
       "version_minor": 0
      },
      "text/plain": [
       "Attempt:   0%|          | 0/10 [00:00<?, ?it/s]"
      ]
     },
     "metadata": {},
     "output_type": "display_data"
    },
    {
     "data": {
      "application/vnd.jupyter.widget-view+json": {
       "model_id": "049cac11ccc24c60897d0b4ba5576675",
       "version_major": 2,
       "version_minor": 0
      },
      "text/plain": [
       "Image (train):   0%|          | 0/1000 [00:00<?, ?it/s]"
      ]
     },
     "metadata": {},
     "output_type": "display_data"
    },
    {
     "data": {
      "application/vnd.jupyter.widget-view+json": {
       "model_id": "cedce2d7ba3b4d2b9643ddc42b9e0af5",
       "version_major": 2,
       "version_minor": 0
      },
      "text/plain": [
       "Image (test):   0%|          | 0/1000 [00:00<?, ?it/s]"
      ]
     },
     "metadata": {},
     "output_type": "display_data"
    },
    {
     "data": {
      "application/vnd.jupyter.widget-view+json": {
       "model_id": "10f2d1e7f6a74785be42d7bfb884c8a9",
       "version_major": 2,
       "version_minor": 0
      },
      "text/plain": [
       "Image (train):   0%|          | 0/84 [00:00<?, ?it/s]"
      ]
     },
     "metadata": {},
     "output_type": "display_data"
    },
    {
     "data": {
      "application/vnd.jupyter.widget-view+json": {
       "model_id": "8501e8ea68e0439d855b8c9335ea15e2",
       "version_major": 2,
       "version_minor": 0
      },
      "text/plain": [
       "Image (test):   0%|          | 0/84 [00:00<?, ?it/s]"
      ]
     },
     "metadata": {},
     "output_type": "display_data"
    },
    {
     "data": {
      "application/vnd.jupyter.widget-view+json": {
       "model_id": "2cf5190be6744c6e8017d80dac69cf9e",
       "version_major": 2,
       "version_minor": 0
      },
      "text/plain": [
       "Image (train):   0%|          | 0/68 [00:00<?, ?it/s]"
      ]
     },
     "metadata": {},
     "output_type": "display_data"
    },
    {
     "data": {
      "application/vnd.jupyter.widget-view+json": {
       "model_id": "d56dc3cc7ac84d36ae3e84cefab1e8ab",
       "version_major": 2,
       "version_minor": 0
      },
      "text/plain": [
       "Image (test):   0%|          | 0/68 [00:00<?, ?it/s]"
      ]
     },
     "metadata": {},
     "output_type": "display_data"
    },
    {
     "data": {
      "application/vnd.jupyter.widget-view+json": {
       "model_id": "a84be11217a946488c5ea1d415efdf0d",
       "version_major": 2,
       "version_minor": 0
      },
      "text/plain": [
       "Image (train):   0%|          | 0/51 [00:00<?, ?it/s]"
      ]
     },
     "metadata": {},
     "output_type": "display_data"
    },
    {
     "data": {
      "application/vnd.jupyter.widget-view+json": {
       "model_id": "d561f74a2ad546f89eaba7e79060ae67",
       "version_major": 2,
       "version_minor": 0
      },
      "text/plain": [
       "Image (test):   0%|          | 0/51 [00:00<?, ?it/s]"
      ]
     },
     "metadata": {},
     "output_type": "display_data"
    },
    {
     "data": {
      "application/vnd.jupyter.widget-view+json": {
       "model_id": "81399b90c67748899b33147be41017b5",
       "version_major": 2,
       "version_minor": 0
      },
      "text/plain": [
       "Image (train):   0%|          | 0/50 [00:00<?, ?it/s]"
      ]
     },
     "metadata": {},
     "output_type": "display_data"
    },
    {
     "data": {
      "application/vnd.jupyter.widget-view+json": {
       "model_id": "50848ae05c094132b4c3701006aeae35",
       "version_major": 2,
       "version_minor": 0
      },
      "text/plain": [
       "Image (test):   0%|          | 0/50 [00:00<?, ?it/s]"
      ]
     },
     "metadata": {},
     "output_type": "display_data"
    },
    {
     "data": {
      "application/vnd.jupyter.widget-view+json": {
       "model_id": "3143897dfff24b759a872c6a347937b9",
       "version_major": 2,
       "version_minor": 0
      },
      "text/plain": [
       "Image (train):   0%|          | 0/43 [00:00<?, ?it/s]"
      ]
     },
     "metadata": {},
     "output_type": "display_data"
    },
    {
     "data": {
      "application/vnd.jupyter.widget-view+json": {
       "model_id": "398d01f2984a4aeaadc8d05f954b0c32",
       "version_major": 2,
       "version_minor": 0
      },
      "text/plain": [
       "Image (test):   0%|          | 0/43 [00:00<?, ?it/s]"
      ]
     },
     "metadata": {},
     "output_type": "display_data"
    },
    {
     "data": {
      "application/vnd.jupyter.widget-view+json": {
       "model_id": "d5c9569c7e9b473c8f672d4a43471688",
       "version_major": 2,
       "version_minor": 0
      },
      "text/plain": [
       "Image (train):   0%|          | 0/37 [00:00<?, ?it/s]"
      ]
     },
     "metadata": {},
     "output_type": "display_data"
    },
    {
     "data": {
      "application/vnd.jupyter.widget-view+json": {
       "model_id": "f7c213488a044472a0542e7d6d523787",
       "version_major": 2,
       "version_minor": 0
      },
      "text/plain": [
       "Image (test):   0%|          | 0/37 [00:00<?, ?it/s]"
      ]
     },
     "metadata": {},
     "output_type": "display_data"
    },
    {
     "data": {
      "application/vnd.jupyter.widget-view+json": {
       "model_id": "dc6cc5b93692497f9b8c9fd4b3696857",
       "version_major": 2,
       "version_minor": 0
      },
      "text/plain": [
       "Image (train):   0%|          | 0/32 [00:00<?, ?it/s]"
      ]
     },
     "metadata": {},
     "output_type": "display_data"
    },
    {
     "data": {
      "application/vnd.jupyter.widget-view+json": {
       "model_id": "d149fff9847d4aecabc074786a36bdbc",
       "version_major": 2,
       "version_minor": 0
      },
      "text/plain": [
       "Image (test):   0%|          | 0/32 [00:00<?, ?it/s]"
      ]
     },
     "metadata": {},
     "output_type": "display_data"
    },
    {
     "data": {
      "application/vnd.jupyter.widget-view+json": {
       "model_id": "c13b7dff7efe4c3fa14231810c88a05b",
       "version_major": 2,
       "version_minor": 0
      },
      "text/plain": [
       "Image (train):   0%|          | 0/29 [00:00<?, ?it/s]"
      ]
     },
     "metadata": {},
     "output_type": "display_data"
    },
    {
     "data": {
      "application/vnd.jupyter.widget-view+json": {
       "model_id": "4b682a5739fc4fadb4ba8b92b5fd42e4",
       "version_major": 2,
       "version_minor": 0
      },
      "text/plain": [
       "Image (test):   0%|          | 0/29 [00:00<?, ?it/s]"
      ]
     },
     "metadata": {},
     "output_type": "display_data"
    },
    {
     "data": {
      "application/vnd.jupyter.widget-view+json": {
       "model_id": "f179c901ad9448beb5c160e3bc7260de",
       "version_major": 2,
       "version_minor": 0
      },
      "text/plain": [
       "Image (train):   0%|          | 0/26 [00:00<?, ?it/s]"
      ]
     },
     "metadata": {},
     "output_type": "display_data"
    },
    {
     "data": {
      "application/vnd.jupyter.widget-view+json": {
       "model_id": "09c8db87c8f04674afa7d0d64f8659be",
       "version_major": 2,
       "version_minor": 0
      },
      "text/plain": [
       "Image (test):   0%|          | 0/26 [00:00<?, ?it/s]"
      ]
     },
     "metadata": {},
     "output_type": "display_data"
    },
    {
     "data": {
      "application/vnd.jupyter.widget-view+json": {
       "model_id": "1e4fec6d50af4e76a701165dd1b0fdcf",
       "version_major": 2,
       "version_minor": 0
      },
      "text/plain": [
       "Attempt:   0%|          | 0/10 [00:00<?, ?it/s]"
      ]
     },
     "metadata": {},
     "output_type": "display_data"
    },
    {
     "data": {
      "application/vnd.jupyter.widget-view+json": {
       "model_id": "f38227dc0cbf4eb9aad577b63bc823a5",
       "version_major": 2,
       "version_minor": 0
      },
      "text/plain": [
       "Image (train):   0%|          | 0/1000 [00:00<?, ?it/s]"
      ]
     },
     "metadata": {},
     "output_type": "display_data"
    },
    {
     "data": {
      "application/vnd.jupyter.widget-view+json": {
       "model_id": "f1b6b77f3a1e40ca8b0299e40657ae6c",
       "version_major": 2,
       "version_minor": 0
      },
      "text/plain": [
       "Image (test):   0%|          | 0/1000 [00:00<?, ?it/s]"
      ]
     },
     "metadata": {},
     "output_type": "display_data"
    },
    {
     "data": {
      "application/vnd.jupyter.widget-view+json": {
       "model_id": "1d59bd7a046d47109be09da7c56028bf",
       "version_major": 2,
       "version_minor": 0
      },
      "text/plain": [
       "Image (train):   0%|          | 0/94 [00:00<?, ?it/s]"
      ]
     },
     "metadata": {},
     "output_type": "display_data"
    },
    {
     "data": {
      "application/vnd.jupyter.widget-view+json": {
       "model_id": "14cc4dde41794a999a79bb5e9f291754",
       "version_major": 2,
       "version_minor": 0
      },
      "text/plain": [
       "Image (test):   0%|          | 0/94 [00:00<?, ?it/s]"
      ]
     },
     "metadata": {},
     "output_type": "display_data"
    },
    {
     "data": {
      "application/vnd.jupyter.widget-view+json": {
       "model_id": "6e18fa4df67e41afae951ffe994074b9",
       "version_major": 2,
       "version_minor": 0
      },
      "text/plain": [
       "Image (train):   0%|          | 0/81 [00:00<?, ?it/s]"
      ]
     },
     "metadata": {},
     "output_type": "display_data"
    },
    {
     "data": {
      "application/vnd.jupyter.widget-view+json": {
       "model_id": "ebea1efa3a8b4c03870af74c589e79d2",
       "version_major": 2,
       "version_minor": 0
      },
      "text/plain": [
       "Image (test):   0%|          | 0/81 [00:00<?, ?it/s]"
      ]
     },
     "metadata": {},
     "output_type": "display_data"
    },
    {
     "data": {
      "application/vnd.jupyter.widget-view+json": {
       "model_id": "63794702cc5043f197124a1c6c02bca9",
       "version_major": 2,
       "version_minor": 0
      },
      "text/plain": [
       "Image (train):   0%|          | 0/72 [00:00<?, ?it/s]"
      ]
     },
     "metadata": {},
     "output_type": "display_data"
    },
    {
     "data": {
      "application/vnd.jupyter.widget-view+json": {
       "model_id": "46d9c002c47f49cfaf2e0dd3027b37fd",
       "version_major": 2,
       "version_minor": 0
      },
      "text/plain": [
       "Image (test):   0%|          | 0/72 [00:00<?, ?it/s]"
      ]
     },
     "metadata": {},
     "output_type": "display_data"
    },
    {
     "data": {
      "application/vnd.jupyter.widget-view+json": {
       "model_id": "403ff4ac3003474d8ced9ba586a3a80b",
       "version_major": 2,
       "version_minor": 0
      },
      "text/plain": [
       "Image (train):   0%|          | 0/62 [00:00<?, ?it/s]"
      ]
     },
     "metadata": {},
     "output_type": "display_data"
    },
    {
     "data": {
      "application/vnd.jupyter.widget-view+json": {
       "model_id": "9427c7652c94455da5c859755bf2d834",
       "version_major": 2,
       "version_minor": 0
      },
      "text/plain": [
       "Image (test):   0%|          | 0/62 [00:00<?, ?it/s]"
      ]
     },
     "metadata": {},
     "output_type": "display_data"
    },
    {
     "data": {
      "application/vnd.jupyter.widget-view+json": {
       "model_id": "b1a6244389ad48c19299621501b40b67",
       "version_major": 2,
       "version_minor": 0
      },
      "text/plain": [
       "Image (train):   0%|          | 0/51 [00:00<?, ?it/s]"
      ]
     },
     "metadata": {},
     "output_type": "display_data"
    },
    {
     "data": {
      "application/vnd.jupyter.widget-view+json": {
       "model_id": "fa75b28b2b7a41a1b0968318bc1ed965",
       "version_major": 2,
       "version_minor": 0
      },
      "text/plain": [
       "Image (test):   0%|          | 0/51 [00:00<?, ?it/s]"
      ]
     },
     "metadata": {},
     "output_type": "display_data"
    },
    {
     "data": {
      "application/vnd.jupyter.widget-view+json": {
       "model_id": "a2be3751e0a74a00a75e708f160bb44b",
       "version_major": 2,
       "version_minor": 0
      },
      "text/plain": [
       "Image (train):   0%|          | 0/42 [00:00<?, ?it/s]"
      ]
     },
     "metadata": {},
     "output_type": "display_data"
    },
    {
     "data": {
      "application/vnd.jupyter.widget-view+json": {
       "model_id": "8b7b72cb6bfb4e62a6cbc5e8c815f6a4",
       "version_major": 2,
       "version_minor": 0
      },
      "text/plain": [
       "Image (test):   0%|          | 0/42 [00:00<?, ?it/s]"
      ]
     },
     "metadata": {},
     "output_type": "display_data"
    },
    {
     "data": {
      "application/vnd.jupyter.widget-view+json": {
       "model_id": "7cd84353e0454800ae99652581e5efe6",
       "version_major": 2,
       "version_minor": 0
      },
      "text/plain": [
       "Image (train):   0%|          | 0/38 [00:00<?, ?it/s]"
      ]
     },
     "metadata": {},
     "output_type": "display_data"
    },
    {
     "data": {
      "application/vnd.jupyter.widget-view+json": {
       "model_id": "a7ad24773fff44f397dd07b450c04446",
       "version_major": 2,
       "version_minor": 0
      },
      "text/plain": [
       "Image (test):   0%|          | 0/38 [00:00<?, ?it/s]"
      ]
     },
     "metadata": {},
     "output_type": "display_data"
    },
    {
     "data": {
      "application/vnd.jupyter.widget-view+json": {
       "model_id": "bc5547cca3c947679d8306218af5202c",
       "version_major": 2,
       "version_minor": 0
      },
      "text/plain": [
       "Image (train):   0%|          | 0/30 [00:00<?, ?it/s]"
      ]
     },
     "metadata": {},
     "output_type": "display_data"
    },
    {
     "data": {
      "application/vnd.jupyter.widget-view+json": {
       "model_id": "4c4c5cce573747f09e0bb6ca9bcb0d04",
       "version_major": 2,
       "version_minor": 0
      },
      "text/plain": [
       "Image (test):   0%|          | 0/30 [00:00<?, ?it/s]"
      ]
     },
     "metadata": {},
     "output_type": "display_data"
    },
    {
     "data": {
      "application/vnd.jupyter.widget-view+json": {
       "model_id": "7ab46ed2e99748ebbc6d6c076d15048e",
       "version_major": 2,
       "version_minor": 0
      },
      "text/plain": [
       "Image (train):   0%|          | 0/26 [00:00<?, ?it/s]"
      ]
     },
     "metadata": {},
     "output_type": "display_data"
    },
    {
     "data": {
      "application/vnd.jupyter.widget-view+json": {
       "model_id": "c2df59402bf34f528f7c62b0c5c41650",
       "version_major": 2,
       "version_minor": 0
      },
      "text/plain": [
       "Image (test):   0%|          | 0/26 [00:00<?, ?it/s]"
      ]
     },
     "metadata": {},
     "output_type": "display_data"
    },
    {
     "data": {
      "application/vnd.jupyter.widget-view+json": {
       "model_id": "fa1ba9b30e954d75b5ecc17646fb3be6",
       "version_major": 2,
       "version_minor": 0
      },
      "text/plain": [
       "Attempt:   0%|          | 0/10 [00:00<?, ?it/s]"
      ]
     },
     "metadata": {},
     "output_type": "display_data"
    },
    {
     "data": {
      "application/vnd.jupyter.widget-view+json": {
       "model_id": "81da1f7451814495b0db1bdc108d7215",
       "version_major": 2,
       "version_minor": 0
      },
      "text/plain": [
       "Image (train):   0%|          | 0/1000 [00:00<?, ?it/s]"
      ]
     },
     "metadata": {},
     "output_type": "display_data"
    },
    {
     "data": {
      "application/vnd.jupyter.widget-view+json": {
       "model_id": "392033a7803f4088bb0396983f138340",
       "version_major": 2,
       "version_minor": 0
      },
      "text/plain": [
       "Image (test):   0%|          | 0/1000 [00:00<?, ?it/s]"
      ]
     },
     "metadata": {},
     "output_type": "display_data"
    },
    {
     "data": {
      "application/vnd.jupyter.widget-view+json": {
       "model_id": "117a8ad7468b43cd9bbdee893bc1ac24",
       "version_major": 2,
       "version_minor": 0
      },
      "text/plain": [
       "Image (train):   0%|          | 0/69 [00:00<?, ?it/s]"
      ]
     },
     "metadata": {},
     "output_type": "display_data"
    },
    {
     "data": {
      "application/vnd.jupyter.widget-view+json": {
       "model_id": "4310df537f0f40ada16f2a52eeffb054",
       "version_major": 2,
       "version_minor": 0
      },
      "text/plain": [
       "Image (test):   0%|          | 0/69 [00:00<?, ?it/s]"
      ]
     },
     "metadata": {},
     "output_type": "display_data"
    },
    {
     "data": {
      "application/vnd.jupyter.widget-view+json": {
       "model_id": "3f4c29e4432e40e1ad71811d2a51a848",
       "version_major": 2,
       "version_minor": 0
      },
      "text/plain": [
       "Image (train):   0%|          | 0/61 [00:00<?, ?it/s]"
      ]
     },
     "metadata": {},
     "output_type": "display_data"
    },
    {
     "data": {
      "application/vnd.jupyter.widget-view+json": {
       "model_id": "46af3233e0674fb8bc871a09438e63bf",
       "version_major": 2,
       "version_minor": 0
      },
      "text/plain": [
       "Image (test):   0%|          | 0/61 [00:00<?, ?it/s]"
      ]
     },
     "metadata": {},
     "output_type": "display_data"
    },
    {
     "data": {
      "application/vnd.jupyter.widget-view+json": {
       "model_id": "4888ccd6d7ca408689daf9102452c1b4",
       "version_major": 2,
       "version_minor": 0
      },
      "text/plain": [
       "Image (train):   0%|          | 0/57 [00:00<?, ?it/s]"
      ]
     },
     "metadata": {},
     "output_type": "display_data"
    },
    {
     "data": {
      "application/vnd.jupyter.widget-view+json": {
       "model_id": "6d99313fe1f745e4bae2ee79eff586a9",
       "version_major": 2,
       "version_minor": 0
      },
      "text/plain": [
       "Image (test):   0%|          | 0/57 [00:00<?, ?it/s]"
      ]
     },
     "metadata": {},
     "output_type": "display_data"
    },
    {
     "data": {
      "application/vnd.jupyter.widget-view+json": {
       "model_id": "a47a15f6b71a428eada16401fda5dfa7",
       "version_major": 2,
       "version_minor": 0
      },
      "text/plain": [
       "Image (train):   0%|          | 0/47 [00:00<?, ?it/s]"
      ]
     },
     "metadata": {},
     "output_type": "display_data"
    },
    {
     "data": {
      "application/vnd.jupyter.widget-view+json": {
       "model_id": "83e314a850ba49f1a38511a894f6e95a",
       "version_major": 2,
       "version_minor": 0
      },
      "text/plain": [
       "Image (test):   0%|          | 0/47 [00:00<?, ?it/s]"
      ]
     },
     "metadata": {},
     "output_type": "display_data"
    },
    {
     "data": {
      "application/vnd.jupyter.widget-view+json": {
       "model_id": "35ca2ba4b7a74dd3a2c31e3ae44e2ae8",
       "version_major": 2,
       "version_minor": 0
      },
      "text/plain": [
       "Image (train):   0%|          | 0/42 [00:00<?, ?it/s]"
      ]
     },
     "metadata": {},
     "output_type": "display_data"
    },
    {
     "data": {
      "application/vnd.jupyter.widget-view+json": {
       "model_id": "cdfe48b25383491b92ed849419d25597",
       "version_major": 2,
       "version_minor": 0
      },
      "text/plain": [
       "Image (test):   0%|          | 0/42 [00:00<?, ?it/s]"
      ]
     },
     "metadata": {},
     "output_type": "display_data"
    },
    {
     "data": {
      "application/vnd.jupyter.widget-view+json": {
       "model_id": "b8ac8d5538204d95b7bf43e25aaac15c",
       "version_major": 2,
       "version_minor": 0
      },
      "text/plain": [
       "Image (train):   0%|          | 0/34 [00:00<?, ?it/s]"
      ]
     },
     "metadata": {},
     "output_type": "display_data"
    },
    {
     "data": {
      "application/vnd.jupyter.widget-view+json": {
       "model_id": "65f9e5cb18984ac8883eb6abb8626b09",
       "version_major": 2,
       "version_minor": 0
      },
      "text/plain": [
       "Image (test):   0%|          | 0/34 [00:00<?, ?it/s]"
      ]
     },
     "metadata": {},
     "output_type": "display_data"
    },
    {
     "data": {
      "application/vnd.jupyter.widget-view+json": {
       "model_id": "13d824f7ce63409c854776ddfa895ecd",
       "version_major": 2,
       "version_minor": 0
      },
      "text/plain": [
       "Image (train):   0%|          | 0/28 [00:00<?, ?it/s]"
      ]
     },
     "metadata": {},
     "output_type": "display_data"
    },
    {
     "data": {
      "application/vnd.jupyter.widget-view+json": {
       "model_id": "14703feb711d4e35bedffd139df910f7",
       "version_major": 2,
       "version_minor": 0
      },
      "text/plain": [
       "Image (test):   0%|          | 0/28 [00:00<?, ?it/s]"
      ]
     },
     "metadata": {},
     "output_type": "display_data"
    },
    {
     "data": {
      "application/vnd.jupyter.widget-view+json": {
       "model_id": "0f46ede1eeea4c37807ce02171206ebb",
       "version_major": 2,
       "version_minor": 0
      },
      "text/plain": [
       "Image (train):   0%|          | 0/24 [00:00<?, ?it/s]"
      ]
     },
     "metadata": {},
     "output_type": "display_data"
    },
    {
     "data": {
      "application/vnd.jupyter.widget-view+json": {
       "model_id": "79ad0a27cd10471ebd7179f0b82d57b4",
       "version_major": 2,
       "version_minor": 0
      },
      "text/plain": [
       "Image (test):   0%|          | 0/24 [00:00<?, ?it/s]"
      ]
     },
     "metadata": {},
     "output_type": "display_data"
    },
    {
     "data": {
      "application/vnd.jupyter.widget-view+json": {
       "model_id": "487f7a38a30140f29375201d81492015",
       "version_major": 2,
       "version_minor": 0
      },
      "text/plain": [
       "Image (train):   0%|          | 0/21 [00:00<?, ?it/s]"
      ]
     },
     "metadata": {},
     "output_type": "display_data"
    },
    {
     "data": {
      "application/vnd.jupyter.widget-view+json": {
       "model_id": "1625f787c13f4a158046de34ea442c30",
       "version_major": 2,
       "version_minor": 0
      },
      "text/plain": [
       "Image (test):   0%|          | 0/21 [00:00<?, ?it/s]"
      ]
     },
     "metadata": {},
     "output_type": "display_data"
    },
    {
     "data": {
      "application/vnd.jupyter.widget-view+json": {
       "model_id": "aa22979d646b40e9bb6f6ee4f9c6c2ad",
       "version_major": 2,
       "version_minor": 0
      },
      "text/plain": [
       "Column:   0%|          | 0/7 [00:00<?, ?it/s]"
      ]
     },
     "metadata": {},
     "output_type": "display_data"
    },
    {
     "data": {
      "application/vnd.jupyter.widget-view+json": {
       "model_id": "cbf1220847b942fc91b562c8849b3d6f",
       "version_major": 2,
       "version_minor": 0
      },
      "text/plain": [
       "Attempt:   0%|          | 0/10 [00:00<?, ?it/s]"
      ]
     },
     "metadata": {},
     "output_type": "display_data"
    },
    {
     "data": {
      "application/vnd.jupyter.widget-view+json": {
       "model_id": "ad158188f26b4c3e92f41d979fe113d1",
       "version_major": 2,
       "version_minor": 0
      },
      "text/plain": [
       "Image (train):   0%|          | 0/1000 [00:00<?, ?it/s]"
      ]
     },
     "metadata": {},
     "output_type": "display_data"
    },
    {
     "data": {
      "application/vnd.jupyter.widget-view+json": {
       "model_id": "25000287bed441b88b81ac8f6f9233f5",
       "version_major": 2,
       "version_minor": 0
      },
      "text/plain": [
       "Image (test):   0%|          | 0/1000 [00:00<?, ?it/s]"
      ]
     },
     "metadata": {},
     "output_type": "display_data"
    },
    {
     "data": {
      "application/vnd.jupyter.widget-view+json": {
       "model_id": "43a45b186af54447b0713384ac0e6615",
       "version_major": 2,
       "version_minor": 0
      },
      "text/plain": [
       "Image (train):   0%|          | 0/36 [00:00<?, ?it/s]"
      ]
     },
     "metadata": {},
     "output_type": "display_data"
    },
    {
     "data": {
      "application/vnd.jupyter.widget-view+json": {
       "model_id": "9b172f94bb6f406ca949b583948ab5aa",
       "version_major": 2,
       "version_minor": 0
      },
      "text/plain": [
       "Image (test):   0%|          | 0/36 [00:00<?, ?it/s]"
      ]
     },
     "metadata": {},
     "output_type": "display_data"
    },
    {
     "data": {
      "application/vnd.jupyter.widget-view+json": {
       "model_id": "82f3795c902f4293ba6bb7f10283aabf",
       "version_major": 2,
       "version_minor": 0
      },
      "text/plain": [
       "Image (train):   0%|          | 0/29 [00:00<?, ?it/s]"
      ]
     },
     "metadata": {},
     "output_type": "display_data"
    },
    {
     "data": {
      "application/vnd.jupyter.widget-view+json": {
       "model_id": "56a2ddcae37346da97d3c9f224eba942",
       "version_major": 2,
       "version_minor": 0
      },
      "text/plain": [
       "Image (test):   0%|          | 0/29 [00:00<?, ?it/s]"
      ]
     },
     "metadata": {},
     "output_type": "display_data"
    },
    {
     "data": {
      "application/vnd.jupyter.widget-view+json": {
       "model_id": "563a8b09b4704fafada965c7dc5e5f9d",
       "version_major": 2,
       "version_minor": 0
      },
      "text/plain": [
       "Image (train):   0%|          | 0/20 [00:00<?, ?it/s]"
      ]
     },
     "metadata": {},
     "output_type": "display_data"
    },
    {
     "data": {
      "application/vnd.jupyter.widget-view+json": {
       "model_id": "16e3d47b32ad46c1b446a9ebd6ba295e",
       "version_major": 2,
       "version_minor": 0
      },
      "text/plain": [
       "Image (test):   0%|          | 0/20 [00:00<?, ?it/s]"
      ]
     },
     "metadata": {},
     "output_type": "display_data"
    },
    {
     "data": {
      "application/vnd.jupyter.widget-view+json": {
       "model_id": "931bfa43a8944297a1663d93217864fe",
       "version_major": 2,
       "version_minor": 0
      },
      "text/plain": [
       "Image (train):   0%|          | 0/18 [00:00<?, ?it/s]"
      ]
     },
     "metadata": {},
     "output_type": "display_data"
    },
    {
     "data": {
      "application/vnd.jupyter.widget-view+json": {
       "model_id": "10f35e7af1e54dcb9a87e1c639ff826f",
       "version_major": 2,
       "version_minor": 0
      },
      "text/plain": [
       "Image (test):   0%|          | 0/18 [00:00<?, ?it/s]"
      ]
     },
     "metadata": {},
     "output_type": "display_data"
    },
    {
     "data": {
      "application/vnd.jupyter.widget-view+json": {
       "model_id": "32f7c2a41dc84aca895a1b1d7d6cd867",
       "version_major": 2,
       "version_minor": 0
      },
      "text/plain": [
       "Image (train):   0%|          | 0/14 [00:00<?, ?it/s]"
      ]
     },
     "metadata": {},
     "output_type": "display_data"
    },
    {
     "data": {
      "application/vnd.jupyter.widget-view+json": {
       "model_id": "af22473b5f454aa3a88f7c660fbf58b7",
       "version_major": 2,
       "version_minor": 0
      },
      "text/plain": [
       "Image (test):   0%|          | 0/14 [00:00<?, ?it/s]"
      ]
     },
     "metadata": {},
     "output_type": "display_data"
    },
    {
     "data": {
      "application/vnd.jupyter.widget-view+json": {
       "model_id": "bcf7da32287845d4a3dcc06bade02cf3",
       "version_major": 2,
       "version_minor": 0
      },
      "text/plain": [
       "Image (train):   0%|          | 0/13 [00:00<?, ?it/s]"
      ]
     },
     "metadata": {},
     "output_type": "display_data"
    },
    {
     "data": {
      "application/vnd.jupyter.widget-view+json": {
       "model_id": "ac024b41caa241fa98f29a7318ed908c",
       "version_major": 2,
       "version_minor": 0
      },
      "text/plain": [
       "Image (test):   0%|          | 0/13 [00:00<?, ?it/s]"
      ]
     },
     "metadata": {},
     "output_type": "display_data"
    },
    {
     "data": {
      "application/vnd.jupyter.widget-view+json": {
       "model_id": "244c9411722647408ebc32c175434d8f",
       "version_major": 2,
       "version_minor": 0
      },
      "text/plain": [
       "Image (train):   0%|          | 0/10 [00:00<?, ?it/s]"
      ]
     },
     "metadata": {},
     "output_type": "display_data"
    },
    {
     "data": {
      "application/vnd.jupyter.widget-view+json": {
       "model_id": "b2e75c3d68bd4a258ee94bf0c66a489a",
       "version_major": 2,
       "version_minor": 0
      },
      "text/plain": [
       "Image (test):   0%|          | 0/10 [00:00<?, ?it/s]"
      ]
     },
     "metadata": {},
     "output_type": "display_data"
    },
    {
     "data": {
      "application/vnd.jupyter.widget-view+json": {
       "model_id": "c9a84f05a3be4619b5decd9866a7c79d",
       "version_major": 2,
       "version_minor": 0
      },
      "text/plain": [
       "Image (train):   0%|          | 0/10 [00:00<?, ?it/s]"
      ]
     },
     "metadata": {},
     "output_type": "display_data"
    },
    {
     "data": {
      "application/vnd.jupyter.widget-view+json": {
       "model_id": "fad6be918e7641a185667dfeb9f05e21",
       "version_major": 2,
       "version_minor": 0
      },
      "text/plain": [
       "Image (test):   0%|          | 0/10 [00:00<?, ?it/s]"
      ]
     },
     "metadata": {},
     "output_type": "display_data"
    },
    {
     "data": {
      "application/vnd.jupyter.widget-view+json": {
       "model_id": "34ddc973ef724be29e26dea41f9fdeb0",
       "version_major": 2,
       "version_minor": 0
      },
      "text/plain": [
       "Image (train):   0%|          | 0/10 [00:00<?, ?it/s]"
      ]
     },
     "metadata": {},
     "output_type": "display_data"
    },
    {
     "data": {
      "application/vnd.jupyter.widget-view+json": {
       "model_id": "3e3b74834f2548c0b3f4344a2bbf04dd",
       "version_major": 2,
       "version_minor": 0
      },
      "text/plain": [
       "Image (test):   0%|          | 0/10 [00:00<?, ?it/s]"
      ]
     },
     "metadata": {},
     "output_type": "display_data"
    },
    {
     "data": {
      "application/vnd.jupyter.widget-view+json": {
       "model_id": "1f4271a0a12b4613b74a57e5b4e3847b",
       "version_major": 2,
       "version_minor": 0
      },
      "text/plain": [
       "Attempt:   0%|          | 0/10 [00:00<?, ?it/s]"
      ]
     },
     "metadata": {},
     "output_type": "display_data"
    },
    {
     "data": {
      "application/vnd.jupyter.widget-view+json": {
       "model_id": "53fe8024d0744a6e8344d29fc8d0b2cb",
       "version_major": 2,
       "version_minor": 0
      },
      "text/plain": [
       "Image (train):   0%|          | 0/1000 [00:00<?, ?it/s]"
      ]
     },
     "metadata": {},
     "output_type": "display_data"
    },
    {
     "data": {
      "application/vnd.jupyter.widget-view+json": {
       "model_id": "ca868169f5544765927e9bafa5976b64",
       "version_major": 2,
       "version_minor": 0
      },
      "text/plain": [
       "Image (test):   0%|          | 0/1000 [00:00<?, ?it/s]"
      ]
     },
     "metadata": {},
     "output_type": "display_data"
    },
    {
     "data": {
      "application/vnd.jupyter.widget-view+json": {
       "model_id": "0b0b40de7f1d467992078b235644c98c",
       "version_major": 2,
       "version_minor": 0
      },
      "text/plain": [
       "Image (train):   0%|          | 0/101 [00:00<?, ?it/s]"
      ]
     },
     "metadata": {},
     "output_type": "display_data"
    },
    {
     "data": {
      "application/vnd.jupyter.widget-view+json": {
       "model_id": "6bb8e2d5b7e44a41ba2ad312e915691e",
       "version_major": 2,
       "version_minor": 0
      },
      "text/plain": [
       "Image (test):   0%|          | 0/101 [00:00<?, ?it/s]"
      ]
     },
     "metadata": {},
     "output_type": "display_data"
    },
    {
     "data": {
      "application/vnd.jupyter.widget-view+json": {
       "model_id": "8d6bf46ea84a4993b540831ade641e80",
       "version_major": 2,
       "version_minor": 0
      },
      "text/plain": [
       "Image (train):   0%|          | 0/84 [00:00<?, ?it/s]"
      ]
     },
     "metadata": {},
     "output_type": "display_data"
    },
    {
     "data": {
      "application/vnd.jupyter.widget-view+json": {
       "model_id": "54ae1995305940869ad23d664704d6a0",
       "version_major": 2,
       "version_minor": 0
      },
      "text/plain": [
       "Image (test):   0%|          | 0/84 [00:00<?, ?it/s]"
      ]
     },
     "metadata": {},
     "output_type": "display_data"
    },
    {
     "data": {
      "application/vnd.jupyter.widget-view+json": {
       "model_id": "7223b1d7d45448b1a9008ac62840bb98",
       "version_major": 2,
       "version_minor": 0
      },
      "text/plain": [
       "Image (train):   0%|          | 0/71 [00:00<?, ?it/s]"
      ]
     },
     "metadata": {},
     "output_type": "display_data"
    },
    {
     "data": {
      "application/vnd.jupyter.widget-view+json": {
       "model_id": "6c73ded5b02744a2ba9204fe00252d96",
       "version_major": 2,
       "version_minor": 0
      },
      "text/plain": [
       "Image (test):   0%|          | 0/71 [00:00<?, ?it/s]"
      ]
     },
     "metadata": {},
     "output_type": "display_data"
    },
    {
     "data": {
      "application/vnd.jupyter.widget-view+json": {
       "model_id": "ef8fa94e35e5471896bad751e0cb981c",
       "version_major": 2,
       "version_minor": 0
      },
      "text/plain": [
       "Image (train):   0%|          | 0/65 [00:00<?, ?it/s]"
      ]
     },
     "metadata": {},
     "output_type": "display_data"
    },
    {
     "data": {
      "application/vnd.jupyter.widget-view+json": {
       "model_id": "6863cf57117f475ea99c9343369794c0",
       "version_major": 2,
       "version_minor": 0
      },
      "text/plain": [
       "Image (test):   0%|          | 0/65 [00:00<?, ?it/s]"
      ]
     },
     "metadata": {},
     "output_type": "display_data"
    },
    {
     "data": {
      "application/vnd.jupyter.widget-view+json": {
       "model_id": "159092df294744f98264b6b9879030df",
       "version_major": 2,
       "version_minor": 0
      },
      "text/plain": [
       "Image (train):   0%|          | 0/57 [00:00<?, ?it/s]"
      ]
     },
     "metadata": {},
     "output_type": "display_data"
    },
    {
     "data": {
      "application/vnd.jupyter.widget-view+json": {
       "model_id": "1a66b5d44c574a679b3f620899171483",
       "version_major": 2,
       "version_minor": 0
      },
      "text/plain": [
       "Image (test):   0%|          | 0/57 [00:00<?, ?it/s]"
      ]
     },
     "metadata": {},
     "output_type": "display_data"
    },
    {
     "data": {
      "application/vnd.jupyter.widget-view+json": {
       "model_id": "d79fc53fd81f4db2b8e3ea2c4c75b3aa",
       "version_major": 2,
       "version_minor": 0
      },
      "text/plain": [
       "Image (train):   0%|          | 0/48 [00:00<?, ?it/s]"
      ]
     },
     "metadata": {},
     "output_type": "display_data"
    },
    {
     "data": {
      "application/vnd.jupyter.widget-view+json": {
       "model_id": "0306cd1367bb41bc915974fd9afd5f3d",
       "version_major": 2,
       "version_minor": 0
      },
      "text/plain": [
       "Image (test):   0%|          | 0/48 [00:00<?, ?it/s]"
      ]
     },
     "metadata": {},
     "output_type": "display_data"
    },
    {
     "data": {
      "application/vnd.jupyter.widget-view+json": {
       "model_id": "bcf1793e598a4da4bfd921a4ec822ce8",
       "version_major": 2,
       "version_minor": 0
      },
      "text/plain": [
       "Image (train):   0%|          | 0/43 [00:00<?, ?it/s]"
      ]
     },
     "metadata": {},
     "output_type": "display_data"
    },
    {
     "data": {
      "application/vnd.jupyter.widget-view+json": {
       "model_id": "679c8d0ab9f247c79a61c18b37ec5bbb",
       "version_major": 2,
       "version_minor": 0
      },
      "text/plain": [
       "Image (test):   0%|          | 0/43 [00:00<?, ?it/s]"
      ]
     },
     "metadata": {},
     "output_type": "display_data"
    },
    {
     "data": {
      "application/vnd.jupyter.widget-view+json": {
       "model_id": "11217d75fcfc4e24abb368b850e12bbe",
       "version_major": 2,
       "version_minor": 0
      },
      "text/plain": [
       "Image (train):   0%|          | 0/38 [00:00<?, ?it/s]"
      ]
     },
     "metadata": {},
     "output_type": "display_data"
    },
    {
     "data": {
      "application/vnd.jupyter.widget-view+json": {
       "model_id": "dadfaa12529b4c9c857cc061dc9bcb4b",
       "version_major": 2,
       "version_minor": 0
      },
      "text/plain": [
       "Image (test):   0%|          | 0/38 [00:00<?, ?it/s]"
      ]
     },
     "metadata": {},
     "output_type": "display_data"
    },
    {
     "data": {
      "application/vnd.jupyter.widget-view+json": {
       "model_id": "fc59e95b968c4c82b9f4c4ea78abdf39",
       "version_major": 2,
       "version_minor": 0
      },
      "text/plain": [
       "Image (train):   0%|          | 0/32 [00:00<?, ?it/s]"
      ]
     },
     "metadata": {},
     "output_type": "display_data"
    },
    {
     "data": {
      "application/vnd.jupyter.widget-view+json": {
       "model_id": "d36878f0789f48db896a0282e1336532",
       "version_major": 2,
       "version_minor": 0
      },
      "text/plain": [
       "Image (test):   0%|          | 0/32 [00:00<?, ?it/s]"
      ]
     },
     "metadata": {},
     "output_type": "display_data"
    },
    {
     "data": {
      "application/vnd.jupyter.widget-view+json": {
       "model_id": "71994d7d40514536ac9e3e35a81fc810",
       "version_major": 2,
       "version_minor": 0
      },
      "text/plain": [
       "Attempt:   0%|          | 0/10 [00:00<?, ?it/s]"
      ]
     },
     "metadata": {},
     "output_type": "display_data"
    },
    {
     "data": {
      "application/vnd.jupyter.widget-view+json": {
       "model_id": "21607d0e781b48fb992ccc25b1d60c61",
       "version_major": 2,
       "version_minor": 0
      },
      "text/plain": [
       "Image (train):   0%|          | 0/1000 [00:00<?, ?it/s]"
      ]
     },
     "metadata": {},
     "output_type": "display_data"
    },
    {
     "data": {
      "application/vnd.jupyter.widget-view+json": {
       "model_id": "b736499b323147eab52bc21504710a50",
       "version_major": 2,
       "version_minor": 0
      },
      "text/plain": [
       "Image (test):   0%|          | 0/1000 [00:00<?, ?it/s]"
      ]
     },
     "metadata": {},
     "output_type": "display_data"
    },
    {
     "data": {
      "application/vnd.jupyter.widget-view+json": {
       "model_id": "db15c076e2ff4e1d8b271328707f9b7c",
       "version_major": 2,
       "version_minor": 0
      },
      "text/plain": [
       "Image (train):   0%|          | 0/83 [00:00<?, ?it/s]"
      ]
     },
     "metadata": {},
     "output_type": "display_data"
    },
    {
     "data": {
      "application/vnd.jupyter.widget-view+json": {
       "model_id": "95a5b72bfeac4f15a16ff8ba7552afdd",
       "version_major": 2,
       "version_minor": 0
      },
      "text/plain": [
       "Image (test):   0%|          | 0/83 [00:00<?, ?it/s]"
      ]
     },
     "metadata": {},
     "output_type": "display_data"
    },
    {
     "data": {
      "application/vnd.jupyter.widget-view+json": {
       "model_id": "2dd6b8a975214043b9e74c239e386ac1",
       "version_major": 2,
       "version_minor": 0
      },
      "text/plain": [
       "Image (train):   0%|          | 0/74 [00:00<?, ?it/s]"
      ]
     },
     "metadata": {},
     "output_type": "display_data"
    },
    {
     "data": {
      "application/vnd.jupyter.widget-view+json": {
       "model_id": "6622a57471af41bdb3109b92094abad0",
       "version_major": 2,
       "version_minor": 0
      },
      "text/plain": [
       "Image (test):   0%|          | 0/74 [00:00<?, ?it/s]"
      ]
     },
     "metadata": {},
     "output_type": "display_data"
    },
    {
     "data": {
      "application/vnd.jupyter.widget-view+json": {
       "model_id": "296013858f7a4330bc8bf12fa5ef83c0",
       "version_major": 2,
       "version_minor": 0
      },
      "text/plain": [
       "Image (train):   0%|          | 0/62 [00:00<?, ?it/s]"
      ]
     },
     "metadata": {},
     "output_type": "display_data"
    },
    {
     "data": {
      "application/vnd.jupyter.widget-view+json": {
       "model_id": "4a779888583646ddb5aa1e936770ffa6",
       "version_major": 2,
       "version_minor": 0
      },
      "text/plain": [
       "Image (test):   0%|          | 0/62 [00:00<?, ?it/s]"
      ]
     },
     "metadata": {},
     "output_type": "display_data"
    },
    {
     "data": {
      "application/vnd.jupyter.widget-view+json": {
       "model_id": "760cca581a8b4b43a9eeb4212c3e7c99",
       "version_major": 2,
       "version_minor": 0
      },
      "text/plain": [
       "Image (train):   0%|          | 0/55 [00:00<?, ?it/s]"
      ]
     },
     "metadata": {},
     "output_type": "display_data"
    },
    {
     "data": {
      "application/vnd.jupyter.widget-view+json": {
       "model_id": "3a270a9e54764bf2ae618b73722e5a00",
       "version_major": 2,
       "version_minor": 0
      },
      "text/plain": [
       "Image (test):   0%|          | 0/55 [00:00<?, ?it/s]"
      ]
     },
     "metadata": {},
     "output_type": "display_data"
    },
    {
     "data": {
      "application/vnd.jupyter.widget-view+json": {
       "model_id": "a9e6c4206d644bc1aab441a9a2f626bf",
       "version_major": 2,
       "version_minor": 0
      },
      "text/plain": [
       "Image (train):   0%|          | 0/50 [00:00<?, ?it/s]"
      ]
     },
     "metadata": {},
     "output_type": "display_data"
    },
    {
     "data": {
      "application/vnd.jupyter.widget-view+json": {
       "model_id": "b7d64935e44f4d4fbbdce28bbaa47d3d",
       "version_major": 2,
       "version_minor": 0
      },
      "text/plain": [
       "Image (test):   0%|          | 0/50 [00:00<?, ?it/s]"
      ]
     },
     "metadata": {},
     "output_type": "display_data"
    },
    {
     "data": {
      "application/vnd.jupyter.widget-view+json": {
       "model_id": "9573baea3b224af3b6ae02b39b7a472a",
       "version_major": 2,
       "version_minor": 0
      },
      "text/plain": [
       "Image (train):   0%|          | 0/40 [00:00<?, ?it/s]"
      ]
     },
     "metadata": {},
     "output_type": "display_data"
    },
    {
     "data": {
      "application/vnd.jupyter.widget-view+json": {
       "model_id": "3672e9e227904e8ea3ccc89d8b9c15dc",
       "version_major": 2,
       "version_minor": 0
      },
      "text/plain": [
       "Image (test):   0%|          | 0/40 [00:00<?, ?it/s]"
      ]
     },
     "metadata": {},
     "output_type": "display_data"
    },
    {
     "data": {
      "application/vnd.jupyter.widget-view+json": {
       "model_id": "467d3585158b4cf1ad3692cfa49baab2",
       "version_major": 2,
       "version_minor": 0
      },
      "text/plain": [
       "Image (train):   0%|          | 0/37 [00:00<?, ?it/s]"
      ]
     },
     "metadata": {},
     "output_type": "display_data"
    },
    {
     "data": {
      "application/vnd.jupyter.widget-view+json": {
       "model_id": "6f4f3c8d97e04949a8dc42abfefd50dc",
       "version_major": 2,
       "version_minor": 0
      },
      "text/plain": [
       "Image (test):   0%|          | 0/37 [00:00<?, ?it/s]"
      ]
     },
     "metadata": {},
     "output_type": "display_data"
    },
    {
     "data": {
      "application/vnd.jupyter.widget-view+json": {
       "model_id": "9db02f43fd424917b230f9acb0d02b5f",
       "version_major": 2,
       "version_minor": 0
      },
      "text/plain": [
       "Image (train):   0%|          | 0/33 [00:00<?, ?it/s]"
      ]
     },
     "metadata": {},
     "output_type": "display_data"
    },
    {
     "data": {
      "application/vnd.jupyter.widget-view+json": {
       "model_id": "9ecc3706e3a9493fb2a9d668ecc06204",
       "version_major": 2,
       "version_minor": 0
      },
      "text/plain": [
       "Image (test):   0%|          | 0/33 [00:00<?, ?it/s]"
      ]
     },
     "metadata": {},
     "output_type": "display_data"
    },
    {
     "data": {
      "application/vnd.jupyter.widget-view+json": {
       "model_id": "abf0f22e9da246d18c9d1eaa1ff748b8",
       "version_major": 2,
       "version_minor": 0
      },
      "text/plain": [
       "Image (train):   0%|          | 0/27 [00:00<?, ?it/s]"
      ]
     },
     "metadata": {},
     "output_type": "display_data"
    },
    {
     "data": {
      "application/vnd.jupyter.widget-view+json": {
       "model_id": "baf2c23592234bff8a808bac87d7dc6c",
       "version_major": 2,
       "version_minor": 0
      },
      "text/plain": [
       "Image (test):   0%|          | 0/27 [00:00<?, ?it/s]"
      ]
     },
     "metadata": {},
     "output_type": "display_data"
    },
    {
     "data": {
      "application/vnd.jupyter.widget-view+json": {
       "model_id": "084a3def285f439d8876c8775cb08e43",
       "version_major": 2,
       "version_minor": 0
      },
      "text/plain": [
       "Attempt:   0%|          | 0/10 [00:00<?, ?it/s]"
      ]
     },
     "metadata": {},
     "output_type": "display_data"
    },
    {
     "data": {
      "application/vnd.jupyter.widget-view+json": {
       "model_id": "3ab3b0d1adeb43589f0a82a545894214",
       "version_major": 2,
       "version_minor": 0
      },
      "text/plain": [
       "Image (train):   0%|          | 0/1000 [00:00<?, ?it/s]"
      ]
     },
     "metadata": {},
     "output_type": "display_data"
    },
    {
     "data": {
      "application/vnd.jupyter.widget-view+json": {
       "model_id": "cc34cd14bc85484f8272ee436c2678d0",
       "version_major": 2,
       "version_minor": 0
      },
      "text/plain": [
       "Image (test):   0%|          | 0/1000 [00:00<?, ?it/s]"
      ]
     },
     "metadata": {},
     "output_type": "display_data"
    },
    {
     "data": {
      "application/vnd.jupyter.widget-view+json": {
       "model_id": "6c4e704ac8814f24b0c6087f0f11e7f1",
       "version_major": 2,
       "version_minor": 0
      },
      "text/plain": [
       "Image (train):   0%|          | 0/85 [00:00<?, ?it/s]"
      ]
     },
     "metadata": {},
     "output_type": "display_data"
    },
    {
     "data": {
      "application/vnd.jupyter.widget-view+json": {
       "model_id": "17096eedeab64d3da5453588059e0f40",
       "version_major": 2,
       "version_minor": 0
      },
      "text/plain": [
       "Image (test):   0%|          | 0/85 [00:00<?, ?it/s]"
      ]
     },
     "metadata": {},
     "output_type": "display_data"
    },
    {
     "data": {
      "application/vnd.jupyter.widget-view+json": {
       "model_id": "eb681a6025e94a6bb6536977e325dfdd",
       "version_major": 2,
       "version_minor": 0
      },
      "text/plain": [
       "Image (train):   0%|          | 0/69 [00:00<?, ?it/s]"
      ]
     },
     "metadata": {},
     "output_type": "display_data"
    },
    {
     "data": {
      "application/vnd.jupyter.widget-view+json": {
       "model_id": "62815c30010d4b58850b4ad59a06aed7",
       "version_major": 2,
       "version_minor": 0
      },
      "text/plain": [
       "Image (test):   0%|          | 0/69 [00:00<?, ?it/s]"
      ]
     },
     "metadata": {},
     "output_type": "display_data"
    },
    {
     "data": {
      "application/vnd.jupyter.widget-view+json": {
       "model_id": "6a67f737c75b4aa98fa60130101c0266",
       "version_major": 2,
       "version_minor": 0
      },
      "text/plain": [
       "Image (train):   0%|          | 0/57 [00:00<?, ?it/s]"
      ]
     },
     "metadata": {},
     "output_type": "display_data"
    },
    {
     "data": {
      "application/vnd.jupyter.widget-view+json": {
       "model_id": "d0cde279450d43d19c02822ce2b2daea",
       "version_major": 2,
       "version_minor": 0
      },
      "text/plain": [
       "Image (test):   0%|          | 0/57 [00:00<?, ?it/s]"
      ]
     },
     "metadata": {},
     "output_type": "display_data"
    },
    {
     "data": {
      "application/vnd.jupyter.widget-view+json": {
       "model_id": "a270e5d0a3ad4d398b05767a1546d6e9",
       "version_major": 2,
       "version_minor": 0
      },
      "text/plain": [
       "Image (train):   0%|          | 0/46 [00:00<?, ?it/s]"
      ]
     },
     "metadata": {},
     "output_type": "display_data"
    },
    {
     "data": {
      "application/vnd.jupyter.widget-view+json": {
       "model_id": "5810e1f3ab77405cbbe255de1ea70acd",
       "version_major": 2,
       "version_minor": 0
      },
      "text/plain": [
       "Image (test):   0%|          | 0/46 [00:00<?, ?it/s]"
      ]
     },
     "metadata": {},
     "output_type": "display_data"
    },
    {
     "data": {
      "application/vnd.jupyter.widget-view+json": {
       "model_id": "c5890bff0780417a941d40ae17972dd4",
       "version_major": 2,
       "version_minor": 0
      },
      "text/plain": [
       "Image (train):   0%|          | 0/34 [00:00<?, ?it/s]"
      ]
     },
     "metadata": {},
     "output_type": "display_data"
    },
    {
     "data": {
      "application/vnd.jupyter.widget-view+json": {
       "model_id": "7b84e374de9a45039a9010092dd9f05d",
       "version_major": 2,
       "version_minor": 0
      },
      "text/plain": [
       "Image (test):   0%|          | 0/34 [00:00<?, ?it/s]"
      ]
     },
     "metadata": {},
     "output_type": "display_data"
    },
    {
     "data": {
      "application/vnd.jupyter.widget-view+json": {
       "model_id": "05b148cb3d8846048f7bc7e751e77226",
       "version_major": 2,
       "version_minor": 0
      },
      "text/plain": [
       "Image (train):   0%|          | 0/30 [00:00<?, ?it/s]"
      ]
     },
     "metadata": {},
     "output_type": "display_data"
    },
    {
     "data": {
      "application/vnd.jupyter.widget-view+json": {
       "model_id": "493fda92814f4dee8726924d1cbeff08",
       "version_major": 2,
       "version_minor": 0
      },
      "text/plain": [
       "Image (test):   0%|          | 0/30 [00:00<?, ?it/s]"
      ]
     },
     "metadata": {},
     "output_type": "display_data"
    },
    {
     "data": {
      "application/vnd.jupyter.widget-view+json": {
       "model_id": "10b90e25fb094e4080f9241a0ebfd0d5",
       "version_major": 2,
       "version_minor": 0
      },
      "text/plain": [
       "Image (train):   0%|          | 0/28 [00:00<?, ?it/s]"
      ]
     },
     "metadata": {},
     "output_type": "display_data"
    },
    {
     "data": {
      "application/vnd.jupyter.widget-view+json": {
       "model_id": "3019fd41bcb640d5a53cf12c4b63c9fa",
       "version_major": 2,
       "version_minor": 0
      },
      "text/plain": [
       "Image (test):   0%|          | 0/28 [00:00<?, ?it/s]"
      ]
     },
     "metadata": {},
     "output_type": "display_data"
    },
    {
     "data": {
      "application/vnd.jupyter.widget-view+json": {
       "model_id": "711136f0607f43a381ae5ca80f7f3866",
       "version_major": 2,
       "version_minor": 0
      },
      "text/plain": [
       "Image (train):   0%|          | 0/24 [00:00<?, ?it/s]"
      ]
     },
     "metadata": {},
     "output_type": "display_data"
    },
    {
     "data": {
      "application/vnd.jupyter.widget-view+json": {
       "model_id": "d7a997a604d64521b5970d2aa2e9383e",
       "version_major": 2,
       "version_minor": 0
      },
      "text/plain": [
       "Image (test):   0%|          | 0/24 [00:00<?, ?it/s]"
      ]
     },
     "metadata": {},
     "output_type": "display_data"
    },
    {
     "data": {
      "application/vnd.jupyter.widget-view+json": {
       "model_id": "c56d5751f9e84b0d9ddd0e5889846d9b",
       "version_major": 2,
       "version_minor": 0
      },
      "text/plain": [
       "Image (train):   0%|          | 0/21 [00:00<?, ?it/s]"
      ]
     },
     "metadata": {},
     "output_type": "display_data"
    },
    {
     "data": {
      "application/vnd.jupyter.widget-view+json": {
       "model_id": "935db6e946374cf4941f7696aadfd4df",
       "version_major": 2,
       "version_minor": 0
      },
      "text/plain": [
       "Image (test):   0%|          | 0/21 [00:00<?, ?it/s]"
      ]
     },
     "metadata": {},
     "output_type": "display_data"
    },
    {
     "data": {
      "application/vnd.jupyter.widget-view+json": {
       "model_id": "4fbfbd6236a44b5dbfea761c14cfe61a",
       "version_major": 2,
       "version_minor": 0
      },
      "text/plain": [
       "Attempt:   0%|          | 0/10 [00:00<?, ?it/s]"
      ]
     },
     "metadata": {},
     "output_type": "display_data"
    },
    {
     "data": {
      "application/vnd.jupyter.widget-view+json": {
       "model_id": "2d46ac60185845ad9f8365606399b030",
       "version_major": 2,
       "version_minor": 0
      },
      "text/plain": [
       "Image (train):   0%|          | 0/1000 [00:00<?, ?it/s]"
      ]
     },
     "metadata": {},
     "output_type": "display_data"
    },
    {
     "data": {
      "application/vnd.jupyter.widget-view+json": {
       "model_id": "4f94be51cba3448ebd3ac0f1a631168f",
       "version_major": 2,
       "version_minor": 0
      },
      "text/plain": [
       "Image (test):   0%|          | 0/1000 [00:00<?, ?it/s]"
      ]
     },
     "metadata": {},
     "output_type": "display_data"
    },
    {
     "data": {
      "application/vnd.jupyter.widget-view+json": {
       "model_id": "051ac8578dce497f83792c14a6b30788",
       "version_major": 2,
       "version_minor": 0
      },
      "text/plain": [
       "Image (train):   0%|          | 0/89 [00:00<?, ?it/s]"
      ]
     },
     "metadata": {},
     "output_type": "display_data"
    },
    {
     "data": {
      "application/vnd.jupyter.widget-view+json": {
       "model_id": "cc54b6ffc7254580a1d7f4d9d7421c41",
       "version_major": 2,
       "version_minor": 0
      },
      "text/plain": [
       "Image (test):   0%|          | 0/89 [00:00<?, ?it/s]"
      ]
     },
     "metadata": {},
     "output_type": "display_data"
    },
    {
     "data": {
      "application/vnd.jupyter.widget-view+json": {
       "model_id": "11ef105cbdb54dbf822a4aabafd267fe",
       "version_major": 2,
       "version_minor": 0
      },
      "text/plain": [
       "Image (train):   0%|          | 0/73 [00:00<?, ?it/s]"
      ]
     },
     "metadata": {},
     "output_type": "display_data"
    },
    {
     "data": {
      "application/vnd.jupyter.widget-view+json": {
       "model_id": "25cc985b2dbe4a30857f30cbc78797be",
       "version_major": 2,
       "version_minor": 0
      },
      "text/plain": [
       "Image (test):   0%|          | 0/73 [00:00<?, ?it/s]"
      ]
     },
     "metadata": {},
     "output_type": "display_data"
    },
    {
     "data": {
      "application/vnd.jupyter.widget-view+json": {
       "model_id": "4609abe0b6ca4859ae8f647556ab401b",
       "version_major": 2,
       "version_minor": 0
      },
      "text/plain": [
       "Image (train):   0%|          | 0/62 [00:00<?, ?it/s]"
      ]
     },
     "metadata": {},
     "output_type": "display_data"
    },
    {
     "data": {
      "application/vnd.jupyter.widget-view+json": {
       "model_id": "499bd605d0ba496eaa8f17579b8f7f7f",
       "version_major": 2,
       "version_minor": 0
      },
      "text/plain": [
       "Image (test):   0%|          | 0/62 [00:00<?, ?it/s]"
      ]
     },
     "metadata": {},
     "output_type": "display_data"
    },
    {
     "data": {
      "application/vnd.jupyter.widget-view+json": {
       "model_id": "3274741e74ec4082bc5c675bea32af12",
       "version_major": 2,
       "version_minor": 0
      },
      "text/plain": [
       "Image (train):   0%|          | 0/56 [00:00<?, ?it/s]"
      ]
     },
     "metadata": {},
     "output_type": "display_data"
    },
    {
     "data": {
      "application/vnd.jupyter.widget-view+json": {
       "model_id": "8f39d976eadb4c06bac5a0407afff5f5",
       "version_major": 2,
       "version_minor": 0
      },
      "text/plain": [
       "Image (test):   0%|          | 0/56 [00:00<?, ?it/s]"
      ]
     },
     "metadata": {},
     "output_type": "display_data"
    },
    {
     "data": {
      "application/vnd.jupyter.widget-view+json": {
       "model_id": "2ef2a47268fc48caaa412fc582b68fa3",
       "version_major": 2,
       "version_minor": 0
      },
      "text/plain": [
       "Image (train):   0%|          | 0/47 [00:00<?, ?it/s]"
      ]
     },
     "metadata": {},
     "output_type": "display_data"
    },
    {
     "data": {
      "application/vnd.jupyter.widget-view+json": {
       "model_id": "b9bd63c38da44fd0bf485f230d550837",
       "version_major": 2,
       "version_minor": 0
      },
      "text/plain": [
       "Image (test):   0%|          | 0/47 [00:00<?, ?it/s]"
      ]
     },
     "metadata": {},
     "output_type": "display_data"
    },
    {
     "data": {
      "application/vnd.jupyter.widget-view+json": {
       "model_id": "05d01b21dd8a4e2aabbf4ec99e2d98f7",
       "version_major": 2,
       "version_minor": 0
      },
      "text/plain": [
       "Image (train):   0%|          | 0/38 [00:00<?, ?it/s]"
      ]
     },
     "metadata": {},
     "output_type": "display_data"
    },
    {
     "data": {
      "application/vnd.jupyter.widget-view+json": {
       "model_id": "7dbda3efe9d9432d8a0ef1e4edb164c4",
       "version_major": 2,
       "version_minor": 0
      },
      "text/plain": [
       "Image (test):   0%|          | 0/38 [00:00<?, ?it/s]"
      ]
     },
     "metadata": {},
     "output_type": "display_data"
    },
    {
     "data": {
      "application/vnd.jupyter.widget-view+json": {
       "model_id": "1bca72ad801744ea87b50653ccfa75c8",
       "version_major": 2,
       "version_minor": 0
      },
      "text/plain": [
       "Image (train):   0%|          | 0/34 [00:00<?, ?it/s]"
      ]
     },
     "metadata": {},
     "output_type": "display_data"
    },
    {
     "data": {
      "application/vnd.jupyter.widget-view+json": {
       "model_id": "66e3e8ab45cc42b0ba3015a2f5d344d5",
       "version_major": 2,
       "version_minor": 0
      },
      "text/plain": [
       "Image (test):   0%|          | 0/34 [00:00<?, ?it/s]"
      ]
     },
     "metadata": {},
     "output_type": "display_data"
    },
    {
     "data": {
      "application/vnd.jupyter.widget-view+json": {
       "model_id": "120e73ffe6e940bb83df89320f0aa947",
       "version_major": 2,
       "version_minor": 0
      },
      "text/plain": [
       "Image (train):   0%|          | 0/27 [00:00<?, ?it/s]"
      ]
     },
     "metadata": {},
     "output_type": "display_data"
    },
    {
     "data": {
      "application/vnd.jupyter.widget-view+json": {
       "model_id": "5a904179f88648bfae58a83b347c4f44",
       "version_major": 2,
       "version_minor": 0
      },
      "text/plain": [
       "Image (test):   0%|          | 0/27 [00:00<?, ?it/s]"
      ]
     },
     "metadata": {},
     "output_type": "display_data"
    },
    {
     "data": {
      "application/vnd.jupyter.widget-view+json": {
       "model_id": "e406b7b72b9d4d2c8ae1ca85769819c4",
       "version_major": 2,
       "version_minor": 0
      },
      "text/plain": [
       "Image (train):   0%|          | 0/26 [00:00<?, ?it/s]"
      ]
     },
     "metadata": {},
     "output_type": "display_data"
    },
    {
     "data": {
      "application/vnd.jupyter.widget-view+json": {
       "model_id": "fc8a13f00df647e1a4d6a701d76248b5",
       "version_major": 2,
       "version_minor": 0
      },
      "text/plain": [
       "Image (test):   0%|          | 0/26 [00:00<?, ?it/s]"
      ]
     },
     "metadata": {},
     "output_type": "display_data"
    },
    {
     "data": {
      "application/vnd.jupyter.widget-view+json": {
       "model_id": "022ac5f71d82489c8e39d370ffd24069",
       "version_major": 2,
       "version_minor": 0
      },
      "text/plain": [
       "Attempt:   0%|          | 0/10 [00:00<?, ?it/s]"
      ]
     },
     "metadata": {},
     "output_type": "display_data"
    },
    {
     "data": {
      "application/vnd.jupyter.widget-view+json": {
       "model_id": "2a48930f7f5e4b96a2612e760cb4067c",
       "version_major": 2,
       "version_minor": 0
      },
      "text/plain": [
       "Image (train):   0%|          | 0/1000 [00:00<?, ?it/s]"
      ]
     },
     "metadata": {},
     "output_type": "display_data"
    },
    {
     "data": {
      "application/vnd.jupyter.widget-view+json": {
       "model_id": "a523badc79bf426a8e371e01171f716a",
       "version_major": 2,
       "version_minor": 0
      },
      "text/plain": [
       "Image (test):   0%|          | 0/1000 [00:00<?, ?it/s]"
      ]
     },
     "metadata": {},
     "output_type": "display_data"
    },
    {
     "data": {
      "application/vnd.jupyter.widget-view+json": {
       "model_id": "99e5fce019c04e7ea78bee96afefb0a0",
       "version_major": 2,
       "version_minor": 0
      },
      "text/plain": [
       "Image (train):   0%|          | 0/102 [00:00<?, ?it/s]"
      ]
     },
     "metadata": {},
     "output_type": "display_data"
    },
    {
     "data": {
      "application/vnd.jupyter.widget-view+json": {
       "model_id": "60721359f0284785bfa4de3ec924cb0b",
       "version_major": 2,
       "version_minor": 0
      },
      "text/plain": [
       "Image (test):   0%|          | 0/102 [00:00<?, ?it/s]"
      ]
     },
     "metadata": {},
     "output_type": "display_data"
    },
    {
     "data": {
      "application/vnd.jupyter.widget-view+json": {
       "model_id": "b9167bf0aa634053bff87ced03548680",
       "version_major": 2,
       "version_minor": 0
      },
      "text/plain": [
       "Image (train):   0%|          | 0/85 [00:00<?, ?it/s]"
      ]
     },
     "metadata": {},
     "output_type": "display_data"
    },
    {
     "data": {
      "application/vnd.jupyter.widget-view+json": {
       "model_id": "4d77aa54f8eb48cbbf29542ae236d037",
       "version_major": 2,
       "version_minor": 0
      },
      "text/plain": [
       "Image (test):   0%|          | 0/85 [00:00<?, ?it/s]"
      ]
     },
     "metadata": {},
     "output_type": "display_data"
    },
    {
     "data": {
      "application/vnd.jupyter.widget-view+json": {
       "model_id": "c1889984f198486fbd9595e0a28c5380",
       "version_major": 2,
       "version_minor": 0
      },
      "text/plain": [
       "Image (train):   0%|          | 0/64 [00:00<?, ?it/s]"
      ]
     },
     "metadata": {},
     "output_type": "display_data"
    },
    {
     "data": {
      "application/vnd.jupyter.widget-view+json": {
       "model_id": "36ebc995a01d4fffb39e9f22bd77e157",
       "version_major": 2,
       "version_minor": 0
      },
      "text/plain": [
       "Image (test):   0%|          | 0/64 [00:00<?, ?it/s]"
      ]
     },
     "metadata": {},
     "output_type": "display_data"
    },
    {
     "data": {
      "application/vnd.jupyter.widget-view+json": {
       "model_id": "f11d714d9ddf47de8486d74a2856a545",
       "version_major": 2,
       "version_minor": 0
      },
      "text/plain": [
       "Image (train):   0%|          | 0/58 [00:00<?, ?it/s]"
      ]
     },
     "metadata": {},
     "output_type": "display_data"
    },
    {
     "data": {
      "application/vnd.jupyter.widget-view+json": {
       "model_id": "88075ec2b5a8436d84a91fec9ee59d83",
       "version_major": 2,
       "version_minor": 0
      },
      "text/plain": [
       "Image (test):   0%|          | 0/58 [00:00<?, ?it/s]"
      ]
     },
     "metadata": {},
     "output_type": "display_data"
    },
    {
     "data": {
      "application/vnd.jupyter.widget-view+json": {
       "model_id": "2033fe9b12b3415bb99632cdc59ee1b5",
       "version_major": 2,
       "version_minor": 0
      },
      "text/plain": [
       "Image (train):   0%|          | 0/50 [00:00<?, ?it/s]"
      ]
     },
     "metadata": {},
     "output_type": "display_data"
    },
    {
     "data": {
      "application/vnd.jupyter.widget-view+json": {
       "model_id": "2a1243c152bf4cbcb9e23836aee9dae2",
       "version_major": 2,
       "version_minor": 0
      },
      "text/plain": [
       "Image (test):   0%|          | 0/50 [00:00<?, ?it/s]"
      ]
     },
     "metadata": {},
     "output_type": "display_data"
    },
    {
     "data": {
      "application/vnd.jupyter.widget-view+json": {
       "model_id": "5e39eb0d3c1b4f40a741f7d470d81771",
       "version_major": 2,
       "version_minor": 0
      },
      "text/plain": [
       "Image (train):   0%|          | 0/41 [00:00<?, ?it/s]"
      ]
     },
     "metadata": {},
     "output_type": "display_data"
    },
    {
     "data": {
      "application/vnd.jupyter.widget-view+json": {
       "model_id": "f480a523182c4eda8c0b7c9cbef55ec2",
       "version_major": 2,
       "version_minor": 0
      },
      "text/plain": [
       "Image (test):   0%|          | 0/41 [00:00<?, ?it/s]"
      ]
     },
     "metadata": {},
     "output_type": "display_data"
    },
    {
     "data": {
      "application/vnd.jupyter.widget-view+json": {
       "model_id": "6a28b91dfdba4715a8cb03751829c741",
       "version_major": 2,
       "version_minor": 0
      },
      "text/plain": [
       "Image (train):   0%|          | 0/36 [00:00<?, ?it/s]"
      ]
     },
     "metadata": {},
     "output_type": "display_data"
    },
    {
     "data": {
      "application/vnd.jupyter.widget-view+json": {
       "model_id": "4f3f533a1fd241fea5a7d1b56f942e36",
       "version_major": 2,
       "version_minor": 0
      },
      "text/plain": [
       "Image (test):   0%|          | 0/36 [00:00<?, ?it/s]"
      ]
     },
     "metadata": {},
     "output_type": "display_data"
    },
    {
     "data": {
      "application/vnd.jupyter.widget-view+json": {
       "model_id": "ede1685215ed4e178c124e561f6e200d",
       "version_major": 2,
       "version_minor": 0
      },
      "text/plain": [
       "Image (train):   0%|          | 0/31 [00:00<?, ?it/s]"
      ]
     },
     "metadata": {},
     "output_type": "display_data"
    },
    {
     "data": {
      "application/vnd.jupyter.widget-view+json": {
       "model_id": "2197de5eadde4149950df976b23d3979",
       "version_major": 2,
       "version_minor": 0
      },
      "text/plain": [
       "Image (test):   0%|          | 0/31 [00:00<?, ?it/s]"
      ]
     },
     "metadata": {},
     "output_type": "display_data"
    },
    {
     "data": {
      "application/vnd.jupyter.widget-view+json": {
       "model_id": "f7bfea0bda524462b52606c61b788f61",
       "version_major": 2,
       "version_minor": 0
      },
      "text/plain": [
       "Image (train):   0%|          | 0/24 [00:00<?, ?it/s]"
      ]
     },
     "metadata": {},
     "output_type": "display_data"
    },
    {
     "data": {
      "application/vnd.jupyter.widget-view+json": {
       "model_id": "f17c6d44e1f84074bacf4fcd6cabb0f8",
       "version_major": 2,
       "version_minor": 0
      },
      "text/plain": [
       "Image (test):   0%|          | 0/24 [00:00<?, ?it/s]"
      ]
     },
     "metadata": {},
     "output_type": "display_data"
    },
    {
     "data": {
      "application/vnd.jupyter.widget-view+json": {
       "model_id": "7a3a34805be840069889da96a9675603",
       "version_major": 2,
       "version_minor": 0
      },
      "text/plain": [
       "Attempt:   0%|          | 0/10 [00:00<?, ?it/s]"
      ]
     },
     "metadata": {},
     "output_type": "display_data"
    },
    {
     "data": {
      "application/vnd.jupyter.widget-view+json": {
       "model_id": "391c314c85f44c89af09a7052b06eeee",
       "version_major": 2,
       "version_minor": 0
      },
      "text/plain": [
       "Image (train):   0%|          | 0/1000 [00:00<?, ?it/s]"
      ]
     },
     "metadata": {},
     "output_type": "display_data"
    },
    {
     "data": {
      "application/vnd.jupyter.widget-view+json": {
       "model_id": "02676282f2474971844f3e8b8075c192",
       "version_major": 2,
       "version_minor": 0
      },
      "text/plain": [
       "Image (test):   0%|          | 0/1000 [00:00<?, ?it/s]"
      ]
     },
     "metadata": {},
     "output_type": "display_data"
    },
    {
     "data": {
      "application/vnd.jupyter.widget-view+json": {
       "model_id": "fe769937a61a41b19e4d9318e5bee5e8",
       "version_major": 2,
       "version_minor": 0
      },
      "text/plain": [
       "Image (train):   0%|          | 0/72 [00:00<?, ?it/s]"
      ]
     },
     "metadata": {},
     "output_type": "display_data"
    },
    {
     "data": {
      "application/vnd.jupyter.widget-view+json": {
       "model_id": "59814bff5e564991bd6da622c9af2504",
       "version_major": 2,
       "version_minor": 0
      },
      "text/plain": [
       "Image (test):   0%|          | 0/72 [00:00<?, ?it/s]"
      ]
     },
     "metadata": {},
     "output_type": "display_data"
    },
    {
     "data": {
      "application/vnd.jupyter.widget-view+json": {
       "model_id": "4e89f0bac2594097a4308fef262e5a5a",
       "version_major": 2,
       "version_minor": 0
      },
      "text/plain": [
       "Image (train):   0%|          | 0/61 [00:00<?, ?it/s]"
      ]
     },
     "metadata": {},
     "output_type": "display_data"
    },
    {
     "data": {
      "application/vnd.jupyter.widget-view+json": {
       "model_id": "1fd2bf8a77ef4727a537ecef9e3993a0",
       "version_major": 2,
       "version_minor": 0
      },
      "text/plain": [
       "Image (test):   0%|          | 0/61 [00:00<?, ?it/s]"
      ]
     },
     "metadata": {},
     "output_type": "display_data"
    },
    {
     "data": {
      "application/vnd.jupyter.widget-view+json": {
       "model_id": "c14e6ed384af424e9edb3b55a843e207",
       "version_major": 2,
       "version_minor": 0
      },
      "text/plain": [
       "Image (train):   0%|          | 0/53 [00:00<?, ?it/s]"
      ]
     },
     "metadata": {},
     "output_type": "display_data"
    },
    {
     "data": {
      "application/vnd.jupyter.widget-view+json": {
       "model_id": "0da4837801bf41af98332318bb7e99b0",
       "version_major": 2,
       "version_minor": 0
      },
      "text/plain": [
       "Image (test):   0%|          | 0/53 [00:00<?, ?it/s]"
      ]
     },
     "metadata": {},
     "output_type": "display_data"
    },
    {
     "data": {
      "application/vnd.jupyter.widget-view+json": {
       "model_id": "b056c597a1924e3c8143448549eee9f3",
       "version_major": 2,
       "version_minor": 0
      },
      "text/plain": [
       "Image (train):   0%|          | 0/44 [00:00<?, ?it/s]"
      ]
     },
     "metadata": {},
     "output_type": "display_data"
    },
    {
     "data": {
      "application/vnd.jupyter.widget-view+json": {
       "model_id": "617a55b6678c47f2b5f8027f63b977f2",
       "version_major": 2,
       "version_minor": 0
      },
      "text/plain": [
       "Image (test):   0%|          | 0/44 [00:00<?, ?it/s]"
      ]
     },
     "metadata": {},
     "output_type": "display_data"
    },
    {
     "data": {
      "application/vnd.jupyter.widget-view+json": {
       "model_id": "02376619af63482590e8928f9a306fcc",
       "version_major": 2,
       "version_minor": 0
      },
      "text/plain": [
       "Image (train):   0%|          | 0/37 [00:00<?, ?it/s]"
      ]
     },
     "metadata": {},
     "output_type": "display_data"
    },
    {
     "data": {
      "application/vnd.jupyter.widget-view+json": {
       "model_id": "9385af99a5fd48c68e1ae7f7f2436179",
       "version_major": 2,
       "version_minor": 0
      },
      "text/plain": [
       "Image (test):   0%|          | 0/37 [00:00<?, ?it/s]"
      ]
     },
     "metadata": {},
     "output_type": "display_data"
    },
    {
     "data": {
      "application/vnd.jupyter.widget-view+json": {
       "model_id": "cc755848c6e8456bb3b4025d87dc131d",
       "version_major": 2,
       "version_minor": 0
      },
      "text/plain": [
       "Image (train):   0%|          | 0/34 [00:00<?, ?it/s]"
      ]
     },
     "metadata": {},
     "output_type": "display_data"
    },
    {
     "data": {
      "application/vnd.jupyter.widget-view+json": {
       "model_id": "4dabaf23f31a4f3fa45456bae211518a",
       "version_major": 2,
       "version_minor": 0
      },
      "text/plain": [
       "Image (test):   0%|          | 0/34 [00:00<?, ?it/s]"
      ]
     },
     "metadata": {},
     "output_type": "display_data"
    },
    {
     "data": {
      "application/vnd.jupyter.widget-view+json": {
       "model_id": "e62be3a355fc4e1d92d698a5ae33c4e4",
       "version_major": 2,
       "version_minor": 0
      },
      "text/plain": [
       "Image (train):   0%|          | 0/31 [00:00<?, ?it/s]"
      ]
     },
     "metadata": {},
     "output_type": "display_data"
    },
    {
     "data": {
      "application/vnd.jupyter.widget-view+json": {
       "model_id": "376a288530ac45bdb84c070346171dbc",
       "version_major": 2,
       "version_minor": 0
      },
      "text/plain": [
       "Image (test):   0%|          | 0/31 [00:00<?, ?it/s]"
      ]
     },
     "metadata": {},
     "output_type": "display_data"
    },
    {
     "data": {
      "application/vnd.jupyter.widget-view+json": {
       "model_id": "ddcb5e0d2a21409f8c4a297702f7a2db",
       "version_major": 2,
       "version_minor": 0
      },
      "text/plain": [
       "Image (train):   0%|          | 0/25 [00:00<?, ?it/s]"
      ]
     },
     "metadata": {},
     "output_type": "display_data"
    },
    {
     "data": {
      "application/vnd.jupyter.widget-view+json": {
       "model_id": "d69755c83b12416e9b6a925d362af0a4",
       "version_major": 2,
       "version_minor": 0
      },
      "text/plain": [
       "Image (test):   0%|          | 0/25 [00:00<?, ?it/s]"
      ]
     },
     "metadata": {},
     "output_type": "display_data"
    },
    {
     "data": {
      "application/vnd.jupyter.widget-view+json": {
       "model_id": "6b5e7ddcf4b1418a9269a656f668d076",
       "version_major": 2,
       "version_minor": 0
      },
      "text/plain": [
       "Image (train):   0%|          | 0/23 [00:00<?, ?it/s]"
      ]
     },
     "metadata": {},
     "output_type": "display_data"
    },
    {
     "data": {
      "application/vnd.jupyter.widget-view+json": {
       "model_id": "67f96b274219421591c05d3b901b8b35",
       "version_major": 2,
       "version_minor": 0
      },
      "text/plain": [
       "Image (test):   0%|          | 0/23 [00:00<?, ?it/s]"
      ]
     },
     "metadata": {},
     "output_type": "display_data"
    },
    {
     "data": {
      "application/vnd.jupyter.widget-view+json": {
       "model_id": "8d5a851e61664911b5c20c265bc264ad",
       "version_major": 2,
       "version_minor": 0
      },
      "text/plain": [
       "Column:   0%|          | 0/7 [00:00<?, ?it/s]"
      ]
     },
     "metadata": {},
     "output_type": "display_data"
    },
    {
     "data": {
      "application/vnd.jupyter.widget-view+json": {
       "model_id": "26b206d54174456ea674180e1f1a4d6b",
       "version_major": 2,
       "version_minor": 0
      },
      "text/plain": [
       "Attempt:   0%|          | 0/10 [00:00<?, ?it/s]"
      ]
     },
     "metadata": {},
     "output_type": "display_data"
    },
    {
     "data": {
      "application/vnd.jupyter.widget-view+json": {
       "model_id": "eb1ab78b0601436e9f82c306b8dc3ae4",
       "version_major": 2,
       "version_minor": 0
      },
      "text/plain": [
       "Image (train):   0%|          | 0/1000 [00:00<?, ?it/s]"
      ]
     },
     "metadata": {},
     "output_type": "display_data"
    },
    {
     "data": {
      "application/vnd.jupyter.widget-view+json": {
       "model_id": "b90b30ea112740e4a6451f3f2a425e76",
       "version_major": 2,
       "version_minor": 0
      },
      "text/plain": [
       "Image (test):   0%|          | 0/1000 [00:00<?, ?it/s]"
      ]
     },
     "metadata": {},
     "output_type": "display_data"
    },
    {
     "data": {
      "application/vnd.jupyter.widget-view+json": {
       "model_id": "44b6d9b403ee4297a687d50759e1f37e",
       "version_major": 2,
       "version_minor": 0
      },
      "text/plain": [
       "Image (train):   0%|          | 0/27 [00:00<?, ?it/s]"
      ]
     },
     "metadata": {},
     "output_type": "display_data"
    },
    {
     "data": {
      "application/vnd.jupyter.widget-view+json": {
       "model_id": "4490ac864cae40c1a8610c40fdaa9938",
       "version_major": 2,
       "version_minor": 0
      },
      "text/plain": [
       "Image (test):   0%|          | 0/27 [00:00<?, ?it/s]"
      ]
     },
     "metadata": {},
     "output_type": "display_data"
    },
    {
     "data": {
      "application/vnd.jupyter.widget-view+json": {
       "model_id": "b6ad22b550574ed0b7e438d5d87cfc35",
       "version_major": 2,
       "version_minor": 0
      },
      "text/plain": [
       "Image (train):   0%|          | 0/17 [00:00<?, ?it/s]"
      ]
     },
     "metadata": {},
     "output_type": "display_data"
    },
    {
     "data": {
      "application/vnd.jupyter.widget-view+json": {
       "model_id": "816fc58942444a9da6311f542b72b988",
       "version_major": 2,
       "version_minor": 0
      },
      "text/plain": [
       "Image (test):   0%|          | 0/17 [00:00<?, ?it/s]"
      ]
     },
     "metadata": {},
     "output_type": "display_data"
    },
    {
     "data": {
      "application/vnd.jupyter.widget-view+json": {
       "model_id": "5e2333ddbfe6471f9253ab858863e628",
       "version_major": 2,
       "version_minor": 0
      },
      "text/plain": [
       "Image (train):   0%|          | 0/14 [00:00<?, ?it/s]"
      ]
     },
     "metadata": {},
     "output_type": "display_data"
    },
    {
     "data": {
      "application/vnd.jupyter.widget-view+json": {
       "model_id": "959037faf4b7453ca15079d04789c6d3",
       "version_major": 2,
       "version_minor": 0
      },
      "text/plain": [
       "Image (test):   0%|          | 0/14 [00:00<?, ?it/s]"
      ]
     },
     "metadata": {},
     "output_type": "display_data"
    },
    {
     "data": {
      "application/vnd.jupyter.widget-view+json": {
       "model_id": "24183689137746d6b5da61faf16fd793",
       "version_major": 2,
       "version_minor": 0
      },
      "text/plain": [
       "Image (train):   0%|          | 0/12 [00:00<?, ?it/s]"
      ]
     },
     "metadata": {},
     "output_type": "display_data"
    },
    {
     "data": {
      "application/vnd.jupyter.widget-view+json": {
       "model_id": "6736b06e25644867a1b97433ab6a4c4c",
       "version_major": 2,
       "version_minor": 0
      },
      "text/plain": [
       "Image (test):   0%|          | 0/12 [00:00<?, ?it/s]"
      ]
     },
     "metadata": {},
     "output_type": "display_data"
    },
    {
     "data": {
      "application/vnd.jupyter.widget-view+json": {
       "model_id": "acd5e6bc938b40aca00457fe232b18bd",
       "version_major": 2,
       "version_minor": 0
      },
      "text/plain": [
       "Image (train):   0%|          | 0/11 [00:00<?, ?it/s]"
      ]
     },
     "metadata": {},
     "output_type": "display_data"
    },
    {
     "data": {
      "application/vnd.jupyter.widget-view+json": {
       "model_id": "a7e3588630bd40fdbc6f9c08aef7c710",
       "version_major": 2,
       "version_minor": 0
      },
      "text/plain": [
       "Image (test):   0%|          | 0/11 [00:00<?, ?it/s]"
      ]
     },
     "metadata": {},
     "output_type": "display_data"
    },
    {
     "data": {
      "application/vnd.jupyter.widget-view+json": {
       "model_id": "b4c93a85c3c146e298ab1afaa99aa100",
       "version_major": 2,
       "version_minor": 0
      },
      "text/plain": [
       "Image (train):   0%|          | 0/9 [00:00<?, ?it/s]"
      ]
     },
     "metadata": {},
     "output_type": "display_data"
    },
    {
     "data": {
      "application/vnd.jupyter.widget-view+json": {
       "model_id": "8a932cc895404c4cbcbf34e7051f27c6",
       "version_major": 2,
       "version_minor": 0
      },
      "text/plain": [
       "Image (test):   0%|          | 0/9 [00:00<?, ?it/s]"
      ]
     },
     "metadata": {},
     "output_type": "display_data"
    },
    {
     "data": {
      "application/vnd.jupyter.widget-view+json": {
       "model_id": "45ff9afe47fc4f689a8dae5eaec2ff36",
       "version_major": 2,
       "version_minor": 0
      },
      "text/plain": [
       "Image (train):   0%|          | 0/8 [00:00<?, ?it/s]"
      ]
     },
     "metadata": {},
     "output_type": "display_data"
    },
    {
     "data": {
      "application/vnd.jupyter.widget-view+json": {
       "model_id": "4b4b694b0dac4eb5a5b07dc369bf72a3",
       "version_major": 2,
       "version_minor": 0
      },
      "text/plain": [
       "Image (test):   0%|          | 0/8 [00:00<?, ?it/s]"
      ]
     },
     "metadata": {},
     "output_type": "display_data"
    },
    {
     "data": {
      "application/vnd.jupyter.widget-view+json": {
       "model_id": "4525a9c7ccc04e46ae486bc7e6b630ba",
       "version_major": 2,
       "version_minor": 0
      },
      "text/plain": [
       "Image (train):   0%|          | 0/7 [00:00<?, ?it/s]"
      ]
     },
     "metadata": {},
     "output_type": "display_data"
    },
    {
     "data": {
      "application/vnd.jupyter.widget-view+json": {
       "model_id": "935555c24a8048fca815934711807902",
       "version_major": 2,
       "version_minor": 0
      },
      "text/plain": [
       "Image (test):   0%|          | 0/7 [00:00<?, ?it/s]"
      ]
     },
     "metadata": {},
     "output_type": "display_data"
    },
    {
     "data": {
      "application/vnd.jupyter.widget-view+json": {
       "model_id": "0001488421114b34bc738acf985422e7",
       "version_major": 2,
       "version_minor": 0
      },
      "text/plain": [
       "Image (train):   0%|          | 0/7 [00:00<?, ?it/s]"
      ]
     },
     "metadata": {},
     "output_type": "display_data"
    },
    {
     "data": {
      "application/vnd.jupyter.widget-view+json": {
       "model_id": "e3217a92188641e1b9d34644d3d8a968",
       "version_major": 2,
       "version_minor": 0
      },
      "text/plain": [
       "Image (test):   0%|          | 0/7 [00:00<?, ?it/s]"
      ]
     },
     "metadata": {},
     "output_type": "display_data"
    },
    {
     "data": {
      "application/vnd.jupyter.widget-view+json": {
       "model_id": "3f8443b047db4775873107d4a5e85280",
       "version_major": 2,
       "version_minor": 0
      },
      "text/plain": [
       "Attempt:   0%|          | 0/10 [00:00<?, ?it/s]"
      ]
     },
     "metadata": {},
     "output_type": "display_data"
    },
    {
     "data": {
      "application/vnd.jupyter.widget-view+json": {
       "model_id": "22fe70c0ad5247fdb380ff5a58d2ae31",
       "version_major": 2,
       "version_minor": 0
      },
      "text/plain": [
       "Image (train):   0%|          | 0/1000 [00:00<?, ?it/s]"
      ]
     },
     "metadata": {},
     "output_type": "display_data"
    },
    {
     "data": {
      "application/vnd.jupyter.widget-view+json": {
       "model_id": "382b53c9d6a84aecaa8e3be74a81fc5b",
       "version_major": 2,
       "version_minor": 0
      },
      "text/plain": [
       "Image (test):   0%|          | 0/1000 [00:00<?, ?it/s]"
      ]
     },
     "metadata": {},
     "output_type": "display_data"
    },
    {
     "data": {
      "application/vnd.jupyter.widget-view+json": {
       "model_id": "c97671ede5004af985b73474302a05c5",
       "version_major": 2,
       "version_minor": 0
      },
      "text/plain": [
       "Image (train):   0%|          | 0/92 [00:00<?, ?it/s]"
      ]
     },
     "metadata": {},
     "output_type": "display_data"
    },
    {
     "data": {
      "application/vnd.jupyter.widget-view+json": {
       "model_id": "bfddb8a4a37746709f8db57730c40557",
       "version_major": 2,
       "version_minor": 0
      },
      "text/plain": [
       "Image (test):   0%|          | 0/92 [00:00<?, ?it/s]"
      ]
     },
     "metadata": {},
     "output_type": "display_data"
    },
    {
     "data": {
      "application/vnd.jupyter.widget-view+json": {
       "model_id": "8c2f78ecc0a14562bb0fe110a09659c0",
       "version_major": 2,
       "version_minor": 0
      },
      "text/plain": [
       "Image (train):   0%|          | 0/73 [00:00<?, ?it/s]"
      ]
     },
     "metadata": {},
     "output_type": "display_data"
    },
    {
     "data": {
      "application/vnd.jupyter.widget-view+json": {
       "model_id": "4f3188bff3c94714a20515adf0da5d85",
       "version_major": 2,
       "version_minor": 0
      },
      "text/plain": [
       "Image (test):   0%|          | 0/73 [00:00<?, ?it/s]"
      ]
     },
     "metadata": {},
     "output_type": "display_data"
    },
    {
     "data": {
      "application/vnd.jupyter.widget-view+json": {
       "model_id": "dcd0adf098474f30b051efa6448af55c",
       "version_major": 2,
       "version_minor": 0
      },
      "text/plain": [
       "Image (train):   0%|          | 0/53 [00:00<?, ?it/s]"
      ]
     },
     "metadata": {},
     "output_type": "display_data"
    },
    {
     "data": {
      "application/vnd.jupyter.widget-view+json": {
       "model_id": "c844bcbc43a1447ba0ab64e9cc241fc5",
       "version_major": 2,
       "version_minor": 0
      },
      "text/plain": [
       "Image (test):   0%|          | 0/53 [00:00<?, ?it/s]"
      ]
     },
     "metadata": {},
     "output_type": "display_data"
    },
    {
     "data": {
      "application/vnd.jupyter.widget-view+json": {
       "model_id": "0bbc9a5afea24cb4ac31ef338365ce4e",
       "version_major": 2,
       "version_minor": 0
      },
      "text/plain": [
       "Image (train):   0%|          | 0/43 [00:00<?, ?it/s]"
      ]
     },
     "metadata": {},
     "output_type": "display_data"
    },
    {
     "data": {
      "application/vnd.jupyter.widget-view+json": {
       "model_id": "02cc5721fadb47c69173e1888bb0a608",
       "version_major": 2,
       "version_minor": 0
      },
      "text/plain": [
       "Image (test):   0%|          | 0/43 [00:00<?, ?it/s]"
      ]
     },
     "metadata": {},
     "output_type": "display_data"
    },
    {
     "data": {
      "application/vnd.jupyter.widget-view+json": {
       "model_id": "5a1f839ca87f43baae0edf0ce892d462",
       "version_major": 2,
       "version_minor": 0
      },
      "text/plain": [
       "Image (train):   0%|          | 0/39 [00:00<?, ?it/s]"
      ]
     },
     "metadata": {},
     "output_type": "display_data"
    },
    {
     "data": {
      "application/vnd.jupyter.widget-view+json": {
       "model_id": "b21a42cb5888464997a5f3414dbfd050",
       "version_major": 2,
       "version_minor": 0
      },
      "text/plain": [
       "Image (test):   0%|          | 0/39 [00:00<?, ?it/s]"
      ]
     },
     "metadata": {},
     "output_type": "display_data"
    },
    {
     "data": {
      "application/vnd.jupyter.widget-view+json": {
       "model_id": "d0458a6a631043be9bb86aa227925c87",
       "version_major": 2,
       "version_minor": 0
      },
      "text/plain": [
       "Image (train):   0%|          | 0/35 [00:00<?, ?it/s]"
      ]
     },
     "metadata": {},
     "output_type": "display_data"
    },
    {
     "data": {
      "application/vnd.jupyter.widget-view+json": {
       "model_id": "05c6bbbee1e64ec7a949f1f95b6a9153",
       "version_major": 2,
       "version_minor": 0
      },
      "text/plain": [
       "Image (test):   0%|          | 0/35 [00:00<?, ?it/s]"
      ]
     },
     "metadata": {},
     "output_type": "display_data"
    },
    {
     "data": {
      "application/vnd.jupyter.widget-view+json": {
       "model_id": "405266ebb4494930a2a2c948fcca2e40",
       "version_major": 2,
       "version_minor": 0
      },
      "text/plain": [
       "Image (train):   0%|          | 0/30 [00:00<?, ?it/s]"
      ]
     },
     "metadata": {},
     "output_type": "display_data"
    },
    {
     "data": {
      "application/vnd.jupyter.widget-view+json": {
       "model_id": "1e98713b195d476cb1115012767a5d51",
       "version_major": 2,
       "version_minor": 0
      },
      "text/plain": [
       "Image (test):   0%|          | 0/30 [00:00<?, ?it/s]"
      ]
     },
     "metadata": {},
     "output_type": "display_data"
    },
    {
     "data": {
      "application/vnd.jupyter.widget-view+json": {
       "model_id": "adea27162edf46bba6c7e67e12f4502f",
       "version_major": 2,
       "version_minor": 0
      },
      "text/plain": [
       "Image (train):   0%|          | 0/25 [00:00<?, ?it/s]"
      ]
     },
     "metadata": {},
     "output_type": "display_data"
    },
    {
     "data": {
      "application/vnd.jupyter.widget-view+json": {
       "model_id": "d89e9df96b954ec6b8577daea6ed1532",
       "version_major": 2,
       "version_minor": 0
      },
      "text/plain": [
       "Image (test):   0%|          | 0/25 [00:00<?, ?it/s]"
      ]
     },
     "metadata": {},
     "output_type": "display_data"
    },
    {
     "data": {
      "application/vnd.jupyter.widget-view+json": {
       "model_id": "31e240aea65e4103a8967ca503c1dc83",
       "version_major": 2,
       "version_minor": 0
      },
      "text/plain": [
       "Image (train):   0%|          | 0/21 [00:00<?, ?it/s]"
      ]
     },
     "metadata": {},
     "output_type": "display_data"
    },
    {
     "data": {
      "application/vnd.jupyter.widget-view+json": {
       "model_id": "3981514a491d4d7e891ecafaa37a6f46",
       "version_major": 2,
       "version_minor": 0
      },
      "text/plain": [
       "Image (test):   0%|          | 0/21 [00:00<?, ?it/s]"
      ]
     },
     "metadata": {},
     "output_type": "display_data"
    },
    {
     "data": {
      "application/vnd.jupyter.widget-view+json": {
       "model_id": "a84fb9987a7d4826add3890dc8e2c2dc",
       "version_major": 2,
       "version_minor": 0
      },
      "text/plain": [
       "Attempt:   0%|          | 0/10 [00:00<?, ?it/s]"
      ]
     },
     "metadata": {},
     "output_type": "display_data"
    },
    {
     "data": {
      "application/vnd.jupyter.widget-view+json": {
       "model_id": "59459980cc4647a9a245a904e06d6603",
       "version_major": 2,
       "version_minor": 0
      },
      "text/plain": [
       "Image (train):   0%|          | 0/1000 [00:00<?, ?it/s]"
      ]
     },
     "metadata": {},
     "output_type": "display_data"
    },
    {
     "data": {
      "application/vnd.jupyter.widget-view+json": {
       "model_id": "f5fef166f2434628b07596c7112c00d8",
       "version_major": 2,
       "version_minor": 0
      },
      "text/plain": [
       "Image (test):   0%|          | 0/1000 [00:00<?, ?it/s]"
      ]
     },
     "metadata": {},
     "output_type": "display_data"
    },
    {
     "data": {
      "application/vnd.jupyter.widget-view+json": {
       "model_id": "12ddc0696797403c90973d4b75a97735",
       "version_major": 2,
       "version_minor": 0
      },
      "text/plain": [
       "Image (train):   0%|          | 0/84 [00:00<?, ?it/s]"
      ]
     },
     "metadata": {},
     "output_type": "display_data"
    },
    {
     "data": {
      "application/vnd.jupyter.widget-view+json": {
       "model_id": "70a78c75cce84a889f1911329b533702",
       "version_major": 2,
       "version_minor": 0
      },
      "text/plain": [
       "Image (test):   0%|          | 0/84 [00:00<?, ?it/s]"
      ]
     },
     "metadata": {},
     "output_type": "display_data"
    },
    {
     "data": {
      "application/vnd.jupyter.widget-view+json": {
       "model_id": "e1817c633ce144429f65c6573f1e0345",
       "version_major": 2,
       "version_minor": 0
      },
      "text/plain": [
       "Image (train):   0%|          | 0/64 [00:00<?, ?it/s]"
      ]
     },
     "metadata": {},
     "output_type": "display_data"
    },
    {
     "data": {
      "application/vnd.jupyter.widget-view+json": {
       "model_id": "a1a6fc358b8a43379ab77e1d2e9b1673",
       "version_major": 2,
       "version_minor": 0
      },
      "text/plain": [
       "Image (test):   0%|          | 0/64 [00:00<?, ?it/s]"
      ]
     },
     "metadata": {},
     "output_type": "display_data"
    },
    {
     "data": {
      "application/vnd.jupyter.widget-view+json": {
       "model_id": "a557ad27e8b742ca95b3c1280bdd7882",
       "version_major": 2,
       "version_minor": 0
      },
      "text/plain": [
       "Image (train):   0%|          | 0/56 [00:00<?, ?it/s]"
      ]
     },
     "metadata": {},
     "output_type": "display_data"
    },
    {
     "data": {
      "application/vnd.jupyter.widget-view+json": {
       "model_id": "20fec2bc84934061a47e22d3c04c52b4",
       "version_major": 2,
       "version_minor": 0
      },
      "text/plain": [
       "Image (test):   0%|          | 0/56 [00:00<?, ?it/s]"
      ]
     },
     "metadata": {},
     "output_type": "display_data"
    },
    {
     "data": {
      "application/vnd.jupyter.widget-view+json": {
       "model_id": "be09f348ea8e4528999977714bf52176",
       "version_major": 2,
       "version_minor": 0
      },
      "text/plain": [
       "Image (train):   0%|          | 0/49 [00:00<?, ?it/s]"
      ]
     },
     "metadata": {},
     "output_type": "display_data"
    },
    {
     "data": {
      "application/vnd.jupyter.widget-view+json": {
       "model_id": "0c278b9e37994cfe8eec71dade0bfd62",
       "version_major": 2,
       "version_minor": 0
      },
      "text/plain": [
       "Image (test):   0%|          | 0/49 [00:00<?, ?it/s]"
      ]
     },
     "metadata": {},
     "output_type": "display_data"
    },
    {
     "data": {
      "application/vnd.jupyter.widget-view+json": {
       "model_id": "7fb7a7b993284884b062b6573381e2c9",
       "version_major": 2,
       "version_minor": 0
      },
      "text/plain": [
       "Image (train):   0%|          | 0/42 [00:00<?, ?it/s]"
      ]
     },
     "metadata": {},
     "output_type": "display_data"
    },
    {
     "data": {
      "application/vnd.jupyter.widget-view+json": {
       "model_id": "2d536be281be45c0a61ecf6d266209de",
       "version_major": 2,
       "version_minor": 0
      },
      "text/plain": [
       "Image (test):   0%|          | 0/42 [00:00<?, ?it/s]"
      ]
     },
     "metadata": {},
     "output_type": "display_data"
    },
    {
     "data": {
      "application/vnd.jupyter.widget-view+json": {
       "model_id": "af0d5dcbd1e949f5aa18819e8e130b21",
       "version_major": 2,
       "version_minor": 0
      },
      "text/plain": [
       "Image (train):   0%|          | 0/36 [00:00<?, ?it/s]"
      ]
     },
     "metadata": {},
     "output_type": "display_data"
    },
    {
     "data": {
      "application/vnd.jupyter.widget-view+json": {
       "model_id": "100e9b4bfc8f43dea6ab5e1cba07ea34",
       "version_major": 2,
       "version_minor": 0
      },
      "text/plain": [
       "Image (test):   0%|          | 0/36 [00:00<?, ?it/s]"
      ]
     },
     "metadata": {},
     "output_type": "display_data"
    },
    {
     "data": {
      "application/vnd.jupyter.widget-view+json": {
       "model_id": "1732a135cd8f4523a410f62a46f20b4c",
       "version_major": 2,
       "version_minor": 0
      },
      "text/plain": [
       "Image (train):   0%|          | 0/29 [00:00<?, ?it/s]"
      ]
     },
     "metadata": {},
     "output_type": "display_data"
    },
    {
     "data": {
      "application/vnd.jupyter.widget-view+json": {
       "model_id": "462088e3c675441e9852f0c3229e4639",
       "version_major": 2,
       "version_minor": 0
      },
      "text/plain": [
       "Image (test):   0%|          | 0/29 [00:00<?, ?it/s]"
      ]
     },
     "metadata": {},
     "output_type": "display_data"
    },
    {
     "data": {
      "application/vnd.jupyter.widget-view+json": {
       "model_id": "5ac3c08beba247a595cde911f05326a6",
       "version_major": 2,
       "version_minor": 0
      },
      "text/plain": [
       "Image (train):   0%|          | 0/25 [00:00<?, ?it/s]"
      ]
     },
     "metadata": {},
     "output_type": "display_data"
    },
    {
     "data": {
      "application/vnd.jupyter.widget-view+json": {
       "model_id": "59d265494b914a37871386197f3b2458",
       "version_major": 2,
       "version_minor": 0
      },
      "text/plain": [
       "Image (test):   0%|          | 0/25 [00:00<?, ?it/s]"
      ]
     },
     "metadata": {},
     "output_type": "display_data"
    },
    {
     "data": {
      "application/vnd.jupyter.widget-view+json": {
       "model_id": "f94bbe95fe944d3a8a4fd757f1ffc204",
       "version_major": 2,
       "version_minor": 0
      },
      "text/plain": [
       "Image (train):   0%|          | 0/23 [00:00<?, ?it/s]"
      ]
     },
     "metadata": {},
     "output_type": "display_data"
    },
    {
     "data": {
      "application/vnd.jupyter.widget-view+json": {
       "model_id": "da4778c681494e988ff51172601440b2",
       "version_major": 2,
       "version_minor": 0
      },
      "text/plain": [
       "Image (test):   0%|          | 0/23 [00:00<?, ?it/s]"
      ]
     },
     "metadata": {},
     "output_type": "display_data"
    },
    {
     "data": {
      "application/vnd.jupyter.widget-view+json": {
       "model_id": "317c369316404336af7624f8f80553bf",
       "version_major": 2,
       "version_minor": 0
      },
      "text/plain": [
       "Attempt:   0%|          | 0/10 [00:00<?, ?it/s]"
      ]
     },
     "metadata": {},
     "output_type": "display_data"
    },
    {
     "data": {
      "application/vnd.jupyter.widget-view+json": {
       "model_id": "61fd0590b96040ba80e5be74227aa6fa",
       "version_major": 2,
       "version_minor": 0
      },
      "text/plain": [
       "Image (train):   0%|          | 0/1000 [00:00<?, ?it/s]"
      ]
     },
     "metadata": {},
     "output_type": "display_data"
    },
    {
     "data": {
      "application/vnd.jupyter.widget-view+json": {
       "model_id": "824db91668ad48709259bc43fa46767a",
       "version_major": 2,
       "version_minor": 0
      },
      "text/plain": [
       "Image (test):   0%|          | 0/1000 [00:00<?, ?it/s]"
      ]
     },
     "metadata": {},
     "output_type": "display_data"
    },
    {
     "data": {
      "application/vnd.jupyter.widget-view+json": {
       "model_id": "0ea912b7e7324db28bc79efad2b3c744",
       "version_major": 2,
       "version_minor": 0
      },
      "text/plain": [
       "Image (train):   0%|          | 0/82 [00:00<?, ?it/s]"
      ]
     },
     "metadata": {},
     "output_type": "display_data"
    },
    {
     "data": {
      "application/vnd.jupyter.widget-view+json": {
       "model_id": "67295d54538a4e39ad584758c448f9f4",
       "version_major": 2,
       "version_minor": 0
      },
      "text/plain": [
       "Image (test):   0%|          | 0/82 [00:00<?, ?it/s]"
      ]
     },
     "metadata": {},
     "output_type": "display_data"
    },
    {
     "data": {
      "application/vnd.jupyter.widget-view+json": {
       "model_id": "26fa3c9732dd48eb8ce5f53ae6d56ea7",
       "version_major": 2,
       "version_minor": 0
      },
      "text/plain": [
       "Image (train):   0%|          | 0/65 [00:00<?, ?it/s]"
      ]
     },
     "metadata": {},
     "output_type": "display_data"
    },
    {
     "data": {
      "application/vnd.jupyter.widget-view+json": {
       "model_id": "7e884084905044d59af79635b6530c5b",
       "version_major": 2,
       "version_minor": 0
      },
      "text/plain": [
       "Image (test):   0%|          | 0/65 [00:00<?, ?it/s]"
      ]
     },
     "metadata": {},
     "output_type": "display_data"
    },
    {
     "data": {
      "application/vnd.jupyter.widget-view+json": {
       "model_id": "5920f99872ac4b3e9a8984211273932c",
       "version_major": 2,
       "version_minor": 0
      },
      "text/plain": [
       "Image (train):   0%|          | 0/48 [00:00<?, ?it/s]"
      ]
     },
     "metadata": {},
     "output_type": "display_data"
    },
    {
     "data": {
      "application/vnd.jupyter.widget-view+json": {
       "model_id": "c51b4e5e276749a0a808c249e0e39ea3",
       "version_major": 2,
       "version_minor": 0
      },
      "text/plain": [
       "Image (test):   0%|          | 0/48 [00:00<?, ?it/s]"
      ]
     },
     "metadata": {},
     "output_type": "display_data"
    },
    {
     "data": {
      "application/vnd.jupyter.widget-view+json": {
       "model_id": "7eb1ecdc8b4c4e559149955d713a93d6",
       "version_major": 2,
       "version_minor": 0
      },
      "text/plain": [
       "Image (train):   0%|          | 0/43 [00:00<?, ?it/s]"
      ]
     },
     "metadata": {},
     "output_type": "display_data"
    },
    {
     "data": {
      "application/vnd.jupyter.widget-view+json": {
       "model_id": "a255ac1a87664ace93237f497348a18d",
       "version_major": 2,
       "version_minor": 0
      },
      "text/plain": [
       "Image (test):   0%|          | 0/43 [00:00<?, ?it/s]"
      ]
     },
     "metadata": {},
     "output_type": "display_data"
    },
    {
     "data": {
      "application/vnd.jupyter.widget-view+json": {
       "model_id": "52b96e72a23a44f5aaecf9da413ff1c5",
       "version_major": 2,
       "version_minor": 0
      },
      "text/plain": [
       "Image (train):   0%|          | 0/35 [00:00<?, ?it/s]"
      ]
     },
     "metadata": {},
     "output_type": "display_data"
    },
    {
     "data": {
      "application/vnd.jupyter.widget-view+json": {
       "model_id": "8ae39dbaa62541f9856d2acb8ff1a98e",
       "version_major": 2,
       "version_minor": 0
      },
      "text/plain": [
       "Image (test):   0%|          | 0/35 [00:00<?, ?it/s]"
      ]
     },
     "metadata": {},
     "output_type": "display_data"
    },
    {
     "data": {
      "application/vnd.jupyter.widget-view+json": {
       "model_id": "198972f28a6040cb80a2ece8a0aad295",
       "version_major": 2,
       "version_minor": 0
      },
      "text/plain": [
       "Image (train):   0%|          | 0/26 [00:00<?, ?it/s]"
      ]
     },
     "metadata": {},
     "output_type": "display_data"
    },
    {
     "data": {
      "application/vnd.jupyter.widget-view+json": {
       "model_id": "82f4ccf02c484995a1e0bd72db336b46",
       "version_major": 2,
       "version_minor": 0
      },
      "text/plain": [
       "Image (test):   0%|          | 0/26 [00:00<?, ?it/s]"
      ]
     },
     "metadata": {},
     "output_type": "display_data"
    },
    {
     "data": {
      "application/vnd.jupyter.widget-view+json": {
       "model_id": "9738e3ce3d294971b07cccd06f2a4178",
       "version_major": 2,
       "version_minor": 0
      },
      "text/plain": [
       "Image (train):   0%|          | 0/25 [00:00<?, ?it/s]"
      ]
     },
     "metadata": {},
     "output_type": "display_data"
    },
    {
     "data": {
      "application/vnd.jupyter.widget-view+json": {
       "model_id": "07cfb95a85a547d3baa6e88d2c19915e",
       "version_major": 2,
       "version_minor": 0
      },
      "text/plain": [
       "Image (test):   0%|          | 0/25 [00:00<?, ?it/s]"
      ]
     },
     "metadata": {},
     "output_type": "display_data"
    },
    {
     "data": {
      "application/vnd.jupyter.widget-view+json": {
       "model_id": "4b8abc6921b948aea77340e7ebe652f2",
       "version_major": 2,
       "version_minor": 0
      },
      "text/plain": [
       "Image (train):   0%|          | 0/23 [00:00<?, ?it/s]"
      ]
     },
     "metadata": {},
     "output_type": "display_data"
    },
    {
     "data": {
      "application/vnd.jupyter.widget-view+json": {
       "model_id": "8767509af6ab47a3804582af5440f9e9",
       "version_major": 2,
       "version_minor": 0
      },
      "text/plain": [
       "Image (test):   0%|          | 0/23 [00:00<?, ?it/s]"
      ]
     },
     "metadata": {},
     "output_type": "display_data"
    },
    {
     "data": {
      "application/vnd.jupyter.widget-view+json": {
       "model_id": "9b816d5d3bea45efa44bad3fc4bc0ee7",
       "version_major": 2,
       "version_minor": 0
      },
      "text/plain": [
       "Image (train):   0%|          | 0/22 [00:00<?, ?it/s]"
      ]
     },
     "metadata": {},
     "output_type": "display_data"
    },
    {
     "data": {
      "application/vnd.jupyter.widget-view+json": {
       "model_id": "257e59071cff40c9a9a737d5c2f9d3e0",
       "version_major": 2,
       "version_minor": 0
      },
      "text/plain": [
       "Image (test):   0%|          | 0/22 [00:00<?, ?it/s]"
      ]
     },
     "metadata": {},
     "output_type": "display_data"
    },
    {
     "data": {
      "application/vnd.jupyter.widget-view+json": {
       "model_id": "2a1f22ea030a46649def3b068e9fbdda",
       "version_major": 2,
       "version_minor": 0
      },
      "text/plain": [
       "Attempt:   0%|          | 0/10 [00:00<?, ?it/s]"
      ]
     },
     "metadata": {},
     "output_type": "display_data"
    },
    {
     "data": {
      "application/vnd.jupyter.widget-view+json": {
       "model_id": "3f88a0de4be44604a3535b129567d170",
       "version_major": 2,
       "version_minor": 0
      },
      "text/plain": [
       "Image (train):   0%|          | 0/1000 [00:00<?, ?it/s]"
      ]
     },
     "metadata": {},
     "output_type": "display_data"
    },
    {
     "data": {
      "application/vnd.jupyter.widget-view+json": {
       "model_id": "ea4107ebfbf642428dd307fa9a2dfd50",
       "version_major": 2,
       "version_minor": 0
      },
      "text/plain": [
       "Image (test):   0%|          | 0/1000 [00:00<?, ?it/s]"
      ]
     },
     "metadata": {},
     "output_type": "display_data"
    },
    {
     "data": {
      "application/vnd.jupyter.widget-view+json": {
       "model_id": "4914575440454505b4a41e50852e937e",
       "version_major": 2,
       "version_minor": 0
      },
      "text/plain": [
       "Image (train):   0%|          | 0/82 [00:00<?, ?it/s]"
      ]
     },
     "metadata": {},
     "output_type": "display_data"
    },
    {
     "data": {
      "application/vnd.jupyter.widget-view+json": {
       "model_id": "1ecf5e5450b942df9d1a57f9e9a896a0",
       "version_major": 2,
       "version_minor": 0
      },
      "text/plain": [
       "Image (test):   0%|          | 0/82 [00:00<?, ?it/s]"
      ]
     },
     "metadata": {},
     "output_type": "display_data"
    },
    {
     "data": {
      "application/vnd.jupyter.widget-view+json": {
       "model_id": "802e885747b444b08f20ffc4ae34bea9",
       "version_major": 2,
       "version_minor": 0
      },
      "text/plain": [
       "Image (train):   0%|          | 0/67 [00:00<?, ?it/s]"
      ]
     },
     "metadata": {},
     "output_type": "display_data"
    },
    {
     "data": {
      "application/vnd.jupyter.widget-view+json": {
       "model_id": "6aded77dee5f4c24a5965bcb0032affb",
       "version_major": 2,
       "version_minor": 0
      },
      "text/plain": [
       "Image (test):   0%|          | 0/67 [00:00<?, ?it/s]"
      ]
     },
     "metadata": {},
     "output_type": "display_data"
    },
    {
     "data": {
      "application/vnd.jupyter.widget-view+json": {
       "model_id": "c28aa2f63d754057b663ce956ce6bbe5",
       "version_major": 2,
       "version_minor": 0
      },
      "text/plain": [
       "Image (train):   0%|          | 0/57 [00:00<?, ?it/s]"
      ]
     },
     "metadata": {},
     "output_type": "display_data"
    },
    {
     "data": {
      "application/vnd.jupyter.widget-view+json": {
       "model_id": "4eb2313cecf14524a36632d9641c74b1",
       "version_major": 2,
       "version_minor": 0
      },
      "text/plain": [
       "Image (test):   0%|          | 0/57 [00:00<?, ?it/s]"
      ]
     },
     "metadata": {},
     "output_type": "display_data"
    },
    {
     "data": {
      "application/vnd.jupyter.widget-view+json": {
       "model_id": "c2b86d218c654360b225b7ea624a0f9a",
       "version_major": 2,
       "version_minor": 0
      },
      "text/plain": [
       "Image (train):   0%|          | 0/49 [00:00<?, ?it/s]"
      ]
     },
     "metadata": {},
     "output_type": "display_data"
    },
    {
     "data": {
      "application/vnd.jupyter.widget-view+json": {
       "model_id": "90b52d826a1948ebbc6c70120f0e14e6",
       "version_major": 2,
       "version_minor": 0
      },
      "text/plain": [
       "Image (test):   0%|          | 0/49 [00:00<?, ?it/s]"
      ]
     },
     "metadata": {},
     "output_type": "display_data"
    },
    {
     "data": {
      "application/vnd.jupyter.widget-view+json": {
       "model_id": "9646eefad1eb43fd88c2b21e73d4178e",
       "version_major": 2,
       "version_minor": 0
      },
      "text/plain": [
       "Image (train):   0%|          | 0/37 [00:00<?, ?it/s]"
      ]
     },
     "metadata": {},
     "output_type": "display_data"
    },
    {
     "data": {
      "application/vnd.jupyter.widget-view+json": {
       "model_id": "05d9dcea644b4b24a9356f21a7e7479e",
       "version_major": 2,
       "version_minor": 0
      },
      "text/plain": [
       "Image (test):   0%|          | 0/37 [00:00<?, ?it/s]"
      ]
     },
     "metadata": {},
     "output_type": "display_data"
    },
    {
     "data": {
      "application/vnd.jupyter.widget-view+json": {
       "model_id": "4510e2e13eab40c08f9f4d6e3f343323",
       "version_major": 2,
       "version_minor": 0
      },
      "text/plain": [
       "Image (train):   0%|          | 0/33 [00:00<?, ?it/s]"
      ]
     },
     "metadata": {},
     "output_type": "display_data"
    },
    {
     "data": {
      "application/vnd.jupyter.widget-view+json": {
       "model_id": "21185f14dbd84059b2162c9dbcee005f",
       "version_major": 2,
       "version_minor": 0
      },
      "text/plain": [
       "Image (test):   0%|          | 0/33 [00:00<?, ?it/s]"
      ]
     },
     "metadata": {},
     "output_type": "display_data"
    },
    {
     "data": {
      "application/vnd.jupyter.widget-view+json": {
       "model_id": "2a86cc89c9924019b030c89192b95bd9",
       "version_major": 2,
       "version_minor": 0
      },
      "text/plain": [
       "Image (train):   0%|          | 0/30 [00:00<?, ?it/s]"
      ]
     },
     "metadata": {},
     "output_type": "display_data"
    },
    {
     "data": {
      "application/vnd.jupyter.widget-view+json": {
       "model_id": "f4f8a7eb28f049c99438413afdeebb65",
       "version_major": 2,
       "version_minor": 0
      },
      "text/plain": [
       "Image (test):   0%|          | 0/30 [00:00<?, ?it/s]"
      ]
     },
     "metadata": {},
     "output_type": "display_data"
    },
    {
     "data": {
      "application/vnd.jupyter.widget-view+json": {
       "model_id": "15f00f289ee0443682364ecb011c4b1f",
       "version_major": 2,
       "version_minor": 0
      },
      "text/plain": [
       "Image (train):   0%|          | 0/25 [00:00<?, ?it/s]"
      ]
     },
     "metadata": {},
     "output_type": "display_data"
    },
    {
     "data": {
      "application/vnd.jupyter.widget-view+json": {
       "model_id": "ca7b6a44d81d4c19b7723112aad8a810",
       "version_major": 2,
       "version_minor": 0
      },
      "text/plain": [
       "Image (test):   0%|          | 0/25 [00:00<?, ?it/s]"
      ]
     },
     "metadata": {},
     "output_type": "display_data"
    },
    {
     "data": {
      "application/vnd.jupyter.widget-view+json": {
       "model_id": "9d8ef6af56be41bf99f8116dd3e27939",
       "version_major": 2,
       "version_minor": 0
      },
      "text/plain": [
       "Image (train):   0%|          | 0/22 [00:00<?, ?it/s]"
      ]
     },
     "metadata": {},
     "output_type": "display_data"
    },
    {
     "data": {
      "application/vnd.jupyter.widget-view+json": {
       "model_id": "ab9aca8fdc2b42b4aac33fd19fd847b8",
       "version_major": 2,
       "version_minor": 0
      },
      "text/plain": [
       "Image (test):   0%|          | 0/22 [00:00<?, ?it/s]"
      ]
     },
     "metadata": {},
     "output_type": "display_data"
    },
    {
     "data": {
      "application/vnd.jupyter.widget-view+json": {
       "model_id": "9dfd252326a54c7ab934086582b08a4d",
       "version_major": 2,
       "version_minor": 0
      },
      "text/plain": [
       "Attempt:   0%|          | 0/10 [00:00<?, ?it/s]"
      ]
     },
     "metadata": {},
     "output_type": "display_data"
    },
    {
     "data": {
      "application/vnd.jupyter.widget-view+json": {
       "model_id": "011516a920b74a90a3eed3ea1072e82e",
       "version_major": 2,
       "version_minor": 0
      },
      "text/plain": [
       "Image (train):   0%|          | 0/1000 [00:00<?, ?it/s]"
      ]
     },
     "metadata": {},
     "output_type": "display_data"
    },
    {
     "data": {
      "application/vnd.jupyter.widget-view+json": {
       "model_id": "8ddd5128939b4e49841343d58a6370c6",
       "version_major": 2,
       "version_minor": 0
      },
      "text/plain": [
       "Image (test):   0%|          | 0/1000 [00:00<?, ?it/s]"
      ]
     },
     "metadata": {},
     "output_type": "display_data"
    },
    {
     "data": {
      "application/vnd.jupyter.widget-view+json": {
       "model_id": "d36962855b6f474393f3de8a1c5bc2ae",
       "version_major": 2,
       "version_minor": 0
      },
      "text/plain": [
       "Image (train):   0%|          | 0/106 [00:00<?, ?it/s]"
      ]
     },
     "metadata": {},
     "output_type": "display_data"
    },
    {
     "data": {
      "application/vnd.jupyter.widget-view+json": {
       "model_id": "fc3a611d23d04dabacd95c173b4581cc",
       "version_major": 2,
       "version_minor": 0
      },
      "text/plain": [
       "Image (test):   0%|          | 0/106 [00:00<?, ?it/s]"
      ]
     },
     "metadata": {},
     "output_type": "display_data"
    },
    {
     "data": {
      "application/vnd.jupyter.widget-view+json": {
       "model_id": "b00371afd74a46b8b321313ec2dc28e4",
       "version_major": 2,
       "version_minor": 0
      },
      "text/plain": [
       "Image (train):   0%|          | 0/82 [00:00<?, ?it/s]"
      ]
     },
     "metadata": {},
     "output_type": "display_data"
    },
    {
     "data": {
      "application/vnd.jupyter.widget-view+json": {
       "model_id": "53ad5ac389d94905896ab9e10b18f86c",
       "version_major": 2,
       "version_minor": 0
      },
      "text/plain": [
       "Image (test):   0%|          | 0/82 [00:00<?, ?it/s]"
      ]
     },
     "metadata": {},
     "output_type": "display_data"
    },
    {
     "data": {
      "application/vnd.jupyter.widget-view+json": {
       "model_id": "6171125ead354d7899246de734b7fcea",
       "version_major": 2,
       "version_minor": 0
      },
      "text/plain": [
       "Image (train):   0%|          | 0/69 [00:00<?, ?it/s]"
      ]
     },
     "metadata": {},
     "output_type": "display_data"
    },
    {
     "data": {
      "application/vnd.jupyter.widget-view+json": {
       "model_id": "b784a5270db94caca45421820e4d2917",
       "version_major": 2,
       "version_minor": 0
      },
      "text/plain": [
       "Image (test):   0%|          | 0/69 [00:00<?, ?it/s]"
      ]
     },
     "metadata": {},
     "output_type": "display_data"
    },
    {
     "data": {
      "application/vnd.jupyter.widget-view+json": {
       "model_id": "c5acbca891fd4d8a9e1630cf60b9b234",
       "version_major": 2,
       "version_minor": 0
      },
      "text/plain": [
       "Image (train):   0%|          | 0/61 [00:00<?, ?it/s]"
      ]
     },
     "metadata": {},
     "output_type": "display_data"
    },
    {
     "data": {
      "application/vnd.jupyter.widget-view+json": {
       "model_id": "c268af5a68174089beeeab6895eebf90",
       "version_major": 2,
       "version_minor": 0
      },
      "text/plain": [
       "Image (test):   0%|          | 0/61 [00:00<?, ?it/s]"
      ]
     },
     "metadata": {},
     "output_type": "display_data"
    },
    {
     "data": {
      "application/vnd.jupyter.widget-view+json": {
       "model_id": "c0711842ea2440e9a2651fec24cb3380",
       "version_major": 2,
       "version_minor": 0
      },
      "text/plain": [
       "Image (train):   0%|          | 0/52 [00:00<?, ?it/s]"
      ]
     },
     "metadata": {},
     "output_type": "display_data"
    },
    {
     "data": {
      "application/vnd.jupyter.widget-view+json": {
       "model_id": "b9f59f3c86a14fb0a0b65f4493c8c671",
       "version_major": 2,
       "version_minor": 0
      },
      "text/plain": [
       "Image (test):   0%|          | 0/52 [00:00<?, ?it/s]"
      ]
     },
     "metadata": {},
     "output_type": "display_data"
    },
    {
     "data": {
      "application/vnd.jupyter.widget-view+json": {
       "model_id": "b141a3d9270049438323f2debc74a805",
       "version_major": 2,
       "version_minor": 0
      },
      "text/plain": [
       "Image (train):   0%|          | 0/46 [00:00<?, ?it/s]"
      ]
     },
     "metadata": {},
     "output_type": "display_data"
    },
    {
     "data": {
      "application/vnd.jupyter.widget-view+json": {
       "model_id": "7a29ab2a44834152b0d44d0493ee570f",
       "version_major": 2,
       "version_minor": 0
      },
      "text/plain": [
       "Image (test):   0%|          | 0/46 [00:00<?, ?it/s]"
      ]
     },
     "metadata": {},
     "output_type": "display_data"
    },
    {
     "data": {
      "application/vnd.jupyter.widget-view+json": {
       "model_id": "180bb41108274fc6b5e2e0b47283851a",
       "version_major": 2,
       "version_minor": 0
      },
      "text/plain": [
       "Image (train):   0%|          | 0/38 [00:00<?, ?it/s]"
      ]
     },
     "metadata": {},
     "output_type": "display_data"
    },
    {
     "data": {
      "application/vnd.jupyter.widget-view+json": {
       "model_id": "d8b026012d404c77b2f1f1d9af535589",
       "version_major": 2,
       "version_minor": 0
      },
      "text/plain": [
       "Image (test):   0%|          | 0/38 [00:00<?, ?it/s]"
      ]
     },
     "metadata": {},
     "output_type": "display_data"
    },
    {
     "data": {
      "application/vnd.jupyter.widget-view+json": {
       "model_id": "00cba5a656d04f1681da268297b540cc",
       "version_major": 2,
       "version_minor": 0
      },
      "text/plain": [
       "Image (train):   0%|          | 0/32 [00:00<?, ?it/s]"
      ]
     },
     "metadata": {},
     "output_type": "display_data"
    },
    {
     "data": {
      "application/vnd.jupyter.widget-view+json": {
       "model_id": "6b370c184c174171845c9fbb00bf375e",
       "version_major": 2,
       "version_minor": 0
      },
      "text/plain": [
       "Image (test):   0%|          | 0/32 [00:00<?, ?it/s]"
      ]
     },
     "metadata": {},
     "output_type": "display_data"
    },
    {
     "data": {
      "application/vnd.jupyter.widget-view+json": {
       "model_id": "d61ecdecc0bd4a97bad6769000872993",
       "version_major": 2,
       "version_minor": 0
      },
      "text/plain": [
       "Image (train):   0%|          | 0/24 [00:00<?, ?it/s]"
      ]
     },
     "metadata": {},
     "output_type": "display_data"
    },
    {
     "data": {
      "application/vnd.jupyter.widget-view+json": {
       "model_id": "2dc3a3ffae134fc2ad600071d704c622",
       "version_major": 2,
       "version_minor": 0
      },
      "text/plain": [
       "Image (test):   0%|          | 0/24 [00:00<?, ?it/s]"
      ]
     },
     "metadata": {},
     "output_type": "display_data"
    },
    {
     "data": {
      "application/vnd.jupyter.widget-view+json": {
       "model_id": "981025585890434e8bd5087b1eb55d58",
       "version_major": 2,
       "version_minor": 0
      },
      "text/plain": [
       "Attempt:   0%|          | 0/10 [00:00<?, ?it/s]"
      ]
     },
     "metadata": {},
     "output_type": "display_data"
    },
    {
     "data": {
      "application/vnd.jupyter.widget-view+json": {
       "model_id": "b44be8f087b346e69f0e4634c0417582",
       "version_major": 2,
       "version_minor": 0
      },
      "text/plain": [
       "Image (train):   0%|          | 0/1000 [00:00<?, ?it/s]"
      ]
     },
     "metadata": {},
     "output_type": "display_data"
    },
    {
     "data": {
      "application/vnd.jupyter.widget-view+json": {
       "model_id": "2b4e6ae9a1bc4b858d07569a75db01d7",
       "version_major": 2,
       "version_minor": 0
      },
      "text/plain": [
       "Image (test):   0%|          | 0/1000 [00:00<?, ?it/s]"
      ]
     },
     "metadata": {},
     "output_type": "display_data"
    },
    {
     "data": {
      "application/vnd.jupyter.widget-view+json": {
       "model_id": "f93998018325413ba02cdac8e391d645",
       "version_major": 2,
       "version_minor": 0
      },
      "text/plain": [
       "Image (train):   0%|          | 0/65 [00:00<?, ?it/s]"
      ]
     },
     "metadata": {},
     "output_type": "display_data"
    },
    {
     "data": {
      "application/vnd.jupyter.widget-view+json": {
       "model_id": "6a0cfeb4bb3f4c88ac4a2bccadd621a9",
       "version_major": 2,
       "version_minor": 0
      },
      "text/plain": [
       "Image (test):   0%|          | 0/65 [00:00<?, ?it/s]"
      ]
     },
     "metadata": {},
     "output_type": "display_data"
    },
    {
     "data": {
      "application/vnd.jupyter.widget-view+json": {
       "model_id": "358133ce35aa4e13a46cfea2d65b8b02",
       "version_major": 2,
       "version_minor": 0
      },
      "text/plain": [
       "Image (train):   0%|          | 0/55 [00:00<?, ?it/s]"
      ]
     },
     "metadata": {},
     "output_type": "display_data"
    },
    {
     "data": {
      "application/vnd.jupyter.widget-view+json": {
       "model_id": "7598aa4c475a4bcd802ed11d46cc4b9a",
       "version_major": 2,
       "version_minor": 0
      },
      "text/plain": [
       "Image (test):   0%|          | 0/55 [00:00<?, ?it/s]"
      ]
     },
     "metadata": {},
     "output_type": "display_data"
    },
    {
     "data": {
      "application/vnd.jupyter.widget-view+json": {
       "model_id": "a03ac63a1b6647dba84b2cdacdcbd6a5",
       "version_major": 2,
       "version_minor": 0
      },
      "text/plain": [
       "Image (train):   0%|          | 0/48 [00:00<?, ?it/s]"
      ]
     },
     "metadata": {},
     "output_type": "display_data"
    },
    {
     "data": {
      "application/vnd.jupyter.widget-view+json": {
       "model_id": "e1103bde4086435ab54330c73c881dd0",
       "version_major": 2,
       "version_minor": 0
      },
      "text/plain": [
       "Image (test):   0%|          | 0/48 [00:00<?, ?it/s]"
      ]
     },
     "metadata": {},
     "output_type": "display_data"
    },
    {
     "data": {
      "application/vnd.jupyter.widget-view+json": {
       "model_id": "1fb02f0e93f741bbaa355180ad0d1e10",
       "version_major": 2,
       "version_minor": 0
      },
      "text/plain": [
       "Image (train):   0%|          | 0/39 [00:00<?, ?it/s]"
      ]
     },
     "metadata": {},
     "output_type": "display_data"
    },
    {
     "data": {
      "application/vnd.jupyter.widget-view+json": {
       "model_id": "911ddb33f654483ca72a5dc5e8d98c7c",
       "version_major": 2,
       "version_minor": 0
      },
      "text/plain": [
       "Image (test):   0%|          | 0/39 [00:00<?, ?it/s]"
      ]
     },
     "metadata": {},
     "output_type": "display_data"
    },
    {
     "data": {
      "application/vnd.jupyter.widget-view+json": {
       "model_id": "d09dbffbb4c544ff92d345125e44b2cd",
       "version_major": 2,
       "version_minor": 0
      },
      "text/plain": [
       "Image (train):   0%|          | 0/38 [00:00<?, ?it/s]"
      ]
     },
     "metadata": {},
     "output_type": "display_data"
    },
    {
     "data": {
      "application/vnd.jupyter.widget-view+json": {
       "model_id": "3e4bbd0cc2f646c8aaa4fe49df661ba1",
       "version_major": 2,
       "version_minor": 0
      },
      "text/plain": [
       "Image (test):   0%|          | 0/38 [00:00<?, ?it/s]"
      ]
     },
     "metadata": {},
     "output_type": "display_data"
    },
    {
     "data": {
      "application/vnd.jupyter.widget-view+json": {
       "model_id": "abce9a4cda754427956f1aa10a323548",
       "version_major": 2,
       "version_minor": 0
      },
      "text/plain": [
       "Image (train):   0%|          | 0/28 [00:00<?, ?it/s]"
      ]
     },
     "metadata": {},
     "output_type": "display_data"
    },
    {
     "data": {
      "application/vnd.jupyter.widget-view+json": {
       "model_id": "2501fcd7bcc3459caecb1673391d0b2e",
       "version_major": 2,
       "version_minor": 0
      },
      "text/plain": [
       "Image (test):   0%|          | 0/28 [00:00<?, ?it/s]"
      ]
     },
     "metadata": {},
     "output_type": "display_data"
    },
    {
     "data": {
      "application/vnd.jupyter.widget-view+json": {
       "model_id": "93e5cc17f99c4408b2c4cba65560aa3c",
       "version_major": 2,
       "version_minor": 0
      },
      "text/plain": [
       "Image (train):   0%|          | 0/24 [00:00<?, ?it/s]"
      ]
     },
     "metadata": {},
     "output_type": "display_data"
    },
    {
     "data": {
      "application/vnd.jupyter.widget-view+json": {
       "model_id": "8276471ef52a4ae7ab37bb8403fe41fe",
       "version_major": 2,
       "version_minor": 0
      },
      "text/plain": [
       "Image (test):   0%|          | 0/24 [00:00<?, ?it/s]"
      ]
     },
     "metadata": {},
     "output_type": "display_data"
    },
    {
     "data": {
      "application/vnd.jupyter.widget-view+json": {
       "model_id": "f14b69ce215341bc86645dc170999c22",
       "version_major": 2,
       "version_minor": 0
      },
      "text/plain": [
       "Image (train):   0%|          | 0/18 [00:00<?, ?it/s]"
      ]
     },
     "metadata": {},
     "output_type": "display_data"
    },
    {
     "data": {
      "application/vnd.jupyter.widget-view+json": {
       "model_id": "e340648dfd874d30a4c825f693e5a832",
       "version_major": 2,
       "version_minor": 0
      },
      "text/plain": [
       "Image (test):   0%|          | 0/18 [00:00<?, ?it/s]"
      ]
     },
     "metadata": {},
     "output_type": "display_data"
    },
    {
     "data": {
      "application/vnd.jupyter.widget-view+json": {
       "model_id": "d05b90afb173423280a37200c34d330a",
       "version_major": 2,
       "version_minor": 0
      },
      "text/plain": [
       "Image (train):   0%|          | 0/17 [00:00<?, ?it/s]"
      ]
     },
     "metadata": {},
     "output_type": "display_data"
    },
    {
     "data": {
      "application/vnd.jupyter.widget-view+json": {
       "model_id": "aac48596410e427687d81f11ad05b9be",
       "version_major": 2,
       "version_minor": 0
      },
      "text/plain": [
       "Image (test):   0%|          | 0/17 [00:00<?, ?it/s]"
      ]
     },
     "metadata": {},
     "output_type": "display_data"
    },
    {
     "data": {
      "application/vnd.jupyter.widget-view+json": {
       "model_id": "b375647f716443fd833ab2a3dc42cc00",
       "version_major": 2,
       "version_minor": 0
      },
      "text/plain": [
       "Column:   0%|          | 0/7 [00:00<?, ?it/s]"
      ]
     },
     "metadata": {},
     "output_type": "display_data"
    },
    {
     "data": {
      "application/vnd.jupyter.widget-view+json": {
       "model_id": "84b4e8a279c1406ab5671234e1ce222c",
       "version_major": 2,
       "version_minor": 0
      },
      "text/plain": [
       "Attempt:   0%|          | 0/10 [00:00<?, ?it/s]"
      ]
     },
     "metadata": {},
     "output_type": "display_data"
    },
    {
     "data": {
      "application/vnd.jupyter.widget-view+json": {
       "model_id": "a8864f30f6f740dc8dcdea03d85d0224",
       "version_major": 2,
       "version_minor": 0
      },
      "text/plain": [
       "Image (train):   0%|          | 0/1000 [00:00<?, ?it/s]"
      ]
     },
     "metadata": {},
     "output_type": "display_data"
    },
    {
     "data": {
      "application/vnd.jupyter.widget-view+json": {
       "model_id": "55a2f561b0974fe198757173c3ee7ded",
       "version_major": 2,
       "version_minor": 0
      },
      "text/plain": [
       "Image (test):   0%|          | 0/1000 [00:00<?, ?it/s]"
      ]
     },
     "metadata": {},
     "output_type": "display_data"
    },
    {
     "data": {
      "application/vnd.jupyter.widget-view+json": {
       "model_id": "845e6ba56cb547b0964f5a0d4b69a821",
       "version_major": 2,
       "version_minor": 0
      },
      "text/plain": [
       "Image (train):   0%|          | 0/27 [00:00<?, ?it/s]"
      ]
     },
     "metadata": {},
     "output_type": "display_data"
    },
    {
     "data": {
      "application/vnd.jupyter.widget-view+json": {
       "model_id": "3a96a1f961dc4182b77c125eb0b25785",
       "version_major": 2,
       "version_minor": 0
      },
      "text/plain": [
       "Image (test):   0%|          | 0/27 [00:00<?, ?it/s]"
      ]
     },
     "metadata": {},
     "output_type": "display_data"
    },
    {
     "data": {
      "application/vnd.jupyter.widget-view+json": {
       "model_id": "2eebb2227cfd4af08cf5da53a738dc7a",
       "version_major": 2,
       "version_minor": 0
      },
      "text/plain": [
       "Image (train):   0%|          | 0/21 [00:00<?, ?it/s]"
      ]
     },
     "metadata": {},
     "output_type": "display_data"
    },
    {
     "data": {
      "application/vnd.jupyter.widget-view+json": {
       "model_id": "ccbebb6b7cdc4b608027134fa2cb0746",
       "version_major": 2,
       "version_minor": 0
      },
      "text/plain": [
       "Image (test):   0%|          | 0/21 [00:00<?, ?it/s]"
      ]
     },
     "metadata": {},
     "output_type": "display_data"
    },
    {
     "data": {
      "application/vnd.jupyter.widget-view+json": {
       "model_id": "dd68e399b351489387ba71809a9d7ab3",
       "version_major": 2,
       "version_minor": 0
      },
      "text/plain": [
       "Image (train):   0%|          | 0/15 [00:00<?, ?it/s]"
      ]
     },
     "metadata": {},
     "output_type": "display_data"
    },
    {
     "data": {
      "application/vnd.jupyter.widget-view+json": {
       "model_id": "458ca0cf9814439296cee804f2c270a6",
       "version_major": 2,
       "version_minor": 0
      },
      "text/plain": [
       "Image (test):   0%|          | 0/15 [00:00<?, ?it/s]"
      ]
     },
     "metadata": {},
     "output_type": "display_data"
    },
    {
     "data": {
      "application/vnd.jupyter.widget-view+json": {
       "model_id": "73f8c48fac834ec085d64998010ed644",
       "version_major": 2,
       "version_minor": 0
      },
      "text/plain": [
       "Image (train):   0%|          | 0/15 [00:00<?, ?it/s]"
      ]
     },
     "metadata": {},
     "output_type": "display_data"
    },
    {
     "data": {
      "application/vnd.jupyter.widget-view+json": {
       "model_id": "5c5d6608aa9c4230ac30940cf5bcaed3",
       "version_major": 2,
       "version_minor": 0
      },
      "text/plain": [
       "Image (test):   0%|          | 0/15 [00:00<?, ?it/s]"
      ]
     },
     "metadata": {},
     "output_type": "display_data"
    },
    {
     "data": {
      "application/vnd.jupyter.widget-view+json": {
       "model_id": "cd64b7863d914023a5100b75670c022f",
       "version_major": 2,
       "version_minor": 0
      },
      "text/plain": [
       "Image (train):   0%|          | 0/13 [00:00<?, ?it/s]"
      ]
     },
     "metadata": {},
     "output_type": "display_data"
    },
    {
     "data": {
      "application/vnd.jupyter.widget-view+json": {
       "model_id": "2c5a004ddac44d5aaea28282b929f758",
       "version_major": 2,
       "version_minor": 0
      },
      "text/plain": [
       "Image (test):   0%|          | 0/13 [00:00<?, ?it/s]"
      ]
     },
     "metadata": {},
     "output_type": "display_data"
    },
    {
     "data": {
      "application/vnd.jupyter.widget-view+json": {
       "model_id": "f70a38c46d82429eb613eef1064707f6",
       "version_major": 2,
       "version_minor": 0
      },
      "text/plain": [
       "Image (train):   0%|          | 0/12 [00:00<?, ?it/s]"
      ]
     },
     "metadata": {},
     "output_type": "display_data"
    },
    {
     "data": {
      "application/vnd.jupyter.widget-view+json": {
       "model_id": "944073fe7bfc411abf0500c4d4d31256",
       "version_major": 2,
       "version_minor": 0
      },
      "text/plain": [
       "Image (test):   0%|          | 0/12 [00:00<?, ?it/s]"
      ]
     },
     "metadata": {},
     "output_type": "display_data"
    },
    {
     "data": {
      "application/vnd.jupyter.widget-view+json": {
       "model_id": "6b6eba60c55943d3bc9e0374bfadcfeb",
       "version_major": 2,
       "version_minor": 0
      },
      "text/plain": [
       "Image (train):   0%|          | 0/10 [00:00<?, ?it/s]"
      ]
     },
     "metadata": {},
     "output_type": "display_data"
    },
    {
     "data": {
      "application/vnd.jupyter.widget-view+json": {
       "model_id": "6b6d94f36dc946a0ac5077a9c2f051d7",
       "version_major": 2,
       "version_minor": 0
      },
      "text/plain": [
       "Image (test):   0%|          | 0/10 [00:00<?, ?it/s]"
      ]
     },
     "metadata": {},
     "output_type": "display_data"
    },
    {
     "data": {
      "application/vnd.jupyter.widget-view+json": {
       "model_id": "73637ecaba0248708aada3ff40985558",
       "version_major": 2,
       "version_minor": 0
      },
      "text/plain": [
       "Image (train):   0%|          | 0/10 [00:00<?, ?it/s]"
      ]
     },
     "metadata": {},
     "output_type": "display_data"
    },
    {
     "data": {
      "application/vnd.jupyter.widget-view+json": {
       "model_id": "d9fe2ca754fc4ac69fb570e6c585cb55",
       "version_major": 2,
       "version_minor": 0
      },
      "text/plain": [
       "Image (test):   0%|          | 0/10 [00:00<?, ?it/s]"
      ]
     },
     "metadata": {},
     "output_type": "display_data"
    },
    {
     "data": {
      "application/vnd.jupyter.widget-view+json": {
       "model_id": "7df77a31aaf94a888b9bd0b7be21c999",
       "version_major": 2,
       "version_minor": 0
      },
      "text/plain": [
       "Image (train):   0%|          | 0/8 [00:00<?, ?it/s]"
      ]
     },
     "metadata": {},
     "output_type": "display_data"
    },
    {
     "data": {
      "application/vnd.jupyter.widget-view+json": {
       "model_id": "23d67be408e94c0295bc19755dfd3456",
       "version_major": 2,
       "version_minor": 0
      },
      "text/plain": [
       "Image (test):   0%|          | 0/8 [00:00<?, ?it/s]"
      ]
     },
     "metadata": {},
     "output_type": "display_data"
    },
    {
     "data": {
      "application/vnd.jupyter.widget-view+json": {
       "model_id": "43dc780259b042e9b65b5a6a77bf5a70",
       "version_major": 2,
       "version_minor": 0
      },
      "text/plain": [
       "Attempt:   0%|          | 0/10 [00:00<?, ?it/s]"
      ]
     },
     "metadata": {},
     "output_type": "display_data"
    },
    {
     "data": {
      "application/vnd.jupyter.widget-view+json": {
       "model_id": "fcbfb535cdf3426a85d5e0bdf1ce191e",
       "version_major": 2,
       "version_minor": 0
      },
      "text/plain": [
       "Image (train):   0%|          | 0/1000 [00:00<?, ?it/s]"
      ]
     },
     "metadata": {},
     "output_type": "display_data"
    },
    {
     "data": {
      "application/vnd.jupyter.widget-view+json": {
       "model_id": "77167c85e652499da1be30dd145aa164",
       "version_major": 2,
       "version_minor": 0
      },
      "text/plain": [
       "Image (test):   0%|          | 0/1000 [00:00<?, ?it/s]"
      ]
     },
     "metadata": {},
     "output_type": "display_data"
    },
    {
     "data": {
      "application/vnd.jupyter.widget-view+json": {
       "model_id": "9575223d14404e04b7e9859aa40134e5",
       "version_major": 2,
       "version_minor": 0
      },
      "text/plain": [
       "Image (train):   0%|          | 0/81 [00:00<?, ?it/s]"
      ]
     },
     "metadata": {},
     "output_type": "display_data"
    },
    {
     "data": {
      "application/vnd.jupyter.widget-view+json": {
       "model_id": "3b262df7cfea49da9c2ba4f87be5f6cf",
       "version_major": 2,
       "version_minor": 0
      },
      "text/plain": [
       "Image (test):   0%|          | 0/81 [00:00<?, ?it/s]"
      ]
     },
     "metadata": {},
     "output_type": "display_data"
    },
    {
     "data": {
      "application/vnd.jupyter.widget-view+json": {
       "model_id": "dd09f32777c44faabb3c4d5a75e44427",
       "version_major": 2,
       "version_minor": 0
      },
      "text/plain": [
       "Image (train):   0%|          | 0/75 [00:00<?, ?it/s]"
      ]
     },
     "metadata": {},
     "output_type": "display_data"
    },
    {
     "data": {
      "application/vnd.jupyter.widget-view+json": {
       "model_id": "84a22653441d4e73a5f3dd9eb18134e6",
       "version_major": 2,
       "version_minor": 0
      },
      "text/plain": [
       "Image (test):   0%|          | 0/75 [00:00<?, ?it/s]"
      ]
     },
     "metadata": {},
     "output_type": "display_data"
    },
    {
     "data": {
      "application/vnd.jupyter.widget-view+json": {
       "model_id": "318990f099df4226b27a1d7c94544fe8",
       "version_major": 2,
       "version_minor": 0
      },
      "text/plain": [
       "Image (train):   0%|          | 0/64 [00:00<?, ?it/s]"
      ]
     },
     "metadata": {},
     "output_type": "display_data"
    },
    {
     "data": {
      "application/vnd.jupyter.widget-view+json": {
       "model_id": "38a2f9961a2b43b98d797b0290f2e1e0",
       "version_major": 2,
       "version_minor": 0
      },
      "text/plain": [
       "Image (test):   0%|          | 0/64 [00:00<?, ?it/s]"
      ]
     },
     "metadata": {},
     "output_type": "display_data"
    },
    {
     "data": {
      "application/vnd.jupyter.widget-view+json": {
       "model_id": "5992881709dd451cab6bd018e3bdff50",
       "version_major": 2,
       "version_minor": 0
      },
      "text/plain": [
       "Image (train):   0%|          | 0/58 [00:00<?, ?it/s]"
      ]
     },
     "metadata": {},
     "output_type": "display_data"
    },
    {
     "data": {
      "application/vnd.jupyter.widget-view+json": {
       "model_id": "3ca708155f9342b6b09db509f03145fa",
       "version_major": 2,
       "version_minor": 0
      },
      "text/plain": [
       "Image (test):   0%|          | 0/58 [00:00<?, ?it/s]"
      ]
     },
     "metadata": {},
     "output_type": "display_data"
    },
    {
     "data": {
      "application/vnd.jupyter.widget-view+json": {
       "model_id": "b94b4617ff8d44498f5fbdba0909529a",
       "version_major": 2,
       "version_minor": 0
      },
      "text/plain": [
       "Image (train):   0%|          | 0/50 [00:00<?, ?it/s]"
      ]
     },
     "metadata": {},
     "output_type": "display_data"
    },
    {
     "data": {
      "application/vnd.jupyter.widget-view+json": {
       "model_id": "091b5a59b1804eed887b015c3f5cef4b",
       "version_major": 2,
       "version_minor": 0
      },
      "text/plain": [
       "Image (test):   0%|          | 0/50 [00:00<?, ?it/s]"
      ]
     },
     "metadata": {},
     "output_type": "display_data"
    },
    {
     "data": {
      "application/vnd.jupyter.widget-view+json": {
       "model_id": "7b1336f2e83e4576bf0316eda70cc501",
       "version_major": 2,
       "version_minor": 0
      },
      "text/plain": [
       "Image (train):   0%|          | 0/45 [00:00<?, ?it/s]"
      ]
     },
     "metadata": {},
     "output_type": "display_data"
    },
    {
     "data": {
      "application/vnd.jupyter.widget-view+json": {
       "model_id": "f41553dfb1ca44e6836ff9545b94d05a",
       "version_major": 2,
       "version_minor": 0
      },
      "text/plain": [
       "Image (test):   0%|          | 0/45 [00:00<?, ?it/s]"
      ]
     },
     "metadata": {},
     "output_type": "display_data"
    },
    {
     "data": {
      "application/vnd.jupyter.widget-view+json": {
       "model_id": "6071b8d539a748d4872c94117aefc751",
       "version_major": 2,
       "version_minor": 0
      },
      "text/plain": [
       "Image (train):   0%|          | 0/40 [00:00<?, ?it/s]"
      ]
     },
     "metadata": {},
     "output_type": "display_data"
    },
    {
     "data": {
      "application/vnd.jupyter.widget-view+json": {
       "model_id": "7ef5c7a6ba8f4d799196eeee1d7a270b",
       "version_major": 2,
       "version_minor": 0
      },
      "text/plain": [
       "Image (test):   0%|          | 0/40 [00:00<?, ?it/s]"
      ]
     },
     "metadata": {},
     "output_type": "display_data"
    },
    {
     "data": {
      "application/vnd.jupyter.widget-view+json": {
       "model_id": "9ab3296716df40d5a019630df09b7a4e",
       "version_major": 2,
       "version_minor": 0
      },
      "text/plain": [
       "Image (train):   0%|          | 0/38 [00:00<?, ?it/s]"
      ]
     },
     "metadata": {},
     "output_type": "display_data"
    },
    {
     "data": {
      "application/vnd.jupyter.widget-view+json": {
       "model_id": "4e614ab57e444494aa5559edfedfc6bb",
       "version_major": 2,
       "version_minor": 0
      },
      "text/plain": [
       "Image (test):   0%|          | 0/38 [00:00<?, ?it/s]"
      ]
     },
     "metadata": {},
     "output_type": "display_data"
    },
    {
     "data": {
      "application/vnd.jupyter.widget-view+json": {
       "model_id": "b7a0acb6e7ff473f8c61268e0237c790",
       "version_major": 2,
       "version_minor": 0
      },
      "text/plain": [
       "Image (train):   0%|          | 0/36 [00:00<?, ?it/s]"
      ]
     },
     "metadata": {},
     "output_type": "display_data"
    },
    {
     "data": {
      "application/vnd.jupyter.widget-view+json": {
       "model_id": "e70e3eadfdf847f8a38c98c553adadbc",
       "version_major": 2,
       "version_minor": 0
      },
      "text/plain": [
       "Image (test):   0%|          | 0/36 [00:00<?, ?it/s]"
      ]
     },
     "metadata": {},
     "output_type": "display_data"
    },
    {
     "data": {
      "application/vnd.jupyter.widget-view+json": {
       "model_id": "dbbb58af99264318910d0a776bd80184",
       "version_major": 2,
       "version_minor": 0
      },
      "text/plain": [
       "Attempt:   0%|          | 0/10 [00:00<?, ?it/s]"
      ]
     },
     "metadata": {},
     "output_type": "display_data"
    },
    {
     "data": {
      "application/vnd.jupyter.widget-view+json": {
       "model_id": "c92c4f09026a4eea8c7cac935add0d4a",
       "version_major": 2,
       "version_minor": 0
      },
      "text/plain": [
       "Image (train):   0%|          | 0/1000 [00:00<?, ?it/s]"
      ]
     },
     "metadata": {},
     "output_type": "display_data"
    },
    {
     "data": {
      "application/vnd.jupyter.widget-view+json": {
       "model_id": "e092ad8372364601b90bbd6bb5e0e6d3",
       "version_major": 2,
       "version_minor": 0
      },
      "text/plain": [
       "Image (test):   0%|          | 0/1000 [00:00<?, ?it/s]"
      ]
     },
     "metadata": {},
     "output_type": "display_data"
    },
    {
     "data": {
      "application/vnd.jupyter.widget-view+json": {
       "model_id": "6932578a340e4cbf8c3620ecdee3fd6d",
       "version_major": 2,
       "version_minor": 0
      },
      "text/plain": [
       "Image (train):   0%|          | 0/74 [00:00<?, ?it/s]"
      ]
     },
     "metadata": {},
     "output_type": "display_data"
    },
    {
     "data": {
      "application/vnd.jupyter.widget-view+json": {
       "model_id": "d6dd790dfea64e7dae5eb2fb890110fd",
       "version_major": 2,
       "version_minor": 0
      },
      "text/plain": [
       "Image (test):   0%|          | 0/74 [00:00<?, ?it/s]"
      ]
     },
     "metadata": {},
     "output_type": "display_data"
    },
    {
     "data": {
      "application/vnd.jupyter.widget-view+json": {
       "model_id": "f525761e20f6480dad6e3434cb9ed222",
       "version_major": 2,
       "version_minor": 0
      },
      "text/plain": [
       "Image (train):   0%|          | 0/61 [00:00<?, ?it/s]"
      ]
     },
     "metadata": {},
     "output_type": "display_data"
    },
    {
     "data": {
      "application/vnd.jupyter.widget-view+json": {
       "model_id": "7733ae7bf6fb4a1c87d70f09c5678ce9",
       "version_major": 2,
       "version_minor": 0
      },
      "text/plain": [
       "Image (test):   0%|          | 0/61 [00:00<?, ?it/s]"
      ]
     },
     "metadata": {},
     "output_type": "display_data"
    },
    {
     "data": {
      "application/vnd.jupyter.widget-view+json": {
       "model_id": "14fd470acad34ead96825bbdcb6956c3",
       "version_major": 2,
       "version_minor": 0
      },
      "text/plain": [
       "Image (train):   0%|          | 0/53 [00:00<?, ?it/s]"
      ]
     },
     "metadata": {},
     "output_type": "display_data"
    },
    {
     "data": {
      "application/vnd.jupyter.widget-view+json": {
       "model_id": "453828269b434480a9f3ebce40986376",
       "version_major": 2,
       "version_minor": 0
      },
      "text/plain": [
       "Image (test):   0%|          | 0/53 [00:00<?, ?it/s]"
      ]
     },
     "metadata": {},
     "output_type": "display_data"
    },
    {
     "data": {
      "application/vnd.jupyter.widget-view+json": {
       "model_id": "8138d74726a142059dd5ec506d58a10e",
       "version_major": 2,
       "version_minor": 0
      },
      "text/plain": [
       "Image (train):   0%|          | 0/40 [00:00<?, ?it/s]"
      ]
     },
     "metadata": {},
     "output_type": "display_data"
    },
    {
     "data": {
      "application/vnd.jupyter.widget-view+json": {
       "model_id": "7d288a8c66e547679696a20a05aa1225",
       "version_major": 2,
       "version_minor": 0
      },
      "text/plain": [
       "Image (test):   0%|          | 0/40 [00:00<?, ?it/s]"
      ]
     },
     "metadata": {},
     "output_type": "display_data"
    },
    {
     "data": {
      "application/vnd.jupyter.widget-view+json": {
       "model_id": "986e77d064f8413fad716357ad7f0e2f",
       "version_major": 2,
       "version_minor": 0
      },
      "text/plain": [
       "Image (train):   0%|          | 0/34 [00:00<?, ?it/s]"
      ]
     },
     "metadata": {},
     "output_type": "display_data"
    },
    {
     "data": {
      "application/vnd.jupyter.widget-view+json": {
       "model_id": "b7a3b5d1cb914e258c965be7a19e95d4",
       "version_major": 2,
       "version_minor": 0
      },
      "text/plain": [
       "Image (test):   0%|          | 0/34 [00:00<?, ?it/s]"
      ]
     },
     "metadata": {},
     "output_type": "display_data"
    },
    {
     "data": {
      "application/vnd.jupyter.widget-view+json": {
       "model_id": "c84cbe1a2d5148c4a184686b6aee93e7",
       "version_major": 2,
       "version_minor": 0
      },
      "text/plain": [
       "Image (train):   0%|          | 0/31 [00:00<?, ?it/s]"
      ]
     },
     "metadata": {},
     "output_type": "display_data"
    },
    {
     "data": {
      "application/vnd.jupyter.widget-view+json": {
       "model_id": "1a24bd3775b54f2bb6f0491cc34fa6fc",
       "version_major": 2,
       "version_minor": 0
      },
      "text/plain": [
       "Image (test):   0%|          | 0/31 [00:00<?, ?it/s]"
      ]
     },
     "metadata": {},
     "output_type": "display_data"
    },
    {
     "data": {
      "application/vnd.jupyter.widget-view+json": {
       "model_id": "6b3817daf1b7418aa83bd508b8b6978f",
       "version_major": 2,
       "version_minor": 0
      },
      "text/plain": [
       "Image (train):   0%|          | 0/29 [00:00<?, ?it/s]"
      ]
     },
     "metadata": {},
     "output_type": "display_data"
    },
    {
     "data": {
      "application/vnd.jupyter.widget-view+json": {
       "model_id": "a040c5c6f35f4ec4a98989f9c6ba4f84",
       "version_major": 2,
       "version_minor": 0
      },
      "text/plain": [
       "Image (test):   0%|          | 0/29 [00:00<?, ?it/s]"
      ]
     },
     "metadata": {},
     "output_type": "display_data"
    },
    {
     "data": {
      "application/vnd.jupyter.widget-view+json": {
       "model_id": "88b6e7c7de7f4bb693d518f35e806772",
       "version_major": 2,
       "version_minor": 0
      },
      "text/plain": [
       "Image (train):   0%|          | 0/26 [00:00<?, ?it/s]"
      ]
     },
     "metadata": {},
     "output_type": "display_data"
    },
    {
     "data": {
      "application/vnd.jupyter.widget-view+json": {
       "model_id": "d8415978c3f54530821019c228d239b0",
       "version_major": 2,
       "version_minor": 0
      },
      "text/plain": [
       "Image (test):   0%|          | 0/26 [00:00<?, ?it/s]"
      ]
     },
     "metadata": {},
     "output_type": "display_data"
    },
    {
     "data": {
      "application/vnd.jupyter.widget-view+json": {
       "model_id": "cff1290bc0fa470e95f0902a52f29288",
       "version_major": 2,
       "version_minor": 0
      },
      "text/plain": [
       "Image (train):   0%|          | 0/24 [00:00<?, ?it/s]"
      ]
     },
     "metadata": {},
     "output_type": "display_data"
    },
    {
     "data": {
      "application/vnd.jupyter.widget-view+json": {
       "model_id": "777b4439c30d48f58caaa69294f95f76",
       "version_major": 2,
       "version_minor": 0
      },
      "text/plain": [
       "Image (test):   0%|          | 0/24 [00:00<?, ?it/s]"
      ]
     },
     "metadata": {},
     "output_type": "display_data"
    },
    {
     "data": {
      "application/vnd.jupyter.widget-view+json": {
       "model_id": "e63dcf4a1b7f4abda7e384a5b435ed07",
       "version_major": 2,
       "version_minor": 0
      },
      "text/plain": [
       "Attempt:   0%|          | 0/10 [00:00<?, ?it/s]"
      ]
     },
     "metadata": {},
     "output_type": "display_data"
    },
    {
     "data": {
      "application/vnd.jupyter.widget-view+json": {
       "model_id": "3013909003944dff930c34a85923497f",
       "version_major": 2,
       "version_minor": 0
      },
      "text/plain": [
       "Image (train):   0%|          | 0/1000 [00:00<?, ?it/s]"
      ]
     },
     "metadata": {},
     "output_type": "display_data"
    },
    {
     "data": {
      "application/vnd.jupyter.widget-view+json": {
       "model_id": "3e3e68d588df44e9a411ee5caf31a3f4",
       "version_major": 2,
       "version_minor": 0
      },
      "text/plain": [
       "Image (test):   0%|          | 0/1000 [00:00<?, ?it/s]"
      ]
     },
     "metadata": {},
     "output_type": "display_data"
    },
    {
     "data": {
      "application/vnd.jupyter.widget-view+json": {
       "model_id": "addf6aaaa5674a869625b76c64a73203",
       "version_major": 2,
       "version_minor": 0
      },
      "text/plain": [
       "Image (train):   0%|          | 0/94 [00:00<?, ?it/s]"
      ]
     },
     "metadata": {},
     "output_type": "display_data"
    },
    {
     "data": {
      "application/vnd.jupyter.widget-view+json": {
       "model_id": "d8b01f11ed1a4613ba2c2c08045caddd",
       "version_major": 2,
       "version_minor": 0
      },
      "text/plain": [
       "Image (test):   0%|          | 0/94 [00:00<?, ?it/s]"
      ]
     },
     "metadata": {},
     "output_type": "display_data"
    },
    {
     "data": {
      "application/vnd.jupyter.widget-view+json": {
       "model_id": "7fe406dc84e84cbc954e252346608d11",
       "version_major": 2,
       "version_minor": 0
      },
      "text/plain": [
       "Image (train):   0%|          | 0/75 [00:00<?, ?it/s]"
      ]
     },
     "metadata": {},
     "output_type": "display_data"
    },
    {
     "data": {
      "application/vnd.jupyter.widget-view+json": {
       "model_id": "b2ee14016fcf442aab57a8e00fad040b",
       "version_major": 2,
       "version_minor": 0
      },
      "text/plain": [
       "Image (test):   0%|          | 0/75 [00:00<?, ?it/s]"
      ]
     },
     "metadata": {},
     "output_type": "display_data"
    },
    {
     "data": {
      "application/vnd.jupyter.widget-view+json": {
       "model_id": "0e621a7cad3a407984ae7a7123cb3f8f",
       "version_major": 2,
       "version_minor": 0
      },
      "text/plain": [
       "Image (train):   0%|          | 0/65 [00:00<?, ?it/s]"
      ]
     },
     "metadata": {},
     "output_type": "display_data"
    },
    {
     "data": {
      "application/vnd.jupyter.widget-view+json": {
       "model_id": "9e474e243a19430787cc6d55dd1375b4",
       "version_major": 2,
       "version_minor": 0
      },
      "text/plain": [
       "Image (test):   0%|          | 0/65 [00:00<?, ?it/s]"
      ]
     },
     "metadata": {},
     "output_type": "display_data"
    },
    {
     "data": {
      "application/vnd.jupyter.widget-view+json": {
       "model_id": "4c2c5e972f2f4055a31299dd54630c39",
       "version_major": 2,
       "version_minor": 0
      },
      "text/plain": [
       "Image (train):   0%|          | 0/55 [00:00<?, ?it/s]"
      ]
     },
     "metadata": {},
     "output_type": "display_data"
    },
    {
     "data": {
      "application/vnd.jupyter.widget-view+json": {
       "model_id": "5b785b8da46545eb9972fa7a59b0a0e6",
       "version_major": 2,
       "version_minor": 0
      },
      "text/plain": [
       "Image (test):   0%|          | 0/55 [00:00<?, ?it/s]"
      ]
     },
     "metadata": {},
     "output_type": "display_data"
    },
    {
     "data": {
      "application/vnd.jupyter.widget-view+json": {
       "model_id": "147217aa28a04bc0a49a6df8935c288c",
       "version_major": 2,
       "version_minor": 0
      },
      "text/plain": [
       "Image (train):   0%|          | 0/46 [00:00<?, ?it/s]"
      ]
     },
     "metadata": {},
     "output_type": "display_data"
    },
    {
     "data": {
      "application/vnd.jupyter.widget-view+json": {
       "model_id": "bab8fab3d800497bbb1adfe47f2343ef",
       "version_major": 2,
       "version_minor": 0
      },
      "text/plain": [
       "Image (test):   0%|          | 0/46 [00:00<?, ?it/s]"
      ]
     },
     "metadata": {},
     "output_type": "display_data"
    },
    {
     "data": {
      "application/vnd.jupyter.widget-view+json": {
       "model_id": "82726ec854af49428ed15de81d57648a",
       "version_major": 2,
       "version_minor": 0
      },
      "text/plain": [
       "Image (train):   0%|          | 0/35 [00:00<?, ?it/s]"
      ]
     },
     "metadata": {},
     "output_type": "display_data"
    },
    {
     "data": {
      "application/vnd.jupyter.widget-view+json": {
       "model_id": "9fb44904a30148a0a1f461e62921a56f",
       "version_major": 2,
       "version_minor": 0
      },
      "text/plain": [
       "Image (test):   0%|          | 0/35 [00:00<?, ?it/s]"
      ]
     },
     "metadata": {},
     "output_type": "display_data"
    },
    {
     "data": {
      "application/vnd.jupyter.widget-view+json": {
       "model_id": "9d4a2951ea14445583f2432d1f70698f",
       "version_major": 2,
       "version_minor": 0
      },
      "text/plain": [
       "Image (train):   0%|          | 0/33 [00:00<?, ?it/s]"
      ]
     },
     "metadata": {},
     "output_type": "display_data"
    },
    {
     "data": {
      "application/vnd.jupyter.widget-view+json": {
       "model_id": "150e69501cdc42ad9b782c95700a1019",
       "version_major": 2,
       "version_minor": 0
      },
      "text/plain": [
       "Image (test):   0%|          | 0/33 [00:00<?, ?it/s]"
      ]
     },
     "metadata": {},
     "output_type": "display_data"
    },
    {
     "data": {
      "application/vnd.jupyter.widget-view+json": {
       "model_id": "ecff2472834d4e1bbf4294ea6e133827",
       "version_major": 2,
       "version_minor": 0
      },
      "text/plain": [
       "Image (train):   0%|          | 0/31 [00:00<?, ?it/s]"
      ]
     },
     "metadata": {},
     "output_type": "display_data"
    },
    {
     "data": {
      "application/vnd.jupyter.widget-view+json": {
       "model_id": "c474ac5aef9944eabbb986b0caa83185",
       "version_major": 2,
       "version_minor": 0
      },
      "text/plain": [
       "Image (test):   0%|          | 0/31 [00:00<?, ?it/s]"
      ]
     },
     "metadata": {},
     "output_type": "display_data"
    },
    {
     "data": {
      "application/vnd.jupyter.widget-view+json": {
       "model_id": "a00447ad33e646a6adeacbfb3ee5106c",
       "version_major": 2,
       "version_minor": 0
      },
      "text/plain": [
       "Image (train):   0%|          | 0/26 [00:00<?, ?it/s]"
      ]
     },
     "metadata": {},
     "output_type": "display_data"
    },
    {
     "data": {
      "application/vnd.jupyter.widget-view+json": {
       "model_id": "bb04b4be65e445bb945dfc3a1401b97d",
       "version_major": 2,
       "version_minor": 0
      },
      "text/plain": [
       "Image (test):   0%|          | 0/26 [00:00<?, ?it/s]"
      ]
     },
     "metadata": {},
     "output_type": "display_data"
    },
    {
     "data": {
      "application/vnd.jupyter.widget-view+json": {
       "model_id": "383e1bcdd91c4cf7b0cddbb6462359ec",
       "version_major": 2,
       "version_minor": 0
      },
      "text/plain": [
       "Attempt:   0%|          | 0/10 [00:00<?, ?it/s]"
      ]
     },
     "metadata": {},
     "output_type": "display_data"
    },
    {
     "data": {
      "application/vnd.jupyter.widget-view+json": {
       "model_id": "464a015fa42244bf85e76607ee319bd6",
       "version_major": 2,
       "version_minor": 0
      },
      "text/plain": [
       "Image (train):   0%|          | 0/1000 [00:00<?, ?it/s]"
      ]
     },
     "metadata": {},
     "output_type": "display_data"
    },
    {
     "data": {
      "application/vnd.jupyter.widget-view+json": {
       "model_id": "e6e981703da649cba108b5e355152e4b",
       "version_major": 2,
       "version_minor": 0
      },
      "text/plain": [
       "Image (test):   0%|          | 0/1000 [00:00<?, ?it/s]"
      ]
     },
     "metadata": {},
     "output_type": "display_data"
    },
    {
     "data": {
      "application/vnd.jupyter.widget-view+json": {
       "model_id": "67fbef67cb904d04a001fee47effc5ff",
       "version_major": 2,
       "version_minor": 0
      },
      "text/plain": [
       "Image (train):   0%|          | 0/75 [00:00<?, ?it/s]"
      ]
     },
     "metadata": {},
     "output_type": "display_data"
    },
    {
     "data": {
      "application/vnd.jupyter.widget-view+json": {
       "model_id": "0182ea8679e245f4852a438540568745",
       "version_major": 2,
       "version_minor": 0
      },
      "text/plain": [
       "Image (test):   0%|          | 0/75 [00:00<?, ?it/s]"
      ]
     },
     "metadata": {},
     "output_type": "display_data"
    },
    {
     "data": {
      "application/vnd.jupyter.widget-view+json": {
       "model_id": "57dab8a1033f40bbbf0b33f38b4e876b",
       "version_major": 2,
       "version_minor": 0
      },
      "text/plain": [
       "Image (train):   0%|          | 0/57 [00:00<?, ?it/s]"
      ]
     },
     "metadata": {},
     "output_type": "display_data"
    },
    {
     "data": {
      "application/vnd.jupyter.widget-view+json": {
       "model_id": "2705e60dab114208a94974656e1e2827",
       "version_major": 2,
       "version_minor": 0
      },
      "text/plain": [
       "Image (test):   0%|          | 0/57 [00:00<?, ?it/s]"
      ]
     },
     "metadata": {},
     "output_type": "display_data"
    },
    {
     "data": {
      "application/vnd.jupyter.widget-view+json": {
       "model_id": "0b3cfb99465b4d79b536f0be0f638437",
       "version_major": 2,
       "version_minor": 0
      },
      "text/plain": [
       "Image (train):   0%|          | 0/45 [00:00<?, ?it/s]"
      ]
     },
     "metadata": {},
     "output_type": "display_data"
    },
    {
     "data": {
      "application/vnd.jupyter.widget-view+json": {
       "model_id": "b8f358f4391543debed90ec0395ae2b3",
       "version_major": 2,
       "version_minor": 0
      },
      "text/plain": [
       "Image (test):   0%|          | 0/45 [00:00<?, ?it/s]"
      ]
     },
     "metadata": {},
     "output_type": "display_data"
    },
    {
     "data": {
      "application/vnd.jupyter.widget-view+json": {
       "model_id": "ba0ed7a2cf344e88861d3ac532a71b5f",
       "version_major": 2,
       "version_minor": 0
      },
      "text/plain": [
       "Image (train):   0%|          | 0/41 [00:00<?, ?it/s]"
      ]
     },
     "metadata": {},
     "output_type": "display_data"
    },
    {
     "data": {
      "application/vnd.jupyter.widget-view+json": {
       "model_id": "d0c22f4cb57b4fbfa24aa1732174fdda",
       "version_major": 2,
       "version_minor": 0
      },
      "text/plain": [
       "Image (test):   0%|          | 0/41 [00:00<?, ?it/s]"
      ]
     },
     "metadata": {},
     "output_type": "display_data"
    },
    {
     "data": {
      "application/vnd.jupyter.widget-view+json": {
       "model_id": "ea69cffcf68c4658aec5092ea43e0ac3",
       "version_major": 2,
       "version_minor": 0
      },
      "text/plain": [
       "Image (train):   0%|          | 0/37 [00:00<?, ?it/s]"
      ]
     },
     "metadata": {},
     "output_type": "display_data"
    },
    {
     "data": {
      "application/vnd.jupyter.widget-view+json": {
       "model_id": "2da428f117c3463d8a51f7e414ffc7cb",
       "version_major": 2,
       "version_minor": 0
      },
      "text/plain": [
       "Image (test):   0%|          | 0/37 [00:00<?, ?it/s]"
      ]
     },
     "metadata": {},
     "output_type": "display_data"
    },
    {
     "data": {
      "application/vnd.jupyter.widget-view+json": {
       "model_id": "ebfc0994acde4736b8b8132a2e6fd3ac",
       "version_major": 2,
       "version_minor": 0
      },
      "text/plain": [
       "Image (train):   0%|          | 0/30 [00:00<?, ?it/s]"
      ]
     },
     "metadata": {},
     "output_type": "display_data"
    },
    {
     "data": {
      "application/vnd.jupyter.widget-view+json": {
       "model_id": "9e799ff46ce2450e81450d556856fb39",
       "version_major": 2,
       "version_minor": 0
      },
      "text/plain": [
       "Image (test):   0%|          | 0/30 [00:00<?, ?it/s]"
      ]
     },
     "metadata": {},
     "output_type": "display_data"
    },
    {
     "data": {
      "application/vnd.jupyter.widget-view+json": {
       "model_id": "88915530cc0a476284269af9c78eb8c9",
       "version_major": 2,
       "version_minor": 0
      },
      "text/plain": [
       "Image (train):   0%|          | 0/27 [00:00<?, ?it/s]"
      ]
     },
     "metadata": {},
     "output_type": "display_data"
    },
    {
     "data": {
      "application/vnd.jupyter.widget-view+json": {
       "model_id": "4bb92eaabff045839d2b6652bef5524d",
       "version_major": 2,
       "version_minor": 0
      },
      "text/plain": [
       "Image (test):   0%|          | 0/27 [00:00<?, ?it/s]"
      ]
     },
     "metadata": {},
     "output_type": "display_data"
    },
    {
     "data": {
      "application/vnd.jupyter.widget-view+json": {
       "model_id": "0977e301036d45779162a25f5da12f29",
       "version_major": 2,
       "version_minor": 0
      },
      "text/plain": [
       "Image (train):   0%|          | 0/27 [00:00<?, ?it/s]"
      ]
     },
     "metadata": {},
     "output_type": "display_data"
    },
    {
     "data": {
      "application/vnd.jupyter.widget-view+json": {
       "model_id": "53ef7ed4ee5644fab34e4065d659e470",
       "version_major": 2,
       "version_minor": 0
      },
      "text/plain": [
       "Image (test):   0%|          | 0/27 [00:00<?, ?it/s]"
      ]
     },
     "metadata": {},
     "output_type": "display_data"
    },
    {
     "data": {
      "application/vnd.jupyter.widget-view+json": {
       "model_id": "f994fb34600648eab7d2e1bf76f89401",
       "version_major": 2,
       "version_minor": 0
      },
      "text/plain": [
       "Image (train):   0%|          | 0/23 [00:00<?, ?it/s]"
      ]
     },
     "metadata": {},
     "output_type": "display_data"
    },
    {
     "data": {
      "application/vnd.jupyter.widget-view+json": {
       "model_id": "0c2ada8fb32c490cbd7dc129dbcd7fdb",
       "version_major": 2,
       "version_minor": 0
      },
      "text/plain": [
       "Image (test):   0%|          | 0/23 [00:00<?, ?it/s]"
      ]
     },
     "metadata": {},
     "output_type": "display_data"
    },
    {
     "data": {
      "application/vnd.jupyter.widget-view+json": {
       "model_id": "051edb73f89846ca8d2855cce3db9ba8",
       "version_major": 2,
       "version_minor": 0
      },
      "text/plain": [
       "Attempt:   0%|          | 0/10 [00:00<?, ?it/s]"
      ]
     },
     "metadata": {},
     "output_type": "display_data"
    },
    {
     "data": {
      "application/vnd.jupyter.widget-view+json": {
       "model_id": "e7bfeb0182a74ad3b6e5098ea8dd739d",
       "version_major": 2,
       "version_minor": 0
      },
      "text/plain": [
       "Image (train):   0%|          | 0/1000 [00:00<?, ?it/s]"
      ]
     },
     "metadata": {},
     "output_type": "display_data"
    },
    {
     "data": {
      "application/vnd.jupyter.widget-view+json": {
       "model_id": "876718f96f74429b96fd7a541f2aa4f1",
       "version_major": 2,
       "version_minor": 0
      },
      "text/plain": [
       "Image (test):   0%|          | 0/1000 [00:00<?, ?it/s]"
      ]
     },
     "metadata": {},
     "output_type": "display_data"
    },
    {
     "data": {
      "application/vnd.jupyter.widget-view+json": {
       "model_id": "33f38a21b76a40b0b0621e60bc727c76",
       "version_major": 2,
       "version_minor": 0
      },
      "text/plain": [
       "Image (train):   0%|          | 0/86 [00:00<?, ?it/s]"
      ]
     },
     "metadata": {},
     "output_type": "display_data"
    },
    {
     "data": {
      "application/vnd.jupyter.widget-view+json": {
       "model_id": "983c67d3bbe6465e86cc2bf383ad132c",
       "version_major": 2,
       "version_minor": 0
      },
      "text/plain": [
       "Image (test):   0%|          | 0/86 [00:00<?, ?it/s]"
      ]
     },
     "metadata": {},
     "output_type": "display_data"
    },
    {
     "data": {
      "application/vnd.jupyter.widget-view+json": {
       "model_id": "5996e6d62859463a9f41d9fb5d06e37a",
       "version_major": 2,
       "version_minor": 0
      },
      "text/plain": [
       "Image (train):   0%|          | 0/69 [00:00<?, ?it/s]"
      ]
     },
     "metadata": {},
     "output_type": "display_data"
    },
    {
     "data": {
      "application/vnd.jupyter.widget-view+json": {
       "model_id": "a9281c47f17248618b84e366bafa13b5",
       "version_major": 2,
       "version_minor": 0
      },
      "text/plain": [
       "Image (test):   0%|          | 0/69 [00:00<?, ?it/s]"
      ]
     },
     "metadata": {},
     "output_type": "display_data"
    },
    {
     "data": {
      "application/vnd.jupyter.widget-view+json": {
       "model_id": "41252712dea745ee8f1ceaa674a3f600",
       "version_major": 2,
       "version_minor": 0
      },
      "text/plain": [
       "Image (train):   0%|          | 0/56 [00:00<?, ?it/s]"
      ]
     },
     "metadata": {},
     "output_type": "display_data"
    },
    {
     "data": {
      "application/vnd.jupyter.widget-view+json": {
       "model_id": "aa5b563c01a7432584389a51d2bc0a8e",
       "version_major": 2,
       "version_minor": 0
      },
      "text/plain": [
       "Image (test):   0%|          | 0/56 [00:00<?, ?it/s]"
      ]
     },
     "metadata": {},
     "output_type": "display_data"
    },
    {
     "data": {
      "application/vnd.jupyter.widget-view+json": {
       "model_id": "7a938a1bd94f4ef59115bf5b685bce22",
       "version_major": 2,
       "version_minor": 0
      },
      "text/plain": [
       "Image (train):   0%|          | 0/49 [00:00<?, ?it/s]"
      ]
     },
     "metadata": {},
     "output_type": "display_data"
    },
    {
     "data": {
      "application/vnd.jupyter.widget-view+json": {
       "model_id": "2997b437995f4a18894eb8f363d563c9",
       "version_major": 2,
       "version_minor": 0
      },
      "text/plain": [
       "Image (test):   0%|          | 0/49 [00:00<?, ?it/s]"
      ]
     },
     "metadata": {},
     "output_type": "display_data"
    },
    {
     "data": {
      "application/vnd.jupyter.widget-view+json": {
       "model_id": "60d56da80f2943c598eb91d3364ad39e",
       "version_major": 2,
       "version_minor": 0
      },
      "text/plain": [
       "Image (train):   0%|          | 0/42 [00:00<?, ?it/s]"
      ]
     },
     "metadata": {},
     "output_type": "display_data"
    },
    {
     "data": {
      "application/vnd.jupyter.widget-view+json": {
       "model_id": "19930db481ea4b82a9808ce440ba85c2",
       "version_major": 2,
       "version_minor": 0
      },
      "text/plain": [
       "Image (test):   0%|          | 0/42 [00:00<?, ?it/s]"
      ]
     },
     "metadata": {},
     "output_type": "display_data"
    },
    {
     "data": {
      "application/vnd.jupyter.widget-view+json": {
       "model_id": "57c1ad9bb5dc45e79174367d2f73c082",
       "version_major": 2,
       "version_minor": 0
      },
      "text/plain": [
       "Image (train):   0%|          | 0/32 [00:00<?, ?it/s]"
      ]
     },
     "metadata": {},
     "output_type": "display_data"
    },
    {
     "data": {
      "application/vnd.jupyter.widget-view+json": {
       "model_id": "00782ff19dd244628dae455eeaaee2bd",
       "version_major": 2,
       "version_minor": 0
      },
      "text/plain": [
       "Image (test):   0%|          | 0/32 [00:00<?, ?it/s]"
      ]
     },
     "metadata": {},
     "output_type": "display_data"
    },
    {
     "data": {
      "application/vnd.jupyter.widget-view+json": {
       "model_id": "ecf48f4cd500442eb9763cdbefd0aaf8",
       "version_major": 2,
       "version_minor": 0
      },
      "text/plain": [
       "Image (train):   0%|          | 0/30 [00:00<?, ?it/s]"
      ]
     },
     "metadata": {},
     "output_type": "display_data"
    },
    {
     "data": {
      "application/vnd.jupyter.widget-view+json": {
       "model_id": "bbcda0fe712d4e2ea4a9be7eb628c120",
       "version_major": 2,
       "version_minor": 0
      },
      "text/plain": [
       "Image (test):   0%|          | 0/30 [00:00<?, ?it/s]"
      ]
     },
     "metadata": {},
     "output_type": "display_data"
    },
    {
     "data": {
      "application/vnd.jupyter.widget-view+json": {
       "model_id": "36466ade9ccc4345b3b7e5feb46cd22d",
       "version_major": 2,
       "version_minor": 0
      },
      "text/plain": [
       "Image (train):   0%|          | 0/28 [00:00<?, ?it/s]"
      ]
     },
     "metadata": {},
     "output_type": "display_data"
    },
    {
     "data": {
      "application/vnd.jupyter.widget-view+json": {
       "model_id": "f463d4334ad8463788f6c3ba0373cdf7",
       "version_major": 2,
       "version_minor": 0
      },
      "text/plain": [
       "Image (test):   0%|          | 0/28 [00:00<?, ?it/s]"
      ]
     },
     "metadata": {},
     "output_type": "display_data"
    },
    {
     "data": {
      "application/vnd.jupyter.widget-view+json": {
       "model_id": "73e2ed2af2c74fb296abb40252488fac",
       "version_major": 2,
       "version_minor": 0
      },
      "text/plain": [
       "Image (train):   0%|          | 0/26 [00:00<?, ?it/s]"
      ]
     },
     "metadata": {},
     "output_type": "display_data"
    },
    {
     "data": {
      "application/vnd.jupyter.widget-view+json": {
       "model_id": "14f223d6721441c2be2f94f5d246f353",
       "version_major": 2,
       "version_minor": 0
      },
      "text/plain": [
       "Image (test):   0%|          | 0/26 [00:00<?, ?it/s]"
      ]
     },
     "metadata": {},
     "output_type": "display_data"
    },
    {
     "data": {
      "application/vnd.jupyter.widget-view+json": {
       "model_id": "6af48d5ac14a45fc82651f15ae300b9e",
       "version_major": 2,
       "version_minor": 0
      },
      "text/plain": [
       "Attempt:   0%|          | 0/10 [00:00<?, ?it/s]"
      ]
     },
     "metadata": {},
     "output_type": "display_data"
    },
    {
     "data": {
      "application/vnd.jupyter.widget-view+json": {
       "model_id": "74da20839f0a42598b3f545ffd31c2a9",
       "version_major": 2,
       "version_minor": 0
      },
      "text/plain": [
       "Image (train):   0%|          | 0/1000 [00:00<?, ?it/s]"
      ]
     },
     "metadata": {},
     "output_type": "display_data"
    },
    {
     "data": {
      "application/vnd.jupyter.widget-view+json": {
       "model_id": "62a221a91c7d42a0bc9278c17a8367de",
       "version_major": 2,
       "version_minor": 0
      },
      "text/plain": [
       "Image (test):   0%|          | 0/1000 [00:00<?, ?it/s]"
      ]
     },
     "metadata": {},
     "output_type": "display_data"
    },
    {
     "data": {
      "application/vnd.jupyter.widget-view+json": {
       "model_id": "8ab4ef13da7a437186c3214350020457",
       "version_major": 2,
       "version_minor": 0
      },
      "text/plain": [
       "Image (train):   0%|          | 0/65 [00:00<?, ?it/s]"
      ]
     },
     "metadata": {},
     "output_type": "display_data"
    },
    {
     "data": {
      "application/vnd.jupyter.widget-view+json": {
       "model_id": "0f8a95f8e4314ea0b0dfb87859a9e473",
       "version_major": 2,
       "version_minor": 0
      },
      "text/plain": [
       "Image (test):   0%|          | 0/65 [00:00<?, ?it/s]"
      ]
     },
     "metadata": {},
     "output_type": "display_data"
    },
    {
     "data": {
      "application/vnd.jupyter.widget-view+json": {
       "model_id": "35c6082036db414e8ba99ccc73db331d",
       "version_major": 2,
       "version_minor": 0
      },
      "text/plain": [
       "Image (train):   0%|          | 0/53 [00:00<?, ?it/s]"
      ]
     },
     "metadata": {},
     "output_type": "display_data"
    },
    {
     "data": {
      "application/vnd.jupyter.widget-view+json": {
       "model_id": "d3eedc08c12b4bc9a44f3783db7e3464",
       "version_major": 2,
       "version_minor": 0
      },
      "text/plain": [
       "Image (test):   0%|          | 0/53 [00:00<?, ?it/s]"
      ]
     },
     "metadata": {},
     "output_type": "display_data"
    },
    {
     "data": {
      "application/vnd.jupyter.widget-view+json": {
       "model_id": "13bce75149584758a63dc6c9b44cacdb",
       "version_major": 2,
       "version_minor": 0
      },
      "text/plain": [
       "Image (train):   0%|          | 0/44 [00:00<?, ?it/s]"
      ]
     },
     "metadata": {},
     "output_type": "display_data"
    },
    {
     "data": {
      "application/vnd.jupyter.widget-view+json": {
       "model_id": "c6262c8f47d645588e6e241571525025",
       "version_major": 2,
       "version_minor": 0
      },
      "text/plain": [
       "Image (test):   0%|          | 0/44 [00:00<?, ?it/s]"
      ]
     },
     "metadata": {},
     "output_type": "display_data"
    },
    {
     "data": {
      "application/vnd.jupyter.widget-view+json": {
       "model_id": "9cacd19d0e724de4997fb6890e052974",
       "version_major": 2,
       "version_minor": 0
      },
      "text/plain": [
       "Image (train):   0%|          | 0/38 [00:00<?, ?it/s]"
      ]
     },
     "metadata": {},
     "output_type": "display_data"
    },
    {
     "data": {
      "application/vnd.jupyter.widget-view+json": {
       "model_id": "ddb26bb929734e9da12b77b62abe8656",
       "version_major": 2,
       "version_minor": 0
      },
      "text/plain": [
       "Image (test):   0%|          | 0/38 [00:00<?, ?it/s]"
      ]
     },
     "metadata": {},
     "output_type": "display_data"
    },
    {
     "data": {
      "application/vnd.jupyter.widget-view+json": {
       "model_id": "28f8e82317e3413ab9958bdc943e31c8",
       "version_major": 2,
       "version_minor": 0
      },
      "text/plain": [
       "Image (train):   0%|          | 0/33 [00:00<?, ?it/s]"
      ]
     },
     "metadata": {},
     "output_type": "display_data"
    },
    {
     "data": {
      "application/vnd.jupyter.widget-view+json": {
       "model_id": "9b258deef727490c9a178c0400a71e0b",
       "version_major": 2,
       "version_minor": 0
      },
      "text/plain": [
       "Image (test):   0%|          | 0/33 [00:00<?, ?it/s]"
      ]
     },
     "metadata": {},
     "output_type": "display_data"
    },
    {
     "data": {
      "application/vnd.jupyter.widget-view+json": {
       "model_id": "d6ace0175b734dd09eb015e8fbaa358e",
       "version_major": 2,
       "version_minor": 0
      },
      "text/plain": [
       "Image (train):   0%|          | 0/27 [00:00<?, ?it/s]"
      ]
     },
     "metadata": {},
     "output_type": "display_data"
    },
    {
     "data": {
      "application/vnd.jupyter.widget-view+json": {
       "model_id": "e7c3c49a695145529c083b37c7e9c960",
       "version_major": 2,
       "version_minor": 0
      },
      "text/plain": [
       "Image (test):   0%|          | 0/27 [00:00<?, ?it/s]"
      ]
     },
     "metadata": {},
     "output_type": "display_data"
    },
    {
     "data": {
      "application/vnd.jupyter.widget-view+json": {
       "model_id": "264543cfc0234087ba5dae834762b0bd",
       "version_major": 2,
       "version_minor": 0
      },
      "text/plain": [
       "Image (train):   0%|          | 0/24 [00:00<?, ?it/s]"
      ]
     },
     "metadata": {},
     "output_type": "display_data"
    },
    {
     "data": {
      "application/vnd.jupyter.widget-view+json": {
       "model_id": "50bee02f93034ef3bda9531b03c7e38c",
       "version_major": 2,
       "version_minor": 0
      },
      "text/plain": [
       "Image (test):   0%|          | 0/24 [00:00<?, ?it/s]"
      ]
     },
     "metadata": {},
     "output_type": "display_data"
    },
    {
     "data": {
      "application/vnd.jupyter.widget-view+json": {
       "model_id": "4b429305f9e14b8f881392f8bec52c28",
       "version_major": 2,
       "version_minor": 0
      },
      "text/plain": [
       "Image (train):   0%|          | 0/18 [00:00<?, ?it/s]"
      ]
     },
     "metadata": {},
     "output_type": "display_data"
    },
    {
     "data": {
      "application/vnd.jupyter.widget-view+json": {
       "model_id": "23d3503f7c1c42af8ce98e0bfb2b47b7",
       "version_major": 2,
       "version_minor": 0
      },
      "text/plain": [
       "Image (test):   0%|          | 0/18 [00:00<?, ?it/s]"
      ]
     },
     "metadata": {},
     "output_type": "display_data"
    },
    {
     "data": {
      "application/vnd.jupyter.widget-view+json": {
       "model_id": "d30527a4dd0c42a4bd9958728c4ab76f",
       "version_major": 2,
       "version_minor": 0
      },
      "text/plain": [
       "Image (train):   0%|          | 0/15 [00:00<?, ?it/s]"
      ]
     },
     "metadata": {},
     "output_type": "display_data"
    },
    {
     "data": {
      "application/vnd.jupyter.widget-view+json": {
       "model_id": "498998d6e640441e826f0ac879749312",
       "version_major": 2,
       "version_minor": 0
      },
      "text/plain": [
       "Image (test):   0%|          | 0/15 [00:00<?, ?it/s]"
      ]
     },
     "metadata": {},
     "output_type": "display_data"
    }
   ],
   "source": [
    "train_runs = 10\n",
    "attempts_to_get_no_mistakes = 10\n",
    "count = min(1000, len(df_train_images))\n",
    "consolidation_threshold = 1000\n",
    "\n",
    "for _ in tqdm(range(train_runs), desc='Train run'):\n",
    "    TRAIN_RUN_ID += 1\n",
    "    train_step_image_ids_orig = RNG.choice(df_train_images.index.unique(), count, replace=False)\n",
    "\n",
    "    for column_id, column in tqdm(COLUMNS.items(), desc='Column', leave=False):\n",
    "        train_step_image_ids = train_step_image_ids_orig.copy()\n",
    "        \n",
    "        for attempt_to_get_no_mistakes in tqdm(range(attempts_to_get_no_mistakes), leave=False, desc='Attempt'):\n",
    "            # 1) EVOLVE MEMORIES\n",
    "            for image_no, image_id in tqdm(enumerate(train_step_image_ids), leave=False, total=len(train_step_image_ids), desc='Image (train)'):\n",
    "                # 1.1) MINE ENGRAMS\n",
    "                log_prefix = f'[TRRID={TRAIN_RUN_ID},COL={column_id},IMGNO={image_no},IMGID={image_id}]'\n",
    "                log.debug(f'{log_prefix} Engrams count={column.engram_norms.len}')\n",
    "                column.images_seen += 1\n",
    "                \n",
    "                image_value = df_train_images.loc[image_id]['value']\n",
    "                df_image_encodings = pd.read_sql('SELECT hdv FROM image_encodings WHERE image_id=:image_id AND column_id=:column_id', \n",
    "                                                 params={'image_id': int(image_id), 'column_id': column_id}, con=train_db_con)\n",
    "                assert len(df_image_encodings) > 0\n",
    "                image_encoding_hdvs = list(map(lambda h: np.frombuffer(h, dtype='b'), df_image_encodings['hdv']))\n",
    "                image_encoding_hdvs_norm = hdc.normalize(image_encoding_hdvs)\n",
    "                image_encoding_hdvs_norm = xp_array_to_gpu(image_encoding_hdvs_norm)\n",
    "        \n",
    "                cos_sim_matrix = column.engram_norms.array_active @ image_encoding_hdvs_norm.T\n",
    "                cos_sim_matrix[cos_sim_matrix < Hdc.COS_SIM_THRESHOLD] = 0\n",
    "                cos_sim_vector = xp_array_from_gpu(xp.sum(cos_sim_matrix, axis=1)) # how each mem recall (sum cos sim) is close to current image\n",
    "                \n",
    "                assert cos_sim_vector.shape == (column.engram_norms.array_active.shape[0],)\n",
    "                engram_ids_by_match_score = np.argsort(-cos_sim_vector) # sorted desc\n",
    "                match_found = False\n",
    "                match_pos = False\n",
    "                match_is_updated = False\n",
    "        \n",
    "                for pos, engram_id in enumerate(engram_ids_by_match_score):\n",
    "                    cos_sim_value = cos_sim_vector[engram_id]\n",
    "                    log.debug(f'{log_prefix} Checking engram #{engram_id}, pos={pos}, sim={cos_sim_value:.2f}')\n",
    "        \n",
    "                    if cos_sim_value <= 0:\n",
    "                        break\n",
    "\n",
    "                    engram = column.engrams[engram_id]\n",
    "        \n",
    "                    if engram.image_value != image_value:\n",
    "                        log.debug(f'{log_prefix} Match WRONG, engram value={engram.image_value} vs {image_value}')\n",
    "                    else:\n",
    "                        log.debug(f'{log_prefix} Match CORRECT, sealed={engram.is_sealed}')\n",
    "        \n",
    "                        if not engram.is_sealed:\n",
    "                            engram.image_ids.add(image_id)\n",
    "                            image_encoding_hdv_bundle = hdc.bundle(image_encoding_hdvs)\n",
    "                            \n",
    "                            engram.hdv_bundle_uncapped = xp.sum(xp.vstack([engram.hdv_bundle_uncapped, image_encoding_hdv_bundle]), axis=0)\n",
    "                            column.engram_norms.array[engram_id] = hdc.normalize(engram.hdv_bundle)\n",
    "                            \n",
    "                            if engram.updates_counter > 200:\n",
    "                                log.debug(f'{log_prefix} engram #{engram_id} (upd. counter={engram.updates_counter}) is sealed')\n",
    "                                engram.is_sealed = True\n",
    "        \n",
    "                        match_found = True\n",
    "                        match_pos = pos\n",
    "                        match_is_updated = not engram.is_sealed\n",
    "                        break\n",
    "        \n",
    "                log.debug(f'{log_prefix} Match found={match_found}, pos={match_pos}, is updated={match_is_updated}')\n",
    "        \n",
    "                if (match_found and match_pos == 0) or (match_found and match_is_updated):\n",
    "                    pass\n",
    "                else:\n",
    "                    # Deploy new engram\n",
    "                    engram_id = column.engram_norms.lease()\n",
    "                    \n",
    "                    engram = Engram()\n",
    "                    engram.hdv_bundle_uncapped = xp.sum(xp.vstack(image_encoding_hdvs), axis=0)\n",
    "                    engram.image_ids.add(image_id)\n",
    "                    engram.image_value = image_value\n",
    "                    \n",
    "                    column.engram_norms.array[engram_id] = hdc.normalize(engram.hdv_bundle)\n",
    "                    column.engrams[engram_id] = engram\n",
    "                    log.debug(f'{log_prefix} New engram {engram_id}')\n",
    "\n",
    "                # 1.2) CONSOLIDATE ENGRAMS\n",
    "                if image_no > 0 and image_no % consolidation_threshold == 0:\n",
    "                    def dump_engram_lengths(when):\n",
    "                        engram_lengths = list(map(lambda e: len(e.image_ids), column.engrams.values()))\n",
    "                        engram_lengths = np.unique_counts(engram_lengths)\n",
    "                        \n",
    "                        for v, c in zip(reversed(engram_lengths.values), reversed(engram_lengths.counts)):\n",
    "                            log.debug(f'{log_prefix}[CONSOLIDATION] {when:10} {v:5} {c:5}')\n",
    "        \n",
    "                    before_len = column.engram_norms.len()\n",
    "                    assert before_len == len(column.engrams)\n",
    "                    \n",
    "                    log.debug(f'{log_prefix}[CONSOLIDATION] BEFORE engrams count = {before_len}')\n",
    "                    dump_engram_lengths('BEFORE')\n",
    "                    \n",
    "                    engram_ids_to_release = []\n",
    "                    \n",
    "                    for engram_id, engram in column.engrams.items():\n",
    "                        #l = 0.1\n",
    "                        l = 1\n",
    "                        exp_distro_level = l * np.exp(-l * len(engram.image_ids))\n",
    "                        rand_level = RNG.random()\n",
    "                        do_release = rand_level < exp_distro_level\n",
    "                        \n",
    "                        if do_release:\n",
    "                            engram_ids_to_release.append(engram_id)\n",
    "                            log.debug(f'{log_prefix}[CONSOLIDATION] Dropping engram #{engram_id}, len={len(engram.image_ids)}: {rand_level:.5f} < {exp_distro_level:.5f}')\n",
    "                \n",
    "                    for engram_id_to_release in engram_ids_to_release:\n",
    "                        del column.engrams[engram_id_to_release]\n",
    "                        column.engram_norms.release(engram_id_to_release)\n",
    "                \n",
    "                    after_len = column.engram_norms.len()\n",
    "                    assert after_len == len(column.engrams)\n",
    "                    \n",
    "                    log.debug(f'{log_prefix}[CONSOLIDATION] AFTER engrams count = {after_len}')\n",
    "                    dump_engram_lengths('AFTER')\n",
    "\n",
    "            # 2) DETECT MISTAKES FOR CONSEQUENT FIX\n",
    "            mistake_image_ids = []\n",
    "            \n",
    "            for image_no, image_id in tqdm(enumerate(train_step_image_ids), leave=False, total=len(train_step_image_ids), desc='Image (test)'):\n",
    "                image_value = df_train_images.loc[image_id]['value']\n",
    "                df_image_encodings = pd.read_sql('SELECT hdv FROM image_encodings WHERE image_id=:image_id AND column_id=:column_id', \n",
    "                                                 params={'image_id': int(image_id), 'column_id': column_id}, con=train_db_con)\n",
    "                assert len(df_image_encodings) > 0\n",
    "                image_encoding_hdvs = list(map(lambda h: np.frombuffer(h, dtype='b'), df_image_encodings['hdv']))\n",
    "                image_encoding_hdvs_norm = hdc.normalize(image_encoding_hdvs)\n",
    "                image_encoding_hdvs_norm = xp_array_to_gpu(image_encoding_hdvs_norm)\n",
    "            \n",
    "                cos_sim_matrix = column.engram_norms.array_active @ image_encoding_hdvs_norm.T\n",
    "                cos_sim_matrix[cos_sim_matrix < Hdc.COS_SIM_THRESHOLD] = 0\n",
    "                cos_sim_vector = xp_array_from_gpu(xp.sum(cos_sim_matrix, axis=1)) # how each mem recall (sum cos sim) is close to current image\n",
    "                \n",
    "                assert cos_sim_vector.shape == (column.engram_norms.array_active.shape[0],)\n",
    "                engram_ids_by_match_score = np.argsort(-cos_sim_vector) # sorted desc\n",
    "            \n",
    "                if engram_ids_by_match_score.shape[0] > 0:\n",
    "                    engram_id = engram_ids_by_match_score[0]\n",
    "                    cos_sim_value = cos_sim_vector[engram_id]\n",
    "            \n",
    "                    if cos_sim_value > 0:\n",
    "                        engram_image_value = column.engrams[engram_id].image_value\n",
    "    \n",
    "                        if engram_image_value != image_value:\n",
    "                            mistake_image_ids.append(image_id)\n",
    "\n",
    "            log.debug(f'[TRRID={TRAIN_RUN_ID}] Mistaken image ids = {len(mistake_image_ids)}')\n",
    "            train_step_image_ids = mistake_image_ids"
   ]
  },
  {
   "cell_type": "code",
   "execution_count": 38,
   "id": "0e574f93-f84d-46f2-aa55-57fdfbf785a1",
   "metadata": {},
   "outputs": [],
   "source": [
    "def softmax(x):\n",
    "    max_x = np.max(x)\n",
    "    exp_x = np.exp(x - max_x)\n",
    "    sum_exp_x = np.sum(exp_x)\n",
    "    return exp_x / sum_exp_x\n",
    "\n",
    "def conflate(pdfs):    \n",
    "    n = np.prod(pdfs, axis=0)\n",
    "    d = n.sum()\n",
    "\n",
    "    if np.isclose(d, 0):\n",
    "        return np.zeros(len(pdfs))\n",
    "        \n",
    "    return n / d"
   ]
  },
  {
   "cell_type": "code",
   "execution_count": null,
   "id": "dedefb7f-24e7-43ca-91d6-eecc3fbaeb17",
   "metadata": {},
   "outputs": [
    {
     "data": {
      "application/vnd.jupyter.widget-view+json": {
       "model_id": "278888514546443faf17b5262b3d9092",
       "version_major": 2,
       "version_minor": 0
      },
      "text/plain": [
       "  0%|          | 0/2000 [00:00<?, ?it/s]"
      ]
     },
     "metadata": {},
     "output_type": "display_data"
    }
   ],
   "source": [
    "# TEST RUN\n",
    "TEST_RUN_ID += 1\n",
    "test_run_source = (df_test_images, test_db_con, 'test')\n",
    "# test_run_source = (df_train_images, train_db_con, 'train')\n",
    "count = min(2000, len(test_run_source[0]))\n",
    "test_image_ids = RNG.choice(test_run_source[0].index.unique(), count, replace=False)\n",
    "test_result_rows = defaultdict(list)\n",
    "column_id_whitelist = COLUMNS.keys()\n",
    "# column_id_whitelist = [3]\n",
    "assert np.all(np.array(list(map(lambda i: i in COLUMNS, column_id_whitelist))) == 1)\n",
    "\n",
    "for image_id in tqdm(test_image_ids):\n",
    "    column_votes_vector = np.zeros(10)\n",
    "    \n",
    "    for column_id, column in COLUMNS.items():\n",
    "        if not column_id in column_id_whitelist:\n",
    "            continue\n",
    "            \n",
    "        max_cos_sim_index = -1 # aka engram id\n",
    "        max_similar_engram_image_value = ''\n",
    "        max_cos_sim = 0\n",
    "    \n",
    "        image_value = test_run_source[0].loc[image_id]['value']\n",
    "        df_image_encodings = pd.read_sql('SELECT hdv FROM image_encodings WHERE image_id=:image_id AND column_id=:column_id', \n",
    "                                         params={'image_id': int(image_id), 'column_id': column_id}, con=test_run_source[1])\n",
    "        assert len(df_image_encodings) > 0\n",
    "        image_encoding_hdvs = list(map(lambda h: np.frombuffer(h, dtype='b'), df_image_encodings['hdv']))\n",
    "        image_encoding_hdvs_norm = hdc.normalize(image_encoding_hdvs)\n",
    "        image_encoding_hdvs_norm = xp_array_to_gpu(image_encoding_hdvs_norm)\n",
    "    \n",
    "        cos_sim_matrix = column.engram_norms.array_active @ image_encoding_hdvs_norm.T\n",
    "        cos_sim_matrix[cos_sim_matrix < Hdc.COS_SIM_THRESHOLD] = 0\n",
    "        cos_sim_vector = xp_array_from_gpu(xp.sum(cos_sim_matrix, axis=1)) # how each mem recall (sum cos sim) is close to current image\n",
    "        \n",
    "        assert cos_sim_vector.shape == (column.engram_norms.array_active.shape[0],)\n",
    "        engram_ids_by_match_score = np.argsort(-cos_sim_vector) # sorted desc\n",
    "    \n",
    "        if engram_ids_by_match_score.shape[0] > 0:\n",
    "            engram_id = engram_ids_by_match_score[0]\n",
    "            cos_sim_value = cos_sim_vector[engram_id]\n",
    "    \n",
    "            if cos_sim_value > 0:\n",
    "                max_cos_sim_index = engram_id\n",
    "                max_similar_engram_image_value = column.engrams[engram_id].image_value\n",
    "                max_cos_sim = cos_sim_value\n",
    "                column_votes_vector[int(max_similar_engram_image_value)] += max_cos_sim\n",
    "\n",
    "    infer_value = ''\n",
    "    \n",
    "    if np.any(column_votes_vector) > 0:\n",
    "        digit_probabilities = softmax(column_votes_vector)\n",
    "        infer_value = str(RNG.choice(10, p=digit_probabilities))\n",
    "    \n",
    "    test_result_rows['test_run_id'].append(TEST_RUN_ID)\n",
    "    test_result_rows['config_variant'].append(config.section_name)\n",
    "    test_result_rows['cortical_columns'].append(sorted(column_id_whitelist))\n",
    "    test_result_rows['train_images_count'].append(column.images_seen)\n",
    "    test_result_rows['train_runs'].append(TRAIN_RUN_ID)\n",
    "    test_result_rows['source_ds'].append(test_run_source[2])\n",
    "    test_result_rows['test_image_id'].append(image_id)\n",
    "    test_result_rows['true_value'].append(image_value)\n",
    "    test_result_rows['infer_value'].append(infer_value) \n",
    "    test_result_rows['sim'].append(column_votes_vector)\n",
    "    \n",
    "\n",
    "assert set(test_result_rows.keys()) == set(DF_TEST_RESULTS.columns), set(test_result_rows.keys()) ^ set(DF_TEST_RESULTS.columns)\n",
    "df_test_results_for_run = pd.DataFrame(test_result_rows, columns=DF_TEST_RESULTS.columns)\n",
    "concat_list = [DF_TEST_RESULTS] if len(DF_TEST_RESULTS) > 0 else []\n",
    "concat_list.append(df_test_results_for_run)\n",
    "DF_TEST_RESULTS = pd.concat(concat_list, ignore_index=True)"
   ]
  },
  {
   "cell_type": "code",
   "execution_count": 36,
   "id": "9ded612b-96ae-4f3d-a964-d78dcfb19834",
   "metadata": {},
   "outputs": [
    {
     "data": {
      "image/png": "[encoded data removed]",
      "text/plain": [
       "<Figure size 1600x400 with 3 Axes>"
      ]
     },
     "metadata": {},
     "output_type": "display_data"
    },
    {
     "data": {
      "text/html": [
       "<div>\n",
       "<style scoped>\n",
       "    .dataframe tbody tr th:only-of-type {\n",
       "        vertical-align: middle;\n",
       "    }\n",
       "\n",
       "    .dataframe tbody tr th {\n",
       "        vertical-align: top;\n",
       "    }\n",
       "\n",
       "    .dataframe thead th {\n",
       "        text-align: right;\n",
       "    }\n",
       "</style>\n",
       "<table border=\"1\" class=\"dataframe\">\n",
       "  <thead>\n",
       "    <tr style=\"text-align: right;\">\n",
       "      <th></th>\n",
       "      <th>config_variant</th>\n",
       "      <th>source_ds</th>\n",
       "      <th>cortical_columns</th>\n",
       "      <th>train_images_count</th>\n",
       "      <th>train_runs</th>\n",
       "      <th>count</th>\n",
       "      <th>infers</th>\n",
       "      <th>correct_infers</th>\n",
       "      <th>infer_ratio</th>\n",
       "      <th>accuracy_count</th>\n",
       "      <th>accuracy_infers</th>\n",
       "    </tr>\n",
       "    <tr>\n",
       "      <th>test_run_id</th>\n",
       "      <th></th>\n",
       "      <th></th>\n",
       "      <th></th>\n",
       "      <th></th>\n",
       "      <th></th>\n",
       "      <th></th>\n",
       "      <th></th>\n",
       "      <th></th>\n",
       "      <th></th>\n",
       "      <th></th>\n",
       "      <th></th>\n",
       "    </tr>\n",
       "  </thead>\n",
       "  <tbody>\n",
       "    <tr>\n",
       "      <th>1</th>\n",
       "      <td>SQLITE3_NORMAL_GRID_RADIAL_7_256</td>\n",
       "      <td>test</td>\n",
       "      <td>[5]</td>\n",
       "      <td>16497</td>\n",
       "      <td>16</td>\n",
       "      <td>2000</td>\n",
       "      <td>2000</td>\n",
       "      <td>1535</td>\n",
       "      <td>1.0</td>\n",
       "      <td>0.7675</td>\n",
       "      <td>0.7675</td>\n",
       "    </tr>\n",
       "    <tr>\n",
       "      <th>2</th>\n",
       "      <td>SQLITE3_NORMAL_GRID_RADIAL_7_256</td>\n",
       "      <td>test</td>\n",
       "      <td>[6]</td>\n",
       "      <td>16497</td>\n",
       "      <td>16</td>\n",
       "      <td>2000</td>\n",
       "      <td>2000</td>\n",
       "      <td>1638</td>\n",
       "      <td>1.0</td>\n",
       "      <td>0.8190</td>\n",
       "      <td>0.8190</td>\n",
       "    </tr>\n",
       "    <tr>\n",
       "      <th>3</th>\n",
       "      <td>SQLITE3_NORMAL_GRID_RADIAL_7_256</td>\n",
       "      <td>test</td>\n",
       "      <td>[4]</td>\n",
       "      <td>16497</td>\n",
       "      <td>16</td>\n",
       "      <td>2000</td>\n",
       "      <td>2000</td>\n",
       "      <td>1543</td>\n",
       "      <td>1.0</td>\n",
       "      <td>0.7715</td>\n",
       "      <td>0.7715</td>\n",
       "    </tr>\n",
       "    <tr>\n",
       "      <th>4</th>\n",
       "      <td>SQLITE3_NORMAL_GRID_RADIAL_7_256</td>\n",
       "      <td>test</td>\n",
       "      <td>[3]</td>\n",
       "      <td>16497</td>\n",
       "      <td>16</td>\n",
       "      <td>2000</td>\n",
       "      <td>2000</td>\n",
       "      <td>1515</td>\n",
       "      <td>1.0</td>\n",
       "      <td>0.7575</td>\n",
       "      <td>0.7575</td>\n",
       "    </tr>\n",
       "    <tr>\n",
       "      <th>5</th>\n",
       "      <td>SQLITE3_NORMAL_GRID_RADIAL_7_256</td>\n",
       "      <td>test</td>\n",
       "      <td>[0, 1, 2, 3, 4, 5, 6]</td>\n",
       "      <td>16497</td>\n",
       "      <td>16</td>\n",
       "      <td>2000</td>\n",
       "      <td>2000</td>\n",
       "      <td>1891</td>\n",
       "      <td>1.0</td>\n",
       "      <td>0.9455</td>\n",
       "      <td>0.9455</td>\n",
       "    </tr>\n",
       "  </tbody>\n",
       "</table>\n",
       "</div>"
      ],
      "text/plain": [
       "                               config_variant source_ds  \\\n",
       "test_run_id                                               \n",
       "1            SQLITE3_NORMAL_GRID_RADIAL_7_256      test   \n",
       "2            SQLITE3_NORMAL_GRID_RADIAL_7_256      test   \n",
       "3            SQLITE3_NORMAL_GRID_RADIAL_7_256      test   \n",
       "4            SQLITE3_NORMAL_GRID_RADIAL_7_256      test   \n",
       "5            SQLITE3_NORMAL_GRID_RADIAL_7_256      test   \n",
       "\n",
       "                  cortical_columns  train_images_count  train_runs  count  \\\n",
       "test_run_id                                                                 \n",
       "1                              [5]               16497          16   2000   \n",
       "2                              [6]               16497          16   2000   \n",
       "3                              [4]               16497          16   2000   \n",
       "4                              [3]               16497          16   2000   \n",
       "5            [0, 1, 2, 3, 4, 5, 6]               16497          16   2000   \n",
       "\n",
       "             infers  correct_infers  infer_ratio  accuracy_count  \\\n",
       "test_run_id                                                        \n",
       "1              2000            1535          1.0          0.7675   \n",
       "2              2000            1638          1.0          0.8190   \n",
       "3              2000            1543          1.0          0.7715   \n",
       "4              2000            1515          1.0          0.7575   \n",
       "5              2000            1891          1.0          0.9455   \n",
       "\n",
       "             accuracy_infers  \n",
       "test_run_id                   \n",
       "1                     0.7675  \n",
       "2                     0.8190  \n",
       "3                     0.7715  \n",
       "4                     0.7575  \n",
       "5                     0.9455  "
      ]
     },
     "execution_count": 36,
     "metadata": {},
     "output_type": "execute_result"
    }
   ],
   "source": [
    "df_test_results2 = DF_TEST_RESULTS.copy()\n",
    "df_test_results2['is_infer'] = df_test_results2['infer_value'] != ''\n",
    "df_test_results2['is_correct_infer'] = df_test_results2['true_value'] == df_test_results2['infer_value']\n",
    "df_test_results2 = df_test_results2.groupby(by=['test_run_id']).agg({'config_variant': 'first', \n",
    "                                                                     'source_ds': 'first',\n",
    "                                                                     'cortical_columns': 'first',\n",
    "                                                                     'train_images_count': 'first',\n",
    "                                                                     'train_runs': 'first',\n",
    "                                                                     'test_image_id': 'count', \n",
    "                                                                     'is_infer': 'sum', \n",
    "                                                                     'is_correct_infer': 'sum'})\n",
    "df_test_results2.rename(columns=dict(test_image_id='count', is_infer='infers', is_correct_infer='correct_infers'), inplace=True, errors='raise')\n",
    "df_test_results2['infer_ratio'] = df_test_results2['infers'] / df_test_results2['count']\n",
    "df_test_results2['accuracy_count'] = df_test_results2['correct_infers'] / df_test_results2['count']\n",
    "df_test_results2['accuracy_infers'] = df_test_results2['correct_infers'] / df_test_results2['infers']\n",
    "df_test_results2['accuracy_infers'] = df_test_results2['accuracy_infers'].fillna(0)\n",
    "\n",
    "plt.figure(figsize=(16, 4))\n",
    "plt.subplot(1, 3, 1)\n",
    "b = plt.bar(list(map(str, df_test_results2.index)), list(df_test_results2['infer_ratio']))\n",
    "plt.bar_label(b, map(lambda p: f'{p*100:.0f}', df_test_results2['infer_ratio']), label_type='center')\n",
    "plt.ylim(0, 1)\n",
    "plt.title('Infers, %')\n",
    "plt.xlabel('Test run')\n",
    "plt.grid()\n",
    "\n",
    "plt.subplot(1, 3, 2)\n",
    "b = plt.bar(list(map(str, df_test_results2.index)), list(df_test_results2['accuracy_count']))\n",
    "plt.bar_label(b, map(lambda p: f'{p*100:.0f}', df_test_results2['accuracy_count']), label_type='center')\n",
    "plt.ylim(0, 1)\n",
    "plt.title('Accuracy (Count), %')\n",
    "plt.xlabel('Test run')\n",
    "plt.grid()\n",
    "\n",
    "plt.subplot(1, 3, 3)\n",
    "b = plt.bar(list(map(str, df_test_results2.index)), list(df_test_results2['accuracy_infers']))\n",
    "plt.bar_label(b, map(lambda p: f'{p*100:.0f}', df_test_results2['accuracy_infers']), label_type='center')\n",
    "plt.ylim(0, 1)\n",
    "plt.title('Accuracy (Infers), %')\n",
    "plt.xlabel('Test run')\n",
    "plt.grid()\n",
    "\n",
    "plt.show()\n",
    "df_test_results2"
   ]
  },
  {
   "cell_type": "code",
   "execution_count": null,
   "id": "88170617-5c38-4250-87af-edd152d31a51",
   "metadata": {},
   "outputs": [],
   "source": []
  }
 ],
 "metadata": {
  "kernelspec": {
   "display_name": "Python 3 (ipykernel)",
   "language": "python",
   "name": "python3"
  },
  "language_info": {
   "codemirror_mode": {
    "name": "ipython",
    "version": 3
   },
   "file_extension": ".py",
   "mimetype": "text/x-python",
   "name": "python",
   "nbconvert_exporter": "python",
   "pygments_lexer": "ipython3",
   "version": "3.12.2"
  }
 },
 "nbformat": 4,
 "nbformat_minor": 5
}
