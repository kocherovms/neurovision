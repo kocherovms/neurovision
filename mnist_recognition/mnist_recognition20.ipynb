{
 "cells": [
  {
   "cell_type": "code",
   "execution_count": 10,
   "id": "27532844-1826-4299-b063-16a22e592f3f",
   "metadata": {},
   "outputs": [],
   "source": [
    "import os, math\n",
    "from collections import defaultdict, namedtuple\n",
    "import itertools\n",
    "import sqlite3\n",
    "import logging\n",
    "import logging.handlers\n",
    "import pickle\n",
    "import datetime\n",
    "\n",
    "from PIL import Image, ImageDraw\n",
    "from tqdm.notebook import tqdm\n",
    "\n",
    "from sklearn.model_selection import train_test_split\n",
    "import matplotlib.pyplot as plt\n",
    "import scipy\n",
    "import numpy as np\n",
    "import cupy as cp\n",
    "import pandas as pd\n",
    "\n",
    "from utils import *\n",
    "from hdc import *"
   ]
  },
  {
   "cell_type": "code",
   "execution_count": 11,
   "id": "3150ef21-ac4c-4cf3-8013-ea332b9522e7",
   "metadata": {},
   "outputs": [],
   "source": [
    "DF_TEST_RESULTS = pd.DataFrame(columns=['test_run_id', 'config_variant', 'cortical_columns', 'train_images_count', \n",
    "                                        'source_ds', 'test_image_id', 'true_value', 'infer_value', 'sim'])\n",
    "TRAIN_RUN_ID = 0\n",
    "TEST_RUN_ID = 0"
   ]
  },
  {
   "cell_type": "code",
   "execution_count": 12,
   "id": "73358262-adf2-4d17-a383-f120a5d1f8aa",
   "metadata": {},
   "outputs": [
    {
     "name": "stdout",
     "output_type": "stream",
     "text": [
      "xp = cupy\n"
     ]
    }
   ],
   "source": [
    "log = logging.getLogger('kmslog')\n",
    "log.setLevel(logging.DEBUG)\n",
    "\n",
    "if not log.hasHandlers():\n",
    "    log.addHandler(logging.handlers.SysLogHandler(address = '/dev/log', facility=logging.handlers.SysLogHandler.LOG_LOCAL0))\n",
    "\n",
    "config_var = 'SQLITE3_NORMAL_GRID_0_256'\n",
    "config = Config(config_var)\n",
    "RNG = np.random.default_rng()\n",
    "\n",
    "if cp.cuda.is_available():\n",
    "    xp = cp.get_array_module(cp.empty(1))\n",
    "    xp_array_from_gpu = lambda a: a.get() if isinstance(a, cp.ndarray) else a\n",
    "    xp_array_to_gpu = lambda a: cp.asarray(a) if isinstance(a, np.ndarray) else a\n",
    "else:\n",
    "    xp = cp.get_array_module(np.empty(1))\n",
    "    xp_array_from_gpu = lambda a: a\n",
    "    xp_array_to_gpu = lambda a: a\n",
    "    \n",
    "print(f'xp = {xp.__name__}')\n",
    "\n",
    "def get_full_db_file_name(db_file_name):\n",
    "    return os.path.join(config.dataset_path, config.db_file_name_prefix + db_file_name)\n",
    "\n",
    "train_db_con = sqlite3.connect(get_full_db_file_name(config.train_db_file_name))\n",
    "test_db_con = sqlite3.connect(get_full_db_file_name(config.test_db_file_name))"
   ]
  },
  {
   "cell_type": "code",
   "execution_count": 60,
   "id": "771521e3-e3a5-4c9a-b861-a3aac85edb9d",
   "metadata": {},
   "outputs": [],
   "source": [
    "hdc = Hdc(10_000, xp)"
   ]
  },
  {
   "cell_type": "code",
   "execution_count": 14,
   "id": "d2dd62ab-b44e-4251-9e86-d41b3672e36e",
   "metadata": {},
   "outputs": [
    {
     "name": "stdout",
     "output_type": "stream",
     "text": [
      "CPU times: user 2 μs, sys: 0 ns, total: 2 μs\n",
      "Wall time: 5.25 μs\n"
     ]
    },
    {
     "data": {
      "text/plain": [
       "((10000, 3), (2000, 3))"
      ]
     },
     "execution_count": 14,
     "metadata": {},
     "output_type": "execute_result"
    }
   ],
   "source": [
    "%time\n",
    "df_train_images = pd.read_sql_query('SELECT * FROM images', con=train_db_con, index_col='image_id')\n",
    "df_test_images = pd.read_sql_query('SELECT * FROM images', con=test_db_con, index_col='image_id')\n",
    "df_train_images.shape, df_test_images.shape"
   ]
  },
  {
   "cell_type": "code",
   "execution_count": 15,
   "id": "70b21219-4f16-4824-90ec-7bda1574c5d1",
   "metadata": {},
   "outputs": [
    {
     "data": {
      "text/html": [
       "<div style=\"\n",
       "        display: grid; \n",
       "        grid-template-columns: repeat(8, 128px);\n",
       "        column-gap: 1px;\n",
       "        row-gap: 1px;\">\n",
       "        \n",
       "            <figure style=\"margin: 5px !important;\">\n",
       "              <img src=\"data:image/png;base64,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\" style=\"height: auto\">\n",
       "              <figcaption style=\"font-size: 0.6em\">4</figcaption>\n",
       "            </figure>\n",
       "        \n",
       "            <figure style=\"margin: 5px !important;\">\n",
       "              <img src=\"data:image/png;base64,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\" style=\"height: auto\">\n",
       "              <figcaption style=\"font-size: 0.6em\">7</figcaption>\n",
       "            </figure>\n",
       "        \n",
       "            <figure style=\"margin: 5px !important;\">\n",
       "              <img src=\"data:image/png;base64,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\" style=\"height: auto\">\n",
       "              <figcaption style=\"font-size: 0.6em\">7</figcaption>\n",
       "            </figure>\n",
       "        \n",
       "            <figure style=\"margin: 5px !important;\">\n",
       "              <img src=\"data:image/png;base64,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\" style=\"height: auto\">\n",
       "              <figcaption style=\"font-size: 0.6em\">1</figcaption>\n",
       "            </figure>\n",
       "        \n",
       "            <figure style=\"margin: 5px !important;\">\n",
       "              <img src=\"data:image/png;base64,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\" style=\"height: auto\">\n",
       "              <figcaption style=\"font-size: 0.6em\">7</figcaption>\n",
       "            </figure>\n",
       "        \n",
       "            <figure style=\"margin: 5px !important;\">\n",
       "              <img src=\"data:image/png;base64,iVBORw0KGgoAAAANSUhEUgAAAIAAAACACAAAAADmVT4XAAAJhUlEQVR4nO2ayXLjyBGGa0dhKSxcRC2t8UxP2HPx+z+LI+x2R7coURR3bIVCbT6ox+EjCKp1sf7ghREA+UXWlvlnAfChD33oQx/60If+3wXPeBJhTDACwHtnrXXeA/9+ABBAzJIsTwLkjZZ1VUtt3uD/ARn6IMQ0nt//5TrBXrWH9dMaNs6+IwCEiEazz3//PCW+Pa2/Uu8BUub9AACEOBBXv/6xYK45ZLBXnjadUsa7dwIAACIWioIDlFHfKZ8cGtl1vdZGa21Gj8YZAAAAhAgAAEQzg8SnsmllK6VsmrJs3gHAe29130UAABBf8Vkt27atm6o87tZA658O4IGzfVsewxB4B2I+0b2SbV2dDrsEWe3lyDV5RgScluX22YXIQ8ZYwL1RXdtkaUwBwGGjtHHu/Ck5FMADZ1X5nJgVR5BESRIHBJGQ8igRcZwv9qe6aaRszwYYvhMiEhbXi3nCEArEZFKIOGQEAafl6bA/7nf7/X6/2bU/C+CVIE6iACPC8/liPs3yJOacIK+kbA/b9fPq6eFhey7AGZPQOtNsMYaIhMXV4Xic1nkmXMRJIJypplkS4r6Rzc8CAAB4+2O1B711RtZVkWVZGkeEkMBZDxGwjuy06s85pc7biH5I1Rj05S4VIsvzTIRRFACcoiCMxPTlsDvUPxsA9LWTB855JIqiyNM0S3nAJklazG5WD1/7c4ZhHICTusYYkSDOi+mkKCaTfFIkaTqZL+aB3JEzNuZxANa+br0oPJ5Ox8mpqlsQRGEQxyGtn2LWD8+VxgH8Kdd4p5Wsy2NlIPIRTrya5mmkrXMDES4DAEA1XrenXbyTxqoiZVxkWSa00v6dALxyqqaM7pVzvYE54bEQonOD07WLAYxVAELYQsYwieKA8SgKg04P3WIvBvgR6b3YFiKTFhJKCUHDs310IcCf6urjbndoegAhAN4PnQFvB+D7pjycamXdj6rlvQEwsErKrjfG6F6b4QRvBRAwSjDy1uheqd4Mj8ClkxAAACBEOEonV1eThLi+66TUdvAkeAsAgAhPr375/dPtPPJ92zS1soNTs7cAQJgnk9vPf3yaZUzLuqqb3rxrBHAQ5/PbX367FVi3p+OpboePwFsAIBbn88X11TSnXblZb0/tOVXKWwDw/Pru/maaEH18/PbwsOvOefstAKLZp19/uSmYLVdf/vnwbSvfGYAl80+/frqKYXd4/Nc/li/7/n0BaJzPb24XGdXNdvXw7enYvSsAodFkNl9c5dw2h836ZXtozrOOLgWgolhc31xNhWv266f1vpT6vDL5wrMA8vz69m4xSwN7Wn1fvhy7c62zCwGYmN3c3cwzDrv96uFxUyk3PBcBAFw0BBBClE4Xd3dXWQBUuV09rQ9Nf259fgEAZozP73/7/e5agLZ8WS0fN6fubOPuAgASptnt57/9dSGYKTfL7w/LqlZnGzUXADAxW9x//v23Ce5Om8fvD8vnvj/fuRwPQMJ0fnf/6WYmVHlYLZdPm/3wM/BiAAhRkEyvb6+LEHTVZvnt4XlXjvIKxwFAiGlSXN//skjs0Wy/ffm6fjqpUT81EgARLqY39/d50B7Kp39/+X4oq3Fm6UgATLmYLO5uuSrXL9+/fF22Wo9zrUcDhHE2mU2wbrePy+XT82jPfBwAojwWaSpi55rdy2Zfjffsx50FmEWJSJKQQVXuNvtmtFU9FgBRHscRZ9j19elQnb//XQoAMWWMEQyBUVIqA8cfqiPf9M45DxFCCL3W4+8M4HTXtp0B4NUPwe8OYFVTVo1ygEYiz5PgzCTkfzXSqFSInSqpAArTyaytqrNKgbcAMKqpq6rRECeTStaN7MHIPu44AG+1aqvDvgh8fGW9cajRWp9hzFwMAFzfnrarOEPiNgwp48eqbuSY42hsQuL69rR+DHUWRrkIGN9st8B5d/5yGBsBYLty88Q9iUUWIkjiAENErfPmzFNxbAS8183+mZNQCO6V8gFjYdpqZ02vjXHWuoHRGJ8TmnYfIhgkEaapC/Lp9b5se637vu9V19StMoPsyvEAXh6Q9SzmMOKzdFFVdSu7Tqleqea4WW+9t0NCcAGAKq0GYcLhNI5S3/dad1JKpXtVrr+BXg+743EBgLba4CSNkLMgxmEIvO5kp53VZWLrU2ucH7AuLwAA1oLji6B9NcljhjBCXhsLAgIje3zJam3tTwUAAADdbKnaFiKJKCaUYoRJkOYhldNJXmtrBmRKF/aMur05RiEPKMGU8ZAnSX7NkzAriqKSXQd/5hwAAADQO7nFGCGICAuiNJvMFnwGgigRIokqPOAXLgPw1v63HiJcFD3iuQGEBpwHASVD0oQ3MasBAACYGkUGEhowCiglBGM4BOCt+gUAAAAxj4SIOAWvieKgl94QIIpFlheZCCCw1piBXZO3GgLEwqSYzqaTLCQedrLrlB7UNLgM4DUxxwgjHsaiuLq7nuUhUO54OJ6qbtDBfGEEMA2CIAh4kIg0K4r5fCZC2DYvz8/rXSmHeIaXASAaJUmSCJHk+aTIY5Em1HX17mm5fNrIQZbZRQAkjEWW53lR5JPJLE8poxhU7Xa1XD6tD8O6h0MAIIAQvF648RCA1w+AlAVRkk6KvJhMiryYpBx4Z7rjy+rx8Xl7GnihZwAAJCygGIHXpY0xoRgjCBFlLIxFnqdZloo4DnzftbKr95v1+vGlHNo2GQLA0jRmBAEInYc0iEJOKcKYEsp5LEQURZxh2Lf9cb8/lcfj8bDbDL5eN2QIAjEvIoYRhNbDIEnThDNCCMWI0TDkjBDkdNeUx5fVanOqpJRtM7hWGzQEUTYTISEIWgd5WhRpxAmlGEKMKaUQeKP6crd9efq+fD5KY621g/LBgQAAYRpEScAotA4EIs9FFFCKX4tyY521vSz3m/V6tVyuT2faNUMAvPcesTjmyFpHQ4acQd4hYI21xhqttZLlcbfdbl/21bl20RAAp1WvAYsjYo2FxHWmIxh5p3ulOtnJXquuKU+nU101P8Ou97aXTawcogRD4I1uAUIIWq062dZV3aq+76Vsmk7rMxtGwwCA07Kpk1ZS4rS2xhgLIARGd7JtylPVqF5rpdS4W8ZDAKxqGEZeJcQZbY021gMIzGsEylr2vbG9HnmvdsgQaImcao6CY2+tteY13bdGa6WklOq1GB33/0NuVEJMGQsCzigEzvk/b646b601WhvjRhkDwwEAhAgiBBEEAPj/5noeeOBf9frlQx/60Ic+9KEPfWic/gNIWVgjU/4GDQAAAABJRU5ErkJggg==\" style=\"height: auto\">\n",
       "              <figcaption style=\"font-size: 0.6em\">3</figcaption>\n",
       "            </figure>\n",
       "        \n",
       "            <figure style=\"margin: 5px !important;\">\n",
       "              <img src=\"data:image/png;base64,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\" style=\"height: auto\">\n",
       "              <figcaption style=\"font-size: 0.6em\">0</figcaption>\n",
       "            </figure>\n",
       "        \n",
       "            <figure style=\"margin: 5px !important;\">\n",
       "              <img src=\"data:image/png;base64,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\" style=\"height: auto\">\n",
       "              <figcaption style=\"font-size: 0.6em\">2</figcaption>\n",
       "            </figure>\n",
       "        \n",
       "            <figure style=\"margin: 5px !important;\">\n",
       "              <img src=\"data:image/png;base64,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\" style=\"height: auto\">\n",
       "              <figcaption style=\"font-size: 0.6em\">4</figcaption>\n",
       "            </figure>\n",
       "        \n",
       "            <figure style=\"margin: 5px !important;\">\n",
       "              <img src=\"data:image/png;base64,iVBORw0KGgoAAAANSUhEUgAAAIAAAACACAAAAADmVT4XAAADt0lEQVR4nO2aS2/kNgzHScnv2JN5JZvnYi8F2mO//zcpeimw2Wwnk87anvFbYg9J9tKTSSMGGv1Pvlj6maRFShSAk5OTk5OTk5OT08xC6etKeWES+dTVdWespbEjeDIAUF6QbK4+ZfbH992h7o0ZSyAEUNpPVve//nI5PPyhLRCNNoEQAP04297/9vtt/+dwyJvOjHapEECH6fri5vOXSzpt0tDT40NKyQBUvL66vb44Bww8rZAR00IAnW5v729WAUBvxv8BEwD42eXd/acUoK7awRKNZxAChNn2+nqTALRtZxjTi4IQUalksd5ssgiBsQRJARC1F2Xny9Uy0QDEMT+AxAWv8y/PswABmNOLXKCDs+VqucgSDQBcA0hc4MXZer1aJAF7CACRC8LFxfXVJpXNLwBQ8fr68902laYz9psYra7ubraJdDHnAwTZ5nK7iIQljYDfC5Kzs8ibzQIASimlhAYQAVhr2SvwFABkzTDwMtBEAGStlc4vTcc/hYiInHiYCkApxUOYCgAAWAaYDICIiAjGR4R0Z/Q2fd/3/cCpS8UWQAQA6tu2aZtuGE8gBXjxu2nrqqrqZgYAQCSwQ3U8nqq67e3o96UxgIhg+7rMi2PddOPnl7sAkYY6f94fyprx/WIARKWgK54eH5/yeuCMILaAQmrz3cO3Xd7MAYCokLpy//3v57I1MwAAIsJQFYdDUXVz7I4BEcC0p/JYcX6BCQAAgezQ1nU3zAOACGCHvutY/+AEAAAAZAZeIpoMgIwZf0A4IQAQEAGjFpgK4LUe5O0QJrEAolK8gmzSmtABOAAH4AA+NAD7qHqqdEx8gmnSMX3wdIzK833NHEkMQADoBWHAJZACEAAoP4zjkHlmO4EFUAdxkkT+TBYgAB0kWRoHcwEQeHG2XKahngfAEvpnq+3mPOYBCI9oiIjAT1dV9ZzwhpKeERFZ7cWLKk+jeVwABKD9KEkib8aNidJac3snk6VjZi6aBsBaY7iti2nqAUHz6H9SkjkAB+AAPi4A/ufhPQEQFb7kwJ8P7wsA+Hp/AV/OCWdIx9LWvRDg9QLD2wMzHQpqQtM3dTugh5r6pmnfvWFBpq1OlVEIHnTVqWF2LAQAfX0sjo0FAFMVxYnXNJMBFIdDcQLoyvyQH1ueBQQx0Ff5Ps4iExUPj7vnkte3FADYrtzD0Bdfg+Pu67enf07vDUBtYet8/1fqtfnhR1kyAfiLOGo/8IMwDNB0bdt3fc+KQtFVMHwbgGCaZdHJycnJaQ79C/RCryTu2VztAAAAAElFTkSuQmCC\" style=\"height: auto\">\n",
       "              <figcaption style=\"font-size: 0.6em\">1</figcaption>\n",
       "            </figure>\n",
       "        \n",
       "            <figure style=\"margin: 5px !important;\">\n",
       "              <img src=\"data:image/png;base64,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\" style=\"height: auto\">\n",
       "              <figcaption style=\"font-size: 0.6em\">4</figcaption>\n",
       "            </figure>\n",
       "        \n",
       "            <figure style=\"margin: 5px !important;\">\n",
       "              <img src=\"data:image/png;base64,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\" style=\"height: auto\">\n",
       "              <figcaption style=\"font-size: 0.6em\">4</figcaption>\n",
       "            </figure>\n",
       "        \n",
       "            <figure style=\"margin: 5px !important;\">\n",
       "              <img src=\"data:image/png;base64,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\" style=\"height: auto\">\n",
       "              <figcaption style=\"font-size: 0.6em\">9</figcaption>\n",
       "            </figure>\n",
       "        \n",
       "            <figure style=\"margin: 5px !important;\">\n",
       "              <img src=\"data:image/png;base64,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\" style=\"height: auto\">\n",
       "              <figcaption style=\"font-size: 0.6em\">0</figcaption>\n",
       "            </figure>\n",
       "        \n",
       "            <figure style=\"margin: 5px !important;\">\n",
       "              <img src=\"data:image/png;base64,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\" style=\"height: auto\">\n",
       "              <figcaption style=\"font-size: 0.6em\">0</figcaption>\n",
       "            </figure>\n",
       "        \n",
       "            <figure style=\"margin: 5px !important;\">\n",
       "              <img src=\"data:image/png;base64,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\" style=\"height: auto\">\n",
       "              <figcaption style=\"font-size: 0.6em\">9</figcaption>\n",
       "            </figure>\n",
       "        \n",
       "    </div>"
      ],
      "text/plain": [
       "<IPython.core.display.HTML object>"
      ]
     },
     "execution_count": 15,
     "metadata": {},
     "output_type": "execute_result"
    }
   ],
   "source": [
    "count = 8\n",
    "\n",
    "def get_some_random_images_and_labels(df, count):\n",
    "    image_ids = RNG.choice(df.index.unique(), count, replace=False)\n",
    "    image_datas = df.loc[image_ids]['png']\n",
    "    images = [Image.open(io.BytesIO(image_data)) for image_data in image_datas]\n",
    "    labels = df.loc[image_ids]['value']\n",
    "    return images, list(labels)\n",
    "\n",
    "train_images, train_labels = get_some_random_images_and_labels(df_train_images, count)\n",
    "test_images, test_labels = get_some_random_images_and_labels(df_test_images, count)\n",
    "\n",
    "display_images_grid(train_images + test_images, captions=train_labels + test_labels, col_count=count)"
   ]
  },
  {
   "cell_type": "code",
   "execution_count": 62,
   "id": "317bc435-b1be-4e25-8f4f-b9e3d35f522b",
   "metadata": {},
   "outputs": [],
   "source": [
    "class Engram(object):\n",
    "    def __init__(self):\n",
    "        self.hdv_bundle_uncapped_ = None\n",
    "        self.hdv_bundle = None\n",
    "        self.image_value = None\n",
    "        self.image_ids = set()\n",
    "        self.is_sealed = False\n",
    "        self.updates_counter = 0\n",
    "\n",
    "    @property\n",
    "    def hdv_bundle_uncapped(self):\n",
    "        return self.hdv_bundle_uncapped_\n",
    "\n",
    "    @hdv_bundle_uncapped.setter\n",
    "    def hdv_bundle_uncapped(self, h):\n",
    "        self.hdv_bundle_uncapped_ = h\n",
    "        self.hdv_bundle = xp.sign(h)\n",
    "        self.updates_counter += 1\n",
    "\n",
    "class CorticalColumn(object):\n",
    "    def __init__(self):\n",
    "        # engram = collection of related HDV aka prototype or collective image\n",
    "        self.engrams = {} # key - index in engram_norms, value - Engram instance\n",
    "        self.engram_norms = HdvArray(hdc.N, xp) # hot part of computation - normalized versions of engrams for fast cos sim calculation\n",
    "        self.images_seen = 0"
   ]
  },
  {
   "cell_type": "code",
   "execution_count": 68,
   "id": "1e8dc096-5076-4657-b22c-a489c2be1694",
   "metadata": {},
   "outputs": [],
   "source": [
    "COLUMNS = {}\n",
    "COLUMNS = {-1: CorticalColumn()}\n",
    "# COLUMNS.update(map(lambda i: (i, CorticalColumn()), range(1)))\n",
    "# COLUMNS.update(map(lambda i: (i, CorticalColumn()), range(config.cortical_columns_count)))"
   ]
  },
  {
   "cell_type": "code",
   "execution_count": null,
   "id": "91525025-20e5-4a9d-aa93-c7afb878ace7",
   "metadata": {},
   "outputs": [
    {
     "data": {
      "application/vnd.jupyter.widget-view+json": {
       "model_id": "2580353a643b42abab05f00d14569605",
       "version_major": 2,
       "version_minor": 0
      },
      "text/plain": [
       "Epoch:   0%|          | 0/10 [00:00<?, ?it/s]"
      ]
     },
     "metadata": {},
     "output_type": "display_data"
    },
    {
     "data": {
      "application/vnd.jupyter.widget-view+json": {
       "model_id": "",
       "version_major": 2,
       "version_minor": 0
      },
      "text/plain": [
       "Column:   0%|          | 0/1 [00:00<?, ?it/s]"
      ]
     },
     "metadata": {},
     "output_type": "display_data"
    },
    {
     "data": {
      "application/vnd.jupyter.widget-view+json": {
       "model_id": "",
       "version_major": 2,
       "version_minor": 0
      },
      "text/plain": [
       "Attempt:   0%|          | 0/10 [00:00<?, ?it/s]"
      ]
     },
     "metadata": {},
     "output_type": "display_data"
    },
    {
     "data": {
      "application/vnd.jupyter.widget-view+json": {
       "model_id": "",
       "version_major": 2,
       "version_minor": 0
      },
      "text/plain": [
       "Image (train):   0%|          | 0/1000 [00:00<?, ?it/s]"
      ]
     },
     "metadata": {},
     "output_type": "display_data"
    },
    {
     "data": {
      "application/vnd.jupyter.widget-view+json": {
       "model_id": "",
       "version_major": 2,
       "version_minor": 0
      },
      "text/plain": [
       "Image (test):   0%|          | 0/1000 [00:00<?, ?it/s]"
      ]
     },
     "metadata": {},
     "output_type": "display_data"
    },
    {
     "data": {
      "application/vnd.jupyter.widget-view+json": {
       "model_id": "",
       "version_major": 2,
       "version_minor": 0
      },
      "text/plain": [
       "Image (train):   0%|          | 0/4 [00:00<?, ?it/s]"
      ]
     },
     "metadata": {},
     "output_type": "display_data"
    },
    {
     "data": {
      "application/vnd.jupyter.widget-view+json": {
       "model_id": "",
       "version_major": 2,
       "version_minor": 0
      },
      "text/plain": [
       "Image (test):   0%|          | 0/4 [00:00<?, ?it/s]"
      ]
     },
     "metadata": {},
     "output_type": "display_data"
    },
    {
     "data": {
      "application/vnd.jupyter.widget-view+json": {
       "model_id": "",
       "version_major": 2,
       "version_minor": 0
      },
      "text/plain": [
       "Image (train):   0%|          | 0/2 [00:00<?, ?it/s]"
      ]
     },
     "metadata": {},
     "output_type": "display_data"
    },
    {
     "data": {
      "application/vnd.jupyter.widget-view+json": {
       "model_id": "",
       "version_major": 2,
       "version_minor": 0
      },
      "text/plain": [
       "Image (test):   0%|          | 0/2 [00:00<?, ?it/s]"
      ]
     },
     "metadata": {},
     "output_type": "display_data"
    },
    {
     "data": {
      "application/vnd.jupyter.widget-view+json": {
       "model_id": "",
       "version_major": 2,
       "version_minor": 0
      },
      "text/plain": [
       "Image (train):   0%|          | 0/2 [00:00<?, ?it/s]"
      ]
     },
     "metadata": {},
     "output_type": "display_data"
    },
    {
     "data": {
      "application/vnd.jupyter.widget-view+json": {
       "model_id": "",
       "version_major": 2,
       "version_minor": 0
      },
      "text/plain": [
       "Image (test):   0%|          | 0/2 [00:00<?, ?it/s]"
      ]
     },
     "metadata": {},
     "output_type": "display_data"
    },
    {
     "data": {
      "application/vnd.jupyter.widget-view+json": {
       "model_id": "",
       "version_major": 2,
       "version_minor": 0
      },
      "text/plain": [
       "Image (train):   0%|          | 0/1 [00:00<?, ?it/s]"
      ]
     },
     "metadata": {},
     "output_type": "display_data"
    },
    {
     "data": {
      "application/vnd.jupyter.widget-view+json": {
       "model_id": "",
       "version_major": 2,
       "version_minor": 0
      },
      "text/plain": [
       "Image (test):   0%|          | 0/1 [00:00<?, ?it/s]"
      ]
     },
     "metadata": {},
     "output_type": "display_data"
    },
    {
     "data": {
      "application/vnd.jupyter.widget-view+json": {
       "model_id": "",
       "version_major": 2,
       "version_minor": 0
      },
      "text/plain": [
       "Image (train):   0%|          | 0/1 [00:00<?, ?it/s]"
      ]
     },
     "metadata": {},
     "output_type": "display_data"
    },
    {
     "data": {
      "application/vnd.jupyter.widget-view+json": {
       "model_id": "",
       "version_major": 2,
       "version_minor": 0
      },
      "text/plain": [
       "Image (test):   0%|          | 0/1 [00:00<?, ?it/s]"
      ]
     },
     "metadata": {},
     "output_type": "display_data"
    },
    {
     "data": {
      "application/vnd.jupyter.widget-view+json": {
       "model_id": "",
       "version_major": 2,
       "version_minor": 0
      },
      "text/plain": [
       "Image (train):   0%|          | 0/1 [00:00<?, ?it/s]"
      ]
     },
     "metadata": {},
     "output_type": "display_data"
    },
    {
     "data": {
      "application/vnd.jupyter.widget-view+json": {
       "model_id": "",
       "version_major": 2,
       "version_minor": 0
      },
      "text/plain": [
       "Image (test):   0%|          | 0/1 [00:00<?, ?it/s]"
      ]
     },
     "metadata": {},
     "output_type": "display_data"
    },
    {
     "data": {
      "application/vnd.jupyter.widget-view+json": {
       "model_id": "",
       "version_major": 2,
       "version_minor": 0
      },
      "text/plain": [
       "Image (train):   0%|          | 0/1 [00:00<?, ?it/s]"
      ]
     },
     "metadata": {},
     "output_type": "display_data"
    },
    {
     "data": {
      "application/vnd.jupyter.widget-view+json": {
       "model_id": "",
       "version_major": 2,
       "version_minor": 0
      },
      "text/plain": [
       "Image (test):   0%|          | 0/1 [00:00<?, ?it/s]"
      ]
     },
     "metadata": {},
     "output_type": "display_data"
    },
    {
     "data": {
      "application/vnd.jupyter.widget-view+json": {
       "model_id": "",
       "version_major": 2,
       "version_minor": 0
      },
      "text/plain": [
       "Image (train):   0%|          | 0/1 [00:00<?, ?it/s]"
      ]
     },
     "metadata": {},
     "output_type": "display_data"
    },
    {
     "data": {
      "application/vnd.jupyter.widget-view+json": {
       "model_id": "",
       "version_major": 2,
       "version_minor": 0
      },
      "text/plain": [
       "Image (test):   0%|          | 0/1 [00:00<?, ?it/s]"
      ]
     },
     "metadata": {},
     "output_type": "display_data"
    },
    {
     "data": {
      "application/vnd.jupyter.widget-view+json": {
       "model_id": "",
       "version_major": 2,
       "version_minor": 0
      },
      "text/plain": [
       "Image (train):   0%|          | 0/1 [00:00<?, ?it/s]"
      ]
     },
     "metadata": {},
     "output_type": "display_data"
    },
    {
     "data": {
      "application/vnd.jupyter.widget-view+json": {
       "model_id": "",
       "version_major": 2,
       "version_minor": 0
      },
      "text/plain": [
       "Image (test):   0%|          | 0/1 [00:00<?, ?it/s]"
      ]
     },
     "metadata": {},
     "output_type": "display_data"
    },
    {
     "data": {
      "application/vnd.jupyter.widget-view+json": {
       "model_id": "",
       "version_major": 2,
       "version_minor": 0
      },
      "text/plain": [
       "Column:   0%|          | 0/1 [00:00<?, ?it/s]"
      ]
     },
     "metadata": {},
     "output_type": "display_data"
    },
    {
     "data": {
      "application/vnd.jupyter.widget-view+json": {
       "model_id": "",
       "version_major": 2,
       "version_minor": 0
      },
      "text/plain": [
       "Attempt:   0%|          | 0/10 [00:00<?, ?it/s]"
      ]
     },
     "metadata": {},
     "output_type": "display_data"
    },
    {
     "data": {
      "application/vnd.jupyter.widget-view+json": {
       "model_id": "",
       "version_major": 2,
       "version_minor": 0
      },
      "text/plain": [
       "Image (train):   0%|          | 0/1000 [00:00<?, ?it/s]"
      ]
     },
     "metadata": {},
     "output_type": "display_data"
    },
    {
     "data": {
      "application/vnd.jupyter.widget-view+json": {
       "model_id": "",
       "version_major": 2,
       "version_minor": 0
      },
      "text/plain": [
       "Image (test):   0%|          | 0/1000 [00:00<?, ?it/s]"
      ]
     },
     "metadata": {},
     "output_type": "display_data"
    },
    {
     "data": {
      "application/vnd.jupyter.widget-view+json": {
       "model_id": "",
       "version_major": 2,
       "version_minor": 0
      },
      "text/plain": [
       "Image (train):   0%|          | 0/8 [00:00<?, ?it/s]"
      ]
     },
     "metadata": {},
     "output_type": "display_data"
    },
    {
     "data": {
      "application/vnd.jupyter.widget-view+json": {
       "model_id": "",
       "version_major": 2,
       "version_minor": 0
      },
      "text/plain": [
       "Image (test):   0%|          | 0/8 [00:00<?, ?it/s]"
      ]
     },
     "metadata": {},
     "output_type": "display_data"
    },
    {
     "data": {
      "application/vnd.jupyter.widget-view+json": {
       "model_id": "",
       "version_major": 2,
       "version_minor": 0
      },
      "text/plain": [
       "Image (train):   0%|          | 0/6 [00:00<?, ?it/s]"
      ]
     },
     "metadata": {},
     "output_type": "display_data"
    },
    {
     "data": {
      "application/vnd.jupyter.widget-view+json": {
       "model_id": "",
       "version_major": 2,
       "version_minor": 0
      },
      "text/plain": [
       "Image (test):   0%|          | 0/6 [00:00<?, ?it/s]"
      ]
     },
     "metadata": {},
     "output_type": "display_data"
    },
    {
     "data": {
      "application/vnd.jupyter.widget-view+json": {
       "model_id": "",
       "version_major": 2,
       "version_minor": 0
      },
      "text/plain": [
       "Image (train):   0%|          | 0/1 [00:00<?, ?it/s]"
      ]
     },
     "metadata": {},
     "output_type": "display_data"
    },
    {
     "data": {
      "application/vnd.jupyter.widget-view+json": {
       "model_id": "",
       "version_major": 2,
       "version_minor": 0
      },
      "text/plain": [
       "Image (test):   0%|          | 0/1 [00:00<?, ?it/s]"
      ]
     },
     "metadata": {},
     "output_type": "display_data"
    },
    {
     "data": {
      "application/vnd.jupyter.widget-view+json": {
       "model_id": "",
       "version_major": 2,
       "version_minor": 0
      },
      "text/plain": [
       "Image (train): 0it [00:00, ?it/s]"
      ]
     },
     "metadata": {},
     "output_type": "display_data"
    },
    {
     "data": {
      "application/vnd.jupyter.widget-view+json": {
       "model_id": "",
       "version_major": 2,
       "version_minor": 0
      },
      "text/plain": [
       "Image (test): 0it [00:00, ?it/s]"
      ]
     },
     "metadata": {},
     "output_type": "display_data"
    },
    {
     "data": {
      "application/vnd.jupyter.widget-view+json": {
       "model_id": "",
       "version_major": 2,
       "version_minor": 0
      },
      "text/plain": [
       "Image (train): 0it [00:00, ?it/s]"
      ]
     },
     "metadata": {},
     "output_type": "display_data"
    },
    {
     "data": {
      "application/vnd.jupyter.widget-view+json": {
       "model_id": "",
       "version_major": 2,
       "version_minor": 0
      },
      "text/plain": [
       "Image (test): 0it [00:00, ?it/s]"
      ]
     },
     "metadata": {},
     "output_type": "display_data"
    },
    {
     "data": {
      "application/vnd.jupyter.widget-view+json": {
       "model_id": "",
       "version_major": 2,
       "version_minor": 0
      },
      "text/plain": [
       "Image (train): 0it [00:00, ?it/s]"
      ]
     },
     "metadata": {},
     "output_type": "display_data"
    },
    {
     "data": {
      "application/vnd.jupyter.widget-view+json": {
       "model_id": "",
       "version_major": 2,
       "version_minor": 0
      },
      "text/plain": [
       "Image (test): 0it [00:00, ?it/s]"
      ]
     },
     "metadata": {},
     "output_type": "display_data"
    },
    {
     "data": {
      "application/vnd.jupyter.widget-view+json": {
       "model_id": "",
       "version_major": 2,
       "version_minor": 0
      },
      "text/plain": [
       "Image (train): 0it [00:00, ?it/s]"
      ]
     },
     "metadata": {},
     "output_type": "display_data"
    },
    {
     "data": {
      "application/vnd.jupyter.widget-view+json": {
       "model_id": "",
       "version_major": 2,
       "version_minor": 0
      },
      "text/plain": [
       "Image (test): 0it [00:00, ?it/s]"
      ]
     },
     "metadata": {},
     "output_type": "display_data"
    },
    {
     "data": {
      "application/vnd.jupyter.widget-view+json": {
       "model_id": "",
       "version_major": 2,
       "version_minor": 0
      },
      "text/plain": [
       "Image (train): 0it [00:00, ?it/s]"
      ]
     },
     "metadata": {},
     "output_type": "display_data"
    },
    {
     "data": {
      "application/vnd.jupyter.widget-view+json": {
       "model_id": "",
       "version_major": 2,
       "version_minor": 0
      },
      "text/plain": [
       "Image (test): 0it [00:00, ?it/s]"
      ]
     },
     "metadata": {},
     "output_type": "display_data"
    },
    {
     "data": {
      "application/vnd.jupyter.widget-view+json": {
       "model_id": "",
       "version_major": 2,
       "version_minor": 0
      },
      "text/plain": [
       "Image (train): 0it [00:00, ?it/s]"
      ]
     },
     "metadata": {},
     "output_type": "display_data"
    },
    {
     "data": {
      "application/vnd.jupyter.widget-view+json": {
       "model_id": "",
       "version_major": 2,
       "version_minor": 0
      },
      "text/plain": [
       "Image (test): 0it [00:00, ?it/s]"
      ]
     },
     "metadata": {},
     "output_type": "display_data"
    },
    {
     "data": {
      "application/vnd.jupyter.widget-view+json": {
       "model_id": "",
       "version_major": 2,
       "version_minor": 0
      },
      "text/plain": [
       "Column:   0%|          | 0/1 [00:00<?, ?it/s]"
      ]
     },
     "metadata": {},
     "output_type": "display_data"
    },
    {
     "data": {
      "application/vnd.jupyter.widget-view+json": {
       "model_id": "",
       "version_major": 2,
       "version_minor": 0
      },
      "text/plain": [
       "Attempt:   0%|          | 0/10 [00:00<?, ?it/s]"
      ]
     },
     "metadata": {},
     "output_type": "display_data"
    },
    {
     "data": {
      "application/vnd.jupyter.widget-view+json": {
       "model_id": "",
       "version_major": 2,
       "version_minor": 0
      },
      "text/plain": [
       "Image (train):   0%|          | 0/1000 [00:00<?, ?it/s]"
      ]
     },
     "metadata": {},
     "output_type": "display_data"
    },
    {
     "data": {
      "application/vnd.jupyter.widget-view+json": {
       "model_id": "",
       "version_major": 2,
       "version_minor": 0
      },
      "text/plain": [
       "Image (test):   0%|          | 0/1000 [00:00<?, ?it/s]"
      ]
     },
     "metadata": {},
     "output_type": "display_data"
    },
    {
     "data": {
      "application/vnd.jupyter.widget-view+json": {
       "model_id": "",
       "version_major": 2,
       "version_minor": 0
      },
      "text/plain": [
       "Image (train):   0%|          | 0/8 [00:00<?, ?it/s]"
      ]
     },
     "metadata": {},
     "output_type": "display_data"
    },
    {
     "data": {
      "application/vnd.jupyter.widget-view+json": {
       "model_id": "",
       "version_major": 2,
       "version_minor": 0
      },
      "text/plain": [
       "Image (test):   0%|          | 0/8 [00:00<?, ?it/s]"
      ]
     },
     "metadata": {},
     "output_type": "display_data"
    },
    {
     "data": {
      "application/vnd.jupyter.widget-view+json": {
       "model_id": "",
       "version_major": 2,
       "version_minor": 0
      },
      "text/plain": [
       "Image (train):   0%|          | 0/3 [00:00<?, ?it/s]"
      ]
     },
     "metadata": {},
     "output_type": "display_data"
    },
    {
     "data": {
      "application/vnd.jupyter.widget-view+json": {
       "model_id": "",
       "version_major": 2,
       "version_minor": 0
      },
      "text/plain": [
       "Image (test):   0%|          | 0/3 [00:00<?, ?it/s]"
      ]
     },
     "metadata": {},
     "output_type": "display_data"
    },
    {
     "data": {
      "application/vnd.jupyter.widget-view+json": {
       "model_id": "",
       "version_major": 2,
       "version_minor": 0
      },
      "text/plain": [
       "Image (train):   0%|          | 0/3 [00:00<?, ?it/s]"
      ]
     },
     "metadata": {},
     "output_type": "display_data"
    },
    {
     "data": {
      "application/vnd.jupyter.widget-view+json": {
       "model_id": "",
       "version_major": 2,
       "version_minor": 0
      },
      "text/plain": [
       "Image (test):   0%|          | 0/3 [00:00<?, ?it/s]"
      ]
     },
     "metadata": {},
     "output_type": "display_data"
    },
    {
     "data": {
      "application/vnd.jupyter.widget-view+json": {
       "model_id": "",
       "version_major": 2,
       "version_minor": 0
      },
      "text/plain": [
       "Image (train):   0%|          | 0/3 [00:00<?, ?it/s]"
      ]
     },
     "metadata": {},
     "output_type": "display_data"
    },
    {
     "data": {
      "application/vnd.jupyter.widget-view+json": {
       "model_id": "",
       "version_major": 2,
       "version_minor": 0
      },
      "text/plain": [
       "Image (test):   0%|          | 0/3 [00:00<?, ?it/s]"
      ]
     },
     "metadata": {},
     "output_type": "display_data"
    },
    {
     "data": {
      "application/vnd.jupyter.widget-view+json": {
       "model_id": "",
       "version_major": 2,
       "version_minor": 0
      },
      "text/plain": [
       "Image (train):   0%|          | 0/3 [00:00<?, ?it/s]"
      ]
     },
     "metadata": {},
     "output_type": "display_data"
    },
    {
     "data": {
      "application/vnd.jupyter.widget-view+json": {
       "model_id": "",
       "version_major": 2,
       "version_minor": 0
      },
      "text/plain": [
       "Image (test):   0%|          | 0/3 [00:00<?, ?it/s]"
      ]
     },
     "metadata": {},
     "output_type": "display_data"
    },
    {
     "data": {
      "application/vnd.jupyter.widget-view+json": {
       "model_id": "",
       "version_major": 2,
       "version_minor": 0
      },
      "text/plain": [
       "Image (train):   0%|          | 0/2 [00:00<?, ?it/s]"
      ]
     },
     "metadata": {},
     "output_type": "display_data"
    },
    {
     "data": {
      "application/vnd.jupyter.widget-view+json": {
       "model_id": "",
       "version_major": 2,
       "version_minor": 0
      },
      "text/plain": [
       "Image (test):   0%|          | 0/2 [00:00<?, ?it/s]"
      ]
     },
     "metadata": {},
     "output_type": "display_data"
    },
    {
     "data": {
      "application/vnd.jupyter.widget-view+json": {
       "model_id": "",
       "version_major": 2,
       "version_minor": 0
      },
      "text/plain": [
       "Image (train):   0%|          | 0/2 [00:00<?, ?it/s]"
      ]
     },
     "metadata": {},
     "output_type": "display_data"
    },
    {
     "data": {
      "application/vnd.jupyter.widget-view+json": {
       "model_id": "",
       "version_major": 2,
       "version_minor": 0
      },
      "text/plain": [
       "Image (test):   0%|          | 0/2 [00:00<?, ?it/s]"
      ]
     },
     "metadata": {},
     "output_type": "display_data"
    },
    {
     "data": {
      "application/vnd.jupyter.widget-view+json": {
       "model_id": "",
       "version_major": 2,
       "version_minor": 0
      },
      "text/plain": [
       "Image (train):   0%|          | 0/1 [00:00<?, ?it/s]"
      ]
     },
     "metadata": {},
     "output_type": "display_data"
    },
    {
     "data": {
      "application/vnd.jupyter.widget-view+json": {
       "model_id": "",
       "version_major": 2,
       "version_minor": 0
      },
      "text/plain": [
       "Image (test):   0%|          | 0/1 [00:00<?, ?it/s]"
      ]
     },
     "metadata": {},
     "output_type": "display_data"
    },
    {
     "data": {
      "application/vnd.jupyter.widget-view+json": {
       "model_id": "",
       "version_major": 2,
       "version_minor": 0
      },
      "text/plain": [
       "Image (train):   0%|          | 0/1 [00:00<?, ?it/s]"
      ]
     },
     "metadata": {},
     "output_type": "display_data"
    },
    {
     "data": {
      "application/vnd.jupyter.widget-view+json": {
       "model_id": "",
       "version_major": 2,
       "version_minor": 0
      },
      "text/plain": [
       "Image (test):   0%|          | 0/1 [00:00<?, ?it/s]"
      ]
     },
     "metadata": {},
     "output_type": "display_data"
    },
    {
     "data": {
      "application/vnd.jupyter.widget-view+json": {
       "model_id": "efc733ed9d764887aaec295fda516a13",
       "version_major": 2,
       "version_minor": 0
      },
      "text/plain": [
       "Column:   0%|          | 0/1 [00:00<?, ?it/s]"
      ]
     },
     "metadata": {},
     "output_type": "display_data"
    },
    {
     "data": {
      "application/vnd.jupyter.widget-view+json": {
       "model_id": "91771cc0b09f4bc3b346b2cee109d59a",
       "version_major": 2,
       "version_minor": 0
      },
      "text/plain": [
       "Attempt:   0%|          | 0/10 [00:00<?, ?it/s]"
      ]
     },
     "metadata": {},
     "output_type": "display_data"
    },
    {
     "data": {
      "application/vnd.jupyter.widget-view+json": {
       "model_id": "",
       "version_major": 2,
       "version_minor": 0
      },
      "text/plain": [
       "Image (train):   0%|          | 0/1000 [00:00<?, ?it/s]"
      ]
     },
     "metadata": {},
     "output_type": "display_data"
    },
    {
     "data": {
      "application/vnd.jupyter.widget-view+json": {
       "model_id": "8b5921a3af7246039b1ae57f71b7216a",
       "version_major": 2,
       "version_minor": 0
      },
      "text/plain": [
       "Image (test):   0%|          | 0/1000 [00:00<?, ?it/s]"
      ]
     },
     "metadata": {},
     "output_type": "display_data"
    }
   ],
   "source": [
    "TRAIN_RUN_ID += 1\n",
    "epochs = 10\n",
    "attempts_to_get_no_mistakes = 10\n",
    "count = 1000\n",
    "consolidation_threshold = 1000\n",
    "\n",
    "for epoch in tqdm(range(epochs), desc='Epoch'):\n",
    "    train_step_image_ids = RNG.choice(df_train_images.index.unique(), count, replace=False)\n",
    "\n",
    "    for column_id, column in tqdm(COLUMNS.items(), desc='Column', leave=False):\n",
    "        for attempt_to_get_no_mistakes in tqdm(range(attempts_to_get_no_mistakes), leave=False, desc='Attempt'):\n",
    "            # 1) EVOLVE MEMORIES\n",
    "            for image_no, image_id in tqdm(enumerate(train_step_image_ids), leave=False, total=len(train_step_image_ids), desc='Image (train)'):\n",
    "                # 1.1) MINE ENGRAMS\n",
    "                log_prefix = f'[EP={epoch},COL={column_id},TRRID={TRAIN_RUN_ID},IMGNO={image_no},IMGID={image_id}]'\n",
    "                log.debug(f'{log_prefix} Engrams count={column.engram_norms.len}')\n",
    "                column.images_seen += 1\n",
    "                \n",
    "                image_value = df_train_images.loc[image_id]['value']\n",
    "                df_image_encodings = pd.read_sql('SELECT hdv FROM image_encodings WHERE image_id=:image_id AND column_id=:column_id', \n",
    "                                                 params={'image_id': int(image_id), 'column_id': column_id}, con=train_db_con)\n",
    "                assert len(df_image_encodings) > 0\n",
    "                image_encoding_hdvs = list(map(lambda h: np.frombuffer(h, dtype='b'), df_image_encodings['hdv']))\n",
    "                image_encoding_hdvs_norm = hdc.normalize(image_encoding_hdvs)\n",
    "                image_encoding_hdvs_norm = xp_array_to_gpu(image_encoding_hdvs_norm)\n",
    "        \n",
    "                cos_sim_matrix = column.engram_norms.array_active @ image_encoding_hdvs_norm.T\n",
    "                cos_sim_matrix[cos_sim_matrix < Hdc.COS_SIM_THRESHOLD] = 0\n",
    "                cos_sim_vector = xp_array_from_gpu(xp.sum(cos_sim_matrix, axis=1)) # how each mem recall (sum cos sim) is close to current image\n",
    "                \n",
    "                assert cos_sim_vector.shape == (column.engram_norms.array_active.shape[0],)\n",
    "                engram_ids_by_match_score = np.argsort(-cos_sim_vector) # sorted desc\n",
    "                match_found = False\n",
    "                match_pos = False\n",
    "                match_is_updated = False\n",
    "        \n",
    "                for pos, engram_id in enumerate(engram_ids_by_match_score):\n",
    "                    cos_sim_value = cos_sim_vector[engram_id]\n",
    "                    log.debug(f'{log_prefix} Checking engram #{engram_id}, pos={pos}, sim={cos_sim_value:.2f}')\n",
    "        \n",
    "                    if cos_sim_value <= 0:\n",
    "                        break\n",
    "\n",
    "                    engram = column.engrams[engram_id]\n",
    "        \n",
    "                    if engram.image_value != image_value:\n",
    "                        log.debug(f'{log_prefix} Match WRONG, engram value={engram.image_value} vs {image_value}')\n",
    "                    else:\n",
    "                        log.debug(f'{log_prefix} Match CORRECT, sealed={engram.is_sealed}')\n",
    "        \n",
    "                        if not engram.is_sealed:\n",
    "                            engram.image_ids.add(image_id)\n",
    "                            image_encoding_hdv_bundle = hdc.bundle(image_encoding_hdvs)\n",
    "                            # before_sim = hdc.sim(engram.hdv_bundle, image_encoding_hdv_bundle)\n",
    "                            \n",
    "                            engram.hdv_bundle_uncapped = xp.sum(xp.vstack([engram.hdv_bundle_uncapped, image_encoding_hdv_bundle]), axis=0)\n",
    "                            column.engram_norms.array[engram_id] = hdc.normalize(engram.hdv_bundle)\n",
    "                            \n",
    "                            # after_sim = hdc.sim(engram.hdv_bundle, image_encoding_hdv_bundle)\n",
    "    \n",
    "                            # assert before_sim != 0\n",
    "                            # sim_chg_ratio = (after_sim / before_sim - 1)\n",
    "                            \n",
    "                            # if sim_chg_ratio < 0.01:\n",
    "                            #     log.debug(f'{log_prefix} engram #{engram_id} (upd. counter={engram.updates_counter}) is sealed, sim change = {100 * sim_chg_ratio:.3f}%')\n",
    "                            #     engram.is_sealed = True\n",
    "\n",
    "                            if engram.updates_counter > 200:\n",
    "                                log.debug(f'{log_prefix} engram #{engram_id} (upd. counter={engram.updates_counter}) is sealed')\n",
    "                                engram.is_sealed = True\n",
    "        \n",
    "                        match_found = True\n",
    "                        match_pos = pos\n",
    "                        match_is_updated = not engram.is_sealed\n",
    "                        break\n",
    "        \n",
    "                log.debug(f'{log_prefix} Match found={match_found}, pos={match_pos}, is updated={match_is_updated}')\n",
    "        \n",
    "                if (match_found and match_pos == 0) or (match_found and match_is_updated):\n",
    "                    pass\n",
    "                else:\n",
    "                    # Deploy new engram\n",
    "                    engram_id = column.engram_norms.lease()\n",
    "                    \n",
    "                    engram = Engram()\n",
    "                    engram.hdv_bundle_uncapped = xp.sum(xp.vstack(image_encoding_hdvs), axis=0)\n",
    "                    engram.image_ids.add(image_id)\n",
    "                    engram.image_value = image_value\n",
    "                    \n",
    "                    column.engram_norms.array[engram_id] = hdc.normalize(engram.hdv_bundle)\n",
    "                    column.engrams[engram_id] = engram\n",
    "                    log.debug(f'{log_prefix} New engram {engram_id}')\n",
    "\n",
    "                # 1.2) CONSOLIDATE ENGRAMS\n",
    "                if image_no > 0 and image_no % consolidation_threshold == 0:\n",
    "                    def dump_engram_lengths(when):\n",
    "                        engram_lengths = list(map(lambda e: len(e.image_ids), column.engrams.values()))\n",
    "                        engram_lengths = np.unique_counts(engram_lengths)\n",
    "                        \n",
    "                        for v, c in zip(reversed(engram_lengths.values), reversed(engram_lengths.counts)):\n",
    "                            log.debug(f'{log_prefix}[CONSOLIDATION] {when:10} {v:5} {c:5}')\n",
    "        \n",
    "                    before_len = column.engram_norms.len()\n",
    "                    assert before_len == len(column.engrams)\n",
    "                    \n",
    "                    log.debug(f'{log_prefix}[CONSOLIDATION] BEFORE engrams count = {before_len}')\n",
    "                    dump_engram_lengths('BEFORE')\n",
    "                    \n",
    "                    engram_ids_to_release = []\n",
    "                    \n",
    "                    for engram_id, engram in column.engrams.items():\n",
    "                        #l = 0.1\n",
    "                        l = 1\n",
    "                        exp_distro_level = l * np.exp(-l * len(engram.image_ids))\n",
    "                        rand_level = RNG.random()\n",
    "                        do_release = rand_level < exp_distro_level\n",
    "                        \n",
    "                        if do_release:\n",
    "                            engram_ids_to_release.append(engram_id)\n",
    "                            log.debug(f'{log_prefix}[CONSOLIDATION] Dropping engram #{engram_id}, len={len(engram.image_ids)}: {rand_level:.5f} < {exp_distro_level:.5f}')\n",
    "                \n",
    "                    for engram_id_to_release in engram_ids_to_release:\n",
    "                        del column.engrams[engram_id_to_release]\n",
    "                        column.engram_norms.release(engram_id_to_release)\n",
    "                \n",
    "                    after_len = column.engram_norms.len()\n",
    "                    assert after_len == len(column.engrams)\n",
    "                    \n",
    "                    log.debug(f'{log_prefix}[CONSOLIDATION] AFTER engrams count = {after_len}')\n",
    "                    dump_engram_lengths('AFTER')\n",
    "\n",
    "            # 2) DETECT MISTAKES FOR CONSEQUENT FIX\n",
    "            mistake_image_ids = []\n",
    "            \n",
    "            for image_no, image_id in tqdm(enumerate(train_step_image_ids), leave=False, total=len(train_step_image_ids), desc='Image (test)'):\n",
    "                image_value = df_train_images.loc[image_id]['value']\n",
    "                df_image_encodings = pd.read_sql('SELECT hdv FROM image_encodings WHERE image_id=:image_id AND column_id=:column_id', \n",
    "                                                 params={'image_id': int(image_id), 'column_id': column_id}, con=train_db_con)\n",
    "                assert len(df_image_encodings) > 0\n",
    "                image_encoding_hdvs = list(map(lambda h: np.frombuffer(h, dtype='b'), df_image_encodings['hdv']))\n",
    "                image_encoding_hdvs_norm = hdc.normalize(image_encoding_hdvs)\n",
    "                image_encoding_hdvs_norm = xp_array_to_gpu(image_encoding_hdvs_norm)\n",
    "            \n",
    "                cos_sim_matrix = column.engram_norms.array_active @ image_encoding_hdvs_norm.T\n",
    "                cos_sim_matrix[cos_sim_matrix < Hdc.COS_SIM_THRESHOLD] = 0\n",
    "                cos_sim_vector = xp_array_from_gpu(xp.sum(cos_sim_matrix, axis=1)) # how each mem recall (sum cos sim) is close to current image\n",
    "                \n",
    "                assert cos_sim_vector.shape == (column.engram_norms.array_active.shape[0],)\n",
    "                engram_ids_by_match_score = np.argsort(-cos_sim_vector) # sorted desc\n",
    "            \n",
    "                if engram_ids_by_match_score.shape[0] > 0:\n",
    "                    engram_id = engram_ids_by_match_score[0]\n",
    "                    cos_sim_value = cos_sim_vector[engram_id]\n",
    "            \n",
    "                    if cos_sim_value > 0:\n",
    "                        engram_image_value = column.engrams[engram_id].image_value\n",
    "    \n",
    "                        if engram_image_value != image_value:\n",
    "                            mistake_image_ids.append(image_id)\n",
    "\n",
    "            log.debug(f'[EP={epoch},COL={column_id},TRRID={TRAIN_RUN_ID}] Mistaken image ids = {len(mistake_image_ids)}')\n",
    "            train_step_image_ids = mistake_image_ids"
   ]
  },
  {
   "cell_type": "code",
   "execution_count": 40,
   "id": "0e574f93-f84d-46f2-aa55-57fdfbf785a1",
   "metadata": {},
   "outputs": [],
   "source": [
    "def softmax(x):\n",
    "    max_x = np.max(x)\n",
    "    exp_x = np.exp(x - max_x)\n",
    "    sum_exp_x = np.sum(exp_x)\n",
    "    return exp_x / sum_exp_x\n",
    "\n",
    "def conflate(pdfs):    \n",
    "    n = np.prod(pdfs, axis=0)\n",
    "    d = n.sum()\n",
    "\n",
    "    if np.isclose(d, 0):\n",
    "        return np.zeros(len(pdfs))\n",
    "        \n",
    "    return n / d"
   ]
  },
  {
   "cell_type": "code",
   "execution_count": 41,
   "id": "dedefb7f-24e7-43ca-91d6-eecc3fbaeb17",
   "metadata": {},
   "outputs": [
    {
     "data": {
      "application/vnd.jupyter.widget-view+json": {
       "model_id": "0c2b3ef01c0c4b6690b49940b5d09151",
       "version_major": 2,
       "version_minor": 0
      },
      "text/plain": [
       "  0%|          | 0/2000 [00:00<?, ?it/s]"
      ]
     },
     "metadata": {},
     "output_type": "display_data"
    }
   ],
   "source": [
    "# TEST RUN\n",
    "TEST_RUN_ID += 1\n",
    "count = 2000\n",
    "test_run_source = (df_test_images, test_db_con, 'test')\n",
    "# test_run_source = (df_train_images, train_db_con, 'train')\n",
    "test_image_ids = RNG.choice(test_run_source[0].index.unique(), count, replace=False)\n",
    "test_result_rows = defaultdict(list)\n",
    "\n",
    "for image_id in tqdm(test_image_ids):\n",
    "    for column_id, column in COLUMNS.items():\n",
    "        max_cos_sim_index = -1 # aka engram id\n",
    "        max_similar_engram_image_value = ''\n",
    "        max_cos_sim = 0\n",
    "    \n",
    "        image_value = test_run_source[0].loc[image_id]['value']\n",
    "        df_image_encodings = pd.read_sql('SELECT hdv FROM image_encodings WHERE image_id=:image_id AND column_id=:column_id', \n",
    "                                         params={'image_id': int(image_id), 'column_id': column_id}, con=test_run_source[1])\n",
    "        assert len(df_image_encodings) > 0\n",
    "        image_encoding_hdvs = list(map(lambda h: np.frombuffer(h, dtype='b'), df_image_encodings['hdv']))\n",
    "        image_encoding_hdvs_norm = hdc.normalize(image_encoding_hdvs)\n",
    "        image_encoding_hdvs_norm = xp_array_to_gpu(image_encoding_hdvs_norm)\n",
    "    \n",
    "        cos_sim_matrix = column.engram_norms.array_active @ image_encoding_hdvs_norm.T\n",
    "        cos_sim_matrix[cos_sim_matrix < Hdc.COS_SIM_THRESHOLD] = 0\n",
    "        cos_sim_vector = xp_array_from_gpu(xp.sum(cos_sim_matrix, axis=1)) # how each mem recall (sum cos sim) is close to current image\n",
    "        \n",
    "        assert cos_sim_vector.shape == (column.engram_norms.array_active.shape[0],)\n",
    "        engram_ids_by_match_score = np.argsort(-cos_sim_vector) # sorted desc\n",
    "    \n",
    "        if engram_ids_by_match_score.shape[0] > 0:\n",
    "            engram_id = engram_ids_by_match_score[0]\n",
    "            cos_sim_value = cos_sim_vector[engram_id]\n",
    "    \n",
    "            if cos_sim_value > 0:\n",
    "                max_cos_sim_index = engram_id\n",
    "                max_similar_engram_image_value = column.engrams[engram_id].image_value\n",
    "                max_cos_sim = cos_sim_value\n",
    "    \n",
    "    test_result_rows['test_run_id'].append(TEST_RUN_ID)\n",
    "    test_result_rows['config_variant'].append(config.section_name)\n",
    "    test_result_rows['cortical_columns'].append(COLUMNS.keys())\n",
    "    test_result_rows['train_images_count'].append(column.images_seen) # TODO: fix\n",
    "    test_result_rows['source_ds'].append(test_run_source[2])\n",
    "    test_result_rows['test_image_id'].append(image_id)\n",
    "    test_result_rows['true_value'].append(image_value)\n",
    "    test_result_rows['infer_value'].append(max_similar_engram_image_value) # TODO: fix\n",
    "    test_result_rows['sim'].append(max_cos_sim) # TODO: fix\n",
    "    \n",
    "\n",
    "assert set(test_result_rows.keys()) == set(DF_TEST_RESULTS.columns), set(test_result_rows.keys()) ^ set(DF_TEST_RESULTS.columns)\n",
    "df_test_results_for_run = pd.DataFrame(test_result_rows, columns=DF_TEST_RESULTS.columns)\n",
    "concat_list = [DF_TEST_RESULTS] if len(DF_TEST_RESULTS) > 0 else []\n",
    "concat_list.append(df_test_results_for_run)\n",
    "DF_TEST_RESULTS = pd.concat(concat_list, ignore_index=True)"
   ]
  },
  {
   "cell_type": "code",
   "execution_count": 42,
   "id": "9ded612b-96ae-4f3d-a964-d78dcfb19834",
   "metadata": {},
   "outputs": [
    {
     "data": {
      "image/png": "[encoded data removed]",
      "text/plain": [
       "<Figure size 1600x400 with 3 Axes>"
      ]
     },
     "metadata": {},
     "output_type": "display_data"
    },
    {
     "data": {
      "text/html": [
       "<div>\n",
       "<style scoped>\n",
       "    .dataframe tbody tr th:only-of-type {\n",
       "        vertical-align: middle;\n",
       "    }\n",
       "\n",
       "    .dataframe tbody tr th {\n",
       "        vertical-align: top;\n",
       "    }\n",
       "\n",
       "    .dataframe thead th {\n",
       "        text-align: right;\n",
       "    }\n",
       "</style>\n",
       "<table border=\"1\" class=\"dataframe\">\n",
       "  <thead>\n",
       "    <tr style=\"text-align: right;\">\n",
       "      <th></th>\n",
       "      <th>config_variant</th>\n",
       "      <th>source_ds</th>\n",
       "      <th>cortical_columns</th>\n",
       "      <th>train_images_count</th>\n",
       "      <th>count</th>\n",
       "      <th>infers</th>\n",
       "      <th>correct_infers</th>\n",
       "      <th>infer_ratio</th>\n",
       "      <th>accuracy_count</th>\n",
       "      <th>accuracy_infers</th>\n",
       "    </tr>\n",
       "    <tr>\n",
       "      <th>test_run_id</th>\n",
       "      <th></th>\n",
       "      <th></th>\n",
       "      <th></th>\n",
       "      <th></th>\n",
       "      <th></th>\n",
       "      <th></th>\n",
       "      <th></th>\n",
       "      <th></th>\n",
       "      <th></th>\n",
       "      <th></th>\n",
       "    </tr>\n",
       "  </thead>\n",
       "  <tbody>\n",
       "    <tr>\n",
       "      <th>1</th>\n",
       "      <td>SQLITE3_NORMAL_GRID_0_256</td>\n",
       "      <td>test</td>\n",
       "      <td>(-1)</td>\n",
       "      <td>12168</td>\n",
       "      <td>2000</td>\n",
       "      <td>2000</td>\n",
       "      <td>1805</td>\n",
       "      <td>1.0</td>\n",
       "      <td>0.9025</td>\n",
       "      <td>0.9025</td>\n",
       "    </tr>\n",
       "    <tr>\n",
       "      <th>2</th>\n",
       "      <td>SQLITE3_NORMAL_GRID_0_256</td>\n",
       "      <td>test</td>\n",
       "      <td>(-1)</td>\n",
       "      <td>22704</td>\n",
       "      <td>2000</td>\n",
       "      <td>2000</td>\n",
       "      <td>1847</td>\n",
       "      <td>1.0</td>\n",
       "      <td>0.9235</td>\n",
       "      <td>0.9235</td>\n",
       "    </tr>\n",
       "    <tr>\n",
       "      <th>3</th>\n",
       "      <td>SQLITE3_NORMAL_GRID_0_256</td>\n",
       "      <td>test</td>\n",
       "      <td>(-1)</td>\n",
       "      <td>42956</td>\n",
       "      <td>2000</td>\n",
       "      <td>2000</td>\n",
       "      <td>1870</td>\n",
       "      <td>1.0</td>\n",
       "      <td>0.9350</td>\n",
       "      <td>0.9350</td>\n",
       "    </tr>\n",
       "  </tbody>\n",
       "</table>\n",
       "</div>"
      ],
      "text/plain": [
       "                        config_variant source_ds cortical_columns  \\\n",
       "test_run_id                                                         \n",
       "1            SQLITE3_NORMAL_GRID_0_256      test             (-1)   \n",
       "2            SQLITE3_NORMAL_GRID_0_256      test             (-1)   \n",
       "3            SQLITE3_NORMAL_GRID_0_256      test             (-1)   \n",
       "\n",
       "             train_images_count  count  infers  correct_infers  infer_ratio  \\\n",
       "test_run_id                                                                   \n",
       "1                         12168   2000    2000            1805          1.0   \n",
       "2                         22704   2000    2000            1847          1.0   \n",
       "3                         42956   2000    2000            1870          1.0   \n",
       "\n",
       "             accuracy_count  accuracy_infers  \n",
       "test_run_id                                   \n",
       "1                    0.9025           0.9025  \n",
       "2                    0.9235           0.9235  \n",
       "3                    0.9350           0.9350  "
      ]
     },
     "execution_count": 42,
     "metadata": {},
     "output_type": "execute_result"
    }
   ],
   "source": [
    "df_test_results2 = DF_TEST_RESULTS.copy()\n",
    "df_test_results2['is_infer'] = df_test_results2['infer_value'] != -1\n",
    "df_test_results2['is_correct_infer'] = df_test_results2['true_value'] == df_test_results2['infer_value']\n",
    "df_test_results2 = df_test_results2.groupby(by=['test_run_id']).agg({'config_variant': 'first', \n",
    "                                                                     'source_ds': 'first',\n",
    "                                                                     'cortical_columns': 'first',\n",
    "                                                                     'train_images_count': 'first',\n",
    "                                                                     'test_image_id': 'count', \n",
    "                                                                     'is_infer': 'sum', \n",
    "                                                                     'is_correct_infer': 'sum'})\n",
    "df_test_results2.rename(columns=dict(test_image_id='count', is_infer='infers', is_correct_infer='correct_infers'), inplace=True, errors='raise')\n",
    "df_test_results2['infer_ratio'] = df_test_results2['infers'] / df_test_results2['count']\n",
    "df_test_results2['accuracy_count'] = df_test_results2['correct_infers'] / df_test_results2['count']\n",
    "df_test_results2['accuracy_infers'] = df_test_results2['correct_infers'] / df_test_results2['infers']\n",
    "\n",
    "plt.figure(figsize=(16, 4))\n",
    "plt.subplot(1, 3, 1)\n",
    "b = plt.bar(list(map(str, df_test_results2.index)), list(df_test_results2['infer_ratio']))\n",
    "plt.bar_label(b, map(lambda p: f'{p*100:.0f}', df_test_results2['infer_ratio']), label_type='center')\n",
    "plt.ylim(0, 1)\n",
    "plt.title('Infers, %')\n",
    "plt.xlabel('Test run')\n",
    "plt.grid()\n",
    "\n",
    "plt.subplot(1, 3, 2)\n",
    "b = plt.bar(list(map(str, df_test_results2.index)), list(df_test_results2['accuracy_count']))\n",
    "plt.bar_label(b, map(lambda p: f'{p*100:.0f}', df_test_results2['accuracy_count']), label_type='center')\n",
    "plt.ylim(0, 1)\n",
    "plt.title('Accuracy (Count), %')\n",
    "plt.xlabel('Test run')\n",
    "plt.grid()\n",
    "\n",
    "plt.subplot(1, 3, 3)\n",
    "b = plt.bar(list(map(str, df_test_results2.index)), list(df_test_results2['accuracy_infers']))\n",
    "plt.bar_label(b, map(lambda p: f'{p*100:.0f}', df_test_results2['accuracy_infers']), label_type='center')\n",
    "plt.ylim(0, 1)\n",
    "plt.title('Accuracy (Infers), %')\n",
    "plt.xlabel('Test run')\n",
    "plt.grid()\n",
    "\n",
    "plt.show()\n",
    "df_test_results2"
   ]
  },
  {
   "cell_type": "code",
   "execution_count": null,
   "id": "90c7e7d6-d5fc-4012-9c88-164320308f20",
   "metadata": {},
   "outputs": [],
   "source": []
  },
  {
   "cell_type": "code",
   "execution_count": null,
   "id": "a7f7fd04-f413-47bf-b601-3a9327b61c82",
   "metadata": {},
   "outputs": [],
   "source": [
    "df_test_results_incorrect_infers = df_test_results_for_run[df_test_results_for_run['true_value'] != df_test_results_for_run['infer_value']]\n",
    "incorrect_infer_row_index = RNG.choice(df_test_results_incorrect_infers.index.unique())\n",
    "incorrect_infer_row = df_test_results_incorrect_infers.loc[incorrect_infer_row_index]\n",
    "test_run_id = incorrect_infer_row['test_run_id']\n",
    "incorrect_infer_image_id =incorrect_infer_row['test_image_id']\n",
    "image_data = test_run_source[0].loc[incorrect_infer_image_id]['png']\n",
    "image_value = test_run_source[0].loc[incorrect_infer_image_id]['value']\n",
    "\n",
    "# df_x = pd.DataFrame(columns=['test_run_id', 'test_image_id', 'true_value', 'infer_value'] + list(map(lambda x: f'd{x}', range(DIGITS.shape[0]))))\n",
    "# df_x.loc[len(df_x)] = [test_run_id, incorrect_infer_image_id, image_value, incorrect_infer_row['infer_value']] + values\n",
    "# df_x\n",
    "f'test_run_id={test_run_id}, test_image_id={incorrect_infer_image_id}, true_value={image_value}, infer_value={incorrect_infer_row['infer_value']}'\n",
    "\n",
    "# df_x = pd.DataFrame(columns=['test_run_id', 'test_image_id', 'true_value', 'sim'])\n",
    "# df_image_encodings = pd.read_sql('SELECT hdv FROM image_encodings WHERE image_id=:image_id', params={'image_id': int(incorrect_infer_image_id)}, con=test_run_source[1])\n",
    "# assert len(df_image_encodings) > 0\n",
    "# image_encoding_hdvs = list(map(lambda h: np.frombuffer(h, dtype='b'), df_image_encodings['hdv']))\n",
    "# image_encoding_hdvs_norm = hdc.normalize(image_encoding_hdvs)\n",
    "# image_encoding_hdvs_norm = xp_array_to_gpu(image_encoding_hdvs_norm)\n",
    "\n",
    "# cos_sim_matrix = COLUMN.engram_norms.array @ image_encoding_hdvs_norm.T\n",
    "# cos_sim_matrix[cos_sim_matrix < COS_SIM_THRESHOLD] = 0\n",
    "# cos_sim_vector = xp_array_from_gpu(xp.sum(cos_sim_matrix, axis=1)) # how each mem recall (sum cos sim) is close to current image\n",
    "\n",
    "# assert cos_sim_vector.shape == (COLUMN.engram_norms.array.shape[0],)\n",
    "# engram_ids_by_match_score = np.argsort(-cos_sim_vector) # sorted desc\n",
    "\n",
    "# for pos, engram_id in enumerate(engram_ids_by_match_score):\n",
    "#     cos_sim_value = cos_sim_vector[engram_id]\n",
    "\n",
    "#     if cos_sim_value <= 0:\n",
    "#         break\n",
    "        \n",
    "#     engram_image_ids = COLUMN.engram_to_image_ids[engram_id]\n",
    "#     assert len(engram_image_ids) > 0\n",
    "#     engram_image_id = next(iter(engram_image_ids))\n",
    "#     engram_image_value = df_train_images.loc[engram_image_id]['value'] # exactly from train! (i.e. we look for prototype in train data)\n",
    "#     df_x.loc[len(df_x)] = [test_run_id, incorrect_infer_image_id, image_value, engram_id, engram_image_value, cos_sim_value]\n",
    "\n",
    "# df_x.sort_values(by='sim', ascending=False).head(10)"
   ]
  },
  {
   "cell_type": "code",
   "execution_count": null,
   "id": "3b8e8f5b-b27b-4d8c-913e-fb1b7e30dd8b",
   "metadata": {},
   "outputs": [],
   "source": [
    "cos_sim_matrices = incorrect_infer_row['sim']"
   ]
  },
  {
   "cell_type": "code",
   "execution_count": null,
   "id": "1e9bc88a-4718-431e-b3b1-087ffcd66b77",
   "metadata": {},
   "outputs": [],
   "source": [
    "cos_sim_matrix1 = np.sum(cos_sim_matrices, axis=0) \n",
    "cos_sim_matrix2 = cos_sim_matrix1 / len(COLUMNS)\n",
    "cos_sim_matrix3 = cos_sim_matrix2.copy()\n",
    "cos_sim_matrix3[cos_sim_matrix3 < (COS_SIM_THRESHOLD * len(COLUMNS) / 2)] = 0\n",
    "cos_sim_matrix_max_row_index = np.argmax(np.max(cos_sim_matrix3, axis=1))\n",
    "cos_sim_matrix_max_row_col_index = np.argmax(cos_sim_matrix3[cos_sim_matrix_max_row_index])\n"
   ]
  },
  {
   "cell_type": "code",
   "execution_count": null,
   "id": "dd9cd41b-2ddc-47c4-8337-d10ba3f0e4da",
   "metadata": {},
   "outputs": [],
   "source": [
    "np.round(cos_sim_matrix3[cos_sim_matrix_max_row_index], decimals=1)"
   ]
  },
  {
   "cell_type": "code",
   "execution_count": null,
   "id": "ee546cca-06d5-4d7e-9351-099f9a04ba6a",
   "metadata": {},
   "outputs": [],
   "source": [
    "cos_sim_matrix_max_row_index"
   ]
  },
  {
   "cell_type": "code",
   "execution_count": null,
   "id": "c093055a-3392-4694-8d70-279e9473517d",
   "metadata": {},
   "outputs": [],
   "source": [
    "np.round(cos_sim_matrix3, decimals=1)"
   ]
  },
  {
   "cell_type": "code",
   "execution_count": null,
   "id": "4fb94d11-283d-4f45-8da9-4471b75beb76",
   "metadata": {},
   "outputs": [],
   "source": [
    "np.round(cos_sim_matrix2, decimals=1)"
   ]
  },
  {
   "cell_type": "code",
   "execution_count": null,
   "id": "8b14574e-6349-41c7-979f-689048a7ad8d",
   "metadata": {},
   "outputs": [],
   "source": [
    "np.round(cos_sim_matrix1, decimals=1)"
   ]
  },
  {
   "cell_type": "code",
   "execution_count": null,
   "id": "c279f38b-b74a-450e-a619-b5233d31fb02",
   "metadata": {},
   "outputs": [],
   "source": []
  },
  {
   "cell_type": "code",
   "execution_count": null,
   "id": "f3259532-0ae6-4f26-8392-f0634a52fb70",
   "metadata": {},
   "outputs": [],
   "source": []
  },
  {
   "cell_type": "code",
   "execution_count": null,
   "id": "1f35fba8-c01e-47cc-8aae-72e7753ada66",
   "metadata": {},
   "outputs": [],
   "source": []
  },
  {
   "cell_type": "code",
   "execution_count": null,
   "id": "35146369-d2f7-4991-98e0-220b81cb3caa",
   "metadata": {},
   "outputs": [],
   "source": []
  },
  {
   "cell_type": "code",
   "execution_count": null,
   "id": "d6c6efdf-18d0-4660-92f2-e1dcca302ca8",
   "metadata": {},
   "outputs": [],
   "source": []
  },
  {
   "cell_type": "code",
   "execution_count": null,
   "id": "5ff3a026-80df-4d27-af26-5939c7a1ae64",
   "metadata": {},
   "outputs": [],
   "source": [
    "image_data = test_run_source[0].loc[incorrect_infer_image_id]['png']\n",
    "image = Image.open(io.BytesIO(image_data))\n",
    "label = test_run_source[0].loc[incorrect_infer_image_id]['value']\n",
    "display_images([image], captions=[label])"
   ]
  },
  {
   "cell_type": "code",
   "execution_count": null,
   "id": "0c9b40bc-7e09-40a6-947b-090d0ef463a2",
   "metadata": {},
   "outputs": [],
   "source": [
    "df_x_pivot = pd.pivot_table(df_x, index='engram_id', \n",
    "                            values=['true_value', 'engram_value', 'sim'], \n",
    "                            aggfunc=dict(engram_value='first', true_value='first', sim='sum'))\n",
    "df_x_pivot.sort_values(by='sim', ascending=False)"
   ]
  },
  {
   "cell_type": "code",
   "execution_count": null,
   "id": "4b970735-532f-4a82-adfa-2df3f534203b",
   "metadata": {},
   "outputs": [],
   "source": []
  },
  {
   "cell_type": "code",
   "execution_count": null,
   "id": "13076351-aaf9-4ef1-9e86-a77ee51ab0c0",
   "metadata": {},
   "outputs": [],
   "source": [
    "df_x_pivot = pd.pivot_table(df_x, index='engram_id', \n",
    "                            values=['true_value', 'engram_value', 'sim'], \n",
    "                            aggfunc=dict(engram_value='first', true_value='first', sim='max'))\n",
    "df_x_pivot.sort_values(by='sim', ascending=False)"
   ]
  },
  {
   "cell_type": "code",
   "execution_count": null,
   "id": "741528e7-cb1b-4583-93eb-c9c8425c70be",
   "metadata": {},
   "outputs": [],
   "source": [
    "df_test_results_incorrect_infers.loc[incorrect_infer_row_index]['test_run_id']"
   ]
  },
  {
   "cell_type": "code",
   "execution_count": null,
   "id": "75cc7cda-ca51-48b0-8fd1-b21a9244fcb5",
   "metadata": {},
   "outputs": [],
   "source": [
    "incorrect_infer_row_index"
   ]
  },
  {
   "cell_type": "code",
   "execution_count": null,
   "id": "173a27b8-9f22-47c0-a23a-ca3669ac1222",
   "metadata": {},
   "outputs": [],
   "source": []
  },
  {
   "cell_type": "code",
   "execution_count": null,
   "id": "88170617-5c38-4250-87af-edd152d31a51",
   "metadata": {},
   "outputs": [],
   "source": []
  }
 ],
 "metadata": {
  "kernelspec": {
   "display_name": "Python 3 (ipykernel)",
   "language": "python",
   "name": "python3"
  },
  "language_info": {
   "codemirror_mode": {
    "name": "ipython",
    "version": 3
   },
   "file_extension": ".py",
   "mimetype": "text/x-python",
   "name": "python",
   "nbconvert_exporter": "python",
   "pygments_lexer": "ipython3",
   "version": "3.12.2"
  }
 },
 "nbformat": 4,
 "nbformat_minor": 5
}
