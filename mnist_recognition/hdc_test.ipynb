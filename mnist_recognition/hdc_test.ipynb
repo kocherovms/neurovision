{
 "cells": [
  {
   "cell_type": "code",
   "execution_count": 9,
   "id": "7adb1d00-26c5-4716-a792-2e250dc06843",
   "metadata": {},
   "outputs": [],
   "source": [
    "from hdc import *\n",
    "import numpy as np\n",
    "import cupy as cp\n",
    "import pandas as pd\n",
    "from tqdm.notebook import tqdm\n",
    "import matplotlib.pyplot as plt"
   ]
  },
  {
   "cell_type": "code",
   "execution_count": 10,
   "id": "b23cd3d6-6795-4326-87a7-611355da5bbf",
   "metadata": {},
   "outputs": [],
   "source": [
    "COS_SIM_THRESHOLD = 0.075\n",
    "RNG = np.random.default_rng()"
   ]
  },
  {
   "cell_type": "code",
   "execution_count": 11,
   "id": "8a841739-a67b-4a21-9879-b86743cb2b4a",
   "metadata": {},
   "outputs": [
    {
     "name": "stdout",
     "output_type": "stream",
     "text": [
      "xp = numpy\n"
     ]
    }
   ],
   "source": [
    "# if cp.cuda.is_available():\n",
    "if cp.cuda.is_available() and False:\n",
    "    device_marker = cp.empty(1)\n",
    "    xp_array_from_gpu = lambda a: a.get() if isinstance(a, cp.ndarray) else a\n",
    "    xp_array_to_gpu = lambda a: cp.asarray(a) if isinstance(a, np.ndarray) else a\n",
    "else:\n",
    "    device_marker = np.empty(1)\n",
    "    xp_array_from_gpu = lambda a: a\n",
    "    xp_array_to_gpu = lambda a: a\n",
    "    \n",
    "xp = cp.get_array_module(device_marker)\n",
    "print(f'xp = {xp.__name__}')"
   ]
  },
  {
   "cell_type": "code",
   "execution_count": 12,
   "id": "fda00eef-5b5b-4863-97c7-450fe544c088",
   "metadata": {},
   "outputs": [],
   "source": [
    "hdc = Hdc(10000, xp)"
   ]
  },
  {
   "cell_type": "code",
   "execution_count": 13,
   "id": "773b08e4-264f-4017-aed7-f0e9402517b7",
   "metadata": {},
   "outputs": [
    {
     "data": {
      "text/plain": [
       "(np.int64(4974), 5026, 0.5026, np.float64(-0.0052))"
      ]
     },
     "execution_count": 13,
     "metadata": {},
     "output_type": "execute_result"
    }
   ],
   "source": [
    "x1 = hdc()\n",
    "x2 = hdc()\n",
    "(x1 == x2).sum(), hdc.absdist(x1, x2), hdc.reldist(x1, x2), hdc.sim(x1, x2)"
   ]
  },
  {
   "cell_type": "code",
   "execution_count": 14,
   "id": "a796e8e9-faf4-46c5-8065-7da5c07af4de",
   "metadata": {},
   "outputs": [],
   "source": [
    "for _ in range(1000):\n",
    "    x1 = hdc()\n",
    "    x2 = hdc()\n",
    "    s = hdc.sim(x1, x2)\n",
    "    assert s < COS_SIM_THRESHOLD\n",
    "    assert np.isclose(hdc.normalize(x1) @ hdc.normalize(x2), s)"
   ]
  },
  {
   "cell_type": "code",
   "execution_count": 15,
   "id": "7a0e67a3-5a3e-4e7f-a5d5-fd18fe267395",
   "metadata": {},
   "outputs": [
    {
     "data": {
      "text/plain": [
       "(array([-1,  1,  1, ..., -1, -1,  1], dtype=int8),\n",
       " array([-1,  1, -1, ..., -1,  1, -1], dtype=int8),\n",
       " array([-1,  1,  0, ..., -1,  0,  0], dtype=int8),\n",
       " 4949,\n",
       " 4949,\n",
       " 0.4949,\n",
       " 0.4949,\n",
       " np.float64(0.7107038764492565),\n",
       " np.float64(0.7107038764492565))"
      ]
     },
     "execution_count": 15,
     "metadata": {},
     "output_type": "execute_result"
    }
   ],
   "source": [
    "b = hdc.bundle_noties(x1, x2)\n",
    "x1, x2, b, hdc.absdist(x1, b), hdc.absdist(x2, b), hdc.reldist(x1, b), hdc.reldist(x2, b), hdc.sim(x1, b), hdc.sim(x2, b)"
   ]
  },
  {
   "cell_type": "code",
   "execution_count": 16,
   "id": "478232a2-dc8d-4719-a986-a88acef2b3a5",
   "metadata": {},
   "outputs": [],
   "source": [
    "for _ in range(1000):\n",
    "    b = hdc.bundle_noties(x1, x2)\n",
    "    assert hdc.sim(x1, b) > COS_SIM_THRESHOLD\n",
    "    assert hdc.sim(x2, b) > COS_SIM_THRESHOLD"
   ]
  },
  {
   "cell_type": "code",
   "execution_count": 17,
   "id": "69b39aa9-ef54-48a0-8b4e-2d3bfb8138d1",
   "metadata": {},
   "outputs": [
    {
     "data": {
      "text/plain": [
       "(array([-1,  1,  1, ..., -1, -1,  1], dtype=int8),\n",
       " array([-1,  1, -1, ..., -1,  1, -1], dtype=int8),\n",
       " array([-1,  1,  1, ..., -1, -1,  1], dtype=int8),\n",
       " 2467,\n",
       " 2482,\n",
       " 0.2467,\n",
       " 0.2482,\n",
       " np.float64(0.5066),\n",
       " np.float64(0.5036))"
      ]
     },
     "execution_count": 17,
     "metadata": {},
     "output_type": "execute_result"
    }
   ],
   "source": [
    "b = hdc.bundle_ties(x1, x2)\n",
    "x1, x2, b, hdc.absdist(x1, b), hdc.absdist(x2, b), hdc.reldist(x1, b), hdc.reldist(x2, b), hdc.sim(x1, b), hdc.sim(x2, b)"
   ]
  },
  {
   "cell_type": "code",
   "execution_count": 18,
   "id": "4014051b-357c-47f1-a015-67b5aa9ea600",
   "metadata": {},
   "outputs": [],
   "source": [
    "for _ in range(1000):\n",
    "    b = hdc.bundle_ties(x1, x2)\n",
    "    assert hdc.sim(x1, b) > COS_SIM_THRESHOLD\n",
    "    assert hdc.sim(x2, b) > COS_SIM_THRESHOLD"
   ]
  },
  {
   "cell_type": "code",
   "execution_count": 19,
   "id": "24975d1d-b636-4a93-8dbf-f5a1ab17abc7",
   "metadata": {},
   "outputs": [],
   "source": [
    "assert hdc.sim(x1, hdc.bundle_noties(x1, x2)) > COS_SIM_THRESHOLD"
   ]
  },
  {
   "cell_type": "code",
   "execution_count": 20,
   "id": "be843934-2593-458e-8f2e-6d77f889817d",
   "metadata": {},
   "outputs": [
    {
     "data": {
      "text/plain": [
       "(array([-1,  1,  1, ..., -1, -1,  1], dtype=int8),\n",
       " array([-1,  1, -1, ..., -1,  1, -1], dtype=int8),\n",
       " array([ 1,  1, -1, ...,  1, -1, -1], dtype=int8),\n",
       " 0.5045,\n",
       " 0.5084,\n",
       " 0.4949,\n",
       " np.float64(-0.009),\n",
       " np.float64(-0.0168))"
      ]
     },
     "execution_count": 20,
     "metadata": {},
     "output_type": "execute_result"
    }
   ],
   "source": [
    "b = hdc.bind(x1, x2)\n",
    "x1, x2, b, hdc.reldist(x1, b), hdc.reldist(x2, b), hdc.reldist(x1, x2), hdc.sim(x1, b), hdc.sim(x2, b)"
   ]
  },
  {
   "cell_type": "code",
   "execution_count": 21,
   "id": "11533317-ef80-451e-8a26-0fa5c10b0a5f",
   "metadata": {},
   "outputs": [],
   "source": [
    "for _ in range(1000):\n",
    "    b = hdc.bind(x1, x2)\n",
    "    assert hdc.sim(x1, b) < COS_SIM_THRESHOLD\n",
    "    assert hdc.sim(x2, b) < COS_SIM_THRESHOLD"
   ]
  },
  {
   "cell_type": "code",
   "execution_count": 22,
   "id": "626916b2-c924-40d2-9607-3266470d4122",
   "metadata": {},
   "outputs": [
    {
     "data": {
      "text/plain": [
       "(array([-1,  1,  1, ..., -1, -1,  1], dtype=int8),\n",
       " array([ 1, -1,  1, ..., -1, -1, -1], dtype=int8),\n",
       " 4998,\n",
       " 0.4998,\n",
       " np.float64(0.0004))"
      ]
     },
     "execution_count": 22,
     "metadata": {},
     "output_type": "execute_result"
    }
   ],
   "source": [
    "s = hdc.shift(x1)\n",
    "x1, s, hdc.absdist(x1, s), hdc.reldist(x1, s), hdc.sim(x1, s)"
   ]
  },
  {
   "cell_type": "code",
   "execution_count": 23,
   "id": "72b12456-7fc7-4877-a4ca-d4056f3cc657",
   "metadata": {},
   "outputs": [],
   "source": [
    "for _ in range(1000):\n",
    "    s = hdc.shift(x1)\n",
    "    assert hdc.sim(x1, s) < COS_SIM_THRESHOLD"
   ]
  },
  {
   "cell_type": "code",
   "execution_count": 24,
   "id": "c8d872be-4dce-4f0f-b22f-f9d0df26a79e",
   "metadata": {},
   "outputs": [
    {
     "data": {
      "text/plain": [
       "(array([[ 1,  1,  1, ..., -1,  1,  1],\n",
       "        [-1,  1,  1, ..., -1,  1, -1],\n",
       "        [ 1,  1, -1, ...,  1,  1,  1]], dtype=int8),\n",
       " array([ 1,  1,  1, ..., -1,  1,  1], dtype=int8))"
      ]
     },
     "execution_count": 24,
     "metadata": {},
     "output_type": "execute_result"
    }
   ],
   "source": [
    "m = hdc(3)\n",
    "m, hdc.bundle_noties(m)"
   ]
  },
  {
   "cell_type": "code",
   "execution_count": 25,
   "id": "349f8e20-7a0f-4e84-8072-296e056506e6",
   "metadata": {},
   "outputs": [
    {
     "data": {
      "application/vnd.jupyter.widget-view+json": {
       "model_id": "d88d7e2ee96c4cb7af79aea6326139a5",
       "version_major": 2,
       "version_minor": 0
      },
      "text/plain": [
       "  0%|          | 0/16384 [00:00<?, ?it/s]"
      ]
     },
     "metadata": {},
     "output_type": "display_data"
    }
   ],
   "source": [
    "for _ in tqdm(range(128*128)):\n",
    "    x1 = hdc()\n",
    "    x2 = hdc()\n",
    "    x3 = hdc()\n",
    "    assert np.array_equal(hdc.bind(x1, hdc.bundle_noties(x2, x3)), hdc.bundle_noties(hdc.bind(x1, x2), hdc.bind(x1, x3)))\n",
    "    assert np.isclose(hdc.sim(x1, x2), hdc.sim(hdc.bind(x1, x3), hdc.bind(x2, x3)))\n",
    "    assert np.isclose(hdc.sim(x1, x2), hdc.sim(hdc.shift(x1), hdc.shift(x2)))"
   ]
  },
  {
   "cell_type": "code",
   "execution_count": 26,
   "id": "2c56c248-808d-425d-9824-37f3c2e0fd5d",
   "metadata": {},
   "outputs": [],
   "source": [
    "x1 = hdc()\n",
    "bundle = hdc.bundle([x1])\n",
    "assert np.array_equal(x1, bundle)"
   ]
  },
  {
   "cell_type": "code",
   "execution_count": 8,
   "id": "7cb84db3-b484-424a-a59b-f951da813fc8",
   "metadata": {},
   "outputs": [
    {
     "data": {
      "application/vnd.jupyter.widget-view+json": {
       "model_id": "688c40cb34814798894cceeec06f9dfa",
       "version_major": 2,
       "version_minor": 0
      },
      "text/plain": [
       "  0%|          | 0/100 [00:00<?, ?it/s]"
      ]
     },
     "metadata": {},
     "output_type": "display_data"
    },
    {
     "ename": "KeyboardInterrupt",
     "evalue": "",
     "output_type": "error",
     "traceback": [
      "\u001b[0;31m---------------------------------------------------------------------------\u001b[0m",
      "\u001b[0;31mKeyboardInterrupt\u001b[0m                         Traceback (most recent call last)",
      "Cell \u001b[0;32mIn[8], line 9\u001b[0m\n\u001b[1;32m      7\u001b[0m cos_sims \u001b[38;5;241m=\u001b[39m other_hdvs \u001b[38;5;241m@\u001b[39m hdv1\n\u001b[1;32m      8\u001b[0m cos_sims \u001b[38;5;241m*\u001b[39m\u001b[38;5;241m=\u001b[39m \u001b[38;5;241m100\u001b[39m\n\u001b[0;32m----> 9\u001b[0m h \u001b[38;5;241m=\u001b[39m np\u001b[38;5;241m.\u001b[39mhistogram(cos_sims, bins\u001b[38;5;241m=\u001b[39m\u001b[38;5;28mlist\u001b[39m(\u001b[38;5;28mrange\u001b[39m(\u001b[38;5;241m-\u001b[39m\u001b[38;5;241m10\u001b[39m, \u001b[38;5;241m10\u001b[39m \u001b[38;5;241m+\u001b[39m \u001b[38;5;241m1\u001b[39m, \u001b[38;5;241m1\u001b[39m)))\n\u001b[1;32m     10\u001b[0m hist \u001b[38;5;241m=\u001b[39m h[\u001b[38;5;241m0\u001b[39m] \u001b[38;5;28;01mif\u001b[39;00m hist \u001b[38;5;129;01mis\u001b[39;00m \u001b[38;5;28;01mNone\u001b[39;00m \u001b[38;5;28;01melse\u001b[39;00m hist \u001b[38;5;241m+\u001b[39m h[\u001b[38;5;241m0\u001b[39m]\n",
      "\u001b[0;31mKeyboardInterrupt\u001b[0m: "
     ]
    }
   ],
   "source": [
    "hdv1 = hdc.normalize(hdc())\n",
    "hist = None\n",
    "trials = 100\n",
    "\n",
    "for _ in tqdm(range(100)):\n",
    "    other_hdvs = hdc.normalize(hdc(10000))\n",
    "    cos_sims = other_hdvs @ hdv1\n",
    "    cos_sims *= 100\n",
    "    h = np.histogram(cos_sims, bins=list(range(-10, 10 + 1, 1)))\n",
    "    hist = h[0] if hist is None else hist + h[0]"
   ]
  },
  {
   "cell_type": "code",
   "execution_count": null,
   "id": "a3f09407-0676-42a4-a142-b73055c9398d",
   "metadata": {},
   "outputs": [],
   "source": []
  },
  {
   "cell_type": "code",
   "execution_count": null,
   "id": "3df5c50a-e2c7-420b-954a-a6572533a34d",
   "metadata": {},
   "outputs": [],
   "source": [
    "signal_hdvs = hdc(100)\n",
    "signal_points = list(range(0, signal_hdvs.shape[0] + 1))\n",
    "bundle = hdc.bundle(signal_hdvs)\n",
    "\n",
    "noise_hdvs = hdc(100)\n",
    "noise_points = [0, 1, 25, 50, 75, 99, 100]\n",
    "\n",
    "values = []\n",
    "\n",
    "for noise_hdv_count in noise_points:\n",
    "    noise_hdv_indices = RNG.choice(noise_hdvs.shape[0], noise_hdv_count, replace=False)\n",
    "    noise_level_values = []\n",
    "    \n",
    "    for signal_hdv_count in signal_points:\n",
    "        if signal_hdv_count == 0:\n",
    "            noise_level_values.append(0)\n",
    "            continue\n",
    "            \n",
    "        signal_hdv_indices = RNG.choice(signal_hdvs.shape[0], signal_hdv_count, replace=False)\n",
    "        b = hdc.bundle(list(noise_hdvs[noise_hdv_indices]) + list(signal_hdvs[signal_hdv_indices]))\n",
    "        sim = hdc.sim(bundle, b)\n",
    "        noise_level_values.append(xp_array_from_gpu(sim))\n",
    "\n",
    "    values.append(noise_level_values)\n",
    "\n",
    "fig, ax = plt.subplots(len(noise_points)) \n",
    "fig.set_figheight(fig.get_figwidth() * 4)\n",
    "\n",
    "for x in range(len(noise_points)):\n",
    "    ax[x].set_ylim(0, 1)\n",
    "    ax[x].set_xlim(0, max(signal_points))\n",
    "    ax[x].grid()\n",
    "    ax[x].plot(signal_points, values[x])\n",
    "    ax[x].set_title(f'SNR {len(signal_hdvs)}/{len(signal_hdvs)+noise_points[x]}, {len(signal_hdvs)/(len(signal_hdvs)+noise_points[x])*100:.0f}%')\n",
    "    \n",
    "plt.show()"
   ]
  },
  {
   "cell_type": "code",
   "execution_count": null,
   "id": "2cf4f2b7-d39a-486c-b8fb-6d66b20c3018",
   "metadata": {},
   "outputs": [],
   "source": []
  },
  {
   "cell_type": "code",
   "execution_count": null,
   "id": "1fbd4eb6-b0de-41e8-9ec5-ee5e4e970faf",
   "metadata": {},
   "outputs": [],
   "source": []
  },
  {
   "cell_type": "code",
   "execution_count": 27,
   "id": "ff85c56e-0e89-42f5-859f-b27fab8ce596",
   "metadata": {},
   "outputs": [
    {
     "data": {
      "image/png": "[encoded data removed]",
      "text/plain": [
       "<Figure size 640x480 with 1 Axes>"
      ]
     },
     "metadata": {},
     "output_type": "display_data"
    }
   ],
   "source": [
    "signal_hdv = hdc()\n",
    "points = list(range(1, 200))\n",
    "values = []\n",
    "theoretical_snr = []\n",
    "\n",
    "for x in points:\n",
    "    noise_hdvs = hdc(x + 1)[:x]\n",
    "    b = hdc.bundle([signal_hdv] + list(noise_hdvs))\n",
    "    sim = hdc.sim(signal_hdv, b)\n",
    "    values.append(xp_array_from_gpu(sim))\n",
    "    theoretical_snr.append(1/(1+x))\n",
    "\n",
    "#plt.bar(points, values)\n",
    "plt.plot(points, values)\n",
    "plt.xlabel('Noise HDVS')\n",
    "plt.ylabel('Cos similarity')\n",
    "#ax2 = plt.gca().twinx()\n",
    "#ax2.plot(points, theoretical_snr, '-r')\n",
    "plt.plot(points, theoretical_snr, '-r')\n",
    "plt.ylim(0, 0.8)\n",
    "plt.grid()\n",
    "plt.show()"
   ]
  },
  {
   "cell_type": "code",
   "execution_count": 28,
   "id": "27c021d7-1679-4cef-85f5-339ddc27c5c4",
   "metadata": {},
   "outputs": [
    {
     "data": {
      "text/plain": [
       "(np.float64(0.7116881339463235), np.float64(-0.7116881339463235))"
      ]
     },
     "execution_count": 28,
     "metadata": {},
     "output_type": "execute_result"
    }
   ],
   "source": [
    "x1 = hdc()\n",
    "x2 = hdc()\n",
    "bundle = hdc.bundle(x1, x2)\n",
    "z = hdc.debundle(bundle, x2)\n",
    "hdc.sim(z, x1), hdc.sim(z, x2)"
   ]
  },
  {
   "cell_type": "code",
   "execution_count": 29,
   "id": "a0ee7079-a152-43c6-ba8f-31cef1f50ae7",
   "metadata": {},
   "outputs": [],
   "source": [
    "hdv_array = HdvArray(10000, xp)\n",
    "reference = dict(enumerate(hdc(100)))\n",
    "leased_indices = dict()\n",
    "\n",
    "assert np.all(hdv_array.array == 0)\n",
    "\n",
    "for i in reference.keys():\n",
    "    leased_i = hdv_array.lease()\n",
    "    assert np.all(hdv_array.array[leased_i] == 0)\n",
    "    leased_indices[leased_i] = i\n",
    "    hdv_array.array[leased_i] = reference[i]\n",
    "\n",
    "for leased_i, reference_i in leased_indices.items():\n",
    "    assert np.array_equal(hdv_array.array[leased_i], reference[reference_i])\n",
    "    hdv_array.release(leased_i)\n",
    "\n",
    "for leased_i in leased_indices.keys():\n",
    "    assert np.all(hdv_array.array[leased_i] == 0)\n",
    "\n",
    "assert np.all(hdv_array.array == 0)\n",
    "leased_indices.clear()\n",
    "\n",
    "for i in np.random.default_rng().choice(list(reference.keys()), len(reference) // 2, replace=False):\n",
    "    leased_i = hdv_array.lease()\n",
    "    assert np.all(hdv_array.array[leased_i] == 0)\n",
    "    leased_indices[leased_i] = i\n",
    "    hdv_array.array[leased_i] = reference[i]\n",
    "\n",
    "for leased_i, reference_i in leased_indices.items():\n",
    "    assert np.array_equal(hdv_array.array[leased_i], reference[reference_i])\n",
    "    hdv_array.release(leased_i)\n",
    "\n",
    "for leased_i in leased_indices.keys():\n",
    "    assert np.all(hdv_array.array[leased_i] == 0)"
   ]
  },
  {
   "cell_type": "code",
   "execution_count": 30,
   "id": "98b12f3e-fb6d-4097-b88b-7177de4f7c1b",
   "metadata": {},
   "outputs": [
    {
     "data": {
      "text/plain": [
       "(np.float64(0.4978),\n",
       " np.float64(0.5004),\n",
       " np.float64(0.5088),\n",
       " np.float64(0.2903649840563867),\n",
       " np.float64(0.293358437500267),\n",
       " np.float64(0.8685620300243384))"
      ]
     },
     "execution_count": 30,
     "metadata": {},
     "output_type": "execute_result"
    }
   ],
   "source": [
    "x1 = hdc()\n",
    "x2 = hdc()\n",
    "x3 = hdc()\n",
    "\n",
    "bundle1 = hdc.bundle(x1, x2, x3)\n",
    "bundle2 = hdc.bundle(hdc.bundle(x1, x2), x3)\n",
    "assert not np.array_equal(bundle1, bundle2)\n",
    "hdc.sim(x1, bundle1), hdc.sim(x2, bundle1), hdc.sim(x3, bundle1), hdc.sim(x1, bundle2), hdc.sim(x2, bundle2), hdc.sim(x3, bundle2)"
   ]
  },
  {
   "cell_type": "code",
   "execution_count": 31,
   "id": "5c66d74b-d0a7-47c4-86ab-fa2f61c9d19e",
   "metadata": {},
   "outputs": [],
   "source": [
    "x1 = hdc()"
   ]
  }
 ],
 "metadata": {
  "kernelspec": {
   "display_name": "Python 3 (ipykernel)",
   "language": "python",
   "name": "python3"
  },
  "language_info": {
   "codemirror_mode": {
    "name": "ipython",
    "version": 3
   },
   "file_extension": ".py",
   "mimetype": "text/x-python",
   "name": "python",
   "nbconvert_exporter": "python",
   "pygments_lexer": "ipython3",
   "version": "3.12.2"
  }
 },
 "nbformat": 4,
 "nbformat_minor": 5
}
