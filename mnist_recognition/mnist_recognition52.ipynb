{
 "cells": [
  {
   "cell_type": "code",
   "execution_count": 1,
   "id": "27532844-1826-4299-b063-16a22e592f3f",
   "metadata": {},
   "outputs": [],
   "source": [
    "import os, math\n",
    "from collections import defaultdict, namedtuple, deque\n",
    "import dataclasses\n",
    "from dataclasses import dataclass\n",
    "import itertools\n",
    "from enum import StrEnum, auto\n",
    "import sqlite3\n",
    "import logging\n",
    "import logging.handlers\n",
    "import pickle\n",
    "import datetime\n",
    "import multiprocessing as mp\n",
    "import gc\n",
    "\n",
    "from PIL import Image, ImageDraw\n",
    "from tqdm.notebook import tqdm\n",
    "\n",
    "from sklearn.model_selection import train_test_split\n",
    "import matplotlib.pyplot as plt\n",
    "import scipy\n",
    "import numpy as np\n",
    "import cupy as cp\n",
    "import pandas as pd\n",
    "\n",
    "from module.utils import *\n",
    "from module.hdc import *\n",
    "from module.constants import *"
   ]
  },
  {
   "cell_type": "code",
   "execution_count": 2,
   "id": "73358262-adf2-4d17-a383-f120a5d1f8aa",
   "metadata": {},
   "outputs": [
    {
     "name": "stdout",
     "output_type": "stream",
     "text": [
      "xp = numpy\n"
     ]
    }
   ],
   "source": [
    "LOG = Logging()\n",
    "\n",
    "config_var = 'SQLITE3_SEQ_GRID_0_2_4096'\n",
    "config = Config(config_var)\n",
    "RNG = np.random.default_rng()\n",
    "mp_ctx = mp.get_context('spawn') # req-d for CUPY to work, 'fork' method leads to failures in bootstrap somewhere around CUDA\n",
    "\n",
    "if cp.cuda.is_available():\n",
    "    xp = cp.get_array_module(cp.empty(1))\n",
    "    xp_array_from_gpu = lambda a: a.get() if isinstance(a, cp.ndarray) else a\n",
    "    xp_array_to_gpu = lambda a: cp.asarray(a) if isinstance(a, np.ndarray) else a\n",
    "    xp_array_to_gpu_copy = lambda a: cp.asarray(a) if isinstance(a, np.ndarray) else a\n",
    "else:\n",
    "    xp = cp.get_array_module(np.empty(1))\n",
    "    xp_array_from_gpu = lambda a: a\n",
    "    xp_array_to_gpu = lambda a: a\n",
    "    xp_array_to_gpu_copy = lambda a: a.copy()\n",
    "\n",
    "print(f'xp = {xp.__name__}')\n",
    "\n",
    "hdc = Hdc(10_000, xp)"
   ]
  },
  {
   "cell_type": "code",
   "execution_count": 3,
   "id": "656ee6b7-3982-4f99-9251-6b67fef36ae3",
   "metadata": {},
   "outputs": [],
   "source": [
    "%run sequencing_sp2.ipynb"
   ]
  },
  {
   "cell_type": "markdown",
   "id": "d5c8f88a-5403-4177-b5fc-e0e2a1da9c2d",
   "metadata": {},
   "source": [
    "# Open DB"
   ]
  },
  {
   "cell_type": "code",
   "execution_count": 4,
   "id": "d2dd62ab-b44e-4251-9e86-d41b3672e36e",
   "metadata": {},
   "outputs": [
    {
     "name": "stdout",
     "output_type": "stream",
     "text": [
      "CPU times: user 2 μs, sys: 0 ns, total: 2 μs\n",
      "Wall time: 4.05 μs\n"
     ]
    },
    {
     "data": {
      "text/plain": [
       "((10000, 7), (2000, 7))"
      ]
     },
     "execution_count": 4,
     "metadata": {},
     "output_type": "execute_result"
    }
   ],
   "source": [
    "%time\n",
    "train_db_con = sqlite3.connect(DBUtils.get_full_db_file_name(config, config.train_db_file_name))\n",
    "test_db_con = sqlite3.connect(DBUtils.get_full_db_file_name(config, config.test_db_file_name))\n",
    "test_results_db_con = sqlite3.connect(DBUtils.get_full_db_file_name(config, config.test_results_db_file_name, with_prefix=False), autocommit=True)\n",
    "\n",
    "if not DBUtils.is_table_exists(test_results_db_con, 'test_runs'):\n",
    "    test_results_db_con.execute('CREATE TABLE test_runs(test_run_id INTEGER PRIMARY KEY, dummy)')\n",
    "\n",
    "df_train_images = pd.read_sql_query('SELECT * FROM images', con=train_db_con, index_col='image_id')\n",
    "df_test_images = pd.read_sql_query('SELECT * FROM images', con=test_db_con, index_col='image_id')\n",
    "df_train_images.shape, df_test_images.shape"
   ]
  },
  {
   "cell_type": "code",
   "execution_count": 5,
   "id": "70b21219-4f16-4824-90ec-7bda1574c5d1",
   "metadata": {},
   "outputs": [
    {
     "data": {
      "text/html": [
       "<div style=\"\n",
       "        display: grid; \n",
       "        grid-template-columns: repeat(8, 128px);\n",
       "        column-gap: 1px;\n",
       "        row-gap: 1px;\">\n",
       "        \n",
       "            <figure style=\"margin: 5px !important;\">\n",
       "              <img src=\"data:image/png;base64,iVBORw0KGgoAAAANSUhEUgAAAIAAAACACAAAAADmVT4XAAALiklEQVR4nO2a2XYby62GgZp6JpukKFq25D0k5/0f51wkK/G2HQ2c2XPXhFzQ295xIrFp2TnnQtDSjVQiPqGqUcCPBnixF3uxF3uxF3uxF3ux/2PDs1YzxhkDAmCMIyIAEBARETHG0Blt6FwAcd7qOI0keGJhFAeCAZD3zhltKIgjVq/uVu7HAqh8Po3AejmazbKAA5Azpm+rzqcXU7b+X7f7sQAynl1fZWBcMLt6PYsFAdm+b8t97SbXr9hHvPt7/+MAEESSz9/cjEG7YP7m+iICAIC+a4pd5aZvFxC+n8Y1wXnHYDgAV3H+6vX12xyMk9PL6dE/BEEgZerHE4BslOedts7/GACRTi9vfnr7dgzO8WSsPv9CxhD6VAGQGl30Vdv/IAA1Xlz/9Pb6dQZEJNXn55eAxwEFhNCz9KIhZ87xPxwAw3xxc3O1mKUA5AHBHZMIAQhBIADAsihLm4b9EAAUyfT12zeX4xgBkAEA0NdZTEgVKs7Oy22DI6DSy7e/Xk4T/oXp6yWhkvxc/4MBeDS+vPl5HKmn1jAgojOT8SAABB6OJpdXVxFj9Pj90fVaG3cmwbAIqHA0n88mGQJ45533RywEAk/knSMGAA/327I17kcABJPFzetZjAAArutaQ4AIiODJOdM1rUZgsHn/bnlozFlpYOAWxPO3P19PAwAAMvX+0DpkiIjkvdXdfrevPXIsVw/rsjsvDw0DYMn85qc3uXAcXFfvVqvKIj8CONPV64dl4ZBjX5e1cf67bwFikE5fXc0zReSqcv9wtywscoaI5JzpqvX9Q2FRoNXanuV8EAAiE8lodrmYppKZcr1a3d+tCoeMIQI4b3Wz2+wqBxz9ecEfCAAowiyfzWZ5JJnefvjt7m65rjwyREAiclY3VecAzi5FBgIgF+Eoz6d5xjn02w9/+XC/3jeEgIAABOS9tRYA8MxCYDAAk1GajbIsBIDusPzw28O+/E91zze5HxQBFUZRFAYAYNpivXxYV+cftecACBVGoRIMgLrmsF1vim85a4/aycsbhQrDQHIA8H3bVHXzXf0P2YIgDJVAACBjPTBJTKJz7rzS7xkAnyKAcKxKXjEjJDrnLHny3jvrnffen5kAzwBgMgjVJ//p4s9y5zhHZ53zBM70bdv1vdZaf5v/YREIlEBCQDV6Iy5rjwjOOkcArq0O+7Kqq7bx59Wi5wAEURwKBACUGc9eGwdEzjkHgLY+bFb7fXEoJdTf9nCeBGAyHo3SgAMA8EBEznki8s55ALTNPo3H4+JQ7KNDeYzK9wbg8WTx6mIUMAAUTAZERB7IExGAbcMoLau6Omwf1puqqn4AAIuni6v5KAAAYIiEBEQACEREVqo4b7Vuy9Xt7e3qoTv/KJ4GCNI8z4JjwkIAAkA81qVEjKvEOU+mXk6zKLDNDwAA8s4ZjQFHoi9XDhEgMsY/VchdJBCZtdQQ+bMa5JMArl7fyj5Pk0AwRO+IENAbrYmHcfj7qnBqHAuj/Kqsi6o1Z9QGJwHM7j0rrxbzSRpJjtZYjwxsXVQ2nMzV56skmUAwefWn3fb+/T827rsCbKHebIqun2ShRN1pxxjo/XKr09c8SD+vS3hy2fft8q+BNdYPJzgJYCvTVJ0j09Wxwr7tHGOgN3erfmQl7xVDxhhDkCJBAPsgmqIn0QyWak4CeG0dcUHNJosk6q53jIHeLTc61a4chUJIJZUMj6lKXe7XBSbbQ2mMHRSG00+B8x3j0C7TSAk0xnhEsPW+NNF+PU2jMIriJEnHkwQAAILpTz6b3682ZVl/HwACct1e7wMlOQPvPAGC15324uF9GCVplo3Hk+kli44HMrsOZ4uPH5IVmkHbMKQzImMbhp+VUYSjOoqMoUpGeT6ZXVROBDMAABddZpNxrBS3bT2kZBkEQI8W/fWhrKq6aXtH1EVSciZlpJj34Nuy6gaoBecppf9uvgZn+rapi83lOJ+OIgBMrCHm66Ik404mxecCgOvI9U25vf8wW9xYoRgAi6ZMuHK7twQnL+hnA4Al1zfFJkgm172MZSIA5EiJfvOw1b6jU+fg2QDknOm7RnC1MyqNfB5LybmCcvFqZ4hOPorPjwAAWW8ZCiMCoXdXF3nGAaLx/E1NYE8+it8DAMAToqMN9ruHX35BKTiw+OLGMtcc/jsAAAReH/R+uepkFqsIIJgYgGrFT/3hdwIgIHCm2R/6ZHGVh4KDGnnq79OTn/+9InDEsEW025d1GjDOwbtiHJ7sPb8rAAD1bVXWbaQAAvLjRJ4Ubs+Ttk+b6+viULYWAGSSxcF/dwsAwPflbh0qwRTwME6SGE+kwiEyHZyhv9h6e8u8szpTCsPRZLZv7ZOVyQCVDPFkPv0DQLVkVVGWr2b5OFCjxY3eF09WJkN0QkYwmMDXD81yW1RVS4ES46uf/R3q7jkAwIUAZ+1ABGr1QVXaWkzyhGeLt57aJ7PhgO44DDh566wxAxpwcg5aFiVpXhvi8eyqL1ZP+jgNEI6ygKM3bXEY2n3rrm1abYmHk6Zdx0+m49PteTS5SEMJendv2oEAzBtjjAMWjHU9eT7AYjKKWPfg9tth/oGD01pbjzK1xTh+9hZcXE4T3vFtMHAgxsh0dd32DjhPszSSTyWj0xEIx/OrixF2fcoGqkBk2r3M93UfclBhFEWB9Y+Wx6cjEI3nV5dj6vbxMPcApCvnRpuiTTkgl2EcN4Yei8JpAJWMp/Pcd9Nk8L1hnbazfdVZBYQiiGL9+DBvQCpmQoUphXmey6FaINm+18Z6AGBChaEwjwqpA7rjpqxax1X++n/KxmhtjD0hQCDjPI4DjgDAGBdCcHz0/A6SaMIgmcLk12ZUHPb7sqq7EwAyisfzPBYMgHHOBWePT5RPCxTlfYQqi8PRr/HN5uEfd6sNo6dDIJPxdH4zzxQHQERE9hwAV60kT2aTUCymN6uPWRQqzmXv0Tv7n/aVcZWOLy5fXV9kigEAETz5ttLpM9CX22S1nMeBFFHIHKg4nZS9I2e0+RoBuRBBmI1nl5evZ4kEAu+ce3KkfhrAtOVudTcR44mEkbZivDgUTWes6bpee/qXfw6FitI0S8d5Pr1IJQI5a6217vGR4mmFxPZNsb5NaIFzgBGF86bruk73XdPUvf1c1hIgAIpolOejIAzDOE0keK91r7Wxj48zBmhEui23d8pbpsag8sg6crbr2qYu69YS/guAjCcX04wzhlwK9N40ddP22j5+kZ+OgDNdvVPcgwx4yKQEAADfNU1TVp0l+BpgPpFf2Ov9Zld2T73VcBrAO90IdK0hcKPk093K4jBuk7Z3/vcTToQAIMJx/tk/8H57/+F2XfWO6LEHYYhYbVsy7b6ztr+YTUefygsWy9AY7z18Eu8BgJCp6It/YO3q3bvflkX/hH59OgLoiVxfyt45XWlPo9//RPLQk/efpgdAAITI/uAfbHH37m8fl5V+opYbEAGg40CKc9LOmS6WgrOjXs//0LLg8Zv88UccCLbL2w8fH/btU3XE8Nas2ATUt+U6jwOllBScASKT/Kv+E40xnrz3WpvlX97drvZPTzGGA5hyqcvN7ThLwiiO0zjgQEzGSayQPHwpPG3dGmd1WxTV6v3fb3f102+1DAeglurtXRIncZyk+SSPpfcY5hMXITkQ6vdPag5Fb3RzWK7W2/VqV/9bvv5mgF4jF1KFcZyOphezVDrHolmnY+YdyCBQUgLQbr3et7qvtre3D7uq6eyJAc4Z7TkROA2owigp6qZMpXMYHYptxLwHESglAg56v9kUrenr7f39quhPD7HO1geod9b0fb2LhHcYZKNMMe9BSCGE4GDqoqi1tV253RZPHv9Pdua7bwAAjAupQiUZEQgVHsdpjHHGGAOn+14772zfNt2Qt4zPB0BARIbHGgeRMTxeBMcvOqYmInL+8WbgxV7sxV7sxV7sxV7sxf4/2T8BnU91dDadOZcAAAAASUVORK5CYII=\" style=\"height: auto\">\n",
       "              <figcaption style=\"font-size: 0.6em\">5</figcaption>\n",
       "            </figure>\n",
       "        \n",
       "            <figure style=\"margin: 5px !important;\">\n",
       "              <img src=\"data:image/png;base64,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\" style=\"height: auto\">\n",
       "              <figcaption style=\"font-size: 0.6em\">6</figcaption>\n",
       "            </figure>\n",
       "        \n",
       "            <figure style=\"margin: 5px !important;\">\n",
       "              <img src=\"data:image/png;base64,iVBORw0KGgoAAAANSUhEUgAAAIAAAACACAAAAADmVT4XAAAFhElEQVR4nO2ayY7jNhCGq0iK2mXZ7nH3zAA55P2fKUiAmcb04lUbxTUHe7IAuVA01Dnov4v8XKyNRQMsWrRo0aJFixYt+mDhnZYhlBIEsM4a43y+ZPcBIGlRpAyMlkPbqw8AoPnj4zoGKbrDm/oIAFbsfn3K3NicInHy+/Iu+5Mof/j6S+76U9y/+S15FwAkUVY/fs1tQ1XOydwACMh4Vn/6nOlINQmbHQCQ8qRYbR4SZdqEM7/IvocFaJQWZbWqYtknMSN+AH72+m+AKF+t6yqLkXPG6AcA8HK725YcwQFB39R6D4Ck3j1uC2ZAGwteeRju4gMkXn16eiiZRaWNsc4P4S4WqB4eHwqOVikptV8tutcRfN6VERolxlF6AtwjDOPV7mmXczSj6HuhPgCg2n7aUIpm7Nt2UHZ2AJaWVQLgzNg1TS/9AO7gAwYoTwEAjbgcj42YHUBboAwAwAzn9/fzoOcGAMBr+jWi8bdAsA8gpAmnBADAqmF2JyQRj+tNwQEAwFmttbazhiHNqtXuSx0DwK3F9y1GwQCbp69f6qsFAAml6FkPA52QxtXD07a4/gxEQohnOxAKgJQnWRLdVkHfnx8O8O+1kBCc2QLOGaOMuXk+IiJ6umGoBZw1xtx6EOesdc6zJwpNREgopXjdXikppZo3DyBSxiglAGDl0HVd59sPhB4BZZxHjACAGbr2cmn6eVMxUp6k19uYEX3bXFoxb0uGUVoUKacAYOW1I/NcIfQIeLne1CkFcM5ZraRfM3AHgHi1221yBs4BgtXazwEgvByn9cNuw5kDY601xtsAoQBxVq3rAsEaNQohlacHhgEQSlm9KvMUAUB358OxGY33KgEANE7z3aaMIwAAeXl9/nEYvF0gCCCpto/bnCMAwHh++f586P0BAqKA8Hy9qTKGAODk5fX55Si8XSAIgPEkSyJ6BehO+0MzzmoB+NkAAIBRfXO+dHJWC1zrP9wAhrZpBs9KGArwjw7QSNG1ndCz+0DCr3NJo0TXDr7DiVCApFxVtyi0WvSt8L0VBQKwdLXdVsntWjj2nZywf1AiyurN5grgjJbDMMUAYam4rFcFJwBgtJJS+heCUICsKFJOHDitlNKT9g+qhlGSZwlDB0ZOKcTBAMjiNOWMOKfHURo37QEuJAxpFPOIojNy6Ac1P8D1VkTR6eFybj1nU/cAMNY5QIJOdqfDqZtQBwIBnDXGAgLI5vB+aCdUQoAwJ0QEAAQnL++v+3aiBSYCICJJEh5RAmDF+e1l38ppK00DQEJ5vKrKPKEAdjj++P56mfcIKM+r7XpVpBTA9fvnb4dunBMAKc/qdV0WCQWw4vT6o/F9KQkDAGQ8y7M0ZgDgZHc5TvSAgDBESimjAADEmXHy/tMBnLW3uSwh3m919wAAB+6v4VxIRZn2GVJ6m00BaDOlE/qpqWEY50WeRAjW6Kab1gsFAbC02tQFR2dEdzgPAQATjyDK19t1GaMz4vR26ieW4ukAyPN6sy5i4vRw/ggLEJ5VdZVzdFp0TT9hMBIIQKOsXFVZhFaNQy88h6P3AOBZWZUZR6vEIMYJd9JAgCjOyqpIGVo1CiH9p4N/a0oYIkRJXpYZp2CVGIagI/AHQCQsy8uqyiIEMFKEHcEEC5AoyYqqqhIC4IwchZzXCZHQOM3yPI8IwIdEARLGoohHFAC06JrW940iFMA55wDJ9ZmmPx8OjZg3EVmt1K0DNLI9vr6cpl7LpgE4q9UohBAAMPbn/etbUC2YEAUWlOib094yedrv9/uj9vzvUigAOD1eXn53NVXn52/vzfSGdDKAEfvfzHNOdXf443UI2n8CgAOww5t+zzlaORwPYxjApLEGImOMIoAzesI71aJFixYtWrRo0aL/l/4EI8O+O8jIQCcAAAAASUVORK5CYII=\" style=\"height: auto\">\n",
       "              <figcaption style=\"font-size: 0.6em\">1</figcaption>\n",
       "            </figure>\n",
       "        \n",
       "            <figure style=\"margin: 5px !important;\">\n",
       "              <img src=\"data:image/png;base64,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\" style=\"height: auto\">\n",
       "              <figcaption style=\"font-size: 0.6em\">8</figcaption>\n",
       "            </figure>\n",
       "        \n",
       "            <figure style=\"margin: 5px !important;\">\n",
       "              <img src=\"data:image/png;base64,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\" style=\"height: auto\">\n",
       "              <figcaption style=\"font-size: 0.6em\">0</figcaption>\n",
       "            </figure>\n",
       "        \n",
       "            <figure style=\"margin: 5px !important;\">\n",
       "              <img src=\"data:image/png;base64,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\" style=\"height: auto\">\n",
       "              <figcaption style=\"font-size: 0.6em\">2</figcaption>\n",
       "            </figure>\n",
       "        \n",
       "            <figure style=\"margin: 5px !important;\">\n",
       "              <img src=\"data:image/png;base64,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\" style=\"height: auto\">\n",
       "              <figcaption style=\"font-size: 0.6em\">6</figcaption>\n",
       "            </figure>\n",
       "        \n",
       "            <figure style=\"margin: 5px !important;\">\n",
       "              <img src=\"data:image/png;base64,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\" style=\"height: auto\">\n",
       "              <figcaption style=\"font-size: 0.6em\">4</figcaption>\n",
       "            </figure>\n",
       "        \n",
       "            <figure style=\"margin: 5px !important;\">\n",
       "              <img src=\"data:image/png;base64,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\" style=\"height: auto\">\n",
       "              <figcaption style=\"font-size: 0.6em\">4</figcaption>\n",
       "            </figure>\n",
       "        \n",
       "            <figure style=\"margin: 5px !important;\">\n",
       "              <img src=\"data:image/png;base64,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\" style=\"height: auto\">\n",
       "              <figcaption style=\"font-size: 0.6em\">6</figcaption>\n",
       "            </figure>\n",
       "        \n",
       "            <figure style=\"margin: 5px !important;\">\n",
       "              <img src=\"data:image/png;base64,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\" style=\"height: auto\">\n",
       "              <figcaption style=\"font-size: 0.6em\">5</figcaption>\n",
       "            </figure>\n",
       "        \n",
       "            <figure style=\"margin: 5px !important;\">\n",
       "              <img src=\"data:image/png;base64,iVBORw0KGgoAAAANSUhEUgAAAIAAAACACAAAAADmVT4XAAANZ0lEQVR4nO2aWXPbOpbHDwDu+yJq9Zb07Ts1U/P9P8k89Z3EsS1ZCyWS4r4BmAc5W08iS47TU1Pl82aTBH46BM7yBwHe7M3e7M3e7M3e7M3e7P/Y0K8OgBEmBGOMEAIA4JwxRimlpz4v/DKArOi6rsqiQBAA0K6py3yf/esAJN3xR4FjqoqEAKArs320mnf1vwpAMrxgdn0xck1NRQDQplG41GlZdL8ZAAEChJBiecH48uZ67Fu6CADA9ztbhaqi+5oC+50ARJQVVdFdbzAcX0wHtvH0fwcAOJOdcBsXvxMAS5rtDVzH8xzX9VxD+XJFdZCoT67vP3yo+98HQGTdHl5cTn3PNXVVlsWv21nQBT0owyHJoua3ASDFdAazm3dXgWtpCgYA4J8vESxZQAOSPK7rEwheAIAwlpxgNL64vJz6tvG/QhlCAII/urjZC/vq2ddwPgDCRDKG1+8uJ0HgWdpPQim2pn8y63G9+w0ARNLdyR//fhMYmqqQn92mjDrZ0XhZ8p/d8WIAUXOC2bu/v3cJRvhHd3AEwCVfUNU+CdP2tQGw6o4vLmfjgQwAwPuO9pRSRjkQURIEAWMEAEhCAu5D306BsmNOeAGAMXl//X5iywAA0OdZWZZ103YUy6Zl6posCwAAWEKs8Ad+hur22Do4H4DYsz//djFUD39VcRhHSVqUdUeMYDzyXVsQAQAQCKrp+kEOiL4ugGBO3v0RGBJHANBn4Xy9DqM0K1vBnu3rDkQVAIAjwJJq+cOC9kfDwdkASNTc4dATMeKc8XS7fFiuwt0+L1rB6bFAZPOpFEBAVGswrtoyO/p7zp1fkFVN0xQAoE1d7+5ub5e7OCmKmgEoqiJZI3KYHgBEc1j2Tbp7PQAEWFRkUcAAAF0RJ6sPf91uiqKqWwbQZqGkBO3XrUmMIePlRnpFAI5FRRIO0a8vdo/zjx/udn3fMwYArIpFbVZ8XXJIGxAW2eLrAQDCoiwdqj/oyyRcLlfr/eeLrEaCudvFOgLgGACQLODSUY/OcaYHkCApiiyJAAC0KfbJPiu/XKUc5fHyk1VIiiJKhGCMBKrK4g/D5csAgIiyIsuSAABA2zLP6/5r2cM5bdOF0jxYvmcZqoQQAD4ExtcCQESQJEkUBAAA3tV10wH5UoEjYF2xbHfB6OqSIkwIAmDsaCB+wRpATx0IAKNd01L+rYM5rfosCnPBMA3KAYBT+gzBmQCc9U3T9hQjAE77ruu/HZ7znjdVy50GBIIRAGeU0tf0AKdtmeZF1SgIAFjftR39Zg0A9BQANUzQLFXEiDPa98eT4ZkAjLaZmmRFfUiFnHH+T8NzQIjIhuNpEgFO27btjrvgXA+wLs2yotQJACaCKArk+02GsKSblu3YIkKIdnVRVt3R9uDcNcChqauq7iUERDGdfZ7l3Te/EImq7o8DV1cAAFiTxVFaHW1Uz0/HrO+7rmcEFGdSsa7Mmm/SPVH98ezyj5F+wKmj1eMmPdomvqAm5H3btpSA4lMsdGlUfPOSRXPy59+vLyYHAF5u7++WydGq8AUArCmLXCZEcgQR5+E6Y93ntkQ2vIt/+88bX5c5AoAu28zvV/tX9gBv8p0tEtCxLKAmXAwKqPoeEEKioruzy+ubKxOAA+e8SMLlOjreqZ8PQPO13lct5apEDG843fUkygAkRdEtd3Dxt5lvAgAC2tTbcB1u0/qVF2Gfztso7QAjEUnm8LJAqC0AZM/1h6PxeDbWDvd1WfL4uA7jon1lAJr28apAsowFDVR31qI+2zeiOZxOLi8mgW09BakyXs4fN3HWvmYgAgCgZQUxNm0VYyQTI2hZGe2RHEyvL66vJo7ylH6zaD1/WO3S8hmV4iXtOYd8+2ijpqOOKBgBKwueyOPry8ls5GsAAH3dtNvl/H6+Sp6b/6UCRb4k+7hophaRXcyJm0n+ZOT51kEoaeJdvF4sFmF4PAj9AkATNsu4QZiZkqko5qwSTdfSVfXg/ir8tHhcLDdpWT6rF74QoEtS3Kqeo8mKaur2pBMUTRYQ5ggA2mR1ezt/DOPquXLo5QCMAcT7rGoZlrCgmpSIh5EYpf1+tZjfrdZxfspIvyBU9n3fU8YRAFbZ56Tcl3m+vf10/7hLq5NG+QUAWSSIc8YIAHyen7fZZrO8/fiwLupTVMJfAVAtQxEJ4pQAAHuqVGm7X93d392to1P18peoZAhhTBR77FuqdGgTAcNBqOvrdPNwv9jEp/n/ZQAgSIpq2P703cQzFOnLCIhxWufR6uFhm54slr/IA7Jh+cPxaDQZDSxd/loTMtaW6W75sCjKU0TaFwMohjeYXV1PB66lK+I3Oh2nXVMk23XYnz7/eQAIAImq5Q1GV+/eTV1NETE8afIIDn1I35T5Sfv/BQBYECRF0Q3H84Pp5SQ45N2m7WjPkSgrIsZEFAh6Nvi9FABJhuV5vus4juMNBqYMAMDKrKzrHuuuJxIuaZqmKvi0CHA2gGR4w9nFNLAtQ1dV7SC8VPvdPstawWWqjgQA07QsIz+D4HQA1fFGs5t3V0NbVyT0VHaUu/UmStJGGEq2JYOANcvxIl7TkxFOAxBFSbL9YDy5vpo9+R5o1zTVPlyH8T5thdb0LSACVix/mKJ9dcpZxRkAkuvag9FwNBgNfetJ9Gr223AX73ZJVpQd6S3P5Boisj2+6gTMXhlAH15OxtPRwDRM/Wn+NlvffnwI91lVtx3FyB2YCAQiOpOc467ITt0LJwHo3vT9zWw6dGVCngJPlW4fP/zXf4dZQ3vOOVKCkSvLqiiaw5q18ebE6Z8BQBhjTLDiXV1fX08mAxUAgDJK+7JIwk93d3fbz0E/iXdbwzQVojp1E5tHpcHTAbCsKKqhW4Pp1dUk8A4CeVdkeZHu4+3idpV8STrVfuvqlm0IouFXjv5KAILqOO4wCAaDge9Yh46ny3erzS6K4mi3i772vX0RhaYfMCCKk1uKcHI8PAYg6s5wOL68nPmWqkoSAgBos+jx7n612cZp0TZfiw7UlWlatAywRExNPqpNngSAiCBr9mAynl5fX7gaAQDOWdMUyfbh093jZrvPvxVGkCRg4JxxQILwnDh6EgDWbNf1gmEwmk0GGgAAr8oyT5Not5wvwigpvrtbUk3Hc/SDl6TPddKvAAjWxdU08F3H9dzDy2+S7W673WzjJIrT/PtAQ1Q7mF3NBhoBACAEHZdnTwGQvav/eD90DU1VDoufppv5YrlYhFlTN+33ypegWv7k+mYS6AQAgFJ+ekr+EQDiSLEHF+//HFqKRAAB57TL1ou7+/nDPCw5fD0pBgBAimoH4+l0GtgqAoA6LZqTv+D4IQAWVWs8m05Gvo4AgLZ1XebJevGwWC433757jIlABMmwvOHV5cg1NRHTpkoWq+O61LMAxBiMLt7PfFNBAMDLLInDcBtuw10Ufbf2kCSrqq57g2A0no5tTcLQJ5vF/V+r5w5snwGwJu+u3k2cw8FwmezWi08P67goiur7cl/UDNty3dFkHHj2Yfc30ce/bu8fix8MezoA1oPLm4vAkAAAmixazT/+4+Myo4yx79aeZlmO5wbBdDbxDZlgAtAX4d0/Pqyj6pc8gBV7MBzYmgCc0SIOH+cPD/PwcAkj/NlU3bJtzx0MxpOxczhD6YtduFws45O/ofkJgKQ7nm3IALSpouWn27tPj1sAACwSIoiyLCuSIkmabpimadn2wLcPwzR5tFqut0nRnl4U/nAbCoquazIB1lXJdnH34X654wAgaRIRBFU3LdMwdU3XNE1VFFU1npJfn2+XD49hUnTP6xJHAQBhImAEwPqm2EdhuEs7ANBsQyZE1G3Xcx3PPny8QjD5ok1k0fLhYRnlDfvFQAS0a6pGIZgDZxywqBi4B9l2TJkQUXdc33Ndxzo0RgBPJ0NtGS3nD/N1ckZj+BMAWicbUyCCLEJnNpNW8NKqB9VyTRkTUTVs27KsL8UhALR1WZbZPlqvV5swPbke/TlAvrkjICgyiDaWZOdin5ctyJZtSAQTSVFVVVGVr0822T7ZbTfbKE6SNC1OD8M/B1jLHKmmiYHYqjUqq7JomGyYuoAwwgIh5NuTmjJNtuHy4WEVF1XTtsdPaE4CYGUkItk0ZEtEXJIs2rdlw0RNlw/fLAIAAOeAAGjX1fk+CtfzT3fL/RkN0XGANhOwJPHC0WVJliVRVI2eH45LgTLGOQfOGWV931Rlnqb7aLtarHcnyzLPAfCuBEqbeO45jmVZhi7A53agq6qOAXAATru2qvIkSfZFmWXJ7szFdxSg57StkkfPD0aB73u28XQEwIoszRuGECAEfVPm+yRc7/Z137Z1XZ+nCxwFoLSr8nhleuMkTfOytC1NAeiqIkvitGEII4yhr/M03q2W4b7nwPkZsedZAODAgTZZWfe0KbI0skxdJbQpy3yfZA3DGCEMtC7SJN6sd+cvvGcBnqzChFexZZmapsiYdXVdFUXVcoQBI6BdXebZ/hwx4lwA3qZ9JiuyLEoCwZz2fde2HQVAgBAw1nVtU5+eeH9sx+pn9JT70eGrZc4554zzzw9xzhn/pxrlzd7szd7szd7szd7szf4f2v8AxCCj14Msl44AAAAASUVORK5CYII=\" style=\"height: auto\">\n",
       "              <figcaption style=\"font-size: 0.6em\">8</figcaption>\n",
       "            </figure>\n",
       "        \n",
       "            <figure style=\"margin: 5px !important;\">\n",
       "              <img src=\"data:image/png;base64,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\" style=\"height: auto\">\n",
       "              <figcaption style=\"font-size: 0.6em\">7</figcaption>\n",
       "            </figure>\n",
       "        \n",
       "            <figure style=\"margin: 5px !important;\">\n",
       "              <img src=\"data:image/png;base64,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\" style=\"height: auto\">\n",
       "              <figcaption style=\"font-size: 0.6em\">9</figcaption>\n",
       "            </figure>\n",
       "        \n",
       "            <figure style=\"margin: 5px !important;\">\n",
       "              <img src=\"data:image/png;base64,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\" style=\"height: auto\">\n",
       "              <figcaption style=\"font-size: 0.6em\">3</figcaption>\n",
       "            </figure>\n",
       "        \n",
       "            <figure style=\"margin: 5px !important;\">\n",
       "              <img src=\"data:image/png;base64,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\" style=\"height: auto\">\n",
       "              <figcaption style=\"font-size: 0.6em\">9</figcaption>\n",
       "            </figure>\n",
       "        \n",
       "    </div>"
      ],
      "text/plain": [
       "<IPython.core.display.HTML object>"
      ]
     },
     "execution_count": 5,
     "metadata": {},
     "output_type": "execute_result"
    }
   ],
   "source": [
    "count = 8\n",
    "\n",
    "def get_images_and_labels(df, ids):\n",
    "    image_datas = df.loc[ids]['png']\n",
    "    images = [Image.open(io.BytesIO(image_data)) for image_data in image_datas]\n",
    "    labels = df.loc[ids]['value']\n",
    "    return images, list(labels)\n",
    "\n",
    "def get_some_random_images_and_labels(df, count):\n",
    "    image_ids = RNG.choice(df.index.unique(), count, replace=False)\n",
    "    return get_images_and_labels(df, image_ids)\n",
    "\n",
    "train_images, train_labels = get_some_random_images_and_labels(df_train_images, count)\n",
    "test_images, test_labels = get_some_random_images_and_labels(df_test_images, count)\n",
    "\n",
    "display_images_grid(train_images + test_images, captions=train_labels + test_labels, col_count=count)"
   ]
  },
  {
   "cell_type": "markdown",
   "id": "49a9c189-4620-4fff-b12c-0553540cc48d",
   "metadata": {},
   "source": [
    "# Core logic"
   ]
  },
  {
   "cell_type": "markdown",
   "id": "24850512-c1a7-4d52-a17a-bf1a5f7641a7",
   "metadata": {},
   "source": [
    "## Types"
   ]
  },
  {
   "cell_type": "code",
   "execution_count": 6,
   "id": "62aec35b-11c1-4d9a-9cdc-b7315222c610",
   "metadata": {},
   "outputs": [],
   "source": [
    "SeqLatentVecMeta = namedtuple('SeqLatentVecMeta', \n",
    "                              ['engram_id',\n",
    "                               'seq_reading', \n",
    "                               'seq',\n",
    "                               'seq_lv_ind',\n",
    "                               'seq_lv_orig',\n",
    "                               'seq_lv_upd',\n",
    "                               #'w_vec',\n",
    "                               'ones_count',\n",
    "                               'history', # list of SeqLatentVecHistoryItem\n",
    "                               'nu',\n",
    "                               'cos_sim_thres',\n",
    "                               'neg_matches_count',\n",
    "                               'pos_matches_count'],\n",
    "                              defaults=[0.1, COS_SIM_45, 0, 0])\n",
    "SeqLatentVecHistoryItem = namedtuple('SeqLatentVecHistoryItem', ['image_id', 'cos_sim', 'is_correct_match'])\n",
    "Engram = namedtuple('Engram', ['engram_id', 'image_id', 'value', 'seq_lv_inds', 'si_ind_dict'])\n",
    "Matchee = namedtuple('Matchee', ['seqs', 'seq_lvs', 'seq_lvs_orig',  'seq_readings', 'si_ind_dict'])"
   ]
  },
  {
   "cell_type": "markdown",
   "id": "f70e4714-7395-4a8a-93f7-7248507d6e9f",
   "metadata": {},
   "source": [
    "## memory"
   ]
  },
  {
   "cell_type": "code",
   "execution_count": 7,
   "id": "385867d3-df1a-44cd-a8b6-ab94e752aad3",
   "metadata": {},
   "outputs": [],
   "source": [
    "SEQ_INGRESS_SUBLV_LEN = 150\n",
    "SEQ_SEQ_SUBLV_LEN = 300\n",
    "SEQ_SUBLV_LEN = SEQ_INGRESS_SUBLV_LEN + SEQ_SEQ_SUBLV_LEN\n",
    "SEQ_SUBLVS_COUNT = 5\n",
    "SEQ_LV_LEN = SEQ_SUBLV_LEN * SEQ_SUBLVS_COUNT\n",
    "SEQ_LVS = HdvArray(SEQ_LV_LEN * 2, xp, dtype='f')\n",
    "SEQ_LV_IND_TO_META = {} # key - index in SEQ_LVS, value - SeqLatentVecMeta\n",
    "ENGRAMS = {} # key - engram id, value - engram instance\n",
    "ENGRAM_ID_SOURCE = itertools.count(1)"
   ]
  },
  {
   "cell_type": "code",
   "execution_count": 8,
   "id": "944a2145-43bc-4ece-b640-e4562074deaf",
   "metadata": {},
   "outputs": [],
   "source": [
    "def gc_memory():\n",
    "    gc.collect()\n",
    "    \n",
    "    if cp.cuda.is_available():\n",
    "        cp.get_default_memory_pool().free_all_blocks()\n",
    "\n",
    "def clear_memory():\n",
    "    SEQ_LVS.clear()\n",
    "    SEQ_LV_IND_TO_META.clear()\n",
    "    ENGRAMS.clear()\n",
    "    gc_memory()"
   ]
  },
  {
   "cell_type": "markdown",
   "id": "de73e165-ba51-4050-b4b8-1af91973f3e3",
   "metadata": {},
   "source": [
    "## lambdas"
   ]
  },
  {
   "cell_type": "code",
   "execution_count": 9,
   "id": "9973a30b-4267-42a8-b61c-5c2c869c902c",
   "metadata": {},
   "outputs": [],
   "source": [
    "expand_normal_vec = lambda j: (j.real, j.imag)\n",
    "fetch_si_xy = lambda si: (si.x, si.y)\n",
    "get_sequence = lambda sequences: np.array(list(itertools.chain.from_iterable(sequences)))\n",
    "get_sequences_reading = lambda sequences, reading: list(map(lambda r: sequences[r[0]] if r[1] == 0 else list(reversed(sequences[r[0]])), reading))\n",
    "get_normal_sequence = lambda sequence, si_ind_dict: np.array(list(map(lambda si_ind: expand_normal_vec(si_ind_dict[si_ind].normal_vec), sequence)))\n",
    "get_xy_sequence = lambda sequence, si_ind_dict: np.array(list(map(lambda si_ind: fetch_si_xy(si_ind_dict[si_ind]), sequence)))\n",
    "get_raw_image = lambda image_id, df_images: Image.open(io.BytesIO(df_images.loc[image_id]['png']))"
   ]
  },
  {
   "cell_type": "markdown",
   "id": "ab23fae7-029e-4b19-8543-ee48ffdaa136",
   "metadata": {},
   "source": [
    "## render_image"
   ]
  },
  {
   "cell_type": "code",
   "execution_count": 10,
   "id": "a199442d-4630-4a4c-b256-aea2c51b3b98",
   "metadata": {},
   "outputs": [],
   "source": [
    "def render_image(image_id, df_images, image_sz=(600, 600)):\n",
    "    df_image = df_images.loc[image_id]\n",
    "    image_png = df_image['png']\n",
    "    image = Image.open(io.BytesIO(image_png))\n",
    "    image = image.convert('RGB')\n",
    "    k = image.size[0]\n",
    "    image = image.resize(image_sz)\n",
    "    k = image.size[0] / k\n",
    "    image_draw = ImageDraw.Draw(image)\n",
    "\n",
    "    inner_si_ind_dict = pickle.loads(df_image['inner_si_ind_dict'])\n",
    "    inner_sequences = pickle.loads(df_image['inner_sequences'])\n",
    "        \n",
    "    for seq in inner_sequences:\n",
    "        for si_ind_from, si_ind_to in zip(seq, seq[1:]):\n",
    "            si_from = inner_si_ind_dict[si_ind_from]\n",
    "            si_to = inner_si_ind_dict[si_ind_to]\n",
    "            pt_from = si_from.x * k, si_from.y * k\n",
    "            pt_to = si_to.x * k, si_to.y * k\n",
    "            image_draw.line([pt_from[0], pt_from[1], pt_to[0], pt_to[1]], width=1, fill='red')\n",
    "            \n",
    "            nl = 6 * k\n",
    "            image_draw.rectangle([pt_from[0]-1, pt_from[1]-1, pt_from[0]+1, pt_from[1]+1], outline='red')\n",
    "            normal_vec = si_from.normal_vec\n",
    "            image_draw.line([pt_from[0], pt_from[1], pt_from[0] + normal_vec.real * nl, pt_from[1] + normal_vec.imag * nl], width=1, fill='red')\n",
    "            image_draw.text([pt_from[0] + normal_vec.real * nl*1.2, pt_from[1] + normal_vec.imag * nl*1.2], str(si_ind_from), anchor='mm', fill='red')\n",
    "\n",
    "            image_draw.rectangle([pt_to[0]-1, pt_to[1]-1, pt_to[0]+1, pt_to[1]+1], outline='red')\n",
    "            normal_vec = si_to.normal_vec\n",
    "            image_draw.line([pt_to[0], pt_to[1], pt_to[0] + normal_vec.real * nl, pt_to[1] + normal_vec.imag * nl], width=1, fill='red')\n",
    "            image_draw.text([pt_to[0] + normal_vec.real * nl*1.2, pt_to[1] + normal_vec.imag * nl*1.2], str(si_ind_to), anchor='mm', fill='red')\n",
    "\n",
    "    return image"
   ]
  },
  {
   "cell_type": "markdown",
   "id": "2b357713-750c-49f4-a66a-fa358bbf3828",
   "metadata": {},
   "source": [
    "## calc_seqs_latent_vector"
   ]
  },
  {
   "cell_type": "code",
   "execution_count": 11,
   "id": "8aebce04-8824-42e8-a4cb-c24330b46869",
   "metadata": {},
   "outputs": [],
   "source": [
    "def calc_seqs_latent_vector(sequences, si_ind_dict, seq_sublv_cache={}):\n",
    "    seq_lv = np.zeros((SEQ_SUBLVS_COUNT, SEQ_SUBLV_LEN, 2), dtype='f')\n",
    "    assert sequences\n",
    "    assert len(sequences) <= SEQ_SUBLVS_COUNT, len(sequences)\n",
    "\n",
    "    xy_prev_seq_tail = np.zeros(2)\n",
    "    \n",
    "    for sequence_i, (sequence, sublv) in enumerate(zip(sequences, seq_lv)):\n",
    "        ingress_sublv = sublv[:SEQ_INGRESS_SUBLV_LEN]\n",
    "        seq_sublv = sublv[SEQ_INGRESS_SUBLV_LEN:]\n",
    "        \n",
    "        assert sequence\n",
    "        xy_sequence = get_xy_sequence(sequence, si_ind_dict)\n",
    "        xy_sequence0 = xy_sequence[0].copy()\n",
    "        xy_sequence_last = xy_sequence[-1].copy()\n",
    "        xy_sequence -= xy_sequence0\n",
    "        \n",
    "        # 1) Ingress component of sublv, for very first sequence (sublv) there is no ingress \n",
    "        if sequence_i > 0:\n",
    "            ingress_vec = xy_sequence0 - xy_prev_seq_tail\n",
    "            ingress_vec_len = int(np.round(np.linalg.norm(ingress_vec), decimals=0))\n",
    "    \n",
    "            if ingress_vec_len > 0:\n",
    "                assert ingress_vec_len <= ingress_sublv.shape[0], ingress_vec_len\n",
    "                ingress_sublv[:ingress_vec_len] = ingress_vec / ingress_vec_len\n",
    "    \n",
    "        # Remember tip last position so we would be able to compute\n",
    "        # ingress vec for next seq RELATIVELY!!! (from tail to tip, not from beginning of whole figure)\n",
    "        xy_prev_seq_tail = xy_sequence_last\n",
    "\n",
    "        # 2) Seq component of sublv. \n",
    "        # At first check in cache - chances are that we've already done computation of seq_sublv.\n",
    "        # Key for cache is starting si_ind. The bid here is that we have no duplicate si_ind within figure, \n",
    "        # as such each sub_lv is uniquely identified by starting si_ind\n",
    "        starting_si_ind = sequence[0]\n",
    "\n",
    "        if starting_si_ind in seq_sublv_cache:\n",
    "            seq_sublv[:] = seq_sublv_cache[starting_si_ind]\n",
    "        else:\n",
    "            vec_sequence = np.array(list(map(lambda xy_pair: (xy_pair[1][0] - xy_pair[0][0], xy_pair[1][1] - xy_pair[0][1]), \n",
    "                                         zip(xy_sequence, np.roll(xy_sequence, -1, axis=0)))))\n",
    "            vec_sequence[-1,:] = 0 # get rid of reciprocal vector which connects tail to tip\n",
    "            vec_len_sequence = np.linalg.norm(vec_sequence, axis=1)\n",
    "            vec_len_sequence_nozero = np.where(vec_len_sequence != 0, vec_len_sequence, 1e-6) # prevent 0 len vectors\n",
    "            norm_vec_sequence = (vec_sequence.T / vec_len_sequence_nozero).T\n",
    "            \n",
    "            assert len(sequence) == vec_sequence.shape[0]\n",
    "            assert len(sequence) == vec_len_sequence.shape[0]\n",
    "            assert len(sequence) == norm_vec_sequence.shape[0]\n",
    "            \n",
    "            seq_len = vec_len_sequence.sum()\n",
    "    \n",
    "            if seq_len > 0:\n",
    "                assert seq_len <= seq_sublv.shape[0], seq_len\n",
    "                \n",
    "                i = 0\n",
    "                i_from = 0\n",
    "                i_to = 0\n",
    "        \n",
    "                for si_ind, norm_vec, vec_len in zip(sequence, norm_vec_sequence, vec_len_sequence):\n",
    "                    if vec_len > 0:\n",
    "                        i += vec_len\n",
    "                        i_to = min(int(i), seq_sublv.shape[0])\n",
    "                        assert i_from >= 0, i_from\n",
    "                        assert i_to >= i_from, (i_to, i_from)\n",
    "                        assert i_to <= seq_sublv.shape[0], (i_to, seq_sublv.shape[0])\n",
    "                        i_to2 = i_to\n",
    "                        \n",
    "                        if si_ind == sequence[-1]: # last element - span to the end (due to rounding sometimes i_to may not be exactly positioned at last index\n",
    "                            i_to2 = seq_sublv.shape[0]\n",
    "                \n",
    "                        seq_sublv[i_from:i_to2] = norm_vec\n",
    "                    \n",
    "                    i_from = i_to\n",
    "                \n",
    "                    if i_to >= seq_sublv.shape[0]:\n",
    "                        break\n",
    "    \n",
    "            seq_sublv_cache[starting_si_ind] = seq_sublv.copy() \n",
    "    \n",
    "    return seq_lv.ravel()"
   ]
  },
  {
   "cell_type": "code",
   "execution_count": 12,
   "id": "0ae35c38-6076-46d4-aa24-8f512f8f3eb8",
   "metadata": {},
   "outputs": [],
   "source": [
    "def calc_seqs_latent_vector7(sequences, si_ind_dict):\n",
    "    seq_lv = np.zeros((SEQ_SUBLVS_COUNT, SEQ_SUBLV_LEN, 2), dtype='f')\n",
    "    assert sequences\n",
    "    assert len(sequences) <= SEQ_SUBLVS_COUNT\n",
    "\n",
    "    xy_prev_seq_tail = np.zeros(2)\n",
    "    \n",
    "    for sequence_i, (sequence, sublv) in enumerate(zip(sequences, seq_lv)):\n",
    "        ingress_sublv = sublv[:SEQ_INGRESS_SUBLV_LEN]\n",
    "        seq_sublv = sublv[SEQ_INGRESS_SUBLV_LEN:]\n",
    "        \n",
    "        assert sequence\n",
    "        xy_sequence = get_xy_sequence(sequence, si_ind_dict)\n",
    "        xy_sequence0 = xy_sequence[0].copy()\n",
    "        xy_sequence_last = xy_sequence[-1].copy()\n",
    "        xy_sequence -= xy_sequence0\n",
    "        vec_sequence = np.array(list(map(lambda xy_pair: (xy_pair[1][0] - xy_pair[0][0], xy_pair[1][1] - xy_pair[0][1]), \n",
    "                                         zip(xy_sequence, np.roll(xy_sequence, -1, axis=0)))))\n",
    "        vec_sequence[-1,:] = 0 # get rid of reciprocal vector which connects tail to tip\n",
    "        vec_len_sequence = np.linalg.norm(vec_sequence, axis=1)\n",
    "        vec_len_sequence_nozero = np.where(vec_len_sequence != 0, vec_len_sequence, 1e-6) # prevent 0 len vectors\n",
    "        norm_vec_sequence = (vec_sequence.T / vec_len_sequence_nozero).T\n",
    "        \n",
    "        assert len(sequence) == vec_sequence.shape[0]\n",
    "        assert len(sequence) == vec_len_sequence.shape[0]\n",
    "        assert len(sequence) == norm_vec_sequence.shape[0]\n",
    "        \n",
    "        seq_len = vec_len_sequence.sum()\n",
    "\n",
    "        if seq_len == 0:\n",
    "            continue\n",
    "            \n",
    "        assert seq_len <= seq_sublv.shape[0]\n",
    "\n",
    "        # Ingress component of sublv\n",
    "        if sequence_i > 0:\n",
    "            ingress_vec = xy_sequence0 - xy_prev_seq_tail\n",
    "            ingress_vec_len = int(np.round(np.linalg.norm(ingress_vec), decimals=0))\n",
    "    \n",
    "            if ingress_vec_len > 0:\n",
    "                assert ingress_vec_len <= ingress_sublv.shape[0], ingress_vec_len\n",
    "                ingress_sublv[:ingress_vec_len] = ingress_vec / ingress_vec_len\n",
    "    \n",
    "        # Remember tip last position so we would be able to compute\n",
    "        # ingress vec for next seq RELATIVELY!!! (from tail to tip, not from beginning of whole figure)\n",
    "        xy_prev_seq_tail = xy_sequence_last\n",
    "\n",
    "        # Seq component of sublv\n",
    "        i = 0\n",
    "        i_from = 0\n",
    "        i_to = 0\n",
    "\n",
    "        for si_ind, norm_vec, vec_len in zip(sequence, norm_vec_sequence, vec_len_sequence):\n",
    "            if vec_len > 0:\n",
    "                i += vec_len\n",
    "                i_to = min(int(i), seq_sublv.shape[0])\n",
    "                assert i_from >= 0, i_from\n",
    "                assert i_to >= i_from, (i_to, i_from)\n",
    "                assert i_to <= seq_sublv.shape[0], (i_to, seq_sublv.shape[0])\n",
    "                i_to2 = i_to\n",
    "                \n",
    "                if si_ind == sequence[-1]: # last element - span to the end (due to rounding sometimes i_to may not be exactly positioned at last index\n",
    "                    i_to2 = seq_sublv.shape[0]\n",
    "        \n",
    "                seq_sublv[i_from:i_to2] = norm_vec\n",
    "            \n",
    "            i_from = i_to\n",
    "        \n",
    "            if i_to >= seq_sublv.shape[0]:\n",
    "                break\n",
    "    \n",
    "    seq_lv = seq_lv.ravel()\n",
    "    seq_lv_len = np.linalg.norm(seq_lv)\n",
    "    return seq_lv / seq_lv_len, seq_lv"
   ]
  },
  {
   "cell_type": "code",
   "execution_count": 13,
   "id": "353b924d-0762-4d01-946d-4fcc700bc72f",
   "metadata": {},
   "outputs": [],
   "source": [
    "def calc_seqs_latent_vector6(sequences, si_ind_dict):\n",
    "    seq_lv = np.zeros((SEQ_SUBLVS_COUNT, SEQ_SUBLV_LEN, 2))\n",
    "    assert sequences\n",
    "    assert len(sequences) <= SEQ_SUBLVS_COUNT\n",
    "\n",
    "    pivot_pt = fetch_si_xy(si_ind_dict[sequences[0][0]])\n",
    "    \n",
    "    for sequence, seq_sublv in zip(sequences, seq_lv):\n",
    "        assert sequence\n",
    "        xy_sequence = get_xy_sequence(sequence, si_ind_dict)\n",
    "        xy_sequence0 = xy_sequence[0].copy()\n",
    "        xy_sequence -= xy_sequence0\n",
    "        vec_sequence = np.array(list(map(lambda xy_pair: (xy_pair[1][0] - xy_pair[0][0], xy_pair[1][1] - xy_pair[0][1]), \n",
    "                                         zip(xy_sequence, np.roll(xy_sequence, -1, axis=0)))))\n",
    "        vec_sequence[-1,:] = 0 # get rid of reciprocal vector which connects tail to tip\n",
    "        vec_len_sequence = np.linalg.norm(vec_sequence, axis=1)\n",
    "        vec_len_sequence_nozero = np.where(vec_len_sequence != 0, vec_len_sequence, 1e-6) # prevent 0 len vectors\n",
    "        norm_vec_sequence = (vec_sequence.T / vec_len_sequence_nozero).T\n",
    "        \n",
    "        assert len(sequence) == vec_sequence.shape[0]\n",
    "        assert len(sequence) == vec_len_sequence.shape[0]\n",
    "        assert len(sequence) == norm_vec_sequence.shape[0]\n",
    "        \n",
    "        seq_len = vec_len_sequence.sum()\n",
    "\n",
    "        if seq_len == 0:\n",
    "            continue\n",
    "            \n",
    "        assert seq_len <= seq_sublv.shape[0]\n",
    "        \n",
    "        i = 0\n",
    "        i_from = 0\n",
    "        i_to = 0\n",
    "            \n",
    "        for si_ind, norm_vec, vec_len in zip(sequence, norm_vec_sequence, vec_len_sequence):\n",
    "            if vec_len > 0:\n",
    "                i += vec_len\n",
    "                i_to = min(int(i), seq_sublv.shape[0])\n",
    "                assert i_from >= 0, i_from\n",
    "                assert i_to >= i_from, (i_to, i_from)\n",
    "                assert i_to <= seq_sublv.shape[0], (i_to, seq_sublv.shape[0])\n",
    "                i_to2 = i_to\n",
    "                \n",
    "                if si_ind == sequence[-1]: # last element - span to the end (due to rounding sometimes i_to may not be exactly positioned at last index\n",
    "                    i_to2 = seq_sublv.shape[0]\n",
    "        \n",
    "                seq_sublv[i_from:i_to2] = norm_vec\n",
    "            \n",
    "            i_from = i_to\n",
    "        \n",
    "            if i_to >= seq_sublv.shape[0]:\n",
    "                break\n",
    "\n",
    "        # Put ingress vector (aka offset of this sequence) on tip of latent vector. This way we would be able to \n",
    "        # account for differences in locations of sequences\n",
    "        seq_sublv[:] = np.roll(seq_sublv, 1, axis=0)\n",
    "        seq_sublv[0] = xy_sequence0 - pivot_pt # Works bad!, because of RNG.normal(-5, 0.1, 100) syndrom (<- such two random vectors will have cos sim near 1)\n",
    "\n",
    "    seq_lv = seq_lv.ravel()\n",
    "    seq_lv_len = np.linalg.norm(seq_lv)\n",
    "    return seq_lv / seq_lv_len, seq_lv"
   ]
  },
  {
   "cell_type": "code",
   "execution_count": 14,
   "id": "b328c14b-a887-459e-8705-61e1c4c83a6e",
   "metadata": {},
   "outputs": [],
   "source": [
    "def calc_seqs_latent_vector5(sequences, si_ind_dict):\n",
    "    seq_lv = np.zeros((SEQ_SUBLVS_COUNT, SEQ_SUBLV_LEN, 2))\n",
    "    assert sequences\n",
    "    assert len(sequences) <= SEQ_SUBLVS_COUNT\n",
    "\n",
    "    pivot_pt = fetch_si_xy(si_ind_dict[sequences[0][0]])\n",
    "    \n",
    "    for sequence, seq_sublv in zip(sequences, seq_lv):\n",
    "        assert sequence\n",
    "        xy_sequence = get_xy_sequence(sequence, si_ind_dict)\n",
    "        xy_sequence0 = xy_sequence[0].copy()\n",
    "        xy_sequence -= xy_sequence0\n",
    "        vec_sequence = np.array(list(map(lambda xy_pair: (xy_pair[1][0] - xy_pair[0][0], xy_pair[1][1] - xy_pair[0][1]), \n",
    "                                         zip(xy_sequence, np.roll(xy_sequence, -1, axis=0)))))\n",
    "        vec_sequence[-1,:] = 0 # get rid of reciprocal vector which connects tail to tip\n",
    "        vec_len_sequence = np.linalg.norm(vec_sequence, axis=1)\n",
    "        vec_len_sequence_nozero = np.where(vec_len_sequence != 0, vec_len_sequence, 1e-6) # prevent 0 len vectors\n",
    "        norm_vec_sequence = (vec_sequence.T / vec_len_sequence_nozero).T\n",
    "        \n",
    "        assert len(sequence) == vec_sequence.shape[0]\n",
    "        assert len(sequence) == vec_len_sequence.shape[0]\n",
    "        assert len(sequence) == norm_vec_sequence.shape[0]\n",
    "        \n",
    "        seq_len = vec_len_sequence.sum()\n",
    "\n",
    "        if seq_len == 0:\n",
    "            continue\n",
    "            \n",
    "        assert seq_len <= seq_sublv.shape[0] # TODO: weak point if e.g. there is only one but very long sequence, think about it\n",
    "        k = seq_sublv.shape[0] / seq_len # coeff to make sequence occupy whole sublv (stretch / shrink)\n",
    "        \n",
    "        i = 0\n",
    "        i_from = 0\n",
    "        i_to = 0\n",
    "        pt = xy_sequence[0]\n",
    "            \n",
    "        for j, (si_ind, norm_vec, vec_len) in enumerate(zip(sequence, norm_vec_sequence, vec_len_sequence)):\n",
    "            if vec_len > 0:\n",
    "                i += vec_len\n",
    "                i_to = min(int(i * k), seq_sublv.shape[0])\n",
    "                assert i_from >= 0, i_from\n",
    "                assert i_to >= i_from, (i_to, i_from)\n",
    "                assert i_to <= seq_sublv.shape[0], (i_to, seq_sublv.shape[0])\n",
    "                i_to2 = i_to\n",
    "                \n",
    "                if si_ind == sequence[-1]: # last element - span to the end (due to rounding sometimes i_to may not be exactly positioned at last index\n",
    "                    i_to2 = seq_sublv.shape[0]\n",
    "        \n",
    "                pts = pt + (np.arange(1, i_to2 - i_from + 1) * norm_vec[np.newaxis,:].T).T # path interpolation\n",
    "                seq_sublv[i_from:i_to2] = pts\n",
    "                pt = pts[-1]\n",
    "            \n",
    "            i_from = i_to\n",
    "        \n",
    "            if i_to >= seq_sublv.shape[0]:\n",
    "                break\n",
    "        \n",
    "        # Put offset of this sequence on tip of latent vector. This way we would be able to \n",
    "        # account for differences in locations of sequences and the same time it would'nt overflow squared diffs\n",
    "        seq_sublv[:] = np.roll(seq_sublv, 1, axis=0)\n",
    "        seq_sublv[0] = xy_sequence0 - pivot_pt\n",
    "    \n",
    "    return seq_lv.ravel()"
   ]
  },
  {
   "cell_type": "code",
   "execution_count": 15,
   "id": "4d2442d7-e00a-4935-b82a-71563c0ef35e",
   "metadata": {},
   "outputs": [],
   "source": [
    "def calc_seqs_latent_vector4(sequences, si_ind_dict):\n",
    "    seq_lv = np.zeros((SEQ_SUBLVS_COUNT, SEQ_SUBLV_LEN, 2))\n",
    "    assert sequences\n",
    "    assert len(sequences) <= SEQ_SUBLVS_COUNT\n",
    "\n",
    "    pivot_pt = fetch_si_xy(si_ind_dict[sequences[0][0]])\n",
    "    \n",
    "    for sequence, seq_sublv in zip(sequences, seq_lv):\n",
    "        assert sequence\n",
    "        xy_sequence = get_xy_sequence(sequence, si_ind_dict)\n",
    "        xy_sequence0 = xy_sequence[0].copy()\n",
    "        xy_sequence -= xy_sequence0\n",
    "        vec_sequence = np.array(list(map(lambda xy_pair: (xy_pair[1][0] - xy_pair[0][0], xy_pair[1][1] - xy_pair[0][1]), \n",
    "                                         zip(xy_sequence, np.roll(xy_sequence, -1, axis=0)))))\n",
    "        vec_sequence[-1,:] = 0 # get rid of reciprocal vector which connects tail to tip\n",
    "        vec_len_sequence = np.linalg.norm(vec_sequence, axis=1)\n",
    "        vec_len_sequence_nozero = np.where(vec_len_sequence != 0, vec_len_sequence, 1e-6) # prevent 0 len vectors\n",
    "        norm_vec_sequence = (vec_sequence.T / vec_len_sequence_nozero).T\n",
    "        \n",
    "        assert len(sequence) == vec_sequence.shape[0]\n",
    "        assert len(sequence) == vec_len_sequence.shape[0]\n",
    "        assert len(sequence) == norm_vec_sequence.shape[0]\n",
    "        \n",
    "        seq_len = vec_len_sequence.sum()\n",
    "        assert seq_len <= seq_sublv.shape[0] # TODO: weak point if e.g. there is only one but very long sequence, think about it\n",
    "        \n",
    "        i = 0\n",
    "        i_from = 0\n",
    "        i_to = 0\n",
    "        pt = xy_sequence[0]\n",
    "            \n",
    "        for j, (si_ind, norm_vec, vec_len) in enumerate(zip(sequence, norm_vec_sequence, vec_len_sequence)):\n",
    "            if vec_len > 0:\n",
    "                i += vec_len\n",
    "                i_to = min(int(i), seq_sublv.shape[0])\n",
    "                assert i_from >= 0, i_from\n",
    "                assert i_to >= i_from, (i_to, i_from)\n",
    "                assert i_to <= seq_sublv.shape[0], (i_to, seq_sublv.shape[0])\n",
    "                i_to2 = i_to\n",
    "                \n",
    "                if si_ind == sequence[-1]: # last element - span to the end (due to rounding sometimes i_to may not be exactly positioned at last index\n",
    "                    i_to2 = seq_sublv.shape[0]\n",
    "        \n",
    "                pts = pt + (np.arange(1, i_to2 - i_from + 1) * norm_vec[np.newaxis,:].T).T # path interpolation\n",
    "                seq_sublv[i_from:i_to2] = pts\n",
    "                pt = pts[-1]\n",
    "            \n",
    "            i_from = i_to\n",
    "        \n",
    "            if i_to >= seq_sublv.shape[0]:\n",
    "                break\n",
    "        \n",
    "        if i_from < seq_sublv.shape[0] and i_from > 0:\n",
    "            seq_sublv[i_from:] = 0\n",
    "    \n",
    "        # Put offset of this sequence on tip of latent vector. This way we would be able to \n",
    "        # account for differences in locations of sequences and the same time it would'nt overflow squared diffs\n",
    "        seq_sublv[:] = np.roll(seq_sublv, 1, axis=0)\n",
    "        seq_sublv[0] = xy_sequence0 - pivot_pt\n",
    "    \n",
    "    return seq_lv.ravel()"
   ]
  },
  {
   "cell_type": "code",
   "execution_count": 16,
   "id": "5e3c1416-442a-4f1c-8479-ef3965e9dac4",
   "metadata": {},
   "outputs": [],
   "source": [
    "def calc_seqs_latent_vector3(sequences, si_ind_dict):\n",
    "    seq_lv = np.zeros((SEQ_SUBLVS_COUNT, SEQ_SUBLV_LEN, 2))\n",
    "    assert sequences\n",
    "    assert len(sequences) <= SEQ_SUBLVS_COUNT\n",
    "\n",
    "    pivot_pt = fetch_si_xy(si_ind_dict[sequences[0][0]])\n",
    "    \n",
    "    for sequence, seq_sublv in zip(sequences, seq_lv):\n",
    "        assert sequence\n",
    "        xy_sequence = get_xy_sequence(sequence, si_ind_dict)\n",
    "        xy_sequence0 = xy_sequence[0].copy()\n",
    "        xy_sequence -= xy_sequence0\n",
    "        vec_sequence = np.array(list(map(lambda xy_pair: (xy_pair[1][0] - xy_pair[0][0], xy_pair[1][1] - xy_pair[0][1]), \n",
    "                                         zip(xy_sequence, np.roll(xy_sequence, -1, axis=0)))))\n",
    "        vec_sequence[-1,:] = 0 # get rid of reciprocal vector which connects tail to tip\n",
    "        vec_len_sequence = np.linalg.norm(vec_sequence, axis=1)\n",
    "        vec_len_sequence_nozero = np.where(vec_len_sequence != 0, vec_len_sequence, 1e-6) # prevent 0 len vectors\n",
    "        norm_vec_sequence = (vec_sequence.T / vec_len_sequence_nozero).T\n",
    "        \n",
    "        assert len(sequence) == vec_sequence.shape[0]\n",
    "        assert len(sequence) == vec_len_sequence.shape[0]\n",
    "        assert len(sequence) == norm_vec_sequence.shape[0]\n",
    "        \n",
    "        seq_len = vec_len_sequence.sum()\n",
    "        assert seq_len <= seq_sublv.shape[0] # TODO: weak point if e.g. there is only one but very long sequence, think about it\n",
    "        \n",
    "        i = 0\n",
    "        i_from = 0\n",
    "        i_to = 0\n",
    "        pt = xy_sequence[0]\n",
    "            \n",
    "        for j, (si_ind, norm_vec, vec_len) in enumerate(zip(sequence, norm_vec_sequence, vec_len_sequence)):\n",
    "            if vec_len > 0:\n",
    "                i += vec_len\n",
    "                i_to = min(int(i), seq_sublv.shape[0])\n",
    "                assert i_from >= 0, i_from\n",
    "                assert i_to >= i_from, (i_to, i_from)\n",
    "                assert i_to <= seq_sublv.shape[0], (i_to, seq_sublv.shape[0])\n",
    "                i_to2 = i_to\n",
    "                \n",
    "                if si_ind == sequence[-1]: # last element - span to the end (due to rounding sometimes i_to may not be exactly positioned at last index\n",
    "                    i_to2 = seq_sublv.shape[0]\n",
    "        \n",
    "                pts = pt + (np.arange(1, i_to2 - i_from + 1) * norm_vec[np.newaxis,:].T).T # path interpolation\n",
    "                seq_sublv[i_from:i_to2] = pts\n",
    "                pt = pts[-1]\n",
    "            \n",
    "            i_from = i_to\n",
    "        \n",
    "            if i_to >= seq_sublv.shape[0]:\n",
    "                break\n",
    "        \n",
    "        if i_from < seq_sublv.shape[0] and i_from > 0:\n",
    "            seq_sublv[i_from:] = seq_sublv[i_from-1]\n",
    "    \n",
    "        # Put offset of this sequence on tip of latent vector. This way we would be able to \n",
    "        # account for differences in locations of sequences\n",
    "        seq_sublv[:] = np.roll(seq_sublv, 1, axis=0)\n",
    "        seq_sublv[0] = xy_sequence0 - pivot_pt\n",
    "    \n",
    "    return seq_lv.ravel()"
   ]
  },
  {
   "cell_type": "code",
   "execution_count": 17,
   "id": "1852e4d2-f356-440d-bb87-902e6dbf9d5f",
   "metadata": {},
   "outputs": [],
   "source": [
    "def calc_seqs_latent_vector2(sequences, si_ind_dict):\n",
    "    seq_lv = np.zeros((SEQ_SUBLVS_COUNT, SEQ_SUBLV_LEN, 2))\n",
    "    assert sequences\n",
    "    assert len(sequences) <= SEQ_SUBLVS_COUNT\n",
    "    \n",
    "    initial_pt = fetch_si_xy(si_ind_dict[sequences[0][0]])\n",
    "    \n",
    "    for sequence, seq_sublv in zip(sequences, seq_lv):\n",
    "        assert sequence\n",
    "        xy_sequence = get_xy_sequence(sequence, si_ind_dict)\n",
    "        xy_sequence -= initial_pt\n",
    "        vec_sequence = np.array(list(map(lambda xy_pair: (xy_pair[1][0] - xy_pair[0][0], xy_pair[1][1] - xy_pair[0][1]), \n",
    "                                         zip(xy_sequence, np.roll(xy_sequence, -1, axis=0)))))\n",
    "        vec_sequence[-1,:] = 0 # get rid of reciprocal vector which connects tail to tip\n",
    "        vec_len_sequence = np.linalg.norm(vec_sequence, axis=1)\n",
    "        vec_len_sequence_nozero = np.where(vec_len_sequence != 0, vec_len_sequence, 1e-6) # prevent 0 len vectors\n",
    "        norm_vec_sequence = (vec_sequence.T / vec_len_sequence_nozero).T\n",
    "        \n",
    "        assert len(sequence) == vec_sequence.shape[0]\n",
    "        assert len(sequence) == vec_len_sequence.shape[0]\n",
    "        assert len(sequence) == norm_vec_sequence.shape[0]\n",
    "        \n",
    "        seq_len = vec_len_sequence.sum()\n",
    "        assert seq_len <= seq_sublv.shape[0] # TODO: weak point if e.g. there is only one but very long sequence, think about it\n",
    "        \n",
    "        i = 0\n",
    "        i_from = 0\n",
    "        i_to = 0\n",
    "        pt = xy_sequence[0]\n",
    "            \n",
    "        for j, (si_ind, norm_vec, vec_len) in enumerate(zip(sequence, norm_vec_sequence, vec_len_sequence)):\n",
    "            if vec_len > 0:\n",
    "                i += vec_len\n",
    "                i_to = min(int(i), seq_sublv.shape[0])\n",
    "                assert i_from >= 0, i_from\n",
    "                assert i_to >= i_from, (i_to, i_from)\n",
    "                assert i_to <= seq_sublv.shape[0], (i_to, seq_sublv.shape[0])\n",
    "                i_to2 = i_to\n",
    "                \n",
    "                if si_ind == sequence[-1]: # last element - span to the end (due to rounding sometimes i_to may not be exactly positioned at last index\n",
    "                    i_to2 = seq_sublv.shape[0]\n",
    "        \n",
    "                pts = pt + (np.arange(1, i_to2 - i_from + 1) * norm_vec[np.newaxis,:].T).T # path interpolation\n",
    "                seq_sublv[i_from:i_to2] = pts\n",
    "                pt = pts[-1]\n",
    "            \n",
    "            i_from = i_to\n",
    "        \n",
    "            if i_to >= seq_sublv.shape[0]:\n",
    "                break\n",
    "        \n",
    "        if i_from < seq_sublv.shape[0] and i_from > 0:\n",
    "            seq_sublv[i_from:] = seq_sublv[i_from-1]\n",
    "    \n",
    "    return seq_lv.ravel()"
   ]
  },
  {
   "cell_type": "markdown",
   "id": "bbcd593f-bcfb-41ed-b0c8-b1fa5b4a9b6f",
   "metadata": {},
   "source": [
    "## calc_seq_latent_vector"
   ]
  },
  {
   "cell_type": "code",
   "execution_count": 18,
   "id": "7434264d-b9de-47bf-b213-8fcb8924a211",
   "metadata": {},
   "outputs": [],
   "source": [
    "def calc_seq_latent_vector4(sequence, si_ind_dict):\n",
    "    xy_sequence = get_xy_sequence(sequence, si_ind_dict)\n",
    "    vec_sequence = np.array(list(map(lambda xy_pair: (xy_pair[1][0] - xy_pair[0][0], xy_pair[1][1] - xy_pair[0][1]), \n",
    "                                     zip(xy_sequence, np.roll(xy_sequence, -1, axis=0)))))\n",
    "    vec_sequence[-1,:] = 0 # get rid of reciprocal vector which connects tail to tip\n",
    "    vec_len_sequence = np.linalg.norm(vec_sequence, axis=1)\n",
    "    vec_len_sequence_nozero = np.where(vec_len_sequence != 0, vec_len_sequence, 1e-6) # prevent 0 len vectors\n",
    "    norm_vec_sequence = (vec_sequence.T / vec_len_sequence_nozero).T\n",
    "    \n",
    "    assert sequence.shape[0] == vec_sequence.shape[0]\n",
    "    assert sequence.shape[0] == vec_len_sequence.shape[0]\n",
    "    assert sequence.shape[0] == norm_vec_sequence.shape[0]\n",
    "\n",
    "    seq_len = vec_len_sequence[vec_len_sequence <= 10].sum() # consider only intraseq \n",
    "    seq_lv = np.zeros((SEQ_LV_LEN, 3))\n",
    "    assert seq_len <= seq_lv.shape[0] # TODO: weak point if e.g. there is only one but very long sequence, think about it\n",
    "    k = seq_lv.shape[0] / seq_len\n",
    "    \n",
    "    i = 0\n",
    "    i_from = 0\n",
    "    i_to = 0\n",
    "    pt = np.array([0, 0])\n",
    "        \n",
    "    for j, (si_ind, norm_vec, vec_len) in enumerate(zip(sequence, norm_vec_sequence, vec_len_sequence)):\n",
    "        if vec_len > 10:\n",
    "            # interseq jump\n",
    "            pt = pt + k * norm_vec * vec_len\n",
    "            continue\n",
    "        \n",
    "        if vec_len > 0:\n",
    "            i += vec_len\n",
    "            i_to = min(int(i * k), seq_lv.shape[0])\n",
    "            assert i_from >= 0, i_from\n",
    "            assert i_to >= i_from, (i_to, i_from)\n",
    "            assert i_to <= seq_lv.shape[0], (i_to, seq_lv.shape[0])\n",
    "            i_to2 = i_to\n",
    "            \n",
    "            if si_ind == sequence[-1]: # last element - span to the end (due to rounding sometimes i_to may not be exactly positioned at last index\n",
    "                i_to2 = seq_lv.shape[0]\n",
    "\n",
    "            pts = pt + (np.arange(1, i_to2 - i_from + 1) * norm_vec[np.newaxis,:].T).T # path interpolation\n",
    "            seq_lv[i_from:i_to2,0:2] = pts\n",
    "            seq_lv[i_from:i_to2,2] = 1 # TODO: get rid of\n",
    "            pt = pts[-1]\n",
    "    \n",
    "        if i_to >= seq_lv.shape[0]:\n",
    "            # Sometimes we may get si_inds with equal (x, y). This is due to resolution issues from hires to lores\n",
    "            # (i.e. (x2, y2) for such si actually differ). \n",
    "            # assert ((si_ind == sequence[-1]) or (all(map(lambda l: l == 0, vec_len_sequence[j+1:])))), (si_ind, sequence[-1])\n",
    "            break\n",
    "    \n",
    "        i_from = i_to\n",
    "\n",
    "    return seq_lv.ravel()"
   ]
  },
  {
   "cell_type": "code",
   "execution_count": 19,
   "id": "cd5e20a9-10c1-4ce7-9373-82a12f4ce838",
   "metadata": {},
   "outputs": [],
   "source": [
    "def calc_seq_latent_vector3(sequence, si_ind_dict):\n",
    "    xy_sequence = get_xy_sequence(sequence, si_ind_dict)\n",
    "    vec_sequence = np.array(list(map(lambda xy_pair: (xy_pair[1][0] - xy_pair[0][0], xy_pair[1][1] - xy_pair[0][1]), \n",
    "                                     zip(xy_sequence, np.roll(xy_sequence, -1, axis=0)))))\n",
    "    vec_sequence[-1,:] = 0 # get rid of reciprocal vector which connects tail to tip\n",
    "    vec_len_sequence = np.linalg.norm(vec_sequence, axis=1)\n",
    "    vec_len_sequence_nozero = np.where(vec_len_sequence != 0, vec_len_sequence, 1e-6) # prevent 0 len vectors\n",
    "    norm_vec_sequence = (vec_sequence.T / vec_len_sequence_nozero).T\n",
    "    \n",
    "    assert sequence.shape[0] == vec_sequence.shape[0]\n",
    "    assert sequence.shape[0] == vec_len_sequence.shape[0]\n",
    "    assert sequence.shape[0] == norm_vec_sequence.shape[0]\n",
    "\n",
    "    seq_len = vec_len_sequence.sum()\n",
    "    seq_lv = np.zeros((SEQ_LV_LEN, 3))\n",
    "    assert seq_len <= seq_lv.shape[0] # TODO: weak point if e.g. there is only one but very long sequence, think about it\n",
    "    k = seq_lv.shape[0] / seq_len\n",
    "    \n",
    "    i = 0\n",
    "    i_from = 0\n",
    "    i_to = 0\n",
    "    pt = np.array([0, 0])\n",
    "        \n",
    "    for j, (si_ind, norm_vec, vec_len) in enumerate(zip(sequence, norm_vec_sequence, vec_len_sequence)):\n",
    "        if vec_len > 0:\n",
    "            i += vec_len\n",
    "            i_to = min(int(i * k), seq_lv.shape[0])\n",
    "            assert i_from >= 0, i_from\n",
    "            assert i_to >= i_from, (i_to, i_from)\n",
    "            assert i_to <= seq_lv.shape[0], (i_to, seq_lv.shape[0])\n",
    "            is_interseq_jump = vec_len > 10\n",
    "            i_to2 = i_to\n",
    "            \n",
    "            if si_ind == sequence[-1]: # last element - span to the end (due to rounding sometimes i_to may not be exactly positioned at last index\n",
    "                i_to2 = seq_lv.shape[0]\n",
    "\n",
    "            pts = pt + (np.arange(1, i_to2 - i_from + 1) * norm_vec[np.newaxis,:].T).T\n",
    "            seq_lv[i_from:i_to2,0:2] = pts\n",
    "            seq_lv[i_from:i_to2,2] = -1 if is_interseq_jump else +1\n",
    "            pt = pts[-1]\n",
    "    \n",
    "        if i_to >= seq_lv.shape[0]:\n",
    "            # Sometimes we may get si_inds with equal (x, y). This is due to resolution issues from hires to lores\n",
    "            # (i.e. (x2, y2) for such si actually differ). \n",
    "            assert ((si_ind == sequence[-1]) or (all(map(lambda l: l == 0, vec_len_sequence[j+1:])))) , (si_ind, sequence[-1])\n",
    "            break\n",
    "    \n",
    "        i_from = i_to\n",
    "\n",
    "    return seq_lv.ravel()"
   ]
  },
  {
   "cell_type": "code",
   "execution_count": 20,
   "id": "592adece-17f2-4f63-b43c-97cfc7c1a8c5",
   "metadata": {},
   "outputs": [],
   "source": [
    "def calc_seq_latent_vector2(sequence, si_ind_dict):\n",
    "    xy_sequence = get_xy_sequence(sequence, si_ind_dict)\n",
    "    vec_sequence = np.array(list(map(lambda xy_pair: (xy_pair[1][0] - xy_pair[0][0], xy_pair[1][1] - xy_pair[0][1]), \n",
    "                                     zip(xy_sequence, np.roll(xy_sequence, -1, axis=0)))))\n",
    "    vec_sequence[-1,:] = 0 # get rid of reciprocal vector which connects tail to tip\n",
    "    vec_len_sequence = np.linalg.norm(vec_sequence, axis=1)\n",
    "    vec_len_sequence_nozero = np.where(vec_len_sequence != 0, vec_len_sequence, 1e-6) # prevent 0 len vectors\n",
    "    norm_vec_sequence = (vec_sequence.T / vec_len_sequence_nozero).T\n",
    "    \n",
    "    assert sequence.shape[0] == vec_sequence.shape[0]\n",
    "    assert sequence.shape[0] == vec_len_sequence.shape[0]\n",
    "    assert sequence.shape[0] == norm_vec_sequence.shape[0]\n",
    "\n",
    "    seq_len = vec_len_sequence.sum()\n",
    "    seq_lv = np.zeros((SEQ_LV_LEN, 3))\n",
    "    assert seq_len <= seq_lv.shape[0] # TODO: weak point if e.g. there is only one but very long sequence, think about it\n",
    "    k = seq_lv.shape[0] / seq_len\n",
    "    \n",
    "    i = 0\n",
    "    i_from = 0\n",
    "    i_to = 0\n",
    "    \n",
    "    for j, (si_ind, norm_vec, vec_len) in enumerate(zip(sequence, norm_vec_sequence, vec_len_sequence)):\n",
    "        if vec_len > 0:\n",
    "            i += vec_len\n",
    "            i_to = min(int(i * k), seq_lv.shape[0])\n",
    "            assert i_from >= 0, i_from\n",
    "            assert i_to >= i_from, (i_to, i_from)\n",
    "            assert i_to <= seq_lv.shape[0], (i_to, seq_lv.shape[0])\n",
    "            is_interseq_jump = vec_len > 10\n",
    "            norm_vec = np.hstack([norm_vec, -1 if is_interseq_jump else +1])\n",
    "        \n",
    "            if si_ind == sequence[-1]: # last element - span to the end (due to rounding sometimes i_to may not be exactly positioned at last index\n",
    "                seq_lv[i_from:] = norm_vec\n",
    "            else:\n",
    "                seq_lv[i_from:i_to] = norm_vec\n",
    "    \n",
    "        if i_to >= seq_lv.shape[0]:\n",
    "            # Sometimes we may get si_inds with equal (x, y). This is due to resolution issues from hires to lores\n",
    "            # (i.e. (x2, y2) for such si actually differ). \n",
    "            assert ((si_ind == sequence[-1]) or (all(map(lambda l: l == 0, vec_len_sequence[j+1:])))) , (si_ind, sequence[-1])\n",
    "            break\n",
    "    \n",
    "        i_from = i_to\n",
    "\n",
    "    return seq_lv.ravel()"
   ]
  },
  {
   "cell_type": "code",
   "execution_count": 21,
   "id": "45a0387c-f680-48da-87e7-097205cb46be",
   "metadata": {},
   "outputs": [],
   "source": [
    "def calc_seq_latent_vector1(sequence, si_ind_dict):\n",
    "    xy_sequence = get_xy_sequence(sequence, si_ind_dict)\n",
    "    # vec_sequence = np.array(list(map(lambda xy_pair: (xy_pair[1][0] - xy_pair[0][0], xy_pair[1][1] - xy_pair[0][1]), \n",
    "    #                                  zip(xy_sequence, np.vstack([xy_sequence[1:], xy_sequence[:1]])))))\n",
    "    vec_sequence = np.array(list(map(lambda xy_pair: (xy_pair[1][0] - xy_pair[0][0], xy_pair[1][1] - xy_pair[0][1]), \n",
    "                                     zip(xy_sequence, np.roll(xy_sequence, -1, axis=0)))))\n",
    "    vec_sequence[-1,:] = 0 # get rid of reciprocal vector which connects tail to tip\n",
    "    vec_len_sequence = np.linalg.norm(vec_sequence, axis=1)\n",
    "    vec_len_sequence_nozero = np.where(vec_len_sequence != 0, vec_len_sequence, 1e-6) # prevent 0 len vectors\n",
    "    norm_vec_sequence = (vec_sequence.T / vec_len_sequence_nozero).T\n",
    "    \n",
    "    assert sequence.shape[0] == vec_sequence.shape[0]\n",
    "    assert sequence.shape[0] == vec_len_sequence.shape[0]\n",
    "    assert sequence.shape[0] == norm_vec_sequence.shape[0]\n",
    "\n",
    "    seq_len = vec_len_sequence.sum()\n",
    "    seq_lv = np.zeros((SEQ_LV_LEN, 3))\n",
    "    assert seq_len <= seq_lv.shape[0] # TODO: weak point if e.g. there is only one but very long sequence, think about it\n",
    "    k = seq_lv.shape[0] / seq_len\n",
    "    si_ind_to_phase = {}\n",
    "    \n",
    "    i = 0\n",
    "    i_from = 0\n",
    "    i_to = 0\n",
    "    \n",
    "    for j, (si_ind, norm_vec, vec_len) in enumerate(zip(sequence, norm_vec_sequence, vec_len_sequence)):\n",
    "        if vec_len > 0:\n",
    "            i += vec_len\n",
    "            i_to = min(int(i * k), seq_lv.shape[0])\n",
    "            assert i_from >= 0, i_from\n",
    "            assert i_to >= i_from, (i_to, i_from)\n",
    "            assert i_to <= seq_lv.shape[0], (i_to, seq_lv.shape[0])\n",
    "            is_interseq_jump = vec_len > 10\n",
    "            norm_vec = np.hstack([norm_vec, -1 if is_interseq_jump else +1])\n",
    "        \n",
    "            if si_ind == sequence[-1]: # last element - span to the end (due to rounding sometimes i_to may not be exactly positioned at last index\n",
    "                seq_lv[i_from:] = norm_vec\n",
    "            else:\n",
    "                seq_lv[i_from:i_to] = norm_vec\n",
    "    \n",
    "        si_ind_to_phase[si_ind] = i_from * 3\n",
    "        \n",
    "        if i_to >= seq_lv.shape[0]:\n",
    "            # Sometimes we may get si_inds with equal (x, y). This is due to resolution issues from hires to lores\n",
    "            # (i.e. (x2, y2) for such si actually differ). \n",
    "            assert ((si_ind == sequence[-1]) or (all(map(lambda l: l == 0, vec_len_sequence[j+1:])))) , (si_ind, sequence[-1])\n",
    "            remaining_si_inds = sequence[j+1:]\n",
    "            si_ind_to_phase.update(map(lambda si_ind: (si_ind, i_from * 3), remaining_si_inds))\n",
    "            break\n",
    "    \n",
    "        i_from = i_to\n",
    "\n",
    "    return seq_lv.ravel(), si_ind_to_phase"
   ]
  },
  {
   "cell_type": "markdown",
   "id": "1bcd2caf-fa27-44ff-81de-d48c30bac1c8",
   "metadata": {},
   "source": [
    "## create_engram"
   ]
  },
  {
   "cell_type": "code",
   "execution_count": 22,
   "id": "3a7d8bbe-f3d9-4e61-8d10-6af079e1a910",
   "metadata": {},
   "outputs": [],
   "source": [
    "def create_engram(df_image, matchee=None):\n",
    "    si_ind_dict = pickle.loads(df_image['inner_si_ind_dict'])\n",
    "    sequences = pickle.loads(df_image['inner_sequences'])\n",
    "    sequences = sequences[:SEQ_SUBLVS_COUNT] # TODO: cope somehow with more thatn SEQ_SUBLV_COUNT, e.g. generate several seq_lvs\n",
    "    seq_readings = [tuple(zip(range(len(sequences)), (0,) * len(sequences)))] # default reading\n",
    "    engram_id = next(ENGRAM_ID_SOURCE)\n",
    "    seq_sublv_cache = {}\n",
    "    \n",
    "    for seq_reading in seq_readings:\n",
    "        sequences_reading = get_sequences_reading(sequences, seq_reading)\n",
    "        seq_lv = calc_seqs_latent_vector(sequences_reading, si_ind_dict, seq_sublv_cache)\n",
    "\n",
    "        ones_count = (seq_lv != 0).sum()\n",
    "        # w_vec = np.zeros_like(seq_lv, dtype='f')\n",
    "        # w_vec[seq_lv != 0] = 1\n",
    "    \n",
    "        seq_lv_ind = SEQ_LVS.lease()\n",
    "        SEQ_LVS.array_active[seq_lv_ind] = xp_array_to_gpu(seq_lv / np.linalg.norm(seq_lv))\n",
    "        \n",
    "        seq_lv_meta = SeqLatentVecMeta(engram_id=engram_id, \n",
    "                                       seq_reading=seq_reading, \n",
    "                                       seq=get_sequence(sequences_reading), \n",
    "                                       seq_lv_ind=seq_lv_ind,\n",
    "                                       seq_lv_orig=seq_lv,\n",
    "                                       seq_lv_upd=seq_lv,\n",
    "                                       ones_count=ones_count,\n",
    "                                       history={})\n",
    "                                       #w_vec=w_vec)\n",
    "        SEQ_LV_IND_TO_META[seq_lv_ind] = seq_lv_meta\n",
    "        \n",
    "    return Engram(engram_id=engram_id, image_id=int(int(df_image.name)), value=df_image['value'], seq_lv_inds=[seq_lv_ind], si_ind_dict=si_ind_dict)"
   ]
  },
  {
   "cell_type": "code",
   "execution_count": 23,
   "id": "4352112f-1f6a-4b44-8308-9776be94f8ee",
   "metadata": {},
   "outputs": [],
   "source": [
    "def create_engram5(df_image, matchee=None):\n",
    "    si_ind_dict = pickle.loads(df_image['inner_si_ind_dict'])\n",
    "    sequences = pickle.loads(df_image['inner_sequences'])\n",
    "\n",
    "    if len(sequences) > SEQ_SUBLVS_COUNT:\n",
    "        seq_indices = RNG.choice(len(sequences), SEQ_SUBLVS_COUNT, replace=False)\n",
    "        # TODO: another implementation may be to take up to 4 sequences and all remaining as combined\n",
    "    else:\n",
    "        seq_indices = list(range(len(sequences)))\n",
    "        \n",
    "    assert len(seq_indices) <= SEQ_SUBLVS_COUNT\n",
    "\n",
    "    seq_lv_code = tuple(map(lambda seq_index: (seq_index, 0), seq_indices))\n",
    "    sequences_reading = list(map(lambda seq_ind_and_orient: sequences[seq_ind_and_orient[0]] if seq_ind_and_orient[1] == 0 else list(reversed(sequences[seq_ind_and_orient[0]])), seq_lv_code))\n",
    "    seq_lv, seq_lv2 = calc_seqs_latent_vector(sequences_reading, si_ind_dict)\n",
    "\n",
    "    seq_lv_ind = SEQ_LVS.lease()\n",
    "    SEQ_LVS.array_active[seq_lv_ind] = xp_array_to_gpu(seq_lv)\n",
    "    \n",
    "    # assert SEQ_LVS2.lease() == seq_lv_ind\n",
    "    # SEQ_LVS2.array_active[seq_lv_ind] = seq_lv2\n",
    "        \n",
    "    engram_id = next(ENGRAM_ID_SOURCE)\n",
    "    seq_lv_meta = SeqLatentVecMeta(engram_id=engram_id, phase=0, seq_lv_code=seq_lv_code, seq=get_sequence(sequences), seq_lv_ind=seq_lv_ind)\n",
    "    SEQ_LV_IND_TO_META[seq_lv_ind] = seq_lv_meta\n",
    "        \n",
    "    return Engram(engram_id=engram_id, image_id=int(int(df_image.name)), value=df_image['value'], seq_lv_inds=[seq_lv_ind], si_ind_dict=si_ind_dict)"
   ]
  },
  {
   "cell_type": "code",
   "execution_count": 24,
   "id": "0a0e5b7d-2e9a-42db-9fff-03b94dc1d715",
   "metadata": {},
   "outputs": [],
   "source": [
    "def create_engram4(df_image, matchee=None):\n",
    "    si_ind_dict = pickle.loads(df_image['inner_si_ind_dict'])\n",
    "    sequences = pickle.loads(df_image['inner_sequences'])\n",
    "    seq_lv_codes = []\n",
    "    seq_lvs = []\n",
    "    seq_lvs2 = []\n",
    "    seqs = []\n",
    "\n",
    "    if matchee is None:\n",
    "        # Persist various readings of sequences\n",
    "        if len(sequences) > SEQ_SUBLVS_COUNT:\n",
    "            seq_indices = RNG.choice(len(sequences), SEQ_SUBLVS_COUNT, replace=False)\n",
    "            # TODO: another implementation may be to take up to 4 sequences and all remaining as combined\n",
    "        else:\n",
    "            seq_indices = list(range(len(sequences)))\n",
    "            \n",
    "        assert len(seq_indices) <= SEQ_SUBLVS_COUNT\n",
    "    \n",
    "        for perm_seq_indices in itertools.permutations(seq_indices, len(seq_indices)):\n",
    "            for seq_orientation in itertools.product(range(2), repeat=len(seq_indices)):\n",
    "                seq_lv_codes.append(tuple(zip(perm_seq_indices, seq_orientation)))\n",
    "\n",
    "        for seq_lv_code in seq_lv_codes:\n",
    "            sequences_reading = list(map(lambda seq_ind_and_orient: sequences[seq_ind_and_orient[0]] if seq_ind_and_orient[1] == 0 else list(reversed(sequences[seq_ind_and_orient[0]])), seq_lv_code))\n",
    "            seq_lv, seq_lv2 = calc_seqs_latent_vector(sequences_reading, si_ind_dict)\n",
    "            seq_lvs.append(seq_lv)\n",
    "            seq_lvs2.append(seq_lv2)\n",
    "            seqs.append(get_sequence(sequences_reading))\n",
    "    else:\n",
    "        seq_lv_codes = matchee.seq_lv_codes\n",
    "        seq_lvs = matchee.seq_lvs\n",
    "        seq_lvs2 = matchee.seq_lvs2\n",
    "        seqs = matchee.seqs\n",
    "    \n",
    "    engram_id = next(ENGRAM_ID_SOURCE)\n",
    "    seq_lv_inds = []\n",
    "    \n",
    "    for seq_lv_code, seq_lv, seq_lv2, seq in zip(seq_lv_codes, seq_lvs, seq_lvs2, seqs):\n",
    "        seq_lv_ind = SEQ_LVS.lease()\n",
    "        SEQ_LVS.array_active[seq_lv_ind] = xp_array_to_gpu(seq_lv)\n",
    "        \n",
    "        # assert SEQ_LVS2.lease() == seq_lv_ind\n",
    "        # SEQ_LVS2.array_active[seq_lv_ind] = seq_lv2\n",
    "            \n",
    "        seq_lv_meta = SeqLatentVecMeta(engram_id=engram_id, phase=0, seq_lv_code=seq_lv_code, seq=seq, seq_lv_ind=seq_lv_ind)\n",
    "        SEQ_LV_IND_TO_META[seq_lv_ind] = seq_lv_meta\n",
    "        seq_lv_inds.append(seq_lv_ind)\n",
    "        \n",
    "    return Engram(engram_id=engram_id, image_id=int(int(df_image.name)), value=df_image['value'], seq_lv_inds=seq_lv_inds, si_ind_dict=si_ind_dict)"
   ]
  },
  {
   "cell_type": "code",
   "execution_count": 25,
   "id": "6b0f267c-904d-46c8-9fd8-52af04af97c8",
   "metadata": {},
   "outputs": [],
   "source": [
    "def create_engram3(df_image):\n",
    "    si_ind_dict = pickle.loads(df_image['inner_si_ind_dict'])\n",
    "    sequences = pickle.loads(df_image['inner_sequences'])\n",
    "    engram_id = next(ENGRAM_ID_SOURCE)\n",
    "    seq_lv_inds = []\n",
    "\n",
    "    # Persist various readings of sequences\n",
    "    if len(sequences) > SEQ_SUBLVS_COUNT:\n",
    "        seq_indices = RNG.choice(len(sequences), SEQ_SUBLVS_COUNT, replace=False)\n",
    "        # TODO: another implementation may be to take up to 4 sequences and all remaining as combined\n",
    "    else:\n",
    "        seq_indices = list(range(len(sequences)))\n",
    "        \n",
    "    assert len(seq_indices) <= SEQ_SUBLVS_COUNT\n",
    "    \n",
    "    seq_lv_codes = []\n",
    "\n",
    "    for perm_seq_indices in itertools.permutations(seq_indices, len(seq_indices)):\n",
    "        for seq_orientation in itertools.product(range(2), repeat=len(seq_indices)):\n",
    "            seq_lv_codes.append(tuple(zip(perm_seq_indices, seq_orientation)))\n",
    "\n",
    "    # for perm_seq_indices in itertools.permutations(seq_indices, len(seq_indices)):\n",
    "    #     seq_lv_codes.append(tuple(zip(perm_seq_indices, (0,) * len(seq_indices))))\n",
    "    \n",
    "    # for seq_orientation in itertools.product(range(2), repeat=len(seq_indices)):\n",
    "    #     seq_lv_codes.append(list(zip(seq_indices, seq_orientation)))\n",
    "    \n",
    "    for seq_lv_code in seq_lv_codes:\n",
    "        sequences_reading = list(map(lambda seq_ind_and_orient: sequences[seq_ind_and_orient[0]] if seq_ind_and_orient[1] == 0 else list(reversed(sequences[seq_ind_and_orient[0]])), seq_lv_code))\n",
    "        seq_lv = calc_seqs_latent_vector(sequences_reading, si_ind_dict)\n",
    "\n",
    "        seq_lv_ind = SEQ_LVS_COS_SIM.lease()\n",
    "        SEQ_LVS_COS_SIM.array_active[seq_lv_ind] = seq_lv\n",
    "        assert SEQ_LVS_DIFF_SQ.lease() == seq_lv_ind\n",
    "        SEQ_LVS_DIFF_SQ.array_active[seq_lv_ind] = np.hstack([seq_lv ** 2, np.full_like(seq_lv, 1, dtype=seq_lv.dtype)])\n",
    "        \n",
    "        seq_lv_meta = SeqLatentVecMeta(engram_id=engram_id, phase=0, seq_lv_code=seq_lv_code, seq=get_sequence(sequences_reading), seq_lv_ind=seq_lv_ind)\n",
    "        SEQ_LV_IND_TO_META[seq_lv_ind] = seq_lv_meta\n",
    "        seq_lv_inds.append(seq_lv_ind)\n",
    "        \n",
    "    return Engram(engram_id=engram_id, image_id=int(int(df_image.name)), value=df_image['value'], seq_lv_inds=seq_lv_inds, si_ind_dict=si_ind_dict)"
   ]
  },
  {
   "cell_type": "code",
   "execution_count": 26,
   "id": "bd92c017-8caf-4786-bd4e-e6b31cd87f59",
   "metadata": {},
   "outputs": [],
   "source": [
    "def create_engram2(df_image):\n",
    "    si_ind_dict = pickle.loads(df_image['inner_si_ind_dict'])\n",
    "    sequences = pickle.loads(df_image['inner_sequences'])\n",
    "    sequence = get_sequence(sequences) # assemble default sequence\n",
    "    engram_id = next(ENGRAM_ID_SOURCE)\n",
    "    seq_lv_inds = []\n",
    "    \n",
    "    # Phasing (for sequences near to circular) + persisting\n",
    "    for i, si_ind in enumerate(sequence):\n",
    "        seq = np.roll(sequence, -i, axis=0)\n",
    "        seq_lv = calc_seq_latent_vector(seq, si_ind_dict)\n",
    "        # seq_lv_ind = SEQ_LVS.lease()\n",
    "        # SEQ_LVS.array_active[seq_lv_ind] = phased_seq_lv\n",
    "        \n",
    "        seq_lv_ind = SEQ_LVS_COS_SIM.lease()\n",
    "        SEQ_LVS_COS_SIM.array_active[seq_lv_ind] = seq_lv\n",
    "        # assert SEQ_LVS_CORR.lease() == seq_lv_ind\n",
    "        # SEQ_LVS_CORR.array_active[seq_lv_ind] = (phased_seq_lv - phased_seq_lv.mean()) / phased_seq_lv.std()\n",
    "        assert SEQ_LVS_DIFF_SQ.lease() == seq_lv_ind\n",
    "        SEQ_LVS_DIFF_SQ.array_active[seq_lv_ind] = np.hstack([seq_lv ** 2, np.full_like(seq_lv, 1, dtype=seq_lv.dtype)])\n",
    "        \n",
    "        seq_lv_meta = SeqLatentVecMeta(engram_id=engram_id, phase=i, seq=seq, seq_lv_ind=seq_lv_ind)\n",
    "        SEQ_LV_IND_TO_META[seq_lv_ind] = seq_lv_meta\n",
    "        seq_lv_inds.append(seq_lv_ind)\n",
    "        \n",
    "    return Engram(engram_id=engram_id, image_id=int(int(df_image.name)), value=df_image['value'], seq_lv_inds=seq_lv_inds, si_ind_dict=si_ind_dict)"
   ]
  },
  {
   "cell_type": "code",
   "execution_count": 27,
   "id": "3df83021-a959-49ea-8380-3806d2dba112",
   "metadata": {},
   "outputs": [],
   "source": [
    "# def create_engram(df_image):\n",
    "#     image_id = int(df_image.name)\n",
    "#     si_ind_dict = pickle.loads(df_image['inner_si_ind_dict'])\n",
    "#     sequences = pickle.loads(df_image['inner_sequences'])\n",
    "#     sequence = get_sequence(sequences) # assembly default sequence\n",
    "#     engram_id = next(ENGRAM_ID_SOURCE)\n",
    "#     seq_lv_inds = []\n",
    "    \n",
    "#     # Phasing (for sequences near to circular) + persisting\n",
    "#     for i, si_ind in enumerate(sequence):\n",
    "#         seq = np.roll(sequence, -i, axis=0)\n",
    "#         seq_lv = calc_seq_latent_vector(seq, si_ind_dict)\n",
    "        \n",
    "#         phase = si_ind_to_phase[si_ind]\n",
    "#         phased_seq_lv = np.roll(seq_lv, -phase, axis=0)\n",
    "#         # seq_lv_ind = SEQ_LVS.lease()\n",
    "#         # SEQ_LVS.array_active[seq_lv_ind] = phased_seq_lv\n",
    "        \n",
    "#         seq_lv_ind = SEQ_LVS_COS_SIM.lease()\n",
    "#         SEQ_LVS_COS_SIM.array_active[seq_lv_ind] = phased_seq_lv\n",
    "#         # assert SEQ_LVS_CORR.lease() == seq_lv_ind\n",
    "#         # SEQ_LVS_CORR.array_active[seq_lv_ind] = (phased_seq_lv - phased_seq_lv.mean()) / phased_seq_lv.std()\n",
    "#         assert SEQ_LVS_DIFF_SQ.lease() == seq_lv_ind\n",
    "#         SEQ_LVS_DIFF_SQ.array_active[seq_lv_ind] = np.hstack([phased_seq_lv ** 2, np.full_like(phased_seq_lv, 1, dtype=phased_seq_lv.dtype)])\n",
    "        \n",
    "#         seq_lv_meta = SeqLatentVecMeta(engram_id=engram_id, phase=phase, seq=phased_seq, seq_lv_ind=seq_lv_ind)\n",
    "#         SEQ_LV_IND_TO_META[seq_lv_ind] = seq_lv_meta\n",
    "#         seq_lv_inds.append(seq_lv_ind)\n",
    "        \n",
    "#     return Engram(engram_id=engram_id, image_id=int(image_id), value=df_image['value'], seq_lv_inds=seq_lv_inds, si_ind_dict=si_ind_dict)"
   ]
  },
  {
   "cell_type": "markdown",
   "id": "6616691b-7eaf-4493-9783-c76207a05aad",
   "metadata": {},
   "source": [
    "## create_matchee"
   ]
  },
  {
   "cell_type": "code",
   "execution_count": 28,
   "id": "9b5f846b-ddba-45b2-a2a3-c1d4f863a896",
   "metadata": {},
   "outputs": [],
   "source": [
    "def create_matchee(df_image, seq_reading=None):\n",
    "    si_ind_dict = pickle.loads(df_image['inner_si_ind_dict'])\n",
    "    sequences = pickle.loads(df_image['inner_sequences'])\n",
    "    \n",
    "    # Take up to 5 sequences. More than 5 explodes too fast. Close to Miller's number (https://en.wikipedia.org/wiki/The_Magical_Number_Seven,_Plus_or_Minus_Two)\n",
    "    # Count of variants = (seqs_count)! * 2^seqs_count\n",
    "    # seqs_count | variant_counts\n",
    "    # ______________________\n",
    "    # 1          | 2\n",
    "    # 2          | 8\n",
    "    # 3          | 42\n",
    "    # 4          | 384\n",
    "    # 5          | 3840\n",
    "    # 6          | 46080\n",
    "    # 7          | 645120\n",
    "    \n",
    "    if len(sequences) > SEQ_SUBLVS_COUNT:\n",
    "        seq_indices = RNG.choice(len(sequences), SEQ_SUBLVS_COUNT, replace=False)\n",
    "        # TODO: another implementation may be to take up to 4 sequences and all remaining as combined\n",
    "    else:\n",
    "        seq_indices = list(range(len(sequences)))\n",
    "        \n",
    "    assert len(seq_indices) <= SEQ_SUBLVS_COUNT\n",
    "    seq_readings = []\n",
    "\n",
    "    if seq_reading is None:\n",
    "        for perm_seq_indices in itertools.permutations(seq_indices, len(seq_indices)):\n",
    "            for seq_orientation in itertools.product(range(2), repeat=len(seq_indices)):\n",
    "                seq_readings.append(tuple(zip(perm_seq_indices, seq_orientation)))\n",
    "    else:\n",
    "        seq_readings.append(seq_reading)\n",
    "\n",
    "    seq_sublv_cache = {}\n",
    "    seqs, seq_lvs = [], []\n",
    "    \n",
    "    for seq_reading in seq_readings:\n",
    "        sequences_reading = get_sequences_reading(sequences, seq_reading)\n",
    "        seq_lv = calc_seqs_latent_vector(sequences_reading, si_ind_dict, seq_sublv_cache)\n",
    "        seqs.append(get_sequence(sequences_reading))\n",
    "        seq_lvs.append(seq_lv)\n",
    "\n",
    "    seq_lvs_norm = xp.array(seq_lvs)\n",
    "    seq_lvs_norm = (seq_lvs_norm.T / xp.linalg.norm(seq_lvs_norm, axis=1)).T\n",
    "    return Matchee(seqs=seqs, seq_lvs=seq_lvs_norm, seq_lvs_orig=seq_lvs, seq_readings=seq_readings, si_ind_dict=si_ind_dict)"
   ]
  },
  {
   "cell_type": "code",
   "execution_count": 29,
   "id": "7065d4be-19d9-496e-9d72-9ac22e31651d",
   "metadata": {},
   "outputs": [],
   "source": [
    "def create_matchee3(df_image, seq_lv_code=None):\n",
    "    si_ind_dict = pickle.loads(df_image['inner_si_ind_dict'])\n",
    "    sequences = pickle.loads(df_image['inner_sequences'])\n",
    "    # matchee = Matchee(seqs=[], seq_lvs=[], seq_lv_codes=[], si_ind_dict=si_ind_dict)\n",
    "    # matchee = Matchee(seqs=[], seq_lvs_cos_sim=[], seq_lvs_corr=[], seq_lvs_diff_sq=[], seq_lv_codes=[], si_ind_dict=si_ind_dict)\n",
    "    matchee = Matchee(seqs=[], seq_lvs_cos_sim=[], seq_lvs_diff_sq=[], seq_lv_codes=[], si_ind_dict=si_ind_dict)\n",
    "    \n",
    "    # Take up to 5 sequences. More than 5 explodes too fast. Close to Miller's number (https://en.wikipedia.org/wiki/The_Magical_Number_Seven,_Plus_or_Minus_Two)\n",
    "    # Count of variants = (seqs_count)! * 2^seqs_count\n",
    "    # seqs_count | variant_counts\n",
    "    # ______________________\n",
    "    # 1          | 2\n",
    "    # 2          | 8\n",
    "    # 3          | 42\n",
    "    # 4          | 384\n",
    "    # 5          | 3840\n",
    "    # 6          | 46080\n",
    "    # 7          | 645120\n",
    "    \n",
    "    MAX_SEQUENCES_COUNT = 5\n",
    "\n",
    "    if len(sequences) > MAX_SEQUENCES_COUNT:\n",
    "        seq_indices = RNG.choice(len(sequences), MAX_SEQUENCES_COUNT, replace=False)\n",
    "        # TODO: another implementation may be to take up to 4 sequences and all remaining as combined\n",
    "    else:\n",
    "        seq_indices = list(range(len(sequences)))\n",
    "        \n",
    "    assert len(seq_indices) <= MAX_SEQUENCES_COUNT\n",
    "\n",
    "    if seq_lv_code is None:\n",
    "        for perm_seq_indices in itertools.permutations(seq_indices, len(seq_indices)):\n",
    "            for seq_orientation in itertools.product(range(2), repeat=len(seq_indices)):\n",
    "                matchee.seq_lv_codes.append(tuple(zip(perm_seq_indices, seq_orientation)))\n",
    "    else:\n",
    "        matchee.seq_lv_codes.append(seq_lv_code)\n",
    "    \n",
    "    for seq_lv_code in matchee.seq_lv_codes:\n",
    "        sequences_reading = list(map(lambda seq_ind_and_orient: sequences[seq_ind_and_orient[0]] if seq_ind_and_orient[1] == 0 else list(reversed(sequences[seq_ind_and_orient[0]])), seq_lv_code))\n",
    "        seq_lv = calc_seqs_latent_vector(sequences_reading, si_ind_dict)\n",
    "        matchee.seqs.append(get_sequence(sequences_reading))\n",
    "        # matchee.seq_lvs.append(seq_lv)\n",
    "        matchee.seq_lvs_cos_sim.append(seq_lv)\n",
    "        # matchee.seq_lvs_corr.append((seq_lv - seq_lv.mean()) / seq_lv.std())\n",
    "        matchee.seq_lvs_diff_sq.append(np.hstack([np.full_like(seq_lv, 1, dtype=seq_lv.dtype), seq_lv ** 2]))\n",
    "\n",
    "    # return matchee._replace(seq_lvs=np.array(matchee.seq_lvs))\n",
    "    # return matchee._replace(seq_lvs_cos_sim=np.array(matchee.seq_lvs_cos_sim), seq_lvs_corr=np.array(matchee.seq_lvs_corr), seq_lvs_diff_sq=np.array(matchee.seq_lvs_diff_sq))\n",
    "    return matchee._replace(seq_lvs_cos_sim=np.array(matchee.seq_lvs_cos_sim), seq_lvs_diff_sq=np.array(matchee.seq_lvs_diff_sq))"
   ]
  },
  {
   "cell_type": "code",
   "execution_count": 30,
   "id": "498a6442-fa2d-4f08-a2e2-a1105341dc79",
   "metadata": {},
   "outputs": [],
   "source": [
    "def create_matchee2(df_image, seq_lv_code=None):\n",
    "    si_ind_dict = pickle.loads(df_image['inner_si_ind_dict'])\n",
    "    sequences = pickle.loads(df_image['inner_sequences'])\n",
    "    # matchee = Matchee(seqs=[], seq_lvs=[], seq_lv_codes=[], si_ind_dict=si_ind_dict)\n",
    "    # matchee = Matchee(seqs=[], seq_lvs_cos_sim=[], seq_lvs_corr=[], seq_lvs_diff_sq=[], seq_lv_codes=[], si_ind_dict=si_ind_dict)\n",
    "    matchee = Matchee(seqs=[], seq_lvs_cos_sim=[], seq_lvs_diff_sq=[], seq_lv_codes=[], si_ind_dict=si_ind_dict)\n",
    "    \n",
    "    # Take up to 5 sequences. More than 5 explodes too fast. Close to Miller's number (https://en.wikipedia.org/wiki/The_Magical_Number_Seven,_Plus_or_Minus_Two)\n",
    "    # Count of variants = (seqs_count)! * 2^seqs_count\n",
    "    # seqs_count | variant_counts\n",
    "    # ______________________\n",
    "    # 1          | 2\n",
    "    # 2          | 8\n",
    "    # 3          | 42\n",
    "    # 4          | 384\n",
    "    # 5          | 3840\n",
    "    # 6          | 46080\n",
    "    # 7          | 645120\n",
    "    \n",
    "    MAX_SEQUENCES_COUNT = 5\n",
    "\n",
    "    if len(sequences) > MAX_SEQUENCES_COUNT:\n",
    "        seq_indices = RNG.choice(len(sequences), MAX_SEQUENCES_COUNT, replace=False)\n",
    "        # TODO: another implementation may be to take up to 4 sequences and all remaining as combined\n",
    "    else:\n",
    "        seq_indices = list(range(len(sequences)))\n",
    "        \n",
    "    assert len(seq_indices) <= MAX_SEQUENCES_COUNT\n",
    "\n",
    "    if seq_lv_code is None:\n",
    "        for perm_seq_indices in itertools.permutations(seq_indices, len(seq_indices)):\n",
    "            for seq_orientation in itertools.product(range(2), repeat=len(seq_indices)):\n",
    "                matchee.seq_lv_codes.append(tuple(zip(perm_seq_indices, seq_orientation)))\n",
    "    else:\n",
    "        matchee.seq_lv_codes.append(seq_lv_code)\n",
    "    \n",
    "    for seq_lv_code in matchee.seq_lv_codes:\n",
    "        maps = map(lambda seq_ind_and_orient: sequences[seq_ind_and_orient[0]] if seq_ind_and_orient[1] == 0 else reversed(sequences[seq_ind_and_orient[0]]), seq_lv_code)\n",
    "        sequence = np.array(list(itertools.chain.from_iterable(maps)))\n",
    "        # seq_lv, _ = calc_seq_latent_vector(sequence, si_ind_dict)\n",
    "        seq_lv = calc_seq_latent_vector(sequence, si_ind_dict)\n",
    "        matchee.seqs.append(sequence)\n",
    "        # matchee.seq_lvs.append(seq_lv)\n",
    "        matchee.seq_lvs_cos_sim.append(seq_lv)\n",
    "        # matchee.seq_lvs_corr.append((seq_lv - seq_lv.mean()) / seq_lv.std())\n",
    "        matchee.seq_lvs_diff_sq.append(np.hstack([np.full_like(seq_lv, 1, dtype=seq_lv.dtype), seq_lv ** 2]))\n",
    "\n",
    "    # return matchee._replace(seq_lvs=np.array(matchee.seq_lvs))\n",
    "    # return matchee._replace(seq_lvs_cos_sim=np.array(matchee.seq_lvs_cos_sim), seq_lvs_corr=np.array(matchee.seq_lvs_corr), seq_lvs_diff_sq=np.array(matchee.seq_lvs_diff_sq))\n",
    "    return matchee._replace(seq_lvs_cos_sim=np.array(matchee.seq_lvs_cos_sim), seq_lvs_diff_sq=np.array(matchee.seq_lvs_diff_sq))"
   ]
  },
  {
   "cell_type": "markdown",
   "id": "30d3b10b-29ce-4315-9f0e-8def135669fc",
   "metadata": {},
   "source": [
    "## create_matchee_cached"
   ]
  },
  {
   "cell_type": "code",
   "execution_count": 194,
   "id": "5ef5ac17-5b2f-4457-830b-9d96e73fd37d",
   "metadata": {},
   "outputs": [],
   "source": [
    "MATCHEE_CACHE = {}"
   ]
  },
  {
   "cell_type": "code",
   "execution_count": 200,
   "id": "8e9fc9dd-8770-485d-8913-59d3600e1b82",
   "metadata": {},
   "outputs": [],
   "source": [
    "def create_matchee_cached(df_image, seq_reading=None):\n",
    "    image_id = int(df_image.name)\n",
    "    cache_key = (image_id, seq_reading)\n",
    "\n",
    "    if not cache_key in MATCHEE_CACHE:\n",
    "        MATCHEE_CACHE[cache_key] = create_matchee(df_image, seq_reading)\n",
    "\n",
    "    return MATCHEE_CACHE[cache_key]    "
   ]
  },
  {
   "cell_type": "markdown",
   "id": "bedd8cc4-68b5-4c0c-b71a-45c703123e9c",
   "metadata": {},
   "source": [
    "## get_match_tab"
   ]
  },
  {
   "cell_type": "code",
   "execution_count": 31,
   "id": "b6f6d912-cc2b-4415-9c24-c0cc2ed528e0",
   "metadata": {},
   "outputs": [],
   "source": [
    "def get_match_tab(matchee, inspect_depth=100):\n",
    "    match_tab_columns = defaultdict(list)\n",
    "    cos_sim_mat = SEQ_LVS.array_active @ matchee.seq_lvs.T\n",
    "    top_mat_indices = xp_array_from_gpu(xp.argsort(cos_sim_mat, axis=None)[-inspect_depth:])\n",
    "    cos_sims = xp_array_from_gpu(xp.take(cos_sim_mat, top_mat_indices))\n",
    "    top_mat_indices = np.flip(top_mat_indices)\n",
    "    cos_sims = np.flip(cos_sims)\n",
    "\n",
    "    for top_mat_index, cos_sim in zip(top_mat_indices, cos_sims):\n",
    "        i = top_mat_index // cos_sim_mat.shape[1]\n",
    "        j = top_mat_index % cos_sim_mat.shape[1]\n",
    "        seq_lv_meta = SEQ_LV_IND_TO_META[i]\n",
    "        engram = ENGRAMS[seq_lv_meta.engram_id]\n",
    "        match_tab_columns['cos_sim'].append(cos_sim)\n",
    "        match_tab_columns['cos_sim_thres'].append(seq_lv_meta.cos_sim_thres)\n",
    "        match_tab_columns['is_match'].append(cos_sim >= seq_lv_meta.cos_sim_thres)\n",
    "        match_tab_columns['engram_seq_lv_ind'].append(i)\n",
    "        match_tab_columns['engram_id'].append(engram.engram_id)\n",
    "        match_tab_columns['engram_value'].append(engram.value)\n",
    "        match_tab_columns['engram_image_id'].append(engram.image_id)  \n",
    "        match_tab_columns['engram_seq_reading'].append(seq_lv_meta.seq_reading)\n",
    "        match_tab_columns['engram_seq_lv_orig'].append(seq_lv_meta.seq_lv_orig)\n",
    "        match_tab_columns['matchee_seq_lv_ind'].append(j)\n",
    "        match_tab_columns['matchee_seq_reading'].append(matchee.seq_readings[j])\n",
    "        match_tab_columns['matchee_seq_lv_orig'].append(matchee.seq_lvs_orig[j])\n",
    "\n",
    "    return pd.DataFrame(match_tab_columns)"
   ]
  },
  {
   "cell_type": "code",
   "execution_count": 32,
   "id": "e71b559e-4481-4e84-b0e5-e9460f532b61",
   "metadata": {},
   "outputs": [],
   "source": [
    "def get_match_tab6(matchee, inspect_depth=100):\n",
    "    match_tab_columns = defaultdict(list)\n",
    "    cos_sim_mat = SEQ_LVS.array_active @ matchee.seq_lvs.T\n",
    "    top_mat_indices = xp_array_from_gpu(xp.argsort(cos_sim_mat, axis=None)[-inspect_depth:])\n",
    "    cos_sims = xp_array_from_gpu(xp.take(cos_sim_mat, top_mat_indices))\n",
    "    top_mat_indices = np.flip(top_mat_indices)\n",
    "    cos_sims = np.flip(cos_sims)\n",
    "\n",
    "    for top_mat_index, cos_sim in zip(top_mat_indices, cos_sims):\n",
    "        i = top_mat_index // cos_sim_mat.shape[1]\n",
    "        j = top_mat_index % cos_sim_mat.shape[1]\n",
    "        seq_lv_meta = SEQ_LV_IND_TO_META[i]\n",
    "        engram = ENGRAMS[seq_lv_meta.engram_id]\n",
    "\n",
    "        w_vec = seq_lv_meta.w_vec\n",
    "        engram_seq_lv_orig_w = seq_lv_meta.seq_lv_orig * w_vec\n",
    "        # matchee_seq_lv_orig_w = matchee.seq_lvs_orig[j] * w_vec\n",
    "        matchee_seq_lv_orig_w = matchee.seq_lvs_orig[j]\n",
    "        cos_sim_flt = engram_seq_lv_orig_w @ matchee_seq_lv_orig_w / (np.linalg.norm(engram_seq_lv_orig_w) * np.linalg.norm(matchee_seq_lv_orig_w)) \n",
    "        \n",
    "        match_tab_columns['engram_seq_lv_ind'].append(i)\n",
    "        match_tab_columns['matchee_seq_lv_ind'].append(j)\n",
    "        match_tab_columns['cos_sim'].append(cos_sim)\n",
    "        match_tab_columns['cos_sim_flt'].append(cos_sim_flt)\n",
    "        match_tab_columns['engram_id'].append(engram.engram_id)\n",
    "        match_tab_columns['engram_value'].append(engram.value)\n",
    "        match_tab_columns['engram_image_id'].append(engram.image_id)  \n",
    "        match_tab_columns['engram_seq_reading'].append(seq_lv_meta.seq_reading)\n",
    "        match_tab_columns['matchee_seq_reading'].append(matchee.seq_readings[j])\n",
    "        match_tab_columns['engram_seq_lv_orig'].append(seq_lv_meta.seq_lv_orig)\n",
    "        match_tab_columns['matchee_seq_lv_orig'].append(matchee.seq_lvs_orig[j])\n",
    "\n",
    "    res = pd.DataFrame(match_tab_columns)\n",
    "\n",
    "    if len(res) > 0:\n",
    "        res.sort_values(by=['cos_sim_flt'], ascending=False, inplace=True)\n",
    "\n",
    "    return res"
   ]
  },
  {
   "cell_type": "code",
   "execution_count": 33,
   "id": "624686ac-329b-41f9-9237-7b3632686b34",
   "metadata": {},
   "outputs": [],
   "source": [
    "def get_match_tab5(matchee, inspect_depth=100):\n",
    "    match_tab_columns = defaultdict(list)\n",
    "    # diff_mat = xp.zeros((SEQ_LVS.active_len, matchee.seq_lvs.shape[0]))\n",
    "\n",
    "    # for seq_lv_ind, seq_lv in enumerate(matchee.seq_lvs): # this is too slow\n",
    "    #     diffs = xp.sum(xp.absolute(SEQ_LVS.array_active - seq_lv), axis=1)\n",
    "    #     diff_mat[:,seq_lv_ind] = diffs\n",
    "    # diff_mat = xp.sum(xp.absolute(SEQ_LVS.array_active[:,np.newaxis,:] - matchee.seq_lvs), axis=-1) # this requires too much memory!!!\n",
    "    diff_mat = xp.zeros((SEQ_LVS.active_len, matchee.seq_lvs.shape[0]))\n",
    "\n",
    "    batch_size = SEQ_LVS.active_len if matchee.seq_lvs.shape[0] < 100 else 100\n",
    "    batch_size = max(100, batch_size)\n",
    "    \n",
    "    for i in range(0, SEQ_LVS.active_len, batch_size):\n",
    "        diff_submat = xp.sum(xp.absolute(SEQ_LVS.array_active[i:i+batch_size,np.newaxis,:] - matchee.seq_lvs), axis=-1)\n",
    "        diff_mat[i:i+batch_size] = diff_submat\n",
    "    \n",
    "    top_mat_indices = xp.argsort(diff_mat, axis=None)[-inspect_depth:]\n",
    "    diff_values = xp.take(diff_mat, top_mat_indices)\n",
    "\n",
    "    for top_mat_index, diff_value in zip(top_mat_indices, diff_values):\n",
    "        i = top_mat_index // diff_mat.shape[1]\n",
    "        j = top_mat_index % diff_mat.shape[1]\n",
    "        seq_lv_meta = SEQ_LV_IND_TO_META[i]\n",
    "        engram = ENGRAMS[seq_lv_meta.engram_id]\n",
    "        match_tab_columns['engram_seq_lv_ind'].append(i)\n",
    "        match_tab_columns['matchee_seq_lv_ind'].append(j)\n",
    "        # match_tab_columns['cos_sim'].append(cos_sim_value)\n",
    "        # match_tab_columns['diff'].append(diff)\n",
    "        # match_tab_columns['diff2'].append(diff)\n",
    "        match_tab_columns['diff3'].append(diff_value)\n",
    "        match_tab_columns['engram_id'].append(engram.engram_id)\n",
    "        match_tab_columns['engram_value'].append(engram.value)\n",
    "        match_tab_columns['engram_image_id'].append(engram.image_id)  \n",
    "        # match_tab_columns['engram_phase'].append(seq_lv_meta.phase)\n",
    "        match_tab_columns['engram_seq_lv_code'].append(seq_lv_meta.seq_lv_code)\n",
    "        match_tab_columns['matchee_seq_lv_code'].append(matchee.seq_lv_codes[j])\n",
    "    \n",
    "    return pd.DataFrame(match_tab_columns)"
   ]
  },
  {
   "cell_type": "code",
   "execution_count": 34,
   "id": "b7f92894-90af-4936-a850-9612eb228dea",
   "metadata": {},
   "outputs": [],
   "source": [
    "def get_match_tab4(matchee, inspect_depth=100, sort_by='diff2'):\n",
    "    match_tab_columns = defaultdict(list)\n",
    "    cos_sim_mat = SEQ_LVS.array_active @ matchee.seq_lvs.T\n",
    "    top_mat_indices = xp_array_from_gpu(xp.argsort(cos_sim_mat, axis=None)[-inspect_depth:])\n",
    "    cos_sim_values = xp_array_from_gpu(xp.take(cos_sim_mat, top_mat_indices))\n",
    "    top_mat_indices = np.flip(top_mat_indices)\n",
    "    cos_sim_values = np.flip(cos_sim_values)\n",
    "    \n",
    "    for top_mat_index, cos_sim_value in zip(top_mat_indices, cos_sim_values):\n",
    "        i = top_mat_index // cos_sim_mat.shape[1]\n",
    "        j = top_mat_index % cos_sim_mat.shape[1]\n",
    "        seq_lv_meta = SEQ_LV_IND_TO_META[i]\n",
    "        engram = ENGRAMS[seq_lv_meta.engram_id]\n",
    "        diff = np.sum(np.absolute(SEQ_LVS.array_active[i] - matchee.seq_lvs[j]))\n",
    "        diff2 = np.sum(np.absolute(SEQ_LVS2.array_active[i] - matchee.seq_lvs2[j]))\n",
    "        match_tab_columns['engram_seq_lv_ind'].append(i)\n",
    "        match_tab_columns['matchee_seq_lv_ind'].append(j)\n",
    "        match_tab_columns['cos_sim'].append(cos_sim_value)\n",
    "        match_tab_columns['diff'].append(diff)\n",
    "        match_tab_columns['diff2'].append(diff)\n",
    "        match_tab_columns['engram_id'].append(engram.engram_id)\n",
    "        match_tab_columns['engram_value'].append(engram.value)\n",
    "        match_tab_columns['engram_image_id'].append(engram.image_id)  \n",
    "        # match_tab_columns['engram_phase'].append(seq_lv_meta.phase)\n",
    "        match_tab_columns['engram_seq_lv_code'].append(seq_lv_meta.seq_lv_code)\n",
    "        match_tab_columns['matchee_seq_lv_code'].append(matchee.seq_lv_codes[j])\n",
    "    \n",
    "    df = pd.DataFrame(match_tab_columns)\n",
    "\n",
    "    if len(df) > 0 and sort_by != 'cos_sim':\n",
    "        df.sort_values(by=[sort_by], ascending=True, inplace=True)\n",
    "        \n",
    "    return df"
   ]
  },
  {
   "cell_type": "code",
   "execution_count": 35,
   "id": "585490a3-7876-48a1-8fbb-efff1a7fb3c9",
   "metadata": {},
   "outputs": [],
   "source": [
    "def get_match_tab3(matchee, inspect_depth=100):\n",
    "    match_tab_columns = defaultdict(list)\n",
    "    cos_sim_mat = SEQ_LVS.array_active @ matchee.seq_lvs.T\n",
    "    top_mat_indices = xp_array_from_gpu(xp.argsort(cos_sim_mat, axis=None)[-inspect_depth:])\n",
    "    cos_sim_values = xp_array_from_gpu(xp.take(cos_sim_mat, top_mat_indices))\n",
    "    top_mat_indices = np.flip(top_mat_indices)\n",
    "    cos_sim_values = np.flip(cos_sim_values)\n",
    "    \n",
    "    for top_mat_index, cos_sim_value in zip(top_mat_indices, cos_sim_values):\n",
    "        i = top_mat_index // cos_sim_mat.shape[1]\n",
    "        j = top_mat_index % cos_sim_mat.shape[1]\n",
    "        seq_lv_meta = SEQ_LV_IND_TO_META[i]\n",
    "        engram = ENGRAMS[seq_lv_meta.engram_id]\n",
    "        match_tab_columns['engram_seq_lv_ind'].append(i)\n",
    "        match_tab_columns['matchee_seq_lv_ind'].append(j)\n",
    "        match_tab_columns['cos_sim'].append(cos_sim_value)\n",
    "        match_tab_columns['engram_id'].append(engram.engram_id)\n",
    "        match_tab_columns['engram_value'].append(engram.value)\n",
    "        match_tab_columns['engram_image_id'].append(engram.image_id)  \n",
    "        match_tab_columns['engram_phase'].append(seq_lv_meta.phase)\n",
    "        match_tab_columns['engram_seq_lv_code'].append(seq_lv_meta.seq_lv_code)\n",
    "        match_tab_columns['matchee_seq_lv_code'].append(matchee.seq_lv_codes[j])\n",
    "    \n",
    "    return pd.DataFrame(match_tab_columns)"
   ]
  },
  {
   "cell_type": "code",
   "execution_count": 36,
   "id": "10f2bb10-32b4-409b-80a1-f516b40e321a",
   "metadata": {},
   "outputs": [],
   "source": [
    "def get_match_tab2(matchee, inspect_depth=100):\n",
    "    match_tab_columns = defaultdict(list)\n",
    "    dot_prod_mat = (SEQ_LVS_COS_SIM.array_active @ matchee.seq_lvs_cos_sim.T)\n",
    "    diff_sq_mat = (SEQ_LVS_DIFF_SQ.array_active @ matchee.seq_lvs_diff_sq.T) - dot_prod_mat - dot_prod_mat\n",
    "    top_mat_indices = np.argsort(diff_sq_mat, axis=None)[:inspect_depth] \n",
    "    \n",
    "    for top_mat_index in top_mat_indices:\n",
    "        i = top_mat_index // diff_sq_mat.shape[1]\n",
    "        j = top_mat_index % diff_sq_mat.shape[1]\n",
    "        seq_lv_meta = SEQ_LV_IND_TO_META[i]\n",
    "        engram = ENGRAMS[seq_lv_meta.engram_id]\n",
    "        match_tab_columns['engram_seq_lv_ind'].append(i)\n",
    "        match_tab_columns['matchee_seq_lv_ind'].append(j)\n",
    "        match_tab_columns['cos_sim'].append(-1)\n",
    "        match_tab_columns['diff_sq'].append(diff_sq_mat[i,j])  \n",
    "        match_tab_columns['engram_id'].append(engram.engram_id)\n",
    "        match_tab_columns['engram_value'].append(engram.value)\n",
    "        match_tab_columns['engram_image_id'].append(engram.image_id)  \n",
    "        match_tab_columns['engram_phase'].append(seq_lv_meta.phase)\n",
    "        match_tab_columns['engram_seq_lv_code'].append(seq_lv_meta.seq_lv_code)\n",
    "        match_tab_columns['matchee_seq_lv_code'].append(matchee.seq_lv_codes[j])\n",
    "    \n",
    "    return pd.DataFrame(match_tab_columns)"
   ]
  },
  {
   "cell_type": "code",
   "execution_count": 37,
   "id": "68148849-40de-4e8e-b7eb-8aaf2a2fd542",
   "metadata": {},
   "outputs": [],
   "source": [
    "MATCH_TAB_METHOD = 'cos_sim'\n",
    "\n",
    "def get_match_tab1(matchee, method=None, inspect_depth=100):\n",
    "    match_tab_columns = defaultdict(list)\n",
    "    dot_prod_mat = (SEQ_LVS_COS_SIM.array_active @ matchee.seq_lvs_cos_sim.T)\n",
    "    cos_sim_mat = dot_prod_mat / (-2 * SEQ_LV_LEN)\n",
    "    # corr_mat = (SEQ_LVS_CORR.array_active @ matchee.seq_lvs_corr.T) / (-SEQ_LVS_CORR.array_active.shape[1])\n",
    "    diff_sq_mat = (SEQ_LVS_DIFF_SQ.array_active @ matchee.seq_lvs_diff_sq.T) - dot_prod_mat - dot_prod_mat\n",
    "    \n",
    "    mat = {\n",
    "        'cos_sim': cos_sim_mat,\n",
    "        # 'corr': corr_mat,\n",
    "        'diff_sq': diff_sq_mat\n",
    "    }[MATCH_TAB_METHOD if method is None else method]\n",
    "    top_mat_indices = np.argsort(mat, axis=None)[:inspect_depth] \n",
    "    \n",
    "    for top_mat_index in top_mat_indices:\n",
    "        i = top_mat_index // mat.shape[1]\n",
    "        j = top_mat_index % mat.shape[1]\n",
    "        seq_lv_meta = SEQ_LV_IND_TO_META[i]\n",
    "        engram = ENGRAMS[seq_lv_meta.engram_id]\n",
    "        match_tab_columns['engram_seq_lv_ind'].append(i)\n",
    "        match_tab_columns['matchee_seq_lv_ind'].append(j)\n",
    "        match_tab_columns['cos_sim'].append(-cos_sim_mat[i,j])\n",
    "        # match_tab_columns['corr'].append(-corr_mat[i,j])\n",
    "        match_tab_columns['diff_sq'].append(diff_sq_mat[i,j])  \n",
    "        match_tab_columns['engram_id'].append(engram.engram_id)\n",
    "        match_tab_columns['engram_value'].append(engram.value)\n",
    "        match_tab_columns['engram_image_id'].append(engram.image_id)  \n",
    "        match_tab_columns['engram_phase'].append(seq_lv_meta.phase)\n",
    "        match_tab_columns['matchee_seq_lv_code'].append(matchee.seq_lv_codes[j])\n",
    "    \n",
    "    return pd.DataFrame(match_tab_columns)"
   ]
  },
  {
   "cell_type": "code",
   "execution_count": 38,
   "id": "277b552d-eea4-4a5d-8630-030ae0e81a1e",
   "metadata": {},
   "outputs": [],
   "source": [
    "def get_match_tab2(matchee, compute_diff=False, inspect_depth=100):\n",
    "    match_tab_columns = defaultdict(list)\n",
    "    cos_sims_mat = (SEQ_LVS.array_active @ matchee.seq_lvs.T) / SEQ_LV_LEN # TODO: division can be omitted actually\n",
    "    top_cos_sim_indices = np.argsort(cos_sims_mat, axis=None)[-inspect_depth:] \n",
    "    \n",
    "    for cos_sim_index in reversed(top_cos_sim_indices):\n",
    "        i = cos_sim_index // cos_sims_mat.shape[1]\n",
    "        j = cos_sim_index % cos_sims_mat.shape[1]\n",
    "        seq_lv_meta = SEQ_LV_IND_TO_META[i]\n",
    "        engram = ENGRAMS[seq_lv_meta.engram_id]\n",
    "\n",
    "        if compute_diff:\n",
    "            engram_seq_lv = SEQ_LVS.array_active[i]\n",
    "            matchee_seq_lv = matchee.seq_lvs[j]\n",
    "            diff = compute_seq_lvs_diff(engram_seq_lv, matchee_seq_lv)\n",
    "        else:\n",
    "            diff = -1\n",
    "            \n",
    "        match_tab_columns['engram_seq_lv_ind'].append(i)\n",
    "        match_tab_columns['matchee_seq_lv_ind'].append(j)\n",
    "        match_tab_columns['cos_sim'].append(cos_sims_mat[i,j])\n",
    "        match_tab_columns['diff'].append(diff)  \n",
    "        match_tab_columns['engram_id'].append(engram.engram_id)\n",
    "        match_tab_columns['engram_value'].append(engram.value)\n",
    "        match_tab_columns['engram_image_id'].append(engram.image_id)  \n",
    "        match_tab_columns['engram_phase'].append(seq_lv_meta.phase)\n",
    "        match_tab_columns['matchee_seq_lv_code'].append(matchee.seq_lv_codes[j])\n",
    "    \n",
    "    return pd.DataFrame(match_tab_columns)"
   ]
  },
  {
   "cell_type": "markdown",
   "id": "d4e9ddb2-d031-486b-8ca0-ed7c18bb36e8",
   "metadata": {},
   "source": [
    "## render_match_tab_row"
   ]
  },
  {
   "cell_type": "code",
   "execution_count": 39,
   "id": "f2c8c5da-0494-4f32-912a-856caaea8387",
   "metadata": {},
   "outputs": [],
   "source": [
    "def render_match_tab_row(df_match_tab_row, matchee, use_seq_lv=False, delta_xy=0, k=None):\n",
    "    image_pil = Image.new('L', size=(800, 800), color='black')\n",
    "    image_pil = image_pil.convert('RGB')\n",
    "    k = image_pil.size[0] / config.sample_size if k is None else k\n",
    "    draw = ImageDraw.Draw(image_pil)\n",
    "    \n",
    "    matchee_seq_reading = df_match_tab_row['matchee_seq_reading']\n",
    "    matchee_seq_lv_ind = matchee.seq_readings.index(matchee_seq_reading)\n",
    "    matchee_seq_lv = matchee.seq_lvs[matchee_seq_lv_ind]\n",
    "    matchee_seq = matchee.seqs[matchee_seq_lv_ind]\n",
    "    matchee_xy_seq = get_xy_sequence(matchee_seq, matchee.si_ind_dict)\n",
    "    matchee_pt_xy = matchee_xy_seq[0]\n",
    "    \n",
    "    engram = ENGRAMS[df_match_tab_row['engram_id']]\n",
    "    engram_seq_lv_ind = df_match_tab_row['engram_seq_lv_ind']\n",
    "    engram_seq_lv_meta = SEQ_LV_IND_TO_META[engram_seq_lv_ind]\n",
    "    engram_seq_lv = SEQ_LVS.array_active[engram_seq_lv_ind]\n",
    "    engram_seq = engram_seq_lv_meta.seq\n",
    "    engram_xy_seq = get_xy_sequence(engram_seq, engram.si_ind_dict)\n",
    "    \n",
    "    assert engram_seq.shape[0] == engram_xy_seq.shape[0]\n",
    "\n",
    "    if use_seq_lv:\n",
    "        offset = np.array([image_pil.size[0] // 2 + delta_xy, image_pil.size[1] // 2 + delta_xy])\n",
    "        engram_xy_first = []\n",
    "        matchee_xy_first = []\n",
    "\n",
    "        for engram_seq_sublv, matchee_seq_sublv in zip(engram_seq_lv.reshape(SEQ_SUBLVS_COUNT, -1), matchee_seq_lv.reshape(SEQ_SUBLVS_COUNT, -1)):\n",
    "            seq_sublv_offset = None\n",
    "            \n",
    "            for serial, (engram_xy, matchee_xy) in enumerate(zip(engram_seq_sublv.reshape(-1, 2), matchee_seq_sublv.reshape(-1, 2))):\n",
    "                if serial == 0:\n",
    "                    seq_sublv_offset = k * engram_xy + offset\n",
    "                    continue\n",
    "\n",
    "                assert not seq_sublv_offset is None\n",
    "                engram_xy = k * engram_xy + seq_sublv_offset\n",
    "                matchee_xy = k * matchee_xy + seq_sublv_offset\n",
    "    \n",
    "                if len(engram_xy_first) == 0:\n",
    "                    engram_xy_first = engram_xy\n",
    "    \n",
    "                if len(matchee_xy_first) == 0:\n",
    "                    matchee_xy_first = matchee_xy\n",
    "\n",
    "                draw.rectangle([engram_xy[0] - 1, engram_xy[1] - 1, engram_xy[0] + 1, engram_xy[1] + 1], width=1, fill='red')\n",
    "                draw.rectangle([matchee_xy[0] - 1, matchee_xy[1] - 1, matchee_xy[0] + 1, matchee_xy[1] + 1], width=1, fill='green')\n",
    "    \n",
    "                if (serial % 10) == 0:\n",
    "                    draw.line([engram_xy[0], engram_xy[1], matchee_xy[0], matchee_xy[1]], width=1, fill='white')\n",
    "\n",
    "            draw.circle(((engram_xy_first)[0], (engram_xy_first)[1]), radius=k * 2, outline='red', width=3)\n",
    "            draw.circle(((matchee_xy_first)[0], (matchee_xy_first)[1]), radius=k * 2, outline='green', width=3)\n",
    "    else:\n",
    "        engram_xy_seq = engram_xy_seq - engram_xy_seq[0] + matchee_pt_xy\n",
    "        engram_si_serial_to_xy = {}\n",
    "        engram_xy_first = []\n",
    "        colors = ['red', 'orange']\n",
    "        \n",
    "        for si_serial, (xy_seq_row, seq_row) in enumerate(zip(zip(engram_xy_seq, engram_xy_seq[1:]), zip(engram_seq, engram_seq[1:]))):\n",
    "            # color = colors[si_serial % 2]\n",
    "            color = 'red'\n",
    "            pt_from = np.array([xy_seq_row[0][0], xy_seq_row[0][1]])\n",
    "            pt_to = np.array([xy_seq_row[1][0], xy_seq_row[1][1]])\n",
    "            pt_from += delta_xy\n",
    "            pt_to += delta_xy\n",
    "\n",
    "            if len(engram_xy_first) == 0:\n",
    "                engram_xy_first = k * pt_from\n",
    "            \n",
    "            vec = pt_to[0] - pt_from[0], pt_to[1] - pt_from[1]\n",
    "        \n",
    "            if np.linalg.norm(vec) < 10:\n",
    "                draw.line([k * pt_from[0], k * pt_from[1], k * pt_to[0], k * pt_to[1]], width=2, fill=color)\n",
    "                \n",
    "            draw.rectangle([k * pt_from[0] - 4, k * pt_from[1] - 4, k * pt_from[0] + 4, k * pt_from[1] + 4], width=1, fill=color)\n",
    "            draw.rectangle([k * pt_to[0] - 4, k * pt_to[1] - 4, k * pt_to[0] + 4, k * pt_to[1] + 4], width=1, fill=color)\n",
    "        \n",
    "            si_from = engram.si_ind_dict[seq_row[0]]\n",
    "            si_to = engram.si_ind_dict[seq_row[1]]\n",
    "            nl = 4 * k\n",
    "            normal_vec = si_from.normal_vec\n",
    "            draw.line([k * pt_from[0], k * pt_from[1], k * pt_from[0] + normal_vec.real * nl, k * pt_from[1] + normal_vec.imag * nl], width=1, fill='darkred')\n",
    "            draw.text([k * pt_from[0] + normal_vec.real * nl*1.2, k * pt_from[1] + normal_vec.imag * nl*1.2], str(si_serial), anchor='mm', fill='darkred')\n",
    "        \n",
    "            normal_vec = si_to.normal_vec\n",
    "            draw.line([k * pt_to[0], k * pt_to[1], k * pt_to[0] + normal_vec.real * nl, k * pt_to[1] + normal_vec.imag * nl], width=1, fill='darkred')\n",
    "            draw.text([k * pt_to[0] + normal_vec.real * nl*1.2, k * pt_to[1] + normal_vec.imag * nl*1.2], str(si_serial + 1), anchor='mm', fill='darkred')\n",
    "            \n",
    "            engram_si_serial_to_xy[si_serial] = (k * pt_from[0], k * pt_from[1])\n",
    "            engram_si_serial_to_xy[si_serial + 1] = (k * pt_to[0], k * pt_to[1])\n",
    "        \n",
    "        matchee_si_serial_to_xy = {}\n",
    "        matchee_xy_first = []\n",
    "        colors = ['green', 'cyan']\n",
    "        \n",
    "        for si_serial, (xy_seq_row, seq_row) in enumerate(zip(zip(matchee_xy_seq, matchee_xy_seq[1:]), zip(matchee_seq, matchee_seq[1:]))):\n",
    "            # color = colors[si_serial % 2]\n",
    "            color = 'green'\n",
    "            pt_from = np.array([xy_seq_row[0][0], xy_seq_row[0][1]])\n",
    "            pt_to = np.array([xy_seq_row[1][0], xy_seq_row[1][1]])\n",
    "            pt_from += delta_xy\n",
    "            pt_to += delta_xy\n",
    "\n",
    "            if len(matchee_xy_first) == 0:\n",
    "                matchee_xy_first = k * pt_from\n",
    "            \n",
    "            vec = pt_to[0] - pt_from[0], pt_to[1] - pt_from[1]\n",
    "        \n",
    "            if np.linalg.norm(vec) < 10:\n",
    "                draw.line([k * pt_from[0], k * pt_from[1], k * pt_to[0], k * pt_to[1]], width=2, fill=color)\n",
    "                \n",
    "            draw.rectangle([k * pt_from[0] - 4, k * pt_from[1] - 4, k * pt_from[0] + 4, k * pt_from[1] + 4], width=1, fill=color)\n",
    "            draw.rectangle([k * pt_to[0] - 4, k * pt_to[1] - 4, k * pt_to[0] + 4, k * pt_to[1] + 4], width=1, fill=color)\n",
    "        \n",
    "            si_from = matchee.si_ind_dict[seq_row[0]]\n",
    "            si_to = matchee.si_ind_dict[seq_row[1]]\n",
    "            nl = 4 * k\n",
    "            normal_vec = si_from.normal_vec\n",
    "            draw.line([k * pt_from[0], k * pt_from[1], k * pt_from[0] + normal_vec.real * nl, k * pt_from[1] + normal_vec.imag * nl], width=1, fill='darkgreen')\n",
    "            draw.text([k * pt_from[0] + normal_vec.real * nl*1.2, k * pt_from[1] + normal_vec.imag * nl*1.2], str(si_serial), anchor='mm', fill='darkgreen')\n",
    "        \n",
    "            normal_vec = si_to.normal_vec\n",
    "            draw.line([k * pt_to[0], k * pt_to[1], k * pt_to[0] + normal_vec.real * nl, k * pt_to[1] + normal_vec.imag * nl], width=1, fill='darkgreen')\n",
    "            draw.text([k * pt_to[0] + normal_vec.real * nl*1.2, k * pt_to[1] + normal_vec.imag * nl*1.2], str(si_serial + 1), anchor='mm', fill='darkgreen')\n",
    "            \n",
    "            matchee_si_serial_to_xy[si_serial] = (k * pt_from[0], k * pt_from[1])\n",
    "            matchee_si_serial_to_xy[si_serial + 1] = (k * pt_to[0], k * pt_to[1])\n",
    "        \n",
    "        draw.circle((matchee_xy_first[0], matchee_xy_first[1]), radius=k*2, outline='blue', width=3)\n",
    "    \n",
    "    seq_lvs_diff = 0\n",
    "\n",
    "    for vec1, vec2 in zip(engram_seq_lv, matchee_seq_lv):\n",
    "        vec = vec1 - vec2\n",
    "        vec = vec ** 2\n",
    "        seq_lvs_diff += vec.sum()\n",
    "\n",
    "    text = f'match_tab_row #{df_match_tab_row.name}, '\n",
    "    text += f'cos_sim={df_match_tab_row['cos_sim']:.2f} ({np.rad2deg(np.arccos(df_match_tab_row['cos_sim'])):.0f}), '\n",
    "    draw.text((image_pil.size[0] / 2, 10), text, font_size=18, anchor='mt')\n",
    "    return image_pil"
   ]
  },
  {
   "cell_type": "code",
   "execution_count": 40,
   "id": "abd91afa-10e6-4022-99af-6dd4145cfcc8",
   "metadata": {},
   "outputs": [],
   "source": [
    "def render_match_tab_row3(df_match_tab_row, matchee, use_seq_lv=False, delta_xy=0, k=None):\n",
    "    image_pil = Image.new('L', size=(800, 800), color='black')\n",
    "    image_pil = image_pil.convert('RGB')\n",
    "    k = image_pil.size[0] / config.sample_size if k is None else k\n",
    "    draw = ImageDraw.Draw(image_pil)\n",
    "    \n",
    "    matchee_seq_lv_code = df_match_tab_row['matchee_seq_lv_code']\n",
    "    matchee_seq_lv_ind = matchee.seq_lv_codes.index(matchee_seq_lv_code)\n",
    "    matchee_seq_lv = matchee.seq_lvs_cos_sim[matchee_seq_lv_ind]\n",
    "    matchee_seq = matchee.seqs[matchee_seq_lv_ind]\n",
    "    matchee_xy_seq = get_xy_sequence(matchee_seq, matchee.si_ind_dict)\n",
    "    matchee_pt_xy = matchee_xy_seq[0]\n",
    "    \n",
    "    engram = ENGRAMS[df_match_tab_row['engram_id']]\n",
    "    engram_seq_lv_ind = df_match_tab_row['engram_seq_lv_ind']\n",
    "    engram_seq_lv_meta = SEQ_LV_IND_TO_META[engram_seq_lv_ind]\n",
    "    engram_seq_lv = SEQ_LVS_COS_SIM.array_active[engram_seq_lv_ind]\n",
    "    engram_seq = engram_seq_lv_meta.seq\n",
    "    engram_xy_seq = get_xy_sequence(engram_seq, engram.si_ind_dict)\n",
    "    \n",
    "    assert engram_seq.shape[0] == engram_xy_seq.shape[0]\n",
    "\n",
    "    if use_seq_lv:\n",
    "        offset = np.array([image_pil.size[0] // 2 + delta_xy, image_pil.size[1] // 2 + delta_xy])\n",
    "        engram_xy_first = []\n",
    "        matchee_xy_first = []\n",
    "\n",
    "        for engram_seq_sublv, matchee_seq_sublv in zip(engram_seq_lv.reshape(SEQ_SUBLVS_COUNT, -1), matchee_seq_lv.reshape(SEQ_SUBLVS_COUNT, -1)):\n",
    "            seq_sublv_offset = None\n",
    "            \n",
    "            for serial, (engram_xy, matchee_xy) in enumerate(zip(engram_seq_sublv.reshape(-1, 2), matchee_seq_sublv.reshape(-1, 2))):\n",
    "                if serial == 0:\n",
    "                    seq_sublv_offset = k * engram_xy + offset\n",
    "                    continue\n",
    "\n",
    "                assert not seq_sublv_offset is None\n",
    "                engram_xy = k * engram_xy + seq_sublv_offset\n",
    "                matchee_xy = k * matchee_xy + seq_sublv_offset\n",
    "    \n",
    "                if len(engram_xy_first) == 0:\n",
    "                    engram_xy_first = engram_xy\n",
    "    \n",
    "                if len(matchee_xy_first) == 0:\n",
    "                    matchee_xy_first = matchee_xy\n",
    "\n",
    "                draw.rectangle([engram_xy[0] - 1, engram_xy[1] - 1, engram_xy[0] + 1, engram_xy[1] + 1], width=1, fill='red')\n",
    "                draw.rectangle([matchee_xy[0] - 1, matchee_xy[1] - 1, matchee_xy[0] + 1, matchee_xy[1] + 1], width=1, fill='green')\n",
    "    \n",
    "                if (serial % 10) == 0:\n",
    "                    draw.line([engram_xy[0], engram_xy[1], matchee_xy[0], matchee_xy[1]], width=1, fill='white')\n",
    "\n",
    "            draw.circle(((engram_xy_first)[0], (engram_xy_first)[1]), radius=k * 2, outline='red', width=3)\n",
    "            draw.circle(((matchee_xy_first)[0], (matchee_xy_first)[1]), radius=k * 2, outline='green', width=3)\n",
    "    else:\n",
    "        engram_xy_seq = engram_xy_seq - engram_xy_seq[0] + matchee_pt_xy\n",
    "        engram_si_serial_to_xy = {}\n",
    "        \n",
    "        for si_serial, (xy_seq_row, seq_row) in enumerate(zip(zip(engram_xy_seq, engram_xy_seq[1:]), zip(engram_seq, engram_seq[1:]))):\n",
    "            pt_from = xy_seq_row[0][0], xy_seq_row[0][1] \n",
    "            pt_to = xy_seq_row[1][0], xy_seq_row[1][1]\n",
    "            \n",
    "            vec = pt_to[0] - pt_from[0], pt_to[1] - pt_from[1]\n",
    "        \n",
    "            if np.linalg.norm(vec) < 10:\n",
    "                draw.line([k * pt_from[0], k * pt_from[1], k * pt_to[0], k * pt_to[1]], width=2, fill='red')\n",
    "                \n",
    "            draw.rectangle([k * pt_from[0] - 4, k * pt_from[1] - 4, k * pt_from[0] + 4, k * pt_from[1] + 4], width=1, fill='red')\n",
    "            draw.rectangle([k * pt_to[0] - 4, k * pt_to[1] - 4, k * pt_to[0] + 4, k * pt_to[1] + 4], width=1, fill='red')\n",
    "        \n",
    "            si_from = engram.si_ind_dict[seq_row[0]]\n",
    "            si_to = engram.si_ind_dict[seq_row[1]]\n",
    "            nl = 4 * k\n",
    "            normal_vec = si_from.normal_vec\n",
    "            draw.line([k * pt_from[0], k * pt_from[1], k * pt_from[0] + normal_vec.real * nl, k * pt_from[1] + normal_vec.imag * nl], width=1, fill='darkred')\n",
    "            draw.text([k * pt_from[0] + normal_vec.real * nl*1.2, k * pt_from[1] + normal_vec.imag * nl*1.2], str(si_serial), anchor='mm', fill='darkred')\n",
    "        \n",
    "            normal_vec = si_to.normal_vec\n",
    "            draw.line([k * pt_to[0], k * pt_to[1], k * pt_to[0] + normal_vec.real * nl, k * pt_to[1] + normal_vec.imag * nl], width=1, fill='darkred')\n",
    "            draw.text([k * pt_to[0] + normal_vec.real * nl*1.2, k * pt_to[1] + normal_vec.imag * nl*1.2], str(si_serial + 1), anchor='mm', fill='darkred')\n",
    "            \n",
    "            engram_si_serial_to_xy[si_serial] = (k * pt_from[0], k * pt_from[1])\n",
    "            engram_si_serial_to_xy[si_serial + 1] = (k * pt_to[0], k * pt_to[1])\n",
    "        \n",
    "        matchee_si_serial_to_xy = {}\n",
    "        \n",
    "        for si_serial, (xy_seq_row, seq_row) in enumerate(zip(zip(matchee_xy_seq, matchee_xy_seq[1:]), zip(matchee_seq, matchee_seq[1:]))):\n",
    "            pt_from = xy_seq_row[0][0], xy_seq_row[0][1] \n",
    "            pt_to = xy_seq_row[1][0], xy_seq_row[1][1]\n",
    "            vec = pt_to[0] - pt_from[0], pt_to[1] - pt_from[1]\n",
    "        \n",
    "            if np.linalg.norm(vec) < 10:\n",
    "                draw.line([k * pt_from[0], k * pt_from[1], k * pt_to[0], k * pt_to[1]], width=2, fill='green')\n",
    "                \n",
    "            draw.rectangle([k * pt_from[0] - 4, k * pt_from[1] - 4, k * pt_from[0] + 4, k * pt_from[1] + 4], width=1, fill='green')\n",
    "            draw.rectangle([k * pt_to[0] - 4, k * pt_to[1] - 4, k * pt_to[0] + 4, k * pt_to[1] + 4], width=1, fill='green')\n",
    "        \n",
    "            si_from = matchee.si_ind_dict[seq_row[0]]\n",
    "            si_to = matchee.si_ind_dict[seq_row[1]]\n",
    "            nl = 4 * k\n",
    "            normal_vec = si_from.normal_vec\n",
    "            draw.line([k * pt_from[0], k * pt_from[1], k * pt_from[0] + normal_vec.real * nl, k * pt_from[1] + normal_vec.imag * nl], width=1, fill='darkgreen')\n",
    "            draw.text([k * pt_from[0] + normal_vec.real * nl*1.2, k * pt_from[1] + normal_vec.imag * nl*1.2], str(si_serial), anchor='mm', fill='darkgreen')\n",
    "        \n",
    "            normal_vec = si_to.normal_vec\n",
    "            draw.line([k * pt_to[0], k * pt_to[1], k * pt_to[0] + normal_vec.real * nl, k * pt_to[1] + normal_vec.imag * nl], width=1, fill='darkgreen')\n",
    "            draw.text([k * pt_to[0] + normal_vec.real * nl*1.2, k * pt_to[1] + normal_vec.imag * nl*1.2], str(si_serial + 1), anchor='mm', fill='darkgreen')\n",
    "            \n",
    "            matchee_si_serial_to_xy[si_serial] = (k * pt_from[0], k * pt_from[1])\n",
    "            matchee_si_serial_to_xy[si_serial + 1] = (k * pt_to[0], k * pt_to[1])\n",
    "        \n",
    "        draw.circle((k * matchee_pt_xy[0], k * matchee_pt_xy[1]), radius=k*2, outline='blue', width=3)\n",
    "    \n",
    "    seq_lvs_diff = 0\n",
    "\n",
    "    for vec1, vec2 in zip(engram_seq_lv, matchee_seq_lv):\n",
    "        vec = vec1 - vec2\n",
    "        vec = vec ** 2\n",
    "        seq_lvs_diff += vec.sum()\n",
    "\n",
    "    text = f'match_tab_row #{df_match_tab_row.name}, '\n",
    "    text += f'cos_sim={df_match_tab_row['cos_sim']:.2f}, '\n",
    "    text += f'angle={np.rad2deg(np.arccos(df_match_tab_row['cos_sim'])):.0f}, '\n",
    "    text += f'diff={df_match_tab_row['diff_sq']:.0f}, '\n",
    "    text += f'diff2={seq_lvs_diff:.0f}'\n",
    "    draw.text((image_pil.size[0] / 2, 10), text, font_size=18, anchor='mt')\n",
    "    return image_pil"
   ]
  },
  {
   "cell_type": "code",
   "execution_count": 41,
   "id": "abfe7ab7-b5d4-44a0-8fe2-44ab0b1c0f03",
   "metadata": {},
   "outputs": [],
   "source": [
    "def render_match_tab_row2(df_match_tab_row, matchee, use_seq_lv=False, image_size=(800, 800)):\n",
    "    image_pil = Image.new('L', size=image_size, color='black')\n",
    "    image_pil = image_pil.convert('RGB')\n",
    "    k = image_pil.size[0] / config.sample_size\n",
    "    draw = ImageDraw.Draw(image_pil)\n",
    "    \n",
    "    matchee_seq_lv_code = df_match_tab_row['matchee_seq_lv_code']\n",
    "    matchee_seq_lv_ind = matchee.seq_lv_codes.index(matchee_seq_lv_code)\n",
    "    matchee_seq_lv = matchee.seq_lvs_cos_sim[matchee_seq_lv_ind]\n",
    "    matchee_seq = matchee.seqs[matchee_seq_lv_ind]\n",
    "    matchee_xy_seq = get_xy_sequence(matchee_seq, matchee.si_ind_dict)\n",
    "    matchee_pt_xy = matchee_xy_seq[0]\n",
    "    \n",
    "    engram = ENGRAMS[df_match_tab_row['engram_id']]\n",
    "    engram_seq_lv_ind = df_match_tab_row['engram_seq_lv_ind']\n",
    "    engram_seq_lv_meta = SEQ_LV_IND_TO_META[engram_seq_lv_ind]\n",
    "    engram_seq_lv = SEQ_LVS_COS_SIM.array_active[engram_seq_lv_ind]\n",
    "    engram_seq = engram_seq_lv_meta.seq\n",
    "    engram_xy_seq = get_xy_sequence(engram_seq, engram.si_ind_dict)\n",
    "    \n",
    "    assert engram_seq.shape[0] == engram_xy_seq.shape[0]\n",
    "\n",
    "    if use_seq_lv:\n",
    "        # offset = np.array([image_pil.size[0] // 2, image_pil.size[1] // 2, 0])\n",
    "        offset = np.array([image_pil.size[0] // 2, image_pil.size[1] // 2])\n",
    "        mean = np.mean(engram_seq_lv.reshape(-1, 2), axis=0)\n",
    "        # mean = (np.max(engram_seq_lv.reshape(-1, 3), axis=0) - np.min(engram_seq_lv.reshape(-1, 3), axis=0)) / 2\n",
    "        # mean = (np.max(engram_seq_lv.reshape(-1, 2), axis=0) - np.min(engram_seq_lv.reshape(-1, 2), axis=0)) / 2\n",
    "        # mean[-1] = 0\n",
    "        engram_xy_first = []\n",
    "        matchee_xy_first = []\n",
    "        \n",
    "        # for serial, (engram_xy, matchee_xy) in enumerate(zip(engram_seq_lv.reshape(-1, 3), matchee_seq_lv.reshape(-1, 3))):\n",
    "        for serial, (engram_xy, matchee_xy) in enumerate(zip(engram_seq_lv.reshape(-1, 2), matchee_seq_lv.reshape(-1, 2))):\n",
    "            engram_xy = k * engram_xy + offset - k * mean\n",
    "            matchee_xy = k * matchee_xy + offset - k * mean\n",
    "\n",
    "            if len(engram_xy_first) == 0:\n",
    "                engram_xy_first = engram_xy\n",
    "\n",
    "            if len(matchee_xy_first) == 0:\n",
    "                matchee_xy_first = matchee_xy\n",
    "            \n",
    "            draw.rectangle([engram_xy[0] - 1, engram_xy[1] - 1, engram_xy[0] + 1, engram_xy[1] + 1], width=1, fill='red')\n",
    "            draw.rectangle([matchee_xy[0] - 1, matchee_xy[1] - 1, matchee_xy[0] + 1, matchee_xy[1] + 1], width=1, fill='green')\n",
    "\n",
    "            if (serial % 10) == 0:\n",
    "                draw.line([engram_xy[0], engram_xy[1], matchee_xy[0], matchee_xy[1]], width=1, fill='white')\n",
    "            \n",
    "        draw.circle(((engram_xy_first)[0], (engram_xy_first)[1]), radius=k*2, outline='red', width=3)\n",
    "        draw.circle(((matchee_xy_first)[0], (matchee_xy_first)[1]), radius=k*2, outline='green', width=3)\n",
    "    else:\n",
    "        engram_xy_seq = engram_xy_seq - engram_xy_seq[0] + matchee_pt_xy\n",
    "        engram_si_serial_to_xy = {}\n",
    "        \n",
    "        for si_serial, (xy_seq_row, seq_row) in enumerate(zip(zip(engram_xy_seq, engram_xy_seq[1:]), zip(engram_seq, engram_seq[1:]))):\n",
    "            pt_from = xy_seq_row[0][0], xy_seq_row[0][1] \n",
    "            pt_to = xy_seq_row[1][0], xy_seq_row[1][1]\n",
    "            \n",
    "            vec = pt_to[0] - pt_from[0], pt_to[1] - pt_from[1]\n",
    "        \n",
    "            if np.linalg.norm(vec) < 10:\n",
    "                draw.line([k * pt_from[0], k * pt_from[1], k * pt_to[0], k * pt_to[1]], width=2, fill='red')\n",
    "                \n",
    "            draw.rectangle([k * pt_from[0] - 4, k * pt_from[1] - 4, k * pt_from[0] + 4, k * pt_from[1] + 4], width=1, fill='red')\n",
    "            draw.rectangle([k * pt_to[0] - 4, k * pt_to[1] - 4, k * pt_to[0] + 4, k * pt_to[1] + 4], width=1, fill='red')\n",
    "        \n",
    "            si_from = engram.si_ind_dict[seq_row[0]]\n",
    "            si_to = engram.si_ind_dict[seq_row[1]]\n",
    "            nl = 4 * k\n",
    "            normal_vec = si_from.normal_vec\n",
    "            draw.line([k * pt_from[0], k * pt_from[1], k * pt_from[0] + normal_vec.real * nl, k * pt_from[1] + normal_vec.imag * nl], width=1, fill='darkred')\n",
    "            draw.text([k * pt_from[0] + normal_vec.real * nl*1.2, k * pt_from[1] + normal_vec.imag * nl*1.2], str(si_serial), anchor='mm', fill='darkred')\n",
    "        \n",
    "            normal_vec = si_to.normal_vec\n",
    "            draw.line([k * pt_to[0], k * pt_to[1], k * pt_to[0] + normal_vec.real * nl, k * pt_to[1] + normal_vec.imag * nl], width=1, fill='darkred')\n",
    "            draw.text([k * pt_to[0] + normal_vec.real * nl*1.2, k * pt_to[1] + normal_vec.imag * nl*1.2], str(si_serial + 1), anchor='mm', fill='darkred')\n",
    "            \n",
    "            engram_si_serial_to_xy[si_serial] = (k * pt_from[0], k * pt_from[1])\n",
    "            engram_si_serial_to_xy[si_serial + 1] = (k * pt_to[0], k * pt_to[1])\n",
    "        \n",
    "        matchee_si_serial_to_xy = {}\n",
    "        \n",
    "        for si_serial, (xy_seq_row, seq_row) in enumerate(zip(zip(matchee_xy_seq, matchee_xy_seq[1:]), zip(matchee_seq, matchee_seq[1:]))):\n",
    "            pt_from = xy_seq_row[0][0], xy_seq_row[0][1] \n",
    "            pt_to = xy_seq_row[1][0], xy_seq_row[1][1]\n",
    "            vec = pt_to[0] - pt_from[0], pt_to[1] - pt_from[1]\n",
    "        \n",
    "            if np.linalg.norm(vec) < 10:\n",
    "                draw.line([k * pt_from[0], k * pt_from[1], k * pt_to[0], k * pt_to[1]], width=2, fill='green')\n",
    "                \n",
    "            draw.rectangle([k * pt_from[0] - 4, k * pt_from[1] - 4, k * pt_from[0] + 4, k * pt_from[1] + 4], width=1, fill='green')\n",
    "            draw.rectangle([k * pt_to[0] - 4, k * pt_to[1] - 4, k * pt_to[0] + 4, k * pt_to[1] + 4], width=1, fill='green')\n",
    "        \n",
    "            si_from = matchee.si_ind_dict[seq_row[0]]\n",
    "            si_to = matchee.si_ind_dict[seq_row[1]]\n",
    "            nl = 4 * k\n",
    "            normal_vec = si_from.normal_vec\n",
    "            draw.line([k * pt_from[0], k * pt_from[1], k * pt_from[0] + normal_vec.real * nl, k * pt_from[1] + normal_vec.imag * nl], width=1, fill='darkgreen')\n",
    "            draw.text([k * pt_from[0] + normal_vec.real * nl*1.2, k * pt_from[1] + normal_vec.imag * nl*1.2], str(si_serial), anchor='mm', fill='darkgreen')\n",
    "        \n",
    "            normal_vec = si_to.normal_vec\n",
    "            draw.line([k * pt_to[0], k * pt_to[1], k * pt_to[0] + normal_vec.real * nl, k * pt_to[1] + normal_vec.imag * nl], width=1, fill='darkgreen')\n",
    "            draw.text([k * pt_to[0] + normal_vec.real * nl*1.2, k * pt_to[1] + normal_vec.imag * nl*1.2], str(si_serial + 1), anchor='mm', fill='darkgreen')\n",
    "            \n",
    "            matchee_si_serial_to_xy[si_serial] = (k * pt_from[0], k * pt_from[1])\n",
    "            matchee_si_serial_to_xy[si_serial + 1] = (k * pt_to[0], k * pt_to[1])\n",
    "        \n",
    "        draw.circle((k * matchee_pt_xy[0], k * matchee_pt_xy[1]), radius=k*2, outline='blue', width=3)\n",
    "    \n",
    "    seq_lvs_diff = 0\n",
    "\n",
    "    for vec1, vec2 in zip(engram_seq_lv, matchee_seq_lv):\n",
    "        vec = vec1 - vec2\n",
    "        vec = vec ** 2\n",
    "        seq_lvs_diff += vec.sum()\n",
    "\n",
    "    text = f'match_tab_row #{df_match_tab_row.name}, '\n",
    "    text += f'cos_sim={df_match_tab_row['cos_sim']:.2f}, '\n",
    "    text += f'angle={np.rad2deg(np.arccos(df_match_tab_row['cos_sim'])):.0f}, '\n",
    "    text += f'diff={df_match_tab_row['diff_sq']:.0f}, '\n",
    "    text += f'diff2={seq_lvs_diff:.0f}'\n",
    "    draw.text((image_pil.size[0] / 2, 10), text, font_size=18, anchor='mt')\n",
    "    return image_pil"
   ]
  },
  {
   "cell_type": "markdown",
   "id": "6b4bc3f0-ff24-4ca8-80bb-d955c6412bec",
   "metadata": {},
   "source": [
    "## get_w_vec"
   ]
  },
  {
   "cell_type": "code",
   "execution_count": 42,
   "id": "9dc057e8-dff1-466a-988d-fb50c18e748b",
   "metadata": {},
   "outputs": [],
   "source": [
    "def get_w_vec(seq_lv_meta):\n",
    "    assert np.all(seq_lv_meta.seq_lv_upd[seq_lv_meta.seq_lv_orig == 0] == 0)\n",
    "    return seq_lv_meta.seq_lv_upd / np.where(seq_lv_meta.seq_lv_orig == 0, 1, seq_lv_meta.seq_lv_orig)"
   ]
  },
  {
   "cell_type": "markdown",
   "id": "19371780-244b-4ecb-9cd8-d335b8dc03c4",
   "metadata": {},
   "source": [
    "## render_w_vec_heatmap"
   ]
  },
  {
   "cell_type": "code",
   "execution_count": 43,
   "id": "5de88038-7cb8-4374-9236-f8af99c40247",
   "metadata": {},
   "outputs": [],
   "source": [
    "def render_w_vec_heatmap(seq_lv_meta, pad_width=10):\n",
    "    plt.figure(figsize=(10, 10))\n",
    "    w_vec_heatmap = np.zeros((config.sample_size * 2, config.sample_size * 2))\n",
    "    xy_prev = np.array([w_vec_heatmap.shape[0] / 2, w_vec_heatmap.shape[1] / 2])\n",
    "    xy_min, xy_max = +np.inf, -np.inf\n",
    "    w_vec = get_w_vec(seq_lv_meta)\n",
    "    \n",
    "    for seq_lv_block, w_vec_block in zip(seq_lv_meta.seq_lv_orig.reshape(SEQ_SUBLVS_COUNT, -1), w_vec.reshape(SEQ_SUBLVS_COUNT, -1)):\n",
    "        for i, (xy, ww), in enumerate(zip(seq_lv_block.reshape(-1, 2), w_vec_block.reshape(-1, 2))):\n",
    "            xy = xy_prev + xy\n",
    "            xy_prev = xy\n",
    "            w_vec_heatmap[int(xy[1]), int(xy[0])] = np.mean(ww)\n",
    "            xy_min = int(min(xy_min, min(xy[0], xy[1])))\n",
    "            xy_max = int(max(xy_max, max(xy[0], xy[1])))\n",
    "\n",
    "    assert xy_min >= 0\n",
    "    assert xy_max < w_vec_heatmap.shape[1]\n",
    "    assert xy_max < w_vec_heatmap.shape[0]\n",
    "    w_vec_heatmap = w_vec_heatmap[xy_min:xy_max,xy_min:xy_max]\n",
    "    w_vec_heatmap = np.pad(w_vec_heatmap, pad_width, mode='constant', constant_values=0)\n",
    "    plt.imshow(w_vec_heatmap, cmap='hot', interpolation='nearest')\n",
    "    plt.colorbar()\n",
    "    plt.title(f'Total matches={seq_lv_meta.pos_matches_count + seq_lv_meta.neg_matches_count} (pos.={seq_lv_meta.pos_matches_count})')\n",
    "    plt.show()"
   ]
  },
  {
   "cell_type": "markdown",
   "id": "f5c38a77-76b5-429b-bf63-41c7f01e4259",
   "metadata": {},
   "source": [
    "## render_seq_lv_orig_upd"
   ]
  },
  {
   "cell_type": "code",
   "execution_count": 44,
   "id": "c5e8aa45-7ec4-425d-a3fc-6d26a85eba5e",
   "metadata": {},
   "outputs": [],
   "source": [
    "def render_seq_lv_orig_upd(seq_lv_meta, pad_width=10):\n",
    "    fig, (ax1, ax2) = plt.subplots(1, 2)\n",
    "    fig.set_figwidth(20)\n",
    "    fig.set_figheight(10)\n",
    "    render_data_list = [\n",
    "        (np.zeros((config.sample_size * 2, config.sample_size * 2)), seq_lv_meta.seq_lv_orig, ax1),\n",
    "        (np.zeros((config.sample_size * 2, config.sample_size * 2)), seq_lv_meta.seq_lv_upd, ax2),\n",
    "    ]\n",
    "    \n",
    "    for heatmap, seq_lv, ax in render_data_list:\n",
    "        xy_prev = np.array([heatmap.shape[0] / 2, heatmap.shape[1] / 2])\n",
    "        xy_min, xy_max = +np.inf, -np.inf\n",
    "        vec_lens = np.linalg.norm(seq_lv.reshape(-1, 2), axis=1)\n",
    "        seq_lv_norm = (seq_lv.reshape(-1, 2).T / np.where(vec_lens != 0, vec_lens, 1)).T\n",
    "        \n",
    "        for seq_lv_block, vec_lens_block in zip(seq_lv_norm.reshape(SEQ_SUBLVS_COUNT, -1), vec_lens.reshape(SEQ_SUBLVS_COUNT, -1)):\n",
    "            for xy, vec_len in zip(seq_lv_block.reshape(-1, 2), vec_lens_block):\n",
    "                xy = xy_prev + xy\n",
    "                xy_prev = xy\n",
    "                heatmap[int(xy[1]), int(xy[0])] = vec_len\n",
    "                xy_min = int(min(xy_min, min(xy[0], xy[1])))\n",
    "                xy_max = int(max(xy_max, max(xy[0], xy[1])))\n",
    "    \n",
    "        assert xy_min >= 0\n",
    "        assert xy_max < heatmap.shape[1]\n",
    "        assert xy_max < heatmap.shape[0]\n",
    "        heatmap = heatmap[xy_min:xy_max,xy_min:xy_max]\n",
    "        heatmap = np.pad(heatmap, pad_width, mode='constant', constant_values=0)\n",
    "    \n",
    "        im = ax.imshow(heatmap, cmap='hot', interpolation='nearest')\n",
    "        ax.figure.colorbar(im, ax=ax) #, **cbar_kw)\n",
    "            \n",
    "    plt.show()"
   ]
  },
  {
   "cell_type": "markdown",
   "id": "582ad609-9873-4ab3-830f-488d15ecf505",
   "metadata": {},
   "source": [
    "## .lab"
   ]
  },
  {
   "cell_type": "code",
   "execution_count": 45,
   "id": "569af1ff-18fb-4354-98f2-10c20c7eb502",
   "metadata": {},
   "outputs": [],
   "source": [
    "# print(engram_image_id)\n",
    "# image_pil = Image.new('L', size=(800, 800), color='black')\n",
    "# image_pil = image_pil.convert('RGB')\n",
    "# draw = ImageDraw.Draw(image_pil)\n",
    "\n",
    "# offset = np.array([image_pil.size[0] // 2, image_pil.size[1] // 2])\n",
    "# mean = np.mean(seq_lv.reshape(-1, 2), axis=0)\n",
    "\n",
    "# for i, xy in enumerate(seq_lv.reshape(-1, 2)):\n",
    "#     xy = xy + offset - mean\n",
    "#     draw.rectangle([xy[0] - 1, xy[1] - 1, xy[0] + 1, xy[1] + 1], width=1, fill=['red', 'green', 'blue', 'cyan', 'magenta'][i // SEQ_SUBLV_LEN])\n",
    "\n",
    "# image_pil"
   ]
  },
  {
   "cell_type": "code",
   "execution_count": 46,
   "id": "07eb7a16-b80b-40b3-8808-c06819f466d8",
   "metadata": {},
   "outputs": [],
   "source": [
    "# seq_lv = np.zeros((SEQ_SUBLVS_COUNT, SEQ_SUBLV_LEN, 2))\n",
    "# assert sequences\n",
    "# assert len(sequences) <= SEQ_SUBLVS_COUNT\n",
    "\n",
    "# pivot_pt = fetch_si_xy(si_ind_dict[sequences[0][0]])\n",
    "\n",
    "# for sequence, seq_sublv in zip(sequences, seq_lv):\n",
    "#     assert sequence\n",
    "#     xy_sequence = get_xy_sequence(sequence, si_ind_dict)\n",
    "#     xy_sequence0 = xy_sequence[0].copy()\n",
    "#     xy_sequence -= xy_sequence0\n",
    "#     vec_sequence = np.array(list(map(lambda xy_pair: (xy_pair[1][0] - xy_pair[0][0], xy_pair[1][1] - xy_pair[0][1]), \n",
    "#                                      zip(xy_sequence, np.roll(xy_sequence, -1, axis=0)))))\n",
    "#     vec_sequence[-1,:] = 0 # get rid of reciprocal vector which connects tail to tip\n",
    "#     vec_len_sequence = np.linalg.norm(vec_sequence, axis=1)\n",
    "#     vec_len_sequence_nozero = np.where(vec_len_sequence != 0, vec_len_sequence, 1e-6) # prevent 0 len vectors\n",
    "#     norm_vec_sequence = (vec_sequence.T / vec_len_sequence_nozero).T\n",
    "    \n",
    "#     assert len(sequence) == vec_sequence.shape[0]\n",
    "#     assert len(sequence) == vec_len_sequence.shape[0]\n",
    "#     assert len(sequence) == norm_vec_sequence.shape[0]\n",
    "    \n",
    "#     seq_len = vec_len_sequence.sum()\n",
    "\n",
    "#     if seq_len == 0:\n",
    "#         continue\n",
    "        \n",
    "#     assert seq_len <= seq_sublv.shape[0]\n",
    "    \n",
    "#     i = 0\n",
    "#     i_from = 0\n",
    "#     i_to = 0\n",
    "        \n",
    "#     for si_ind, norm_vec, vec_len in zip(sequence, norm_vec_sequence, vec_len_sequence):\n",
    "#         if vec_len > 0:\n",
    "#             i += vec_len\n",
    "#             i_to = min(int(i), seq_sublv.shape[0])\n",
    "#             assert i_from >= 0, i_from\n",
    "#             assert i_to >= i_from, (i_to, i_from)\n",
    "#             assert i_to <= seq_sublv.shape[0], (i_to, seq_sublv.shape[0])\n",
    "#             i_to2 = i_to\n",
    "            \n",
    "#             if si_ind == sequence[-1]: # last element - span to the end (due to rounding sometimes i_to may not be exactly positioned at last index\n",
    "#                 i_to2 = seq_sublv.shape[0]\n",
    "    \n",
    "#             seq_sublv[i_from:i_to2] = norm_vec\n",
    "        \n",
    "#         i_from = i_to\n",
    "    \n",
    "#         if i_to >= seq_sublv.shape[0]:\n",
    "#             break\n",
    "\n",
    "#     # Put ingress vector (aka offset of this sequence) on tip of latent vector. This way we would be able to \n",
    "#     # account for differences in locations of sequences\n",
    "#     seq_sublv[:] = np.roll(seq_sublv, 1, axis=0)\n",
    "#     seq_sublv[0] = xy_sequence0 - pivot_pt\n",
    "\n",
    "# seq_lv = seq_lv.ravel()\n",
    "# # seq_lv_len = np.linalg.norm(seq_lv)"
   ]
  },
  {
   "cell_type": "code",
   "execution_count": 47,
   "id": "961e17b1-5db7-4160-97e2-cac0865fd1f2",
   "metadata": {},
   "outputs": [],
   "source": [
    "# # %%time\n",
    "# image = Image.open(io.BytesIO(df_train_images.loc[engram_image_id]['png']))\n",
    "# image"
   ]
  },
  {
   "cell_type": "code",
   "execution_count": 48,
   "id": "5d549ddd-bbce-4722-a0f6-44ed42f86d54",
   "metadata": {},
   "outputs": [],
   "source": [
    "# # %%time\n",
    "# image_ids = RNG.choice(df_train_images.index, 8, replace=False)\n",
    "# images = list(map(lambda image_id: Image.open(io.BytesIO(df_train_images.loc[image_id]['png'])), image_ids))\n",
    "# captions = [f'{image_ids[0]}']\n",
    "\n",
    "# engram_image_id = image_ids[0]\n",
    "# engram_image_id = 13567\n",
    "# matchee_image_ids = image_ids[1:]\n",
    "# matchee_image_id = matchee_image_ids[0]\n",
    "# # matchee_image_id = 5941\n",
    "\n",
    "# ###\n",
    "# df_image = df_train_images.loc[engram_image_id]\n",
    "# #\n",
    "# si_ind_dict = pickle.loads(df_image['inner_si_ind_dict'])\n",
    "# sequences = pickle.loads(df_image['inner_sequences'])\n",
    "# assert False\n",
    "\n",
    "# engram_id = next(ENGRAM_ID_SOURCE)\n",
    "# engram = Engram(engram_id=engram_id, image_id=int(engram_image_id), value=df_image['value'], seq_lv_inds=[], si_ind_dict=si_ind_dict)\n",
    "\n",
    "# # Persist various readings of sequences\n",
    "# if len(sequences) > SEQ_SUBLVS_COUNT:\n",
    "#     seq_indices = RNG.choice(len(sequences), SEQ_SUBLVS_COUNT, replace=False)\n",
    "#     # TODO: another implementation may be to take up to 4 sequences and all remaining as combined\n",
    "# else:\n",
    "#     seq_indices = list(range(len(sequences)))\n",
    "    \n",
    "# assert len(seq_indices) <= SEQ_SUBLVS_COUNT\n",
    "\n",
    "# seq_lv_codes = []\n",
    "\n",
    "# for seq_orientation in itertools.product(range(2), repeat=len(seq_indices)):\n",
    "#     seq_lv_codes.append(list(zip(seq_indices, seq_orientation)))\n",
    "\n",
    "# for seq_lv_code in seq_lv_codes:\n",
    "#     sequences_reading = list(map(lambda seq_ind_and_orient: sequences[seq_ind_and_orient[0]] if seq_ind_and_orient[1] == 0 else list(reversed(sequences[seq_ind_and_orient[0]])), seq_lv_code))\n",
    "#     seq_lv = calc_seqs_latent_vector(sequences_reading, si_ind_dict)\n",
    "\n",
    "# # sequence = get_sequence(sequences) # assemble default sequence\n",
    "\n",
    "# # # Phasing (for sequences near to circular) + persisting\n",
    "# # for i, si_ind in enumerate(sequence):\n",
    "# #     seq = np.roll(sequence, -i, axis=0)\n",
    "# #     seq_lv = calc_seq_latent_vector(seq, si_ind_dict)\n",
    "# #     # seq_lv_ind = SEQ_LVS.lease()\n",
    "# #     # SEQ_LVS.array_active[seq_lv_ind] = phased_seq_lv\n",
    "    \n",
    "# #     seq_lv_ind = SEQ_LVS_COS_SIM.lease()\n",
    "# #     SEQ_LVS_COS_SIM.array_active[seq_lv_ind] = seq_lv\n",
    "# #     # assert SEQ_LVS_CORR.lease() == seq_lv_ind\n",
    "# #     # SEQ_LVS_CORR.array_active[seq_lv_ind] = (phased_seq_lv - phased_seq_lv.mean()) / phased_seq_lv.std()\n",
    "# #     assert SEQ_LVS_DIFF_SQ.lease() == seq_lv_ind\n",
    "# #     SEQ_LVS_DIFF_SQ.array_active[seq_lv_ind] = np.hstack([seq_lv ** 2, np.full_like(seq_lv, 1, dtype=seq_lv.dtype)])\n",
    "    \n",
    "# #     seq_lv_meta = SeqLatentVecMeta(engram_id=engram_id, phase=i, seq=seq, seq_lv_ind=seq_lv_ind)\n",
    "# #     SEQ_LV_IND_TO_META[seq_lv_ind] = seq_lv_meta\n",
    "# #     engram.seq_lv_inds.append(seq_lv_ind)\n",
    "\n",
    "# assert False\n",
    "# ### \n",
    "\n",
    "# ###\n",
    "# df_image = df_train_images.loc[matchee_image_id]\n",
    "# #\n",
    "# si_ind_dict = pickle.loads(df_image['inner_si_ind_dict'])\n",
    "# sequences = pickle.loads(df_image['inner_sequences'])\n",
    "# # matchee = Matchee(seqs=[], seq_lvs=[], seq_lv_codes=[], si_ind_dict=si_ind_dict)\n",
    "# matchee = Matchee(seqs=[], seq_lvs_cos_sim=[], seq_lvs_diff_sq=[], seq_lv_codes=[], si_ind_dict=si_ind_dict)\n",
    "\n",
    "# # Take up to 5 sequences. More than 5 explodes too fast. Close to Miller's number (https://en.wikipedia.org/wiki/The_Magical_Number_Seven,_Plus_or_Minus_Two)\n",
    "# # Count of variants = (seqs_count)! * 2^seqs_count\n",
    "# # seqs_count | variant_counts\n",
    "# # ______________________\n",
    "# # 1          | 2\n",
    "# # 2          | 8\n",
    "# # 3          | 42\n",
    "# # 4          | 384\n",
    "# # 5          | 3840\n",
    "# # 6          | 46080\n",
    "# # 7          | 645120\n",
    "\n",
    "# MAX_SEQUENCES_COUNT = 5\n",
    "\n",
    "# if len(sequences) > MAX_SEQUENCES_COUNT:\n",
    "#     seq_indices = RNG.choice(len(sequences), MAX_SEQUENCES_COUNT, replace=False)\n",
    "#     # TODO: another implementation may be to take up to 4 sequences and all remaining as combined\n",
    "# else:\n",
    "#     seq_indices = list(range(len(sequences)))\n",
    "    \n",
    "# assert len(seq_indices) <= MAX_SEQUENCES_COUNT\n",
    "\n",
    "# seq_lv_codes = []\n",
    "\n",
    "# for perm_seq_indices in itertools.permutations(seq_indices, len(seq_indices)):\n",
    "#     for seq_orientation in itertools.product(range(2), repeat=len(seq_indices)):\n",
    "#         seq_lv_codes.append(list(zip(perm_seq_indices, seq_orientation)))\n",
    "\n",
    "# for seq_lv_code in seq_lv_codes:\n",
    "#     maps = map(lambda seq_ind_and_orient: sequences[seq_ind_and_orient[0]] if seq_ind_and_orient[1] == 0 else reversed(sequences[seq_ind_and_orient[0]]), seq_lv_code)\n",
    "#     sequence = np.array(list(itertools.chain.from_iterable(maps)))\n",
    "#     seq_lv = calc_seq_latent_vector(sequence, si_ind_dict)\n",
    "#     # matchee.seq_lvs.append(seq_lv)\n",
    "#     matchee.seq_lvs_cos_sim.append(seq_lv)\n",
    "#     matchee.seq_lvs_diff_sq.append(seq_lv)\n",
    "\n",
    "# matchee = matchee._replace(seq_lvs_cos_sim=np.array(matchee.seq_lvs_cos_sim), seq_lvs_diff_sq=np.array(matchee.seq_lvs_diff_sq))"
   ]
  },
  {
   "cell_type": "markdown",
   "id": "8a40ec0a-891b-4385-88c3-6699bf574057",
   "metadata": {},
   "source": [
    "# Train"
   ]
  },
  {
   "cell_type": "code",
   "execution_count": 53,
   "id": "145172a9-54d1-4563-a7ab-cde78584810c",
   "metadata": {},
   "outputs": [],
   "source": [
    "LOG.is_enabled = True"
   ]
  },
  {
   "cell_type": "code",
   "execution_count": 54,
   "id": "5e1dcef8-bf6d-464d-9d9d-5addcec96c07",
   "metadata": {},
   "outputs": [],
   "source": [
    "NU_DECREASE_FACTOR = 0.95"
   ]
  },
  {
   "cell_type": "code",
   "execution_count": 247,
   "id": "a4bb1b24-5c1f-427a-a238-b445229bc634",
   "metadata": {},
   "outputs": [],
   "source": [
    "count = min(1000, len(df_train_images))\n",
    "train_image_ids = RNG.choice(df_train_images.index.unique(), count, replace=False)\n",
    "# train_image_ids = RNG.choice(df_train_images.index.unique(), count, replace=False)\n",
    "# train_image_ids = [7965]\n",
    "# train_image_ids = [21613]\n",
    "# 15494 - семерка с 6 секвенсами"
   ]
  },
  {
   "cell_type": "code",
   "execution_count": 248,
   "id": "b5b3a964-acfe-449a-8668-928587811e45",
   "metadata": {},
   "outputs": [],
   "source": [
    "TRAIN_RUNS_COUNT = 0\n",
    "TRAIN_IMAGES_COUNT = 0\n",
    "clear_memory()"
   ]
  },
  {
   "cell_type": "code",
   "execution_count": 249,
   "id": "a2366ea9-8171-4373-b8ce-9cc0299c365f",
   "metadata": {},
   "outputs": [
    {
     "data": {
      "application/vnd.jupyter.widget-view+json": {
       "model_id": "4aa746144f45452a97d44b0ea1b6ac34",
       "version_major": 2,
       "version_minor": 0
      },
      "text/plain": [
       "  0%|          | 0/5 [00:00<?, ?it/s]"
      ]
     },
     "metadata": {},
     "output_type": "display_data"
    },
    {
     "data": {
      "application/vnd.jupyter.widget-view+json": {
       "model_id": "",
       "version_major": 2,
       "version_minor": 0
      },
      "text/plain": [
       "Mining:   0%|          | 0/1000 [00:00<?, ?it/s]"
      ]
     },
     "metadata": {},
     "output_type": "display_data"
    },
    {
     "data": {
      "application/vnd.jupyter.widget-view+json": {
       "model_id": "",
       "version_major": 2,
       "version_minor": 0
      },
      "text/plain": [
       "Verify (1/10):   0%|          | 0/1000 [00:00<?, ?it/s]"
      ]
     },
     "metadata": {},
     "output_type": "display_data"
    },
    {
     "data": {
      "application/vnd.jupyter.widget-view+json": {
       "model_id": "",
       "version_major": 2,
       "version_minor": 0
      },
      "text/plain": [
       "Mining:   0%|          | 0/8 [00:00<?, ?it/s]"
      ]
     },
     "metadata": {},
     "output_type": "display_data"
    },
    {
     "data": {
      "application/vnd.jupyter.widget-view+json": {
       "model_id": "",
       "version_major": 2,
       "version_minor": 0
      },
      "text/plain": [
       "Verify (2/10):   0%|          | 0/1000 [00:00<?, ?it/s]"
      ]
     },
     "metadata": {},
     "output_type": "display_data"
    },
    {
     "data": {
      "application/vnd.jupyter.widget-view+json": {
       "model_id": "",
       "version_major": 2,
       "version_minor": 0
      },
      "text/plain": [
       "Mining:   0%|          | 0/78 [00:00<?, ?it/s]"
      ]
     },
     "metadata": {},
     "output_type": "display_data"
    },
    {
     "data": {
      "application/vnd.jupyter.widget-view+json": {
       "model_id": "",
       "version_major": 2,
       "version_minor": 0
      },
      "text/plain": [
       "Verify (3/10):   0%|          | 0/1000 [00:00<?, ?it/s]"
      ]
     },
     "metadata": {},
     "output_type": "display_data"
    },
    {
     "data": {
      "application/vnd.jupyter.widget-view+json": {
       "model_id": "",
       "version_major": 2,
       "version_minor": 0
      },
      "text/plain": [
       "Mining:   0%|          | 0/9 [00:00<?, ?it/s]"
      ]
     },
     "metadata": {},
     "output_type": "display_data"
    },
    {
     "data": {
      "application/vnd.jupyter.widget-view+json": {
       "model_id": "",
       "version_major": 2,
       "version_minor": 0
      },
      "text/plain": [
       "Verify (4/10):   0%|          | 0/1000 [00:00<?, ?it/s]"
      ]
     },
     "metadata": {},
     "output_type": "display_data"
    },
    {
     "data": {
      "application/vnd.jupyter.widget-view+json": {
       "model_id": "",
       "version_major": 2,
       "version_minor": 0
      },
      "text/plain": [
       "Mining:   0%|          | 0/25 [00:00<?, ?it/s]"
      ]
     },
     "metadata": {},
     "output_type": "display_data"
    },
    {
     "data": {
      "application/vnd.jupyter.widget-view+json": {
       "model_id": "",
       "version_major": 2,
       "version_minor": 0
      },
      "text/plain": [
       "Verify (5/10):   0%|          | 0/1000 [00:00<?, ?it/s]"
      ]
     },
     "metadata": {},
     "output_type": "display_data"
    },
    {
     "data": {
      "application/vnd.jupyter.widget-view+json": {
       "model_id": "",
       "version_major": 2,
       "version_minor": 0
      },
      "text/plain": [
       "Mining:   0%|          | 0/7 [00:00<?, ?it/s]"
      ]
     },
     "metadata": {},
     "output_type": "display_data"
    },
    {
     "data": {
      "application/vnd.jupyter.widget-view+json": {
       "model_id": "",
       "version_major": 2,
       "version_minor": 0
      },
      "text/plain": [
       "Verify (6/10):   0%|          | 0/1000 [00:00<?, ?it/s]"
      ]
     },
     "metadata": {},
     "output_type": "display_data"
    },
    {
     "data": {
      "application/vnd.jupyter.widget-view+json": {
       "model_id": "",
       "version_major": 2,
       "version_minor": 0
      },
      "text/plain": [
       "Mining:   0%|          | 0/12 [00:00<?, ?it/s]"
      ]
     },
     "metadata": {},
     "output_type": "display_data"
    },
    {
     "data": {
      "application/vnd.jupyter.widget-view+json": {
       "model_id": "",
       "version_major": 2,
       "version_minor": 0
      },
      "text/plain": [
       "Verify (7/10):   0%|          | 0/1000 [00:00<?, ?it/s]"
      ]
     },
     "metadata": {},
     "output_type": "display_data"
    },
    {
     "data": {
      "application/vnd.jupyter.widget-view+json": {
       "model_id": "",
       "version_major": 2,
       "version_minor": 0
      },
      "text/plain": [
       "Mining:   0%|          | 0/9 [00:00<?, ?it/s]"
      ]
     },
     "metadata": {},
     "output_type": "display_data"
    },
    {
     "data": {
      "application/vnd.jupyter.widget-view+json": {
       "model_id": "",
       "version_major": 2,
       "version_minor": 0
      },
      "text/plain": [
       "Verify (8/10):   0%|          | 0/1000 [00:00<?, ?it/s]"
      ]
     },
     "metadata": {},
     "output_type": "display_data"
    },
    {
     "data": {
      "application/vnd.jupyter.widget-view+json": {
       "model_id": "",
       "version_major": 2,
       "version_minor": 0
      },
      "text/plain": [
       "Mining:   0%|          | 0/5 [00:00<?, ?it/s]"
      ]
     },
     "metadata": {},
     "output_type": "display_data"
    },
    {
     "data": {
      "application/vnd.jupyter.widget-view+json": {
       "model_id": "",
       "version_major": 2,
       "version_minor": 0
      },
      "text/plain": [
       "Verify (9/10):   0%|          | 0/1000 [00:00<?, ?it/s]"
      ]
     },
     "metadata": {},
     "output_type": "display_data"
    },
    {
     "data": {
      "application/vnd.jupyter.widget-view+json": {
       "model_id": "",
       "version_major": 2,
       "version_minor": 0
      },
      "text/plain": [
       "Mining:   0%|          | 0/5 [00:00<?, ?it/s]"
      ]
     },
     "metadata": {},
     "output_type": "display_data"
    },
    {
     "data": {
      "application/vnd.jupyter.widget-view+json": {
       "model_id": "",
       "version_major": 2,
       "version_minor": 0
      },
      "text/plain": [
       "Verify (10/10):   0%|          | 0/1000 [00:00<?, ?it/s]"
      ]
     },
     "metadata": {},
     "output_type": "display_data"
    },
    {
     "name": "stdout",
     "output_type": "stream",
     "text": [
      "Total engrams 312\n"
     ]
    },
    {
     "data": {
      "application/vnd.jupyter.widget-view+json": {
       "model_id": "",
       "version_major": 2,
       "version_minor": 0
      },
      "text/plain": [
       "Mining:   0%|          | 0/1000 [00:00<?, ?it/s]"
      ]
     },
     "metadata": {},
     "output_type": "display_data"
    },
    {
     "data": {
      "application/vnd.jupyter.widget-view+json": {
       "model_id": "",
       "version_major": 2,
       "version_minor": 0
      },
      "text/plain": [
       "Verify (1/10):   0%|          | 0/1000 [00:00<?, ?it/s]"
      ]
     },
     "metadata": {},
     "output_type": "display_data"
    },
    {
     "name": "stdout",
     "output_type": "stream",
     "text": [
      "Total engrams 239\n"
     ]
    },
    {
     "data": {
      "application/vnd.jupyter.widget-view+json": {
       "model_id": "",
       "version_major": 2,
       "version_minor": 0
      },
      "text/plain": [
       "Mining:   0%|          | 0/1000 [00:00<?, ?it/s]"
      ]
     },
     "metadata": {},
     "output_type": "display_data"
    },
    {
     "data": {
      "application/vnd.jupyter.widget-view+json": {
       "model_id": "",
       "version_major": 2,
       "version_minor": 0
      },
      "text/plain": [
       "Verify (1/10):   0%|          | 0/1000 [00:00<?, ?it/s]"
      ]
     },
     "metadata": {},
     "output_type": "display_data"
    },
    {
     "data": {
      "application/vnd.jupyter.widget-view+json": {
       "model_id": "",
       "version_major": 2,
       "version_minor": 0
      },
      "text/plain": [
       "Mining:   0%|          | 0/8 [00:00<?, ?it/s]"
      ]
     },
     "metadata": {},
     "output_type": "display_data"
    },
    {
     "data": {
      "application/vnd.jupyter.widget-view+json": {
       "model_id": "",
       "version_major": 2,
       "version_minor": 0
      },
      "text/plain": [
       "Verify (2/10):   0%|          | 0/1000 [00:00<?, ?it/s]"
      ]
     },
     "metadata": {},
     "output_type": "display_data"
    },
    {
     "data": {
      "application/vnd.jupyter.widget-view+json": {
       "model_id": "",
       "version_major": 2,
       "version_minor": 0
      },
      "text/plain": [
       "Mining:   0%|          | 0/111 [00:00<?, ?it/s]"
      ]
     },
     "metadata": {},
     "output_type": "display_data"
    },
    {
     "data": {
      "application/vnd.jupyter.widget-view+json": {
       "model_id": "",
       "version_major": 2,
       "version_minor": 0
      },
      "text/plain": [
       "Verify (3/10):   0%|          | 0/1000 [00:00<?, ?it/s]"
      ]
     },
     "metadata": {},
     "output_type": "display_data"
    },
    {
     "data": {
      "application/vnd.jupyter.widget-view+json": {
       "model_id": "",
       "version_major": 2,
       "version_minor": 0
      },
      "text/plain": [
       "Mining:   0%|          | 0/10 [00:00<?, ?it/s]"
      ]
     },
     "metadata": {},
     "output_type": "display_data"
    },
    {
     "data": {
      "application/vnd.jupyter.widget-view+json": {
       "model_id": "",
       "version_major": 2,
       "version_minor": 0
      },
      "text/plain": [
       "Verify (4/10):   0%|          | 0/1000 [00:00<?, ?it/s]"
      ]
     },
     "metadata": {},
     "output_type": "display_data"
    },
    {
     "data": {
      "application/vnd.jupyter.widget-view+json": {
       "model_id": "",
       "version_major": 2,
       "version_minor": 0
      },
      "text/plain": [
       "Mining:   0%|          | 0/39 [00:00<?, ?it/s]"
      ]
     },
     "metadata": {},
     "output_type": "display_data"
    },
    {
     "data": {
      "application/vnd.jupyter.widget-view+json": {
       "model_id": "",
       "version_major": 2,
       "version_minor": 0
      },
      "text/plain": [
       "Verify (5/10):   0%|          | 0/1000 [00:00<?, ?it/s]"
      ]
     },
     "metadata": {},
     "output_type": "display_data"
    },
    {
     "data": {
      "application/vnd.jupyter.widget-view+json": {
       "model_id": "",
       "version_major": 2,
       "version_minor": 0
      },
      "text/plain": [
       "Mining:   0%|          | 0/4 [00:00<?, ?it/s]"
      ]
     },
     "metadata": {},
     "output_type": "display_data"
    },
    {
     "data": {
      "application/vnd.jupyter.widget-view+json": {
       "model_id": "",
       "version_major": 2,
       "version_minor": 0
      },
      "text/plain": [
       "Verify (6/10):   0%|          | 0/1000 [00:00<?, ?it/s]"
      ]
     },
     "metadata": {},
     "output_type": "display_data"
    },
    {
     "data": {
      "application/vnd.jupyter.widget-view+json": {
       "model_id": "",
       "version_major": 2,
       "version_minor": 0
      },
      "text/plain": [
       "Mining:   0%|          | 0/5 [00:00<?, ?it/s]"
      ]
     },
     "metadata": {},
     "output_type": "display_data"
    },
    {
     "data": {
      "application/vnd.jupyter.widget-view+json": {
       "model_id": "",
       "version_major": 2,
       "version_minor": 0
      },
      "text/plain": [
       "Verify (7/10):   0%|          | 0/1000 [00:00<?, ?it/s]"
      ]
     },
     "metadata": {},
     "output_type": "display_data"
    },
    {
     "data": {
      "application/vnd.jupyter.widget-view+json": {
       "model_id": "",
       "version_major": 2,
       "version_minor": 0
      },
      "text/plain": [
       "Mining:   0%|          | 0/5 [00:00<?, ?it/s]"
      ]
     },
     "metadata": {},
     "output_type": "display_data"
    },
    {
     "data": {
      "application/vnd.jupyter.widget-view+json": {
       "model_id": "",
       "version_major": 2,
       "version_minor": 0
      },
      "text/plain": [
       "Verify (8/10):   0%|          | 0/1000 [00:00<?, ?it/s]"
      ]
     },
     "metadata": {},
     "output_type": "display_data"
    },
    {
     "data": {
      "application/vnd.jupyter.widget-view+json": {
       "model_id": "",
       "version_major": 2,
       "version_minor": 0
      },
      "text/plain": [
       "Mining:   0%|          | 0/18 [00:00<?, ?it/s]"
      ]
     },
     "metadata": {},
     "output_type": "display_data"
    },
    {
     "data": {
      "application/vnd.jupyter.widget-view+json": {
       "model_id": "",
       "version_major": 2,
       "version_minor": 0
      },
      "text/plain": [
       "Verify (9/10):   0%|          | 0/1000 [00:00<?, ?it/s]"
      ]
     },
     "metadata": {},
     "output_type": "display_data"
    },
    {
     "data": {
      "application/vnd.jupyter.widget-view+json": {
       "model_id": "",
       "version_major": 2,
       "version_minor": 0
      },
      "text/plain": [
       "Mining:   0%|          | 0/12 [00:00<?, ?it/s]"
      ]
     },
     "metadata": {},
     "output_type": "display_data"
    },
    {
     "data": {
      "application/vnd.jupyter.widget-view+json": {
       "model_id": "c7204f4acbb24e76997119d943a587dc",
       "version_major": 2,
       "version_minor": 0
      },
      "text/plain": [
       "Verify (10/10):   0%|          | 0/1000 [00:00<?, ?it/s]"
      ]
     },
     "metadata": {},
     "output_type": "display_data"
    },
    {
     "ename": "KeyboardInterrupt",
     "evalue": "",
     "output_type": "error",
     "traceback": [
      "\u001b[0;31m---------------------------------------------------------------------------\u001b[0m",
      "\u001b[0;31mKeyboardInterrupt\u001b[0m                         Traceback (most recent call last)",
      "File \u001b[0;32m<timed exec>:112\u001b[0m\n",
      "Cell \u001b[0;32mIn[31], line 4\u001b[0m, in \u001b[0;36mget_match_tab\u001b[0;34m(matchee, inspect_depth)\u001b[0m\n\u001b[1;32m      2\u001b[0m match_tab_columns \u001b[38;5;241m=\u001b[39m defaultdict(\u001b[38;5;28mlist\u001b[39m)\n\u001b[1;32m      3\u001b[0m cos_sim_mat \u001b[38;5;241m=\u001b[39m SEQ_LVS\u001b[38;5;241m.\u001b[39marray_active \u001b[38;5;241m@\u001b[39m matchee\u001b[38;5;241m.\u001b[39mseq_lvs\u001b[38;5;241m.\u001b[39mT\n\u001b[0;32m----> 4\u001b[0m top_mat_indices \u001b[38;5;241m=\u001b[39m xp_array_from_gpu(xp\u001b[38;5;241m.\u001b[39margsort(cos_sim_mat, axis\u001b[38;5;241m=\u001b[39m\u001b[38;5;28;01mNone\u001b[39;00m)[\u001b[38;5;241m-\u001b[39minspect_depth:])\n\u001b[1;32m      5\u001b[0m cos_sims \u001b[38;5;241m=\u001b[39m xp_array_from_gpu(xp\u001b[38;5;241m.\u001b[39mtake(cos_sim_mat, top_mat_indices))\n\u001b[1;32m      6\u001b[0m top_mat_indices \u001b[38;5;241m=\u001b[39m np\u001b[38;5;241m.\u001b[39mflip(top_mat_indices)\n",
      "File \u001b[0;32m~/anaconda3/envs/mine/lib/python3.12/site-packages/numpy/_core/fromnumeric.py:1260\u001b[0m, in \u001b[0;36margsort\u001b[0;34m(a, axis, kind, order, stable)\u001b[0m\n\u001b[1;32m   1144\u001b[0m \u001b[38;5;129m@array_function_dispatch\u001b[39m(_argsort_dispatcher)\n\u001b[1;32m   1145\u001b[0m \u001b[38;5;28;01mdef\u001b[39;00m \u001b[38;5;21margsort\u001b[39m(a, axis\u001b[38;5;241m=\u001b[39m\u001b[38;5;241m-\u001b[39m\u001b[38;5;241m1\u001b[39m, kind\u001b[38;5;241m=\u001b[39m\u001b[38;5;28;01mNone\u001b[39;00m, order\u001b[38;5;241m=\u001b[39m\u001b[38;5;28;01mNone\u001b[39;00m, \u001b[38;5;241m*\u001b[39m, stable\u001b[38;5;241m=\u001b[39m\u001b[38;5;28;01mNone\u001b[39;00m):\n\u001b[1;32m   1146\u001b[0m \u001b[38;5;250m    \u001b[39m\u001b[38;5;124;03m\"\"\"\u001b[39;00m\n\u001b[1;32m   1147\u001b[0m \u001b[38;5;124;03m    Returns the indices that would sort an array.\u001b[39;00m\n\u001b[1;32m   1148\u001b[0m \n\u001b[0;32m   (...)\u001b[0m\n\u001b[1;32m   1258\u001b[0m \n\u001b[1;32m   1259\u001b[0m \u001b[38;5;124;03m    \"\"\"\u001b[39;00m\n\u001b[0;32m-> 1260\u001b[0m     \u001b[38;5;28;01mreturn\u001b[39;00m _wrapfunc(\n\u001b[1;32m   1261\u001b[0m         a, \u001b[38;5;124m'\u001b[39m\u001b[38;5;124margsort\u001b[39m\u001b[38;5;124m'\u001b[39m, axis\u001b[38;5;241m=\u001b[39maxis, kind\u001b[38;5;241m=\u001b[39mkind, order\u001b[38;5;241m=\u001b[39morder, stable\u001b[38;5;241m=\u001b[39mstable\n\u001b[1;32m   1262\u001b[0m     )\n",
      "File \u001b[0;32m~/anaconda3/envs/mine/lib/python3.12/site-packages/numpy/_core/fromnumeric.py:57\u001b[0m, in \u001b[0;36m_wrapfunc\u001b[0;34m(obj, method, *args, **kwds)\u001b[0m\n\u001b[1;32m     54\u001b[0m     \u001b[38;5;28;01mreturn\u001b[39;00m _wrapit(obj, method, \u001b[38;5;241m*\u001b[39margs, \u001b[38;5;241m*\u001b[39m\u001b[38;5;241m*\u001b[39mkwds)\n\u001b[1;32m     56\u001b[0m \u001b[38;5;28;01mtry\u001b[39;00m:\n\u001b[0;32m---> 57\u001b[0m     \u001b[38;5;28;01mreturn\u001b[39;00m bound(\u001b[38;5;241m*\u001b[39margs, \u001b[38;5;241m*\u001b[39m\u001b[38;5;241m*\u001b[39mkwds)\n\u001b[1;32m     58\u001b[0m \u001b[38;5;28;01mexcept\u001b[39;00m \u001b[38;5;167;01mTypeError\u001b[39;00m:\n\u001b[1;32m     59\u001b[0m     \u001b[38;5;66;03m# A TypeError occurs if the object does have such a method in its\u001b[39;00m\n\u001b[1;32m     60\u001b[0m     \u001b[38;5;66;03m# class, but its signature is not identical to that of NumPy's. This\u001b[39;00m\n\u001b[0;32m   (...)\u001b[0m\n\u001b[1;32m     64\u001b[0m     \u001b[38;5;66;03m# Call _wrapit from within the except clause to ensure a potential\u001b[39;00m\n\u001b[1;32m     65\u001b[0m     \u001b[38;5;66;03m# exception has a traceback chain.\u001b[39;00m\n\u001b[1;32m     66\u001b[0m     \u001b[38;5;28;01mreturn\u001b[39;00m _wrapit(obj, method, \u001b[38;5;241m*\u001b[39margs, \u001b[38;5;241m*\u001b[39m\u001b[38;5;241m*\u001b[39mkwds)\n",
      "\u001b[0;31mKeyboardInterrupt\u001b[0m: "
     ]
    }
   ],
   "source": [
    "%%time\n",
    "train_runs = 5\n",
    "mistake_works_count = 10\n",
    "\n",
    "for _ in tqdm(range(train_runs)):\n",
    "    TRAIN_RUNS_COUNT += 1\n",
    "    RNG.shuffle(train_image_ids)\n",
    "    image_ids = train_image_ids\n",
    "    \n",
    "    for mistake_work_serial in range(mistake_works_count):\n",
    "        if len(image_ids) < 1:\n",
    "            break\n",
    "\n",
    "        for image_id in tqdm(image_ids, leave=False, desc='Mining'):\n",
    "            image_id = int(image_id)\n",
    "            TRAIN_IMAGES_COUNT += 1\n",
    "            df_image = df_train_images.loc[image_id]\n",
    "            image_value = df_image['value']\n",
    "            matchee = create_matchee_cached(df_image)\n",
    "            df_match_tab = get_match_tab(matchee)\n",
    "\n",
    "            ###\n",
    "            df_match_tab = df_match_tab[df_match_tab['is_match'] == True] if len(df_match_tab) > 0 else df_match_tab\n",
    "            is_best_match_on_top = False\n",
    "            is_any_engram_updated = False\n",
    "            \n",
    "            for match_tab_ind, match_tab_row in enumerate(df_match_tab.itertuples()):\n",
    "                assert match_tab_row.is_match\n",
    "\n",
    "                is_correct_match = (match_tab_row.engram_value == image_value)\n",
    "                seq_lv_meta = SEQ_LV_IND_TO_META[match_tab_row.engram_seq_lv_ind]\n",
    "\n",
    "                if match_tab_row.engram_image_id != image_id:\n",
    "                    seq_lv_meta.history[image_id] = SeqLatentVecHistoryItem(image_id=image_id, cos_sim=match_tab_row.cos_sim, is_correct_match=is_correct_match)\n",
    "                \n",
    "                if not is_correct_match:\n",
    "                    SEQ_LV_IND_TO_META[seq_lv_meta.seq_lv_ind] = seq_lv_meta._replace(neg_matches_count=seq_lv_meta.neg_matches_count + 1)\n",
    "                    continue\n",
    "\n",
    "                is_best_match_on_top = is_best_match_on_top or (match_tab_ind == 0)\n",
    "                is_seq_lv_updatable = seq_lv_meta.nu > 0.005\n",
    "\n",
    "                if not is_seq_lv_updatable:\n",
    "                    continue\n",
    "\n",
    "                variant = 1\n",
    "\n",
    "                match variant:\n",
    "                    case 3:\n",
    "                        # В данном варианте мы подкручиваем каждый 2-вектор в seq_lv_upd индивидуально. При этом может меняться и его направление, и величина.\n",
    "                        # По факту мы получаем скалярные произведения между 2-векторами seq_lv_upd и match_tab_row.matchee_seq_lv_orig. \n",
    "                        # Чем больше скалярка, тем больше будет корректироваться seq_lv_upd. \n",
    "                        dot_prod = np.einsum('ij,ij->i', seq_lv_meta.seq_lv_upd.reshape(-1, 2), match_tab_row.matchee_seq_lv_orig.reshape(-1, 2))\n",
    "                        new_seq_lv_upd = seq_lv_meta.seq_lv_upd.reshape(-1, 2).T + (match_tab_row.matchee_seq_lv_orig.reshape(-1, 2).T * seq_lv_meta.nu * dot_prod)\n",
    "                        max_len = np.max(np.linalg.norm(new_seq_lv_upd, axis=0))\n",
    "                        new_seq_lv_upd = new_seq_lv_upd.T.ravel()\n",
    "                        new_seq_lv_upd /= max_len\n",
    "                        \n",
    "                        # new_seq_lv_upd /= np.max(np.abs(new_seq_lv_upd)) # Тут херня полная, т.к. игонорирует факт 2-мерности векторов. Мы можем поделить на нерелев. значение\n",
    "                        # new_seq_lv_upd /= np.sum(seq_lv_meta.weights) / seq_lv_meta.ones_count # Where to get weights???\n",
    "                        SEQ_LVS.array_active[seq_lv_meta.seq_lv_ind] = xp_array_to_gpu(new_seq_lv_upd / np.linalg.norm(new_seq_lv_upd))\n",
    "                        SEQ_LV_IND_TO_META[seq_lv_meta.seq_lv_ind] = seq_lv_meta._replace(nu=seq_lv_meta.nu * NU_DECREASE_FACTOR, \n",
    "                                                                                          seq_lv_upd=new_seq_lv_upd, \n",
    "                                                                                          pos_matches_count=seq_lv_meta.pos_matches_count + 1)\n",
    "                        # after_cos_sim = SEQ_LVS.array_active[seq_lv_meta.seq_lv_ind] @ matchee.seq_lvs[match_tab_row.matchee_seq_lv_ind]\n",
    "                        # LOG(f'seq_lv seq_lv_ind={seq_lv_meta.seq_lv_ind} cos_sim with matchee image_id={image_id}: before={match_tab_row.cos_sim:.3f}, after={after_cos_sim:.3f}')\n",
    "                        is_any_engram_updated = True\n",
    "                    \n",
    "                    case 2:\n",
    "                        # А-ля Редузобов\n",
    "                        dot_prod = seq_lv_meta.seq_lv_upd * match_tab_row.matchee_seq_lv_orig\n",
    "                        new_seq_lv_upd = seq_lv_meta.seq_lv_upd + (seq_lv_meta.nu * dot_prod * match_tab_row.matchee_seq_lv_orig)\n",
    "                        new_seq_lv_upd /= np.max(np.abs(new_seq_lv_upd))\n",
    "                        SEQ_LVS.array_active[seq_lv_meta.seq_lv_ind] = xp_array_to_gpu(new_seq_lv_upd / np.linalg.norm(new_seq_lv_upd))\n",
    "                        SEQ_LV_IND_TO_META[seq_lv_meta.seq_lv_ind] = seq_lv_meta._replace(nu=seq_lv_meta.nu * NU_DECREASE_FACTOR, \n",
    "                                                                                          seq_lv_upd=new_seq_lv_upd, \n",
    "                                                                                          pos_matches_count=seq_lv_meta.pos_matches_count + 1)\n",
    "                        is_any_engram_updated = True\n",
    "                    case 1:\n",
    "                        # denom = np.max(np.abs(np.vstack([seq_lv_meta.seq_lv_orig, match_tab_row.matchee_seq_lv_orig])), axis=0)\n",
    "                        # denom = denom ** 2 + 1e-09\n",
    "                        # # Pseudo cos sim for 1-D case\n",
    "                        # elem_cos_sims = nomin / denom # ranges from -1 (opposite match, e.g. -0,7 and 0.7) to 1 (equality, e.g. 0.5 and 0.5)\n",
    "                        # # change_factor = 1 + seq_lv_meta.nu\n",
    "        \n",
    "                        # # seq_lv_meta.w_vec[elem_cos_sims >= COS_SIM_45] *= change_factor\n",
    "                        # new_w_vec = seq_lv_meta.w_vec  + (seq_lv_meta.nu * elem_cos_sims)\n",
    "                        # new_w_vec /= np.max(new_w_vec)\n",
    "                        # new_seq_lv = seq_lv_meta.seq_lv_orig * seq_lv_meta.w_vec\n",
    "                        # new_seq_lv /= np.linalg.norm(new_seq_lv)\n",
    "                        \n",
    "                        # SEQ_LV_IND_TO_META[seq_lv_meta.seq_lv_ind] = seq_lv_meta._replace(nu=seq_lv_meta.nu * 0.9, w_vec=new_w_vec)\n",
    "                        # is_any_engram_updated = True\n",
    "                        pass\n",
    "\n",
    "            if not is_any_engram_updated and not is_best_match_on_top:\n",
    "                # engram = create_engram4(df_image, matchee)\n",
    "                engram = create_engram(df_image, matchee)\n",
    "                ENGRAMS[engram.engram_id] = engram\n",
    "                LOG(f'New engram: image_id={image_id:5}, value={image_value}, total engrams={len(ENGRAMS)}, SEQ_LVS.array.shape={SEQ_LVS.array.shape[0]}, SEQ_LVS.active_len={SEQ_LVS.active_len}')\n",
    "\n",
    "        ###\n",
    "        for seq_lv_ind, seq_lv_meta in SEQ_LV_IND_TO_META.items():\n",
    "            seq_lv_meta.history.clear()\n",
    "        \n",
    "        incorrect_image_ids = []\n",
    "        \n",
    "        for image_id in tqdm(image_ids, leave=False, desc=f'Verify ({mistake_work_serial + 1}/{mistake_works_count})'):\n",
    "        # for image_id in tqdm(train_image_ids, leave=False, desc=f'Verify ({mistake_work_serial + 1}/{mistake_works_count})'):\n",
    "            df_image = df_train_images.loc[image_id]\n",
    "            image_value = df_image['value']\n",
    "            matchee = create_matchee_cached(df_image)\n",
    "            df_match_tab = get_match_tab(matchee)\n",
    "            df_match_tab = df_match_tab[df_match_tab['is_match'] == True] if len(df_match_tab) > 0 else df_match_tab\n",
    "\n",
    "            for match_tab_row in df_match_tab.itertuples():\n",
    "                assert match_tab_row.is_match\n",
    "\n",
    "                is_correct_match = (match_tab_row.engram_value == image_value)\n",
    "                seq_lv_meta = SEQ_LV_IND_TO_META[match_tab_row.engram_seq_lv_ind]\n",
    "\n",
    "                if match_tab_row.engram_image_id != image_id:\n",
    "                    seq_lv_meta.history[image_id] = SeqLatentVecHistoryItem(image_id=image_id, cos_sim=match_tab_row.cos_sim, is_correct_match=is_correct_match)\n",
    "            \n",
    "            if len(df_match_tab) > 0 and df_match_tab.iloc[0]['engram_value'] == image_value:\n",
    "                continue\n",
    "\n",
    "            incorrect_image_ids.append(image_id)\n",
    "\n",
    "        image_ids = incorrect_image_ids\n",
    "        \n",
    "        ###\n",
    "        bad_engram_ids = []\n",
    "    \n",
    "        for seq_lv_ind, seq_lv_meta in SEQ_LV_IND_TO_META.items():\n",
    "            all_matches_count = seq_lv_meta.neg_matches_count + seq_lv_meta.pos_matches_count\n",
    "\n",
    "            if all_matches_count > 10:\n",
    "                if seq_lv_meta.neg_matches_count / all_matches_count > 0.4:\n",
    "                    bad_engram_ids.append(seq_lv_meta.engram_id)\n",
    "                    LOG(f'Engram engram_id={seq_lv_meta.engram_id} has bad performance: {seq_lv_meta.neg_matches_count} / {all_matches_count}, marking for deletion')\n",
    "\n",
    "        for bad_engram_id in bad_engram_ids:\n",
    "            engram = ENGRAMS[bad_engram_id]\n",
    "\n",
    "            for seq_lv_ind in engram.seq_lv_inds:\n",
    "                del SEQ_LV_IND_TO_META[seq_lv_ind]\n",
    "                SEQ_LVS.release(seq_lv_ind)\n",
    "\n",
    "            del ENGRAMS[bad_engram_id]\n",
    "            LOG(f'Engram engram_id={bad_engram_id} deleted')\n",
    "\n",
    "        # Наша цель, чтобы сек_лв чутче реагировал на корректные. Поэтому поднимаем cos_sim_thres исходя из статистики\n",
    "        for seq_lv_ind, seq_lv_meta in SEQ_LV_IND_TO_META.items():\n",
    "            correct_cos_sims = list(map(lambda hi: hi.cos_sim, filter(lambda hi: hi.is_correct_match, seq_lv_meta.history.values())))\n",
    "            correct_cos_sim_thres = min(correct_cos_sims) - 1e-6 if correct_cos_sims else 0\n",
    "\n",
    "            if correct_cos_sim_thres > seq_lv_meta.cos_sim_thres:\n",
    "                old_cos_sim_thres = seq_lv_meta.cos_sim_thres\n",
    "                SEQ_LV_IND_TO_META[seq_lv_ind] = seq_lv_meta._replace(cos_sim_thres=correct_cos_sim_thres)\n",
    "                LOG(f'seq_lv seq_lv_ind={seq_lv_ind} cos_sim_thres changed from {old_cos_sim_thres:.3f} to {correct_cos_sim_thres:.3f}')\n",
    "\n",
    "        # # Наша цель, чтобы сек_лв реагировал на корректные, и НЕ реагировал на некорректные. Поэтому поднимаем cos_sim_thres исходя из статистики\n",
    "        # for seq_lv_ind, seq_lv_meta in SEQ_LV_IND_TO_META.items():\n",
    "        #     correct_cos_sims = list(map(lambda hi: hi.cos_sim, filter(lambda hi: hi.is_correct_match, seq_lv_meta.history.values())))\n",
    "        #     incorrect_cos_sims = list(map(lambda hi: hi.cos_sim, filter(lambda hi: not hi.is_correct_match, seq_lv_meta.history.values())))\n",
    "        #     correct_cos_sim_thres = max(min(correct_cos_sims) - 1e-6, seq_lv_meta.cos_sim_thres) if correct_cos_sims else seq_lv_meta.cos_sim_thres\n",
    "        #     incorrect_cos_sim_thres = max(max(incorrect_cos_sims) + 1e-6, seq_lv_meta.cos_sim_thres) if incorrect_cos_sims else seq_lv_meta.cos_sim_thres\n",
    "        #     new_cos_sim_thres = max(correct_cos_sim_thres, incorrect_cos_sim_thres)\n",
    "\n",
    "        #     if new_cos_sim_thres > seq_lv_meta.cos_sim_thres:\n",
    "        #         old_cos_sim_thres = seq_lv_meta.cos_sim_thres\n",
    "        #         SEQ_LV_IND_TO_META[seq_lv_ind] = seq_lv_meta._replace(cos_sim_thres=new_cos_sim_thres)\n",
    "        #         LOG(f'seq_lv seq_lv_ind={seq_lv_ind} cos_sim_thres changed from {old_cos_sim_thres:.3f} to {new_cos_sim_thres:.3f}')\n",
    "\n",
    "    print(f'Total engrams {len(ENGRAMS)}')"
   ]
  },
  {
   "cell_type": "code",
   "execution_count": 167,
   "id": "5d25bac1-87e1-47b8-bddf-7b1502255400",
   "metadata": {},
   "outputs": [
    {
     "data": {
      "text/plain": [
       "array([ 0.8320503, -0.5547002,  0.8320503, -0.5547002,  0.8320503,\n",
       "       -0.5547002,  0.8944272, -0.4472136,  0.8944272, -0.4472136],\n",
       "      dtype=float32)"
      ]
     },
     "execution_count": 167,
     "metadata": {},
     "output_type": "execute_result"
    }
   ],
   "source": [
    "seq_lv_meta.seq_lv_orig[300:310]"
   ]
  },
  {
   "cell_type": "code",
   "execution_count": 156,
   "id": "406c30a7-b957-4f59-b4f7-7be8a2dd10ea",
   "metadata": {},
   "outputs": [
    {
     "data": {
      "text/plain": [
       "array([ 0., -1.,  0., -1.,  0., -1.,  0., -1.,  0., -1.], dtype=float32)"
      ]
     },
     "execution_count": 156,
     "metadata": {},
     "output_type": "execute_result"
    }
   ],
   "source": [
    "seq_lv_meta.seq_lv_upd[300:310]"
   ]
  },
  {
   "cell_type": "code",
   "execution_count": 159,
   "id": "6d3ed5be-f4b3-4c0c-91aa-5b0e6a24d763",
   "metadata": {},
   "outputs": [
    {
     "data": {
      "text/plain": [
       "(2250,)"
      ]
     },
     "execution_count": 159,
     "metadata": {},
     "output_type": "execute_result"
    }
   ],
   "source": [
    "dot_prod = np.einsum('ij,ij->i', seq_lv_meta.seq_lv_upd.reshape(-1, 2), match_tab_row.matchee_seq_lv_orig.reshape(-1, 2))\n",
    "dot_prod.shape"
   ]
  },
  {
   "cell_type": "code",
   "execution_count": 163,
   "id": "2da74504-c4c1-4059-889e-0abe4ae6eb33",
   "metadata": {},
   "outputs": [
    {
     "data": {
      "text/plain": [
       "array([-0.04615385, -1.0692308 , -0.04615385, -1.0692308 , -0.04615385,\n",
       "       -1.0692308 , -0.04615385, -1.0692308 , -0.04615385, -1.0692308 ],\n",
       "      dtype=float32)"
      ]
     },
     "execution_count": 163,
     "metadata": {},
     "output_type": "execute_result"
    }
   ],
   "source": [
    "(seq_lv_meta.seq_lv_upd.reshape(-1, 2).T + (match_tab_row.matchee_seq_lv_orig.reshape(-1, 2).T * seq_lv_meta.nu * dot_prod)).T.ravel()[300:310]"
   ]
  },
  {
   "cell_type": "code",
   "execution_count": 164,
   "id": "16381ef0-1757-4f40-8331-94c06555eab9",
   "metadata": {},
   "outputs": [
    {
     "data": {
      "text/plain": [
       "array([ 0., -1.,  0., -1.,  0., -1.,  0., -1.,  0., -1.], dtype=float32)"
      ]
     },
     "execution_count": 164,
     "metadata": {},
     "output_type": "execute_result"
    }
   ],
   "source": [
    "(seq_lv_meta.seq_lv_upd.reshape(-1, 2).T).T.ravel()[300:310]"
   ]
  },
  {
   "cell_type": "code",
   "execution_count": 165,
   "id": "47d1d704-cff2-4e30-8195-30c69b7dbd5e",
   "metadata": {},
   "outputs": [
    {
     "data": {
      "text/plain": [
       "array([-0.04615385, -0.06923078, -0.04615385, -0.06923078, -0.04615385,\n",
       "       -0.06923078, -0.04615385, -0.06923078, -0.04615385, -0.06923078],\n",
       "      dtype=float32)"
      ]
     },
     "execution_count": 165,
     "metadata": {},
     "output_type": "execute_result"
    }
   ],
   "source": [
    "((match_tab_row.matchee_seq_lv_orig.reshape(-1, 2).T * seq_lv_meta.nu * dot_prod)).T.ravel()[300:310]"
   ]
  },
  {
   "cell_type": "code",
   "execution_count": 167,
   "id": "b75e2efa-5a2e-4b4c-9fd9-8ecd7e13e2a5",
   "metadata": {},
   "outputs": [
    {
     "data": {
      "text/plain": [
       "array([-0.5547002, -0.8320503, -0.5547002, -0.8320503, -0.5547002,\n",
       "       -0.8320503, -0.5547002, -0.8320503, -0.5547002, -0.8320503],\n",
       "      dtype=float32)"
      ]
     },
     "execution_count": 167,
     "metadata": {},
     "output_type": "execute_result"
    }
   ],
   "source": [
    "((match_tab_row.matchee_seq_lv_orig.reshape(-1, 2).T)).T.ravel()[300:310]"
   ]
  },
  {
   "cell_type": "code",
   "execution_count": 170,
   "id": "60c2c721-8bd8-4a18-9cf9-2d484c33a5e4",
   "metadata": {},
   "outputs": [
    {
     "data": {
      "text/plain": [
       "array([0.8320503, 0.8320503, 0.8320503, 0.8320503, 0.8320503, 0.8320503,\n",
       "       0.8320503, 0.8320503, 0.8320503, 0.8320503], dtype=float32)"
      ]
     },
     "execution_count": 170,
     "metadata": {},
     "output_type": "execute_result"
    }
   ],
   "source": [
    "np.vstack([dot_prod, dot_prod]).T.ravel()[300:310]"
   ]
  },
  {
   "cell_type": "markdown",
   "id": "3e51dd9a-9f6e-4a09-b6aa-6f54a984c42d",
   "metadata": {},
   "source": [
    "## .lab"
   ]
  },
  {
   "cell_type": "code",
   "execution_count": 79,
   "id": "76775212-c6dc-4eb7-97d4-06ba3afa9951",
   "metadata": {},
   "outputs": [
    {
     "name": "stdout",
     "output_type": "stream",
     "text": [
      "seq_lv_ind=82, cos_sim_thres=0.71, engram_id=261, image_id=1600, value=0\n"
     ]
    },
    {
     "data": {
      "image/png": "[encoded data removed]",
      "text/plain": [
       "<Figure size 1000x1000 with 2 Axes>"
      ]
     },
     "metadata": {},
     "output_type": "display_data"
    }
   ],
   "source": [
    "seq_lv_ind = RNG.choice(list(SEQ_LV_IND_TO_META.keys()))\n",
    "seq_lv_meta = SEQ_LV_IND_TO_META[seq_lv_ind]\n",
    "engram = ENGRAMS[seq_lv_meta.engram_id]\n",
    "print(f'seq_lv_ind={seq_lv_ind}, cos_sim_thres={seq_lv_meta.cos_sim_thres:.2f}, engram_id={engram.engram_id}, image_id={engram.image_id}, value={engram.value}')\n",
    "render_w_vec_heatmap(seq_lv_meta)"
   ]
  },
  {
   "cell_type": "code",
   "execution_count": 69,
   "id": "5979c885-e8bf-4d3c-b2b9-164808f31966",
   "metadata": {},
   "outputs": [
    {
     "data": {
      "image/png": "[encoded data removed]",
      "text/plain": [
       "<Figure size 640x480 with 1 Axes>"
      ]
     },
     "metadata": {},
     "output_type": "display_data"
    }
   ],
   "source": [
    "cos_sim_thres_list = list(map(lambda seq_lv_meta: seq_lv_meta.cos_sim_thres, SEQ_LV_IND_TO_META.values()))\n",
    "neg_pos = list(map(lambda seq_lv_meta: (seq_lv_meta.neg_matches_count, seq_lv_meta.pos_matches_count), SEQ_LV_IND_TO_META.values()))\n",
    "neg_pos = np.array(neg_pos)\n",
    "neg_pos_denom = neg_pos.sum(axis=1)\n",
    "s = neg_pos[:,0] / np.where(neg_pos_denom > 0, neg_pos_denom, 1)\n",
    "plt.hist(s)\n",
    "plt.show()"
   ]
  },
  {
   "cell_type": "code",
   "execution_count": 70,
   "id": "a1bfe18d-2e91-4597-afee-8549e6a1fa0b",
   "metadata": {},
   "outputs": [
    {
     "data": {
      "image/png": "[encoded data removed]",
      "text/plain": [
       "<Figure size 640x480 with 1 Axes>"
      ]
     },
     "metadata": {},
     "output_type": "display_data"
    }
   ],
   "source": [
    "xy = np.array(list(zip(cos_sim_thres_list, s)))\n",
    "plt.scatter(xy[:,0], xy[:,1])\n",
    "plt.hlines(0.5, np.min(xy[:,0]), 1)\n",
    "plt.show()"
   ]
  },
  {
   "cell_type": "code",
   "execution_count": 82,
   "id": "8b82cdaf-99e6-4146-8557-db4eceaf88e5",
   "metadata": {},
   "outputs": [
    {
     "data": {
      "text/plain": [
       "[]"
      ]
     },
     "execution_count": 82,
     "metadata": {},
     "output_type": "execute_result"
    }
   ],
   "source": [
    "seq_lv_meta.history"
   ]
  },
  {
   "cell_type": "code",
   "execution_count": 81,
   "id": "7858d5f9-4f81-45fa-b3de-9dc6f96ff8a7",
   "metadata": {},
   "outputs": [
    {
     "data": {
      "image/jpeg": "[encoded data removed]",
      "image/png": "[encoded data removed]",
      "text/plain": [
       "<PIL.PngImagePlugin.PngImageFile image mode=L size=128x128>"
      ]
     },
     "execution_count": 81,
     "metadata": {},
     "output_type": "execute_result"
    }
   ],
   "source": [
    "get_raw_image(1600, df_train_images)"
   ]
  },
  {
   "cell_type": "code",
   "execution_count": 193,
   "id": "d80368d7-219d-4fee-bb9d-896f70a6c192",
   "metadata": {},
   "outputs": [
    {
     "data": {
      "text/plain": [
       "index                                                             1801\n",
       "value                                                                7\n",
       "png                  b'\\x89PNG\\r\\n\\x1a\\n\\x00\\x00\\x00\\rIHDR\\x00\\x00\\...\n",
       "outer_si_ind_dict    b'\\x80\\x04\\x95\\x079\\x00\\x00\\x00\\x00\\x00\\x00}\\x...\n",
       "inner_si_ind_dict    b'\\x80\\x04\\x95i\\x86\\x00\\x00\\x00\\x00\\x00\\x00}\\x...\n",
       "outer_sequences      b'\\x80\\x04\\x95w\\x02\\x00\\x00\\x00\\x00\\x00\\x00]\\x...\n",
       "inner_sequences      b'\\x80\\x04\\x95N\\x00\\x00\\x00\\x00\\x00\\x00\\x00]\\x...\n",
       "Name: 54207, dtype: object"
      ]
     },
     "execution_count": 193,
     "metadata": {},
     "output_type": "execute_result"
    }
   ],
   "source": [
    "df_train_images.loc[54207]"
   ]
  },
  {
   "cell_type": "code",
   "execution_count": 91,
   "id": "764a817c-feb6-4e94-ac17-fa8645e0ae6a",
   "metadata": {},
   "outputs": [
    {
     "data": {
      "text/plain": [
       "0.06561"
      ]
     },
     "execution_count": 91,
     "metadata": {},
     "output_type": "execute_result"
    }
   ],
   "source": [
    "0.1 * (0.9 ** 4)"
   ]
  },
  {
   "cell_type": "code",
   "execution_count": 92,
   "id": "603e50cf-e468-4793-8a58-c564ed42834b",
   "metadata": {},
   "outputs": [
    {
     "data": {
      "text/plain": [
       "np.float64(0.8431067811865476)"
      ]
     },
     "execution_count": 92,
     "metadata": {},
     "output_type": "execute_result"
    }
   ],
   "source": [
    "COS_SIM_45 + 0.034 * 4"
   ]
  },
  {
   "cell_type": "code",
   "execution_count": 93,
   "id": "95d30c11-3695-4282-a8d8-ba52eddae160",
   "metadata": {},
   "outputs": [
    {
     "data": {
      "text/plain": [
       "0.034482758620689655"
      ]
     },
     "execution_count": 93,
     "metadata": {},
     "output_type": "execute_result"
    }
   ],
   "source": [
    "1/29"
   ]
  },
  {
   "cell_type": "code",
   "execution_count": 106,
   "id": "7623ecfe-3c5c-400f-a24a-44b809fc29b8",
   "metadata": {},
   "outputs": [
    {
     "ename": "AttributeError",
     "evalue": "'SeqLatentVec' object has no attribute 'updates_count'",
     "output_type": "error",
     "traceback": [
      "\u001b[0;31m---------------------------------------------------------------------------\u001b[0m",
      "\u001b[0;31mAttributeError\u001b[0m                            Traceback (most recent call last)",
      "Cell \u001b[0;32mIn[106], line 6\u001b[0m\n\u001b[1;32m      4\u001b[0m \u001b[38;5;28;01mfor\u001b[39;00m seq_lv_ind, seq_lv_meta \u001b[38;5;129;01min\u001b[39;00m SEQ_LV_IND_TO_META\u001b[38;5;241m.\u001b[39mitems():\n\u001b[1;32m      5\u001b[0m     nus\u001b[38;5;241m.\u001b[39mappend(seq_lv_meta\u001b[38;5;241m.\u001b[39mnu)\n\u001b[0;32m----> 6\u001b[0m     updates_counts\u001b[38;5;241m.\u001b[39mappend(seq_lv_meta\u001b[38;5;241m.\u001b[39mupdates_count)\n\u001b[1;32m      8\u001b[0m nus \u001b[38;5;241m=\u001b[39m np\u001b[38;5;241m.\u001b[39mhstack(nus)\n\u001b[1;32m      9\u001b[0m updates_counts \u001b[38;5;241m=\u001b[39m np\u001b[38;5;241m.\u001b[39mhstack(updates_counts)\n",
      "\u001b[0;31mAttributeError\u001b[0m: 'SeqLatentVec' object has no attribute 'updates_count'"
     ]
    }
   ],
   "source": [
    "nus = []\n",
    "updates_counts = []\n",
    "\n",
    "for seq_lv_ind, seq_lv_meta in SEQ_LV_IND_TO_META.items():\n",
    "    nus.append(seq_lv_meta.nu)\n",
    "    updates_counts.append(seq_lv_meta.updates_count)\n",
    "\n",
    "nus = np.hstack(nus)\n",
    "updates_counts = np.hstack(updates_counts)\n",
    "np.histogram(nus), np.histogram(updates_counts)"
   ]
  },
  {
   "cell_type": "code",
   "execution_count": 123,
   "id": "2faa8f46-6301-4473-97af-38e70236462c",
   "metadata": {},
   "outputs": [
    {
     "data": {
      "text/plain": [
       "[(14, np.int64(1479))]"
      ]
     },
     "execution_count": 123,
     "metadata": {},
     "output_type": "execute_result"
    }
   ],
   "source": [
    "list(filter(lambda i_uc: i_uc[1] > 1400, enumerate(updates_counts)))"
   ]
  },
  {
   "cell_type": "code",
   "execution_count": 125,
   "id": "c0167825-bb5c-44ee-acde-82e8e36efcd3",
   "metadata": {},
   "outputs": [],
   "source": [
    "# ENGRAMS[SEQ_LV_IND_TO_META[14].engram_id]"
   ]
  },
  {
   "cell_type": "code",
   "execution_count": 75,
   "id": "6955ad35-6e9e-44fc-939f-05c9f7e39c28",
   "metadata": {},
   "outputs": [
    {
     "data": {
      "text/plain": [
       "np.int64(553)"
      ]
     },
     "execution_count": 75,
     "metadata": {},
     "output_type": "execute_result"
    }
   ],
   "source": [
    "(SEQ_LVS.array_active[3] != 0).sum()"
   ]
  },
  {
   "cell_type": "code",
   "execution_count": 108,
   "id": "fc9d9a55-3306-41c4-9eea-fd438860dc1a",
   "metadata": {},
   "outputs": [
    {
     "data": {
      "text/plain": [
       "(0,\n",
       " UniqueCountsResult(values=array([0., 1.], dtype=float32), counts=array([4056,  444])),\n",
       " np.float32(444.0),\n",
       " np.float32(21.071308))"
      ]
     },
     "execution_count": 108,
     "metadata": {},
     "output_type": "execute_result"
    }
   ],
   "source": [
    "seq_lv_ind = 7\n",
    "w_vec = SEQ_LV_IND_TO_META[seq_lv_ind].w_vec\n",
    "SEQ_LV_IND_TO_META[seq_lv_ind].updates_count, np.unique_counts(w_vec), w_vec.sum(), np.sqrt(np.sum(w_vec ** 2))"
   ]
  },
  {
   "cell_type": "code",
   "execution_count": null,
   "id": "267eb7e7-0383-4144-bdbf-02c8b9550629",
   "metadata": {},
   "outputs": [],
   "source": []
  },
  {
   "cell_type": "code",
   "execution_count": 274,
   "id": "8ef3cc68-4c80-4f95-aeaa-27a3d72a6726",
   "metadata": {},
   "outputs": [
    {
     "data": {
      "text/plain": [
       "[np.int64(7165),\n",
       " np.int64(44383),\n",
       " np.int64(41772),\n",
       " np.int64(8715),\n",
       " np.int64(27422),\n",
       " np.int64(5857),\n",
       " np.int64(27375),\n",
       " np.int64(15579),\n",
       " np.int64(46153),\n",
       " np.int64(2248),\n",
       " np.int64(23565),\n",
       " np.int64(11484),\n",
       " np.int64(30149),\n",
       " np.int64(45797),\n",
       " np.int64(58604),\n",
       " np.int64(4168),\n",
       " np.int64(46149),\n",
       " np.int64(38608),\n",
       " np.int64(53024),\n",
       " np.int64(8715),\n",
       " np.int64(23565),\n",
       " np.int64(30149),\n",
       " np.int64(8715),\n",
       " np.int64(23565),\n",
       " np.int64(30149),\n",
       " np.int64(8715),\n",
       " np.int64(23565),\n",
       " np.int64(30149),\n",
       " np.int64(8715)]"
      ]
     },
     "execution_count": 274,
     "metadata": {},
     "output_type": "execute_result"
    }
   ],
   "source": [
    "seq_lv_updates_history[engram_seq_lv_ind]"
   ]
  },
  {
   "cell_type": "code",
   "execution_count": 162,
   "id": "388bdf04-3d40-4458-8b7c-d3fbbd0ad1a2",
   "metadata": {},
   "outputs": [
    {
     "data": {
      "image/jpeg": "[encoded data removed]",
      "image/png": "[encoded data removed]",
      "text/plain": [
       "<PIL.PngImagePlugin.PngImageFile image mode=L size=128x128>"
      ]
     },
     "execution_count": 162,
     "metadata": {},
     "output_type": "execute_result"
    }
   ],
   "source": [
    "# %%time\n",
    "image_id = RNG.choice(df_train_images.index)\n",
    "image_id = 30149\n",
    "image = Image.open(io.BytesIO(df_train_images.loc[image_id]['png']))\n",
    "image"
   ]
  },
  {
   "cell_type": "code",
   "execution_count": 111,
   "id": "a694e282-fcae-4e9d-a792-9aeb4c8e0e73",
   "metadata": {},
   "outputs": [],
   "source": [
    "cos_sim_mat = SEQ_LVS.array_active @ matchee.seq_lvs.T"
   ]
  },
  {
   "cell_type": "code",
   "execution_count": 45,
   "id": "d869b792-8472-42a3-8bcc-2e8f6ba25085",
   "metadata": {},
   "outputs": [],
   "source": [
    "matchee = create_matchee(df_train_images.loc[image_id])"
   ]
  },
  {
   "cell_type": "code",
   "execution_count": 57,
   "id": "6b67eb2d-1450-4bce-955b-8b4a8a42e156",
   "metadata": {},
   "outputs": [
    {
     "data": {
      "text/plain": [
       "array(0.52802728)"
      ]
     },
     "execution_count": 57,
     "metadata": {},
     "output_type": "execute_result"
    }
   ],
   "source": [
    "xp_array_from_gpu(cos_sim_mat[i,j])"
   ]
  },
  {
   "cell_type": "code",
   "execution_count": 60,
   "id": "3db20abc-55ca-4435-95b3-c08743b0c48a",
   "metadata": {},
   "outputs": [
    {
     "data": {
      "text/plain": [
       "array([0.52802728, 0.52805699, 0.52852144, 0.52870091, 0.5288168 ,\n",
       "       0.52899192, 0.52904237, 0.52910437, 0.5291858 , 0.52921132,\n",
       "       0.52932992, 0.52981349, 0.52987864, 0.5298983 , 0.53001637,\n",
       "       0.53091887, 0.53181364, 0.53184084, 0.53200186, 0.53210089,\n",
       "       0.53222864, 0.53257177, 0.5333655 , 0.53353145, 0.5341961 ,\n",
       "       0.53454791, 0.53501479, 0.53565665, 0.53640483, 0.53650111,\n",
       "       0.53715824, 0.53774765, 0.53831506, 0.53844076, 0.53849261,\n",
       "       0.53886665, 0.53924699, 0.53941241, 0.53971616, 0.53995301,\n",
       "       0.54011405, 0.54018985, 0.54027345, 0.54049893, 0.54050326,\n",
       "       0.54052553, 0.54053141, 0.54081165, 0.54082106, 0.54088954,\n",
       "       0.54119227, 0.54148538, 0.54150746, 0.54151672, 0.54168996,\n",
       "       0.54189594, 0.54219426, 0.54231309, 0.54250883, 0.54259895,\n",
       "       0.54268381, 0.54277117, 0.54289654, 0.54373794, 0.54374626,\n",
       "       0.54377325, 0.54378835, 0.54380495, 0.54387874, 0.54398342,\n",
       "       0.54403525, 0.5441069 , 0.5442786 , 0.54442379, 0.54472572,\n",
       "       0.54473031, 0.54478515, 0.54481436, 0.54483825, 0.54557034,\n",
       "       0.54671696, 0.54703687, 0.54746057, 0.54746057, 0.54905405,\n",
       "       0.54920725, 0.54952735, 0.54952735, 0.54981201, 0.54981201,\n",
       "       0.55004485, 0.55020749, 0.55065718, 0.55226386, 0.5528229 ,\n",
       "       0.5528229 , 0.55432596, 0.55519704, 0.5596491 , 0.56066836])"
      ]
     },
     "execution_count": 60,
     "metadata": {},
     "output_type": "execute_result"
    }
   ],
   "source": [
    "xp.take(cos_sim_ma, top_mat_indices)"
   ]
  },
  {
   "cell_type": "code",
   "execution_count": 61,
   "id": "22cc7a71-07e0-4a2e-ba60-3e2542feeab3",
   "metadata": {},
   "outputs": [
    {
     "data": {
      "text/plain": [
       "array([[0, 1, 2],\n",
       "       [3, 4, 5],\n",
       "       [6, 7, 8]])"
      ]
     },
     "execution_count": 61,
     "metadata": {},
     "output_type": "execute_result"
    }
   ],
   "source": [
    "a1 = np.arange(9).reshape(3, 3)\n",
    "a1"
   ]
  },
  {
   "cell_type": "code",
   "execution_count": 69,
   "id": "7805cfa6-e4ba-418d-bdc0-2ffa88a73e3b",
   "metadata": {},
   "outputs": [
    {
     "data": {
      "text/plain": [
       "array([0, 1, 2, 3, 4, 5, 6, 7, 8])"
      ]
     },
     "execution_count": 69,
     "metadata": {},
     "output_type": "execute_result"
    }
   ],
   "source": [
    "a1.ravel()"
   ]
  },
  {
   "cell_type": "code",
   "execution_count": 71,
   "id": "ef5c1c85-aa51-4d97-9858-316dd451437a",
   "metadata": {},
   "outputs": [
    {
     "data": {
      "text/plain": [
       "array([8, 7, 6, 5, 4, 3, 2, 1, 0])"
      ]
     },
     "execution_count": 71,
     "metadata": {},
     "output_type": "execute_result"
    }
   ],
   "source": [
    "np.flip(a1.ravel())"
   ]
  },
  {
   "cell_type": "code",
   "execution_count": 68,
   "id": "861e23e6-03ff-4583-b549-cf711ea59239",
   "metadata": {},
   "outputs": [
    {
     "data": {
      "text/plain": [
       "numpy.ndarray"
      ]
     },
     "execution_count": 68,
     "metadata": {},
     "output_type": "execute_result"
    }
   ],
   "source": [
    "type(top_mat_indices)"
   ]
  },
  {
   "cell_type": "code",
   "execution_count": 72,
   "id": "e4d3feaa-61dd-44cd-8787-2cfa943e4366",
   "metadata": {},
   "outputs": [
    {
     "name": "stdout",
     "output_type": "stream",
     "text": [
      "CPU times: user 8.3 ms, sys: 13.1 ms, total: 21.4 ms\n",
      "Wall time: 19.4 ms\n"
     ]
    },
    {
     "data": {
      "text/html": [
       "<div>\n",
       "<style scoped>\n",
       "    .dataframe tbody tr th:only-of-type {\n",
       "        vertical-align: middle;\n",
       "    }\n",
       "\n",
       "    .dataframe tbody tr th {\n",
       "        vertical-align: top;\n",
       "    }\n",
       "\n",
       "    .dataframe thead th {\n",
       "        text-align: right;\n",
       "    }\n",
       "</style>\n",
       "<table border=\"1\" class=\"dataframe\">\n",
       "  <thead>\n",
       "    <tr style=\"text-align: right;\">\n",
       "      <th></th>\n",
       "      <th>engram_seq_lv_ind</th>\n",
       "      <th>matchee_seq_lv_ind</th>\n",
       "      <th>cos_sim</th>\n",
       "      <th>engram_id</th>\n",
       "      <th>engram_value</th>\n",
       "      <th>engram_image_id</th>\n",
       "      <th>engram_phase</th>\n",
       "      <th>engram_seq_lv_code</th>\n",
       "      <th>matchee_seq_lv_code</th>\n",
       "    </tr>\n",
       "  </thead>\n",
       "  <tbody>\n",
       "    <tr>\n",
       "      <th>0</th>\n",
       "      <td>33</td>\n",
       "      <td>813</td>\n",
       "      <td>0.560668</td>\n",
       "      <td>1</td>\n",
       "      <td>4</td>\n",
       "      <td>26704</td>\n",
       "      <td>0</td>\n",
       "      <td>((2, 0), (0, 0), (1, 1))</td>\n",
       "      <td>((1, 0), (0, 1), (2, 1), (4, 0), (3, 1))</td>\n",
       "    </tr>\n",
       "    <tr>\n",
       "      <th>1</th>\n",
       "      <td>33</td>\n",
       "      <td>812</td>\n",
       "      <td>0.559649</td>\n",
       "      <td>1</td>\n",
       "      <td>4</td>\n",
       "      <td>26704</td>\n",
       "      <td>0</td>\n",
       "      <td>((2, 0), (0, 0), (1, 1))</td>\n",
       "      <td>((1, 0), (0, 1), (2, 1), (4, 0), (3, 0))</td>\n",
       "    </tr>\n",
       "    <tr>\n",
       "      <th>2</th>\n",
       "      <td>33</td>\n",
       "      <td>815</td>\n",
       "      <td>0.555197</td>\n",
       "      <td>1</td>\n",
       "      <td>4</td>\n",
       "      <td>26704</td>\n",
       "      <td>0</td>\n",
       "      <td>((2, 0), (0, 0), (1, 1))</td>\n",
       "      <td>((1, 0), (0, 1), (2, 1), (4, 1), (3, 1))</td>\n",
       "    </tr>\n",
       "    <tr>\n",
       "      <th>3</th>\n",
       "      <td>33</td>\n",
       "      <td>814</td>\n",
       "      <td>0.554326</td>\n",
       "      <td>1</td>\n",
       "      <td>4</td>\n",
       "      <td>26704</td>\n",
       "      <td>0</td>\n",
       "      <td>((2, 0), (0, 0), (1, 1))</td>\n",
       "      <td>((1, 0), (0, 1), (2, 1), (4, 1), (3, 0))</td>\n",
       "    </tr>\n",
       "    <tr>\n",
       "      <th>4</th>\n",
       "      <td>37</td>\n",
       "      <td>2614</td>\n",
       "      <td>0.552823</td>\n",
       "      <td>1</td>\n",
       "      <td>4</td>\n",
       "      <td>26704</td>\n",
       "      <td>0</td>\n",
       "      <td>((2, 1), (0, 0), (1, 1))</td>\n",
       "      <td>((3, 1), (1, 0), (2, 1), (4, 1), (0, 0))</td>\n",
       "    </tr>\n",
       "    <tr>\n",
       "      <th>5</th>\n",
       "      <td>37</td>\n",
       "      <td>2612</td>\n",
       "      <td>0.552823</td>\n",
       "      <td>1</td>\n",
       "      <td>4</td>\n",
       "      <td>26704</td>\n",
       "      <td>0</td>\n",
       "      <td>((2, 1), (0, 0), (1, 1))</td>\n",
       "      <td>((3, 1), (1, 0), (2, 1), (4, 0), (0, 0))</td>\n",
       "    </tr>\n",
       "    <tr>\n",
       "      <th>6</th>\n",
       "      <td>33</td>\n",
       "      <td>3149</td>\n",
       "      <td>0.552264</td>\n",
       "      <td>1</td>\n",
       "      <td>4</td>\n",
       "      <td>26704</td>\n",
       "      <td>0</td>\n",
       "      <td>((2, 0), (0, 0), (1, 1))</td>\n",
       "      <td>((4, 0), (0, 1), (2, 1), (1, 0), (3, 1))</td>\n",
       "    </tr>\n",
       "    <tr>\n",
       "      <th>7</th>\n",
       "      <td>33</td>\n",
       "      <td>3148</td>\n",
       "      <td>0.550657</td>\n",
       "      <td>1</td>\n",
       "      <td>4</td>\n",
       "      <td>26704</td>\n",
       "      <td>0</td>\n",
       "      <td>((2, 0), (0, 0), (1, 1))</td>\n",
       "      <td>((4, 0), (0, 1), (2, 1), (1, 0), (3, 0))</td>\n",
       "    </tr>\n",
       "    <tr>\n",
       "      <th>8</th>\n",
       "      <td>37</td>\n",
       "      <td>813</td>\n",
       "      <td>0.550207</td>\n",
       "      <td>1</td>\n",
       "      <td>4</td>\n",
       "      <td>26704</td>\n",
       "      <td>0</td>\n",
       "      <td>((2, 1), (0, 0), (1, 1))</td>\n",
       "      <td>((1, 0), (0, 1), (2, 1), (4, 0), (3, 1))</td>\n",
       "    </tr>\n",
       "    <tr>\n",
       "      <th>9</th>\n",
       "      <td>2</td>\n",
       "      <td>1005</td>\n",
       "      <td>0.550045</td>\n",
       "      <td>1</td>\n",
       "      <td>4</td>\n",
       "      <td>26704</td>\n",
       "      <td>0</td>\n",
       "      <td>((0, 0), (1, 1), (2, 0))</td>\n",
       "      <td>((1, 0), (2, 1), (0, 1), (4, 0), (3, 1))</td>\n",
       "    </tr>\n",
       "  </tbody>\n",
       "</table>\n",
       "</div>"
      ],
      "text/plain": [
       "   engram_seq_lv_ind  matchee_seq_lv_ind   cos_sim  engram_id engram_value  \\\n",
       "0                 33                 813  0.560668          1            4   \n",
       "1                 33                 812  0.559649          1            4   \n",
       "2                 33                 815  0.555197          1            4   \n",
       "3                 33                 814  0.554326          1            4   \n",
       "4                 37                2614  0.552823          1            4   \n",
       "5                 37                2612  0.552823          1            4   \n",
       "6                 33                3149  0.552264          1            4   \n",
       "7                 33                3148  0.550657          1            4   \n",
       "8                 37                 813  0.550207          1            4   \n",
       "9                  2                1005  0.550045          1            4   \n",
       "\n",
       "   engram_image_id  engram_phase        engram_seq_lv_code  \\\n",
       "0            26704             0  ((2, 0), (0, 0), (1, 1))   \n",
       "1            26704             0  ((2, 0), (0, 0), (1, 1))   \n",
       "2            26704             0  ((2, 0), (0, 0), (1, 1))   \n",
       "3            26704             0  ((2, 0), (0, 0), (1, 1))   \n",
       "4            26704             0  ((2, 1), (0, 0), (1, 1))   \n",
       "5            26704             0  ((2, 1), (0, 0), (1, 1))   \n",
       "6            26704             0  ((2, 0), (0, 0), (1, 1))   \n",
       "7            26704             0  ((2, 0), (0, 0), (1, 1))   \n",
       "8            26704             0  ((2, 1), (0, 0), (1, 1))   \n",
       "9            26704             0  ((0, 0), (1, 1), (2, 0))   \n",
       "\n",
       "                        matchee_seq_lv_code  \n",
       "0  ((1, 0), (0, 1), (2, 1), (4, 0), (3, 1))  \n",
       "1  ((1, 0), (0, 1), (2, 1), (4, 0), (3, 0))  \n",
       "2  ((1, 0), (0, 1), (2, 1), (4, 1), (3, 1))  \n",
       "3  ((1, 0), (0, 1), (2, 1), (4, 1), (3, 0))  \n",
       "4  ((3, 1), (1, 0), (2, 1), (4, 1), (0, 0))  \n",
       "5  ((3, 1), (1, 0), (2, 1), (4, 0), (0, 0))  \n",
       "6  ((4, 0), (0, 1), (2, 1), (1, 0), (3, 1))  \n",
       "7  ((4, 0), (0, 1), (2, 1), (1, 0), (3, 0))  \n",
       "8  ((1, 0), (0, 1), (2, 1), (4, 0), (3, 1))  \n",
       "9  ((1, 0), (2, 1), (0, 1), (4, 0), (3, 1))  "
      ]
     },
     "execution_count": 72,
     "metadata": {},
     "output_type": "execute_result"
    }
   ],
   "source": [
    "%%time\n",
    "inspect_depth = 100\n",
    "\n",
    "match_tab_columns = defaultdict(list)\n",
    "cos_sim_mat = SEQ_LVS.array_active @ matchee.seq_lvs.T\n",
    "top_mat_indices = xp_array_from_gpu(xp.argsort(cos_sim_mat, axis=None)[-inspect_depth:])\n",
    "cos_sim_values = xp_array_from_gpu(xp.take(cos_sim_mat, top_mat_indices))\n",
    "top_mat_indices = np.flip(top_mat_indices)\n",
    "cos_sim_values = np.flip(cos_sim_values)\n",
    "\n",
    "for top_mat_index, cos_sim_value in zip(top_mat_indices, cos_sim_values):\n",
    "    i = top_mat_index // cos_sim_mat.shape[1]\n",
    "    j = top_mat_index % cos_sim_mat.shape[1]\n",
    "    seq_lv_meta = SEQ_LV_IND_TO_META[i]\n",
    "    engram = ENGRAMS[seq_lv_meta.engram_id]\n",
    "    match_tab_columns['engram_seq_lv_ind'].append(i)\n",
    "    match_tab_columns['matchee_seq_lv_ind'].append(j)\n",
    "    match_tab_columns['cos_sim'].append(cos_sim_value)\n",
    "    match_tab_columns['engram_id'].append(engram.engram_id)\n",
    "    match_tab_columns['engram_value'].append(engram.value)\n",
    "    match_tab_columns['engram_image_id'].append(engram.image_id)  \n",
    "    match_tab_columns['engram_phase'].append(seq_lv_meta.phase)\n",
    "    match_tab_columns['engram_seq_lv_code'].append(seq_lv_meta.seq_lv_code)\n",
    "    match_tab_columns['matchee_seq_lv_code'].append(matchee.seq_lv_codes[j])\n",
    "\n",
    "df_match_tab = pd.DataFrame(match_tab_columns)\n",
    "df_match_tab.head(10)"
   ]
  },
  {
   "cell_type": "markdown",
   "id": "39c47b07-dafa-42fa-8b60-10475e67a39c",
   "metadata": {},
   "source": [
    "# Test"
   ]
  },
  {
   "cell_type": "code",
   "execution_count": 242,
   "id": "c132a242-7e8c-475f-bf48-58d6b1709000",
   "metadata": {},
   "outputs": [],
   "source": [
    "count = 200\n",
    "get_test_image_ids = lambda df: RNG.choice(df.index.unique(), min(count, len(df)), replace=False)\n",
    "TestRunSource = namedtuple('TestRunSource', ['df_images', 'db_con', 'source_ds', 'test_image_ids'])\n",
    "test_run_source = {\n",
    "    'test': TestRunSource(df_test_images, test_db_con, 'test', get_test_image_ids(df_test_images)),\n",
    "    'train': TestRunSource(df_train_images, train_db_con, 'train', get_test_image_ids(df_train_images)),\n",
    "    'train2': TestRunSource(df_train_images, train_db_con, 'train2', train_image_ids)\n",
    "}['test']"
   ]
  },
  {
   "cell_type": "code",
   "execution_count": 243,
   "id": "dedefb7f-24e7-43ca-91d6-eecc3fbaeb17",
   "metadata": {},
   "outputs": [
    {
     "data": {
      "application/vnd.jupyter.widget-view+json": {
       "model_id": "6238fafffe2949b2a22c85f5e35b868f",
       "version_major": 2,
       "version_minor": 0
      },
      "text/plain": [
       "  0%|          | 0/200 [00:00<?, ?it/s]"
      ]
     },
     "metadata": {},
     "output_type": "display_data"
    },
    {
     "name": "stdout",
     "output_type": "stream",
     "text": [
      "CPU times: user 37.4 s, sys: 565 ms, total: 38 s\n",
      "Wall time: 6.6 s\n"
     ]
    }
   ],
   "source": [
    "%%time\n",
    "test_results_db_con.cursor().execute('INSERT INTO test_runs(dummy) VALUES(1)')\n",
    "test_results_db_con.commit()\n",
    "test_run_id = test_results_db_con.cursor().execute('SELECT MAX(test_run_id) FROM test_runs').fetchone()[0]\n",
    "test_result_rows = defaultdict(list)\n",
    "match_tabs_raw = []\n",
    "match_tabs = []\n",
    "\n",
    "for image_id in tqdm(test_run_source.test_image_ids):\n",
    "    df_image = test_run_source.df_images.loc[image_id]\n",
    "    image_value = df_image['value']\n",
    "    matchee = create_matchee_cached(df_image)\n",
    "    \n",
    "    df_match_tab_raw = get_match_tab(matchee) #, inspect_depth=1000)\n",
    "    df_match_tab_raw['test_image_id'] = image_id\n",
    "    df_match_tab_raw['true_value'] = image_value\n",
    "    match_tabs_raw.append(df_match_tab_raw)\n",
    "    \n",
    "    df_match_tab = df_match_tab_raw[df_match_tab_raw['is_match'] == True] if len(df_match_tab_raw) > 0 else df_match_tab_raw\n",
    "    match_tabs.append(df_match_tab)\n",
    "    \n",
    "    infer_value, engram_image_id, cos_sim = ('', -1, 0)\n",
    "        \n",
    "    if len(df_match_tab) > 0:\n",
    "        infer_value, engram_image_id, cos_sim = df_match_tab.iloc[0][['engram_value', 'engram_image_id', 'cos_sim']]\n",
    "    \n",
    "    test_result_rows['test_run_id'].append(test_run_id)\n",
    "    test_result_rows['config_variant'].append(config.section_name)\n",
    "    test_result_rows['cortical_columns'].append(f'[{','.join([])}]')\n",
    "    test_result_rows['train_images_count'].append(TRAIN_IMAGES_COUNT)\n",
    "    test_result_rows['train_runs_count'].append(TRAIN_RUNS_COUNT)\n",
    "    test_result_rows['source_ds'].append(test_run_source.source_ds)\n",
    "    test_result_rows['test_image_id'].append(image_id)\n",
    "    test_result_rows['true_value'].append(image_value)\n",
    "    test_result_rows['engram_image_id'].append(engram_image_id)\n",
    "    test_result_rows['infer_value'].append(infer_value)\n",
    "    test_result_rows['cos_sim'].append(cos_sim)\n",
    "    test_result_rows['match_tab_index'].append(len(match_tabs) - 1)\n",
    "    test_result_rows['engrams_count'].append(len(ENGRAMS))\n",
    "\n",
    "df_test_results_for_run = pd.DataFrame(test_result_rows)\n",
    "df_test_results_for_run['timestamp'] = datetime.datetime.now()\n",
    "\n",
    "if DBUtils.is_table_exists(test_results_db_con, 'test_results'):\n",
    "    DBUtils.ensure_table_columns(test_results_db_con, 'test_results', list(df_test_results_for_run.columns))\n",
    "    \n",
    "df_test_results_for_run.to_sql(name='test_results', con=test_results_db_con, if_exists='append')\n",
    "pd.DataFrame({'test_run_id': [test_run_id], 'match_tabs': [pickle.dumps(match_tabs)]}).to_sql(name='test_run_artifacts', con=test_results_db_con, if_exists='append');"
   ]
  },
  {
   "cell_type": "code",
   "execution_count": 244,
   "id": "9ded612b-96ae-4f3d-a964-d78dcfb19834",
   "metadata": {},
   "outputs": [
    {
     "data": {
      "image/png": "[encoded data removed]",
      "text/plain": [
       "<Figure size 1600x400 with 3 Axes>"
      ]
     },
     "metadata": {},
     "output_type": "display_data"
    },
    {
     "data": {
      "text/html": [
       "<div>\n",
       "<style scoped>\n",
       "    .dataframe tbody tr th:only-of-type {\n",
       "        vertical-align: middle;\n",
       "    }\n",
       "\n",
       "    .dataframe tbody tr th {\n",
       "        vertical-align: top;\n",
       "    }\n",
       "\n",
       "    .dataframe thead th {\n",
       "        text-align: right;\n",
       "    }\n",
       "</style>\n",
       "<table border=\"1\" class=\"dataframe\">\n",
       "  <thead>\n",
       "    <tr style=\"text-align: right;\">\n",
       "      <th></th>\n",
       "      <th>timestamp</th>\n",
       "      <th>source_ds</th>\n",
       "      <th>train_images_count</th>\n",
       "      <th>engrams_count</th>\n",
       "      <th>count</th>\n",
       "      <th>infers</th>\n",
       "      <th>correct_infers</th>\n",
       "      <th>infer_ratio</th>\n",
       "      <th>accuracy_count</th>\n",
       "      <th>accuracy_infers</th>\n",
       "    </tr>\n",
       "    <tr>\n",
       "      <th>test_run_id</th>\n",
       "      <th></th>\n",
       "      <th></th>\n",
       "      <th></th>\n",
       "      <th></th>\n",
       "      <th></th>\n",
       "      <th></th>\n",
       "      <th></th>\n",
       "      <th></th>\n",
       "      <th></th>\n",
       "      <th></th>\n",
       "    </tr>\n",
       "  </thead>\n",
       "  <tbody>\n",
       "    <tr>\n",
       "      <th>193</th>\n",
       "      <td>2025-05-26 13:58:10.413003</td>\n",
       "      <td>train2</td>\n",
       "      <td>729</td>\n",
       "      <td>173</td>\n",
       "      <td>500</td>\n",
       "      <td>498</td>\n",
       "      <td>487</td>\n",
       "      <td>0.996</td>\n",
       "      <td>0.974</td>\n",
       "      <td>0.977912</td>\n",
       "    </tr>\n",
       "    <tr>\n",
       "      <th>194</th>\n",
       "      <td>2025-05-26 13:58:30.952440</td>\n",
       "      <td>test</td>\n",
       "      <td>729</td>\n",
       "      <td>173</td>\n",
       "      <td>200</td>\n",
       "      <td>158</td>\n",
       "      <td>132</td>\n",
       "      <td>0.790</td>\n",
       "      <td>0.660</td>\n",
       "      <td>0.835443</td>\n",
       "    </tr>\n",
       "    <tr>\n",
       "      <th>195</th>\n",
       "      <td>2025-05-26 14:00:05.445578</td>\n",
       "      <td>test</td>\n",
       "      <td>633</td>\n",
       "      <td>170</td>\n",
       "      <td>200</td>\n",
       "      <td>163</td>\n",
       "      <td>140</td>\n",
       "      <td>0.815</td>\n",
       "      <td>0.700</td>\n",
       "      <td>0.858896</td>\n",
       "    </tr>\n",
       "    <tr>\n",
       "      <th>196</th>\n",
       "      <td>2025-05-26 14:03:41.462337</td>\n",
       "      <td>test</td>\n",
       "      <td>575</td>\n",
       "      <td>194</td>\n",
       "      <td>200</td>\n",
       "      <td>147</td>\n",
       "      <td>133</td>\n",
       "      <td>0.735</td>\n",
       "      <td>0.665</td>\n",
       "      <td>0.904762</td>\n",
       "    </tr>\n",
       "    <tr>\n",
       "      <th>197</th>\n",
       "      <td>2025-05-26 14:04:36.219424</td>\n",
       "      <td>test</td>\n",
       "      <td>598</td>\n",
       "      <td>199</td>\n",
       "      <td>200</td>\n",
       "      <td>146</td>\n",
       "      <td>132</td>\n",
       "      <td>0.730</td>\n",
       "      <td>0.660</td>\n",
       "      <td>0.904110</td>\n",
       "    </tr>\n",
       "    <tr>\n",
       "      <th>198</th>\n",
       "      <td>2025-05-26 14:06:02.170398</td>\n",
       "      <td>test</td>\n",
       "      <td>729</td>\n",
       "      <td>173</td>\n",
       "      <td>200</td>\n",
       "      <td>158</td>\n",
       "      <td>132</td>\n",
       "      <td>0.790</td>\n",
       "      <td>0.660</td>\n",
       "      <td>0.835443</td>\n",
       "    </tr>\n",
       "    <tr>\n",
       "      <th>199</th>\n",
       "      <td>2025-05-26 14:10:40.659687</td>\n",
       "      <td>train2</td>\n",
       "      <td>5000</td>\n",
       "      <td>209</td>\n",
       "      <td>500</td>\n",
       "      <td>495</td>\n",
       "      <td>469</td>\n",
       "      <td>0.990</td>\n",
       "      <td>0.938</td>\n",
       "      <td>0.947475</td>\n",
       "    </tr>\n",
       "    <tr>\n",
       "      <th>200</th>\n",
       "      <td>2025-05-26 14:11:07.627946</td>\n",
       "      <td>test</td>\n",
       "      <td>5000</td>\n",
       "      <td>209</td>\n",
       "      <td>200</td>\n",
       "      <td>161</td>\n",
       "      <td>138</td>\n",
       "      <td>0.805</td>\n",
       "      <td>0.690</td>\n",
       "      <td>0.857143</td>\n",
       "    </tr>\n",
       "    <tr>\n",
       "      <th>201</th>\n",
       "      <td>2025-05-26 14:16:06.499830</td>\n",
       "      <td>train2</td>\n",
       "      <td>2669</td>\n",
       "      <td>213</td>\n",
       "      <td>500</td>\n",
       "      <td>500</td>\n",
       "      <td>497</td>\n",
       "      <td>1.000</td>\n",
       "      <td>0.994</td>\n",
       "      <td>0.994000</td>\n",
       "    </tr>\n",
       "    <tr>\n",
       "      <th>202</th>\n",
       "      <td>2025-05-26 14:16:39.014413</td>\n",
       "      <td>test</td>\n",
       "      <td>2669</td>\n",
       "      <td>213</td>\n",
       "      <td>200</td>\n",
       "      <td>163</td>\n",
       "      <td>143</td>\n",
       "      <td>0.815</td>\n",
       "      <td>0.715</td>\n",
       "      <td>0.877301</td>\n",
       "    </tr>\n",
       "  </tbody>\n",
       "</table>\n",
       "</div>"
      ],
      "text/plain": [
       "                              timestamp source_ds  train_images_count  \\\n",
       "test_run_id                                                             \n",
       "193          2025-05-26 13:58:10.413003    train2                 729   \n",
       "194          2025-05-26 13:58:30.952440      test                 729   \n",
       "195          2025-05-26 14:00:05.445578      test                 633   \n",
       "196          2025-05-26 14:03:41.462337      test                 575   \n",
       "197          2025-05-26 14:04:36.219424      test                 598   \n",
       "198          2025-05-26 14:06:02.170398      test                 729   \n",
       "199          2025-05-26 14:10:40.659687    train2                5000   \n",
       "200          2025-05-26 14:11:07.627946      test                5000   \n",
       "201          2025-05-26 14:16:06.499830    train2                2669   \n",
       "202          2025-05-26 14:16:39.014413      test                2669   \n",
       "\n",
       "             engrams_count  count  infers  correct_infers  infer_ratio  \\\n",
       "test_run_id                                                              \n",
       "193                    173    500     498             487        0.996   \n",
       "194                    173    200     158             132        0.790   \n",
       "195                    170    200     163             140        0.815   \n",
       "196                    194    200     147             133        0.735   \n",
       "197                    199    200     146             132        0.730   \n",
       "198                    173    200     158             132        0.790   \n",
       "199                    209    500     495             469        0.990   \n",
       "200                    209    200     161             138        0.805   \n",
       "201                    213    500     500             497        1.000   \n",
       "202                    213    200     163             143        0.815   \n",
       "\n",
       "             accuracy_count  accuracy_infers  \n",
       "test_run_id                                   \n",
       "193                   0.974         0.977912  \n",
       "194                   0.660         0.835443  \n",
       "195                   0.700         0.858896  \n",
       "196                   0.665         0.904762  \n",
       "197                   0.660         0.904110  \n",
       "198                   0.660         0.835443  \n",
       "199                   0.938         0.947475  \n",
       "200                   0.690         0.857143  \n",
       "201                   0.994         0.994000  \n",
       "202                   0.715         0.877301  "
      ]
     },
     "execution_count": 244,
     "metadata": {},
     "output_type": "execute_result"
    }
   ],
   "source": [
    "df_test_results2 = pd.read_sql_query('''\n",
    "SELECT * FROM test_results \n",
    "WHERE test_run_id IN (SELECT test_run_id FROM test_runs ORDER BY test_run_id DESC LIMIT 10) \n",
    "ORDER BY test_run_id ASC\n",
    "''', con=test_results_db_con)\n",
    "df_test_results2['test_run_id'] = df_test_results2['test_run_id'].astype(int)\n",
    "df_test_results2['is_infer'] = df_test_results2['infer_value'] != ''\n",
    "df_test_results2['is_correct_infer'] = df_test_results2['true_value'] == df_test_results2['infer_value']\n",
    "df_test_results2 = df_test_results2.groupby(by=['test_run_id']).agg({'timestamp': 'first',\n",
    "                                                                     'config_variant': 'first', \n",
    "                                                                     'source_ds': 'first',\n",
    "                                                                     'cortical_columns': 'first',\n",
    "                                                                     'train_images_count': 'first',\n",
    "                                                                     'engrams_count': 'first',\n",
    "                                                                     'train_runs_count': 'first',\n",
    "                                                                     'test_image_id': 'count', \n",
    "                                                                     'is_infer': 'sum', \n",
    "                                                                     'is_correct_infer': 'sum'})\n",
    "df_test_results2.sort_values(by=['test_run_id'], inplace=True)\n",
    "df_test_results2.rename(columns=dict(test_image_id='count', is_infer='infers', is_correct_infer='correct_infers'), inplace=True, errors='raise')\n",
    "df_test_results2['infer_ratio'] = df_test_results2['infers'] / df_test_results2['count']\n",
    "df_test_results2['accuracy_count'] = df_test_results2['correct_infers'] / df_test_results2['count']\n",
    "df_test_results2['accuracy_infers'] = df_test_results2['correct_infers'] / df_test_results2['infers']\n",
    "df_test_results2['accuracy_infers'] = df_test_results2['accuracy_infers'].fillna(0)\n",
    "\n",
    "plt.figure(figsize=(16, 4))\n",
    "plt.subplot(1, 3, 1)\n",
    "b = plt.bar(list(map(str, df_test_results2.index)), list(df_test_results2['infer_ratio']))\n",
    "plt.bar_label(b, map(lambda p: f'{p*100:.0f}', df_test_results2['infer_ratio']), label_type='center')\n",
    "plt.ylim(0, 1)\n",
    "plt.title('Infers, %')\n",
    "plt.xlabel('Test run')\n",
    "plt.grid()\n",
    "\n",
    "plt.subplot(1, 3, 2)\n",
    "b = plt.bar(list(map(str, df_test_results2.index)), list(df_test_results2['accuracy_count']))\n",
    "plt.bar_label(b, map(lambda p: f'{p*100:.0f}', df_test_results2['accuracy_count']), label_type='center')\n",
    "plt.ylim(0, 1)\n",
    "plt.title('Accuracy (Count), %')\n",
    "plt.xlabel('Test run')\n",
    "plt.grid()\n",
    "\n",
    "plt.subplot(1, 3, 3)\n",
    "b = plt.bar(list(map(str, df_test_results2.index)), list(df_test_results2['accuracy_infers']))\n",
    "plt.bar_label(b, map(lambda p: f'{p*100:.0f}', df_test_results2['accuracy_infers']), label_type='center')\n",
    "plt.ylim(0, 1)\n",
    "plt.title('Accuracy (Infers), %')\n",
    "plt.xlabel('Test run')\n",
    "plt.grid()\n",
    "\n",
    "plt.show()\n",
    "df_test_results2[['timestamp', 'source_ds', 'train_images_count', 'engrams_count', 'count', 'infers', 'correct_infers', 'infer_ratio', 'accuracy_count', 'accuracy_infers']]"
   ]
  },
  {
   "cell_type": "markdown",
   "id": "ab0a5852-b8e6-4c47-8b74-d1f92d621d80",
   "metadata": {},
   "source": [
    "## analyze"
   ]
  },
  {
   "cell_type": "code",
   "execution_count": 114,
   "id": "967af26b-4bed-40e3-b66d-ebfdaa7ef1c4",
   "metadata": {},
   "outputs": [
    {
     "data": {
      "text/html": [
       "<div>\n",
       "<style scoped>\n",
       "    .dataframe tbody tr th:only-of-type {\n",
       "        vertical-align: middle;\n",
       "    }\n",
       "\n",
       "    .dataframe tbody tr th {\n",
       "        vertical-align: top;\n",
       "    }\n",
       "\n",
       "    .dataframe thead th {\n",
       "        text-align: right;\n",
       "    }\n",
       "</style>\n",
       "<table border=\"1\" class=\"dataframe\">\n",
       "  <thead>\n",
       "    <tr style=\"text-align: right;\">\n",
       "      <th></th>\n",
       "      <th>test_image_id</th>\n",
       "      <th>engram_image_id</th>\n",
       "      <th>true_value</th>\n",
       "      <th>infer_value</th>\n",
       "      <th>cos_sim</th>\n",
       "      <th>match_tab_index</th>\n",
       "    </tr>\n",
       "  </thead>\n",
       "  <tbody>\n",
       "    <tr>\n",
       "      <th>3</th>\n",
       "      <td>51119</td>\n",
       "      <td>40216</td>\n",
       "      <td>2</td>\n",
       "      <td>7</td>\n",
       "      <td>0.823126</td>\n",
       "      <td>3</td>\n",
       "    </tr>\n",
       "    <tr>\n",
       "      <th>8</th>\n",
       "      <td>18149</td>\n",
       "      <td>-1</td>\n",
       "      <td>6</td>\n",
       "      <td></td>\n",
       "      <td>0.000000</td>\n",
       "      <td>8</td>\n",
       "    </tr>\n",
       "    <tr>\n",
       "      <th>10</th>\n",
       "      <td>32636</td>\n",
       "      <td>-1</td>\n",
       "      <td>8</td>\n",
       "      <td></td>\n",
       "      <td>0.000000</td>\n",
       "      <td>10</td>\n",
       "    </tr>\n",
       "    <tr>\n",
       "      <th>20</th>\n",
       "      <td>9600</td>\n",
       "      <td>-1</td>\n",
       "      <td>2</td>\n",
       "      <td></td>\n",
       "      <td>0.000000</td>\n",
       "      <td>20</td>\n",
       "    </tr>\n",
       "    <tr>\n",
       "      <th>21</th>\n",
       "      <td>37307</td>\n",
       "      <td>-1</td>\n",
       "      <td>2</td>\n",
       "      <td></td>\n",
       "      <td>0.000000</td>\n",
       "      <td>21</td>\n",
       "    </tr>\n",
       "    <tr>\n",
       "      <th>22</th>\n",
       "      <td>3397</td>\n",
       "      <td>-1</td>\n",
       "      <td>3</td>\n",
       "      <td></td>\n",
       "      <td>0.000000</td>\n",
       "      <td>22</td>\n",
       "    </tr>\n",
       "    <tr>\n",
       "      <th>24</th>\n",
       "      <td>31620</td>\n",
       "      <td>-1</td>\n",
       "      <td>6</td>\n",
       "      <td></td>\n",
       "      <td>0.000000</td>\n",
       "      <td>24</td>\n",
       "    </tr>\n",
       "    <tr>\n",
       "      <th>35</th>\n",
       "      <td>38494</td>\n",
       "      <td>-1</td>\n",
       "      <td>0</td>\n",
       "      <td></td>\n",
       "      <td>0.000000</td>\n",
       "      <td>35</td>\n",
       "    </tr>\n",
       "    <tr>\n",
       "      <th>43</th>\n",
       "      <td>15883</td>\n",
       "      <td>-1</td>\n",
       "      <td>0</td>\n",
       "      <td></td>\n",
       "      <td>0.000000</td>\n",
       "      <td>43</td>\n",
       "    </tr>\n",
       "    <tr>\n",
       "      <th>44</th>\n",
       "      <td>22962</td>\n",
       "      <td>-1</td>\n",
       "      <td>6</td>\n",
       "      <td></td>\n",
       "      <td>0.000000</td>\n",
       "      <td>44</td>\n",
       "    </tr>\n",
       "  </tbody>\n",
       "</table>\n",
       "</div>"
      ],
      "text/plain": [
       "    test_image_id  engram_image_id true_value infer_value   cos_sim  \\\n",
       "3           51119            40216          2           7  0.823126   \n",
       "8           18149               -1          6              0.000000   \n",
       "10          32636               -1          8              0.000000   \n",
       "20           9600               -1          2              0.000000   \n",
       "21          37307               -1          2              0.000000   \n",
       "22           3397               -1          3              0.000000   \n",
       "24          31620               -1          6              0.000000   \n",
       "35          38494               -1          0              0.000000   \n",
       "43          15883               -1          0              0.000000   \n",
       "44          22962               -1          6              0.000000   \n",
       "\n",
       "    match_tab_index  \n",
       "3                 3  \n",
       "8                 8  \n",
       "10               10  \n",
       "20               20  \n",
       "21               21  \n",
       "22               22  \n",
       "24               24  \n",
       "35               35  \n",
       "43               43  \n",
       "44               44  "
      ]
     },
     "execution_count": 114,
     "metadata": {},
     "output_type": "execute_result"
    }
   ],
   "source": [
    "df_incorrect = df_test_results_for_run.loc[df_test_results_for_run.true_value != df_test_results_for_run.infer_value]\n",
    "df_incorrect = df_incorrect[['test_image_id', 'engram_image_id', 'true_value', 'infer_value', 'cos_sim', 'match_tab_index']]\n",
    "df_incorrect.head(10)"
   ]
  },
  {
   "cell_type": "code",
   "execution_count": 171,
   "id": "da74912b-f309-402a-acdb-0140aba1d03c",
   "metadata": {},
   "outputs": [],
   "source": [
    "# df_correct = df_test_results_for_run.loc[df_test_results_for_run.true_value == df_test_results_for_run.infer_value].copy()\n",
    "# df_correct = df_correct[['test_image_id', 'engram_image_id', 'true_value', 'infer_value', 'cos_sim', 'match_tab_index']]\n",
    "# df_correct.head(10)"
   ]
  },
  {
   "cell_type": "code",
   "execution_count": 115,
   "id": "e558b4f5-7c2b-40c3-8951-fe728da85cab",
   "metadata": {},
   "outputs": [
    {
     "data": {
      "text/html": [
       "<div>\n",
       "<style scoped>\n",
       "    .dataframe tbody tr th:only-of-type {\n",
       "        vertical-align: middle;\n",
       "    }\n",
       "\n",
       "    .dataframe tbody tr th {\n",
       "        vertical-align: top;\n",
       "    }\n",
       "\n",
       "    .dataframe thead th {\n",
       "        text-align: right;\n",
       "    }\n",
       "</style>\n",
       "<table border=\"1\" class=\"dataframe\">\n",
       "  <thead>\n",
       "    <tr style=\"text-align: right;\">\n",
       "      <th></th>\n",
       "      <th>test_image_id</th>\n",
       "      <th>true_value</th>\n",
       "      <th>engram_value</th>\n",
       "      <th>cos_sim</th>\n",
       "      <th>cos_sim_thres</th>\n",
       "      <th>is_match</th>\n",
       "      <th>engram_id</th>\n",
       "      <th>engram_image_id</th>\n",
       "      <th>engram_seq_reading</th>\n",
       "      <th>engram_seq_lv_ind</th>\n",
       "      <th>matchee_seq_reading</th>\n",
       "      <th>matchee_seq_lv_ind</th>\n",
       "    </tr>\n",
       "  </thead>\n",
       "  <tbody>\n",
       "    <tr>\n",
       "      <th>0</th>\n",
       "      <td>51119</td>\n",
       "      <td>2</td>\n",
       "      <td>7</td>\n",
       "      <td>0.823126</td>\n",
       "      <td>0.796604</td>\n",
       "      <td>True</td>\n",
       "      <td>1091</td>\n",
       "      <td>40216</td>\n",
       "      <td>((0, 0), (1, 0))</td>\n",
       "      <td>16</td>\n",
       "      <td>((1, 1), (0, 0))</td>\n",
       "      <td>6</td>\n",
       "    </tr>\n",
       "    <tr>\n",
       "      <th>1</th>\n",
       "      <td>51119</td>\n",
       "      <td>2</td>\n",
       "      <td>2</td>\n",
       "      <td>0.795236</td>\n",
       "      <td>0.793449</td>\n",
       "      <td>True</td>\n",
       "      <td>939</td>\n",
       "      <td>42373</td>\n",
       "      <td>((0, 0), (1, 0))</td>\n",
       "      <td>14</td>\n",
       "      <td>((1, 1), (0, 0))</td>\n",
       "      <td>6</td>\n",
       "    </tr>\n",
       "    <tr>\n",
       "      <th>2</th>\n",
       "      <td>51119</td>\n",
       "      <td>2</td>\n",
       "      <td>2</td>\n",
       "      <td>0.762130</td>\n",
       "      <td>0.714774</td>\n",
       "      <td>True</td>\n",
       "      <td>950</td>\n",
       "      <td>52118</td>\n",
       "      <td>((0, 0), (1, 0))</td>\n",
       "      <td>25</td>\n",
       "      <td>((1, 1), (0, 0))</td>\n",
       "      <td>6</td>\n",
       "    </tr>\n",
       "    <tr>\n",
       "      <th>3</th>\n",
       "      <td>51119</td>\n",
       "      <td>2</td>\n",
       "      <td>7</td>\n",
       "      <td>0.718115</td>\n",
       "      <td>0.749510</td>\n",
       "      <td>False</td>\n",
       "      <td>934</td>\n",
       "      <td>50278</td>\n",
       "      <td>((0, 0),)</td>\n",
       "      <td>9</td>\n",
       "      <td>((1, 0), (0, 0))</td>\n",
       "      <td>4</td>\n",
       "    </tr>\n",
       "    <tr>\n",
       "      <th>4</th>\n",
       "      <td>51119</td>\n",
       "      <td>2</td>\n",
       "      <td>7</td>\n",
       "      <td>0.664381</td>\n",
       "      <td>0.809533</td>\n",
       "      <td>False</td>\n",
       "      <td>957</td>\n",
       "      <td>52181</td>\n",
       "      <td>((0, 0), (1, 0), (2, 0))</td>\n",
       "      <td>32</td>\n",
       "      <td>((0, 0), (1, 1))</td>\n",
       "      <td>1</td>\n",
       "    </tr>\n",
       "    <tr>\n",
       "      <th>5</th>\n",
       "      <td>51119</td>\n",
       "      <td>2</td>\n",
       "      <td>7</td>\n",
       "      <td>0.653490</td>\n",
       "      <td>0.749510</td>\n",
       "      <td>False</td>\n",
       "      <td>934</td>\n",
       "      <td>50278</td>\n",
       "      <td>((0, 0),)</td>\n",
       "      <td>9</td>\n",
       "      <td>((1, 0), (0, 1))</td>\n",
       "      <td>5</td>\n",
       "    </tr>\n",
       "    <tr>\n",
       "      <th>6</th>\n",
       "      <td>51119</td>\n",
       "      <td>2</td>\n",
       "      <td>7</td>\n",
       "      <td>0.633185</td>\n",
       "      <td>0.809533</td>\n",
       "      <td>False</td>\n",
       "      <td>957</td>\n",
       "      <td>52181</td>\n",
       "      <td>((0, 0), (1, 0), (2, 0))</td>\n",
       "      <td>32</td>\n",
       "      <td>((1, 1), (0, 0))</td>\n",
       "      <td>6</td>\n",
       "    </tr>\n",
       "    <tr>\n",
       "      <th>7</th>\n",
       "      <td>51119</td>\n",
       "      <td>2</td>\n",
       "      <td>0</td>\n",
       "      <td>0.630794</td>\n",
       "      <td>0.827758</td>\n",
       "      <td>False</td>\n",
       "      <td>1073</td>\n",
       "      <td>30149</td>\n",
       "      <td>((0, 0), (1, 0))</td>\n",
       "      <td>148</td>\n",
       "      <td>((1, 1), (0, 0))</td>\n",
       "      <td>6</td>\n",
       "    </tr>\n",
       "    <tr>\n",
       "      <th>8</th>\n",
       "      <td>51119</td>\n",
       "      <td>2</td>\n",
       "      <td>2</td>\n",
       "      <td>0.628200</td>\n",
       "      <td>0.762454</td>\n",
       "      <td>False</td>\n",
       "      <td>1031</td>\n",
       "      <td>35235</td>\n",
       "      <td>((0, 0), (1, 0))</td>\n",
       "      <td>106</td>\n",
       "      <td>((0, 0), (1, 1))</td>\n",
       "      <td>1</td>\n",
       "    </tr>\n",
       "    <tr>\n",
       "      <th>9</th>\n",
       "      <td>51119</td>\n",
       "      <td>2</td>\n",
       "      <td>6</td>\n",
       "      <td>0.627848</td>\n",
       "      <td>0.854428</td>\n",
       "      <td>False</td>\n",
       "      <td>1093</td>\n",
       "      <td>48471</td>\n",
       "      <td>((0, 0), (1, 0))</td>\n",
       "      <td>19</td>\n",
       "      <td>((1, 1), (0, 0))</td>\n",
       "      <td>6</td>\n",
       "    </tr>\n",
       "  </tbody>\n",
       "</table>\n",
       "</div>"
      ],
      "text/plain": [
       "   test_image_id true_value engram_value   cos_sim  cos_sim_thres  is_match  \\\n",
       "0          51119          2            7  0.823126       0.796604      True   \n",
       "1          51119          2            2  0.795236       0.793449      True   \n",
       "2          51119          2            2  0.762130       0.714774      True   \n",
       "3          51119          2            7  0.718115       0.749510     False   \n",
       "4          51119          2            7  0.664381       0.809533     False   \n",
       "5          51119          2            7  0.653490       0.749510     False   \n",
       "6          51119          2            7  0.633185       0.809533     False   \n",
       "7          51119          2            0  0.630794       0.827758     False   \n",
       "8          51119          2            2  0.628200       0.762454     False   \n",
       "9          51119          2            6  0.627848       0.854428     False   \n",
       "\n",
       "   engram_id  engram_image_id        engram_seq_reading  engram_seq_lv_ind  \\\n",
       "0       1091            40216          ((0, 0), (1, 0))                 16   \n",
       "1        939            42373          ((0, 0), (1, 0))                 14   \n",
       "2        950            52118          ((0, 0), (1, 0))                 25   \n",
       "3        934            50278                 ((0, 0),)                  9   \n",
       "4        957            52181  ((0, 0), (1, 0), (2, 0))                 32   \n",
       "5        934            50278                 ((0, 0),)                  9   \n",
       "6        957            52181  ((0, 0), (1, 0), (2, 0))                 32   \n",
       "7       1073            30149          ((0, 0), (1, 0))                148   \n",
       "8       1031            35235          ((0, 0), (1, 0))                106   \n",
       "9       1093            48471          ((0, 0), (1, 0))                 19   \n",
       "\n",
       "  matchee_seq_reading  matchee_seq_lv_ind  \n",
       "0    ((1, 1), (0, 0))                   6  \n",
       "1    ((1, 1), (0, 0))                   6  \n",
       "2    ((1, 1), (0, 0))                   6  \n",
       "3    ((1, 0), (0, 0))                   4  \n",
       "4    ((0, 0), (1, 1))                   1  \n",
       "5    ((1, 0), (0, 1))                   5  \n",
       "6    ((1, 1), (0, 0))                   6  \n",
       "7    ((1, 1), (0, 0))                   6  \n",
       "8    ((0, 0), (1, 1))                   1  \n",
       "9    ((1, 1), (0, 0))                   6  "
      ]
     },
     "execution_count": 115,
     "metadata": {},
     "output_type": "execute_result"
    }
   ],
   "source": [
    "match_tab_index = 3\n",
    "match_tab = match_tabs_raw[match_tab_index]\n",
    "# match_tab = match_tabs[match_tab_index]\n",
    "column_names = ['test_image_id', 'true_value', 'engram_value', 'cos_sim', 'cos_sim_thres', 'is_match',\n",
    "                'engram_id', 'engram_image_id', 'engram_seq_reading', 'engram_seq_lv_ind',\n",
    "                'matchee_seq_reading', 'matchee_seq_lv_ind']\n",
    "match_tab.head(10)[column_names]"
   ]
  },
  {
   "cell_type": "code",
   "execution_count": 116,
   "id": "e71619f2-748e-4e30-9888-169e1e5e6378",
   "metadata": {},
   "outputs": [],
   "source": [
    "# get_raw_image(41464, df_train_images)"
   ]
  },
  {
   "cell_type": "code",
   "execution_count": 117,
   "id": "61d843d3-837e-4488-b6f9-ebe3115a7fb1",
   "metadata": {},
   "outputs": [
    {
     "data": {
      "image/jpeg": "[encoded data removed]",
      "image/png": "[encoded data removed]",
      "text/plain": [
       "<PIL.Image.Image image mode=RGB size=800x800>"
      ]
     },
     "execution_count": 117,
     "metadata": {},
     "output_type": "execute_result"
    }
   ],
   "source": [
    "df_match_tab_row = match_tab.iloc[0]\n",
    "test_image_id = df_match_tab_row['test_image_id']\n",
    "\n",
    "if test_image_id >= 100_000_000:\n",
    "    df_test_image = df_test_images.loc[test_image_id]\n",
    "else:\n",
    "    df_test_image = df_train_images.loc[test_image_id]\n",
    "\n",
    "matchee = create_matchee(df_test_image, df_match_tab_row['matchee_seq_reading'])\n",
    "# matchee = create_matchee(df_test_image)\n",
    "\n",
    "engram_seq_lv_ind = df_match_tab_row['engram_seq_lv_ind']\n",
    "engram_seq_lv = SEQ_LVS.array_active[df_match_tab_row['engram_seq_lv_ind']]\n",
    "engram_seq_lv_meta = SEQ_LV_IND_TO_META[df_match_tab_row['engram_seq_lv_ind']]\n",
    "engram_seq_lv_orig = df_match_tab_row['engram_seq_lv_orig']\n",
    "\n",
    "matchee_seq_reading = df_match_tab_row['matchee_seq_reading']\n",
    "matchee_seq_lv_ind = matchee.seq_readings.index(matchee_seq_reading)\n",
    "matchee_seq_lv = matchee.seq_lvs[matchee_seq_lv_ind]\n",
    "matchee_seq_lv_orig = matchee.seq_lvs_orig[matchee_seq_lv_ind]\n",
    "\n",
    "render_match_tab_row(df_match_tab_row, matchee, use_seq_lv=False, delta_xy = np.array([10, 10]), k=5)"
   ]
  },
  {
   "cell_type": "code",
   "execution_count": 80,
   "id": "c61074b6-9af8-41e7-b533-ea19388d8ec4",
   "metadata": {},
   "outputs": [
    {
     "data": {
      "text/plain": [
       "np.float32(0.8304997)"
      ]
     },
     "execution_count": 80,
     "metadata": {},
     "output_type": "execute_result"
    }
   ],
   "source": [
    "(engram_seq_lv_orig @ matchee_seq_lv_orig) / (np.linalg.norm(engram_seq_lv_orig) * np.linalg.norm(matchee_seq_lv_orig))"
   ]
  },
  {
   "cell_type": "code",
   "execution_count": 118,
   "id": "3686c97a-01ea-4ef9-bdf3-0e4a4ebeeb6f",
   "metadata": {},
   "outputs": [
    {
     "data": {
      "image/png": "[encoded data removed]",
      "text/plain": [
       "<Figure size 2000x1000 with 4 Axes>"
      ]
     },
     "metadata": {},
     "output_type": "display_data"
    }
   ],
   "source": [
    "render_seq_lv_orig_upd(engram_seq_lv_meta)"
   ]
  },
  {
   "cell_type": "code",
   "execution_count": 93,
   "id": "a79db75b-1c5d-49e4-a4d6-bf88e97ebc5c",
   "metadata": {},
   "outputs": [
    {
     "data": {
      "image/jpeg": "[encoded data removed]",
      "image/png": "[encoded data removed]",
      "text/plain": [
       "<PIL.PngImagePlugin.PngImageFile image mode=L size=128x128>"
      ]
     },
     "execution_count": 93,
     "metadata": {},
     "output_type": "execute_result"
    }
   ],
   "source": [
    "get_raw_image(57196, df_train_images)"
   ]
  },
  {
   "cell_type": "code",
   "execution_count": 82,
   "id": "7c26ebf7-c027-496c-94ac-5eeb28e2d92e",
   "metadata": {},
   "outputs": [
    {
     "data": {
      "text/plain": [
       "0.7133076202869415"
      ]
     },
     "execution_count": 82,
     "metadata": {},
     "output_type": "execute_result"
    }
   ],
   "source": [
    "engram_seq_lv_meta.cos_sim_thres"
   ]
  },
  {
   "cell_type": "code",
   "execution_count": 81,
   "id": "42a01e40-8f56-4909-8983-a4faa42e78f1",
   "metadata": {},
   "outputs": [
    {
     "data": {
      "text/plain": [
       "84"
      ]
     },
     "execution_count": 81,
     "metadata": {},
     "output_type": "execute_result"
    }
   ],
   "source": [
    "engram_seq_lv_meta.seq_lv_ind"
   ]
  },
  {
   "cell_type": "code",
   "execution_count": 94,
   "id": "efc3a8f9-6d3e-4eee-b1ee-f74d3c993e03",
   "metadata": {},
   "outputs": [
    {
     "data": {
      "text/plain": [
       "168"
      ]
     },
     "execution_count": 94,
     "metadata": {},
     "output_type": "execute_result"
    }
   ],
   "source": [
    "ENGRAMS[engram_seq_lv_meta.engram_id].image_id"
   ]
  },
  {
   "cell_type": "code",
   "execution_count": 133,
   "id": "19e6a93b-0def-4d61-a2e0-ef537e703667",
   "metadata": {},
   "outputs": [
    {
     "data": {
      "text/plain": [
       "1"
      ]
     },
     "execution_count": 133,
     "metadata": {},
     "output_type": "execute_result"
    }
   ],
   "source": [
    "engram_seq_lv_meta.pos_matches_count"
   ]
  },
  {
   "cell_type": "code",
   "execution_count": 120,
   "id": "4faa2c09-563a-4dfa-837d-217d4a27b7eb",
   "metadata": {},
   "outputs": [
    {
     "data": {
      "text/plain": [
       "{50923: SeqLatentVecHistoryItem(image_id=np.int64(50923), cos_sim=0.7722010612487793, is_correct_match=True),\n",
       " np.int64(683): SeqLatentVecHistoryItem(image_id=np.int64(683), cos_sim=0.7362493276596069, is_correct_match=True),\n",
       " np.int64(59140): SeqLatentVecHistoryItem(image_id=np.int64(59140), cos_sim=0.7473859190940857, is_correct_match=True),\n",
       " np.int64(43408): SeqLatentVecHistoryItem(image_id=np.int64(43408), cos_sim=0.7221878170967102, is_correct_match=True),\n",
       " np.int64(24425): SeqLatentVecHistoryItem(image_id=np.int64(24425), cos_sim=0.7845925092697144, is_correct_match=False),\n",
       " np.int64(56451): SeqLatentVecHistoryItem(image_id=np.int64(56451), cos_sim=0.7184270620346069, is_correct_match=True),\n",
       " np.int64(44500): SeqLatentVecHistoryItem(image_id=np.int64(44500), cos_sim=0.7165065407752991, is_correct_match=True),\n",
       " np.int64(56795): SeqLatentVecHistoryItem(image_id=np.int64(56795), cos_sim=0.7697305679321289, is_correct_match=False),\n",
       " np.int64(3304): SeqLatentVecHistoryItem(image_id=np.int64(3304), cos_sim=0.7436103820800781, is_correct_match=False),\n",
       " np.int64(37971): SeqLatentVecHistoryItem(image_id=np.int64(37971), cos_sim=0.7559847235679626, is_correct_match=True),\n",
       " np.int64(49247): SeqLatentVecHistoryItem(image_id=np.int64(49247), cos_sim=0.769317090511322, is_correct_match=False),\n",
       " np.int64(40205): SeqLatentVecHistoryItem(image_id=np.int64(40205), cos_sim=0.7093653678894043, is_correct_match=False),\n",
       " np.int64(53608): SeqLatentVecHistoryItem(image_id=np.int64(53608), cos_sim=0.796603262424469, is_correct_match=False),\n",
       " np.int64(40155): SeqLatentVecHistoryItem(image_id=np.int64(40155), cos_sim=0.7295544147491455, is_correct_match=False)}"
      ]
     },
     "execution_count": 120,
     "metadata": {},
     "output_type": "execute_result"
    }
   ],
   "source": [
    "engram_seq_lv_meta.history"
   ]
  },
  {
   "cell_type": "code",
   "execution_count": 143,
   "id": "63a7a36c-0da4-49d7-ba9d-2fc9f9a6cb58",
   "metadata": {},
   "outputs": [
    {
     "data": {
      "text/plain": [
       "(array([4072,    0,   58,  136,   23,   33,   29,   56,   70,   23]),\n",
       " array([0.        , 0.1       , 0.2       , 0.3       , 0.4       ,\n",
       "        0.5       , 0.6       , 0.7       , 0.8       , 0.90000004,\n",
       "        1.        ], dtype=float32))"
      ]
     },
     "execution_count": 143,
     "metadata": {},
     "output_type": "execute_result"
    }
   ],
   "source": [
    "np.histogram(get_w_vec(engram_seq_lv_meta))"
   ]
  },
  {
   "cell_type": "code",
   "execution_count": 156,
   "id": "f3184434-5864-44a9-af92-90eae4fa4bc1",
   "metadata": {},
   "outputs": [
    {
     "data": {
      "text/plain": [
       "np.float32(0.6617729)"
      ]
     },
     "execution_count": 156,
     "metadata": {},
     "output_type": "execute_result"
    }
   ],
   "source": [
    "sublv_indices = slice(1, 2)\n",
    "indices2 = slice(0, 150)\n",
    "# indices2 = slice(150, -1)\n",
    "# indices2 = slice(0, -1)\n",
    "engram_seq_sublv = engram_seq_lv_orig.reshape(SEQ_SUBLVS_COUNT, -1)[sublv_indices].ravel()[indices2]\n",
    "matchee_seq_sublv = matchee_seq_lv_orig.reshape(SEQ_SUBLVS_COUNT, -1)[sublv_indices].ravel()[indices2]\n",
    "(engram_seq_sublv @ matchee_seq_sublv) / (np.linalg.norm(engram_seq_sublv) * np.linalg.norm(matchee_seq_sublv))"
   ]
  },
  {
   "cell_type": "code",
   "execution_count": 157,
   "id": "568fb0c3-1f67-4f8e-922a-4f50cf8ff6fa",
   "metadata": {},
   "outputs": [
    {
     "data": {
      "text/plain": [
       "array([-0.33333334,  0.93939394, -0.33333334,  0.93939394, -0.33333334,\n",
       "        0.93939394, -0.33333334,  0.93939394, -0.33333334,  0.93939394,\n",
       "       -0.33333334,  0.93939394, -0.33333334,  0.93939394, -0.33333334,\n",
       "        0.93939394, -0.33333334,  0.93939394, -0.33333334,  0.93939394,\n",
       "       -0.33333334,  0.93939394, -0.33333334,  0.93939394, -0.33333334,\n",
       "        0.93939394, -0.33333334,  0.93939394, -0.33333334,  0.93939394,\n",
       "       -0.33333334,  0.93939394, -0.33333334,  0.93939394, -0.33333334,\n",
       "        0.93939394, -0.33333334,  0.93939394, -0.33333334,  0.93939394,\n",
       "       -0.33333334,  0.93939394, -0.33333334,  0.93939394, -0.33333334,\n",
       "        0.93939394, -0.33333334,  0.93939394, -0.33333334,  0.93939394,\n",
       "       -0.33333334,  0.93939394, -0.33333334,  0.93939394, -0.33333334,\n",
       "        0.93939394, -0.33333334,  0.93939394, -0.33333334,  0.93939394,\n",
       "       -0.33333334,  0.93939394, -0.33333334,  0.93939394, -0.33333334,\n",
       "        0.93939394,  0.        ,  0.        ,  0.        ,  0.        ,\n",
       "        0.        ,  0.        ,  0.        ,  0.        ,  0.        ,\n",
       "        0.        ,  0.        ,  0.        ,  0.        ,  0.        ,\n",
       "        0.        ,  0.        ,  0.        ,  0.        ,  0.        ,\n",
       "        0.        ,  0.        ,  0.        ,  0.        ,  0.        ,\n",
       "        0.        ,  0.        ,  0.        ,  0.        ,  0.        ,\n",
       "        0.        ,  0.        ,  0.        ,  0.        ,  0.        ,\n",
       "        0.        ,  0.        ,  0.        ,  0.        ,  0.        ,\n",
       "        0.        ,  0.        ,  0.        ,  0.        ,  0.        ,\n",
       "        0.        ,  0.        ,  0.        ,  0.        ,  0.        ,\n",
       "        0.        ,  0.        ,  0.        ,  0.        ,  0.        ,\n",
       "        0.        ,  0.        ,  0.        ,  0.        ,  0.        ,\n",
       "        0.        ,  0.        ,  0.        ,  0.        ,  0.        ,\n",
       "        0.        ,  0.        ,  0.        ,  0.        ,  0.        ,\n",
       "        0.        ,  0.        ,  0.        ,  0.        ,  0.        ,\n",
       "        0.        ,  0.        ,  0.        ,  0.        ,  0.        ,\n",
       "        0.        ,  0.        ,  0.        ,  0.        ,  0.        ],\n",
       "      dtype=float32)"
      ]
     },
     "execution_count": 157,
     "metadata": {},
     "output_type": "execute_result"
    }
   ],
   "source": [
    "engram_seq_sublv"
   ]
  },
  {
   "cell_type": "code",
   "execution_count": 164,
   "id": "cfca68ed-69cd-488e-9cc7-6e263add1aca",
   "metadata": {},
   "outputs": [
    {
     "data": {
      "text/plain": [
       "np.float32(0.66177285)"
      ]
     },
     "execution_count": 164,
     "metadata": {},
     "output_type": "execute_result"
    }
   ],
   "source": [
    "engram_seq_sublv = engram_seq_lv.reshape(SEQ_SUBLVS_COUNT, -1)[sublv_indices].ravel()[indices2] \n",
    "matchee_seq_sublv = matchee_seq_lv.reshape(SEQ_SUBLVS_COUNT, -1)[sublv_indices].ravel()[indices2]\n",
    "(engram_seq_sublv @ matchee_seq_sublv) / (np.linalg.norm(engram_seq_sublv) * np.linalg.norm(matchee_seq_sublv))"
   ]
  },
  {
   "cell_type": "code",
   "execution_count": 165,
   "id": "26fbf5f8-622e-4d18-923d-c4496316d61e",
   "metadata": {},
   "outputs": [
    {
     "data": {
      "text/plain": [
       "array([-0.0211152 ,  0.05950646, -0.0211152 ,  0.05950646, -0.0211152 ,\n",
       "        0.05950646, -0.0211152 ,  0.05950646, -0.0211152 ,  0.05950646,\n",
       "       -0.0211152 ,  0.05950646, -0.0211152 ,  0.05950646, -0.0211152 ,\n",
       "        0.05950646, -0.0211152 ,  0.05950646, -0.0211152 ,  0.05950646,\n",
       "       -0.0211152 ,  0.05950646, -0.0211152 ,  0.05950646, -0.0211152 ,\n",
       "        0.05950646, -0.0211152 ,  0.05950646, -0.0211152 ,  0.05950646,\n",
       "       -0.0211152 ,  0.05950646, -0.0211152 ,  0.05950646, -0.0211152 ,\n",
       "        0.05950646, -0.0211152 ,  0.05950646, -0.0211152 ,  0.05950646,\n",
       "       -0.0211152 ,  0.05950646, -0.0211152 ,  0.05950646, -0.0211152 ,\n",
       "        0.05950646, -0.0211152 ,  0.05950646, -0.0211152 ,  0.05950646,\n",
       "       -0.0211152 ,  0.05950646, -0.0211152 ,  0.05950646, -0.0211152 ,\n",
       "        0.05950646, -0.0211152 ,  0.05950646, -0.0211152 ,  0.05950646,\n",
       "       -0.0211152 ,  0.05950646, -0.0211152 ,  0.05950646, -0.0211152 ,\n",
       "        0.05950646,  0.        ,  0.        ,  0.        ,  0.        ,\n",
       "        0.        ,  0.        ,  0.        ,  0.        ,  0.        ,\n",
       "        0.        ,  0.        ,  0.        ,  0.        ,  0.        ,\n",
       "        0.        ,  0.        ,  0.        ,  0.        ,  0.        ,\n",
       "        0.        ,  0.        ,  0.        ,  0.        ,  0.        ,\n",
       "        0.        ,  0.        ,  0.        ,  0.        ,  0.        ,\n",
       "        0.        ,  0.        ,  0.        ,  0.        ,  0.        ,\n",
       "        0.        ,  0.        ,  0.        ,  0.        ,  0.        ,\n",
       "        0.        ,  0.        ,  0.        ,  0.        ,  0.        ,\n",
       "        0.        ,  0.        ,  0.        ,  0.        ,  0.        ,\n",
       "        0.        ,  0.        ,  0.        ,  0.        ,  0.        ,\n",
       "        0.        ,  0.        ,  0.        ,  0.        ,  0.        ,\n",
       "        0.        ,  0.        ,  0.        ,  0.        ,  0.        ,\n",
       "        0.        ,  0.        ,  0.        ,  0.        ,  0.        ,\n",
       "        0.        ,  0.        ,  0.        ,  0.        ,  0.        ,\n",
       "        0.        ,  0.        ,  0.        ,  0.        ,  0.        ,\n",
       "        0.        ,  0.        ,  0.        ,  0.        ,  0.        ],\n",
       "      dtype=float32)"
      ]
     },
     "execution_count": 165,
     "metadata": {},
     "output_type": "execute_result"
    }
   ],
   "source": [
    "engram_seq_sublv"
   ]
  },
  {
   "cell_type": "code",
   "execution_count": null,
   "id": "ab474110-1eda-46a7-ad1a-984adc0a07aa",
   "metadata": {},
   "outputs": [],
   "source": []
  },
  {
   "cell_type": "code",
   "execution_count": null,
   "id": "e5f311fd-7b9a-42cc-8e9f-fecb5f2d02d0",
   "metadata": {},
   "outputs": [],
   "source": []
  },
  {
   "cell_type": "code",
   "execution_count": null,
   "id": "509d4c57-fcbc-4f39-a313-4bb496275568",
   "metadata": {},
   "outputs": [],
   "source": []
  },
  {
   "cell_type": "code",
   "execution_count": 254,
   "id": "b90e998c-4c52-48d0-b764-f86605747733",
   "metadata": {},
   "outputs": [
    {
     "data": {
      "text/plain": [
       "np.float32(0.7419082)"
      ]
     },
     "execution_count": 254,
     "metadata": {},
     "output_type": "execute_result"
    }
   ],
   "source": [
    "engram_seq_sublv = (engram_seq_lv_orig * engram_seq_lv_meta.w_vec).reshape(SEQ_SUBLVS_COUNT, -1)[sublv_indices].ravel()\n",
    "# matchee_seq_sublv = (matchee_seq_lv_orig * engram_seq_lv_meta.w_vec).reshape(SEQ_SUBLVS_COUNT, -1)[sublv_indices].ravel()\n",
    "matchee_seq_sublv = (matchee_seq_lv_orig).reshape(SEQ_SUBLVS_COUNT, -1)[sublv_indices].ravel()\n",
    "(engram_seq_sublv @ matchee_seq_sublv) / (np.linalg.norm(engram_seq_sublv) * np.linalg.norm(matchee_seq_sublv))"
   ]
  },
  {
   "cell_type": "code",
   "execution_count": 249,
   "id": "1059b886-07cf-47bb-9971-7447d8c2b60d",
   "metadata": {},
   "outputs": [
    {
     "data": {
      "text/plain": [
       "(np.float32(11.113664),\n",
       " np.float32(14.933185),\n",
       " np.float32(142.9913),\n",
       " np.float32(165.96239),\n",
       " np.int64(401),\n",
       " np.int64(421))"
      ]
     },
     "execution_count": 249,
     "metadata": {},
     "output_type": "execute_result"
    }
   ],
   "source": [
    "np.linalg.norm(engram_seq_sublv), \\\n",
    "np.linalg.norm(matchee_seq_sublv), \\\n",
    "engram_seq_sublv @ matchee_seq_sublv, \\\n",
    "np.linalg.norm(engram_seq_sublv) * np.linalg.norm(matchee_seq_sublv), \\\n",
    "(engram_seq_sublv != 0).sum(), (matchee_seq_sublv != 0).sum(), "
   ]
  },
  {
   "cell_type": "code",
   "execution_count": 255,
   "id": "ed2942d5-dd86-4cc9-a12d-0b42a1a760ac",
   "metadata": {},
   "outputs": [
    {
     "data": {
      "text/plain": [
       "(np.float32(11.523941),\n",
       " np.float32(14.933185),\n",
       " np.float32(127.67435),\n",
       " np.float32(172.08914),\n",
       " np.int64(376),\n",
       " np.int64(421))"
      ]
     },
     "execution_count": 255,
     "metadata": {},
     "output_type": "execute_result"
    }
   ],
   "source": [
    "np.linalg.norm(engram_seq_sublv), \\\n",
    "np.linalg.norm(matchee_seq_sublv), \\\n",
    "engram_seq_sublv @ matchee_seq_sublv, \\\n",
    "np.linalg.norm(engram_seq_sublv) * np.linalg.norm(matchee_seq_sublv), \\\n",
    "(engram_seq_sublv != 0).sum(), (matchee_seq_sublv != 0).sum(), "
   ]
  },
  {
   "cell_type": "code",
   "execution_count": null,
   "id": "d08444c1-abe5-46b8-9a96-2cc30ea01bae",
   "metadata": {},
   "outputs": [],
   "source": []
  },
  {
   "cell_type": "code",
   "execution_count": null,
   "id": "da025c18-b49a-4a67-b73e-42fdf4a8b21e",
   "metadata": {},
   "outputs": [],
   "source": []
  },
  {
   "cell_type": "code",
   "execution_count": null,
   "id": "8000bfc6-dbc5-496a-ba20-33a02d8a4f34",
   "metadata": {},
   "outputs": [],
   "source": []
  },
  {
   "cell_type": "code",
   "execution_count": null,
   "id": "8797528d-e2ee-442f-bca6-bd9ef30027db",
   "metadata": {},
   "outputs": [],
   "source": [
    "np.histogram(engram_seq_lv_meta.w_vec)"
   ]
  },
  {
   "cell_type": "code",
   "execution_count": null,
   "id": "badb0f7b-8278-4db1-b9a0-2c9421121a4c",
   "metadata": {},
   "outputs": [],
   "source": []
  },
  {
   "cell_type": "code",
   "execution_count": null,
   "id": "43f7ebb4-22ca-4d60-a79a-521898b36ef7",
   "metadata": {},
   "outputs": [],
   "source": []
  },
  {
   "cell_type": "code",
   "execution_count": 213,
   "id": "6cc3776c-5cd8-407a-8f85-3cca7937b91d",
   "metadata": {},
   "outputs": [
    {
     "data": {
      "image/jpeg": "[encoded data removed]",
      "image/png": "[encoded data removed]",
      "text/plain": [
       "<PIL.PngImagePlugin.PngImageFile image mode=L size=128x128>"
      ]
     },
     "execution_count": 213,
     "metadata": {},
     "output_type": "execute_result"
    }
   ],
   "source": [
    "Image.open(io.BytesIO(df_test_images.loc[100003769]['png']))"
   ]
  },
  {
   "cell_type": "code",
   "execution_count": 175,
   "id": "20253488-5c18-43cc-b788-856e3f3cf6f4",
   "metadata": {},
   "outputs": [
    {
     "data": {
      "text/plain": [
       "[25959, 46074, 39577, 27536, 39777, 5654]"
      ]
     },
     "execution_count": 175,
     "metadata": {},
     "output_type": "execute_result"
    }
   ],
   "source": [
    "list(map(lambda kv: kv[1].image_id, filter(lambda kv: kv[1].value == '6', ENGRAMS.items())))"
   ]
  },
  {
   "cell_type": "code",
   "execution_count": 212,
   "id": "0c18d9b3-033b-4004-ae41-2b5c33ef5320",
   "metadata": {},
   "outputs": [
    {
     "data": {
      "image/jpeg": "[encoded data removed]",
      "image/png": "[encoded data removed]",
      "text/plain": [
       "<PIL.PngImagePlugin.PngImageFile image mode=L size=128x128>"
      ]
     },
     "execution_count": 212,
     "metadata": {},
     "output_type": "execute_result"
    }
   ],
   "source": [
    "Image.open(io.BytesIO(df_train_images.loc[53171]['png']))"
   ]
  },
  {
   "cell_type": "code",
   "execution_count": 128,
   "id": "aaf185ec-931e-4a18-a324-09e39a9cad8b",
   "metadata": {},
   "outputs": [
    {
     "data": {
      "image/png": "[encoded data removed]",
      "text/plain": [
       "<Figure size 640x480 with 1 Axes>"
      ]
     },
     "metadata": {},
     "output_type": "display_data"
    }
   ],
   "source": [
    "seq_lvs_diff = 0\n",
    "seq_lvs_diff_cums = []\n",
    "\n",
    "for vec1, vec2 in zip(engram_seq_lv[:1000], matchee_seq_lv[:1000]):\n",
    "    vec = vec1 - vec2\n",
    "    vec = vec ** 2\n",
    "    seq_lvs_diff += vec.sum()\n",
    "    seq_lvs_diff_cums.append(seq_lvs_diff)\n",
    "\n",
    "seq_lvs_diff\n",
    "\n",
    "plt.plot(seq_lvs_diff_cums)\n",
    "plt.show()"
   ]
  },
  {
   "cell_type": "code",
   "execution_count": null,
   "id": "c4b81a25-6cbb-49be-9cdb-899ca98c6301",
   "metadata": {},
   "outputs": [],
   "source": []
  },
  {
   "cell_type": "code",
   "execution_count": 130,
   "id": "ef8d7c40-abc5-4f6a-887f-b23b344f30a9",
   "metadata": {},
   "outputs": [
    {
     "data": {
      "text/html": [
       "<div>\n",
       "<style scoped>\n",
       "    .dataframe tbody tr th:only-of-type {\n",
       "        vertical-align: middle;\n",
       "    }\n",
       "\n",
       "    .dataframe tbody tr th {\n",
       "        vertical-align: top;\n",
       "    }\n",
       "\n",
       "    .dataframe thead th {\n",
       "        text-align: right;\n",
       "    }\n",
       "</style>\n",
       "<table border=\"1\" class=\"dataframe\">\n",
       "  <thead>\n",
       "    <tr style=\"text-align: right;\">\n",
       "      <th></th>\n",
       "      <th>engram_seq_lv_ind</th>\n",
       "      <th>matchee_seq_lv_ind</th>\n",
       "      <th>cos_sim</th>\n",
       "      <th>diff_sq</th>\n",
       "      <th>engram_id</th>\n",
       "      <th>engram_value</th>\n",
       "      <th>engram_image_id</th>\n",
       "      <th>engram_phase</th>\n",
       "      <th>engram_seq_lv_code</th>\n",
       "      <th>matchee_seq_lv_code</th>\n",
       "    </tr>\n",
       "  </thead>\n",
       "  <tbody>\n",
       "    <tr>\n",
       "      <th>3718</th>\n",
       "      <td>14157</td>\n",
       "      <td>4</td>\n",
       "      <td>-1</td>\n",
       "      <td>1.065956e+06</td>\n",
       "      <td>46</td>\n",
       "      <td>6</td>\n",
       "      <td>5654</td>\n",
       "      <td>0</td>\n",
       "      <td>((0, 1), (1, 1))</td>\n",
       "      <td>((1, 0), (0, 0))</td>\n",
       "    </tr>\n",
       "    <tr>\n",
       "      <th>3719</th>\n",
       "      <td>14161</td>\n",
       "      <td>0</td>\n",
       "      <td>-1</td>\n",
       "      <td>1.065956e+06</td>\n",
       "      <td>46</td>\n",
       "      <td>6</td>\n",
       "      <td>5654</td>\n",
       "      <td>0</td>\n",
       "      <td>((1, 1), (0, 1))</td>\n",
       "      <td>((0, 0), (1, 0))</td>\n",
       "    </tr>\n",
       "    <tr>\n",
       "      <th>3720</th>\n",
       "      <td>14155</td>\n",
       "      <td>6</td>\n",
       "      <td>-1</td>\n",
       "      <td>1.080466e+06</td>\n",
       "      <td>46</td>\n",
       "      <td>6</td>\n",
       "      <td>5654</td>\n",
       "      <td>0</td>\n",
       "      <td>((0, 0), (1, 1))</td>\n",
       "      <td>((1, 1), (0, 0))</td>\n",
       "    </tr>\n",
       "    <tr>\n",
       "      <th>3721</th>\n",
       "      <td>14160</td>\n",
       "      <td>1</td>\n",
       "      <td>-1</td>\n",
       "      <td>1.080466e+06</td>\n",
       "      <td>46</td>\n",
       "      <td>6</td>\n",
       "      <td>5654</td>\n",
       "      <td>0</td>\n",
       "      <td>((1, 1), (0, 0))</td>\n",
       "      <td>((0, 0), (1, 1))</td>\n",
       "    </tr>\n",
       "    <tr>\n",
       "      <th>3792</th>\n",
       "      <td>14157</td>\n",
       "      <td>6</td>\n",
       "      <td>-1</td>\n",
       "      <td>1.134638e+06</td>\n",
       "      <td>46</td>\n",
       "      <td>6</td>\n",
       "      <td>5654</td>\n",
       "      <td>0</td>\n",
       "      <td>((0, 1), (1, 1))</td>\n",
       "      <td>((1, 1), (0, 0))</td>\n",
       "    </tr>\n",
       "    <tr>\n",
       "      <th>...</th>\n",
       "      <td>...</td>\n",
       "      <td>...</td>\n",
       "      <td>...</td>\n",
       "      <td>...</td>\n",
       "      <td>...</td>\n",
       "      <td>...</td>\n",
       "      <td>...</td>\n",
       "      <td>...</td>\n",
       "      <td>...</td>\n",
       "      <td>...</td>\n",
       "    </tr>\n",
       "    <tr>\n",
       "      <th>116653</th>\n",
       "      <td>14158</td>\n",
       "      <td>1</td>\n",
       "      <td>-1</td>\n",
       "      <td>7.748395e+06</td>\n",
       "      <td>46</td>\n",
       "      <td>6</td>\n",
       "      <td>5654</td>\n",
       "      <td>0</td>\n",
       "      <td>((1, 0), (0, 0))</td>\n",
       "      <td>((0, 0), (1, 1))</td>\n",
       "    </tr>\n",
       "    <tr>\n",
       "      <th>116706</th>\n",
       "      <td>14156</td>\n",
       "      <td>6</td>\n",
       "      <td>-1</td>\n",
       "      <td>7.807281e+06</td>\n",
       "      <td>46</td>\n",
       "      <td>6</td>\n",
       "      <td>5654</td>\n",
       "      <td>0</td>\n",
       "      <td>((0, 1), (1, 0))</td>\n",
       "      <td>((1, 1), (0, 0))</td>\n",
       "    </tr>\n",
       "    <tr>\n",
       "      <th>116707</th>\n",
       "      <td>14159</td>\n",
       "      <td>1</td>\n",
       "      <td>-1</td>\n",
       "      <td>7.807281e+06</td>\n",
       "      <td>46</td>\n",
       "      <td>6</td>\n",
       "      <td>5654</td>\n",
       "      <td>0</td>\n",
       "      <td>((1, 0), (0, 1))</td>\n",
       "      <td>((0, 0), (1, 1))</td>\n",
       "    </tr>\n",
       "    <tr>\n",
       "      <th>116709</th>\n",
       "      <td>14154</td>\n",
       "      <td>4</td>\n",
       "      <td>-1</td>\n",
       "      <td>7.808612e+06</td>\n",
       "      <td>46</td>\n",
       "      <td>6</td>\n",
       "      <td>5654</td>\n",
       "      <td>0</td>\n",
       "      <td>((0, 0), (1, 0))</td>\n",
       "      <td>((1, 0), (0, 0))</td>\n",
       "    </tr>\n",
       "    <tr>\n",
       "      <th>116710</th>\n",
       "      <td>14158</td>\n",
       "      <td>0</td>\n",
       "      <td>-1</td>\n",
       "      <td>7.808612e+06</td>\n",
       "      <td>46</td>\n",
       "      <td>6</td>\n",
       "      <td>5654</td>\n",
       "      <td>0</td>\n",
       "      <td>((1, 0), (0, 0))</td>\n",
       "      <td>((0, 0), (1, 0))</td>\n",
       "    </tr>\n",
       "  </tbody>\n",
       "</table>\n",
       "<p>64 rows × 10 columns</p>\n",
       "</div>"
      ],
      "text/plain": [
       "        engram_seq_lv_ind  matchee_seq_lv_ind  cos_sim       diff_sq  \\\n",
       "3718                14157                   4       -1  1.065956e+06   \n",
       "3719                14161                   0       -1  1.065956e+06   \n",
       "3720                14155                   6       -1  1.080466e+06   \n",
       "3721                14160                   1       -1  1.080466e+06   \n",
       "3792                14157                   6       -1  1.134638e+06   \n",
       "...                   ...                 ...      ...           ...   \n",
       "116653              14158                   1       -1  7.748395e+06   \n",
       "116706              14156                   6       -1  7.807281e+06   \n",
       "116707              14159                   1       -1  7.807281e+06   \n",
       "116709              14154                   4       -1  7.808612e+06   \n",
       "116710              14158                   0       -1  7.808612e+06   \n",
       "\n",
       "        engram_id engram_value  engram_image_id  engram_phase  \\\n",
       "3718           46            6             5654             0   \n",
       "3719           46            6             5654             0   \n",
       "3720           46            6             5654             0   \n",
       "3721           46            6             5654             0   \n",
       "3792           46            6             5654             0   \n",
       "...           ...          ...              ...           ...   \n",
       "116653         46            6             5654             0   \n",
       "116706         46            6             5654             0   \n",
       "116707         46            6             5654             0   \n",
       "116709         46            6             5654             0   \n",
       "116710         46            6             5654             0   \n",
       "\n",
       "       engram_seq_lv_code matchee_seq_lv_code  \n",
       "3718     ((0, 1), (1, 1))    ((1, 0), (0, 0))  \n",
       "3719     ((1, 1), (0, 1))    ((0, 0), (1, 0))  \n",
       "3720     ((0, 0), (1, 1))    ((1, 1), (0, 0))  \n",
       "3721     ((1, 1), (0, 0))    ((0, 0), (1, 1))  \n",
       "3792     ((0, 1), (1, 1))    ((1, 1), (0, 0))  \n",
       "...                   ...                 ...  \n",
       "116653   ((1, 0), (0, 0))    ((0, 0), (1, 1))  \n",
       "116706   ((0, 1), (1, 0))    ((1, 1), (0, 0))  \n",
       "116707   ((1, 0), (0, 1))    ((0, 0), (1, 1))  \n",
       "116709   ((0, 0), (1, 0))    ((1, 0), (0, 0))  \n",
       "116710   ((1, 0), (0, 0))    ((0, 0), (1, 0))  \n",
       "\n",
       "[64 rows x 10 columns]"
      ]
     },
     "execution_count": 130,
     "metadata": {},
     "output_type": "execute_result"
    }
   ],
   "source": [
    "matchee = create_matchee(df_test_image)\n",
    "mt = get_match_tab(matchee, inspect_depth=9999999)\n",
    "# mt[(mt['engram_image_id'] == 39577) & (mt['matchee_seq_lv_code'] == ((1,0), (2,0), (3,0), (0,0)))]\n",
    "# mt[(mt['engram_image_id'] == 39577) & (mt['matchee_seq_lv_code'] == ((0,0), (1,0)))]\n",
    "# mt[(mt['matchee_seq_lv_code'] == ((1,0), (0,0)))]\n",
    "mt[(mt['engram_image_id'] == 5654)]"
   ]
  },
  {
   "cell_type": "code",
   "execution_count": 131,
   "id": "70bb3df1-c2d0-4b4e-a8cd-8951dd308c5f",
   "metadata": {},
   "outputs": [
    {
     "data": {
      "image/png": "[encoded data removed]",
      "text/plain": [
       "<Figure size 640x480 with 1 Axes>"
      ]
     },
     "metadata": {},
     "output_type": "display_data"
    }
   ],
   "source": [
    "df_match_tab_row = mt.iloc[3718]\n",
    "engram_seq_lv_ind = df_match_tab_row['engram_seq_lv_ind']\n",
    "engram_seq_lv = SEQ_LVS_COS_SIM.array_active[df_match_tab_row['engram_seq_lv_ind']]\n",
    "\n",
    "matchee_seq_lv_code = df_match_tab_row['matchee_seq_lv_code']\n",
    "matchee_seq_lv_ind = matchee.seq_lv_codes.index(matchee_seq_lv_code)\n",
    "matchee_seq_lv = matchee.seq_lvs_cos_sim[matchee_seq_lv_ind]\n",
    "\n",
    "seq_lvs_diff = 0\n",
    "seq_lvs_diff_cums = []\n",
    "\n",
    "for vec1, vec2 in zip(engram_seq_lv[:1000], matchee_seq_lv[:1000]):\n",
    "    vec = vec1 - vec2\n",
    "    vec = vec ** 2\n",
    "    seq_lvs_diff += vec.sum()\n",
    "    seq_lvs_diff_cums.append(seq_lvs_diff)\n",
    "\n",
    "seq_lvs_diff\n",
    "\n",
    "plt.plot(seq_lvs_diff_cums)\n",
    "plt.show()"
   ]
  },
  {
   "cell_type": "code",
   "execution_count": 132,
   "id": "613345b4-1c8d-4d9e-9e0b-6254efe34b00",
   "metadata": {},
   "outputs": [
    {
     "data": {
      "image/jpeg": "[encoded data removed]",
      "image/png": "[encoded data removed]",
      "text/plain": [
       "<PIL.Image.Image image mode=RGB size=800x800>"
      ]
     },
     "execution_count": 132,
     "metadata": {},
     "output_type": "execute_result"
    }
   ],
   "source": [
    "render_match_tab_row(mt.iloc[3718], matchee, use_seq_lv=True) # 1324"
   ]
  },
  {
   "cell_type": "code",
   "execution_count": 306,
   "id": "59b29db3-f8bf-479a-ba22-25e667116f01",
   "metadata": {},
   "outputs": [
    {
     "data": {
      "image/jpeg": "[encoded data removed]",
      "image/png": "[encoded data removed]",
      "text/plain": [
       "<PIL.Image.Image image mode=RGB size=800x800>"
      ]
     },
     "execution_count": 306,
     "metadata": {},
     "output_type": "execute_result"
    }
   ],
   "source": [
    "render_match_tab_row(mt.iloc[215], matchee, use_seq_lv=True) # 1324"
   ]
  },
  {
   "cell_type": "code",
   "execution_count": null,
   "id": "ec428610-e68c-4275-a3a4-c38e5bbc24a7",
   "metadata": {},
   "outputs": [],
   "source": []
  },
  {
   "cell_type": "code",
   "execution_count": null,
   "id": "aecbf742-3672-4ff2-a2c8-3311ef72a382",
   "metadata": {},
   "outputs": [],
   "source": []
  },
  {
   "cell_type": "markdown",
   "id": "b3aa374e-0ea2-40c2-b216-0b8007fc320e",
   "metadata": {},
   "source": [
    "## xxx"
   ]
  },
  {
   "cell_type": "code",
   "execution_count": 203,
   "id": "bde28252-2b89-472b-b38e-192c8581e955",
   "metadata": {},
   "outputs": [],
   "source": [
    "# df_test_results_for_run_c = df_test_results_for_run.copy()"
   ]
  },
  {
   "cell_type": "code",
   "execution_count": 204,
   "id": "2a04786a-1d10-4bf8-90f5-ae85fd70b65a",
   "metadata": {},
   "outputs": [],
   "source": [
    "test_run_id_c = int(df_test_results_for_run_c['test_run_id'][0])\n",
    "match_tabs_c = pickle.loads(pd.read_sql(f'SELECT match_tabs FROM test_run_artifacts WHERE test_run_id = {test_run_id_c}', con=test_results_db_con).iloc[0]['match_tabs'])"
   ]
  },
  {
   "cell_type": "code",
   "execution_count": 206,
   "id": "c7d0edd9-ec67-4879-8c54-81723072e1b3",
   "metadata": {},
   "outputs": [
    {
     "data": {
      "text/html": [
       "<div>\n",
       "<style scoped>\n",
       "    .dataframe tbody tr th:only-of-type {\n",
       "        vertical-align: middle;\n",
       "    }\n",
       "\n",
       "    .dataframe tbody tr th {\n",
       "        vertical-align: top;\n",
       "    }\n",
       "\n",
       "    .dataframe thead th {\n",
       "        text-align: right;\n",
       "    }\n",
       "</style>\n",
       "<table border=\"1\" class=\"dataframe\">\n",
       "  <thead>\n",
       "    <tr style=\"text-align: right;\">\n",
       "      <th></th>\n",
       "      <th>test_image_id</th>\n",
       "      <th>engram_image_id</th>\n",
       "      <th>true_value</th>\n",
       "      <th>infer_value</th>\n",
       "      <th>cos_sim</th>\n",
       "      <th>match_tab_index</th>\n",
       "      <th>match_tab_method</th>\n",
       "    </tr>\n",
       "  </thead>\n",
       "  <tbody>\n",
       "    <tr>\n",
       "      <th>0</th>\n",
       "      <td>100003752</td>\n",
       "      <td>29437</td>\n",
       "      <td>4</td>\n",
       "      <td>6</td>\n",
       "      <td>0.841084</td>\n",
       "      <td>0</td>\n",
       "      <td>cos_sim</td>\n",
       "    </tr>\n",
       "    <tr>\n",
       "      <th>1</th>\n",
       "      <td>100001264</td>\n",
       "      <td>9758</td>\n",
       "      <td>4</td>\n",
       "      <td>9</td>\n",
       "      <td>0.893869</td>\n",
       "      <td>1</td>\n",
       "      <td>cos_sim</td>\n",
       "    </tr>\n",
       "    <tr>\n",
       "      <th>7</th>\n",
       "      <td>100009710</td>\n",
       "      <td>44106</td>\n",
       "      <td>6</td>\n",
       "      <td>5</td>\n",
       "      <td>0.807008</td>\n",
       "      <td>7</td>\n",
       "      <td>cos_sim</td>\n",
       "    </tr>\n",
       "    <tr>\n",
       "      <th>21</th>\n",
       "      <td>100001178</td>\n",
       "      <td>1033</td>\n",
       "      <td>4</td>\n",
       "      <td>2</td>\n",
       "      <td>0.788638</td>\n",
       "      <td>21</td>\n",
       "      <td>cos_sim</td>\n",
       "    </tr>\n",
       "    <tr>\n",
       "      <th>38</th>\n",
       "      <td>100001012</td>\n",
       "      <td>9484</td>\n",
       "      <td>7</td>\n",
       "      <td>2</td>\n",
       "      <td>0.821328</td>\n",
       "      <td>38</td>\n",
       "      <td>cos_sim</td>\n",
       "    </tr>\n",
       "  </tbody>\n",
       "</table>\n",
       "</div>"
      ],
      "text/plain": [
       "    test_image_id  engram_image_id true_value infer_value   cos_sim  \\\n",
       "0       100003752            29437          4           6  0.841084   \n",
       "1       100001264             9758          4           9  0.893869   \n",
       "7       100009710            44106          6           5  0.807008   \n",
       "21      100001178             1033          4           2  0.788638   \n",
       "38      100001012             9484          7           2  0.821328   \n",
       "\n",
       "    match_tab_index match_tab_method  \n",
       "0                 0          cos_sim  \n",
       "1                 1          cos_sim  \n",
       "7                 7          cos_sim  \n",
       "21               21          cos_sim  \n",
       "38               38          cos_sim  "
      ]
     },
     "execution_count": 206,
     "metadata": {},
     "output_type": "execute_result"
    }
   ],
   "source": [
    "df_incorrect_c = df_test_results_for_run_c.loc[df_test_results_for_run_c.true_value != df_test_results_for_run_c.infer_value]\n",
    "df_incorrect_c = df_incorrect_c[['test_image_id', 'engram_image_id', 'true_value', 'infer_value', 'cos_sim', 'match_tab_index', 'match_tab_method']]\n",
    "df_correct_c = df_test_results_for_run_c.loc[df_test_results_for_run_c.true_value == df_test_results_for_run_c.infer_value].copy()\n",
    "df_correct_c = df_correct_c[['test_image_id', 'engram_image_id', 'true_value', 'infer_value', 'cos_sim', 'match_tab_index', 'match_tab_method']]\n",
    "df_incorrect_c.head()"
   ]
  },
  {
   "cell_type": "code",
   "execution_count": 207,
   "id": "55ebc365-c249-4253-b3bc-cf4c03243ea2",
   "metadata": {},
   "outputs": [
    {
     "data": {
      "text/html": [
       "<div>\n",
       "<style scoped>\n",
       "    .dataframe tbody tr th:only-of-type {\n",
       "        vertical-align: middle;\n",
       "    }\n",
       "\n",
       "    .dataframe tbody tr th {\n",
       "        vertical-align: top;\n",
       "    }\n",
       "\n",
       "    .dataframe thead th {\n",
       "        text-align: right;\n",
       "    }\n",
       "</style>\n",
       "<table border=\"1\" class=\"dataframe\">\n",
       "  <thead>\n",
       "    <tr style=\"text-align: right;\">\n",
       "      <th></th>\n",
       "      <th>test_image_id</th>\n",
       "      <th>engram_image_id</th>\n",
       "      <th>true_value</th>\n",
       "      <th>infer_value</th>\n",
       "      <th>cos_sim</th>\n",
       "      <th>match_tab_index</th>\n",
       "      <th>match_tab_method</th>\n",
       "    </tr>\n",
       "  </thead>\n",
       "  <tbody>\n",
       "    <tr>\n",
       "      <th>2</th>\n",
       "      <td>100005629</td>\n",
       "      <td>38800</td>\n",
       "      <td>2</td>\n",
       "      <td>2</td>\n",
       "      <td>0.776715</td>\n",
       "      <td>2</td>\n",
       "      <td>cos_sim</td>\n",
       "    </tr>\n",
       "    <tr>\n",
       "      <th>3</th>\n",
       "      <td>100007696</td>\n",
       "      <td>56698</td>\n",
       "      <td>4</td>\n",
       "      <td>4</td>\n",
       "      <td>0.876949</td>\n",
       "      <td>3</td>\n",
       "      <td>cos_sim</td>\n",
       "    </tr>\n",
       "    <tr>\n",
       "      <th>4</th>\n",
       "      <td>100000111</td>\n",
       "      <td>43598</td>\n",
       "      <td>7</td>\n",
       "      <td>7</td>\n",
       "      <td>0.907990</td>\n",
       "      <td>4</td>\n",
       "      <td>cos_sim</td>\n",
       "    </tr>\n",
       "    <tr>\n",
       "      <th>5</th>\n",
       "      <td>100001435</td>\n",
       "      <td>42773</td>\n",
       "      <td>9</td>\n",
       "      <td>9</td>\n",
       "      <td>0.756153</td>\n",
       "      <td>5</td>\n",
       "      <td>cos_sim</td>\n",
       "    </tr>\n",
       "    <tr>\n",
       "      <th>6</th>\n",
       "      <td>100007232</td>\n",
       "      <td>15507</td>\n",
       "      <td>1</td>\n",
       "      <td>1</td>\n",
       "      <td>0.875834</td>\n",
       "      <td>6</td>\n",
       "      <td>cos_sim</td>\n",
       "    </tr>\n",
       "  </tbody>\n",
       "</table>\n",
       "</div>"
      ],
      "text/plain": [
       "   test_image_id  engram_image_id true_value infer_value   cos_sim  \\\n",
       "2      100005629            38800          2           2  0.776715   \n",
       "3      100007696            56698          4           4  0.876949   \n",
       "4      100000111            43598          7           7  0.907990   \n",
       "5      100001435            42773          9           9  0.756153   \n",
       "6      100007232            15507          1           1  0.875834   \n",
       "\n",
       "   match_tab_index match_tab_method  \n",
       "2                2          cos_sim  \n",
       "3                3          cos_sim  \n",
       "4                4          cos_sim  \n",
       "5                5          cos_sim  \n",
       "6                6          cos_sim  "
      ]
     },
     "execution_count": 207,
     "metadata": {},
     "output_type": "execute_result"
    }
   ],
   "source": [
    "df_correct_c.head()"
   ]
  },
  {
   "cell_type": "code",
   "execution_count": 257,
   "id": "cd81f6a5-e421-4fc8-8ff9-11a607571fb3",
   "metadata": {},
   "outputs": [
    {
     "data": {
      "text/html": [
       "<div>\n",
       "<style scoped>\n",
       "    .dataframe tbody tr th:only-of-type {\n",
       "        vertical-align: middle;\n",
       "    }\n",
       "\n",
       "    .dataframe tbody tr th {\n",
       "        vertical-align: top;\n",
       "    }\n",
       "\n",
       "    .dataframe thead th {\n",
       "        text-align: right;\n",
       "    }\n",
       "</style>\n",
       "<table border=\"1\" class=\"dataframe\">\n",
       "  <thead>\n",
       "    <tr style=\"text-align: right;\">\n",
       "      <th></th>\n",
       "      <th>test_image_id</th>\n",
       "      <th>engram_image_id</th>\n",
       "      <th>true_value</th>\n",
       "      <th>infer_value</th>\n",
       "      <th>cos_sim</th>\n",
       "      <th>match_tab_index</th>\n",
       "      <th>match_tab_method</th>\n",
       "    </tr>\n",
       "  </thead>\n",
       "  <tbody>\n",
       "    <tr>\n",
       "      <th>8</th>\n",
       "      <td>100007903</td>\n",
       "      <td>3924</td>\n",
       "      <td>7</td>\n",
       "      <td>2</td>\n",
       "      <td>0.773791</td>\n",
       "      <td>8</td>\n",
       "      <td>cos_sim</td>\n",
       "    </tr>\n",
       "    <tr>\n",
       "      <th>12</th>\n",
       "      <td>100004207</td>\n",
       "      <td>29437</td>\n",
       "      <td>8</td>\n",
       "      <td>6</td>\n",
       "      <td>0.734214</td>\n",
       "      <td>12</td>\n",
       "      <td>cos_sim</td>\n",
       "    </tr>\n",
       "    <tr>\n",
       "      <th>18</th>\n",
       "      <td>100008928</td>\n",
       "      <td>6448</td>\n",
       "      <td>9</td>\n",
       "      <td>4</td>\n",
       "      <td>0.733242</td>\n",
       "      <td>18</td>\n",
       "      <td>cos_sim</td>\n",
       "    </tr>\n",
       "    <tr>\n",
       "      <th>20</th>\n",
       "      <td>100007613</td>\n",
       "      <td>42349</td>\n",
       "      <td>6</td>\n",
       "      <td>0</td>\n",
       "      <td>0.774789</td>\n",
       "      <td>20</td>\n",
       "      <td>cos_sim</td>\n",
       "    </tr>\n",
       "    <tr>\n",
       "      <th>37</th>\n",
       "      <td>100001012</td>\n",
       "      <td>57752</td>\n",
       "      <td>7</td>\n",
       "      <td>2</td>\n",
       "      <td>0.768041</td>\n",
       "      <td>37</td>\n",
       "      <td>cos_sim</td>\n",
       "    </tr>\n",
       "  </tbody>\n",
       "</table>\n",
       "</div>"
      ],
      "text/plain": [
       "    test_image_id  engram_image_id true_value infer_value   cos_sim  \\\n",
       "8       100007903             3924          7           2  0.773791   \n",
       "12      100004207            29437          8           6  0.734214   \n",
       "18      100008928             6448          9           4  0.733242   \n",
       "20      100007613            42349          6           0  0.774789   \n",
       "37      100001012            57752          7           2  0.768041   \n",
       "\n",
       "    match_tab_index match_tab_method  \n",
       "8                 8          cos_sim  \n",
       "12               12          cos_sim  \n",
       "18               18          cos_sim  \n",
       "20               20          cos_sim  \n",
       "37               37          cos_sim  "
      ]
     },
     "execution_count": 257,
     "metadata": {},
     "output_type": "execute_result"
    }
   ],
   "source": [
    "df_incorrect = df_test_results_for_run.loc[df_test_results_for_run.true_value != df_test_results_for_run.infer_value]\n",
    "df_incorrect = df_incorrect[['test_image_id', 'engram_image_id', 'true_value', 'infer_value', 'cos_sim', 'match_tab_index', 'match_tab_method']]\n",
    "df_incorrect.head()"
   ]
  },
  {
   "cell_type": "code",
   "execution_count": 258,
   "id": "78be4b72-4a97-4e53-9ffb-7ea5eb34eeff",
   "metadata": {},
   "outputs": [
    {
     "data": {
      "text/plain": [
       "{100000900,\n",
       " 100001017,\n",
       " 100001099,\n",
       " 100003279,\n",
       " 100003728,\n",
       " 100004015,\n",
       " 100006248,\n",
       " 100006294,\n",
       " 100006833,\n",
       " 100006850,\n",
       " 100006972,\n",
       " 100007613,\n",
       " 100007747,\n",
       " 100008495}"
      ]
     },
     "execution_count": 258,
     "metadata": {},
     "output_type": "execute_result"
    }
   ],
   "source": [
    "set(df_incorrect['test_image_id']) - set(df_incorrect_c['test_image_id'])#, set(df_incorrect_c['test_image_id']) - set(df_incorrect['test_image_id'])"
   ]
  },
  {
   "cell_type": "code",
   "execution_count": 259,
   "id": "afaf1f57-c340-4178-b6a7-b7734785fae8",
   "metadata": {},
   "outputs": [
    {
     "data": {
      "text/html": [
       "<div>\n",
       "<style scoped>\n",
       "    .dataframe tbody tr th:only-of-type {\n",
       "        vertical-align: middle;\n",
       "    }\n",
       "\n",
       "    .dataframe tbody tr th {\n",
       "        vertical-align: top;\n",
       "    }\n",
       "\n",
       "    .dataframe thead th {\n",
       "        text-align: right;\n",
       "    }\n",
       "</style>\n",
       "<table border=\"1\" class=\"dataframe\">\n",
       "  <thead>\n",
       "    <tr style=\"text-align: right;\">\n",
       "      <th></th>\n",
       "      <th>test_image_id</th>\n",
       "      <th>engram_image_id</th>\n",
       "      <th>true_value</th>\n",
       "      <th>infer_value</th>\n",
       "      <th>cos_sim</th>\n",
       "      <th>match_tab_index</th>\n",
       "      <th>match_tab_method</th>\n",
       "    </tr>\n",
       "  </thead>\n",
       "  <tbody>\n",
       "    <tr>\n",
       "      <th>63</th>\n",
       "      <td>100000900</td>\n",
       "      <td>50564</td>\n",
       "      <td>1</td>\n",
       "      <td>4</td>\n",
       "      <td>0.835808</td>\n",
       "      <td>63</td>\n",
       "      <td>cos_sim</td>\n",
       "    </tr>\n",
       "  </tbody>\n",
       "</table>\n",
       "</div>"
      ],
      "text/plain": [
       "    test_image_id  engram_image_id true_value infer_value   cos_sim  \\\n",
       "63      100000900            50564          1           4  0.835808   \n",
       "\n",
       "    match_tab_index match_tab_method  \n",
       "63               63          cos_sim  "
      ]
     },
     "execution_count": 259,
     "metadata": {},
     "output_type": "execute_result"
    }
   ],
   "source": [
    "df_incorrect[df_incorrect['test_image_id'] == 100000900]"
   ]
  },
  {
   "cell_type": "code",
   "execution_count": 260,
   "id": "13d967d3-5cd8-4ec8-b851-88225e29ad81",
   "metadata": {},
   "outputs": [
    {
     "data": {
      "text/html": [
       "<div>\n",
       "<style scoped>\n",
       "    .dataframe tbody tr th:only-of-type {\n",
       "        vertical-align: middle;\n",
       "    }\n",
       "\n",
       "    .dataframe tbody tr th {\n",
       "        vertical-align: top;\n",
       "    }\n",
       "\n",
       "    .dataframe thead th {\n",
       "        text-align: right;\n",
       "    }\n",
       "</style>\n",
       "<table border=\"1\" class=\"dataframe\">\n",
       "  <thead>\n",
       "    <tr style=\"text-align: right;\">\n",
       "      <th></th>\n",
       "      <th>test_image_id</th>\n",
       "      <th>engram_image_id</th>\n",
       "      <th>true_value</th>\n",
       "      <th>infer_value</th>\n",
       "      <th>cos_sim</th>\n",
       "      <th>match_tab_index</th>\n",
       "      <th>match_tab_method</th>\n",
       "    </tr>\n",
       "  </thead>\n",
       "  <tbody>\n",
       "    <tr>\n",
       "      <th>145</th>\n",
       "      <td>100000900</td>\n",
       "      <td>15730</td>\n",
       "      <td>1</td>\n",
       "      <td>1</td>\n",
       "      <td>0.857304</td>\n",
       "      <td>145</td>\n",
       "      <td>cos_sim</td>\n",
       "    </tr>\n",
       "  </tbody>\n",
       "</table>\n",
       "</div>"
      ],
      "text/plain": [
       "     test_image_id  engram_image_id true_value infer_value   cos_sim  \\\n",
       "145      100000900            15730          1           1  0.857304   \n",
       "\n",
       "     match_tab_index match_tab_method  \n",
       "145              145          cos_sim  "
      ]
     },
     "execution_count": 260,
     "metadata": {},
     "output_type": "execute_result"
    }
   ],
   "source": [
    "df_correct_c[df_correct_c['test_image_id'] == 100000900]"
   ]
  },
  {
   "cell_type": "code",
   "execution_count": 218,
   "id": "a373cd5b-a654-4976-bf68-3cd194bfca1c",
   "metadata": {},
   "outputs": [],
   "source": [
    "# list(filter(lambda kv: kv[1].image_id == 15730,  ENGRAMS.items()))"
   ]
  },
  {
   "cell_type": "code",
   "execution_count": 261,
   "id": "ad30e86e-bc5a-406c-b495-8bb673fab61b",
   "metadata": {},
   "outputs": [
    {
     "data": {
      "text/html": [
       "<div>\n",
       "<style scoped>\n",
       "    .dataframe tbody tr th:only-of-type {\n",
       "        vertical-align: middle;\n",
       "    }\n",
       "\n",
       "    .dataframe tbody tr th {\n",
       "        vertical-align: top;\n",
       "    }\n",
       "\n",
       "    .dataframe thead th {\n",
       "        text-align: right;\n",
       "    }\n",
       "</style>\n",
       "<table border=\"1\" class=\"dataframe\">\n",
       "  <thead>\n",
       "    <tr style=\"text-align: right;\">\n",
       "      <th></th>\n",
       "      <th>engram_seq_lv_ind</th>\n",
       "      <th>matchee_seq_lv_ind</th>\n",
       "      <th>cos_sim</th>\n",
       "      <th>engram_id</th>\n",
       "      <th>engram_value</th>\n",
       "      <th>engram_image_id</th>\n",
       "      <th>engram_phase</th>\n",
       "      <th>engram_seq_lv_code</th>\n",
       "      <th>matchee_seq_lv_code</th>\n",
       "      <th>test_image_id</th>\n",
       "      <th>true_value</th>\n",
       "    </tr>\n",
       "  </thead>\n",
       "  <tbody>\n",
       "    <tr>\n",
       "      <th>2</th>\n",
       "      <td>2418</td>\n",
       "      <td>24</td>\n",
       "      <td>0.820190</td>\n",
       "      <td>3086</td>\n",
       "      <td>1</td>\n",
       "      <td>15730</td>\n",
       "      <td>0</td>\n",
       "      <td>((1, 0), (2, 0), (0, 0))</td>\n",
       "      <td>((1, 0), (2, 0), (0, 0))</td>\n",
       "      <td>100000900</td>\n",
       "      <td>1</td>\n",
       "    </tr>\n",
       "    <tr>\n",
       "      <th>3</th>\n",
       "      <td>2417</td>\n",
       "      <td>16</td>\n",
       "      <td>0.795339</td>\n",
       "      <td>3086</td>\n",
       "      <td>1</td>\n",
       "      <td>15730</td>\n",
       "      <td>0</td>\n",
       "      <td>((1, 0), (0, 0), (2, 0))</td>\n",
       "      <td>((1, 0), (0, 0), (2, 0))</td>\n",
       "      <td>100000900</td>\n",
       "      <td>1</td>\n",
       "    </tr>\n",
       "    <tr>\n",
       "      <th>4</th>\n",
       "      <td>2415</td>\n",
       "      <td>0</td>\n",
       "      <td>0.783616</td>\n",
       "      <td>3086</td>\n",
       "      <td>1</td>\n",
       "      <td>15730</td>\n",
       "      <td>0</td>\n",
       "      <td>((0, 0), (1, 0), (2, 0))</td>\n",
       "      <td>((0, 0), (1, 0), (2, 0))</td>\n",
       "      <td>100000900</td>\n",
       "      <td>1</td>\n",
       "    </tr>\n",
       "    <tr>\n",
       "      <th>5</th>\n",
       "      <td>2420</td>\n",
       "      <td>40</td>\n",
       "      <td>0.781336</td>\n",
       "      <td>3086</td>\n",
       "      <td>1</td>\n",
       "      <td>15730</td>\n",
       "      <td>0</td>\n",
       "      <td>((2, 0), (1, 0), (0, 0))</td>\n",
       "      <td>((2, 0), (1, 0), (0, 0))</td>\n",
       "      <td>100000900</td>\n",
       "      <td>1</td>\n",
       "    </tr>\n",
       "    <tr>\n",
       "      <th>7</th>\n",
       "      <td>2419</td>\n",
       "      <td>32</td>\n",
       "      <td>0.764612</td>\n",
       "      <td>3086</td>\n",
       "      <td>1</td>\n",
       "      <td>15730</td>\n",
       "      <td>0</td>\n",
       "      <td>((2, 0), (0, 0), (1, 0))</td>\n",
       "      <td>((2, 0), (0, 0), (1, 0))</td>\n",
       "      <td>100000900</td>\n",
       "      <td>1</td>\n",
       "    </tr>\n",
       "    <tr>\n",
       "      <th>46</th>\n",
       "      <td>2420</td>\n",
       "      <td>24</td>\n",
       "      <td>0.697691</td>\n",
       "      <td>3086</td>\n",
       "      <td>1</td>\n",
       "      <td>15730</td>\n",
       "      <td>0</td>\n",
       "      <td>((2, 0), (1, 0), (0, 0))</td>\n",
       "      <td>((1, 0), (2, 0), (0, 0))</td>\n",
       "      <td>100000900</td>\n",
       "      <td>1</td>\n",
       "    </tr>\n",
       "    <tr>\n",
       "      <th>48</th>\n",
       "      <td>2417</td>\n",
       "      <td>32</td>\n",
       "      <td>0.696572</td>\n",
       "      <td>3086</td>\n",
       "      <td>1</td>\n",
       "      <td>15730</td>\n",
       "      <td>0</td>\n",
       "      <td>((1, 0), (0, 0), (2, 0))</td>\n",
       "      <td>((2, 0), (0, 0), (1, 0))</td>\n",
       "      <td>100000900</td>\n",
       "      <td>1</td>\n",
       "    </tr>\n",
       "    <tr>\n",
       "      <th>58</th>\n",
       "      <td>2419</td>\n",
       "      <td>16</td>\n",
       "      <td>0.684397</td>\n",
       "      <td>3086</td>\n",
       "      <td>1</td>\n",
       "      <td>15730</td>\n",
       "      <td>0</td>\n",
       "      <td>((2, 0), (0, 0), (1, 0))</td>\n",
       "      <td>((1, 0), (0, 0), (2, 0))</td>\n",
       "      <td>100000900</td>\n",
       "      <td>1</td>\n",
       "    </tr>\n",
       "    <tr>\n",
       "      <th>76</th>\n",
       "      <td>2416</td>\n",
       "      <td>8</td>\n",
       "      <td>0.676281</td>\n",
       "      <td>3086</td>\n",
       "      <td>1</td>\n",
       "      <td>15730</td>\n",
       "      <td>0</td>\n",
       "      <td>((0, 0), (2, 0), (1, 0))</td>\n",
       "      <td>((0, 0), (2, 0), (1, 0))</td>\n",
       "      <td>100000900</td>\n",
       "      <td>1</td>\n",
       "    </tr>\n",
       "    <tr>\n",
       "      <th>99</th>\n",
       "      <td>2416</td>\n",
       "      <td>0</td>\n",
       "      <td>0.659447</td>\n",
       "      <td>3086</td>\n",
       "      <td>1</td>\n",
       "      <td>15730</td>\n",
       "      <td>0</td>\n",
       "      <td>((0, 0), (2, 0), (1, 0))</td>\n",
       "      <td>((0, 0), (1, 0), (2, 0))</td>\n",
       "      <td>100000900</td>\n",
       "      <td>1</td>\n",
       "    </tr>\n",
       "    <tr>\n",
       "      <th>101</th>\n",
       "      <td>2418</td>\n",
       "      <td>40</td>\n",
       "      <td>0.658097</td>\n",
       "      <td>3086</td>\n",
       "      <td>1</td>\n",
       "      <td>15730</td>\n",
       "      <td>0</td>\n",
       "      <td>((1, 0), (2, 0), (0, 0))</td>\n",
       "      <td>((2, 0), (1, 0), (0, 0))</td>\n",
       "      <td>100000900</td>\n",
       "      <td>1</td>\n",
       "    </tr>\n",
       "    <tr>\n",
       "      <th>314</th>\n",
       "      <td>2415</td>\n",
       "      <td>44</td>\n",
       "      <td>0.596616</td>\n",
       "      <td>3086</td>\n",
       "      <td>1</td>\n",
       "      <td>15730</td>\n",
       "      <td>0</td>\n",
       "      <td>((0, 0), (1, 0), (2, 0))</td>\n",
       "      <td>((2, 1), (1, 0), (0, 0))</td>\n",
       "      <td>100000900</td>\n",
       "      <td>1</td>\n",
       "    </tr>\n",
       "    <tr>\n",
       "      <th>316</th>\n",
       "      <td>2415</td>\n",
       "      <td>8</td>\n",
       "      <td>0.596050</td>\n",
       "      <td>3086</td>\n",
       "      <td>1</td>\n",
       "      <td>15730</td>\n",
       "      <td>0</td>\n",
       "      <td>((0, 0), (1, 0), (2, 0))</td>\n",
       "      <td>((0, 0), (2, 0), (1, 0))</td>\n",
       "      <td>100000900</td>\n",
       "      <td>1</td>\n",
       "    </tr>\n",
       "    <tr>\n",
       "      <th>324</th>\n",
       "      <td>2418</td>\n",
       "      <td>25</td>\n",
       "      <td>0.594753</td>\n",
       "      <td>3086</td>\n",
       "      <td>1</td>\n",
       "      <td>15730</td>\n",
       "      <td>0</td>\n",
       "      <td>((1, 0), (2, 0), (0, 0))</td>\n",
       "      <td>((1, 0), (2, 0), (0, 1))</td>\n",
       "      <td>100000900</td>\n",
       "      <td>1</td>\n",
       "    </tr>\n",
       "    <tr>\n",
       "      <th>441</th>\n",
       "      <td>2415</td>\n",
       "      <td>40</td>\n",
       "      <td>0.578049</td>\n",
       "      <td>3086</td>\n",
       "      <td>1</td>\n",
       "      <td>15730</td>\n",
       "      <td>0</td>\n",
       "      <td>((0, 0), (1, 0), (2, 0))</td>\n",
       "      <td>((2, 0), (1, 0), (0, 0))</td>\n",
       "      <td>100000900</td>\n",
       "      <td>1</td>\n",
       "    </tr>\n",
       "    <tr>\n",
       "      <th>661</th>\n",
       "      <td>2420</td>\n",
       "      <td>41</td>\n",
       "      <td>0.551712</td>\n",
       "      <td>3086</td>\n",
       "      <td>1</td>\n",
       "      <td>15730</td>\n",
       "      <td>0</td>\n",
       "      <td>((2, 0), (1, 0), (0, 0))</td>\n",
       "      <td>((2, 0), (1, 0), (0, 1))</td>\n",
       "      <td>100000900</td>\n",
       "      <td>1</td>\n",
       "    </tr>\n",
       "    <tr>\n",
       "      <th>791</th>\n",
       "      <td>2418</td>\n",
       "      <td>16</td>\n",
       "      <td>0.539181</td>\n",
       "      <td>3086</td>\n",
       "      <td>1</td>\n",
       "      <td>15730</td>\n",
       "      <td>0</td>\n",
       "      <td>((1, 0), (2, 0), (0, 0))</td>\n",
       "      <td>((1, 0), (0, 0), (2, 0))</td>\n",
       "      <td>100000900</td>\n",
       "      <td>1</td>\n",
       "    </tr>\n",
       "    <tr>\n",
       "      <th>933</th>\n",
       "      <td>2416</td>\n",
       "      <td>40</td>\n",
       "      <td>0.526498</td>\n",
       "      <td>3086</td>\n",
       "      <td>1</td>\n",
       "      <td>15730</td>\n",
       "      <td>0</td>\n",
       "      <td>((0, 0), (2, 0), (1, 0))</td>\n",
       "      <td>((2, 0), (1, 0), (0, 0))</td>\n",
       "      <td>100000900</td>\n",
       "      <td>1</td>\n",
       "    </tr>\n",
       "  </tbody>\n",
       "</table>\n",
       "</div>"
      ],
      "text/plain": [
       "     engram_seq_lv_ind  matchee_seq_lv_ind   cos_sim  engram_id engram_value  \\\n",
       "2                 2418                  24  0.820190       3086            1   \n",
       "3                 2417                  16  0.795339       3086            1   \n",
       "4                 2415                   0  0.783616       3086            1   \n",
       "5                 2420                  40  0.781336       3086            1   \n",
       "7                 2419                  32  0.764612       3086            1   \n",
       "46                2420                  24  0.697691       3086            1   \n",
       "48                2417                  32  0.696572       3086            1   \n",
       "58                2419                  16  0.684397       3086            1   \n",
       "76                2416                   8  0.676281       3086            1   \n",
       "99                2416                   0  0.659447       3086            1   \n",
       "101               2418                  40  0.658097       3086            1   \n",
       "314               2415                  44  0.596616       3086            1   \n",
       "316               2415                   8  0.596050       3086            1   \n",
       "324               2418                  25  0.594753       3086            1   \n",
       "441               2415                  40  0.578049       3086            1   \n",
       "661               2420                  41  0.551712       3086            1   \n",
       "791               2418                  16  0.539181       3086            1   \n",
       "933               2416                  40  0.526498       3086            1   \n",
       "\n",
       "     engram_image_id  engram_phase        engram_seq_lv_code  \\\n",
       "2              15730             0  ((1, 0), (2, 0), (0, 0))   \n",
       "3              15730             0  ((1, 0), (0, 0), (2, 0))   \n",
       "4              15730             0  ((0, 0), (1, 0), (2, 0))   \n",
       "5              15730             0  ((2, 0), (1, 0), (0, 0))   \n",
       "7              15730             0  ((2, 0), (0, 0), (1, 0))   \n",
       "46             15730             0  ((2, 0), (1, 0), (0, 0))   \n",
       "48             15730             0  ((1, 0), (0, 0), (2, 0))   \n",
       "58             15730             0  ((2, 0), (0, 0), (1, 0))   \n",
       "76             15730             0  ((0, 0), (2, 0), (1, 0))   \n",
       "99             15730             0  ((0, 0), (2, 0), (1, 0))   \n",
       "101            15730             0  ((1, 0), (2, 0), (0, 0))   \n",
       "314            15730             0  ((0, 0), (1, 0), (2, 0))   \n",
       "316            15730             0  ((0, 0), (1, 0), (2, 0))   \n",
       "324            15730             0  ((1, 0), (2, 0), (0, 0))   \n",
       "441            15730             0  ((0, 0), (1, 0), (2, 0))   \n",
       "661            15730             0  ((2, 0), (1, 0), (0, 0))   \n",
       "791            15730             0  ((1, 0), (2, 0), (0, 0))   \n",
       "933            15730             0  ((0, 0), (2, 0), (1, 0))   \n",
       "\n",
       "          matchee_seq_lv_code  test_image_id true_value  \n",
       "2    ((1, 0), (2, 0), (0, 0))      100000900          1  \n",
       "3    ((1, 0), (0, 0), (2, 0))      100000900          1  \n",
       "4    ((0, 0), (1, 0), (2, 0))      100000900          1  \n",
       "5    ((2, 0), (1, 0), (0, 0))      100000900          1  \n",
       "7    ((2, 0), (0, 0), (1, 0))      100000900          1  \n",
       "46   ((1, 0), (2, 0), (0, 0))      100000900          1  \n",
       "48   ((2, 0), (0, 0), (1, 0))      100000900          1  \n",
       "58   ((1, 0), (0, 0), (2, 0))      100000900          1  \n",
       "76   ((0, 0), (2, 0), (1, 0))      100000900          1  \n",
       "99   ((0, 0), (1, 0), (2, 0))      100000900          1  \n",
       "101  ((2, 0), (1, 0), (0, 0))      100000900          1  \n",
       "314  ((2, 1), (1, 0), (0, 0))      100000900          1  \n",
       "316  ((0, 0), (2, 0), (1, 0))      100000900          1  \n",
       "324  ((1, 0), (2, 0), (0, 1))      100000900          1  \n",
       "441  ((2, 0), (1, 0), (0, 0))      100000900          1  \n",
       "661  ((2, 0), (1, 0), (0, 1))      100000900          1  \n",
       "791  ((1, 0), (0, 0), (2, 0))      100000900          1  \n",
       "933  ((2, 0), (1, 0), (0, 0))      100000900          1  "
      ]
     },
     "execution_count": 261,
     "metadata": {},
     "output_type": "execute_result"
    }
   ],
   "source": [
    "mt = match_tabs[63]\n",
    "mt[mt['engram_image_id'] == 15730]\n",
    "# mt"
   ]
  },
  {
   "cell_type": "code",
   "execution_count": 262,
   "id": "8a3eed2a-60b5-4741-8f78-178895e9ffb6",
   "metadata": {},
   "outputs": [
    {
     "data": {
      "text/html": [
       "<div>\n",
       "<style scoped>\n",
       "    .dataframe tbody tr th:only-of-type {\n",
       "        vertical-align: middle;\n",
       "    }\n",
       "\n",
       "    .dataframe tbody tr th {\n",
       "        vertical-align: top;\n",
       "    }\n",
       "\n",
       "    .dataframe thead th {\n",
       "        text-align: right;\n",
       "    }\n",
       "</style>\n",
       "<table border=\"1\" class=\"dataframe\">\n",
       "  <thead>\n",
       "    <tr style=\"text-align: right;\">\n",
       "      <th></th>\n",
       "      <th>engram_seq_lv_ind</th>\n",
       "      <th>matchee_seq_lv_ind</th>\n",
       "      <th>cos_sim</th>\n",
       "      <th>engram_id</th>\n",
       "      <th>engram_value</th>\n",
       "      <th>engram_image_id</th>\n",
       "      <th>engram_phase</th>\n",
       "      <th>engram_seq_lv_code</th>\n",
       "      <th>matchee_seq_lv_code</th>\n",
       "      <th>test_image_id</th>\n",
       "      <th>true_value</th>\n",
       "    </tr>\n",
       "  </thead>\n",
       "  <tbody>\n",
       "    <tr>\n",
       "      <th>0</th>\n",
       "      <td>56975</td>\n",
       "      <td>33</td>\n",
       "      <td>0.857304</td>\n",
       "      <td>2577</td>\n",
       "      <td>1</td>\n",
       "      <td>15730</td>\n",
       "      <td>0</td>\n",
       "      <td>((2, 0), (0, 0), (1, 1))</td>\n",
       "      <td>((2, 0), (0, 0), (1, 1))</td>\n",
       "      <td>100000900</td>\n",
       "      <td>1</td>\n",
       "    </tr>\n",
       "    <tr>\n",
       "      <th>1</th>\n",
       "      <td>56977</td>\n",
       "      <td>35</td>\n",
       "      <td>0.845943</td>\n",
       "      <td>2577</td>\n",
       "      <td>1</td>\n",
       "      <td>15730</td>\n",
       "      <td>0</td>\n",
       "      <td>((2, 0), (0, 1), (1, 1))</td>\n",
       "      <td>((2, 0), (0, 1), (1, 1))</td>\n",
       "      <td>100000900</td>\n",
       "      <td>1</td>\n",
       "    </tr>\n",
       "    <tr>\n",
       "      <th>2</th>\n",
       "      <td>56957</td>\n",
       "      <td>15</td>\n",
       "      <td>0.844402</td>\n",
       "      <td>2577</td>\n",
       "      <td>1</td>\n",
       "      <td>15730</td>\n",
       "      <td>0</td>\n",
       "      <td>((0, 1), (2, 1), (1, 1))</td>\n",
       "      <td>((0, 1), (2, 1), (1, 1))</td>\n",
       "      <td>100000900</td>\n",
       "      <td>1</td>\n",
       "    </tr>\n",
       "    <tr>\n",
       "      <th>3</th>\n",
       "      <td>56961</td>\n",
       "      <td>19</td>\n",
       "      <td>0.837876</td>\n",
       "      <td>2577</td>\n",
       "      <td>1</td>\n",
       "      <td>15730</td>\n",
       "      <td>0</td>\n",
       "      <td>((1, 0), (0, 1), (2, 1))</td>\n",
       "      <td>((1, 0), (0, 1), (2, 1))</td>\n",
       "      <td>100000900</td>\n",
       "      <td>1</td>\n",
       "    </tr>\n",
       "    <tr>\n",
       "      <th>4</th>\n",
       "      <td>56532</td>\n",
       "      <td>0</td>\n",
       "      <td>0.835808</td>\n",
       "      <td>2572</td>\n",
       "      <td>4</td>\n",
       "      <td>50564</td>\n",
       "      <td>0</td>\n",
       "      <td>((2, 0), (1, 0), (0, 0))</td>\n",
       "      <td>((0, 0), (1, 0), (2, 0))</td>\n",
       "      <td>100000900</td>\n",
       "      <td>1</td>\n",
       "    </tr>\n",
       "    <tr>\n",
       "      <th>...</th>\n",
       "      <td>...</td>\n",
       "      <td>...</td>\n",
       "      <td>...</td>\n",
       "      <td>...</td>\n",
       "      <td>...</td>\n",
       "      <td>...</td>\n",
       "      <td>...</td>\n",
       "      <td>...</td>\n",
       "      <td>...</td>\n",
       "      <td>...</td>\n",
       "      <td>...</td>\n",
       "    </tr>\n",
       "    <tr>\n",
       "      <th>95</th>\n",
       "      <td>29075</td>\n",
       "      <td>33</td>\n",
       "      <td>0.743445</td>\n",
       "      <td>2526</td>\n",
       "      <td>2</td>\n",
       "      <td>24035</td>\n",
       "      <td>0</td>\n",
       "      <td>((0, 0), (3, 0), (1, 1), (4, 0), (2, 1))</td>\n",
       "      <td>((2, 0), (0, 0), (1, 1))</td>\n",
       "      <td>100000900</td>\n",
       "      <td>1</td>\n",
       "    </tr>\n",
       "    <tr>\n",
       "      <th>96</th>\n",
       "      <td>29045</td>\n",
       "      <td>33</td>\n",
       "      <td>0.743445</td>\n",
       "      <td>2526</td>\n",
       "      <td>2</td>\n",
       "      <td>24035</td>\n",
       "      <td>0</td>\n",
       "      <td>((0, 0), (3, 0), (1, 1), (2, 1), (4, 1))</td>\n",
       "      <td>((2, 0), (0, 0), (1, 1))</td>\n",
       "      <td>100000900</td>\n",
       "      <td>1</td>\n",
       "    </tr>\n",
       "    <tr>\n",
       "      <th>97</th>\n",
       "      <td>29044</td>\n",
       "      <td>33</td>\n",
       "      <td>0.743445</td>\n",
       "      <td>2526</td>\n",
       "      <td>2</td>\n",
       "      <td>24035</td>\n",
       "      <td>0</td>\n",
       "      <td>((0, 0), (3, 0), (1, 1), (2, 1), (4, 0))</td>\n",
       "      <td>((2, 0), (0, 0), (1, 1))</td>\n",
       "      <td>100000900</td>\n",
       "      <td>1</td>\n",
       "    </tr>\n",
       "    <tr>\n",
       "      <th>98</th>\n",
       "      <td>28627</td>\n",
       "      <td>7</td>\n",
       "      <td>0.743371</td>\n",
       "      <td>2524</td>\n",
       "      <td>1</td>\n",
       "      <td>57931</td>\n",
       "      <td>0</td>\n",
       "      <td>((1, 1), (0, 1), (2, 1))</td>\n",
       "      <td>((0, 1), (1, 1), (2, 1))</td>\n",
       "      <td>100000900</td>\n",
       "      <td>1</td>\n",
       "    </tr>\n",
       "    <tr>\n",
       "      <th>99</th>\n",
       "      <td>57883</td>\n",
       "      <td>11</td>\n",
       "      <td>0.743343</td>\n",
       "      <td>2584</td>\n",
       "      <td>4</td>\n",
       "      <td>57228</td>\n",
       "      <td>0</td>\n",
       "      <td>((1, 0), (0, 1), (2, 1))</td>\n",
       "      <td>((0, 0), (2, 1), (1, 1))</td>\n",
       "      <td>100000900</td>\n",
       "      <td>1</td>\n",
       "    </tr>\n",
       "  </tbody>\n",
       "</table>\n",
       "<p>100 rows × 11 columns</p>\n",
       "</div>"
      ],
      "text/plain": [
       "    engram_seq_lv_ind  matchee_seq_lv_ind   cos_sim  engram_id engram_value  \\\n",
       "0               56975                  33  0.857304       2577            1   \n",
       "1               56977                  35  0.845943       2577            1   \n",
       "2               56957                  15  0.844402       2577            1   \n",
       "3               56961                  19  0.837876       2577            1   \n",
       "4               56532                   0  0.835808       2572            4   \n",
       "..                ...                 ...       ...        ...          ...   \n",
       "95              29075                  33  0.743445       2526            2   \n",
       "96              29045                  33  0.743445       2526            2   \n",
       "97              29044                  33  0.743445       2526            2   \n",
       "98              28627                   7  0.743371       2524            1   \n",
       "99              57883                  11  0.743343       2584            4   \n",
       "\n",
       "    engram_image_id  engram_phase                        engram_seq_lv_code  \\\n",
       "0             15730             0                  ((2, 0), (0, 0), (1, 1))   \n",
       "1             15730             0                  ((2, 0), (0, 1), (1, 1))   \n",
       "2             15730             0                  ((0, 1), (2, 1), (1, 1))   \n",
       "3             15730             0                  ((1, 0), (0, 1), (2, 1))   \n",
       "4             50564             0                  ((2, 0), (1, 0), (0, 0))   \n",
       "..              ...           ...                                       ...   \n",
       "95            24035             0  ((0, 0), (3, 0), (1, 1), (4, 0), (2, 1))   \n",
       "96            24035             0  ((0, 0), (3, 0), (1, 1), (2, 1), (4, 1))   \n",
       "97            24035             0  ((0, 0), (3, 0), (1, 1), (2, 1), (4, 0))   \n",
       "98            57931             0                  ((1, 1), (0, 1), (2, 1))   \n",
       "99            57228             0                  ((1, 0), (0, 1), (2, 1))   \n",
       "\n",
       "         matchee_seq_lv_code  test_image_id true_value  \n",
       "0   ((2, 0), (0, 0), (1, 1))      100000900          1  \n",
       "1   ((2, 0), (0, 1), (1, 1))      100000900          1  \n",
       "2   ((0, 1), (2, 1), (1, 1))      100000900          1  \n",
       "3   ((1, 0), (0, 1), (2, 1))      100000900          1  \n",
       "4   ((0, 0), (1, 0), (2, 0))      100000900          1  \n",
       "..                       ...            ...        ...  \n",
       "95  ((2, 0), (0, 0), (1, 1))      100000900          1  \n",
       "96  ((2, 0), (0, 0), (1, 1))      100000900          1  \n",
       "97  ((2, 0), (0, 0), (1, 1))      100000900          1  \n",
       "98  ((0, 1), (1, 1), (2, 1))      100000900          1  \n",
       "99  ((0, 0), (2, 1), (1, 1))      100000900          1  \n",
       "\n",
       "[100 rows x 11 columns]"
      ]
     },
     "execution_count": 262,
     "metadata": {},
     "output_type": "execute_result"
    }
   ],
   "source": [
    "match_tabs_c[145]"
   ]
  },
  {
   "cell_type": "code",
   "execution_count": 264,
   "id": "de5b7b59-9edf-48c4-b417-4abb878f73d8",
   "metadata": {},
   "outputs": [
    {
     "data": {
      "image/jpeg": "[encoded data removed]",
      "image/png": "[encoded data removed]",
      "text/plain": [
       "<PIL.Image.Image image mode=RGB size=800x800>"
      ]
     },
     "execution_count": 264,
     "metadata": {},
     "output_type": "execute_result"
    }
   ],
   "source": [
    "match_tab = match_tabs[63]\n",
    "df_match_tab_row = match_tab.iloc[7]\n",
    "test_image_id = df_match_tab_row['test_image_id']\n",
    "\n",
    "if test_image_id >= 100_000_000:\n",
    "    df_test_image = df_test_images.loc[test_image_id]\n",
    "else:\n",
    "    df_test_image = df_train_images.loc[test_image_id]\n",
    "\n",
    "matchee = create_matchee(df_test_image, df_match_tab_row['matchee_seq_lv_code'])\n",
    "# matchee = create_matchee(df_test_image)\n",
    "\n",
    "engram_seq_lv_ind = df_match_tab_row['engram_seq_lv_ind']\n",
    "# engram_seq_lv = SEQ_LVS_COS_SIM.array_active[df_match_tab_row['engram_seq_lv_ind']]\n",
    "engram_seq_lv = SEQ_LVS.array_active[df_match_tab_row['engram_seq_lv_ind']]\n",
    "engram_seq_lv2 = SEQ_LVS2.array_active[df_match_tab_row['engram_seq_lv_ind']]\n",
    "\n",
    "matchee_seq_lv_code = df_match_tab_row['matchee_seq_lv_code']\n",
    "matchee_seq_lv_ind = matchee.seq_lv_codes.index(matchee_seq_lv_code)\n",
    "# matchee_seq_lv = matchee.seq_lvs_cos_sim[matchee_seq_lv_ind]\n",
    "matchee_seq_lv = matchee.seq_lvs[matchee_seq_lv_ind]\n",
    "matchee_seq_lv2 = matchee.seq_lvs2[matchee_seq_lv_ind]\n",
    "\n",
    "render_match_tab_row(df_match_tab_row, matchee, use_seq_lv=False, delta_xy = np.array([10, 15]), k=5)"
   ]
  },
  {
   "cell_type": "code",
   "execution_count": 246,
   "id": "4a12b32a-c745-4f5e-8626-15ca9c7e06b7",
   "metadata": {},
   "outputs": [
    {
     "data": {
      "text/plain": [
       "np.float32(30.74998)"
      ]
     },
     "execution_count": 246,
     "metadata": {},
     "output_type": "execute_result"
    }
   ],
   "source": [
    "seq_sublv_i = 0\n",
    "engram_seq_lv2.reshape(-1, 2)[SEQ_SUBLV_LEN*seq_sublv_i:SEQ_SUBLV_LEN*(seq_sublv_i+1)].ravel() @ matchee_seq_lv2.reshape(-1, 2)[SEQ_SUBLV_LEN*seq_sublv_i:SEQ_SUBLV_LEN*(seq_sublv_i+1)].ravel()"
   ]
  },
  {
   "cell_type": "code",
   "execution_count": 251,
   "id": "9b1e9e5e-3332-495a-ba7d-62ea9aec88af",
   "metadata": {},
   "outputs": [
    {
     "data": {
      "text/plain": [
       "array([[ 0.        ,  0.        ],\n",
       "       [ 0.        ,  0.        ],\n",
       "       [ 0.        ,  0.        ],\n",
       "       [ 0.        ,  0.        ],\n",
       "       [ 0.        ,  0.        ],\n",
       "       [ 0.        ,  0.        ],\n",
       "       [ 0.        ,  0.        ],\n",
       "       [ 0.        ,  0.        ],\n",
       "       [ 0.        ,  0.        ],\n",
       "       [ 0.        ,  0.        ],\n",
       "       [ 0.        ,  0.        ],\n",
       "       [ 0.        ,  0.        ],\n",
       "       [ 0.        ,  0.        ],\n",
       "       [ 0.        ,  0.        ],\n",
       "       [ 0.        ,  0.        ],\n",
       "       [ 0.        ,  0.        ],\n",
       "       [ 0.        ,  0.        ],\n",
       "       [ 0.        ,  0.        ],\n",
       "       [ 0.        ,  0.        ],\n",
       "       [ 0.        ,  0.        ],\n",
       "       [ 0.        ,  0.        ],\n",
       "       [ 0.        ,  0.        ],\n",
       "       [ 0.        ,  0.        ],\n",
       "       [ 0.        ,  0.        ],\n",
       "       [ 0.        ,  0.        ],\n",
       "       [ 0.        ,  0.        ],\n",
       "       [ 0.        ,  0.        ],\n",
       "       [ 0.        ,  0.        ],\n",
       "       [ 0.        ,  0.        ],\n",
       "       [ 0.        ,  0.        ],\n",
       "       [ 0.        ,  0.        ],\n",
       "       [ 0.        ,  0.        ],\n",
       "       [ 0.        ,  0.        ],\n",
       "       [ 0.        ,  0.        ],\n",
       "       [ 0.        ,  0.        ],\n",
       "       [ 0.        ,  0.        ],\n",
       "       [ 0.        ,  0.        ],\n",
       "       [ 0.        ,  0.        ],\n",
       "       [ 0.        ,  0.        ],\n",
       "       [ 0.        ,  0.        ],\n",
       "       [ 0.        ,  0.        ],\n",
       "       [ 0.        ,  0.        ],\n",
       "       [ 0.        ,  0.        ],\n",
       "       [ 0.        ,  0.        ],\n",
       "       [ 0.        ,  0.        ],\n",
       "       [ 0.        ,  0.        ],\n",
       "       [ 0.        ,  0.        ],\n",
       "       [ 0.        ,  0.        ],\n",
       "       [ 0.        ,  0.        ],\n",
       "       [ 0.        ,  0.        ],\n",
       "       [ 0.        , -1.        ],\n",
       "       [ 0.        , -1.        ],\n",
       "       [ 0.        , -1.        ],\n",
       "       [ 0.        , -1.        ],\n",
       "       [ 0.        , -1.        ],\n",
       "       [ 0.        , -1.        ],\n",
       "       [ 0.        , -1.        ],\n",
       "       [ 0.        , -1.        ],\n",
       "       [ 0.        , -1.        ],\n",
       "       [ 0.24253562, -0.9701425 ],\n",
       "       [ 0.24253562, -0.9701425 ],\n",
       "       [ 0.24253562, -0.9701425 ],\n",
       "       [ 0.24253562, -0.9701425 ],\n",
       "       [ 0.24253562, -0.9701425 ],\n",
       "       [ 0.24253562, -0.9701425 ],\n",
       "       [ 0.24253562, -0.9701425 ],\n",
       "       [ 0.24253562, -0.9701425 ],\n",
       "       [ 0.19611613, -0.9805807 ],\n",
       "       [ 0.19611613, -0.9805807 ],\n",
       "       [ 0.19611613, -0.9805807 ],\n",
       "       [ 0.19611613, -0.9805807 ],\n",
       "       [ 0.19611613, -0.9805807 ],\n",
       "       [ 0.        , -1.        ],\n",
       "       [ 0.        , -1.        ],\n",
       "       [ 0.        , -1.        ],\n",
       "       [ 0.        , -1.        ],\n",
       "       [ 0.14142136, -0.98994946],\n",
       "       [ 0.14142136, -0.98994946],\n",
       "       [ 0.14142136, -0.98994946],\n",
       "       [ 0.14142136, -0.98994946],\n",
       "       [ 0.14142136, -0.98994946],\n",
       "       [ 0.14142136, -0.98994946],\n",
       "       [ 0.14142136, -0.98994946],\n",
       "       [ 0.        , -1.        ],\n",
       "       [ 0.        , -1.        ],\n",
       "       [ 0.        , -1.        ],\n",
       "       [ 0.        , -1.        ],\n",
       "       [ 0.        , -1.        ],\n",
       "       [ 0.        , -1.        ],\n",
       "       [ 0.        , -1.        ],\n",
       "       [ 0.19611613, -0.9805807 ],\n",
       "       [ 0.19611613, -0.9805807 ],\n",
       "       [ 0.19611613, -0.9805807 ],\n",
       "       [ 0.19611613, -0.9805807 ],\n",
       "       [ 0.19611613, -0.9805807 ],\n",
       "       [ 0.        ,  0.        ],\n",
       "       [ 0.        ,  0.        ],\n",
       "       [ 0.        ,  0.        ],\n",
       "       [ 0.        ,  0.        ],\n",
       "       [ 0.        ,  0.        ],\n",
       "       [ 0.        ,  0.        ],\n",
       "       [ 0.        ,  0.        ],\n",
       "       [ 0.        ,  0.        ],\n",
       "       [ 0.        ,  0.        ],\n",
       "       [ 0.        ,  0.        ],\n",
       "       [ 0.        ,  0.        ],\n",
       "       [ 0.        ,  0.        ],\n",
       "       [ 0.        ,  0.        ],\n",
       "       [ 0.        ,  0.        ],\n",
       "       [ 0.        ,  0.        ],\n",
       "       [ 0.        ,  0.        ],\n",
       "       [ 0.        ,  0.        ],\n",
       "       [ 0.        ,  0.        ],\n",
       "       [ 0.        ,  0.        ],\n",
       "       [ 0.        ,  0.        ],\n",
       "       [ 0.        ,  0.        ],\n",
       "       [ 0.        ,  0.        ],\n",
       "       [ 0.        ,  0.        ],\n",
       "       [ 0.        ,  0.        ],\n",
       "       [ 0.        ,  0.        ],\n",
       "       [ 0.        ,  0.        ],\n",
       "       [ 0.        ,  0.        ],\n",
       "       [ 0.        ,  0.        ],\n",
       "       [ 0.        ,  0.        ],\n",
       "       [ 0.        ,  0.        ],\n",
       "       [ 0.        ,  0.        ],\n",
       "       [ 0.        ,  0.        ],\n",
       "       [ 0.        ,  0.        ],\n",
       "       [ 0.        ,  0.        ],\n",
       "       [ 0.        ,  0.        ],\n",
       "       [ 0.        ,  0.        ],\n",
       "       [ 0.        ,  0.        ],\n",
       "       [ 0.        ,  0.        ],\n",
       "       [ 0.        ,  0.        ],\n",
       "       [ 0.        ,  0.        ],\n",
       "       [ 0.        ,  0.        ],\n",
       "       [ 0.        ,  0.        ],\n",
       "       [ 0.        ,  0.        ],\n",
       "       [ 0.        ,  0.        ],\n",
       "       [ 0.        ,  0.        ],\n",
       "       [ 0.        ,  0.        ],\n",
       "       [ 0.        ,  0.        ],\n",
       "       [ 0.        ,  0.        ],\n",
       "       [ 0.        ,  0.        ],\n",
       "       [ 0.        ,  0.        ],\n",
       "       [ 0.        ,  0.        ],\n",
       "       [ 0.        ,  0.        ],\n",
       "       [ 0.        ,  0.        ],\n",
       "       [ 0.        ,  0.        ],\n",
       "       [ 0.        ,  0.        ],\n",
       "       [ 0.        ,  0.        ],\n",
       "       [ 0.        ,  0.        ],\n",
       "       [ 0.        ,  0.        ],\n",
       "       [ 0.        ,  0.        ],\n",
       "       [ 0.        ,  0.        ],\n",
       "       [ 0.        ,  0.        ],\n",
       "       [ 0.        ,  0.        ],\n",
       "       [ 0.        ,  0.        ],\n",
       "       [ 0.        ,  0.        ],\n",
       "       [ 0.        ,  0.        ],\n",
       "       [ 0.        ,  0.        ],\n",
       "       [ 0.        ,  0.        ],\n",
       "       [ 0.        ,  0.        ],\n",
       "       [ 0.        ,  0.        ],\n",
       "       [ 0.        ,  0.        ],\n",
       "       [ 0.        ,  0.        ],\n",
       "       [ 0.        ,  0.        ],\n",
       "       [ 0.        ,  0.        ],\n",
       "       [ 0.        ,  0.        ],\n",
       "       [ 0.        ,  0.        ],\n",
       "       [ 0.        ,  0.        ],\n",
       "       [ 0.        ,  0.        ],\n",
       "       [ 0.        ,  0.        ],\n",
       "       [ 0.        ,  0.        ],\n",
       "       [ 0.        ,  0.        ],\n",
       "       [ 0.        ,  0.        ],\n",
       "       [ 0.        ,  0.        ],\n",
       "       [ 0.        ,  0.        ],\n",
       "       [ 0.        ,  0.        ],\n",
       "       [ 0.        ,  0.        ],\n",
       "       [ 0.        ,  0.        ],\n",
       "       [ 0.        ,  0.        ],\n",
       "       [ 0.        ,  0.        ],\n",
       "       [ 0.        ,  0.        ],\n",
       "       [ 0.        ,  0.        ],\n",
       "       [ 0.        ,  0.        ],\n",
       "       [ 0.        ,  0.        ],\n",
       "       [ 0.        ,  0.        ],\n",
       "       [ 0.        ,  0.        ],\n",
       "       [ 0.        ,  0.        ],\n",
       "       [ 0.        ,  0.        ],\n",
       "       [ 0.        ,  0.        ],\n",
       "       [ 0.        ,  0.        ],\n",
       "       [ 0.        ,  0.        ],\n",
       "       [ 0.        ,  0.        ],\n",
       "       [ 0.        ,  0.        ],\n",
       "       [ 0.        ,  0.        ],\n",
       "       [ 0.        ,  0.        ],\n",
       "       [ 0.        ,  0.        ],\n",
       "       [ 0.        ,  0.        ],\n",
       "       [ 0.        ,  0.        ],\n",
       "       [ 0.        ,  0.        ],\n",
       "       [ 0.        ,  0.        ],\n",
       "       [ 0.        ,  0.        ],\n",
       "       [ 0.        ,  0.        ],\n",
       "       [ 0.        ,  0.        ],\n",
       "       [ 0.        ,  0.        ],\n",
       "       [ 0.        ,  0.        ],\n",
       "       [ 0.        ,  0.        ],\n",
       "       [ 0.        ,  0.        ],\n",
       "       [ 0.        ,  0.        ],\n",
       "       [ 0.        ,  0.        ],\n",
       "       [ 0.        ,  0.        ],\n",
       "       [ 0.        ,  0.        ],\n",
       "       [ 0.        ,  0.        ],\n",
       "       [ 0.        ,  0.        ],\n",
       "       [ 0.        ,  0.        ],\n",
       "       [ 0.        ,  0.        ],\n",
       "       [ 0.        ,  0.        ],\n",
       "       [ 0.        ,  0.        ],\n",
       "       [ 0.        ,  0.        ],\n",
       "       [ 0.        ,  0.        ],\n",
       "       [ 0.        ,  0.        ],\n",
       "       [ 0.        ,  0.        ],\n",
       "       [ 0.        ,  0.        ],\n",
       "       [ 0.        ,  0.        ],\n",
       "       [ 0.        ,  0.        ],\n",
       "       [ 0.        ,  0.        ],\n",
       "       [ 0.        ,  0.        ],\n",
       "       [ 0.        ,  0.        ],\n",
       "       [ 0.        ,  0.        ],\n",
       "       [ 0.        ,  0.        ],\n",
       "       [ 0.        ,  0.        ],\n",
       "       [ 0.        ,  0.        ],\n",
       "       [ 0.        ,  0.        ],\n",
       "       [ 0.        ,  0.        ],\n",
       "       [ 0.        ,  0.        ],\n",
       "       [ 0.        ,  0.        ],\n",
       "       [ 0.        ,  0.        ],\n",
       "       [ 0.        ,  0.        ],\n",
       "       [ 0.        ,  0.        ],\n",
       "       [ 0.        ,  0.        ],\n",
       "       [ 0.        ,  0.        ],\n",
       "       [ 0.        ,  0.        ],\n",
       "       [ 0.        ,  0.        ],\n",
       "       [ 0.        ,  0.        ],\n",
       "       [ 0.        ,  0.        ],\n",
       "       [ 0.        ,  0.        ],\n",
       "       [ 0.        ,  0.        ],\n",
       "       [ 0.        ,  0.        ],\n",
       "       [ 0.        ,  0.        ],\n",
       "       [ 0.        ,  0.        ],\n",
       "       [ 0.        ,  0.        ],\n",
       "       [ 0.        ,  0.        ],\n",
       "       [ 0.        ,  0.        ],\n",
       "       [ 0.        ,  0.        ],\n",
       "       [ 0.        ,  0.        ],\n",
       "       [ 0.        ,  0.        ],\n",
       "       [ 0.        ,  0.        ],\n",
       "       [ 0.        ,  0.        ],\n",
       "       [ 0.        ,  0.        ],\n",
       "       [ 0.        ,  0.        ],\n",
       "       [ 0.        ,  0.        ],\n",
       "       [ 0.        ,  0.        ],\n",
       "       [ 0.        ,  0.        ],\n",
       "       [ 0.        ,  0.        ],\n",
       "       [ 0.        ,  0.        ],\n",
       "       [ 0.        ,  0.        ],\n",
       "       [ 0.        ,  0.        ],\n",
       "       [ 0.        ,  0.        ],\n",
       "       [ 0.        ,  0.        ],\n",
       "       [ 0.        ,  0.        ],\n",
       "       [ 0.        ,  0.        ],\n",
       "       [ 0.        ,  0.        ],\n",
       "       [ 0.        ,  0.        ],\n",
       "       [ 0.        ,  0.        ],\n",
       "       [ 0.        ,  0.        ],\n",
       "       [ 0.        ,  0.        ],\n",
       "       [ 0.        ,  0.        ],\n",
       "       [ 0.        ,  0.        ],\n",
       "       [ 0.        ,  0.        ],\n",
       "       [ 0.        ,  0.        ],\n",
       "       [ 0.        ,  0.        ],\n",
       "       [ 0.        ,  0.        ],\n",
       "       [ 0.        ,  0.        ],\n",
       "       [ 0.        ,  0.        ],\n",
       "       [ 0.        ,  0.        ],\n",
       "       [ 0.        ,  0.        ],\n",
       "       [ 0.        ,  0.        ],\n",
       "       [ 0.        ,  0.        ],\n",
       "       [ 0.        ,  0.        ],\n",
       "       [ 0.        ,  0.        ],\n",
       "       [ 0.        ,  0.        ],\n",
       "       [ 0.        ,  0.        ],\n",
       "       [ 0.        ,  0.        ],\n",
       "       [ 0.        ,  0.        ],\n",
       "       [ 0.        ,  0.        ],\n",
       "       [ 0.        ,  0.        ],\n",
       "       [ 0.        ,  0.        ],\n",
       "       [ 0.        ,  0.        ],\n",
       "       [ 0.        ,  0.        ],\n",
       "       [ 0.        ,  0.        ],\n",
       "       [ 0.        ,  0.        ],\n",
       "       [ 0.        ,  0.        ],\n",
       "       [ 0.        ,  0.        ],\n",
       "       [ 0.        ,  0.        ],\n",
       "       [ 0.        ,  0.        ],\n",
       "       [ 0.        ,  0.        ],\n",
       "       [ 0.        ,  0.        ],\n",
       "       [ 0.        ,  0.        ],\n",
       "       [ 0.        ,  0.        ],\n",
       "       [ 0.        ,  0.        ],\n",
       "       [ 0.        ,  0.        ],\n",
       "       [ 0.        ,  0.        ],\n",
       "       [ 0.        ,  0.        ],\n",
       "       [ 0.        ,  0.        ],\n",
       "       [ 0.        ,  0.        ],\n",
       "       [ 0.        ,  0.        ],\n",
       "       [ 0.        ,  0.        ],\n",
       "       [ 0.        ,  0.        ],\n",
       "       [ 0.        ,  0.        ],\n",
       "       [ 0.        ,  0.        ],\n",
       "       [ 0.        ,  0.        ],\n",
       "       [ 0.        ,  0.        ],\n",
       "       [ 0.        ,  0.        ],\n",
       "       [ 0.        ,  0.        ],\n",
       "       [ 0.        ,  0.        ],\n",
       "       [ 0.        ,  0.        ],\n",
       "       [ 0.        ,  0.        ],\n",
       "       [ 0.        ,  0.        ]], dtype=float32)"
      ]
     },
     "execution_count": 251,
     "metadata": {},
     "output_type": "execute_result"
    }
   ],
   "source": [
    "engram_seq_lv2.reshape(-1, 2)[SEQ_SUBLV_LEN*seq_sublv_i:SEQ_SUBLV_LEN*(seq_sublv_i+1)][100:]"
   ]
  },
  {
   "cell_type": "code",
   "execution_count": 245,
   "id": "fa501ed0-7e79-4d54-8cd9-4d70e8f5a2cb",
   "metadata": {},
   "outputs": [
    {
     "data": {
      "text/plain": [
       "array([[-0.29545453,  0.95454544],\n",
       "       [-0.29545453,  0.95454544],\n",
       "       [-0.29545453,  0.95454544],\n",
       "       [-0.29545453,  0.95454544],\n",
       "       [-0.29545453,  0.95454544],\n",
       "       [-0.29545453,  0.95454544],\n",
       "       [-0.29545453,  0.95454544],\n",
       "       [-0.29545453,  0.95454544],\n",
       "       [-0.29545453,  0.95454544],\n",
       "       [-0.29545453,  0.95454544],\n",
       "       [-0.29545453,  0.95454544],\n",
       "       [-0.29545453,  0.95454544],\n",
       "       [-0.29545453,  0.95454544],\n",
       "       [-0.29545453,  0.95454544],\n",
       "       [-0.29545453,  0.95454544],\n",
       "       [-0.29545453,  0.95454544],\n",
       "       [-0.29545453,  0.95454544],\n",
       "       [-0.29545453,  0.95454544],\n",
       "       [-0.29545453,  0.95454544],\n",
       "       [-0.29545453,  0.95454544],\n",
       "       [-0.29545453,  0.95454544],\n",
       "       [-0.29545453,  0.95454544],\n",
       "       [-0.29545453,  0.95454544],\n",
       "       [-0.29545453,  0.95454544],\n",
       "       [-0.29545453,  0.95454544],\n",
       "       [-0.29545453,  0.95454544],\n",
       "       [-0.29545453,  0.95454544],\n",
       "       [-0.29545453,  0.95454544],\n",
       "       [-0.29545453,  0.95454544],\n",
       "       [-0.29545453,  0.95454544],\n",
       "       [-0.29545453,  0.95454544],\n",
       "       [-0.29545453,  0.95454544],\n",
       "       [-0.29545453,  0.95454544],\n",
       "       [-0.29545453,  0.95454544],\n",
       "       [-0.29545453,  0.95454544],\n",
       "       [-0.29545453,  0.95454544],\n",
       "       [-0.29545453,  0.95454544],\n",
       "       [-0.29545453,  0.95454544],\n",
       "       [-0.29545453,  0.95454544],\n",
       "       [-0.29545453,  0.95454544],\n",
       "       [-0.29545453,  0.95454544],\n",
       "       [-0.29545453,  0.95454544],\n",
       "       [-0.29545453,  0.95454544],\n",
       "       [-0.29545453,  0.95454544],\n",
       "       [ 0.        ,  0.        ],\n",
       "       [ 0.        ,  0.        ],\n",
       "       [ 0.        ,  0.        ],\n",
       "       [ 0.        ,  0.        ],\n",
       "       [ 0.        ,  0.        ],\n",
       "       [ 0.        ,  0.        ]], dtype=float32)"
      ]
     },
     "execution_count": 245,
     "metadata": {},
     "output_type": "execute_result"
    }
   ],
   "source": [
    "matchee_seq_lv2.reshape(-1, 2)[SEQ_SUBLV_LEN*seq_sublv_i:SEQ_SUBLV_LEN*(seq_sublv_i+1)][:50]"
   ]
  },
  {
   "cell_type": "code",
   "execution_count": null,
   "id": "e3074610-440f-451c-85f4-1b8f3bdc4229",
   "metadata": {},
   "outputs": [],
   "source": []
  }
 ],
 "metadata": {
  "kernelspec": {
   "display_name": "Python 3 (ipykernel)",
   "language": "python",
   "name": "python3"
  },
  "language_info": {
   "codemirror_mode": {
    "name": "ipython",
    "version": 3
   },
   "file_extension": ".py",
   "mimetype": "text/x-python",
   "name": "python",
   "nbconvert_exporter": "python",
   "pygments_lexer": "ipython3",
   "version": "3.12.2"
  }
 },
 "nbformat": 4,
 "nbformat_minor": 5
}
