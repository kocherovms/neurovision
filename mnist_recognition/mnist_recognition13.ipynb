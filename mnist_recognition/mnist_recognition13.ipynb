{
 "cells": [
  {
   "cell_type": "code",
   "execution_count": 2,
   "id": "27532844-1826-4299-b063-16a22e592f3f",
   "metadata": {},
   "outputs": [],
   "source": [
    "import os, math\n",
    "from collections import defaultdict\n",
    "import itertools\n",
    "import sqlite3\n",
    "\n",
    "import logging\n",
    "import logging.handlers\n",
    "\n",
    "from PIL import Image, ImageDraw\n",
    "from tqdm.notebook import tqdm\n",
    "\n",
    "from sklearn.model_selection import train_test_split\n",
    "import matplotlib.pyplot as plt\n",
    "import scipy\n",
    "import numpy as np\n",
    "import cupy as cp\n",
    "import pandas as pd\n",
    "\n",
    "from utils import *\n",
    "from hdc import *"
   ]
  },
  {
   "cell_type": "code",
   "execution_count": 3,
   "id": "73358262-adf2-4d17-a383-f120a5d1f8aa",
   "metadata": {},
   "outputs": [
    {
     "name": "stdout",
     "output_type": "stream",
     "text": [
      "xp = cupy\n"
     ]
    }
   ],
   "source": [
    "config = Config('SQLITE3')\n",
    "RNG = np.random.default_rng()\n",
    "\n",
    "if cp.cuda.is_available():\n",
    "    device_marker = cp.empty(1)\n",
    "    xp_array_from_gpu = lambda a: a.get() if isinstance(a, cp.ndarray) else a\n",
    "    xp_array_to_gpu = lambda a: cp.asarray(a) if isinstance(a, np.ndarray) else a\n",
    "else:\n",
    "    device_marker = np.empty(1)\n",
    "    xp_array_from_gpu = lambda a: a\n",
    "    xp_array_to_gpu = lambda a: a\n",
    "    \n",
    "xp = cp.get_array_module(device_marker)\n",
    "print(f'xp = {xp.__name__}')\n",
    "\n",
    "log = logging.getLogger('kmslog')\n",
    "log.setLevel(logging.DEBUG)\n",
    "\n",
    "if not log.hasHandlers():\n",
    "    log.addHandler(logging.handlers.SysLogHandler(address = '/dev/log', facility=logging.handlers.SysLogHandler.LOG_LOCAL0))\n",
    "\n",
    "train_db_con = sqlite3.connect(os.path.join(config.dataset_path, config.train_db_file_name))\n",
    "test_db_con = sqlite3.connect(os.path.join(config.dataset_path, config.test_db_file_name))"
   ]
  },
  {
   "cell_type": "code",
   "execution_count": 4,
   "id": "d2dd62ab-b44e-4251-9e86-d41b3672e36e",
   "metadata": {},
   "outputs": [
    {
     "name": "stdout",
     "output_type": "stream",
     "text": [
      "CPU times: user 4 μs, sys: 0 ns, total: 4 μs\n",
      "Wall time: 9.3 μs\n"
     ]
    },
    {
     "data": {
      "text/plain": [
       "((10000, 3), (2000, 3))"
      ]
     },
     "execution_count": 4,
     "metadata": {},
     "output_type": "execute_result"
    }
   ],
   "source": [
    "%time\n",
    "df_train_images = pd.read_sql_query('SELECT * FROM images', con=train_db_con, index_col='image_id')\n",
    "df_test_images = pd.read_sql_query('SELECT * FROM images', con=test_db_con, index_col='image_id')\n",
    "df_train_images.shape, df_test_images.shape"
   ]
  },
  {
   "cell_type": "code",
   "execution_count": 6,
   "id": "75910c5d-054d-43c0-9a34-125ecde5a068",
   "metadata": {},
   "outputs": [
    {
     "data": {
      "text/html": [
       "<div>\n",
       "<style scoped>\n",
       "    .dataframe tbody tr th:only-of-type {\n",
       "        vertical-align: middle;\n",
       "    }\n",
       "\n",
       "    .dataframe tbody tr th {\n",
       "        vertical-align: top;\n",
       "    }\n",
       "\n",
       "    .dataframe thead th {\n",
       "        text-align: right;\n",
       "    }\n",
       "</style>\n",
       "<table border=\"1\" class=\"dataframe\">\n",
       "  <thead>\n",
       "    <tr style=\"text-align: right;\">\n",
       "      <th></th>\n",
       "      <th>index</th>\n",
       "      <th>value</th>\n",
       "      <th>png</th>\n",
       "    </tr>\n",
       "    <tr>\n",
       "      <th>image_id</th>\n",
       "      <th></th>\n",
       "      <th></th>\n",
       "      <th></th>\n",
       "    </tr>\n",
       "  </thead>\n",
       "  <tbody>\n",
       "    <tr>\n",
       "      <th>27456</th>\n",
       "      <td>0</td>\n",
       "      <td>2</td>\n",
       "      <td>b'\\x89PNG\\r\\n\\x1a\\n\\x00\\x00\\x00\\rIHDR\\x00\\x00\\...</td>\n",
       "    </tr>\n",
       "  </tbody>\n",
       "</table>\n",
       "</div>"
      ],
      "text/plain": [
       "          index value                                                png\n",
       "image_id                                                                \n",
       "27456         0     2  b'\\x89PNG\\r\\n\\x1a\\n\\x00\\x00\\x00\\rIHDR\\x00\\x00\\..."
      ]
     },
     "execution_count": 6,
     "metadata": {},
     "output_type": "execute_result"
    }
   ],
   "source": [
    "df_train_images.head(1)"
   ]
  },
  {
   "cell_type": "code",
   "execution_count": 7,
   "id": "b5a3b4ca-998d-4309-8499-d868b00ef9be",
   "metadata": {},
   "outputs": [],
   "source": [
    "def matrix_to_image(m):\n",
    "    m = m.ravel()\n",
    "    sz = int(np.sqrt(m.shape[0]))\n",
    "    assert sz * sz == m.shape[0]\n",
    "    return Image.frombytes('L', size=(sz, sz), data=m.astype('b'))"
   ]
  },
  {
   "cell_type": "code",
   "execution_count": 8,
   "id": "bc06ecb2-5ba8-4669-9dd9-17624127b081",
   "metadata": {},
   "outputs": [],
   "source": [
    "def lay_grid(image, step):\n",
    "    draw = ImageDraw.Draw(image)\n",
    "\n",
    "    for c in range(step - 1, image.height, step):\n",
    "        draw.line([0, c, image.width, c], fill=127)\n",
    "        draw.line([c, 0, c, image.height], fill=127)\n",
    "\n",
    "    return image"
   ]
  },
  {
   "cell_type": "code",
   "execution_count": 9,
   "id": "70b21219-4f16-4824-90ec-7bda1574c5d1",
   "metadata": {},
   "outputs": [
    {
     "data": {
      "text/html": [
       "<div style=\"\n",
       "        display: grid; \n",
       "        grid-template-columns: repeat(8, 128px);\n",
       "        column-gap: 1px;\n",
       "        row-gap: 1px;\">\n",
       "        \n",
       "            <figure style=\"margin: 5px !important;\">\n",
       "              <img src=\"data:image/png;base64,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\" style=\"height: auto\">\n",
       "              <figcaption style=\"font-size: 0.6em\">2</figcaption>\n",
       "            </figure>\n",
       "        \n",
       "            <figure style=\"margin: 5px !important;\">\n",
       "              <img src=\"data:image/png;base64,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\" style=\"height: auto\">\n",
       "              <figcaption style=\"font-size: 0.6em\">9</figcaption>\n",
       "            </figure>\n",
       "        \n",
       "            <figure style=\"margin: 5px !important;\">\n",
       "              <img src=\"data:image/png;base64,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\" style=\"height: auto\">\n",
       "              <figcaption style=\"font-size: 0.6em\">6</figcaption>\n",
       "            </figure>\n",
       "        \n",
       "            <figure style=\"margin: 5px !important;\">\n",
       "              <img src=\"data:image/png;base64,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\" style=\"height: auto\">\n",
       "              <figcaption style=\"font-size: 0.6em\">9</figcaption>\n",
       "            </figure>\n",
       "        \n",
       "            <figure style=\"margin: 5px !important;\">\n",
       "              <img src=\"data:image/png;base64,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\" style=\"height: auto\">\n",
       "              <figcaption style=\"font-size: 0.6em\">5</figcaption>\n",
       "            </figure>\n",
       "        \n",
       "            <figure style=\"margin: 5px !important;\">\n",
       "              <img src=\"data:image/png;base64,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\" style=\"height: auto\">\n",
       "              <figcaption style=\"font-size: 0.6em\">0</figcaption>\n",
       "            </figure>\n",
       "        \n",
       "            <figure style=\"margin: 5px !important;\">\n",
       "              <img src=\"data:image/png;base64,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\" style=\"height: auto\">\n",
       "              <figcaption style=\"font-size: 0.6em\">0</figcaption>\n",
       "            </figure>\n",
       "        \n",
       "            <figure style=\"margin: 5px !important;\">\n",
       "              <img src=\"data:image/png;base64,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\" style=\"height: auto\">\n",
       "              <figcaption style=\"font-size: 0.6em\">0</figcaption>\n",
       "            </figure>\n",
       "        \n",
       "            <figure style=\"margin: 5px !important;\">\n",
       "              <img src=\"data:image/png;base64,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\" style=\"height: auto\">\n",
       "              <figcaption style=\"font-size: 0.6em\">3</figcaption>\n",
       "            </figure>\n",
       "        \n",
       "            <figure style=\"margin: 5px !important;\">\n",
       "              <img src=\"data:image/png;base64,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\" style=\"height: auto\">\n",
       "              <figcaption style=\"font-size: 0.6em\">8</figcaption>\n",
       "            </figure>\n",
       "        \n",
       "            <figure style=\"margin: 5px !important;\">\n",
       "              <img src=\"data:image/png;base64,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\" style=\"height: auto\">\n",
       "              <figcaption style=\"font-size: 0.6em\">7</figcaption>\n",
       "            </figure>\n",
       "        \n",
       "            <figure style=\"margin: 5px !important;\">\n",
       "              <img src=\"data:image/png;base64,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\" style=\"height: auto\">\n",
       "              <figcaption style=\"font-size: 0.6em\">4</figcaption>\n",
       "            </figure>\n",
       "        \n",
       "            <figure style=\"margin: 5px !important;\">\n",
       "              <img src=\"data:image/png;base64,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\" style=\"height: auto\">\n",
       "              <figcaption style=\"font-size: 0.6em\">3</figcaption>\n",
       "            </figure>\n",
       "        \n",
       "            <figure style=\"margin: 5px !important;\">\n",
       "              <img src=\"data:image/png;base64,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\" style=\"height: auto\">\n",
       "              <figcaption style=\"font-size: 0.6em\">3</figcaption>\n",
       "            </figure>\n",
       "        \n",
       "            <figure style=\"margin: 5px !important;\">\n",
       "              <img src=\"data:image/png;base64,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\" style=\"height: auto\">\n",
       "              <figcaption style=\"font-size: 0.6em\">2</figcaption>\n",
       "            </figure>\n",
       "        \n",
       "            <figure style=\"margin: 5px !important;\">\n",
       "              <img src=\"data:image/png;base64,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\" style=\"height: auto\">\n",
       "              <figcaption style=\"font-size: 0.6em\">7</figcaption>\n",
       "            </figure>\n",
       "        \n",
       "    </div>"
      ],
      "text/plain": [
       "<IPython.core.display.HTML object>"
      ]
     },
     "execution_count": 9,
     "metadata": {},
     "output_type": "execute_result"
    }
   ],
   "source": [
    "count = 8\n",
    "\n",
    "def get_some_random_images_and_labels(df, count):\n",
    "    image_ids = RNG.choice(df.index.unique(), count, replace=False)\n",
    "    image_datas = df.loc[image_ids]['png']\n",
    "    images = [Image.open(io.BytesIO(image_data)) for image_data in image_datas]\n",
    "    labels = df.loc[image_ids]['value']\n",
    "    return images, list(labels)\n",
    "\n",
    "train_images, train_labels = get_some_random_images_and_labels(df_train_images, count)\n",
    "test_images, test_labels = get_some_random_images_and_labels(df_test_images, count)\n",
    "\n",
    "display_images_grid(train_images + test_images, captions=train_labels + test_labels, col_count=count)"
   ]
  },
  {
   "cell_type": "code",
   "execution_count": 10,
   "id": "e5019d63-ce09-4130-ac07-b6ae15a84ab4",
   "metadata": {},
   "outputs": [],
   "source": [
    "# COS_SIM_THRESHOLD = 0.075\n",
    "COS_SIM_THRESHOLD = 0.055\n",
    "hdc = Hdc(10_000, np)"
   ]
  },
  {
   "cell_type": "code",
   "execution_count": 11,
   "id": "317bc435-b1be-4e25-8f4f-b9e3d35f522b",
   "metadata": {},
   "outputs": [],
   "source": [
    "class CorticalColumn(object):\n",
    "    def __init__(self):\n",
    "        self.clusters = defaultdict(list) # cluster = collection of image bundles for particular class\n",
    "        self.cluster_norms = HdvArray(hdc.N, xp)\n",
    "        self.cluster_to_image_ids = defaultdict(set)"
   ]
  },
  {
   "cell_type": "code",
   "execution_count": 15,
   "id": "1e8dc096-5076-4657-b22c-a489c2be1694",
   "metadata": {},
   "outputs": [],
   "source": [
    "COLUMN = CorticalColumn()\n",
    "TRAIN_RUN_ID = 0\n",
    "TEST_RUN_ID = 0\n",
    "\n",
    "df_test_results = pd.DataFrame(columns=['source_ds', 'test_run_id', 'test_image_id', 'true_value', 'cluster_id', 'infer_value', 'sim'])"
   ]
  },
  {
   "cell_type": "code",
   "execution_count": 44,
   "id": "bc72b601-6398-4d84-9ce3-97e1a9a92bfa",
   "metadata": {},
   "outputs": [
    {
     "data": {
      "application/vnd.jupyter.widget-view+json": {
       "model_id": "1f60445bc98e4c2897eb5dae7c1af557",
       "version_major": 2,
       "version_minor": 0
      },
      "text/plain": [
       "Epoch:   0%|          | 0/10 [00:00<?, ?it/s]"
      ]
     },
     "metadata": {},
     "output_type": "display_data"
    },
    {
     "data": {
      "application/vnd.jupyter.widget-view+json": {
       "model_id": "9f3ce03f9e79417bac20ef73be5987f9",
       "version_major": 2,
       "version_minor": 0
      },
      "text/plain": [
       "Attempt:   0%|          | 0/20 [00:00<?, ?it/s]"
      ]
     },
     "metadata": {},
     "output_type": "display_data"
    },
    {
     "data": {
      "application/vnd.jupyter.widget-view+json": {
       "model_id": "",
       "version_major": 2,
       "version_minor": 0
      },
      "text/plain": [
       "Image (train):   0%|          | 0/1000 [00:00<?, ?it/s]"
      ]
     },
     "metadata": {},
     "output_type": "display_data"
    },
    {
     "data": {
      "application/vnd.jupyter.widget-view+json": {
       "model_id": "",
       "version_major": 2,
       "version_minor": 0
      },
      "text/plain": [
       "Image (test):   0%|          | 0/1000 [00:00<?, ?it/s]"
      ]
     },
     "metadata": {},
     "output_type": "display_data"
    },
    {
     "data": {
      "application/vnd.jupyter.widget-view+json": {
       "model_id": "",
       "version_major": 2,
       "version_minor": 0
      },
      "text/plain": [
       "Image (train):   0%|          | 0/8 [00:00<?, ?it/s]"
      ]
     },
     "metadata": {},
     "output_type": "display_data"
    },
    {
     "data": {
      "application/vnd.jupyter.widget-view+json": {
       "model_id": "",
       "version_major": 2,
       "version_minor": 0
      },
      "text/plain": [
       "Image (test):   0%|          | 0/8 [00:00<?, ?it/s]"
      ]
     },
     "metadata": {},
     "output_type": "display_data"
    },
    {
     "data": {
      "application/vnd.jupyter.widget-view+json": {
       "model_id": "",
       "version_major": 2,
       "version_minor": 0
      },
      "text/plain": [
       "Image (train):   0%|          | 0/6 [00:00<?, ?it/s]"
      ]
     },
     "metadata": {},
     "output_type": "display_data"
    },
    {
     "data": {
      "application/vnd.jupyter.widget-view+json": {
       "model_id": "",
       "version_major": 2,
       "version_minor": 0
      },
      "text/plain": [
       "Image (test):   0%|          | 0/6 [00:00<?, ?it/s]"
      ]
     },
     "metadata": {},
     "output_type": "display_data"
    },
    {
     "data": {
      "application/vnd.jupyter.widget-view+json": {
       "model_id": "",
       "version_major": 2,
       "version_minor": 0
      },
      "text/plain": [
       "Image (train):   0%|          | 0/3 [00:00<?, ?it/s]"
      ]
     },
     "metadata": {},
     "output_type": "display_data"
    },
    {
     "data": {
      "application/vnd.jupyter.widget-view+json": {
       "model_id": "",
       "version_major": 2,
       "version_minor": 0
      },
      "text/plain": [
       "Image (test):   0%|          | 0/3 [00:00<?, ?it/s]"
      ]
     },
     "metadata": {},
     "output_type": "display_data"
    },
    {
     "data": {
      "application/vnd.jupyter.widget-view+json": {
       "model_id": "",
       "version_major": 2,
       "version_minor": 0
      },
      "text/plain": [
       "Image (train):   0%|          | 0/2 [00:00<?, ?it/s]"
      ]
     },
     "metadata": {},
     "output_type": "display_data"
    },
    {
     "data": {
      "application/vnd.jupyter.widget-view+json": {
       "model_id": "",
       "version_major": 2,
       "version_minor": 0
      },
      "text/plain": [
       "Image (test):   0%|          | 0/2 [00:00<?, ?it/s]"
      ]
     },
     "metadata": {},
     "output_type": "display_data"
    },
    {
     "data": {
      "application/vnd.jupyter.widget-view+json": {
       "model_id": "",
       "version_major": 2,
       "version_minor": 0
      },
      "text/plain": [
       "Image (train):   0%|          | 0/1 [00:00<?, ?it/s]"
      ]
     },
     "metadata": {},
     "output_type": "display_data"
    },
    {
     "data": {
      "application/vnd.jupyter.widget-view+json": {
       "model_id": "",
       "version_major": 2,
       "version_minor": 0
      },
      "text/plain": [
       "Image (test):   0%|          | 0/1 [00:00<?, ?it/s]"
      ]
     },
     "metadata": {},
     "output_type": "display_data"
    },
    {
     "data": {
      "application/vnd.jupyter.widget-view+json": {
       "model_id": "",
       "version_major": 2,
       "version_minor": 0
      },
      "text/plain": [
       "Attempt:   0%|          | 0/20 [00:00<?, ?it/s]"
      ]
     },
     "metadata": {},
     "output_type": "display_data"
    },
    {
     "data": {
      "application/vnd.jupyter.widget-view+json": {
       "model_id": "",
       "version_major": 2,
       "version_minor": 0
      },
      "text/plain": [
       "Image (train):   0%|          | 0/1000 [00:00<?, ?it/s]"
      ]
     },
     "metadata": {},
     "output_type": "display_data"
    },
    {
     "data": {
      "application/vnd.jupyter.widget-view+json": {
       "model_id": "",
       "version_major": 2,
       "version_minor": 0
      },
      "text/plain": [
       "Image (test):   0%|          | 0/1000 [00:00<?, ?it/s]"
      ]
     },
     "metadata": {},
     "output_type": "display_data"
    },
    {
     "data": {
      "application/vnd.jupyter.widget-view+json": {
       "model_id": "",
       "version_major": 2,
       "version_minor": 0
      },
      "text/plain": [
       "Image (train):   0%|          | 0/10 [00:00<?, ?it/s]"
      ]
     },
     "metadata": {},
     "output_type": "display_data"
    },
    {
     "data": {
      "application/vnd.jupyter.widget-view+json": {
       "model_id": "",
       "version_major": 2,
       "version_minor": 0
      },
      "text/plain": [
       "Image (test):   0%|          | 0/10 [00:00<?, ?it/s]"
      ]
     },
     "metadata": {},
     "output_type": "display_data"
    },
    {
     "data": {
      "application/vnd.jupyter.widget-view+json": {
       "model_id": "",
       "version_major": 2,
       "version_minor": 0
      },
      "text/plain": [
       "Image (train):   0%|          | 0/5 [00:00<?, ?it/s]"
      ]
     },
     "metadata": {},
     "output_type": "display_data"
    },
    {
     "data": {
      "application/vnd.jupyter.widget-view+json": {
       "model_id": "",
       "version_major": 2,
       "version_minor": 0
      },
      "text/plain": [
       "Image (test):   0%|          | 0/5 [00:00<?, ?it/s]"
      ]
     },
     "metadata": {},
     "output_type": "display_data"
    },
    {
     "data": {
      "application/vnd.jupyter.widget-view+json": {
       "model_id": "",
       "version_major": 2,
       "version_minor": 0
      },
      "text/plain": [
       "Image (train):   0%|          | 0/3 [00:00<?, ?it/s]"
      ]
     },
     "metadata": {},
     "output_type": "display_data"
    },
    {
     "data": {
      "application/vnd.jupyter.widget-view+json": {
       "model_id": "",
       "version_major": 2,
       "version_minor": 0
      },
      "text/plain": [
       "Image (test):   0%|          | 0/3 [00:00<?, ?it/s]"
      ]
     },
     "metadata": {},
     "output_type": "display_data"
    },
    {
     "data": {
      "application/vnd.jupyter.widget-view+json": {
       "model_id": "",
       "version_major": 2,
       "version_minor": 0
      },
      "text/plain": [
       "Image (train):   0%|          | 0/3 [00:00<?, ?it/s]"
      ]
     },
     "metadata": {},
     "output_type": "display_data"
    },
    {
     "data": {
      "application/vnd.jupyter.widget-view+json": {
       "model_id": "",
       "version_major": 2,
       "version_minor": 0
      },
      "text/plain": [
       "Image (test):   0%|          | 0/3 [00:00<?, ?it/s]"
      ]
     },
     "metadata": {},
     "output_type": "display_data"
    },
    {
     "data": {
      "application/vnd.jupyter.widget-view+json": {
       "model_id": "",
       "version_major": 2,
       "version_minor": 0
      },
      "text/plain": [
       "Image (train):   0%|          | 0/3 [00:00<?, ?it/s]"
      ]
     },
     "metadata": {},
     "output_type": "display_data"
    },
    {
     "data": {
      "application/vnd.jupyter.widget-view+json": {
       "model_id": "",
       "version_major": 2,
       "version_minor": 0
      },
      "text/plain": [
       "Image (test):   0%|          | 0/3 [00:00<?, ?it/s]"
      ]
     },
     "metadata": {},
     "output_type": "display_data"
    },
    {
     "data": {
      "application/vnd.jupyter.widget-view+json": {
       "model_id": "",
       "version_major": 2,
       "version_minor": 0
      },
      "text/plain": [
       "Image (train):   0%|          | 0/3 [00:00<?, ?it/s]"
      ]
     },
     "metadata": {},
     "output_type": "display_data"
    },
    {
     "data": {
      "application/vnd.jupyter.widget-view+json": {
       "model_id": "",
       "version_major": 2,
       "version_minor": 0
      },
      "text/plain": [
       "Image (test):   0%|          | 0/3 [00:00<?, ?it/s]"
      ]
     },
     "metadata": {},
     "output_type": "display_data"
    },
    {
     "data": {
      "application/vnd.jupyter.widget-view+json": {
       "model_id": "",
       "version_major": 2,
       "version_minor": 0
      },
      "text/plain": [
       "Image (train):   0%|          | 0/3 [00:00<?, ?it/s]"
      ]
     },
     "metadata": {},
     "output_type": "display_data"
    },
    {
     "data": {
      "application/vnd.jupyter.widget-view+json": {
       "model_id": "",
       "version_major": 2,
       "version_minor": 0
      },
      "text/plain": [
       "Image (test):   0%|          | 0/3 [00:00<?, ?it/s]"
      ]
     },
     "metadata": {},
     "output_type": "display_data"
    },
    {
     "data": {
      "application/vnd.jupyter.widget-view+json": {
       "model_id": "",
       "version_major": 2,
       "version_minor": 0
      },
      "text/plain": [
       "Image (train):   0%|          | 0/3 [00:00<?, ?it/s]"
      ]
     },
     "metadata": {},
     "output_type": "display_data"
    },
    {
     "data": {
      "application/vnd.jupyter.widget-view+json": {
       "model_id": "",
       "version_major": 2,
       "version_minor": 0
      },
      "text/plain": [
       "Image (test):   0%|          | 0/3 [00:00<?, ?it/s]"
      ]
     },
     "metadata": {},
     "output_type": "display_data"
    },
    {
     "data": {
      "application/vnd.jupyter.widget-view+json": {
       "model_id": "",
       "version_major": 2,
       "version_minor": 0
      },
      "text/plain": [
       "Image (train):   0%|          | 0/3 [00:00<?, ?it/s]"
      ]
     },
     "metadata": {},
     "output_type": "display_data"
    },
    {
     "data": {
      "application/vnd.jupyter.widget-view+json": {
       "model_id": "",
       "version_major": 2,
       "version_minor": 0
      },
      "text/plain": [
       "Image (test):   0%|          | 0/3 [00:00<?, ?it/s]"
      ]
     },
     "metadata": {},
     "output_type": "display_data"
    },
    {
     "data": {
      "application/vnd.jupyter.widget-view+json": {
       "model_id": "",
       "version_major": 2,
       "version_minor": 0
      },
      "text/plain": [
       "Image (train):   0%|          | 0/3 [00:00<?, ?it/s]"
      ]
     },
     "metadata": {},
     "output_type": "display_data"
    },
    {
     "data": {
      "application/vnd.jupyter.widget-view+json": {
       "model_id": "",
       "version_major": 2,
       "version_minor": 0
      },
      "text/plain": [
       "Image (test):   0%|          | 0/3 [00:00<?, ?it/s]"
      ]
     },
     "metadata": {},
     "output_type": "display_data"
    },
    {
     "data": {
      "application/vnd.jupyter.widget-view+json": {
       "model_id": "",
       "version_major": 2,
       "version_minor": 0
      },
      "text/plain": [
       "Image (train):   0%|          | 0/3 [00:00<?, ?it/s]"
      ]
     },
     "metadata": {},
     "output_type": "display_data"
    },
    {
     "data": {
      "application/vnd.jupyter.widget-view+json": {
       "model_id": "",
       "version_major": 2,
       "version_minor": 0
      },
      "text/plain": [
       "Image (test):   0%|          | 0/3 [00:00<?, ?it/s]"
      ]
     },
     "metadata": {},
     "output_type": "display_data"
    },
    {
     "data": {
      "application/vnd.jupyter.widget-view+json": {
       "model_id": "",
       "version_major": 2,
       "version_minor": 0
      },
      "text/plain": [
       "Image (train):   0%|          | 0/3 [00:00<?, ?it/s]"
      ]
     },
     "metadata": {},
     "output_type": "display_data"
    },
    {
     "data": {
      "application/vnd.jupyter.widget-view+json": {
       "model_id": "",
       "version_major": 2,
       "version_minor": 0
      },
      "text/plain": [
       "Image (test):   0%|          | 0/3 [00:00<?, ?it/s]"
      ]
     },
     "metadata": {},
     "output_type": "display_data"
    },
    {
     "data": {
      "application/vnd.jupyter.widget-view+json": {
       "model_id": "",
       "version_major": 2,
       "version_minor": 0
      },
      "text/plain": [
       "Image (train):   0%|          | 0/3 [00:00<?, ?it/s]"
      ]
     },
     "metadata": {},
     "output_type": "display_data"
    },
    {
     "data": {
      "application/vnd.jupyter.widget-view+json": {
       "model_id": "",
       "version_major": 2,
       "version_minor": 0
      },
      "text/plain": [
       "Image (test):   0%|          | 0/3 [00:00<?, ?it/s]"
      ]
     },
     "metadata": {},
     "output_type": "display_data"
    },
    {
     "data": {
      "application/vnd.jupyter.widget-view+json": {
       "model_id": "",
       "version_major": 2,
       "version_minor": 0
      },
      "text/plain": [
       "Image (train):   0%|          | 0/3 [00:00<?, ?it/s]"
      ]
     },
     "metadata": {},
     "output_type": "display_data"
    },
    {
     "data": {
      "application/vnd.jupyter.widget-view+json": {
       "model_id": "",
       "version_major": 2,
       "version_minor": 0
      },
      "text/plain": [
       "Image (test):   0%|          | 0/3 [00:00<?, ?it/s]"
      ]
     },
     "metadata": {},
     "output_type": "display_data"
    },
    {
     "data": {
      "application/vnd.jupyter.widget-view+json": {
       "model_id": "",
       "version_major": 2,
       "version_minor": 0
      },
      "text/plain": [
       "Image (train):   0%|          | 0/3 [00:00<?, ?it/s]"
      ]
     },
     "metadata": {},
     "output_type": "display_data"
    },
    {
     "data": {
      "application/vnd.jupyter.widget-view+json": {
       "model_id": "",
       "version_major": 2,
       "version_minor": 0
      },
      "text/plain": [
       "Image (test):   0%|          | 0/3 [00:00<?, ?it/s]"
      ]
     },
     "metadata": {},
     "output_type": "display_data"
    },
    {
     "data": {
      "application/vnd.jupyter.widget-view+json": {
       "model_id": "",
       "version_major": 2,
       "version_minor": 0
      },
      "text/plain": [
       "Image (train):   0%|          | 0/3 [00:00<?, ?it/s]"
      ]
     },
     "metadata": {},
     "output_type": "display_data"
    },
    {
     "data": {
      "application/vnd.jupyter.widget-view+json": {
       "model_id": "",
       "version_major": 2,
       "version_minor": 0
      },
      "text/plain": [
       "Image (test):   0%|          | 0/3 [00:00<?, ?it/s]"
      ]
     },
     "metadata": {},
     "output_type": "display_data"
    },
    {
     "data": {
      "application/vnd.jupyter.widget-view+json": {
       "model_id": "",
       "version_major": 2,
       "version_minor": 0
      },
      "text/plain": [
       "Image (train):   0%|          | 0/3 [00:00<?, ?it/s]"
      ]
     },
     "metadata": {},
     "output_type": "display_data"
    },
    {
     "data": {
      "application/vnd.jupyter.widget-view+json": {
       "model_id": "0b863374eb104783b2ae2e5db1c96c2d",
       "version_major": 2,
       "version_minor": 0
      },
      "text/plain": [
       "Image (test):   0%|          | 0/3 [00:00<?, ?it/s]"
      ]
     },
     "metadata": {},
     "output_type": "display_data"
    },
    {
     "data": {
      "application/vnd.jupyter.widget-view+json": {
       "model_id": "79aff8e100024136b5cf75605b5f6dfb",
       "version_major": 2,
       "version_minor": 0
      },
      "text/plain": [
       "Image (train):   0%|          | 0/3 [00:00<?, ?it/s]"
      ]
     },
     "metadata": {},
     "output_type": "display_data"
    },
    {
     "data": {
      "application/vnd.jupyter.widget-view+json": {
       "model_id": "6fb9abbd3d9b4efd853163cd7014bd0f",
       "version_major": 2,
       "version_minor": 0
      },
      "text/plain": [
       "Image (test):   0%|          | 0/3 [00:00<?, ?it/s]"
      ]
     },
     "metadata": {},
     "output_type": "display_data"
    },
    {
     "data": {
      "application/vnd.jupyter.widget-view+json": {
       "model_id": "3c0a98d3bd41484293673bd36a308863",
       "version_major": 2,
       "version_minor": 0
      },
      "text/plain": [
       "Image (train):   0%|          | 0/3 [00:00<?, ?it/s]"
      ]
     },
     "metadata": {},
     "output_type": "display_data"
    },
    {
     "data": {
      "application/vnd.jupyter.widget-view+json": {
       "model_id": "11c6dbab438548b5a97dbff4aada80df",
       "version_major": 2,
       "version_minor": 0
      },
      "text/plain": [
       "Image (test):   0%|          | 0/3 [00:00<?, ?it/s]"
      ]
     },
     "metadata": {},
     "output_type": "display_data"
    },
    {
     "data": {
      "application/vnd.jupyter.widget-view+json": {
       "model_id": "48ca0d5798a84421be8a5b04524c478b",
       "version_major": 2,
       "version_minor": 0
      },
      "text/plain": [
       "Attempt:   0%|          | 0/20 [00:00<?, ?it/s]"
      ]
     },
     "metadata": {},
     "output_type": "display_data"
    },
    {
     "data": {
      "application/vnd.jupyter.widget-view+json": {
       "model_id": "457d628e69c94a76943b1df0007a354d",
       "version_major": 2,
       "version_minor": 0
      },
      "text/plain": [
       "Image (train):   0%|          | 0/1000 [00:00<?, ?it/s]"
      ]
     },
     "metadata": {},
     "output_type": "display_data"
    },
    {
     "data": {
      "application/vnd.jupyter.widget-view+json": {
       "model_id": "91c62e143a5d4fdabe2f6353b6f46729",
       "version_major": 2,
       "version_minor": 0
      },
      "text/plain": [
       "Image (test):   0%|          | 0/1000 [00:00<?, ?it/s]"
      ]
     },
     "metadata": {},
     "output_type": "display_data"
    },
    {
     "data": {
      "application/vnd.jupyter.widget-view+json": {
       "model_id": "385bf480361c42e2a1c8f22c851b7908",
       "version_major": 2,
       "version_minor": 0
      },
      "text/plain": [
       "Image (train):   0%|          | 0/9 [00:00<?, ?it/s]"
      ]
     },
     "metadata": {},
     "output_type": "display_data"
    },
    {
     "data": {
      "application/vnd.jupyter.widget-view+json": {
       "model_id": "34d65308d1894c38b2794855f3702224",
       "version_major": 2,
       "version_minor": 0
      },
      "text/plain": [
       "Image (test):   0%|          | 0/9 [00:00<?, ?it/s]"
      ]
     },
     "metadata": {},
     "output_type": "display_data"
    },
    {
     "data": {
      "application/vnd.jupyter.widget-view+json": {
       "model_id": "4893862fdf23401baf6e61df2b1ac522",
       "version_major": 2,
       "version_minor": 0
      },
      "text/plain": [
       "Image (train):   0%|          | 0/4 [00:00<?, ?it/s]"
      ]
     },
     "metadata": {},
     "output_type": "display_data"
    },
    {
     "data": {
      "application/vnd.jupyter.widget-view+json": {
       "model_id": "de744dfcc72d43c883d627bbd12819fe",
       "version_major": 2,
       "version_minor": 0
      },
      "text/plain": [
       "Image (test):   0%|          | 0/4 [00:00<?, ?it/s]"
      ]
     },
     "metadata": {},
     "output_type": "display_data"
    },
    {
     "data": {
      "application/vnd.jupyter.widget-view+json": {
       "model_id": "b722f57cf3b443d2a25fcb3e041087af",
       "version_major": 2,
       "version_minor": 0
      },
      "text/plain": [
       "Image (train):   0%|          | 0/4 [00:00<?, ?it/s]"
      ]
     },
     "metadata": {},
     "output_type": "display_data"
    },
    {
     "data": {
      "application/vnd.jupyter.widget-view+json": {
       "model_id": "f7de597c64334a23b507c1680dde8795",
       "version_major": 2,
       "version_minor": 0
      },
      "text/plain": [
       "Image (test):   0%|          | 0/4 [00:00<?, ?it/s]"
      ]
     },
     "metadata": {},
     "output_type": "display_data"
    },
    {
     "data": {
      "application/vnd.jupyter.widget-view+json": {
       "model_id": "fec51800cd8b4829a9f0dd80067f3c94",
       "version_major": 2,
       "version_minor": 0
      },
      "text/plain": [
       "Image (train):   0%|          | 0/4 [00:00<?, ?it/s]"
      ]
     },
     "metadata": {},
     "output_type": "display_data"
    },
    {
     "data": {
      "application/vnd.jupyter.widget-view+json": {
       "model_id": "40b7e86e4c944c57b37e29a77c3ecfbb",
       "version_major": 2,
       "version_minor": 0
      },
      "text/plain": [
       "Image (test):   0%|          | 0/4 [00:00<?, ?it/s]"
      ]
     },
     "metadata": {},
     "output_type": "display_data"
    },
    {
     "data": {
      "application/vnd.jupyter.widget-view+json": {
       "model_id": "0929e647db9f46aab44621337242900a",
       "version_major": 2,
       "version_minor": 0
      },
      "text/plain": [
       "Image (train):   0%|          | 0/4 [00:00<?, ?it/s]"
      ]
     },
     "metadata": {},
     "output_type": "display_data"
    },
    {
     "data": {
      "application/vnd.jupyter.widget-view+json": {
       "model_id": "123b7b1e8f9345f59cdc2b33934f8e7d",
       "version_major": 2,
       "version_minor": 0
      },
      "text/plain": [
       "Image (test):   0%|          | 0/4 [00:00<?, ?it/s]"
      ]
     },
     "metadata": {},
     "output_type": "display_data"
    },
    {
     "data": {
      "application/vnd.jupyter.widget-view+json": {
       "model_id": "5fca6eca1f984f2c9e7477708177fc56",
       "version_major": 2,
       "version_minor": 0
      },
      "text/plain": [
       "Image (train):   0%|          | 0/4 [00:00<?, ?it/s]"
      ]
     },
     "metadata": {},
     "output_type": "display_data"
    },
    {
     "data": {
      "application/vnd.jupyter.widget-view+json": {
       "model_id": "e635e0c4310246e99ff2827d319bf047",
       "version_major": 2,
       "version_minor": 0
      },
      "text/plain": [
       "Image (test):   0%|          | 0/4 [00:00<?, ?it/s]"
      ]
     },
     "metadata": {},
     "output_type": "display_data"
    },
    {
     "data": {
      "application/vnd.jupyter.widget-view+json": {
       "model_id": "b106cb7d45f74210a3da7a3ca3448d7b",
       "version_major": 2,
       "version_minor": 0
      },
      "text/plain": [
       "Image (train):   0%|          | 0/4 [00:00<?, ?it/s]"
      ]
     },
     "metadata": {},
     "output_type": "display_data"
    },
    {
     "data": {
      "application/vnd.jupyter.widget-view+json": {
       "model_id": "43c35e9eebd24933a49652c268ec18ec",
       "version_major": 2,
       "version_minor": 0
      },
      "text/plain": [
       "Image (test):   0%|          | 0/4 [00:00<?, ?it/s]"
      ]
     },
     "metadata": {},
     "output_type": "display_data"
    },
    {
     "data": {
      "application/vnd.jupyter.widget-view+json": {
       "model_id": "ab0a2025318e49baa04cfd151c70eb40",
       "version_major": 2,
       "version_minor": 0
      },
      "text/plain": [
       "Image (train):   0%|          | 0/4 [00:00<?, ?it/s]"
      ]
     },
     "metadata": {},
     "output_type": "display_data"
    },
    {
     "data": {
      "application/vnd.jupyter.widget-view+json": {
       "model_id": "a7225055444a4d0daf420cfc2ff5d8c2",
       "version_major": 2,
       "version_minor": 0
      },
      "text/plain": [
       "Image (test):   0%|          | 0/4 [00:00<?, ?it/s]"
      ]
     },
     "metadata": {},
     "output_type": "display_data"
    },
    {
     "data": {
      "application/vnd.jupyter.widget-view+json": {
       "model_id": "e1bc9d1bc70342028c530bb5081cc07f",
       "version_major": 2,
       "version_minor": 0
      },
      "text/plain": [
       "Image (train):   0%|          | 0/4 [00:00<?, ?it/s]"
      ]
     },
     "metadata": {},
     "output_type": "display_data"
    },
    {
     "data": {
      "application/vnd.jupyter.widget-view+json": {
       "model_id": "afa9b8d0fa6d489799bdfb1f01327863",
       "version_major": 2,
       "version_minor": 0
      },
      "text/plain": [
       "Image (test):   0%|          | 0/4 [00:00<?, ?it/s]"
      ]
     },
     "metadata": {},
     "output_type": "display_data"
    },
    {
     "data": {
      "application/vnd.jupyter.widget-view+json": {
       "model_id": "0b6418fe2ad24a41802caf8f883388ab",
       "version_major": 2,
       "version_minor": 0
      },
      "text/plain": [
       "Image (train):   0%|          | 0/4 [00:00<?, ?it/s]"
      ]
     },
     "metadata": {},
     "output_type": "display_data"
    },
    {
     "data": {
      "application/vnd.jupyter.widget-view+json": {
       "model_id": "abc54edd3b28452e91f0c7cb8fb4e341",
       "version_major": 2,
       "version_minor": 0
      },
      "text/plain": [
       "Image (test):   0%|          | 0/4 [00:00<?, ?it/s]"
      ]
     },
     "metadata": {},
     "output_type": "display_data"
    },
    {
     "data": {
      "application/vnd.jupyter.widget-view+json": {
       "model_id": "1fd80d33624f443c95ffa52470fe64e4",
       "version_major": 2,
       "version_minor": 0
      },
      "text/plain": [
       "Image (train):   0%|          | 0/4 [00:00<?, ?it/s]"
      ]
     },
     "metadata": {},
     "output_type": "display_data"
    },
    {
     "data": {
      "application/vnd.jupyter.widget-view+json": {
       "model_id": "da22c6e7c733483bb82c5d75b9eae0cd",
       "version_major": 2,
       "version_minor": 0
      },
      "text/plain": [
       "Image (test):   0%|          | 0/4 [00:00<?, ?it/s]"
      ]
     },
     "metadata": {},
     "output_type": "display_data"
    },
    {
     "data": {
      "application/vnd.jupyter.widget-view+json": {
       "model_id": "45206ad2e3904cfbac6c716d723267f6",
       "version_major": 2,
       "version_minor": 0
      },
      "text/plain": [
       "Image (train):   0%|          | 0/4 [00:00<?, ?it/s]"
      ]
     },
     "metadata": {},
     "output_type": "display_data"
    },
    {
     "data": {
      "application/vnd.jupyter.widget-view+json": {
       "model_id": "55687ae0ef90440c9dc0b3090b199086",
       "version_major": 2,
       "version_minor": 0
      },
      "text/plain": [
       "Image (test):   0%|          | 0/4 [00:00<?, ?it/s]"
      ]
     },
     "metadata": {},
     "output_type": "display_data"
    },
    {
     "data": {
      "application/vnd.jupyter.widget-view+json": {
       "model_id": "2def2ee8631442f0896320e659986228",
       "version_major": 2,
       "version_minor": 0
      },
      "text/plain": [
       "Image (train):   0%|          | 0/4 [00:00<?, ?it/s]"
      ]
     },
     "metadata": {},
     "output_type": "display_data"
    },
    {
     "data": {
      "application/vnd.jupyter.widget-view+json": {
       "model_id": "a8fa19e979f9400abffa04842d574b14",
       "version_major": 2,
       "version_minor": 0
      },
      "text/plain": [
       "Image (test):   0%|          | 0/4 [00:00<?, ?it/s]"
      ]
     },
     "metadata": {},
     "output_type": "display_data"
    },
    {
     "data": {
      "application/vnd.jupyter.widget-view+json": {
       "model_id": "ebc042294afd49938d2762805295a843",
       "version_major": 2,
       "version_minor": 0
      },
      "text/plain": [
       "Image (train):   0%|          | 0/4 [00:00<?, ?it/s]"
      ]
     },
     "metadata": {},
     "output_type": "display_data"
    },
    {
     "data": {
      "application/vnd.jupyter.widget-view+json": {
       "model_id": "e44d086ba5f44e8eb40a17b0eb090e47",
       "version_major": 2,
       "version_minor": 0
      },
      "text/plain": [
       "Image (test):   0%|          | 0/4 [00:00<?, ?it/s]"
      ]
     },
     "metadata": {},
     "output_type": "display_data"
    },
    {
     "data": {
      "application/vnd.jupyter.widget-view+json": {
       "model_id": "16be1dcc27ce4f68bf8117872cc85efa",
       "version_major": 2,
       "version_minor": 0
      },
      "text/plain": [
       "Image (train):   0%|          | 0/4 [00:00<?, ?it/s]"
      ]
     },
     "metadata": {},
     "output_type": "display_data"
    },
    {
     "data": {
      "application/vnd.jupyter.widget-view+json": {
       "model_id": "e39a1ff750024c768269a320f36fff2b",
       "version_major": 2,
       "version_minor": 0
      },
      "text/plain": [
       "Image (test):   0%|          | 0/4 [00:00<?, ?it/s]"
      ]
     },
     "metadata": {},
     "output_type": "display_data"
    },
    {
     "data": {
      "application/vnd.jupyter.widget-view+json": {
       "model_id": "8d520198b5b444cabd6774ef6236cfbf",
       "version_major": 2,
       "version_minor": 0
      },
      "text/plain": [
       "Image (train):   0%|          | 0/4 [00:00<?, ?it/s]"
      ]
     },
     "metadata": {},
     "output_type": "display_data"
    },
    {
     "data": {
      "application/vnd.jupyter.widget-view+json": {
       "model_id": "f2d6109b28e5490b971ce34ee742fc0e",
       "version_major": 2,
       "version_minor": 0
      },
      "text/plain": [
       "Image (test):   0%|          | 0/4 [00:00<?, ?it/s]"
      ]
     },
     "metadata": {},
     "output_type": "display_data"
    },
    {
     "data": {
      "application/vnd.jupyter.widget-view+json": {
       "model_id": "73a27e4e469d45f7862c06edaeeeb590",
       "version_major": 2,
       "version_minor": 0
      },
      "text/plain": [
       "Image (train):   0%|          | 0/4 [00:00<?, ?it/s]"
      ]
     },
     "metadata": {},
     "output_type": "display_data"
    },
    {
     "data": {
      "application/vnd.jupyter.widget-view+json": {
       "model_id": "7859eaf876d346d69be95b3caf44a822",
       "version_major": 2,
       "version_minor": 0
      },
      "text/plain": [
       "Image (test):   0%|          | 0/4 [00:00<?, ?it/s]"
      ]
     },
     "metadata": {},
     "output_type": "display_data"
    },
    {
     "data": {
      "application/vnd.jupyter.widget-view+json": {
       "model_id": "2ec8871c2e5c4e70a1dc7040b9e4109c",
       "version_major": 2,
       "version_minor": 0
      },
      "text/plain": [
       "Image (train):   0%|          | 0/3 [00:00<?, ?it/s]"
      ]
     },
     "metadata": {},
     "output_type": "display_data"
    },
    {
     "data": {
      "application/vnd.jupyter.widget-view+json": {
       "model_id": "f0d7d9b731034737a13c390e508900d1",
       "version_major": 2,
       "version_minor": 0
      },
      "text/plain": [
       "Image (test):   0%|          | 0/3 [00:00<?, ?it/s]"
      ]
     },
     "metadata": {},
     "output_type": "display_data"
    },
    {
     "data": {
      "application/vnd.jupyter.widget-view+json": {
       "model_id": "da7e0bd03a8a4b1295e6962a32a5a91b",
       "version_major": 2,
       "version_minor": 0
      },
      "text/plain": [
       "Image (train):   0%|          | 0/3 [00:00<?, ?it/s]"
      ]
     },
     "metadata": {},
     "output_type": "display_data"
    },
    {
     "data": {
      "application/vnd.jupyter.widget-view+json": {
       "model_id": "c38abb8c3a8a4ad3af21615308fd5170",
       "version_major": 2,
       "version_minor": 0
      },
      "text/plain": [
       "Image (test):   0%|          | 0/3 [00:00<?, ?it/s]"
      ]
     },
     "metadata": {},
     "output_type": "display_data"
    },
    {
     "data": {
      "application/vnd.jupyter.widget-view+json": {
       "model_id": "5bd909ac7abe423cb0654e47be2c95ff",
       "version_major": 2,
       "version_minor": 0
      },
      "text/plain": [
       "Attempt:   0%|          | 0/20 [00:00<?, ?it/s]"
      ]
     },
     "metadata": {},
     "output_type": "display_data"
    },
    {
     "data": {
      "application/vnd.jupyter.widget-view+json": {
       "model_id": "cd79f65399a946298d303d23362e4343",
       "version_major": 2,
       "version_minor": 0
      },
      "text/plain": [
       "Image (train):   0%|          | 0/1000 [00:00<?, ?it/s]"
      ]
     },
     "metadata": {},
     "output_type": "display_data"
    },
    {
     "data": {
      "application/vnd.jupyter.widget-view+json": {
       "model_id": "a890416075cb4c019e3c8244908b31bf",
       "version_major": 2,
       "version_minor": 0
      },
      "text/plain": [
       "Image (test):   0%|          | 0/1000 [00:00<?, ?it/s]"
      ]
     },
     "metadata": {},
     "output_type": "display_data"
    },
    {
     "data": {
      "application/vnd.jupyter.widget-view+json": {
       "model_id": "ffff7a70f4ba40eaa3994b192da694d1",
       "version_major": 2,
       "version_minor": 0
      },
      "text/plain": [
       "Image (train):   0%|          | 0/7 [00:00<?, ?it/s]"
      ]
     },
     "metadata": {},
     "output_type": "display_data"
    },
    {
     "data": {
      "application/vnd.jupyter.widget-view+json": {
       "model_id": "5945e904b9de408ba50b8751bec46c6e",
       "version_major": 2,
       "version_minor": 0
      },
      "text/plain": [
       "Image (test):   0%|          | 0/7 [00:00<?, ?it/s]"
      ]
     },
     "metadata": {},
     "output_type": "display_data"
    },
    {
     "data": {
      "application/vnd.jupyter.widget-view+json": {
       "model_id": "948e9c3e26944743867bc90c7798339f",
       "version_major": 2,
       "version_minor": 0
      },
      "text/plain": [
       "Image (train):   0%|          | 0/5 [00:00<?, ?it/s]"
      ]
     },
     "metadata": {},
     "output_type": "display_data"
    },
    {
     "data": {
      "application/vnd.jupyter.widget-view+json": {
       "model_id": "b1730bec334540d1bc5aff67dbae765d",
       "version_major": 2,
       "version_minor": 0
      },
      "text/plain": [
       "Image (test):   0%|          | 0/5 [00:00<?, ?it/s]"
      ]
     },
     "metadata": {},
     "output_type": "display_data"
    },
    {
     "data": {
      "application/vnd.jupyter.widget-view+json": {
       "model_id": "36981e38a67a41d9986aac43a20ecfcb",
       "version_major": 2,
       "version_minor": 0
      },
      "text/plain": [
       "Image (train):   0%|          | 0/3 [00:00<?, ?it/s]"
      ]
     },
     "metadata": {},
     "output_type": "display_data"
    },
    {
     "data": {
      "application/vnd.jupyter.widget-view+json": {
       "model_id": "a1e2ae1e32034c08994a721cef2544bf",
       "version_major": 2,
       "version_minor": 0
      },
      "text/plain": [
       "Image (test):   0%|          | 0/3 [00:00<?, ?it/s]"
      ]
     },
     "metadata": {},
     "output_type": "display_data"
    },
    {
     "data": {
      "application/vnd.jupyter.widget-view+json": {
       "model_id": "430efd5e846748d088557a2c99f57128",
       "version_major": 2,
       "version_minor": 0
      },
      "text/plain": [
       "Image (train):   0%|          | 0/2 [00:00<?, ?it/s]"
      ]
     },
     "metadata": {},
     "output_type": "display_data"
    },
    {
     "data": {
      "application/vnd.jupyter.widget-view+json": {
       "model_id": "0d9f636dfdf74f9ea4d839900de73109",
       "version_major": 2,
       "version_minor": 0
      },
      "text/plain": [
       "Image (test):   0%|          | 0/2 [00:00<?, ?it/s]"
      ]
     },
     "metadata": {},
     "output_type": "display_data"
    },
    {
     "data": {
      "application/vnd.jupyter.widget-view+json": {
       "model_id": "5c5601a5d2f046798e1317562ef74732",
       "version_major": 2,
       "version_minor": 0
      },
      "text/plain": [
       "Image (train):   0%|          | 0/2 [00:00<?, ?it/s]"
      ]
     },
     "metadata": {},
     "output_type": "display_data"
    },
    {
     "data": {
      "application/vnd.jupyter.widget-view+json": {
       "model_id": "e038b1194b6f492f957126af50bb03d5",
       "version_major": 2,
       "version_minor": 0
      },
      "text/plain": [
       "Image (test):   0%|          | 0/2 [00:00<?, ?it/s]"
      ]
     },
     "metadata": {},
     "output_type": "display_data"
    },
    {
     "data": {
      "application/vnd.jupyter.widget-view+json": {
       "model_id": "33cb6526c3284f0cb6e1359c58fc8c03",
       "version_major": 2,
       "version_minor": 0
      },
      "text/plain": [
       "Image (train):   0%|          | 0/2 [00:00<?, ?it/s]"
      ]
     },
     "metadata": {},
     "output_type": "display_data"
    },
    {
     "data": {
      "application/vnd.jupyter.widget-view+json": {
       "model_id": "5ad07954e0954896ab7def52a2e630df",
       "version_major": 2,
       "version_minor": 0
      },
      "text/plain": [
       "Image (test):   0%|          | 0/2 [00:00<?, ?it/s]"
      ]
     },
     "metadata": {},
     "output_type": "display_data"
    },
    {
     "data": {
      "application/vnd.jupyter.widget-view+json": {
       "model_id": "d708f13a75f4477f9e50311e0f965e8f",
       "version_major": 2,
       "version_minor": 0
      },
      "text/plain": [
       "Image (train):   0%|          | 0/2 [00:00<?, ?it/s]"
      ]
     },
     "metadata": {},
     "output_type": "display_data"
    },
    {
     "data": {
      "application/vnd.jupyter.widget-view+json": {
       "model_id": "6490616bab1b46b195fcc2c5b951c84d",
       "version_major": 2,
       "version_minor": 0
      },
      "text/plain": [
       "Image (test):   0%|          | 0/2 [00:00<?, ?it/s]"
      ]
     },
     "metadata": {},
     "output_type": "display_data"
    },
    {
     "data": {
      "application/vnd.jupyter.widget-view+json": {
       "model_id": "cffcee9b5b0c45568cd803e550feb56a",
       "version_major": 2,
       "version_minor": 0
      },
      "text/plain": [
       "Image (train):   0%|          | 0/2 [00:00<?, ?it/s]"
      ]
     },
     "metadata": {},
     "output_type": "display_data"
    },
    {
     "data": {
      "application/vnd.jupyter.widget-view+json": {
       "model_id": "f8523df4036f4e20a2a555ce3183ed1a",
       "version_major": 2,
       "version_minor": 0
      },
      "text/plain": [
       "Image (test):   0%|          | 0/2 [00:00<?, ?it/s]"
      ]
     },
     "metadata": {},
     "output_type": "display_data"
    },
    {
     "data": {
      "application/vnd.jupyter.widget-view+json": {
       "model_id": "7c473669d76840ee83fb1afdd8cc02e6",
       "version_major": 2,
       "version_minor": 0
      },
      "text/plain": [
       "Image (train):   0%|          | 0/2 [00:00<?, ?it/s]"
      ]
     },
     "metadata": {},
     "output_type": "display_data"
    },
    {
     "data": {
      "application/vnd.jupyter.widget-view+json": {
       "model_id": "c68596b499314ba38971a4460086913d",
       "version_major": 2,
       "version_minor": 0
      },
      "text/plain": [
       "Image (test):   0%|          | 0/2 [00:00<?, ?it/s]"
      ]
     },
     "metadata": {},
     "output_type": "display_data"
    },
    {
     "data": {
      "application/vnd.jupyter.widget-view+json": {
       "model_id": "a6dcc357e2c14480bc5391bda2cece3b",
       "version_major": 2,
       "version_minor": 0
      },
      "text/plain": [
       "Image (train):   0%|          | 0/2 [00:00<?, ?it/s]"
      ]
     },
     "metadata": {},
     "output_type": "display_data"
    },
    {
     "data": {
      "application/vnd.jupyter.widget-view+json": {
       "model_id": "5bcf26babb144c96bdcfb03c5dccf418",
       "version_major": 2,
       "version_minor": 0
      },
      "text/plain": [
       "Image (test):   0%|          | 0/2 [00:00<?, ?it/s]"
      ]
     },
     "metadata": {},
     "output_type": "display_data"
    },
    {
     "data": {
      "application/vnd.jupyter.widget-view+json": {
       "model_id": "39ae122340e54a3392c00e0eab6e81c0",
       "version_major": 2,
       "version_minor": 0
      },
      "text/plain": [
       "Image (train):   0%|          | 0/2 [00:00<?, ?it/s]"
      ]
     },
     "metadata": {},
     "output_type": "display_data"
    },
    {
     "data": {
      "application/vnd.jupyter.widget-view+json": {
       "model_id": "7a0ce82a44c544c4b8c4b50327cc0371",
       "version_major": 2,
       "version_minor": 0
      },
      "text/plain": [
       "Image (test):   0%|          | 0/2 [00:00<?, ?it/s]"
      ]
     },
     "metadata": {},
     "output_type": "display_data"
    },
    {
     "data": {
      "application/vnd.jupyter.widget-view+json": {
       "model_id": "7e36f351412c45d7ab6f5fa4d8e25c1a",
       "version_major": 2,
       "version_minor": 0
      },
      "text/plain": [
       "Image (train):   0%|          | 0/2 [00:00<?, ?it/s]"
      ]
     },
     "metadata": {},
     "output_type": "display_data"
    },
    {
     "data": {
      "application/vnd.jupyter.widget-view+json": {
       "model_id": "48bc478854d4475b990133fc87a71741",
       "version_major": 2,
       "version_minor": 0
      },
      "text/plain": [
       "Image (test):   0%|          | 0/2 [00:00<?, ?it/s]"
      ]
     },
     "metadata": {},
     "output_type": "display_data"
    },
    {
     "data": {
      "application/vnd.jupyter.widget-view+json": {
       "model_id": "e331da4a342d4db2bb0127890a19b280",
       "version_major": 2,
       "version_minor": 0
      },
      "text/plain": [
       "Image (train):   0%|          | 0/2 [00:00<?, ?it/s]"
      ]
     },
     "metadata": {},
     "output_type": "display_data"
    },
    {
     "data": {
      "application/vnd.jupyter.widget-view+json": {
       "model_id": "6c1d7abae40d4a788b2fa394357cff11",
       "version_major": 2,
       "version_minor": 0
      },
      "text/plain": [
       "Image (test):   0%|          | 0/2 [00:00<?, ?it/s]"
      ]
     },
     "metadata": {},
     "output_type": "display_data"
    },
    {
     "data": {
      "application/vnd.jupyter.widget-view+json": {
       "model_id": "2de1b0fcb5d247c6b8d1c61140982fd6",
       "version_major": 2,
       "version_minor": 0
      },
      "text/plain": [
       "Image (train):   0%|          | 0/2 [00:00<?, ?it/s]"
      ]
     },
     "metadata": {},
     "output_type": "display_data"
    },
    {
     "data": {
      "application/vnd.jupyter.widget-view+json": {
       "model_id": "a7d0185a001743eb9fefc1f3b75da729",
       "version_major": 2,
       "version_minor": 0
      },
      "text/plain": [
       "Image (test):   0%|          | 0/2 [00:00<?, ?it/s]"
      ]
     },
     "metadata": {},
     "output_type": "display_data"
    },
    {
     "data": {
      "application/vnd.jupyter.widget-view+json": {
       "model_id": "73ef90fa374c48dab2e91851c248a4e5",
       "version_major": 2,
       "version_minor": 0
      },
      "text/plain": [
       "Image (train):   0%|          | 0/2 [00:00<?, ?it/s]"
      ]
     },
     "metadata": {},
     "output_type": "display_data"
    },
    {
     "data": {
      "application/vnd.jupyter.widget-view+json": {
       "model_id": "014ee06dcaa84340a887bf4baf50f3dd",
       "version_major": 2,
       "version_minor": 0
      },
      "text/plain": [
       "Image (test):   0%|          | 0/2 [00:00<?, ?it/s]"
      ]
     },
     "metadata": {},
     "output_type": "display_data"
    },
    {
     "data": {
      "application/vnd.jupyter.widget-view+json": {
       "model_id": "db00a81d6aae42fe8f7956de533fbd24",
       "version_major": 2,
       "version_minor": 0
      },
      "text/plain": [
       "Image (train):   0%|          | 0/2 [00:00<?, ?it/s]"
      ]
     },
     "metadata": {},
     "output_type": "display_data"
    },
    {
     "data": {
      "application/vnd.jupyter.widget-view+json": {
       "model_id": "c2bbcc63092441f684dcc4c9fd5fcf13",
       "version_major": 2,
       "version_minor": 0
      },
      "text/plain": [
       "Image (test):   0%|          | 0/2 [00:00<?, ?it/s]"
      ]
     },
     "metadata": {},
     "output_type": "display_data"
    },
    {
     "data": {
      "application/vnd.jupyter.widget-view+json": {
       "model_id": "2d26f0e5562a4bbc970f192c1e354c77",
       "version_major": 2,
       "version_minor": 0
      },
      "text/plain": [
       "Image (train):   0%|          | 0/2 [00:00<?, ?it/s]"
      ]
     },
     "metadata": {},
     "output_type": "display_data"
    },
    {
     "data": {
      "application/vnd.jupyter.widget-view+json": {
       "model_id": "0b0a626ede85404090725064734cdbfb",
       "version_major": 2,
       "version_minor": 0
      },
      "text/plain": [
       "Image (test):   0%|          | 0/2 [00:00<?, ?it/s]"
      ]
     },
     "metadata": {},
     "output_type": "display_data"
    },
    {
     "data": {
      "application/vnd.jupyter.widget-view+json": {
       "model_id": "2dd8bfb247f0476da611b7a85561c3cd",
       "version_major": 2,
       "version_minor": 0
      },
      "text/plain": [
       "Image (train):   0%|          | 0/2 [00:00<?, ?it/s]"
      ]
     },
     "metadata": {},
     "output_type": "display_data"
    },
    {
     "data": {
      "application/vnd.jupyter.widget-view+json": {
       "model_id": "46d0c417c66d49bc9e3ac158b66e98d5",
       "version_major": 2,
       "version_minor": 0
      },
      "text/plain": [
       "Image (test):   0%|          | 0/2 [00:00<?, ?it/s]"
      ]
     },
     "metadata": {},
     "output_type": "display_data"
    },
    {
     "data": {
      "application/vnd.jupyter.widget-view+json": {
       "model_id": "a3316fbbc3734d378d7ab0794a0ad642",
       "version_major": 2,
       "version_minor": 0
      },
      "text/plain": [
       "Image (train):   0%|          | 0/1 [00:00<?, ?it/s]"
      ]
     },
     "metadata": {},
     "output_type": "display_data"
    },
    {
     "data": {
      "application/vnd.jupyter.widget-view+json": {
       "model_id": "ca38494cb547439eb45165700e6100b8",
       "version_major": 2,
       "version_minor": 0
      },
      "text/plain": [
       "Image (test):   0%|          | 0/1 [00:00<?, ?it/s]"
      ]
     },
     "metadata": {},
     "output_type": "display_data"
    },
    {
     "data": {
      "application/vnd.jupyter.widget-view+json": {
       "model_id": "f31832e3ac864af691139997add95083",
       "version_major": 2,
       "version_minor": 0
      },
      "text/plain": [
       "Attempt:   0%|          | 0/20 [00:00<?, ?it/s]"
      ]
     },
     "metadata": {},
     "output_type": "display_data"
    },
    {
     "data": {
      "application/vnd.jupyter.widget-view+json": {
       "model_id": "57a6027399264ba3bb878d2e50fdc5b3",
       "version_major": 2,
       "version_minor": 0
      },
      "text/plain": [
       "Image (train):   0%|          | 0/1000 [00:00<?, ?it/s]"
      ]
     },
     "metadata": {},
     "output_type": "display_data"
    },
    {
     "data": {
      "application/vnd.jupyter.widget-view+json": {
       "model_id": "8fb5c510635e47c0bbd7d8e863df9884",
       "version_major": 2,
       "version_minor": 0
      },
      "text/plain": [
       "Image (test):   0%|          | 0/1000 [00:00<?, ?it/s]"
      ]
     },
     "metadata": {},
     "output_type": "display_data"
    },
    {
     "data": {
      "application/vnd.jupyter.widget-view+json": {
       "model_id": "7175955107d547098ee6e177c9954e80",
       "version_major": 2,
       "version_minor": 0
      },
      "text/plain": [
       "Image (train):   0%|          | 0/14 [00:00<?, ?it/s]"
      ]
     },
     "metadata": {},
     "output_type": "display_data"
    },
    {
     "data": {
      "application/vnd.jupyter.widget-view+json": {
       "model_id": "e54efd295e334074b0ad308ffe08d2a6",
       "version_major": 2,
       "version_minor": 0
      },
      "text/plain": [
       "Image (test):   0%|          | 0/14 [00:00<?, ?it/s]"
      ]
     },
     "metadata": {},
     "output_type": "display_data"
    },
    {
     "data": {
      "application/vnd.jupyter.widget-view+json": {
       "model_id": "a5a3d30359dd43a1b7d6e57f67f0e81d",
       "version_major": 2,
       "version_minor": 0
      },
      "text/plain": [
       "Image (train):   0%|          | 0/6 [00:00<?, ?it/s]"
      ]
     },
     "metadata": {},
     "output_type": "display_data"
    },
    {
     "data": {
      "application/vnd.jupyter.widget-view+json": {
       "model_id": "6cf518ca75ea403d9a3f55b0204893f8",
       "version_major": 2,
       "version_minor": 0
      },
      "text/plain": [
       "Image (test):   0%|          | 0/6 [00:00<?, ?it/s]"
      ]
     },
     "metadata": {},
     "output_type": "display_data"
    },
    {
     "data": {
      "application/vnd.jupyter.widget-view+json": {
       "model_id": "a5ff22bfe6984811bfdf33954c772826",
       "version_major": 2,
       "version_minor": 0
      },
      "text/plain": [
       "Image (train):   0%|          | 0/4 [00:00<?, ?it/s]"
      ]
     },
     "metadata": {},
     "output_type": "display_data"
    },
    {
     "data": {
      "application/vnd.jupyter.widget-view+json": {
       "model_id": "f90f4f40e3a94fd7a574475f2f12ae83",
       "version_major": 2,
       "version_minor": 0
      },
      "text/plain": [
       "Image (test):   0%|          | 0/4 [00:00<?, ?it/s]"
      ]
     },
     "metadata": {},
     "output_type": "display_data"
    },
    {
     "data": {
      "application/vnd.jupyter.widget-view+json": {
       "model_id": "43535bc54b9b40baa494163d5ca46791",
       "version_major": 2,
       "version_minor": 0
      },
      "text/plain": [
       "Image (train):   0%|          | 0/3 [00:00<?, ?it/s]"
      ]
     },
     "metadata": {},
     "output_type": "display_data"
    },
    {
     "data": {
      "application/vnd.jupyter.widget-view+json": {
       "model_id": "04bdd4f3d3194caea30b6aca0545576d",
       "version_major": 2,
       "version_minor": 0
      },
      "text/plain": [
       "Image (test):   0%|          | 0/3 [00:00<?, ?it/s]"
      ]
     },
     "metadata": {},
     "output_type": "display_data"
    },
    {
     "data": {
      "application/vnd.jupyter.widget-view+json": {
       "model_id": "7ba764658e014082853d3ad2934c0474",
       "version_major": 2,
       "version_minor": 0
      },
      "text/plain": [
       "Image (train):   0%|          | 0/3 [00:00<?, ?it/s]"
      ]
     },
     "metadata": {},
     "output_type": "display_data"
    },
    {
     "data": {
      "application/vnd.jupyter.widget-view+json": {
       "model_id": "166574a2e7ba4976b348ac32324ca004",
       "version_major": 2,
       "version_minor": 0
      },
      "text/plain": [
       "Image (test):   0%|          | 0/3 [00:00<?, ?it/s]"
      ]
     },
     "metadata": {},
     "output_type": "display_data"
    },
    {
     "data": {
      "application/vnd.jupyter.widget-view+json": {
       "model_id": "506fea28a6db4a7f8c61f17a8dd9ce1f",
       "version_major": 2,
       "version_minor": 0
      },
      "text/plain": [
       "Image (train):   0%|          | 0/3 [00:00<?, ?it/s]"
      ]
     },
     "metadata": {},
     "output_type": "display_data"
    },
    {
     "data": {
      "application/vnd.jupyter.widget-view+json": {
       "model_id": "e759dafafdf2471a958781c144d4718f",
       "version_major": 2,
       "version_minor": 0
      },
      "text/plain": [
       "Image (test):   0%|          | 0/3 [00:00<?, ?it/s]"
      ]
     },
     "metadata": {},
     "output_type": "display_data"
    },
    {
     "data": {
      "application/vnd.jupyter.widget-view+json": {
       "model_id": "531fb8cbf42043a88d15d9dc181776f4",
       "version_major": 2,
       "version_minor": 0
      },
      "text/plain": [
       "Image (train):   0%|          | 0/3 [00:00<?, ?it/s]"
      ]
     },
     "metadata": {},
     "output_type": "display_data"
    },
    {
     "data": {
      "application/vnd.jupyter.widget-view+json": {
       "model_id": "e73e779ed3ad405d950c2d92a49c409f",
       "version_major": 2,
       "version_minor": 0
      },
      "text/plain": [
       "Image (test):   0%|          | 0/3 [00:00<?, ?it/s]"
      ]
     },
     "metadata": {},
     "output_type": "display_data"
    },
    {
     "data": {
      "application/vnd.jupyter.widget-view+json": {
       "model_id": "5e89fb617c6d43579236903f7520b202",
       "version_major": 2,
       "version_minor": 0
      },
      "text/plain": [
       "Image (train):   0%|          | 0/3 [00:00<?, ?it/s]"
      ]
     },
     "metadata": {},
     "output_type": "display_data"
    },
    {
     "data": {
      "application/vnd.jupyter.widget-view+json": {
       "model_id": "d93cbb2c3e944d7388cea805f38beb5b",
       "version_major": 2,
       "version_minor": 0
      },
      "text/plain": [
       "Image (test):   0%|          | 0/3 [00:00<?, ?it/s]"
      ]
     },
     "metadata": {},
     "output_type": "display_data"
    },
    {
     "data": {
      "application/vnd.jupyter.widget-view+json": {
       "model_id": "bbedf5c001384ffc8bd912b599ba1b8c",
       "version_major": 2,
       "version_minor": 0
      },
      "text/plain": [
       "Image (train):   0%|          | 0/3 [00:00<?, ?it/s]"
      ]
     },
     "metadata": {},
     "output_type": "display_data"
    },
    {
     "data": {
      "application/vnd.jupyter.widget-view+json": {
       "model_id": "d50614dfaae64dd38ffa064cb98a2457",
       "version_major": 2,
       "version_minor": 0
      },
      "text/plain": [
       "Image (test):   0%|          | 0/3 [00:00<?, ?it/s]"
      ]
     },
     "metadata": {},
     "output_type": "display_data"
    },
    {
     "data": {
      "application/vnd.jupyter.widget-view+json": {
       "model_id": "7fb41c9f79114af596094dcc325541dd",
       "version_major": 2,
       "version_minor": 0
      },
      "text/plain": [
       "Image (train):   0%|          | 0/2 [00:00<?, ?it/s]"
      ]
     },
     "metadata": {},
     "output_type": "display_data"
    },
    {
     "data": {
      "application/vnd.jupyter.widget-view+json": {
       "model_id": "7ea3021c4af146049a2068eec16bd7e9",
       "version_major": 2,
       "version_minor": 0
      },
      "text/plain": [
       "Image (test):   0%|          | 0/2 [00:00<?, ?it/s]"
      ]
     },
     "metadata": {},
     "output_type": "display_data"
    },
    {
     "data": {
      "application/vnd.jupyter.widget-view+json": {
       "model_id": "5a5f96682aaf4e609657f07c32a69543",
       "version_major": 2,
       "version_minor": 0
      },
      "text/plain": [
       "Image (train):   0%|          | 0/2 [00:00<?, ?it/s]"
      ]
     },
     "metadata": {},
     "output_type": "display_data"
    },
    {
     "data": {
      "application/vnd.jupyter.widget-view+json": {
       "model_id": "bd95e296be544b53ae940cf11559d5c7",
       "version_major": 2,
       "version_minor": 0
      },
      "text/plain": [
       "Image (test):   0%|          | 0/2 [00:00<?, ?it/s]"
      ]
     },
     "metadata": {},
     "output_type": "display_data"
    },
    {
     "data": {
      "application/vnd.jupyter.widget-view+json": {
       "model_id": "092f3eb1975d4ad49027d75cedec9381",
       "version_major": 2,
       "version_minor": 0
      },
      "text/plain": [
       "Image (train):   0%|          | 0/2 [00:00<?, ?it/s]"
      ]
     },
     "metadata": {},
     "output_type": "display_data"
    },
    {
     "data": {
      "application/vnd.jupyter.widget-view+json": {
       "model_id": "02a42a66aa34494e872a56235b4d48e7",
       "version_major": 2,
       "version_minor": 0
      },
      "text/plain": [
       "Image (test):   0%|          | 0/2 [00:00<?, ?it/s]"
      ]
     },
     "metadata": {},
     "output_type": "display_data"
    },
    {
     "data": {
      "application/vnd.jupyter.widget-view+json": {
       "model_id": "0fdd747f6dfc46f68842c2f57a66ad92",
       "version_major": 2,
       "version_minor": 0
      },
      "text/plain": [
       "Image (train):   0%|          | 0/2 [00:00<?, ?it/s]"
      ]
     },
     "metadata": {},
     "output_type": "display_data"
    },
    {
     "data": {
      "application/vnd.jupyter.widget-view+json": {
       "model_id": "38b77d7a1ec6472e9c22d768528a5157",
       "version_major": 2,
       "version_minor": 0
      },
      "text/plain": [
       "Image (test):   0%|          | 0/2 [00:00<?, ?it/s]"
      ]
     },
     "metadata": {},
     "output_type": "display_data"
    },
    {
     "data": {
      "application/vnd.jupyter.widget-view+json": {
       "model_id": "9714a43ae6094376a63096b22f69f744",
       "version_major": 2,
       "version_minor": 0
      },
      "text/plain": [
       "Image (train):   0%|          | 0/2 [00:00<?, ?it/s]"
      ]
     },
     "metadata": {},
     "output_type": "display_data"
    },
    {
     "data": {
      "application/vnd.jupyter.widget-view+json": {
       "model_id": "635e60d48f7b414380b6c3a474bd967b",
       "version_major": 2,
       "version_minor": 0
      },
      "text/plain": [
       "Image (test):   0%|          | 0/2 [00:00<?, ?it/s]"
      ]
     },
     "metadata": {},
     "output_type": "display_data"
    },
    {
     "data": {
      "application/vnd.jupyter.widget-view+json": {
       "model_id": "23633233df794220b1d603be0bb65221",
       "version_major": 2,
       "version_minor": 0
      },
      "text/plain": [
       "Image (train):   0%|          | 0/2 [00:00<?, ?it/s]"
      ]
     },
     "metadata": {},
     "output_type": "display_data"
    },
    {
     "data": {
      "application/vnd.jupyter.widget-view+json": {
       "model_id": "f6cc005b60bb45cfa5fccb601450ecf8",
       "version_major": 2,
       "version_minor": 0
      },
      "text/plain": [
       "Image (test):   0%|          | 0/2 [00:00<?, ?it/s]"
      ]
     },
     "metadata": {},
     "output_type": "display_data"
    },
    {
     "data": {
      "application/vnd.jupyter.widget-view+json": {
       "model_id": "9f1db7c2e28e4c82810563727751792f",
       "version_major": 2,
       "version_minor": 0
      },
      "text/plain": [
       "Image (train):   0%|          | 0/2 [00:00<?, ?it/s]"
      ]
     },
     "metadata": {},
     "output_type": "display_data"
    },
    {
     "data": {
      "application/vnd.jupyter.widget-view+json": {
       "model_id": "8b04fbab4dea4ae19380119fdaf1b923",
       "version_major": 2,
       "version_minor": 0
      },
      "text/plain": [
       "Image (test):   0%|          | 0/2 [00:00<?, ?it/s]"
      ]
     },
     "metadata": {},
     "output_type": "display_data"
    },
    {
     "data": {
      "application/vnd.jupyter.widget-view+json": {
       "model_id": "d930c71a97c7410688282c065bfc1a1e",
       "version_major": 2,
       "version_minor": 0
      },
      "text/plain": [
       "Image (train):   0%|          | 0/1 [00:00<?, ?it/s]"
      ]
     },
     "metadata": {},
     "output_type": "display_data"
    },
    {
     "data": {
      "application/vnd.jupyter.widget-view+json": {
       "model_id": "257c2cf7e53642dd9c8c7f715295f365",
       "version_major": 2,
       "version_minor": 0
      },
      "text/plain": [
       "Image (test):   0%|          | 0/1 [00:00<?, ?it/s]"
      ]
     },
     "metadata": {},
     "output_type": "display_data"
    },
    {
     "data": {
      "application/vnd.jupyter.widget-view+json": {
       "model_id": "4f90932aef774e1da692994515c83738",
       "version_major": 2,
       "version_minor": 0
      },
      "text/plain": [
       "Image (train):   0%|          | 0/1 [00:00<?, ?it/s]"
      ]
     },
     "metadata": {},
     "output_type": "display_data"
    },
    {
     "data": {
      "application/vnd.jupyter.widget-view+json": {
       "model_id": "192213d462224c209440f3b3ff063f43",
       "version_major": 2,
       "version_minor": 0
      },
      "text/plain": [
       "Image (test):   0%|          | 0/1 [00:00<?, ?it/s]"
      ]
     },
     "metadata": {},
     "output_type": "display_data"
    },
    {
     "data": {
      "application/vnd.jupyter.widget-view+json": {
       "model_id": "821cadafeba54319bab08b47b87e106b",
       "version_major": 2,
       "version_minor": 0
      },
      "text/plain": [
       "Image (train):   0%|          | 0/1 [00:00<?, ?it/s]"
      ]
     },
     "metadata": {},
     "output_type": "display_data"
    },
    {
     "data": {
      "application/vnd.jupyter.widget-view+json": {
       "model_id": "c7c62f8c6bdf42608d15b073f3205de8",
       "version_major": 2,
       "version_minor": 0
      },
      "text/plain": [
       "Image (test):   0%|          | 0/1 [00:00<?, ?it/s]"
      ]
     },
     "metadata": {},
     "output_type": "display_data"
    },
    {
     "data": {
      "application/vnd.jupyter.widget-view+json": {
       "model_id": "",
       "version_major": 2,
       "version_minor": 0
      },
      "text/plain": [
       "Attempt:   0%|          | 0/20 [00:00<?, ?it/s]"
      ]
     },
     "metadata": {},
     "output_type": "display_data"
    },
    {
     "data": {
      "application/vnd.jupyter.widget-view+json": {
       "model_id": "",
       "version_major": 2,
       "version_minor": 0
      },
      "text/plain": [
       "Image (train):   0%|          | 0/1000 [00:00<?, ?it/s]"
      ]
     },
     "metadata": {},
     "output_type": "display_data"
    },
    {
     "data": {
      "application/vnd.jupyter.widget-view+json": {
       "model_id": "",
       "version_major": 2,
       "version_minor": 0
      },
      "text/plain": [
       "Image (test):   0%|          | 0/1000 [00:00<?, ?it/s]"
      ]
     },
     "metadata": {},
     "output_type": "display_data"
    },
    {
     "data": {
      "application/vnd.jupyter.widget-view+json": {
       "model_id": "",
       "version_major": 2,
       "version_minor": 0
      },
      "text/plain": [
       "Image (train):   0%|          | 0/12 [00:00<?, ?it/s]"
      ]
     },
     "metadata": {},
     "output_type": "display_data"
    },
    {
     "data": {
      "application/vnd.jupyter.widget-view+json": {
       "model_id": "",
       "version_major": 2,
       "version_minor": 0
      },
      "text/plain": [
       "Image (test):   0%|          | 0/12 [00:00<?, ?it/s]"
      ]
     },
     "metadata": {},
     "output_type": "display_data"
    },
    {
     "data": {
      "application/vnd.jupyter.widget-view+json": {
       "model_id": "",
       "version_major": 2,
       "version_minor": 0
      },
      "text/plain": [
       "Image (train):   0%|          | 0/7 [00:00<?, ?it/s]"
      ]
     },
     "metadata": {},
     "output_type": "display_data"
    },
    {
     "data": {
      "application/vnd.jupyter.widget-view+json": {
       "model_id": "",
       "version_major": 2,
       "version_minor": 0
      },
      "text/plain": [
       "Image (test):   0%|          | 0/7 [00:00<?, ?it/s]"
      ]
     },
     "metadata": {},
     "output_type": "display_data"
    },
    {
     "data": {
      "application/vnd.jupyter.widget-view+json": {
       "model_id": "",
       "version_major": 2,
       "version_minor": 0
      },
      "text/plain": [
       "Image (train):   0%|          | 0/7 [00:00<?, ?it/s]"
      ]
     },
     "metadata": {},
     "output_type": "display_data"
    },
    {
     "data": {
      "application/vnd.jupyter.widget-view+json": {
       "model_id": "",
       "version_major": 2,
       "version_minor": 0
      },
      "text/plain": [
       "Image (test):   0%|          | 0/7 [00:00<?, ?it/s]"
      ]
     },
     "metadata": {},
     "output_type": "display_data"
    },
    {
     "data": {
      "application/vnd.jupyter.widget-view+json": {
       "model_id": "",
       "version_major": 2,
       "version_minor": 0
      },
      "text/plain": [
       "Image (train):   0%|          | 0/4 [00:00<?, ?it/s]"
      ]
     },
     "metadata": {},
     "output_type": "display_data"
    },
    {
     "data": {
      "application/vnd.jupyter.widget-view+json": {
       "model_id": "",
       "version_major": 2,
       "version_minor": 0
      },
      "text/plain": [
       "Image (test):   0%|          | 0/4 [00:00<?, ?it/s]"
      ]
     },
     "metadata": {},
     "output_type": "display_data"
    },
    {
     "data": {
      "application/vnd.jupyter.widget-view+json": {
       "model_id": "",
       "version_major": 2,
       "version_minor": 0
      },
      "text/plain": [
       "Image (train):   0%|          | 0/4 [00:00<?, ?it/s]"
      ]
     },
     "metadata": {},
     "output_type": "display_data"
    },
    {
     "data": {
      "application/vnd.jupyter.widget-view+json": {
       "model_id": "",
       "version_major": 2,
       "version_minor": 0
      },
      "text/plain": [
       "Image (test):   0%|          | 0/4 [00:00<?, ?it/s]"
      ]
     },
     "metadata": {},
     "output_type": "display_data"
    },
    {
     "data": {
      "application/vnd.jupyter.widget-view+json": {
       "model_id": "",
       "version_major": 2,
       "version_minor": 0
      },
      "text/plain": [
       "Image (train):   0%|          | 0/3 [00:00<?, ?it/s]"
      ]
     },
     "metadata": {},
     "output_type": "display_data"
    },
    {
     "data": {
      "application/vnd.jupyter.widget-view+json": {
       "model_id": "",
       "version_major": 2,
       "version_minor": 0
      },
      "text/plain": [
       "Image (test):   0%|          | 0/3 [00:00<?, ?it/s]"
      ]
     },
     "metadata": {},
     "output_type": "display_data"
    },
    {
     "data": {
      "application/vnd.jupyter.widget-view+json": {
       "model_id": "",
       "version_major": 2,
       "version_minor": 0
      },
      "text/plain": [
       "Image (train):   0%|          | 0/3 [00:00<?, ?it/s]"
      ]
     },
     "metadata": {},
     "output_type": "display_data"
    },
    {
     "data": {
      "application/vnd.jupyter.widget-view+json": {
       "model_id": "",
       "version_major": 2,
       "version_minor": 0
      },
      "text/plain": [
       "Image (test):   0%|          | 0/3 [00:00<?, ?it/s]"
      ]
     },
     "metadata": {},
     "output_type": "display_data"
    },
    {
     "data": {
      "application/vnd.jupyter.widget-view+json": {
       "model_id": "",
       "version_major": 2,
       "version_minor": 0
      },
      "text/plain": [
       "Image (train):   0%|          | 0/3 [00:00<?, ?it/s]"
      ]
     },
     "metadata": {},
     "output_type": "display_data"
    },
    {
     "data": {
      "application/vnd.jupyter.widget-view+json": {
       "model_id": "",
       "version_major": 2,
       "version_minor": 0
      },
      "text/plain": [
       "Image (test):   0%|          | 0/3 [00:00<?, ?it/s]"
      ]
     },
     "metadata": {},
     "output_type": "display_data"
    },
    {
     "data": {
      "application/vnd.jupyter.widget-view+json": {
       "model_id": "",
       "version_major": 2,
       "version_minor": 0
      },
      "text/plain": [
       "Image (train):   0%|          | 0/3 [00:00<?, ?it/s]"
      ]
     },
     "metadata": {},
     "output_type": "display_data"
    },
    {
     "data": {
      "application/vnd.jupyter.widget-view+json": {
       "model_id": "",
       "version_major": 2,
       "version_minor": 0
      },
      "text/plain": [
       "Image (test):   0%|          | 0/3 [00:00<?, ?it/s]"
      ]
     },
     "metadata": {},
     "output_type": "display_data"
    },
    {
     "data": {
      "application/vnd.jupyter.widget-view+json": {
       "model_id": "",
       "version_major": 2,
       "version_minor": 0
      },
      "text/plain": [
       "Image (train):   0%|          | 0/3 [00:00<?, ?it/s]"
      ]
     },
     "metadata": {},
     "output_type": "display_data"
    },
    {
     "data": {
      "application/vnd.jupyter.widget-view+json": {
       "model_id": "",
       "version_major": 2,
       "version_minor": 0
      },
      "text/plain": [
       "Image (test):   0%|          | 0/3 [00:00<?, ?it/s]"
      ]
     },
     "metadata": {},
     "output_type": "display_data"
    },
    {
     "data": {
      "application/vnd.jupyter.widget-view+json": {
       "model_id": "",
       "version_major": 2,
       "version_minor": 0
      },
      "text/plain": [
       "Image (train):   0%|          | 0/2 [00:00<?, ?it/s]"
      ]
     },
     "metadata": {},
     "output_type": "display_data"
    },
    {
     "data": {
      "application/vnd.jupyter.widget-view+json": {
       "model_id": "",
       "version_major": 2,
       "version_minor": 0
      },
      "text/plain": [
       "Image (test):   0%|          | 0/2 [00:00<?, ?it/s]"
      ]
     },
     "metadata": {},
     "output_type": "display_data"
    },
    {
     "data": {
      "application/vnd.jupyter.widget-view+json": {
       "model_id": "",
       "version_major": 2,
       "version_minor": 0
      },
      "text/plain": [
       "Image (train):   0%|          | 0/2 [00:00<?, ?it/s]"
      ]
     },
     "metadata": {},
     "output_type": "display_data"
    },
    {
     "data": {
      "application/vnd.jupyter.widget-view+json": {
       "model_id": "",
       "version_major": 2,
       "version_minor": 0
      },
      "text/plain": [
       "Image (test):   0%|          | 0/2 [00:00<?, ?it/s]"
      ]
     },
     "metadata": {},
     "output_type": "display_data"
    },
    {
     "data": {
      "application/vnd.jupyter.widget-view+json": {
       "model_id": "",
       "version_major": 2,
       "version_minor": 0
      },
      "text/plain": [
       "Image (train):   0%|          | 0/2 [00:00<?, ?it/s]"
      ]
     },
     "metadata": {},
     "output_type": "display_data"
    },
    {
     "data": {
      "application/vnd.jupyter.widget-view+json": {
       "model_id": "",
       "version_major": 2,
       "version_minor": 0
      },
      "text/plain": [
       "Image (test):   0%|          | 0/2 [00:00<?, ?it/s]"
      ]
     },
     "metadata": {},
     "output_type": "display_data"
    },
    {
     "data": {
      "application/vnd.jupyter.widget-view+json": {
       "model_id": "",
       "version_major": 2,
       "version_minor": 0
      },
      "text/plain": [
       "Image (train):   0%|          | 0/2 [00:00<?, ?it/s]"
      ]
     },
     "metadata": {},
     "output_type": "display_data"
    },
    {
     "data": {
      "application/vnd.jupyter.widget-view+json": {
       "model_id": "",
       "version_major": 2,
       "version_minor": 0
      },
      "text/plain": [
       "Image (test):   0%|          | 0/2 [00:00<?, ?it/s]"
      ]
     },
     "metadata": {},
     "output_type": "display_data"
    },
    {
     "data": {
      "application/vnd.jupyter.widget-view+json": {
       "model_id": "",
       "version_major": 2,
       "version_minor": 0
      },
      "text/plain": [
       "Image (train):   0%|          | 0/2 [00:00<?, ?it/s]"
      ]
     },
     "metadata": {},
     "output_type": "display_data"
    },
    {
     "data": {
      "application/vnd.jupyter.widget-view+json": {
       "model_id": "",
       "version_major": 2,
       "version_minor": 0
      },
      "text/plain": [
       "Image (test):   0%|          | 0/2 [00:00<?, ?it/s]"
      ]
     },
     "metadata": {},
     "output_type": "display_data"
    },
    {
     "data": {
      "application/vnd.jupyter.widget-view+json": {
       "model_id": "",
       "version_major": 2,
       "version_minor": 0
      },
      "text/plain": [
       "Image (train):   0%|          | 0/2 [00:00<?, ?it/s]"
      ]
     },
     "metadata": {},
     "output_type": "display_data"
    },
    {
     "data": {
      "application/vnd.jupyter.widget-view+json": {
       "model_id": "",
       "version_major": 2,
       "version_minor": 0
      },
      "text/plain": [
       "Image (test):   0%|          | 0/2 [00:00<?, ?it/s]"
      ]
     },
     "metadata": {},
     "output_type": "display_data"
    },
    {
     "data": {
      "application/vnd.jupyter.widget-view+json": {
       "model_id": "",
       "version_major": 2,
       "version_minor": 0
      },
      "text/plain": [
       "Image (train):   0%|          | 0/2 [00:00<?, ?it/s]"
      ]
     },
     "metadata": {},
     "output_type": "display_data"
    },
    {
     "data": {
      "application/vnd.jupyter.widget-view+json": {
       "model_id": "",
       "version_major": 2,
       "version_minor": 0
      },
      "text/plain": [
       "Image (test):   0%|          | 0/2 [00:00<?, ?it/s]"
      ]
     },
     "metadata": {},
     "output_type": "display_data"
    },
    {
     "data": {
      "application/vnd.jupyter.widget-view+json": {
       "model_id": "",
       "version_major": 2,
       "version_minor": 0
      },
      "text/plain": [
       "Image (train):   0%|          | 0/2 [00:00<?, ?it/s]"
      ]
     },
     "metadata": {},
     "output_type": "display_data"
    },
    {
     "data": {
      "application/vnd.jupyter.widget-view+json": {
       "model_id": "",
       "version_major": 2,
       "version_minor": 0
      },
      "text/plain": [
       "Image (test):   0%|          | 0/2 [00:00<?, ?it/s]"
      ]
     },
     "metadata": {},
     "output_type": "display_data"
    },
    {
     "data": {
      "application/vnd.jupyter.widget-view+json": {
       "model_id": "",
       "version_major": 2,
       "version_minor": 0
      },
      "text/plain": [
       "Image (train):   0%|          | 0/2 [00:00<?, ?it/s]"
      ]
     },
     "metadata": {},
     "output_type": "display_data"
    },
    {
     "data": {
      "application/vnd.jupyter.widget-view+json": {
       "model_id": "",
       "version_major": 2,
       "version_minor": 0
      },
      "text/plain": [
       "Image (test):   0%|          | 0/2 [00:00<?, ?it/s]"
      ]
     },
     "metadata": {},
     "output_type": "display_data"
    },
    {
     "data": {
      "application/vnd.jupyter.widget-view+json": {
       "model_id": "",
       "version_major": 2,
       "version_minor": 0
      },
      "text/plain": [
       "Attempt:   0%|          | 0/20 [00:00<?, ?it/s]"
      ]
     },
     "metadata": {},
     "output_type": "display_data"
    },
    {
     "data": {
      "application/vnd.jupyter.widget-view+json": {
       "model_id": "",
       "version_major": 2,
       "version_minor": 0
      },
      "text/plain": [
       "Image (train):   0%|          | 0/1000 [00:00<?, ?it/s]"
      ]
     },
     "metadata": {},
     "output_type": "display_data"
    },
    {
     "data": {
      "application/vnd.jupyter.widget-view+json": {
       "model_id": "",
       "version_major": 2,
       "version_minor": 0
      },
      "text/plain": [
       "Image (test):   0%|          | 0/1000 [00:00<?, ?it/s]"
      ]
     },
     "metadata": {},
     "output_type": "display_data"
    },
    {
     "data": {
      "application/vnd.jupyter.widget-view+json": {
       "model_id": "",
       "version_major": 2,
       "version_minor": 0
      },
      "text/plain": [
       "Image (train):   0%|          | 0/18 [00:00<?, ?it/s]"
      ]
     },
     "metadata": {},
     "output_type": "display_data"
    },
    {
     "data": {
      "application/vnd.jupyter.widget-view+json": {
       "model_id": "",
       "version_major": 2,
       "version_minor": 0
      },
      "text/plain": [
       "Image (test):   0%|          | 0/18 [00:00<?, ?it/s]"
      ]
     },
     "metadata": {},
     "output_type": "display_data"
    },
    {
     "data": {
      "application/vnd.jupyter.widget-view+json": {
       "model_id": "",
       "version_major": 2,
       "version_minor": 0
      },
      "text/plain": [
       "Image (train):   0%|          | 0/14 [00:00<?, ?it/s]"
      ]
     },
     "metadata": {},
     "output_type": "display_data"
    },
    {
     "data": {
      "application/vnd.jupyter.widget-view+json": {
       "model_id": "",
       "version_major": 2,
       "version_minor": 0
      },
      "text/plain": [
       "Image (test):   0%|          | 0/14 [00:00<?, ?it/s]"
      ]
     },
     "metadata": {},
     "output_type": "display_data"
    },
    {
     "data": {
      "application/vnd.jupyter.widget-view+json": {
       "model_id": "",
       "version_major": 2,
       "version_minor": 0
      },
      "text/plain": [
       "Image (train):   0%|          | 0/12 [00:00<?, ?it/s]"
      ]
     },
     "metadata": {},
     "output_type": "display_data"
    },
    {
     "data": {
      "application/vnd.jupyter.widget-view+json": {
       "model_id": "",
       "version_major": 2,
       "version_minor": 0
      },
      "text/plain": [
       "Image (test):   0%|          | 0/12 [00:00<?, ?it/s]"
      ]
     },
     "metadata": {},
     "output_type": "display_data"
    },
    {
     "data": {
      "application/vnd.jupyter.widget-view+json": {
       "model_id": "",
       "version_major": 2,
       "version_minor": 0
      },
      "text/plain": [
       "Image (train):   0%|          | 0/8 [00:00<?, ?it/s]"
      ]
     },
     "metadata": {},
     "output_type": "display_data"
    },
    {
     "data": {
      "application/vnd.jupyter.widget-view+json": {
       "model_id": "",
       "version_major": 2,
       "version_minor": 0
      },
      "text/plain": [
       "Image (test):   0%|          | 0/8 [00:00<?, ?it/s]"
      ]
     },
     "metadata": {},
     "output_type": "display_data"
    },
    {
     "data": {
      "application/vnd.jupyter.widget-view+json": {
       "model_id": "",
       "version_major": 2,
       "version_minor": 0
      },
      "text/plain": [
       "Image (train):   0%|          | 0/8 [00:00<?, ?it/s]"
      ]
     },
     "metadata": {},
     "output_type": "display_data"
    },
    {
     "data": {
      "application/vnd.jupyter.widget-view+json": {
       "model_id": "",
       "version_major": 2,
       "version_minor": 0
      },
      "text/plain": [
       "Image (test):   0%|          | 0/8 [00:00<?, ?it/s]"
      ]
     },
     "metadata": {},
     "output_type": "display_data"
    },
    {
     "data": {
      "application/vnd.jupyter.widget-view+json": {
       "model_id": "",
       "version_major": 2,
       "version_minor": 0
      },
      "text/plain": [
       "Image (train):   0%|          | 0/6 [00:00<?, ?it/s]"
      ]
     },
     "metadata": {},
     "output_type": "display_data"
    },
    {
     "data": {
      "application/vnd.jupyter.widget-view+json": {
       "model_id": "",
       "version_major": 2,
       "version_minor": 0
      },
      "text/plain": [
       "Image (test):   0%|          | 0/6 [00:00<?, ?it/s]"
      ]
     },
     "metadata": {},
     "output_type": "display_data"
    },
    {
     "data": {
      "application/vnd.jupyter.widget-view+json": {
       "model_id": "",
       "version_major": 2,
       "version_minor": 0
      },
      "text/plain": [
       "Image (train):   0%|          | 0/5 [00:00<?, ?it/s]"
      ]
     },
     "metadata": {},
     "output_type": "display_data"
    },
    {
     "data": {
      "application/vnd.jupyter.widget-view+json": {
       "model_id": "",
       "version_major": 2,
       "version_minor": 0
      },
      "text/plain": [
       "Image (test):   0%|          | 0/5 [00:00<?, ?it/s]"
      ]
     },
     "metadata": {},
     "output_type": "display_data"
    },
    {
     "data": {
      "application/vnd.jupyter.widget-view+json": {
       "model_id": "",
       "version_major": 2,
       "version_minor": 0
      },
      "text/plain": [
       "Image (train):   0%|          | 0/5 [00:00<?, ?it/s]"
      ]
     },
     "metadata": {},
     "output_type": "display_data"
    },
    {
     "data": {
      "application/vnd.jupyter.widget-view+json": {
       "model_id": "",
       "version_major": 2,
       "version_minor": 0
      },
      "text/plain": [
       "Image (test):   0%|          | 0/5 [00:00<?, ?it/s]"
      ]
     },
     "metadata": {},
     "output_type": "display_data"
    },
    {
     "data": {
      "application/vnd.jupyter.widget-view+json": {
       "model_id": "",
       "version_major": 2,
       "version_minor": 0
      },
      "text/plain": [
       "Image (train):   0%|          | 0/5 [00:00<?, ?it/s]"
      ]
     },
     "metadata": {},
     "output_type": "display_data"
    },
    {
     "data": {
      "application/vnd.jupyter.widget-view+json": {
       "model_id": "",
       "version_major": 2,
       "version_minor": 0
      },
      "text/plain": [
       "Image (test):   0%|          | 0/5 [00:00<?, ?it/s]"
      ]
     },
     "metadata": {},
     "output_type": "display_data"
    },
    {
     "data": {
      "application/vnd.jupyter.widget-view+json": {
       "model_id": "",
       "version_major": 2,
       "version_minor": 0
      },
      "text/plain": [
       "Image (train):   0%|          | 0/5 [00:00<?, ?it/s]"
      ]
     },
     "metadata": {},
     "output_type": "display_data"
    },
    {
     "data": {
      "application/vnd.jupyter.widget-view+json": {
       "model_id": "",
       "version_major": 2,
       "version_minor": 0
      },
      "text/plain": [
       "Image (test):   0%|          | 0/5 [00:00<?, ?it/s]"
      ]
     },
     "metadata": {},
     "output_type": "display_data"
    },
    {
     "data": {
      "application/vnd.jupyter.widget-view+json": {
       "model_id": "",
       "version_major": 2,
       "version_minor": 0
      },
      "text/plain": [
       "Image (train):   0%|          | 0/5 [00:00<?, ?it/s]"
      ]
     },
     "metadata": {},
     "output_type": "display_data"
    },
    {
     "data": {
      "application/vnd.jupyter.widget-view+json": {
       "model_id": "",
       "version_major": 2,
       "version_minor": 0
      },
      "text/plain": [
       "Image (test):   0%|          | 0/5 [00:00<?, ?it/s]"
      ]
     },
     "metadata": {},
     "output_type": "display_data"
    },
    {
     "data": {
      "application/vnd.jupyter.widget-view+json": {
       "model_id": "",
       "version_major": 2,
       "version_minor": 0
      },
      "text/plain": [
       "Image (train):   0%|          | 0/5 [00:00<?, ?it/s]"
      ]
     },
     "metadata": {},
     "output_type": "display_data"
    },
    {
     "data": {
      "application/vnd.jupyter.widget-view+json": {
       "model_id": "",
       "version_major": 2,
       "version_minor": 0
      },
      "text/plain": [
       "Image (test):   0%|          | 0/5 [00:00<?, ?it/s]"
      ]
     },
     "metadata": {},
     "output_type": "display_data"
    },
    {
     "data": {
      "application/vnd.jupyter.widget-view+json": {
       "model_id": "",
       "version_major": 2,
       "version_minor": 0
      },
      "text/plain": [
       "Image (train):   0%|          | 0/5 [00:00<?, ?it/s]"
      ]
     },
     "metadata": {},
     "output_type": "display_data"
    },
    {
     "data": {
      "application/vnd.jupyter.widget-view+json": {
       "model_id": "",
       "version_major": 2,
       "version_minor": 0
      },
      "text/plain": [
       "Image (test):   0%|          | 0/5 [00:00<?, ?it/s]"
      ]
     },
     "metadata": {},
     "output_type": "display_data"
    },
    {
     "data": {
      "application/vnd.jupyter.widget-view+json": {
       "model_id": "",
       "version_major": 2,
       "version_minor": 0
      },
      "text/plain": [
       "Image (train):   0%|          | 0/4 [00:00<?, ?it/s]"
      ]
     },
     "metadata": {},
     "output_type": "display_data"
    },
    {
     "data": {
      "application/vnd.jupyter.widget-view+json": {
       "model_id": "",
       "version_major": 2,
       "version_minor": 0
      },
      "text/plain": [
       "Image (test):   0%|          | 0/4 [00:00<?, ?it/s]"
      ]
     },
     "metadata": {},
     "output_type": "display_data"
    },
    {
     "data": {
      "application/vnd.jupyter.widget-view+json": {
       "model_id": "",
       "version_major": 2,
       "version_minor": 0
      },
      "text/plain": [
       "Image (train):   0%|          | 0/3 [00:00<?, ?it/s]"
      ]
     },
     "metadata": {},
     "output_type": "display_data"
    },
    {
     "data": {
      "application/vnd.jupyter.widget-view+json": {
       "model_id": "",
       "version_major": 2,
       "version_minor": 0
      },
      "text/plain": [
       "Image (test):   0%|          | 0/3 [00:00<?, ?it/s]"
      ]
     },
     "metadata": {},
     "output_type": "display_data"
    },
    {
     "data": {
      "application/vnd.jupyter.widget-view+json": {
       "model_id": "",
       "version_major": 2,
       "version_minor": 0
      },
      "text/plain": [
       "Image (train):   0%|          | 0/3 [00:00<?, ?it/s]"
      ]
     },
     "metadata": {},
     "output_type": "display_data"
    },
    {
     "data": {
      "application/vnd.jupyter.widget-view+json": {
       "model_id": "",
       "version_major": 2,
       "version_minor": 0
      },
      "text/plain": [
       "Image (test):   0%|          | 0/3 [00:00<?, ?it/s]"
      ]
     },
     "metadata": {},
     "output_type": "display_data"
    },
    {
     "data": {
      "application/vnd.jupyter.widget-view+json": {
       "model_id": "",
       "version_major": 2,
       "version_minor": 0
      },
      "text/plain": [
       "Image (train):   0%|          | 0/3 [00:00<?, ?it/s]"
      ]
     },
     "metadata": {},
     "output_type": "display_data"
    },
    {
     "data": {
      "application/vnd.jupyter.widget-view+json": {
       "model_id": "",
       "version_major": 2,
       "version_minor": 0
      },
      "text/plain": [
       "Image (test):   0%|          | 0/3 [00:00<?, ?it/s]"
      ]
     },
     "metadata": {},
     "output_type": "display_data"
    },
    {
     "data": {
      "application/vnd.jupyter.widget-view+json": {
       "model_id": "",
       "version_major": 2,
       "version_minor": 0
      },
      "text/plain": [
       "Image (train):   0%|          | 0/3 [00:00<?, ?it/s]"
      ]
     },
     "metadata": {},
     "output_type": "display_data"
    },
    {
     "data": {
      "application/vnd.jupyter.widget-view+json": {
       "model_id": "",
       "version_major": 2,
       "version_minor": 0
      },
      "text/plain": [
       "Image (test):   0%|          | 0/3 [00:00<?, ?it/s]"
      ]
     },
     "metadata": {},
     "output_type": "display_data"
    },
    {
     "data": {
      "application/vnd.jupyter.widget-view+json": {
       "model_id": "",
       "version_major": 2,
       "version_minor": 0
      },
      "text/plain": [
       "Image (train):   0%|          | 0/3 [00:00<?, ?it/s]"
      ]
     },
     "metadata": {},
     "output_type": "display_data"
    },
    {
     "data": {
      "application/vnd.jupyter.widget-view+json": {
       "model_id": "",
       "version_major": 2,
       "version_minor": 0
      },
      "text/plain": [
       "Image (test):   0%|          | 0/3 [00:00<?, ?it/s]"
      ]
     },
     "metadata": {},
     "output_type": "display_data"
    },
    {
     "data": {
      "application/vnd.jupyter.widget-view+json": {
       "model_id": "",
       "version_major": 2,
       "version_minor": 0
      },
      "text/plain": [
       "Attempt:   0%|          | 0/20 [00:00<?, ?it/s]"
      ]
     },
     "metadata": {},
     "output_type": "display_data"
    },
    {
     "data": {
      "application/vnd.jupyter.widget-view+json": {
       "model_id": "",
       "version_major": 2,
       "version_minor": 0
      },
      "text/plain": [
       "Image (train):   0%|          | 0/1000 [00:00<?, ?it/s]"
      ]
     },
     "metadata": {},
     "output_type": "display_data"
    },
    {
     "data": {
      "application/vnd.jupyter.widget-view+json": {
       "model_id": "",
       "version_major": 2,
       "version_minor": 0
      },
      "text/plain": [
       "Image (test):   0%|          | 0/1000 [00:00<?, ?it/s]"
      ]
     },
     "metadata": {},
     "output_type": "display_data"
    },
    {
     "data": {
      "application/vnd.jupyter.widget-view+json": {
       "model_id": "",
       "version_major": 2,
       "version_minor": 0
      },
      "text/plain": [
       "Image (train):   0%|          | 0/14 [00:00<?, ?it/s]"
      ]
     },
     "metadata": {},
     "output_type": "display_data"
    },
    {
     "data": {
      "application/vnd.jupyter.widget-view+json": {
       "model_id": "",
       "version_major": 2,
       "version_minor": 0
      },
      "text/plain": [
       "Image (test):   0%|          | 0/14 [00:00<?, ?it/s]"
      ]
     },
     "metadata": {},
     "output_type": "display_data"
    },
    {
     "data": {
      "application/vnd.jupyter.widget-view+json": {
       "model_id": "",
       "version_major": 2,
       "version_minor": 0
      },
      "text/plain": [
       "Image (train):   0%|          | 0/11 [00:00<?, ?it/s]"
      ]
     },
     "metadata": {},
     "output_type": "display_data"
    },
    {
     "data": {
      "application/vnd.jupyter.widget-view+json": {
       "model_id": "",
       "version_major": 2,
       "version_minor": 0
      },
      "text/plain": [
       "Image (test):   0%|          | 0/11 [00:00<?, ?it/s]"
      ]
     },
     "metadata": {},
     "output_type": "display_data"
    },
    {
     "data": {
      "application/vnd.jupyter.widget-view+json": {
       "model_id": "",
       "version_major": 2,
       "version_minor": 0
      },
      "text/plain": [
       "Image (train):   0%|          | 0/8 [00:00<?, ?it/s]"
      ]
     },
     "metadata": {},
     "output_type": "display_data"
    },
    {
     "data": {
      "application/vnd.jupyter.widget-view+json": {
       "model_id": "",
       "version_major": 2,
       "version_minor": 0
      },
      "text/plain": [
       "Image (test):   0%|          | 0/8 [00:00<?, ?it/s]"
      ]
     },
     "metadata": {},
     "output_type": "display_data"
    },
    {
     "data": {
      "application/vnd.jupyter.widget-view+json": {
       "model_id": "",
       "version_major": 2,
       "version_minor": 0
      },
      "text/plain": [
       "Image (train):   0%|          | 0/7 [00:00<?, ?it/s]"
      ]
     },
     "metadata": {},
     "output_type": "display_data"
    },
    {
     "data": {
      "application/vnd.jupyter.widget-view+json": {
       "model_id": "",
       "version_major": 2,
       "version_minor": 0
      },
      "text/plain": [
       "Image (test):   0%|          | 0/7 [00:00<?, ?it/s]"
      ]
     },
     "metadata": {},
     "output_type": "display_data"
    },
    {
     "data": {
      "application/vnd.jupyter.widget-view+json": {
       "model_id": "",
       "version_major": 2,
       "version_minor": 0
      },
      "text/plain": [
       "Image (train):   0%|          | 0/4 [00:00<?, ?it/s]"
      ]
     },
     "metadata": {},
     "output_type": "display_data"
    },
    {
     "data": {
      "application/vnd.jupyter.widget-view+json": {
       "model_id": "",
       "version_major": 2,
       "version_minor": 0
      },
      "text/plain": [
       "Image (test):   0%|          | 0/4 [00:00<?, ?it/s]"
      ]
     },
     "metadata": {},
     "output_type": "display_data"
    },
    {
     "data": {
      "application/vnd.jupyter.widget-view+json": {
       "model_id": "",
       "version_major": 2,
       "version_minor": 0
      },
      "text/plain": [
       "Image (train):   0%|          | 0/3 [00:00<?, ?it/s]"
      ]
     },
     "metadata": {},
     "output_type": "display_data"
    },
    {
     "data": {
      "application/vnd.jupyter.widget-view+json": {
       "model_id": "",
       "version_major": 2,
       "version_minor": 0
      },
      "text/plain": [
       "Image (test):   0%|          | 0/3 [00:00<?, ?it/s]"
      ]
     },
     "metadata": {},
     "output_type": "display_data"
    },
    {
     "data": {
      "application/vnd.jupyter.widget-view+json": {
       "model_id": "",
       "version_major": 2,
       "version_minor": 0
      },
      "text/plain": [
       "Image (train):   0%|          | 0/3 [00:00<?, ?it/s]"
      ]
     },
     "metadata": {},
     "output_type": "display_data"
    },
    {
     "data": {
      "application/vnd.jupyter.widget-view+json": {
       "model_id": "",
       "version_major": 2,
       "version_minor": 0
      },
      "text/plain": [
       "Image (test):   0%|          | 0/3 [00:00<?, ?it/s]"
      ]
     },
     "metadata": {},
     "output_type": "display_data"
    },
    {
     "data": {
      "application/vnd.jupyter.widget-view+json": {
       "model_id": "",
       "version_major": 2,
       "version_minor": 0
      },
      "text/plain": [
       "Image (train):   0%|          | 0/3 [00:00<?, ?it/s]"
      ]
     },
     "metadata": {},
     "output_type": "display_data"
    },
    {
     "data": {
      "application/vnd.jupyter.widget-view+json": {
       "model_id": "",
       "version_major": 2,
       "version_minor": 0
      },
      "text/plain": [
       "Image (test):   0%|          | 0/3 [00:00<?, ?it/s]"
      ]
     },
     "metadata": {},
     "output_type": "display_data"
    },
    {
     "data": {
      "application/vnd.jupyter.widget-view+json": {
       "model_id": "",
       "version_major": 2,
       "version_minor": 0
      },
      "text/plain": [
       "Image (train):   0%|          | 0/3 [00:00<?, ?it/s]"
      ]
     },
     "metadata": {},
     "output_type": "display_data"
    },
    {
     "data": {
      "application/vnd.jupyter.widget-view+json": {
       "model_id": "",
       "version_major": 2,
       "version_minor": 0
      },
      "text/plain": [
       "Image (test):   0%|          | 0/3 [00:00<?, ?it/s]"
      ]
     },
     "metadata": {},
     "output_type": "display_data"
    },
    {
     "data": {
      "application/vnd.jupyter.widget-view+json": {
       "model_id": "",
       "version_major": 2,
       "version_minor": 0
      },
      "text/plain": [
       "Image (train):   0%|          | 0/3 [00:00<?, ?it/s]"
      ]
     },
     "metadata": {},
     "output_type": "display_data"
    },
    {
     "data": {
      "application/vnd.jupyter.widget-view+json": {
       "model_id": "",
       "version_major": 2,
       "version_minor": 0
      },
      "text/plain": [
       "Image (test):   0%|          | 0/3 [00:00<?, ?it/s]"
      ]
     },
     "metadata": {},
     "output_type": "display_data"
    },
    {
     "data": {
      "application/vnd.jupyter.widget-view+json": {
       "model_id": "",
       "version_major": 2,
       "version_minor": 0
      },
      "text/plain": [
       "Image (train):   0%|          | 0/3 [00:00<?, ?it/s]"
      ]
     },
     "metadata": {},
     "output_type": "display_data"
    },
    {
     "data": {
      "application/vnd.jupyter.widget-view+json": {
       "model_id": "",
       "version_major": 2,
       "version_minor": 0
      },
      "text/plain": [
       "Image (test):   0%|          | 0/3 [00:00<?, ?it/s]"
      ]
     },
     "metadata": {},
     "output_type": "display_data"
    },
    {
     "data": {
      "application/vnd.jupyter.widget-view+json": {
       "model_id": "",
       "version_major": 2,
       "version_minor": 0
      },
      "text/plain": [
       "Image (train):   0%|          | 0/2 [00:00<?, ?it/s]"
      ]
     },
     "metadata": {},
     "output_type": "display_data"
    },
    {
     "data": {
      "application/vnd.jupyter.widget-view+json": {
       "model_id": "",
       "version_major": 2,
       "version_minor": 0
      },
      "text/plain": [
       "Image (test):   0%|          | 0/2 [00:00<?, ?it/s]"
      ]
     },
     "metadata": {},
     "output_type": "display_data"
    },
    {
     "data": {
      "application/vnd.jupyter.widget-view+json": {
       "model_id": "",
       "version_major": 2,
       "version_minor": 0
      },
      "text/plain": [
       "Image (train):   0%|          | 0/2 [00:00<?, ?it/s]"
      ]
     },
     "metadata": {},
     "output_type": "display_data"
    },
    {
     "data": {
      "application/vnd.jupyter.widget-view+json": {
       "model_id": "",
       "version_major": 2,
       "version_minor": 0
      },
      "text/plain": [
       "Image (test):   0%|          | 0/2 [00:00<?, ?it/s]"
      ]
     },
     "metadata": {},
     "output_type": "display_data"
    },
    {
     "data": {
      "application/vnd.jupyter.widget-view+json": {
       "model_id": "",
       "version_major": 2,
       "version_minor": 0
      },
      "text/plain": [
       "Image (train):   0%|          | 0/2 [00:00<?, ?it/s]"
      ]
     },
     "metadata": {},
     "output_type": "display_data"
    },
    {
     "data": {
      "application/vnd.jupyter.widget-view+json": {
       "model_id": "",
       "version_major": 2,
       "version_minor": 0
      },
      "text/plain": [
       "Image (test):   0%|          | 0/2 [00:00<?, ?it/s]"
      ]
     },
     "metadata": {},
     "output_type": "display_data"
    },
    {
     "data": {
      "application/vnd.jupyter.widget-view+json": {
       "model_id": "",
       "version_major": 2,
       "version_minor": 0
      },
      "text/plain": [
       "Image (train):   0%|          | 0/2 [00:00<?, ?it/s]"
      ]
     },
     "metadata": {},
     "output_type": "display_data"
    },
    {
     "data": {
      "application/vnd.jupyter.widget-view+json": {
       "model_id": "",
       "version_major": 2,
       "version_minor": 0
      },
      "text/plain": [
       "Image (test):   0%|          | 0/2 [00:00<?, ?it/s]"
      ]
     },
     "metadata": {},
     "output_type": "display_data"
    },
    {
     "data": {
      "application/vnd.jupyter.widget-view+json": {
       "model_id": "",
       "version_major": 2,
       "version_minor": 0
      },
      "text/plain": [
       "Image (train):   0%|          | 0/2 [00:00<?, ?it/s]"
      ]
     },
     "metadata": {},
     "output_type": "display_data"
    },
    {
     "data": {
      "application/vnd.jupyter.widget-view+json": {
       "model_id": "",
       "version_major": 2,
       "version_minor": 0
      },
      "text/plain": [
       "Image (test):   0%|          | 0/2 [00:00<?, ?it/s]"
      ]
     },
     "metadata": {},
     "output_type": "display_data"
    },
    {
     "data": {
      "application/vnd.jupyter.widget-view+json": {
       "model_id": "",
       "version_major": 2,
       "version_minor": 0
      },
      "text/plain": [
       "Image (train):   0%|          | 0/2 [00:00<?, ?it/s]"
      ]
     },
     "metadata": {},
     "output_type": "display_data"
    },
    {
     "data": {
      "application/vnd.jupyter.widget-view+json": {
       "model_id": "",
       "version_major": 2,
       "version_minor": 0
      },
      "text/plain": [
       "Image (test):   0%|          | 0/2 [00:00<?, ?it/s]"
      ]
     },
     "metadata": {},
     "output_type": "display_data"
    },
    {
     "data": {
      "application/vnd.jupyter.widget-view+json": {
       "model_id": "",
       "version_major": 2,
       "version_minor": 0
      },
      "text/plain": [
       "Image (train):   0%|          | 0/2 [00:00<?, ?it/s]"
      ]
     },
     "metadata": {},
     "output_type": "display_data"
    },
    {
     "data": {
      "application/vnd.jupyter.widget-view+json": {
       "model_id": "",
       "version_major": 2,
       "version_minor": 0
      },
      "text/plain": [
       "Image (test):   0%|          | 0/2 [00:00<?, ?it/s]"
      ]
     },
     "metadata": {},
     "output_type": "display_data"
    },
    {
     "data": {
      "application/vnd.jupyter.widget-view+json": {
       "model_id": "",
       "version_major": 2,
       "version_minor": 0
      },
      "text/plain": [
       "Image (train):   0%|          | 0/2 [00:00<?, ?it/s]"
      ]
     },
     "metadata": {},
     "output_type": "display_data"
    },
    {
     "data": {
      "application/vnd.jupyter.widget-view+json": {
       "model_id": "",
       "version_major": 2,
       "version_minor": 0
      },
      "text/plain": [
       "Image (test):   0%|          | 0/2 [00:00<?, ?it/s]"
      ]
     },
     "metadata": {},
     "output_type": "display_data"
    },
    {
     "data": {
      "application/vnd.jupyter.widget-view+json": {
       "model_id": "",
       "version_major": 2,
       "version_minor": 0
      },
      "text/plain": [
       "Attempt:   0%|          | 0/20 [00:00<?, ?it/s]"
      ]
     },
     "metadata": {},
     "output_type": "display_data"
    },
    {
     "data": {
      "application/vnd.jupyter.widget-view+json": {
       "model_id": "",
       "version_major": 2,
       "version_minor": 0
      },
      "text/plain": [
       "Image (train):   0%|          | 0/1000 [00:00<?, ?it/s]"
      ]
     },
     "metadata": {},
     "output_type": "display_data"
    },
    {
     "data": {
      "application/vnd.jupyter.widget-view+json": {
       "model_id": "",
       "version_major": 2,
       "version_minor": 0
      },
      "text/plain": [
       "Image (test):   0%|          | 0/1000 [00:00<?, ?it/s]"
      ]
     },
     "metadata": {},
     "output_type": "display_data"
    },
    {
     "data": {
      "application/vnd.jupyter.widget-view+json": {
       "model_id": "",
       "version_major": 2,
       "version_minor": 0
      },
      "text/plain": [
       "Image (train):   0%|          | 0/17 [00:00<?, ?it/s]"
      ]
     },
     "metadata": {},
     "output_type": "display_data"
    },
    {
     "data": {
      "application/vnd.jupyter.widget-view+json": {
       "model_id": "",
       "version_major": 2,
       "version_minor": 0
      },
      "text/plain": [
       "Image (test):   0%|          | 0/17 [00:00<?, ?it/s]"
      ]
     },
     "metadata": {},
     "output_type": "display_data"
    },
    {
     "data": {
      "application/vnd.jupyter.widget-view+json": {
       "model_id": "",
       "version_major": 2,
       "version_minor": 0
      },
      "text/plain": [
       "Image (train):   0%|          | 0/10 [00:00<?, ?it/s]"
      ]
     },
     "metadata": {},
     "output_type": "display_data"
    },
    {
     "data": {
      "application/vnd.jupyter.widget-view+json": {
       "model_id": "",
       "version_major": 2,
       "version_minor": 0
      },
      "text/plain": [
       "Image (test):   0%|          | 0/10 [00:00<?, ?it/s]"
      ]
     },
     "metadata": {},
     "output_type": "display_data"
    },
    {
     "data": {
      "application/vnd.jupyter.widget-view+json": {
       "model_id": "",
       "version_major": 2,
       "version_minor": 0
      },
      "text/plain": [
       "Image (train):   0%|          | 0/6 [00:00<?, ?it/s]"
      ]
     },
     "metadata": {},
     "output_type": "display_data"
    },
    {
     "data": {
      "application/vnd.jupyter.widget-view+json": {
       "model_id": "",
       "version_major": 2,
       "version_minor": 0
      },
      "text/plain": [
       "Image (test):   0%|          | 0/6 [00:00<?, ?it/s]"
      ]
     },
     "metadata": {},
     "output_type": "display_data"
    },
    {
     "data": {
      "application/vnd.jupyter.widget-view+json": {
       "model_id": "",
       "version_major": 2,
       "version_minor": 0
      },
      "text/plain": [
       "Image (train):   0%|          | 0/5 [00:00<?, ?it/s]"
      ]
     },
     "metadata": {},
     "output_type": "display_data"
    },
    {
     "data": {
      "application/vnd.jupyter.widget-view+json": {
       "model_id": "",
       "version_major": 2,
       "version_minor": 0
      },
      "text/plain": [
       "Image (test):   0%|          | 0/5 [00:00<?, ?it/s]"
      ]
     },
     "metadata": {},
     "output_type": "display_data"
    },
    {
     "data": {
      "application/vnd.jupyter.widget-view+json": {
       "model_id": "",
       "version_major": 2,
       "version_minor": 0
      },
      "text/plain": [
       "Image (train):   0%|          | 0/4 [00:00<?, ?it/s]"
      ]
     },
     "metadata": {},
     "output_type": "display_data"
    },
    {
     "data": {
      "application/vnd.jupyter.widget-view+json": {
       "model_id": "",
       "version_major": 2,
       "version_minor": 0
      },
      "text/plain": [
       "Image (test):   0%|          | 0/4 [00:00<?, ?it/s]"
      ]
     },
     "metadata": {},
     "output_type": "display_data"
    },
    {
     "data": {
      "application/vnd.jupyter.widget-view+json": {
       "model_id": "",
       "version_major": 2,
       "version_minor": 0
      },
      "text/plain": [
       "Image (train):   0%|          | 0/3 [00:00<?, ?it/s]"
      ]
     },
     "metadata": {},
     "output_type": "display_data"
    },
    {
     "data": {
      "application/vnd.jupyter.widget-view+json": {
       "model_id": "",
       "version_major": 2,
       "version_minor": 0
      },
      "text/plain": [
       "Image (test):   0%|          | 0/3 [00:00<?, ?it/s]"
      ]
     },
     "metadata": {},
     "output_type": "display_data"
    },
    {
     "data": {
      "application/vnd.jupyter.widget-view+json": {
       "model_id": "",
       "version_major": 2,
       "version_minor": 0
      },
      "text/plain": [
       "Image (train):   0%|          | 0/3 [00:00<?, ?it/s]"
      ]
     },
     "metadata": {},
     "output_type": "display_data"
    },
    {
     "data": {
      "application/vnd.jupyter.widget-view+json": {
       "model_id": "",
       "version_major": 2,
       "version_minor": 0
      },
      "text/plain": [
       "Image (test):   0%|          | 0/3 [00:00<?, ?it/s]"
      ]
     },
     "metadata": {},
     "output_type": "display_data"
    },
    {
     "data": {
      "application/vnd.jupyter.widget-view+json": {
       "model_id": "",
       "version_major": 2,
       "version_minor": 0
      },
      "text/plain": [
       "Image (train):   0%|          | 0/3 [00:00<?, ?it/s]"
      ]
     },
     "metadata": {},
     "output_type": "display_data"
    },
    {
     "data": {
      "application/vnd.jupyter.widget-view+json": {
       "model_id": "",
       "version_major": 2,
       "version_minor": 0
      },
      "text/plain": [
       "Image (test):   0%|          | 0/3 [00:00<?, ?it/s]"
      ]
     },
     "metadata": {},
     "output_type": "display_data"
    },
    {
     "data": {
      "application/vnd.jupyter.widget-view+json": {
       "model_id": "",
       "version_major": 2,
       "version_minor": 0
      },
      "text/plain": [
       "Image (train):   0%|          | 0/3 [00:00<?, ?it/s]"
      ]
     },
     "metadata": {},
     "output_type": "display_data"
    },
    {
     "data": {
      "application/vnd.jupyter.widget-view+json": {
       "model_id": "",
       "version_major": 2,
       "version_minor": 0
      },
      "text/plain": [
       "Image (test):   0%|          | 0/3 [00:00<?, ?it/s]"
      ]
     },
     "metadata": {},
     "output_type": "display_data"
    },
    {
     "data": {
      "application/vnd.jupyter.widget-view+json": {
       "model_id": "",
       "version_major": 2,
       "version_minor": 0
      },
      "text/plain": [
       "Image (train):   0%|          | 0/3 [00:00<?, ?it/s]"
      ]
     },
     "metadata": {},
     "output_type": "display_data"
    },
    {
     "data": {
      "application/vnd.jupyter.widget-view+json": {
       "model_id": "",
       "version_major": 2,
       "version_minor": 0
      },
      "text/plain": [
       "Image (test):   0%|          | 0/3 [00:00<?, ?it/s]"
      ]
     },
     "metadata": {},
     "output_type": "display_data"
    },
    {
     "data": {
      "application/vnd.jupyter.widget-view+json": {
       "model_id": "",
       "version_major": 2,
       "version_minor": 0
      },
      "text/plain": [
       "Image (train):   0%|          | 0/3 [00:00<?, ?it/s]"
      ]
     },
     "metadata": {},
     "output_type": "display_data"
    },
    {
     "data": {
      "application/vnd.jupyter.widget-view+json": {
       "model_id": "",
       "version_major": 2,
       "version_minor": 0
      },
      "text/plain": [
       "Image (test):   0%|          | 0/3 [00:00<?, ?it/s]"
      ]
     },
     "metadata": {},
     "output_type": "display_data"
    },
    {
     "data": {
      "application/vnd.jupyter.widget-view+json": {
       "model_id": "",
       "version_major": 2,
       "version_minor": 0
      },
      "text/plain": [
       "Image (train):   0%|          | 0/3 [00:00<?, ?it/s]"
      ]
     },
     "metadata": {},
     "output_type": "display_data"
    },
    {
     "data": {
      "application/vnd.jupyter.widget-view+json": {
       "model_id": "",
       "version_major": 2,
       "version_minor": 0
      },
      "text/plain": [
       "Image (test):   0%|          | 0/3 [00:00<?, ?it/s]"
      ]
     },
     "metadata": {},
     "output_type": "display_data"
    },
    {
     "data": {
      "application/vnd.jupyter.widget-view+json": {
       "model_id": "",
       "version_major": 2,
       "version_minor": 0
      },
      "text/plain": [
       "Image (train):   0%|          | 0/3 [00:00<?, ?it/s]"
      ]
     },
     "metadata": {},
     "output_type": "display_data"
    },
    {
     "data": {
      "application/vnd.jupyter.widget-view+json": {
       "model_id": "",
       "version_major": 2,
       "version_minor": 0
      },
      "text/plain": [
       "Image (test):   0%|          | 0/3 [00:00<?, ?it/s]"
      ]
     },
     "metadata": {},
     "output_type": "display_data"
    },
    {
     "data": {
      "application/vnd.jupyter.widget-view+json": {
       "model_id": "",
       "version_major": 2,
       "version_minor": 0
      },
      "text/plain": [
       "Image (train):   0%|          | 0/2 [00:00<?, ?it/s]"
      ]
     },
     "metadata": {},
     "output_type": "display_data"
    },
    {
     "data": {
      "application/vnd.jupyter.widget-view+json": {
       "model_id": "",
       "version_major": 2,
       "version_minor": 0
      },
      "text/plain": [
       "Image (test):   0%|          | 0/2 [00:00<?, ?it/s]"
      ]
     },
     "metadata": {},
     "output_type": "display_data"
    },
    {
     "data": {
      "application/vnd.jupyter.widget-view+json": {
       "model_id": "",
       "version_major": 2,
       "version_minor": 0
      },
      "text/plain": [
       "Image (train):   0%|          | 0/2 [00:00<?, ?it/s]"
      ]
     },
     "metadata": {},
     "output_type": "display_data"
    },
    {
     "data": {
      "application/vnd.jupyter.widget-view+json": {
       "model_id": "",
       "version_major": 2,
       "version_minor": 0
      },
      "text/plain": [
       "Image (test):   0%|          | 0/2 [00:00<?, ?it/s]"
      ]
     },
     "metadata": {},
     "output_type": "display_data"
    },
    {
     "data": {
      "application/vnd.jupyter.widget-view+json": {
       "model_id": "",
       "version_major": 2,
       "version_minor": 0
      },
      "text/plain": [
       "Image (train):   0%|          | 0/2 [00:00<?, ?it/s]"
      ]
     },
     "metadata": {},
     "output_type": "display_data"
    },
    {
     "data": {
      "application/vnd.jupyter.widget-view+json": {
       "model_id": "",
       "version_major": 2,
       "version_minor": 0
      },
      "text/plain": [
       "Image (test):   0%|          | 0/2 [00:00<?, ?it/s]"
      ]
     },
     "metadata": {},
     "output_type": "display_data"
    },
    {
     "data": {
      "application/vnd.jupyter.widget-view+json": {
       "model_id": "",
       "version_major": 2,
       "version_minor": 0
      },
      "text/plain": [
       "Image (train):   0%|          | 0/2 [00:00<?, ?it/s]"
      ]
     },
     "metadata": {},
     "output_type": "display_data"
    },
    {
     "data": {
      "application/vnd.jupyter.widget-view+json": {
       "model_id": "",
       "version_major": 2,
       "version_minor": 0
      },
      "text/plain": [
       "Image (test):   0%|          | 0/2 [00:00<?, ?it/s]"
      ]
     },
     "metadata": {},
     "output_type": "display_data"
    },
    {
     "data": {
      "application/vnd.jupyter.widget-view+json": {
       "model_id": "",
       "version_major": 2,
       "version_minor": 0
      },
      "text/plain": [
       "Image (train):   0%|          | 0/2 [00:00<?, ?it/s]"
      ]
     },
     "metadata": {},
     "output_type": "display_data"
    },
    {
     "data": {
      "application/vnd.jupyter.widget-view+json": {
       "model_id": "",
       "version_major": 2,
       "version_minor": 0
      },
      "text/plain": [
       "Image (test):   0%|          | 0/2 [00:00<?, ?it/s]"
      ]
     },
     "metadata": {},
     "output_type": "display_data"
    },
    {
     "data": {
      "application/vnd.jupyter.widget-view+json": {
       "model_id": "",
       "version_major": 2,
       "version_minor": 0
      },
      "text/plain": [
       "Image (train):   0%|          | 0/2 [00:00<?, ?it/s]"
      ]
     },
     "metadata": {},
     "output_type": "display_data"
    },
    {
     "data": {
      "application/vnd.jupyter.widget-view+json": {
       "model_id": "",
       "version_major": 2,
       "version_minor": 0
      },
      "text/plain": [
       "Image (test):   0%|          | 0/2 [00:00<?, ?it/s]"
      ]
     },
     "metadata": {},
     "output_type": "display_data"
    },
    {
     "data": {
      "application/vnd.jupyter.widget-view+json": {
       "model_id": "",
       "version_major": 2,
       "version_minor": 0
      },
      "text/plain": [
       "Attempt:   0%|          | 0/20 [00:00<?, ?it/s]"
      ]
     },
     "metadata": {},
     "output_type": "display_data"
    },
    {
     "data": {
      "application/vnd.jupyter.widget-view+json": {
       "model_id": "",
       "version_major": 2,
       "version_minor": 0
      },
      "text/plain": [
       "Image (train):   0%|          | 0/1000 [00:00<?, ?it/s]"
      ]
     },
     "metadata": {},
     "output_type": "display_data"
    },
    {
     "data": {
      "application/vnd.jupyter.widget-view+json": {
       "model_id": "",
       "version_major": 2,
       "version_minor": 0
      },
      "text/plain": [
       "Image (test):   0%|          | 0/1000 [00:00<?, ?it/s]"
      ]
     },
     "metadata": {},
     "output_type": "display_data"
    },
    {
     "data": {
      "application/vnd.jupyter.widget-view+json": {
       "model_id": "",
       "version_major": 2,
       "version_minor": 0
      },
      "text/plain": [
       "Image (train):   0%|          | 0/12 [00:00<?, ?it/s]"
      ]
     },
     "metadata": {},
     "output_type": "display_data"
    },
    {
     "data": {
      "application/vnd.jupyter.widget-view+json": {
       "model_id": "",
       "version_major": 2,
       "version_minor": 0
      },
      "text/plain": [
       "Image (test):   0%|          | 0/12 [00:00<?, ?it/s]"
      ]
     },
     "metadata": {},
     "output_type": "display_data"
    },
    {
     "data": {
      "application/vnd.jupyter.widget-view+json": {
       "model_id": "",
       "version_major": 2,
       "version_minor": 0
      },
      "text/plain": [
       "Image (train):   0%|          | 0/9 [00:00<?, ?it/s]"
      ]
     },
     "metadata": {},
     "output_type": "display_data"
    },
    {
     "data": {
      "application/vnd.jupyter.widget-view+json": {
       "model_id": "",
       "version_major": 2,
       "version_minor": 0
      },
      "text/plain": [
       "Image (test):   0%|          | 0/9 [00:00<?, ?it/s]"
      ]
     },
     "metadata": {},
     "output_type": "display_data"
    },
    {
     "data": {
      "application/vnd.jupyter.widget-view+json": {
       "model_id": "",
       "version_major": 2,
       "version_minor": 0
      },
      "text/plain": [
       "Image (train):   0%|          | 0/7 [00:00<?, ?it/s]"
      ]
     },
     "metadata": {},
     "output_type": "display_data"
    },
    {
     "data": {
      "application/vnd.jupyter.widget-view+json": {
       "model_id": "",
       "version_major": 2,
       "version_minor": 0
      },
      "text/plain": [
       "Image (test):   0%|          | 0/7 [00:00<?, ?it/s]"
      ]
     },
     "metadata": {},
     "output_type": "display_data"
    },
    {
     "data": {
      "application/vnd.jupyter.widget-view+json": {
       "model_id": "",
       "version_major": 2,
       "version_minor": 0
      },
      "text/plain": [
       "Image (train):   0%|          | 0/6 [00:00<?, ?it/s]"
      ]
     },
     "metadata": {},
     "output_type": "display_data"
    },
    {
     "data": {
      "application/vnd.jupyter.widget-view+json": {
       "model_id": "",
       "version_major": 2,
       "version_minor": 0
      },
      "text/plain": [
       "Image (test):   0%|          | 0/6 [00:00<?, ?it/s]"
      ]
     },
     "metadata": {},
     "output_type": "display_data"
    },
    {
     "data": {
      "application/vnd.jupyter.widget-view+json": {
       "model_id": "",
       "version_major": 2,
       "version_minor": 0
      },
      "text/plain": [
       "Image (train):   0%|          | 0/4 [00:00<?, ?it/s]"
      ]
     },
     "metadata": {},
     "output_type": "display_data"
    },
    {
     "data": {
      "application/vnd.jupyter.widget-view+json": {
       "model_id": "",
       "version_major": 2,
       "version_minor": 0
      },
      "text/plain": [
       "Image (test):   0%|          | 0/4 [00:00<?, ?it/s]"
      ]
     },
     "metadata": {},
     "output_type": "display_data"
    },
    {
     "data": {
      "application/vnd.jupyter.widget-view+json": {
       "model_id": "",
       "version_major": 2,
       "version_minor": 0
      },
      "text/plain": [
       "Image (train):   0%|          | 0/4 [00:00<?, ?it/s]"
      ]
     },
     "metadata": {},
     "output_type": "display_data"
    },
    {
     "data": {
      "application/vnd.jupyter.widget-view+json": {
       "model_id": "",
       "version_major": 2,
       "version_minor": 0
      },
      "text/plain": [
       "Image (test):   0%|          | 0/4 [00:00<?, ?it/s]"
      ]
     },
     "metadata": {},
     "output_type": "display_data"
    },
    {
     "data": {
      "application/vnd.jupyter.widget-view+json": {
       "model_id": "",
       "version_major": 2,
       "version_minor": 0
      },
      "text/plain": [
       "Image (train):   0%|          | 0/2 [00:00<?, ?it/s]"
      ]
     },
     "metadata": {},
     "output_type": "display_data"
    },
    {
     "data": {
      "application/vnd.jupyter.widget-view+json": {
       "model_id": "",
       "version_major": 2,
       "version_minor": 0
      },
      "text/plain": [
       "Image (test):   0%|          | 0/2 [00:00<?, ?it/s]"
      ]
     },
     "metadata": {},
     "output_type": "display_data"
    },
    {
     "data": {
      "application/vnd.jupyter.widget-view+json": {
       "model_id": "",
       "version_major": 2,
       "version_minor": 0
      },
      "text/plain": [
       "Image (train):   0%|          | 0/2 [00:00<?, ?it/s]"
      ]
     },
     "metadata": {},
     "output_type": "display_data"
    },
    {
     "data": {
      "application/vnd.jupyter.widget-view+json": {
       "model_id": "",
       "version_major": 2,
       "version_minor": 0
      },
      "text/plain": [
       "Image (test):   0%|          | 0/2 [00:00<?, ?it/s]"
      ]
     },
     "metadata": {},
     "output_type": "display_data"
    },
    {
     "data": {
      "application/vnd.jupyter.widget-view+json": {
       "model_id": "",
       "version_major": 2,
       "version_minor": 0
      },
      "text/plain": [
       "Image (train):   0%|          | 0/1 [00:00<?, ?it/s]"
      ]
     },
     "metadata": {},
     "output_type": "display_data"
    },
    {
     "data": {
      "application/vnd.jupyter.widget-view+json": {
       "model_id": "",
       "version_major": 2,
       "version_minor": 0
      },
      "text/plain": [
       "Image (test):   0%|          | 0/1 [00:00<?, ?it/s]"
      ]
     },
     "metadata": {},
     "output_type": "display_data"
    },
    {
     "data": {
      "application/vnd.jupyter.widget-view+json": {
       "model_id": "",
       "version_major": 2,
       "version_minor": 0
      },
      "text/plain": [
       "Image (train):   0%|          | 0/1 [00:00<?, ?it/s]"
      ]
     },
     "metadata": {},
     "output_type": "display_data"
    },
    {
     "data": {
      "application/vnd.jupyter.widget-view+json": {
       "model_id": "",
       "version_major": 2,
       "version_minor": 0
      },
      "text/plain": [
       "Image (test):   0%|          | 0/1 [00:00<?, ?it/s]"
      ]
     },
     "metadata": {},
     "output_type": "display_data"
    },
    {
     "data": {
      "application/vnd.jupyter.widget-view+json": {
       "model_id": "",
       "version_major": 2,
       "version_minor": 0
      },
      "text/plain": [
       "Image (train):   0%|          | 0/1 [00:00<?, ?it/s]"
      ]
     },
     "metadata": {},
     "output_type": "display_data"
    },
    {
     "data": {
      "application/vnd.jupyter.widget-view+json": {
       "model_id": "",
       "version_major": 2,
       "version_minor": 0
      },
      "text/plain": [
       "Image (test):   0%|          | 0/1 [00:00<?, ?it/s]"
      ]
     },
     "metadata": {},
     "output_type": "display_data"
    },
    {
     "data": {
      "application/vnd.jupyter.widget-view+json": {
       "model_id": "",
       "version_major": 2,
       "version_minor": 0
      },
      "text/plain": [
       "Image (train):   0%|          | 0/1 [00:00<?, ?it/s]"
      ]
     },
     "metadata": {},
     "output_type": "display_data"
    },
    {
     "data": {
      "application/vnd.jupyter.widget-view+json": {
       "model_id": "",
       "version_major": 2,
       "version_minor": 0
      },
      "text/plain": [
       "Image (test):   0%|          | 0/1 [00:00<?, ?it/s]"
      ]
     },
     "metadata": {},
     "output_type": "display_data"
    },
    {
     "data": {
      "application/vnd.jupyter.widget-view+json": {
       "model_id": "",
       "version_major": 2,
       "version_minor": 0
      },
      "text/plain": [
       "Image (train):   0%|          | 0/1 [00:00<?, ?it/s]"
      ]
     },
     "metadata": {},
     "output_type": "display_data"
    },
    {
     "data": {
      "application/vnd.jupyter.widget-view+json": {
       "model_id": "",
       "version_major": 2,
       "version_minor": 0
      },
      "text/plain": [
       "Image (test):   0%|          | 0/1 [00:00<?, ?it/s]"
      ]
     },
     "metadata": {},
     "output_type": "display_data"
    },
    {
     "data": {
      "application/vnd.jupyter.widget-view+json": {
       "model_id": "",
       "version_major": 2,
       "version_minor": 0
      },
      "text/plain": [
       "Image (train):   0%|          | 0/1 [00:00<?, ?it/s]"
      ]
     },
     "metadata": {},
     "output_type": "display_data"
    },
    {
     "data": {
      "application/vnd.jupyter.widget-view+json": {
       "model_id": "",
       "version_major": 2,
       "version_minor": 0
      },
      "text/plain": [
       "Image (test):   0%|          | 0/1 [00:00<?, ?it/s]"
      ]
     },
     "metadata": {},
     "output_type": "display_data"
    },
    {
     "data": {
      "application/vnd.jupyter.widget-view+json": {
       "model_id": "",
       "version_major": 2,
       "version_minor": 0
      },
      "text/plain": [
       "Image (train):   0%|          | 0/1 [00:00<?, ?it/s]"
      ]
     },
     "metadata": {},
     "output_type": "display_data"
    },
    {
     "data": {
      "application/vnd.jupyter.widget-view+json": {
       "model_id": "",
       "version_major": 2,
       "version_minor": 0
      },
      "text/plain": [
       "Image (test):   0%|          | 0/1 [00:00<?, ?it/s]"
      ]
     },
     "metadata": {},
     "output_type": "display_data"
    },
    {
     "data": {
      "application/vnd.jupyter.widget-view+json": {
       "model_id": "",
       "version_major": 2,
       "version_minor": 0
      },
      "text/plain": [
       "Image (train):   0%|          | 0/1 [00:00<?, ?it/s]"
      ]
     },
     "metadata": {},
     "output_type": "display_data"
    },
    {
     "data": {
      "application/vnd.jupyter.widget-view+json": {
       "model_id": "",
       "version_major": 2,
       "version_minor": 0
      },
      "text/plain": [
       "Image (test):   0%|          | 0/1 [00:00<?, ?it/s]"
      ]
     },
     "metadata": {},
     "output_type": "display_data"
    },
    {
     "data": {
      "application/vnd.jupyter.widget-view+json": {
       "model_id": "",
       "version_major": 2,
       "version_minor": 0
      },
      "text/plain": [
       "Image (train):   0%|          | 0/1 [00:00<?, ?it/s]"
      ]
     },
     "metadata": {},
     "output_type": "display_data"
    },
    {
     "data": {
      "application/vnd.jupyter.widget-view+json": {
       "model_id": "",
       "version_major": 2,
       "version_minor": 0
      },
      "text/plain": [
       "Image (test):   0%|          | 0/1 [00:00<?, ?it/s]"
      ]
     },
     "metadata": {},
     "output_type": "display_data"
    },
    {
     "data": {
      "application/vnd.jupyter.widget-view+json": {
       "model_id": "",
       "version_major": 2,
       "version_minor": 0
      },
      "text/plain": [
       "Image (train):   0%|          | 0/1 [00:00<?, ?it/s]"
      ]
     },
     "metadata": {},
     "output_type": "display_data"
    },
    {
     "data": {
      "application/vnd.jupyter.widget-view+json": {
       "model_id": "",
       "version_major": 2,
       "version_minor": 0
      },
      "text/plain": [
       "Image (test):   0%|          | 0/1 [00:00<?, ?it/s]"
      ]
     },
     "metadata": {},
     "output_type": "display_data"
    },
    {
     "data": {
      "application/vnd.jupyter.widget-view+json": {
       "model_id": "",
       "version_major": 2,
       "version_minor": 0
      },
      "text/plain": [
       "Image (train):   0%|          | 0/1 [00:00<?, ?it/s]"
      ]
     },
     "metadata": {},
     "output_type": "display_data"
    },
    {
     "data": {
      "application/vnd.jupyter.widget-view+json": {
       "model_id": "",
       "version_major": 2,
       "version_minor": 0
      },
      "text/plain": [
       "Image (test):   0%|          | 0/1 [00:00<?, ?it/s]"
      ]
     },
     "metadata": {},
     "output_type": "display_data"
    }
   ],
   "source": [
    "# TRAIN RUN\n",
    "TRAIN_RUN_ID += 1\n",
    "epochs = 10\n",
    "attempts_to_get_no_mistakes = 20\n",
    "count = 1000\n",
    "consolidation_threshold = 1000\n",
    "\n",
    "for epoch in tqdm(range(epochs), desc='Epoch'):\n",
    "    train_step_image_ids = RNG.choice(df_train_images.index.unique(), count, replace=False)\n",
    "\n",
    "    for attempt_to_get_no_mistakes in tqdm(range(attempts_to_get_no_mistakes), leave=False, desc='Attempt'):\n",
    "        # EVOLVE MEMORIES\n",
    "        for image_no, image_id in tqdm(enumerate(train_step_image_ids), leave=False, total=len(train_step_image_ids), desc='Image (train)'):\n",
    "            log.debug(f'[train_run_id={TRAIN_RUN_ID}, image_no={image_no}, image_id={image_id}] Cluster count={COLUMN.cluster_norms.len()}')\n",
    "            \n",
    "            image_value = df_train_images.loc[image_id]['value']\n",
    "            df_image_encodings = pd.read_sql('SELECT hdv FROM image_encodings WHERE image_id=:image_id', params={'image_id': int(image_id)}, con=train_db_con)\n",
    "            assert len(df_image_encodings) > 0\n",
    "            image_encoding_hdvs = list(map(lambda h: np.frombuffer(h, dtype='b'), df_image_encodings['hdv']))\n",
    "            image_encoding_hdvs_norm = hdc.normalize(image_encoding_hdvs)\n",
    "            image_encoding_hdvs_norm = xp_array_to_gpu(image_encoding_hdvs_norm)\n",
    "    \n",
    "            cos_sim_matrix = COLUMN.cluster_norms.array @ image_encoding_hdvs_norm.T\n",
    "            cos_sim_matrix[cos_sim_matrix < COS_SIM_THRESHOLD] = 0\n",
    "            cos_sim_vector = xp_array_from_gpu(xp.sum(cos_sim_matrix, axis=1)) # how each mem recall (sum cos sim) is close to current image\n",
    "            \n",
    "            assert cos_sim_vector.shape == (COLUMN.cluster_norms.array.shape[0],)\n",
    "            cluster_ids_by_match_score = np.argsort(-cos_sim_vector) # sorted desc\n",
    "            match_found = False\n",
    "            match_pos = False\n",
    "            match_is_updated = False\n",
    "    \n",
    "            for pos, cluster_id in enumerate(cluster_ids_by_match_score):\n",
    "                cos_sim_value = cos_sim_vector[cluster_id]\n",
    "                log.debug(f'[train_run_id={TRAIN_RUN_ID}, image_no={image_no}, image_id={image_id}] Checking cluster #{cluster_id}, pos={pos}, sim={cos_sim_value:.2f}')\n",
    "    \n",
    "                if cos_sim_value <= 0:\n",
    "                    break\n",
    "    \n",
    "                cluster_image_ids = COLUMN.cluster_to_image_ids[cluster_id]\n",
    "                assert len(cluster_image_ids) > 0\n",
    "                cluster_is_sealed = len(cluster_image_ids) > 200\n",
    "                cluster_image_id = next(iter(cluster_image_ids))\n",
    "                cluster_image_value = df_train_images.loc[cluster_image_id]['value']\n",
    "    \n",
    "                if cluster_image_value != image_value:\n",
    "                    log.debug(f'[train_run_id={TRAIN_RUN_ID}, image_no={image_no}, image_id={image_id}] Match WRONG, cluster value={cluster_image_value} vs {image_value}')\n",
    "                else:\n",
    "                    log.debug(f'[train_run_id={TRAIN_RUN_ID}, image_no={image_no}, image_id={image_id}] Match CORRECT, sealed={cluster_is_sealed}')\n",
    "    \n",
    "                    if not cluster_is_sealed:\n",
    "                        cluster_image_ids.add(image_id)\n",
    "                        cluster_hdvs = COLUMN.clusters[cluster_id] # list\n",
    "                        cluster_hdvs.append(hdc.bundle(image_encoding_hdvs))\n",
    "                        new_cluster_bundle = xp_array_to_gpu(hdc.bundle(cluster_hdvs))\n",
    "                        COLUMN.cluster_norms.array[cluster_id] = hdc.normalize(new_cluster_bundle)\n",
    "    \n",
    "                    match_found = True\n",
    "                    match_pos = pos\n",
    "                    match_is_updated = not cluster_is_sealed\n",
    "                    break\n",
    "    \n",
    "            log.debug(f'[train_run_id={TRAIN_RUN_ID}, image_no={image_no}, image_id={image_id}] Match found={match_found}, pos={match_pos}, is updated={match_is_updated}')\n",
    "    \n",
    "            if (match_found and match_pos == 0) or (match_found and match_is_updated):\n",
    "                pass\n",
    "            else:\n",
    "                cluster_id = COLUMN.cluster_norms.lease()\n",
    "                cluster_bundle = hdc.bundle(image_encoding_hdvs)\n",
    "                COLUMN.cluster_norms.array[cluster_id] = xp_array_to_gpu(hdc.normalize(cluster_bundle))\n",
    "                COLUMN.clusters[cluster_id].append(cluster_bundle)\n",
    "                COLUMN.cluster_to_image_ids[cluster_id].add(image_id)\n",
    "                log.debug(f'[train_run_id={TRAIN_RUN_ID}, image_no={image_no}, image_id={image_id}] New cluster {cluster_id}')\n",
    "    \n",
    "            if image_no > 0 and image_no % consolidation_threshold == 0:\n",
    "                # CONSOLIDATE MEMORY\n",
    "                def dump_cluster_lengths(when):\n",
    "                    cluster_lengths = list(map(lambda image_ids: len(image_ids), COLUMN.cluster_to_image_ids.values()))\n",
    "                    cluster_lengths = np.unique_counts(cluster_lengths)\n",
    "                    \n",
    "                    for v, c in zip(reversed(cluster_lengths.values), reversed(cluster_lengths.counts)):\n",
    "                        log.debug(f'[train_run_id={TRAIN_RUN_ID}, consolidation] {when:10} {v:5} {c:5}')\n",
    "    \n",
    "                before_len = COLUMN.cluster_norms.len()\n",
    "                assert before_len == len(COLUMN.clusters)\n",
    "                \n",
    "                log.debug(f'[train_run_id={TRAIN_RUN_ID}, consolidation] BEFORE clusters count = {before_len}')\n",
    "                dump_cluster_lengths('BEFORE')\n",
    "                \n",
    "                cluster_indices_to_release = []\n",
    "                \n",
    "                for cluster_id, image_ids in COLUMN.cluster_to_image_ids.items():\n",
    "                    #l = 0.1\n",
    "                    l = 1\n",
    "                    exp_distro_level = l * np.exp(-l * len(image_ids))\n",
    "                    rand_level = RNG.random()\n",
    "                    do_release = rand_level < exp_distro_level\n",
    "                    \n",
    "                    if do_release:\n",
    "                        cluster_indices_to_release.append(cluster_id)\n",
    "                        log.debug(f'[train_run_id={TRAIN_RUN_ID}, consolidation] Dropping cluster #{cluster_id}, len={len(image_ids)}: {rand_level:.5f} < {exp_distro_level:.5f}')\n",
    "            \n",
    "                for cluster_index_to_release in cluster_indices_to_release:\n",
    "                    del COLUMN.clusters[cluster_index_to_release]\n",
    "                    del COLUMN.cluster_to_image_ids[cluster_index_to_release]\n",
    "                    COLUMN.cluster_norms.release(cluster_index_to_release)\n",
    "            \n",
    "                after_len = COLUMN.cluster_norms.len()\n",
    "                assert after_len == len(COLUMN.clusters)\n",
    "                \n",
    "                log.debug(f'[train_run_id={TRAIN_RUN_ID}, consolidation] AFTER clusters count = {after_len}')\n",
    "                dump_cluster_lengths('AFTER')\n",
    "\n",
    "        mistake_image_ids = []\n",
    "        \n",
    "        for image_no, image_id in tqdm(enumerate(train_step_image_ids), leave=False, total=len(train_step_image_ids), desc='Image (test)'):\n",
    "            image_value = df_train_images.loc[image_id]['value']\n",
    "            df_image_encodings = pd.read_sql('SELECT hdv FROM image_encodings WHERE image_id=:image_id', params={'image_id': int(image_id)}, con=train_db_con)\n",
    "            assert len(df_image_encodings) > 0\n",
    "            image_encoding_hdvs = list(map(lambda h: np.frombuffer(h, dtype='b'), df_image_encodings['hdv']))\n",
    "            image_encoding_hdvs_norm = hdc.normalize(image_encoding_hdvs)\n",
    "            image_encoding_hdvs_norm = xp_array_to_gpu(image_encoding_hdvs_norm)\n",
    "        \n",
    "            cos_sim_matrix = COLUMN.cluster_norms.array @ image_encoding_hdvs_norm.T\n",
    "            cos_sim_matrix[cos_sim_matrix < COS_SIM_THRESHOLD] = 0\n",
    "            cos_sim_vector = xp_array_from_gpu(xp.sum(cos_sim_matrix, axis=1)) # how each mem recall (sum cos sim) is close to current image\n",
    "            \n",
    "            assert cos_sim_vector.shape == (COLUMN.cluster_norms.array.shape[0],)\n",
    "            cluster_ids_by_match_score = np.argsort(-cos_sim_vector) # sorted desc\n",
    "        \n",
    "            if cluster_ids_by_match_score.shape[0] > 0:\n",
    "                cluster_id = cluster_ids_by_match_score[0]\n",
    "                cos_sim_value = cos_sim_vector[cluster_id]\n",
    "        \n",
    "                if cos_sim_value > 0:\n",
    "                    cluster_image_ids = COLUMN.cluster_to_image_ids[cluster_id]\n",
    "                    assert len(cluster_image_ids) > 0\n",
    "                    cluster_image_id = next(iter(cluster_image_ids))\n",
    "                    cluster_image_value = df_train_images.loc[cluster_image_id]['value']\n",
    "\n",
    "                    if cluster_image_value != image_value:\n",
    "                        mistake_image_ids.append(image_id)\n",
    "\n",
    "        log.debug(f'[train_run_id={TRAIN_RUN_ID}] Mistaken image ids = {len(mistake_image_ids)}')\n",
    "\n",
    "        if not mistake_image_ids:\n",
    "            break\n",
    "            \n",
    "        train_step_image_ids = mistake_image_ids\n",
    "\n",
    "        "
   ]
  },
  {
   "cell_type": "code",
   "execution_count": 45,
   "id": "cc549286-4674-4011-a93d-24ee0e15c8f1",
   "metadata": {},
   "outputs": [
    {
     "data": {
      "text/plain": [
       "271"
      ]
     },
     "execution_count": 45,
     "metadata": {},
     "output_type": "execute_result"
    }
   ],
   "source": [
    "len(COLUMN.clusters)"
   ]
  },
  {
   "cell_type": "code",
   "execution_count": 39,
   "id": "9ee32737-067b-47ea-9d07-5e67b9e4b801",
   "metadata": {},
   "outputs": [
    {
     "data": {
      "text/html": [
       "<div style=\"\n",
       "        display: grid; \n",
       "        grid-template-columns: repeat(8, 128px);\n",
       "        column-gap: 1px;\n",
       "        row-gap: 1px;\">\n",
       "        \n",
       "            <figure style=\"margin: 5px !important;\">\n",
       "              <img src=\"data:image/png;base64,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\" style=\"height: auto\">\n",
       "              <figcaption style=\"font-size: 0.6em\">clust=91, #9248, val=2</figcaption>\n",
       "            </figure>\n",
       "        \n",
       "            <figure style=\"margin: 5px !important;\">\n",
       "              <img src=\"data:image/png;base64,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\" style=\"height: auto\">\n",
       "              <figcaption style=\"font-size: 0.6em\">clust=91, #55170, val=2</figcaption>\n",
       "            </figure>\n",
       "        \n",
       "            <figure style=\"margin: 5px !important;\">\n",
       "              <img src=\"data:image/png;base64,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\" style=\"height: auto\">\n",
       "              <figcaption style=\"font-size: 0.6em\">clust=91, #4322, val=2</figcaption>\n",
       "            </figure>\n",
       "        \n",
       "            <figure style=\"margin: 5px !important;\">\n",
       "              <img src=\"data:image/png;base64,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\" style=\"height: auto\">\n",
       "              <figcaption style=\"font-size: 0.6em\">clust=91, #38403, val=2</figcaption>\n",
       "            </figure>\n",
       "        \n",
       "            <figure style=\"margin: 5px !important;\">\n",
       "              <img src=\"data:image/png;base64,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\" style=\"height: auto\">\n",
       "              <figcaption style=\"font-size: 0.6em\">clust=91, #42373, val=2</figcaption>\n",
       "            </figure>\n",
       "        \n",
       "            <figure style=\"margin: 5px !important;\">\n",
       "              <img src=\"data:image/png;base64,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\" style=\"height: auto\">\n",
       "              <figcaption style=\"font-size: 0.6em\">clust=91, #38509, val=2</figcaption>\n",
       "            </figure>\n",
       "        \n",
       "            <figure style=\"margin: 5px !important;\">\n",
       "              <img src=\"data:image/png;base64,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\" style=\"height: auto\">\n",
       "              <figcaption style=\"font-size: 0.6em\">clust=91, #36942, val=2</figcaption>\n",
       "            </figure>\n",
       "        \n",
       "            <figure style=\"margin: 5px !important;\">\n",
       "              <img src=\"data:image/png;base64,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\" style=\"height: auto\">\n",
       "              <figcaption style=\"font-size: 0.6em\">clust=91, #13038, val=2</figcaption>\n",
       "            </figure>\n",
       "        \n",
       "            <figure style=\"margin: 5px !important;\">\n",
       "              <img src=\"data:image/png;base64,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\" style=\"height: auto\">\n",
       "              <figcaption style=\"font-size: 0.6em\">clust=91, #29662, val=2</figcaption>\n",
       "            </figure>\n",
       "        \n",
       "    </div>"
      ],
      "text/plain": [
       "<IPython.core.display.HTML object>"
      ]
     },
     "execution_count": 39,
     "metadata": {},
     "output_type": "execute_result"
    }
   ],
   "source": [
    "images = []\n",
    "captions = []\n",
    "\n",
    "if COLUMN.clusters.keys():\n",
    "    random_cluster_i = RNG.choice(list(COLUMN.clusters.keys()))\n",
    "    image_ids = COLUMN.cluster_to_image_ids[random_cluster_i]\n",
    "    df_i = df_train_images.loc[list(image_ids)]\n",
    "    image_datas = df_i['png']\n",
    "    images = [Image.open(io.BytesIO(image_data)) for image_data in image_datas]\n",
    "    captions = list(map(lambda p: f'clust={random_cluster_i}, #{p[0]}, val={p[1]}', zip(df_i.index, df_i['value'])))\n",
    "\n",
    "images = images[:32]\n",
    "captions = captions[:32]\n",
    "display_images_grid(images, captions=captions, col_count=8)"
   ]
  },
  {
   "cell_type": "code",
   "execution_count": 46,
   "id": "dedefb7f-24e7-43ca-91d6-eecc3fbaeb17",
   "metadata": {},
   "outputs": [
    {
     "data": {
      "application/vnd.jupyter.widget-view+json": {
       "model_id": "a60cb88ee10f47f0a388647132da49ea",
       "version_major": 2,
       "version_minor": 0
      },
      "text/plain": [
       "  0%|          | 0/2000 [00:00<?, ?it/s]"
      ]
     },
     "metadata": {},
     "output_type": "display_data"
    }
   ],
   "source": [
    "# TEST RUN\n",
    "TEST_RUN_ID += 1\n",
    "count = 2000\n",
    "test_run_source = (df_test_images, test_db_con, 'test')\n",
    "# test_run_source = (df_train_images, train_db_con, 'train')\n",
    "test_image_ids = RNG.choice(test_run_source[0].index.unique(), count, replace=False)\n",
    "test_result_rows = defaultdict(list)\n",
    "\n",
    "for image_id in tqdm(test_image_ids):\n",
    "    max_cos_sim_index = -1 # aka cluster id\n",
    "    max_similar_cluster_image_value = ''\n",
    "    max_cos_sim = 0\n",
    "\n",
    "    image_value = test_run_source[0].loc[image_id]['value']\n",
    "    df_image_encodings = pd.read_sql('SELECT hdv FROM image_encodings WHERE image_id=:image_id', params={'image_id': int(image_id)}, con=test_run_source[1])\n",
    "    assert len(df_image_encodings) > 0\n",
    "    image_encoding_hdvs = list(map(lambda h: np.frombuffer(h, dtype='b'), df_image_encodings['hdv']))\n",
    "    image_encoding_hdvs_norm = hdc.normalize(image_encoding_hdvs)\n",
    "    image_encoding_hdvs_norm = xp_array_to_gpu(image_encoding_hdvs_norm)\n",
    "\n",
    "    cos_sim_matrix = COLUMN.cluster_norms.array @ image_encoding_hdvs_norm.T\n",
    "    cos_sim_matrix[cos_sim_matrix < COS_SIM_THRESHOLD] = 0\n",
    "    cos_sim_vector = xp_array_from_gpu(xp.sum(cos_sim_matrix, axis=1)) # how each mem recall (sum cos sim) is close to current image\n",
    "    \n",
    "    assert cos_sim_vector.shape == (COLUMN.cluster_norms.array.shape[0],)\n",
    "    cluster_ids_by_match_score = np.argsort(-cos_sim_vector) # sorted desc\n",
    "\n",
    "    if cluster_ids_by_match_score.shape[0] > 0:\n",
    "        cluster_id = cluster_ids_by_match_score[0]\n",
    "        cos_sim_value = cos_sim_vector[cluster_id]\n",
    "\n",
    "        # if cos_sim_value >= COS_SIM_THRESHOLD:\n",
    "        if cos_sim_value > 0:\n",
    "            cluster_image_ids = COLUMN.cluster_to_image_ids[cluster_id]\n",
    "            assert len(cluster_image_ids) > 0\n",
    "            cluster_image_id = next(iter(cluster_image_ids))\n",
    "            cluster_image_value = df_train_images.loc[cluster_image_id]['value']\n",
    "            max_cos_sim_index = cluster_id\n",
    "            max_similar_cluster_image_value = cluster_image_value\n",
    "            max_cos_sim = cos_sim_value\n",
    "    \n",
    "    test_result_rows['source_ds'].append(test_run_source[2])\n",
    "    test_result_rows['test_run_id'].append(TEST_RUN_ID)\n",
    "    test_result_rows['test_image_id'].append(image_id)\n",
    "    test_result_rows['true_value'].append(image_value)\n",
    "    test_result_rows['cluster_id'].append(max_cos_sim_index)\n",
    "    test_result_rows['infer_value'].append(max_similar_cluster_image_value)\n",
    "    test_result_rows['sim'].append(max_cos_sim)\n",
    "    \n",
    "\n",
    "assert set(test_result_rows.keys()) == set(df_test_results.columns)\n",
    "df_test_results_for_run = pd.DataFrame(test_result_rows, columns=df_test_results.columns)\n",
    "concat_list = [df_test_results] if len(df_test_results) > 0 else []\n",
    "concat_list.append(df_test_results_for_run)\n",
    "df_test_results = pd.concat(concat_list, ignore_index=True)"
   ]
  },
  {
   "cell_type": "code",
   "execution_count": 47,
   "id": "9ded612b-96ae-4f3d-a964-d78dcfb19834",
   "metadata": {},
   "outputs": [
    {
     "data": {
      "image/png": "[encoded data removed]",
      "text/plain": [
       "<Figure size 1600x400 with 3 Axes>"
      ]
     },
     "metadata": {},
     "output_type": "display_data"
    },
    {
     "data": {
      "text/html": [
       "<div>\n",
       "<style scoped>\n",
       "    .dataframe tbody tr th:only-of-type {\n",
       "        vertical-align: middle;\n",
       "    }\n",
       "\n",
       "    .dataframe tbody tr th {\n",
       "        vertical-align: top;\n",
       "    }\n",
       "\n",
       "    .dataframe thead th {\n",
       "        text-align: right;\n",
       "    }\n",
       "</style>\n",
       "<table border=\"1\" class=\"dataframe\">\n",
       "  <thead>\n",
       "    <tr style=\"text-align: right;\">\n",
       "      <th></th>\n",
       "      <th>count</th>\n",
       "      <th>infers</th>\n",
       "      <th>correct_infers</th>\n",
       "      <th>infer_ratio</th>\n",
       "      <th>accuracy_count</th>\n",
       "      <th>accuracy_infers</th>\n",
       "    </tr>\n",
       "    <tr>\n",
       "      <th>test_run_id</th>\n",
       "      <th></th>\n",
       "      <th></th>\n",
       "      <th></th>\n",
       "      <th></th>\n",
       "      <th></th>\n",
       "      <th></th>\n",
       "    </tr>\n",
       "  </thead>\n",
       "  <tbody>\n",
       "    <tr>\n",
       "      <th>1</th>\n",
       "      <td>2000</td>\n",
       "      <td>2000</td>\n",
       "      <td>1950</td>\n",
       "      <td>1.0</td>\n",
       "      <td>0.9750</td>\n",
       "      <td>0.9750</td>\n",
       "    </tr>\n",
       "    <tr>\n",
       "      <th>2</th>\n",
       "      <td>2000</td>\n",
       "      <td>2000</td>\n",
       "      <td>1831</td>\n",
       "      <td>1.0</td>\n",
       "      <td>0.9155</td>\n",
       "      <td>0.9155</td>\n",
       "    </tr>\n",
       "    <tr>\n",
       "      <th>3</th>\n",
       "      <td>2000</td>\n",
       "      <td>2000</td>\n",
       "      <td>1973</td>\n",
       "      <td>1.0</td>\n",
       "      <td>0.9865</td>\n",
       "      <td>0.9865</td>\n",
       "    </tr>\n",
       "    <tr>\n",
       "      <th>4</th>\n",
       "      <td>2000</td>\n",
       "      <td>2000</td>\n",
       "      <td>1843</td>\n",
       "      <td>1.0</td>\n",
       "      <td>0.9215</td>\n",
       "      <td>0.9215</td>\n",
       "    </tr>\n",
       "    <tr>\n",
       "      <th>5</th>\n",
       "      <td>2000</td>\n",
       "      <td>2000</td>\n",
       "      <td>1977</td>\n",
       "      <td>1.0</td>\n",
       "      <td>0.9885</td>\n",
       "      <td>0.9885</td>\n",
       "    </tr>\n",
       "    <tr>\n",
       "      <th>6</th>\n",
       "      <td>2000</td>\n",
       "      <td>2000</td>\n",
       "      <td>1858</td>\n",
       "      <td>1.0</td>\n",
       "      <td>0.9290</td>\n",
       "      <td>0.9290</td>\n",
       "    </tr>\n",
       "    <tr>\n",
       "      <th>7</th>\n",
       "      <td>2000</td>\n",
       "      <td>2000</td>\n",
       "      <td>1975</td>\n",
       "      <td>1.0</td>\n",
       "      <td>0.9875</td>\n",
       "      <td>0.9875</td>\n",
       "    </tr>\n",
       "    <tr>\n",
       "      <th>8</th>\n",
       "      <td>2000</td>\n",
       "      <td>2000</td>\n",
       "      <td>1852</td>\n",
       "      <td>1.0</td>\n",
       "      <td>0.9260</td>\n",
       "      <td>0.9260</td>\n",
       "    </tr>\n",
       "    <tr>\n",
       "      <th>9</th>\n",
       "      <td>2000</td>\n",
       "      <td>2000</td>\n",
       "      <td>1852</td>\n",
       "      <td>1.0</td>\n",
       "      <td>0.9260</td>\n",
       "      <td>0.9260</td>\n",
       "    </tr>\n",
       "  </tbody>\n",
       "</table>\n",
       "</div>"
      ],
      "text/plain": [
       "             count  infers  correct_infers  infer_ratio  accuracy_count  \\\n",
       "test_run_id                                                               \n",
       "1             2000    2000            1950          1.0          0.9750   \n",
       "2             2000    2000            1831          1.0          0.9155   \n",
       "3             2000    2000            1973          1.0          0.9865   \n",
       "4             2000    2000            1843          1.0          0.9215   \n",
       "5             2000    2000            1977          1.0          0.9885   \n",
       "6             2000    2000            1858          1.0          0.9290   \n",
       "7             2000    2000            1975          1.0          0.9875   \n",
       "8             2000    2000            1852          1.0          0.9260   \n",
       "9             2000    2000            1852          1.0          0.9260   \n",
       "\n",
       "             accuracy_infers  \n",
       "test_run_id                   \n",
       "1                     0.9750  \n",
       "2                     0.9155  \n",
       "3                     0.9865  \n",
       "4                     0.9215  \n",
       "5                     0.9885  \n",
       "6                     0.9290  \n",
       "7                     0.9875  \n",
       "8                     0.9260  \n",
       "9                     0.9260  "
      ]
     },
     "execution_count": 47,
     "metadata": {},
     "output_type": "execute_result"
    }
   ],
   "source": [
    "df_test_results2 = df_test_results.copy()\n",
    "df_test_results2['is_infer'] = df_test_results2['cluster_id'] > -1\n",
    "df_test_results2['is_correct_infer'] = df_test_results2['true_value'] == df_test_results2['infer_value']\n",
    "df_test_results2 = df_test_results2.groupby(by=['test_run_id']).agg({'test_image_id': 'count', 'is_infer': 'sum', 'is_correct_infer': 'sum'})\n",
    "df_test_results2.rename(columns=dict(test_image_id='count', is_infer='infers', is_correct_infer='correct_infers'), inplace=True, errors='raise')\n",
    "df_test_results2['infer_ratio'] = df_test_results2['infers'] / df_test_results2['count']\n",
    "df_test_results2['accuracy_count'] = df_test_results2['correct_infers'] / df_test_results2['count']\n",
    "df_test_results2['accuracy_infers'] = df_test_results2['correct_infers'] / df_test_results2['infers']\n",
    "\n",
    "plt.figure(figsize=(16, 4))\n",
    "plt.subplot(1, 3, 1)\n",
    "b = plt.bar(list(map(str, df_test_results2.index)), list(df_test_results2['infer_ratio']))\n",
    "plt.bar_label(b, map(lambda p: f'{p*100:.0f}', df_test_results2['infer_ratio']), label_type='center')\n",
    "plt.ylim(0, 1)\n",
    "plt.title('Infers, %')\n",
    "plt.xlabel('Test run')\n",
    "plt.grid()\n",
    "\n",
    "plt.subplot(1, 3, 2)\n",
    "b = plt.bar(list(map(str, df_test_results2.index)), list(df_test_results2['accuracy_count']))\n",
    "plt.bar_label(b, map(lambda p: f'{p*100:.0f}', df_test_results2['accuracy_count']), label_type='center')\n",
    "plt.ylim(0, 1)\n",
    "plt.title('Accuracy (Count), %')\n",
    "plt.xlabel('Test run')\n",
    "plt.grid()\n",
    "\n",
    "plt.subplot(1, 3, 3)\n",
    "b = plt.bar(list(map(str, df_test_results2.index)), list(df_test_results2['accuracy_infers']))\n",
    "plt.bar_label(b, map(lambda p: f'{p*100:.0f}', df_test_results2['accuracy_infers']), label_type='center')\n",
    "plt.ylim(0, 1)\n",
    "plt.title('Accuracy (Infers), %')\n",
    "plt.xlabel('Test run')\n",
    "plt.grid()\n",
    "\n",
    "plt.show()\n",
    "df_test_results2"
   ]
  },
  {
   "cell_type": "code",
   "execution_count": 80,
   "id": "a7f7fd04-f413-47bf-b601-3a9327b61c82",
   "metadata": {},
   "outputs": [
    {
     "data": {
      "text/html": [
       "<div>\n",
       "<style scoped>\n",
       "    .dataframe tbody tr th:only-of-type {\n",
       "        vertical-align: middle;\n",
       "    }\n",
       "\n",
       "    .dataframe tbody tr th {\n",
       "        vertical-align: top;\n",
       "    }\n",
       "\n",
       "    .dataframe thead th {\n",
       "        text-align: right;\n",
       "    }\n",
       "</style>\n",
       "<table border=\"1\" class=\"dataframe\">\n",
       "  <thead>\n",
       "    <tr style=\"text-align: right;\">\n",
       "      <th></th>\n",
       "      <th>test_run_id</th>\n",
       "      <th>test_image_id</th>\n",
       "      <th>true_value</th>\n",
       "      <th>cluster_id</th>\n",
       "      <th>cluster_value</th>\n",
       "      <th>sim</th>\n",
       "    </tr>\n",
       "  </thead>\n",
       "  <tbody>\n",
       "    <tr>\n",
       "      <th>0</th>\n",
       "      <td>4</td>\n",
       "      <td>50714</td>\n",
       "      <td>8</td>\n",
       "      <td>7</td>\n",
       "      <td>3</td>\n",
       "      <td>4.746327</td>\n",
       "    </tr>\n",
       "    <tr>\n",
       "      <th>1</th>\n",
       "      <td>4</td>\n",
       "      <td>50714</td>\n",
       "      <td>8</td>\n",
       "      <td>25</td>\n",
       "      <td>5</td>\n",
       "      <td>4.530153</td>\n",
       "    </tr>\n",
       "    <tr>\n",
       "      <th>2</th>\n",
       "      <td>4</td>\n",
       "      <td>50714</td>\n",
       "      <td>8</td>\n",
       "      <td>116</td>\n",
       "      <td>3</td>\n",
       "      <td>4.209261</td>\n",
       "    </tr>\n",
       "    <tr>\n",
       "      <th>3</th>\n",
       "      <td>4</td>\n",
       "      <td>50714</td>\n",
       "      <td>8</td>\n",
       "      <td>2</td>\n",
       "      <td>0</td>\n",
       "      <td>4.037438</td>\n",
       "    </tr>\n",
       "    <tr>\n",
       "      <th>4</th>\n",
       "      <td>4</td>\n",
       "      <td>50714</td>\n",
       "      <td>8</td>\n",
       "      <td>235</td>\n",
       "      <td>8</td>\n",
       "      <td>3.949721</td>\n",
       "    </tr>\n",
       "    <tr>\n",
       "      <th>5</th>\n",
       "      <td>4</td>\n",
       "      <td>50714</td>\n",
       "      <td>8</td>\n",
       "      <td>6</td>\n",
       "      <td>5</td>\n",
       "      <td>3.851814</td>\n",
       "    </tr>\n",
       "    <tr>\n",
       "      <th>6</th>\n",
       "      <td>4</td>\n",
       "      <td>50714</td>\n",
       "      <td>8</td>\n",
       "      <td>374</td>\n",
       "      <td>3</td>\n",
       "      <td>3.809770</td>\n",
       "    </tr>\n",
       "    <tr>\n",
       "      <th>7</th>\n",
       "      <td>4</td>\n",
       "      <td>50714</td>\n",
       "      <td>8</td>\n",
       "      <td>324</td>\n",
       "      <td>3</td>\n",
       "      <td>3.416562</td>\n",
       "    </tr>\n",
       "    <tr>\n",
       "      <th>8</th>\n",
       "      <td>4</td>\n",
       "      <td>50714</td>\n",
       "      <td>8</td>\n",
       "      <td>60</td>\n",
       "      <td>0</td>\n",
       "      <td>3.321664</td>\n",
       "    </tr>\n",
       "    <tr>\n",
       "      <th>9</th>\n",
       "      <td>4</td>\n",
       "      <td>50714</td>\n",
       "      <td>8</td>\n",
       "      <td>68</td>\n",
       "      <td>8</td>\n",
       "      <td>3.160940</td>\n",
       "    </tr>\n",
       "  </tbody>\n",
       "</table>\n",
       "</div>"
      ],
      "text/plain": [
       "   test_run_id  test_image_id true_value  cluster_id cluster_value       sim\n",
       "0            4          50714          8           7             3  4.746327\n",
       "1            4          50714          8          25             5  4.530153\n",
       "2            4          50714          8         116             3  4.209261\n",
       "3            4          50714          8           2             0  4.037438\n",
       "4            4          50714          8         235             8  3.949721\n",
       "5            4          50714          8           6             5  3.851814\n",
       "6            4          50714          8         374             3  3.809770\n",
       "7            4          50714          8         324             3  3.416562\n",
       "8            4          50714          8          60             0  3.321664\n",
       "9            4          50714          8          68             8  3.160940"
      ]
     },
     "execution_count": 80,
     "metadata": {},
     "output_type": "execute_result"
    }
   ],
   "source": [
    "df_test_results_incorrect_infers = df_test_results_for_run[df_test_results_for_run['true_value'] != df_test_results_for_run['infer_value']]\n",
    "incorrect_infer_row_index = RNG.choice(df_test_results_incorrect_infers.index.unique())\n",
    "test_run_id = df_test_results_incorrect_infers.loc[incorrect_infer_row_index]['test_run_id']\n",
    "incorrect_infer_image_id = df_test_results_incorrect_infers.loc[incorrect_infer_row_index]['test_image_id']\n",
    "image_data = test_run_source[0].loc[incorrect_infer_image_id]['png']\n",
    "image_value = test_run_source[0].loc[incorrect_infer_image_id]['value']\n",
    "\n",
    "df_x = pd.DataFrame(columns=['test_run_id', 'test_image_id', 'true_value', 'cluster_id', 'cluster_value', 'sim'])\n",
    "df_image_encodings = pd.read_sql('SELECT hdv FROM image_encodings WHERE image_id=:image_id', params={'image_id': int(incorrect_infer_image_id)}, con=test_run_source[1])\n",
    "assert len(df_image_encodings) > 0\n",
    "image_encoding_hdvs = list(map(lambda h: np.frombuffer(h, dtype='b'), df_image_encodings['hdv']))\n",
    "image_encoding_hdvs_norm = hdc.normalize(image_encoding_hdvs)\n",
    "image_encoding_hdvs_norm = xp_array_to_gpu(image_encoding_hdvs_norm)\n",
    "\n",
    "cos_sim_matrix = COLUMN.cluster_norms.array @ image_encoding_hdvs_norm.T\n",
    "cos_sim_matrix[cos_sim_matrix < COS_SIM_THRESHOLD] = 0\n",
    "cos_sim_vector = xp_array_from_gpu(xp.sum(cos_sim_matrix, axis=1)) # how each mem recall (sum cos sim) is close to current image\n",
    "\n",
    "assert cos_sim_vector.shape == (COLUMN.cluster_norms.array.shape[0],)\n",
    "cluster_ids_by_match_score = np.argsort(-cos_sim_vector) # sorted desc\n",
    "\n",
    "for pos, cluster_id in enumerate(cluster_ids_by_match_score):\n",
    "    cos_sim_value = cos_sim_vector[cluster_id]\n",
    "\n",
    "    if cos_sim_value <= 0:\n",
    "        break\n",
    "        \n",
    "    cluster_image_ids = COLUMN.cluster_to_image_ids[cluster_id]\n",
    "    assert len(cluster_image_ids) > 0\n",
    "    cluster_image_id = next(iter(cluster_image_ids))\n",
    "    cluster_image_value = df_train_images.loc[cluster_image_id]['value'] # exactly from train! (i.e. we look for prototype in train data)\n",
    "    df_x.loc[len(df_x)] = [test_run_id, incorrect_infer_image_id, image_value, cluster_id, cluster_image_value, cos_sim_value]\n",
    "\n",
    "df_x.sort_values(by='sim', ascending=False).head(10)"
   ]
  },
  {
   "cell_type": "code",
   "execution_count": 81,
   "id": "5ff3a026-80df-4d27-af26-5939c7a1ae64",
   "metadata": {},
   "outputs": [
    {
     "data": {
      "text/html": [
       "\n",
       "        <div style=\"display: flex; flex-flow: row wrap; text-align: center;\">\n",
       "        \n",
       "            <figure style=\"margin: 5px !important;\">\n",
       "              <img src=\"data:image/png;base64,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\" style=\"height: auto\">\n",
       "              <figcaption style=\"font-size: 0.6em\">8</figcaption>\n",
       "            </figure>\n",
       "        \n",
       "        </div>\n",
       "    "
      ],
      "text/plain": [
       "<IPython.core.display.HTML object>"
      ]
     },
     "execution_count": 81,
     "metadata": {},
     "output_type": "execute_result"
    }
   ],
   "source": [
    "image_data = test_run_source[0].loc[incorrect_infer_image_id]['png']\n",
    "image = Image.open(io.BytesIO(image_data))\n",
    "label = test_run_source[0].loc[incorrect_infer_image_id]['value']\n",
    "display_images([image], captions=[label])"
   ]
  },
  {
   "cell_type": "code",
   "execution_count": 59,
   "id": "0c9b40bc-7e09-40a6-947b-090d0ef463a2",
   "metadata": {},
   "outputs": [
    {
     "data": {
      "text/html": [
       "<div>\n",
       "<style scoped>\n",
       "    .dataframe tbody tr th:only-of-type {\n",
       "        vertical-align: middle;\n",
       "    }\n",
       "\n",
       "    .dataframe tbody tr th {\n",
       "        vertical-align: top;\n",
       "    }\n",
       "\n",
       "    .dataframe thead th {\n",
       "        text-align: right;\n",
       "    }\n",
       "</style>\n",
       "<table border=\"1\" class=\"dataframe\">\n",
       "  <thead>\n",
       "    <tr style=\"text-align: right;\">\n",
       "      <th></th>\n",
       "      <th>cluster_value</th>\n",
       "      <th>sim</th>\n",
       "      <th>true_value</th>\n",
       "    </tr>\n",
       "    <tr>\n",
       "      <th>cluster_id</th>\n",
       "      <th></th>\n",
       "      <th></th>\n",
       "      <th></th>\n",
       "    </tr>\n",
       "  </thead>\n",
       "  <tbody>\n",
       "    <tr>\n",
       "      <th>0</th>\n",
       "      <td>9</td>\n",
       "      <td>1.046799</td>\n",
       "      <td>9</td>\n",
       "    </tr>\n",
       "    <tr>\n",
       "      <th>249</th>\n",
       "      <td>7</td>\n",
       "      <td>1.044467</td>\n",
       "      <td>9</td>\n",
       "    </tr>\n",
       "    <tr>\n",
       "      <th>2</th>\n",
       "      <td>0</td>\n",
       "      <td>0.917181</td>\n",
       "      <td>9</td>\n",
       "    </tr>\n",
       "    <tr>\n",
       "      <th>226</th>\n",
       "      <td>9</td>\n",
       "      <td>0.548626</td>\n",
       "      <td>9</td>\n",
       "    </tr>\n",
       "    <tr>\n",
       "      <th>336</th>\n",
       "      <td>5</td>\n",
       "      <td>0.211032</td>\n",
       "      <td>9</td>\n",
       "    </tr>\n",
       "    <tr>\n",
       "      <th>192</th>\n",
       "      <td>5</td>\n",
       "      <td>0.12110580995225514</td>\n",
       "      <td>9</td>\n",
       "    </tr>\n",
       "    <tr>\n",
       "      <th>80</th>\n",
       "      <td>3</td>\n",
       "      <td>0.11793649906498342</td>\n",
       "      <td>9</td>\n",
       "    </tr>\n",
       "    <tr>\n",
       "      <th>104</th>\n",
       "      <td>3</td>\n",
       "      <td>0.10544239126778956</td>\n",
       "      <td>9</td>\n",
       "    </tr>\n",
       "    <tr>\n",
       "      <th>254</th>\n",
       "      <td>0</td>\n",
       "      <td>0.10111251713129436</td>\n",
       "      <td>9</td>\n",
       "    </tr>\n",
       "    <tr>\n",
       "      <th>41</th>\n",
       "      <td>5</td>\n",
       "      <td>0.09996525987493804</td>\n",
       "      <td>9</td>\n",
       "    </tr>\n",
       "    <tr>\n",
       "      <th>193</th>\n",
       "      <td>8</td>\n",
       "      <td>0.09824196236120111</td>\n",
       "      <td>9</td>\n",
       "    </tr>\n",
       "    <tr>\n",
       "      <th>23</th>\n",
       "      <td>0</td>\n",
       "      <td>0.08635478341512487</td>\n",
       "      <td>9</td>\n",
       "    </tr>\n",
       "    <tr>\n",
       "      <th>31</th>\n",
       "      <td>9</td>\n",
       "      <td>0.08568250457985543</td>\n",
       "      <td>9</td>\n",
       "    </tr>\n",
       "  </tbody>\n",
       "</table>\n",
       "</div>"
      ],
      "text/plain": [
       "           cluster_value                  sim true_value\n",
       "cluster_id                                              \n",
       "0                      9             1.046799          9\n",
       "249                    7             1.044467          9\n",
       "2                      0             0.917181          9\n",
       "226                    9             0.548626          9\n",
       "336                    5             0.211032          9\n",
       "192                    5  0.12110580995225514          9\n",
       "80                     3  0.11793649906498342          9\n",
       "104                    3  0.10544239126778956          9\n",
       "254                    0  0.10111251713129436          9\n",
       "41                     5  0.09996525987493804          9\n",
       "193                    8  0.09824196236120111          9\n",
       "23                     0  0.08635478341512487          9\n",
       "31                     9  0.08568250457985543          9"
      ]
     },
     "execution_count": 59,
     "metadata": {},
     "output_type": "execute_result"
    }
   ],
   "source": [
    "df_x_pivot = pd.pivot_table(df_x, index='cluster_id', \n",
    "                            values=['true_value', 'cluster_value', 'sim'], \n",
    "                            aggfunc=dict(cluster_value='first', true_value='first', sim='sum'))\n",
    "df_x_pivot.sort_values(by='sim', ascending=False)"
   ]
  },
  {
   "cell_type": "code",
   "execution_count": null,
   "id": "4b970735-532f-4a82-adfa-2df3f534203b",
   "metadata": {},
   "outputs": [],
   "source": []
  },
  {
   "cell_type": "code",
   "execution_count": 60,
   "id": "13076351-aaf9-4ef1-9e86-a77ee51ab0c0",
   "metadata": {},
   "outputs": [
    {
     "data": {
      "text/html": [
       "<div>\n",
       "<style scoped>\n",
       "    .dataframe tbody tr th:only-of-type {\n",
       "        vertical-align: middle;\n",
       "    }\n",
       "\n",
       "    .dataframe tbody tr th {\n",
       "        vertical-align: top;\n",
       "    }\n",
       "\n",
       "    .dataframe thead th {\n",
       "        text-align: right;\n",
       "    }\n",
       "</style>\n",
       "<table border=\"1\" class=\"dataframe\">\n",
       "  <thead>\n",
       "    <tr style=\"text-align: right;\">\n",
       "      <th></th>\n",
       "      <th>cluster_value</th>\n",
       "      <th>sim</th>\n",
       "      <th>true_value</th>\n",
       "    </tr>\n",
       "    <tr>\n",
       "      <th>cluster_id</th>\n",
       "      <th></th>\n",
       "      <th></th>\n",
       "      <th></th>\n",
       "    </tr>\n",
       "  </thead>\n",
       "  <tbody>\n",
       "    <tr>\n",
       "      <th>0</th>\n",
       "      <td>9</td>\n",
       "      <td>0.13774479351577515</td>\n",
       "      <td>9</td>\n",
       "    </tr>\n",
       "    <tr>\n",
       "      <th>249</th>\n",
       "      <td>7</td>\n",
       "      <td>0.1341514822666483</td>\n",
       "      <td>9</td>\n",
       "    </tr>\n",
       "    <tr>\n",
       "      <th>2</th>\n",
       "      <td>0</td>\n",
       "      <td>0.13210493575102844</td>\n",
       "      <td>9</td>\n",
       "    </tr>\n",
       "    <tr>\n",
       "      <th>226</th>\n",
       "      <td>9</td>\n",
       "      <td>0.1267169300539585</td>\n",
       "      <td>9</td>\n",
       "    </tr>\n",
       "    <tr>\n",
       "      <th>192</th>\n",
       "      <td>5</td>\n",
       "      <td>0.12110580995225514</td>\n",
       "      <td>9</td>\n",
       "    </tr>\n",
       "    <tr>\n",
       "      <th>80</th>\n",
       "      <td>3</td>\n",
       "      <td>0.11793649906498342</td>\n",
       "      <td>9</td>\n",
       "    </tr>\n",
       "    <tr>\n",
       "      <th>336</th>\n",
       "      <td>5</td>\n",
       "      <td>0.10593183890130904</td>\n",
       "      <td>9</td>\n",
       "    </tr>\n",
       "    <tr>\n",
       "      <th>104</th>\n",
       "      <td>3</td>\n",
       "      <td>0.10544239126778956</td>\n",
       "      <td>9</td>\n",
       "    </tr>\n",
       "    <tr>\n",
       "      <th>254</th>\n",
       "      <td>0</td>\n",
       "      <td>0.10111251713129436</td>\n",
       "      <td>9</td>\n",
       "    </tr>\n",
       "    <tr>\n",
       "      <th>41</th>\n",
       "      <td>5</td>\n",
       "      <td>0.09996525987493804</td>\n",
       "      <td>9</td>\n",
       "    </tr>\n",
       "    <tr>\n",
       "      <th>193</th>\n",
       "      <td>8</td>\n",
       "      <td>0.09824196236120111</td>\n",
       "      <td>9</td>\n",
       "    </tr>\n",
       "    <tr>\n",
       "      <th>23</th>\n",
       "      <td>0</td>\n",
       "      <td>0.08635478341512487</td>\n",
       "      <td>9</td>\n",
       "    </tr>\n",
       "    <tr>\n",
       "      <th>31</th>\n",
       "      <td>9</td>\n",
       "      <td>0.08568250457985543</td>\n",
       "      <td>9</td>\n",
       "    </tr>\n",
       "  </tbody>\n",
       "</table>\n",
       "</div>"
      ],
      "text/plain": [
       "           cluster_value                  sim true_value\n",
       "cluster_id                                              \n",
       "0                      9  0.13774479351577515          9\n",
       "249                    7   0.1341514822666483          9\n",
       "2                      0  0.13210493575102844          9\n",
       "226                    9   0.1267169300539585          9\n",
       "192                    5  0.12110580995225514          9\n",
       "80                     3  0.11793649906498342          9\n",
       "336                    5  0.10593183890130904          9\n",
       "104                    3  0.10544239126778956          9\n",
       "254                    0  0.10111251713129436          9\n",
       "41                     5  0.09996525987493804          9\n",
       "193                    8  0.09824196236120111          9\n",
       "23                     0  0.08635478341512487          9\n",
       "31                     9  0.08568250457985543          9"
      ]
     },
     "execution_count": 60,
     "metadata": {},
     "output_type": "execute_result"
    }
   ],
   "source": [
    "df_x_pivot = pd.pivot_table(df_x, index='cluster_id', \n",
    "                            values=['true_value', 'cluster_value', 'sim'], \n",
    "                            aggfunc=dict(cluster_value='first', true_value='first', sim='max'))\n",
    "df_x_pivot.sort_values(by='sim', ascending=False)"
   ]
  },
  {
   "cell_type": "code",
   "execution_count": 62,
   "id": "741528e7-cb1b-4583-93eb-c9c8425c70be",
   "metadata": {},
   "outputs": [
    {
     "data": {
      "text/plain": [
       "np.int64(4)"
      ]
     },
     "execution_count": 62,
     "metadata": {},
     "output_type": "execute_result"
    }
   ],
   "source": [
    "df_test_results_incorrect_infers.loc[incorrect_infer_row_index]['test_run_id']"
   ]
  },
  {
   "cell_type": "code",
   "execution_count": 63,
   "id": "75cc7cda-ca51-48b0-8fd1-b21a9244fcb5",
   "metadata": {},
   "outputs": [
    {
     "data": {
      "text/plain": [
       "np.int64(1312)"
      ]
     },
     "execution_count": 63,
     "metadata": {},
     "output_type": "execute_result"
    }
   ],
   "source": [
    "incorrect_infer_row_index"
   ]
  },
  {
   "cell_type": "code",
   "execution_count": null,
   "id": "173a27b8-9f22-47c0-a23a-ca3669ac1222",
   "metadata": {},
   "outputs": [],
   "source": []
  }
 ],
 "metadata": {
  "kernelspec": {
   "display_name": "Python 3 (ipykernel)",
   "language": "python",
   "name": "python3"
  },
  "language_info": {
   "codemirror_mode": {
    "name": "ipython",
    "version": 3
   },
   "file_extension": ".py",
   "mimetype": "text/x-python",
   "name": "python",
   "nbconvert_exporter": "python",
   "pygments_lexer": "ipython3",
   "version": "3.12.2"
  }
 },
 "nbformat": 4,
 "nbformat_minor": 5
}
