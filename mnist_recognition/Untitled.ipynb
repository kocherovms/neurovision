{
 "cells": [
  {
   "cell_type": "code",
   "execution_count": 69,
   "id": "1a94d986-51f6-4c40-bda7-09b5a6549362",
   "metadata": {},
   "outputs": [
    {
     "name": "stdout",
     "output_type": "stream",
     "text": [
      "max x = 343, zeros_count = 73\n"
     ]
    }
   ],
   "source": [
    "import pandas as pd\n",
    "\n",
    "def get_repr_in_7_base(v):\n",
    "    repr = ''\n",
    "    v2 = v\n",
    "    \n",
    "    while v2 >= 7:\n",
    "        remainder = v2 % 7\n",
    "        v2 = v2 // 7\n",
    "        repr = repr + str(remainder)\n",
    "\n",
    "    return str(v2) + repr\n",
    "\n",
    "base_v = 7 ** 170 + 7 ** 100\n",
    "max_zeros_count = 0\n",
    "max_x = 0\n",
    "df = pd.DataFrame(columns=['x', 'repr', 'zeros_count'])\n",
    "\n",
    "for x in range(1, 2030):\n",
    "    v = base_v - x\n",
    "    v = get_repr_in_7_base(v)\n",
    "    zeros_count = len(''.join(map(lambda x: x if x == '0' else '',  v)))\n",
    "\n",
    "    if zeros_count > max_zeros_count:\n",
    "        max_zeros_count = zeros_count\n",
    "        max_x = x\n",
    "\n",
    "    df.loc[len(df)] = [x, v, zeros_count]\n",
    "\n",
    "print(f'max x = {max_x}, zeros_count = {max_zeros_count}')"
   ]
  },
  {
   "cell_type": "code",
   "execution_count": 61,
   "id": "3102ff55-affb-4b67-ab29-4e873ba37049",
   "metadata": {},
   "outputs": [
    {
     "data": {
      "text/plain": [
       "73"
      ]
     },
     "execution_count": 61,
     "metadata": {},
     "output_type": "execute_result"
    }
   ],
   "source": [
    "v = base_v - 1715\n",
    "v = get_repr_in_7_base(v)\n",
    "len(''.join(map(lambda x: '.' if x == '0' else '',  v)))"
   ]
  },
  {
   "cell_type": "code",
   "execution_count": 67,
   "id": "1dc2f7a9-e499-4572-9394-3528481a1316",
   "metadata": {},
   "outputs": [
    {
     "data": {
      "text/plain": [
       "'66'"
      ]
     },
     "execution_count": 67,
     "metadata": {},
     "output_type": "execute_result"
    }
   ],
   "source": [
    "get_repr_in_7_base(48)"
   ]
  },
  {
   "cell_type": "code",
   "execution_count": 70,
   "id": "d429693c-685a-4ae1-9b0b-77a00bb29a58",
   "metadata": {},
   "outputs": [
    {
     "data": {
      "text/html": [
       "<div>\n",
       "<style scoped>\n",
       "    .dataframe tbody tr th:only-of-type {\n",
       "        vertical-align: middle;\n",
       "    }\n",
       "\n",
       "    .dataframe tbody tr th {\n",
       "        vertical-align: top;\n",
       "    }\n",
       "\n",
       "    .dataframe thead th {\n",
       "        text-align: right;\n",
       "    }\n",
       "</style>\n",
       "<table border=\"1\" class=\"dataframe\">\n",
       "  <thead>\n",
       "    <tr style=\"text-align: right;\">\n",
       "      <th></th>\n",
       "      <th>x</th>\n",
       "      <th>repr</th>\n",
       "      <th>zeros_count</th>\n",
       "    </tr>\n",
       "  </thead>\n",
       "  <tbody>\n",
       "    <tr>\n",
       "      <th>0</th>\n",
       "      <td>1</td>\n",
       "      <td>1666666666666666666666666666666666666666666666...</td>\n",
       "      <td>70</td>\n",
       "    </tr>\n",
       "    <tr>\n",
       "      <th>1</th>\n",
       "      <td>2</td>\n",
       "      <td>1566666666666666666666666666666666666666666666...</td>\n",
       "      <td>70</td>\n",
       "    </tr>\n",
       "    <tr>\n",
       "      <th>2</th>\n",
       "      <td>3</td>\n",
       "      <td>1466666666666666666666666666666666666666666666...</td>\n",
       "      <td>70</td>\n",
       "    </tr>\n",
       "    <tr>\n",
       "      <th>3</th>\n",
       "      <td>4</td>\n",
       "      <td>1366666666666666666666666666666666666666666666...</td>\n",
       "      <td>70</td>\n",
       "    </tr>\n",
       "    <tr>\n",
       "      <th>4</th>\n",
       "      <td>5</td>\n",
       "      <td>1266666666666666666666666666666666666666666666...</td>\n",
       "      <td>70</td>\n",
       "    </tr>\n",
       "    <tr>\n",
       "      <th>...</th>\n",
       "      <td>...</td>\n",
       "      <td>...</td>\n",
       "      <td>...</td>\n",
       "    </tr>\n",
       "    <tr>\n",
       "      <th>2024</th>\n",
       "      <td>2025</td>\n",
       "      <td>1540166666666666666666666666666666666666666666...</td>\n",
       "      <td>71</td>\n",
       "    </tr>\n",
       "    <tr>\n",
       "      <th>2025</th>\n",
       "      <td>2026</td>\n",
       "      <td>1440166666666666666666666666666666666666666666...</td>\n",
       "      <td>71</td>\n",
       "    </tr>\n",
       "    <tr>\n",
       "      <th>2026</th>\n",
       "      <td>2027</td>\n",
       "      <td>1340166666666666666666666666666666666666666666...</td>\n",
       "      <td>71</td>\n",
       "    </tr>\n",
       "    <tr>\n",
       "      <th>2027</th>\n",
       "      <td>2028</td>\n",
       "      <td>1240166666666666666666666666666666666666666666...</td>\n",
       "      <td>71</td>\n",
       "    </tr>\n",
       "    <tr>\n",
       "      <th>2028</th>\n",
       "      <td>2029</td>\n",
       "      <td>1140166666666666666666666666666666666666666666...</td>\n",
       "      <td>71</td>\n",
       "    </tr>\n",
       "  </tbody>\n",
       "</table>\n",
       "<p>2029 rows × 3 columns</p>\n",
       "</div>"
      ],
      "text/plain": [
       "         x                                               repr  zeros_count\n",
       "0        1  1666666666666666666666666666666666666666666666...           70\n",
       "1        2  1566666666666666666666666666666666666666666666...           70\n",
       "2        3  1466666666666666666666666666666666666666666666...           70\n",
       "3        4  1366666666666666666666666666666666666666666666...           70\n",
       "4        5  1266666666666666666666666666666666666666666666...           70\n",
       "...    ...                                                ...          ...\n",
       "2024  2025  1540166666666666666666666666666666666666666666...           71\n",
       "2025  2026  1440166666666666666666666666666666666666666666...           71\n",
       "2026  2027  1340166666666666666666666666666666666666666666...           71\n",
       "2027  2028  1240166666666666666666666666666666666666666666...           71\n",
       "2028  2029  1140166666666666666666666666666666666666666666...           71\n",
       "\n",
       "[2029 rows x 3 columns]"
      ]
     },
     "execution_count": 70,
     "metadata": {},
     "output_type": "execute_result"
    }
   ],
   "source": [
    "df"
   ]
  }
 ],
 "metadata": {
  "kernelspec": {
   "display_name": "Python 3 (ipykernel)",
   "language": "python",
   "name": "python3"
  },
  "language_info": {
   "codemirror_mode": {
    "name": "ipython",
    "version": 3
   },
   "file_extension": ".py",
   "mimetype": "text/x-python",
   "name": "python",
   "nbconvert_exporter": "python",
   "pygments_lexer": "ipython3",
   "version": "3.12.2"
  }
 },
 "nbformat": 4,
 "nbformat_minor": 5
}
