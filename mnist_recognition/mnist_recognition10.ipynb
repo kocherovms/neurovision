{
 "cells": [
  {
   "cell_type": "code",
   "execution_count": 2,
   "id": "27532844-1826-4299-b063-16a22e592f3f",
   "metadata": {},
   "outputs": [],
   "source": [
    "import os, math\n",
    "from collections import defaultdict\n",
    "import itertools\n",
    "import sqlite3\n",
    "\n",
    "import logging\n",
    "import logging.handlers\n",
    "\n",
    "from PIL import Image, ImageDraw\n",
    "from tqdm.notebook import tqdm\n",
    "\n",
    "from sklearn.model_selection import train_test_split\n",
    "import matplotlib.pyplot as plt\n",
    "import scipy\n",
    "import numpy as np\n",
    "import cupy as cp\n",
    "import pandas as pd\n",
    "\n",
    "from utils import *\n",
    "from hdc import *"
   ]
  },
  {
   "cell_type": "code",
   "execution_count": 3,
   "id": "73358262-adf2-4d17-a383-f120a5d1f8aa",
   "metadata": {},
   "outputs": [
    {
     "name": "stdout",
     "output_type": "stream",
     "text": [
      "xp = cupy\n"
     ]
    }
   ],
   "source": [
    "config = Config('SQLITE3')\n",
    "RNG = np.random.default_rng()\n",
    "\n",
    "if cp.cuda.is_available():\n",
    "    device_marker = cp.empty(1)\n",
    "    xp_array_from_gpu = lambda a: a.get() if isinstance(a, cp.ndarray) else a\n",
    "    xp_array_to_gpu = lambda a: cp.asarray(a) if isinstance(a, np.ndarray) else a\n",
    "else:\n",
    "    device_marker = np.empty(1)\n",
    "    xp_array_from_gpu = lambda a: a\n",
    "    xp_array_to_gpu = lambda a: a\n",
    "    \n",
    "xp = cp.get_array_module(device_marker)\n",
    "print(f'xp = {xp.__name__}')\n",
    "\n",
    "log = logging.getLogger('kmslog')\n",
    "log.setLevel(logging.DEBUG)\n",
    "\n",
    "if not log.hasHandlers():\n",
    "    log.addHandler(logging.handlers.SysLogHandler(address = '/dev/log', facility=logging.handlers.SysLogHandler.LOG_LOCAL0))\n",
    "\n",
    "train_db_con = sqlite3.connect(os.path.join(config.dataset_path, config.train_db_file_name))\n",
    "test_db_con = sqlite3.connect(os.path.join(config.dataset_path, config.test_db_file_name))"
   ]
  },
  {
   "cell_type": "code",
   "execution_count": 4,
   "id": "d2dd62ab-b44e-4251-9e86-d41b3672e36e",
   "metadata": {},
   "outputs": [
    {
     "name": "stdout",
     "output_type": "stream",
     "text": [
      "CPU times: user 2 μs, sys: 1e+03 ns, total: 3 μs\n",
      "Wall time: 4.05 μs\n"
     ]
    },
    {
     "data": {
      "text/plain": [
       "((10000, 3), (2000, 3))"
      ]
     },
     "execution_count": 4,
     "metadata": {},
     "output_type": "execute_result"
    }
   ],
   "source": [
    "%time\n",
    "df_train_images = pd.read_sql_query('SELECT * FROM images', con=train_db_con, index_col='image_id')\n",
    "df_test_images = pd.read_sql_query('SELECT * FROM images', con=test_db_con, index_col='image_id')\n",
    "df_train_images.shape, df_test_images.shape"
   ]
  },
  {
   "cell_type": "code",
   "execution_count": 5,
   "id": "75910c5d-054d-43c0-9a34-125ecde5a068",
   "metadata": {},
   "outputs": [
    {
     "data": {
      "text/html": [
       "<div>\n",
       "<style scoped>\n",
       "    .dataframe tbody tr th:only-of-type {\n",
       "        vertical-align: middle;\n",
       "    }\n",
       "\n",
       "    .dataframe tbody tr th {\n",
       "        vertical-align: top;\n",
       "    }\n",
       "\n",
       "    .dataframe thead th {\n",
       "        text-align: right;\n",
       "    }\n",
       "</style>\n",
       "<table border=\"1\" class=\"dataframe\">\n",
       "  <thead>\n",
       "    <tr style=\"text-align: right;\">\n",
       "      <th></th>\n",
       "      <th>index</th>\n",
       "      <th>value</th>\n",
       "      <th>png</th>\n",
       "    </tr>\n",
       "    <tr>\n",
       "      <th>image_id</th>\n",
       "      <th></th>\n",
       "      <th></th>\n",
       "      <th></th>\n",
       "    </tr>\n",
       "  </thead>\n",
       "  <tbody>\n",
       "    <tr>\n",
       "      <th>27456</th>\n",
       "      <td>0</td>\n",
       "      <td>2</td>\n",
       "      <td>b'\\x89PNG\\r\\n\\x1a\\n\\x00\\x00\\x00\\rIHDR\\x00\\x00\\...</td>\n",
       "    </tr>\n",
       "    <tr>\n",
       "      <th>50770</th>\n",
       "      <td>1</td>\n",
       "      <td>3</td>\n",
       "      <td>b'\\x89PNG\\r\\n\\x1a\\n\\x00\\x00\\x00\\rIHDR\\x00\\x00\\...</td>\n",
       "    </tr>\n",
       "    <tr>\n",
       "      <th>9353</th>\n",
       "      <td>2</td>\n",
       "      <td>4</td>\n",
       "      <td>b'\\x89PNG\\r\\n\\x1a\\n\\x00\\x00\\x00\\rIHDR\\x00\\x00\\...</td>\n",
       "    </tr>\n",
       "    <tr>\n",
       "      <th>50328</th>\n",
       "      <td>3</td>\n",
       "      <td>0</td>\n",
       "      <td>b'\\x89PNG\\r\\n\\x1a\\n\\x00\\x00\\x00\\rIHDR\\x00\\x00\\...</td>\n",
       "    </tr>\n",
       "    <tr>\n",
       "      <th>18785</th>\n",
       "      <td>4</td>\n",
       "      <td>3</td>\n",
       "      <td>b'\\x89PNG\\r\\n\\x1a\\n\\x00\\x00\\x00\\rIHDR\\x00\\x00\\...</td>\n",
       "    </tr>\n",
       "  </tbody>\n",
       "</table>\n",
       "</div>"
      ],
      "text/plain": [
       "          index value                                                png\n",
       "image_id                                                                \n",
       "27456         0     2  b'\\x89PNG\\r\\n\\x1a\\n\\x00\\x00\\x00\\rIHDR\\x00\\x00\\...\n",
       "50770         1     3  b'\\x89PNG\\r\\n\\x1a\\n\\x00\\x00\\x00\\rIHDR\\x00\\x00\\...\n",
       "9353          2     4  b'\\x89PNG\\r\\n\\x1a\\n\\x00\\x00\\x00\\rIHDR\\x00\\x00\\...\n",
       "50328         3     0  b'\\x89PNG\\r\\n\\x1a\\n\\x00\\x00\\x00\\rIHDR\\x00\\x00\\...\n",
       "18785         4     3  b'\\x89PNG\\r\\n\\x1a\\n\\x00\\x00\\x00\\rIHDR\\x00\\x00\\..."
      ]
     },
     "execution_count": 5,
     "metadata": {},
     "output_type": "execute_result"
    }
   ],
   "source": [
    "df_train_images.head()"
   ]
  },
  {
   "cell_type": "code",
   "execution_count": 6,
   "id": "b5a3b4ca-998d-4309-8499-d868b00ef9be",
   "metadata": {},
   "outputs": [],
   "source": [
    "def matrix_to_image(m):\n",
    "    m = m.ravel()\n",
    "    sz = int(np.sqrt(m.shape[0]))\n",
    "    assert sz * sz == m.shape[0]\n",
    "    return Image.frombytes('L', size=(sz, sz), data=m.astype('b'))"
   ]
  },
  {
   "cell_type": "code",
   "execution_count": 7,
   "id": "bc06ecb2-5ba8-4669-9dd9-17624127b081",
   "metadata": {},
   "outputs": [],
   "source": [
    "def lay_grid(image, step):\n",
    "    draw = ImageDraw.Draw(image)\n",
    "\n",
    "    for c in range(step - 1, image.height, step):\n",
    "        draw.line([0, c, image.width, c], fill=127)\n",
    "        draw.line([c, 0, c, image.height], fill=127)\n",
    "\n",
    "    return image"
   ]
  },
  {
   "cell_type": "code",
   "execution_count": 8,
   "id": "70b21219-4f16-4824-90ec-7bda1574c5d1",
   "metadata": {},
   "outputs": [
    {
     "data": {
      "text/html": [
       "<div style=\"\n",
       "        display: grid; \n",
       "        grid-template-columns: repeat(8, 128px);\n",
       "        column-gap: 1px;\n",
       "        row-gap: 1px;\">\n",
       "        \n",
       "            <figure style=\"margin: 5px !important;\">\n",
       "              <img src=\"data:image/png;base64,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\" style=\"height: auto\">\n",
       "              <figcaption style=\"font-size: 0.6em\">7</figcaption>\n",
       "            </figure>\n",
       "        \n",
       "            <figure style=\"margin: 5px !important;\">\n",
       "              <img src=\"data:image/png;base64,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\" style=\"height: auto\">\n",
       "              <figcaption style=\"font-size: 0.6em\">4</figcaption>\n",
       "            </figure>\n",
       "        \n",
       "            <figure style=\"margin: 5px !important;\">\n",
       "              <img src=\"data:image/png;base64,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\" style=\"height: auto\">\n",
       "              <figcaption style=\"font-size: 0.6em\">4</figcaption>\n",
       "            </figure>\n",
       "        \n",
       "            <figure style=\"margin: 5px !important;\">\n",
       "              <img src=\"data:image/png;base64,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\" style=\"height: auto\">\n",
       "              <figcaption style=\"font-size: 0.6em\">5</figcaption>\n",
       "            </figure>\n",
       "        \n",
       "            <figure style=\"margin: 5px !important;\">\n",
       "              <img src=\"data:image/png;base64,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\" style=\"height: auto\">\n",
       "              <figcaption style=\"font-size: 0.6em\">6</figcaption>\n",
       "            </figure>\n",
       "        \n",
       "            <figure style=\"margin: 5px !important;\">\n",
       "              <img src=\"data:image/png;base64,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\" style=\"height: auto\">\n",
       "              <figcaption style=\"font-size: 0.6em\">9</figcaption>\n",
       "            </figure>\n",
       "        \n",
       "            <figure style=\"margin: 5px !important;\">\n",
       "              <img src=\"data:image/png;base64,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\" style=\"height: auto\">\n",
       "              <figcaption style=\"font-size: 0.6em\">9</figcaption>\n",
       "            </figure>\n",
       "        \n",
       "            <figure style=\"margin: 5px !important;\">\n",
       "              <img src=\"data:image/png;base64,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\" style=\"height: auto\">\n",
       "              <figcaption style=\"font-size: 0.6em\">7</figcaption>\n",
       "            </figure>\n",
       "        \n",
       "            <figure style=\"margin: 5px !important;\">\n",
       "              <img src=\"data:image/png;base64,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\" style=\"height: auto\">\n",
       "              <figcaption style=\"font-size: 0.6em\">5</figcaption>\n",
       "            </figure>\n",
       "        \n",
       "            <figure style=\"margin: 5px !important;\">\n",
       "              <img src=\"data:image/png;base64,iVBORw0KGgoAAAANSUhEUgAAAIAAAACACAAAAADmVT4XAAANqUlEQVR4nO2aWXMjOY6AAV55py5f5erqqZ2JeZz//2dme7dnyrJVuvK+mCT2QZIt+ZTl2tjYCONNUibxkQRAEBDAp3zKp3zKp3zKp3zKp3zK/7HgaW8JITlnjHPOONt+SdboTve67+kdQ4mTAEhGgec4SrmOq+TuS13lWVYUZf+eoU4DYN5oMgh9PwjDyHe3X9o6/TmbLZa2fQ/BaQDe4PzLZBCH8WA4jL0dQLn4MfQcZnQKAIDHbcSxAIiICAiAACgmF1++ng/jKBqORtHOBkCHHElwroJKWyJj6QiGowGkowRnDDkyriZfvl2fxYEfRPGDfpCDRoMfT1Z5mpVl2/TG/EIAN4w8JTmXXEh3fHV9NfRc5bgu23tIRRdq9CUvqsXt3SzBhuzbS3AsgBtOxpHnSOFI5Xij88tJJDljgtk9AvRZcKG7Tt/+pw9krDnCGt8GQMaQO+Hk4nzou0q6ynH9eDIZ+IhkEchsgwkBgKMiQCA7ZnVaNbo9whBfB0BA5Mpx/SgenZ/FniulKx3XCweDCACAA1i4V4JsF9bOJqNhUtT8TfVvARBDLv3R+cV5HA8GvqOEkFIpxwt2vve8t0k3jOKsOGZ/X3+GcSa8+Mtf//Ytdj1PCM6Z4FxIqZ59j3YrYJgTRoHLjwj0rwAgY1wKGU2+/v0ff4s4Z5tggIwh4ztd+65OYAERAECDCgLf+dgWoJDKcaUbX3z9/ft/OA9agIDg3sMPJklAyAAsceX5ntx30fcDkAjiOPSDwcX367N7/YAASGTJAhEAsgfL22Pn0vU8R37QCMXg6mI8GAwnl1fBIVpvrCUiS8g4h2d2mgnluo54hu09AO746++XZ5PhIIzU/vem1cZaImsJuVKMEIEO3AGRCynFMTb4CoCMz75+v748G4acMYMABAwBqK3rtrcWyFri0gf+VA8dcwq9CsAEF9Hll+vrLxfjGAHAECCCtaZvqqKotbVAllD6A5TqyevW6LZpuqMyo+cBZBCF4+9/+Xp1FgcIsAmJALoqizxN0qI1FgCQe8Mr7u2r2eyD1U2eJHl9TGLyPIAaXl5c/v79t/OBt7FkQgSAvpjPl4v5Kqt7AkTuRJcUjADhIRwDAYDpimSxWJf65HxAxVffv/52fTX2BMBDtGnTu3/f3c4WSaUBkCt/1IaXeu89RCDCvq2y1WKRfABABOOrr18uRpEAuD/TqS/Wdz9upneLpDIAIN1IB1n7KOkgY7syT9erdfaBLeAqGAwHoStgu61IutfNYnY3nc4W6wIAADQp3Vu7FwsREUl3xWq5XCV51ZmTVwCFcj1nF0oRAE1Xldn05uZ2tsyb7VNMSCU43gMgAwDsi+V8Nl+led0dkZG9BMCEFByJEIAAAdA22Wrx48fN3Txv7Fa/H4aBKx+HgS6dT6ezZVY12p4MAIwxhmCNANicN6bJFrfT25/LpN6aJPphFIe+egAgAABdrme3t/N1XnfmiJTwxUiIiPszo77JVvP5MsnKzbQQpOOHYeiqvSOPLNkiWczufi6zqtXH6H8JgIj24ymZrspWi1VatFv9yJUXRHHoqwdDIaO7bjW7vbmZLfOmP0r/iwBG99sRkAip78pstVzn21sXIhOuHw1Gg0DxHQD2ui7z+fTHj5tldpwLvAhAptddv9tDAjK6zpMkq7ahBZlQXhiPRoNwczFAAiDbFcny9seP6V1aa3OMBb4MYHut9d4cbN9WZXFv2Mil40fD0XgY7vIuAqOrdHE7nd7NV8UxMfB1ANP3B0ZMRjd10/VmB+CF8Wg8GUXOxgaIrK7S+c2/b6eLtOyOVf8iAFlj7gEQkCPYXnd6d8Jyxw8H4/PzSexu8lOyusmX0z/+++dyVelnB30XgO173d/fbhEYR7DW2l0Mkm4Qjybn5+Nt6ovUt2U6//HHP1dV0Xy8QkJGt53u7U4/csY554xtfY474XA0nkxGA8U2lKSbIlnc/uvP1BxzJ34LwOq2PgilyKV0XK+1YIgAVDA6uzifDCIftwk66TpPV8vFsnl2wHcDdFVR1D1K2Cb+jCs/GrSWca17y5zBxbdv15NQ4UMSVOdpltftO/W/BNAWaVrqvYNOuNG4tFypum564Y2+/vXb5Zn/kPiTLrPkuAzgGADTFEmcNw+bicKNJy0q1y0z7FR09tv330e+wvtsyXZlmuQNifd4wMsAti3SJMnKXuzSPe5Gk567np8r1TqTi6uvVxEnsHtvrFdpbY65jR0BYLoq9eezkedLxTkAgHDjFpwwLvI0a9X19fkwkvCgH0yTLubrsnuPB74CYLuSCS+QZjQchgAAwL0BOHFVVVVRdnLy/Tw4fNPWyWy6yrsjT4C3AEwHxjJuqqvfxOZiwF2SYdu1um3angVnY0UItFcRqFd306JufxGA7W2niXRVsXDoAQCgYq6xxti+7y0I1xcWNvaxccOuWC9+dubIM/hNADIGekTqwR9Gl4BogTkISITWkiVAxh4uI0TQFXmWZu/W/iIAAICpM0bc91itXEdIiQCACHx7Vdq4HyIA6bYpprNVfor+167nfc0sCmqWg+EwYvLwx811DBEAqEnWy/+6WVan6H8NwHagLXX5/OKLBsacgx+JAHcgbXo3/dcsf38UfAMAetP2pi3SQgPa3nN3z9JeaRAAQNfpKqnBq97tAq8DEJAtwfbaAnX5IPRcyQEZ44zdl0Y3FMi5O7hgYWmMMcaad9Qn3irV2oaBtV0xH47iKHCVkMr13I3zI22WAmUw1io6T7OsKuuqrpqPZ0QPYlowXTEPo9FoFIee6wcDktuXcLsXzpAFl1VdFuv1YpWsmP2VAKStrtZK+KPJZBSFYTRsQfIHawAAdJg/7o1py+VsejuTaPt3ZAVvAhjTAQDIYZKO4igaFB2R9iUDhjsrECIgQLDVMnKU4ozJSlsydpNTvmEPx/YLdAK2LYIwSfI8GUWeq5QUbBOUNr0cYCGYHpUXTZKy0X1vrDV9196nlh8DAF2iLlzXD2bT8Wg4HEZh4DmMHczQibWMzq7zoiiruuut6eosyV7PUY/vmulSCyGl4wbxaHJ5dTE2wCUCAN0fieiOvVHbtG2RpXmtrWnSGev1qwRHA6BpOkRELpQ3PC96xh3XbCIyWYRNeFIisEDWlMkqKbXt64Xs2x5eS1OOBqCHCrkqTTg5uP1ujY3tRhsGflhp29eebTWqWmv7UvX0lMZll8capeuIRwkg3n9mEfGgJ9M4RNxfZUXZ9S+kCid1TrVlThgHm8Ph2XG5Cw6B7RwuvMF8vuBl84IvnARAqPw4Dh1+2DB6sEYg4SlE6h2pgkHsCWRIz6drpwEAdzz/oDwEAJskecskBDEEK4V0PIcDSinK+jl3OLF9D4wL/qQfYY0xgIyzXR+Fe0DIOeP+YLlMsqZ/GpROA9hq2d8BBKC+aTorlCPuy5dM+sCkE10u725ni7R4uganAeDjuQMCgu2rvLLKty4AAgMAICZ97kXn9fImdqWgx5Xlk1eArHlUhkQAsF2VGxcFZ9vjgQgEkzg0Zh0KQNDNk+LNiQC27zp9X6/Yw7LWGGsMp+1JyEAAAoDb17U2vaHG2gPy0wBMV5eFA4/dgEm3N0oA0UN5afuINzirrHTDUV6V5X4R4zQA25ZpqhgX9wUKIADgrhGGC4Hb6hIB4S42uMOOh6OL5Xp+Z9q9JThxBdoiyzzHeUjVCRBQeMwzQPvuSdtuj+GhdQaTy+VPt8vSvaFOXAHdlGUVHZg0AXAljDVmv4exJSDLPaa8wFeQ+gc6TzVCY3pjH3sjcsat6Y1lT/wUBSKZhvruUYZ0IgAgIuf8vqUD25syAiIwi/wpAResz+c3Nz+zg6T5RADGuODiueY0MmEJkR2ckkgAQLr4+ecfN7Nl83E33DY0njuJERiDZ2IlGd2ksz//OU2qg2B0sg3orq1rqZ7+heNpmAYAINu3db6e383Lw47uiV7Qt1WRKuw9tS1i0e6Wso/y8Ilhq5uiyLKiehSMT3XDKk+4beswjuRW2TYePdQ2D1YCsSuyNH96bzw1EJWJMk2ZjwzfdSz2IuJzm6CrdJ3k9ZNOxumhmHdlFjcgnWij91GSjHQAovP1YrHeL75+CMC0hbKV66eVIds6nCPb/NluO38CILLWWkIAQmNsvrib3i3SX7UCpsmocZTy1mWRTWI/cNWmz7udMwJAr5u2s8jA6LpqsuVivpgl9S9KyUwDXS6EkIv1anl+NjkbIH+SobZZXvZMgC5XqyxNsyxLk6fJ+alb0NeMIWNBsl5dfqnMpnK4L7rOV8us4xKb5O52kZVN2zR1+yR2nWiEuyJI0VR11Rog3QWuw4EsIILtjW6K1c9F0nGJzXJ68zNremv6Z7qpp4birTRAZIzp8vEoDlzJkICs1bprq2K9XGUdF9iuZ3fLsrMEzzVzPwgAXcVMV62nw/EwDh3JkTZBuizLLMurnnHUebIum5eqiKf9sXnvfakc1/ODaDwZRb4nGem6qso8L6qqabRFBrZt6vbFMsmHAZAhY1yEo7PxIPAdQU1ZFHmaFnVnzeYfEGStpZdqRR/dAqLN1PK6KTM/2AIUaVYcWbn9KMBOTMFM43qSQ9uUdVU+cwn73wUAXVErpWDQd13XPr2CvSQftYGHgYTgjDEkMtbY41snvwwADnPxT/mUT/mUT/n/I/8DXEynFut5hPYAAAAASUVORK5CYII=\" style=\"height: auto\">\n",
       "              <figcaption style=\"font-size: 0.6em\">8</figcaption>\n",
       "            </figure>\n",
       "        \n",
       "            <figure style=\"margin: 5px !important;\">\n",
       "              <img src=\"data:image/png;base64,iVBORw0KGgoAAAANSUhEUgAAAIAAAACACAAAAADmVT4XAAAKjElEQVR4nO2aWXfbuhHHZ7AQ4CZRm2XZcdJ7Ts/p9/88be9tNlvWxn0ngD7Qzk3a2KJlNS/1/02kCPw4GAwGAwK86U1vetOb3vSmN73pTW9605ve9P8uPEcbiIRQSggCAKGMEgCtu7ZuWnP0YXYGACCMW1JKixhA7riOBdDWebTbt8efPQcAYVI6o9HIoWCIHcwnDpg6PXz5Z52p/zEAIQaAWcJ2R7Pp1OfGUO9idTECU4Rrt46i/PwACICAgIiUM0YMABPS9cbz+WzEjaH+8nrpANSh0+w3sW6Med4PXm4BShhjluCcW4xSA8ik9LzRdDLxmDHUmc0cABCT5vImUk6Sl887wsstQC0pXd/3HGFxSgGQSdtzXd/3JDMGhWcDAIDlzT+0cnK3VucFQEtKzw9mi6nvWJw9ALi2lMJiBAxQ/tCkmNxQf2Q1yfN+8DIA5NK23dF4fnl5ETgWpxQBmZCO4AQREAwAmj66cB8thxb3/PkmhwEQJJRRYnEhHccdjefLy8XY4ZxQRCSWsAAAVAfQuycCAnKbEJOMbXoOAODScV3bFtJ2HMcbBbP5xJOMEUIAEQEATFk0GpBSzi2GAICcmNqT/EisHQZA5Wi6mAW+Y9uOLW3X9X3H5uS7f5g4SsoOKBOujwwAwCDllsXpOQCY40+v3l0tAs+xbWFZggvOfjBtnR62YdoBs9wJWBIBwEA/GsfafuYeAgIgcmF748X1+5vlxHOktCilCEYrMGAAjFGqa8tkt9mnLTA5UsJ1CQAYMFprfWw5ehoAGeOCC2FJS7rebHV9NQ9cW/QPtFXdaqW1Ul3Xqbat0nAXZR1QOdH2yEMKAFrVVdV0RwiesQB3PX8UBL7HLCn96WwaeI7V3yqTOCmbTrVNVdaNUqopsiSrlCFibvzpiBEE09VZkhatPhWA2uP5fHG1mo8ppUzYjiNl37/O4+12n1RN2xRZktfaaNXWddNpAyKzFqvS5gjQlUkYZ/WRBfFJAO6M56vV9YcPqwkiGqSEUAoAoOoi2d/d3UdF01R5FKaVATBGG20MgGVmSdEoADBtER+irDrJApQLZ7RYXl1d39ysrG+XjVKqLvMs3t3dbcKyByh+eLIt6kejd0USxVlzEgAbTWazi4vlcnkR/Nk/6DzN0ySN48Nud0iqrm3K9Mf+gVDGLYsCgGmLJIyy+iQAPvlwc3kxn06CQH53uQ7vN/tDGMVxluZlq1TX1P/Rv+O4rmszBDBNEYfhiT4gZu//drOYeJ4U38Ubk24+flpvdlFSNG2rtNFG/fB+hMtxEPg9gG7z0y1gT67+8mHu24ICGgMIBhG6dL/+/Pvt/S7K6sfJ/eMkt6Q/nQW+LSg8WCDOXwyASCgbT+fL5cQl/QVjtOq6toy+fvr8db0Nk6esytzJxcXUF/0i0RVxGL88DiC1hDufL2ZT79sl0HWZJuH+68dPt/ukeKp/tEbLd++WY4EAAKiK+BAXL54FyIQ3mU2DkffnNd0U0Xa9vl/f3e/SqnuyMSu4fH+zGvcpCHZFfEia7sUAhEt/5MrvZ1+ZRduvHz+tN/s4rZ9eXtAaXbx7t/C5QQDo6iJNcn0kKf6JEyIiQaPbzoBRiACqyOL95vPnT/f7JC+fbcyZLBaBw8AYY/I8z4vjW6P/AjC6a4o0iQ5Md10LiNBl0WG3u71d75O8/lkbj9JE+EHgCgqqbertIXlmtJ4B6GqC3v2dW+u6qg0h0CT77Tbch2FWHttscsf3bU6xK9NkvUmOTcGfA6ha1WIcWKmqstIQCnW0ud8leVUfXduJJR2XEYSujLa3u7QdsPf+CYBuq3Ab8FgXaaEphTrc3O/Ko3ssAOCWlBIQjKrz8BAVA0bgZ5HQgCmiDY10mZWaUGji3TY81jkiIdx1ZB8DjGqb6ugMfAoAAJrkvrF1XdaGEGjzuDj68si4cAJPsm84fb3iRIAug4ybru0MIqjmyP4SAIBw2wumntVHYSSMc3YsI38GQBdNgmC0BkAwWh2vtCCT/izwrMc+EQk5npM/DdA0A579EcByfM9+2AcZ1TR1o4b4ADn+l4GizLIY7RdQVSWHQ1wcm7bnBDCAhH7zuy4/rNfbZIgZz2YBJIzSx2Fvs/3d3Tapf6EFCJe2La0Hx+/KaLcN8wFlwvPUCRGIcMfT+cTr4xCopszz8lg+ejYARMLdyeXN++up/WBR1bVNO2D2ngUAAZn0F9e//WUZuBQAwGijtTm6MT4XACBh0p9dffgwE30k7JTSxvxnzvy/BKCWM5ouLsYI2iCYsqzqTv1CCyBhXNiuiwBoOtXGcZqXjTq+fp8JABCRUMYYAKBqymK3PSTFM9nruQEQKf229Og6C+83+zgfaIFzBCLCuCUey2G6Sfeb7SEt20H9n8UCVLgjzxE9gW6K+BCm5bEt2aPOYAHD3Ml8HjgP79LXJQZFwTMBAPdml5dTtwcwbZkmaTFkGTgXAFqjxWo5dakBADBdmcZpOSQVOBcAFf50sQjs3gK6KbM0qwZb4NVOiMhtbzwJfNkvA6otsjQbboFXAiAgFY43Ho9d8QBQl1maDZ4Erx8Cwh3X90eeI6gBANM2ZZ4X1S+zAGHC9Tzfc2Vfve/aqszzshkWh18PQJjwxuOR59p9bRDaqirLsu7M0DPh1wIIfzKfBr5tUWKM1rquyrKsOjMoFzgDAHWCxfJi4kuGgNp0bVWWVTWkLvCoVzohtYPFxSxw+nRYtWWe5WU9OAicAUB4QRB4D+dHqs7iOMnrwVPg9QBALSGF9XCA1BXhdnPImqEL0TkAjPnzaAqbZPPly338bCXrzADmIQPvfzXx+tOndfyinfWrI2H//v2gN8nmy5dNMuC7ibMBUEvYtng4wlRNdthsh9WmzgYgx9N54PDHPWkaHS9P/6hXBiLuTS9X84cCvenqIsvqQcWxMwFQOVqsrkaiLw21TV0WZTd4HXolABoAxw/mi4VNEAxCl2dZUTXDl4FXAgBjcrZcTEYuAQClm2yzDY8eE54TQI6nq98eSwI6iza3f9zFL5qCrwNAd/n+/YebSX+yoZIvHz/+62v8oin4OgDiLn/767tV0B/QtPHXv//xZZ3+QgDmTlc3q5nXt1DFm88fN2HxUhc4FQCBCNufTCa+ZGC07vJ4v92G+eBk+JUACIRJx3U9RzJitGrKOAzDqGgG1aV+0ImhmFDhOLYtLYsSo9s6jaM4yZqBZZnvdZoFCLWcke/aFqcEte6qLEnTvHx596cCUOEGs+nYlX0yrtqyKMr6xTPgdADmT5fXq5knKAAQMEp1nXpJIvZaAGt0+f7d9dyzKAAgGq1PGP1epzkh9xfX7y6nbp8H6L4ue9r3sacBUOkHk7EnGAKAqos0SY8eaj6hUwMRUsa5xQCgq5L9+vZun5/kgycCmK5tGkUFAECXH25///T1LnrpMdNrAHRTpFnVEQCAKtl+/sfv63jQAc25AFSdR+E0r1yAItrdff7j923d/cohUFUaub4vZqyK7+9ub+820UntnAzQFRHv2nw7Jk162H3+ejj+AfO5AfZNcrgd26SrsvSwfXke8k2nRQ/KuWUJKTho1TZVUQw5oDsnACA+fD5rwIAZeDz0pp/q34/rXnXjMK5QAAAAAElFTkSuQmCC\" style=\"height: auto\">\n",
       "              <figcaption style=\"font-size: 0.6em\">7</figcaption>\n",
       "            </figure>\n",
       "        \n",
       "            <figure style=\"margin: 5px !important;\">\n",
       "              <img src=\"data:image/png;base64,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\" style=\"height: auto\">\n",
       "              <figcaption style=\"font-size: 0.6em\">9</figcaption>\n",
       "            </figure>\n",
       "        \n",
       "            <figure style=\"margin: 5px !important;\">\n",
       "              <img src=\"data:image/png;base64,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\" style=\"height: auto\">\n",
       "              <figcaption style=\"font-size: 0.6em\">1</figcaption>\n",
       "            </figure>\n",
       "        \n",
       "            <figure style=\"margin: 5px !important;\">\n",
       "              <img src=\"data:image/png;base64,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\" style=\"height: auto\">\n",
       "              <figcaption style=\"font-size: 0.6em\">4</figcaption>\n",
       "            </figure>\n",
       "        \n",
       "            <figure style=\"margin: 5px !important;\">\n",
       "              <img src=\"data:image/png;base64,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\" style=\"height: auto\">\n",
       "              <figcaption style=\"font-size: 0.6em\">0</figcaption>\n",
       "            </figure>\n",
       "        \n",
       "            <figure style=\"margin: 5px !important;\">\n",
       "              <img src=\"data:image/png;base64,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\" style=\"height: auto\">\n",
       "              <figcaption style=\"font-size: 0.6em\">0</figcaption>\n",
       "            </figure>\n",
       "        \n",
       "    </div>"
      ],
      "text/plain": [
       "<IPython.core.display.HTML object>"
      ]
     },
     "execution_count": 8,
     "metadata": {},
     "output_type": "execute_result"
    }
   ],
   "source": [
    "count = 8\n",
    "\n",
    "def get_some_random_images_and_labels(df, count):\n",
    "    image_ids = RNG.choice(df.index.unique(), count, replace=False)\n",
    "    image_datas = df.loc[image_ids]['png']\n",
    "    images = [Image.open(io.BytesIO(image_data)) for image_data in image_datas]\n",
    "    labels = df.loc[image_ids]['value']\n",
    "    return images, list(labels)\n",
    "\n",
    "train_images, train_labels = get_some_random_images_and_labels(df_train_images, count)\n",
    "test_images, test_labels = get_some_random_images_and_labels(df_test_images, count)\n",
    "\n",
    "display_images_grid(train_images + test_images, captions=train_labels + test_labels, col_count=count)"
   ]
  },
  {
   "cell_type": "code",
   "execution_count": 261,
   "id": "e5019d63-ce09-4130-ac07-b6ae15a84ab4",
   "metadata": {},
   "outputs": [],
   "source": [
    "# COS_SIM_THRESHOLD = 0.075\n",
    "COS_SIM_THRESHOLD = 0.055\n",
    "hdc = Hdc(10_000, np)"
   ]
  },
  {
   "cell_type": "code",
   "execution_count": 262,
   "id": "317bc435-b1be-4e25-8f4f-b9e3d35f522b",
   "metadata": {},
   "outputs": [],
   "source": [
    "class CorticalColumn(object):\n",
    "    def __init__(self):\n",
    "        self.clusters = defaultdict(list) # cluster = collection of image bundles for particular class\n",
    "        self.cluster_norms = HdvArray(hdc.N, xp)\n",
    "        self.cluster_to_image_ids = defaultdict(set)"
   ]
  },
  {
   "cell_type": "code",
   "execution_count": 263,
   "id": "1e8dc096-5076-4657-b22c-a489c2be1694",
   "metadata": {},
   "outputs": [],
   "source": [
    "COLUMN = CorticalColumn()\n",
    "TRAIN_RUN_ID = 0\n",
    "TEST_RUN_ID = 0\n",
    "\n",
    "COLUMN = CorticalColumn()\n",
    "df_test_results = pd.DataFrame(columns=['test_run_id', 'test_image_id', 'true_value', 'cluster_id', 'infer_value', 'sim'])"
   ]
  },
  {
   "cell_type": "code",
   "execution_count": 264,
   "id": "bc72b601-6398-4d84-9ce3-97e1a9a92bfa",
   "metadata": {},
   "outputs": [
    {
     "data": {
      "application/vnd.jupyter.widget-view+json": {
       "model_id": "9e09bcc84ad94fe182e96b6fff8996cb",
       "version_major": 2,
       "version_minor": 0
      },
      "text/plain": [
       "  0%|          | 0/15 [00:00<?, ?it/s]"
      ]
     },
     "metadata": {},
     "output_type": "display_data"
    },
    {
     "data": {
      "application/vnd.jupyter.widget-view+json": {
       "model_id": "",
       "version_major": 2,
       "version_minor": 0
      },
      "text/plain": [
       "  0%|          | 0/1000 [00:00<?, ?it/s]"
      ]
     },
     "metadata": {},
     "output_type": "display_data"
    },
    {
     "data": {
      "application/vnd.jupyter.widget-view+json": {
       "model_id": "",
       "version_major": 2,
       "version_minor": 0
      },
      "text/plain": [
       "  0%|          | 0/1000 [00:00<?, ?it/s]"
      ]
     },
     "metadata": {},
     "output_type": "display_data"
    },
    {
     "data": {
      "application/vnd.jupyter.widget-view+json": {
       "model_id": "",
       "version_major": 2,
       "version_minor": 0
      },
      "text/plain": [
       "  0%|          | 0/1000 [00:00<?, ?it/s]"
      ]
     },
     "metadata": {},
     "output_type": "display_data"
    },
    {
     "data": {
      "application/vnd.jupyter.widget-view+json": {
       "model_id": "",
       "version_major": 2,
       "version_minor": 0
      },
      "text/plain": [
       "  0%|          | 0/1000 [00:00<?, ?it/s]"
      ]
     },
     "metadata": {},
     "output_type": "display_data"
    },
    {
     "data": {
      "application/vnd.jupyter.widget-view+json": {
       "model_id": "",
       "version_major": 2,
       "version_minor": 0
      },
      "text/plain": [
       "  0%|          | 0/1000 [00:00<?, ?it/s]"
      ]
     },
     "metadata": {},
     "output_type": "display_data"
    },
    {
     "data": {
      "application/vnd.jupyter.widget-view+json": {
       "model_id": "",
       "version_major": 2,
       "version_minor": 0
      },
      "text/plain": [
       "  0%|          | 0/1000 [00:00<?, ?it/s]"
      ]
     },
     "metadata": {},
     "output_type": "display_data"
    },
    {
     "data": {
      "application/vnd.jupyter.widget-view+json": {
       "model_id": "",
       "version_major": 2,
       "version_minor": 0
      },
      "text/plain": [
       "  0%|          | 0/1000 [00:00<?, ?it/s]"
      ]
     },
     "metadata": {},
     "output_type": "display_data"
    },
    {
     "data": {
      "application/vnd.jupyter.widget-view+json": {
       "model_id": "",
       "version_major": 2,
       "version_minor": 0
      },
      "text/plain": [
       "  0%|          | 0/1000 [00:00<?, ?it/s]"
      ]
     },
     "metadata": {},
     "output_type": "display_data"
    },
    {
     "data": {
      "application/vnd.jupyter.widget-view+json": {
       "model_id": "",
       "version_major": 2,
       "version_minor": 0
      },
      "text/plain": [
       "  0%|          | 0/1000 [00:00<?, ?it/s]"
      ]
     },
     "metadata": {},
     "output_type": "display_data"
    },
    {
     "data": {
      "application/vnd.jupyter.widget-view+json": {
       "model_id": "",
       "version_major": 2,
       "version_minor": 0
      },
      "text/plain": [
       "  0%|          | 0/1000 [00:00<?, ?it/s]"
      ]
     },
     "metadata": {},
     "output_type": "display_data"
    },
    {
     "data": {
      "application/vnd.jupyter.widget-view+json": {
       "model_id": "",
       "version_major": 2,
       "version_minor": 0
      },
      "text/plain": [
       "  0%|          | 0/1000 [00:00<?, ?it/s]"
      ]
     },
     "metadata": {},
     "output_type": "display_data"
    },
    {
     "data": {
      "application/vnd.jupyter.widget-view+json": {
       "model_id": "",
       "version_major": 2,
       "version_minor": 0
      },
      "text/plain": [
       "  0%|          | 0/1000 [00:00<?, ?it/s]"
      ]
     },
     "metadata": {},
     "output_type": "display_data"
    },
    {
     "data": {
      "application/vnd.jupyter.widget-view+json": {
       "model_id": "",
       "version_major": 2,
       "version_minor": 0
      },
      "text/plain": [
       "  0%|          | 0/1000 [00:00<?, ?it/s]"
      ]
     },
     "metadata": {},
     "output_type": "display_data"
    },
    {
     "data": {
      "application/vnd.jupyter.widget-view+json": {
       "model_id": "",
       "version_major": 2,
       "version_minor": 0
      },
      "text/plain": [
       "  0%|          | 0/1000 [00:00<?, ?it/s]"
      ]
     },
     "metadata": {},
     "output_type": "display_data"
    },
    {
     "data": {
      "application/vnd.jupyter.widget-view+json": {
       "model_id": "",
       "version_major": 2,
       "version_minor": 0
      },
      "text/plain": [
       "  0%|          | 0/1000 [00:00<?, ?it/s]"
      ]
     },
     "metadata": {},
     "output_type": "display_data"
    }
   ],
   "source": [
    "# TRAIN RUN\n",
    "TRAIN_RUN_ID += 1\n",
    "trials = 15\n",
    "count = 1000\n",
    "\n",
    "for trial in tqdm(range(trials)):\n",
    "    train_step_image_ids = RNG.choice(df_train_images.index.unique(), count, replace=False)\n",
    "\n",
    "    # EVOLVE MEMORIES\n",
    "    for image_no, image_id in tqdm(enumerate(train_step_image_ids), leave=False, total=len(train_step_image_ids)):\n",
    "        log.debug(f'[train_run_id={TRAIN_RUN_ID}, image_no={image_no}, image_id={image_id}] Cluster count={COLUMN.cluster_norms.len()}')\n",
    "        \n",
    "        image_value = df_train_images.loc[image_id]['value']\n",
    "        df_image_encodings = pd.read_sql('SELECT hdv FROM image_encodings WHERE image_id=:image_id', params={'image_id': int(image_id)}, con=train_db_con)\n",
    "        assert len(df_image_encodings) > 0\n",
    "        image_encoding_hdvs = list(map(lambda h: np.frombuffer(h, dtype='b'), df_image_encodings['hdv']))\n",
    "        image_encoding_hdvs_norm = hdc.normalize(image_encoding_hdvs)\n",
    "        image_encoding_hdvs_norm = xp_array_to_gpu(image_encoding_hdvs_norm)\n",
    "\n",
    "        for _ in range(1):\n",
    "            cos_sim_matrix = COLUMN.cluster_norms.array @ image_encoding_hdvs_norm.T\n",
    "            # cos_sim_vector = xp_array_from_gpu(xp.max(cos_sim_matrix, axis=1)) # how each mem recall (max cos sim) is close to current image\n",
    "            \n",
    "            cos_sim_matrix[cos_sim_matrix < COS_SIM_THRESHOLD] = 0\n",
    "            cos_sim_vector = xp_array_from_gpu(xp.sum(cos_sim_matrix, axis=1)) # how each mem recall (sum cos sim) is close to current image\n",
    "            \n",
    "            assert cos_sim_vector.shape == (COLUMN.cluster_norms.array.shape[0],)\n",
    "            cluster_ids_by_match_score = np.argsort(-cos_sim_vector) # sorted desc\n",
    "            match_found = False\n",
    "            match_is_top = False\n",
    "            match_is_updated = False\n",
    "\n",
    "            for pos, cluster_id in enumerate(cluster_ids_by_match_score):\n",
    "                cos_sim_value = cos_sim_vector[cluster_id]\n",
    "                log.debug(f'[train_run_id={TRAIN_RUN_ID}, image_no={image_no}, image_id={image_id}] Checking cluster #{cluster_id}, sim={cos_sim_value:.2f}')\n",
    "\n",
    "                # if cos_sim_value < COS_SIM_THRESHOLD:\n",
    "                #      # all remaining is less\n",
    "                #     break\n",
    "\n",
    "                if cos_sim_value <= 0:\n",
    "                    break\n",
    "\n",
    "                cluster_image_ids = COLUMN.cluster_to_image_ids[cluster_id]\n",
    "                assert len(cluster_image_ids) > 0\n",
    "                cluster_is_sealed = len(cluster_image_ids) > 200\n",
    "                cluster_image_id = next(iter(cluster_image_ids))\n",
    "                cluster_image_value = df_train_images.loc[cluster_image_id]['value']\n",
    "\n",
    "                if cluster_image_value != image_value:\n",
    "                    log.debug(f'[train_run_id={TRAIN_RUN_ID}, image_no={image_no}, image_id={image_id}] Match WRONG, pos={pos}, sealed={cluster_is_sealed}')\n",
    "\n",
    "                    # if not cluster_is_sealed:\n",
    "                    #     cluster_hdvs = COLUMN.clusters[cluster_id] # list\n",
    "                    #     cluster_hdvs.append(hdc.complement(hdc.bundle(image_encoding_hdvs)))\n",
    "                    #     new_cluster_bundle = xp_array_to_gpu(hdc.bundle(cluster_hdvs))\n",
    "                    #     COLUMN.cluster_norms.array[cluster_id] = hdc.normalize(new_cluster_bundle)\n",
    "                else:\n",
    "                    log.debug(f'[train_run_id={TRAIN_RUN_ID}, image_no={image_no}, image_id={image_id}] Match CORRECT, pos={pos}, sealed={cluster_is_sealed}')\n",
    "\n",
    "                    if not cluster_is_sealed:\n",
    "                        cluster_image_ids.add(image_id)\n",
    "                        cluster_hdvs = COLUMN.clusters[cluster_id] # list\n",
    "                        cluster_hdvs.append(hdc.bundle(image_encoding_hdvs))\n",
    "                        new_cluster_bundle = xp_array_to_gpu(hdc.bundle(cluster_hdvs))\n",
    "                        COLUMN.cluster_norms.array[cluster_id] = hdc.normalize(new_cluster_bundle)\n",
    "\n",
    "                    match_found = True\n",
    "                    match_is_top = pos == 0\n",
    "                    match_is_updated = not cluster_is_sealed\n",
    "                    break\n",
    "\n",
    "            log.debug(f'[train_run_id={TRAIN_RUN_ID}, image_no={image_no}, image_id={image_id}] Match found={match_found}, is top={match_is_top}, is updated={match_is_updated}')\n",
    "                \n",
    "            if (match_found and match_is_top) or (match_found and match_is_updated):\n",
    "                break\n",
    "        else:\n",
    "            # Didn't find any matching cluster of HDVs to join -> create new one\n",
    "            cluster_id = COLUMN.cluster_norms.lease()\n",
    "            cluster_bundle = hdc.bundle(image_encoding_hdvs)\n",
    "            COLUMN.cluster_norms.array[cluster_id] = xp_array_to_gpu(hdc.normalize(cluster_bundle))\n",
    "            COLUMN.clusters[cluster_id].append(cluster_bundle)\n",
    "            COLUMN.cluster_to_image_ids[cluster_id].add(image_id)\n",
    "            log.debug(f'[train_run_id={TRAIN_RUN_ID}, image_no={image_no}, image_id={image_id}] New cluster {cluster_id}')\n",
    "\n",
    "    # CONSOLIDATE MEMORY\n",
    "    for cluster_id, image_ids in COLUMN.cluster_to_image_ids.items():\n",
    "        log.debug(f'[train_run_id={TRAIN_RUN_ID}, consolidation] Before cluster #{cluster_id}, len={len(image_ids)}')\n",
    "    \n",
    "    before_len = COLUMN.cluster_norms.len()\n",
    "    assert before_len == len(COLUMN.clusters)\n",
    "    cluster_indices_to_release = []\n",
    "    \n",
    "    for cluster_id, image_ids in COLUMN.cluster_to_image_ids.items():\n",
    "        l = 1\n",
    "        exp_distro_level = l * np.exp(-l * len(image_ids))\n",
    "        rand_level = RNG.random()\n",
    "        do_release = rand_level < exp_distro_level\n",
    "        \n",
    "        if do_release:\n",
    "            cluster_indices_to_release.append(cluster_id)\n",
    "            log.debug(f'[train_run_id={TRAIN_RUN_ID}, consolidation] Dropping cluster #{cluster_id}, len={len(image_ids)}: {rand_level:.5f} < {exp_distro_level:.5f}')\n",
    "\n",
    "    for cluster_index_to_release in cluster_indices_to_release:\n",
    "        del COLUMN.clusters[cluster_index_to_release]\n",
    "        del COLUMN.cluster_to_image_ids[cluster_index_to_release]\n",
    "        COLUMN.cluster_norms.release(cluster_index_to_release)\n",
    "\n",
    "    after_len = COLUMN.cluster_norms.len()\n",
    "    assert after_len == len(COLUMN.clusters)\n",
    "    \n",
    "    for cluster_index, image_ids in COLUMN.cluster_to_image_ids.items():\n",
    "        log.debug(f'[train_run_id={TRAIN_RUN_ID}, consolidation] After cluster #{cluster_id}, len={len(image_ids)}')"
   ]
  },
  {
   "cell_type": "code",
   "execution_count": 265,
   "id": "cc549286-4674-4011-a93d-24ee0e15c8f1",
   "metadata": {},
   "outputs": [
    {
     "data": {
      "text/plain": [
       "154"
      ]
     },
     "execution_count": 265,
     "metadata": {},
     "output_type": "execute_result"
    }
   ],
   "source": [
    "len(COLUMN.clusters)"
   ]
  },
  {
   "cell_type": "code",
   "execution_count": 266,
   "id": "9ee32737-067b-47ea-9d07-5e67b9e4b801",
   "metadata": {},
   "outputs": [
    {
     "data": {
      "text/html": [
       "<div style=\"\n",
       "        display: grid; \n",
       "        grid-template-columns: repeat(8, 128px);\n",
       "        column-gap: 1px;\n",
       "        row-gap: 1px;\">\n",
       "        \n",
       "            <figure style=\"margin: 5px !important;\">\n",
       "              <img src=\"data:image/png;base64,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\" style=\"height: auto\">\n",
       "              <figcaption style=\"font-size: 0.6em\">clust=269, #57624, val=2</figcaption>\n",
       "            </figure>\n",
       "        \n",
       "            <figure style=\"margin: 5px !important;\">\n",
       "              <img src=\"data:image/png;base64,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\" style=\"height: auto\">\n",
       "              <figcaption style=\"font-size: 0.6em\">clust=269, #34521, val=2</figcaption>\n",
       "            </figure>\n",
       "        \n",
       "    </div>"
      ],
      "text/plain": [
       "<IPython.core.display.HTML object>"
      ]
     },
     "execution_count": 266,
     "metadata": {},
     "output_type": "execute_result"
    }
   ],
   "source": [
    "images = []\n",
    "captions = []\n",
    "\n",
    "if COLUMN.clusters.keys():\n",
    "    random_cluster_i = RNG.choice(list(COLUMN.clusters.keys()))\n",
    "    image_ids = COLUMN.cluster_to_image_ids[random_cluster_i]\n",
    "    df_i = df_train_images.loc[list(image_ids)]\n",
    "    image_datas = df_i['png']\n",
    "    images = [Image.open(io.BytesIO(image_data)) for image_data in image_datas]\n",
    "    captions = list(map(lambda p: f'clust={random_cluster_i}, #{p[0]}, val={p[1]}', zip(df_i.index, df_i['value'])))\n",
    "\n",
    "images = images[:32]\n",
    "captions = captions[:32]\n",
    "display_images_grid(images, captions=captions, col_count=8)"
   ]
  },
  {
   "cell_type": "code",
   "execution_count": 267,
   "id": "741b27d9-97cf-4a62-85df-fbb1bac61818",
   "metadata": {},
   "outputs": [],
   "source": [
    "# # TEST RUN\n",
    "# TEST_RUN_ID += 1\n",
    "# count = 500\n",
    "# test_image_ids = RNG.choice(df_test_images.index.unique(), count, replace=False)\n",
    "# #test_image_ids = [100007372]\n",
    "# test_result_rows = []\n",
    "\n",
    "# for image_id in tqdm(test_image_ids):\n",
    "#     image_value = df_test_images.loc[image_id]['value']\n",
    "#     df_image_encodings = pd.read_sql('SELECT hdv FROM image_encodings WHERE image_id=:image_id', params={'image_id': int(image_id)}, con=test_db_con)\n",
    "#     assert len(df_image_encodings) > 0\n",
    "#     image_encoding_hdvs = map(lambda h: np.frombuffer(h, dtype='b'), df_image_encodings['hdv'])\n",
    "#     max_cos_sim_index = -1 # aka cluster id\n",
    "#     max_similar_cluster_image_value = ''\n",
    "#     max_cos_sim = 0\n",
    "\n",
    "#     for image_encoding_hdv in image_encoding_hdvs:\n",
    "#         image_encoding_hdv_norm = hdc.normalize(image_encoding_hdv)\n",
    "#         image_encoding_hdv_norm = xp_array_to_gpu(image_encoding_hdv_norm)\n",
    "#         cos_sims = COLUMN.cluster_norms.array @ image_encoding_hdv_norm\n",
    "#         this_max_cos_sim_index = int(xp.argmax(cos_sims))\n",
    "#         this_max_cos_sim = xp_array_from_gpu(cos_sims[this_max_cos_sim_index])\n",
    "\n",
    "#         if cos_sims[this_max_cos_sim_index] < COS_SIM_THRESHOLD:\n",
    "#             continue\n",
    "\n",
    "#         if this_max_cos_sim > max_cos_sim:\n",
    "#             max_cos_sim = this_max_cos_sim\n",
    "#             max_cos_sim_index = this_max_cos_sim_index\n",
    "#             similar_cluster_image_ids = COLUMN.cluster_to_image_ids[max_cos_sim_index]\n",
    "#             assert len(similar_cluster_image_ids) > 0\n",
    "#             similar_cluster_image_id = next(iter(similar_cluster_image_ids))\n",
    "#             max_similar_cluster_image_value = df_train_images.loc[similar_cluster_image_id]['value'] # exactly from train! (i.e. we look for prototype in train data)\n",
    "    \n",
    "#     test_result_rows.append([TEST_RUN_ID, image_id, image_value, max_cos_sim_index, max_similar_cluster_image_value, max_cos_sim])\n",
    "\n",
    "# df_test_results_for_run = pd.DataFrame(test_result_rows, columns=df_test_results.columns)\n",
    "# concat_list = [df_test_results] if len(df_test_results) > 0 else []\n",
    "# concat_list.append(df_test_results_for_run)\n",
    "# df_test_results = pd.concat(concat_list, ignore_index=True)"
   ]
  },
  {
   "cell_type": "code",
   "execution_count": 268,
   "id": "4f306b66-f3a8-4914-a11c-7500746c8911",
   "metadata": {},
   "outputs": [],
   "source": [
    "# df_test_results_incorrect_infers = df_test_results_for_run[df_test_results_for_run['true_value'] != df_test_results_for_run['infer_value']]\n",
    "# incorrect_infer_row_index = RNG.choice(df_test_results_incorrect_infers.index.unique())\n",
    "# test_run_id = df_test_results_incorrect_infers.loc[incorrect_infer_row_index]['test_run_id']\n",
    "# incorrect_infer_image_id = df_test_results_incorrect_infers.loc[incorrect_infer_row_index]['test_image_id']\n",
    "# image_data = df_test_images.loc[incorrect_infer_image_id]['png']\n",
    "# image_value = df_test_images.loc[incorrect_infer_image_id]['value']\n",
    "\n",
    "# df_image_encodings = pd.read_sql('SELECT hdv FROM image_encodings WHERE image_id=:image_id', params={'image_id': int(incorrect_infer_image_id)}, con=test_db_con)\n",
    "# assert len(df_image_encodings) > 0\n",
    "# image_encoding_hdvs = map(lambda h: np.frombuffer(h, dtype='b'), df_image_encodings['hdv'])\n",
    "# df_x = pd.DataFrame(columns=['test_run_id', 'test_image_id', 'true_value', 'cluster_id', 'cluster_value', 'sim'])\n",
    "\n",
    "# for image_encoding_hdv in image_encoding_hdvs:\n",
    "#     image_encoding_hdv_norm = hdc.normalize(image_encoding_hdv)\n",
    "#     image_encoding_hdv_norm = xp_array_to_gpu(image_encoding_hdv_norm)\n",
    "#     cos_sims = COLUMN.cluster_norms.array @ image_encoding_hdv_norm\n",
    "#     max_cos_sim_index = int(xp.argmax(cos_sims))\n",
    "#     max_cos_sim = xp_array_from_gpu(cos_sims[max_cos_sim_index])\n",
    "\n",
    "#     if cos_sims[max_cos_sim_index] < COS_SIM_THRESHOLD:\n",
    "#         continue\n",
    "\n",
    "#     similar_cluster_image_ids = COLUMN.cluster_to_image_ids[max_cos_sim_index]\n",
    "#     assert len(similar_cluster_image_ids) > 0\n",
    "#     similar_cluster_image_id = next(iter(similar_cluster_image_ids))\n",
    "#     similar_cluster_image_value = df_train_images.loc[similar_cluster_image_id]['value'] # exactly from train! (i.e. we look for prototype in train data)\n",
    "#     df_x.loc[len(df_x)] = [test_run_id, incorrect_infer_image_id, image_value, max_cos_sim_index, similar_cluster_image_value, max_cos_sim]\n",
    "\n",
    "# df_x.sort_values(by='sim', ascending=False).head()"
   ]
  },
  {
   "cell_type": "code",
   "execution_count": 269,
   "id": "dedefb7f-24e7-43ca-91d6-eecc3fbaeb17",
   "metadata": {},
   "outputs": [
    {
     "data": {
      "application/vnd.jupyter.widget-view+json": {
       "model_id": "0a41394d562f45ada05fb7d1f1f73142",
       "version_major": 2,
       "version_minor": 0
      },
      "text/plain": [
       "  0%|          | 0/2000 [00:00<?, ?it/s]"
      ]
     },
     "metadata": {},
     "output_type": "display_data"
    }
   ],
   "source": [
    "# TEST RUN\n",
    "TEST_RUN_ID += 1\n",
    "count = 2000\n",
    "test_image_ids = RNG.choice(df_test_images.index.unique(), count, replace=False)\n",
    "#test_image_ids = [100007372]\n",
    "test_result_rows = []\n",
    "\n",
    "for image_id in tqdm(test_image_ids):\n",
    "    max_cos_sim_index = -1 # aka cluster id\n",
    "    max_similar_cluster_image_value = ''\n",
    "    max_cos_sim = 0\n",
    "\n",
    "    image_value = df_test_images.loc[image_id]['value']\n",
    "    df_image_encodings = pd.read_sql('SELECT hdv FROM image_encodings WHERE image_id=:image_id', params={'image_id': int(image_id)}, con=test_db_con)\n",
    "    assert len(df_image_encodings) > 0\n",
    "    image_encoding_hdvs = list(map(lambda h: np.frombuffer(h, dtype='b'), df_image_encodings['hdv']))\n",
    "    image_encoding_hdvs_norm = hdc.normalize(image_encoding_hdvs)\n",
    "    image_encoding_hdvs_norm = xp_array_to_gpu(image_encoding_hdvs_norm)\n",
    "\n",
    "    cos_sim_matrix = COLUMN.cluster_norms.array @ image_encoding_hdvs_norm.T\n",
    "    \n",
    "    # cos_sim_vector = xp_array_from_gpu(xp.max(cos_sim_matrix, axis=1)) # how each mem recall (max cos sim) is close to current image\n",
    "\n",
    "    cos_sim_matrix[cos_sim_matrix < COS_SIM_THRESHOLD] = 0\n",
    "    cos_sim_vector = xp_array_from_gpu(xp.sum(cos_sim_matrix, axis=1)) # how each mem recall (sum cos sim) is close to current image\n",
    "    \n",
    "    assert cos_sim_vector.shape == (COLUMN.cluster_norms.array.shape[0],)\n",
    "    cluster_ids_by_match_score = np.argsort(-cos_sim_vector) # sorted desc\n",
    "\n",
    "    if cluster_ids_by_match_score.shape[0] > 0:\n",
    "        cluster_id = cluster_ids_by_match_score[0]\n",
    "        cos_sim_value = cos_sim_vector[cluster_id]\n",
    "\n",
    "        # if cos_sim_value >= COS_SIM_THRESHOLD:\n",
    "        if cos_sim_value > 0:\n",
    "            cluster_image_ids = COLUMN.cluster_to_image_ids[cluster_id]\n",
    "            assert len(cluster_image_ids) > 0\n",
    "            cluster_image_id = next(iter(cluster_image_ids))\n",
    "            cluster_image_value = df_train_images.loc[cluster_image_id]['value']\n",
    "            max_cos_sim_index = cluster_id\n",
    "            max_similar_cluster_image_value = cluster_image_value\n",
    "            max_cos_sim = cos_sim_value\n",
    "    \n",
    "    test_result_rows.append([TEST_RUN_ID, image_id, image_value, max_cos_sim_index, max_similar_cluster_image_value, max_cos_sim])\n",
    "\n",
    "df_test_results_for_run = pd.DataFrame(test_result_rows, columns=df_test_results.columns)\n",
    "concat_list = [df_test_results] if len(df_test_results) > 0 else []\n",
    "concat_list.append(df_test_results_for_run)\n",
    "df_test_results = pd.concat(concat_list, ignore_index=True)"
   ]
  },
  {
   "cell_type": "code",
   "execution_count": 270,
   "id": "9ded612b-96ae-4f3d-a964-d78dcfb19834",
   "metadata": {},
   "outputs": [
    {
     "data": {
      "image/png": "[encoded data removed]",
      "text/plain": [
       "<Figure size 1600x400 with 3 Axes>"
      ]
     },
     "metadata": {},
     "output_type": "display_data"
    },
    {
     "data": {
      "text/html": [
       "<div>\n",
       "<style scoped>\n",
       "    .dataframe tbody tr th:only-of-type {\n",
       "        vertical-align: middle;\n",
       "    }\n",
       "\n",
       "    .dataframe tbody tr th {\n",
       "        vertical-align: top;\n",
       "    }\n",
       "\n",
       "    .dataframe thead th {\n",
       "        text-align: right;\n",
       "    }\n",
       "</style>\n",
       "<table border=\"1\" class=\"dataframe\">\n",
       "  <thead>\n",
       "    <tr style=\"text-align: right;\">\n",
       "      <th></th>\n",
       "      <th>count</th>\n",
       "      <th>infers</th>\n",
       "      <th>correct_infers</th>\n",
       "      <th>infer_ratio</th>\n",
       "      <th>accuracy_count</th>\n",
       "      <th>accuracy_infers</th>\n",
       "    </tr>\n",
       "    <tr>\n",
       "      <th>test_run_id</th>\n",
       "      <th></th>\n",
       "      <th></th>\n",
       "      <th></th>\n",
       "      <th></th>\n",
       "      <th></th>\n",
       "      <th></th>\n",
       "    </tr>\n",
       "  </thead>\n",
       "  <tbody>\n",
       "    <tr>\n",
       "      <th>1</th>\n",
       "      <td>2000</td>\n",
       "      <td>2000</td>\n",
       "      <td>1816</td>\n",
       "      <td>1.0</td>\n",
       "      <td>0.908</td>\n",
       "      <td>0.908</td>\n",
       "    </tr>\n",
       "  </tbody>\n",
       "</table>\n",
       "</div>"
      ],
      "text/plain": [
       "             count  infers  correct_infers  infer_ratio  accuracy_count  \\\n",
       "test_run_id                                                               \n",
       "1             2000    2000            1816          1.0           0.908   \n",
       "\n",
       "             accuracy_infers  \n",
       "test_run_id                   \n",
       "1                      0.908  "
      ]
     },
     "execution_count": 270,
     "metadata": {},
     "output_type": "execute_result"
    }
   ],
   "source": [
    "df_test_results2 = df_test_results.copy()\n",
    "df_test_results2['is_infer'] = df_test_results2['cluster_id'] > -1\n",
    "df_test_results2['is_correct_infer'] = df_test_results2['true_value'] == df_test_results2['infer_value']\n",
    "df_test_results2 = df_test_results2.groupby(by=['test_run_id']).agg({'test_image_id': 'count', 'is_infer': 'sum', 'is_correct_infer': 'sum'})\n",
    "df_test_results2.rename(columns=dict(test_image_id='count', is_infer='infers', is_correct_infer='correct_infers'), inplace=True, errors='raise')\n",
    "df_test_results2['infer_ratio'] = df_test_results2['infers'] / df_test_results2['count']\n",
    "df_test_results2['accuracy_count'] = df_test_results2['correct_infers'] / df_test_results2['count']\n",
    "df_test_results2['accuracy_infers'] = df_test_results2['correct_infers'] / df_test_results2['infers']\n",
    "\n",
    "plt.figure(figsize=(16, 4))\n",
    "plt.subplot(1, 3, 1)\n",
    "b = plt.bar(list(map(str, df_test_results2.index)), list(df_test_results2['infer_ratio']))\n",
    "plt.bar_label(b, map(lambda p: f'{p*100:.0f}', df_test_results2['infer_ratio']), label_type='center')\n",
    "plt.ylim(0, 1)\n",
    "plt.title('Infers, %')\n",
    "plt.xlabel('Test run')\n",
    "plt.grid()\n",
    "\n",
    "plt.subplot(1, 3, 2)\n",
    "b = plt.bar(list(map(str, df_test_results2.index)), list(df_test_results2['accuracy_count']))\n",
    "plt.bar_label(b, map(lambda p: f'{p*100:.0f}', df_test_results2['accuracy_count']), label_type='center')\n",
    "plt.ylim(0, 1)\n",
    "plt.title('Accuracy (Count), %')\n",
    "plt.xlabel('Test run')\n",
    "plt.grid()\n",
    "\n",
    "plt.subplot(1, 3, 3)\n",
    "b = plt.bar(list(map(str, df_test_results2.index)), list(df_test_results2['accuracy_infers']))\n",
    "plt.bar_label(b, map(lambda p: f'{p*100:.0f}', df_test_results2['accuracy_infers']), label_type='center')\n",
    "plt.ylim(0, 1)\n",
    "plt.title('Accuracy (Infers), %')\n",
    "plt.xlabel('Test run')\n",
    "plt.grid()\n",
    "\n",
    "plt.show()\n",
    "df_test_results2"
   ]
  },
  {
   "cell_type": "code",
   "execution_count": 271,
   "id": "a7f7fd04-f413-47bf-b601-3a9327b61c82",
   "metadata": {},
   "outputs": [
    {
     "data": {
      "text/html": [
       "<div>\n",
       "<style scoped>\n",
       "    .dataframe tbody tr th:only-of-type {\n",
       "        vertical-align: middle;\n",
       "    }\n",
       "\n",
       "    .dataframe tbody tr th {\n",
       "        vertical-align: top;\n",
       "    }\n",
       "\n",
       "    .dataframe thead th {\n",
       "        text-align: right;\n",
       "    }\n",
       "</style>\n",
       "<table border=\"1\" class=\"dataframe\">\n",
       "  <thead>\n",
       "    <tr style=\"text-align: right;\">\n",
       "      <th></th>\n",
       "      <th>test_run_id</th>\n",
       "      <th>test_image_id</th>\n",
       "      <th>true_value</th>\n",
       "      <th>cluster_id</th>\n",
       "      <th>cluster_value</th>\n",
       "      <th>sim</th>\n",
       "    </tr>\n",
       "  </thead>\n",
       "  <tbody>\n",
       "    <tr>\n",
       "      <th>19</th>\n",
       "      <td>1</td>\n",
       "      <td>100009861</td>\n",
       "      <td>4</td>\n",
       "      <td>43</td>\n",
       "      <td>4</td>\n",
       "      <td>0.21922419385315378</td>\n",
       "    </tr>\n",
       "    <tr>\n",
       "      <th>4</th>\n",
       "      <td>1</td>\n",
       "      <td>100009861</td>\n",
       "      <td>4</td>\n",
       "      <td>43</td>\n",
       "      <td>4</td>\n",
       "      <td>0.19556502682286714</td>\n",
       "    </tr>\n",
       "    <tr>\n",
       "      <th>0</th>\n",
       "      <td>1</td>\n",
       "      <td>100009861</td>\n",
       "      <td>4</td>\n",
       "      <td>289</td>\n",
       "      <td>9</td>\n",
       "      <td>0.18811712189305463</td>\n",
       "    </tr>\n",
       "    <tr>\n",
       "      <th>23</th>\n",
       "      <td>1</td>\n",
       "      <td>100009861</td>\n",
       "      <td>4</td>\n",
       "      <td>289</td>\n",
       "      <td>9</td>\n",
       "      <td>0.18716814558131273</td>\n",
       "    </tr>\n",
       "    <tr>\n",
       "      <th>22</th>\n",
       "      <td>1</td>\n",
       "      <td>100009861</td>\n",
       "      <td>4</td>\n",
       "      <td>289</td>\n",
       "      <td>9</td>\n",
       "      <td>0.18114721123851113</td>\n",
       "    </tr>\n",
       "  </tbody>\n",
       "</table>\n",
       "</div>"
      ],
      "text/plain": [
       "    test_run_id  test_image_id true_value  cluster_id cluster_value  \\\n",
       "19            1      100009861          4          43             4   \n",
       "4             1      100009861          4          43             4   \n",
       "0             1      100009861          4         289             9   \n",
       "23            1      100009861          4         289             9   \n",
       "22            1      100009861          4         289             9   \n",
       "\n",
       "                    sim  \n",
       "19  0.21922419385315378  \n",
       "4   0.19556502682286714  \n",
       "0   0.18811712189305463  \n",
       "23  0.18716814558131273  \n",
       "22  0.18114721123851113  "
      ]
     },
     "execution_count": 271,
     "metadata": {},
     "output_type": "execute_result"
    }
   ],
   "source": [
    "df_test_results_incorrect_infers = df_test_results_for_run[df_test_results_for_run['true_value'] != df_test_results_for_run['infer_value']]\n",
    "incorrect_infer_row_index = RNG.choice(df_test_results_incorrect_infers.index.unique())\n",
    "test_run_id = df_test_results_incorrect_infers.loc[incorrect_infer_row_index]['test_run_id']\n",
    "incorrect_infer_image_id = df_test_results_incorrect_infers.loc[incorrect_infer_row_index]['test_image_id']\n",
    "image_data = df_test_images.loc[incorrect_infer_image_id]['png']\n",
    "image_value = df_test_images.loc[incorrect_infer_image_id]['value']\n",
    "\n",
    "df_image_encodings = pd.read_sql('SELECT hdv FROM image_encodings WHERE image_id=:image_id', params={'image_id': int(incorrect_infer_image_id)}, con=test_db_con)\n",
    "assert len(df_image_encodings) > 0\n",
    "image_encoding_hdvs = map(lambda h: np.frombuffer(h, dtype='b'), df_image_encodings['hdv'])\n",
    "df_x = pd.DataFrame(columns=['test_run_id', 'test_image_id', 'true_value', 'cluster_id', 'cluster_value', 'sim'])\n",
    "\n",
    "for image_encoding_hdv in image_encoding_hdvs:\n",
    "    image_encoding_hdv_norm = hdc.normalize(image_encoding_hdv)\n",
    "    image_encoding_hdv_norm = xp_array_to_gpu(image_encoding_hdv_norm)\n",
    "    cos_sims = COLUMN.cluster_norms.array @ image_encoding_hdv_norm\n",
    "    max_cos_sim_index = int(xp.argmax(cos_sims))\n",
    "    max_cos_sim = xp_array_from_gpu(cos_sims[max_cos_sim_index])\n",
    "\n",
    "    if cos_sims[max_cos_sim_index] < COS_SIM_THRESHOLD:\n",
    "        continue\n",
    "\n",
    "    similar_cluster_image_ids = COLUMN.cluster_to_image_ids[max_cos_sim_index]\n",
    "    assert len(similar_cluster_image_ids) > 0\n",
    "    similar_cluster_image_id = next(iter(similar_cluster_image_ids))\n",
    "    similar_cluster_image_value = df_train_images.loc[similar_cluster_image_id]['value'] # exactly from train! (i.e. we look for prototype in train data)\n",
    "    df_x.loc[len(df_x)] = [test_run_id, incorrect_infer_image_id, image_value, max_cos_sim_index, similar_cluster_image_value, max_cos_sim]\n",
    "\n",
    "df_x.sort_values(by='sim', ascending=False).head()"
   ]
  },
  {
   "cell_type": "code",
   "execution_count": 210,
   "id": "0c9b40bc-7e09-40a6-947b-090d0ef463a2",
   "metadata": {},
   "outputs": [
    {
     "data": {
      "text/html": [
       "<div>\n",
       "<style scoped>\n",
       "    .dataframe tbody tr th:only-of-type {\n",
       "        vertical-align: middle;\n",
       "    }\n",
       "\n",
       "    .dataframe tbody tr th {\n",
       "        vertical-align: top;\n",
       "    }\n",
       "\n",
       "    .dataframe thead th {\n",
       "        text-align: right;\n",
       "    }\n",
       "</style>\n",
       "<table border=\"1\" class=\"dataframe\">\n",
       "  <thead>\n",
       "    <tr style=\"text-align: right;\">\n",
       "      <th></th>\n",
       "      <th>cluster_value</th>\n",
       "      <th>sim</th>\n",
       "      <th>true_value</th>\n",
       "    </tr>\n",
       "    <tr>\n",
       "      <th>cluster_id</th>\n",
       "      <th></th>\n",
       "      <th></th>\n",
       "      <th></th>\n",
       "    </tr>\n",
       "  </thead>\n",
       "  <tbody>\n",
       "    <tr>\n",
       "      <th>70</th>\n",
       "      <td>0</td>\n",
       "      <td>0.747907</td>\n",
       "      <td>5</td>\n",
       "    </tr>\n",
       "    <tr>\n",
       "      <th>207</th>\n",
       "      <td>5</td>\n",
       "      <td>0.738825</td>\n",
       "      <td>5</td>\n",
       "    </tr>\n",
       "    <tr>\n",
       "      <th>173</th>\n",
       "      <td>3</td>\n",
       "      <td>0.440719</td>\n",
       "      <td>5</td>\n",
       "    </tr>\n",
       "    <tr>\n",
       "      <th>78</th>\n",
       "      <td>0</td>\n",
       "      <td>0.398074</td>\n",
       "      <td>5</td>\n",
       "    </tr>\n",
       "    <tr>\n",
       "      <th>2</th>\n",
       "      <td>3</td>\n",
       "      <td>0.362198</td>\n",
       "      <td>5</td>\n",
       "    </tr>\n",
       "    <tr>\n",
       "      <th>16</th>\n",
       "      <td>2</td>\n",
       "      <td>0.312833</td>\n",
       "      <td>5</td>\n",
       "    </tr>\n",
       "    <tr>\n",
       "      <th>71</th>\n",
       "      <td>5</td>\n",
       "      <td>0.278002</td>\n",
       "      <td>5</td>\n",
       "    </tr>\n",
       "    <tr>\n",
       "      <th>60</th>\n",
       "      <td>6</td>\n",
       "      <td>0.223618</td>\n",
       "      <td>5</td>\n",
       "    </tr>\n",
       "    <tr>\n",
       "      <th>86</th>\n",
       "      <td>5</td>\n",
       "      <td>0.11246081332037595</td>\n",
       "      <td>5</td>\n",
       "    </tr>\n",
       "    <tr>\n",
       "      <th>152</th>\n",
       "      <td>7</td>\n",
       "      <td>0.09247123031089328</td>\n",
       "      <td>5</td>\n",
       "    </tr>\n",
       "    <tr>\n",
       "      <th>318</th>\n",
       "      <td>1</td>\n",
       "      <td>0.07563782837364573</td>\n",
       "      <td>5</td>\n",
       "    </tr>\n",
       "    <tr>\n",
       "      <th>49</th>\n",
       "      <td>5</td>\n",
       "      <td>0.07323561143798807</td>\n",
       "      <td>5</td>\n",
       "    </tr>\n",
       "  </tbody>\n",
       "</table>\n",
       "</div>"
      ],
      "text/plain": [
       "           cluster_value                  sim true_value\n",
       "cluster_id                                              \n",
       "70                     0             0.747907          5\n",
       "207                    5             0.738825          5\n",
       "173                    3             0.440719          5\n",
       "78                     0             0.398074          5\n",
       "2                      3             0.362198          5\n",
       "16                     2             0.312833          5\n",
       "71                     5             0.278002          5\n",
       "60                     6             0.223618          5\n",
       "86                     5  0.11246081332037595          5\n",
       "152                    7  0.09247123031089328          5\n",
       "318                    1  0.07563782837364573          5\n",
       "49                     5  0.07323561143798807          5"
      ]
     },
     "execution_count": 210,
     "metadata": {},
     "output_type": "execute_result"
    }
   ],
   "source": [
    "df_x_pivot = pd.pivot_table(df_x, index='cluster_id', \n",
    "                            values=['true_value', 'cluster_value', 'sim'], \n",
    "                            aggfunc=dict(cluster_value='first', true_value='first', sim='sum'))\n",
    "df_x_pivot.sort_values(by='sim', ascending=False)"
   ]
  },
  {
   "cell_type": "code",
   "execution_count": 100,
   "id": "13076351-aaf9-4ef1-9e86-a77ee51ab0c0",
   "metadata": {},
   "outputs": [
    {
     "data": {
      "text/html": [
       "<div>\n",
       "<style scoped>\n",
       "    .dataframe tbody tr th:only-of-type {\n",
       "        vertical-align: middle;\n",
       "    }\n",
       "\n",
       "    .dataframe tbody tr th {\n",
       "        vertical-align: top;\n",
       "    }\n",
       "\n",
       "    .dataframe thead th {\n",
       "        text-align: right;\n",
       "    }\n",
       "</style>\n",
       "<table border=\"1\" class=\"dataframe\">\n",
       "  <thead>\n",
       "    <tr style=\"text-align: right;\">\n",
       "      <th></th>\n",
       "      <th>cluster_value</th>\n",
       "      <th>sim</th>\n",
       "      <th>true_value</th>\n",
       "    </tr>\n",
       "    <tr>\n",
       "      <th>cluster_id</th>\n",
       "      <th></th>\n",
       "      <th></th>\n",
       "      <th></th>\n",
       "    </tr>\n",
       "  </thead>\n",
       "  <tbody>\n",
       "    <tr>\n",
       "      <th>19</th>\n",
       "      <td>3</td>\n",
       "      <td>0.12703890208008853</td>\n",
       "      <td>0</td>\n",
       "    </tr>\n",
       "    <tr>\n",
       "      <th>6</th>\n",
       "      <td>6</td>\n",
       "      <td>0.11769419304673903</td>\n",
       "      <td>0</td>\n",
       "    </tr>\n",
       "    <tr>\n",
       "      <th>4</th>\n",
       "      <td>3</td>\n",
       "      <td>0.10558864393968194</td>\n",
       "      <td>0</td>\n",
       "    </tr>\n",
       "    <tr>\n",
       "      <th>13</th>\n",
       "      <td>8</td>\n",
       "      <td>0.0997797655127572</td>\n",
       "      <td>0</td>\n",
       "    </tr>\n",
       "    <tr>\n",
       "      <th>9</th>\n",
       "      <td>2</td>\n",
       "      <td>0.09932921201809847</td>\n",
       "      <td>0</td>\n",
       "    </tr>\n",
       "    <tr>\n",
       "      <th>21</th>\n",
       "      <td>7</td>\n",
       "      <td>0.09553384113205146</td>\n",
       "      <td>0</td>\n",
       "    </tr>\n",
       "    <tr>\n",
       "      <th>11</th>\n",
       "      <td>8</td>\n",
       "      <td>0.08697738084024423</td>\n",
       "      <td>0</td>\n",
       "    </tr>\n",
       "    <tr>\n",
       "      <th>16</th>\n",
       "      <td>0</td>\n",
       "      <td>0.07189567141203239</td>\n",
       "      <td>0</td>\n",
       "    </tr>\n",
       "  </tbody>\n",
       "</table>\n",
       "</div>"
      ],
      "text/plain": [
       "           cluster_value                  sim true_value\n",
       "cluster_id                                              \n",
       "19                     3  0.12703890208008853          0\n",
       "6                      6  0.11769419304673903          0\n",
       "4                      3  0.10558864393968194          0\n",
       "13                     8   0.0997797655127572          0\n",
       "9                      2  0.09932921201809847          0\n",
       "21                     7  0.09553384113205146          0\n",
       "11                     8  0.08697738084024423          0\n",
       "16                     0  0.07189567141203239          0"
      ]
     },
     "execution_count": 100,
     "metadata": {},
     "output_type": "execute_result"
    }
   ],
   "source": [
    "df_x_pivot = pd.pivot_table(df_x, index='cluster_id', \n",
    "                            values=['true_value', 'cluster_value', 'sim'], \n",
    "                            aggfunc=dict(cluster_value='first', true_value='first', sim='max'))\n",
    "df_x_pivot.sort_values(by='sim', ascending=False)"
   ]
  },
  {
   "cell_type": "code",
   "execution_count": 109,
   "id": "bb3d6012-47e4-4759-8381-4ed013136e63",
   "metadata": {},
   "outputs": [
    {
     "data": {
      "text/html": [
       "<div>\n",
       "<style scoped>\n",
       "    .dataframe tbody tr th:only-of-type {\n",
       "        vertical-align: middle;\n",
       "    }\n",
       "\n",
       "    .dataframe tbody tr th {\n",
       "        vertical-align: top;\n",
       "    }\n",
       "\n",
       "    .dataframe thead th {\n",
       "        text-align: right;\n",
       "    }\n",
       "</style>\n",
       "<table border=\"1\" class=\"dataframe\">\n",
       "  <thead>\n",
       "    <tr style=\"text-align: right;\">\n",
       "      <th></th>\n",
       "      <th>test_run_id</th>\n",
       "      <th>test_image_id</th>\n",
       "      <th>true_value</th>\n",
       "      <th>cluster_id</th>\n",
       "      <th>infer_value</th>\n",
       "      <th>sim</th>\n",
       "    </tr>\n",
       "  </thead>\n",
       "  <tbody>\n",
       "    <tr>\n",
       "      <th>7</th>\n",
       "      <td>8</td>\n",
       "      <td>100000318</td>\n",
       "      <td>2</td>\n",
       "      <td>-1</td>\n",
       "      <td></td>\n",
       "      <td>0.0</td>\n",
       "    </tr>\n",
       "  </tbody>\n",
       "</table>\n",
       "</div>"
      ],
      "text/plain": [
       "   test_run_id  test_image_id true_value  cluster_id infer_value  sim\n",
       "7            8      100000318          2          -1              0.0"
      ]
     },
     "execution_count": 109,
     "metadata": {},
     "output_type": "execute_result"
    }
   ],
   "source": [
    "df_test_results_for_run[df_test_results_for_run['test_image_id'] == 100000318]"
   ]
  }
 ],
 "metadata": {
  "kernelspec": {
   "display_name": "Python 3 (ipykernel)",
   "language": "python",
   "name": "python3"
  },
  "language_info": {
   "codemirror_mode": {
    "name": "ipython",
    "version": 3
   },
   "file_extension": ".py",
   "mimetype": "text/x-python",
   "name": "python",
   "nbconvert_exporter": "python",
   "pygments_lexer": "ipython3",
   "version": "3.12.2"
  }
 },
 "nbformat": 4,
 "nbformat_minor": 5
}
