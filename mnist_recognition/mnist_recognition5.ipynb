{
 "cells": [
  {
   "cell_type": "code",
   "execution_count": 16,
   "id": "27532844-1826-4299-b063-16a22e592f3f",
   "metadata": {},
   "outputs": [],
   "source": [
    "import os, math\n",
    "from collections import defaultdict\n",
    "import itertools\n",
    "import sqlite3\n",
    "\n",
    "from PIL import Image, ImageDraw\n",
    "from tqdm.notebook import tqdm\n",
    "\n",
    "from sklearn.model_selection import train_test_split\n",
    "import matplotlib.pyplot as plt\n",
    "import scipy\n",
    "import numpy as np\n",
    "import cupy as cp\n",
    "import pandas as pd\n",
    "\n",
    "from utils import *\n",
    "from hdc import *"
   ]
  },
  {
   "cell_type": "code",
   "execution_count": 17,
   "id": "73358262-adf2-4d17-a383-f120a5d1f8aa",
   "metadata": {},
   "outputs": [
    {
     "name": "stdout",
     "output_type": "stream",
     "text": [
      "xp = numpy\n"
     ]
    }
   ],
   "source": [
    "config = Config('SQLITE3')\n",
    "RNG = np.random.default_rng()\n",
    "\n",
    "if cp.cuda.is_available():\n",
    "    device_marker = cp.empty(1)\n",
    "    xp_array_from_gpu = lambda a: a.get() if isinstance(a, cp.ndarray) else a\n",
    "    xp_array_to_gpu = lambda a: cp.asarray(a) if isinstance(a, np.ndarray) else a\n",
    "else:\n",
    "    device_marker = np.empty(1)\n",
    "    xp_array_from_gpu = lambda a: a\n",
    "    xp_array_to_gpu = lambda a: a\n",
    "    \n",
    "xp = cp.get_array_module(device_marker)\n",
    "print(f'xp = {xp.__name__}')\n",
    "\n",
    "train_db_con = sqlite3.connect(os.path.join(config.dataset_path, config.train_db_file_name))\n",
    "test_db_con = sqlite3.connect(os.path.join(config.dataset_path, config.test_db_file_name))"
   ]
  },
  {
   "cell_type": "code",
   "execution_count": 18,
   "id": "d2dd62ab-b44e-4251-9e86-d41b3672e36e",
   "metadata": {},
   "outputs": [
    {
     "name": "stdout",
     "output_type": "stream",
     "text": [
      "CPU times: user 3 μs, sys: 0 ns, total: 3 μs\n",
      "Wall time: 5.72 μs\n"
     ]
    },
    {
     "data": {
      "text/plain": [
       "((10000, 3), (2000, 3))"
      ]
     },
     "execution_count": 18,
     "metadata": {},
     "output_type": "execute_result"
    }
   ],
   "source": [
    "%time\n",
    "df_train_images = pd.read_sql_query('SELECT * FROM images', con=train_db_con, index_col='image_id')\n",
    "df_test_images = pd.read_sql_query('SELECT * FROM images', con=test_db_con, index_col='image_id')\n",
    "df_train_images.shape, df_test_images.shape"
   ]
  },
  {
   "cell_type": "code",
   "execution_count": 19,
   "id": "75910c5d-054d-43c0-9a34-125ecde5a068",
   "metadata": {},
   "outputs": [
    {
     "data": {
      "text/html": [
       "<div>\n",
       "<style scoped>\n",
       "    .dataframe tbody tr th:only-of-type {\n",
       "        vertical-align: middle;\n",
       "    }\n",
       "\n",
       "    .dataframe tbody tr th {\n",
       "        vertical-align: top;\n",
       "    }\n",
       "\n",
       "    .dataframe thead th {\n",
       "        text-align: right;\n",
       "    }\n",
       "</style>\n",
       "<table border=\"1\" class=\"dataframe\">\n",
       "  <thead>\n",
       "    <tr style=\"text-align: right;\">\n",
       "      <th></th>\n",
       "      <th>index</th>\n",
       "      <th>value</th>\n",
       "      <th>png</th>\n",
       "    </tr>\n",
       "    <tr>\n",
       "      <th>image_id</th>\n",
       "      <th></th>\n",
       "      <th></th>\n",
       "      <th></th>\n",
       "    </tr>\n",
       "  </thead>\n",
       "  <tbody>\n",
       "    <tr>\n",
       "      <th>27456</th>\n",
       "      <td>0</td>\n",
       "      <td>2</td>\n",
       "      <td>b'\\x89PNG\\r\\n\\x1a\\n\\x00\\x00\\x00\\rIHDR\\x00\\x00\\...</td>\n",
       "    </tr>\n",
       "    <tr>\n",
       "      <th>50770</th>\n",
       "      <td>1</td>\n",
       "      <td>3</td>\n",
       "      <td>b'\\x89PNG\\r\\n\\x1a\\n\\x00\\x00\\x00\\rIHDR\\x00\\x00\\...</td>\n",
       "    </tr>\n",
       "    <tr>\n",
       "      <th>9353</th>\n",
       "      <td>2</td>\n",
       "      <td>4</td>\n",
       "      <td>b'\\x89PNG\\r\\n\\x1a\\n\\x00\\x00\\x00\\rIHDR\\x00\\x00\\...</td>\n",
       "    </tr>\n",
       "    <tr>\n",
       "      <th>50328</th>\n",
       "      <td>3</td>\n",
       "      <td>0</td>\n",
       "      <td>b'\\x89PNG\\r\\n\\x1a\\n\\x00\\x00\\x00\\rIHDR\\x00\\x00\\...</td>\n",
       "    </tr>\n",
       "    <tr>\n",
       "      <th>18785</th>\n",
       "      <td>4</td>\n",
       "      <td>3</td>\n",
       "      <td>b'\\x89PNG\\r\\n\\x1a\\n\\x00\\x00\\x00\\rIHDR\\x00\\x00\\...</td>\n",
       "    </tr>\n",
       "  </tbody>\n",
       "</table>\n",
       "</div>"
      ],
      "text/plain": [
       "          index value                                                png\n",
       "image_id                                                                \n",
       "27456         0     2  b'\\x89PNG\\r\\n\\x1a\\n\\x00\\x00\\x00\\rIHDR\\x00\\x00\\...\n",
       "50770         1     3  b'\\x89PNG\\r\\n\\x1a\\n\\x00\\x00\\x00\\rIHDR\\x00\\x00\\...\n",
       "9353          2     4  b'\\x89PNG\\r\\n\\x1a\\n\\x00\\x00\\x00\\rIHDR\\x00\\x00\\...\n",
       "50328         3     0  b'\\x89PNG\\r\\n\\x1a\\n\\x00\\x00\\x00\\rIHDR\\x00\\x00\\...\n",
       "18785         4     3  b'\\x89PNG\\r\\n\\x1a\\n\\x00\\x00\\x00\\rIHDR\\x00\\x00\\..."
      ]
     },
     "execution_count": 19,
     "metadata": {},
     "output_type": "execute_result"
    }
   ],
   "source": [
    "df_train_images.head()"
   ]
  },
  {
   "cell_type": "code",
   "execution_count": 20,
   "id": "36da65bf-9699-4d48-a46e-61690976a883",
   "metadata": {},
   "outputs": [
    {
     "data": {
      "text/plain": [
       "4096"
      ]
     },
     "execution_count": 20,
     "metadata": {},
     "output_type": "execute_result"
    }
   ],
   "source": [
    "df_first_encoding = pd.read_sql_query('SELECT * FROM image_encodings LIMIT 1', con=train_db_con)\n",
    "assert len(df_first_encoding) > 0\n",
    "IMAGE_ENCODING_DIMS = np.frombuffer(df_first_encoding.iloc[0]['data'], dtype='b').shape[0]\n",
    "assert IMAGE_ENCODING_DIMS > 0\n",
    "IMAGE_ENCODING_DIMS"
   ]
  },
  {
   "cell_type": "code",
   "execution_count": 21,
   "id": "b5a3b4ca-998d-4309-8499-d868b00ef9be",
   "metadata": {},
   "outputs": [],
   "source": [
    "def matrix_to_image(m):\n",
    "    m = m.ravel()\n",
    "    sz = int(np.sqrt(m.shape[0]))\n",
    "    assert sz * sz == m.shape[0]\n",
    "    return Image.frombytes('L', size=(sz, sz), data=m.astype('b'))"
   ]
  },
  {
   "cell_type": "code",
   "execution_count": 22,
   "id": "bc06ecb2-5ba8-4669-9dd9-17624127b081",
   "metadata": {},
   "outputs": [],
   "source": [
    "def lay_grid(image, step):\n",
    "    draw = ImageDraw.Draw(image)\n",
    "\n",
    "    for c in range(step - 1, image.height, step):\n",
    "        draw.line([0, c, image.width, c], fill=127)\n",
    "        draw.line([c, 0, c, image.height], fill=127)\n",
    "\n",
    "    return image"
   ]
  },
  {
   "cell_type": "code",
   "execution_count": 23,
   "id": "70b21219-4f16-4824-90ec-7bda1574c5d1",
   "metadata": {},
   "outputs": [
    {
     "data": {
      "text/html": [
       "<div style=\"\n",
       "        display: grid; \n",
       "        grid-template-columns: repeat(8, 128px);\n",
       "        column-gap: 1px;\n",
       "        row-gap: 1px;\">\n",
       "        \n",
       "            <figure style=\"margin: 5px !important;\">\n",
       "              <img src=\"data:image/png;base64,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\" style=\"height: auto\">\n",
       "              <figcaption style=\"font-size: 0.6em\">8</figcaption>\n",
       "            </figure>\n",
       "        \n",
       "            <figure style=\"margin: 5px !important;\">\n",
       "              <img src=\"data:image/png;base64,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\" style=\"height: auto\">\n",
       "              <figcaption style=\"font-size: 0.6em\">5</figcaption>\n",
       "            </figure>\n",
       "        \n",
       "            <figure style=\"margin: 5px !important;\">\n",
       "              <img src=\"data:image/png;base64,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\" style=\"height: auto\">\n",
       "              <figcaption style=\"font-size: 0.6em\">7</figcaption>\n",
       "            </figure>\n",
       "        \n",
       "            <figure style=\"margin: 5px !important;\">\n",
       "              <img src=\"data:image/png;base64,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\" style=\"height: auto\">\n",
       "              <figcaption style=\"font-size: 0.6em\">3</figcaption>\n",
       "            </figure>\n",
       "        \n",
       "            <figure style=\"margin: 5px !important;\">\n",
       "              <img src=\"data:image/png;base64,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\" style=\"height: auto\">\n",
       "              <figcaption style=\"font-size: 0.6em\">3</figcaption>\n",
       "            </figure>\n",
       "        \n",
       "            <figure style=\"margin: 5px !important;\">\n",
       "              <img src=\"data:image/png;base64,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\" style=\"height: auto\">\n",
       "              <figcaption style=\"font-size: 0.6em\">9</figcaption>\n",
       "            </figure>\n",
       "        \n",
       "            <figure style=\"margin: 5px !important;\">\n",
       "              <img src=\"data:image/png;base64,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\" style=\"height: auto\">\n",
       "              <figcaption style=\"font-size: 0.6em\">4</figcaption>\n",
       "            </figure>\n",
       "        \n",
       "            <figure style=\"margin: 5px !important;\">\n",
       "              <img src=\"data:image/png;base64,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\" style=\"height: auto\">\n",
       "              <figcaption style=\"font-size: 0.6em\">9</figcaption>\n",
       "            </figure>\n",
       "        \n",
       "            <figure style=\"margin: 5px !important;\">\n",
       "              <img src=\"data:image/png;base64,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\" style=\"height: auto\">\n",
       "              <figcaption style=\"font-size: 0.6em\">2</figcaption>\n",
       "            </figure>\n",
       "        \n",
       "            <figure style=\"margin: 5px !important;\">\n",
       "              <img src=\"data:image/png;base64,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\" style=\"height: auto\">\n",
       "              <figcaption style=\"font-size: 0.6em\">3</figcaption>\n",
       "            </figure>\n",
       "        \n",
       "            <figure style=\"margin: 5px !important;\">\n",
       "              <img src=\"data:image/png;base64,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\" style=\"height: auto\">\n",
       "              <figcaption style=\"font-size: 0.6em\">0</figcaption>\n",
       "            </figure>\n",
       "        \n",
       "            <figure style=\"margin: 5px !important;\">\n",
       "              <img src=\"data:image/png;base64,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\" style=\"height: auto\">\n",
       "              <figcaption style=\"font-size: 0.6em\">1</figcaption>\n",
       "            </figure>\n",
       "        \n",
       "            <figure style=\"margin: 5px !important;\">\n",
       "              <img src=\"data:image/png;base64,iVBORw0KGgoAAAANSUhEUgAAAIAAAACACAAAAADmVT4XAAAKvklEQVR4nO2aSXvjuBGGCwtBgqtELdRiy3a3c8n//y+ZyXR71y5RFCnuBJmDenqc5LEtSnbnEH9HkgJeoQoFVAEAn/rUpz71qU996v9d6OOaJoRihADKUghRvfQV/bD+kWKYqkShLKIgCItfDwCqM2ypDBWxO52k/wMAavSvh5aCsmBcBd7Ln30YgGI5o6smh9irVhz/YgBECLHsTq/fVMod6Ap92dc/BgBTRW21O522xfIqZK/0/1EAstHoOh3bMjBgqKrqxVkILxvnFFFudftO29JlXOZpmr8cBk4eAUQQJgTjqsgL8fMhM1r9oWObCs4i3/OjvPwwAKooMucKKQJvG/8EUBqDy9FZW8flbvn0MFlHHwfADMtsNk0Wzx6ynwBYsc+uLzq2Bun68Y+7x3koXmzgRADEG91Or9dSAj1Z/Xwq6Z3zLxe6DhDM736/m212HwbAzXa/f3bWlTfxE9sjVcDMZndw1qMYos388f7ejYoPMQEmhDa6g1F/OGxTbCpk/1RiRmfQ7zYZ5Ik7m81XbpC/0sopALKqdS6+Xva7XbMMZbqf0URvdofX520Vyq07vXtcbuPX+j8FgGrN1uDL9ZVjmXKM/wx21BxeXnwZ2Qyi1cP9/eM6erX/UwAUszMYXV1etGRWFln6w86SOfj69bxvQhks7r89TTbJy/Y/AQAhUKx2/+xs4NgGlPHWC5K9p0t6e3jetxVI/NXkabwM0g8BIEw2+qPLi+GgKUO0W0/uJ5ts/0YxW52mhorYdxfzlf+GBY4FkHSrdXF9Peq0dQjX06f7x9vFPg5hWTMbGoFk57mr5SbKXh+AYwEUy+lfXf/tzOQo8cff/riZzNcxAABliqprDPLQc9fuJshfDkGnAHCz0z8fnQ8duQq9xcP3374v/FgAANYMQ1dlBOFmtVxvgui1lfhIAEwosXvD0Vm/pVMRraaTh8fxzE0AgDKt1e82NCqS1eRputpDvTcA1TStO7oa9RwTwmj19DCePCyDBABAtp3B6LKrVsny8dvD3Xz3hgMeB8DMTnvw5cuZrbHEWz1+v5l4ay8FAADuXH8dfXGUwp9+/+1+Mo/eGP7jALg9HJ5/veprVbxdPX37/fssTVMBAID13vXfz/o2TbaT238+rHfpAc3VBEDArc5gNDrvtWgUr57ub29ul3++41b3/HLQYOVusxiPJ35+SN5XCwBTKpnO4Hw0sDWUbeePt0/jpfejIUkyWp1Ou6GI0Fuv3I2fwwEWqAdAFK63zi+vRi0TReH45rebxdzfOxpiqtbqtm1DQYm3XLp+coAD1gagvNHqXVxdDjSSBavbf/7jJthFP9hk03Z6bYuT1F/NFm54YP/1ACS12TsbnQ/bNAoX49vvN7eZEKgCACDc6vZ7LZ1Bul3M5puoQIcYoB4AZrrt9J1Og1eZN318miy2f7XDrU6va+usSrbL6cKLisP6r5WYEMXq9AdOg0O6Gd98e1gGz97xhjPotTRSxe70aeJGL+bj/6E6I0C55Qz6bZ1CML/9/W7hZs8ANLs36DU5FLvV5HFxSBA+AkCxOn2nyavUm919uw/iZ/9S1ltOv21RSP3VdLLOXsmFTgEw7Lat0zzcLCbjSfZsnsuaZbdblgIi3Lqr1fagEFAXABOmGqbORLRxXc//K84SSnW7ZTcMBdJos9kG4cHd1wFAmDKu6QrE6/l8vV/+frSh6s1et2WpJPM3i7WfHOqAdQBQBYRKsiLTYreaLbz4mY0lo+UMnJbOymgzmy6D7OVm/luHT0OEMZUYIyLarjfPV3okm93h0GlqROzW08kqqDMAdeIAQogQgiqRpdnzkgNRzO6g3zYVkgfr6XQVZDVcoA5ABQCAgBBJIrj6ywSEN3vnw7YuQ+YvxuNFPRMc7oRVVVaiLIHKqqYy8gxAtfujga0jSL3Z09PS/xCACqqyLIqiAKzolqkx8vOVrNv9ocNlEKE7n0y26aELYS0AAChFkSVJjiTVtExDC388ZqrZbHdtjCD2N6vl6pCN4HEAVZHF4U5liJvNjrMps7wQQIjWaDQtnUCeb1zX8+sEoboAWbLbelzHWpkGQa742yAFWW122w1NAhFuF/N1kNTsvxZAHgfumhONU8hzYswmZQmq7fS7DY4h8ebjyeEboSMBfHfJJcZlXAiqKSIvUaMzGHQsuRKxNxvP3FfqcacDgEiD9UKROee8kZW0TAoJNfuDXtuUURFvl7PlNq4VBesCVKm/1AhlMqbcRjJG3AWr63Q6pkyyNHBXrv9GNeJEAMj8OSmxxJBODElT1LaHVKtptU0GZey77mb3VjXgRIA8wEJgpuBSk5mumr0dMIUrpi5BEQeeuw1rLQP1AYqwLCrKOS6FyWWJ2xlgTAhnCNLQ97ZBcuhe+EgAkZYl5ZpcJmHT1CSJAQKAiiJRhP5264fpK3X59wCoRAU+o2I7t+1Go2EZCgBABXkcr9dr14vrW6AmAJRF5IpgYlkNuzM4HyoAAJAngbdauV5Q3wXr1wdEImJX4rpp9wKsWxIAlHkSbr1tECVv/vp0gKoq8wiAct2OuLMvglalKLLstWOZdwT4oSJIS8X7kX4hTCSFq7quCyEOTYhOBADIdkG0L8wAlhQhok6nm0ZJWn7gavjvyrNM7HtDVEa02Ky9fLMt818GAPBn+lVhRpW8624zXGa1F4PjABBCjFGCAACqkiBCVKvVjYskfKs2/U4AWGK6ZfBnR7JMt50si/zaseA4AMp1u2NrEgBAVVUIgPBmIlJ/vYnqNnUcgNrsOLbBEECZCUIxVLJViGilMVxzIh4HQBTDthsaQ1BFYYEZxRVSS+FbqlT3MPpYH1ANQ1cZKqLVOsWcyxIjetEwFPqrABRVVTlDmXv3sCNGw9QbpmIYmkLqXss5chpSmasql1G6uvmHS5tOt4VUTdM5I/jA+uBpAFiSVZUrEs7dh98WtL1Lhd4mhHNGfxUA13RNoVCE7mxCM8bVSBAiM4kS/NYhzbsAyJplGgyDyKKdj9mm0YgLAIkxidGq1oJ05DSUdathMICyKPIMReEujPOSYEmSmVRCnVBw3B0SImuGpTGACgChqizyLC8EIEwlidabCMf7gKYSAEBEkipKMIJKgKgAYYx+AQAikixLCACwJCvYsCyTUyjyvBCing8eC4AxxggAMJU1i/WG5/2Wioo0SZI0r7cpOnpDsh9nzDQr186vrpyOhtI4jKI4F7UW5BN2RBUCwIrRItbo8qLVYHno+7soPrhOfjIAAADlza7aGA4cQy4Sd+3t0jdPq98HACGMAQAksydia9izpTx05+PFW9cV3gsAAUIIoAKpca7letux8nD1+Hg/3dbODo8dAdj7AGtILcE1g+bB9Obucbr9yCLVM1VVVZYCV0B1tawoQRBtpve3s/Uh5+XvAQClEKKsEAJCAKDI4vlkMp2v/fQXpWZVKQrx805yvtm442/3MzdIaidGxwKI4q9zMeGOnybjh4flNilqp4ZHApR5HIX6vmJeerO7P+6m85UXHdH/kQAiDtY6znWGyzRYjx9ub+abIKp1TnAaQObP9cw1NQmX2W4zuX2aHX5e/y4AqXufTk2uUFTlyW49n7i7ly9vfwxAseayRDGqyiKNg+CYAt1ex13vx4QQgjCCfUwSQpTV4ae1n/rUpz71qU996lP/pn8BrIA/TH4g/6sAAAAASUVORK5CYII=\" style=\"height: auto\">\n",
       "              <figcaption style=\"font-size: 0.6em\">8</figcaption>\n",
       "            </figure>\n",
       "        \n",
       "            <figure style=\"margin: 5px !important;\">\n",
       "              <img src=\"data:image/png;base64,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\" style=\"height: auto\">\n",
       "              <figcaption style=\"font-size: 0.6em\">6</figcaption>\n",
       "            </figure>\n",
       "        \n",
       "            <figure style=\"margin: 5px !important;\">\n",
       "              <img src=\"data:image/png;base64,iVBORw0KGgoAAAANSUhEUgAAAIAAAACACAAAAADmVT4XAAAOuUlEQVR4nO2aV3PcSJKAsxy8aaA92aQoaW4u4ub//5aN3b3dGYqmLdDwrgpV90BKIcNuNkXt0zGDLwSIyo9l0lUCvMmbvMmbvMmbvMn/d0E//yXGGCOEEDz+ACilpJJSSqWUOnEY+tMAWDdNg1FCCCGYYEIQ9Jy3XVM3Defi1GF+HoBYQeBbBtM0pjFGNYYVr6siT5IkK6H/j88ANbzxfOzZhmEYhq5rhk5Uk6dxvFlpGCvZ/EcBEKGmO5otZoFjmqZpGoZuGlRWSbRzqOp7hKjW9gpAKXhmKl4OgBDBmmG6g/niYhrYhmEauq7rGAB7INqmKOue2U3XcdEL0XX8OMFPzADRDNsfDEez+XzsmbrGNEY/D4MIM50Ae71UvK3rqswzfny0lwNgZrjhdDabTCajgaVRQgh+PMyiabkk1kBXVKOizrMk3vC6/8UAVLf90dnl5XQYeI6GMQAgBQgAZFWVdSepbTDbMVSVxjtTVvmvBEAIqGk5fjCen08C19QRyF4iQIAxAtXzpm4EMM3wBza0rmXgJsuFPLYTXwSAMCW64wfj6Ww+Gzs6RX3btj0ilDEdASGyLfIOMGWablBTN03S5kXfcfGrAKhmWH4wmk5n01Ggg+rqPCs50S3LIhoA6ask66lOlJQKM8OxaZsXfVEp+WsAsGY5zmA4DIOB5+ig6jqLo5Qzx/eVpgGoNo9TpdtAm4og0yIOrtNcYNUfPgovAmCmO/A819IpUqJTTZ6n0S4Reqsw1jUNiiyOUmT2UikpBLYtWxVx2qmedwd34ksAiO5Nhq7OeK5bWm/IMivyJCmVrVkNI5y2y9vVJkdm21ZF7ni9bplOOM2EEm0jD+2ClwBga3w1N9s8jZL9bqiJIq+atpMMc8HLZt0V6+u/lhUyMlNjhumX2GDMn3cEdWXe/QoA4kyvLtk220a6HQSsq8oWKDMdISXndRLFu81m3yJmaBhTNqg11zCcKdJUuY+bQ9vwBQDYdIfzcyi7zTWmrkd43fa6H1CFkWy77e3NZp8WtQDCqJQID1AwCzUTM8bj9bZR/dPG4FQARIjpe45Bel6lMUDkENH12DWQbulIlMX69s9VVncCADDuFUA1jvNWaRqDfLaMetyKJ4OUUwGo5Q6CEcmgW+1LAOAJBoWZOZidhwYt6+R+uY3LBxVSAgBUdSckomDx4Txu9E2Svw5gcDYLTHV3XW9WNQCA6jGzvPnV75e+SLeb7Wqb1d9qeIwLsTE4a7Br4q5+HcDiasCj5aqskvbhke4E48vf/+edtW+q1Xq7/87tUQxSiJ4Ac+dIt6HcPz3wiQDEHp35yWr5j0L2DxuaWMHs7OrDh0uNrfoyzWsh0dfbjACvy1IzCbEAU5Tca68CQFQ3DMLz+PO/iZgVzi4Ws1EArmNbJsPf7XLVpJsBUoFFdCRb39HxqwBACtF1nH+ZZqz7s6uP52MHwAgXBSVKNN8QyGJp8rxR1ARGKSHo6RTkVADJq1wVrcISAAAprNnh4rffh6EOoA2viMv6uvjG5cjspk0SYXomgBSiP5CqnAqg2mLPswZYCwCAMLMGk8XVB0dnAMg711gTr+m3ACXP9p1zvgBQgnNxIFM4eQa6IuV53T8sJNHMcDKbz6caAAhFTde1DfrtIquuq3s/rXsAJftevnIGZFvsm7J89CmaN5xfvJuF2gNblSVJ3nwf9mCk6brGKMCB5X8ZQJNRrcnbhyOoj64+Xr6fOwAA0Fe79ermLvrODmDNdMfzkWcAYICDyeoLACTr8kenZow//vFuPjYAAIDnqz+vb2+35bcAyAgmZxdTTwdQgOBQXPqCJeBENJ+XIFh8vApNCgDAm2z157/uf7CESHPD8dBjCkBIhQ4tw+nHsBZIfg5vieUPhx4oDkjWRRJtlpuk+iEHQwj6pkgUbvnrAVTPe6T6x8gKYaZpALyTSlTpPo7itPo+7FOizmLDZCLQEVcIv9IQgRQYlHoEUErJXommFj0voijepxX//pzLLkN9x5ss9G0m8Zf87ScBFEgFXzIcJQXvMK/Krmvy7S7Oyrb/PuZSrezqsirT8Xg8wJg87QpOn4FvzhECKTroiryuq3S73ed19+MHnHdNy0VTC2YYGL9yBr4RjDFGSjRFkhfpfrfclz/qB1DAJcJYSj0IdXRA/08CUEoJ6uss2se7XRRH9YGYt28LJMGZdgq/ehN+8xElGHpeJrvNerlOquJgQahvEdCs5vDqY/i1IJ3hvq3adL9b392usl4cLgFIwfkPB+QVAAgwYGZpsox4s91GcbSLjtbDqG5Zpk5+EQBCCFOqGZ7eLKXB0yhKi/qofmyPJpPF0MSyP5AdvrBAgalu2rZjlJ/WWHZNmTXHS6I0ePd+fjZzcS8O7NOXARCmWW7gmqraNQITIptOkWM1IG304Y+L0MFN/9qICAAAMDNMNxj5rC5325paFhOtwscAzHDx26WDm+7XLAHWbG8wHPsk3Yuihpbrqj1c/sEYEy8YjUaWUORgTPQiAKX743Ay9pGWGAigJT2IgwCIMM0IAs9z9J5rjP4SU2wG08lk7Cq0c8wKZCdBHtpcgKhh++PANTREKaOvdkYAALo7nM1GoSlqxzYZR708HOsBYqY/ngS2hkEpeSgoPh0AYYTD0WQ68k3CpQSMQR2tgSLmhNNJ6DBQdZ5mZfv0X58MoNm2ef7+8sxjosg2+5IfLv09SE/dyfnZyCaiiu9vru/TpzzmCwCMySxcvLsYsTrerld3SfvclYii/uxyMXZQHd3889+3t7v2dQDO/LfF2dnY7sr9Xzfr7eGq0xfRg7PL85Gl6uivv/39Ps6fttmnApij849X06GD+ya6+3Ob191zANQdTucTXxNtsrz+17L6IWY7GQBRjbHhu8vFPLRwV6bxLkoODffwASKEEmc2GYe+haXkVZ5mryjTIXs48ifvPy6Gel+m6/vNPq+P3sMgajiOM/i4GHmWBhql5FA4dBoA9i4/LmZn46HB0936/q9VUh8pvwMA0pzxdDx5fxlaDIBpmmGaZqnQkx+dAMD8xR//PQ9Nxuv0/vr2dnO47voAzAxvenVxdnY+0BCAVJjpltnzp73R8wDI8KdXv88t6DORbW5v1/sfk7Cv1WNmOIPR2bvz8dCmoGSRla3ElPycO8aYUm8QhqEFQGST7dbbfXlkAhCizLAH4XA4DAeOTkRV7NafNlkjftIUY820hqFv6QAg2jLdbaK8OWaBMTWcwXA0DDzbMhi00f2nu9vrbdH9ZI0Ia/ZgFDgaAoCqzPfRLmkPG2GEMDWcYDgZDz1LpwT6YvXPv39a7fZ5K34uIMHM9AauyRRAW+ZpkiTFwasHAEyo4Q6G08kk9EyKelntl//+23VUNt3PekNEmGEYOsUg6zxNs7w6dhGKddsZDCfT8XToWZqq23R5d3u3TI9ZzVMMEcIEqybdrjZJffwi1hqOR+PJZBiGvs26PN7c/HnQCZwIoORDbbiv96v7Tfq0R/ss2Jldzqej4cB1LFNVq+tPt9er/Gk3fDpA30sFIJs02sUFP9ryoQ3OPiymw4FjMEa7avm//1huDiauJwI8doqAEl1Tt0IdBQjGZxcXk8A1KSBoqt3NX6ukbl8HgCnTGEGAiG45lk6fBMCUUsYYfXd1cTYdehYAAMi2SKL42cjpOQCiGaZOkSJmOOddtnsytsW6bbueay3ev5+PPPPhYc/buq6Pu43nARA1LNtkCLA9lphHd0/mucwJwvF0HExn05FvPD7s2o4fu7U+DQBrpuvaGgas+7JP/CdvHagTTKaLi/PR0HOtR/2qyIq66+XTPvhkAMRM1x+4BgEATAjBX4+HEEIII0S80WQ2W7xbjFyDYamkErxv8+U2qfjx5oXnABCiphOMxqGj4b4r99E++7oahjRN1zRd0/3heDKen00CA8mub9uubpoy2VyvsuMm4DkABFizBqPpdOzpWBS7+9ubTfaVJcKG67qu59iDMAgHQRjYiDdVXRRllqfpPt4t02caWI4DIEBEt/3hdDoyGe6L7e2nu6j8agmYEw5Hw1HoD3zPsQ3TxKLJ0izZJ3G8i+KiKssTGrqOzQAmuukOwtCngPo2T/Z5i+iXMbE9mMym0+k48B3bYBghWWdxFMe7aLdbb/f1aR1tRwGoZpi2Y7PPvxpuCB0AUqqXShtOzxeTyXg0cC0dAIC3WbRdR9EuiuJN9OQ16csAMGG6YZiGDgCAqOXXitohB4SUaFuhT6/eXwyDwcB2CABAW+a79XK1i+M0yfJT9R/bA4hqmq4zRgEAsOGNieWnpQCEZFsUXJ9/+O3S+1KEE3kcr+/uVrskK8rm1Fa2Z2aAUkofKhsK654yvGHRCMC4r5OkMeZX7y9MSh+qLyqP1+vlzf0yzsu26Z8//ycAAEKPLZMAgDQbmO3VXQ8Y95XnNvr8bDbBAEoqBSqPN/fL5f39Zl/VRwqnLwNQSinAD9YfU11Rw+qEVBj3jTNotfEsxACguBKCJ6vbm/vNZpcUzQnW5zQA1QvRS8AAAAhTQJoQoleAkOJ+0zN/YgMAdHXXNlV0e/3pPkmzsj25mfM5ACV7wfnn7lBEEJZSSgkASMm+B2LZAABNUdRlkW0//Xm9Lpuue97/nQoASoquqYuiMQAkYIw/N0giBQAIUQSgiiLLyjzbb66vb7adPL2b9iSAvqv26xsUGJRQBPj7l1KIOs+SrMjzZLvaxMULdT8PIJrk3hTxbBL634divG7atm7KJEmysirzdJuebHtOBFAgRb3Hze72/X9h57uXIk3TMi+LNImTvG67ps5P8TwvAgBQQskmurvPiRua375Kt5soTdMs2cdp0Ym+7/kzzas/AaBASV7BrqDhJCQWUYCVUkAAZLq+X233SZom+312vF7zCoBH4fH6U4B35tcA+Xa9jdM0z7MsK1+j/qTcsN1fk72vYQVYKQAMIOtsn+ZlVddV1bxO/0nd9W4QegZBChAoAASgRNM0bcc55/zZku3rARCh9LurZyWlVFIppQ7m/W/yJm/yJm/yJm/yJqfK/wFvLBLaVqpNQwAAAABJRU5ErkJggg==\" style=\"height: auto\">\n",
       "              <figcaption style=\"font-size: 0.6em\">0</figcaption>\n",
       "            </figure>\n",
       "        \n",
       "            <figure style=\"margin: 5px !important;\">\n",
       "              <img src=\"data:image/png;base64,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\" style=\"height: auto\">\n",
       "              <figcaption style=\"font-size: 0.6em\">4</figcaption>\n",
       "            </figure>\n",
       "        \n",
       "    </div>"
      ],
      "text/plain": [
       "<IPython.core.display.HTML object>"
      ]
     },
     "execution_count": 23,
     "metadata": {},
     "output_type": "execute_result"
    }
   ],
   "source": [
    "count = 8\n",
    "\n",
    "def get_some_random_images_and_labels(df, count):\n",
    "    image_ids = RNG.choice(df.index.unique(), count, replace=False)\n",
    "    image_datas = df.loc[image_ids]['png']\n",
    "    images = [Image.open(io.BytesIO(image_data)) for image_data in image_datas]\n",
    "    labels = df.loc[image_ids]['value']\n",
    "    return images, list(labels)\n",
    "\n",
    "train_images, train_labels = get_some_random_images_and_labels(df_train_images, count)\n",
    "test_images, test_labels = get_some_random_images_and_labels(df_test_images, count)\n",
    "\n",
    "display_images_grid(train_images + test_images, captions=train_labels + test_labels, col_count=count)"
   ]
  },
  {
   "cell_type": "code",
   "execution_count": 24,
   "id": "e5019d63-ce09-4130-ac07-b6ae15a84ab4",
   "metadata": {},
   "outputs": [],
   "source": [
    "#COS_SIM_THRESHOLD = 0.075\n",
    "COS_SIM_THRESHOLD = 0.055\n",
    "hdc = Hdc(10_000, np)"
   ]
  },
  {
   "cell_type": "code",
   "execution_count": 25,
   "id": "193bb9d6-61b7-4f16-ae5d-75fac6dd9767",
   "metadata": {},
   "outputs": [],
   "source": [
    "def generate_permutation_matrix(input_vector_dims):\n",
    "    pm = np.zeros((input_vector_dims, input_vector_dims), dtype='b')\n",
    "    row_indices = RNG.choice(pm.shape[0], pm.shape[0], replace=False)\n",
    "    \n",
    "    for row_index, column_index in zip(row_indices, range(pm.shape[1])):\n",
    "        pm[row_index, column_index] = 1\n",
    "\n",
    "    return pm"
   ]
  },
  {
   "cell_type": "code",
   "execution_count": 26,
   "id": "9eff1de7-2ed0-4e86-87d6-108169ab6916",
   "metadata": {},
   "outputs": [],
   "source": [
    "pm = generate_permutation_matrix(100)\n",
    "assert np.array_equal((pm == 1).sum(axis=0), np.ones(pm.shape[0]))\n",
    "assert np.array_equal((pm == 1).sum(axis=1), np.ones(pm.shape[0]))\n",
    "rand_vec = RNG.integers(0, 2, pm.shape[0])\n",
    "mutated_rand_vec = pm @ rand_vec\n",
    "assert np.array_equal(pm.T @ mutated_rand_vec, rand_vec)\n",
    "assert np.array_equal(np.unique_counts(rand_vec).counts, np.unique_counts(mutated_rand_vec).counts)"
   ]
  },
  {
   "cell_type": "code",
   "execution_count": 27,
   "id": "317bc435-b1be-4e25-8f4f-b9e3d35f522b",
   "metadata": {},
   "outputs": [],
   "source": [
    "class CorticalColumn(object):\n",
    "    def __init__(self, input_vector_dims, stride_width, strides_count):\n",
    "        #self.input_vector_permutation2 = generate_permutation_matrix(input_vector_dims)\n",
    "        self.stride_width = stride_width\n",
    "        self.stride_hdvs = defaultdict(hdc)\n",
    "\n",
    "        assert input_vector_dims >= stride_width\n",
    "        total_strides = input_vector_dims // stride_width\n",
    "        assert strides_count <= total_strides\n",
    "        self.stride_indices = RNG.choice(total_strides, strides_count, replace=False)\n",
    "        self.stride_indices *= stride_width\n",
    "        assert np.all(np.unique_counts(self.stride_indices).counts == 1)\n",
    "\n",
    "        #self.bundles = defaultdict(list)\n",
    "        # self.bundles = dict()\n",
    "        # self.bundle_to_image_ids = defaultdict(set)\n",
    "        # self.bundles_norm = HdvArray(hdc.N, np)\n",
    "\n",
    "        self.clusters = defaultdict(list) # cluster = collection of image bundles for particular class\n",
    "        self.cluster_norms = HdvArray(hdc.N, np)\n",
    "        self.cluster_to_image_ids = defaultdict(set) \n",
    "\n",
    "    def bundle_input_vectors(self, input_vectors):\n",
    "        bundle = []\n",
    "\n",
    "        for input_vector in input_vectors:\n",
    "            input_vector_hdv = []\n",
    "            \n",
    "            for stride_index in self.stride_indices:\n",
    "                stride = input_vector[stride_index:stride_index + self.stride_width]\n",
    "    \n",
    "                if np.all(stride == 0):\n",
    "                    continue\n",
    "                    \n",
    "                stride_code = ''.join(map(str, stride.tolist()))\n",
    "                stride_hdv = self.stride_hdvs[stride_code]\n",
    "                stride_hdv = hdc.shift(stride_hdv, stride_index)\n",
    "                input_vector_hdv.append(stride_hdv)\n",
    "    \n",
    "            if not input_vector_hdv:\n",
    "                continue\n",
    "\n",
    "            input_vector_hdv = hdc.bundle(input_vector_hdv)\n",
    "            bundle.append(input_vector_hdv)\n",
    "\n",
    "        if not bundle:\n",
    "            return None\n",
    "\n",
    "        return hdc.bundle(bundle) if len(bundle) > 1 else bundle[0]"
   ]
  },
  {
   "cell_type": "code",
   "execution_count": 28,
   "id": "1e8dc096-5076-4657-b22c-a489c2be1694",
   "metadata": {},
   "outputs": [],
   "source": [
    "stride_width = 16\n",
    "COLUMN = CorticalColumn(IMAGE_ENCODING_DIMS, stride_width, IMAGE_ENCODING_DIMS // stride_width)"
   ]
  },
  {
   "cell_type": "code",
   "execution_count": 29,
   "id": "15f41488-ec0c-4165-862d-a264d04e0f33",
   "metadata": {},
   "outputs": [
    {
     "data": {
      "application/vnd.jupyter.widget-view+json": {
       "model_id": "65526c8e117a4aa692258c47467917ff",
       "version_major": 2,
       "version_minor": 0
      },
      "text/plain": [
       "  0%|          | 0/10 [00:00<?, ?it/s]"
      ]
     },
     "metadata": {},
     "output_type": "display_data"
    },
    {
     "data": {
      "application/vnd.jupyter.widget-view+json": {
       "model_id": "",
       "version_major": 2,
       "version_minor": 0
      },
      "text/plain": [
       "  0%|          | 0/100 [00:00<?, ?it/s]"
      ]
     },
     "metadata": {},
     "output_type": "display_data"
    },
    {
     "data": {
      "application/vnd.jupyter.widget-view+json": {
       "model_id": "",
       "version_major": 2,
       "version_minor": 0
      },
      "text/plain": [
       "  0%|          | 0/100 [00:00<?, ?it/s]"
      ]
     },
     "metadata": {},
     "output_type": "display_data"
    },
    {
     "data": {
      "application/vnd.jupyter.widget-view+json": {
       "model_id": "",
       "version_major": 2,
       "version_minor": 0
      },
      "text/plain": [
       "  0%|          | 0/100 [00:00<?, ?it/s]"
      ]
     },
     "metadata": {},
     "output_type": "display_data"
    },
    {
     "data": {
      "application/vnd.jupyter.widget-view+json": {
       "model_id": "",
       "version_major": 2,
       "version_minor": 0
      },
      "text/plain": [
       "  0%|          | 0/100 [00:00<?, ?it/s]"
      ]
     },
     "metadata": {},
     "output_type": "display_data"
    },
    {
     "data": {
      "application/vnd.jupyter.widget-view+json": {
       "model_id": "",
       "version_major": 2,
       "version_minor": 0
      },
      "text/plain": [
       "  0%|          | 0/100 [00:00<?, ?it/s]"
      ]
     },
     "metadata": {},
     "output_type": "display_data"
    },
    {
     "data": {
      "application/vnd.jupyter.widget-view+json": {
       "model_id": "",
       "version_major": 2,
       "version_minor": 0
      },
      "text/plain": [
       "  0%|          | 0/100 [00:00<?, ?it/s]"
      ]
     },
     "metadata": {},
     "output_type": "display_data"
    },
    {
     "data": {
      "application/vnd.jupyter.widget-view+json": {
       "model_id": "",
       "version_major": 2,
       "version_minor": 0
      },
      "text/plain": [
       "  0%|          | 0/100 [00:00<?, ?it/s]"
      ]
     },
     "metadata": {},
     "output_type": "display_data"
    },
    {
     "data": {
      "application/vnd.jupyter.widget-view+json": {
       "model_id": "",
       "version_major": 2,
       "version_minor": 0
      },
      "text/plain": [
       "  0%|          | 0/100 [00:00<?, ?it/s]"
      ]
     },
     "metadata": {},
     "output_type": "display_data"
    },
    {
     "data": {
      "application/vnd.jupyter.widget-view+json": {
       "model_id": "",
       "version_major": 2,
       "version_minor": 0
      },
      "text/plain": [
       "  0%|          | 0/100 [00:00<?, ?it/s]"
      ]
     },
     "metadata": {},
     "output_type": "display_data"
    },
    {
     "data": {
      "application/vnd.jupyter.widget-view+json": {
       "model_id": "",
       "version_major": 2,
       "version_minor": 0
      },
      "text/plain": [
       "  0%|          | 0/100 [00:00<?, ?it/s]"
      ]
     },
     "metadata": {},
     "output_type": "display_data"
    },
    {
     "data": {
      "application/vnd.jupyter.widget-view+json": {
       "model_id": "",
       "version_major": 2,
       "version_minor": 0
      },
      "text/plain": [
       "  0%|          | 0/100 [00:00<?, ?it/s]"
      ]
     },
     "metadata": {},
     "output_type": "display_data"
    },
    {
     "data": {
      "application/vnd.jupyter.widget-view+json": {
       "model_id": "",
       "version_major": 2,
       "version_minor": 0
      },
      "text/plain": [
       "  0%|          | 0/100 [00:00<?, ?it/s]"
      ]
     },
     "metadata": {},
     "output_type": "display_data"
    },
    {
     "data": {
      "application/vnd.jupyter.widget-view+json": {
       "model_id": "",
       "version_major": 2,
       "version_minor": 0
      },
      "text/plain": [
       "  0%|          | 0/100 [00:00<?, ?it/s]"
      ]
     },
     "metadata": {},
     "output_type": "display_data"
    },
    {
     "data": {
      "application/vnd.jupyter.widget-view+json": {
       "model_id": "",
       "version_major": 2,
       "version_minor": 0
      },
      "text/plain": [
       "  0%|          | 0/100 [00:00<?, ?it/s]"
      ]
     },
     "metadata": {},
     "output_type": "display_data"
    },
    {
     "data": {
      "application/vnd.jupyter.widget-view+json": {
       "model_id": "",
       "version_major": 2,
       "version_minor": 0
      },
      "text/plain": [
       "  0%|          | 0/100 [00:00<?, ?it/s]"
      ]
     },
     "metadata": {},
     "output_type": "display_data"
    },
    {
     "data": {
      "application/vnd.jupyter.widget-view+json": {
       "model_id": "",
       "version_major": 2,
       "version_minor": 0
      },
      "text/plain": [
       "  0%|          | 0/100 [00:00<?, ?it/s]"
      ]
     },
     "metadata": {},
     "output_type": "display_data"
    },
    {
     "data": {
      "application/vnd.jupyter.widget-view+json": {
       "model_id": "",
       "version_major": 2,
       "version_minor": 0
      },
      "text/plain": [
       "  0%|          | 0/100 [00:00<?, ?it/s]"
      ]
     },
     "metadata": {},
     "output_type": "display_data"
    },
    {
     "data": {
      "application/vnd.jupyter.widget-view+json": {
       "model_id": "",
       "version_major": 2,
       "version_minor": 0
      },
      "text/plain": [
       "  0%|          | 0/100 [00:00<?, ?it/s]"
      ]
     },
     "metadata": {},
     "output_type": "display_data"
    },
    {
     "data": {
      "application/vnd.jupyter.widget-view+json": {
       "model_id": "",
       "version_major": 2,
       "version_minor": 0
      },
      "text/plain": [
       "  0%|          | 0/100 [00:00<?, ?it/s]"
      ]
     },
     "metadata": {},
     "output_type": "display_data"
    },
    {
     "data": {
      "application/vnd.jupyter.widget-view+json": {
       "model_id": "",
       "version_major": 2,
       "version_minor": 0
      },
      "text/plain": [
       "  0%|          | 0/100 [00:00<?, ?it/s]"
      ]
     },
     "metadata": {},
     "output_type": "display_data"
    }
   ],
   "source": [
    "stride_width = 16\n",
    "COLUMN = CorticalColumn(IMAGE_ENCODING_DIMS, stride_width, IMAGE_ENCODING_DIMS // stride_width)\n",
    "df_train_progress = pd.DataFrame(columns=['count', 'infers', 'correct_infers'])\n",
    "\n",
    "trials = 10\n",
    "count = 100\n",
    "\n",
    "for trials in tqdm(range(trials)):\n",
    "    # TRAIN STEP\n",
    "    train_step_image_ids = RNG.choice(df_train_images.index.unique(), count, replace=False)\n",
    "\n",
    "    for image_id in tqdm(train_step_image_ids, leave=False):\n",
    "        image_value = df_train_images.loc[image_id]['value']\n",
    "        df_image_encodings = pd.read_sql(f'SELECT data FROM image_encodings WHERE image_id=:image_id', params={'image_id': int(image_id)}, con=train_db_con)\n",
    "        assert len(df_image_encodings) > 0\n",
    "        image_encodings = list(map(lambda d: np.frombuffer(d, dtype='b'), df_image_encodings['data']))\n",
    "        image_bundle = COLUMN.bundle_input_vectors(image_encodings)\n",
    "        assert not image_bundle is None\n",
    "        image_bundle_norm = hdc.normalize(image_bundle)\n",
    "        cos_sims = COLUMN.cluster_norms.array @ image_bundle_norm\n",
    "        cos_sims_indices = np.argwhere(cos_sims >= COS_SIM_THRESHOLD).reshape(-1)\n",
    "        sorted_cos_sims_with_indices = sorted(zip(cos_sims[cos_sims_indices], cos_sims_indices), key=lambda x: -x[0]) # sort by cos sim desc\n",
    "\n",
    "        # Debundle from ALL clusters which showed similarity but actually are not\n",
    "        for _, index in sorted_cos_sims_with_indices:\n",
    "            similar_cluster = COLUMN.clusters[index]\n",
    "            similar_cluster_image_ids = COLUMN.cluster_to_image_ids[index]\n",
    "            assert len(similar_cluster_image_ids) > 0\n",
    "            similar_cluster_image_id = next(iter(similar_cluster_image_ids)) # pick any\n",
    "            similar_cluster_image_value = df_train_images.loc[similar_cluster_image_id]['value']\n",
    "\n",
    "            if similar_cluster_image_value != image_value:\n",
    "                similar_cluster.append(hdc.complement(image_bundle))\n",
    "                COLUMN.cluster_norms.array[index] = hdc.normalize(hdc.bundle(similar_cluster))\n",
    "\n",
    "        # Bundle with MOST successive one\n",
    "        for _, index in sorted_cos_sims_with_indices:\n",
    "            similar_cluster = COLUMN.clusters[index]\n",
    "            similar_cluster_image_ids = COLUMN.cluster_to_image_ids[index]\n",
    "            assert len(similar_cluster_image_ids) > 0\n",
    "            similar_cluster_image_id = next(iter(similar_cluster_image_ids)) # pick any\n",
    "            similar_cluster_image_value = df_train_images.loc[similar_cluster_image_id]['value']\n",
    "\n",
    "            if similar_cluster_image_value == image_value:\n",
    "                if not image_id in similar_cluster_image_ids:\n",
    "                    similar_cluster_image_ids.add(image_id)\n",
    "                    similar_cluster.append(image_bundle)\n",
    "                    COLUMN.cluster_norms.array[index] = hdc.normalize(hdc.bundle(similar_cluster))\n",
    "                    \n",
    "                break # there must be only one\n",
    "        else:\n",
    "            # Didn't find any matching cluster of HDVs to join -> create new one\n",
    "            index = COLUMN.cluster_norms.lease()\n",
    "            COLUMN.cluster_norms.array[index] = image_bundle_norm\n",
    "            assert np.array_equal(COLUMN.cluster_norms.array[index], image_bundle_norm)\n",
    "            COLUMN.clusters[index].append(image_bundle)\n",
    "            COLUMN.cluster_to_image_ids[index].add(image_id)\n",
    "\n",
    "    # CONSOLIDATE MEMORY\n",
    "    before_len = COLUMN.cluster_norms.len()\n",
    "    assert before_len == len(COLUMN.clusters)\n",
    "    cluster_indices_to_release = []\n",
    "    \n",
    "    for cluster_index, image_ids in COLUMN.cluster_to_image_ids.items():\n",
    "        if len(image_ids) <= 1:\n",
    "            cluster_indices_to_release.append(cluster_index)\n",
    "\n",
    "    for cluster_index_to_release in cluster_indices_to_release:\n",
    "        del COLUMN.clusters[cluster_index_to_release]\n",
    "        del COLUMN.cluster_to_image_ids[cluster_index_to_release]\n",
    "        COLUMN.cluster_norms.release(cluster_index_to_release)\n",
    "\n",
    "    after_len = COLUMN.cluster_norms.len()\n",
    "    assert after_len == len(COLUMN.clusters)\n",
    "\n",
    "    # INFER STEP\n",
    "    inference_count = 0\n",
    "    correct_inference_count = 0\n",
    "    infer_step_image_ids = RNG.choice(df_train_images.index.unique(), count, replace=False)\n",
    "\n",
    "    for image_id in tqdm(infer_step_image_ids, leave=False):\n",
    "        image_value = df_train_images.loc[image_id]['value']\n",
    "        df_image_encodings = pd.read_sql(f'SELECT data FROM image_encodings WHERE image_id=:image_id LIMIT 1', params={'image_id': int(image_id)}, con=train_db_con)\n",
    "        assert len(df_image_encodings) == 1\n",
    "        image_encoding = df_image_encodings.iloc[0]['data']\n",
    "        image_encoding = np.frombuffer(image_encoding, dtype='b')\n",
    "        image_bundle = COLUMN.bundle_input_vectors([image_encoding])\n",
    "        assert not image_bundle is None\n",
    "        image_bundle_norm = hdc.normalize(image_bundle)\n",
    "        cos_sims = COLUMN.cluster_norms.array @ image_bundle_norm\n",
    "        max_cos_sim_index = np.argmax(cos_sims)\n",
    "\n",
    "        if cos_sims[max_cos_sim_index] <= COS_SIM_THRESHOLD:\n",
    "            continue\n",
    "            \n",
    "        inference_count += 1\n",
    "\n",
    "        similar_cluster_image_ids = COLUMN.cluster_to_image_ids[max_cos_sim_index]\n",
    "        assert len(similar_cluster_image_ids) > 0\n",
    "        similar_cluster_image_id = next(iter(similar_cluster_image_ids))\n",
    "        similar_cluster_image_value = df_train_images.loc[similar_cluster_image_id]['value']\n",
    "        \n",
    "        is_correct_infer = similar_cluster_image_value == image_value\n",
    "        correct_inference_count += int(is_correct_infer)\n",
    "        \n",
    "    df_train_progress.loc[len(df_train_progress)] = [count, inference_count, correct_inference_count]"
   ]
  },
  {
   "cell_type": "code",
   "execution_count": 31,
   "id": "e3a4c261-918a-4f8a-adb4-d08edb02b444",
   "metadata": {},
   "outputs": [
    {
     "data": {
      "image/png": "[encoded data removed]",
      "text/plain": [
       "<Figure size 1600x400 with 3 Axes>"
      ]
     },
     "metadata": {},
     "output_type": "display_data"
    },
    {
     "data": {
      "text/html": [
       "<div>\n",
       "<style scoped>\n",
       "    .dataframe tbody tr th:only-of-type {\n",
       "        vertical-align: middle;\n",
       "    }\n",
       "\n",
       "    .dataframe tbody tr th {\n",
       "        vertical-align: top;\n",
       "    }\n",
       "\n",
       "    .dataframe thead th {\n",
       "        text-align: right;\n",
       "    }\n",
       "</style>\n",
       "<table border=\"1\" class=\"dataframe\">\n",
       "  <thead>\n",
       "    <tr style=\"text-align: right;\">\n",
       "      <th></th>\n",
       "      <th>count</th>\n",
       "      <th>infers</th>\n",
       "      <th>correct_infers</th>\n",
       "      <th>infer_ratio</th>\n",
       "      <th>accuracy_count</th>\n",
       "      <th>accuracy_infers</th>\n",
       "    </tr>\n",
       "  </thead>\n",
       "  <tbody>\n",
       "    <tr>\n",
       "      <th>0</th>\n",
       "      <td>100</td>\n",
       "      <td>46</td>\n",
       "      <td>35</td>\n",
       "      <td>0.46</td>\n",
       "      <td>0.35</td>\n",
       "      <td>0.760870</td>\n",
       "    </tr>\n",
       "    <tr>\n",
       "      <th>1</th>\n",
       "      <td>100</td>\n",
       "      <td>57</td>\n",
       "      <td>48</td>\n",
       "      <td>0.57</td>\n",
       "      <td>0.48</td>\n",
       "      <td>0.842105</td>\n",
       "    </tr>\n",
       "    <tr>\n",
       "      <th>2</th>\n",
       "      <td>100</td>\n",
       "      <td>55</td>\n",
       "      <td>48</td>\n",
       "      <td>0.55</td>\n",
       "      <td>0.48</td>\n",
       "      <td>0.872727</td>\n",
       "    </tr>\n",
       "    <tr>\n",
       "      <th>3</th>\n",
       "      <td>100</td>\n",
       "      <td>56</td>\n",
       "      <td>43</td>\n",
       "      <td>0.56</td>\n",
       "      <td>0.43</td>\n",
       "      <td>0.767857</td>\n",
       "    </tr>\n",
       "    <tr>\n",
       "      <th>4</th>\n",
       "      <td>100</td>\n",
       "      <td>64</td>\n",
       "      <td>59</td>\n",
       "      <td>0.64</td>\n",
       "      <td>0.59</td>\n",
       "      <td>0.921875</td>\n",
       "    </tr>\n",
       "    <tr>\n",
       "      <th>5</th>\n",
       "      <td>100</td>\n",
       "      <td>64</td>\n",
       "      <td>57</td>\n",
       "      <td>0.64</td>\n",
       "      <td>0.57</td>\n",
       "      <td>0.890625</td>\n",
       "    </tr>\n",
       "    <tr>\n",
       "      <th>6</th>\n",
       "      <td>100</td>\n",
       "      <td>70</td>\n",
       "      <td>64</td>\n",
       "      <td>0.70</td>\n",
       "      <td>0.64</td>\n",
       "      <td>0.914286</td>\n",
       "    </tr>\n",
       "    <tr>\n",
       "      <th>7</th>\n",
       "      <td>100</td>\n",
       "      <td>69</td>\n",
       "      <td>56</td>\n",
       "      <td>0.69</td>\n",
       "      <td>0.56</td>\n",
       "      <td>0.811594</td>\n",
       "    </tr>\n",
       "    <tr>\n",
       "      <th>8</th>\n",
       "      <td>100</td>\n",
       "      <td>73</td>\n",
       "      <td>66</td>\n",
       "      <td>0.73</td>\n",
       "      <td>0.66</td>\n",
       "      <td>0.904110</td>\n",
       "    </tr>\n",
       "    <tr>\n",
       "      <th>9</th>\n",
       "      <td>100</td>\n",
       "      <td>75</td>\n",
       "      <td>70</td>\n",
       "      <td>0.75</td>\n",
       "      <td>0.70</td>\n",
       "      <td>0.933333</td>\n",
       "    </tr>\n",
       "  </tbody>\n",
       "</table>\n",
       "</div>"
      ],
      "text/plain": [
       "   count  infers  correct_infers  infer_ratio  accuracy_count  accuracy_infers\n",
       "0    100      46              35         0.46            0.35         0.760870\n",
       "1    100      57              48         0.57            0.48         0.842105\n",
       "2    100      55              48         0.55            0.48         0.872727\n",
       "3    100      56              43         0.56            0.43         0.767857\n",
       "4    100      64              59         0.64            0.59         0.921875\n",
       "5    100      64              57         0.64            0.57         0.890625\n",
       "6    100      70              64         0.70            0.64         0.914286\n",
       "7    100      69              56         0.69            0.56         0.811594\n",
       "8    100      73              66         0.73            0.66         0.904110\n",
       "9    100      75              70         0.75            0.70         0.933333"
      ]
     },
     "execution_count": 31,
     "metadata": {},
     "output_type": "execute_result"
    }
   ],
   "source": [
    "df_train_progress2 = df_train_progress.copy()\n",
    "df_train_progress2['infer_ratio'] = df_train_progress2['infers'] / df_train_progress2['count']\n",
    "df_train_progress2['accuracy_count'] = df_train_progress2['correct_infers'] / df_train_progress2['count']\n",
    "df_train_progress2['accuracy_infers'] = df_train_progress2['correct_infers'] / df_train_progress2['infers']\n",
    "\n",
    "plt.figure(figsize=(16, 4))\n",
    "plt.subplot(1, 3, 1)\n",
    "b = plt.bar(list(df_train_progress2.index), list(df_train_progress2['infer_ratio']))\n",
    "plt.bar_label(b, map(lambda p: f'{p*100:.0f}', df_train_progress2['infer_ratio']), label_type='center')\n",
    "plt.ylim(0, 1)\n",
    "plt.title('Infers, %')\n",
    "plt.grid()\n",
    "\n",
    "plt.subplot(1, 3, 2)\n",
    "b = plt.bar(list(df_train_progress2.index), list(df_train_progress2['accuracy_count']))\n",
    "plt.bar_label(b, map(lambda p: f'{p*100:.0f}', df_train_progress2['accuracy_count']), label_type='center')\n",
    "plt.ylim(0, 1)\n",
    "plt.title('Accuracy (Count), %')\n",
    "plt.grid()\n",
    "\n",
    "plt.subplot(1, 3, 3)\n",
    "b = plt.bar(list(df_train_progress2.index), list(df_train_progress2['accuracy_infers']))\n",
    "plt.bar_label(b, map(lambda p: f'{p*100:.0f}', df_train_progress2['accuracy_infers']), label_type='center')\n",
    "plt.ylim(0, 1)\n",
    "plt.title('Accuracy (Infers), %')\n",
    "plt.grid()\n",
    "\n",
    "plt.show()\n",
    "df_train_progress2"
   ]
  },
  {
   "cell_type": "code",
   "execution_count": null,
   "id": "e8a65831-3907-4668-982a-0b6a5d3a2345",
   "metadata": {},
   "outputs": [],
   "source": []
  },
  {
   "cell_type": "code",
   "execution_count": null,
   "id": "203fb7a1-fefd-473a-8196-df589a5ab342",
   "metadata": {},
   "outputs": [],
   "source": []
  },
  {
   "cell_type": "code",
   "execution_count": null,
   "id": "3755897f-3ff8-4760-8190-c76c3beb4adc",
   "metadata": {},
   "outputs": [
    {
     "data": {
      "application/vnd.jupyter.widget-view+json": {
       "model_id": "ac9e0b3f653c4651a4f0b26bd0886fd9",
       "version_major": 2,
       "version_minor": 0
      },
      "text/plain": [
       "  0%|          | 0/10 [00:00<?, ?it/s]"
      ]
     },
     "metadata": {},
     "output_type": "display_data"
    },
    {
     "data": {
      "application/vnd.jupyter.widget-view+json": {
       "model_id": "",
       "version_major": 2,
       "version_minor": 0
      },
      "text/plain": [
       "  0%|          | 0/100 [00:00<?, ?it/s]"
      ]
     },
     "metadata": {},
     "output_type": "display_data"
    },
    {
     "data": {
      "application/vnd.jupyter.widget-view+json": {
       "model_id": "",
       "version_major": 2,
       "version_minor": 0
      },
      "text/plain": [
       "  0%|          | 0/100 [00:00<?, ?it/s]"
      ]
     },
     "metadata": {},
     "output_type": "display_data"
    },
    {
     "data": {
      "application/vnd.jupyter.widget-view+json": {
       "model_id": "",
       "version_major": 2,
       "version_minor": 0
      },
      "text/plain": [
       "  0%|          | 0/100 [00:00<?, ?it/s]"
      ]
     },
     "metadata": {},
     "output_type": "display_data"
    },
    {
     "data": {
      "application/vnd.jupyter.widget-view+json": {
       "model_id": "",
       "version_major": 2,
       "version_minor": 0
      },
      "text/plain": [
       "  0%|          | 0/100 [00:00<?, ?it/s]"
      ]
     },
     "metadata": {},
     "output_type": "display_data"
    },
    {
     "data": {
      "application/vnd.jupyter.widget-view+json": {
       "model_id": "",
       "version_major": 2,
       "version_minor": 0
      },
      "text/plain": [
       "  0%|          | 0/100 [00:00<?, ?it/s]"
      ]
     },
     "metadata": {},
     "output_type": "display_data"
    },
    {
     "data": {
      "application/vnd.jupyter.widget-view+json": {
       "model_id": "",
       "version_major": 2,
       "version_minor": 0
      },
      "text/plain": [
       "  0%|          | 0/100 [00:00<?, ?it/s]"
      ]
     },
     "metadata": {},
     "output_type": "display_data"
    },
    {
     "data": {
      "application/vnd.jupyter.widget-view+json": {
       "model_id": "",
       "version_major": 2,
       "version_minor": 0
      },
      "text/plain": [
       "  0%|          | 0/100 [00:00<?, ?it/s]"
      ]
     },
     "metadata": {},
     "output_type": "display_data"
    },
    {
     "data": {
      "application/vnd.jupyter.widget-view+json": {
       "model_id": "",
       "version_major": 2,
       "version_minor": 0
      },
      "text/plain": [
       "  0%|          | 0/100 [00:00<?, ?it/s]"
      ]
     },
     "metadata": {},
     "output_type": "display_data"
    },
    {
     "data": {
      "application/vnd.jupyter.widget-view+json": {
       "model_id": "",
       "version_major": 2,
       "version_minor": 0
      },
      "text/plain": [
       "  0%|          | 0/100 [00:00<?, ?it/s]"
      ]
     },
     "metadata": {},
     "output_type": "display_data"
    },
    {
     "data": {
      "application/vnd.jupyter.widget-view+json": {
       "model_id": "",
       "version_major": 2,
       "version_minor": 0
      },
      "text/plain": [
       "  0%|          | 0/100 [00:00<?, ?it/s]"
      ]
     },
     "metadata": {},
     "output_type": "display_data"
    },
    {
     "data": {
      "application/vnd.jupyter.widget-view+json": {
       "model_id": "",
       "version_major": 2,
       "version_minor": 0
      },
      "text/plain": [
       "  0%|          | 0/100 [00:00<?, ?it/s]"
      ]
     },
     "metadata": {},
     "output_type": "display_data"
    },
    {
     "data": {
      "application/vnd.jupyter.widget-view+json": {
       "model_id": "",
       "version_major": 2,
       "version_minor": 0
      },
      "text/plain": [
       "  0%|          | 0/100 [00:00<?, ?it/s]"
      ]
     },
     "metadata": {},
     "output_type": "display_data"
    },
    {
     "data": {
      "application/vnd.jupyter.widget-view+json": {
       "model_id": "",
       "version_major": 2,
       "version_minor": 0
      },
      "text/plain": [
       "  0%|          | 0/100 [00:00<?, ?it/s]"
      ]
     },
     "metadata": {},
     "output_type": "display_data"
    },
    {
     "data": {
      "application/vnd.jupyter.widget-view+json": {
       "model_id": "",
       "version_major": 2,
       "version_minor": 0
      },
      "text/plain": [
       "  0%|          | 0/100 [00:00<?, ?it/s]"
      ]
     },
     "metadata": {},
     "output_type": "display_data"
    },
    {
     "data": {
      "application/vnd.jupyter.widget-view+json": {
       "model_id": "",
       "version_major": 2,
       "version_minor": 0
      },
      "text/plain": [
       "  0%|          | 0/100 [00:00<?, ?it/s]"
      ]
     },
     "metadata": {},
     "output_type": "display_data"
    },
    {
     "data": {
      "application/vnd.jupyter.widget-view+json": {
       "model_id": "",
       "version_major": 2,
       "version_minor": 0
      },
      "text/plain": [
       "  0%|          | 0/100 [00:00<?, ?it/s]"
      ]
     },
     "metadata": {},
     "output_type": "display_data"
    },
    {
     "data": {
      "application/vnd.jupyter.widget-view+json": {
       "model_id": "",
       "version_major": 2,
       "version_minor": 0
      },
      "text/plain": [
       "  0%|          | 0/100 [00:00<?, ?it/s]"
      ]
     },
     "metadata": {},
     "output_type": "display_data"
    },
    {
     "data": {
      "application/vnd.jupyter.widget-view+json": {
       "model_id": "",
       "version_major": 2,
       "version_minor": 0
      },
      "text/plain": [
       "  0%|          | 0/100 [00:00<?, ?it/s]"
      ]
     },
     "metadata": {},
     "output_type": "display_data"
    },
    {
     "data": {
      "application/vnd.jupyter.widget-view+json": {
       "model_id": "",
       "version_major": 2,
       "version_minor": 0
      },
      "text/plain": [
       "  0%|          | 0/100 [00:00<?, ?it/s]"
      ]
     },
     "metadata": {},
     "output_type": "display_data"
    },
    {
     "data": {
      "application/vnd.jupyter.widget-view+json": {
       "model_id": "6fde8e325b2b426da43c59ba2c717005",
       "version_major": 2,
       "version_minor": 0
      },
      "text/plain": [
       "  0%|          | 0/100 [00:00<?, ?it/s]"
      ]
     },
     "metadata": {},
     "output_type": "display_data"
    }
   ],
   "source": [
    "stride_width = 16\n",
    "COLUMN = CorticalColumn(IMAGE_ENCODING_DIMS, stride_width, IMAGE_ENCODING_DIMS // stride_width)\n",
    "df_train_progress = pd.DataFrame(columns=['count', 'infers', 'correct_infers'])\n",
    "\n",
    "trials = 10\n",
    "count = 100\n",
    "\n",
    "for trials in tqdm(range(trials)):\n",
    "    # TRAIN STEP\n",
    "    train_step_image_ids = RNG.choice(df_train_images.index.unique(), count, replace=False)\n",
    "\n",
    "    for image_id in tqdm(train_step_image_ids, leave=False):\n",
    "        image_value = df_train_images.loc[image_id]['value']\n",
    "        df_image_encodings = pd.read_sql(f'SELECT data FROM image_encodings WHERE image_id=:image_id LIMIT 1', params={'image_id': int(image_id)}, con=train_db_con)\n",
    "        assert len(df_image_encodings) == 1\n",
    "        image_encoding = df_image_encodings.iloc[0]['data']\n",
    "        image_encoding = np.frombuffer(image_encoding, dtype='b')\n",
    "        image_bundle = COLUMN.bundle_input_vectors([image_encoding])\n",
    "        assert not image_bundle is None\n",
    "        image_bundle_norm = hdc.normalize(image_bundle)\n",
    "        cos_sims = COLUMN.cluster_norms.array @ image_bundle_norm\n",
    "        cos_sims_indices = np.argwhere(cos_sims >= COS_SIM_THRESHOLD).reshape(-1)\n",
    "        sorted_cos_sims_with_indices = sorted(zip(cos_sims[cos_sims_indices], cos_sims_indices), key=lambda x: -x[0]) # sort by cos sim desc\n",
    "\n",
    "        # Debundle from ALL clusters which showed similarity but actually are not\n",
    "        for _, index in sorted_cos_sims_with_indices:\n",
    "            similar_cluster = COLUMN.clusters[index]\n",
    "            similar_cluster_image_ids = COLUMN.cluster_to_image_ids[index]\n",
    "            assert len(similar_cluster_image_ids) > 0\n",
    "            similar_cluster_image_id = next(iter(similar_cluster_image_ids)) # pick any\n",
    "            similar_cluster_image_value = df_train_images.loc[similar_cluster_image_id]['value']\n",
    "\n",
    "            if similar_cluster_image_value != image_value:\n",
    "                similar_cluster.append(hdc.complement(image_bundle))\n",
    "                COLUMN.cluster_norms.array[index] = hdc.normalize(hdc.bundle(similar_cluster))\n",
    "\n",
    "        # Bundle with MOST successive one\n",
    "        for _, index in sorted_cos_sims_with_indices:\n",
    "            similar_cluster = COLUMN.clusters[index]\n",
    "            similar_cluster_image_ids = COLUMN.cluster_to_image_ids[index]\n",
    "            assert len(similar_cluster_image_ids) > 0\n",
    "            similar_cluster_image_id = next(iter(similar_cluster_image_ids)) # pick any\n",
    "            similar_cluster_image_value = df_train_images.loc[similar_cluster_image_id]['value']\n",
    "\n",
    "            if similar_cluster_image_value == image_value:\n",
    "                if not image_id in similar_cluster_image_ids:\n",
    "                    similar_cluster_image_ids.add(image_id)\n",
    "                    similar_cluster.append(image_bundle)\n",
    "                    COLUMN.cluster_norms.array[index] = hdc.normalize(hdc.bundle(similar_cluster))\n",
    "                    \n",
    "                break # there must be only one\n",
    "        else:\n",
    "            # Didn't find any matching cluster of HDVs to join -> create new one\n",
    "            index = COLUMN.cluster_norms.lease()\n",
    "            COLUMN.cluster_norms.array[index] = image_bundle_norm\n",
    "            assert np.array_equal(COLUMN.cluster_norms.array[index], image_bundle_norm)\n",
    "            COLUMN.clusters[index].append(image_bundle)\n",
    "            COLUMN.cluster_to_image_ids[index].add(image_id)\n",
    "\n",
    "    # CONSOLIDATE MEMORY\n",
    "    before_len = COLUMN.cluster_norms.len()\n",
    "    assert before_len == len(COLUMN.clusters)\n",
    "    cluster_indices_to_release = []\n",
    "    \n",
    "    for cluster_index, image_ids in COLUMN.cluster_to_image_ids.items():\n",
    "        if len(image_ids) <= 1:\n",
    "            cluster_indices_to_release.append(cluster_index)\n",
    "\n",
    "    for cluster_index_to_release in cluster_indices_to_release:\n",
    "        del COLUMN.clusters[cluster_index_to_release]\n",
    "        del COLUMN.cluster_to_image_ids[cluster_index_to_release]\n",
    "        COLUMN.cluster_norms.release(cluster_index_to_release)\n",
    "\n",
    "    after_len = COLUMN.cluster_norms.len()\n",
    "    assert after_len == len(COLUMN.clusters)\n",
    "\n",
    "    # INFER STEP\n",
    "    inference_count = 0\n",
    "    correct_inference_count = 0\n",
    "    infer_step_image_ids = RNG.choice(df_train_images.index.unique(), count, replace=False)\n",
    "\n",
    "    for image_id in tqdm(infer_step_image_ids, leave=False):\n",
    "        image_value = df_train_images.loc[image_id]['value']\n",
    "        df_image_encodings = pd.read_sql(f'SELECT data FROM image_encodings WHERE image_id=:image_id', params={'image_id': int(image_id)}, con=train_db_con)\n",
    "        assert len(df_image_encodings) > 0\n",
    "        image_encodings = list(map(lambda d: np.frombuffer(d, dtype='b'), df_image_encodings['data']))\n",
    "\n",
    "        for image_encoding in image_encodings:\n",
    "            image_bundle = COLUMN.bundle_input_vectors([image_encoding])\n",
    "            assert not image_bundle is None\n",
    "            image_bundle_norm = hdc.normalize(image_bundle)\n",
    "            cos_sims = COLUMN.cluster_norms.array @ image_bundle_norm\n",
    "            max_cos_sim_index = np.argmax(cos_sims)\n",
    "    \n",
    "            if cos_sims[max_cos_sim_index] <= COS_SIM_THRESHOLD:\n",
    "                continue\n",
    "                \n",
    "            inference_count += 1\n",
    "    \n",
    "            similar_cluster_image_ids = COLUMN.cluster_to_image_ids[max_cos_sim_index]\n",
    "            assert len(similar_cluster_image_ids) > 0\n",
    "            similar_cluster_image_id = next(iter(similar_cluster_image_ids))\n",
    "            similar_cluster_image_value = df_train_images.loc[similar_cluster_image_id]['value']\n",
    "            \n",
    "            is_correct_infer = similar_cluster_image_value == image_value\n",
    "            correct_inference_count += int(is_correct_infer)\n",
    "            break\n",
    "        \n",
    "    df_train_progress.loc[len(df_train_progress)] = [count, inference_count, correct_inference_count]"
   ]
  },
  {
   "cell_type": "code",
   "execution_count": null,
   "id": "d3f2e799-6218-477f-8892-3b8e4560334a",
   "metadata": {},
   "outputs": [],
   "source": [
    "df_train_progress2 = df_train_progress.copy()\n",
    "df_train_progress2['infer_ratio'] = df_train_progress2['infers'] / df_train_progress2['count']\n",
    "df_train_progress2['accuracy_count'] = df_train_progress2['correct_infers'] / df_train_progress2['count']\n",
    "df_train_progress2['accuracy_infers'] = df_train_progress2['correct_infers'] / df_train_progress2['infers']\n",
    "\n",
    "plt.figure(figsize=(16, 4))\n",
    "plt.subplot(1, 3, 1)\n",
    "b = plt.bar(list(df_train_progress2.index), list(df_train_progress2['infer_ratio']))\n",
    "plt.bar_label(b, map(lambda p: f'{p*100:.0f}', df_train_progress2['infer_ratio']), label_type='center')\n",
    "plt.ylim(0, 1)\n",
    "plt.title('Infers, %')\n",
    "plt.grid()\n",
    "\n",
    "plt.subplot(1, 3, 2)\n",
    "b = plt.bar(list(df_train_progress2.index), list(df_train_progress2['accuracy_count']))\n",
    "plt.bar_label(b, map(lambda p: f'{p*100:.0f}', df_train_progress2['accuracy_count']), label_type='center')\n",
    "plt.ylim(0, 1)\n",
    "plt.title('Accuracy (Count), %')\n",
    "plt.grid()\n",
    "\n",
    "plt.subplot(1, 3, 3)\n",
    "b = plt.bar(list(df_train_progress2.index), list(df_train_progress2['accuracy_infers']))\n",
    "plt.bar_label(b, map(lambda p: f'{p*100:.0f}', df_train_progress2['accuracy_infers']), label_type='center')\n",
    "plt.ylim(0, 1)\n",
    "plt.title('Accuracy (Infers), %')\n",
    "plt.grid()\n",
    "\n",
    "plt.show()\n",
    "df_train_progress2"
   ]
  },
  {
   "cell_type": "code",
   "execution_count": null,
   "id": "19ebc535-2ede-4433-ad0d-85a1fbf8b443",
   "metadata": {},
   "outputs": [],
   "source": []
  },
  {
   "cell_type": "code",
   "execution_count": null,
   "id": "ce003507-f3c9-4249-92fa-a0ff04822f4b",
   "metadata": {},
   "outputs": [],
   "source": []
  },
  {
   "cell_type": "code",
   "execution_count": null,
   "id": "41e220f1-71a7-4081-b4f3-47e50d849634",
   "metadata": {},
   "outputs": [],
   "source": []
  }
 ],
 "metadata": {
  "kernelspec": {
   "display_name": "Python 3 (ipykernel)",
   "language": "python",
   "name": "python3"
  },
  "language_info": {
   "codemirror_mode": {
    "name": "ipython",
    "version": 3
   },
   "file_extension": ".py",
   "mimetype": "text/x-python",
   "name": "python",
   "nbconvert_exporter": "python",
   "pygments_lexer": "ipython3",
   "version": "3.12.2"
  }
 },
 "nbformat": 4,
 "nbformat_minor": 5
}
