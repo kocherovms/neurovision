{
 "cells": [
  {
   "cell_type": "code",
   "execution_count": 34,
   "id": "27532844-1826-4299-b063-16a22e592f3f",
   "metadata": {},
   "outputs": [],
   "source": [
    "import os, math\n",
    "from collections import defaultdict\n",
    "import itertools\n",
    "import sqlite3\n",
    "\n",
    "from PIL import Image, ImageDraw\n",
    "from tqdm.notebook import tqdm\n",
    "\n",
    "from sklearn.model_selection import train_test_split\n",
    "import matplotlib.pyplot as plt\n",
    "import scipy\n",
    "import numpy as np\n",
    "import cupy as cp\n",
    "import pandas as pd\n",
    "\n",
    "from utils import *\n",
    "from hdv import *"
   ]
  },
  {
   "cell_type": "code",
   "execution_count": 35,
   "id": "73358262-adf2-4d17-a383-f120a5d1f8aa",
   "metadata": {},
   "outputs": [
    {
     "name": "stdout",
     "output_type": "stream",
     "text": [
      "xp = cupy\n"
     ]
    }
   ],
   "source": [
    "config = Config('SQLITE3')\n",
    "RNG = np.random.default_rng()\n",
    "\n",
    "if cp.cuda.is_available():\n",
    "    device_marker = cp.empty(1)\n",
    "    xp_array_from_gpu = lambda a: a.get() if isinstance(a, cp.ndarray) else a\n",
    "    xp_array_to_gpu = lambda a: cp.asarray(a) if isinstance(a, np.ndarray) else a\n",
    "else:\n",
    "    device_marker = np.empty(1)\n",
    "    xp_array_from_gpu = lambda a: a\n",
    "    xp_array_to_gpu = lambda a: a\n",
    "    \n",
    "xp = cp.get_array_module(device_marker)\n",
    "print(f'xp = {xp.__name__}')\n",
    "\n",
    "train_db_con = sqlite3.connect(os.path.join(config.dataset_path, config.train_db_file_name))\n",
    "test_db_con = sqlite3.connect(os.path.join(config.dataset_path, config.test_db_file_name))"
   ]
  },
  {
   "cell_type": "code",
   "execution_count": 36,
   "id": "d2dd62ab-b44e-4251-9e86-d41b3672e36e",
   "metadata": {},
   "outputs": [
    {
     "name": "stdout",
     "output_type": "stream",
     "text": [
      "CPU times: user 3 μs, sys: 1 μs, total: 4 μs\n",
      "Wall time: 6.44 μs\n"
     ]
    },
    {
     "data": {
      "text/plain": [
       "((10000, 3), (2000, 3))"
      ]
     },
     "execution_count": 36,
     "metadata": {},
     "output_type": "execute_result"
    }
   ],
   "source": [
    "%time\n",
    "df_train_images = pd.read_sql_query('SELECT * FROM images', con=train_db_con, index_col='image_id')\n",
    "df_test_images = pd.read_sql_query('SELECT * FROM images', con=test_db_con, index_col='image_id')\n",
    "df_train_images.shape, df_test_images.shape"
   ]
  },
  {
   "cell_type": "code",
   "execution_count": 37,
   "id": "75910c5d-054d-43c0-9a34-125ecde5a068",
   "metadata": {},
   "outputs": [
    {
     "data": {
      "text/html": [
       "<div>\n",
       "<style scoped>\n",
       "    .dataframe tbody tr th:only-of-type {\n",
       "        vertical-align: middle;\n",
       "    }\n",
       "\n",
       "    .dataframe tbody tr th {\n",
       "        vertical-align: top;\n",
       "    }\n",
       "\n",
       "    .dataframe thead th {\n",
       "        text-align: right;\n",
       "    }\n",
       "</style>\n",
       "<table border=\"1\" class=\"dataframe\">\n",
       "  <thead>\n",
       "    <tr style=\"text-align: right;\">\n",
       "      <th></th>\n",
       "      <th>index</th>\n",
       "      <th>value</th>\n",
       "      <th>png</th>\n",
       "    </tr>\n",
       "    <tr>\n",
       "      <th>image_id</th>\n",
       "      <th></th>\n",
       "      <th></th>\n",
       "      <th></th>\n",
       "    </tr>\n",
       "  </thead>\n",
       "  <tbody>\n",
       "    <tr>\n",
       "      <th>27456</th>\n",
       "      <td>0</td>\n",
       "      <td>2</td>\n",
       "      <td>b'\\x89PNG\\r\\n\\x1a\\n\\x00\\x00\\x00\\rIHDR\\x00\\x00\\...</td>\n",
       "    </tr>\n",
       "    <tr>\n",
       "      <th>50770</th>\n",
       "      <td>1</td>\n",
       "      <td>3</td>\n",
       "      <td>b'\\x89PNG\\r\\n\\x1a\\n\\x00\\x00\\x00\\rIHDR\\x00\\x00\\...</td>\n",
       "    </tr>\n",
       "    <tr>\n",
       "      <th>9353</th>\n",
       "      <td>2</td>\n",
       "      <td>4</td>\n",
       "      <td>b'\\x89PNG\\r\\n\\x1a\\n\\x00\\x00\\x00\\rIHDR\\x00\\x00\\...</td>\n",
       "    </tr>\n",
       "    <tr>\n",
       "      <th>50328</th>\n",
       "      <td>3</td>\n",
       "      <td>0</td>\n",
       "      <td>b'\\x89PNG\\r\\n\\x1a\\n\\x00\\x00\\x00\\rIHDR\\x00\\x00\\...</td>\n",
       "    </tr>\n",
       "    <tr>\n",
       "      <th>18785</th>\n",
       "      <td>4</td>\n",
       "      <td>3</td>\n",
       "      <td>b'\\x89PNG\\r\\n\\x1a\\n\\x00\\x00\\x00\\rIHDR\\x00\\x00\\...</td>\n",
       "    </tr>\n",
       "  </tbody>\n",
       "</table>\n",
       "</div>"
      ],
      "text/plain": [
       "          index value                                                png\n",
       "image_id                                                                \n",
       "27456         0     2  b'\\x89PNG\\r\\n\\x1a\\n\\x00\\x00\\x00\\rIHDR\\x00\\x00\\...\n",
       "50770         1     3  b'\\x89PNG\\r\\n\\x1a\\n\\x00\\x00\\x00\\rIHDR\\x00\\x00\\...\n",
       "9353          2     4  b'\\x89PNG\\r\\n\\x1a\\n\\x00\\x00\\x00\\rIHDR\\x00\\x00\\...\n",
       "50328         3     0  b'\\x89PNG\\r\\n\\x1a\\n\\x00\\x00\\x00\\rIHDR\\x00\\x00\\...\n",
       "18785         4     3  b'\\x89PNG\\r\\n\\x1a\\n\\x00\\x00\\x00\\rIHDR\\x00\\x00\\..."
      ]
     },
     "execution_count": 37,
     "metadata": {},
     "output_type": "execute_result"
    }
   ],
   "source": [
    "df_train_images.head()"
   ]
  },
  {
   "cell_type": "code",
   "execution_count": 38,
   "id": "36da65bf-9699-4d48-a46e-61690976a883",
   "metadata": {},
   "outputs": [
    {
     "data": {
      "text/plain": [
       "4096"
      ]
     },
     "execution_count": 38,
     "metadata": {},
     "output_type": "execute_result"
    }
   ],
   "source": [
    "df_first_encoding = pd.read_sql_query('SELECT * FROM image_encodings LIMIT 1', con=train_db_con)\n",
    "assert len(df_first_encoding) > 0\n",
    "IMAGE_ENCODING_DIMS = np.frombuffer(df_first_encoding.iloc[0]['data'], dtype='b').shape[0]\n",
    "assert IMAGE_ENCODING_DIMS > 0\n",
    "IMAGE_ENCODING_DIMS"
   ]
  },
  {
   "cell_type": "code",
   "execution_count": 39,
   "id": "b5a3b4ca-998d-4309-8499-d868b00ef9be",
   "metadata": {},
   "outputs": [],
   "source": [
    "def matrix_to_image(m):\n",
    "    m = m.ravel()\n",
    "    sz = int(np.sqrt(m.shape[0]))\n",
    "    assert sz * sz == m.shape[0]\n",
    "    return Image.frombytes('L', size=(sz, sz), data=m.astype('b'))"
   ]
  },
  {
   "cell_type": "code",
   "execution_count": 40,
   "id": "bc06ecb2-5ba8-4669-9dd9-17624127b081",
   "metadata": {},
   "outputs": [],
   "source": [
    "def lay_grid(image, step):\n",
    "    draw = ImageDraw.Draw(image)\n",
    "\n",
    "    for c in range(step - 1, image.height, step):\n",
    "        draw.line([0, c, image.width, c], fill=127)\n",
    "        draw.line([c, 0, c, image.height], fill=127)\n",
    "\n",
    "    return image"
   ]
  },
  {
   "cell_type": "code",
   "execution_count": 41,
   "id": "70b21219-4f16-4824-90ec-7bda1574c5d1",
   "metadata": {},
   "outputs": [
    {
     "data": {
      "text/html": [
       "<div style=\"\n",
       "        display: grid; \n",
       "        grid-template-columns: repeat(8, 128px);\n",
       "        column-gap: 1px;\n",
       "        row-gap: 1px;\">\n",
       "        \n",
       "            <figure style=\"margin: 5px !important;\">\n",
       "              <img src=\"data:image/png;base64,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\" style=\"height: auto\">\n",
       "              <figcaption style=\"font-size: 0.6em\">0</figcaption>\n",
       "            </figure>\n",
       "        \n",
       "            <figure style=\"margin: 5px !important;\">\n",
       "              <img src=\"data:image/png;base64,iVBORw0KGgoAAAANSUhEUgAAAIAAAACACAAAAADmVT4XAAAKcklEQVR4nO2aWVcbSw6ApareF+8YcJKb3Fn+/y+aM2duQoxtvPTetWoebLaEAdo4mRf0wIGmu/W1SqWSSgXwLu/yLu/yLu/yLu/yLu/yfxY8yUsYZ5wxhgBE1hhrLdErn3VOAUCO7/mexzmSNVIIqbR+7bMnAWB+EsVx4DmMjKrLsm4FvZbgJABxb5D20sR3GWlZZFlRta1Qr0M4HgARERki43GvP+j1e3HgMtKiSJO8alohpdYGEIAAAAgIABD3TmeNMQcneYMTup4f+EHoe3GSpEmaRL6DZGRV5GXTCqmU0RYAAIgsWWMtMMfhjCOaerfN5Jst4Ca9fn807MVR4AdBGPouR7K6retWSqWNtsYCApC12hilNDh+6LkeY2r17381bwZwosHZdHp5edYPOWeO63GOCNYqpbTeT0VLgADWaqVVKxR5cRJ5IWfNX25+Xb4NAL1keHY5m/3x8XIYgCXkDBkAEBgyRJYICCwAAlijpZJtK8lPenEQMizd696t4uMAXC9I+pOLy9nFbHYe//C/n+4mrZRqhQQvTUMAgDjw2K3zHQkwGE8m0+n5dDzthy/eja5LRmoDXsgAAKCq2oN/HgsQjj//cTkdjwdpcnjnSwyOA3T4aLNbLrf1mwD8dPrlnx/PBr3Ydxz7JAEBEjye5Yffm+3q+mpdm2MBGKDXn1x8/PRpksY+AIB98P4HSxABINH+Eh0iEYKp8vVifr05GoC5fpiO//g8O58Mor2/4d629z/uBYGMMZas1VJITQCmzjbL5fymOhrAH0ymlx///DBOg1t/x2fiKVohtdGyzrOiNoC2LbabzW5d3q4UXQF4MPz05eOHy/NByPdXiJ4L51ZUjVCyyZbXq0wDQ1HneSHq44YAiTnhcPbnl4txP/KR8BDrf/K3e/1FkVWNENX6+9fvW4mcqaauG7L21lu6AaDjR73x+eVZL/L3zr93PSIAIDJG2X34BQBgANTmeVbWoq0337/NtxI5M6J5tE53AmDcj5L+cDzuRd5B/971DFkCo5qyqJU9XNwDFHlWNVI02c1qWyhkzCrz6J1dAJC5QZz2ev00dBjAg0lHRpNV7Xa52NQGDmGWIVhRFkXdKiWboqikQUR6rL+jBdwgipMkjj12mNt70UJKa0S1+Pqfea6BHwAYWFFVVSu1slopZYFuA9SRAMhdzw+C0HduP5+QwMi2boXRbTH/699XmQJ+GB4GVjZ1I9Vd+gM/58odnZBx7jjO/UNGKtXWZVU1WrXl8uvV4t4CyMAqIcTzueEbklIEIN2URZHtsrySUtTZzXLb3PkAIpDW0jz/lk4ABERkrbldf9Cq4uZmfXOz2ZWtFLKpq0bRXUhAIDIvFSjdLEBkrbV2D4AAJIubb9eL5XqbN1Jpa40lehiS6IlRfwvAj2JlcfP9arnabMvm1bXQCQGsbrLF12+bXV7cJRi/HgAPgY4IrWp2i6/fqqqVx+p/iwUIrGry1XyutH7B1U8KQPQgAss622yeii+/EOBuDACIrBLNG7QDwKty2kfqGeP87i969UbEKQCIiOBeIwIAPqT55QAAZI0xB5dDAETG+Bt3GDoBkNWyrYo8U/o2pbp3iCOlE7/Vss43i5E7CEOfASCQNUdGwCMBWnTSNLDT0Yh7uC99jw8BxwBYQ0HAdWv9CAHYCbb5ui3HGpXdBC6yeGQAAJG7wcvV8ekAAAhElUVBrxQWANDx0/FFI5U83hE6TyJSTZEXjSIAADeefK7cbLv9jQBgRF3VrQYAQC+5qDGZ/6etfx8AIy2aRigLAOAmZ9aLg3a7/n0AYFTbNK3ShADM7wF3xHqxbo9dFbr7gFVKCKUMIQC4IQDly2VWSKmOSkqOyAeMUkrpfbrLPQB7PtvU6yI3vweAyBqtpGhlCADAXITJZS78pX6hAjkVAJA1StRl3gOPITDkbHheCmbbWvw2AFlvF0McJYHrIqKfjippRVnU9uUy4AQAQEbk17HNL6bjlDkAEAwUoiyyShzhBt19AMDI/LvOVp9bcFzGANwUA9Zs1jlJsF1NcEw+Y2Uui/W64VHiM46Mx15C2WKRmYcZ2y8EIG3bMm+94XToo8+Rcx/E2WS8U/Tj/sevAQCwILW7vlkNXQCfAwDEg8lFZcmorgRHp5S2KberPmfMQQAAJ57MBBlRdX3P8TmtaXbLmLv+vl2A0bjSpsk6J+nHA9g2X0Ve0j/EP38gjdgu3Oa3Aeg2X4fhaLofdOanRhfDxOe2WzB6wxDUW878yWHTl3sRmd0wjUrVjeANdU2LlqJZvR8C5gQIo0EvyUF1CkZvALC14aOitQAAhBw5Hwz6aWwtdAnIb2hcEhl1V6Mh566T9Pr9TNlOq+LRfUPGkftpErr31aUTpoNxqW2nvOBoC3DfD3uT2SR+MPPdZHzeGi26TMVjAbgX9UaT808XfRcADi05Ho+mQlQ5dvDCIwHcIO6PLy8vZxfpvnNECEAs6I2qXfhz7/SEAAiAgH6Y9kdns8uL6Sh6sF+Djh+GgdupYO0KQIwxx00HZ5PJZHo2HvZCfm9vvG2h/EIAYI7rx5PLT7OzUb+XxrH/wAmt1XcJ+68AQATgrhfEg9mXf3yZpqHvea7D7vVZJZqm7VagvBqAOS5nAMwPonT84fPf/pxGDiJ7ZHErq6Kou23b/m8AZA5nYIwB5riO47oeZwjcD+Pe+MPHi7PRXePy7gnTFNtt0a1AeQbAj0KX2qoFP+3Foe95DkfgQZj0hmcX4/hx6oEAgLZeX8831ckA+oPIFEiUTC4maRi4roPI/ShJ07Tff2qy63J1dVVW6jSrIQsG532zIaDhxZfZIA5c12HI/TCJI891GeHtCaE7kcX6eiG7bZ0/Y4Ggfz4xIfNp+OHTx2EcOK7DkHthFHnw8y4xAdmmyHZZF+3PArBg9OEDTYY727/8dN4LfcfhDJnrBxwAAG+PRt2KVm1edi9Qn7FAOP70d6yz2oaDcT/yHM4ZInL3gfc90E+yyrelOGFhwsLh7G+OlMo6fuA7nCFDBMTDgYkfazDVZKt1Lrvqf84CbjycekBkARHvjkkg0H3/975Fp8vdar7MxSnLc+SO+/TKeqeXjNHGMkCoN6v59/n92ZRTAFglGkRD5PyIcT/ypiprCcipWl5ffV+uugWh5wFINflGWqkhTJL/cQ+qfLUuiTtUXH+7WuRZcUoAWW4WtakFS8csevoe3ezmVzvjeJTP/7q6UbL7pvFzFii3q0aXDR+Cw73Hfo8ABGjqfD3/utauR8X863zXVfkLALJYR7EuG6e1aJ4GqFbz71c3xnGhWm3yY/Q/A2DbfMkCXbVOKVXlI9knLLD69u3bxnAH2vzI7vEzFhDZQru6EU7RtrmPZB9oYAAW0DQ3f13Nd5Yx0O1Ru4TPD0HuSa6EdMq2zQJ8dBZhf1jWNpur65uc9gdHTw9QccG0VE6rZeE9MQRg22y1zY/89JcBdA0CjTJcqGbnPgVAstqU3cP/qwFa26I1lglRehx/3gEk0KJq39g8fqaO4IwjABFwzjk+Ve8RGaXULwOAu6zjuVve2j1/l3d5l3d5l/+7/BfgH+YswG+wJAAAAABJRU5ErkJggg==\" style=\"height: auto\">\n",
       "              <figcaption style=\"font-size: 0.6em\">5</figcaption>\n",
       "            </figure>\n",
       "        \n",
       "            <figure style=\"margin: 5px !important;\">\n",
       "              <img src=\"data:image/png;base64,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\" style=\"height: auto\">\n",
       "              <figcaption style=\"font-size: 0.6em\">9</figcaption>\n",
       "            </figure>\n",
       "        \n",
       "            <figure style=\"margin: 5px !important;\">\n",
       "              <img src=\"data:image/png;base64,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\" style=\"height: auto\">\n",
       "              <figcaption style=\"font-size: 0.6em\">8</figcaption>\n",
       "            </figure>\n",
       "        \n",
       "            <figure style=\"margin: 5px !important;\">\n",
       "              <img src=\"data:image/png;base64,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\" style=\"height: auto\">\n",
       "              <figcaption style=\"font-size: 0.6em\">7</figcaption>\n",
       "            </figure>\n",
       "        \n",
       "            <figure style=\"margin: 5px !important;\">\n",
       "              <img src=\"data:image/png;base64,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\" style=\"height: auto\">\n",
       "              <figcaption style=\"font-size: 0.6em\">5</figcaption>\n",
       "            </figure>\n",
       "        \n",
       "            <figure style=\"margin: 5px !important;\">\n",
       "              <img src=\"data:image/png;base64,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\" style=\"height: auto\">\n",
       "              <figcaption style=\"font-size: 0.6em\">0</figcaption>\n",
       "            </figure>\n",
       "        \n",
       "            <figure style=\"margin: 5px !important;\">\n",
       "              <img src=\"data:image/png;base64,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\" style=\"height: auto\">\n",
       "              <figcaption style=\"font-size: 0.6em\">8</figcaption>\n",
       "            </figure>\n",
       "        \n",
       "            <figure style=\"margin: 5px !important;\">\n",
       "              <img src=\"data:image/png;base64,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\" style=\"height: auto\">\n",
       "              <figcaption style=\"font-size: 0.6em\">9</figcaption>\n",
       "            </figure>\n",
       "        \n",
       "            <figure style=\"margin: 5px !important;\">\n",
       "              <img src=\"data:image/png;base64,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\" style=\"height: auto\">\n",
       "              <figcaption style=\"font-size: 0.6em\">0</figcaption>\n",
       "            </figure>\n",
       "        \n",
       "            <figure style=\"margin: 5px !important;\">\n",
       "              <img src=\"data:image/png;base64,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\" style=\"height: auto\">\n",
       "              <figcaption style=\"font-size: 0.6em\">4</figcaption>\n",
       "            </figure>\n",
       "        \n",
       "            <figure style=\"margin: 5px !important;\">\n",
       "              <img src=\"data:image/png;base64,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\" style=\"height: auto\">\n",
       "              <figcaption style=\"font-size: 0.6em\">2</figcaption>\n",
       "            </figure>\n",
       "        \n",
       "            <figure style=\"margin: 5px !important;\">\n",
       "              <img src=\"data:image/png;base64,iVBORw0KGgoAAAANSUhEUgAAAIAAAACACAAAAADmVT4XAAALvUlEQVR4nO2aV3fjyLGAqxNyIglmShrtXPvY///P+Bz7rkcSKUYwIQMd7oOkHc1aMyIhyS9X9QgSXV9XV3eFBsCnfMqnfMqnfMqn/H8X9F7jIIwwxgiBUlIqJRUoUCe8SN8JQDFd13VDp8DLoqzrmgt5EsF7AQBzPNfzXQOK4yHOsryoufhvAmh2q9MJu20b0mgdHY5HXAAI9DrBuwAgormdfq/bH4QuxL5lWhpBSIGSr7/7VgBCKWWabnudXhh2+20HXF0zbZ0CUkqcMMBbAahpW67n+UHQDoJWyzXB1K3AN4kCwav/gg9obrsV9rph4LmWZVs6Q4bpdlymuKjL/JQZvE0/s4JefzQe9wLbYIxRDEg3vVpXVV6VWfKxTogQQk6rOxyNL0Z9z9AwAIBCQAFkfozLLD6QRy/4BcdbABjT24OLq9Fw0A0c/PgQAADsoJfV2V4nHBD+9WZ4AwDWHHdweX09DFue/qgfJGAAYE6nEsnaJAAIwy834xsAqBWE48vr64FnaOTxWVkD1RGA0ZL8MHeMWjIGnNcfAYAtvzucXEzGoYVBSQwAVZ5VwEyDArFlte2GeyI1TdVlUYmfuUEzAIQx0dv9yWQy7AYuAlCy5nWVHuMCDM8xNQ1bQTjaq6PUmMrTJC0rLl5cimYAmGmGO/xyfdXrBxYCAKSKJI53622C3E4YOJ5Jne4X1M4VpfK4i7ZxkuXvCEA02w0vfvvrVeC6DAAA6mS92ixmyyNqjcaDjkC2GeLgiiuCxXZ+v9hEUL/oCQ0toNmt3ujLb1cWZRgAoEq3i+n93bf7Pe4eKi410zJadq8EBIivWhYjskhfHKqpBSy/0+31ewQAuJB1tl3M7qZ3N7MESs1z3LwGSs3HfxuqKqp0/7KqhhbQbc/3XYsAgKqyNN5v5rP7+WKTACRpVpT18/UOkjjJ9iZ5caiGFtBt33cMCgDAi91qsVwt19F2mwCAkkJI+XzX6U4rTtbGe1qAaLbrWlQBAFT59vb3m2V0TNK8AgBNoxjhH5JdZrmerb+nBTAzTFOnwCnwKtvPf//n8pDXXCgA6jqmodOHo1lgBAB5DYRQ/PJQDU9CTBmjBAEoXuXxbrVYJQIAMKN22G75jsEQAACSwEWVxrtDklUvh4RmAEoppQAQKFHlWRLHx1QAAOiu05pcXox6vkEAALAs0jQ57Hfr+TJ+OSA0BJBCCKEUUqLM0yzLSwEAgOyw1728uhy0HethxVW+3USbKNpsFtvyHQFASSkBEACv8jwvq4fZmf5gMr64nIQue1xynqyni8VqHR2OyXsCYMIYoxiBkryuqqoWCgAhrzO4mExGvZYBICRWAMluOZ3NV5t9UtTv5wOY6JbjebZBQUkheF2VFYCu6/3R5GLUa7sGAIDgnNfr+exuto72cc5/Eo8bACCsW367G7ZsiqSUUkleS0BGy7/48uWqFzgaAADIKk/T+c3Nt8UhSYqf6T8fAAEimuV1umFgM6QkIFBSAlC31/9yfXXRMgyiEChRpcftdvbt2926qH6ejzRbAs2w3SBwDQwKABNKKRF2a3B5eTnpuxhjqZSo0kO0Ws5uZ/OdklL9NEFv5ISIUMYYJaAAYcIM22/JzmB8Me63fQYAiFd5dow2i8V8udm/7P1vAZBKSimEEBgQpprpdoYYhde/XQ46D+kJVlkURev1arVZx7/Wfz6AApCSV0VRlIQhRJlut4e1j3tX16MgMB4R4/ndYrmJtsdj9kpx1MACSvK6zNPMophgwgynNSJd2ru46Br6Q34G1f7+f++W0SEuq1cM0GwJRF0WeZ5rjCDCdCsQrNDC0SjACCRCACqO5re3q22Sy1ebJE0AlOBVnmVlLQFhqkmh9EprdVwCAFxKzuvFYr5YRccPq455VWRpmtsCABEdIWoJ6toaAPC6LLM8ub2dr/fpa9Z/A0BdZGmaVwIQpghTnUts6ADAyyKN97vd3bf5NjmlPdEQQNRVkeVFLQEQwZjpSiGKFfCqSA/RerWaTdeH/JQGTUMAJXhdVVwoeOgSPD6WvEwP2/V8vlis9tkvCtI3A4CSUiqplAJ41mzFqoi3q/nsfhmdrL9pcfow7T8vsiz2q/lser+O0/IkB2gM8ISgAEApQI9m4OlueT+7n0dVzU8dqLkFniyvFCgAhAFkftwsF4vV5iBPnX/znPAxL/7+gAtRbtfLxTLaJydPvzGAUlLKPwgQAIiqyOP76XS6PN3/3gSg5PfeFwIAURz30e3d3WyXFafbvzEAAELftx8CAFEeN/PZ7H4V89MOoLcBEEo1jZJnFaiqssM22u4OxZlD/aRkfEUQMyzL1J7Vu7Iu0jhOi+rcoRoCaLbnuQb9bgIlqjwr6vPM3xyAmW4QuObz9RN1WVYCnT1eIwDH833fs/VnTqAkr2su4eUuxC/kXCdEhDCjPep3fNvQnnuhlJyLM07ApgCKuUFncPF11HJMRhB8D4Z/Phs/CADp7auri/Fo2LK1H8z9PDx8JIDu9K7/ft1ve5bxn/qbIJwFQDDzwuHl9W+hpWH8mA/8YfaPtwAxLK8zupoMOp4GUkgpH66MG6htBoCt3nAyvp60bQ2JWnIhFCaMAX7LDfg5AJo3+p+v41HfY8Crsq5qLqluAlLoaSEakJwKgBTS3c74619HoWsQWWVZWRSV1GyJ33bzd+rbmBpuOB6PRwPfIFBV6TFJ0kIaLdA09hYvOBnACfvDq+th2zUJAM8Om912l0hniExDB4BGO+AsAP/i6+XkoufoBEDVSTRfLRZ75Rdmy3tIjRoinArAWpd/+zp4mD+IIo7ms7u7SLVpd1LL5upPBzCC4dV16FBCAICXcbS8n96tVdY7/rwD924AGGPqBe0wfOrAqDLZLhfrrYQ4Lbh8KBEfPmH5GACmma3Ad2396QlPosVyVwPU/PFyBBNCCGlwJJ0EoDl+2HIf7wAAQJTJdrlOAQA/pQQIYUJwg3BwAgBiptvpth396b91cjzsdrEAANvQHhJDqaR4Vqu8KwBmVhB2W65BQCnJeZWul5tjITBBuO3bGsEAipd5lv6sI/5GAMWc9qAfujoCURfZ8RAtb2/2QjNNUx+NO46OQdX5cbta7dOf3Mu8DQBpbnc46LgMRJXF2/l0er9e7KnnB4E3+m3oGxRkle6Ws+kxKT8CgJhBd9jv2EyJOtstf//HP2dpgUw77PU6w8uBbxCQRbJdzqZVVX+ADyDba/d6oW8SJXmZHlY3/5oJ1g46/eGw3xuEtoaAl+lxu96o075fOweAUM3sDPvdTmDrBJQUoi6LvEZme9LvDfq9TtvRMYi6LLIsO78seh2Aeq12/8vVoOUaFCmlABGmW47R//p1GLZbrYf7W8Grqubn74ATALRgPJlMLvuBpWEkATDTnVZPcy7+/peh75iWpTMAyauq4qpZVvCaBZze5dVo0HEMjAAAEc3yu4XvX//tLwObEcIIBqjyNMkq8SHhGDPL9TzHMh768Ihqlt+TuX91Me49RaYqPWyj7fH8HXgKgBJVWXKg2h/6eciNyp10/ae7iTrdref309XxrNbQqQAiP2xsJ3icHKY6YGyEwuwET5GR54f17c3tfL47qTl+NkAWmcxuF08AmOqmXylqPn26JYrjdnHzr3+vdq9dDjUF2Oua34srDQAAI2DKlgoAYywIAIjkGK3u7759i7KP2Yayzg5WFG18l1D6Y7qhpOA8Pew289l8FR2aqT8BIE9263uXtl2P/rjPkEzjZLeN1svpfJc11f8qAC8IW9tMDPrM+tNv/Dhfr1ab9WYTxec0Z88CUFxhGjGoc2V57Mffsmh6N1+son2cn9ycPx9AqhJTAkIwy+hhgMcUFAFkq/n05n6x3iXFSV8wNwRQUOMUgxQg0+UPAPni5t/T1Xp30uVcYwAAkHUOssyz7Y2HAb6XYeVutdzsj+nZvdEf5fUIgjClmmY6jqX/0AcQeRpnRdEgCToTABBCGGFC8I/xVkkphFSySW/uUz7lUz7lUz7lUz7lmfwf+UP3sD8DNz4AAAAASUVORK5CYII=\" style=\"height: auto\">\n",
       "              <figcaption style=\"font-size: 0.6em\">8</figcaption>\n",
       "            </figure>\n",
       "        \n",
       "            <figure style=\"margin: 5px !important;\">\n",
       "              <img src=\"data:image/png;base64,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\" style=\"height: auto\">\n",
       "              <figcaption style=\"font-size: 0.6em\">7</figcaption>\n",
       "            </figure>\n",
       "        \n",
       "            <figure style=\"margin: 5px !important;\">\n",
       "              <img src=\"data:image/png;base64,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\" style=\"height: auto\">\n",
       "              <figcaption style=\"font-size: 0.6em\">4</figcaption>\n",
       "            </figure>\n",
       "        \n",
       "            <figure style=\"margin: 5px !important;\">\n",
       "              <img src=\"data:image/png;base64,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\" style=\"height: auto\">\n",
       "              <figcaption style=\"font-size: 0.6em\">6</figcaption>\n",
       "            </figure>\n",
       "        \n",
       "    </div>"
      ],
      "text/plain": [
       "<IPython.core.display.HTML object>"
      ]
     },
     "execution_count": 41,
     "metadata": {},
     "output_type": "execute_result"
    }
   ],
   "source": [
    "count = 8\n",
    "\n",
    "def get_some_random_images_and_labels(df, count):\n",
    "    image_ids = RNG.choice(df.index.unique(), count, replace=False)\n",
    "    image_datas = df.loc[image_ids]['png']\n",
    "    images = [Image.open(io.BytesIO(image_data)) for image_data in image_datas]\n",
    "    labels = df.loc[image_ids]['value']\n",
    "    return images, list(labels)\n",
    "\n",
    "train_images, train_labels = get_some_random_images_and_labels(df_train_images, count)\n",
    "test_images, test_labels = get_some_random_images_and_labels(df_test_images, count)\n",
    "\n",
    "display_images_grid(train_images + test_images, captions=train_labels + test_labels, col_count=count)"
   ]
  },
  {
   "cell_type": "code",
   "execution_count": 122,
   "id": "e5019d63-ce09-4130-ac07-b6ae15a84ab4",
   "metadata": {},
   "outputs": [],
   "source": [
    "#COS_SIM_THRESHOLD = 0.075\n",
    "COS_SIM_THRESHOLD = 0.055\n",
    "hdv = Hdv(10_000, np)"
   ]
  },
  {
   "cell_type": "code",
   "execution_count": 123,
   "id": "193bb9d6-61b7-4f16-ae5d-75fac6dd9767",
   "metadata": {},
   "outputs": [],
   "source": [
    "def generate_permutation_matrix(input_vector_dims):\n",
    "    pm = np.zeros((input_vector_dims, input_vector_dims), dtype='b')\n",
    "    row_indices = RNG.choice(pm.shape[0], pm.shape[0], replace=False)\n",
    "    \n",
    "    for row_index, column_index in zip(row_indices, range(pm.shape[1])):\n",
    "        pm[row_index, column_index] = 1\n",
    "\n",
    "    return pm"
   ]
  },
  {
   "cell_type": "code",
   "execution_count": 124,
   "id": "9eff1de7-2ed0-4e86-87d6-108169ab6916",
   "metadata": {},
   "outputs": [],
   "source": [
    "pm = generate_permutation_matrix(100)\n",
    "assert np.array_equal((pm == 1).sum(axis=0), np.ones(pm.shape[0]))\n",
    "assert np.array_equal((pm == 1).sum(axis=1), np.ones(pm.shape[0]))\n",
    "rand_vec = RNG.integers(0, 2, pm.shape[0])\n",
    "mutated_rand_vec = pm @ rand_vec\n",
    "assert np.array_equal(pm.T @ mutated_rand_vec, rand_vec)\n",
    "assert np.array_equal(np.unique_counts(rand_vec).counts, np.unique_counts(mutated_rand_vec).counts)"
   ]
  },
  {
   "cell_type": "code",
   "execution_count": 125,
   "id": "317bc435-b1be-4e25-8f4f-b9e3d35f522b",
   "metadata": {},
   "outputs": [],
   "source": [
    "class CorticalColumn(object):\n",
    "    def __init__(self, input_vector_dims, stride_width, strides_count):\n",
    "        #self.input_vector_permutation2 = generate_permutation_matrix(input_vector_dims)\n",
    "        self.stride_width = stride_width\n",
    "        self.stride_hdvs = defaultdict(hdv)\n",
    "\n",
    "        assert input_vector_dims >= stride_width\n",
    "        total_strides = input_vector_dims // stride_width\n",
    "        assert strides_count <= total_strides\n",
    "        self.stride_indices = RNG.choice(total_strides, strides_count, replace=False)\n",
    "        self.stride_indices *= stride_width\n",
    "        assert np.all(np.unique_counts(self.stride_indices).counts == 1)\n",
    "\n",
    "        self.bundles = dict()\n",
    "        self.bundle_to_image_ids = defaultdict(set)\n",
    "        self.bundles_norm = HdvArray(hdv.N, np)\n",
    "\n",
    "    def bundle_input_vectors(self, input_vectors):\n",
    "        bundle = []\n",
    "\n",
    "        for input_vector in input_vectors:\n",
    "            input_vector_hdv = []\n",
    "            \n",
    "            for stride_index in self.stride_indices:\n",
    "                stride = input_vector[stride_index:stride_index + self.stride_width]\n",
    "    \n",
    "                if np.all(stride == 0):\n",
    "                    continue\n",
    "                    \n",
    "                stride_code = ''.join(map(str, stride.tolist()))\n",
    "                stride_hdv = self.stride_hdvs[stride_code]\n",
    "                stride_hdv = hdv.shift(stride_hdv, stride_index)\n",
    "                input_vector_hdv.append(stride_hdv)\n",
    "    \n",
    "            if not input_vector_hdv:\n",
    "                continue\n",
    "\n",
    "            input_vector_hdv = hdv.bundle(input_vector_hdv)\n",
    "            bundle.append(input_vector_hdv)\n",
    "\n",
    "        if not bundle:\n",
    "            return None\n",
    "\n",
    "        return hdv.bundle(bundle) if len(bundle) > 1 else bundle[0]"
   ]
  },
  {
   "cell_type": "code",
   "execution_count": 126,
   "id": "1e8dc096-5076-4657-b22c-a489c2be1694",
   "metadata": {},
   "outputs": [],
   "source": [
    "stride_width = 16\n",
    "COLUMN = CorticalColumn(IMAGE_ENCODING_DIMS, stride_width, IMAGE_ENCODING_DIMS // stride_width)"
   ]
  },
  {
   "cell_type": "code",
   "execution_count": 135,
   "id": "15f41488-ec0c-4165-862d-a264d04e0f33",
   "metadata": {},
   "outputs": [
    {
     "data": {
      "application/vnd.jupyter.widget-view+json": {
       "model_id": "b7ad70ba2b214d91aa7fc27952e2d073",
       "version_major": 2,
       "version_minor": 0
      },
      "text/plain": [
       "  0%|          | 0/10 [00:00<?, ?it/s]"
      ]
     },
     "metadata": {},
     "output_type": "display_data"
    },
    {
     "data": {
      "application/vnd.jupyter.widget-view+json": {
       "model_id": "",
       "version_major": 2,
       "version_minor": 0
      },
      "text/plain": [
       "  0%|          | 0/100 [00:00<?, ?it/s]"
      ]
     },
     "metadata": {},
     "output_type": "display_data"
    },
    {
     "data": {
      "application/vnd.jupyter.widget-view+json": {
       "model_id": "",
       "version_major": 2,
       "version_minor": 0
      },
      "text/plain": [
       "  0%|          | 0/100 [00:00<?, ?it/s]"
      ]
     },
     "metadata": {},
     "output_type": "display_data"
    },
    {
     "data": {
      "application/vnd.jupyter.widget-view+json": {
       "model_id": "",
       "version_major": 2,
       "version_minor": 0
      },
      "text/plain": [
       "  0%|          | 0/100 [00:00<?, ?it/s]"
      ]
     },
     "metadata": {},
     "output_type": "display_data"
    },
    {
     "data": {
      "application/vnd.jupyter.widget-view+json": {
       "model_id": "",
       "version_major": 2,
       "version_minor": 0
      },
      "text/plain": [
       "  0%|          | 0/100 [00:00<?, ?it/s]"
      ]
     },
     "metadata": {},
     "output_type": "display_data"
    },
    {
     "data": {
      "application/vnd.jupyter.widget-view+json": {
       "model_id": "",
       "version_major": 2,
       "version_minor": 0
      },
      "text/plain": [
       "  0%|          | 0/100 [00:00<?, ?it/s]"
      ]
     },
     "metadata": {},
     "output_type": "display_data"
    },
    {
     "data": {
      "application/vnd.jupyter.widget-view+json": {
       "model_id": "",
       "version_major": 2,
       "version_minor": 0
      },
      "text/plain": [
       "  0%|          | 0/100 [00:00<?, ?it/s]"
      ]
     },
     "metadata": {},
     "output_type": "display_data"
    },
    {
     "data": {
      "application/vnd.jupyter.widget-view+json": {
       "model_id": "",
       "version_major": 2,
       "version_minor": 0
      },
      "text/plain": [
       "  0%|          | 0/100 [00:00<?, ?it/s]"
      ]
     },
     "metadata": {},
     "output_type": "display_data"
    },
    {
     "data": {
      "application/vnd.jupyter.widget-view+json": {
       "model_id": "",
       "version_major": 2,
       "version_minor": 0
      },
      "text/plain": [
       "  0%|          | 0/100 [00:00<?, ?it/s]"
      ]
     },
     "metadata": {},
     "output_type": "display_data"
    },
    {
     "data": {
      "application/vnd.jupyter.widget-view+json": {
       "model_id": "",
       "version_major": 2,
       "version_minor": 0
      },
      "text/plain": [
       "  0%|          | 0/100 [00:00<?, ?it/s]"
      ]
     },
     "metadata": {},
     "output_type": "display_data"
    },
    {
     "data": {
      "application/vnd.jupyter.widget-view+json": {
       "model_id": "",
       "version_major": 2,
       "version_minor": 0
      },
      "text/plain": [
       "  0%|          | 0/100 [00:00<?, ?it/s]"
      ]
     },
     "metadata": {},
     "output_type": "display_data"
    },
    {
     "data": {
      "application/vnd.jupyter.widget-view+json": {
       "model_id": "",
       "version_major": 2,
       "version_minor": 0
      },
      "text/plain": [
       "  0%|          | 0/100 [00:00<?, ?it/s]"
      ]
     },
     "metadata": {},
     "output_type": "display_data"
    },
    {
     "data": {
      "application/vnd.jupyter.widget-view+json": {
       "model_id": "",
       "version_major": 2,
       "version_minor": 0
      },
      "text/plain": [
       "  0%|          | 0/100 [00:00<?, ?it/s]"
      ]
     },
     "metadata": {},
     "output_type": "display_data"
    },
    {
     "data": {
      "application/vnd.jupyter.widget-view+json": {
       "model_id": "",
       "version_major": 2,
       "version_minor": 0
      },
      "text/plain": [
       "  0%|          | 0/100 [00:00<?, ?it/s]"
      ]
     },
     "metadata": {},
     "output_type": "display_data"
    },
    {
     "data": {
      "application/vnd.jupyter.widget-view+json": {
       "model_id": "",
       "version_major": 2,
       "version_minor": 0
      },
      "text/plain": [
       "  0%|          | 0/100 [00:00<?, ?it/s]"
      ]
     },
     "metadata": {},
     "output_type": "display_data"
    },
    {
     "data": {
      "application/vnd.jupyter.widget-view+json": {
       "model_id": "",
       "version_major": 2,
       "version_minor": 0
      },
      "text/plain": [
       "  0%|          | 0/100 [00:00<?, ?it/s]"
      ]
     },
     "metadata": {},
     "output_type": "display_data"
    },
    {
     "data": {
      "application/vnd.jupyter.widget-view+json": {
       "model_id": "",
       "version_major": 2,
       "version_minor": 0
      },
      "text/plain": [
       "  0%|          | 0/100 [00:00<?, ?it/s]"
      ]
     },
     "metadata": {},
     "output_type": "display_data"
    },
    {
     "data": {
      "application/vnd.jupyter.widget-view+json": {
       "model_id": "",
       "version_major": 2,
       "version_minor": 0
      },
      "text/plain": [
       "  0%|          | 0/100 [00:00<?, ?it/s]"
      ]
     },
     "metadata": {},
     "output_type": "display_data"
    },
    {
     "data": {
      "application/vnd.jupyter.widget-view+json": {
       "model_id": "",
       "version_major": 2,
       "version_minor": 0
      },
      "text/plain": [
       "  0%|          | 0/100 [00:00<?, ?it/s]"
      ]
     },
     "metadata": {},
     "output_type": "display_data"
    },
    {
     "data": {
      "application/vnd.jupyter.widget-view+json": {
       "model_id": "",
       "version_major": 2,
       "version_minor": 0
      },
      "text/plain": [
       "  0%|          | 0/100 [00:00<?, ?it/s]"
      ]
     },
     "metadata": {},
     "output_type": "display_data"
    },
    {
     "data": {
      "application/vnd.jupyter.widget-view+json": {
       "model_id": "",
       "version_major": 2,
       "version_minor": 0
      },
      "text/plain": [
       "  0%|          | 0/100 [00:00<?, ?it/s]"
      ]
     },
     "metadata": {},
     "output_type": "display_data"
    }
   ],
   "source": [
    "stride_width = 16\n",
    "COLUMN = CorticalColumn(IMAGE_ENCODING_DIMS, stride_width, IMAGE_ENCODING_DIMS // stride_width)\n",
    "df_train_progress = pd.DataFrame(columns=['count', 'infers', 'correct_infers'])\n",
    "\n",
    "trials = 10\n",
    "count = 100\n",
    "\n",
    "for trials in tqdm(range(trials)):\n",
    "    # TRAIN STEP\n",
    "    train_step_image_ids = RNG.choice(df_train_images.index.unique(), count, replace=False)\n",
    "\n",
    "    for image_id in tqdm(train_step_image_ids, leave=False):\n",
    "        image_value = df_train_images.loc[image_id]['value']\n",
    "        df_image_encodings = pd.read_sql(f'SELECT data FROM image_encodings WHERE image_id=:image_id', params={'image_id': int(image_id)}, con=train_db_con)\n",
    "        assert len(df_image_encodings) > 0\n",
    "        image_encodings = list(map(lambda d: np.frombuffer(d, dtype='b'), df_image_encodings['data']))\n",
    "        image_bundle = COLUMN.bundle_input_vectors(image_encodings)\n",
    "        assert not image_bundle is None\n",
    "        image_bundle_norm = hdv.normalize(image_bundle)\n",
    "        cos_sims = COLUMN.bundles_norm.array @ image_bundle_norm\n",
    "        cos_sims_indices = np.argwhere(cos_sims >= COS_SIM_THRESHOLD).reshape(-1)\n",
    "        sorted_cos_sims_with_indices = sorted(zip(cos_sims[cos_sims_indices], cos_sims_indices), key=lambda x: -x[0]) # sort by cos sim desc\n",
    "\n",
    "        # Debundle from ALL clusters which showed similarity but actually are not\n",
    "        for _, index in sorted_cos_sims_with_indices:\n",
    "            similar_bundle = COLUMN.bundles[index]\n",
    "            similar_bundle_image_ids = COLUMN.bundle_to_image_ids[index]\n",
    "            assert len(similar_bundle_image_ids) > 0\n",
    "            similar_bundle_image_ids = next(iter(similar_bundle_image_ids)) # pick any\n",
    "            similar_bundle_image_value = df_train_images.loc[similar_bundle_image_ids]['value']\n",
    "\n",
    "            if similar_bundle_image_value != image_value:\n",
    "                similar_bundle[:] = hdv.debundle(similar_bundle, image_bundle)\n",
    "                COLUMN.bundles_norm.array[index] = hdv.normalize(similar_bundle)\n",
    "\n",
    "        # Bundle with MOST successive one\n",
    "        for _, index in sorted_cos_sims_with_indices:\n",
    "            similar_bundle = COLUMN.bundles[index]\n",
    "            similar_bundle_image_ids = COLUMN.bundle_to_image_ids[index]\n",
    "            assert len(similar_bundle_image_ids) > 0\n",
    "            similar_bundle_image_id = next(iter(similar_bundle_image_ids)) # pick any\n",
    "            similar_bundle_image_value = df_train_images.loc[similar_bundle_image_id]['value']\n",
    "\n",
    "            if similar_bundle_image_value == image_value:\n",
    "                similar_bundle[:] = hdv.bundle(similar_bundle, image_bundle)\n",
    "                COLUMN.bundles_norm.array[index] = hdv.normalize(similar_bundle)\n",
    "                similar_bundle_image_ids.add(image_id)\n",
    "                break # there must be only one\n",
    "        else:\n",
    "            # Didn't find any matching bundle of HDVs to join -> create new one\n",
    "            index = COLUMN.bundles_norm.lease()\n",
    "            COLUMN.bundles_norm.array[index] = image_bundle_norm\n",
    "            assert np.array_equal(COLUMN.bundles_norm.array[index], image_bundle_norm)\n",
    "            COLUMN.bundles[index] = image_bundle\n",
    "            COLUMN.bundle_to_image_ids[index].add(image_id)\n",
    "\n",
    "    # CONSOLIDATE MEMORY\n",
    "    before_len = COLUMN.bundles_norm.len()\n",
    "    assert before_len == len(COLUMN.bundles)\n",
    "    bundle_indices_to_release = []\n",
    "    \n",
    "    for bundle_index, image_ids in COLUMN.bundle_to_image_ids.items():\n",
    "        if len(image_ids) <= 1:\n",
    "            bundle_indices_to_release.append(bundle_index)\n",
    "\n",
    "    for bundle_index_to_release in bundle_indices_to_release:\n",
    "        del COLUMN.bundles[bundle_index_to_release]\n",
    "        del COLUMN.bundle_to_image_ids[bundle_index_to_release]\n",
    "        COLUMN.bundles_norm.release(bundle_index_to_release)\n",
    "\n",
    "    # INFER STEP\n",
    "    inference_count = 0\n",
    "    correct_inference_count = 0\n",
    "    infer_step_image_ids = RNG.choice(df_train_images.index.unique(), count, replace=False)\n",
    "\n",
    "    for image_id in tqdm(infer_step_image_ids, leave=False):\n",
    "        image_value = df_train_images.loc[image_id]['value']\n",
    "        df_image_encodings = pd.read_sql(f'SELECT data FROM image_encodings WHERE image_id=:image_id LIMIT 1', params={'image_id': int(image_id)}, con=train_db_con)\n",
    "        assert len(df_image_encodings) == 1\n",
    "        image_encoding = df_image_encodings.iloc[0]['data']\n",
    "        image_encoding = np.frombuffer(image_encoding, dtype='b')\n",
    "        image_bundle = COLUMN.bundle_input_vectors([image_encoding])\n",
    "        assert not image_bundle is None\n",
    "        image_bundle_norm = hdv.normalize(image_bundle)\n",
    "        cos_sims = COLUMN.bundles_norm.array @ image_bundle_norm\n",
    "        max_cos_sim_index = np.argmax(cos_sims)\n",
    "\n",
    "        if cos_sims[max_cos_sim_index] <= COS_SIM_THRESHOLD:\n",
    "            continue\n",
    "            \n",
    "        inference_count += 1\n",
    "\n",
    "        similar_bundle_image_ids = COLUMN.bundle_to_image_ids[max_cos_sim_index]\n",
    "        assert len(similar_bundle_image_ids) > 0\n",
    "        similar_bundle_image_id = next(iter(similar_bundle_image_ids))\n",
    "        similar_bundle_image_value = df_train_images.loc[similar_bundle_image_id]['value']\n",
    "        \n",
    "        is_correct_infer = similar_bundle_image_value == image_value\n",
    "        correct_inference_count += int(is_correct_infer)\n",
    "        \n",
    "    df_train_progress.loc[len(df_train_progress)] = [count, inference_count, correct_inference_count]"
   ]
  },
  {
   "cell_type": "code",
   "execution_count": 150,
   "id": "e3a4c261-918a-4f8a-adb4-d08edb02b444",
   "metadata": {},
   "outputs": [
    {
     "data": {
      "image/png": "[encoded data removed]",
      "text/plain": [
       "<Figure size 1200x400 with 2 Axes>"
      ]
     },
     "metadata": {},
     "output_type": "display_data"
    }
   ],
   "source": [
    "df_train_progress_2 = df_train_progress.copy()\n",
    "df_train_progress_2['infer_ratio'] = df_train_progress_2['infers'] / df_train_progress_2['count']\n",
    "df_train_progress_2['accuracy'] = df_train_progress_2['correct_infers'] / df_train_progress_2['count']\n",
    "\n",
    "plt.figure(figsize=(12, 4))\n",
    "plt.subplot(1, 2, 1)\n",
    "plt.bar(list(df_train_progress_2.index), list(df_train_progress_2['infer_ratio']))\n",
    "plt.ylim(0, 1)\n",
    "plt.title('Infers, %')\n",
    "\n",
    "plt.subplot(1, 2, 2)\n",
    "plt.bar(list(df_train_progress_2.index), list(df_train_progress_2['accuracy']))\n",
    "plt.ylim(0, 1)\n",
    "plt.title('Accuracy, %')\n",
    "plt.grid()\n",
    "\n",
    "plt.show()\n",
    "df_train_progress"
   ]
  },
  {
   "cell_type": "code",
   "execution_count": 151,
   "id": "3755897f-3ff8-4760-8190-c76c3beb4adc",
   "metadata": {},
   "outputs": [
    {
     "data": {
      "application/vnd.jupyter.widget-view+json": {
       "model_id": "799ff69e85574bcd8405f37a95487fdd",
       "version_major": 2,
       "version_minor": 0
      },
      "text/plain": [
       "  0%|          | 0/10 [00:00<?, ?it/s]"
      ]
     },
     "metadata": {},
     "output_type": "display_data"
    },
    {
     "data": {
      "application/vnd.jupyter.widget-view+json": {
       "model_id": "",
       "version_major": 2,
       "version_minor": 0
      },
      "text/plain": [
       "  0%|          | 0/100 [00:00<?, ?it/s]"
      ]
     },
     "metadata": {},
     "output_type": "display_data"
    },
    {
     "data": {
      "application/vnd.jupyter.widget-view+json": {
       "model_id": "",
       "version_major": 2,
       "version_minor": 0
      },
      "text/plain": [
       "  0%|          | 0/100 [00:00<?, ?it/s]"
      ]
     },
     "metadata": {},
     "output_type": "display_data"
    },
    {
     "data": {
      "application/vnd.jupyter.widget-view+json": {
       "model_id": "",
       "version_major": 2,
       "version_minor": 0
      },
      "text/plain": [
       "  0%|          | 0/100 [00:00<?, ?it/s]"
      ]
     },
     "metadata": {},
     "output_type": "display_data"
    },
    {
     "data": {
      "application/vnd.jupyter.widget-view+json": {
       "model_id": "",
       "version_major": 2,
       "version_minor": 0
      },
      "text/plain": [
       "  0%|          | 0/100 [00:00<?, ?it/s]"
      ]
     },
     "metadata": {},
     "output_type": "display_data"
    },
    {
     "data": {
      "application/vnd.jupyter.widget-view+json": {
       "model_id": "",
       "version_major": 2,
       "version_minor": 0
      },
      "text/plain": [
       "  0%|          | 0/100 [00:00<?, ?it/s]"
      ]
     },
     "metadata": {},
     "output_type": "display_data"
    },
    {
     "data": {
      "application/vnd.jupyter.widget-view+json": {
       "model_id": "",
       "version_major": 2,
       "version_minor": 0
      },
      "text/plain": [
       "  0%|          | 0/100 [00:00<?, ?it/s]"
      ]
     },
     "metadata": {},
     "output_type": "display_data"
    },
    {
     "data": {
      "application/vnd.jupyter.widget-view+json": {
       "model_id": "",
       "version_major": 2,
       "version_minor": 0
      },
      "text/plain": [
       "  0%|          | 0/100 [00:00<?, ?it/s]"
      ]
     },
     "metadata": {},
     "output_type": "display_data"
    },
    {
     "data": {
      "application/vnd.jupyter.widget-view+json": {
       "model_id": "",
       "version_major": 2,
       "version_minor": 0
      },
      "text/plain": [
       "  0%|          | 0/100 [00:00<?, ?it/s]"
      ]
     },
     "metadata": {},
     "output_type": "display_data"
    },
    {
     "data": {
      "application/vnd.jupyter.widget-view+json": {
       "model_id": "",
       "version_major": 2,
       "version_minor": 0
      },
      "text/plain": [
       "  0%|          | 0/100 [00:00<?, ?it/s]"
      ]
     },
     "metadata": {},
     "output_type": "display_data"
    },
    {
     "data": {
      "application/vnd.jupyter.widget-view+json": {
       "model_id": "",
       "version_major": 2,
       "version_minor": 0
      },
      "text/plain": [
       "  0%|          | 0/100 [00:00<?, ?it/s]"
      ]
     },
     "metadata": {},
     "output_type": "display_data"
    },
    {
     "data": {
      "application/vnd.jupyter.widget-view+json": {
       "model_id": "",
       "version_major": 2,
       "version_minor": 0
      },
      "text/plain": [
       "  0%|          | 0/100 [00:00<?, ?it/s]"
      ]
     },
     "metadata": {},
     "output_type": "display_data"
    },
    {
     "data": {
      "application/vnd.jupyter.widget-view+json": {
       "model_id": "",
       "version_major": 2,
       "version_minor": 0
      },
      "text/plain": [
       "  0%|          | 0/100 [00:00<?, ?it/s]"
      ]
     },
     "metadata": {},
     "output_type": "display_data"
    },
    {
     "data": {
      "application/vnd.jupyter.widget-view+json": {
       "model_id": "",
       "version_major": 2,
       "version_minor": 0
      },
      "text/plain": [
       "  0%|          | 0/100 [00:00<?, ?it/s]"
      ]
     },
     "metadata": {},
     "output_type": "display_data"
    },
    {
     "data": {
      "application/vnd.jupyter.widget-view+json": {
       "model_id": "",
       "version_major": 2,
       "version_minor": 0
      },
      "text/plain": [
       "  0%|          | 0/100 [00:00<?, ?it/s]"
      ]
     },
     "metadata": {},
     "output_type": "display_data"
    },
    {
     "data": {
      "application/vnd.jupyter.widget-view+json": {
       "model_id": "",
       "version_major": 2,
       "version_minor": 0
      },
      "text/plain": [
       "  0%|          | 0/100 [00:00<?, ?it/s]"
      ]
     },
     "metadata": {},
     "output_type": "display_data"
    },
    {
     "data": {
      "application/vnd.jupyter.widget-view+json": {
       "model_id": "",
       "version_major": 2,
       "version_minor": 0
      },
      "text/plain": [
       "  0%|          | 0/100 [00:00<?, ?it/s]"
      ]
     },
     "metadata": {},
     "output_type": "display_data"
    },
    {
     "data": {
      "application/vnd.jupyter.widget-view+json": {
       "model_id": "",
       "version_major": 2,
       "version_minor": 0
      },
      "text/plain": [
       "  0%|          | 0/100 [00:00<?, ?it/s]"
      ]
     },
     "metadata": {},
     "output_type": "display_data"
    },
    {
     "data": {
      "application/vnd.jupyter.widget-view+json": {
       "model_id": "",
       "version_major": 2,
       "version_minor": 0
      },
      "text/plain": [
       "  0%|          | 0/100 [00:00<?, ?it/s]"
      ]
     },
     "metadata": {},
     "output_type": "display_data"
    },
    {
     "data": {
      "application/vnd.jupyter.widget-view+json": {
       "model_id": "",
       "version_major": 2,
       "version_minor": 0
      },
      "text/plain": [
       "  0%|          | 0/100 [00:00<?, ?it/s]"
      ]
     },
     "metadata": {},
     "output_type": "display_data"
    },
    {
     "data": {
      "application/vnd.jupyter.widget-view+json": {
       "model_id": "",
       "version_major": 2,
       "version_minor": 0
      },
      "text/plain": [
       "  0%|          | 0/100 [00:00<?, ?it/s]"
      ]
     },
     "metadata": {},
     "output_type": "display_data"
    }
   ],
   "source": [
    "stride_width = 16\n",
    "COLUMN = CorticalColumn(IMAGE_ENCODING_DIMS, stride_width, IMAGE_ENCODING_DIMS // stride_width)\n",
    "df_train_progress = pd.DataFrame(columns=['count', 'infers', 'correct_infers'])\n",
    "\n",
    "trials = 10\n",
    "count = 100\n",
    "\n",
    "for trials in tqdm(range(trials)):\n",
    "    # TRAIN STEP\n",
    "    train_step_image_ids = RNG.choice(df_train_images.index.unique(), count, replace=False)\n",
    "\n",
    "    for image_id in tqdm(train_step_image_ids, leave=False):\n",
    "        image_value = df_train_images.loc[image_id]['value']\n",
    "        df_image_encodings = pd.read_sql(f'SELECT data FROM image_encodings WHERE image_id=:image_id LIMIT 1', params={'image_id': int(image_id)}, con=train_db_con)\n",
    "        assert len(df_image_encodings) == 1\n",
    "        image_encoding = df_image_encodings.iloc[0]['data']\n",
    "        image_encoding = np.frombuffer(image_encoding, dtype='b')\n",
    "        image_bundle = COLUMN.bundle_input_vectors([image_encoding])\n",
    "        assert not image_bundle is None\n",
    "        image_bundle_norm = hdv.normalize(image_bundle)\n",
    "        cos_sims = COLUMN.bundles_norm.array @ image_bundle_norm\n",
    "        cos_sims_indices = np.argwhere(cos_sims >= COS_SIM_THRESHOLD).reshape(-1)\n",
    "        sorted_cos_sims_with_indices = sorted(zip(cos_sims[cos_sims_indices], cos_sims_indices), key=lambda x: -x[0]) # sort by cos sim desc\n",
    "\n",
    "        # Debundle from ALL clusters which showed similarity but actually are not\n",
    "        for _, index in sorted_cos_sims_with_indices:\n",
    "            similar_bundle = COLUMN.bundles[index]\n",
    "            similar_bundle_image_ids = COLUMN.bundle_to_image_ids[index]\n",
    "            assert len(similar_bundle_image_ids) > 0\n",
    "            similar_bundle_image_ids = next(iter(similar_bundle_image_ids)) # pick any\n",
    "            similar_bundle_image_value = df_train_images.loc[similar_bundle_image_ids]['value']\n",
    "\n",
    "            if similar_bundle_image_value != image_value:\n",
    "                similar_bundle[:] = hdv.debundle(similar_bundle, image_bundle)\n",
    "                COLUMN.bundles_norm.array[index] = hdv.normalize(similar_bundle)\n",
    "\n",
    "        # Bundle with MOST successive one\n",
    "        for _, index in sorted_cos_sims_with_indices:\n",
    "            similar_bundle = COLUMN.bundles[index]\n",
    "            similar_bundle_image_ids = COLUMN.bundle_to_image_ids[index]\n",
    "            assert len(similar_bundle_image_ids) > 0\n",
    "            similar_bundle_image_id = next(iter(similar_bundle_image_ids)) # pick any\n",
    "            similar_bundle_image_value = df_train_images.loc[similar_bundle_image_id]['value']\n",
    "\n",
    "            if similar_bundle_image_value == image_value:\n",
    "                similar_bundle[:] = hdv.bundle(similar_bundle, image_bundle)\n",
    "                COLUMN.bundles_norm.array[index] = hdv.normalize(similar_bundle)\n",
    "                similar_bundle_image_ids.add(image_id)\n",
    "                break # there must be only one\n",
    "        else:\n",
    "            # Didn't find any matching bundle of HDVs to join -> create new one\n",
    "            index = COLUMN.bundles_norm.lease()\n",
    "            COLUMN.bundles_norm.array[index] = image_bundle_norm\n",
    "            assert np.array_equal(COLUMN.bundles_norm.array[index], image_bundle_norm)\n",
    "            COLUMN.bundles[index] = image_bundle\n",
    "            COLUMN.bundle_to_image_ids[index].add(image_id)\n",
    "\n",
    "    # CONSOLIDATE MEMORY\n",
    "    before_len = COLUMN.bundles_norm.len()\n",
    "    assert before_len == len(COLUMN.bundles)\n",
    "    bundle_indices_to_release = []\n",
    "    \n",
    "    for bundle_index, image_ids in COLUMN.bundle_to_image_ids.items():\n",
    "        if len(image_ids) <= 1:\n",
    "            bundle_indices_to_release.append(bundle_index)\n",
    "\n",
    "    for bundle_index_to_release in bundle_indices_to_release:\n",
    "        del COLUMN.bundles[bundle_index_to_release]\n",
    "        del COLUMN.bundle_to_image_ids[bundle_index_to_release]\n",
    "        COLUMN.bundles_norm.release(bundle_index_to_release)\n",
    "\n",
    "    # INFER STEP\n",
    "    inference_count = 0\n",
    "    correct_inference_count = 0\n",
    "    infer_step_image_ids = RNG.choice(df_train_images.index.unique(), count, replace=False)\n",
    "\n",
    "    for image_id in tqdm(infer_step_image_ids, leave=False):\n",
    "        image_value = df_train_images.loc[image_id]['value']\n",
    "        df_image_encodings = pd.read_sql(f'SELECT data FROM image_encodings WHERE image_id=:image_id', params={'image_id': int(image_id)}, con=train_db_con)\n",
    "        assert len(df_image_encodings) > 0\n",
    "        image_encodings = list(map(lambda d: np.frombuffer(d, dtype='b'), df_image_encodings['data']))\n",
    "\n",
    "        for image_encoding in image_encodings:\n",
    "            image_bundle = COLUMN.bundle_input_vectors([image_encoding])\n",
    "            assert not image_bundle is None\n",
    "            image_bundle_norm = hdv.normalize(image_bundle)\n",
    "            cos_sims = COLUMN.bundles_norm.array @ image_bundle_norm\n",
    "            max_cos_sim_index = np.argmax(cos_sims)\n",
    "    \n",
    "            if cos_sims[max_cos_sim_index] <= COS_SIM_THRESHOLD:\n",
    "                continue\n",
    "                \n",
    "            inference_count += 1\n",
    "    \n",
    "            similar_bundle_image_ids = COLUMN.bundle_to_image_ids[max_cos_sim_index]\n",
    "            assert len(similar_bundle_image_ids) > 0\n",
    "            similar_bundle_image_id = next(iter(similar_bundle_image_ids))\n",
    "            similar_bundle_image_value = df_train_images.loc[similar_bundle_image_id]['value']\n",
    "            \n",
    "            is_correct_infer = similar_bundle_image_value == image_value\n",
    "            correct_inference_count += int(is_correct_infer)\n",
    "            break\n",
    "        \n",
    "    df_train_progress.loc[len(df_train_progress)] = [count, inference_count, correct_inference_count]"
   ]
  },
  {
   "cell_type": "code",
   "execution_count": 154,
   "id": "d3f2e799-6218-477f-8892-3b8e4560334a",
   "metadata": {},
   "outputs": [
    {
     "data": {
      "image/png": "[encoded data removed]",
      "text/plain": [
       "<Figure size 1200x400 with 2 Axes>"
      ]
     },
     "metadata": {},
     "output_type": "display_data"
    },
    {
     "data": {
      "text/html": [
       "<div>\n",
       "<style scoped>\n",
       "    .dataframe tbody tr th:only-of-type {\n",
       "        vertical-align: middle;\n",
       "    }\n",
       "\n",
       "    .dataframe tbody tr th {\n",
       "        vertical-align: top;\n",
       "    }\n",
       "\n",
       "    .dataframe thead th {\n",
       "        text-align: right;\n",
       "    }\n",
       "</style>\n",
       "<table border=\"1\" class=\"dataframe\">\n",
       "  <thead>\n",
       "    <tr style=\"text-align: right;\">\n",
       "      <th></th>\n",
       "      <th>count</th>\n",
       "      <th>infers</th>\n",
       "      <th>correct_infers</th>\n",
       "    </tr>\n",
       "  </thead>\n",
       "  <tbody>\n",
       "    <tr>\n",
       "      <th>0</th>\n",
       "      <td>100</td>\n",
       "      <td>70</td>\n",
       "      <td>25</td>\n",
       "    </tr>\n",
       "    <tr>\n",
       "      <th>1</th>\n",
       "      <td>100</td>\n",
       "      <td>70</td>\n",
       "      <td>26</td>\n",
       "    </tr>\n",
       "    <tr>\n",
       "      <th>2</th>\n",
       "      <td>100</td>\n",
       "      <td>82</td>\n",
       "      <td>30</td>\n",
       "    </tr>\n",
       "    <tr>\n",
       "      <th>3</th>\n",
       "      <td>100</td>\n",
       "      <td>86</td>\n",
       "      <td>39</td>\n",
       "    </tr>\n",
       "    <tr>\n",
       "      <th>4</th>\n",
       "      <td>100</td>\n",
       "      <td>92</td>\n",
       "      <td>48</td>\n",
       "    </tr>\n",
       "    <tr>\n",
       "      <th>5</th>\n",
       "      <td>100</td>\n",
       "      <td>99</td>\n",
       "      <td>51</td>\n",
       "    </tr>\n",
       "    <tr>\n",
       "      <th>6</th>\n",
       "      <td>100</td>\n",
       "      <td>95</td>\n",
       "      <td>50</td>\n",
       "    </tr>\n",
       "    <tr>\n",
       "      <th>7</th>\n",
       "      <td>100</td>\n",
       "      <td>98</td>\n",
       "      <td>49</td>\n",
       "    </tr>\n",
       "    <tr>\n",
       "      <th>8</th>\n",
       "      <td>100</td>\n",
       "      <td>96</td>\n",
       "      <td>43</td>\n",
       "    </tr>\n",
       "    <tr>\n",
       "      <th>9</th>\n",
       "      <td>100</td>\n",
       "      <td>95</td>\n",
       "      <td>47</td>\n",
       "    </tr>\n",
       "  </tbody>\n",
       "</table>\n",
       "</div>"
      ],
      "text/plain": [
       "   count  infers  correct_infers\n",
       "0    100      70              25\n",
       "1    100      70              26\n",
       "2    100      82              30\n",
       "3    100      86              39\n",
       "4    100      92              48\n",
       "5    100      99              51\n",
       "6    100      95              50\n",
       "7    100      98              49\n",
       "8    100      96              43\n",
       "9    100      95              47"
      ]
     },
     "execution_count": 154,
     "metadata": {},
     "output_type": "execute_result"
    }
   ],
   "source": [
    "df_train_progress_2 = df_train_progress.copy()\n",
    "df_train_progress_2['infer_ratio'] = df_train_progress_2['infers'] / df_train_progress_2['count']\n",
    "df_train_progress_2['accuracy'] = df_train_progress_2['correct_infers'] / df_train_progress_2['count']\n",
    "\n",
    "plt.figure(figsize=(12, 4))\n",
    "plt.subplot(1, 2, 1)\n",
    "plt.bar(list(df_train_progress_2.index), list(df_train_progress_2['infer_ratio']))\n",
    "plt.ylim(0, 1)\n",
    "plt.title('Infers, %')\n",
    "\n",
    "plt.subplot(1, 2, 2)\n",
    "plt.bar(list(df_train_progress_2.index), list(df_train_progress_2['accuracy']))\n",
    "plt.ylim(0, 1)\n",
    "plt.title('Accuracy, %')\n",
    "plt.grid()\n",
    "\n",
    "plt.show()\n",
    "df_train_progress"
   ]
  },
  {
   "cell_type": "code",
   "execution_count": 153,
   "id": "19ebc535-2ede-4433-ad0d-85a1fbf8b443",
   "metadata": {},
   "outputs": [
    {
     "data": {
      "text/html": [
       "<div>\n",
       "<style scoped>\n",
       "    .dataframe tbody tr th:only-of-type {\n",
       "        vertical-align: middle;\n",
       "    }\n",
       "\n",
       "    .dataframe tbody tr th {\n",
       "        vertical-align: top;\n",
       "    }\n",
       "\n",
       "    .dataframe thead th {\n",
       "        text-align: right;\n",
       "    }\n",
       "</style>\n",
       "<table border=\"1\" class=\"dataframe\">\n",
       "  <thead>\n",
       "    <tr style=\"text-align: right;\">\n",
       "      <th></th>\n",
       "      <th>count</th>\n",
       "      <th>infers</th>\n",
       "      <th>correct_infers</th>\n",
       "    </tr>\n",
       "  </thead>\n",
       "  <tbody>\n",
       "    <tr>\n",
       "      <th>0</th>\n",
       "      <td>100</td>\n",
       "      <td>70</td>\n",
       "      <td>25</td>\n",
       "    </tr>\n",
       "    <tr>\n",
       "      <th>1</th>\n",
       "      <td>100</td>\n",
       "      <td>70</td>\n",
       "      <td>26</td>\n",
       "    </tr>\n",
       "    <tr>\n",
       "      <th>2</th>\n",
       "      <td>100</td>\n",
       "      <td>82</td>\n",
       "      <td>30</td>\n",
       "    </tr>\n",
       "    <tr>\n",
       "      <th>3</th>\n",
       "      <td>100</td>\n",
       "      <td>86</td>\n",
       "      <td>39</td>\n",
       "    </tr>\n",
       "    <tr>\n",
       "      <th>4</th>\n",
       "      <td>100</td>\n",
       "      <td>92</td>\n",
       "      <td>48</td>\n",
       "    </tr>\n",
       "    <tr>\n",
       "      <th>5</th>\n",
       "      <td>100</td>\n",
       "      <td>99</td>\n",
       "      <td>51</td>\n",
       "    </tr>\n",
       "    <tr>\n",
       "      <th>6</th>\n",
       "      <td>100</td>\n",
       "      <td>95</td>\n",
       "      <td>50</td>\n",
       "    </tr>\n",
       "    <tr>\n",
       "      <th>7</th>\n",
       "      <td>100</td>\n",
       "      <td>98</td>\n",
       "      <td>49</td>\n",
       "    </tr>\n",
       "    <tr>\n",
       "      <th>8</th>\n",
       "      <td>100</td>\n",
       "      <td>96</td>\n",
       "      <td>43</td>\n",
       "    </tr>\n",
       "    <tr>\n",
       "      <th>9</th>\n",
       "      <td>100</td>\n",
       "      <td>95</td>\n",
       "      <td>47</td>\n",
       "    </tr>\n",
       "  </tbody>\n",
       "</table>\n",
       "</div>"
      ],
      "text/plain": [
       "   count  infers  correct_infers\n",
       "0    100      70              25\n",
       "1    100      70              26\n",
       "2    100      82              30\n",
       "3    100      86              39\n",
       "4    100      92              48\n",
       "5    100      99              51\n",
       "6    100      95              50\n",
       "7    100      98              49\n",
       "8    100      96              43\n",
       "9    100      95              47"
      ]
     },
     "execution_count": 153,
     "metadata": {},
     "output_type": "execute_result"
    }
   ],
   "source": []
  },
  {
   "cell_type": "code",
   "execution_count": 140,
   "id": "ce003507-f3c9-4249-92fa-a0ff04822f4b",
   "metadata": {},
   "outputs": [
    {
     "data": {
      "text/plain": [
       "[]"
      ]
     },
     "execution_count": 140,
     "metadata": {},
     "output_type": "execute_result"
    }
   ],
   "source": []
  },
  {
   "cell_type": "code",
   "execution_count": 141,
   "id": "98898aeb-14ea-4fcb-a0a6-49c87f9afe7a",
   "metadata": {},
   "outputs": [
    {
     "data": {
      "text/plain": [
       "array([-0.00816717,  0.00302482, -0.00960694, ...,  0.        ,\n",
       "        0.        ,  0.        ])"
      ]
     },
     "execution_count": 141,
     "metadata": {},
     "output_type": "execute_result"
    }
   ],
   "source": [
    "cos_sims"
   ]
  },
  {
   "cell_type": "code",
   "execution_count": 85,
   "id": "679843c0-07be-4d6d-9688-3182d86da446",
   "metadata": {},
   "outputs": [],
   "source": [
    "cos_sims = column.norm_hdvs.array @ column_norm_hdv\n",
    "#print(f'{(cos_sims != 0).sum()}')\n",
    "norm_hdv_indices = np.argwhere(cos_sims >= COS_SIM_THRESHOLD).reshape(-1)"
   ]
  },
  {
   "cell_type": "code",
   "execution_count": 84,
   "id": "3eec2415-e601-4189-abcc-17ff358eb2e3",
   "metadata": {},
   "outputs": [
    {
     "data": {
      "text/plain": [
       "array([ 1,  2,  5,  9, 11, 12, 13, 14, 16, 31, 34, 38, 39, 41, 43, 44, 45,\n",
       "       49, 51, 63, 70, 77, 78])"
      ]
     },
     "execution_count": 84,
     "metadata": {},
     "output_type": "execute_result"
    }
   ],
   "source": [
    "norm_hdv_indices"
   ]
  },
  {
   "cell_type": "code",
   "execution_count": 86,
   "id": "85528fa3-3fa1-4b2f-9b2e-d2d9b535de72",
   "metadata": {},
   "outputs": [
    {
     "data": {
      "text/plain": [
       "array([0.14, 1.92, 0.8 , 1.96, 2.24, 0.86, 8.1 , 1.02, 0.86, 2.2 , 1.84,\n",
       "       0.8 , 1.48, 2.16, 0.3 , 2.12, 3.18, 2.36, 2.48, 0.14, 2.32, 1.02,\n",
       "       3.94])"
      ]
     },
     "execution_count": 86,
     "metadata": {},
     "output_type": "execute_result"
    }
   ],
   "source": [
    "cos_sims[norm_hdv_indices]"
   ]
  },
  {
   "cell_type": "code",
   "execution_count": 106,
   "id": "93a810b0-ffa6-4666-884c-e069fee9bd4b",
   "metadata": {},
   "outputs": [
    {
     "data": {
      "text/plain": [
       "0"
      ]
     },
     "execution_count": 106,
     "metadata": {},
     "output_type": "execute_result"
    }
   ],
   "source": [
    "int(RNG.choice([True, False]))"
   ]
  },
  {
   "cell_type": "code",
   "execution_count": null,
   "id": "ef3fe8d7-6a83-48c3-b20a-74d638070108",
   "metadata": {},
   "outputs": [],
   "source": [
    "column_norm_hdv"
   ]
  },
  {
   "cell_type": "code",
   "execution_count": null,
   "id": "f7079bbe-ae79-4e15-95fa-c38b8a9310bb",
   "metadata": {},
   "outputs": [],
   "source": [
    "a1 = np.arange(10)\n",
    "a1[:] = 0\n",
    "a1"
   ]
  },
  {
   "cell_type": "code",
   "execution_count": null,
   "id": "d4d01725-e7df-4cdc-8bc5-17b7ef24397f",
   "metadata": {},
   "outputs": [],
   "source": [
    "# Consolidate memory\n",
    "for column in CORTICAL_COLUMNS:\n",
    "    for norm\n",
    "    if column.stage_norm_hdvs:\n",
    "        offset = column.conso_norm_hdvs.shape[0]\n",
    "        offsetted_mapping = map(lambda p: (p[0] + offset, p[1]), column.stage_norm_hdv_index_to_image_id.items())\n",
    "        column.conso_norm_hdvs = np.append(column.conso_norm_hdvs, column.stage_norm_hdvs, axis=0)\n",
    "        column.conso_norm_hdv_index_to_image_id.update(offsetted_mapping)\n",
    "\n",
    "    column.stage_norm_hdvs = []\n",
    "    column.stage_norm_hdv_index_to_image_index = dict()"
   ]
  },
  {
   "cell_type": "code",
   "execution_count": null,
   "id": "c4c287e6-91a6-49e3-9f97-ff54cc49d779",
   "metadata": {},
   "outputs": [],
   "source": [
    "НАДО КАК_ТО мерить успещность сортировки"
   ]
  },
  {
   "cell_type": "code",
   "execution_count": null,
   "id": "cc90176d-4e62-4d5c-b8bb-d6822f1b0b1b",
   "metadata": {},
   "outputs": [],
   "source": [
    "# Consolidate memory\n",
    "for column in CORTICAL_COLUMNS:\n",
    "    if column.stage_norm_hdvs:\n",
    "        offset = column.conso_norm_hdvs.shape[0]\n",
    "        offsetted_mapping = map(lambda p: (p[0] + offset, p[1]), column.stage_norm_hdv_index_to_image_id.items())\n",
    "        column.conso_norm_hdvs = np.append(column.conso_norm_hdvs, column.stage_norm_hdvs, axis=0)\n",
    "        column.conso_norm_hdv_index_to_image_id.update(offsetted_mapping)\n",
    "\n",
    "    column.stage_norm_hdvs = []\n",
    "    column.stage_norm_hdv_index_to_image_index = dict()"
   ]
  },
  {
   "cell_type": "code",
   "execution_count": null,
   "id": "a771e6a7-657a-42b5-be98-de85317e3bde",
   "metadata": {},
   "outputs": [],
   "source": [
    "column = CORTICAL_COLUMNS[0]\n",
    "cross_sim = column.conso_norm_hdvs @ column.conso_norm_hdvs.T\n",
    "cross_sim_tril = np.tril(cross_sim, -1)\n",
    "indices = np.argwhere(cross_sim_tril >= COS_SIM_THRESHOLD)\n",
    "df = pd.DataFrame(columns=['i', 'j', 'i_image_id', 'j_image_jd', 'sim'])\n",
    "\n",
    "for ij in indices:\n",
    "    i = ij[0]\n",
    "    j = ij[1]\n",
    "    sim = cross_sim_tril[i,j]\n",
    "    assert sim >= COS_SIM_THRESHOLD\n",
    "    i_image_id = column.conso_norm_hdv_index_to_image_id[i]\n",
    "    j_image_id = column.conso_norm_hdv_index_to_image_id[j]\n",
    "    df.loc[len(df)] = [i, j, i_image_id, j_image_id, sim]\n",
    "\n"
   ]
  },
  {
   "cell_type": "code",
   "execution_count": null,
   "id": "cff9877c-4839-405f-b092-ce7708b503a0",
   "metadata": {},
   "outputs": [],
   "source": [
    "df['sim_cat'] = pd.cut(df['sim'], 10)"
   ]
  },
  {
   "cell_type": "code",
   "execution_count": null,
   "id": "651f354c-e9dd-48b8-aa22-e098ca157b42",
   "metadata": {},
   "outputs": [],
   "source": [
    "df_pivot = pd.pivot_table(df, index=['sim_cat'], values=['sim'], aggfunc=['count'], observed=False)\n",
    "df_pivot"
   ]
  },
  {
   "cell_type": "code",
   "execution_count": null,
   "id": "d38115e1-a28e-4cd0-b4fa-01d269a62391",
   "metadata": {},
   "outputs": [],
   "source": [
    "plt.plot(list(map(str, df_pivot.index)), list(df_pivot[('count', 'sim')]))\n",
    "plt.grid()\n",
    "plt.show()"
   ]
  },
  {
   "cell_type": "code",
   "execution_count": null,
   "id": "57e01ef8-3333-4e77-8cdd-00c2c2075892",
   "metadata": {},
   "outputs": [],
   "source": []
  },
  {
   "cell_type": "code",
   "execution_count": null,
   "id": "a8efba43-2217-4ec5-ba08-e5695595a13c",
   "metadata": {},
   "outputs": [],
   "source": []
  },
  {
   "cell_type": "code",
   "execution_count": null,
   "id": "f0d9d1f2-e193-409a-90d3-49e0ccc2be2d",
   "metadata": {},
   "outputs": [],
   "source": [
    "def get_consensus_table(image_encoding):\n",
    "    table = defaultdict(list)\n",
    "    #image_encoding_for_columns = CORTICAL_COLUMNS_PMS @ image_encoding # Permutation is very expensive. On CPU slowdown is 13 times!\n",
    "    image_encoding_for_columns = map(lambda _: image_encoding, CORTICAL_COLUMNS)\n",
    "    \n",
    "    for column_index, (column, image_encoding_for_column) in enumerate(zip(CORTICAL_COLUMNS, image_encoding_for_columns)):\n",
    "        column_norm_hdv = []\n",
    "    \n",
    "        for stride_index in column.stride_indices:\n",
    "            stride = image_encoding_for_column[stride_index:stride_index + column.stride_width]\n",
    "\n",
    "            if np.all(stride == 0):\n",
    "                continue\n",
    "\n",
    "            stride_code = ''.join(map(str, stride.tolist()))\n",
    "            stride_hdv = column.stride_hdvs[stride_code]\n",
    "            stride_hdv = hdv.shift(stride_hdv, stride_index)\n",
    "            column_norm_hdv.append(stride_hdv)\n",
    "\n",
    "        if not column_norm_hdv:\n",
    "            continue\n",
    "            \n",
    "        column_norm_hdv = hdv.bundle_noties(column_norm_hdv)\n",
    "        column_norm_hdv = hdv.normalize(column_norm_hdv)\n",
    "    \n",
    "        cos_sims = column.conso_norm_hdvs @ column_norm_hdv # this will compute cos sim against all HDVs\n",
    "        candidate_hdv_indices = np.argwhere(cos_sims >= COS_SIM_THRESHOLD).reshape(-1)\n",
    "\n",
    "        for candidate_hdv_index in candidate_hdv_indices:\n",
    "            cos_sim = cos_sims[candidate_hdv_index]\n",
    "            candidate_image_id = column.conso_norm_hdv_index_to_image_id[candidate_hdv_index]\n",
    "            table['column_index'].append(column_index)\n",
    "            table['image_id'].append(candidate_image_id)\n",
    "            table['sim'].append(cos_sim)\n",
    "\n",
    "    return table"
   ]
  },
  {
   "cell_type": "code",
   "execution_count": null,
   "id": "754434ae-ba6c-4aff-9d73-f983fa2c9bcc",
   "metadata": {},
   "outputs": [],
   "source": [
    "%%time\n",
    "count = 100\n",
    "images_row = []\n",
    "image_protos_rows = [[], [], []]\n",
    "images_captions = []\n",
    "image_protos_captions = [[], [], []]\n",
    "inference_table = []\n",
    "\n",
    "def get_image_safe(df, image_id):\n",
    "    if image_id < 0:\n",
    "        return Image.new('L', size=(1,1), color=255)\n",
    "\n",
    "    image_data = df.loc[image_id]['png']\n",
    "    return Image.open(io.BytesIO(image_data))\n",
    "\n",
    "test_image_ids = RNG.choice(df_test_images.index.unique(), count, replace=False)\n",
    "    \n",
    "for image_id in tqdm(test_image_ids):\n",
    "    images_row.append(image_id)\n",
    "    true_value = df_test_images.loc[image_id]['value']\n",
    "    images_captions.append(f'#{image_id}, val={true_value}')\n",
    "    \n",
    "    inference_record = [image_id, int(true_value)]\n",
    "    df_encodings = pd.read_sql(f'SELECT * FROM image_encodings WHERE image_id=:image_id', params={'image_id': int(image_id)}, con=test_db_con)\n",
    "    \n",
    "    for _, df_encoding_row in df_encodings.iterrows():\n",
    "        image_variant_encoding = np.frombuffer(df_encoding_row['data'], dtype='b')\n",
    "        consensus_table = get_consensus_table(image_variant_encoding)\n",
    "\n",
    "        if len(consensus_table) == 0:\n",
    "            continue\n",
    "\n",
    "        consensus_table = pd.DataFrame(consensus_table, columns=['column_index', 'image_id', 'sim'])\n",
    "        assert len(consensus_table) > 0\n",
    "        image_protos = pd.pivot_table(consensus_table, \n",
    "                                      index=['image_id'], \n",
    "                                      values=['sim', 'column_index'], \n",
    "                                      aggfunc={'sim': 'sum', 'column_index': 'nunique'},\n",
    "                                      sort=False)\n",
    "        image_protos = image_protos[(image_protos[('column_index')] >= len(CORTICAL_COLUMNS) * 0.75)]\n",
    "        image_protos.sort_values(by=['column_index', 'sim'], ascending=[False, False], inplace=True)\n",
    "\n",
    "        if len(image_protos) > 0:\n",
    "            break\n",
    "    else:\n",
    "        image_protos = pd.DataFrame(columns=['dummy'])\n",
    "\n",
    "    for row, captions, image_proto in itertools.zip_longest(image_protos_rows, image_protos_captions, image_protos.iterrows()):\n",
    "        if row is None:\n",
    "            break\n",
    "            \n",
    "        image_proto_id, votes, cos_sim = (-1, 0, 0) if image_proto is None else (int(image_proto[0]), int(image_proto[1]['column_index']), image_proto[1]['sim'])\n",
    "        row.append(image_proto_id)\n",
    "        inferred_value = int(df_train_images.loc[image_proto_id]['value']) if image_proto_id >= 0 else -1\n",
    "        captions.append(f'#{image_proto_id}, votes={votes}, sim={cos_sim:.2f}, val={inferred_value}')\n",
    "\n",
    "        if len(inference_record) < 3:\n",
    "            inference_record.append(inferred_value)\n",
    "\n",
    "    inference_table.append(inference_record)\n",
    "\n",
    "test_images = list(map(lambda image_id: get_image_safe(df_test_images, image_id), images_row))\n",
    "train_images = list(map(lambda image_id: get_image_safe(df_train_images, image_id), itertools.chain.from_iterable(image_protos_rows)))\n",
    "df = pd.DataFrame(inference_table, columns=['test_image_id', 'true value', 'infer. value'])\n",
    "df['is_match'] = df['true value'] == df['infer. value']\n",
    "print(f'ACCURACY = {df['is_match'].sum() / len(df) * 100:.2f}% (matched {df['is_match'].sum()} of {len(df)})')\n",
    "df.head()"
   ]
  },
  {
   "cell_type": "code",
   "execution_count": null,
   "id": "d8132bec-bf08-4ede-8b20-631070f5e026",
   "metadata": {},
   "outputs": [],
   "source": [
    "display_images_grid(test_images+train_images,\n",
    "                    col_count=count, \n",
    "                    captions=images_captions + list(itertools.chain.from_iterable(image_protos_captions)))"
   ]
  },
  {
   "cell_type": "code",
   "execution_count": null,
   "id": "41e220f1-71a7-4081-b4f3-47e50d849634",
   "metadata": {},
   "outputs": [],
   "source": []
  }
 ],
 "metadata": {
  "kernelspec": {
   "display_name": "Python 3 (ipykernel)",
   "language": "python",
   "name": "python3"
  },
  "language_info": {
   "codemirror_mode": {
    "name": "ipython",
    "version": 3
   },
   "file_extension": ".py",
   "mimetype": "text/x-python",
   "name": "python",
   "nbconvert_exporter": "python",
   "pygments_lexer": "ipython3",
   "version": "3.12.2"
  }
 },
 "nbformat": 4,
 "nbformat_minor": 5
}
