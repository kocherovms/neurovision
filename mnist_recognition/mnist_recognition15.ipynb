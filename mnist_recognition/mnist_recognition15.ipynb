{
 "cells": [
  {
   "cell_type": "code",
   "execution_count": 1,
   "id": "27532844-1826-4299-b063-16a22e592f3f",
   "metadata": {},
   "outputs": [],
   "source": [
    "import os, math\n",
    "from collections import defaultdict, namedtuple\n",
    "import itertools\n",
    "import sqlite3\n",
    "\n",
    "import logging\n",
    "import logging.handlers\n",
    "\n",
    "from PIL import Image, ImageDraw\n",
    "from tqdm.notebook import tqdm\n",
    "\n",
    "from sklearn.model_selection import train_test_split\n",
    "import matplotlib.pyplot as plt\n",
    "import scipy\n",
    "import numpy as np\n",
    "import cupy as cp\n",
    "import pandas as pd\n",
    "\n",
    "from utils import *\n",
    "from hdc import *"
   ]
  },
  {
   "cell_type": "code",
   "execution_count": 2,
   "id": "73358262-adf2-4d17-a383-f120a5d1f8aa",
   "metadata": {},
   "outputs": [
    {
     "name": "stdout",
     "output_type": "stream",
     "text": [
      "xp = numpy\n"
     ]
    }
   ],
   "source": [
    "config_var = 'SQLITE3_MULTI_GRID_RETINA'\n",
    "config = Config(config_var)\n",
    "RNG = np.random.default_rng()\n",
    "\n",
    "if cp.cuda.is_available():\n",
    "    device_marker = cp.empty(1)\n",
    "    xp_array_from_gpu = lambda a: a.get() if isinstance(a, cp.ndarray) else a\n",
    "    xp_array_to_gpu = lambda a: cp.asarray(a) if isinstance(a, np.ndarray) else a\n",
    "else:\n",
    "    device_marker = np.empty(1)\n",
    "    xp_array_from_gpu = lambda a: a\n",
    "    xp_array_to_gpu = lambda a: a\n",
    "    \n",
    "xp = cp.get_array_module(device_marker)\n",
    "print(f'xp = {xp.__name__}')\n",
    "\n",
    "log = logging.getLogger('kmslog')\n",
    "log.setLevel(logging.DEBUG)\n",
    "\n",
    "if not log.hasHandlers():\n",
    "    log.addHandler(logging.handlers.SysLogHandler(address = '/dev/log', facility=logging.handlers.SysLogHandler.LOG_LOCAL0))\n",
    "\n",
    "train_db_con = sqlite3.connect(os.path.join(config.dataset_path, config.train_db_file_name))\n",
    "test_db_con = sqlite3.connect(os.path.join(config.dataset_path, config.test_db_file_name))"
   ]
  },
  {
   "cell_type": "code",
   "execution_count": 3,
   "id": "d2dd62ab-b44e-4251-9e86-d41b3672e36e",
   "metadata": {},
   "outputs": [
    {
     "name": "stdout",
     "output_type": "stream",
     "text": [
      "CPU times: user 4 μs, sys: 0 ns, total: 4 μs\n",
      "Wall time: 9.54 μs\n"
     ]
    },
    {
     "data": {
      "text/plain": [
       "((10000, 3), (2000, 3))"
      ]
     },
     "execution_count": 3,
     "metadata": {},
     "output_type": "execute_result"
    }
   ],
   "source": [
    "%time\n",
    "df_train_images = pd.read_sql_query('SELECT * FROM images', con=train_db_con, index_col='image_id')\n",
    "df_test_images = pd.read_sql_query('SELECT * FROM images', con=test_db_con, index_col='image_id')\n",
    "df_train_images.shape, df_test_images.shape"
   ]
  },
  {
   "cell_type": "code",
   "execution_count": 4,
   "id": "70b21219-4f16-4824-90ec-7bda1574c5d1",
   "metadata": {},
   "outputs": [
    {
     "data": {
      "text/html": [
       "<div style=\"\n",
       "        display: grid; \n",
       "        grid-template-columns: repeat(8, 128px);\n",
       "        column-gap: 1px;\n",
       "        row-gap: 1px;\">\n",
       "        \n",
       "            <figure style=\"margin: 5px !important;\">\n",
       "              <img src=\"data:image/png;base64,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\" style=\"height: auto\">\n",
       "              <figcaption style=\"font-size: 0.6em\">0</figcaption>\n",
       "            </figure>\n",
       "        \n",
       "            <figure style=\"margin: 5px !important;\">\n",
       "              <img src=\"data:image/png;base64,iVBORw0KGgoAAAANSUhEUgAAAIAAAACACAAAAADmVT4XAAAE5UlEQVR4nO2a23LjNgyGAVIkdfAx2WS7m2zb6UXf/4k605l2k+ZgS9ZZIoleePsCQMa+qP57k58BEABBASxatGjRokWL/u9C2c9VkmiEGCLFSMRZIZEB2O1+bUPfdeM0zeEKAO7u16/FVL4dTk0brwFgP/32+258+ev7exKn6QoAZn3/8924SrShsWWtIARAbbNVgaRsaI/XAKAwz+RuTV748ukqAFPXdG6z3ubN3+4aAGGoq9Pqptjb5425BkCc2lM9qgzmbcZbSskAQle+vhw7AGcTXlIVAxyen/4pRyBEHoA0Bvrq1d2UnfMxskqB1AJxHrq268cYmPtLAVAb52wiWEUIoLPdp/vbtcF4JRckq7uHb1/2DuhKLtDF7deHn3YOidmPSAGUW213m0wDMfeXAoBKrLMGAJj7SwEIABUzBX0IwBniigAKkZuDf0iSihHRWGe5ZUgMgKhtnmd5ZhH4p4APgApNVhRFnlkAIC6BIAZQJWme53kqsoAkCFEZa60xWrCG8BSg+BBIACjGEGIIrBvZhwBQDMH7MwBys5HIBUQxssvgBwAgotJKIYBgziBppnRijTHGIABorS7dliNqY1OXOgsAwN1fZIHEWOectfwlZACoEmOstQkAwDh7XixK5wNKaSA/z2U98vKBAIAoxkiIQGNdP783/tIAEGOMgAricHz567WeWYvI8gCAUkihP3z//sq0gOgU2PO1LPTV62vZXRoAk3S13RRO09RW74eqvziALXY3+3WmaWqr47EZeKdAAGCK/e3NJtM0dVV5asZ4cYBss9uuUk1z39R1N13aAqBdtioyo8APXdP086UtAMqkWWYNUpiGrh/ni3fF52OoEcI8jsMULl0LUCXnaxFFP08z77VABKCNS1OjESj4efZ08TkhJjZ1VgEQRfa9RBYDzqVWPOEQ7G/d2QLnC8rFAdIsy7LUKCAC4AMwR9xa25ub3Tp3GvjjIQGAyYv1l4fP+5XTcCZgQzAB1vd3D798uV07BQB0JrhkIjLr+2+P3z7vCosAIQT2nJQbhDrd3N7d7lYuAaBxnDwfgGcBTIxLnTMJxNnXTTcwSyEbAAgQEAFg7tvD8dQNzFLEBwjeh0gRfVe+H6qWeSthA5xHE5GI5r48HOtuYruAnQnP1Sf6sa3bfmZ7QHwxCdMwjLNnG0A2okGkOE/TxO0FhAAIABTmcRQ4QOyCOI99N3DbMQEAUYwECHFqT1XdM4cTfACKwQcChDjWx0PZMltyPgD8mE1gHOrDe9lMFwdAdZ4QhrGtyiu4QJm0yF2iIPpx6K8QhElx8/lu6xRSCCGwH64B2A3J5v7xcZcpiESA7EE1H8Bu7h+/pk4jESqlJMmEB6Dz/d0nRAQiUEr0cslsy5M0P/fDopYcgBuEqNR/5FICZib8gL8uAwieNxf9MAA/9sKnGhlAGNvqNATJpVQI0Ffvh9bTBwDwjqHvypcMnZV+vQBcC/iufHurRwJZFuQDhKE+lu1MyH4skwNUZec1ZM7oa3xDEsamqlqPkKZGK1E15FqgqapT6wHE5YAHEKemOry9vc3HUzcFUUriHcMwNAezLsK+/eOp6rljYgnA2GCg/mk1PP/5Uo9eQMALH50Yl663K+ubY9VNPvCdwANARKV0opGC9zFyJ2SLFi1atGjRokUAAP8CHT17AvtQoYgAAAAASUVORK5CYII=\" style=\"height: auto\">\n",
       "              <figcaption style=\"font-size: 0.6em\">1</figcaption>\n",
       "            </figure>\n",
       "        \n",
       "            <figure style=\"margin: 5px !important;\">\n",
       "              <img src=\"data:image/png;base64,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\" style=\"height: auto\">\n",
       "              <figcaption style=\"font-size: 0.6em\">3</figcaption>\n",
       "            </figure>\n",
       "        \n",
       "            <figure style=\"margin: 5px !important;\">\n",
       "              <img src=\"data:image/png;base64,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\" style=\"height: auto\">\n",
       "              <figcaption style=\"font-size: 0.6em\">9</figcaption>\n",
       "            </figure>\n",
       "        \n",
       "            <figure style=\"margin: 5px !important;\">\n",
       "              <img src=\"data:image/png;base64,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\" style=\"height: auto\">\n",
       "              <figcaption style=\"font-size: 0.6em\">8</figcaption>\n",
       "            </figure>\n",
       "        \n",
       "            <figure style=\"margin: 5px !important;\">\n",
       "              <img src=\"data:image/png;base64,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\" style=\"height: auto\">\n",
       "              <figcaption style=\"font-size: 0.6em\">6</figcaption>\n",
       "            </figure>\n",
       "        \n",
       "            <figure style=\"margin: 5px !important;\">\n",
       "              <img src=\"data:image/png;base64,iVBORw0KGgoAAAANSUhEUgAAAIAAAACACAAAAADmVT4XAAAL40lEQVR4nO2aWXfjuLGACyDAnaL23bI905ncc/L//8vNSdLTtrWLEjeRIkESyIMktzvdprXlvlzXk02BwMeqQqFQAMCnfMqnfMqnfMqnfMqnfMqnfMqnfMr/d0HnNJYoJUTCWOQsYUVpU4wRxhgJwTkXQoh3G5JzAIhlW7quUB45K+cDAEJlhWKRZywrioK/S3AWgFIddGpVSynWX0WQlrOqqmFohKdxnDAm+PsNzwHQG8OHTqumZRPu0NKWmm4YFdukeexLCHiBrtcAAqTZrf6o16mrKUx0CQAhdPwNEHz3J0QVwzRNu2rRzEd5lrMSTzsZgFDFanf7/U7TJpGMRQFANIpBAJIIkSSMMUIg9gCqaVqGVTFIrOZxnOBbAFCz0ugPBr2GpXGepUkKINsWAS4kWVVVmVKCEYA4Api6qiuSL0Ubgl9VdQUAUuxW927YbVVkKUuThHEAvdlQIBdEMy1TUxVKMIg9gGKYhkIJQWu21mjJ8KcDyEatOxx0W1UdQZHlQLSd2eh0Vcg5NWy7YuiqQo8mILJuaDICBGRtKkQqIzgJAGGsV1v9Ya9lGxhAolq169tm/76jQs6pXqlahqbK9KgBQjUNAwCAZWgKla72AUQUu9kf3fdqOgYAotbudpVIa3XrMhRC0gxTV1WZkqMPYKIchpQkQsj1AFix6t27h/tGRQYAkPQmNx8ZtWxDAiEwVRSZ0v04AgAAv47IARFCpCsBkGrU273h3dCUKQCApNb1DiswlQkCAQhjSUIYv7E0Eoe/C4GpXGqDjwEQ1iv1Tq/XbTcUAAFIYFmxfmomfvoXAYDAsqqpFL/f/QcASKJUsZut3nDQrCjHh79s+UsgrOgVOwzo5RqghlVp9fqDbr+hfdD0VyKplXoU+e7FAFi1m63B6G7QtPcO+JOu3xFxfL9Si3xDfr/hBwDUqHX794+jflWWJHEINOInhYv/ePAKiamqG5pSMg1KABBCyKi2esNBv9tW4Ydv3//52i0CACFgn/lg9AZHcM75++lIGQDCEpVr7eH9qN+y1R/Gg185IoKiyAsO+O285+nWc4M4uyglk2TNaPZHj3eNqgoAP2jglyotWJrmQFUVoUOGAEXsLmbLIL0EABHFqLf7d/cDUylPfw7Ckl20Y0jlWJKOz/JoM5+t/AsBVKve6nQ7LWUf2d52sl/13jzgLNnt4jBikolkmRx/ypNg47gRuwxAt+uNum2px7F+0LvgRZYXAgBxnmcFY+kuiYOYyU2kqvJrI7aLojgtLgKQzVqraX+fwz/aHYl0GyU5QihPoihOWMZYFO4y406yLH60Ac9ZmqTZ+0lxOUC91aio78XxPFq7AUMSYsF648WsKIp4y/JaXulkrxGjyDOWZfllANSsNeqWjAB+jjRQsK27XLgJIijZzOdOzIQQaVzwtnW/y48azxhjWZbzi3ZGWDbses06akAIECCEEAJ4nhcsCZ3pfA+wns1XUQ4AmQAw0oyjwxsi2sZxwoqyTVQJgGLWmg1bVwD29udFnuUszzKWpizZbd3l2k+RhJjnrH12eItqmioTDAAiZ8xzvTBO87Ll430ASTFrjbr93Qd4lsS7aBfFcRRHURxHQRjngFEehVF2aGNZnWbVUDAAKlgUOqtNEKdlkbgMQNasiqW/2j5Pd9sg8ELf94MgDKMkYyzjCAHP2OH7sdVs3vUae7MJtl0vlusgZiUuWGoCicryaybB0yQOQ9fdeBvX9Xw/iDIhjrHp6GNmvdO/69V1igGAs+1mtdqESakFytYCwfMsEZwDIARpFPp+4Hqe73qeH4ThT71iLFnN3mjYqqj7KJDH/noT7EoWonIAkSdbD9M8B4wlHnur1cYPw+023G6jOP6pVyTJWr338Fu/Xd2nbijfeZtNsCuvI5QAcLZ1V0zKMiFRUoSL8WQVxGmaJmnKflEekahut+5+/0vHPKROKI/9jRumpR5QCpCGjh5ilnEq08KbfH1ahqwQOecF/7lTTDWr0R3ePzQJJQIBAM+iwPXL1qGPAJLAITpiGacKLbzxy/PyZ8V/70e16u1Ot9OuAIAAEMB2W98rzUU+ACh27owpkGWCyIQHi6UblfVjNPrDQbuq7/8VvEii0Pe2SdlC9AFAvC48AjnnEpHEznOTsn6o1bm/H7UMDACABC/SKAw8f5sWVwCISMYgOCCMIEt2eUk3WK327h97jX3uBqJgceB7QRjnpWGwFICnLDwUXRCAEL/wvO+iWY3ucNiqyIdVOI09Z+MFUSo+2keUxAEBH0zho0hEsZvtdqtpa4dcLIvc5XS+2X40B0sBThakGNXmcNCpWRrdb4MR8ybPz9+W0QlfcAsAtd7r3921bZ0ct+jp+unvT5OyaXtjgMHDcNAw5WMxqIic5388OWHyfwSg2O3BoF3VKQCAQAIi35mOp69Jyn8bgEt6rdWqHdJnkbHUnS8cNyiNGzcFQEqlXrcOizCkvrd8mbvRSd9/EwCQNKtaNQ51GBFvpuOnuX/CDLwVANVNq2IqCAQCgCxyxt9elmH24XvXAyCEsCRJ1U7DNjQE+7R95zvTyaJ0O3gzAMBUMy2z8cddTduX63mehZvFdOz4HyVCNwFARKt1eu3O6LF+mAEFi1xnPplso/JU+DYASNYqrdGX+36rae+74Wznb1bzxYLlZUvnjQCwYlQavdFvX3q2Tshh/GCzWjlrr2QveCsAhOVKo90d3A+6TYMCABc833rrxcLxtqeq/xoAgdXG/eOo3evtQ7DgRZb4zmw6WQYnhqDrALBsdX7/2+/Viq1LAAC8yJLQXUxepqvtqRPgCgAsyVa99/jXPwxC9jmIKFgcbBaT8Xwdn2OBSwAQIrJq1PuDwaD/unUVBdtt/c1quT49BFwIgBBRK7VWr/97v/rmhICzOPTdzcaLPzhVvhoAJNlojB4fep2O/gaLs3gb+J63LS1J3QJAorrd+e1vf3R0800RXGS7KPD9cBv/auN2SwBJMWqt3v2XP5oIo+816yzZ+p4XhHF6Yj3/UgAsm/VufzToNim8Fu45L7b+xlmt/bikKHsbAEmrDx9G98Pqvny890KeJp6zmM6WfnKW+i8AQNRoPfzPY79tvn2a7QJnMZ1Ml375pYLrATDR7Pboy5emrojvU5DtgvVyPpvON9uzovC5AAgoVaqNdq/fq+73jAJAgMhD31nO5kvHDZOzQsCZAAhLmmG1+t1mzfx+Y6HIWLJxFvPpZOlFHxTErgQALJv1dm/Yr2tvXsqjMFjOptPF0tkmBT/vVs5ZABjLmt0Zjvr96lv7p4HjTF/G07UXRDk/9VDvAgBMqG43unejXruyn4ECAUASbubz8dN47kUsO98BzgCQFKPa6PV73VbVOJRPRcELz5mNZ5PZch2mFw1/hgaMZrczHA3adUvdZwCoSHe71fjb02y1cqNLxz8ZgFidh+Gg12lYyvEsPI+9zezbv57mYbg9OQu/GECxu/cPvVa1okoY750wDZ3Zy9evT8ssu8z8ZwAgalTbg2G7ZmoE9q4uWLiej1/Gk/n64sFPBEASIXqj1W41a5ZKAAAQFFkWLafPT9OFG141/kkaILphdzvtZs2Qj8dxRRy6L39+fVo5J2+DLwdAslFv97rNqvX9GD4NnMXT138+B/EpdaBrAahRb3db9Yr+ehclDTfzyfPT8yQp+PsX5W4FAESrNBo1a78ECM4L7i6n4/F04XhXjX0qACK6Xa9X9MMRehpHsTObTGbTTVn5/IYAQLRK1TaVffzhu/VqvZhOZo7rnZ9+XASAJMWwzGMZmIXLp9l0Mlt57IL04yIAwERWFCqBQACp78xenqez5Tq6YO29EAAAAGFCEE8Sf/Xy/DJertztDQY/FUAUeZ4jSoGHi+l8/DJeuOFpZdAbAfAsiZMMALLNt39MpgvHi29i/lMBRJ5GYRAlJg6Xf/7veOkGu/y8/d+VAJDvgrVmqBlajJ+fp+vwvALA9QCCBUvYbR0brb/+OV8Hu5t9/akAqQeRM61qKFzO1lckP7+UE/J4RBRFlhWFQBZHESu7kfLfAQCEAO3vJnMhPjyH+5Qz5d9sw/Mc/pzojAAAAABJRU5ErkJggg==\" style=\"height: auto\">\n",
       "              <figcaption style=\"font-size: 0.6em\">7</figcaption>\n",
       "            </figure>\n",
       "        \n",
       "            <figure style=\"margin: 5px !important;\">\n",
       "              <img src=\"data:image/png;base64,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\" style=\"height: auto\">\n",
       "              <figcaption style=\"font-size: 0.6em\">9</figcaption>\n",
       "            </figure>\n",
       "        \n",
       "            <figure style=\"margin: 5px !important;\">\n",
       "              <img src=\"data:image/png;base64,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\" style=\"height: auto\">\n",
       "              <figcaption style=\"font-size: 0.6em\">7</figcaption>\n",
       "            </figure>\n",
       "        \n",
       "            <figure style=\"margin: 5px !important;\">\n",
       "              <img src=\"data:image/png;base64,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\" style=\"height: auto\">\n",
       "              <figcaption style=\"font-size: 0.6em\">4</figcaption>\n",
       "            </figure>\n",
       "        \n",
       "            <figure style=\"margin: 5px !important;\">\n",
       "              <img src=\"data:image/png;base64,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\" style=\"height: auto\">\n",
       "              <figcaption style=\"font-size: 0.6em\">3</figcaption>\n",
       "            </figure>\n",
       "        \n",
       "            <figure style=\"margin: 5px !important;\">\n",
       "              <img src=\"data:image/png;base64,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\" style=\"height: auto\">\n",
       "              <figcaption style=\"font-size: 0.6em\">0</figcaption>\n",
       "            </figure>\n",
       "        \n",
       "            <figure style=\"margin: 5px !important;\">\n",
       "              <img src=\"data:image/png;base64,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\" style=\"height: auto\">\n",
       "              <figcaption style=\"font-size: 0.6em\">1</figcaption>\n",
       "            </figure>\n",
       "        \n",
       "            <figure style=\"margin: 5px !important;\">\n",
       "              <img src=\"data:image/png;base64,iVBORw0KGgoAAAANSUhEUgAAAIAAAACACAAAAADmVT4XAAAMRklEQVR4nO2aWXfbOJOGCwD3ndS+Oc7Xc77//29mzkyn400LRYkU9xXAXNjJ6bhlS1aczFz4vbOF5SFQAKoKAPjQhz70oQ996EMf+tCHPvSh/2Oh92oHE4zRD80xRhnnwF+vKLwTANYtUxMFjBHA42exIs3yuqP0dYJ3A7Dn076hCIQ89Y+6YL0MkrLh9LcAKL3rfy88XRIJAAJAgOrb/0YdpbR7veI7Acje+NO//9UzFVGAJ8Mq5SIIUgGfsLKfBMBEEARBEMzJ56v5pGf87SfJUATE+Qkb/GkAVTd03TCcwdUfE+/v/QNtm7puOvZrV4Go9we93qDXs3uDgf7DT4c4yYqy6X4pgGB449lkOpv0NVlR8Ld/c8raPNju47xqTqzCCwEQIIQxlrXeaLaYzRazHgKADgA4o7SrO9pkgR+mZdOxU99wEQCWFFlWFN3whuPxaDzqAwCUZUspbdumrpq2zsN7P6m7X2SEWHNcy7Ed27Vdx/UcAID8kJR121RlURRVUxfp3o+qUxNwKYBsjSaD0WDgmZoiq7oCANV+G2ZlXeZZmuRFXVdVmeX1qTVwIYBk9iZX09lk5OkCAiwAQLv310GSV0WaxHFWVFXbMcZO9/92AEREyRxM54vpdDS0EQAAa9su2TwsgzSviiyNk7ysTtneTwColtMbL67m476nIwAAWqZpFq6X611R1VVZ5HlZn9/emwGwMZpNp7PpyDM1DABAi0Ow3QXr9TZq2q5tmqY+cf78HIBiT/74NB0PXEPEXcM5r7Ngeb/yN8E+pZwxxugZM38hAAKQ7MH06noycAyJt1XVdbRK/PvbB38bxsUbv+WtABiLkmwMF4vZZOiaBHiVJkVZ5XGwXq530T/7RxhhhIDz18bkLSMgGpbTG19fz0euiQHqdLc7HOIoicN9mGT/NDxECCEYeNe8sibeACCq9mg6mSwWI1fHAF2636x9PwiSuijKuvnnRwqyKIgEWIPYy2Z5NgCWNWsw+3Q1Ho88XQCo052/elg9rP2UsaN7jqhpiiQKiFYiKl4kOAcAIYwFVbO8yeJqMejZCqZdmUb+w3K1Wq23R8YXIYwEw7Y0RSaIFrGaVk3Hjnqn5wBgUZI1x+33xtPpyDEVVJdpuNttN5ttEKbH5peLkqx5g76tSQLQPAwPSZoX9bGi5wAQRbec8WQ6HHiuo0q4qUJ/udzuwuiQpM2xGkg0TGcyn/ZNCaMu2+12u23AjhY9B0BQ7cHw0/XVyNUVGbO2iDdf/7rxoyyvmuMGLutOb3j1+dPYFhHQZOdvTNLm+NgcnAGAJcMbzq4+Xw8tEVBbFtFuefvlq5+WLT3qbxDFdAfDydX19cQWAbpEV0TI9uJRB/0MAKJY/clsOuq7BAC6fO+v7+5XflD80DkSBEEQBYEghBXDGwzGi8mgRwBAcrumiHUZH239HADVHc/nY08nANCku/u7h4e7TZT/WArJmqYbhiYjhCTD6Xn94dAmTw1ouqYIFwNIhjdZzIamBAB1Gq1v/rzdBOGz/kHQHNcb9ByNAIiq5ViWaanf4AgRCDoeJ58GkHS7P5qMXB1z1mSH7er2r7tdWj4zKKQ7w8FoNukbAnAi64YuS9++uambjlJ23D89AYCJpPf6g0HPNUVM6zwK/M3GD+KaEY7g0T8HhBA2vOFoNJpP+6YADIuqKiMASgEB77I4jtOiOR4lvw6AJM30Jotxz9IkBG22Wy9XN6t91oAsEsQBYfJoepLh9vv9wWjgagIwEGQRAOq6ppyxOg33m3WQHjktTgPIzmgyv555uoSA1vHqr6+r1TppkaJpImYAgqyoiqpoimm5tm3Zli5jxAATAFoVedF2tC2jnb8NNlF9AQBW3NnnxXzsKBigqxL/9s/NPm6JYtimjBgHSddN3TQt3dBNTZVlSSAYYQ6M0iZPkrRq2jrb+5sgitPqEgDZGl19Gg1MCQOwrsoOUVxyWVMd11EQZUg2TNuybccwFFUUCQAAQsA47ZoiiaJDUTVVuvPX+7RqjwcpJwAkwxuNeqYiIABARFKNWmKCqDme/Qigm5Zp2bahSn9riVDo6iLZB/usbKosDHZR+VKU/CoAEmTDHQxMVUQAHAlab45GDYiSatqmhBhDoqrpum4YGvmxIuvqPNqutnHZNEUSp1X7Uh8vAyAOiEi67bqSiAEYR5I1If2qw4Ioa6omIM4QkSRZVpTn2yzvmiIN/eXqULRtU5XPd42zR4AIsmboGCHOOUeSRcyKciQQURIljIAhhAkhRPh2zHB4TBB1dZFEO3+1jMqWdozSl53CE8sQE0ESv/0hKILOADAhhJDvY86BcwbwPeeJgPMqiwJ/uw2C+MW5Pw+Af8t0IgQAXOAcEHo23Khr244iQZTIUx3WZruHu/XKj7KXfcGzADjruqbuvpVBRw/0tiyKssOaiQgCAAasKw/rL19W4T6uTgdpLwNwAE7bqsgyk7xYCKDO8jhOW9EB+fHwY7TJo+WX/1yXZfmi7Z8DAACcNkUc2qAKLyLkcZJGYdwqrWYDgkfoNPLvb9ac8TOC9NdtgDVpsCSlqUgiAOeAHrNQjAEHjgF4nSdpcghjqgv9p+GmTZklcRSdGaK/DkDL/R1Jhp6ly4gzjhDiXV0UdUc55xiAN1We50mScleZPI03q4sszaujLvCbAVi5hWw9GvUdFTPKEUGsTsJDWnWUcwTAaVvXdZmXeOym3aONdlWWZOXZKYJTAPtyb4+mk75GKGVYQLTYb7Zh0XaMIwDOGaO0bVuZxE+7HW+L+JBU7DXDPR+At20eR3ndFN8B8mC13ufPM7D0e1K4LeJdEGXnzsApl4wDLVssoEohlDEsACtCfxc9H2DZMHWZAAB0VRqsHjaH6vVrirMBAAC6IuKZhBnjGCNWp1H+vH/T7c+HtgQA0JXR+uvXcJ+/IwA0aZsQxDkABt41/9hejOFkej1zJACgdbpbfv2Sv3b+vR2AFhUG9HgmcM7Zs+1F9cafrhYTR+YI6jQK1g8PLXte6KcAXmkMISxZvdF0NunpAmd1FPh+EGZndn4uwCvCkqL3JrPFYugZMtTh6v72fvc8aPqVAES1vdHVp8XcNTWBFdubP+/uwrOX4HsAaN5kuljMx4YsAc38m/+53xzOtb/3ABBVZziejAeejADKOFg9LKPidwIQ1fIGfddSAJrmEEaHJCteywq+OwCWTa/nmQpAm6fbIMqb7pxLgvcDEFTL82xdBCgPu7V/KBnC+E0Ax9MW50rSTNtxTAVDk4frpR9VFJ26q32my0cAYSw6g0HPtTQJsSrdr5d+mDXH81a/AACJmm4N5tdTz1AIb/JwfXsXRslLmbNfACA7o+lsej33dBHTOt0tb27yvKzqk7fF7wRAFPfqP64n476tCryr0t3q9rZtu+6lXND7AiCORc2dfP5j7OkyQbStssPO94HDyTcj7wRAiKJZbn/YN2UMjHdNXeRn+yDvAIAFSdMN0zQ0GT9dWL8WAb/a1GW1RNUwDV2RRfwYQXaUo3P94HcBkA3HsXRZIByAdU1VVi3/nQCCavX6nqmKBAHwNo/DKD16HXFGUxfVwlp/Op94uogAgLTx+uHOT84Ihd8NABmjq6t57zE1hdrw9s+7ZfiGC+OfBhCs0afrof2UGyuDm/962Oe/E0C1h9Op+5g9BJoGDzfL/GxH/GcBCCbE9TzXMQXgnHZdsQt2+8NFvV8CgERV0yZD11BFANQVWRbf+4eL7q0vBJCtnns1shUBAIBm22D7dZNetgIuAiCKPZzMB5aEAQDadHv7cLPNL5t/gAs2IqKY3nDg6iIGAKiS4OF2Fb7NE/9Bb3zAgLCs6pZjG4qIARgtk91mtUvq3wQASBBUzTAMTREJALA6P+w2/iE/fhvz/gAIE1nVNE1VJAEBQFekh10QlG96tfJTAIiIsqIqsiQSzFFXpXEUhof2nITkuwAAxoIoSZIkiSJBtErDfRin5eW9wxtXAUIYC6IkK6qmi8Dz/WazSy47Ai4DAIQwIYIkyaoMwFL/fhlkl+9BFwB8z9gjACij9cNy/xN70CUAnNGuKfMsq6Dd++uVH52dDntBbzJCzllXp6GG2jJS6tVf95swPTsj+S4ArK0zAdX7pWNK7W55v4nzt6UjfhaAQsXaYq+qikJoHh+Sqj75avWE3hbMo6d7Okww4rRrO8pOv53+0Ic+9P9c/wulonzJhKwDrwAAAABJRU5ErkJggg==\" style=\"height: auto\">\n",
       "              <figcaption style=\"font-size: 0.6em\">9</figcaption>\n",
       "            </figure>\n",
       "        \n",
       "            <figure style=\"margin: 5px !important;\">\n",
       "              <img src=\"data:image/png;base64,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\" style=\"height: auto\">\n",
       "              <figcaption style=\"font-size: 0.6em\">6</figcaption>\n",
       "            </figure>\n",
       "        \n",
       "            <figure style=\"margin: 5px !important;\">\n",
       "              <img src=\"data:image/png;base64,iVBORw0KGgoAAAANSUhEUgAAAIAAAACACAAAAADmVT4XAAAHHUlEQVR4nO2aSXPbuBKAGwD3nZJlW2M7U5PL+/9/Z6qmJonlKNZGijtIAngHUbJ9mUeCCefw1CdTZTY+NoDeAICrXOUqV7nKVa7y/y5o5OtEIQQjBIK1LRMCxFANykgA2/dsUyfQpFGc1UygoQQjAbD39HATeiqU6y9fhQDOh2oYCaCFT/95up8bkP6l1RUvGzGxBZybh8+fH25NOCpZVADOB5tAHgARVVVv75bL+4UNEN4/RmD82LbtdACG7TkPn5Y3vgkA4D+2oa836VA18gDYCG4Xj5/uAgsDAJhL48Fu9uvpAJDmLh6f7meuDgAA2txv2vWfZEIAxXCCwHfMkwpCAAJbG+zYsDQA5wIQxuRNA2d8sCMcYQHOmqZuGDuNKQRv8mNeT+iKBedN0zSMnXBamke7hA72hPJToCiKQjDqXB9vyuP2kA4HkLMAQgibjj+b+5Z2+gTRVkWaVe1EU4Cwors3y0+/34QW6QBokeWTAWBFt8Pbpz8+e4510iCaMpsQACmGM7v97dPvhqJ0FqiLJEnLZioLqIbrh/P5/LKGOU2jXZwPB5DbBUS3vcB3zXdvV9H6ZZtUE+0Cojt+4BrvHX+1e/77GE8FgHXH92z13S883z1/rehUfgBrpm2bKrCLDWi6f/3BhZgKgCiappIu9DHG2D6KklpGlWwswAijbnxR53m2+h6VUookAQQX/JwAi+q42T6vjkOzwZPIbUMhBOdnAlGnu9Vqmw/PBeQBAIQQlxKAN1WeV3IGGBGO34RolufZ+uB0EABGFyYAAEjzbjEutur//tdfBGAEqm+mz/q/BqApFle++/+aBQBjBXxHcg1ILkLB37YhAADoF784CYAQ4uP4gC+OcRKAE8X7h1amKJEHQJgoioLffXNRNYMDIQCMSMks29S6Zde2TbOLSzYhADHcMPS6slTUeZq+vMpFY1kA05vNfEtFAACCHrebl++xHIBkUqpZjnv2/qLOdi+rTdpMCAAIYYzOi5DR/BhnldwakAPgTVUUVd0NKThrmlZyG8qtAValkWcaZveIEMZIsusrZwFWptH+WHR1UOcVpDTJAtR5mma0S4IQwoRgPGksYG1dN+wy6whJRgL5aMgY4+dlhzDCWBbhZ+SEMGJ8aT9A3s+6GNwjHwuAPpRmgrV13bIpwzFWDcs6R0MkmrIoSslwLBsLbNdzjJMXw7zOkySnU7pirDt+4JnKaQ5YmcZxOikAMWzftzsLsLpI4iQf3psAAOl8QLM9z9IICOCc5unxmE6ckhmO75kqRoI1NNvvD3FWtZNaQHcC11Aw8LbKDrv9IcropABYs1xbwQiJluZxFB2Tgk+aD2BFNwwAACF4W9OqLOUSQhhTF5z/UHUVC8nuBIw/Oya6Qy8OYToAcW4IYsXAELqSlbE8AIjuiBYjopHLqcWEAHAO/wiBoSmSpTmA/CLEb0bHSOLUfiQAnHcBAAAXYnKAD0UAHzG8dGXU1vTyID7YY6hIVkblca+ritJlJIpmUP4+MUSYYMQ562EaOYAm3ayE49gEAQAiumXT+kOPRjVU1Da0xxGSHEB9/PGVLYSiI4DTCVIF74+NsW6bmBasR8UuaYHk1QHQbQEAgFTLDysu+FtOphiugwtBe1zqkQNoi2ijO7PuA1U7XFDG2wYAAwIBSLdcD+G6j4OWLs9jNy1PpQDSg9uEMZoDgKJiwQEsNwwQKfs0byUBaJ6m50Qc6eFvtaDJAQA0S+GMYyeYhwBJnyApB8CbMs8ulYARLDlPXgkAtjyNtxwHQRCIqleMlAWo8iyn3RRoHhf11jczsNyZDi0nrm9rjPTqGEgDpMf83JZSDLfNb+YzioLFjUWQIJqFStqvVpJMSNqKHNOKYwAARDTBi8X9DqNguXAtA+GmyOIsjmmPPFXSAi1AnFF2sjEimhMslkcDB3e3fhgoKPp783wok+qXAQjeMOV8XQEBVok3XxY29m8X4eJOQ8/b4uWVtX0O82VzQmBVWdHaAASAEBArWFQ29mY3wd2SQGnUcdxPlXwcbdu6opdkTHMX3MeOH3pzAuBo0LdxOyItZ3VZXLJRYt+oFTFtxzEBQFVI30RjxF0yVmWJdm4UIXNmMazqhgYAwDjqq3gEQFtEWwLi1KhBmuIIdMZJSvbrLSCq+Ifb1qFrYgwAGAMA8KZt2pY/7/K+/ZIRl9nyV5MePj1ybLz9mGdpmuR09de+b7UqD8Cydb3Z5FzV1UvQKQ+b7etmn0TrV/pP7/4UAJ63R/3ATddSSUcgovVq9fxtvadF8estICgFoM48NDg9nd6I3frl27cvX1b7AWpGlufHzcpp9m5XnR7Wq5eX9fYwRMNIgDr+xreeqZ/Oz9Jot9vv0kG9mpG368HzfVtXu0NUWhZ5mRd919/PAEBEIQThTo1gnLNe9dBVrnKVq1zlKle5ypv8F3Q6cSU4VXwnAAAAAElFTkSuQmCC\" style=\"height: auto\">\n",
       "              <figcaption style=\"font-size: 0.6em\">1</figcaption>\n",
       "            </figure>\n",
       "        \n",
       "    </div>"
      ],
      "text/plain": [
       "<IPython.core.display.HTML object>"
      ]
     },
     "execution_count": 4,
     "metadata": {},
     "output_type": "execute_result"
    }
   ],
   "source": [
    "count = 8\n",
    "\n",
    "def get_some_random_images_and_labels(df, count):\n",
    "    image_ids = RNG.choice(df.index.unique(), count, replace=False)\n",
    "    image_datas = df.loc[image_ids]['png']\n",
    "    images = [Image.open(io.BytesIO(image_data)) for image_data in image_datas]\n",
    "    labels = df.loc[image_ids]['value']\n",
    "    return images, list(labels)\n",
    "\n",
    "train_images, train_labels = get_some_random_images_and_labels(df_train_images, count)\n",
    "test_images, test_labels = get_some_random_images_and_labels(df_test_images, count)\n",
    "\n",
    "display_images_grid(train_images + test_images, captions=train_labels + test_labels, col_count=count)"
   ]
  },
  {
   "cell_type": "code",
   "execution_count": 5,
   "id": "e5019d63-ce09-4130-ac07-b6ae15a84ab4",
   "metadata": {},
   "outputs": [],
   "source": [
    "COS_SIM_THRESHOLD = 0.055\n",
    "hdc = Hdc(10_000, xp)"
   ]
  },
  {
   "cell_type": "code",
   "execution_count": 6,
   "id": "fe4596eb-8b95-46f6-842c-e5819bad21b3",
   "metadata": {},
   "outputs": [],
   "source": [
    "DIGITS = hdc(10)\n",
    "DIGITS_NORM = hdc.normalize(DIGITS)"
   ]
  },
  {
   "cell_type": "code",
   "execution_count": 7,
   "id": "317bc435-b1be-4e25-8f4f-b9e3d35f522b",
   "metadata": {},
   "outputs": [],
   "source": [
    "class CorticalColumn(object):\n",
    "    def __init__(self):\n",
    "        self.assoc_hdvs = HdvArray(hdc.N, xp, 100)\n",
    "        i = self.assoc_hdvs.lease()\n",
    "        self.assoc_hdvs.array[i] = hdc() # Deploy zero assoc hdvs in order to avoid constant checks for active_len during training"
   ]
  },
  {
   "cell_type": "code",
   "execution_count": 18,
   "id": "1e8dc096-5076-4657-b22c-a489c2be1694",
   "metadata": {},
   "outputs": [],
   "source": [
    "COLUMNS = {}\n",
    "COLUMNS = {-1: CorticalColumn()}\n",
    "# COLUMNS.update(map(lambda i: (i, CorticalColumn()), range(config.cortical_columns_count)))\n",
    "TRAIN_RUN_ID = 0\n",
    "TEST_RUN_ID = 0\n",
    "\n",
    "df_test_results = pd.DataFrame(columns=['source_ds', 'test_run_id', 'test_image_id', 'true_value', 'engram_id', 'infer_value', 'sim'])"
   ]
  },
  {
   "cell_type": "code",
   "execution_count": null,
   "id": "14a7a2e2-d118-40b4-b847-742398d68453",
   "metadata": {},
   "outputs": [],
   "source": []
  },
  {
   "cell_type": "code",
   "execution_count": 19,
   "id": "bc72b601-6398-4d84-9ce3-97e1a9a92bfa",
   "metadata": {},
   "outputs": [
    {
     "data": {
      "application/vnd.jupyter.widget-view+json": {
       "model_id": "27c0d5cd59134ae89f90831ff69e4202",
       "version_major": 2,
       "version_minor": 0
      },
      "text/plain": [
       "Columns:   0%|          | 0/1 [00:00<?, ?it/s]"
      ]
     },
     "metadata": {},
     "output_type": "display_data"
    },
    {
     "data": {
      "application/vnd.jupyter.widget-view+json": {
       "model_id": "f4d5fdbd7ec54872b02637109dc40e38",
       "version_major": 2,
       "version_minor": 0
      },
      "text/plain": [
       "Epoch:   0%|          | 0/1 [00:00<?, ?it/s]"
      ]
     },
     "metadata": {},
     "output_type": "display_data"
    },
    {
     "data": {
      "application/vnd.jupyter.widget-view+json": {
       "model_id": "",
       "version_major": 2,
       "version_minor": 0
      },
      "text/plain": [
       "Mining:   0%|          | 0/100 [00:00<?, ?it/s]"
      ]
     },
     "metadata": {},
     "output_type": "display_data"
    },
    {
     "ename": "AssertionError",
     "evalue": "",
     "output_type": "error",
     "traceback": [
      "\u001b[0;31m---------------------------------------------------------------------------\u001b[0m",
      "\u001b[0;31mAssertionError\u001b[0m                            Traceback (most recent call last)",
      "Cell \u001b[0;32mIn[19], line 51\u001b[0m\n\u001b[1;32m     48\u001b[0m         short_memory[target_hdv_index][\u001b[38;5;124m'\u001b[39m\u001b[38;5;124massoc_hdv_indices\u001b[39m\u001b[38;5;124m'\u001b[39m]\u001b[38;5;241m.\u001b[39mappend(assoc_hdv_index)\n\u001b[1;32m     49\u001b[0m         log\u001b[38;5;241m.\u001b[39mdebug(\u001b[38;5;124mf\u001b[39m\u001b[38;5;124m'\u001b[39m\u001b[38;5;124m[COL=\u001b[39m\u001b[38;5;132;01m{\u001b[39;00mcolumn_id\u001b[38;5;132;01m}\u001b[39;00m\u001b[38;5;124m:EP=\u001b[39m\u001b[38;5;132;01m{\u001b[39;00mepoch\u001b[38;5;132;01m}\u001b[39;00m\u001b[38;5;124m] Image ID \u001b[39m\u001b[38;5;132;01m{\u001b[39;00mimage_id\u001b[38;5;132;01m}\u001b[39;00m\u001b[38;5;124m (val=\u001b[39m\u001b[38;5;132;01m{\u001b[39;00mimage_value\u001b[38;5;132;01m}\u001b[39;00m\u001b[38;5;124m), deployed new assoc \u001b[39m\u001b[38;5;132;01m{\u001b[39;00massoc_hdv_index\u001b[38;5;132;01m}\u001b[39;00m\u001b[38;5;124m to \u001b[39m\u001b[38;5;132;01m{\u001b[39;00mtarget_hdv_index\u001b[38;5;132;01m}\u001b[39;00m\u001b[38;5;124m'\u001b[39m)\n\u001b[0;32m---> 51\u001b[0m \u001b[38;5;28;01massert\u001b[39;00m \u001b[38;5;28;01mFalse\u001b[39;00m\n\u001b[1;32m     54\u001b[0m \u001b[38;5;28;01mfor\u001b[39;00m target_hdv_index, tab \u001b[38;5;129;01min\u001b[39;00m short_memory\u001b[38;5;241m.\u001b[39mitems():\n\u001b[1;32m     55\u001b[0m     tab[\u001b[38;5;124m'\u001b[39m\u001b[38;5;124msource_hdvs\u001b[39m\u001b[38;5;124m'\u001b[39m] \u001b[38;5;241m=\u001b[39m xp\u001b[38;5;241m.\u001b[39marray(tab[\u001b[38;5;124m'\u001b[39m\u001b[38;5;124msource_hdvs\u001b[39m\u001b[38;5;124m'\u001b[39m])\n",
      "\u001b[0;31mAssertionError\u001b[0m: "
     ]
    }
   ],
   "source": [
    "# TRAIN RUN\n",
    "TRAIN_RUN_ID += 1\n",
    "epochs = 1\n",
    "batch_size = 100\n",
    "consolidation_cycles = 100\n",
    "epoch_to_image_ids = defaultdict(lambda: RNG.choice(df_train_images.index.unique(), batch_size, replace=False))\n",
    "\n",
    "for column_id, column in tqdm(COLUMNS.items(), desc='Columns'):\n",
    "    for epoch in tqdm(range(epochs), leave=False, desc='Epoch'):\n",
    "        image_ids = epoch_to_image_ids[epoch]\n",
    "        short_memory = defaultdict(lambda: defaultdict(list))\n",
    "\n",
    "        # ENGRAMS (associations) mining\n",
    "        for image_no, image_id in tqdm(enumerate(image_ids), leave=False, total=len(image_ids), desc='Mining'):\n",
    "            # log.debug(f'[train_run_id={TRAIN_RUN_ID}, image_no={image_no}, image_id={image_id}] Mappings count={COLUMN.engram_norms.len()}')\n",
    "            image_value = df_train_images.loc[image_id]['value']\n",
    "            df_image_encodings = pd.read_sql('SELECT hdv FROM image_encodings WHERE image_id=:image_id AND column_id=:column_id', \n",
    "                                             params={'image_id': int(image_id), 'column_id': column_id}, \n",
    "                                             con=train_db_con)\n",
    "            assert len(df_image_encodings) > 0\n",
    "            image_encoding_hdvs = xp.vstack(list(map(lambda h: xp.frombuffer(h, dtype='b'), df_image_encodings['hdv'])))\n",
    "            # map_results = xp.einsum('ij,kj->ikj', column.assoc_hdvs.array, image_encoding_hdvs)\n",
    "            image_encoding_hdv_bundle = hdc.bundle(image_encoding_hdvs) # TODO generate bundles in prep_dataset\n",
    "            assoc_results = column.assoc_hdvs.array_active * image_encoding_hdv_bundle # where current signal lands? which entities it activates?\n",
    "            assert assoc_results.shape == (column.assoc_hdvs.array_active.shape[0], hdc.N)\n",
    "            assoc_results_norm = hdc.normalize(assoc_results)\n",
    "            digits_proximity = assoc_results_norm @ DIGITS_NORM.T\n",
    "            digits_proximity_indices_recognized = xp.argwhere(digits_proximity >= COS_SIM_THRESHOLD)\n",
    "            do_deploy_new_assoc = True\n",
    "\n",
    "            for digit_proximity_index in digits_proximity_indices_recognized:\n",
    "                # Remember in short memory this activated associations. We gonna later optimize them (compress into more general ones)\n",
    "                assoc_hdv_index = digit_proximity_index[0]\n",
    "                target_hdv_index = int(digit_proximity_index[1])\n",
    "                source_hdv = image_encoding_hdv_bundle\n",
    "                short_memory[target_hdv_index]['source_hdvs'].append(source_hdv)\n",
    "                short_memory[target_hdv_index]['assoc_hdv_indices'].append(assoc_hdv_index)\n",
    "                do_deploy_new_assoc = False\n",
    "                log.debug(f'[COL={column_id}:EP={epoch}] Image ID {image_id} (val={image_value}), existing assoc {assoc_hdv_index} to {target_hdv_index}, correct={target_hdv_index == int(image_value)}')\n",
    "    \n",
    "            if do_deploy_new_assoc:\n",
    "                target_hdv_index = int(image_value)\n",
    "                target_hdv = DIGITS[target_hdv_index]\n",
    "                source_hdv = image_encoding_hdv_bundle\n",
    "                assoc_hdv_index = column.assoc_hdvs.lease()\n",
    "                column.assoc_hdvs.array[assoc_hdv_index] = hdc.bind(source_hdv, target_hdv)\n",
    "                short_memory[target_hdv_index]['source_hdvs'].append(source_hdv)\n",
    "                short_memory[target_hdv_index]['assoc_hdv_indices'].append(assoc_hdv_index)\n",
    "                log.debug(f'[COL={column_id}:EP={epoch}] Image ID {image_id} (val={image_value}), deployed new assoc {assoc_hdv_index} to {target_hdv_index}')\n",
    "\n",
    "        assert False\n",
    "        \n",
    "        \n",
    "        for target_hdv_index, tab in short_memory.items():\n",
    "            tab['source_hdvs'] = xp.array(tab['source_hdvs'])\n",
    "            tab['assoc_hdv_indices'] = list(set(tab['assoc_hdv_indices'])) # get rid of duplicates\n",
    "            assert len(tab['assoc_hdv_indices']) > 0\n",
    "            tab['assoc_hdvs'] = xp.take(column.assoc_hdvs.array, tab['assoc_hdv_indices'], axis=0)\n",
    "\n",
    "        # ENGRAMS (associations) consolidation\n",
    "        for target_hdv_index, tab in tqdm(short_memory.items(), leave=False, desc='Consolidation', total=len(short_memory)):\n",
    "            assoc_hdvs_count = tab['assoc_hdvs'].shape[0]\n",
    "            assert assoc_hdvs_count > 0\n",
    "            random_tuples_count = assoc_hdvs_count * (assoc_hdvs_count - 1) // 2\n",
    "            consolidation_cycles_ = min(random_tuples_count, consolidation_cycles)\n",
    "            log.debug(f'[COL={column_id}:EP={epoch}] Begin consolidation for target HDV index={target_hdv_index}, assoc HDVs before={assoc_hdvs_count}, cycles={consolidation_cycles_}')\n",
    "                        \n",
    "            for _ in range(consolidation_cycles_):\n",
    "                # Here we have all source HDVs associated with SINGLE taget_hdv via assoc_hdvs.\n",
    "                # Our goal is to optimize associations by bundling them together,\n",
    "                # but without breaking associations. The latter (breaking) could happen because\n",
    "                # we could have several distinct clusters (say A, B, C) which map to X.\n",
    "                # Should we bundle all these cluster into one megabundle then some of associations will get broken\n",
    "                \n",
    "                # 1. Pick two random assoc HDVs and merge together\n",
    "                assert tab['assoc_hdvs'].shape[0] > 1\n",
    "                assoc_hdv_indices_raw = list(range(tab['assoc_hdvs'].shape[0]))\n",
    "                assoc_hdv_indices_to_merge = RNG.choice(assoc_hdv_indices_raw, 2)\n",
    "                assoc_hdv_indices_to_take = set(assoc_hdv_indices_raw) - set(assoc_hdv_indices_to_merge)\n",
    "                index_where_to_place_bundle = 0\n",
    "                assoc_hdv_indices_to_take = [index_where_to_place_bundle] + list(assoc_hdv_indices_to_take)\n",
    "                new_assoc_hdvs = xp.take(tab['assoc_hdvs'], assoc_hdv_indices_to_take, axis=0)\n",
    "                new_assoc_hdvs[index_where_to_place_bundle] = hdc.bundle(tab['assoc_hdvs'][assoc_hdv_indices_to_merge[0]], tab['assoc_hdvs'][assoc_hdv_indices_to_merge[1]])\n",
    "                log.debug(f'[COL={column_id}:EP={epoch}] Consolidation target HDV index={target_hdv_index}, merge {assoc_hdv_indices_to_merge[0]} with {assoc_hdv_indices_to_merge[1]}')\n",
    "\n",
    "                # 2. Check that association invariant still holds place for all source HDVs. Commit or rollback merge accordingly\n",
    "                assoc_results = xp.einsum('ij,kj->ikj', tab['source_hdvs'], new_assoc_hdvs) # batch bind (map) source hdvs via new assoc_hdvs\n",
    "                # all source hdvs still should get lead to the same SINGLE target_hdv via assoc hdvs\n",
    "                assoc_results_shape = assoc_results.shape\n",
    "                assoc_results = assoc_results.reshape(-1, hdc.N)\n",
    "                assoc_results_norm = hdc.normalize(assoc_results)\n",
    "                target_hdv = DIGITS_NORM[target_hdv_index]\n",
    "                digit_proximity = assoc_results_norm @ target_hdv\n",
    "                digit_proximity = digit_proximity.reshape(assoc_results_shape[0], assoc_results_shape[1])\n",
    "                \n",
    "                # Equivalent non-efficient, but more comprehensible code\n",
    "                # digit_proximity2 = xp.zeros((tab['source_hdvs'].shape[0], tab['assoc_hdvs'].shape[0]))\n",
    "                \n",
    "                # for source_hdv_index, source_hdv in enumerate(tab['source_hdvs']):\n",
    "                #     assoc_results2 = tab['assoc_hdvs'] * source_hdv # map source hdv via multiple assoc_hdvs\n",
    "                #     assoc_results2_norm = hdc.normalize(assoc_results2)\n",
    "                #     digit_proximity2_for_source_hdv = assoc_results2_norm @ DIGITS_NORM[target_hdv_index] # how close is mapped source hdv to target HDV under each assoc HDV?\n",
    "                #     digit_proximity2[source_hdv_index] = digit_proximity2_for_source_hdv\n",
    "\n",
    "                # assert xp.allclose(digit_proximity, digit_proximity2)\n",
    "\n",
    "                if xp.any(xp.max(digit_proximity, axis=1) < COS_SIM_THRESHOLD):\n",
    "                    # We broke some associations. Rollback\n",
    "                    log.debug(f'[COL={column_id}:EP={epoch}] Consolidation target HDV index={target_hdv_index}, merge of {assoc_hdv_indices_to_merge[0]} with {assoc_hdv_indices_to_merge[1]} is BREAKING')\n",
    "                    pass\n",
    "                else:\n",
    "                    # We didn't break any associations. Replace tab['assoc_hdvs'] with more compact version\n",
    "                    log.debug(f'[COL={column_id}:EP={epoch}] Consolidation target HDV index={target_hdv_index}, merge of {assoc_hdv_indices_to_merge[0]} with {assoc_hdv_indices_to_merge[1]} is OK')\n",
    "                    tab['assoc_hdvs'] = new_assoc_hdvs\n",
    "\n",
    "            log.debug(f'[COL={column_id}:EP={epoch}] End consolidation for target HDV index={target_hdv_index}, assoc HDVs before={assoc_hdvs_count}, after={tab['assoc_hdvs'].shape[0]}, delta={tab['assoc_hdvs'].shape[0]-assoc_hdvs_count}')\n",
    "                    \n",
    "                \n",
    "                    \n",
    "                \n",
    "                \n",
    "                \n",
    "                \n",
    "                \n",
    "            \n",
    "\n",
    "        \n",
    "                \n",
    "            \n",
    "            \n",
    "        \n",
    "\n",
    "        "
   ]
  },
  {
   "cell_type": "code",
   "execution_count": 10,
   "id": "294b192d-b00f-4a62-8fdf-c957c506d26b",
   "metadata": {},
   "outputs": [
    {
     "data": {
      "text/plain": [
       "(4, 10000)"
      ]
     },
     "execution_count": 10,
     "metadata": {},
     "output_type": "execute_result"
    }
   ],
   "source": [
    "assoc_results.shape"
   ]
  },
  {
   "cell_type": "code",
   "execution_count": 11,
   "id": "b33ec621-b17e-4a38-8eff-6ae3a4eee843",
   "metadata": {},
   "outputs": [
    {
     "data": {
      "text/plain": [
       "4"
      ]
     },
     "execution_count": 11,
     "metadata": {},
     "output_type": "execute_result"
    }
   ],
   "source": [
    "column.assoc_hdvs.len"
   ]
  },
  {
   "cell_type": "code",
   "execution_count": 13,
   "id": "d8c2b580-0766-4ac9-b5ca-bf1fe5a6799e",
   "metadata": {},
   "outputs": [
    {
     "data": {
      "text/plain": [
       "(4, 10)"
      ]
     },
     "execution_count": 13,
     "metadata": {},
     "output_type": "execute_result"
    }
   ],
   "source": [
    "digits_proximity.shape"
   ]
  },
  {
   "cell_type": "code",
   "execution_count": 14,
   "id": "142b5faa-1a78-4840-bf63-a67a788e6759",
   "metadata": {},
   "outputs": [
    {
     "data": {
      "text/plain": [
       "array([[2, 7],\n",
       "       [3, 6]])"
      ]
     },
     "execution_count": 14,
     "metadata": {},
     "output_type": "execute_result"
    }
   ],
   "source": [
    "digits_proximity_indices_recognized"
   ]
  },
  {
   "cell_type": "code",
   "execution_count": 15,
   "id": "831b6263-c3a1-47fe-9f9a-c057ddb7b3eb",
   "metadata": {},
   "outputs": [
    {
     "data": {
      "text/plain": [
       "array([[ 0.01690321,  0.00698396,  0.00050608,  0.02439326,  0.00860343,\n",
       "         0.0071864 ,  0.00030365,  0.00131582,  0.00738883,  0.01791538],\n",
       "       [-0.00256212,  0.02490376, -0.00481678, -0.00789132, -0.02223916,\n",
       "         0.03474229,  0.01301555, -0.01219567,  0.01281058, -0.00502175],\n",
       "       [-0.00584715, -0.01548983, -0.00584715,  0.00215421, -0.00071807,\n",
       "        -0.00933493,  0.00256454,  0.05508634,  0.00071807, -0.00092323],\n",
       "       [ 0.00286882,  0.01004086, -0.00881136,  0.00594255,  0.01290967,\n",
       "        -0.00184424,  0.06454837, -0.01209001, -0.01024577,  0.00983594]])"
      ]
     },
     "execution_count": 15,
     "metadata": {},
     "output_type": "execute_result"
    }
   ],
   "source": [
    "digits_proximity"
   ]
  },
  {
   "cell_type": "code",
   "execution_count": 49,
   "id": "cecf0381-da5b-4512-a6f1-b8f26c2c8e57",
   "metadata": {},
   "outputs": [
    {
     "data": {
      "text/plain": [
       "np.float64(0.9884331034521199)"
      ]
     },
     "execution_count": 49,
     "metadata": {},
     "output_type": "execute_result"
    }
   ],
   "source": [
    "digit_proximity[0][0]"
   ]
  },
  {
   "cell_type": "code",
   "execution_count": 48,
   "id": "81c686d8-4671-437e-8aca-207f2678feea",
   "metadata": {},
   "outputs": [
    {
     "data": {
      "text/plain": [
       "np.float64(0.9884331034521443)"
      ]
     },
     "execution_count": 48,
     "metadata": {},
     "output_type": "execute_result"
    }
   ],
   "source": [
    "digit_proximity2[0][0]"
   ]
  },
  {
   "cell_type": "code",
   "execution_count": 54,
   "id": "d4ddb180-aca9-47dc-b344-e6ae9a097123",
   "metadata": {},
   "outputs": [
    {
     "data": {
      "text/plain": [
       "True"
      ]
     },
     "execution_count": 54,
     "metadata": {},
     "output_type": "execute_result"
    }
   ],
   "source": [
    "np.allclose(digit_proximity[0], digit_proximity2[0])"
   ]
  },
  {
   "cell_type": "code",
   "execution_count": 47,
   "id": "9ae9d45a-3ccf-466a-95da-363c4392aa6d",
   "metadata": {},
   "outputs": [
    {
     "data": {
      "text/plain": [
       "False"
      ]
     },
     "execution_count": 47,
     "metadata": {},
     "output_type": "execute_result"
    }
   ],
   "source": [
    "np.array_equal(digit_proximity[0][0], digit_proximity2[0][0])"
   ]
  },
  {
   "cell_type": "code",
   "execution_count": 55,
   "id": "4ecfa2e1-23a3-45a4-bd3a-899411b62cbb",
   "metadata": {},
   "outputs": [
    {
     "name": "stdout",
     "output_type": "stream",
     "text": [
      "0 True\n",
      "1 True\n",
      "2 True\n",
      "3 True\n",
      "4 True\n",
      "5 True\n",
      "6 True\n",
      "7 True\n",
      "8 True\n",
      "9 True\n",
      "10 True\n",
      "11 True\n",
      "12 True\n",
      "13 True\n",
      "14 True\n",
      "15 True\n",
      "16 True\n",
      "17 True\n",
      "18 True\n",
      "19 True\n",
      "20 True\n",
      "21 True\n",
      "22 True\n",
      "23 True\n",
      "24 True\n",
      "25 True\n",
      "26 True\n",
      "27 True\n",
      "28 True\n",
      "29 True\n",
      "30 True\n",
      "31 True\n",
      "32 True\n"
     ]
    }
   ],
   "source": [
    "for i in range(digit_proximity.shape[0]):\n",
    "    print(f'{i} {np.allclose(digit_proximity[i], digit_proximity2[i])}')"
   ]
  },
  {
   "cell_type": "code",
   "execution_count": 66,
   "id": "44db5639-1a6d-4c4c-b84c-dadd60c41591",
   "metadata": {},
   "outputs": [
    {
     "data": {
      "text/html": [
       "<div>\n",
       "<style scoped>\n",
       "    .dataframe tbody tr th:only-of-type {\n",
       "        vertical-align: middle;\n",
       "    }\n",
       "\n",
       "    .dataframe tbody tr th {\n",
       "        vertical-align: top;\n",
       "    }\n",
       "\n",
       "    .dataframe thead th {\n",
       "        text-align: right;\n",
       "    }\n",
       "</style>\n",
       "<table border=\"1\" class=\"dataframe\">\n",
       "  <thead>\n",
       "    <tr style=\"text-align: right;\">\n",
       "      <th></th>\n",
       "      <th>index</th>\n",
       "      <th>value</th>\n",
       "      <th>png</th>\n",
       "    </tr>\n",
       "    <tr>\n",
       "      <th>image_id</th>\n",
       "      <th></th>\n",
       "      <th></th>\n",
       "      <th></th>\n",
       "    </tr>\n",
       "  </thead>\n",
       "  <tbody>\n",
       "    <tr>\n",
       "      <th>59545</th>\n",
       "      <td>65</td>\n",
       "      <td>1</td>\n",
       "      <td>b'\\x89PNG\\r\\n\\x1a\\n\\x00\\x00\\x00\\rIHDR\\x00\\x00\\...</td>\n",
       "    </tr>\n",
       "    <tr>\n",
       "      <th>44886</th>\n",
       "      <td>3034</td>\n",
       "      <td>1</td>\n",
       "      <td>b'\\x89PNG\\r\\n\\x1a\\n\\x00\\x00\\x00\\rIHDR\\x00\\x00\\...</td>\n",
       "    </tr>\n",
       "    <tr>\n",
       "      <th>42182</th>\n",
       "      <td>1694</td>\n",
       "      <td>1</td>\n",
       "      <td>b'\\x89PNG\\r\\n\\x1a\\n\\x00\\x00\\x00\\rIHDR\\x00\\x00\\...</td>\n",
       "    </tr>\n",
       "    <tr>\n",
       "      <th>27677</th>\n",
       "      <td>9529</td>\n",
       "      <td>1</td>\n",
       "      <td>b'\\x89PNG\\r\\n\\x1a\\n\\x00\\x00\\x00\\rIHDR\\x00\\x00\\...</td>\n",
       "    </tr>\n",
       "    <tr>\n",
       "      <th>27202</th>\n",
       "      <td>5135</td>\n",
       "      <td>1</td>\n",
       "      <td>b'\\x89PNG\\r\\n\\x1a\\n\\x00\\x00\\x00\\rIHDR\\x00\\x00\\...</td>\n",
       "    </tr>\n",
       "    <tr>\n",
       "      <th>17587</th>\n",
       "      <td>380</td>\n",
       "      <td>1</td>\n",
       "      <td>b'\\x89PNG\\r\\n\\x1a\\n\\x00\\x00\\x00\\rIHDR\\x00\\x00\\...</td>\n",
       "    </tr>\n",
       "  </tbody>\n",
       "</table>\n",
       "</div>"
      ],
      "text/plain": [
       "          index value                                                png\n",
       "image_id                                                                \n",
       "59545        65     1  b'\\x89PNG\\r\\n\\x1a\\n\\x00\\x00\\x00\\rIHDR\\x00\\x00\\...\n",
       "44886      3034     1  b'\\x89PNG\\r\\n\\x1a\\n\\x00\\x00\\x00\\rIHDR\\x00\\x00\\...\n",
       "42182      1694     1  b'\\x89PNG\\r\\n\\x1a\\n\\x00\\x00\\x00\\rIHDR\\x00\\x00\\...\n",
       "27677      9529     1  b'\\x89PNG\\r\\n\\x1a\\n\\x00\\x00\\x00\\rIHDR\\x00\\x00\\...\n",
       "27202      5135     1  b'\\x89PNG\\r\\n\\x1a\\n\\x00\\x00\\x00\\rIHDR\\x00\\x00\\...\n",
       "17587       380     1  b'\\x89PNG\\r\\n\\x1a\\n\\x00\\x00\\x00\\rIHDR\\x00\\x00\\..."
      ]
     },
     "execution_count": 66,
     "metadata": {},
     "output_type": "execute_result"
    }
   ],
   "source": [
    "df_z = df_train_images.loc[list(epoch_to_image_ids[0])]\n",
    "df_z[df_z['value'] == '1']"
   ]
  },
  {
   "cell_type": "code",
   "execution_count": 91,
   "id": "7d3435c9-e306-43d4-a74f-8b8feebe9a20",
   "metadata": {},
   "outputs": [
    {
     "data": {
      "text/plain": [
       "array([38700, 56837, 58875, 33761, 44563, 22108, 32724, 25144,  5028,\n",
       "       52194, 17593, 25589, 13867, 52570, 30392, 45655, 16444, 44727,\n",
       "       58452, 52462, 45871, 17939, 55446, 14845, 10976, 35683, 53563,\n",
       "       18075,  5106, 56853, 44162, 43370, 57169,  3411, 57369,  2702,\n",
       "        1289, 22414, 39521, 58116, 28560, 59179, 32486, 35707, 55107,\n",
       "        1230, 49002, 50252, 30523, 28745, 56228, 51351, 56464,  1998,\n",
       "       56498, 36711, 51729,  2296, 56351, 32518, 58665, 25612,  7938,\n",
       "       57571, 43553, 11323, 35831,  8483, 35179,   716, 36277, 38890,\n",
       "       17712, 52849, 24766,  7600, 41352, 28416,  5528, 15963, 13804,\n",
       "        7581,  8443, 18899,  9700, 33560, 10599,  7171,  8149,  6733,\n",
       "       27132, 56624, 50279, 15160, 31035, 10914, 18263, 43705,  3097,\n",
       "       41313])"
      ]
     },
     "execution_count": 91,
     "metadata": {},
     "output_type": "execute_result"
    }
   ],
   "source": [
    "epoch_to_image_ids[0]"
   ]
  },
  {
   "cell_type": "code",
   "execution_count": null,
   "id": "c0b56ec5-7e3c-4d78-970b-cab45003054e",
   "metadata": {},
   "outputs": [],
   "source": [
    "df_train_images.loc[list(epoch_to_image_ids[0])]['value'].unique()"
   ]
  },
  {
   "cell_type": "code",
   "execution_count": 90,
   "id": "8f70cfd2-ec64-47a3-8211-c13ede8b9602",
   "metadata": {},
   "outputs": [
    {
     "data": {
      "text/plain": [
       "15"
      ]
     },
     "execution_count": 90,
     "metadata": {},
     "output_type": "execute_result"
    }
   ],
   "source": [
    "column.assoc_hdvs.len()"
   ]
  },
  {
   "cell_type": "code",
   "execution_count": 74,
   "id": "cc549286-4674-4011-a93d-24ee0e15c8f1",
   "metadata": {},
   "outputs": [
    {
     "data": {
      "text/plain": [
       "[1, 4, 5, 2, 7, 8, 6, 9, 0, 3]"
      ]
     },
     "execution_count": 74,
     "metadata": {},
     "output_type": "execute_result"
    }
   ],
   "source": [
    "list(short_memory.keys())"
   ]
  },
  {
   "cell_type": "code",
   "execution_count": 13,
   "id": "9ee32737-067b-47ea-9d07-5e67b9e4b801",
   "metadata": {},
   "outputs": [
    {
     "data": {
      "text/html": [
       "<div style=\"\n",
       "        display: grid; \n",
       "        grid-template-columns: repeat(8, 128px);\n",
       "        column-gap: 1px;\n",
       "        row-gap: 1px;\">\n",
       "        \n",
       "            <figure style=\"margin: 5px !important;\">\n",
       "              <img src=\"data:image/png;base64,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\" style=\"height: auto\">\n",
       "              <figcaption style=\"font-size: 0.6em\">clust=248, #7346, val=5</figcaption>\n",
       "            </figure>\n",
       "        \n",
       "    </div>"
      ],
      "text/plain": [
       "<IPython.core.display.HTML object>"
      ]
     },
     "execution_count": 13,
     "metadata": {},
     "output_type": "execute_result"
    }
   ],
   "source": [
    "images = []\n",
    "captions = []\n",
    "\n",
    "if COLUMN.engrams.keys():\n",
    "    random_engram_i = RNG.choice(list(COLUMN.engrams.keys()))\n",
    "    image_ids = COLUMN.engram_to_image_ids[random_engram_i]\n",
    "    df_i = df_train_images.loc[list(image_ids)]\n",
    "    image_datas = df_i['png']\n",
    "    images = [Image.open(io.BytesIO(image_data)) for image_data in image_datas]\n",
    "    captions = list(map(lambda p: f'clust={random_engram_i}, #{p[0]}, val={p[1]}', zip(df_i.index, df_i['value'])))\n",
    "\n",
    "images = images[:32]\n",
    "captions = captions[:32]\n",
    "display_images_grid(images, captions=captions, col_count=8)"
   ]
  },
  {
   "cell_type": "code",
   "execution_count": 27,
   "id": "dedefb7f-24e7-43ca-91d6-eecc3fbaeb17",
   "metadata": {},
   "outputs": [
    {
     "data": {
      "application/vnd.jupyter.widget-view+json": {
       "model_id": "101dd829f15a43cca4446375415cb247",
       "version_major": 2,
       "version_minor": 0
      },
      "text/plain": [
       "  0%|          | 0/2000 [00:00<?, ?it/s]"
      ]
     },
     "metadata": {},
     "output_type": "display_data"
    }
   ],
   "source": [
    "# TEST RUN\n",
    "TEST_RUN_ID += 1\n",
    "count = 2000\n",
    "test_run_source = (df_test_images, test_db_con, 'test')\n",
    "# test_run_source = (df_train_images, train_db_con, 'train')\n",
    "test_image_ids = RNG.choice(test_run_source[0].index.unique(), count, replace=False)\n",
    "test_result_rows = defaultdict(list)\n",
    "\n",
    "for image_id in tqdm(test_image_ids):\n",
    "    max_cos_sim_index = -1 # aka engram id\n",
    "    max_similar_engram_image_value = ''\n",
    "    max_cos_sim = 0\n",
    "\n",
    "    image_value = test_run_source[0].loc[image_id]['value']\n",
    "    df_image_encodings = pd.read_sql('SELECT hdv FROM image_encodings WHERE image_id=:image_id', params={'image_id': int(image_id)}, con=test_run_source[1])\n",
    "    assert len(df_image_encodings) > 0\n",
    "    image_encoding_hdvs = list(map(lambda h: np.frombuffer(h, dtype='b'), df_image_encodings['hdv']))\n",
    "    image_encoding_hdvs_norm = hdc.normalize(image_encoding_hdvs)\n",
    "    image_encoding_hdvs_norm = xp_array_to_gpu(image_encoding_hdvs_norm)\n",
    "\n",
    "    cos_sim_matrix = COLUMN.engram_norms.array @ image_encoding_hdvs_norm.T\n",
    "    cos_sim_matrix[cos_sim_matrix < COS_SIM_THRESHOLD] = 0\n",
    "    cos_sim_vector = xp_array_from_gpu(xp.sum(cos_sim_matrix, axis=1)) # how each mem recall (sum cos sim) is close to current image\n",
    "    \n",
    "    assert cos_sim_vector.shape == (COLUMN.engram_norms.array.shape[0],)\n",
    "    engram_ids_by_match_score = np.argsort(-cos_sim_vector) # sorted desc\n",
    "\n",
    "    if engram_ids_by_match_score.shape[0] > 0:\n",
    "        engram_id = engram_ids_by_match_score[0]\n",
    "        cos_sim_value = cos_sim_vector[engram_id]\n",
    "\n",
    "        # if cos_sim_value >= COS_SIM_THRESHOLD:\n",
    "        if cos_sim_value > 0:\n",
    "            engram_image_ids = COLUMN.engram_to_image_ids[engram_id]\n",
    "            assert len(engram_image_ids) > 0\n",
    "            engram_image_id = next(iter(engram_image_ids))\n",
    "            engram_image_value = df_train_images.loc[engram_image_id]['value']\n",
    "            max_cos_sim_index = engram_id\n",
    "            max_similar_engram_image_value = engram_image_value\n",
    "            max_cos_sim = cos_sim_value\n",
    "    \n",
    "    test_result_rows['source_ds'].append(test_run_source[2])\n",
    "    test_result_rows['test_run_id'].append(TEST_RUN_ID)\n",
    "    test_result_rows['test_image_id'].append(image_id)\n",
    "    test_result_rows['true_value'].append(image_value)\n",
    "    test_result_rows['engram_id'].append(max_cos_sim_index)\n",
    "    test_result_rows['infer_value'].append(max_similar_engram_image_value)\n",
    "    test_result_rows['sim'].append(max_cos_sim)\n",
    "    \n",
    "\n",
    "assert set(test_result_rows.keys()) == set(df_test_results.columns)\n",
    "df_test_results_for_run = pd.DataFrame(test_result_rows, columns=df_test_results.columns)\n",
    "concat_list = [df_test_results] if len(df_test_results) > 0 else []\n",
    "concat_list.append(df_test_results_for_run)\n",
    "df_test_results = pd.concat(concat_list, ignore_index=True)"
   ]
  },
  {
   "cell_type": "code",
   "execution_count": 28,
   "id": "9ded612b-96ae-4f3d-a964-d78dcfb19834",
   "metadata": {},
   "outputs": [
    {
     "data": {
      "image/png": "[encoded data removed]",
      "text/plain": [
       "<Figure size 1600x400 with 3 Axes>"
      ]
     },
     "metadata": {},
     "output_type": "display_data"
    },
    {
     "data": {
      "text/html": [
       "<div>\n",
       "<style scoped>\n",
       "    .dataframe tbody tr th:only-of-type {\n",
       "        vertical-align: middle;\n",
       "    }\n",
       "\n",
       "    .dataframe tbody tr th {\n",
       "        vertical-align: top;\n",
       "    }\n",
       "\n",
       "    .dataframe thead th {\n",
       "        text-align: right;\n",
       "    }\n",
       "</style>\n",
       "<table border=\"1\" class=\"dataframe\">\n",
       "  <thead>\n",
       "    <tr style=\"text-align: right;\">\n",
       "      <th></th>\n",
       "      <th>count</th>\n",
       "      <th>infers</th>\n",
       "      <th>correct_infers</th>\n",
       "      <th>infer_ratio</th>\n",
       "      <th>accuracy_count</th>\n",
       "      <th>accuracy_infers</th>\n",
       "    </tr>\n",
       "    <tr>\n",
       "      <th>test_run_id</th>\n",
       "      <th></th>\n",
       "      <th></th>\n",
       "      <th></th>\n",
       "      <th></th>\n",
       "      <th></th>\n",
       "      <th></th>\n",
       "    </tr>\n",
       "  </thead>\n",
       "  <tbody>\n",
       "    <tr>\n",
       "      <th>1</th>\n",
       "      <td>2000</td>\n",
       "      <td>2000</td>\n",
       "      <td>1809</td>\n",
       "      <td>1.0</td>\n",
       "      <td>0.9045</td>\n",
       "      <td>0.9045</td>\n",
       "    </tr>\n",
       "    <tr>\n",
       "      <th>2</th>\n",
       "      <td>2000</td>\n",
       "      <td>2000</td>\n",
       "      <td>1824</td>\n",
       "      <td>1.0</td>\n",
       "      <td>0.9120</td>\n",
       "      <td>0.9120</td>\n",
       "    </tr>\n",
       "    <tr>\n",
       "      <th>3</th>\n",
       "      <td>2000</td>\n",
       "      <td>2000</td>\n",
       "      <td>1843</td>\n",
       "      <td>1.0</td>\n",
       "      <td>0.9215</td>\n",
       "      <td>0.9215</td>\n",
       "    </tr>\n",
       "  </tbody>\n",
       "</table>\n",
       "</div>"
      ],
      "text/plain": [
       "             count  infers  correct_infers  infer_ratio  accuracy_count  \\\n",
       "test_run_id                                                               \n",
       "1             2000    2000            1809          1.0          0.9045   \n",
       "2             2000    2000            1824          1.0          0.9120   \n",
       "3             2000    2000            1843          1.0          0.9215   \n",
       "\n",
       "             accuracy_infers  \n",
       "test_run_id                   \n",
       "1                     0.9045  \n",
       "2                     0.9120  \n",
       "3                     0.9215  "
      ]
     },
     "execution_count": 28,
     "metadata": {},
     "output_type": "execute_result"
    }
   ],
   "source": [
    "df_test_results2 = df_test_results.copy()\n",
    "df_test_results2['is_infer'] = df_test_results2['engram_id'] > -1\n",
    "df_test_results2['is_correct_infer'] = df_test_results2['true_value'] == df_test_results2['infer_value']\n",
    "df_test_results2 = df_test_results2.groupby(by=['test_run_id']).agg({'test_image_id': 'count', 'is_infer': 'sum', 'is_correct_infer': 'sum'})\n",
    "df_test_results2.rename(columns=dict(test_image_id='count', is_infer='infers', is_correct_infer='correct_infers'), inplace=True, errors='raise')\n",
    "df_test_results2['infer_ratio'] = df_test_results2['infers'] / df_test_results2['count']\n",
    "df_test_results2['accuracy_count'] = df_test_results2['correct_infers'] / df_test_results2['count']\n",
    "df_test_results2['accuracy_infers'] = df_test_results2['correct_infers'] / df_test_results2['infers']\n",
    "\n",
    "plt.figure(figsize=(16, 4))\n",
    "plt.subplot(1, 3, 1)\n",
    "b = plt.bar(list(map(str, df_test_results2.index)), list(df_test_results2['infer_ratio']))\n",
    "plt.bar_label(b, map(lambda p: f'{p*100:.0f}', df_test_results2['infer_ratio']), label_type='center')\n",
    "plt.ylim(0, 1)\n",
    "plt.title('Infers, %')\n",
    "plt.xlabel('Test run')\n",
    "plt.grid()\n",
    "\n",
    "plt.subplot(1, 3, 2)\n",
    "b = plt.bar(list(map(str, df_test_results2.index)), list(df_test_results2['accuracy_count']))\n",
    "plt.bar_label(b, map(lambda p: f'{p*100:.0f}', df_test_results2['accuracy_count']), label_type='center')\n",
    "plt.ylim(0, 1)\n",
    "plt.title('Accuracy (Count), %')\n",
    "plt.xlabel('Test run')\n",
    "plt.grid()\n",
    "\n",
    "plt.subplot(1, 3, 3)\n",
    "b = plt.bar(list(map(str, df_test_results2.index)), list(df_test_results2['accuracy_infers']))\n",
    "plt.bar_label(b, map(lambda p: f'{p*100:.0f}', df_test_results2['accuracy_infers']), label_type='center')\n",
    "plt.ylim(0, 1)\n",
    "plt.title('Accuracy (Infers), %')\n",
    "plt.xlabel('Test run')\n",
    "plt.grid()\n",
    "\n",
    "plt.show()\n",
    "df_test_results2"
   ]
  },
  {
   "cell_type": "code",
   "execution_count": null,
   "id": "90c7e7d6-d5fc-4012-9c88-164320308f20",
   "metadata": {},
   "outputs": [],
   "source": []
  },
  {
   "cell_type": "code",
   "execution_count": 17,
   "id": "a7f7fd04-f413-47bf-b601-3a9327b61c82",
   "metadata": {},
   "outputs": [
    {
     "data": {
      "text/html": [
       "<div>\n",
       "<style scoped>\n",
       "    .dataframe tbody tr th:only-of-type {\n",
       "        vertical-align: middle;\n",
       "    }\n",
       "\n",
       "    .dataframe tbody tr th {\n",
       "        vertical-align: top;\n",
       "    }\n",
       "\n",
       "    .dataframe thead th {\n",
       "        text-align: right;\n",
       "    }\n",
       "</style>\n",
       "<table border=\"1\" class=\"dataframe\">\n",
       "  <thead>\n",
       "    <tr style=\"text-align: right;\">\n",
       "      <th></th>\n",
       "      <th>test_run_id</th>\n",
       "      <th>test_image_id</th>\n",
       "      <th>true_value</th>\n",
       "      <th>engram_id</th>\n",
       "      <th>engram_value</th>\n",
       "      <th>sim</th>\n",
       "    </tr>\n",
       "  </thead>\n",
       "  <tbody>\n",
       "    <tr>\n",
       "      <th>0</th>\n",
       "      <td>1</td>\n",
       "      <td>100002322</td>\n",
       "      <td>5</td>\n",
       "      <td>79</td>\n",
       "      <td>3</td>\n",
       "      <td>3.862693</td>\n",
       "    </tr>\n",
       "    <tr>\n",
       "      <th>1</th>\n",
       "      <td>1</td>\n",
       "      <td>100002322</td>\n",
       "      <td>5</td>\n",
       "      <td>20</td>\n",
       "      <td>8</td>\n",
       "      <td>3.840800</td>\n",
       "    </tr>\n",
       "    <tr>\n",
       "      <th>2</th>\n",
       "      <td>1</td>\n",
       "      <td>100002322</td>\n",
       "      <td>5</td>\n",
       "      <td>233</td>\n",
       "      <td>5</td>\n",
       "      <td>3.744116</td>\n",
       "    </tr>\n",
       "    <tr>\n",
       "      <th>3</th>\n",
       "      <td>1</td>\n",
       "      <td>100002322</td>\n",
       "      <td>5</td>\n",
       "      <td>200</td>\n",
       "      <td>5</td>\n",
       "      <td>3.571549</td>\n",
       "    </tr>\n",
       "    <tr>\n",
       "      <th>4</th>\n",
       "      <td>1</td>\n",
       "      <td>100002322</td>\n",
       "      <td>5</td>\n",
       "      <td>237</td>\n",
       "      <td>5</td>\n",
       "      <td>3.424872</td>\n",
       "    </tr>\n",
       "    <tr>\n",
       "      <th>5</th>\n",
       "      <td>1</td>\n",
       "      <td>100002322</td>\n",
       "      <td>5</td>\n",
       "      <td>1</td>\n",
       "      <td>5</td>\n",
       "      <td>3.314627</td>\n",
       "    </tr>\n",
       "    <tr>\n",
       "      <th>6</th>\n",
       "      <td>1</td>\n",
       "      <td>100002322</td>\n",
       "      <td>5</td>\n",
       "      <td>47</td>\n",
       "      <td>3</td>\n",
       "      <td>3.269252</td>\n",
       "    </tr>\n",
       "    <tr>\n",
       "      <th>7</th>\n",
       "      <td>1</td>\n",
       "      <td>100002322</td>\n",
       "      <td>5</td>\n",
       "      <td>163</td>\n",
       "      <td>3</td>\n",
       "      <td>3.015236</td>\n",
       "    </tr>\n",
       "    <tr>\n",
       "      <th>8</th>\n",
       "      <td>1</td>\n",
       "      <td>100002322</td>\n",
       "      <td>5</td>\n",
       "      <td>196</td>\n",
       "      <td>5</td>\n",
       "      <td>2.974074</td>\n",
       "    </tr>\n",
       "    <tr>\n",
       "      <th>9</th>\n",
       "      <td>1</td>\n",
       "      <td>100002322</td>\n",
       "      <td>5</td>\n",
       "      <td>2</td>\n",
       "      <td>3</td>\n",
       "      <td>2.696484</td>\n",
       "    </tr>\n",
       "  </tbody>\n",
       "</table>\n",
       "</div>"
      ],
      "text/plain": [
       "   test_run_id  test_image_id true_value  engram_id engram_value       sim\n",
       "0            1      100002322          5         79            3  3.862693\n",
       "1            1      100002322          5         20            8  3.840800\n",
       "2            1      100002322          5        233            5  3.744116\n",
       "3            1      100002322          5        200            5  3.571549\n",
       "4            1      100002322          5        237            5  3.424872\n",
       "5            1      100002322          5          1            5  3.314627\n",
       "6            1      100002322          5         47            3  3.269252\n",
       "7            1      100002322          5        163            3  3.015236\n",
       "8            1      100002322          5        196            5  2.974074\n",
       "9            1      100002322          5          2            3  2.696484"
      ]
     },
     "execution_count": 17,
     "metadata": {},
     "output_type": "execute_result"
    }
   ],
   "source": [
    "df_test_results_incorrect_infers = df_test_results_for_run[df_test_results_for_run['true_value'] != df_test_results_for_run['infer_value']]\n",
    "incorrect_infer_row_index = RNG.choice(df_test_results_incorrect_infers.index.unique())\n",
    "test_run_id = df_test_results_incorrect_infers.loc[incorrect_infer_row_index]['test_run_id']\n",
    "incorrect_infer_image_id = df_test_results_incorrect_infers.loc[incorrect_infer_row_index]['test_image_id']\n",
    "image_data = test_run_source[0].loc[incorrect_infer_image_id]['png']\n",
    "image_value = test_run_source[0].loc[incorrect_infer_image_id]['value']\n",
    "\n",
    "df_x = pd.DataFrame(columns=['test_run_id', 'test_image_id', 'true_value', 'engram_id', 'engram_value', 'sim'])\n",
    "df_image_encodings = pd.read_sql('SELECT hdv FROM image_encodings WHERE image_id=:image_id', params={'image_id': int(incorrect_infer_image_id)}, con=test_run_source[1])\n",
    "assert len(df_image_encodings) > 0\n",
    "image_encoding_hdvs = list(map(lambda h: np.frombuffer(h, dtype='b'), df_image_encodings['hdv']))\n",
    "image_encoding_hdvs_norm = hdc.normalize(image_encoding_hdvs)\n",
    "image_encoding_hdvs_norm = xp_array_to_gpu(image_encoding_hdvs_norm)\n",
    "\n",
    "cos_sim_matrix = COLUMN.engram_norms.array @ image_encoding_hdvs_norm.T\n",
    "cos_sim_matrix[cos_sim_matrix < COS_SIM_THRESHOLD] = 0\n",
    "cos_sim_vector = xp_array_from_gpu(xp.sum(cos_sim_matrix, axis=1)) # how each mem recall (sum cos sim) is close to current image\n",
    "\n",
    "assert cos_sim_vector.shape == (COLUMN.engram_norms.array.shape[0],)\n",
    "engram_ids_by_match_score = np.argsort(-cos_sim_vector) # sorted desc\n",
    "\n",
    "for pos, engram_id in enumerate(engram_ids_by_match_score):\n",
    "    cos_sim_value = cos_sim_vector[engram_id]\n",
    "\n",
    "    if cos_sim_value <= 0:\n",
    "        break\n",
    "        \n",
    "    engram_image_ids = COLUMN.engram_to_image_ids[engram_id]\n",
    "    assert len(engram_image_ids) > 0\n",
    "    engram_image_id = next(iter(engram_image_ids))\n",
    "    engram_image_value = df_train_images.loc[engram_image_id]['value'] # exactly from train! (i.e. we look for prototype in train data)\n",
    "    df_x.loc[len(df_x)] = [test_run_id, incorrect_infer_image_id, image_value, engram_id, engram_image_value, cos_sim_value]\n",
    "\n",
    "df_x.sort_values(by='sim', ascending=False).head(10)"
   ]
  },
  {
   "cell_type": "code",
   "execution_count": 18,
   "id": "5ff3a026-80df-4d27-af26-5939c7a1ae64",
   "metadata": {},
   "outputs": [
    {
     "data": {
      "text/html": [
       "\n",
       "        <div style=\"display: flex; flex-flow: row wrap; text-align: center;\">\n",
       "        \n",
       "            <figure style=\"margin: 5px !important;\">\n",
       "              <img src=\"data:image/png;base64,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\" style=\"height: auto\">\n",
       "              <figcaption style=\"font-size: 0.6em\">5</figcaption>\n",
       "            </figure>\n",
       "        \n",
       "        </div>\n",
       "    "
      ],
      "text/plain": [
       "<IPython.core.display.HTML object>"
      ]
     },
     "execution_count": 18,
     "metadata": {},
     "output_type": "execute_result"
    }
   ],
   "source": [
    "image_data = test_run_source[0].loc[incorrect_infer_image_id]['png']\n",
    "image = Image.open(io.BytesIO(image_data))\n",
    "label = test_run_source[0].loc[incorrect_infer_image_id]['value']\n",
    "display_images([image], captions=[label])"
   ]
  },
  {
   "cell_type": "code",
   "execution_count": 19,
   "id": "0c9b40bc-7e09-40a6-947b-090d0ef463a2",
   "metadata": {},
   "outputs": [
    {
     "data": {
      "text/html": [
       "<div>\n",
       "<style scoped>\n",
       "    .dataframe tbody tr th:only-of-type {\n",
       "        vertical-align: middle;\n",
       "    }\n",
       "\n",
       "    .dataframe tbody tr th {\n",
       "        vertical-align: top;\n",
       "    }\n",
       "\n",
       "    .dataframe thead th {\n",
       "        text-align: right;\n",
       "    }\n",
       "</style>\n",
       "<table border=\"1\" class=\"dataframe\">\n",
       "  <thead>\n",
       "    <tr style=\"text-align: right;\">\n",
       "      <th></th>\n",
       "      <th>engram_value</th>\n",
       "      <th>sim</th>\n",
       "      <th>true_value</th>\n",
       "    </tr>\n",
       "    <tr>\n",
       "      <th>engram_id</th>\n",
       "      <th></th>\n",
       "      <th></th>\n",
       "      <th></th>\n",
       "    </tr>\n",
       "  </thead>\n",
       "  <tbody>\n",
       "    <tr>\n",
       "      <th>79</th>\n",
       "      <td>3</td>\n",
       "      <td>3.862693</td>\n",
       "      <td>5</td>\n",
       "    </tr>\n",
       "    <tr>\n",
       "      <th>20</th>\n",
       "      <td>8</td>\n",
       "      <td>3.840800</td>\n",
       "      <td>5</td>\n",
       "    </tr>\n",
       "    <tr>\n",
       "      <th>233</th>\n",
       "      <td>5</td>\n",
       "      <td>3.744116</td>\n",
       "      <td>5</td>\n",
       "    </tr>\n",
       "    <tr>\n",
       "      <th>200</th>\n",
       "      <td>5</td>\n",
       "      <td>3.571549</td>\n",
       "      <td>5</td>\n",
       "    </tr>\n",
       "    <tr>\n",
       "      <th>237</th>\n",
       "      <td>5</td>\n",
       "      <td>3.424872</td>\n",
       "      <td>5</td>\n",
       "    </tr>\n",
       "    <tr>\n",
       "      <th>...</th>\n",
       "      <td>...</td>\n",
       "      <td>...</td>\n",
       "      <td>...</td>\n",
       "    </tr>\n",
       "    <tr>\n",
       "      <th>288</th>\n",
       "      <td>4</td>\n",
       "      <td>0.056177</td>\n",
       "      <td>5</td>\n",
       "    </tr>\n",
       "    <tr>\n",
       "      <th>146</th>\n",
       "      <td>3</td>\n",
       "      <td>0.055770</td>\n",
       "      <td>5</td>\n",
       "    </tr>\n",
       "    <tr>\n",
       "      <th>320</th>\n",
       "      <td>2</td>\n",
       "      <td>0.055655</td>\n",
       "      <td>5</td>\n",
       "    </tr>\n",
       "    <tr>\n",
       "      <th>133</th>\n",
       "      <td>6</td>\n",
       "      <td>0.055636</td>\n",
       "      <td>5</td>\n",
       "    </tr>\n",
       "    <tr>\n",
       "      <th>60</th>\n",
       "      <td>3</td>\n",
       "      <td>0.055534</td>\n",
       "      <td>5</td>\n",
       "    </tr>\n",
       "  </tbody>\n",
       "</table>\n",
       "<p>112 rows × 3 columns</p>\n",
       "</div>"
      ],
      "text/plain": [
       "          engram_value       sim true_value\n",
       "engram_id                                  \n",
       "79                   3  3.862693          5\n",
       "20                   8  3.840800          5\n",
       "233                  5  3.744116          5\n",
       "200                  5  3.571549          5\n",
       "237                  5  3.424872          5\n",
       "...                ...       ...        ...\n",
       "288                  4  0.056177          5\n",
       "146                  3  0.055770          5\n",
       "320                  2  0.055655          5\n",
       "133                  6  0.055636          5\n",
       "60                   3  0.055534          5\n",
       "\n",
       "[112 rows x 3 columns]"
      ]
     },
     "execution_count": 19,
     "metadata": {},
     "output_type": "execute_result"
    }
   ],
   "source": [
    "df_x_pivot = pd.pivot_table(df_x, index='engram_id', \n",
    "                            values=['true_value', 'engram_value', 'sim'], \n",
    "                            aggfunc=dict(engram_value='first', true_value='first', sim='sum'))\n",
    "df_x_pivot.sort_values(by='sim', ascending=False)"
   ]
  },
  {
   "cell_type": "code",
   "execution_count": null,
   "id": "4b970735-532f-4a82-adfa-2df3f534203b",
   "metadata": {},
   "outputs": [],
   "source": []
  },
  {
   "cell_type": "code",
   "execution_count": 20,
   "id": "13076351-aaf9-4ef1-9e86-a77ee51ab0c0",
   "metadata": {},
   "outputs": [
    {
     "data": {
      "text/html": [
       "<div>\n",
       "<style scoped>\n",
       "    .dataframe tbody tr th:only-of-type {\n",
       "        vertical-align: middle;\n",
       "    }\n",
       "\n",
       "    .dataframe tbody tr th {\n",
       "        vertical-align: top;\n",
       "    }\n",
       "\n",
       "    .dataframe thead th {\n",
       "        text-align: right;\n",
       "    }\n",
       "</style>\n",
       "<table border=\"1\" class=\"dataframe\">\n",
       "  <thead>\n",
       "    <tr style=\"text-align: right;\">\n",
       "      <th></th>\n",
       "      <th>engram_value</th>\n",
       "      <th>sim</th>\n",
       "      <th>true_value</th>\n",
       "    </tr>\n",
       "    <tr>\n",
       "      <th>engram_id</th>\n",
       "      <th></th>\n",
       "      <th></th>\n",
       "      <th></th>\n",
       "    </tr>\n",
       "  </thead>\n",
       "  <tbody>\n",
       "    <tr>\n",
       "      <th>79</th>\n",
       "      <td>3</td>\n",
       "      <td>3.862693</td>\n",
       "      <td>5</td>\n",
       "    </tr>\n",
       "    <tr>\n",
       "      <th>20</th>\n",
       "      <td>8</td>\n",
       "      <td>3.840800</td>\n",
       "      <td>5</td>\n",
       "    </tr>\n",
       "    <tr>\n",
       "      <th>233</th>\n",
       "      <td>5</td>\n",
       "      <td>3.744116</td>\n",
       "      <td>5</td>\n",
       "    </tr>\n",
       "    <tr>\n",
       "      <th>200</th>\n",
       "      <td>5</td>\n",
       "      <td>3.571549</td>\n",
       "      <td>5</td>\n",
       "    </tr>\n",
       "    <tr>\n",
       "      <th>237</th>\n",
       "      <td>5</td>\n",
       "      <td>3.424872</td>\n",
       "      <td>5</td>\n",
       "    </tr>\n",
       "    <tr>\n",
       "      <th>...</th>\n",
       "      <td>...</td>\n",
       "      <td>...</td>\n",
       "      <td>...</td>\n",
       "    </tr>\n",
       "    <tr>\n",
       "      <th>288</th>\n",
       "      <td>4</td>\n",
       "      <td>0.056177</td>\n",
       "      <td>5</td>\n",
       "    </tr>\n",
       "    <tr>\n",
       "      <th>146</th>\n",
       "      <td>3</td>\n",
       "      <td>0.055770</td>\n",
       "      <td>5</td>\n",
       "    </tr>\n",
       "    <tr>\n",
       "      <th>320</th>\n",
       "      <td>2</td>\n",
       "      <td>0.055655</td>\n",
       "      <td>5</td>\n",
       "    </tr>\n",
       "    <tr>\n",
       "      <th>133</th>\n",
       "      <td>6</td>\n",
       "      <td>0.055636</td>\n",
       "      <td>5</td>\n",
       "    </tr>\n",
       "    <tr>\n",
       "      <th>60</th>\n",
       "      <td>3</td>\n",
       "      <td>0.055534</td>\n",
       "      <td>5</td>\n",
       "    </tr>\n",
       "  </tbody>\n",
       "</table>\n",
       "<p>112 rows × 3 columns</p>\n",
       "</div>"
      ],
      "text/plain": [
       "          engram_value       sim true_value\n",
       "engram_id                                  \n",
       "79                   3  3.862693          5\n",
       "20                   8  3.840800          5\n",
       "233                  5  3.744116          5\n",
       "200                  5  3.571549          5\n",
       "237                  5  3.424872          5\n",
       "...                ...       ...        ...\n",
       "288                  4  0.056177          5\n",
       "146                  3  0.055770          5\n",
       "320                  2  0.055655          5\n",
       "133                  6  0.055636          5\n",
       "60                   3  0.055534          5\n",
       "\n",
       "[112 rows x 3 columns]"
      ]
     },
     "execution_count": 20,
     "metadata": {},
     "output_type": "execute_result"
    }
   ],
   "source": [
    "df_x_pivot = pd.pivot_table(df_x, index='engram_id', \n",
    "                            values=['true_value', 'engram_value', 'sim'], \n",
    "                            aggfunc=dict(engram_value='first', true_value='first', sim='max'))\n",
    "df_x_pivot.sort_values(by='sim', ascending=False)"
   ]
  },
  {
   "cell_type": "code",
   "execution_count": 21,
   "id": "741528e7-cb1b-4583-93eb-c9c8425c70be",
   "metadata": {},
   "outputs": [
    {
     "data": {
      "text/plain": [
       "np.int64(1)"
      ]
     },
     "execution_count": 21,
     "metadata": {},
     "output_type": "execute_result"
    }
   ],
   "source": [
    "df_test_results_incorrect_infers.loc[incorrect_infer_row_index]['test_run_id']"
   ]
  },
  {
   "cell_type": "code",
   "execution_count": 22,
   "id": "75cc7cda-ca51-48b0-8fd1-b21a9244fcb5",
   "metadata": {},
   "outputs": [
    {
     "data": {
      "text/plain": [
       "np.int64(396)"
      ]
     },
     "execution_count": 22,
     "metadata": {},
     "output_type": "execute_result"
    }
   ],
   "source": [
    "incorrect_infer_row_index"
   ]
  },
  {
   "cell_type": "code",
   "execution_count": null,
   "id": "173a27b8-9f22-47c0-a23a-ca3669ac1222",
   "metadata": {},
   "outputs": [],
   "source": []
  },
  {
   "cell_type": "code",
   "execution_count": null,
   "id": "88170617-5c38-4250-87af-edd152d31a51",
   "metadata": {},
   "outputs": [],
   "source": []
  }
 ],
 "metadata": {
  "kernelspec": {
   "display_name": "Python 3 (ipykernel)",
   "language": "python",
   "name": "python3"
  },
  "language_info": {
   "codemirror_mode": {
    "name": "ipython",
    "version": 3
   },
   "file_extension": ".py",
   "mimetype": "text/x-python",
   "name": "python",
   "nbconvert_exporter": "python",
   "pygments_lexer": "ipython3",
   "version": "3.12.2"
  }
 },
 "nbformat": 4,
 "nbformat_minor": 5
}
