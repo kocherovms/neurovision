{
 "cells": [
  {
   "cell_type": "code",
   "execution_count": 27,
   "id": "27532844-1826-4299-b063-16a22e592f3f",
   "metadata": {},
   "outputs": [],
   "source": [
    "import os, math\n",
    "from collections import defaultdict, namedtuple\n",
    "import itertools\n",
    "import sqlite3\n",
    "\n",
    "import logging\n",
    "import logging.handlers\n",
    "\n",
    "from PIL import Image, ImageDraw\n",
    "from tqdm.notebook import tqdm\n",
    "\n",
    "from sklearn.model_selection import train_test_split\n",
    "import matplotlib.pyplot as plt\n",
    "import scipy\n",
    "import numpy as np\n",
    "import cupy as cp\n",
    "import pandas as pd\n",
    "\n",
    "from utils import *\n",
    "from hdc import *"
   ]
  },
  {
   "cell_type": "code",
   "execution_count": 28,
   "id": "73358262-adf2-4d17-a383-f120a5d1f8aa",
   "metadata": {},
   "outputs": [
    {
     "name": "stdout",
     "output_type": "stream",
     "text": [
      "xp = numpy\n"
     ]
    }
   ],
   "source": [
    "config_var = 'SQLITE3_MULTI_GRID_RETINA'\n",
    "config = Config(config_var)\n",
    "RNG = np.random.default_rng()\n",
    "\n",
    "if cp.cuda.is_available():\n",
    "    device_marker = cp.empty(1)\n",
    "    xp_array_from_gpu = lambda a: a.get() if isinstance(a, cp.ndarray) else a\n",
    "    xp_array_to_gpu = lambda a: cp.asarray(a) if isinstance(a, np.ndarray) else a\n",
    "else:\n",
    "    device_marker = np.empty(1)\n",
    "    xp_array_from_gpu = lambda a: a\n",
    "    xp_array_to_gpu = lambda a: a\n",
    "    \n",
    "xp = cp.get_array_module(device_marker)\n",
    "print(f'xp = {xp.__name__}')\n",
    "\n",
    "log = logging.getLogger('kmslog')\n",
    "log.setLevel(logging.DEBUG)\n",
    "\n",
    "if not log.hasHandlers():\n",
    "    log.addHandler(logging.handlers.SysLogHandler(address = '/dev/log', facility=logging.handlers.SysLogHandler.LOG_LOCAL0))\n",
    "\n",
    "train_db_con = sqlite3.connect(os.path.join(config.dataset_path, config.train_db_file_name))\n",
    "test_db_con = sqlite3.connect(os.path.join(config.dataset_path, config.test_db_file_name))"
   ]
  },
  {
   "cell_type": "code",
   "execution_count": 29,
   "id": "d2dd62ab-b44e-4251-9e86-d41b3672e36e",
   "metadata": {},
   "outputs": [
    {
     "name": "stdout",
     "output_type": "stream",
     "text": [
      "CPU times: user 6 μs, sys: 1 μs, total: 7 μs\n",
      "Wall time: 13.4 μs\n"
     ]
    },
    {
     "data": {
      "text/plain": [
       "((10000, 3), (2000, 3))"
      ]
     },
     "execution_count": 29,
     "metadata": {},
     "output_type": "execute_result"
    }
   ],
   "source": [
    "%time\n",
    "df_train_images = pd.read_sql_query('SELECT * FROM images', con=train_db_con, index_col='image_id')\n",
    "df_test_images = pd.read_sql_query('SELECT * FROM images', con=test_db_con, index_col='image_id')\n",
    "df_train_images.shape, df_test_images.shape"
   ]
  },
  {
   "cell_type": "code",
   "execution_count": 30,
   "id": "70b21219-4f16-4824-90ec-7bda1574c5d1",
   "metadata": {},
   "outputs": [
    {
     "data": {
      "text/html": [
       "<div style=\"\n",
       "        display: grid; \n",
       "        grid-template-columns: repeat(8, 128px);\n",
       "        column-gap: 1px;\n",
       "        row-gap: 1px;\">\n",
       "        \n",
       "            <figure style=\"margin: 5px !important;\">\n",
       "              <img src=\"data:image/png;base64,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\" style=\"height: auto\">\n",
       "              <figcaption style=\"font-size: 0.6em\">5</figcaption>\n",
       "            </figure>\n",
       "        \n",
       "            <figure style=\"margin: 5px !important;\">\n",
       "              <img src=\"data:image/png;base64,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\" style=\"height: auto\">\n",
       "              <figcaption style=\"font-size: 0.6em\">2</figcaption>\n",
       "            </figure>\n",
       "        \n",
       "            <figure style=\"margin: 5px !important;\">\n",
       "              <img src=\"data:image/png;base64,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\" style=\"height: auto\">\n",
       "              <figcaption style=\"font-size: 0.6em\">1</figcaption>\n",
       "            </figure>\n",
       "        \n",
       "            <figure style=\"margin: 5px !important;\">\n",
       "              <img src=\"data:image/png;base64,iVBORw0KGgoAAAANSUhEUgAAAIAAAACACAAAAADmVT4XAAALHUlEQVR4nO2aWVPjSBKAs+7S5RODObtnd2Jj//+v2dgrpqcB40uy7quOfbChZ6aBsWzolyVNECFRcn5klvKSAD7kQz7kQz7kQz7k/13QD1CBMEYILABCCCFAYI3W2m7/St8fAJgQHIO1iDBGMUGgqjwt2h8GgEUv8Bhoi7jrSEqpqZPFrPlxADIYjfsClMFOEHicM5MvabGBHwKAKJP+6HQylKAMdvt9XwhmMiefPSp+WwBMKQILQBijlGCMCKXSG5yMB1sL9HoeF9Tmeubg9wFwJAVjsPQD3xWcUYIpk36/53HQBgvXlZRT6JV9Sd4FgPs9YZWh/slk0vddKTDChAopOQFrEeGMEUKQCX3xLhbAwWjk2FazwfnV+cnA9yQGQBgRjLdxACOMEEbgCvIYgI4AwARjBGABwfYH9U9Px45tNRueX1+cDAPvhTBn0bcAeASAEwQuA2sA4Z34o3FfWqVp7/TsbNBzXrhQ12Wt7NEAyLu4mDhIacCUUsooIdL3PWa1xW6v3/f4S1cWSZTV5mgAHFz8/aaH2hYo55xxzgllnGEwgCiXnL2UZvJ4sdyU+mgA5p/99Lc+blogQgguBacIEKCti9GLaS6NlvcPm/I4CyDA2AmGk+lgB8C5eCWvGq2NNtporU2TbtYPd+tCHQeAKQ/6g8EwQEoBYYyR15bbuqrqqqrLsqqbMovXy4f0OBcgwt1+P/BdgagBRAh+dbkq4jRN0zSOk6xp6irP4rQ9CgBT7vYCzxEUsAWEXi9rbLZZhZsojNbLdVIbo3XbtsdagEnPcwR/zvIWrIXHDwCYeL1arsNwHS4Xq9j+YfWhdwGmjFH6rOd126q2VW3btgoAwKSbMNzEcRSH4ea71YcBGECEvGR4XeRFmRdFnhWVAQBbZVmW50WeZ8X3qw+0ACaUEAzmOROUSRTHcRyHYZwZALCqbZqmbdumUd+vPgyAcsd1BUV/dCgAQBotV2G4jtbL5To2AAB2J2DN98sPAcDY6Y0mk6HHdiestcYYY7TWpo7Xq1UUhWG4Wob61e85GABxf3zx6epi+Bj9kFZNU9dVmRdVlcXxJkmTJInTPfQfBECd/vTTz5fTsbMDsKrK8yyNN6swruqyKMuqKqvHyv/NAZjbPzn/9JeLkSd3Z+oiSzab9XpxN1tVWmmltdZKP7dDjgVAQITXP5leXJ6fBQwhALC2TJN4E4Wr5ezr7aLp9oXdADBlTAbD8dnl9ekwkAAAum2aOFyFm3gTrReLdVf93QCIdP3BZHoxHZ+f+ttbwBRpvLifzdMiT9NNXHfV3w2AOsOT0+vPN1MvCOQ2AdbpYn77yy+zom3quir3cvvhAMwfX1z99PPnKSEUIwAAla5nt7/8+793tTXWmGcCzVsCYNmfXF5dXZ73AADAaK3j+d3t19u72aq75gMAiDO6/OnqfORtD3WaZOvZ3d39bJUerL8bgHty89fp0NtloCa8W8zvZ/PVJtkr5BwPIHuTq88nQuwOi+UvX+5mizCp6wN83xUAWXB6w8nZdPBYb9fR/Ot/7ubruATovvk7A2Ame9PpycDfbv6madKvX2/v56tNdbjyLgDUH51d3pzu/N/E0Sb88p/bhzDvHPoOBehdfLr5PHG2xm6i29v511/v1vkx7u8EQPzT68+XQ7Etwpp49t+vs4fVRplnq6L3AJC98WQU7DpeVUTz+/kqLo9TDgDwekvzTRDljutwur0FdJ1twjB+psh9NwBAhFJKd6W4acosy99CfwcAhDF+bAWs1Vofu/26ASBEKCV4txwRJhzXe7Ul3lP2joRM+oFk2yQM1B2eKSerKq2U1taCtYek4i4AWASjsf84XZOjGziNsqIos7yolLFGHRqQOgAMR/yxG5QTPE6TLEvi9SpMa21UbfZpAo4AQFQ44ulIjIOLJs+SzWrmy6hsTVtic1hO3jsdG9Xop1EEpS5AkyebgBPqFq1uC89JKmuN7RoY9wXQ+XrmC8dl305xSikG4p6USqsyS9OsytL8mQb4TQDa+PafejAhvwEALA1gZ1Q02pi6KrJ4dX9bvxtA9IUWl9bzf3sSS8x7dautNVo1efirU8ddy4N9AVRyD1XjDIe/HcBiRh1jLVgAA7pY+00Y1h0D9N57oIywFYOhF2zn0gQA4PdDmp6sVsuCbYq67RCU9gUwTY6s8Bw7EFwIIZ+Lwv7JTSmn9w+L+B0AbAvWMI6LUeD7QYCfG4WT3hWbLv71j6bosBP3BtBWtxibbDwcDoYtFuyZRe60/2ntVOuwQ6GyN4A1qkbYVkmSZmWjzeBxOoGefiMhBjDK7n9dNOXepVqn5rRMsK6KNN6E60VPIoQwxpgSxjh7Ghf3xmfnEYrLdk83dAJQJdZVFvq+HwQux4RSypmUftDzJHqsLLzJTcnm6+Q9AEAVqkw451wIRinlXDjS740mE2MR2t4Ylo9uFENtseesohuANm2B8O7DmBSO5/WGp6W22niCAAAoNry0UEZ7NxydAAz8LusL6XhuP621rvPxIHARBoR40Opi4exb6x314LJum6aqq7rYPIwvzqcDwQhG3LOQ9J1968XjnpyaFnRbZdHMHX8uLAQuIEQlwuue+CEWADCtact0Tci45IHLGLGYIML6Hv9RAEZtA1E9jPJGGQuIECY8+eJTwzcGgN1wAhHKGCO7qh1JRn4cAACA652dngwDSR/7hr31vw1AMB5ff76cDDv8428K4IwvLm8+X4x75LFqbtXeFcErAAhh9O0ZsLUWYPts+A//JRmfXV5fT4c+3y00Nq/3JngZADHOOaOEYISsNUopA4hsC7KnRdYCsPHlzfX0tL/rW1RT12Gy9+jmFQDuB57rCEYJsqati0ohwhillBL0OJiz1iA+vry6GA1243NQeRI/hMVbAPRORv3AFZwiUHWeZg2iUjAuGPsGoA0S4/OLU1fuYp+t0+Xifr13g/IyABb90+mo7zuCYquqdJPUiDkOF5IzDLsWzGqDxPDsdMwe958q4uXt7E0s4AzOr0c9TwqCra6yIK0Rkw4T4ncAFvH+ePRYn1lTZeF8No/KfZvlVyzgntz83HMlZwSBbspB0QLlgjJOyRMAWIu59+11FaTKeHl/OwuLNwJwGSMYI2tV2zQaMKWYEILRt+kwwlTIp4tMnUbz+/t59AYASA6mVxLtfGuNMXb7RuI2NmwJEEII46fAYIskWs5nD+u0fgMAIr3+c9X/d2LN7mWBqszC2cN8FSXlW0TCPYfwrdLaaKXaVhV5Gi6+zKKs2n9e8zKA1U1Z9P/0C6q8brRq6yLPyyxJN9HqId7b/q8CQFvEEfX+5PomifJaqSaPo00SJ0laFFneZVr0MoBpsvUCK/fVbaA3y1VSKVWn0XIVxXGWt8YY02FQ9IoL6nhxq3NPim1aRNtEZ639lghssVwsklqpOotWq02S7B0A9wAwxfILbAaBKxmjlBKCQaum0doYA4DAGqN1vlqs0kbrpkziOM27638NIF+QbNbv+Z50HMEFI9CWRdG0rdYWITBaN20WrsJcG6Obqiir5oBx7cslFPb8ftAL+oHv+b4rHUmhzuKsqpp2C9Cqqs42UVyZ7fRc6U7O/1MAxKiUjt8LAj8IPMeVDKp0k5RV3aotQFtVeRIf+djqlSISI8KE43ue53mudASFOk/SumrUFkCpui7z7MAZ8aO8EgcMWKO1qjIppeCcEWiromzbVhuLAKzWbVt3iTldAQCsUaBrSimlhBAEpm2VfvL09r2dI/W//no/AoTQb1Lg7n2kpzgA28MP+ZAP+ZAP+ZAP+ZCj5H9KZuJBsKjgJAAAAABJRU5ErkJggg==\" style=\"height: auto\">\n",
       "              <figcaption style=\"font-size: 0.6em\">5</figcaption>\n",
       "            </figure>\n",
       "        \n",
       "            <figure style=\"margin: 5px !important;\">\n",
       "              <img src=\"data:image/png;base64,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\" style=\"height: auto\">\n",
       "              <figcaption style=\"font-size: 0.6em\">5</figcaption>\n",
       "            </figure>\n",
       "        \n",
       "            <figure style=\"margin: 5px !important;\">\n",
       "              <img src=\"data:image/png;base64,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\" style=\"height: auto\">\n",
       "              <figcaption style=\"font-size: 0.6em\">4</figcaption>\n",
       "            </figure>\n",
       "        \n",
       "            <figure style=\"margin: 5px !important;\">\n",
       "              <img src=\"data:image/png;base64,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\" style=\"height: auto\">\n",
       "              <figcaption style=\"font-size: 0.6em\">3</figcaption>\n",
       "            </figure>\n",
       "        \n",
       "            <figure style=\"margin: 5px !important;\">\n",
       "              <img src=\"data:image/png;base64,iVBORw0KGgoAAAANSUhEUgAAAIAAAACACAAAAADmVT4XAAAMGElEQVR4nO2aZ3PbSNLHewY5EkQiwSA5yHdXdd//s1zdec8SA0AwIOd8L+S1vV7JpiSvnucF/6UqqmrE7h+me2Z6GgK46KKLLrrooosuuuii/2Oh1/GCSYqhiaFr267t2v6bIfJVAIBgFXXEDFWelXlR1K8MgBCmpcnSEvs08OMQtc3wugCYpETVen896sI9x0Kdfzv4CgCI4gV1ulxeK42I+6GMiVcGGChlas3fXVtyTXZtn3l/8PkaIaCNdzeL5UTjatQ2dcC/OgA/+fDPpSHyZNlIo1hgXjsEtGZdv5+PSDQ0GBMY/XHr+UsBECYpmpavlzNTJQC6KouDIC27VwMAUlBURb+5mcoEQJeH7t1664TVqwFgWp5dL6dXVwYLMOTRYfXvT3YQlt/sQ38pAMGK2uLvHxbmWCKgLaKjc/fx466qm2//6CUACBBBUSQBQzd0bfvtGYMAYYoVVWtx/W6ucHioithzHdt2jt8ZeQEAJiiKkySBQdA2RRLHxZepRZggGWGkmsu3c1PlAJo8OO7sleOn31t5CQDNi6o51UUC6iLYbdqvsUUEw0ra1JrNrmYjFqAvo/16td3s4vp7Ky8AIFhZs968XyokKmP3P3UYfokBpjhZm729XpqGyiPoisR3bj9uDl42fG/l+QCYERRj/u4f73QScl/Mdxz+apWV1Mni7fulJjFk35aJf3BWt9ugaP5k5nkACBCmhZGqm5PpVADgh0hkKQJ9fj5MS5o1W8yticwAtEXs7x3HPXjJn/0/dwYIguJk1ZgYqswDAAJABEnV/T0B5sazN4ulpYoMwFAnB8febvZR/oD/ZwJgkmZl1ZiY+ogBAEizvO4JivicBASvX90sp4ZMAUCd+86nleOcsvYhU88FYCVFM01TE6mOhCwMoqwBEt/HALGivni71EQGDVDn0cm+vd35cdU/ZOqZADQvjzXd0BWBHPoqCYMwrfrP5xxmRUWfWNMRDX1XF7F32NnbY1K2vxKAEce6YRqaIjCoLZPA88Ks6oYBAFG0rBuGpsg0AK7z4OTa7jGIyuZPK/AlAKysmhNTV2WeHto8Orn7U5RX3QAAjGxYljHiaQCAJt5v7ZXjJ9Uj/p8JQHKKYU4MTREY3Fapv9/tDmFedQCAWdVazA2JRgDQFb5zu7HdsHwwAZ8PwIhjwzRVRaTxUGWRd3D3XpQ3PQCQgjqdW5pIAQDk8clerQ9eWj8Y/+cBIIRoYaQZpjoSGNRXaegdD0cvyuseACFGVKczUxEo6LrSP7ju7uDFxWMBeAYAwgTFKbppmarEo6GMvf3OPRzDtGwAYCAYSZ/OJqrIQJUE++3aPvrJD/w/A4CgOVk1LGsiCxia1Ns5trP3oqIeAABR3MiwZrrMw5Af7c125Zzi4uEF+EwAguZkzZhMJhrDQJcHB2dru8cgbzsAwBQ/Uo3pRGYxVLF7+8l29mHWdT+w91QAghFkdTI19bGEALLQcx3HPYZpDQAURTGKYRjamANoI2+3Xu0OQVr+0ODTADBmxLFuza6mYxFBXXhHZ2s7hzCtAUiK50VJny/NEQd1ke43G9s9htmP/T8VgOZHk6s3y8lcpaFL/J27utvs/SgHAEYYq4Y5nS4tGSA57p3VrX2I8vrx/Hs6ACJZSZ3f/O16NJYAysBZ26u142VZB0AJqjm7vlroY42Hyl/fbjfbXZDXP4r/kwFIVhqb83cfrhmaBkiO29VmY+/jtgUAQTFmb24+XI0ohoD0tP643h2DpBl+MgFPAECA+ZFuzWbWVAPouvy0t23HPYUVIILgNXM2XywXCxKg76KTu90eg5/F/2kAQDDyZHG1vDJkgCpJw83dauN6UQVAC7wymS/my6lKAnR5fjocjqcor35u9CkzQPHj+c37xUSloQsPh+Pm7s724hwARF0zZ4u5ZegCAGRhsNsf/Cj/wf73DABMcbJx9eHvligQkAXO2tlu7WNcDQCcYs1ni8XMkHkSIA+Pe9v1ouzxA+g5AJjhRsZ0fn09IREaqsTfO7uDd38ZkrXZ9WIxn4wZjKCKPNe2935anuX/TACEWUkxrKu5qTIAMPRdXZZlWbdAUiQzsebL2VQf8wBNkxx3m7VzjIqfrb8nAQAlGLPl8moxZgEABgBMYIIgKYIRBHHx9s21oUoMQJUl/vbT7do7JX+6g70IADMj6+bDlWXI97cfRNKcIPDCgHhlrC3evl2OeBZDmwXe/tPH3zZZlp85AecBYF7W5u/+ca3eF3owIIqTlKLoGULUTXP+ZmmxJAFDmSf+YbfdbJquPy8DHgVACBD8/sOykjqbLxYzCcH9yiIoXi6blspJyZhMrKkxxgDQ913bNlWZF49WgOcCECRFkgRJYAJjTHC8rM7eWGMRfe6uI5JXOpIV4pIUVF3TVREDAGCKFUe5pvtl0TTtOZvA4wAsz7MsQ9M0SVI0L8qKPp3cexkQAGYkYEZ6kjeYEWVJlu8jAxwQNNP3iA2jOHvoIng2AMkpiiQIPMfSDMOKkiyLokgPCGCAAQFQAiXWdVV3iKBphmF/bz1ytCgghFnX7cuXAfBjU5UlQeBZluNESeYZjNHXkw3RFD/0Qz8AQghh/KX3SBCgJkndZAHxoOGzAQR1aiiSIHAsy3KCJHztPcAw9DAgQJj65gtD3/d9D8MAeVrUbd+fmQGPAkjGwhrzHMvRDMNw3LdjCPVt3w+ASepbrKas6qZumuzg2u4xrl62D1CSebVQWIqiKZKi6O9Gu6Zumh5TLMd88d8WaZJmaZbFp+PBj+LshQCiPlsqJMIEgdH30azysqiqFrFC21EkAgDo6iIOvTAIwjDy/CCt6uZlAAQ70gwZwQBoGIYe4H4DQgigKbKsKMqqI/meJBHCaGjbKk8D/+R7nu+HYZwUZ2fAowCMII8AAAEMTds0TdO2bdcDAtQUWVZVTYeZMSH0gPHQ5kkQRkEQhEEQhklyTiH2MwBMceLnX+s8L7IsK4qirAeEUFvkedMDwcg1owwYA7SJvd15YZJkaZpmRXnuOfgjAISJzwNlEkdxGIZRFKdFhxDuqrLqCYqXdUprBgTQV8HmX7eHuKiruq7rs/fgHwIMfdsAAHR5GgaB75083/ejrAVMDG3TYZYftXRRd8MAQ5EcNx//vc+avu+HfvhpHX4WQFfGR3YY2rRIwtAPTp7n+370+9wSDBAMyzE0ibqyCg+u4ziHM3feMwEqfy0FXVdlRZ7GcRyFYRx96TMLsqyMNW2yMGSqy/z97s7x4uf6fwSgOPxWyU1d5HVdFkWRF3nxpc0pW9OJoWqqqpljqgy2d9s7J3pa4v0coDyiE1MXed71bdfe6/MQa759dz3VVFniBLYuTquPa/uQnlv/nAtQhY2H6jwrh89b0JcPJOnz9+8tTREYQH0R7Ler9SE+twQ+G6ArunRoiu+fCxEEJavm1JqMZQAo0qO9ddxjWDzchX0BQN/0qH+gs0NygqobhjYSASA7He3Np+0pKn56B38yAPQDemBBY1Yam6aujjgMUHvb1Wq73QV50z1x7f8c4Gvo/yCaH0+mE10RKIA62K8/3jkHLynPrz7OBoAHHh8hzCvmbGaOJQ76Jjy69nazD5L8CTX4+QAPiWCVyfLNYq6LAHnk7u42ziFInnIHeCEALWrz9zczXeWhi+277Wq1D9KzS6+XA9C8Yi7ffTAFEaA4rX5bb91jXL0k/54EQLLC2JzOFwsVI+iDw/ZutffjvHswWX81AEnTNC9I4+n1zFAIqMrMsW3n4L00/84FQJwyVkYjeWzMFhoFpe956/9u9n76+FuIXw1gXs0MVRkpY00CiJy1s1lvT0n1xNrn+QC8fn1j6WNJYBgGMt/+bWW7hzB/cf6dC0CwI3M2NxSeARja2HO3d64Xpb9i/s8CwBQryOPxSKAB6qo47t3d3ot/Rf6dA4AGRDAsx/Msibq+zpPEcdzDKfkl+XcOAABgmqZINDRD15RJFOxs14sefQv4lwAQaKjLtIW6KuLAc3fHMH3R+fdUABjq1N+XdF+XRRL6x0Pwq/LvTIC+jl06F8i+qao8iUMvPqcJ/qsABhi6MkCpTRN917ZVVRTpL52AM/6pFRMUw1AEgn7o+65rm7Z5fgl60UUXXXTRRRdddNFF/w/1P0D4R2fnb5tXAAAAAElFTkSuQmCC\" style=\"height: auto\">\n",
       "              <figcaption style=\"font-size: 0.6em\">4</figcaption>\n",
       "            </figure>\n",
       "        \n",
       "            <figure style=\"margin: 5px !important;\">\n",
       "              <img src=\"data:image/png;base64,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\" style=\"height: auto\">\n",
       "              <figcaption style=\"font-size: 0.6em\">3</figcaption>\n",
       "            </figure>\n",
       "        \n",
       "            <figure style=\"margin: 5px !important;\">\n",
       "              <img src=\"data:image/png;base64,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\" style=\"height: auto\">\n",
       "              <figcaption style=\"font-size: 0.6em\">7</figcaption>\n",
       "            </figure>\n",
       "        \n",
       "            <figure style=\"margin: 5px !important;\">\n",
       "              <img src=\"data:image/png;base64,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\" style=\"height: auto\">\n",
       "              <figcaption style=\"font-size: 0.6em\">7</figcaption>\n",
       "            </figure>\n",
       "        \n",
       "            <figure style=\"margin: 5px !important;\">\n",
       "              <img src=\"data:image/png;base64,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\" style=\"height: auto\">\n",
       "              <figcaption style=\"font-size: 0.6em\">0</figcaption>\n",
       "            </figure>\n",
       "        \n",
       "            <figure style=\"margin: 5px !important;\">\n",
       "              <img src=\"data:image/png;base64,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\" style=\"height: auto\">\n",
       "              <figcaption style=\"font-size: 0.6em\">8</figcaption>\n",
       "            </figure>\n",
       "        \n",
       "            <figure style=\"margin: 5px !important;\">\n",
       "              <img src=\"data:image/png;base64,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\" style=\"height: auto\">\n",
       "              <figcaption style=\"font-size: 0.6em\">4</figcaption>\n",
       "            </figure>\n",
       "        \n",
       "            <figure style=\"margin: 5px !important;\">\n",
       "              <img src=\"data:image/png;base64,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\" style=\"height: auto\">\n",
       "              <figcaption style=\"font-size: 0.6em\">5</figcaption>\n",
       "            </figure>\n",
       "        \n",
       "            <figure style=\"margin: 5px !important;\">\n",
       "              <img src=\"data:image/png;base64,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\" style=\"height: auto\">\n",
       "              <figcaption style=\"font-size: 0.6em\">3</figcaption>\n",
       "            </figure>\n",
       "        \n",
       "    </div>"
      ],
      "text/plain": [
       "<IPython.core.display.HTML object>"
      ]
     },
     "execution_count": 30,
     "metadata": {},
     "output_type": "execute_result"
    }
   ],
   "source": [
    "count = 8\n",
    "\n",
    "def get_some_random_images_and_labels(df, count):\n",
    "    image_ids = RNG.choice(df.index.unique(), count, replace=False)\n",
    "    image_datas = df.loc[image_ids]['png']\n",
    "    images = [Image.open(io.BytesIO(image_data)) for image_data in image_datas]\n",
    "    labels = df.loc[image_ids]['value']\n",
    "    return images, list(labels)\n",
    "\n",
    "train_images, train_labels = get_some_random_images_and_labels(df_train_images, count)\n",
    "test_images, test_labels = get_some_random_images_and_labels(df_test_images, count)\n",
    "\n",
    "display_images_grid(train_images + test_images, captions=train_labels + test_labels, col_count=count)"
   ]
  },
  {
   "cell_type": "code",
   "execution_count": 31,
   "id": "e5019d63-ce09-4130-ac07-b6ae15a84ab4",
   "metadata": {},
   "outputs": [],
   "source": [
    "COS_SIM_THRESHOLD = 0.055\n",
    "hdc = Hdc(10_000, xp)"
   ]
  },
  {
   "cell_type": "code",
   "execution_count": 32,
   "id": "fe4596eb-8b95-46f6-842c-e5819bad21b3",
   "metadata": {},
   "outputs": [],
   "source": [
    "DIGITS = hdc(10)\n",
    "DIGITS_NORM = hdc.normalize(DIGITS)"
   ]
  },
  {
   "cell_type": "code",
   "execution_count": 33,
   "id": "317bc435-b1be-4e25-8f4f-b9e3d35f522b",
   "metadata": {},
   "outputs": [],
   "source": [
    "class CorticalColumn(object):\n",
    "    def __init__(self):\n",
    "        self.assoc_hdvs = HdvArray(hdc.N, xp, 100)"
   ]
  },
  {
   "cell_type": "code",
   "execution_count": 97,
   "id": "1e8dc096-5076-4657-b22c-a489c2be1694",
   "metadata": {},
   "outputs": [],
   "source": [
    "COLUMNS = {}\n",
    "COLUMNS = {-1: CorticalColumn()}\n",
    "# COLUMNS.update(map(lambda i: (i, CorticalColumn()), range(config.cortical_columns_count)))\n",
    "TRAIN_RUN_ID = 0\n",
    "TEST_RUN_ID = 0\n",
    "\n",
    "df_test_results = pd.DataFrame(columns=['source_ds', 'test_run_id', 'test_image_id', 'true_value', 'engram_id', 'infer_value', 'sim'])"
   ]
  },
  {
   "cell_type": "code",
   "execution_count": 107,
   "id": "14a7a2e2-d118-40b4-b847-742398d68453",
   "metadata": {},
   "outputs": [
    {
     "data": {
      "text/plain": [
       "array([[4, 4],\n",
       "       [3, 3],\n",
       "       [3, 3],\n",
       "       [3, 3],\n",
       "       [3, 3],\n",
       "       [3, 3]])"
      ]
     },
     "execution_count": 107,
     "metadata": {},
     "output_type": "execute_result"
    }
   ],
   "source": [
    "a = np.array([[1, 1], [2, 2], [3, 3], [4, 4]])\n",
    "# a = np.array([[1, 2], [3, 4], [5, 6]])\n",
    "# np.compress([0, 0, 0, 1], a, axis=0)\n",
    "np.take(a, [3,2,2,2,2,2,], axis=0)"
   ]
  },
  {
   "cell_type": "code",
   "execution_count": 101,
   "id": "bc72b601-6398-4d84-9ce3-97e1a9a92bfa",
   "metadata": {},
   "outputs": [
    {
     "data": {
      "application/vnd.jupyter.widget-view+json": {
       "model_id": "b3687e1793d54566ab096a6231f7357c",
       "version_major": 2,
       "version_minor": 0
      },
      "text/plain": [
       "Columns:   0%|          | 0/1 [00:00<?, ?it/s]"
      ]
     },
     "metadata": {},
     "output_type": "display_data"
    },
    {
     "data": {
      "application/vnd.jupyter.widget-view+json": {
       "model_id": "324f3297edef490aa11ed46d3496a8da",
       "version_major": 2,
       "version_minor": 0
      },
      "text/plain": [
       "Epoch:   0%|          | 0/1 [00:00<?, ?it/s]"
      ]
     },
     "metadata": {},
     "output_type": "display_data"
    },
    {
     "data": {
      "application/vnd.jupyter.widget-view+json": {
       "model_id": "fc7302657f314cd98cc5f289ffdfddaf",
       "version_major": 2,
       "version_minor": 0
      },
      "text/plain": [
       "Image (train):   0%|          | 0/100 [00:00<?, ?it/s]"
      ]
     },
     "metadata": {},
     "output_type": "display_data"
    },
    {
     "ename": "AssertionError",
     "evalue": "[0. 0. 0. 0. 0. 0. 0. 0. 0. 0. 0. 0. 0. 0. 0. 0. 0. 0. 0. 0. 0. 0. 0. 0.\n 0. 0. 0. 0. 0. 0. 0. 0. 0. 0. 0. 0. 0. 0. 0. 0. 0. 0. 0. 0. 0. 0. 0. 0.\n 0. 0. 0. 0. 0. 0. 0. 0. 0. 0. 0. 0. 0. 0. 0. 0. 0. 0. 0. 0. 0. 0. 0. 0.\n 0. 0. 0. 0. 0. 0. 0. 0. 0. 0. 0. 0. 0. 0. 0. 0. 0. 0. 0. 0. 0. 0. 0. 0.\n 0. 0. 0. 0.]",
     "output_type": "error",
     "traceback": [
      "\u001b[0;31m---------------------------------------------------------------------------\u001b[0m",
      "\u001b[0;31mAssertionError\u001b[0m                            Traceback (most recent call last)",
      "Cell \u001b[0;32mIn[101], line 41\u001b[0m\n\u001b[1;32m     38\u001b[0m assoc_results_norm \u001b[38;5;241m=\u001b[39m hdc\u001b[38;5;241m.\u001b[39mnormalize(assoc_results)\n\u001b[1;32m     40\u001b[0m l \u001b[38;5;241m=\u001b[39m xp\u001b[38;5;241m.\u001b[39mlinalg\u001b[38;5;241m.\u001b[39mnorm(assoc_results, axis\u001b[38;5;241m=\u001b[39m\u001b[38;5;241m1\u001b[39m)\n\u001b[0;32m---> 41\u001b[0m \u001b[38;5;28;01massert\u001b[39;00m xp\u001b[38;5;241m.\u001b[39mall(l \u001b[38;5;241m>\u001b[39m \u001b[38;5;241m0\u001b[39m), l\n\u001b[1;32m     43\u001b[0m digits_proximity \u001b[38;5;241m=\u001b[39m assoc_results_norm \u001b[38;5;241m@\u001b[39m DIGITS_NORM\u001b[38;5;241m.\u001b[39mT\n\u001b[1;32m     44\u001b[0m digits_proximity_indices_recognized \u001b[38;5;241m=\u001b[39m xp\u001b[38;5;241m.\u001b[39margwhere(digits_proximity \u001b[38;5;241m>\u001b[39m\u001b[38;5;241m=\u001b[39m COS_SIM_THRESHOLD)\n",
      "\u001b[0;31mAssertionError\u001b[0m: [0. 0. 0. 0. 0. 0. 0. 0. 0. 0. 0. 0. 0. 0. 0. 0. 0. 0. 0. 0. 0. 0. 0. 0.\n 0. 0. 0. 0. 0. 0. 0. 0. 0. 0. 0. 0. 0. 0. 0. 0. 0. 0. 0. 0. 0. 0. 0. 0.\n 0. 0. 0. 0. 0. 0. 0. 0. 0. 0. 0. 0. 0. 0. 0. 0. 0. 0. 0. 0. 0. 0. 0. 0.\n 0. 0. 0. 0. 0. 0. 0. 0. 0. 0. 0. 0. 0. 0. 0. 0. 0. 0. 0. 0. 0. 0. 0. 0.\n 0. 0. 0. 0.]"
     ]
    }
   ],
   "source": [
    "# TRAIN RUN\n",
    "TRAIN_RUN_ID += 1\n",
    "epochs = 1\n",
    "batch_size = 100\n",
    "consolidation_cycles = 100\n",
    "epoch_to_image_ids = defaultdict(lambda: RNG.choice(df_train_images.index.unique(), batch_size, replace=False))\n",
    "\n",
    "for column_id, column in tqdm(COLUMNS.items(), desc='Columns'):\n",
    "    for epoch in tqdm(range(epochs), leave=False, desc='Epoch'):\n",
    "        # image_ids = epoch_to_image_ids[epoch]\n",
    "        image_ids = [38700, 56837, 58875, 33761, 44563, 22108, 32724, 25144,  5028,\n",
    "           52194, 17593, 25589, 13867, 52570, 30392, 45655, 16444, 44727,\n",
    "           58452, 52462, 45871, 17939, 55446, 14845, 10976, 35683, 53563,\n",
    "           18075,  5106, 56853, 44162, 43370, 57169,  3411, 57369,  2702,\n",
    "            1289, 22414, 39521, 58116, 28560, 59179, 32486, 35707, 55107,\n",
    "            1230, 49002, 50252, 30523, 28745, 56228, 51351, 56464,  1998,\n",
    "           56498, 36711, 51729,  2296, 56351, 32518, 58665, 25612,  7938,\n",
    "           57571, 43553, 11323, 35831,  8483, 35179,   716, 36277, 38890,\n",
    "           17712, 52849, 24766,  7600, 41352, 28416,  5528, 15963, 13804,\n",
    "            7581,  8443, 18899,  9700, 33560, 10599,  7171,  8149,  6733,\n",
    "           27132, 56624, 50279, 15160, 31035, 10914, 18263, 43705,  3097,\n",
    "           41313]\n",
    "        short_memory = defaultdict(lambda: defaultdict(list))\n",
    "\n",
    "        # ENGRAMS mining\n",
    "        for image_no, image_id in tqdm(enumerate(image_ids), leave=True, total=len(image_ids), desc='Image (train)'):\n",
    "            # log.debug(f'[train_run_id={TRAIN_RUN_ID}, image_no={image_no}, image_id={image_id}] Mappings count={COLUMN.engram_norms.len()}')\n",
    "            image_value = df_train_images.loc[image_id]['value']\n",
    "            df_image_encodings = pd.read_sql('SELECT hdv FROM image_encodings WHERE image_id=:image_id AND column_id=:column_id', \n",
    "                                             params={'image_id': int(image_id), 'column_id': column_id}, \n",
    "                                             con=train_db_con)\n",
    "            assert len(df_image_encodings) > 0\n",
    "            image_encoding_hdvs = xp.vstack(list(map(lambda h: xp.frombuffer(h, dtype='b'), df_image_encodings['hdv'])))\n",
    "            # map_results = xp.einsum('ij,kj->ikj', column.assoc_hdvs.array, image_encoding_hdvs)\n",
    "            image_encoding_hdv_bundle = hdc.bundle(image_encoding_hdvs) # TODO generate bundles in prep_dataset\n",
    "            ОБРАБАТЫВАТЬ ТОЛЬКО ЗАНЯТЫЕ элементы в assoc_hdvs! Плюс чтобы был предсказуемый индексинг\n",
    "            assoc_results = column.assoc_hdvs.array * image_encoding_hdv_bundle\n",
    "            assert assoc_results.shape == (column.assoc_hdvs.array.shape[0], hdc.N)\n",
    "            assoc_results_norm = hdc.normalize(assoc_results)\n",
    "\n",
    "            l = xp.linalg.norm(assoc_results, axis=1)\n",
    "            assert xp.all(l > 0), l\n",
    "            \n",
    "            digits_proximity = assoc_results_norm @ DIGITS_NORM.T\n",
    "            digits_proximity_indices_recognized = xp.argwhere(digits_proximity >= COS_SIM_THRESHOLD)\n",
    "    \n",
    "            if digits_proximity_indices_recognized.size == 0:\n",
    "                # No association (mapping) exists that connects to known entity (digit) :=( => create new one\n",
    "                source_hdv = image_encoding_hdv_bundle\n",
    "                target_hdv = DIGITS[int(image_value)]\n",
    "                assoc_hdv_index = column.assoc_hdvs.lease()\n",
    "                column.assoc_hdvs.array[assoc_hdv_index] = hdc.bind(source_hdv, target_hdv)\n",
    "                short_memory[int(image_value)]['source_hdvs'].append(source_hdv)\n",
    "                short_memory[int(image_value)]['assoc_hdv_indices'].append(assoc_hdv_index)\n",
    "            else:\n",
    "                for digit_proximity_index in digits_proximity_indices_recognized:\n",
    "                    assoc_index = digit_proximity_index[0]\n",
    "                    target_hdv_index = int(digit_proximity_index[1])\n",
    "                    source_hdv = image_encoding_hdv_bundle\n",
    "                    short_memory[target_hdv_index]['source_hdvs'].append(source_hdv)\n",
    "                    short_memory[target_hdv_index]['assoc_hdv_indices'].append(assoc_index)\n",
    "\n",
    "        for target_hdv_index, tab in short_memory.items():\n",
    "            tab['source_hdvs'] = xp.array(tab['source_hdvs'])\n",
    "            tab['assoc_hdv_indices'] = list(set(tab['assoc_hdv_indices'])) # get rid of duplicates\n",
    "            assert len(tab['assoc_hdv_indices']) > 0\n",
    "            tab['assoc_hdvs'] = xp.take(column.assoc_hdvs.array, tab['assoc_hdv_indices'] , axis=0)\n",
    "\n",
    "        # # ENGRAMS consolidation\n",
    "        # for _ in range(consolidation_cycles):\n",
    "        #     for target_hdv_index, tab in short_memory:\n",
    "        #         # Here we have all source HDVs associated with SINGLE taget_hdv via assoc_hdvs.\n",
    "        #         # Our goal is to optimize associations by bundling them together,\n",
    "        #         # but without breaking associations. The latter (breaking) could happen because\n",
    "        #         # we could have several distinct clusters (say A, B, C) which map to X.\n",
    "        #         # Should we bundle all these cluster into one megabundle then some of associations will get broken\n",
    "        #         assoc_results = xp.einsum('ij,kj->ikj', tab['source_hdvs'], tab['assoc_hdvs']) # batch bind (map) source hdvs via assoc_hdvs\n",
    "        #         # all source hdvs still should get lead to the same SINGLE target_hdv via assoc hdvs\n",
    "        #         assoc_results_shape = assoc_results.shape\n",
    "        #         assoc_results = assoc_results.reshape(-1, hdc.N)\n",
    "        #         assoc_results_norm = hdc.normalize(assoc_results)\n",
    "        #         target_hdv = DIGITS_NORM[target_hdv_index]\n",
    "        #         digits_proximity = assoc_results_norm @ target_hdv\n",
    "        #         digits_proximity = digits_proximity.reshape(assoc_results_shape[0], assoc_results_shape[1])\n",
    "        #         assert xp.all(xp.max(digits_proximity, axis=1) >= COS_SIM_THRESHOLD)\n",
    "                \n",
    "                \n",
    "                \n",
    "                \n",
    "                \n",
    "            \n",
    "\n",
    "        \n",
    "                \n",
    "            \n",
    "            \n",
    "        \n",
    "\n",
    "        "
   ]
  },
  {
   "cell_type": "code",
   "execution_count": 102,
   "id": "294b192d-b00f-4a62-8fdf-c957c506d26b",
   "metadata": {},
   "outputs": [
    {
     "data": {
      "text/plain": [
       "0"
      ]
     },
     "execution_count": 102,
     "metadata": {},
     "output_type": "execute_result"
    }
   ],
   "source": [
    "image_no"
   ]
  },
  {
   "cell_type": "code",
   "execution_count": 66,
   "id": "44db5639-1a6d-4c4c-b84c-dadd60c41591",
   "metadata": {},
   "outputs": [
    {
     "data": {
      "text/html": [
       "<div>\n",
       "<style scoped>\n",
       "    .dataframe tbody tr th:only-of-type {\n",
       "        vertical-align: middle;\n",
       "    }\n",
       "\n",
       "    .dataframe tbody tr th {\n",
       "        vertical-align: top;\n",
       "    }\n",
       "\n",
       "    .dataframe thead th {\n",
       "        text-align: right;\n",
       "    }\n",
       "</style>\n",
       "<table border=\"1\" class=\"dataframe\">\n",
       "  <thead>\n",
       "    <tr style=\"text-align: right;\">\n",
       "      <th></th>\n",
       "      <th>index</th>\n",
       "      <th>value</th>\n",
       "      <th>png</th>\n",
       "    </tr>\n",
       "    <tr>\n",
       "      <th>image_id</th>\n",
       "      <th></th>\n",
       "      <th></th>\n",
       "      <th></th>\n",
       "    </tr>\n",
       "  </thead>\n",
       "  <tbody>\n",
       "    <tr>\n",
       "      <th>59545</th>\n",
       "      <td>65</td>\n",
       "      <td>1</td>\n",
       "      <td>b'\\x89PNG\\r\\n\\x1a\\n\\x00\\x00\\x00\\rIHDR\\x00\\x00\\...</td>\n",
       "    </tr>\n",
       "    <tr>\n",
       "      <th>44886</th>\n",
       "      <td>3034</td>\n",
       "      <td>1</td>\n",
       "      <td>b'\\x89PNG\\r\\n\\x1a\\n\\x00\\x00\\x00\\rIHDR\\x00\\x00\\...</td>\n",
       "    </tr>\n",
       "    <tr>\n",
       "      <th>42182</th>\n",
       "      <td>1694</td>\n",
       "      <td>1</td>\n",
       "      <td>b'\\x89PNG\\r\\n\\x1a\\n\\x00\\x00\\x00\\rIHDR\\x00\\x00\\...</td>\n",
       "    </tr>\n",
       "    <tr>\n",
       "      <th>27677</th>\n",
       "      <td>9529</td>\n",
       "      <td>1</td>\n",
       "      <td>b'\\x89PNG\\r\\n\\x1a\\n\\x00\\x00\\x00\\rIHDR\\x00\\x00\\...</td>\n",
       "    </tr>\n",
       "    <tr>\n",
       "      <th>27202</th>\n",
       "      <td>5135</td>\n",
       "      <td>1</td>\n",
       "      <td>b'\\x89PNG\\r\\n\\x1a\\n\\x00\\x00\\x00\\rIHDR\\x00\\x00\\...</td>\n",
       "    </tr>\n",
       "    <tr>\n",
       "      <th>17587</th>\n",
       "      <td>380</td>\n",
       "      <td>1</td>\n",
       "      <td>b'\\x89PNG\\r\\n\\x1a\\n\\x00\\x00\\x00\\rIHDR\\x00\\x00\\...</td>\n",
       "    </tr>\n",
       "  </tbody>\n",
       "</table>\n",
       "</div>"
      ],
      "text/plain": [
       "          index value                                                png\n",
       "image_id                                                                \n",
       "59545        65     1  b'\\x89PNG\\r\\n\\x1a\\n\\x00\\x00\\x00\\rIHDR\\x00\\x00\\...\n",
       "44886      3034     1  b'\\x89PNG\\r\\n\\x1a\\n\\x00\\x00\\x00\\rIHDR\\x00\\x00\\...\n",
       "42182      1694     1  b'\\x89PNG\\r\\n\\x1a\\n\\x00\\x00\\x00\\rIHDR\\x00\\x00\\...\n",
       "27677      9529     1  b'\\x89PNG\\r\\n\\x1a\\n\\x00\\x00\\x00\\rIHDR\\x00\\x00\\...\n",
       "27202      5135     1  b'\\x89PNG\\r\\n\\x1a\\n\\x00\\x00\\x00\\rIHDR\\x00\\x00\\...\n",
       "17587       380     1  b'\\x89PNG\\r\\n\\x1a\\n\\x00\\x00\\x00\\rIHDR\\x00\\x00\\..."
      ]
     },
     "execution_count": 66,
     "metadata": {},
     "output_type": "execute_result"
    }
   ],
   "source": [
    "df_z = df_train_images.loc[list(epoch_to_image_ids[0])]\n",
    "df_z[df_z['value'] == '1']"
   ]
  },
  {
   "cell_type": "code",
   "execution_count": 91,
   "id": "7d3435c9-e306-43d4-a74f-8b8feebe9a20",
   "metadata": {},
   "outputs": [
    {
     "data": {
      "text/plain": [
       "array([38700, 56837, 58875, 33761, 44563, 22108, 32724, 25144,  5028,\n",
       "       52194, 17593, 25589, 13867, 52570, 30392, 45655, 16444, 44727,\n",
       "       58452, 52462, 45871, 17939, 55446, 14845, 10976, 35683, 53563,\n",
       "       18075,  5106, 56853, 44162, 43370, 57169,  3411, 57369,  2702,\n",
       "        1289, 22414, 39521, 58116, 28560, 59179, 32486, 35707, 55107,\n",
       "        1230, 49002, 50252, 30523, 28745, 56228, 51351, 56464,  1998,\n",
       "       56498, 36711, 51729,  2296, 56351, 32518, 58665, 25612,  7938,\n",
       "       57571, 43553, 11323, 35831,  8483, 35179,   716, 36277, 38890,\n",
       "       17712, 52849, 24766,  7600, 41352, 28416,  5528, 15963, 13804,\n",
       "        7581,  8443, 18899,  9700, 33560, 10599,  7171,  8149,  6733,\n",
       "       27132, 56624, 50279, 15160, 31035, 10914, 18263, 43705,  3097,\n",
       "       41313])"
      ]
     },
     "execution_count": 91,
     "metadata": {},
     "output_type": "execute_result"
    }
   ],
   "source": [
    "epoch_to_image_ids[0]"
   ]
  },
  {
   "cell_type": "code",
   "execution_count": null,
   "id": "c0b56ec5-7e3c-4d78-970b-cab45003054e",
   "metadata": {},
   "outputs": [],
   "source": [
    "df_train_images.loc[list(epoch_to_image_ids[0])]['value'].unique()"
   ]
  },
  {
   "cell_type": "code",
   "execution_count": 90,
   "id": "8f70cfd2-ec64-47a3-8211-c13ede8b9602",
   "metadata": {},
   "outputs": [
    {
     "data": {
      "text/plain": [
       "15"
      ]
     },
     "execution_count": 90,
     "metadata": {},
     "output_type": "execute_result"
    }
   ],
   "source": [
    "column.assoc_hdvs.len()"
   ]
  },
  {
   "cell_type": "code",
   "execution_count": 74,
   "id": "cc549286-4674-4011-a93d-24ee0e15c8f1",
   "metadata": {},
   "outputs": [
    {
     "data": {
      "text/plain": [
       "[1, 4, 5, 2, 7, 8, 6, 9, 0, 3]"
      ]
     },
     "execution_count": 74,
     "metadata": {},
     "output_type": "execute_result"
    }
   ],
   "source": [
    "list(short_memory.keys())"
   ]
  },
  {
   "cell_type": "code",
   "execution_count": 13,
   "id": "9ee32737-067b-47ea-9d07-5e67b9e4b801",
   "metadata": {},
   "outputs": [
    {
     "data": {
      "text/html": [
       "<div style=\"\n",
       "        display: grid; \n",
       "        grid-template-columns: repeat(8, 128px);\n",
       "        column-gap: 1px;\n",
       "        row-gap: 1px;\">\n",
       "        \n",
       "            <figure style=\"margin: 5px !important;\">\n",
       "              <img src=\"data:image/png;base64,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\" style=\"height: auto\">\n",
       "              <figcaption style=\"font-size: 0.6em\">clust=248, #7346, val=5</figcaption>\n",
       "            </figure>\n",
       "        \n",
       "    </div>"
      ],
      "text/plain": [
       "<IPython.core.display.HTML object>"
      ]
     },
     "execution_count": 13,
     "metadata": {},
     "output_type": "execute_result"
    }
   ],
   "source": [
    "images = []\n",
    "captions = []\n",
    "\n",
    "if COLUMN.engrams.keys():\n",
    "    random_engram_i = RNG.choice(list(COLUMN.engrams.keys()))\n",
    "    image_ids = COLUMN.engram_to_image_ids[random_engram_i]\n",
    "    df_i = df_train_images.loc[list(image_ids)]\n",
    "    image_datas = df_i['png']\n",
    "    images = [Image.open(io.BytesIO(image_data)) for image_data in image_datas]\n",
    "    captions = list(map(lambda p: f'clust={random_engram_i}, #{p[0]}, val={p[1]}', zip(df_i.index, df_i['value'])))\n",
    "\n",
    "images = images[:32]\n",
    "captions = captions[:32]\n",
    "display_images_grid(images, captions=captions, col_count=8)"
   ]
  },
  {
   "cell_type": "code",
   "execution_count": 27,
   "id": "dedefb7f-24e7-43ca-91d6-eecc3fbaeb17",
   "metadata": {},
   "outputs": [
    {
     "data": {
      "application/vnd.jupyter.widget-view+json": {
       "model_id": "101dd829f15a43cca4446375415cb247",
       "version_major": 2,
       "version_minor": 0
      },
      "text/plain": [
       "  0%|          | 0/2000 [00:00<?, ?it/s]"
      ]
     },
     "metadata": {},
     "output_type": "display_data"
    }
   ],
   "source": [
    "# TEST RUN\n",
    "TEST_RUN_ID += 1\n",
    "count = 2000\n",
    "test_run_source = (df_test_images, test_db_con, 'test')\n",
    "# test_run_source = (df_train_images, train_db_con, 'train')\n",
    "test_image_ids = RNG.choice(test_run_source[0].index.unique(), count, replace=False)\n",
    "test_result_rows = defaultdict(list)\n",
    "\n",
    "for image_id in tqdm(test_image_ids):\n",
    "    max_cos_sim_index = -1 # aka engram id\n",
    "    max_similar_engram_image_value = ''\n",
    "    max_cos_sim = 0\n",
    "\n",
    "    image_value = test_run_source[0].loc[image_id]['value']\n",
    "    df_image_encodings = pd.read_sql('SELECT hdv FROM image_encodings WHERE image_id=:image_id', params={'image_id': int(image_id)}, con=test_run_source[1])\n",
    "    assert len(df_image_encodings) > 0\n",
    "    image_encoding_hdvs = list(map(lambda h: np.frombuffer(h, dtype='b'), df_image_encodings['hdv']))\n",
    "    image_encoding_hdvs_norm = hdc.normalize(image_encoding_hdvs)\n",
    "    image_encoding_hdvs_norm = xp_array_to_gpu(image_encoding_hdvs_norm)\n",
    "\n",
    "    cos_sim_matrix = COLUMN.engram_norms.array @ image_encoding_hdvs_norm.T\n",
    "    cos_sim_matrix[cos_sim_matrix < COS_SIM_THRESHOLD] = 0\n",
    "    cos_sim_vector = xp_array_from_gpu(xp.sum(cos_sim_matrix, axis=1)) # how each mem recall (sum cos sim) is close to current image\n",
    "    \n",
    "    assert cos_sim_vector.shape == (COLUMN.engram_norms.array.shape[0],)\n",
    "    engram_ids_by_match_score = np.argsort(-cos_sim_vector) # sorted desc\n",
    "\n",
    "    if engram_ids_by_match_score.shape[0] > 0:\n",
    "        engram_id = engram_ids_by_match_score[0]\n",
    "        cos_sim_value = cos_sim_vector[engram_id]\n",
    "\n",
    "        # if cos_sim_value >= COS_SIM_THRESHOLD:\n",
    "        if cos_sim_value > 0:\n",
    "            engram_image_ids = COLUMN.engram_to_image_ids[engram_id]\n",
    "            assert len(engram_image_ids) > 0\n",
    "            engram_image_id = next(iter(engram_image_ids))\n",
    "            engram_image_value = df_train_images.loc[engram_image_id]['value']\n",
    "            max_cos_sim_index = engram_id\n",
    "            max_similar_engram_image_value = engram_image_value\n",
    "            max_cos_sim = cos_sim_value\n",
    "    \n",
    "    test_result_rows['source_ds'].append(test_run_source[2])\n",
    "    test_result_rows['test_run_id'].append(TEST_RUN_ID)\n",
    "    test_result_rows['test_image_id'].append(image_id)\n",
    "    test_result_rows['true_value'].append(image_value)\n",
    "    test_result_rows['engram_id'].append(max_cos_sim_index)\n",
    "    test_result_rows['infer_value'].append(max_similar_engram_image_value)\n",
    "    test_result_rows['sim'].append(max_cos_sim)\n",
    "    \n",
    "\n",
    "assert set(test_result_rows.keys()) == set(df_test_results.columns)\n",
    "df_test_results_for_run = pd.DataFrame(test_result_rows, columns=df_test_results.columns)\n",
    "concat_list = [df_test_results] if len(df_test_results) > 0 else []\n",
    "concat_list.append(df_test_results_for_run)\n",
    "df_test_results = pd.concat(concat_list, ignore_index=True)"
   ]
  },
  {
   "cell_type": "code",
   "execution_count": 28,
   "id": "9ded612b-96ae-4f3d-a964-d78dcfb19834",
   "metadata": {},
   "outputs": [
    {
     "data": {
      "image/png": "[encoded data removed]",
      "text/plain": [
       "<Figure size 1600x400 with 3 Axes>"
      ]
     },
     "metadata": {},
     "output_type": "display_data"
    },
    {
     "data": {
      "text/html": [
       "<div>\n",
       "<style scoped>\n",
       "    .dataframe tbody tr th:only-of-type {\n",
       "        vertical-align: middle;\n",
       "    }\n",
       "\n",
       "    .dataframe tbody tr th {\n",
       "        vertical-align: top;\n",
       "    }\n",
       "\n",
       "    .dataframe thead th {\n",
       "        text-align: right;\n",
       "    }\n",
       "</style>\n",
       "<table border=\"1\" class=\"dataframe\">\n",
       "  <thead>\n",
       "    <tr style=\"text-align: right;\">\n",
       "      <th></th>\n",
       "      <th>count</th>\n",
       "      <th>infers</th>\n",
       "      <th>correct_infers</th>\n",
       "      <th>infer_ratio</th>\n",
       "      <th>accuracy_count</th>\n",
       "      <th>accuracy_infers</th>\n",
       "    </tr>\n",
       "    <tr>\n",
       "      <th>test_run_id</th>\n",
       "      <th></th>\n",
       "      <th></th>\n",
       "      <th></th>\n",
       "      <th></th>\n",
       "      <th></th>\n",
       "      <th></th>\n",
       "    </tr>\n",
       "  </thead>\n",
       "  <tbody>\n",
       "    <tr>\n",
       "      <th>1</th>\n",
       "      <td>2000</td>\n",
       "      <td>2000</td>\n",
       "      <td>1809</td>\n",
       "      <td>1.0</td>\n",
       "      <td>0.9045</td>\n",
       "      <td>0.9045</td>\n",
       "    </tr>\n",
       "    <tr>\n",
       "      <th>2</th>\n",
       "      <td>2000</td>\n",
       "      <td>2000</td>\n",
       "      <td>1824</td>\n",
       "      <td>1.0</td>\n",
       "      <td>0.9120</td>\n",
       "      <td>0.9120</td>\n",
       "    </tr>\n",
       "    <tr>\n",
       "      <th>3</th>\n",
       "      <td>2000</td>\n",
       "      <td>2000</td>\n",
       "      <td>1843</td>\n",
       "      <td>1.0</td>\n",
       "      <td>0.9215</td>\n",
       "      <td>0.9215</td>\n",
       "    </tr>\n",
       "  </tbody>\n",
       "</table>\n",
       "</div>"
      ],
      "text/plain": [
       "             count  infers  correct_infers  infer_ratio  accuracy_count  \\\n",
       "test_run_id                                                               \n",
       "1             2000    2000            1809          1.0          0.9045   \n",
       "2             2000    2000            1824          1.0          0.9120   \n",
       "3             2000    2000            1843          1.0          0.9215   \n",
       "\n",
       "             accuracy_infers  \n",
       "test_run_id                   \n",
       "1                     0.9045  \n",
       "2                     0.9120  \n",
       "3                     0.9215  "
      ]
     },
     "execution_count": 28,
     "metadata": {},
     "output_type": "execute_result"
    }
   ],
   "source": [
    "df_test_results2 = df_test_results.copy()\n",
    "df_test_results2['is_infer'] = df_test_results2['engram_id'] > -1\n",
    "df_test_results2['is_correct_infer'] = df_test_results2['true_value'] == df_test_results2['infer_value']\n",
    "df_test_results2 = df_test_results2.groupby(by=['test_run_id']).agg({'test_image_id': 'count', 'is_infer': 'sum', 'is_correct_infer': 'sum'})\n",
    "df_test_results2.rename(columns=dict(test_image_id='count', is_infer='infers', is_correct_infer='correct_infers'), inplace=True, errors='raise')\n",
    "df_test_results2['infer_ratio'] = df_test_results2['infers'] / df_test_results2['count']\n",
    "df_test_results2['accuracy_count'] = df_test_results2['correct_infers'] / df_test_results2['count']\n",
    "df_test_results2['accuracy_infers'] = df_test_results2['correct_infers'] / df_test_results2['infers']\n",
    "\n",
    "plt.figure(figsize=(16, 4))\n",
    "plt.subplot(1, 3, 1)\n",
    "b = plt.bar(list(map(str, df_test_results2.index)), list(df_test_results2['infer_ratio']))\n",
    "plt.bar_label(b, map(lambda p: f'{p*100:.0f}', df_test_results2['infer_ratio']), label_type='center')\n",
    "plt.ylim(0, 1)\n",
    "plt.title('Infers, %')\n",
    "plt.xlabel('Test run')\n",
    "plt.grid()\n",
    "\n",
    "plt.subplot(1, 3, 2)\n",
    "b = plt.bar(list(map(str, df_test_results2.index)), list(df_test_results2['accuracy_count']))\n",
    "plt.bar_label(b, map(lambda p: f'{p*100:.0f}', df_test_results2['accuracy_count']), label_type='center')\n",
    "plt.ylim(0, 1)\n",
    "plt.title('Accuracy (Count), %')\n",
    "plt.xlabel('Test run')\n",
    "plt.grid()\n",
    "\n",
    "plt.subplot(1, 3, 3)\n",
    "b = plt.bar(list(map(str, df_test_results2.index)), list(df_test_results2['accuracy_infers']))\n",
    "plt.bar_label(b, map(lambda p: f'{p*100:.0f}', df_test_results2['accuracy_infers']), label_type='center')\n",
    "plt.ylim(0, 1)\n",
    "plt.title('Accuracy (Infers), %')\n",
    "plt.xlabel('Test run')\n",
    "plt.grid()\n",
    "\n",
    "plt.show()\n",
    "df_test_results2"
   ]
  },
  {
   "cell_type": "code",
   "execution_count": null,
   "id": "90c7e7d6-d5fc-4012-9c88-164320308f20",
   "metadata": {},
   "outputs": [],
   "source": []
  },
  {
   "cell_type": "code",
   "execution_count": 17,
   "id": "a7f7fd04-f413-47bf-b601-3a9327b61c82",
   "metadata": {},
   "outputs": [
    {
     "data": {
      "text/html": [
       "<div>\n",
       "<style scoped>\n",
       "    .dataframe tbody tr th:only-of-type {\n",
       "        vertical-align: middle;\n",
       "    }\n",
       "\n",
       "    .dataframe tbody tr th {\n",
       "        vertical-align: top;\n",
       "    }\n",
       "\n",
       "    .dataframe thead th {\n",
       "        text-align: right;\n",
       "    }\n",
       "</style>\n",
       "<table border=\"1\" class=\"dataframe\">\n",
       "  <thead>\n",
       "    <tr style=\"text-align: right;\">\n",
       "      <th></th>\n",
       "      <th>test_run_id</th>\n",
       "      <th>test_image_id</th>\n",
       "      <th>true_value</th>\n",
       "      <th>engram_id</th>\n",
       "      <th>engram_value</th>\n",
       "      <th>sim</th>\n",
       "    </tr>\n",
       "  </thead>\n",
       "  <tbody>\n",
       "    <tr>\n",
       "      <th>0</th>\n",
       "      <td>1</td>\n",
       "      <td>100002322</td>\n",
       "      <td>5</td>\n",
       "      <td>79</td>\n",
       "      <td>3</td>\n",
       "      <td>3.862693</td>\n",
       "    </tr>\n",
       "    <tr>\n",
       "      <th>1</th>\n",
       "      <td>1</td>\n",
       "      <td>100002322</td>\n",
       "      <td>5</td>\n",
       "      <td>20</td>\n",
       "      <td>8</td>\n",
       "      <td>3.840800</td>\n",
       "    </tr>\n",
       "    <tr>\n",
       "      <th>2</th>\n",
       "      <td>1</td>\n",
       "      <td>100002322</td>\n",
       "      <td>5</td>\n",
       "      <td>233</td>\n",
       "      <td>5</td>\n",
       "      <td>3.744116</td>\n",
       "    </tr>\n",
       "    <tr>\n",
       "      <th>3</th>\n",
       "      <td>1</td>\n",
       "      <td>100002322</td>\n",
       "      <td>5</td>\n",
       "      <td>200</td>\n",
       "      <td>5</td>\n",
       "      <td>3.571549</td>\n",
       "    </tr>\n",
       "    <tr>\n",
       "      <th>4</th>\n",
       "      <td>1</td>\n",
       "      <td>100002322</td>\n",
       "      <td>5</td>\n",
       "      <td>237</td>\n",
       "      <td>5</td>\n",
       "      <td>3.424872</td>\n",
       "    </tr>\n",
       "    <tr>\n",
       "      <th>5</th>\n",
       "      <td>1</td>\n",
       "      <td>100002322</td>\n",
       "      <td>5</td>\n",
       "      <td>1</td>\n",
       "      <td>5</td>\n",
       "      <td>3.314627</td>\n",
       "    </tr>\n",
       "    <tr>\n",
       "      <th>6</th>\n",
       "      <td>1</td>\n",
       "      <td>100002322</td>\n",
       "      <td>5</td>\n",
       "      <td>47</td>\n",
       "      <td>3</td>\n",
       "      <td>3.269252</td>\n",
       "    </tr>\n",
       "    <tr>\n",
       "      <th>7</th>\n",
       "      <td>1</td>\n",
       "      <td>100002322</td>\n",
       "      <td>5</td>\n",
       "      <td>163</td>\n",
       "      <td>3</td>\n",
       "      <td>3.015236</td>\n",
       "    </tr>\n",
       "    <tr>\n",
       "      <th>8</th>\n",
       "      <td>1</td>\n",
       "      <td>100002322</td>\n",
       "      <td>5</td>\n",
       "      <td>196</td>\n",
       "      <td>5</td>\n",
       "      <td>2.974074</td>\n",
       "    </tr>\n",
       "    <tr>\n",
       "      <th>9</th>\n",
       "      <td>1</td>\n",
       "      <td>100002322</td>\n",
       "      <td>5</td>\n",
       "      <td>2</td>\n",
       "      <td>3</td>\n",
       "      <td>2.696484</td>\n",
       "    </tr>\n",
       "  </tbody>\n",
       "</table>\n",
       "</div>"
      ],
      "text/plain": [
       "   test_run_id  test_image_id true_value  engram_id engram_value       sim\n",
       "0            1      100002322          5         79            3  3.862693\n",
       "1            1      100002322          5         20            8  3.840800\n",
       "2            1      100002322          5        233            5  3.744116\n",
       "3            1      100002322          5        200            5  3.571549\n",
       "4            1      100002322          5        237            5  3.424872\n",
       "5            1      100002322          5          1            5  3.314627\n",
       "6            1      100002322          5         47            3  3.269252\n",
       "7            1      100002322          5        163            3  3.015236\n",
       "8            1      100002322          5        196            5  2.974074\n",
       "9            1      100002322          5          2            3  2.696484"
      ]
     },
     "execution_count": 17,
     "metadata": {},
     "output_type": "execute_result"
    }
   ],
   "source": [
    "df_test_results_incorrect_infers = df_test_results_for_run[df_test_results_for_run['true_value'] != df_test_results_for_run['infer_value']]\n",
    "incorrect_infer_row_index = RNG.choice(df_test_results_incorrect_infers.index.unique())\n",
    "test_run_id = df_test_results_incorrect_infers.loc[incorrect_infer_row_index]['test_run_id']\n",
    "incorrect_infer_image_id = df_test_results_incorrect_infers.loc[incorrect_infer_row_index]['test_image_id']\n",
    "image_data = test_run_source[0].loc[incorrect_infer_image_id]['png']\n",
    "image_value = test_run_source[0].loc[incorrect_infer_image_id]['value']\n",
    "\n",
    "df_x = pd.DataFrame(columns=['test_run_id', 'test_image_id', 'true_value', 'engram_id', 'engram_value', 'sim'])\n",
    "df_image_encodings = pd.read_sql('SELECT hdv FROM image_encodings WHERE image_id=:image_id', params={'image_id': int(incorrect_infer_image_id)}, con=test_run_source[1])\n",
    "assert len(df_image_encodings) > 0\n",
    "image_encoding_hdvs = list(map(lambda h: np.frombuffer(h, dtype='b'), df_image_encodings['hdv']))\n",
    "image_encoding_hdvs_norm = hdc.normalize(image_encoding_hdvs)\n",
    "image_encoding_hdvs_norm = xp_array_to_gpu(image_encoding_hdvs_norm)\n",
    "\n",
    "cos_sim_matrix = COLUMN.engram_norms.array @ image_encoding_hdvs_norm.T\n",
    "cos_sim_matrix[cos_sim_matrix < COS_SIM_THRESHOLD] = 0\n",
    "cos_sim_vector = xp_array_from_gpu(xp.sum(cos_sim_matrix, axis=1)) # how each mem recall (sum cos sim) is close to current image\n",
    "\n",
    "assert cos_sim_vector.shape == (COLUMN.engram_norms.array.shape[0],)\n",
    "engram_ids_by_match_score = np.argsort(-cos_sim_vector) # sorted desc\n",
    "\n",
    "for pos, engram_id in enumerate(engram_ids_by_match_score):\n",
    "    cos_sim_value = cos_sim_vector[engram_id]\n",
    "\n",
    "    if cos_sim_value <= 0:\n",
    "        break\n",
    "        \n",
    "    engram_image_ids = COLUMN.engram_to_image_ids[engram_id]\n",
    "    assert len(engram_image_ids) > 0\n",
    "    engram_image_id = next(iter(engram_image_ids))\n",
    "    engram_image_value = df_train_images.loc[engram_image_id]['value'] # exactly from train! (i.e. we look for prototype in train data)\n",
    "    df_x.loc[len(df_x)] = [test_run_id, incorrect_infer_image_id, image_value, engram_id, engram_image_value, cos_sim_value]\n",
    "\n",
    "df_x.sort_values(by='sim', ascending=False).head(10)"
   ]
  },
  {
   "cell_type": "code",
   "execution_count": 18,
   "id": "5ff3a026-80df-4d27-af26-5939c7a1ae64",
   "metadata": {},
   "outputs": [
    {
     "data": {
      "text/html": [
       "\n",
       "        <div style=\"display: flex; flex-flow: row wrap; text-align: center;\">\n",
       "        \n",
       "            <figure style=\"margin: 5px !important;\">\n",
       "              <img src=\"data:image/png;base64,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\" style=\"height: auto\">\n",
       "              <figcaption style=\"font-size: 0.6em\">5</figcaption>\n",
       "            </figure>\n",
       "        \n",
       "        </div>\n",
       "    "
      ],
      "text/plain": [
       "<IPython.core.display.HTML object>"
      ]
     },
     "execution_count": 18,
     "metadata": {},
     "output_type": "execute_result"
    }
   ],
   "source": [
    "image_data = test_run_source[0].loc[incorrect_infer_image_id]['png']\n",
    "image = Image.open(io.BytesIO(image_data))\n",
    "label = test_run_source[0].loc[incorrect_infer_image_id]['value']\n",
    "display_images([image], captions=[label])"
   ]
  },
  {
   "cell_type": "code",
   "execution_count": 19,
   "id": "0c9b40bc-7e09-40a6-947b-090d0ef463a2",
   "metadata": {},
   "outputs": [
    {
     "data": {
      "text/html": [
       "<div>\n",
       "<style scoped>\n",
       "    .dataframe tbody tr th:only-of-type {\n",
       "        vertical-align: middle;\n",
       "    }\n",
       "\n",
       "    .dataframe tbody tr th {\n",
       "        vertical-align: top;\n",
       "    }\n",
       "\n",
       "    .dataframe thead th {\n",
       "        text-align: right;\n",
       "    }\n",
       "</style>\n",
       "<table border=\"1\" class=\"dataframe\">\n",
       "  <thead>\n",
       "    <tr style=\"text-align: right;\">\n",
       "      <th></th>\n",
       "      <th>engram_value</th>\n",
       "      <th>sim</th>\n",
       "      <th>true_value</th>\n",
       "    </tr>\n",
       "    <tr>\n",
       "      <th>engram_id</th>\n",
       "      <th></th>\n",
       "      <th></th>\n",
       "      <th></th>\n",
       "    </tr>\n",
       "  </thead>\n",
       "  <tbody>\n",
       "    <tr>\n",
       "      <th>79</th>\n",
       "      <td>3</td>\n",
       "      <td>3.862693</td>\n",
       "      <td>5</td>\n",
       "    </tr>\n",
       "    <tr>\n",
       "      <th>20</th>\n",
       "      <td>8</td>\n",
       "      <td>3.840800</td>\n",
       "      <td>5</td>\n",
       "    </tr>\n",
       "    <tr>\n",
       "      <th>233</th>\n",
       "      <td>5</td>\n",
       "      <td>3.744116</td>\n",
       "      <td>5</td>\n",
       "    </tr>\n",
       "    <tr>\n",
       "      <th>200</th>\n",
       "      <td>5</td>\n",
       "      <td>3.571549</td>\n",
       "      <td>5</td>\n",
       "    </tr>\n",
       "    <tr>\n",
       "      <th>237</th>\n",
       "      <td>5</td>\n",
       "      <td>3.424872</td>\n",
       "      <td>5</td>\n",
       "    </tr>\n",
       "    <tr>\n",
       "      <th>...</th>\n",
       "      <td>...</td>\n",
       "      <td>...</td>\n",
       "      <td>...</td>\n",
       "    </tr>\n",
       "    <tr>\n",
       "      <th>288</th>\n",
       "      <td>4</td>\n",
       "      <td>0.056177</td>\n",
       "      <td>5</td>\n",
       "    </tr>\n",
       "    <tr>\n",
       "      <th>146</th>\n",
       "      <td>3</td>\n",
       "      <td>0.055770</td>\n",
       "      <td>5</td>\n",
       "    </tr>\n",
       "    <tr>\n",
       "      <th>320</th>\n",
       "      <td>2</td>\n",
       "      <td>0.055655</td>\n",
       "      <td>5</td>\n",
       "    </tr>\n",
       "    <tr>\n",
       "      <th>133</th>\n",
       "      <td>6</td>\n",
       "      <td>0.055636</td>\n",
       "      <td>5</td>\n",
       "    </tr>\n",
       "    <tr>\n",
       "      <th>60</th>\n",
       "      <td>3</td>\n",
       "      <td>0.055534</td>\n",
       "      <td>5</td>\n",
       "    </tr>\n",
       "  </tbody>\n",
       "</table>\n",
       "<p>112 rows × 3 columns</p>\n",
       "</div>"
      ],
      "text/plain": [
       "          engram_value       sim true_value\n",
       "engram_id                                  \n",
       "79                   3  3.862693          5\n",
       "20                   8  3.840800          5\n",
       "233                  5  3.744116          5\n",
       "200                  5  3.571549          5\n",
       "237                  5  3.424872          5\n",
       "...                ...       ...        ...\n",
       "288                  4  0.056177          5\n",
       "146                  3  0.055770          5\n",
       "320                  2  0.055655          5\n",
       "133                  6  0.055636          5\n",
       "60                   3  0.055534          5\n",
       "\n",
       "[112 rows x 3 columns]"
      ]
     },
     "execution_count": 19,
     "metadata": {},
     "output_type": "execute_result"
    }
   ],
   "source": [
    "df_x_pivot = pd.pivot_table(df_x, index='engram_id', \n",
    "                            values=['true_value', 'engram_value', 'sim'], \n",
    "                            aggfunc=dict(engram_value='first', true_value='first', sim='sum'))\n",
    "df_x_pivot.sort_values(by='sim', ascending=False)"
   ]
  },
  {
   "cell_type": "code",
   "execution_count": null,
   "id": "4b970735-532f-4a82-adfa-2df3f534203b",
   "metadata": {},
   "outputs": [],
   "source": []
  },
  {
   "cell_type": "code",
   "execution_count": 20,
   "id": "13076351-aaf9-4ef1-9e86-a77ee51ab0c0",
   "metadata": {},
   "outputs": [
    {
     "data": {
      "text/html": [
       "<div>\n",
       "<style scoped>\n",
       "    .dataframe tbody tr th:only-of-type {\n",
       "        vertical-align: middle;\n",
       "    }\n",
       "\n",
       "    .dataframe tbody tr th {\n",
       "        vertical-align: top;\n",
       "    }\n",
       "\n",
       "    .dataframe thead th {\n",
       "        text-align: right;\n",
       "    }\n",
       "</style>\n",
       "<table border=\"1\" class=\"dataframe\">\n",
       "  <thead>\n",
       "    <tr style=\"text-align: right;\">\n",
       "      <th></th>\n",
       "      <th>engram_value</th>\n",
       "      <th>sim</th>\n",
       "      <th>true_value</th>\n",
       "    </tr>\n",
       "    <tr>\n",
       "      <th>engram_id</th>\n",
       "      <th></th>\n",
       "      <th></th>\n",
       "      <th></th>\n",
       "    </tr>\n",
       "  </thead>\n",
       "  <tbody>\n",
       "    <tr>\n",
       "      <th>79</th>\n",
       "      <td>3</td>\n",
       "      <td>3.862693</td>\n",
       "      <td>5</td>\n",
       "    </tr>\n",
       "    <tr>\n",
       "      <th>20</th>\n",
       "      <td>8</td>\n",
       "      <td>3.840800</td>\n",
       "      <td>5</td>\n",
       "    </tr>\n",
       "    <tr>\n",
       "      <th>233</th>\n",
       "      <td>5</td>\n",
       "      <td>3.744116</td>\n",
       "      <td>5</td>\n",
       "    </tr>\n",
       "    <tr>\n",
       "      <th>200</th>\n",
       "      <td>5</td>\n",
       "      <td>3.571549</td>\n",
       "      <td>5</td>\n",
       "    </tr>\n",
       "    <tr>\n",
       "      <th>237</th>\n",
       "      <td>5</td>\n",
       "      <td>3.424872</td>\n",
       "      <td>5</td>\n",
       "    </tr>\n",
       "    <tr>\n",
       "      <th>...</th>\n",
       "      <td>...</td>\n",
       "      <td>...</td>\n",
       "      <td>...</td>\n",
       "    </tr>\n",
       "    <tr>\n",
       "      <th>288</th>\n",
       "      <td>4</td>\n",
       "      <td>0.056177</td>\n",
       "      <td>5</td>\n",
       "    </tr>\n",
       "    <tr>\n",
       "      <th>146</th>\n",
       "      <td>3</td>\n",
       "      <td>0.055770</td>\n",
       "      <td>5</td>\n",
       "    </tr>\n",
       "    <tr>\n",
       "      <th>320</th>\n",
       "      <td>2</td>\n",
       "      <td>0.055655</td>\n",
       "      <td>5</td>\n",
       "    </tr>\n",
       "    <tr>\n",
       "      <th>133</th>\n",
       "      <td>6</td>\n",
       "      <td>0.055636</td>\n",
       "      <td>5</td>\n",
       "    </tr>\n",
       "    <tr>\n",
       "      <th>60</th>\n",
       "      <td>3</td>\n",
       "      <td>0.055534</td>\n",
       "      <td>5</td>\n",
       "    </tr>\n",
       "  </tbody>\n",
       "</table>\n",
       "<p>112 rows × 3 columns</p>\n",
       "</div>"
      ],
      "text/plain": [
       "          engram_value       sim true_value\n",
       "engram_id                                  \n",
       "79                   3  3.862693          5\n",
       "20                   8  3.840800          5\n",
       "233                  5  3.744116          5\n",
       "200                  5  3.571549          5\n",
       "237                  5  3.424872          5\n",
       "...                ...       ...        ...\n",
       "288                  4  0.056177          5\n",
       "146                  3  0.055770          5\n",
       "320                  2  0.055655          5\n",
       "133                  6  0.055636          5\n",
       "60                   3  0.055534          5\n",
       "\n",
       "[112 rows x 3 columns]"
      ]
     },
     "execution_count": 20,
     "metadata": {},
     "output_type": "execute_result"
    }
   ],
   "source": [
    "df_x_pivot = pd.pivot_table(df_x, index='engram_id', \n",
    "                            values=['true_value', 'engram_value', 'sim'], \n",
    "                            aggfunc=dict(engram_value='first', true_value='first', sim='max'))\n",
    "df_x_pivot.sort_values(by='sim', ascending=False)"
   ]
  },
  {
   "cell_type": "code",
   "execution_count": 21,
   "id": "741528e7-cb1b-4583-93eb-c9c8425c70be",
   "metadata": {},
   "outputs": [
    {
     "data": {
      "text/plain": [
       "np.int64(1)"
      ]
     },
     "execution_count": 21,
     "metadata": {},
     "output_type": "execute_result"
    }
   ],
   "source": [
    "df_test_results_incorrect_infers.loc[incorrect_infer_row_index]['test_run_id']"
   ]
  },
  {
   "cell_type": "code",
   "execution_count": 22,
   "id": "75cc7cda-ca51-48b0-8fd1-b21a9244fcb5",
   "metadata": {},
   "outputs": [
    {
     "data": {
      "text/plain": [
       "np.int64(396)"
      ]
     },
     "execution_count": 22,
     "metadata": {},
     "output_type": "execute_result"
    }
   ],
   "source": [
    "incorrect_infer_row_index"
   ]
  },
  {
   "cell_type": "code",
   "execution_count": null,
   "id": "173a27b8-9f22-47c0-a23a-ca3669ac1222",
   "metadata": {},
   "outputs": [],
   "source": []
  },
  {
   "cell_type": "code",
   "execution_count": null,
   "id": "88170617-5c38-4250-87af-edd152d31a51",
   "metadata": {},
   "outputs": [],
   "source": []
  }
 ],
 "metadata": {
  "kernelspec": {
   "display_name": "Python 3 (ipykernel)",
   "language": "python",
   "name": "python3"
  },
  "language_info": {
   "codemirror_mode": {
    "name": "ipython",
    "version": 3
   },
   "file_extension": ".py",
   "mimetype": "text/x-python",
   "name": "python",
   "nbconvert_exporter": "python",
   "pygments_lexer": "ipython3",
   "version": "3.12.2"
  }
 },
 "nbformat": 4,
 "nbformat_minor": 5
}
