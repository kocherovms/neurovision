{
 "cells": [
  {
   "cell_type": "code",
   "execution_count": 1,
   "id": "27532844-1826-4299-b063-16a22e592f3f",
   "metadata": {},
   "outputs": [],
   "source": [
    "import os, math\n",
    "from enum import StrEnum, auto\n",
    "from collections import defaultdict, namedtuple, Counter\n",
    "import itertools\n",
    "import sqlite3\n",
    "import pickle\n",
    "import datetime\n",
    "import multiprocessing as mp\n",
    "import gc\n",
    "import json\n",
    "from IPython.core.getipython import get_ipython\n",
    "\n",
    "from PIL import Image, ImageDraw\n",
    "from tqdm.notebook import tqdm\n",
    "\n",
    "from sklearn.model_selection import train_test_split\n",
    "from sklearn.decomposition import PCA\n",
    "import matplotlib.pyplot as plt\n",
    "import scipy\n",
    "import numpy as np\n",
    "import cupy as cp\n",
    "import pandas as pd\n",
    "\n",
    "from module.utils import *\n",
    "from module.hdc import *\n",
    "from module.constants import *"
   ]
  },
  {
   "cell_type": "code",
   "execution_count": 2,
   "id": "73358262-adf2-4d17-a383-f120a5d1f8aa",
   "metadata": {},
   "outputs": [
    {
     "name": "stdout",
     "output_type": "stream",
     "text": [
      "xp = numpy\n",
      "transf_learn.ipynb\n"
     ]
    }
   ],
   "source": [
    "LOG = Logging()\n",
    "\n",
    "config_var = 'SQLITE3_SEQ_GRID_0_2_4096'\n",
    "config = Config(config_var)\n",
    "RNG = np.random.default_rng()\n",
    "mp_ctx = mp.get_context('spawn') # req-d for CUPY to work, 'fork' method leads to failures in bootstrap somewhere around CUDA\n",
    "\n",
    "if cp.cuda.is_available():\n",
    "    xp = cp.get_array_module(cp.empty(1))\n",
    "    xp_array_from_gpu = lambda a: a.get() if isinstance(a, cp.ndarray) else a\n",
    "    xp_array_to_gpu = lambda a: cp.asarray(a) if isinstance(a, np.ndarray) else a\n",
    "    xp_array_to_gpu_copy = lambda a: cp.asarray(a) if isinstance(a, np.ndarray) else a\n",
    "else:\n",
    "    xp = cp.get_array_module(np.empty(1))\n",
    "    xp_array_from_gpu = lambda a: a\n",
    "    xp_array_to_gpu = lambda a: a\n",
    "    xp_array_to_gpu_copy = lambda a: a.copy()\n",
    "\n",
    "print(f'xp = {xp.__name__}')\n",
    "\n",
    "with open(get_ipython().kernel.config['IPKernelApp']['connection_file'], 'r') as cf:\n",
    "    notebook_fname = json.load(cf)['jupyter_session']\n",
    "    notebook_fname = os.path.basename(notebook_fname)\n",
    "\n",
    "print(notebook_fname)\n",
    "\n",
    "hdc = Hdc(10_000, xp)"
   ]
  },
  {
   "cell_type": "code",
   "execution_count": 3,
   "id": "656ee6b7-3982-4f99-9251-6b67fef36ae3",
   "metadata": {},
   "outputs": [],
   "source": [
    "%run sequencing_sp2.ipynb"
   ]
  },
  {
   "cell_type": "markdown",
   "id": "d5c8f88a-5403-4177-b5fc-e0e2a1da9c2d",
   "metadata": {},
   "source": [
    "# Open DB"
   ]
  },
  {
   "cell_type": "code",
   "execution_count": 4,
   "id": "d2dd62ab-b44e-4251-9e86-d41b3672e36e",
   "metadata": {},
   "outputs": [
    {
     "name": "stdout",
     "output_type": "stream",
     "text": [
      "CPU times: user 2 μs, sys: 0 ns, total: 2 μs\n",
      "Wall time: 3.58 μs\n"
     ]
    },
    {
     "data": {
      "text/plain": [
       "((10000, 7), (2000, 7))"
      ]
     },
     "execution_count": 4,
     "metadata": {},
     "output_type": "execute_result"
    }
   ],
   "source": [
    "%time\n",
    "train_db_con = sqlite3.connect(DBUtils.get_full_db_file_name(config, config.train_db_file_name))\n",
    "test_db_con = sqlite3.connect(DBUtils.get_full_db_file_name(config, config.test_db_file_name))\n",
    "test_results_db_con = sqlite3.connect(DBUtils.get_full_db_file_name(config, config.test_results_db_file_name, with_prefix=False), autocommit=True)\n",
    "\n",
    "if not DBUtils.is_table_exists(test_results_db_con, 'test_runs'):\n",
    "    test_results_db_con.execute('CREATE TABLE test_runs(test_run_id INTEGER PRIMARY KEY, dummy)')\n",
    "\n",
    "df_train_images = pd.read_sql_query('SELECT * FROM images', con=train_db_con, index_col='image_id')\n",
    "df_test_images = pd.read_sql_query('SELECT * FROM images', con=test_db_con, index_col='image_id')\n",
    "df_train_images.shape, df_test_images.shape"
   ]
  },
  {
   "cell_type": "code",
   "execution_count": 5,
   "id": "70b21219-4f16-4824-90ec-7bda1574c5d1",
   "metadata": {},
   "outputs": [
    {
     "data": {
      "text/html": [
       "<div style=\"\n",
       "        display: grid; \n",
       "        grid-template-columns: repeat(8, 128px);\n",
       "        column-gap: 1px;\n",
       "        row-gap: 1px;\">\n",
       "        \n",
       "            <figure style=\"margin: 5px !important;\">\n",
       "              <img src=\"data:image/png;base64,iVBORw0KGgoAAAANSUhEUgAAAIAAAACACAAAAADmVT4XAAAFgklEQVR4nO2aS3PbNhDHdwECBF+SZcfNTDJJ084k137/L9M2qZs6tmRRFEmQIB49SM7j6EWH7oH/g2Z0IPCbxe4CuwDAokWLFi1atGjRomcW0r/kQnDw1nrvAx0gIX/JyhcvKuzruhuNfQ4Avv7lwyvcffy0bYKjmyDCAtXb396zz3lg6O30HADZ1Zv3PNddAO+OAYhGiAAQabGW5u2QqgTBWOfnBkBEJlav+Trn3h8HE0g2iAHw1kH2stwI0w3eO5on0gEQgg+Yyoty2N3V2hjaMIwOgMgYAGK1WlVlLogj0QEAGTIAAJakeaEknx0AABEAwIFQeS4ZLQ4jAIL3DgDAoSxXVSZo2wodwLlpHKwPgGm1udpUKW0N6FHgjG4bKRPOsk1vum2WkPIxHWAau6ZWJTKWXXrf3hZCzwvgjD42lRSBKYZuv8kFaZgIADsO/WhdQJ7BeFFmglF2A7oTBuemyTofAEAWuRKcNFZcGHrnQgAAlqZSJJwSiDEAwXvvT2ZPhBBCIIEgygLOudMSYCJSpdKEPZ0gCsBOj8cQLlRRFpRsSI8CCN7ZyZ2PIYmqNp31T89FMRZwk5nsyQKBq+piXcinDxcB4K0Zhul8DmIyL3KVzOoD3vRtq6cTAPJEkDJBBIDTzb4+jl/THyUIo5zQDc1+fRwcAEAIwXtPORfHWGDomqY3p0mD945UpMb4gDPDYCLKwlgAOFn9DBBCCDMvAQAyhmfXC0CbP+5Yzhh7dH38+jMfAADit9BjnHPCXhQH8P04iVSpIJwI/jMAmeV5Om8q/nEckWYqfUYLIEuSZOa94EcFT2vXRSWib7kHg5uMsQSCKAt8l3r8NOphtPMCICI+Jh9ndNfPDsA5P/u9t0N7bPW8AMh4Is7Zz5muqevOzAvAhRTn0HNjVz/sWwJAxImIJVIpeUp+09Ad9k3nnj5KDIBQea4EAwjBDH3b9hNhP4wA4KpcrwuJEPykda8HC4SGcYQPcLXaXFSKA9hB62EYSc3iKIDqYl1KFoLVXa8NrWUfAXD2AQRvdd9/rZHmA0DGk4QzBGeGXhtLa9dHNSiC94AY3Nj3eiSez+MaFKcGiR11p42fu1MKiBDC2QKdNrQViPOBRIiEQbBj3/WGkAUjARiXMpUcwzR0LWkrjgNAJlKlJIdgx67tx9ktwIVUmZIMgh0HPUxEH6DuBYgiVVkmEwTwdpom4q0d1QKIXKmiKFL2w8lwRgAus6IoivRUlCIyWoOGCoAsScuyKnKJ5//U+ak+wNNitSrz0zXNqT9EBCBaIMnXl5vyND87dY2JBEQfkOXl9VV1WgCG3lnq3TXVArK6ur4s5elfcIZWlsUAFJsXjwDWDLofZ05EPF9t1qVE8N61Tb2vW+pmRAMIXK3W60Ji8JOud/d3dw2lLIsCKNerQrLgxuPu/svt3UB9SUMDYEJVVakEhkkfdvfb3QOxS0gEQKmKsipSjs50h93+0NEfEtHu+qTKyyoTDMN4fHg49MTXE1QATLK8KIuUI/jhsNseNDEEAShLgJjkq3VVZJIB2L7e7g7DrG/JmMwvXl5vipQDBNPVu12tiTmABsCrn16/+eVlmQCAHY77+/t9P+tjtmTz84d3716VDMBPutnNDsBXr9//+uoqRwhWHw8P210zzboELF1dXV+WEoPVTb3f101Pn56UiIJ3DhIJYJq7L/d1N8bMT8gDwbQP+9YDgNn9fXN3GCLsDxQLuP7htiw2JUB799enL4eILEgD8MP+Nis3VdZuP9983rZT3L0dBeBwL1NhysPvf958iQpBIoDe49jv/8i6fz7ePDTUovRRT68nuMyyvFoVwhzrQz+OxN4QHQCRM8YTxryzzvm4ynDRokWLFi1atGjR/0D/Aq/x29nX0svuAAAAAElFTkSuQmCC\" style=\"height: auto\">\n",
       "              <figcaption style=\"font-size: 0.6em\">1</figcaption>\n",
       "            </figure>\n",
       "        \n",
       "            <figure style=\"margin: 5px !important;\">\n",
       "              <img src=\"data:image/png;base64,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\" style=\"height: auto\">\n",
       "              <figcaption style=\"font-size: 0.6em\">2</figcaption>\n",
       "            </figure>\n",
       "        \n",
       "            <figure style=\"margin: 5px !important;\">\n",
       "              <img src=\"data:image/png;base64,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\" style=\"height: auto\">\n",
       "              <figcaption style=\"font-size: 0.6em\">5</figcaption>\n",
       "            </figure>\n",
       "        \n",
       "            <figure style=\"margin: 5px !important;\">\n",
       "              <img src=\"data:image/png;base64,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\" style=\"height: auto\">\n",
       "              <figcaption style=\"font-size: 0.6em\">7</figcaption>\n",
       "            </figure>\n",
       "        \n",
       "            <figure style=\"margin: 5px !important;\">\n",
       "              <img src=\"data:image/png;base64,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\" style=\"height: auto\">\n",
       "              <figcaption style=\"font-size: 0.6em\">1</figcaption>\n",
       "            </figure>\n",
       "        \n",
       "            <figure style=\"margin: 5px !important;\">\n",
       "              <img src=\"data:image/png;base64,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\" style=\"height: auto\">\n",
       "              <figcaption style=\"font-size: 0.6em\">1</figcaption>\n",
       "            </figure>\n",
       "        \n",
       "            <figure style=\"margin: 5px !important;\">\n",
       "              <img src=\"data:image/png;base64,iVBORw0KGgoAAAANSUhEUgAAAIAAAACACAAAAADmVT4XAAAJ4UlEQVR4nO2a13LjRhaGTzdiIxOBpChpPGOX3/9dtmrXu2VPUKAkigSJnDrthTTe9RVBUhrf8L8jCgQ+HJzYDYCzzjrrrLPOOuuss/5moRP/jhWMMUYIpJRSCimEEAddQT0NAAzLIqapKUgwRoe+77v2hwIgEkdB4FkGsL5r67IsMk5/JIDpzy6nSeybaGjrMt+lKaaHmeAEAISQEc4W1xezJCBoaKoiTx0LS5FLKSXIdwfQie1Nrz9ez6LQNRHtGj8Mk+lkEqZd03WUjyM4PgqQm8zmF1fXF6FrEw0xNlDadfnq4WG13aRZ3Y0DON4C2Eo+fbpczGNPU1WMFN0EEKKZTqdPDxYWgg/vDGC4yfUvV7PYJwAIQIJECECTQgDrOgp4nA2OBMBYdYJ4vphHvvVyBIFgtKdtnhU9shPslFUz9P3A3wnAIEGYzGahY3w/xPtqm+ZFVTcD1eZR25RluUuzdwJQiR8lSRy5xqsXS96X65uvD9tmkJoTxwS6KkvvadW/CwDSrUkyjUPPQggkAgDa1enD53993bRCdy48M9JobanVs7L3UY4CwLqXzGeRSxQAkAhAdEX6dHt7e5f2YPZmXhKDD4wJudcPj3wF5mR+fRnbCsBLKpHt5vbm9tvTtqSIg2nhTBd9tds2+1zgSACFRJc/XUam/A7A66c/fr97TBsqYEAbUdiqZH2T5+x9AAw3XlzNfV0CAEgEst4uP//nMWsGCcA73q5VBJJz2r2HBTBWgyhJkomtAQAA57xZPyyXD+uacQCQgrXoNcfvL4yHA2DTcuaLWezbBkIAALzarR8+f33Kqv8l39HF8BgAK55efbyY2PpriPHd1y/fbm/Xzd73/TYAij39+OGneUAU9BKCzebLPz4/bct+7EOfCKA68dWHReToCoAUIJr08ebzH2nLxA8C0Oxwvkh8UwEAxNtyu/x6t0qLw1rRUwBUK5zN49cIYLv7u9vPd9sDW+FTABTTDZOprysSAQBLv/72bflYHeV/RwEojh+GYWAjJBAADNn95y/r4ngDHAigGnZ4NY9cC7/8Fn2drdfbjh3lf0cAaJPZ1U8fE0uB1xJAu6auT7n/gQB69OnXjx8TE14AJG37fhjbgL8JQPjh14+ziSYRgBRyKPKyHU55/gMBsOFG83n4EoKi76r18jlrfyCAYhDXc21dQQAgmvXj/c2XI0vAUQBIM0zTNDUFSwTAy+W/f799fGpPMsBBAAqxiKGrKgYAkF1299s/l1lLfxSAopiu71qmpgAIKbp883h389SddPfDAIgXxxPX1AAAhiZ/enjaZCff/wAAzUsuZrFrKAAA3fbx/nZVjJs/3whA96aLi9jVMQDIZnP39WZdH18C/hQeeyIy/NnFPLR1BAC0Wi9vH9J2b8+7X6MtoJJguphPLBWE5E2+eVg+5z8SAGl2eHG1mBAsBeuL7ephmVXDaRF4EADo9mS2mBEDCz40+fb5adX2pyXhwwCQRrwoCTHClA1Vtk3TLds/eb4hAGCN2K4GAJK1VZ4Xewf/sdcdeR7CWFE1AAA51Nk2r09PQYcBACB4mcTEUGW7U7rA4wAQALy8c0mbsmzZicvsBwP8nwSjlCNVQW/CcAAA+n5HhLCi6YbyFkFwCMD3kRsrumlaNjl1q+FF468iX30AKTqxXc9vQbxBMTxiNkSKaXuTloJhVI2QAKPXIk4FePUBpFk+B90Os6Kq+r7tBnZKWzoaACGEMQAANlxkusmiqOqqLLZpWtQ/BOC7JNaR4fVD33ZdU2yWNyoS9ISyPBpASvmyIYc0TYKQglLWlisbCUCoeP/xXErB6KAjBOg1cgnIwdMFR8RL84oNlPFj0vNoAM6Gvjf/cjoyDAyaO0/TbVZmWXVUfRgPQPumIRj/NXX52Eqy3TbdPC814Me8iNEAbGjKnGANS8S5lFIiRcWAPBI1ZZY+36uCS3SEDUY7oejL7UZHlgGCdmygVCqGbqiaqumGoatAGSZ53VDOxUHrdaMBWLt7dBFWTcSbvCqKelCJ69iOQ7BiOBywPU2zPK+r8rBeZTQAbzZLHRmuB6xeb1ardaM4YRhEsU8QxxYmSZlvt2m6euJ7N6qOAhDtdokVNw7Moc6e727uc3DjJJoXiatjCcSe0iZLn1eW7Okh88IBPlDoihlOHbvuBto35Y7XbV00XeObGtaIZRJCLJvAMKCipaM79vGZkLYZNlxHBkg4cT8wrWJln+f52jM11XA8l2jY001VMfx1mlVjjTC+FvAOBNZQMwvdZBJMoofn5026Xq88W9dU4gSTIIj8yLW9cH77je/fKjkYQAyCCknL7JM1sebzi+U3rVqXcmVqqqIQZxIli5/JxPcm0dQRZTl2bDsAQLCeC9ZRkoDl2o6j1s/rom0QAEKmHUTbngShbVqWLfJ1LtoRe3YHAQCAbBEC1Qs9cFRP9llOzV3TMpBQtwPlqusYg098qDZpr2fVqB2Mw/oBOVQIE0Pk88gJBdOj+6fVOq8AQJRSIFU0i8u561+UjeLcP44a3g5sSHgvpcKqzadfjEDRouvlzZdvT9udAOC1EKxKr2ts2NEHZliiysZUhgMBJGVc9nXJzMAj83h+EZqqbig7CsBq3pdZoQQTYs2khvLVakx1PBRAQiOFkFYYEdcwpjrvqGpoes4ZEy0bKI4up4SQiNfLwKJC7nXEI6aLoULYsvUhSSIIFlQLo8lyU9d1K4aBKpPEE7FthkkSBmzESvoRAILWoCmsuO5VHyLw5snEf0y3O9RyqNOHyGb0wnPDOA6HSu51g2PmKyYYEl1ZgWmYSuxGLiGOSzS1KBn0xXOgmb5PvEkUd4Kxd/iCQkrBQHKGbNdMVIVojArVNE1nl9Xc1IEOVCqG5UdRM/R7Q/HICbOvEKimMswcx1H1ENxwmma7XdFrwTz2LE0Fw0suhr6t3wlADDUgaNNZFCeeZpnJrCyrYpe1QIIwnBAMih1f0ibfvhMA8I7xPl9N54siiXzPiPuBVllWcY3Yjk8QgBEk9Ya80zckAJwPtCuzXdkOHUMmIQSg9f2KKYZpWjoSAuuEGOreVZQTVhkop4wJPpRlWU4M09AEYAUblm0aBkjB6DCM2NA+ZZlDDDXIPn96TJLQ830bmrpXdMMzAQCJrszyqn+XPPCnJK1ZtTG9YDKJZkmgDh0naqACAPCuSJ/X2f5J5TQAxjuEFGJ5/nRxEemcSkdxPQ+A5dv1arUp9vfHpwGABADW1009sL4wBAeHis5TRFtsbu+f03J4Xwt8F60FiHajSwFk9RgSLPsmXz+vs6LbC/A2C55YMwkxFClBIzbREDDa1VXddf3eWvA2AAhhrCAEEpCCMQaQUnAuhBjXmJ511llnnXXWWWed9bfqv9SfXkH3wRoOAAAAAElFTkSuQmCC\" style=\"height: auto\">\n",
       "              <figcaption style=\"font-size: 0.6em\">6</figcaption>\n",
       "            </figure>\n",
       "        \n",
       "            <figure style=\"margin: 5px !important;\">\n",
       "              <img src=\"data:image/png;base64,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\" style=\"height: auto\">\n",
       "              <figcaption style=\"font-size: 0.6em\">6</figcaption>\n",
       "            </figure>\n",
       "        \n",
       "            <figure style=\"margin: 5px !important;\">\n",
       "              <img src=\"data:image/png;base64,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\" style=\"height: auto\">\n",
       "              <figcaption style=\"font-size: 0.6em\">3</figcaption>\n",
       "            </figure>\n",
       "        \n",
       "            <figure style=\"margin: 5px !important;\">\n",
       "              <img src=\"data:image/png;base64,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\" style=\"height: auto\">\n",
       "              <figcaption style=\"font-size: 0.6em\">6</figcaption>\n",
       "            </figure>\n",
       "        \n",
       "            <figure style=\"margin: 5px !important;\">\n",
       "              <img src=\"data:image/png;base64,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\" style=\"height: auto\">\n",
       "              <figcaption style=\"font-size: 0.6em\">6</figcaption>\n",
       "            </figure>\n",
       "        \n",
       "            <figure style=\"margin: 5px !important;\">\n",
       "              <img src=\"data:image/png;base64,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\" style=\"height: auto\">\n",
       "              <figcaption style=\"font-size: 0.6em\">7</figcaption>\n",
       "            </figure>\n",
       "        \n",
       "            <figure style=\"margin: 5px !important;\">\n",
       "              <img src=\"data:image/png;base64,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\" style=\"height: auto\">\n",
       "              <figcaption style=\"font-size: 0.6em\">7</figcaption>\n",
       "            </figure>\n",
       "        \n",
       "            <figure style=\"margin: 5px !important;\">\n",
       "              <img src=\"data:image/png;base64,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\" style=\"height: auto\">\n",
       "              <figcaption style=\"font-size: 0.6em\">9</figcaption>\n",
       "            </figure>\n",
       "        \n",
       "            <figure style=\"margin: 5px !important;\">\n",
       "              <img src=\"data:image/png;base64,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\" style=\"height: auto\">\n",
       "              <figcaption style=\"font-size: 0.6em\">7</figcaption>\n",
       "            </figure>\n",
       "        \n",
       "            <figure style=\"margin: 5px !important;\">\n",
       "              <img src=\"data:image/png;base64,iVBORw0KGgoAAAANSUhEUgAAAIAAAACACAAAAADmVT4XAAAK7ElEQVR4nO2aaXMiuZaGj6TcFxKSfbHLVV0VtztmbkzM//8nc2+VDTZgMJD7ptRyP7i753a7cAHG0zERvN9IpaQnpORI55UALrrooosuuuiiiy76i4XeWh8jBABSSnFaA8obAUDVFASSM/oXASDD1TCIupD1XwNgNZsmAValQNn/NQDCGDt+1zcVyYpYRZH4YylBgCSAFCCEEPLsANhsNNxmq90wiGBFtPUjjtDzNy1BYkXTVIyEFKymVZ6l5R6C0wGQM7kZdZuOqWJRF/FuG3NEMAAACAnYcByLYMZZlaXR5lFSfm4A0rj++89DVycYcVomuyBliJDnQReS2C2/oRHG6yzaracyCfc0czqA5vQ//cfYxhKA0zL1mikFjEGClJwJ4na6LUuXwNJg3RBbc1/AOREAI2K6zU7PAwAAolmqYBJzIYQAyWlVIwogOdZA83XCNq56bgBVbzRc2/r9t6kTWecVrbkULE8LoTf8Tu9q7AHYdeZZ6r6WTgNARLVcx/i3ypLRLIqStGRC0DhKKLG87lUkdQPAME0NnxcAsKLpKmLlb0PA4jgMNrsgymvJqzCIKmx6vcLp9w0AuS8GvAEAJEhWJAFGQgopWBGuH9fbXRgVteA0DjIABamaghFwlsRJsTdMngjAWZVHm4UeAmM1pWUeB0EQx2lWMcnrLAew+h8/3lz5FlThajrf7YtDJwJIUefqdmExW9CyyLMky7MiL6uK1kIKXklQep//65dJr29C9vj19naVnTkUcymxbqmFzos8i6MopZRzwYUUIKWUSG1N/vbff+8ZBtTR/Os/79fFmQEkl2WyVUqFl1kWhVH274VI1dz+1c2HaxtEHawX9w+ruDr7YiRYEaGc8Koo0yT/QxGy24Orv30c2ABJvJrO5qsgq8+/GnKasAQLRuuS/rFEbX74/NNPn3yA/Gnx8M+7xVNe7VmK3gIga1ERACEE/+NuDLu9T//55WpkAwSLr9Nvs3XI+DvsByRj1cunBCtOb/zh06eeBzJ+Wkxv79dB9vK9MwB8Rxgruu36oy8fR10Xivxpfj97eIqK1+qcEwBhzWz0huPJx5u+i8vtdvH1drYMs1c3i2cFUAy38+HLT9fDtkdY+Diffb192FT01UrnBFB0u9W7+vLzxNcIZJvF3fRuvo7lq2vReQGsZncwGg17KnAarOaz+1WQ7v3/vQMAcTqjyajfUgGycDH99vXxKf1hunJOAN3rTyaDlgWQbR+nt9/utnn5w0pnBLC9znA8bFsYqt3j/d10Nk/EjybgrQAIYYwwAoQUYjSGV+NBxyEVD5YP0/vlJvhx928GUHRD1xRMVMNyvd7kethSiiRbz25n81V8SP9vBMC622jYuqaajVbLbzV9T6ujYDu/u30Igh/P/1sBsKK7fqfTsAzd8ftd39E0lQXRYjH9drcs6GH5+skACFTdsr1er9u0DMNtD3pNFQBKWUSb1XK5PtSvOB1AcVp+2+92fM/UdLvZ9QkAAAFOy6IoD/ZLTgbAenP8Ydxtew1LU1TNcQgAADwH3iOcpxMBENHdzodfPvWblqERhLGmPRdwiQhRlb2Z2HkAkKppdnt0/elL39EVAgASgUQAABIQJuQ5TX8nAEQUzXLcVm9yM+q1jV8fAqcMKQoBhDHG7zoFSLPcZrc/HHTHA1f7/XGVFNi0DUQIIccQHA+A9UZncPXxZuS4Df33jmS6SUlT0RAmRFHeF8DweuOPP38eE4KR/O2Dj7ePkSYtCzBRFPKuAMT0usPRcOg8/5RSCMbY6v4hspSmhzFRFIW8J4BitYfjQfvX/gHJOk+TdDGdpw210zawqumq8q4Atj8cdu3fLQ9ehqvV5mG6LDvudalhRdVUstcQOQeA0fB9V+XPkQ/qPFzNZouH2ZqV44QKAPSbX/lOAEjRdJ2ISkUSZE3zZDOf3S0W8y2ycyqkqMuyYodb5ydEQil4XWGKQTBWpNFu8zhfrp/CCjGJkKTpbhNmh1vnxwNIVmUJLjGIuirj7fpps92FSVwAUlRVkWXwOF9HrycjbwPgNA1tqoPkVZHsHuePuySnNZVgWJauQBmulk/xe46AKJOtkqkgWJXF28XDMiw5AIDmNhxTgToNg2i/KXYGAJZvzcIkwDnN03C93hUAAMh0e92mpQJnlNbv+hGy+JGuNAxCsKrMovjZJNCbvdGk5ygc5A+SwbcDJCzUMAIpBed19av7ZPrjD1ddRxUAGCMEBzOcAMCL50gjAeRvNiwyvN5w4FuHb0T2AWBFUYmqYKirkn7f2PneCEtiOJ7nGApGR87BnwEU23Ft1zFEvF4F3/GA9oropmkaoBIEQhxB8ALA6fXavZ4jlv9gRX1QcgUAAAgrqqaqQBDI/UdkBwF0JqPrSYvf8SBixcFNEVXTNQLAGGP8GII/AxDD6w7GV20uNosISHXYiSxSdMtxdFTJKEqLY9ai7wA0/E672RCd0U2lrYLD2kKa1Wi1HBln28VTlFN+eiDCuu15jqHIxjCWBmb5QUGVWK7f8S0erh/vlkFK+elTgBRN1xUE2OxWSKmS6JAkW7G9lt9qaNFqOp8ug/yIAXgZiATnXAggZrMWdbgNafnqfwoBIrrVHPRbJq6j1f39YpcdvhZ/B4AX8dZteAQ0V8gy2GUQ5a81iDTN9Dr9wU1HLYvVw+xhHR8TPV4CsHhlK7aPAHQXiiipCeGvARCj0RrdXA86Pgp3s7vpIkqPO8b/M0AdLwluDKgGYKBOkjPE8+SV+prTHn7+5UvX4FmwmM7un8ojr1K8GIFsi7XOeNgHQIbbLWpRJmm6t7ru+r3Rh89f2mz7tJ7Pl0+7Y6Lg9wBElSrmQ9sudNPUzVYtEashoBVlL8MyUVWnOxxPRv22nVW7xeIAZ/bHAHWB1DulWvq9nq96RDNVzVmHQfSdphXb9YeTyXjQ1KHYLmb36+T4iyQvAIBKJIvtcPIT0mxTM2zD8paLOdQvj530Zrd/dTXud01e7R4fZvPt3sO5wwGkEIxXyXadYkMTjtZQsWo2DMQE/vPBg97sjUdXV8NWAxfJajlfrOPDrMFXAUCCLGlZUtUyRNZu6MjyBUES22Fe1VxyKUACIIywNxxPhuNhz1FpsVks17s4PyIE7wUAABAl4IVaPw2HvaaJ9bZu2O1dWtKaVhVlXAAmqqo1B6Nhp9Nualn4OL+93yQlO77/fXvCOlvX2+bg6nrYdi3bcttXacUYLdIkK2sOWDNss9XpdTzb1iDefPs2ne2KU/rfByCrIH3U+5soHg06mu36dS2loFkYRHnFJNZtx/GavmtiAEiWX/9nvgpPu8y1B0AIVgKUEkkmQCG2/ZzxZ0EQZhUVSDUty3Z0zGshs+X8/mEVvrpkHA3wrHijybLI867vuRgAwDZsL6+qWkhMeE4TJGhdp9/+8bB5fck6FYAnKxqHu81gNBQtDABAWm5ZlWVVlmVVU0bLoqyy1cMiyPeeTr8FAMpdGgTbzVNcCtF6flVxDF1BVRVEcZKmWVoURRonRX3sGnAYAKWQ5lmWcUR4aRsaBgBOq6pIg6dNEIRRkuZFWbNjdqFHAQAAjUEKBHTXNA2VIIREXeVZuNvsojCKs6wsT7vGdzAA1DkSLH/ybE0jGGEka1aVWRqnWZbnZbXvktqh+rGfhRRVMyxLVwnBCBAAF5zRuqJ1zWrOxOmjfyAAIAQI4/813yRIKaUACfI5Q77ooosuuuiiiy666KKL/n/rX4Pu+nIjp7FeAAAAAElFTkSuQmCC\" style=\"height: auto\">\n",
       "              <figcaption style=\"font-size: 0.6em\">3</figcaption>\n",
       "            </figure>\n",
       "        \n",
       "    </div>"
      ],
      "text/plain": [
       "<IPython.core.display.HTML object>"
      ]
     },
     "execution_count": 5,
     "metadata": {},
     "output_type": "execute_result"
    }
   ],
   "source": [
    "count = 8\n",
    "\n",
    "def get_images_and_labels(df, ids):\n",
    "    image_datas = df.loc[ids]['png']\n",
    "    images = [Image.open(io.BytesIO(image_data)) for image_data in image_datas]\n",
    "    labels = df.loc[ids]['value']\n",
    "    return images, list(labels)\n",
    "\n",
    "def get_some_random_images_and_labels(df, count):\n",
    "    image_ids = RNG.choice(df.index.unique(), count, replace=False)\n",
    "    return get_images_and_labels(df, image_ids)\n",
    "\n",
    "train_images, train_labels = get_some_random_images_and_labels(df_train_images, count)\n",
    "test_images, test_labels = get_some_random_images_and_labels(df_test_images, count)\n",
    "\n",
    "display_images_grid(train_images + test_images, captions=train_labels + test_labels, col_count=count)"
   ]
  },
  {
   "cell_type": "markdown",
   "id": "49a9c189-4620-4fff-b12c-0553540cc48d",
   "metadata": {},
   "source": [
    "# Core logic"
   ]
  },
  {
   "cell_type": "markdown",
   "id": "3e1f9cdd-a16c-4406-9eb6-69a653b84175",
   "metadata": {},
   "source": [
    "## Hyper Parameters"
   ]
  },
  {
   "cell_type": "code",
   "execution_count": 6,
   "id": "8d1303e2-9a31-466c-8eb6-48bd7a0a7fb8",
   "metadata": {},
   "outputs": [],
   "source": [
    "HP_SIGNAL_VEC_LEN = 1024\n",
    "HP_COMBI_SPACE_SIZE = int(np.sqrt(HP_SIGNAL_VEC_LEN))\n",
    "HP_CLUSTER_SIGNALS_PROCESSED_THRES = 50\n",
    "HP_CLUSTER_STATS_LEN_THRES = 10\n",
    "HP_CLUSTER_ACCURACY_THRES = 0.75\n",
    "HP_CLUSTER_BINARIZE_THRES = 0.75\n",
    "HP_POINTS_COUNT = 5000\n",
    "HP_POINT_NON_ZERO_BITS = 100\n",
    "\n",
    "assert HP_COMBI_SPACE_SIZE ** 2 == HP_SIGNAL_VEC_LEN"
   ]
  },
  {
   "cell_type": "markdown",
   "id": "24850512-c1a7-4d52-a17a-bf1a5f7641a7",
   "metadata": {},
   "source": [
    "## Types"
   ]
  },
  {
   "cell_type": "code",
   "execution_count": 7,
   "id": "62aec35b-11c1-4d9a-9cdc-b7315222c610",
   "metadata": {},
   "outputs": [],
   "source": [
    "class ClusterState(StrEnum):\n",
    "    LEARN = auto()\n",
    "    PREPROD = auto()\n",
    "    PROD = auto()\n",
    "\n",
    "class ClusterMeta:\n",
    "    def __init__(self, cluster_ind, cluster_key, output_bit, nu, cycle):\n",
    "        self.state = ClusterState.LEARN\n",
    "        self.cluster_ind = cluster_ind\n",
    "        self.cluster_key = cluster_key\n",
    "        self.output_bit = output_bit\n",
    "        self.nu = nu\n",
    "        self.cycle = cycle\n",
    "        self.ones_count = 0\n",
    "        self.signals_processed = 0\n",
    "        self.stats = Counter()\n",
    "        self.verify_image_ids = {}"
   ]
  },
  {
   "cell_type": "markdown",
   "id": "f70e4714-7395-4a8a-93f7-7248507d6e9f",
   "metadata": {},
   "source": [
    "## Memory"
   ]
  },
  {
   "cell_type": "code",
   "execution_count": 8,
   "id": "385867d3-df1a-44cd-a8b6-ab94e752aad3",
   "metadata": {},
   "outputs": [],
   "source": [
    "CLUSTERS = HdvArray(HP_COMBI_SPACE_SIZE ** 2, xp, dtype='f')\n",
    "CLUSTER_MASKS = HdvArray(HP_COMBI_SPACE_SIZE ** 2, xp, dtype='f')\n",
    "\n",
    "CLUSTER_KEY_TO_CLUSTER_IND = {} # key - cluster key (i.e. pair (output_bit, tuple(input_bits))), value - cluster ind\n",
    "\n",
    "CLUSTER_METAS = {} # key - cluster index, value ClusterMeta instance"
   ]
  },
  {
   "cell_type": "code",
   "execution_count": 9,
   "id": "944a2145-43bc-4ece-b640-e4562074deaf",
   "metadata": {},
   "outputs": [],
   "source": [
    "def gc_memory():\n",
    "    gc.collect()\n",
    "    \n",
    "    if cp.cuda.is_available():\n",
    "        cp.get_default_memory_pool().free_all_blocks()\n",
    "\n",
    "def clear_memory(with_caches=False):\n",
    "    CLUSTER_KEY_TO_CLUSTER_IND.clear()\n",
    "    CLUSTER_METAS.clear()\n",
    "    CLUSTER_MASKS.clear()\n",
    "    CLUSTERS.clear()\n",
    "    \n",
    "    if with_caches:\n",
    "        pass\n",
    "    \n",
    "    gc_memory()"
   ]
  },
  {
   "cell_type": "markdown",
   "id": "652e9f54-23e3-432a-b96f-67992c9bac07",
   "metadata": {},
   "source": [
    "## Combinatorial Space (CS)"
   ]
  },
  {
   "cell_type": "code",
   "execution_count": 10,
   "id": "2d1d727c-338c-4662-a884-5563443e4fce",
   "metadata": {},
   "outputs": [
    {
     "name": "stdout",
     "output_type": "stream",
     "text": [
      "CPU times: user 43.3 ms, sys: 10 ms, total: 53.4 ms\n",
      "Wall time: 53 ms\n"
     ]
    }
   ],
   "source": [
    "%%time\n",
    "POINTS = []\n",
    "POINT_OUTPUT_BITS = []\n",
    "output_bits = RNG.choice(HP_SIGNAL_VEC_LEN, HP_POINTS_COUNT)\n",
    "\n",
    "for output_bit in output_bits:\n",
    "    point_vec = np.zeros(HP_SIGNAL_VEC_LEN, dtype='f')\n",
    "    non_zero_inds = RNG.choice(HP_SIGNAL_VEC_LEN, HP_POINT_NON_ZERO_BITS, replace=False)\n",
    "    point_vec[non_zero_inds] = 1\n",
    "    POINTS.append(point_vec)\n",
    "    POINT_OUTPUT_BITS.append(output_bit)\n",
    "\n",
    "POINTS = xp_array_to_gpu(np.vstack(POINTS))\n",
    "POINT_OUTPUT_BITS = np.hstack(POINT_OUTPUT_BITS)\n",
    "POINT_INDS = np.arange(POINTS.shape[0])"
   ]
  },
  {
   "cell_type": "code",
   "execution_count": 11,
   "id": "26f1817b-0645-44aa-b90b-74aeede2db33",
   "metadata": {},
   "outputs": [
    {
     "data": {
      "image/png": "[encoded data removed]",
      "text/plain": [
       "<Figure size 640x480 with 2 Axes>"
      ]
     },
     "metadata": {},
     "output_type": "display_data"
    }
   ],
   "source": [
    "point_ind = RNG.choice(POINTS.shape[0])\n",
    "point = POINTS[point_ind]\n",
    "plt.imshow(xp_array_from_gpu(point.reshape(HP_COMBI_SPACE_SIZE, -1)))\n",
    "plt.title(f'Point #{point_ind}, output bit={POINT_OUTPUT_BITS[point_ind]}, non-zero bits={point.sum():.0f}')\n",
    "plt.colorbar();"
   ]
  },
  {
   "cell_type": "markdown",
   "id": "de73e165-ba51-4050-b4b8-1af91973f3e3",
   "metadata": {},
   "source": [
    "## lambdas"
   ]
  },
  {
   "cell_type": "code",
   "execution_count": 12,
   "id": "9973a30b-4267-42a8-b61c-5c2c869c902c",
   "metadata": {},
   "outputs": [],
   "source": [
    "fetch_si_xy = lambda si: (si.x, si.y)\n",
    "get_sequence = lambda sequences: np.array(list(itertools.chain.from_iterable(sequences)))\n",
    "get_sequences_reading = lambda sequences, seq_reading_code: list(map(lambda r: sequences[r[0]] if r[1] == 0 else list(reversed(sequences[r[0]])), seq_reading_code))\n",
    "get_xy_sequence = lambda sequence, si_ind_dict: np.array(list(map(lambda si_ind: fetch_si_xy(si_ind_dict[si_ind]), sequence)))\n",
    "get_raw_image = lambda image_id: Image.open(io.BytesIO((df_train_images if image_id < 100_000_000 else df_test_images).loc[image_id]['png']))\n",
    "get_cluster_key = lambda output_bit, input_bits: (int(output_bit), tuple(map(int, sorted(input_bits))))\n",
    "signal_elem_ind_to_xy = lambda ind: (int(ind % HP_COMBI_SPACE_SIZE), int(ind // HP_COMBI_SPACE_SIZE))\n",
    "signal_elem_inds_to_xy = lambda inds: list(map(lambda ind: signal_elem_ind_to_xy(ind), inds))\n",
    "get_cluster_logic = lambda cluster_ind: (signal_elem_inds_to_xy(xp_array_from_gpu(xp.argwhere(CLUSTERS.array_active[cluster_ind]).ravel()).astype('i')), signal_elem_ind_to_xy(CLUSTER_METAS[cluster_ind].output_bit))"
   ]
  },
  {
   "cell_type": "markdown",
   "id": "a6579ab9-f958-4519-9eff-82e5e9b4677f",
   "metadata": {},
   "source": [
    "## calc_seq_ipxy"
   ]
  },
  {
   "cell_type": "code",
   "execution_count": 13,
   "id": "442809ec-87e2-47d6-be59-672b60fcd5bc",
   "metadata": {},
   "outputs": [],
   "source": [
    "def calc_seq_ipxy(sequences, si_ind_dict):\n",
    "    res = []  # transcript of sequences with full interpolation by xy \n",
    "        \n",
    "    for sequence in sequences:\n",
    "        xy_sequence = get_xy_sequence(sequence, si_ind_dict)\n",
    "        xy_sequence_fwd = np.roll(xy_sequence, -1, axis=0)\n",
    "        vec_sequence = xy_sequence_fwd - xy_sequence\n",
    "        vec_sequence[-1,:] = 0 # get rid of reciprocal vector which connects tail to tip\n",
    "        vec_len_sequence = np.linalg.norm(vec_sequence, axis=1)\n",
    "        vec_len_sequence_nozero = np.where(vec_len_sequence != 0, vec_len_sequence, 1e-6) # prevent 0 len vectors\n",
    "        norm_vec_sequence = (vec_sequence.T / vec_len_sequence_nozero).T\n",
    "        vec_len_sequence = np.round(vec_len_sequence, decimals=0).astype(int)\n",
    "        \n",
    "        assert len(sequence) == vec_sequence.shape[0]\n",
    "        assert len(sequence) == vec_len_sequence.shape[0]\n",
    "        assert len(sequence) == norm_vec_sequence.shape[0]\n",
    "        \n",
    "        for pt, pt_to, norm_vec, vec_len in zip(xy_sequence, xy_sequence_fwd, norm_vec_sequence, vec_len_sequence):\n",
    "            if vec_len <= 0:\n",
    "                continue\n",
    "\n",
    "            pts = pt + (np.arange(vec_len) * norm_vec[np.newaxis,:].T).T # path interpolation\n",
    "            pts = np.round(pts, decimals=0).astype(int)\n",
    "            res.append(pts)\n",
    "            res.append(pt_to)\n",
    "\n",
    "    assert res\n",
    "    res = np.vstack(res)\n",
    "    return res"
   ]
  },
  {
   "cell_type": "markdown",
   "id": "2fbb6298-8d85-4d7b-bd1b-db831bd714d0",
   "metadata": {},
   "source": [
    "## calc_seq_bv"
   ]
  },
  {
   "cell_type": "code",
   "execution_count": 14,
   "id": "bf069dce-adf8-453c-be28-b55a61f97627",
   "metadata": {},
   "outputs": [],
   "source": [
    "def calc_seq_bv(seq_xy):\n",
    "    seq_xy = xp_array_to_gpu(seq_xy)\n",
    "    seq_xy = seq_xy * (HP_COMBI_SPACE_SIZE / config.sample_size)\n",
    "    # Leave only points which fit into square defined by HP_COMBI_CLUSTERS_SPACE_SIZE,\n",
    "    # use filtering instead of clipping because clipping tends to introduce false point clustering at the bounadries\n",
    "    seq_xy = xp.round(seq_xy, decimals=0)\n",
    "    ii = xp.all(((seq_xy >= 0) & (seq_xy < HP_COMBI_SPACE_SIZE)), axis=1) \n",
    "    seq_xy = seq_xy[ii]\n",
    "    ind_seq = (seq_xy @ xp.array([1, HP_COMBI_SPACE_SIZE])).astype(int)\n",
    "    bitmap_vec = xp.zeros((HP_COMBI_SPACE_SIZE, HP_COMBI_SPACE_SIZE), dtype='f').ravel()\n",
    "    bitmap_vec[ind_seq] = 1\n",
    "    return bitmap_vec"
   ]
  },
  {
   "cell_type": "markdown",
   "id": "5d288799-ded2-4d59-a102-d6fec7581575",
   "metadata": {},
   "source": [
    "## get_seq_bv_pair"
   ]
  },
  {
   "cell_type": "code",
   "execution_count": 15,
   "id": "57e7573e-e617-4e98-b4e7-927032d178b5",
   "metadata": {},
   "outputs": [],
   "source": [
    "def get_seq_bv_pair(df_image, transf):\n",
    "    si_ind_dict = pickle.loads(df_image.inner_si_ind_dict)\n",
    "    sequences = pickle.loads(df_image.inner_sequences)\n",
    "    seq_reading_code = tuple(zip(range(len(sequences)), (0,) * len(sequences)))\n",
    "    seq_reading = get_sequences_reading(sequences, seq_reading_code)\n",
    "    seq_ipxy = calc_seq_ipxy(seq_reading, si_ind_dict)\n",
    "    seq_bv = calc_seq_bv(seq_ipxy)\n",
    "\n",
    "    seq_ipxy_transf = np.hstack([seq_ipxy, np.ones(seq_ipxy.shape[0])[:,np.newaxis]]) # make homogeneous coords\n",
    "    seq_ipxy_transf = (transf @ seq_ipxy_transf.T).T[:,:2]\n",
    "    seq_bv_transf = calc_seq_bv(seq_ipxy_transf)\n",
    "    \n",
    "    return seq_bv, seq_bv_transf"
   ]
  },
  {
   "cell_type": "markdown",
   "id": "582ad609-9873-4ab3-830f-488d15ecf505",
   "metadata": {},
   "source": [
    "## .lab"
   ]
  },
  {
   "cell_type": "code",
   "execution_count": null,
   "id": "df20c8bd-7ed0-4186-989f-e1984c9f45d3",
   "metadata": {},
   "outputs": [],
   "source": []
  },
  {
   "cell_type": "markdown",
   "id": "8a40ec0a-891b-4385-88c3-6699bf574057",
   "metadata": {},
   "source": [
    "# Train"
   ]
  },
  {
   "cell_type": "code",
   "execution_count": 16,
   "id": "4287bb50-b460-4bdd-8d19-322e30669418",
   "metadata": {},
   "outputs": [],
   "source": [
    "move_to_ooc_transf = np.array([\n",
    "    [1, 0, -config.sample_size / 2],\n",
    "    [0, 1, -config.sample_size / 2],\n",
    "    [0, 0, 1]])\n",
    "theta = np.deg2rad(45)\n",
    "cos_theta = math.cos(theta)\n",
    "sin_theta = math.sin(theta)\n",
    "rotation_transf = np.array([\n",
    "    [cos_theta, -sin_theta, 0],\n",
    "    [sin_theta, cos_theta, 0],\n",
    "    [0, 0, 1]\n",
    "])\n",
    "move_to_target_loc_transf = np.array([\n",
    "    [1, 0, config.sample_size / 2],\n",
    "    [0, 1, config.sample_size / 2],\n",
    "    [0, 0, 1]])\n",
    "transf_rot45 = move_to_target_loc_transf @ rotation_transf @ move_to_ooc_transf"
   ]
  },
  {
   "cell_type": "code",
   "execution_count": 17,
   "id": "0e80b056-0944-48cd-82c1-04b246f9551e",
   "metadata": {},
   "outputs": [],
   "source": [
    "transf_offset = np.array([\n",
    "    [1, 0, 10],\n",
    "    [0, 1, 0],\n",
    "    [0, 0, 1]])"
   ]
  },
  {
   "cell_type": "code",
   "execution_count": 18,
   "id": "d53d9c0e-7546-4979-a953-0b8f46f1ce48",
   "metadata": {},
   "outputs": [],
   "source": [
    "# TRANSF = transf_rot45\n",
    "TRANSF = transf_offset"
   ]
  },
  {
   "cell_type": "code",
   "execution_count": 19,
   "id": "145172a9-54d1-4563-a7ab-cde78584810c",
   "metadata": {},
   "outputs": [],
   "source": [
    "LOG.is_enabled = True"
   ]
  },
  {
   "cell_type": "code",
   "execution_count": 20,
   "id": "b5b3a964-acfe-449a-8668-928587811e45",
   "metadata": {},
   "outputs": [],
   "source": [
    "clear_memory(with_caches=True)"
   ]
  },
  {
   "cell_type": "code",
   "execution_count": 22,
   "id": "40a229ad-4719-4074-b4b8-ae25b0ce03c4",
   "metadata": {},
   "outputs": [],
   "source": [
    "cycle_images_count = min(100, len(df_train_images))\n",
    "cycles_count = 10"
   ]
  },
  {
   "cell_type": "code",
   "execution_count": 23,
   "id": "a2366ea9-8171-4373-b8ce-9cc0299c365f",
   "metadata": {},
   "outputs": [
    {
     "data": {
      "application/vnd.jupyter.widget-view+json": {
       "model_id": "3c9cc0939c574ce398787544e2336237",
       "version_major": 2,
       "version_minor": 0
      },
      "text/plain": [
       "Cycle:   0%|          | 0/10 [00:00<?, ?it/s]"
      ]
     },
     "metadata": {},
     "output_type": "display_data"
    },
    {
     "data": {
      "application/vnd.jupyter.widget-view+json": {
       "model_id": "",
       "version_major": 2,
       "version_minor": 0
      },
      "text/plain": [
       "Prepare signals:   0%|          | 0/100 [00:00<?, ?it/s]"
      ]
     },
     "metadata": {},
     "output_type": "display_data"
    },
    {
     "data": {
      "application/vnd.jupyter.widget-view+json": {
       "model_id": "",
       "version_major": 2,
       "version_minor": 0
      },
      "text/plain": [
       "Create clusters:   0%|          | 0/100 [00:00<?, ?it/s]"
      ]
     },
     "metadata": {},
     "output_type": "display_data"
    },
    {
     "data": {
      "application/vnd.jupyter.widget-view+json": {
       "model_id": "",
       "version_major": 2,
       "version_minor": 0
      },
      "text/plain": [
       "Learn clusters:   0%|          | 0/100 [00:00<?, ?it/s]"
      ]
     },
     "metadata": {},
     "output_type": "display_data"
    },
    {
     "data": {
      "application/vnd.jupyter.widget-view+json": {
       "model_id": "",
       "version_major": 2,
       "version_minor": 0
      },
      "text/plain": [
       "Promote clusters: 0it [00:00, ?it/s]"
      ]
     },
     "metadata": {},
     "output_type": "display_data"
    },
    {
     "data": {
      "application/vnd.jupyter.widget-view+json": {
       "model_id": "",
       "version_major": 2,
       "version_minor": 0
      },
      "text/plain": [
       "Verify clusters:   0%|          | 0/100 [00:00<?, ?it/s]"
      ]
     },
     "metadata": {},
     "output_type": "display_data"
    },
    {
     "data": {
      "application/vnd.jupyter.widget-view+json": {
       "model_id": "",
       "version_major": 2,
       "version_minor": 0
      },
      "text/plain": [
       "Prepare signals:   0%|          | 0/100 [00:00<?, ?it/s]"
      ]
     },
     "metadata": {},
     "output_type": "display_data"
    },
    {
     "data": {
      "application/vnd.jupyter.widget-view+json": {
       "model_id": "",
       "version_major": 2,
       "version_minor": 0
      },
      "text/plain": [
       "Create clusters:   0%|          | 0/100 [00:00<?, ?it/s]"
      ]
     },
     "metadata": {},
     "output_type": "display_data"
    },
    {
     "data": {
      "application/vnd.jupyter.widget-view+json": {
       "model_id": "",
       "version_major": 2,
       "version_minor": 0
      },
      "text/plain": [
       "Learn clusters:   0%|          | 0/100 [00:00<?, ?it/s]"
      ]
     },
     "metadata": {},
     "output_type": "display_data"
    },
    {
     "data": {
      "application/vnd.jupyter.widget-view+json": {
       "model_id": "",
       "version_major": 2,
       "version_minor": 0
      },
      "text/plain": [
       "Promote clusters:   0%|          | 0/4309 [00:00<?, ?it/s]"
      ]
     },
     "metadata": {},
     "output_type": "display_data"
    },
    {
     "data": {
      "application/vnd.jupyter.widget-view+json": {
       "model_id": "",
       "version_major": 2,
       "version_minor": 0
      },
      "text/plain": [
       "Verify clusters:   0%|          | 0/100 [00:00<?, ?it/s]"
      ]
     },
     "metadata": {},
     "output_type": "display_data"
    },
    {
     "data": {
      "application/vnd.jupyter.widget-view+json": {
       "model_id": "",
       "version_major": 2,
       "version_minor": 0
      },
      "text/plain": [
       "Prepare signals:   0%|          | 0/100 [00:00<?, ?it/s]"
      ]
     },
     "metadata": {},
     "output_type": "display_data"
    },
    {
     "data": {
      "application/vnd.jupyter.widget-view+json": {
       "model_id": "",
       "version_major": 2,
       "version_minor": 0
      },
      "text/plain": [
       "Create clusters:   0%|          | 0/100 [00:00<?, ?it/s]"
      ]
     },
     "metadata": {},
     "output_type": "display_data"
    },
    {
     "data": {
      "application/vnd.jupyter.widget-view+json": {
       "model_id": "",
       "version_major": 2,
       "version_minor": 0
      },
      "text/plain": [
       "Learn clusters:   0%|          | 0/100 [00:00<?, ?it/s]"
      ]
     },
     "metadata": {},
     "output_type": "display_data"
    },
    {
     "data": {
      "application/vnd.jupyter.widget-view+json": {
       "model_id": "",
       "version_major": 2,
       "version_minor": 0
      },
      "text/plain": [
       "Promote clusters:   0%|          | 0/13381 [00:00<?, ?it/s]"
      ]
     },
     "metadata": {},
     "output_type": "display_data"
    },
    {
     "data": {
      "application/vnd.jupyter.widget-view+json": {
       "model_id": "",
       "version_major": 2,
       "version_minor": 0
      },
      "text/plain": [
       "Verify clusters:   0%|          | 0/100 [00:00<?, ?it/s]"
      ]
     },
     "metadata": {},
     "output_type": "display_data"
    },
    {
     "data": {
      "application/vnd.jupyter.widget-view+json": {
       "model_id": "",
       "version_major": 2,
       "version_minor": 0
      },
      "text/plain": [
       "Prepare signals:   0%|          | 0/100 [00:00<?, ?it/s]"
      ]
     },
     "metadata": {},
     "output_type": "display_data"
    },
    {
     "data": {
      "application/vnd.jupyter.widget-view+json": {
       "model_id": "",
       "version_major": 2,
       "version_minor": 0
      },
      "text/plain": [
       "Create clusters:   0%|          | 0/100 [00:00<?, ?it/s]"
      ]
     },
     "metadata": {},
     "output_type": "display_data"
    },
    {
     "data": {
      "application/vnd.jupyter.widget-view+json": {
       "model_id": "",
       "version_major": 2,
       "version_minor": 0
      },
      "text/plain": [
       "Learn clusters:   0%|          | 0/100 [00:00<?, ?it/s]"
      ]
     },
     "metadata": {},
     "output_type": "display_data"
    },
    {
     "data": {
      "application/vnd.jupyter.widget-view+json": {
       "model_id": "",
       "version_major": 2,
       "version_minor": 0
      },
      "text/plain": [
       "Promote clusters:   0%|          | 0/16469 [00:00<?, ?it/s]"
      ]
     },
     "metadata": {},
     "output_type": "display_data"
    },
    {
     "data": {
      "application/vnd.jupyter.widget-view+json": {
       "model_id": "",
       "version_major": 2,
       "version_minor": 0
      },
      "text/plain": [
       "Verify clusters:   0%|          | 0/100 [00:00<?, ?it/s]"
      ]
     },
     "metadata": {},
     "output_type": "display_data"
    },
    {
     "data": {
      "application/vnd.jupyter.widget-view+json": {
       "model_id": "",
       "version_major": 2,
       "version_minor": 0
      },
      "text/plain": [
       "Prepare signals:   0%|          | 0/100 [00:00<?, ?it/s]"
      ]
     },
     "metadata": {},
     "output_type": "display_data"
    },
    {
     "data": {
      "application/vnd.jupyter.widget-view+json": {
       "model_id": "",
       "version_major": 2,
       "version_minor": 0
      },
      "text/plain": [
       "Create clusters:   0%|          | 0/100 [00:00<?, ?it/s]"
      ]
     },
     "metadata": {},
     "output_type": "display_data"
    },
    {
     "data": {
      "application/vnd.jupyter.widget-view+json": {
       "model_id": "",
       "version_major": 2,
       "version_minor": 0
      },
      "text/plain": [
       "Learn clusters:   0%|          | 0/100 [00:00<?, ?it/s]"
      ]
     },
     "metadata": {},
     "output_type": "display_data"
    },
    {
     "data": {
      "application/vnd.jupyter.widget-view+json": {
       "model_id": "",
       "version_major": 2,
       "version_minor": 0
      },
      "text/plain": [
       "Promote clusters:   0%|          | 0/19183 [00:00<?, ?it/s]"
      ]
     },
     "metadata": {},
     "output_type": "display_data"
    },
    {
     "data": {
      "application/vnd.jupyter.widget-view+json": {
       "model_id": "",
       "version_major": 2,
       "version_minor": 0
      },
      "text/plain": [
       "Verify clusters:   0%|          | 0/100 [00:00<?, ?it/s]"
      ]
     },
     "metadata": {},
     "output_type": "display_data"
    },
    {
     "data": {
      "application/vnd.jupyter.widget-view+json": {
       "model_id": "",
       "version_major": 2,
       "version_minor": 0
      },
      "text/plain": [
       "Prepare signals:   0%|          | 0/100 [00:00<?, ?it/s]"
      ]
     },
     "metadata": {},
     "output_type": "display_data"
    },
    {
     "data": {
      "application/vnd.jupyter.widget-view+json": {
       "model_id": "",
       "version_major": 2,
       "version_minor": 0
      },
      "text/plain": [
       "Create clusters:   0%|          | 0/100 [00:00<?, ?it/s]"
      ]
     },
     "metadata": {},
     "output_type": "display_data"
    },
    {
     "data": {
      "application/vnd.jupyter.widget-view+json": {
       "model_id": "",
       "version_major": 2,
       "version_minor": 0
      },
      "text/plain": [
       "Learn clusters:   0%|          | 0/100 [00:00<?, ?it/s]"
      ]
     },
     "metadata": {},
     "output_type": "display_data"
    },
    {
     "data": {
      "application/vnd.jupyter.widget-view+json": {
       "model_id": "",
       "version_major": 2,
       "version_minor": 0
      },
      "text/plain": [
       "Promote clusters:   0%|          | 0/20150 [00:00<?, ?it/s]"
      ]
     },
     "metadata": {},
     "output_type": "display_data"
    },
    {
     "data": {
      "application/vnd.jupyter.widget-view+json": {
       "model_id": "",
       "version_major": 2,
       "version_minor": 0
      },
      "text/plain": [
       "Verify clusters:   0%|          | 0/100 [00:00<?, ?it/s]"
      ]
     },
     "metadata": {},
     "output_type": "display_data"
    },
    {
     "data": {
      "application/vnd.jupyter.widget-view+json": {
       "model_id": "",
       "version_major": 2,
       "version_minor": 0
      },
      "text/plain": [
       "Prepare signals:   0%|          | 0/100 [00:00<?, ?it/s]"
      ]
     },
     "metadata": {},
     "output_type": "display_data"
    },
    {
     "data": {
      "application/vnd.jupyter.widget-view+json": {
       "model_id": "",
       "version_major": 2,
       "version_minor": 0
      },
      "text/plain": [
       "Create clusters:   0%|          | 0/100 [00:00<?, ?it/s]"
      ]
     },
     "metadata": {},
     "output_type": "display_data"
    },
    {
     "data": {
      "application/vnd.jupyter.widget-view+json": {
       "model_id": "",
       "version_major": 2,
       "version_minor": 0
      },
      "text/plain": [
       "Learn clusters:   0%|          | 0/100 [00:00<?, ?it/s]"
      ]
     },
     "metadata": {},
     "output_type": "display_data"
    },
    {
     "data": {
      "application/vnd.jupyter.widget-view+json": {
       "model_id": "",
       "version_major": 2,
       "version_minor": 0
      },
      "text/plain": [
       "Promote clusters:   0%|          | 0/21691 [00:00<?, ?it/s]"
      ]
     },
     "metadata": {},
     "output_type": "display_data"
    },
    {
     "data": {
      "application/vnd.jupyter.widget-view+json": {
       "model_id": "",
       "version_major": 2,
       "version_minor": 0
      },
      "text/plain": [
       "Verify clusters:   0%|          | 0/100 [00:00<?, ?it/s]"
      ]
     },
     "metadata": {},
     "output_type": "display_data"
    },
    {
     "data": {
      "application/vnd.jupyter.widget-view+json": {
       "model_id": "",
       "version_major": 2,
       "version_minor": 0
      },
      "text/plain": [
       "Prepare signals:   0%|          | 0/100 [00:00<?, ?it/s]"
      ]
     },
     "metadata": {},
     "output_type": "display_data"
    },
    {
     "data": {
      "application/vnd.jupyter.widget-view+json": {
       "model_id": "",
       "version_major": 2,
       "version_minor": 0
      },
      "text/plain": [
       "Create clusters:   0%|          | 0/100 [00:00<?, ?it/s]"
      ]
     },
     "metadata": {},
     "output_type": "display_data"
    },
    {
     "data": {
      "application/vnd.jupyter.widget-view+json": {
       "model_id": "",
       "version_major": 2,
       "version_minor": 0
      },
      "text/plain": [
       "Learn clusters:   0%|          | 0/100 [00:00<?, ?it/s]"
      ]
     },
     "metadata": {},
     "output_type": "display_data"
    },
    {
     "data": {
      "application/vnd.jupyter.widget-view+json": {
       "model_id": "",
       "version_major": 2,
       "version_minor": 0
      },
      "text/plain": [
       "Promote clusters:   0%|          | 0/21278 [00:00<?, ?it/s]"
      ]
     },
     "metadata": {},
     "output_type": "display_data"
    },
    {
     "data": {
      "application/vnd.jupyter.widget-view+json": {
       "model_id": "",
       "version_major": 2,
       "version_minor": 0
      },
      "text/plain": [
       "Verify clusters:   0%|          | 0/100 [00:00<?, ?it/s]"
      ]
     },
     "metadata": {},
     "output_type": "display_data"
    },
    {
     "data": {
      "application/vnd.jupyter.widget-view+json": {
       "model_id": "",
       "version_major": 2,
       "version_minor": 0
      },
      "text/plain": [
       "Prepare signals:   0%|          | 0/100 [00:00<?, ?it/s]"
      ]
     },
     "metadata": {},
     "output_type": "display_data"
    },
    {
     "data": {
      "application/vnd.jupyter.widget-view+json": {
       "model_id": "",
       "version_major": 2,
       "version_minor": 0
      },
      "text/plain": [
       "Create clusters:   0%|          | 0/100 [00:00<?, ?it/s]"
      ]
     },
     "metadata": {},
     "output_type": "display_data"
    },
    {
     "data": {
      "application/vnd.jupyter.widget-view+json": {
       "model_id": "",
       "version_major": 2,
       "version_minor": 0
      },
      "text/plain": [
       "Learn clusters:   0%|          | 0/100 [00:00<?, ?it/s]"
      ]
     },
     "metadata": {},
     "output_type": "display_data"
    },
    {
     "data": {
      "application/vnd.jupyter.widget-view+json": {
       "model_id": "",
       "version_major": 2,
       "version_minor": 0
      },
      "text/plain": [
       "Promote clusters:   0%|          | 0/21018 [00:00<?, ?it/s]"
      ]
     },
     "metadata": {},
     "output_type": "display_data"
    },
    {
     "data": {
      "application/vnd.jupyter.widget-view+json": {
       "model_id": "",
       "version_major": 2,
       "version_minor": 0
      },
      "text/plain": [
       "Verify clusters:   0%|          | 0/100 [00:00<?, ?it/s]"
      ]
     },
     "metadata": {},
     "output_type": "display_data"
    },
    {
     "data": {
      "application/vnd.jupyter.widget-view+json": {
       "model_id": "",
       "version_major": 2,
       "version_minor": 0
      },
      "text/plain": [
       "Prepare signals:   0%|          | 0/100 [00:00<?, ?it/s]"
      ]
     },
     "metadata": {},
     "output_type": "display_data"
    },
    {
     "data": {
      "application/vnd.jupyter.widget-view+json": {
       "model_id": "",
       "version_major": 2,
       "version_minor": 0
      },
      "text/plain": [
       "Create clusters:   0%|          | 0/100 [00:00<?, ?it/s]"
      ]
     },
     "metadata": {},
     "output_type": "display_data"
    },
    {
     "data": {
      "application/vnd.jupyter.widget-view+json": {
       "model_id": "",
       "version_major": 2,
       "version_minor": 0
      },
      "text/plain": [
       "Learn clusters:   0%|          | 0/100 [00:00<?, ?it/s]"
      ]
     },
     "metadata": {},
     "output_type": "display_data"
    },
    {
     "data": {
      "application/vnd.jupyter.widget-view+json": {
       "model_id": "",
       "version_major": 2,
       "version_minor": 0
      },
      "text/plain": [
       "Promote clusters:   0%|          | 0/22833 [00:00<?, ?it/s]"
      ]
     },
     "metadata": {},
     "output_type": "display_data"
    },
    {
     "data": {
      "application/vnd.jupyter.widget-view+json": {
       "model_id": "6eba2240142c4b47a178fd0e747ebe62",
       "version_major": 2,
       "version_minor": 0
      },
      "text/plain": [
       "Verify clusters:   0%|          | 0/100 [00:00<?, ?it/s]"
      ]
     },
     "metadata": {},
     "output_type": "display_data"
    }
   ],
   "source": [
    "# %%time\n",
    "prod_cluster_metas = list(filter(lambda c: c.state == ClusterState.PROD, CLUSTER_METAS.values()))\n",
    "unique_prod_cluster_keys = set(map(lambda m: get_cluster_key(m.output_bit, np.argwhere(CLUSTERS.array_active[m.cluster_ind]).ravel()), prod_cluster_metas))\n",
    "\n",
    "for cycle in tqdm(range(cycles_count), desc='Cycle'):\n",
    "    cycle_image_ids = RNG.choice(df_train_images.index, cycle_images_count, replace=False).astype('i')\n",
    "    # cycle_image_ids = [52523]\n",
    "    df_cycle_images = df_train_images.loc[cycle_image_ids]\n",
    "\n",
    "    ###\n",
    "    signals_input = []\n",
    "    signals_output = []\n",
    "    \n",
    "    for image_ind, image in tqdm(enumerate(df_cycle_images.itertuples()), total=len(df_cycle_images), leave=False, desc='Prepare signals'):\n",
    "        seq_bv_origin, seq_bv_transf = get_seq_bv_pair(image, TRANSF)\n",
    "        signals_input.append(seq_bv_origin)\n",
    "        signals_output.append(seq_bv_transf)\n",
    "\n",
    "    signals_input = xp.vstack(signals_input)\n",
    "    signals_output = xp_array_from_gpu(xp.vstack(signals_output))\n",
    "\n",
    "    ###\n",
    "    for signal_input, signal_output in tqdm(zip(signals_input, signals_output), total=signals_input.shape[0], leave=False, desc='Create clusters'):\n",
    "        active_points_mask = signal_output[POINT_OUTPUT_BITS] != 0\n",
    "        active_point_inds = POINT_INDS[active_points_mask]\n",
    "        assert active_point_inds.shape[0] > 0\n",
    "        active_points = POINTS[active_point_inds] # subset of POINTS which are connected with active output bits\n",
    "        active_points_signal_input_mat = active_points * signal_input\n",
    "        active_points_signal_input_mask = xp.any(active_points_signal_input_mat, axis=1) # which of active_points have any ON bits within input signal?\n",
    "        active_points_signal_input_mask = xp_array_from_gpu(active_points_signal_input_mask)\n",
    "\n",
    "        for point_ind, subsignal_input, subsignal_input_gpu in zip(active_point_inds[active_points_signal_input_mask], \n",
    "                                                                   xp_array_from_gpu(active_points_signal_input_mat[active_points_signal_input_mask]),\n",
    "                                                                   active_points_signal_input_mat[active_points_signal_input_mask]):\n",
    "            active_output_bit = int(POINT_OUTPUT_BITS[point_ind])\n",
    "            active_input_bits = np.argwhere(subsignal_input).ravel()\n",
    "            cluster_key = get_cluster_key(active_output_bit, active_input_bits)\n",
    "\n",
    "            if cluster_key in CLUSTER_KEY_TO_CLUSTER_IND:\n",
    "                continue\n",
    "\n",
    "            cluster_ind = CLUSTERS.lease()\n",
    "            cluster_mask_ind = CLUSTER_MASKS.lease()\n",
    "            assert cluster_ind == cluster_mask_ind\n",
    "            CLUSTERS.array_active[cluster_ind] = subsignal_input_gpu\n",
    "            CLUSTER_MASKS.array_active[cluster_ind] = subsignal_input_gpu\n",
    "            cluster_meta = ClusterMeta(cluster_ind=cluster_ind, cluster_key=cluster_key, output_bit=active_output_bit, nu=1/subsignal_input.sum(), cycle=cycle)\n",
    "            CLUSTER_METAS[cluster_ind] = cluster_meta\n",
    "            CLUSTER_KEY_TO_CLUSTER_IND[cluster_key] = cluster_ind\n",
    "\n",
    "    ###\n",
    "    learn_cluster_metas = list(filter(lambda c: c.state == ClusterState.LEARN, CLUSTER_METAS.values()))\n",
    "    learn_cluster_inds = np.array(list(map(lambda c: c.cluster_ind, learn_cluster_metas)), dtype='i')\n",
    "    learn_cluster_output_bits = np.array(list(map(lambda c: c.output_bit, learn_cluster_metas)), dtype='i')\n",
    "    \n",
    "    for signal_input, signal_output in tqdm(zip(signals_input, signals_output), total=signals_input.shape[0], leave=False, desc='Learn clusters'):\n",
    "        # this stanza 'signal_output[learn_cluster_output_bits] != 0' effectively produces\n",
    "        # boolean mask for learn_cluster_inds - clusters which are connected to currently active output bits\n",
    "        active_cluster_inds = learn_cluster_inds[signal_output[learn_cluster_output_bits] != 0]\n",
    "\n",
    "        if active_cluster_inds.shape[0] == 0:\n",
    "            continue\n",
    "        \n",
    "        active_clusters = CLUSTERS.array_active[active_cluster_inds] # subset of CLUSTERS which are connected to active bits in signal_output\n",
    "        active_cluster_masks = CLUSTER_MASKS.array_active[active_cluster_inds]\n",
    "        cluster_nus = xp.array(list(map(lambda cluster_ind: CLUSTER_METAS[cluster_ind].nu, active_cluster_inds)))\n",
    "\n",
    "        ys = signal_input @ active_clusters.T # how each cluster reacted on signal_input, ca. shape (35,)\n",
    "        grow = (signal_input * (cluster_nus * ys)[:,np.newaxis]) # how weights within each cluster must grow up in response co signal_input, matrix, ca. shape (35, 1024)\n",
    "        grow *= active_cluster_masks # masking, only allow weights which belong to clusters to grow up, matrix, ca. shape (35, 1024)\n",
    "        nomins = active_clusters + grow # grow weights within clusters\n",
    "        denoms = nomins.max(axis=1) \n",
    "        CLUSTERS.array_active[active_cluster_inds] = (nomins.T / denoms).T # upload new new weights\n",
    "\n",
    "        for cluster_ind in active_cluster_inds:\n",
    "            cluster_meta = CLUSTER_METAS[cluster_ind]\n",
    "            cluster_meta.signals_processed += 1\n",
    "\n",
    "    ### Promote LEARN clusters to PREPROD if they've learned enough\n",
    "    cluster_metas_to_promote = list(filter(lambda c: c.state == ClusterState.LEARN and c.signals_processed > HP_CLUSTER_SIGNALS_PROCESSED_THRES, CLUSTER_METAS.values()))\n",
    "    cluster_inds_to_promote = list(map(lambda c: c.cluster_ind, cluster_metas_to_promote))\n",
    "    binarized_clusters = xp.where(CLUSTERS.array_active[cluster_inds_to_promote] > HP_CLUSTER_BINARIZE_THRES, 1, 0)\n",
    "    binarized_clusters_ones_counts = binarized_clusters.sum(axis=1)\n",
    "    CLUSTERS.array_active[cluster_inds_to_promote] = binarized_clusters\n",
    "    \n",
    "    for cluster_meta, ones_count in tqdm(zip(cluster_metas_to_promote, binarized_clusters_ones_counts), total=len(cluster_metas_to_promote), leave=False, desc='Promote clusters'):\n",
    "        cluster_ind = cluster_meta.cluster_ind\n",
    "        cluster_meta.ones_count = int(ones_count)\n",
    "        assert cluster_meta.ones_count > 0\n",
    "        cluster_meta.state = ClusterState.PREPROD\n",
    "\n",
    "    ### Verify PREPROD cluster against new signals\n",
    "    prod_cluster_metas = list(filter(lambda c: c.state == ClusterState.PREPROD, CLUSTER_METAS.values()))\n",
    "    prod_cluster_inds = np.array(list(map(lambda c: c.cluster_ind, prod_cluster_metas)), dtype='i')\n",
    "    prod_cluster_ones_counts = xp.array(list(map(lambda c: c.ones_count, prod_cluster_metas)), dtype='f')\n",
    "    prod_cluster_output_bits = np.array(list(map(lambda c: c.output_bit, prod_cluster_metas)), dtype='i')\n",
    "    prod_clusters = CLUSTERS.array_active[prod_cluster_inds]\n",
    "    \n",
    "    for signal_input, signal_output, signal_image_id in tqdm(zip(signals_input, signals_output, cycle_image_ids), \n",
    "                                                             total=signals_input.shape[0], leave=False, desc='Verify clusters'):\n",
    "        activated_clusters_mask = xp_array_from_gpu((prod_clusters @ signal_input) >= prod_cluster_ones_counts)\n",
    "        # cast array of output_bit numbers [0, 3, 4, 7, 7, 0, 3, 32, ..] to TP array [True, False, False, True, True, True, False, False, ...]\n",
    "        # where True if output_bit of prod_cluster is enabled in signal_output and False otherwise\n",
    "        prod_cluster_output_bits_tf = signal_output[prod_cluster_output_bits] != 0\n",
    "        \n",
    "        for cluster_ind, tf in zip(prod_cluster_inds[activated_clusters_mask], prod_cluster_output_bits_tf[activated_clusters_mask]):\n",
    "            tf = bool(tf) # not mandatory, but eases further inspections by eyes\n",
    "            signal_image_id = int(signal_image_id)\n",
    "            cluster_meta = CLUSTER_METAS[cluster_ind]\n",
    "\n",
    "            if not signal_image_id in cluster_meta.verify_image_ids:\n",
    "                cluster_meta.stats[tf] += 1\n",
    "                cluster_meta.verify_image_ids[signal_image_id] = tf\n",
    "\n",
    "    ### \n",
    "    ready_for_prod_cluster_metas = list(filter(lambda c: c.state == ClusterState.PREPROD and c.stats.total() > HP_CLUSTER_STATS_LEN_THRES, CLUSTER_METAS.values()))\n",
    "    accurate_ready_for_prod_cluster_metas = filter(lambda c: c.stats[True] / c.stats.total() >= HP_CLUSTER_ACCURACY_THRES, ready_for_prod_cluster_metas)\n",
    "    unneeded_cluster_metas = list(filter(lambda c: c.stats[True] / c.stats.total() < HP_CLUSTER_ACCURACY_THRES, ready_for_prod_cluster_metas))\n",
    "    \n",
    "    for cluster_meta in accurate_ready_for_prod_cluster_metas:\n",
    "        cluster_key_for_prod = get_cluster_key(cluster_meta.output_bit, np.argwhere(CLUSTERS.array_active[cluster_meta.cluster_ind]).ravel())\n",
    "\n",
    "        if cluster_key_for_prod in unique_prod_cluster_keys:\n",
    "            unneeded_cluster_metas.append(cluster_meta)\n",
    "            continue\n",
    "            \n",
    "        cluster_meta.state = ClusterState.PROD\n",
    "        unique_prod_cluster_keys.add(cluster_key_for_prod)\n",
    "\n",
    "    for cluster_meta in unneeded_cluster_metas:\n",
    "        cluster_ind = cluster_meta.cluster_ind\n",
    "        del CLUSTER_KEY_TO_CLUSTER_IND[cluster_meta.cluster_key]\n",
    "        del CLUSTER_METAS[cluster_ind]\n",
    "        CLUSTERS.release(cluster_ind)\n",
    "        CLUSTER_MASKS.release(cluster_ind)"
   ]
  },
  {
   "cell_type": "code",
   "execution_count": 33,
   "id": "cf723882-55c0-49d9-acb7-e50274d2201b",
   "metadata": {},
   "outputs": [
    {
     "data": {
      "image/png": "[encoded data removed]",
      "text/plain": [
       "<Figure size 1200x480 with 2 Axes>"
      ]
     },
     "metadata": {},
     "output_type": "display_data"
    }
   ],
   "source": [
    "signal_ind = RNG.choice(signals_input.shape[0])\n",
    "signal_input = xp_array_from_gpu(signals_input[signal_ind])\n",
    "signal_output = signals_output[signal_ind]\n",
    "fig, (ax1, ax2) = plt.subplots(1, 2)\n",
    "fig.set_figwidth(12)\n",
    "ax1.imshow(signal_input.reshape(32, -1))\n",
    "ax2.imshow(signal_output.reshape(32, -1));"
   ]
  },
  {
   "cell_type": "markdown",
   "id": "c4e073c2-0c90-4248-a9fc-57f4f063892f",
   "metadata": {},
   "source": [
    "# Test"
   ]
  },
  {
   "cell_type": "code",
   "execution_count": 24,
   "id": "f2005f19-90c6-489f-9680-f0b72b97bc5c",
   "metadata": {},
   "outputs": [
    {
     "data": {
      "text/plain": [
       "(1127, 1024)"
      ]
     },
     "execution_count": 24,
     "metadata": {},
     "output_type": "execute_result"
    }
   ],
   "source": [
    "# prod_cluster_metas = list(filter(lambda c: c.state == ClusterState.PROD and c.stats[True] > 5, CLUSTER_METAS.values()))\n",
    "prod_cluster_metas = list(filter(lambda c: c.state == ClusterState.PROD, CLUSTER_METAS.values()))\n",
    "prod_cluster_inds = np.array(list(map(lambda c: c.cluster_ind, prod_cluster_metas)), dtype='i')\n",
    "prod_cluster_ones_counts = xp.array(list(map(lambda c: c.ones_count, prod_cluster_metas)), dtype='f')\n",
    "prod_cluster_output_bits = np.array(list(map(lambda c: c.output_bit, prod_cluster_metas)), dtype='i')\n",
    "prod_clusters = CLUSTERS.array_active[prod_cluster_inds]\n",
    "prod_clusters.shape"
   ]
  },
  {
   "cell_type": "code",
   "execution_count": 44,
   "id": "9a743124-b134-445f-8a7c-de08006155f1",
   "metadata": {},
   "outputs": [
    {
     "data": {
      "text/plain": [
       "(([(22, 18), (23, 18)], (25, 18)),\n",
       " {'state': <ClusterState.PROD: 'prod'>,\n",
       "  'cluster_ind': 2,\n",
       "  'cluster_key': (601, (361, 434, 595, 598, 599, 657, 753)),\n",
       "  'output_bit': 601,\n",
       "  'nu': np.float32(0.14285715),\n",
       "  'cycle': 0,\n",
       "  'ones_count': 2,\n",
       "  'signals_processed': 56,\n",
       "  'stats': Counter({True: 11}),\n",
       "  'verify_image_ids': {47014: True,\n",
       "   14352: True,\n",
       "   36824: True,\n",
       "   5295: True,\n",
       "   46041: True,\n",
       "   42784: True,\n",
       "   49595: True,\n",
       "   12614: True,\n",
       "   30822: True,\n",
       "   11357: True,\n",
       "   17629: True}})"
      ]
     },
     "execution_count": 44,
     "metadata": {},
     "output_type": "execute_result"
    }
   ],
   "source": [
    "inspected_ind = 0\n",
    "cluster_ind = prod_cluster_inds[inspected_ind]\n",
    "get_cluster_logic(cluster_ind), vars(CLUSTER_METAS[cluster_ind])"
   ]
  },
  {
   "cell_type": "code",
   "execution_count": 84,
   "id": "9f99c747-b18c-458b-873f-487e347e34a8",
   "metadata": {},
   "outputs": [
    {
     "data": {
      "text/plain": [
       "UniqueCountsResult(values=array([ 0.,  1.,  2.,  3.,  4.,  5.,  6.,  7.,  8.,  9., 10., 11.],\n",
       "      dtype=float32), counts=array([949,  23,  14,  11,   8,   4,   5,   2,   1,   3,   2,   2]))"
      ]
     },
     "execution_count": 84,
     "metadata": {},
     "output_type": "execute_result"
    }
   ],
   "source": [
    "np.unique_counts(seq_bv_out.get())"
   ]
  },
  {
   "cell_type": "code",
   "execution_count": 76,
   "id": "82c262a8-efd8-401b-8c23-db16c94b9274",
   "metadata": {},
   "outputs": [
    {
     "data": {
      "text/plain": [
       "([(13, 22), (14, 22)], (16, 22))"
      ]
     },
     "execution_count": 76,
     "metadata": {},
     "output_type": "execute_result"
    }
   ],
   "source": [
    "get_cluster_logic(prod_cluster_inds[4])"
   ]
  },
  {
   "cell_type": "code",
   "execution_count": 86,
   "id": "7cb47b56-9290-45e7-990a-d8c4f330b756",
   "metadata": {},
   "outputs": [
    {
     "name": "stdout",
     "output_type": "stream",
     "text": [
      "3697 ([(12, 9), (11, 11), (24, 15)], (12, 16)) [[300]\n",
      " [363]\n",
      " [504]]\n"
     ]
    }
   ],
   "source": [
    "for ind in np.argwhere(activated_clusters_mask).ravel():\n",
    "    cl = get_cluster_logic(prod_cluster_inds[ind])\n",
    "\n",
    "    if cl[1][1] == 16 and cl[1][0] < 15:\n",
    "        print(ind, cl, np.argwhere(CLUSTERS.array_active[prod_cluster_inds[3697]]))"
   ]
  },
  {
   "cell_type": "code",
   "execution_count": 88,
   "id": "a5e3bbc6-2c19-4509-aa6a-fd84024fb5af",
   "metadata": {},
   "outputs": [
    {
     "data": {
      "text/plain": [
       "array([1., 1., 1.], dtype=float32)"
      ]
     },
     "execution_count": 88,
     "metadata": {},
     "output_type": "execute_result"
    }
   ],
   "source": [
    "seq_bv[[300, 363, 504]]"
   ]
  },
  {
   "cell_type": "code",
   "execution_count": 25,
   "id": "da374d86-709e-4d82-bc2a-82e50dd790fe",
   "metadata": {},
   "outputs": [
    {
     "name": "stdout",
     "output_type": "stream",
     "text": [
      "CPU times: user 179 ms, sys: 2.8 ms, total: 182 ms\n",
      "Wall time: 21.5 ms\n"
     ]
    },
    {
     "data": {
      "image/png": "[encoded data removed]",
      "text/plain": [
       "<Figure size 1200x480 with 2 Axes>"
      ]
     },
     "metadata": {},
     "output_type": "display_data"
    }
   ],
   "source": [
    "%%time\n",
    "image_id = RNG.choice(df_train_images.index)\n",
    "image = next(df_train_images.loc[[image_id]].itertuples())\n",
    "si_ind_dict = pickle.loads(image.inner_si_ind_dict)\n",
    "sequences = pickle.loads(image.inner_sequences)\n",
    "seq_reading_code = tuple(zip(range(len(sequences)), (0,) * len(sequences)))\n",
    "seq_reading = get_sequences_reading(sequences, seq_reading_code)\n",
    "seq_ipxy = calc_seq_ipxy(seq_reading, si_ind_dict)\n",
    "seq_bv = calc_seq_bv(seq_ipxy)\n",
    "\n",
    "activated_clusters_mask = (prod_clusters @ seq_bv) >= prod_cluster_ones_counts\n",
    "activated_clusters_mask = xp_array_from_gpu(activated_clusters_mask)\n",
    "seq_bv_out = np.zeros_like(seq_bv)\n",
    "# seq_bv_out[prod_cluster_output_bits[activated_clusters_mask]] = 1\n",
    "values = Counter(prod_cluster_output_bits[activated_clusters_mask])\n",
    "seq_bv_out[list(values.keys())] = list(values.values())\n",
    "seq_bv_out = xp.where(seq_bv_out > seq_bv_out.mean(), 1, 0)\n",
    "# seq_bv_out = xp.where(seq_bv_out > np.median(seq_bv_out), 1, 0)\n",
    "\n",
    "fig, (ax1, ax2) = plt.subplots(1, 2)\n",
    "fig.set_figwidth(12)\n",
    "ax1.imshow(xp_array_from_gpu(seq_bv).reshape(32, -1))\n",
    "ax2.imshow(xp_array_from_gpu(seq_bv_out).reshape(32, -1));"
   ]
  }
 ],
 "metadata": {
  "kernelspec": {
   "display_name": "Python 3 (ipykernel)",
   "language": "python",
   "name": "python3"
  },
  "language_info": {
   "codemirror_mode": {
    "name": "ipython",
    "version": 3
   },
   "file_extension": ".py",
   "mimetype": "text/x-python",
   "name": "python",
   "nbconvert_exporter": "python",
   "pygments_lexer": "ipython3",
   "version": "3.12.2"
  }
 },
 "nbformat": 4,
 "nbformat_minor": 5
}
