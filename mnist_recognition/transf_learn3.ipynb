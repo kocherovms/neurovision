{
 "cells": [
  {
   "cell_type": "code",
   "execution_count": 96,
   "id": "27532844-1826-4299-b063-16a22e592f3f",
   "metadata": {},
   "outputs": [],
   "source": [
    "import os, math\n",
    "from enum import StrEnum, auto\n",
    "from collections import defaultdict, namedtuple, Counter\n",
    "import itertools\n",
    "import sqlite3\n",
    "import pickle\n",
    "import datetime\n",
    "import multiprocessing as mp\n",
    "import gc\n",
    "import json\n",
    "from IPython.core.getipython import get_ipython\n",
    "\n",
    "from PIL import Image, ImageDraw\n",
    "from tqdm.notebook import tqdm\n",
    "\n",
    "from sklearn.model_selection import train_test_split\n",
    "from sklearn.decomposition import PCA\n",
    "import matplotlib.pyplot as plt\n",
    "import scipy\n",
    "import numpy as np\n",
    "import cupy as cp\n",
    "import pandas as pd\n",
    "\n",
    "from module.utils import *\n",
    "from module.hdc import *\n",
    "from module.constants import *"
   ]
  },
  {
   "cell_type": "code",
   "execution_count": 97,
   "id": "73358262-adf2-4d17-a383-f120a5d1f8aa",
   "metadata": {},
   "outputs": [
    {
     "name": "stdout",
     "output_type": "stream",
     "text": [
      "xp = numpy\n",
      "transf_learn3.ipynb\n"
     ]
    }
   ],
   "source": [
    "LOG = Logging()\n",
    "\n",
    "config_var = 'SQLITE3_SEQ_GRID_0_2_4096'\n",
    "config = Config(config_var)\n",
    "RNG = np.random.default_rng()\n",
    "mp_ctx = mp.get_context('spawn') # req-d for CUPY to work, 'fork' method leads to failures in bootstrap somewhere around CUDA\n",
    "\n",
    "if cp.cuda.is_available():\n",
    "    xp = cp.get_array_module(cp.empty(1))\n",
    "    xp_array_from_gpu = lambda a: a.get() if isinstance(a, cp.ndarray) else a\n",
    "    xp_array_to_gpu = lambda a: cp.asarray(a) if isinstance(a, np.ndarray) else a\n",
    "    xp_array_to_gpu_copy = lambda a: cp.asarray(a) if isinstance(a, np.ndarray) else a\n",
    "else:\n",
    "    xp = cp.get_array_module(np.empty(1))\n",
    "    xp_array_from_gpu = lambda a: a\n",
    "    xp_array_to_gpu = lambda a: a\n",
    "    xp_array_to_gpu_copy = lambda a: a.copy()\n",
    "\n",
    "print(f'xp = {xp.__name__}')\n",
    "\n",
    "with open(get_ipython().kernel.config['IPKernelApp']['connection_file'], 'r') as cf:\n",
    "    notebook_fname = json.load(cf)['jupyter_session']\n",
    "    notebook_fname = os.path.basename(notebook_fname)\n",
    "\n",
    "print(notebook_fname)"
   ]
  },
  {
   "cell_type": "code",
   "execution_count": 98,
   "id": "656ee6b7-3982-4f99-9251-6b67fef36ae3",
   "metadata": {},
   "outputs": [],
   "source": [
    "%run sequencing_sp2.ipynb"
   ]
  },
  {
   "cell_type": "markdown",
   "id": "d5c8f88a-5403-4177-b5fc-e0e2a1da9c2d",
   "metadata": {},
   "source": [
    "# Open DB"
   ]
  },
  {
   "cell_type": "code",
   "execution_count": 99,
   "id": "d2dd62ab-b44e-4251-9e86-d41b3672e36e",
   "metadata": {},
   "outputs": [
    {
     "name": "stdout",
     "output_type": "stream",
     "text": [
      "CPU times: user 2 μs, sys: 0 ns, total: 2 μs\n",
      "Wall time: 3.1 μs\n"
     ]
    },
    {
     "data": {
      "text/plain": [
       "((10000, 7), (2000, 7))"
      ]
     },
     "execution_count": 99,
     "metadata": {},
     "output_type": "execute_result"
    }
   ],
   "source": [
    "%time\n",
    "train_db_con = sqlite3.connect(DBUtils.get_full_db_file_name(config, config.train_db_file_name))\n",
    "test_db_con = sqlite3.connect(DBUtils.get_full_db_file_name(config, config.test_db_file_name))\n",
    "test_results_db_con = sqlite3.connect(DBUtils.get_full_db_file_name(config, config.test_results_db_file_name, with_prefix=False), autocommit=True)\n",
    "transfs_db_con = sqlite3.connect(DBUtils.get_full_db_file_name(config, config.transfs_db_file_name, with_prefix=False), autocommit=False)\n",
    "\n",
    "if not DBUtils.is_table_exists(test_results_db_con, 'test_runs'):\n",
    "    test_results_db_con.execute('CREATE TABLE test_runs(test_run_id INTEGER PRIMARY KEY, dummy)')\n",
    "\n",
    "if not DBUtils.is_table_exists(transfs_db_con, 'pixels'):\n",
    "    transfs_db_con.execute('CREATE TABLE pixels(encoding, sbv)')\n",
    "    transfs_db_con.commit()\n",
    "\n",
    "if not DBUtils.is_table_exists(transfs_db_con, 'clusters'):\n",
    "    transfs_db_con.execute('CREATE TABLE clusters(encoding, transf_code, output_bit, sbv, meta)')\n",
    "    transfs_db_con.commit()\n",
    "\n",
    "df_train_images = pd.read_sql_query('SELECT * FROM images', con=train_db_con, index_col='image_id')\n",
    "df_test_images = pd.read_sql_query('SELECT * FROM images', con=test_db_con, index_col='image_id')\n",
    "df_train_images.shape, df_test_images.shape"
   ]
  },
  {
   "cell_type": "code",
   "execution_count": 100,
   "id": "70b21219-4f16-4824-90ec-7bda1574c5d1",
   "metadata": {},
   "outputs": [
    {
     "data": {
      "text/html": [
       "<div style=\"\n",
       "        display: grid; \n",
       "        grid-template-columns: repeat(8, 128px);\n",
       "        column-gap: 1px;\n",
       "        row-gap: 1px;\">\n",
       "        \n",
       "            <figure style=\"margin: 5px !important;\">\n",
       "              <img src=\"data:image/png;base64,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\" style=\"height: auto\">\n",
       "              <figcaption style=\"font-size: 0.6em\">3</figcaption>\n",
       "            </figure>\n",
       "        \n",
       "            <figure style=\"margin: 5px !important;\">\n",
       "              <img src=\"data:image/png;base64,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\" style=\"height: auto\">\n",
       "              <figcaption style=\"font-size: 0.6em\">8</figcaption>\n",
       "            </figure>\n",
       "        \n",
       "            <figure style=\"margin: 5px !important;\">\n",
       "              <img src=\"data:image/png;base64,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\" style=\"height: auto\">\n",
       "              <figcaption style=\"font-size: 0.6em\">2</figcaption>\n",
       "            </figure>\n",
       "        \n",
       "            <figure style=\"margin: 5px !important;\">\n",
       "              <img src=\"data:image/png;base64,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\" style=\"height: auto\">\n",
       "              <figcaption style=\"font-size: 0.6em\">9</figcaption>\n",
       "            </figure>\n",
       "        \n",
       "            <figure style=\"margin: 5px !important;\">\n",
       "              <img src=\"data:image/png;base64,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\" style=\"height: auto\">\n",
       "              <figcaption style=\"font-size: 0.6em\">0</figcaption>\n",
       "            </figure>\n",
       "        \n",
       "            <figure style=\"margin: 5px !important;\">\n",
       "              <img src=\"data:image/png;base64,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\" style=\"height: auto\">\n",
       "              <figcaption style=\"font-size: 0.6em\">6</figcaption>\n",
       "            </figure>\n",
       "        \n",
       "            <figure style=\"margin: 5px !important;\">\n",
       "              <img src=\"data:image/png;base64,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\" style=\"height: auto\">\n",
       "              <figcaption style=\"font-size: 0.6em\">4</figcaption>\n",
       "            </figure>\n",
       "        \n",
       "            <figure style=\"margin: 5px !important;\">\n",
       "              <img src=\"data:image/png;base64,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\" style=\"height: auto\">\n",
       "              <figcaption style=\"font-size: 0.6em\">5</figcaption>\n",
       "            </figure>\n",
       "        \n",
       "            <figure style=\"margin: 5px !important;\">\n",
       "              <img src=\"data:image/png;base64,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\" style=\"height: auto\">\n",
       "              <figcaption style=\"font-size: 0.6em\">0</figcaption>\n",
       "            </figure>\n",
       "        \n",
       "            <figure style=\"margin: 5px !important;\">\n",
       "              <img src=\"data:image/png;base64,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\" style=\"height: auto\">\n",
       "              <figcaption style=\"font-size: 0.6em\">7</figcaption>\n",
       "            </figure>\n",
       "        \n",
       "            <figure style=\"margin: 5px !important;\">\n",
       "              <img src=\"data:image/png;base64,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\" style=\"height: auto\">\n",
       "              <figcaption style=\"font-size: 0.6em\">9</figcaption>\n",
       "            </figure>\n",
       "        \n",
       "            <figure style=\"margin: 5px !important;\">\n",
       "              <img src=\"data:image/png;base64,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\" style=\"height: auto\">\n",
       "              <figcaption style=\"font-size: 0.6em\">7</figcaption>\n",
       "            </figure>\n",
       "        \n",
       "            <figure style=\"margin: 5px !important;\">\n",
       "              <img src=\"data:image/png;base64,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\" style=\"height: auto\">\n",
       "              <figcaption style=\"font-size: 0.6em\">0</figcaption>\n",
       "            </figure>\n",
       "        \n",
       "            <figure style=\"margin: 5px !important;\">\n",
       "              <img src=\"data:image/png;base64,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\" style=\"height: auto\">\n",
       "              <figcaption style=\"font-size: 0.6em\">8</figcaption>\n",
       "            </figure>\n",
       "        \n",
       "            <figure style=\"margin: 5px !important;\">\n",
       "              <img src=\"data:image/png;base64,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\" style=\"height: auto\">\n",
       "              <figcaption style=\"font-size: 0.6em\">8</figcaption>\n",
       "            </figure>\n",
       "        \n",
       "            <figure style=\"margin: 5px !important;\">\n",
       "              <img src=\"data:image/png;base64,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\" style=\"height: auto\">\n",
       "              <figcaption style=\"font-size: 0.6em\">7</figcaption>\n",
       "            </figure>\n",
       "        \n",
       "    </div>"
      ],
      "text/plain": [
       "<IPython.core.display.HTML object>"
      ]
     },
     "execution_count": 100,
     "metadata": {},
     "output_type": "execute_result"
    }
   ],
   "source": [
    "count = 8\n",
    "\n",
    "def get_images_and_labels(df, ids):\n",
    "    image_datas = df.loc[ids]['png']\n",
    "    images = [Image.open(io.BytesIO(image_data)) for image_data in image_datas]\n",
    "    labels = df.loc[ids]['value']\n",
    "    return images, list(labels)\n",
    "\n",
    "def get_some_random_images_and_labels(df, count):\n",
    "    image_ids = RNG.choice(df.index.unique(), count, replace=False)\n",
    "    return get_images_and_labels(df, image_ids)\n",
    "\n",
    "train_images, train_labels = get_some_random_images_and_labels(df_train_images, count)\n",
    "test_images, test_labels = get_some_random_images_and_labels(df_test_images, count)\n",
    "\n",
    "display_images_grid(train_images + test_images, captions=train_labels + test_labels, col_count=count)"
   ]
  },
  {
   "cell_type": "markdown",
   "id": "49a9c189-4620-4fff-b12c-0553540cc48d",
   "metadata": {},
   "source": [
    "# Core logic"
   ]
  },
  {
   "cell_type": "markdown",
   "id": "3e1f9cdd-a16c-4406-9eb6-69a653b84175",
   "metadata": {},
   "source": [
    "## Hyper Parameters"
   ]
  },
  {
   "cell_type": "code",
   "execution_count": 101,
   "id": "8d1303e2-9a31-466c-8eb6-48bd7a0a7fb8",
   "metadata": {},
   "outputs": [],
   "source": [
    "HP_SIGNAL_VEC_LEN = 2000 # aka SBV\n",
    "HP_SIGNAL_VEC_NON_ZERO_BITS = 9\n",
    "HP_SIGNAL_ENCODING = f'{HP_SIGNAL_VEC_LEN}/{HP_SIGNAL_VEC_NON_ZERO_BITS}'\n",
    "\n",
    "HP_CLUSTER_LEARN_STATE_IDLE_CYCLES = 10\n",
    "HP_CLUSTER_PREPROD_STATE_IDLE_CYCLES = 30\n",
    "HP_CLUSTER_SIGNALS_PROCESSED_THRES = 50\n",
    "HP_CLUSTER_STATS_LEN_THRES = 10\n",
    "HP_CLUSTER_ACCURACY_THRES = 0.75\n",
    "HP_CLUSTER_BINARIZE_THRES = 0.75\n",
    "HP_CLUSTER_ONES_COUNT_THRES = 4"
   ]
  },
  {
   "cell_type": "markdown",
   "id": "24850512-c1a7-4d52-a17a-bf1a5f7641a7",
   "metadata": {},
   "source": [
    "## Types"
   ]
  },
  {
   "cell_type": "code",
   "execution_count": 102,
   "id": "62aec35b-11c1-4d9a-9cdc-b7315222c610",
   "metadata": {},
   "outputs": [],
   "source": [
    "class ClusterState(StrEnum):\n",
    "    LEARN = auto()\n",
    "    PREPROD = auto()\n",
    "    PROD = auto()\n",
    "    DEAD = auto()\n",
    "\n",
    "class ClusterMeta:\n",
    "    def __init__(self, cluster_ind, cluster_key, output_bit, nu, cycle):\n",
    "        self.state = ClusterState.LEARN\n",
    "        self.cluster_ind = cluster_ind\n",
    "        self.cluster_key = cluster_key\n",
    "        self.output_bit = output_bit\n",
    "        self.nu = nu\n",
    "        self.cycle = cycle\n",
    "        self.ones_count = 0\n",
    "        self.signals_processed = 0\n",
    "        self.stats = Counter()\n",
    "        self.verify_image_ids = {}\n",
    "        self.alarm_cycle = None"
   ]
  },
  {
   "cell_type": "markdown",
   "id": "f70e4714-7395-4a8a-93f7-7248507d6e9f",
   "metadata": {},
   "source": [
    "## Memory"
   ]
  },
  {
   "cell_type": "code",
   "execution_count": 103,
   "id": "385867d3-df1a-44cd-a8b6-ab94e752aad3",
   "metadata": {},
   "outputs": [],
   "source": [
    "def hdv_array_log_like_grow_policy(size):\n",
    "    k = math.log(size, 100_000)\n",
    "    new_size = size * 2 if k < 1 else size * 1.1\n",
    "    return int(new_size)\n",
    "\n",
    "CLUSTERS = HdvArray(HP_SIGNAL_VEC_LEN, xp, dtype='f', grow_policy=hdv_array_log_like_grow_policy)\n",
    "CLUSTER_MASKS = HdvArray(HP_SIGNAL_VEC_LEN, xp, dtype='f', grow_policy=hdv_array_log_like_grow_policy)\n",
    "\n",
    "CLUSTER_KEY_TO_CLUSTER_IND = {} # key - cluster key (i.e. pair (output_bit, tuple(input_bits))), value - cluster ind\n",
    "\n",
    "CLUSTER_METAS = {} # key - cluster index, value ClusterMeta instance"
   ]
  },
  {
   "cell_type": "code",
   "execution_count": 104,
   "id": "944a2145-43bc-4ece-b640-e4562074deaf",
   "metadata": {},
   "outputs": [],
   "source": [
    "def gc_memory():\n",
    "    gc.collect()\n",
    "    \n",
    "    if cp.cuda.is_available():\n",
    "        cp.get_default_memory_pool().free_all_blocks()\n",
    "\n",
    "def clear_memory(with_caches=False):\n",
    "    CLUSTER_KEY_TO_CLUSTER_IND.clear()\n",
    "    CLUSTER_METAS.clear()\n",
    "    CLUSTER_MASKS.clear()\n",
    "    CLUSTERS.clear()\n",
    "    \n",
    "    if with_caches:\n",
    "        pass\n",
    "    \n",
    "    gc_memory()"
   ]
  },
  {
   "cell_type": "markdown",
   "id": "652e9f54-23e3-432a-b96f-67992c9bac07",
   "metadata": {},
   "source": [
    "## Combinatorial Space (CS)"
   ]
  },
  {
   "cell_type": "code",
   "execution_count": 105,
   "id": "2d1d727c-338c-4662-a884-5563443e4fce",
   "metadata": {},
   "outputs": [
    {
     "name": "stdout",
     "output_type": "stream",
     "text": [
      "CPU times: user 48.5 ms, sys: 14.9 ms, total: 63.5 ms\n",
      "Wall time: 63.2 ms\n"
     ]
    }
   ],
   "source": [
    "%%time\n",
    "POINTS = []\n",
    "POINT_OUTPUT_BITS = []\n",
    "output_bits = RNG.choice(HP_SIGNAL_VEC_LEN, HP_POINTS_COUNT)\n",
    "\n",
    "for output_bit in output_bits:\n",
    "    point_vec = np.zeros(HP_SIGNAL_VEC_LEN, dtype='f')\n",
    "    non_zero_inds = RNG.choice(HP_SIGNAL_VEC_LEN, HP_POINT_NON_ZERO_BITS, replace=False)\n",
    "    point_vec[non_zero_inds] = 1\n",
    "    POINTS.append(point_vec)\n",
    "    POINT_OUTPUT_BITS.append(output_bit)\n",
    "\n",
    "POINTS = xp_array_to_gpu(np.vstack(POINTS))\n",
    "POINT_OUTPUT_BITS = np.hstack(POINT_OUTPUT_BITS)\n",
    "POINT_INDS = np.arange(POINTS.shape[0])"
   ]
  },
  {
   "cell_type": "code",
   "execution_count": 106,
   "id": "26f1817b-0645-44aa-b90b-74aeede2db33",
   "metadata": {},
   "outputs": [
    {
     "data": {
      "image/png": "[encoded data removed]",
      "text/plain": [
       "<Figure size 1600x800 with 1 Axes>"
      ]
     },
     "metadata": {},
     "output_type": "display_data"
    }
   ],
   "source": [
    "point_ind = RNG.choice(POINTS.shape[0])\n",
    "point = POINTS[point_ind]\n",
    "plt.figure(figsize=(16, 8))\n",
    "plt.title(f'Point #{point_ind}, output bit={POINT_OUTPUT_BITS[point_ind]}, non-zero bits={point.sum():.0f}')\n",
    "plt.imshow(np.ones((100, 1)) * point);"
   ]
  },
  {
   "cell_type": "markdown",
   "id": "6438e5f1-7eb4-483c-8572-a32543ab348d",
   "metadata": {},
   "source": [
    "## SBV"
   ]
  },
  {
   "cell_type": "raw",
   "id": "c0294e1e-250b-45b4-aa7b-8172ed6328c5",
   "metadata": {},
   "source": [
    "SBV stands for \"sparsed binary vector\""
   ]
  },
  {
   "cell_type": "code",
   "execution_count": 107,
   "id": "b1a43c52-4006-4a8e-a97d-507ee8f69ef7",
   "metadata": {},
   "outputs": [
    {
     "name": "stdout",
     "output_type": "stream",
     "text": [
      "PIXEL_SBVS loaded from database (ROWID=1)\n"
     ]
    }
   ],
   "source": [
    "df_pixels = pd.read_sql('SELECT rowid, sbv FROM pixels WHERE encoding=:encoding', params={'encoding': HP_SIGNAL_ENCODING}, con=transfs_db_con)\n",
    "\n",
    "if len(df_pixels) > 0:\n",
    "    PIXEL_SBVS = pickle.loads(df_pixels.iloc[0].sbv)\n",
    "    print(f'PIXEL_SBVS loaded from database (ROWID={df_pixels.iloc[0].rowid})')\n",
    "else:\n",
    "    PIXEL_SBVS = np.zeros((config.sample_size ** 2, HP_SIGNAL_VEC_LEN), dtype='f')\n",
    "    \n",
    "    for i in range(PIXEL_SBVS.shape[0]):\n",
    "        ii = RNG.choice(HP_SIGNAL_VEC_LEN, HP_SIGNAL_VEC_NON_ZERO_BITS, replace=False)\n",
    "        PIXEL_SBVS[i][ii] = 1\n",
    "\n",
    "    cur = transfs_db_con.cursor()\n",
    "    cur.execute('INSERT INTO pixels (encoding, sbv) VALUES (:encoding, :sbv)', {'encoding': HP_SIGNAL_ENCODING, 'sbv': pickle.dumps(PIXEL_SBVS)})\n",
    "    print('PIXEL_SBVS created from scratch')\n",
    "\n",
    "assert PIXEL_SBVS.shape[0] == config.sample_size ** 2\n",
    "assert np.all(PIXEL_SBVS.sum(axis=1) == HP_SIGNAL_VEC_NON_ZERO_BITS)    \n",
    "PIXEL_SBVS = xp_array_to_gpu(PIXEL_SBVS)"
   ]
  },
  {
   "cell_type": "markdown",
   "id": "de73e165-ba51-4050-b4b8-1af91973f3e3",
   "metadata": {},
   "source": [
    "## lambdas"
   ]
  },
  {
   "cell_type": "code",
   "execution_count": 108,
   "id": "9973a30b-4267-42a8-b61c-5c2c869c902c",
   "metadata": {},
   "outputs": [],
   "source": [
    "fetch_si_xy = lambda si: (si.x, si.y)\n",
    "get_sequence = lambda sequences: np.array(list(itertools.chain.from_iterable(sequences)))\n",
    "get_sequences_reading = lambda sequences, seq_reading_code: list(map(lambda r: sequences[r[0]] if r[1] == 0 else list(reversed(sequences[r[0]])), seq_reading_code))\n",
    "get_xy_sequence = lambda sequence, si_ind_dict: np.array(list(map(lambda si_ind: fetch_si_xy(si_ind_dict[si_ind]), sequence)))\n",
    "get_raw_image = lambda image_id: Image.open(io.BytesIO((df_train_images if image_id < 100_000_000 else df_test_images).loc[image_id]['png']))\n",
    "get_cluster_key = lambda output_bit, input_bits: (int(output_bit), tuple(map(int, sorted(input_bits))))\n",
    "signal_elem_ind_to_xy = lambda ind: (int(ind % HP_COMBI_SPACE_SIZE), int(ind // HP_COMBI_SPACE_SIZE))\n",
    "signal_elem_inds_to_xy = lambda inds: list(map(lambda ind: signal_elem_ind_to_xy(ind), inds))\n",
    "get_cluster_logic = lambda cluster_ind: (signal_elem_inds_to_xy(xp_array_from_gpu(xp.argwhere(CLUSTERS.array_active[cluster_ind]).ravel()).astype('i')), signal_elem_ind_to_xy(CLUSTER_METAS[cluster_ind].output_bit))"
   ]
  },
  {
   "cell_type": "markdown",
   "id": "a6579ab9-f958-4519-9eff-82e5e9b4677f",
   "metadata": {},
   "source": [
    "## calc_seq_ipxy"
   ]
  },
  {
   "cell_type": "raw",
   "id": "c8f25bec-0e1b-4f6d-9fd1-42e8c2d678a9",
   "metadata": {},
   "source": [
    "IPXY = InterPolate by XY"
   ]
  },
  {
   "cell_type": "code",
   "execution_count": 109,
   "id": "442809ec-87e2-47d6-be59-672b60fcd5bc",
   "metadata": {},
   "outputs": [],
   "source": [
    "def calc_seq_ipxy(sequences, si_ind_dict):\n",
    "    unique_pts = {} # Dictionaries preserve insertion order  (https://docs.python.org/3/library/stdtypes.html#typesmapping)\n",
    "        \n",
    "    for sequence in sequences:\n",
    "        xy_sequence = get_xy_sequence(sequence, si_ind_dict)\n",
    "        xy_sequence_fwd = np.roll(xy_sequence, -1, axis=0)\n",
    "        vec_sequence = xy_sequence_fwd - xy_sequence\n",
    "        vec_sequence[-1,:] = 0 # get rid of reciprocal vector which connects tail to tip\n",
    "        vec_len_sequence = np.linalg.norm(vec_sequence, axis=1)\n",
    "        vec_len_sequence_nozero = np.where(vec_len_sequence != 0, vec_len_sequence, 1e-6) # prevent 0 len vectors\n",
    "        norm_vec_sequence = (vec_sequence.T / vec_len_sequence_nozero).T\n",
    "        vec_len_sequence = np.round(vec_len_sequence, decimals=0).astype(int)\n",
    "        \n",
    "        assert len(sequence) == vec_sequence.shape[0]\n",
    "        assert len(sequence) == vec_len_sequence.shape[0]\n",
    "        assert len(sequence) == norm_vec_sequence.shape[0]\n",
    "        \n",
    "        for pt, pt_to, norm_vec, vec_len in zip(xy_sequence, xy_sequence_fwd, norm_vec_sequence, vec_len_sequence):\n",
    "            if vec_len <= 0:\n",
    "                continue\n",
    "\n",
    "            pts = pt + (np.arange(vec_len) * norm_vec[np.newaxis,:].T).T # path interpolation\n",
    "            pts = np.round(pts, decimals=0).astype(int)\n",
    "            pts = np.vstack([pts, pt_to])\n",
    "            unique_pts.update(map(lambda p: (tuple(p), 1), pts))\n",
    "\n",
    "    return np.vstack(list(unique_pts.keys()))"
   ]
  },
  {
   "cell_type": "markdown",
   "id": "2fbb6298-8d85-4d7b-bd1b-db831bd714d0",
   "metadata": {},
   "source": [
    "## calc_seq_bv"
   ]
  },
  {
   "cell_type": "raw",
   "id": "d7c672d8-825f-4a48-ae5c-6c4a4a68b901",
   "metadata": {},
   "source": [
    "BV - binary vector with one-hot encoding"
   ]
  },
  {
   "cell_type": "code",
   "execution_count": 110,
   "id": "bf069dce-adf8-453c-be28-b55a61f97627",
   "metadata": {},
   "outputs": [],
   "source": [
    "def calc_seq_bv(seq_xy):\n",
    "    seq_xy = xp_array_to_gpu(seq_xy)\n",
    "    seq_xy = seq_xy * (HP_COMBI_SPACE_SIZE / config.sample_size)\n",
    "    # Leave only points which fit into square defined by HP_COMBI_CLUSTERS_SPACE_SIZE,\n",
    "    # use filtering instead of clipping because clipping tends to introduce false point clustering at the bounadries\n",
    "    seq_xy = xp.round(seq_xy, decimals=0)\n",
    "    ii = xp.all(((seq_xy >= 0) & (seq_xy < HP_COMBI_SPACE_SIZE)), axis=1) \n",
    "    seq_xy = seq_xy[ii]\n",
    "    ind_seq = (seq_xy @ xp.array([1, HP_COMBI_SPACE_SIZE])).astype(int)\n",
    "    bitmap_vec = xp.zeros((HP_COMBI_SPACE_SIZE, HP_COMBI_SPACE_SIZE), dtype='f').ravel()\n",
    "    bitmap_vec[ind_seq] = 1\n",
    "    return bitmap_vec"
   ]
  },
  {
   "cell_type": "markdown",
   "id": "8a7dc09c-d4b0-4fbd-a76d-92684194d275",
   "metadata": {},
   "source": [
    "## calc_seq_sbv"
   ]
  },
  {
   "cell_type": "code",
   "execution_count": 111,
   "id": "f929d080-2398-4055-a1d9-0189f89bee39",
   "metadata": {},
   "outputs": [],
   "source": [
    "def calc_seq_sbv(seq_xy):\n",
    "    seq_xy = xp_array_to_gpu(seq_xy)\n",
    "    ii = xp.all(((seq_xy >= 0) & (seq_xy < config.sample_size)), axis=1) \n",
    "    seq_xy = seq_xy[ii]\n",
    "    ind_seq = (seq_xy @ xp.array([1, config.sample_size])).astype(int)\n",
    "    seq_sbv = xp.where(xp.sum(PIXEL_SBVS[ind_seq], axis=0) > 0, 1, 0) # aka Bloom filter\n",
    "    return seq_sbv"
   ]
  },
  {
   "cell_type": "markdown",
   "id": "76bee177-67c1-4f6d-8ab6-14d652cb5515",
   "metadata": {},
   "source": [
    "## seq_sbv_to_bv"
   ]
  },
  {
   "cell_type": "code",
   "execution_count": 112,
   "id": "3ca199c2-561d-449c-be1a-9662e97ef703",
   "metadata": {},
   "outputs": [],
   "source": [
    "def seq_sbv_to_bv(seq_sbv):\n",
    "    pixel_sbv_inds = xp.argwhere((PIXEL_SBVS @ xp_array_to_gpu(seq_sbv)) >= HP_SIGNAL_VEC_NON_ZERO_BITS).ravel()\n",
    "    pixel_sbv_inds = xp_array_from_gpu(pixel_sbv_inds)\n",
    "    seq_bv = np.zeros((config.sample_size, config.sample_size)).ravel()\n",
    "    seq_bv[pixel_sbv_inds] = 1\n",
    "    return seq_bv"
   ]
  },
  {
   "cell_type": "markdown",
   "id": "5d288799-ded2-4d59-a102-d6fec7581575",
   "metadata": {},
   "source": [
    "## get_seq_bv_pair"
   ]
  },
  {
   "cell_type": "code",
   "execution_count": 113,
   "id": "57e7573e-e617-4e98-b4e7-927032d178b5",
   "metadata": {},
   "outputs": [],
   "source": [
    "def get_seq_bv_pair(df_image, transf):\n",
    "    si_ind_dict = pickle.loads(df_image.inner_si_ind_dict)\n",
    "    sequences = pickle.loads(df_image.inner_sequences)\n",
    "    seq_reading_code = tuple(zip(range(len(sequences)), (0,) * len(sequences)))\n",
    "    seq_reading = get_sequences_reading(sequences, seq_reading_code)\n",
    "    seq_ipxy = calc_seq_ipxy(seq_reading, si_ind_dict)\n",
    "    seq_bv = calc_seq_bv(seq_ipxy)\n",
    "\n",
    "    seq_ipxy_transf = np.hstack([seq_ipxy, np.ones(seq_ipxy.shape[0])[:,np.newaxis]]) # make homogeneous coords\n",
    "    seq_ipxy_transf = (transf @ seq_ipxy_transf.T).T[:,:2]\n",
    "    seq_bv_transf = calc_seq_bv(seq_ipxy_transf)\n",
    "    \n",
    "    return seq_bv, seq_bv_transf"
   ]
  },
  {
   "cell_type": "markdown",
   "id": "1f4341be-05a5-42c1-8c1b-cd855427d724",
   "metadata": {},
   "source": [
    "## get_seq_sbv_pair"
   ]
  },
  {
   "cell_type": "code",
   "execution_count": 114,
   "id": "1fa66b17-293e-4681-9058-e2b0ac01d9ab",
   "metadata": {},
   "outputs": [],
   "source": [
    "def get_seq_sbv_pair(df_image, transf):\n",
    "    si_ind_dict = pickle.loads(df_image.inner_si_ind_dict)\n",
    "    sequences = pickle.loads(df_image.inner_sequences)\n",
    "    seq = get_sequence(sequences)\n",
    "    seq_xy = get_xy_sequence(seq, si_ind_dict)\n",
    "    \n",
    "    seq_sbv = calc_seq_sbv(seq_xy)\n",
    "\n",
    "    seq_xy_transf = np.hstack([seq_xy, np.ones(seq_xy.shape[0])[:,np.newaxis]]) # make homogeneous coords\n",
    "    seq_xy_transf = (transf @ seq_xy_transf.T).T[:,:2]\n",
    "    seq_sbv_transf = calc_seq_sbv(seq_xy_transf)\n",
    "    \n",
    "    return seq_sbv, seq_sbv_transf"
   ]
  },
  {
   "cell_type": "markdown",
   "id": "454d74a8-397e-42b6-af1e-18437ef2f791",
   "metadata": {},
   "source": [
    "## .lab hdc"
   ]
  },
  {
   "cell_type": "code",
   "execution_count": 115,
   "id": "8a77cf8e-74e7-408e-83ed-bf28a26b2875",
   "metadata": {},
   "outputs": [],
   "source": [
    "# hdc = Hdc(10_000, np, dtype='f')\n",
    "# hdc.bundle = hdc.bundle_noties\n",
    "# hdc.cos_sim_threshold = 0.055\n",
    "# hdc.hdist_threshold = 4700\n",
    "\n",
    "hdc = Hdc(1_000, np, dtype='f')\n",
    "hdc.bundle = hdc.bundle_noties\n",
    "hdc.cos_sim_threshold = 0.10\n",
    "\n",
    "# hdc = Hdc(2_000, np, dtype='f')\n",
    "# hdc.bundle = hdc.bundle_noties\n",
    "# hdc.cos_sim_threshold = 0.10"
   ]
  },
  {
   "cell_type": "code",
   "execution_count": 116,
   "id": "69ac53e2-f39a-4e59-abfd-2b5eeb834122",
   "metadata": {},
   "outputs": [],
   "source": [
    "PIXEL_HDVS = hdc(config.sample_size ** 2)\n",
    "PIXEL_HDVS_NORM = hdc.normalize(PIXEL_HDVS)"
   ]
  },
  {
   "cell_type": "code",
   "execution_count": 117,
   "id": "af16ae38-e56f-48df-85c5-426649ab275a",
   "metadata": {},
   "outputs": [
    {
     "data": {
      "image/png": "[encoded data removed]",
      "text/plain": [
       "<Figure size 1200x480 with 2 Axes>"
      ]
     },
     "metadata": {},
     "output_type": "display_data"
    }
   ],
   "source": [
    "image_id = RNG.choice(df_train_images.index)\n",
    "image = next(df_train_images.loc[[image_id]].itertuples())\n",
    "si_ind_dict = pickle.loads(image.inner_si_ind_dict)\n",
    "sequences = pickle.loads(image.inner_sequences)\n",
    "seq = get_sequence(sequences)\n",
    "seq_xy = get_xy_sequence(seq, si_ind_dict)\n",
    "ii = np.all(((seq_xy >= 0) & (seq_xy < config.sample_size)), axis=1) \n",
    "seq_xy = seq_xy[ii]\n",
    "ind_seq = (seq_xy @ np.array([1, config.sample_size])).astype(int)\n",
    "seq_bv_true = np.zeros((config.sample_size, config.sample_size)).ravel()\n",
    "seq_bv_true[ind_seq] = 1\n",
    "\n",
    "seq_hdv = hdc.bundle(PIXEL_HDVS[ind_seq])\n",
    "seq_hdv_binary = hdc.to_binary(seq_hdv)\n",
    "seq_hdv_bipolar = hdc.to_bipolar(seq_hdv_binary)\n",
    "seq_hdv_bipolar_norm = hdc.normalize(seq_hdv_bipolar)\n",
    "pixel_hdv_inds = np.argwhere((PIXEL_HDVS_NORM @ seq_hdv_bipolar_norm) > hdc.cos_sim_threshold).ravel()\n",
    "seq_bv = np.zeros((config.sample_size, config.sample_size)).ravel()\n",
    "seq_bv[pixel_hdv_inds] = 1\n",
    "\n",
    "error_level = np.count_nonzero(seq_bv != seq_bv_true)\n",
    "\n",
    "fig, (ax1, ax2) = plt.subplots(1, 2)\n",
    "fig.set_figwidth(12)\n",
    "ax1.set_title(f'image_id={image_id}, points={len(ind_seq)}')\n",
    "ax1.imshow(seq_bv_true.reshape(config.sample_size, -1));\n",
    "ax2.set_title(f'err.={error_level}')\n",
    "ax2.set_title(f'N={seq_hdv.shape[0]} / {seq_hdv_binary.sum():.0f}, err.={error_level}')\n",
    "ax2.imshow(seq_bv.reshape(config.sample_size, -1));"
   ]
  },
  {
   "cell_type": "code",
   "execution_count": 118,
   "id": "93bd685d-76e0-4de1-a67b-6a61e9a2c29b",
   "metadata": {},
   "outputs": [
    {
     "data": {
      "image/jpeg": "[encoded data removed]",
      "image/png": "[encoded data removed]",
      "text/plain": [
       "<PIL.PngImagePlugin.PngImageFile image mode=L size=128x128>"
      ]
     },
     "execution_count": 118,
     "metadata": {},
     "output_type": "execute_result"
    }
   ],
   "source": [
    "get_raw_image(image_id)"
   ]
  },
  {
   "cell_type": "markdown",
   "id": "582ad609-9873-4ab3-830f-488d15ecf505",
   "metadata": {},
   "source": [
    "## .lab sbv"
   ]
  },
  {
   "cell_type": "code",
   "execution_count": 119,
   "id": "9d858d2c-11f8-4b20-a572-c9c1edcfaf55",
   "metadata": {},
   "outputs": [
    {
     "data": {
      "image/png": "[encoded data removed]",
      "text/plain": [
       "<Figure size 1200x480 with 2 Axes>"
      ]
     },
     "metadata": {},
     "output_type": "display_data"
    }
   ],
   "source": [
    "# image_id = RNG.choice(df_train_images.index)\n",
    "# image_id = 44917 # 60 points\n",
    "image = next(df_train_images.loc[[image_id]].itertuples())\n",
    "si_ind_dict = pickle.loads(image.inner_si_ind_dict)\n",
    "sequences = pickle.loads(image.inner_sequences)\n",
    "seq = get_sequence(sequences)\n",
    "seq_xy = get_xy_sequence(seq, si_ind_dict)\n",
    "ii = np.all(((seq_xy >= 0) & (seq_xy < config.sample_size)), axis=1) \n",
    "seq_xy = seq_xy[ii]\n",
    "ind_seq = (seq_xy @ np.array([1, config.sample_size])).astype(int)\n",
    "seq_bv_true = np.zeros((config.sample_size, config.sample_size)).ravel()\n",
    "seq_bv_true[ind_seq] = 1\n",
    "\n",
    "# seq_sbv = np.where(np.sum(PIXEL_SBVS[ind_seq], axis=0) > 0, 1, 0) # aka Bloom filter\n",
    "seq_sbv = calc_seq_sbv(seq_xy)\n",
    "# pixel_sbv_inds = np.argwhere((PIXEL_SBVS @ seq_sbv) >= SBV_NON_ZERO_INDS).ravel()\n",
    "# seq_bv = np.zeros((config.sample_size, config.sample_size)).ravel()\n",
    "# seq_bv[pixel_sbv_inds] = 1\n",
    "seq_bv = seq_sbv_to_bv(seq_sbv)\n",
    "\n",
    "error_level = np.count_nonzero(seq_bv != seq_bv_true)\n",
    "\n",
    "fig, (ax1, ax2) = plt.subplots(1, 2)\n",
    "fig.set_figwidth(12)\n",
    "ax1.set_title(f'image_id={image_id}, points={len(ind_seq)}')\n",
    "ax1.imshow(seq_bv_true.reshape(config.sample_size, -1))\n",
    "ax2.set_title(f'sbv={seq_sbv.shape[0]} / {seq_sbv.sum()}, non_zero_inds={HP_SIGNAL_VEC_NON_ZERO_BITS}, err.={error_level}')\n",
    "ax2.imshow(seq_bv.reshape(config.sample_size, -1));"
   ]
  },
  {
   "cell_type": "code",
   "execution_count": null,
   "id": "2093e4c3-52cb-43c2-a8eb-1bea00414b10",
   "metadata": {},
   "outputs": [],
   "source": []
  },
  {
   "cell_type": "markdown",
   "id": "8a40ec0a-891b-4385-88c3-6699bf574057",
   "metadata": {},
   "source": [
    "# Train"
   ]
  },
  {
   "cell_type": "code",
   "execution_count": 120,
   "id": "4287bb50-b460-4bdd-8d19-322e30669418",
   "metadata": {},
   "outputs": [],
   "source": [
    "move_to_ooc_transf = np.array([\n",
    "    [1, 0, -config.sample_size / 2],\n",
    "    [0, 1, -config.sample_size / 2],\n",
    "    [0, 0, 1]])\n",
    "theta = np.deg2rad(45)\n",
    "cos_theta = math.cos(theta)\n",
    "sin_theta = math.sin(theta)\n",
    "rotation_transf = np.array([\n",
    "    [cos_theta, -sin_theta, 0],\n",
    "    [sin_theta, cos_theta, 0],\n",
    "    [0, 0, 1]\n",
    "])\n",
    "move_to_target_loc_transf = np.array([\n",
    "    [1, 0, config.sample_size / 2],\n",
    "    [0, 1, config.sample_size / 2],\n",
    "    [0, 0, 1]])\n",
    "transf_rotate_45 = move_to_target_loc_transf @ rotation_transf @ move_to_ooc_transf"
   ]
  },
  {
   "cell_type": "code",
   "execution_count": 121,
   "id": "0e80b056-0944-48cd-82c1-04b246f9551e",
   "metadata": {},
   "outputs": [],
   "source": [
    "transf_offset_10_0 = np.array([\n",
    "    [1, 0, 10],\n",
    "    [0, 1, 0],\n",
    "    [0, 0, 1]])"
   ]
  },
  {
   "cell_type": "code",
   "execution_count": 122,
   "id": "d53d9c0e-7546-4979-a953-0b8f46f1ce48",
   "metadata": {},
   "outputs": [],
   "source": [
    "transfs = {\n",
    "    'offset_10_0': transf_offset_10_0,\n",
    "    'rotate_45': transf_rotate_45,\n",
    "}\n",
    "transf_code = 'offset_10_0'\n",
    "transf = transfs[transf_code]"
   ]
  },
  {
   "cell_type": "code",
   "execution_count": 123,
   "id": "145172a9-54d1-4563-a7ab-cde78584810c",
   "metadata": {},
   "outputs": [],
   "source": [
    "LOG.is_enabled = True"
   ]
  },
  {
   "cell_type": "code",
   "execution_count": 124,
   "id": "b5b3a964-acfe-449a-8668-928587811e45",
   "metadata": {},
   "outputs": [],
   "source": [
    "clear_memory(with_caches=True)"
   ]
  },
  {
   "cell_type": "code",
   "execution_count": 136,
   "id": "66c512a5-916f-4a20-b37c-e0369e7d65c8",
   "metadata": {},
   "outputs": [],
   "source": [
    "HP_OUTER_CYCLES_COUNT = 1\n",
    "HP_INNER_CYCLES_COUNT = 300\n",
    "HP_OUTPUT_BITS_PER_BATCH = 10\n",
    "\n",
    "HP_POINTS_COUNT = HP_OUTPUT_BITS_PER_BATCH * 100\n",
    "HP_POINT_NON_ZERO_BITS = 50"
   ]
  },
  {
   "cell_type": "code",
   "execution_count": 141,
   "id": "40a229ad-4719-4074-b4b8-ae25b0ce03c4",
   "metadata": {},
   "outputs": [],
   "source": [
    "# cycle_images_count = min(50, len(df_train_images))\n",
    "cycle_images_count = min(100, len(df_train_images))"
   ]
  },
  {
   "cell_type": "code",
   "execution_count": 138,
   "id": "b4697dfc-cda8-4f15-a003-edebae4c86d1",
   "metadata": {},
   "outputs": [],
   "source": [
    "# Counter(map(lambda m: m.ones_count, CLUSTER_METAS.values()))"
   ]
  },
  {
   "cell_type": "code",
   "execution_count": 139,
   "id": "8d50659f-5d22-4cd6-903e-fdab294c9bd1",
   "metadata": {},
   "outputs": [],
   "source": [
    "# Counter(map(lambda m: m.stats.total(), filter(lambda m: m.state == ClusterState.PREPROD, CLUSTER_METAS.values())))"
   ]
  },
  {
   "cell_type": "code",
   "execution_count": 142,
   "id": "a2366ea9-8171-4373-b8ce-9cc0299c365f",
   "metadata": {},
   "outputs": [
    {
     "data": {
      "application/vnd.jupyter.widget-view+json": {
       "model_id": "3a9a0e75179a49cfb4903e263a0209f8",
       "version_major": 2,
       "version_minor": 0
      },
      "text/plain": [
       "Outer cycle:   0%|          | 0/1 [00:00<?, ?it/s]"
      ]
     },
     "metadata": {},
     "output_type": "display_data"
    },
    {
     "data": {
      "application/vnd.jupyter.widget-view+json": {
       "model_id": "e81d00f2f8bf457c940c712250354e67",
       "version_major": 2,
       "version_minor": 0
      },
      "text/plain": [
       "Inner cycle:   0%|          | 0/300 [00:00<?, ?it/s]"
      ]
     },
     "metadata": {},
     "output_type": "display_data"
    }
   ],
   "source": [
    "# %%time\n",
    "# batch_output_bits_filter = lambda s, e: True\n",
    "batch_output_bits_filter = lambda s, e: s == 0\n",
    "\n",
    "for outer_cycle in tqdm(range(HP_OUTER_CYCLES_COUNT), desc='Outer cycle'):\n",
    "    with LOG.auto_prefix('OCYCLE', outer_cycle):\n",
    "        for start_output_bit in range(0, HP_SIGNAL_VEC_LEN, HP_OUTPUT_BITS_PER_BATCH):\n",
    "            end_output_bit = start_output_bit + HP_OUTPUT_BITS_PER_BATCH - 1\n",
    "            end_output_bit = min(end_output_bit, HP_SIGNAL_VEC_LEN - 1)\n",
    "            assert end_output_bit >= start_output_bit, (start_output_bit, end_output_bit)\n",
    "\n",
    "            if not batch_output_bits_filter(start_output_bit, end_output_bit):\n",
    "                continue\n",
    "            \n",
    "            with LOG.auto_prefix('OBITS', f'{start_output_bit}:{end_output_bit}'):\n",
    "                clear_memory(with_caches=True)\n",
    "\n",
    "                ## Create combinatorial points from scratch for output bits (OBITS)\n",
    "                POINTS = []\n",
    "                POINT_OUTPUT_BITS = []\n",
    "                output_bits = RNG.choice(HP_SIGNAL_VEC_LEN, HP_POINTS_COUNT)\n",
    "                \n",
    "                for output_bit in range(start_output_bit, end_output_bit + 1):\n",
    "                    point_vec = np.zeros(HP_SIGNAL_VEC_LEN, dtype='f')\n",
    "                    non_zero_inds = RNG.choice(HP_SIGNAL_VEC_LEN, HP_POINT_NON_ZERO_BITS, replace=False)\n",
    "                    point_vec[non_zero_inds] = 1\n",
    "                    POINTS.append(point_vec)\n",
    "                    POINT_OUTPUT_BITS.append(output_bit)\n",
    "                \n",
    "                POINTS = xp_array_to_gpu(np.vstack(POINTS))\n",
    "                POINT_OUTPUT_BITS = np.hstack(POINT_OUTPUT_BITS)\n",
    "                POINT_INDS = np.arange(POINTS.shape[0])\n",
    "\n",
    "                ## Restore prod clusters for output bits (OBITS)\n",
    "                df_clusters = pd.read_sql('SELECT ROWID, output_bit, sbv, meta FROM clusters WHERE encoding=:encoding AND transf_code=:transf_code ' + \n",
    "                                          'AND output_bit>=:start_output_bit AND output_bit<=:end_output_bit', \n",
    "                                          params={\n",
    "                                              'encoding': HP_SIGNAL_ENCODING, \n",
    "                                              'transf_code': transf_code,\n",
    "                                              'start_output_bit': start_output_bit, \n",
    "                                              'end_output_bit': end_output_bit}, \n",
    "                                          con=transfs_db_con)\n",
    "                \n",
    "                for cluster_row in df_clusters.itertuples():\n",
    "                    prod_clusters_for_output_bit = pickle.loads(cluster_row.sbv)\n",
    "                    prod_cluster_metas_for_output_bit = pickle.loads(cluster_row.meta)\n",
    "                    assert prod_clusters_for_output_bit.shape[0] == len(prod_cluster_metas_for_output_bit)\n",
    "\n",
    "                    for cluster, meta in prod_clusters_for_output_bit, prod_cluster_metas_for_output_bit:\n",
    "                        cluster = xp_array_to_gpu(cluster)\n",
    "                        cluster_ind = CLUSTERS.lease()\n",
    "                        assert CLUSTER_MASKS.lease() == cluster_ind\n",
    "                        meta.cluster_ind = cluster_ind\n",
    "                        CLUSTERS.array_active[cluster_ind] = cluster\n",
    "                        CLUSTER_MASKS.array_active[cluster_ind] = cluster\n",
    "                        CLUSTER_METAS[cluster_ind] = meta\n",
    "                        cluster_key = get_cluster_key(meta.output_bit, np.argwhere(cluster).ravel())\n",
    "                        CLUSTER_KEY_TO_CLUSTER_IND[cluster_key] = cluster_ind\n",
    "\n",
    "                    LOG(f'Loaded {prod_clusters_for_output_bit.shape[0]} for output bit {cluster_row.output_bit} (ROWID={cluster_row.ROWID})')\n",
    "\n",
    "                prod_cluster_metas = list(filter(lambda c: c.state == ClusterState.PROD, CLUSTER_METAS.values()))\n",
    "                unique_prod_cluster_keys = set(map(lambda m: get_cluster_key(m.output_bit, np.argwhere(CLUSTERS.array_active[m.cluster_ind]).ravel()), prod_cluster_metas))\n",
    "\n",
    "                ## Mine new prod clusters\n",
    "                for cycle in tqdm(range(HP_INNER_CYCLES_COUNT), desc='Inner cycle'):\n",
    "                    with LOG.auto_prefix('ICYCLE', cycle):\n",
    "                        cycle_image_ids = RNG.choice(df_train_images.index, cycle_images_count, replace=False).astype('i')\n",
    "                        # cycle_image_ids = [52523]\n",
    "                        df_cycle_images = df_train_images.loc[cycle_image_ids]\n",
    "                    \n",
    "                        ###\n",
    "                        signals_input = []\n",
    "                        signals_output = []\n",
    "                        \n",
    "                        # for image_ind, image in tqdm(enumerate(df_cycle_images.itertuples()), total=len(df_cycle_images), leave=False, desc='Prepare signals'):\n",
    "                        for image_ind, image in enumerate(df_cycle_images.itertuples()):\n",
    "                            seq_sbv_origin, seq_sbv_transf = get_seq_sbv_pair(image, transf)\n",
    "                            signals_input.append(seq_sbv_origin)\n",
    "                            signals_output.append(seq_sbv_transf)\n",
    "                    \n",
    "                        signals_input = xp.vstack(signals_input)\n",
    "                        signals_output = xp_array_from_gpu(xp.vstack(signals_output))\n",
    "                    \n",
    "                        ###\n",
    "                        cluster_states = Counter(map(lambda m: m.state.name, CLUSTER_METAS.values()))\n",
    "                        do_create_clusters = cluster_states[ClusterState.LEARN.name] < 100_000\n",
    "                        do_learn_clusters = cluster_states[ClusterState.PREPROD.name] < 200_000\n",
    "                        do_promote_clusters = cluster_states[ClusterState.PREPROD.name] < 200_000\n",
    "                        \n",
    "                        LOG(f'===')\n",
    "                        LOG(f'Cycle {cycle} started, clusters: {cluster_states}, CLUSTERS.array.shape={CLUSTERS.array.shape}')\n",
    "                        ###\n",
    "                        if do_create_clusters:\n",
    "                            new_clusters_count = 0\n",
    "                            \n",
    "                            # for signal_input, signal_output in tqdm(zip(signals_input, signals_output), total=signals_input.shape[0], leave=False, desc='Create clusters'):\n",
    "                            for signal_input, signal_output in zip(signals_input, signals_output):\n",
    "                                active_points_mask = signal_output[POINT_OUTPUT_BITS] != 0\n",
    "                                active_point_inds = POINT_INDS[active_points_mask]\n",
    "\n",
    "                                if active_point_inds.shape[0] == 0:\n",
    "                                    continue\n",
    "                                    \n",
    "                                active_points = POINTS[active_point_inds] # subset of POINTS which are connected to active output bits\n",
    "                                active_points_signal_input_mat = active_points * signal_input\n",
    "                                active_points_signal_input_mask = xp.any(active_points_signal_input_mat, axis=1) # which of active_points have any ON bits within input signal?\n",
    "                                active_points_signal_input_mask = xp_array_from_gpu(active_points_signal_input_mask)\n",
    "                        \n",
    "                                for point_ind, subsignal_input, subsignal_input_gpu in zip(active_point_inds[active_points_signal_input_mask], \n",
    "                                                                                           xp_array_from_gpu(active_points_signal_input_mat[active_points_signal_input_mask]),\n",
    "                                                                                           active_points_signal_input_mat[active_points_signal_input_mask]):\n",
    "                                    active_output_bit = int(POINT_OUTPUT_BITS[point_ind])\n",
    "                                    active_input_bits = np.argwhere(subsignal_input).ravel()\n",
    "                                    cluster_key = get_cluster_key(active_output_bit, active_input_bits)\n",
    "                        \n",
    "                                    if cluster_key in CLUSTER_KEY_TO_CLUSTER_IND:\n",
    "                                        continue\n",
    "                        \n",
    "                                    cluster_ind = CLUSTERS.lease()\n",
    "                                    cluster_mask_ind = CLUSTER_MASKS.lease()\n",
    "                                    assert cluster_ind == cluster_mask_ind\n",
    "                                    CLUSTERS.array_active[cluster_ind] = subsignal_input_gpu\n",
    "                                    CLUSTER_MASKS.array_active[cluster_ind] = subsignal_input_gpu\n",
    "                                    cluster_meta = ClusterMeta(cluster_ind=cluster_ind, cluster_key=cluster_key, output_bit=active_output_bit, nu=1/subsignal_input.sum(), cycle=cycle)\n",
    "                                    cluster_meta.alarm_cycle = cycle + HP_CLUSTER_LEARN_STATE_IDLE_CYCLES\n",
    "                                    CLUSTER_METAS[cluster_ind] = cluster_meta\n",
    "                                    CLUSTER_KEY_TO_CLUSTER_IND[cluster_key] = cluster_ind\n",
    "                                    new_clusters_count += 1\n",
    "                        \n",
    "                            LOG(f'Created {new_clusters_count} clusters')\n",
    "                        \n",
    "                        ###\n",
    "                        learn_cluster_metas = list(filter(lambda c: c.state == ClusterState.LEARN, CLUSTER_METAS.values()))\n",
    "                            \n",
    "                        if do_learn_clusters:\n",
    "                            learn_cluster_inds = np.array(list(map(lambda c: c.cluster_ind, learn_cluster_metas)), dtype='i')\n",
    "                            learn_cluster_output_bits = np.array(list(map(lambda c: c.output_bit, learn_cluster_metas)), dtype='i')\n",
    "                            learned_clusters_inds = set()\n",
    "                            \n",
    "                            # for signal_input, signal_output in tqdm(zip(signals_input, signals_output), total=signals_input.shape[0], leave=False, desc='Learn clusters'):\n",
    "                            for signal_input, signal_output in zip(signals_input, signals_output):\n",
    "                                # this stanza 'signal_output[learn_cluster_output_bits] != 0' effectively produces\n",
    "                                # boolean mask for learn_cluster_inds - clusters which are connected to currently active output bits\n",
    "                                active_cluster_inds = learn_cluster_inds[signal_output[learn_cluster_output_bits] != 0]\n",
    "                        \n",
    "                                if active_cluster_inds.shape[0] == 0:\n",
    "                                    continue\n",
    "                                \n",
    "                                active_clusters = CLUSTERS.array_active[active_cluster_inds] # subset of CLUSTERS which are connected to active bits in signal_output\n",
    "                                active_cluster_masks = CLUSTER_MASKS.array_active[active_cluster_inds]\n",
    "                                cluster_nus = xp.array(list(map(lambda cluster_ind: CLUSTER_METAS[cluster_ind].nu, active_cluster_inds)))\n",
    "                        \n",
    "                                ys = signal_input @ active_clusters.T # how each cluster reacted on signal_input, ca. shape (35,)\n",
    "                                grow = (signal_input * (cluster_nus * ys)[:,np.newaxis]) # how weights within each cluster must grow up in response co signal_input, matrix, ca. shape (35, 1024)\n",
    "                                grow *= active_cluster_masks # masking, only allow weights which belong to clusters to grow up, matrix, ca. shape (35, 1024)\n",
    "                                nomins = active_clusters + grow # grow weights within clusters\n",
    "                                denoms = nomins.max(axis=1) \n",
    "                                CLUSTERS.array_active[active_cluster_inds] = (nomins.T / denoms).T # upload new new weights\n",
    "                        \n",
    "                                for cluster_ind in active_cluster_inds:\n",
    "                                    cluster_meta = CLUSTER_METAS[cluster_ind]\n",
    "                                    cluster_meta.signals_processed += 1\n",
    "                                    cluster_meta.alarm_cycle = cycle + HP_CLUSTER_LEARN_STATE_IDLE_CYCLES\n",
    "                                    learned_clusters_inds.add(cluster_ind)\n",
    "                        \n",
    "                            LOG(f'Learned {len(learned_clusters_inds)} clusters')\n",
    "                        else:\n",
    "                            # Postpone alarm for this cycle since learning is on pause\n",
    "                            for cluster_meta in filter(lambda m: not m.alarm_cycle is None, learn_cluster_metas):\n",
    "                                cluster_meta.alarm_cycle += 1\n",
    "                    \n",
    "                        ### Promote LEARN clusters to PREPROD if they've learned enough\n",
    "                        if do_promote_clusters:\n",
    "                            cluster_metas_to_promote = list(filter(lambda c: c.state == ClusterState.LEARN and c.signals_processed > HP_CLUSTER_SIGNALS_PROCESSED_THRES, CLUSTER_METAS.values()))\n",
    "                            cluster_inds_to_promote = list(map(lambda c: c.cluster_ind, cluster_metas_to_promote))\n",
    "                            binarized_clusters = xp.where(CLUSTERS.array_active[cluster_inds_to_promote] > HP_CLUSTER_BINARIZE_THRES, 1, 0)\n",
    "                            binarized_clusters_ones_counts = binarized_clusters.sum(axis=1)\n",
    "                            CLUSTERS.array_active[cluster_inds_to_promote] = binarized_clusters\n",
    "                        \n",
    "                            new_cluster_states = Counter()\n",
    "                            \n",
    "                            for cluster_meta, ones_count in zip(cluster_metas_to_promote, binarized_clusters_ones_counts):\n",
    "                                cluster_ind = cluster_meta.cluster_ind\n",
    "                                cluster_meta.ones_count = int(ones_count)\n",
    "                                assert cluster_meta.ones_count > 0\n",
    "                    \n",
    "                                if cluster_meta.ones_count >= HP_CLUSTER_ONES_COUNT_THRES:\n",
    "                                    cluster_meta.state = ClusterState.PREPROD\n",
    "                                    cluster_meta.alarm_cycle = cycle + HP_CLUSTER_PREPROD_STATE_IDLE_CYCLES\n",
    "                                else:\n",
    "                                    cluster_meta.state = ClusterState.DEAD\n",
    "                                    cluster_meta.alarm_cycle = None\n",
    "                                    \n",
    "                                new_cluster_states[cluster_meta.state.name] += 1\n",
    "                        \n",
    "                            LOG(f'Promoted {len(cluster_metas_to_promote)} clusters: {new_cluster_states}')\n",
    "                    \n",
    "                        ### Verify PREPROD cluster against new signals\n",
    "                        preprod_cluster_metas = list(filter(lambda c: c.state == ClusterState.PREPROD, CLUSTER_METAS.values()))\n",
    "                        preprod_cluster_inds = np.array(list(map(lambda c: c.cluster_ind, preprod_cluster_metas)), dtype='i')\n",
    "                        preprod_cluster_ones_counts = xp.array(list(map(lambda c: c.ones_count, preprod_cluster_metas)), dtype='f')\n",
    "                        preprod_cluster_output_bits = np.array(list(map(lambda c: c.output_bit, preprod_cluster_metas)), dtype='i')\n",
    "                        preprod_clusters = CLUSTERS.array_active[preprod_cluster_inds]\n",
    "                        verified_cluster_inds = set()\n",
    "                        \n",
    "                        # for signal_input, signal_output, signal_image_id in tqdm(zip(signals_input, signals_output, cycle_image_ids), \n",
    "                        #                                                          total=signals_input.shape[0], leave=False, desc='Verify clusters'):\n",
    "                        for signal_input, signal_output, signal_image_id in zip(signals_input, signals_output, cycle_image_ids):\n",
    "                            activated_clusters_mask = xp_array_from_gpu((preprod_clusters @ signal_input) >= preprod_cluster_ones_counts)\n",
    "                            # cast array of output_bit numbers [0, 3, 4, 7, 7, 0, 3, 32, ..] to TP array [True, False, False, True, True, True, False, False, ...]\n",
    "                            # where True if output_bit of preprod_cluster is enabled in signal_output and False otherwise\n",
    "                            preprod_cluster_output_bits_tf = signal_output[preprod_cluster_output_bits] != 0\n",
    "                            \n",
    "                            for cluster_ind, tf in zip(preprod_cluster_inds[activated_clusters_mask], preprod_cluster_output_bits_tf[activated_clusters_mask]):\n",
    "                                tf = bool(tf) # not mandatory, but eases further inspections by eyes\n",
    "                                signal_image_id = int(signal_image_id)\n",
    "                                cluster_meta = CLUSTER_METAS[cluster_ind]\n",
    "                    \n",
    "                                if not signal_image_id in cluster_meta.verify_image_ids:\n",
    "                                    cluster_meta.stats[tf] += 1\n",
    "                                    cluster_meta.verify_image_ids[signal_image_id] = tf\n",
    "                                    cluster_meta.alarm_cycle = cycle + HP_CLUSTER_PREPROD_STATE_IDLE_CYCLES\n",
    "                                    verified_cluster_inds.add(cluster_ind)\n",
    "                    \n",
    "                        LOG(f'Verified {len(verified_cluster_inds)} clusters')\n",
    "                        \n",
    "                        ### Weeding the garden\n",
    "                        ready_for_prod_cluster_metas = list(filter(lambda c: (c.state == ClusterState.PREPROD) and (c.stats.total() >= HP_CLUSTER_STATS_LEN_THRES), CLUSTER_METAS.values()))\n",
    "                        accurate_ready_for_prod_cluster_metas = filter(lambda c: c.stats[True] / c.stats.total() >= HP_CLUSTER_ACCURACY_THRES, ready_for_prod_cluster_metas)\n",
    "                        unneeded_cluster_metas = list(filter(lambda c: c.stats[True] / c.stats.total() < HP_CLUSTER_ACCURACY_THRES, ready_for_prod_cluster_metas))\n",
    "                        \n",
    "                        for cluster_meta in accurate_ready_for_prod_cluster_metas:\n",
    "                            assert cluster_meta.ones_count >= HP_CLUSTER_ONES_COUNT_THRES\n",
    "                            cluster_key_for_prod = get_cluster_key(cluster_meta.output_bit, np.argwhere(CLUSTERS.array_active[cluster_meta.cluster_ind]).ravel())\n",
    "                    \n",
    "                            if cluster_key_for_prod in unique_prod_cluster_keys:\n",
    "                                unneeded_cluster_metas.append(cluster_meta)\n",
    "                                continue\n",
    "                                \n",
    "                            cluster_meta.state = ClusterState.PROD\n",
    "                            cluster_meta.alarm_cycle = None\n",
    "                            unique_prod_cluster_keys.add(cluster_key_for_prod)\n",
    "                    \n",
    "                        unneeded_cluster_metas.extend(filter(lambda m: m.alarm_cycle is not None and m.alarm_cycle < cycle, CLUSTER_METAS.values()))\n",
    "                        unneeded_cluster_metas.extend(filter(lambda m: m.state == ClusterState.DEAD, CLUSTER_METAS.values()))\n",
    "                        \n",
    "                        for cluster_meta in unneeded_cluster_metas:\n",
    "                            cluster_ind = cluster_meta.cluster_ind\n",
    "                            del CLUSTER_KEY_TO_CLUSTER_IND[cluster_meta.cluster_key]\n",
    "                            del CLUSTER_METAS[cluster_ind]\n",
    "                            CLUSTERS.release(cluster_ind)\n",
    "                            CLUSTER_MASKS.release(cluster_ind)\n",
    "                    \n",
    "                        LOG(f'Removed {len(unneeded_cluster_metas)} loser clusters')\n",
    "                        # gc_memory()\n",
    "\n",
    "                ## Persist mined prod clusters for output bits (OBITS)\n",
    "                prod_cluster_metas_per_output_bit = defaultdict(list)\n",
    "                \n",
    "                for meta in filter(lambda m: m.state == ClusterState.PROD, CLUSTER_METAS.values()):\n",
    "                    prod_cluster_metas_per_output_bit[meta.output_bit].append(meta)\n",
    "\n",
    "                for output_bit, metas in prod_cluster_metas_per_output_bit.items():\n",
    "                    cluster_inds = np.array(list(map(lambda m: m.cluster_ind, metas)), dtype='i')\n",
    "                    clusters = xp_array_from_gpu(CLUSTERS.array_active[cluster_inds])\n",
    "                    pickled_clusters = pickle.dumps(clusters)\n",
    "                    pickled_metas = pickel.dumps(metas)\n",
    "                    transfs_db_con.execute('DELETE FROM clusters WHERE encoding=:encoding AND transf_code=:transf_code AND output_bit=:output_bit',\n",
    "                                           {'encoding': HP_SIGNAL_ENCODING, 'transf_code': transf_code, 'output_bit': output_bit})\n",
    "                    transfs_db_con.execute('INSERT INTO clusters (encoding, transf_code, output_bit, sbv, meta) VALUES (:encoding, :transf_code, :output_bit, :sbv, :meta)',\n",
    "                                           {'encoding': HP_SIGNAL_ENCODING, 'transf_code': transf_code, 'output_bit': output_bit, 'sbv': pickled_clusters, 'meta': pickled_metas})\n",
    "                    transfs_db_con.commit()\n",
    "                    LOG(f'Persisted {clusters.shape[0]} clusters for output bit {output_bit}')"
   ]
  },
  {
   "cell_type": "code",
   "execution_count": 57,
   "id": "cf723882-55c0-49d9-acb7-e50274d2201b",
   "metadata": {},
   "outputs": [
    {
     "data": {
      "image/png": "[encoded data removed]",
      "text/plain": [
       "<Figure size 1200x480 with 2 Axes>"
      ]
     },
     "metadata": {},
     "output_type": "display_data"
    }
   ],
   "source": [
    "signal_ind = RNG.choice(signals_input.shape[0])\n",
    "signal_ind = -1\n",
    "signal_input = xp_array_from_gpu(signals_input[signal_ind])\n",
    "signal_output = signals_output[signal_ind]\n",
    "signal_input = seq_sbv_to_bv(signal_input)\n",
    "signal_output = seq_sbv_to_bv(signal_output)\n",
    "fig, (ax1, ax2) = plt.subplots(1, 2)\n",
    "fig.set_figwidth(12)\n",
    "ax1.imshow(vec_to_square_matrix(signal_input))\n",
    "ax2.imshow(vec_to_square_matrix(signal_output));"
   ]
  },
  {
   "cell_type": "markdown",
   "id": "c4e073c2-0c90-4248-a9fc-57f4f063892f",
   "metadata": {},
   "source": [
    "# Test"
   ]
  },
  {
   "cell_type": "code",
   "execution_count": 117,
   "id": "f2005f19-90c6-489f-9680-f0b72b97bc5c",
   "metadata": {},
   "outputs": [
    {
     "data": {
      "text/plain": [
       "(7761, 1024)"
      ]
     },
     "execution_count": 117,
     "metadata": {},
     "output_type": "execute_result"
    }
   ],
   "source": [
    "# prod_cluster_metas = list(filter(lambda c: c.state == ClusterState.PROD and c.stats[True] > 5, CLUSTER_METAS.values()))\n",
    "prod_cluster_metas = list(filter(lambda c: c.state == ClusterState.PROD, CLUSTER_METAS.values()))\n",
    "prod_cluster_inds = np.array(list(map(lambda c: c.cluster_ind, prod_cluster_metas)), dtype='i')\n",
    "prod_cluster_ones_counts = xp.array(list(map(lambda c: c.ones_count, prod_cluster_metas)), dtype='f')\n",
    "prod_cluster_output_bits = np.array(list(map(lambda c: c.output_bit, prod_cluster_metas)), dtype='i')\n",
    "prod_clusters = CLUSTERS.array_active[prod_cluster_inds]\n",
    "prod_clusters.shape"
   ]
  },
  {
   "cell_type": "code",
   "execution_count": 59,
   "id": "9a743124-b134-445f-8a7c-de08006155f1",
   "metadata": {},
   "outputs": [
    {
     "data": {
      "text/plain": [
       "(([(19, 1), (6, 16), (15, 26), (21, 31)], (9, 11)),\n",
       " {'state': <ClusterState.PROD: 'prod'>,\n",
       "  'cluster_ind': 590,\n",
       "  'cluster_key': (361, (51, 200, 233, 518, 554, 683, 847, 983, 1013)),\n",
       "  'output_bit': 361,\n",
       "  'nu': np.float64(0.1111111111111111),\n",
       "  'cycle': 0,\n",
       "  'ones_count': 4,\n",
       "  'signals_processed': 59,\n",
       "  'stats': Counter({True: 8, False: 2}),\n",
       "  'verify_image_ids': {3558: True,\n",
       "   44055: False,\n",
       "   49305: True,\n",
       "   6131: True,\n",
       "   2846: True,\n",
       "   45130: True,\n",
       "   15775: False,\n",
       "   48309: True,\n",
       "   48528: True,\n",
       "   8446: True},\n",
       "  'alarm_cycle': None})"
      ]
     },
     "execution_count": 59,
     "metadata": {},
     "output_type": "execute_result"
    }
   ],
   "source": [
    "inspected_ind = 0\n",
    "cluster_ind = prod_cluster_inds[inspected_ind]\n",
    "get_cluster_logic(cluster_ind), vars(CLUSTER_METAS[cluster_ind])"
   ]
  },
  {
   "cell_type": "code",
   "execution_count": 84,
   "id": "9f99c747-b18c-458b-873f-487e347e34a8",
   "metadata": {},
   "outputs": [
    {
     "data": {
      "text/plain": [
       "UniqueCountsResult(values=array([ 0.,  1.,  2.,  3.,  4.,  5.,  6.,  7.,  8.,  9., 10., 11.],\n",
       "      dtype=float32), counts=array([949,  23,  14,  11,   8,   4,   5,   2,   1,   3,   2,   2]))"
      ]
     },
     "execution_count": 84,
     "metadata": {},
     "output_type": "execute_result"
    }
   ],
   "source": [
    "np.unique_counts(seq_bv_out.get())"
   ]
  },
  {
   "cell_type": "code",
   "execution_count": 76,
   "id": "82c262a8-efd8-401b-8c23-db16c94b9274",
   "metadata": {},
   "outputs": [
    {
     "data": {
      "text/plain": [
       "([(13, 22), (14, 22)], (16, 22))"
      ]
     },
     "execution_count": 76,
     "metadata": {},
     "output_type": "execute_result"
    }
   ],
   "source": [
    "get_cluster_logic(prod_cluster_inds[4])"
   ]
  },
  {
   "cell_type": "code",
   "execution_count": 86,
   "id": "7cb47b56-9290-45e7-990a-d8c4f330b756",
   "metadata": {},
   "outputs": [
    {
     "name": "stdout",
     "output_type": "stream",
     "text": [
      "3697 ([(12, 9), (11, 11), (24, 15)], (12, 16)) [[300]\n",
      " [363]\n",
      " [504]]\n"
     ]
    }
   ],
   "source": [
    "for ind in np.argwhere(activated_clusters_mask).ravel():\n",
    "    cl = get_cluster_logic(prod_cluster_inds[ind])\n",
    "\n",
    "    if cl[1][1] == 16 and cl[1][0] < 15:\n",
    "        print(ind, cl, np.argwhere(CLUSTERS.array_active[prod_cluster_inds[3697]]))"
   ]
  },
  {
   "cell_type": "code",
   "execution_count": 88,
   "id": "a5e3bbc6-2c19-4509-aa6a-fd84024fb5af",
   "metadata": {},
   "outputs": [
    {
     "data": {
      "text/plain": [
       "array([1., 1., 1.], dtype=float32)"
      ]
     },
     "execution_count": 88,
     "metadata": {},
     "output_type": "execute_result"
    }
   ],
   "source": [
    "seq_bv[[300, 363, 504]]"
   ]
  },
  {
   "cell_type": "code",
   "execution_count": 122,
   "id": "da374d86-709e-4d82-bc2a-82e50dd790fe",
   "metadata": {},
   "outputs": [
    {
     "name": "stdout",
     "output_type": "stream",
     "text": [
      "CPU times: user 45.5 ms, sys: 1 ms, total: 46.5 ms\n",
      "Wall time: 44.8 ms\n"
     ]
    },
    {
     "data": {
      "text/plain": [
       "Counter({np.int32(842): 2,\n",
       "         np.int32(147): 1,\n",
       "         np.int32(645): 1,\n",
       "         np.int32(101): 1,\n",
       "         np.int32(486): 1,\n",
       "         np.int32(6): 1,\n",
       "         np.int32(243): 1,\n",
       "         np.int32(140): 1,\n",
       "         np.int32(902): 1,\n",
       "         np.int32(99): 1,\n",
       "         np.int32(97): 1,\n",
       "         np.int32(685): 1,\n",
       "         np.int32(502): 1,\n",
       "         np.int32(730): 1,\n",
       "         np.int32(835): 1,\n",
       "         np.int32(559): 1,\n",
       "         np.int32(633): 1,\n",
       "         np.int32(505): 1,\n",
       "         np.int32(423): 1,\n",
       "         np.int32(656): 1,\n",
       "         np.int32(940): 1,\n",
       "         np.int32(904): 1})"
      ]
     },
     "execution_count": 122,
     "metadata": {},
     "output_type": "execute_result"
    },
    {
     "data": {
      "image/png": "[encoded data removed]",
      "text/plain": [
       "<Figure size 1200x480 with 2 Axes>"
      ]
     },
     "metadata": {},
     "output_type": "display_data"
    }
   ],
   "source": [
    "%%time\n",
    "image_id = RNG.choice(df_train_images.index)\n",
    "image = next(df_train_images.loc[[image_id]].itertuples())\n",
    "si_ind_dict = pickle.loads(image.inner_si_ind_dict)\n",
    "sequences = pickle.loads(image.inner_sequences)\n",
    "seq = get_sequence(sequences)\n",
    "seq_xy = get_xy_sequence(seq, si_ind_dict)\n",
    "seq_sbv = calc_seq_sbv(seq_xy)\n",
    "\n",
    "activated_clusters_mask = (prod_clusters @ seq_sbv) >= prod_cluster_ones_counts\n",
    "activated_clusters_mask = xp_array_from_gpu(activated_clusters_mask)\n",
    "values = Counter(prod_cluster_output_bits[activated_clusters_mask])\n",
    "seq_sbv_out = np.zeros_like(seq_sbv)\n",
    "# seq_sbv_out[list(values.keys())] = list(values.values())\n",
    "seq_sbv_out[list(values.keys())] = 1\n",
    "\n",
    "# # seq_bv_out[prod_cluster_output_bits[activated_clusters_mask]] = 1\n",
    "# seq_bv_out = xp.where(seq_bv_out > seq_bv_out.mean(), 1, 0)\n",
    "# # seq_bv_out = xp.where(seq_bv_out > np.median(seq_bv_out), 1, 0)\n",
    "\n",
    "fig, (ax1, ax2) = plt.subplots(1, 2)\n",
    "fig.set_figwidth(12)\n",
    "ax1.imshow(vec_to_square_matrix(seq_sbv_to_bv(seq_sbv)))\n",
    "ax2.imshow(vec_to_square_matrix(seq_sbv_to_bv(seq_sbv_out)))\n",
    "\n",
    "#np.unique_counts(prod_clusters.sum(axis=1).get())\n",
    "values"
   ]
  },
  {
   "cell_type": "code",
   "execution_count": 123,
   "id": "4c2f51df-bb23-4d07-bce9-02bd930ba70f",
   "metadata": {},
   "outputs": [
    {
     "data": {
      "image/png": "[encoded data removed]",
      "text/plain": [
       "<Figure size 1200x480 with 2 Axes>"
      ]
     },
     "metadata": {},
     "output_type": "display_data"
    }
   ],
   "source": [
    "fig, (ax1, ax2) = plt.subplots(2, 1)\n",
    "fig.set_figwidth(12)\n",
    "ax1.imshow(np.ones((100, 1)) * xp_array_from_gpu(seq_sbv));\n",
    "ax2.imshow(np.ones((100, 1)) * xp_array_from_gpu(seq_sbv_out));"
   ]
  },
  {
   "cell_type": "code",
   "execution_count": null,
   "id": "6cc119b7-ff88-4898-8760-116f2f55cf5e",
   "metadata": {},
   "outputs": [],
   "source": []
  }
 ],
 "metadata": {
  "kernelspec": {
   "display_name": "Python 3 (ipykernel)",
   "language": "python",
   "name": "python3"
  },
  "language_info": {
   "codemirror_mode": {
    "name": "ipython",
    "version": 3
   },
   "file_extension": ".py",
   "mimetype": "text/x-python",
   "name": "python",
   "nbconvert_exporter": "python",
   "pygments_lexer": "ipython3",
   "version": "3.12.2"
  }
 },
 "nbformat": 4,
 "nbformat_minor": 5
}
