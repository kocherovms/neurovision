{
 "cells": [
  {
   "cell_type": "code",
   "execution_count": 1,
   "id": "27532844-1826-4299-b063-16a22e592f3f",
   "metadata": {},
   "outputs": [],
   "source": [
    "import os, math\n",
    "from collections import defaultdict\n",
    "import itertools\n",
    "import sqlite3\n",
    "\n",
    "from PIL import Image, ImageDraw\n",
    "from tqdm.notebook import tqdm\n",
    "\n",
    "from sklearn.model_selection import train_test_split\n",
    "import matplotlib.pyplot as plt\n",
    "import scipy\n",
    "import numpy as np\n",
    "import cupy as cp\n",
    "import pandas as pd\n",
    "\n",
    "from utils import *\n",
    "from hdc import *"
   ]
  },
  {
   "cell_type": "code",
   "execution_count": 2,
   "id": "73358262-adf2-4d17-a383-f120a5d1f8aa",
   "metadata": {},
   "outputs": [
    {
     "name": "stdout",
     "output_type": "stream",
     "text": [
      "xp = cupy\n"
     ]
    }
   ],
   "source": [
    "config = Config('SQLITE3')\n",
    "RNG = np.random.default_rng()\n",
    "\n",
    "if cp.cuda.is_available():\n",
    "    device_marker = cp.empty(1)\n",
    "    xp_array_from_gpu = lambda a: a.get() if isinstance(a, cp.ndarray) else a\n",
    "    xp_array_to_gpu = lambda a: cp.asarray(a) if isinstance(a, np.ndarray) else a\n",
    "else:\n",
    "    device_marker = np.empty(1)\n",
    "    xp_array_from_gpu = lambda a: a\n",
    "    xp_array_to_gpu = lambda a: a\n",
    "    \n",
    "xp = cp.get_array_module(device_marker)\n",
    "print(f'xp = {xp.__name__}')\n",
    "\n",
    "train_db_con = sqlite3.connect(os.path.join(config.dataset_path, config.train_db_file_name))\n",
    "test_db_con = sqlite3.connect(os.path.join(config.dataset_path, config.test_db_file_name))"
   ]
  },
  {
   "cell_type": "code",
   "execution_count": 3,
   "id": "d2dd62ab-b44e-4251-9e86-d41b3672e36e",
   "metadata": {},
   "outputs": [
    {
     "name": "stdout",
     "output_type": "stream",
     "text": [
      "CPU times: user 3 μs, sys: 0 ns, total: 3 μs\n",
      "Wall time: 6.68 μs\n"
     ]
    },
    {
     "data": {
      "text/plain": [
       "((10000, 3), (2000, 3))"
      ]
     },
     "execution_count": 3,
     "metadata": {},
     "output_type": "execute_result"
    }
   ],
   "source": [
    "%time\n",
    "df_train_images = pd.read_sql_query('SELECT * FROM images', con=train_db_con, index_col='image_id')\n",
    "df_test_images = pd.read_sql_query('SELECT * FROM images', con=test_db_con, index_col='image_id')\n",
    "df_train_images.shape, df_test_images.shape"
   ]
  },
  {
   "cell_type": "code",
   "execution_count": 4,
   "id": "75910c5d-054d-43c0-9a34-125ecde5a068",
   "metadata": {},
   "outputs": [
    {
     "data": {
      "text/html": [
       "<div>\n",
       "<style scoped>\n",
       "    .dataframe tbody tr th:only-of-type {\n",
       "        vertical-align: middle;\n",
       "    }\n",
       "\n",
       "    .dataframe tbody tr th {\n",
       "        vertical-align: top;\n",
       "    }\n",
       "\n",
       "    .dataframe thead th {\n",
       "        text-align: right;\n",
       "    }\n",
       "</style>\n",
       "<table border=\"1\" class=\"dataframe\">\n",
       "  <thead>\n",
       "    <tr style=\"text-align: right;\">\n",
       "      <th></th>\n",
       "      <th>index</th>\n",
       "      <th>value</th>\n",
       "      <th>png</th>\n",
       "    </tr>\n",
       "    <tr>\n",
       "      <th>image_id</th>\n",
       "      <th></th>\n",
       "      <th></th>\n",
       "      <th></th>\n",
       "    </tr>\n",
       "  </thead>\n",
       "  <tbody>\n",
       "    <tr>\n",
       "      <th>27456</th>\n",
       "      <td>0</td>\n",
       "      <td>2</td>\n",
       "      <td>b'\\x89PNG\\r\\n\\x1a\\n\\x00\\x00\\x00\\rIHDR\\x00\\x00\\...</td>\n",
       "    </tr>\n",
       "    <tr>\n",
       "      <th>50770</th>\n",
       "      <td>1</td>\n",
       "      <td>3</td>\n",
       "      <td>b'\\x89PNG\\r\\n\\x1a\\n\\x00\\x00\\x00\\rIHDR\\x00\\x00\\...</td>\n",
       "    </tr>\n",
       "    <tr>\n",
       "      <th>9353</th>\n",
       "      <td>2</td>\n",
       "      <td>4</td>\n",
       "      <td>b'\\x89PNG\\r\\n\\x1a\\n\\x00\\x00\\x00\\rIHDR\\x00\\x00\\...</td>\n",
       "    </tr>\n",
       "    <tr>\n",
       "      <th>50328</th>\n",
       "      <td>3</td>\n",
       "      <td>0</td>\n",
       "      <td>b'\\x89PNG\\r\\n\\x1a\\n\\x00\\x00\\x00\\rIHDR\\x00\\x00\\...</td>\n",
       "    </tr>\n",
       "    <tr>\n",
       "      <th>18785</th>\n",
       "      <td>4</td>\n",
       "      <td>3</td>\n",
       "      <td>b'\\x89PNG\\r\\n\\x1a\\n\\x00\\x00\\x00\\rIHDR\\x00\\x00\\...</td>\n",
       "    </tr>\n",
       "  </tbody>\n",
       "</table>\n",
       "</div>"
      ],
      "text/plain": [
       "          index value                                                png\n",
       "image_id                                                                \n",
       "27456         0     2  b'\\x89PNG\\r\\n\\x1a\\n\\x00\\x00\\x00\\rIHDR\\x00\\x00\\...\n",
       "50770         1     3  b'\\x89PNG\\r\\n\\x1a\\n\\x00\\x00\\x00\\rIHDR\\x00\\x00\\...\n",
       "9353          2     4  b'\\x89PNG\\r\\n\\x1a\\n\\x00\\x00\\x00\\rIHDR\\x00\\x00\\...\n",
       "50328         3     0  b'\\x89PNG\\r\\n\\x1a\\n\\x00\\x00\\x00\\rIHDR\\x00\\x00\\...\n",
       "18785         4     3  b'\\x89PNG\\r\\n\\x1a\\n\\x00\\x00\\x00\\rIHDR\\x00\\x00\\..."
      ]
     },
     "execution_count": 4,
     "metadata": {},
     "output_type": "execute_result"
    }
   ],
   "source": [
    "df_train_images.head()"
   ]
  },
  {
   "cell_type": "code",
   "execution_count": 6,
   "id": "b5a3b4ca-998d-4309-8499-d868b00ef9be",
   "metadata": {},
   "outputs": [],
   "source": [
    "def matrix_to_image(m):\n",
    "    m = m.ravel()\n",
    "    sz = int(np.sqrt(m.shape[0]))\n",
    "    assert sz * sz == m.shape[0]\n",
    "    return Image.frombytes('L', size=(sz, sz), data=m.astype('b'))"
   ]
  },
  {
   "cell_type": "code",
   "execution_count": 7,
   "id": "bc06ecb2-5ba8-4669-9dd9-17624127b081",
   "metadata": {},
   "outputs": [],
   "source": [
    "def lay_grid(image, step):\n",
    "    draw = ImageDraw.Draw(image)\n",
    "\n",
    "    for c in range(step - 1, image.height, step):\n",
    "        draw.line([0, c, image.width, c], fill=127)\n",
    "        draw.line([c, 0, c, image.height], fill=127)\n",
    "\n",
    "    return image"
   ]
  },
  {
   "cell_type": "code",
   "execution_count": 8,
   "id": "70b21219-4f16-4824-90ec-7bda1574c5d1",
   "metadata": {},
   "outputs": [
    {
     "data": {
      "text/html": [
       "<div style=\"\n",
       "        display: grid; \n",
       "        grid-template-columns: repeat(8, 128px);\n",
       "        column-gap: 1px;\n",
       "        row-gap: 1px;\">\n",
       "        \n",
       "            <figure style=\"margin: 5px !important;\">\n",
       "              <img src=\"data:image/png;base64,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\" style=\"height: auto\">\n",
       "              <figcaption style=\"font-size: 0.6em\">5</figcaption>\n",
       "            </figure>\n",
       "        \n",
       "            <figure style=\"margin: 5px !important;\">\n",
       "              <img src=\"data:image/png;base64,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\" style=\"height: auto\">\n",
       "              <figcaption style=\"font-size: 0.6em\">2</figcaption>\n",
       "            </figure>\n",
       "        \n",
       "            <figure style=\"margin: 5px !important;\">\n",
       "              <img src=\"data:image/png;base64,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\" style=\"height: auto\">\n",
       "              <figcaption style=\"font-size: 0.6em\">7</figcaption>\n",
       "            </figure>\n",
       "        \n",
       "            <figure style=\"margin: 5px !important;\">\n",
       "              <img src=\"data:image/png;base64,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\" style=\"height: auto\">\n",
       "              <figcaption style=\"font-size: 0.6em\">7</figcaption>\n",
       "            </figure>\n",
       "        \n",
       "            <figure style=\"margin: 5px !important;\">\n",
       "              <img src=\"data:image/png;base64,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\" style=\"height: auto\">\n",
       "              <figcaption style=\"font-size: 0.6em\">2</figcaption>\n",
       "            </figure>\n",
       "        \n",
       "            <figure style=\"margin: 5px !important;\">\n",
       "              <img src=\"data:image/png;base64,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\" style=\"height: auto\">\n",
       "              <figcaption style=\"font-size: 0.6em\">4</figcaption>\n",
       "            </figure>\n",
       "        \n",
       "            <figure style=\"margin: 5px !important;\">\n",
       "              <img src=\"data:image/png;base64,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\" style=\"height: auto\">\n",
       "              <figcaption style=\"font-size: 0.6em\">3</figcaption>\n",
       "            </figure>\n",
       "        \n",
       "            <figure style=\"margin: 5px !important;\">\n",
       "              <img src=\"data:image/png;base64,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\" style=\"height: auto\">\n",
       "              <figcaption style=\"font-size: 0.6em\">9</figcaption>\n",
       "            </figure>\n",
       "        \n",
       "            <figure style=\"margin: 5px !important;\">\n",
       "              <img src=\"data:image/png;base64,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\" style=\"height: auto\">\n",
       "              <figcaption style=\"font-size: 0.6em\">3</figcaption>\n",
       "            </figure>\n",
       "        \n",
       "            <figure style=\"margin: 5px !important;\">\n",
       "              <img src=\"data:image/png;base64,iVBORw0KGgoAAAANSUhEUgAAAIAAAACACAAAAADmVT4XAAAESUlEQVR4nO2aXW/kJhSGDxiDvyef3exWrbRS1f//m7Yr7SbZTCbjMRhsoBeeTCZSb8AIS43fu7kwPDocOC+HAVi1atWqVatWfXQh/08xwhgnCUbWaGOMtsZnFOI9PyKUZUVVFcnQd4de9HKwcQHSqtlc3X26ov3zw+PzbmfGuACY1teffv/69Ut2+Pnt209qZO8zzIwIsOrm859//f1H3l6yhBi+JzouAG1uPn+5u63gYhDK9s/b/WDdF2EGQLb57cvdVQEA1Y2Gw+M9lRo5E8zIAdbc3t1WGADIBsPz94oJY50J5ixBfXVzWSCdQFJm5sdllXOjnc8CfwAgrKxKhq1FmMLmYtNUwijnLJgBgHBCSHI8SlnRXF4pA8Y1BDMAAKy19vUsZ831btBauo4xA8AarUeDJgJDystrwTvsOorzB+cARhtzXHOb5NWmLlLn4jYD4L0SQhklifN3oQAQIISQR3EPBWCtNea0IAsATBnhUQuCAYC11mP+gACeWgH+TwA+KRh0G9qFzwG/+YPmgNctKxgATkh6sicLAKA0K8syI84EsxzRmTAtN4edhx8IB1BdiG1JnSMaDCDN667Kl3REKWU0dR8u3DZEGGEPSxTUDyxqSIwZRx9LFMwTmnFQw+jeJgoGoAcp1eBeDcIBSNFxOTp/GAxg6LsDl+59qpAR4ELqxQBAD1Kq0b1NFXAXKKXGBZPQ6HEY3Vcg8NVsSU+IEMI+1+NgjginjNEUxy/HxxlRmpd1FduSIYQQTGHHtNi0i7RojjPitKw3zYKOCKWsrArmvgRzAM67QoiwosyZ+8VgBgCCs22HEpbnOY3bJTvObieAlGY0dY/AnE6pNebNgyFMCHE/BmZ1SvU4jqf+/ORJYx7F1oxKSnWsP0tUQ6N60atx6pdbLQXvVUw/YPXQcyGPRtiOsusiWzKtBOf9cUo7St5xFdOS2VHyQ9cPUwTMIA5tJ6JGYOwPbcvVcQlUt3/ZC/fn41kA3f4g3iLQvrRRAaxWgvPXJ3OrVS/6qDkARg9qOF3GvLqU8wDAWnM6/FCSZhnzqAXz/MBbQcZpXjU+lmxOOUYYn3oiiBZNE9uSnRsSnOZl7dMnDGbJCCvKgsbOgTOAhBVlztztRbgI0DzPF40AZQtsw3cEy3bL32/KJQAArNdxHPDJJrYp/Q+CD/90u+yjFSDkRRAwB/w+C/p0G30b+uV9MIBp380lmLsEp/nfX9ajALz75870YqKj3o5RklKaJlNXBhnFOx61XY8IK6q6KnMAAEhAHl72XMWMAMnKpq6LdPplxG67O0QFwIQxRl4H6F+eHretivmPSmvGoed7UgEAtI8P9w/b1j0C/gBWtU+F5tsmBwDoHr7/8+Nx30eMgOFPqbivq5wCAMjdr1/b3Yt0BvD/dz3Oy7rIGE0TAICx77johXROAn8AhHGS4NdXkunFxussXLVq1apVq1Z9dP0L9sUwbbfSJYYAAAAASUVORK5CYII=\" style=\"height: auto\">\n",
       "              <figcaption style=\"font-size: 0.6em\">1</figcaption>\n",
       "            </figure>\n",
       "        \n",
       "            <figure style=\"margin: 5px !important;\">\n",
       "              <img src=\"data:image/png;base64,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\" style=\"height: auto\">\n",
       "              <figcaption style=\"font-size: 0.6em\">0</figcaption>\n",
       "            </figure>\n",
       "        \n",
       "            <figure style=\"margin: 5px !important;\">\n",
       "              <img src=\"data:image/png;base64,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\" style=\"height: auto\">\n",
       "              <figcaption style=\"font-size: 0.6em\">5</figcaption>\n",
       "            </figure>\n",
       "        \n",
       "            <figure style=\"margin: 5px !important;\">\n",
       "              <img src=\"data:image/png;base64,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\" style=\"height: auto\">\n",
       "              <figcaption style=\"font-size: 0.6em\">8</figcaption>\n",
       "            </figure>\n",
       "        \n",
       "            <figure style=\"margin: 5px !important;\">\n",
       "              <img src=\"data:image/png;base64,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\" style=\"height: auto\">\n",
       "              <figcaption style=\"font-size: 0.6em\">2</figcaption>\n",
       "            </figure>\n",
       "        \n",
       "            <figure style=\"margin: 5px !important;\">\n",
       "              <img src=\"data:image/png;base64,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\" style=\"height: auto\">\n",
       "              <figcaption style=\"font-size: 0.6em\">6</figcaption>\n",
       "            </figure>\n",
       "        \n",
       "            <figure style=\"margin: 5px !important;\">\n",
       "              <img src=\"data:image/png;base64,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\" style=\"height: auto\">\n",
       "              <figcaption style=\"font-size: 0.6em\">0</figcaption>\n",
       "            </figure>\n",
       "        \n",
       "    </div>"
      ],
      "text/plain": [
       "<IPython.core.display.HTML object>"
      ]
     },
     "execution_count": 8,
     "metadata": {},
     "output_type": "execute_result"
    }
   ],
   "source": [
    "count = 8\n",
    "\n",
    "def get_some_random_images_and_labels(df, count):\n",
    "    image_ids = RNG.choice(df.index.unique(), count, replace=False)\n",
    "    image_datas = df.loc[image_ids]['png']\n",
    "    images = [Image.open(io.BytesIO(image_data)) for image_data in image_datas]\n",
    "    labels = df.loc[image_ids]['value']\n",
    "    return images, list(labels)\n",
    "\n",
    "train_images, train_labels = get_some_random_images_and_labels(df_train_images, count)\n",
    "test_images, test_labels = get_some_random_images_and_labels(df_test_images, count)\n",
    "\n",
    "display_images_grid(train_images + test_images, captions=train_labels + test_labels, col_count=count)"
   ]
  },
  {
   "cell_type": "code",
   "execution_count": 9,
   "id": "e5019d63-ce09-4130-ac07-b6ae15a84ab4",
   "metadata": {},
   "outputs": [],
   "source": [
    "#COS_SIM_THRESHOLD = 0.075\n",
    "COS_SIM_THRESHOLD = 0.055\n",
    "hdc = Hdc(10_000, np)"
   ]
  },
  {
   "cell_type": "code",
   "execution_count": 10,
   "id": "317bc435-b1be-4e25-8f4f-b9e3d35f522b",
   "metadata": {},
   "outputs": [],
   "source": [
    "class CorticalColumn(object):\n",
    "    def __init__(self):\n",
    "        self.clusters = defaultdict(list) # cluster = collection of image bundles for particular class\n",
    "        self.cluster_norms = HdvArray(hdc.N, xp)\n",
    "        self.cluster_to_image_ids = defaultdict(set)"
   ]
  },
  {
   "cell_type": "code",
   "execution_count": 11,
   "id": "1e8dc096-5076-4657-b22c-a489c2be1694",
   "metadata": {},
   "outputs": [],
   "source": [
    "COLUMN = CorticalColumn()"
   ]
  },
  {
   "cell_type": "code",
   "execution_count": 12,
   "id": "86399582-e44f-4cc7-b142-49e8c3e58bcc",
   "metadata": {},
   "outputs": [],
   "source": [
    "# Есть ли вложенность/пересечения в кластерах???\n",
    "for i, image_ids_i in COLUMN.cluster_to_image_ids.items():\n",
    "    for j, image_ids_j in COLUMN.cluster_to_image_ids.items():\n",
    "        if i == j:\n",
    "            continue\n",
    "\n",
    "        if image_ids_i.issubset(image_ids_j):\n",
    "            print(f'{i} is a subset of {j}')\n",
    "\n",
    "        z = image_ids_i.intersection(image_ids_j)\n",
    "\n",
    "        if z:\n",
    "            print(f'{i} & {j} -> {z}')\n"
   ]
  },
  {
   "cell_type": "code",
   "execution_count": null,
   "id": "24c195e6-9942-4201-890e-cfe6925a0d26",
   "metadata": {},
   "outputs": [],
   "source": []
  },
  {
   "cell_type": "raw",
   "id": "44c53e10-e652-45a8-8c79-e74a556dc5ad",
   "metadata": {},
   "source": [
    "COLUMN = CorticalColumn()\n",
    "df_train_progress = pd.DataFrame(columns=['count', 'infers', 'correct_infers'])\n",
    "df_conso_progress = pd.DataFrame(columns=['trial', 'stage', 'cluster_id', 'len'])\n",
    "\n",
    "trials = 10\n",
    "count = 1000\n",
    "\n",
    "for trial in tqdm(range(trials)):\n",
    "    # TRAIN STEP\n",
    "    train_step_image_ids = RNG.choice(df_train_images.index.unique(), count, replace=False)\n",
    "\n",
    "    for image_id in tqdm(train_step_image_ids, leave=False):\n",
    "        image_value = df_train_images.loc[image_id]['value']\n",
    "        df_image_encodings = pd.read_sql('SELECT hdv FROM image_encodings WHERE image_id=:image_id', params={'image_id': int(image_id)}, con=train_db_con)\n",
    "        assert len(df_image_encodings) > 0\n",
    "        image_encoding_hdvs = list(map(lambda h: np.frombuffer(h, dtype='b'), df_image_encodings['hdv']))\n",
    "        image_bundle = hdc.bundle(image_encoding_hdvs)\n",
    "        image_bundle_norm = hdc.normalize(image_bundle)\n",
    "        image_bundle_norm = xp_array_to_gpu(image_bundle_norm)\n",
    "        cos_sims = COLUMN.cluster_norms.array @ image_bundle_norm\n",
    "        cos_sims_indices = xp.argwhere(cos_sims >= COS_SIM_THRESHOLD).reshape(-1)\n",
    "        sorted_cos_sims_with_indices = sorted(zip(cos_sims[cos_sims_indices], cos_sims_indices), key=lambda x: -x[0]) # sort by cos sim desc\n",
    "\n",
    "        # Debundle from ALL clusters which showed similarity but actually are not\n",
    "        for _, index in sorted_cos_sims_with_indices:\n",
    "            index = int(index) # needed if cupy is used (otherwise error about unhashable type)\n",
    "            similar_cluster = COLUMN.clusters[index]\n",
    "            similar_cluster_image_ids = COLUMN.cluster_to_image_ids[index]\n",
    "            assert len(similar_cluster_image_ids) > 0\n",
    "            similar_cluster_image_id = next(iter(similar_cluster_image_ids)) # pick any\n",
    "            similar_cluster_image_value = df_train_images.loc[similar_cluster_image_id]['value']\n",
    "\n",
    "            if similar_cluster_image_value != image_value:\n",
    "                similar_cluster.append(hdc.complement(image_bundle))\n",
    "                COLUMN.cluster_norms.array[index] = xp_array_to_gpu(hdc.normalize(hdc.bundle(similar_cluster)))\n",
    "\n",
    "        # Bundle with MOST successive one\n",
    "        for _, index in sorted_cos_sims_with_indices:\n",
    "            index = int(index) # needed if cupy is used (otherwise error about unhashable type)\n",
    "            similar_cluster = COLUMN.clusters[index]\n",
    "            similar_cluster_image_ids = COLUMN.cluster_to_image_ids[index]\n",
    "            assert len(similar_cluster_image_ids) > 0\n",
    "            similar_cluster_image_id = next(iter(similar_cluster_image_ids)) # pick any\n",
    "            similar_cluster_image_value = df_train_images.loc[similar_cluster_image_id]['value']\n",
    "\n",
    "            if similar_cluster_image_value == image_value:\n",
    "                if not image_id in similar_cluster_image_ids:\n",
    "                    similar_cluster_image_ids.add(image_id)\n",
    "                    similar_cluster.append(image_bundle)\n",
    "                    COLUMN.cluster_norms.array[index] = xp_array_to_gpu(hdc.normalize(hdc.bundle(similar_cluster)))\n",
    "\n",
    "        # Recheck if recognition for given image is Ok\n",
    "        cos_sims = COLUMN.cluster_norms.array @ image_bundle_norm\n",
    "        max_cos_sim_index = int(xp.argmax(cos_sims))\n",
    "\n",
    "        for _ in range(1):\n",
    "            if cos_sims[max_cos_sim_index] >= COS_SIM_THRESHOLD:\n",
    "                similar_cluster_image_ids = COLUMN.cluster_to_image_ids[max_cos_sim_index]\n",
    "                assert len(similar_cluster_image_ids) > 0\n",
    "                similar_cluster_image_id = next(iter(similar_cluster_image_ids))\n",
    "                similar_cluster_image_value = df_train_images.loc[similar_cluster_image_id]['value']\n",
    "\n",
    "                if similar_cluster_image_value == image_value:\n",
    "                    break # Correct match found, relax outselves!\n",
    "        else:\n",
    "            # Didn't find any matching cluster of HDVs to join -> create new one\n",
    "            index = COLUMN.cluster_norms.lease()\n",
    "            COLUMN.cluster_norms.array[index] = image_bundle_norm\n",
    "            COLUMN.clusters[index].append(image_bundle)\n",
    "            COLUMN.cluster_to_image_ids[index].add(image_id)\n",
    "\n",
    "    # CONSOLIDATE MEMORY\n",
    "    for cluster_index, image_ids in COLUMN.cluster_to_image_ids.items():\n",
    "        df_conso_progress.loc[len(df_conso_progress)] = [trial, 'before', cluster_index, len(image_ids)]\n",
    "    \n",
    "    before_len = COLUMN.cluster_norms.len()\n",
    "    assert before_len == len(COLUMN.clusters)\n",
    "    cluster_indices_to_release = []\n",
    "    \n",
    "    for cluster_index, image_ids in COLUMN.cluster_to_image_ids.items():\n",
    "        l = 1\n",
    "        exp_distro_level = l * np.exp(-l * len(image_ids))\n",
    "        rand_level = RNG.random()\n",
    "        do_release = rand_level < exp_distro_level\n",
    "        \n",
    "        if do_release:\n",
    "            cluster_indices_to_release.append(cluster_index)\n",
    "\n",
    "    for cluster_index_to_release in cluster_indices_to_release:\n",
    "        del COLUMN.clusters[cluster_index_to_release]\n",
    "        del COLUMN.cluster_to_image_ids[cluster_index_to_release]\n",
    "        COLUMN.cluster_norms.release(cluster_index_to_release)\n",
    "\n",
    "    after_len = COLUMN.cluster_norms.len()\n",
    "    assert after_len == len(COLUMN.clusters)\n",
    "    \n",
    "    for cluster_index, image_ids in COLUMN.cluster_to_image_ids.items():\n",
    "        df_conso_progress.loc[len(df_conso_progress)] = [trial, 'after', cluster_index, len(image_ids)]\n",
    "\n",
    "    # INFER STEP\n",
    "    inference_count = 0\n",
    "    correct_inference_count = 0\n",
    "    infer_step_image_ids = RNG.choice(df_train_images.index.unique(), count, replace=False)\n",
    "\n",
    "    for image_id in tqdm(infer_step_image_ids, leave=False):\n",
    "        image_value = df_train_images.loc[image_id]['value']\n",
    "        df_image_encodings = pd.read_sql('SELECT hdv FROM image_encodings WHERE image_id=:image_id', params={'image_id': int(image_id)}, con=train_db_con)\n",
    "        assert len(df_image_encodings) > 0\n",
    "        image_encoding_hdvs = map(lambda h: np.frombuffer(h, dtype='b'), df_image_encodings['hdv'])\n",
    "\n",
    "        for image_encoding_hdv in image_encoding_hdvs:\n",
    "            image_encoding_hdv_norm = hdc.normalize(image_encoding_hdv)\n",
    "            image_encoding_hdv_norm = xp_array_to_gpu(image_encoding_hdv_norm)\n",
    "            cos_sims = COLUMN.cluster_norms.array @ image_encoding_hdv_norm\n",
    "            max_cos_sim_index = int(xp.argmax(cos_sims))\n",
    "    \n",
    "            if cos_sims[max_cos_sim_index] < COS_SIM_THRESHOLD:\n",
    "                continue\n",
    "                \n",
    "            inference_count += 1\n",
    "    \n",
    "            similar_cluster_image_ids = COLUMN.cluster_to_image_ids[max_cos_sim_index]\n",
    "            assert len(similar_cluster_image_ids) > 0\n",
    "            similar_cluster_image_id = next(iter(similar_cluster_image_ids))\n",
    "            similar_cluster_image_value = df_train_images.loc[similar_cluster_image_id]['value']\n",
    "            \n",
    "            is_correct_infer = similar_cluster_image_value == image_value\n",
    "            correct_inference_count += int(is_correct_infer)\n",
    "            break\n",
    "        \n",
    "    df_train_progress.loc[len(df_train_progress)] = [count, inference_count, correct_inference_count]"
   ]
  },
  {
   "cell_type": "code",
   "execution_count": 18,
   "id": "bc72b601-6398-4d84-9ce3-97e1a9a92bfa",
   "metadata": {},
   "outputs": [
    {
     "data": {
      "application/vnd.jupyter.widget-view+json": {
       "model_id": "b418c90b8e0648e3bb8ea474e3c07fd6",
       "version_major": 2,
       "version_minor": 0
      },
      "text/plain": [
       "  0%|          | 0/10 [00:00<?, ?it/s]"
      ]
     },
     "metadata": {},
     "output_type": "display_data"
    },
    {
     "data": {
      "application/vnd.jupyter.widget-view+json": {
       "model_id": "",
       "version_major": 2,
       "version_minor": 0
      },
      "text/plain": [
       "  0%|          | 0/1000 [00:00<?, ?it/s]"
      ]
     },
     "metadata": {},
     "output_type": "display_data"
    },
    {
     "data": {
      "application/vnd.jupyter.widget-view+json": {
       "model_id": "",
       "version_major": 2,
       "version_minor": 0
      },
      "text/plain": [
       "  0%|          | 0/1000 [00:00<?, ?it/s]"
      ]
     },
     "metadata": {},
     "output_type": "display_data"
    },
    {
     "data": {
      "application/vnd.jupyter.widget-view+json": {
       "model_id": "",
       "version_major": 2,
       "version_minor": 0
      },
      "text/plain": [
       "  0%|          | 0/1000 [00:00<?, ?it/s]"
      ]
     },
     "metadata": {},
     "output_type": "display_data"
    },
    {
     "data": {
      "application/vnd.jupyter.widget-view+json": {
       "model_id": "",
       "version_major": 2,
       "version_minor": 0
      },
      "text/plain": [
       "  0%|          | 0/1000 [00:00<?, ?it/s]"
      ]
     },
     "metadata": {},
     "output_type": "display_data"
    },
    {
     "data": {
      "application/vnd.jupyter.widget-view+json": {
       "model_id": "",
       "version_major": 2,
       "version_minor": 0
      },
      "text/plain": [
       "  0%|          | 0/1000 [00:00<?, ?it/s]"
      ]
     },
     "metadata": {},
     "output_type": "display_data"
    },
    {
     "data": {
      "application/vnd.jupyter.widget-view+json": {
       "model_id": "",
       "version_major": 2,
       "version_minor": 0
      },
      "text/plain": [
       "  0%|          | 0/1000 [00:00<?, ?it/s]"
      ]
     },
     "metadata": {},
     "output_type": "display_data"
    },
    {
     "data": {
      "application/vnd.jupyter.widget-view+json": {
       "model_id": "",
       "version_major": 2,
       "version_minor": 0
      },
      "text/plain": [
       "  0%|          | 0/1000 [00:00<?, ?it/s]"
      ]
     },
     "metadata": {},
     "output_type": "display_data"
    },
    {
     "data": {
      "application/vnd.jupyter.widget-view+json": {
       "model_id": "",
       "version_major": 2,
       "version_minor": 0
      },
      "text/plain": [
       "  0%|          | 0/1000 [00:00<?, ?it/s]"
      ]
     },
     "metadata": {},
     "output_type": "display_data"
    },
    {
     "data": {
      "application/vnd.jupyter.widget-view+json": {
       "model_id": "",
       "version_major": 2,
       "version_minor": 0
      },
      "text/plain": [
       "  0%|          | 0/1000 [00:00<?, ?it/s]"
      ]
     },
     "metadata": {},
     "output_type": "display_data"
    },
    {
     "data": {
      "application/vnd.jupyter.widget-view+json": {
       "model_id": "",
       "version_major": 2,
       "version_minor": 0
      },
      "text/plain": [
       "  0%|          | 0/1000 [00:00<?, ?it/s]"
      ]
     },
     "metadata": {},
     "output_type": "display_data"
    },
    {
     "data": {
      "application/vnd.jupyter.widget-view+json": {
       "model_id": "",
       "version_major": 2,
       "version_minor": 0
      },
      "text/plain": [
       "  0%|          | 0/1000 [00:00<?, ?it/s]"
      ]
     },
     "metadata": {},
     "output_type": "display_data"
    },
    {
     "data": {
      "application/vnd.jupyter.widget-view+json": {
       "model_id": "",
       "version_major": 2,
       "version_minor": 0
      },
      "text/plain": [
       "  0%|          | 0/1000 [00:00<?, ?it/s]"
      ]
     },
     "metadata": {},
     "output_type": "display_data"
    },
    {
     "data": {
      "application/vnd.jupyter.widget-view+json": {
       "model_id": "",
       "version_major": 2,
       "version_minor": 0
      },
      "text/plain": [
       "  0%|          | 0/1000 [00:00<?, ?it/s]"
      ]
     },
     "metadata": {},
     "output_type": "display_data"
    },
    {
     "data": {
      "application/vnd.jupyter.widget-view+json": {
       "model_id": "",
       "version_major": 2,
       "version_minor": 0
      },
      "text/plain": [
       "  0%|          | 0/1000 [00:00<?, ?it/s]"
      ]
     },
     "metadata": {},
     "output_type": "display_data"
    },
    {
     "data": {
      "application/vnd.jupyter.widget-view+json": {
       "model_id": "",
       "version_major": 2,
       "version_minor": 0
      },
      "text/plain": [
       "  0%|          | 0/1000 [00:00<?, ?it/s]"
      ]
     },
     "metadata": {},
     "output_type": "display_data"
    },
    {
     "data": {
      "application/vnd.jupyter.widget-view+json": {
       "model_id": "",
       "version_major": 2,
       "version_minor": 0
      },
      "text/plain": [
       "  0%|          | 0/1000 [00:00<?, ?it/s]"
      ]
     },
     "metadata": {},
     "output_type": "display_data"
    },
    {
     "data": {
      "application/vnd.jupyter.widget-view+json": {
       "model_id": "",
       "version_major": 2,
       "version_minor": 0
      },
      "text/plain": [
       "  0%|          | 0/1000 [00:00<?, ?it/s]"
      ]
     },
     "metadata": {},
     "output_type": "display_data"
    },
    {
     "data": {
      "application/vnd.jupyter.widget-view+json": {
       "model_id": "",
       "version_major": 2,
       "version_minor": 0
      },
      "text/plain": [
       "  0%|          | 0/1000 [00:00<?, ?it/s]"
      ]
     },
     "metadata": {},
     "output_type": "display_data"
    },
    {
     "data": {
      "application/vnd.jupyter.widget-view+json": {
       "model_id": "",
       "version_major": 2,
       "version_minor": 0
      },
      "text/plain": [
       "  0%|          | 0/1000 [00:00<?, ?it/s]"
      ]
     },
     "metadata": {},
     "output_type": "display_data"
    },
    {
     "data": {
      "application/vnd.jupyter.widget-view+json": {
       "model_id": "",
       "version_major": 2,
       "version_minor": 0
      },
      "text/plain": [
       "  0%|          | 0/1000 [00:00<?, ?it/s]"
      ]
     },
     "metadata": {},
     "output_type": "display_data"
    }
   ],
   "source": [
    "COLUMN = CorticalColumn()\n",
    "df_train_progress = pd.DataFrame(columns=['count', 'infers', 'correct_infers'])\n",
    "df_conso_progress = pd.DataFrame(columns=['trial', 'stage', 'cluster_id', 'len'])\n",
    "\n",
    "trials = 10\n",
    "count = 1000\n",
    "\n",
    "for trial in tqdm(range(trials)):\n",
    "    # TRAIN STEP\n",
    "    train_step_image_ids = RNG.choice(df_train_images.index.unique(), count, replace=False)\n",
    "\n",
    "    for image_id in tqdm(train_step_image_ids, leave=False):\n",
    "        image_value = df_train_images.loc[image_id]['value']\n",
    "        df_image_encodings = pd.read_sql('SELECT hdv FROM image_encodings WHERE image_id=:image_id', params={'image_id': int(image_id)}, con=train_db_con)\n",
    "        assert len(df_image_encodings) > 0\n",
    "        image_encoding_hdvs = list(map(lambda h: np.frombuffer(h, dtype='b'), df_image_encodings['hdv']))\n",
    "        image_bundle = hdc.bundle(image_encoding_hdvs)\n",
    "        image_bundle_norm = hdc.normalize(image_bundle)\n",
    "        image_bundle_norm = xp_array_to_gpu(image_bundle_norm)\n",
    "        cos_sims = COLUMN.cluster_norms.array @ image_bundle_norm\n",
    "        cos_sims_indices = xp.argwhere(cos_sims >= COS_SIM_THRESHOLD).reshape(-1)\n",
    "        sorted_cos_sims_with_indices = sorted(zip(cos_sims[cos_sims_indices], cos_sims_indices), key=lambda x: -x[0]) # sort by cos sim desc\n",
    "\n",
    "        # Debundle from ALL clusters which showed similarity but actually are not\n",
    "        for _, index in sorted_cos_sims_with_indices:\n",
    "            index = int(index) # needed if cupy is used (otherwise error about unhashable type)\n",
    "            similar_cluster = COLUMN.clusters[index]\n",
    "            similar_cluster_image_ids = COLUMN.cluster_to_image_ids[index]\n",
    "            assert len(similar_cluster_image_ids) > 0\n",
    "            similar_cluster_image_id = next(iter(similar_cluster_image_ids)) # pick any\n",
    "            similar_cluster_image_value = df_train_images.loc[similar_cluster_image_id]['value']\n",
    "\n",
    "            if similar_cluster_image_value != image_value:\n",
    "                similar_cluster.append(hdc.complement(image_bundle))\n",
    "                COLUMN.cluster_norms.array[index] = xp_array_to_gpu(hdc.normalize(hdc.bundle(similar_cluster)))\n",
    "\n",
    "        # Bundle with MOST successive one\n",
    "        for _, index in sorted_cos_sims_with_indices:\n",
    "            index = int(index) # needed if cupy is used (otherwise error about unhashable type)\n",
    "            similar_cluster = COLUMN.clusters[index]\n",
    "            similar_cluster_image_ids = COLUMN.cluster_to_image_ids[index]\n",
    "            assert len(similar_cluster_image_ids) > 0\n",
    "            similar_cluster_image_id = next(iter(similar_cluster_image_ids)) # pick any\n",
    "            similar_cluster_image_value = df_train_images.loc[similar_cluster_image_id]['value']\n",
    "\n",
    "            if similar_cluster_image_value == image_value:\n",
    "                similar_cluster_image_ids.add(image_id)\n",
    "                similar_cluster.append(image_bundle)\n",
    "                COLUMN.cluster_norms.array[index] = xp_array_to_gpu(hdc.normalize(hdc.bundle(similar_cluster)))\n",
    "\n",
    "        # Recheck if recognition for given image is Ok\n",
    "        cos_sims = COLUMN.cluster_norms.array @ image_bundle_norm\n",
    "        max_cos_sim_index = int(xp.argmax(cos_sims))\n",
    "\n",
    "        for _ in range(1):\n",
    "            if cos_sims[max_cos_sim_index] >= COS_SIM_THRESHOLD:\n",
    "                similar_cluster_image_ids = COLUMN.cluster_to_image_ids[max_cos_sim_index]\n",
    "                assert len(similar_cluster_image_ids) > 0\n",
    "                similar_cluster_image_id = next(iter(similar_cluster_image_ids))\n",
    "                similar_cluster_image_value = df_train_images.loc[similar_cluster_image_id]['value']\n",
    "\n",
    "                if similar_cluster_image_value == image_value:\n",
    "                    break # Correct match found, relax outselves!\n",
    "        else:\n",
    "            # Didn't find any matching cluster of HDVs to join -> create new one\n",
    "            index = COLUMN.cluster_norms.lease()\n",
    "            COLUMN.cluster_norms.array[index] = image_bundle_norm\n",
    "            COLUMN.clusters[index].append(image_bundle)\n",
    "            COLUMN.cluster_to_image_ids[index].add(image_id)\n",
    "\n",
    "    # CONSOLIDATE MEMORY\n",
    "    for cluster_index, image_ids in COLUMN.cluster_to_image_ids.items():\n",
    "        df_conso_progress.loc[len(df_conso_progress)] = [trial, 'before', cluster_index, len(image_ids)]\n",
    "    \n",
    "    before_len = COLUMN.cluster_norms.len()\n",
    "    assert before_len == len(COLUMN.clusters)\n",
    "    cluster_indices_to_release = []\n",
    "    \n",
    "    for cluster_index, image_ids in COLUMN.cluster_to_image_ids.items():\n",
    "        l = 1\n",
    "        exp_distro_level = l * np.exp(-l * len(image_ids))\n",
    "        rand_level = RNG.random()\n",
    "        do_release = rand_level < exp_distro_level\n",
    "        \n",
    "        if do_release:\n",
    "            cluster_indices_to_release.append(cluster_index)\n",
    "\n",
    "    for cluster_index_to_release in cluster_indices_to_release:\n",
    "        del COLUMN.clusters[cluster_index_to_release]\n",
    "        del COLUMN.cluster_to_image_ids[cluster_index_to_release]\n",
    "        COLUMN.cluster_norms.release(cluster_index_to_release)\n",
    "\n",
    "    after_len = COLUMN.cluster_norms.len()\n",
    "    assert after_len == len(COLUMN.clusters)\n",
    "    \n",
    "    for cluster_index, image_ids in COLUMN.cluster_to_image_ids.items():\n",
    "        df_conso_progress.loc[len(df_conso_progress)] = [trial, 'after', cluster_index, len(image_ids)]\n",
    "\n",
    "    # INFER STEP\n",
    "    inference_count = 0\n",
    "    correct_inference_count = 0\n",
    "    infer_step_image_ids = RNG.choice(df_train_images.index.unique(), count, replace=False)\n",
    "\n",
    "    for image_id in tqdm(infer_step_image_ids, leave=False):\n",
    "        image_value = df_train_images.loc[image_id]['value']\n",
    "        df_image_encodings = pd.read_sql('SELECT hdv FROM image_encodings WHERE image_id=:image_id', params={'image_id': int(image_id)}, con=train_db_con)\n",
    "        assert len(df_image_encodings) > 0\n",
    "        image_encoding_hdvs = map(lambda h: np.frombuffer(h, dtype='b'), df_image_encodings['hdv'])\n",
    "\n",
    "        for image_encoding_hdv in image_encoding_hdvs:\n",
    "            image_encoding_hdv_norm = hdc.normalize(image_encoding_hdv)\n",
    "            image_encoding_hdv_norm = xp_array_to_gpu(image_encoding_hdv_norm)\n",
    "            cos_sims = COLUMN.cluster_norms.array @ image_encoding_hdv_norm\n",
    "            max_cos_sim_index = int(xp.argmax(cos_sims))\n",
    "    \n",
    "            if cos_sims[max_cos_sim_index] < COS_SIM_THRESHOLD:\n",
    "                continue\n",
    "                \n",
    "            inference_count += 1\n",
    "    \n",
    "            similar_cluster_image_ids = COLUMN.cluster_to_image_ids[max_cos_sim_index]\n",
    "            assert len(similar_cluster_image_ids) > 0\n",
    "            similar_cluster_image_id = next(iter(similar_cluster_image_ids))\n",
    "            similar_cluster_image_value = df_train_images.loc[similar_cluster_image_id]['value']\n",
    "            \n",
    "            is_correct_infer = similar_cluster_image_value == image_value\n",
    "            correct_inference_count += int(is_correct_infer)\n",
    "            break\n",
    "        \n",
    "    df_train_progress.loc[len(df_train_progress)] = [count, inference_count, correct_inference_count]"
   ]
  },
  {
   "cell_type": "code",
   "execution_count": null,
   "id": "741b27d9-97cf-4a62-85df-fbb1bac61818",
   "metadata": {},
   "outputs": [],
   "source": []
  },
  {
   "cell_type": "code",
   "execution_count": null,
   "id": "89d069be-b5fa-4458-9ae9-9a841e958b06",
   "metadata": {},
   "outputs": [],
   "source": []
  },
  {
   "cell_type": "code",
   "execution_count": null,
   "id": "9112f427-2bda-4f8c-a021-8826ff624847",
   "metadata": {},
   "outputs": [],
   "source": []
  },
  {
   "cell_type": "code",
   "execution_count": 19,
   "id": "8f7ea985-956c-4c39-a5d0-34e562ce4cce",
   "metadata": {},
   "outputs": [
    {
     "data": {
      "image/png": "[encoded data removed]",
      "text/plain": [
       "<Figure size 1600x400 with 3 Axes>"
      ]
     },
     "metadata": {},
     "output_type": "display_data"
    },
    {
     "data": {
      "text/html": [
       "<div>\n",
       "<style scoped>\n",
       "    .dataframe tbody tr th:only-of-type {\n",
       "        vertical-align: middle;\n",
       "    }\n",
       "\n",
       "    .dataframe tbody tr th {\n",
       "        vertical-align: top;\n",
       "    }\n",
       "\n",
       "    .dataframe thead th {\n",
       "        text-align: right;\n",
       "    }\n",
       "</style>\n",
       "<table border=\"1\" class=\"dataframe\">\n",
       "  <thead>\n",
       "    <tr style=\"text-align: right;\">\n",
       "      <th></th>\n",
       "      <th>count</th>\n",
       "      <th>infers</th>\n",
       "      <th>correct_infers</th>\n",
       "      <th>infer_ratio</th>\n",
       "      <th>accuracy_count</th>\n",
       "      <th>accuracy_infers</th>\n",
       "    </tr>\n",
       "  </thead>\n",
       "  <tbody>\n",
       "    <tr>\n",
       "      <th>0</th>\n",
       "      <td>1000</td>\n",
       "      <td>999</td>\n",
       "      <td>826</td>\n",
       "      <td>0.999</td>\n",
       "      <td>0.826</td>\n",
       "      <td>0.826827</td>\n",
       "    </tr>\n",
       "    <tr>\n",
       "      <th>1</th>\n",
       "      <td>1000</td>\n",
       "      <td>999</td>\n",
       "      <td>862</td>\n",
       "      <td>0.999</td>\n",
       "      <td>0.862</td>\n",
       "      <td>0.862863</td>\n",
       "    </tr>\n",
       "    <tr>\n",
       "      <th>2</th>\n",
       "      <td>1000</td>\n",
       "      <td>1000</td>\n",
       "      <td>850</td>\n",
       "      <td>1.000</td>\n",
       "      <td>0.850</td>\n",
       "      <td>0.850000</td>\n",
       "    </tr>\n",
       "    <tr>\n",
       "      <th>3</th>\n",
       "      <td>1000</td>\n",
       "      <td>1000</td>\n",
       "      <td>881</td>\n",
       "      <td>1.000</td>\n",
       "      <td>0.881</td>\n",
       "      <td>0.881000</td>\n",
       "    </tr>\n",
       "    <tr>\n",
       "      <th>4</th>\n",
       "      <td>1000</td>\n",
       "      <td>999</td>\n",
       "      <td>886</td>\n",
       "      <td>0.999</td>\n",
       "      <td>0.886</td>\n",
       "      <td>0.886887</td>\n",
       "    </tr>\n",
       "    <tr>\n",
       "      <th>5</th>\n",
       "      <td>1000</td>\n",
       "      <td>999</td>\n",
       "      <td>887</td>\n",
       "      <td>0.999</td>\n",
       "      <td>0.887</td>\n",
       "      <td>0.887888</td>\n",
       "    </tr>\n",
       "    <tr>\n",
       "      <th>6</th>\n",
       "      <td>1000</td>\n",
       "      <td>1000</td>\n",
       "      <td>891</td>\n",
       "      <td>1.000</td>\n",
       "      <td>0.891</td>\n",
       "      <td>0.891000</td>\n",
       "    </tr>\n",
       "    <tr>\n",
       "      <th>7</th>\n",
       "      <td>1000</td>\n",
       "      <td>999</td>\n",
       "      <td>863</td>\n",
       "      <td>0.999</td>\n",
       "      <td>0.863</td>\n",
       "      <td>0.863864</td>\n",
       "    </tr>\n",
       "    <tr>\n",
       "      <th>8</th>\n",
       "      <td>1000</td>\n",
       "      <td>1000</td>\n",
       "      <td>881</td>\n",
       "      <td>1.000</td>\n",
       "      <td>0.881</td>\n",
       "      <td>0.881000</td>\n",
       "    </tr>\n",
       "    <tr>\n",
       "      <th>9</th>\n",
       "      <td>1000</td>\n",
       "      <td>998</td>\n",
       "      <td>894</td>\n",
       "      <td>0.998</td>\n",
       "      <td>0.894</td>\n",
       "      <td>0.895792</td>\n",
       "    </tr>\n",
       "  </tbody>\n",
       "</table>\n",
       "</div>"
      ],
      "text/plain": [
       "   count  infers  correct_infers  infer_ratio  accuracy_count  accuracy_infers\n",
       "0   1000     999             826        0.999           0.826         0.826827\n",
       "1   1000     999             862        0.999           0.862         0.862863\n",
       "2   1000    1000             850        1.000           0.850         0.850000\n",
       "3   1000    1000             881        1.000           0.881         0.881000\n",
       "4   1000     999             886        0.999           0.886         0.886887\n",
       "5   1000     999             887        0.999           0.887         0.887888\n",
       "6   1000    1000             891        1.000           0.891         0.891000\n",
       "7   1000     999             863        0.999           0.863         0.863864\n",
       "8   1000    1000             881        1.000           0.881         0.881000\n",
       "9   1000     998             894        0.998           0.894         0.895792"
      ]
     },
     "execution_count": 19,
     "metadata": {},
     "output_type": "execute_result"
    }
   ],
   "source": [
    "df_train_progress2 = df_train_progress.copy()\n",
    "df_train_progress2['infer_ratio'] = df_train_progress2['infers'] / df_train_progress2['count']\n",
    "df_train_progress2['accuracy_count'] = df_train_progress2['correct_infers'] / df_train_progress2['count']\n",
    "df_train_progress2['accuracy_infers'] = df_train_progress2['correct_infers'] / df_train_progress2['infers']\n",
    "\n",
    "plt.figure(figsize=(16, 4))\n",
    "plt.subplot(1, 3, 1)\n",
    "b = plt.bar(list(df_train_progress2.index), list(df_train_progress2['infer_ratio']))\n",
    "plt.bar_label(b, map(lambda p: f'{p*100:.0f}', df_train_progress2['infer_ratio']), label_type='center')\n",
    "plt.ylim(0, 1)\n",
    "plt.title('Infers, %')\n",
    "plt.grid()\n",
    "\n",
    "plt.subplot(1, 3, 2)\n",
    "b = plt.bar(list(df_train_progress2.index), list(df_train_progress2['accuracy_count']))\n",
    "plt.bar_label(b, map(lambda p: f'{p*100:.0f}', df_train_progress2['accuracy_count']), label_type='center')\n",
    "plt.ylim(0, 1)\n",
    "plt.title('Accuracy (Count), %')\n",
    "plt.grid()\n",
    "\n",
    "plt.subplot(1, 3, 3)\n",
    "b = plt.bar(list(df_train_progress2.index), list(df_train_progress2['accuracy_infers']))\n",
    "plt.bar_label(b, map(lambda p: f'{p*100:.0f}', df_train_progress2['accuracy_infers']), label_type='center')\n",
    "plt.ylim(0, 1)\n",
    "plt.title('Accuracy (Infers), %')\n",
    "plt.grid()\n",
    "\n",
    "plt.show()\n",
    "df_train_progress2"
   ]
  },
  {
   "cell_type": "code",
   "execution_count": null,
   "id": "aec61bd0-b3b7-4ea7-9527-46a36aabfa44",
   "metadata": {},
   "outputs": [],
   "source": []
  },
  {
   "cell_type": "code",
   "execution_count": null,
   "id": "ce003507-f3c9-4249-92fa-a0ff04822f4b",
   "metadata": {},
   "outputs": [],
   "source": []
  },
  {
   "cell_type": "code",
   "execution_count": null,
   "id": "41e220f1-71a7-4081-b4f3-47e50d849634",
   "metadata": {},
   "outputs": [],
   "source": []
  },
  {
   "cell_type": "code",
   "execution_count": 40,
   "id": "236dceb9-0704-4aad-8de7-b1033df55830",
   "metadata": {},
   "outputs": [
    {
     "data": {
      "text/html": [
       "<div style=\"\n",
       "        display: grid; \n",
       "        grid-template-columns: repeat(8, 128px);\n",
       "        column-gap: 1px;\n",
       "        row-gap: 1px;\">\n",
       "        \n",
       "            <figure style=\"margin: 5px !important;\">\n",
       "              <img src=\"data:image/png;base64,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\" style=\"height: auto\">\n",
       "              <figcaption style=\"font-size: 0.6em\">clust=19, #24589, val=8</figcaption>\n",
       "            </figure>\n",
       "        \n",
       "    </div>"
      ],
      "text/plain": [
       "<IPython.core.display.HTML object>"
      ]
     },
     "execution_count": 40,
     "metadata": {},
     "output_type": "execute_result"
    }
   ],
   "source": [
    "images = []\n",
    "captions = []\n",
    "\n",
    "if COLUMN.clusters.keys():\n",
    "    random_cluster_i = RNG.choice(list(COLUMN.clusters.keys()))\n",
    "    image_ids = COLUMN.cluster_to_image_ids[random_cluster_i]\n",
    "    df_i = df_train_images.loc[list(image_ids)]\n",
    "    image_datas = df_i['png']\n",
    "    images = [Image.open(io.BytesIO(image_data)) for image_data in image_datas]\n",
    "    captions = list(map(lambda p: f'clust={random_cluster_i}, #{p[0]}, val={p[1]}', zip(df_i.index, df_i['value'])))\n",
    "    \n",
    "display_images_grid(images, captions=captions, col_count=8)"
   ]
  },
  {
   "cell_type": "code",
   "execution_count": 146,
   "id": "b5f297ad-9651-4817-bd0e-3326fefbde14",
   "metadata": {},
   "outputs": [
    {
     "data": {
      "application/vnd.jupyter.widget-view+json": {
       "model_id": "",
       "version_major": 2,
       "version_minor": 0
      },
      "text/plain": [
       "  0%|          | 0/2000 [00:00<?, ?it/s]"
      ]
     },
     "metadata": {},
     "output_type": "display_data"
    }
   ],
   "source": [
    "count = 2000\n",
    "df_test_results = pd.DataFrame(columns=['test_image_id', 'true_value', 'cluster_id', 'infer_value', 'sim'])\n",
    "test_image_ids = RNG.choice(df_test_images.index.unique(), count, replace=False)\n",
    "#test_image_ids = [100007372]\n",
    "inference_count = 0\n",
    "correct_inference_count = 0\n",
    "\n",
    "for image_id in tqdm(test_image_ids, leave=False):\n",
    "    image_value = df_test_images.loc[image_id]['value']\n",
    "    df_image_encodings = pd.read_sql('SELECT hdv FROM image_encodings WHERE image_id=:image_id', params={'image_id': int(image_id)}, con=test_db_con)\n",
    "    assert len(df_image_encodings) > 0\n",
    "    image_encoding_hdvs = map(lambda h: np.frombuffer(h, dtype='b'), df_image_encodings['hdv'])\n",
    "    max_cos_sim_index = -1 # aka cluster id\n",
    "    max_similar_cluster_image_value = ''\n",
    "    max_cos_sim = 0\n",
    "\n",
    "    for image_encoding_hdv in image_encoding_hdvs:\n",
    "        image_encoding_hdv_norm = hdc.normalize(image_encoding_hdv)\n",
    "        image_encoding_hdv_norm = xp_array_to_gpu(image_encoding_hdv_norm)\n",
    "        cos_sims = COLUMN.cluster_norms.array @ image_encoding_hdv_norm\n",
    "        this_max_cos_sim_index = int(xp.argmax(cos_sims))\n",
    "        this_max_cos_sim = xp_array_from_gpu(cos_sims[this_max_cos_sim_index])\n",
    "\n",
    "        if cos_sims[this_max_cos_sim_index] < COS_SIM_THRESHOLD:\n",
    "            continue\n",
    "\n",
    "        if this_max_cos_sim > max_cos_sim:\n",
    "            max_cos_sim = this_max_cos_sim\n",
    "            max_cos_sim_index = this_max_cos_sim_index\n",
    "            similar_cluster_image_ids = COLUMN.cluster_to_image_ids[max_cos_sim_index]\n",
    "            assert len(similar_cluster_image_ids) > 0\n",
    "            similar_cluster_image_id = next(iter(similar_cluster_image_ids))\n",
    "            max_similar_cluster_image_value = df_train_images.loc[similar_cluster_image_id]['value'] # exactly from train! (i.e. we look for prototype in train data)\n",
    "    \n",
    "    df_test_results.loc[len(df_test_results)] = [image_id, image_value, max_cos_sim_index, max_similar_cluster_image_value, max_cos_sim]\n",
    "\n",
    "df_test_results['is_correct_infer'] = df_test_results['true_value'] == df_test_results['infer_value']"
   ]
  },
  {
   "cell_type": "code",
   "execution_count": 147,
   "id": "9ded612b-96ae-4f3d-a964-d78dcfb19834",
   "metadata": {},
   "outputs": [
    {
     "data": {
      "image/png": "[encoded data removed]",
      "text/plain": [
       "<Figure size 1600x400 with 3 Axes>"
      ]
     },
     "metadata": {},
     "output_type": "display_data"
    },
    {
     "data": {
      "text/html": [
       "<div>\n",
       "<style scoped>\n",
       "    .dataframe tbody tr th:only-of-type {\n",
       "        vertical-align: middle;\n",
       "    }\n",
       "\n",
       "    .dataframe tbody tr th {\n",
       "        vertical-align: top;\n",
       "    }\n",
       "\n",
       "    .dataframe thead th {\n",
       "        text-align: right;\n",
       "    }\n",
       "</style>\n",
       "<table border=\"1\" class=\"dataframe\">\n",
       "  <thead>\n",
       "    <tr style=\"text-align: right;\">\n",
       "      <th></th>\n",
       "      <th>count</th>\n",
       "      <th>infers</th>\n",
       "      <th>correct_infers</th>\n",
       "      <th>infer_ratio</th>\n",
       "      <th>accuracy_count</th>\n",
       "      <th>accuracy_infers</th>\n",
       "    </tr>\n",
       "  </thead>\n",
       "  <tbody>\n",
       "    <tr>\n",
       "      <th>0</th>\n",
       "      <td>2000</td>\n",
       "      <td>1999</td>\n",
       "      <td>1747</td>\n",
       "      <td>0.9995</td>\n",
       "      <td>0.8735</td>\n",
       "      <td>0.873937</td>\n",
       "    </tr>\n",
       "  </tbody>\n",
       "</table>\n",
       "</div>"
      ],
      "text/plain": [
       "   count  infers  correct_infers  infer_ratio  accuracy_count  accuracy_infers\n",
       "0   2000    1999            1747       0.9995          0.8735         0.873937"
      ]
     },
     "execution_count": 147,
     "metadata": {},
     "output_type": "execute_result"
    }
   ],
   "source": [
    "infers_count = (df_test_results['cluster_id'] > -1).sum()\n",
    "correct_infers_count = (df_test_results['true_value'] == df_test_results['infer_value']).sum()\n",
    "df_test_progress2 = pd.DataFrame(columns=['count', 'infers', 'correct_infers'])\n",
    "df_test_progress2.loc[len(df_test_progress2)] = [len(df_test_results), infers_count, correct_infers_count]\n",
    "df_test_progress2['infer_ratio'] = df_test_progress2['infers'] / df_test_progress2['count']\n",
    "df_test_progress2['accuracy_count'] = df_test_progress2['correct_infers'] / df_test_progress2['count']\n",
    "df_test_progress2['accuracy_infers'] = df_test_progress2['correct_infers'] / df_test_progress2['infers']\n",
    "\n",
    "plt.figure(figsize=(16, 4))\n",
    "plt.subplot(1, 3, 1)\n",
    "b = plt.bar(list(df_test_progress2.index), list(df_test_progress2['infer_ratio']))\n",
    "plt.bar_label(b, map(lambda p: f'{p*100:.0f}', df_test_progress2['infer_ratio']), label_type='center')\n",
    "plt.ylim(0, 1)\n",
    "plt.title('Infers, %')\n",
    "plt.grid()\n",
    "\n",
    "plt.subplot(1, 3, 2)\n",
    "b = plt.bar(list(df_test_progress2.index), list(df_test_progress2['accuracy_count']))\n",
    "plt.bar_label(b, map(lambda p: f'{p*100:.0f}', df_test_progress2['accuracy_count']), label_type='center')\n",
    "plt.ylim(0, 1)\n",
    "plt.title('Accuracy (Count), %')\n",
    "plt.grid()\n",
    "\n",
    "plt.subplot(1, 3, 3)\n",
    "b = plt.bar(list(df_test_progress2.index), list(df_test_progress2['accuracy_infers']))\n",
    "plt.bar_label(b, map(lambda p: f'{p*100:.0f}', df_test_progress2['accuracy_infers']), label_type='center')\n",
    "plt.ylim(0, 1)\n",
    "plt.title('Accuracy (Infers), %')\n",
    "plt.grid()\n",
    "\n",
    "plt.show()\n",
    "df_test_progress2"
   ]
  },
  {
   "cell_type": "code",
   "execution_count": 132,
   "id": "a4a77298-6ab2-4610-8b9e-cce3c85a30ff",
   "metadata": {},
   "outputs": [
    {
     "data": {
      "text/html": [
       "<div>\n",
       "<style scoped>\n",
       "    .dataframe tbody tr th:only-of-type {\n",
       "        vertical-align: middle;\n",
       "    }\n",
       "\n",
       "    .dataframe tbody tr th {\n",
       "        vertical-align: top;\n",
       "    }\n",
       "\n",
       "    .dataframe thead tr th {\n",
       "        text-align: left;\n",
       "    }\n",
       "\n",
       "    .dataframe thead tr:last-of-type th {\n",
       "        text-align: right;\n",
       "    }\n",
       "</style>\n",
       "<table border=\"1\" class=\"dataframe\">\n",
       "  <thead>\n",
       "    <tr>\n",
       "      <th></th>\n",
       "      <th colspan=\"2\" halign=\"left\">count</th>\n",
       "    </tr>\n",
       "    <tr>\n",
       "      <th></th>\n",
       "      <th colspan=\"2\" halign=\"left\">test_image_id</th>\n",
       "    </tr>\n",
       "    <tr>\n",
       "      <th>is_correct_infer</th>\n",
       "      <th>False</th>\n",
       "      <th>True</th>\n",
       "    </tr>\n",
       "    <tr>\n",
       "      <th>true_value</th>\n",
       "      <th></th>\n",
       "      <th></th>\n",
       "    </tr>\n",
       "  </thead>\n",
       "  <tbody>\n",
       "    <tr>\n",
       "      <th>0</th>\n",
       "      <td>15</td>\n",
       "      <td>176</td>\n",
       "    </tr>\n",
       "    <tr>\n",
       "      <th>1</th>\n",
       "      <td>11</td>\n",
       "      <td>219</td>\n",
       "    </tr>\n",
       "    <tr>\n",
       "      <th>2</th>\n",
       "      <td>41</td>\n",
       "      <td>169</td>\n",
       "    </tr>\n",
       "    <tr>\n",
       "      <th>3</th>\n",
       "      <td>20</td>\n",
       "      <td>187</td>\n",
       "    </tr>\n",
       "    <tr>\n",
       "      <th>4</th>\n",
       "      <td>33</td>\n",
       "      <td>148</td>\n",
       "    </tr>\n",
       "    <tr>\n",
       "      <th>5</th>\n",
       "      <td>42</td>\n",
       "      <td>135</td>\n",
       "    </tr>\n",
       "    <tr>\n",
       "      <th>6</th>\n",
       "      <td>18</td>\n",
       "      <td>182</td>\n",
       "    </tr>\n",
       "    <tr>\n",
       "      <th>7</th>\n",
       "      <td>26</td>\n",
       "      <td>191</td>\n",
       "    </tr>\n",
       "    <tr>\n",
       "      <th>8</th>\n",
       "      <td>44</td>\n",
       "      <td>147</td>\n",
       "    </tr>\n",
       "    <tr>\n",
       "      <th>9</th>\n",
       "      <td>35</td>\n",
       "      <td>161</td>\n",
       "    </tr>\n",
       "  </tbody>\n",
       "</table>\n",
       "</div>"
      ],
      "text/plain": [
       "                         count      \n",
       "                 test_image_id      \n",
       "is_correct_infer         False True \n",
       "true_value                          \n",
       "0                           15   176\n",
       "1                           11   219\n",
       "2                           41   169\n",
       "3                           20   187\n",
       "4                           33   148\n",
       "5                           42   135\n",
       "6                           18   182\n",
       "7                           26   191\n",
       "8                           44   147\n",
       "9                           35   161"
      ]
     },
     "execution_count": 132,
     "metadata": {},
     "output_type": "execute_result"
    }
   ],
   "source": [
    "pd.pivot_table(df_test_results, index='true_value', columns=['is_correct_infer'], values=['test_image_id'], aggfunc=['count'])"
   ]
  },
  {
   "cell_type": "code",
   "execution_count": 155,
   "id": "a7f7fd04-f413-47bf-b601-3a9327b61c82",
   "metadata": {},
   "outputs": [
    {
     "data": {
      "text/html": [
       "<div>\n",
       "<style scoped>\n",
       "    .dataframe tbody tr th:only-of-type {\n",
       "        vertical-align: middle;\n",
       "    }\n",
       "\n",
       "    .dataframe tbody tr th {\n",
       "        vertical-align: top;\n",
       "    }\n",
       "\n",
       "    .dataframe thead th {\n",
       "        text-align: right;\n",
       "    }\n",
       "</style>\n",
       "<table border=\"1\" class=\"dataframe\">\n",
       "  <thead>\n",
       "    <tr style=\"text-align: right;\">\n",
       "      <th></th>\n",
       "      <th>true_value</th>\n",
       "      <th>cluster_id</th>\n",
       "      <th>cluster_value</th>\n",
       "      <th>sim</th>\n",
       "    </tr>\n",
       "  </thead>\n",
       "  <tbody>\n",
       "    <tr>\n",
       "      <th>6</th>\n",
       "      <td>6</td>\n",
       "      <td>226</td>\n",
       "      <td>0</td>\n",
       "      <td>0.10350888834976019</td>\n",
       "    </tr>\n",
       "    <tr>\n",
       "      <th>15</th>\n",
       "      <td>6</td>\n",
       "      <td>130</td>\n",
       "      <td>6</td>\n",
       "      <td>0.09287200673449468</td>\n",
       "    </tr>\n",
       "    <tr>\n",
       "      <th>5</th>\n",
       "      <td>6</td>\n",
       "      <td>12</td>\n",
       "      <td>6</td>\n",
       "      <td>0.08926529383207574</td>\n",
       "    </tr>\n",
       "    <tr>\n",
       "      <th>33</th>\n",
       "      <td>6</td>\n",
       "      <td>232</td>\n",
       "      <td>6</td>\n",
       "      <td>0.08635677829726608</td>\n",
       "    </tr>\n",
       "    <tr>\n",
       "      <th>16</th>\n",
       "      <td>6</td>\n",
       "      <td>170</td>\n",
       "      <td>6</td>\n",
       "      <td>0.08443675483565317</td>\n",
       "    </tr>\n",
       "    <tr>\n",
       "      <th>26</th>\n",
       "      <td>6</td>\n",
       "      <td>171</td>\n",
       "      <td>6</td>\n",
       "      <td>0.08333344602688733</td>\n",
       "    </tr>\n",
       "    <tr>\n",
       "      <th>19</th>\n",
       "      <td>6</td>\n",
       "      <td>273</td>\n",
       "      <td>6</td>\n",
       "      <td>0.08231992868857155</td>\n",
       "    </tr>\n",
       "    <tr>\n",
       "      <th>32</th>\n",
       "      <td>6</td>\n",
       "      <td>273</td>\n",
       "      <td>6</td>\n",
       "      <td>0.08171938005849835</td>\n",
       "    </tr>\n",
       "    <tr>\n",
       "      <th>31</th>\n",
       "      <td>6</td>\n",
       "      <td>22</td>\n",
       "      <td>6</td>\n",
       "      <td>0.0798158169628589</td>\n",
       "    </tr>\n",
       "    <tr>\n",
       "      <th>28</th>\n",
       "      <td>6</td>\n",
       "      <td>12</td>\n",
       "      <td>6</td>\n",
       "      <td>0.07901419290159742</td>\n",
       "    </tr>\n",
       "    <tr>\n",
       "      <th>18</th>\n",
       "      <td>6</td>\n",
       "      <td>273</td>\n",
       "      <td>6</td>\n",
       "      <td>0.07809692389523826</td>\n",
       "    </tr>\n",
       "    <tr>\n",
       "      <th>10</th>\n",
       "      <td>6</td>\n",
       "      <td>232</td>\n",
       "      <td>6</td>\n",
       "      <td>0.07785735460828061</td>\n",
       "    </tr>\n",
       "    <tr>\n",
       "      <th>9</th>\n",
       "      <td>6</td>\n",
       "      <td>273</td>\n",
       "      <td>6</td>\n",
       "      <td>0.07659387449901768</td>\n",
       "    </tr>\n",
       "    <tr>\n",
       "      <th>25</th>\n",
       "      <td>6</td>\n",
       "      <td>273</td>\n",
       "      <td>6</td>\n",
       "      <td>0.07183251758917628</td>\n",
       "    </tr>\n",
       "    <tr>\n",
       "      <th>21</th>\n",
       "      <td>6</td>\n",
       "      <td>170</td>\n",
       "      <td>6</td>\n",
       "      <td>0.07119963887566953</td>\n",
       "    </tr>\n",
       "    <tr>\n",
       "      <th>2</th>\n",
       "      <td>6</td>\n",
       "      <td>232</td>\n",
       "      <td>6</td>\n",
       "      <td>0.06942949663521931</td>\n",
       "    </tr>\n",
       "    <tr>\n",
       "      <th>3</th>\n",
       "      <td>6</td>\n",
       "      <td>226</td>\n",
       "      <td>0</td>\n",
       "      <td>0.06716761283740708</td>\n",
       "    </tr>\n",
       "    <tr>\n",
       "      <th>8</th>\n",
       "      <td>6</td>\n",
       "      <td>273</td>\n",
       "      <td>6</td>\n",
       "      <td>0.0671590620470222</td>\n",
       "    </tr>\n",
       "    <tr>\n",
       "      <th>24</th>\n",
       "      <td>6</td>\n",
       "      <td>170</td>\n",
       "      <td>6</td>\n",
       "      <td>0.06698782925203838</td>\n",
       "    </tr>\n",
       "    <tr>\n",
       "      <th>1</th>\n",
       "      <td>6</td>\n",
       "      <td>170</td>\n",
       "      <td>6</td>\n",
       "      <td>0.0660493837849203</td>\n",
       "    </tr>\n",
       "    <tr>\n",
       "      <th>34</th>\n",
       "      <td>6</td>\n",
       "      <td>226</td>\n",
       "      <td>0</td>\n",
       "      <td>0.06552645759423792</td>\n",
       "    </tr>\n",
       "    <tr>\n",
       "      <th>14</th>\n",
       "      <td>6</td>\n",
       "      <td>273</td>\n",
       "      <td>6</td>\n",
       "      <td>0.06496269466076993</td>\n",
       "    </tr>\n",
       "    <tr>\n",
       "      <th>29</th>\n",
       "      <td>6</td>\n",
       "      <td>89</td>\n",
       "      <td>6</td>\n",
       "      <td>0.06231851788313307</td>\n",
       "    </tr>\n",
       "    <tr>\n",
       "      <th>13</th>\n",
       "      <td>6</td>\n",
       "      <td>226</td>\n",
       "      <td>0</td>\n",
       "      <td>0.06130170481590723</td>\n",
       "    </tr>\n",
       "    <tr>\n",
       "      <th>30</th>\n",
       "      <td>6</td>\n",
       "      <td>13</td>\n",
       "      <td>0</td>\n",
       "      <td>0.06081260758257013</td>\n",
       "    </tr>\n",
       "    <tr>\n",
       "      <th>7</th>\n",
       "      <td>6</td>\n",
       "      <td>12</td>\n",
       "      <td>6</td>\n",
       "      <td>0.060782299982953356</td>\n",
       "    </tr>\n",
       "    <tr>\n",
       "      <th>11</th>\n",
       "      <td>6</td>\n",
       "      <td>232</td>\n",
       "      <td>6</td>\n",
       "      <td>0.05974838101979344</td>\n",
       "    </tr>\n",
       "    <tr>\n",
       "      <th>4</th>\n",
       "      <td>6</td>\n",
       "      <td>130</td>\n",
       "      <td>6</td>\n",
       "      <td>0.05949953121766134</td>\n",
       "    </tr>\n",
       "    <tr>\n",
       "      <th>23</th>\n",
       "      <td>6</td>\n",
       "      <td>226</td>\n",
       "      <td>0</td>\n",
       "      <td>0.058331905263645914</td>\n",
       "    </tr>\n",
       "    <tr>\n",
       "      <th>20</th>\n",
       "      <td>6</td>\n",
       "      <td>89</td>\n",
       "      <td>6</td>\n",
       "      <td>0.05822957619637874</td>\n",
       "    </tr>\n",
       "    <tr>\n",
       "      <th>22</th>\n",
       "      <td>6</td>\n",
       "      <td>140</td>\n",
       "      <td>0</td>\n",
       "      <td>0.05808325131849526</td>\n",
       "    </tr>\n",
       "    <tr>\n",
       "      <th>0</th>\n",
       "      <td>6</td>\n",
       "      <td>22</td>\n",
       "      <td>6</td>\n",
       "      <td>0.05758355677997976</td>\n",
       "    </tr>\n",
       "    <tr>\n",
       "      <th>27</th>\n",
       "      <td>6</td>\n",
       "      <td>226</td>\n",
       "      <td>0</td>\n",
       "      <td>0.05749871393797599</td>\n",
       "    </tr>\n",
       "    <tr>\n",
       "      <th>12</th>\n",
       "      <td>6</td>\n",
       "      <td>226</td>\n",
       "      <td>0</td>\n",
       "      <td>0.05543664272294418</td>\n",
       "    </tr>\n",
       "    <tr>\n",
       "      <th>17</th>\n",
       "      <td>6</td>\n",
       "      <td>192</td>\n",
       "      <td>0</td>\n",
       "      <td>0.05507375643152658</td>\n",
       "    </tr>\n",
       "  </tbody>\n",
       "</table>\n",
       "</div>"
      ],
      "text/plain": [
       "   true_value  cluster_id cluster_value                   sim\n",
       "6           6         226             0   0.10350888834976019\n",
       "15          6         130             6   0.09287200673449468\n",
       "5           6          12             6   0.08926529383207574\n",
       "33          6         232             6   0.08635677829726608\n",
       "16          6         170             6   0.08443675483565317\n",
       "26          6         171             6   0.08333344602688733\n",
       "19          6         273             6   0.08231992868857155\n",
       "32          6         273             6   0.08171938005849835\n",
       "31          6          22             6    0.0798158169628589\n",
       "28          6          12             6   0.07901419290159742\n",
       "18          6         273             6   0.07809692389523826\n",
       "10          6         232             6   0.07785735460828061\n",
       "9           6         273             6   0.07659387449901768\n",
       "25          6         273             6   0.07183251758917628\n",
       "21          6         170             6   0.07119963887566953\n",
       "2           6         232             6   0.06942949663521931\n",
       "3           6         226             0   0.06716761283740708\n",
       "8           6         273             6    0.0671590620470222\n",
       "24          6         170             6   0.06698782925203838\n",
       "1           6         170             6    0.0660493837849203\n",
       "34          6         226             0   0.06552645759423792\n",
       "14          6         273             6   0.06496269466076993\n",
       "29          6          89             6   0.06231851788313307\n",
       "13          6         226             0   0.06130170481590723\n",
       "30          6          13             0   0.06081260758257013\n",
       "7           6          12             6  0.060782299982953356\n",
       "11          6         232             6   0.05974838101979344\n",
       "4           6         130             6   0.05949953121766134\n",
       "23          6         226             0  0.058331905263645914\n",
       "20          6          89             6   0.05822957619637874\n",
       "22          6         140             0   0.05808325131849526\n",
       "0           6          22             6   0.05758355677997976\n",
       "27          6         226             0   0.05749871393797599\n",
       "12          6         226             0   0.05543664272294418\n",
       "17          6         192             0   0.05507375643152658"
      ]
     },
     "execution_count": 155,
     "metadata": {},
     "output_type": "execute_result"
    }
   ],
   "source": [
    "df_test_results_incorrect_infers = df_test_results[df_test_results['is_correct_infer'] == False]\n",
    "incorrect_infer_row_index = RNG.choice(df_test_results_incorrect_infers.index.unique())\n",
    "incorrect_infer_image_id = df_test_results_incorrect_infers.loc[incorrect_infer_row_index]['test_image_id']\n",
    "incorrect_infer_cluster_id = df_test_results_incorrect_infers.loc[incorrect_infer_row_index]['cluster_id']\n",
    "image_data = df_test_images.loc[incorrect_infer_image_id]['png']\n",
    "image_value = df_test_images.loc[incorrect_infer_image_id]['value']\n",
    "\n",
    "df_image_encodings = pd.read_sql('SELECT hdv FROM image_encodings WHERE image_id=:image_id', params={'image_id': int(incorrect_infer_image_id)}, con=test_db_con)\n",
    "assert len(df_image_encodings) > 0\n",
    "image_encoding_hdvs = map(lambda h: np.frombuffer(h, dtype='b'), df_image_encodings['hdv'])\n",
    "df_x = pd.DataFrame(columns=['true_value', 'cluster_id', 'cluster_value', 'sim'])\n",
    "\n",
    "for image_encoding_hdv in image_encoding_hdvs:\n",
    "    image_encoding_hdv_norm = hdc.normalize(image_encoding_hdv)\n",
    "    image_encoding_hdv_norm = xp_array_to_gpu(image_encoding_hdv_norm)\n",
    "    cos_sims = COLUMN.cluster_norms.array @ image_encoding_hdv_norm\n",
    "    max_cos_sim_index = int(xp.argmax(cos_sims))\n",
    "    max_cos_sim = xp_array_from_gpu(cos_sims[max_cos_sim_index])\n",
    "\n",
    "    if cos_sims[max_cos_sim_index] < COS_SIM_THRESHOLD:\n",
    "        continue\n",
    "\n",
    "    similar_cluster_image_ids = COLUMN.cluster_to_image_ids[max_cos_sim_index]\n",
    "    assert len(similar_cluster_image_ids) > 0\n",
    "    similar_cluster_image_id = next(iter(similar_cluster_image_ids))\n",
    "    similar_cluster_image_value = df_train_images.loc[similar_cluster_image_id]['value'] # exactly from train! (i.e. we look for prototype in train data)\n",
    "    df_x.loc[len(df_x)] = [image_value, max_cos_sim_index, similar_cluster_image_value, max_cos_sim]\n",
    "\n",
    "df_x.sort_values(by='sim', ascending=False)"
   ]
  },
  {
   "cell_type": "code",
   "execution_count": 136,
   "id": "0c9b40bc-7e09-40a6-947b-090d0ef463a2",
   "metadata": {},
   "outputs": [
    {
     "data": {
      "text/plain": [
       "test_image_id                 100007372\n",
       "true_value                            5\n",
       "cluster_id                           70\n",
       "infer_value                           3\n",
       "sim                 0.07236942128898642\n",
       "is_correct_infer                  False\n",
       "Name: 1983, dtype: object"
      ]
     },
     "execution_count": 136,
     "metadata": {},
     "output_type": "execute_result"
    }
   ],
   "source": [
    "df_test_results.loc[incorrect_infer_row_index]"
   ]
  }
 ],
 "metadata": {
  "kernelspec": {
   "display_name": "Python 3 (ipykernel)",
   "language": "python",
   "name": "python3"
  },
  "language_info": {
   "codemirror_mode": {
    "name": "ipython",
    "version": 3
   },
   "file_extension": ".py",
   "mimetype": "text/x-python",
   "name": "python",
   "nbconvert_exporter": "python",
   "pygments_lexer": "ipython3",
   "version": "3.12.2"
  }
 },
 "nbformat": 4,
 "nbformat_minor": 5
}
