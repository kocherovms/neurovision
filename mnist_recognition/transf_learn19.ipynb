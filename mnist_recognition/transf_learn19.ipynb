{
 "cells": [
  {
   "cell_type": "code",
   "execution_count": 1,
   "id": "27532844-1826-4299-b063-16a22e592f3f",
   "metadata": {},
   "outputs": [],
   "source": [
    "import os, math\n",
    "from enum import StrEnum, auto\n",
    "from collections import defaultdict, namedtuple, Counter, deque\n",
    "from dataclasses import dataclass\n",
    "import typing\n",
    "import itertools\n",
    "import sqlite3\n",
    "import pickle\n",
    "import datetime\n",
    "import multiprocessing as mp\n",
    "import queue\n",
    "import gc\n",
    "import json\n",
    "import decimal\n",
    "from IPython.core.getipython import get_ipython\n",
    "\n",
    "from PIL import Image, ImageDraw\n",
    "from tqdm.notebook import tqdm\n",
    "\n",
    "from sklearn.model_selection import train_test_split\n",
    "from sklearn.decomposition import PCA\n",
    "import matplotlib.pyplot as plt\n",
    "import matplotlib as mpl\n",
    "import scipy\n",
    "import numpy as np\n",
    "import cupy as cp\n",
    "import pandas as pd\n",
    "\n",
    "from module.utils import *\n",
    "from module.hdc import *\n",
    "from module.constants import *"
   ]
  },
  {
   "cell_type": "code",
   "execution_count": 2,
   "id": "73358262-adf2-4d17-a383-f120a5d1f8aa",
   "metadata": {},
   "outputs": [
    {
     "name": "stdout",
     "output_type": "stream",
     "text": [
      "xp = cupy\n",
      "transf_learn19.ipynb\n"
     ]
    }
   ],
   "source": [
    "LOG = Logging()\n",
    "\n",
    "config_var = 'SQLITE3_SEQ_GRID_0_2_4096'\n",
    "config = Config(config_var)\n",
    "RNG = np.random.default_rng()\n",
    "\n",
    "if cp.cuda.is_available():\n",
    "    xp = cp.get_array_module(cp.empty(1))\n",
    "    xp_array_from_gpu = lambda a: a.get() if isinstance(a, cp.ndarray) else a\n",
    "    xp_array_to_gpu = lambda a: cp.asarray(a) if isinstance(a, np.ndarray) else a\n",
    "    xp_array_to_gpu_copy = lambda a: cp.asarray(a) if isinstance(a, np.ndarray) else a\n",
    "else:\n",
    "    xp = cp.get_array_module(np.empty(1))\n",
    "    xp_array_from_gpu = lambda a: a\n",
    "    xp_array_to_gpu = lambda a: a\n",
    "    xp_array_to_gpu_copy = lambda a: a.copy()\n",
    "\n",
    "print(f'xp = {xp.__name__}')\n",
    "\n",
    "with open(get_ipython().kernel.config['IPKernelApp']['connection_file'], 'r') as cf:\n",
    "    notebook_fname = json.load(cf)['jupyter_session']\n",
    "    notebook_fname = os.path.basename(notebook_fname)\n",
    "\n",
    "print(notebook_fname)"
   ]
  },
  {
   "cell_type": "code",
   "execution_count": 3,
   "id": "656ee6b7-3982-4f99-9251-6b67fef36ae3",
   "metadata": {},
   "outputs": [],
   "source": [
    "%run sequencing_sp2.ipynb # req-d for sequences depickling"
   ]
  },
  {
   "cell_type": "markdown",
   "id": "d5c8f88a-5403-4177-b5fc-e0e2a1da9c2d",
   "metadata": {},
   "source": [
    "# Data Loading"
   ]
  },
  {
   "cell_type": "code",
   "execution_count": 4,
   "id": "d2dd62ab-b44e-4251-9e86-d41b3672e36e",
   "metadata": {},
   "outputs": [
    {
     "name": "stdout",
     "output_type": "stream",
     "text": [
      "CPU times: user 9 μs, sys: 1 μs, total: 10 μs\n",
      "Wall time: 19.1 μs\n"
     ]
    }
   ],
   "source": [
    "%time\n",
    "train_db_con = sqlite3.connect(DBUtils.get_full_db_file_name(config, config.train_db_file_name))\n",
    "test_db_con = sqlite3.connect(DBUtils.get_full_db_file_name(config, config.test_db_file_name))\n",
    "\n",
    "test_results_db_con = sqlite3.connect(DBUtils.get_full_db_file_name(config, config.test_results_db_file_name, with_prefix=False), autocommit=True)\n",
    "test_results_db_con.execute('CREATE TABLE IF NOT EXISTS test_runs(test_run_id INTEGER PRIMARY KEY, dummy)')\n",
    "\n",
    "transfs_db_con = sqlite3.connect(DBUtils.get_full_db_file_name(config, config.transfs_db_file_name, with_prefix=False), autocommit=True)\n",
    "transfs_db_con.execute('CREATE TABLE IF NOT EXISTS features(encoding, type, x, y, radius, angle, bitmap_mask_nzb, nzb)')\n",
    "transfs_db_con.execute('CREATE TABLE IF NOT EXISTS points(encoding, count, non_zero_bits, output_bit, nzb_list)')\n",
    "transfs_db_con.execute('CREATE TABLE IF NOT EXISTS clusters(encoding, transf_code, output_bit, metas, nzb_list)');"
   ]
  },
  {
   "cell_type": "code",
   "execution_count": 5,
   "id": "2683b5d5-b74a-4e0c-8f19-032bc1eab29d",
   "metadata": {},
   "outputs": [],
   "source": [
    "# df_points = pd.read_sql('SELECT ROWID, points FROM points', con=transfs_db_con)\n",
    "\n",
    "# for points_row in tqdm(df_points.itertuples(), total=len(df_points)):\n",
    "#     row_id = int(points_row.rowid)\n",
    "#     points = pickle.loads(points_row.points)\n",
    "#     nzb_list = list(map(lambda p: np.flatnonzero(p), points))\n",
    "#     transfs_db_con.execute('UPDATE points SET nzb_list=:nzb_list WHERE ROWID=:rowid', {'nzb_list': pickle.dumps(nzb_list), 'rowid': row_id})"
   ]
  },
  {
   "cell_type": "code",
   "execution_count": 6,
   "id": "217a5762-dbb2-4a14-9e08-0cebecbbb2a5",
   "metadata": {},
   "outputs": [],
   "source": [
    "# df_points = pd.read_sql('SELECT ROWID, nzb_list FROM points', con=transfs_db_con)\n",
    "\n",
    "# for points_row in tqdm(df_points.itertuples(), total=len(df_points)):\n",
    "#     row_id = int(points_row.rowid)\n",
    "#     nzb_list = pickle.loads(points_row.nzb_list)\n",
    "#     nzb_list = list(map(lambda nzb: list(map(int, nzb)), nzb_list))\n",
    "#     transfs_db_con.execute('UPDATE points SET nzb_list=:nzb_list WHERE ROWID=:rowid', {'nzb_list': pickle.dumps(nzb_list), 'rowid': row_id})"
   ]
  },
  {
   "cell_type": "code",
   "execution_count": 7,
   "id": "5751b028-6879-45a5-a950-7474ff3ebae3",
   "metadata": {},
   "outputs": [],
   "source": [
    "# df_features = pd.read_sql('SELECT ROWID, sbv FROM features', con=transfs_db_con)\n",
    "\n",
    "# for feature_row in tqdm(df_features.itertuples(), total=len(df_features)):\n",
    "#     row_id = int(feature_row.rowid)\n",
    "#     feature = pickle.loads(feature_row.sbv)\n",
    "#     nzb = np.flatnonzero(feature)\n",
    "#     transfs_db_con.execute('UPDATE features SET nzb=:nzb WHERE ROWID=:rowid', {'nzb': pickle.dumps(nzb), 'rowid': row_id})"
   ]
  },
  {
   "cell_type": "code",
   "execution_count": 8,
   "id": "9ff404ba-8935-4e20-b1f6-20bc8e5473cb",
   "metadata": {},
   "outputs": [],
   "source": [
    "# df_features = pd.read_sql('SELECT ROWID, nzb FROM features', con=transfs_db_con)\n",
    "\n",
    "# for feature_row in tqdm(df_features.itertuples(), total=len(df_features)):\n",
    "#     row_id = int(feature_row.rowid)\n",
    "#     nzb = pickle.loads(feature_row.nzb)\n",
    "#     nzb = list(map(int, nzb))\n",
    "#     transfs_db_con.execute('UPDATE features SET nzb=:nzb WHERE ROWID=:rowid', {'nzb': pickle.dumps(nzb), 'rowid': row_id})"
   ]
  },
  {
   "cell_type": "code",
   "execution_count": 9,
   "id": "9404f082-1a15-42da-afa4-60b935eb499c",
   "metadata": {},
   "outputs": [],
   "source": [
    "# df_features = pd.read_sql('SELECT ROWID, bitmap_mask_nzb FROM features', con=transfs_db_con)\n",
    "\n",
    "# for feature_row in tqdm(df_features.itertuples(), total=len(df_features)):\n",
    "#     row_id = int(feature_row.rowid)\n",
    "#     bitmap_mask_nzb = pickle.loads(feature_row.bitmap_mask_nzb)\n",
    "#     bitmap_mask_nzb = list(map(int, bitmap_mask_nzb))\n",
    "#     transfs_db_con.execute('UPDATE features SET bitmap_mask_nzb=:bitmap_mask_nzb WHERE ROWID=:rowid', {'bitmap_mask_nzb': pickle.dumps(bitmap_mask_nzb), 'rowid': row_id})"
   ]
  },
  {
   "cell_type": "code",
   "execution_count": 10,
   "id": "f2e2207b-2da2-49a6-a8e8-85cf554cc705",
   "metadata": {},
   "outputs": [],
   "source": [
    "# df_clusters = pd.read_sql('SELECT ROWID, sbv FROM clusters', con=transfs_db_con)\n",
    "\n",
    "# for clusters_row in tqdm(df_clusters.itertuples(), total=len(df_clusters)):\n",
    "#     row_id = int(clusters_row.rowid)\n",
    "#     clusters = pickle.loads(clusters_row.sbv)\n",
    "#     nzb_list = list(map(lambda c: np.flatnonzero(c), clusters))\n",
    "#     transfs_db_con.execute('UPDATE clusters SET nzb_list=:nzb_list WHERE ROWID=:rowid', {'nzb_list': pickle.dumps(nzb_list), 'rowid': row_id})"
   ]
  },
  {
   "cell_type": "code",
   "execution_count": 11,
   "id": "eeadc038-7f14-46af-8bc1-f9566d89da9a",
   "metadata": {},
   "outputs": [],
   "source": [
    "# df_clusters = pd.read_sql('SELECT ROWID, nzb_list FROM clusters', con=transfs_db_con)\n",
    "\n",
    "# for clusters_row in tqdm(df_clusters.itertuples(), total=len(df_clusters)):\n",
    "#     row_id = int(clusters_row.rowid)\n",
    "#     nzb_list = pickle.loads(clusters_row.nzb_list)\n",
    "#     nzb_list = list(map(lambda nzb: list(map(int, nzb)), nzb_list))\n",
    "#     transfs_db_con.execute('UPDATE clusters SET nzb_list=:nzb_list WHERE ROWID=:rowid', {'nzb_list': pickle.dumps(nzb_list), 'rowid': row_id})"
   ]
  },
  {
   "cell_type": "code",
   "execution_count": 12,
   "id": "075fb95e-af1f-4b14-9b2b-7d2046b51f69",
   "metadata": {},
   "outputs": [
    {
     "data": {
      "text/plain": [
       "((10000, 7), (2000, 7))"
      ]
     },
     "execution_count": 12,
     "metadata": {},
     "output_type": "execute_result"
    }
   ],
   "source": [
    "df_train_images = pd.read_sql_query('SELECT * FROM images', con=train_db_con, index_col='image_id')\n",
    "df_test_images = pd.read_sql_query('SELECT * FROM images', con=test_db_con, index_col='image_id')\n",
    "df_train_images.shape, df_test_images.shape"
   ]
  },
  {
   "cell_type": "code",
   "execution_count": 13,
   "id": "70b21219-4f16-4824-90ec-7bda1574c5d1",
   "metadata": {},
   "outputs": [
    {
     "data": {
      "text/html": [
       "<div style=\"\n",
       "        display: grid; \n",
       "        grid-template-columns: repeat(8, 128px);\n",
       "        column-gap: 1px;\n",
       "        row-gap: 1px;\">\n",
       "        \n",
       "            <figure style=\"margin: 5px !important;\">\n",
       "              <img src=\"data:image/png;base64,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\" style=\"height: auto\">\n",
       "              <figcaption style=\"font-size: 0.6em\">8</figcaption>\n",
       "            </figure>\n",
       "        \n",
       "            <figure style=\"margin: 5px !important;\">\n",
       "              <img src=\"data:image/png;base64,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\" style=\"height: auto\">\n",
       "              <figcaption style=\"font-size: 0.6em\">0</figcaption>\n",
       "            </figure>\n",
       "        \n",
       "            <figure style=\"margin: 5px !important;\">\n",
       "              <img src=\"data:image/png;base64,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\" style=\"height: auto\">\n",
       "              <figcaption style=\"font-size: 0.6em\">4</figcaption>\n",
       "            </figure>\n",
       "        \n",
       "            <figure style=\"margin: 5px !important;\">\n",
       "              <img src=\"data:image/png;base64,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\" style=\"height: auto\">\n",
       "              <figcaption style=\"font-size: 0.6em\">1</figcaption>\n",
       "            </figure>\n",
       "        \n",
       "            <figure style=\"margin: 5px !important;\">\n",
       "              <img src=\"data:image/png;base64,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\" style=\"height: auto\">\n",
       "              <figcaption style=\"font-size: 0.6em\">6</figcaption>\n",
       "            </figure>\n",
       "        \n",
       "            <figure style=\"margin: 5px !important;\">\n",
       "              <img src=\"data:image/png;base64,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\" style=\"height: auto\">\n",
       "              <figcaption style=\"font-size: 0.6em\">1</figcaption>\n",
       "            </figure>\n",
       "        \n",
       "            <figure style=\"margin: 5px !important;\">\n",
       "              <img src=\"data:image/png;base64,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\" style=\"height: auto\">\n",
       "              <figcaption style=\"font-size: 0.6em\">8</figcaption>\n",
       "            </figure>\n",
       "        \n",
       "            <figure style=\"margin: 5px !important;\">\n",
       "              <img src=\"data:image/png;base64,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\" style=\"height: auto\">\n",
       "              <figcaption style=\"font-size: 0.6em\">7</figcaption>\n",
       "            </figure>\n",
       "        \n",
       "            <figure style=\"margin: 5px !important;\">\n",
       "              <img src=\"data:image/png;base64,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\" style=\"height: auto\">\n",
       "              <figcaption style=\"font-size: 0.6em\">1</figcaption>\n",
       "            </figure>\n",
       "        \n",
       "            <figure style=\"margin: 5px !important;\">\n",
       "              <img src=\"data:image/png;base64,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\" style=\"height: auto\">\n",
       "              <figcaption style=\"font-size: 0.6em\">8</figcaption>\n",
       "            </figure>\n",
       "        \n",
       "            <figure style=\"margin: 5px !important;\">\n",
       "              <img src=\"data:image/png;base64,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\" style=\"height: auto\">\n",
       "              <figcaption style=\"font-size: 0.6em\">8</figcaption>\n",
       "            </figure>\n",
       "        \n",
       "            <figure style=\"margin: 5px !important;\">\n",
       "              <img src=\"data:image/png;base64,iVBORw0KGgoAAAANSUhEUgAAAIAAAACACAAAAADmVT4XAAAFh0lEQVR4nO2ayXLjNhCGuwFwFUmJEm2Pl0mmKsdU3v9tMptXWbItUtyx5EDJ4xxBqJAc+J9UqgL4qQH+3WgIYNKkSZMmTZo0adJ/LDzFHEgIZYygFEJIIaVlAGSOG8TpIoBmX1RlWXc6o9kpAIJocfXltxR3T4+b52duHcDxk7Mvf/15Cdvvf9+ybl9aBgDihkl288c1ZA6Q+sXRGnwKAETCXC8AWJw3/PXOOoACAJC8B8DkE3+KrQMgIEHZVQDgZzyL9KY8yVvg+r4DvHPBc9s4oFqjiTkAcZNltowcAAAMfKZnLacACJdXny9TDwEAGCHWAdjs7Ob361WAAABSKc3R5gBenF1enydDBNpe6BEYAiASFs/T5TIJKCgpZVl1wiqA64bpMl3EPiMg+rbZ7CqrAMSNF2erRRw6BEE0+93TS8ltAlAvzs6y+cwjiCDa/fb5tbIKQPx4laVJ4AAAyL4u8rLVWwLD15D48+z8YEKgRFdXTa9VEJkC0HBxfr4M2QGg7zrd19A8AsvVPBhmUZL3XEi7AE4QJzMXh4dKIYRlAEBKKX23f0TtItcQQEohxNH/kVDGmN1kpKTgXBz3PRKimwyN9wAh+D6FkrzvueYeMDIiJK4fRqHHBgbZ5K+veaPnAwYACOiGcbpazryhCuPF+vZ2XfS2AACpF81XZ5nnUoUA0OeP378/59YAkLAwmqfLBcHBB3jxfH+/66wtAXH8WRJHoQOHs4FoyzyvdGcxAHBncTzzf/0EBMH14m8GQL1oPp+5H2ZAYtUJaThfLqIPBzEhAbXnM9gDzizNVol/yISg2qrVrAXMAKifnF1erkIKAICy64qXN92S2AwgWHz6fHMWDQC8yrePW10bNAJg/uLi+mo5G1yw368f7tZWAagfr86zyEEAAFG/rW/vN4WmC5kAIHGCKJn5KJVSots93/243WqeCYwAgFLXD1wCREne7bf3377ebUqLbwES6rguBQDF+2q3uf/x9amqrQIQyhwEQCW7unhd3z9spF6T1AxAARJCh56A6Ooyz3daDcqjRluxfC8FleR923TtqOcb5IJfRwAl+p4L3daIMQBBhCOA4EKO7HuP3ANIWBi6h4acUkJoNulNAdD1o/NV4h3ip0CpQ1VkC8BbZFdXy+A96vqFyFEj94A3v7j+lB5qAcBBFgHQmaWrNHJPcN8yMgKEeb7n0APA+N8/GgAJ+XgoJ3REOWoEMDz3wyfLEUCkjL2HQEn9xogpAHX9MHAPvSnZNc2YgtgEgPlRHAeHq4G+2ef7htvMBcj8eB6HQz0o+yp/y2v9aswAgDhBnMSHyxHVV7u3vLIaAeIEURJ6Bx/n1T7fN1YjgE4QJ6FLDhGo811e290DThglPqPHJch3xdg9MC4bOl4wi7yDDyjelEXZaPaIDQAQWRRFoU+PJYDs2/E+oA9AXD+8yGLv1/2kkkKMLQlHANBwkd1cLrwPXxkkwxGbkASrq5uLhEk4LgEiIRazIfGiVbYI2YeQ260HkDief+zOmmvUPKf46814AKUkH5/+TwAASgrtm6GTApxWJwAwORWcDmD06BMAKKXG+vBpAOQgewBIKGOUEIDBi4XgnI8+no9wQiSMUXo8loESfMSVsQHAv2AUgGjbtut6bi0CSvZN3bRDX1wpXpdlVXe614Xv0q8HZLvfBsmq6nwEpLIt3t6KqrYJUG+V8NOL1gcAgPp1s30tbAKISlZdcHadBR4AdLv14/qlqLmy1iOSbVeI5OopZSsX+Mv64WH9VnajnWhEVawUFC8P31iRhlhvfv64W+fNeCccdy7o3n6y1zT2sN1t1tvncV3iQeOyCEZpmgQuQ96UZVXua+37SlOAwYwRlBRSSDHWBidNmjRp0qRJkyb9H/QPfsR3hdcBB0cAAAAASUVORK5CYII=\" style=\"height: auto\">\n",
       "              <figcaption style=\"font-size: 0.6em\">1</figcaption>\n",
       "            </figure>\n",
       "        \n",
       "            <figure style=\"margin: 5px !important;\">\n",
       "              <img src=\"data:image/png;base64,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\" style=\"height: auto\">\n",
       "              <figcaption style=\"font-size: 0.6em\">6</figcaption>\n",
       "            </figure>\n",
       "        \n",
       "            <figure style=\"margin: 5px !important;\">\n",
       "              <img src=\"data:image/png;base64,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\" style=\"height: auto\">\n",
       "              <figcaption style=\"font-size: 0.6em\">6</figcaption>\n",
       "            </figure>\n",
       "        \n",
       "            <figure style=\"margin: 5px !important;\">\n",
       "              <img src=\"data:image/png;base64,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\" style=\"height: auto\">\n",
       "              <figcaption style=\"font-size: 0.6em\">6</figcaption>\n",
       "            </figure>\n",
       "        \n",
       "            <figure style=\"margin: 5px !important;\">\n",
       "              <img src=\"data:image/png;base64,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\" style=\"height: auto\">\n",
       "              <figcaption style=\"font-size: 0.6em\">2</figcaption>\n",
       "            </figure>\n",
       "        \n",
       "    </div>"
      ],
      "text/plain": [
       "<IPython.core.display.HTML object>"
      ]
     },
     "execution_count": 13,
     "metadata": {},
     "output_type": "execute_result"
    }
   ],
   "source": [
    "count = 8\n",
    "\n",
    "def get_images_and_labels(df, ids):\n",
    "    image_datas = df.loc[ids]['png']\n",
    "    images = [Image.open(io.BytesIO(image_data)) for image_data in image_datas]\n",
    "    labels = df.loc[ids]['value']\n",
    "    return images, list(labels)\n",
    "\n",
    "def get_some_random_images_and_labels(df, count):\n",
    "    image_ids = RNG.choice(df.index.unique(), count, replace=False)\n",
    "    return get_images_and_labels(df, image_ids)\n",
    "\n",
    "train_images, train_labels = get_some_random_images_and_labels(df_train_images, count)\n",
    "test_images, test_labels = get_some_random_images_and_labels(df_test_images, count)\n",
    "\n",
    "display_images_grid(train_images + test_images, captions=train_labels + test_labels, col_count=count)"
   ]
  },
  {
   "cell_type": "markdown",
   "id": "49a9c189-4620-4fff-b12c-0553540cc48d",
   "metadata": {},
   "source": [
    "# Core logic"
   ]
  },
  {
   "cell_type": "markdown",
   "id": "3e1f9cdd-a16c-4406-9eb6-69a653b84175",
   "metadata": {},
   "source": [
    "## Hyper Parameters"
   ]
  },
  {
   "cell_type": "code",
   "execution_count": 14,
   "id": "8d1303e2-9a31-466c-8eb6-48bd7a0a7fb8",
   "metadata": {},
   "outputs": [],
   "source": [
    "HP_SIGNAL_VEC_LEN = 1000 # aka SBV\n",
    "HP_SIGNAL_VEC_NON_ZERO_BITS = 8\n",
    "HP_SIGNAL_VEC_FEATURES_COUNT = 20\n",
    "HP_SIGNAL_ENCODING = f'{HP_SIGNAL_VEC_LEN}/{HP_SIGNAL_VEC_NON_ZERO_BITS}'\n",
    "\n",
    "HP_PIXEL_FEATURES_RANDOM_SEED = 42\n",
    "HP_PIXEL_FEATURES_COUNT = 2_000\n",
    "\n",
    "HP_POINTS_COUNT = 250_000\n",
    "# HP_POINTS_COUNT = 100_000\n",
    "HP_POINT_NON_ZERO_BITS = 40"
   ]
  },
  {
   "cell_type": "markdown",
   "id": "24850512-c1a7-4d52-a17a-bf1a5f7641a7",
   "metadata": {},
   "source": [
    "## Types"
   ]
  },
  {
   "cell_type": "code",
   "execution_count": 15,
   "id": "62aec35b-11c1-4d9a-9cdc-b7315222c610",
   "metadata": {},
   "outputs": [],
   "source": [
    "class ClusterState(StrEnum):\n",
    "    DEAD = auto()\n",
    "    LEARN = auto()\n",
    "    PROD_CANDIDATE = auto()\n",
    "    PROD_WORK = auto()\n",
    "    PROD_ETERNAL = auto()\n",
    "\n",
    "# Constant or slow changing props. Frequently changed (hot track) props reside in sidecars\n",
    "class ClusterMeta:\n",
    "    def __init__(self, cluster_ind):\n",
    "        self.state = ClusterState.LEARN\n",
    "        self.cluster_ind = cluster_ind\n",
    "        self.cluster_key = ()\n",
    "        self.output_bit = 999_999_999\n",
    "        self.input_bits = ()\n",
    "        self.ones_count = -1\n",
    "        self.last_activity_cycle = -1\n",
    "        self.accuracy_calc = None\n",
    "        self.verify_signal_ids = []"
   ]
  },
  {
   "cell_type": "markdown",
   "id": "f70e4714-7395-4a8a-93f7-7248507d6e9f",
   "metadata": {},
   "source": [
    "## Memory"
   ]
  },
  {
   "cell_type": "code",
   "execution_count": 16,
   "id": "944a2145-43bc-4ece-b640-e4562074deaf",
   "metadata": {},
   "outputs": [],
   "source": [
    "def hdv_array_log_like_grow_policy(size):\n",
    "    k = math.log(size, 100_000)\n",
    "    new_size = size * 2 if k < 1 else size * 1.1\n",
    "    return int(new_size)\n",
    "\n",
    "def gc_memory():\n",
    "    gc.collect()\n",
    "    \n",
    "    if cp.cuda.is_available():\n",
    "        cp.get_default_memory_pool().free_all_blocks()"
   ]
  },
  {
   "cell_type": "markdown",
   "id": "de73e165-ba51-4050-b4b8-1af91973f3e3",
   "metadata": {},
   "source": [
    "## Lambdas, Minifuncs, etc."
   ]
  },
  {
   "cell_type": "code",
   "execution_count": 17,
   "id": "9973a30b-4267-42a8-b61c-5c2c869c902c",
   "metadata": {},
   "outputs": [],
   "source": [
    "fetch_si_xy = lambda si: (si.x, si.y)\n",
    "get_sequence = lambda sequences: np.array(list(itertools.chain.from_iterable(sequences)))\n",
    "get_sequences_reading = lambda sequences, seq_reading_code: list(map(lambda r: sequences[r[0]] if r[1] == 0 else list(reversed(sequences[r[0]])), seq_reading_code))\n",
    "get_xy_sequence = lambda sequence, si_ind_dict: np.array(list(map(lambda si_ind: fetch_si_xy(si_ind_dict[si_ind]), sequence)))\n",
    "get_raw_image = lambda image_id: Image.open(io.BytesIO((df_train_images if image_id < 100_000_000 else df_test_images).loc[image_id]['png']))\n",
    "\n",
    "get_cluster_key = lambda output_bit, input_bits: (int(output_bit), tuple(map(int, sorted(input_bits))))\n",
    "\n",
    "bundle_sbvs = lambda sbvs: np.where(sbvs.sum(axis=0), 1, 0).astype('f') # aka bloom filter\n",
    "debundle_sbv = lambda sbv, sbv_dict_array, non_zero_bits: (sbv_dict_array @ sbv) == non_zero_bits\n",
    "\n",
    "# NZV = non-zero bits, e.g. [2, 3, 8]\n",
    "# SBV = sparsed binary vector, e.g. [0, 0, 1, 1, 0, 0, 0, 0, 1, 0]\n",
    "def nzb_to_sbv(nzb, sbv_len):\n",
    "    vec = np.zeros(sbv_len, dtype='f')\n",
    "    vec[nzb] = 1\n",
    "    return vec\n",
    "\n",
    "sbv_to_nzb = lambda sbv: list(map(int, np.flatnonzero(sbv)))\n",
    "\n",
    "# OHE = one-hot encoding\n",
    "def xy_list_to_ohe_vec(xy_list):\n",
    "    valid_boolmap = np.all(((xy_list >= 0) & (xy_list < config.sample_size)), axis=1)\n",
    "    xy_list = xy_list[valid_boolmap]\n",
    "    inds = xy_list @ np.array([1, config.sample_size])\n",
    "    vec = np.zeros(config.sample_size ** 2, dtype='f')\n",
    "    vec[inds] = 1\n",
    "    return vec\n",
    "\n",
    "def interval_governeur(interval, fun):\n",
    "    assert interval >= 0\n",
    "    countdown = interval\n",
    "    \n",
    "    def call(is_forced=False):\n",
    "        nonlocal countdown\n",
    "\n",
    "        if countdown <= 0 or is_forced:\n",
    "            fun()\n",
    "            countdown = interval\n",
    "        \n",
    "        countdown -= 1\n",
    "\n",
    "    return call\n",
    "\n",
    "def ensure_dtype(a, dt):\n",
    "    assert a.dtype == dt, (a.dtype, dt)\n",
    "    return a\n",
    "\n",
    "def ensure_shape(a, shape):\n",
    "    assert a.shape == shape, (a.shape, shape)\n",
    "    return a\n",
    "\n",
    "def ensure_len(a, l):\n",
    "    assert len(a) == l, (len(a), l)\n",
    "    return a"
   ]
  },
  {
   "cell_type": "markdown",
   "id": "b69ac7e2-5c69-499a-b267-7919b9c0a014",
   "metadata": {},
   "source": [
    "## Average Filters"
   ]
  },
  {
   "cell_type": "code",
   "execution_count": 18,
   "id": "3af06346-4787-44fe-8ef8-4187796ea22b",
   "metadata": {},
   "outputs": [],
   "source": [
    "# https://youtu.be/HCd-leV8OkU?t=1240\n",
    "class AverageFilter:\n",
    "    def __init__(self):\n",
    "        self.value = 0 # aka prev_average\n",
    "        self.n = 0\n",
    "\n",
    "    def __call__(self, x):\n",
    "        self.n += 1\n",
    "        alpha = (self.n - 1) / self.n\n",
    "        result = alpha * self.value + (1 - alpha) * x\n",
    "        self.value = result\n",
    "        return result"
   ]
  },
  {
   "cell_type": "code",
   "execution_count": 19,
   "id": "a297cf9a-ed53-4529-a24f-da10417806bd",
   "metadata": {},
   "outputs": [],
   "source": [
    "a = 1 + np.arange(9)\n",
    "f = AverageFilter()\n",
    "avg = f(a[0])\n",
    "assert np.isclose(avg, 1)\n",
    "assert np.isclose(avg, f.value)\n",
    "\n",
    "for x in a[1:]:\n",
    "    avg = f(x)\n",
    "    assert np.isclose(avg, f.value)\n",
    "\n",
    "assert np.isclose(avg, 5)\n",
    "assert np.isclose(avg, f.value)"
   ]
  },
  {
   "cell_type": "code",
   "execution_count": 20,
   "id": "d1efe410-6d67-4ccd-823e-c91034d9c55a",
   "metadata": {},
   "outputs": [],
   "source": [
    "# https://www.youtube.com/watch?v=HCd-leV8OkU&t=583s\n",
    "# https://read.nxtbook.com/ieee/signal_processing/signal_processing_nov_2023/implementing_moving_average_f.html\n",
    "class MovingAverageFilter:\n",
    "    def __init__(self, n):\n",
    "        assert n >= 1\n",
    "        self.n = n\n",
    "        self.prev_average = 0\n",
    "        self.value = 0 \n",
    "        self.x_queue = deque()\n",
    "\n",
    "    def __call__(self, x):\n",
    "        self.x_queue.append(x)\n",
    "\n",
    "        while len(self.x_queue) > (self.n + 1):\n",
    "            self.x_queue.popleft()\n",
    "\n",
    "        x_old = self.x_queue[0] if len(self.x_queue) > self.n else 0\n",
    "        result = self.prev_average + (x - x_old) / self.n\n",
    "        self.prev_average = result\n",
    "\n",
    "        if len(self.x_queue) < (self.n + 1):\n",
    "            result = result * self.n / len(self.x_queue)\n",
    "\n",
    "        self.value = result\n",
    "        return result"
   ]
  },
  {
   "cell_type": "code",
   "execution_count": 21,
   "id": "0eafc439-58d8-49b5-b8d2-6a1ab99e1d41",
   "metadata": {},
   "outputs": [],
   "source": [
    "a = np.array([55, 60, 19, 80, 30, 19, 57, 26, 36, 78, 70, 34,  5, 65, 22, 10, 53,\n",
    "       28, 98,  1, 67, 94, 29, 37, 87, 98, 39, 71, 98, 68, 47, 20, 15, 13,\n",
    "        3, 83, 43, 86, 95, 21,  3, 64, 20, 97, 47, 15, 78, 20, 80, 75, 31,\n",
    "       11, 24, 54, 53, 42, 44,  8,  1, 74, 47, 63,  5, 34, 89, 72, 95, 17,\n",
    "       69, 67, 57, 42,  2, 81, 67, 41, 14, 25, 74, 59, 78,  1, 75, 15,  7,\n",
    "       70, 68, 36, 60, 46, 81,  2, 34, 39, 71, 42, 30, 48, 26, 86])\n",
    "f = MovingAverageFilter(10)\n",
    "avg = f(a[0])\n",
    "assert np.isclose(avg, a[0])\n",
    "assert np.isclose(avg, f.value)\n",
    "\n",
    "for x in a[1:]:\n",
    "    avg = f(x)\n",
    "    assert np.isclose(avg, f.value)\n",
    "\n",
    "assert np.isclose(avg, 45.9)\n",
    "assert np.isclose(avg, f.value)"
   ]
  },
  {
   "cell_type": "markdown",
   "id": "6438e5f1-7eb4-483c-8572-a32543ab348d",
   "metadata": {},
   "source": [
    "## Pixel Features"
   ]
  },
  {
   "cell_type": "code",
   "execution_count": 22,
   "id": "7f5094ec-ad1a-448a-b80d-affd9212524a",
   "metadata": {},
   "outputs": [],
   "source": [
    "rng_for_pixel_features = np.random.default_rng(HP_PIXEL_FEATURES_RANDOM_SEED)"
   ]
  },
  {
   "cell_type": "code",
   "execution_count": 23,
   "id": "1eedf20d-039e-46a5-bfec-93f84fa2e863",
   "metadata": {},
   "outputs": [],
   "source": [
    "class PixelFeature:\n",
    "    def __init__(self, x, y, radius, bitmap_mask, dist_mask):\n",
    "        self.x = x\n",
    "        self.y = y\n",
    "        self.radius = radius\n",
    "        self.bitmap_mask = bitmap_mask\n",
    "        self.dist_mask = dist_mask\n",
    "        self.sbv = None"
   ]
  },
  {
   "cell_type": "code",
   "execution_count": 24,
   "id": "49aed96f-3cec-4f3f-9152-537a004d3931",
   "metadata": {},
   "outputs": [
    {
     "data": {
      "image/png": "[encoded data removed]",
      "text/plain": [
       "<Figure size 1600x480 with 4 Axes>"
      ]
     },
     "metadata": {},
     "output_type": "display_data"
    }
   ],
   "source": [
    "radius_to_pattern = {}\n",
    "radius_to_dist_pattern = {} # config.sample_size if pixel if out of pattern, otherwise distance to center (within center distance = 0)\n",
    "\n",
    "# for r in [3, 1]:\n",
    "# for r in [5]:\n",
    "# for r in [3]:\n",
    "for r in [2]:\n",
    "# for r in [1]:\n",
    "    if r in [1, 2]:\n",
    "        canvas = Image.new('1', size=(r * 2 + 1, r * 2 + 1), color='white')\n",
    "    else:\n",
    "        canvas = Image.new('1', size=(r * 2 + 1, r * 2 + 1), color='black')\n",
    "        draw = ImageDraw.Draw(canvas)\n",
    "        draw.circle([r, r], radius=r, outline='white', fill='white')\n",
    "\n",
    "    pattern = np.array(canvas, dtype='f')\n",
    "    radius_to_pattern[r] = pattern\n",
    "\n",
    "    dist_pattern = np.zeros_like(pattern, dtype='f')\n",
    "    \n",
    "    for i in range(pattern.shape[0]):\n",
    "        for j in range(pattern.shape[1]):\n",
    "            dist = config.sample_size\n",
    "            \n",
    "            if pattern[i,j] != 0:\n",
    "                vec = np.array([i - r, j - r])\n",
    "                dist = np.linalg.norm(vec)\n",
    "                assert dist < config.sample_size\n",
    "\n",
    "            dist_pattern[i,j] = dist\n",
    "    \n",
    "    radius_to_dist_pattern[r] = dist_pattern\n",
    "\n",
    "r = max(radius_to_pattern.keys())\n",
    "\n",
    "fig, (ax1, ax2) = plt.subplots(1, 2)\n",
    "fig.set_figwidth(16)\n",
    "im = ax1.imshow(radius_to_pattern[r])\n",
    "fig.colorbar(im, ax=ax1);\n",
    "im = ax2.imshow(np.where(radius_to_dist_pattern[r] < config.sample_size, radius_to_dist_pattern[r], np.inf))\n",
    "fig.colorbar(im, ax=ax2);"
   ]
  },
  {
   "cell_type": "code",
   "execution_count": 25,
   "id": "d09730cf-4810-434b-a64e-5b3cc1932f71",
   "metadata": {},
   "outputs": [],
   "source": [
    "# n = 50_000\n",
    "# xs = rng_for_pixel_features.integers(0, config.sample_size, size=n)\n",
    "# ys = rng_for_pixel_features.integers(0, config.sample_size, size=n)\n",
    "# radii = rng_for_pixel_features.choice(list(radius_to_pattern.keys()), size=n)\n",
    "# xy_list = np.vstack([xs, ys]).T\n",
    "# assert np.all(np.all((xy_list >= 0) & (xy_list < config.sample_size), axis=1))\n",
    "# bitmap_padding = 0\n",
    "# bitmap = np.zeros((config.sample_size + bitmap_padding * 2, config.sample_size + bitmap_padding * 2))\n",
    "# pixel_features = []\n",
    "\n",
    "# for xy, radius in zip(xy_list, radii):\n",
    "#     pattern = radius_to_pattern[radius]\n",
    "#     i0, j0 = bitmap_padding, bitmap_padding\n",
    "#     i = i0 + xy[1]\n",
    "#     j = j0 + xy[0]\n",
    "#     i_lo = i - radius\n",
    "#     i_hi = i + radius + 1\n",
    "#     j_lo = j - radius\n",
    "#     j_hi = j + radius + 1\n",
    "    \n",
    "#     if i_lo < 0 or j_lo < 0 or i_hi > config.sample_size or j_hi > config.sample_size:\n",
    "#         continue\n",
    "    \n",
    "#     merge_site = bitmap[i_lo:i_hi,j_lo:j_hi]\n",
    "#     merge_site_mask = np.where(merge_site != 0, 1, 0)\n",
    "#     assert pattern.shape == merge_site.shape\n",
    "#     overlap_ratio = np.where(pattern != 0, merge_site_mask, 0).sum() / pattern.sum()\n",
    "\n",
    "#     # if overlap_ratio > 0.75:\n",
    "#     # if overlap_ratio > 0.5:\n",
    "#     # if overlap_ratio > 0.35:\n",
    "#     if overlap_ratio > 0.25:\n",
    "#     # if overlap_ratio > 0.0:\n",
    "#         continue\n",
    "    \n",
    "#     # merge_site = np.where(pattern != 0, radius, merge_site)\n",
    "#     merge_site = merge_site + pattern\n",
    "#     bitmap[i-radius:i+radius+1,j-radius:j+radius+1] = merge_site\n",
    "#     pixel_feature_bitmap_mask = np.zeros_like(bitmap, dtype='f')\n",
    "#     pixel_feature_bitmap_mask[i_lo:i_hi,j_lo:j_hi] = pattern\n",
    "#     pixel_feature_bitmap_mask = pixel_feature_bitmap_mask[bitmap_padding:bitmap_padding+config.sample_size, bitmap_padding:bitmap_padding+config.sample_size]\n",
    "#     pixel_feature_dist_mask = np.full_like(bitmap, config.sample_size, dtype='f')\n",
    "#     pixel_feature_dist_mask[i_lo:i_hi,j_lo:j_hi] = radius_to_dist_pattern[radius]\n",
    "#     pixel_feature = PixelFeature(x=int(xy[0]), y=int(xy[1]), radius=radius, bitmap_mask=pixel_feature_bitmap_mask.ravel(), dist_mask=pixel_feature_dist_mask.ravel())\n",
    "#     pixel_features.append(pixel_feature)\n",
    "\n",
    "#     if len(pixel_features) >= HP_PIXEL_FEATURES_COUNT:\n",
    "#         break\n",
    "    \n",
    "# bitmap = bitmap[bitmap_padding:bitmap_padding+config.sample_size, bitmap_padding:bitmap_padding+config.sample_size]\n",
    "\n",
    "# fig, (ax1, ax2) = plt.subplots(1, 2)\n",
    "# fig.set_figwidth(18)\n",
    "\n",
    "# ax1.set_title(f'Pixel-Features Count={len(pixel_features)}, non-covered area={(bitmap == 0).sum() / (bitmap.shape[0] ** 2) * 100:.1f}%')\n",
    "# im = ax1.imshow(bitmap, cmap='turbo')\n",
    "# fig.colorbar(im, ax=ax1);\n",
    "\n",
    "# random_pixel_feature_ind = rng_for_pixel_features.choice(len(pixel_features))\n",
    "# ax2.set_title(f'Bitmap Mask of Pixel-Feature #{random_pixel_feature_ind}')\n",
    "# im = ax2.imshow(vec_to_square_matrix(pixel_features[random_pixel_feature_ind].bitmap_mask), cmap='bwr')"
   ]
  },
  {
   "cell_type": "code",
   "execution_count": 26,
   "id": "b544b69e-3d29-4906-a9f9-1953657069e8",
   "metadata": {},
   "outputs": [
    {
     "data": {
      "image/png": "[encoded data removed]",
      "text/plain": [
       "<Figure size 1800x480 with 3 Axes>"
      ]
     },
     "metadata": {},
     "output_type": "display_data"
    }
   ],
   "source": [
    "radius = max(radius_to_pattern.keys())\n",
    "\n",
    "mgrid = np.mgrid[0:config.sample_size, 0:config.sample_size]\n",
    "xs = mgrid[0].ravel()\n",
    "ys = mgrid[1].ravel()\n",
    "xy_list = np.vstack([xs, ys]).T\n",
    "assert np.all(np.all((xy_list >= 0) & (xy_list < config.sample_size), axis=1))\n",
    "\n",
    "bitmap_padding = 0\n",
    "bitmap = np.zeros((config.sample_size + bitmap_padding * 2, config.sample_size + bitmap_padding * 2))\n",
    "pixel_features = []\n",
    "\n",
    "# for overlap in [0, 0.25, 0.5]:\n",
    "for overlap in [0]:\n",
    "    for xy in xy_list:\n",
    "        if len(pixel_features) >= HP_PIXEL_FEATURES_COUNT:\n",
    "            break\n",
    "            \n",
    "        if bitmap[xy[1], xy[0]] != 0:\n",
    "            continue\n",
    "\n",
    "        pattern = radius_to_pattern[radius]\n",
    "        i0, j0 = bitmap_padding, bitmap_padding\n",
    "        i = i0 + xy[1]\n",
    "        j = j0 + xy[0]\n",
    "        i_lo = i - radius\n",
    "        i_hi = i + radius + 1\n",
    "        j_lo = j - radius\n",
    "        j_hi = j + radius + 1\n",
    "        \n",
    "        if i_lo < 0 or j_lo < 0 or i_hi > config.sample_size or j_hi > config.sample_size:\n",
    "            continue\n",
    "        \n",
    "        merge_site = bitmap[i_lo:i_hi,j_lo:j_hi]\n",
    "        merge_site_mask = np.where(merge_site != 0, 1, 0)\n",
    "        assert pattern.shape == merge_site.shape\n",
    "        overlap_ratio = np.where(pattern != 0, merge_site_mask, 0).sum() / pattern.sum()\n",
    "    \n",
    "        if overlap_ratio > overlap:\n",
    "            continue\n",
    "        \n",
    "        merge_site = merge_site + pattern\n",
    "        bitmap[i-radius:i+radius+1,j-radius:j+radius+1] = merge_site\n",
    "        pixel_feature_bitmap_mask = np.zeros_like(bitmap, dtype='f')\n",
    "        pixel_feature_bitmap_mask[i_lo:i_hi,j_lo:j_hi] = pattern\n",
    "        pixel_feature_bitmap_mask = pixel_feature_bitmap_mask[bitmap_padding:bitmap_padding+config.sample_size, bitmap_padding:bitmap_padding+config.sample_size]\n",
    "        pixel_feature_dist_mask = np.full_like(bitmap, config.sample_size, dtype='f')\n",
    "        pixel_feature_dist_mask[i_lo:i_hi,j_lo:j_hi] = radius_to_dist_pattern[radius]\n",
    "        pixel_feature = PixelFeature(x=int(xy[0]), y=int(xy[1]), radius=radius, bitmap_mask=pixel_feature_bitmap_mask.ravel(), dist_mask=pixel_feature_dist_mask.ravel())\n",
    "        pixel_features.append(pixel_feature)\n",
    "    \n",
    "bitmap = bitmap[bitmap_padding:bitmap_padding+config.sample_size, bitmap_padding:bitmap_padding+config.sample_size]\n",
    "\n",
    "fig, (ax1, ax2) = plt.subplots(1, 2)\n",
    "fig.set_figwidth(18)\n",
    "\n",
    "ax1.set_title(f'Pixel-Features Count={len(pixel_features)}, non-covered area={(bitmap == 0).sum() / (bitmap.shape[0] ** 2) * 100:.1f}%')\n",
    "im = ax1.imshow(bitmap, cmap='turbo')\n",
    "fig.colorbar(im, ax=ax1);\n",
    "\n",
    "random_pixel_feature_ind = rng_for_pixel_features.choice(len(pixel_features))\n",
    "ax2.set_title(f'Bitmap Mask of Pixel-Feature #{random_pixel_feature_ind}')\n",
    "im = ax2.imshow(vec_to_square_matrix(pixel_features[random_pixel_feature_ind].bitmap_mask), cmap='bwr')"
   ]
  },
  {
   "cell_type": "code",
   "execution_count": 27,
   "id": "b1a43c52-4006-4a8e-a97d-507ee8f69ef7",
   "metadata": {},
   "outputs": [
    {
     "name": "stdout",
     "output_type": "stream",
     "text": [
      "Loaded 3117 pixel features\n",
      "Linked 625 pixel features\n"
     ]
    }
   ],
   "source": [
    "df_pixel_features = pd.read_sql('SELECT x, y, radius, nzb FROM features WHERE encoding=:encoding AND type=:type', \n",
    "                                params={'encoding': HP_SIGNAL_ENCODING, 'type': 'pixel'}, con=transfs_db_con)\n",
    "db_pixel_features_dict = dict(map(lambda p: ((p.x, p.y, p.radius), nzb_to_sbv(pickle.loads(p.nzb), HP_SIGNAL_VEC_LEN)), df_pixel_features.itertuples()))\n",
    "unique_sbv_keys = set(map(lambda sbv: tuple(sorted(map(int, np.flatnonzero(sbv)))), db_pixel_features_dict.values()))\n",
    "assert len(unique_sbv_keys) == len(db_pixel_features_dict)\n",
    "print(f'Loaded {len(unique_sbv_keys)} pixel features')\n",
    "new_pixel_features = []\n",
    "linked_count = 0\n",
    "\n",
    "for pf in pixel_features:\n",
    "    key = (pf.x, pf.y, pf.radius)\n",
    "\n",
    "    if key in db_pixel_features_dict:\n",
    "        pf.sbv = db_pixel_features_dict[key]\n",
    "        linked_count += 1\n",
    "        continue\n",
    "        \n",
    "    attempts_to_generate_unique_sbv = 10\n",
    "    sbv = np.zeros(HP_SIGNAL_VEC_LEN, dtype='f')\n",
    "\n",
    "    for _ in range(attempts_to_generate_unique_sbv):\n",
    "        ii = RNG.choice(HP_SIGNAL_VEC_LEN, HP_SIGNAL_VEC_NON_ZERO_BITS, replace=False)\n",
    "        sbv_key = tuple(sorted(ii))\n",
    "\n",
    "        if not sbv_key in unique_sbv_keys:\n",
    "            sbv[ii] = 1\n",
    "            unique_sbv_keys.add(sbv_key)\n",
    "            break\n",
    "    else:\n",
    "        assert False, f'Failed to get unique SBV for pixel feature within {attempts_to_generate_unique_sbv} attempts'\n",
    "\n",
    "    new_pixel_features.append(pf)\n",
    "    pf.sbv = sbv\n",
    "\n",
    "print(f'Linked {linked_count} pixel features')\n",
    "\n",
    "if new_pixel_features:\n",
    "    transfs_db_con.autocommit = False\n",
    "    \n",
    "    for pf in tqdm(new_pixel_features, desc='Persiting'):\n",
    "        transfs_db_con.execute('INSERT INTO features(encoding, type, x, y, radius, bitmap_mask_nzb, nzb) VALUES (:encoding, :type, :x, :y, :radius, :bitmap_mask_nzb, :nzb)',\n",
    "                               {\n",
    "                                   'encoding': HP_SIGNAL_ENCODING, \n",
    "                                   'type': 'pixel', \n",
    "                                   'x': pf.x, \n",
    "                                   'y': pf.y, \n",
    "                                   'radius': pf.radius, \n",
    "                                   'bitmap_mask_nzb': pickle.dumps(sbv_to_nzb(pf.bitmap_mask)),\n",
    "                                   'nzb': pickle.dumps(sbv_to_nzb(pf.sbv))\n",
    "                               })\n",
    "\n",
    "    transfs_db_con.autocommit = True\n",
    "    print(f'Created and persisted {len(new_pixel_features)} new pixel features')\n",
    "\n",
    "PIXEL_FEATURE_SBVS = np.array(list(map(lambda pf: pf.sbv, pixel_features)))\n",
    "PIXEL_FEATURE_BITMAP_MASKS = np.array(list(map(lambda pf: pf.bitmap_mask, pixel_features)))\n",
    "PIXEL_FEATURE_DIST_MASKS = np.array(list(map(lambda pf: pf.dist_mask, pixel_features)))\n",
    "PIXEL_FEATURE_XY_ARRAY = np.array(list(map(lambda pf: (pf.x, pf.y), pixel_features)))"
   ]
  },
  {
   "cell_type": "code",
   "execution_count": 28,
   "id": "b832999d-38af-4cc2-8bb3-de740eabb24b",
   "metadata": {},
   "outputs": [
    {
     "data": {
      "application/vnd.jupyter.widget-view+json": {
       "model_id": "46a992e1142742e5b50dec60b360ee54",
       "version_major": 2,
       "version_minor": 0
      },
      "text/plain": [
       "  0%|          | 0/2000 [00:00<?, ?it/s]"
      ]
     },
     "metadata": {},
     "output_type": "display_data"
    }
   ],
   "source": [
    "df_train_images_ = df_train_images.head(2000)\n",
    "# df_train_images_ = df_train_images\n",
    "gpu_pixel_feature_bitmap_masks = xp_array_to_gpu(PIXEL_FEATURE_BITMAP_MASKS)\n",
    "PIXEL_FEATURE_FREQS = np.zeros(PIXEL_FEATURE_SBVS.shape[0], dtype='i')\n",
    "\n",
    "for image in tqdm(df_train_images_.itertuples(), total=len(df_train_images_)):\n",
    "    sequences = pickle.loads(image.inner_sequences)\n",
    "    si_ind_dict = pickle.loads(image.inner_si_ind_dict)\n",
    "    xy_list_full = get_xy_sequence(get_sequence(sequences), si_ind_dict)\n",
    "    ohe_vec = xy_list_to_ohe_vec(xy_list_full)\n",
    "    ohe_vec = xp_array_to_gpu(ohe_vec)\n",
    "    pixel_feature_inds = np.flatnonzero(gpu_pixel_feature_bitmap_masks @ ohe_vec)\n",
    "    pixel_feature_inds = xp_array_from_gpu(pixel_feature_inds)\n",
    "    PIXEL_FEATURE_FREQS[pixel_feature_inds] += 1\n",
    "\n",
    "ACTIVE_PIXEL_FEATURES_COUNT = np.count_nonzero(PIXEL_FEATURE_FREQS)"
   ]
  },
  {
   "cell_type": "code",
   "execution_count": 29,
   "id": "db7ee713-4923-4b05-a16a-9a9266f5a9f6",
   "metadata": {},
   "outputs": [
    {
     "data": {
      "image/png": "[encoded data removed]",
      "text/plain": [
       "<Figure size 1800x480 with 3 Axes>"
      ]
     },
     "metadata": {},
     "output_type": "display_data"
    }
   ],
   "source": [
    "bitmap = np.zeros((config.sample_size, config.sample_size), dtype='i')\n",
    "assert PIXEL_FEATURE_BITMAP_MASKS.shape[0] == PIXEL_FEATURE_FREQS.shape[0]\n",
    "\n",
    "for mask, freq in zip(xp_array_from_gpu(PIXEL_FEATURE_BITMAP_MASKS), PIXEL_FEATURE_FREQS):\n",
    "    mask_with_freq = np.where(mask, freq, 0)\n",
    "    bitmap += mask_with_freq.reshape(bitmap.shape)\n",
    "\n",
    "fig, (ax1, ax2) = plt.subplots(1, 2)\n",
    "fig.set_figwidth(18)\n",
    "\n",
    "ax1.set_title(f'Frequency Map of Pixel Features')\n",
    "im = ax1.imshow(bitmap, cmap='turbo')\n",
    "fig.colorbar(im, ax=ax1)\n",
    "\n",
    "pixel_feature_freqs_sorted_desc = -np.sort(-PIXEL_FEATURE_FREQS)\n",
    "percentile = 1\n",
    "ind = int(np.count_nonzero(pixel_feature_freqs_sorted_desc) * percentile)\n",
    "freq_thres = pixel_feature_freqs_sorted_desc[ind-1]\n",
    "# bitmap2 = np.where(bitmap, 1, 0)\n",
    "bitmap2 = np.where(PIXEL_FEATURE_BITMAP_MASKS[(PIXEL_FEATURE_FREQS >= freq_thres)].sum(axis=0), 1, 0)\n",
    "# bitmap2 = xp_array_from_gpu(bitmap2)\n",
    "bitmap2 = vec_to_square_matrix(bitmap2)\n",
    "# a = (PIXEL_FEATURE_FREQS > 0).sum()\n",
    "a = (PIXEL_FEATURE_FREQS >= freq_thres).sum()\n",
    "b = PIXEL_FEATURE_BITMAP_MASKS.shape[0]\n",
    "ax2.set_title(f'Binary Frequency Map of Pixel Features, {a} / {b} ({a / b * 100:.1f}%), freq_thres={freq_thres}')\n",
    "ax2.imshow(bitmap2);"
   ]
  },
  {
   "cell_type": "markdown",
   "id": "ad92bf7c-ae67-4312-900a-adb12769a5e7",
   "metadata": {},
   "source": [
    "## Transformations"
   ]
  },
  {
   "cell_type": "code",
   "execution_count": 30,
   "id": "4287bb50-b460-4bdd-8d19-322e30669418",
   "metadata": {},
   "outputs": [],
   "source": [
    "def get_rotate_transf(deg):\n",
    "    half_sz = config.sample_size / 2\n",
    "    move_to_ooc_transf = np.array([\n",
    "        [1, 0, -half_sz],\n",
    "        [0, 1, -half_sz],\n",
    "        [0, 0, 1]])\n",
    "    theta = np.deg2rad(deg)\n",
    "    cos_theta = math.cos(theta)\n",
    "    sin_theta = math.sin(theta)\n",
    "    rotate_transf = np.array([\n",
    "        [cos_theta, -sin_theta, 0],\n",
    "        [sin_theta, cos_theta, 0],\n",
    "        [0, 0, 1]\n",
    "    ])\n",
    "    move_to_target_loc_transf = np.array([\n",
    "        [1, 0, half_sz],\n",
    "        [0, 1, half_sz],\n",
    "        [0, 0, 1]])\n",
    "    return move_to_target_loc_transf @ rotate_transf @ move_to_ooc_transf\n",
    "\n",
    "def get_offset_transf(dx=0, dy=0):\n",
    "    return np.array([\n",
    "        [1, 0, dx],\n",
    "        [0, 1, dy],\n",
    "        [0, 0, 1]])"
   ]
  },
  {
   "cell_type": "code",
   "execution_count": 31,
   "id": "d53d9c0e-7546-4979-a953-0b8f46f1ce48",
   "metadata": {},
   "outputs": [],
   "source": [
    "transfs = {\n",
    "    'offset_10_0': get_offset_transf(10, 0),\n",
    "    'offset_1_0': get_offset_transf(1, 0),\n",
    "    'offset_-1_0': get_offset_transf(-1, 0),\n",
    "    'offset_0_1': get_offset_transf(0, 1),\n",
    "    'offset_1_1': get_offset_transf(1, 1),\n",
    "    'offset_5_0': get_offset_transf(5, 0),\n",
    "    'rotate_45': get_rotate_transf(45),\n",
    "    'rotate_90': get_rotate_transf(90),\n",
    "}\n",
    "TRANSF_CODE = 'rotate_45'\n",
    "TRANSF = transfs[TRANSF_CODE]"
   ]
  },
  {
   "cell_type": "markdown",
   "id": "61d38b52-00d2-4c2b-9e59-ab1e62f83ec5",
   "metadata": {},
   "source": [
    "## XY List <-> Pixel Features"
   ]
  },
  {
   "cell_type": "code",
   "execution_count": 32,
   "id": "3f8469ab-48b7-462b-864b-274b9e91b1b7",
   "metadata": {},
   "outputs": [],
   "source": [
    "def xy_list_to_pixel_feature_inds(xy_list):\n",
    "    ohe_vec = xy_list_to_ohe_vec(xy_list)\n",
    "    # ohe_vec = xp_array_to_gpu(ohe_vec)\n",
    "    inds = np.flatnonzero(PIXEL_FEATURE_BITMAP_MASKS @ ohe_vec)\n",
    "    # return xp_array_from_gpu(inds)\n",
    "    return inds\n",
    "\n",
    "def xy_list_to_nearest_pixel_feature_inds(xy_list):\n",
    "    valid_boolmap = np.all(((xy_list >= 0) & (xy_list < config.sample_size)), axis=1)\n",
    "    xy_list = xy_list[valid_boolmap]\n",
    "    inds = xy_list @ np.array([1, config.sample_size])\n",
    "    vecs = np.zeros((inds.shape[0], config.sample_size ** 2), dtype='f')\n",
    "\n",
    "    for i, j in enumerate(inds):\n",
    "        vecs[i,j] = 1\n",
    "\n",
    "    # compute matrix where rows correspond to xy pairs and columns correspond to pixel features\n",
    "    # value in cell [i,j] == dist_from_xy[i]_to_center_of_pixel_feature[j]\n",
    "    mat = vecs @ PIXEL_FEATURE_DIST_MASKS.T\n",
    "    # for each xy get index of pixel feature which has minimal distance to center of pixel feature\n",
    "    t = np.argmin(mat, axis=1)\n",
    "    # if row consists of dists which exceed config.sample_size then np.argmin has no sense for such row (it means that there is no match with any pixel feature),\n",
    "    # as such - exclude such row from consideration\n",
    "    rows_with_good_values_boolmap = np.any(mat < config.sample_size, axis=1)\n",
    "    t = t[rows_with_good_values_boolmap]\n",
    "    return np.unique(t)"
   ]
  },
  {
   "cell_type": "markdown",
   "id": "de4fc099-261c-469e-b3f7-e52868634935",
   "metadata": {},
   "source": [
    "## Signals Generator"
   ]
  },
  {
   "cell_type": "code",
   "execution_count": 33,
   "id": "b5c7f3ec-4599-4d2b-8031-44ef454ee41f",
   "metadata": {},
   "outputs": [],
   "source": [
    "SignalsGeneratorResult = namedtuple('SignalsGeneratorResult', \n",
    "                                    ['signals_input', 'signals_output', # SBV\n",
    "                                     'signal_ids', \n",
    "                                     'signal_xy_lists_input', 'signal_xy_lists_output', \n",
    "                                     'xy_list_full'])\n",
    "DummySignalsGeneratorResult = lambda: SignalsGeneratorResult([], [], [], [], [], [])"
   ]
  },
  {
   "cell_type": "markdown",
   "id": "cb595d40-bf06-496a-8f56-71d64b706724",
   "metadata": {},
   "source": [
    "### RealImageSignalsGenerator"
   ]
  },
  {
   "cell_type": "code",
   "execution_count": 34,
   "id": "7658b6e8-c858-46ea-b72f-572c22e14e74",
   "metadata": {},
   "outputs": [],
   "source": [
    "# For each image generate number of signals (image_variants_count) by randomly select of si_ind and convert this si_ind to pixel features\n",
    "class RealImageSignalsGenerator:\n",
    "    def __init__(self, transf, signals_count, image_variants_count, logger=lambda m: True):\n",
    "        self.transf = transf\n",
    "        self.signals_count = signals_count\n",
    "        assert image_variants_count > 0\n",
    "        self.image_variants_count = image_variants_count\n",
    "\n",
    "        self.image_id = -1\n",
    "        self.image_variants_count_for_image_id = 0\n",
    "        self.image_variants_generated = 0\n",
    "        self.xy_list_full = []\n",
    "        self.xy_list_inds_count = -1\n",
    "        \n",
    "    def __call__(self):\n",
    "        signals_input = []\n",
    "        signals_output = []\n",
    "        signal_ids = []\n",
    "        signal_xy_lists_input = []\n",
    "        signal_xy_lists_output = []\n",
    "\n",
    "        while len(signals_input) < self.signals_count:\n",
    "            if self.image_id == -1 or self.image_variants_generated >= self.image_variants_count_for_image_id:\n",
    "                # the very first call or variants of current image are exhausted, switch to next image\n",
    "                self.image_id = int(RNG.choice(df_train_images.index))\n",
    "                self.image_variants_generated = 0\n",
    "                image = df_train_images.loc[self.image_id]\n",
    "                # pickle.loads consumes almost 50% of the time of execution of generate() :=(\n",
    "                sequences = pickle.loads(image.inner_sequences)\n",
    "                si_ind_dict = pickle.loads(image.inner_si_ind_dict)\n",
    "                xy_list_full = get_xy_sequence(get_sequence(sequences), si_ind_dict)\n",
    "                self.xy_list_full = xy_list_full\n",
    "                \n",
    "                xy_list_inds_count = min(xy_list_full.shape[0], HP_SIGNAL_VEC_FEATURES_COUNT)\n",
    "                xy_list_combinations_count = math.comb(xy_list_full.shape[0], xy_list_inds_count)\n",
    "\n",
    "                if xy_list_combinations_count >= self.image_variants_count:\n",
    "                    self.xy_list_inds_count = xy_list_inds_count\n",
    "                    self.image_variants_count_for_image_id = self.image_variants_count\n",
    "                else:\n",
    "                    assert xy_list_inds_count > 0\n",
    "                    xy_list_inds_count_to_combinations_count = Counter()\n",
    "                \n",
    "                    for inds_count in range(xy_list_inds_count, 0, -1):\n",
    "                        xy_list_inds_count_to_combinations_count[inds_count] = math.comb(xy_list_full.shape[0], inds_count)\n",
    "\n",
    "                    xy_list_inds_count_with_most_variants = xy_list_inds_count_to_combinations_count.most_common(1)[0]\n",
    "                    self.xy_list_inds_count = xy_list_inds_count_with_most_variants[0]\n",
    "                    self.image_variants_count_for_image_id = min(self.image_variants_count, xy_list_inds_count_with_most_variants[1])\n",
    "            \n",
    "                self.xy_list_inds_count > 0\n",
    "                self.xy_list_inds_count <= self.xy_list_full.shape[0]\n",
    "                assert self.image_variants_count_for_image_id > 0, self.image_variants_count_for_image_id\n",
    "                assert self.image_variants_count_for_image_id <= self.image_variants_count, self.image_variants_count_for_image_id\n",
    "\n",
    "            xy_list_inds = RNG.choice(self.xy_list_full.shape[0], self.xy_list_inds_count, replace=False)\n",
    "            xy_list_origin = self.xy_list_full[xy_list_inds]\n",
    "            ###\n",
    "            xy_list_origin = PIXEL_FEATURE_XY_ARRAY[xy_list_to_pixel_feature_inds(xy_list_origin)]\n",
    "            ###\n",
    "            xy_list_transf = np.hstack([xy_list_origin, np.ones(xy_list_origin.shape[0])[:,np.newaxis]]) # make homogeneous coords\n",
    "            xy_list_transf = (self.transf @ xy_list_transf.T).T[:,:2]\n",
    "            xy_list_transf = np.round(xy_list_transf, decimals=0).astype(int)\n",
    "            xy_list_origin_sbv = bundle_sbvs(PIXEL_FEATURE_SBVS[xy_list_to_pixel_feature_inds(xy_list_origin)])\n",
    "            xy_list_transf_sbv = bundle_sbvs(PIXEL_FEATURE_SBVS[xy_list_to_pixel_feature_inds(xy_list_transf)])\n",
    "            assert xy_list_origin_sbv.shape[0] == HP_SIGNAL_VEC_LEN\n",
    "            assert xy_list_transf_sbv.shape[0] == HP_SIGNAL_VEC_LEN\n",
    "            \n",
    "            self.image_variants_generated += 1\n",
    "            signals_input.append(xy_list_origin_sbv)\n",
    "            signals_output.append(xy_list_transf_sbv)\n",
    "            signal_ids.append((self.image_id, tuple(map(int, sorted(xy_list_inds)))))\n",
    "            signal_xy_lists_input.append(xy_list_origin)\n",
    "            signal_xy_lists_output.append(xy_list_transf)\n",
    "\n",
    "        assert len(signals_input) == len(signals_output)\n",
    "        assert len(signals_input) == len(signal_ids)\n",
    "        assert len(signals_input) == len(signal_xy_lists_input)\n",
    "        assert len(signals_input) == len(signal_xy_lists_output)\n",
    "        return SignalsGeneratorResult(signals_input=np.vstack(signals_input), \n",
    "                                      signals_output=np.vstack(signals_output), \n",
    "                                      signal_ids=signal_ids,\n",
    "                                      signal_xy_lists_input=signal_xy_lists_input,\n",
    "                                      signal_xy_lists_output=signal_xy_lists_output,\n",
    "                                      xy_list_full=self.xy_list_full)\n",
    "\n",
    "    def switch(self):\n",
    "        pass"
   ]
  },
  {
   "cell_type": "code",
   "execution_count": 35,
   "id": "2b0e17c6-76e4-468c-aef6-0ab313fd94f3",
   "metadata": {},
   "outputs": [],
   "source": [
    "generator = RealImageSignalsGenerator(TRANSF, 100, 10)"
   ]
  },
  {
   "cell_type": "code",
   "execution_count": 36,
   "id": "f43d9bc0-6bba-430b-b426-d0c9e67ea094",
   "metadata": {},
   "outputs": [
    {
     "name": "stdout",
     "output_type": "stream",
     "text": [
      "CPU times: user 8.02 s, sys: 13.7 ms, total: 8.04 s\n",
      "Wall time: 128 ms\n"
     ]
    }
   ],
   "source": [
    "%%time\n",
    "sgr = generator()\n",
    "signal_ind = 0"
   ]
  },
  {
   "cell_type": "code",
   "execution_count": 37,
   "id": "72a4b162-f21a-4183-a1cf-d871c15b7e04",
   "metadata": {},
   "outputs": [
    {
     "data": {
      "image/png": "[encoded data removed]",
      "text/plain": [
       "<Figure size 1600x480 with 3 Axes>"
      ]
     },
     "metadata": {},
     "output_type": "display_data"
    }
   ],
   "source": [
    "# signal_ind = RNG.choice(len(sgr.signals_output))\n",
    "# signal_ind = 19\n",
    "signal_ind = (signal_ind + 1) % len(sgr.signals_output)\n",
    "pixel_feature_inds = debundle_sbv(sgr.signals_output[signal_ind], PIXEL_FEATURE_SBVS, HP_SIGNAL_VEC_NON_ZERO_BITS)\n",
    "bm_output = PIXEL_FEATURE_BITMAP_MASKS[pixel_feature_inds].sum(axis=0)\n",
    "bm_output = xp_array_from_gpu(bm_output)\n",
    "    \n",
    "fig, (ax1, ax2, ax3) = plt.subplots(1, 3)\n",
    "fig.set_figwidth(16)\n",
    "ax1.set_title(f'Input #{signal_ind}: {sgr.signal_xy_lists_input[signal_ind].shape[0]} xy items')\n",
    "ax1.imshow(vec_to_square_matrix(xy_list_to_ohe_vec(sgr.signal_xy_lists_input[signal_ind])))\n",
    "ax2.set_title(f'Transformed: {sgr.signal_xy_lists_output[signal_ind].shape[0]} xy items')\n",
    "ax2.imshow(vec_to_square_matrix(xy_list_to_ohe_vec(sgr.signal_xy_lists_output[signal_ind])))\n",
    "ax3.set_title(f'Decoded from SBV: {np.count_nonzero(pixel_feature_inds)} pixel features')\n",
    "ax3.imshow(vec_to_square_matrix(bm_output));"
   ]
  },
  {
   "cell_type": "markdown",
   "id": "8584e695-2870-4f02-861c-3217675901f3",
   "metadata": {},
   "source": [
    "### FixedPixelFeatureSignalsGenerator"
   ]
  },
  {
   "cell_type": "code",
   "execution_count": 38,
   "id": "482b9dad-fc72-4610-b1b3-30d2d58f6617",
   "metadata": {},
   "outputs": [],
   "source": [
    "# one pixel feature is fixed for a number calls (fixation period) and remaining features are randomly picked according to their frequency\n",
    "class FixedPixelFeatureSignalsGenerator:\n",
    "    def __init__(self, transf, signals_count, fixation_period, logger=lambda m: True):\n",
    "        self.transf = transf\n",
    "        self.signals_count = signals_count\n",
    "        assert fixation_period > 0\n",
    "        self.fixation_period = fixation_period\n",
    "        self.fixation_countdown = self.fixation_period\n",
    "        self.fixed_pixel_feature_ind = -1\n",
    "        self.pixel_feature_inds_sorted_by_freq_desc = np.argsort(-PIXEL_FEATURE_FREQS)\n",
    "        # strip pixel features which have zero freqs, i.o.w. leave only those with nonzero\n",
    "        active_pixel_features_count = np.count_nonzero(PIXEL_FEATURE_FREQS)\n",
    "        assert active_pixel_features_count > 0\n",
    "        self.pixel_feature_inds_sorted_by_freq_desc = self.pixel_feature_inds_sorted_by_freq_desc[:active_pixel_features_count]\n",
    "        assert self.pixel_feature_inds_sorted_by_freq_desc.shape[0] == active_pixel_features_count\n",
    "        self.pixel_feature_inds = np.arange(PIXEL_FEATURE_SBVS.shape[0])\n",
    "        \n",
    "    def __call__(self):\n",
    "        signals_input = [] # SBV\n",
    "        signals_output = [] # SBV\n",
    "        signal_ids = []\n",
    "        signal_xy_lists_input = []\n",
    "        signal_xy_lists_output = []\n",
    "\n",
    "        while len(signals_input) < self.signals_count:\n",
    "            if self.fixed_pixel_feature_ind == -1 or self.fixation_countdown <= 0:\n",
    "                self.fixed_pixel_feature_ind = self.pixel_feature_inds_sorted_by_freq_desc[0]\n",
    "                self.pixel_feature_inds_sorted_by_freq_desc = np.roll(self.pixel_feature_inds_sorted_by_freq_desc, -1)\n",
    "                # temporarily ban fixed pixel feature from being picked up as a free one\n",
    "                self.free_pixel_feature_probs = PIXEL_FEATURE_FREQS[:].astype('f')\n",
    "                self.free_pixel_feature_probs[self.fixed_pixel_feature_ind] = 0\n",
    "                self.free_pixel_feature_probs /= self.free_pixel_feature_probs.sum()\n",
    "                self.fixation_countdown = self.fixation_period\n",
    "\n",
    "            assert self.fixed_pixel_feature_ind != -1\n",
    "            # pick up remaining pixel feature (via their probabilities) excluding fixed pixel feature\n",
    "            free_pixel_feature_inds = RNG.choice(self.pixel_feature_inds, HP_SIGNAL_VEC_FEATURES_COUNT-1, p=self.free_pixel_feature_probs, replace=False)\n",
    "            pixel_feature_inds_input = np.hstack([self.fixed_pixel_feature_ind, free_pixel_feature_inds])\n",
    "            assert pixel_feature_inds_input.shape[0] == HP_SIGNAL_VEC_FEATURES_COUNT\n",
    "\n",
    "            xy_list_input = PIXEL_FEATURE_XY_ARRAY[pixel_feature_inds_input]\n",
    "            xy_list_transf = np.hstack([xy_list_input, np.ones(xy_list_input.shape[0])[:,np.newaxis]]) # make homogeneous coords\n",
    "            xy_list_transf = (self.transf @ xy_list_transf.T).T[:,:2]\n",
    "            xy_list_transf = np.round(xy_list_transf, decimals=0).astype(int)\n",
    "            # pixel_feature_inds_output = xy_list_to_nearest_pixel_feature_inds(xy_list_transf) # must be used when there is overlap among pixel features\n",
    "            # pixel_feature_inds_output = xy_list_to_pixel_feature_inds(xy_list_transf) # can be used when there is no overlap among pixel features\n",
    "            pixel_feature_inds_output = xy_list_to_pixel_feature_inds(xy_list_transf) # can be used when there is no overlap among pixel features\n",
    "            xy_list_output = PIXEL_FEATURE_XY_ARRAY[pixel_feature_inds_output]\n",
    "            xy_list_input_sbv = bundle_sbvs(PIXEL_FEATURE_SBVS[pixel_feature_inds_input])\n",
    "            xy_list_output_sbv = bundle_sbvs(PIXEL_FEATURE_SBVS[pixel_feature_inds_output])\n",
    "            assert xy_list_input_sbv.shape[0] == HP_SIGNAL_VEC_LEN\n",
    "            assert xy_list_output_sbv.shape[0] == HP_SIGNAL_VEC_LEN\n",
    "            self.fixation_countdown -= 1\n",
    "            \n",
    "            signals_input.append(xy_list_input_sbv)\n",
    "            signals_output.append(xy_list_output_sbv)\n",
    "            signal_ids.append(tuple(map(int, sorted(pixel_feature_inds_input))))\n",
    "            signal_xy_lists_input.append(xy_list_input)\n",
    "            signal_xy_lists_output.append(xy_list_output)\n",
    "\n",
    "        assert len(signals_input) == len(signals_output)\n",
    "        assert len(signals_input) == len(signal_ids)\n",
    "        assert len(signals_input) == len(signal_xy_lists_input)\n",
    "        assert len(signals_input) == len(signal_xy_lists_output)\n",
    "        return SignalsGeneratorResult(signals_input=np.vstack(signals_input), \n",
    "                                      signals_output=np.vstack(signals_output),\n",
    "                                      signal_ids=signal_ids,\n",
    "                                      signal_xy_lists_input=signal_xy_lists_input,\n",
    "                                      signal_xy_lists_output=signal_xy_lists_output,\n",
    "                                      xy_list_full=[])\n",
    "\n",
    "    def switch(self):\n",
    "        pass"
   ]
  },
  {
   "cell_type": "code",
   "execution_count": 39,
   "id": "5fbf6b35-2f32-480d-b83a-e7c5b4e2f423",
   "metadata": {},
   "outputs": [],
   "source": [
    "generator = FixedPixelFeatureSignalsGenerator(TRANSF, 100, 10)"
   ]
  },
  {
   "cell_type": "code",
   "execution_count": 40,
   "id": "3092b3c0-a77d-45f9-b61a-9ae7490cba91",
   "metadata": {},
   "outputs": [
    {
     "name": "stdout",
     "output_type": "stream",
     "text": [
      "CPU times: user 4.09 s, sys: 2.5 ms, total: 4.09 s\n",
      "Wall time: 64.9 ms\n"
     ]
    }
   ],
   "source": [
    "%%time\n",
    "sgr = generator()\n",
    "signal_ind = 0"
   ]
  },
  {
   "cell_type": "code",
   "execution_count": 41,
   "id": "7ff48a2a-53f3-4de0-b904-3a25a9d6bc34",
   "metadata": {},
   "outputs": [
    {
     "data": {
      "image/png": "[encoded data removed]",
      "text/plain": [
       "<Figure size 1600x480 with 3 Axes>"
      ]
     },
     "metadata": {},
     "output_type": "display_data"
    }
   ],
   "source": [
    "# signal_ind = RNG.choice(len(sgr.signals_output))\n",
    "# signal_ind = 19\n",
    "signal_ind = (signal_ind + 1) % len(sgr.signals_output)\n",
    "pixel_feature_inds = debundle_sbv(sgr.signals_output[signal_ind], PIXEL_FEATURE_SBVS, HP_SIGNAL_VEC_NON_ZERO_BITS)\n",
    "bm_output = PIXEL_FEATURE_BITMAP_MASKS[pixel_feature_inds].sum(axis=0)\n",
    "bm_output = xp_array_from_gpu(bm_output)\n",
    "    \n",
    "fig, (ax1, ax2, ax3) = plt.subplots(1, 3)\n",
    "fig.set_figwidth(16)\n",
    "ax1.set_title(f'Input #{signal_ind}: {sgr.signal_xy_lists_input[signal_ind].shape[0]} xy items')\n",
    "t = xy_list_to_ohe_vec(sgr.signal_xy_lists_input[signal_ind])\n",
    "t[PIXEL_FEATURE_XY_ARRAY[generator.fixed_pixel_feature_ind] @ [1, config.sample_size]] = 2\n",
    "ax1.imshow(vec_to_square_matrix(t))\n",
    "ax2.set_title(f'Transformed: {sgr.signal_xy_lists_output[signal_ind].shape[0]} xy items')\n",
    "ax2.imshow(vec_to_square_matrix(xy_list_to_ohe_vec(sgr.signal_xy_lists_output[signal_ind])))\n",
    "ax3.set_title(f'Decoded from SBV: {np.count_nonzero(pixel_feature_inds)} pixel features')\n",
    "ax3.imshow(vec_to_square_matrix(bm_output));"
   ]
  },
  {
   "cell_type": "markdown",
   "id": "b6cdc2e5-a4e6-4020-83c8-70d9235c4c0b",
   "metadata": {},
   "source": [
    "### RollingPixelFeatureSignalsGenerator"
   ]
  },
  {
   "cell_type": "code",
   "execution_count": 42,
   "id": "9788b21c-d563-4cc7-9170-e671925bb04d",
   "metadata": {},
   "outputs": [],
   "source": [
    "# On every call specified number (fresh_count) of pixel features is replaced with a fresh ones\n",
    "class RollingPixelFeatureSignalsGenerator:\n",
    "    def __init__(self, transf, signals_count, fresh_count, logger=lambda m: True):\n",
    "        self.transf = transf\n",
    "        self.signals_count = signals_count\n",
    "        assert fresh_count > 0\n",
    "        self.fresh_count = fresh_count\n",
    "        self.pixel_feature_inds_fifo = np.array([])\n",
    "        self.pixel_feature_inds_set = set()\n",
    "        self.pixel_feature_probs = PIXEL_FEATURE_FREQS[:].astype('f')\n",
    "        self.pixel_feature_probs /= self.pixel_feature_probs.sum()\n",
    "        self.pixel_features_count = PIXEL_FEATURE_FREQS.shape[0]\n",
    "        \n",
    "    def __call__(self):\n",
    "        signals_input = [] # SBV\n",
    "        signals_output = [] # SBV\n",
    "        signal_ids = []\n",
    "        signal_xy_lists_input = []\n",
    "        signal_xy_lists_output = []\n",
    "\n",
    "        while len(signals_input) < self.signals_count:\n",
    "            if self.pixel_feature_inds_fifo.shape[0] == 0:\n",
    "                self.pixel_feature_inds_fifo = RNG.choice(self.pixel_features_count, HP_SIGNAL_VEC_FEATURES_COUNT, p=self.pixel_feature_probs, replace=False)\n",
    "                self.pixel_feature_inds_set = set(self.pixel_feature_inds_fifo)\n",
    "            else:\n",
    "                fresh_pixel_features_gathered = 0\n",
    "                \n",
    "                for _ in range(self.fresh_count):\n",
    "                    for _ in range(self.pixel_features_count):\n",
    "                        new_pixel_feature_ind = RNG.choice(self.pixel_features_count, p=self.pixel_feature_probs)\n",
    "\n",
    "                        if not new_pixel_feature_ind in self.pixel_feature_inds_set:\n",
    "                            self.pixel_feature_inds_fifo = np.hstack([self.pixel_feature_inds_fifo, new_pixel_feature_ind])\n",
    "                            self.pixel_feature_inds_set.add(new_pixel_feature_ind)\n",
    "                            fresh_pixel_features_gathered += 1\n",
    "                            break\n",
    "                    else:\n",
    "                        # failed to find new pixel feature ind which is not within self.pixel_feature_inds_fifo, =(\n",
    "                        # maybe next call will be more successful...\n",
    "                        pass\n",
    "\n",
    "                assert fresh_pixel_features_gathered >=0 and fresh_pixel_features_gathered <= self.fresh_count, fresh_pixel_features_gathered\n",
    "                removed_pixel_feature_inds = self.pixel_feature_inds_fifo[:fresh_pixel_features_gathered]\n",
    "                self.pixel_feature_inds_fifo = self.pixel_feature_inds_fifo[fresh_pixel_features_gathered:]\n",
    "                for ind in removed_pixel_feature_inds: self.pixel_feature_inds_set.remove(ind)\n",
    "\n",
    "            pixel_feature_inds_input = self.pixel_feature_inds_fifo\n",
    "            xy_list_input = PIXEL_FEATURE_XY_ARRAY[pixel_feature_inds_input]\n",
    "            xy_list_transf = np.hstack([xy_list_input, np.ones(xy_list_input.shape[0])[:,np.newaxis]]) # make homogeneous coords\n",
    "            xy_list_transf = (self.transf @ xy_list_transf.T).T[:,:2]\n",
    "            xy_list_transf = np.round(xy_list_transf, decimals=0).astype(int)\n",
    "            # pixel_feature_inds_output = xy_list_to_nearest_pixel_feature_inds(xy_list_transf) # must be used when there is overlap among pixel features\n",
    "            # pixel_feature_inds_output = xy_list_to_pixel_feature_inds(xy_list_transf) # can be used when there is no overlap among pixel features\n",
    "            pixel_feature_inds_output = xy_list_to_pixel_feature_inds(xy_list_transf) # can be used when there is no overlap among pixel features\n",
    "            xy_list_output = PIXEL_FEATURE_XY_ARRAY[pixel_feature_inds_output]\n",
    "            xy_list_input_sbv = bundle_sbvs(PIXEL_FEATURE_SBVS[pixel_feature_inds_input])\n",
    "            xy_list_output_sbv = bundle_sbvs(PIXEL_FEATURE_SBVS[pixel_feature_inds_output])\n",
    "            assert xy_list_input_sbv.shape[0] == HP_SIGNAL_VEC_LEN\n",
    "            assert xy_list_output_sbv.shape[0] == HP_SIGNAL_VEC_LEN\n",
    "            \n",
    "            signals_input.append(xy_list_input_sbv)\n",
    "            signals_output.append(xy_list_output_sbv)\n",
    "            signal_ids.append(tuple(map(int, sorted(pixel_feature_inds_input))))\n",
    "            signal_xy_lists_input.append(xy_list_input)\n",
    "            signal_xy_lists_output.append(xy_list_output)\n",
    "\n",
    "        assert len(signals_input) == len(signals_output)\n",
    "        assert len(signals_input) == len(signal_ids)\n",
    "        assert len(signals_input) == len(signal_xy_lists_input)\n",
    "        assert len(signals_input) == len(signal_xy_lists_output)\n",
    "        return SignalsGeneratorResult(signals_input=np.vstack(signals_input), \n",
    "                                      signals_output=np.vstack(signals_output),\n",
    "                                      signal_ids=signal_ids,\n",
    "                                      signal_xy_lists_input=signal_xy_lists_input,\n",
    "                                      signal_xy_lists_output=signal_xy_lists_output,\n",
    "                                      xy_list_full=[])\n",
    "\n",
    "    def switch(self):\n",
    "        pass"
   ]
  },
  {
   "cell_type": "code",
   "execution_count": 43,
   "id": "7818f44c-2b09-45da-be87-407ff05b8245",
   "metadata": {},
   "outputs": [],
   "source": [
    "generator = RollingPixelFeatureSignalsGenerator(TRANSF, 100, 1)"
   ]
  },
  {
   "cell_type": "code",
   "execution_count": 44,
   "id": "0a5d9a3b-6051-4478-b2df-8c099987c8ce",
   "metadata": {},
   "outputs": [
    {
     "name": "stdout",
     "output_type": "stream",
     "text": [
      "CPU times: user 3.18 s, sys: 0 ns, total: 3.18 s\n",
      "Wall time: 51.5 ms\n"
     ]
    }
   ],
   "source": [
    "%%time\n",
    "sgr = generator()\n",
    "signal_ind = 0"
   ]
  },
  {
   "cell_type": "code",
   "execution_count": 45,
   "id": "0f66996f-f9b1-4048-a47e-e1b4a73dffb6",
   "metadata": {},
   "outputs": [
    {
     "data": {
      "image/png": "[encoded data removed]",
      "text/plain": [
       "<Figure size 1600x480 with 3 Axes>"
      ]
     },
     "metadata": {},
     "output_type": "display_data"
    }
   ],
   "source": [
    "signal_ind = (signal_ind + 1) % len(sgr.signals_output)\n",
    "pixel_feature_inds = debundle_sbv(sgr.signals_output[signal_ind], PIXEL_FEATURE_SBVS, HP_SIGNAL_VEC_NON_ZERO_BITS)\n",
    "bm_output = PIXEL_FEATURE_BITMAP_MASKS[pixel_feature_inds].sum(axis=0)\n",
    "bm_output = xp_array_from_gpu(bm_output)\n",
    "    \n",
    "fig, (ax1, ax2, ax3) = plt.subplots(1, 3)\n",
    "fig.set_figwidth(16)\n",
    "ax1.set_title(f'Input #{signal_ind}: {sgr.signal_xy_lists_input[signal_ind].shape[0]} xy items')\n",
    "ax1.imshow(vec_to_square_matrix(xy_list_to_ohe_vec(sgr.signal_xy_lists_input[signal_ind])))\n",
    "ax2.set_title(f'Transformed: {sgr.signal_xy_lists_output[signal_ind].shape[0]} xy items')\n",
    "ax2.imshow(vec_to_square_matrix(xy_list_to_ohe_vec(sgr.signal_xy_lists_output[signal_ind])))\n",
    "ax3.set_title(f'Decoded from SBV: {np.count_nonzero(pixel_feature_inds)} pixel features')\n",
    "ax3.imshow(vec_to_square_matrix(bm_output));"
   ]
  },
  {
   "cell_type": "markdown",
   "id": "eea2abc0-1c71-43ed-85fe-4b70824d3dac",
   "metadata": {},
   "source": [
    "### PooledPixelFeatureSignalsGenerator"
   ]
  },
  {
   "cell_type": "code",
   "execution_count": 46,
   "id": "7b37e997-8ab1-4035-8fba-31154364e8c8",
   "metadata": {},
   "outputs": [],
   "source": [
    "# Create pool of pixel features of designated size (pool_size) and sample signals from that pool. \n",
    "# Recreate pool on switch call\n",
    "class PooledPixelFeatureSignalsGenerator:\n",
    "    def __init__(self, transf, signals_count, pool_size, logger=lambda m: True):\n",
    "        self.logger = logger\n",
    "        self.transf = transf\n",
    "        self.signals_count = signals_count\n",
    "        assert pool_size >= HP_SIGNAL_VEC_FEATURES_COUNT\n",
    "        self.pool_size = pool_size\n",
    "        self.pooled_pixel_feature_inds = np.array([])\n",
    "        self.pixel_feature_inds_sorted_by_freq_desc = np.argsort(-PIXEL_FEATURE_FREQS)\n",
    "        # strip pixel features which have zero freqs, i.o.w. leave only those with nonzero\n",
    "        active_pixel_features_count = np.count_nonzero(PIXEL_FEATURE_FREQS)\n",
    "        assert active_pixel_features_count > 0\n",
    "        self.pixel_feature_inds_sorted_by_freq_desc = self.pixel_feature_inds_sorted_by_freq_desc[:active_pixel_features_count]\n",
    "        assert self.pixel_feature_inds_sorted_by_freq_desc.shape[0] == active_pixel_features_count\n",
    "        self.switch()\n",
    "        \n",
    "    def __call__(self):\n",
    "        signals_input = [] # SBV\n",
    "        signals_output = [] # SBV\n",
    "        signal_ids = []\n",
    "        signal_xy_lists_input = []\n",
    "        signal_xy_lists_output = []\n",
    "\n",
    "        while len(signals_input) < self.signals_count:\n",
    "            pixel_feature_inds_input = RNG.choice(self.pooled_pixel_feature_inds, HP_SIGNAL_VEC_FEATURES_COUNT, replace=False)\n",
    "            xy_list_input = PIXEL_FEATURE_XY_ARRAY[pixel_feature_inds_input]\n",
    "            xy_list_transf = np.hstack([xy_list_input, np.ones(xy_list_input.shape[0])[:,np.newaxis]]) # make homogeneous coords\n",
    "            xy_list_transf = (self.transf @ xy_list_transf.T).T[:,:2]\n",
    "            xy_list_transf = np.round(xy_list_transf, decimals=0).astype(int)\n",
    "            # pixel_feature_inds_output = xy_list_to_nearest_pixel_feature_inds(xy_list_transf) # must be used when there is overlap among pixel features\n",
    "            pixel_feature_inds_output = xy_list_to_pixel_feature_inds(xy_list_transf) # can be used when there is no overlap among pixel features\n",
    "            xy_list_output = PIXEL_FEATURE_XY_ARRAY[pixel_feature_inds_output]\n",
    "            xy_list_input_sbv = bundle_sbvs(PIXEL_FEATURE_SBVS[pixel_feature_inds_input])\n",
    "            xy_list_output_sbv = bundle_sbvs(PIXEL_FEATURE_SBVS[pixel_feature_inds_output])\n",
    "            assert xy_list_input_sbv.shape[0] == HP_SIGNAL_VEC_LEN\n",
    "            assert xy_list_output_sbv.shape[0] == HP_SIGNAL_VEC_LEN\n",
    "\n",
    "            signals_input.append(xy_list_input_sbv)\n",
    "            signals_output.append(xy_list_output_sbv)\n",
    "            signal_ids.append(tuple(map(int, sorted(pixel_feature_inds_input))))\n",
    "            signal_xy_lists_input.append(xy_list_input)\n",
    "            signal_xy_lists_output.append(xy_list_output)\n",
    "\n",
    "        assert len(signals_input) == len(signals_output)\n",
    "        assert len(signals_input) == len(signal_ids)\n",
    "        assert len(signals_input) == len(signal_xy_lists_input)\n",
    "        assert len(signals_input) == len(signal_xy_lists_output)\n",
    "        return SignalsGeneratorResult(signals_input=np.vstack(signals_input), \n",
    "                                      signals_output=np.vstack(signals_output),\n",
    "                                      signal_ids=signal_ids,\n",
    "                                      signal_xy_lists_input=signal_xy_lists_input,\n",
    "                                      signal_xy_lists_output=signal_xy_lists_output,\n",
    "                                      xy_list_full=[])\n",
    "\n",
    "    def switch(self):\n",
    "        self.pooled_pixel_feature_inds = self.pixel_feature_inds_sorted_by_freq_desc[:self.pool_size]\n",
    "        self.pixel_feature_inds_sorted_by_freq_desc = np.roll(self.pixel_feature_inds_sorted_by_freq_desc, -self.pool_size)\n",
    "        l = self.pooled_pixel_feature_inds[0]\n",
    "        h = self.pooled_pixel_feature_inds[-1]\n",
    "        self.logger(f'Pool inds=[{l}, ..., {h}], freqs=[{PIXEL_FEATURE_FREQS[l]}, ..., {PIXEL_FEATURE_FREQS[h]}]')\n",
    "        assert self.pooled_pixel_feature_inds.shape[0] >= HP_SIGNAL_VEC_FEATURES_COUNT"
   ]
  },
  {
   "cell_type": "code",
   "execution_count": 47,
   "id": "6a24b503-6dbc-4de4-bb5f-8c0ac1459e4d",
   "metadata": {},
   "outputs": [
    {
     "name": "stdout",
     "output_type": "stream",
     "text": [
      "Pool inds=[338, ..., 308], freqs=[518, ..., 418]\n"
     ]
    }
   ],
   "source": [
    "generator = PooledPixelFeatureSignalsGenerator(TRANSF, 100, 30, logger=lambda m: print(m))"
   ]
  },
  {
   "cell_type": "code",
   "execution_count": 48,
   "id": "df9d8338-d79c-447c-9c1f-3f9597e18b1d",
   "metadata": {},
   "outputs": [
    {
     "name": "stdout",
     "output_type": "stream",
     "text": [
      "CPU times: user 2.79 s, sys: 468 μs, total: 2.79 s\n",
      "Wall time: 44.5 ms\n"
     ]
    }
   ],
   "source": [
    "%%time\n",
    "sgr = generator()\n",
    "signal_ind = 0"
   ]
  },
  {
   "cell_type": "code",
   "execution_count": 49,
   "id": "ff68218d-b223-435a-9c5d-29b69dae4a0c",
   "metadata": {},
   "outputs": [
    {
     "data": {
      "image/png": "[encoded data removed]",
      "text/plain": [
       "<Figure size 1600x480 with 3 Axes>"
      ]
     },
     "metadata": {},
     "output_type": "display_data"
    }
   ],
   "source": [
    "signal_ind = (signal_ind + 1) % len(sgr.signals_output)\n",
    "pixel_feature_inds = debundle_sbv(sgr.signals_output[signal_ind], PIXEL_FEATURE_SBVS, HP_SIGNAL_VEC_NON_ZERO_BITS)\n",
    "bm_output = PIXEL_FEATURE_BITMAP_MASKS[pixel_feature_inds].sum(axis=0)\n",
    "bm_output = xp_array_from_gpu(bm_output)\n",
    "    \n",
    "fig, (ax1, ax2, ax3) = plt.subplots(1, 3)\n",
    "fig.set_figwidth(16)\n",
    "ax1.set_title(f'Input #{signal_ind}: {sgr.signal_xy_lists_input[signal_ind].shape[0]} xy items')\n",
    "ax1.imshow(vec_to_square_matrix(xy_list_to_ohe_vec(sgr.signal_xy_lists_input[signal_ind])))\n",
    "ax2.set_title(f'Transformed: {sgr.signal_xy_lists_output[signal_ind].shape[0]} xy items')\n",
    "ax2.imshow(vec_to_square_matrix(xy_list_to_ohe_vec(sgr.signal_xy_lists_output[signal_ind])))\n",
    "ax3.set_title(f'Decoded from SBV: {np.count_nonzero(pixel_feature_inds)} pixel features')\n",
    "ax3.imshow(vec_to_square_matrix(bm_output));"
   ]
  },
  {
   "cell_type": "markdown",
   "id": "ef66cf7b-eecd-4f77-b6b4-51357f7df976",
   "metadata": {},
   "source": [
    "### AsyncSignalsGenerator"
   ]
  },
  {
   "cell_type": "code",
   "execution_count": 50,
   "id": "a7c56784-3284-4abc-af5b-93d1e569f7bf",
   "metadata": {},
   "outputs": [],
   "source": [
    "@dataclass\n",
    "class AsyncSignalsGeneratorTask:\n",
    "    task_id: int\n",
    "    op: str\n",
    "    params: dict = None\n",
    "\n",
    "@dataclass\n",
    "class AsyncSignalsGeneratorTaskResult:\n",
    "    task_id: int\n",
    "    payload: typing.Any = None\n",
    "\n",
    "def async_signals_generator_fun(generator_typename, inp_queue, out_queue, *args):\n",
    "    LOG.app_name = 'HOST_ASG'\n",
    "    LOG(f'Starting host for async signals generator {generator_typename}')\n",
    "\n",
    "    match generator_typename:\n",
    "        case RealImageSignalsGenerator.__name__:\n",
    "            generator = RealImageSignalsGenerator(*args, logger=LOG)\n",
    "        case FixedPixelFeatureSignalsGenerator.__name__:\n",
    "            generator = FixedPixelFeatureSignalsGenerator(*args, logger=LOG)\n",
    "        case RollingPixelFeatureSignalsGenerator.__name__:\n",
    "            generator = RollingPixelFeatureSignalsGenerator(*args, logger=LOG)\n",
    "        case PooledPixelFeatureSignalsGenerator.__name__:\n",
    "            generator = PooledPixelFeatureSignalsGenerator(*args, logger=LOG)\n",
    "        case _:\n",
    "            assert False, generator_typename\n",
    "\n",
    "    LOG(f'Host is ready')\n",
    "\n",
    "    task_wait_timeout = 60\n",
    "    is_running = True\n",
    "    is_recreate_pending = True\n",
    "\n",
    "    while is_running:\n",
    "        if is_recreate_pending:\n",
    "            LOG('Begin generating signals')\n",
    "            sgr = generator()\n",
    "            LOG('End generating signals')\n",
    "            is_recreate_pending = False\n",
    "            \n",
    "        try:\n",
    "            task = inp_queue.get(block=True, timeout=task_wait_timeout)\n",
    "        except queue.Empty:\n",
    "            LOG(f'Didn\\'t get any tasks within {task_wait_timeout} seconds, waiting again')\n",
    "            continue\n",
    "\n",
    "        with LOG.auto_prefix('TASK_ID', task.task_id):\n",
    "            LOG(f'Got task #{task.task_id} {task.op}')\n",
    "            task_result = AsyncSignalsGeneratorTaskResult(task_id=task.task_id)\n",
    "            \n",
    "            match task.op:\n",
    "                case 'HEALTHCHECK':\n",
    "                    pass\n",
    "                case 'TERMINATE':\n",
    "                    is_running = False\n",
    "                case 'GENERATE':\n",
    "                    task_result.payload = sgr\n",
    "                    is_recreate_pending = True\n",
    "                case 'SWITCH':\n",
    "                    generator.switch()\n",
    "                    is_recreate_pending = True\n",
    "                case _:\n",
    "                    LOG(f'Unknown task op: {task.op}, ignoring')\n",
    "    \n",
    "            out_queue.put(task_result)\n",
    "            LOG('Task complete')\n",
    "        \n",
    "    LOG(f'Host is going down')\n",
    "        \n",
    "class AsyncSignalsGenerator:\n",
    "    task_id = 0\n",
    "    \n",
    "    def __init__(self, generator_type, *args):\n",
    "        mp_ctx = mp.get_context('fork')\n",
    "        self.task_queue = mp_ctx.Queue()\n",
    "        self.result_queue = mp_ctx.Queue()\n",
    "        self.process = mp_ctx.Process(target=async_signals_generator_fun, \n",
    "                                      args=(generator_type.__name__, self.task_queue, self.result_queue, *args))\n",
    "        self.process.start()\n",
    "        self.healthcheck()\n",
    "\n",
    "    @staticmethod\n",
    "    def gen_task_id():\n",
    "        AsyncSignalsGenerator.task_id += 1\n",
    "        return AsyncSignalsGenerator.task_id\n",
    "\n",
    "    def healthcheck(self):\n",
    "        assert self.process.is_alive()\n",
    "        task = AsyncSignalsGeneratorTask(task_id=self.gen_task_id(), op='HEALTHCHECK')\n",
    "        self.task_queue.put(task)\n",
    "        self.result_queue.get(timeout=3)\n",
    "        \n",
    "    def terminate(self):\n",
    "        if not self.process.is_alive():\n",
    "            return\n",
    "            \n",
    "        task = AsyncSignalsGeneratorTask(task_id=self.gen_task_id(), op='TERMINATE')\n",
    "        self.task_queue.put(task)\n",
    "        try:\n",
    "            self.result_queue.get(timeout=10)\n",
    "            self.process.join()\n",
    "        except queue.Empty:\n",
    "            print('Failed to shutdown host gracefully, terminating')\n",
    "            self.process.terminate()\n",
    "\n",
    "    def __call__(self):\n",
    "        assert self.process.is_alive()\n",
    "        task = AsyncSignalsGeneratorTask(task_id=self.gen_task_id(), op='GENERATE')\n",
    "        self.task_queue.put(task)\n",
    "        sgr = self.result_queue.get().payload\n",
    "        return sgr\n",
    "\n",
    "    def switch(self):\n",
    "        assert self.process.is_alive()\n",
    "        task = AsyncSignalsGeneratorTask(task_id=self.gen_task_id(), op='SWITCH')\n",
    "        self.task_queue.put(task)\n",
    "        self.result_queue.get()"
   ]
  },
  {
   "cell_type": "code",
   "execution_count": 51,
   "id": "ffec3279-3bd2-4fb4-ba78-77813ff25362",
   "metadata": {},
   "outputs": [
    {
     "name": "stdout",
     "output_type": "stream",
     "text": [
      "Async signals generator is ready\n",
      "CPU times: user 5.18 ms, sys: 2.01 ms, total: 7.19 ms\n",
      "Wall time: 17.9 ms\n",
      "Async signals generator terminated\n"
     ]
    }
   ],
   "source": [
    "try:\n",
    "    # test_signals_generator = AsyncSignalsGenerator(RealImageSignalsGenerator, TRANSF, 100, 10)\n",
    "    # test_signals_generator = AsyncSignalsGenerator(FixedPixelFeatureSignalsGenerator, TRANSF, 100, 10)\n",
    "    # test_signals_generator = AsyncSignalsGenerator(RollingPixelFeatureSignalsGenerator, TRANSF, 100, 10)\n",
    "    test_signals_generator = AsyncSignalsGenerator(PooledPixelFeatureSignalsGenerator, TRANSF, 100, 30)\n",
    "    print(f'Async signals generator is ready')\n",
    "    %time sgr = test_signals_generator()\n",
    "finally:\n",
    "    test_signals_generator.terminate()\n",
    "    print(f'Async signals generator terminated')\n",
    "    del test_signals_generator"
   ]
  },
  {
   "cell_type": "markdown",
   "id": "540c8953-6ec6-41ad-945a-9f397989b501",
   "metadata": {},
   "source": [
    "## Points"
   ]
  },
  {
   "cell_type": "raw",
   "id": "d97e49f9-261c-4316-bf89-3f28475c9835",
   "metadata": {},
   "source": [
    "Here we define combinatorial points"
   ]
  },
  {
   "cell_type": "code",
   "execution_count": 52,
   "id": "9dbcbcad-eb00-4479-a32b-ae36b8373cce",
   "metadata": {},
   "outputs": [
    {
     "data": {
      "application/vnd.jupyter.widget-view+json": {
       "model_id": "326a561b1f4d4f7a818bc143b117ab19",
       "version_major": 2,
       "version_minor": 0
      },
      "text/plain": [
       "Load:   0%|          | 0/1000 [00:00<?, ?it/s]"
      ]
     },
     "metadata": {},
     "output_type": "display_data"
    },
    {
     "name": "stdout",
     "output_type": "stream",
     "text": [
      "250_000 POINTS loaded from database\n"
     ]
    }
   ],
   "source": [
    "df_points = pd.read_sql('SELECT output_bit, nzb_list FROM points WHERE encoding=:encoding AND count=:count AND non_zero_bits=:non_zero_bits', \n",
    "                        params={\n",
    "                            'encoding': HP_SIGNAL_ENCODING,\n",
    "                            'count': HP_POINTS_COUNT,\n",
    "                            'non_zero_bits': HP_POINT_NON_ZERO_BITS}, \n",
    "                        con=transfs_db_con)\n",
    "\n",
    "if len(df_points) > 0:\n",
    "    POINTS = []\n",
    "    POINT_OUTPUT_BITS = []\n",
    "    \n",
    "    for row in tqdm(df_points.itertuples(), total=len(df_points), desc='Load'):\n",
    "        nzb_list = pickle.loads(row.nzb_list)\n",
    "        l = len(nzb_list)\n",
    "        assert l > 0\n",
    "        points = np.zeros((l, HP_SIGNAL_VEC_LEN), dtype='f')\n",
    "\n",
    "        for i, nzb in enumerate(nzb_list):\n",
    "            points[i,nzb] = 1\n",
    "\n",
    "        POINTS.append(points)\n",
    "        \n",
    "        point_output_bits = np.full(l, row.output_bit, dtype='i')\n",
    "        POINT_OUTPUT_BITS.append(point_output_bits)\n",
    "        \n",
    "    POINTS = np.vstack(POINTS)\n",
    "    POINT_OUTPUT_BITS = np.hstack(POINT_OUTPUT_BITS)\n",
    "    assert np.all(POINTS.sum(axis=1) == HP_POINT_NON_ZERO_BITS)\n",
    "    assert POINTS.shape[0] == POINT_OUTPUT_BITS.shape[0]\n",
    "    assert POINTS.ndim == 2\n",
    "    assert POINT_OUTPUT_BITS.ndim == 1\n",
    "    print(f'{POINTS.shape[0]:_} POINTS loaded from database')\n",
    "else:\n",
    "    POINTS = []\n",
    "    POINT_OUTPUT_BITS = []\n",
    "    output_bits = RNG.choice(HP_SIGNAL_VEC_LEN, HP_POINTS_COUNT)\n",
    "    output_bit_to_nzb_list = defaultdict(list)\n",
    "    \n",
    "    for output_bit in tqdm(output_bits, desc='Generate'):\n",
    "        nzb = sbv_to_nzb(RNG.choice(HP_SIGNAL_VEC_LEN, HP_POINT_NON_ZERO_BITS, replace=False))\n",
    "        \n",
    "        point_vec = np.zeros(HP_SIGNAL_VEC_LEN, dtype='f')\n",
    "        point_vec[nzb] = 1\n",
    "        POINTS.append(point_vec)\n",
    "        POINT_OUTPUT_BITS.append(output_bit)\n",
    "\n",
    "        output_bit_to_nzb_list[output_bit].append(nzb)\n",
    "\n",
    "    POINTS = np.vstack(POINTS)\n",
    "    POINT_OUTPUT_BITS = np.hstack(POINT_OUTPUT_BITS)\n",
    "    assert np.all(POINTS.sum(axis=1) == HP_POINT_NON_ZERO_BITS)\n",
    "    assert POINTS.shape[0] == POINT_OUTPUT_BITS.shape[0]\n",
    "\n",
    "    for output_bit, nzb_list in tqdm(output_bit_to_nzb_list.items(), desc='Save'):\n",
    "        params = {\n",
    "            'encoding': HP_SIGNAL_ENCODING, \n",
    "            'count': HP_POINTS_COUNT,\n",
    "            'non_zero_bits': HP_POINT_NON_ZERO_BITS,\n",
    "            'output_bit': int(output_bit),\n",
    "            'nzb_list': pickle.dumps(nzb_list),\n",
    "            }\n",
    "        transfs_db_con.execute('INSERT INTO points(encoding, count, non_zero_bits, output_bit, nzb_list) ' + \n",
    "                               'VALUES(:encoding, :count, :non_zero_bits, :output_bit, :nzb_list)', params)\n",
    "    \n",
    "    print(f'{POINTS.shape[0]:_} POINTS created from scratch')"
   ]
  },
  {
   "cell_type": "markdown",
   "id": "454d74a8-397e-42b6-af1e-18437ef2f791",
   "metadata": {},
   "source": [
    "## .lab hdc"
   ]
  },
  {
   "cell_type": "code",
   "execution_count": 53,
   "id": "8a77cf8e-74e7-408e-83ed-bf28a26b2875",
   "metadata": {},
   "outputs": [],
   "source": [
    "# hdc = Hdc(10_000, np, dtype='f')\n",
    "# hdc.bundle = hdc.bundle_noties\n",
    "# hdc.cos_sim_threshold = 0.055\n",
    "# hdc.hdist_threshold = 4700\n",
    "\n",
    "hdc = Hdc(1_000, np, dtype='f')\n",
    "hdc.bundle = hdc.bundle_noties\n",
    "hdc.cos_sim_threshold = 0.10\n",
    "\n",
    "# hdc = Hdc(2_000, np, dtype='f')\n",
    "# hdc.bundle = hdc.bundle_noties\n",
    "# hdc.cos_sim_threshold = 0.10"
   ]
  },
  {
   "cell_type": "code",
   "execution_count": 54,
   "id": "69ac53e2-f39a-4e59-abfd-2b5eeb834122",
   "metadata": {},
   "outputs": [],
   "source": [
    "PIXEL_HDVS = hdc(config.sample_size ** 2)\n",
    "PIXEL_HDVS_NORM = hdc.normalize(PIXEL_HDVS)"
   ]
  },
  {
   "cell_type": "code",
   "execution_count": 55,
   "id": "af16ae38-e56f-48df-85c5-426649ab275a",
   "metadata": {},
   "outputs": [
    {
     "data": {
      "image/png": "[encoded data removed]",
      "text/plain": [
       "<Figure size 1200x480 with 2 Axes>"
      ]
     },
     "metadata": {},
     "output_type": "display_data"
    }
   ],
   "source": [
    "image_id = RNG.choice(df_train_images.index)\n",
    "image = next(df_train_images.loc[[image_id]].itertuples())\n",
    "si_ind_dict = pickle.loads(image.inner_si_ind_dict)\n",
    "sequences = pickle.loads(image.inner_sequences)\n",
    "seq = get_sequence(sequences)\n",
    "seq_xy = get_xy_sequence(seq, si_ind_dict)\n",
    "ii = np.all(((seq_xy >= 0) & (seq_xy < config.sample_size)), axis=1) \n",
    "seq_xy = seq_xy[ii]\n",
    "ind_seq = (seq_xy @ np.array([1, config.sample_size])).astype(int)\n",
    "seq_bv_true = np.zeros((config.sample_size, config.sample_size)).ravel()\n",
    "seq_bv_true[ind_seq] = 1\n",
    "\n",
    "seq_hdv = hdc.bundle(PIXEL_HDVS[ind_seq])\n",
    "seq_hdv_binary = hdc.to_binary(seq_hdv)\n",
    "seq_hdv_bipolar = hdc.to_bipolar(seq_hdv_binary)\n",
    "seq_hdv_bipolar_norm = hdc.normalize(seq_hdv_bipolar)\n",
    "pixel_hdv_inds = np.argwhere((PIXEL_HDVS_NORM @ seq_hdv_bipolar_norm) > hdc.cos_sim_threshold).ravel()\n",
    "seq_bv = np.zeros((config.sample_size, config.sample_size)).ravel()\n",
    "seq_bv[pixel_hdv_inds] = 1\n",
    "\n",
    "error_level = np.count_nonzero(seq_bv != seq_bv_true)\n",
    "\n",
    "fig, (ax1, ax2) = plt.subplots(1, 2)\n",
    "fig.set_figwidth(12)\n",
    "ax1.set_title(f'image_id={image_id}, points={len(ind_seq)}')\n",
    "ax1.imshow(seq_bv_true.reshape(config.sample_size, -1));\n",
    "ax2.set_title(f'err.={error_level}')\n",
    "ax2.set_title(f'N={seq_hdv.shape[0]} / {seq_hdv_binary.sum():.0f}, err.={error_level}')\n",
    "ax2.imshow(seq_bv.reshape(config.sample_size, -1));"
   ]
  },
  {
   "cell_type": "code",
   "execution_count": 56,
   "id": "93bd685d-76e0-4de1-a67b-6a61e9a2c29b",
   "metadata": {},
   "outputs": [
    {
     "data": {
      "image/jpeg": "[encoded data removed]",
      "image/png": "[encoded data removed]",
      "text/plain": [
       "<PIL.PngImagePlugin.PngImageFile image mode=L size=128x128>"
      ]
     },
     "execution_count": 56,
     "metadata": {},
     "output_type": "execute_result"
    }
   ],
   "source": [
    "get_raw_image(image_id)"
   ]
  },
  {
   "cell_type": "markdown",
   "id": "582ad609-9873-4ab3-830f-488d15ecf505",
   "metadata": {},
   "source": [
    "## .lab sbv"
   ]
  },
  {
   "cell_type": "code",
   "execution_count": 57,
   "id": "9d858d2c-11f8-4b20-a572-c9c1edcfaf55",
   "metadata": {},
   "outputs": [],
   "source": [
    "# # image_id = RNG.choice(df_train_images.index)\n",
    "# # image_id = 44917 # 60 points\n",
    "# image = next(df_train_images.loc[[image_id]].itertuples())\n",
    "# si_ind_dict = pickle.loads(image.inner_si_ind_dict)\n",
    "# sequences = pickle.loads(image.inner_sequences)\n",
    "# seq = get_sequence(sequences)\n",
    "# seq_xy = get_xy_sequence(seq, si_ind_dict)\n",
    "# ii = np.all(((seq_xy >= 0) & (seq_xy < config.sample_size)), axis=1) \n",
    "# seq_xy = seq_xy[ii]\n",
    "# ind_seq = (seq_xy @ np.array([1, config.sample_size])).astype(int)\n",
    "# seq_bv_true = np.zeros((config.sample_size, config.sample_size)).ravel()\n",
    "# seq_bv_true[ind_seq] = 1\n",
    "\n",
    "# # seq_sbv = np.where(np.sum(PIXELS[ind_seq], axis=0) > 0, 1, 0) # aka Bloom filter\n",
    "# seq_sbv = calc_seq_sbv(seq_xy)\n",
    "# # pixel_sbv_inds = np.argwhere((PIXELS @ seq_sbv) >= SBV_NON_ZERO_INDS).ravel()\n",
    "# # seq_bv = np.zeros((config.sample_size, config.sample_size)).ravel()\n",
    "# # seq_bv[pixel_sbv_inds] = 1\n",
    "# seq_bv = seq_sbv_to_bv(seq_sbv)\n",
    "\n",
    "# error_level = np.count_nonzero(seq_bv != seq_bv_true)\n",
    "\n",
    "# fig, (ax1, ax2) = plt.subplots(1, 2)\n",
    "# fig.set_figwidth(12)\n",
    "# ax1.set_title(f'image_id={image_id}, points={len(ind_seq)}')\n",
    "# ax1.imshow(seq_bv_true.reshape(config.sample_size, -1))\n",
    "# ax2.set_title(f'sbv={seq_sbv.shape[0]} / {seq_sbv.sum()}, non_zero_inds={HP_SIGNAL_VEC_NON_ZERO_BITS}, err.={error_level}')\n",
    "# ax2.imshow(seq_bv.reshape(config.sample_size, -1));"
   ]
  },
  {
   "cell_type": "markdown",
   "id": "8a40ec0a-891b-4385-88c3-6699bf574057",
   "metadata": {},
   "source": [
    "# Train"
   ]
  },
  {
   "cell_type": "markdown",
   "id": "f68c0e28-fa7e-4f59-8696-f6f22e705f4b",
   "metadata": {},
   "source": [
    "## Parameters"
   ]
  },
  {
   "cell_type": "code",
   "execution_count": 58,
   "id": "145172a9-54d1-4563-a7ab-cde78584810c",
   "metadata": {},
   "outputs": [],
   "source": [
    "LOG.is_enabled = True"
   ]
  },
  {
   "cell_type": "code",
   "execution_count": 59,
   "id": "66c512a5-916f-4a20-b37c-e0369e7d65c8",
   "metadata": {},
   "outputs": [],
   "source": [
    "HP_CLUSTER_ONES_COUNT_THRES = 6\n",
    "HP_CLUSTER_CREATION_ONES_COUNT_THRES = 7\n",
    "HP_CLUSTER_BINARIZATION_SCHEDULE_SIZE = 2\n",
    "HP_CLUSTER_LEARN_BINARIZATION_SCHEDULE = ensure_len(np.array([5, 10], dtype='i'), HP_CLUSTER_BINARIZATION_SCHEDULE_SIZE)\n",
    "HP_CLUSTER_RELEARN_BINARIZATION_SCHEDULE = ensure_len(np.array([5, 0], dtype='i'), HP_CLUSTER_BINARIZATION_SCHEDULE_SIZE)\n",
    "HP_CLUSTER_BINARIZE_THRES = 0.75\n",
    "HP_CLUSTER_PROD_WORK_SIGNALS_PROCESSED_THRES = 10\n",
    "HP_CLUSTER_PROD_WORK_ACCURACY_THRES = 0.9\n",
    "HP_CLUSTER_PROD_ETERNAL_SIGNALS_PROCESSED_THRES = 100\n",
    "HP_CLUSTER_PROD_ETERNAL_ACCURACY_THRES = 0.98\n",
    "        \n",
    "HP_LEARN_CLUSTERS_COUNT_SOFT_LIMIT = 300_000\n",
    "HP_PROD_CANDIDATE_CLUSTERS_COUNT_SOFT_LIMIT = 100_000\n",
    "HP_PROD_WORK_CLUSTERS_COUNT_SOFT_LIMIT = 100_000\n",
    "\n",
    "HP_EPOCHS_COUNT = 1\n",
    "HP_OUTPUT_BITS_PER_BATCH = 250\n",
    "HP_NEW_SIGNALS_COUNT_PER_CYCLE = min(100, len(df_train_images))\n",
    "# HP_PERSIST_PROD_CLUSTERS_INTERVAL = 100\n",
    "HP_PERSIST_PROD_CLUSTERS_INTERVAL = 999_999\n",
    "HP_RESET_LEARN_CLUSTERS_INTERVAL = 100\n",
    "# HP_CYCLES_COUNT = math.ceil(ACTIVE_PIXEL_FEATURES_COUNT / HP_RESET_LEARN_CLUSTERS_INTERVAL) * HP_RESET_LEARN_CLUSTERS_INTERVAL\n",
    "HP_CYCLES_COUNT = 1000"
   ]
  },
  {
   "cell_type": "markdown",
   "id": "9d2d12c1-5b24-40f8-8744-d7163d4dd132",
   "metadata": {},
   "source": [
    "## persist_prod_clusters"
   ]
  },
  {
   "cell_type": "code",
   "execution_count": 60,
   "id": "f66fc018-bf78-4703-9545-b5096cf011ea",
   "metadata": {},
   "outputs": [],
   "source": [
    "def persist_prod_clusters():\n",
    "    persisted_count = 0\n",
    "    output_bit_to_prod_cluster_metas = defaultdict(list)\n",
    "    \n",
    "    for meta in CLUSTER_METAS.values():\n",
    "        output_bit_to_prod_cluster_metas[meta.output_bit].append(meta)\n",
    "    \n",
    "    for output_bit, metas in output_bit_to_prod_cluster_metas.items():\n",
    "        cluster_inds = list(map(lambda m: m.cluster_ind, metas))\n",
    "        # Leave only super clusters, i.e. clusters which are not subsets of any other clusters\n",
    "        clusters = CLUSTERS.array[cluster_inds]\n",
    "        cluster_ones_counts = clusters.sum(axis=1)\n",
    "        crossings = (clusters @ clusters.T)\n",
    "        crossings[xp.diag_indices_from(crossings)] = 0\n",
    "        super_clusters_boolmap = ~xp.any((crossings.T >= cluster_ones_counts).T, axis=1)\n",
    "    \n",
    "        clusters = xp_array_from_gpu(clusters[super_clusters_boolmap])\n",
    "        super_clusters_boolmap = xp_array_from_gpu(super_clusters_boolmap)\n",
    "        \n",
    "        nzb_list = list(map(sbv_to_nzb, clusters))\n",
    "        pickled_nzb_list = pickle.dumps(nzb_list)\n",
    "        pickled_metas = pickle.dumps(list(map(lambda x: x[1], filter(lambda x: x[0], zip(super_clusters_boolmap, metas)))))\n",
    "        # Changing autocommit to False will open a new transaction, and changing it to True will commit any pending transaction.\n",
    "        # https://docs.python.org/3/library/sqlite3.html#connection-objects\n",
    "        transfs_db_con.autocommit = False\n",
    "        transfs_db_con.execute('DELETE FROM clusters WHERE encoding=:encoding AND transf_code=:transf_code AND output_bit=:output_bit',\n",
    "                               {'encoding': HP_SIGNAL_ENCODING, 'transf_code': TRANSF_CODE, 'output_bit': output_bit})\n",
    "        transfs_db_con.execute('INSERT INTO clusters (encoding, transf_code, output_bit, metas, nzb_list) VALUES (:encoding, :transf_code, :output_bit, :metas, :nzb_list)',\n",
    "                               {'encoding': HP_SIGNAL_ENCODING, 'transf_code': TRANSF_CODE, 'output_bit': output_bit, 'metas': pickled_metas, 'nzb_list': pickled_nzb_list})\n",
    "        transfs_db_con.autocommit = True\n",
    "        persisted_count += clusters.shape[0]\n",
    "        LOG(f'Persisted {clusters.shape[0]} (of {len(cluster_inds)}) super clusters for output bit {output_bit}')\n",
    "    \n",
    "    LOG(f'Persisted {persisted_count} clusters in total for encoding=\"{HP_SIGNAL_ENCODING}\" and transf_code=\"{TRANSF_CODE}\"')"
   ]
  },
  {
   "cell_type": "markdown",
   "id": "d846f281-3582-4362-8b2e-e7f295d37550",
   "metadata": {},
   "source": [
    "## Sidecars"
   ]
  },
  {
   "cell_type": "code",
   "execution_count": 61,
   "id": "07cc803f-ed2d-4fad-8552-c6c773bf84f1",
   "metadata": {},
   "outputs": [],
   "source": [
    "class LearnClustersSidecar(HdvArrayObserver):\n",
    "    def __init__(self):\n",
    "        # HOT GPU related arrays. Change in CUDA kernels only to avoid manyfold slowdowns!\n",
    "        self.masks = xp.array([], dtype='f')\n",
    "        self.output_bits = xp.array([], dtype='i')\n",
    "        self.nus = xp.array([], dtype='f')\n",
    "        self.binarization_schedules = xp.array([], dtype='i')\n",
    "        self.binarization_countdowns = xp.array([], dtype='i')\n",
    "        \n",
    "        # Cold arrays, may be changed from CPU side at low-cost\n",
    "        self.cluster_states_counter = Counter() \n",
    "        self.cluster_states = [] \n",
    "        self.is_present_boolmap = np.array([], dtype=bool)\n",
    "        self.is_dead_boolmap = np.array([], dtype=bool)\n",
    "        self.is_promotable_boolmap = np.array([], dtype=bool)\n",
    "\n",
    "    def size_changed(self, new_size):\n",
    "        self.masks = xp.resize(self.masks, (new_size, HP_SIGNAL_VEC_LEN))\n",
    "        self.output_bits = xp.resize(self.output_bits, new_size)\n",
    "        self.nus = xp.resize(self.nus, new_size)\n",
    "        self.binarization_schedules = xp.resize(self.binarization_schedules, (new_size, HP_CLUSTER_BINARIZATION_SCHEDULE_SIZE))\n",
    "        self.binarization_countdowns = xp.resize(self.binarization_countdowns, new_size)\n",
    "        \n",
    "        # ndarray.resize if faster than np.resize and fills new space with zeros unlike np.resize. Unfortunately cupy doesn't have ndarray.resize\n",
    "        assert new_size > len(self.cluster_states)\n",
    "        self.cluster_states = self.cluster_states + [''] * (new_size - len(self.cluster_states))\n",
    "        self.is_present_boolmap.resize(new_size, refcheck=False)\n",
    "        self.is_dead_boolmap.resize(new_size, refcheck=False)\n",
    "        self.is_promotable_boolmap.resize(new_size, refcheck=False)\n",
    "\n",
    "    def sync(self, cluster_meta):\n",
    "        cluster_ind = cluster_meta.cluster_ind\n",
    "        old_cluster_state = self.cluster_states[cluster_ind]\n",
    "\n",
    "        if old_cluster_state:\n",
    "            self.cluster_states_counter[old_cluster_state] -= 1\n",
    "            \n",
    "        self.cluster_states[cluster_ind] = cluster_meta.state.name\n",
    "        self.cluster_states_counter[cluster_meta.state.name] += 1\n",
    "\n",
    "        self.is_present_boolmap[cluster_ind] = True\n",
    "        self.is_dead_boolmap[cluster_ind] = cluster_meta.state == ClusterState.DEAD\n",
    "        is_promotable = cluster_meta.state == ClusterState.LEARN and False # not cluster_meta.binarization_schedule\n",
    "        self.is_promotable_boolmap[cluster_ind] = is_promotable\n",
    "\n",
    "    def remove(self, cluster_ind):\n",
    "        # Don't update arrays on GPU side. Manyfold slowdown!!!\n",
    "        # self.masks, self.output_bits, self.nus, ...\n",
    "        \n",
    "        old_cluster_state = self.cluster_states[cluster_ind]\n",
    "\n",
    "        if old_cluster_state:\n",
    "            self.cluster_states_counter[old_cluster_state] -= 1\n",
    "            assert self.cluster_states_counter[old_cluster_state] >= 0\n",
    "            \n",
    "        self.cluster_states[cluster_ind] = ''\n",
    "        self.is_present_boolmap[cluster_ind] = False\n",
    "        self.is_dead_boolmap[cluster_ind] = False\n",
    "        self.is_promotable_boolmap[cluster_ind] = False\n",
    "\n",
    "class ClustersSidecar(HdvArrayObserver):\n",
    "    def __init__(self):\n",
    "        self.cluster_states_counter = Counter()\n",
    "        self.cluster_states = []\n",
    "        \n",
    "        self.output_bits = np.array([], dtype='i')\n",
    "        self.ones_counts = np.array([], dtype='f')\n",
    "\n",
    "        self.is_dead_boolmap = np.array([], dtype=bool)\n",
    "        self.is_verifiable_boolmap = np.array([], dtype=bool)\n",
    "        self.is_promotable_to_prod_work_boolmap = np.array([], dtype=bool)\n",
    "        self.is_prod_candidate_boolmap = np.array([], dtype=bool)\n",
    "        self.is_prod_work_boolmap = np.array([], dtype=bool)\n",
    "\n",
    "    def size_changed(self, new_size):\n",
    "        assert new_size > len(self.cluster_states)\n",
    "        self.cluster_states = self.cluster_states + [''] * (new_size - len(self.cluster_states))\n",
    "        \n",
    "        self.output_bits.resize(new_size, refcheck=False)\n",
    "        self.ones_counts.resize(new_size, refcheck=False)\n",
    "\n",
    "        self.is_dead_boolmap.resize(new_size, refcheck=False)\n",
    "        self.is_verifiable_boolmap.resize(new_size, refcheck=False)\n",
    "        self.is_promotable_to_prod_work_boolmap.resize(new_size, refcheck=False)\n",
    "        self.is_prod_candidate_boolmap.resize(new_size, refcheck=False)\n",
    "        self.is_prod_work_boolmap.resize(new_size, refcheck=False)\n",
    "\n",
    "    def sync(self, cluster_meta):\n",
    "        cluster_ind = cluster_meta.cluster_ind\n",
    "        old_cluster_state = self.cluster_states[cluster_ind]\n",
    "\n",
    "        if old_cluster_state:\n",
    "            self.cluster_states_counter[old_cluster_state] -= 1\n",
    "            \n",
    "        self.cluster_states[cluster_ind] = cluster_meta.state.name\n",
    "        self.cluster_states_counter[cluster_meta.state.name] += 1\n",
    "        \n",
    "        self.output_bits[cluster_ind] = cluster_meta.output_bit\n",
    "        self.ones_counts[cluster_ind] = cluster_meta.ones_count\n",
    "\n",
    "        self.is_dead_boolmap[cluster_ind] = cluster_meta.state == ClusterState.DEAD\n",
    "        self.is_verifiable_boolmap[cluster_ind] = cluster_meta.state in [ClusterState.PROD_CANDIDATE, ClusterState.PROD_WORK]\n",
    "        is_promotable = cluster_meta.state == ClusterState.PROD_CANDIDATE and len(cluster_meta.verify_signal_ids) >= HP_CLUSTER_PROD_WORK_SIGNALS_PROCESSED_THRES\n",
    "        self.is_promotable_to_prod_work_boolmap[cluster_ind] = is_promotable\n",
    "        self.is_prod_candidate_boolmap[cluster_ind] = cluster_meta.state == ClusterState.PROD_CANDIDATE\n",
    "        self.is_prod_work_boolmap[cluster_ind] = cluster_meta.state == ClusterState.PROD_WORK\n",
    "\n",
    "    def remove(self, cluster_ind):\n",
    "        old_cluster_state = self.cluster_states[cluster_ind]\n",
    "\n",
    "        if old_cluster_state:\n",
    "            self.cluster_states_counter[old_cluster_state] -= 1\n",
    "            \n",
    "        self.cluster_states[cluster_ind] = ''\n",
    "        \n",
    "        self.output_bits[cluster_ind] = -1\n",
    "        self.ones_counts[cluster_ind] = -1\n",
    "\n",
    "        self.is_dead_boolmap[cluster_ind] = False\n",
    "        self.is_verifiable_boolmap[cluster_ind] = False\n",
    "        self.is_promotable_to_prod_work_boolmap[cluster_ind] = False\n",
    "        self.is_prod_candidate_boolmap[cluster_ind] = False\n",
    "        self.is_prod_work_boolmap[cluster_ind] = False"
   ]
  },
  {
   "cell_type": "markdown",
   "id": "09980b25-5c52-438f-9e97-5e9d87f90775",
   "metadata": {},
   "source": [
    "## CUDA Kernels"
   ]
  },
  {
   "cell_type": "markdown",
   "id": "78583d8f-54bd-41e0-b3f4-dbfc4a8cf8d9",
   "metadata": {},
   "source": [
    "### cuda_get_source_data_for_new_clusters"
   ]
  },
  {
   "cell_type": "code",
   "execution_count": 62,
   "id": "599ba982-6298-4ea3-98ce-cfe6b92951ae",
   "metadata": {},
   "outputs": [],
   "source": [
    "cuda_get_source_data_for_new_clusters = cp.RawKernel(r'''\n",
    "extern \"C\" __global__\n",
    "void get_source_data_for_new_clusters(\n",
    "    // INPUT\n",
    "    const int theHpVecLen,\n",
    "    const int theHpPointNonZeroBits,\n",
    "    const int theHpCreationOnesCountThres,\n",
    "    const float * const theSignalInput, // vector[theHpVecLen]\n",
    "    const int thePointsCount,\n",
    "    const int * const thePointInds, // vector[thePointsCount] - mapping from local pointInds to real pointInds\n",
    "    const float * const thePoints,    // matrix[**realPointsCount**][theHpVecLen]\n",
    "    // OUTPUT DATA\n",
    "    int * const theNzbCounts, // vector[thePointsCount]\n",
    "    int * const theNzbs // matrix[thePointsCount][theHpPointNonZeroBits],\n",
    ") { \n",
    "    const int localPointInd = blockDim.x * blockIdx.x + threadIdx.x;\n",
    "\n",
    "    if(localPointInd >= thePointsCount)\n",
    "        return;\n",
    "\n",
    "    const int pointInd = thePointInds[localPointInd];\n",
    "    const auto pointsPtrOffset = pointInd * theHpVecLen;\n",
    "    const float * const point = thePoints + pointsPtrOffset;\n",
    "    int * const nzb = theNzbs + localPointInd * theHpPointNonZeroBits;\n",
    "    int nzbInd = 0;\n",
    "\n",
    "    for(int i = 0; i < theHpVecLen; i++) {\n",
    "        if(point[i] > 0 && theSignalInput[i] > 0) {\n",
    "            if(nzbInd >= theHpPointNonZeroBits) {\n",
    "                asm(\"trap;\");\n",
    "            }\n",
    "            \n",
    "            nzb[nzbInd] = i;\n",
    "            nzbInd++;\n",
    "        }\n",
    "    }\n",
    "\n",
    "    theNzbCounts[localPointInd] = nzbInd >= theHpCreationOnesCountThres ? nzbInd : 0;\n",
    "}\n",
    "''', 'get_source_data_for_new_clusters')\n",
    "cuda_get_source_data_for_new_clusters.compile()"
   ]
  },
  {
   "cell_type": "markdown",
   "id": "04bd62f5-7ee3-42e8-a6e8-f735ad6e3f55",
   "metadata": {},
   "source": [
    "### cuda_init_new_clusters"
   ]
  },
  {
   "cell_type": "code",
   "execution_count": 63,
   "id": "72e24fa5-e241-4463-964f-5c3991148f54",
   "metadata": {},
   "outputs": [],
   "source": [
    "cuda_init_learn_clusters = cp.RawKernel(r'''\n",
    "#include <assert.h>\n",
    "\n",
    "extern \"C\" __global__\n",
    "void init_learn_clusters(\n",
    "    // INPUT\n",
    "    const int theHpVecLen,\n",
    "    const int theHpPointNonZeroBits,\n",
    "    const int theHpBinarizationScheduleSize,\n",
    "    const int * const theHpBinarizationScheduleTemplate, // vector[theHpBinarizationScheduleSize]\n",
    "    const int theClustersCount,\n",
    "    const int * const theClusterInds, // vector[theClustersCount]\n",
    "    const int * const theClusterOutputBitsLocal, // vector[theClustersCount]\n",
    "    const int * const theClusterNzbCounts, // vector[theClustersCount], may be null in which case we assume that theClusters is already initialized\n",
    "    const int * const theClusterNzbs, // matrix[theClustersCount][theHpPointNonZeroBits], may be null in which case we assume that theClusters is already initialized\n",
    "    // OUTPUT\n",
    "    float * const theClusters, // matrix[**realClustersCount**][theHpVecLen] \n",
    "    float * const theClusterMasks, // matrix[**realClustersCount**][theHpVecLen]\n",
    "    int * const theClusterOutputBits, // vector[**realClustersCount**]\n",
    "    float * const theClusterNus, // vector[**realClustersCount**]\n",
    "    int * const theClusterBinarizationSchedules, // matrix[**realClustersCount**][theHpBinarizationScheduleSize]\n",
    "    int * const theClusterBinarizationCountdowns // vector[**realClustersCount**]\n",
    ") { \n",
    "    const int localClusterInd = blockDim.x * blockIdx.x + threadIdx.x;\n",
    "\n",
    "    if(localClusterInd >= theClustersCount)\n",
    "        return;\n",
    "\n",
    "    const int clusterInd = theClusterInds[localClusterInd];\n",
    "    const auto clustersPtrOffset = clusterInd * theHpVecLen;\n",
    "    float * const cluster = theClusters + clustersPtrOffset;\n",
    "    float * const clusterMask = theClusterMasks + clustersPtrOffset;\n",
    "    int nzbCount = 0;\n",
    "\n",
    "    if(theClusterNzbCounts && theClusterNzbs) {\n",
    "        // Init cluster and masks from NZB data\n",
    "        nzbCount = theClusterNzbCounts[localClusterInd]; // aka onesCount\n",
    "        const int * const nzb = theClusterNzbs + localClusterInd * theHpPointNonZeroBits;\n",
    "        \n",
    "        memset(cluster, 0, sizeof(cluster[0]) * theHpVecLen);\n",
    "        memset(clusterMask, 0, sizeof(cluster[0]) * theHpVecLen);\n",
    "    \n",
    "        for(int i = 0; i < nzbCount; i++) {\n",
    "            const int bitNo = nzb[i];\n",
    "            cluster[bitNo] = 1;\n",
    "            clusterMask[bitNo] = 1;\n",
    "        }\n",
    "    }\n",
    "    else {\n",
    "        // Cluster is already initialized, so use its data\n",
    "        memcpy(clusterMask, cluster, sizeof(cluster[0]) * theHpVecLen);\n",
    "\n",
    "        for(int i = 0; i < theHpVecLen; i++)\n",
    "            nzbCount += cluster[i] > 0 ? 1 : 0;\n",
    "    }\n",
    "\n",
    "    theClusterOutputBits[clusterInd] = theClusterOutputBitsLocal[localClusterInd];\n",
    "    theClusterNus[clusterInd] = 1.0f / nzbCount;\n",
    "    memcpy(\n",
    "        theClusterBinarizationSchedules + clusterInd * theHpBinarizationScheduleSize, \n",
    "        theHpBinarizationScheduleTemplate, \n",
    "        theHpBinarizationScheduleSize * sizeof(theHpBinarizationScheduleTemplate[0]));\n",
    "    theClusterBinarizationCountdowns[clusterInd] = theHpBinarizationScheduleTemplate[0];\n",
    "}\n",
    "''', 'init_learn_clusters', backend='nvcc')\n",
    "cuda_init_learn_clusters.compile()"
   ]
  },
  {
   "cell_type": "markdown",
   "id": "37d190e8-0822-4061-ae4f-fbd949e3e7b0",
   "metadata": {},
   "source": [
    "### cuda_learn_clusters"
   ]
  },
  {
   "cell_type": "code",
   "execution_count": 64,
   "id": "8c65ca16-a14b-410d-8b99-1a6b1119823e",
   "metadata": {},
   "outputs": [],
   "source": [
    "cuda_learn_clusters = cp.RawKernel(r'''\n",
    "#include <assert.h>\n",
    "\n",
    "extern \"C\" __device__\n",
    "void binarize_cluster(\n",
    "    // INPUT\n",
    "    const int theHpVecLen,\n",
    "    const int theHpPointNonZeroBits,\n",
    "    const float theHpBinarizeThres,\n",
    "    const int theHpBinarizationScheduleSize,\n",
    "    // INPUT-OUTPUT \n",
    "    float * theCluster,    // vector[theHpVecLen]\n",
    "    float * const theMask, // vector[theHpVecLen]\n",
    "    float * const theNu, // pointer to scalar\n",
    "    int * const theBinarizationSchedule, // vector[theHpBinarizationScheduleSize]\n",
    "    int * const theBinarizationCountdown, // pointer to scalar\n",
    "    // OUTPUT\n",
    "    int * const theNzbCount, // pointer to scalar\n",
    "    int * const theNzb, // vector[theHpPointNonZeroBits]\n",
    "    bool * const theIsReady // pointer to scalar\n",
    ") {\n",
    "    assert(!*theIsReady);\n",
    "    int nzbInd = 0;\n",
    "\n",
    "    for(int i = 0; i < theHpVecLen; i++) {\n",
    "        const int v = theCluster[i] > theHpBinarizeThres ? 1 : 0;\n",
    "        theCluster[i] = v;\n",
    "        theMask[i] = v;\n",
    "        \n",
    "        if(v > 0) {\n",
    "            assert(nzbInd < theHpPointNonZeroBits);\n",
    "            theNzb[nzbInd] = i;\n",
    "            nzbInd++;\n",
    "        }\n",
    "    }\n",
    "      \n",
    "    *theNzbCount = nzbInd;\n",
    "    *theNu = 1.0f / nzbInd;\n",
    "    \n",
    "    // Can't use memmove within __device__ function =(, so do array rolling by hand\n",
    "    for(int i = 0; i < theHpBinarizationScheduleSize - 1; i++)\n",
    "        theBinarizationSchedule[i] = theBinarizationSchedule[i + 1];\n",
    "        \n",
    "    theBinarizationSchedule[theHpBinarizationScheduleSize - 1] = 0;\n",
    "    *theBinarizationCountdown = theBinarizationSchedule[0];\n",
    "    *theIsReady = *theBinarizationCountdown == 0;\n",
    "}\n",
    "\n",
    "extern \"C\" __global__\n",
    "void learn_clusters(\n",
    "    // INPUT\n",
    "    const int theHpVecLen,\n",
    "    const int theHpPointNonZeroBits,\n",
    "    const float theHpBinarizeThres,\n",
    "    const int theHpClusterOnesCountThres,\n",
    "    const int theHpBinarizationScheduleSize,\n",
    "    const int theSignalsCount,\n",
    "    const float * const theSignalsInput,  // matrix[theSignalsCount][theHpVecLen]\n",
    "    const float * const theSignalsOutput,  // matrix[theSignalsCount][theHpVecLen]\n",
    "    const int theClustersCount,\n",
    "    const int * const theClusterInds, // vector[theClustersCount], mapping from local clusterInd to real clusterInd\n",
    "    const int * const theClusterOutputBits, // vector[theClustersCount]\n",
    "    // INPUT-OUTPUT (results are retained over calls, i.e. non-idempotent)\n",
    "    float * theClusters,    // matrix[**realClustersCount**][theHpVecLen]\n",
    "    float * const theClusterMasks, // matrix[**realClustersCount**][theHpVecLen]\n",
    "    float * const theClusterNus, // vector[**realClustersCount**]\n",
    "    int * const theClusterBinarizationSchedules, // matrix[**realClustersCount**][theHpBinarizationScheduleSize]\n",
    "    int * const theClusterBinarizationCountdowns, // vector[**realClustersCount**]\n",
    "    // OUTPUT\n",
    "    int * const theClusterNzbCounts, // vector[theClustersCount]\n",
    "    int * const theClusterNzbs, // matrix[theClustersCount][theHpPointNonZeroBits]\n",
    "    bool * const theClusterIsChangedBoolmap, // vector[theClustersCount]\n",
    "    bool * const theClusterIsBinarizedBoolmap, // vector[theClustersCount]\n",
    "    bool * const theClusterIsReadyBoolmap // vector[theClustersCount]\n",
    ") { \n",
    "    const int localClusterInd = blockDim.x * blockIdx.x + threadIdx.x;\n",
    "\n",
    "    if(localClusterInd >= theClustersCount)\n",
    "        return;\n",
    "\n",
    "    // attend to local output data\n",
    "    int * const nzbCount = &theClusterNzbCounts[localClusterInd];\n",
    "    int * const nzb = theClusterNzbs + localClusterInd * theHpPointNonZeroBits;\n",
    "    bool * const isChanged = &theClusterIsChangedBoolmap[localClusterInd];\n",
    "    bool * const isBinarized = &theClusterIsBinarizedBoolmap[localClusterInd];\n",
    "    bool * const isReady = &theClusterIsReadyBoolmap[localClusterInd];\n",
    "\n",
    "    // attend to real output data\n",
    "    const int clusterInd = theClusterInds[localClusterInd];\n",
    "    const int outputBit = theClusterOutputBits[clusterInd];\n",
    "    const auto clustersPtrOffset = clusterInd * theHpVecLen;\n",
    "    float * const cluster = theClusters + clustersPtrOffset;\n",
    "    float * const mask = theClusterMasks + clustersPtrOffset;\n",
    "    float * const nu = &theClusterNus[clusterInd];\n",
    "    int * const binarizationSchedule = theClusterBinarizationSchedules + clusterInd * theHpBinarizationScheduleSize;\n",
    "    int * const binarizationCountdown = &theClusterBinarizationCountdowns[clusterInd];\n",
    "\n",
    "    {\n",
    "        int nzbInd = 0;\n",
    "\n",
    "        for(int i = 0; i < theHpVecLen; i++) {\n",
    "            if(mask[i] > 0) {\n",
    "                assert(nzbInd < theHpPointNonZeroBits);\n",
    "                nzb[nzbInd] = i;\n",
    "                nzbInd++;\n",
    "            }\n",
    "            const bool isOk = (mask[i] > 0 && cluster[i] > 0) || (mask[i] == 0 && cluster[i] == 0);\n",
    "\n",
    "            if(!isOk)\n",
    "                printf(\"kms@ clusterInd=%d, i=%d, cluster[i]=%f, mask[i]=%f\\n\", clusterInd, i, cluster[i], mask[i]);\n",
    "                \n",
    "            assert(isOk);\n",
    "        }\n",
    "\n",
    "        *nzbCount = nzbInd;\n",
    "    }\n",
    "\n",
    "    *isChanged = false;\n",
    "    *isBinarized = false;\n",
    "    assert(*binarizationCountdown >= 0);\n",
    "    *isReady = *binarizationCountdown == 0 && binarizationSchedule[0] == 0;\n",
    "\n",
    "    if(*isReady)\n",
    "        return;\n",
    "\n",
    "    for(int signalInd = 0; signalInd < theSignalsCount && !*isReady; signalInd++) {\n",
    "        if(*binarizationCountdown <= 0) {\n",
    "            binarize_cluster(\n",
    "                theHpVecLen, theHpPointNonZeroBits, theHpBinarizeThres, theHpBinarizationScheduleSize,\n",
    "                cluster, mask, nu, binarizationSchedule, binarizationCountdown,\n",
    "                nzbCount, nzb, isReady\n",
    "            );\n",
    "            *isChanged = false;\n",
    "            *isBinarized = true;\n",
    "\n",
    "            assert(*binarizationCountdown >= 0);\n",
    "            assert((*binarizationCountdown == 0 && *isReady) || (*binarizationCountdown > 0 && !*isReady));\n",
    "            \n",
    "            if(*isReady) \n",
    "                continue;\n",
    "        }\n",
    "    \n",
    "        const auto signalsPtrOffset = signalInd * theHpVecLen;\n",
    "        const float * const signalInput = theSignalsInput + signalsPtrOffset;\n",
    "        const float * const signalOutput = theSignalsOutput + signalsPtrOffset;\n",
    "    \n",
    "        if(!signalOutput[outputBit])\n",
    "            continue;\n",
    "    \n",
    "        float activationStrength = 0.0f;\n",
    "        int bitsTouched = 0;\n",
    "        \n",
    "        for(int i = 0; i < theHpVecLen; i++) {\n",
    "            const int inputBitValue = signalInput[i]; // binary value (1 or 0)\n",
    "            activationStrength += inputBitValue ? cluster[i] : 0;\n",
    "            bitsTouched += inputBitValue ? mask[i] : 0;\n",
    "        }\n",
    "    \n",
    "        if(bitsTouched < theHpClusterOnesCountThres)\n",
    "            continue;\n",
    "    \n",
    "        const float k = (*nu) * activationStrength;\n",
    "        float maxWeight = 0.0f;\n",
    "        \n",
    "        for(int i = 0; i < theHpVecLen; i++) {\n",
    "            if(mask[i]) {\n",
    "                const float updatedWeight = cluster[i] + k * signalInput[i];\n",
    "                cluster[i] = updatedWeight;\n",
    "                maxWeight = fmax(maxWeight, updatedWeight);\n",
    "            }\n",
    "        }\n",
    "    \n",
    "        for(int i = 0; i < theHpVecLen; i++) {\n",
    "            cluster[i] /= maxWeight;\n",
    "        }\n",
    "    \n",
    "        *binarizationCountdown -= 1;\n",
    "        assert(*binarizationCountdown >= 0);\n",
    "        *isChanged = *isBinarized ? false : true;\n",
    "    }\n",
    "\n",
    "    if(*binarizationCountdown <= 0 && !*isReady) {\n",
    "        binarize_cluster(\n",
    "            theHpVecLen, theHpPointNonZeroBits, theHpBinarizeThres, theHpBinarizationScheduleSize,\n",
    "            cluster, mask, nu, binarizationSchedule, binarizationCountdown,\n",
    "            nzbCount, nzb, isReady\n",
    "        );\n",
    "        *isChanged = false;\n",
    "        *isBinarized = true;\n",
    "        assert(*binarizationCountdown >= 0);\n",
    "        assert((*binarizationCountdown == 0 && *isReady) || (*binarizationCountdown > 0 && !*isReady));\n",
    "    }\n",
    "}\n",
    "''', 'learn_clusters', backend='nvcc')\n",
    "cuda_learn_clusters.compile()"
   ]
  },
  {
   "cell_type": "markdown",
   "id": "6beed0bc-2c99-476c-baca-5b9879f10d72",
   "metadata": {},
   "source": [
    "### cuda_migrate_clusters"
   ]
  },
  {
   "cell_type": "code",
   "execution_count": 65,
   "id": "84565f85-9b5c-4e95-a03d-a2be6a85d396",
   "metadata": {},
   "outputs": [],
   "source": [
    "cuda_migrate_clusters = cp.RawKernel(r'''\n",
    "const int CLUSTER_IND_MAPPING_SIZE = 2;\n",
    "\n",
    "extern \"C\" __global__\n",
    "void migrate_clusters(\n",
    "    // INPUT\n",
    "    const int theHpVecLen,\n",
    "    const int theClusterIndMappingsCount,\n",
    "    const int * const theClusterIndMappings, // matrix [theClustersCount][CLUSTER_IND_MAPPING_SIZE] - each row is a pair (mapping) fromClusterInd -> toClusterInd\n",
    "    const float * const theSourceClusters,   // matrix[**realClustersCount**][theHpVecLen]\n",
    "    // OUTPUT\n",
    "    float * const theTargetClusters      // matrix[**realClustersCount**][theHpVecLen]\n",
    ") { \n",
    "    const int mappingInd = blockDim.x * blockIdx.x + threadIdx.x;\n",
    "\n",
    "    if(mappingInd >= theClusterIndMappingsCount)\n",
    "        return;\n",
    "\n",
    "    const int * const mapping = &theClusterIndMappings[mappingInd * CLUSTER_IND_MAPPING_SIZE];\n",
    "    const int sourceClusterInd = mapping[0];\n",
    "    const int targetClusterInd = mapping[1];\n",
    "    const float * const sourceCluster = &theSourceClusters[sourceClusterInd * theHpVecLen];\n",
    "    float * const targetCluster = &theTargetClusters[targetClusterInd * theHpVecLen];\n",
    "\n",
    "    memcpy(targetCluster, sourceCluster, sizeof(sourceCluster[0]) * theHpVecLen);\n",
    "}\n",
    "''', 'migrate_clusters')\n",
    "cuda_migrate_clusters.compile()"
   ]
  },
  {
   "cell_type": "markdown",
   "id": "abdcce99-7731-4268-b2d9-c9c574f5167c",
   "metadata": {},
   "source": [
    "### cuda_verify_clusters"
   ]
  },
  {
   "cell_type": "code",
   "execution_count": 66,
   "id": "9acf0023-b76f-40aa-9c6c-7dc75cd88f8e",
   "metadata": {},
   "outputs": [],
   "source": [
    "cuda_verify_clusters = cp.RawKernel(r'''\n",
    "#include <assert.h>\n",
    "\n",
    "extern \"C\" __global__\n",
    "void verify_clusters(\n",
    "    // INPUT\n",
    "    const int theHpVecLen,\n",
    "    const int theClustersCount,\n",
    "    const int * const theClusterInds,   // vector[theClustersCount], mapping from local clusterInd to real clusterInd\n",
    "    const float * const theClusters,    // matrix[**realClustersCount**][theHpVecLen]\n",
    "    const float * const theClusterMasks // matrix[**realClustersCount**][theHpVecLen]\n",
    ") { \n",
    "    const int localClusterInd = blockDim.x * blockIdx.x + threadIdx.x;\n",
    "\n",
    "    if(localClusterInd >= theClustersCount)\n",
    "        return;\n",
    "\n",
    "    const int clusterInd = theClusterInds[localClusterInd];\n",
    "    const auto clustersPtrOffset = clusterInd * theHpVecLen;\n",
    "    const float * const cluster = theClusters + clustersPtrOffset;\n",
    "    const float * const mask = theClusterMasks + clustersPtrOffset;\n",
    "\n",
    "    {\n",
    "        for(int i = 0; i < theHpVecLen; i++) {\n",
    "            const bool isOk = (mask[i] > 0 && cluster[i] > 0) || (mask[i] == 0 && cluster[i] == 0);\n",
    "\n",
    "            if(!isOk)\n",
    "                printf(\"kms@ clusterInd=%d, i=%d, cluster[i]=%f, mask[i]=%f\\n\", clusterInd, i, cluster[i], mask[i]);\n",
    "                \n",
    "            assert(isOk);\n",
    "        }\n",
    "    }    \n",
    "}\n",
    "''', 'verify_clusters', backend='nvcc')\n",
    "cuda_verify_clusters.compile()"
   ]
  },
  {
   "cell_type": "markdown",
   "id": "71c9c0ac-6e3c-4c2a-9812-7017ac8fdef8",
   "metadata": {},
   "source": [
    "## Train Loop"
   ]
  },
  {
   "cell_type": "code",
   "execution_count": null,
   "id": "c41623aa-fa2a-4e90-87da-68b83618c88b",
   "metadata": {},
   "outputs": [],
   "source": []
  },
  {
   "cell_type": "code",
   "execution_count": null,
   "id": "b275d3f5-0c68-429c-bd65-c70a6cf9a7f2",
   "metadata": {},
   "outputs": [],
   "source": []
  },
  {
   "cell_type": "code",
   "execution_count": 67,
   "id": "a2366ea9-8171-4373-b8ce-9cc0299c365f",
   "metadata": {},
   "outputs": [
    {
     "data": {
      "application/vnd.jupyter.widget-view+json": {
       "model_id": "d43f918b4b5f4568bf2a11e06041db4e",
       "version_major": 2,
       "version_minor": 0
      },
      "text/plain": [
       "Epoch:   0%|          | 0/1 [00:00<?, ?it/s]"
      ]
     },
     "metadata": {},
     "output_type": "display_data"
    },
    {
     "data": {
      "application/vnd.jupyter.widget-view+json": {
       "model_id": "e87c498fb83d4485934d74a9a7e28d52",
       "version_major": 2,
       "version_minor": 0
      },
      "text/plain": [
       "Output bit batch:   0%|          | 0/4 [00:00<?, ?it/s]"
      ]
     },
     "metadata": {},
     "output_type": "display_data"
    },
    {
     "data": {
      "application/vnd.jupyter.widget-view+json": {
       "model_id": "61b64d73c24540359001ff7029626b84",
       "version_major": 2,
       "version_minor": 0
      },
      "text/plain": [
       "Cycle:   0%|          | 0/1000 [00:00<?, ?it/s]"
      ]
     },
     "metadata": {},
     "output_type": "display_data"
    }
   ],
   "source": [
    "# batch_output_bits_filter = lambda s, e: True\n",
    "# batch_output_bits_filter = lambda s, e: s >= 500\n",
    "batch_output_bits_filter = lambda s, e: s >= 750 and s < 1000\n",
    "\n",
    "if 'signals_generator' in globals():\n",
    "    if isinstance(signals_generator, AsyncSignalsGenerator):\n",
    "        signals_generator.terminate()\n",
    "        del signals_generator\n",
    "\n",
    "# signals_generator = AsyncSignalsGenerator(RealImageSignalsGenerator, TRANSF, HP_NEW_SIGNALS_COUNT_PER_CYCLE, 10)\n",
    "# signals_generator = AsyncSignalsGenerator(RollingPixelFeatureSignalsGenerator, TRANSF, HP_NEW_SIGNALS_COUNT_PER_CYCLE, 1)\n",
    "# signals_generator = AsyncSignalsGenerator(PooledPixelFeatureSignalsGenerator, TRANSF, HP_NEW_SIGNALS_COUNT_PER_CYCLE, 160, 200)\n",
    "signals_generator = AsyncSignalsGenerator(PooledPixelFeatureSignalsGenerator, TRANSF, HP_NEW_SIGNALS_COUNT_PER_CYCLE, 100)\n",
    "\n",
    "persist_prod_clusters_governeur = interval_governeur(HP_PERSIST_PROD_CLUSTERS_INTERVAL, persist_prod_clusters)\n",
    "\n",
    "for epoch in tqdm(range(HP_EPOCHS_COUNT), desc='Epoch'):\n",
    "    with LOG.auto_prefix('EPOCH', epoch):\n",
    "        for start_output_bit in tqdm(range(0, HP_SIGNAL_VEC_LEN, HP_OUTPUT_BITS_PER_BATCH), leave=False, desc='Output bit batch'):\n",
    "            end_output_bit = start_output_bit + HP_OUTPUT_BITS_PER_BATCH - 1\n",
    "            end_output_bit = min(end_output_bit, HP_SIGNAL_VEC_LEN - 1)\n",
    "            assert end_output_bit >= start_output_bit, (start_output_bit, end_output_bit)\n",
    "\n",
    "            if not batch_output_bits_filter(start_output_bit, end_output_bit):\n",
    "                continue\n",
    "            \n",
    "            with LOG.auto_prefix('OBITS', f'{start_output_bit}:{end_output_bit}'):\n",
    "                CLUSTERS_SIDECAR = ClustersSidecar()\n",
    "                CLUSTERS = HdvArray(HP_SIGNAL_VEC_LEN, xp, initial_length=100_000, dtype='f', grow_policy=hdv_array_log_like_grow_policy, observer=CLUSTERS_SIDECAR)\n",
    "                CLUSTER_METAS = {}\n",
    "\n",
    "                LEARN_CLUSTERS_SIDECAR = None\n",
    "                LEARN_CLUSTERS = None\n",
    "                LEARN_CLUSTER_METAS = None\n",
    "\n",
    "                def reset_learn_clusters():\n",
    "                    global LEARN_CLUSTERS_SIDECAR, LEARN_CLUSTERS, LEARN_CLUSTER_METAS\n",
    "                    LEARN_CLUSTERS_SIDECAR = LearnClustersSidecar()\n",
    "                    LEARN_CLUSTERS = HdvArray(HP_SIGNAL_VEC_LEN, xp, initial_length=100_000, dtype='f', grow_policy=hdv_array_log_like_grow_policy, observer=LEARN_CLUSTERS_SIDECAR)\n",
    "                    LEARN_CLUSTER_METAS = {}\n",
    "                    LOG('LEARN clusters reset')\n",
    "\n",
    "                reset_learn_clusters()\n",
    "                reset_learn_clusters_governeur = interval_governeur(HP_RESET_LEARN_CLUSTERS_INTERVAL, reset_learn_clusters)\n",
    "                \n",
    "                ## Select points for output bits (OBITS)\n",
    "                points_mask = (POINT_OUTPUT_BITS >= start_output_bit) & (POINT_OUTPUT_BITS <= end_output_bit)\n",
    "                points = xp_array_to_gpu(POINTS[points_mask])\n",
    "                point_output_bits = POINT_OUTPUT_BITS[points_mask]\n",
    "                point_inds = np.arange(points.shape[0], dtype='i')\n",
    "                LOG(f'{points.shape[0]} combinatorial points selected for output bits {start_output_bit}:{end_output_bit}, avg. points per output bit={points.shape[0] / ((end_output_bit - start_output_bit) + 1):.0f}')\n",
    "                assert points.shape[0] > 0\n",
    "\n",
    "                ## Restore prod clusters for output bits (OBITS)\n",
    "                df_clusters = pd.read_sql('SELECT ROWID, output_bit, metas, nzb_list FROM clusters WHERE encoding=:encoding AND transf_code=:transf_code ' + \n",
    "                                          'AND output_bit>=:start_output_bit AND output_bit<=:end_output_bit', \n",
    "                                          params={\n",
    "                                              'encoding': HP_SIGNAL_ENCODING, \n",
    "                                              'transf_code': TRANSF_CODE,\n",
    "                                              'start_output_bit': start_output_bit, \n",
    "                                              'end_output_bit': end_output_bit}, \n",
    "                                          con=transfs_db_con)\n",
    "                \n",
    "                clusters = []\n",
    "                cluster_inds = []\n",
    "                \n",
    "                for cluster_row in df_clusters.itertuples():\n",
    "                    cluster_nzb_list_for_output_bit = pickle.loads(cluster_row.nzb_list)\n",
    "                    cluster_metas_for_output_bit = pickle.loads(cluster_row.metas)\n",
    "                    assert len(cluster_nzb_list_for_output_bit) == len(cluster_metas_for_output_bit)\n",
    "\n",
    "                    for nzb, meta in zip(cluster_nzb_list_for_output_bit, cluster_metas_for_output_bit):\n",
    "                        assert len(nzb) > 0\n",
    "                        cluster = np.zeros(HP_SIGNAL_VEC_LEN, dtype='f')\n",
    "                        cluster[nzb] = 1\n",
    "                        clusters.append(cluster)\n",
    "                        \n",
    "                        cluster_ind = CLUSTERS.lease()\n",
    "                        meta.cluster_ind = cluster_ind\n",
    "                        cluster_inds.append(cluster_ind)\n",
    "                        \n",
    "                        CLUSTER_METAS[cluster_ind] = meta\n",
    "                        CLUSTERS_SIDECAR.sync(meta)\n",
    "\n",
    "                    LOG(f'Loaded {len(cluster_metas_for_output_bit)} clusters for output bit {cluster_row.output_bit} (ROWID={cluster_row.rowid})')\n",
    "\n",
    "                if clusters:\n",
    "                    assert len(clusters) == len(cluster_inds)\n",
    "                    CLUSTERS.array[cluster_inds] = np.vstack(clusters)\n",
    "                    assert len(CLUSTER_METAS) == CLUSTERS.len\n",
    "                    \n",
    "                LOG(f'Loaded {len(CLUSTER_METAS)} clusters in total for encoding=\"{HP_SIGNAL_ENCODING}\" and transf_code=\"{TRANSF_CODE}\"')\n",
    "\n",
    "                unique_cluster_keys = set(map(lambda m: m.cluster_key, CLUSTER_METAS.values()))\n",
    "                assert len(unique_cluster_keys) == len(CLUSTER_METAS)\n",
    "                new_clusters_creation_rate_calc = AverageFilter()\n",
    "\n",
    "                sgr = DummySignalsGeneratorResult()\n",
    "                \n",
    "                def switch_signals_generator():\n",
    "                    global sgr\n",
    "                    sgr = DummySignalsGeneratorResult()\n",
    "                    signals_generator.switch()\n",
    "                    LOG('Signals generator switched')\n",
    "                    \n",
    "                switch_signals_generator_governeur = interval_governeur(HP_RESET_LEARN_CLUSTERS_INTERVAL, switch_signals_generator)\n",
    "\n",
    "                stats_signals_processed_count = 0\n",
    "                stats_parent_signals_count = 0\n",
    "                stats_learn_clusters_created_count = 0\n",
    "                \n",
    "                def report_stats():\n",
    "                    global stats_signals_processed_count, stats_parent_signals_count, stats_learn_clusters_created_count\n",
    "                    LOG(f'STATS: total signals={stats_signals_processed_count:_}')\n",
    "                    LOG(f'STATS: parent signals={stats_parent_signals_count:_}')\n",
    "                    LOG(f'STATS: learn clusters created={stats_learn_clusters_created_count:_}')\n",
    "                    stats_signals_processed_count = 0\n",
    "                    stats_parent_signals_count = 0\n",
    "                    stats_learn_clusters_created_count = 0\n",
    "                \n",
    "                report_stats_governeur = interval_governeur(HP_RESET_LEARN_CLUSTERS_INTERVAL, report_stats)\n",
    "                \n",
    "                ## Mine clusters\n",
    "                for cycle in tqdm(range(HP_CYCLES_COUNT), leave=False, desc='Cycle'):\n",
    "                    with LOG.auto_prefix('CYCLE', cycle):\n",
    "                        LOG(f'===')\n",
    "                        persist_prod_clusters_governeur()\n",
    "                        switch_signals_generator_governeur()\n",
    "                        reset_learn_clusters_governeur()\n",
    "                        report_stats_governeur()\n",
    "                        \n",
    "                        ### General stats reporting\n",
    "                        cluster_states = {}\n",
    "                        cluster_states.update(LEARN_CLUSTERS_SIDECAR.cluster_states_counter.most_common())\n",
    "                        cluster_states.update(CLUSTERS_SIDECAR.cluster_states_counter.most_common())\n",
    "                        cluster_states = dict(filter(lambda kv: kv[1] != 0, cluster_states.items())) # retain only states with non-zero counts (eases inspection by eyes)\n",
    "                        check_count = cluster_states.get(ClusterState.LEARN.name, 0)\n",
    "                        assert check_count == len(LEARN_CLUSTER_METAS)\n",
    "                        check_count = sum(map(lambda cs: cluster_states.get(cs.name, 0), [ClusterState.PROD_CANDIDATE, ClusterState.PROD_WORK, ClusterState.PROD_ETERNAL]))\n",
    "                        assert check_count == len(CLUSTER_METAS)\n",
    "                        LOG(f'Cycle {cycle} started, clusters: {cluster_states}, LEARN_CLUSTERS.array.shape={LEARN_CLUSTERS.array.shape}, CLUSTERS.array.shape={CLUSTERS.array.shape}')\n",
    "                        \n",
    "                        ### Prepare input and output signals for training\n",
    "                        prev_cycle_sgr = sgr\n",
    "                        sgr = signals_generator()\n",
    "                        sgr = sgr._replace(signals_input=xp_array_to_gpu(sgr.signals_input))\n",
    "                        assert len(sgr.signal_ids) == sgr.signals_input.shape[0]\n",
    "                        assert sgr.signals_input.shape[0] == sgr.signals_output.shape[0]\n",
    "                        stats_signals_processed_count += sgr.signals_input.shape[0]\n",
    "                        LOG(f'Prepared {sgr.signals_input.shape[0]} signals')\n",
    "                        # assert False\n",
    "\n",
    "                        ### Create new clusters\n",
    "                        learn_clusters_count = len(LEARN_CLUSTER_METAS)\n",
    "                        new_cluster_inds = []\n",
    "                        new_cluster_attrs_list = namedtuple('NewClusterAttrsList', ['output_bits', 'nzb_counts', 'nzbs'])([], [], [])\n",
    "                        signals_count_for_new_clusters = 0\n",
    "\n",
    "                        # Create clusters from prev sgr to avoid situation when clusters are created and get immediately learned on the same data\n",
    "                        for signal_input, signal_output in zip(prev_cycle_sgr.signals_input, prev_cycle_sgr.signals_output):\n",
    "                            if learn_clusters_count + new_clusters_creation_rate_calc.value > HP_LEARN_CLUSTERS_COUNT_SOFT_LIMIT:\n",
    "                                break\n",
    "                                \n",
    "                            signals_count_for_new_clusters += 1\n",
    "                            active_points_boolmap = signal_output[point_output_bits] != 0\n",
    "                            active_point_inds = point_inds[active_points_boolmap]\n",
    "\n",
    "                            if active_point_inds.shape[0] == 0:\n",
    "                                new_clusters_creation_rate_calc(0)\n",
    "                                continue\n",
    "                                \n",
    "                            nzb_counts = xp.zeros(active_point_inds.shape[0], dtype='i')\n",
    "                            nzbs = xp.full((active_point_inds.shape[0], HP_POINT_NON_ZERO_BITS), -1, dtype='i')\n",
    "                            cuda_block_size = 256\n",
    "                            cuda_blocks_count = math.ceil(active_point_inds.shape[0] / cuda_block_size)\n",
    "                            cuda_get_source_data_for_new_clusters(\n",
    "                                (cuda_blocks_count, ), (cuda_block_size,),\n",
    "                                (\n",
    "                                    # INPUT\n",
    "                                    cp.int32(HP_SIGNAL_VEC_LEN),\n",
    "                                    cp.int32(HP_POINT_NON_ZERO_BITS),\n",
    "                                    cp.int32(HP_CLUSTER_CREATION_ONES_COUNT_THRES),\n",
    "                                    ensure_dtype(signal_input, cp.float32),\n",
    "                                    cp.int32(active_point_inds.shape[0]), \n",
    "                                    ensure_dtype(xp_array_to_gpu(active_point_inds), cp.int32),\n",
    "                                    ensure_dtype(points, cp.float32),\n",
    "                                    # OUTPUT\n",
    "                                    ensure_dtype(nzb_counts, cp.int32),\n",
    "                                    ensure_dtype(nzbs, cp.int32)\n",
    "                                 )\n",
    "                            )\n",
    "\n",
    "                            nzb_counts_cpu = xp_array_from_gpu(nzb_counts)\n",
    "                            nzbs_cpu = xp_array_from_gpu(nzbs)\n",
    "                            valid_inds_boolmap = nzb_counts_cpu > 0\n",
    "                            learn_clusters_count0 = learn_clusters_count\n",
    "                            \n",
    "                            for point_ind, nzb_count, nzb in zip(active_point_inds[valid_inds_boolmap], nzb_counts_cpu[valid_inds_boolmap], nzbs_cpu[valid_inds_boolmap]):\n",
    "                                active_output_bit = int(point_output_bits[point_ind])\n",
    "                                assert nzb_count >= HP_CLUSTER_CREATION_ONES_COUNT_THRES\n",
    "                                active_input_bits = nzb[:nzb_count]\n",
    "                                cluster_key = get_cluster_key(active_output_bit, active_input_bits) \n",
    "                        \n",
    "                                if cluster_key in unique_cluster_keys:\n",
    "                                    continue\n",
    "                        \n",
    "                                # GPU doesn't honor frequent uploads of data - it renders way to slow execution.\n",
    "                                # as such during clusters-creation-loop a) stage new clusters on CPU b) reserve indices in GPU array\n",
    "                                # At the end bulk upload to GPU\n",
    "                                cluster_ind = LEARN_CLUSTERS.lease() \n",
    "                                new_cluster_inds.append(cluster_ind)\n",
    "                                new_cluster_attrs_list.output_bits.append(active_output_bit)\n",
    "                                new_cluster_attrs_list.nzb_counts.append(nzb_count)\n",
    "                                new_cluster_attrs_list.nzbs.append(nzb)\n",
    "                                \n",
    "                                cluster_meta = ClusterMeta(cluster_ind)\n",
    "                                cluster_meta.cluster_key = cluster_key\n",
    "                                cluster_meta.output_bit = active_output_bit\n",
    "                                cluster_meta.input_bits = tuple(map(int, active_input_bits))\n",
    "                                cluster_meta.ones_count = nzb_count\n",
    "                                cluster_meta.last_activity_cycle = cycle\n",
    "                                assert not cluster_ind in LEARN_CLUSTER_METAS\n",
    "                                LEARN_CLUSTER_METAS[cluster_ind] = cluster_meta\n",
    "                                LEARN_CLUSTERS_SIDECAR.sync(cluster_meta)\n",
    "                                unique_cluster_keys.add(cluster_key)\n",
    "                                learn_clusters_count += 1\n",
    "\n",
    "                            assert learn_clusters_count >= learn_clusters_count0\n",
    "                            new_clusters_creation_rate_calc(learn_clusters_count - learn_clusters_count0)\n",
    "\n",
    "                        if new_cluster_inds:\n",
    "                            new_cluster_inds = xp.array(new_cluster_inds, dtype='i')\n",
    "                            cuda_block_size = 256\n",
    "                            cuda_blocks_count = math.ceil(new_cluster_inds.shape[0] / cuda_block_size)\n",
    "                            cuda_init_learn_clusters(\n",
    "                                (cuda_blocks_count, ), (cuda_block_size,),\n",
    "                                (\n",
    "                                    # INPUT\n",
    "                                    cp.int32(HP_SIGNAL_VEC_LEN),\n",
    "                                    cp.int32(HP_POINT_NON_ZERO_BITS),\n",
    "                                    cp.int32(HP_CLUSTER_BINARIZATION_SCHEDULE_SIZE),\n",
    "                                    ensure_dtype(ensure_len(xp.array(HP_CLUSTER_LEARN_BINARIZATION_SCHEDULE), HP_CLUSTER_BINARIZATION_SCHEDULE_SIZE), cp.int32),\n",
    "                                    cp.int32(new_cluster_inds.shape[0]), \n",
    "                                    ensure_dtype(new_cluster_inds, cp.int32),\n",
    "                                    ensure_dtype(xp.array(new_cluster_attrs_list.output_bits, dtype='i'), cp.int32),\n",
    "                                    ensure_dtype(xp.array(new_cluster_attrs_list.nzb_counts, dtype='i'), cp.int32),\n",
    "                                    ensure_dtype(xp.array(new_cluster_attrs_list.nzbs, dtype='i'), cp.int32),\n",
    "                                    # OUTPUT\n",
    "                                    ensure_dtype(LEARN_CLUSTERS.array, cp.float32),\n",
    "                                    ensure_dtype(LEARN_CLUSTERS_SIDECAR.masks, cp.float32),\n",
    "                                    ensure_dtype(LEARN_CLUSTERS_SIDECAR.output_bits, cp.int32),\n",
    "                                    ensure_dtype(LEARN_CLUSTERS_SIDECAR.nus, cp.float32),\n",
    "                                    ensure_dtype(LEARN_CLUSTERS_SIDECAR.binarization_schedules, cp.int32),\n",
    "                                    ensure_dtype(LEARN_CLUSTERS_SIDECAR.binarization_countdowns, cp.int32),\n",
    "                                 )\n",
    "                            )\n",
    "                            \n",
    "                        stats_parent_signals_count += signals_count_for_new_clusters\n",
    "                        stats_learn_clusters_created_count += len(new_cluster_inds)\n",
    "                        LOG(f'Created {len(new_cluster_inds)} LEARN clusters from {signals_count_for_new_clusters} signals, create rate={new_clusters_creation_rate_calc.value:.0f} clusters/signal')\n",
    "\n",
    "                        ### Learn clusters and promote to PROD_CANDIDATE those which successfully have passed binarization schedules\n",
    "                        learn_cluster_is_present_boolmap = LEARN_CLUSTERS_SIDECAR.is_present_boolmap[:LEARN_CLUSTERS.active_len]\n",
    "                        learn_cluster_is_dead_boolmap = LEARN_CLUSTERS_SIDECAR.is_dead_boolmap[:LEARN_CLUSTERS.active_len]\n",
    "                        learn_cluster_is_learnable_boolmap = learn_cluster_is_present_boolmap & ~learn_cluster_is_dead_boolmap\n",
    "                        learn_cluster_inds = xp.arange(LEARN_CLUSTERS.active_len, dtype='i')[learn_cluster_is_learnable_boolmap]\n",
    "                        learned_cluster_inds = []\n",
    "                        \n",
    "                        if learn_cluster_inds.shape[0] > 0:\n",
    "                            learn_cluster_is_changed_boolmap = xp.zeros(learn_cluster_inds.shape[0], dtype=bool)\n",
    "                            learn_cluster_is_binarized_boolmap = xp.zeros(learn_cluster_inds.shape[0], dtype=bool)\n",
    "                            learn_cluster_is_ready_boolmap = xp.zeros(learn_cluster_inds.shape[0], dtype=bool)\n",
    "                            learn_cluster_nzb_counts = xp.zeros(learn_cluster_inds.shape[0], dtype='i')\n",
    "                            learn_cluster_nzbs = xp.zeros((learn_cluster_inds.shape[0], HP_POINT_NON_ZERO_BITS), dtype='i')\n",
    "                            cuda_block_size = 256\n",
    "                            cuda_blocks_count = math.ceil(learn_cluster_inds.shape[0] / cuda_block_size)\n",
    "                            cuda_learn_clusters(\n",
    "                                (cuda_blocks_count, ), (cuda_block_size,),\n",
    "                                (\n",
    "                                    # INPUT\n",
    "                                    cp.int32(HP_SIGNAL_VEC_LEN),\n",
    "                                    cp.int32(HP_POINT_NON_ZERO_BITS),\n",
    "                                    cp.float32(HP_CLUSTER_BINARIZE_THRES),\n",
    "                                    cp.int32(HP_CLUSTER_ONES_COUNT_THRES),\n",
    "                                    cp.int32(HP_CLUSTER_BINARIZATION_SCHEDULE_SIZE),\n",
    "                                    cp.int32(sgr.signals_input.shape[0]),\n",
    "                                    ensure_dtype(sgr.signals_input, cp.float32), \n",
    "                                    ensure_dtype(xp_array_to_gpu(sgr.signals_output), cp.float32),\n",
    "                                    cp.int32(learn_cluster_inds.shape[0]), \n",
    "                                    ensure_dtype(learn_cluster_inds, cp.int32), \n",
    "                                    ensure_dtype(LEARN_CLUSTERS_SIDECAR.output_bits, cp.int32), \n",
    "                                    # INPUT-OUTPUT \n",
    "                                    ensure_dtype(LEARN_CLUSTERS.array, cp.float32), \n",
    "                                    ensure_dtype(LEARN_CLUSTERS_SIDECAR.masks, cp.float32),\n",
    "                                    ensure_dtype(LEARN_CLUSTERS_SIDECAR.nus, cp.float32),\n",
    "                                    ensure_dtype(LEARN_CLUSTERS_SIDECAR.binarization_schedules, cp.int32),\n",
    "                                    ensure_dtype(LEARN_CLUSTERS_SIDECAR.binarization_countdowns, cp.int32),\n",
    "                                    # OUTPUT\n",
    "                                    ensure_dtype(learn_cluster_nzb_counts, cp.int32),\n",
    "                                    ensure_dtype(learn_cluster_nzbs, cp.int32),\n",
    "                                    ensure_dtype(learn_cluster_is_changed_boolmap, cp.bool_),\n",
    "                                    ensure_dtype(learn_cluster_is_binarized_boolmap, cp.bool_),\n",
    "                                    ensure_dtype(learn_cluster_is_ready_boolmap, cp.bool_),\n",
    "                                )\n",
    "                            )\n",
    "                            # assert that there is no intersection between these two ones\n",
    "                            assert xp.all((learn_cluster_is_changed_boolmap & learn_cluster_is_binarized_boolmap) == False) \n",
    "                            \n",
    "                            # Process clusters which only changed their weights\n",
    "                            learn_cluster_is_changed_cluster_inds = xp_array_from_gpu(learn_cluster_inds[learn_cluster_is_changed_boolmap])\n",
    "                            \n",
    "                            for cluster_ind in learn_cluster_is_changed_cluster_inds:\n",
    "                                cluster_meta = LEARN_CLUSTER_METAS[cluster_ind]\n",
    "                                assert cluster_meta.state == ClusterState.LEARN\n",
    "                                cluster_meta.last_activity_cycle = cycle\n",
    "\n",
    "                            LOG(f'Updated weights of {len(learn_cluster_is_changed_cluster_inds)} LEARN clusters')\n",
    "\n",
    "                            # Process clusters which were binarized\n",
    "                            learn_cluster_is_binarized_cluster_inds = xp_array_from_gpu(learn_cluster_inds[learn_cluster_is_binarized_boolmap])\n",
    "                            learn_cluster_is_binarized_nzb_counts = xp_array_from_gpu(learn_cluster_nzb_counts[learn_cluster_is_binarized_boolmap])\n",
    "                            assert learn_cluster_is_binarized_cluster_inds.shape[0] == learn_cluster_is_binarized_nzb_counts.shape[0]\n",
    "                            new_cluster_states = Counter()\n",
    "                            death_reasons = Counter()\n",
    "\n",
    "                            for cluster_ind, nzb_count in zip(learn_cluster_is_binarized_cluster_inds, learn_cluster_is_binarized_nzb_counts):\n",
    "                                cluster_meta = LEARN_CLUSTER_METAS[cluster_ind]\n",
    "                                assert cluster_meta.state == ClusterState.LEARN\n",
    "                                cluster_meta.last_activity_cycle = cycle\n",
    "\n",
    "                                if nzb_count < HP_CLUSTER_ONES_COUNT_THRES:\n",
    "                                    cluster_meta.state = ClusterState.DEAD\n",
    "                                    new_cluster_states[cluster_meta.state.name] += 1\n",
    "                                    death_reasons['SHORT'] += 1\n",
    "                                    LEARN_CLUSTERS_SIDECAR.sync(cluster_meta)\n",
    "\n",
    "                            LOG(f'Binarized {len(learn_cluster_is_binarized_cluster_inds)} clusters: {new_cluster_states}; death reasons: {death_reasons}')\n",
    "\n",
    "                            # Process clusters which have completed their learning and are ready for promotion to PROD_* level\n",
    "                            migrate_cluster_ind_mappings = []\n",
    "                            prod_candidate_clusters_count = CLUSTERS_SIDECAR.cluster_states_counter[ClusterState.PROD_CANDIDATE.name]\n",
    "                            learn_cluster_is_ready_cluster_inds = xp_array_from_gpu(learn_cluster_inds[learn_cluster_is_ready_boolmap])\n",
    "                            learn_cluster_is_ready_nzb_counts = xp_array_from_gpu(learn_cluster_nzb_counts[learn_cluster_is_ready_boolmap])\n",
    "                            learn_cluster_is_ready_nzbs = xp_array_from_gpu(learn_cluster_nzbs[learn_cluster_is_ready_boolmap])\n",
    "                            assert learn_cluster_is_ready_cluster_inds.shape[0] == learn_cluster_is_ready_nzb_counts.shape[0]\n",
    "                            assert learn_cluster_is_ready_cluster_inds.shape[0] == learn_cluster_is_ready_nzbs.shape[0]\n",
    "                            new_cluster_states = Counter()\n",
    "                            death_reasons = Counter()\n",
    "\n",
    "                            for cluster_ind, nzb_count, nzb in zip(learn_cluster_is_ready_cluster_inds, \n",
    "                                                                   learn_cluster_is_ready_nzb_counts, \n",
    "                                                                   learn_cluster_is_ready_nzbs):\n",
    "                                cluster_meta = LEARN_CLUSTER_METAS[cluster_ind]\n",
    "                                \n",
    "                                if cluster_meta.state == ClusterState.DEAD:\n",
    "                                    continue\n",
    "                                    \n",
    "                                cluster_meta.ones_count = nzb_count\n",
    "                                assert cluster_meta.ones_count >= HP_CLUSTER_ONES_COUNT_THRES\n",
    "                                cluster_meta.last_activity_cycle = cycle\n",
    "\n",
    "                                old_cluster_key = cluster_meta.cluster_key\n",
    "                                cluster_meta.input_bits = tuple(map(int, nzb[:nzb_count]))\n",
    "                                new_cluster_key = get_cluster_key(cluster_meta.output_bit, cluster_meta.input_bits)\n",
    "\n",
    "                                if old_cluster_key != new_cluster_key and new_cluster_key in unique_cluster_keys:\n",
    "                                    # TODO: it may happen that cluster with new_cluster_key is a LEARN cluster, not PROD_*\n",
    "                                    cluster_meta.state = ClusterState.DEAD\n",
    "                                    new_cluster_states[cluster_meta.state.name] += 1\n",
    "                                    death_reasons['DUPLICATE'] += 1\n",
    "                                    LEARN_CLUSTERS_SIDECAR.sync(cluster_meta)\n",
    "                                    continue\n",
    "                                \n",
    "                                cluster_meta.cluster_key = new_cluster_key\n",
    "                                unique_cluster_keys.remove(old_cluster_key)\n",
    "                                unique_cluster_keys.add(new_cluster_key)\n",
    "\n",
    "                                # Promote to PROD_CANDIDATE under new cluster_ind but only if there is no too many PROD_CANDIDATES.\n",
    "                                # If there is too many PROD_CANDIDATES then pushing clusters to PROD_CANDIDATES may results in \n",
    "                                # mass losses of PROD_CANDIDATES due to soft limiting procedures\n",
    "                                if prod_candidate_clusters_count < HP_PROD_CANDIDATE_CLUSTERS_COUNT_SOFT_LIMIT:\n",
    "                                    cluster_ind = cluster_meta.cluster_ind\n",
    "                                    cluster_meta.state = ClusterState.PROD_CANDIDATE\n",
    "                                    cluster_meta.accuracy_calc = AverageFilter()\n",
    "                                    cluster_meta.verify_signal_ids.clear()\n",
    "                                    del LEARN_CLUSTER_METAS[cluster_ind]\n",
    "                                    LEARN_CLUSTERS_SIDECAR.remove(cluster_ind)\n",
    "                                    LEARN_CLUSTERS.release(cluster_ind, do_wipeout_data=False)\n",
    "        \n",
    "                                    cluster_meta.cluster_ind = CLUSTERS.lease()\n",
    "                                    migrate_cluster_ind_mappings.append([cluster_ind, cluster_meta.cluster_ind])\n",
    "                                    assert not cluster_meta.cluster_ind in CLUSTER_METAS\n",
    "                                    CLUSTER_METAS[cluster_meta.cluster_ind] = cluster_meta\n",
    "                                    CLUSTERS_SIDECAR.sync(cluster_meta)\n",
    "        \n",
    "                                    new_cluster_states[cluster_meta.state.name] += 1\n",
    "                                    prod_candidate_clusters_count += 1\n",
    "                        \n",
    "                            if migrate_cluster_ind_mappings:\n",
    "                                migrate_cluster_ind_mappings = xp.array(migrate_cluster_ind_mappings, dtype='i')\n",
    "                                cuda_block_size = 256\n",
    "                                cuda_blocks_count = math.ceil(migrate_cluster_ind_mappings.shape[0] / cuda_block_size)\n",
    "                                cuda_migrate_clusters(\n",
    "                                    (cuda_blocks_count, ), (cuda_block_size,),\n",
    "                                    (\n",
    "                                        # INPUT\n",
    "                                        cp.int32(HP_SIGNAL_VEC_LEN),\n",
    "                                        cp.int32(migrate_cluster_ind_mappings.shape[0]),\n",
    "                                        ensure_dtype(migrate_cluster_ind_mappings, cp.int32),\n",
    "                                        ensure_dtype(LEARN_CLUSTERS.array, cp.float32),\n",
    "                                        # OUTPUT\n",
    "                                        ensure_dtype(CLUSTERS.array, cp.float32),\n",
    "                                    )\n",
    "                                )\n",
    "                            \n",
    "                            LOG(f'Promoted {len(migrate_cluster_ind_mappings)} LEARN clusters: {new_cluster_states}; death reasons: {death_reasons}')\n",
    "                        \n",
    "                        ### Verify PROD_CANDIDATE/PROD_WORK clusters against new signals\n",
    "                        verify_cluster_inds = np.arange(CLUSTERS.array.shape[0])[CLUSTERS_SIDECAR.is_verifiable_boolmap]\n",
    "                        verify_cluster_ones_counts = xp_array_to_gpu(CLUSTERS_SIDECAR.ones_counts[verify_cluster_inds])\n",
    "                        verify_cluster_output_bits = CLUSTERS_SIDECAR.output_bits[verify_cluster_inds]\n",
    "                        verify_clusters = CLUSTERS.array[verify_cluster_inds]\n",
    "                        verified_cluster_inds = set()\n",
    "                        # row - signal input, column - how many bits are activated in verify cluster for corresponding signal_input\n",
    "                        signal_input_to_activated_clusters_boolmap_mat = sgr.signals_input @ verify_clusters.T\n",
    "                        # row - signal_input, column - true if corresponding verify cluster have enough bits activated, false otherwise\n",
    "                        signal_input_to_activated_clusters_boolmap_mat = (signal_input_to_activated_clusters_boolmap_mat >= verify_cluster_ones_counts)\n",
    "                        signal_input_to_activated_clusters_boolmap_mat = xp_array_from_gpu(signal_input_to_activated_clusters_boolmap_mat)\n",
    "                        assert signal_input_to_activated_clusters_boolmap_mat.shape[0] == sgr.signals_output.shape[0]\n",
    "                        assert signal_input_to_activated_clusters_boolmap_mat.shape[0] == len(sgr.signal_ids)\n",
    "                        \n",
    "                        for activated_clusters_boolmap, signal_output, signal_id in zip(signal_input_to_activated_clusters_boolmap_mat, \n",
    "                                                                                        sgr.signals_output, sgr.signal_ids):\n",
    "                            # cast array of output_bit numbers [0, 3, 4, 7, 7, 0, 3, 32, ..] to TP array [True, False, False, True, True, True, False, False, ...]\n",
    "                            # where True if output_bit of verify_cluster is enabled in signal_output and False otherwise\n",
    "                            verify_cluster_output_bits_tf = signal_output[verify_cluster_output_bits] != 0\n",
    "                            cluster_inds = verify_cluster_inds[activated_clusters_boolmap]\n",
    "                            tfs = verify_cluster_output_bits_tf[activated_clusters_boolmap]\n",
    "                            assert cluster_inds.shape[0] == tfs.shape[0]\n",
    "                            \n",
    "                            for cluster_ind, tf in zip(cluster_inds, tfs):\n",
    "                                cluster_meta = CLUSTER_METAS[cluster_ind]\n",
    "                                cluster_meta.last_activity_cycle = cycle\n",
    "                                cluster_meta.accuracy_calc(int(tf))\n",
    "                                cluster_meta.verify_signal_ids.append((signal_id, int(tf)))\n",
    "                                CLUSTERS_SIDECAR.sync(cluster_meta)\n",
    "                                verified_cluster_inds.add(cluster_ind)\n",
    "                    \n",
    "                        LOG(f'Verified {len(verified_cluster_inds)} PROD_* clusters')\n",
    "\n",
    "                        ### Promote PROD_CANDIDATE clusters to PROD_WORK if they've been verified enough\n",
    "                        is_promotable_to_prod_work_boolmap = CLUSTERS_SIDECAR.is_promotable_to_prod_work_boolmap[:CLUSTERS.active_len]\n",
    "                        cluster_inds_to_promote = np.arange(CLUSTERS.active_len)[is_promotable_to_prod_work_boolmap]\n",
    "                        new_cluster_states = Counter()\n",
    "                        \n",
    "                        for cluster_ind in cluster_inds_to_promote:\n",
    "                            cluster_meta = CLUSTER_METAS[cluster_ind]\n",
    "                            assert cluster_meta.state == ClusterState.PROD_CANDIDATE\n",
    "                            assert len(cluster_meta.verify_signal_ids) >= HP_CLUSTER_PROD_WORK_SIGNALS_PROCESSED_THRES\n",
    "                            assert cluster_meta.ones_count >= HP_CLUSTER_ONES_COUNT_THRES\n",
    "                            cluster_meta.state = ClusterState.PROD_WORK\n",
    "                            cluster_meta.accuracy_calc = MovingAverageFilter(HP_CLUSTER_PROD_ETERNAL_SIGNALS_PROCESSED_THRES)\n",
    "                            \n",
    "                            for verify_signal_id in cluster_meta.verify_signal_ids:\n",
    "                                cluster_meta.accuracy_calc(verify_signal_id[1])\n",
    "\n",
    "                            CLUSTERS_SIDECAR.sync(cluster_meta)\n",
    "                            new_cluster_states[cluster_meta.state.name] += 1\n",
    "                    \n",
    "                        LOG(f'Promoted {new_cluster_states.total()} PROD_CANDIDATE clusters: {new_cluster_states}')\n",
    "\n",
    "                        ### Promote PROD_WORK clusters to PROD_ETERNAL or depromote back to LEARN based on accuracy and experience\n",
    "                        is_prod_work_boolmap = CLUSTERS_SIDECAR.is_prod_work_boolmap[:CLUSTERS.active_len]\n",
    "                        cluster_inds_to_promote = np.arange(CLUSTERS.active_len)[is_prod_work_boolmap]\n",
    "                        new_cluster_states = Counter()\n",
    "                        migrate_cluster_ind_mappings = []\n",
    "                        migrate_cluster_output_bits = []\n",
    "                        \n",
    "                        for cluster_ind in cluster_inds_to_promote:\n",
    "                            cluster_meta = CLUSTER_METAS[cluster_ind]\n",
    "                            assert cluster_meta.state == ClusterState.PROD_WORK\n",
    "                            assert cluster_meta.ones_count >= HP_CLUSTER_ONES_COUNT_THRES\n",
    "                            accuracy = cluster_meta.accuracy_calc.value\n",
    "\n",
    "                            if accuracy < HP_CLUSTER_PROD_WORK_ACCURACY_THRES:\n",
    "                                # bad, bad, bad prod-work cluster - you are too inaccurate, you are depromoted back to LEARN so you've a chance to fix your behavior\n",
    "                                cluster_ind = cluster_meta.cluster_ind\n",
    "                                del CLUSTER_METAS[cluster_ind]\n",
    "                                CLUSTERS.release(cluster_ind, do_wipeout_data=False)\n",
    "                                CLUSTERS_SIDECAR.remove(cluster_ind)\n",
    "                                \n",
    "                                cluster_meta.cluster_ind = LEARN_CLUSTERS.lease()\n",
    "                                cluster_meta.state = ClusterState.LEARN\n",
    "                                assert cluster_meta.cluster_key in unique_cluster_keys\n",
    "                                cluster_meta.accuracy_calc = None\n",
    "                                cluster_meta.verify_signal_ids.clear()\n",
    "                                \n",
    "                                assert not cluster_meta.cluster_ind in LEARN_CLUSTER_METAS\n",
    "                                LEARN_CLUSTER_METAS[cluster_meta.cluster_ind] = cluster_meta\n",
    "                                LEARN_CLUSTERS_SIDECAR.sync(cluster_meta)\n",
    "\n",
    "                                migrate_cluster_ind_mappings.append([cluster_ind, cluster_meta.cluster_ind])\n",
    "                                migrate_cluster_output_bits.append(cluster_meta.output_bit)\n",
    "                            elif len(cluster_meta.verify_signal_ids) >= HP_CLUSTER_PROD_ETERNAL_SIGNALS_PROCESSED_THRES and accuracy >= HP_CLUSTER_PROD_ETERNAL_ACCURACY_THRES:\n",
    "                                # Elite cluster is born! Promote to pantheon of eternal clusters\n",
    "                                cluster_meta.state = ClusterState.PROD_ETERNAL\n",
    "                                CLUSTERS_SIDECAR.sync(cluster_meta)\n",
    "                            else:\n",
    "                                continue\n",
    "                                \n",
    "                            new_cluster_states[cluster_meta.state.name] += 1\n",
    "\n",
    "                        if migrate_cluster_ind_mappings:\n",
    "                            migrate_cluster_ind_mappings = xp.array(migrate_cluster_ind_mappings, dtype='i')\n",
    "                            cuda_block_size = 256\n",
    "                            cuda_blocks_count = math.ceil(migrate_cluster_ind_mappings.shape[0] / cuda_block_size)\n",
    "                            cuda_migrate_clusters(\n",
    "                                (cuda_blocks_count, ), (cuda_block_size,),\n",
    "                                (\n",
    "                                    # INPUT\n",
    "                                    cp.int32(HP_SIGNAL_VEC_LEN),\n",
    "                                    cp.int32(migrate_cluster_ind_mappings.shape[0]),\n",
    "                                    ensure_dtype(migrate_cluster_ind_mappings, cp.int32),\n",
    "                                    ensure_dtype(CLUSTERS.array, cp.float32),\n",
    "                                    # OUTPUT\n",
    "                                    ensure_dtype(LEARN_CLUSTERS.array, cp.float32),\n",
    "                                )\n",
    "                            )\n",
    "                            # Must copy() !!! Otherwise pointer to &migrate_cluster_ind_mappings[1] (with implicit stride=1) will be passed to cuda_init_learn_clusters...\n",
    "                            init_cluster_inds = migrate_cluster_ind_mappings[:,1].copy()\n",
    "                            cuda_block_size = 256\n",
    "                            cuda_blocks_count = math.ceil(init_cluster_inds.shape[0] / cuda_block_size)\n",
    "                            cuda_init_learn_clusters(\n",
    "                                (cuda_blocks_count, ), (cuda_block_size,),\n",
    "                                (\n",
    "                                    # INPUT\n",
    "                                    cp.int32(HP_SIGNAL_VEC_LEN),\n",
    "                                    cp.int32(HP_POINT_NON_ZERO_BITS),\n",
    "                                    cp.int32(HP_CLUSTER_BINARIZATION_SCHEDULE_SIZE),\n",
    "                                    ensure_dtype(ensure_len(xp.array(HP_CLUSTER_RELEARN_BINARIZATION_SCHEDULE), HP_CLUSTER_BINARIZATION_SCHEDULE_SIZE), cp.int32),\n",
    "                                    cp.int32(init_cluster_inds.shape[0]), \n",
    "                                    ensure_dtype(ensure_len(init_cluster_inds, init_cluster_inds.shape[0]), cp.int32),\n",
    "                                    ensure_dtype(ensure_len(xp.array(migrate_cluster_output_bits, dtype='i'), migrate_cluster_ind_mappings.shape[0]), cp.int32),\n",
    "                                    ensure_dtype(xp.array([], dtype='i'), cp.int32), # nullptr in CUDA kernel\n",
    "                                    ensure_dtype(xp.array([], dtype='i'), cp.int32), # nullptr in CUDA kernel\n",
    "                                    # OUTPUT\n",
    "                                    ensure_dtype(LEARN_CLUSTERS.array, cp.float32),\n",
    "                                    ensure_dtype(LEARN_CLUSTERS_SIDECAR.masks, cp.float32),\n",
    "                                    ensure_dtype(LEARN_CLUSTERS_SIDECAR.output_bits, cp.int32),\n",
    "                                    ensure_dtype(LEARN_CLUSTERS_SIDECAR.nus, cp.float32),\n",
    "                                    ensure_dtype(LEARN_CLUSTERS_SIDECAR.binarization_schedules, cp.int32),\n",
    "                                    ensure_dtype(LEARN_CLUSTERS_SIDECAR.binarization_countdowns, cp.int32),\n",
    "                                 )\n",
    "                            )\n",
    "\n",
    "                        LOG(f'Promoted {new_cluster_states.total()} PROD_WORK clusters: {new_cluster_states}')\n",
    "                    \n",
    "                        ### Weed the garden\n",
    "                        def remove_cluster(meta, metas, clusters, clusters_sidecar):\n",
    "                            unique_cluster_keys.remove(meta.cluster_key)\n",
    "                            del metas[meta.cluster_ind]\n",
    "                            clusters.release(meta.cluster_ind, do_wipeout_data=False)\n",
    "                            clusters_sidecar.remove(meta.cluster_ind)\n",
    "                        \n",
    "                        def remove_dead_clusters(metas, clusters, clusters_sidecar):\n",
    "                            is_dead_boolmap = clusters_sidecar.is_dead_boolmap[:clusters.active_len]\n",
    "                            cluster_inds_to_remove = np.arange(clusters.active_len)[is_dead_boolmap]\n",
    "\n",
    "                            for cluster_ind in cluster_inds_to_remove:\n",
    "                                meta = metas[cluster_ind]\n",
    "                                assert meta.state == ClusterState.DEAD\n",
    "                                remove_cluster(meta, metas, clusters, clusters_sidecar)\n",
    "                                \n",
    "                            assert len(metas) == clusters.len, (len(metas), clusters.len)\n",
    "                            return len(cluster_inds_to_remove)\n",
    "\n",
    "                        def soft_limit_clusters(soft_limit, metas, clusters, clusters_sidecar, cluster_state):\n",
    "                            clusters_count = clusters_sidecar.cluster_states_counter[cluster_state.name]\n",
    "                            \n",
    "                            if clusters_count <= soft_limit:\n",
    "                                return 0, -1, -1\n",
    "                                \n",
    "                            metas_of_interest = list(filter(lambda m: m.state == cluster_state, metas.values()))\n",
    "                            assert len(metas_of_interest) == clusters_count\n",
    "                            redundant_metas_count = len(metas_of_interest) - soft_limit\n",
    "                            assert redundant_metas_count > 0\n",
    "                            metas_by_inactivity = list(map(lambda m: (m.last_activity_cycle, m.cluster_ind), metas_of_interest))\n",
    "                            metas_by_inactivity.sort() # most inactive metas will be concentrated at the very beginning\n",
    "                            most_inactive_metas = metas_by_inactivity[:redundant_metas_count]\n",
    "                            min_age = cycle - most_inactive_metas[-1][0]\n",
    "                            max_age = cycle - most_inactive_metas[0][0]\n",
    "                            most_inactive_metas = list(map(lambda x: metas[x[1]], most_inactive_metas))\n",
    "                            assert len(most_inactive_metas) == redundant_metas_count\n",
    "                            \n",
    "                            for meta in most_inactive_metas:\n",
    "                                remove_cluster(meta, metas, clusters, clusters_sidecar)\n",
    "                                \n",
    "                            assert len(metas) == clusters.len\n",
    "                            return len(most_inactive_metas), min_age, max_age\n",
    "\n",
    "                        removed_count = remove_dead_clusters(LEARN_CLUSTER_METAS, LEARN_CLUSTERS, LEARN_CLUSTERS_SIDECAR)\n",
    "                        LOG(f'Removed {removed_count} dead LEARN clusters')\n",
    "                        removed_count = remove_dead_clusters(CLUSTER_METAS, CLUSTERS, CLUSTERS_SIDECAR)\n",
    "                        LOG(f'Removed {removed_count} dead PROD_CANDIDATE clusters')\n",
    "                        removed_count, min_age, max_age = soft_limit_clusters(HP_LEARN_CLUSTERS_COUNT_SOFT_LIMIT, LEARN_CLUSTER_METAS, LEARN_CLUSTERS, LEARN_CLUSTERS_SIDECAR, ClusterState.LEARN)\n",
    "                        LOG(f'Removed {removed_count} LEARN clusters by soft limit {HP_LEARN_CLUSTERS_COUNT_SOFT_LIMIT:_}; age=[{min_age}, {max_age}]')\n",
    "                        removed_count, min_age, max_age = soft_limit_clusters(HP_PROD_CANDIDATE_CLUSTERS_COUNT_SOFT_LIMIT, CLUSTER_METAS, CLUSTERS, CLUSTERS_SIDECAR, ClusterState.PROD_CANDIDATE)\n",
    "                        LOG(f'Removed {removed_count} PROD_CANDIDATE clusters by soft limit {HP_PROD_CANDIDATE_CLUSTERS_COUNT_SOFT_LIMIT:_}; age=[{min_age}, {max_age}]')\n",
    "                        removed_count, min_age, max_age = soft_limit_clusters(HP_PROD_WORK_CLUSTERS_COUNT_SOFT_LIMIT, CLUSTER_METAS, CLUSTERS, CLUSTERS_SIDECAR, ClusterState.PROD_WORK)\n",
    "                        LOG(f'Removed {removed_count} PROD_WORK clusters by soft limit {HP_PROD_WORK_CLUSTERS_COUNT_SOFT_LIMIT:_}; age=[{min_age}, {max_age}]')\n",
    "\n",
    "                persist_prod_clusters_governeur(is_forced=True)"
   ]
  },
  {
   "cell_type": "code",
   "execution_count": null,
   "id": "616102e4-e8c3-42db-aee5-ebdc0446218b",
   "metadata": {},
   "outputs": [],
   "source": []
  },
  {
   "cell_type": "code",
   "execution_count": 68,
   "id": "3fa0343f-eb58-469f-be2c-59abbf710fb7",
   "metadata": {},
   "outputs": [
    {
     "data": {
      "text/plain": [
       "18884"
      ]
     },
     "execution_count": 68,
     "metadata": {},
     "output_type": "execute_result"
    }
   ],
   "source": [
    "cluster_meta.cluster_ind\n",
    "q = cluster_meta.cluster_ind\n",
    "q = 18884\n",
    "q"
   ]
  },
  {
   "cell_type": "code",
   "execution_count": 69,
   "id": "3e015603-a735-478b-8a74-c85719d0934b",
   "metadata": {},
   "outputs": [
    {
     "ename": "CUDADriverError",
     "evalue": "CUDA_ERROR_ASSERT: device-side assert triggered",
     "output_type": "error",
     "traceback": [
      "\u001b[0;31m---------------------------------------------------------------------------\u001b[0m",
      "\u001b[0;31mCUDADriverError\u001b[0m                           Traceback (most recent call last)",
      "Cell \u001b[0;32mIn[69], line 1\u001b[0m\n\u001b[0;32m----> 1\u001b[0m (LEARN_CLUSTERS\u001b[38;5;241m.\u001b[39marray[q] \u001b[38;5;241m>\u001b[39m \u001b[38;5;241m0\u001b[39m)\u001b[38;5;241m.\u001b[39msum(), np\u001b[38;5;241m.\u001b[39mflatnonzero(LEARN_CLUSTERS\u001b[38;5;241m.\u001b[39marray[q]), LEARN_CLUSTERS\u001b[38;5;241m.\u001b[39marray[q][np\u001b[38;5;241m.\u001b[39mflatnonzero(LEARN_CLUSTERS\u001b[38;5;241m.\u001b[39marray[q])]\n",
      "File \u001b[0;32mcupy/_core/core.pyx:1274\u001b[0m, in \u001b[0;36mcupy._core.core._ndarray_base.__richcmp__\u001b[0;34m()\u001b[0m\n",
      "File \u001b[0;32mcupy/_core/core.pyx:1746\u001b[0m, in \u001b[0;36mcupy._core.core._ndarray_base.__array_ufunc__\u001b[0;34m()\u001b[0m\n",
      "File \u001b[0;32mcupy/_core/_kernel.pyx:1374\u001b[0m, in \u001b[0;36mcupy._core._kernel.ufunc.__call__\u001b[0;34m()\u001b[0m\n",
      "File \u001b[0;32mcupy/_core/_kernel.pyx:1401\u001b[0m, in \u001b[0;36mcupy._core._kernel.ufunc._get_ufunc_kernel\u001b[0;34m()\u001b[0m\n",
      "File \u001b[0;32mcupy/_core/_kernel.pyx:1082\u001b[0m, in \u001b[0;36mcupy._core._kernel._get_ufunc_kernel\u001b[0;34m()\u001b[0m\n",
      "File \u001b[0;32mcupy/_core/_kernel.pyx:94\u001b[0m, in \u001b[0;36mcupy._core._kernel._get_simple_elementwise_kernel\u001b[0;34m()\u001b[0m\n",
      "File \u001b[0;32mcupy/_core/_kernel.pyx:82\u001b[0m, in \u001b[0;36mcupy._core._kernel._get_simple_elementwise_kernel_from_code\u001b[0;34m()\u001b[0m\n",
      "File \u001b[0;32mcupy/_core/core.pyx:2330\u001b[0m, in \u001b[0;36mcupy._core.core.compile_with_cache\u001b[0;34m()\u001b[0m\n",
      "File \u001b[0;32m~/anaconda3/envs/mine/lib/python3.12/site-packages/cupy/cuda/compiler.py:542\u001b[0m, in \u001b[0;36m_compile_module_with_cache\u001b[0;34m(source, options, arch, cache_dir, extra_source, backend, enable_cooperative_groups, name_expressions, log_stream, jitify)\u001b[0m\n\u001b[1;32m    538\u001b[0m     \u001b[38;5;28;01mreturn\u001b[39;00m _compile_with_cache_hip(\n\u001b[1;32m    539\u001b[0m         source, options, arch, cache_dir, extra_source, backend,\n\u001b[1;32m    540\u001b[0m         name_expressions, log_stream, cache_in_memory)\n\u001b[1;32m    541\u001b[0m \u001b[38;5;28;01melse\u001b[39;00m:\n\u001b[0;32m--> 542\u001b[0m     \u001b[38;5;28;01mreturn\u001b[39;00m _compile_with_cache_cuda(\n\u001b[1;32m    543\u001b[0m         source, options, arch, cache_dir, extra_source, backend,\n\u001b[1;32m    544\u001b[0m         enable_cooperative_groups, name_expressions, log_stream,\n\u001b[1;32m    545\u001b[0m         cache_in_memory, jitify)\n",
      "File \u001b[0;32m~/anaconda3/envs/mine/lib/python3.12/site-packages/cupy/cuda/compiler.py:613\u001b[0m, in \u001b[0;36m_compile_with_cache_cuda\u001b[0;34m(source, options, arch, cache_dir, extra_source, backend, enable_cooperative_groups, name_expressions, log_stream, cache_in_memory, jitify)\u001b[0m\n\u001b[1;32m    611\u001b[0m             cubin_hash \u001b[38;5;241m=\u001b[39m _hash_hexdigest(cubin)\u001b[38;5;241m.\u001b[39mencode(\u001b[38;5;124m'\u001b[39m\u001b[38;5;124mascii\u001b[39m\u001b[38;5;124m'\u001b[39m)\n\u001b[1;32m    612\u001b[0m             \u001b[38;5;28;01mif\u001b[39;00m \u001b[38;5;28mhash\u001b[39m \u001b[38;5;241m==\u001b[39m cubin_hash:\n\u001b[0;32m--> 613\u001b[0m                 mod\u001b[38;5;241m.\u001b[39mload(cubin)\n\u001b[1;32m    614\u001b[0m                 \u001b[38;5;28;01mreturn\u001b[39;00m mod\n\u001b[1;32m    615\u001b[0m \u001b[38;5;28;01melse\u001b[39;00m:\n\u001b[1;32m    616\u001b[0m     \u001b[38;5;66;03m# Enforce compiling -- the resulting kernel will be cached elsewhere,\u001b[39;00m\n\u001b[1;32m    617\u001b[0m     \u001b[38;5;66;03m# so we do nothing\u001b[39;00m\n",
      "File \u001b[0;32mcupy/cuda/function.pyx:263\u001b[0m, in \u001b[0;36mcupy.cuda.function.Module.load\u001b[0;34m()\u001b[0m\n",
      "File \u001b[0;32mcupy/cuda/function.pyx:265\u001b[0m, in \u001b[0;36mcupy.cuda.function.Module.load\u001b[0;34m()\u001b[0m\n",
      "File \u001b[0;32mcupy_backends/cuda/api/driver.pyx:226\u001b[0m, in \u001b[0;36mcupy_backends.cuda.api.driver.moduleLoadData\u001b[0;34m()\u001b[0m\n",
      "File \u001b[0;32mcupy_backends/cuda/api/driver.pyx:63\u001b[0m, in \u001b[0;36mcupy_backends.cuda.api.driver.check_status\u001b[0;34m()\u001b[0m\n",
      "\u001b[0;31mCUDADriverError\u001b[0m: CUDA_ERROR_ASSERT: device-side assert triggered"
     ]
    }
   ],
   "source": [
    "(LEARN_CLUSTERS.array[q] > 0).sum(), np.flatnonzero(LEARN_CLUSTERS.array[q]), LEARN_CLUSTERS.array[q][np.flatnonzero(LEARN_CLUSTERS.array[q])]"
   ]
  },
  {
   "cell_type": "code",
   "execution_count": 122,
   "id": "45fab33d-aaf3-46f5-a060-3e80025a1d6e",
   "metadata": {},
   "outputs": [
    {
     "data": {
      "text/plain": [
       "(array(5),\n",
       " array([128, 196, 627, 835, 884]),\n",
       " array([1., 1., 1., 1., 1.], dtype=float32))"
      ]
     },
     "execution_count": 122,
     "metadata": {},
     "output_type": "execute_result"
    }
   ],
   "source": [
    "(LEARN_CLUSTERS_SIDECAR.masks[q] > 0).sum(), np.flatnonzero(LEARN_CLUSTERS_SIDECAR.masks[q]), LEARN_CLUSTERS_SIDECAR.masks[q][np.flatnonzero(LEARN_CLUSTERS_SIDECAR.masks[q])]"
   ]
  },
  {
   "cell_type": "code",
   "execution_count": 117,
   "id": "394d09eb-768f-42cc-8387-3a24ee691fb9",
   "metadata": {},
   "outputs": [
    {
     "data": {
      "text/plain": [
       "{'state': <ClusterState.LEARN: 'learn'>,\n",
       " 'cluster_ind': 76753,\n",
       " 'cluster_key': (869, (53, 61, 219, 517, 526, 777, 805, 866)),\n",
       " 'output_bit': 869,\n",
       " 'input_bits': (130, 295, 332, 407, 483, 798),\n",
       " 'ones_count': np.int32(5),\n",
       " 'last_activity_cycle': 87,\n",
       " 'accuracy_calc': None,\n",
       " 'verify_signal_ids': []}"
      ]
     },
     "execution_count": 117,
     "metadata": {},
     "output_type": "execute_result"
    }
   ],
   "source": [
    "vars(LEARN_CLUSTER_METAS[q])"
   ]
  },
  {
   "cell_type": "code",
   "execution_count": 119,
   "id": "f5009bee-c225-4e46-91d4-dcf78ba232d8",
   "metadata": {},
   "outputs": [
    {
     "data": {
      "text/plain": [
       "(array([0, 0], dtype=int32), array(0, dtype=int32))"
      ]
     },
     "execution_count": 119,
     "metadata": {},
     "output_type": "execute_result"
    }
   ],
   "source": [
    "LEARN_CLUSTERS_SIDECAR.binarization_schedules[q], LEARN_CLUSTERS_SIDECAR.binarization_countdowns[q]"
   ]
  },
  {
   "cell_type": "markdown",
   "id": "c2157ff8-4566-479d-87e4-85c46173b272",
   "metadata": {},
   "source": [
    "## Post-train"
   ]
  },
  {
   "cell_type": "code",
   "execution_count": 73,
   "id": "84fe82bc-db6c-436c-a8b4-fc004b7caee5",
   "metadata": {},
   "outputs": [],
   "source": [
    "bm = LEARN_CLUSTERS_SIDECAR.is_dead_boolmap[:LEARN_CLUSTERS.active_len]\n",
    "inds = np.arange(LEARN_CLUSTERS.active_len)[bm]\n",
    "\n",
    "for i, cluster_ind in enumerate(inds):\n",
    "    meta = LEARN_CLUSTER_METAS[cluster_ind]\n",
    "    assert meta.state == ClusterState.DEAD"
   ]
  },
  {
   "cell_type": "code",
   "execution_count": 120,
   "id": "7cf1958f-2700-4dfc-8b6c-ea86b7d67e40",
   "metadata": {},
   "outputs": [
    {
     "data": {
      "text/plain": [
       "(0, np.int64(286786))"
      ]
     },
     "execution_count": 120,
     "metadata": {},
     "output_type": "execute_result"
    }
   ],
   "source": [
    "i, cluster_ind"
   ]
  },
  {
   "cell_type": "code",
   "execution_count": 122,
   "id": "acea7655-30bf-4f08-bc4f-6583038d6874",
   "metadata": {},
   "outputs": [
    {
     "data": {
      "text/plain": [
       "{'state': <ClusterState.LEARN: 'learn'>,\n",
       " 'cluster_ind': 286786,\n",
       " 'cluster_key': (783, (50, 231, 360, 428, 803, 899, 945)),\n",
       " 'output_bit': 783,\n",
       " 'input_bits': (np.int32(50),\n",
       "  np.int32(231),\n",
       "  np.int32(360),\n",
       "  np.int32(428),\n",
       "  np.int32(803),\n",
       "  np.int32(899),\n",
       "  np.int32(945)),\n",
       " 'ones_count': -1,\n",
       " 'binarization_schedule': (5, 10),\n",
       " 'accuracy_calc': None,\n",
       " 'verify_signal_ids': []}"
      ]
     },
     "execution_count": 122,
     "metadata": {},
     "output_type": "execute_result"
    }
   ],
   "source": [
    "vars(meta)"
   ]
  },
  {
   "cell_type": "code",
   "execution_count": 128,
   "id": "2016afe1-8d3b-432b-af17-286d955cdccf",
   "metadata": {},
   "outputs": [
    {
     "data": {
      "text/plain": [
       "(np.True_, np.True_, 'LEARN')"
      ]
     },
     "execution_count": 128,
     "metadata": {},
     "output_type": "execute_result"
    }
   ],
   "source": [
    "LEARN_CLUSTERS_SIDECAR.is_present_boolmap[286786], LEARN_CLUSTERS_SIDECAR.is_dead_boolmap[286786], LEARN_CLUSTERS_SIDECAR.cluster_states[286786]"
   ]
  },
  {
   "cell_type": "code",
   "execution_count": 65,
   "id": "d9c0c992-16a0-41fa-b22c-c72d254de264",
   "metadata": {},
   "outputs": [],
   "source": [
    "# active_points = points[active_point_inds] # subset of points which are connected to active output bits\n",
    "# active_points_signal_input_mat = active_points * signal_input\n",
    "# active_points_signal_input_boolmap = (active_points_signal_input_mat.sum(axis=1) >= HP_CLUSTER_CREATION_ONES_COUNT_THRES) # active_points must have at least ON bits within input signal\n",
    "# active_points_signal_input_mat = xp_array_from_gpu(active_points_signal_input_mat)\n",
    "# active_points_signal_input_inds = np.flatnonzero(xp_array_from_gpu(active_points_signal_input_boolmap))\n",
    "# learn_clusters_count0 = learn_clusters_count\n",
    "\n",
    "# for active_points_signal_input_ind in active_points_signal_input_inds:\n",
    "#     point_ind = active_point_inds[active_points_signal_input_ind]\n",
    "#     subsignal_input = active_points_signal_input_mat[active_points_signal_input_ind]\n",
    "    \n",
    "#     active_output_bit = int(point_output_bits[point_ind])\n",
    "#     active_input_bits = np.flatnonzero(subsignal_input) ### !!!! dur = 1.84, 1.18 vs 3.02 (wo 1.22, 1.16, 1.16, wt 3, 3.04, 3.04)\n",
    "#     ones_count = active_input_bits.shape[0]\n",
    "#     assert ones_count >= HP_CLUSTER_CREATION_ONES_COUNT_THRES"
   ]
  },
  {
   "cell_type": "code",
   "execution_count": null,
   "id": "4839f33f-8fb8-47fc-b934-6eabaa41c900",
   "metadata": {},
   "outputs": [],
   "source": [
    "ones_counts = xp.zeros(active_point_inds.shape[0], dtype='i')\n",
    "nzb_list = xp.full((active_point_inds.shape[0], HP_POINT_NON_ZERO_BITS), -1, dtype='i')\n",
    "cuda_block_size = 256\n",
    "cuda_blocks_count = math.ceil(active_point_inds.shape[0] / cuda_block_size)\n",
    "cuda_binarize_clusters_kernel((cuda_blocks_count, ), (cuda_block_size,),\n",
    "                              (cp.int32(HP_SIGNAL_VEC_LEN),\n",
    "                               cp.int32(HP_POINT_NON_ZERO_BITS),\n",
    "                               cp.int32(HP_CLUSTER_CREATION_ONES_COUNT_THRES),\n",
    "                               signal_input,\n",
    "                               cp.int32(active_point_inds.shape[0]), \n",
    "                               xp_array_to_gpu(active_point_inds),\n",
    "                               points,\n",
    "                               ones_counts,\n",
    "                               nzb_list\n",
    "                               ))"
   ]
  },
  {
   "cell_type": "code",
   "execution_count": 83,
   "id": "f2f91116-75e0-4cea-9d3f-e00a946ef547",
   "metadata": {},
   "outputs": [],
   "source": []
  },
  {
   "cell_type": "code",
   "execution_count": 110,
   "id": "e3e359fb-9c9d-468c-82bd-4f87fc9e2812",
   "metadata": {},
   "outputs": [],
   "source": [
    "LEARN_CLUSTERS.clear()\n",
    "LEARN_CLUSTER_METAS.clear()\n",
    "unique_cluster_keys.clear()"
   ]
  },
  {
   "cell_type": "code",
   "execution_count": 111,
   "id": "765040ce-682f-4f15-90d5-f851e5fdeed8",
   "metadata": {},
   "outputs": [
    {
     "name": "stdout",
     "output_type": "stream",
     "text": [
      "CPU times: user 3.12 s, sys: 37.1 ms, total: 3.15 s\n",
      "Wall time: 3.15 s\n"
     ]
    }
   ],
   "source": [
    "%%time\n",
    "learn_clusters_count = len(LEARN_CLUSTER_METAS)\n",
    "learn_clusters_sidecar_patch = LearnClustersSidecarPatch()\n",
    "new_clusters = []\n",
    "new_cluster_inds = []\n",
    "signals_count_for_new_clusters = 0\n",
    "\n",
    "# Create signals from prev sgr to avoid situation when clusters are created and get immediately learned on the same data\n",
    "for signal_input, signal_output in zip(prev_cycle_sgr.signals_input, prev_cycle_sgr.signals_output):\n",
    "    if learn_clusters_count + new_clusters_creation_rate_calc.value > HP_LEARN_CLUSTERS_COUNT_SOFT_LIMIT:\n",
    "        break\n",
    "        \n",
    "    signals_count_for_new_clusters += 1\n",
    "    active_points_boolmap = signal_output[point_output_bits] != 0\n",
    "    active_point_inds = point_inds[active_points_boolmap]\n",
    "\n",
    "    if active_point_inds.shape[0] == 0:\n",
    "        new_clusters_creation_rate_calc(0)\n",
    "        continue\n",
    "\n",
    "    learn_clusters_count0 = learn_clusters_count\n",
    "    ones_counts = xp.zeros(active_point_inds.shape[0], dtype='i')\n",
    "    nzb_list = xp.full((active_point_inds.shape[0], HP_POINT_NON_ZERO_BITS), -1, dtype='i')\n",
    "    cuda_block_size = 256\n",
    "    cuda_blocks_count = math.ceil(active_point_inds.shape[0] / cuda_block_size)\n",
    "    cuda_create_clusters_kernel((cuda_blocks_count, ), (cuda_block_size,),\n",
    "                                  (cp.int32(HP_SIGNAL_VEC_LEN),\n",
    "                                   cp.int32(HP_POINT_NON_ZERO_BITS),\n",
    "                                   cp.int32(HP_CLUSTER_CREATION_ONES_COUNT_THRES),\n",
    "                                   signal_input,\n",
    "                                   cp.int32(active_point_inds.shape[0]), \n",
    "                                   xp_array_to_gpu(active_point_inds),\n",
    "                                   points,\n",
    "                                   ones_counts,\n",
    "                                   nzb_list\n",
    "                                   ))\n",
    "    ones_counts = xp_array_from_gpu(ones_counts)\n",
    "    nzb_list = xp_array_from_gpu(nzb_list)\n",
    "    good_inds_boolmap = ones_counts > 0\n",
    "    \n",
    "    for point_ind, ones_count, nzb in zip(active_point_inds[good_inds_boolmap], ones_counts[good_inds_boolmap], nzb_list[good_inds_boolmap]):\n",
    "        assert ones_count >= HP_CLUSTER_CREATION_ONES_COUNT_THRES\n",
    "        active_input_bits = nzb[:ones_count]\n",
    "        # cluster = active_points_signal_input_mat[active_points_signal_input_ind]\n",
    "        cluster = np.zeros(HP_SIGNAL_VEC_LEN, dtype='f')\n",
    "        cluster[active_input_bits] = 1\n",
    "        \n",
    "        active_output_bit = int(point_output_bits[point_ind])\n",
    "        # active_input_bits = np.flatnonzero(cluster) ### !!!! dur = 1.84, 1.18 vs 3.02 (wo 1.22, 1.16, 1.16, wt 3, 3.04, 3.04)\n",
    "        # ones_count = active_input_bits.shape[0]\n",
    "        cluster_key = get_cluster_key2(active_output_bit, active_input_bits) ### ! dur = 1.13, 3.01 vs 4.14 (wo 3.03, 2.99, 3.04, wt 4.13, 4.15, 4.16)\n",
    "\n",
    "        if cluster_key in unique_cluster_keys:\n",
    "            continue\n",
    "\n",
    "        # GPU doesn't honor frequent uploads of data - it renders way to slow execution.\n",
    "        # as such during clusters-creation-loop a) stage new clusters on CPU b) reserve indices in GPU array\n",
    "        # At the end bulk upload to GPU\n",
    "        cluster_ind = LEARN_CLUSTERS.lease() ### ! dur = 0.51, 4.12 vs 4.63 (wo 4.05, 4.15, 4.17, wt 4.62, 4.62, 4.65)\n",
    "        new_clusters.append(cluster)\n",
    "        new_cluster_inds.append(cluster_ind)\n",
    "        \n",
    "        cluster_meta = ClusterMeta(cluster_ind)\n",
    "        cluster_meta.cluster_key = cluster_key\n",
    "        cluster_meta.output_bit = active_output_bit\n",
    "        cluster_meta.input_bits = tuple(active_input_bits)\n",
    "        # cluster_meta.nu = 1 / cluster.sum()\n",
    "        cluster_meta.binarization_schedule = HP_CLUSTER_LEARN_BINARIZATION_SCHEDULE\n",
    "        # cluster_meta.signals_to_learn_till_binarization = cluster_meta.binarization_schedule[0]\n",
    "        # cluster_meta.last_activity_cycle = cycle\n",
    "\n",
    "        ### !!! dur = 2.11, 7.12 vs 9.23 (wo 7.26, 6.84, 7.29, wt 9.13, 9.26, 9.32)\n",
    "        learn_clusters_sidecar_patch.cluster_states.append(cluster_meta.state)\n",
    "        learn_clusters_sidecar_patch.masks.append(cluster)\n",
    "        learn_clusters_sidecar_patch.output_bits.append(active_output_bit)\n",
    "        learn_clusters_sidecar_patch.nus.append(1 / ones_count)\n",
    "        learn_clusters_sidecar_patch.signals_to_learn_till_binarization_counters.append(cluster_meta.binarization_schedule[0])\n",
    "        learn_clusters_sidecar_patch.signals_learned_counters.append(0)\n",
    "        learn_clusters_sidecar_patch.last_activity_cycles.append(cycle)\n",
    "        learn_clusters_sidecar_patch.is_present_boolmap.append(True)\n",
    "        \n",
    "        # # assert not cluster_ind in LEARN_CLUSTER_METAS\n",
    "        LEARN_CLUSTER_METAS[cluster_ind] = cluster_meta ### !! dur = 1.27, 5.81 vs 7.08 (wo 5.96, 5.75, 5.74, wt 7.28, 7.02, 6.95)\n",
    "        # # # # LEARN_CLUSTERS_SIDECAR.sync(cluster_meta)\n",
    "        unique_cluster_keys.add(cluster_key)\n",
    "        learn_clusters_count += 1\n",
    "\n",
    "    assert learn_clusters_count >= learn_clusters_count0\n",
    "    new_clusters_creation_rate_calc(learn_clusters_count - learn_clusters_count0)"
   ]
  },
  {
   "cell_type": "code",
   "execution_count": null,
   "id": "fc5ca4dd-cbec-4981-bf5a-dc9e40eb66b9",
   "metadata": {},
   "outputs": [],
   "source": []
  },
  {
   "cell_type": "code",
   "execution_count": 208,
   "id": "05dd29de-4261-4638-89eb-ef682b083533",
   "metadata": {},
   "outputs": [
    {
     "data": {
      "text/plain": [
       "np.float64(3.0199999999999996)"
      ]
     },
     "execution_count": 208,
     "metadata": {},
     "output_type": "execute_result"
    }
   ],
   "source": [
    "np.mean([8.54, 8.4, 8.52])"
   ]
  },
  {
   "cell_type": "code",
   "execution_count": 221,
   "id": "99cb69bf-d5f0-4de1-8804-2662c81ebe81",
   "metadata": {},
   "outputs": [
    {
     "data": {
      "text/plain": [
       "np.float64(8.453333333333333)"
      ]
     },
     "execution_count": 221,
     "metadata": {},
     "output_type": "execute_result"
    }
   ],
   "source": [
    "np.mean([8.46, 8.47, 8.43])"
   ]
  },
  {
   "cell_type": "code",
   "execution_count": null,
   "id": "9c0a3266-174d-4da8-8432-9d3d57bca2ae",
   "metadata": {},
   "outputs": [],
   "source": []
  },
  {
   "cell_type": "code",
   "execution_count": null,
   "id": "0628fa0b-43db-48be-b8c6-fc905bf4b40c",
   "metadata": {},
   "outputs": [],
   "source": []
  },
  {
   "cell_type": "code",
   "execution_count": null,
   "id": "14d287b4-c588-4844-b45e-2287249b1054",
   "metadata": {},
   "outputs": [],
   "source": []
  },
  {
   "cell_type": "code",
   "execution_count": null,
   "id": "8b56d690-1f83-4083-ad11-c955ccdbf38c",
   "metadata": {},
   "outputs": [],
   "source": []
  },
  {
   "cell_type": "code",
   "execution_count": null,
   "id": "77ec7d11-5cc0-4ed0-9973-b912e0c659f1",
   "metadata": {},
   "outputs": [],
   "source": []
  },
  {
   "cell_type": "code",
   "execution_count": null,
   "id": "5a701102-402e-4fe8-9439-e44f93a9f255",
   "metadata": {},
   "outputs": [],
   "source": []
  },
  {
   "cell_type": "code",
   "execution_count": null,
   "id": "efa78aae-aecf-4fdf-b05a-751dbbe00c27",
   "metadata": {},
   "outputs": [],
   "source": []
  },
  {
   "cell_type": "code",
   "execution_count": null,
   "id": "885a6df3-ff4a-4b93-99c4-8fa715583ac3",
   "metadata": {},
   "outputs": [],
   "source": []
  },
  {
   "cell_type": "code",
   "execution_count": null,
   "id": "21842fe1-b240-4060-a58f-a1429f0bb2ed",
   "metadata": {},
   "outputs": [],
   "source": []
  },
  {
   "cell_type": "code",
   "execution_count": null,
   "id": "cf0905b5-c41c-4d07-bd86-5aaf8235a5c5",
   "metadata": {},
   "outputs": [],
   "source": []
  },
  {
   "cell_type": "code",
   "execution_count": null,
   "id": "4098223b-9a6f-4b4c-a9a7-1e6f7eefc21a",
   "metadata": {},
   "outputs": [],
   "source": []
  },
  {
   "cell_type": "code",
   "execution_count": null,
   "id": "e4670d21-3173-419c-bba2-c13a8bd85e3c",
   "metadata": {},
   "outputs": [],
   "source": []
  },
  {
   "cell_type": "code",
   "execution_count": null,
   "id": "a6987c45-ee8c-4fd7-aefa-2b4ddf6bda3e",
   "metadata": {},
   "outputs": [],
   "source": []
  },
  {
   "cell_type": "code",
   "execution_count": null,
   "id": "150066c5-a048-4ae3-80fc-26d7c624282e",
   "metadata": {},
   "outputs": [],
   "source": []
  },
  {
   "cell_type": "code",
   "execution_count": null,
   "id": "0c91a6af-73b2-4e26-9e25-febc71ebd381",
   "metadata": {},
   "outputs": [],
   "source": []
  },
  {
   "cell_type": "code",
   "execution_count": 116,
   "id": "36b77f81-0829-4636-a2e7-225d003bdb1f",
   "metadata": {},
   "outputs": [],
   "source": [
    "lc = LEARN_CLUSTERS.array_active.copy()\n",
    "lcm = LEARN_CLUSTERS_SIDECAR.masks[:lc.shape[0]].copy()"
   ]
  },
  {
   "cell_type": "code",
   "execution_count": 145,
   "id": "580b19d4-c191-49d3-8b0e-f00bcb7bddd7",
   "metadata": {},
   "outputs": [
    {
     "name": "stdout",
     "output_type": "stream",
     "text": [
      "CPU times: user 10.8 ms, sys: 9 ms, total: 19.8 ms\n",
      "Wall time: 17.8 ms\n"
     ]
    }
   ],
   "source": [
    "%%time\n",
    "is_binarizable_boolmap = LEARN_CLUSTERS_SIDECAR.is_binarizable_boolmap[:LEARN_CLUSTERS.active_len]\n",
    "cluster_inds_to_binarize = np.arange(LEARN_CLUSTERS.active_len, dtype='i')[is_binarizable_boolmap]\n",
    "new_cluster_states = Counter()\n",
    "death_reasons = Counter()\n",
    "\n",
    "ones_counts = xp.zeros(cluster_inds_to_binarize.shape[0], dtype='i')\n",
    "nzb_list = xp.full((cluster_inds_to_binarize.shape[0], HP_POINT_NON_ZERO_BITS), -1, dtype='i')\n",
    "dumps = xp.zeros(cluster_inds_to_binarize.shape[0], dtype='f')\n",
    "\n",
    "cuda_block_size = 256\n",
    "cuda_blocks_count = math.ceil(cluster_inds_to_binarize.shape[0] / cuda_block_size)\n",
    "cuda_binarize_clusters_kernel((cuda_blocks_count, ), (cuda_block_size,),\n",
    "                              (cp.int32(HP_SIGNAL_VEC_LEN),\n",
    "                               cp.int32(HP_POINT_NON_ZERO_BITS),\n",
    "                               cp.float32(HP_CLUSTER_BINARIZE_THRES),\n",
    "                               cluster_inds_to_binarize.shape[0], \n",
    "                               xp_array_to_gpu(cluster_inds_to_binarize),\n",
    "                               LEARN_CLUSTERS.array, \n",
    "                               lc,\n",
    "                               lcm,\n",
    "                               ones_counts,\n",
    "                               nzb_list,\n",
    "                               dumps,\n",
    "                               ))\n",
    "ones_counts = xp_array_from_gpu(ones_counts)\n",
    "nzb_list = xp_array_from_gpu(nzb_list)\n",
    "dumps = xp_array_from_gpu(dumps)\n",
    "learn_clusters_sidecar_patch = LearnClustersSidecarPatch()\n",
    "\n",
    "# for cluster_ind, ones_count, nzb in zip(cluster_inds_to_binarize, ones_counts, nzb_list):\n",
    "#     cluster_meta = LEARN_CLUSTER_METAS[cluster_ind]\n",
    "#     assert cluster_meta.state == ClusterState.LEARN\n",
    "#     # assert cluster_meta.signals_to_learn_till_binarization <= 0\n",
    "#     # cluster_meta.last_activity_cycle = cycle\n",
    "#     cluster_meta.binarization_schedule = (10, )\n",
    "# #     # cluster_meta.signals_to_learn_till_binarization = cluster_meta.binarization_schedule[0] if cluster_meta.binarization_schedule else 0\n",
    "#     cluster_meta.ones_count = int(ones_count)\n",
    "#     assert cluster_meta.ones_count > 0\n",
    "#     # cluster_meta.nu = 1 / cluster_meta.ones_count\n",
    "\n",
    "#     b = cluster_meta.binarization_schedule[0] if cluster_meta.binarization_schedule else 0\n",
    "#     learn_clusters_sidecar_patch.signals_to_learn_till_binarization_counters.append(b)\n",
    "#     learn_clusters_sidecar_patch.nus.append(1 / cluster_meta.ones_count)\n",
    "#     learn_clusters_sidecar_patch.last_activity_cycles.append(cycle)\n",
    "\n",
    "#     if cluster_meta.ones_count >= HP_CLUSTER_ONES_COUNT_THRES:\n",
    "#         pass\n",
    "#         # tuple(nzb[nzb != -1])\n",
    "#         tuple(nzb[:ones_count])\n",
    "#         # tuple(np.flatnonzero(v))\n",
    "#         # old_cluster_key = cluster_meta.cluster_key\n",
    "#         # cluster_meta.input_bits = tuple(nzb[nzb != -1]) # FACK!!!! очень медленно\n",
    "#         # new_cluster_key = get_cluster_key(cluster_meta.output_bit, cluster_meta.input_bits)\n",
    "\n",
    "#         # if old_cluster_key != new_cluster_key:\n",
    "#         #     if new_cluster_key in unique_cluster_keys:\n",
    "#         #         cluster_meta.state = ClusterState.DEAD\n",
    "#         #         death_reasons['DUPLICATE'] += 1\n",
    "#         #     else:\n",
    "#         #         cluster_meta.cluster_key = new_cluster_key\n",
    "#         #         unique_cluster_keys.remove(old_cluster_key)\n",
    "#         #         unique_cluster_keys.add(new_cluster_key)\n",
    "#     else:\n",
    "#         # cluster_meta.state = ClusterState.DEAD\n",
    "#         death_reasons['SHORT'] += 1\n",
    "\n",
    "# #     # LEARN_CLUSTERS_SIDECAR.sync(cluster_meta)\n",
    "#     learn_clusters_sidecar_patch.cluster_states.append(cluster_meta.state)\n",
    "#     learn_clusters_sidecar_patch.is_dead_boolmap.append(cluster_meta.state == ClusterState.DEAD)\n",
    "#     learn_clusters_sidecar_patch.is_promotable_boolmap.append(cluster_meta.state == ClusterState.LEARN and not cluster_meta.binarization_schedule)\n",
    "# #     new_cluster_states[cluster_meta.state.name] += 1"
   ]
  },
  {
   "cell_type": "code",
   "execution_count": null,
   "id": "974ae1c6-f353-4729-a9a4-76b7143f7939",
   "metadata": {},
   "outputs": [],
   "source": []
  },
  {
   "cell_type": "code",
   "execution_count": 143,
   "id": "92601739-6a35-4bba-8745-6fbc264c9a5b",
   "metadata": {},
   "outputs": [
    {
     "data": {
      "text/plain": [
       "array(1)"
      ]
     },
     "execution_count": 143,
     "metadata": {},
     "output_type": "execute_result"
    }
   ],
   "source": [
    "np.count_nonzero(lc[3547])"
   ]
  },
  {
   "cell_type": "code",
   "execution_count": 144,
   "id": "c1b07306-2c6d-4624-a68b-c2c67f35e1e0",
   "metadata": {},
   "outputs": [
    {
     "data": {
      "text/plain": [
       "array([ 1,  2,  3,  4,  5,  6,  7,  8,  9, 10, 11], dtype=int32)"
      ]
     },
     "execution_count": 144,
     "metadata": {},
     "output_type": "execute_result"
    }
   ],
   "source": [
    "np.unique(ones_counts)"
   ]
  },
  {
   "cell_type": "code",
   "execution_count": 120,
   "id": "a8f84e8c-7c23-40e2-92cd-048db39b9ebf",
   "metadata": {},
   "outputs": [],
   "source": [
    "binarized_clusters = xp.where(LEARN_CLUSTERS.array[cluster_inds_to_binarize] > HP_CLUSTER_BINARIZE_THRES, 1, 0)\n",
    "binarized_clusters_ones_counts = xp_array_from_gpu(binarized_clusters.sum(axis=1))"
   ]
  },
  {
   "cell_type": "code",
   "execution_count": 121,
   "id": "7d31ffd4-b2ba-4853-a82d-ca4232fa8642",
   "metadata": {},
   "outputs": [
    {
     "data": {
      "text/plain": [
       "array([ 1,  2,  3,  4,  5,  6,  7,  8,  9, 10, 11])"
      ]
     },
     "execution_count": 121,
     "metadata": {},
     "output_type": "execute_result"
    }
   ],
   "source": [
    "np.unique(binarized_clusters_ones_counts)"
   ]
  },
  {
   "cell_type": "code",
   "execution_count": 122,
   "id": "5651f767-1d08-4f03-8794-67cd0419184f",
   "metadata": {},
   "outputs": [
    {
     "data": {
      "text/plain": [
       "array([  316,   393,  1910,  2563,  2847,  3056,  3538,  4422,  5015,\n",
       "        6174,  6285,  6410,  6649,  6726,  6787,  6970,  7707,  8145,\n",
       "        8384,  8404,  8604,  9082,  9578,  9903, 10619, 10972, 10987,\n",
       "       11095, 11571, 11595, 12095, 12582, 12690, 12933, 13332, 13554,\n",
       "       13933, 14183, 14382, 15004, 15264, 15330, 15485, 15667, 16188,\n",
       "       16200, 16762, 16824, 17420, 17444, 18763, 19384, 19445, 19568,\n",
       "       19880, 19997, 20119, 20264, 21568, 21623, 22397, 22615, 22801,\n",
       "       23033, 23155, 23307, 23459, 24312, 24372, 24522, 25069, 25304,\n",
       "       26859, 27175, 27284, 27604, 27841, 27913, 28322, 28628, 28726,\n",
       "       28820, 29127, 29237])"
      ]
     },
     "execution_count": 122,
     "metadata": {},
     "output_type": "execute_result"
    }
   ],
   "source": [
    "np.flatnonzero(binarized_clusters_ones_counts < 2)"
   ]
  },
  {
   "cell_type": "code",
   "execution_count": 127,
   "id": "7132f3ac-5163-4e9e-9ea2-088d73d1b9d8",
   "metadata": {},
   "outputs": [
    {
     "data": {
      "text/plain": [
       "np.int32(3547)"
      ]
     },
     "execution_count": 127,
     "metadata": {},
     "output_type": "execute_result"
    }
   ],
   "source": [
    "cluster_inds_to_binarize[316]"
   ]
  },
  {
   "cell_type": "code",
   "execution_count": 128,
   "id": "30b574d8-f74b-47cd-bacd-d58dc9273835",
   "metadata": {},
   "outputs": [
    {
     "data": {
      "text/plain": [
       "array(1)"
      ]
     },
     "execution_count": 128,
     "metadata": {},
     "output_type": "execute_result"
    }
   ],
   "source": [
    "np.count_nonzero(LEARN_CLUSTERS.array[3547] > HP_CLUSTER_BINARIZE_THRES)"
   ]
  },
  {
   "cell_type": "code",
   "execution_count": null,
   "id": "eca46af4-8359-49d4-af65-4697c660fce9",
   "metadata": {},
   "outputs": [],
   "source": []
  },
  {
   "cell_type": "code",
   "execution_count": null,
   "id": "99e56f1e-d894-4c86-a8cd-4e97a149ee3c",
   "metadata": {},
   "outputs": [],
   "source": []
  },
  {
   "cell_type": "code",
   "execution_count": null,
   "id": "023408f7-bd54-4f0d-8dd3-48e8a668dfd0",
   "metadata": {},
   "outputs": [],
   "source": []
  },
  {
   "cell_type": "code",
   "execution_count": null,
   "id": "c5d66372-414e-4501-8bc0-93b4ebaae457",
   "metadata": {},
   "outputs": [],
   "source": []
  },
  {
   "cell_type": "code",
   "execution_count": 64,
   "id": "c6beef83-29a1-424f-a43e-202e447519a1",
   "metadata": {},
   "outputs": [],
   "source": [
    "lc = learn_clusters[cluster_inds_to_binarize]\n",
    "lcm = learn_cluster_masks[cluster_inds_to_binarize]"
   ]
  },
  {
   "cell_type": "code",
   "execution_count": 65,
   "id": "4143a4c4-861d-426f-aa6b-11d3d92efa48",
   "metadata": {},
   "outputs": [
    {
     "name": "stdout",
     "output_type": "stream",
     "text": [
      "CPU times: user 91.1 ms, sys: 2.05 ms, total: 93.1 ms\n",
      "Wall time: 91 ms\n"
     ]
    }
   ],
   "source": [
    "%%time\n",
    "binarized_clusters = xp.where(learn_clusters[cluster_inds_to_binarize] > HP_CLUSTER_BINARIZE_THRES, 1, 0)\n",
    "lc[:] = binarized_clusters\n",
    "lcm[:] = binarized_clusters\n",
    "binarized_clusters_ones_counts = xp_array_from_gpu(binarized_clusters.sum(axis=1))\n",
    "binarized_clusters = xp_array_from_gpu(binarized_clusters)\n",
    "learn_clusters_sidecar_patch = LearnClustersSidecarPatch()\n",
    "\n",
    "for cluster_ind, cluster, ones_count in zip(cluster_inds_to_binarize, binarized_clusters, binarized_clusters_ones_counts):\n",
    "    cluster_meta = LEARN_CLUSTER_METAS[cluster_ind]\n",
    "    assert cluster_meta.state == ClusterState.LEARN\n",
    "\n",
    "    if cluster_meta.ones_count >= HP_CLUSTER_ONES_COUNT_THRES:\n",
    "        tuple(np.flatnonzero(cluster))"
   ]
  },
  {
   "cell_type": "code",
   "execution_count": null,
   "id": "e434d187-dd08-48ba-8fc7-7e37ea822877",
   "metadata": {},
   "outputs": [],
   "source": []
  },
  {
   "cell_type": "code",
   "execution_count": null,
   "id": "db347fff-71d0-40c5-a3ca-b206b97d7805",
   "metadata": {},
   "outputs": [],
   "source": []
  },
  {
   "cell_type": "code",
   "execution_count": 68,
   "id": "56861e87-a73a-4e09-8070-618aa6d1e545",
   "metadata": {},
   "outputs": [],
   "source": []
  },
  {
   "cell_type": "code",
   "execution_count": 75,
   "id": "b6d991af-a800-4029-a23e-46ee3af3d2e6",
   "metadata": {},
   "outputs": [],
   "source": [
    "lc = learn_clusters.copy()\n",
    "lcm = learn_cluster_masks.copy()"
   ]
  },
  {
   "cell_type": "code",
   "execution_count": 112,
   "id": "17970fa7-4ad0-4198-8df6-0af68d735704",
   "metadata": {},
   "outputs": [
    {
     "name": "stdout",
     "output_type": "stream",
     "text": [
      "CPU times: user 53.1 ms, sys: 2 ms, total: 55.1 ms\n",
      "Wall time: 53.6 ms\n"
     ]
    }
   ],
   "source": [
    "%%time\n",
    "nzb_list = xp.full((cluster_inds_to_binarize.shape[0], HP_POINT_NON_ZERO_BITS), -1, dtype='i')\n",
    "cuda_block_size = 256\n",
    "cuda_blocks_count = math.ceil(cluster_inds_to_binarize.shape[0] / cuda_block_size)\n",
    "cuda_binarize_clusters_kernel((cuda_blocks_count, ), (cuda_block_size,),\n",
    "                           (HP_SIGNAL_VEC_LEN,\n",
    "                            HP_POINT_NON_ZERO_BITS,\n",
    "                            HP_CLUSTER_BINARIZE_THRES,\n",
    "                            cluster_inds_to_binarize.shape[0], \n",
    "                            xp_array_to_gpu(cluster_inds_to_binarize),\n",
    "                            learn_clusters, \n",
    "                            lc,\n",
    "                            lcm,\n",
    "                            nzb_list\n",
    "                            ))\n",
    "nzb_list = xp_array_from_gpu(nzb_list)\n",
    "learn_clusters_sidecar_patch = LearnClustersSidecarPatch()\n",
    "\n",
    "for cluster_ind, nzb in zip(cluster_inds_to_binarize, nzb_list):\n",
    "    cluster_meta = LEARN_CLUSTER_METAS[cluster_ind]\n",
    "    assert cluster_meta.state == ClusterState.LEARN\n",
    "\n",
    "    if cluster_meta.ones_count >= HP_CLUSTER_ONES_COUNT_THRES:\n",
    "        tuple(nzb[nzb != -1])\n",
    "        # tuple(np.flatnonzero(cluster))\n",
    "        pass"
   ]
  },
  {
   "cell_type": "code",
   "execution_count": 95,
   "id": "f700f014-a403-4e53-8c7a-39a3b8cf3514",
   "metadata": {},
   "outputs": [
    {
     "data": {
      "text/plain": [
       "array([ 89, 177, 190, 219, 463, 496, 652, 658, 712, 761, 911,  -1,  -1,\n",
       "        -1,  -1,  -1,  -1,  -1,  -1,  -1,  -1,  -1,  -1,  -1,  -1,  -1,\n",
       "        -1,  -1,  -1,  -1,  -1,  -1,  -1,  -1,  -1,  -1,  -1,  -1,  -1,\n",
       "        -1], dtype=int32)"
      ]
     },
     "execution_count": 95,
     "metadata": {},
     "output_type": "execute_result"
    }
   ],
   "source": [
    "nzb_list[-15]"
   ]
  },
  {
   "cell_type": "code",
   "execution_count": 96,
   "id": "9890917e-eea6-4dc4-9c1e-5348ef1b0a86",
   "metadata": {},
   "outputs": [
    {
     "data": {
      "text/plain": [
       "np.int32(299300)"
      ]
     },
     "execution_count": 96,
     "metadata": {},
     "output_type": "execute_result"
    }
   ],
   "source": [
    "cluster_inds_to_binarize[-15]"
   ]
  },
  {
   "cell_type": "code",
   "execution_count": 103,
   "id": "c2d57599-f5b7-4900-9315-195236c8bde0",
   "metadata": {},
   "outputs": [
    {
     "data": {
      "text/plain": [
       "(array([ 89, 177, 190, 219, 463, 496, 652, 658, 712, 761, 911]),\n",
       " array([ 89, 177, 190, 219, 463, 496, 652, 658, 712, 761, 911]))"
      ]
     },
     "execution_count": 103,
     "metadata": {},
     "output_type": "execute_result"
    }
   ],
   "source": [
    "np.flatnonzero(lc[299300]), np.flatnonzero(lcm[299300])"
   ]
  },
  {
   "cell_type": "code",
   "execution_count": 109,
   "id": "dc28a93b-1433-4711-8b0a-1fb5bec4f1e9",
   "metadata": {},
   "outputs": [
    {
     "data": {
      "text/plain": [
       "array([ 53,  95, 136, 690, 713, 858, 884], dtype=int32)"
      ]
     },
     "execution_count": 109,
     "metadata": {},
     "output_type": "execute_result"
    }
   ],
   "source": []
  },
  {
   "cell_type": "code",
   "execution_count": null,
   "id": "6c4f8664-a19a-415c-9e53-66a9d265c09d",
   "metadata": {},
   "outputs": [],
   "source": []
  },
  {
   "cell_type": "code",
   "execution_count": null,
   "id": "5eaa1509-0a2f-44be-84d9-7649c0426e3b",
   "metadata": {},
   "outputs": [],
   "source": []
  },
  {
   "cell_type": "code",
   "execution_count": 171,
   "id": "303a2ea2-a050-497d-b0a4-a0d8b9f6b75d",
   "metadata": {},
   "outputs": [
    {
     "name": "stdout",
     "output_type": "stream",
     "text": [
      "CPU times: user 4.06 ms, sys: 1.85 ms, total: 5.91 ms\n",
      "Wall time: 4.46 ms\n"
     ]
    }
   ],
   "source": [
    "%%time\n",
    "learn_clusters = LEARN_CLUSTERS.array_active\n",
    "updated_learn_clusters = learn_clusters.copy()\n",
    "assert learn_clusters.shape[0] == learn_clusters_count\n",
    "learn_cluster_masks = LEARN_CLUSTERS_SIDECAR.masks[:learn_clusters_count]\n",
    "learn_cluster_nus = xp_array_to_gpu(LEARN_CLUSTERS_SIDECAR.nus[:learn_clusters_count])\n",
    "learn_cluster_output_bits = xp_array_to_gpu(LEARN_CLUSTERS_SIDECAR.output_bits[:learn_clusters_count])\n",
    "learn_cluster_signals_learned_counters = xp_array_to_gpu(LEARN_CLUSTERS_SIDECAR.signals_learned_counters[:learn_clusters_count])\n",
    "learn_cluster_signals_till_binarization_counters = xp_array_to_gpu(LEARN_CLUSTERS_SIDECAR.signals_to_learn_till_binarization_counters[:learn_clusters_count])\n",
    "learn_cluster_update_counters = xp.zeros(learn_clusters_count, dtype='i')\n",
    "assert learn_clusters.shape[0] > 0\n",
    "assert learn_clusters.shape == learn_cluster_masks.shape\n",
    "assert learn_clusters.shape[0] == learn_cluster_nus.shape[0]\n",
    "assert learn_clusters.shape[0] == learn_cluster_output_bits.shape[0]\n",
    "assert learn_clusters.shape[0] == learn_cluster_signals_learned_counters.shape[0]\n",
    "assert learn_clusters.shape[0] == learn_cluster_signals_till_binarization_counters.shape[0]\n",
    "assert learn_clusters.shape[0] == learn_cluster_update_counters.shape[0]\n",
    "assert not learn_clusters.base is None\n",
    "assert not learn_cluster_masks.base is None\n",
    "\n",
    "cuda_block_size = 256\n",
    "cuda_blocks_count = math.ceil(learn_clusters.shape[0] / cuda_block_size)\n",
    "cuda_learn_clusters_kernel((cuda_blocks_count, ), (cuda_block_size,),\n",
    "                           (HP_SIGNAL_VEC_LEN,\n",
    "                            HP_CLUSTER_ONES_COUNT_THRES,\n",
    "                            sgr.signals_input.shape[0],\n",
    "                            sgr.signals_input, \n",
    "                            xp_array_to_gpu(sgr.signals_output),\n",
    "                            learn_clusters.shape[0], \n",
    "                            learn_clusters, \n",
    "                            learn_cluster_masks, \n",
    "                            learn_cluster_nus, \n",
    "                            learn_cluster_output_bits, \n",
    "                            learn_cluster_signals_learned_counters,\n",
    "                            learn_cluster_signals_till_binarization_counters,\n",
    "                            updated_learn_clusters,\n",
    "                            learn_cluster_update_counters\n",
    "                            ))"
   ]
  },
  {
   "cell_type": "code",
   "execution_count": 172,
   "id": "71c487f0-889d-4ff8-8651-ba7423b90296",
   "metadata": {},
   "outputs": [
    {
     "name": "stdout",
     "output_type": "stream",
     "text": [
      "CPU times: user 53.6 ms, sys: 1.07 ms, total: 54.6 ms\n",
      "Wall time: 52.4 ms\n"
     ]
    }
   ],
   "source": [
    "%%time\n",
    "learn_cluster_signals_learned_counters = xp_array_from_gpu(learn_cluster_signals_learned_counters)\n",
    "learn_cluster_signals_till_binarization_counters = xp_array_from_gpu(learn_cluster_signals_till_binarization_counters)\n",
    "learn_cluster_update_counters = xp_array_from_gpu(learn_cluster_update_counters)\n",
    "learned_clusters_inds = set()\n",
    "learn_updates_count = 0\n",
    "\n",
    "for cluster_ind in np.flatnonzero(learn_cluster_update_counters):\n",
    "    cluster_meta = LEARN_CLUSTER_METAS[cluster_ind]\n",
    "    assert cluster_meta.state == ClusterState.LEARN\n",
    "    assert cluster_meta.signals_to_learn_till_binarization > 0\n",
    "    # # assert signal_output[cluster_meta.output_bit] == 1\n",
    "    cluster_meta.last_activity_cycle = cycle\n",
    "    cluster_meta.signals_learned = learn_cluster_signals_learned_counters[cluster_ind]\n",
    "    cluster_meta.signals_to_learn_till_binarization = learn_cluster_signals_till_binarization_counters[cluster_ind]\n",
    "    LEARN_CLUSTERS_SIDECAR.sync(cluster_meta)\n",
    "    learned_clusters_inds.add(cluster_ind)\n",
    "    learn_updates_count += learn_cluster_update_counters[cluster_ind]"
   ]
  },
  {
   "cell_type": "code",
   "execution_count": 170,
   "id": "b8bafd90-b6f2-4d74-a688-4b308a0775be",
   "metadata": {},
   "outputs": [
    {
     "data": {
      "text/plain": [
       "(4525,)"
      ]
     },
     "execution_count": 170,
     "metadata": {},
     "output_type": "execute_result"
    }
   ],
   "source": [
    "np.flatnonzero(learn_cluster_update_counters).shape"
   ]
  },
  {
   "cell_type": "code",
   "execution_count": 165,
   "id": "bb37b632-dc03-4338-ad05-dbb9e737ac73",
   "metadata": {},
   "outputs": [
    {
     "name": "stdout",
     "output_type": "stream",
     "text": [
      "CPU times: user 107 ms, sys: 33 μs, total: 107 ms\n",
      "Wall time: 105 ms\n"
     ]
    }
   ],
   "source": [
    "%%time\n",
    "for cluster_ind in np.flatnonzero(learn_cluster_update_counters):\n",
    "    cluster_meta = LEARN_CLUSTER_METAS[cluster_ind]\n",
    "    LEARN_CLUSTERS_SIDECAR.sync(cluster_meta)"
   ]
  },
  {
   "cell_type": "code",
   "execution_count": null,
   "id": "32576b2e-c728-4f03-8587-1507277a6691",
   "metadata": {},
   "outputs": [],
   "source": []
  },
  {
   "cell_type": "code",
   "execution_count": null,
   "id": "3b14cb75-0d6a-4fcc-b446-b7c18e02ff6c",
   "metadata": {},
   "outputs": [],
   "source": []
  },
  {
   "cell_type": "code",
   "execution_count": null,
   "id": "5798d64c-644e-440c-a035-bfa3de919452",
   "metadata": {},
   "outputs": [],
   "source": []
  },
  {
   "cell_type": "code",
   "execution_count": null,
   "id": "117f4de8-2b7f-40ec-90b5-09c7279f2e5f",
   "metadata": {},
   "outputs": [],
   "source": []
  },
  {
   "cell_type": "code",
   "execution_count": null,
   "id": "bd309f11-6b35-439f-8246-029e700ec76c",
   "metadata": {},
   "outputs": [],
   "source": []
  },
  {
   "cell_type": "code",
   "execution_count": null,
   "id": "a0c7c478-0ec7-4792-9f4c-d0613c22d38f",
   "metadata": {},
   "outputs": [],
   "source": []
  },
  {
   "cell_type": "code",
   "execution_count": 430,
   "id": "c0611667-6c9f-4580-8b4c-ddac5c533726",
   "metadata": {},
   "outputs": [],
   "source": [
    "learn_cluster_output_bits = LEARN_CLUSTERS_SIDECAR.output_bits[:learn_clusters.shape[0]]\n",
    "signal_ind = 50\n",
    "signal_input = sgr.signals_input[signal_ind].astype('f')\n",
    "signal_output = sgr.signals_output[signal_ind].astype('f')"
   ]
  },
  {
   "cell_type": "code",
   "execution_count": 431,
   "id": "824b4a1a-0486-4902-8940-e51457eb6e64",
   "metadata": {},
   "outputs": [
    {
     "name": "stdout",
     "output_type": "stream",
     "text": [
      "CPU times: user 8.52 ms, sys: 1.88 ms, total: 10.4 ms\n",
      "Wall time: 7.88 ms\n"
     ]
    }
   ],
   "source": [
    "%%time\n",
    "learn_clusters_boolmap = signal_output.astype(bool)[learn_cluster_output_bits]\n",
    "assert learn_clusters_boolmap.shape[0] == learn_clusters.shape[0]\n",
    "# funnel_avg_filters[0](np.count_nonzero(learn_clusters_boolmap))\n",
    "learn_clusters_boolmap = learn_clusters_boolmap & learn_clusters_is_updatable_boolmap\n",
    "active_cluster_inds = learn_cluster_inds[learn_clusters_boolmap]\n",
    "# funnel_avg_filters[1](active_cluster_inds.shape[0])\n",
    "\n",
    "# narrow down clusters to those which have enough bits touched by signal\n",
    "# (i.e. we dont want to update clusters which have e.g. 1 or 2 bit touched out of minimal count (say 10))\n",
    "active_cluster_masks = learn_cluster_masks[active_cluster_inds]\n",
    "zs = signal_input @ active_cluster_masks.T # number of activated bits within each cluster for given signal_input, ca. shape (35,)\n",
    "zs = xp_array_from_gpu(zs)\n",
    "active_cluster_inds = active_cluster_inds[zs >= HP_CLUSTER_ONES_COUNT_THRES]\n",
    "# funnel_avg_filters[2](active_cluster_inds.shape[0])\n",
    "\n",
    "active_clusters = learn_clusters[active_cluster_inds] # subset of CLUSTERS which are connected to active bits in signal_output\n",
    "active_cluster_masks = learn_cluster_masks[active_cluster_inds]\n",
    "active_cluster_nus = learn_cluster_nus[active_cluster_inds]\n",
    "\n",
    "ys = signal_input @ active_clusters.T # how each cluster reacted on signal_input (strength), ca. shape (35,).\n",
    "grow = (signal_input * (active_cluster_nus * ys)[:,np.newaxis]) # how weights within each cluster must grow up in response to signal_input, matrix, ca. shape (35, 1024)\n",
    "grow *= active_cluster_masks # masking, only allow weights which belong to clusters to grow up, matrix, ca. shape (35, 1024)\n",
    "nomins = active_clusters + grow # grow weights within clusters\n",
    "denoms = nomins.max(axis=1) \n",
    "qqq = (nomins.T / denoms).T  # upload updated weights\n",
    "# learn_clusters[active_cluster_inds] = (nomins.T / denoms).T  # upload updated weights"
   ]
  },
  {
   "cell_type": "code",
   "execution_count": 432,
   "id": "93a03728-5386-4b13-9d86-2a945d6acd47",
   "metadata": {},
   "outputs": [
    {
     "data": {
      "text/plain": [
       "array([  1123,   1661,   2531, ..., 294541, 294854, 294974],\n",
       "      shape=(2857,), dtype=int32)"
      ]
     },
     "execution_count": 432,
     "metadata": {},
     "output_type": "execute_result"
    }
   ],
   "source": [
    "active_cluster_inds"
   ]
  },
  {
   "cell_type": "code",
   "execution_count": 433,
   "id": "cc944426-ee3c-4cc2-b324-b36744c3717d",
   "metadata": {},
   "outputs": [
    {
     "data": {
      "text/plain": [
       "array([[0., 0., 0., ..., 0., 0., 0.],\n",
       "       [0., 0., 0., ..., 0., 0., 0.],\n",
       "       [0., 0., 0., ..., 0., 0., 0.],\n",
       "       ...,\n",
       "       [0., 0., 0., ..., 0., 0., 0.],\n",
       "       [0., 0., 0., ..., 0., 0., 0.],\n",
       "       [0., 0., 0., ..., 0., 0., 0.]], shape=(2857, 1000), dtype=float32)"
      ]
     },
     "execution_count": 433,
     "metadata": {},
     "output_type": "execute_result"
    }
   ],
   "source": [
    "qqq"
   ]
  },
  {
   "cell_type": "code",
   "execution_count": 434,
   "id": "cfd6cf9d-13a8-4249-89d3-acd198c56250",
   "metadata": {},
   "outputs": [],
   "source": []
  },
  {
   "cell_type": "code",
   "execution_count": 435,
   "id": "2d9c9822-a0b9-44fc-a481-f6b6feefceff",
   "metadata": {},
   "outputs": [],
   "source": [
    "updated_learn_clusters = learn_clusters.copy()\n",
    "updated_learn_clusters_boolmap = xp.zeros(learn_clusters.shape[0], dtype='i')\n",
    "signal_output = xp_array_to_gpu(signal_output)\n",
    "learn_cluster_output_bits = xp_array_to_gpu(LEARN_CLUSTERS_SIDECAR.output_bits[:learn_clusters.shape[0]])"
   ]
  },
  {
   "cell_type": "code",
   "execution_count": 436,
   "id": "408b9da9-476c-4b14-93de-adedbd8c0a71",
   "metadata": {},
   "outputs": [
    {
     "name": "stdout",
     "output_type": "stream",
     "text": [
      "CPU times: user 452 μs, sys: 0 ns, total: 452 μs\n",
      "Wall time: 389 μs\n"
     ]
    }
   ],
   "source": [
    "%%time\n",
    "block_size = 256\n",
    "blocks_count = math.ceil(learn_clusters.shape[0] / block_size)\n",
    "learn_clusters_kernel((blocks_count, ), (block_size,),\n",
    "                      (HP_SIGNAL_VEC_LEN,\n",
    "                       HP_CLUSTER_ONES_COUNT_THRES,\n",
    "                       signal_input, \n",
    "                       signal_output,\n",
    "                       learn_clusters.shape[0], \n",
    "                       learn_clusters, \n",
    "                       learn_cluster_masks, \n",
    "                       learn_cluster_nus, \n",
    "                       learn_cluster_output_bits, \n",
    "                       updated_learn_clusters,\n",
    "                       updated_learn_clusters_boolmap\n",
    "                      ))"
   ]
  },
  {
   "cell_type": "code",
   "execution_count": 437,
   "id": "b588f7ae-ea30-41c3-81e7-e053c187b910",
   "metadata": {},
   "outputs": [
    {
     "data": {
      "text/plain": [
       "np.True_"
      ]
     },
     "execution_count": 437,
     "metadata": {},
     "output_type": "execute_result"
    }
   ],
   "source": [
    "np.all(active_cluster_inds == xp_array_from_gpu(np.flatnonzero(updated_learn_clusters_boolmap)))"
   ]
  },
  {
   "cell_type": "code",
   "execution_count": 438,
   "id": "5a66f8ad-ea25-4a94-860f-e9ef71195756",
   "metadata": {},
   "outputs": [
    {
     "data": {
      "text/plain": [
       "array(True)"
      ]
     },
     "execution_count": 438,
     "metadata": {},
     "output_type": "execute_result"
    }
   ],
   "source": [
    "np.all(np.isclose(qqq, updated_learn_clusters[updated_learn_clusters_boolmap.astype(bool)]))"
   ]
  },
  {
   "cell_type": "code",
   "execution_count": null,
   "id": "2761106f-8c01-4896-9637-8ff15900a4c2",
   "metadata": {},
   "outputs": [],
   "source": []
  },
  {
   "cell_type": "code",
   "execution_count": 233,
   "id": "22cd4d5b-332f-42cf-bd8c-49280135971a",
   "metadata": {},
   "outputs": [
    {
     "data": {
      "text/plain": [
       "(array([[ 97],\n",
       "        [242],\n",
       "        [319],\n",
       "        [374],\n",
       "        [495],\n",
       "        [583],\n",
       "        [603],\n",
       "        [655],\n",
       "        [688],\n",
       "        [872]]),\n",
       " array([[ 97],\n",
       "        [242],\n",
       "        [319],\n",
       "        [374],\n",
       "        [495],\n",
       "        [583],\n",
       "        [603],\n",
       "        [655],\n",
       "        [688],\n",
       "        [872]]))"
      ]
     },
     "execution_count": 233,
     "metadata": {},
     "output_type": "execute_result"
    }
   ],
   "source": [
    "ind = 19\n",
    "np.argwhere(qqq[ind]), np.argwhere(updated_active_clusters[ind])"
   ]
  },
  {
   "cell_type": "code",
   "execution_count": 232,
   "id": "edb27a7f-72c7-4ebb-af93-7ceb2d10f566",
   "metadata": {},
   "outputs": [
    {
     "data": {
      "text/plain": [
       "(array([1.        , 1.        , 1.        , 0.92879879, 1.        ,\n",
       "        1.        , 0.29836699]),\n",
       " array([1.        , 1.        , 1.        , 0.92879874, 1.        ,\n",
       "        1.        , 0.298367  ], dtype=float32))"
      ]
     },
     "execution_count": 232,
     "metadata": {},
     "output_type": "execute_result"
    }
   ],
   "source": [
    "qqq[ind][np.flatnonzero(qqq[ind])], updated_active_clusters[ind][np.flatnonzero(updated_active_clusters[ind])]"
   ]
  },
  {
   "cell_type": "code",
   "execution_count": 308,
   "id": "2b94947e-5d2b-4f62-b146-2f272c014f4e",
   "metadata": {},
   "outputs": [],
   "source": [
    "#active_clusters[0]"
   ]
  },
  {
   "cell_type": "code",
   "execution_count": null,
   "id": "3055ae3f-8c0f-4f08-9bc9-7aa05ba16e64",
   "metadata": {},
   "outputs": [],
   "source": []
  },
  {
   "cell_type": "code",
   "execution_count": null,
   "id": "f1fcabdc-cc6c-480c-a49a-06c13fedf660",
   "metadata": {},
   "outputs": [],
   "source": []
  },
  {
   "cell_type": "code",
   "execution_count": 87,
   "id": "b49e99ed-860e-454e-a8d4-43effcc20c65",
   "metadata": {},
   "outputs": [],
   "source": [
    "# learn_clusters_kernel = cp.RawKernel(r'''\n",
    "# extern \"C\" __global__\n",
    "# void learn_clusters(const int theVecLen,\n",
    "#                     const float * const theSignalInput, \n",
    "#                     const int theActiveClustersCount,\n",
    "#                     const float * const theActiveClusters, \n",
    "#                     const float * const theActiveClusterMasks, \n",
    "#                     const float * const theActiveClusterNus,\n",
    "#                     float * const theUpdatedActiveClusters) {\n",
    "#     const int clusterInd = blockDim.x * blockIdx.x + threadIdx.x;\n",
    "\n",
    "#     if(clusterInd >= theActiveClustersCount)\n",
    "#         return;\n",
    "\n",
    "#     const float * const cluster = theActiveClusters[clusterInd];\n",
    "#     float activationStrength = 0.0f;\n",
    "    \n",
    "#     for(int i = 0; i < theVecLen; i++) {\n",
    "#         activationStrength += cluster[i] * theSignalInput[i];\n",
    "#     }\n",
    "\n",
    "#     const float k = theActiveClusterNus[clusterInd] * activationStrength;\n",
    "#     const float * const mask = theActiveClusterMasks[clusterInd];\n",
    "#     float * const updatedCluster = theUpdatedActiveClusters[clusterInd];\n",
    "#     float maxWeight = 0.0f;\n",
    "    \n",
    "#     for(int i = 0; i < theVecLen; i++) {\n",
    "#         weight = cluster[i] + k * theSignalInput[i] * mask[i];\n",
    "#         updatedCluster[i] = weight;\n",
    "#         maxWeight = fmax(maxWeight, weight);\n",
    "#     }\n",
    "\n",
    "#     for(int i = 0; i < theVecLen; i++) {\n",
    "#         updatedCluster[i] /= weight;\n",
    "#     }\n",
    "# }\n",
    "# ''', 'learn_clusters')"
   ]
  },
  {
   "cell_type": "code",
   "execution_count": 266,
   "id": "f91a031b-ad9a-489a-9a9c-54067911336d",
   "metadata": {},
   "outputs": [],
   "source": [
    "# learn_clusters_kernel = cp.RawKernel(r'''\n",
    "# extern \"C\" __global__\n",
    "# void learn_clusters(const int theVecLen,\n",
    "#                     const float * const theSignalInput, \n",
    "#                     const int theActiveClustersCount,\n",
    "#                     const float * const theActiveClusters, \n",
    "#                     const float * const theActiveClusterMasks, \n",
    "#                     const float * const theActiveClusterNus,\n",
    "#                     float * const theUpdatedActiveClusters) {\n",
    "#     const int clusterInd = blockDim.x * blockIdx.x + threadIdx.x;\n",
    "\n",
    "#     if(clusterInd >= theActiveClustersCount)\n",
    "#         return;\n",
    "\n",
    "#     const auto ptrOffset = clusterInd * theVecLen;\n",
    "#     const float * const cluster = theActiveClusters + ptrOffset;\n",
    "#     float activationStrength = 0.0f;\n",
    "    \n",
    "#     for(int i = 0; i < theVecLen; i++) {\n",
    "#         if(cluster[i])\n",
    "#             activationStrength += cluster[i] * theSignalInput[i];\n",
    "#     }\n",
    "\n",
    "#     const float k = theActiveClusterNus[clusterInd] * activationStrength;\n",
    "#     const float * const mask = theActiveClusterMasks + ptrOffset;\n",
    "#     float * const updatedCluster = theUpdatedActiveClusters + ptrOffset;\n",
    "#     float maxWeight = 0.0f;\n",
    "    \n",
    "#     for(int i = 0; i < theVecLen; i++) {\n",
    "#         if(mask[i]) {\n",
    "#             const float updatedWeight = cluster[i] + k * theSignalInput[i];\n",
    "#             updatedCluster[i] = updatedWeight;\n",
    "#             maxWeight = fmax(maxWeight, updatedWeight);\n",
    "#         }\n",
    "#     }\n",
    "\n",
    "#     for(int i = 0; i < theVecLen; i++) {\n",
    "#         updatedCluster[i] /= maxWeight;\n",
    "#     }\n",
    "# }\n",
    "# ''', 'learn_clusters')"
   ]
  },
  {
   "cell_type": "code",
   "execution_count": null,
   "id": "690e0322-7373-429d-9cdc-fbecc0ea15a7",
   "metadata": {},
   "outputs": [],
   "source": [
    "# %%time\n",
    "# updated_active_clusters = active_clusters.copy()\n",
    "# block_size = 256\n",
    "# blocks_count = math.ceil(active_clusters.shape[0] / block_size)\n",
    "# learn_clusters_kernel((blocks_count, ), (block_size,),\n",
    "#                       (HP_SIGNAL_VEC_LEN, \n",
    "#                        signal_input, \n",
    "#                        active_clusters.shape[0], \n",
    "#                        active_clusters, \n",
    "#                        active_cluster_masks, \n",
    "#                        active_cluster_nus, \n",
    "#                        updated_active_clusters))"
   ]
  },
  {
   "cell_type": "code",
   "execution_count": null,
   "id": "a39f0cba-48f5-4339-9fa1-9be55d413863",
   "metadata": {},
   "outputs": [],
   "source": [
    "# add_kernel = cp.RawKernel(r'''\n",
    "# extern \"C\" __global__\n",
    "# void my_add(const float* x1, const float* x2, float* y) {\n",
    "#     int tid = blockDim.x * blockIdx.x + threadIdx.x;\n",
    "#     y[tid] = x1[tid] + x2[tid];\n",
    "# }\n",
    "# ''', 'my_add')\n",
    "# x1 = cp.arange(25, dtype=cp.float32).reshape(5, 5)\n",
    "# x2 = cp.arange(25, dtype=cp.float32).reshape(5, 5)\n",
    "# y = cp.zeros((5, 5), dtype=cp.float32)\n",
    "# add_kernel((5,), (5,), (x1, x2, y))"
   ]
  },
  {
   "cell_type": "markdown",
   "id": "1f11c2c9-4664-4377-b3cd-833ff161eb43",
   "metadata": {},
   "source": []
  },
  {
   "cell_type": "code",
   "execution_count": null,
   "id": "e23016d1-4fe9-4952-b3f2-3f30477554f5",
   "metadata": {},
   "outputs": [],
   "source": []
  },
  {
   "cell_type": "code",
   "execution_count": 62,
   "id": "cf723882-55c0-49d9-acb7-e50274d2201b",
   "metadata": {},
   "outputs": [
    {
     "data": {
      "image/png": "[encoded data removed]",
      "text/plain": [
       "<Figure size 1600x480 with 4 Axes>"
      ]
     },
     "metadata": {},
     "output_type": "display_data"
    }
   ],
   "source": [
    "signal_ind = RNG.choice(signals_input.shape[0])\n",
    "# signal_ind = 0\n",
    "signal_input = xp_array_from_gpu(signals_input[signal_ind])\n",
    "signal_output = signals_output[signal_ind]\n",
    "\n",
    "# xy_list_input = PIXEL_FEATURE_XY_ARRAY[debundle_sbv(signal_input, PIXEL_FEATURE_SBVS, HP_SIGNAL_VEC_NON_ZERO_BITS)]\n",
    "# xy_list_output = PIXEL_FEATURE_XY_ARRAY[debundle_sbv(signal_output, PIXEL_FEATURE_SBVS, HP_SIGNAL_VEC_NON_ZERO_BITS)]\n",
    "# ohe_input = xy_list_to_ohe_vec(xy_list_input)\n",
    "# ohe_output = xy_list_to_ohe_vec(xy_list_output)\n",
    "\n",
    "pixel_feature_inds = debundle_sbv(signal_input, PIXEL_FEATURE_SBVS, HP_SIGNAL_VEC_NON_ZERO_BITS)\n",
    "bm_input = PIXEL_FEATURE_BITMAP_MASKS[pixel_feature_inds].sum(axis=0)\n",
    "pixel_feature_inds = debundle_sbv(signal_output, PIXEL_FEATURE_SBVS, HP_SIGNAL_VEC_NON_ZERO_BITS)\n",
    "bm_output = PIXEL_FEATURE_BITMAP_MASKS[pixel_feature_inds].sum(axis=0)\n",
    "    \n",
    "fig, (ax1, ax2, ax3) = plt.subplots(1, 3)\n",
    "fig.set_figwidth(16)\n",
    "ax1.imshow(vec_to_square_matrix(xy_list_to_ohe_vec(raw_signals_input[signal_ind])))\n",
    "# ax2.imshow(vec_to_square_matrix(ohe_input))\n",
    "# ax3.imshow(vec_to_square_matrix(ohe_output));\n",
    "ax2.imshow(vec_to_square_matrix(bm_input))\n",
    "ax3.imshow(vec_to_square_matrix(bm_output));"
   ]
  },
  {
   "cell_type": "markdown",
   "id": "c4e073c2-0c90-4248-a9fc-57f4f063892f",
   "metadata": {},
   "source": [
    "# Test"
   ]
  },
  {
   "cell_type": "code",
   "execution_count": 128,
   "id": "5175b5c1-2cf3-4a31-b471-269694674987",
   "metadata": {},
   "outputs": [
    {
     "data": {
      "application/vnd.jupyter.widget-view+json": {
       "model_id": "e5a6f9e26d264f4eaddac5b45c6b9d81",
       "version_major": 2,
       "version_minor": 0
      },
      "text/plain": [
       "  0%|          | 0/1000 [00:00<?, ?it/s]"
      ]
     },
     "metadata": {},
     "output_type": "display_data"
    },
    {
     "data": {
      "text/plain": [
       "(460258, 1000)"
      ]
     },
     "execution_count": 128,
     "metadata": {},
     "output_type": "execute_result"
    }
   ],
   "source": [
    "df_clusters = pd.read_sql('SELECT output_bit, metas, nzb_list FROM clusters WHERE encoding=:encoding AND transf_code=:transf_code', \n",
    "                          params={\n",
    "                              'encoding': HP_SIGNAL_ENCODING, \n",
    "                              'transf_code': TRANSF_CODE},\n",
    "                          con=transfs_db_con)\n",
    "clusters = []\n",
    "cluster_metas = []\n",
    "\n",
    "for cluster_row in tqdm(df_clusters.itertuples(), total=len(df_clusters)):\n",
    "    cluster_nzb_list_for_output_bit = pickle.loads(cluster_row.nzb_list)\n",
    "    cluster_metas_for_output_bit = pickle.loads(cluster_row.metas)\n",
    "    assert len(cluster_nzb_list_for_output_bit) == len(cluster_metas_for_output_bit)\n",
    "\n",
    "    for nzb, meta in zip(cluster_nzb_list_for_output_bit, cluster_metas_for_output_bit):\n",
    "        assert len(nzb) > 0\n",
    "        \n",
    "        if meta.state in [ClusterState.PROD_WORK, ClusterState.PROD_ETERNAL]:\n",
    "            cluster = np.zeros(HP_SIGNAL_VEC_LEN, dtype='f')\n",
    "            cluster[nzb] = 1\n",
    "            clusters.append(cluster)\n",
    "        \n",
    "            cluster_ind = len(clusters)\n",
    "            meta.cluster_ind = cluster_ind\n",
    "            cluster_metas.append(meta)\n",
    "\n",
    "clusters = np.vstack(clusters)\n",
    "assert clusters.shape[0] == len(cluster_metas)\n",
    "    \n",
    "cluster_ones_counts = np.array(list(map(lambda m: m.ones_count, cluster_metas)), dtype='f')\n",
    "cluster_output_bits = np.array(list(map(lambda m: m.output_bit, cluster_metas)), dtype='i')\n",
    "cluster_input_bits_list = list(map(lambda m: m.input_bits, cluster_metas))\n",
    "clusters.shape"
   ]
  },
  {
   "cell_type": "code",
   "execution_count": 221,
   "id": "4b637ce9-40a8-49c6-b3e0-d132e60e01dd",
   "metadata": {},
   "outputs": [
    {
     "data": {
      "image/png": "[encoded data removed]",
      "text/plain": [
       "<Figure size 1800x600 with 3 Axes>"
      ]
     },
     "metadata": {},
     "output_type": "display_data"
    }
   ],
   "source": [
    "signals_generator = RealImageSignalsGenerator(TRANSF, 1, 1)\n",
    "# signals_generator = PooledPixelFeatureSignalsGenerator(TRANSF, 1, 100)\n",
    "sgr = signals_generator()\n",
    "\n",
    "input_sbv = sgr.signals_input[0]\n",
    "true_output_sbv = sgr.signals_output[0]\n",
    "infer_output_sbv = np.zeros_like(input_sbv)\n",
    "\n",
    "activated_clusters_boolmap = (clusters @ input_sbv) >= cluster_ones_counts\n",
    "output_bit_to_activated_clusters_count = Counter(cluster_output_bits[activated_clusters_boolmap])\n",
    "infer_output_sbv[list(output_bit_to_activated_clusters_count.keys())] = list(output_bit_to_activated_clusters_count.values())\n",
    "infer_output_sbv = np.where(infer_output_sbv > 0, 1, 0)\n",
    "condition_00 = (true_output_sbv == 0) & (infer_output_sbv == 0)\n",
    "condition_01 = (true_output_sbv == 0) & (infer_output_sbv == 1)\n",
    "condition_11 = (true_output_sbv == 1) & (infer_output_sbv == 1)\n",
    "diff_output_sbv = np.where(condition_00, 0, np.where(condition_11, 1, np.where(condition_01, 2, 3)))\n",
    "\n",
    "colors = ['black', 'gold', 'red', 'blue']\n",
    "bounds = [0, 1, 2, 3, 4]\n",
    "cmap = mpl.colors.ListedColormap(colors)\n",
    "norm = mpl.colors.BoundaryNorm(bounds, cmap.N)\n",
    "\n",
    "fig, (ax1, ax2, ax3) = plt.subplots(3, 1)\n",
    "fig.set_figwidth(18)\n",
    "fig.set_figheight(6)\n",
    "ax1.set_title(f'True Output SBV, non_zero_bits={np.count_nonzero(true_output_sbv)}')\n",
    "ax1.imshow(np.ones((80, 1)) * true_output_sbv, interpolation='none', cmap=cmap, norm=norm);\n",
    "ax2.set_title(f'Infer Output SBV, non_zero_bits={np.count_nonzero(infer_output_sbv)}')\n",
    "ax2.imshow(np.ones((80, 1)) * infer_output_sbv, interpolation='none', cmap=cmap, norm=norm);\n",
    "ax3.set_title(f'Diff Output SBV, TP={(diff_output_sbv == 1).sum()} (gold), FP={(diff_output_sbv == 2).sum()} (red), FN={(diff_output_sbv == 3).sum()} (blue)')\n",
    "ax3.imshow(np.ones((80, 1)) * diff_output_sbv, interpolation='none', cmap=cmap, norm=norm);"
   ]
  },
  {
   "cell_type": "code",
   "execution_count": 107,
   "id": "cbf93336-9a8f-4d35-adf7-384779124e8a",
   "metadata": {},
   "outputs": [
    {
     "data": {
      "application/vnd.jupyter.widget-view+json": {
       "model_id": "c4d9afecfa004fc7995599520663f5f1",
       "version_major": 2,
       "version_minor": 0
      },
      "text/plain": [
       "  0%|          | 0/100 [00:00<?, ?it/s]"
      ]
     },
     "metadata": {},
     "output_type": "display_data"
    },
    {
     "data": {
      "image/png": "[encoded data removed]",
      "text/plain": [
       "<Figure size 1600x480 with 2 Axes>"
      ]
     },
     "metadata": {},
     "output_type": "display_data"
    }
   ],
   "source": [
    "thres = 0\n",
    "toy_image_ids = get_random_toy_image_ids(100)\n",
    "bv_errors_count_list = defaultdict(list)\n",
    "sbv_errors_count_list = defaultdict(list)\n",
    "\n",
    "for toy_image_id in tqdm(toy_image_ids):\n",
    "    toy_image_origin = get_toy_image(toy_image_id)\n",
    "    toy_image_transf = transform_toy_image(toy_image_origin, TRANSF)\n",
    "\n",
    "    toy_image_origin_sbv = calc_toy_image_sbv(toy_image_origin)\n",
    "    toy_image_transf_sbv = calc_toy_image_sbv(toy_image_transf)\n",
    "    \n",
    "    activated_clusters_mask = (clusters @ toy_image_origin_sbv) >= cluster_ones_counts\n",
    "    \n",
    "    toy_image_infer_sbv = np.zeros_like(toy_image_origin_sbv)\n",
    "\n",
    "    # Approach 1: judge if output_bit is ON/OFF based on number of activated clusters\n",
    "    output_bit_to_activated_clusters_count = Counter(cluster_output_bits[activated_clusters_mask])\n",
    "    toy_image_infer_sbv[list(output_bit_to_activated_clusters_count.keys())] = list(output_bit_to_activated_clusters_count.values())\n",
    "    toy_image_infer_sbv = np.where(toy_image_infer_sbv > thres, 1, 0)\n",
    "\n",
    "    # Approach 2: judge if output_bit is ON/OFF based on number of unique bits touched by clusters within input signal\n",
    "    # output_bit_to_unique_input_bits = defaultdict(set)\n",
    "\n",
    "    # for mask_value, output_bit, input_bits in zip(activated_clusters_mask, cluster_output_bits, cluster_input_bits_list):\n",
    "    #     if not mask_value:\n",
    "    #         continue\n",
    "\n",
    "    #     output_bit_to_unique_input_bits[output_bit].update(input_bits)\n",
    "    # toy_image_infer_sbv[list(output_bit_to_unique_input_bits.keys())] = list(map(len, output_bit_to_unique_input_bits.values()))\n",
    "    # toy_image_infer_sbv = np.where(toy_image_infer_sbv > thres, 1, 0)\n",
    "    \n",
    "    sbv_false_positives_count = (toy_image_transf_sbv[toy_image_infer_sbv == 1] == 0).sum()\n",
    "    sbv_false_negatives_count = (toy_image_transf_sbv[toy_image_infer_sbv == 0] == 1).sum()\n",
    "    assert np.count_nonzero(toy_image_transf_sbv != toy_image_infer_sbv) == (sbv_false_positives_count + sbv_false_negatives_count)\n",
    "    sbv_errors_count_list['FP'].append(sbv_false_positives_count)\n",
    "    sbv_errors_count_list['FN'].append(sbv_false_negatives_count)\n",
    "    \n",
    "    toy_image_infer_bv = toy_image_sbv_to_bv(toy_image_infer_sbv)\n",
    "    toy_image_transf_bv = toy_image_sbv_to_bv(toy_image_transf_sbv)\n",
    "    bv_false_positives_count = (toy_image_transf_bv[toy_image_infer_bv == 1] == 0).sum()\n",
    "    bv_false_negatives_count = (toy_image_transf_bv[toy_image_infer_bv == 0] == 1).sum()\n",
    "    assert np.count_nonzero(toy_image_transf_bv != toy_image_infer_bv) == (bv_false_positives_count + bv_false_negatives_count)\n",
    "    bv_errors_count_list['FP'].append(bv_false_positives_count)\n",
    "    bv_errors_count_list['FN'].append(bv_false_negatives_count)\n",
    "\n",
    "fig, (ax1, ax2) = plt.subplots(2, 1)\n",
    "fig.set_figwidth(16)\n",
    "fig.tight_layout() \n",
    "errors_count = sum(itertools.chain.from_iterable(bv_errors_count_list.values()))\n",
    "ax1.set_title(f'BV Errors count={errors_count}, avg.={errors_count / len(toy_image_ids):.2f}; thres={thres}, clusters count={clusters.shape[0]}')\n",
    "\n",
    "for error_kind, errors_count in bv_errors_count_list.items():\n",
    "    ax1.bar(list(map(str, range(len(toy_image_ids)))), errors_count, label=error_kind)\n",
    "\n",
    "ax1.legend()\n",
    "\n",
    "errors_count = sum(itertools.chain.from_iterable(sbv_errors_count_list.values()))\n",
    "ax2.set_title(f'SBV Errors count={errors_count}, avg.={errors_count / len(toy_image_ids):.2f}; thres={thres}, clusters count={clusters.shape[0]}')\n",
    "\n",
    "for error_kind, errors_count in sbv_errors_count_list.items():\n",
    "    ax2.bar(list(map(str, range(len(toy_image_ids)))), errors_count, label=error_kind)\n",
    "\n",
    "ax2.legend();"
   ]
  },
  {
   "cell_type": "code",
   "execution_count": null,
   "id": "47f59aa5-155f-42d1-89f4-952ba29d1e2a",
   "metadata": {},
   "outputs": [],
   "source": []
  },
  {
   "cell_type": "code",
   "execution_count": null,
   "id": "bcc9f312-6621-4f77-ad5d-e0e5050dc036",
   "metadata": {},
   "outputs": [],
   "source": []
  },
  {
   "cell_type": "code",
   "execution_count": null,
   "id": "cf7b155d-cd7f-4649-91dc-f932bcb0e553",
   "metadata": {},
   "outputs": [],
   "source": []
  },
  {
   "cell_type": "code",
   "execution_count": null,
   "id": "f901126b-b8c1-457c-aced-0923b43927f8",
   "metadata": {},
   "outputs": [],
   "source": []
  },
  {
   "cell_type": "code",
   "execution_count": 116,
   "id": "f5f56508-9e19-4911-b739-a04452cf59d4",
   "metadata": {},
   "outputs": [
    {
     "data": {
      "image/png": "[encoded data removed]",
      "text/plain": [
       "<Figure size 1200x480 with 3 Axes>"
      ]
     },
     "metadata": {},
     "output_type": "display_data"
    }
   ],
   "source": [
    "toy_image_id = get_random_toy_image_ids(1)[0]\n",
    "toy_image = get_toy_image(toy_image_id)\n",
    "toy_image_sbv = calc_toy_image_sbv(toy_image)\n",
    "\n",
    "toy_image_transf = transform_toy_image(toy_image, TRANSF)\n",
    "toy_image_transf_sbv = encode_toy_image_sbv(toy_image_transf)\n",
    "\n",
    "activated_clusters_mask = (clusters @ toy_image_sbv) >= cluster_ones_counts\n",
    "values = Counter(cluster_output_bits[activated_clusters_mask])\n",
    "toy_image_sbv_out = np.zeros_like(toy_image_sbv)\n",
    "# toy_image_sbv_out[list(values.keys())] = list(values.values())\n",
    "# toy_image_sbv_out = np.where(toy_image_sbv_out > 1, 1, 0)\n",
    "toy_image_sbv_out[list(values.keys())] = 1\n",
    "\n",
    "fig, (ax1, ax2, ax3) = plt.subplots(1, 3)\n",
    "fig.set_figwidth(12)\n",
    "ax1.set_title('Origin')\n",
    "ax1.imshow(vec_to_square_matrix(decode_toy_image_sbv(toy_image_sbv)))\n",
    "ax2.set_title('Transf')\n",
    "ax2.imshow(vec_to_square_matrix(decode_toy_image_sbv(toy_image_transf_sbv)))\n",
    "ax3.set_title('Infer')\n",
    "ax3.imshow(vec_to_square_matrix(decode_toy_image_sbv(toy_image_sbv_out)));"
   ]
  },
  {
   "cell_type": "code",
   "execution_count": 110,
   "id": "bd3d6124-ae28-47e5-9877-7bf2eb87d8c3",
   "metadata": {},
   "outputs": [
    {
     "data": {
      "image/png": "[encoded data removed]",
      "text/plain": [
       "<Figure size 1600x480 with 2 Axes>"
      ]
     },
     "metadata": {},
     "output_type": "display_data"
    }
   ],
   "source": [
    "fig, (ax1, ax2) = plt.subplots(2, 1)\n",
    "fig.set_figwidth(16)\n",
    "\n",
    "toy_image_transf = transform_toy_image(toy_image, TRANSF)\n",
    "toy_image_transf_sbv = encode_toy_image_sbv(toy_image_transf)\n",
    "\n",
    "ax1.set_title(f'non_zero_bits={toy_image_transf_sbv.sum()}')\n",
    "ax1.imshow(np.ones((30, 1)) * toy_image_transf_sbv);\n",
    "ax2.set_title(f'non_zero_bits={toy_image_sbv_out.sum()}')\n",
    "ax2.imshow(np.ones((30, 1)) * toy_image_sbv_out);"
   ]
  }
 ],
 "metadata": {
  "kernelspec": {
   "display_name": "Python 3 (ipykernel)",
   "language": "python",
   "name": "python3"
  },
  "language_info": {
   "codemirror_mode": {
    "name": "ipython",
    "version": 3
   },
   "file_extension": ".py",
   "mimetype": "text/x-python",
   "name": "python",
   "nbconvert_exporter": "python",
   "pygments_lexer": "ipython3",
   "version": "3.12.9"
  }
 },
 "nbformat": 4,
 "nbformat_minor": 5
}
