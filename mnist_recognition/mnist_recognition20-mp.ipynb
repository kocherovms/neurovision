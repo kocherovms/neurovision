{
 "cells": [
  {
   "cell_type": "code",
   "execution_count": 1,
   "id": "27532844-1826-4299-b063-16a22e592f3f",
   "metadata": {},
   "outputs": [],
   "source": [
    "import os, math\n",
    "from collections import defaultdict, namedtuple\n",
    "import itertools\n",
    "import sqlite3\n",
    "import logging\n",
    "import logging.handlers\n",
    "import pickle\n",
    "import datetime\n",
    "import multiprocessing as mp\n",
    "\n",
    "from PIL import Image, ImageDraw\n",
    "from tqdm.notebook import tqdm\n",
    "\n",
    "from sklearn.model_selection import train_test_split\n",
    "import matplotlib.pyplot as plt\n",
    "import scipy\n",
    "import numpy as np\n",
    "import cupy as cp\n",
    "import pandas as pd\n",
    "\n",
    "from utils import *\n",
    "from hdc import *\n",
    "import cortical_column_host as ccp"
   ]
  },
  {
   "cell_type": "code",
   "execution_count": 2,
   "id": "3150ef21-ac4c-4cf3-8013-ea332b9522e7",
   "metadata": {},
   "outputs": [],
   "source": [
    "DF_TEST_RESULTS = pd.DataFrame(columns=['test_run_id', 'config_variant', 'cortical_columns', 'train_images_count', 'train_runs',\n",
    "                                        'source_ds', 'test_image_id', 'true_value', 'infer_value', 'sim'])\n",
    "TRAIN_RUN_ID = 0\n",
    "TEST_RUN_ID = 0"
   ]
  },
  {
   "cell_type": "code",
   "execution_count": 3,
   "id": "73358262-adf2-4d17-a383-f120a5d1f8aa",
   "metadata": {},
   "outputs": [
    {
     "name": "stdout",
     "output_type": "stream",
     "text": [
      "xp = cupy\n"
     ]
    }
   ],
   "source": [
    "LOG = Logging()\n",
    "\n",
    "config_var = 'SQLITE3_NORMAL_GRID_RADIAL_7_256'\n",
    "config = Config(config_var)\n",
    "RNG = np.random.default_rng()\n",
    "\n",
    "if cp.cuda.is_available():\n",
    "    xp = cp.get_array_module(cp.empty(1))\n",
    "    xp_array_from_gpu = lambda a: a.get() if isinstance(a, cp.ndarray) else a\n",
    "    xp_array_to_gpu = lambda a: cp.asarray(a) if isinstance(a, np.ndarray) else a\n",
    "else:\n",
    "    xp = cp.get_array_module(np.empty(1))\n",
    "    xp_array_from_gpu = lambda a: a\n",
    "    xp_array_to_gpu = lambda a: a\n",
    "    \n",
    "print(f'xp = {xp.__name__}')\n",
    "\n",
    "def get_full_db_file_name(db_file_name):\n",
    "    return os.path.join(config.dataset_path, config.db_file_name_prefix + db_file_name)\n",
    "\n",
    "train_db_con = sqlite3.connect(get_full_db_file_name(config.train_db_file_name))\n",
    "test_db_con = sqlite3.connect(get_full_db_file_name(config.test_db_file_name))\n",
    "\n",
    "mp_ctx = mp.get_context('spawn') # req-d for CUPY to work, fork method leads to failures in bootstrap somewhere around CUDA"
   ]
  },
  {
   "cell_type": "code",
   "execution_count": 4,
   "id": "771521e3-e3a5-4c9a-b861-a3aac85edb9d",
   "metadata": {},
   "outputs": [],
   "source": [
    "hdc = Hdc(10_000, xp)"
   ]
  },
  {
   "cell_type": "code",
   "execution_count": 5,
   "id": "d2dd62ab-b44e-4251-9e86-d41b3672e36e",
   "metadata": {},
   "outputs": [
    {
     "name": "stdout",
     "output_type": "stream",
     "text": [
      "CPU times: user 9 μs, sys: 1 μs, total: 10 μs\n",
      "Wall time: 17.6 μs\n"
     ]
    },
    {
     "data": {
      "text/plain": [
       "((10000, 3), (2000, 3))"
      ]
     },
     "execution_count": 5,
     "metadata": {},
     "output_type": "execute_result"
    }
   ],
   "source": [
    "%time\n",
    "df_train_images = pd.read_sql_query('SELECT * FROM images', con=train_db_con, index_col='image_id')\n",
    "df_test_images = pd.read_sql_query('SELECT * FROM images', con=test_db_con, index_col='image_id')\n",
    "df_train_images.shape, df_test_images.shape"
   ]
  },
  {
   "cell_type": "code",
   "execution_count": 6,
   "id": "70b21219-4f16-4824-90ec-7bda1574c5d1",
   "metadata": {},
   "outputs": [
    {
     "data": {
      "text/html": [
       "<div style=\"\n",
       "        display: grid; \n",
       "        grid-template-columns: repeat(8, 128px);\n",
       "        column-gap: 1px;\n",
       "        row-gap: 1px;\">\n",
       "        \n",
       "            <figure style=\"margin: 5px !important;\">\n",
       "              <img src=\"data:image/png;base64,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\" style=\"height: auto\">\n",
       "              <figcaption style=\"font-size: 0.6em\">7</figcaption>\n",
       "            </figure>\n",
       "        \n",
       "            <figure style=\"margin: 5px !important;\">\n",
       "              <img src=\"data:image/png;base64,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\" style=\"height: auto\">\n",
       "              <figcaption style=\"font-size: 0.6em\">8</figcaption>\n",
       "            </figure>\n",
       "        \n",
       "            <figure style=\"margin: 5px !important;\">\n",
       "              <img src=\"data:image/png;base64,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\" style=\"height: auto\">\n",
       "              <figcaption style=\"font-size: 0.6em\">3</figcaption>\n",
       "            </figure>\n",
       "        \n",
       "            <figure style=\"margin: 5px !important;\">\n",
       "              <img src=\"data:image/png;base64,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\" style=\"height: auto\">\n",
       "              <figcaption style=\"font-size: 0.6em\">4</figcaption>\n",
       "            </figure>\n",
       "        \n",
       "            <figure style=\"margin: 5px !important;\">\n",
       "              <img src=\"data:image/png;base64,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\" style=\"height: auto\">\n",
       "              <figcaption style=\"font-size: 0.6em\">5</figcaption>\n",
       "            </figure>\n",
       "        \n",
       "            <figure style=\"margin: 5px !important;\">\n",
       "              <img src=\"data:image/png;base64,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\" style=\"height: auto\">\n",
       "              <figcaption style=\"font-size: 0.6em\">8</figcaption>\n",
       "            </figure>\n",
       "        \n",
       "            <figure style=\"margin: 5px !important;\">\n",
       "              <img src=\"data:image/png;base64,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\" style=\"height: auto\">\n",
       "              <figcaption style=\"font-size: 0.6em\">9</figcaption>\n",
       "            </figure>\n",
       "        \n",
       "            <figure style=\"margin: 5px !important;\">\n",
       "              <img src=\"data:image/png;base64,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\" style=\"height: auto\">\n",
       "              <figcaption style=\"font-size: 0.6em\">1</figcaption>\n",
       "            </figure>\n",
       "        \n",
       "            <figure style=\"margin: 5px !important;\">\n",
       "              <img src=\"data:image/png;base64,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\" style=\"height: auto\">\n",
       "              <figcaption style=\"font-size: 0.6em\">9</figcaption>\n",
       "            </figure>\n",
       "        \n",
       "            <figure style=\"margin: 5px !important;\">\n",
       "              <img src=\"data:image/png;base64,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\" style=\"height: auto\">\n",
       "              <figcaption style=\"font-size: 0.6em\">7</figcaption>\n",
       "            </figure>\n",
       "        \n",
       "            <figure style=\"margin: 5px !important;\">\n",
       "              <img src=\"data:image/png;base64,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\" style=\"height: auto\">\n",
       "              <figcaption style=\"font-size: 0.6em\">8</figcaption>\n",
       "            </figure>\n",
       "        \n",
       "            <figure style=\"margin: 5px !important;\">\n",
       "              <img src=\"data:image/png;base64,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\" style=\"height: auto\">\n",
       "              <figcaption style=\"font-size: 0.6em\">2</figcaption>\n",
       "            </figure>\n",
       "        \n",
       "            <figure style=\"margin: 5px !important;\">\n",
       "              <img src=\"data:image/png;base64,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\" style=\"height: auto\">\n",
       "              <figcaption style=\"font-size: 0.6em\">0</figcaption>\n",
       "            </figure>\n",
       "        \n",
       "            <figure style=\"margin: 5px !important;\">\n",
       "              <img src=\"data:image/png;base64,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\" style=\"height: auto\">\n",
       "              <figcaption style=\"font-size: 0.6em\">2</figcaption>\n",
       "            </figure>\n",
       "        \n",
       "            <figure style=\"margin: 5px !important;\">\n",
       "              <img src=\"data:image/png;base64,iVBORw0KGgoAAAANSUhEUgAAAIAAAACACAAAAADmVT4XAAAK4UlEQVR4nO2aWXPbOBLHuwHwvkVZtnwls7Xf/7vs287WzCZxfOrkfeLYByqeTJVj05Ym87D+P7hsmQR/BBrdjW4BvOtd73rXu971rne9613vete73vX/LnzVxYQQggQRCYLkfS+JZugMQCkgSEApKYXgQgKhBITg4uUx2WsAqGZoGmOMUUaR50nWMf9oYhPJJTLGUPKubaui6ohh6tBWZaMOCoDUcGzTNAxNN3RoF6ruWHj5YcJ4x4lh6oS3VZlvl9uaOIGtig1vDwsARLc8x3FswzR0KGVCgXrzf57oouHMckza11m2vddYTryJI/UuH7HArwJAwjTT8T1L16jgGkUgmhPEluqF7rgW66ss8XVkqXICq68ZGTHmawCU4H3XK6LplFdVnpQt9G1ZlEQ3mOl6FhW2aZq67ictUNm2vXh5BV43A7xhSCwfoMuTdbZdN9Bki68Qh65pWobOFGW65fjHSZrmSZKU/aEBRFej1nCl2u31TVYXALJYWLJVmssYJQSRapZ/VCWLq7pO0rIfMebrjBCUksh0rWmSRaYAgEGTOXYkqcYoIiVMlwB9alYL1bVcHhQAkeiG7UZRFFroGLpOKKV2EHm2bVmmoTNKEYECgKE1cRSkddd2B92GVHf8MIzPLo4Mp85qjxqm7gRRHB8dR66pUfK46Qw3nhdAgXfdAQGIboez2fHR6elET2VHSmq5thdEYRAEvmNoBNQjgRmdK5OJKn952NEA1HT8o7Pzs+PjWcB8JYyKOr7nBWHgmIbGKCIoBQCIAJIFSjNkvhwx+jgAJLrl+NHJ2cX5bBq71GhbWlMn8D0/cEyGSgEADD8IAjCXUpkEJj0MANEN0/HCaDI7PT2ehK6FMqyxpbbvOa5rAACCAgQApUABADJCZOlZ+oEAqBNGUXw0jcNJHHi2hsCcWOPEdCzL1nYXIQAAolIKAZARbpv6GF88BkDzjucn89NZbFm2oeuoEI3QkqjrurZ7fg8Mv4EoAETKGGME8cV9OAbAnsw/nl2cn4SMUEAECaAze0hPAACg7XrUDA0AQCmE3XqMy3ZeAEBCiB7P5udnZ6czE4ZHgCK726SQQvRd3faoG5amEYqIAABKcs7FAYIR6pblXnz4cHlyFJi7j4atBgCg+qYqq6qu6h5107Ec17F0BAApuyIv657vD2CFk/jDP365mPjm42eP/+3KbLPcpHlZ96hZnhcfzwgDBCW6Mk3SshkRDl8AYHZ8evrhl8tTd7ellMJHgqZI17c3d6u0qDky05+cdpprIQDKtki2adGMCIcvABj+0dnl5dlxbACqIbgpACAI0Ndlull8/XK9TIqGIzX9KXeOWgkAILuqyMu62y8rRoLMmxyfX8ynvgnD4gOAUlJKxXmdp5v18vbr3TorO47EqIVzWnZCIQBI0XUdl3sZIRKqmeHR2eXl4/ojAioled+1VZVtVstVslqts6rpJRAuSJzXHZcUEEApqdSI5z8LoJn+5OTs8sy2GQCAQkQABNHVZZZu14u7h1VZFVXTcwUge6WX9fD7QLCvH0Cq20F8dDI/ppQAwC69UX1T5ul6tVze3tyteyGElApQgeJd13MhJQCAElwIqfZLy6nhBNEkCmyAXaQDUNCWWZJsVsvl4u72Ifv++iEYIwCA7JuqrLs9UzJmemHo2cbw18758CZ5uF+uN9vNZrktvrsaKTVN0zQYAgCvs80mrfbLilGzgyhw9D+5ddWXqy+fbtZZURZZ/d0bItPMIPBdyyAA0BebxcO6GJESPjcDmh1MQocNazoAqK5KHj7/+8um7HnXfp/wEWZ6QeC7tk4AVF9ul4t1sV9aTnQ3iiNHA4UAShEA1fdlsrz7+unztgWQ8P37EabbruvYpoYAIJo8SfKa7zMDyOxgenwUWBQAAJUUoquqdH379Xa5qZ64nlBNY4wORii6tu32Oxeg4U5PL2bhYASIvK2L7Xb5cHt1lzZPXK+UUkp9v/XHuKFnAIjhxfPz2DS/5Txlsnm4vbl9WC7Lp95s8NCD80VEQggdVX35MYBmB/E0IrvjRlski8X15y/X67zunkq0hvLNt9dGQikh+3lCQjXd0EApDkq0RbJ6uP96dXWTPF31QGbY9rc0eNzkvwCgpOjb2iCgurYuszRZr5Z396vsqfUHAGL601nsG2S4V0op5H7BSPGm2K6VQVWTLR4W2yRNk2Sdtz+4nNrx/Px0Yn8DEELKMdH4xwCyr7YLv3MNqBefPl2tsrKum7r+0ZjMPTq/PI0tAgAgpRCci30ByuTBakMT67vPv/53lbecf7PyJ6S78fz0OBwAOO+7rh+VjzxjhKLe3tMysbC+u76+3ZQ/HgMRie1H8TSwNQIASvRd27b7AvByRWvPNbBdXS2zJ3zfH8+nTHf9MIpckxGFAJK3dVmPqlE9NwPlsl1bBgORb7bPljwpM90gDALP0ggqBMn7piyqXozZBs8AVDzXKEVQfds+l94i0Sw/DHzP0QiilKprqqosmlHPfwZAjqivDKK6EwSBZ5sEAKTsqs02LeqRd7+qSvYjANMNQs/Why1YZev760U+Jhc4EICilheF3q4cIou7r1efr5OfCADM8qPQG7wwyPz2P79f36UjDkWHAiC6E04i1yAKAYDn959+u99WY5KRQwEYbhTH/rAEqi+Txf2qHOUDDgRADS8+PgqH45PsmyJLq250L+gQAGYwPZ75FlMIILqmqWs+PifYHwBNJ5zOpqZGlULZ1nXTjjoSHQYAAe0giqLQZwhCQFdkRdWNOREdCIAaVjifT4OhXMi7crXc5M0rJmBfAC2Yzs9+OfF1AADC89XdzSIb68IPAaBHF/+4vDhxByfUpfdXVw/pWCd4CADNn3/8eDIdEiHVJPfX14u8f7k++ofGdNaeETWDeDoZ3LDiTba6f9iMahUdCgAI0w2dUQRQvC3T9XKV1mPDwCEApJRyV4mRvC6TzXqTN2MOxY/a0waUEkIICaBAdmWeJtukGdMzPxgA2RWFQKm+KYs8y4r+VSez/QCQaLphmjojqHhb5XlRjs3EHrWfDTDDclzX0giKrs6zvBxTHT4gANEtx/M8W6Mo2zJLs2pMdfjPevsSIACzHNfzXJMiyq7M0rwaUxc7FABQYrqe59imBgCyq/Isr/ufOQPMcIPAs/WhV8TrIi/q1wTiQW+3AWR2OJn4ljY07HhTZj8ZQPeiaRxYQ79O8abIy9c5wT0BiOFNZ0fBkIuCaKsiL94AsIcNGMFsPotsBgqUbKsiy34ygBWffpzFDlNKyq4qsiQdV5w9FACx4vOPE9dmSsi+yrMkSd9ihPvMQDS/8JjGlOzbIkvTLCuerSMcHEBzo6kJAFz0VZ6mWV62/eu+HAewVyygzBi6aaIp0yQt6vbVkWg/APUt8PMm237rk/5EPwBKiqE5zat0vUnLNxjAngCCc4ChQbNep1X/mgPRIQBgN+GyK7bLVfKGULw/wEDR5auH+2054ssCT+gQRao2Xd7dZdXfADBkxF2VLB+WzetzkX0Bdhk5z5LtZpOMLgodDoAwTQNR53f3q/SNBrAXADLDpiA2N5+/PGQ/aqT8pQBUNwHa5e+/f7ov3rb++wGAUhIgvf39t5unO4l/NYDs8lUkbq6/3izS5u+YAZF8/tdaXP/7apG80QvvC7D+tZ7Ize1tUr0tDA16dQLxKOqEnqmasmj73RdHfjIAEIJk1zN/oxN6FwDA/wAQCs9Da6J/JQAAAABJRU5ErkJggg==\" style=\"height: auto\">\n",
       "              <figcaption style=\"font-size: 0.6em\">7</figcaption>\n",
       "            </figure>\n",
       "        \n",
       "            <figure style=\"margin: 5px !important;\">\n",
       "              <img src=\"data:image/png;base64,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\" style=\"height: auto\">\n",
       "              <figcaption style=\"font-size: 0.6em\">0</figcaption>\n",
       "            </figure>\n",
       "        \n",
       "    </div>"
      ],
      "text/plain": [
       "<IPython.core.display.HTML object>"
      ]
     },
     "execution_count": 6,
     "metadata": {},
     "output_type": "execute_result"
    }
   ],
   "source": [
    "count = 8\n",
    "\n",
    "def get_some_random_images_and_labels(df, count):\n",
    "    image_ids = RNG.choice(df.index.unique(), count, replace=False)\n",
    "    image_datas = df.loc[image_ids]['png']\n",
    "    images = [Image.open(io.BytesIO(image_data)) for image_data in image_datas]\n",
    "    labels = df.loc[image_ids]['value']\n",
    "    return images, list(labels)\n",
    "\n",
    "train_images, train_labels = get_some_random_images_and_labels(df_train_images, count)\n",
    "test_images, test_labels = get_some_random_images_and_labels(df_test_images, count)\n",
    "\n",
    "display_images_grid(train_images + test_images, captions=train_labels + test_labels, col_count=count)"
   ]
  },
  {
   "cell_type": "code",
   "execution_count": 7,
   "id": "81e3c576-3c9f-4525-87d0-0dba7daee089",
   "metadata": {},
   "outputs": [],
   "source": [
    "from dataclasses import dataclass\n",
    "@dataclass\n",
    "class MyTask:\n",
    "    task_id: int\n",
    "    op: str\n",
    "    params: dict = None"
   ]
  },
  {
   "cell_type": "code",
   "execution_count": 8,
   "id": "f2bbbd67-9ad3-4dd4-92e1-265e7b5536ca",
   "metadata": {},
   "outputs": [
    {
     "data": {
      "text/plain": [
       "MyTask(task_id=0, op='h', params={'q': 123})"
      ]
     },
     "execution_count": 8,
     "metadata": {},
     "output_type": "execute_result"
    }
   ],
   "source": [
    "MyTask(0, 'h', {'q': 123})"
   ]
  },
  {
   "cell_type": "code",
   "execution_count": 9,
   "id": "2443689d-e070-4ece-a813-767088091b4c",
   "metadata": {},
   "outputs": [],
   "source": [
    "class CorticalColumnHost(object):\n",
    "    task_id = 0\n",
    "    \n",
    "    def __init__(self, host_id, column_ids):\n",
    "        self.host_id = host_id\n",
    "        self.column_ids = column_ids\n",
    "        self.task_queue = mp_ctx.Queue()\n",
    "        self.result_queue = mp_ctx.Queue()\n",
    "        self.process = mp_ctx.Process(target=ccp.live, args=(config.section_name, host_id, column_ids, self.task_queue, self.result_queue))\n",
    "        self.process.start()\n",
    "\n",
    "    @staticmethod\n",
    "    def gen_task_id():\n",
    "        CorticalColumnHost.task_id += 1\n",
    "        return CorticalColumnHost.task_id\n",
    "\n",
    "    def healthcheck(self):\n",
    "        task = ccp.Task(task_id=self.gen_task_id(), op='HEALTHCHECK')\n",
    "        self.task_queue.put(task)\n",
    "        self.result_queue.get()\n",
    "        \n",
    "    def terminate(self):\n",
    "        task = ccp.Task(task_id=self.gen_task_id(), op='TERMINATE')\n",
    "        self.task_queue.put(task)\n",
    "        self.result_queue.get()\n",
    "        self.process.join()\n",
    "\n",
    "    def train_start(self, train_run_id, image_ids, consolidation_threshold, attempts_to_get_no_mistakes):\n",
    "        task = ccp.Task(task_id=self.gen_task_id(), \n",
    "                        op='TRAIN', \n",
    "                        params={'train_run_id': train_run_id, \n",
    "                                'image_ids': image_ids, \n",
    "                                'consolidation_threshold': consolidation_threshold, \n",
    "                                'attempts_to_get_no_mistakes': attempts_to_get_no_mistakes})\n",
    "        self.task_queue.put(task)\n",
    "\n",
    "    def train_finish(self):\n",
    "        self.result_queue.get()\n",
    "\n",
    "    def infer_start(self, image_id, dataset_name):\n",
    "        task = ccp.Task(task_id=self.gen_task_id(), op='INFER', params={'dataset_name': dataset_name, 'image_id': image_id})\n",
    "        self.task_queue.put(task)\n",
    "\n",
    "    def infer_finish(self):\n",
    "        task_result = self.result_queue.get()\n",
    "        assert not task_result.payload is None\n",
    "        return task_result.payload['column_votes_vector'], task_result.payload['column_images_seen']"
   ]
  },
  {
   "cell_type": "code",
   "execution_count": 10,
   "id": "317bc435-b1be-4e25-8f4f-b9e3d35f522b",
   "metadata": {},
   "outputs": [
    {
     "name": "stdout",
     "output_type": "stream",
     "text": [
      "Column host 0 is ready\n",
      "Column host 1 is ready\n",
      "Column host 2 is ready\n",
      "Column host 3 is ready\n",
      "Column host 4 is ready\n",
      "Column host 5 is ready\n",
      "Column host 6 is ready\n"
     ]
    }
   ],
   "source": [
    "COLUMN_HOSTS = dict(map(lambda i: (i, CorticalColumnHost(i, [i])), range(config.cortical_columns_count)))\n",
    "\n",
    "for column_host in COLUMN_HOSTS.values():\n",
    "    column_host.healthcheck()\n",
    "    print(f'Column host {column_host.host_id} is ready')"
   ]
  },
  {
   "cell_type": "code",
   "execution_count": 15,
   "id": "91525025-20e5-4a9d-aa93-c7afb878ace7",
   "metadata": {},
   "outputs": [
    {
     "data": {
      "application/vnd.jupyter.widget-view+json": {
       "model_id": "99ffbe17484d433b9bacaf66433ca3bd",
       "version_major": 2,
       "version_minor": 0
      },
      "text/plain": [
       "  0%|          | 0/50 [00:00<?, ?it/s]"
      ]
     },
     "metadata": {},
     "output_type": "display_data"
    },
    {
     "name": "stdout",
     "output_type": "stream",
     "text": [
      "CPU times: user 613 ms, sys: 416 ms, total: 1.03 s\n",
      "Wall time: 28min 37s\n"
     ]
    }
   ],
   "source": [
    "%%time\n",
    "\n",
    "train_runs = 50\n",
    "attempts_to_get_no_mistakes = 10\n",
    "count = min(1000, len(df_train_images))\n",
    "consolidation_threshold = 1000\n",
    "\n",
    "for _ in tqdm(range(train_runs)):\n",
    "    TRAIN_RUN_ID += 1\n",
    "    image_ids = RNG.choice(df_train_images.index.unique(), count, replace=False)\n",
    "    \n",
    "    for column_id, column in COLUMN_HOSTS.items():\n",
    "        column.train_start(TRAIN_RUN_ID, image_ids, consolidation_threshold, attempts_to_get_no_mistakes)\n",
    "\n",
    "    for column_id, column in COLUMN_HOSTS.items():\n",
    "        column.train_finish()"
   ]
  },
  {
   "cell_type": "code",
   "execution_count": 16,
   "id": "0e574f93-f84d-46f2-aa55-57fdfbf785a1",
   "metadata": {},
   "outputs": [],
   "source": [
    "def softmax(x):\n",
    "    max_x = np.max(x)\n",
    "    exp_x = np.exp(x - max_x)\n",
    "    sum_exp_x = np.sum(exp_x)\n",
    "    return exp_x / sum_exp_x\n",
    "\n",
    "def conflate(pdfs):    \n",
    "    n = np.prod(pdfs, axis=0)\n",
    "    d = n.sum()\n",
    "\n",
    "    if np.isclose(d, 0):\n",
    "        return np.zeros(len(pdfs))\n",
    "        \n",
    "    return n / d"
   ]
  },
  {
   "cell_type": "code",
   "execution_count": 17,
   "id": "dedefb7f-24e7-43ca-91d6-eecc3fbaeb17",
   "metadata": {},
   "outputs": [
    {
     "data": {
      "application/vnd.jupyter.widget-view+json": {
       "model_id": "c29c58e7a82d4b869ce2ca4c6c8b3ad6",
       "version_major": 2,
       "version_minor": 0
      },
      "text/plain": [
       "  0%|          | 0/2000 [00:00<?, ?it/s]"
      ]
     },
     "metadata": {},
     "output_type": "display_data"
    }
   ],
   "source": [
    "# TEST RUN\n",
    "TEST_RUN_ID += 1\n",
    "test_run_source = (df_test_images, test_db_con, 'test')\n",
    "# test_run_source = (df_train_images, train_db_con, 'train')\n",
    "count = min(2000, len(test_run_source[0]))\n",
    "test_image_ids = RNG.choice(test_run_source[0].index.unique(), count, replace=False)\n",
    "test_result_rows = defaultdict(list)\n",
    "column_id_whitelist = COLUMN_HOSTS.keys()\n",
    "# column_id_whitelist = [3]\n",
    "assert np.all(np.array(list(map(lambda i: i in COLUMN_HOSTS, column_id_whitelist))) == 1)\n",
    "\n",
    "for image_id in tqdm(test_image_ids):\n",
    "    image_value = test_run_source[0].loc[image_id]['value']\n",
    "    column_votes_vector = np.zeros(10)\n",
    "    column_images_seen = {}\n",
    "    \n",
    "    for column_id, column_host in COLUMN_HOSTS.items():\n",
    "        if not column_id in column_id_whitelist:\n",
    "            continue\n",
    "\n",
    "        column_host.infer_start(image_id, test_run_source[2])\n",
    "\n",
    "    for column_id, column_host in COLUMN_HOSTS.items():\n",
    "        if not column_id in column_id_whitelist:\n",
    "            continue\n",
    "\n",
    "        column_votes_vector_, column_images_seen_ = column_host.infer_finish()\n",
    "        column_votes_vector += column_votes_vector_\n",
    "        column_images_seen.update(column_images_seen_)\n",
    "\n",
    "    infer_value = ''\n",
    "    \n",
    "    if np.any(column_votes_vector) > 0:\n",
    "        digit_probabilities = softmax(column_votes_vector)\n",
    "        infer_value = str(RNG.choice(10, p=digit_probabilities))\n",
    "    \n",
    "    test_result_rows['test_run_id'].append(TEST_RUN_ID)\n",
    "    test_result_rows['config_variant'].append(config.section_name)\n",
    "    test_result_rows['cortical_columns'].append(sorted(column_id_whitelist))\n",
    "    test_result_rows['train_images_count'].append(max(list(column_images_seen.values())))\n",
    "    test_result_rows['train_runs'].append(TRAIN_RUN_ID)\n",
    "    test_result_rows['source_ds'].append(test_run_source[2])\n",
    "    test_result_rows['test_image_id'].append(image_id)\n",
    "    test_result_rows['true_value'].append(image_value)\n",
    "    test_result_rows['infer_value'].append(infer_value) \n",
    "    test_result_rows['sim'].append(column_votes_vector)\n",
    "    \n",
    "\n",
    "assert set(test_result_rows.keys()) == set(DF_TEST_RESULTS.columns), set(test_result_rows.keys()) ^ set(DF_TEST_RESULTS.columns)\n",
    "df_test_results_for_run = pd.DataFrame(test_result_rows, columns=DF_TEST_RESULTS.columns)\n",
    "concat_list = [DF_TEST_RESULTS] if len(DF_TEST_RESULTS) > 0 else []\n",
    "concat_list.append(df_test_results_for_run)\n",
    "DF_TEST_RESULTS = pd.concat(concat_list, ignore_index=True)"
   ]
  },
  {
   "cell_type": "code",
   "execution_count": 18,
   "id": "9ded612b-96ae-4f3d-a964-d78dcfb19834",
   "metadata": {},
   "outputs": [
    {
     "data": {
      "image/png": "[encoded data removed]",
      "text/plain": [
       "<Figure size 1600x400 with 3 Axes>"
      ]
     },
     "metadata": {},
     "output_type": "display_data"
    },
    {
     "data": {
      "text/html": [
       "<div>\n",
       "<style scoped>\n",
       "    .dataframe tbody tr th:only-of-type {\n",
       "        vertical-align: middle;\n",
       "    }\n",
       "\n",
       "    .dataframe tbody tr th {\n",
       "        vertical-align: top;\n",
       "    }\n",
       "\n",
       "    .dataframe thead th {\n",
       "        text-align: right;\n",
       "    }\n",
       "</style>\n",
       "<table border=\"1\" class=\"dataframe\">\n",
       "  <thead>\n",
       "    <tr style=\"text-align: right;\">\n",
       "      <th></th>\n",
       "      <th>config_variant</th>\n",
       "      <th>source_ds</th>\n",
       "      <th>cortical_columns</th>\n",
       "      <th>train_images_count</th>\n",
       "      <th>train_runs</th>\n",
       "      <th>count</th>\n",
       "      <th>infers</th>\n",
       "      <th>correct_infers</th>\n",
       "      <th>infer_ratio</th>\n",
       "      <th>accuracy_count</th>\n",
       "      <th>accuracy_infers</th>\n",
       "    </tr>\n",
       "    <tr>\n",
       "      <th>test_run_id</th>\n",
       "      <th></th>\n",
       "      <th></th>\n",
       "      <th></th>\n",
       "      <th></th>\n",
       "      <th></th>\n",
       "      <th></th>\n",
       "      <th></th>\n",
       "      <th></th>\n",
       "      <th></th>\n",
       "      <th></th>\n",
       "      <th></th>\n",
       "    </tr>\n",
       "  </thead>\n",
       "  <tbody>\n",
       "    <tr>\n",
       "      <th>1</th>\n",
       "      <td>SQLITE3_NORMAL_GRID_RADIAL_7_256</td>\n",
       "      <td>test</td>\n",
       "      <td>[0, 1, 2, 3, 4, 5, 6]</td>\n",
       "      <td>75615</td>\n",
       "      <td>50</td>\n",
       "      <td>2000</td>\n",
       "      <td>2000</td>\n",
       "      <td>1896</td>\n",
       "      <td>1.0</td>\n",
       "      <td>0.948</td>\n",
       "      <td>0.948</td>\n",
       "    </tr>\n",
       "    <tr>\n",
       "      <th>2</th>\n",
       "      <td>SQLITE3_NORMAL_GRID_RADIAL_7_256</td>\n",
       "      <td>test</td>\n",
       "      <td>[0, 1, 2, 3, 4, 5, 6]</td>\n",
       "      <td>133314</td>\n",
       "      <td>100</td>\n",
       "      <td>2000</td>\n",
       "      <td>2000</td>\n",
       "      <td>1906</td>\n",
       "      <td>1.0</td>\n",
       "      <td>0.953</td>\n",
       "      <td>0.953</td>\n",
       "    </tr>\n",
       "  </tbody>\n",
       "</table>\n",
       "</div>"
      ],
      "text/plain": [
       "                               config_variant source_ds  \\\n",
       "test_run_id                                               \n",
       "1            SQLITE3_NORMAL_GRID_RADIAL_7_256      test   \n",
       "2            SQLITE3_NORMAL_GRID_RADIAL_7_256      test   \n",
       "\n",
       "                  cortical_columns  train_images_count  train_runs  count  \\\n",
       "test_run_id                                                                 \n",
       "1            [0, 1, 2, 3, 4, 5, 6]               75615          50   2000   \n",
       "2            [0, 1, 2, 3, 4, 5, 6]              133314         100   2000   \n",
       "\n",
       "             infers  correct_infers  infer_ratio  accuracy_count  \\\n",
       "test_run_id                                                        \n",
       "1              2000            1896          1.0           0.948   \n",
       "2              2000            1906          1.0           0.953   \n",
       "\n",
       "             accuracy_infers  \n",
       "test_run_id                   \n",
       "1                      0.948  \n",
       "2                      0.953  "
      ]
     },
     "execution_count": 18,
     "metadata": {},
     "output_type": "execute_result"
    }
   ],
   "source": [
    "df_test_results2 = DF_TEST_RESULTS.copy()\n",
    "df_test_results2['is_infer'] = df_test_results2['infer_value'] != ''\n",
    "df_test_results2['is_correct_infer'] = df_test_results2['true_value'] == df_test_results2['infer_value']\n",
    "df_test_results2 = df_test_results2.groupby(by=['test_run_id']).agg({'config_variant': 'first', \n",
    "                                                                     'source_ds': 'first',\n",
    "                                                                     'cortical_columns': 'first',\n",
    "                                                                     'train_images_count': 'first',\n",
    "                                                                     'train_runs': 'first',\n",
    "                                                                     'test_image_id': 'count', \n",
    "                                                                     'is_infer': 'sum', \n",
    "                                                                     'is_correct_infer': 'sum'})\n",
    "df_test_results2.rename(columns=dict(test_image_id='count', is_infer='infers', is_correct_infer='correct_infers'), inplace=True, errors='raise')\n",
    "df_test_results2['infer_ratio'] = df_test_results2['infers'] / df_test_results2['count']\n",
    "df_test_results2['accuracy_count'] = df_test_results2['correct_infers'] / df_test_results2['count']\n",
    "df_test_results2['accuracy_infers'] = df_test_results2['correct_infers'] / df_test_results2['infers']\n",
    "df_test_results2['accuracy_infers'] = df_test_results2['accuracy_infers'].fillna(0)\n",
    "\n",
    "plt.figure(figsize=(16, 4))\n",
    "plt.subplot(1, 3, 1)\n",
    "b = plt.bar(list(map(str, df_test_results2.index)), list(df_test_results2['infer_ratio']))\n",
    "plt.bar_label(b, map(lambda p: f'{p*100:.0f}', df_test_results2['infer_ratio']), label_type='center')\n",
    "plt.ylim(0, 1)\n",
    "plt.title('Infers, %')\n",
    "plt.xlabel('Test run')\n",
    "plt.grid()\n",
    "\n",
    "plt.subplot(1, 3, 2)\n",
    "b = plt.bar(list(map(str, df_test_results2.index)), list(df_test_results2['accuracy_count']))\n",
    "plt.bar_label(b, map(lambda p: f'{p*100:.0f}', df_test_results2['accuracy_count']), label_type='center')\n",
    "plt.ylim(0, 1)\n",
    "plt.title('Accuracy (Count), %')\n",
    "plt.xlabel('Test run')\n",
    "plt.grid()\n",
    "\n",
    "plt.subplot(1, 3, 3)\n",
    "b = plt.bar(list(map(str, df_test_results2.index)), list(df_test_results2['accuracy_infers']))\n",
    "plt.bar_label(b, map(lambda p: f'{p*100:.0f}', df_test_results2['accuracy_infers']), label_type='center')\n",
    "plt.ylim(0, 1)\n",
    "plt.title('Accuracy (Infers), %')\n",
    "plt.xlabel('Test run')\n",
    "plt.grid()\n",
    "\n",
    "plt.show()\n",
    "df_test_results2"
   ]
  },
  {
   "cell_type": "code",
   "execution_count": null,
   "id": "88170617-5c38-4250-87af-edd152d31a51",
   "metadata": {},
   "outputs": [],
   "source": []
  }
 ],
 "metadata": {
  "kernelspec": {
   "display_name": "Python 3 (ipykernel)",
   "language": "python",
   "name": "python3"
  },
  "language_info": {
   "codemirror_mode": {
    "name": "ipython",
    "version": 3
   },
   "file_extension": ".py",
   "mimetype": "text/x-python",
   "name": "python",
   "nbconvert_exporter": "python",
   "pygments_lexer": "ipython3",
   "version": "3.12.9"
  }
 },
 "nbformat": 4,
 "nbformat_minor": 5
}
