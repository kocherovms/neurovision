{
 "cells": [
  {
   "cell_type": "code",
   "execution_count": 1,
   "id": "27532844-1826-4299-b063-16a22e592f3f",
   "metadata": {},
   "outputs": [],
   "source": [
    "import os, math\n",
    "from enum import StrEnum, auto\n",
    "from collections import defaultdict, namedtuple, Counter, deque\n",
    "from dataclasses import dataclass\n",
    "import typing\n",
    "import itertools\n",
    "import sqlite3\n",
    "import pickle\n",
    "import datetime\n",
    "import multiprocessing as mp\n",
    "import queue\n",
    "import gc\n",
    "import json\n",
    "import decimal\n",
    "from IPython.core.getipython import get_ipython\n",
    "\n",
    "from PIL import Image, ImageDraw\n",
    "from tqdm.notebook import tqdm\n",
    "\n",
    "from sklearn.model_selection import train_test_split\n",
    "from sklearn.decomposition import PCA\n",
    "import matplotlib.pyplot as plt\n",
    "import matplotlib as mpl\n",
    "import scipy\n",
    "import numpy as np\n",
    "import cupy as cp\n",
    "import pandas as pd\n",
    "\n",
    "from module.utils import *\n",
    "from module.hdc import *\n",
    "from module.constants import *"
   ]
  },
  {
   "cell_type": "code",
   "execution_count": 2,
   "id": "73358262-adf2-4d17-a383-f120a5d1f8aa",
   "metadata": {},
   "outputs": [
    {
     "name": "stdout",
     "output_type": "stream",
     "text": [
      "xp = cupy\n",
      "transf_learn18.ipynb\n"
     ]
    }
   ],
   "source": [
    "LOG = Logging()\n",
    "\n",
    "config_var = 'SQLITE3_SEQ_GRID_0_2_4096'\n",
    "config = Config(config_var)\n",
    "RNG = np.random.default_rng()\n",
    "\n",
    "if cp.cuda.is_available():\n",
    "    xp = cp.get_array_module(cp.empty(1))\n",
    "    xp_array_from_gpu = lambda a: a.get() if isinstance(a, cp.ndarray) else a\n",
    "    xp_array_to_gpu = lambda a: cp.asarray(a) if isinstance(a, np.ndarray) else a\n",
    "    xp_array_to_gpu_copy = lambda a: cp.asarray(a) if isinstance(a, np.ndarray) else a\n",
    "else:\n",
    "    xp = cp.get_array_module(np.empty(1))\n",
    "    xp_array_from_gpu = lambda a: a\n",
    "    xp_array_to_gpu = lambda a: a\n",
    "    xp_array_to_gpu_copy = lambda a: a.copy()\n",
    "\n",
    "print(f'xp = {xp.__name__}')\n",
    "\n",
    "with open(get_ipython().kernel.config['IPKernelApp']['connection_file'], 'r') as cf:\n",
    "    notebook_fname = json.load(cf)['jupyter_session']\n",
    "    notebook_fname = os.path.basename(notebook_fname)\n",
    "\n",
    "print(notebook_fname)"
   ]
  },
  {
   "cell_type": "code",
   "execution_count": 3,
   "id": "656ee6b7-3982-4f99-9251-6b67fef36ae3",
   "metadata": {},
   "outputs": [],
   "source": [
    "%run sequencing_sp2.ipynb # req-d for sequences depickling"
   ]
  },
  {
   "cell_type": "markdown",
   "id": "d5c8f88a-5403-4177-b5fc-e0e2a1da9c2d",
   "metadata": {},
   "source": [
    "# Data Loading"
   ]
  },
  {
   "cell_type": "code",
   "execution_count": 4,
   "id": "d2dd62ab-b44e-4251-9e86-d41b3672e36e",
   "metadata": {},
   "outputs": [
    {
     "name": "stdout",
     "output_type": "stream",
     "text": [
      "CPU times: user 9 μs, sys: 1 μs, total: 10 μs\n",
      "Wall time: 18.1 μs\n"
     ]
    }
   ],
   "source": [
    "%time\n",
    "train_db_con = sqlite3.connect(DBUtils.get_full_db_file_name(config, config.train_db_file_name))\n",
    "test_db_con = sqlite3.connect(DBUtils.get_full_db_file_name(config, config.test_db_file_name))\n",
    "\n",
    "test_results_db_con = sqlite3.connect(DBUtils.get_full_db_file_name(config, config.test_results_db_file_name, with_prefix=False), autocommit=True)\n",
    "test_results_db_con.execute('CREATE TABLE IF NOT EXISTS test_runs(test_run_id INTEGER PRIMARY KEY, dummy)')\n",
    "\n",
    "transfs_db_con = sqlite3.connect(DBUtils.get_full_db_file_name(config, config.transfs_db_file_name, with_prefix=False), autocommit=True)\n",
    "transfs_db_con.execute('CREATE TABLE IF NOT EXISTS features(encoding, type, x, y, radius, angle, bitmap_mask_nzb, nzb)')\n",
    "transfs_db_con.execute('CREATE TABLE IF NOT EXISTS points(encoding, count, non_zero_bits, output_bit, nzb_list)')\n",
    "transfs_db_con.execute('CREATE TABLE IF NOT EXISTS clusters(encoding, transf_code, output_bit, metas, nzb_list)');"
   ]
  },
  {
   "cell_type": "code",
   "execution_count": 5,
   "id": "2683b5d5-b74a-4e0c-8f19-032bc1eab29d",
   "metadata": {},
   "outputs": [],
   "source": [
    "# df_points = pd.read_sql('SELECT ROWID, points FROM points', con=transfs_db_con)\n",
    "\n",
    "# for points_row in tqdm(df_points.itertuples(), total=len(df_points)):\n",
    "#     row_id = int(points_row.rowid)\n",
    "#     points = pickle.loads(points_row.points)\n",
    "#     nzb_list = list(map(lambda p: np.flatnonzero(p), points))\n",
    "#     transfs_db_con.execute('UPDATE points SET nzb_list=:nzb_list WHERE ROWID=:rowid', {'nzb_list': pickle.dumps(nzb_list), 'rowid': row_id})"
   ]
  },
  {
   "cell_type": "code",
   "execution_count": 6,
   "id": "217a5762-dbb2-4a14-9e08-0cebecbbb2a5",
   "metadata": {},
   "outputs": [],
   "source": [
    "# df_points = pd.read_sql('SELECT ROWID, nzb_list FROM points', con=transfs_db_con)\n",
    "\n",
    "# for points_row in tqdm(df_points.itertuples(), total=len(df_points)):\n",
    "#     row_id = int(points_row.rowid)\n",
    "#     nzb_list = pickle.loads(points_row.nzb_list)\n",
    "#     nzb_list = list(map(lambda nzb: list(map(int, nzb)), nzb_list))\n",
    "#     transfs_db_con.execute('UPDATE points SET nzb_list=:nzb_list WHERE ROWID=:rowid', {'nzb_list': pickle.dumps(nzb_list), 'rowid': row_id})"
   ]
  },
  {
   "cell_type": "code",
   "execution_count": 7,
   "id": "5751b028-6879-45a5-a950-7474ff3ebae3",
   "metadata": {},
   "outputs": [],
   "source": [
    "# df_features = pd.read_sql('SELECT ROWID, sbv FROM features', con=transfs_db_con)\n",
    "\n",
    "# for feature_row in tqdm(df_features.itertuples(), total=len(df_features)):\n",
    "#     row_id = int(feature_row.rowid)\n",
    "#     feature = pickle.loads(feature_row.sbv)\n",
    "#     nzb = np.flatnonzero(feature)\n",
    "#     transfs_db_con.execute('UPDATE features SET nzb=:nzb WHERE ROWID=:rowid', {'nzb': pickle.dumps(nzb), 'rowid': row_id})"
   ]
  },
  {
   "cell_type": "code",
   "execution_count": 8,
   "id": "9ff404ba-8935-4e20-b1f6-20bc8e5473cb",
   "metadata": {},
   "outputs": [],
   "source": [
    "# df_features = pd.read_sql('SELECT ROWID, nzb FROM features', con=transfs_db_con)\n",
    "\n",
    "# for feature_row in tqdm(df_features.itertuples(), total=len(df_features)):\n",
    "#     row_id = int(feature_row.rowid)\n",
    "#     nzb = pickle.loads(feature_row.nzb)\n",
    "#     nzb = list(map(int, nzb))\n",
    "#     transfs_db_con.execute('UPDATE features SET nzb=:nzb WHERE ROWID=:rowid', {'nzb': pickle.dumps(nzb), 'rowid': row_id})"
   ]
  },
  {
   "cell_type": "code",
   "execution_count": 9,
   "id": "9404f082-1a15-42da-afa4-60b935eb499c",
   "metadata": {},
   "outputs": [],
   "source": [
    "# df_features = pd.read_sql('SELECT ROWID, bitmap_mask_nzb FROM features', con=transfs_db_con)\n",
    "\n",
    "# for feature_row in tqdm(df_features.itertuples(), total=len(df_features)):\n",
    "#     row_id = int(feature_row.rowid)\n",
    "#     bitmap_mask_nzb = pickle.loads(feature_row.bitmap_mask_nzb)\n",
    "#     bitmap_mask_nzb = list(map(int, bitmap_mask_nzb))\n",
    "#     transfs_db_con.execute('UPDATE features SET bitmap_mask_nzb=:bitmap_mask_nzb WHERE ROWID=:rowid', {'bitmap_mask_nzb': pickle.dumps(bitmap_mask_nzb), 'rowid': row_id})"
   ]
  },
  {
   "cell_type": "code",
   "execution_count": 10,
   "id": "f2e2207b-2da2-49a6-a8e8-85cf554cc705",
   "metadata": {},
   "outputs": [],
   "source": [
    "# df_clusters = pd.read_sql('SELECT ROWID, sbv FROM clusters', con=transfs_db_con)\n",
    "\n",
    "# for clusters_row in tqdm(df_clusters.itertuples(), total=len(df_clusters)):\n",
    "#     row_id = int(clusters_row.rowid)\n",
    "#     clusters = pickle.loads(clusters_row.sbv)\n",
    "#     nzb_list = list(map(lambda c: np.flatnonzero(c), clusters))\n",
    "#     transfs_db_con.execute('UPDATE clusters SET nzb_list=:nzb_list WHERE ROWID=:rowid', {'nzb_list': pickle.dumps(nzb_list), 'rowid': row_id})"
   ]
  },
  {
   "cell_type": "code",
   "execution_count": 11,
   "id": "eeadc038-7f14-46af-8bc1-f9566d89da9a",
   "metadata": {},
   "outputs": [],
   "source": [
    "# df_clusters = pd.read_sql('SELECT ROWID, nzb_list FROM clusters', con=transfs_db_con)\n",
    "\n",
    "# for clusters_row in tqdm(df_clusters.itertuples(), total=len(df_clusters)):\n",
    "#     row_id = int(clusters_row.rowid)\n",
    "#     nzb_list = pickle.loads(clusters_row.nzb_list)\n",
    "#     nzb_list = list(map(lambda nzb: list(map(int, nzb)), nzb_list))\n",
    "#     transfs_db_con.execute('UPDATE clusters SET nzb_list=:nzb_list WHERE ROWID=:rowid', {'nzb_list': pickle.dumps(nzb_list), 'rowid': row_id})"
   ]
  },
  {
   "cell_type": "code",
   "execution_count": 12,
   "id": "075fb95e-af1f-4b14-9b2b-7d2046b51f69",
   "metadata": {},
   "outputs": [
    {
     "data": {
      "text/plain": [
       "((10000, 7), (2000, 7))"
      ]
     },
     "execution_count": 12,
     "metadata": {},
     "output_type": "execute_result"
    }
   ],
   "source": [
    "df_train_images = pd.read_sql_query('SELECT * FROM images', con=train_db_con, index_col='image_id')\n",
    "df_test_images = pd.read_sql_query('SELECT * FROM images', con=test_db_con, index_col='image_id')\n",
    "df_train_images.shape, df_test_images.shape"
   ]
  },
  {
   "cell_type": "code",
   "execution_count": 13,
   "id": "70b21219-4f16-4824-90ec-7bda1574c5d1",
   "metadata": {},
   "outputs": [
    {
     "data": {
      "text/html": [
       "<div style=\"\n",
       "        display: grid; \n",
       "        grid-template-columns: repeat(8, 128px);\n",
       "        column-gap: 1px;\n",
       "        row-gap: 1px;\">\n",
       "        \n",
       "            <figure style=\"margin: 5px !important;\">\n",
       "              <img src=\"data:image/png;base64,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\" style=\"height: auto\">\n",
       "              <figcaption style=\"font-size: 0.6em\">0</figcaption>\n",
       "            </figure>\n",
       "        \n",
       "            <figure style=\"margin: 5px !important;\">\n",
       "              <img src=\"data:image/png;base64,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\" style=\"height: auto\">\n",
       "              <figcaption style=\"font-size: 0.6em\">3</figcaption>\n",
       "            </figure>\n",
       "        \n",
       "            <figure style=\"margin: 5px !important;\">\n",
       "              <img src=\"data:image/png;base64,iVBORw0KGgoAAAANSUhEUgAAAIAAAACACAAAAADmVT4XAAADuUlEQVR4nO2ZS28jNwzHSUrzduzUdXcXxZ5a9Pt/oQIFtkiRbNZx/BjPQxLZgwPsOeIguuh/H84PFF+iALKysrKysrKysrKyEgsVnyIhAgCwsERbsfEA1WrVFRbZ9afzmAKg+fz106oy/vL0LSQC+OvPbWfnw99uH29FAVBufv/jy6acnt1DnQSAyubu/td6pm1LSQBEBKho7KpRGAEFuwQ3zYy2KhVGNADs3TwHIFsUChdovAcigAhF1XY1h8hipPEeAIAAULn6ZdtVNq6oqgEEoFzvPm8aE2dAdQQAwMFCufl0RJ7nqDPQAggD1vdfej/1fZQBJYAwC7a7r94Px9cUAMDM1P7myR0f44JQ6wEJQu2O8PLQJAEAEcHSoNveFR+fhkhECABg6qYqItNQAYBExtCbgejRTlWIEBEBAcCH2Eqs6oYcvA8iAMKBEwDw1J/PQ1z9+ylFFvjr4XvTtG0BqBjuFQDuvH+qV5uN4u86AH89PHe7gUF1vdHFwOlydRxvQQkgfh7HOSiDUJWGzjuvdIAOgENgSecBEObo+rMIwE26LFR3w7d+mAQAf64o0gCIhOBDSFcH2E/DMM5OVwkUpZinS30895MvReJjUQEQZrGvp35yBQhgLIHGA7Mzp8swecY0HhCQaRgnZQzoCpGfnQ+BRURE4tJBB8DOB2YRuS1sPh5AOITbnhRjo1AJEJhFAIjI2LgNhX5DIoBkbFnVjY3pC/puCEhki6ppuzKmMygBEBHx5oGmsTGdaQEPACISGRN1AosAiDAH713UdLQAgAgHN4/D1cWUAi0AAgCzd9N47V3MhKrdkMDNA95N4+gTHcEbQ4hrSssAAER3xGUA8LYsSQdwK0gpAeKVATJABsgA6naMpNsRqGdCY4zRbEmW8ADh7f0wBcBtZc8Qv6/WPlq54XwuypAMIFxfnipeEyBGziRagP7HAwl0EL2uUwO8PNqqLTEVgMz98e4yBSCiuHhWZ4GfZxcSjmTythlBxDhT+osJEhIhGRtnapnb8W1DEfXxAo/XgKawbbdeD86//3akzQIQALJVubrf7ubLIOGDAQAAkGxZd5vtdmDv3v31IjFApijrpm1K8+E7IkBEJEIQ9jERsMRAYq01BsJwej2NEa+Y2hhAMgaBw3jaP7+M7uM3JCLBz8PZHPb7/THmEU+bhn7sj89rxn+/v17fnwJ6AB6PZfCXb/j4z2GOsqB8dbNtt+rWmxZOj//9eHcRWgCAjLWmKCy4cZi0r7hZWVlZWVlZafQ/DBDKEdMlRHwAAAAASUVORK5CYII=\" style=\"height: auto\">\n",
       "              <figcaption style=\"font-size: 0.6em\">1</figcaption>\n",
       "            </figure>\n",
       "        \n",
       "            <figure style=\"margin: 5px !important;\">\n",
       "              <img src=\"data:image/png;base64,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\" style=\"height: auto\">\n",
       "              <figcaption style=\"font-size: 0.6em\">2</figcaption>\n",
       "            </figure>\n",
       "        \n",
       "            <figure style=\"margin: 5px !important;\">\n",
       "              <img src=\"data:image/png;base64,iVBORw0KGgoAAAANSUhEUgAAAIAAAACACAAAAADmVT4XAAAFIElEQVR4nO2aSXMbNxCFXwMYLDNctVi2k8ol//8fJVHsJOXIEsVlOJwVQA4U7eQIQDXKYd5BVToQ+NhY+nUTwKRJkyZNmjRp0qQ3Fr3CGJwLRgTvrbXOB35YvAKAXsyN5GTb4/HYOjc6AOV3H9aFou748MW5jsJi8AoAfHb38/uVoXZj+mMzuDCCdACS89sff1rn1MzqRyNo3AgQmMiXtx9/XGpq8VAowS1GjQATer6+uftgJIZ6kUvBmA0aIDUCTOjF6vr6RnC4ea4yzijsZKcCcGnmi8VyCQBGS8FZ4M2SDpAXRa4JAKQI/v4ASwTIdF6YLGGURAAmVF4ofv7HOR96EadHQCijFT/Pa53zwQiJAOCZUhlPSGmpEWAikxcAIqKwW+g1ALj4z9HzoQSpS0Ccc/4yiHM2fBOkXsVEjIgI8N62bdcPgXYgGcB77zwIcH19KKtTF+qJEpfAezdYBwC23u12+7K1gWuQ7Ac8ABBg6912X1ZNqClMzoaZlFIwYKgPh7JqhtARUo+hLJaruRGwfVvXbR88fzKAXt6+u55nsF3btH3oEUgH4Gb97v31XPqha5q29+F3ciKAyJc3N6ucY2hPp1MX5sbOIyTMTmAqn83neUZ+qI/78tSHp+MEAAKXJi+KXDGgq7abbdmGb4IUAOIqzwujM4Lvq93zc9mOa0iY0EVulOQAhvqwO5y68AikuDmWaWO0ygiA69umidmECQAkMmW0lAIAvHfOBdfmiQBcaq2kYAA8wIiF1gSJACzTudFSEAAQYxFFQRoAV8V8nivxMuvZl4wKoBdXVwvN40dIBBDF+vZmqRkARH35ZIB8fXv9AhCvlCUw89WqUG8HwGQ+mxnxvSgZexOyTOfm5RAQMT76MSSeyUtZRkQUNX9SMiLG2LeiyDkb2qNMBfCu7/vBA4Af2qaqmt6Omo5ddyqPde8B2KbaPz8dmmFUAFsftruq8wDsqXx+/Lob2ZLZ5rBdrrvvEWhi8nEKQFsdDlXvcNkDEXYkcQnK3b7qHADvnHVR8ycBNOV+fzwbYSKiuKFSTkHfVFUzuPP8jMfl5ZSLyHv/rSMTmQkSHdFssShk4q9OKX5gdvP+7sq8nSPKFrc/fLwuOBDcHHwdAJFf3d6s3jACTJqi0OLt9gBxITOR0idOBWCMc0bwiOjSvwYAQEQJhjwd4F+O6I0ALn9i/WAqAIBLpzT6Jk7PBReM2H2YHAEAcDEPB9IBvgXA2b7rbYwnTweAB3nXNXFt2kQAAOe63HV1VXcRNUEiAGOMMUbkh/ZURbVp0wC4EFmWCUa+r/bb/Sm8U58GQEIqpZTk8O3h6eum7EZeApJKG6OVIN+Wz0/bKqIqSgPIlNJaSUZ+aOs6qksKRFdGBC6l1lpyAphQL/3KEQGYkFobkxFAavWuOT2ruGQQB0DEMqm0MRkAMteet496TAAQF1mmtBYAmOGS7e9HBiDOhRDnhReCNQsTOVI0ABFj55/NiUEZFfuOJP4mJHx/DMh58POdRAB/TsaXDDgMQ6wfiO2QeO+cO3sAb21dVs24F5F3dri4IN4eN18e9k1cCGIB7DAMFxM0bD59un84jQngnR+6rut6AMDp4ddf7h+qUZORd7ZvqsOuBjBs/rr/7c9NPeoSALY/Pn3ODwugvr//48vmGJmOowF8u//Md+scaP/+/dPjIfztxFnRpSVls/V6YSQwlNvtse1t3DmMr20ZywRn7HwiIl4wTZo0adKkSZMmTfq/6B/VsT1J9s9FOgAAAABJRU5ErkJggg==\" style=\"height: auto\">\n",
       "              <figcaption style=\"font-size: 0.6em\">1</figcaption>\n",
       "            </figure>\n",
       "        \n",
       "            <figure style=\"margin: 5px !important;\">\n",
       "              <img src=\"data:image/png;base64,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\" style=\"height: auto\">\n",
       "              <figcaption style=\"font-size: 0.6em\">8</figcaption>\n",
       "            </figure>\n",
       "        \n",
       "            <figure style=\"margin: 5px !important;\">\n",
       "              <img src=\"data:image/png;base64,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\" style=\"height: auto\">\n",
       "              <figcaption style=\"font-size: 0.6em\">1</figcaption>\n",
       "            </figure>\n",
       "        \n",
       "            <figure style=\"margin: 5px !important;\">\n",
       "              <img src=\"data:image/png;base64,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\" style=\"height: auto\">\n",
       "              <figcaption style=\"font-size: 0.6em\">7</figcaption>\n",
       "            </figure>\n",
       "        \n",
       "            <figure style=\"margin: 5px !important;\">\n",
       "              <img src=\"data:image/png;base64,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\" style=\"height: auto\">\n",
       "              <figcaption style=\"font-size: 0.6em\">6</figcaption>\n",
       "            </figure>\n",
       "        \n",
       "            <figure style=\"margin: 5px !important;\">\n",
       "              <img src=\"data:image/png;base64,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\" style=\"height: auto\">\n",
       "              <figcaption style=\"font-size: 0.6em\">2</figcaption>\n",
       "            </figure>\n",
       "        \n",
       "            <figure style=\"margin: 5px !important;\">\n",
       "              <img src=\"data:image/png;base64,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\" style=\"height: auto\">\n",
       "              <figcaption style=\"font-size: 0.6em\">7</figcaption>\n",
       "            </figure>\n",
       "        \n",
       "            <figure style=\"margin: 5px !important;\">\n",
       "              <img src=\"data:image/png;base64,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\" style=\"height: auto\">\n",
       "              <figcaption style=\"font-size: 0.6em\">9</figcaption>\n",
       "            </figure>\n",
       "        \n",
       "            <figure style=\"margin: 5px !important;\">\n",
       "              <img src=\"data:image/png;base64,iVBORw0KGgoAAAANSUhEUgAAAIAAAACACAAAAADmVT4XAAALk0lEQVR4nO2aWXvjuLGGCwv3TbtkWbZ7mcny5Jz//1eSk06P3bYli1q4kyBBALmQZ9J5YvtIsnpyo7qUYdbLYlUB9ZEAZzvb2c52trOd7Wxn+y8bOuXFMMIYE4wUSKWUkqCUUqDUW/9DTwpgmKZtm1SJhrcN560QrRDy9wPQnCDo9wNT1WXJirJiTdM0DZe/F4Du9QbD6cXIllWa5WmalRVjVVUq8aMBECCEiOn2B6Px7HLsyDJJsyRNi5JVRULT6o2HcBIAoumm5XhBr98fTMZ9S1VOUGR5UbGa5U+Poml/MIDmeN3BsN/tBoHfCRxdmVZdM8bapuXpV5RnPxiAWsHg4vpq2vMdyzIMgsGwWyGEACFlahWruHk9D08AQLzu6OLq88fLnmvoFIFEu8pHgBVAWi0eYlm1rxXjewGIplmDyXQ6vZ6OOxYCACD/+isC6ExuVsLdpiV/uSG9F4C6fufy+vqyPxp65otttf+p9e++PYZF+0MAjGB88eGnj1PbdvSX27p3Yw36RlPUAsELCO8E0LzB5dXnnz9NMMavLNGHfkCS+YK8zHc8AMKEUG8yvZxdTgYWAACoVkihpFIKgVIAiBCEDUpl19XQyZNQabbr9qbX19Nxx3z+qWEVYzVXgEG2UlHDMk3PJYQg1YqXCY4HwEZnNBxdzqbDgf0cXVGmSZJmlQQCouFK9zqB3yiL1XXdtKeuAtMbzq4m04tR4Bq7S6s8Xm/WmygXiAKva2l1hsNuI12Wl6x+uQiOBECEmN7oYnYzGY+6rkGUQFLKdLtcrterbSEQBc5qaXWLMuci4EnBXvF/LIDpdgeT65urYa/rWRhANnlebFdPYRRFaSkRgbbm0iiKdJ0WPRXG7LXt4DgAbI9ml9PZ5bjjOhYGAMTWi2X4FK6ysqwaiTCIVihaZms3Sock3JanBTCCi08fLyejrqNpGACAJ4svt/OnVVSJtpUKASilFC5iaqRFrMeb8rVDyeEACLDRHV3efJgOu54GAAKgTpYPt1/my036HzdKhGRmGVev7YdHRMByOqOPN7OLYdenAKqpWJVt7v9x+xhukv+8T5HoyqjT5rVD0RERcC5ms5sPs2HHoQBQ58lmvVwuHhdh8mKcm1RqbXlCAOzP/vRhNh10bR0AmjwK7+9uF+soLeoXE01WAkvOX7vc4QBGZ/rp80XfsykCqNNtOP/l71/mScXFy61O1Q28tA0eBYAwJkF/fHExCCwCgvN0Hc7nd/fzMH/VhXrD+8EAmBpWfzgc9n2LANRpup4/PDwtF3H5ppMTAhhuZzIedn2DALT5ajm//eV+k2Xlm8PPCQGI1RlPJ4PAJgBQxcu7b1++3idCvDX6nBbAGcyuJz2HgpIi3Szuvz3Ml28c+k8OoLzZH69nXRMkb6r1/NvtfZi8z/+hZRjc/OWyE2jAqyJZfLv9ZZHU7/N/IIDZv/nDWNeJqMt4tXi4f1i93mFODYAQRmh8Mb3oAgDnZbIKw3CTvdP93gAIabbnOR9/mrgAAFiU0Wq1zap3+98TAAGxBlez8dUfh3QHUGxX64S9o/wOAkCAiDX4/D+fLwad3S8824SbjJ9A4tozApiancuf/zJ8HgB4maxX26J5v/99ARCmptsdWACgpBRFvFmt4uJt+emUAIAwJpqmAwDItmHxOlyGccWP3oIOBUCYUIxAUABQvErC5TJcsbekn9MCIKwZuk5AAgDIJt8un8JNLNXbGugpAajp+q6lIQAAyeJwvtxk37VAhAAB2gmzPwbACEaToWdgAABZrh/uHiP2bwswxkjJ9oik3A/A7IwuRsFOApFF+O12Hn9fglijhCBo6yMa034AutPpdWwNdgDrx8fwe+mPmJauUQRNhd/SRN8BAIAJxmjX90SdRdvdCIAQAALieL6lU6yaMi8YF0Ickgt7ASieR1632JW9ajljrBEAiGCCMbF6o0FgEqyaMs/yIiuqptn/WewHUEU6todMAQBIKeXzKZDoOqFGcHlzPbQxkrwq0ngVrqJUnhhA1jHC3ef5rmnFc7JT0zQ13R7e/OkPUweB4nWZbB7uDIpEuzfBfjkgOGN1KwFAlVleNUIBIGq7jqUZzmBy/WlmAYBoqnRtYsAYINs3DfarAs32O76jI1FX0eMyKhpFNM3wA8+i1Op2Ox0LAIBYlkGlJK5rWZu64a+pMocDYLs/vbocOLhNV/O7u2VaK9223V4vMBFovmPqv650lCTuuB94TpLmrwhzRwEMrm6uBg6u08evd3fLtEaG1+kMhx1DtRA8NwgAALB6Rq/ouZaxBM72aYx7NiK/P+oHJhbFZv74FJWtbvr9/nAUGJIrxya/pZzCjqUaQ3Euymyv89L+2zHFGFRb5XlRNYo63WGv5zkGVsjy9LZsOW8RpbpmEKC9Xm8bW/R0AEry5tcqkEIKCUYwnnYck2iWYZq23sRZHDPseL7ruwg0y3ZsY7972w+grfKsYK1CmBCKAZARDCcuBaWMrm9iVRWrh3lGepNxX2IHgOqmoeETRoBXWZJVrUKEaJRiBNR0PVvWUsemr/MiXj98uY30SQ3ItA0sEdV1+pp+fwQAtCzPc9YCxoQQjJFSLW+IbEDjLVdltFze3d3GJu4zLqRSCFNKyQkBFC/TOGOtQhgjhBASdbzADkUazowW0tXi6eF+lXpMEl2jCAAhhPacGfbMgTKN07IFTAjBhCAoQ5L7nu0o3Og8flqsluuYmUizbFPDSsn9T2d7RoBlac5ahamuG4ZOOVvVcWfQF20dSbZ9Wm6ikreKmo5jaUgppZTck2C/HJANq1jTAtJs33cdg4mSMyZBMQpNtQ3DJJMAgHXD1Mlhp9P9AJSUUkqFsNW5qItoWzbAS6xhbmDJWbKJMwUAAhFNoxj+n08WjgEAhDBGgLE9RFBtVpkQ0LJE5BSplhf5s0qHCKEEgXpLmDwWAGOkFIA5sFG2eIy4VKrJ6gQhkKJ9HpF0Q9coQT8kAqCk4A03NOryZT9watWKtv11Ntj583uBvW/7ORRACV4VeVFiDSHXD3yPtS18F2iqm5Y1uLrqOzuAk/cB2bIsSZKMUgS67QZBUf2bOmP5g/F4OrqaejoCAIQIJfttBfuWYcsgiqJI1w3Ahtvp5kX+3WnD9Icffv7pg+93vN310P4h2C8CSgmRbMKlrmsYGX5vUBTFvwQyqzOcfvjz/34yMdlNL0oKId/+eucwAAAFvNjOPaIZDrW7o6ppWiwBEEIYa353PL25vuz9uhjLhhXly68vjgUAgDL8h+Sa51B/XCGCNa+ViBBd102/Mxhdj/3fVmLUpNso308/2R+ALXneuOMxuCOpG7q9biSmuu24jucHnX7vuyupcrtap/WJAeptluHJpxsTB4pq1OwxgXXTCwLPdR3L2okHCgEAVMk63GSnBhCCcX++XA8ItaVS1N8BdDqebZkaRaBAgQQlBXtarjZJeepHAAAsebrt5Z6v2YCNXi2AGq7vOYbx3P4QyLpI0+SXL4+bjO01lxyolpfhF20zmfYsT7MZFwpT07aN7z6bgWp5/xA+3M83xWvv698F0Ky/tlEBhJiuKaWQgKmmfd9wWDL/218fwigt+Z6N4DAAHmttDboGgbHb9kAhkKAAEFLQtix5uv/6f9+iip94PP8NoNxKhaFJBoHrGBQQoKZpFYAUTcPrpkqWX749rfMD1LLDAGSNpOD5ajyZjPqBrwPwLK0VRm2ZJVlZVflmcR+9+qb8/QCqZaIpVvf96c3NdNR2DZWtNgVQzOPV0ybLWZWn6SH3fzCAbDhLiRFEFa/rljtiM1/moJFms3hYJjmrGy7kDwQABUoCZzXWaVvlW1tET6scNNJET/MwK45QKo/7hIMlTyoLu54ps23CgOA2izZxxY4Qr4986WLu+j9VdcVaQEjWVcn4MfL9cQAIY0Iwxkip534jpTyNfH+2s53tbGc729nOdrbf3f4JRhRW6/DURnMAAAAASUVORK5CYII=\" style=\"height: auto\">\n",
       "              <figcaption style=\"font-size: 0.6em\">6</figcaption>\n",
       "            </figure>\n",
       "        \n",
       "            <figure style=\"margin: 5px !important;\">\n",
       "              <img src=\"data:image/png;base64,iVBORw0KGgoAAAANSUhEUgAAAIAAAACACAAAAADmVT4XAAAN6klEQVR4nO2aWXfbOJbHLzbum0gtlmzJdiqZ6TPf/6vMU3VVYtnaRXHfSWAeku7pVCyLdqV6zpzj/6tI4Cfg4i64BHjXu971rne9613vetf/sdCfexshhDHCGCEEwHnHOefiVUPQPwUAhEmSLCsyYwTzOk+zoqxeN8KfA0BMNQzTtC1NkUmX+bt9APW/cQWIolv2YOANPUtXaRutDUZFm/4bABBCCDFJ1Qx74HrD0dA2VNqGMgJGGc2E6G8IbwPAqm6oqqbqpuXYzsC1DU3GnYqp6o0OhyhPspL/pQDUnE6HtqXrhmHouq6pMqPQMWaMgqO/P+5Wm96m+CYApLjzT/OhY2i6KkuMEowBBJapNcnj4Lj5HdKo+8sAEMKqM5zd3Y8cVVEkghB0Xdt1nBNJM1tvPHbEaS3VfxkAVkxnfHsz8SwZtUUJnHdN27ZNJ2Td0qhEmfAHhlxy0csQXw9A7Ov59GYxVEVW123b1G3btF1dt0hzhq5papozsHUlb/qdhDcAOIu/zUeuLrIkirKiLOqm7bq6arE5nE6Hs7Ghm5ah56LttQSvB6DG6PrGlkWaHvfHKMmKqmk5r6uWWONTdE10QzYtxyp4P2fwWgCEKCWIl2WZJ4f9MUzyvGo7Luq6JUnVtty+ErLhjiatEG2v//NKAEFQE+86WqdpFgZhWpRl03HB24ZjAaLq3JsZ08fzDKO26HMUXwtAJFr55NDlcVIXRVE1TdtxIaDjgldJm4jJx1LXxrc1quOgz4CvBCC6qkJU4TKO0q/hXwghAAQAgjYvY+kQlSA7k7w4KL1yjf4AGBMs66bGKMrrNAiaH54QHCAraw5YUlSFkZ8MIFmWYdimClUalXX14/wAAEAwRsDrMi/qfs64P4A6nl+5niU1/lqUGKPnzhhRDE0hUCen4ympewXE3gDEmv3nh8nIItmTSCImST/GO8RUy3M0ClV02B6i8id6QgTIGV3ff5qOTBQ2WxkjRH5cAqZZo/FAp6KO/YOf9MvN+gHIuj7+5X5xM3YpCJWItu2eGZ2Z4+ubK4uKItxv9nHZywj6AejT6fzDp8XEoQAU8aaq22c2mDk3v9zPB4zn/vppmxU/zwaIffO3D4v51GYA0FRlUdXNM5FGG91+upsPKC+jw+74HOJbAczR4tOnqWcxAOBRkuZl3f0wPDLdyc3dfGLgqqnK8qclJJTJ8uT2djFzNZHzpitX21NaNN/ZACaUSepgcXsz8UwMmCqmXXcd/5HyDQCS47nX//FxPlS7vMyzMt38tjrl368AUTTb8SY3H+dDCwMwY3Sb6Vma90mNLwEgZXh3u7i/v7J4dvTDMI4OT4+nvPnOwiXDndzMr6fTia0AAJizT3iw3/tdj4B8CYCo3u1/3V1PHJrE29XBPwWnox9X3/01xXSvFh8/LIa29jUAyaN7ZugUIXz5KL4MgBDTBlfzm4ktdUWwWe78UxhHWcXhW12NMSaSPRzPFnd317aCUcc7wRtlhBklsh4led11z/mMfgCIEFW3vZFn0jb11w+/78Moyb6FGQEAmKmaboyuptPZ/NpTgTdNUTYCkGuY9vDm4J9OSZpmL+3EiwCYSJphOwOD8dTfLD//5md5Uf3vcIiqznA4nN5cT1zPkQDqIo/iHGmOo7ijeezvNtv9blu9GQBRRTcty1BwHh02T8tl2DatAIQJACAEWLLHs5vpzfzaU2UMvMiS2D8lyGOuaTlNFW6fXItWafnmFWCqaZqGxqDJQv9wOOYAiDBZYggQwoBlZzafz2azkYVEXRZZHEfHY0xK2dJlJhkyIZTUcZCI8xn6iwBUtQaurUvQFXFwCqIcgKqKbuoKxRgjhCRncn3tDVSRVVkWp2mSJEGQ4aRtI0NW5I45ApVRWJZNe+44vAygOUPPUgnUaXgKogwAzIEz8BxDppQghKgxHHsaFUEZ+v4pTrM8z7MSH4Pd2DItW1WVMavisIyz4lyR8CIAUUzH0SWAqkjTvOoAdG82moxHtiozihDCsmVpkMe+v91sDlFWVk3Tdkjbfhk4A284mk5spTgdCyzac7HhwjFkEqNI8K7lAkt6TobT+fTqauzoCqMYAWBZgqLwn9arp9U+KuqWCwDEFNVwvNEkYwNJ9saTpKmKZ1O4SwC8KYui7hCmiukmSWfS0WIxGY+Glq4wigCgbass3K0e19v11k++7bOoqjwvq6oS9nggy6Y7zJPo3BwvArRZoFlxjUEf1EzRvJgOZzPXcSxdJd9eT3bb7Xa9OQSnMP8XO2sE8DpvraFldbIzTAP2JoAmJdiY5xyoyxzHu07pYOwZqqJK+B+Ix99+Xe72p6govy/EeCWqpHXGVttR24v30htXgIN1DHMJZGaZzrigpmtJGON/lhyn9d//+8s+SH6ohUXTFkiM1i7I2PQiQ8JnQvMFGwAWHncbQZkkmVipqWZJACDqtmtaIUSz+fKwfPKTH12dEAAQB4e9ZCt6NzAVeiYkvQggRFuEm9/1yLBMDSRQqSIBAJRZEsdp1XbNcfn3TXDW1TaJv6UgadixNOlMln4hH+B1stH5fjQeOzJhmEgAAEV82q+2x6RqmjQ4nrIzVRoAlKctVV1FcSxNzjk8dxQvJSRttsfV6aYGMFXpa71ZRsfd429f1kFeN01bN+fTX1zHR8XrZGYZqkyej4kXAIQoI9RVoBiarBAG0PE6POw2D58/r4L8YsbV5mlaCUnVVJnh5x+5mJS2BRJCG7iW0WGAusjT/Wa1WT3ugvjSqyC6tmk4ZrIiMUrws0ZwEUA0hUDWOE7LTgAvAv+4Wi53x1P4UpD/x7sAgDBhjDFKCObwBhsA4DXHcZJXdSegzf2n9ZfPD4e06lP+I4QJpZRQSgjGz3uCHgC8JVUrAABEm502jw9flqfzhv+dvs5PMMYYY/RsPDpjGt+rBcmwVIZRlwf77c6Pe86PMGWSRMm3+Z9n7DWQYg0nlkygy0+73UsH/w8iTFEkRgChs+2xXsWppLuTK1nG0GbB8Rj1ML+vwlRWNYUheOHStheAajquCwigTqNTkPYtfAEzVddVCqLtzl7cXgRAhBDbMjQMwNs8S5K0aPq2YxDTbVtnoqnr5tk7lT4AWFL14cCQAKArsiwvyqZvMwSEZAxcU4Kmquq6eb6BcBGAKLZ75ekEAOokTou6fdafPA+v2J5rsa7I86I60z/oAzCZuDoBaLLgFOdV278lJ+mO5+q4TJO0rJvnuS9vgWKPxq7BoMuD3e6UfPNJl0UwcVzPtaSmPPpR3rwlKwYAIJp7NRvbTJT+0+eHTVT1tUBJM2bXs7GD0+N67Z/1HZcBdHdyNbIlyPZffl2ugt4Aije+W1yP7DRZf1nu03Oh+6InxLLpeo5BRXF8+vywi/s6AcmaLG5vxrbcBquHp+PZ3KGHH2CSJFHMm/R09KOyjwkghJA7mS2uRzpukuNmtQvP3lpezgfaqiiqloFoq6Kse5kg0XT16u7D7dRGabldrzZ+evbq/CIAL2PfNi0ZMAIhxLOJ5R/FBpPR9f3dzNbqNPjysNrG57O3iwBdER4M27MIoZQx2vRpgyjD+8Xi9sZjdXzY/r7cHOqz1wM9VqDKojApOkIkWZGlpsfVH3Emi4/zm4neluF6uVwf4z8TDQVvqqpuORBZN/XsYiuOyrI2X9wupp5Ginj/9Lj205dO7uVwLLgQXAhguuMmSXTJBJjjuR8/3c8HOsqD3dPDwyZ68eT2ABCCc84RM7xxGvqXHtdGi+tfPt1OVFGE28eHh0c/fXHRemxB2zRN0wHT3XEWnsKX90B2Z/d3dzdDA2XhdvX4tNolLzcO+tQFcZxVHaK6e1VlJc++fq3w/c0bxoQQggl2bu/vF1eO1FX+7vFxtTvFFz7muHwMq5ip01yAbI44IZob5UlaVPX3aRFWNF1TVUUZzO/mE1OusnD9uFw9HrJLrruHH4CaXacdgD5kmjWen/z9Poxz8d1WMGMwdB3HtgZXE8+AOgq3X74sd8fgYu+uhx9oc9mPSgBmycZgEhw2piwzRsi/tCNU053MrsYjb+C4lozT6LB+/O3zk5/VF93GZRvoOojD0+kKY0oV3XIsBRNFj5KsqL82bjCTNWs0vb6ajIYDQ2e8yfz1crlcbaKf0LAAAIAy2j1qumESommaTJnmhXGaF3XTCQSIMEUz3fFk6Lq2ziBPk83y83KzPZ3NAV4N0MXrX2E4ISYAaIypgzjJ8qKqGy4QxoQpqm45jqlrCmmycH98enjYnMKkVwHVC4CnG72Zc0mWAIC5qleWZVk1TSM4QoQwRZFVVWGEQhMf10+rp8fVoah/YuuWZ0ep41TGtoQRJoYh2rau27blXABgJkuMEMx5WeenzfLhabXaBz/1S6quDEkH0KW2RKmiGRJiTAXRdV3T1B0niDdV11RVVaTBbrXa7v24d/HSbwWqRFRNET6ZkiTZ4+kEAwAgSoGnVVkBRl2VpWmWZUkcnfww6l8/9wMQTd5kRbyzNSapo9uODf/5U50GWStElYanII6TtKjKoqpe8VVlP4Cuq1ARH1WFSvqkYQqyvl4+d0lwOCR11xXx8eBHYZI1QoiXqvG3AYAAAVlVSBKRtJrJOLEkghCIOvUPx68Avn9Koqz/xK8DAACAtmgqTMsONcFAYxghEG0ZRXHedrzK4zjJi9fP/6rvihHGCFPFsk2NEQQIBG/Lsqq54F1TVlXT++birQDo680bIQR9fVEILrgQIICLP6YI73rXu971rne9613v+v+i/wFO1qsRFXFUQQAAAABJRU5ErkJggg==\" style=\"height: auto\">\n",
       "              <figcaption style=\"font-size: 0.6em\">8</figcaption>\n",
       "            </figure>\n",
       "        \n",
       "            <figure style=\"margin: 5px !important;\">\n",
       "              <img src=\"data:image/png;base64,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\" style=\"height: auto\">\n",
       "              <figcaption style=\"font-size: 0.6em\">0</figcaption>\n",
       "            </figure>\n",
       "        \n",
       "            <figure style=\"margin: 5px !important;\">\n",
       "              <img src=\"data:image/png;base64,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\" style=\"height: auto\">\n",
       "              <figcaption style=\"font-size: 0.6em\">0</figcaption>\n",
       "            </figure>\n",
       "        \n",
       "    </div>"
      ],
      "text/plain": [
       "<IPython.core.display.HTML object>"
      ]
     },
     "execution_count": 13,
     "metadata": {},
     "output_type": "execute_result"
    }
   ],
   "source": [
    "count = 8\n",
    "\n",
    "def get_images_and_labels(df, ids):\n",
    "    image_datas = df.loc[ids]['png']\n",
    "    images = [Image.open(io.BytesIO(image_data)) for image_data in image_datas]\n",
    "    labels = df.loc[ids]['value']\n",
    "    return images, list(labels)\n",
    "\n",
    "def get_some_random_images_and_labels(df, count):\n",
    "    image_ids = RNG.choice(df.index.unique(), count, replace=False)\n",
    "    return get_images_and_labels(df, image_ids)\n",
    "\n",
    "train_images, train_labels = get_some_random_images_and_labels(df_train_images, count)\n",
    "test_images, test_labels = get_some_random_images_and_labels(df_test_images, count)\n",
    "\n",
    "display_images_grid(train_images + test_images, captions=train_labels + test_labels, col_count=count)"
   ]
  },
  {
   "cell_type": "markdown",
   "id": "49a9c189-4620-4fff-b12c-0553540cc48d",
   "metadata": {},
   "source": [
    "# Core logic"
   ]
  },
  {
   "cell_type": "markdown",
   "id": "3e1f9cdd-a16c-4406-9eb6-69a653b84175",
   "metadata": {},
   "source": [
    "## Hyper Parameters"
   ]
  },
  {
   "cell_type": "code",
   "execution_count": 14,
   "id": "8d1303e2-9a31-466c-8eb6-48bd7a0a7fb8",
   "metadata": {},
   "outputs": [],
   "source": [
    "HP_SIGNAL_VEC_LEN = 1000 # aka SBV\n",
    "HP_SIGNAL_VEC_NON_ZERO_BITS = 8\n",
    "HP_SIGNAL_VEC_FEATURES_COUNT = 20\n",
    "HP_SIGNAL_ENCODING = f'{HP_SIGNAL_VEC_LEN}/{HP_SIGNAL_VEC_NON_ZERO_BITS}'\n",
    "\n",
    "HP_PIXEL_FEATURES_RANDOM_SEED = 42\n",
    "HP_PIXEL_FEATURES_COUNT = 2_000\n",
    "\n",
    "HP_POINTS_COUNT = 250_000\n",
    "# HP_POINTS_COUNT = 100_000\n",
    "HP_POINT_NON_ZERO_BITS = 40"
   ]
  },
  {
   "cell_type": "markdown",
   "id": "24850512-c1a7-4d52-a17a-bf1a5f7641a7",
   "metadata": {},
   "source": [
    "## Types"
   ]
  },
  {
   "cell_type": "code",
   "execution_count": 15,
   "id": "62aec35b-11c1-4d9a-9cdc-b7315222c610",
   "metadata": {},
   "outputs": [],
   "source": [
    "class ClusterState(StrEnum):\n",
    "    DEAD = auto()\n",
    "    LEARN = auto()\n",
    "    PROD_CANDIDATE = auto()\n",
    "    PROD_WORK = auto()\n",
    "    PROD_ETERNAL = auto()\n",
    "\n",
    "# Constant or slow changing props. Frequently changed (hot track) props reside in sidecars\n",
    "class ClusterMeta:\n",
    "    def __init__(self, cluster_ind):\n",
    "        self.state = ClusterState.LEARN\n",
    "        self.cluster_ind = cluster_ind\n",
    "        self.cluster_key = ()\n",
    "        self.output_bit = 999_999_999\n",
    "        self.input_bits = ()\n",
    "        self.ones_count = -1\n",
    "        self.last_activity_cycle = -1\n",
    "        self.accuracy_calc = None\n",
    "        self.verify_signal_ids = []"
   ]
  },
  {
   "cell_type": "markdown",
   "id": "f70e4714-7395-4a8a-93f7-7248507d6e9f",
   "metadata": {},
   "source": [
    "## Memory"
   ]
  },
  {
   "cell_type": "code",
   "execution_count": 16,
   "id": "944a2145-43bc-4ece-b640-e4562074deaf",
   "metadata": {},
   "outputs": [],
   "source": [
    "def hdv_array_log_like_grow_policy(size):\n",
    "    k = math.log(size, 100_000)\n",
    "    new_size = size * 2 if k < 1 else size * 1.1\n",
    "    return int(new_size)\n",
    "\n",
    "def gc_memory():\n",
    "    gc.collect()\n",
    "    \n",
    "    if cp.cuda.is_available():\n",
    "        cp.get_default_memory_pool().free_all_blocks()"
   ]
  },
  {
   "cell_type": "markdown",
   "id": "de73e165-ba51-4050-b4b8-1af91973f3e3",
   "metadata": {},
   "source": [
    "## Lambdas, Minifuncs, etc."
   ]
  },
  {
   "cell_type": "code",
   "execution_count": 17,
   "id": "9973a30b-4267-42a8-b61c-5c2c869c902c",
   "metadata": {},
   "outputs": [],
   "source": [
    "fetch_si_xy = lambda si: (si.x, si.y)\n",
    "get_sequence = lambda sequences: np.array(list(itertools.chain.from_iterable(sequences)))\n",
    "get_sequences_reading = lambda sequences, seq_reading_code: list(map(lambda r: sequences[r[0]] if r[1] == 0 else list(reversed(sequences[r[0]])), seq_reading_code))\n",
    "get_xy_sequence = lambda sequence, si_ind_dict: np.array(list(map(lambda si_ind: fetch_si_xy(si_ind_dict[si_ind]), sequence)))\n",
    "get_raw_image = lambda image_id: Image.open(io.BytesIO((df_train_images if image_id < 100_000_000 else df_test_images).loc[image_id]['png']))\n",
    "get_cluster_key = lambda output_bit, input_bits: (int(output_bit), tuple(map(int, sorted(input_bits))))\n",
    "\n",
    "bundle_sbvs = lambda sbvs: np.where(sbvs.sum(axis=0), 1, 0).astype('f') # aka bloom filter\n",
    "debundle_sbv = lambda sbv, sbv_dict_array, non_zero_bits: (sbv_dict_array @ sbv) == non_zero_bits\n",
    "\n",
    "# NZV = non-zero bits, e.g. [2, 3, 8]\n",
    "# SBV = sparsed binary vector, e.g. [0, 0, 1, 1, 0, 0, 0, 0, 1, 0]\n",
    "def nzb_to_sbv(nzb, sbv_len):\n",
    "    vec = np.zeros(sbv_len, dtype='f')\n",
    "    vec[nzb] = 1\n",
    "    return vec\n",
    "\n",
    "sbv_to_nzb = lambda sbv: list(map(int, np.flatnonzero(sbv)))\n",
    "\n",
    "# OHE = one-hot encoding\n",
    "def xy_list_to_ohe_vec(xy_list):\n",
    "    valid_boolmap = np.all(((xy_list >= 0) & (xy_list < config.sample_size)), axis=1)\n",
    "    xy_list = xy_list[valid_boolmap]\n",
    "    inds = xy_list @ np.array([1, config.sample_size])\n",
    "    vec = np.zeros(config.sample_size ** 2, dtype='f')\n",
    "    vec[inds] = 1\n",
    "    return vec\n",
    "\n",
    "def interval_governeur(interval, fun):\n",
    "    assert interval >= 0\n",
    "    countdown = interval\n",
    "    \n",
    "    def call(is_forced=False):\n",
    "        nonlocal countdown\n",
    "\n",
    "        if countdown <= 0 or is_forced:\n",
    "            fun()\n",
    "            countdown = interval\n",
    "        \n",
    "        countdown -= 1\n",
    "\n",
    "    return call\n",
    "\n",
    "def ensure_dtype(a, dt):\n",
    "    assert a.dtype == dt, (a.dtype, dt)\n",
    "    return a"
   ]
  },
  {
   "cell_type": "markdown",
   "id": "b69ac7e2-5c69-499a-b267-7919b9c0a014",
   "metadata": {},
   "source": [
    "## Average Filters"
   ]
  },
  {
   "cell_type": "code",
   "execution_count": 18,
   "id": "3af06346-4787-44fe-8ef8-4187796ea22b",
   "metadata": {},
   "outputs": [],
   "source": [
    "# https://youtu.be/HCd-leV8OkU?t=1240\n",
    "class AverageFilter:\n",
    "    def __init__(self):\n",
    "        self.value = 0 # aka prev_average\n",
    "        self.n = 0\n",
    "\n",
    "    def __call__(self, x):\n",
    "        self.n += 1\n",
    "        alpha = (self.n - 1) / self.n\n",
    "        result = alpha * self.value + (1 - alpha) * x\n",
    "        self.value = result\n",
    "        return result"
   ]
  },
  {
   "cell_type": "code",
   "execution_count": 19,
   "id": "a297cf9a-ed53-4529-a24f-da10417806bd",
   "metadata": {},
   "outputs": [],
   "source": [
    "a = 1 + np.arange(9)\n",
    "f = AverageFilter()\n",
    "avg = f(a[0])\n",
    "assert np.isclose(avg, 1)\n",
    "assert np.isclose(avg, f.value)\n",
    "\n",
    "for x in a[1:]:\n",
    "    avg = f(x)\n",
    "    assert np.isclose(avg, f.value)\n",
    "\n",
    "assert np.isclose(avg, 5)\n",
    "assert np.isclose(avg, f.value)"
   ]
  },
  {
   "cell_type": "code",
   "execution_count": 20,
   "id": "d1efe410-6d67-4ccd-823e-c91034d9c55a",
   "metadata": {},
   "outputs": [],
   "source": [
    "# https://www.youtube.com/watch?v=HCd-leV8OkU&t=583s\n",
    "# https://read.nxtbook.com/ieee/signal_processing/signal_processing_nov_2023/implementing_moving_average_f.html\n",
    "class MovingAverageFilter:\n",
    "    def __init__(self, n):\n",
    "        assert n >= 1\n",
    "        self.n = n\n",
    "        self.prev_average = 0\n",
    "        self.value = 0 \n",
    "        self.x_queue = deque()\n",
    "\n",
    "    def __call__(self, x):\n",
    "        self.x_queue.append(x)\n",
    "\n",
    "        while len(self.x_queue) > (self.n + 1):\n",
    "            self.x_queue.popleft()\n",
    "\n",
    "        x_old = self.x_queue[0] if len(self.x_queue) > self.n else 0\n",
    "        result = self.prev_average + (x - x_old) / self.n\n",
    "        self.prev_average = result\n",
    "\n",
    "        if len(self.x_queue) < (self.n + 1):\n",
    "            result = result * self.n / len(self.x_queue)\n",
    "\n",
    "        self.value = result\n",
    "        return result"
   ]
  },
  {
   "cell_type": "code",
   "execution_count": 21,
   "id": "0eafc439-58d8-49b5-b8d2-6a1ab99e1d41",
   "metadata": {},
   "outputs": [],
   "source": [
    "a = np.array([55, 60, 19, 80, 30, 19, 57, 26, 36, 78, 70, 34,  5, 65, 22, 10, 53,\n",
    "       28, 98,  1, 67, 94, 29, 37, 87, 98, 39, 71, 98, 68, 47, 20, 15, 13,\n",
    "        3, 83, 43, 86, 95, 21,  3, 64, 20, 97, 47, 15, 78, 20, 80, 75, 31,\n",
    "       11, 24, 54, 53, 42, 44,  8,  1, 74, 47, 63,  5, 34, 89, 72, 95, 17,\n",
    "       69, 67, 57, 42,  2, 81, 67, 41, 14, 25, 74, 59, 78,  1, 75, 15,  7,\n",
    "       70, 68, 36, 60, 46, 81,  2, 34, 39, 71, 42, 30, 48, 26, 86])\n",
    "f = MovingAverageFilter(10)\n",
    "avg = f(a[0])\n",
    "assert np.isclose(avg, a[0])\n",
    "assert np.isclose(avg, f.value)\n",
    "\n",
    "for x in a[1:]:\n",
    "    avg = f(x)\n",
    "    assert np.isclose(avg, f.value)\n",
    "\n",
    "assert np.isclose(avg, 45.9)\n",
    "assert np.isclose(avg, f.value)"
   ]
  },
  {
   "cell_type": "markdown",
   "id": "6438e5f1-7eb4-483c-8572-a32543ab348d",
   "metadata": {},
   "source": [
    "## Pixel Features"
   ]
  },
  {
   "cell_type": "code",
   "execution_count": 22,
   "id": "7f5094ec-ad1a-448a-b80d-affd9212524a",
   "metadata": {},
   "outputs": [],
   "source": [
    "rng_for_pixel_features = np.random.default_rng(HP_PIXEL_FEATURES_RANDOM_SEED)"
   ]
  },
  {
   "cell_type": "code",
   "execution_count": 23,
   "id": "1eedf20d-039e-46a5-bfec-93f84fa2e863",
   "metadata": {},
   "outputs": [],
   "source": [
    "class PixelFeature:\n",
    "    def __init__(self, x, y, radius, bitmap_mask, dist_mask):\n",
    "        self.x = x\n",
    "        self.y = y\n",
    "        self.radius = radius\n",
    "        self.bitmap_mask = bitmap_mask\n",
    "        self.dist_mask = dist_mask\n",
    "        self.sbv = None"
   ]
  },
  {
   "cell_type": "code",
   "execution_count": 24,
   "id": "49aed96f-3cec-4f3f-9152-537a004d3931",
   "metadata": {},
   "outputs": [
    {
     "data": {
      "image/png": "[encoded data removed]",
      "text/plain": [
       "<Figure size 1600x480 with 4 Axes>"
      ]
     },
     "metadata": {},
     "output_type": "display_data"
    }
   ],
   "source": [
    "radius_to_pattern = {}\n",
    "radius_to_dist_pattern = {} # config.sample_size if pixel if out of pattern, otherwise distance to center (within center distance = 0)\n",
    "\n",
    "# for r in [3, 1]:\n",
    "# for r in [5]:\n",
    "# for r in [3]:\n",
    "for r in [2]:\n",
    "# for r in [1]:\n",
    "    if r in [1, 2]:\n",
    "        canvas = Image.new('1', size=(r * 2 + 1, r * 2 + 1), color='white')\n",
    "    else:\n",
    "        canvas = Image.new('1', size=(r * 2 + 1, r * 2 + 1), color='black')\n",
    "        draw = ImageDraw.Draw(canvas)\n",
    "        draw.circle([r, r], radius=r, outline='white', fill='white')\n",
    "\n",
    "    pattern = np.array(canvas, dtype='f')\n",
    "    radius_to_pattern[r] = pattern\n",
    "\n",
    "    dist_pattern = np.zeros_like(pattern, dtype='f')\n",
    "    \n",
    "    for i in range(pattern.shape[0]):\n",
    "        for j in range(pattern.shape[1]):\n",
    "            dist = config.sample_size\n",
    "            \n",
    "            if pattern[i,j] != 0:\n",
    "                vec = np.array([i - r, j - r])\n",
    "                dist = np.linalg.norm(vec)\n",
    "                assert dist < config.sample_size\n",
    "\n",
    "            dist_pattern[i,j] = dist\n",
    "    \n",
    "    radius_to_dist_pattern[r] = dist_pattern\n",
    "\n",
    "r = max(radius_to_pattern.keys())\n",
    "\n",
    "fig, (ax1, ax2) = plt.subplots(1, 2)\n",
    "fig.set_figwidth(16)\n",
    "im = ax1.imshow(radius_to_pattern[r])\n",
    "fig.colorbar(im, ax=ax1);\n",
    "im = ax2.imshow(np.where(radius_to_dist_pattern[r] < config.sample_size, radius_to_dist_pattern[r], np.inf))\n",
    "fig.colorbar(im, ax=ax2);"
   ]
  },
  {
   "cell_type": "code",
   "execution_count": 25,
   "id": "d09730cf-4810-434b-a64e-5b3cc1932f71",
   "metadata": {},
   "outputs": [],
   "source": [
    "# n = 50_000\n",
    "# xs = rng_for_pixel_features.integers(0, config.sample_size, size=n)\n",
    "# ys = rng_for_pixel_features.integers(0, config.sample_size, size=n)\n",
    "# radii = rng_for_pixel_features.choice(list(radius_to_pattern.keys()), size=n)\n",
    "# xy_list = np.vstack([xs, ys]).T\n",
    "# assert np.all(np.all((xy_list >= 0) & (xy_list < config.sample_size), axis=1))\n",
    "# bitmap_padding = 0\n",
    "# bitmap = np.zeros((config.sample_size + bitmap_padding * 2, config.sample_size + bitmap_padding * 2))\n",
    "# pixel_features = []\n",
    "\n",
    "# for xy, radius in zip(xy_list, radii):\n",
    "#     pattern = radius_to_pattern[radius]\n",
    "#     i0, j0 = bitmap_padding, bitmap_padding\n",
    "#     i = i0 + xy[1]\n",
    "#     j = j0 + xy[0]\n",
    "#     i_lo = i - radius\n",
    "#     i_hi = i + radius + 1\n",
    "#     j_lo = j - radius\n",
    "#     j_hi = j + radius + 1\n",
    "    \n",
    "#     if i_lo < 0 or j_lo < 0 or i_hi > config.sample_size or j_hi > config.sample_size:\n",
    "#         continue\n",
    "    \n",
    "#     merge_site = bitmap[i_lo:i_hi,j_lo:j_hi]\n",
    "#     merge_site_mask = np.where(merge_site != 0, 1, 0)\n",
    "#     assert pattern.shape == merge_site.shape\n",
    "#     overlap_ratio = np.where(pattern != 0, merge_site_mask, 0).sum() / pattern.sum()\n",
    "\n",
    "#     # if overlap_ratio > 0.75:\n",
    "#     # if overlap_ratio > 0.5:\n",
    "#     # if overlap_ratio > 0.35:\n",
    "#     if overlap_ratio > 0.25:\n",
    "#     # if overlap_ratio > 0.0:\n",
    "#         continue\n",
    "    \n",
    "#     # merge_site = np.where(pattern != 0, radius, merge_site)\n",
    "#     merge_site = merge_site + pattern\n",
    "#     bitmap[i-radius:i+radius+1,j-radius:j+radius+1] = merge_site\n",
    "#     pixel_feature_bitmap_mask = np.zeros_like(bitmap, dtype='f')\n",
    "#     pixel_feature_bitmap_mask[i_lo:i_hi,j_lo:j_hi] = pattern\n",
    "#     pixel_feature_bitmap_mask = pixel_feature_bitmap_mask[bitmap_padding:bitmap_padding+config.sample_size, bitmap_padding:bitmap_padding+config.sample_size]\n",
    "#     pixel_feature_dist_mask = np.full_like(bitmap, config.sample_size, dtype='f')\n",
    "#     pixel_feature_dist_mask[i_lo:i_hi,j_lo:j_hi] = radius_to_dist_pattern[radius]\n",
    "#     pixel_feature = PixelFeature(x=int(xy[0]), y=int(xy[1]), radius=radius, bitmap_mask=pixel_feature_bitmap_mask.ravel(), dist_mask=pixel_feature_dist_mask.ravel())\n",
    "#     pixel_features.append(pixel_feature)\n",
    "\n",
    "#     if len(pixel_features) >= HP_PIXEL_FEATURES_COUNT:\n",
    "#         break\n",
    "    \n",
    "# bitmap = bitmap[bitmap_padding:bitmap_padding+config.sample_size, bitmap_padding:bitmap_padding+config.sample_size]\n",
    "\n",
    "# fig, (ax1, ax2) = plt.subplots(1, 2)\n",
    "# fig.set_figwidth(18)\n",
    "\n",
    "# ax1.set_title(f'Pixel-Features Count={len(pixel_features)}, non-covered area={(bitmap == 0).sum() / (bitmap.shape[0] ** 2) * 100:.1f}%')\n",
    "# im = ax1.imshow(bitmap, cmap='turbo')\n",
    "# fig.colorbar(im, ax=ax1);\n",
    "\n",
    "# random_pixel_feature_ind = rng_for_pixel_features.choice(len(pixel_features))\n",
    "# ax2.set_title(f'Bitmap Mask of Pixel-Feature #{random_pixel_feature_ind}')\n",
    "# im = ax2.imshow(vec_to_square_matrix(pixel_features[random_pixel_feature_ind].bitmap_mask), cmap='bwr')"
   ]
  },
  {
   "cell_type": "code",
   "execution_count": 26,
   "id": "b544b69e-3d29-4906-a9f9-1953657069e8",
   "metadata": {},
   "outputs": [
    {
     "data": {
      "image/png": "[encoded data removed]",
      "text/plain": [
       "<Figure size 1800x480 with 3 Axes>"
      ]
     },
     "metadata": {},
     "output_type": "display_data"
    }
   ],
   "source": [
    "radius = max(radius_to_pattern.keys())\n",
    "\n",
    "mgrid = np.mgrid[0:config.sample_size, 0:config.sample_size]\n",
    "xs = mgrid[0].ravel()\n",
    "ys = mgrid[1].ravel()\n",
    "xy_list = np.vstack([xs, ys]).T\n",
    "assert np.all(np.all((xy_list >= 0) & (xy_list < config.sample_size), axis=1))\n",
    "\n",
    "bitmap_padding = 0\n",
    "bitmap = np.zeros((config.sample_size + bitmap_padding * 2, config.sample_size + bitmap_padding * 2))\n",
    "pixel_features = []\n",
    "\n",
    "# for overlap in [0, 0.25, 0.5]:\n",
    "for overlap in [0]:\n",
    "    for xy in xy_list:\n",
    "        if len(pixel_features) >= HP_PIXEL_FEATURES_COUNT:\n",
    "            break\n",
    "            \n",
    "        if bitmap[xy[1], xy[0]] != 0:\n",
    "            continue\n",
    "\n",
    "        pattern = radius_to_pattern[radius]\n",
    "        i0, j0 = bitmap_padding, bitmap_padding\n",
    "        i = i0 + xy[1]\n",
    "        j = j0 + xy[0]\n",
    "        i_lo = i - radius\n",
    "        i_hi = i + radius + 1\n",
    "        j_lo = j - radius\n",
    "        j_hi = j + radius + 1\n",
    "        \n",
    "        if i_lo < 0 or j_lo < 0 or i_hi > config.sample_size or j_hi > config.sample_size:\n",
    "            continue\n",
    "        \n",
    "        merge_site = bitmap[i_lo:i_hi,j_lo:j_hi]\n",
    "        merge_site_mask = np.where(merge_site != 0, 1, 0)\n",
    "        assert pattern.shape == merge_site.shape\n",
    "        overlap_ratio = np.where(pattern != 0, merge_site_mask, 0).sum() / pattern.sum()\n",
    "    \n",
    "        if overlap_ratio > overlap:\n",
    "            continue\n",
    "        \n",
    "        merge_site = merge_site + pattern\n",
    "        bitmap[i-radius:i+radius+1,j-radius:j+radius+1] = merge_site\n",
    "        pixel_feature_bitmap_mask = np.zeros_like(bitmap, dtype='f')\n",
    "        pixel_feature_bitmap_mask[i_lo:i_hi,j_lo:j_hi] = pattern\n",
    "        pixel_feature_bitmap_mask = pixel_feature_bitmap_mask[bitmap_padding:bitmap_padding+config.sample_size, bitmap_padding:bitmap_padding+config.sample_size]\n",
    "        pixel_feature_dist_mask = np.full_like(bitmap, config.sample_size, dtype='f')\n",
    "        pixel_feature_dist_mask[i_lo:i_hi,j_lo:j_hi] = radius_to_dist_pattern[radius]\n",
    "        pixel_feature = PixelFeature(x=int(xy[0]), y=int(xy[1]), radius=radius, bitmap_mask=pixel_feature_bitmap_mask.ravel(), dist_mask=pixel_feature_dist_mask.ravel())\n",
    "        pixel_features.append(pixel_feature)\n",
    "    \n",
    "bitmap = bitmap[bitmap_padding:bitmap_padding+config.sample_size, bitmap_padding:bitmap_padding+config.sample_size]\n",
    "\n",
    "fig, (ax1, ax2) = plt.subplots(1, 2)\n",
    "fig.set_figwidth(18)\n",
    "\n",
    "ax1.set_title(f'Pixel-Features Count={len(pixel_features)}, non-covered area={(bitmap == 0).sum() / (bitmap.shape[0] ** 2) * 100:.1f}%')\n",
    "im = ax1.imshow(bitmap, cmap='turbo')\n",
    "fig.colorbar(im, ax=ax1);\n",
    "\n",
    "random_pixel_feature_ind = rng_for_pixel_features.choice(len(pixel_features))\n",
    "ax2.set_title(f'Bitmap Mask of Pixel-Feature #{random_pixel_feature_ind}')\n",
    "im = ax2.imshow(vec_to_square_matrix(pixel_features[random_pixel_feature_ind].bitmap_mask), cmap='bwr')"
   ]
  },
  {
   "cell_type": "code",
   "execution_count": 27,
   "id": "b1a43c52-4006-4a8e-a97d-507ee8f69ef7",
   "metadata": {},
   "outputs": [
    {
     "name": "stdout",
     "output_type": "stream",
     "text": [
      "Loaded 3117 pixel features\n",
      "Linked 625 pixel features\n"
     ]
    }
   ],
   "source": [
    "df_pixel_features = pd.read_sql('SELECT x, y, radius, nzb FROM features WHERE encoding=:encoding AND type=:type', \n",
    "                                params={'encoding': HP_SIGNAL_ENCODING, 'type': 'pixel'}, con=transfs_db_con)\n",
    "db_pixel_features_dict = dict(map(lambda p: ((p.x, p.y, p.radius), nzb_to_sbv(pickle.loads(p.nzb), HP_SIGNAL_VEC_LEN)), df_pixel_features.itertuples()))\n",
    "unique_sbv_keys = set(map(lambda sbv: tuple(sorted(map(int, np.flatnonzero(sbv)))), db_pixel_features_dict.values()))\n",
    "assert len(unique_sbv_keys) == len(db_pixel_features_dict)\n",
    "print(f'Loaded {len(unique_sbv_keys)} pixel features')\n",
    "new_pixel_features = []\n",
    "linked_count = 0\n",
    "\n",
    "for pf in pixel_features:\n",
    "    key = (pf.x, pf.y, pf.radius)\n",
    "\n",
    "    if key in db_pixel_features_dict:\n",
    "        pf.sbv = db_pixel_features_dict[key]\n",
    "        linked_count += 1\n",
    "        continue\n",
    "        \n",
    "    attempts_to_generate_unique_sbv = 10\n",
    "    sbv = np.zeros(HP_SIGNAL_VEC_LEN, dtype='f')\n",
    "\n",
    "    for _ in range(attempts_to_generate_unique_sbv):\n",
    "        ii = RNG.choice(HP_SIGNAL_VEC_LEN, HP_SIGNAL_VEC_NON_ZERO_BITS, replace=False)\n",
    "        sbv_key = tuple(sorted(ii))\n",
    "\n",
    "        if not sbv_key in unique_sbv_keys:\n",
    "            sbv[ii] = 1\n",
    "            unique_sbv_keys.add(sbv_key)\n",
    "            break\n",
    "    else:\n",
    "        assert False, f'Failed to get unique SBV for pixel feature within {attempts_to_generate_unique_sbv} attempts'\n",
    "\n",
    "    new_pixel_features.append(pf)\n",
    "    pf.sbv = sbv\n",
    "\n",
    "print(f'Linked {linked_count} pixel features')\n",
    "\n",
    "if new_pixel_features:\n",
    "    transfs_db_con.autocommit = False\n",
    "    \n",
    "    for pf in tqdm(new_pixel_features, desc='Persiting'):\n",
    "        transfs_db_con.execute('INSERT INTO features(encoding, type, x, y, radius, bitmap_mask_nzb, nzb) VALUES (:encoding, :type, :x, :y, :radius, :bitmap_mask_nzb, :nzb)',\n",
    "                               {\n",
    "                                   'encoding': HP_SIGNAL_ENCODING, \n",
    "                                   'type': 'pixel', \n",
    "                                   'x': pf.x, \n",
    "                                   'y': pf.y, \n",
    "                                   'radius': pf.radius, \n",
    "                                   'bitmap_mask_nzb': pickle.dumps(sbv_to_nzb(pf.bitmap_mask)),\n",
    "                                   'nzb': pickle.dumps(sbv_to_nzb(pf.sbv))\n",
    "                               })\n",
    "\n",
    "    transfs_db_con.autocommit = True\n",
    "    print(f'Created and persisted {len(new_pixel_features)} new pixel features')\n",
    "\n",
    "PIXEL_FEATURE_SBVS = np.array(list(map(lambda pf: pf.sbv, pixel_features)))\n",
    "PIXEL_FEATURE_BITMAP_MASKS = np.array(list(map(lambda pf: pf.bitmap_mask, pixel_features)))\n",
    "PIXEL_FEATURE_DIST_MASKS = np.array(list(map(lambda pf: pf.dist_mask, pixel_features)))\n",
    "PIXEL_FEATURE_XY_ARRAY = np.array(list(map(lambda pf: (pf.x, pf.y), pixel_features)))"
   ]
  },
  {
   "cell_type": "code",
   "execution_count": 28,
   "id": "b832999d-38af-4cc2-8bb3-de740eabb24b",
   "metadata": {},
   "outputs": [
    {
     "data": {
      "application/vnd.jupyter.widget-view+json": {
       "model_id": "dc46f5a0e1ba4891acc5be31258bb113",
       "version_major": 2,
       "version_minor": 0
      },
      "text/plain": [
       "  0%|          | 0/2000 [00:00<?, ?it/s]"
      ]
     },
     "metadata": {},
     "output_type": "display_data"
    }
   ],
   "source": [
    "df_train_images_ = df_train_images.head(2000)\n",
    "# df_train_images_ = df_train_images\n",
    "gpu_pixel_feature_bitmap_masks = xp_array_to_gpu(PIXEL_FEATURE_BITMAP_MASKS)\n",
    "PIXEL_FEATURE_FREQS = np.zeros(PIXEL_FEATURE_SBVS.shape[0], dtype='i')\n",
    "\n",
    "for image in tqdm(df_train_images_.itertuples(), total=len(df_train_images_)):\n",
    "    sequences = pickle.loads(image.inner_sequences)\n",
    "    si_ind_dict = pickle.loads(image.inner_si_ind_dict)\n",
    "    xy_list_full = get_xy_sequence(get_sequence(sequences), si_ind_dict)\n",
    "    ohe_vec = xy_list_to_ohe_vec(xy_list_full)\n",
    "    ohe_vec = xp_array_to_gpu(ohe_vec)\n",
    "    pixel_feature_inds = np.flatnonzero(gpu_pixel_feature_bitmap_masks @ ohe_vec)\n",
    "    pixel_feature_inds = xp_array_from_gpu(pixel_feature_inds)\n",
    "    PIXEL_FEATURE_FREQS[pixel_feature_inds] += 1\n",
    "\n",
    "ACTIVE_PIXEL_FEATURES_COUNT = np.count_nonzero(PIXEL_FEATURE_FREQS)"
   ]
  },
  {
   "cell_type": "code",
   "execution_count": 29,
   "id": "db7ee713-4923-4b05-a16a-9a9266f5a9f6",
   "metadata": {},
   "outputs": [
    {
     "data": {
      "image/png": "[encoded data removed]",
      "text/plain": [
       "<Figure size 1800x480 with 3 Axes>"
      ]
     },
     "metadata": {},
     "output_type": "display_data"
    }
   ],
   "source": [
    "bitmap = np.zeros((config.sample_size, config.sample_size), dtype='i')\n",
    "assert PIXEL_FEATURE_BITMAP_MASKS.shape[0] == PIXEL_FEATURE_FREQS.shape[0]\n",
    "\n",
    "for mask, freq in zip(xp_array_from_gpu(PIXEL_FEATURE_BITMAP_MASKS), PIXEL_FEATURE_FREQS):\n",
    "    mask_with_freq = np.where(mask, freq, 0)\n",
    "    bitmap += mask_with_freq.reshape(bitmap.shape)\n",
    "\n",
    "fig, (ax1, ax2) = plt.subplots(1, 2)\n",
    "fig.set_figwidth(18)\n",
    "\n",
    "ax1.set_title(f'Frequency Map of Pixel Features')\n",
    "im = ax1.imshow(bitmap, cmap='turbo')\n",
    "fig.colorbar(im, ax=ax1)\n",
    "\n",
    "pixel_feature_freqs_sorted_desc = -np.sort(-PIXEL_FEATURE_FREQS)\n",
    "percentile = 1\n",
    "ind = int(np.count_nonzero(pixel_feature_freqs_sorted_desc) * percentile)\n",
    "freq_thres = pixel_feature_freqs_sorted_desc[ind-1]\n",
    "# bitmap2 = np.where(bitmap, 1, 0)\n",
    "bitmap2 = np.where(PIXEL_FEATURE_BITMAP_MASKS[(PIXEL_FEATURE_FREQS >= freq_thres)].sum(axis=0), 1, 0)\n",
    "# bitmap2 = xp_array_from_gpu(bitmap2)\n",
    "bitmap2 = vec_to_square_matrix(bitmap2)\n",
    "# a = (PIXEL_FEATURE_FREQS > 0).sum()\n",
    "a = (PIXEL_FEATURE_FREQS >= freq_thres).sum()\n",
    "b = PIXEL_FEATURE_BITMAP_MASKS.shape[0]\n",
    "ax2.set_title(f'Binary Frequency Map of Pixel Features, {a} / {b} ({a / b * 100:.1f}%), freq_thres={freq_thres}')\n",
    "ax2.imshow(bitmap2);"
   ]
  },
  {
   "cell_type": "markdown",
   "id": "ad92bf7c-ae67-4312-900a-adb12769a5e7",
   "metadata": {},
   "source": [
    "## Transformations"
   ]
  },
  {
   "cell_type": "code",
   "execution_count": 30,
   "id": "4287bb50-b460-4bdd-8d19-322e30669418",
   "metadata": {},
   "outputs": [],
   "source": [
    "def get_rotate_transf(deg):\n",
    "    half_sz = config.sample_size / 2\n",
    "    move_to_ooc_transf = np.array([\n",
    "        [1, 0, -half_sz],\n",
    "        [0, 1, -half_sz],\n",
    "        [0, 0, 1]])\n",
    "    theta = np.deg2rad(deg)\n",
    "    cos_theta = math.cos(theta)\n",
    "    sin_theta = math.sin(theta)\n",
    "    rotate_transf = np.array([\n",
    "        [cos_theta, -sin_theta, 0],\n",
    "        [sin_theta, cos_theta, 0],\n",
    "        [0, 0, 1]\n",
    "    ])\n",
    "    move_to_target_loc_transf = np.array([\n",
    "        [1, 0, half_sz],\n",
    "        [0, 1, half_sz],\n",
    "        [0, 0, 1]])\n",
    "    return move_to_target_loc_transf @ rotate_transf @ move_to_ooc_transf\n",
    "\n",
    "def get_offset_transf(dx=0, dy=0):\n",
    "    return np.array([\n",
    "        [1, 0, dx],\n",
    "        [0, 1, dy],\n",
    "        [0, 0, 1]])"
   ]
  },
  {
   "cell_type": "code",
   "execution_count": 31,
   "id": "d53d9c0e-7546-4979-a953-0b8f46f1ce48",
   "metadata": {},
   "outputs": [],
   "source": [
    "transfs = {\n",
    "    'offset_10_0': get_offset_transf(10, 0),\n",
    "    'offset_1_0': get_offset_transf(1, 0),\n",
    "    'offset_-1_0': get_offset_transf(-1, 0),\n",
    "    'offset_0_1': get_offset_transf(0, 1),\n",
    "    'offset_1_1': get_offset_transf(1, 1),\n",
    "    'offset_5_0': get_offset_transf(5, 0),\n",
    "    'rotate_45': get_rotate_transf(45),\n",
    "    'rotate_90': get_rotate_transf(90),\n",
    "}\n",
    "TRANSF_CODE = 'rotate_45'\n",
    "TRANSF = transfs[TRANSF_CODE]"
   ]
  },
  {
   "cell_type": "markdown",
   "id": "61d38b52-00d2-4c2b-9e59-ab1e62f83ec5",
   "metadata": {},
   "source": [
    "## XY List <-> Pixel Features"
   ]
  },
  {
   "cell_type": "code",
   "execution_count": 32,
   "id": "3f8469ab-48b7-462b-864b-274b9e91b1b7",
   "metadata": {},
   "outputs": [],
   "source": [
    "def xy_list_to_pixel_feature_inds(xy_list):\n",
    "    ohe_vec = xy_list_to_ohe_vec(xy_list)\n",
    "    # ohe_vec = xp_array_to_gpu(ohe_vec)\n",
    "    inds = np.flatnonzero(PIXEL_FEATURE_BITMAP_MASKS @ ohe_vec)\n",
    "    # return xp_array_from_gpu(inds)\n",
    "    return inds\n",
    "\n",
    "def xy_list_to_nearest_pixel_feature_inds(xy_list):\n",
    "    valid_boolmap = np.all(((xy_list >= 0) & (xy_list < config.sample_size)), axis=1)\n",
    "    xy_list = xy_list[valid_boolmap]\n",
    "    inds = xy_list @ np.array([1, config.sample_size])\n",
    "    vecs = np.zeros((inds.shape[0], config.sample_size ** 2), dtype='f')\n",
    "\n",
    "    for i, j in enumerate(inds):\n",
    "        vecs[i,j] = 1\n",
    "\n",
    "    # compute matrix where rows correspond to xy pairs and columns correspond to pixel features\n",
    "    # value in cell [i,j] == dist_from_xy[i]_to_center_of_pixel_feature[j]\n",
    "    mat = vecs @ PIXEL_FEATURE_DIST_MASKS.T\n",
    "    # for each xy get index of pixel feature which has minimal distance to center of pixel feature\n",
    "    t = np.argmin(mat, axis=1)\n",
    "    # if row consists of dists which exceed config.sample_size then np.argmin has no sense for such row (it means that there is no match with any pixel feature),\n",
    "    # as such - exclude such row from consideration\n",
    "    rows_with_good_values_boolmap = np.any(mat < config.sample_size, axis=1)\n",
    "    t = t[rows_with_good_values_boolmap]\n",
    "    return np.unique(t)"
   ]
  },
  {
   "cell_type": "markdown",
   "id": "de4fc099-261c-469e-b3f7-e52868634935",
   "metadata": {},
   "source": [
    "## Signals Generator"
   ]
  },
  {
   "cell_type": "code",
   "execution_count": 33,
   "id": "b5c7f3ec-4599-4d2b-8031-44ef454ee41f",
   "metadata": {},
   "outputs": [],
   "source": [
    "SignalsGeneratorResult = namedtuple('SignalsGeneratorResult', \n",
    "                                    ['signals_input', 'signals_output', # SBV\n",
    "                                     'signal_ids', \n",
    "                                     'signal_xy_lists_input', 'signal_xy_lists_output', \n",
    "                                     'xy_list_full'])\n",
    "DummySignalsGeneratorResult = lambda: SignalsGeneratorResult([], [], [], [], [], [])"
   ]
  },
  {
   "cell_type": "markdown",
   "id": "cb595d40-bf06-496a-8f56-71d64b706724",
   "metadata": {},
   "source": [
    "### RealImageSignalsGenerator"
   ]
  },
  {
   "cell_type": "code",
   "execution_count": 34,
   "id": "7658b6e8-c858-46ea-b72f-572c22e14e74",
   "metadata": {},
   "outputs": [],
   "source": [
    "# For each image generate number of signals (image_variants_count) by randomly select of si_ind and convert this si_ind to pixel features\n",
    "class RealImageSignalsGenerator:\n",
    "    def __init__(self, transf, signals_count, image_variants_count, logger=lambda m: True):\n",
    "        self.transf = transf\n",
    "        self.signals_count = signals_count\n",
    "        assert image_variants_count > 0\n",
    "        self.image_variants_count = image_variants_count\n",
    "\n",
    "        self.image_id = -1\n",
    "        self.image_variants_count_for_image_id = 0\n",
    "        self.image_variants_generated = 0\n",
    "        self.xy_list_full = []\n",
    "        self.xy_list_inds_count = -1\n",
    "        \n",
    "    def __call__(self):\n",
    "        signals_input = []\n",
    "        signals_output = []\n",
    "        signal_ids = []\n",
    "        signal_xy_lists_input = []\n",
    "        signal_xy_lists_output = []\n",
    "\n",
    "        while len(signals_input) < self.signals_count:\n",
    "            if self.image_id == -1 or self.image_variants_generated >= self.image_variants_count_for_image_id:\n",
    "                # the very first call or variants of current image are exhausted, switch to next image\n",
    "                self.image_id = int(RNG.choice(df_train_images.index))\n",
    "                self.image_variants_generated = 0\n",
    "                image = df_train_images.loc[self.image_id]\n",
    "                # pickle.loads consumes almost 50% of the time of execution of generate() :=(\n",
    "                sequences = pickle.loads(image.inner_sequences)\n",
    "                si_ind_dict = pickle.loads(image.inner_si_ind_dict)\n",
    "                xy_list_full = get_xy_sequence(get_sequence(sequences), si_ind_dict)\n",
    "                self.xy_list_full = xy_list_full\n",
    "                \n",
    "                xy_list_inds_count = min(xy_list_full.shape[0], HP_SIGNAL_VEC_FEATURES_COUNT)\n",
    "                xy_list_combinations_count = math.comb(xy_list_full.shape[0], xy_list_inds_count)\n",
    "\n",
    "                if xy_list_combinations_count >= self.image_variants_count:\n",
    "                    self.xy_list_inds_count = xy_list_inds_count\n",
    "                    self.image_variants_count_for_image_id = self.image_variants_count\n",
    "                else:\n",
    "                    assert xy_list_inds_count > 0\n",
    "                    xy_list_inds_count_to_combinations_count = Counter()\n",
    "                \n",
    "                    for inds_count in range(xy_list_inds_count, 0, -1):\n",
    "                        xy_list_inds_count_to_combinations_count[inds_count] = math.comb(xy_list_full.shape[0], inds_count)\n",
    "\n",
    "                    xy_list_inds_count_with_most_variants = xy_list_inds_count_to_combinations_count.most_common(1)[0]\n",
    "                    self.xy_list_inds_count = xy_list_inds_count_with_most_variants[0]\n",
    "                    self.image_variants_count_for_image_id = min(self.image_variants_count, xy_list_inds_count_with_most_variants[1])\n",
    "            \n",
    "                self.xy_list_inds_count > 0\n",
    "                self.xy_list_inds_count <= self.xy_list_full.shape[0]\n",
    "                assert self.image_variants_count_for_image_id > 0, self.image_variants_count_for_image_id\n",
    "                assert self.image_variants_count_for_image_id <= self.image_variants_count, self.image_variants_count_for_image_id\n",
    "\n",
    "            xy_list_inds = RNG.choice(self.xy_list_full.shape[0], self.xy_list_inds_count, replace=False)\n",
    "            xy_list_origin = self.xy_list_full[xy_list_inds]\n",
    "            ###\n",
    "            xy_list_origin = PIXEL_FEATURE_XY_ARRAY[xy_list_to_pixel_feature_inds(xy_list_origin)]\n",
    "            ###\n",
    "            xy_list_transf = np.hstack([xy_list_origin, np.ones(xy_list_origin.shape[0])[:,np.newaxis]]) # make homogeneous coords\n",
    "            xy_list_transf = (self.transf @ xy_list_transf.T).T[:,:2]\n",
    "            xy_list_transf = np.round(xy_list_transf, decimals=0).astype(int)\n",
    "            xy_list_origin_sbv = bundle_sbvs(PIXEL_FEATURE_SBVS[xy_list_to_pixel_feature_inds(xy_list_origin)])\n",
    "            xy_list_transf_sbv = bundle_sbvs(PIXEL_FEATURE_SBVS[xy_list_to_pixel_feature_inds(xy_list_transf)])\n",
    "            assert xy_list_origin_sbv.shape[0] == HP_SIGNAL_VEC_LEN\n",
    "            assert xy_list_transf_sbv.shape[0] == HP_SIGNAL_VEC_LEN\n",
    "            \n",
    "            self.image_variants_generated += 1\n",
    "            signals_input.append(xy_list_origin_sbv)\n",
    "            signals_output.append(xy_list_transf_sbv)\n",
    "            signal_ids.append((self.image_id, tuple(map(int, sorted(xy_list_inds)))))\n",
    "            signal_xy_lists_input.append(xy_list_origin)\n",
    "            signal_xy_lists_output.append(xy_list_transf)\n",
    "\n",
    "        assert len(signals_input) == len(signals_output)\n",
    "        assert len(signals_input) == len(signal_ids)\n",
    "        assert len(signals_input) == len(signal_xy_lists_input)\n",
    "        assert len(signals_input) == len(signal_xy_lists_output)\n",
    "        return SignalsGeneratorResult(signals_input=np.vstack(signals_input), \n",
    "                                      signals_output=np.vstack(signals_output), \n",
    "                                      signal_ids=signal_ids,\n",
    "                                      signal_xy_lists_input=signal_xy_lists_input,\n",
    "                                      signal_xy_lists_output=signal_xy_lists_output,\n",
    "                                      xy_list_full=self.xy_list_full)\n",
    "\n",
    "    def switch(self):\n",
    "        pass"
   ]
  },
  {
   "cell_type": "code",
   "execution_count": 35,
   "id": "2b0e17c6-76e4-468c-aef6-0ab313fd94f3",
   "metadata": {},
   "outputs": [],
   "source": [
    "generator = RealImageSignalsGenerator(TRANSF, 100, 10)"
   ]
  },
  {
   "cell_type": "code",
   "execution_count": 36,
   "id": "f43d9bc0-6bba-430b-b426-d0c9e67ea094",
   "metadata": {},
   "outputs": [
    {
     "name": "stdout",
     "output_type": "stream",
     "text": [
      "CPU times: user 7.27 s, sys: 11.1 ms, total: 7.28 s\n",
      "Wall time: 116 ms\n"
     ]
    }
   ],
   "source": [
    "%%time\n",
    "sgr = generator()\n",
    "signal_ind = 0"
   ]
  },
  {
   "cell_type": "code",
   "execution_count": 37,
   "id": "72a4b162-f21a-4183-a1cf-d871c15b7e04",
   "metadata": {},
   "outputs": [
    {
     "data": {
      "image/png": "[encoded data removed]",
      "text/plain": [
       "<Figure size 1600x480 with 3 Axes>"
      ]
     },
     "metadata": {},
     "output_type": "display_data"
    }
   ],
   "source": [
    "# signal_ind = RNG.choice(len(sgr.signals_output))\n",
    "# signal_ind = 19\n",
    "signal_ind = (signal_ind + 1) % len(sgr.signals_output)\n",
    "pixel_feature_inds = debundle_sbv(sgr.signals_output[signal_ind], PIXEL_FEATURE_SBVS, HP_SIGNAL_VEC_NON_ZERO_BITS)\n",
    "bm_output = PIXEL_FEATURE_BITMAP_MASKS[pixel_feature_inds].sum(axis=0)\n",
    "bm_output = xp_array_from_gpu(bm_output)\n",
    "    \n",
    "fig, (ax1, ax2, ax3) = plt.subplots(1, 3)\n",
    "fig.set_figwidth(16)\n",
    "ax1.set_title(f'Input #{signal_ind}: {sgr.signal_xy_lists_input[signal_ind].shape[0]} xy items')\n",
    "ax1.imshow(vec_to_square_matrix(xy_list_to_ohe_vec(sgr.signal_xy_lists_input[signal_ind])))\n",
    "ax2.set_title(f'Transformed: {sgr.signal_xy_lists_output[signal_ind].shape[0]} xy items')\n",
    "ax2.imshow(vec_to_square_matrix(xy_list_to_ohe_vec(sgr.signal_xy_lists_output[signal_ind])))\n",
    "ax3.set_title(f'Decoded from SBV: {np.count_nonzero(pixel_feature_inds)} pixel features')\n",
    "ax3.imshow(vec_to_square_matrix(bm_output));"
   ]
  },
  {
   "cell_type": "markdown",
   "id": "8584e695-2870-4f02-861c-3217675901f3",
   "metadata": {},
   "source": [
    "### FixedPixelFeatureSignalsGenerator"
   ]
  },
  {
   "cell_type": "code",
   "execution_count": 38,
   "id": "482b9dad-fc72-4610-b1b3-30d2d58f6617",
   "metadata": {},
   "outputs": [],
   "source": [
    "# one pixel feature is fixed for a number calls (fixation period) and remaining features are randomly picked according to their frequency\n",
    "class FixedPixelFeatureSignalsGenerator:\n",
    "    def __init__(self, transf, signals_count, fixation_period, logger=lambda m: True):\n",
    "        self.transf = transf\n",
    "        self.signals_count = signals_count\n",
    "        assert fixation_period > 0\n",
    "        self.fixation_period = fixation_period\n",
    "        self.fixation_countdown = self.fixation_period\n",
    "        self.fixed_pixel_feature_ind = -1\n",
    "        self.pixel_feature_inds_sorted_by_freq_desc = np.argsort(-PIXEL_FEATURE_FREQS)\n",
    "        # strip pixel features which have zero freqs, i.o.w. leave only those with nonzero\n",
    "        active_pixel_features_count = np.count_nonzero(PIXEL_FEATURE_FREQS)\n",
    "        assert active_pixel_features_count > 0\n",
    "        self.pixel_feature_inds_sorted_by_freq_desc = self.pixel_feature_inds_sorted_by_freq_desc[:active_pixel_features_count]\n",
    "        assert self.pixel_feature_inds_sorted_by_freq_desc.shape[0] == active_pixel_features_count\n",
    "        self.pixel_feature_inds = np.arange(PIXEL_FEATURE_SBVS.shape[0])\n",
    "        \n",
    "    def __call__(self):\n",
    "        signals_input = [] # SBV\n",
    "        signals_output = [] # SBV\n",
    "        signal_ids = []\n",
    "        signal_xy_lists_input = []\n",
    "        signal_xy_lists_output = []\n",
    "\n",
    "        while len(signals_input) < self.signals_count:\n",
    "            if self.fixed_pixel_feature_ind == -1 or self.fixation_countdown <= 0:\n",
    "                self.fixed_pixel_feature_ind = self.pixel_feature_inds_sorted_by_freq_desc[0]\n",
    "                self.pixel_feature_inds_sorted_by_freq_desc = np.roll(self.pixel_feature_inds_sorted_by_freq_desc, -1)\n",
    "                # temporarily ban fixed pixel feature from being picked up as a free one\n",
    "                self.free_pixel_feature_probs = PIXEL_FEATURE_FREQS[:].astype('f')\n",
    "                self.free_pixel_feature_probs[self.fixed_pixel_feature_ind] = 0\n",
    "                self.free_pixel_feature_probs /= self.free_pixel_feature_probs.sum()\n",
    "                self.fixation_countdown = self.fixation_period\n",
    "\n",
    "            assert self.fixed_pixel_feature_ind != -1\n",
    "            # pick up remaining pixel feature (via their probabilities) excluding fixed pixel feature\n",
    "            free_pixel_feature_inds = RNG.choice(self.pixel_feature_inds, HP_SIGNAL_VEC_FEATURES_COUNT-1, p=self.free_pixel_feature_probs, replace=False)\n",
    "            pixel_feature_inds_input = np.hstack([self.fixed_pixel_feature_ind, free_pixel_feature_inds])\n",
    "            assert pixel_feature_inds_input.shape[0] == HP_SIGNAL_VEC_FEATURES_COUNT\n",
    "\n",
    "            xy_list_input = PIXEL_FEATURE_XY_ARRAY[pixel_feature_inds_input]\n",
    "            xy_list_transf = np.hstack([xy_list_input, np.ones(xy_list_input.shape[0])[:,np.newaxis]]) # make homogeneous coords\n",
    "            xy_list_transf = (self.transf @ xy_list_transf.T).T[:,:2]\n",
    "            xy_list_transf = np.round(xy_list_transf, decimals=0).astype(int)\n",
    "            # pixel_feature_inds_output = xy_list_to_nearest_pixel_feature_inds(xy_list_transf) # must be used when there is overlap among pixel features\n",
    "            # pixel_feature_inds_output = xy_list_to_pixel_feature_inds(xy_list_transf) # can be used when there is no overlap among pixel features\n",
    "            pixel_feature_inds_output = xy_list_to_pixel_feature_inds(xy_list_transf) # can be used when there is no overlap among pixel features\n",
    "            xy_list_output = PIXEL_FEATURE_XY_ARRAY[pixel_feature_inds_output]\n",
    "            xy_list_input_sbv = bundle_sbvs(PIXEL_FEATURE_SBVS[pixel_feature_inds_input])\n",
    "            xy_list_output_sbv = bundle_sbvs(PIXEL_FEATURE_SBVS[pixel_feature_inds_output])\n",
    "            assert xy_list_input_sbv.shape[0] == HP_SIGNAL_VEC_LEN\n",
    "            assert xy_list_output_sbv.shape[0] == HP_SIGNAL_VEC_LEN\n",
    "            self.fixation_countdown -= 1\n",
    "            \n",
    "            signals_input.append(xy_list_input_sbv)\n",
    "            signals_output.append(xy_list_output_sbv)\n",
    "            signal_ids.append(tuple(map(int, sorted(pixel_feature_inds_input))))\n",
    "            signal_xy_lists_input.append(xy_list_input)\n",
    "            signal_xy_lists_output.append(xy_list_output)\n",
    "\n",
    "        assert len(signals_input) == len(signals_output)\n",
    "        assert len(signals_input) == len(signal_ids)\n",
    "        assert len(signals_input) == len(signal_xy_lists_input)\n",
    "        assert len(signals_input) == len(signal_xy_lists_output)\n",
    "        return SignalsGeneratorResult(signals_input=np.vstack(signals_input), \n",
    "                                      signals_output=np.vstack(signals_output),\n",
    "                                      signal_ids=signal_ids,\n",
    "                                      signal_xy_lists_input=signal_xy_lists_input,\n",
    "                                      signal_xy_lists_output=signal_xy_lists_output,\n",
    "                                      xy_list_full=[])\n",
    "\n",
    "    def switch(self):\n",
    "        pass"
   ]
  },
  {
   "cell_type": "code",
   "execution_count": 39,
   "id": "5fbf6b35-2f32-480d-b83a-e7c5b4e2f423",
   "metadata": {},
   "outputs": [],
   "source": [
    "generator = FixedPixelFeatureSignalsGenerator(TRANSF, 100, 10)"
   ]
  },
  {
   "cell_type": "code",
   "execution_count": 40,
   "id": "3092b3c0-a77d-45f9-b61a-9ae7490cba91",
   "metadata": {},
   "outputs": [
    {
     "name": "stdout",
     "output_type": "stream",
     "text": [
      "CPU times: user 4.05 s, sys: 2.25 ms, total: 4.05 s\n",
      "Wall time: 64.1 ms\n"
     ]
    }
   ],
   "source": [
    "%%time\n",
    "sgr = generator()\n",
    "signal_ind = 0"
   ]
  },
  {
   "cell_type": "code",
   "execution_count": 41,
   "id": "7ff48a2a-53f3-4de0-b904-3a25a9d6bc34",
   "metadata": {},
   "outputs": [
    {
     "data": {
      "image/png": "[encoded data removed]",
      "text/plain": [
       "<Figure size 1600x480 with 3 Axes>"
      ]
     },
     "metadata": {},
     "output_type": "display_data"
    }
   ],
   "source": [
    "# signal_ind = RNG.choice(len(sgr.signals_output))\n",
    "# signal_ind = 19\n",
    "signal_ind = (signal_ind + 1) % len(sgr.signals_output)\n",
    "pixel_feature_inds = debundle_sbv(sgr.signals_output[signal_ind], PIXEL_FEATURE_SBVS, HP_SIGNAL_VEC_NON_ZERO_BITS)\n",
    "bm_output = PIXEL_FEATURE_BITMAP_MASKS[pixel_feature_inds].sum(axis=0)\n",
    "bm_output = xp_array_from_gpu(bm_output)\n",
    "    \n",
    "fig, (ax1, ax2, ax3) = plt.subplots(1, 3)\n",
    "fig.set_figwidth(16)\n",
    "ax1.set_title(f'Input #{signal_ind}: {sgr.signal_xy_lists_input[signal_ind].shape[0]} xy items')\n",
    "t = xy_list_to_ohe_vec(sgr.signal_xy_lists_input[signal_ind])\n",
    "t[PIXEL_FEATURE_XY_ARRAY[generator.fixed_pixel_feature_ind] @ [1, config.sample_size]] = 2\n",
    "ax1.imshow(vec_to_square_matrix(t))\n",
    "ax2.set_title(f'Transformed: {sgr.signal_xy_lists_output[signal_ind].shape[0]} xy items')\n",
    "ax2.imshow(vec_to_square_matrix(xy_list_to_ohe_vec(sgr.signal_xy_lists_output[signal_ind])))\n",
    "ax3.set_title(f'Decoded from SBV: {np.count_nonzero(pixel_feature_inds)} pixel features')\n",
    "ax3.imshow(vec_to_square_matrix(bm_output));"
   ]
  },
  {
   "cell_type": "markdown",
   "id": "b6cdc2e5-a4e6-4020-83c8-70d9235c4c0b",
   "metadata": {},
   "source": [
    "### RollingPixelFeatureSignalsGenerator"
   ]
  },
  {
   "cell_type": "code",
   "execution_count": 42,
   "id": "9788b21c-d563-4cc7-9170-e671925bb04d",
   "metadata": {},
   "outputs": [],
   "source": [
    "# On every call specified number (fresh_count) of pixel features is replaced with a fresh ones\n",
    "class RollingPixelFeatureSignalsGenerator:\n",
    "    def __init__(self, transf, signals_count, fresh_count, logger=lambda m: True):\n",
    "        self.transf = transf\n",
    "        self.signals_count = signals_count\n",
    "        assert fresh_count > 0\n",
    "        self.fresh_count = fresh_count\n",
    "        self.pixel_feature_inds_fifo = np.array([])\n",
    "        self.pixel_feature_inds_set = set()\n",
    "        self.pixel_feature_probs = PIXEL_FEATURE_FREQS[:].astype('f')\n",
    "        self.pixel_feature_probs /= self.pixel_feature_probs.sum()\n",
    "        self.pixel_features_count = PIXEL_FEATURE_FREQS.shape[0]\n",
    "        \n",
    "    def __call__(self):\n",
    "        signals_input = [] # SBV\n",
    "        signals_output = [] # SBV\n",
    "        signal_ids = []\n",
    "        signal_xy_lists_input = []\n",
    "        signal_xy_lists_output = []\n",
    "\n",
    "        while len(signals_input) < self.signals_count:\n",
    "            if self.pixel_feature_inds_fifo.shape[0] == 0:\n",
    "                self.pixel_feature_inds_fifo = RNG.choice(self.pixel_features_count, HP_SIGNAL_VEC_FEATURES_COUNT, p=self.pixel_feature_probs, replace=False)\n",
    "                self.pixel_feature_inds_set = set(self.pixel_feature_inds_fifo)\n",
    "            else:\n",
    "                fresh_pixel_features_gathered = 0\n",
    "                \n",
    "                for _ in range(self.fresh_count):\n",
    "                    for _ in range(self.pixel_features_count):\n",
    "                        new_pixel_feature_ind = RNG.choice(self.pixel_features_count, p=self.pixel_feature_probs)\n",
    "\n",
    "                        if not new_pixel_feature_ind in self.pixel_feature_inds_set:\n",
    "                            self.pixel_feature_inds_fifo = np.hstack([self.pixel_feature_inds_fifo, new_pixel_feature_ind])\n",
    "                            self.pixel_feature_inds_set.add(new_pixel_feature_ind)\n",
    "                            fresh_pixel_features_gathered += 1\n",
    "                            break\n",
    "                    else:\n",
    "                        # failed to find new pixel feature ind which is not within self.pixel_feature_inds_fifo, =(\n",
    "                        # maybe next call will be more successful...\n",
    "                        pass\n",
    "\n",
    "                assert fresh_pixel_features_gathered >=0 and fresh_pixel_features_gathered <= self.fresh_count, fresh_pixel_features_gathered\n",
    "                removed_pixel_feature_inds = self.pixel_feature_inds_fifo[:fresh_pixel_features_gathered]\n",
    "                self.pixel_feature_inds_fifo = self.pixel_feature_inds_fifo[fresh_pixel_features_gathered:]\n",
    "                for ind in removed_pixel_feature_inds: self.pixel_feature_inds_set.remove(ind)\n",
    "\n",
    "            pixel_feature_inds_input = self.pixel_feature_inds_fifo\n",
    "            xy_list_input = PIXEL_FEATURE_XY_ARRAY[pixel_feature_inds_input]\n",
    "            xy_list_transf = np.hstack([xy_list_input, np.ones(xy_list_input.shape[0])[:,np.newaxis]]) # make homogeneous coords\n",
    "            xy_list_transf = (self.transf @ xy_list_transf.T).T[:,:2]\n",
    "            xy_list_transf = np.round(xy_list_transf, decimals=0).astype(int)\n",
    "            # pixel_feature_inds_output = xy_list_to_nearest_pixel_feature_inds(xy_list_transf) # must be used when there is overlap among pixel features\n",
    "            # pixel_feature_inds_output = xy_list_to_pixel_feature_inds(xy_list_transf) # can be used when there is no overlap among pixel features\n",
    "            pixel_feature_inds_output = xy_list_to_pixel_feature_inds(xy_list_transf) # can be used when there is no overlap among pixel features\n",
    "            xy_list_output = PIXEL_FEATURE_XY_ARRAY[pixel_feature_inds_output]\n",
    "            xy_list_input_sbv = bundle_sbvs(PIXEL_FEATURE_SBVS[pixel_feature_inds_input])\n",
    "            xy_list_output_sbv = bundle_sbvs(PIXEL_FEATURE_SBVS[pixel_feature_inds_output])\n",
    "            assert xy_list_input_sbv.shape[0] == HP_SIGNAL_VEC_LEN\n",
    "            assert xy_list_output_sbv.shape[0] == HP_SIGNAL_VEC_LEN\n",
    "            \n",
    "            signals_input.append(xy_list_input_sbv)\n",
    "            signals_output.append(xy_list_output_sbv)\n",
    "            signal_ids.append(tuple(map(int, sorted(pixel_feature_inds_input))))\n",
    "            signal_xy_lists_input.append(xy_list_input)\n",
    "            signal_xy_lists_output.append(xy_list_output)\n",
    "\n",
    "        assert len(signals_input) == len(signals_output)\n",
    "        assert len(signals_input) == len(signal_ids)\n",
    "        assert len(signals_input) == len(signal_xy_lists_input)\n",
    "        assert len(signals_input) == len(signal_xy_lists_output)\n",
    "        return SignalsGeneratorResult(signals_input=np.vstack(signals_input), \n",
    "                                      signals_output=np.vstack(signals_output),\n",
    "                                      signal_ids=signal_ids,\n",
    "                                      signal_xy_lists_input=signal_xy_lists_input,\n",
    "                                      signal_xy_lists_output=signal_xy_lists_output,\n",
    "                                      xy_list_full=[])\n",
    "\n",
    "    def switch(self):\n",
    "        pass"
   ]
  },
  {
   "cell_type": "code",
   "execution_count": 43,
   "id": "7818f44c-2b09-45da-be87-407ff05b8245",
   "metadata": {},
   "outputs": [],
   "source": [
    "generator = RollingPixelFeatureSignalsGenerator(TRANSF, 100, 1)"
   ]
  },
  {
   "cell_type": "code",
   "execution_count": 44,
   "id": "0a5d9a3b-6051-4478-b2df-8c099987c8ce",
   "metadata": {},
   "outputs": [
    {
     "name": "stdout",
     "output_type": "stream",
     "text": [
      "CPU times: user 3.26 s, sys: 692 μs, total: 3.26 s\n",
      "Wall time: 52.3 ms\n"
     ]
    }
   ],
   "source": [
    "%%time\n",
    "sgr = generator()\n",
    "signal_ind = 0"
   ]
  },
  {
   "cell_type": "code",
   "execution_count": 45,
   "id": "0f66996f-f9b1-4048-a47e-e1b4a73dffb6",
   "metadata": {},
   "outputs": [
    {
     "data": {
      "image/png": "[encoded data removed]",
      "text/plain": [
       "<Figure size 1600x480 with 3 Axes>"
      ]
     },
     "metadata": {},
     "output_type": "display_data"
    }
   ],
   "source": [
    "signal_ind = (signal_ind + 1) % len(sgr.signals_output)\n",
    "pixel_feature_inds = debundle_sbv(sgr.signals_output[signal_ind], PIXEL_FEATURE_SBVS, HP_SIGNAL_VEC_NON_ZERO_BITS)\n",
    "bm_output = PIXEL_FEATURE_BITMAP_MASKS[pixel_feature_inds].sum(axis=0)\n",
    "bm_output = xp_array_from_gpu(bm_output)\n",
    "    \n",
    "fig, (ax1, ax2, ax3) = plt.subplots(1, 3)\n",
    "fig.set_figwidth(16)\n",
    "ax1.set_title(f'Input #{signal_ind}: {sgr.signal_xy_lists_input[signal_ind].shape[0]} xy items')\n",
    "ax1.imshow(vec_to_square_matrix(xy_list_to_ohe_vec(sgr.signal_xy_lists_input[signal_ind])))\n",
    "ax2.set_title(f'Transformed: {sgr.signal_xy_lists_output[signal_ind].shape[0]} xy items')\n",
    "ax2.imshow(vec_to_square_matrix(xy_list_to_ohe_vec(sgr.signal_xy_lists_output[signal_ind])))\n",
    "ax3.set_title(f'Decoded from SBV: {np.count_nonzero(pixel_feature_inds)} pixel features')\n",
    "ax3.imshow(vec_to_square_matrix(bm_output));"
   ]
  },
  {
   "cell_type": "markdown",
   "id": "eea2abc0-1c71-43ed-85fe-4b70824d3dac",
   "metadata": {},
   "source": [
    "### PooledPixelFeatureSignalsGenerator"
   ]
  },
  {
   "cell_type": "code",
   "execution_count": 46,
   "id": "7b37e997-8ab1-4035-8fba-31154364e8c8",
   "metadata": {},
   "outputs": [],
   "source": [
    "# Create pool of pixel features of designated size (pool_size) and sample signals from that pool. \n",
    "# Recreate pool on switch call\n",
    "class PooledPixelFeatureSignalsGenerator:\n",
    "    def __init__(self, transf, signals_count, pool_size, logger=lambda m: True):\n",
    "        self.logger = logger\n",
    "        self.transf = transf\n",
    "        self.signals_count = signals_count\n",
    "        assert pool_size >= HP_SIGNAL_VEC_FEATURES_COUNT\n",
    "        self.pool_size = pool_size\n",
    "        self.pooled_pixel_feature_inds = np.array([])\n",
    "        self.pixel_feature_inds_sorted_by_freq_desc = np.argsort(-PIXEL_FEATURE_FREQS)\n",
    "        # strip pixel features which have zero freqs, i.o.w. leave only those with nonzero\n",
    "        active_pixel_features_count = np.count_nonzero(PIXEL_FEATURE_FREQS)\n",
    "        assert active_pixel_features_count > 0\n",
    "        self.pixel_feature_inds_sorted_by_freq_desc = self.pixel_feature_inds_sorted_by_freq_desc[:active_pixel_features_count]\n",
    "        assert self.pixel_feature_inds_sorted_by_freq_desc.shape[0] == active_pixel_features_count\n",
    "        self.switch()\n",
    "        \n",
    "    def __call__(self):\n",
    "        signals_input = [] # SBV\n",
    "        signals_output = [] # SBV\n",
    "        signal_ids = []\n",
    "        signal_xy_lists_input = []\n",
    "        signal_xy_lists_output = []\n",
    "\n",
    "        while len(signals_input) < self.signals_count:\n",
    "            pixel_feature_inds_input = RNG.choice(self.pooled_pixel_feature_inds, HP_SIGNAL_VEC_FEATURES_COUNT, replace=False)\n",
    "            xy_list_input = PIXEL_FEATURE_XY_ARRAY[pixel_feature_inds_input]\n",
    "            xy_list_transf = np.hstack([xy_list_input, np.ones(xy_list_input.shape[0])[:,np.newaxis]]) # make homogeneous coords\n",
    "            xy_list_transf = (self.transf @ xy_list_transf.T).T[:,:2]\n",
    "            xy_list_transf = np.round(xy_list_transf, decimals=0).astype(int)\n",
    "            # pixel_feature_inds_output = xy_list_to_nearest_pixel_feature_inds(xy_list_transf) # must be used when there is overlap among pixel features\n",
    "            pixel_feature_inds_output = xy_list_to_pixel_feature_inds(xy_list_transf) # can be used when there is no overlap among pixel features\n",
    "            xy_list_output = PIXEL_FEATURE_XY_ARRAY[pixel_feature_inds_output]\n",
    "            xy_list_input_sbv = bundle_sbvs(PIXEL_FEATURE_SBVS[pixel_feature_inds_input])\n",
    "            xy_list_output_sbv = bundle_sbvs(PIXEL_FEATURE_SBVS[pixel_feature_inds_output])\n",
    "            assert xy_list_input_sbv.shape[0] == HP_SIGNAL_VEC_LEN\n",
    "            assert xy_list_output_sbv.shape[0] == HP_SIGNAL_VEC_LEN\n",
    "\n",
    "            signals_input.append(xy_list_input_sbv)\n",
    "            signals_output.append(xy_list_output_sbv)\n",
    "            signal_ids.append(tuple(map(int, sorted(pixel_feature_inds_input))))\n",
    "            signal_xy_lists_input.append(xy_list_input)\n",
    "            signal_xy_lists_output.append(xy_list_output)\n",
    "\n",
    "        assert len(signals_input) == len(signals_output)\n",
    "        assert len(signals_input) == len(signal_ids)\n",
    "        assert len(signals_input) == len(signal_xy_lists_input)\n",
    "        assert len(signals_input) == len(signal_xy_lists_output)\n",
    "        return SignalsGeneratorResult(signals_input=np.vstack(signals_input), \n",
    "                                      signals_output=np.vstack(signals_output),\n",
    "                                      signal_ids=signal_ids,\n",
    "                                      signal_xy_lists_input=signal_xy_lists_input,\n",
    "                                      signal_xy_lists_output=signal_xy_lists_output,\n",
    "                                      xy_list_full=[])\n",
    "\n",
    "    def switch(self):\n",
    "        self.pooled_pixel_feature_inds = self.pixel_feature_inds_sorted_by_freq_desc[:self.pool_size]\n",
    "        self.pixel_feature_inds_sorted_by_freq_desc = np.roll(self.pixel_feature_inds_sorted_by_freq_desc, -self.pool_size)\n",
    "        l = self.pooled_pixel_feature_inds[0]\n",
    "        h = self.pooled_pixel_feature_inds[-1]\n",
    "        self.logger(f'Pool inds=[{l}, ..., {h}], freqs=[{PIXEL_FEATURE_FREQS[l]}, ..., {PIXEL_FEATURE_FREQS[h]}]')\n",
    "        assert self.pooled_pixel_feature_inds.shape[0] >= HP_SIGNAL_VEC_FEATURES_COUNT"
   ]
  },
  {
   "cell_type": "code",
   "execution_count": 47,
   "id": "6a24b503-6dbc-4de4-bb5f-8c0ac1459e4d",
   "metadata": {},
   "outputs": [
    {
     "name": "stdout",
     "output_type": "stream",
     "text": [
      "Pool inds=[338, ..., 308], freqs=[518, ..., 418]\n"
     ]
    }
   ],
   "source": [
    "generator = PooledPixelFeatureSignalsGenerator(TRANSF, 100, 30, logger=lambda m: print(m))"
   ]
  },
  {
   "cell_type": "code",
   "execution_count": 48,
   "id": "df9d8338-d79c-447c-9c1f-3f9597e18b1d",
   "metadata": {},
   "outputs": [
    {
     "name": "stdout",
     "output_type": "stream",
     "text": [
      "CPU times: user 2.81 s, sys: 0 ns, total: 2.81 s\n",
      "Wall time: 44.5 ms\n"
     ]
    }
   ],
   "source": [
    "%%time\n",
    "sgr = generator()\n",
    "signal_ind = 0"
   ]
  },
  {
   "cell_type": "code",
   "execution_count": 49,
   "id": "ff68218d-b223-435a-9c5d-29b69dae4a0c",
   "metadata": {},
   "outputs": [
    {
     "data": {
      "image/png": "[encoded data removed]",
      "text/plain": [
       "<Figure size 1600x480 with 3 Axes>"
      ]
     },
     "metadata": {},
     "output_type": "display_data"
    }
   ],
   "source": [
    "signal_ind = (signal_ind + 1) % len(sgr.signals_output)\n",
    "pixel_feature_inds = debundle_sbv(sgr.signals_output[signal_ind], PIXEL_FEATURE_SBVS, HP_SIGNAL_VEC_NON_ZERO_BITS)\n",
    "bm_output = PIXEL_FEATURE_BITMAP_MASKS[pixel_feature_inds].sum(axis=0)\n",
    "bm_output = xp_array_from_gpu(bm_output)\n",
    "    \n",
    "fig, (ax1, ax2, ax3) = plt.subplots(1, 3)\n",
    "fig.set_figwidth(16)\n",
    "ax1.set_title(f'Input #{signal_ind}: {sgr.signal_xy_lists_input[signal_ind].shape[0]} xy items')\n",
    "ax1.imshow(vec_to_square_matrix(xy_list_to_ohe_vec(sgr.signal_xy_lists_input[signal_ind])))\n",
    "ax2.set_title(f'Transformed: {sgr.signal_xy_lists_output[signal_ind].shape[0]} xy items')\n",
    "ax2.imshow(vec_to_square_matrix(xy_list_to_ohe_vec(sgr.signal_xy_lists_output[signal_ind])))\n",
    "ax3.set_title(f'Decoded from SBV: {np.count_nonzero(pixel_feature_inds)} pixel features')\n",
    "ax3.imshow(vec_to_square_matrix(bm_output));"
   ]
  },
  {
   "cell_type": "markdown",
   "id": "ef66cf7b-eecd-4f77-b6b4-51357f7df976",
   "metadata": {},
   "source": [
    "### AsyncSignalsGenerator"
   ]
  },
  {
   "cell_type": "code",
   "execution_count": 50,
   "id": "a7c56784-3284-4abc-af5b-93d1e569f7bf",
   "metadata": {},
   "outputs": [],
   "source": [
    "@dataclass\n",
    "class AsyncSignalsGeneratorTask:\n",
    "    task_id: int\n",
    "    op: str\n",
    "    params: dict = None\n",
    "\n",
    "@dataclass\n",
    "class AsyncSignalsGeneratorTaskResult:\n",
    "    task_id: int\n",
    "    payload: typing.Any = None\n",
    "\n",
    "def async_signals_generator_fun(generator_typename, inp_queue, out_queue, *args):\n",
    "    LOG.app_name = 'HOST_ASG'\n",
    "    LOG(f'Starting host for async signals generator {generator_typename}')\n",
    "\n",
    "    match generator_typename:\n",
    "        case RealImageSignalsGenerator.__name__:\n",
    "            generator = RealImageSignalsGenerator(*args, logger=LOG)\n",
    "        case FixedPixelFeatureSignalsGenerator.__name__:\n",
    "            generator = FixedPixelFeatureSignalsGenerator(*args, logger=LOG)\n",
    "        case RollingPixelFeatureSignalsGenerator.__name__:\n",
    "            generator = RollingPixelFeatureSignalsGenerator(*args, logger=LOG)\n",
    "        case PooledPixelFeatureSignalsGenerator.__name__:\n",
    "            generator = PooledPixelFeatureSignalsGenerator(*args, logger=LOG)\n",
    "        case _:\n",
    "            assert False, generator_typename\n",
    "\n",
    "    LOG(f'Host is ready')\n",
    "\n",
    "    task_wait_timeout = 60\n",
    "    is_running = True\n",
    "    is_recreate_pending = True\n",
    "\n",
    "    while is_running:\n",
    "        if is_recreate_pending:\n",
    "            LOG('Begin generating signals')\n",
    "            sgr = generator()\n",
    "            LOG('End generating signals')\n",
    "            is_recreate_pending = False\n",
    "            \n",
    "        try:\n",
    "            task = inp_queue.get(block=True, timeout=task_wait_timeout)\n",
    "        except queue.Empty:\n",
    "            LOG(f'Didn\\'t get any tasks within {task_wait_timeout} seconds, waiting again')\n",
    "            continue\n",
    "\n",
    "        with LOG.auto_prefix('TASK_ID', task.task_id):\n",
    "            LOG(f'Got task #{task.task_id} {task.op}')\n",
    "            task_result = AsyncSignalsGeneratorTaskResult(task_id=task.task_id)\n",
    "            \n",
    "            match task.op:\n",
    "                case 'HEALTHCHECK':\n",
    "                    pass\n",
    "                case 'TERMINATE':\n",
    "                    is_running = False\n",
    "                case 'GENERATE':\n",
    "                    task_result.payload = sgr\n",
    "                    is_recreate_pending = True\n",
    "                case 'SWITCH':\n",
    "                    generator.switch()\n",
    "                    is_recreate_pending = True\n",
    "                case _:\n",
    "                    LOG(f'Unknown task op: {task.op}, ignoring')\n",
    "    \n",
    "            out_queue.put(task_result)\n",
    "            LOG('Task complete')\n",
    "        \n",
    "    LOG(f'Host is going down')\n",
    "        \n",
    "class AsyncSignalsGenerator:\n",
    "    task_id = 0\n",
    "    \n",
    "    def __init__(self, generator_type, *args):\n",
    "        mp_ctx = mp.get_context('fork')\n",
    "        self.task_queue = mp_ctx.Queue()\n",
    "        self.result_queue = mp_ctx.Queue()\n",
    "        self.process = mp_ctx.Process(target=async_signals_generator_fun, \n",
    "                                      args=(generator_type.__name__, self.task_queue, self.result_queue, *args))\n",
    "        self.process.start()\n",
    "        self.healthcheck()\n",
    "\n",
    "    @staticmethod\n",
    "    def gen_task_id():\n",
    "        AsyncSignalsGenerator.task_id += 1\n",
    "        return AsyncSignalsGenerator.task_id\n",
    "\n",
    "    def healthcheck(self):\n",
    "        assert self.process.is_alive()\n",
    "        task = AsyncSignalsGeneratorTask(task_id=self.gen_task_id(), op='HEALTHCHECK')\n",
    "        self.task_queue.put(task)\n",
    "        self.result_queue.get(timeout=3)\n",
    "        \n",
    "    def terminate(self):\n",
    "        if not self.process.is_alive():\n",
    "            return\n",
    "            \n",
    "        task = AsyncSignalsGeneratorTask(task_id=self.gen_task_id(), op='TERMINATE')\n",
    "        self.task_queue.put(task)\n",
    "        try:\n",
    "            self.result_queue.get(timeout=10)\n",
    "            self.process.join()\n",
    "        except queue.Empty:\n",
    "            print('Failed to shutdown host gracefully, terminating')\n",
    "            self.process.terminate()\n",
    "\n",
    "    def __call__(self):\n",
    "        assert self.process.is_alive()\n",
    "        task = AsyncSignalsGeneratorTask(task_id=self.gen_task_id(), op='GENERATE')\n",
    "        self.task_queue.put(task)\n",
    "        sgr = self.result_queue.get().payload\n",
    "        return sgr\n",
    "\n",
    "    def switch(self):\n",
    "        assert self.process.is_alive()\n",
    "        task = AsyncSignalsGeneratorTask(task_id=self.gen_task_id(), op='SWITCH')\n",
    "        self.task_queue.put(task)\n",
    "        self.result_queue.get()"
   ]
  },
  {
   "cell_type": "code",
   "execution_count": 51,
   "id": "ffec3279-3bd2-4fb4-ba78-77813ff25362",
   "metadata": {},
   "outputs": [
    {
     "name": "stdout",
     "output_type": "stream",
     "text": [
      "Async signals generator is ready\n",
      "CPU times: user 2.64 ms, sys: 4.99 ms, total: 7.63 ms\n",
      "Wall time: 18.7 ms\n",
      "Async signals generator terminated\n"
     ]
    }
   ],
   "source": [
    "try:\n",
    "    # test_signals_generator = AsyncSignalsGenerator(RealImageSignalsGenerator, TRANSF, 100, 10)\n",
    "    # test_signals_generator = AsyncSignalsGenerator(FixedPixelFeatureSignalsGenerator, TRANSF, 100, 10)\n",
    "    # test_signals_generator = AsyncSignalsGenerator(RollingPixelFeatureSignalsGenerator, TRANSF, 100, 10)\n",
    "    test_signals_generator = AsyncSignalsGenerator(PooledPixelFeatureSignalsGenerator, TRANSF, 100, 30)\n",
    "    print(f'Async signals generator is ready')\n",
    "    %time sgr = test_signals_generator()\n",
    "finally:\n",
    "    test_signals_generator.terminate()\n",
    "    print(f'Async signals generator terminated')\n",
    "    del test_signals_generator"
   ]
  },
  {
   "cell_type": "markdown",
   "id": "540c8953-6ec6-41ad-945a-9f397989b501",
   "metadata": {},
   "source": [
    "## Points"
   ]
  },
  {
   "cell_type": "raw",
   "id": "d97e49f9-261c-4316-bf89-3f28475c9835",
   "metadata": {},
   "source": [
    "Here we define combinatorial points"
   ]
  },
  {
   "cell_type": "code",
   "execution_count": 52,
   "id": "9dbcbcad-eb00-4479-a32b-ae36b8373cce",
   "metadata": {},
   "outputs": [
    {
     "data": {
      "application/vnd.jupyter.widget-view+json": {
       "model_id": "2ec707ac9bf14324a4dca8d3b43c9813",
       "version_major": 2,
       "version_minor": 0
      },
      "text/plain": [
       "Load:   0%|          | 0/1000 [00:00<?, ?it/s]"
      ]
     },
     "metadata": {},
     "output_type": "display_data"
    },
    {
     "name": "stdout",
     "output_type": "stream",
     "text": [
      "250_000 POINTS loaded from database\n"
     ]
    }
   ],
   "source": [
    "df_points = pd.read_sql('SELECT output_bit, nzb_list FROM points WHERE encoding=:encoding AND count=:count AND non_zero_bits=:non_zero_bits', \n",
    "                        params={\n",
    "                            'encoding': HP_SIGNAL_ENCODING,\n",
    "                            'count': HP_POINTS_COUNT,\n",
    "                            'non_zero_bits': HP_POINT_NON_ZERO_BITS}, \n",
    "                        con=transfs_db_con)\n",
    "\n",
    "if len(df_points) > 0:\n",
    "    POINTS = []\n",
    "    POINT_OUTPUT_BITS = []\n",
    "    \n",
    "    for row in tqdm(df_points.itertuples(), total=len(df_points), desc='Load'):\n",
    "        nzb_list = pickle.loads(row.nzb_list)\n",
    "        l = len(nzb_list)\n",
    "        assert l > 0\n",
    "        points = np.zeros((l, HP_SIGNAL_VEC_LEN), dtype='f')\n",
    "\n",
    "        for i, nzb in enumerate(nzb_list):\n",
    "            points[i,nzb] = 1\n",
    "\n",
    "        POINTS.append(points)\n",
    "        \n",
    "        point_output_bits = np.full(l, row.output_bit, dtype='i')\n",
    "        POINT_OUTPUT_BITS.append(point_output_bits)\n",
    "        \n",
    "    POINTS = np.vstack(POINTS)\n",
    "    POINT_OUTPUT_BITS = np.hstack(POINT_OUTPUT_BITS)\n",
    "    assert np.all(POINTS.sum(axis=1) == HP_POINT_NON_ZERO_BITS)\n",
    "    assert POINTS.shape[0] == POINT_OUTPUT_BITS.shape[0]\n",
    "    assert POINTS.ndim == 2\n",
    "    assert POINT_OUTPUT_BITS.ndim == 1\n",
    "    print(f'{POINTS.shape[0]:_} POINTS loaded from database')\n",
    "else:\n",
    "    POINTS = []\n",
    "    POINT_OUTPUT_BITS = []\n",
    "    output_bits = RNG.choice(HP_SIGNAL_VEC_LEN, HP_POINTS_COUNT)\n",
    "    output_bit_to_nzb_list = defaultdict(list)\n",
    "    \n",
    "    for output_bit in tqdm(output_bits, desc='Generate'):\n",
    "        nzb = sbv_to_nzb(RNG.choice(HP_SIGNAL_VEC_LEN, HP_POINT_NON_ZERO_BITS, replace=False))\n",
    "        \n",
    "        point_vec = np.zeros(HP_SIGNAL_VEC_LEN, dtype='f')\n",
    "        point_vec[nzb] = 1\n",
    "        POINTS.append(point_vec)\n",
    "        POINT_OUTPUT_BITS.append(output_bit)\n",
    "\n",
    "        output_bit_to_nzb_list[output_bit].append(nzb)\n",
    "\n",
    "    POINTS = np.vstack(POINTS)\n",
    "    POINT_OUTPUT_BITS = np.hstack(POINT_OUTPUT_BITS)\n",
    "    assert np.all(POINTS.sum(axis=1) == HP_POINT_NON_ZERO_BITS)\n",
    "    assert POINTS.shape[0] == POINT_OUTPUT_BITS.shape[0]\n",
    "\n",
    "    for output_bit, nzb_list in tqdm(output_bit_to_nzb_list.items(), desc='Save'):\n",
    "        params = {\n",
    "            'encoding': HP_SIGNAL_ENCODING, \n",
    "            'count': HP_POINTS_COUNT,\n",
    "            'non_zero_bits': HP_POINT_NON_ZERO_BITS,\n",
    "            'output_bit': int(output_bit),\n",
    "            'nzb_list': pickle.dumps(nzb_list),\n",
    "            }\n",
    "        transfs_db_con.execute('INSERT INTO points(encoding, count, non_zero_bits, output_bit, nzb_list) ' + \n",
    "                               'VALUES(:encoding, :count, :non_zero_bits, :output_bit, :nzb_list)', params)\n",
    "    \n",
    "    print(f'{POINTS.shape[0]:_} POINTS created from scratch')"
   ]
  },
  {
   "cell_type": "markdown",
   "id": "454d74a8-397e-42b6-af1e-18437ef2f791",
   "metadata": {},
   "source": [
    "## .lab hdc"
   ]
  },
  {
   "cell_type": "code",
   "execution_count": 53,
   "id": "8a77cf8e-74e7-408e-83ed-bf28a26b2875",
   "metadata": {},
   "outputs": [],
   "source": [
    "# hdc = Hdc(10_000, np, dtype='f')\n",
    "# hdc.bundle = hdc.bundle_noties\n",
    "# hdc.cos_sim_threshold = 0.055\n",
    "# hdc.hdist_threshold = 4700\n",
    "\n",
    "hdc = Hdc(1_000, np, dtype='f')\n",
    "hdc.bundle = hdc.bundle_noties\n",
    "hdc.cos_sim_threshold = 0.10\n",
    "\n",
    "# hdc = Hdc(2_000, np, dtype='f')\n",
    "# hdc.bundle = hdc.bundle_noties\n",
    "# hdc.cos_sim_threshold = 0.10"
   ]
  },
  {
   "cell_type": "code",
   "execution_count": 54,
   "id": "69ac53e2-f39a-4e59-abfd-2b5eeb834122",
   "metadata": {},
   "outputs": [],
   "source": [
    "PIXEL_HDVS = hdc(config.sample_size ** 2)\n",
    "PIXEL_HDVS_NORM = hdc.normalize(PIXEL_HDVS)"
   ]
  },
  {
   "cell_type": "code",
   "execution_count": 55,
   "id": "af16ae38-e56f-48df-85c5-426649ab275a",
   "metadata": {},
   "outputs": [
    {
     "data": {
      "image/png": "[encoded data removed]",
      "text/plain": [
       "<Figure size 1200x480 with 2 Axes>"
      ]
     },
     "metadata": {},
     "output_type": "display_data"
    }
   ],
   "source": [
    "image_id = RNG.choice(df_train_images.index)\n",
    "image = next(df_train_images.loc[[image_id]].itertuples())\n",
    "si_ind_dict = pickle.loads(image.inner_si_ind_dict)\n",
    "sequences = pickle.loads(image.inner_sequences)\n",
    "seq = get_sequence(sequences)\n",
    "seq_xy = get_xy_sequence(seq, si_ind_dict)\n",
    "ii = np.all(((seq_xy >= 0) & (seq_xy < config.sample_size)), axis=1) \n",
    "seq_xy = seq_xy[ii]\n",
    "ind_seq = (seq_xy @ np.array([1, config.sample_size])).astype(int)\n",
    "seq_bv_true = np.zeros((config.sample_size, config.sample_size)).ravel()\n",
    "seq_bv_true[ind_seq] = 1\n",
    "\n",
    "seq_hdv = hdc.bundle(PIXEL_HDVS[ind_seq])\n",
    "seq_hdv_binary = hdc.to_binary(seq_hdv)\n",
    "seq_hdv_bipolar = hdc.to_bipolar(seq_hdv_binary)\n",
    "seq_hdv_bipolar_norm = hdc.normalize(seq_hdv_bipolar)\n",
    "pixel_hdv_inds = np.argwhere((PIXEL_HDVS_NORM @ seq_hdv_bipolar_norm) > hdc.cos_sim_threshold).ravel()\n",
    "seq_bv = np.zeros((config.sample_size, config.sample_size)).ravel()\n",
    "seq_bv[pixel_hdv_inds] = 1\n",
    "\n",
    "error_level = np.count_nonzero(seq_bv != seq_bv_true)\n",
    "\n",
    "fig, (ax1, ax2) = plt.subplots(1, 2)\n",
    "fig.set_figwidth(12)\n",
    "ax1.set_title(f'image_id={image_id}, points={len(ind_seq)}')\n",
    "ax1.imshow(seq_bv_true.reshape(config.sample_size, -1));\n",
    "ax2.set_title(f'err.={error_level}')\n",
    "ax2.set_title(f'N={seq_hdv.shape[0]} / {seq_hdv_binary.sum():.0f}, err.={error_level}')\n",
    "ax2.imshow(seq_bv.reshape(config.sample_size, -1));"
   ]
  },
  {
   "cell_type": "code",
   "execution_count": 56,
   "id": "93bd685d-76e0-4de1-a67b-6a61e9a2c29b",
   "metadata": {},
   "outputs": [
    {
     "data": {
      "image/jpeg": "[encoded data removed]",
      "image/png": "[encoded data removed]",
      "text/plain": [
       "<PIL.PngImagePlugin.PngImageFile image mode=L size=128x128>"
      ]
     },
     "execution_count": 56,
     "metadata": {},
     "output_type": "execute_result"
    }
   ],
   "source": [
    "get_raw_image(image_id)"
   ]
  },
  {
   "cell_type": "markdown",
   "id": "582ad609-9873-4ab3-830f-488d15ecf505",
   "metadata": {},
   "source": [
    "## .lab sbv"
   ]
  },
  {
   "cell_type": "code",
   "execution_count": 57,
   "id": "9d858d2c-11f8-4b20-a572-c9c1edcfaf55",
   "metadata": {},
   "outputs": [],
   "source": [
    "# # image_id = RNG.choice(df_train_images.index)\n",
    "# # image_id = 44917 # 60 points\n",
    "# image = next(df_train_images.loc[[image_id]].itertuples())\n",
    "# si_ind_dict = pickle.loads(image.inner_si_ind_dict)\n",
    "# sequences = pickle.loads(image.inner_sequences)\n",
    "# seq = get_sequence(sequences)\n",
    "# seq_xy = get_xy_sequence(seq, si_ind_dict)\n",
    "# ii = np.all(((seq_xy >= 0) & (seq_xy < config.sample_size)), axis=1) \n",
    "# seq_xy = seq_xy[ii]\n",
    "# ind_seq = (seq_xy @ np.array([1, config.sample_size])).astype(int)\n",
    "# seq_bv_true = np.zeros((config.sample_size, config.sample_size)).ravel()\n",
    "# seq_bv_true[ind_seq] = 1\n",
    "\n",
    "# # seq_sbv = np.where(np.sum(PIXELS[ind_seq], axis=0) > 0, 1, 0) # aka Bloom filter\n",
    "# seq_sbv = calc_seq_sbv(seq_xy)\n",
    "# # pixel_sbv_inds = np.argwhere((PIXELS @ seq_sbv) >= SBV_NON_ZERO_INDS).ravel()\n",
    "# # seq_bv = np.zeros((config.sample_size, config.sample_size)).ravel()\n",
    "# # seq_bv[pixel_sbv_inds] = 1\n",
    "# seq_bv = seq_sbv_to_bv(seq_sbv)\n",
    "\n",
    "# error_level = np.count_nonzero(seq_bv != seq_bv_true)\n",
    "\n",
    "# fig, (ax1, ax2) = plt.subplots(1, 2)\n",
    "# fig.set_figwidth(12)\n",
    "# ax1.set_title(f'image_id={image_id}, points={len(ind_seq)}')\n",
    "# ax1.imshow(seq_bv_true.reshape(config.sample_size, -1))\n",
    "# ax2.set_title(f'sbv={seq_sbv.shape[0]} / {seq_sbv.sum()}, non_zero_inds={HP_SIGNAL_VEC_NON_ZERO_BITS}, err.={error_level}')\n",
    "# ax2.imshow(seq_bv.reshape(config.sample_size, -1));"
   ]
  },
  {
   "cell_type": "markdown",
   "id": "8a40ec0a-891b-4385-88c3-6699bf574057",
   "metadata": {},
   "source": [
    "# Train"
   ]
  },
  {
   "cell_type": "markdown",
   "id": "f68c0e28-fa7e-4f59-8696-f6f22e705f4b",
   "metadata": {},
   "source": [
    "## Parameters"
   ]
  },
  {
   "cell_type": "code",
   "execution_count": 58,
   "id": "145172a9-54d1-4563-a7ab-cde78584810c",
   "metadata": {},
   "outputs": [],
   "source": [
    "LOG.is_enabled = True"
   ]
  },
  {
   "cell_type": "code",
   "execution_count": 79,
   "id": "66c512a5-916f-4a20-b37c-e0369e7d65c8",
   "metadata": {},
   "outputs": [],
   "source": [
    "HP_CLUSTER_ONES_COUNT_THRES = 6\n",
    "HP_CLUSTER_CREATION_ONES_COUNT_THRES = 7\n",
    "HP_CLUSTER_LEARN_BINARIZATION_SCHEDULE = (5, 10)\n",
    "HP_CLUSTER_RELEARN_BINARIZATION_SCHEDULE = (5,)\n",
    "HP_CLUSTER_BINARIZATION_SCHEDULE_SIZE = max(len(HP_CLUSTER_LEARN_BINARIZATION_SCHEDULE), len(HP_CLUSTER_RELEARN_BINARIZATION_SCHEDULE))\n",
    "HP_CLUSTER_BINARIZE_THRES = 0.75\n",
    "HP_CLUSTER_PROD_WORK_SIGNALS_PROCESSED_THRES = 10\n",
    "HP_CLUSTER_PROD_WORK_ACCURACY_THRES = 0.9\n",
    "HP_CLUSTER_PROD_ETERNAL_SIGNALS_PROCESSED_THRES = 100\n",
    "HP_CLUSTER_PROD_ETERNAL_ACCURACY_THRES = 0.98\n",
    "        \n",
    "HP_LEARN_CLUSTERS_COUNT_SOFT_LIMIT = 300_000\n",
    "HP_PROD_CANDIDATE_CLUSTERS_COUNT_SOFT_LIMIT = 100_000\n",
    "HP_PROD_WORK_CLUSTERS_COUNT_SOFT_LIMIT = 100_000\n",
    "\n",
    "HP_EPOCHS_COUNT = 1\n",
    "HP_OUTPUT_BITS_PER_BATCH = 250\n",
    "HP_NEW_SIGNALS_COUNT_PER_CYCLE = min(100, len(df_train_images))\n",
    "# HP_PERSIST_PROD_CLUSTERS_INTERVAL = 100\n",
    "HP_PERSIST_PROD_CLUSTERS_INTERVAL = 999_999\n",
    "HP_RESET_LEARN_CLUSTERS_INTERVAL = 100\n",
    "# HP_CYCLES_COUNT = math.ceil(ACTIVE_PIXEL_FEATURES_COUNT / HP_RESET_LEARN_CLUSTERS_INTERVAL) * HP_RESET_LEARN_CLUSTERS_INTERVAL\n",
    "HP_CYCLES_COUNT = 1000"
   ]
  },
  {
   "cell_type": "markdown",
   "id": "9d2d12c1-5b24-40f8-8744-d7163d4dd132",
   "metadata": {},
   "source": [
    "## persist_prod_clusters"
   ]
  },
  {
   "cell_type": "code",
   "execution_count": 60,
   "id": "f66fc018-bf78-4703-9545-b5096cf011ea",
   "metadata": {},
   "outputs": [],
   "source": [
    "def persist_prod_clusters():\n",
    "    persisted_count = 0\n",
    "    output_bit_to_prod_cluster_metas = defaultdict(list)\n",
    "    \n",
    "    for meta in CLUSTER_METAS.values():\n",
    "        output_bit_to_prod_cluster_metas[meta.output_bit].append(meta)\n",
    "    \n",
    "    for output_bit, metas in output_bit_to_prod_cluster_metas.items():\n",
    "        cluster_inds = list(map(lambda m: m.cluster_ind, metas))\n",
    "        # Leave only super clusters, i.e. clusters which are not subsets of any other clusters\n",
    "        clusters = CLUSTERS.array[cluster_inds]\n",
    "        cluster_ones_counts = clusters.sum(axis=1)\n",
    "        crossings = (clusters @ clusters.T)\n",
    "        crossings[xp.diag_indices_from(crossings)] = 0\n",
    "        super_clusters_boolmap = ~xp.any((crossings.T >= cluster_ones_counts).T, axis=1)\n",
    "    \n",
    "        clusters = xp_array_from_gpu(clusters[super_clusters_boolmap])\n",
    "        super_clusters_boolmap = xp_array_from_gpu(super_clusters_boolmap)\n",
    "        \n",
    "        nzb_list = list(map(sbv_to_nzb, clusters))\n",
    "        pickled_nzb_list = pickle.dumps(nzb_list)\n",
    "        pickled_metas = pickle.dumps(list(map(lambda x: x[1], filter(lambda x: x[0], zip(super_clusters_boolmap, metas)))))\n",
    "        # Changing autocommit to False will open a new transaction, and changing it to True will commit any pending transaction.\n",
    "        # https://docs.python.org/3/library/sqlite3.html#connection-objects\n",
    "        transfs_db_con.autocommit = False\n",
    "        transfs_db_con.execute('DELETE FROM clusters WHERE encoding=:encoding AND transf_code=:transf_code AND output_bit=:output_bit',\n",
    "                               {'encoding': HP_SIGNAL_ENCODING, 'transf_code': TRANSF_CODE, 'output_bit': output_bit})\n",
    "        transfs_db_con.execute('INSERT INTO clusters (encoding, transf_code, output_bit, metas, nzb_list) VALUES (:encoding, :transf_code, :output_bit, :metas, :nzb_list)',\n",
    "                               {'encoding': HP_SIGNAL_ENCODING, 'transf_code': TRANSF_CODE, 'output_bit': output_bit, 'metas': pickled_metas, 'nzb_list': pickled_nzb_list})\n",
    "        transfs_db_con.autocommit = True\n",
    "        persisted_count += clusters.shape[0]\n",
    "        LOG(f'Persisted {clusters.shape[0]} (of {len(cluster_inds)}) super clusters for output bit {output_bit}')\n",
    "    \n",
    "    LOG(f'Persisted {persisted_count} clusters in total for encoding=\"{HP_SIGNAL_ENCODING}\" and transf_code=\"{TRANSF_CODE}\"')"
   ]
  },
  {
   "cell_type": "markdown",
   "id": "d846f281-3582-4362-8b2e-e7f295d37550",
   "metadata": {},
   "source": [
    "## Sidecars"
   ]
  },
  {
   "cell_type": "code",
   "execution_count": 83,
   "id": "07cc803f-ed2d-4fad-8552-c6c773bf84f1",
   "metadata": {},
   "outputs": [],
   "source": [
    "class LearnClustersSidecar(HdvArrayObserver):\n",
    "    def __init__(self):\n",
    "        # HOT GPU related arrays. Change in CUDA kernels only to avoid manyfold slowdowns!\n",
    "        self.masks = xp.array([], dtype='f')\n",
    "        self.output_bits = xp.array([], dtype='i')\n",
    "        self.nus = xp.array([], dtype='f')\n",
    "        self.binarization_schedules = xp.array([], dtype='i')\n",
    "        self.binarization_countdowns = xp.array([], dtype='i')\n",
    "        \n",
    "        # Cold arrays, may be changed from CPU side at low-cost\n",
    "        self.cluster_states_counter = Counter() \n",
    "        self.cluster_states = [] \n",
    "        self.is_present_boolmap = np.array([], dtype=bool)\n",
    "        self.is_dead_boolmap = np.array([], dtype=bool)\n",
    "        self.is_promotable_boolmap = np.array([], dtype=bool)\n",
    "\n",
    "    def size_changed(self, new_size):\n",
    "        self.masks = xp.resize(self.masks, (new_size, HP_SIGNAL_VEC_LEN))\n",
    "        self.output_bits = xp.resize(self.output_bits, new_size)\n",
    "        self.nus = xp.resize(self.nus, new_size)\n",
    "        self.binarization_schedules = xp.resize(self.binarization_schedules, (new_size, HP_CLUSTER_BINARIZATION_SCHEDULE_SIZE))\n",
    "        self.binarization_countdowns = xp.resize(self.binarization_countdowns, new_size)\n",
    "        \n",
    "        # ndarray.resize if faster than np.resize and fills new space with zeros unlike np.resize. Unfortunately cupy doesn't have ndarray.resize\n",
    "        assert new_size > len(self.cluster_states)\n",
    "        self.cluster_states = self.cluster_states + [''] * (new_size - len(self.cluster_states))\n",
    "        self.is_present_boolmap.resize(new_size, refcheck=False)\n",
    "        self.is_dead_boolmap.resize(new_size, refcheck=False)\n",
    "        self.is_promotable_boolmap.resize(new_size, refcheck=False)\n",
    "\n",
    "    def sync(self, cluster_meta):\n",
    "        cluster_ind = cluster_meta.cluster_ind\n",
    "        old_cluster_state = self.cluster_states[cluster_ind]\n",
    "\n",
    "        if old_cluster_state:\n",
    "            self.cluster_states_counter[old_cluster_state] -= 1\n",
    "            \n",
    "        self.cluster_states[cluster_ind] = cluster_meta.state.name\n",
    "        self.cluster_states_counter[cluster_meta.state.name] += 1\n",
    "\n",
    "        self.is_present_boolmap[cluster_ind] = True\n",
    "        self.is_dead_boolmap[cluster_ind] = cluster_meta.state == ClusterState.DEAD\n",
    "        is_promotable = cluster_meta.state == ClusterState.LEARN and False # not cluster_meta.binarization_schedule\n",
    "        self.is_promotable_boolmap[cluster_ind] = is_promotable\n",
    "\n",
    "    def remove(self, cluster_ind):\n",
    "        # Don't update arrays on GPU side. Manyfold slowdown!!!\n",
    "        # self.masks, self.output_bits, self.nus, ...\n",
    "        \n",
    "        old_cluster_state = self.cluster_states[cluster_ind]\n",
    "\n",
    "        if old_cluster_state:\n",
    "            self.cluster_states_counter[old_cluster_state] -= 1\n",
    "            assert self.cluster_states_counter[old_cluster_state] >= 0\n",
    "            \n",
    "        self.cluster_states[cluster_ind] = ''\n",
    "        self.is_present_boolmap[cluster_ind] = False\n",
    "        self.is_dead_boolmap[cluster_ind] = False\n",
    "        self.is_promotable_boolmap[cluster_ind] = False\n",
    "\n",
    "class ClustersSidecar(HdvArrayObserver):\n",
    "    def __init__(self):\n",
    "        self.cluster_states_counter = Counter()\n",
    "        self.cluster_states = []\n",
    "        \n",
    "        self.output_bits = np.array([], dtype='i')\n",
    "        self.ones_counts = np.array([], dtype='f')\n",
    "\n",
    "        self.is_dead_boolmap = np.array([], dtype=bool)\n",
    "        self.is_verifiable_boolmap = np.array([], dtype=bool)\n",
    "        self.is_promotable_to_prod_work_boolmap = np.array([], dtype=bool)\n",
    "        self.is_prod_candidate_boolmap = np.array([], dtype=bool)\n",
    "        self.is_prod_work_boolmap = np.array([], dtype=bool)\n",
    "\n",
    "    def size_changed(self, new_size):\n",
    "        assert new_size > len(self.cluster_states)\n",
    "        self.cluster_states = self.cluster_states + [''] * (new_size - len(self.cluster_states))\n",
    "        \n",
    "        self.output_bits.resize(new_size, refcheck=False)\n",
    "        self.ones_counts.resize(new_size, refcheck=False)\n",
    "\n",
    "        self.is_dead_boolmap.resize(new_size, refcheck=False)\n",
    "        self.is_verifiable_boolmap.resize(new_size, refcheck=False)\n",
    "        self.is_promotable_to_prod_work_boolmap.resize(new_size, refcheck=False)\n",
    "        self.is_prod_candidate_boolmap.resize(new_size, refcheck=False)\n",
    "        self.is_prod_work_boolmap.resize(new_size, refcheck=False)\n",
    "\n",
    "    def sync(self, cluster_meta):\n",
    "        cluster_ind = cluster_meta.cluster_ind\n",
    "        old_cluster_state = self.cluster_states[cluster_ind]\n",
    "\n",
    "        if old_cluster_state:\n",
    "            self.cluster_states_counter[old_cluster_state] -= 1\n",
    "            \n",
    "        self.cluster_states[cluster_ind] = cluster_meta.state.name\n",
    "        self.cluster_states_counter[cluster_meta.state.name] += 1\n",
    "        \n",
    "        self.output_bits[cluster_ind] = cluster_meta.output_bit\n",
    "        self.ones_counts[cluster_ind] = cluster_meta.ones_count\n",
    "\n",
    "        self.is_dead_boolmap[cluster_ind] = cluster_meta.state == ClusterState.DEAD\n",
    "        self.is_verifiable_boolmap[cluster_ind] = cluster_meta.state in [ClusterState.PROD_CANDIDATE, ClusterState.PROD_WORK]\n",
    "        is_promotable = cluster_meta.state == ClusterState.PROD_CANDIDATE and len(cluster_meta.verify_signal_ids) >= HP_CLUSTER_PROD_WORK_SIGNALS_PROCESSED_THRES\n",
    "        self.is_promotable_to_prod_work_boolmap[cluster_ind] = is_promotable\n",
    "        self.is_prod_candidate_boolmap[cluster_ind] = cluster_meta.state == ClusterState.PROD_CANDIDATE\n",
    "        self.is_prod_work_boolmap[cluster_ind] = cluster_meta.state == ClusterState.PROD_WORK\n",
    "\n",
    "    def remove(self, cluster_ind):\n",
    "        old_cluster_state = self.cluster_states[cluster_ind]\n",
    "\n",
    "        if old_cluster_state:\n",
    "            self.cluster_states_counter[old_cluster_state] -= 1\n",
    "            \n",
    "        self.cluster_states[cluster_ind] = ''\n",
    "        \n",
    "        self.output_bits[cluster_ind] = -1\n",
    "        self.ones_counts[cluster_ind] = -1\n",
    "\n",
    "        self.is_dead_boolmap[cluster_ind] = False\n",
    "        self.is_verifiable_boolmap[cluster_ind] = False\n",
    "        self.is_promotable_to_prod_work_boolmap[cluster_ind] = False\n",
    "        self.is_prod_candidate_boolmap[cluster_ind] = False\n",
    "        self.is_prod_work_boolmap[cluster_ind] = False"
   ]
  },
  {
   "cell_type": "markdown",
   "id": "09980b25-5c52-438f-9e97-5e9d87f90775",
   "metadata": {},
   "source": [
    "## CUDA Kernels"
   ]
  },
  {
   "cell_type": "markdown",
   "id": "78583d8f-54bd-41e0-b3f4-dbfc4a8cf8d9",
   "metadata": {},
   "source": [
    "### cuda_get_source_data_for_new_clusters"
   ]
  },
  {
   "cell_type": "code",
   "execution_count": 62,
   "id": "599ba982-6298-4ea3-98ce-cfe6b92951ae",
   "metadata": {},
   "outputs": [],
   "source": [
    "cuda_get_source_data_for_new_clusters = cp.RawKernel(r'''\n",
    "extern \"C\" __global__\n",
    "void get_source_data_for_new_clusters(\n",
    "    // INPUT\n",
    "    const int theHpVecLen,\n",
    "    const int theHpPointNonZeroBits,\n",
    "    const int theHpCreationOnesCountThres,\n",
    "    const float * const theSignalInput, // vector[theHpVecLen]\n",
    "    const int thePointsCount,\n",
    "    const int * const thePointInds, // vector[thePointsCount] - mapping from local pointInds to real pointInds\n",
    "    const float * const thePoints,    // matrix[**realPointsCount**][theHpVecLen]\n",
    "    // OUTPUT DATA\n",
    "    int * const theNzbCounts, // vector[thePointsCount]\n",
    "    int * const theNzbs // matrix[thePointsCount][theHpPointNonZeroBits],\n",
    ") { \n",
    "    const int localPointInd = blockDim.x * blockIdx.x + threadIdx.x;\n",
    "\n",
    "    if(localPointInd >= thePointsCount)\n",
    "        return;\n",
    "\n",
    "    const int pointInd = thePointInds[localPointInd];\n",
    "    const auto pointsPtrOffset = pointInd * theHpVecLen;\n",
    "    const float * const point = thePoints + pointsPtrOffset;\n",
    "    int * const nzb = theNzbs + localPointInd * theHpPointNonZeroBits;\n",
    "    int nzbInd = 0;\n",
    "\n",
    "    for(int i = 0; i < theHpVecLen; i++) {\n",
    "        if(point[i] > 0 && theSignalInput[i] > 0) {\n",
    "            if(nzbInd >= theHpPointNonZeroBits) {\n",
    "                asm(\"trap;\");\n",
    "            }\n",
    "            \n",
    "            nzb[nzbInd] = i;\n",
    "            nzbInd++;\n",
    "        }\n",
    "    }\n",
    "\n",
    "    theNzbCounts[localPointInd] = nzbInd >= theHpCreationOnesCountThres ? nzbInd : 0;\n",
    "}\n",
    "''', 'get_source_data_for_new_clusters')\n",
    "cuda_get_source_data_for_new_clusters.compile()"
   ]
  },
  {
   "cell_type": "markdown",
   "id": "04bd62f5-7ee3-42e8-a6e8-f735ad6e3f55",
   "metadata": {},
   "source": [
    "### cuda_init_new_clusters"
   ]
  },
  {
   "cell_type": "code",
   "execution_count": 88,
   "id": "72e24fa5-e241-4463-964f-5c3991148f54",
   "metadata": {},
   "outputs": [],
   "source": [
    "cuda_init_new_clusters = cp.RawKernel(r'''\n",
    "extern \"C\" __global__\n",
    "void init_new_clusters(\n",
    "    // INPUT\n",
    "    const int theHpVecLen,\n",
    "    const int theHpPointNonZeroBits,\n",
    "    const int theHpBinarizationScheduleSize,\n",
    "    const int * const theHpBinarizationScheduleTemplate, // vector[theHpBinarizationScheduleSize]\n",
    "    const int theClustersCount,\n",
    "    const int * const theClusterInds, // vector[theClustersCount]\n",
    "    const int * const theClusterOutputBitsLocal, // vector[theClustersCount]\n",
    "    const int * const theClusterNzbCounts, // vector[theClustersCount]\n",
    "    const int * const theClusterNzbs, // matrix[theClustersCount][theHpPointNonZeroBits]\n",
    "    // OUTPUT\n",
    "    float * const theClusters, // matrix[**realClustersCount**][theHpVecLen] \n",
    "    float * const theClusterMasks, // matrix[**realClustersCount**][theHpVecLen]\n",
    "    int * const theClusterOutputBits, // vector[**realClustersCount**]\n",
    "    float * const theClusterNus, // vector[**realClustersCount**]\n",
    "    int * const theClusterBinarizationSchedules, // matrix[**realClustersCount**][theHpBinarizationScheduleSize]\n",
    "    int * const theClusterBinarizationCountdowns // vector[**realClustersCount**]\n",
    ") { \n",
    "    const int localClusterInd = blockDim.x * blockIdx.x + threadIdx.x;\n",
    "\n",
    "    if(localClusterInd >= theClustersCount)\n",
    "        return;\n",
    "\n",
    "    const int clusterInd = theClusterInds[localClusterInd];\n",
    "    const int nzbCount = theClusterNzbCounts[localClusterInd]; // aka onesCount\n",
    "    const int * const nzb = theClusterNzbs + localClusterInd * theHpPointNonZeroBits;\n",
    "    const auto clustersPtrOffset = clusterInd * theHpVecLen;\n",
    "    float * const cluster = theClusters + clustersPtrOffset;\n",
    "    float * const clusterMask = theClusterMasks + clustersPtrOffset;\n",
    "    \n",
    "    memset(cluster, 0, sizeof(cluster[0]) * theHpVecLen);\n",
    "    memset(clusterMask, 0, sizeof(cluster[0]) * theHpVecLen);\n",
    "\n",
    "    for(int i = 0; i < nzbCount; i++) {\n",
    "        const int bitNo = nzb[i];\n",
    "        cluster[bitNo] = 1;\n",
    "        clusterMask[bitNo] = 1;\n",
    "    }\n",
    "\n",
    "    theClusterOutputBits[clusterInd] = theClusterOutputBitsLocal[localClusterInd];\n",
    "    theClusterNus[clusterInd] = 1.0f / nzbCount;\n",
    "    memcpy(\n",
    "        theClusterBinarizationSchedules + clusterInd * theHpBinarizationScheduleSize, \n",
    "        theHpBinarizationScheduleTemplate, \n",
    "        theHpBinarizationScheduleSize * sizeof(theHpBinarizationScheduleTemplate[0]));\n",
    "    theClusterBinarizationCountdowns[clusterInd] = theHpBinarizationScheduleTemplate[0];\n",
    "}\n",
    "''', 'init_new_clusters')\n",
    "cuda_init_new_clusters.compile()"
   ]
  },
  {
   "cell_type": "markdown",
   "id": "37d190e8-0822-4061-ae4f-fbd949e3e7b0",
   "metadata": {},
   "source": [
    "### cuda_learn_clusters"
   ]
  },
  {
   "cell_type": "code",
   "execution_count": 89,
   "id": "8c65ca16-a14b-410d-8b99-1a6b1119823e",
   "metadata": {},
   "outputs": [],
   "source": [
    "cuda_learn_clusters = cp.RawKernel(r'''\n",
    "#include <assert.h>\n",
    "\n",
    "extern \"C\" __device__\n",
    "void binarize_cluster(\n",
    "    // INPUT\n",
    "    const int theHpVecLen,\n",
    "    const int theHpPointNonZeroBits,\n",
    "    const float theHpBinarizeThres,\n",
    "    const int theHpBinarizationScheduleSize,\n",
    "    // INPUT-OUTPUT \n",
    "    float * theCluster,    // vector[theHpVecLen]\n",
    "    float * const theMask, // vector[theHpVecLen]\n",
    "    float * const theNu, // pointer to scalar\n",
    "    int * const theBinarizationSchedule, // vector[theHpBinarizationScheduleSize]\n",
    "    int * const theBinarizationCountdown, // pointer to scalar\n",
    "    // OUTPUT\n",
    "    int * const theNzbCount, // pointer to scalar\n",
    "    int * const theNzb, // vector[theHpPointNonZeroBits]\n",
    "    bool * const theIsReady // pointer to scalar\n",
    ") {\n",
    "    assert(!*theIsReady);\n",
    "    int nzbInd = 0;\n",
    "\n",
    "    for(int i = 0; i < theHpVecLen; i++) {\n",
    "        const int v = theCluster[i] > theHpBinarizeThres ? 1 : 0;\n",
    "        theCluster[i] = v;\n",
    "        theMask[i] = v;\n",
    "        \n",
    "        if(v > 0) {\n",
    "            assert(nzbInd < theHpPointNonZeroBits);\n",
    "            theNzb[nzbInd] = i;\n",
    "            nzbInd++;\n",
    "        }\n",
    "    }\n",
    "      \n",
    "    *theNzbCount = nzbInd;\n",
    "    *theNu = 1.0f / nzbInd;\n",
    "    \n",
    "    // Can't use memmove within __device__ function =(, so do array rolling by hand\n",
    "    for(int i = 0; i < theHpBinarizationScheduleSize - 1; i++)\n",
    "        theBinarizationSchedule[i] = theBinarizationSchedule[i + 1];\n",
    "        \n",
    "    theBinarizationSchedule[theHpBinarizationScheduleSize - 1] = 0;\n",
    "    *theBinarizationCountdown = theBinarizationSchedule[0];\n",
    "    *theIsReady = *theBinarizationCountdown == 0;\n",
    "}\n",
    "\n",
    "extern \"C\" __global__\n",
    "void learn_clusters(\n",
    "    // INPUT\n",
    "    const int theHpVecLen,\n",
    "    const int theHpPointNonZeroBits,\n",
    "    const float theHpBinarizeThres,\n",
    "    const int theHpClusterOnesCountThres,\n",
    "    const int theHpBinarizationScheduleSize,\n",
    "    const int theSignalsCount,\n",
    "    const float * const theSignalsInput,  // matrix[theSignalsCount][theHpVecLen]\n",
    "    const float * const theSignalsOutput,  // matrix[theSignalsCount][theHpVecLen]\n",
    "    const int theClustersCount,\n",
    "    const int * const theClusterInds, // vector[theClustersCount], mapping from local clusterInd to real clusterInd\n",
    "    const int * const theClusterOutputBits, // vector[theClustersCount]\n",
    "    // INPUT-OUTPUT (results are retained over calls, i.e. non-idempotent)\n",
    "    float * theClusters,    // matrix[**realClustersCount**][theHpVecLen]\n",
    "    float * const theClusterMasks, // matrix[**realClustersCount**][theHpVecLen]\n",
    "    float * const theClusterNus, // vector[**realClustersCount**]\n",
    "    int * const theClusterBinarizationSchedules, // matrix[**realClustersCount**][theHpBinarizationScheduleSize]\n",
    "    int * const theClusterBinarizationCountdowns, // vector[**realClustersCount**]\n",
    "    // OUTPUT\n",
    "    int * const theClusterNzbCounts, // vector[theClustersCount]\n",
    "    int * const theClusterNzbs, // matrix[theClustersCount][theHpPointNonZeroBits]\n",
    "    bool * const theClusterIsChangedBoolmap, // vector[theClustersCount]\n",
    "    bool * const theClusterIsBinarizedBoolmap, // vector[theClustersCount]\n",
    "    bool * const theClusterIsReadyBoolmap // vector[theClustersCount]\n",
    ") { \n",
    "    const int localClusterInd = blockDim.x * blockIdx.x + threadIdx.x;\n",
    "\n",
    "    if(localClusterInd >= theClustersCount)\n",
    "        return;\n",
    "\n",
    "    // attend to local output data\n",
    "    int * const nzbCount = &theClusterNzbCounts[localClusterInd];\n",
    "    int * const nzb = theClusterNzbs + localClusterInd * theHpPointNonZeroBits;\n",
    "    bool * const isChanged = &theClusterIsChangedBoolmap[localClusterInd];\n",
    "    bool * const isBinarized = &theClusterIsBinarizedBoolmap[localClusterInd];\n",
    "    bool * const isReady = &theClusterIsReadyBoolmap[localClusterInd];\n",
    "\n",
    "    // attend to real output data\n",
    "    const int clusterInd = theClusterInds[localClusterInd];\n",
    "    const int outputBit = theClusterOutputBits[clusterInd];\n",
    "    const auto clustersPtrOffset = clusterInd * theHpVecLen;\n",
    "    float * const cluster = theClusters + clustersPtrOffset;\n",
    "    float * const mask = theClusterMasks + clustersPtrOffset;\n",
    "    float * const nu = &theClusterNus[clusterInd];\n",
    "    int * const binarizationSchedule = theClusterBinarizationSchedules + clusterInd * theHpBinarizationScheduleSize;\n",
    "    int * const binarizationCountdown = &theClusterBinarizationCountdowns[clusterInd];\n",
    "\n",
    "    {\n",
    "        int nzbInd = 0;\n",
    "\n",
    "        for(int i = 0; i < theHpVecLen; i++) {\n",
    "            if(mask[i] > 0) {\n",
    "                assert(nzbInd < theHpPointNonZeroBits);\n",
    "                nzb[nzbInd] = i;\n",
    "                nzbInd++;\n",
    "            }\n",
    "        }\n",
    "\n",
    "        *nzbCount = nzbInd;\n",
    "    }\n",
    "\n",
    "    *isChanged = false;\n",
    "    *isBinarized = false;\n",
    "    assert(*binarizationCountdown >= 0);\n",
    "    *isReady = *binarizationCountdown == 0 && binarizationSchedule[0] == 0;\n",
    "\n",
    "    if(*isReady)\n",
    "        return;\n",
    "\n",
    "    for(int signalInd = 0; signalInd < theSignalsCount && !*isReady; signalInd++) {\n",
    "        if(*binarizationCountdown <= 0) {\n",
    "            binarize_cluster(\n",
    "                theHpVecLen, theHpPointNonZeroBits, theHpBinarizeThres, theHpBinarizationScheduleSize,\n",
    "                cluster, mask, nu, binarizationSchedule, binarizationCountdown,\n",
    "                nzbCount, nzb, isReady\n",
    "            );\n",
    "            *isChanged = false;\n",
    "            *isBinarized = true;\n",
    "\n",
    "            assert(*binarizationCountdown >= 0);\n",
    "            assert((*binarizationCountdown == 0 && *isReady) || (*binarizationCountdown > 0 && !*isReady));\n",
    "            \n",
    "            if(*isReady) \n",
    "                continue;\n",
    "        }\n",
    "    \n",
    "        const auto signalsPtrOffset = signalInd * theHpVecLen;\n",
    "        const float * const signalInput = theSignalsInput + signalsPtrOffset;\n",
    "        const float * const signalOutput = theSignalsOutput + signalsPtrOffset;\n",
    "    \n",
    "        if(!signalOutput[outputBit])\n",
    "            continue;\n",
    "    \n",
    "        float activationStrength = 0.0f;\n",
    "        int bitsTouched = 0;\n",
    "        \n",
    "        for(int i = 0; i < theHpVecLen; i++) {\n",
    "            const int inputBitValue = signalInput[i]; // binary value (1 or 0)\n",
    "            activationStrength += inputBitValue ? cluster[i] : 0;\n",
    "            bitsTouched += inputBitValue ? mask[i] : 0;\n",
    "        }\n",
    "    \n",
    "        if(bitsTouched < theHpClusterOnesCountThres)\n",
    "            continue;\n",
    "    \n",
    "        const float k = (*nu) * activationStrength;\n",
    "        float maxWeight = 0.0f;\n",
    "        \n",
    "        for(int i = 0; i < theHpVecLen; i++) {\n",
    "            if(mask[i]) {\n",
    "                const float updatedWeight = cluster[i] + k * signalInput[i];\n",
    "                cluster[i] = updatedWeight;\n",
    "                maxWeight = fmax(maxWeight, updatedWeight);\n",
    "            }\n",
    "        }\n",
    "    \n",
    "        for(int i = 0; i < theHpVecLen; i++) {\n",
    "            cluster[i] /= maxWeight;\n",
    "        }\n",
    "    \n",
    "        *binarizationCountdown -= 1;\n",
    "        assert(*binarizationCountdown >= 0);\n",
    "        *isChanged = *isBinarized ? false : true;\n",
    "    }\n",
    "\n",
    "    if(*binarizationCountdown <= 0 && !*isReady) {\n",
    "        binarize_cluster(\n",
    "            theHpVecLen, theHpPointNonZeroBits, theHpBinarizeThres, theHpBinarizationScheduleSize,\n",
    "            cluster, mask, nu, binarizationSchedule, binarizationCountdown,\n",
    "            nzbCount, nzb, isReady\n",
    "        );\n",
    "        *isChanged = false;\n",
    "        *isBinarized = true;\n",
    "        assert(*binarizationCountdown >= 0);\n",
    "        assert((*binarizationCountdown == 0 && *isReady) || (*binarizationCountdown > 0 && !*isReady));\n",
    "    }\n",
    "}\n",
    "''', 'learn_clusters', backend='nvcc')\n",
    "cuda_learn_clusters.compile()"
   ]
  },
  {
   "cell_type": "markdown",
   "id": "6beed0bc-2c99-476c-baca-5b9879f10d72",
   "metadata": {},
   "source": [
    "### cuda_migrate_clusters"
   ]
  },
  {
   "cell_type": "code",
   "execution_count": 90,
   "id": "84565f85-9b5c-4e95-a03d-a2be6a85d396",
   "metadata": {},
   "outputs": [],
   "source": [
    "cuda_migrate_clusters = cp.RawKernel(r'''\n",
    "const int CLUSTER_IND_MAPPING_SIZE = 2;\n",
    "\n",
    "extern \"C\" __global__\n",
    "void migrate_clusters(\n",
    "    // INPUT\n",
    "    const int theHpVecLen,\n",
    "    const int theClusterIndMappingsCount,\n",
    "    const int * const theClusterIndMappings, // matrix [theClustersCount][CLUSTER_IND_MAPPING_SIZE] - each row is a pair (mapping) fromClusterInd -> toClusterInd\n",
    "    const float * const theSourceClusters,   // matrix[**realClustersCount**][theHpVecLen]\n",
    "    // OUTPUT\n",
    "    float * const theTargetClusters,      // matrix[**realClustersCount**][theHpVecLen]\n",
    "    float * const theTargetClusterMasks,  // matrix[**realClustersCount**][theHpVecLen], may be null if update is not needed\n",
    "    float * const theTargetClusterNus     // vector[**realClustersCount**], may be null if update is not needed\n",
    ") { \n",
    "    const int mappingInd = blockDim.x * blockIdx.x + threadIdx.x;\n",
    "\n",
    "    if(mappingInd >= theClusterIndMappingsCount)\n",
    "        return;\n",
    "\n",
    "    const int * const mapping = &theClusterIndMappings[mappingInd * CLUSTER_IND_MAPPING_SIZE];\n",
    "    const int sourceClusterInd = mapping[0];\n",
    "    const int targetClusterInd = mapping[1];\n",
    "    const float * const sourceCluster = &theSourceClusters[sourceClusterInd * theHpVecLen];\n",
    "    float * const targetCluster = &theTargetClusters[targetClusterInd * theHpVecLen];\n",
    "\n",
    "    memcpy(targetCluster, sourceCluster, sizeof(sourceCluster[0]) * theHpVecLen);\n",
    "\n",
    "    if(theTargetClusterMasks) {\n",
    "        float * const targetClusterMask = &theTargetClusterMasks[targetClusterInd * theHpVecLen];\n",
    "        memcpy(targetCluster, targetClusterMask, sizeof(sourceCluster[0]) * theHpVecLen);\n",
    "    }\n",
    "\n",
    "    if(theTargetClusterNus) {\n",
    "        int nzbCount = 0;\n",
    "\n",
    "        for(int i = 0; i < theHpVecLen; i++) \n",
    "            nzbCount += targetCluster[i] > 0.0f ? 1 : 0;\n",
    "        \n",
    "        theTargetClusterNus[targetClusterInd] = 1.0f / nzbCount;\n",
    "    }\n",
    "}\n",
    "''', 'migrate_clusters')\n",
    "cuda_migrate_clusters.compile()"
   ]
  },
  {
   "cell_type": "markdown",
   "id": "71c9c0ac-6e3c-4c2a-9812-7017ac8fdef8",
   "metadata": {},
   "source": [
    "## Train Loop"
   ]
  },
  {
   "cell_type": "code",
   "execution_count": null,
   "id": "c41623aa-fa2a-4e90-87da-68b83618c88b",
   "metadata": {},
   "outputs": [],
   "source": []
  },
  {
   "cell_type": "code",
   "execution_count": null,
   "id": "b275d3f5-0c68-429c-bd65-c70a6cf9a7f2",
   "metadata": {},
   "outputs": [],
   "source": []
  },
  {
   "cell_type": "code",
   "execution_count": 102,
   "id": "a2366ea9-8171-4373-b8ce-9cc0299c365f",
   "metadata": {},
   "outputs": [
    {
     "data": {
      "application/vnd.jupyter.widget-view+json": {
       "model_id": "6f96285d930242a7995b563f4d75ede0",
       "version_major": 2,
       "version_minor": 0
      },
      "text/plain": [
       "Epoch:   0%|          | 0/1 [00:00<?, ?it/s]"
      ]
     },
     "metadata": {},
     "output_type": "display_data"
    },
    {
     "data": {
      "application/vnd.jupyter.widget-view+json": {
       "model_id": "b18b21f1c1554d0982a8cd0c5b2364c6",
       "version_major": 2,
       "version_minor": 0
      },
      "text/plain": [
       "Output bit batch:   0%|          | 0/4 [00:00<?, ?it/s]"
      ]
     },
     "metadata": {},
     "output_type": "display_data"
    },
    {
     "data": {
      "application/vnd.jupyter.widget-view+json": {
       "model_id": "bd5a3982404f47be8ebe3fac5b8f6ef2",
       "version_major": 2,
       "version_minor": 0
      },
      "text/plain": [
       "Cycle:   0%|          | 0/1000 [00:00<?, ?it/s]"
      ]
     },
     "metadata": {},
     "output_type": "display_data"
    },
    {
     "name": "stderr",
     "output_type": "stream",
     "text": [
      "Process ForkProcess-15:\n",
      "Traceback (most recent call last):\n",
      "  File \"/home/misha/anaconda3/envs/mine/lib/python3.12/multiprocessing/process.py\", line 314, in _bootstrap\n",
      "    self.run()\n",
      "  File \"/home/misha/anaconda3/envs/mine/lib/python3.12/multiprocessing/process.py\", line 108, in run\n",
      "    self._target(*self._args, **self._kwargs)\n",
      "  File \"/tmp/ipykernel_643527/3809806169.py\", line 37, in async_signals_generator_fun\n",
      "    sgr = generator()\n",
      "          ^^^^^^^^^^^\n"
     ]
    },
    {
     "ename": "KeyboardInterrupt",
     "evalue": "",
     "output_type": "error",
     "traceback": [
      "\u001b[0;31m---------------------------------------------------------------------------\u001b[0m",
      "\u001b[0;31mKeyboardInterrupt\u001b[0m                         Traceback (most recent call last)",
      "Cell \u001b[0;32mIn[102], line 172\u001b[0m\n\u001b[1;32m    169\u001b[0m     new_clusters_creation_rate_calc(\u001b[38;5;241m0\u001b[39m)\n\u001b[1;32m    170\u001b[0m     \u001b[38;5;28;01mcontinue\u001b[39;00m\n\u001b[0;32m--> 172\u001b[0m nzb_counts \u001b[38;5;241m=\u001b[39m xp\u001b[38;5;241m.\u001b[39mzeros(active_point_inds\u001b[38;5;241m.\u001b[39mshape[\u001b[38;5;241m0\u001b[39m], dtype\u001b[38;5;241m=\u001b[39m\u001b[38;5;124m'\u001b[39m\u001b[38;5;124mi\u001b[39m\u001b[38;5;124m'\u001b[39m)\n\u001b[1;32m    173\u001b[0m nzbs \u001b[38;5;241m=\u001b[39m xp\u001b[38;5;241m.\u001b[39mfull((active_point_inds\u001b[38;5;241m.\u001b[39mshape[\u001b[38;5;241m0\u001b[39m], HP_POINT_NON_ZERO_BITS), \u001b[38;5;241m-\u001b[39m\u001b[38;5;241m1\u001b[39m, dtype\u001b[38;5;241m=\u001b[39m\u001b[38;5;124m'\u001b[39m\u001b[38;5;124mi\u001b[39m\u001b[38;5;124m'\u001b[39m)\n\u001b[1;32m    174\u001b[0m cuda_block_size \u001b[38;5;241m=\u001b[39m \u001b[38;5;241m256\u001b[39m\n",
      "File \u001b[0;32m~/anaconda3/envs/mine/lib/python3.12/site-packages/cupy/_creation/basic.py:231\u001b[0m, in \u001b[0;36mzeros\u001b[0;34m(shape, dtype, order)\u001b[0m\n\u001b[1;32m    227\u001b[0m     a\u001b[38;5;241m.\u001b[39mfill(\u001b[38;5;241m1\u001b[39m)\n\u001b[1;32m    228\u001b[0m     \u001b[38;5;28;01mreturn\u001b[39;00m a\n\u001b[0;32m--> 231\u001b[0m \u001b[38;5;28;01mdef\u001b[39;00m \u001b[38;5;21mzeros\u001b[39m(\n\u001b[1;32m    232\u001b[0m         shape: _ShapeLike,\n\u001b[1;32m    233\u001b[0m         dtype: DTypeLike \u001b[38;5;241m=\u001b[39m \u001b[38;5;28mfloat\u001b[39m,\n\u001b[1;32m    234\u001b[0m         order: _OrderCF \u001b[38;5;241m=\u001b[39m \u001b[38;5;124m'\u001b[39m\u001b[38;5;124mC\u001b[39m\u001b[38;5;124m'\u001b[39m,\n\u001b[1;32m    235\u001b[0m ) \u001b[38;5;241m-\u001b[39m\u001b[38;5;241m>\u001b[39m NDArray[Any]:\n\u001b[1;32m    236\u001b[0m \u001b[38;5;250m    \u001b[39m\u001b[38;5;124;03m\"\"\"Returns a new array of given shape and dtype, filled with zeros.\u001b[39;00m\n\u001b[1;32m    237\u001b[0m \n\u001b[1;32m    238\u001b[0m \u001b[38;5;124;03m    Args:\u001b[39;00m\n\u001b[0;32m   (...)\u001b[0m\n\u001b[1;32m    248\u001b[0m \n\u001b[1;32m    249\u001b[0m \u001b[38;5;124;03m    \"\"\"\u001b[39;00m\n\u001b[1;32m    250\u001b[0m     a \u001b[38;5;241m=\u001b[39m cupy\u001b[38;5;241m.\u001b[39mndarray(shape, dtype, order\u001b[38;5;241m=\u001b[39morder)\n",
      "\u001b[0;31mKeyboardInterrupt\u001b[0m: "
     ]
    },
    {
     "name": "stderr",
     "output_type": "stream",
     "text": [
      "  File \"/tmp/ipykernel_643527/2377229686.py\", line 33, in __call__\n",
      "    pixel_feature_inds_output = xy_list_to_pixel_feature_inds(xy_list_transf) # can be used when there is no overlap among pixel features\n",
      "                                ^^^^^^^^^^^^^^^^^^^^^^^^^^^^^^^^^^^^^^^^^^^^^\n",
      "  File \"/tmp/ipykernel_643527/253985231.py\", line 2, in xy_list_to_pixel_feature_inds\n",
      "    ohe_vec = xy_list_to_ohe_vec(xy_list)\n",
      "              ^^^^^^^^^^^^^^^^^^^^^^^^^^^\n",
      "  File \"/tmp/ipykernel_643527/2581235140.py\", line 25, in xy_list_to_ohe_vec\n",
      "    vec = np.zeros(config.sample_size ** 2, dtype='f')\n",
      "          ^^^^^^^^^^^^^^^^^^^^^^^^^^^^^^^^^^^^^^^^^^^^\n",
      "KeyboardInterrupt\n"
     ]
    }
   ],
   "source": [
    "# batch_output_bits_filter = lambda s, e: True\n",
    "# batch_output_bits_filter = lambda s, e: s >= 500\n",
    "batch_output_bits_filter = lambda s, e: s >= 750 and s < 1000\n",
    "\n",
    "if 'signals_generator' in globals():\n",
    "    if isinstance(signals_generator, AsyncSignalsGenerator):\n",
    "        signals_generator.terminate()\n",
    "        del signals_generator\n",
    "\n",
    "# signals_generator = AsyncSignalsGenerator(RealImageSignalsGenerator, TRANSF, HP_NEW_SIGNALS_COUNT_PER_CYCLE, 10)\n",
    "# signals_generator = AsyncSignalsGenerator(RollingPixelFeatureSignalsGenerator, TRANSF, HP_NEW_SIGNALS_COUNT_PER_CYCLE, 1)\n",
    "# signals_generator = AsyncSignalsGenerator(PooledPixelFeatureSignalsGenerator, TRANSF, HP_NEW_SIGNALS_COUNT_PER_CYCLE, 160, 200)\n",
    "signals_generator = AsyncSignalsGenerator(PooledPixelFeatureSignalsGenerator, TRANSF, HP_NEW_SIGNALS_COUNT_PER_CYCLE, 100)\n",
    "\n",
    "persist_prod_clusters_governeur = interval_governeur(HP_PERSIST_PROD_CLUSTERS_INTERVAL, persist_prod_clusters)\n",
    "\n",
    "for epoch in tqdm(range(HP_EPOCHS_COUNT), desc='Epoch'):\n",
    "    with LOG.auto_prefix('EPOCH', epoch):\n",
    "        for start_output_bit in tqdm(range(0, HP_SIGNAL_VEC_LEN, HP_OUTPUT_BITS_PER_BATCH), leave=False, desc='Output bit batch'):\n",
    "            end_output_bit = start_output_bit + HP_OUTPUT_BITS_PER_BATCH - 1\n",
    "            end_output_bit = min(end_output_bit, HP_SIGNAL_VEC_LEN - 1)\n",
    "            assert end_output_bit >= start_output_bit, (start_output_bit, end_output_bit)\n",
    "\n",
    "            if not batch_output_bits_filter(start_output_bit, end_output_bit):\n",
    "                continue\n",
    "            \n",
    "            with LOG.auto_prefix('OBITS', f'{start_output_bit}:{end_output_bit}'):\n",
    "                CLUSTERS_SIDECAR = ClustersSidecar()\n",
    "                CLUSTERS = HdvArray(HP_SIGNAL_VEC_LEN, xp, initial_length=100_000, dtype='f', grow_policy=hdv_array_log_like_grow_policy, observer=CLUSTERS_SIDECAR)\n",
    "                CLUSTER_METAS = {}\n",
    "\n",
    "                LEARN_CLUSTERS_SIDECAR = None\n",
    "                LEARN_CLUSTERS = None\n",
    "                LEARN_CLUSTER_METAS = None\n",
    "\n",
    "                def reset_learn_clusters():\n",
    "                    global LEARN_CLUSTERS_SIDECAR, LEARN_CLUSTERS, LEARN_CLUSTER_METAS\n",
    "                    LEARN_CLUSTERS_SIDECAR = LearnClustersSidecar()\n",
    "                    LEARN_CLUSTERS = HdvArray(HP_SIGNAL_VEC_LEN, xp, initial_length=100_000, dtype='f', grow_policy=hdv_array_log_like_grow_policy, observer=LEARN_CLUSTERS_SIDECAR)\n",
    "                    LEARN_CLUSTER_METAS = {}\n",
    "                    LOG('LEARN clusters reset')\n",
    "\n",
    "                reset_learn_clusters()\n",
    "                reset_learn_clusters_governeur = interval_governeur(HP_RESET_LEARN_CLUSTERS_INTERVAL, reset_learn_clusters)\n",
    "                \n",
    "                ## Select points for output bits (OBITS)\n",
    "                points_mask = (POINT_OUTPUT_BITS >= start_output_bit) & (POINT_OUTPUT_BITS <= end_output_bit)\n",
    "                points = xp_array_to_gpu(POINTS[points_mask])\n",
    "                point_output_bits = POINT_OUTPUT_BITS[points_mask]\n",
    "                point_inds = np.arange(points.shape[0], dtype='i')\n",
    "                LOG(f'{points.shape[0]} combinatorial points selected for output bits {start_output_bit}:{end_output_bit}, avg. points per output bit={points.shape[0] / ((end_output_bit - start_output_bit) + 1):.0f}')\n",
    "                assert points.shape[0] > 0\n",
    "\n",
    "                ## Restore prod clusters for output bits (OBITS)\n",
    "                df_clusters = pd.read_sql('SELECT ROWID, output_bit, metas, nzb_list FROM clusters WHERE encoding=:encoding AND transf_code=:transf_code ' + \n",
    "                                          'AND output_bit>=:start_output_bit AND output_bit<=:end_output_bit', \n",
    "                                          params={\n",
    "                                              'encoding': HP_SIGNAL_ENCODING, \n",
    "                                              'transf_code': TRANSF_CODE,\n",
    "                                              'start_output_bit': start_output_bit, \n",
    "                                              'end_output_bit': end_output_bit}, \n",
    "                                          con=transfs_db_con)\n",
    "                \n",
    "                clusters = []\n",
    "                cluster_inds = []\n",
    "                \n",
    "                for cluster_row in df_clusters.itertuples():\n",
    "                    cluster_nzb_list_for_output_bit = pickle.loads(cluster_row.nzb_list)\n",
    "                    cluster_metas_for_output_bit = pickle.loads(cluster_row.metas)\n",
    "                    assert len(cluster_nzb_list_for_output_bit) == len(cluster_metas_for_output_bit)\n",
    "\n",
    "                    for nzb, meta in zip(cluster_nzb_list_for_output_bit, cluster_metas_for_output_bit):\n",
    "                        assert len(nzb) > 0\n",
    "                        cluster = np.zeros(HP_SIGNAL_VEC_LEN, dtype='f')\n",
    "                        cluster[nzb] = 1\n",
    "                        clusters.append(cluster)\n",
    "                        \n",
    "                        cluster_ind = CLUSTERS.lease()\n",
    "                        meta.cluster_ind = cluster_ind\n",
    "                        cluster_inds.append(cluster_ind)\n",
    "                        \n",
    "                        CLUSTER_METAS[cluster_ind] = meta\n",
    "                        CLUSTERS_SIDECAR.sync(meta)\n",
    "\n",
    "                    LOG(f'Loaded {len(cluster_metas_for_output_bit)} clusters for output bit {cluster_row.output_bit} (ROWID={cluster_row.rowid})')\n",
    "\n",
    "                if clusters:\n",
    "                    assert len(clusters) == len(cluster_inds)\n",
    "                    CLUSTERS.array[cluster_inds] = np.vstack(clusters)\n",
    "                    assert len(CLUSTER_METAS) == CLUSTERS.len\n",
    "                    \n",
    "                LOG(f'Loaded {len(CLUSTER_METAS)} clusters in total for encoding=\"{HP_SIGNAL_ENCODING}\" and transf_code=\"{TRANSF_CODE}\"')\n",
    "\n",
    "                unique_cluster_keys = set(map(lambda m: m.cluster_key, CLUSTER_METAS.values()))\n",
    "                assert len(unique_cluster_keys) == len(CLUSTER_METAS)\n",
    "                new_clusters_creation_rate_calc = AverageFilter()\n",
    "\n",
    "                sgr = DummySignalsGeneratorResult()\n",
    "                \n",
    "                def switch_signals_generator():\n",
    "                    global sgr\n",
    "                    sgr = DummySignalsGeneratorResult()\n",
    "                    signals_generator.switch()\n",
    "                    LOG('Signals generator switched')\n",
    "                    \n",
    "                switch_signals_generator_governeur = interval_governeur(HP_RESET_LEARN_CLUSTERS_INTERVAL, switch_signals_generator)\n",
    "\n",
    "                stats_signals_processed_count = 0\n",
    "                stats_parent_signals_count = 0\n",
    "                stats_learn_clusters_created_count = 0\n",
    "                \n",
    "                def report_stats():\n",
    "                    global stats_signals_processed_count, stats_parent_signals_count, stats_learn_clusters_created_count\n",
    "                    LOG(f'STATS: total signals={stats_signals_processed_count:_}')\n",
    "                    LOG(f'STATS: parent signals={stats_parent_signals_count:_}')\n",
    "                    LOG(f'STATS: learn clusters created={stats_learn_clusters_created_count:_}')\n",
    "                    stats_signals_processed_count = 0\n",
    "                    stats_parent_signals_count = 0\n",
    "                    stats_learn_clusters_created_count = 0\n",
    "                \n",
    "                report_stats_governeur = interval_governeur(HP_RESET_LEARN_CLUSTERS_INTERVAL, report_stats)\n",
    "                \n",
    "                ## Mine clusters\n",
    "                for cycle in tqdm(range(HP_CYCLES_COUNT), leave=False, desc='Cycle'):\n",
    "                    with LOG.auto_prefix('CYCLE', cycle):\n",
    "                        LOG(f'===')\n",
    "                        persist_prod_clusters_governeur()\n",
    "                        switch_signals_generator_governeur()\n",
    "                        reset_learn_clusters_governeur()\n",
    "                        report_stats_governeur()\n",
    "                        \n",
    "                        ### General stats reporting\n",
    "                        cluster_states = {}\n",
    "                        cluster_states.update(LEARN_CLUSTERS_SIDECAR.cluster_states_counter.most_common())\n",
    "                        cluster_states.update(CLUSTERS_SIDECAR.cluster_states_counter.most_common())\n",
    "                        cluster_states = dict(filter(lambda kv: kv[1] != 0, cluster_states.items())) # retain only states with non-zero counts (eases inspection by eyes)\n",
    "                        check_count = cluster_states.get(ClusterState.LEARN.name, 0)\n",
    "                        assert check_count == len(LEARN_CLUSTER_METAS)\n",
    "                        check_count = sum(map(lambda cs: cluster_states.get(cs.name, 0), [ClusterState.PROD_CANDIDATE, ClusterState.PROD_WORK, ClusterState.PROD_ETERNAL]))\n",
    "                        assert check_count == len(CLUSTER_METAS)\n",
    "                        LOG(f'Cycle {cycle} started, clusters: {cluster_states}, LEARN_CLUSTERS.array.shape={LEARN_CLUSTERS.array.shape}, CLUSTERS.array.shape={CLUSTERS.array.shape}')\n",
    "                        \n",
    "                        ### Prepare input and output signals for training\n",
    "                        prev_cycle_sgr = sgr\n",
    "                        sgr = signals_generator()\n",
    "                        sgr = sgr._replace(signals_input=xp_array_to_gpu(sgr.signals_input))\n",
    "                        assert len(sgr.signal_ids) == sgr.signals_input.shape[0]\n",
    "                        assert sgr.signals_input.shape[0] == sgr.signals_output.shape[0]\n",
    "                        stats_signals_processed_count += sgr.signals_input.shape[0]\n",
    "                        LOG(f'Prepared {sgr.signals_input.shape[0]} signals')\n",
    "                        # assert False\n",
    "\n",
    "                        ### Create new clusters\n",
    "                        learn_clusters_count = len(LEARN_CLUSTER_METAS)\n",
    "                        new_cluster_inds = []\n",
    "                        new_cluster_attrs_list = namedtuple('NewClusterAttrsList', ['output_bits', 'nzb_counts', 'nzbs'])([], [], [])\n",
    "                        signals_count_for_new_clusters = 0\n",
    "\n",
    "                        # Create clusters from prev sgr to avoid situation when clusters are created and get immediately learned on the same data\n",
    "                        for signal_input, signal_output in zip(prev_cycle_sgr.signals_input, prev_cycle_sgr.signals_output):\n",
    "                            if learn_clusters_count + new_clusters_creation_rate_calc.value > HP_LEARN_CLUSTERS_COUNT_SOFT_LIMIT:\n",
    "                                break\n",
    "                                \n",
    "                            signals_count_for_new_clusters += 1\n",
    "                            active_points_boolmap = signal_output[point_output_bits] != 0\n",
    "                            active_point_inds = point_inds[active_points_boolmap]\n",
    "\n",
    "                            if active_point_inds.shape[0] == 0:\n",
    "                                new_clusters_creation_rate_calc(0)\n",
    "                                continue\n",
    "                                \n",
    "                            nzb_counts = xp.zeros(active_point_inds.shape[0], dtype='i')\n",
    "                            nzbs = xp.full((active_point_inds.shape[0], HP_POINT_NON_ZERO_BITS), -1, dtype='i')\n",
    "                            cuda_block_size = 256\n",
    "                            cuda_blocks_count = math.ceil(active_point_inds.shape[0] / cuda_block_size)\n",
    "                            cuda_get_source_data_for_new_clusters(\n",
    "                                (cuda_blocks_count, ), (cuda_block_size,),\n",
    "                                (\n",
    "                                    # INPUT\n",
    "                                    cp.int32(HP_SIGNAL_VEC_LEN),\n",
    "                                    cp.int32(HP_POINT_NON_ZERO_BITS),\n",
    "                                    cp.int32(HP_CLUSTER_CREATION_ONES_COUNT_THRES),\n",
    "                                    ensure_dtype(signal_input, cp.float32),\n",
    "                                    cp.int32(active_point_inds.shape[0]), \n",
    "                                    ensure_dtype(xp_array_to_gpu(active_point_inds), cp.int32),\n",
    "                                    ensure_dtype(points, cp.float32),\n",
    "                                    # OUTPUT\n",
    "                                    ensure_dtype(nzb_counts, cp.int32),\n",
    "                                    ensure_dtype(nzbs, cp.int32)\n",
    "                                 )\n",
    "                            )\n",
    "\n",
    "                            nzb_counts_cpu = xp_array_from_gpu(nzb_counts)\n",
    "                            nzbs_cpu = xp_array_from_gpu(nzbs)\n",
    "                            valid_inds_boolmap = nzb_counts_cpu > 0\n",
    "                            learn_clusters_count0 = learn_clusters_count\n",
    "                            \n",
    "                            for point_ind, nzb_count, nzb in zip(active_point_inds[valid_inds_boolmap], nzb_counts_cpu[valid_inds_boolmap], nzbs_cpu[valid_inds_boolmap]):\n",
    "                                active_output_bit = int(point_output_bits[point_ind])\n",
    "                                assert nzb_count >= HP_CLUSTER_CREATION_ONES_COUNT_THRES\n",
    "                                active_input_bits = nzb[:nzb_count]\n",
    "                                cluster_key = get_cluster_key(active_output_bit, active_input_bits) \n",
    "                        \n",
    "                                if cluster_key in unique_cluster_keys:\n",
    "                                    continue\n",
    "                        \n",
    "                                # GPU doesn't honor frequent uploads of data - it renders way to slow execution.\n",
    "                                # as such during clusters-creation-loop a) stage new clusters on CPU b) reserve indices in GPU array\n",
    "                                # At the end bulk upload to GPU\n",
    "                                cluster_ind = LEARN_CLUSTERS.lease() \n",
    "                                new_cluster_inds.append(cluster_ind)\n",
    "                                new_cluster_attrs_list.output_bits.append(active_output_bit)\n",
    "                                new_cluster_attrs_list.nzb_counts.append(nzb_count)\n",
    "                                new_cluster_attrs_list.nzbs.append(nzb)\n",
    "                                \n",
    "                                cluster_meta = ClusterMeta(cluster_ind)\n",
    "                                cluster_meta.cluster_key = cluster_key\n",
    "                                cluster_meta.output_bit = active_output_bit\n",
    "                                cluster_meta.input_bits = tuple(map(int, active_input_bits))\n",
    "                                cluster_meta.ones_count = nzb_count\n",
    "                                cluster_meta.last_activity_cycle = cycle\n",
    "                                assert not cluster_ind in LEARN_CLUSTER_METAS\n",
    "                                LEARN_CLUSTER_METAS[cluster_ind] = cluster_meta\n",
    "                                LEARN_CLUSTERS_SIDECAR.sync(cluster_meta)\n",
    "                                unique_cluster_keys.add(cluster_key)\n",
    "                                learn_clusters_count += 1\n",
    "\n",
    "                            assert learn_clusters_count >= learn_clusters_count0\n",
    "                            new_clusters_creation_rate_calc(learn_clusters_count - learn_clusters_count0)\n",
    "\n",
    "                        if new_cluster_inds:\n",
    "                            new_cluster_inds = xp.array(new_cluster_inds, dtype='i')\n",
    "                            cuda_block_size = 256\n",
    "                            cuda_blocks_count = math.ceil(new_cluster_inds.shape[0] / cuda_block_size)\n",
    "                            cuda_init_new_clusters(\n",
    "                                (cuda_blocks_count, ), (cuda_block_size,),\n",
    "                                (\n",
    "                                    # INPUT\n",
    "                                    cp.int32(HP_SIGNAL_VEC_LEN),\n",
    "                                    cp.int32(HP_POINT_NON_ZERO_BITS),\n",
    "                                    cp.int32(HP_CLUSTER_BINARIZATION_SCHEDULE_SIZE),\n",
    "                                    ensure_dtype(xp.array(HP_CLUSTER_LEARN_BINARIZATION_SCHEDULE, dtype='i'), cp.int32),\n",
    "                                    cp.int32(new_cluster_inds.shape[0]), \n",
    "                                    ensure_dtype(new_cluster_inds, cp.int32),\n",
    "                                    ensure_dtype(xp.array(new_cluster_attrs_list.output_bits, dtype='i'), cp.int32),\n",
    "                                    ensure_dtype(xp.array(new_cluster_attrs_list.nzb_counts, dtype='i'), cp.int32),\n",
    "                                    ensure_dtype(xp.array(new_cluster_attrs_list.nzbs, dtype='i'), cp.int32),\n",
    "                                    # OUTPUT\n",
    "                                    ensure_dtype(LEARN_CLUSTERS.array, cp.float32),\n",
    "                                    ensure_dtype(LEARN_CLUSTERS_SIDECAR.masks, cp.float32),\n",
    "                                    ensure_dtype(LEARN_CLUSTERS_SIDECAR.output_bits, cp.int32),\n",
    "                                    ensure_dtype(LEARN_CLUSTERS_SIDECAR.nus, cp.float32),\n",
    "                                    ensure_dtype(LEARN_CLUSTERS_SIDECAR.binarization_schedules, cp.int32),\n",
    "                                    ensure_dtype(LEARN_CLUSTERS_SIDECAR.binarization_countdowns, cp.int32),\n",
    "                                 )\n",
    "                            )\n",
    "                            \n",
    "                        stats_parent_signals_count += signals_count_for_new_clusters\n",
    "                        stats_learn_clusters_created_count += len(new_cluster_inds)\n",
    "                        LOG(f'Created {len(new_cluster_inds)} LEARN clusters from {signals_count_for_new_clusters} signals, create rate={new_clusters_creation_rate_calc.value:.0f} clusters/signal')\n",
    "\n",
    "                        ### Learn clusters and promote to PROD_CANDIDATE those which successfully have passed binarization schedules\n",
    "                        learn_cluster_is_present_boolmap = LEARN_CLUSTERS_SIDECAR.is_present_boolmap[:LEARN_CLUSTERS.active_len]\n",
    "                        learn_cluster_is_dead_boolmap = LEARN_CLUSTERS_SIDECAR.is_dead_boolmap[:LEARN_CLUSTERS.active_len]\n",
    "                        learn_cluster_is_learnable_boolmap = learn_cluster_is_present_boolmap & ~learn_cluster_is_dead_boolmap\n",
    "                        learn_cluster_inds = xp.arange(LEARN_CLUSTERS.active_len, dtype='i')[learn_cluster_is_learnable_boolmap]\n",
    "                        learned_cluster_inds = []\n",
    "                        \n",
    "                        if learn_cluster_inds.shape[0] > 0:\n",
    "                            learn_cluster_is_changed_boolmap = xp.zeros(learn_cluster_inds.shape[0], dtype=bool)\n",
    "                            learn_cluster_is_binarized_boolmap = xp.zeros(learn_cluster_inds.shape[0], dtype=bool)\n",
    "                            learn_cluster_is_ready_boolmap = xp.zeros(learn_cluster_inds.shape[0], dtype=bool)\n",
    "                            learn_cluster_nzb_counts = xp.zeros(learn_cluster_inds.shape[0], dtype='i')\n",
    "                            learn_cluster_nzbs = xp.zeros((learn_cluster_inds.shape[0], HP_POINT_NON_ZERO_BITS), dtype='i')\n",
    "                            cuda_block_size = 256\n",
    "                            cuda_blocks_count = math.ceil(learn_cluster_inds.shape[0] / cuda_block_size)\n",
    "                            cuda_learn_clusters(\n",
    "                                (cuda_blocks_count, ), (cuda_block_size,),\n",
    "                                (\n",
    "                                    # INPUT\n",
    "                                    cp.int32(HP_SIGNAL_VEC_LEN),\n",
    "                                    cp.int32(HP_POINT_NON_ZERO_BITS),\n",
    "                                    cp.float32(HP_CLUSTER_BINARIZE_THRES),\n",
    "                                    cp.int32(HP_CLUSTER_ONES_COUNT_THRES),\n",
    "                                    cp.int32(HP_CLUSTER_BINARIZATION_SCHEDULE_SIZE),\n",
    "                                    cp.int32(sgr.signals_input.shape[0]),\n",
    "                                    ensure_dtype(sgr.signals_input, cp.float32), \n",
    "                                    ensure_dtype(xp_array_to_gpu(sgr.signals_output), cp.float32),\n",
    "                                    cp.int32(learn_cluster_inds.shape[0]), \n",
    "                                    ensure_dtype(learn_cluster_inds, cp.int32), \n",
    "                                    ensure_dtype(LEARN_CLUSTERS_SIDECAR.output_bits, cp.int32), \n",
    "                                    # INPUT-OUTPUT \n",
    "                                    ensure_dtype(LEARN_CLUSTERS.array, cp.float32), \n",
    "                                    ensure_dtype(LEARN_CLUSTERS_SIDECAR.masks, cp.float32),\n",
    "                                    ensure_dtype(LEARN_CLUSTERS_SIDECAR.nus, cp.float32),\n",
    "                                    ensure_dtype(LEARN_CLUSTERS_SIDECAR.binarization_schedules, cp.int32),\n",
    "                                    ensure_dtype(LEARN_CLUSTERS_SIDECAR.binarization_countdowns, cp.int32),\n",
    "                                    # OUTPUT\n",
    "                                    ensure_dtype(learn_cluster_nzb_counts, cp.int32),\n",
    "                                    ensure_dtype(learn_cluster_nzbs, cp.int32),\n",
    "                                    ensure_dtype(learn_cluster_is_changed_boolmap, cp.bool_),\n",
    "                                    ensure_dtype(learn_cluster_is_binarized_boolmap, cp.bool_),\n",
    "                                    ensure_dtype(learn_cluster_is_ready_boolmap, cp.bool_),\n",
    "                                )\n",
    "                            )\n",
    "                            # assert that there must be no intersection between these two ones\n",
    "                            assert xp.all((learn_cluster_is_changed_boolmap & learn_cluster_is_binarized_boolmap) == False) \n",
    "                            \n",
    "                            # Process clusters which only changed their weights\n",
    "                            learn_cluster_is_changed_cluster_inds = xp_array_from_gpu(learn_cluster_inds[learn_cluster_is_changed_boolmap])\n",
    "                            \n",
    "                            for cluster_ind in learn_cluster_is_changed_cluster_inds:\n",
    "                                cluster_meta = LEARN_CLUSTER_METAS[cluster_ind]\n",
    "                                assert cluster_meta.state == ClusterState.LEARN\n",
    "                                cluster_meta.last_activity_cycle = cycle\n",
    "\n",
    "                            LOG(f'Updated weights of {len(learn_cluster_is_changed_cluster_inds)} LEARN clusters')\n",
    "\n",
    "                            # Process clusters which were binarized\n",
    "                            learn_cluster_is_binarized_cluster_inds = xp_array_from_gpu(learn_cluster_inds[learn_cluster_is_binarized_boolmap])\n",
    "                            learn_cluster_is_binarized_nzb_counts = xp_array_from_gpu(learn_cluster_nzb_counts[learn_cluster_is_binarized_boolmap])\n",
    "                            assert learn_cluster_is_binarized_cluster_inds.shape[0] == learn_cluster_is_binarized_nzb_counts.shape[0]\n",
    "                            new_cluster_states = Counter()\n",
    "                            death_reasons = Counter()\n",
    "\n",
    "                            for cluster_ind, nzb_count in zip(learn_cluster_is_binarized_cluster_inds, learn_cluster_is_binarized_nzb_counts):\n",
    "                                cluster_meta = LEARN_CLUSTER_METAS[cluster_ind]\n",
    "                                assert cluster_meta.state == ClusterState.LEARN\n",
    "                                cluster_meta.ones_count = nzb_count\n",
    "                                cluster_meta.last_activity_cycle = cycle\n",
    "\n",
    "                                if cluster_meta.ones_count < HP_CLUSTER_ONES_COUNT_THRES:\n",
    "                                    cluster_meta.state = ClusterState.DEAD\n",
    "                                    new_cluster_states[cluster_meta.state.name] += 1\n",
    "                                    death_reasons['SHORT'] += 1\n",
    "                                    LEARN_CLUSTERS_SIDECAR.sync(cluster_meta)\n",
    "\n",
    "                            LOG(f'Binarized {len(learn_cluster_is_binarized_cluster_inds)} clusters: {new_cluster_states}; death reasons: {death_reasons}')\n",
    "\n",
    "                            # Process clusters which have complete their learning and are ready for promotion to PROD_* level\n",
    "                            migrate_cluster_ind_mappings = []\n",
    "                            prod_candidate_clusters_count = CLUSTERS_SIDECAR.cluster_states_counter[ClusterState.PROD_CANDIDATE.name]\n",
    "                            learn_cluster_is_ready_cluster_inds = xp_array_from_gpu(learn_cluster_inds[learn_cluster_is_ready_boolmap])\n",
    "                            learn_cluster_is_ready_nzb_counts = xp_array_from_gpu(learn_cluster_nzb_counts[learn_cluster_is_ready_boolmap])\n",
    "                            learn_cluster_is_ready_nzbs = xp_array_from_gpu(learn_cluster_nzbs[learn_cluster_is_ready_boolmap])\n",
    "                            assert learn_cluster_is_ready_cluster_inds.shape[0] == learn_cluster_is_ready_nzb_counts.shape[0]\n",
    "                            assert learn_cluster_is_ready_cluster_inds.shape[0] == learn_cluster_is_ready_nzbs.shape[0]\n",
    "                            new_cluster_states = Counter()\n",
    "                            death_reasons = Counter()\n",
    "\n",
    "                            for cluster_ind, nzb_count, nzb in zip(learn_cluster_is_ready_cluster_inds, \n",
    "                                                                   learn_cluster_is_ready_nzb_counts, \n",
    "                                                                   learn_cluster_is_ready_nzbs):\n",
    "                                cluster_meta = LEARN_CLUSTER_METAS[cluster_ind]\n",
    "                                \n",
    "                                if cluster_meta.state == ClusterState.DEAD:\n",
    "                                    continue\n",
    "                                    \n",
    "                                cluster_meta.ones_count = nzb_count\n",
    "                                cluster_meta.last_activity_cycle = cycle\n",
    "                                assert cluster_meta.ones_count >= HP_CLUSTER_ONES_COUNT_THRES\n",
    "\n",
    "                                old_cluster_key = cluster_meta.cluster_key\n",
    "                                cluster_meta.input_bits = tuple(map(int, nzb[:nzb_count]))\n",
    "                                new_cluster_key = get_cluster_key(cluster_meta.output_bit, cluster_meta.input_bits)\n",
    "\n",
    "                                if old_cluster_key != new_cluster_key and new_cluster_key in unique_cluster_keys:\n",
    "                                    # TODO: it may happen that cluster with new_cluster_key is a LEARN cluster, not PROD_*\n",
    "                                    cluster_meta.state = ClusterState.DEAD\n",
    "                                    new_cluster_states[cluster_meta.state.name] += 1\n",
    "                                    death_reasons['DUPLICATE'] += 1\n",
    "                                    LEARN_CLUSTERS_SIDECAR.sync(cluster_meta)\n",
    "                                    continue\n",
    "\n",
    "                                # Promote to PROD_CANDIDATE under new cluster_ind but only if there is no too many PROD_CANDIDATES.\n",
    "                                # If there is too many PROD_CANDIDATES then pushing clusters to PROD_CANDIDATES may results in \n",
    "                                # mass losses of PROD_CANDIDATES due to soft limiting procedures\n",
    "                                if prod_candidate_clusters_count < HP_PROD_CANDIDATE_CLUSTERS_COUNT_SOFT_LIMIT:\n",
    "                                    cluster_ind = cluster_meta.cluster_ind\n",
    "                                    cluster_meta.state = ClusterState.PROD_CANDIDATE\n",
    "                                    cluster_meta.accuracy_calc = AverageFilter()\n",
    "                                    cluster_meta.verify_signal_ids.clear()\n",
    "                                    del LEARN_CLUSTER_METAS[cluster_ind]\n",
    "                                    LEARN_CLUSTERS_SIDECAR.remove(cluster_ind)\n",
    "                                    LEARN_CLUSTERS.release(cluster_ind, do_wipeout_data=False)\n",
    "        \n",
    "                                    cluster_meta.cluster_ind = CLUSTERS.lease()\n",
    "                                    migrate_cluster_ind_mappings.append([cluster_ind, cluster_meta.cluster_ind])\n",
    "                                    assert not cluster_meta.cluster_ind in CLUSTER_METAS\n",
    "                                    CLUSTER_METAS[cluster_meta.cluster_ind] = cluster_meta\n",
    "                                    CLUSTERS_SIDECAR.sync(cluster_meta)\n",
    "        \n",
    "                                    new_cluster_states[cluster_meta.state.name] += 1\n",
    "                                    prod_candidate_clusters_count += 1\n",
    "                        \n",
    "                            if migrate_cluster_ind_mappings:\n",
    "                                migrate_cluster_ind_mappings = xp.array(migrate_cluster_ind_mappings, dtype='i')\n",
    "                                cuda_block_size = 256\n",
    "                                cuda_blocks_count = math.ceil(migrate_cluster_ind_mappings.shape[0] / cuda_block_size)\n",
    "                                cuda_migrate_clusters(\n",
    "                                    (cuda_blocks_count, ), (cuda_block_size,),\n",
    "                                    (\n",
    "                                        # INPUT\n",
    "                                        cp.int32(HP_SIGNAL_VEC_LEN),\n",
    "                                        cp.int32(migrate_cluster_ind_mappings.shape[0]),\n",
    "                                        ensure_dtype(migrate_cluster_ind_mappings, cp.int32),\n",
    "                                        ensure_dtype(LEARN_CLUSTERS.array, cp.float32),\n",
    "                                        # OUTPUT\n",
    "                                        ensure_dtype(CLUSTERS.array, cp.float32),\n",
    "                                        ensure_dtype(xp.array([], dtype='f'), cp.float32),  # empty cp.array results in nullptr in CUDA kernel\n",
    "                                        ensure_dtype(xp.array([], dtype='f'), cp.float32),  # empty cp.array results in nullptr in CUDA kernel\n",
    "                                    )\n",
    "                                )\n",
    "                            \n",
    "                            LOG(f'Promoted {len(migrate_cluster_ind_mappings)} LEARN clusters: {new_cluster_states}; death reasons: {death_reasons}')\n",
    "                        \n",
    "                        ### Verify PROD_CANDIDATE/PROD_WORK clusters against new signals\n",
    "                        verify_cluster_inds = np.arange(CLUSTERS.array.shape[0])[CLUSTERS_SIDECAR.is_verifiable_boolmap]\n",
    "                        verify_cluster_ones_counts = xp_array_to_gpu(CLUSTERS_SIDECAR.ones_counts[verify_cluster_inds])\n",
    "                        verify_cluster_output_bits = CLUSTERS_SIDECAR.output_bits[verify_cluster_inds]\n",
    "                        verify_clusters = CLUSTERS.array[verify_cluster_inds]\n",
    "                        verified_cluster_inds = set()\n",
    "                        # row - signal input, column - how many bits are activated in verify cluster for corresponding signal_input\n",
    "                        signal_input_to_activated_clusters_boolmap_mat = sgr.signals_input @ verify_clusters.T\n",
    "                        # row - signal_input, column - true if corresponding verify cluster have enough bits activated, false otherwise\n",
    "                        signal_input_to_activated_clusters_boolmap_mat = (signal_input_to_activated_clusters_boolmap_mat >= verify_cluster_ones_counts)\n",
    "                        signal_input_to_activated_clusters_boolmap_mat = xp_array_from_gpu(signal_input_to_activated_clusters_boolmap_mat)\n",
    "                        assert signal_input_to_activated_clusters_boolmap_mat.shape[0] == sgr.signals_output.shape[0]\n",
    "                        assert signal_input_to_activated_clusters_boolmap_mat.shape[0] == len(sgr.signal_ids)\n",
    "                        \n",
    "                        for activated_clusters_boolmap, signal_output, signal_id in zip(signal_input_to_activated_clusters_boolmap_mat, \n",
    "                                                                                        sgr.signals_output, sgr.signal_ids):\n",
    "                            # cast array of output_bit numbers [0, 3, 4, 7, 7, 0, 3, 32, ..] to TP array [True, False, False, True, True, True, False, False, ...]\n",
    "                            # where True if output_bit of verify_cluster is enabled in signal_output and False otherwise\n",
    "                            verify_cluster_output_bits_tf = signal_output[verify_cluster_output_bits] != 0\n",
    "                            cluster_inds = verify_cluster_inds[activated_clusters_boolmap]\n",
    "                            tfs = verify_cluster_output_bits_tf[activated_clusters_boolmap]\n",
    "                            assert cluster_inds.shape[0] == tfs.shape[0]\n",
    "                            \n",
    "                            for cluster_ind, tf in zip(cluster_inds, tfs):\n",
    "                                cluster_meta = CLUSTER_METAS[cluster_ind]\n",
    "                                cluster_meta.last_activity_cycle = cycle\n",
    "                                cluster_meta.accuracy_calc(int(tf))\n",
    "                                cluster_meta.verify_signal_ids.append((signal_id, int(tf)))\n",
    "                                CLUSTERS_SIDECAR.sync(cluster_meta)\n",
    "                                verified_cluster_inds.add(cluster_ind)\n",
    "                    \n",
    "                        LOG(f'Verified {len(verified_cluster_inds)} PROD_* clusters')\n",
    "\n",
    "                        ### Promote PROD_CANDIDATE clusters to PROD_WORK if they've been verified enough\n",
    "                        is_promotable_to_prod_work_boolmap = CLUSTERS_SIDECAR.is_promotable_to_prod_work_boolmap[:CLUSTERS.active_len]\n",
    "                        cluster_inds_to_promote = np.arange(CLUSTERS.active_len)[is_promotable_to_prod_work_boolmap]\n",
    "                        new_cluster_states = Counter()\n",
    "                        \n",
    "                        for cluster_ind in cluster_inds_to_promote:\n",
    "                            cluster_meta = CLUSTER_METAS[cluster_ind]\n",
    "                            assert cluster_meta.state == ClusterState.PROD_CANDIDATE\n",
    "                            assert len(cluster_meta.verify_signal_ids) >= HP_CLUSTER_PROD_WORK_SIGNALS_PROCESSED_THRES\n",
    "                            assert cluster_meta.ones_count >= HP_CLUSTER_ONES_COUNT_THRES\n",
    "                            cluster_meta.state = ClusterState.PROD_WORK\n",
    "                            cluster_meta.accuracy_calc = MovingAverageFilter(HP_CLUSTER_PROD_ETERNAL_SIGNALS_PROCESSED_THRES)\n",
    "                            \n",
    "                            for verify_signal_id in cluster_meta.verify_signal_ids:\n",
    "                                cluster_meta.accuracy_calc(verify_signal_id[1])\n",
    "\n",
    "                            CLUSTERS_SIDECAR.sync(cluster_meta)\n",
    "                            new_cluster_states[cluster_meta.state.name] += 1\n",
    "                    \n",
    "                        LOG(f'Promoted {new_cluster_states.total()} PROD_CANDIDATE clusters: {new_cluster_states}')\n",
    "\n",
    "                        ### Promote PROD_WORK clusters to PROD_ETERNAL or depromote back to LEARN based on accuracy and experience\n",
    "                        is_prod_work_boolmap = CLUSTERS_SIDECAR.is_prod_work_boolmap[:CLUSTERS.active_len]\n",
    "                        cluster_inds_to_promote = np.arange(CLUSTERS.active_len)[is_prod_work_boolmap]\n",
    "                        new_cluster_states = Counter()\n",
    "                        learn_cluster_inds = []\n",
    "                        \n",
    "                        for cluster_ind in cluster_inds_to_promote:\n",
    "                            cluster_meta = CLUSTER_METAS[cluster_ind]\n",
    "                            assert cluster_meta.state == ClusterState.PROD_WORK\n",
    "                            assert cluster_meta.ones_count >= HP_CLUSTER_ONES_COUNT_THRES\n",
    "                            accuracy = cluster_meta.accuracy_calc.value\n",
    "\n",
    "                            if accuracy < HP_CLUSTER_PROD_WORK_ACCURACY_THRES:\n",
    "                                # bad, bad, bad prod-work cluster. You are too inaccurate, you are depromoted back to LEARN so you've a chance to fix your behavior\n",
    "                                cluster_meta.state = ClusterState.DEAD\n",
    "                                CLUSTERS_SIDECAR.sync(cluster_meta)\n",
    "                                # cluster_ind = cluster_meta.cluster_ind\n",
    "                                # del CLUSTER_METAS[cluster_ind]\n",
    "                                # CLUSTERS.release(cluster_ind, do_wipeout_data=False)\n",
    "                                # CLUSTERS_SIDECAR.remove(cluster_ind)\n",
    "                                \n",
    "                                # cluster_meta.cluster_ind = LEARN_CLUSTERS.lease()\n",
    "                                # cluster_meta.state = ClusterState.LEARN\n",
    "                                # assert cluster_meta.cluster_key in unique_cluster_keys\n",
    "                                # # cluster_meta.nu = 1 / cluster_meta.ones_count\n",
    "                                # # cluster_meta.signals_learned = 0\n",
    "                                # cluster_meta.binarization_schedule = HP_CLUSTER_RELEARN_BINARIZATION_SCHEDULE\n",
    "                                # # cluster_meta.signals_to_learn_till_binarization = cluster_meta.binarization_schedule[0]\n",
    "                                # cluster_meta.accuracy_calc = None\n",
    "                                # cluster_meta.verify_signal_ids.clear()\n",
    "                                \n",
    "                                # assert not cluster_meta.cluster_ind in LEARN_CLUSTER_METAS\n",
    "                                # LEARN_CLUSTER_METAS[cluster_meta.cluster_ind] = cluster_meta\n",
    "                                # LEARN_CLUSTERS.array[cluster_meta.cluster_ind] = CLUSTERS.array[cluster_ind]\n",
    "                                # # LEARN_CLUSTERS_SIDECAR.masks[cluster_meta.cluster_ind] = CLUSTERS.array[cluster_ind]\n",
    "                                # # LEARN_CLUSTERS_SIDECAR.sync(cluster_meta)\n",
    "                                \n",
    "                                # learn_cluster_inds.append(cluster_meta.cluster_ind)\n",
    "                                # learn_clusters_sidecar_patch.cluster_states.append(cluster_meta.state)\n",
    "                                # learn_clusters_sidecar_patch.masks.append(CLUSTERS.array[cluster_ind])\n",
    "                                # learn_clusters_sidecar_patch.nus.append(1 / cluster_meta.ones_count)\n",
    "                                # learn_clusters_sidecar_patch.signals_learned_counters.append(0)\n",
    "                                # learn_clusters_sidecar_patch.signals_to_learn_till_binarization_counters.append(cluster_meta.binarization_schedule[0])\n",
    "                                # learn_clusters_sidecar_patch.last_activity_cycles.append(cycle)\n",
    "                                # learn_clusters_sidecar_patch.is_present_boolmap.append(True)\n",
    "                                \n",
    "                            elif len(cluster_meta.verify_signal_ids) >= HP_CLUSTER_PROD_ETERNAL_SIGNALS_PROCESSED_THRES and accuracy >= HP_CLUSTER_PROD_ETERNAL_ACCURACY_THRES:\n",
    "                                # Elite cluster is born! Promote to pantheon of eternal clusters\n",
    "                                cluster_meta.state = ClusterState.PROD_ETERNAL\n",
    "                                CLUSTERS_SIDECAR.sync(cluster_meta)\n",
    "                            else:\n",
    "                                continue\n",
    "                                \n",
    "                            new_cluster_states[cluster_meta.state.name] += 1\n",
    "\n",
    "                        LOG(f'Promoted {new_cluster_states.total()} PROD_WORK clusters: {new_cluster_states}')\n",
    "                    \n",
    "                        ### Weed the garden\n",
    "                        def remove_cluster(meta, metas, clusters, clusters_sidecar):\n",
    "                            unique_cluster_keys.remove(meta.cluster_key)\n",
    "                            del metas[meta.cluster_ind]\n",
    "                            clusters.release(meta.cluster_ind, do_wipeout_data=False)\n",
    "                            clusters_sidecar.remove(meta.cluster_ind)\n",
    "                        \n",
    "                        def remove_dead_clusters(metas, clusters, clusters_sidecar):\n",
    "                            is_dead_boolmap = clusters_sidecar.is_dead_boolmap[:clusters.active_len]\n",
    "                            cluster_inds_to_remove = np.arange(clusters.active_len)[is_dead_boolmap]\n",
    "\n",
    "                            for cluster_ind in cluster_inds_to_remove:\n",
    "                                meta = metas[cluster_ind]\n",
    "                                assert meta.state == ClusterState.DEAD\n",
    "                                remove_cluster(meta, metas, clusters, clusters_sidecar)\n",
    "                                \n",
    "                            assert len(metas) == clusters.len, (len(metas), clusters.len)\n",
    "                            return len(cluster_inds_to_remove)\n",
    "\n",
    "                        def soft_limit_clusters(soft_limit, metas, clusters, clusters_sidecar, cluster_state):\n",
    "                            clusters_count = clusters_sidecar.cluster_states_counter[cluster_state.name]\n",
    "                            \n",
    "                            if clusters_count <= soft_limit:\n",
    "                                return 0, -1, -1\n",
    "                                \n",
    "                            metas_of_interest = list(filter(lambda m: m.state == cluster_state, metas.values()))\n",
    "                            assert len(metas_of_interest) == clusters_count\n",
    "                            redundant_metas_count = len(metas_of_interest) - soft_limit\n",
    "                            assert redundant_metas_count > 0\n",
    "                            metas_by_inactivity = list(map(lambda m: (m.last_activity_cycle, m.cluster_ind), metas_of_interest))\n",
    "                            metas_by_inactivity.sort() # most inactive metas will be concentrated at the very beginning\n",
    "                            most_inactive_metas = metas_by_inactivity[:redundant_metas_count]\n",
    "                            min_age = cycle - most_inactive_metas[-1][0]\n",
    "                            max_age = cycle - most_inactive_metas[0][0]\n",
    "                            most_inactive_metas = list(map(lambda x: metas[x[1]], most_inactive_metas))\n",
    "                            assert len(most_inactive_metas) == redundant_metas_count\n",
    "                            \n",
    "                            for meta in most_inactive_metas:\n",
    "                                remove_cluster(meta, metas, clusters, clusters_sidecar)\n",
    "                                \n",
    "                            assert len(metas) == clusters.len\n",
    "                            return len(most_inactive_metas), min_age, max_age\n",
    "\n",
    "                        removed_count = remove_dead_clusters(LEARN_CLUSTER_METAS, LEARN_CLUSTERS, LEARN_CLUSTERS_SIDECAR)\n",
    "                        LOG(f'Removed {removed_count} dead LEARN clusters')\n",
    "                        removed_count = remove_dead_clusters(CLUSTER_METAS, CLUSTERS, CLUSTERS_SIDECAR)\n",
    "                        LOG(f'Removed {removed_count} dead PROD_CANDIDATE clusters')\n",
    "                        removed_count, min_age, max_age = soft_limit_clusters(HP_LEARN_CLUSTERS_COUNT_SOFT_LIMIT, LEARN_CLUSTER_METAS, LEARN_CLUSTERS, LEARN_CLUSTERS_SIDECAR, ClusterState.LEARN)\n",
    "                        LOG(f'Removed {removed_count} LEARN clusters by soft limit {HP_LEARN_CLUSTERS_COUNT_SOFT_LIMIT:_}; age=[{min_age}, {max_age}]')\n",
    "                        removed_count, min_age, max_age = soft_limit_clusters(HP_PROD_CANDIDATE_CLUSTERS_COUNT_SOFT_LIMIT, CLUSTER_METAS, CLUSTERS, CLUSTERS_SIDECAR, ClusterState.PROD_CANDIDATE)\n",
    "                        LOG(f'Removed {removed_count} PROD_CANDIDATE clusters by soft limit {HP_PROD_CANDIDATE_CLUSTERS_COUNT_SOFT_LIMIT:_}; age=[{min_age}, {max_age}]')\n",
    "                        removed_count, min_age, max_age = soft_limit_clusters(HP_PROD_WORK_CLUSTERS_COUNT_SOFT_LIMIT, CLUSTER_METAS, CLUSTERS, CLUSTERS_SIDECAR, ClusterState.PROD_WORK)\n",
    "                        LOG(f'Removed {removed_count} PROD_WORK clusters by soft limit {HP_PROD_WORK_CLUSTERS_COUNT_SOFT_LIMIT:_}; age=[{min_age}, {max_age}]')\n",
    "\n",
    "                persist_prod_clusters_governeur(is_forced=True)"
   ]
  },
  {
   "cell_type": "code",
   "execution_count": null,
   "id": "3fa0343f-eb58-469f-be2c-59abbf710fb7",
   "metadata": {},
   "outputs": [],
   "source": []
  },
  {
   "cell_type": "markdown",
   "id": "c2157ff8-4566-479d-87e4-85c46173b272",
   "metadata": {},
   "source": [
    "## Post-train"
   ]
  },
  {
   "cell_type": "code",
   "execution_count": 73,
   "id": "84fe82bc-db6c-436c-a8b4-fc004b7caee5",
   "metadata": {},
   "outputs": [],
   "source": [
    "bm = LEARN_CLUSTERS_SIDECAR.is_dead_boolmap[:LEARN_CLUSTERS.active_len]\n",
    "inds = np.arange(LEARN_CLUSTERS.active_len)[bm]\n",
    "\n",
    "for i, cluster_ind in enumerate(inds):\n",
    "    meta = LEARN_CLUSTER_METAS[cluster_ind]\n",
    "    assert meta.state == ClusterState.DEAD"
   ]
  },
  {
   "cell_type": "code",
   "execution_count": 120,
   "id": "7cf1958f-2700-4dfc-8b6c-ea86b7d67e40",
   "metadata": {},
   "outputs": [
    {
     "data": {
      "text/plain": [
       "(0, np.int64(286786))"
      ]
     },
     "execution_count": 120,
     "metadata": {},
     "output_type": "execute_result"
    }
   ],
   "source": [
    "i, cluster_ind"
   ]
  },
  {
   "cell_type": "code",
   "execution_count": 122,
   "id": "acea7655-30bf-4f08-bc4f-6583038d6874",
   "metadata": {},
   "outputs": [
    {
     "data": {
      "text/plain": [
       "{'state': <ClusterState.LEARN: 'learn'>,\n",
       " 'cluster_ind': 286786,\n",
       " 'cluster_key': (783, (50, 231, 360, 428, 803, 899, 945)),\n",
       " 'output_bit': 783,\n",
       " 'input_bits': (np.int32(50),\n",
       "  np.int32(231),\n",
       "  np.int32(360),\n",
       "  np.int32(428),\n",
       "  np.int32(803),\n",
       "  np.int32(899),\n",
       "  np.int32(945)),\n",
       " 'ones_count': -1,\n",
       " 'binarization_schedule': (5, 10),\n",
       " 'accuracy_calc': None,\n",
       " 'verify_signal_ids': []}"
      ]
     },
     "execution_count": 122,
     "metadata": {},
     "output_type": "execute_result"
    }
   ],
   "source": [
    "vars(meta)"
   ]
  },
  {
   "cell_type": "code",
   "execution_count": 128,
   "id": "2016afe1-8d3b-432b-af17-286d955cdccf",
   "metadata": {},
   "outputs": [
    {
     "data": {
      "text/plain": [
       "(np.True_, np.True_, 'LEARN')"
      ]
     },
     "execution_count": 128,
     "metadata": {},
     "output_type": "execute_result"
    }
   ],
   "source": [
    "LEARN_CLUSTERS_SIDECAR.is_present_boolmap[286786], LEARN_CLUSTERS_SIDECAR.is_dead_boolmap[286786], LEARN_CLUSTERS_SIDECAR.cluster_states[286786]"
   ]
  },
  {
   "cell_type": "code",
   "execution_count": 65,
   "id": "d9c0c992-16a0-41fa-b22c-c72d254de264",
   "metadata": {},
   "outputs": [],
   "source": [
    "# active_points = points[active_point_inds] # subset of points which are connected to active output bits\n",
    "# active_points_signal_input_mat = active_points * signal_input\n",
    "# active_points_signal_input_boolmap = (active_points_signal_input_mat.sum(axis=1) >= HP_CLUSTER_CREATION_ONES_COUNT_THRES) # active_points must have at least ON bits within input signal\n",
    "# active_points_signal_input_mat = xp_array_from_gpu(active_points_signal_input_mat)\n",
    "# active_points_signal_input_inds = np.flatnonzero(xp_array_from_gpu(active_points_signal_input_boolmap))\n",
    "# learn_clusters_count0 = learn_clusters_count\n",
    "\n",
    "# for active_points_signal_input_ind in active_points_signal_input_inds:\n",
    "#     point_ind = active_point_inds[active_points_signal_input_ind]\n",
    "#     subsignal_input = active_points_signal_input_mat[active_points_signal_input_ind]\n",
    "    \n",
    "#     active_output_bit = int(point_output_bits[point_ind])\n",
    "#     active_input_bits = np.flatnonzero(subsignal_input) ### !!!! dur = 1.84, 1.18 vs 3.02 (wo 1.22, 1.16, 1.16, wt 3, 3.04, 3.04)\n",
    "#     ones_count = active_input_bits.shape[0]\n",
    "#     assert ones_count >= HP_CLUSTER_CREATION_ONES_COUNT_THRES"
   ]
  },
  {
   "cell_type": "code",
   "execution_count": null,
   "id": "4839f33f-8fb8-47fc-b934-6eabaa41c900",
   "metadata": {},
   "outputs": [],
   "source": [
    "ones_counts = xp.zeros(active_point_inds.shape[0], dtype='i')\n",
    "nzb_list = xp.full((active_point_inds.shape[0], HP_POINT_NON_ZERO_BITS), -1, dtype='i')\n",
    "cuda_block_size = 256\n",
    "cuda_blocks_count = math.ceil(active_point_inds.shape[0] / cuda_block_size)\n",
    "cuda_binarize_clusters_kernel((cuda_blocks_count, ), (cuda_block_size,),\n",
    "                              (cp.int32(HP_SIGNAL_VEC_LEN),\n",
    "                               cp.int32(HP_POINT_NON_ZERO_BITS),\n",
    "                               cp.int32(HP_CLUSTER_CREATION_ONES_COUNT_THRES),\n",
    "                               signal_input,\n",
    "                               cp.int32(active_point_inds.shape[0]), \n",
    "                               xp_array_to_gpu(active_point_inds),\n",
    "                               points,\n",
    "                               ones_counts,\n",
    "                               nzb_list\n",
    "                               ))"
   ]
  },
  {
   "cell_type": "code",
   "execution_count": 83,
   "id": "f2f91116-75e0-4cea-9d3f-e00a946ef547",
   "metadata": {},
   "outputs": [],
   "source": []
  },
  {
   "cell_type": "code",
   "execution_count": 110,
   "id": "e3e359fb-9c9d-468c-82bd-4f87fc9e2812",
   "metadata": {},
   "outputs": [],
   "source": [
    "LEARN_CLUSTERS.clear()\n",
    "LEARN_CLUSTER_METAS.clear()\n",
    "unique_cluster_keys.clear()"
   ]
  },
  {
   "cell_type": "code",
   "execution_count": 111,
   "id": "765040ce-682f-4f15-90d5-f851e5fdeed8",
   "metadata": {},
   "outputs": [
    {
     "name": "stdout",
     "output_type": "stream",
     "text": [
      "CPU times: user 3.12 s, sys: 37.1 ms, total: 3.15 s\n",
      "Wall time: 3.15 s\n"
     ]
    }
   ],
   "source": [
    "%%time\n",
    "learn_clusters_count = len(LEARN_CLUSTER_METAS)\n",
    "learn_clusters_sidecar_patch = LearnClustersSidecarPatch()\n",
    "new_clusters = []\n",
    "new_cluster_inds = []\n",
    "signals_count_for_new_clusters = 0\n",
    "\n",
    "# Create signals from prev sgr to avoid situation when clusters are created and get immediately learned on the same data\n",
    "for signal_input, signal_output in zip(prev_cycle_sgr.signals_input, prev_cycle_sgr.signals_output):\n",
    "    if learn_clusters_count + new_clusters_creation_rate_calc.value > HP_LEARN_CLUSTERS_COUNT_SOFT_LIMIT:\n",
    "        break\n",
    "        \n",
    "    signals_count_for_new_clusters += 1\n",
    "    active_points_boolmap = signal_output[point_output_bits] != 0\n",
    "    active_point_inds = point_inds[active_points_boolmap]\n",
    "\n",
    "    if active_point_inds.shape[0] == 0:\n",
    "        new_clusters_creation_rate_calc(0)\n",
    "        continue\n",
    "\n",
    "    learn_clusters_count0 = learn_clusters_count\n",
    "    ones_counts = xp.zeros(active_point_inds.shape[0], dtype='i')\n",
    "    nzb_list = xp.full((active_point_inds.shape[0], HP_POINT_NON_ZERO_BITS), -1, dtype='i')\n",
    "    cuda_block_size = 256\n",
    "    cuda_blocks_count = math.ceil(active_point_inds.shape[0] / cuda_block_size)\n",
    "    cuda_create_clusters_kernel((cuda_blocks_count, ), (cuda_block_size,),\n",
    "                                  (cp.int32(HP_SIGNAL_VEC_LEN),\n",
    "                                   cp.int32(HP_POINT_NON_ZERO_BITS),\n",
    "                                   cp.int32(HP_CLUSTER_CREATION_ONES_COUNT_THRES),\n",
    "                                   signal_input,\n",
    "                                   cp.int32(active_point_inds.shape[0]), \n",
    "                                   xp_array_to_gpu(active_point_inds),\n",
    "                                   points,\n",
    "                                   ones_counts,\n",
    "                                   nzb_list\n",
    "                                   ))\n",
    "    ones_counts = xp_array_from_gpu(ones_counts)\n",
    "    nzb_list = xp_array_from_gpu(nzb_list)\n",
    "    good_inds_boolmap = ones_counts > 0\n",
    "    \n",
    "    for point_ind, ones_count, nzb in zip(active_point_inds[good_inds_boolmap], ones_counts[good_inds_boolmap], nzb_list[good_inds_boolmap]):\n",
    "        assert ones_count >= HP_CLUSTER_CREATION_ONES_COUNT_THRES\n",
    "        active_input_bits = nzb[:ones_count]\n",
    "        # cluster = active_points_signal_input_mat[active_points_signal_input_ind]\n",
    "        cluster = np.zeros(HP_SIGNAL_VEC_LEN, dtype='f')\n",
    "        cluster[active_input_bits] = 1\n",
    "        \n",
    "        active_output_bit = int(point_output_bits[point_ind])\n",
    "        # active_input_bits = np.flatnonzero(cluster) ### !!!! dur = 1.84, 1.18 vs 3.02 (wo 1.22, 1.16, 1.16, wt 3, 3.04, 3.04)\n",
    "        # ones_count = active_input_bits.shape[0]\n",
    "        cluster_key = get_cluster_key2(active_output_bit, active_input_bits) ### ! dur = 1.13, 3.01 vs 4.14 (wo 3.03, 2.99, 3.04, wt 4.13, 4.15, 4.16)\n",
    "\n",
    "        if cluster_key in unique_cluster_keys:\n",
    "            continue\n",
    "\n",
    "        # GPU doesn't honor frequent uploads of data - it renders way to slow execution.\n",
    "        # as such during clusters-creation-loop a) stage new clusters on CPU b) reserve indices in GPU array\n",
    "        # At the end bulk upload to GPU\n",
    "        cluster_ind = LEARN_CLUSTERS.lease() ### ! dur = 0.51, 4.12 vs 4.63 (wo 4.05, 4.15, 4.17, wt 4.62, 4.62, 4.65)\n",
    "        new_clusters.append(cluster)\n",
    "        new_cluster_inds.append(cluster_ind)\n",
    "        \n",
    "        cluster_meta = ClusterMeta(cluster_ind)\n",
    "        cluster_meta.cluster_key = cluster_key\n",
    "        cluster_meta.output_bit = active_output_bit\n",
    "        cluster_meta.input_bits = tuple(active_input_bits)\n",
    "        # cluster_meta.nu = 1 / cluster.sum()\n",
    "        cluster_meta.binarization_schedule = HP_CLUSTER_LEARN_BINARIZATION_SCHEDULE\n",
    "        # cluster_meta.signals_to_learn_till_binarization = cluster_meta.binarization_schedule[0]\n",
    "        # cluster_meta.last_activity_cycle = cycle\n",
    "\n",
    "        ### !!! dur = 2.11, 7.12 vs 9.23 (wo 7.26, 6.84, 7.29, wt 9.13, 9.26, 9.32)\n",
    "        learn_clusters_sidecar_patch.cluster_states.append(cluster_meta.state)\n",
    "        learn_clusters_sidecar_patch.masks.append(cluster)\n",
    "        learn_clusters_sidecar_patch.output_bits.append(active_output_bit)\n",
    "        learn_clusters_sidecar_patch.nus.append(1 / ones_count)\n",
    "        learn_clusters_sidecar_patch.signals_to_learn_till_binarization_counters.append(cluster_meta.binarization_schedule[0])\n",
    "        learn_clusters_sidecar_patch.signals_learned_counters.append(0)\n",
    "        learn_clusters_sidecar_patch.last_activity_cycles.append(cycle)\n",
    "        learn_clusters_sidecar_patch.is_present_boolmap.append(True)\n",
    "        \n",
    "        # # assert not cluster_ind in LEARN_CLUSTER_METAS\n",
    "        LEARN_CLUSTER_METAS[cluster_ind] = cluster_meta ### !! dur = 1.27, 5.81 vs 7.08 (wo 5.96, 5.75, 5.74, wt 7.28, 7.02, 6.95)\n",
    "        # # # # LEARN_CLUSTERS_SIDECAR.sync(cluster_meta)\n",
    "        unique_cluster_keys.add(cluster_key)\n",
    "        learn_clusters_count += 1\n",
    "\n",
    "    assert learn_clusters_count >= learn_clusters_count0\n",
    "    new_clusters_creation_rate_calc(learn_clusters_count - learn_clusters_count0)"
   ]
  },
  {
   "cell_type": "code",
   "execution_count": null,
   "id": "fc5ca4dd-cbec-4981-bf5a-dc9e40eb66b9",
   "metadata": {},
   "outputs": [],
   "source": []
  },
  {
   "cell_type": "code",
   "execution_count": 208,
   "id": "05dd29de-4261-4638-89eb-ef682b083533",
   "metadata": {},
   "outputs": [
    {
     "data": {
      "text/plain": [
       "np.float64(3.0199999999999996)"
      ]
     },
     "execution_count": 208,
     "metadata": {},
     "output_type": "execute_result"
    }
   ],
   "source": [
    "np.mean([8.54, 8.4, 8.52])"
   ]
  },
  {
   "cell_type": "code",
   "execution_count": 221,
   "id": "99cb69bf-d5f0-4de1-8804-2662c81ebe81",
   "metadata": {},
   "outputs": [
    {
     "data": {
      "text/plain": [
       "np.float64(8.453333333333333)"
      ]
     },
     "execution_count": 221,
     "metadata": {},
     "output_type": "execute_result"
    }
   ],
   "source": [
    "np.mean([8.46, 8.47, 8.43])"
   ]
  },
  {
   "cell_type": "code",
   "execution_count": null,
   "id": "9c0a3266-174d-4da8-8432-9d3d57bca2ae",
   "metadata": {},
   "outputs": [],
   "source": []
  },
  {
   "cell_type": "code",
   "execution_count": null,
   "id": "0628fa0b-43db-48be-b8c6-fc905bf4b40c",
   "metadata": {},
   "outputs": [],
   "source": []
  },
  {
   "cell_type": "code",
   "execution_count": null,
   "id": "14d287b4-c588-4844-b45e-2287249b1054",
   "metadata": {},
   "outputs": [],
   "source": []
  },
  {
   "cell_type": "code",
   "execution_count": null,
   "id": "8b56d690-1f83-4083-ad11-c955ccdbf38c",
   "metadata": {},
   "outputs": [],
   "source": []
  },
  {
   "cell_type": "code",
   "execution_count": null,
   "id": "77ec7d11-5cc0-4ed0-9973-b912e0c659f1",
   "metadata": {},
   "outputs": [],
   "source": []
  },
  {
   "cell_type": "code",
   "execution_count": null,
   "id": "5a701102-402e-4fe8-9439-e44f93a9f255",
   "metadata": {},
   "outputs": [],
   "source": []
  },
  {
   "cell_type": "code",
   "execution_count": null,
   "id": "efa78aae-aecf-4fdf-b05a-751dbbe00c27",
   "metadata": {},
   "outputs": [],
   "source": []
  },
  {
   "cell_type": "code",
   "execution_count": null,
   "id": "885a6df3-ff4a-4b93-99c4-8fa715583ac3",
   "metadata": {},
   "outputs": [],
   "source": []
  },
  {
   "cell_type": "code",
   "execution_count": null,
   "id": "21842fe1-b240-4060-a58f-a1429f0bb2ed",
   "metadata": {},
   "outputs": [],
   "source": []
  },
  {
   "cell_type": "code",
   "execution_count": null,
   "id": "cf0905b5-c41c-4d07-bd86-5aaf8235a5c5",
   "metadata": {},
   "outputs": [],
   "source": []
  },
  {
   "cell_type": "code",
   "execution_count": null,
   "id": "4098223b-9a6f-4b4c-a9a7-1e6f7eefc21a",
   "metadata": {},
   "outputs": [],
   "source": []
  },
  {
   "cell_type": "code",
   "execution_count": null,
   "id": "e4670d21-3173-419c-bba2-c13a8bd85e3c",
   "metadata": {},
   "outputs": [],
   "source": []
  },
  {
   "cell_type": "code",
   "execution_count": null,
   "id": "a6987c45-ee8c-4fd7-aefa-2b4ddf6bda3e",
   "metadata": {},
   "outputs": [],
   "source": []
  },
  {
   "cell_type": "code",
   "execution_count": null,
   "id": "150066c5-a048-4ae3-80fc-26d7c624282e",
   "metadata": {},
   "outputs": [],
   "source": []
  },
  {
   "cell_type": "code",
   "execution_count": null,
   "id": "0c91a6af-73b2-4e26-9e25-febc71ebd381",
   "metadata": {},
   "outputs": [],
   "source": []
  },
  {
   "cell_type": "code",
   "execution_count": 116,
   "id": "36b77f81-0829-4636-a2e7-225d003bdb1f",
   "metadata": {},
   "outputs": [],
   "source": [
    "lc = LEARN_CLUSTERS.array_active.copy()\n",
    "lcm = LEARN_CLUSTERS_SIDECAR.masks[:lc.shape[0]].copy()"
   ]
  },
  {
   "cell_type": "code",
   "execution_count": 145,
   "id": "580b19d4-c191-49d3-8b0e-f00bcb7bddd7",
   "metadata": {},
   "outputs": [
    {
     "name": "stdout",
     "output_type": "stream",
     "text": [
      "CPU times: user 10.8 ms, sys: 9 ms, total: 19.8 ms\n",
      "Wall time: 17.8 ms\n"
     ]
    }
   ],
   "source": [
    "%%time\n",
    "is_binarizable_boolmap = LEARN_CLUSTERS_SIDECAR.is_binarizable_boolmap[:LEARN_CLUSTERS.active_len]\n",
    "cluster_inds_to_binarize = np.arange(LEARN_CLUSTERS.active_len, dtype='i')[is_binarizable_boolmap]\n",
    "new_cluster_states = Counter()\n",
    "death_reasons = Counter()\n",
    "\n",
    "ones_counts = xp.zeros(cluster_inds_to_binarize.shape[0], dtype='i')\n",
    "nzb_list = xp.full((cluster_inds_to_binarize.shape[0], HP_POINT_NON_ZERO_BITS), -1, dtype='i')\n",
    "dumps = xp.zeros(cluster_inds_to_binarize.shape[0], dtype='f')\n",
    "\n",
    "cuda_block_size = 256\n",
    "cuda_blocks_count = math.ceil(cluster_inds_to_binarize.shape[0] / cuda_block_size)\n",
    "cuda_binarize_clusters_kernel((cuda_blocks_count, ), (cuda_block_size,),\n",
    "                              (cp.int32(HP_SIGNAL_VEC_LEN),\n",
    "                               cp.int32(HP_POINT_NON_ZERO_BITS),\n",
    "                               cp.float32(HP_CLUSTER_BINARIZE_THRES),\n",
    "                               cluster_inds_to_binarize.shape[0], \n",
    "                               xp_array_to_gpu(cluster_inds_to_binarize),\n",
    "                               LEARN_CLUSTERS.array, \n",
    "                               lc,\n",
    "                               lcm,\n",
    "                               ones_counts,\n",
    "                               nzb_list,\n",
    "                               dumps,\n",
    "                               ))\n",
    "ones_counts = xp_array_from_gpu(ones_counts)\n",
    "nzb_list = xp_array_from_gpu(nzb_list)\n",
    "dumps = xp_array_from_gpu(dumps)\n",
    "learn_clusters_sidecar_patch = LearnClustersSidecarPatch()\n",
    "\n",
    "# for cluster_ind, ones_count, nzb in zip(cluster_inds_to_binarize, ones_counts, nzb_list):\n",
    "#     cluster_meta = LEARN_CLUSTER_METAS[cluster_ind]\n",
    "#     assert cluster_meta.state == ClusterState.LEARN\n",
    "#     # assert cluster_meta.signals_to_learn_till_binarization <= 0\n",
    "#     # cluster_meta.last_activity_cycle = cycle\n",
    "#     cluster_meta.binarization_schedule = (10, )\n",
    "# #     # cluster_meta.signals_to_learn_till_binarization = cluster_meta.binarization_schedule[0] if cluster_meta.binarization_schedule else 0\n",
    "#     cluster_meta.ones_count = int(ones_count)\n",
    "#     assert cluster_meta.ones_count > 0\n",
    "#     # cluster_meta.nu = 1 / cluster_meta.ones_count\n",
    "\n",
    "#     b = cluster_meta.binarization_schedule[0] if cluster_meta.binarization_schedule else 0\n",
    "#     learn_clusters_sidecar_patch.signals_to_learn_till_binarization_counters.append(b)\n",
    "#     learn_clusters_sidecar_patch.nus.append(1 / cluster_meta.ones_count)\n",
    "#     learn_clusters_sidecar_patch.last_activity_cycles.append(cycle)\n",
    "\n",
    "#     if cluster_meta.ones_count >= HP_CLUSTER_ONES_COUNT_THRES:\n",
    "#         pass\n",
    "#         # tuple(nzb[nzb != -1])\n",
    "#         tuple(nzb[:ones_count])\n",
    "#         # tuple(np.flatnonzero(v))\n",
    "#         # old_cluster_key = cluster_meta.cluster_key\n",
    "#         # cluster_meta.input_bits = tuple(nzb[nzb != -1]) # FACK!!!! очень медленно\n",
    "#         # new_cluster_key = get_cluster_key(cluster_meta.output_bit, cluster_meta.input_bits)\n",
    "\n",
    "#         # if old_cluster_key != new_cluster_key:\n",
    "#         #     if new_cluster_key in unique_cluster_keys:\n",
    "#         #         cluster_meta.state = ClusterState.DEAD\n",
    "#         #         death_reasons['DUPLICATE'] += 1\n",
    "#         #     else:\n",
    "#         #         cluster_meta.cluster_key = new_cluster_key\n",
    "#         #         unique_cluster_keys.remove(old_cluster_key)\n",
    "#         #         unique_cluster_keys.add(new_cluster_key)\n",
    "#     else:\n",
    "#         # cluster_meta.state = ClusterState.DEAD\n",
    "#         death_reasons['SHORT'] += 1\n",
    "\n",
    "# #     # LEARN_CLUSTERS_SIDECAR.sync(cluster_meta)\n",
    "#     learn_clusters_sidecar_patch.cluster_states.append(cluster_meta.state)\n",
    "#     learn_clusters_sidecar_patch.is_dead_boolmap.append(cluster_meta.state == ClusterState.DEAD)\n",
    "#     learn_clusters_sidecar_patch.is_promotable_boolmap.append(cluster_meta.state == ClusterState.LEARN and not cluster_meta.binarization_schedule)\n",
    "# #     new_cluster_states[cluster_meta.state.name] += 1"
   ]
  },
  {
   "cell_type": "code",
   "execution_count": null,
   "id": "974ae1c6-f353-4729-a9a4-76b7143f7939",
   "metadata": {},
   "outputs": [],
   "source": []
  },
  {
   "cell_type": "code",
   "execution_count": 143,
   "id": "92601739-6a35-4bba-8745-6fbc264c9a5b",
   "metadata": {},
   "outputs": [
    {
     "data": {
      "text/plain": [
       "array(1)"
      ]
     },
     "execution_count": 143,
     "metadata": {},
     "output_type": "execute_result"
    }
   ],
   "source": [
    "np.count_nonzero(lc[3547])"
   ]
  },
  {
   "cell_type": "code",
   "execution_count": 144,
   "id": "c1b07306-2c6d-4624-a68b-c2c67f35e1e0",
   "metadata": {},
   "outputs": [
    {
     "data": {
      "text/plain": [
       "array([ 1,  2,  3,  4,  5,  6,  7,  8,  9, 10, 11], dtype=int32)"
      ]
     },
     "execution_count": 144,
     "metadata": {},
     "output_type": "execute_result"
    }
   ],
   "source": [
    "np.unique(ones_counts)"
   ]
  },
  {
   "cell_type": "code",
   "execution_count": 120,
   "id": "a8f84e8c-7c23-40e2-92cd-048db39b9ebf",
   "metadata": {},
   "outputs": [],
   "source": [
    "binarized_clusters = xp.where(LEARN_CLUSTERS.array[cluster_inds_to_binarize] > HP_CLUSTER_BINARIZE_THRES, 1, 0)\n",
    "binarized_clusters_ones_counts = xp_array_from_gpu(binarized_clusters.sum(axis=1))"
   ]
  },
  {
   "cell_type": "code",
   "execution_count": 121,
   "id": "7d31ffd4-b2ba-4853-a82d-ca4232fa8642",
   "metadata": {},
   "outputs": [
    {
     "data": {
      "text/plain": [
       "array([ 1,  2,  3,  4,  5,  6,  7,  8,  9, 10, 11])"
      ]
     },
     "execution_count": 121,
     "metadata": {},
     "output_type": "execute_result"
    }
   ],
   "source": [
    "np.unique(binarized_clusters_ones_counts)"
   ]
  },
  {
   "cell_type": "code",
   "execution_count": 122,
   "id": "5651f767-1d08-4f03-8794-67cd0419184f",
   "metadata": {},
   "outputs": [
    {
     "data": {
      "text/plain": [
       "array([  316,   393,  1910,  2563,  2847,  3056,  3538,  4422,  5015,\n",
       "        6174,  6285,  6410,  6649,  6726,  6787,  6970,  7707,  8145,\n",
       "        8384,  8404,  8604,  9082,  9578,  9903, 10619, 10972, 10987,\n",
       "       11095, 11571, 11595, 12095, 12582, 12690, 12933, 13332, 13554,\n",
       "       13933, 14183, 14382, 15004, 15264, 15330, 15485, 15667, 16188,\n",
       "       16200, 16762, 16824, 17420, 17444, 18763, 19384, 19445, 19568,\n",
       "       19880, 19997, 20119, 20264, 21568, 21623, 22397, 22615, 22801,\n",
       "       23033, 23155, 23307, 23459, 24312, 24372, 24522, 25069, 25304,\n",
       "       26859, 27175, 27284, 27604, 27841, 27913, 28322, 28628, 28726,\n",
       "       28820, 29127, 29237])"
      ]
     },
     "execution_count": 122,
     "metadata": {},
     "output_type": "execute_result"
    }
   ],
   "source": [
    "np.flatnonzero(binarized_clusters_ones_counts < 2)"
   ]
  },
  {
   "cell_type": "code",
   "execution_count": 127,
   "id": "7132f3ac-5163-4e9e-9ea2-088d73d1b9d8",
   "metadata": {},
   "outputs": [
    {
     "data": {
      "text/plain": [
       "np.int32(3547)"
      ]
     },
     "execution_count": 127,
     "metadata": {},
     "output_type": "execute_result"
    }
   ],
   "source": [
    "cluster_inds_to_binarize[316]"
   ]
  },
  {
   "cell_type": "code",
   "execution_count": 128,
   "id": "30b574d8-f74b-47cd-bacd-d58dc9273835",
   "metadata": {},
   "outputs": [
    {
     "data": {
      "text/plain": [
       "array(1)"
      ]
     },
     "execution_count": 128,
     "metadata": {},
     "output_type": "execute_result"
    }
   ],
   "source": [
    "np.count_nonzero(LEARN_CLUSTERS.array[3547] > HP_CLUSTER_BINARIZE_THRES)"
   ]
  },
  {
   "cell_type": "code",
   "execution_count": null,
   "id": "eca46af4-8359-49d4-af65-4697c660fce9",
   "metadata": {},
   "outputs": [],
   "source": []
  },
  {
   "cell_type": "code",
   "execution_count": null,
   "id": "99e56f1e-d894-4c86-a8cd-4e97a149ee3c",
   "metadata": {},
   "outputs": [],
   "source": []
  },
  {
   "cell_type": "code",
   "execution_count": null,
   "id": "023408f7-bd54-4f0d-8dd3-48e8a668dfd0",
   "metadata": {},
   "outputs": [],
   "source": []
  },
  {
   "cell_type": "code",
   "execution_count": null,
   "id": "c5d66372-414e-4501-8bc0-93b4ebaae457",
   "metadata": {},
   "outputs": [],
   "source": []
  },
  {
   "cell_type": "code",
   "execution_count": 64,
   "id": "c6beef83-29a1-424f-a43e-202e447519a1",
   "metadata": {},
   "outputs": [],
   "source": [
    "lc = learn_clusters[cluster_inds_to_binarize]\n",
    "lcm = learn_cluster_masks[cluster_inds_to_binarize]"
   ]
  },
  {
   "cell_type": "code",
   "execution_count": 65,
   "id": "4143a4c4-861d-426f-aa6b-11d3d92efa48",
   "metadata": {},
   "outputs": [
    {
     "name": "stdout",
     "output_type": "stream",
     "text": [
      "CPU times: user 91.1 ms, sys: 2.05 ms, total: 93.1 ms\n",
      "Wall time: 91 ms\n"
     ]
    }
   ],
   "source": [
    "%%time\n",
    "binarized_clusters = xp.where(learn_clusters[cluster_inds_to_binarize] > HP_CLUSTER_BINARIZE_THRES, 1, 0)\n",
    "lc[:] = binarized_clusters\n",
    "lcm[:] = binarized_clusters\n",
    "binarized_clusters_ones_counts = xp_array_from_gpu(binarized_clusters.sum(axis=1))\n",
    "binarized_clusters = xp_array_from_gpu(binarized_clusters)\n",
    "learn_clusters_sidecar_patch = LearnClustersSidecarPatch()\n",
    "\n",
    "for cluster_ind, cluster, ones_count in zip(cluster_inds_to_binarize, binarized_clusters, binarized_clusters_ones_counts):\n",
    "    cluster_meta = LEARN_CLUSTER_METAS[cluster_ind]\n",
    "    assert cluster_meta.state == ClusterState.LEARN\n",
    "\n",
    "    if cluster_meta.ones_count >= HP_CLUSTER_ONES_COUNT_THRES:\n",
    "        tuple(np.flatnonzero(cluster))"
   ]
  },
  {
   "cell_type": "code",
   "execution_count": null,
   "id": "e434d187-dd08-48ba-8fc7-7e37ea822877",
   "metadata": {},
   "outputs": [],
   "source": []
  },
  {
   "cell_type": "code",
   "execution_count": null,
   "id": "db347fff-71d0-40c5-a3ca-b206b97d7805",
   "metadata": {},
   "outputs": [],
   "source": []
  },
  {
   "cell_type": "code",
   "execution_count": 68,
   "id": "56861e87-a73a-4e09-8070-618aa6d1e545",
   "metadata": {},
   "outputs": [],
   "source": []
  },
  {
   "cell_type": "code",
   "execution_count": 75,
   "id": "b6d991af-a800-4029-a23e-46ee3af3d2e6",
   "metadata": {},
   "outputs": [],
   "source": [
    "lc = learn_clusters.copy()\n",
    "lcm = learn_cluster_masks.copy()"
   ]
  },
  {
   "cell_type": "code",
   "execution_count": 112,
   "id": "17970fa7-4ad0-4198-8df6-0af68d735704",
   "metadata": {},
   "outputs": [
    {
     "name": "stdout",
     "output_type": "stream",
     "text": [
      "CPU times: user 53.1 ms, sys: 2 ms, total: 55.1 ms\n",
      "Wall time: 53.6 ms\n"
     ]
    }
   ],
   "source": [
    "%%time\n",
    "nzb_list = xp.full((cluster_inds_to_binarize.shape[0], HP_POINT_NON_ZERO_BITS), -1, dtype='i')\n",
    "cuda_block_size = 256\n",
    "cuda_blocks_count = math.ceil(cluster_inds_to_binarize.shape[0] / cuda_block_size)\n",
    "cuda_binarize_clusters_kernel((cuda_blocks_count, ), (cuda_block_size,),\n",
    "                           (HP_SIGNAL_VEC_LEN,\n",
    "                            HP_POINT_NON_ZERO_BITS,\n",
    "                            HP_CLUSTER_BINARIZE_THRES,\n",
    "                            cluster_inds_to_binarize.shape[0], \n",
    "                            xp_array_to_gpu(cluster_inds_to_binarize),\n",
    "                            learn_clusters, \n",
    "                            lc,\n",
    "                            lcm,\n",
    "                            nzb_list\n",
    "                            ))\n",
    "nzb_list = xp_array_from_gpu(nzb_list)\n",
    "learn_clusters_sidecar_patch = LearnClustersSidecarPatch()\n",
    "\n",
    "for cluster_ind, nzb in zip(cluster_inds_to_binarize, nzb_list):\n",
    "    cluster_meta = LEARN_CLUSTER_METAS[cluster_ind]\n",
    "    assert cluster_meta.state == ClusterState.LEARN\n",
    "\n",
    "    if cluster_meta.ones_count >= HP_CLUSTER_ONES_COUNT_THRES:\n",
    "        tuple(nzb[nzb != -1])\n",
    "        # tuple(np.flatnonzero(cluster))\n",
    "        pass"
   ]
  },
  {
   "cell_type": "code",
   "execution_count": 95,
   "id": "f700f014-a403-4e53-8c7a-39a3b8cf3514",
   "metadata": {},
   "outputs": [
    {
     "data": {
      "text/plain": [
       "array([ 89, 177, 190, 219, 463, 496, 652, 658, 712, 761, 911,  -1,  -1,\n",
       "        -1,  -1,  -1,  -1,  -1,  -1,  -1,  -1,  -1,  -1,  -1,  -1,  -1,\n",
       "        -1,  -1,  -1,  -1,  -1,  -1,  -1,  -1,  -1,  -1,  -1,  -1,  -1,\n",
       "        -1], dtype=int32)"
      ]
     },
     "execution_count": 95,
     "metadata": {},
     "output_type": "execute_result"
    }
   ],
   "source": [
    "nzb_list[-15]"
   ]
  },
  {
   "cell_type": "code",
   "execution_count": 96,
   "id": "9890917e-eea6-4dc4-9c1e-5348ef1b0a86",
   "metadata": {},
   "outputs": [
    {
     "data": {
      "text/plain": [
       "np.int32(299300)"
      ]
     },
     "execution_count": 96,
     "metadata": {},
     "output_type": "execute_result"
    }
   ],
   "source": [
    "cluster_inds_to_binarize[-15]"
   ]
  },
  {
   "cell_type": "code",
   "execution_count": 103,
   "id": "c2d57599-f5b7-4900-9315-195236c8bde0",
   "metadata": {},
   "outputs": [
    {
     "data": {
      "text/plain": [
       "(array([ 89, 177, 190, 219, 463, 496, 652, 658, 712, 761, 911]),\n",
       " array([ 89, 177, 190, 219, 463, 496, 652, 658, 712, 761, 911]))"
      ]
     },
     "execution_count": 103,
     "metadata": {},
     "output_type": "execute_result"
    }
   ],
   "source": [
    "np.flatnonzero(lc[299300]), np.flatnonzero(lcm[299300])"
   ]
  },
  {
   "cell_type": "code",
   "execution_count": 109,
   "id": "dc28a93b-1433-4711-8b0a-1fb5bec4f1e9",
   "metadata": {},
   "outputs": [
    {
     "data": {
      "text/plain": [
       "array([ 53,  95, 136, 690, 713, 858, 884], dtype=int32)"
      ]
     },
     "execution_count": 109,
     "metadata": {},
     "output_type": "execute_result"
    }
   ],
   "source": []
  },
  {
   "cell_type": "code",
   "execution_count": null,
   "id": "6c4f8664-a19a-415c-9e53-66a9d265c09d",
   "metadata": {},
   "outputs": [],
   "source": []
  },
  {
   "cell_type": "code",
   "execution_count": null,
   "id": "5eaa1509-0a2f-44be-84d9-7649c0426e3b",
   "metadata": {},
   "outputs": [],
   "source": []
  },
  {
   "cell_type": "code",
   "execution_count": 171,
   "id": "303a2ea2-a050-497d-b0a4-a0d8b9f6b75d",
   "metadata": {},
   "outputs": [
    {
     "name": "stdout",
     "output_type": "stream",
     "text": [
      "CPU times: user 4.06 ms, sys: 1.85 ms, total: 5.91 ms\n",
      "Wall time: 4.46 ms\n"
     ]
    }
   ],
   "source": [
    "%%time\n",
    "learn_clusters = LEARN_CLUSTERS.array_active\n",
    "updated_learn_clusters = learn_clusters.copy()\n",
    "assert learn_clusters.shape[0] == learn_clusters_count\n",
    "learn_cluster_masks = LEARN_CLUSTERS_SIDECAR.masks[:learn_clusters_count]\n",
    "learn_cluster_nus = xp_array_to_gpu(LEARN_CLUSTERS_SIDECAR.nus[:learn_clusters_count])\n",
    "learn_cluster_output_bits = xp_array_to_gpu(LEARN_CLUSTERS_SIDECAR.output_bits[:learn_clusters_count])\n",
    "learn_cluster_signals_learned_counters = xp_array_to_gpu(LEARN_CLUSTERS_SIDECAR.signals_learned_counters[:learn_clusters_count])\n",
    "learn_cluster_signals_till_binarization_counters = xp_array_to_gpu(LEARN_CLUSTERS_SIDECAR.signals_to_learn_till_binarization_counters[:learn_clusters_count])\n",
    "learn_cluster_update_counters = xp.zeros(learn_clusters_count, dtype='i')\n",
    "assert learn_clusters.shape[0] > 0\n",
    "assert learn_clusters.shape == learn_cluster_masks.shape\n",
    "assert learn_clusters.shape[0] == learn_cluster_nus.shape[0]\n",
    "assert learn_clusters.shape[0] == learn_cluster_output_bits.shape[0]\n",
    "assert learn_clusters.shape[0] == learn_cluster_signals_learned_counters.shape[0]\n",
    "assert learn_clusters.shape[0] == learn_cluster_signals_till_binarization_counters.shape[0]\n",
    "assert learn_clusters.shape[0] == learn_cluster_update_counters.shape[0]\n",
    "assert not learn_clusters.base is None\n",
    "assert not learn_cluster_masks.base is None\n",
    "\n",
    "cuda_block_size = 256\n",
    "cuda_blocks_count = math.ceil(learn_clusters.shape[0] / cuda_block_size)\n",
    "cuda_learn_clusters_kernel((cuda_blocks_count, ), (cuda_block_size,),\n",
    "                           (HP_SIGNAL_VEC_LEN,\n",
    "                            HP_CLUSTER_ONES_COUNT_THRES,\n",
    "                            sgr.signals_input.shape[0],\n",
    "                            sgr.signals_input, \n",
    "                            xp_array_to_gpu(sgr.signals_output),\n",
    "                            learn_clusters.shape[0], \n",
    "                            learn_clusters, \n",
    "                            learn_cluster_masks, \n",
    "                            learn_cluster_nus, \n",
    "                            learn_cluster_output_bits, \n",
    "                            learn_cluster_signals_learned_counters,\n",
    "                            learn_cluster_signals_till_binarization_counters,\n",
    "                            updated_learn_clusters,\n",
    "                            learn_cluster_update_counters\n",
    "                            ))"
   ]
  },
  {
   "cell_type": "code",
   "execution_count": 172,
   "id": "71c487f0-889d-4ff8-8651-ba7423b90296",
   "metadata": {},
   "outputs": [
    {
     "name": "stdout",
     "output_type": "stream",
     "text": [
      "CPU times: user 53.6 ms, sys: 1.07 ms, total: 54.6 ms\n",
      "Wall time: 52.4 ms\n"
     ]
    }
   ],
   "source": [
    "%%time\n",
    "learn_cluster_signals_learned_counters = xp_array_from_gpu(learn_cluster_signals_learned_counters)\n",
    "learn_cluster_signals_till_binarization_counters = xp_array_from_gpu(learn_cluster_signals_till_binarization_counters)\n",
    "learn_cluster_update_counters = xp_array_from_gpu(learn_cluster_update_counters)\n",
    "learned_clusters_inds = set()\n",
    "learn_updates_count = 0\n",
    "\n",
    "for cluster_ind in np.flatnonzero(learn_cluster_update_counters):\n",
    "    cluster_meta = LEARN_CLUSTER_METAS[cluster_ind]\n",
    "    assert cluster_meta.state == ClusterState.LEARN\n",
    "    assert cluster_meta.signals_to_learn_till_binarization > 0\n",
    "    # # assert signal_output[cluster_meta.output_bit] == 1\n",
    "    cluster_meta.last_activity_cycle = cycle\n",
    "    cluster_meta.signals_learned = learn_cluster_signals_learned_counters[cluster_ind]\n",
    "    cluster_meta.signals_to_learn_till_binarization = learn_cluster_signals_till_binarization_counters[cluster_ind]\n",
    "    LEARN_CLUSTERS_SIDECAR.sync(cluster_meta)\n",
    "    learned_clusters_inds.add(cluster_ind)\n",
    "    learn_updates_count += learn_cluster_update_counters[cluster_ind]"
   ]
  },
  {
   "cell_type": "code",
   "execution_count": 170,
   "id": "b8bafd90-b6f2-4d74-a688-4b308a0775be",
   "metadata": {},
   "outputs": [
    {
     "data": {
      "text/plain": [
       "(4525,)"
      ]
     },
     "execution_count": 170,
     "metadata": {},
     "output_type": "execute_result"
    }
   ],
   "source": [
    "np.flatnonzero(learn_cluster_update_counters).shape"
   ]
  },
  {
   "cell_type": "code",
   "execution_count": 165,
   "id": "bb37b632-dc03-4338-ad05-dbb9e737ac73",
   "metadata": {},
   "outputs": [
    {
     "name": "stdout",
     "output_type": "stream",
     "text": [
      "CPU times: user 107 ms, sys: 33 μs, total: 107 ms\n",
      "Wall time: 105 ms\n"
     ]
    }
   ],
   "source": [
    "%%time\n",
    "for cluster_ind in np.flatnonzero(learn_cluster_update_counters):\n",
    "    cluster_meta = LEARN_CLUSTER_METAS[cluster_ind]\n",
    "    LEARN_CLUSTERS_SIDECAR.sync(cluster_meta)"
   ]
  },
  {
   "cell_type": "code",
   "execution_count": null,
   "id": "32576b2e-c728-4f03-8587-1507277a6691",
   "metadata": {},
   "outputs": [],
   "source": []
  },
  {
   "cell_type": "code",
   "execution_count": null,
   "id": "3b14cb75-0d6a-4fcc-b446-b7c18e02ff6c",
   "metadata": {},
   "outputs": [],
   "source": []
  },
  {
   "cell_type": "code",
   "execution_count": null,
   "id": "5798d64c-644e-440c-a035-bfa3de919452",
   "metadata": {},
   "outputs": [],
   "source": []
  },
  {
   "cell_type": "code",
   "execution_count": null,
   "id": "117f4de8-2b7f-40ec-90b5-09c7279f2e5f",
   "metadata": {},
   "outputs": [],
   "source": []
  },
  {
   "cell_type": "code",
   "execution_count": null,
   "id": "bd309f11-6b35-439f-8246-029e700ec76c",
   "metadata": {},
   "outputs": [],
   "source": []
  },
  {
   "cell_type": "code",
   "execution_count": null,
   "id": "a0c7c478-0ec7-4792-9f4c-d0613c22d38f",
   "metadata": {},
   "outputs": [],
   "source": []
  },
  {
   "cell_type": "code",
   "execution_count": 430,
   "id": "c0611667-6c9f-4580-8b4c-ddac5c533726",
   "metadata": {},
   "outputs": [],
   "source": [
    "learn_cluster_output_bits = LEARN_CLUSTERS_SIDECAR.output_bits[:learn_clusters.shape[0]]\n",
    "signal_ind = 50\n",
    "signal_input = sgr.signals_input[signal_ind].astype('f')\n",
    "signal_output = sgr.signals_output[signal_ind].astype('f')"
   ]
  },
  {
   "cell_type": "code",
   "execution_count": 431,
   "id": "824b4a1a-0486-4902-8940-e51457eb6e64",
   "metadata": {},
   "outputs": [
    {
     "name": "stdout",
     "output_type": "stream",
     "text": [
      "CPU times: user 8.52 ms, sys: 1.88 ms, total: 10.4 ms\n",
      "Wall time: 7.88 ms\n"
     ]
    }
   ],
   "source": [
    "%%time\n",
    "learn_clusters_boolmap = signal_output.astype(bool)[learn_cluster_output_bits]\n",
    "assert learn_clusters_boolmap.shape[0] == learn_clusters.shape[0]\n",
    "# funnel_avg_filters[0](np.count_nonzero(learn_clusters_boolmap))\n",
    "learn_clusters_boolmap = learn_clusters_boolmap & learn_clusters_is_updatable_boolmap\n",
    "active_cluster_inds = learn_cluster_inds[learn_clusters_boolmap]\n",
    "# funnel_avg_filters[1](active_cluster_inds.shape[0])\n",
    "\n",
    "# narrow down clusters to those which have enough bits touched by signal\n",
    "# (i.e. we dont want to update clusters which have e.g. 1 or 2 bit touched out of minimal count (say 10))\n",
    "active_cluster_masks = learn_cluster_masks[active_cluster_inds]\n",
    "zs = signal_input @ active_cluster_masks.T # number of activated bits within each cluster for given signal_input, ca. shape (35,)\n",
    "zs = xp_array_from_gpu(zs)\n",
    "active_cluster_inds = active_cluster_inds[zs >= HP_CLUSTER_ONES_COUNT_THRES]\n",
    "# funnel_avg_filters[2](active_cluster_inds.shape[0])\n",
    "\n",
    "active_clusters = learn_clusters[active_cluster_inds] # subset of CLUSTERS which are connected to active bits in signal_output\n",
    "active_cluster_masks = learn_cluster_masks[active_cluster_inds]\n",
    "active_cluster_nus = learn_cluster_nus[active_cluster_inds]\n",
    "\n",
    "ys = signal_input @ active_clusters.T # how each cluster reacted on signal_input (strength), ca. shape (35,).\n",
    "grow = (signal_input * (active_cluster_nus * ys)[:,np.newaxis]) # how weights within each cluster must grow up in response to signal_input, matrix, ca. shape (35, 1024)\n",
    "grow *= active_cluster_masks # masking, only allow weights which belong to clusters to grow up, matrix, ca. shape (35, 1024)\n",
    "nomins = active_clusters + grow # grow weights within clusters\n",
    "denoms = nomins.max(axis=1) \n",
    "qqq = (nomins.T / denoms).T  # upload updated weights\n",
    "# learn_clusters[active_cluster_inds] = (nomins.T / denoms).T  # upload updated weights"
   ]
  },
  {
   "cell_type": "code",
   "execution_count": 432,
   "id": "93a03728-5386-4b13-9d86-2a945d6acd47",
   "metadata": {},
   "outputs": [
    {
     "data": {
      "text/plain": [
       "array([  1123,   1661,   2531, ..., 294541, 294854, 294974],\n",
       "      shape=(2857,), dtype=int32)"
      ]
     },
     "execution_count": 432,
     "metadata": {},
     "output_type": "execute_result"
    }
   ],
   "source": [
    "active_cluster_inds"
   ]
  },
  {
   "cell_type": "code",
   "execution_count": 433,
   "id": "cc944426-ee3c-4cc2-b324-b36744c3717d",
   "metadata": {},
   "outputs": [
    {
     "data": {
      "text/plain": [
       "array([[0., 0., 0., ..., 0., 0., 0.],\n",
       "       [0., 0., 0., ..., 0., 0., 0.],\n",
       "       [0., 0., 0., ..., 0., 0., 0.],\n",
       "       ...,\n",
       "       [0., 0., 0., ..., 0., 0., 0.],\n",
       "       [0., 0., 0., ..., 0., 0., 0.],\n",
       "       [0., 0., 0., ..., 0., 0., 0.]], shape=(2857, 1000), dtype=float32)"
      ]
     },
     "execution_count": 433,
     "metadata": {},
     "output_type": "execute_result"
    }
   ],
   "source": [
    "qqq"
   ]
  },
  {
   "cell_type": "code",
   "execution_count": 434,
   "id": "cfd6cf9d-13a8-4249-89d3-acd198c56250",
   "metadata": {},
   "outputs": [],
   "source": []
  },
  {
   "cell_type": "code",
   "execution_count": 435,
   "id": "2d9c9822-a0b9-44fc-a481-f6b6feefceff",
   "metadata": {},
   "outputs": [],
   "source": [
    "updated_learn_clusters = learn_clusters.copy()\n",
    "updated_learn_clusters_boolmap = xp.zeros(learn_clusters.shape[0], dtype='i')\n",
    "signal_output = xp_array_to_gpu(signal_output)\n",
    "learn_cluster_output_bits = xp_array_to_gpu(LEARN_CLUSTERS_SIDECAR.output_bits[:learn_clusters.shape[0]])"
   ]
  },
  {
   "cell_type": "code",
   "execution_count": 436,
   "id": "408b9da9-476c-4b14-93de-adedbd8c0a71",
   "metadata": {},
   "outputs": [
    {
     "name": "stdout",
     "output_type": "stream",
     "text": [
      "CPU times: user 452 μs, sys: 0 ns, total: 452 μs\n",
      "Wall time: 389 μs\n"
     ]
    }
   ],
   "source": [
    "%%time\n",
    "block_size = 256\n",
    "blocks_count = math.ceil(learn_clusters.shape[0] / block_size)\n",
    "learn_clusters_kernel((blocks_count, ), (block_size,),\n",
    "                      (HP_SIGNAL_VEC_LEN,\n",
    "                       HP_CLUSTER_ONES_COUNT_THRES,\n",
    "                       signal_input, \n",
    "                       signal_output,\n",
    "                       learn_clusters.shape[0], \n",
    "                       learn_clusters, \n",
    "                       learn_cluster_masks, \n",
    "                       learn_cluster_nus, \n",
    "                       learn_cluster_output_bits, \n",
    "                       updated_learn_clusters,\n",
    "                       updated_learn_clusters_boolmap\n",
    "                      ))"
   ]
  },
  {
   "cell_type": "code",
   "execution_count": 437,
   "id": "b588f7ae-ea30-41c3-81e7-e053c187b910",
   "metadata": {},
   "outputs": [
    {
     "data": {
      "text/plain": [
       "np.True_"
      ]
     },
     "execution_count": 437,
     "metadata": {},
     "output_type": "execute_result"
    }
   ],
   "source": [
    "np.all(active_cluster_inds == xp_array_from_gpu(np.flatnonzero(updated_learn_clusters_boolmap)))"
   ]
  },
  {
   "cell_type": "code",
   "execution_count": 438,
   "id": "5a66f8ad-ea25-4a94-860f-e9ef71195756",
   "metadata": {},
   "outputs": [
    {
     "data": {
      "text/plain": [
       "array(True)"
      ]
     },
     "execution_count": 438,
     "metadata": {},
     "output_type": "execute_result"
    }
   ],
   "source": [
    "np.all(np.isclose(qqq, updated_learn_clusters[updated_learn_clusters_boolmap.astype(bool)]))"
   ]
  },
  {
   "cell_type": "code",
   "execution_count": null,
   "id": "2761106f-8c01-4896-9637-8ff15900a4c2",
   "metadata": {},
   "outputs": [],
   "source": []
  },
  {
   "cell_type": "code",
   "execution_count": 233,
   "id": "22cd4d5b-332f-42cf-bd8c-49280135971a",
   "metadata": {},
   "outputs": [
    {
     "data": {
      "text/plain": [
       "(array([[ 97],\n",
       "        [242],\n",
       "        [319],\n",
       "        [374],\n",
       "        [495],\n",
       "        [583],\n",
       "        [603],\n",
       "        [655],\n",
       "        [688],\n",
       "        [872]]),\n",
       " array([[ 97],\n",
       "        [242],\n",
       "        [319],\n",
       "        [374],\n",
       "        [495],\n",
       "        [583],\n",
       "        [603],\n",
       "        [655],\n",
       "        [688],\n",
       "        [872]]))"
      ]
     },
     "execution_count": 233,
     "metadata": {},
     "output_type": "execute_result"
    }
   ],
   "source": [
    "ind = 19\n",
    "np.argwhere(qqq[ind]), np.argwhere(updated_active_clusters[ind])"
   ]
  },
  {
   "cell_type": "code",
   "execution_count": 232,
   "id": "edb27a7f-72c7-4ebb-af93-7ceb2d10f566",
   "metadata": {},
   "outputs": [
    {
     "data": {
      "text/plain": [
       "(array([1.        , 1.        , 1.        , 0.92879879, 1.        ,\n",
       "        1.        , 0.29836699]),\n",
       " array([1.        , 1.        , 1.        , 0.92879874, 1.        ,\n",
       "        1.        , 0.298367  ], dtype=float32))"
      ]
     },
     "execution_count": 232,
     "metadata": {},
     "output_type": "execute_result"
    }
   ],
   "source": [
    "qqq[ind][np.flatnonzero(qqq[ind])], updated_active_clusters[ind][np.flatnonzero(updated_active_clusters[ind])]"
   ]
  },
  {
   "cell_type": "code",
   "execution_count": 308,
   "id": "2b94947e-5d2b-4f62-b146-2f272c014f4e",
   "metadata": {},
   "outputs": [],
   "source": [
    "#active_clusters[0]"
   ]
  },
  {
   "cell_type": "code",
   "execution_count": null,
   "id": "3055ae3f-8c0f-4f08-9bc9-7aa05ba16e64",
   "metadata": {},
   "outputs": [],
   "source": []
  },
  {
   "cell_type": "code",
   "execution_count": null,
   "id": "f1fcabdc-cc6c-480c-a49a-06c13fedf660",
   "metadata": {},
   "outputs": [],
   "source": []
  },
  {
   "cell_type": "code",
   "execution_count": 87,
   "id": "b49e99ed-860e-454e-a8d4-43effcc20c65",
   "metadata": {},
   "outputs": [],
   "source": [
    "# learn_clusters_kernel = cp.RawKernel(r'''\n",
    "# extern \"C\" __global__\n",
    "# void learn_clusters(const int theVecLen,\n",
    "#                     const float * const theSignalInput, \n",
    "#                     const int theActiveClustersCount,\n",
    "#                     const float * const theActiveClusters, \n",
    "#                     const float * const theActiveClusterMasks, \n",
    "#                     const float * const theActiveClusterNus,\n",
    "#                     float * const theUpdatedActiveClusters) {\n",
    "#     const int clusterInd = blockDim.x * blockIdx.x + threadIdx.x;\n",
    "\n",
    "#     if(clusterInd >= theActiveClustersCount)\n",
    "#         return;\n",
    "\n",
    "#     const float * const cluster = theActiveClusters[clusterInd];\n",
    "#     float activationStrength = 0.0f;\n",
    "    \n",
    "#     for(int i = 0; i < theVecLen; i++) {\n",
    "#         activationStrength += cluster[i] * theSignalInput[i];\n",
    "#     }\n",
    "\n",
    "#     const float k = theActiveClusterNus[clusterInd] * activationStrength;\n",
    "#     const float * const mask = theActiveClusterMasks[clusterInd];\n",
    "#     float * const updatedCluster = theUpdatedActiveClusters[clusterInd];\n",
    "#     float maxWeight = 0.0f;\n",
    "    \n",
    "#     for(int i = 0; i < theVecLen; i++) {\n",
    "#         weight = cluster[i] + k * theSignalInput[i] * mask[i];\n",
    "#         updatedCluster[i] = weight;\n",
    "#         maxWeight = fmax(maxWeight, weight);\n",
    "#     }\n",
    "\n",
    "#     for(int i = 0; i < theVecLen; i++) {\n",
    "#         updatedCluster[i] /= weight;\n",
    "#     }\n",
    "# }\n",
    "# ''', 'learn_clusters')"
   ]
  },
  {
   "cell_type": "code",
   "execution_count": 266,
   "id": "f91a031b-ad9a-489a-9a9c-54067911336d",
   "metadata": {},
   "outputs": [],
   "source": [
    "# learn_clusters_kernel = cp.RawKernel(r'''\n",
    "# extern \"C\" __global__\n",
    "# void learn_clusters(const int theVecLen,\n",
    "#                     const float * const theSignalInput, \n",
    "#                     const int theActiveClustersCount,\n",
    "#                     const float * const theActiveClusters, \n",
    "#                     const float * const theActiveClusterMasks, \n",
    "#                     const float * const theActiveClusterNus,\n",
    "#                     float * const theUpdatedActiveClusters) {\n",
    "#     const int clusterInd = blockDim.x * blockIdx.x + threadIdx.x;\n",
    "\n",
    "#     if(clusterInd >= theActiveClustersCount)\n",
    "#         return;\n",
    "\n",
    "#     const auto ptrOffset = clusterInd * theVecLen;\n",
    "#     const float * const cluster = theActiveClusters + ptrOffset;\n",
    "#     float activationStrength = 0.0f;\n",
    "    \n",
    "#     for(int i = 0; i < theVecLen; i++) {\n",
    "#         if(cluster[i])\n",
    "#             activationStrength += cluster[i] * theSignalInput[i];\n",
    "#     }\n",
    "\n",
    "#     const float k = theActiveClusterNus[clusterInd] * activationStrength;\n",
    "#     const float * const mask = theActiveClusterMasks + ptrOffset;\n",
    "#     float * const updatedCluster = theUpdatedActiveClusters + ptrOffset;\n",
    "#     float maxWeight = 0.0f;\n",
    "    \n",
    "#     for(int i = 0; i < theVecLen; i++) {\n",
    "#         if(mask[i]) {\n",
    "#             const float updatedWeight = cluster[i] + k * theSignalInput[i];\n",
    "#             updatedCluster[i] = updatedWeight;\n",
    "#             maxWeight = fmax(maxWeight, updatedWeight);\n",
    "#         }\n",
    "#     }\n",
    "\n",
    "#     for(int i = 0; i < theVecLen; i++) {\n",
    "#         updatedCluster[i] /= maxWeight;\n",
    "#     }\n",
    "# }\n",
    "# ''', 'learn_clusters')"
   ]
  },
  {
   "cell_type": "code",
   "execution_count": null,
   "id": "690e0322-7373-429d-9cdc-fbecc0ea15a7",
   "metadata": {},
   "outputs": [],
   "source": [
    "# %%time\n",
    "# updated_active_clusters = active_clusters.copy()\n",
    "# block_size = 256\n",
    "# blocks_count = math.ceil(active_clusters.shape[0] / block_size)\n",
    "# learn_clusters_kernel((blocks_count, ), (block_size,),\n",
    "#                       (HP_SIGNAL_VEC_LEN, \n",
    "#                        signal_input, \n",
    "#                        active_clusters.shape[0], \n",
    "#                        active_clusters, \n",
    "#                        active_cluster_masks, \n",
    "#                        active_cluster_nus, \n",
    "#                        updated_active_clusters))"
   ]
  },
  {
   "cell_type": "code",
   "execution_count": null,
   "id": "a39f0cba-48f5-4339-9fa1-9be55d413863",
   "metadata": {},
   "outputs": [],
   "source": [
    "# add_kernel = cp.RawKernel(r'''\n",
    "# extern \"C\" __global__\n",
    "# void my_add(const float* x1, const float* x2, float* y) {\n",
    "#     int tid = blockDim.x * blockIdx.x + threadIdx.x;\n",
    "#     y[tid] = x1[tid] + x2[tid];\n",
    "# }\n",
    "# ''', 'my_add')\n",
    "# x1 = cp.arange(25, dtype=cp.float32).reshape(5, 5)\n",
    "# x2 = cp.arange(25, dtype=cp.float32).reshape(5, 5)\n",
    "# y = cp.zeros((5, 5), dtype=cp.float32)\n",
    "# add_kernel((5,), (5,), (x1, x2, y))"
   ]
  },
  {
   "cell_type": "markdown",
   "id": "1f11c2c9-4664-4377-b3cd-833ff161eb43",
   "metadata": {},
   "source": []
  },
  {
   "cell_type": "code",
   "execution_count": null,
   "id": "e23016d1-4fe9-4952-b3f2-3f30477554f5",
   "metadata": {},
   "outputs": [],
   "source": []
  },
  {
   "cell_type": "code",
   "execution_count": 62,
   "id": "cf723882-55c0-49d9-acb7-e50274d2201b",
   "metadata": {},
   "outputs": [
    {
     "data": {
      "image/png": "[encoded data removed]",
      "text/plain": [
       "<Figure size 1600x480 with 4 Axes>"
      ]
     },
     "metadata": {},
     "output_type": "display_data"
    }
   ],
   "source": [
    "signal_ind = RNG.choice(signals_input.shape[0])\n",
    "# signal_ind = 0\n",
    "signal_input = xp_array_from_gpu(signals_input[signal_ind])\n",
    "signal_output = signals_output[signal_ind]\n",
    "\n",
    "# xy_list_input = PIXEL_FEATURE_XY_ARRAY[debundle_sbv(signal_input, PIXEL_FEATURE_SBVS, HP_SIGNAL_VEC_NON_ZERO_BITS)]\n",
    "# xy_list_output = PIXEL_FEATURE_XY_ARRAY[debundle_sbv(signal_output, PIXEL_FEATURE_SBVS, HP_SIGNAL_VEC_NON_ZERO_BITS)]\n",
    "# ohe_input = xy_list_to_ohe_vec(xy_list_input)\n",
    "# ohe_output = xy_list_to_ohe_vec(xy_list_output)\n",
    "\n",
    "pixel_feature_inds = debundle_sbv(signal_input, PIXEL_FEATURE_SBVS, HP_SIGNAL_VEC_NON_ZERO_BITS)\n",
    "bm_input = PIXEL_FEATURE_BITMAP_MASKS[pixel_feature_inds].sum(axis=0)\n",
    "pixel_feature_inds = debundle_sbv(signal_output, PIXEL_FEATURE_SBVS, HP_SIGNAL_VEC_NON_ZERO_BITS)\n",
    "bm_output = PIXEL_FEATURE_BITMAP_MASKS[pixel_feature_inds].sum(axis=0)\n",
    "    \n",
    "fig, (ax1, ax2, ax3) = plt.subplots(1, 3)\n",
    "fig.set_figwidth(16)\n",
    "ax1.imshow(vec_to_square_matrix(xy_list_to_ohe_vec(raw_signals_input[signal_ind])))\n",
    "# ax2.imshow(vec_to_square_matrix(ohe_input))\n",
    "# ax3.imshow(vec_to_square_matrix(ohe_output));\n",
    "ax2.imshow(vec_to_square_matrix(bm_input))\n",
    "ax3.imshow(vec_to_square_matrix(bm_output));"
   ]
  },
  {
   "cell_type": "markdown",
   "id": "c4e073c2-0c90-4248-a9fc-57f4f063892f",
   "metadata": {},
   "source": [
    "# Test"
   ]
  },
  {
   "cell_type": "code",
   "execution_count": 128,
   "id": "5175b5c1-2cf3-4a31-b471-269694674987",
   "metadata": {},
   "outputs": [
    {
     "data": {
      "application/vnd.jupyter.widget-view+json": {
       "model_id": "e5a6f9e26d264f4eaddac5b45c6b9d81",
       "version_major": 2,
       "version_minor": 0
      },
      "text/plain": [
       "  0%|          | 0/1000 [00:00<?, ?it/s]"
      ]
     },
     "metadata": {},
     "output_type": "display_data"
    },
    {
     "data": {
      "text/plain": [
       "(460258, 1000)"
      ]
     },
     "execution_count": 128,
     "metadata": {},
     "output_type": "execute_result"
    }
   ],
   "source": [
    "df_clusters = pd.read_sql('SELECT output_bit, metas, nzb_list FROM clusters WHERE encoding=:encoding AND transf_code=:transf_code', \n",
    "                          params={\n",
    "                              'encoding': HP_SIGNAL_ENCODING, \n",
    "                              'transf_code': TRANSF_CODE},\n",
    "                          con=transfs_db_con)\n",
    "clusters = []\n",
    "cluster_metas = []\n",
    "\n",
    "for cluster_row in tqdm(df_clusters.itertuples(), total=len(df_clusters)):\n",
    "    cluster_nzb_list_for_output_bit = pickle.loads(cluster_row.nzb_list)\n",
    "    cluster_metas_for_output_bit = pickle.loads(cluster_row.metas)\n",
    "    assert len(cluster_nzb_list_for_output_bit) == len(cluster_metas_for_output_bit)\n",
    "\n",
    "    for nzb, meta in zip(cluster_nzb_list_for_output_bit, cluster_metas_for_output_bit):\n",
    "        assert len(nzb) > 0\n",
    "        \n",
    "        if meta.state in [ClusterState.PROD_WORK, ClusterState.PROD_ETERNAL]:\n",
    "            cluster = np.zeros(HP_SIGNAL_VEC_LEN, dtype='f')\n",
    "            cluster[nzb] = 1\n",
    "            clusters.append(cluster)\n",
    "        \n",
    "            cluster_ind = len(clusters)\n",
    "            meta.cluster_ind = cluster_ind\n",
    "            cluster_metas.append(meta)\n",
    "\n",
    "clusters = np.vstack(clusters)\n",
    "assert clusters.shape[0] == len(cluster_metas)\n",
    "    \n",
    "cluster_ones_counts = np.array(list(map(lambda m: m.ones_count, cluster_metas)), dtype='f')\n",
    "cluster_output_bits = np.array(list(map(lambda m: m.output_bit, cluster_metas)), dtype='i')\n",
    "cluster_input_bits_list = list(map(lambda m: m.input_bits, cluster_metas))\n",
    "clusters.shape"
   ]
  },
  {
   "cell_type": "code",
   "execution_count": 221,
   "id": "4b637ce9-40a8-49c6-b3e0-d132e60e01dd",
   "metadata": {},
   "outputs": [
    {
     "data": {
      "image/png": "[encoded data removed]",
      "text/plain": [
       "<Figure size 1800x600 with 3 Axes>"
      ]
     },
     "metadata": {},
     "output_type": "display_data"
    }
   ],
   "source": [
    "signals_generator = RealImageSignalsGenerator(TRANSF, 1, 1)\n",
    "# signals_generator = PooledPixelFeatureSignalsGenerator(TRANSF, 1, 100)\n",
    "sgr = signals_generator()\n",
    "\n",
    "input_sbv = sgr.signals_input[0]\n",
    "true_output_sbv = sgr.signals_output[0]\n",
    "infer_output_sbv = np.zeros_like(input_sbv)\n",
    "\n",
    "activated_clusters_boolmap = (clusters @ input_sbv) >= cluster_ones_counts\n",
    "output_bit_to_activated_clusters_count = Counter(cluster_output_bits[activated_clusters_boolmap])\n",
    "infer_output_sbv[list(output_bit_to_activated_clusters_count.keys())] = list(output_bit_to_activated_clusters_count.values())\n",
    "infer_output_sbv = np.where(infer_output_sbv > 0, 1, 0)\n",
    "condition_00 = (true_output_sbv == 0) & (infer_output_sbv == 0)\n",
    "condition_01 = (true_output_sbv == 0) & (infer_output_sbv == 1)\n",
    "condition_11 = (true_output_sbv == 1) & (infer_output_sbv == 1)\n",
    "diff_output_sbv = np.where(condition_00, 0, np.where(condition_11, 1, np.where(condition_01, 2, 3)))\n",
    "\n",
    "colors = ['black', 'gold', 'red', 'blue']\n",
    "bounds = [0, 1, 2, 3, 4]\n",
    "cmap = mpl.colors.ListedColormap(colors)\n",
    "norm = mpl.colors.BoundaryNorm(bounds, cmap.N)\n",
    "\n",
    "fig, (ax1, ax2, ax3) = plt.subplots(3, 1)\n",
    "fig.set_figwidth(18)\n",
    "fig.set_figheight(6)\n",
    "ax1.set_title(f'True Output SBV, non_zero_bits={np.count_nonzero(true_output_sbv)}')\n",
    "ax1.imshow(np.ones((80, 1)) * true_output_sbv, interpolation='none', cmap=cmap, norm=norm);\n",
    "ax2.set_title(f'Infer Output SBV, non_zero_bits={np.count_nonzero(infer_output_sbv)}')\n",
    "ax2.imshow(np.ones((80, 1)) * infer_output_sbv, interpolation='none', cmap=cmap, norm=norm);\n",
    "ax3.set_title(f'Diff Output SBV, TP={(diff_output_sbv == 1).sum()} (gold), FP={(diff_output_sbv == 2).sum()} (red), FN={(diff_output_sbv == 3).sum()} (blue)')\n",
    "ax3.imshow(np.ones((80, 1)) * diff_output_sbv, interpolation='none', cmap=cmap, norm=norm);"
   ]
  },
  {
   "cell_type": "code",
   "execution_count": 107,
   "id": "cbf93336-9a8f-4d35-adf7-384779124e8a",
   "metadata": {},
   "outputs": [
    {
     "data": {
      "application/vnd.jupyter.widget-view+json": {
       "model_id": "c4d9afecfa004fc7995599520663f5f1",
       "version_major": 2,
       "version_minor": 0
      },
      "text/plain": [
       "  0%|          | 0/100 [00:00<?, ?it/s]"
      ]
     },
     "metadata": {},
     "output_type": "display_data"
    },
    {
     "data": {
      "image/png": "[encoded data removed]",
      "text/plain": [
       "<Figure size 1600x480 with 2 Axes>"
      ]
     },
     "metadata": {},
     "output_type": "display_data"
    }
   ],
   "source": [
    "thres = 0\n",
    "toy_image_ids = get_random_toy_image_ids(100)\n",
    "bv_errors_count_list = defaultdict(list)\n",
    "sbv_errors_count_list = defaultdict(list)\n",
    "\n",
    "for toy_image_id in tqdm(toy_image_ids):\n",
    "    toy_image_origin = get_toy_image(toy_image_id)\n",
    "    toy_image_transf = transform_toy_image(toy_image_origin, TRANSF)\n",
    "\n",
    "    toy_image_origin_sbv = calc_toy_image_sbv(toy_image_origin)\n",
    "    toy_image_transf_sbv = calc_toy_image_sbv(toy_image_transf)\n",
    "    \n",
    "    activated_clusters_mask = (clusters @ toy_image_origin_sbv) >= cluster_ones_counts\n",
    "    \n",
    "    toy_image_infer_sbv = np.zeros_like(toy_image_origin_sbv)\n",
    "\n",
    "    # Approach 1: judge if output_bit is ON/OFF based on number of activated clusters\n",
    "    output_bit_to_activated_clusters_count = Counter(cluster_output_bits[activated_clusters_mask])\n",
    "    toy_image_infer_sbv[list(output_bit_to_activated_clusters_count.keys())] = list(output_bit_to_activated_clusters_count.values())\n",
    "    toy_image_infer_sbv = np.where(toy_image_infer_sbv > thres, 1, 0)\n",
    "\n",
    "    # Approach 2: judge if output_bit is ON/OFF based on number of unique bits touched by clusters within input signal\n",
    "    # output_bit_to_unique_input_bits = defaultdict(set)\n",
    "\n",
    "    # for mask_value, output_bit, input_bits in zip(activated_clusters_mask, cluster_output_bits, cluster_input_bits_list):\n",
    "    #     if not mask_value:\n",
    "    #         continue\n",
    "\n",
    "    #     output_bit_to_unique_input_bits[output_bit].update(input_bits)\n",
    "    # toy_image_infer_sbv[list(output_bit_to_unique_input_bits.keys())] = list(map(len, output_bit_to_unique_input_bits.values()))\n",
    "    # toy_image_infer_sbv = np.where(toy_image_infer_sbv > thres, 1, 0)\n",
    "    \n",
    "    sbv_false_positives_count = (toy_image_transf_sbv[toy_image_infer_sbv == 1] == 0).sum()\n",
    "    sbv_false_negatives_count = (toy_image_transf_sbv[toy_image_infer_sbv == 0] == 1).sum()\n",
    "    assert np.count_nonzero(toy_image_transf_sbv != toy_image_infer_sbv) == (sbv_false_positives_count + sbv_false_negatives_count)\n",
    "    sbv_errors_count_list['FP'].append(sbv_false_positives_count)\n",
    "    sbv_errors_count_list['FN'].append(sbv_false_negatives_count)\n",
    "    \n",
    "    toy_image_infer_bv = toy_image_sbv_to_bv(toy_image_infer_sbv)\n",
    "    toy_image_transf_bv = toy_image_sbv_to_bv(toy_image_transf_sbv)\n",
    "    bv_false_positives_count = (toy_image_transf_bv[toy_image_infer_bv == 1] == 0).sum()\n",
    "    bv_false_negatives_count = (toy_image_transf_bv[toy_image_infer_bv == 0] == 1).sum()\n",
    "    assert np.count_nonzero(toy_image_transf_bv != toy_image_infer_bv) == (bv_false_positives_count + bv_false_negatives_count)\n",
    "    bv_errors_count_list['FP'].append(bv_false_positives_count)\n",
    "    bv_errors_count_list['FN'].append(bv_false_negatives_count)\n",
    "\n",
    "fig, (ax1, ax2) = plt.subplots(2, 1)\n",
    "fig.set_figwidth(16)\n",
    "fig.tight_layout() \n",
    "errors_count = sum(itertools.chain.from_iterable(bv_errors_count_list.values()))\n",
    "ax1.set_title(f'BV Errors count={errors_count}, avg.={errors_count / len(toy_image_ids):.2f}; thres={thres}, clusters count={clusters.shape[0]}')\n",
    "\n",
    "for error_kind, errors_count in bv_errors_count_list.items():\n",
    "    ax1.bar(list(map(str, range(len(toy_image_ids)))), errors_count, label=error_kind)\n",
    "\n",
    "ax1.legend()\n",
    "\n",
    "errors_count = sum(itertools.chain.from_iterable(sbv_errors_count_list.values()))\n",
    "ax2.set_title(f'SBV Errors count={errors_count}, avg.={errors_count / len(toy_image_ids):.2f}; thres={thres}, clusters count={clusters.shape[0]}')\n",
    "\n",
    "for error_kind, errors_count in sbv_errors_count_list.items():\n",
    "    ax2.bar(list(map(str, range(len(toy_image_ids)))), errors_count, label=error_kind)\n",
    "\n",
    "ax2.legend();"
   ]
  },
  {
   "cell_type": "code",
   "execution_count": null,
   "id": "47f59aa5-155f-42d1-89f4-952ba29d1e2a",
   "metadata": {},
   "outputs": [],
   "source": []
  },
  {
   "cell_type": "code",
   "execution_count": null,
   "id": "bcc9f312-6621-4f77-ad5d-e0e5050dc036",
   "metadata": {},
   "outputs": [],
   "source": []
  },
  {
   "cell_type": "code",
   "execution_count": null,
   "id": "cf7b155d-cd7f-4649-91dc-f932bcb0e553",
   "metadata": {},
   "outputs": [],
   "source": []
  },
  {
   "cell_type": "code",
   "execution_count": null,
   "id": "f901126b-b8c1-457c-aced-0923b43927f8",
   "metadata": {},
   "outputs": [],
   "source": []
  },
  {
   "cell_type": "code",
   "execution_count": 116,
   "id": "f5f56508-9e19-4911-b739-a04452cf59d4",
   "metadata": {},
   "outputs": [
    {
     "data": {
      "image/png": "[encoded data removed]",
      "text/plain": [
       "<Figure size 1200x480 with 3 Axes>"
      ]
     },
     "metadata": {},
     "output_type": "display_data"
    }
   ],
   "source": [
    "toy_image_id = get_random_toy_image_ids(1)[0]\n",
    "toy_image = get_toy_image(toy_image_id)\n",
    "toy_image_sbv = calc_toy_image_sbv(toy_image)\n",
    "\n",
    "toy_image_transf = transform_toy_image(toy_image, TRANSF)\n",
    "toy_image_transf_sbv = encode_toy_image_sbv(toy_image_transf)\n",
    "\n",
    "activated_clusters_mask = (clusters @ toy_image_sbv) >= cluster_ones_counts\n",
    "values = Counter(cluster_output_bits[activated_clusters_mask])\n",
    "toy_image_sbv_out = np.zeros_like(toy_image_sbv)\n",
    "# toy_image_sbv_out[list(values.keys())] = list(values.values())\n",
    "# toy_image_sbv_out = np.where(toy_image_sbv_out > 1, 1, 0)\n",
    "toy_image_sbv_out[list(values.keys())] = 1\n",
    "\n",
    "fig, (ax1, ax2, ax3) = plt.subplots(1, 3)\n",
    "fig.set_figwidth(12)\n",
    "ax1.set_title('Origin')\n",
    "ax1.imshow(vec_to_square_matrix(decode_toy_image_sbv(toy_image_sbv)))\n",
    "ax2.set_title('Transf')\n",
    "ax2.imshow(vec_to_square_matrix(decode_toy_image_sbv(toy_image_transf_sbv)))\n",
    "ax3.set_title('Infer')\n",
    "ax3.imshow(vec_to_square_matrix(decode_toy_image_sbv(toy_image_sbv_out)));"
   ]
  },
  {
   "cell_type": "code",
   "execution_count": 110,
   "id": "bd3d6124-ae28-47e5-9877-7bf2eb87d8c3",
   "metadata": {},
   "outputs": [
    {
     "data": {
      "image/png": "[encoded data removed]",
      "text/plain": [
       "<Figure size 1600x480 with 2 Axes>"
      ]
     },
     "metadata": {},
     "output_type": "display_data"
    }
   ],
   "source": [
    "fig, (ax1, ax2) = plt.subplots(2, 1)\n",
    "fig.set_figwidth(16)\n",
    "\n",
    "toy_image_transf = transform_toy_image(toy_image, TRANSF)\n",
    "toy_image_transf_sbv = encode_toy_image_sbv(toy_image_transf)\n",
    "\n",
    "ax1.set_title(f'non_zero_bits={toy_image_transf_sbv.sum()}')\n",
    "ax1.imshow(np.ones((30, 1)) * toy_image_transf_sbv);\n",
    "ax2.set_title(f'non_zero_bits={toy_image_sbv_out.sum()}')\n",
    "ax2.imshow(np.ones((30, 1)) * toy_image_sbv_out);"
   ]
  }
 ],
 "metadata": {
  "kernelspec": {
   "display_name": "Python 3 (ipykernel)",
   "language": "python",
   "name": "python3"
  },
  "language_info": {
   "codemirror_mode": {
    "name": "ipython",
    "version": 3
   },
   "file_extension": ".py",
   "mimetype": "text/x-python",
   "name": "python",
   "nbconvert_exporter": "python",
   "pygments_lexer": "ipython3",
   "version": "3.12.9"
  }
 },
 "nbformat": 4,
 "nbformat_minor": 5
}
