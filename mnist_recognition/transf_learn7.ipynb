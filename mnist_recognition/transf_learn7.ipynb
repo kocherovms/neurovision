{
 "cells": [
  {
   "cell_type": "code",
   "execution_count": 181,
   "id": "27532844-1826-4299-b063-16a22e592f3f",
   "metadata": {},
   "outputs": [],
   "source": [
    "import os, math\n",
    "from enum import StrEnum, auto\n",
    "from collections import defaultdict, namedtuple, Counter\n",
    "import itertools\n",
    "import sqlite3\n",
    "import pickle\n",
    "import datetime\n",
    "import multiprocessing as mp\n",
    "import gc\n",
    "import json\n",
    "import decimal\n",
    "from IPython.core.getipython import get_ipython\n",
    "\n",
    "from PIL import Image, ImageDraw\n",
    "from tqdm.notebook import tqdm\n",
    "\n",
    "from sklearn.model_selection import train_test_split\n",
    "from sklearn.decomposition import PCA\n",
    "import matplotlib.pyplot as plt\n",
    "import scipy\n",
    "import numpy as np\n",
    "import cupy as cp\n",
    "import pandas as pd\n",
    "\n",
    "from module.utils import *\n",
    "from module.hdc import *\n",
    "from module.constants import *"
   ]
  },
  {
   "cell_type": "code",
   "execution_count": 182,
   "id": "73358262-adf2-4d17-a383-f120a5d1f8aa",
   "metadata": {},
   "outputs": [
    {
     "name": "stdout",
     "output_type": "stream",
     "text": [
      "xp = numpy\n",
      "transf_learn7.ipynb\n"
     ]
    }
   ],
   "source": [
    "LOG = Logging()\n",
    "\n",
    "config_var = 'SQLITE3_SEQ_GRID_0_2_4096'\n",
    "config = Config(config_var)\n",
    "RNG = np.random.default_rng()\n",
    "mp_ctx = mp.get_context('spawn') # req-d for CUPY to work in multithreaded env, 'fork' method leads to failures in bootstrap somewhere around CUDA\n",
    "\n",
    "if cp.cuda.is_available():\n",
    "    xp = cp.get_array_module(cp.empty(1))\n",
    "    xp_array_from_gpu = lambda a: a.get() if isinstance(a, cp.ndarray) else a\n",
    "    xp_array_to_gpu = lambda a: cp.asarray(a) if isinstance(a, np.ndarray) else a\n",
    "    xp_array_to_gpu_copy = lambda a: cp.asarray(a) if isinstance(a, np.ndarray) else a\n",
    "else:\n",
    "    xp = cp.get_array_module(np.empty(1))\n",
    "    xp_array_from_gpu = lambda a: a\n",
    "    xp_array_to_gpu = lambda a: a\n",
    "    xp_array_to_gpu_copy = lambda a: a.copy()\n",
    "\n",
    "print(f'xp = {xp.__name__}')\n",
    "\n",
    "with open(get_ipython().kernel.config['IPKernelApp']['connection_file'], 'r') as cf:\n",
    "    notebook_fname = json.load(cf)['jupyter_session']\n",
    "    notebook_fname = os.path.basename(notebook_fname)\n",
    "\n",
    "print(notebook_fname)"
   ]
  },
  {
   "cell_type": "code",
   "execution_count": 183,
   "id": "656ee6b7-3982-4f99-9251-6b67fef36ae3",
   "metadata": {},
   "outputs": [],
   "source": [
    "%run sequencing_sp2.ipynb # req-d for sequences depickling"
   ]
  },
  {
   "cell_type": "markdown",
   "id": "d5c8f88a-5403-4177-b5fc-e0e2a1da9c2d",
   "metadata": {},
   "source": [
    "# Data Loading"
   ]
  },
  {
   "cell_type": "code",
   "execution_count": 184,
   "id": "d2dd62ab-b44e-4251-9e86-d41b3672e36e",
   "metadata": {},
   "outputs": [
    {
     "name": "stdout",
     "output_type": "stream",
     "text": [
      "CPU times: user 2 μs, sys: 0 ns, total: 2 μs\n",
      "Wall time: 4.29 μs\n"
     ]
    },
    {
     "data": {
      "text/plain": [
       "((10000, 7), (2000, 7))"
      ]
     },
     "execution_count": 184,
     "metadata": {},
     "output_type": "execute_result"
    }
   ],
   "source": [
    "%time\n",
    "train_db_con = sqlite3.connect(DBUtils.get_full_db_file_name(config, config.train_db_file_name))\n",
    "test_db_con = sqlite3.connect(DBUtils.get_full_db_file_name(config, config.test_db_file_name))\n",
    "test_results_db_con = sqlite3.connect(DBUtils.get_full_db_file_name(config, config.test_results_db_file_name, with_prefix=False), autocommit=True)\n",
    "transfs_db_con = sqlite3.connect(DBUtils.get_full_db_file_name(config, config.transfs_db_file_name, with_prefix=False), autocommit=True)\n",
    "\n",
    "if not DBUtils.is_table_exists(test_results_db_con, 'test_runs'):\n",
    "    test_results_db_con.execute('CREATE TABLE test_runs(test_run_id INTEGER PRIMARY KEY, dummy)')\n",
    "\n",
    "if not DBUtils.is_table_exists(transfs_db_con, 'entities'):\n",
    "    transfs_db_con.execute('CREATE TABLE entities(encoding, name, count, sbv)')\n",
    "    \n",
    "if not DBUtils.is_table_exists(transfs_db_con, 'points'):\n",
    "    transfs_db_con.execute('CREATE TABLE points(encoding, count, non_zero_bits, points, output_bits)')\n",
    "\n",
    "if not DBUtils.is_table_exists(transfs_db_con, 'clusters'):\n",
    "    transfs_db_con.execute('CREATE TABLE clusters(encoding, transf_code, output_bit, sbv, meta)')\n",
    "\n",
    "df_train_images = pd.read_sql_query('SELECT * FROM images', con=train_db_con, index_col='image_id')\n",
    "df_test_images = pd.read_sql_query('SELECT * FROM images', con=test_db_con, index_col='image_id')\n",
    "df_train_images.shape, df_test_images.shape"
   ]
  },
  {
   "cell_type": "code",
   "execution_count": 185,
   "id": "70b21219-4f16-4824-90ec-7bda1574c5d1",
   "metadata": {},
   "outputs": [
    {
     "data": {
      "text/html": [
       "<div style=\"\n",
       "        display: grid; \n",
       "        grid-template-columns: repeat(8, 128px);\n",
       "        column-gap: 1px;\n",
       "        row-gap: 1px;\">\n",
       "        \n",
       "            <figure style=\"margin: 5px !important;\">\n",
       "              <img src=\"data:image/png;base64,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\" style=\"height: auto\">\n",
       "              <figcaption style=\"font-size: 0.6em\">0</figcaption>\n",
       "            </figure>\n",
       "        \n",
       "            <figure style=\"margin: 5px !important;\">\n",
       "              <img src=\"data:image/png;base64,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\" style=\"height: auto\">\n",
       "              <figcaption style=\"font-size: 0.6em\">0</figcaption>\n",
       "            </figure>\n",
       "        \n",
       "            <figure style=\"margin: 5px !important;\">\n",
       "              <img src=\"data:image/png;base64,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\" style=\"height: auto\">\n",
       "              <figcaption style=\"font-size: 0.6em\">2</figcaption>\n",
       "            </figure>\n",
       "        \n",
       "            <figure style=\"margin: 5px !important;\">\n",
       "              <img src=\"data:image/png;base64,iVBORw0KGgoAAAANSUhEUgAAAIAAAACACAAAAADmVT4XAAAKEElEQVR4nO2a2X/bNhLHBwBvUqQoUbclJ2m73U///39kH3bbpEls67553wSwD06brhPVkqzkZfV7szUDfDkaAMOBAK666qqrrrrqqquuuuqqq6666qqrrvp/FzrTDSOMMAJgnDHO+fkAwnluWNEURZEJzeI4y/Pz5z8XgBhNu27XpNJdrz2/+P4RkO1er9NpqtnqQRR4mX5fAATEag2G/X5LS2uIEkL28aePnoaCw5M0+yJWpwMgUZLVm9GrUafTUDNEkensvZQxRimtKGWMMUYZAwAAxjlgjIkgEAKMVVVVVPTFAIpZt29//GFYrxuiDFgfRGGSV2VR5FmWFUVVlmVRUAYIsYoyEERJVjRVBFpkSRLGLwaQaq1u9/WPr3uaLGKRyM28KsqqyNM0DqMwyfI8y9K0ZIAQLUqKJFnTapYpozIN/T3Li5cBYLnu9EY3t7c3LQEhDpLOOQLO8zSOQ9/3oyRP0yROcgYI0byokKwahtWoq6iIgy1JgicDHglACMEIIUGSdbvdH/YHbVsGAARAHg0UK00i0wriNEuzJEkfAYqiQrKi66ZdV1GZBjXubc8E0BSREEk1LKvhtNqtlq0/NVFlRTOTNMvzPM/ykgECVlUUiaKiarWaTGiZrul6ch6AYpqqKKqW03IaddM0DeNLG6xLelGWZVmVVUU5cMQpZwgTQZBlRRSAUdt7L50FoNZbDV2SjUZ30LF1RZZE8jUzUVAYp4wzYPwvSx4hjAkmCAGy9aeOBwEwxhgjjBBGSKy32rYuy3qz229bqgAAtKwo5YwDAGCCMQKOAGGMsIi/esBxoIzlZfV0JzoEgARFkRVZkmRJFCTDrpuqJGtWs2UrAACQBWEUJykDDljRNRkDB4yJIMqSLOGvDJjnSZyuJu6TVXgYQK5ZlmXUdEPXFFnWVEUSJVk1ajIAAFT+ar1eb70KAEjdaRoCZ4CxIClGzdAU6YsgJKG33eyX75bZkQAgWZ2207DrVt3UZSxgTAghgvDJ3t9MJ5PxdF0AgNga9G2RVxxjQdHrDds0VPXJuJG/X00n89X8aACk1LvDdtO2bdsy/ngezoEyjjkN1/PJw8PdeAkAAG6aNSRWcYwFudZIi4JyQhAAA8QRBw5V7O/Wi/HDdO2F5bEAWvvND826aZrmnwunKoqqqsqqLLzNdDybr93H/7syikROOUJE0hp+0MqYpAIAZoyyqirLzN+sVuvFfOnF+ZOj4CAA1rv/+KWmqYryp0XlBUle5mkax95uvdq6/qeEKgMcCYwBAMKKtdn2ctHkCACAFkWWJnGwmc+Xvuv6cUGPXgVaa/SjLJC/JPR+uQ2zPI8Cz/c834s+V2LZXsCcA3AOoulHudTMOQAAK9MkDHx3txhPVlmeFyX9onw8mIRE1g0BgHNAAAiA7RbTlZ/lWejuXT9KkuLzTvP5hOMiJ2qcFo+BLtPAd939dj0fTzYVfKUcOQzAy9hdi+hxS2OsqvLdcr4J8zyPPc8P0/x/xvrzDywbtuNYmogAgBXBZr3Z73fb1Wr/NPmeBYhmv1WyQBBCQMs8jmNvt/PSsirTOE7SA2WoaNg3t6+GvbaOAYBm7nS82Hu+7wUHC+eDAP4DWWuKLBACLAv2bhCGcVZSxqqi/HJD/TSY5fR++vmnQc3SAYAX0Xb8brqPkiRPD9bNhwBYNC+Whq7KgoBo6q42XpJX9DHTOOfoawMK9XZ/9NMvP3cJwcBY7u+Xk7upm5QlZ191+DsAyD0a6roiiwKiqbve+NUhSwAAhIlAaq3ezWjYb6sAUGZpuJ1O56vN4ej/LQCvUpYmoSQKBFgRutHfzg8gGobe6A+G/aGjAwDN3N1iMf04c+NnXpsOAtCCFbkgEIwQo3lyKIk/Cat22+kORwPHtgAA8mhz/+F+vlp/sfUeCwCMU5wjhBAAcPZ0A30ipJit4eDmdtQ1RQmgysLd4u7X96sgKZ7xPAzAOTzn+8fsRFDMTn84GowGjgDAsiR0V5OHh8k2e36IM98N/youW7bTvx3ddFqWAFCl4W69mM0fVl78vPMlAEBtDwc3N/22bSkANAm207uPY2+zf3r0fysAbHTevB52HVuVEZRxsFve/ee3+yLLnlk4lwJAitkevR44dYMA5HGwW80e7j48Lf+/HYAg1ux2t+fYBgYoE28zn04flu7x/i8G0ButdrtlqhiApsF28vHDbL076uu/CABWrFa77diKAABJsFvev327jGP2vQBIrdnpd526gRFAEmxX88nd3fqUttkLALAkS3rd6d0MnBoBqEp/PZuMZ+v9Udl/AQBiOnbDabW7/ZYOQPNoO3n/cT5zT2vavQBAbLwadTtOs2HaMkAR7Rd3v/6+CcLTenYvANCc238OO826LogIsshdze4//O5X9GDtcUkARDBpdAajYds2AICVwW45Hc8Wm+dO30sBEFXTBjeDXqtuAADPos304X48806e/1wAsdZsvh72HEsBAMij/ez9u7vF9pjj7zIAitW9eTXs2CoBgCzYr6Yf3n7cFWd0rc9r1QpGsz8adm1DAg5psF/NJpPJ/IznP6tTirGgNvu3b/pOTQKoimAzG08mi/1Z858TASIq9c7wzQ+NugJQZfFu8v7deL86b/5zIiAoptMdvrrVZBFYFu+XD2//PcmSM28tTgfAkm63u71eRwAEReptFpP7u+lX33y/DQBIVrvfc0wRAIBG2+nDdLU//8rkdACmNAa3/cZjt44G8/cfx7sXXBqdkQNqazjqmY8dz9ydvP+49I+vPy4AIJutwaBlEEoAcn8zG0+84wuwlwIgQkjDabUdSxMQLYrdZLJYn7kBnAVAFF1vD7qOrcsCSjebyf27mf+S5z8ZQG86/WG3UZMFBOni7duHyeKEAvTlAKLuDEfDtqUSBBAv3/5rsoteFoDTAJBoNPuDbsMQgXMWbmYPs+hAu+jbAIBYc3r9tikBK/Nsu9u54UkV8IsBsFxr9XpNQ4AqDb3NPkiPbCH83ZinGAuq5bRbtop5mfrrjfdc4+aoMU+wxZph2Y26QYBWeeT5UfbSBDgJQBDlptOo1zQCAJxWRVE+vQf+tgCSYXW7LUsTAQAB5+wlv5v4rKNzAImPCShjAADOGOdn/wDkLAAQtHrDNjURAwCnZZHnF8iAUwCwIGuaKksAAKyMPdePywsQHA+AsCCIoiQBAKAi3CzWXvZdAYBzAPR4LUpTdzlbuN8XgNEyz4uiAgCI/e1ysfbzlx2EAHDKMqRFEnr7naYDz9eL5XoXpBfYCE8AqJI9QSLONFamm4fx2k++vIP7lgC8CHmaFtleqdLIXU024UXmPyUCUeZFebqVyigIPddNKTv3ZeQ8AEoLKBGLxCIMkiS5SAKcBAAAkPokF8o4zj6thgvoxN1c0RVM87ykF/n+zwAQBAExVl3qKDwd4NHhUpNfddVVV10FAPBfTKtJbL0sFW8AAAAASUVORK5CYII=\" style=\"height: auto\">\n",
       "              <figcaption style=\"font-size: 0.6em\">7</figcaption>\n",
       "            </figure>\n",
       "        \n",
       "            <figure style=\"margin: 5px !important;\">\n",
       "              <img src=\"data:image/png;base64,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\" style=\"height: auto\">\n",
       "              <figcaption style=\"font-size: 0.6em\">3</figcaption>\n",
       "            </figure>\n",
       "        \n",
       "            <figure style=\"margin: 5px !important;\">\n",
       "              <img src=\"data:image/png;base64,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\" style=\"height: auto\">\n",
       "              <figcaption style=\"font-size: 0.6em\">5</figcaption>\n",
       "            </figure>\n",
       "        \n",
       "            <figure style=\"margin: 5px !important;\">\n",
       "              <img src=\"data:image/png;base64,iVBORw0KGgoAAAANSUhEUgAAAIAAAACACAAAAADmVT4XAAAIOklEQVR4nO2a2ZLcthWGDzaC4N77jKSR7YntvP/7pBI7kmZGvXC4b9hy0XKV4yRlskV1bvq/6y4S+PgDODg8IMBNN91000033XTTTTfd9H8W+qp7EUIIAVhrrQV7bQBMqcM9n2PZ1l0vpb6oFXo5AOEiSLa7BamPn9OiNFcHoDxa3T0+3tPsn//45Fg1XBuAuNH6/vu/vndOAmGsZS+vDSCi5Wa73XJnGAi1cmi0MdcFiFfrReBxO6BQwNCjTtrJS+FrALx4tQwcDO6Kr5yhqg1YfU0AKpLVwqcGSOAtVZFWxho5eQy+BsCLlwufaI0wpsu7hxasatUVAbAbLROBeo0Jw876BypwV/RXBCAiXkRc94CpQ2BJYjEcXya3cjkAEUGcBKYtNWGcOVG4wse/sWsBYEzi9SoJeFOnAxOecFwSFIkg1wLgYbR5fFj7pH997tzYEkMAXE6n720XAojdu4efftgIUx8+1KF0hDYYLtqQLwQI7n768fH9kjbF549lQhOpNQZtpgfCCwGcYPP+8f1GQJcfnkqZdNpaAHtB/5cAIETccLndLgR0ZXrYV6Qe7DmzuZID2PHDZLHwSV+mh/2hEa0GjAHAXpCUXACAmUiSJPYd3bweDsdTv+gNYASXjcF0AOz4yXq9jDzSl6f9IS1UqwxCCAAQmd7c5DsQ81fbh7fbSECfHw+nojPawLl/xgWfuhTwVABwkjc//vz4JnagPb28pLUBTAjBCAA7fhS6bFowmuwAcZfvf378/j4AVR6fn9MGCCMEIQAgbrQoi0ZPygkmAzB//e4vj29WDNrs8LLPeyAEWaM1AeKGi0LJadnxtCHAmPvxcne3WzDdZ6f9/lRKQFZ1XTdYwG4QR54zrclpDiDHS5br1TJipqxenl72aasBVFu8BgFh1A3iuKwmPtO0q914vV0vQw51+unDx+d93lsAWaWHtJRA3CCKgokOTPTLX2x368Sjqjx++vi0T6sBwKr6NX2tpCXcD0OPT8sJJgEgFix3u3UkiKpf9/tjVvUaAFRfl3WnADvC98XEZTgFABERb9++3UUcVJOnr0XTAwAYI4dBKguYMs4Z/nYAwLzl/cO7bUBB1kWWN4MFADDaaG2MtQhTSsnE0Dblcuz4i7t3bzce2LYqiqo77332XKCwgAhljHwzBxAi3IvX23XkQN+UeV71lgIAUIzgC4DjupxOm4Tj4wBChLl+GPnE9kV6PJ6yzlJsARgBo5U2gKgXRr5L0JTdaAIApoy7nudAnx9enp9e0tY41lpwKOhBSm2xEy7yyJ0W20ZfjRBlnLvcQdBmx/3nQ1oCY9hYcFwKRmkDwMKuiANOp1QqxuMSx/N94VKkZVNW7aCx43vEGHC8UDgUWUCURMkiicNswn44HoB6yWoVC4YAEObBSkk3CoixwFwRL2OPIkBIhMu7B8WrbrQJowEsi3Zv75cCA6IivlN+ZkToUWsRZdwLl2sPAQALdj+a6MPTPh87Ecc74CT33z2sBQLEA3CT7zrEhUsBECHUcYTnYQAgYgfBJiZNPrbZ8QBucv/wZiUAkBO68U5ZzBilAAhhwBgjDACA3CWPQnP6MHopjgVARCSbu03EMQDhDiCEED5HMWuNBQsGYQBEBbZ1JCZMrXHdI+KGq7s3m9ClAJh/+VsprZRWSmrEhMsdDICMGvpejV8GowAQwiyIV7u7Bf9doJdt23Rt3w1dp0m42SYUA5g+P+xP5fhIMNYBKoIoStzfdd/VRVFUZVO3daP49pEKAQC6Pj19fMn70dF45GAhTAkGYwHAIgA99G1dZllWFFXVVI1ya38jDQCo+vT06VDM7QBYI5vs8OxTgqyWcmibuirzoqiqummbVnOed8oC2KHcf/iwL8en5uMArJVN+mkBkSeY6auyLsuiqqu2abu+H3qpnUXVawtguuzT33/J5h4CC0ZWx19pvVjEwlSn02uW5VXbq0ErrYwyllSdNBbA9Nnzr78MEwrnYx0wJnuGerVZ+KbYfz6+vmZ1r8AAWAALgNteGwtgVZsfDlOKRaMjhulyouo690x5OJzyvPi3YTaDOtepkdXf6t1Q1mioigO3TZ6Vdf3fpxmmjhCO/BYOgO5MV746FGTb9cMfi9IYAUIA2PGiRVIN408uxgPYQXUIIwTWmP8oQmB8ToYx8+JVatHwLQDsmEaJGyRJr/X8Ccmf6cvmSHi4XHUTagRzASCEEQIAzKPlum3r2fOBP9f57BbzcFVU2fiy/fQi1f/oXmulLABygmQZe+Ofay4Ao4a+lwYwD5JkSkY0G4DsmnbQFnM/ikOXjH5DnQtA901Vd9piR4SR745/QZ0LQHVllteDRcz1fOGMB5hrFcgq3QvhCUK463I6/rnmAhjyF495cQSIMUbHT4G5AOyQfWZOstOACCET+p/PgfLIwjetASAYowllmvlWQVWUrTQACONJhaeZAKySwyCnn97PBWDtl1Ld+cf1AQCsMdqc31wm3TfbEBjV93JaPjorgNGyqVtpYOq3UfM5MNRV+yUVRGg8xVxxwGprfnMA/5aijtFsDlg99OdliAkhZPRuNNsqAABtAAEAE54QLh1pwpwAgBEBAB4GYeCxc5J6VQB8PsAlvu/73tiDi1kdsFoBABBGGRu7I86XlgNY2VQNRjD0Suux8XhOAN2VqcsJtGVVj/6ubVaAJtuTgNkqzcpajvRgXoD02UbcFPvXspUjN6U5AVR1CLqYm+I5rUfXKOYEGLInffAd03ze19+gPvDnkhnkwiFWFmkzOin4mg+b/yjCzseGRg7DRR+43nTTTTfddNNN/xf9C2GAFSG3QV/9AAAAAElFTkSuQmCC\" style=\"height: auto\">\n",
       "              <figcaption style=\"font-size: 0.6em\">4</figcaption>\n",
       "            </figure>\n",
       "        \n",
       "            <figure style=\"margin: 5px !important;\">\n",
       "              <img src=\"data:image/png;base64,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\" style=\"height: auto\">\n",
       "              <figcaption style=\"font-size: 0.6em\">7</figcaption>\n",
       "            </figure>\n",
       "        \n",
       "            <figure style=\"margin: 5px !important;\">\n",
       "              <img src=\"data:image/png;base64,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\" style=\"height: auto\">\n",
       "              <figcaption style=\"font-size: 0.6em\">4</figcaption>\n",
       "            </figure>\n",
       "        \n",
       "            <figure style=\"margin: 5px !important;\">\n",
       "              <img src=\"data:image/png;base64,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\" style=\"height: auto\">\n",
       "              <figcaption style=\"font-size: 0.6em\">9</figcaption>\n",
       "            </figure>\n",
       "        \n",
       "            <figure style=\"margin: 5px !important;\">\n",
       "              <img src=\"data:image/png;base64,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\" style=\"height: auto\">\n",
       "              <figcaption style=\"font-size: 0.6em\">3</figcaption>\n",
       "            </figure>\n",
       "        \n",
       "            <figure style=\"margin: 5px !important;\">\n",
       "              <img src=\"data:image/png;base64,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\" style=\"height: auto\">\n",
       "              <figcaption style=\"font-size: 0.6em\">6</figcaption>\n",
       "            </figure>\n",
       "        \n",
       "            <figure style=\"margin: 5px !important;\">\n",
       "              <img src=\"data:image/png;base64,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\" style=\"height: auto\">\n",
       "              <figcaption style=\"font-size: 0.6em\">9</figcaption>\n",
       "            </figure>\n",
       "        \n",
       "            <figure style=\"margin: 5px !important;\">\n",
       "              <img src=\"data:image/png;base64,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\" style=\"height: auto\">\n",
       "              <figcaption style=\"font-size: 0.6em\">1</figcaption>\n",
       "            </figure>\n",
       "        \n",
       "            <figure style=\"margin: 5px !important;\">\n",
       "              <img src=\"data:image/png;base64,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\" style=\"height: auto\">\n",
       "              <figcaption style=\"font-size: 0.6em\">2</figcaption>\n",
       "            </figure>\n",
       "        \n",
       "            <figure style=\"margin: 5px !important;\">\n",
       "              <img src=\"data:image/png;base64,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\" style=\"height: auto\">\n",
       "              <figcaption style=\"font-size: 0.6em\">3</figcaption>\n",
       "            </figure>\n",
       "        \n",
       "    </div>"
      ],
      "text/plain": [
       "<IPython.core.display.HTML object>"
      ]
     },
     "execution_count": 185,
     "metadata": {},
     "output_type": "execute_result"
    }
   ],
   "source": [
    "count = 8\n",
    "\n",
    "def get_images_and_labels(df, ids):\n",
    "    image_datas = df.loc[ids]['png']\n",
    "    images = [Image.open(io.BytesIO(image_data)) for image_data in image_datas]\n",
    "    labels = df.loc[ids]['value']\n",
    "    return images, list(labels)\n",
    "\n",
    "def get_some_random_images_and_labels(df, count):\n",
    "    image_ids = RNG.choice(df.index.unique(), count, replace=False)\n",
    "    return get_images_and_labels(df, image_ids)\n",
    "\n",
    "train_images, train_labels = get_some_random_images_and_labels(df_train_images, count)\n",
    "test_images, test_labels = get_some_random_images_and_labels(df_test_images, count)\n",
    "\n",
    "display_images_grid(train_images + test_images, captions=train_labels + test_labels, col_count=count)"
   ]
  },
  {
   "cell_type": "markdown",
   "id": "49a9c189-4620-4fff-b12c-0553540cc48d",
   "metadata": {},
   "source": [
    "# Core logic"
   ]
  },
  {
   "cell_type": "markdown",
   "id": "3e1f9cdd-a16c-4406-9eb6-69a653b84175",
   "metadata": {},
   "source": [
    "## Hyper Parameters"
   ]
  },
  {
   "cell_type": "code",
   "execution_count": 186,
   "id": "8d1303e2-9a31-466c-8eb6-48bd7a0a7fb8",
   "metadata": {},
   "outputs": [],
   "source": [
    "class SystemMode(StrEnum):\n",
    "    TOY_IMAGE = auto()\n",
    "    REAL_IMAGE_NO_FEATURES = auto() # SBV = set of duplets of {x:n,y:n}\n",
    "    REAL_IMAGE_WITH_FEATURES = auto() # SBV = set of triplets {x:n,y:n,f:n}, where f = feature (e.g. dash or angle)\n",
    "\n",
    "HP_SYSTEM_MODE = SystemMode.REAL_IMAGE_NO_FEATURES\n",
    "\n",
    "match HP_SYSTEM_MODE:\n",
    "    case SystemMode.TOY_IMAGE:\n",
    "        HP_SIGNAL_VEC_LEN = 256 # aka SBV\n",
    "        HP_SIGNAL_VEC_NON_ZERO_BITS = 6\n",
    "        \n",
    "        HP_POINTS_COUNT = 60_000\n",
    "        HP_POINT_NON_ZERO_BITS = 32\n",
    "        \n",
    "        HP_CLUSTER_ONES_COUNT_THRES = 4\n",
    "        HP_CLUSTER_CREATION_ONES_COUNT_THRES = 5\n",
    "        HP_CLUSTER_LEARN_STATE_IDLE_CYCLES = 10\n",
    "        HP_CLUSTER_PREPROD_STATE_IDLE_CYCLES = 30\n",
    "        HP_CLUSTER_LEARN_STATE_BINARIZATION_SCHEDULE = (10, 10)\n",
    "        HP_CLUSTER_PREPROD_STATE_SIGNALS_PROCESSED_THRES = 50\n",
    "        HP_CLUSTER_BINARIZE_THRES = 0.75\n",
    "        HP_CLUSTER_ACCURACY_THRES = 0.98\n",
    "        \n",
    "        HP_TOY_IMAGE_SIZE = 10\n",
    "        HP_TOY_IMAGE_SQUARE = HP_TOY_IMAGE_SIZE ** 2\n",
    "        HP_TOY_IMAGE_KERNEL_SIZE = 8\n",
    "        HP_TOY_IMAGE_KERNEL_SQUARE = HP_TOY_IMAGE_KERNEL_SIZE ** 2\n",
    "        assert HP_TOY_IMAGE_KERNEL_SIZE <= HP_TOY_IMAGE_SIZE\n",
    "        HP_TOY_IMAGE_ONES_COUNT = 8\n",
    "        \n",
    "    case SystemMode.REAL_IMAGE_NO_FEATURES:\n",
    "        HP_SIGNAL_VEC_LEN = 1500 # aka SBV\n",
    "        HP_SIGNAL_VEC_NON_ZERO_BITS = 7\n",
    "        HP_SIGNAL_VEC_SLOTS_COUNT = 10\n",
    "        \n",
    "        HP_POINTS_COUNT = 60_000\n",
    "        HP_POINT_NON_ZERO_BITS = 50\n",
    "        \n",
    "        HP_CLUSTER_ONES_COUNT_THRES = 5\n",
    "        HP_CLUSTER_CREATION_ONES_COUNT_THRES = 6\n",
    "        HP_CLUSTER_LEARN_STATE_IDLE_CYCLES = 10\n",
    "        HP_CLUSTER_PREPROD_STATE_IDLE_CYCLES = 30\n",
    "        HP_CLUSTER_LEARN_STATE_BINARIZATION_SCHEDULE = (10, 10)\n",
    "        HP_CLUSTER_PREPROD_STATE_SIGNALS_PROCESSED_THRES = 50\n",
    "        HP_CLUSTER_BINARIZE_THRES = 0.75\n",
    "        HP_CLUSTER_ACCURACY_THRES = 0.98\n",
    "\n",
    "    case _:\n",
    "        assert False, f'System mode {HP_SYSTEM_MODE.name} is not implemented'\n",
    "        \n",
    "HP_SIGNAL_ENCODING = f'{HP_SIGNAL_VEC_LEN}/{HP_SIGNAL_VEC_NON_ZERO_BITS}'"
   ]
  },
  {
   "cell_type": "markdown",
   "id": "24850512-c1a7-4d52-a17a-bf1a5f7641a7",
   "metadata": {},
   "source": [
    "## Types"
   ]
  },
  {
   "cell_type": "code",
   "execution_count": 187,
   "id": "62aec35b-11c1-4d9a-9cdc-b7315222c610",
   "metadata": {},
   "outputs": [],
   "source": [
    "class ClusterState(StrEnum):\n",
    "    LEARN = auto()\n",
    "    PREPROD = auto()\n",
    "    PROD = auto()\n",
    "    DEAD = auto()\n",
    "\n",
    "class ClusterMeta:\n",
    "    def __init__(self, cluster_ind):\n",
    "        self.state = ClusterState.LEARN\n",
    "        self.cluster_ind = cluster_ind\n",
    "        self.cluster_key = ()\n",
    "        self.output_bit = -1\n",
    "        self.input_bits = ()\n",
    "        self.nu = 0\n",
    "        self.ones_count = -1\n",
    "        self.signals_learned = -1\n",
    "        self.signals_to_learn_till_binarization = 0\n",
    "        self.binarization_schedule = ()\n",
    "        self.stats = Counter()\n",
    "        self.verify_image_ids = {}\n",
    "        self.alarm_cycle = None"
   ]
  },
  {
   "cell_type": "markdown",
   "id": "f70e4714-7395-4a8a-93f7-7248507d6e9f",
   "metadata": {},
   "source": [
    "## Memory"
   ]
  },
  {
   "cell_type": "code",
   "execution_count": 188,
   "id": "385867d3-df1a-44cd-a8b6-ab94e752aad3",
   "metadata": {},
   "outputs": [],
   "source": [
    "def hdv_array_log_like_grow_policy(size):\n",
    "    k = math.log(size, 100_000)\n",
    "    new_size = size * 2 if k < 1 else size * 1.1\n",
    "    return int(new_size)\n",
    "\n",
    "CLUSTERS = HdvArray(HP_SIGNAL_VEC_LEN, np, initial_length=10_000, dtype='f', grow_policy=hdv_array_log_like_grow_policy)\n",
    "CLUSTER_MASKS = HdvArray(HP_SIGNAL_VEC_LEN, np, initial_length=10_000, dtype='f', grow_policy=hdv_array_log_like_grow_policy)\n",
    "CLUSTER_METAS = {} # key - cluster index, value ClusterMeta instance"
   ]
  },
  {
   "cell_type": "code",
   "execution_count": 189,
   "id": "944a2145-43bc-4ece-b640-e4562074deaf",
   "metadata": {},
   "outputs": [],
   "source": [
    "def gc_memory():\n",
    "    gc.collect()\n",
    "    \n",
    "    if cp.cuda.is_available():\n",
    "        cp.get_default_memory_pool().free_all_blocks()\n",
    "\n",
    "def clear_memory(with_gc=True):\n",
    "    CLUSTER_METAS.clear()\n",
    "    CLUSTER_MASKS.clear(is_hard_clear=True)\n",
    "    CLUSTERS.clear(is_hard_clear=True)\n",
    "\n",
    "    if with_gc:\n",
    "        gc_memory()"
   ]
  },
  {
   "cell_type": "markdown",
   "id": "6438e5f1-7eb4-483c-8572-a32543ab348d",
   "metadata": {},
   "source": [
    "## Entities"
   ]
  },
  {
   "cell_type": "raw",
   "id": "c0294e1e-250b-45b4-aa7b-8172ed6328c5",
   "metadata": {},
   "source": [
    "Entities are SBV-encoded. SBV stands for \"sparsed binary vector\""
   ]
  },
  {
   "cell_type": "code",
   "execution_count": 190,
   "id": "b1a43c52-4006-4a8e-a97d-507ee8f69ef7",
   "metadata": {},
   "outputs": [
    {
     "name": "stdout",
     "output_type": "stream",
     "text": [
      "100 entities for name=\"pixels\" loaded from database (ROWID=1)\n"
     ]
    }
   ],
   "source": [
    "instructions = {\n",
    "    SystemMode.TOY_IMAGE: dict(pixels=dict(count=HP_TOY_IMAGE_SQUARE)),\n",
    "    SystemMode.REAL_IMAGE_NO_FEATURES: dict(x=dict(count=config.sample_size * HP_SIGNAL_VEC_SLOTS_COUNT), y=dict(count=config.sample_size * HP_SIGNAL_VEC_SLOTS_COUNT)),\n",
    "}[HP_SYSTEM_MODE]\n",
    "\n",
    "unique_sbvs = set()\n",
    "\n",
    "# Load existing entities\n",
    "for name, props in instructions.items():\n",
    "    df_entities = pd.read_sql('SELECT rowid, sbv FROM entities WHERE encoding=:encoding AND name=:name AND count=:count',\n",
    "                              params={'encoding': HP_SIGNAL_ENCODING, 'name': name, 'count': props['count']}, con=transfs_db_con)\n",
    "        \n",
    "    if len(df_entities) > 0:\n",
    "        props['entities'] = pickle.loads(df_entities.iloc[0].sbv)\n",
    "        assert props['count'] == props['entities'].shape[0]\n",
    "        assert np.all(props['entities'].sum(axis=1) == HP_SIGNAL_VEC_NON_ZERO_BITS)\n",
    "        unique_sbvs.update(map(lambda e: tuple(sorted(np.flatnonzero(e))), props['entities']))\n",
    "        print(f'{props['entities'].shape[0]} entities for name=\"{name}\" loaded from database (ROWID={df_entities.iloc[0].rowid})')\n",
    "\n",
    "assert len(unique_sbvs) == sum(map(lambda i: i.get('entities', np.array([])).shape[0], instructions.values()))\n",
    "\n",
    "# Generate and persist missing entities\n",
    "for name in filter(lambda name: not 'entities' in instructions[name], instructions.keys()):\n",
    "    props = instructions[name]\n",
    "    attempts_to_generate_unique_sbv = 10\n",
    "    entities = np.zeros((props['count'], HP_SIGNAL_VEC_LEN), dtype='f')\n",
    "\n",
    "    for entity_ind in range(entities.shape[0]):\n",
    "        for _ in range(attempts_to_generate_unique_sbv):\n",
    "            ii = RNG.choice(HP_SIGNAL_VEC_LEN, HP_SIGNAL_VEC_NON_ZERO_BITS, replace=False)\n",
    "            entity_sbv = tuple(sorted(ii))\n",
    "    \n",
    "            if not entity_sbv in unique_sbvs:\n",
    "                entities[entity_ind][ii] = 1\n",
    "                unique_sbvs.add(entity_sbv)\n",
    "                break\n",
    "        else:\n",
    "            assert False, f'Failed to get unique entity SBV within {attempts_to_generate_unique_sbv} attempts'\n",
    "\n",
    "    assert np.all(entities.sum(axis=1) == HP_SIGNAL_VEC_NON_ZERO_BITS)\n",
    "    props['entities'] = entities\n",
    "    transfs_db_con.execute('INSERT INTO entities(encoding, name, count, sbv) VALUES (:encoding, :name, :count, :sbv)', \n",
    "                           {'encoding': HP_SIGNAL_ENCODING, 'name': name, 'count': entities.shape[0], 'sbv': pickle.dumps(entities)})\n",
    "    print(f'{entities.shape[0]} entities created from scratch for name=\"{name}\"')\n",
    "\n",
    "assert len(unique_sbvs) == sum(map(lambda i: i.get('entities', np.array([])).shape[0], instructions.values()))\n",
    "\n",
    "# Interpret entities based on system mode (assign meaning)\n",
    "match HP_SYSTEM_MODE:\n",
    "    case SystemMode.TOY_IMAGE:\n",
    "        PIXELS = instructions['pixels']['entities']\n",
    "    case SystemMode.REAL_IMAGE_NO_FEATURES:\n",
    "        XS = instructions['x']['entities']\n",
    "        X_VALUES = np.tile(np.arange(config.sample_size), HP_SIGNAL_VEC_SLOTS_COUNT)\n",
    "        X_SLOTS = np.repeat(np.arange(HP_SIGNAL_VEC_SLOTS_COUNT), config.sample_size)\n",
    "\n",
    "        YS = instructions['y']['entities']\n",
    "        Y_VALUES = np.tile(np.arange(config.sample_size), HP_SIGNAL_VEC_SLOTS_COUNT)\n",
    "        Y_SLOTS = np.repeat(np.arange(HP_SIGNAL_VEC_SLOTS_COUNT), config.sample_size)\n",
    "    case _:\n",
    "        assert False, HP_SYSTEM_MODE.name"
   ]
  },
  {
   "cell_type": "markdown",
   "id": "540c8953-6ec6-41ad-945a-9f397989b501",
   "metadata": {},
   "source": [
    "## Points"
   ]
  },
  {
   "cell_type": "raw",
   "id": "d97e49f9-261c-4316-bf89-3f28475c9835",
   "metadata": {},
   "source": [
    "Here we define combinatorial points"
   ]
  },
  {
   "cell_type": "code",
   "execution_count": 191,
   "id": "9dbcbcad-eb00-4479-a32b-ae36b8373cce",
   "metadata": {},
   "outputs": [
    {
     "name": "stdout",
     "output_type": "stream",
     "text": [
      "60000 POINTS created from scratch\n"
     ]
    }
   ],
   "source": [
    "df_points = pd.read_sql('SELECT rowid, points, output_bits FROM points WHERE encoding=:encoding AND count=:count AND non_zero_bits=:non_zero_bits', \n",
    "                        params={\n",
    "                            'encoding': HP_SIGNAL_ENCODING,\n",
    "                            'count': HP_POINTS_COUNT,\n",
    "                            'non_zero_bits': HP_POINT_NON_ZERO_BITS}, \n",
    "                        con=transfs_db_con)\n",
    "\n",
    "if len(df_points) > 0:\n",
    "    POINTS = pickle.loads(df_points.iloc[0].points)\n",
    "    POINT_OUTPUT_BITS = pickle.loads(df_points.iloc[0].output_bits)\n",
    "    assert np.all(POINTS.sum(axis=1) == HP_POINT_NON_ZERO_BITS)\n",
    "    assert POINTS.shape[0] == POINT_OUTPUT_BITS.shape[0]\n",
    "    print(f'{POINTS.shape[0]} POINTS loaded from database (ROWID={df_points.iloc[0].rowid})')\n",
    "else:\n",
    "    POINTS = []\n",
    "    POINT_OUTPUT_BITS = []\n",
    "    output_bits = RNG.choice(HP_SIGNAL_VEC_LEN, HP_POINTS_COUNT)\n",
    "    \n",
    "    for output_bit in output_bits:\n",
    "        point_vec = np.zeros(HP_SIGNAL_VEC_LEN, dtype='f')\n",
    "        non_zero_inds = RNG.choice(HP_SIGNAL_VEC_LEN, HP_POINT_NON_ZERO_BITS, replace=False)\n",
    "        point_vec[non_zero_inds] = 1\n",
    "        POINTS.append(point_vec)\n",
    "        POINT_OUTPUT_BITS.append(output_bit)\n",
    "\n",
    "    POINTS = np.vstack(POINTS)\n",
    "    POINT_OUTPUT_BITS = np.hstack(POINT_OUTPUT_BITS)\n",
    "    assert np.all(POINTS.sum(axis=1) == HP_POINT_NON_ZERO_BITS)\n",
    "    assert POINTS.shape[0] == POINT_OUTPUT_BITS.shape[0]\n",
    "    transfs_db_con.execute('INSERT INTO points(encoding, count, non_zero_bits, points, output_bits) VALUES(:encoding, :count, :non_zero_bits, :points, :output_bits)', \n",
    "                           {\n",
    "                               'encoding': HP_SIGNAL_ENCODING, \n",
    "                               'count': HP_POINTS_COUNT,\n",
    "                               'non_zero_bits': HP_POINT_NON_ZERO_BITS,\n",
    "                               'points': pickle.dumps(POINTS),\n",
    "                               'output_bits': pickle.dumps(POINT_OUTPUT_BITS)\n",
    "                           })\n",
    "    print(f'{POINTS.shape[0]} POINTS created from scratch')"
   ]
  },
  {
   "cell_type": "markdown",
   "id": "de73e165-ba51-4050-b4b8-1af91973f3e3",
   "metadata": {},
   "source": [
    "## lambdas"
   ]
  },
  {
   "cell_type": "code",
   "execution_count": 192,
   "id": "9973a30b-4267-42a8-b61c-5c2c869c902c",
   "metadata": {},
   "outputs": [],
   "source": [
    "fetch_si_xy = lambda si: (si.x, si.y)\n",
    "get_sequence = lambda sequences: np.array(list(itertools.chain.from_iterable(sequences)))\n",
    "get_sequences_reading = lambda sequences, seq_reading_code: list(map(lambda r: sequences[r[0]] if r[1] == 0 else list(reversed(sequences[r[0]])), seq_reading_code))\n",
    "get_xy_sequence = lambda sequence, si_ind_dict: np.array(list(map(lambda si_ind: fetch_si_xy(si_ind_dict[si_ind]), sequence)))\n",
    "get_raw_image = lambda image_id: Image.open(io.BytesIO((df_train_images if image_id < 100_000_000 else df_test_images).loc[image_id]['png']))\n",
    "get_cluster_key = lambda tag, output_bit, input_bits: (tag, int(output_bit), tuple(map(int, sorted(input_bits))))"
   ]
  },
  {
   "cell_type": "markdown",
   "id": "8a7dc09c-d4b0-4fbd-a76d-92684194d275",
   "metadata": {},
   "source": [
    "## encode_xy_list_sbv"
   ]
  },
  {
   "cell_type": "code",
   "execution_count": 193,
   "id": "6b092598-5634-479f-b788-de7de2b5b22e",
   "metadata": {},
   "outputs": [],
   "source": [
    "def encode_xy_list_sbv(xy_list):\n",
    "    assert xy_list.shape[0] <= HP_SIGNAL_VEC_SLOTS_COUNT\n",
    "    ii = np.all(((xy_list >= 0) & (xy_list < config.sample_size)), axis=1)\n",
    "    xy_list = xy_list[ii]\n",
    "    slots = np.arange(xy_list.shape[0])\n",
    "    slot_base_inds = slots * config.sample_size\n",
    "    x_inds = slot_base_inds + xy_list[:,0]\n",
    "    y_inds = slot_base_inds + xy_list[:,1]\n",
    "    assert np.all(X_VALUES[x_inds] == xy_list[:,0])\n",
    "    assert np.all(Y_VALUES[y_inds] == xy_list[:,1])\n",
    "    assert np.all(X_SLOTS[x_inds] == slots)\n",
    "    assert np.all(Y_SLOTS[y_inds] == slots)\n",
    "    sbv = np.vstack([XS[x_inds], YS[y_inds]]) # matrix\n",
    "    sbv = np.sum(sbv, axis=0) # reduced to vector\n",
    "    sbv = np.where(sbv > 0, 1, 0) # and binarized (aka Bloom filter)\n",
    "    return sbv"
   ]
  },
  {
   "cell_type": "markdown",
   "id": "76bee177-67c1-4f6d-8ab6-14d652cb5515",
   "metadata": {},
   "source": [
    "## decode_xy_list_sbv"
   ]
  },
  {
   "cell_type": "code",
   "execution_count": 194,
   "id": "3ca199c2-561d-449c-be1a-9662e97ef703",
   "metadata": {},
   "outputs": [],
   "source": [
    "def decode_xy_list_sbv(xy_list_sbv):\n",
    "    xy_list_sbv = xp_array_from_gpu(xy_list_sbv)\n",
    "    x_inds = (XS @ xy_list_sbv) == HP_SIGNAL_VEC_NON_ZERO_BITS\n",
    "    x_list = X_VALUES[x_inds]\n",
    "    x_slots = X_SLOTS[x_inds]\n",
    "\n",
    "    y_inds = (YS @ xy_list_sbv) == HP_SIGNAL_VEC_NON_ZERO_BITS\n",
    "    y_list = Y_VALUES[y_inds]\n",
    "    y_slots = Y_SLOTS[y_inds]\n",
    "\n",
    "    xy_list = np.full((HP_SIGNAL_VEC_SLOTS_COUNT, 2), np.inf)\n",
    "    xy_list[x_slots,0] = x_list\n",
    "    xy_list[y_slots,1] = y_list\n",
    "    valid_xy_list_inds = np.all(np.isfinite(xy_list), axis=1)\n",
    "    xy_list = xy_list[valid_xy_list_inds].astype(int)\n",
    "    \n",
    "    return xy_list"
   ]
  },
  {
   "cell_type": "markdown",
   "id": "b33b1115-c433-4ec8-a3c7-bdd2a19a7381",
   "metadata": {},
   "source": [
    "## xy_list_to_bv"
   ]
  },
  {
   "cell_type": "code",
   "execution_count": 195,
   "id": "f7f6a110-5886-4d3b-9a78-f8ad40fe1a81",
   "metadata": {},
   "outputs": [],
   "source": [
    "def xy_list_to_bv(xy_list):\n",
    "    ii = np.all(((xy_list >= 0) & (xy_list < config.sample_size)), axis=1)\n",
    "    xy_list = xy_list[ii]\n",
    "    inds = xy_list @ np.array([1, config.sample_size])\n",
    "    bv = np.zeros(config.sample_size ** 2, dtype='f')\n",
    "    bv[inds] = 1\n",
    "    return bv"
   ]
  },
  {
   "cell_type": "markdown",
   "id": "aa61025a-f1f8-4b85-9b3b-a28c919b4387",
   "metadata": {},
   "source": [
    "## get_random_toy_image_ids"
   ]
  },
  {
   "cell_type": "code",
   "execution_count": 196,
   "id": "b0f9ed5a-fde1-473f-8f25-895767869647",
   "metadata": {},
   "outputs": [],
   "source": [
    "def get_random_toy_image_ids(count):\n",
    "    result = []\n",
    "    bits_list = RNG.integers(2, size=(count, HP_TOY_IMAGE_KERNEL_SQUARE), dtype='b')\n",
    "\n",
    "    for _ in range(count):\n",
    "        bits = np.zeros(HP_TOY_IMAGE_KERNEL_SQUARE, dtype='b')\n",
    "        ii = RNG.choice(HP_TOY_IMAGE_KERNEL_SQUARE, HP_TOY_IMAGE_ONES_COUNT, replace=False)\n",
    "        bits[ii] = 1\n",
    "        image_id = sum(map(lambda x: 2**int(x), ii))\n",
    "        assert ''.join(map(str, reversed(bits))) == np.binary_repr(image_id, width=HP_TOY_IMAGE_KERNEL_SQUARE)\n",
    "        result.append(image_id)\n",
    "\n",
    "    return result"
   ]
  },
  {
   "cell_type": "markdown",
   "id": "54d7a684-fe05-46e1-8c6e-a1b75279c8d4",
   "metadata": {},
   "source": [
    "## get_toy_image"
   ]
  },
  {
   "cell_type": "code",
   "execution_count": 197,
   "id": "18fd1716-363b-419b-81b4-f91b632785b3",
   "metadata": {},
   "outputs": [],
   "source": [
    "def get_toy_image(image_id):\n",
    "    bits = np.binary_repr(image_id, width=HP_TOY_IMAGE_KERNEL_SQUARE)\n",
    "    bits = np.array(list(map(int, reversed(bits))), dtype='f')\n",
    "    image = np.zeros((HP_TOY_IMAGE_SIZE, HP_TOY_IMAGE_SIZE), dtype='f')\n",
    "    offset = (HP_TOY_IMAGE_SIZE - HP_TOY_IMAGE_KERNEL_SIZE) // 2\n",
    "    image[offset:offset+HP_TOY_IMAGE_KERNEL_SIZE,offset:offset+HP_TOY_IMAGE_KERNEL_SIZE] = bits.reshape(HP_TOY_IMAGE_KERNEL_SIZE, -1)\n",
    "    return image.ravel()"
   ]
  },
  {
   "cell_type": "markdown",
   "id": "47d09d0f-663b-4c6a-a67c-ca314d7bfaeb",
   "metadata": {},
   "source": [
    "## get_toy_image_pixel_coords"
   ]
  },
  {
   "cell_type": "code",
   "execution_count": 198,
   "id": "8759db1c-d34d-4725-b2f8-6cf0e1576d88",
   "metadata": {},
   "outputs": [],
   "source": [
    "def get_toy_image_pixel_coords(toy_image):\n",
    "    toy_image = vec_to_square_matrix(toy_image)\n",
    "    pixel_ij_list = np.nonzero(toy_image) # tuple of 2 arrays (i and j) where pixels are non zero\n",
    "    ij = np.array(list(zip(*pixel_ij_list)))\n",
    "    xy = np.roll(ij, 1, axis=1)\n",
    "    return xy"
   ]
  },
  {
   "cell_type": "markdown",
   "id": "3efadb1b-0890-49dd-a960-a79bc3dbf342",
   "metadata": {},
   "source": [
    "## transform_toy_image"
   ]
  },
  {
   "cell_type": "code",
   "execution_count": 199,
   "id": "6df827de-0961-4886-8249-c4cd20028c89",
   "metadata": {},
   "outputs": [],
   "source": [
    "def transform_toy_image(toy_image, transf):\n",
    "    xy_list = get_toy_image_pixel_coords(toy_image)\n",
    "    xy_list = (transf @ np.hstack([xy_list, np.ones(xy_list.shape[0])[:,np.newaxis]]).T).T[:,:2]\n",
    "    xy_list = np.round(xy_list, decimals=0).astype(int)\n",
    "    ii = np.all(((xy_list >= 0) & (xy_list < HP_TOY_IMAGE_SIZE)), axis=1) \n",
    "    xy_list = xy_list[ii]\n",
    "    inds = (xy_list @ np.array([1, HP_TOY_IMAGE_SIZE])).astype(int)\n",
    "    toy_image = np.zeros_like(toy_image.ravel())\n",
    "    toy_image[inds] = 1\n",
    "    return toy_image"
   ]
  },
  {
   "cell_type": "markdown",
   "id": "c53ad2f3-dc17-4bcb-a9c9-9b44aa1f3a42",
   "metadata": {},
   "source": [
    "## encode_toy_image_sbv"
   ]
  },
  {
   "cell_type": "code",
   "execution_count": 200,
   "id": "d240081d-6785-4dc9-9139-114faf2f88d4",
   "metadata": {},
   "outputs": [],
   "source": [
    "def encode_toy_image_sbv(image):\n",
    "    assert image.shape[0] == PIXELS.shape[0]\n",
    "    mask = image.astype(bool)\n",
    "    active_pixels = PIXELS[mask]\n",
    "    return np.where(active_pixels.sum(axis = 0) > 0, 1, 0) # aka Bloom filter"
   ]
  },
  {
   "cell_type": "markdown",
   "id": "33dcc7c6-f12f-4c92-b55e-3901f92796ce",
   "metadata": {},
   "source": [
    "## decode_toy_image_sbv"
   ]
  },
  {
   "cell_type": "code",
   "execution_count": 201,
   "id": "b4c1ec61-f00f-447e-9cf1-a161ef102b4f",
   "metadata": {},
   "outputs": [],
   "source": [
    "def decode_toy_image_sbv(sbv):\n",
    "    sbv = xp_array_from_gpu(sbv)\n",
    "    pixel_sbv_inds = np.argwhere((PIXELS @ sbv) >= HP_SIGNAL_VEC_NON_ZERO_BITS).ravel()\n",
    "    bv = np.zeros((HP_TOY_IMAGE_SIZE, HP_TOY_IMAGE_SIZE)).ravel()\n",
    "    bv[pixel_sbv_inds] = 1\n",
    "    return bv"
   ]
  },
  {
   "cell_type": "markdown",
   "id": "454d74a8-397e-42b6-af1e-18437ef2f791",
   "metadata": {},
   "source": [
    "## .lab hdc"
   ]
  },
  {
   "cell_type": "code",
   "execution_count": 202,
   "id": "8a77cf8e-74e7-408e-83ed-bf28a26b2875",
   "metadata": {},
   "outputs": [],
   "source": [
    "# hdc = Hdc(10_000, np, dtype='f')\n",
    "# hdc.bundle = hdc.bundle_noties\n",
    "# hdc.cos_sim_threshold = 0.055\n",
    "# hdc.hdist_threshold = 4700\n",
    "\n",
    "hdc = Hdc(1_000, np, dtype='f')\n",
    "hdc.bundle = hdc.bundle_noties\n",
    "hdc.cos_sim_threshold = 0.10\n",
    "\n",
    "# hdc = Hdc(2_000, np, dtype='f')\n",
    "# hdc.bundle = hdc.bundle_noties\n",
    "# hdc.cos_sim_threshold = 0.10"
   ]
  },
  {
   "cell_type": "code",
   "execution_count": 203,
   "id": "69ac53e2-f39a-4e59-abfd-2b5eeb834122",
   "metadata": {},
   "outputs": [],
   "source": [
    "PIXEL_HDVS = hdc(config.sample_size ** 2)\n",
    "PIXEL_HDVS_NORM = hdc.normalize(PIXEL_HDVS)"
   ]
  },
  {
   "cell_type": "code",
   "execution_count": 204,
   "id": "af16ae38-e56f-48df-85c5-426649ab275a",
   "metadata": {},
   "outputs": [
    {
     "data": {
      "image/png": "[encoded data removed]",
      "text/plain": [
       "<Figure size 1200x480 with 2 Axes>"
      ]
     },
     "metadata": {},
     "output_type": "display_data"
    }
   ],
   "source": [
    "image_id = RNG.choice(df_train_images.index)\n",
    "image = next(df_train_images.loc[[image_id]].itertuples())\n",
    "si_ind_dict = pickle.loads(image.inner_si_ind_dict)\n",
    "sequences = pickle.loads(image.inner_sequences)\n",
    "seq = get_sequence(sequences)\n",
    "seq_xy = get_xy_sequence(seq, si_ind_dict)\n",
    "ii = np.all(((seq_xy >= 0) & (seq_xy < config.sample_size)), axis=1) \n",
    "seq_xy = seq_xy[ii]\n",
    "ind_seq = (seq_xy @ np.array([1, config.sample_size])).astype(int)\n",
    "seq_bv_true = np.zeros((config.sample_size, config.sample_size)).ravel()\n",
    "seq_bv_true[ind_seq] = 1\n",
    "\n",
    "seq_hdv = hdc.bundle(PIXEL_HDVS[ind_seq])\n",
    "seq_hdv_binary = hdc.to_binary(seq_hdv)\n",
    "seq_hdv_bipolar = hdc.to_bipolar(seq_hdv_binary)\n",
    "seq_hdv_bipolar_norm = hdc.normalize(seq_hdv_bipolar)\n",
    "pixel_hdv_inds = np.argwhere((PIXEL_HDVS_NORM @ seq_hdv_bipolar_norm) > hdc.cos_sim_threshold).ravel()\n",
    "seq_bv = np.zeros((config.sample_size, config.sample_size)).ravel()\n",
    "seq_bv[pixel_hdv_inds] = 1\n",
    "\n",
    "error_level = np.count_nonzero(seq_bv != seq_bv_true)\n",
    "\n",
    "fig, (ax1, ax2) = plt.subplots(1, 2)\n",
    "fig.set_figwidth(12)\n",
    "ax1.set_title(f'image_id={image_id}, points={len(ind_seq)}')\n",
    "ax1.imshow(seq_bv_true.reshape(config.sample_size, -1));\n",
    "ax2.set_title(f'err.={error_level}')\n",
    "ax2.set_title(f'N={seq_hdv.shape[0]} / {seq_hdv_binary.sum():.0f}, err.={error_level}')\n",
    "ax2.imshow(seq_bv.reshape(config.sample_size, -1));"
   ]
  },
  {
   "cell_type": "code",
   "execution_count": 205,
   "id": "93bd685d-76e0-4de1-a67b-6a61e9a2c29b",
   "metadata": {},
   "outputs": [
    {
     "data": {
      "image/jpeg": "[encoded data removed]",
      "image/png": "[encoded data removed]",
      "text/plain": [
       "<PIL.PngImagePlugin.PngImageFile image mode=L size=128x128>"
      ]
     },
     "execution_count": 205,
     "metadata": {},
     "output_type": "execute_result"
    }
   ],
   "source": [
    "get_raw_image(image_id)"
   ]
  },
  {
   "cell_type": "markdown",
   "id": "582ad609-9873-4ab3-830f-488d15ecf505",
   "metadata": {},
   "source": [
    "## .lab sbv"
   ]
  },
  {
   "cell_type": "code",
   "execution_count": 206,
   "id": "9d858d2c-11f8-4b20-a572-c9c1edcfaf55",
   "metadata": {},
   "outputs": [],
   "source": [
    "# # image_id = RNG.choice(df_train_images.index)\n",
    "# # image_id = 44917 # 60 points\n",
    "# image = next(df_train_images.loc[[image_id]].itertuples())\n",
    "# si_ind_dict = pickle.loads(image.inner_si_ind_dict)\n",
    "# sequences = pickle.loads(image.inner_sequences)\n",
    "# seq = get_sequence(sequences)\n",
    "# seq_xy = get_xy_sequence(seq, si_ind_dict)\n",
    "# ii = np.all(((seq_xy >= 0) & (seq_xy < config.sample_size)), axis=1) \n",
    "# seq_xy = seq_xy[ii]\n",
    "# ind_seq = (seq_xy @ np.array([1, config.sample_size])).astype(int)\n",
    "# seq_bv_true = np.zeros((config.sample_size, config.sample_size)).ravel()\n",
    "# seq_bv_true[ind_seq] = 1\n",
    "\n",
    "# # seq_sbv = np.where(np.sum(PIXELS[ind_seq], axis=0) > 0, 1, 0) # aka Bloom filter\n",
    "# seq_sbv = calc_seq_sbv(seq_xy)\n",
    "# # pixel_sbv_inds = np.argwhere((PIXELS @ seq_sbv) >= SBV_NON_ZERO_INDS).ravel()\n",
    "# # seq_bv = np.zeros((config.sample_size, config.sample_size)).ravel()\n",
    "# # seq_bv[pixel_sbv_inds] = 1\n",
    "# seq_bv = seq_sbv_to_bv(seq_sbv)\n",
    "\n",
    "# error_level = np.count_nonzero(seq_bv != seq_bv_true)\n",
    "\n",
    "# fig, (ax1, ax2) = plt.subplots(1, 2)\n",
    "# fig.set_figwidth(12)\n",
    "# ax1.set_title(f'image_id={image_id}, points={len(ind_seq)}')\n",
    "# ax1.imshow(seq_bv_true.reshape(config.sample_size, -1))\n",
    "# ax2.set_title(f'sbv={seq_sbv.shape[0]} / {seq_sbv.sum()}, non_zero_inds={HP_SIGNAL_VEC_NON_ZERO_BITS}, err.={error_level}')\n",
    "# ax2.imshow(seq_bv.reshape(config.sample_size, -1));"
   ]
  },
  {
   "cell_type": "markdown",
   "id": "8a40ec0a-891b-4385-88c3-6699bf574057",
   "metadata": {},
   "source": [
    "# Train"
   ]
  },
  {
   "cell_type": "code",
   "execution_count": 207,
   "id": "4287bb50-b460-4bdd-8d19-322e30669418",
   "metadata": {},
   "outputs": [],
   "source": [
    "def get_rotate_transf(deg):\n",
    "    half_sz = HP_TOY_IMAGE_SIZE / 2 if HP_SYSTEM_MODE == SystemMode.TOY_IMAGE else config.sample_size / 2\n",
    "    move_to_ooc_transf = np.array([\n",
    "        [1, 0, -half_sz],\n",
    "        [0, 1, -half_sz],\n",
    "        [0, 0, 1]])\n",
    "    theta = np.deg2rad(deg)\n",
    "    cos_theta = math.cos(theta)\n",
    "    sin_theta = math.sin(theta)\n",
    "    rotate_transf = np.array([\n",
    "        [cos_theta, -sin_theta, 0],\n",
    "        [sin_theta, cos_theta, 0],\n",
    "        [0, 0, 1]\n",
    "    ])\n",
    "    move_to_target_loc_transf = np.array([\n",
    "        [1, 0, half_sz],\n",
    "        [0, 1, half_sz],\n",
    "        [0, 0, 1]])\n",
    "    return move_to_target_loc_transf @ rotate_transf @ move_to_ooc_transf\n",
    "\n",
    "def get_offset_transf(dx=0, dy=0):\n",
    "    return np.array([\n",
    "        [1, 0, dx],\n",
    "        [0, 1, dy],\n",
    "        [0, 0, 1]])"
   ]
  },
  {
   "cell_type": "code",
   "execution_count": 208,
   "id": "d53d9c0e-7546-4979-a953-0b8f46f1ce48",
   "metadata": {},
   "outputs": [],
   "source": [
    "transfs = {\n",
    "    'offset_10_0': get_offset_transf(10, 0),\n",
    "    'offset_1_0': get_offset_transf(1, 0),\n",
    "    'offset_-1_0': get_offset_transf(-1, 0),\n",
    "    'offset_0_1': get_offset_transf(0, 1),\n",
    "    'offset_1_1': get_offset_transf(1, 1),\n",
    "    'offset_5_0': get_offset_transf(5, 0),\n",
    "    'rotate_45': get_rotate_transf(45),\n",
    "    'rotate_90': get_rotate_transf(90),\n",
    "}\n",
    "TRANSF_CODE = 'rotate_45'\n",
    "TRANSF = transfs[TRANSF_CODE]"
   ]
  },
  {
   "cell_type": "code",
   "execution_count": 209,
   "id": "145172a9-54d1-4563-a7ab-cde78584810c",
   "metadata": {},
   "outputs": [],
   "source": [
    "LOG.is_enabled = True"
   ]
  },
  {
   "cell_type": "code",
   "execution_count": 210,
   "id": "66c512a5-916f-4a20-b37c-e0369e7d65c8",
   "metadata": {},
   "outputs": [],
   "source": [
    "HP_MAX_LEARN_CLUSTERS_COUNT = 300_000\n",
    "HP_EPOCHS_COUNT = 1\n",
    "HP_OUTPUT_BITS_PER_BATCH = 1500\n",
    "HP_CYCLES_COUNT = 100\n",
    "HP_CYCLE_IMAGES_COUNT = min(100, len(df_train_images))"
   ]
  },
  {
   "cell_type": "code",
   "execution_count": null,
   "id": "14a44b60-5ac3-4951-aae9-89b5bbb89058",
   "metadata": {},
   "outputs": [],
   "source": []
  },
  {
   "cell_type": "code",
   "execution_count": 211,
   "id": "a2366ea9-8171-4373-b8ce-9cc0299c365f",
   "metadata": {},
   "outputs": [
    {
     "data": {
      "application/vnd.jupyter.widget-view+json": {
       "model_id": "8549049106d440ed8a64a4938a038207",
       "version_major": 2,
       "version_minor": 0
      },
      "text/plain": [
       "Epoch:   0%|          | 0/1 [00:00<?, ?it/s]"
      ]
     },
     "metadata": {},
     "output_type": "display_data"
    },
    {
     "data": {
      "application/vnd.jupyter.widget-view+json": {
       "model_id": "b51ffda6a3664af4ba0f92d9a719640e",
       "version_major": 2,
       "version_minor": 0
      },
      "text/plain": [
       "Output bit batch:   0%|          | 0/1 [00:00<?, ?it/s]"
      ]
     },
     "metadata": {},
     "output_type": "display_data"
    },
    {
     "data": {
      "application/vnd.jupyter.widget-view+json": {
       "model_id": "a89335a152274aea97758bdca25bcd45",
       "version_major": 2,
       "version_minor": 0
      },
      "text/plain": [
       "Cycle:   0%|          | 0/100 [00:00<?, ?it/s]"
      ]
     },
     "metadata": {},
     "output_type": "display_data"
    },
    {
     "ename": "AssertionError",
     "evalue": "",
     "output_type": "error",
     "traceback": [
      "\u001b[0;31m---------------------------------------------------------------------------\u001b[0m",
      "\u001b[0;31mAssertionError\u001b[0m                            Traceback (most recent call last)",
      "Cell \u001b[0;32mIn[211], line 97\u001b[0m\n\u001b[1;32m     95\u001b[0m \u001b[38;5;28;01massert\u001b[39;00m signals_input\u001b[38;5;241m.\u001b[39mshape[\u001b[38;5;241m0\u001b[39m] \u001b[38;5;241m==\u001b[39m signals_output\u001b[38;5;241m.\u001b[39mshape[\u001b[38;5;241m0\u001b[39m]\n\u001b[1;32m     96\u001b[0m LOG(\u001b[38;5;124mf\u001b[39m\u001b[38;5;124m'\u001b[39m\u001b[38;5;124mPrepared \u001b[39m\u001b[38;5;132;01m{\u001b[39;00msignals_input\u001b[38;5;241m.\u001b[39mshape[\u001b[38;5;241m0\u001b[39m]\u001b[38;5;132;01m}\u001b[39;00m\u001b[38;5;124m signals\u001b[39m\u001b[38;5;124m'\u001b[39m)\n\u001b[0;32m---> 97\u001b[0m \u001b[38;5;28;01massert\u001b[39;00m \u001b[38;5;28;01mFalse\u001b[39;00m\n\u001b[1;32m     99\u001b[0m \u001b[38;5;66;03m### \u001b[39;00m\n\u001b[1;32m    100\u001b[0m cluster_states \u001b[38;5;241m=\u001b[39m Counter(\u001b[38;5;28mmap\u001b[39m(\u001b[38;5;28;01mlambda\u001b[39;00m m: m\u001b[38;5;241m.\u001b[39mstate\u001b[38;5;241m.\u001b[39mname, CLUSTER_METAS\u001b[38;5;241m.\u001b[39mvalues()))\n",
      "\u001b[0;31mAssertionError\u001b[0m: "
     ]
    }
   ],
   "source": [
    "# %%time\n",
    "batch_output_bits_filter = lambda s, e: True\n",
    "# batch_output_bits_filter = lambda s, e: s >= 80\n",
    "\n",
    "for epoch in tqdm(range(HP_EPOCHS_COUNT), desc='Epoch'):\n",
    "    with LOG.auto_prefix('EPOCH', epoch):\n",
    "        for start_output_bit in tqdm(range(0, HP_SIGNAL_VEC_LEN, HP_OUTPUT_BITS_PER_BATCH), leave=False, desc='Output bit batch'):\n",
    "            end_output_bit = start_output_bit + HP_OUTPUT_BITS_PER_BATCH - 1\n",
    "            end_output_bit = min(end_output_bit, HP_SIGNAL_VEC_LEN - 1)\n",
    "            assert end_output_bit >= start_output_bit, (start_output_bit, end_output_bit)\n",
    "\n",
    "            if not batch_output_bits_filter(start_output_bit, end_output_bit):\n",
    "                continue\n",
    "            \n",
    "            with LOG.auto_prefix('OBITS', f'{start_output_bit}:{end_output_bit}'):\n",
    "                clear_memory(with_gc=False)\n",
    "                ## Select points for output bits (OBITS)\n",
    "                points_mask = (POINT_OUTPUT_BITS >= start_output_bit) & (POINT_OUTPUT_BITS <= end_output_bit)\n",
    "                points = xp_array_to_gpu(POINTS[points_mask])\n",
    "                point_output_bits = POINT_OUTPUT_BITS[points_mask]\n",
    "                point_inds = np.arange(points.shape[0])\n",
    "                LOG(f'{points.shape[0]} combinatorial points selected for output bits {start_output_bit}:{end_output_bit}, avg. points per output bit={points.shape[0] / ((end_output_bit - start_output_bit) + 1):.0f}')\n",
    "                assert points.shape[0] > 0\n",
    "\n",
    "                ## Restore prod clusters for output bits (OBITS)\n",
    "                df_clusters = pd.read_sql('SELECT ROWID, output_bit, sbv, meta FROM clusters WHERE encoding=:encoding AND transf_code=:transf_code ' + \n",
    "                                          'AND output_bit>=:start_output_bit AND output_bit<=:end_output_bit', \n",
    "                                          params={\n",
    "                                              'encoding': HP_SIGNAL_ENCODING, \n",
    "                                              'transf_code': TRANSF_CODE,\n",
    "                                              'start_output_bit': start_output_bit, \n",
    "                                              'end_output_bit': end_output_bit}, \n",
    "                                          con=transfs_db_con)\n",
    "                \n",
    "                for cluster_row in df_clusters.itertuples():\n",
    "                    prod_clusters_for_output_bit = pickle.loads(cluster_row.sbv)\n",
    "                    prod_cluster_metas_for_output_bit = pickle.loads(cluster_row.meta)\n",
    "                    assert prod_clusters_for_output_bit.shape[0] == len(prod_cluster_metas_for_output_bit)\n",
    "\n",
    "                    for cluster, meta in zip(prod_clusters_for_output_bit, prod_cluster_metas_for_output_bit):\n",
    "                        cluster_ind = CLUSTERS.lease()\n",
    "                        assert CLUSTER_MASKS.lease() == cluster_ind\n",
    "                        meta.cluster_ind = cluster_ind\n",
    "                        CLUSTERS.array[cluster_ind] = cluster\n",
    "                        CLUSTER_MASKS.array[cluster_ind] = cluster\n",
    "                        CLUSTER_METAS[cluster_ind] = meta\n",
    "\n",
    "                    LOG(f'Loaded {prod_clusters_for_output_bit.shape[0]} clusters for output bit {cluster_row.output_bit} (ROWID={cluster_row.rowid})')\n",
    "\n",
    "                assert len(CLUSTER_METAS) == CLUSTERS.active_len\n",
    "                assert len(CLUSTER_METAS) == CLUSTER_MASKS.active_len\n",
    "                LOG(f'Loaded {len(CLUSTER_METAS)} clusters in total for encoding=\"{HP_SIGNAL_ENCODING}\" and transf_code=\"{TRANSF_CODE}\"')\n",
    "\n",
    "                prod_cluster_metas = filter(lambda c: c.state == ClusterState.PROD, CLUSTER_METAS.values())\n",
    "                unique_cluster_keys = set(map(lambda m: m.cluster_key, prod_cluster_metas))\n",
    "                \n",
    "                ## Mine clusters\n",
    "                for cycle in tqdm(range(HP_CYCLES_COUNT), leave=False, desc='Cycle'):\n",
    "                    with LOG.auto_prefix('CYCLE', cycle):\n",
    "                        LOG(f'===')\n",
    "                        ### Prepare input and output signals for training\n",
    "                        signals_input = []\n",
    "                        signals_output = []\n",
    "\n",
    "                        match HP_SYSTEM_MODE:\n",
    "                            case SystemMode.TOY_IMAGE:\n",
    "                                cycle_image_ids = get_random_toy_image_ids(HP_CYCLE_IMAGES_COUNT)\n",
    "    \n",
    "                                for cycle_image_id in cycle_image_ids:\n",
    "                                    toy_image_origin = get_toy_image(cycle_image_id)\n",
    "                                    toy_image_transf = transform_toy_image(toy_image_origin, TRANSF)\n",
    "                                    toy_image_origin_sbv, toy_image_transf_sbv = encode_toy_image_sbv(toy_image_origin), encode_toy_image_sbv(toy_image_transf)\n",
    "                                    signals_input.append(toy_image_origin_sbv)\n",
    "                                    signals_output.append(toy_image_transf_sbv)\n",
    "                                    \n",
    "                            case SystemMode.REAL_IMAGE_NO_FEATURES:\n",
    "                                cycle_image_ids = RNG.choice(df_train_images.index, HP_CYCLE_IMAGES_COUNT, replace=False).astype('i')\n",
    "                                \n",
    "                                for image in df_train_images.loc[cycle_image_ids].itertuples():\n",
    "                                    sequences = pickle.loads(image.inner_sequences)\n",
    "                                    si_ind_dict = pickle.loads(image.inner_si_ind_dict)\n",
    "                                    xy_list_full = get_xy_sequence(get_sequence(sequences), si_ind_dict)\n",
    "                                    xy_list_origin = RNG.choice(xy_list_full, min(xy_list_full.shape[0], HP_SIGNAL_VEC_SLOTS_COUNT), replace=False)\n",
    "                                    xy_list_transf = np.hstack([xy_list_origin, np.ones(xy_list_origin.shape[0])[:,np.newaxis]]) # make homogeneous coords\n",
    "                                    xy_list_transf = (TRANSF @ xy_list_transf.T).T[:,:2]\n",
    "                                    xy_list_transf = np.round(xy_list_transf, decimals=0).astype(int)\n",
    "                                    xy_list_origin_sbv, xy_list_transf_sbv = encode_xy_list_sbv(xy_list_origin), encode_xy_list_sbv(xy_list_transf)\n",
    "                                    signals_input.append(xy_list_origin_sbv)\n",
    "                                    signals_output.append(xy_list_transf_sbv)\n",
    "                            case _:\n",
    "                                assert False, HP_SYSTEM_MODE\n",
    "                        \n",
    "                        signals_input = xp.vstack(signals_input)\n",
    "                        signals_output = np.vstack(signals_output)\n",
    "                        assert signals_input.shape[0] == signals_output.shape[0]\n",
    "                        LOG(f'Prepared {signals_input.shape[0]} signals')\n",
    "                        assert False\n",
    "                        \n",
    "                        ### \n",
    "                        cluster_states = Counter(map(lambda m: m.state.name, CLUSTER_METAS.values()))\n",
    "                        LOG(f'Cycle {cycle} started, clusters: {cluster_states}, CLUSTERS.array.shape={CLUSTERS.array.shape}')\n",
    "                        \n",
    "                        ### Create new clusters\n",
    "                        learn_cluster_count = cluster_states[ClusterState.LEARN.name]\n",
    "                        new_clusters_count = 0\n",
    "                        \n",
    "                        for signal_input, signal_output in zip(signals_input, signals_output):\n",
    "                            if learn_cluster_count > HP_MAX_LEARN_CLUSTERS_COUNT:\n",
    "                                break\n",
    "                                \n",
    "                            active_points_mask = signal_output[point_output_bits] != 0\n",
    "                            active_point_inds = point_inds[active_points_mask]\n",
    "\n",
    "                            if active_point_inds.shape[0] == 0:\n",
    "                                continue\n",
    "                                \n",
    "                            active_points = points[active_point_inds] # subset of points which are connected to active output bits\n",
    "                            active_points_signal_input_mat = active_points * signal_input\n",
    "                            active_points_signal_input_mask = (active_points_signal_input_mat.sum(axis=1) >= HP_CLUSTER_CREATION_ONES_COUNT_THRES) # active_points must have at least ON bits within input signal\n",
    "                            active_points_signal_input_mask = xp_array_from_gpu(active_points_signal_input_mask)\n",
    "                    \n",
    "                            for mask_value, point_ind, subsignal_input in zip(active_points_signal_input_mask,\n",
    "                                                                              active_point_inds, \n",
    "                                                                              xp_array_from_gpu(active_points_signal_input_mat)):\n",
    "                                if not mask_value:\n",
    "                                    continue\n",
    "                                \n",
    "                                active_output_bit = int(point_output_bits[point_ind])\n",
    "                                active_input_bits = np.flatnonzero(subsignal_input)\n",
    "                                assert active_input_bits.shape[0] >= HP_CLUSTER_CREATION_ONES_COUNT_THRES\n",
    "                                cluster_key = get_cluster_key(ClusterState.LEARN.name, active_output_bit, active_input_bits)\n",
    "                    \n",
    "                                if cluster_key in unique_cluster_keys:\n",
    "                                    continue\n",
    "                    \n",
    "                                cluster_ind = CLUSTERS.lease()\n",
    "                                cluster_mask_ind = CLUSTER_MASKS.lease()\n",
    "                                assert cluster_ind == cluster_mask_ind\n",
    "                                # due to frequent uploads hosting CLUSTERS and CLUSTER_MASKS on GPU slow downs whole process a lot,\n",
    "                                # as such host CLUSTERS and CLUSTER_MASKS on CPU and bulk upload to GPU when needed\n",
    "                                CLUSTERS.array[cluster_ind] = subsignal_input\n",
    "                                CLUSTER_MASKS.array[cluster_ind] = subsignal_input\n",
    "                                cluster_meta = ClusterMeta(cluster_ind)\n",
    "                                cluster_meta.cluster_key = cluster_key\n",
    "                                cluster_meta.output_bit = active_output_bit\n",
    "                                cluster_meta.input_bits = tuple(active_input_bits)\n",
    "                                cluster_meta.nu = 1 / subsignal_input.sum()\n",
    "                                cluster_meta.signals_to_learn_till_binarization = HP_CLUSTER_LEARN_STATE_BINARIZATION_SCHEDULE[0]\n",
    "                                cluster_meta.binarization_schedule = HP_CLUSTER_LEARN_STATE_BINARIZATION_SCHEDULE\n",
    "                                cluster_meta.alarm_cycle = cycle + HP_CLUSTER_LEARN_STATE_IDLE_CYCLES\n",
    "                                CLUSTER_METAS[cluster_ind] = cluster_meta\n",
    "                                unique_cluster_keys.add(cluster_key)\n",
    "                                new_clusters_count += 1\n",
    "                                learn_cluster_count += 1\n",
    "                    \n",
    "                        LOG(f'Created {new_clusters_count} clusters')\n",
    "\n",
    "                        ### Upload clusters to GPU to speed-up learning, binarization and verification steps\n",
    "                        gpu_clusters = xp_array_to_gpu(CLUSTERS.array_active)\n",
    "                        gpu_cluster_masks = xp_array_to_gpu(CLUSTER_MASKS.array_active)\n",
    "                        gpu_cluster_nus = np.zeros(CLUSTERS.active_len)\n",
    "                        for m in CLUSTER_METAS.values(): gpu_cluster_nus[m.cluster_ind] = m.nu\n",
    "                        gpu_cluster_nus = xp_array_to_gpu(gpu_cluster_nus)\n",
    "                        LOG('GPU upload complete')\n",
    "\n",
    "                        ### Learn clusters\n",
    "                        learn_cluster_metas = list(filter(lambda c: c.state == ClusterState.LEARN, CLUSTER_METAS.values()))\n",
    "                        learn_cluster_inds = np.array(list(map(lambda m: m.cluster_ind, learn_cluster_metas)), dtype='i')\n",
    "                        learn_cluster_output_bits = list(map(lambda m: m.output_bit, learn_cluster_metas))\n",
    "                        learned_clusters_inds = set()\n",
    "                        \n",
    "                        for signal_input, signal_output in zip(signals_input, signals_output):\n",
    "                            # this stanza 'signal_output[learn_cluster_output_bits] != 0' effectively produces\n",
    "                            # boolean mask for learn_cluster_inds - clusters which are connected to currently active output bits\n",
    "                            active_cluster_inds = learn_cluster_inds[signal_output[learn_cluster_output_bits] != 0]\n",
    "                    \n",
    "                            if active_cluster_inds.shape[0] == 0:\n",
    "                                continue\n",
    "                            \n",
    "                            active_clusters = gpu_clusters[active_cluster_inds] # subset of CLUSTERS which are connected to active bits in signal_output\n",
    "                            active_cluster_masks = gpu_cluster_masks[active_cluster_inds]\n",
    "                            active_cluster_nus = gpu_cluster_nus[active_cluster_inds]\n",
    "\n",
    "                            ys = signal_input @ active_clusters.T # how each cluster reacted on signal_input (strength), ca. shape (35,).\n",
    "                            zs = signal_input @ active_cluster_masks.T # number of activated bits within each cluster for given signal_input, ca. shape (35,)\n",
    "                            grow = (signal_input * (active_cluster_nus * ys)[:,np.newaxis]) # how weights within each cluster must grow up in response to signal_input, matrix, ca. shape (35, 1024)\n",
    "                            grow *= active_cluster_masks # masking, only allow weights which belong to clusters to grow up, matrix, ca. shape (35, 1024)\n",
    "                            nomins = active_clusters + grow # grow weights within clusters\n",
    "                            denoms = nomins.max(axis=1) \n",
    "                            updated_active_clusters = (nomins.T / denoms).T \n",
    "                            # upload updated weights for those clusters which have enough bits touched by signal\n",
    "                            # (i.e. we won't update clusters which have e.g. 1 bit touched)\n",
    "                            zs_mask = xp_array_from_gpu(zs >= HP_CLUSTER_ONES_COUNT_THRES)\n",
    "                            gpu_clusters[active_cluster_inds[zs_mask]] = updated_active_clusters[zs_mask]\n",
    "                    \n",
    "                            for cluster_ind in active_cluster_inds[zs_mask]:\n",
    "                                cluster_meta = CLUSTER_METAS[cluster_ind]\n",
    "                                cluster_meta.signals_learned += 1\n",
    "                                cluster_meta.signals_to_learn_till_binarization -= 1\n",
    "                                cluster_meta.alarm_cycle = cycle + HP_CLUSTER_LEARN_STATE_IDLE_CYCLES\n",
    "                                learned_clusters_inds.add(cluster_ind)\n",
    "                    \n",
    "                        LOG(f'Learned {len(learned_clusters_inds)} clusters')\n",
    "\n",
    "                        ### Binarize LEARN clusters (develop specialization)\n",
    "                        cluster_metas_to_binarize = list(filter(lambda m: m.state == ClusterState.LEARN and m.signals_to_learn_till_binarization <= 0, CLUSTER_METAS.values()))\n",
    "                        cluster_inds_to_binarize = list(map(lambda m: m.cluster_ind, cluster_metas_to_binarize))\n",
    "                        new_cluster_states = Counter()\n",
    "\n",
    "                        if cluster_inds_to_binarize:\n",
    "                            binarized_clusters = xp.where(gpu_clusters[cluster_inds_to_binarize] > HP_CLUSTER_BINARIZE_THRES, 1, 0)\n",
    "                            gpu_clusters[cluster_inds_to_binarize] = binarized_clusters\n",
    "                            gpu_cluster_masks[cluster_inds_to_binarize] = binarized_clusters\n",
    "                            binarized_clusters_ones_counts = xp_array_from_gpu(binarized_clusters.sum(axis=1))\n",
    "                            binarized_clusters = xp_array_from_gpu(binarized_clusters)\n",
    "                        \n",
    "                            for cluster_meta, cluster, ones_count in zip(cluster_metas_to_binarize, binarized_clusters, binarized_clusters_ones_counts):\n",
    "                                cluster_ind = cluster_meta.cluster_ind\n",
    "                                cluster_meta.binarization_schedule = cluster_meta.binarization_schedule[1:]\n",
    "                                cluster_meta.signals_to_learn_till_binarization = cluster_meta.binarization_schedule[0] if cluster_meta.binarization_schedule else 0\n",
    "                                cluster_meta.ones_count = int(ones_count)\n",
    "                                assert cluster_meta.ones_count > 0\n",
    "                    \n",
    "                                if cluster_meta.ones_count >= HP_CLUSTER_ONES_COUNT_THRES:\n",
    "                                    old_cluster_key = cluster_meta.cluster_key\n",
    "                                    cluster_meta.input_bits = tuple(np.flatnonzero(cluster))\n",
    "                                    new_cluster_key = get_cluster_key(ClusterState.LEARN.name, cluster_meta.output_bit, cluster_meta.input_bits)\n",
    "    \n",
    "                                    if old_cluster_key != new_cluster_key:\n",
    "                                        if new_cluster_key in unique_cluster_keys:\n",
    "                                            cluster_meta.state = ClusterState.DEAD\n",
    "                                            cluster_meta.alarm_cycle = None\n",
    "                                        else:\n",
    "                                            cluster_meta.cluster_key = new_cluster_key\n",
    "                                            unique_cluster_keys.remove(old_cluster_key)\n",
    "                                            unique_cluster_keys.add(new_cluster_key)\n",
    "                                else:\n",
    "                                    cluster_meta.state = ClusterState.DEAD\n",
    "                                    cluster_meta.alarm_cycle = None\n",
    "                                    \n",
    "                                new_cluster_states[cluster_meta.state.name] += 1\n",
    "                    \n",
    "                        LOG(f'Binarized {len(cluster_metas_to_binarize)} clusters: {new_cluster_states}')\n",
    "                        \n",
    "                        ### Promote LEARN clusters to PREPROD/DEAD if they've learned enough (binarization schedule is exhausted)\n",
    "                        new_cluster_states = Counter()\n",
    "                        learn_cluster_metas_to_promote = filter(lambda m: m.state == ClusterState.LEARN and not m.binarization_schedule, CLUSTER_METAS.values())\n",
    "                        \n",
    "                        for cluster_meta in learn_cluster_metas_to_promote:\n",
    "                            cluster_ind = cluster_meta.cluster_ind\n",
    "                            assert cluster_meta.ones_count >= HP_CLUSTER_ONES_COUNT_THRES\n",
    "                \n",
    "                            old_cluster_key = cluster_meta.cluster_key\n",
    "                            new_cluster_key = get_cluster_key(ClusterState.PROD.name, cluster_meta.output_bit, cluster_meta.input_bits)\n",
    "\n",
    "                            if new_cluster_key in unique_cluster_keys:\n",
    "                                cluster_meta.state = ClusterState.DEAD\n",
    "                                cluster_meta.alarm_cycle = None\n",
    "                            else:\n",
    "                                cluster_meta.cluster_key = new_cluster_key\n",
    "                                cluster_meta.state = ClusterState.PREPROD\n",
    "                                cluster_meta.alarm_cycle = cycle + HP_CLUSTER_PREPROD_STATE_IDLE_CYCLES\n",
    "                                unique_cluster_keys.remove(old_cluster_key)\n",
    "                                unique_cluster_keys.add(new_cluster_key)\n",
    "                                \n",
    "                            new_cluster_states[cluster_meta.state.name] += 1\n",
    "\n",
    "                        LOG(f'Promoted {new_cluster_states.total()} LEARN clusters: {new_cluster_states}')\n",
    "\n",
    "                        ### Promote PREPROD clusters to PROD/DEAD if they've been verified enough\n",
    "                        new_cluster_states = Counter()\n",
    "                        preprod_cluster_metas_to_promote = filter(lambda c: (c.state == ClusterState.PREPROD) and (c.stats.total() >= HP_CLUSTER_PREPROD_STATE_SIGNALS_PROCESSED_THRES), CLUSTER_METAS.values())\n",
    "                        \n",
    "                        for cluster_meta in preprod_cluster_metas_to_promote:\n",
    "                            accuracy = cluster_meta.stats[True] / cluster_meta.stats.total()\n",
    "\n",
    "                            if accuracy >= HP_CLUSTER_ACCURACY_THRES:\n",
    "                                assert cluster_meta.ones_count >= HP_CLUSTER_ONES_COUNT_THRES\n",
    "                                cluster_meta.state = ClusterState.PROD\n",
    "                                cluster_meta.alarm_cycle = None\n",
    "                            else:\n",
    "                                cluster_meta.state = ClusterState.DEAD\n",
    "                                cluster_meta.alarm_cycle = None\n",
    "                                \n",
    "                            new_cluster_states[cluster_meta.state.name] += 1\n",
    "                    \n",
    "                        LOG(f'Promoted {new_cluster_states.total()} PREPROD clusters: {new_cluster_states}')\n",
    "                    \n",
    "                        ### Verify PREPROD clusters against new signals\n",
    "                        preprod_cluster_metas = list(filter(lambda m: m.state == ClusterState.PREPROD, CLUSTER_METAS.values()))\n",
    "                        preprod_cluster_inds = np.array(list(map(lambda m: m.cluster_ind, preprod_cluster_metas)), dtype='i')\n",
    "                        preprod_cluster_ones_counts = xp.array(list(map(lambda m: m.ones_count, preprod_cluster_metas)), dtype='f')\n",
    "                        preprod_cluster_output_bits = np.array(list(map(lambda m: m.output_bit, preprod_cluster_metas)), dtype='i')\n",
    "                        preprod_clusters = gpu_clusters[preprod_cluster_inds]\n",
    "                        verified_cluster_inds = set()\n",
    "                        \n",
    "                        for signal_input, signal_output, signal_image_id in zip(signals_input, signals_output, cycle_image_ids):\n",
    "                            activated_clusters_mask = xp_array_from_gpu((preprod_clusters @ signal_input) >= preprod_cluster_ones_counts)\n",
    "                            # cast array of output_bit numbers [0, 3, 4, 7, 7, 0, 3, 32, ..] to TP array [True, False, False, True, True, True, False, False, ...]\n",
    "                            # where True if output_bit of preprod_cluster is enabled in signal_output and False otherwise\n",
    "                            preprod_cluster_output_bits_tf = signal_output[preprod_cluster_output_bits] != 0\n",
    "                            \n",
    "                            for cluster_ind, tf in zip(preprod_cluster_inds[activated_clusters_mask], preprod_cluster_output_bits_tf[activated_clusters_mask]):\n",
    "                                tf = bool(tf) # not mandatory, but eases further inspections by eyes\n",
    "                                signal_image_id = int(signal_image_id)\n",
    "                                cluster_meta = CLUSTER_METAS[cluster_ind]\n",
    "                    \n",
    "                                if not signal_image_id in cluster_meta.verify_image_ids:\n",
    "                                    cluster_meta.stats[tf] += 1\n",
    "                                    cluster_meta.verify_image_ids[signal_image_id] = tf\n",
    "                                    cluster_meta.alarm_cycle = cycle + HP_CLUSTER_PREPROD_STATE_IDLE_CYCLES\n",
    "                                    verified_cluster_inds.add(cluster_ind)\n",
    "                    \n",
    "                        LOG(f'Verified {len(verified_cluster_inds)} clusters')\n",
    "\n",
    "                        ### Download back clusters and masks back from GPU so they can be modified on CPU side during weeding\n",
    "                        CLUSTERS.array_active[:] = xp_array_from_gpu(gpu_clusters)\n",
    "                        CLUSTER_MASKS.array_active[:] = xp_array_from_gpu(gpu_cluster_masks)\n",
    "                        LOG('GPU download complete')\n",
    "\n",
    "                        ### Weed the garden\n",
    "                        unneeded_cluster_metas = []\n",
    "                        unneeded_cluster_metas.extend(filter(lambda m: m.state == ClusterState.DEAD, CLUSTER_METAS.values()))\n",
    "                        unneeded_cluster_metas.extend(filter(lambda m: m.alarm_cycle is not None and m.alarm_cycle < cycle, CLUSTER_METAS.values()))\n",
    "                        \n",
    "                        for cluster_meta in unneeded_cluster_metas:\n",
    "                            cluster_ind = cluster_meta.cluster_ind\n",
    "                            unique_cluster_keys.remove(cluster_meta.cluster_key)\n",
    "                            del CLUSTER_METAS[cluster_ind]\n",
    "                            CLUSTERS.release(cluster_ind)\n",
    "                            CLUSTER_MASKS.release(cluster_ind)\n",
    "                    \n",
    "                        LOG(f'Removed {len(unneeded_cluster_metas)} loser clusters')\n",
    "\n",
    "                ## Persist mined prod clusters for output bits (OBITS)\n",
    "                output_bit_to_prod_cluster_metas = defaultdict(list)\n",
    "                gpu_clusters = xp_array_to_gpu(CLUSTERS.array_active)\n",
    "                persisted_count = 0\n",
    "                \n",
    "                for meta in filter(lambda m: m.state == ClusterState.PROD, CLUSTER_METAS.values()):\n",
    "                    output_bit_to_prod_cluster_metas[meta.output_bit].append(meta)\n",
    "\n",
    "                for output_bit, metas in output_bit_to_prod_cluster_metas.items():\n",
    "                    cluster_inds = list(map(lambda m: m.cluster_ind, metas))\n",
    "                    # Leave only super clusters, i.e. clusters which are not subsets of any other clusters\n",
    "                    clusters = gpu_clusters[cluster_inds]\n",
    "                    cluster_ones_counts = clusters.sum(axis=1)\n",
    "                    crossings = (clusters @ clusters.T)\n",
    "                    crossings[xp.diag_indices_from(crossings)] = 0\n",
    "                    super_clusters_mask = ~xp.any((crossings.T >= cluster_ones_counts).T, axis=1)\n",
    "\n",
    "                    clusters = xp_array_from_gpu(clusters[super_clusters_mask])\n",
    "                    super_clusters_mask = xp_array_from_gpu(super_clusters_mask)\n",
    "                    \n",
    "                    pickled_clusters = pickle.dumps(clusters)\n",
    "                    pickled_metas = pickle.dumps(list(map(lambda x: x[1], filter(lambda x: x[0], zip(super_clusters_mask, metas)))))\n",
    "                    # Changing autocommit to False will open a new transaction, and changing it to True will commit any pending transaction.\n",
    "                    # https://docs.python.org/3/library/sqlite3.html#connection-objects\n",
    "                    transfs_db_con.autocommit = False\n",
    "                    transfs_db_con.execute('DELETE FROM clusters WHERE encoding=:encoding AND transf_code=:transf_code AND output_bit=:output_bit',\n",
    "                                           {'encoding': HP_SIGNAL_ENCODING, 'transf_code': TRANSF_CODE, 'output_bit': output_bit})\n",
    "                    transfs_db_con.execute('INSERT INTO clusters (encoding, transf_code, output_bit, sbv, meta) VALUES (:encoding, :transf_code, :output_bit, :sbv, :meta)',\n",
    "                                           {'encoding': HP_SIGNAL_ENCODING, 'transf_code': TRANSF_CODE, 'output_bit': output_bit, 'sbv': pickled_clusters, 'meta': pickled_metas})\n",
    "                    transfs_db_con.autocommit = True\n",
    "                    persisted_count += clusters.shape[0]\n",
    "                    LOG(f'Persisted {clusters.shape[0]} (of {len(cluster_inds)}) super clusters for output bit {output_bit}')\n",
    "\n",
    "                LOG(f'Persisted {persisted_count} clusters in total for encoding=\"{HP_SIGNAL_ENCODING}\" and transf_code=\"{TRANSF_CODE}\"')"
   ]
  },
  {
   "cell_type": "code",
   "execution_count": 213,
   "id": "cf723882-55c0-49d9-acb7-e50274d2201b",
   "metadata": {},
   "outputs": [
    {
     "data": {
      "image/png": "[encoded data removed]",
      "text/plain": [
       "<Figure size 1200x480 with 2 Axes>"
      ]
     },
     "metadata": {},
     "output_type": "display_data"
    }
   ],
   "source": [
    "signal_ind = RNG.choice(signals_input.shape[0])\n",
    "# signal_ind = 0\n",
    "signal_input = xp_array_from_gpu(signals_input[signal_ind])\n",
    "signal_output = signals_output[signal_ind]\n",
    "\n",
    "if HP_SYSTEM_MODE == SystemMode.TOY_IMAGE:\n",
    "    bv_input = decode_toy_image_sbv(signal_input)\n",
    "    bv_output = decode_toy_image_sbv(signal_output)\n",
    "else:\n",
    "    xy_list_input = decode_xy_list_sbv(signal_input)\n",
    "    xy_list_output = decode_xy_list_sbv(signal_output)\n",
    "    bv_input = xy_list_to_bv(xy_list_input)\n",
    "    bv_output = xy_list_to_bv(xy_list_output)\n",
    "    \n",
    "fig, (ax1, ax2) = plt.subplots(1, 2)\n",
    "fig.set_figwidth(12)\n",
    "ax1.imshow(vec_to_square_matrix(bv_input))\n",
    "ax2.imshow(vec_to_square_matrix(bv_output));"
   ]
  },
  {
   "cell_type": "markdown",
   "id": "c4e073c2-0c90-4248-a9fc-57f4f063892f",
   "metadata": {},
   "source": [
    "# Test"
   ]
  },
  {
   "cell_type": "code",
   "execution_count": 106,
   "id": "5175b5c1-2cf3-4a31-b471-269694674987",
   "metadata": {},
   "outputs": [
    {
     "data": {
      "application/vnd.jupyter.widget-view+json": {
       "model_id": "2dcb877c2a4e46a6a4641144c21aacdd",
       "version_major": 2,
       "version_minor": 0
      },
      "text/plain": [
       "  0%|          | 0/186 [00:00<?, ?it/s]"
      ]
     },
     "metadata": {},
     "output_type": "display_data"
    },
    {
     "data": {
      "text/plain": [
       "(47333, 256)"
      ]
     },
     "execution_count": 106,
     "metadata": {},
     "output_type": "execute_result"
    }
   ],
   "source": [
    "clear_memory()\n",
    "\n",
    "df_clusters = pd.read_sql('SELECT output_bit, sbv, meta FROM clusters WHERE encoding=:encoding AND transf_code=:transf_code', \n",
    "                          params={\n",
    "                              'encoding': HP_SIGNAL_ENCODING, \n",
    "                              'transf_code': TRANSF_CODE},\n",
    "                          con=transfs_db_con)\n",
    "                \n",
    "for cluster_row in tqdm(df_clusters.itertuples(), total=len(df_clusters)):\n",
    "    clusters_for_output_bit = pickle.loads(cluster_row.sbv)\n",
    "    cluster_metas_for_output_bit = pickle.loads(cluster_row.meta)\n",
    "\n",
    "    for cluster, meta in zip(clusters_for_output_bit, cluster_metas_for_output_bit):\n",
    "        cluster_ind = CLUSTERS.lease()\n",
    "        assert CLUSTER_MASKS.lease() == cluster_ind\n",
    "        meta.cluster_ind = cluster_ind\n",
    "        CLUSTERS.array_active[cluster_ind] = cluster\n",
    "        CLUSTER_MASKS.array_active[cluster_ind] = cluster\n",
    "        CLUSTER_METAS[cluster_ind] = meta\n",
    "\n",
    "cluster_metas = list(filter(lambda m: m.state == ClusterState.PROD, CLUSTER_METAS.values()))\n",
    "cluster_inds = list(map(lambda m: m.cluster_ind, cluster_metas))\n",
    "cluster_ones_counts = np.array(list(map(lambda m: m.ones_count, cluster_metas)), dtype='f')\n",
    "cluster_output_bits = np.array(list(map(lambda m: m.output_bit, cluster_metas)), dtype='i')\n",
    "cluster_input_bits_list = list(map(lambda m: m.input_bits, cluster_metas))\n",
    "clusters = CLUSTERS.array[cluster_inds]\n",
    "assert clusters.shape[0] == len(CLUSTER_METAS)\n",
    "clusters.shape"
   ]
  },
  {
   "cell_type": "code",
   "execution_count": 107,
   "id": "cbf93336-9a8f-4d35-adf7-384779124e8a",
   "metadata": {},
   "outputs": [
    {
     "data": {
      "application/vnd.jupyter.widget-view+json": {
       "model_id": "c4d9afecfa004fc7995599520663f5f1",
       "version_major": 2,
       "version_minor": 0
      },
      "text/plain": [
       "  0%|          | 0/100 [00:00<?, ?it/s]"
      ]
     },
     "metadata": {},
     "output_type": "display_data"
    },
    {
     "data": {
      "image/png": "[encoded data removed]",
      "text/plain": [
       "<Figure size 1600x480 with 2 Axes>"
      ]
     },
     "metadata": {},
     "output_type": "display_data"
    }
   ],
   "source": [
    "thres = 0\n",
    "toy_image_ids = get_random_toy_image_ids(100)\n",
    "bv_errors_count_list = defaultdict(list)\n",
    "sbv_errors_count_list = defaultdict(list)\n",
    "\n",
    "for toy_image_id in tqdm(toy_image_ids):\n",
    "    toy_image_origin = get_toy_image(toy_image_id)\n",
    "    toy_image_transf = transform_toy_image(toy_image_origin, TRANSF)\n",
    "\n",
    "    toy_image_origin_sbv = calc_toy_image_sbv(toy_image_origin)\n",
    "    toy_image_transf_sbv = calc_toy_image_sbv(toy_image_transf)\n",
    "    \n",
    "    activated_clusters_mask = (clusters @ toy_image_origin_sbv) >= cluster_ones_counts\n",
    "    \n",
    "    toy_image_infer_sbv = np.zeros_like(toy_image_origin_sbv)\n",
    "\n",
    "    # Approach 1: judge if output_bit is ON/OFF based on number of activated clusters\n",
    "    output_bit_to_activated_clusters_count = Counter(cluster_output_bits[activated_clusters_mask])\n",
    "    toy_image_infer_sbv[list(output_bit_to_activated_clusters_count.keys())] = list(output_bit_to_activated_clusters_count.values())\n",
    "    toy_image_infer_sbv = np.where(toy_image_infer_sbv > thres, 1, 0)\n",
    "\n",
    "    # Approach 2: judge if output_bit is ON/OFF based on number of unique bits touched by clusters within input signal\n",
    "    # output_bit_to_unique_input_bits = defaultdict(set)\n",
    "\n",
    "    # for mask_value, output_bit, input_bits in zip(activated_clusters_mask, cluster_output_bits, cluster_input_bits_list):\n",
    "    #     if not mask_value:\n",
    "    #         continue\n",
    "\n",
    "    #     output_bit_to_unique_input_bits[output_bit].update(input_bits)\n",
    "    # toy_image_infer_sbv[list(output_bit_to_unique_input_bits.keys())] = list(map(len, output_bit_to_unique_input_bits.values()))\n",
    "    # toy_image_infer_sbv = np.where(toy_image_infer_sbv > thres, 1, 0)\n",
    "    \n",
    "    sbv_false_positives_count = (toy_image_transf_sbv[toy_image_infer_sbv == 1] == 0).sum()\n",
    "    sbv_false_negatives_count = (toy_image_transf_sbv[toy_image_infer_sbv == 0] == 1).sum()\n",
    "    assert np.count_nonzero(toy_image_transf_sbv != toy_image_infer_sbv) == (sbv_false_positives_count + sbv_false_negatives_count)\n",
    "    sbv_errors_count_list['FP'].append(sbv_false_positives_count)\n",
    "    sbv_errors_count_list['FN'].append(sbv_false_negatives_count)\n",
    "    \n",
    "    toy_image_infer_bv = toy_image_sbv_to_bv(toy_image_infer_sbv)\n",
    "    toy_image_transf_bv = toy_image_sbv_to_bv(toy_image_transf_sbv)\n",
    "    bv_false_positives_count = (toy_image_transf_bv[toy_image_infer_bv == 1] == 0).sum()\n",
    "    bv_false_negatives_count = (toy_image_transf_bv[toy_image_infer_bv == 0] == 1).sum()\n",
    "    assert np.count_nonzero(toy_image_transf_bv != toy_image_infer_bv) == (bv_false_positives_count + bv_false_negatives_count)\n",
    "    bv_errors_count_list['FP'].append(bv_false_positives_count)\n",
    "    bv_errors_count_list['FN'].append(bv_false_negatives_count)\n",
    "\n",
    "fig, (ax1, ax2) = plt.subplots(2, 1)\n",
    "fig.set_figwidth(16)\n",
    "fig.tight_layout() \n",
    "errors_count = sum(itertools.chain.from_iterable(bv_errors_count_list.values()))\n",
    "ax1.set_title(f'BV Errors count={errors_count}, avg.={errors_count / len(toy_image_ids):.2f}; thres={thres}, clusters count={clusters.shape[0]}')\n",
    "\n",
    "for error_kind, errors_count in bv_errors_count_list.items():\n",
    "    ax1.bar(list(map(str, range(len(toy_image_ids)))), errors_count, label=error_kind)\n",
    "\n",
    "ax1.legend()\n",
    "\n",
    "errors_count = sum(itertools.chain.from_iterable(sbv_errors_count_list.values()))\n",
    "ax2.set_title(f'SBV Errors count={errors_count}, avg.={errors_count / len(toy_image_ids):.2f}; thres={thres}, clusters count={clusters.shape[0]}')\n",
    "\n",
    "for error_kind, errors_count in sbv_errors_count_list.items():\n",
    "    ax2.bar(list(map(str, range(len(toy_image_ids)))), errors_count, label=error_kind)\n",
    "\n",
    "ax2.legend();"
   ]
  },
  {
   "cell_type": "code",
   "execution_count": null,
   "id": "47f59aa5-155f-42d1-89f4-952ba29d1e2a",
   "metadata": {},
   "outputs": [],
   "source": []
  },
  {
   "cell_type": "code",
   "execution_count": null,
   "id": "bcc9f312-6621-4f77-ad5d-e0e5050dc036",
   "metadata": {},
   "outputs": [],
   "source": []
  },
  {
   "cell_type": "code",
   "execution_count": null,
   "id": "cf7b155d-cd7f-4649-91dc-f932bcb0e553",
   "metadata": {},
   "outputs": [],
   "source": []
  },
  {
   "cell_type": "code",
   "execution_count": null,
   "id": "f901126b-b8c1-457c-aced-0923b43927f8",
   "metadata": {},
   "outputs": [],
   "source": []
  },
  {
   "cell_type": "code",
   "execution_count": 116,
   "id": "f5f56508-9e19-4911-b739-a04452cf59d4",
   "metadata": {},
   "outputs": [
    {
     "data": {
      "image/png": "[encoded data removed]",
      "text/plain": [
       "<Figure size 1200x480 with 3 Axes>"
      ]
     },
     "metadata": {},
     "output_type": "display_data"
    }
   ],
   "source": [
    "toy_image_id = get_random_toy_image_ids(1)[0]\n",
    "toy_image = get_toy_image(toy_image_id)\n",
    "toy_image_sbv = calc_toy_image_sbv(toy_image)\n",
    "\n",
    "toy_image_transf = transform_toy_image(toy_image, TRANSF)\n",
    "toy_image_transf_sbv = encode_toy_image_sbv(toy_image_transf)\n",
    "\n",
    "activated_clusters_mask = (clusters @ toy_image_sbv) >= cluster_ones_counts\n",
    "values = Counter(cluster_output_bits[activated_clusters_mask])\n",
    "toy_image_sbv_out = np.zeros_like(toy_image_sbv)\n",
    "# toy_image_sbv_out[list(values.keys())] = list(values.values())\n",
    "# toy_image_sbv_out = np.where(toy_image_sbv_out > 1, 1, 0)\n",
    "toy_image_sbv_out[list(values.keys())] = 1\n",
    "\n",
    "fig, (ax1, ax2, ax3) = plt.subplots(1, 3)\n",
    "fig.set_figwidth(12)\n",
    "ax1.set_title('Origin')\n",
    "ax1.imshow(vec_to_square_matrix(decode_toy_image_sbv(toy_image_sbv)))\n",
    "ax2.set_title('Transf')\n",
    "ax2.imshow(vec_to_square_matrix(decode_toy_image_sbv(toy_image_transf_sbv)))\n",
    "ax3.set_title('Infer')\n",
    "ax3.imshow(vec_to_square_matrix(decode_toy_image_sbv(toy_image_sbv_out)));"
   ]
  },
  {
   "cell_type": "code",
   "execution_count": 110,
   "id": "bd3d6124-ae28-47e5-9877-7bf2eb87d8c3",
   "metadata": {},
   "outputs": [
    {
     "data": {
      "image/png": "[encoded data removed]",
      "text/plain": [
       "<Figure size 1600x480 with 2 Axes>"
      ]
     },
     "metadata": {},
     "output_type": "display_data"
    }
   ],
   "source": [
    "fig, (ax1, ax2) = plt.subplots(2, 1)\n",
    "fig.set_figwidth(16)\n",
    "\n",
    "toy_image_transf = transform_toy_image(toy_image, TRANSF)\n",
    "toy_image_transf_sbv = encode_toy_image_sbv(toy_image_transf)\n",
    "\n",
    "ax1.set_title(f'non_zero_bits={toy_image_transf_sbv.sum()}')\n",
    "ax1.imshow(np.ones((30, 1)) * toy_image_transf_sbv);\n",
    "ax2.set_title(f'non_zero_bits={toy_image_sbv_out.sum()}')\n",
    "ax2.imshow(np.ones((30, 1)) * toy_image_sbv_out);"
   ]
  }
 ],
 "metadata": {
  "kernelspec": {
   "display_name": "Python 3 (ipykernel)",
   "language": "python",
   "name": "python3"
  },
  "language_info": {
   "codemirror_mode": {
    "name": "ipython",
    "version": 3
   },
   "file_extension": ".py",
   "mimetype": "text/x-python",
   "name": "python",
   "nbconvert_exporter": "python",
   "pygments_lexer": "ipython3",
   "version": "3.12.2"
  }
 },
 "nbformat": 4,
 "nbformat_minor": 5
}
