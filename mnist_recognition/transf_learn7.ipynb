{
 "cells": [
  {
   "cell_type": "code",
   "execution_count": 12,
   "id": "27532844-1826-4299-b063-16a22e592f3f",
   "metadata": {},
   "outputs": [],
   "source": [
    "import os, math\n",
    "from enum import StrEnum, auto\n",
    "from collections import defaultdict, namedtuple, Counter\n",
    "import itertools\n",
    "import sqlite3\n",
    "import pickle\n",
    "import datetime\n",
    "import multiprocessing as mp\n",
    "import gc\n",
    "import json\n",
    "import decimal\n",
    "from IPython.core.getipython import get_ipython\n",
    "\n",
    "from PIL import Image, ImageDraw\n",
    "from tqdm.notebook import tqdm\n",
    "\n",
    "from sklearn.model_selection import train_test_split\n",
    "from sklearn.decomposition import PCA\n",
    "import matplotlib.pyplot as plt\n",
    "import scipy\n",
    "import numpy as np\n",
    "import cupy as cp\n",
    "import pandas as pd\n",
    "\n",
    "from module.utils import *\n",
    "from module.hdc import *\n",
    "from module.constants import *"
   ]
  },
  {
   "cell_type": "code",
   "execution_count": 13,
   "id": "73358262-adf2-4d17-a383-f120a5d1f8aa",
   "metadata": {},
   "outputs": [
    {
     "name": "stdout",
     "output_type": "stream",
     "text": [
      "xp = cupy\n",
      "transf_learn7.ipynb\n"
     ]
    }
   ],
   "source": [
    "LOG = Logging()\n",
    "\n",
    "config_var = 'SQLITE3_SEQ_GRID_0_2_4096'\n",
    "config = Config(config_var)\n",
    "RNG = np.random.default_rng()\n",
    "mp_ctx = mp.get_context('spawn') # req-d for CUPY to work in multithreaded env, 'fork' method leads to failures in bootstrap somewhere around CUDA\n",
    "\n",
    "if cp.cuda.is_available():\n",
    "    xp = cp.get_array_module(cp.empty(1))\n",
    "    xp_array_from_gpu = lambda a: a.get() if isinstance(a, cp.ndarray) else a\n",
    "    xp_array_to_gpu = lambda a: cp.asarray(a) if isinstance(a, np.ndarray) else a\n",
    "    xp_array_to_gpu_copy = lambda a: cp.asarray(a) if isinstance(a, np.ndarray) else a\n",
    "else:\n",
    "    xp = cp.get_array_module(np.empty(1))\n",
    "    xp_array_from_gpu = lambda a: a\n",
    "    xp_array_to_gpu = lambda a: a\n",
    "    xp_array_to_gpu_copy = lambda a: a.copy()\n",
    "\n",
    "print(f'xp = {xp.__name__}')\n",
    "\n",
    "with open(get_ipython().kernel.config['IPKernelApp']['connection_file'], 'r') as cf:\n",
    "    notebook_fname = json.load(cf)['jupyter_session']\n",
    "    notebook_fname = os.path.basename(notebook_fname)\n",
    "\n",
    "print(notebook_fname)"
   ]
  },
  {
   "cell_type": "code",
   "execution_count": 14,
   "id": "656ee6b7-3982-4f99-9251-6b67fef36ae3",
   "metadata": {},
   "outputs": [],
   "source": [
    "%run sequencing_sp2.ipynb # req-d for sequences depickling"
   ]
  },
  {
   "cell_type": "markdown",
   "id": "d5c8f88a-5403-4177-b5fc-e0e2a1da9c2d",
   "metadata": {},
   "source": [
    "# Data Loading"
   ]
  },
  {
   "cell_type": "code",
   "execution_count": 15,
   "id": "d2dd62ab-b44e-4251-9e86-d41b3672e36e",
   "metadata": {},
   "outputs": [
    {
     "name": "stdout",
     "output_type": "stream",
     "text": [
      "CPU times: user 8 μs, sys: 1e+03 ns, total: 9 μs\n",
      "Wall time: 16.9 μs\n"
     ]
    },
    {
     "data": {
      "text/plain": [
       "((10000, 7), (2000, 7))"
      ]
     },
     "execution_count": 15,
     "metadata": {},
     "output_type": "execute_result"
    }
   ],
   "source": [
    "%time\n",
    "train_db_con = sqlite3.connect(DBUtils.get_full_db_file_name(config, config.train_db_file_name))\n",
    "test_db_con = sqlite3.connect(DBUtils.get_full_db_file_name(config, config.test_db_file_name))\n",
    "test_results_db_con = sqlite3.connect(DBUtils.get_full_db_file_name(config, config.test_results_db_file_name, with_prefix=False), autocommit=True)\n",
    "transfs_db_con = sqlite3.connect(DBUtils.get_full_db_file_name(config, config.transfs_db_file_name, with_prefix=False), autocommit=True)\n",
    "\n",
    "if not DBUtils.is_table_exists(test_results_db_con, 'test_runs'):\n",
    "    test_results_db_con.execute('CREATE TABLE test_runs(test_run_id INTEGER PRIMARY KEY, dummy)')\n",
    "\n",
    "if not DBUtils.is_table_exists(transfs_db_con, 'entities'):\n",
    "    transfs_db_con.execute('CREATE TABLE entities(encoding, name, count, sbv)')\n",
    "    \n",
    "if not DBUtils.is_table_exists(transfs_db_con, 'points'):\n",
    "    transfs_db_con.execute('CREATE TABLE points(encoding, count, non_zero_bits, points, output_bits)')\n",
    "\n",
    "if not DBUtils.is_table_exists(transfs_db_con, 'clusters'):\n",
    "    transfs_db_con.execute('CREATE TABLE clusters(encoding, transf_code, output_bit, sbv, meta)')\n",
    "\n",
    "df_train_images = pd.read_sql_query('SELECT * FROM images', con=train_db_con, index_col='image_id')\n",
    "df_test_images = pd.read_sql_query('SELECT * FROM images', con=test_db_con, index_col='image_id')\n",
    "df_train_images.shape, df_test_images.shape"
   ]
  },
  {
   "cell_type": "code",
   "execution_count": 16,
   "id": "70b21219-4f16-4824-90ec-7bda1574c5d1",
   "metadata": {},
   "outputs": [
    {
     "data": {
      "text/html": [
       "<div style=\"\n",
       "        display: grid; \n",
       "        grid-template-columns: repeat(8, 128px);\n",
       "        column-gap: 1px;\n",
       "        row-gap: 1px;\">\n",
       "        \n",
       "            <figure style=\"margin: 5px !important;\">\n",
       "              <img src=\"data:image/png;base64,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\" style=\"height: auto\">\n",
       "              <figcaption style=\"font-size: 0.6em\">9</figcaption>\n",
       "            </figure>\n",
       "        \n",
       "            <figure style=\"margin: 5px !important;\">\n",
       "              <img src=\"data:image/png;base64,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\" style=\"height: auto\">\n",
       "              <figcaption style=\"font-size: 0.6em\">0</figcaption>\n",
       "            </figure>\n",
       "        \n",
       "            <figure style=\"margin: 5px !important;\">\n",
       "              <img src=\"data:image/png;base64,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\" style=\"height: auto\">\n",
       "              <figcaption style=\"font-size: 0.6em\">5</figcaption>\n",
       "            </figure>\n",
       "        \n",
       "            <figure style=\"margin: 5px !important;\">\n",
       "              <img src=\"data:image/png;base64,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\" style=\"height: auto\">\n",
       "              <figcaption style=\"font-size: 0.6em\">0</figcaption>\n",
       "            </figure>\n",
       "        \n",
       "            <figure style=\"margin: 5px !important;\">\n",
       "              <img src=\"data:image/png;base64,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\" style=\"height: auto\">\n",
       "              <figcaption style=\"font-size: 0.6em\">2</figcaption>\n",
       "            </figure>\n",
       "        \n",
       "            <figure style=\"margin: 5px !important;\">\n",
       "              <img src=\"data:image/png;base64,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\" style=\"height: auto\">\n",
       "              <figcaption style=\"font-size: 0.6em\">5</figcaption>\n",
       "            </figure>\n",
       "        \n",
       "            <figure style=\"margin: 5px !important;\">\n",
       "              <img src=\"data:image/png;base64,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\" style=\"height: auto\">\n",
       "              <figcaption style=\"font-size: 0.6em\">9</figcaption>\n",
       "            </figure>\n",
       "        \n",
       "            <figure style=\"margin: 5px !important;\">\n",
       "              <img src=\"data:image/png;base64,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\" style=\"height: auto\">\n",
       "              <figcaption style=\"font-size: 0.6em\">2</figcaption>\n",
       "            </figure>\n",
       "        \n",
       "            <figure style=\"margin: 5px !important;\">\n",
       "              <img src=\"data:image/png;base64,iVBORw0KGgoAAAANSUhEUgAAAIAAAACACAAAAADmVT4XAAAMCklEQVR4nO2aV3MbO7KAG8AMMDkwk6JknU21tf//n9y6d3fPsb1WpMQ4OSLcB0oquWxKpOjSy6ofwRrON43uRgcAfMiHfMiH/LcLOuLB7bMKQL0/ANJ1algWhbaqmrpu+JsBtDcCUM/rjoYe5OtVtInjdwfQ7M7g7G9/HsD66vKWyqJ8bwA7GEz//I9/TNS9hVSVvPFf3gaACNFYbzw9O52ObWh9x6Qafk8AzCzbHZ2en571LQCllDrKC94AYATd3vTT+cnIR6Dysm65OILgLQD+4OTst7NRxwYoipoL9c4aoHbQ6/d7XRcBSEQo08mbw9lbABQxHM93bQMBgMa8MPFM8p4AQKhtW2xr+cT0u/ncOsIND3cgjVq2Y9LtRyPdcByLvp8bIoRszw98x9AQgIK2aZqmfT8vIDpjw+Fw0PNMHQMoXm5m15f3SfteAJrl+ydnp5OBY+oIQDbp3efPlzeLtx8Fh2rA6oxPz6bjvq4RUKLJ11f//t+rTVG9F4BmdUaTyaDjIQDJ62x9d/3t63V5TCw+DAAZXn/Q9SwEAKKIFrNvF7NV8fa3HwygqNftBhYBAODp7devl9/mx73/UDdkbthxGQIAaOOr//vn9So+wgMOB2COHwY2BYWgLaPbL/+alVK8FwAmhIRhJ/QsSkCJMkvWi3l83NsPAtAsy56Oe4FjaAR4nSdxmh/h/4cDULfbOzsZBLZOAHgZb6KsOSYROBhAdwfTs0nXNQgCVSer5To70v4OA0DU6YzGfd/UAGSTre5v53El3xFAYTPs9wNbB5BNvr79+u12WRzpAQcBADH9bsczMACv4vnF71/Wm/xdbYDaQRg4FAGvs83dxZfPef2ORojAdP0g8CwdRJ1Hi/vZ7exXmOCeAEin1BsOuoHNNGiLzf3d/dEh+CAAbHh+72zc8y0dyzZd3FzNoubXvH9PDRjheHI+6bqUgKzj++ur+/QXOAAA7JkVYyMcn02Hvqkj4GU8v71dZuKIYuS57KcB5g0mw45NkZJ1Ea/m86jY2ZJACA6p1fbSAGJ+f9T3DQSiLrN4tVilNd/1EoUOqhL21UCv33UpSF7labRZRXW7MwpjHbcHeMh+ANQJOp5JlGiKNImjOJU7tazZBm4OaNns54YasyyLgpJNHkdxWvz4hRhjjDBGmuNapM2zUkohpJCvHlf7aQATomkASFTpZh2XP9EwNkyDMUYNz7c1UeVFVeR5UZT1LwHA+KEZKcp4tUqqn6hfd4LAdT3HCQKbqrbOk9VivlqJXwOgEbx1LVHGy1VS/wjA3HDY73a6oR8ENsOqzVe3l64JTflaB3EPAASMagQDAPCtBp5tLEIIY43ancF42Ov2OkHg2ToAVEtLI1i0TazUi2HhVQCEiW5bpkExAIgiWi6j8lkY1gzDMC3LC3uDXicMfde1AQDA6AuBdYKJWVb1S1p4HUCjtuc5prEtxzaLxXcAut8JwtAPgyDwXNu2LPPhBxZKZhuG4azX4igArBmu59omQ/BghHH7DMDuToejYa/j2aZh6LqmPx0RFrIdw2D2lXixeN5DA8yyLZPpAAC8ytO0eLalTmd0enIyGXQcphMCoECix+ccx8QIaTyPkqMAsMYY0wgAgBK8qZ98QGMG7Zyen09Go65vPyzytuUSABPKCLhNK6CM11kr1K6I9LoXIEwefACUlM9iMOt0w8Hp2bQfhu7jzvMqz4tWIY3ZngfgdIAUm3We1+0uV9jHC7RHACEU4MezDhm98+lkOh4EhsEe9N4UWbROKoWpFUjdBOpperq4T0DtrGFfByA6pTpBCgG0LVdPMxbd6X/663TcCy2MkEIAIMssTZbLdSmJ4RRAGUYm01a90CvrBr1ZA7rlujYjoJQsiqrZ5gEIY9vvjU9P+oELAABS8LZI4yhaLTeVJMzJEdVtnWDXtU32qMK3AGDD7/UDWwfVVmmaV83WmjTD6/SHw96j9ck8TTer5SqK47SRmFoxBxX6LiKaRjDenb+9CkDMoDfoOLqSTRZFabEFwMzr9geDnm88fFoT383vb2eLqCprDoiwqEWqVtSQrwzVXt8C5oSBZ2kg2zxOsnILQN3OcDR4bBcB8GRxfXlzdTVPhJAKAGklZhqYniHkywONPbxAp4xqGBQv87xsuAKEidcdTyeDwNEBJFeiTedXlxc3Vzfzp3KBuB3fzRqhACGMd6eJr8cBJYSQCoFq66KsGg6gM2t4dn4+HXoUQDRlniXr+5vr2Xz+rFypsjiK81qobRzZaQSvAijelEXNFVK8rqq6lYB0tzP9y99+6/UcANWW0Xx2e79YrDZJ/Cz9kG2RpUXFAbCmabtV8CqAbIs0LRoJSvC25UIBNsPx2V/+/ptjGKDqPF5cfP56vU6KsnmeKhMQTVO3AimEyTFboNoiTbLqqSOPgbm98fT0dEIBoMo3y9nl19+vo5J/H+sI0TSClETyu/h9OICss8hLikYgjRpMJ0S3u5PTk0FAAaDNl7fXN5dXd6v0hz+2vDBwGfC6KopqdxnxOkAZL611WjmIWo5rUoK80fmfpl0TAEQV3/z+x83yLvrxxKfecDrt2biqsjRJy52F1KsAoop1c5WUXKdO4LumocLJ+aexrwGopoiu//U/s6LIfzhqsNGZfDodOpiXWRJn1c6kaJ8t0OworbhOLdf3PA/1RpNxzyES2irbzC4+3/0s7WR2OJyMQtbK9sF53gqgeJUlaVEL0AzH7w4KNOgGnm1gxZs83mzWm5+UKURzPD8IXAMLghFC6IizQElepXnVSqQZbme8xjDt2jrBgGSVbjbJz8ok0Kwg9D2bYdCZadpWLmDXHuwTCeuiqBoBhNqdSWGqXmebf/AiWq2z9mcubvi9XmAbGgBipm07eSt3TdZe1wAAL8uybgRopj9obOEFFCkAaPPNcp3xn0xNTa8/6oc2xQBAiM6MFwb8e1RGSrV1VZQ1JZoZNEyYnkEQKFkl6/ky+q5MwghjhLVgNJ6Ouw5FSqqqbl6cru9VG8q2zDOXMqLbHSaoaepI8Tpd3lxe3UfPWgGYMsooM7vjyeRkYBPgbR1t4iStdjPs16jkZZY4FBPMXCYJ1TGSvIwXN5fXi+TZP2uW4ziu6/XH434/tLFoynQxny83Wb2zqbZff4AX0dpiOsU6NiTBWIHkVR5v1lH+zLo12w/DsBN2+6NB6Bk6aut0NbubL6NayOM00KRLjzHDpGRrckJJJRUilNn64yFEdDvo9jrdbqfb73c9AwBklczv7lfpS131/WygXF0jZPpPCwgA63bvTIZZ3XAFCBDC1Al6nTAIgiAIfQYAgOv17dVsU77U1NwPIJ+LEnmjZ2rExOj+ZpxskrxoJCCEsKY7QRh6lm1Ztk0BAIBUi8tvt5sXuyT7ARQyy+nwvGKPKwg0k1jDKo2jpBKAMMYatT3fs3RN0/SHGllk86uLu5dn6/sB1E1SB7P5SDdBbbs1iBDmgSrjdVxywBgTTbcc12YACgBtC6h4dT+7W7/cpdlzXqAgXV5/obFvMKaTp0sryKa6VQnAGGNNMy0LYHs/TvK2qurZf24Wcf5y13LviYmILvXNZNjr+q757CHdIa1EeLsH+hOvqJPFfD3742JT8JdbhfuPbLLL7GLy6fxspAgDAFBbNehIKoQwQugp82yk4tni65er2d1dvDsTOBSgmq/0u6QBhTTdAAClAIMCpMOz240Aoq5rqXhy+59//nGfFM1rbeP9AYSAUjKTSqVU8NizQEBAKSWVAqWk4qKpqrIWqk2uLy6vly9GgEMBAADy1bUqy6IcuI7ztCg550IqKeq6KIuiKEou23xxOYuKPQabB15gSG+LJM2KYoisxx1vm7pqGq5EUySbOE2zvGw5r7PNZq/B6oFXOKplkpZ12wjd9LZLZVEWZVlxKap0tVhtkiwvmlYI3rZ8V1fk7QCqbcsWEaIAq74BoHhZFGVelFUrRZ0s56tNmhUPJfx+cvgtsCJmuCnju5CBAl5XVVVVdc2VaPJoHaV5WR00UHvD7Mv0PC8IPFsDUJK3DW/blksleV0URVUfMq95G4CmU51SqiEAUFKJbfdQgZScc7HHkORDPuRDPuRDPuRDPuRDPuRDPuRDPuQ7+X+yEkgQglKnNQAAAABJRU5ErkJggg==\" style=\"height: auto\">\n",
       "              <figcaption style=\"font-size: 0.6em\">6</figcaption>\n",
       "            </figure>\n",
       "        \n",
       "            <figure style=\"margin: 5px !important;\">\n",
       "              <img src=\"data:image/png;base64,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\" style=\"height: auto\">\n",
       "              <figcaption style=\"font-size: 0.6em\">0</figcaption>\n",
       "            </figure>\n",
       "        \n",
       "            <figure style=\"margin: 5px !important;\">\n",
       "              <img src=\"data:image/png;base64,iVBORw0KGgoAAAANSUhEUgAAAIAAAACACAAAAADmVT4XAAAIo0lEQVR4nO2aWXMjtxHHGwNgMPfwEilxpT2SisvO9/8SeUpVNpXD9nq1kkjxnPseHHmg1t6qvHCGFpMH/t+oqgF+6kY3Gg0AXHTRRRdddNFFF1100UX/Y6ETPkUaQggAlFJKKVC9RiEnALi+a+gEVF3kZV23/NwA2uj97dA1kYg3q12cZGcHMKbf/XAzcRFf3396WKmmOjfAaP6H79/OfNQuTUDQ5Lk4IwC1TOPDh7v59RCA3ZSFEnkUnRPAmM4n77+/G7uHH7UuojVpzghgzf/8/u3t3D187gunXt2z4nwAaPDmux/mI9c8/KRjL7oeO3kDqHMy6A6AMMHmbH57N3UYknXZgm4xMpnNZjxuxRkANNNxBu9uZyNPB2jXy0CN7m41//pdhNdhLl8fANuT2eyPt2ObAkD+9Ld7+U4OPGv2vqQaLzsP1wPAunp392E+MBBAG3z5+A8Rjz94+uRtg+o46BwJfVwwvL59M3ao4s328cvnT9LbZQK706rePdLOq7AHgOFfXU8HFvDN+vPDT88RpGmS28yf5U+ufgYAxNzJ1dgmUD5+/Pvz064mvIhjYtiTbOSwztt7DwswdzgaMID04a9/CfNMaqpKYsswtNHQNWnXfNzDAtT2PAtAxctP/84BAGSVZbWi1PM8x+S8mxe6AyjMbAtkUW334WF+XhdFxTEYjj+MZCU6FQbdATjSmQ5VGKzCQwWgeFPmZc2AWIOrTMXFKwMojTIMxe5pEXFNAgBI3tR1LTAyBld529adhtM6A+iM6Zhnm8dlzCkAAEIAILkEZHjj8cDEnYbrZgENEzLybR2aePP0HJQKAEBpumVTDQDpzmAQGK8JgE3buZ76DIpg+bjYlxIAQBBndOXpGiBqeZ6tdzNqNwBija5ub3yqiv3z0zJ6sQD1pjeWgQCI6TjWawPc3E49KotwvdrlXAEAUMufTLCmAcLMsg3aLRl2XAOGO54MbAxNHkcpB4QQ1lzPc9hhMGaajLymBTTd9gauoQlelwUHUFg3zdHEPcyPsM502m0NdgawXMfSEUjeNgAA2BwMr2feYVKkUUqJ9qouoKZlGRSUFIeEi83hzd3MfQHAhOoEdwPo5jBEDcsyCIASQhwA/OnNxCEvANQwGHldCzDLMjCAlIf6VzP8yXT0AkAEs9zXDUNEmGkyDEqpw56rmf5kMrReLECV69us2yrs6AJMdf1bZs3wRiPffPkTpvYrZ8JvSIgmAUBjznDo/Jr+CbFM+poASvC2aaUGmOislgBAbN+zdAKybYTGGDC9YxR0BGjLPC8dhggzzFYCSGJ6rqlrILO4pkMGOu0YBd3sJes8jrMGEDUclwIAYNO1dQ2Ap9vlOhWAOuahjgCiSsIwqQDpznDsAQCmhmVgAKjzJIqLBlrR8XTYzQWiiLb2eCYQG84jxUtpmgbTVMtFWiusiUpFadWtWdUNoE03Oh2/4cy5+ROYZFe4pkGgjeO6aW2T4jTYrOJux8NuADzVJJnGDXPegOmS+3DgMAz1/jmn7sAEkewXi6Bbt6wjQNZy4y4qXXbFTFMow/FNBHX0nPi2P+ThbvW0TrudjTquAdEqL4iysWZQTaYFMycWBl5lqQ6G3cZVHOWCEqRpoKQ4iqRzJqzzJI5TS8fDJucj/dYnUkoFSMOgyaaqBbGA2Raukyg7hqAzgKiyaD9EOuDhnZ7g0QAriXSmEwRCcAHEHNj+dMKSx/vyVQCgzYONh7AD5pXdIGZiCdRSFkUgJGDd8rG6evvG2MlgfcxwnQFUmwXPJijpaJYFAABCYw62GQKFqOnUyIbx9Ipx+7jyuIcF0pXd5lk2Ni0dAAAQtQemY1Eg1rBmXlJyk9ZlmDVHHdO7A4h0Kfa77Zub0Xh8OBsyj3DmUtAH4GZZmuVltUxWi+SopNwHQCaLzS5MbjiZAABoBrIUMQiApQ+bIot3y/3D82Yfv04YgizrkKRF1XDmeToAIErgZVcjxNCJKlT09Hlftq9kAVAC+A4TREfzwxQIAQC0gnMu26qIt7v9LkiOTIg9S7IqWXN2U3zzP7ZVkSVxVpZlFi4ew6NywAkAqgxKd1/8ts55mUXbxWIT5XVdJEHUHjtS36K04dlVUv9mgToPN4+ffn7YZS3ngvOjy5K+FhACyuY3M6smXj0+frl/2HW9ujrh0upboWr76efnxSbqfHXWHwDr33YCyucfPwZR2K1D1h8AKQDHMb75uNh8+mfeNp3vK3ovQo0NPOvX7UbJIlwvz3hth6jpzqa+cfCBUrIqy6Mj//cAAGM4vZ2PTO1l/iYvj9v7/lvdO6UAAMgYzd++GZsHF8i2ivMWdWwOnQbAvOnNVxeotoz3YSH7AfR0AbH84eBrzdNEm8dVWJ/zAYPCzHYd8wCAyt39L/fb4qwvKLBuOfbXPJCvfvnpYVN0zwH9ATRi2LbFDr2IJt083D+H5TktgHXT8Uwdg1JK5PF+vQnzozfg3wOAMNvzLYqREryKgn0QFk33e+sTAKjh+L5BNVBtlW53QZz1nb8fALFsx3EoQkjW6W61CdJSqrMBIISdge9aBgCAKPaLx1WY93vC0w8AM3s8n/kGAADI5OnHLw/7fi94egJo9nT+dj48HMtE+PnjQ7DvXoecAIDtye3dtXf4sA2+/OuxrnqGYD8AxLzReGAThQBUEa2fnvvP3g8AU8NgFAMI3iZJmp00f58wRAhpmqYhJcp0n/TcBH9Vj3pASSGEQqDabL9L235lwAkASvCm4RJA1sl2EzUnPInsBwCyresWMKAqWq3CnrvwCQCqLfO8QQbger9YbHu+YzwNIE1KiQGK7dNie1Qz8PcFaIokSvIaynC9XAXFiQA9WjS8SIL1cjjYPT1vg6w+cQ30eMLRFCE2aOLEP97v0oqfmAd6WKDNZVNHP7NyswxKLk8E6B7FCGFMdEPHoipr3rsQueiiiy666KKL/m/0H7CxKu5TarReAAAAAElFTkSuQmCC\" style=\"height: auto\">\n",
       "              <figcaption style=\"font-size: 0.6em\">9</figcaption>\n",
       "            </figure>\n",
       "        \n",
       "            <figure style=\"margin: 5px !important;\">\n",
       "              <img src=\"data:image/png;base64,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\" style=\"height: auto\">\n",
       "              <figcaption style=\"font-size: 0.6em\">0</figcaption>\n",
       "            </figure>\n",
       "        \n",
       "            <figure style=\"margin: 5px !important;\">\n",
       "              <img src=\"data:image/png;base64,iVBORw0KGgoAAAANSUhEUgAAAIAAAACACAAAAADmVT4XAAAI7ElEQVR4nO2ayZLjuBGGEwAJriKpfSnV1u4Zu9//UexLT/SUq1WlnRIl7gQJwAd5JhwxHUFtXRfrD10UIoFPCSSWzAS46aabbrrppptuuummm2666f9dqO4BRTcNBUkhpBBCcC64kEJKACnFNQCUugfUzqhnY86qqioZK/KClWXFBUhZXaP/egDa/fVzR2F5wfIiS+M4zrK8KIUEznL5EQCqd/9lRFma51maRvt9FCdpxriEKlcT/gEAWHc7A6PMiiJL0ygMwyTJMsalLPM4SQUASCG4kFJKIc4AqgVARNUtW5ZlWeRZGidplhes5EKwPIpTARiqIs+KivOqyH4GAEgugCiaFBVjLGdFWVUV54KzPI5SjjGweLeP8rLMY1n8BABZ5mmqIwUB1SshhBBSSiEEL/M4zjgmkO/W611a5NkOsez6AKKIth5YGsUIkILxnz9ULEkPAIFtBWmRpw2dbpmQUkgppQQJx3hJLUAVLV950DB1SghWqfbnC4piFrkALAvTaIQZK/Iw2IR5kec5Y6ysOBfHENQD7N5Q0HIblq5SaliWqSApsQoAAJoGEmSpGV7OyoplSZxlYbDbxVGSFEVZ8SMIapdizWu1vabnNExNN2zXaVDggI3G/5DzsuJcCM7Lkqf+crHabnf7OM2L8ggj1FqAxyILtq7bMHXDbHieQ4FLYqWOiQAkAAKEKQVAh79SrDzbdmzbCqMkyRnjFwMIJsu8SGNL13TDchxbBQ644bk2AgBCNVXBAFghBAAAtCHCmuPt9rtgt4/iOKvbserdUJSCV3miUYVSzTR0BYQkdtO1sRRIb3iOjiVgTbe0Q4MdMFr9JA789dpfS1a3ZR0BIKWoioQQTLCiKAoGCcj2PAsJju3uoGtjLohpuw1TAQDQW0abMbZdzhq6zKO6temIlRA4rwpAcPggAABkOa6JeEWcYRw7uOLEcmPXtgwNAHSKpBSBrREZb0hd8/UAIOGvU7nIUwPxikSVyBu44sR0PMcydaoZuqYRAGhVLI+XOv5Bg6cC/FAZMBACl7Lam0gIrJm2qWuqYrb7Xa+hAlDbi4OG9tMAZClACixE5qsgJVJUShVCkP34y+dKNiiAajquRX8aAOICJHDOInyYFQgjhACcHbZNXUGKwJphaEr9mfNMAHmYFn/x8qQbMy5BSkAIY1zbP9Sa6FQwpFCdEgSCV2VZidrN4NoAjus4tqli4EWWpEVVC3DuEPxYxOp2Wq5tKEjyPA6jtKy9O1wTQFF1r9f2LJ0CyCqPwzBlH2oBxWr27gZNkwIAlkW820XFh1pAdYcPj+P2YUuQxX6zCevPydcE0Ft3nx7vWoYCAMDT3Wazz2stcEUvoFZreD/uO4f1P4+2/jaqB7iaBYhiue3+oOeZKkjOy33g+0HMPhDAcFvdXq9t6wqIKo83q9Uy+Eg31Jx2t9ttu1RFwPNos1ou1zv2cQuR4bQHg17bsxAGUcTb+Xzpb1MpPwQAE0Vp9u7ux/2mRQAkizezt/flLj3mrnoNAMW07f744X4wcnUAEMVu9vLyfREddVe+BgB1ep375+ex13QAAMpk8/b195mfHvXyFQCQ0RyOnz8/jwyVAvAyClZvL9/WefkhAAghze3ePTzcj3oAwIsi2c3fp7PV7sgGLgRARKF2d/TwNO44AFBlUbBZTn9/2ybHtnApgKLbreHD02PfpQAiDf3ZZPI+nUVHx/AuBaBWazC6fxh7FINMQn/+8tu32SbOj27hQgDFcLvD0bDXNgEgDdeL9+8vL/OEo6NDiJcCWJ27h7uuawAAi9eT79Pv8034g6vUTwNwhs9P9x0DAfB8N/3t62J1pP9fCUDzRk/PQ49KJIp48/b1n5s0Oc7/rwNguJ3h+K5tKpKXyc6fvr7sjth/rgVAqN4c3w06nq0CsDRYLVZ+cHKs9AIAtdkdPT4PXFMFAB4u397XZ0SvLwDQOp/+9vjUtykAAAum39/9HJ+cxLgAwOg8/+Nh0DYIAEDiTyezgJGPAkCAkd0ejIdtW0eSi2K7WszXYf1F6GoAWNXcVrfbsg0FqiyJptPZMkg+DABhVXearVazoSsALFz7r5PZKirqD8FXAgBFb3Q6bc/RFQDIgtn09X0VFPyMPNqZFlDtznDYdU0VpMz369nkfRXEZ6XxzgMQtPXw/GnoUhAli9azyffZJjkvjXjmEGj9z18eBw0sWZZs5pPX1/X+jHTNBQDm4Jcvd7YJVREHy+lk8hbmZ+YxzwOgzcH9Yx8jqPJ4s1zMF+vshCPAhQCEapp9P+x6BACgjLa+H0SnnQEuA1CddrP969jVAAAwi/zVtjYkflUA6o0fRp9G1uFbsffXwVGXwGsBYM0bfX4c94xD/3Gw9nfnZEzPBUBEb3RG911Xx4JzvvVX602YXZDJP9kCCrWavb5jKKjM0njxNlv4UfFhFkBAVN32Wk1dJVBGG3/6+rbYZvWRoKsBEGo3XM9tYIyAReu3yWTu73l9SPpaAMRodPodz6YAIMvYn0+Xm0t88HQAZ3T/9NgxAABQlWwXy03MLur/RAC1/fz3p+c2BQCAKtmu17tLC0lOA6Dt5y9PfVcBABAsDvxtdKEBTgNAVmv0+OBSJBHIPI12wT69tJjneABCFLXZbrVcE0kpOI/D/T5M2aWFNCcAaKbdbbuWhgCJimXBdhcm7BIPPA0AKbrT7rVsDQOALNP92g/irD4UW6fjw/VEs5pNx1ARAEgW+fPlNsprywNqdfwQIEWzLP2QikR58P469ZPy8mKu4wEwUSlVD2U0pFh++7panncQPxcAiEIIPkSfUDr/7V9xmF6hmu2EIUCY/JGK5fHy9VvJL58BJ1kAY0wIwSBFlQQbP7y889MAECKKqpkGoDzcLoPzz8HnAgDCmGg6ACTL2Xx/nXrK0/YCIYSQAHkwfZ2FVykoPQlAViyL91uLrKeTySKsjo/GXgmgykKfatUSb9//PV2cexc9H0CWCS6T/buDks062O/PiMb8UPU1Fn+IqFTVTJ2i8lCwd6VZeDzAfwuZAH5cWXTTTTfddNO5+g+c+r5pyku/XAAAAABJRU5ErkJggg==\" style=\"height: auto\">\n",
       "              <figcaption style=\"font-size: 0.6em\">7</figcaption>\n",
       "            </figure>\n",
       "        \n",
       "            <figure style=\"margin: 5px !important;\">\n",
       "              <img src=\"data:image/png;base64,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\" style=\"height: auto\">\n",
       "              <figcaption style=\"font-size: 0.6em\">3</figcaption>\n",
       "            </figure>\n",
       "        \n",
       "            <figure style=\"margin: 5px !important;\">\n",
       "              <img src=\"data:image/png;base64,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\" style=\"height: auto\">\n",
       "              <figcaption style=\"font-size: 0.6em\">6</figcaption>\n",
       "            </figure>\n",
       "        \n",
       "            <figure style=\"margin: 5px !important;\">\n",
       "              <img src=\"data:image/png;base64,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\" style=\"height: auto\">\n",
       "              <figcaption style=\"font-size: 0.6em\">6</figcaption>\n",
       "            </figure>\n",
       "        \n",
       "    </div>"
      ],
      "text/plain": [
       "<IPython.core.display.HTML object>"
      ]
     },
     "execution_count": 16,
     "metadata": {},
     "output_type": "execute_result"
    }
   ],
   "source": [
    "count = 8\n",
    "\n",
    "def get_images_and_labels(df, ids):\n",
    "    image_datas = df.loc[ids]['png']\n",
    "    images = [Image.open(io.BytesIO(image_data)) for image_data in image_datas]\n",
    "    labels = df.loc[ids]['value']\n",
    "    return images, list(labels)\n",
    "\n",
    "def get_some_random_images_and_labels(df, count):\n",
    "    image_ids = RNG.choice(df.index.unique(), count, replace=False)\n",
    "    return get_images_and_labels(df, image_ids)\n",
    "\n",
    "train_images, train_labels = get_some_random_images_and_labels(df_train_images, count)\n",
    "test_images, test_labels = get_some_random_images_and_labels(df_test_images, count)\n",
    "\n",
    "display_images_grid(train_images + test_images, captions=train_labels + test_labels, col_count=count)"
   ]
  },
  {
   "cell_type": "markdown",
   "id": "49a9c189-4620-4fff-b12c-0553540cc48d",
   "metadata": {},
   "source": [
    "# Core logic"
   ]
  },
  {
   "cell_type": "markdown",
   "id": "3e1f9cdd-a16c-4406-9eb6-69a653b84175",
   "metadata": {},
   "source": [
    "## Hyper Parameters"
   ]
  },
  {
   "cell_type": "code",
   "execution_count": 17,
   "id": "8d1303e2-9a31-466c-8eb6-48bd7a0a7fb8",
   "metadata": {},
   "outputs": [],
   "source": [
    "class SystemMode(StrEnum):\n",
    "    TOY_IMAGE = auto()\n",
    "    REAL_IMAGE_NO_FEATURES = auto() # SBV = set of duplets of {x:n,y:n}\n",
    "    REAL_IMAGE_WITH_FEATURES = auto() # SBV = set of triplets {x:n,y:n,f:n}, where f = feature (e.g. dash or angle)\n",
    "\n",
    "HP_SYSTEM_MODE = SystemMode.REAL_IMAGE_NO_FEATURES\n",
    "\n",
    "match HP_SYSTEM_MODE:\n",
    "    case SystemMode.TOY_IMAGE:\n",
    "        HP_SIGNAL_VEC_LEN = 256 # aka SBV\n",
    "        HP_SIGNAL_VEC_NON_ZERO_BITS = 6\n",
    "        \n",
    "        HP_POINTS_COUNT = 60_000\n",
    "        HP_POINT_NON_ZERO_BITS = 32\n",
    "        \n",
    "        HP_CLUSTER_ONES_COUNT_THRES = 4\n",
    "        HP_CLUSTER_CREATION_ONES_COUNT_THRES = 5\n",
    "        HP_CLUSTER_LEARN_STATE_IDLE_CYCLES = 10\n",
    "        HP_CLUSTER_PREPROD_STATE_IDLE_CYCLES = 30\n",
    "        HP_CLUSTER_LEARN_STATE_BINARIZATION_SCHEDULE = (10, 10)\n",
    "        HP_CLUSTER_PREPROD_STATE_SIGNALS_PROCESSED_THRES = 50\n",
    "        HP_CLUSTER_BINARIZE_THRES = 0.75\n",
    "        HP_CLUSTER_ACCURACY_THRES = 0.98\n",
    "        \n",
    "    case SystemMode.REAL_IMAGE_NO_FEATURES:\n",
    "        HP_SIGNAL_VEC_LEN = 1500 # aka SBV\n",
    "        HP_SIGNAL_VEC_NON_ZERO_BITS = 7\n",
    "        HP_SIGNAL_VEC_SLOTS_COUNT = 10\n",
    "        \n",
    "        HP_POINTS_COUNT = 60_000\n",
    "        HP_POINT_NON_ZERO_BITS = 50\n",
    "        \n",
    "        HP_CLUSTER_ONES_COUNT_THRES = 5\n",
    "        HP_CLUSTER_CREATION_ONES_COUNT_THRES = 6\n",
    "        HP_CLUSTER_LEARN_STATE_IDLE_CYCLES = 10\n",
    "        HP_CLUSTER_PREPROD_STATE_IDLE_CYCLES = 30\n",
    "        HP_CLUSTER_LEARN_STATE_BINARIZATION_SCHEDULE = (10, 10)\n",
    "        HP_CLUSTER_PREPROD_STATE_SIGNALS_PROCESSED_THRES = 50\n",
    "        HP_CLUSTER_BINARIZE_THRES = 0.75\n",
    "        HP_CLUSTER_ACCURACY_THRES = 0.98\n",
    "\n",
    "    case _:\n",
    "        assert False, f'System mode {HP_SYSTEM_MODE.name} is not implemented'\n",
    "        \n",
    "HP_SIGNAL_ENCODING = f'{HP_SIGNAL_VEC_LEN}/{HP_SIGNAL_VEC_NON_ZERO_BITS}'\n",
    "\n",
    "HP_TOY_IMAGE_SIZE = 10\n",
    "HP_TOY_IMAGE_SQUARE = HP_TOY_IMAGE_SIZE ** 2\n",
    "HP_TOY_IMAGE_KERNEL_SIZE = 8\n",
    "HP_TOY_IMAGE_KERNEL_SQUARE = HP_TOY_IMAGE_KERNEL_SIZE ** 2\n",
    "assert HP_TOY_IMAGE_KERNEL_SIZE <= HP_TOY_IMAGE_SIZE\n",
    "HP_TOY_IMAGE_ONES_COUNT = 8"
   ]
  },
  {
   "cell_type": "markdown",
   "id": "24850512-c1a7-4d52-a17a-bf1a5f7641a7",
   "metadata": {},
   "source": [
    "## Types"
   ]
  },
  {
   "cell_type": "code",
   "execution_count": 18,
   "id": "62aec35b-11c1-4d9a-9cdc-b7315222c610",
   "metadata": {},
   "outputs": [],
   "source": [
    "class ClusterState(StrEnum):\n",
    "    LEARN = auto()\n",
    "    PREPROD = auto()\n",
    "    PROD = auto()\n",
    "    DEAD = auto()\n",
    "\n",
    "class ClusterMeta:\n",
    "    def __init__(self, cluster_ind):\n",
    "        self.state = ClusterState.LEARN\n",
    "        self.cluster_ind = cluster_ind\n",
    "        self.cluster_key = ()\n",
    "        self.output_bit = -1\n",
    "        self.input_bits = ()\n",
    "        self.nu = 0\n",
    "        self.ones_count = -1\n",
    "        self.signals_learned = -1\n",
    "        self.signals_to_learn_till_binarization = 0\n",
    "        self.binarization_schedule = ()\n",
    "        self.stats = Counter()\n",
    "        self.verify_image_ids = {}\n",
    "        self.alarm_cycle = None"
   ]
  },
  {
   "cell_type": "markdown",
   "id": "f70e4714-7395-4a8a-93f7-7248507d6e9f",
   "metadata": {},
   "source": [
    "## Memory"
   ]
  },
  {
   "cell_type": "code",
   "execution_count": 19,
   "id": "385867d3-df1a-44cd-a8b6-ab94e752aad3",
   "metadata": {},
   "outputs": [],
   "source": [
    "def hdv_array_log_like_grow_policy(size):\n",
    "    k = math.log(size, 100_000)\n",
    "    new_size = size * 2 if k < 1 else size * 1.1\n",
    "    return int(new_size)\n",
    "\n",
    "CLUSTERS = HdvArray(HP_SIGNAL_VEC_LEN, np, initial_length=10_000, dtype='f', grow_policy=hdv_array_log_like_grow_policy)\n",
    "CLUSTER_MASKS = HdvArray(HP_SIGNAL_VEC_LEN, np, initial_length=10_000, dtype='f', grow_policy=hdv_array_log_like_grow_policy)\n",
    "CLUSTER_METAS = {} # key - cluster index, value ClusterMeta instance"
   ]
  },
  {
   "cell_type": "code",
   "execution_count": 20,
   "id": "944a2145-43bc-4ece-b640-e4562074deaf",
   "metadata": {},
   "outputs": [],
   "source": [
    "def gc_memory():\n",
    "    gc.collect()\n",
    "    \n",
    "    if cp.cuda.is_available():\n",
    "        cp.get_default_memory_pool().free_all_blocks()\n",
    "\n",
    "def clear_memory(with_gc=True):\n",
    "    CLUSTER_METAS.clear()\n",
    "    CLUSTER_MASKS.clear(is_hard_clear=True)\n",
    "    CLUSTERS.clear(is_hard_clear=True)\n",
    "\n",
    "    if with_gc:\n",
    "        gc_memory()"
   ]
  },
  {
   "cell_type": "markdown",
   "id": "6438e5f1-7eb4-483c-8572-a32543ab348d",
   "metadata": {},
   "source": [
    "## Entities"
   ]
  },
  {
   "cell_type": "raw",
   "id": "c0294e1e-250b-45b4-aa7b-8172ed6328c5",
   "metadata": {},
   "source": [
    "Entities are SBV-encoded. SBV stands for \"sparsed binary vector\""
   ]
  },
  {
   "cell_type": "code",
   "execution_count": 21,
   "id": "b1a43c52-4006-4a8e-a97d-507ee8f69ef7",
   "metadata": {},
   "outputs": [
    {
     "name": "stdout",
     "output_type": "stream",
     "text": [
      "1280 entities created from scratch for name=\"x\"\n",
      "1280 entities created from scratch for name=\"y\"\n"
     ]
    }
   ],
   "source": [
    "instructions = {\n",
    "    SystemMode.TOY_IMAGE: dict(pixels=dict(count=HP_TOY_IMAGE_SQUARE)),\n",
    "    SystemMode.REAL_IMAGE_NO_FEATURES: dict(x=dict(count=config.sample_size * HP_SIGNAL_VEC_SLOTS_COUNT), y=dict(count=config.sample_size * HP_SIGNAL_VEC_SLOTS_COUNT)),\n",
    "}[HP_SYSTEM_MODE]\n",
    "\n",
    "unique_sbvs = set()\n",
    "\n",
    "# Load existing entities\n",
    "for name, props in instructions.items():\n",
    "    df_entities = pd.read_sql('SELECT rowid, sbv FROM entities WHERE encoding=:encoding AND name=:name AND count=:count',\n",
    "                              params={'encoding': HP_SIGNAL_ENCODING, 'name': name, 'count': props['count']}, con=transfs_db_con)\n",
    "        \n",
    "    if len(df_entities) > 0:\n",
    "        props['entities'] = pickle.loads(df_entities.iloc[0].sbv)\n",
    "        assert props['count'] == props['entities'].shape[0]\n",
    "        assert np.all(props['entities'].sum(axis=1) == HP_SIGNAL_VEC_NON_ZERO_BITS)\n",
    "        unique_sbvs.update(map(lambda e: tuple(sorted(np.flatnonzero(e))), props['entities']))\n",
    "        print(f'{props['entities'].shape[0]} entities for name=\"{name}\" loaded from database (ROWID={df_entities.iloc[0].rowid})')\n",
    "\n",
    "assert len(unique_sbvs) == sum(map(lambda i: i.get('entities', np.array([])).shape[0], instructions.values()))\n",
    "\n",
    "# Generate and persist missing entities\n",
    "for name in filter(lambda name: not 'entities' in instructions[name], instructions.keys()):\n",
    "    props = instructions[name]\n",
    "    attempts_to_generate_unique_sbv = 10\n",
    "    entities = np.zeros((props['count'], HP_SIGNAL_VEC_LEN), dtype='f')\n",
    "\n",
    "    for entity_ind in range(entities.shape[0]):\n",
    "        for _ in range(attempts_to_generate_unique_sbv):\n",
    "            ii = RNG.choice(HP_SIGNAL_VEC_LEN, HP_SIGNAL_VEC_NON_ZERO_BITS, replace=False)\n",
    "            entity_sbv = tuple(sorted(ii))\n",
    "    \n",
    "            if not entity_sbv in unique_sbvs:\n",
    "                entities[entity_ind][ii] = 1\n",
    "                unique_sbvs.add(entity_sbv)\n",
    "                break\n",
    "        else:\n",
    "            assert False, f'Failed to get unique entity SBV within {attempts_to_generate_unique_sbv} attempts'\n",
    "\n",
    "    assert np.all(entities.sum(axis=1) == HP_SIGNAL_VEC_NON_ZERO_BITS)\n",
    "    props['entities'] = entities\n",
    "    transfs_db_con.execute('INSERT INTO entities(encoding, name, count, sbv) VALUES (:encoding, :name, :count, :sbv)', \n",
    "                           {'encoding': HP_SIGNAL_ENCODING, 'name': name, 'count': entities.shape[0], 'sbv': pickle.dumps(entities)})\n",
    "    print(f'{entities.shape[0]} entities created from scratch for name=\"{name}\"')\n",
    "\n",
    "assert len(unique_sbvs) == sum(map(lambda i: i.get('entities', np.array([])).shape[0], instructions.values()))\n",
    "\n",
    "# Interpret entities based on system mode (assign meaning)\n",
    "match HP_SYSTEM_MODE:\n",
    "    case SystemMode.TOY_IMAGE:\n",
    "        PIXELS = instructions['pixels']['entities']\n",
    "    case SystemMode.REAL_IMAGE_NO_FEATURES:\n",
    "        XS = instructions['x']['entities']\n",
    "        X_VALUES = np.tile(np.arange(config.sample_size), HP_SIGNAL_VEC_SLOTS_COUNT)\n",
    "        X_SLOTS = np.repeat(np.arange(HP_SIGNAL_VEC_SLOTS_COUNT), config.sample_size)\n",
    "\n",
    "        YS = instructions['y']['entities']\n",
    "        Y_VALUES = np.tile(np.arange(config.sample_size), HP_SIGNAL_VEC_SLOTS_COUNT)\n",
    "        Y_SLOTS = np.repeat(np.arange(HP_SIGNAL_VEC_SLOTS_COUNT), config.sample_size)\n",
    "    case _:\n",
    "        assert False, HP_SYSTEM_MODE.name"
   ]
  },
  {
   "cell_type": "markdown",
   "id": "540c8953-6ec6-41ad-945a-9f397989b501",
   "metadata": {},
   "source": [
    "## Points"
   ]
  },
  {
   "cell_type": "raw",
   "id": "d97e49f9-261c-4316-bf89-3f28475c9835",
   "metadata": {},
   "source": [
    "Here we define combinatorial points"
   ]
  },
  {
   "cell_type": "code",
   "execution_count": 22,
   "id": "9dbcbcad-eb00-4479-a32b-ae36b8373cce",
   "metadata": {},
   "outputs": [
    {
     "name": "stdout",
     "output_type": "stream",
     "text": [
      "60000 POINTS created from scratch\n"
     ]
    }
   ],
   "source": [
    "df_points = pd.read_sql('SELECT rowid, points, output_bits FROM points WHERE encoding=:encoding AND count=:count AND non_zero_bits=:non_zero_bits', \n",
    "                        params={\n",
    "                            'encoding': HP_SIGNAL_ENCODING,\n",
    "                            'count': HP_POINTS_COUNT,\n",
    "                            'non_zero_bits': HP_POINT_NON_ZERO_BITS}, \n",
    "                        con=transfs_db_con)\n",
    "\n",
    "if len(df_points) > 0:\n",
    "    POINTS = pickle.loads(df_points.iloc[0].points)\n",
    "    POINT_OUTPUT_BITS = pickle.loads(df_points.iloc[0].output_bits)\n",
    "    assert np.all(POINTS.sum(axis=1) == HP_POINT_NON_ZERO_BITS)\n",
    "    assert POINTS.shape[0] == POINT_OUTPUT_BITS.shape[0]\n",
    "    print(f'{POINTS.shape[0]} POINTS loaded from database (ROWID={df_points.iloc[0].rowid})')\n",
    "else:\n",
    "    POINTS = []\n",
    "    POINT_OUTPUT_BITS = []\n",
    "    output_bits = RNG.choice(HP_SIGNAL_VEC_LEN, HP_POINTS_COUNT)\n",
    "    \n",
    "    for output_bit in output_bits:\n",
    "        point_vec = np.zeros(HP_SIGNAL_VEC_LEN, dtype='f')\n",
    "        non_zero_inds = RNG.choice(HP_SIGNAL_VEC_LEN, HP_POINT_NON_ZERO_BITS, replace=False)\n",
    "        point_vec[non_zero_inds] = 1\n",
    "        POINTS.append(point_vec)\n",
    "        POINT_OUTPUT_BITS.append(output_bit)\n",
    "\n",
    "    POINTS = np.vstack(POINTS)\n",
    "    POINT_OUTPUT_BITS = np.hstack(POINT_OUTPUT_BITS)\n",
    "    assert np.all(POINTS.sum(axis=1) == HP_POINT_NON_ZERO_BITS)\n",
    "    assert POINTS.shape[0] == POINT_OUTPUT_BITS.shape[0]\n",
    "    transfs_db_con.execute('INSERT INTO points(encoding, count, non_zero_bits, points, output_bits) VALUES(:encoding, :count, :non_zero_bits, :points, :output_bits)', \n",
    "                           {\n",
    "                               'encoding': HP_SIGNAL_ENCODING, \n",
    "                               'count': HP_POINTS_COUNT,\n",
    "                               'non_zero_bits': HP_POINT_NON_ZERO_BITS,\n",
    "                               'points': pickle.dumps(POINTS),\n",
    "                               'output_bits': pickle.dumps(POINT_OUTPUT_BITS)\n",
    "                           })\n",
    "    print(f'{POINTS.shape[0]} POINTS created from scratch')"
   ]
  },
  {
   "cell_type": "markdown",
   "id": "de73e165-ba51-4050-b4b8-1af91973f3e3",
   "metadata": {},
   "source": [
    "## lambdas"
   ]
  },
  {
   "cell_type": "code",
   "execution_count": 23,
   "id": "9973a30b-4267-42a8-b61c-5c2c869c902c",
   "metadata": {},
   "outputs": [],
   "source": [
    "fetch_si_xy = lambda si: (si.x, si.y)\n",
    "get_sequence = lambda sequences: np.array(list(itertools.chain.from_iterable(sequences)))\n",
    "get_sequences_reading = lambda sequences, seq_reading_code: list(map(lambda r: sequences[r[0]] if r[1] == 0 else list(reversed(sequences[r[0]])), seq_reading_code))\n",
    "get_xy_sequence = lambda sequence, si_ind_dict: np.array(list(map(lambda si_ind: fetch_si_xy(si_ind_dict[si_ind]), sequence)))\n",
    "get_raw_image = lambda image_id: Image.open(io.BytesIO((df_train_images if image_id < 100_000_000 else df_test_images).loc[image_id]['png']))\n",
    "get_cluster_key = lambda tag, output_bit, input_bits: (tag, int(output_bit), tuple(map(int, sorted(input_bits))))"
   ]
  },
  {
   "cell_type": "markdown",
   "id": "8a7dc09c-d4b0-4fbd-a76d-92684194d275",
   "metadata": {},
   "source": [
    "## encode_xy_list_sbv"
   ]
  },
  {
   "cell_type": "code",
   "execution_count": 67,
   "id": "6b092598-5634-479f-b788-de7de2b5b22e",
   "metadata": {},
   "outputs": [],
   "source": [
    "def encode_xy_list_sbv(xy_list):\n",
    "    assert xy_list.shape[0] <= HP_SIGNAL_VEC_SLOTS_COUNT\n",
    "    ii = np.all(((xy_list >= 0) & (xy_list < config.sample_size)), axis=1)\n",
    "    xy_list = xy_list[ii]\n",
    "    # slots = np.arange(xy_list.shape[0])\n",
    "    slots = np.zeros(xy_list.shape[0], dtype='i')\n",
    "    slot_base_inds = slots * config.sample_size\n",
    "    x_inds = slot_base_inds + xy_list[:,0]\n",
    "    y_inds = slot_base_inds + xy_list[:,1]\n",
    "    assert np.all(X_VALUES[x_inds] == xy_list[:,0])\n",
    "    assert np.all(Y_VALUES[y_inds] == xy_list[:,1])\n",
    "    assert np.all(X_SLOTS[x_inds] == slots)\n",
    "    assert np.all(Y_SLOTS[y_inds] == slots)\n",
    "    sbv = np.vstack([XS[x_inds], YS[y_inds]]) # matrix\n",
    "    sbv = np.sum(sbv, axis=0) # reduced to vector\n",
    "    sbv = np.where(sbv > 0, 1, 0) # and binarized (aka Bloom filter)\n",
    "    return sbv"
   ]
  },
  {
   "cell_type": "markdown",
   "id": "76bee177-67c1-4f6d-8ab6-14d652cb5515",
   "metadata": {},
   "source": [
    "## decode_xy_list_sbv"
   ]
  },
  {
   "cell_type": "code",
   "execution_count": 25,
   "id": "3ca199c2-561d-449c-be1a-9662e97ef703",
   "metadata": {},
   "outputs": [],
   "source": [
    "def decode_xy_list_sbv(xy_list_sbv):\n",
    "    xy_list_sbv = xp_array_from_gpu(xy_list_sbv)\n",
    "    x_inds = (XS @ xy_list_sbv) == HP_SIGNAL_VEC_NON_ZERO_BITS\n",
    "    x_list = X_VALUES[x_inds]\n",
    "    x_slots = X_SLOTS[x_inds]\n",
    "\n",
    "    y_inds = (YS @ xy_list_sbv) == HP_SIGNAL_VEC_NON_ZERO_BITS\n",
    "    y_list = Y_VALUES[y_inds]\n",
    "    y_slots = Y_SLOTS[y_inds]\n",
    "\n",
    "    xy_list = np.full((HP_SIGNAL_VEC_SLOTS_COUNT, 2), np.inf)\n",
    "    xy_list[x_slots,0] = x_list\n",
    "    xy_list[y_slots,1] = y_list\n",
    "    valid_xy_list_inds = np.all(np.isfinite(xy_list), axis=1)\n",
    "    xy_list = xy_list[valid_xy_list_inds].astype(int)\n",
    "    \n",
    "    return xy_list"
   ]
  },
  {
   "cell_type": "markdown",
   "id": "b33b1115-c433-4ec8-a3c7-bdd2a19a7381",
   "metadata": {},
   "source": [
    "## xy_list_to_bv"
   ]
  },
  {
   "cell_type": "code",
   "execution_count": 26,
   "id": "f7f6a110-5886-4d3b-9a78-f8ad40fe1a81",
   "metadata": {},
   "outputs": [],
   "source": [
    "def xy_list_to_bv(xy_list):\n",
    "    ii = np.all(((xy_list >= 0) & (xy_list < config.sample_size)), axis=1)\n",
    "    xy_list = xy_list[ii]\n",
    "    inds = xy_list @ np.array([1, config.sample_size])\n",
    "    bv = np.zeros(config.sample_size ** 2, dtype='f')\n",
    "    bv[inds] = 1\n",
    "    return bv"
   ]
  },
  {
   "cell_type": "markdown",
   "id": "aa61025a-f1f8-4b85-9b3b-a28c919b4387",
   "metadata": {},
   "source": [
    "## get_random_toy_image_ids"
   ]
  },
  {
   "cell_type": "code",
   "execution_count": 27,
   "id": "b0f9ed5a-fde1-473f-8f25-895767869647",
   "metadata": {},
   "outputs": [],
   "source": [
    "def get_random_toy_image_ids(count):\n",
    "    result = []\n",
    "    bits_list = RNG.integers(2, size=(count, HP_TOY_IMAGE_KERNEL_SQUARE), dtype='b')\n",
    "\n",
    "    for _ in range(count):\n",
    "        bits = np.zeros(HP_TOY_IMAGE_KERNEL_SQUARE, dtype='b')\n",
    "        ii = RNG.choice(HP_TOY_IMAGE_KERNEL_SQUARE, HP_TOY_IMAGE_ONES_COUNT, replace=False)\n",
    "        bits[ii] = 1\n",
    "        image_id = sum(map(lambda x: 2**int(x), ii))\n",
    "        assert ''.join(map(str, reversed(bits))) == np.binary_repr(image_id, width=HP_TOY_IMAGE_KERNEL_SQUARE)\n",
    "        result.append(image_id)\n",
    "\n",
    "    return result"
   ]
  },
  {
   "cell_type": "markdown",
   "id": "54d7a684-fe05-46e1-8c6e-a1b75279c8d4",
   "metadata": {},
   "source": [
    "## get_toy_image"
   ]
  },
  {
   "cell_type": "code",
   "execution_count": 28,
   "id": "18fd1716-363b-419b-81b4-f91b632785b3",
   "metadata": {},
   "outputs": [],
   "source": [
    "def get_toy_image(image_id):\n",
    "    bits = np.binary_repr(image_id, width=HP_TOY_IMAGE_KERNEL_SQUARE)\n",
    "    bits = np.array(list(map(int, reversed(bits))), dtype='f')\n",
    "    image = np.zeros((HP_TOY_IMAGE_SIZE, HP_TOY_IMAGE_SIZE), dtype='f')\n",
    "    offset = (HP_TOY_IMAGE_SIZE - HP_TOY_IMAGE_KERNEL_SIZE) // 2\n",
    "    image[offset:offset+HP_TOY_IMAGE_KERNEL_SIZE,offset:offset+HP_TOY_IMAGE_KERNEL_SIZE] = bits.reshape(HP_TOY_IMAGE_KERNEL_SIZE, -1)\n",
    "    return image.ravel()"
   ]
  },
  {
   "cell_type": "markdown",
   "id": "47d09d0f-663b-4c6a-a67c-ca314d7bfaeb",
   "metadata": {},
   "source": [
    "## get_toy_image_pixel_coords"
   ]
  },
  {
   "cell_type": "code",
   "execution_count": 29,
   "id": "8759db1c-d34d-4725-b2f8-6cf0e1576d88",
   "metadata": {},
   "outputs": [],
   "source": [
    "def get_toy_image_pixel_coords(toy_image):\n",
    "    toy_image = vec_to_square_matrix(toy_image)\n",
    "    pixel_ij_list = np.nonzero(toy_image) # tuple of 2 arrays (i and j) where pixels are non zero\n",
    "    ij = np.array(list(zip(*pixel_ij_list)))\n",
    "    xy = np.roll(ij, 1, axis=1)\n",
    "    return xy"
   ]
  },
  {
   "cell_type": "markdown",
   "id": "3efadb1b-0890-49dd-a960-a79bc3dbf342",
   "metadata": {},
   "source": [
    "## transform_toy_image"
   ]
  },
  {
   "cell_type": "code",
   "execution_count": 30,
   "id": "6df827de-0961-4886-8249-c4cd20028c89",
   "metadata": {},
   "outputs": [],
   "source": [
    "def transform_toy_image(toy_image, transf):\n",
    "    xy_list = get_toy_image_pixel_coords(toy_image)\n",
    "    xy_list = (transf @ np.hstack([xy_list, np.ones(xy_list.shape[0])[:,np.newaxis]]).T).T[:,:2]\n",
    "    xy_list = np.round(xy_list, decimals=0).astype(int)\n",
    "    ii = np.all(((xy_list >= 0) & (xy_list < HP_TOY_IMAGE_SIZE)), axis=1) \n",
    "    xy_list = xy_list[ii]\n",
    "    inds = (xy_list @ np.array([1, HP_TOY_IMAGE_SIZE])).astype(int)\n",
    "    toy_image = np.zeros_like(toy_image.ravel())\n",
    "    toy_image[inds] = 1\n",
    "    return toy_image"
   ]
  },
  {
   "cell_type": "markdown",
   "id": "c53ad2f3-dc17-4bcb-a9c9-9b44aa1f3a42",
   "metadata": {},
   "source": [
    "## encode_toy_image_sbv"
   ]
  },
  {
   "cell_type": "code",
   "execution_count": 31,
   "id": "d240081d-6785-4dc9-9139-114faf2f88d4",
   "metadata": {},
   "outputs": [],
   "source": [
    "def encode_toy_image_sbv(image):\n",
    "    assert image.shape[0] == PIXELS.shape[0]\n",
    "    mask = image.astype(bool)\n",
    "    active_pixels = PIXELS[mask]\n",
    "    return np.where(active_pixels.sum(axis = 0) > 0, 1, 0) # aka Bloom filter"
   ]
  },
  {
   "cell_type": "markdown",
   "id": "33dcc7c6-f12f-4c92-b55e-3901f92796ce",
   "metadata": {},
   "source": [
    "## decode_toy_image_sbv"
   ]
  },
  {
   "cell_type": "code",
   "execution_count": 32,
   "id": "b4c1ec61-f00f-447e-9cf1-a161ef102b4f",
   "metadata": {},
   "outputs": [],
   "source": [
    "def decode_toy_image_sbv(sbv):\n",
    "    sbv = xp_array_from_gpu(sbv)\n",
    "    pixel_sbv_inds = np.argwhere((PIXELS @ sbv) >= HP_SIGNAL_VEC_NON_ZERO_BITS).ravel()\n",
    "    bv = np.zeros((HP_TOY_IMAGE_SIZE, HP_TOY_IMAGE_SIZE)).ravel()\n",
    "    bv[pixel_sbv_inds] = 1\n",
    "    return bv"
   ]
  },
  {
   "cell_type": "markdown",
   "id": "454d74a8-397e-42b6-af1e-18437ef2f791",
   "metadata": {},
   "source": [
    "## .lab hdc"
   ]
  },
  {
   "cell_type": "code",
   "execution_count": 33,
   "id": "8a77cf8e-74e7-408e-83ed-bf28a26b2875",
   "metadata": {},
   "outputs": [],
   "source": [
    "# hdc = Hdc(10_000, np, dtype='f')\n",
    "# hdc.bundle = hdc.bundle_noties\n",
    "# hdc.cos_sim_threshold = 0.055\n",
    "# hdc.hdist_threshold = 4700\n",
    "\n",
    "hdc = Hdc(1_000, np, dtype='f')\n",
    "hdc.bundle = hdc.bundle_noties\n",
    "hdc.cos_sim_threshold = 0.10\n",
    "\n",
    "# hdc = Hdc(2_000, np, dtype='f')\n",
    "# hdc.bundle = hdc.bundle_noties\n",
    "# hdc.cos_sim_threshold = 0.10"
   ]
  },
  {
   "cell_type": "code",
   "execution_count": 34,
   "id": "69ac53e2-f39a-4e59-abfd-2b5eeb834122",
   "metadata": {},
   "outputs": [],
   "source": [
    "PIXEL_HDVS = hdc(config.sample_size ** 2)\n",
    "PIXEL_HDVS_NORM = hdc.normalize(PIXEL_HDVS)"
   ]
  },
  {
   "cell_type": "code",
   "execution_count": 35,
   "id": "af16ae38-e56f-48df-85c5-426649ab275a",
   "metadata": {},
   "outputs": [
    {
     "data": {
      "image/png": "[encoded data removed]",
      "text/plain": [
       "<Figure size 1200x480 with 2 Axes>"
      ]
     },
     "metadata": {},
     "output_type": "display_data"
    }
   ],
   "source": [
    "image_id = RNG.choice(df_train_images.index)\n",
    "image = next(df_train_images.loc[[image_id]].itertuples())\n",
    "si_ind_dict = pickle.loads(image.inner_si_ind_dict)\n",
    "sequences = pickle.loads(image.inner_sequences)\n",
    "seq = get_sequence(sequences)\n",
    "seq_xy = get_xy_sequence(seq, si_ind_dict)\n",
    "ii = np.all(((seq_xy >= 0) & (seq_xy < config.sample_size)), axis=1) \n",
    "seq_xy = seq_xy[ii]\n",
    "ind_seq = (seq_xy @ np.array([1, config.sample_size])).astype(int)\n",
    "seq_bv_true = np.zeros((config.sample_size, config.sample_size)).ravel()\n",
    "seq_bv_true[ind_seq] = 1\n",
    "\n",
    "seq_hdv = hdc.bundle(PIXEL_HDVS[ind_seq])\n",
    "seq_hdv_binary = hdc.to_binary(seq_hdv)\n",
    "seq_hdv_bipolar = hdc.to_bipolar(seq_hdv_binary)\n",
    "seq_hdv_bipolar_norm = hdc.normalize(seq_hdv_bipolar)\n",
    "pixel_hdv_inds = np.argwhere((PIXEL_HDVS_NORM @ seq_hdv_bipolar_norm) > hdc.cos_sim_threshold).ravel()\n",
    "seq_bv = np.zeros((config.sample_size, config.sample_size)).ravel()\n",
    "seq_bv[pixel_hdv_inds] = 1\n",
    "\n",
    "error_level = np.count_nonzero(seq_bv != seq_bv_true)\n",
    "\n",
    "fig, (ax1, ax2) = plt.subplots(1, 2)\n",
    "fig.set_figwidth(12)\n",
    "ax1.set_title(f'image_id={image_id}, points={len(ind_seq)}')\n",
    "ax1.imshow(seq_bv_true.reshape(config.sample_size, -1));\n",
    "ax2.set_title(f'err.={error_level}')\n",
    "ax2.set_title(f'N={seq_hdv.shape[0]} / {seq_hdv_binary.sum():.0f}, err.={error_level}')\n",
    "ax2.imshow(seq_bv.reshape(config.sample_size, -1));"
   ]
  },
  {
   "cell_type": "code",
   "execution_count": 36,
   "id": "93bd685d-76e0-4de1-a67b-6a61e9a2c29b",
   "metadata": {},
   "outputs": [
    {
     "data": {
      "image/jpeg": "[encoded data removed]",
      "image/png": "[encoded data removed]",
      "text/plain": [
       "<PIL.PngImagePlugin.PngImageFile image mode=L size=128x128>"
      ]
     },
     "execution_count": 36,
     "metadata": {},
     "output_type": "execute_result"
    }
   ],
   "source": [
    "get_raw_image(image_id)"
   ]
  },
  {
   "cell_type": "markdown",
   "id": "582ad609-9873-4ab3-830f-488d15ecf505",
   "metadata": {},
   "source": [
    "## .lab sbv"
   ]
  },
  {
   "cell_type": "code",
   "execution_count": 37,
   "id": "9d858d2c-11f8-4b20-a572-c9c1edcfaf55",
   "metadata": {},
   "outputs": [],
   "source": [
    "# # image_id = RNG.choice(df_train_images.index)\n",
    "# # image_id = 44917 # 60 points\n",
    "# image = next(df_train_images.loc[[image_id]].itertuples())\n",
    "# si_ind_dict = pickle.loads(image.inner_si_ind_dict)\n",
    "# sequences = pickle.loads(image.inner_sequences)\n",
    "# seq = get_sequence(sequences)\n",
    "# seq_xy = get_xy_sequence(seq, si_ind_dict)\n",
    "# ii = np.all(((seq_xy >= 0) & (seq_xy < config.sample_size)), axis=1) \n",
    "# seq_xy = seq_xy[ii]\n",
    "# ind_seq = (seq_xy @ np.array([1, config.sample_size])).astype(int)\n",
    "# seq_bv_true = np.zeros((config.sample_size, config.sample_size)).ravel()\n",
    "# seq_bv_true[ind_seq] = 1\n",
    "\n",
    "# # seq_sbv = np.where(np.sum(PIXELS[ind_seq], axis=0) > 0, 1, 0) # aka Bloom filter\n",
    "# seq_sbv = calc_seq_sbv(seq_xy)\n",
    "# # pixel_sbv_inds = np.argwhere((PIXELS @ seq_sbv) >= SBV_NON_ZERO_INDS).ravel()\n",
    "# # seq_bv = np.zeros((config.sample_size, config.sample_size)).ravel()\n",
    "# # seq_bv[pixel_sbv_inds] = 1\n",
    "# seq_bv = seq_sbv_to_bv(seq_sbv)\n",
    "\n",
    "# error_level = np.count_nonzero(seq_bv != seq_bv_true)\n",
    "\n",
    "# fig, (ax1, ax2) = plt.subplots(1, 2)\n",
    "# fig.set_figwidth(12)\n",
    "# ax1.set_title(f'image_id={image_id}, points={len(ind_seq)}')\n",
    "# ax1.imshow(seq_bv_true.reshape(config.sample_size, -1))\n",
    "# ax2.set_title(f'sbv={seq_sbv.shape[0]} / {seq_sbv.sum()}, non_zero_inds={HP_SIGNAL_VEC_NON_ZERO_BITS}, err.={error_level}')\n",
    "# ax2.imshow(seq_bv.reshape(config.sample_size, -1));"
   ]
  },
  {
   "cell_type": "markdown",
   "id": "8a40ec0a-891b-4385-88c3-6699bf574057",
   "metadata": {},
   "source": [
    "# Train"
   ]
  },
  {
   "cell_type": "code",
   "execution_count": 38,
   "id": "4287bb50-b460-4bdd-8d19-322e30669418",
   "metadata": {},
   "outputs": [],
   "source": [
    "def get_rotate_transf(deg):\n",
    "    half_sz = HP_TOY_IMAGE_SIZE / 2 if HP_SYSTEM_MODE == SystemMode.TOY_IMAGE else config.sample_size / 2\n",
    "    move_to_ooc_transf = np.array([\n",
    "        [1, 0, -half_sz],\n",
    "        [0, 1, -half_sz],\n",
    "        [0, 0, 1]])\n",
    "    theta = np.deg2rad(deg)\n",
    "    cos_theta = math.cos(theta)\n",
    "    sin_theta = math.sin(theta)\n",
    "    rotate_transf = np.array([\n",
    "        [cos_theta, -sin_theta, 0],\n",
    "        [sin_theta, cos_theta, 0],\n",
    "        [0, 0, 1]\n",
    "    ])\n",
    "    move_to_target_loc_transf = np.array([\n",
    "        [1, 0, half_sz],\n",
    "        [0, 1, half_sz],\n",
    "        [0, 0, 1]])\n",
    "    return move_to_target_loc_transf @ rotate_transf @ move_to_ooc_transf\n",
    "\n",
    "def get_offset_transf(dx=0, dy=0):\n",
    "    return np.array([\n",
    "        [1, 0, dx],\n",
    "        [0, 1, dy],\n",
    "        [0, 0, 1]])"
   ]
  },
  {
   "cell_type": "code",
   "execution_count": 39,
   "id": "d53d9c0e-7546-4979-a953-0b8f46f1ce48",
   "metadata": {},
   "outputs": [],
   "source": [
    "transfs = {\n",
    "    'offset_10_0': get_offset_transf(10, 0),\n",
    "    'offset_1_0': get_offset_transf(1, 0),\n",
    "    'offset_-1_0': get_offset_transf(-1, 0),\n",
    "    'offset_0_1': get_offset_transf(0, 1),\n",
    "    'offset_1_1': get_offset_transf(1, 1),\n",
    "    'offset_5_0': get_offset_transf(5, 0),\n",
    "    'rotate_45': get_rotate_transf(45),\n",
    "    'rotate_90': get_rotate_transf(90),\n",
    "}\n",
    "TRANSF_CODE = 'rotate_45'\n",
    "TRANSF = transfs[TRANSF_CODE]"
   ]
  },
  {
   "cell_type": "code",
   "execution_count": 40,
   "id": "145172a9-54d1-4563-a7ab-cde78584810c",
   "metadata": {},
   "outputs": [],
   "source": [
    "LOG.is_enabled = True"
   ]
  },
  {
   "cell_type": "code",
   "execution_count": 72,
   "id": "66c512a5-916f-4a20-b37c-e0369e7d65c8",
   "metadata": {},
   "outputs": [],
   "source": [
    "HP_MAX_LEARN_CLUSTERS_COUNT = 300_000\n",
    "HP_EPOCHS_COUNT = 1\n",
    "HP_OUTPUT_BITS_PER_BATCH = 1500\n",
    "HP_CYCLES_COUNT = 1000\n",
    "HP_CYCLE_IMAGES_COUNT = min(100, len(df_train_images))"
   ]
  },
  {
   "cell_type": "code",
   "execution_count": 81,
   "id": "14a44b60-5ac3-4951-aae9-89b5bbb89058",
   "metadata": {},
   "outputs": [
    {
     "data": {
      "text/plain": [
       "(10, 1500)"
      ]
     },
     "execution_count": 81,
     "metadata": {},
     "output_type": "execute_result"
    }
   ],
   "source": [
    "inds_for_new_clusters = RNG.choice(signals_input.shape[0], 10, replace=False)\n",
    "signals_input[inds_for_new_clusters].shape"
   ]
  },
  {
   "cell_type": "code",
   "execution_count": 84,
   "id": "a2366ea9-8171-4373-b8ce-9cc0299c365f",
   "metadata": {},
   "outputs": [
    {
     "data": {
      "application/vnd.jupyter.widget-view+json": {
       "model_id": "5ed6907d600f4101bbe3a3468747540d",
       "version_major": 2,
       "version_minor": 0
      },
      "text/plain": [
       "Epoch:   0%|          | 0/1 [00:00<?, ?it/s]"
      ]
     },
     "metadata": {},
     "output_type": "display_data"
    },
    {
     "data": {
      "application/vnd.jupyter.widget-view+json": {
       "model_id": "7883ad777972478ab92f4228b822deb7",
       "version_major": 2,
       "version_minor": 0
      },
      "text/plain": [
       "Output bit batch:   0%|          | 0/1 [00:00<?, ?it/s]"
      ]
     },
     "metadata": {},
     "output_type": "display_data"
    },
    {
     "data": {
      "application/vnd.jupyter.widget-view+json": {
       "model_id": "5435d72b1e1e4a63bdb7ff230acba752",
       "version_major": 2,
       "version_minor": 0
      },
      "text/plain": [
       "Cycle:   0%|          | 0/1000 [00:00<?, ?it/s]"
      ]
     },
     "metadata": {},
     "output_type": "display_data"
    }
   ],
   "source": [
    "# %%time\n",
    "batch_output_bits_filter = lambda s, e: True\n",
    "# batch_output_bits_filter = lambda s, e: s >= 80\n",
    "\n",
    "for epoch in tqdm(range(HP_EPOCHS_COUNT), desc='Epoch'):\n",
    "    with LOG.auto_prefix('EPOCH', epoch):\n",
    "        for start_output_bit in tqdm(range(0, HP_SIGNAL_VEC_LEN, HP_OUTPUT_BITS_PER_BATCH), leave=False, desc='Output bit batch'):\n",
    "            end_output_bit = start_output_bit + HP_OUTPUT_BITS_PER_BATCH - 1\n",
    "            end_output_bit = min(end_output_bit, HP_SIGNAL_VEC_LEN - 1)\n",
    "            assert end_output_bit >= start_output_bit, (start_output_bit, end_output_bit)\n",
    "\n",
    "            if not batch_output_bits_filter(start_output_bit, end_output_bit):\n",
    "                continue\n",
    "            \n",
    "            with LOG.auto_prefix('OBITS', f'{start_output_bit}:{end_output_bit}'):\n",
    "                clear_memory(with_gc=False)\n",
    "                ## Select points for output bits (OBITS)\n",
    "                points_mask = (POINT_OUTPUT_BITS >= start_output_bit) & (POINT_OUTPUT_BITS <= end_output_bit)\n",
    "                points = xp_array_to_gpu(POINTS[points_mask])\n",
    "                point_output_bits = POINT_OUTPUT_BITS[points_mask]\n",
    "                point_inds = np.arange(points.shape[0])\n",
    "                LOG(f'{points.shape[0]} combinatorial points selected for output bits {start_output_bit}:{end_output_bit}, avg. points per output bit={points.shape[0] / ((end_output_bit - start_output_bit) + 1):.0f}')\n",
    "                assert points.shape[0] > 0\n",
    "\n",
    "                ## Restore prod clusters for output bits (OBITS)\n",
    "                df_clusters = pd.read_sql('SELECT ROWID, output_bit, sbv, meta FROM clusters WHERE encoding=:encoding AND transf_code=:transf_code ' + \n",
    "                                          'AND output_bit>=:start_output_bit AND output_bit<=:end_output_bit', \n",
    "                                          params={\n",
    "                                              'encoding': HP_SIGNAL_ENCODING, \n",
    "                                              'transf_code': TRANSF_CODE,\n",
    "                                              'start_output_bit': start_output_bit, \n",
    "                                              'end_output_bit': end_output_bit}, \n",
    "                                          con=transfs_db_con)\n",
    "                \n",
    "                for cluster_row in df_clusters.itertuples():\n",
    "                    prod_clusters_for_output_bit = pickle.loads(cluster_row.sbv)\n",
    "                    prod_cluster_metas_for_output_bit = pickle.loads(cluster_row.meta)\n",
    "                    assert prod_clusters_for_output_bit.shape[0] == len(prod_cluster_metas_for_output_bit)\n",
    "\n",
    "                    for cluster, meta in zip(prod_clusters_for_output_bit, prod_cluster_metas_for_output_bit):\n",
    "                        cluster_ind = CLUSTERS.lease()\n",
    "                        assert CLUSTER_MASKS.lease() == cluster_ind\n",
    "                        meta.cluster_ind = cluster_ind\n",
    "                        CLUSTERS.array[cluster_ind] = cluster\n",
    "                        CLUSTER_MASKS.array[cluster_ind] = cluster\n",
    "                        CLUSTER_METAS[cluster_ind] = meta\n",
    "\n",
    "                    LOG(f'Loaded {prod_clusters_for_output_bit.shape[0]} clusters for output bit {cluster_row.output_bit} (ROWID={cluster_row.rowid})')\n",
    "\n",
    "                assert len(CLUSTER_METAS) == CLUSTERS.active_len\n",
    "                assert len(CLUSTER_METAS) == CLUSTER_MASKS.active_len\n",
    "                LOG(f'Loaded {len(CLUSTER_METAS)} clusters in total for encoding=\"{HP_SIGNAL_ENCODING}\" and transf_code=\"{TRANSF_CODE}\"')\n",
    "\n",
    "                prod_cluster_metas = filter(lambda c: c.state == ClusterState.PROD, CLUSTER_METAS.values())\n",
    "                unique_cluster_keys = set(map(lambda m: m.cluster_key, prod_cluster_metas))\n",
    "                \n",
    "                ## Mine clusters\n",
    "                for cycle in tqdm(range(HP_CYCLES_COUNT), leave=False, desc='Cycle'):\n",
    "                    with LOG.auto_prefix('CYCLE', cycle):\n",
    "                        LOG(f'===')\n",
    "                        cluster_states = Counter(map(lambda m: m.state.name, CLUSTER_METAS.values()))\n",
    "                        LOG(f'Cycle {cycle} started, clusters: {cluster_states}, CLUSTERS.array.shape={CLUSTERS.array.shape}')\n",
    "                        \n",
    "                        ### Prepare input and output signals for training\n",
    "                        signals_input = []\n",
    "                        signals_output = []\n",
    "\n",
    "                        match HP_SYSTEM_MODE:\n",
    "                            case SystemMode.TOY_IMAGE:\n",
    "                                cycle_image_ids = get_random_toy_image_ids(HP_CYCLE_IMAGES_COUNT)\n",
    "    \n",
    "                                for cycle_image_id in cycle_image_ids:\n",
    "                                    toy_image_origin = get_toy_image(cycle_image_id)\n",
    "                                    toy_image_transf = transform_toy_image(toy_image_origin, TRANSF)\n",
    "                                    toy_image_origin_sbv, toy_image_transf_sbv = encode_toy_image_sbv(toy_image_origin), encode_toy_image_sbv(toy_image_transf)\n",
    "                                    signals_input.append(toy_image_origin_sbv)\n",
    "                                    signals_output.append(toy_image_transf_sbv)\n",
    "                                    \n",
    "                            case SystemMode.REAL_IMAGE_NO_FEATURES:\n",
    "                                cycle_image_ids = RNG.choice(df_train_images.index, HP_CYCLE_IMAGES_COUNT, replace=False).astype('i')\n",
    "                                \n",
    "                                for image in df_train_images.loc[cycle_image_ids].itertuples():\n",
    "                                    sequences = pickle.loads(image.inner_sequences)\n",
    "                                    si_ind_dict = pickle.loads(image.inner_si_ind_dict)\n",
    "                                    xy_list_full = get_xy_sequence(get_sequence(sequences), si_ind_dict)\n",
    "                                    xy_list_origin = RNG.choice(xy_list_full, min(xy_list_full.shape[0], HP_SIGNAL_VEC_SLOTS_COUNT), replace=False)\n",
    "                                    xy_list_transf = np.hstack([xy_list_origin, np.ones(xy_list_origin.shape[0])[:,np.newaxis]]) # make homogeneous coords\n",
    "                                    xy_list_transf = (TRANSF @ xy_list_transf.T).T[:,:2]\n",
    "                                    xy_list_transf = np.round(xy_list_transf, decimals=0).astype(int)\n",
    "                                    xy_list_origin_sbv, xy_list_transf_sbv = encode_xy_list_sbv(xy_list_origin), encode_xy_list_sbv(xy_list_transf)\n",
    "                                    signals_input.append(xy_list_origin_sbv)\n",
    "                                    signals_output.append(xy_list_transf_sbv)\n",
    "                            case _:\n",
    "                                assert False, HP_SYSTEM_MODE\n",
    "                        \n",
    "                        signals_input = xp.vstack(signals_input)\n",
    "                        signals_output = np.vstack(signals_output)\n",
    "                        assert signals_input.shape[0] == signals_output.shape[0]\n",
    "                        LOG(f'Prepared {signals_input.shape[0]} signals')\n",
    "                        \n",
    "                        ### Create new clusters\n",
    "                        learn_cluster_count = cluster_states[ClusterState.LEARN.name]\n",
    "                        new_clusters_count = 0\n",
    "                        inds_for_new_clusters = RNG.choice(signals_input.shape[0], 10, replace=False)\n",
    "                        \n",
    "                        for signal_input, signal_output in zip(signals_input[inds_for_new_clusters], signals_output[inds_for_new_clusters]):\n",
    "                            if learn_cluster_count > HP_MAX_LEARN_CLUSTERS_COUNT:\n",
    "                                break\n",
    "                                \n",
    "                            active_points_mask = signal_output[point_output_bits] != 0\n",
    "                            active_point_inds = point_inds[active_points_mask]\n",
    "\n",
    "                            if active_point_inds.shape[0] == 0:\n",
    "                                continue\n",
    "                                \n",
    "                            active_points = points[active_point_inds] # subset of points which are connected to active output bits\n",
    "                            active_points_signal_input_mat = active_points * signal_input\n",
    "                            active_points_signal_input_mask = (active_points_signal_input_mat.sum(axis=1) >= HP_CLUSTER_CREATION_ONES_COUNT_THRES) # active_points must have at least ON bits within input signal\n",
    "                            active_points_signal_input_mask = xp_array_from_gpu(active_points_signal_input_mask)\n",
    "                    \n",
    "                            for mask_value, point_ind, subsignal_input in zip(active_points_signal_input_mask,\n",
    "                                                                              active_point_inds, \n",
    "                                                                              xp_array_from_gpu(active_points_signal_input_mat)):\n",
    "                                if not mask_value:\n",
    "                                    continue\n",
    "                                \n",
    "                                active_output_bit = int(point_output_bits[point_ind])\n",
    "                                active_input_bits = np.flatnonzero(subsignal_input)\n",
    "                                assert active_input_bits.shape[0] >= HP_CLUSTER_CREATION_ONES_COUNT_THRES\n",
    "                                cluster_key = get_cluster_key(ClusterState.LEARN.name, active_output_bit, active_input_bits)\n",
    "                    \n",
    "                                if cluster_key in unique_cluster_keys:\n",
    "                                    continue\n",
    "                    \n",
    "                                cluster_ind = CLUSTERS.lease()\n",
    "                                cluster_mask_ind = CLUSTER_MASKS.lease()\n",
    "                                assert cluster_ind == cluster_mask_ind\n",
    "                                # due to frequent uploads hosting CLUSTERS and CLUSTER_MASKS on GPU slow downs whole process a lot,\n",
    "                                # as such host CLUSTERS and CLUSTER_MASKS on CPU and bulk upload to GPU when needed\n",
    "                                CLUSTERS.array[cluster_ind] = subsignal_input\n",
    "                                CLUSTER_MASKS.array[cluster_ind] = subsignal_input\n",
    "                                cluster_meta = ClusterMeta(cluster_ind)\n",
    "                                cluster_meta.cluster_key = cluster_key\n",
    "                                cluster_meta.output_bit = active_output_bit\n",
    "                                cluster_meta.input_bits = tuple(active_input_bits)\n",
    "                                cluster_meta.nu = 1 / subsignal_input.sum()\n",
    "                                cluster_meta.signals_to_learn_till_binarization = HP_CLUSTER_LEARN_STATE_BINARIZATION_SCHEDULE[0]\n",
    "                                cluster_meta.binarization_schedule = HP_CLUSTER_LEARN_STATE_BINARIZATION_SCHEDULE\n",
    "                                cluster_meta.alarm_cycle = cycle + HP_CLUSTER_LEARN_STATE_IDLE_CYCLES\n",
    "                                CLUSTER_METAS[cluster_ind] = cluster_meta\n",
    "                                unique_cluster_keys.add(cluster_key)\n",
    "                                new_clusters_count += 1\n",
    "                                learn_cluster_count += 1\n",
    "                    \n",
    "                        LOG(f'Created {new_clusters_count} clusters')\n",
    "\n",
    "                        ### Upload clusters to GPU to speed-up learning, binarization and verification steps\n",
    "                        gpu_clusters = xp_array_to_gpu(CLUSTERS.array_active)\n",
    "                        gpu_cluster_masks = xp_array_to_gpu(CLUSTER_MASKS.array_active)\n",
    "                        gpu_cluster_nus = np.zeros(CLUSTERS.active_len)\n",
    "                        for m in CLUSTER_METAS.values(): gpu_cluster_nus[m.cluster_ind] = m.nu\n",
    "                        gpu_cluster_nus = xp_array_to_gpu(gpu_cluster_nus)\n",
    "                        LOG('GPU upload complete')\n",
    "\n",
    "                        ### Learn clusters\n",
    "                        learn_cluster_metas = list(filter(lambda c: c.state == ClusterState.LEARN, CLUSTER_METAS.values()))\n",
    "                        learn_cluster_inds = np.array(list(map(lambda m: m.cluster_ind, learn_cluster_metas)), dtype='i')\n",
    "                        learn_cluster_output_bits = list(map(lambda m: m.output_bit, learn_cluster_metas))\n",
    "                        learned_clusters_inds = set()\n",
    "\n",
    "                        # signals_input = xp.tile(signals_input, (10, 1))\n",
    "                        # signals_output = np.tile(signals_output, (10, 1))\n",
    "                        \n",
    "                        for signal_input, signal_output in zip(signals_input, signals_output):\n",
    "                            # this stanza 'signal_output[learn_cluster_output_bits] != 0' effectively produces\n",
    "                            # boolean mask for learn_cluster_inds - clusters which are connected to currently active output bits\n",
    "                            active_cluster_inds = learn_cluster_inds[signal_output[learn_cluster_output_bits] != 0]\n",
    "                    \n",
    "                            if active_cluster_inds.shape[0] == 0:\n",
    "                                continue\n",
    "                            \n",
    "                            active_clusters = gpu_clusters[active_cluster_inds] # subset of CLUSTERS which are connected to active bits in signal_output\n",
    "                            active_cluster_masks = gpu_cluster_masks[active_cluster_inds]\n",
    "                            active_cluster_nus = gpu_cluster_nus[active_cluster_inds]\n",
    "\n",
    "                            ys = signal_input @ active_clusters.T # how each cluster reacted on signal_input (strength), ca. shape (35,).\n",
    "                            zs = signal_input @ active_cluster_masks.T # number of activated bits within each cluster for given signal_input, ca. shape (35,)\n",
    "                            grow = (signal_input * (active_cluster_nus * ys)[:,np.newaxis]) # how weights within each cluster must grow up in response to signal_input, matrix, ca. shape (35, 1024)\n",
    "                            grow *= active_cluster_masks # masking, only allow weights which belong to clusters to grow up, matrix, ca. shape (35, 1024)\n",
    "                            nomins = active_clusters + grow # grow weights within clusters\n",
    "                            denoms = nomins.max(axis=1) \n",
    "                            updated_active_clusters = (nomins.T / denoms).T \n",
    "                            # upload updated weights for those clusters which have enough bits touched by signal\n",
    "                            # (i.e. we won't update clusters which have e.g. 1 bit touched)\n",
    "                            zs_mask = xp_array_from_gpu(zs >= HP_CLUSTER_ONES_COUNT_THRES)\n",
    "                            gpu_clusters[active_cluster_inds[zs_mask]] = updated_active_clusters[zs_mask]\n",
    "                    \n",
    "                            for cluster_ind in active_cluster_inds[zs_mask]:\n",
    "                                cluster_meta = CLUSTER_METAS[cluster_ind]\n",
    "                                cluster_meta.signals_learned += 1\n",
    "                                cluster_meta.signals_to_learn_till_binarization -= 1\n",
    "                                cluster_meta.alarm_cycle = cycle + HP_CLUSTER_LEARN_STATE_IDLE_CYCLES\n",
    "                                learned_clusters_inds.add(cluster_ind)\n",
    "                    \n",
    "                        LOG(f'Learned {len(learned_clusters_inds)} clusters')\n",
    "\n",
    "                        ### Binarize LEARN clusters (develop specialization)\n",
    "                        cluster_metas_to_binarize = list(filter(lambda m: m.state == ClusterState.LEARN and m.signals_to_learn_till_binarization <= 0, CLUSTER_METAS.values()))\n",
    "                        cluster_inds_to_binarize = list(map(lambda m: m.cluster_ind, cluster_metas_to_binarize))\n",
    "                        new_cluster_states = Counter()\n",
    "                        death_reasons = Counter()\n",
    "\n",
    "                        if cluster_inds_to_binarize:\n",
    "                            binarized_clusters = xp.where(gpu_clusters[cluster_inds_to_binarize] > HP_CLUSTER_BINARIZE_THRES, 1, 0)\n",
    "                            gpu_clusters[cluster_inds_to_binarize] = binarized_clusters\n",
    "                            gpu_cluster_masks[cluster_inds_to_binarize] = binarized_clusters\n",
    "                            binarized_clusters_ones_counts = xp_array_from_gpu(binarized_clusters.sum(axis=1))\n",
    "                            binarized_clusters = xp_array_from_gpu(binarized_clusters)\n",
    "                        \n",
    "                            for cluster_meta, cluster, ones_count in zip(cluster_metas_to_binarize, binarized_clusters, binarized_clusters_ones_counts):\n",
    "                                cluster_ind = cluster_meta.cluster_ind\n",
    "                                cluster_meta.binarization_schedule = cluster_meta.binarization_schedule[1:]\n",
    "                                cluster_meta.signals_to_learn_till_binarization = cluster_meta.binarization_schedule[0] if cluster_meta.binarization_schedule else 0\n",
    "                                cluster_meta.ones_count = int(ones_count)\n",
    "                                assert cluster_meta.ones_count > 0\n",
    "                    \n",
    "                                if cluster_meta.ones_count >= HP_CLUSTER_ONES_COUNT_THRES:\n",
    "                                    old_cluster_key = cluster_meta.cluster_key\n",
    "                                    cluster_meta.input_bits = tuple(np.flatnonzero(cluster))\n",
    "                                    new_cluster_key = get_cluster_key(ClusterState.LEARN.name, cluster_meta.output_bit, cluster_meta.input_bits)\n",
    "    \n",
    "                                    if old_cluster_key != new_cluster_key:\n",
    "                                        if new_cluster_key in unique_cluster_keys:\n",
    "                                            cluster_meta.state = ClusterState.DEAD\n",
    "                                            cluster_meta.alarm_cycle = None\n",
    "                                            death_reasons['DUPLICATE'] += 1\n",
    "                                        else:\n",
    "                                            cluster_meta.cluster_key = new_cluster_key\n",
    "                                            unique_cluster_keys.remove(old_cluster_key)\n",
    "                                            unique_cluster_keys.add(new_cluster_key)\n",
    "                                else:\n",
    "                                    cluster_meta.state = ClusterState.DEAD\n",
    "                                    cluster_meta.alarm_cycle = None\n",
    "                                    death_reasons['SHORT'] += 1\n",
    "                                    \n",
    "                                new_cluster_states[cluster_meta.state.name] += 1\n",
    "                    \n",
    "                        LOG(f'Binarized {len(cluster_metas_to_binarize)} clusters: {new_cluster_states}; death reasons: {death_reasons}')\n",
    "                        \n",
    "                        ### Promote LEARN clusters to PREPROD/DEAD if they've learned enough (binarization schedule is exhausted)\n",
    "                        learn_cluster_metas_to_promote = filter(lambda m: m.state == ClusterState.LEARN and not m.binarization_schedule, CLUSTER_METAS.values())\n",
    "                        new_cluster_states = Counter()\n",
    "                        death_reasons = Counter()\n",
    "                        \n",
    "                        for cluster_meta in learn_cluster_metas_to_promote:\n",
    "                            cluster_ind = cluster_meta.cluster_ind\n",
    "                            assert cluster_meta.ones_count >= HP_CLUSTER_ONES_COUNT_THRES\n",
    "                \n",
    "                            old_cluster_key = cluster_meta.cluster_key\n",
    "                            new_cluster_key = get_cluster_key(ClusterState.PROD.name, cluster_meta.output_bit, cluster_meta.input_bits)\n",
    "\n",
    "                            if new_cluster_key in unique_cluster_keys:\n",
    "                                cluster_meta.state = ClusterState.DEAD\n",
    "                                cluster_meta.alarm_cycle = None\n",
    "                                death_reasons['DUPLICATE'] += 1\n",
    "                            else:\n",
    "                                cluster_meta.cluster_key = new_cluster_key\n",
    "                                cluster_meta.state = ClusterState.PREPROD\n",
    "                                cluster_meta.alarm_cycle = cycle + HP_CLUSTER_PREPROD_STATE_IDLE_CYCLES\n",
    "                                unique_cluster_keys.remove(old_cluster_key)\n",
    "                                unique_cluster_keys.add(new_cluster_key)\n",
    "                                \n",
    "                            new_cluster_states[cluster_meta.state.name] += 1\n",
    "\n",
    "                        LOG(f'Promoted {new_cluster_states.total()} LEARN clusters: {new_cluster_states}; death reasons: {death_reasons}')\n",
    "\n",
    "                        ### Promote PREPROD clusters to PROD/DEAD if they've been verified enough\n",
    "                        preprod_cluster_metas_to_promote = filter(lambda c: (c.state == ClusterState.PREPROD) and (c.stats.total() >= HP_CLUSTER_PREPROD_STATE_SIGNALS_PROCESSED_THRES), CLUSTER_METAS.values())\n",
    "                        new_cluster_states = Counter()\n",
    "                        death_reasons = Counter()\n",
    "                        \n",
    "                        for cluster_meta in preprod_cluster_metas_to_promote:\n",
    "                            accuracy = cluster_meta.stats[True] / cluster_meta.stats.total()\n",
    "\n",
    "                            if accuracy >= HP_CLUSTER_ACCURACY_THRES:\n",
    "                                assert cluster_meta.ones_count >= HP_CLUSTER_ONES_COUNT_THRES\n",
    "                                cluster_meta.state = ClusterState.PROD\n",
    "                                cluster_meta.alarm_cycle = None\n",
    "                            else:\n",
    "                                cluster_meta.state = ClusterState.DEAD\n",
    "                                cluster_meta.alarm_cycle = None\n",
    "                                death_reasons['INACCURATE'] += 1\n",
    "                                \n",
    "                            new_cluster_states[cluster_meta.state.name] += 1\n",
    "                    \n",
    "                        LOG(f'Promoted {new_cluster_states.total()} PREPROD clusters: {new_cluster_states}; death reasons: {death_reasons}')\n",
    "                    \n",
    "                        ### Verify PREPROD clusters against new signals\n",
    "                        preprod_cluster_metas = list(filter(lambda m: m.state == ClusterState.PREPROD, CLUSTER_METAS.values()))\n",
    "                        preprod_cluster_inds = np.array(list(map(lambda m: m.cluster_ind, preprod_cluster_metas)), dtype='i')\n",
    "                        preprod_cluster_ones_counts = xp.array(list(map(lambda m: m.ones_count, preprod_cluster_metas)), dtype='f')\n",
    "                        preprod_cluster_output_bits = np.array(list(map(lambda m: m.output_bit, preprod_cluster_metas)), dtype='i')\n",
    "                        preprod_clusters = gpu_clusters[preprod_cluster_inds]\n",
    "                        verified_cluster_inds = set()\n",
    "                        \n",
    "                        for signal_input, signal_output, signal_image_id in zip(signals_input, signals_output, cycle_image_ids):\n",
    "                            activated_clusters_mask = xp_array_from_gpu((preprod_clusters @ signal_input) >= preprod_cluster_ones_counts)\n",
    "                            # cast array of output_bit numbers [0, 3, 4, 7, 7, 0, 3, 32, ..] to TP array [True, False, False, True, True, True, False, False, ...]\n",
    "                            # where True if output_bit of preprod_cluster is enabled in signal_output and False otherwise\n",
    "                            preprod_cluster_output_bits_tf = signal_output[preprod_cluster_output_bits] != 0\n",
    "                            \n",
    "                            for cluster_ind, tf in zip(preprod_cluster_inds[activated_clusters_mask], preprod_cluster_output_bits_tf[activated_clusters_mask]):\n",
    "                                tf = bool(tf) # not mandatory, but eases further inspections by eyes\n",
    "                                signal_image_id = int(signal_image_id)\n",
    "                                cluster_meta = CLUSTER_METAS[cluster_ind]\n",
    "                    \n",
    "                                if not signal_image_id in cluster_meta.verify_image_ids:\n",
    "                                    cluster_meta.stats[tf] += 1\n",
    "                                    cluster_meta.verify_image_ids[signal_image_id] = tf\n",
    "                                    cluster_meta.alarm_cycle = cycle + HP_CLUSTER_PREPROD_STATE_IDLE_CYCLES\n",
    "                                    verified_cluster_inds.add(cluster_ind)\n",
    "                    \n",
    "                        LOG(f'Verified {len(verified_cluster_inds)} clusters')\n",
    "\n",
    "                        ### Download back clusters and masks back from GPU so they can be modified on CPU side during weeding\n",
    "                        CLUSTERS.array_active[:] = xp_array_from_gpu(gpu_clusters)\n",
    "                        CLUSTER_MASKS.array_active[:] = xp_array_from_gpu(gpu_cluster_masks)\n",
    "                        LOG('GPU download complete')\n",
    "\n",
    "                        ### Weed the garden\n",
    "                        unneeded_cluster_metas = []\n",
    "                        remove_reasons = Counter()\n",
    "\n",
    "                        for m in CLUSTER_METAS.values():\n",
    "                            reason = ''\n",
    "                            \n",
    "                            if m.state == ClusterState.DEAD:\n",
    "                                reason = 'DEAD'\n",
    "                            elif m.alarm_cycle is not None and m.alarm_cycle < cycle:\n",
    "                                reason = 'TIMEDOUT'\n",
    "\n",
    "                            if reason != '':\n",
    "                                remove_reasons[reason] += 1\n",
    "                                unneeded_cluster_metas.append(m)\n",
    "                                \n",
    "                        for cluster_meta in unneeded_cluster_metas:\n",
    "                            cluster_ind = cluster_meta.cluster_ind\n",
    "                            unique_cluster_keys.remove(cluster_meta.cluster_key)\n",
    "                            del CLUSTER_METAS[cluster_ind]\n",
    "                            CLUSTERS.release(cluster_ind)\n",
    "                            CLUSTER_MASKS.release(cluster_ind)\n",
    "                    \n",
    "                        LOG(f'Removed {len(unneeded_cluster_metas)} loser clusters; remove reasons: {remove_reasons}')\n",
    "\n",
    "                ## Persist mined prod clusters for output bits (OBITS)\n",
    "                output_bit_to_prod_cluster_metas = defaultdict(list)\n",
    "                gpu_clusters = xp_array_to_gpu(CLUSTERS.array_active)\n",
    "                persisted_count = 0\n",
    "                \n",
    "                for meta in filter(lambda m: m.state == ClusterState.PROD, CLUSTER_METAS.values()):\n",
    "                    output_bit_to_prod_cluster_metas[meta.output_bit].append(meta)\n",
    "\n",
    "                for output_bit, metas in output_bit_to_prod_cluster_metas.items():\n",
    "                    cluster_inds = list(map(lambda m: m.cluster_ind, metas))\n",
    "                    # Leave only super clusters, i.e. clusters which are not subsets of any other clusters\n",
    "                    clusters = gpu_clusters[cluster_inds]\n",
    "                    cluster_ones_counts = clusters.sum(axis=1)\n",
    "                    crossings = (clusters @ clusters.T)\n",
    "                    crossings[xp.diag_indices_from(crossings)] = 0\n",
    "                    super_clusters_mask = ~xp.any((crossings.T >= cluster_ones_counts).T, axis=1)\n",
    "\n",
    "                    clusters = xp_array_from_gpu(clusters[super_clusters_mask])\n",
    "                    super_clusters_mask = xp_array_from_gpu(super_clusters_mask)\n",
    "                    \n",
    "                    pickled_clusters = pickle.dumps(clusters)\n",
    "                    pickled_metas = pickle.dumps(list(map(lambda x: x[1], filter(lambda x: x[0], zip(super_clusters_mask, metas)))))\n",
    "                    # Changing autocommit to False will open a new transaction, and changing it to True will commit any pending transaction.\n",
    "                    # https://docs.python.org/3/library/sqlite3.html#connection-objects\n",
    "                    transfs_db_con.autocommit = False\n",
    "                    transfs_db_con.execute('DELETE FROM clusters WHERE encoding=:encoding AND transf_code=:transf_code AND output_bit=:output_bit',\n",
    "                                           {'encoding': HP_SIGNAL_ENCODING, 'transf_code': TRANSF_CODE, 'output_bit': output_bit})\n",
    "                    transfs_db_con.execute('INSERT INTO clusters (encoding, transf_code, output_bit, sbv, meta) VALUES (:encoding, :transf_code, :output_bit, :sbv, :meta)',\n",
    "                                           {'encoding': HP_SIGNAL_ENCODING, 'transf_code': TRANSF_CODE, 'output_bit': output_bit, 'sbv': pickled_clusters, 'meta': pickled_metas})\n",
    "                    transfs_db_con.autocommit = True\n",
    "                    persisted_count += clusters.shape[0]\n",
    "                    LOG(f'Persisted {clusters.shape[0]} (of {len(cluster_inds)}) super clusters for output bit {output_bit}')\n",
    "\n",
    "                LOG(f'Persisted {persisted_count} clusters in total for encoding=\"{HP_SIGNAL_ENCODING}\" and transf_code=\"{TRANSF_CODE}\"')"
   ]
  },
  {
   "cell_type": "code",
   "execution_count": 48,
   "id": "cf723882-55c0-49d9-acb7-e50274d2201b",
   "metadata": {},
   "outputs": [
    {
     "data": {
      "image/png": "[encoded data removed]",
      "text/plain": [
       "<Figure size 1200x480 with 2 Axes>"
      ]
     },
     "metadata": {},
     "output_type": "display_data"
    }
   ],
   "source": [
    "signal_ind = RNG.choice(signals_input.shape[0])\n",
    "# signal_ind = 0\n",
    "signal_input = xp_array_from_gpu(signals_input[signal_ind])\n",
    "signal_output = signals_output[signal_ind]\n",
    "\n",
    "if HP_SYSTEM_MODE == SystemMode.TOY_IMAGE:\n",
    "    bv_input = decode_toy_image_sbv(signal_input)\n",
    "    bv_output = decode_toy_image_sbv(signal_output)\n",
    "else:\n",
    "    xy_list_input = decode_xy_list_sbv(signal_input)\n",
    "    xy_list_output = decode_xy_list_sbv(signal_output)\n",
    "    bv_input = xy_list_to_bv(xy_list_input)\n",
    "    bv_output = xy_list_to_bv(xy_list_output)\n",
    "    \n",
    "fig, (ax1, ax2) = plt.subplots(1, 2)\n",
    "fig.set_figwidth(12)\n",
    "ax1.imshow(vec_to_square_matrix(bv_input))\n",
    "ax2.imshow(vec_to_square_matrix(bv_output));"
   ]
  },
  {
   "cell_type": "markdown",
   "id": "c4e073c2-0c90-4248-a9fc-57f4f063892f",
   "metadata": {},
   "source": [
    "# Test"
   ]
  },
  {
   "cell_type": "code",
   "execution_count": 106,
   "id": "5175b5c1-2cf3-4a31-b471-269694674987",
   "metadata": {},
   "outputs": [
    {
     "data": {
      "application/vnd.jupyter.widget-view+json": {
       "model_id": "2dcb877c2a4e46a6a4641144c21aacdd",
       "version_major": 2,
       "version_minor": 0
      },
      "text/plain": [
       "  0%|          | 0/186 [00:00<?, ?it/s]"
      ]
     },
     "metadata": {},
     "output_type": "display_data"
    },
    {
     "data": {
      "text/plain": [
       "(47333, 256)"
      ]
     },
     "execution_count": 106,
     "metadata": {},
     "output_type": "execute_result"
    }
   ],
   "source": [
    "clear_memory()\n",
    "\n",
    "df_clusters = pd.read_sql('SELECT output_bit, sbv, meta FROM clusters WHERE encoding=:encoding AND transf_code=:transf_code', \n",
    "                          params={\n",
    "                              'encoding': HP_SIGNAL_ENCODING, \n",
    "                              'transf_code': TRANSF_CODE},\n",
    "                          con=transfs_db_con)\n",
    "                \n",
    "for cluster_row in tqdm(df_clusters.itertuples(), total=len(df_clusters)):\n",
    "    clusters_for_output_bit = pickle.loads(cluster_row.sbv)\n",
    "    cluster_metas_for_output_bit = pickle.loads(cluster_row.meta)\n",
    "\n",
    "    for cluster, meta in zip(clusters_for_output_bit, cluster_metas_for_output_bit):\n",
    "        cluster_ind = CLUSTERS.lease()\n",
    "        assert CLUSTER_MASKS.lease() == cluster_ind\n",
    "        meta.cluster_ind = cluster_ind\n",
    "        CLUSTERS.array_active[cluster_ind] = cluster\n",
    "        CLUSTER_MASKS.array_active[cluster_ind] = cluster\n",
    "        CLUSTER_METAS[cluster_ind] = meta\n",
    "\n",
    "cluster_metas = list(filter(lambda m: m.state == ClusterState.PROD, CLUSTER_METAS.values()))\n",
    "cluster_inds = list(map(lambda m: m.cluster_ind, cluster_metas))\n",
    "cluster_ones_counts = np.array(list(map(lambda m: m.ones_count, cluster_metas)), dtype='f')\n",
    "cluster_output_bits = np.array(list(map(lambda m: m.output_bit, cluster_metas)), dtype='i')\n",
    "cluster_input_bits_list = list(map(lambda m: m.input_bits, cluster_metas))\n",
    "clusters = CLUSTERS.array[cluster_inds]\n",
    "assert clusters.shape[0] == len(CLUSTER_METAS)\n",
    "clusters.shape"
   ]
  },
  {
   "cell_type": "code",
   "execution_count": 107,
   "id": "cbf93336-9a8f-4d35-adf7-384779124e8a",
   "metadata": {},
   "outputs": [
    {
     "data": {
      "application/vnd.jupyter.widget-view+json": {
       "model_id": "c4d9afecfa004fc7995599520663f5f1",
       "version_major": 2,
       "version_minor": 0
      },
      "text/plain": [
       "  0%|          | 0/100 [00:00<?, ?it/s]"
      ]
     },
     "metadata": {},
     "output_type": "display_data"
    },
    {
     "data": {
      "image/png": "[encoded data removed]",
      "text/plain": [
       "<Figure size 1600x480 with 2 Axes>"
      ]
     },
     "metadata": {},
     "output_type": "display_data"
    }
   ],
   "source": [
    "thres = 0\n",
    "toy_image_ids = get_random_toy_image_ids(100)\n",
    "bv_errors_count_list = defaultdict(list)\n",
    "sbv_errors_count_list = defaultdict(list)\n",
    "\n",
    "for toy_image_id in tqdm(toy_image_ids):\n",
    "    toy_image_origin = get_toy_image(toy_image_id)\n",
    "    toy_image_transf = transform_toy_image(toy_image_origin, TRANSF)\n",
    "\n",
    "    toy_image_origin_sbv = calc_toy_image_sbv(toy_image_origin)\n",
    "    toy_image_transf_sbv = calc_toy_image_sbv(toy_image_transf)\n",
    "    \n",
    "    activated_clusters_mask = (clusters @ toy_image_origin_sbv) >= cluster_ones_counts\n",
    "    \n",
    "    toy_image_infer_sbv = np.zeros_like(toy_image_origin_sbv)\n",
    "\n",
    "    # Approach 1: judge if output_bit is ON/OFF based on number of activated clusters\n",
    "    output_bit_to_activated_clusters_count = Counter(cluster_output_bits[activated_clusters_mask])\n",
    "    toy_image_infer_sbv[list(output_bit_to_activated_clusters_count.keys())] = list(output_bit_to_activated_clusters_count.values())\n",
    "    toy_image_infer_sbv = np.where(toy_image_infer_sbv > thres, 1, 0)\n",
    "\n",
    "    # Approach 2: judge if output_bit is ON/OFF based on number of unique bits touched by clusters within input signal\n",
    "    # output_bit_to_unique_input_bits = defaultdict(set)\n",
    "\n",
    "    # for mask_value, output_bit, input_bits in zip(activated_clusters_mask, cluster_output_bits, cluster_input_bits_list):\n",
    "    #     if not mask_value:\n",
    "    #         continue\n",
    "\n",
    "    #     output_bit_to_unique_input_bits[output_bit].update(input_bits)\n",
    "    # toy_image_infer_sbv[list(output_bit_to_unique_input_bits.keys())] = list(map(len, output_bit_to_unique_input_bits.values()))\n",
    "    # toy_image_infer_sbv = np.where(toy_image_infer_sbv > thres, 1, 0)\n",
    "    \n",
    "    sbv_false_positives_count = (toy_image_transf_sbv[toy_image_infer_sbv == 1] == 0).sum()\n",
    "    sbv_false_negatives_count = (toy_image_transf_sbv[toy_image_infer_sbv == 0] == 1).sum()\n",
    "    assert np.count_nonzero(toy_image_transf_sbv != toy_image_infer_sbv) == (sbv_false_positives_count + sbv_false_negatives_count)\n",
    "    sbv_errors_count_list['FP'].append(sbv_false_positives_count)\n",
    "    sbv_errors_count_list['FN'].append(sbv_false_negatives_count)\n",
    "    \n",
    "    toy_image_infer_bv = toy_image_sbv_to_bv(toy_image_infer_sbv)\n",
    "    toy_image_transf_bv = toy_image_sbv_to_bv(toy_image_transf_sbv)\n",
    "    bv_false_positives_count = (toy_image_transf_bv[toy_image_infer_bv == 1] == 0).sum()\n",
    "    bv_false_negatives_count = (toy_image_transf_bv[toy_image_infer_bv == 0] == 1).sum()\n",
    "    assert np.count_nonzero(toy_image_transf_bv != toy_image_infer_bv) == (bv_false_positives_count + bv_false_negatives_count)\n",
    "    bv_errors_count_list['FP'].append(bv_false_positives_count)\n",
    "    bv_errors_count_list['FN'].append(bv_false_negatives_count)\n",
    "\n",
    "fig, (ax1, ax2) = plt.subplots(2, 1)\n",
    "fig.set_figwidth(16)\n",
    "fig.tight_layout() \n",
    "errors_count = sum(itertools.chain.from_iterable(bv_errors_count_list.values()))\n",
    "ax1.set_title(f'BV Errors count={errors_count}, avg.={errors_count / len(toy_image_ids):.2f}; thres={thres}, clusters count={clusters.shape[0]}')\n",
    "\n",
    "for error_kind, errors_count in bv_errors_count_list.items():\n",
    "    ax1.bar(list(map(str, range(len(toy_image_ids)))), errors_count, label=error_kind)\n",
    "\n",
    "ax1.legend()\n",
    "\n",
    "errors_count = sum(itertools.chain.from_iterable(sbv_errors_count_list.values()))\n",
    "ax2.set_title(f'SBV Errors count={errors_count}, avg.={errors_count / len(toy_image_ids):.2f}; thres={thres}, clusters count={clusters.shape[0]}')\n",
    "\n",
    "for error_kind, errors_count in sbv_errors_count_list.items():\n",
    "    ax2.bar(list(map(str, range(len(toy_image_ids)))), errors_count, label=error_kind)\n",
    "\n",
    "ax2.legend();"
   ]
  },
  {
   "cell_type": "code",
   "execution_count": null,
   "id": "47f59aa5-155f-42d1-89f4-952ba29d1e2a",
   "metadata": {},
   "outputs": [],
   "source": []
  },
  {
   "cell_type": "code",
   "execution_count": null,
   "id": "bcc9f312-6621-4f77-ad5d-e0e5050dc036",
   "metadata": {},
   "outputs": [],
   "source": []
  },
  {
   "cell_type": "code",
   "execution_count": null,
   "id": "cf7b155d-cd7f-4649-91dc-f932bcb0e553",
   "metadata": {},
   "outputs": [],
   "source": []
  },
  {
   "cell_type": "code",
   "execution_count": null,
   "id": "f901126b-b8c1-457c-aced-0923b43927f8",
   "metadata": {},
   "outputs": [],
   "source": []
  },
  {
   "cell_type": "code",
   "execution_count": 116,
   "id": "f5f56508-9e19-4911-b739-a04452cf59d4",
   "metadata": {},
   "outputs": [
    {
     "data": {
      "image/png": "[encoded data removed]",
      "text/plain": [
       "<Figure size 1200x480 with 3 Axes>"
      ]
     },
     "metadata": {},
     "output_type": "display_data"
    }
   ],
   "source": [
    "toy_image_id = get_random_toy_image_ids(1)[0]\n",
    "toy_image = get_toy_image(toy_image_id)\n",
    "toy_image_sbv = calc_toy_image_sbv(toy_image)\n",
    "\n",
    "toy_image_transf = transform_toy_image(toy_image, TRANSF)\n",
    "toy_image_transf_sbv = encode_toy_image_sbv(toy_image_transf)\n",
    "\n",
    "activated_clusters_mask = (clusters @ toy_image_sbv) >= cluster_ones_counts\n",
    "values = Counter(cluster_output_bits[activated_clusters_mask])\n",
    "toy_image_sbv_out = np.zeros_like(toy_image_sbv)\n",
    "# toy_image_sbv_out[list(values.keys())] = list(values.values())\n",
    "# toy_image_sbv_out = np.where(toy_image_sbv_out > 1, 1, 0)\n",
    "toy_image_sbv_out[list(values.keys())] = 1\n",
    "\n",
    "fig, (ax1, ax2, ax3) = plt.subplots(1, 3)\n",
    "fig.set_figwidth(12)\n",
    "ax1.set_title('Origin')\n",
    "ax1.imshow(vec_to_square_matrix(decode_toy_image_sbv(toy_image_sbv)))\n",
    "ax2.set_title('Transf')\n",
    "ax2.imshow(vec_to_square_matrix(decode_toy_image_sbv(toy_image_transf_sbv)))\n",
    "ax3.set_title('Infer')\n",
    "ax3.imshow(vec_to_square_matrix(decode_toy_image_sbv(toy_image_sbv_out)));"
   ]
  },
  {
   "cell_type": "code",
   "execution_count": 110,
   "id": "bd3d6124-ae28-47e5-9877-7bf2eb87d8c3",
   "metadata": {},
   "outputs": [
    {
     "data": {
      "image/png": "[encoded data removed]",
      "text/plain": [
       "<Figure size 1600x480 with 2 Axes>"
      ]
     },
     "metadata": {},
     "output_type": "display_data"
    }
   ],
   "source": [
    "fig, (ax1, ax2) = plt.subplots(2, 1)\n",
    "fig.set_figwidth(16)\n",
    "\n",
    "toy_image_transf = transform_toy_image(toy_image, TRANSF)\n",
    "toy_image_transf_sbv = encode_toy_image_sbv(toy_image_transf)\n",
    "\n",
    "ax1.set_title(f'non_zero_bits={toy_image_transf_sbv.sum()}')\n",
    "ax1.imshow(np.ones((30, 1)) * toy_image_transf_sbv);\n",
    "ax2.set_title(f'non_zero_bits={toy_image_sbv_out.sum()}')\n",
    "ax2.imshow(np.ones((30, 1)) * toy_image_sbv_out);"
   ]
  }
 ],
 "metadata": {
  "kernelspec": {
   "display_name": "Python 3 (ipykernel)",
   "language": "python",
   "name": "python3"
  },
  "language_info": {
   "codemirror_mode": {
    "name": "ipython",
    "version": 3
   },
   "file_extension": ".py",
   "mimetype": "text/x-python",
   "name": "python",
   "nbconvert_exporter": "python",
   "pygments_lexer": "ipython3",
   "version": "3.12.2"
  }
 },
 "nbformat": 4,
 "nbformat_minor": 5
}
