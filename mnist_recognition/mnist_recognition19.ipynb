{
 "cells": [
  {
   "cell_type": "code",
   "execution_count": 1,
   "id": "27532844-1826-4299-b063-16a22e592f3f",
   "metadata": {},
   "outputs": [],
   "source": [
    "import os, math\n",
    "from collections import defaultdict, namedtuple\n",
    "import itertools\n",
    "import sqlite3\n",
    "import logging\n",
    "import logging.handlers\n",
    "import pickle\n",
    "import datetime\n",
    "\n",
    "from PIL import Image, ImageDraw\n",
    "from tqdm.notebook import tqdm\n",
    "\n",
    "from sklearn.model_selection import train_test_split\n",
    "import matplotlib.pyplot as plt\n",
    "import scipy\n",
    "import numpy as np\n",
    "import cupy as cp\n",
    "import pandas as pd\n",
    "\n",
    "from utils import *\n",
    "from hdc import *"
   ]
  },
  {
   "cell_type": "code",
   "execution_count": 2,
   "id": "73358262-adf2-4d17-a383-f120a5d1f8aa",
   "metadata": {},
   "outputs": [
    {
     "name": "stdout",
     "output_type": "stream",
     "text": [
      "xp = cupy\n"
     ]
    }
   ],
   "source": [
    "log = logging.getLogger('kmslog')\n",
    "log.setLevel(logging.DEBUG)\n",
    "\n",
    "if not log.hasHandlers():\n",
    "    log.addHandler(logging.handlers.SysLogHandler(address = '/dev/log', facility=logging.handlers.SysLogHandler.LOG_LOCAL0))\n",
    "\n",
    "config_var = 'SQLITE3_10_GRID_RETINA'\n",
    "config = Config(config_var)\n",
    "RNG = np.random.default_rng()\n",
    "\n",
    "if cp.cuda.is_available():\n",
    "    xp = cp.get_array_module(cp.empty(1))\n",
    "    xp_array_from_gpu = lambda a: a.get() if isinstance(a, cp.ndarray) else a\n",
    "    xp_array_to_gpu = lambda a: cp.asarray(a) if isinstance(a, np.ndarray) else a\n",
    "else:\n",
    "    xp = cp.get_array_module(np.empty(1))\n",
    "    xp_array_from_gpu = lambda a: a\n",
    "    xp_array_to_gpu = lambda a: a\n",
    "    \n",
    "print(f'xp = {xp.__name__}')\n",
    "\n",
    "train_db_con = sqlite3.connect(os.path.join(config.dataset_path, config.train_db_file_name))\n",
    "test_db_con = sqlite3.connect(os.path.join(config.dataset_path, config.test_db_file_name))"
   ]
  },
  {
   "cell_type": "code",
   "execution_count": 3,
   "id": "d2dd62ab-b44e-4251-9e86-d41b3672e36e",
   "metadata": {},
   "outputs": [
    {
     "name": "stdout",
     "output_type": "stream",
     "text": [
      "CPU times: user 4 μs, sys: 0 ns, total: 4 μs\n",
      "Wall time: 8.11 μs\n"
     ]
    },
    {
     "data": {
      "text/plain": [
       "((10000, 3), (2000, 3))"
      ]
     },
     "execution_count": 3,
     "metadata": {},
     "output_type": "execute_result"
    }
   ],
   "source": [
    "%time\n",
    "df_train_images = pd.read_sql_query('SELECT * FROM images', con=train_db_con, index_col='image_id')\n",
    "df_test_images = pd.read_sql_query('SELECT * FROM images', con=test_db_con, index_col='image_id')\n",
    "df_train_images.shape, df_test_images.shape"
   ]
  },
  {
   "cell_type": "code",
   "execution_count": 4,
   "id": "70b21219-4f16-4824-90ec-7bda1574c5d1",
   "metadata": {},
   "outputs": [
    {
     "data": {
      "text/html": [
       "<div style=\"\n",
       "        display: grid; \n",
       "        grid-template-columns: repeat(8, 128px);\n",
       "        column-gap: 1px;\n",
       "        row-gap: 1px;\">\n",
       "        \n",
       "            <figure style=\"margin: 5px !important;\">\n",
       "              <img src=\"data:image/png;base64,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\" style=\"height: auto\">\n",
       "              <figcaption style=\"font-size: 0.6em\">3</figcaption>\n",
       "            </figure>\n",
       "        \n",
       "            <figure style=\"margin: 5px !important;\">\n",
       "              <img src=\"data:image/png;base64,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\" style=\"height: auto\">\n",
       "              <figcaption style=\"font-size: 0.6em\">1</figcaption>\n",
       "            </figure>\n",
       "        \n",
       "            <figure style=\"margin: 5px !important;\">\n",
       "              <img src=\"data:image/png;base64,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\" style=\"height: auto\">\n",
       "              <figcaption style=\"font-size: 0.6em\">8</figcaption>\n",
       "            </figure>\n",
       "        \n",
       "            <figure style=\"margin: 5px !important;\">\n",
       "              <img src=\"data:image/png;base64,iVBORw0KGgoAAAANSUhEUgAAAIAAAACACAAAAADmVT4XAAAJYElEQVR4nO2a13IbS5KGM8u0BxqWBiQlzexs7Pu/0eroSKIH0LZ8zgVIiqQ0A4BDnY3YwM/ABRrVXV+ZTlcEOOiggw466KCDDjrooIMO+j8W7t+c3hWA7dke9yR+dwDO3xlA7Nc8ksD0uwLsNaMsyyIwXRf+OgBEZExIKRgQUPIAoF7cT4BE3hrj37I9tywBch7FxXCQRxgCxGkWgel6Ta/Iyfbr5ap9Q//bAeJ0MDs9mWTMO4jSRIJVvSF6fBsQgACCXn7/Q/dvWZptACLKyuNPf1sMmbMUxbEAp/VrAPTdTWqa/i1TsHUGZFqMjy8+lsxZkjIS4IxxPwG0uasbJ7UPAWivrbAVIEqKcnp0UqK3QQjBwFm7AUAAJAQiwJChVji4qzulrXX7LMUWAMajNBuU46kEgMAAAISQfgOACABEBBgEkCgXNzd3y6rpwjsCIBdRkqSpBHiymhwYASAgQwAiIkDiTBbH95ff/vx+I8i69wMAYIjgrX9ugRkjAEBAAEACQgAhsrFeTweR4GDVPrZyCwAFZ/rq7ipKGeOIyJAx/uQ/AgE+fGEQ5yn3jljQXb+HSdoCEGy3FhK7yzRKkkhKGUVJ+miDyHoUz7xZOjzyMgFV1dq/G4DGYLq7P8ZZPhwUWZZleSnihx9tbzHGZ09IRljkvrpduncD8Mbr5v5rmublZDoaDgdl6ZncjNo3lWYZFE9GmUQRj9L26uut8WHXuGXbHnBOAwDKfDRbTkZlWbc2+GEMEHS9XCsxIEwZPvQmRArsZj4pNe3smXaLB8gYF5xq1oNhubwbFxEA6XZVq3jc9sM4khwf3VM+mp+sgTe7OoadAxJVkarSLMsHgyIVAOT6pjPp/KyaDYdF+rQXRT67MIKDse8M4FXopZQyiuNIMgAKVhtbLGrVHYOMn+xEiCdnDmxX7fjcnQHI2B4RGSJjCABAFEIoLY95nA8JAIAQAIIopn17f7VrsLk7wC/fLN4p43x4vuGQCyk52zXW2zcqfnV3mud5nkbPDDUG23e9drvawj2j4pfKiqOj4/l0lMln47XN8va+1rt6xP8AQOTl+PRscTIf59EPgKDXt1c3q35XW/h2AJ6PZvPF6fFsXKTiB4Dtq7vb++YvmAGWlPPF2cm0zBP5sOWIyKtmvVquO/sXAKSTxafF6WyYRQ8OGkNwpl6v7pfrzv7+TSiL2fmn09lokIpNhAJA3rbV6v5+uTa/fwZEMTo6Oz8pszjCxxA5ON1W6/V63YSdQ+M3ASBjUXF0fHJ8NM2jHwESkFNtXddNt6MfeDMAxEU5W/zX+bzMkhfpujd92/ba7PGot81AenR+cfbhwzSPHoa/WQPmddf2eo946I0A0fDkH/99cTwbvRw/eNPVTbe7GX4jAMrhdPHpH+eTIo4YPtSMEACgb1bLVa1+L4CIkmJ6cXF2cjSI+VOCSCF4Z++uLy+vlu3ONuBNAHwwOzr9+PfTSfE4/wgA6HXftVdfPn/5fl3tswf3B4jHH/728ezsuIheeHLfr5Z33z5//vNm3fxWAFHMPvzP308mw4wDAD0WSpyqb68u//zfP74tldsnNdwDAAEZE8Xs9PzDh1kRi6cXgAJ5tb67+vrtz2+X1/WehaLdAbiQcZqPFp/Oj6fl8/fPG9VXd9+//PHt+vJ611j0LQBJPhrP5qcfLqb58xiMXLe6v7n68vnL5XpV79v/7gA8GYyPFmdnx0fzl/aHXHf//evXz5+/3Kp9TOCeAJgPp/Ozjx8vZqMikxvz8+gDTbe6u729/z1lOmSbv2Q0nR8vzs9PJ3ksX4bSyBiXcTYYcWSICAgEgSgECvS6oPjjuUTee78dQEophZSymB2fHM2Pj8dFIl49ksWDqZfZ5KxjjDFEBPLOWmuMteGhkPK6e87A9U2raGuRSqZZmiRZNjpZnM6LYZlH/Ec6vvmIdMIHx03TGoYMERl4q3vVdW2rHSGDx2OGxxsRmRSgltdebwXgcTEcDPLBcLY4P51EUgoOBPg8+UeRiXzmrHWb4TIGznRNU1frqjPEfsqREJBHgtpY17i9TBcX40k5LEfzxdlJ+TDqV7UHFsn82VozBK/buq5Wq1X7KwAAYIL7qksEbAXg6fhkPinLcjqfDjf4r0U/H6LwLEnSLCuGvf0JgAAoEHmlNvnjFgBRzC8W09FgMBwW/yLd/OVlljGZDMbGA0cEIgBEQAIiQghO9a2lEGgHgHyy+DAbFVkSR/+qDf0Kgcc8LpwnZIibaioDACIKAF5XK+W0dmE7AIvzcjIdZ6n8N6dVvyZgkgAe0m8iQEQiCiFAcFyB6dpO++0AFIJ3gZAhENDT9iMiAgIAZGxTsN30RGHTDBEREQiIwsP+DACBfPA+ONuuVsvlut0FwHf3l3FwxiWCcwQKAQCQvHMueCImkpQDAD685OT9pkfBGXjvnPPeE3KG4L133ntnrFZNdX99c7fsLG0FcOvLSFf10WSYJTHD4F1AxGCV0tZ64mkpIwCAABwAIFjrQiBgUnIyqlNaaxu4lJysNto5a1Xftk3f1FVTNzsA2OqbrVZ1205HgyDRaeuRoddt2xrtghiEJAMAp0lIDk712jpPxOOIh66u667ttRdxLIPuVG+s1X1d1Y1zxlhr3PYlcC2ZXlmrldI6RqO0R4ZeNXWjlQ2yxDQpQDc9yUig7bveWOeJxzH37XpVNU2rvEhSGVTbdcYa3VXrqn0y49trxQaICIOq1+NhDLpXDzPQtEa5IEYe3IDauiMZS3SqV9oYG1gccd9VVd22nfYiTmTQXd8bZ3XfVC+q+VtLtUBEoV+W41ERkeqUBwbBql4544mXbbcqfFO1IYojHoxRRvXKMSFZ0F3bK6VsYFHEySptnHfW9C9PE7YBgCPyprpOh8NcBNUqh4DkrbPBB2LDqrpOXb1uQxQnHIKzum9bjYwjOWONc9YT45yRd96FELx/lTlvBSAKtmdc5nkqnGo3URdRICIAKJrmJjFV1YYoTgQiOdPVtQJEgEDhoRk+nu0QAQV84cu2hWQEtKl1VFnMnepfxfzauyYydd0FGceCcfC2q5t9QsPdD6+5ZN78FPRnw1y4rlUkZMQZB7Kq+02JiQcMPycdpvXMa+0oeMeRAfm9zsz2Or5nvzoTZUJg8D4AIkMEJAq/DQBfh0Kbi5vLzzzi+/6PyUEHHXTQQQcddNBBBx100EEHHXTQ/3/9EzGGUqLSIzu1AAAAAElFTkSuQmCC\" style=\"height: auto\">\n",
       "              <figcaption style=\"font-size: 0.6em\">2</figcaption>\n",
       "            </figure>\n",
       "        \n",
       "            <figure style=\"margin: 5px !important;\">\n",
       "              <img src=\"data:image/png;base64,iVBORw0KGgoAAAANSUhEUgAAAIAAAACACAAAAADmVT4XAAAKDUlEQVR4nO2a227jSJKGI088U6ROlmWXq6pnscAA8/7vMhcLFKrLJVuyJJ6ZzPNedO9garoHTcpqDxbwf2PAoJOfkxGZkX8kwLve9a53vetd73rXu971HxYa8QwhhBJCCAJrHSCEEUIAzlrjAGGMKWMYjNbGWGuNVtpMAKAjGGkQBUEYetRpqYFQRjBGYJUUBghlfpQmvhNdy4VUkvdNf2UAYHE2S7NZ7DnBBaK+7xGCQIuuU0D9MJ6vl4lri2Pdcd7XBdLyugCI+ul8sVxmges7Dl4Y+oQgp/q6lsCCZHZzf5u7+vh8bjveFIHTergqACDC/CBOs9D5zAcWhj5GziBFmQVCKWNeECKnJEn40CUeon47KG2duxaAc8YYY4xFCBMgyCqnpRj6ppWO+l0nZDtnZjAejZ1c5vnmdD7X9TAOYQyAVYL3bUANkcpYZyWIvmt7zrl2iHlBmuWzOAh8Pwg9LG7v6/P+2yMuuYPrADgjeUsptpxapS1GoNuqKLtBaWMBEep5YZIvNzcrP8gjGAZRfkuRkNYZ9McEY2bAKE4xBtMzMNaCs6I+Hc+dtNZZCwAIkWhx11oagTfznHNNouuyN1baPx581CfQkmPkVMDAOQvWiOZclFz90yNcYj9kXpRqHwMshpfbIwdw6t+OOQ1ADc4o0TKKnHPOGdXX7fDj4H0ZYKkAYxV7AMlyWxlsFb/KJ3BWg5G8ZQQjBw6cNXIY/mW1s/1RNtw4J+a5D2y26awb2hEL/ag01EYhjDFCAA4A3C/bwI8aTFNKRKl1BDMcL3vVH71rATj4w9XdKQU9S+d5GKcxJX48myUBGTE4HvHMWOm+qYqqExYRSgnBeMxWe00AUENbV520gMAaY37zmf50AKRF3w/KgtOC80GNWAauC4CRM8ZYC1r0dd0J/cYACDM/DHyCjOiqoqj7twZwJJyv1/OYmKE67HaHWl5pNxwtb3Zzf79OqWpPT99+PpTijQFoON/c3y0jN1Qvu8fHgqs3BUCQ5sv1ehGhoTofX15OjblSPTBK2Av89f3dzTzGvNjv9qdxIXg9ABTPl9v/+nib+6LcPX7dFf2IrfiaACzdPjz89HGVoOH07cvPT+WYDLgiAE6W28+fHm5SIurD49fvL83Ys8GrARBCBNN4vb2/3y5jNLTn/dPToez1W82Ao36YpPObT58/rmeoU+fH77t90cqxx7PXzwCLF5vN5vZuu06orKrDl5+fXrpRS8B1ALwo23z+fH+zzmMi2+P+6cvjoVB61FZ8BQASxtlqc/fwsJyFWPenp8fd475ox+zDEwEQQhhjQjBCDgAQIIwJwX6YzBbb7Sr1gev+/PTtcb8vuwnvHw+AKWWe73sEOQcIY0J9P/CCOErSfDkjoudddXraPZ+KduQSNBGAekEQpXHEsHUOYUr9KE2jMIoCz2NEiqY4n48vh3PDJ/kTowEwi5JklmeJj611CBEaJFmWRFHAkBG8rY7Ph9PpXDTC2LHxNw0gzJd5nmepj6x1zjjEoigMPEawkV1dnA9P+9O5aviUl08BoNmHj5ssTSKGjLWi77nQsvWZx7ARXV2Vp5dTWXeT3z8awFv89LdPs8BjxBnj6hchWmkBECHYqoF3XVs33TDFHJoIQPOHv/53ijFC1lh7FKehKDsutUPIWa2VUkJqPSX/JgJgP13eJAAOwDmwpY9UeyqaQVtwv/5ylCFyMYCVXVVoTBClGCDN8rxpKienpdxrAFTxNW2zIAyjJGYQzTfcOS24eDMAefh7+2WezRfz5WpOyGwLHnVaO3tB3F0GcOT7bH6zud0MQGYkXCCGjDIYFxNMydcAmLYrorzuBuEosSH2ZlZwrgllZe/AjTMlXwPgwAlpMRhpnO6zmNFkqZyfz+enWvBBjqvBXwEAAOB45WQ3iL5cL7LIW9BoeTrsD6fydDZvAgCmN33NeVc2XEMUhfltddw/7588Kyf1CC4GsINsWyFFN2iHIA1Tu1zkWRY4KaE3l8XBJADnLCjAoC1YPazmKaMYEeaMwVHVD2OM0dcBAADA0BCrhvp0s73bZB6bYUb8KN/vD+dLtoILAAxHqq+e8/VDxbcz38s8f7bc7L5QxS+JxAuqYtUNzYkFqzM3+iZPAj9crG+WTDStnlQNXgrgtAYAwLVhATYOU58lacJ4UXLSKTM1Gy4+F9gyTiM3SO1SH3uZvCsHeijqXpiRvZrXAoCu97gpWqFXswR7s1vpzXe752MjlL122+7faDiKl1OnjJQmocGK5jc3KbV2VJfgGgBIVi2uDcbWOEhoFi8XMfBWGGOnZMPlAM4YABsmEQbCPMZY6Klyf+yVnpSNrzyc8vKZCY08n3kAUZqvVlxJ8YYA0L2YWpMo8ggB5Cfz9TB07Yhm2dUAxLk7Q7ychywBR8Js2TfFpDFfCyBVU8W353oWeh6QIE7TyB/TKPmHXm1WOyfbpmk6oR0i1PM8RsY0Sq4HAAB6aJumlxZ+vdowSVex6zVv2l7aX29VTKtLrgBAsBV9N0jrwFlrJ/oDVwBAzigp1S++2OS67AoAzhmj9YUl4VViwDlrrXUACAGaGoZXCUKE0Lgu5Z8DgDBlHqMYTQ+A6wAA9eM0CRgCAPQf+QQ0ylermU8QoF+81DcGQF662tzkAQYAhKcCXKFj4sXZcr2KKQZrrbUTj+pTAH5nm0cI4Syf53nKAIwSA+di2gFpNABC6Hd8CBSE0fZunccMAKzsyvO5GtmvmwiAEEbgflNvk2S5+vB5mwcAAHaoXp6ejs2f45ZjisHCv/5zXnb38OnzbcoAAGRX7L/vXprR7ZpJAJQxZJX4sRlGZ6u7v3y8X0YYAIa6OO73hx8vGF0PgEUhdUpIrY2xAAhhQmi6efj4cL9OmTFaVIfd87Go+0kTMBqAhHkeYCWGgXdcWsDUj9J0uf3pL582s4jIoSkPzz9/3VdcTTueju8XLDYpNYJ35clqi4ifLG5vt9uHD7e5hxUv998fd7vdS6us+1MWIhzMlgvfyb7xrXYSe3F++/nzh9vtOgucEtXh2/98+f5SNlxP9KwnZIEfhsiGPmjnKewn87sPH+/Xy9QH1RUvz49fv+zKXpqpNs1oo1LxNgCP+Bh7+WCJF2Xr+00egJC6r46H3benl3M7tmV+AYDhZypnaRzE6a0DQmgQJmka2KaSfX0+HQ67fckveP8ErxjJNl8sSZxlaewTQgk4q3jf13V5Op2KczEx/6YCcM273pBgFqw2i5ggZHlb91VRnIviVJRNx8WYG5wXA1illUFeEEazQWkDDnRXnc/F6Xw6l0VVc6FG96svAgDn1NBVFLTkRR5h50xXl1VVVFXVNF0vLpp/GHe5/f9EgzhN0yyfxR4CZ0X/i/gwiIlFwIUAmDDmMd/zKAEAZ7TWWmtltDETz2MXAvz6+D//ifvhx7ve9a53vev/pf4X/nLn/4zw7EcAAAAASUVORK5CYII=\" style=\"height: auto\">\n",
       "              <figcaption style=\"font-size: 0.6em\">3</figcaption>\n",
       "            </figure>\n",
       "        \n",
       "            <figure style=\"margin: 5px !important;\">\n",
       "              <img src=\"data:image/png;base64,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\" style=\"height: auto\">\n",
       "              <figcaption style=\"font-size: 0.6em\">7</figcaption>\n",
       "            </figure>\n",
       "        \n",
       "            <figure style=\"margin: 5px !important;\">\n",
       "              <img src=\"data:image/png;base64,iVBORw0KGgoAAAANSUhEUgAAAIAAAACACAAAAADmVT4XAAAGWUlEQVR4nO2aSXPjuhHHuwFwAylq9f48L7nk+3+XXFKVVM3z2DOOZC2WSHEBCXQOkmw5ySEAPUpST32yDwR+anQ3+98gwNnOdrazne1sZ/u9G3Z8nHHGGWMIQMaYVhtjuYLoBiBCKaMoCj00jaq2WbY9NUAyngyHo1Sytsxf58/PqjkxQO/y/ub6dtITKl/Onni5KU4MIMe3v97fX/WF2swHPHt5ydqTAmCYXlxfX04YRD6jbDJMi9IuEDsCkJcMx8OEAQBP6tFoPKp4pU4IAH4yGPS83VJJOhyNKwDd0n++AOu2vxfGaRpxYwCAh3HaH/Slz21W6OABRGRx0kvigJNmAMwPIinDQFgVN3cAFJ4fjIdpHIp9PWVCCOFxdioATybp9SSNPABA2u2KaFvc3QGYn4wntxf94O3ISRttyLIWuwch+vHo5macBAwAgABAm7ZtGm0scqAbQG98fTVKvDefm7apq0rZJGEngGBwdXszjneHSACgm7LI86LWpwLoX95cjSQH2LcVrSqz9SavtY0LOmRB0BtfTPoh2ycAUKvKPMsKq0rcqQ6ESdqT7yEAuqnLbVHrE9UBQC48j7+fIRmt6kppOFEQ7jY9+tuQblVt2Q50ASCjW32U9WR029gFQGeA4/2ByJi2PSHAv0MydmXwswEA7AIQoFsWACAiIsJB36CD0PlED7zR/LcAAFyU3mfHwO8KgACIiIgAgHb/2CfB/7UHzgBngP85AJdC/KkAXFjKwk8FQACGzMEFnwVAAIYM2VfCrhOSNzNUl3bDmU8FQK1Vvlxv1Qk7osN7aGe6zJfT+aa2dsEn6QI01et8Ol+fEuBjB2bq7Wr16nAEXQEOBKRVVVTKShh3BNh1xXBAMFq3WttngTsAY4whsiMnOFSBLgCcc8Y/7k8ODK5piBAEnif4URC0bWsfAo4ADLmQUkaBOJR/alVVVo09gRsAiiBK00RGHkMgBADT1sW2rO0mZACuMcC8IEl7vTgSDA4eqKuyVFYDMgBwPgLuyziWoS8Qdh4g0yrlcAKuWcC453lCfBiMn7Ijon999zN+yo6ISButjxmQeUHge/xU8nxXAY8AmAhkHIee9XpuANyP4jjyjx5GT/b6aRIFti5wygIWpBe3d5f9992Ih+mkacq8aBrz86/tuBx/+eMv95MIAWCnybkcos9UUeptbTWqcwIQ8cWvf7q/Gko8BAFxyWSMxWZT2znA0QPR6O4PX4Yhe/MAsdBPIrV4TmRRW91fOwGgJweTScKOfitDDiwOrK4M3QEIRCAjBowIdlNCRADwuKm3hbKb1joBaAImxAEG3qZzulov12Xz8wEYMsb227/PSaHJN6/LTfPzgxDD0BfHRZeAgEG7WC5fs63lYtYAKLxwPEqjDw8arZoqm36drivb9ewBwl7/+mYcHy7LEACImmw1/fv3b7+92l6Y2AOwaHRz98sk3iccAgJRW71+++vfHhbzlbUwsAbgcnz35W4id0GICACmqfLF41/+/NtW2etzWwD05PDq9moQvZcc05TZ4uXH47dH281dAJgfDy+vL/shIzi8CdTm5fnpeb522d8agAfJ8OJykoSckPb9aLn8/vDwvLb9hMkJAEXUG0wuRr5AoL0Hmu388evjdOuiDC0BkLgfJWm/nyLQTo9wMMV69uPxx6I4BQAPZBwnsWSwfwkY3Vbz2Ww6W2aVdQmwB+C+7KVJFOy+G0JAaKtsPf32fbpYW16aOwEgD5I0TUKx60MACdtsNv3x8DRbbZXDcMIWAHggk0QemmEEhDZffH96mi6z2vrK1AUAhR+GH9SHqbPVYrnOS3tVujcrXYDIheDHE2Ek3dS1apz3txQm+M8K1EUNdgEgMh9FKTLGGWfcvhl1AqD9JwNHE1pjCICh+6zLKghJ67bVhhAAGIHRpiiqunGZTbkCqFppEPtuSFfV6zovKtW65qAlAJm2ruqGDv5u8s1iuc5LOzHYAQBMo6qyOnw63Oar+fRltdlWdkqgAwBpVW6z9XLQA4B6PZ/NZrPlZls1JzoCIK2qzewhLGIArLPlYrGcr1ZZ6TAkdwMwuilWT7j5GgBgU2abLMvyvCztvp/rAECmAdLZkxQAYJq6rmul6qZt7Qekb2ZXSREY41zs6i8ZQ8aQcRqSn+1sZzvb2c52trO92T8AI38UjYwkCkwAAAAASUVORK5CYII=\" style=\"height: auto\">\n",
       "              <figcaption style=\"font-size: 0.6em\">1</figcaption>\n",
       "            </figure>\n",
       "        \n",
       "            <figure style=\"margin: 5px !important;\">\n",
       "              <img src=\"data:image/png;base64,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\" style=\"height: auto\">\n",
       "              <figcaption style=\"font-size: 0.6em\">7</figcaption>\n",
       "            </figure>\n",
       "        \n",
       "            <figure style=\"margin: 5px !important;\">\n",
       "              <img src=\"data:image/png;base64,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\" style=\"height: auto\">\n",
       "              <figcaption style=\"font-size: 0.6em\">3</figcaption>\n",
       "            </figure>\n",
       "        \n",
       "            <figure style=\"margin: 5px !important;\">\n",
       "              <img src=\"data:image/png;base64,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\" style=\"height: auto\">\n",
       "              <figcaption style=\"font-size: 0.6em\">0</figcaption>\n",
       "            </figure>\n",
       "        \n",
       "            <figure style=\"margin: 5px !important;\">\n",
       "              <img src=\"data:image/png;base64,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\" style=\"height: auto\">\n",
       "              <figcaption style=\"font-size: 0.6em\">6</figcaption>\n",
       "            </figure>\n",
       "        \n",
       "            <figure style=\"margin: 5px !important;\">\n",
       "              <img src=\"data:image/png;base64,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\" style=\"height: auto\">\n",
       "              <figcaption style=\"font-size: 0.6em\">2</figcaption>\n",
       "            </figure>\n",
       "        \n",
       "            <figure style=\"margin: 5px !important;\">\n",
       "              <img src=\"data:image/png;base64,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\" style=\"height: auto\">\n",
       "              <figcaption style=\"font-size: 0.6em\">3</figcaption>\n",
       "            </figure>\n",
       "        \n",
       "            <figure style=\"margin: 5px !important;\">\n",
       "              <img src=\"data:image/png;base64,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\" style=\"height: auto\">\n",
       "              <figcaption style=\"font-size: 0.6em\">2</figcaption>\n",
       "            </figure>\n",
       "        \n",
       "            <figure style=\"margin: 5px !important;\">\n",
       "              <img src=\"data:image/png;base64,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\" style=\"height: auto\">\n",
       "              <figcaption style=\"font-size: 0.6em\">3</figcaption>\n",
       "            </figure>\n",
       "        \n",
       "            <figure style=\"margin: 5px !important;\">\n",
       "              <img src=\"data:image/png;base64,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\" style=\"height: auto\">\n",
       "              <figcaption style=\"font-size: 0.6em\">8</figcaption>\n",
       "            </figure>\n",
       "        \n",
       "    </div>"
      ],
      "text/plain": [
       "<IPython.core.display.HTML object>"
      ]
     },
     "execution_count": 4,
     "metadata": {},
     "output_type": "execute_result"
    }
   ],
   "source": [
    "count = 8\n",
    "\n",
    "def get_some_random_images_and_labels(df, count):\n",
    "    image_ids = RNG.choice(df.index.unique(), count, replace=False)\n",
    "    image_datas = df.loc[image_ids]['png']\n",
    "    images = [Image.open(io.BytesIO(image_data)) for image_data in image_datas]\n",
    "    labels = df.loc[image_ids]['value']\n",
    "    return images, list(labels)\n",
    "\n",
    "train_images, train_labels = get_some_random_images_and_labels(df_train_images, count)\n",
    "test_images, test_labels = get_some_random_images_and_labels(df_test_images, count)\n",
    "\n",
    "display_images_grid(train_images + test_images, captions=train_labels + test_labels, col_count=count)"
   ]
  },
  {
   "cell_type": "code",
   "execution_count": 5,
   "id": "3150ef21-ac4c-4cf3-8013-ea332b9522e7",
   "metadata": {},
   "outputs": [],
   "source": [
    "DF_TEST_RESULTS = pd.DataFrame(columns=['source_ds', 'test_run_id', 'test_image_id', 'true_value', 'engram_id', 'infer_value', 'sim'])\n",
    "TRAIN_RUN_ID = 0\n",
    "TEST_RUN_ID = 0"
   ]
  },
  {
   "cell_type": "code",
   "execution_count": 6,
   "id": "e5019d63-ce09-4130-ac07-b6ae15a84ab4",
   "metadata": {},
   "outputs": [],
   "source": [
    "COS_SIM_THRESHOLD = 0.055\n",
    "hdc = Hdc(10_000, xp)"
   ]
  },
  {
   "cell_type": "code",
   "execution_count": 7,
   "id": "fe4596eb-8b95-46f6-842c-e5819bad21b3",
   "metadata": {},
   "outputs": [],
   "source": [
    "DIGITS = hdc(10)\n",
    "DIGITS_NORM = hdc.normalize(DIGITS)"
   ]
  },
  {
   "cell_type": "code",
   "execution_count": 8,
   "id": "317bc435-b1be-4e25-8f4f-b9e3d35f522b",
   "metadata": {},
   "outputs": [],
   "source": [
    "class CorticalColumn(object):\n",
    "    def __init__(self):\n",
    "        self.short_memory = defaultdict(lambda: defaultdict(list)) # digit_hdv_index (aka value) -> {source_hdvs -> [], assoc_hdvs -> []}\n",
    "        self.digit_projection_norm_hdvs = None\n",
    "        self.digit_affinity_masks = None # where to find projections of a particular digit within self.digit_projection_norm_hdvs (mask of rows)"
   ]
  },
  {
   "cell_type": "code",
   "execution_count": 11,
   "id": "1e8dc096-5076-4657-b22c-a489c2be1694",
   "metadata": {},
   "outputs": [],
   "source": [
    "COLUMNS = {}\n",
    "# COLUMNS = {-1: CorticalColumn()}\n",
    "# COLUMNS.update(map(lambda i: (i, CorticalColumn()), range(1)))\n",
    "COLUMNS.update(map(lambda i: (i, CorticalColumn()), range(config.cortical_columns_count)))"
   ]
  },
  {
   "cell_type": "code",
   "execution_count": 12,
   "id": "bc72b601-6398-4d84-9ce3-97e1a9a92bfa",
   "metadata": {},
   "outputs": [
    {
     "data": {
      "application/vnd.jupyter.widget-view+json": {
       "model_id": "9f08cadeef274440b3e2b929a1d71652",
       "version_major": 2,
       "version_minor": 0
      },
      "text/plain": [
       "Column:   0%|          | 0/10 [00:00<?, ?it/s]"
      ]
     },
     "metadata": {},
     "output_type": "display_data"
    },
    {
     "data": {
      "application/vnd.jupyter.widget-view+json": {
       "model_id": "",
       "version_major": 2,
       "version_minor": 0
      },
      "text/plain": [
       "Image:   0%|          | 0/2000 [00:00<?, ?it/s]"
      ]
     },
     "metadata": {},
     "output_type": "display_data"
    },
    {
     "data": {
      "application/vnd.jupyter.widget-view+json": {
       "model_id": "",
       "version_major": 2,
       "version_minor": 0
      },
      "text/plain": [
       "Image:   0%|          | 0/2000 [00:00<?, ?it/s]"
      ]
     },
     "metadata": {},
     "output_type": "display_data"
    },
    {
     "data": {
      "application/vnd.jupyter.widget-view+json": {
       "model_id": "",
       "version_major": 2,
       "version_minor": 0
      },
      "text/plain": [
       "Image:   0%|          | 0/2000 [00:00<?, ?it/s]"
      ]
     },
     "metadata": {},
     "output_type": "display_data"
    },
    {
     "data": {
      "application/vnd.jupyter.widget-view+json": {
       "model_id": "",
       "version_major": 2,
       "version_minor": 0
      },
      "text/plain": [
       "Image:   0%|          | 0/2000 [00:00<?, ?it/s]"
      ]
     },
     "metadata": {},
     "output_type": "display_data"
    },
    {
     "data": {
      "application/vnd.jupyter.widget-view+json": {
       "model_id": "",
       "version_major": 2,
       "version_minor": 0
      },
      "text/plain": [
       "Image:   0%|          | 0/2000 [00:00<?, ?it/s]"
      ]
     },
     "metadata": {},
     "output_type": "display_data"
    },
    {
     "data": {
      "application/vnd.jupyter.widget-view+json": {
       "model_id": "",
       "version_major": 2,
       "version_minor": 0
      },
      "text/plain": [
       "Image:   0%|          | 0/2000 [00:00<?, ?it/s]"
      ]
     },
     "metadata": {},
     "output_type": "display_data"
    },
    {
     "data": {
      "application/vnd.jupyter.widget-view+json": {
       "model_id": "",
       "version_major": 2,
       "version_minor": 0
      },
      "text/plain": [
       "Image:   0%|          | 0/2000 [00:00<?, ?it/s]"
      ]
     },
     "metadata": {},
     "output_type": "display_data"
    },
    {
     "data": {
      "application/vnd.jupyter.widget-view+json": {
       "model_id": "",
       "version_major": 2,
       "version_minor": 0
      },
      "text/plain": [
       "Image:   0%|          | 0/2000 [00:00<?, ?it/s]"
      ]
     },
     "metadata": {},
     "output_type": "display_data"
    },
    {
     "data": {
      "application/vnd.jupyter.widget-view+json": {
       "model_id": "",
       "version_major": 2,
       "version_minor": 0
      },
      "text/plain": [
       "Image:   0%|          | 0/2000 [00:00<?, ?it/s]"
      ]
     },
     "metadata": {},
     "output_type": "display_data"
    },
    {
     "data": {
      "application/vnd.jupyter.widget-view+json": {
       "model_id": "",
       "version_major": 2,
       "version_minor": 0
      },
      "text/plain": [
       "Image:   0%|          | 0/2000 [00:00<?, ?it/s]"
      ]
     },
     "metadata": {},
     "output_type": "display_data"
    }
   ],
   "source": [
    "# MEMORY MINING\n",
    "TRAIN_RUN_ID += 1\n",
    "batch_size = 2000\n",
    "image_ids = RNG.choice(df_train_images.index.unique(), batch_size, replace=False)\n",
    "\n",
    "for column_id, column in tqdm(COLUMNS.items(), desc='Column'):\n",
    "    column.short_memory.clear()\n",
    "    \n",
    "    for image_no, image_id in tqdm(enumerate(image_ids), leave=False, total=len(image_ids), desc='Image'):\n",
    "        image_value = df_train_images.loc[image_id]['value']\n",
    "        digit_hdv_index = int(image_value)\n",
    "        digit_hdv = DIGITS[digit_hdv_index]\n",
    "        \n",
    "        # df_image_encodings = pd.read_sql('SELECT hdv FROM image_encodings WHERE image_id=:image_id AND column_id=:column_id AND offset_x=0 AND offset_y=0', \n",
    "        df_image_encodings = pd.read_sql('SELECT hdv FROM image_encodings WHERE image_id=:image_id AND column_id=:column_id LIMIT 5', \n",
    "                                         params={'image_id': int(image_id), 'column_id': column_id}, \n",
    "                                         con=train_db_con)\n",
    "        \n",
    "        for image_encoding_hdv in df_image_encodings['hdv']:\n",
    "            image_encoding_hdv = xp.frombuffer(image_encoding_hdv, dtype='b')\n",
    "            assert image_encoding_hdv.shape == (hdc.N,)\n",
    "            column.short_memory[digit_hdv_index]['source_hdvs'].append(image_encoding_hdv)\n",
    "            column.short_memory[digit_hdv_index]['assoc_hdvs'].append(hdc.bind(image_encoding_hdv, digit_hdv))\n",
    "\n",
    "        # df_image_encoding_hdv_bundles = pd.read_sql('SELECT hdv_bundle FROM image_encoding_hdv_bundles WHERE image_id=:image_id AND column_id=:column_id', \n",
    "        #                                             params={'image_id': int(image_id), 'column_id': column_id},\n",
    "        #                                             con=train_db_con)\n",
    "\n",
    "        # for image_encoding_hdv_bundle in df_image_encoding_hdv_bundles['hdv_bundle']:\n",
    "        #     image_encoding_hdv_bundle = xp.frombuffer(image_encoding_hdv_bundle, dtype='b')\n",
    "        #     assert image_encoding_hdv_bundle.shape == (hdc.N,)\n",
    "        #     column.short_memory[digit_hdv_index]['source_hdvs'].append(image_encoding_hdv_bundle)\n",
    "        #     column.short_memory[digit_hdv_index]['assoc_hdvs'].append(hdc.bind(image_encoding_hdv_bundle, digit_hdv))"
   ]
  },
  {
   "cell_type": "code",
   "execution_count": 13,
   "id": "91a367ee-337d-43ad-b8a5-693ded370cc2",
   "metadata": {},
   "outputs": [],
   "source": [
    "for _, column in COLUMNS.items():\n",
    "    for _, tab in column.short_memory.items():\n",
    "        tab['source_hdvs'] = xp.array(tab['source_hdvs'])\n",
    "        tab['assoc_hdvs'] = xp.array(tab['assoc_hdvs']).astype(int) # Cast to ordinary int due to uncapped use of hdvs"
   ]
  },
  {
   "cell_type": "code",
   "execution_count": null,
   "id": "c79eb09d-fc61-47dc-8397-336104540c0b",
   "metadata": {},
   "outputs": [],
   "source": []
  },
  {
   "cell_type": "code",
   "execution_count": 14,
   "id": "d7241886-0454-43b6-b1f6-94bffcb8b230",
   "metadata": {},
   "outputs": [
    {
     "data": {
      "application/vnd.jupyter.widget-view+json": {
       "model_id": "bc4058bad9f44b4198ec866dd01d2121",
       "version_major": 2,
       "version_minor": 0
      },
      "text/plain": [
       "Column:   0%|          | 0/10 [00:00<?, ?it/s]"
      ]
     },
     "metadata": {},
     "output_type": "display_data"
    },
    {
     "data": {
      "application/vnd.jupyter.widget-view+json": {
       "model_id": "",
       "version_major": 2,
       "version_minor": 0
      },
      "text/plain": [
       "Digit:   0%|          | 0/10 [00:00<?, ?it/s]"
      ]
     },
     "metadata": {},
     "output_type": "display_data"
    },
    {
     "data": {
      "application/vnd.jupyter.widget-view+json": {
       "model_id": "",
       "version_major": 2,
       "version_minor": 0
      },
      "text/plain": [
       "Merge cycle:   0%|          | 0/1000 [00:00<?, ?it/s]"
      ]
     },
     "metadata": {},
     "output_type": "display_data"
    },
    {
     "data": {
      "application/vnd.jupyter.widget-view+json": {
       "model_id": "",
       "version_major": 2,
       "version_minor": 0
      },
      "text/plain": [
       "Merge cycle:   0%|          | 0/1000 [00:00<?, ?it/s]"
      ]
     },
     "metadata": {},
     "output_type": "display_data"
    },
    {
     "data": {
      "application/vnd.jupyter.widget-view+json": {
       "model_id": "",
       "version_major": 2,
       "version_minor": 0
      },
      "text/plain": [
       "Merge cycle:   0%|          | 0/1000 [00:00<?, ?it/s]"
      ]
     },
     "metadata": {},
     "output_type": "display_data"
    },
    {
     "data": {
      "application/vnd.jupyter.widget-view+json": {
       "model_id": "",
       "version_major": 2,
       "version_minor": 0
      },
      "text/plain": [
       "Merge cycle:   0%|          | 0/1000 [00:00<?, ?it/s]"
      ]
     },
     "metadata": {},
     "output_type": "display_data"
    },
    {
     "data": {
      "application/vnd.jupyter.widget-view+json": {
       "model_id": "",
       "version_major": 2,
       "version_minor": 0
      },
      "text/plain": [
       "Merge cycle:   0%|          | 0/1000 [00:00<?, ?it/s]"
      ]
     },
     "metadata": {},
     "output_type": "display_data"
    },
    {
     "data": {
      "application/vnd.jupyter.widget-view+json": {
       "model_id": "",
       "version_major": 2,
       "version_minor": 0
      },
      "text/plain": [
       "Merge cycle:   0%|          | 0/1000 [00:00<?, ?it/s]"
      ]
     },
     "metadata": {},
     "output_type": "display_data"
    },
    {
     "data": {
      "application/vnd.jupyter.widget-view+json": {
       "model_id": "",
       "version_major": 2,
       "version_minor": 0
      },
      "text/plain": [
       "Merge cycle:   0%|          | 0/1000 [00:00<?, ?it/s]"
      ]
     },
     "metadata": {},
     "output_type": "display_data"
    },
    {
     "data": {
      "application/vnd.jupyter.widget-view+json": {
       "model_id": "",
       "version_major": 2,
       "version_minor": 0
      },
      "text/plain": [
       "Merge cycle:   0%|          | 0/1000 [00:00<?, ?it/s]"
      ]
     },
     "metadata": {},
     "output_type": "display_data"
    },
    {
     "data": {
      "application/vnd.jupyter.widget-view+json": {
       "model_id": "",
       "version_major": 2,
       "version_minor": 0
      },
      "text/plain": [
       "Merge cycle:   0%|          | 0/1000 [00:00<?, ?it/s]"
      ]
     },
     "metadata": {},
     "output_type": "display_data"
    },
    {
     "data": {
      "application/vnd.jupyter.widget-view+json": {
       "model_id": "",
       "version_major": 2,
       "version_minor": 0
      },
      "text/plain": [
       "Merge cycle:   0%|          | 0/1000 [00:00<?, ?it/s]"
      ]
     },
     "metadata": {},
     "output_type": "display_data"
    },
    {
     "data": {
      "application/vnd.jupyter.widget-view+json": {
       "model_id": "",
       "version_major": 2,
       "version_minor": 0
      },
      "text/plain": [
       "Digit:   0%|          | 0/10 [00:00<?, ?it/s]"
      ]
     },
     "metadata": {},
     "output_type": "display_data"
    },
    {
     "data": {
      "application/vnd.jupyter.widget-view+json": {
       "model_id": "",
       "version_major": 2,
       "version_minor": 0
      },
      "text/plain": [
       "Merge cycle:   0%|          | 0/1000 [00:00<?, ?it/s]"
      ]
     },
     "metadata": {},
     "output_type": "display_data"
    },
    {
     "data": {
      "application/vnd.jupyter.widget-view+json": {
       "model_id": "",
       "version_major": 2,
       "version_minor": 0
      },
      "text/plain": [
       "Merge cycle:   0%|          | 0/1000 [00:00<?, ?it/s]"
      ]
     },
     "metadata": {},
     "output_type": "display_data"
    },
    {
     "data": {
      "application/vnd.jupyter.widget-view+json": {
       "model_id": "",
       "version_major": 2,
       "version_minor": 0
      },
      "text/plain": [
       "Merge cycle:   0%|          | 0/1000 [00:00<?, ?it/s]"
      ]
     },
     "metadata": {},
     "output_type": "display_data"
    },
    {
     "data": {
      "application/vnd.jupyter.widget-view+json": {
       "model_id": "",
       "version_major": 2,
       "version_minor": 0
      },
      "text/plain": [
       "Merge cycle:   0%|          | 0/1000 [00:00<?, ?it/s]"
      ]
     },
     "metadata": {},
     "output_type": "display_data"
    },
    {
     "data": {
      "application/vnd.jupyter.widget-view+json": {
       "model_id": "",
       "version_major": 2,
       "version_minor": 0
      },
      "text/plain": [
       "Merge cycle:   0%|          | 0/1000 [00:00<?, ?it/s]"
      ]
     },
     "metadata": {},
     "output_type": "display_data"
    },
    {
     "data": {
      "application/vnd.jupyter.widget-view+json": {
       "model_id": "",
       "version_major": 2,
       "version_minor": 0
      },
      "text/plain": [
       "Merge cycle:   0%|          | 0/1000 [00:00<?, ?it/s]"
      ]
     },
     "metadata": {},
     "output_type": "display_data"
    },
    {
     "data": {
      "application/vnd.jupyter.widget-view+json": {
       "model_id": "",
       "version_major": 2,
       "version_minor": 0
      },
      "text/plain": [
       "Merge cycle:   0%|          | 0/1000 [00:00<?, ?it/s]"
      ]
     },
     "metadata": {},
     "output_type": "display_data"
    },
    {
     "data": {
      "application/vnd.jupyter.widget-view+json": {
       "model_id": "",
       "version_major": 2,
       "version_minor": 0
      },
      "text/plain": [
       "Merge cycle:   0%|          | 0/1000 [00:00<?, ?it/s]"
      ]
     },
     "metadata": {},
     "output_type": "display_data"
    },
    {
     "data": {
      "application/vnd.jupyter.widget-view+json": {
       "model_id": "",
       "version_major": 2,
       "version_minor": 0
      },
      "text/plain": [
       "Merge cycle:   0%|          | 0/1000 [00:00<?, ?it/s]"
      ]
     },
     "metadata": {},
     "output_type": "display_data"
    },
    {
     "data": {
      "application/vnd.jupyter.widget-view+json": {
       "model_id": "",
       "version_major": 2,
       "version_minor": 0
      },
      "text/plain": [
       "Merge cycle:   0%|          | 0/1000 [00:00<?, ?it/s]"
      ]
     },
     "metadata": {},
     "output_type": "display_data"
    },
    {
     "data": {
      "application/vnd.jupyter.widget-view+json": {
       "model_id": "",
       "version_major": 2,
       "version_minor": 0
      },
      "text/plain": [
       "Digit:   0%|          | 0/10 [00:00<?, ?it/s]"
      ]
     },
     "metadata": {},
     "output_type": "display_data"
    },
    {
     "data": {
      "application/vnd.jupyter.widget-view+json": {
       "model_id": "",
       "version_major": 2,
       "version_minor": 0
      },
      "text/plain": [
       "Merge cycle:   0%|          | 0/1000 [00:00<?, ?it/s]"
      ]
     },
     "metadata": {},
     "output_type": "display_data"
    },
    {
     "data": {
      "application/vnd.jupyter.widget-view+json": {
       "model_id": "",
       "version_major": 2,
       "version_minor": 0
      },
      "text/plain": [
       "Merge cycle:   0%|          | 0/1000 [00:00<?, ?it/s]"
      ]
     },
     "metadata": {},
     "output_type": "display_data"
    },
    {
     "data": {
      "application/vnd.jupyter.widget-view+json": {
       "model_id": "",
       "version_major": 2,
       "version_minor": 0
      },
      "text/plain": [
       "Merge cycle:   0%|          | 0/1000 [00:00<?, ?it/s]"
      ]
     },
     "metadata": {},
     "output_type": "display_data"
    },
    {
     "data": {
      "application/vnd.jupyter.widget-view+json": {
       "model_id": "",
       "version_major": 2,
       "version_minor": 0
      },
      "text/plain": [
       "Merge cycle:   0%|          | 0/1000 [00:00<?, ?it/s]"
      ]
     },
     "metadata": {},
     "output_type": "display_data"
    },
    {
     "data": {
      "application/vnd.jupyter.widget-view+json": {
       "model_id": "",
       "version_major": 2,
       "version_minor": 0
      },
      "text/plain": [
       "Merge cycle:   0%|          | 0/1000 [00:00<?, ?it/s]"
      ]
     },
     "metadata": {},
     "output_type": "display_data"
    },
    {
     "data": {
      "application/vnd.jupyter.widget-view+json": {
       "model_id": "",
       "version_major": 2,
       "version_minor": 0
      },
      "text/plain": [
       "Merge cycle:   0%|          | 0/1000 [00:00<?, ?it/s]"
      ]
     },
     "metadata": {},
     "output_type": "display_data"
    },
    {
     "data": {
      "application/vnd.jupyter.widget-view+json": {
       "model_id": "",
       "version_major": 2,
       "version_minor": 0
      },
      "text/plain": [
       "Merge cycle:   0%|          | 0/1000 [00:00<?, ?it/s]"
      ]
     },
     "metadata": {},
     "output_type": "display_data"
    },
    {
     "data": {
      "application/vnd.jupyter.widget-view+json": {
       "model_id": "",
       "version_major": 2,
       "version_minor": 0
      },
      "text/plain": [
       "Merge cycle:   0%|          | 0/1000 [00:00<?, ?it/s]"
      ]
     },
     "metadata": {},
     "output_type": "display_data"
    },
    {
     "data": {
      "application/vnd.jupyter.widget-view+json": {
       "model_id": "",
       "version_major": 2,
       "version_minor": 0
      },
      "text/plain": [
       "Merge cycle:   0%|          | 0/1000 [00:00<?, ?it/s]"
      ]
     },
     "metadata": {},
     "output_type": "display_data"
    },
    {
     "data": {
      "application/vnd.jupyter.widget-view+json": {
       "model_id": "",
       "version_major": 2,
       "version_minor": 0
      },
      "text/plain": [
       "Merge cycle:   0%|          | 0/1000 [00:00<?, ?it/s]"
      ]
     },
     "metadata": {},
     "output_type": "display_data"
    },
    {
     "data": {
      "application/vnd.jupyter.widget-view+json": {
       "model_id": "",
       "version_major": 2,
       "version_minor": 0
      },
      "text/plain": [
       "Digit:   0%|          | 0/10 [00:00<?, ?it/s]"
      ]
     },
     "metadata": {},
     "output_type": "display_data"
    },
    {
     "data": {
      "application/vnd.jupyter.widget-view+json": {
       "model_id": "",
       "version_major": 2,
       "version_minor": 0
      },
      "text/plain": [
       "Merge cycle:   0%|          | 0/1000 [00:00<?, ?it/s]"
      ]
     },
     "metadata": {},
     "output_type": "display_data"
    },
    {
     "data": {
      "application/vnd.jupyter.widget-view+json": {
       "model_id": "",
       "version_major": 2,
       "version_minor": 0
      },
      "text/plain": [
       "Merge cycle:   0%|          | 0/1000 [00:00<?, ?it/s]"
      ]
     },
     "metadata": {},
     "output_type": "display_data"
    },
    {
     "data": {
      "application/vnd.jupyter.widget-view+json": {
       "model_id": "",
       "version_major": 2,
       "version_minor": 0
      },
      "text/plain": [
       "Merge cycle:   0%|          | 0/1000 [00:00<?, ?it/s]"
      ]
     },
     "metadata": {},
     "output_type": "display_data"
    },
    {
     "data": {
      "application/vnd.jupyter.widget-view+json": {
       "model_id": "",
       "version_major": 2,
       "version_minor": 0
      },
      "text/plain": [
       "Merge cycle:   0%|          | 0/1000 [00:00<?, ?it/s]"
      ]
     },
     "metadata": {},
     "output_type": "display_data"
    },
    {
     "data": {
      "application/vnd.jupyter.widget-view+json": {
       "model_id": "",
       "version_major": 2,
       "version_minor": 0
      },
      "text/plain": [
       "Merge cycle:   0%|          | 0/1000 [00:00<?, ?it/s]"
      ]
     },
     "metadata": {},
     "output_type": "display_data"
    },
    {
     "data": {
      "application/vnd.jupyter.widget-view+json": {
       "model_id": "",
       "version_major": 2,
       "version_minor": 0
      },
      "text/plain": [
       "Merge cycle:   0%|          | 0/1000 [00:00<?, ?it/s]"
      ]
     },
     "metadata": {},
     "output_type": "display_data"
    },
    {
     "data": {
      "application/vnd.jupyter.widget-view+json": {
       "model_id": "",
       "version_major": 2,
       "version_minor": 0
      },
      "text/plain": [
       "Merge cycle:   0%|          | 0/1000 [00:00<?, ?it/s]"
      ]
     },
     "metadata": {},
     "output_type": "display_data"
    },
    {
     "data": {
      "application/vnd.jupyter.widget-view+json": {
       "model_id": "",
       "version_major": 2,
       "version_minor": 0
      },
      "text/plain": [
       "Merge cycle:   0%|          | 0/1000 [00:00<?, ?it/s]"
      ]
     },
     "metadata": {},
     "output_type": "display_data"
    },
    {
     "data": {
      "application/vnd.jupyter.widget-view+json": {
       "model_id": "",
       "version_major": 2,
       "version_minor": 0
      },
      "text/plain": [
       "Merge cycle:   0%|          | 0/1000 [00:00<?, ?it/s]"
      ]
     },
     "metadata": {},
     "output_type": "display_data"
    },
    {
     "data": {
      "application/vnd.jupyter.widget-view+json": {
       "model_id": "",
       "version_major": 2,
       "version_minor": 0
      },
      "text/plain": [
       "Merge cycle:   0%|          | 0/1000 [00:00<?, ?it/s]"
      ]
     },
     "metadata": {},
     "output_type": "display_data"
    },
    {
     "data": {
      "application/vnd.jupyter.widget-view+json": {
       "model_id": "",
       "version_major": 2,
       "version_minor": 0
      },
      "text/plain": [
       "Digit:   0%|          | 0/10 [00:00<?, ?it/s]"
      ]
     },
     "metadata": {},
     "output_type": "display_data"
    },
    {
     "data": {
      "application/vnd.jupyter.widget-view+json": {
       "model_id": "",
       "version_major": 2,
       "version_minor": 0
      },
      "text/plain": [
       "Merge cycle:   0%|          | 0/1000 [00:00<?, ?it/s]"
      ]
     },
     "metadata": {},
     "output_type": "display_data"
    },
    {
     "data": {
      "application/vnd.jupyter.widget-view+json": {
       "model_id": "",
       "version_major": 2,
       "version_minor": 0
      },
      "text/plain": [
       "Merge cycle:   0%|          | 0/1000 [00:00<?, ?it/s]"
      ]
     },
     "metadata": {},
     "output_type": "display_data"
    },
    {
     "data": {
      "application/vnd.jupyter.widget-view+json": {
       "model_id": "",
       "version_major": 2,
       "version_minor": 0
      },
      "text/plain": [
       "Merge cycle:   0%|          | 0/1000 [00:00<?, ?it/s]"
      ]
     },
     "metadata": {},
     "output_type": "display_data"
    },
    {
     "data": {
      "application/vnd.jupyter.widget-view+json": {
       "model_id": "",
       "version_major": 2,
       "version_minor": 0
      },
      "text/plain": [
       "Merge cycle:   0%|          | 0/1000 [00:00<?, ?it/s]"
      ]
     },
     "metadata": {},
     "output_type": "display_data"
    },
    {
     "data": {
      "application/vnd.jupyter.widget-view+json": {
       "model_id": "b5367c9434d34256bdded2e1490db86c",
       "version_major": 2,
       "version_minor": 0
      },
      "text/plain": [
       "Merge cycle:   0%|          | 0/1000 [00:00<?, ?it/s]"
      ]
     },
     "metadata": {},
     "output_type": "display_data"
    },
    {
     "data": {
      "application/vnd.jupyter.widget-view+json": {
       "model_id": "53399deae6ae45aca8edf811091efd07",
       "version_major": 2,
       "version_minor": 0
      },
      "text/plain": [
       "Merge cycle:   0%|          | 0/1000 [00:00<?, ?it/s]"
      ]
     },
     "metadata": {},
     "output_type": "display_data"
    },
    {
     "data": {
      "application/vnd.jupyter.widget-view+json": {
       "model_id": "ec72dea3859c4343aaba4cbba34afcdd",
       "version_major": 2,
       "version_minor": 0
      },
      "text/plain": [
       "Merge cycle:   0%|          | 0/1000 [00:00<?, ?it/s]"
      ]
     },
     "metadata": {},
     "output_type": "display_data"
    },
    {
     "data": {
      "application/vnd.jupyter.widget-view+json": {
       "model_id": "baf5c84a577540d382043a7c2f29b72a",
       "version_major": 2,
       "version_minor": 0
      },
      "text/plain": [
       "Merge cycle:   0%|          | 0/1000 [00:00<?, ?it/s]"
      ]
     },
     "metadata": {},
     "output_type": "display_data"
    },
    {
     "data": {
      "application/vnd.jupyter.widget-view+json": {
       "model_id": "5cb5916c44844db8adaa33d9d7a17506",
       "version_major": 2,
       "version_minor": 0
      },
      "text/plain": [
       "Merge cycle:   0%|          | 0/1000 [00:00<?, ?it/s]"
      ]
     },
     "metadata": {},
     "output_type": "display_data"
    },
    {
     "data": {
      "application/vnd.jupyter.widget-view+json": {
       "model_id": "82b4b6efec3c47c8a82a9d3397813809",
       "version_major": 2,
       "version_minor": 0
      },
      "text/plain": [
       "Merge cycle:   0%|          | 0/1000 [00:00<?, ?it/s]"
      ]
     },
     "metadata": {},
     "output_type": "display_data"
    },
    {
     "data": {
      "application/vnd.jupyter.widget-view+json": {
       "model_id": "",
       "version_major": 2,
       "version_minor": 0
      },
      "text/plain": [
       "Digit:   0%|          | 0/10 [00:00<?, ?it/s]"
      ]
     },
     "metadata": {},
     "output_type": "display_data"
    },
    {
     "data": {
      "application/vnd.jupyter.widget-view+json": {
       "model_id": "6e4fe722fcc041828159a206860cb991",
       "version_major": 2,
       "version_minor": 0
      },
      "text/plain": [
       "Merge cycle:   0%|          | 0/1000 [00:00<?, ?it/s]"
      ]
     },
     "metadata": {},
     "output_type": "display_data"
    },
    {
     "data": {
      "application/vnd.jupyter.widget-view+json": {
       "model_id": "a8e8a3d979064e29ac8e40b6bc265f22",
       "version_major": 2,
       "version_minor": 0
      },
      "text/plain": [
       "Merge cycle:   0%|          | 0/1000 [00:00<?, ?it/s]"
      ]
     },
     "metadata": {},
     "output_type": "display_data"
    },
    {
     "data": {
      "application/vnd.jupyter.widget-view+json": {
       "model_id": "720afe1e67b148e0bbe3e1b728cb4802",
       "version_major": 2,
       "version_minor": 0
      },
      "text/plain": [
       "Merge cycle:   0%|          | 0/1000 [00:00<?, ?it/s]"
      ]
     },
     "metadata": {},
     "output_type": "display_data"
    },
    {
     "data": {
      "application/vnd.jupyter.widget-view+json": {
       "model_id": "e71dabfc434c47bea8944e4bd9f6b366",
       "version_major": 2,
       "version_minor": 0
      },
      "text/plain": [
       "Merge cycle:   0%|          | 0/1000 [00:00<?, ?it/s]"
      ]
     },
     "metadata": {},
     "output_type": "display_data"
    },
    {
     "data": {
      "application/vnd.jupyter.widget-view+json": {
       "model_id": "14fa0802cf8c4cfa91ba7d329c34febf",
       "version_major": 2,
       "version_minor": 0
      },
      "text/plain": [
       "Merge cycle:   0%|          | 0/1000 [00:00<?, ?it/s]"
      ]
     },
     "metadata": {},
     "output_type": "display_data"
    },
    {
     "data": {
      "application/vnd.jupyter.widget-view+json": {
       "model_id": "d078d3d25b524f8f843d39d35dcdc924",
       "version_major": 2,
       "version_minor": 0
      },
      "text/plain": [
       "Merge cycle:   0%|          | 0/1000 [00:00<?, ?it/s]"
      ]
     },
     "metadata": {},
     "output_type": "display_data"
    },
    {
     "data": {
      "application/vnd.jupyter.widget-view+json": {
       "model_id": "dcf6b6f1739249c385fd08383f9110f8",
       "version_major": 2,
       "version_minor": 0
      },
      "text/plain": [
       "Merge cycle:   0%|          | 0/1000 [00:00<?, ?it/s]"
      ]
     },
     "metadata": {},
     "output_type": "display_data"
    },
    {
     "data": {
      "application/vnd.jupyter.widget-view+json": {
       "model_id": "0c42fc36406b4ed69a6c8a716ca317ce",
       "version_major": 2,
       "version_minor": 0
      },
      "text/plain": [
       "Merge cycle:   0%|          | 0/1000 [00:00<?, ?it/s]"
      ]
     },
     "metadata": {},
     "output_type": "display_data"
    },
    {
     "data": {
      "application/vnd.jupyter.widget-view+json": {
       "model_id": "af8bd20307f64789ab6a3ec1082db4fe",
       "version_major": 2,
       "version_minor": 0
      },
      "text/plain": [
       "Merge cycle:   0%|          | 0/1000 [00:00<?, ?it/s]"
      ]
     },
     "metadata": {},
     "output_type": "display_data"
    },
    {
     "data": {
      "application/vnd.jupyter.widget-view+json": {
       "model_id": "",
       "version_major": 2,
       "version_minor": 0
      },
      "text/plain": [
       "Merge cycle:   0%|          | 0/1000 [00:00<?, ?it/s]"
      ]
     },
     "metadata": {},
     "output_type": "display_data"
    },
    {
     "data": {
      "application/vnd.jupyter.widget-view+json": {
       "model_id": "",
       "version_major": 2,
       "version_minor": 0
      },
      "text/plain": [
       "Digit:   0%|          | 0/10 [00:00<?, ?it/s]"
      ]
     },
     "metadata": {},
     "output_type": "display_data"
    },
    {
     "data": {
      "application/vnd.jupyter.widget-view+json": {
       "model_id": "",
       "version_major": 2,
       "version_minor": 0
      },
      "text/plain": [
       "Merge cycle:   0%|          | 0/1000 [00:00<?, ?it/s]"
      ]
     },
     "metadata": {},
     "output_type": "display_data"
    },
    {
     "data": {
      "application/vnd.jupyter.widget-view+json": {
       "model_id": "",
       "version_major": 2,
       "version_minor": 0
      },
      "text/plain": [
       "Merge cycle:   0%|          | 0/1000 [00:00<?, ?it/s]"
      ]
     },
     "metadata": {},
     "output_type": "display_data"
    },
    {
     "data": {
      "application/vnd.jupyter.widget-view+json": {
       "model_id": "",
       "version_major": 2,
       "version_minor": 0
      },
      "text/plain": [
       "Merge cycle:   0%|          | 0/1000 [00:00<?, ?it/s]"
      ]
     },
     "metadata": {},
     "output_type": "display_data"
    },
    {
     "data": {
      "application/vnd.jupyter.widget-view+json": {
       "model_id": "",
       "version_major": 2,
       "version_minor": 0
      },
      "text/plain": [
       "Merge cycle:   0%|          | 0/1000 [00:00<?, ?it/s]"
      ]
     },
     "metadata": {},
     "output_type": "display_data"
    },
    {
     "data": {
      "application/vnd.jupyter.widget-view+json": {
       "model_id": "",
       "version_major": 2,
       "version_minor": 0
      },
      "text/plain": [
       "Merge cycle:   0%|          | 0/1000 [00:00<?, ?it/s]"
      ]
     },
     "metadata": {},
     "output_type": "display_data"
    },
    {
     "data": {
      "application/vnd.jupyter.widget-view+json": {
       "model_id": "",
       "version_major": 2,
       "version_minor": 0
      },
      "text/plain": [
       "Merge cycle:   0%|          | 0/1000 [00:00<?, ?it/s]"
      ]
     },
     "metadata": {},
     "output_type": "display_data"
    },
    {
     "data": {
      "application/vnd.jupyter.widget-view+json": {
       "model_id": "",
       "version_major": 2,
       "version_minor": 0
      },
      "text/plain": [
       "Merge cycle:   0%|          | 0/1000 [00:00<?, ?it/s]"
      ]
     },
     "metadata": {},
     "output_type": "display_data"
    },
    {
     "data": {
      "application/vnd.jupyter.widget-view+json": {
       "model_id": "",
       "version_major": 2,
       "version_minor": 0
      },
      "text/plain": [
       "Merge cycle:   0%|          | 0/1000 [00:00<?, ?it/s]"
      ]
     },
     "metadata": {},
     "output_type": "display_data"
    },
    {
     "data": {
      "application/vnd.jupyter.widget-view+json": {
       "model_id": "",
       "version_major": 2,
       "version_minor": 0
      },
      "text/plain": [
       "Merge cycle:   0%|          | 0/1000 [00:00<?, ?it/s]"
      ]
     },
     "metadata": {},
     "output_type": "display_data"
    },
    {
     "data": {
      "application/vnd.jupyter.widget-view+json": {
       "model_id": "",
       "version_major": 2,
       "version_minor": 0
      },
      "text/plain": [
       "Merge cycle:   0%|          | 0/1000 [00:00<?, ?it/s]"
      ]
     },
     "metadata": {},
     "output_type": "display_data"
    },
    {
     "data": {
      "application/vnd.jupyter.widget-view+json": {
       "model_id": "",
       "version_major": 2,
       "version_minor": 0
      },
      "text/plain": [
       "Digit:   0%|          | 0/10 [00:00<?, ?it/s]"
      ]
     },
     "metadata": {},
     "output_type": "display_data"
    },
    {
     "data": {
      "application/vnd.jupyter.widget-view+json": {
       "model_id": "",
       "version_major": 2,
       "version_minor": 0
      },
      "text/plain": [
       "Merge cycle:   0%|          | 0/1000 [00:00<?, ?it/s]"
      ]
     },
     "metadata": {},
     "output_type": "display_data"
    },
    {
     "data": {
      "application/vnd.jupyter.widget-view+json": {
       "model_id": "",
       "version_major": 2,
       "version_minor": 0
      },
      "text/plain": [
       "Merge cycle:   0%|          | 0/1000 [00:00<?, ?it/s]"
      ]
     },
     "metadata": {},
     "output_type": "display_data"
    },
    {
     "data": {
      "application/vnd.jupyter.widget-view+json": {
       "model_id": "",
       "version_major": 2,
       "version_minor": 0
      },
      "text/plain": [
       "Merge cycle:   0%|          | 0/1000 [00:00<?, ?it/s]"
      ]
     },
     "metadata": {},
     "output_type": "display_data"
    },
    {
     "data": {
      "application/vnd.jupyter.widget-view+json": {
       "model_id": "",
       "version_major": 2,
       "version_minor": 0
      },
      "text/plain": [
       "Merge cycle:   0%|          | 0/1000 [00:00<?, ?it/s]"
      ]
     },
     "metadata": {},
     "output_type": "display_data"
    },
    {
     "data": {
      "application/vnd.jupyter.widget-view+json": {
       "model_id": "",
       "version_major": 2,
       "version_minor": 0
      },
      "text/plain": [
       "Merge cycle:   0%|          | 0/1000 [00:00<?, ?it/s]"
      ]
     },
     "metadata": {},
     "output_type": "display_data"
    },
    {
     "data": {
      "application/vnd.jupyter.widget-view+json": {
       "model_id": "",
       "version_major": 2,
       "version_minor": 0
      },
      "text/plain": [
       "Merge cycle:   0%|          | 0/1000 [00:00<?, ?it/s]"
      ]
     },
     "metadata": {},
     "output_type": "display_data"
    },
    {
     "data": {
      "application/vnd.jupyter.widget-view+json": {
       "model_id": "",
       "version_major": 2,
       "version_minor": 0
      },
      "text/plain": [
       "Merge cycle:   0%|          | 0/1000 [00:00<?, ?it/s]"
      ]
     },
     "metadata": {},
     "output_type": "display_data"
    },
    {
     "data": {
      "application/vnd.jupyter.widget-view+json": {
       "model_id": "",
       "version_major": 2,
       "version_minor": 0
      },
      "text/plain": [
       "Merge cycle:   0%|          | 0/1000 [00:00<?, ?it/s]"
      ]
     },
     "metadata": {},
     "output_type": "display_data"
    },
    {
     "data": {
      "application/vnd.jupyter.widget-view+json": {
       "model_id": "",
       "version_major": 2,
       "version_minor": 0
      },
      "text/plain": [
       "Merge cycle:   0%|          | 0/1000 [00:00<?, ?it/s]"
      ]
     },
     "metadata": {},
     "output_type": "display_data"
    },
    {
     "data": {
      "application/vnd.jupyter.widget-view+json": {
       "model_id": "",
       "version_major": 2,
       "version_minor": 0
      },
      "text/plain": [
       "Merge cycle:   0%|          | 0/1000 [00:00<?, ?it/s]"
      ]
     },
     "metadata": {},
     "output_type": "display_data"
    },
    {
     "data": {
      "application/vnd.jupyter.widget-view+json": {
       "model_id": "",
       "version_major": 2,
       "version_minor": 0
      },
      "text/plain": [
       "Digit:   0%|          | 0/10 [00:00<?, ?it/s]"
      ]
     },
     "metadata": {},
     "output_type": "display_data"
    },
    {
     "data": {
      "application/vnd.jupyter.widget-view+json": {
       "model_id": "",
       "version_major": 2,
       "version_minor": 0
      },
      "text/plain": [
       "Merge cycle:   0%|          | 0/1000 [00:00<?, ?it/s]"
      ]
     },
     "metadata": {},
     "output_type": "display_data"
    },
    {
     "data": {
      "application/vnd.jupyter.widget-view+json": {
       "model_id": "",
       "version_major": 2,
       "version_minor": 0
      },
      "text/plain": [
       "Merge cycle:   0%|          | 0/1000 [00:00<?, ?it/s]"
      ]
     },
     "metadata": {},
     "output_type": "display_data"
    },
    {
     "data": {
      "application/vnd.jupyter.widget-view+json": {
       "model_id": "",
       "version_major": 2,
       "version_minor": 0
      },
      "text/plain": [
       "Merge cycle:   0%|          | 0/1000 [00:00<?, ?it/s]"
      ]
     },
     "metadata": {},
     "output_type": "display_data"
    },
    {
     "data": {
      "application/vnd.jupyter.widget-view+json": {
       "model_id": "",
       "version_major": 2,
       "version_minor": 0
      },
      "text/plain": [
       "Merge cycle:   0%|          | 0/1000 [00:00<?, ?it/s]"
      ]
     },
     "metadata": {},
     "output_type": "display_data"
    },
    {
     "data": {
      "application/vnd.jupyter.widget-view+json": {
       "model_id": "",
       "version_major": 2,
       "version_minor": 0
      },
      "text/plain": [
       "Merge cycle:   0%|          | 0/1000 [00:00<?, ?it/s]"
      ]
     },
     "metadata": {},
     "output_type": "display_data"
    },
    {
     "data": {
      "application/vnd.jupyter.widget-view+json": {
       "model_id": "",
       "version_major": 2,
       "version_minor": 0
      },
      "text/plain": [
       "Merge cycle:   0%|          | 0/1000 [00:00<?, ?it/s]"
      ]
     },
     "metadata": {},
     "output_type": "display_data"
    },
    {
     "data": {
      "application/vnd.jupyter.widget-view+json": {
       "model_id": "",
       "version_major": 2,
       "version_minor": 0
      },
      "text/plain": [
       "Merge cycle:   0%|          | 0/1000 [00:00<?, ?it/s]"
      ]
     },
     "metadata": {},
     "output_type": "display_data"
    },
    {
     "data": {
      "application/vnd.jupyter.widget-view+json": {
       "model_id": "",
       "version_major": 2,
       "version_minor": 0
      },
      "text/plain": [
       "Merge cycle:   0%|          | 0/1000 [00:00<?, ?it/s]"
      ]
     },
     "metadata": {},
     "output_type": "display_data"
    },
    {
     "data": {
      "application/vnd.jupyter.widget-view+json": {
       "model_id": "",
       "version_major": 2,
       "version_minor": 0
      },
      "text/plain": [
       "Merge cycle:   0%|          | 0/1000 [00:00<?, ?it/s]"
      ]
     },
     "metadata": {},
     "output_type": "display_data"
    },
    {
     "data": {
      "application/vnd.jupyter.widget-view+json": {
       "model_id": "",
       "version_major": 2,
       "version_minor": 0
      },
      "text/plain": [
       "Merge cycle:   0%|          | 0/1000 [00:00<?, ?it/s]"
      ]
     },
     "metadata": {},
     "output_type": "display_data"
    },
    {
     "data": {
      "application/vnd.jupyter.widget-view+json": {
       "model_id": "",
       "version_major": 2,
       "version_minor": 0
      },
      "text/plain": [
       "Digit:   0%|          | 0/10 [00:00<?, ?it/s]"
      ]
     },
     "metadata": {},
     "output_type": "display_data"
    },
    {
     "data": {
      "application/vnd.jupyter.widget-view+json": {
       "model_id": "",
       "version_major": 2,
       "version_minor": 0
      },
      "text/plain": [
       "Merge cycle:   0%|          | 0/1000 [00:00<?, ?it/s]"
      ]
     },
     "metadata": {},
     "output_type": "display_data"
    },
    {
     "data": {
      "application/vnd.jupyter.widget-view+json": {
       "model_id": "",
       "version_major": 2,
       "version_minor": 0
      },
      "text/plain": [
       "Merge cycle:   0%|          | 0/1000 [00:00<?, ?it/s]"
      ]
     },
     "metadata": {},
     "output_type": "display_data"
    },
    {
     "data": {
      "application/vnd.jupyter.widget-view+json": {
       "model_id": "",
       "version_major": 2,
       "version_minor": 0
      },
      "text/plain": [
       "Merge cycle:   0%|          | 0/1000 [00:00<?, ?it/s]"
      ]
     },
     "metadata": {},
     "output_type": "display_data"
    },
    {
     "data": {
      "application/vnd.jupyter.widget-view+json": {
       "model_id": "",
       "version_major": 2,
       "version_minor": 0
      },
      "text/plain": [
       "Merge cycle:   0%|          | 0/1000 [00:00<?, ?it/s]"
      ]
     },
     "metadata": {},
     "output_type": "display_data"
    },
    {
     "data": {
      "application/vnd.jupyter.widget-view+json": {
       "model_id": "",
       "version_major": 2,
       "version_minor": 0
      },
      "text/plain": [
       "Merge cycle:   0%|          | 0/1000 [00:00<?, ?it/s]"
      ]
     },
     "metadata": {},
     "output_type": "display_data"
    },
    {
     "data": {
      "application/vnd.jupyter.widget-view+json": {
       "model_id": "",
       "version_major": 2,
       "version_minor": 0
      },
      "text/plain": [
       "Merge cycle:   0%|          | 0/1000 [00:00<?, ?it/s]"
      ]
     },
     "metadata": {},
     "output_type": "display_data"
    },
    {
     "data": {
      "application/vnd.jupyter.widget-view+json": {
       "model_id": "",
       "version_major": 2,
       "version_minor": 0
      },
      "text/plain": [
       "Merge cycle:   0%|          | 0/1000 [00:00<?, ?it/s]"
      ]
     },
     "metadata": {},
     "output_type": "display_data"
    },
    {
     "data": {
      "application/vnd.jupyter.widget-view+json": {
       "model_id": "",
       "version_major": 2,
       "version_minor": 0
      },
      "text/plain": [
       "Merge cycle:   0%|          | 0/1000 [00:00<?, ?it/s]"
      ]
     },
     "metadata": {},
     "output_type": "display_data"
    },
    {
     "data": {
      "application/vnd.jupyter.widget-view+json": {
       "model_id": "",
       "version_major": 2,
       "version_minor": 0
      },
      "text/plain": [
       "Merge cycle:   0%|          | 0/1000 [00:00<?, ?it/s]"
      ]
     },
     "metadata": {},
     "output_type": "display_data"
    },
    {
     "data": {
      "application/vnd.jupyter.widget-view+json": {
       "model_id": "",
       "version_major": 2,
       "version_minor": 0
      },
      "text/plain": [
       "Merge cycle:   0%|          | 0/1000 [00:00<?, ?it/s]"
      ]
     },
     "metadata": {},
     "output_type": "display_data"
    }
   ],
   "source": [
    "# MEMORY CONSOLIDATION\n",
    "max_consolidation_cycles = 1000\n",
    "blank_cycles_threshold = 50\n",
    "    \n",
    "for column_id, column in tqdm(COLUMNS.items(), desc='Column'):\n",
    "    for digit_hdv_index, tab in tqdm(column.short_memory.items(), leave=False, desc='Digit', total=len(column.short_memory)):\n",
    "        # Here we have all source HDVs associated with SINGLE taget_hdv via assoc_hdvs.\n",
    "        # Our goal is to optimize associations by bundling them together,\n",
    "        # but without breaking associations. The latter (breaking) could happen because\n",
    "        # we could have several distinct clusters (say A, B, C) which map to X.\n",
    "        # Should we bundle all these cluster into one megabundle then some of associations will get broken\n",
    "        \n",
    "        assoc_hdvs_count = tab['assoc_hdvs'].shape[0]\n",
    "        assert assoc_hdvs_count > 0\n",
    "        random_tuples_count = assoc_hdvs_count * (assoc_hdvs_count - 1) // 2\n",
    "        consolidation_cycles_ = min(random_tuples_count, max_consolidation_cycles)\n",
    "        log.debug(f'[COL={column_id}] Begin consolidation for digit HDV index={digit_hdv_index}, assoc HDVs before={assoc_hdvs_count}, cycles={consolidation_cycles_}')\n",
    "        attempted_merges = set() # track of merge attempts to avoid excessive merges of the same hdvs over and over again\n",
    "        blank_cycles_count = 0\n",
    "        \n",
    "        #####\n",
    "        digit_proximities = xp.zeros((tab['source_hdvs'].shape[0], tab['assoc_hdvs'].shape[0]))\n",
    "        assoc_hdvs_capped = xp.sign(tab['assoc_hdvs']).astype('b')\n",
    "        \n",
    "        for source_hdv_index, source_hdv in enumerate(tab['source_hdvs']):\n",
    "            assoc_results = assoc_hdvs_capped * source_hdv # map source hdv via multiple assoc_hdvs\n",
    "            assoc_results_norm = hdc.normalize(assoc_results)\n",
    "            # how close is mapped source hdv to digit HDV via each assoc HDV?\n",
    "            # shape=(new_assoc_hdvs.shape[0],) - cos sim of source hdvs with digit HDV via each assoc HDV\n",
    "            digit_proximities[source_hdv_index] = assoc_results_norm @ DIGITS_NORM[digit_hdv_index]\n",
    "        #####\n",
    "\n",
    "        do_verify_digit_proximities = False\n",
    "\n",
    "        for _ in tqdm(range(consolidation_cycles_), leave=False, desc='Merge cycle'):\n",
    "            if do_verify_digit_proximities:\n",
    "                do_verify_digit_proximities = False\n",
    "\n",
    "                digit_proximities_vrf = xp.zeros((tab['source_hdvs'].shape[0], tab['assoc_hdvs'].shape[0]))\n",
    "                assoc_hdvs_capped = xp.sign(tab['assoc_hdvs']).astype('b')\n",
    "                \n",
    "                for source_hdv_index, source_hdv in enumerate(tab['source_hdvs']):\n",
    "                    assoc_results = assoc_hdvs_capped * source_hdv # map source hdv via multiple assoc_hdvs\n",
    "                    assoc_results_norm = hdc.normalize(assoc_results)\n",
    "                    # how close is mapped source hdv to digit HDV via each assoc HDV?\n",
    "                    # shape=(new_assoc_hdvs.shape[0],) - cos sim of source hdvs with digit HDV via each assoc HDV\n",
    "                    digit_proximities_vrf[source_hdv_index] = assoc_results_norm @ DIGITS_NORM[digit_hdv_index]\n",
    "\n",
    "                assert xp.allclose(digit_proximities_vrf, digit_proximities)\n",
    "                log.debug('verify ok')\n",
    "            \n",
    "            if tab['assoc_hdvs'].shape[0] <= 1:\n",
    "                continue # don't break to not break tqdm's progress bar =)\n",
    "    \n",
    "            if blank_cycles_count > blank_cycles_threshold:\n",
    "                continue # stop doing low effective cycles\n",
    "            \n",
    "            assert tab['assoc_hdvs'].shape[0] > 1\n",
    "            assoc_hdv_indices_raw = list(range(tab['assoc_hdvs'].shape[0]))\n",
    "            \n",
    "            for assoc_hdv_indices_to_merge_count in [16, 8, 4, 2]:\n",
    "                if assoc_hdv_indices_to_merge_count > tab['assoc_hdvs'].shape[0]:\n",
    "                    continue\n",
    "\n",
    "                # 1. Pick random assoc HDVs and merge together\n",
    "                assoc_hdv_indices_to_merge = RNG.choice(assoc_hdv_indices_raw, assoc_hdv_indices_to_merge_count, replace=False)\n",
    "                assoc_hdv_indices_to_merge_codestring = ','.join(map(str, assoc_hdv_indices_to_merge))\n",
    "    \n",
    "                if assoc_hdv_indices_to_merge_codestring in attempted_merges:\n",
    "                    log.debug(f'[COL={column_id}] Consolidation digit HDV index={digit_hdv_index}, assocs={tab['assoc_hdvs'].shape[0]}, merge assocs {assoc_hdv_indices_to_merge_codestring} skip due to repetition')\n",
    "                    continue\n",
    "                else:\n",
    "                    attempted_merges.add(assoc_hdv_indices_to_merge_codestring)\n",
    "                    \n",
    "                log.debug(f'[COL={column_id}] Consolidation digit HDV index={digit_hdv_index}, assocs={tab['assoc_hdvs'].shape[0]}, merge assocs {assoc_hdv_indices_to_merge_codestring}')\n",
    "                \n",
    "                assoc_hdv_indices_to_take = set(assoc_hdv_indices_raw) - set(assoc_hdv_indices_to_merge)\n",
    "                assoc_hdv_indices_to_take = [0] + list(assoc_hdv_indices_to_take) # 0 will be overwritten by new_assoc_hdv\n",
    "                new_assoc_hdv = hdc.bundle(xp.take(tab['assoc_hdvs'], assoc_hdv_indices_to_merge, axis=0))\n",
    "        \n",
    "                # 2. Check that association invariant still holds place for all source HDVs. Commit or rollback merge accordingly\n",
    "                assoc_results = tab['source_hdvs'] * new_assoc_hdv # map source hdvs via new assoc_hdv\n",
    "                assoc_results_norm = hdc.normalize(assoc_results)\n",
    "                digit_proximities_for_new_assoc_hdv = assoc_results_norm @ DIGITS_NORM[digit_hdv_index] # how close are mapped source hdvs to digit HDV via new assoc HDV?\n",
    "                    \n",
    "                digit_proximities_local = xp.take(digit_proximities.T, assoc_hdv_indices_to_take, axis=0)\n",
    "                digit_proximities_local[0] = digit_proximities_for_new_assoc_hdv\n",
    "                digit_proximities_local = digit_proximities_local.T # back from assoc,source -> source,assoc\n",
    "                \n",
    "                if xp.any(xp.max(digit_proximities_local, axis=1) < COS_SIM_THRESHOLD):\n",
    "                    # We broke some associations. Forget\n",
    "                    log.debug(f'[COL={column_id}] Consolidation digit HDV index={digit_hdv_index}, merge of {assoc_hdv_indices_to_merge_codestring} is BREAKING')\n",
    "                    continue\n",
    "                else:\n",
    "                    # We didn't break any associations. Replace tab['assoc_hdvs'] with more compact version\n",
    "                    log.debug(f'[COL={column_id}] Consolidation digit HDV index={digit_hdv_index}, merge of {assoc_hdv_indices_to_merge_codestring} is OK')\n",
    "                    new_assoc_hdvs_uncapped = xp.take(tab['assoc_hdvs'], assoc_hdv_indices_to_take, axis=0)\n",
    "                    new_assoc_hdvs_uncapped[0] = xp.sum(xp.take(tab['assoc_hdvs'], assoc_hdv_indices_to_merge, axis=0), axis=0)\n",
    "                    tab['assoc_hdvs'] = new_assoc_hdvs_uncapped\n",
    "                    digit_proximities = digit_proximities_local\n",
    "                    \n",
    "                    attempted_merges = set()\n",
    "                    blank_cycles_count = 0\n",
    "                    # do_verify_digit_proximities = True\n",
    "                    break\n",
    "            else:\n",
    "                blank_cycles_count += 1\n",
    "                log.debug(f'[COL={column_id}] Consolidation digit HDV index={digit_hdv_index}, blank cycles={blank_cycles_count} / {blank_cycles_threshold}')\n",
    "    \n",
    "        log.debug(f'[COL={column_id}] End consolidation for digit HDV index={digit_hdv_index}, assoc HDVs before={assoc_hdvs_count}, after={tab['assoc_hdvs'].shape[0]}, reduced by {assoc_hdvs_count - tab['assoc_hdvs'].shape[0]} ({(1 - tab['assoc_hdvs'].shape[0] / assoc_hdvs_count)*100:.2f}%)')"
   ]
  },
  {
   "cell_type": "code",
   "execution_count": null,
   "id": "e138dee6-0833-4bc3-a389-c118bd480565",
   "metadata": {},
   "outputs": [],
   "source": []
  },
  {
   "cell_type": "code",
   "execution_count": 15,
   "id": "c0b56ec5-7e3c-4d78-970b-cab45003054e",
   "metadata": {},
   "outputs": [
    {
     "data": {
      "application/vnd.jupyter.widget-view+json": {
       "model_id": "16459bcb7e2547e4aa210a729b5aa266",
       "version_major": 2,
       "version_minor": 0
      },
      "text/plain": [
       "  0%|          | 0/10 [00:00<?, ?it/s]"
      ]
     },
     "metadata": {},
     "output_type": "display_data"
    },
    {
     "name": "stdout",
     "output_type": "stream",
     "text": [
      "Column 0 has 135 digit projections\n",
      "Column 1 has 165 digit projections\n",
      "Column 2 has 164 digit projections\n",
      "Column 3 has 143 digit projections\n",
      "Column 4 has 153 digit projections\n",
      "Column 5 has 193 digit projections\n",
      "Column 6 has 179 digit projections\n",
      "Column 7 has 124 digit projections\n",
      "Column 8 has 152 digit projections\n",
      "Column 9 has 125 digit projections\n"
     ]
    }
   ],
   "source": [
    "for column_id, column in tqdm(COLUMNS.items()):\n",
    "    column.digit_projection_norm_hdvs = []\n",
    "    l = sum(map(lambda v: v['assoc_hdvs'].shape[0], column.short_memory.values()))\n",
    "    column.digit_affinity_masks = xp.zeros((len(column.short_memory), l), dtype='b')\n",
    "    affinity_mask_lo = 0\n",
    "    checksums = {}\n",
    "    \n",
    "    for digit_hdv_index, tab in column.short_memory.items():\n",
    "        digit_hdv = DIGITS[digit_hdv_index]\n",
    "        assoc_hdvs = xp.sign(tab['assoc_hdvs']) # back to bipolar hdv\n",
    "        digit_projection_hdvs = digit_hdv * assoc_hdvs\n",
    "        digit_projection_norm_hdvs = hdc.normalize(digit_projection_hdvs)\n",
    "        column.digit_projection_norm_hdvs.append(digit_projection_norm_hdvs)\n",
    "        checksums[digit_hdv_index] = xp.sum(digit_projection_norm_hdvs)\n",
    "        projections_count_deployed = digit_projection_hdvs.shape[0]\n",
    "        column.digit_affinity_masks[digit_hdv_index][affinity_mask_lo:affinity_mask_lo+projections_count_deployed] = 1\n",
    "        affinity_mask_lo += projections_count_deployed\n",
    "\n",
    "    assert xp.all(xp.sum(column.digit_affinity_masks, axis=0) == 1)\n",
    "\n",
    "    column.digit_projection_norm_hdvs = xp.vstack(column.digit_projection_norm_hdvs)\n",
    "    \n",
    "    for digit_hdv_index in column.short_memory.keys():\n",
    "        sum1 = checksums[digit_hdv_index]\n",
    "        sum2 = (column.digit_projection_norm_hdvs.T * column.digit_affinity_masks[digit_hdv_index]).sum()\n",
    "        assert xp.isclose(sum1, sum2)\n",
    "\n",
    "    print(f'Column {column_id} has {column.digit_projection_norm_hdvs.shape[0]} digit projections')"
   ]
  },
  {
   "cell_type": "code",
   "execution_count": null,
   "id": "248c4819-3e59-4afc-9e10-fdb107a1d7f5",
   "metadata": {},
   "outputs": [],
   "source": []
  },
  {
   "cell_type": "code",
   "execution_count": 16,
   "id": "0e574f93-f84d-46f2-aa55-57fdfbf785a1",
   "metadata": {},
   "outputs": [],
   "source": [
    "def softmax(x):\n",
    "    max_x = np.max(x)\n",
    "    exp_x = np.exp(x - max_x)\n",
    "    sum_exp_x = np.sum(exp_x)\n",
    "    return exp_x / sum_exp_x\n",
    "\n",
    "def conflate(pdfs):    \n",
    "    n = np.prod(pdfs, axis=0)\n",
    "    d = n.sum()\n",
    "\n",
    "    if np.isclose(d, 0):\n",
    "        return np.zeros(len(pdfs))\n",
    "        \n",
    "    return n / d"
   ]
  },
  {
   "cell_type": "code",
   "execution_count": 45,
   "id": "f4121753-ceb0-46ca-b7fb-8c0de79a4eef",
   "metadata": {},
   "outputs": [
    {
     "data": {
      "text/plain": [
       "array([[0., 0., 0., 0., 0., 0., 0., 0., 0., 1.],\n",
       "       [0., 0., 0., 0., 0., 0., 0., 0., 1., 0.],\n",
       "       [0., 0., 0., 0., 0., 0., 0., 0., 0., 1.],\n",
       "       [0., 0., 0., 0., 0., 0., 0., 0., 0., 1.],\n",
       "       [0., 0., 0., 0., 0., 0., 0., 1., 0., 0.],\n",
       "       [0., 0., 0., 0., 0., 0., 0., 0., 0., 1.],\n",
       "       [0., 0., 0., 1., 0., 0., 0., 0., 0., 0.],\n",
       "       [0., 0., 0., 0., 0., 0., 0., 0., 0., 1.],\n",
       "       [0., 0., 0., 0., 0., 0., 0., 0., 0., 1.],\n",
       "       [0., 0., 0., 0., 0., 0., 0., 0., 0., 1.]])"
      ]
     },
     "execution_count": 45,
     "metadata": {},
     "output_type": "execute_result"
    }
   ],
   "source": [
    "np.round(consensus_digits_probabilities2)"
   ]
  },
  {
   "cell_type": "code",
   "execution_count": 46,
   "id": "d5efcc5b-ee82-457b-a18e-6972e51692e5",
   "metadata": {},
   "outputs": [
    {
     "data": {
      "text/plain": [
       "array([0., 0., 0., 0., 0., 0., 0., 0., 0., 0.])"
      ]
     },
     "execution_count": 46,
     "metadata": {},
     "output_type": "execute_result"
    }
   ],
   "source": [
    "np.round(conflate(consensus_digits_probabilities2))"
   ]
  },
  {
   "cell_type": "code",
   "execution_count": 49,
   "id": "850a24cc-2ec8-4dcb-bce8-ff8873af1cf2",
   "metadata": {},
   "outputs": [
    {
     "data": {
      "text/plain": [
       "array([0., 0., 0., 0., 0., 0., 0., 0., 0., 0.])"
      ]
     },
     "execution_count": 49,
     "metadata": {},
     "output_type": "execute_result"
    }
   ],
   "source": [
    "np.round(np.prod(consensus_digits_probabilities2, axis=0))"
   ]
  },
  {
   "cell_type": "code",
   "execution_count": 52,
   "id": "399394cf-e157-47f4-b1be-d20df45d1845",
   "metadata": {},
   "outputs": [
    {
     "data": {
      "text/plain": [
       "array([[ 1.,  1.,  2., 13., 14., 14.,  2., 32., 14., 35.],\n",
       "       [17.,  0.,  7., 12., 14., 25.,  5.,  3., 42., 35.],\n",
       "       [ 0.,  1.,  0., 10., 18., 11.,  1., 34.,  3., 37.],\n",
       "       [ 2.,  2., 17., 20., 23.,  9.,  2., 23., 15., 38.],\n",
       "       [ 0.,  0.,  0., 11., 15., 13.,  1., 46.,  3., 32.],\n",
       "       [26.,  1.,  3.,  2., 20., 43., 11., 10., 49., 50.],\n",
       "       [ 3., 12., 38., 46., 28.,  5.,  2., 30., 26., 39.],\n",
       "       [ 0.,  1.,  3., 13., 17., 12.,  0., 29.,  9., 34.],\n",
       "       [ 0.,  2., 14., 21., 28.,  8.,  5., 24.,  8., 46.],\n",
       "       [ 0.,  1.,  1., 11., 22., 12.,  1., 29.,  6., 37.]])"
      ]
     },
     "execution_count": 52,
     "metadata": {},
     "output_type": "execute_result"
    }
   ],
   "source": [
    "np.round(consensus_digits_cos_sims)"
   ]
  },
  {
   "cell_type": "code",
   "execution_count": 50,
   "id": "bb5ad01e-6971-4e51-af47-17c3def12ebb",
   "metadata": {},
   "outputs": [
    {
     "data": {
      "text/plain": [
       "array([0., 0., 0., 0., 0., 0., 0., 0., 0., 1.])"
      ]
     },
     "execution_count": 50,
     "metadata": {},
     "output_type": "execute_result"
    }
   ],
   "source": [
    "np.round(softmax(np.sum(consensus_digits_cos_sims, axis=0)))"
   ]
  },
  {
   "cell_type": "code",
   "execution_count": 44,
   "id": "dedefb7f-24e7-43ca-91d6-eecc3fbaeb17",
   "metadata": {},
   "outputs": [
    {
     "data": {
      "application/vnd.jupyter.widget-view+json": {
       "model_id": "e6a4b6c18eb0471fba410f4520cbfa8b",
       "version_major": 2,
       "version_minor": 0
      },
      "text/plain": [
       "  0%|          | 0/10 [00:00<?, ?it/s]"
      ]
     },
     "metadata": {},
     "output_type": "display_data"
    },
    {
     "ename": "AssertionError",
     "evalue": "",
     "output_type": "error",
     "traceback": [
      "\u001b[0;31m---------------------------------------------------------------------------\u001b[0m",
      "\u001b[0;31mAssertionError\u001b[0m                            Traceback (most recent call last)",
      "Cell \u001b[0;32mIn[44], line 53\u001b[0m\n\u001b[1;32m     51\u001b[0m     digit_index \u001b[38;5;241m=\u001b[39m RNG\u001b[38;5;241m.\u001b[39mchoice(DIGITS\u001b[38;5;241m.\u001b[39mshape[\u001b[38;5;241m0\u001b[39m], p\u001b[38;5;241m=\u001b[39mconsensus_digits_probabilities)\n\u001b[1;32m     52\u001b[0m \u001b[38;5;28;01melse\u001b[39;00m:\n\u001b[0;32m---> 53\u001b[0m     \u001b[38;5;28;01massert\u001b[39;00m \u001b[38;5;28;01mFalse\u001b[39;00m\n\u001b[1;32m     55\u001b[0m test_result_rows[\u001b[38;5;124m'\u001b[39m\u001b[38;5;124msource_ds\u001b[39m\u001b[38;5;124m'\u001b[39m]\u001b[38;5;241m.\u001b[39mappend(test_run_source[\u001b[38;5;241m2\u001b[39m])\n\u001b[1;32m     56\u001b[0m test_result_rows[\u001b[38;5;124m'\u001b[39m\u001b[38;5;124mtest_run_id\u001b[39m\u001b[38;5;124m'\u001b[39m]\u001b[38;5;241m.\u001b[39mappend(TEST_RUN_ID)\n",
      "\u001b[0;31mAssertionError\u001b[0m: "
     ]
    }
   ],
   "source": [
    "# TEST RUN\n",
    "TEST_RUN_ID += 1\n",
    "count = 10\n",
    "test_run_source = (df_test_images, test_db_con, 'test')\n",
    "# test_run_source = (df_train_images, train_db_con, 'train')\n",
    "test_image_ids = RNG.choice(test_run_source[0].index.unique(), count, replace=False)\n",
    "test_result_rows = defaultdict(list)\n",
    "\n",
    "for image_id in tqdm(test_image_ids):\n",
    "    image_value = test_run_source[0].loc[image_id]['value']\n",
    "    consensus_digits_cos_sims = []\n",
    "    consensus_digits_probabilities2 = []\n",
    "    # df_image_encodings_all_columns = pd.read_sql('SELECT column_id, hdv_bundle as hdv FROM image_encoding_hdv_bundles WHERE image_id=:image_id', \n",
    "    #                                              params={'image_id': int(image_id)},\n",
    "    #                                              con=test_run_source[1])\n",
    "    \n",
    "    df_image_encodings_all_columns = pd.read_sql('SELECT column_id, hdv FROM image_encodings WHERE image_id=:image_id', \n",
    "                                                 params={'image_id': int(image_id)},\n",
    "                                                 con=test_run_source[1])\n",
    "\n",
    "    for column_id, column in COLUMNS.items():\n",
    "        df_image_encodings = df_image_encodings_all_columns[df_image_encodings_all_columns['column_id'] == column_id]\n",
    "        assert len(df_image_encodings) > 0\n",
    "        image_encoding_hdvs = xp_array_to_gpu(np.array(list(map(lambda h: np.frombuffer(h, dtype='b'), df_image_encodings['hdv']))))\n",
    "        image_encoding_norm_hdvs = hdc.normalize(image_encoding_hdvs)\n",
    "        digit_projections_cos_sims = image_encoding_norm_hdvs @ column.digit_projection_norm_hdvs.T\n",
    "        digit_projections_cos_sims[digit_projections_cos_sims < COS_SIM_THRESHOLD] = 0\n",
    "        # reduce to vector of aggregated cos sims to each digit projection\n",
    "        digit_projections_cos_sims = xp.sum(digit_projections_cos_sims, axis=0)\n",
    "        assert digit_projections_cos_sims.shape == (column.digit_projection_norm_hdvs.shape[0], )\n",
    "        digits_cos_sims = digit_projections_cos_sims @ column.digit_affinity_masks.T\n",
    "        consensus_digits_cos_sims.append(xp_array_from_gpu(digits_cos_sims))\n",
    "        consensus_digits_probabilities2.append(softmax(xp_array_from_gpu(digits_cos_sims)))\n",
    "        \n",
    "\n",
    "    # v1 and v2 are somewhat alike. v3 produces low infers, but high accuracy vs infers\n",
    "    \n",
    "    # v1\n",
    "    # consensus_digits_cos_sims = np.sum(consensus_digits_cos_sims, axis=0)\n",
    "    # consensus_digits_probabilities = softmax(consensus_digits_cos_sims)\n",
    "\n",
    "    # v2\n",
    "    # consensus_digits_probabilities = conflate(consensus_digits_cos_sims)\n",
    "\n",
    "    # v3\n",
    "    consensus_digits_probabilities = conflate(consensus_digits_probabilities2) \n",
    "\n",
    "    digit_index = -1\n",
    "    \n",
    "    if np.any(consensus_digits_probabilities > 0):\n",
    "        digit_index = RNG.choice(DIGITS.shape[0], p=consensus_digits_probabilities)\n",
    "    else:\n",
    "        assert False\n",
    "\n",
    "    test_result_rows['source_ds'].append(test_run_source[2])\n",
    "    test_result_rows['test_run_id'].append(TEST_RUN_ID)\n",
    "    test_result_rows['test_image_id'].append(image_id)\n",
    "    test_result_rows['true_value'].append(image_value)\n",
    "    test_result_rows['engram_id'].append(digit_index) # TODO rework\n",
    "    test_result_rows['infer_value'].append(str(digit_index))\n",
    "    test_result_rows['sim'].append(COS_SIM_THRESHOLD if digit_index != -1 else 0) # TODO rework\n",
    "    \n",
    "\n",
    "assert set(test_result_rows.keys()) == set(DF_TEST_RESULTS.columns)\n",
    "df_test_results_for_run = pd.DataFrame(test_result_rows, columns=DF_TEST_RESULTS.columns)\n",
    "concat_list = [DF_TEST_RESULTS] if len(DF_TEST_RESULTS) > 0 else []\n",
    "concat_list.append(df_test_results_for_run)\n",
    "DF_TEST_RESULTS = pd.concat(concat_list, ignore_index=True)"
   ]
  },
  {
   "cell_type": "code",
   "execution_count": 25,
   "id": "9ded612b-96ae-4f3d-a964-d78dcfb19834",
   "metadata": {},
   "outputs": [
    {
     "data": {
      "image/png": "[encoded data removed]",
      "text/plain": [
       "<Figure size 1600x400 with 3 Axes>"
      ]
     },
     "metadata": {},
     "output_type": "display_data"
    },
    {
     "data": {
      "text/html": [
       "<div>\n",
       "<style scoped>\n",
       "    .dataframe tbody tr th:only-of-type {\n",
       "        vertical-align: middle;\n",
       "    }\n",
       "\n",
       "    .dataframe tbody tr th {\n",
       "        vertical-align: top;\n",
       "    }\n",
       "\n",
       "    .dataframe thead th {\n",
       "        text-align: right;\n",
       "    }\n",
       "</style>\n",
       "<table border=\"1\" class=\"dataframe\">\n",
       "  <thead>\n",
       "    <tr style=\"text-align: right;\">\n",
       "      <th></th>\n",
       "      <th>count</th>\n",
       "      <th>infers</th>\n",
       "      <th>correct_infers</th>\n",
       "      <th>infer_ratio</th>\n",
       "      <th>accuracy_count</th>\n",
       "      <th>accuracy_infers</th>\n",
       "    </tr>\n",
       "    <tr>\n",
       "      <th>test_run_id</th>\n",
       "      <th></th>\n",
       "      <th></th>\n",
       "      <th></th>\n",
       "      <th></th>\n",
       "      <th></th>\n",
       "      <th></th>\n",
       "    </tr>\n",
       "  </thead>\n",
       "  <tbody>\n",
       "    <tr>\n",
       "      <th>2</th>\n",
       "      <td>2000</td>\n",
       "      <td>977</td>\n",
       "      <td>948</td>\n",
       "      <td>0.4885</td>\n",
       "      <td>0.474</td>\n",
       "      <td>0.970317</td>\n",
       "    </tr>\n",
       "    <tr>\n",
       "      <th>3</th>\n",
       "      <td>1000</td>\n",
       "      <td>1000</td>\n",
       "      <td>847</td>\n",
       "      <td>1.0000</td>\n",
       "      <td>0.847</td>\n",
       "      <td>0.847000</td>\n",
       "    </tr>\n",
       "    <tr>\n",
       "      <th>4</th>\n",
       "      <td>1000</td>\n",
       "      <td>1000</td>\n",
       "      <td>826</td>\n",
       "      <td>1.0000</td>\n",
       "      <td>0.826</td>\n",
       "      <td>0.826000</td>\n",
       "    </tr>\n",
       "    <tr>\n",
       "      <th>5</th>\n",
       "      <td>1000</td>\n",
       "      <td>479</td>\n",
       "      <td>469</td>\n",
       "      <td>0.4790</td>\n",
       "      <td>0.469</td>\n",
       "      <td>0.979123</td>\n",
       "    </tr>\n",
       "  </tbody>\n",
       "</table>\n",
       "</div>"
      ],
      "text/plain": [
       "             count  infers  correct_infers  infer_ratio  accuracy_count  \\\n",
       "test_run_id                                                               \n",
       "2             2000     977             948       0.4885           0.474   \n",
       "3             1000    1000             847       1.0000           0.847   \n",
       "4             1000    1000             826       1.0000           0.826   \n",
       "5             1000     479             469       0.4790           0.469   \n",
       "\n",
       "             accuracy_infers  \n",
       "test_run_id                   \n",
       "2                   0.970317  \n",
       "3                   0.847000  \n",
       "4                   0.826000  \n",
       "5                   0.979123  "
      ]
     },
     "execution_count": 25,
     "metadata": {},
     "output_type": "execute_result"
    }
   ],
   "source": [
    "df_test_results2 = DF_TEST_RESULTS.copy()\n",
    "df_test_results2['is_infer'] = df_test_results2['engram_id'] > -1\n",
    "df_test_results2['is_correct_infer'] = df_test_results2['true_value'] == df_test_results2['infer_value']\n",
    "df_test_results2 = df_test_results2.groupby(by=['test_run_id']).agg({'test_image_id': 'count', 'is_infer': 'sum', 'is_correct_infer': 'sum'})\n",
    "df_test_results2.rename(columns=dict(test_image_id='count', is_infer='infers', is_correct_infer='correct_infers'), inplace=True, errors='raise')\n",
    "df_test_results2['infer_ratio'] = df_test_results2['infers'] / df_test_results2['count']\n",
    "df_test_results2['accuracy_count'] = df_test_results2['correct_infers'] / df_test_results2['count']\n",
    "df_test_results2['accuracy_infers'] = df_test_results2['correct_infers'] / df_test_results2['infers']\n",
    "\n",
    "plt.figure(figsize=(16, 4))\n",
    "plt.subplot(1, 3, 1)\n",
    "b = plt.bar(list(map(str, df_test_results2.index)), list(df_test_results2['infer_ratio']))\n",
    "plt.bar_label(b, map(lambda p: f'{p*100:.0f}', df_test_results2['infer_ratio']), label_type='center')\n",
    "plt.ylim(0, 1)\n",
    "plt.title('Infers, %')\n",
    "plt.xlabel('Test run')\n",
    "plt.grid()\n",
    "\n",
    "plt.subplot(1, 3, 2)\n",
    "b = plt.bar(list(map(str, df_test_results2.index)), list(df_test_results2['accuracy_count']))\n",
    "plt.bar_label(b, map(lambda p: f'{p*100:.0f}', df_test_results2['accuracy_count']), label_type='center')\n",
    "plt.ylim(0, 1)\n",
    "plt.title('Accuracy (Count), %')\n",
    "plt.xlabel('Test run')\n",
    "plt.grid()\n",
    "\n",
    "plt.subplot(1, 3, 3)\n",
    "b = plt.bar(list(map(str, df_test_results2.index)), list(df_test_results2['accuracy_infers']))\n",
    "plt.bar_label(b, map(lambda p: f'{p*100:.0f}', df_test_results2['accuracy_infers']), label_type='center')\n",
    "plt.ylim(0, 1)\n",
    "plt.title('Accuracy (Infers), %')\n",
    "plt.xlabel('Test run')\n",
    "plt.grid()\n",
    "\n",
    "plt.show()\n",
    "df_test_results2"
   ]
  },
  {
   "cell_type": "code",
   "execution_count": null,
   "id": "90c7e7d6-d5fc-4012-9c88-164320308f20",
   "metadata": {},
   "outputs": [],
   "source": []
  },
  {
   "cell_type": "code",
   "execution_count": 17,
   "id": "a7f7fd04-f413-47bf-b601-3a9327b61c82",
   "metadata": {},
   "outputs": [
    {
     "data": {
      "text/html": [
       "<div>\n",
       "<style scoped>\n",
       "    .dataframe tbody tr th:only-of-type {\n",
       "        vertical-align: middle;\n",
       "    }\n",
       "\n",
       "    .dataframe tbody tr th {\n",
       "        vertical-align: top;\n",
       "    }\n",
       "\n",
       "    .dataframe thead th {\n",
       "        text-align: right;\n",
       "    }\n",
       "</style>\n",
       "<table border=\"1\" class=\"dataframe\">\n",
       "  <thead>\n",
       "    <tr style=\"text-align: right;\">\n",
       "      <th></th>\n",
       "      <th>test_run_id</th>\n",
       "      <th>test_image_id</th>\n",
       "      <th>true_value</th>\n",
       "      <th>engram_id</th>\n",
       "      <th>engram_value</th>\n",
       "      <th>sim</th>\n",
       "    </tr>\n",
       "  </thead>\n",
       "  <tbody>\n",
       "    <tr>\n",
       "      <th>0</th>\n",
       "      <td>1</td>\n",
       "      <td>100002322</td>\n",
       "      <td>5</td>\n",
       "      <td>79</td>\n",
       "      <td>3</td>\n",
       "      <td>3.862693</td>\n",
       "    </tr>\n",
       "    <tr>\n",
       "      <th>1</th>\n",
       "      <td>1</td>\n",
       "      <td>100002322</td>\n",
       "      <td>5</td>\n",
       "      <td>20</td>\n",
       "      <td>8</td>\n",
       "      <td>3.840800</td>\n",
       "    </tr>\n",
       "    <tr>\n",
       "      <th>2</th>\n",
       "      <td>1</td>\n",
       "      <td>100002322</td>\n",
       "      <td>5</td>\n",
       "      <td>233</td>\n",
       "      <td>5</td>\n",
       "      <td>3.744116</td>\n",
       "    </tr>\n",
       "    <tr>\n",
       "      <th>3</th>\n",
       "      <td>1</td>\n",
       "      <td>100002322</td>\n",
       "      <td>5</td>\n",
       "      <td>200</td>\n",
       "      <td>5</td>\n",
       "      <td>3.571549</td>\n",
       "    </tr>\n",
       "    <tr>\n",
       "      <th>4</th>\n",
       "      <td>1</td>\n",
       "      <td>100002322</td>\n",
       "      <td>5</td>\n",
       "      <td>237</td>\n",
       "      <td>5</td>\n",
       "      <td>3.424872</td>\n",
       "    </tr>\n",
       "    <tr>\n",
       "      <th>5</th>\n",
       "      <td>1</td>\n",
       "      <td>100002322</td>\n",
       "      <td>5</td>\n",
       "      <td>1</td>\n",
       "      <td>5</td>\n",
       "      <td>3.314627</td>\n",
       "    </tr>\n",
       "    <tr>\n",
       "      <th>6</th>\n",
       "      <td>1</td>\n",
       "      <td>100002322</td>\n",
       "      <td>5</td>\n",
       "      <td>47</td>\n",
       "      <td>3</td>\n",
       "      <td>3.269252</td>\n",
       "    </tr>\n",
       "    <tr>\n",
       "      <th>7</th>\n",
       "      <td>1</td>\n",
       "      <td>100002322</td>\n",
       "      <td>5</td>\n",
       "      <td>163</td>\n",
       "      <td>3</td>\n",
       "      <td>3.015236</td>\n",
       "    </tr>\n",
       "    <tr>\n",
       "      <th>8</th>\n",
       "      <td>1</td>\n",
       "      <td>100002322</td>\n",
       "      <td>5</td>\n",
       "      <td>196</td>\n",
       "      <td>5</td>\n",
       "      <td>2.974074</td>\n",
       "    </tr>\n",
       "    <tr>\n",
       "      <th>9</th>\n",
       "      <td>1</td>\n",
       "      <td>100002322</td>\n",
       "      <td>5</td>\n",
       "      <td>2</td>\n",
       "      <td>3</td>\n",
       "      <td>2.696484</td>\n",
       "    </tr>\n",
       "  </tbody>\n",
       "</table>\n",
       "</div>"
      ],
      "text/plain": [
       "   test_run_id  test_image_id true_value  engram_id engram_value       sim\n",
       "0            1      100002322          5         79            3  3.862693\n",
       "1            1      100002322          5         20            8  3.840800\n",
       "2            1      100002322          5        233            5  3.744116\n",
       "3            1      100002322          5        200            5  3.571549\n",
       "4            1      100002322          5        237            5  3.424872\n",
       "5            1      100002322          5          1            5  3.314627\n",
       "6            1      100002322          5         47            3  3.269252\n",
       "7            1      100002322          5        163            3  3.015236\n",
       "8            1      100002322          5        196            5  2.974074\n",
       "9            1      100002322          5          2            3  2.696484"
      ]
     },
     "execution_count": 17,
     "metadata": {},
     "output_type": "execute_result"
    }
   ],
   "source": [
    "df_test_results_incorrect_infers = df_test_results_for_run[df_test_results_for_run['true_value'] != df_test_results_for_run['infer_value']]\n",
    "incorrect_infer_row_index = RNG.choice(df_test_results_incorrect_infers.index.unique())\n",
    "test_run_id = df_test_results_incorrect_infers.loc[incorrect_infer_row_index]['test_run_id']\n",
    "incorrect_infer_image_id = df_test_results_incorrect_infers.loc[incorrect_infer_row_index]['test_image_id']\n",
    "image_data = test_run_source[0].loc[incorrect_infer_image_id]['png']\n",
    "image_value = test_run_source[0].loc[incorrect_infer_image_id]['value']\n",
    "\n",
    "df_x = pd.DataFrame(columns=['test_run_id', 'test_image_id', 'true_value', 'engram_id', 'engram_value', 'sim'])\n",
    "df_image_encodings = pd.read_sql('SELECT hdv FROM image_encodings WHERE image_id=:image_id', params={'image_id': int(incorrect_infer_image_id)}, con=test_run_source[1])\n",
    "assert len(df_image_encodings) > 0\n",
    "image_encoding_hdvs = list(map(lambda h: np.frombuffer(h, dtype='b'), df_image_encodings['hdv']))\n",
    "image_encoding_hdvs_norm = hdc.normalize(image_encoding_hdvs)\n",
    "image_encoding_hdvs_norm = xp_array_to_gpu(image_encoding_hdvs_norm)\n",
    "\n",
    "cos_sim_matrix = COLUMN.engram_norms.array @ image_encoding_hdvs_norm.T\n",
    "cos_sim_matrix[cos_sim_matrix < COS_SIM_THRESHOLD] = 0\n",
    "cos_sim_vector = xp_array_from_gpu(xp.sum(cos_sim_matrix, axis=1)) # how each mem recall (sum cos sim) is close to current image\n",
    "\n",
    "assert cos_sim_vector.shape == (COLUMN.engram_norms.array.shape[0],)\n",
    "engram_ids_by_match_score = np.argsort(-cos_sim_vector) # sorted desc\n",
    "\n",
    "for pos, engram_id in enumerate(engram_ids_by_match_score):\n",
    "    cos_sim_value = cos_sim_vector[engram_id]\n",
    "\n",
    "    if cos_sim_value <= 0:\n",
    "        break\n",
    "        \n",
    "    engram_image_ids = COLUMN.engram_to_image_ids[engram_id]\n",
    "    assert len(engram_image_ids) > 0\n",
    "    engram_image_id = next(iter(engram_image_ids))\n",
    "    engram_image_value = df_train_images.loc[engram_image_id]['value'] # exactly from train! (i.e. we look for prototype in train data)\n",
    "    df_x.loc[len(df_x)] = [test_run_id, incorrect_infer_image_id, image_value, engram_id, engram_image_value, cos_sim_value]\n",
    "\n",
    "df_x.sort_values(by='sim', ascending=False).head(10)"
   ]
  },
  {
   "cell_type": "code",
   "execution_count": 18,
   "id": "5ff3a026-80df-4d27-af26-5939c7a1ae64",
   "metadata": {},
   "outputs": [
    {
     "data": {
      "text/html": [
       "\n",
       "        <div style=\"display: flex; flex-flow: row wrap; text-align: center;\">\n",
       "        \n",
       "            <figure style=\"margin: 5px !important;\">\n",
       "              <img src=\"data:image/png;base64,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\" style=\"height: auto\">\n",
       "              <figcaption style=\"font-size: 0.6em\">5</figcaption>\n",
       "            </figure>\n",
       "        \n",
       "        </div>\n",
       "    "
      ],
      "text/plain": [
       "<IPython.core.display.HTML object>"
      ]
     },
     "execution_count": 18,
     "metadata": {},
     "output_type": "execute_result"
    }
   ],
   "source": [
    "image_data = test_run_source[0].loc[incorrect_infer_image_id]['png']\n",
    "image = Image.open(io.BytesIO(image_data))\n",
    "label = test_run_source[0].loc[incorrect_infer_image_id]['value']\n",
    "display_images([image], captions=[label])"
   ]
  },
  {
   "cell_type": "code",
   "execution_count": 19,
   "id": "0c9b40bc-7e09-40a6-947b-090d0ef463a2",
   "metadata": {},
   "outputs": [
    {
     "data": {
      "text/html": [
       "<div>\n",
       "<style scoped>\n",
       "    .dataframe tbody tr th:only-of-type {\n",
       "        vertical-align: middle;\n",
       "    }\n",
       "\n",
       "    .dataframe tbody tr th {\n",
       "        vertical-align: top;\n",
       "    }\n",
       "\n",
       "    .dataframe thead th {\n",
       "        text-align: right;\n",
       "    }\n",
       "</style>\n",
       "<table border=\"1\" class=\"dataframe\">\n",
       "  <thead>\n",
       "    <tr style=\"text-align: right;\">\n",
       "      <th></th>\n",
       "      <th>engram_value</th>\n",
       "      <th>sim</th>\n",
       "      <th>true_value</th>\n",
       "    </tr>\n",
       "    <tr>\n",
       "      <th>engram_id</th>\n",
       "      <th></th>\n",
       "      <th></th>\n",
       "      <th></th>\n",
       "    </tr>\n",
       "  </thead>\n",
       "  <tbody>\n",
       "    <tr>\n",
       "      <th>79</th>\n",
       "      <td>3</td>\n",
       "      <td>3.862693</td>\n",
       "      <td>5</td>\n",
       "    </tr>\n",
       "    <tr>\n",
       "      <th>20</th>\n",
       "      <td>8</td>\n",
       "      <td>3.840800</td>\n",
       "      <td>5</td>\n",
       "    </tr>\n",
       "    <tr>\n",
       "      <th>233</th>\n",
       "      <td>5</td>\n",
       "      <td>3.744116</td>\n",
       "      <td>5</td>\n",
       "    </tr>\n",
       "    <tr>\n",
       "      <th>200</th>\n",
       "      <td>5</td>\n",
       "      <td>3.571549</td>\n",
       "      <td>5</td>\n",
       "    </tr>\n",
       "    <tr>\n",
       "      <th>237</th>\n",
       "      <td>5</td>\n",
       "      <td>3.424872</td>\n",
       "      <td>5</td>\n",
       "    </tr>\n",
       "    <tr>\n",
       "      <th>...</th>\n",
       "      <td>...</td>\n",
       "      <td>...</td>\n",
       "      <td>...</td>\n",
       "    </tr>\n",
       "    <tr>\n",
       "      <th>288</th>\n",
       "      <td>4</td>\n",
       "      <td>0.056177</td>\n",
       "      <td>5</td>\n",
       "    </tr>\n",
       "    <tr>\n",
       "      <th>146</th>\n",
       "      <td>3</td>\n",
       "      <td>0.055770</td>\n",
       "      <td>5</td>\n",
       "    </tr>\n",
       "    <tr>\n",
       "      <th>320</th>\n",
       "      <td>2</td>\n",
       "      <td>0.055655</td>\n",
       "      <td>5</td>\n",
       "    </tr>\n",
       "    <tr>\n",
       "      <th>133</th>\n",
       "      <td>6</td>\n",
       "      <td>0.055636</td>\n",
       "      <td>5</td>\n",
       "    </tr>\n",
       "    <tr>\n",
       "      <th>60</th>\n",
       "      <td>3</td>\n",
       "      <td>0.055534</td>\n",
       "      <td>5</td>\n",
       "    </tr>\n",
       "  </tbody>\n",
       "</table>\n",
       "<p>112 rows × 3 columns</p>\n",
       "</div>"
      ],
      "text/plain": [
       "          engram_value       sim true_value\n",
       "engram_id                                  \n",
       "79                   3  3.862693          5\n",
       "20                   8  3.840800          5\n",
       "233                  5  3.744116          5\n",
       "200                  5  3.571549          5\n",
       "237                  5  3.424872          5\n",
       "...                ...       ...        ...\n",
       "288                  4  0.056177          5\n",
       "146                  3  0.055770          5\n",
       "320                  2  0.055655          5\n",
       "133                  6  0.055636          5\n",
       "60                   3  0.055534          5\n",
       "\n",
       "[112 rows x 3 columns]"
      ]
     },
     "execution_count": 19,
     "metadata": {},
     "output_type": "execute_result"
    }
   ],
   "source": [
    "df_x_pivot = pd.pivot_table(df_x, index='engram_id', \n",
    "                            values=['true_value', 'engram_value', 'sim'], \n",
    "                            aggfunc=dict(engram_value='first', true_value='first', sim='sum'))\n",
    "df_x_pivot.sort_values(by='sim', ascending=False)"
   ]
  },
  {
   "cell_type": "code",
   "execution_count": null,
   "id": "4b970735-532f-4a82-adfa-2df3f534203b",
   "metadata": {},
   "outputs": [],
   "source": []
  },
  {
   "cell_type": "code",
   "execution_count": 20,
   "id": "13076351-aaf9-4ef1-9e86-a77ee51ab0c0",
   "metadata": {},
   "outputs": [
    {
     "data": {
      "text/html": [
       "<div>\n",
       "<style scoped>\n",
       "    .dataframe tbody tr th:only-of-type {\n",
       "        vertical-align: middle;\n",
       "    }\n",
       "\n",
       "    .dataframe tbody tr th {\n",
       "        vertical-align: top;\n",
       "    }\n",
       "\n",
       "    .dataframe thead th {\n",
       "        text-align: right;\n",
       "    }\n",
       "</style>\n",
       "<table border=\"1\" class=\"dataframe\">\n",
       "  <thead>\n",
       "    <tr style=\"text-align: right;\">\n",
       "      <th></th>\n",
       "      <th>engram_value</th>\n",
       "      <th>sim</th>\n",
       "      <th>true_value</th>\n",
       "    </tr>\n",
       "    <tr>\n",
       "      <th>engram_id</th>\n",
       "      <th></th>\n",
       "      <th></th>\n",
       "      <th></th>\n",
       "    </tr>\n",
       "  </thead>\n",
       "  <tbody>\n",
       "    <tr>\n",
       "      <th>79</th>\n",
       "      <td>3</td>\n",
       "      <td>3.862693</td>\n",
       "      <td>5</td>\n",
       "    </tr>\n",
       "    <tr>\n",
       "      <th>20</th>\n",
       "      <td>8</td>\n",
       "      <td>3.840800</td>\n",
       "      <td>5</td>\n",
       "    </tr>\n",
       "    <tr>\n",
       "      <th>233</th>\n",
       "      <td>5</td>\n",
       "      <td>3.744116</td>\n",
       "      <td>5</td>\n",
       "    </tr>\n",
       "    <tr>\n",
       "      <th>200</th>\n",
       "      <td>5</td>\n",
       "      <td>3.571549</td>\n",
       "      <td>5</td>\n",
       "    </tr>\n",
       "    <tr>\n",
       "      <th>237</th>\n",
       "      <td>5</td>\n",
       "      <td>3.424872</td>\n",
       "      <td>5</td>\n",
       "    </tr>\n",
       "    <tr>\n",
       "      <th>...</th>\n",
       "      <td>...</td>\n",
       "      <td>...</td>\n",
       "      <td>...</td>\n",
       "    </tr>\n",
       "    <tr>\n",
       "      <th>288</th>\n",
       "      <td>4</td>\n",
       "      <td>0.056177</td>\n",
       "      <td>5</td>\n",
       "    </tr>\n",
       "    <tr>\n",
       "      <th>146</th>\n",
       "      <td>3</td>\n",
       "      <td>0.055770</td>\n",
       "      <td>5</td>\n",
       "    </tr>\n",
       "    <tr>\n",
       "      <th>320</th>\n",
       "      <td>2</td>\n",
       "      <td>0.055655</td>\n",
       "      <td>5</td>\n",
       "    </tr>\n",
       "    <tr>\n",
       "      <th>133</th>\n",
       "      <td>6</td>\n",
       "      <td>0.055636</td>\n",
       "      <td>5</td>\n",
       "    </tr>\n",
       "    <tr>\n",
       "      <th>60</th>\n",
       "      <td>3</td>\n",
       "      <td>0.055534</td>\n",
       "      <td>5</td>\n",
       "    </tr>\n",
       "  </tbody>\n",
       "</table>\n",
       "<p>112 rows × 3 columns</p>\n",
       "</div>"
      ],
      "text/plain": [
       "          engram_value       sim true_value\n",
       "engram_id                                  \n",
       "79                   3  3.862693          5\n",
       "20                   8  3.840800          5\n",
       "233                  5  3.744116          5\n",
       "200                  5  3.571549          5\n",
       "237                  5  3.424872          5\n",
       "...                ...       ...        ...\n",
       "288                  4  0.056177          5\n",
       "146                  3  0.055770          5\n",
       "320                  2  0.055655          5\n",
       "133                  6  0.055636          5\n",
       "60                   3  0.055534          5\n",
       "\n",
       "[112 rows x 3 columns]"
      ]
     },
     "execution_count": 20,
     "metadata": {},
     "output_type": "execute_result"
    }
   ],
   "source": [
    "df_x_pivot = pd.pivot_table(df_x, index='engram_id', \n",
    "                            values=['true_value', 'engram_value', 'sim'], \n",
    "                            aggfunc=dict(engram_value='first', true_value='first', sim='max'))\n",
    "df_x_pivot.sort_values(by='sim', ascending=False)"
   ]
  },
  {
   "cell_type": "code",
   "execution_count": 21,
   "id": "741528e7-cb1b-4583-93eb-c9c8425c70be",
   "metadata": {},
   "outputs": [
    {
     "data": {
      "text/plain": [
       "np.int64(1)"
      ]
     },
     "execution_count": 21,
     "metadata": {},
     "output_type": "execute_result"
    }
   ],
   "source": [
    "df_test_results_incorrect_infers.loc[incorrect_infer_row_index]['test_run_id']"
   ]
  },
  {
   "cell_type": "code",
   "execution_count": 22,
   "id": "75cc7cda-ca51-48b0-8fd1-b21a9244fcb5",
   "metadata": {},
   "outputs": [
    {
     "data": {
      "text/plain": [
       "np.int64(396)"
      ]
     },
     "execution_count": 22,
     "metadata": {},
     "output_type": "execute_result"
    }
   ],
   "source": [
    "incorrect_infer_row_index"
   ]
  },
  {
   "cell_type": "code",
   "execution_count": null,
   "id": "173a27b8-9f22-47c0-a23a-ca3669ac1222",
   "metadata": {},
   "outputs": [],
   "source": []
  },
  {
   "cell_type": "code",
   "execution_count": null,
   "id": "88170617-5c38-4250-87af-edd152d31a51",
   "metadata": {},
   "outputs": [],
   "source": []
  }
 ],
 "metadata": {
  "kernelspec": {
   "display_name": "Python 3 (ipykernel)",
   "language": "python",
   "name": "python3"
  },
  "language_info": {
   "codemirror_mode": {
    "name": "ipython",
    "version": 3
   },
   "file_extension": ".py",
   "mimetype": "text/x-python",
   "name": "python",
   "nbconvert_exporter": "python",
   "pygments_lexer": "ipython3",
   "version": "3.12.2"
  }
 },
 "nbformat": 4,
 "nbformat_minor": 5
}
