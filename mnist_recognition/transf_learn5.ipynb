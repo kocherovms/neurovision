{
 "cells": [
  {
   "cell_type": "code",
   "execution_count": 1,
   "id": "27532844-1826-4299-b063-16a22e592f3f",
   "metadata": {},
   "outputs": [],
   "source": [
    "import os, math\n",
    "from enum import StrEnum, auto\n",
    "from collections import defaultdict, namedtuple, Counter\n",
    "import itertools\n",
    "import sqlite3\n",
    "import pickle\n",
    "import datetime\n",
    "import multiprocessing as mp\n",
    "import gc\n",
    "import json\n",
    "import decimal\n",
    "from IPython.core.getipython import get_ipython\n",
    "\n",
    "from PIL import Image, ImageDraw\n",
    "from tqdm.notebook import tqdm\n",
    "\n",
    "from sklearn.model_selection import train_test_split\n",
    "from sklearn.decomposition import PCA\n",
    "import matplotlib.pyplot as plt\n",
    "import scipy\n",
    "import numpy as np\n",
    "import cupy as cp\n",
    "import pandas as pd\n",
    "\n",
    "from module.utils import *\n",
    "from module.hdc import *\n",
    "from module.constants import *"
   ]
  },
  {
   "cell_type": "code",
   "execution_count": 2,
   "id": "73358262-adf2-4d17-a383-f120a5d1f8aa",
   "metadata": {},
   "outputs": [
    {
     "name": "stdout",
     "output_type": "stream",
     "text": [
      "xp = cupy\n",
      "transf_learn5.ipynb\n"
     ]
    }
   ],
   "source": [
    "LOG = Logging()\n",
    "\n",
    "config_var = 'SQLITE3_SEQ_GRID_0_2_4096'\n",
    "config = Config(config_var)\n",
    "RNG = np.random.default_rng()\n",
    "mp_ctx = mp.get_context('spawn') # req-d for CUPY to work, 'fork' method leads to failures in bootstrap somewhere around CUDA\n",
    "\n",
    "if cp.cuda.is_available():\n",
    "    xp = cp.get_array_module(cp.empty(1))\n",
    "    xp_array_from_gpu = lambda a: a.get() if isinstance(a, cp.ndarray) else a\n",
    "    xp_array_to_gpu = lambda a: cp.asarray(a) if isinstance(a, np.ndarray) else a\n",
    "    xp_array_to_gpu_copy = lambda a: cp.asarray(a) if isinstance(a, np.ndarray) else a\n",
    "else:\n",
    "    xp = cp.get_array_module(np.empty(1))\n",
    "    xp_array_from_gpu = lambda a: a\n",
    "    xp_array_to_gpu = lambda a: a\n",
    "    xp_array_to_gpu_copy = lambda a: a.copy()\n",
    "\n",
    "print(f'xp = {xp.__name__}')\n",
    "\n",
    "with open(get_ipython().kernel.config['IPKernelApp']['connection_file'], 'r') as cf:\n",
    "    notebook_fname = json.load(cf)['jupyter_session']\n",
    "    notebook_fname = os.path.basename(notebook_fname)\n",
    "\n",
    "print(notebook_fname)"
   ]
  },
  {
   "cell_type": "code",
   "execution_count": 3,
   "id": "656ee6b7-3982-4f99-9251-6b67fef36ae3",
   "metadata": {},
   "outputs": [],
   "source": [
    "%run sequencing_sp2.ipynb"
   ]
  },
  {
   "cell_type": "markdown",
   "id": "d5c8f88a-5403-4177-b5fc-e0e2a1da9c2d",
   "metadata": {},
   "source": [
    "# Open DB"
   ]
  },
  {
   "cell_type": "code",
   "execution_count": 4,
   "id": "d2dd62ab-b44e-4251-9e86-d41b3672e36e",
   "metadata": {},
   "outputs": [
    {
     "name": "stdout",
     "output_type": "stream",
     "text": [
      "CPU times: user 8 μs, sys: 1 μs, total: 9 μs\n",
      "Wall time: 17.2 μs\n"
     ]
    },
    {
     "data": {
      "text/plain": [
       "((10000, 7), (2000, 7))"
      ]
     },
     "execution_count": 4,
     "metadata": {},
     "output_type": "execute_result"
    }
   ],
   "source": [
    "%time\n",
    "train_db_con = sqlite3.connect(DBUtils.get_full_db_file_name(config, config.train_db_file_name))\n",
    "test_db_con = sqlite3.connect(DBUtils.get_full_db_file_name(config, config.test_db_file_name))\n",
    "test_results_db_con = sqlite3.connect(DBUtils.get_full_db_file_name(config, config.test_results_db_file_name, with_prefix=False), autocommit=True)\n",
    "transfs_db_con = sqlite3.connect(DBUtils.get_full_db_file_name(config, config.transfs_db_file_name, with_prefix=False), autocommit=True)\n",
    "\n",
    "if not DBUtils.is_table_exists(test_results_db_con, 'test_runs'):\n",
    "    test_results_db_con.execute('CREATE TABLE test_runs(test_run_id INTEGER PRIMARY KEY, dummy)')\n",
    "\n",
    "if not DBUtils.is_table_exists(transfs_db_con, 'pixels'):\n",
    "    transfs_db_con.execute('CREATE TABLE pixels(encoding, sbv)')\n",
    "\n",
    "if not DBUtils.is_table_exists(transfs_db_con, 'clusters'):\n",
    "    transfs_db_con.execute('CREATE TABLE clusters(encoding, transf_code, output_bit, sbv, meta)')\n",
    "\n",
    "df_train_images = pd.read_sql_query('SELECT * FROM images', con=train_db_con, index_col='image_id')\n",
    "df_test_images = pd.read_sql_query('SELECT * FROM images', con=test_db_con, index_col='image_id')\n",
    "df_train_images.shape, df_test_images.shape"
   ]
  },
  {
   "cell_type": "code",
   "execution_count": 5,
   "id": "70b21219-4f16-4824-90ec-7bda1574c5d1",
   "metadata": {},
   "outputs": [
    {
     "data": {
      "text/html": [
       "<div style=\"\n",
       "        display: grid; \n",
       "        grid-template-columns: repeat(8, 128px);\n",
       "        column-gap: 1px;\n",
       "        row-gap: 1px;\">\n",
       "        \n",
       "            <figure style=\"margin: 5px !important;\">\n",
       "              <img src=\"data:image/png;base64,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\" style=\"height: auto\">\n",
       "              <figcaption style=\"font-size: 0.6em\">0</figcaption>\n",
       "            </figure>\n",
       "        \n",
       "            <figure style=\"margin: 5px !important;\">\n",
       "              <img src=\"data:image/png;base64,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\" style=\"height: auto\">\n",
       "              <figcaption style=\"font-size: 0.6em\">5</figcaption>\n",
       "            </figure>\n",
       "        \n",
       "            <figure style=\"margin: 5px !important;\">\n",
       "              <img src=\"data:image/png;base64,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\" style=\"height: auto\">\n",
       "              <figcaption style=\"font-size: 0.6em\">6</figcaption>\n",
       "            </figure>\n",
       "        \n",
       "            <figure style=\"margin: 5px !important;\">\n",
       "              <img src=\"data:image/png;base64,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\" style=\"height: auto\">\n",
       "              <figcaption style=\"font-size: 0.6em\">6</figcaption>\n",
       "            </figure>\n",
       "        \n",
       "            <figure style=\"margin: 5px !important;\">\n",
       "              <img src=\"data:image/png;base64,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\" style=\"height: auto\">\n",
       "              <figcaption style=\"font-size: 0.6em\">3</figcaption>\n",
       "            </figure>\n",
       "        \n",
       "            <figure style=\"margin: 5px !important;\">\n",
       "              <img src=\"data:image/png;base64,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\" style=\"height: auto\">\n",
       "              <figcaption style=\"font-size: 0.6em\">5</figcaption>\n",
       "            </figure>\n",
       "        \n",
       "            <figure style=\"margin: 5px !important;\">\n",
       "              <img src=\"data:image/png;base64,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\" style=\"height: auto\">\n",
       "              <figcaption style=\"font-size: 0.6em\">2</figcaption>\n",
       "            </figure>\n",
       "        \n",
       "            <figure style=\"margin: 5px !important;\">\n",
       "              <img src=\"data:image/png;base64,iVBORw0KGgoAAAANSUhEUgAAAIAAAACACAAAAADmVT4XAAANfklEQVR4nO2aWXPjOJKAEwDBm5JIHT5ky3ZPzcv+/3+yEdO909NV5UO2dZEU7xO5DzpLlmS5ujs2NsIZUVFVEgR8SOSFJAE+5VM+5VM+5VM+5VM+5VM+5f9YyJ/9/UL2f4koEPH4BNKfBJA1TVU1me9bvsqjIMrqvxdAdTqO4zQMAFhudaENBBC5P3x8rv5eAGaeXff7l73mHoA6Hv1G0rQUfyeA5Zzf3N4MLpw3AEiq6Kmeeylk5TEl/CSArCicAIJzPbgZXJ519o1hSnF5PSfNOM+Loij/WgCl7Vgca7AHX+4u2+aBUUbnpmp6URKGrv/XAhDzbNBVsITW1c2go8mHJm9d8+48CrwRzeO/FMB0Ln/pq6Ig1kX/wqIU3jo7AQBmod4No/lYTl16wBbfB6CUMYlLlCCKuiwrYNywB4NBXxUlGJ12QwLYAwAEQNKpYjTihlxMdF7sj0jvAzBVN6yWpVIs89hzIzDsXu/67uZMERWqTePQDEiASCrjmmGwsKXzfP+w9wFk02lf9M8bvE7D2f13hp3BXf/iotviKARX98XAxfoIQCVCZVWHWctQkv1n8C4A0+yz/t2Xm7Zcxd6zXAJefvmv645tagwQCWWC7D2BxWeUUEBRO07LStO9Z3AUgAAlut3rD27v7tpyFXlKGlHs395eNc1V+D+abQgBBgCW3emdiyCvqreoRwGoJMut/u3d4PqspYLchCquWtC7ObNNha4hcfk3kMW+t9ZYZkmlcf5LrU+8MKve8B4FYKph9W7/+eWqbSsAwDT7Wr2CRsfRJbozlCwXI4vDXwouPmTmZaG1Hh4JYr2rg3cAGp3+zZd/nmsqBQAhmZJdAldVTgRZJZ1j+R5hoRrjTGpYcpUVNezmhXcArHbv/OKiRwEEADBJs4EstLyjygMgCwKi2IpO05kbl2LXF97TQLvjNE0K6zNe/Wu9/upzIQQgEKB0VR9tmAiXJBo7tqW/zYxHASSt6TgN7dgYsi7qRCUQCANK1l8BwuIPBdBNq2GZaV58BIBplt0yJITlPOvFthS++qjKi1oAlTjspiYEIEC5aljNRpykHwKQddNQ2WqxfeeMuNBBHsVZJYByVdcU9nY4kRSj1Y6SOPoIAFCJc4ntq3lXR49YCxR1Gfp+VAqgstlqaBIAYUySCNnSlNroRnUeeB8BqGshhNhn3mRz0KIo8jSejUZeIYAqzlmnwQGpalhspQkAAODNc6oU7ugjAEJUVV3vJdiMKZI4DNyXh4dJjkDU80HfllHwhkO5BEAQCAICAW4RSw8fdy3keCje1uF+qZI4nHuz0dPXb68ZAGjTJOnIKLhTSpxwIMu4gcAM1VaeG7sLHgQghFBV0zRVfmsDBAUKgUKIPEviwHOno+HjcAIA4AMniSwEj2oiWrrC1wsQSYKWpbITAQiVuGI7badlKssksyYDIFWR5VmaZGmWJdHcm80m03DxdTChARcoeVE873acJoctLUqM7u7moAaYrFudXq/Xbmz8cCMiCwLPdf0oL4skDOZBNF+WvYVfuwyRNVx30h8QTQXYZKf6rUkf1gDX7Xan13EMicKbkqNMvOlo+DwOylrkcRxnZbUcUYcZIwhEd103RNO2CGxydlmdDACUK4bVaDRMhezkDwSs4sCbvjw+vAQlYJml2WaIyBfFX5wkOVrdjmZsKX2PTx8xQsokWVX5Jtov3b+uytR33dlsMplEFUCd77t0lBECb9lG7Wgq3z6GUwEQEYEwiQJsVEAAAOo0jmbT2cz1gzCtCYhq7wRVNpctg6WXXUc+4s3HNEAIpW+sFqCIPHc2mcz8MM5L3F+RAgBUqT/SWIXchJ/RAJNVXVP4j26LBCAP3fFkNnOnXpjm+ze/kLpOQt+12sdbFAe9QG50zrpNdVP7EQIAoiqjyXA48vy574XpsfUBgDBZVRVpx4ZOBFCdq9tBT9+44PL8o9njt/sXP0niODp0410K0xqd84u2tbm77DnSgwB6d/CP666+LsMWFHk4ffn++x8vYVmWRXFcAVQxO/3bm7OmjGR7EycCqPbl4KKh/RiEYm/68nT/7dtrjIjHG2AEqGLYZ/2+rW80sKdpdtAIuWl3WhpbawCKMosDdzIaPr1OvHdy5OI3lGtWq2XwhR0hoMiL+uRQLKlmQ+ML3RECQLLJaOR6/mz2MotPWB9BCCKphrZyJMSqiLPyZA0wWdOl7c5D8vSvr+N5nETh/B3jWyEgUK7IjAAiIVDXRRzE+cllOZVkhW6n0nD463+/hmVVVe+1/gAAgACTJFmW+aqoEWU698L85IsJYZK8NlpELObjp/uX7ISlVxtQLMtQ5XUgqfPQnfrJyRogZHPDwKrMk5k7D05fH0Bt9Xr2sn9CAIhIps/Pk2jXdY/UhJvGoyji0Bv76SmqX4veu77qmZtQLsLxw8NrsGs/h7OhQEFh4QFYRLPROCg/0lpXWheD6+4WQBmOn4aT8CMaWNsflsl86kU5HsxpO0IAWt3Lq0tHX5sAZqE7nfpvMtNJfUKssmgexHl12vqEq5rSvx1cnbU0BgCAQogqieM4fTvFyQBhlL4T+zfD1XbHufrlH9dtS2UIBFFUZRbGWVV/IBT/IHWRpml+tOu9Pad5dtO/HlyfWTKnSABFVSShH+Zv4vCpAFiXeZaX9fHO/0qIYV/c3l1d9mx1GchEEc1nYy8q6rf56zQNYFUWZVmdAsAU3en3r6/PO00dYOHMIpm9Po+fZ2F2ejICQujGgkVdlWW1T4NvhLd6F7e/XF86lrL+rAqHv39zZ64X5m82cVgD2+U4oEDxpr+0V9Te3eD27qpnLNoUCARINX/8169hmqRFeboXICKuYzGROOf8pONqXdzdDa7ObE6JWP2+jkd//JqJWnykIEFRV6tyknDNavm+EVeIe/txhBBCKKWMmYPB4Oqi09Rg0b4BACBYRO70wDpHAVa1FNHsS1HnSZqWBw6CSpzLumHqzeu724u2qfzwLSPioAcfBqjKQiWAFACp3pVUVsQJzfZXA5Qrmm7ZvV6n1eu2W6b6YyeXSYeP7+DjhrpIYnXZT6E6N3SI5wmNi6J4exthqmaYDfv8ZtB3LE1VuPTjOSFhnB8oow6SlfHc5cuCknCusdR1MznIsizLihpXLoIAjGu6aTbs9uXt3bWtUkKAbNkagsiLGna72+9qIHWfG1WnoTFY1BO6fZHwzjxOkjhOqw0AEkm1Gg2r2XTO+ueOtV526ccEi9QPkoN57CBAMv5Gs4qqAEAEAWDmBXX8eRiGQRDnNVnuSCCRTdtpNRqNZtNpbRnf+hqWepNZtNuhPQFgoopabtqL/xEAtWteRoE/n/t+kFVkcWPAGona6nTthmUYqqqsrwCbmYpw/DqZ5x/WQD6XmdZbPmlCBFCUJqah7899L0g3AIKqdrdnW4amMgDcOCkiUAAo3fHz8yT4MADUeRInW/UDIQDE4JKs6UaU1cuSFYWgStNpN3WNA8CiKbls4oq6zrM8mbwMn18/roHFrt+EPa4D16y03LYBrluWrmw/vlsClJE7cb3ZdDqbuNmHAQhllC7cCbfuJ5LGNauqcWljiACMywqni7C7RSzKxH34+jD2gyiOwp/QAACKqixWV2tcYDAqv0kHhFAgiD+2Yco89kb3v/3nJcjKqigPpvIjoThPoiiMNJnhJuiQQ/EENlgEAbFMA2/89P3hcRSViEcS+ZFQHEvubOYphrLpVB67GCz3TwgQwCrzX5+enu6HbvjObeqgBqocK2M8bssC2Hp6PEiAWxcpwDqPJt9//+N5PHuvjXNEA1hmxnjkyJQrm0GI+7XwY+6pstB9/f4//x6F718lDttADVXojm1FVvUfsvt7MyKUaeCOnh4fn2YHA/AJAAAAmf+qM8VyAGCVzQ73hdYPb6vMHw2fvj9MghPWPw5QzV8YNbvbx3jwdriuYbFKpvf/+f409E5Z/x2AiKDk9JN69zHHEcEino++//Z1NI9PqqKPP7RKatBfx1PN4kjoQQtcLAxICEKZx/PX4cP9vffeS2QnAQgMZ6/3RubosiwBApO2m8e4KTtgeQWuksCbPH99HPu7Dyh/CgChzuZDpRj3Ok1TJkgUfXs8we3uL8GqyBJ/NBw+D5+8A6+sfBAAAOvotZ4P+1cXtkqQGSjvEmyGllkSzUf3X7+9zMLo5G7Oe7edOnNTfxJmeawR5A2xXWAvEvby6X1ZpHEwnz1//ffX13jPLfhnAbCsizwntI5UAnIjyVMVAIEwxiRJogCiquuqKsuySKK5N319fBnvPh7+UwAAokCQSDqWKZGb01lbAyGorGiaYckAQKokDqI4L8ss9L3ZbDQ99NbYzwIA1Llf+apEidLovDoq1IJrVqPlSCYAiNSfjiZeWoo88jw/Ct/0wf48AJYiZZRQJlvTaUuBSshmy+kWXDMBQm/y/DCcJJWoIt8PivrEPsqHAFYFhZRm2XwBMA+TTFRtmnnTyfBhOE0rrJPgQ63UhXzstV6umzpfH8FZt0nz0Pcno/E8EyjyePf9jL8cgMiKzEAg46qqG5apkSpPkiiI0hJBVKf28f4EAGWLtEwZY4xLDLCu66qsasTFmzyf8imf8imf8imf8v9P/hdZdkFQPMUriQAAAABJRU5ErkJggg==\" style=\"height: auto\">\n",
       "              <figcaption style=\"font-size: 0.6em\">0</figcaption>\n",
       "            </figure>\n",
       "        \n",
       "            <figure style=\"margin: 5px !important;\">\n",
       "              <img src=\"data:image/png;base64,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\" style=\"height: auto\">\n",
       "              <figcaption style=\"font-size: 0.6em\">9</figcaption>\n",
       "            </figure>\n",
       "        \n",
       "            <figure style=\"margin: 5px !important;\">\n",
       "              <img src=\"data:image/png;base64,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\" style=\"height: auto\">\n",
       "              <figcaption style=\"font-size: 0.6em\">4</figcaption>\n",
       "            </figure>\n",
       "        \n",
       "            <figure style=\"margin: 5px !important;\">\n",
       "              <img src=\"data:image/png;base64,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\" style=\"height: auto\">\n",
       "              <figcaption style=\"font-size: 0.6em\">8</figcaption>\n",
       "            </figure>\n",
       "        \n",
       "            <figure style=\"margin: 5px !important;\">\n",
       "              <img src=\"data:image/png;base64,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\" style=\"height: auto\">\n",
       "              <figcaption style=\"font-size: 0.6em\">5</figcaption>\n",
       "            </figure>\n",
       "        \n",
       "            <figure style=\"margin: 5px !important;\">\n",
       "              <img src=\"data:image/png;base64,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\" style=\"height: auto\">\n",
       "              <figcaption style=\"font-size: 0.6em\">7</figcaption>\n",
       "            </figure>\n",
       "        \n",
       "            <figure style=\"margin: 5px !important;\">\n",
       "              <img src=\"data:image/png;base64,iVBORw0KGgoAAAANSUhEUgAAAIAAAACACAAAAADmVT4XAAAFJElEQVR4nO2ayXIbNxCGG9vsHI4oylJcOaZySeWc93+Q2E5kS6bEbfYNSw5cRB2nwRrlMP9JVBWAjw30BhBg0qRJkyZNmjRp0geL2A2nwhEUALSSUmljhs/A7QDc5f3SB4Cu2G2zRgIMRrAF+Pzn7wkAVD+//W200XrwDLYAD3/89QkA8i9eU3W6H74JlgAi/vzbHQDUNF1tW1ONbgHCvRAAwL+5e9hJo3s1MgAYJQEAwE1+yZXqqn5kACPbOgYAQ2f3taz3dPAMtgBadgAAioW3TbX2xwc4HnvCg3mVRM7wuDYc+Z3O0Y97YTzzxegA5+hLHT8MPD46AKP0sCbhru8JNhzA4gwQSml4+tKUcCE44utYAFDheouZd1qUEFRqtQBgbpTcJT47fDIGlY1tzgBzo8VyfgQwRmutEQQWANQJ4nnkWB5jGwDhR6GHcP2rATh+4GNc/2oA3PFcjOtfC4AwgXP9awFcRxYARiulMJ53LQAwWuF6gSsBEMo4p+QDvcCN5nH4gYFIRMuHh0XAPg4g/vTr52XI7A6BRTbk0e3D/dy1tIBdOo7jwDaQ2FTFTLgeP/XDhFKUR9gEIsI4g2NHTgjBeaRNHCCUXg7HHUb0FhDgnLEzgFFSSjW8OcYCEEKF51ykQt03Vd2p4VZAbgGhPAg9fmGArirKRo4FQChzZ+/KMdWUWV71o1mACjeKPPE2WrZFltfdaADMjeJZcAGgmjzNxrMA4UF8M4/c82gi63yfFt1wN0BaQPjzZB44b3lA1dluX462BYR54Sz037bAyDpLs7IfzQKUO47D6dkLTN+UeV6P5wVACCXH2E8AQMumzFFxABuKzel26NCTq76pyrIZzwJGv2+GVd/UZd2OF4rhffIzsmvKsu4G35PiLWC0urCAUX1T5o1EtClYCxy6InOAAa36uixaOV46vpQB07dNXZUdpk3C1gNMOKfO3GhZFUVZtRIzExKAeeEs8g+XE6atdqt12qDWxwKIIFmcroZ1vXn+/rRrcDNhk1F0c3c7OwM8/fu878YEIE6YLJLQOW5Btn7ZFD2uTcYBMOHP4tnxDIDq6goVhKwAojjyxPHjW2IYC4A7fhQGLiOHrogyzrAXFTgvcP0gCH1xzAeEMcaw13XDAQihPIrCwBMU1Pl/6IsaBIBwg0Uy8893M4RQxhgdzQLUnd3c3cYeBwAwBAAIpQx9WTX8EFJntljeRJc3IwaMQTbHCAAignh+2ZQY1bdth0nFSAAmfO/d+5Ss0l1aIQpSHABQLgQ/bgABAOjy9cs6RzQlAKg4wLjjCErMaX1Vp6+rTYVMRgg35I4fnBpjQwDqIt3tMuT6GAAnShbz4DBQKyl3+zTHfn8MAPOST/e3kQAAILory5fXfdVi18cEIi+5u18eixFV7TdPL2mNK8eQAE50c3t8LiSq3j79WO0bZDGAAgDueOfHMlVunr6v0gZ/YY0IRPDWGIPMV/98fU7RRxBjAWOM1tocCGT289vXbT74pys2AIenIn1Iv6pYP/0oJP4IoCqiixJQt9l2a7G8/buh7i084AoAFAwyDV8JwF6WANL66RRxCCnjwnEBAEyPr4TOsw0eQahwPe/wZ1e3yELIAgAIocd6qCuyClkIWQAY1dVlCwCm3r2us8ZyC4afAV2uH/nWo1o2xevjqsBnYiRAv/1CniNBteqr7PVxa5EHkAAb2EQuA9Cqb6p0Z5EJATA/bCZccEaBGDBGa9xb3aRJkyZNmjRp0qT/k/4Dj9dBb3a3IukAAAAASUVORK5CYII=\" style=\"height: auto\">\n",
       "              <figcaption style=\"font-size: 0.6em\">1</figcaption>\n",
       "            </figure>\n",
       "        \n",
       "            <figure style=\"margin: 5px !important;\">\n",
       "              <img src=\"data:image/png;base64,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\" style=\"height: auto\">\n",
       "              <figcaption style=\"font-size: 0.6em\">9</figcaption>\n",
       "            </figure>\n",
       "        \n",
       "            <figure style=\"margin: 5px !important;\">\n",
       "              <img src=\"data:image/png;base64,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\" style=\"height: auto\">\n",
       "              <figcaption style=\"font-size: 0.6em\">2</figcaption>\n",
       "            </figure>\n",
       "        \n",
       "    </div>"
      ],
      "text/plain": [
       "<IPython.core.display.HTML object>"
      ]
     },
     "execution_count": 5,
     "metadata": {},
     "output_type": "execute_result"
    }
   ],
   "source": [
    "count = 8\n",
    "\n",
    "def get_images_and_labels(df, ids):\n",
    "    image_datas = df.loc[ids]['png']\n",
    "    images = [Image.open(io.BytesIO(image_data)) for image_data in image_datas]\n",
    "    labels = df.loc[ids]['value']\n",
    "    return images, list(labels)\n",
    "\n",
    "def get_some_random_images_and_labels(df, count):\n",
    "    image_ids = RNG.choice(df.index.unique(), count, replace=False)\n",
    "    return get_images_and_labels(df, image_ids)\n",
    "\n",
    "train_images, train_labels = get_some_random_images_and_labels(df_train_images, count)\n",
    "test_images, test_labels = get_some_random_images_and_labels(df_test_images, count)\n",
    "\n",
    "display_images_grid(train_images + test_images, captions=train_labels + test_labels, col_count=count)"
   ]
  },
  {
   "cell_type": "markdown",
   "id": "49a9c189-4620-4fff-b12c-0553540cc48d",
   "metadata": {},
   "source": [
    "# Core logic"
   ]
  },
  {
   "cell_type": "markdown",
   "id": "3e1f9cdd-a16c-4406-9eb6-69a653b84175",
   "metadata": {},
   "source": [
    "## Hyper Parameters"
   ]
  },
  {
   "cell_type": "code",
   "execution_count": 6,
   "id": "8d1303e2-9a31-466c-8eb6-48bd7a0a7fb8",
   "metadata": {},
   "outputs": [],
   "source": [
    "# HP_SIGNAL_VEC_LEN = 2000 # aka SBV\n",
    "# HP_SIGNAL_VEC_NON_ZERO_BITS = 9\n",
    "# HP_SIGNAL_ENCODING = f'{HP_SIGNAL_VEC_LEN}/{HP_SIGNAL_VEC_NON_ZERO_BITS}'\n",
    "\n",
    "# HP_CLUSTER_ONES_COUNT_THRES = 5\n",
    "# HP_CLUSTER_CREATION_ONES_COUNT_THRES = 6\n",
    "# HP_CLUSTER_LEARN_STATE_IDLE_CYCLES = 10\n",
    "# HP_CLUSTER_PREPROD_STATE_IDLE_CYCLES = 30\n",
    "# HP_CLUSTER_LEARN_STATE_SIGNALS_PROCESSED_THRES = 50\n",
    "# HP_CLUSTER_PREPROD_STATE_SIGNALS_PROCESSED_THRES = 10\n",
    "# HP_CLUSTER_BINARIZE_THRES = 0.75\n",
    "# HP_CLUSTER_ACCURACY_THRES = 0.75\n",
    "\n",
    "# HP_PIXELS_COUNT = config.sample_size ** 2\n",
    "\n",
    "HP_SIGNAL_VEC_LEN = 256 # aka SBV\n",
    "HP_SIGNAL_VEC_NON_ZERO_BITS = 6\n",
    "HP_SIGNAL_ENCODING = f'{HP_SIGNAL_VEC_LEN}/{HP_SIGNAL_VEC_NON_ZERO_BITS}'\n",
    "\n",
    "HP_CLUSTER_ONES_COUNT_THRES = 3\n",
    "HP_CLUSTER_CREATION_ONES_COUNT_THRES = 4\n",
    "HP_CLUSTER_LEARN_STATE_IDLE_CYCLES = 10\n",
    "HP_CLUSTER_PREPROD_STATE_IDLE_CYCLES = 30\n",
    "HP_CLUSTER_LEARN_STATE_SIGNALS_PROCESSED_THRES = 40\n",
    "HP_CLUSTER_PREPROD_STATE_SIGNALS_PROCESSED_THRES = 20\n",
    "HP_CLUSTER_BINARIZE_THRES = 0.75\n",
    "HP_CLUSTER_ACCURACY_THRES = 0.95\n",
    "\n",
    "HP_TOY_IMAGE_SIZE = 10\n",
    "HP_TOY_IMAGE_SQUARE = HP_TOY_IMAGE_SIZE ** 2\n",
    "HP_TOY_IMAGE_KERNEL_SIZE = 8\n",
    "HP_TOY_IMAGE_KERNEL_SQUARE = HP_TOY_IMAGE_KERNEL_SIZE ** 2\n",
    "assert HP_TOY_IMAGE_KERNEL_SIZE <= HP_TOY_IMAGE_SIZE\n",
    "HP_TOY_IMAGE_ONES_COUNT = 8\n",
    "\n",
    "HP_PIXELS_COUNT = HP_TOY_IMAGE_SQUARE"
   ]
  },
  {
   "cell_type": "markdown",
   "id": "24850512-c1a7-4d52-a17a-bf1a5f7641a7",
   "metadata": {},
   "source": [
    "## Types"
   ]
  },
  {
   "cell_type": "code",
   "execution_count": 7,
   "id": "62aec35b-11c1-4d9a-9cdc-b7315222c610",
   "metadata": {},
   "outputs": [],
   "source": [
    "class ClusterState(StrEnum):\n",
    "    LEARN = auto()\n",
    "    PREPROD = auto()\n",
    "    PROD = auto()\n",
    "    DEAD = auto()\n",
    "\n",
    "class ClusterMeta:\n",
    "    def __init__(self, cluster_ind, cluster_key, output_bit, nu, cycle):\n",
    "        self.state = ClusterState.LEARN\n",
    "        self.cluster_ind = cluster_ind\n",
    "        self.cluster_key = cluster_key\n",
    "        self.output_bit = output_bit\n",
    "        self.nu = nu\n",
    "        self.cycle = cycle\n",
    "        self.ones_count = 0\n",
    "        self.signals_processed = 0\n",
    "        self.stats = Counter()\n",
    "        self.verify_image_ids = {}\n",
    "        self.alarm_cycle = None"
   ]
  },
  {
   "cell_type": "markdown",
   "id": "f70e4714-7395-4a8a-93f7-7248507d6e9f",
   "metadata": {},
   "source": [
    "## Memory"
   ]
  },
  {
   "cell_type": "code",
   "execution_count": 8,
   "id": "385867d3-df1a-44cd-a8b6-ab94e752aad3",
   "metadata": {},
   "outputs": [],
   "source": [
    "def hdv_array_log_like_grow_policy(size):\n",
    "    k = math.log(size, 100_000)\n",
    "    new_size = size * 2 if k < 1 else size * 1.1\n",
    "    return int(new_size)\n",
    "\n",
    "CLUSTERS = HdvArray(HP_SIGNAL_VEC_LEN, xp, dtype='f', grow_policy=hdv_array_log_like_grow_policy)\n",
    "CLUSTER_MASKS = HdvArray(HP_SIGNAL_VEC_LEN, xp, dtype='f', grow_policy=hdv_array_log_like_grow_policy)\n",
    "\n",
    "CLUSTER_KEY_TO_CLUSTER_IND = {} # key - cluster key (i.e. pair (output_bit, tuple(input_bits))), value - cluster ind\n",
    "\n",
    "CLUSTER_METAS = {} # key - cluster index, value ClusterMeta instance"
   ]
  },
  {
   "cell_type": "code",
   "execution_count": 9,
   "id": "944a2145-43bc-4ece-b640-e4562074deaf",
   "metadata": {},
   "outputs": [],
   "source": [
    "def gc_memory():\n",
    "    gc.collect()\n",
    "    \n",
    "    if cp.cuda.is_available():\n",
    "        cp.get_default_memory_pool().free_all_blocks()\n",
    "\n",
    "def clear_memory(with_caches=False):\n",
    "    CLUSTER_KEY_TO_CLUSTER_IND.clear()\n",
    "    CLUSTER_METAS.clear()\n",
    "    CLUSTER_MASKS.clear()\n",
    "    CLUSTERS.clear()\n",
    "    \n",
    "    if with_caches:\n",
    "        pass\n",
    "    \n",
    "    gc_memory()"
   ]
  },
  {
   "cell_type": "markdown",
   "id": "6438e5f1-7eb4-483c-8572-a32543ab348d",
   "metadata": {},
   "source": [
    "## SBV"
   ]
  },
  {
   "cell_type": "raw",
   "id": "c0294e1e-250b-45b4-aa7b-8172ed6328c5",
   "metadata": {},
   "source": [
    "SBV stands for \"sparsed binary vector\""
   ]
  },
  {
   "cell_type": "code",
   "execution_count": 10,
   "id": "b1a43c52-4006-4a8e-a97d-507ee8f69ef7",
   "metadata": {},
   "outputs": [
    {
     "name": "stdout",
     "output_type": "stream",
     "text": [
      "PIXEL_SBVS loaded from database (ROWID=2)\n"
     ]
    }
   ],
   "source": [
    "df_pixels = pd.read_sql('SELECT rowid, sbv FROM pixels WHERE encoding=:encoding', params={'encoding': HP_SIGNAL_ENCODING}, con=transfs_db_con)\n",
    "\n",
    "if len(df_pixels) > 0:\n",
    "    PIXEL_SBVS = pickle.loads(df_pixels.iloc[0].sbv)\n",
    "    print(f'PIXEL_SBVS loaded from database (ROWID={df_pixels.iloc[0].rowid})')\n",
    "else:\n",
    "    PIXEL_SBVS = np.zeros((HP_PIXELS_COUNT, HP_SIGNAL_VEC_LEN), dtype='f')\n",
    "    \n",
    "    for i in range(PIXEL_SBVS.shape[0]):\n",
    "        ii = RNG.choice(HP_SIGNAL_VEC_LEN, HP_SIGNAL_VEC_NON_ZERO_BITS, replace=False)\n",
    "        PIXEL_SBVS[i][ii] = 1\n",
    "\n",
    "    transfs_db_con.execute('INSERT INTO pixels (encoding, sbv) VALUES (:encoding, :sbv)', {'encoding': HP_SIGNAL_ENCODING, 'sbv': pickle.dumps(PIXEL_SBVS)})\n",
    "    print('PIXEL_SBVS created from scratch')\n",
    "\n",
    "assert PIXEL_SBVS.shape[0] == HP_PIXELS_COUNT\n",
    "assert np.all(PIXEL_SBVS.sum(axis=1) == HP_SIGNAL_VEC_NON_ZERO_BITS)\n",
    "# PIXEL_SBVS = xp_array_to_gpu(PIXEL_SBVS)"
   ]
  },
  {
   "cell_type": "markdown",
   "id": "de73e165-ba51-4050-b4b8-1af91973f3e3",
   "metadata": {},
   "source": [
    "## lambdas"
   ]
  },
  {
   "cell_type": "code",
   "execution_count": 11,
   "id": "9973a30b-4267-42a8-b61c-5c2c869c902c",
   "metadata": {},
   "outputs": [],
   "source": [
    "fetch_si_xy = lambda si: (si.x, si.y)\n",
    "get_sequence = lambda sequences: np.array(list(itertools.chain.from_iterable(sequences)))\n",
    "get_sequences_reading = lambda sequences, seq_reading_code: list(map(lambda r: sequences[r[0]] if r[1] == 0 else list(reversed(sequences[r[0]])), seq_reading_code))\n",
    "get_xy_sequence = lambda sequence, si_ind_dict: np.array(list(map(lambda si_ind: fetch_si_xy(si_ind_dict[si_ind]), sequence)))\n",
    "get_raw_image = lambda image_id: Image.open(io.BytesIO((df_train_images if image_id < 100_000_000 else df_test_images).loc[image_id]['png']))\n",
    "get_cluster_key = lambda output_bit, input_bits: (int(output_bit), tuple(map(int, sorted(input_bits))))\n",
    "signal_elem_ind_to_xy = lambda ind: (int(ind % HP_COMBI_SPACE_SIZE), int(ind // HP_COMBI_SPACE_SIZE))\n",
    "signal_elem_inds_to_xy = lambda inds: list(map(lambda ind: signal_elem_ind_to_xy(ind), inds))\n",
    "get_cluster_logic = lambda cluster_ind: (signal_elem_inds_to_xy(xp_array_from_gpu(xp.argwhere(CLUSTERS.array_active[cluster_ind]).ravel()).astype('i')), signal_elem_ind_to_xy(CLUSTER_METAS[cluster_ind].output_bit))"
   ]
  },
  {
   "cell_type": "markdown",
   "id": "a6579ab9-f958-4519-9eff-82e5e9b4677f",
   "metadata": {},
   "source": [
    "## calc_seq_ipxy"
   ]
  },
  {
   "cell_type": "raw",
   "id": "c8f25bec-0e1b-4f6d-9fd1-42e8c2d678a9",
   "metadata": {},
   "source": [
    "IPXY = InterPolate by XY"
   ]
  },
  {
   "cell_type": "code",
   "execution_count": 12,
   "id": "442809ec-87e2-47d6-be59-672b60fcd5bc",
   "metadata": {},
   "outputs": [],
   "source": [
    "def calc_seq_ipxy(sequences, si_ind_dict):\n",
    "    unique_pts = {} # Dictionaries preserve insertion order  (https://docs.python.org/3/library/stdtypes.html#typesmapping)\n",
    "        \n",
    "    for sequence in sequences:\n",
    "        xy_sequence = get_xy_sequence(sequence, si_ind_dict)\n",
    "        xy_sequence_fwd = np.roll(xy_sequence, -1, axis=0)\n",
    "        vec_sequence = xy_sequence_fwd - xy_sequence\n",
    "        vec_sequence[-1,:] = 0 # get rid of reciprocal vector which connects tail to tip\n",
    "        vec_len_sequence = np.linalg.norm(vec_sequence, axis=1)\n",
    "        vec_len_sequence_nozero = np.where(vec_len_sequence != 0, vec_len_sequence, 1e-6) # prevent 0 len vectors\n",
    "        norm_vec_sequence = (vec_sequence.T / vec_len_sequence_nozero).T\n",
    "        vec_len_sequence = np.round(vec_len_sequence, decimals=0).astype(int)\n",
    "        \n",
    "        assert len(sequence) == vec_sequence.shape[0]\n",
    "        assert len(sequence) == vec_len_sequence.shape[0]\n",
    "        assert len(sequence) == norm_vec_sequence.shape[0]\n",
    "        \n",
    "        for pt, pt_to, norm_vec, vec_len in zip(xy_sequence, xy_sequence_fwd, norm_vec_sequence, vec_len_sequence):\n",
    "            if vec_len <= 0:\n",
    "                continue\n",
    "\n",
    "            pts = pt + (np.arange(vec_len) * norm_vec[np.newaxis,:].T).T # path interpolation\n",
    "            pts = np.round(pts, decimals=0).astype(int)\n",
    "            pts = np.vstack([pts, pt_to])\n",
    "            unique_pts.update(map(lambda p: (tuple(p), 1), pts))\n",
    "\n",
    "    return np.vstack(list(unique_pts.keys()))"
   ]
  },
  {
   "cell_type": "markdown",
   "id": "2fbb6298-8d85-4d7b-bd1b-db831bd714d0",
   "metadata": {},
   "source": [
    "## calc_seq_bv"
   ]
  },
  {
   "cell_type": "raw",
   "id": "d7c672d8-825f-4a48-ae5c-6c4a4a68b901",
   "metadata": {},
   "source": [
    "BV - binary vector with one-hot encoding"
   ]
  },
  {
   "cell_type": "code",
   "execution_count": 13,
   "id": "bf069dce-adf8-453c-be28-b55a61f97627",
   "metadata": {},
   "outputs": [],
   "source": [
    "def calc_seq_bv(seq_xy):\n",
    "    seq_xy = xp_array_to_gpu(seq_xy)\n",
    "    seq_xy = seq_xy * (HP_COMBI_SPACE_SIZE / config.sample_size)\n",
    "    # Leave only points which fit into square defined by HP_COMBI_CLUSTERS_SPACE_SIZE,\n",
    "    # use filtering instead of clipping because clipping tends to introduce false point clustering at the bounadries\n",
    "    seq_xy = xp.round(seq_xy, decimals=0)\n",
    "    ii = xp.all(((seq_xy >= 0) & (seq_xy < HP_COMBI_SPACE_SIZE)), axis=1) \n",
    "    seq_xy = seq_xy[ii]\n",
    "    ind_seq = (seq_xy @ xp.array([1, HP_COMBI_SPACE_SIZE])).astype(int)\n",
    "    bitmap_vec = xp.zeros((HP_COMBI_SPACE_SIZE, HP_COMBI_SPACE_SIZE), dtype='f').ravel()\n",
    "    bitmap_vec[ind_seq] = 1\n",
    "    return bitmap_vec"
   ]
  },
  {
   "cell_type": "markdown",
   "id": "8a7dc09c-d4b0-4fbd-a76d-92684194d275",
   "metadata": {},
   "source": [
    "## calc_seq_sbv"
   ]
  },
  {
   "cell_type": "code",
   "execution_count": 14,
   "id": "6b092598-5634-479f-b788-de7de2b5b22e",
   "metadata": {},
   "outputs": [],
   "source": [
    "def calc_seq_sbv(seq_xy):\n",
    "    ii = np.all(((seq_xy >= 0) & (seq_xy < config.sample_size)), axis=1) \n",
    "    seq_xy = seq_xy[ii]\n",
    "    ind_seq = (seq_xy @ np.array([1, config.sample_size])).astype(int)\n",
    "    seq_sbv = np.where(np.sum(PIXEL_SBVS[ind_seq], axis=0) > 0, 1, 0) # aka Bloom filter\n",
    "    return seq_sbv"
   ]
  },
  {
   "cell_type": "code",
   "execution_count": 15,
   "id": "f929d080-2398-4055-a1d9-0189f89bee39",
   "metadata": {},
   "outputs": [],
   "source": [
    "# def calc_seq_sbv(seq_xy):\n",
    "#     seq_xy = xp_array_to_gpu(seq_xy)\n",
    "#     ii = xp.all(((seq_xy >= 0) & (seq_xy < config.sample_size)), axis=1) \n",
    "#     seq_xy = seq_xy[ii]\n",
    "#     ind_seq = (seq_xy @ xp.array([1, config.sample_size])).astype(int)\n",
    "#     seq_sbv = xp.where(xp.sum(PIXEL_SBVS[ind_seq], axis=0) > 0, 1, 0) # aka Bloom filter\n",
    "#     return seq_sbv"
   ]
  },
  {
   "cell_type": "markdown",
   "id": "76bee177-67c1-4f6d-8ab6-14d652cb5515",
   "metadata": {},
   "source": [
    "## seq_sbv_to_bv"
   ]
  },
  {
   "cell_type": "code",
   "execution_count": 16,
   "id": "3ca199c2-561d-449c-be1a-9662e97ef703",
   "metadata": {},
   "outputs": [],
   "source": [
    "def seq_sbv_to_bv(seq_sbv):\n",
    "    seq_sbv = xp_array_from_gpu(seq_sbv)\n",
    "    pixel_sbv_inds = np.argwhere((PIXEL_SBVS @ seq_sbv) >= HP_SIGNAL_VEC_NON_ZERO_BITS).ravel()\n",
    "    seq_bv = np.zeros((config.sample_size, config.sample_size)).ravel()\n",
    "    seq_bv[pixel_sbv_inds] = 1\n",
    "    return seq_bv"
   ]
  },
  {
   "cell_type": "markdown",
   "id": "5d288799-ded2-4d59-a102-d6fec7581575",
   "metadata": {},
   "source": [
    "## get_seq_bv_pair"
   ]
  },
  {
   "cell_type": "code",
   "execution_count": 17,
   "id": "57e7573e-e617-4e98-b4e7-927032d178b5",
   "metadata": {},
   "outputs": [],
   "source": [
    "def get_seq_bv_pair(df_image, transf):\n",
    "    si_ind_dict = pickle.loads(df_image.inner_si_ind_dict)\n",
    "    sequences = pickle.loads(df_image.inner_sequences)\n",
    "    seq_reading_code = tuple(zip(range(len(sequences)), (0,) * len(sequences)))\n",
    "    seq_reading = get_sequences_reading(sequences, seq_reading_code)\n",
    "    seq_ipxy = calc_seq_ipxy(seq_reading, si_ind_dict)\n",
    "    seq_bv = calc_seq_bv(seq_ipxy)\n",
    "\n",
    "    seq_ipxy_transf = np.hstack([seq_ipxy, np.ones(seq_ipxy.shape[0])[:,np.newaxis]]) # make homogeneous coords\n",
    "    seq_ipxy_transf = (transf @ seq_ipxy_transf.T).T[:,:2]\n",
    "    seq_bv_transf = calc_seq_bv(seq_ipxy_transf)\n",
    "    \n",
    "    return seq_bv, seq_bv_transf"
   ]
  },
  {
   "cell_type": "markdown",
   "id": "1f4341be-05a5-42c1-8c1b-cd855427d724",
   "metadata": {},
   "source": [
    "## get_seq_sbv_pair"
   ]
  },
  {
   "cell_type": "code",
   "execution_count": 18,
   "id": "8d3dbf81-c490-4b1f-8f86-c08a50a2d0b5",
   "metadata": {},
   "outputs": [],
   "source": [
    "def get_seq_sbv_pair_kern(sequences, si_ind_dict, transf):\n",
    "    seq = get_sequence(sequences)\n",
    "    seq_xy = get_xy_sequence(seq, si_ind_dict)\n",
    "    \n",
    "    seq_sbv = calc_seq_sbv(seq_xy)\n",
    "\n",
    "    seq_xy_transf = np.hstack([seq_xy, np.ones(seq_xy.shape[0])[:,np.newaxis]]) # make homogeneous coords\n",
    "    seq_xy_transf = (transf @ seq_xy_transf.T).T[:,:2]\n",
    "    seq_sbv_transf = calc_seq_sbv(seq_xy_transf)\n",
    "    \n",
    "    return seq_sbv, seq_sbv_transf"
   ]
  },
  {
   "cell_type": "code",
   "execution_count": 19,
   "id": "1fa66b17-293e-4681-9058-e2b0ac01d9ab",
   "metadata": {},
   "outputs": [],
   "source": [
    "def get_seq_sbv_pair(df_image, transf):\n",
    "    sequences = pickle.loads(df_image.inner_sequences)\n",
    "    si_ind_dict = pickle.loads(df_image.inner_si_ind_dict)\n",
    "    return get_seq_sbv_pair_kern(sequences, si_ind_dict, transf)"
   ]
  },
  {
   "cell_type": "markdown",
   "id": "aa61025a-f1f8-4b85-9b3b-a28c919b4387",
   "metadata": {},
   "source": [
    "## get_random_toy_image_ids"
   ]
  },
  {
   "cell_type": "code",
   "execution_count": 20,
   "id": "b0f9ed5a-fde1-473f-8f25-895767869647",
   "metadata": {},
   "outputs": [],
   "source": [
    "def get_random_toy_image_ids(count):\n",
    "    result = []\n",
    "    bits_list = RNG.integers(2, size=(count, HP_TOY_IMAGE_KERNEL_SQUARE), dtype='b')\n",
    "\n",
    "    for _ in range(count):\n",
    "        bits = np.zeros(HP_TOY_IMAGE_KERNEL_SQUARE, dtype='b')\n",
    "        ii = RNG.choice(HP_TOY_IMAGE_KERNEL_SQUARE, HP_TOY_IMAGE_ONES_COUNT, replace=False)\n",
    "        bits[ii] = 1\n",
    "        image_id = sum(map(lambda x: 2**int(x), ii))\n",
    "        assert ''.join(map(str, reversed(bits))) == np.binary_repr(image_id, width=HP_TOY_IMAGE_KERNEL_SQUARE)\n",
    "        result.append(image_id)\n",
    "\n",
    "    return result"
   ]
  },
  {
   "cell_type": "markdown",
   "id": "54d7a684-fe05-46e1-8c6e-a1b75279c8d4",
   "metadata": {},
   "source": [
    "## get_toy_image"
   ]
  },
  {
   "cell_type": "code",
   "execution_count": 21,
   "id": "18fd1716-363b-419b-81b4-f91b632785b3",
   "metadata": {},
   "outputs": [],
   "source": [
    "def get_toy_image(image_id):\n",
    "    bits = np.binary_repr(image_id, width=HP_TOY_IMAGE_KERNEL_SQUARE)\n",
    "    bits = np.array(list(map(int, reversed(bits))), dtype='f')\n",
    "    image = np.zeros((HP_TOY_IMAGE_SIZE, HP_TOY_IMAGE_SIZE), dtype='f')\n",
    "    offset = (HP_TOY_IMAGE_SIZE - HP_TOY_IMAGE_KERNEL_SIZE) // 2\n",
    "    image[offset:offset+HP_TOY_IMAGE_KERNEL_SIZE,offset:offset+HP_TOY_IMAGE_KERNEL_SIZE] = bits.reshape(HP_TOY_IMAGE_KERNEL_SIZE, -1)\n",
    "    return image.ravel()"
   ]
  },
  {
   "cell_type": "markdown",
   "id": "c53ad2f3-dc17-4bcb-a9c9-9b44aa1f3a42",
   "metadata": {},
   "source": [
    "## calc_toy_image_sbv"
   ]
  },
  {
   "cell_type": "code",
   "execution_count": 22,
   "id": "d240081d-6785-4dc9-9139-114faf2f88d4",
   "metadata": {},
   "outputs": [],
   "source": [
    "def calc_toy_image_sbv(image):\n",
    "    assert image.shape[0] == PIXEL_SBVS.shape[0]\n",
    "    mask = image.astype(bool)\n",
    "    active_pixels = PIXEL_SBVS[mask]\n",
    "    return np.where(active_pixels.sum(axis = 0) > 0, 1, 0) # aka Bloom filter"
   ]
  },
  {
   "cell_type": "markdown",
   "id": "33dcc7c6-f12f-4c92-b55e-3901f92796ce",
   "metadata": {},
   "source": [
    "## toy_image_sbv_to_bv"
   ]
  },
  {
   "cell_type": "code",
   "execution_count": 23,
   "id": "b4c1ec61-f00f-447e-9cf1-a161ef102b4f",
   "metadata": {},
   "outputs": [],
   "source": [
    "def toy_image_sbv_to_bv(sbv):\n",
    "    sbv = xp_array_from_gpu(sbv)\n",
    "    pixel_sbv_inds = np.argwhere((PIXEL_SBVS @ sbv) >= HP_SIGNAL_VEC_NON_ZERO_BITS).ravel()\n",
    "    bv = np.zeros((HP_TOY_IMAGE_SIZE, HP_TOY_IMAGE_SIZE)).ravel()\n",
    "    bv[pixel_sbv_inds] = 1\n",
    "    return bv"
   ]
  },
  {
   "cell_type": "markdown",
   "id": "454d74a8-397e-42b6-af1e-18437ef2f791",
   "metadata": {},
   "source": [
    "## .lab hdc"
   ]
  },
  {
   "cell_type": "code",
   "execution_count": 24,
   "id": "8a77cf8e-74e7-408e-83ed-bf28a26b2875",
   "metadata": {},
   "outputs": [],
   "source": [
    "# hdc = Hdc(10_000, np, dtype='f')\n",
    "# hdc.bundle = hdc.bundle_noties\n",
    "# hdc.cos_sim_threshold = 0.055\n",
    "# hdc.hdist_threshold = 4700\n",
    "\n",
    "hdc = Hdc(1_000, np, dtype='f')\n",
    "hdc.bundle = hdc.bundle_noties\n",
    "hdc.cos_sim_threshold = 0.10\n",
    "\n",
    "# hdc = Hdc(2_000, np, dtype='f')\n",
    "# hdc.bundle = hdc.bundle_noties\n",
    "# hdc.cos_sim_threshold = 0.10"
   ]
  },
  {
   "cell_type": "code",
   "execution_count": 25,
   "id": "69ac53e2-f39a-4e59-abfd-2b5eeb834122",
   "metadata": {},
   "outputs": [],
   "source": [
    "PIXEL_HDVS = hdc(config.sample_size ** 2)\n",
    "PIXEL_HDVS_NORM = hdc.normalize(PIXEL_HDVS)"
   ]
  },
  {
   "cell_type": "code",
   "execution_count": 26,
   "id": "af16ae38-e56f-48df-85c5-426649ab275a",
   "metadata": {},
   "outputs": [
    {
     "data": {
      "image/png": "[encoded data removed]",
      "text/plain": [
       "<Figure size 1200x480 with 2 Axes>"
      ]
     },
     "metadata": {},
     "output_type": "display_data"
    }
   ],
   "source": [
    "image_id = RNG.choice(df_train_images.index)\n",
    "image = next(df_train_images.loc[[image_id]].itertuples())\n",
    "si_ind_dict = pickle.loads(image.inner_si_ind_dict)\n",
    "sequences = pickle.loads(image.inner_sequences)\n",
    "seq = get_sequence(sequences)\n",
    "seq_xy = get_xy_sequence(seq, si_ind_dict)\n",
    "ii = np.all(((seq_xy >= 0) & (seq_xy < config.sample_size)), axis=1) \n",
    "seq_xy = seq_xy[ii]\n",
    "ind_seq = (seq_xy @ np.array([1, config.sample_size])).astype(int)\n",
    "seq_bv_true = np.zeros((config.sample_size, config.sample_size)).ravel()\n",
    "seq_bv_true[ind_seq] = 1\n",
    "\n",
    "seq_hdv = hdc.bundle(PIXEL_HDVS[ind_seq])\n",
    "seq_hdv_binary = hdc.to_binary(seq_hdv)\n",
    "seq_hdv_bipolar = hdc.to_bipolar(seq_hdv_binary)\n",
    "seq_hdv_bipolar_norm = hdc.normalize(seq_hdv_bipolar)\n",
    "pixel_hdv_inds = np.argwhere((PIXEL_HDVS_NORM @ seq_hdv_bipolar_norm) > hdc.cos_sim_threshold).ravel()\n",
    "seq_bv = np.zeros((config.sample_size, config.sample_size)).ravel()\n",
    "seq_bv[pixel_hdv_inds] = 1\n",
    "\n",
    "error_level = np.count_nonzero(seq_bv != seq_bv_true)\n",
    "\n",
    "fig, (ax1, ax2) = plt.subplots(1, 2)\n",
    "fig.set_figwidth(12)\n",
    "ax1.set_title(f'image_id={image_id}, points={len(ind_seq)}')\n",
    "ax1.imshow(seq_bv_true.reshape(config.sample_size, -1));\n",
    "ax2.set_title(f'err.={error_level}')\n",
    "ax2.set_title(f'N={seq_hdv.shape[0]} / {seq_hdv_binary.sum():.0f}, err.={error_level}')\n",
    "ax2.imshow(seq_bv.reshape(config.sample_size, -1));"
   ]
  },
  {
   "cell_type": "code",
   "execution_count": 27,
   "id": "93bd685d-76e0-4de1-a67b-6a61e9a2c29b",
   "metadata": {},
   "outputs": [
    {
     "data": {
      "image/jpeg": "[encoded data removed]",
      "image/png": "[encoded data removed]",
      "text/plain": [
       "<PIL.PngImagePlugin.PngImageFile image mode=L size=128x128>"
      ]
     },
     "execution_count": 27,
     "metadata": {},
     "output_type": "execute_result"
    }
   ],
   "source": [
    "get_raw_image(image_id)"
   ]
  },
  {
   "cell_type": "markdown",
   "id": "582ad609-9873-4ab3-830f-488d15ecf505",
   "metadata": {},
   "source": [
    "## .lab sbv"
   ]
  },
  {
   "cell_type": "code",
   "execution_count": 28,
   "id": "9d858d2c-11f8-4b20-a572-c9c1edcfaf55",
   "metadata": {},
   "outputs": [],
   "source": [
    "# # image_id = RNG.choice(df_train_images.index)\n",
    "# # image_id = 44917 # 60 points\n",
    "# image = next(df_train_images.loc[[image_id]].itertuples())\n",
    "# si_ind_dict = pickle.loads(image.inner_si_ind_dict)\n",
    "# sequences = pickle.loads(image.inner_sequences)\n",
    "# seq = get_sequence(sequences)\n",
    "# seq_xy = get_xy_sequence(seq, si_ind_dict)\n",
    "# ii = np.all(((seq_xy >= 0) & (seq_xy < config.sample_size)), axis=1) \n",
    "# seq_xy = seq_xy[ii]\n",
    "# ind_seq = (seq_xy @ np.array([1, config.sample_size])).astype(int)\n",
    "# seq_bv_true = np.zeros((config.sample_size, config.sample_size)).ravel()\n",
    "# seq_bv_true[ind_seq] = 1\n",
    "\n",
    "# # seq_sbv = np.where(np.sum(PIXEL_SBVS[ind_seq], axis=0) > 0, 1, 0) # aka Bloom filter\n",
    "# seq_sbv = calc_seq_sbv(seq_xy)\n",
    "# # pixel_sbv_inds = np.argwhere((PIXEL_SBVS @ seq_sbv) >= SBV_NON_ZERO_INDS).ravel()\n",
    "# # seq_bv = np.zeros((config.sample_size, config.sample_size)).ravel()\n",
    "# # seq_bv[pixel_sbv_inds] = 1\n",
    "# seq_bv = seq_sbv_to_bv(seq_sbv)\n",
    "\n",
    "# error_level = np.count_nonzero(seq_bv != seq_bv_true)\n",
    "\n",
    "# fig, (ax1, ax2) = plt.subplots(1, 2)\n",
    "# fig.set_figwidth(12)\n",
    "# ax1.set_title(f'image_id={image_id}, points={len(ind_seq)}')\n",
    "# ax1.imshow(seq_bv_true.reshape(config.sample_size, -1))\n",
    "# ax2.set_title(f'sbv={seq_sbv.shape[0]} / {seq_sbv.sum()}, non_zero_inds={HP_SIGNAL_VEC_NON_ZERO_BITS}, err.={error_level}')\n",
    "# ax2.imshow(seq_bv.reshape(config.sample_size, -1));"
   ]
  },
  {
   "cell_type": "markdown",
   "id": "8a40ec0a-891b-4385-88c3-6699bf574057",
   "metadata": {},
   "source": [
    "# Train"
   ]
  },
  {
   "cell_type": "code",
   "execution_count": 29,
   "id": "4287bb50-b460-4bdd-8d19-322e30669418",
   "metadata": {},
   "outputs": [],
   "source": [
    "move_to_ooc_transf = np.array([\n",
    "    [1, 0, -config.sample_size / 2],\n",
    "    [0, 1, -config.sample_size / 2],\n",
    "    [0, 0, 1]])\n",
    "theta = np.deg2rad(45)\n",
    "cos_theta = math.cos(theta)\n",
    "sin_theta = math.sin(theta)\n",
    "rotation_transf = np.array([\n",
    "    [cos_theta, -sin_theta, 0],\n",
    "    [sin_theta, cos_theta, 0],\n",
    "    [0, 0, 1]\n",
    "])\n",
    "move_to_target_loc_transf = np.array([\n",
    "    [1, 0, config.sample_size / 2],\n",
    "    [0, 1, config.sample_size / 2],\n",
    "    [0, 0, 1]])\n",
    "transf_rotate_45 = move_to_target_loc_transf @ rotation_transf @ move_to_ooc_transf"
   ]
  },
  {
   "cell_type": "code",
   "execution_count": 30,
   "id": "0e80b056-0944-48cd-82c1-04b246f9551e",
   "metadata": {},
   "outputs": [],
   "source": [
    "transf_offset_10_0 = np.array([\n",
    "    [1, 0, 10],\n",
    "    [0, 1, 0],\n",
    "    [0, 0, 1]])"
   ]
  },
  {
   "cell_type": "code",
   "execution_count": 31,
   "id": "d53d9c0e-7546-4979-a953-0b8f46f1ce48",
   "metadata": {},
   "outputs": [],
   "source": [
    "transfs = {\n",
    "    'offset_10_0': transf_offset_10_0,\n",
    "    'rotate_45': transf_rotate_45,\n",
    "}\n",
    "transf_code = 'offset_10_0'\n",
    "transf = transfs[transf_code]"
   ]
  },
  {
   "cell_type": "code",
   "execution_count": 32,
   "id": "145172a9-54d1-4563-a7ab-cde78584810c",
   "metadata": {},
   "outputs": [],
   "source": [
    "LOG.is_enabled = True"
   ]
  },
  {
   "cell_type": "code",
   "execution_count": 33,
   "id": "b5b3a964-acfe-449a-8668-928587811e45",
   "metadata": {},
   "outputs": [],
   "source": [
    "clear_memory(with_caches=True)"
   ]
  },
  {
   "cell_type": "code",
   "execution_count": 85,
   "id": "66c512a5-916f-4a20-b37c-e0369e7d65c8",
   "metadata": {},
   "outputs": [],
   "source": [
    "# HP_OUTER_CYCLES_COUNT = 10\n",
    "# HP_INNER_CYCLES_COUNT = 500\n",
    "# HP_OUTPUT_BITS_PER_BATCH = 50\n",
    "\n",
    "# HP_POINTS_COUNT = HP_OUTPUT_BITS_PER_BATCH * 100\n",
    "# HP_POINT_NON_ZERO_BITS = 100\n",
    "\n",
    "HP_OUTER_CYCLES_COUNT = 1\n",
    "HP_INNER_CYCLES_COUNT = 200\n",
    "HP_OUTPUT_BITS_PER_BATCH = 256\n",
    "\n",
    "HP_POINTS_COUNT = 60000\n",
    "HP_POINT_NON_ZERO_BITS = 32"
   ]
  },
  {
   "cell_type": "code",
   "execution_count": 42,
   "id": "40a229ad-4719-4074-b4b8-ae25b0ce03c4",
   "metadata": {},
   "outputs": [],
   "source": [
    "# cycle_images_count = min(50, len(df_train_images))\n",
    "cycle_images_count = min(100, len(df_train_images))\n",
    "use_toy_images = True"
   ]
  },
  {
   "cell_type": "code",
   "execution_count": 43,
   "id": "b4697dfc-cda8-4f15-a003-edebae4c86d1",
   "metadata": {},
   "outputs": [],
   "source": [
    "# Counter(map(lambda m: m.ones_count, filter(lambda m: m.state == ClusterState.PROD, CLUSTER_METAS.values())))"
   ]
  },
  {
   "cell_type": "code",
   "execution_count": 82,
   "id": "9645bd13-b290-4d12-8dee-6f8ddaa29c83",
   "metadata": {},
   "outputs": [],
   "source": [
    "a = RNG.choice(1000, 1000)\n",
    "a = xp_array_to_gpu(a)"
   ]
  },
  {
   "cell_type": "code",
   "execution_count": 83,
   "id": "8d50659f-5d22-4cd6-903e-fdab294c9bd1",
   "metadata": {},
   "outputs": [
    {
     "name": "stdout",
     "output_type": "stream",
     "text": [
      "227 μs ± 14.9 μs per loop (mean ± std. dev. of 7 runs, 1,000 loops each)\n"
     ]
    }
   ],
   "source": [
    "%%timeit\n",
    "np.argwhere(a).ravel()"
   ]
  },
  {
   "cell_type": "code",
   "execution_count": 84,
   "id": "41a85d48-0ad3-4962-aaf0-3deac5999266",
   "metadata": {},
   "outputs": [
    {
     "name": "stdout",
     "output_type": "stream",
     "text": [
      "239 μs ± 3.8 μs per loop (mean ± std. dev. of 7 runs, 1,000 loops each)\n"
     ]
    }
   ],
   "source": [
    "%%timeit\n",
    "np.flatnonzero(a)"
   ]
  },
  {
   "cell_type": "code",
   "execution_count": 80,
   "id": "ecfe4198-f3d2-410f-82ba-30923c283ba2",
   "metadata": {},
   "outputs": [
    {
     "name": "stdout",
     "output_type": "stream",
     "text": [
      "212 μs ± 2.97 μs per loop (mean ± std. dev. of 7 runs, 1,000 loops each)\n"
     ]
    }
   ],
   "source": [
    "%%timeit\n",
    "xp.argwhere(a).ravel()"
   ]
  },
  {
   "cell_type": "code",
   "execution_count": 81,
   "id": "885ba16b-0221-438f-b275-08cf5e932cb9",
   "metadata": {},
   "outputs": [
    {
     "name": "stdout",
     "output_type": "stream",
     "text": [
      "226 μs ± 3.2 μs per loop (mean ± std. dev. of 7 runs, 1,000 loops each)\n"
     ]
    }
   ],
   "source": [
    "%%timeit\n",
    "xp.flatnonzero(a)"
   ]
  },
  {
   "cell_type": "code",
   "execution_count": 74,
   "id": "00b59461-0299-4163-9d00-92880ed1f128",
   "metadata": {},
   "outputs": [
    {
     "data": {
      "text/plain": [
       "array(True)"
      ]
     },
     "execution_count": 74,
     "metadata": {},
     "output_type": "execute_result"
    }
   ],
   "source": [
    "xp.all(xp.argwhere(a).ravel() == xp.flatnonzero(a))"
   ]
  },
  {
   "cell_type": "code",
   "execution_count": null,
   "id": "d8e2d0af-a5e3-4d21-806a-7aa82f734d0e",
   "metadata": {},
   "outputs": [],
   "source": []
  },
  {
   "cell_type": "code",
   "execution_count": null,
   "id": "36b24057-11eb-43f0-9154-e2301406d356",
   "metadata": {},
   "outputs": [],
   "source": []
  },
  {
   "cell_type": "code",
   "execution_count": 88,
   "id": "a2366ea9-8171-4373-b8ce-9cc0299c365f",
   "metadata": {},
   "outputs": [
    {
     "data": {
      "application/vnd.jupyter.widget-view+json": {
       "model_id": "a9babc0440b941ebbc209db5a817bc48",
       "version_major": 2,
       "version_minor": 0
      },
      "text/plain": [
       "Outer cycle:   0%|          | 0/1 [00:00<?, ?it/s]"
      ]
     },
     "metadata": {},
     "output_type": "display_data"
    },
    {
     "data": {
      "application/vnd.jupyter.widget-view+json": {
       "model_id": "9e565c6495fc4634953b4c1a89822a48",
       "version_major": 2,
       "version_minor": 0
      },
      "text/plain": [
       "Inner cycle:   0%|          | 0/200 [00:00<?, ?it/s]"
      ]
     },
     "metadata": {},
     "output_type": "display_data"
    },
    {
     "ename": "KeyError",
     "evalue": "(181, (14, 110, 235))",
     "output_type": "error",
     "traceback": [
      "\u001b[0;31m---------------------------------------------------------------------------\u001b[0m",
      "\u001b[0;31mKeyError\u001b[0m                                  Traceback (most recent call last)",
      "Cell \u001b[0;32mIn[88], line 266\u001b[0m\n\u001b[1;32m    264\u001b[0m \u001b[38;5;28;01mfor\u001b[39;00m cluster_meta \u001b[38;5;129;01min\u001b[39;00m unneeded_cluster_metas:\n\u001b[1;32m    265\u001b[0m     cluster_ind \u001b[38;5;241m=\u001b[39m cluster_meta\u001b[38;5;241m.\u001b[39mcluster_ind\n\u001b[0;32m--> 266\u001b[0m     \u001b[38;5;28;01mdel\u001b[39;00m CLUSTER_KEY_TO_CLUSTER_IND[cluster_meta\u001b[38;5;241m.\u001b[39mcluster_key]\n\u001b[1;32m    267\u001b[0m     \u001b[38;5;28;01mdel\u001b[39;00m CLUSTER_METAS[cluster_ind]\n\u001b[1;32m    268\u001b[0m     CLUSTERS\u001b[38;5;241m.\u001b[39mrelease(cluster_ind)\n",
      "\u001b[0;31mKeyError\u001b[0m: (181, (14, 110, 235))"
     ]
    }
   ],
   "source": [
    "# %%time\n",
    "batch_output_bits_filter = lambda s, e: True\n",
    "# batch_output_bits_filter = lambda s, e: s == 0\n",
    "\n",
    "for outer_cycle in tqdm(range(HP_OUTER_CYCLES_COUNT), desc='Outer cycle'):\n",
    "    with LOG.auto_prefix('OCYCLE', outer_cycle):\n",
    "        for start_output_bit in range(0, HP_SIGNAL_VEC_LEN, HP_OUTPUT_BITS_PER_BATCH):\n",
    "            end_output_bit = start_output_bit + HP_OUTPUT_BITS_PER_BATCH - 1\n",
    "            end_output_bit = min(end_output_bit, HP_SIGNAL_VEC_LEN - 1)\n",
    "            assert end_output_bit >= start_output_bit, (start_output_bit, end_output_bit)\n",
    "\n",
    "            if not batch_output_bits_filter(start_output_bit, end_output_bit):\n",
    "                continue\n",
    "            \n",
    "            with LOG.auto_prefix('OBITS', f'{start_output_bit}:{end_output_bit}'):\n",
    "                clear_memory(with_caches=True)\n",
    "\n",
    "                ## Create combinatorial points from scratch for output bits (OBITS)\n",
    "                POINTS = []\n",
    "                POINT_OUTPUT_BITS = []\n",
    "                output_bits = RNG.choice(HP_SIGNAL_VEC_LEN, HP_POINTS_COUNT)\n",
    "                \n",
    "                for output_bit in range(start_output_bit, end_output_bit + 1):\n",
    "                    point_vec = np.zeros(HP_SIGNAL_VEC_LEN, dtype='f')\n",
    "                    non_zero_inds = RNG.choice(HP_SIGNAL_VEC_LEN, HP_POINT_NON_ZERO_BITS, replace=False)\n",
    "                    point_vec[non_zero_inds] = 1\n",
    "                    POINTS.append(point_vec)\n",
    "                    POINT_OUTPUT_BITS.append(output_bit)\n",
    "                \n",
    "                POINTS = xp_array_to_gpu(np.vstack(POINTS))\n",
    "                POINT_OUTPUT_BITS = np.hstack(POINT_OUTPUT_BITS)\n",
    "                POINT_INDS = np.arange(POINTS.shape[0])\n",
    "\n",
    "                ## Restore prod clusters for output bits (OBITS)\n",
    "                df_clusters = pd.read_sql('SELECT ROWID, output_bit, sbv, meta FROM clusters WHERE encoding=:encoding AND transf_code=:transf_code ' + \n",
    "                                          'AND output_bit>=:start_output_bit AND output_bit<=:end_output_bit', \n",
    "                                          params={\n",
    "                                              'encoding': HP_SIGNAL_ENCODING, \n",
    "                                              'transf_code': transf_code,\n",
    "                                              'start_output_bit': start_output_bit, \n",
    "                                              'end_output_bit': end_output_bit}, \n",
    "                                          con=transfs_db_con)\n",
    "                \n",
    "                for cluster_row in df_clusters.itertuples():\n",
    "                    prod_clusters_for_output_bit = pickle.loads(cluster_row.sbv)\n",
    "                    prod_cluster_metas_for_output_bit = pickle.loads(cluster_row.meta)\n",
    "                    assert prod_clusters_for_output_bit.shape[0] == len(prod_cluster_metas_for_output_bit)\n",
    "\n",
    "                    for cluster, meta in zip(prod_clusters_for_output_bit, prod_cluster_metas_for_output_bit):\n",
    "                        cluster = xp_array_to_gpu(cluster)\n",
    "                        cluster_ind = CLUSTERS.lease()\n",
    "                        assert CLUSTER_MASKS.lease() == cluster_ind\n",
    "                        meta.cluster_ind = cluster_ind\n",
    "                        CLUSTERS.array_active[cluster_ind] = cluster\n",
    "                        CLUSTER_MASKS.array_active[cluster_ind] = cluster\n",
    "                        CLUSTER_METAS[cluster_ind] = meta\n",
    "                        meta.cluster_key = get_cluster_key(meta.output_bit, np.flatnonzero(cluster))\n",
    "                        CLUSTER_KEY_TO_CLUSTER_IND[meta.cluster_key] = cluster_ind\n",
    "\n",
    "                    LOG(f'Loaded {prod_clusters_for_output_bit.shape[0]} clusters for output bit {cluster_row.output_bit} (ROWID={cluster_row.rowid})')\n",
    "\n",
    "                prod_cluster_metas = list(filter(lambda c: c.state == ClusterState.PROD, CLUSTER_METAS.values()))\n",
    "                unique_prod_cluster_keys = set(map(lambda m: m.cluster_key, prod_cluster_metas))\n",
    "                \n",
    "                ## Mine clusters\n",
    "                for cycle in tqdm(range(HP_INNER_CYCLES_COUNT), leave=False, desc='Inner cycle'):\n",
    "                    with LOG.auto_prefix('ICYCLE', cycle):\n",
    "                        ### Prepare input and output signals for training\n",
    "                        signals_input = []\n",
    "                        signals_output = []\n",
    "                        \n",
    "                        if use_toy_images:\n",
    "                            cycle_image_ids = get_random_toy_image_ids(cycle_images_count)\n",
    "\n",
    "                            for cycle_image_id in cycle_image_ids:\n",
    "                                toy_image_origin = get_toy_image(cycle_image_id)\n",
    "                                toy_image_transf = np.roll(toy_image_origin.reshape(HP_TOY_IMAGE_SIZE, -1), 1, axis=1).ravel()\n",
    "                                toy_image_origin_sbv, toy_image_transf_sbv = calc_toy_image_sbv(toy_image_origin), calc_toy_image_sbv(toy_image_transf)\n",
    "                                signals_input.append(toy_image_origin_sbv)\n",
    "                                signals_output.append(toy_image_transf_sbv)\n",
    "                        else:\n",
    "                            cycle_image_ids = RNG.choice(df_train_images.index, cycle_images_count, replace=False).astype('i')\n",
    "                            df_cycle_images = df_train_images.loc[cycle_image_ids]\n",
    "                            \n",
    "                            for image in df_cycle_images.itertuples():\n",
    "                                seq_origin_sbv, seq_transf_sbv = get_seq_sbv_pair(image, transf)\n",
    "                                signals_input.append(seq_origin_sbv)\n",
    "                                signals_output.append(seq_transf_sbv)\n",
    "                        \n",
    "                        signals_input = xp.vstack(signals_input)\n",
    "                        signals_output = np.vstack(signals_output)\n",
    "                        ### \n",
    "                                         \n",
    "                        cluster_states = Counter(map(lambda m: m.state.name, CLUSTER_METAS.values()))\n",
    "                        \n",
    "                        LOG(f'===')\n",
    "                        LOG(f'Cycle {cycle} started, clusters: {cluster_states}, CLUSTERS.array.shape={CLUSTERS.array.shape}')\n",
    "                        \n",
    "                        ###\n",
    "                        new_clusters_count = 0\n",
    "                        \n",
    "                        for signal_input, signal_output in zip(signals_input, signals_output):\n",
    "                            active_points_mask = signal_output[POINT_OUTPUT_BITS] != 0\n",
    "                            active_point_inds = POINT_INDS[active_points_mask]\n",
    "\n",
    "                            if active_point_inds.shape[0] == 0:\n",
    "                                continue\n",
    "                                \n",
    "                            active_points = POINTS[active_point_inds] # subset of POINTS which are connected to active output bits\n",
    "                            active_points_signal_input_mat = active_points * signal_input\n",
    "                            active_points_signal_input_mask = xp.any(active_points_signal_input_mat, axis=1) # which of active_points have any ON bits within input signal?\n",
    "                            active_points_signal_input_mask = xp_array_from_gpu(active_points_signal_input_mask)\n",
    "                    \n",
    "                            for mask_value, point_ind, subsignal_input, subsignal_input_gpu in zip(active_points_signal_input_mask,\n",
    "                                                                                                   active_point_inds, \n",
    "                                                                                                   xp_array_from_gpu(active_points_signal_input_mat),\n",
    "                                                                                                   active_points_signal_input_mat):\n",
    "                                if not mask_value:\n",
    "                                    continue\n",
    "                                \n",
    "                                active_output_bit = int(POINT_OUTPUT_BITS[point_ind])\n",
    "                                active_input_bits = np.flatnonzero(subsignal_input)\n",
    "\n",
    "                                if active_input_bits.shape[0] < HP_CLUSTER_CREATION_ONES_COUNT_THRES:\n",
    "                                    continue\n",
    "                                \n",
    "                                cluster_key = get_cluster_key(active_output_bit, active_input_bits)\n",
    "                    \n",
    "                                if cluster_key in CLUSTER_KEY_TO_CLUSTER_IND:\n",
    "                                    continue\n",
    "                    \n",
    "                                cluster_ind = CLUSTERS.lease()\n",
    "                                cluster_mask_ind = CLUSTER_MASKS.lease()\n",
    "                                assert cluster_ind == cluster_mask_ind\n",
    "                                CLUSTERS.array_active[cluster_ind] = subsignal_input_gpu\n",
    "                                CLUSTER_MASKS.array_active[cluster_ind] = subsignal_input_gpu\n",
    "                                cluster_meta = ClusterMeta(cluster_ind=cluster_ind, cluster_key=cluster_key, output_bit=active_output_bit, nu=1/subsignal_input.sum(), cycle=cycle)\n",
    "                                cluster_meta.alarm_cycle = cycle + HP_CLUSTER_LEARN_STATE_IDLE_CYCLES\n",
    "                                CLUSTER_METAS[cluster_ind] = cluster_meta\n",
    "                                CLUSTER_KEY_TO_CLUSTER_IND[cluster_key] = cluster_ind\n",
    "                                new_clusters_count += 1\n",
    "                    \n",
    "                        LOG(f'Created {new_clusters_count} clusters')\n",
    "                        \n",
    "                        ###\n",
    "                        learn_cluster_metas = list(filter(lambda c: c.state == ClusterState.LEARN, CLUSTER_METAS.values()))\n",
    "                        learn_cluster_inds = np.array(list(map(lambda m: m.cluster_ind, learn_cluster_metas)), dtype='i')\n",
    "                        learn_cluster_output_bits = np.array(list(map(lambda m: m.output_bit, learn_cluster_metas)), dtype='i')\n",
    "                        cluster_nus = xp.array(list(map(lambda m: m.nu, CLUSTER_METAS.values())))\n",
    "                        learned_clusters_inds = set()\n",
    "                        \n",
    "                        for signal_input, signal_output in zip(signals_input, signals_output):\n",
    "                            # this stanza 'signal_output[learn_cluster_output_bits] != 0' effectively produces\n",
    "                            # boolean mask for learn_cluster_inds - clusters which are connected to currently active output bits\n",
    "                            active_cluster_inds = learn_cluster_inds[signal_output[learn_cluster_output_bits] != 0]\n",
    "                    \n",
    "                            if active_cluster_inds.shape[0] == 0:\n",
    "                                continue\n",
    "                            \n",
    "                            active_clusters = CLUSTERS.array_active[active_cluster_inds] # subset of CLUSTERS which are connected to active bits in signal_output\n",
    "                            active_cluster_masks = CLUSTER_MASKS.array_active[active_cluster_inds]\n",
    "                            cluster_nus = cluster_nus[active_cluster_inds]\n",
    "\n",
    "                            ys = signal_input @ active_clusters.T # how each cluster reacted on signal_input (strength), ca. shape (35,).\n",
    "                            zs = signal_input @ active_cluster_masks.T # number of activated bits within each cluster for given signal_input, ca. shape (35,)\n",
    "                            grow = (signal_input * (cluster_nus * ys)[:,np.newaxis]) # how weights within each cluster must grow up in response co signal_input, matrix, ca. shape (35, 1024)\n",
    "                            grow *= active_cluster_masks # masking, only allow weights which belong to clusters to grow up, matrix, ca. shape (35, 1024)\n",
    "                            nomins = active_clusters + grow # grow weights within clusters\n",
    "                            denoms = nomins.max(axis=1) \n",
    "                            updated_active_clusters = (nomins.T / denoms).T \n",
    "                            # CLUSTERS.array_active[active_cluster_inds] = updated_active_clusters # upload updated weights\n",
    "                            \n",
    "                            # upload updated weights for those clusters which have enough bits touched by signal\n",
    "                            # (i.e. we won't update clusters which have e.g. 1 bit touched)\n",
    "                            zs_mask = xp_array_from_gpu(zs >= HP_CLUSTER_ONES_COUNT_THRES)\n",
    "                            # CLUSTERS.array_active[active_cluster_inds] = xp.where(zs_mask[:,np.newaxis], updated_active_clusters, active_clusters) \n",
    "                            CLUSTERS.array_active[active_cluster_inds[zs_mask]] = updated_active_clusters[zs_mask]\n",
    "                    \n",
    "                            for cluster_ind in active_cluster_inds[zs_mask]:\n",
    "                                cluster_meta = CLUSTER_METAS[cluster_ind]\n",
    "                                cluster_meta.signals_processed += 1\n",
    "                                cluster_meta.alarm_cycle = cycle + HP_CLUSTER_LEARN_STATE_IDLE_CYCLES\n",
    "                                learned_clusters_inds.add(cluster_ind)\n",
    "                    \n",
    "                        LOG(f'Learned {len(learned_clusters_inds)} clusters')\n",
    "\n",
    "                        ### Promote LEARN clusters to PREPROD/DEAD if they've learned enough\n",
    "                        cluster_metas_to_promote = list(filter(lambda m: m.state == ClusterState.LEARN and m.signals_processed > HP_CLUSTER_LEARN_STATE_SIGNALS_PROCESSED_THRES, CLUSTER_METAS.values()))\n",
    "                        cluster_inds_to_promote = list(map(lambda m: m.cluster_ind, cluster_metas_to_promote))\n",
    "                        binarized_clusters = xp.where(CLUSTERS.array_active[cluster_inds_to_promote] > HP_CLUSTER_BINARIZE_THRES, 1, 0)\n",
    "                        binarized_clusters_ones_counts = xp_array_from_gpu(binarized_clusters.sum(axis=1))\n",
    "                        CLUSTERS.array_active[cluster_inds_to_promote] = binarized_clusters\n",
    "                        binarized_clusters = xp_array_from_gpu(binarized_clusters)\n",
    "                    \n",
    "                        new_cluster_states = Counter()\n",
    "                        \n",
    "                        for cluster_meta, cluster, ones_count in zip(cluster_metas_to_promote, binarized_clusters, binarized_clusters_ones_counts):\n",
    "                            cluster_ind = cluster_meta.cluster_ind\n",
    "                            cluster_meta.ones_count = int(ones_count)\n",
    "                            assert cluster_meta.ones_count > 0\n",
    "                \n",
    "                            if cluster_meta.ones_count >= HP_CLUSTER_ONES_COUNT_THRES:\n",
    "                                old_cluster_key = cluster_meta.cluster_key\n",
    "                                new_cluster_key = get_cluster_key(cluster_meta.output_bit, np.flatnonzero(cluster))\n",
    "\n",
    "                                if new_cluster_key != old_cluster_key and new_cluster_key in CLUSTER_KEY_TO_CLUSTER_IND:\n",
    "                                    # there is already cluster with the same key\n",
    "                                    тут как-то надо разблюдовку сделать между cluster_key, которые learn и остальные (preprod, prod)\n",
    "                                \n",
    "                                cluster_meta.cluster_key = new_cluster_key\n",
    "                                \n",
    "                                cluster_meta.state = ClusterState.PREPROD\n",
    "                                cluster_meta.alarm_cycle = cycle + HP_CLUSTER_PREPROD_STATE_IDLE_CYCLES\n",
    "                                del CLUSTER_KEY_TO_CLUSTER_IND[old_cluster_key]\n",
    "                                CLUSTER_KEY_TO_CLUSTER_IND[cluster_meta.cluster_key] = cluster_ind\n",
    "                                LOG(f'kms@ cluster_key changed: {old_cluster_key} -> {cluster_meta.cluster_key}')\n",
    "                            else:\n",
    "                                cluster_meta.state = ClusterState.DEAD\n",
    "                                cluster_meta.alarm_cycle = None\n",
    "                                \n",
    "                            new_cluster_states[cluster_meta.state.name] += 1\n",
    "                    \n",
    "                        LOG(f'Promoted {len(cluster_metas_to_promote)} clusters: {new_cluster_states}')\n",
    "                    \n",
    "                        ### Verify PREPROD clusters against new signals\n",
    "                        preprod_cluster_metas = list(filter(lambda c: c.state == ClusterState.PREPROD, CLUSTER_METAS.values()))\n",
    "                        preprod_cluster_inds = np.array(list(map(lambda c: c.cluster_ind, preprod_cluster_metas)), dtype='i')\n",
    "                        preprod_cluster_ones_counts = xp.array(list(map(lambda c: c.ones_count, preprod_cluster_metas)), dtype='f')\n",
    "                        preprod_cluster_output_bits = np.array(list(map(lambda c: c.output_bit, preprod_cluster_metas)), dtype='i')\n",
    "                        preprod_clusters = CLUSTERS.array_active[preprod_cluster_inds]\n",
    "                        verified_cluster_inds = set()\n",
    "                        \n",
    "                        for signal_input, signal_output, signal_image_id in zip(signals_input, signals_output, cycle_image_ids):\n",
    "                            activated_clusters_mask = xp_array_from_gpu((preprod_clusters @ signal_input) >= preprod_cluster_ones_counts)\n",
    "                            # cast array of output_bit numbers [0, 3, 4, 7, 7, 0, 3, 32, ..] to TP array [True, False, False, True, True, True, False, False, ...]\n",
    "                            # where True if output_bit of preprod_cluster is enabled in signal_output and False otherwise\n",
    "                            preprod_cluster_output_bits_tf = signal_output[preprod_cluster_output_bits] != 0\n",
    "                            \n",
    "                            for cluster_ind, tf in zip(preprod_cluster_inds[activated_clusters_mask], preprod_cluster_output_bits_tf[activated_clusters_mask]):\n",
    "                                tf = bool(tf) # not mandatory, but eases further inspections by eyes\n",
    "                                signal_image_id = int(signal_image_id)\n",
    "                                cluster_meta = CLUSTER_METAS[cluster_ind]\n",
    "                    \n",
    "                                if not signal_image_id in cluster_meta.verify_image_ids:\n",
    "                                    cluster_meta.stats[tf] += 1\n",
    "                                    cluster_meta.verify_image_ids[signal_image_id] = tf\n",
    "                                    cluster_meta.alarm_cycle = cycle + HP_CLUSTER_PREPROD_STATE_IDLE_CYCLES\n",
    "                                    verified_cluster_inds.add(cluster_ind)\n",
    "                    \n",
    "                        LOG(f'Verified {len(verified_cluster_inds)} clusters')\n",
    "                        \n",
    "                        ### Weed the garden\n",
    "                        ready_for_prod_cluster_metas = list(filter(lambda c: (c.state == ClusterState.PREPROD) and (c.stats.total() >= HP_CLUSTER_PREPROD_STATE_SIGNALS_PROCESSED_THRES), CLUSTER_METAS.values()))\n",
    "                        accurate_ready_for_prod_cluster_metas = filter(lambda c: c.stats[True] / c.stats.total() >= HP_CLUSTER_ACCURACY_THRES, ready_for_prod_cluster_metas)\n",
    "                        unneeded_cluster_metas = list(filter(lambda c: c.stats[True] / c.stats.total() < HP_CLUSTER_ACCURACY_THRES, ready_for_prod_cluster_metas))\n",
    "                        \n",
    "                        for cluster_meta in accurate_ready_for_prod_cluster_metas:\n",
    "                            assert cluster_meta.ones_count >= HP_CLUSTER_ONES_COUNT_THRES\n",
    "                    \n",
    "                            if cluster_meta.cluster_key in unique_prod_cluster_keys:\n",
    "                                unneeded_cluster_metas.append(cluster_meta)\n",
    "                                continue\n",
    "                                \n",
    "                            cluster_meta.state = ClusterState.PROD\n",
    "                            cluster_meta.alarm_cycle = None\n",
    "                            unique_prod_cluster_keys.add(cluster_meta.cluster_key)\n",
    "                    \n",
    "                        unneeded_cluster_metas.extend(filter(lambda m: m.alarm_cycle is not None and m.alarm_cycle < cycle, CLUSTER_METAS.values()))\n",
    "                        unneeded_cluster_metas.extend(filter(lambda m: m.state == ClusterState.DEAD, CLUSTER_METAS.values()))\n",
    "                        \n",
    "                        for cluster_meta in unneeded_cluster_metas:\n",
    "                            cluster_ind = cluster_meta.cluster_ind\n",
    "                            del CLUSTER_KEY_TO_CLUSTER_IND[cluster_meta.cluster_key]\n",
    "                            del CLUSTER_METAS[cluster_ind]\n",
    "                            CLUSTERS.release(cluster_ind)\n",
    "                            CLUSTER_MASKS.release(cluster_ind)\n",
    "                    \n",
    "                        LOG(f'Removed {len(unneeded_cluster_metas)} loser clusters')\n",
    "                        # gc_memory()\n",
    "\n",
    "                ## Persist mined prod clusters for output bits (OBITS)\n",
    "                prod_cluster_metas_per_output_bit = defaultdict(list)\n",
    "                \n",
    "                for meta in filter(lambda m: m.state == ClusterState.PROD, CLUSTER_METAS.values()):\n",
    "                    prod_cluster_metas_per_output_bit[meta.output_bit].append(meta)\n",
    "\n",
    "                for output_bit, metas in prod_cluster_metas_per_output_bit.items():\n",
    "                    cluster_inds = np.array(list(map(lambda m: m.cluster_ind, metas)), dtype='i')\n",
    "                    # Leave only super clusters, i.e. clusters which are not subsets of any other clusters\n",
    "                    clusters = CLUSTERS.array_active[cluster_inds]\n",
    "                    crossings = (clusters @ clusters.T)\n",
    "                    cluster_ones_counts = clusters.sum(axis=1)\n",
    "                    crossings[xp.diag_indices_from(crossings)] = 0\n",
    "                    super_clusters_mask = ~xp.any((crossings.T >= cluster_ones_counts).T, axis=1)\n",
    "\n",
    "                    clusters = xp_array_from_gpu(clusters[super_clusters_mask])\n",
    "                    super_clusters_mask = xp_array_from_gpu(super_clusters_mask)\n",
    "                    \n",
    "                    pickled_clusters = pickle.dumps(clusters)\n",
    "                    pickled_metas = pickle.dumps(list(map(lambda x: x[1], filter(lambda x: x[0], zip(super_clusters_mask, metas)))))\n",
    "                    # Changing autocommit to False will open a new transaction, and changing it to True will commit any pending transaction.\n",
    "                    # https://docs.python.org/3/library/sqlite3.html#connection-objects\n",
    "                    transfs_db_con.autocommit = False\n",
    "                    transfs_db_con.execute('DELETE FROM clusters WHERE encoding=:encoding AND transf_code=:transf_code AND output_bit=:output_bit',\n",
    "                                           {'encoding': HP_SIGNAL_ENCODING, 'transf_code': transf_code, 'output_bit': output_bit})\n",
    "                    transfs_db_con.execute('INSERT INTO clusters (encoding, transf_code, output_bit, sbv, meta) VALUES (:encoding, :transf_code, :output_bit, :sbv, :meta)',\n",
    "                                           {'encoding': HP_SIGNAL_ENCODING, 'transf_code': transf_code, 'output_bit': output_bit, 'sbv': pickled_clusters, 'meta': pickled_metas})\n",
    "                    transfs_db_con.autocommit = True\n",
    "                    LOG(f'Persisted {clusters.shape[0]} super clusters for output bit {output_bit} of total {cluster_inds.shape[0]} clusters')"
   ]
  },
  {
   "cell_type": "code",
   "execution_count": 118,
   "id": "cf723882-55c0-49d9-acb7-e50274d2201b",
   "metadata": {},
   "outputs": [
    {
     "data": {
      "image/png": "[encoded data removed]",
      "text/plain": [
       "<Figure size 1200x480 with 2 Axes>"
      ]
     },
     "metadata": {},
     "output_type": "display_data"
    }
   ],
   "source": [
    "signal_ind = RNG.choice(signals_input.shape[0])\n",
    "# signal_ind = 0\n",
    "signal_input = xp_array_from_gpu(signals_input[signal_ind])\n",
    "signal_output = signals_output[signal_ind]\n",
    "\n",
    "if use_toy_images:\n",
    "    signal_input = toy_image_sbv_to_bv(signal_input)\n",
    "    signal_output = toy_image_sbv_to_bv(signal_output)\n",
    "else:\n",
    "    signal_input = seq_sbv_to_bv(signal_input)\n",
    "    signal_output = seq_sbv_to_bv(signal_output)\n",
    "    \n",
    "fig, (ax1, ax2) = plt.subplots(1, 2)\n",
    "fig.set_figwidth(12)\n",
    "ax1.imshow(vec_to_square_matrix(signal_input))\n",
    "ax2.imshow(vec_to_square_matrix(signal_output));"
   ]
  },
  {
   "cell_type": "markdown",
   "id": "c4e073c2-0c90-4248-a9fc-57f4f063892f",
   "metadata": {},
   "source": [
    "# Test"
   ]
  },
  {
   "cell_type": "code",
   "execution_count": 45,
   "id": "5175b5c1-2cf3-4a31-b471-269694674987",
   "metadata": {},
   "outputs": [
    {
     "data": {
      "application/vnd.jupyter.widget-view+json": {
       "model_id": "c13e4c4bc1414fbdb7f76dda32bf83dc",
       "version_major": 2,
       "version_minor": 0
      },
      "text/plain": [
       "  0%|          | 0/192 [00:00<?, ?it/s]"
      ]
     },
     "metadata": {},
     "output_type": "display_data"
    },
    {
     "data": {
      "text/plain": [
       "(48156, (48156, 256))"
      ]
     },
     "execution_count": 45,
     "metadata": {},
     "output_type": "execute_result"
    }
   ],
   "source": [
    "clear_memory(with_caches=True)\n",
    "\n",
    "df_clusters = pd.read_sql('SELECT output_bit, sbv, meta FROM clusters WHERE encoding=:encoding AND transf_code=:transf_code', \n",
    "                          params={\n",
    "                              'encoding': HP_SIGNAL_ENCODING, \n",
    "                              'transf_code': transf_code},\n",
    "                          con=transfs_db_con)\n",
    "                \n",
    "for cluster_row in tqdm(df_clusters.itertuples(), total=len(df_clusters)):\n",
    "    prod_clusters_for_output_bit = pickle.loads(cluster_row.sbv)\n",
    "    # prod_cluster_ones_counts_for_output_bit = prod_clusters_for_output_bit.sum(axis=1)\n",
    "    # assert prod_clusters_for_output_bit.shape[0] == len(prod_cluster_metas_for_output_bit)\n",
    "    prod_cluster_metas_for_output_bit = pickle.loads(cluster_row.meta)\n",
    "\n",
    "    # crossings = (prod_clusters_for_output_bit @ prod_clusters_for_output_bit.T)\n",
    "    # crossings[np.diag_indices_from(crossings)] = 0\n",
    "    # mask = ~np.any((crossings.T >= prod_cluster_ones_counts_for_output_bit).T, axis=1)\n",
    "\n",
    "    # for mask_value, cluster, meta in zip(mask, prod_clusters_for_output_bit, prod_cluster_metas_for_output_bit):\n",
    "    for cluster, meta in zip(prod_clusters_for_output_bit, prod_cluster_metas_for_output_bit):\n",
    "        # if not mask_value:\n",
    "        #     continue\n",
    "            \n",
    "        cluster = xp_array_to_gpu(cluster)\n",
    "        cluster_ind = CLUSTERS.lease()\n",
    "        assert CLUSTER_MASKS.lease() == cluster_ind\n",
    "        meta.cluster_ind = cluster_ind\n",
    "        CLUSTERS.array_active[cluster_ind] = cluster\n",
    "        CLUSTER_MASKS.array_active[cluster_ind] = cluster\n",
    "        CLUSTER_METAS[cluster_ind] = meta\n",
    "        cluster_key = get_cluster_key(meta.output_bit, np.argwhere(cluster).ravel())\n",
    "        CLUSTER_KEY_TO_CLUSTER_IND[cluster_key] = cluster_ind\n",
    "\n",
    "len(CLUSTER_METAS), CLUSTERS.array_active.shape"
   ]
  },
  {
   "cell_type": "code",
   "execution_count": 46,
   "id": "f2005f19-90c6-489f-9680-f0b72b97bc5c",
   "metadata": {},
   "outputs": [
    {
     "data": {
      "text/plain": [
       "(48156, 256)"
      ]
     },
     "execution_count": 46,
     "metadata": {},
     "output_type": "execute_result"
    }
   ],
   "source": [
    "# prod_cluster_metas = list(filter(lambda c: c.state == ClusterState.PROD and c.stats[True] > 5, CLUSTER_METAS.values()))\n",
    "prod_cluster_metas = list(filter(lambda c: c.state == ClusterState.PROD, CLUSTER_METAS.values()))\n",
    "prod_cluster_inds = np.array(list(map(lambda c: c.cluster_ind, prod_cluster_metas)), dtype='i')\n",
    "prod_cluster_ones_counts = xp.array(list(map(lambda c: c.ones_count, prod_cluster_metas)), dtype='f')\n",
    "prod_cluster_output_bits = np.array(list(map(lambda c: c.output_bit, prod_cluster_metas)), dtype='i')\n",
    "prod_clusters = CLUSTERS.array_active[prod_cluster_inds]\n",
    "prod_clusters.shape"
   ]
  },
  {
   "cell_type": "code",
   "execution_count": 53,
   "id": "f5f56508-9e19-4911-b739-a04452cf59d4",
   "metadata": {},
   "outputs": [
    {
     "data": {
      "image/png": "[encoded data removed]",
      "text/plain": [
       "<Figure size 1200x480 with 2 Axes>"
      ]
     },
     "metadata": {},
     "output_type": "display_data"
    }
   ],
   "source": [
    "toy_image_id = get_random_toy_image_ids(1)[0]\n",
    "toy_image = get_toy_image(toy_image_id)\n",
    "\n",
    "toy_image_sbv = calc_toy_image_sbv(toy_image)\n",
    "toy_image_sbv = xp_array_to_gpu(toy_image_sbv)\n",
    "\n",
    "activated_clusters_mask = (prod_clusters @ toy_image_sbv) >= prod_cluster_ones_counts\n",
    "activated_clusters_mask = xp_array_from_gpu(activated_clusters_mask)\n",
    "values = Counter(prod_cluster_output_bits[activated_clusters_mask])\n",
    "toy_image_sbv_out = np.zeros_like(toy_image_sbv)\n",
    "# seq_sbv_out[list(values.keys())] = list(values.values())\n",
    "toy_image_sbv_out[list(values.keys())] = 1\n",
    "\n",
    "fig, (ax1, ax2) = plt.subplots(1, 2)\n",
    "fig.set_figwidth(12)\n",
    "ax1.imshow(vec_to_square_matrix(toy_image_sbv_to_bv(toy_image_sbv)))\n",
    "ax2.imshow(vec_to_square_matrix(toy_image_sbv_to_bv(toy_image_sbv_out)));"
   ]
  },
  {
   "cell_type": "code",
   "execution_count": 54,
   "id": "bd3d6124-ae28-47e5-9877-7bf2eb87d8c3",
   "metadata": {},
   "outputs": [
    {
     "data": {
      "image/png": "[encoded data removed]",
      "text/plain": [
       "<Figure size 1600x480 with 2 Axes>"
      ]
     },
     "metadata": {},
     "output_type": "display_data"
    }
   ],
   "source": [
    "fig, (ax1, ax2) = plt.subplots(2, 1)\n",
    "fig.set_figwidth(16)\n",
    "\n",
    "toy_image_transf = np.roll(toy_image.reshape(HP_TOY_IMAGE_SIZE, -1), 1, axis=1).ravel()\n",
    "toy_image_transf_sbv = calc_toy_image_sbv(toy_image_transf)\n",
    "\n",
    "ax1.set_title(f'non_zero_bits={toy_image_transf_sbv.sum()}')\n",
    "ax1.imshow(np.ones((100, 1)) * xp_array_from_gpu(toy_image_transf_sbv));\n",
    "ax2.set_title(f'non_zero_bits={toy_image_sbv_out.sum()}')\n",
    "ax2.imshow(np.ones((100, 1)) * xp_array_from_gpu(toy_image_sbv_out));"
   ]
  },
  {
   "cell_type": "code",
   "execution_count": 39,
   "id": "9a743124-b134-445f-8a7c-de08006155f1",
   "metadata": {},
   "outputs": [],
   "source": [
    "# inspected_ind = 0\n",
    "# cluster_ind = prod_cluster_inds[inspected_ind]\n",
    "# get_cluster_logic(cluster_ind), vars(CLUSTER_METAS[cluster_ind])"
   ]
  },
  {
   "cell_type": "code",
   "execution_count": 86,
   "id": "7cb47b56-9290-45e7-990a-d8c4f330b756",
   "metadata": {},
   "outputs": [
    {
     "name": "stdout",
     "output_type": "stream",
     "text": [
      "3697 ([(12, 9), (11, 11), (24, 15)], (12, 16)) [[300]\n",
      " [363]\n",
      " [504]]\n"
     ]
    }
   ],
   "source": [
    "for ind in np.argwhere(activated_clusters_mask).ravel():\n",
    "    cl = get_cluster_logic(prod_cluster_inds[ind])\n",
    "\n",
    "    if cl[1][1] == 16 and cl[1][0] < 15:\n",
    "        print(ind, cl, np.argwhere(CLUSTERS.array_active[prod_cluster_inds[3697]]))"
   ]
  },
  {
   "cell_type": "code",
   "execution_count": 53,
   "id": "da374d86-709e-4d82-bc2a-82e50dd790fe",
   "metadata": {},
   "outputs": [
    {
     "data": {
      "text/plain": [
       "Counter({np.int32(174): 4,\n",
       "         np.int32(1639): 3,\n",
       "         np.int32(421): 1,\n",
       "         np.int32(628): 1,\n",
       "         np.int32(788): 1,\n",
       "         np.int32(860): 1,\n",
       "         np.int32(921): 1,\n",
       "         np.int32(1130): 1,\n",
       "         np.int32(1195): 1,\n",
       "         np.int32(1525): 1,\n",
       "         np.int32(1816): 1,\n",
       "         np.int32(229): 1,\n",
       "         np.int32(303): 1,\n",
       "         np.int32(372): 1,\n",
       "         np.int32(373): 1})"
      ]
     },
     "execution_count": 53,
     "metadata": {},
     "output_type": "execute_result"
    },
    {
     "data": {
      "image/png": "[encoded data removed]",
      "text/plain": [
       "<Figure size 1200x480 with 2 Axes>"
      ]
     },
     "metadata": {},
     "output_type": "display_data"
    }
   ],
   "source": [
    "# %%time\n",
    "image_id = RNG.choice(df_train_images.index)\n",
    "image = next(df_train_images.loc[[image_id]].itertuples())\n",
    "si_ind_dict = pickle.loads(image.inner_si_ind_dict)\n",
    "sequences = pickle.loads(image.inner_sequences)\n",
    "seq = get_sequence(sequences)\n",
    "seq_xy = get_xy_sequence(seq, si_ind_dict)\n",
    "seq_sbv = calc_seq_sbv(seq_xy)\n",
    "seq_sbv = xp_array_to_gpu(seq_sbv)\n",
    "\n",
    "activated_clusters_mask = (prod_clusters @ seq_sbv) >= prod_cluster_ones_counts\n",
    "activated_clusters_mask = xp_array_from_gpu(activated_clusters_mask)\n",
    "values = Counter(prod_cluster_output_bits[activated_clusters_mask])\n",
    "seq_sbv_out = np.zeros_like(seq_sbv)\n",
    "# seq_sbv_out[list(values.keys())] = list(values.values())\n",
    "seq_sbv_out[list(values.keys())] = 1\n",
    "\n",
    "# # seq_bv_out[prod_cluster_output_bits[activated_clusters_mask]] = 1\n",
    "# seq_bv_out = xp.where(seq_bv_out > seq_bv_out.mean(), 1, 0)\n",
    "# # seq_bv_out = xp.where(seq_bv_out > np.median(seq_bv_out), 1, 0)\n",
    "\n",
    "fig, (ax1, ax2) = plt.subplots(1, 2)\n",
    "fig.set_figwidth(12)\n",
    "ax1.imshow(vec_to_square_matrix(seq_sbv_to_bv(seq_sbv)))\n",
    "ax2.imshow(vec_to_square_matrix(seq_sbv_to_bv(seq_sbv_out)))\n",
    "\n",
    "#np.unique_counts(prod_clusters.sum(axis=1).get())\n",
    "values"
   ]
  },
  {
   "cell_type": "code",
   "execution_count": 55,
   "id": "2c1d2e99-712e-464b-8663-d874155ea878",
   "metadata": {},
   "outputs": [
    {
     "data": {
      "text/plain": [
       "np.int64(347)"
      ]
     },
     "execution_count": 55,
     "metadata": {},
     "output_type": "execute_result"
    }
   ],
   "source": [
    "xp_array_from_gpu(seq_sbv).sum()"
   ]
  },
  {
   "cell_type": "code",
   "execution_count": 56,
   "id": "4c2f51df-bb23-4d07-bce9-02bd930ba70f",
   "metadata": {},
   "outputs": [
    {
     "data": {
      "image/png": "[encoded data removed]",
      "text/plain": [
       "<Figure size 1600x480 with 2 Axes>"
      ]
     },
     "metadata": {},
     "output_type": "display_data"
    }
   ],
   "source": [
    "fig, (ax1, ax2) = plt.subplots(2, 1)\n",
    "fig.set_figwidth(16)\n",
    "ax1.imshow(np.ones((100, 1)) * xp_array_from_gpu(seq_sbv));\n",
    "ax2.imshow(np.ones((100, 1)) * xp_array_from_gpu(seq_sbv_out));"
   ]
  },
  {
   "cell_type": "code",
   "execution_count": null,
   "id": "6cc119b7-ff88-4898-8760-116f2f55cf5e",
   "metadata": {},
   "outputs": [],
   "source": []
  }
 ],
 "metadata": {
  "kernelspec": {
   "display_name": "Python 3 (ipykernel)",
   "language": "python",
   "name": "python3"
  },
  "language_info": {
   "codemirror_mode": {
    "name": "ipython",
    "version": 3
   },
   "file_extension": ".py",
   "mimetype": "text/x-python",
   "name": "python",
   "nbconvert_exporter": "python",
   "pygments_lexer": "ipython3",
   "version": "3.12.9"
  }
 },
 "nbformat": 4,
 "nbformat_minor": 5
}
