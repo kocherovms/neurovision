{
 "cells": [
  {
   "cell_type": "code",
   "execution_count": 1,
   "id": "27532844-1826-4299-b063-16a22e592f3f",
   "metadata": {},
   "outputs": [],
   "source": [
    "import os, math\n",
    "from enum import StrEnum, auto\n",
    "from collections import defaultdict, namedtuple, Counter\n",
    "import itertools\n",
    "import sqlite3\n",
    "import pickle\n",
    "import datetime\n",
    "import multiprocessing as mp\n",
    "import gc\n",
    "import json\n",
    "import decimal\n",
    "from IPython.core.getipython import get_ipython\n",
    "\n",
    "from PIL import Image, ImageDraw\n",
    "from tqdm.notebook import tqdm\n",
    "\n",
    "from sklearn.model_selection import train_test_split\n",
    "from sklearn.decomposition import PCA\n",
    "import matplotlib.pyplot as plt\n",
    "import scipy\n",
    "import numpy as np\n",
    "import cupy as cp\n",
    "import pandas as pd\n",
    "\n",
    "from module.utils import *\n",
    "from module.hdc import *\n",
    "from module.constants import *"
   ]
  },
  {
   "cell_type": "code",
   "execution_count": 2,
   "id": "73358262-adf2-4d17-a383-f120a5d1f8aa",
   "metadata": {},
   "outputs": [
    {
     "name": "stdout",
     "output_type": "stream",
     "text": [
      "xp = cupy\n",
      "transf_learn5.ipynb\n"
     ]
    }
   ],
   "source": [
    "LOG = Logging()\n",
    "\n",
    "config_var = 'SQLITE3_SEQ_GRID_0_2_4096'\n",
    "config = Config(config_var)\n",
    "RNG = np.random.default_rng()\n",
    "mp_ctx = mp.get_context('spawn') # req-d for CUPY to work, 'fork' method leads to failures in bootstrap somewhere around CUDA\n",
    "\n",
    "if cp.cuda.is_available():\n",
    "    xp = cp.get_array_module(cp.empty(1))\n",
    "    xp_array_from_gpu = lambda a: a.get() if isinstance(a, cp.ndarray) else a\n",
    "    xp_array_to_gpu = lambda a: cp.asarray(a) if isinstance(a, np.ndarray) else a\n",
    "    xp_array_to_gpu_copy = lambda a: cp.asarray(a) if isinstance(a, np.ndarray) else a\n",
    "else:\n",
    "    xp = cp.get_array_module(np.empty(1))\n",
    "    xp_array_from_gpu = lambda a: a\n",
    "    xp_array_to_gpu = lambda a: a\n",
    "    xp_array_to_gpu_copy = lambda a: a.copy()\n",
    "\n",
    "print(f'xp = {xp.__name__}')\n",
    "\n",
    "with open(get_ipython().kernel.config['IPKernelApp']['connection_file'], 'r') as cf:\n",
    "    notebook_fname = json.load(cf)['jupyter_session']\n",
    "    notebook_fname = os.path.basename(notebook_fname)\n",
    "\n",
    "print(notebook_fname)"
   ]
  },
  {
   "cell_type": "code",
   "execution_count": 3,
   "id": "656ee6b7-3982-4f99-9251-6b67fef36ae3",
   "metadata": {},
   "outputs": [],
   "source": [
    "%run sequencing_sp2.ipynb"
   ]
  },
  {
   "cell_type": "markdown",
   "id": "d5c8f88a-5403-4177-b5fc-e0e2a1da9c2d",
   "metadata": {},
   "source": [
    "# Open DB"
   ]
  },
  {
   "cell_type": "code",
   "execution_count": 4,
   "id": "d2dd62ab-b44e-4251-9e86-d41b3672e36e",
   "metadata": {},
   "outputs": [
    {
     "name": "stdout",
     "output_type": "stream",
     "text": [
      "CPU times: user 10 μs, sys: 0 ns, total: 10 μs\n",
      "Wall time: 18.1 μs\n"
     ]
    },
    {
     "data": {
      "text/plain": [
       "((10000, 7), (2000, 7))"
      ]
     },
     "execution_count": 4,
     "metadata": {},
     "output_type": "execute_result"
    }
   ],
   "source": [
    "%time\n",
    "train_db_con = sqlite3.connect(DBUtils.get_full_db_file_name(config, config.train_db_file_name))\n",
    "test_db_con = sqlite3.connect(DBUtils.get_full_db_file_name(config, config.test_db_file_name))\n",
    "test_results_db_con = sqlite3.connect(DBUtils.get_full_db_file_name(config, config.test_results_db_file_name, with_prefix=False), autocommit=True)\n",
    "transfs_db_con = sqlite3.connect(DBUtils.get_full_db_file_name(config, config.transfs_db_file_name, with_prefix=False), autocommit=True)\n",
    "\n",
    "if not DBUtils.is_table_exists(test_results_db_con, 'test_runs'):\n",
    "    test_results_db_con.execute('CREATE TABLE test_runs(test_run_id INTEGER PRIMARY KEY, dummy)')\n",
    "\n",
    "if not DBUtils.is_table_exists(transfs_db_con, 'pixels'):\n",
    "    transfs_db_con.execute('CREATE TABLE pixels(encoding, sbv)')\n",
    "\n",
    "if not DBUtils.is_table_exists(transfs_db_con, 'clusters'):\n",
    "    transfs_db_con.execute('CREATE TABLE clusters(encoding, transf_code, output_bit, sbv, meta)')\n",
    "\n",
    "df_train_images = pd.read_sql_query('SELECT * FROM images', con=train_db_con, index_col='image_id')\n",
    "df_test_images = pd.read_sql_query('SELECT * FROM images', con=test_db_con, index_col='image_id')\n",
    "df_train_images.shape, df_test_images.shape"
   ]
  },
  {
   "cell_type": "code",
   "execution_count": 5,
   "id": "70b21219-4f16-4824-90ec-7bda1574c5d1",
   "metadata": {},
   "outputs": [
    {
     "data": {
      "text/html": [
       "<div style=\"\n",
       "        display: grid; \n",
       "        grid-template-columns: repeat(8, 128px);\n",
       "        column-gap: 1px;\n",
       "        row-gap: 1px;\">\n",
       "        \n",
       "            <figure style=\"margin: 5px !important;\">\n",
       "              <img src=\"data:image/png;base64,iVBORw0KGgoAAAANSUhEUgAAAIAAAACACAAAAADmVT4XAAADjklEQVR4nO2aSXPbOBCFXwPgJlFWFMVO2TWVmvz/fzSncWZix9ZKkxI3LHOQ7clVaBVZrsI7SLoI+ApoNF43CQQFBQUFBQUFBQUFjSzi/l8QEQFwzsI5NzSATCdZmqYx6eZYt03b2XNHUDwANbv+slgucllvV5vdrjCDA1zd/nn3x91n+fLv3/eJa4/nj8AEyG++ff/+7Vqt07YsE3X+jjIB5GTx9e72JsIsRtf25vwgFDwAlV0tl/MI6MrtelM05wNwVyCdffqUASjWDz8f97UZHCCezvLYkXnZrp7WRzv4CogonWQCcLo5VLX2SCvMGCCp4ggAbN+1Ghg8CImkEgDgrNHnz84HAAmJV4DzA/AyAILeCMYBePvhPPb/EgC/ye9i5QK8W4CTKxgegK0AEACYAD4++KIAxnIJmADWwwFcFEAIz/zzLoYhIUFymkbjAcgkyb7MUwH4J2IWgMrmi9vlVAIAeRd5jBiQ2fzmZjE5GSIfN8YFEPF0Ps9jAXBOAwdARkkSSQIA403AOYYkpHh1ZFrbs+tiNgD9Fnldr4cHOMU+EQBTN51HYQqwKyMiIti+LsraryzgAjgQOX3crbdV67cHnC1wzgFEMIfNelue3x5iAxAAInKmLvYvx34EACmlFASr26Yd4RSQVFGkBOBeNTSAECqOlCCAhBAjFCYkVRTJNwAx/G14igECOHaAB0DEmPkCABcRC8DfhlwGwDnLLgs4AM4arQ23MOAAmP5kA1hxyALQfa+tA+sksLZAa61H3IJTEPKmv0AeGLM4pfePkQBwgUz8wVNxAAgA4wOwL+MPvwL8PPTxV2DUVDy2LSchlRJEvBuZA6CSNI0lcwk4jcpkOssnMTmWN2cB5POrSSx46YjVKZ3keRYR76kJKwb+75SOA0BSnh5YcOwx8zJ6+/YvEjmFiTPGWPeaj3wzEq8063ptHEjGaRJ59mgYALZvmrrtnVCT+fUyT/yGYrRqbXesqmNnKZkhKe+z4QHaQ/FyaA2iPMk3i+EBTFPui7LuAaWiPPV4kY0JoOtie/W17i2s6Zre7x0WFsBhG013tbGmqcqnvWe7ngNwBE13Vdvq3er5x+owPIDtXb7ZF6p9/ufn/fo4OIAzpipWj5+r9vnHw+OuGRwAQFf++qub9dun1Wbn8TIjH8AeHsyv1BzK6lB6AvBuc1JJGkuntdZaez63CwoKCgoKChpb/wFXo5ZCqWQA3gAAAABJRU5ErkJggg==\" style=\"height: auto\">\n",
       "              <figcaption style=\"font-size: 0.6em\">1</figcaption>\n",
       "            </figure>\n",
       "        \n",
       "            <figure style=\"margin: 5px !important;\">\n",
       "              <img src=\"data:image/png;base64,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\" style=\"height: auto\">\n",
       "              <figcaption style=\"font-size: 0.6em\">4</figcaption>\n",
       "            </figure>\n",
       "        \n",
       "            <figure style=\"margin: 5px !important;\">\n",
       "              <img src=\"data:image/png;base64,iVBORw0KGgoAAAANSUhEUgAAAIAAAACACAAAAADmVT4XAAAJgklEQVR4nO2aSZfiOBKAI7R4N2Yns7qq+jTz///PvDfT1dVZuYDB4N2ypDkACWSBTSZ0zRyISz5jp/Q5FJtCBrjJTW5yk5vc5CY3uclNbvI/Fmx9AAkCgAatQYO+OgBruU8Nx3OYFpUQZSXqq8/fDuBMPg1tlSVJsoxTJX81AFJ38o/fO2oZLuYvFHSpfjUAswef/9mXi5eZxyllWVFd2QzaAIjh9idD6Ziu53jBYhmnVV3LK+qhzQaQmk7QU6YV9Ad34Ww2m8dpVvw6AKSMm7arTbeXp/Fi+vjX0yzU1/SGRgBEZpimaZpgurIWxerF4xTrIr3e/M0AhNuu61gmBQAOIGwi8rxMl/QkMBLKKCoppdL6LHNtBGBWp9fzre183C26gySLrBMASAgzPM+mdZpm50atRgDq9AYD39xdm27Qj/3TANz0hpOukc+nixTkFTTgBIOebwAAgEYApJbb6bgGOf444Zbbu/86sdJHTjmF4hyCZg2YXhBs5tMIgMywbMtkJzIYMb3u6P7LvZMY1HAjKymEajWEFgDH92y+m48QRhklJwCYO5jcf/1852a2NwrD6WIVZ61aaPeCfQAADadTMvMnv3/+8tvYrbqTOHx5fHp5mVZtMasFwHRsY0/jSikp1akxmT/+8vW3Sd9VAyHCp37HJWXa5gvNgYhyw+B7GtcbDz8xltMdjYe9wAEACBzOaJUklWpehGYAQujBimsl61qeGpIw03Eda+01gRAayqwieVU1VRHNueDtTM0AgJSQLS+6A0JqoY3FavVhAA1aHcymZVWW1akIQwhB1Fqux+Qdg0qhGNd58VEA0FofhHQliiwrxHErpJxzTonWGkFrwqhNyqyoy7g52LUD7F2rMl4s4qN1GRLLcT3PeXUaRHA73d4qPBW5zwBYe90eQZ3On5/nx12LO37Q63VsTl5NhxiO7zvGxwFAK3WgA5mET09hesyoqNXp9vv9jsmoxg2CQm5ZJjuROs4AQEIIIbjzQ5lHs1mUHwEgTjAYDHqBRxBeiaXSQE4F7jMAkBqWYxt0LxKKIk3yrRESJAgaEJEQNxjcfRoFDoM959WyKvOyboxETQDM8rr9nmeS3aCqFkLUGw2gZRLQQJlhmp3+aPL5PuAHA6hiOZsussZo3ARg2J3haNSxyUEoAL11Au55HBQw2/X8/nA8Gk38PVYAUGn48PCyqj4IgMzy+8OBTXE3KqGMMbHRgNvrmSDB8Lrd3nA07nc8BwH2bTad/XiYxuKDAMAMx+t4DHZuj5RblqWFBETsjO8GFkgw/F6vPxwNgn0PBADQIlvOw+jDS4CEGbbD9rfwhNteR/Jac8syu6Nx3wIJ3O0EQbfbdQ2AgxClRJklO5v9AADlhgUA+DoCMb1uRnKJfnfQ6Q36HRO0pqZj265jMYDtUiFojSCrsiiKj3sBIiH0MIhQqzOojUyz/v1v417guwZoTShljDG2Uz8iaI2qLPKiFHVzQdBkA1rJ+jDmULs7QifXxujL7/ddzzaN9TtrAHyTvJWs0zjNy6pZAY0AUuTJitC9UMrcQeWkBfDBp08T3+YAexZy2MCRVRaGizgXLVVpA4CqstXsWTq2SWHjXcwfG6NCAPP7w838xwQBQCTh0+N0eSxsnwugq2zx8qj7yF7TGfdZUEkJxLTtt9uTQwWgWL08PExXxSUAIo/nM8uyFMJGA9SxlAa9SQMKAOEw9OxEJLOnx1l8UVmu6qp4zSW4nveAcPMXjwCgzKJZGGVtJtDsBVoDUsaNNQC+fdNXGnJMB9XJ4ulAGosFJIQxxrcmcDqxH7mjyyRapu0treaqWK93IhtKDVrvT7W3Yfn5f0WRrOL2FWipCcsk8m2mPUDUSBD39ygA23Jt083dv6dVnsSrpGiJQm0A1fKJ53E07DDOmWmZ++uFALWoRSUkGrZtwDYcAoBWUpTL5XKVifYmRSNAOcf4+elu3HVs2+10jTe3VZlnSVoRv08N2F8RWearcL6Mi5Y80A6wyF/8x7tJ3+/43RGxDh+WebyK51HBBtTf1CxrBlUXy9k0XKZVe3+iGaCuM1jEadwPgiAWhDMDQK9Dj5IijaPlcjbPDRm8qXlEGj2/LOLinDZVW6cUyoiobOn787SqUosgIKKWoszzJF3F8SIqXH53CKDL5fPDU5g2lmJnA0CV6HxlW958GY0dSpFQ1CKJolWa53mRpKLrJdupNCAA6Dx8+PZXmJ/V0G0H0IXKGWPGLJqPPIMRyogqFs9P87QWdS2Eysbrd9UACBoBdDF/+PNh3rQnfg8AiBoQEOM8mXsmp4wRlc/+ephlCjRo0GT1mnM3Gqji8CWMG6vxdwBs0+yCqMI1OGGMqCL88RhvH0iL+o2yZZVneWNf5D0AW6kTUlmcEkqIquJFtrvxc8vkbV/hKgBQJRUjBJEAyDLbvfTPu08klFLSmOc+AiDzAnEdbLTe06/B6RsEpJTRtz9eDnCsP4hIiGPxn172IG9dC+CYoGFYvY592AN521X4OwGI6QfjvssP6wRERNJ+KLse4TIAavjDUc858hrnnu5dCICGE3TfnGDouq6b2pmHcqkNMMO2rb1+utZa5lmW5T9Fp78JgHLD3LohAoBWskriOEmzkw3VKwMYpmVsd48IoJQskziOk+yMaugKAIRbrmvvxQGt6jLPsiwvz7TCC42QmJ3+IHD2jFDLuizL8tz5L3ZDpzeZDL3dPlkrWYvqHZ86XApg9+/uhz7fHSVpVddS1mcDXGoDdjAcHtTruvlc6eoA3PE9+2CDrtZy9giXASAzLHPdFfvgCBcCAHndPL92C34pACJdd/L2NICI55cDF2sAyZmVz98I8Oaacc7eAXXxErxRNhLKOGs5JbkigD5m/u9yiEuXQMnDmKdEkWV5a3PuagBaiarWANsiVIts/vij5ZDkQC6MhFpWpWAAr+5fRT/+8+e3WX72MlwKIPIkY7tkKIvF93/98TD9ZQCqWIVdcPj6sAJVmc4fv/0xXZVnj3AhQB0//wFx4Nomp4iqSpfz6XS2LM//1utCgGr+bz2/Hw/7QUABsFzOw3kUn1sRXwNgJqMfn75+/iQtE0Al4WwWxfl7Pve7dAmiZPocpmWNts1hFT4/zaKsUu+IRZcaoRJ5oRkDIMKvp9+//5iuWg9JrgkAAJBHz7RYhSNHRs9Pz4/L84MQwLvLh6NiBUGnE3imyuJVvIzid33ueA0AxjnjnBEta1GL6h0ucJOb3OQmN7nJTf4f5L/6kdqVATd5cAAAAABJRU5ErkJggg==\" style=\"height: auto\">\n",
       "              <figcaption style=\"font-size: 0.6em\">4</figcaption>\n",
       "            </figure>\n",
       "        \n",
       "            <figure style=\"margin: 5px !important;\">\n",
       "              <img src=\"data:image/png;base64,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\" style=\"height: auto\">\n",
       "              <figcaption style=\"font-size: 0.6em\">6</figcaption>\n",
       "            </figure>\n",
       "        \n",
       "            <figure style=\"margin: 5px !important;\">\n",
       "              <img src=\"data:image/png;base64,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\" style=\"height: auto\">\n",
       "              <figcaption style=\"font-size: 0.6em\">9</figcaption>\n",
       "            </figure>\n",
       "        \n",
       "            <figure style=\"margin: 5px !important;\">\n",
       "              <img src=\"data:image/png;base64,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\" style=\"height: auto\">\n",
       "              <figcaption style=\"font-size: 0.6em\">1</figcaption>\n",
       "            </figure>\n",
       "        \n",
       "            <figure style=\"margin: 5px !important;\">\n",
       "              <img src=\"data:image/png;base64,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\" style=\"height: auto\">\n",
       "              <figcaption style=\"font-size: 0.6em\">6</figcaption>\n",
       "            </figure>\n",
       "        \n",
       "            <figure style=\"margin: 5px !important;\">\n",
       "              <img src=\"data:image/png;base64,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\" style=\"height: auto\">\n",
       "              <figcaption style=\"font-size: 0.6em\">4</figcaption>\n",
       "            </figure>\n",
       "        \n",
       "            <figure style=\"margin: 5px !important;\">\n",
       "              <img src=\"data:image/png;base64,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\" style=\"height: auto\">\n",
       "              <figcaption style=\"font-size: 0.6em\">5</figcaption>\n",
       "            </figure>\n",
       "        \n",
       "            <figure style=\"margin: 5px !important;\">\n",
       "              <img src=\"data:image/png;base64,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\" style=\"height: auto\">\n",
       "              <figcaption style=\"font-size: 0.6em\">6</figcaption>\n",
       "            </figure>\n",
       "        \n",
       "            <figure style=\"margin: 5px !important;\">\n",
       "              <img src=\"data:image/png;base64,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\" style=\"height: auto\">\n",
       "              <figcaption style=\"font-size: 0.6em\">1</figcaption>\n",
       "            </figure>\n",
       "        \n",
       "            <figure style=\"margin: 5px !important;\">\n",
       "              <img src=\"data:image/png;base64,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\" style=\"height: auto\">\n",
       "              <figcaption style=\"font-size: 0.6em\">7</figcaption>\n",
       "            </figure>\n",
       "        \n",
       "            <figure style=\"margin: 5px !important;\">\n",
       "              <img src=\"data:image/png;base64,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\" style=\"height: auto\">\n",
       "              <figcaption style=\"font-size: 0.6em\">7</figcaption>\n",
       "            </figure>\n",
       "        \n",
       "            <figure style=\"margin: 5px !important;\">\n",
       "              <img src=\"data:image/png;base64,iVBORw0KGgoAAAANSUhEUgAAAIAAAACACAAAAADmVT4XAAAKv0lEQVR4nO2aWXfbOLKACxvBXSQlmfKS2Jnpnnvm/v8/M+fcnu50rH2hJO4LgPsg2YmnpViUncyL6pEkUB8LQKGqAICLXOQiF7nIRS5ykYtc5CL/ZUEtv0YIIfSykVJKKlBnAtB2nzON66ZpsG8eyTqLk7wW6jyEdgCIO57fD7sWwP6XETTJ7HG0yCopfgKAZnXDm/u/fegAgAIEoBDUq3/rohSyRmeZoA0A5m5vcPfxl//5FACABASgMFQzul1GRfOjLUAYN+0gvL79cDfoAQDg/Qu91+t6nbxuztJ/MgCidtDrX4VhGIbuy1dMdzwvK8ofPATMvXm4uw67gWfpL99IortekqTnqD8dgHA3/PT3m75nmxgrAKSenYFA3HRMTtq5lHYACKhmBeHtdeDoAABKSaEAACGCARGmaRrFhxpihAkmIEUjjgzQiQCYcqvT7fv2zvwICdEoQAgjDAgBOvb3iGmGqeMqjfMjk/QkAISpppuO51nPLlCUlQSEKSYIlJJSHnSEiOmWHzg0natjq+REAE03bcexOd75H2iyOBeAiYYoBVDqsH7gluOGYcDWKEsqeT4AMMPpdBzLoABKIimb7WaTCkQ0ExgBjA+MAAKMuOv5/mDQpWa2jMr64IZ1mgU0u9sPXJ0AAJJFmqTRKkoF1syO4ByTQwsAMY07V4NB0O11MNtMrFJJeYDgJACse1eDvrObAM12OlnMF1EqiOGG2HUpJX/ZogEItzu9+0/3ge0YCha+ncv60DidZgHeuRr0HCoJAJLJ5LfheLpKJbOC1L1tNMoYJeQ/EIjRCW9//effu5TRpgg6dlwd3CxOHQK/61lUAQDIMl6MH0eLRGpuzqNcIKqbtsXJyzbM8sO7+09/8wCgWTomZ+TQVDkVwPICz2S7DpSUdRGvBdTIKutGYc3uF9mSv+yeWt3BTRi4AABU19gR/S0AOubeCRCNc6IEAEiMMcKg+zWv55//Ywjs/u1119r5R0zwMV91GgDRLfvJ2yNmdjqugRQA0zQCCliHddLfjZdtuBveDjxNEAAAKdWxiO3UveBr+Io1y+uugigCohGkmhpA51bP1V78ouH1rsKeyyQBAFFWdXNwEZ4IoKp0HelMwwAAmNtBnuXSqhpaZ3Ec24RiSvHXzQgzrgf3d4Nux2QYlBBFkqR5dXg7OglAprPPVFIbAwAQw1eMW71pNE/S5Wy25KZOq6oRz64W2VdX1w+/3HiWRjHIOo9X0Xqb1wcJTgOIR6SSZh92AMDdYPAw/fKv39er2WyquRbJtnnz3D317n/9dHcdOjrFCJp8u5jNl1H2FoB01lRa77YPAIA5s/zeYDtz89W6iKMFrwuULJP6+XPn6uF/fx14ls4QAlmlq8l0HsWlPH8vkGWsqD8c2CYlBBFMwXQ7RjmZJJKUa63Q1XYUlZgSSgkQ3v/w8f5Dz2QYAag6jabD8SIuDm+GJ64CUaJo/H9a5nc8Z7fcqNOE91ta2BAVDKp4/GULhud1DII1//4h9Pc7B6rj6effvyyyI/pPXAVSVMmUZJPB3QPZ+1xk+A/S29awXRZZmkTLLXZuHm49jqjVv+4a+45lsR79+7fRojjW94lBqRTFoliO7jLN5M5uwRH3VuutlqtVtFyt07wCM/j4z3/0DQyaZdt7r6ny7WL4xx/z7dGg/TQABY1q0vW61D0blzqjGCNqIm47mkyhyZKsIaZ/fffpl9BECjNKCSglGlHG0/F4PF0XR3OGEy2glGpUKbjroK1vmaauc6phQohSwBg1c8Xt7u3DTT8wQGICAFAVeZYl6/Fvj8s4PzYDWiQmCkAU6yFJR4HneZ7fMQnlCmHdDQfzVQG67fc+hA4nsNv1VBFF0Wq5mD4+rsvj+ttlxyKdViu/2+uFoWKcIMoxd/vperUpEDdtxw84UiARBoA6Xoyn4/F0sYyS76WN7QAKka2dYLXJpO46GiJATVdU8SaukKYb3NA5hl3lQMXRbDT88jiJ4rL5Xt7crj7QNFVZVHVVsU6/UQgIAFBOmdEgxjllDAMAAVlX5XwyGo3G0/n2mAc6CwBAlACyzPX+bSWe2momEcAoI08PmmSznQz/HE7m6/R7438OAKg6E3nqfkwqQUDtXAJFEgj+uiEX68lsPBpO5+usfkV/ewAQskrTcJPXUoICpBQoggEQINhnzOVmPhyOJtPlOi5eLZu0twAoEHVaNPL5357iPVk3jUQg0vHjn4/T+XIT51XzWtWivQV2ur5JBtFTtNZkSVpK1cTjz59H0SY+GgW9HQB9m4copHYRYx3Pl0klqnj8+GWWFUXVHA4D3wGAUvxNnK0UAAGAejsbRnldxrPhZNVIcTwUfjPAX1NBAIAmXY7maVUli9n85IrReQB1Iw5YV2TL8Tit6nyzyU/u6jwAtQ8wX1pCpKvxMGlElb/i/d4O8JSqvLSCLNaLaSyVEC2KlucAINBMTv+aa8oq3azjluXKMwA0XbdC32IYIYUAIfVUOVeiqaq25dIzAHjQ7X4auBrZe6DnkVBtzz/OBDD79ze/XLsvKhL7wwNMWvfXHkDvhPf391cOQ3u9z0MACBOCZbuidTsATCh1w5sPH0PPoEqKWilACH+zE7eWdgDEsOzu/cPHO8/hRFVl0UhAWOP8ZwFQM+hff3r4cK3rGmryJK2EItRUhL3e9l0AiOmFdx9uBl2MCVTpalMKzLhixutN3wcAa5bn+77LAVSdrCarAumm5OJ0z/tGAES5YZqcAUCZLR9/n1V60GVv0d8WgDBNowQAmmIz//yvofCF4bxBfWsATCjBIAGaIlmN//isrt1aHT2ueH8AQJgQBEohJZsq3aywWwM5WC3/YQD7EABRXeeMIY1zrv1EAFAASikAorte0N2A33EsneFzz85bAyillJIKAdGR3+sn0A86jsHOd4RnJCZKKQWANWq7ng+e65j6zwT4ejaCmcZ1ZFqWychPA0C7rW+HgDBlWDdM4+nQ8qyp2HYVfHuFA2FCNd3U6f7B4WzhfQH2MwAAQAGijHGdawjQ+c64HYASTVU1e22IaDrTjxwa/yiApizKWu1rpYwbTPtmAv7wKxwAss7TrJToCcCknH6j+5yLNO3sJ6s83ib5rjKPNdO2daK+6m+vvrUFqnQTReuNjjBWRHcEsd8QDp4BIIpYY07HEIbBqeb0OO4Y+Dksx0fP5t4PoNyIRuO4DAKP6i52kGGSZ8uTcwhaDkHZFAWhUBWIc+boFRBGzr5Gdg6ArIuKc6qQ4diaphm7qtlOVFUfKlu8KwAAQLldMMU7vVohwAAgFQIESjZ1mn+/LPxOAFBEUBm920o+ZacIAagmT9fb7PW64DsA1HGdubfr1NL3KxABgKjS1XKTlU3bm4VnADSiyHqz+RW1NML2xQFZJuv5PEoPX1J4ZwClII8mf/KkYxmGrlEEqiniaD6ZRVn9EyYhAABsh3wT9rp+EAQIQBXb1Ww8HC3T+vWm7wOQDYvH/vXNzQ22NYAmXs5Gw8fx8ruHM+8KUM7XpDvfZI3u2gDbxWTy+DiaR8fua70/gBAlFAojxFlt5rPxZDoaz6L4teOR9wMAACjXHNVl1OdltFxG82WU5K+ej/xV3pJX6q7r+r5NmyxNsyTNyuropb0fA0ApY0yjSImmEU0jhFRvqRRc5CIXuchFLnKR/5L8P02iCIBJhWxfAAAAAElFTkSuQmCC\" style=\"height: auto\">\n",
       "              <figcaption style=\"font-size: 0.6em\">8</figcaption>\n",
       "            </figure>\n",
       "        \n",
       "            <figure style=\"margin: 5px !important;\">\n",
       "              <img src=\"data:image/png;base64,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\" style=\"height: auto\">\n",
       "              <figcaption style=\"font-size: 0.6em\">6</figcaption>\n",
       "            </figure>\n",
       "        \n",
       "            <figure style=\"margin: 5px !important;\">\n",
       "              <img src=\"data:image/png;base64,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\" style=\"height: auto\">\n",
       "              <figcaption style=\"font-size: 0.6em\">5</figcaption>\n",
       "            </figure>\n",
       "        \n",
       "    </div>"
      ],
      "text/plain": [
       "<IPython.core.display.HTML object>"
      ]
     },
     "execution_count": 5,
     "metadata": {},
     "output_type": "execute_result"
    }
   ],
   "source": [
    "count = 8\n",
    "\n",
    "def get_images_and_labels(df, ids):\n",
    "    image_datas = df.loc[ids]['png']\n",
    "    images = [Image.open(io.BytesIO(image_data)) for image_data in image_datas]\n",
    "    labels = df.loc[ids]['value']\n",
    "    return images, list(labels)\n",
    "\n",
    "def get_some_random_images_and_labels(df, count):\n",
    "    image_ids = RNG.choice(df.index.unique(), count, replace=False)\n",
    "    return get_images_and_labels(df, image_ids)\n",
    "\n",
    "train_images, train_labels = get_some_random_images_and_labels(df_train_images, count)\n",
    "test_images, test_labels = get_some_random_images_and_labels(df_test_images, count)\n",
    "\n",
    "display_images_grid(train_images + test_images, captions=train_labels + test_labels, col_count=count)"
   ]
  },
  {
   "cell_type": "markdown",
   "id": "49a9c189-4620-4fff-b12c-0553540cc48d",
   "metadata": {},
   "source": [
    "# Core logic"
   ]
  },
  {
   "cell_type": "markdown",
   "id": "3e1f9cdd-a16c-4406-9eb6-69a653b84175",
   "metadata": {},
   "source": [
    "## Hyper Parameters"
   ]
  },
  {
   "cell_type": "code",
   "execution_count": 6,
   "id": "8d1303e2-9a31-466c-8eb6-48bd7a0a7fb8",
   "metadata": {},
   "outputs": [],
   "source": [
    "# HP_SIGNAL_VEC_LEN = 2000 # aka SBV\n",
    "# HP_SIGNAL_VEC_NON_ZERO_BITS = 9\n",
    "# HP_SIGNAL_ENCODING = f'{HP_SIGNAL_VEC_LEN}/{HP_SIGNAL_VEC_NON_ZERO_BITS}'\n",
    "\n",
    "# HP_CLUSTER_ONES_COUNT_THRES = 5\n",
    "# HP_CLUSTER_CREATION_ONES_COUNT_THRES = 6\n",
    "# HP_CLUSTER_LEARN_STATE_IDLE_CYCLES = 10\n",
    "# HP_CLUSTER_PREPROD_STATE_IDLE_CYCLES = 30\n",
    "# HP_CLUSTER_LEARN_STATE_BINARIZE_SCHEDULE = (10, 20)\n",
    "# HP_CLUSTER_PREPROD_STATE_SIGNALS_PROCESSED_THRES = 10\n",
    "# HP_CLUSTER_BINARIZE_THRES = 0.75\n",
    "# HP_CLUSTER_ACCURACY_THRES = 0.75\n",
    "\n",
    "# HP_PIXELS_COUNT = config.sample_size ** 2\n",
    "\n",
    "HP_SIGNAL_VEC_LEN = 256 # aka SBV\n",
    "HP_SIGNAL_VEC_NON_ZERO_BITS = 6\n",
    "HP_SIGNAL_ENCODING = f'{HP_SIGNAL_VEC_LEN}/{HP_SIGNAL_VEC_NON_ZERO_BITS}'\n",
    "\n",
    "HP_CLUSTER_ONES_COUNT_THRES = 3\n",
    "HP_CLUSTER_CREATION_ONES_COUNT_THRES = 4\n",
    "HP_CLUSTER_LEARN_STATE_IDLE_CYCLES = 10\n",
    "HP_CLUSTER_PREPROD_STATE_IDLE_CYCLES = 30\n",
    "HP_CLUSTER_LEARN_STATE_BINARIZATION_SCHEDULE = (10, 10)\n",
    "HP_CLUSTER_PREPROD_STATE_SIGNALS_PROCESSED_THRES = 20\n",
    "HP_CLUSTER_BINARIZE_THRES = 0.75\n",
    "HP_CLUSTER_ACCURACY_THRES = 0.95\n",
    "\n",
    "HP_TOY_IMAGE_SIZE = 10\n",
    "HP_TOY_IMAGE_SQUARE = HP_TOY_IMAGE_SIZE ** 2\n",
    "HP_TOY_IMAGE_KERNEL_SIZE = 8\n",
    "HP_TOY_IMAGE_KERNEL_SQUARE = HP_TOY_IMAGE_KERNEL_SIZE ** 2\n",
    "assert HP_TOY_IMAGE_KERNEL_SIZE <= HP_TOY_IMAGE_SIZE\n",
    "HP_TOY_IMAGE_ONES_COUNT = 8\n",
    "\n",
    "HP_PIXELS_COUNT = HP_TOY_IMAGE_SQUARE"
   ]
  },
  {
   "cell_type": "markdown",
   "id": "24850512-c1a7-4d52-a17a-bf1a5f7641a7",
   "metadata": {},
   "source": [
    "## Types"
   ]
  },
  {
   "cell_type": "code",
   "execution_count": 7,
   "id": "62aec35b-11c1-4d9a-9cdc-b7315222c610",
   "metadata": {},
   "outputs": [],
   "source": [
    "class ClusterState(StrEnum):\n",
    "    LEARN = auto()\n",
    "    PREPROD = auto()\n",
    "    PROD = auto()\n",
    "    DEAD = auto()\n",
    "\n",
    "class ClusterMeta:\n",
    "    def __init__(self, cluster_ind):\n",
    "        self.state = ClusterState.LEARN\n",
    "        self.cluster_ind = cluster_ind\n",
    "        self.cluster_key = ()\n",
    "        self.output_bit = -1\n",
    "        self.input_bits = ()\n",
    "        self.nu = 0\n",
    "        self.ones_count = -1\n",
    "        self.signals_learned = -1\n",
    "        self.signals_to_learn_till_binarization = 0\n",
    "        self.binarization_schedule = ()\n",
    "        self.stats = Counter()\n",
    "        self.verify_image_ids = {}\n",
    "        self.alarm_cycle = None"
   ]
  },
  {
   "cell_type": "markdown",
   "id": "f70e4714-7395-4a8a-93f7-7248507d6e9f",
   "metadata": {},
   "source": [
    "## Memory"
   ]
  },
  {
   "cell_type": "code",
   "execution_count": 8,
   "id": "385867d3-df1a-44cd-a8b6-ab94e752aad3",
   "metadata": {},
   "outputs": [],
   "source": [
    "def hdv_array_log_like_grow_policy(size):\n",
    "    k = math.log(size, 100_000)\n",
    "    new_size = size * 2 if k < 1 else size * 1.1\n",
    "    return int(new_size)\n",
    "\n",
    "CLUSTERS = HdvArray(HP_SIGNAL_VEC_LEN, xp, initial_length=10_000, dtype='f', grow_policy=hdv_array_log_like_grow_policy)\n",
    "CLUSTER_MASKS = HdvArray(HP_SIGNAL_VEC_LEN, xp, initial_length=10_000, dtype='f', grow_policy=hdv_array_log_like_grow_policy)\n",
    "CLUSTER_METAS = {} # key - cluster index, value ClusterMeta instance"
   ]
  },
  {
   "cell_type": "code",
   "execution_count": 35,
   "id": "944a2145-43bc-4ece-b640-e4562074deaf",
   "metadata": {},
   "outputs": [],
   "source": [
    "def gc_memory():\n",
    "    gc.collect()\n",
    "    \n",
    "    if cp.cuda.is_available():\n",
    "        cp.get_default_memory_pool().free_all_blocks()\n",
    "\n",
    "def clear_memory():\n",
    "    CLUSTER_METAS.clear()\n",
    "    CLUSTER_MASKS.clear(is_hard_clear=True)\n",
    "    CLUSTERS.clear(is_hard_clear=True)\n",
    "    gc_memory()"
   ]
  },
  {
   "cell_type": "markdown",
   "id": "6438e5f1-7eb4-483c-8572-a32543ab348d",
   "metadata": {},
   "source": [
    "## SBV"
   ]
  },
  {
   "cell_type": "raw",
   "id": "c0294e1e-250b-45b4-aa7b-8172ed6328c5",
   "metadata": {},
   "source": [
    "SBV stands for \"sparsed binary vector\""
   ]
  },
  {
   "cell_type": "code",
   "execution_count": 10,
   "id": "b1a43c52-4006-4a8e-a97d-507ee8f69ef7",
   "metadata": {},
   "outputs": [
    {
     "name": "stdout",
     "output_type": "stream",
     "text": [
      "PIXEL_SBVS loaded from database (ROWID=2)\n"
     ]
    }
   ],
   "source": [
    "df_pixels = pd.read_sql('SELECT rowid, sbv FROM pixels WHERE encoding=:encoding', params={'encoding': HP_SIGNAL_ENCODING}, con=transfs_db_con)\n",
    "\n",
    "if len(df_pixels) > 0:\n",
    "    PIXEL_SBVS = pickle.loads(df_pixels.iloc[0].sbv)\n",
    "    print(f'PIXEL_SBVS loaded from database (ROWID={df_pixels.iloc[0].rowid})')\n",
    "else:\n",
    "    PIXEL_SBVS = np.zeros((HP_PIXELS_COUNT, HP_SIGNAL_VEC_LEN), dtype='f')\n",
    "    \n",
    "    for i in range(PIXEL_SBVS.shape[0]):\n",
    "        ii = RNG.choice(HP_SIGNAL_VEC_LEN, HP_SIGNAL_VEC_NON_ZERO_BITS, replace=False)\n",
    "        PIXEL_SBVS[i][ii] = 1\n",
    "\n",
    "    transfs_db_con.execute('INSERT INTO pixels (encoding, sbv) VALUES (:encoding, :sbv)', {'encoding': HP_SIGNAL_ENCODING, 'sbv': pickle.dumps(PIXEL_SBVS)})\n",
    "    print('PIXEL_SBVS created from scratch')\n",
    "\n",
    "assert PIXEL_SBVS.shape[0] == HP_PIXELS_COUNT\n",
    "assert np.all(PIXEL_SBVS.sum(axis=1) == HP_SIGNAL_VEC_NON_ZERO_BITS)\n",
    "# PIXEL_SBVS = xp_array_to_gpu(PIXEL_SBVS)"
   ]
  },
  {
   "cell_type": "markdown",
   "id": "de73e165-ba51-4050-b4b8-1af91973f3e3",
   "metadata": {},
   "source": [
    "## lambdas"
   ]
  },
  {
   "cell_type": "code",
   "execution_count": 11,
   "id": "9973a30b-4267-42a8-b61c-5c2c869c902c",
   "metadata": {},
   "outputs": [],
   "source": [
    "fetch_si_xy = lambda si: (si.x, si.y)\n",
    "get_sequence = lambda sequences: np.array(list(itertools.chain.from_iterable(sequences)))\n",
    "get_sequences_reading = lambda sequences, seq_reading_code: list(map(lambda r: sequences[r[0]] if r[1] == 0 else list(reversed(sequences[r[0]])), seq_reading_code))\n",
    "get_xy_sequence = lambda sequence, si_ind_dict: np.array(list(map(lambda si_ind: fetch_si_xy(si_ind_dict[si_ind]), sequence)))\n",
    "get_raw_image = lambda image_id: Image.open(io.BytesIO((df_train_images if image_id < 100_000_000 else df_test_images).loc[image_id]['png']))\n",
    "get_cluster_key = lambda tag, output_bit, input_bits: (tag, int(output_bit), tuple(map(int, sorted(input_bits))))\n",
    "signal_elem_ind_to_xy = lambda ind: (int(ind % HP_COMBI_SPACE_SIZE), int(ind // HP_COMBI_SPACE_SIZE))\n",
    "signal_elem_inds_to_xy = lambda inds: list(map(lambda ind: signal_elem_ind_to_xy(ind), inds))\n",
    "get_cluster_logic = lambda cluster_ind: (signal_elem_inds_to_xy(xp_array_from_gpu(xp.argwhere(CLUSTERS.array_active[cluster_ind]).ravel()).astype('i')), signal_elem_ind_to_xy(CLUSTER_METAS[cluster_ind].output_bit))"
   ]
  },
  {
   "cell_type": "markdown",
   "id": "a6579ab9-f958-4519-9eff-82e5e9b4677f",
   "metadata": {},
   "source": [
    "## calc_seq_ipxy"
   ]
  },
  {
   "cell_type": "raw",
   "id": "c8f25bec-0e1b-4f6d-9fd1-42e8c2d678a9",
   "metadata": {},
   "source": [
    "IPXY = InterPolate by XY"
   ]
  },
  {
   "cell_type": "code",
   "execution_count": 12,
   "id": "442809ec-87e2-47d6-be59-672b60fcd5bc",
   "metadata": {},
   "outputs": [],
   "source": [
    "def calc_seq_ipxy(sequences, si_ind_dict):\n",
    "    unique_pts = {} # Dictionaries preserve insertion order  (https://docs.python.org/3/library/stdtypes.html#typesmapping)\n",
    "        \n",
    "    for sequence in sequences:\n",
    "        xy_sequence = get_xy_sequence(sequence, si_ind_dict)\n",
    "        xy_sequence_fwd = np.roll(xy_sequence, -1, axis=0)\n",
    "        vec_sequence = xy_sequence_fwd - xy_sequence\n",
    "        vec_sequence[-1,:] = 0 # get rid of reciprocal vector which connects tail to tip\n",
    "        vec_len_sequence = np.linalg.norm(vec_sequence, axis=1)\n",
    "        vec_len_sequence_nozero = np.where(vec_len_sequence != 0, vec_len_sequence, 1e-6) # prevent 0 len vectors\n",
    "        norm_vec_sequence = (vec_sequence.T / vec_len_sequence_nozero).T\n",
    "        vec_len_sequence = np.round(vec_len_sequence, decimals=0).astype(int)\n",
    "        \n",
    "        assert len(sequence) == vec_sequence.shape[0]\n",
    "        assert len(sequence) == vec_len_sequence.shape[0]\n",
    "        assert len(sequence) == norm_vec_sequence.shape[0]\n",
    "        \n",
    "        for pt, pt_to, norm_vec, vec_len in zip(xy_sequence, xy_sequence_fwd, norm_vec_sequence, vec_len_sequence):\n",
    "            if vec_len <= 0:\n",
    "                continue\n",
    "\n",
    "            pts = pt + (np.arange(vec_len) * norm_vec[np.newaxis,:].T).T # path interpolation\n",
    "            pts = np.round(pts, decimals=0).astype(int)\n",
    "            pts = np.vstack([pts, pt_to])\n",
    "            unique_pts.update(map(lambda p: (tuple(p), 1), pts))\n",
    "\n",
    "    return np.vstack(list(unique_pts.keys()))"
   ]
  },
  {
   "cell_type": "markdown",
   "id": "2fbb6298-8d85-4d7b-bd1b-db831bd714d0",
   "metadata": {},
   "source": [
    "## calc_seq_bv"
   ]
  },
  {
   "cell_type": "raw",
   "id": "d7c672d8-825f-4a48-ae5c-6c4a4a68b901",
   "metadata": {},
   "source": [
    "BV - binary vector with one-hot encoding"
   ]
  },
  {
   "cell_type": "code",
   "execution_count": 13,
   "id": "bf069dce-adf8-453c-be28-b55a61f97627",
   "metadata": {},
   "outputs": [],
   "source": [
    "def calc_seq_bv(seq_xy):\n",
    "    seq_xy = xp_array_to_gpu(seq_xy)\n",
    "    seq_xy = seq_xy * (HP_COMBI_SPACE_SIZE / config.sample_size)\n",
    "    # Leave only points which fit into square defined by HP_COMBI_CLUSTERS_SPACE_SIZE,\n",
    "    # use filtering instead of clipping because clipping tends to introduce false point clustering at the bounadries\n",
    "    seq_xy = xp.round(seq_xy, decimals=0)\n",
    "    ii = xp.all(((seq_xy >= 0) & (seq_xy < HP_COMBI_SPACE_SIZE)), axis=1) \n",
    "    seq_xy = seq_xy[ii]\n",
    "    ind_seq = (seq_xy @ xp.array([1, HP_COMBI_SPACE_SIZE])).astype(int)\n",
    "    bitmap_vec = xp.zeros((HP_COMBI_SPACE_SIZE, HP_COMBI_SPACE_SIZE), dtype='f').ravel()\n",
    "    bitmap_vec[ind_seq] = 1\n",
    "    return bitmap_vec"
   ]
  },
  {
   "cell_type": "markdown",
   "id": "8a7dc09c-d4b0-4fbd-a76d-92684194d275",
   "metadata": {},
   "source": [
    "## calc_seq_sbv"
   ]
  },
  {
   "cell_type": "code",
   "execution_count": 14,
   "id": "6b092598-5634-479f-b788-de7de2b5b22e",
   "metadata": {},
   "outputs": [],
   "source": [
    "def calc_seq_sbv(seq_xy):\n",
    "    ii = np.all(((seq_xy >= 0) & (seq_xy < config.sample_size)), axis=1) \n",
    "    seq_xy = seq_xy[ii]\n",
    "    ind_seq = (seq_xy @ np.array([1, config.sample_size])).astype(int)\n",
    "    seq_sbv = np.where(np.sum(PIXEL_SBVS[ind_seq], axis=0) > 0, 1, 0) # aka Bloom filter\n",
    "    return seq_sbv"
   ]
  },
  {
   "cell_type": "code",
   "execution_count": 15,
   "id": "f929d080-2398-4055-a1d9-0189f89bee39",
   "metadata": {},
   "outputs": [],
   "source": [
    "# def calc_seq_sbv(seq_xy):\n",
    "#     seq_xy = xp_array_to_gpu(seq_xy)\n",
    "#     ii = xp.all(((seq_xy >= 0) & (seq_xy < config.sample_size)), axis=1) \n",
    "#     seq_xy = seq_xy[ii]\n",
    "#     ind_seq = (seq_xy @ xp.array([1, config.sample_size])).astype(int)\n",
    "#     seq_sbv = xp.where(xp.sum(PIXEL_SBVS[ind_seq], axis=0) > 0, 1, 0) # aka Bloom filter\n",
    "#     return seq_sbv"
   ]
  },
  {
   "cell_type": "markdown",
   "id": "76bee177-67c1-4f6d-8ab6-14d652cb5515",
   "metadata": {},
   "source": [
    "## seq_sbv_to_bv"
   ]
  },
  {
   "cell_type": "code",
   "execution_count": 16,
   "id": "3ca199c2-561d-449c-be1a-9662e97ef703",
   "metadata": {},
   "outputs": [],
   "source": [
    "def seq_sbv_to_bv(seq_sbv):\n",
    "    seq_sbv = xp_array_from_gpu(seq_sbv)\n",
    "    pixel_sbv_inds = np.argwhere((PIXEL_SBVS @ seq_sbv) >= HP_SIGNAL_VEC_NON_ZERO_BITS).ravel()\n",
    "    seq_bv = np.zeros((config.sample_size, config.sample_size)).ravel()\n",
    "    seq_bv[pixel_sbv_inds] = 1\n",
    "    return seq_bv"
   ]
  },
  {
   "cell_type": "markdown",
   "id": "5d288799-ded2-4d59-a102-d6fec7581575",
   "metadata": {},
   "source": [
    "## get_seq_bv_pair"
   ]
  },
  {
   "cell_type": "code",
   "execution_count": 17,
   "id": "57e7573e-e617-4e98-b4e7-927032d178b5",
   "metadata": {},
   "outputs": [],
   "source": [
    "def get_seq_bv_pair(df_image, transf):\n",
    "    si_ind_dict = pickle.loads(df_image.inner_si_ind_dict)\n",
    "    sequences = pickle.loads(df_image.inner_sequences)\n",
    "    seq_reading_code = tuple(zip(range(len(sequences)), (0,) * len(sequences)))\n",
    "    seq_reading = get_sequences_reading(sequences, seq_reading_code)\n",
    "    seq_ipxy = calc_seq_ipxy(seq_reading, si_ind_dict)\n",
    "    seq_bv = calc_seq_bv(seq_ipxy)\n",
    "\n",
    "    seq_ipxy_transf = np.hstack([seq_ipxy, np.ones(seq_ipxy.shape[0])[:,np.newaxis]]) # make homogeneous coords\n",
    "    seq_ipxy_transf = (transf @ seq_ipxy_transf.T).T[:,:2]\n",
    "    seq_bv_transf = calc_seq_bv(seq_ipxy_transf)\n",
    "    \n",
    "    return seq_bv, seq_bv_transf"
   ]
  },
  {
   "cell_type": "markdown",
   "id": "1f4341be-05a5-42c1-8c1b-cd855427d724",
   "metadata": {},
   "source": [
    "## get_seq_sbv_pair"
   ]
  },
  {
   "cell_type": "code",
   "execution_count": 18,
   "id": "8d3dbf81-c490-4b1f-8f86-c08a50a2d0b5",
   "metadata": {},
   "outputs": [],
   "source": [
    "def get_seq_sbv_pair_kern(sequences, si_ind_dict, transf):\n",
    "    seq = get_sequence(sequences)\n",
    "    seq_xy = get_xy_sequence(seq, si_ind_dict)\n",
    "    \n",
    "    seq_sbv = calc_seq_sbv(seq_xy)\n",
    "\n",
    "    seq_xy_transf = np.hstack([seq_xy, np.ones(seq_xy.shape[0])[:,np.newaxis]]) # make homogeneous coords\n",
    "    seq_xy_transf = (transf @ seq_xy_transf.T).T[:,:2]\n",
    "    seq_sbv_transf = calc_seq_sbv(seq_xy_transf)\n",
    "    \n",
    "    return seq_sbv, seq_sbv_transf"
   ]
  },
  {
   "cell_type": "code",
   "execution_count": 19,
   "id": "1fa66b17-293e-4681-9058-e2b0ac01d9ab",
   "metadata": {},
   "outputs": [],
   "source": [
    "def get_seq_sbv_pair(df_image, transf):\n",
    "    sequences = pickle.loads(df_image.inner_sequences)\n",
    "    si_ind_dict = pickle.loads(df_image.inner_si_ind_dict)\n",
    "    return get_seq_sbv_pair_kern(sequences, si_ind_dict, transf)"
   ]
  },
  {
   "cell_type": "markdown",
   "id": "aa61025a-f1f8-4b85-9b3b-a28c919b4387",
   "metadata": {},
   "source": [
    "## get_random_toy_image_ids"
   ]
  },
  {
   "cell_type": "code",
   "execution_count": 20,
   "id": "b0f9ed5a-fde1-473f-8f25-895767869647",
   "metadata": {},
   "outputs": [],
   "source": [
    "def get_random_toy_image_ids(count):\n",
    "    result = []\n",
    "    bits_list = RNG.integers(2, size=(count, HP_TOY_IMAGE_KERNEL_SQUARE), dtype='b')\n",
    "\n",
    "    for _ in range(count):\n",
    "        bits = np.zeros(HP_TOY_IMAGE_KERNEL_SQUARE, dtype='b')\n",
    "        ii = RNG.choice(HP_TOY_IMAGE_KERNEL_SQUARE, HP_TOY_IMAGE_ONES_COUNT, replace=False)\n",
    "        bits[ii] = 1\n",
    "        image_id = sum(map(lambda x: 2**int(x), ii))\n",
    "        assert ''.join(map(str, reversed(bits))) == np.binary_repr(image_id, width=HP_TOY_IMAGE_KERNEL_SQUARE)\n",
    "        result.append(image_id)\n",
    "\n",
    "    return result"
   ]
  },
  {
   "cell_type": "markdown",
   "id": "54d7a684-fe05-46e1-8c6e-a1b75279c8d4",
   "metadata": {},
   "source": [
    "## get_toy_image"
   ]
  },
  {
   "cell_type": "code",
   "execution_count": 21,
   "id": "18fd1716-363b-419b-81b4-f91b632785b3",
   "metadata": {},
   "outputs": [],
   "source": [
    "def get_toy_image(image_id):\n",
    "    bits = np.binary_repr(image_id, width=HP_TOY_IMAGE_KERNEL_SQUARE)\n",
    "    bits = np.array(list(map(int, reversed(bits))), dtype='f')\n",
    "    image = np.zeros((HP_TOY_IMAGE_SIZE, HP_TOY_IMAGE_SIZE), dtype='f')\n",
    "    offset = (HP_TOY_IMAGE_SIZE - HP_TOY_IMAGE_KERNEL_SIZE) // 2\n",
    "    image[offset:offset+HP_TOY_IMAGE_KERNEL_SIZE,offset:offset+HP_TOY_IMAGE_KERNEL_SIZE] = bits.reshape(HP_TOY_IMAGE_KERNEL_SIZE, -1)\n",
    "    return image.ravel()"
   ]
  },
  {
   "cell_type": "markdown",
   "id": "c53ad2f3-dc17-4bcb-a9c9-9b44aa1f3a42",
   "metadata": {},
   "source": [
    "## calc_toy_image_sbv"
   ]
  },
  {
   "cell_type": "code",
   "execution_count": 22,
   "id": "d240081d-6785-4dc9-9139-114faf2f88d4",
   "metadata": {},
   "outputs": [],
   "source": [
    "def calc_toy_image_sbv(image):\n",
    "    assert image.shape[0] == PIXEL_SBVS.shape[0]\n",
    "    mask = image.astype(bool)\n",
    "    active_pixels = PIXEL_SBVS[mask]\n",
    "    return np.where(active_pixels.sum(axis = 0) > 0, 1, 0) # aka Bloom filter"
   ]
  },
  {
   "cell_type": "markdown",
   "id": "33dcc7c6-f12f-4c92-b55e-3901f92796ce",
   "metadata": {},
   "source": [
    "## toy_image_sbv_to_bv"
   ]
  },
  {
   "cell_type": "code",
   "execution_count": 23,
   "id": "b4c1ec61-f00f-447e-9cf1-a161ef102b4f",
   "metadata": {},
   "outputs": [],
   "source": [
    "def toy_image_sbv_to_bv(sbv):\n",
    "    sbv = xp_array_from_gpu(sbv)\n",
    "    pixel_sbv_inds = np.argwhere((PIXEL_SBVS @ sbv) >= HP_SIGNAL_VEC_NON_ZERO_BITS).ravel()\n",
    "    bv = np.zeros((HP_TOY_IMAGE_SIZE, HP_TOY_IMAGE_SIZE)).ravel()\n",
    "    bv[pixel_sbv_inds] = 1\n",
    "    return bv"
   ]
  },
  {
   "cell_type": "markdown",
   "id": "454d74a8-397e-42b6-af1e-18437ef2f791",
   "metadata": {},
   "source": [
    "## .lab hdc"
   ]
  },
  {
   "cell_type": "code",
   "execution_count": 24,
   "id": "8a77cf8e-74e7-408e-83ed-bf28a26b2875",
   "metadata": {},
   "outputs": [],
   "source": [
    "# hdc = Hdc(10_000, np, dtype='f')\n",
    "# hdc.bundle = hdc.bundle_noties\n",
    "# hdc.cos_sim_threshold = 0.055\n",
    "# hdc.hdist_threshold = 4700\n",
    "\n",
    "hdc = Hdc(1_000, np, dtype='f')\n",
    "hdc.bundle = hdc.bundle_noties\n",
    "hdc.cos_sim_threshold = 0.10\n",
    "\n",
    "# hdc = Hdc(2_000, np, dtype='f')\n",
    "# hdc.bundle = hdc.bundle_noties\n",
    "# hdc.cos_sim_threshold = 0.10"
   ]
  },
  {
   "cell_type": "code",
   "execution_count": 25,
   "id": "69ac53e2-f39a-4e59-abfd-2b5eeb834122",
   "metadata": {},
   "outputs": [],
   "source": [
    "PIXEL_HDVS = hdc(config.sample_size ** 2)\n",
    "PIXEL_HDVS_NORM = hdc.normalize(PIXEL_HDVS)"
   ]
  },
  {
   "cell_type": "code",
   "execution_count": 26,
   "id": "af16ae38-e56f-48df-85c5-426649ab275a",
   "metadata": {},
   "outputs": [
    {
     "data": {
      "image/png": "[encoded data removed]",
      "text/plain": [
       "<Figure size 1200x480 with 2 Axes>"
      ]
     },
     "metadata": {},
     "output_type": "display_data"
    }
   ],
   "source": [
    "image_id = RNG.choice(df_train_images.index)\n",
    "image = next(df_train_images.loc[[image_id]].itertuples())\n",
    "si_ind_dict = pickle.loads(image.inner_si_ind_dict)\n",
    "sequences = pickle.loads(image.inner_sequences)\n",
    "seq = get_sequence(sequences)\n",
    "seq_xy = get_xy_sequence(seq, si_ind_dict)\n",
    "ii = np.all(((seq_xy >= 0) & (seq_xy < config.sample_size)), axis=1) \n",
    "seq_xy = seq_xy[ii]\n",
    "ind_seq = (seq_xy @ np.array([1, config.sample_size])).astype(int)\n",
    "seq_bv_true = np.zeros((config.sample_size, config.sample_size)).ravel()\n",
    "seq_bv_true[ind_seq] = 1\n",
    "\n",
    "seq_hdv = hdc.bundle(PIXEL_HDVS[ind_seq])\n",
    "seq_hdv_binary = hdc.to_binary(seq_hdv)\n",
    "seq_hdv_bipolar = hdc.to_bipolar(seq_hdv_binary)\n",
    "seq_hdv_bipolar_norm = hdc.normalize(seq_hdv_bipolar)\n",
    "pixel_hdv_inds = np.argwhere((PIXEL_HDVS_NORM @ seq_hdv_bipolar_norm) > hdc.cos_sim_threshold).ravel()\n",
    "seq_bv = np.zeros((config.sample_size, config.sample_size)).ravel()\n",
    "seq_bv[pixel_hdv_inds] = 1\n",
    "\n",
    "error_level = np.count_nonzero(seq_bv != seq_bv_true)\n",
    "\n",
    "fig, (ax1, ax2) = plt.subplots(1, 2)\n",
    "fig.set_figwidth(12)\n",
    "ax1.set_title(f'image_id={image_id}, points={len(ind_seq)}')\n",
    "ax1.imshow(seq_bv_true.reshape(config.sample_size, -1));\n",
    "ax2.set_title(f'err.={error_level}')\n",
    "ax2.set_title(f'N={seq_hdv.shape[0]} / {seq_hdv_binary.sum():.0f}, err.={error_level}')\n",
    "ax2.imshow(seq_bv.reshape(config.sample_size, -1));"
   ]
  },
  {
   "cell_type": "code",
   "execution_count": 27,
   "id": "93bd685d-76e0-4de1-a67b-6a61e9a2c29b",
   "metadata": {},
   "outputs": [
    {
     "data": {
      "image/jpeg": "[encoded data removed]",
      "image/png": "[encoded data removed]",
      "text/plain": [
       "<PIL.PngImagePlugin.PngImageFile image mode=L size=128x128>"
      ]
     },
     "execution_count": 27,
     "metadata": {},
     "output_type": "execute_result"
    }
   ],
   "source": [
    "get_raw_image(image_id)"
   ]
  },
  {
   "cell_type": "markdown",
   "id": "582ad609-9873-4ab3-830f-488d15ecf505",
   "metadata": {},
   "source": [
    "## .lab sbv"
   ]
  },
  {
   "cell_type": "code",
   "execution_count": 28,
   "id": "9d858d2c-11f8-4b20-a572-c9c1edcfaf55",
   "metadata": {},
   "outputs": [],
   "source": [
    "# # image_id = RNG.choice(df_train_images.index)\n",
    "# # image_id = 44917 # 60 points\n",
    "# image = next(df_train_images.loc[[image_id]].itertuples())\n",
    "# si_ind_dict = pickle.loads(image.inner_si_ind_dict)\n",
    "# sequences = pickle.loads(image.inner_sequences)\n",
    "# seq = get_sequence(sequences)\n",
    "# seq_xy = get_xy_sequence(seq, si_ind_dict)\n",
    "# ii = np.all(((seq_xy >= 0) & (seq_xy < config.sample_size)), axis=1) \n",
    "# seq_xy = seq_xy[ii]\n",
    "# ind_seq = (seq_xy @ np.array([1, config.sample_size])).astype(int)\n",
    "# seq_bv_true = np.zeros((config.sample_size, config.sample_size)).ravel()\n",
    "# seq_bv_true[ind_seq] = 1\n",
    "\n",
    "# # seq_sbv = np.where(np.sum(PIXEL_SBVS[ind_seq], axis=0) > 0, 1, 0) # aka Bloom filter\n",
    "# seq_sbv = calc_seq_sbv(seq_xy)\n",
    "# # pixel_sbv_inds = np.argwhere((PIXEL_SBVS @ seq_sbv) >= SBV_NON_ZERO_INDS).ravel()\n",
    "# # seq_bv = np.zeros((config.sample_size, config.sample_size)).ravel()\n",
    "# # seq_bv[pixel_sbv_inds] = 1\n",
    "# seq_bv = seq_sbv_to_bv(seq_sbv)\n",
    "\n",
    "# error_level = np.count_nonzero(seq_bv != seq_bv_true)\n",
    "\n",
    "# fig, (ax1, ax2) = plt.subplots(1, 2)\n",
    "# fig.set_figwidth(12)\n",
    "# ax1.set_title(f'image_id={image_id}, points={len(ind_seq)}')\n",
    "# ax1.imshow(seq_bv_true.reshape(config.sample_size, -1))\n",
    "# ax2.set_title(f'sbv={seq_sbv.shape[0]} / {seq_sbv.sum()}, non_zero_inds={HP_SIGNAL_VEC_NON_ZERO_BITS}, err.={error_level}')\n",
    "# ax2.imshow(seq_bv.reshape(config.sample_size, -1));"
   ]
  },
  {
   "cell_type": "markdown",
   "id": "8a40ec0a-891b-4385-88c3-6699bf574057",
   "metadata": {},
   "source": [
    "# Train"
   ]
  },
  {
   "cell_type": "code",
   "execution_count": 29,
   "id": "4287bb50-b460-4bdd-8d19-322e30669418",
   "metadata": {},
   "outputs": [],
   "source": [
    "move_to_ooc_transf = np.array([\n",
    "    [1, 0, -config.sample_size / 2],\n",
    "    [0, 1, -config.sample_size / 2],\n",
    "    [0, 0, 1]])\n",
    "theta = np.deg2rad(45)\n",
    "cos_theta = math.cos(theta)\n",
    "sin_theta = math.sin(theta)\n",
    "rotation_transf = np.array([\n",
    "    [cos_theta, -sin_theta, 0],\n",
    "    [sin_theta, cos_theta, 0],\n",
    "    [0, 0, 1]\n",
    "])\n",
    "move_to_target_loc_transf = np.array([\n",
    "    [1, 0, config.sample_size / 2],\n",
    "    [0, 1, config.sample_size / 2],\n",
    "    [0, 0, 1]])\n",
    "transf_rotate_45 = move_to_target_loc_transf @ rotation_transf @ move_to_ooc_transf"
   ]
  },
  {
   "cell_type": "code",
   "execution_count": 30,
   "id": "0e80b056-0944-48cd-82c1-04b246f9551e",
   "metadata": {},
   "outputs": [],
   "source": [
    "transf_offset_10_0 = np.array([\n",
    "    [1, 0, 10],\n",
    "    [0, 1, 0],\n",
    "    [0, 0, 1]])"
   ]
  },
  {
   "cell_type": "code",
   "execution_count": 31,
   "id": "d53d9c0e-7546-4979-a953-0b8f46f1ce48",
   "metadata": {},
   "outputs": [],
   "source": [
    "transfs = {\n",
    "    'offset_10_0': transf_offset_10_0,\n",
    "    'rotate_45': transf_rotate_45,\n",
    "}\n",
    "transf_code = 'offset_10_0'\n",
    "transf = transfs[transf_code]"
   ]
  },
  {
   "cell_type": "code",
   "execution_count": 32,
   "id": "145172a9-54d1-4563-a7ab-cde78584810c",
   "metadata": {},
   "outputs": [],
   "source": [
    "LOG.is_enabled = True"
   ]
  },
  {
   "cell_type": "code",
   "execution_count": 36,
   "id": "b5b3a964-acfe-449a-8668-928587811e45",
   "metadata": {},
   "outputs": [],
   "source": [
    "clear_memory()"
   ]
  },
  {
   "cell_type": "code",
   "execution_count": 45,
   "id": "66c512a5-916f-4a20-b37c-e0369e7d65c8",
   "metadata": {},
   "outputs": [],
   "source": [
    "HP_MAX_LEARN_CLUSTERS_COUNT = 300_000\n",
    "\n",
    "# HP_EPOCHS_COUNT = 10\n",
    "# HP_CYCLES_COUNT = 500\n",
    "# HP_OUTPUT_BITS_PER_BATCH = 50\n",
    "\n",
    "# HP_POINTS_COUNT = HP_OUTPUT_BITS_PER_BATCH * 100\n",
    "# HP_POINT_NON_ZERO_BITS = 100\n",
    "\n",
    "HP_EPOCHS_COUNT = 1\n",
    "HP_CYCLES_COUNT = 100\n",
    "HP_OUTPUT_BITS_PER_BATCH = 256\n",
    "\n",
    "HP_POINTS_COUNT = HP_OUTPUT_BITS_PER_BATCH * 200\n",
    "HP_POINT_NON_ZERO_BITS = 32"
   ]
  },
  {
   "cell_type": "code",
   "execution_count": 38,
   "id": "40a229ad-4719-4074-b4b8-ae25b0ce03c4",
   "metadata": {},
   "outputs": [],
   "source": [
    "# cycle_images_count = min(50, len(df_train_images))\n",
    "cycle_images_count = min(1, len(df_train_images))\n",
    "use_toy_images = True"
   ]
  },
  {
   "cell_type": "code",
   "execution_count": 39,
   "id": "b4697dfc-cda8-4f15-a003-edebae4c86d1",
   "metadata": {},
   "outputs": [],
   "source": [
    "# Counter(map(lambda m: m.ones_count, filter(lambda m: m.state == ClusterState.PROD, CLUSTER_METAS.values())))"
   ]
  },
  {
   "cell_type": "code",
   "execution_count": 77,
   "id": "89cb0b66-c6c7-4b54-a6b3-891c54d5a42b",
   "metadata": {},
   "outputs": [],
   "source": [
    "CLUSTERS2 = HdvArray(HP_SIGNAL_VEC_LEN, np, initial_length=10_000, dtype='f', grow_policy=hdv_array_log_like_grow_policy)\n",
    "CLUSTER_MASKS2 = HdvArray(HP_SIGNAL_VEC_LEN, np, initial_length=10_000, dtype='f', grow_policy=hdv_array_log_like_grow_policy)"
   ]
  },
  {
   "cell_type": "code",
   "execution_count": 78,
   "id": "77aa31b4-35bd-42c6-8568-2d13c4dcdeda",
   "metadata": {},
   "outputs": [
    {
     "name": "stdout",
     "output_type": "stream",
     "text": [
      "CPU times: user 253 ms, sys: 19.1 ms, total: 272 ms\n",
      "Wall time: 270 ms\n"
     ]
    },
    {
     "data": {
      "text/plain": [
       "Counter({0: 8791, 1: 7392})"
      ]
     },
     "execution_count": 78,
     "metadata": {},
     "output_type": "execute_result"
    }
   ],
   "source": [
    "%%time\n",
    "c = Counter()\n",
    "\n",
    "for signal_input, signal_output in zip(signals_input, signals_output):\n",
    "    if learn_cluster_count > HP_MAX_LEARN_CLUSTERS_COUNT:\n",
    "        break\n",
    "        \n",
    "    active_points_mask = signal_output[POINT_OUTPUT_BITS] != 0\n",
    "    active_point_inds = POINT_INDS[active_points_mask]\n",
    "\n",
    "    if active_point_inds.shape[0] == 0:\n",
    "        continue\n",
    "        \n",
    "    active_points = POINTS[active_point_inds] # subset of POINTS which are connected to active output bits\n",
    "    active_points_signal_input_mat = active_points * signal_input\n",
    "    active_points_signal_input_mask = (active_points_signal_input_mat.sum(axis=1) >= HP_CLUSTER_CREATION_ONES_COUNT_THRES) # active_points must have at least ON bits within input signal\n",
    "    active_points_signal_input_mask = xp_array_from_gpu(active_points_signal_input_mask)\n",
    "\n",
    "    for mask_value, point_ind, subsignal_input, subsignal_input_gpu in zip(active_points_signal_input_mask,\n",
    "                                                                           active_point_inds, \n",
    "                                                                           xp_array_from_gpu(active_points_signal_input_mat),\n",
    "                                                                           active_points_signal_input_mat):\n",
    "        c[0] += 1\n",
    "        \n",
    "        if not mask_value:\n",
    "            continue\n",
    "\n",
    "        c[1] += 1\n",
    "        \n",
    "        active_output_bit = int(POINT_OUTPUT_BITS[point_ind])\n",
    "        active_input_bits = np.flatnonzero(subsignal_input)\n",
    "        assert active_input_bits.shape[0] >= HP_CLUSTER_CREATION_ONES_COUNT_THRES\n",
    "        cluster_key = get_cluster_key(ClusterState.LEARN.name, active_output_bit, active_input_bits)\n",
    "\n",
    "        # if cluster_key in unique_cluster_keys:\n",
    "        #     continue\n",
    "\n",
    "        # cluster_ind = CLUSTERS.lease()\n",
    "        # cluster_mask_ind = CLUSTER_MASKS.lease()\n",
    "        \n",
    "        cluster_ind = CLUSTERS2.lease()\n",
    "        cluster_mask_ind = CLUSTER_MASKS2.lease()\n",
    "        assert cluster_ind == cluster_mask_ind\n",
    "        \n",
    "        # CLUSTERS.array[cluster_ind, [1,2,3,4,5,6]] = 1\n",
    "        # CLUSTER_MASKS.array[cluster_ind, [1,2,3,4,5,6]] = 1\n",
    "\n",
    "        # CLUSTERS.array[cluster_ind, 1:10] = 1\n",
    "        # CLUSTER_MASKS.array[cluster_ind, 1:10] = 1\n",
    "\n",
    "        # CLUSTERS.array[cluster_ind] = subsignal_input_gpu\n",
    "        # CLUSTER_MASKS.array[cluster_ind] = subsignal_input_gpu\n",
    "\n",
    "        CLUSTERS2.array[cluster_ind] = subsignal_input\n",
    "        CLUSTER_MASKS2.array[cluster_ind] = subsignal_input\n",
    "        \n",
    "        # cluster_meta = ClusterMeta(cluster_ind)\n",
    "        # cluster_meta.cluster_key = cluster_key\n",
    "        # cluster_meta.output_bit = active_output_bit\n",
    "        # cluster_meta.input_bits = tuple(active_input_bits)\n",
    "        # cluster_meta.nu = 1 / subsignal_input.sum()\n",
    "        # cluster_meta.signals_to_learn_till_binarization = HP_CLUSTER_LEARN_STATE_BINARIZATION_SCHEDULE[0]\n",
    "        # cluster_meta.binarization_schedule = HP_CLUSTER_LEARN_STATE_BINARIZATION_SCHEDULE\n",
    "        # cluster_meta.alarm_cycle = cycle + HP_CLUSTER_LEARN_STATE_IDLE_CYCLES\n",
    "        # CLUSTER_METAS[cluster_ind] = cluster_meta\n",
    "        # unique_cluster_keys.add(cluster_key)\n",
    "        new_clusters_count += 1\n",
    "        learn_cluster_count += 1\n",
    "\n",
    "c"
   ]
  },
  {
   "cell_type": "code",
   "execution_count": 57,
   "id": "7d231d1e-b1eb-4fd8-a7ce-d9295dcfec2c",
   "metadata": {},
   "outputs": [
    {
     "name": "stdout",
     "output_type": "stream",
     "text": [
      "2.44 μs ± 116 ns per loop (mean ± std. dev. of 7 runs, 100,000 loops each)\n"
     ]
    }
   ],
   "source": [
    "%%timeit\n",
    "np.flatnonzero(subsignal_input)"
   ]
  },
  {
   "cell_type": "code",
   "execution_count": 64,
   "id": "3e9ee797-8e66-45f3-9fd8-c028ac2f152c",
   "metadata": {},
   "outputs": [
    {
     "name": "stdout",
     "output_type": "stream",
     "text": [
      "24.4 μs ± 306 ns per loop (mean ± std. dev. of 7 runs, 10,000 loops each)\n"
     ]
    }
   ],
   "source": [
    "%%timeit\n",
    "list(map(lambda x: x[0], filter(lambda x: x[1], enumerate(subsignal_input))))"
   ]
  },
  {
   "cell_type": "code",
   "execution_count": 65,
   "id": "b25433ad-963d-4bc2-9c76-6f01387e1b92",
   "metadata": {},
   "outputs": [
    {
     "data": {
      "text/plain": [
       "[59, 90, 109, 116, 253]"
      ]
     },
     "execution_count": 65,
     "metadata": {},
     "output_type": "execute_result"
    }
   ],
   "source": [
    "list(map(lambda x: x[0], filter(lambda x: x[1], enumerate(subsignal_input))))"
   ]
  },
  {
   "cell_type": "code",
   "execution_count": 62,
   "id": "db59a966-5e7c-41e0-bfb2-712479291cae",
   "metadata": {},
   "outputs": [
    {
     "data": {
      "text/plain": [
       "dtype('int8')"
      ]
     },
     "execution_count": 62,
     "metadata": {},
     "output_type": "execute_result"
    }
   ],
   "source": [
    "qqq = subsignal_input.astype('b')\n",
    "qqq.dtype"
   ]
  },
  {
   "cell_type": "code",
   "execution_count": 66,
   "id": "0ddfd1fc-1c10-4d0b-a147-3960a149dc47",
   "metadata": {},
   "outputs": [
    {
     "data": {
      "text/plain": [
       "array([ 59,  90, 109, 116, 253])"
      ]
     },
     "execution_count": 66,
     "metadata": {},
     "output_type": "execute_result"
    }
   ],
   "source": [
    "# %%timeit\n",
    "np.flatnonzero(qqq)"
   ]
  },
  {
   "cell_type": "code",
   "execution_count": 43,
   "id": "a2366ea9-8171-4373-b8ce-9cc0299c365f",
   "metadata": {},
   "outputs": [
    {
     "data": {
      "application/vnd.jupyter.widget-view+json": {
       "model_id": "e79031e1edc542bb9c95634aae83a63f",
       "version_major": 2,
       "version_minor": 0
      },
      "text/plain": [
       "Epoch:   0%|          | 0/1 [00:00<?, ?it/s]"
      ]
     },
     "metadata": {},
     "output_type": "display_data"
    },
    {
     "data": {
      "application/vnd.jupyter.widget-view+json": {
       "model_id": "7fcd0e3ded584bd5be53afa570bcb394",
       "version_major": 2,
       "version_minor": 0
      },
      "text/plain": [
       "Cycle:   0%|          | 0/100 [00:00<?, ?it/s]"
      ]
     },
     "metadata": {},
     "output_type": "display_data"
    }
   ],
   "source": [
    "# %%time\n",
    "batch_output_bits_filter = lambda s, e: True\n",
    "# batch_output_bits_filter = lambda s, e: s == 0\n",
    "\n",
    "for epoch in tqdm(range(HP_EPOCHS_COUNT), desc='Epoch'):\n",
    "    with LOG.auto_prefix('EPOCH', epoch):\n",
    "        for start_output_bit in range(0, HP_SIGNAL_VEC_LEN, HP_OUTPUT_BITS_PER_BATCH):\n",
    "            end_output_bit = start_output_bit + HP_OUTPUT_BITS_PER_BATCH - 1\n",
    "            end_output_bit = min(end_output_bit, HP_SIGNAL_VEC_LEN - 1)\n",
    "            assert end_output_bit >= start_output_bit, (start_output_bit, end_output_bit)\n",
    "\n",
    "            if not batch_output_bits_filter(start_output_bit, end_output_bit):\n",
    "                continue\n",
    "            \n",
    "            with LOG.auto_prefix('OBITS', f'{start_output_bit}:{end_output_bit}'):\n",
    "                clear_memory()\n",
    "\n",
    "                ## Create combinatorial points from scratch for output bits (OBITS)\n",
    "                POINTS = []\n",
    "                POINT_OUTPUT_BITS = []\n",
    "                output_bits = RNG.choice(range(start_output_bit, end_output_bit + 1), HP_POINTS_COUNT)\n",
    "                \n",
    "                for output_bit in output_bits:\n",
    "                    point_vec = np.zeros(HP_SIGNAL_VEC_LEN, dtype='f')\n",
    "                    non_zero_inds = RNG.choice(HP_SIGNAL_VEC_LEN, HP_POINT_NON_ZERO_BITS, replace=False)\n",
    "                    point_vec[non_zero_inds] = 1\n",
    "                    POINTS.append(point_vec)\n",
    "                    POINT_OUTPUT_BITS.append(output_bit)\n",
    "                \n",
    "                POINTS = xp_array_to_gpu(np.vstack(POINTS))\n",
    "                POINT_OUTPUT_BITS = np.hstack(POINT_OUTPUT_BITS)\n",
    "                POINT_INDS = np.arange(POINTS.shape[0])\n",
    "                LOG(f'{POINTS.shape[0]} combinatorial points created')\n",
    "\n",
    "                ## Restore prod clusters for output bits (OBITS)\n",
    "                df_clusters = pd.read_sql('SELECT ROWID, output_bit, sbv, meta FROM clusters WHERE encoding=:encoding AND transf_code=:transf_code ' + \n",
    "                                          'AND output_bit>=:start_output_bit AND output_bit<=:end_output_bit', \n",
    "                                          params={\n",
    "                                              'encoding': HP_SIGNAL_ENCODING, \n",
    "                                              'transf_code': transf_code,\n",
    "                                              'start_output_bit': start_output_bit, \n",
    "                                              'end_output_bit': end_output_bit}, \n",
    "                                          con=transfs_db_con)\n",
    "                \n",
    "                for cluster_row in df_clusters.itertuples():\n",
    "                    prod_clusters_for_output_bit = pickle.loads(cluster_row.sbv)\n",
    "                    prod_cluster_metas_for_output_bit = pickle.loads(cluster_row.meta)\n",
    "                    assert prod_clusters_for_output_bit.shape[0] == len(prod_cluster_metas_for_output_bit)\n",
    "\n",
    "                    for cluster, meta in zip(prod_clusters_for_output_bit, prod_cluster_metas_for_output_bit):\n",
    "                        cluster = xp_array_to_gpu(cluster)\n",
    "                        cluster_ind = CLUSTERS.lease()\n",
    "                        assert CLUSTER_MASKS.lease() == cluster_ind\n",
    "                        meta.cluster_ind = cluster_ind\n",
    "                        # meta.cluster_key = get_cluster_key(ClusterState.PROD.name, meta.output_bit, np.flatnonzero(cluster))\n",
    "                        CLUSTERS.array[cluster_ind] = cluster\n",
    "                        CLUSTER_MASKS.array[cluster_ind] = cluster\n",
    "                        CLUSTER_METAS[cluster_ind] = meta\n",
    "\n",
    "                    LOG(f'Loaded {prod_clusters_for_output_bit.shape[0]} clusters for output bit {cluster_row.output_bit} (ROWID={cluster_row.rowid})')\n",
    "\n",
    "                assert len(CLUSTER_METAS) == CLUSTERS.active_len\n",
    "                assert len(CLUSTER_METAS) == CLUSTER_MASKS.active_len\n",
    "                LOG(f'Loaded {len(CLUSTER_METAS)} clusters in total')\n",
    "\n",
    "                prod_cluster_metas = filter(lambda c: c.state == ClusterState.PROD, CLUSTER_METAS.values())\n",
    "                unique_cluster_keys = set(map(lambda m: m.cluster_key, prod_cluster_metas))\n",
    "                \n",
    "                ## Mine clusters\n",
    "                for cycle in tqdm(range(HP_CYCLES_COUNT), leave=False, desc='Cycle'):\n",
    "                    with LOG.auto_prefix('CYCLE', cycle):\n",
    "                        ### Prepare input and output signals for training\n",
    "                        signals_input = []\n",
    "                        signals_output = []\n",
    "                        \n",
    "                        if use_toy_images:\n",
    "                            cycle_image_ids = get_random_toy_image_ids(cycle_images_count)\n",
    "\n",
    "                            for cycle_image_id in cycle_image_ids:\n",
    "                                toy_image_origin = get_toy_image(cycle_image_id)\n",
    "                                toy_image_transf = np.roll(toy_image_origin.reshape(HP_TOY_IMAGE_SIZE, -1), 1, axis=1).ravel()\n",
    "                                toy_image_origin_sbv, toy_image_transf_sbv = calc_toy_image_sbv(toy_image_origin), calc_toy_image_sbv(toy_image_transf)\n",
    "                                signals_input.append(toy_image_origin_sbv)\n",
    "                                signals_output.append(toy_image_transf_sbv)\n",
    "                        else:\n",
    "                            cycle_image_ids = RNG.choice(df_train_images.index, cycle_images_count, replace=False).astype('i')\n",
    "                            df_cycle_images = df_train_images.loc[cycle_image_ids]\n",
    "                            \n",
    "                            for image in df_cycle_images.itertuples():\n",
    "                                seq_origin_sbv, seq_transf_sbv = get_seq_sbv_pair(image, transf)\n",
    "                                signals_input.append(seq_origin_sbv)\n",
    "                                signals_output.append(seq_transf_sbv)\n",
    "                        \n",
    "                        signals_input = xp.vstack(signals_input)\n",
    "                        signals_output = np.vstack(signals_output)\n",
    "                        ### \n",
    "                                         \n",
    "                        cluster_states = Counter(map(lambda m: m.state.name, CLUSTER_METAS.values()))\n",
    "                        \n",
    "                        LOG(f'===')\n",
    "                        LOG(f'Cycle {cycle} started, clusters: {cluster_states}, CLUSTERS.array.shape={CLUSTERS.array.shape}')\n",
    "                        \n",
    "                        ### Create new clusters\n",
    "                        learn_cluster_count = cluster_states[ClusterState.LEARN.name]\n",
    "                        new_clusters_count = 0\n",
    "                        \n",
    "                        for signal_input, signal_output in zip(signals_input, signals_output):\n",
    "                            if learn_cluster_count > HP_MAX_LEARN_CLUSTERS_COUNT:\n",
    "                                break\n",
    "                                \n",
    "                            active_points_mask = signal_output[POINT_OUTPUT_BITS] != 0\n",
    "                            active_point_inds = POINT_INDS[active_points_mask]\n",
    "\n",
    "                            if active_point_inds.shape[0] == 0:\n",
    "                                continue\n",
    "                                \n",
    "                            active_points = POINTS[active_point_inds] # subset of POINTS which are connected to active output bits\n",
    "                            active_points_signal_input_mat = active_points * signal_input\n",
    "                            active_points_signal_input_mask = (active_points_signal_input_mat.sum(axis=1) >= HP_CLUSTER_CREATION_ONES_COUNT_THRES) # active_points must have at least ON bits within input signal\n",
    "                            active_points_signal_input_mask = xp_array_from_gpu(active_points_signal_input_mask)\n",
    "                    \n",
    "                            for mask_value, point_ind, subsignal_input, subsignal_input_gpu in zip(active_points_signal_input_mask,\n",
    "                                                                                                   active_point_inds, \n",
    "                                                                                                   xp_array_from_gpu(active_points_signal_input_mat),\n",
    "                                                                                                   active_points_signal_input_mat):\n",
    "                                if not mask_value:\n",
    "                                    continue\n",
    "                                \n",
    "                                active_output_bit = int(POINT_OUTPUT_BITS[point_ind])\n",
    "                                active_input_bits = np.flatnonzero(subsignal_input)\n",
    "                                assert active_input_bits.shape[0] >= HP_CLUSTER_CREATION_ONES_COUNT_THRES\n",
    "                                cluster_key = get_cluster_key(ClusterState.LEARN.name, active_output_bit, active_input_bits)\n",
    "                    \n",
    "                                if cluster_key in unique_cluster_keys:\n",
    "                                    continue\n",
    "                    \n",
    "                                cluster_ind = CLUSTERS.lease()\n",
    "                                cluster_mask_ind = CLUSTER_MASKS.lease()\n",
    "                                assert cluster_ind == cluster_mask_ind\n",
    "                                CLUSTERS.array[cluster_ind] = subsignal_input_gpu\n",
    "                                CLUSTER_MASKS.array[cluster_ind] = subsignal_input_gpu\n",
    "                                cluster_meta = ClusterMeta(cluster_ind)\n",
    "                                cluster_meta.cluster_key = cluster_key\n",
    "                                cluster_meta.output_bit = active_output_bit\n",
    "                                cluster_meta.input_bits = tuple(active_input_bits)\n",
    "                                cluster_meta.nu = 1 / subsignal_input.sum()\n",
    "                                cluster_meta.signals_to_learn_till_binarization = HP_CLUSTER_LEARN_STATE_BINARIZATION_SCHEDULE[0]\n",
    "                                cluster_meta.binarization_schedule = HP_CLUSTER_LEARN_STATE_BINARIZATION_SCHEDULE\n",
    "                                cluster_meta.alarm_cycle = cycle + HP_CLUSTER_LEARN_STATE_IDLE_CYCLES\n",
    "                                CLUSTER_METAS[cluster_ind] = cluster_meta\n",
    "                                unique_cluster_keys.add(cluster_key)\n",
    "                                new_clusters_count += 1\n",
    "                                learn_cluster_count += 1\n",
    "                    \n",
    "                        LOG(f'Created {new_clusters_count} clusters')\n",
    "\n",
    "                        ### Learn clusters\n",
    "                        learn_cluster_metas = list(filter(lambda c: c.state == ClusterState.LEARN, CLUSTER_METAS.values()))\n",
    "                        learn_cluster_inds = np.array(list(map(lambda m: m.cluster_ind, learn_cluster_metas)), dtype='i')\n",
    "                        learn_cluster_output_bits = np.array(list(map(lambda m: m.output_bit, learn_cluster_metas)), dtype='i')\n",
    "                        cluster_nus = xp.array(list(map(lambda m: m.nu, CLUSTER_METAS.values())))\n",
    "                        learned_clusters_inds = set()\n",
    "                        \n",
    "                        for signal_input, signal_output in zip(signals_input, signals_output):\n",
    "                            # this stanza 'signal_output[learn_cluster_output_bits] != 0' effectively produces\n",
    "                            # boolean mask for learn_cluster_inds - clusters which are connected to currently active output bits\n",
    "                            active_cluster_inds = learn_cluster_inds[signal_output[learn_cluster_output_bits] != 0]\n",
    "                    \n",
    "                            if active_cluster_inds.shape[0] == 0:\n",
    "                                continue\n",
    "                            \n",
    "                            active_clusters = CLUSTERS.array[active_cluster_inds] # subset of CLUSTERS which are connected to active bits in signal_output\n",
    "                            active_cluster_masks = CLUSTER_MASKS.array[active_cluster_inds]\n",
    "                            cluster_nus = cluster_nus[active_cluster_inds]\n",
    "\n",
    "                            ys = signal_input @ active_clusters.T # how each cluster reacted on signal_input (strength), ca. shape (35,).\n",
    "                            zs = signal_input @ active_cluster_masks.T # number of activated bits within each cluster for given signal_input, ca. shape (35,)\n",
    "                            grow = (signal_input * (cluster_nus * ys)[:,np.newaxis]) # how weights within each cluster must grow up in response co signal_input, matrix, ca. shape (35, 1024)\n",
    "                            grow *= active_cluster_masks # masking, only allow weights which belong to clusters to grow up, matrix, ca. shape (35, 1024)\n",
    "                            nomins = active_clusters + grow # grow weights within clusters\n",
    "                            denoms = nomins.max(axis=1) \n",
    "                            updated_active_clusters = (nomins.T / denoms).T \n",
    "                            # CLUSTERS.array[active_cluster_inds] = updated_active_clusters # upload updated weights\n",
    "                            \n",
    "                            # upload updated weights for those clusters which have enough bits touched by signal\n",
    "                            # (i.e. we won't update clusters which have e.g. 1 bit touched)\n",
    "                            zs_mask = xp_array_from_gpu(zs >= HP_CLUSTER_ONES_COUNT_THRES)\n",
    "                            # CLUSTERS.array[active_cluster_inds] = xp.where(zs_mask[:,np.newaxis], updated_active_clusters, active_clusters) \n",
    "                            CLUSTERS.array[active_cluster_inds[zs_mask]] = updated_active_clusters[zs_mask]\n",
    "                    \n",
    "                            for cluster_ind in active_cluster_inds[zs_mask]:\n",
    "                                cluster_meta = CLUSTER_METAS[cluster_ind]\n",
    "                                cluster_meta.signals_learned += 1\n",
    "                                cluster_meta.signals_to_learn_till_binarization -= 1\n",
    "                                cluster_meta.alarm_cycle = cycle + HP_CLUSTER_LEARN_STATE_IDLE_CYCLES\n",
    "                                learned_clusters_inds.add(cluster_ind)\n",
    "                    \n",
    "                        LOG(f'Learned {len(learned_clusters_inds)} clusters')\n",
    "\n",
    "                        ### Binarize LEARN clusters (develop specialization)\n",
    "                        cluster_metas_to_binarize = list(filter(lambda m: m.state == ClusterState.LEARN and m.signals_to_learn_till_binarization <= 0, CLUSTER_METAS.values()))\n",
    "                        cluster_inds_to_binarize = list(map(lambda m: m.cluster_ind, cluster_metas_to_binarize))\n",
    "                        binarized_clusters = xp.where(CLUSTERS.array[cluster_inds_to_binarize] > HP_CLUSTER_BINARIZE_THRES, 1, 0)\n",
    "                        CLUSTERS.array[cluster_inds_to_binarize] = binarized_clusters\n",
    "                        CLUSTER_MASKS.array[cluster_inds_to_binarize] = binarized_clusters\n",
    "                        binarized_clusters_ones_counts = xp_array_from_gpu(binarized_clusters.sum(axis=1))\n",
    "                        binarized_clusters = xp_array_from_gpu(binarized_clusters)\n",
    "                    \n",
    "                        new_cluster_states = Counter()\n",
    "                        \n",
    "                        for cluster_meta, cluster, ones_count in zip(cluster_metas_to_binarize, binarized_clusters, binarized_clusters_ones_counts):\n",
    "                            cluster_ind = cluster_meta.cluster_ind\n",
    "                            cluster_meta.binarization_schedule = cluster_meta.binarization_schedule[1:]\n",
    "                            cluster_meta.signals_to_learn_till_binarization = cluster_meta.binarization_schedule[0] if cluster_meta.binarization_schedule else 0\n",
    "                            cluster_meta.ones_count = int(ones_count)\n",
    "                            assert cluster_meta.ones_count > 0\n",
    "                \n",
    "                            if cluster_meta.ones_count >= HP_CLUSTER_ONES_COUNT_THRES:\n",
    "                                old_cluster_key = cluster_meta.cluster_key\n",
    "                                cluster_meta.input_bits = tuple(np.flatnonzero(cluster))\n",
    "                                new_cluster_key = get_cluster_key(ClusterState.LEARN.name, cluster_meta.output_bit, cluster_meta.input_bits)\n",
    "\n",
    "                                if old_cluster_key != new_cluster_key:\n",
    "                                    if new_cluster_key in unique_cluster_keys:\n",
    "                                        cluster_meta.state = ClusterState.DEAD\n",
    "                                        cluster_meta.alarm_cycle = None\n",
    "                                    else:\n",
    "                                        cluster_meta.cluster_key = new_cluster_key\n",
    "                                        unique_cluster_keys.remove(old_cluster_key)\n",
    "                                        unique_cluster_keys.add(new_cluster_key)\n",
    "                            else:\n",
    "                                cluster_meta.state = ClusterState.DEAD\n",
    "                                cluster_meta.alarm_cycle = None\n",
    "                                \n",
    "                            new_cluster_states[cluster_meta.state.name] += 1\n",
    "                    \n",
    "                        LOG(f'Binarized {len(cluster_metas_to_binarize)} clusters: {new_cluster_states}')\n",
    "\n",
    "                        ### Promote LEARN clusters to PREPROD/DEAD if they've learned enough (binarization schedule is exhausted)\n",
    "                        new_cluster_states = Counter()\n",
    "                        learn_cluster_metas_to_promote = filter(lambda m: m.state == ClusterState.LEARN and not m.binarization_schedule, CLUSTER_METAS.values())\n",
    "                        \n",
    "                        for cluster_meta in learn_cluster_metas_to_promote:\n",
    "                            cluster_ind = cluster_meta.cluster_ind\n",
    "                            assert cluster_meta.ones_count >= HP_CLUSTER_ONES_COUNT_THRES\n",
    "                \n",
    "                            old_cluster_key = cluster_meta.cluster_key\n",
    "                            new_cluster_key = get_cluster_key(ClusterState.PROD.name, cluster_meta.output_bit, cluster_meta.input_bits)\n",
    "\n",
    "                            if new_cluster_key in unique_cluster_keys:\n",
    "                                cluster_meta.state = ClusterState.DEAD\n",
    "                                cluster_meta.alarm_cycle = None\n",
    "                            else:\n",
    "                                cluster_meta.cluster_key = new_cluster_key\n",
    "                                cluster_meta.state = ClusterState.PREPROD\n",
    "                                cluster_meta.alarm_cycle = cycle + HP_CLUSTER_PREPROD_STATE_IDLE_CYCLES\n",
    "                                unique_cluster_keys.remove(old_cluster_key)\n",
    "                                unique_cluster_keys.add(new_cluster_key)\n",
    "                                \n",
    "                            new_cluster_states[cluster_meta.state.name] += 1\n",
    "\n",
    "                        LOG(f'Promoted {new_cluster_states.total()} LEARN clusters: {new_cluster_states}')\n",
    "\n",
    "                        ### Promote PREPROD clusters to PROD/DEAD if they've been verified enough\n",
    "                        new_cluster_states = Counter()\n",
    "                        preprod_cluster_metas_to_promote = filter(lambda c: (c.state == ClusterState.PREPROD) and (c.stats.total() >= HP_CLUSTER_PREPROD_STATE_SIGNALS_PROCESSED_THRES), CLUSTER_METAS.values())\n",
    "                        \n",
    "                        for cluster_meta in preprod_cluster_metas_to_promote:\n",
    "                            accuracy = cluster_meta.stats[True] / cluster_meta.stats.total()\n",
    "\n",
    "                            if accuracy >= HP_CLUSTER_ACCURACY_THRES:\n",
    "                                assert cluster_meta.ones_count >= HP_CLUSTER_ONES_COUNT_THRES\n",
    "                                cluster_meta.state = ClusterState.PROD\n",
    "                                cluster_meta.alarm_cycle = None\n",
    "                            else:\n",
    "                                cluster_meta.state = ClusterState.DEAD\n",
    "                                cluster_meta.alarm_cycle = None\n",
    "                                \n",
    "                            new_cluster_states[cluster_meta.state.name] += 1\n",
    "                    \n",
    "                        LOG(f'Promoted {new_cluster_states.total()} PREPROD clusters: {new_cluster_states}')\n",
    "                    \n",
    "                        ### Verify PREPROD clusters against new signals\n",
    "                        preprod_cluster_metas = list(filter(lambda m: m.state == ClusterState.PREPROD, CLUSTER_METAS.values()))\n",
    "                        preprod_cluster_inds = np.array(list(map(lambda m: m.cluster_ind, preprod_cluster_metas)), dtype='i')\n",
    "                        preprod_cluster_ones_counts = xp.array(list(map(lambda m: m.ones_count, preprod_cluster_metas)), dtype='f')\n",
    "                        preprod_cluster_output_bits = np.array(list(map(lambda m: m.output_bit, preprod_cluster_metas)), dtype='i')\n",
    "                        preprod_clusters = CLUSTERS.array[preprod_cluster_inds]\n",
    "                        verified_cluster_inds = set()\n",
    "                        \n",
    "                        for signal_input, signal_output, signal_image_id in zip(signals_input, signals_output, cycle_image_ids):\n",
    "                            activated_clusters_mask = xp_array_from_gpu((preprod_clusters @ signal_input) >= preprod_cluster_ones_counts)\n",
    "                            # cast array of output_bit numbers [0, 3, 4, 7, 7, 0, 3, 32, ..] to TP array [True, False, False, True, True, True, False, False, ...]\n",
    "                            # where True if output_bit of preprod_cluster is enabled in signal_output and False otherwise\n",
    "                            preprod_cluster_output_bits_tf = signal_output[preprod_cluster_output_bits] != 0\n",
    "                            \n",
    "                            for cluster_ind, tf in zip(preprod_cluster_inds[activated_clusters_mask], preprod_cluster_output_bits_tf[activated_clusters_mask]):\n",
    "                                tf = bool(tf) # not mandatory, but eases further inspections by eyes\n",
    "                                signal_image_id = int(signal_image_id)\n",
    "                                cluster_meta = CLUSTER_METAS[cluster_ind]\n",
    "                    \n",
    "                                if not signal_image_id in cluster_meta.verify_image_ids:\n",
    "                                    cluster_meta.stats[tf] += 1\n",
    "                                    cluster_meta.verify_image_ids[signal_image_id] = tf\n",
    "                                    cluster_meta.alarm_cycle = cycle + HP_CLUSTER_PREPROD_STATE_IDLE_CYCLES\n",
    "                                    verified_cluster_inds.add(cluster_ind)\n",
    "                    \n",
    "                        LOG(f'Verified {len(verified_cluster_inds)} clusters')\n",
    "                        \n",
    "                        ### Weed the garden\n",
    "                        unneeded_cluster_metas = []\n",
    "                        unneeded_cluster_metas.extend(filter(lambda m: m.state == ClusterState.DEAD, CLUSTER_METAS.values()))\n",
    "                        unneeded_cluster_metas.extend(filter(lambda m: m.alarm_cycle is not None and m.alarm_cycle < cycle, CLUSTER_METAS.values()))\n",
    "                        \n",
    "                        for cluster_meta in unneeded_cluster_metas:\n",
    "                            cluster_ind = cluster_meta.cluster_ind\n",
    "                            unique_cluster_keys.remove(cluster_meta.cluster_key)\n",
    "                            del CLUSTER_METAS[cluster_ind]\n",
    "                            CLUSTERS.release(cluster_ind)\n",
    "                            CLUSTER_MASKS.release(cluster_ind)\n",
    "                    \n",
    "                        LOG(f'Removed {len(unneeded_cluster_metas)} loser clusters')\n",
    "\n",
    "                ## Persist mined prod clusters for output bits (OBITS)\n",
    "                prod_cluster_metas_per_output_bit = defaultdict(list)\n",
    "                \n",
    "                for meta in filter(lambda m: m.state == ClusterState.PROD, CLUSTER_METAS.values()):\n",
    "                    prod_cluster_metas_per_output_bit[meta.output_bit].append(meta)\n",
    "\n",
    "                for output_bit, metas in prod_cluster_metas_per_output_bit.items():\n",
    "                    cluster_inds = np.array(list(map(lambda m: m.cluster_ind, metas)), dtype='i')\n",
    "                    # Leave only super clusters, i.e. clusters which are not subsets of any other clusters\n",
    "                    clusters = CLUSTERS.array[cluster_inds]\n",
    "                    crossings = (clusters @ clusters.T)\n",
    "                    cluster_ones_counts = clusters.sum(axis=1)\n",
    "                    crossings[xp.diag_indices_from(crossings)] = 0\n",
    "                    super_clusters_mask = ~xp.any((crossings.T >= cluster_ones_counts).T, axis=1)\n",
    "\n",
    "                    clusters = xp_array_from_gpu(clusters[super_clusters_mask])\n",
    "                    super_clusters_mask = xp_array_from_gpu(super_clusters_mask)\n",
    "                    \n",
    "                    pickled_clusters = pickle.dumps(clusters)\n",
    "                    pickled_metas = pickle.dumps(list(map(lambda x: x[1], filter(lambda x: x[0], zip(super_clusters_mask, metas)))))\n",
    "                    # Changing autocommit to False will open a new transaction, and changing it to True will commit any pending transaction.\n",
    "                    # https://docs.python.org/3/library/sqlite3.html#connection-objects\n",
    "                    transfs_db_con.autocommit = False\n",
    "                    transfs_db_con.execute('DELETE FROM clusters WHERE encoding=:encoding AND transf_code=:transf_code AND output_bit=:output_bit',\n",
    "                                           {'encoding': HP_SIGNAL_ENCODING, 'transf_code': transf_code, 'output_bit': output_bit})\n",
    "                    transfs_db_con.execute('INSERT INTO clusters (encoding, transf_code, output_bit, sbv, meta) VALUES (:encoding, :transf_code, :output_bit, :sbv, :meta)',\n",
    "                                           {'encoding': HP_SIGNAL_ENCODING, 'transf_code': transf_code, 'output_bit': output_bit, 'sbv': pickled_clusters, 'meta': pickled_metas})\n",
    "                    transfs_db_con.autocommit = True\n",
    "                    LOG(f'Persisted {clusters.shape[0]} super clusters for output bit {output_bit} of total {cluster_inds.shape[0]} clusters')"
   ]
  },
  {
   "cell_type": "code",
   "execution_count": null,
   "id": "c5af2b3e-5b0e-4142-94d3-b0b83b9f3a24",
   "metadata": {},
   "outputs": [],
   "source": []
  },
  {
   "cell_type": "code",
   "execution_count": 118,
   "id": "cf723882-55c0-49d9-acb7-e50274d2201b",
   "metadata": {},
   "outputs": [
    {
     "data": {
      "image/png": "[encoded data removed]",
      "text/plain": [
       "<Figure size 1200x480 with 2 Axes>"
      ]
     },
     "metadata": {},
     "output_type": "display_data"
    }
   ],
   "source": [
    "signal_ind = RNG.choice(signals_input.shape[0])\n",
    "# signal_ind = 0\n",
    "signal_input = xp_array_from_gpu(signals_input[signal_ind])\n",
    "signal_output = signals_output[signal_ind]\n",
    "\n",
    "if use_toy_images:\n",
    "    signal_input = toy_image_sbv_to_bv(signal_input)\n",
    "    signal_output = toy_image_sbv_to_bv(signal_output)\n",
    "else:\n",
    "    signal_input = seq_sbv_to_bv(signal_input)\n",
    "    signal_output = seq_sbv_to_bv(signal_output)\n",
    "    \n",
    "fig, (ax1, ax2) = plt.subplots(1, 2)\n",
    "fig.set_figwidth(12)\n",
    "ax1.imshow(vec_to_square_matrix(signal_input))\n",
    "ax2.imshow(vec_to_square_matrix(signal_output));"
   ]
  },
  {
   "cell_type": "markdown",
   "id": "c4e073c2-0c90-4248-a9fc-57f4f063892f",
   "metadata": {},
   "source": [
    "# Test"
   ]
  },
  {
   "cell_type": "code",
   "execution_count": 110,
   "id": "5175b5c1-2cf3-4a31-b471-269694674987",
   "metadata": {},
   "outputs": [
    {
     "data": {
      "application/vnd.jupyter.widget-view+json": {
       "model_id": "beffb1f9e19d4ae894c1cc76db5f0670",
       "version_major": 2,
       "version_minor": 0
      },
      "text/plain": [
       "  0%|          | 0/200 [00:00<?, ?it/s]"
      ]
     },
     "metadata": {},
     "output_type": "display_data"
    },
    {
     "data": {
      "text/plain": [
       "(57790, (57790, 256))"
      ]
     },
     "execution_count": 110,
     "metadata": {},
     "output_type": "execute_result"
    }
   ],
   "source": [
    "clear_memory(with_caches=True)\n",
    "\n",
    "df_clusters = pd.read_sql('SELECT output_bit, sbv, meta FROM clusters WHERE encoding=:encoding AND transf_code=:transf_code', \n",
    "                          params={\n",
    "                              'encoding': HP_SIGNAL_ENCODING, \n",
    "                              'transf_code': transf_code},\n",
    "                          con=transfs_db_con)\n",
    "                \n",
    "for cluster_row in tqdm(df_clusters.itertuples(), total=len(df_clusters)):\n",
    "    prod_clusters_for_output_bit = pickle.loads(cluster_row.sbv)\n",
    "    prod_cluster_metas_for_output_bit = pickle.loads(cluster_row.meta)\n",
    "\n",
    "    for cluster, meta in zip(prod_clusters_for_output_bit, prod_cluster_metas_for_output_bit):\n",
    "        cluster = xp_array_to_gpu(cluster)\n",
    "        cluster_ind = CLUSTERS.lease()\n",
    "        assert CLUSTER_MASKS.lease() == cluster_ind\n",
    "        meta.cluster_ind = cluster_ind\n",
    "        CLUSTERS.array_active[cluster_ind] = cluster\n",
    "        CLUSTER_MASKS.array_active[cluster_ind] = cluster\n",
    "        CLUSTER_METAS[cluster_ind] = meta\n",
    "\n",
    "len(CLUSTER_METAS), CLUSTERS.array_active.shape"
   ]
  },
  {
   "cell_type": "code",
   "execution_count": 111,
   "id": "f2005f19-90c6-489f-9680-f0b72b97bc5c",
   "metadata": {},
   "outputs": [
    {
     "data": {
      "text/plain": [
       "(57790, 256)"
      ]
     },
     "execution_count": 111,
     "metadata": {},
     "output_type": "execute_result"
    }
   ],
   "source": [
    "# prod_cluster_metas = list(filter(lambda c: c.state == ClusterState.PROD and c.stats[True] > 5, CLUSTER_METAS.values()))\n",
    "prod_cluster_metas = list(filter(lambda c: c.state == ClusterState.PROD, CLUSTER_METAS.values()))\n",
    "prod_cluster_inds = np.array(list(map(lambda c: c.cluster_ind, prod_cluster_metas)), dtype='i')\n",
    "prod_cluster_ones_counts = xp.array(list(map(lambda c: c.ones_count, prod_cluster_metas)), dtype='f')\n",
    "prod_cluster_output_bits = np.array(list(map(lambda c: c.output_bit, prod_cluster_metas)), dtype='i')\n",
    "prod_clusters = CLUSTERS.array_active[prod_cluster_inds]\n",
    "prod_clusters.shape"
   ]
  },
  {
   "cell_type": "code",
   "execution_count": 142,
   "id": "f5f56508-9e19-4911-b739-a04452cf59d4",
   "metadata": {},
   "outputs": [
    {
     "data": {
      "image/png": "[encoded data removed]",
      "text/plain": [
       "<Figure size 1200x480 with 2 Axes>"
      ]
     },
     "metadata": {},
     "output_type": "display_data"
    }
   ],
   "source": [
    "toy_image_id = get_random_toy_image_ids(1)[0]\n",
    "toy_image = get_toy_image(toy_image_id)\n",
    "\n",
    "toy_image_sbv = calc_toy_image_sbv(toy_image)\n",
    "toy_image_sbv = xp_array_to_gpu(toy_image_sbv)\n",
    "\n",
    "activated_clusters_mask = (prod_clusters @ toy_image_sbv) >= prod_cluster_ones_counts\n",
    "activated_clusters_mask = xp_array_from_gpu(activated_clusters_mask)\n",
    "values = Counter(prod_cluster_output_bits[activated_clusters_mask])\n",
    "toy_image_sbv_out = np.zeros_like(toy_image_sbv)\n",
    "toy_image_sbv_out[list(values.keys())] = list(values.values())\n",
    "# toy_image_sbv_out = np.where(toy_image_sbv_out > 1, 1, 0)\n",
    "# toy_image_sbv_out[list(values.keys())] = 1\n",
    "\n",
    "fig, (ax1, ax2) = plt.subplots(1, 2)\n",
    "fig.set_figwidth(12)\n",
    "ax1.imshow(vec_to_square_matrix(toy_image_sbv_to_bv(toy_image_sbv)))\n",
    "ax2.imshow(vec_to_square_matrix(toy_image_sbv_to_bv(toy_image_sbv_out)));"
   ]
  },
  {
   "cell_type": "code",
   "execution_count": 144,
   "id": "2a3b4e68-f03e-47a4-abdc-79399af41311",
   "metadata": {},
   "outputs": [
    {
     "data": {
      "text/plain": [
       "UniqueCountsResult(values=array([  0,   1,   2,   3,   4,   5,   6,   7,   8,  12,  14,  15,  23,\n",
       "        24,  28,  30,  34,  36,  37,  40,  47,  48,  49,  50,  53,  54,\n",
       "        55,  57,  58,  61,  63,  64,  66,  67,  68,  69,  70,  75,  78,\n",
       "        83,  84, 105, 113, 187]), counts=array([174,  17,  10,   1,   4,   1,   1,   1,   1,   1,   1,   1,   1,\n",
       "         1,   1,   1,   1,   2,   1,   1,   1,   5,   2,   3,   2,   1,\n",
       "         1,   1,   1,   1,   2,   1,   1,   1,   1,   1,   1,   1,   1,\n",
       "         2,   1,   1,   1,   1]))"
      ]
     },
     "execution_count": 144,
     "metadata": {},
     "output_type": "execute_result"
    }
   ],
   "source": [
    "np.unique_counts(toy_image_sbv_out.get())"
   ]
  },
  {
   "cell_type": "code",
   "execution_count": 138,
   "id": "bd3d6124-ae28-47e5-9877-7bf2eb87d8c3",
   "metadata": {},
   "outputs": [
    {
     "data": {
      "image/png": "[encoded data removed]",
      "text/plain": [
       "<Figure size 1600x480 with 2 Axes>"
      ]
     },
     "metadata": {},
     "output_type": "display_data"
    }
   ],
   "source": [
    "fig, (ax1, ax2) = plt.subplots(2, 1)\n",
    "fig.set_figwidth(16)\n",
    "\n",
    "toy_image_transf = np.roll(toy_image.reshape(HP_TOY_IMAGE_SIZE, -1), 1, axis=1).ravel()\n",
    "toy_image_transf_sbv = calc_toy_image_sbv(toy_image_transf)\n",
    "\n",
    "ax1.set_title(f'non_zero_bits={toy_image_transf_sbv.sum()}')\n",
    "ax1.imshow(np.ones((100, 1)) * xp_array_from_gpu(toy_image_transf_sbv));\n",
    "ax2.set_title(f'non_zero_bits={toy_image_sbv_out.sum()}')\n",
    "ax2.imshow(np.ones((100, 1)) * xp_array_from_gpu(toy_image_sbv_out));"
   ]
  },
  {
   "cell_type": "code",
   "execution_count": null,
   "id": "6cc119b7-ff88-4898-8760-116f2f55cf5e",
   "metadata": {},
   "outputs": [],
   "source": []
  }
 ],
 "metadata": {
  "kernelspec": {
   "display_name": "Python 3 (ipykernel)",
   "language": "python",
   "name": "python3"
  },
  "language_info": {
   "codemirror_mode": {
    "name": "ipython",
    "version": 3
   },
   "file_extension": ".py",
   "mimetype": "text/x-python",
   "name": "python",
   "nbconvert_exporter": "python",
   "pygments_lexer": "ipython3",
   "version": "3.12.9"
  }
 },
 "nbformat": 4,
 "nbformat_minor": 5
}
