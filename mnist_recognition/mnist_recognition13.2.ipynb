{
 "cells": [
  {
   "cell_type": "code",
   "execution_count": 24,
   "id": "27532844-1826-4299-b063-16a22e592f3f",
   "metadata": {},
   "outputs": [],
   "source": [
    "import os, math\n",
    "from collections import defaultdict\n",
    "import itertools\n",
    "import sqlite3\n",
    "\n",
    "import logging\n",
    "import logging.handlers\n",
    "\n",
    "from PIL import Image, ImageDraw\n",
    "from tqdm.notebook import tqdm\n",
    "\n",
    "from sklearn.model_selection import train_test_split\n",
    "import matplotlib.pyplot as plt\n",
    "import scipy\n",
    "import numpy as np\n",
    "import cupy as cp\n",
    "import pandas as pd\n",
    "\n",
    "from utils import *\n",
    "from hdc import *"
   ]
  },
  {
   "cell_type": "code",
   "execution_count": 25,
   "id": "73358262-adf2-4d17-a383-f120a5d1f8aa",
   "metadata": {},
   "outputs": [
    {
     "name": "stdout",
     "output_type": "stream",
     "text": [
      "xp = cupy\n"
     ]
    }
   ],
   "source": [
    "config = Config('SQLITE3_ONOFF_GRID_0_256')\n",
    "RNG = np.random.default_rng()\n",
    "\n",
    "if cp.cuda.is_available():\n",
    "    device_marker = cp.empty(1)\n",
    "    xp_array_from_gpu = lambda a: a.get() if isinstance(a, cp.ndarray) else a\n",
    "    xp_array_to_gpu = lambda a: cp.asarray(a) if isinstance(a, np.ndarray) else a\n",
    "else:\n",
    "    device_marker = np.empty(1)\n",
    "    xp_array_from_gpu = lambda a: a\n",
    "    xp_array_to_gpu = lambda a: a\n",
    "    \n",
    "xp = cp.get_array_module(device_marker)\n",
    "print(f'xp = {xp.__name__}')\n",
    "\n",
    "log = logging.getLogger('kmslog')\n",
    "log.setLevel(logging.DEBUG)\n",
    "\n",
    "if not log.hasHandlers():\n",
    "    log.addHandler(logging.handlers.SysLogHandler(address = '/dev/log', facility=logging.handlers.SysLogHandler.LOG_LOCAL0))\n",
    "\n",
    "def get_full_db_file_name(db_file_name):\n",
    "    return os.path.join(config.dataset_path, config.db_file_name_prefix + db_file_name)\n",
    "\n",
    "train_db_con = sqlite3.connect(get_full_db_file_name(config.train_db_file_name))\n",
    "test_db_con = sqlite3.connect(get_full_db_file_name(config.test_db_file_name))"
   ]
  },
  {
   "cell_type": "code",
   "execution_count": 26,
   "id": "d2dd62ab-b44e-4251-9e86-d41b3672e36e",
   "metadata": {},
   "outputs": [
    {
     "name": "stdout",
     "output_type": "stream",
     "text": [
      "CPU times: user 2 μs, sys: 1 μs, total: 3 μs\n",
      "Wall time: 4.53 μs\n"
     ]
    },
    {
     "data": {
      "text/plain": [
       "((10000, 3), (2000, 3))"
      ]
     },
     "execution_count": 26,
     "metadata": {},
     "output_type": "execute_result"
    }
   ],
   "source": [
    "%time\n",
    "df_train_images = pd.read_sql_query('SELECT * FROM images', con=train_db_con, index_col='image_id')\n",
    "df_test_images = pd.read_sql_query('SELECT * FROM images', con=test_db_con, index_col='image_id')\n",
    "df_train_images.shape, df_test_images.shape"
   ]
  },
  {
   "cell_type": "code",
   "execution_count": 27,
   "id": "75910c5d-054d-43c0-9a34-125ecde5a068",
   "metadata": {},
   "outputs": [
    {
     "data": {
      "text/html": [
       "<div>\n",
       "<style scoped>\n",
       "    .dataframe tbody tr th:only-of-type {\n",
       "        vertical-align: middle;\n",
       "    }\n",
       "\n",
       "    .dataframe tbody tr th {\n",
       "        vertical-align: top;\n",
       "    }\n",
       "\n",
       "    .dataframe thead th {\n",
       "        text-align: right;\n",
       "    }\n",
       "</style>\n",
       "<table border=\"1\" class=\"dataframe\">\n",
       "  <thead>\n",
       "    <tr style=\"text-align: right;\">\n",
       "      <th></th>\n",
       "      <th>index</th>\n",
       "      <th>value</th>\n",
       "      <th>png</th>\n",
       "    </tr>\n",
       "    <tr>\n",
       "      <th>image_id</th>\n",
       "      <th></th>\n",
       "      <th></th>\n",
       "      <th></th>\n",
       "    </tr>\n",
       "  </thead>\n",
       "  <tbody>\n",
       "    <tr>\n",
       "      <th>12089</th>\n",
       "      <td>0</td>\n",
       "      <td>3</td>\n",
       "      <td>b'\\x89PNG\\r\\n\\x1a\\n\\x00\\x00\\x00\\rIHDR\\x00\\x00\\...</td>\n",
       "    </tr>\n",
       "  </tbody>\n",
       "</table>\n",
       "</div>"
      ],
      "text/plain": [
       "          index value                                                png\n",
       "image_id                                                                \n",
       "12089         0     3  b'\\x89PNG\\r\\n\\x1a\\n\\x00\\x00\\x00\\rIHDR\\x00\\x00\\..."
      ]
     },
     "execution_count": 27,
     "metadata": {},
     "output_type": "execute_result"
    }
   ],
   "source": [
    "df_train_images.head(1)"
   ]
  },
  {
   "cell_type": "code",
   "execution_count": 28,
   "id": "b5a3b4ca-998d-4309-8499-d868b00ef9be",
   "metadata": {},
   "outputs": [],
   "source": [
    "def matrix_to_image(m):\n",
    "    m = m.ravel()\n",
    "    sz = int(np.sqrt(m.shape[0]))\n",
    "    assert sz * sz == m.shape[0]\n",
    "    return Image.frombytes('L', size=(sz, sz), data=m.astype('b'))"
   ]
  },
  {
   "cell_type": "code",
   "execution_count": 29,
   "id": "bc06ecb2-5ba8-4669-9dd9-17624127b081",
   "metadata": {},
   "outputs": [],
   "source": [
    "def lay_grid(image, step):\n",
    "    draw = ImageDraw.Draw(image)\n",
    "\n",
    "    for c in range(step - 1, image.height, step):\n",
    "        draw.line([0, c, image.width, c], fill=127)\n",
    "        draw.line([c, 0, c, image.height], fill=127)\n",
    "\n",
    "    return image"
   ]
  },
  {
   "cell_type": "code",
   "execution_count": 30,
   "id": "70b21219-4f16-4824-90ec-7bda1574c5d1",
   "metadata": {},
   "outputs": [
    {
     "data": {
      "text/html": [
       "<div style=\"\n",
       "        display: grid; \n",
       "        grid-template-columns: repeat(8, 128px);\n",
       "        column-gap: 1px;\n",
       "        row-gap: 1px;\">\n",
       "        \n",
       "            <figure style=\"margin: 5px !important;\">\n",
       "              <img src=\"data:image/png;base64,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\" style=\"height: auto\">\n",
       "              <figcaption style=\"font-size: 0.6em\">6</figcaption>\n",
       "            </figure>\n",
       "        \n",
       "            <figure style=\"margin: 5px !important;\">\n",
       "              <img src=\"data:image/png;base64,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\" style=\"height: auto\">\n",
       "              <figcaption style=\"font-size: 0.6em\">1</figcaption>\n",
       "            </figure>\n",
       "        \n",
       "            <figure style=\"margin: 5px !important;\">\n",
       "              <img src=\"data:image/png;base64,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\" style=\"height: auto\">\n",
       "              <figcaption style=\"font-size: 0.6em\">4</figcaption>\n",
       "            </figure>\n",
       "        \n",
       "            <figure style=\"margin: 5px !important;\">\n",
       "              <img src=\"data:image/png;base64,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\" style=\"height: auto\">\n",
       "              <figcaption style=\"font-size: 0.6em\">6</figcaption>\n",
       "            </figure>\n",
       "        \n",
       "            <figure style=\"margin: 5px !important;\">\n",
       "              <img src=\"data:image/png;base64,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\" style=\"height: auto\">\n",
       "              <figcaption style=\"font-size: 0.6em\">9</figcaption>\n",
       "            </figure>\n",
       "        \n",
       "            <figure style=\"margin: 5px !important;\">\n",
       "              <img src=\"data:image/png;base64,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\" style=\"height: auto\">\n",
       "              <figcaption style=\"font-size: 0.6em\">0</figcaption>\n",
       "            </figure>\n",
       "        \n",
       "            <figure style=\"margin: 5px !important;\">\n",
       "              <img src=\"data:image/png;base64,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\" style=\"height: auto\">\n",
       "              <figcaption style=\"font-size: 0.6em\">7</figcaption>\n",
       "            </figure>\n",
       "        \n",
       "            <figure style=\"margin: 5px !important;\">\n",
       "              <img src=\"data:image/png;base64,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\" style=\"height: auto\">\n",
       "              <figcaption style=\"font-size: 0.6em\">2</figcaption>\n",
       "            </figure>\n",
       "        \n",
       "            <figure style=\"margin: 5px !important;\">\n",
       "              <img src=\"data:image/png;base64,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\" style=\"height: auto\">\n",
       "              <figcaption style=\"font-size: 0.6em\">4</figcaption>\n",
       "            </figure>\n",
       "        \n",
       "            <figure style=\"margin: 5px !important;\">\n",
       "              <img src=\"data:image/png;base64,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\" style=\"height: auto\">\n",
       "              <figcaption style=\"font-size: 0.6em\">4</figcaption>\n",
       "            </figure>\n",
       "        \n",
       "            <figure style=\"margin: 5px !important;\">\n",
       "              <img src=\"data:image/png;base64,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\" style=\"height: auto\">\n",
       "              <figcaption style=\"font-size: 0.6em\">5</figcaption>\n",
       "            </figure>\n",
       "        \n",
       "            <figure style=\"margin: 5px !important;\">\n",
       "              <img src=\"data:image/png;base64,iVBORw0KGgoAAAANSUhEUgAAAIAAAACACAAAAADmVT4XAAAPfUlEQVR4nO2a15bbSHOAqyMyATBOkFZre22///M47K40o2EASeTUyRckJ5IcarX+7Yupc3QhAtP9obq6UjfAh3zIh3zIh3zIh3zIh3zI/7GgH3mZUEoxgNn/1wDCjDGCEHoaxyitlFZaKSmkfn9M+iMA2PFdis1+WK2BWN7At3cIe9F927V933VNXVZ/NwAPxqFNjNqNq5Vh/mg6HlgMI3x4R9ZlWVZ1VeYbJOTfC8D94WziUi13a6Ck4eHVp5vY5eQZQJGlaVFk2ZaDkP3fBoAxsfzx9e3Uo3q/tEoaHl1/vh26LwZp0m1Y5FnqMUKsspdGGWPM0UF/BIC6QRhPb67HHtGHJZCGBZNpHLw0ZMcg5vpBGIXxZJMXVdP0nfh5ABZe385ms/HQwQcbMAqIE4TW643EPWz7g7a6yrN0s15ttkVxxhYuBbBHv/z2eTYOAwuB3hu3MZhyi5hXBIhjS0sp+r4u1t/v7i2qOvWzAF44+fzPv05iz+EA+xU1AIAQoDcLTImFDGgwol4PLIKQ7MVJgksAKLPDq5vr66tRYJO3j81Jd2Z5VPYKsFamlVodNYRLAHg4nN5+uZ3E/rH5zzlT5A4F5hZGOG/b4+twCYA1+vz58y83Q4/j919+NbxvLNfCgKzUyL8M4I4+//bpejpwCMArizMA51RgwGGeS40yBGR31Cu9C4CAufHs9nYSexweDfCFaGPMY4QC9BibEBhCuUtl23Ra1OXR8d8DQJjYQTQaj0KPH8UDUH3bdVJpY4wBTLljWxRj9PjcHYzrXjfZ9q8AIEwsP4jiOPT4GwNEAIDAqGa7zeteaq01EDsaDkMHP1sW7ES91sXy+FTvARDuDKIwDI5vAAAAkFVyv8zrXimpgfmzT4Yg9BSdwLCBAbG5s/Gx6PwOAKa2H8dh4NkMgX5jbQYByK5I7u42ZSeVUMDDUlOspGNRADCAAAx1MWoXw4FX/DgAsYPhZBQHroWeMqFHQUaD6ep8vfyelP0OoDSUiDIKPIcRjBAAIEKJicfTq5q24o03egeAevHsehZ7/MhWQwiwVqIp0/VynjRCaamB9mCa1WQ8Hoa+a+P9e8weTH6piL9J3yjhHQDmT24+XQ3dnQE80aP9P5BtmW3XySoRyhhlgEjZrP3Jzc3NdAQ7u0UAwNzJr+D5X2X12hudByB2OLm5nUU2gSMrAAB9U2w3680mzdTORyDR5pyNN0XXa2qzw3vYHmrmMZkmPwSAbC8cX81GgXXEBxutdV+VWbJcb/OyeYFXSMAGUUYcADAYAPMBYqxbD+zX7vA0ACKEDeLxdDqJ3EMQ2FnCPhp3TV3lRbZeLtJWv1RP5jpMKy3bgHNGEAJgCJDcDCNfSvXi5TMAzHGHs9lsMvIdisAg2HtYgwxCALpeJ+s0y9Ntkglqqef2rcsE6rou0jgc+A7GCBCxoIviOFbNy+TgHIAbT2ezyTiyKAXzFPbRbiZdLf/8nmRFVZaV5q7onyd+7bbLyzzdTGdXiGCKAWFieX44HPbI6OcqOKuBQTwcxmGAETIGAO1DoTGAAEA362+/L7OqbaU21EJaP8v8RFHlVVUWpSCcYSAYAcGWG4RxLYV4Ps0ZI8TUchzHdRnsll3v1AD7Mkh3RTJfZE0vAFP8KihrDZ3SSmnmuRwbCwECZDleEHh1/cKizwAYY7SBR6duwCilNBBCd15BNkW6zTupEFXEKP16mzYUA3I8lyEgFACAMsvxXItdDKCE6OWuCkHGgNai7yVwCxEAACO7uixrYRTSChslXwPortDI9TyKCbcAABBhluPYlwNopZRU6qAPpbqmFchGbP9Y9G3bK9DIKGTMGw2AbAT2fI8x29s9w8xyfkADmHLOKd7vei2laKqmx4bZ+y+Ufdf1Bp2seqREZBP4lhNEigEAEG67rv0ysTgNYKg/nIyjfR5gVNf2ddUKSg9Vv5Z915mjHvpxjKbYBrYf14JhBIhw1/ecSzWgrfj218+zAQUAQEY0ZdM0veKWetRJf6bi2YlqUocHo2lrYQAgtuf77qUaAHv8y2+3w4AZBACmr7KybSXWjjpURlq/Nz+YLud8MC1alyIAYnl+4FoXaoC6409frny629+qK7Z50xvi2mK/BJiyY3nqSxEV4XFWNj3HAMRyg8C7RAMIIeSF8Wg8JPs1Vm2x3TS9YZ3V7r4bcT+eyFoafab6B6mxnRVV09kUgHBvEHr2BQCYcSsaxYFDDq5fd0WyKlrDIz5WBAAAe7N/0eGmqFuh9SlTNEq3VVlWVWsTggh3ozp0Xsx5Ild2/MF4FjmPCQWoJlt9T2tljeyb3RKQ8AuE9/cPy7QWcKobZQBkU1dlVdmUM8I96CKXoneDEXGi8fUstPfhF8D0Vbp6WJfSaqJC7AFwMLsKqeyEPuMMjOq7tmmalhOGOWb9RRog9mA8HQVPqWhdZttklRTCgnXeaAwA2HOjkSezZFuLc91GLfqubbteasCI8MC1LrABwpwgDBy2c/pCttl8sdpss1J2bp5nhUUwxgiY3Q59i5Lz3U4lpZRKaQOAAFmcvnj9xC6gluPafD9yU2yX91/nm6LptWmqdJ34jsURAFDfsRh+1qY8JmYv+wkJvgAAU27ZnO48hm6Su2/3f3zfVsKAFvV2GQ0jzBAAACHvTQ/P6+UjckIDzHIdi+1Z2/Xdf999X+aNAgBZpwtfY7bzZ0rpc03A3ddgjDE+YL7KSU/ZgOUNAm9vLaYv14tFktcCAIxs0qVHuGNTAANd/zrLPfI1BwEwYLpeXgLgROPxwNmZi1FdXZZ1u0v5ZL1ZcOL4vgVKyaKqWyHPEyCEMMIYY9Ba9nn1MoIdB2D+6PoqcPd+SCvRP86i6w0H4keRhfq2SjZ53YrzOkAIIYwJwWBEU26y+kXb8oQn9Eaz6dOG0Vprs19E3aagWDQecmiLdJGkZdsfb8AdBBNCCCEYG91X23VWv1iDU0sQjoYIoUNH0pjHqsB0WmlnPIsMqrPVwyqtOnE2KQHGOWeMEgxaNEVatBcsAaaWs2swPGrgoGVtlMHrxR3PUZMly1XenulEAwKMHdd1XYsSBFqJtulenqOcyAcQfpY17DWwFw19vb1nVYDaMksX2/ZcVoIw5X4wCAceJ8gYrfYu8V0Ao59hInjmbAyA7rL7dm4h0TV1kbfnzmUQtd1BFMexbxEwWr3NHY4DGKOef9dhGx+eylKknIBRUvXi3AoAZm4UD4dR6BGMwDxfy7MAYMyZ7zJKtWcmfS7E9uPxMBp4FgCAVvKN3/rh7u8PihXOrmfx/lBHy75tXxnh/zKAtke3n6+Hzq5bZVTXNp34RwJgd/zpl+vI2jW1tWjruukv8AN/m3jx9OZ2Eu6rSdVVeVH3l/iBnxUECBNC6afb6+kodHbJg+7rbLMt2gtiwc/Pj6nlh4Pg9rcv48Dhu8QCiSL5vkgvCUY/DYAID2afb2dXN1cjj5OdEzF9Nr9blJV4Pxj9NADhTnjzb//+ZRK6j6kdiHq7vE+E+AdoADM7GM5++dffhhZohAGMxiCz7TpJUrjIE8LzTNMYrZRSF5zFPwrz4/F0OhlzgH1DSXbV4vsqqy/slr9IdY0Sou8vOYs/iOLh9GoauU/Vs8g3q/v/+p6/GeREVvyi62a0klK92wt4Lk58fTPZtxYAAEy3+frn1z8eyjfZ+Ylo+KI3jjChlJAf0IAzmFxfj32qDsPLev3tP35/WNVvXj2xBFrJpxNCagdRZWjdnWoF7OsOtIvbgGB6dXU1jb2d/1EIVF2s53d3Sd69+fsTGtBK6UMNiez4prXDbV627dsBAACAUIwQwpRxRimlZPLln24m0eGcRao236yT1Tpv3iYPpwBkL8neEJAzFfZ4uUo22VYc3QqIWwxhzGzX8xzHsqzh7GYWB3sPDLIpNkmyTvPm7ZHRKQDRNi2hu7eRO7Wi2fxh4HLZHDUE7noWxpT7URQGgec6gygKXGtXXINo8u1ikWzy6lgFcxxAtcU2BBtjAgDIZu4g8hzOsOj6IwTOIApsQqg9GI6GYRj4rufYnBFA2hgtqnyTzOertGyPHfscBxDF4htuI2/XE6WMc2oACAFsvU3GsBdFA4cQagfxMB4MfM+1DzWN7Noq3yarxcMqa47az3GANvkdl/mnKw4AgBAilpYG264bzdqXjXkDQLxBFNiMEMsNgsD1HNs+HPFgWWySJFknq/WqOH6l5zhAs9TVpkJeePgBMQ94EMaztDPwvMOgDSJuMPAtRgi1LNvinDH6mGf16f2f8+V6sy3LEzdZjgN06yrLYDCb2vvPNMSh7iAczsr+LYDt+y5nmBCCyb4MPsS/Mvn2n3fLdVZ28sTFsuMAUta1ij5vS2ffpUGYcO153qCWbwG469mM4aeTDTDGGA1GlMn8/u7bMi2ao9OcBgCANkvX6w1zd9EcAQAhGDNXvoyUGhBmtv38MhECQEr0Xd/X2cMfdw+rbXGmjDidD/RVulqQaPDUrATCgWnzKlQjTBh7HWNUXRZFnm3md1+XaX3uRtmZdn2bLUMC3MGwP4cHwIy83UsI4zcxris262S1Slar1bo8W7ydObDo8iRgzHFcgP15GSB6bCwERj9uTgQA0GTrxfJhPl9u8qLqz3YPTgOoNl973LYZEIKfjstP4cJOTcZoqWS6nD8s5vNlktXNOzf6zixBV645oQSk4zjvpo4HQKTasiyTxcN8tV5v8qoT7/zhmZFFuSEIgezimF6eu6pqtUwWD/PlpizrpntzmHc5gBE1BQNG9D3iztvHx1fE1NuHr9+/z5dJ3kupzrevzgOA6goDyEipCWMeen6HaVdn7Ho3u5+NUVoDhj6d33/99rBI0urdud8BMKqHXUUrte4DjADAAGBCKKGUAOiuE0KpXTNHaymUNrrL59++PqzW2fF7Uz8CAEb1BkxfZXVTZwElCIExiHLbsR0GALjb5k0npDIIgRJ92wspumq7Wm2yc77vcgANxogmX1d1sQksijEYjbg7CAKwOIAql8ui7nppEDaya+q27dq2a6qqabuLq5hzAKC06mpM2q7JfZsTAloj24+jTpEhgnIzv0vLphMGYyOapqzrpu6k0krrcy2miwHg8VgWmc57AiiLsmwrVybfvt6nZdM/ATT16aj3VwAO0hRE2BYl+yVYB8EgDm2ZPtwvi6brJSBsZNfVXfv+Pea/BKAb1HNCMAZjgHLHdhzXZbpKt3nbS6kNQqCk6MV7Xu+YXHS7njJCEELo2Tak2MiuE3LXeERgtFave5B/H8Drtx5Lzuc//oXJP+RDPuRDPuT/hfwPRTN3CaLNe04AAAAASUVORK5CYII=\" style=\"height: auto\">\n",
       "              <figcaption style=\"font-size: 0.6em\">0</figcaption>\n",
       "            </figure>\n",
       "        \n",
       "            <figure style=\"margin: 5px !important;\">\n",
       "              <img src=\"data:image/png;base64,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\" style=\"height: auto\">\n",
       "              <figcaption style=\"font-size: 0.6em\">1</figcaption>\n",
       "            </figure>\n",
       "        \n",
       "            <figure style=\"margin: 5px !important;\">\n",
       "              <img src=\"data:image/png;base64,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\" style=\"height: auto\">\n",
       "              <figcaption style=\"font-size: 0.6em\">9</figcaption>\n",
       "            </figure>\n",
       "        \n",
       "            <figure style=\"margin: 5px !important;\">\n",
       "              <img src=\"data:image/png;base64,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\" style=\"height: auto\">\n",
       "              <figcaption style=\"font-size: 0.6em\">7</figcaption>\n",
       "            </figure>\n",
       "        \n",
       "            <figure style=\"margin: 5px !important;\">\n",
       "              <img src=\"data:image/png;base64,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\" style=\"height: auto\">\n",
       "              <figcaption style=\"font-size: 0.6em\">2</figcaption>\n",
       "            </figure>\n",
       "        \n",
       "    </div>"
      ],
      "text/plain": [
       "<IPython.core.display.HTML object>"
      ]
     },
     "execution_count": 30,
     "metadata": {},
     "output_type": "execute_result"
    }
   ],
   "source": [
    "count = 8\n",
    "\n",
    "def get_some_random_images_and_labels(df, count):\n",
    "    image_ids = RNG.choice(df.index.unique(), count, replace=False)\n",
    "    image_datas = df.loc[image_ids]['png']\n",
    "    images = [Image.open(io.BytesIO(image_data)) for image_data in image_datas]\n",
    "    labels = df.loc[image_ids]['value']\n",
    "    return images, list(labels)\n",
    "\n",
    "train_images, train_labels = get_some_random_images_and_labels(df_train_images, count)\n",
    "test_images, test_labels = get_some_random_images_and_labels(df_test_images, count)\n",
    "\n",
    "display_images_grid(train_images + test_images, captions=train_labels + test_labels, col_count=count)"
   ]
  },
  {
   "cell_type": "code",
   "execution_count": 31,
   "id": "e5019d63-ce09-4130-ac07-b6ae15a84ab4",
   "metadata": {},
   "outputs": [],
   "source": [
    "# COS_SIM_THRESHOLD = 0.075\n",
    "COS_SIM_THRESHOLD = 0.055\n",
    "hdc = Hdc(10_000, np)"
   ]
  },
  {
   "cell_type": "code",
   "execution_count": 32,
   "id": "317bc435-b1be-4e25-8f4f-b9e3d35f522b",
   "metadata": {},
   "outputs": [],
   "source": [
    "class CorticalColumn(object):\n",
    "    def __init__(self):\n",
    "        self.clusters = defaultdict(list) # cluster = collection of image bundles for particular class\n",
    "        self.cluster_norms = HdvArray(hdc.N, xp)\n",
    "        self.cluster_to_image_ids = defaultdict(set)"
   ]
  },
  {
   "cell_type": "code",
   "execution_count": 33,
   "id": "1e8dc096-5076-4657-b22c-a489c2be1694",
   "metadata": {},
   "outputs": [],
   "source": [
    "COLUMN = CorticalColumn()\n",
    "TRAIN_RUN_ID = 0\n",
    "TEST_RUN_ID = 0\n",
    "\n",
    "df_test_results = pd.DataFrame(columns=['source_ds', 'test_run_id', 'test_image_id', 'true_value', 'cluster_id', 'infer_value', 'sim'])"
   ]
  },
  {
   "cell_type": "code",
   "execution_count": null,
   "id": "d2c99a22-2198-4773-817b-0cf0ea80f624",
   "metadata": {},
   "outputs": [],
   "source": [
    "xp.sum(cos_sim_matrix, axis=1)"
   ]
  },
  {
   "cell_type": "code",
   "execution_count": 53,
   "id": "c1d97ff5-6796-428c-a78e-668e0aa34c01",
   "metadata": {},
   "outputs": [
    {
     "data": {
      "text/plain": [
       "(10000,)"
      ]
     },
     "execution_count": 53,
     "metadata": {},
     "output_type": "execute_result"
    }
   ],
   "source": [
    "image_encoding_hdvs_norm.shape"
   ]
  },
  {
   "cell_type": "code",
   "execution_count": 64,
   "id": "bc72b601-6398-4d84-9ce3-97e1a9a92bfa",
   "metadata": {},
   "outputs": [
    {
     "data": {
      "application/vnd.jupyter.widget-view+json": {
       "model_id": "3d506b2469d242d493a2a6e341f905de",
       "version_major": 2,
       "version_minor": 0
      },
      "text/plain": [
       "Epoch:   0%|          | 0/10 [00:00<?, ?it/s]"
      ]
     },
     "metadata": {},
     "output_type": "display_data"
    },
    {
     "data": {
      "application/vnd.jupyter.widget-view+json": {
       "model_id": "",
       "version_major": 2,
       "version_minor": 0
      },
      "text/plain": [
       "Attempt:   0%|          | 0/20 [00:00<?, ?it/s]"
      ]
     },
     "metadata": {},
     "output_type": "display_data"
    },
    {
     "data": {
      "application/vnd.jupyter.widget-view+json": {
       "model_id": "",
       "version_major": 2,
       "version_minor": 0
      },
      "text/plain": [
       "Image (train):   0%|          | 0/1000 [00:00<?, ?it/s]"
      ]
     },
     "metadata": {},
     "output_type": "display_data"
    },
    {
     "data": {
      "application/vnd.jupyter.widget-view+json": {
       "model_id": "",
       "version_major": 2,
       "version_minor": 0
      },
      "text/plain": [
       "Image (test):   0%|          | 0/1000 [00:00<?, ?it/s]"
      ]
     },
     "metadata": {},
     "output_type": "display_data"
    },
    {
     "data": {
      "application/vnd.jupyter.widget-view+json": {
       "model_id": "",
       "version_major": 2,
       "version_minor": 0
      },
      "text/plain": [
       "Image (train):   0%|          | 0/28 [00:00<?, ?it/s]"
      ]
     },
     "metadata": {},
     "output_type": "display_data"
    },
    {
     "data": {
      "application/vnd.jupyter.widget-view+json": {
       "model_id": "",
       "version_major": 2,
       "version_minor": 0
      },
      "text/plain": [
       "Image (test):   0%|          | 0/28 [00:00<?, ?it/s]"
      ]
     },
     "metadata": {},
     "output_type": "display_data"
    },
    {
     "data": {
      "application/vnd.jupyter.widget-view+json": {
       "model_id": "",
       "version_major": 2,
       "version_minor": 0
      },
      "text/plain": [
       "Image (train):   0%|          | 0/23 [00:00<?, ?it/s]"
      ]
     },
     "metadata": {},
     "output_type": "display_data"
    },
    {
     "data": {
      "application/vnd.jupyter.widget-view+json": {
       "model_id": "",
       "version_major": 2,
       "version_minor": 0
      },
      "text/plain": [
       "Image (test):   0%|          | 0/23 [00:00<?, ?it/s]"
      ]
     },
     "metadata": {},
     "output_type": "display_data"
    },
    {
     "data": {
      "application/vnd.jupyter.widget-view+json": {
       "model_id": "",
       "version_major": 2,
       "version_minor": 0
      },
      "text/plain": [
       "Image (train):   0%|          | 0/22 [00:00<?, ?it/s]"
      ]
     },
     "metadata": {},
     "output_type": "display_data"
    },
    {
     "data": {
      "application/vnd.jupyter.widget-view+json": {
       "model_id": "",
       "version_major": 2,
       "version_minor": 0
      },
      "text/plain": [
       "Image (test):   0%|          | 0/22 [00:00<?, ?it/s]"
      ]
     },
     "metadata": {},
     "output_type": "display_data"
    },
    {
     "data": {
      "application/vnd.jupyter.widget-view+json": {
       "model_id": "",
       "version_major": 2,
       "version_minor": 0
      },
      "text/plain": [
       "Image (train):   0%|          | 0/22 [00:00<?, ?it/s]"
      ]
     },
     "metadata": {},
     "output_type": "display_data"
    },
    {
     "data": {
      "application/vnd.jupyter.widget-view+json": {
       "model_id": "",
       "version_major": 2,
       "version_minor": 0
      },
      "text/plain": [
       "Image (test):   0%|          | 0/22 [00:00<?, ?it/s]"
      ]
     },
     "metadata": {},
     "output_type": "display_data"
    },
    {
     "data": {
      "application/vnd.jupyter.widget-view+json": {
       "model_id": "",
       "version_major": 2,
       "version_minor": 0
      },
      "text/plain": [
       "Image (train):   0%|          | 0/20 [00:00<?, ?it/s]"
      ]
     },
     "metadata": {},
     "output_type": "display_data"
    },
    {
     "data": {
      "application/vnd.jupyter.widget-view+json": {
       "model_id": "",
       "version_major": 2,
       "version_minor": 0
      },
      "text/plain": [
       "Image (test):   0%|          | 0/20 [00:00<?, ?it/s]"
      ]
     },
     "metadata": {},
     "output_type": "display_data"
    },
    {
     "data": {
      "application/vnd.jupyter.widget-view+json": {
       "model_id": "",
       "version_major": 2,
       "version_minor": 0
      },
      "text/plain": [
       "Image (train):   0%|          | 0/18 [00:00<?, ?it/s]"
      ]
     },
     "metadata": {},
     "output_type": "display_data"
    },
    {
     "data": {
      "application/vnd.jupyter.widget-view+json": {
       "model_id": "",
       "version_major": 2,
       "version_minor": 0
      },
      "text/plain": [
       "Image (test):   0%|          | 0/18 [00:00<?, ?it/s]"
      ]
     },
     "metadata": {},
     "output_type": "display_data"
    },
    {
     "data": {
      "application/vnd.jupyter.widget-view+json": {
       "model_id": "",
       "version_major": 2,
       "version_minor": 0
      },
      "text/plain": [
       "Image (train):   0%|          | 0/17 [00:00<?, ?it/s]"
      ]
     },
     "metadata": {},
     "output_type": "display_data"
    },
    {
     "data": {
      "application/vnd.jupyter.widget-view+json": {
       "model_id": "",
       "version_major": 2,
       "version_minor": 0
      },
      "text/plain": [
       "Image (test):   0%|          | 0/17 [00:00<?, ?it/s]"
      ]
     },
     "metadata": {},
     "output_type": "display_data"
    },
    {
     "data": {
      "application/vnd.jupyter.widget-view+json": {
       "model_id": "",
       "version_major": 2,
       "version_minor": 0
      },
      "text/plain": [
       "Image (train):   0%|          | 0/14 [00:00<?, ?it/s]"
      ]
     },
     "metadata": {},
     "output_type": "display_data"
    },
    {
     "data": {
      "application/vnd.jupyter.widget-view+json": {
       "model_id": "",
       "version_major": 2,
       "version_minor": 0
      },
      "text/plain": [
       "Image (test):   0%|          | 0/14 [00:00<?, ?it/s]"
      ]
     },
     "metadata": {},
     "output_type": "display_data"
    },
    {
     "data": {
      "application/vnd.jupyter.widget-view+json": {
       "model_id": "",
       "version_major": 2,
       "version_minor": 0
      },
      "text/plain": [
       "Image (train):   0%|          | 0/11 [00:00<?, ?it/s]"
      ]
     },
     "metadata": {},
     "output_type": "display_data"
    },
    {
     "data": {
      "application/vnd.jupyter.widget-view+json": {
       "model_id": "",
       "version_major": 2,
       "version_minor": 0
      },
      "text/plain": [
       "Image (test):   0%|          | 0/11 [00:00<?, ?it/s]"
      ]
     },
     "metadata": {},
     "output_type": "display_data"
    },
    {
     "data": {
      "application/vnd.jupyter.widget-view+json": {
       "model_id": "",
       "version_major": 2,
       "version_minor": 0
      },
      "text/plain": [
       "Image (train):   0%|          | 0/10 [00:00<?, ?it/s]"
      ]
     },
     "metadata": {},
     "output_type": "display_data"
    },
    {
     "data": {
      "application/vnd.jupyter.widget-view+json": {
       "model_id": "",
       "version_major": 2,
       "version_minor": 0
      },
      "text/plain": [
       "Image (test):   0%|          | 0/10 [00:00<?, ?it/s]"
      ]
     },
     "metadata": {},
     "output_type": "display_data"
    },
    {
     "data": {
      "application/vnd.jupyter.widget-view+json": {
       "model_id": "",
       "version_major": 2,
       "version_minor": 0
      },
      "text/plain": [
       "Image (train):   0%|          | 0/9 [00:00<?, ?it/s]"
      ]
     },
     "metadata": {},
     "output_type": "display_data"
    },
    {
     "data": {
      "application/vnd.jupyter.widget-view+json": {
       "model_id": "",
       "version_major": 2,
       "version_minor": 0
      },
      "text/plain": [
       "Image (test):   0%|          | 0/9 [00:00<?, ?it/s]"
      ]
     },
     "metadata": {},
     "output_type": "display_data"
    },
    {
     "data": {
      "application/vnd.jupyter.widget-view+json": {
       "model_id": "",
       "version_major": 2,
       "version_minor": 0
      },
      "text/plain": [
       "Image (train):   0%|          | 0/9 [00:00<?, ?it/s]"
      ]
     },
     "metadata": {},
     "output_type": "display_data"
    },
    {
     "data": {
      "application/vnd.jupyter.widget-view+json": {
       "model_id": "",
       "version_major": 2,
       "version_minor": 0
      },
      "text/plain": [
       "Image (test):   0%|          | 0/9 [00:00<?, ?it/s]"
      ]
     },
     "metadata": {},
     "output_type": "display_data"
    },
    {
     "data": {
      "application/vnd.jupyter.widget-view+json": {
       "model_id": "",
       "version_major": 2,
       "version_minor": 0
      },
      "text/plain": [
       "Image (train):   0%|          | 0/9 [00:00<?, ?it/s]"
      ]
     },
     "metadata": {},
     "output_type": "display_data"
    },
    {
     "data": {
      "application/vnd.jupyter.widget-view+json": {
       "model_id": "",
       "version_major": 2,
       "version_minor": 0
      },
      "text/plain": [
       "Image (test):   0%|          | 0/9 [00:00<?, ?it/s]"
      ]
     },
     "metadata": {},
     "output_type": "display_data"
    },
    {
     "data": {
      "application/vnd.jupyter.widget-view+json": {
       "model_id": "",
       "version_major": 2,
       "version_minor": 0
      },
      "text/plain": [
       "Image (train):   0%|          | 0/9 [00:00<?, ?it/s]"
      ]
     },
     "metadata": {},
     "output_type": "display_data"
    },
    {
     "data": {
      "application/vnd.jupyter.widget-view+json": {
       "model_id": "",
       "version_major": 2,
       "version_minor": 0
      },
      "text/plain": [
       "Image (test):   0%|          | 0/9 [00:00<?, ?it/s]"
      ]
     },
     "metadata": {},
     "output_type": "display_data"
    },
    {
     "data": {
      "application/vnd.jupyter.widget-view+json": {
       "model_id": "",
       "version_major": 2,
       "version_minor": 0
      },
      "text/plain": [
       "Image (train):   0%|          | 0/9 [00:00<?, ?it/s]"
      ]
     },
     "metadata": {},
     "output_type": "display_data"
    },
    {
     "data": {
      "application/vnd.jupyter.widget-view+json": {
       "model_id": "",
       "version_major": 2,
       "version_minor": 0
      },
      "text/plain": [
       "Image (test):   0%|          | 0/9 [00:00<?, ?it/s]"
      ]
     },
     "metadata": {},
     "output_type": "display_data"
    },
    {
     "data": {
      "application/vnd.jupyter.widget-view+json": {
       "model_id": "",
       "version_major": 2,
       "version_minor": 0
      },
      "text/plain": [
       "Image (train):   0%|          | 0/9 [00:00<?, ?it/s]"
      ]
     },
     "metadata": {},
     "output_type": "display_data"
    },
    {
     "data": {
      "application/vnd.jupyter.widget-view+json": {
       "model_id": "",
       "version_major": 2,
       "version_minor": 0
      },
      "text/plain": [
       "Image (test):   0%|          | 0/9 [00:00<?, ?it/s]"
      ]
     },
     "metadata": {},
     "output_type": "display_data"
    },
    {
     "data": {
      "application/vnd.jupyter.widget-view+json": {
       "model_id": "",
       "version_major": 2,
       "version_minor": 0
      },
      "text/plain": [
       "Image (train):   0%|          | 0/8 [00:00<?, ?it/s]"
      ]
     },
     "metadata": {},
     "output_type": "display_data"
    },
    {
     "data": {
      "application/vnd.jupyter.widget-view+json": {
       "model_id": "",
       "version_major": 2,
       "version_minor": 0
      },
      "text/plain": [
       "Image (test):   0%|          | 0/8 [00:00<?, ?it/s]"
      ]
     },
     "metadata": {},
     "output_type": "display_data"
    },
    {
     "data": {
      "application/vnd.jupyter.widget-view+json": {
       "model_id": "",
       "version_major": 2,
       "version_minor": 0
      },
      "text/plain": [
       "Image (train):   0%|          | 0/7 [00:00<?, ?it/s]"
      ]
     },
     "metadata": {},
     "output_type": "display_data"
    },
    {
     "data": {
      "application/vnd.jupyter.widget-view+json": {
       "model_id": "",
       "version_major": 2,
       "version_minor": 0
      },
      "text/plain": [
       "Image (test):   0%|          | 0/7 [00:00<?, ?it/s]"
      ]
     },
     "metadata": {},
     "output_type": "display_data"
    },
    {
     "data": {
      "application/vnd.jupyter.widget-view+json": {
       "model_id": "",
       "version_major": 2,
       "version_minor": 0
      },
      "text/plain": [
       "Image (train):   0%|          | 0/7 [00:00<?, ?it/s]"
      ]
     },
     "metadata": {},
     "output_type": "display_data"
    },
    {
     "data": {
      "application/vnd.jupyter.widget-view+json": {
       "model_id": "",
       "version_major": 2,
       "version_minor": 0
      },
      "text/plain": [
       "Image (test):   0%|          | 0/7 [00:00<?, ?it/s]"
      ]
     },
     "metadata": {},
     "output_type": "display_data"
    },
    {
     "data": {
      "application/vnd.jupyter.widget-view+json": {
       "model_id": "",
       "version_major": 2,
       "version_minor": 0
      },
      "text/plain": [
       "Attempt:   0%|          | 0/20 [00:00<?, ?it/s]"
      ]
     },
     "metadata": {},
     "output_type": "display_data"
    },
    {
     "data": {
      "application/vnd.jupyter.widget-view+json": {
       "model_id": "",
       "version_major": 2,
       "version_minor": 0
      },
      "text/plain": [
       "Image (train):   0%|          | 0/1000 [00:00<?, ?it/s]"
      ]
     },
     "metadata": {},
     "output_type": "display_data"
    },
    {
     "data": {
      "application/vnd.jupyter.widget-view+json": {
       "model_id": "",
       "version_major": 2,
       "version_minor": 0
      },
      "text/plain": [
       "Image (test):   0%|          | 0/1000 [00:00<?, ?it/s]"
      ]
     },
     "metadata": {},
     "output_type": "display_data"
    },
    {
     "data": {
      "application/vnd.jupyter.widget-view+json": {
       "model_id": "",
       "version_major": 2,
       "version_minor": 0
      },
      "text/plain": [
       "Image (train):   0%|          | 0/30 [00:00<?, ?it/s]"
      ]
     },
     "metadata": {},
     "output_type": "display_data"
    },
    {
     "data": {
      "application/vnd.jupyter.widget-view+json": {
       "model_id": "",
       "version_major": 2,
       "version_minor": 0
      },
      "text/plain": [
       "Image (test):   0%|          | 0/30 [00:00<?, ?it/s]"
      ]
     },
     "metadata": {},
     "output_type": "display_data"
    },
    {
     "data": {
      "application/vnd.jupyter.widget-view+json": {
       "model_id": "",
       "version_major": 2,
       "version_minor": 0
      },
      "text/plain": [
       "Image (train):   0%|          | 0/28 [00:00<?, ?it/s]"
      ]
     },
     "metadata": {},
     "output_type": "display_data"
    },
    {
     "data": {
      "application/vnd.jupyter.widget-view+json": {
       "model_id": "",
       "version_major": 2,
       "version_minor": 0
      },
      "text/plain": [
       "Image (test):   0%|          | 0/28 [00:00<?, ?it/s]"
      ]
     },
     "metadata": {},
     "output_type": "display_data"
    },
    {
     "data": {
      "application/vnd.jupyter.widget-view+json": {
       "model_id": "",
       "version_major": 2,
       "version_minor": 0
      },
      "text/plain": [
       "Image (train):   0%|          | 0/26 [00:00<?, ?it/s]"
      ]
     },
     "metadata": {},
     "output_type": "display_data"
    },
    {
     "data": {
      "application/vnd.jupyter.widget-view+json": {
       "model_id": "a24c01e702274ad3b8ca9892ff2b426a",
       "version_major": 2,
       "version_minor": 0
      },
      "text/plain": [
       "Image (test):   0%|          | 0/26 [00:00<?, ?it/s]"
      ]
     },
     "metadata": {},
     "output_type": "display_data"
    },
    {
     "data": {
      "application/vnd.jupyter.widget-view+json": {
       "model_id": "e5f60d7248154f78965411c133dc4814",
       "version_major": 2,
       "version_minor": 0
      },
      "text/plain": [
       "Image (train):   0%|          | 0/25 [00:00<?, ?it/s]"
      ]
     },
     "metadata": {},
     "output_type": "display_data"
    },
    {
     "data": {
      "application/vnd.jupyter.widget-view+json": {
       "model_id": "9475e33e169746fab5d600030dc6333f",
       "version_major": 2,
       "version_minor": 0
      },
      "text/plain": [
       "Image (test):   0%|          | 0/25 [00:00<?, ?it/s]"
      ]
     },
     "metadata": {},
     "output_type": "display_data"
    },
    {
     "data": {
      "application/vnd.jupyter.widget-view+json": {
       "model_id": "4f85f25e4ca2491890d211519dc7b512",
       "version_major": 2,
       "version_minor": 0
      },
      "text/plain": [
       "Image (train):   0%|          | 0/21 [00:00<?, ?it/s]"
      ]
     },
     "metadata": {},
     "output_type": "display_data"
    },
    {
     "data": {
      "application/vnd.jupyter.widget-view+json": {
       "model_id": "1a7eb0c437264ccda1ee407a8d2cd299",
       "version_major": 2,
       "version_minor": 0
      },
      "text/plain": [
       "Image (test):   0%|          | 0/21 [00:00<?, ?it/s]"
      ]
     },
     "metadata": {},
     "output_type": "display_data"
    },
    {
     "data": {
      "application/vnd.jupyter.widget-view+json": {
       "model_id": "4d5685c742374e76944be14c2b356221",
       "version_major": 2,
       "version_minor": 0
      },
      "text/plain": [
       "Image (train):   0%|          | 0/20 [00:00<?, ?it/s]"
      ]
     },
     "metadata": {},
     "output_type": "display_data"
    },
    {
     "data": {
      "application/vnd.jupyter.widget-view+json": {
       "model_id": "ab98330e15a4455fa0e25bd7d95f8506",
       "version_major": 2,
       "version_minor": 0
      },
      "text/plain": [
       "Image (test):   0%|          | 0/20 [00:00<?, ?it/s]"
      ]
     },
     "metadata": {},
     "output_type": "display_data"
    },
    {
     "data": {
      "application/vnd.jupyter.widget-view+json": {
       "model_id": "fed2711457e54b53a628004716b6cfd9",
       "version_major": 2,
       "version_minor": 0
      },
      "text/plain": [
       "Image (train):   0%|          | 0/18 [00:00<?, ?it/s]"
      ]
     },
     "metadata": {},
     "output_type": "display_data"
    },
    {
     "data": {
      "application/vnd.jupyter.widget-view+json": {
       "model_id": "d28ce0d7a4c0410faa044892ed05843c",
       "version_major": 2,
       "version_minor": 0
      },
      "text/plain": [
       "Image (test):   0%|          | 0/18 [00:00<?, ?it/s]"
      ]
     },
     "metadata": {},
     "output_type": "display_data"
    },
    {
     "data": {
      "application/vnd.jupyter.widget-view+json": {
       "model_id": "eb1f909bcdcd4fa4b7dfa16c677ec313",
       "version_major": 2,
       "version_minor": 0
      },
      "text/plain": [
       "Image (train):   0%|          | 0/17 [00:00<?, ?it/s]"
      ]
     },
     "metadata": {},
     "output_type": "display_data"
    },
    {
     "data": {
      "application/vnd.jupyter.widget-view+json": {
       "model_id": "e09328aa74894f1e8669aa1783d50d18",
       "version_major": 2,
       "version_minor": 0
      },
      "text/plain": [
       "Image (test):   0%|          | 0/17 [00:00<?, ?it/s]"
      ]
     },
     "metadata": {},
     "output_type": "display_data"
    },
    {
     "data": {
      "application/vnd.jupyter.widget-view+json": {
       "model_id": "f1e73ab54891462490907db5d94bcfe0",
       "version_major": 2,
       "version_minor": 0
      },
      "text/plain": [
       "Image (train):   0%|          | 0/15 [00:00<?, ?it/s]"
      ]
     },
     "metadata": {},
     "output_type": "display_data"
    },
    {
     "data": {
      "application/vnd.jupyter.widget-view+json": {
       "model_id": "6e607c51a9344408a5e33c2afb187733",
       "version_major": 2,
       "version_minor": 0
      },
      "text/plain": [
       "Image (test):   0%|          | 0/15 [00:00<?, ?it/s]"
      ]
     },
     "metadata": {},
     "output_type": "display_data"
    },
    {
     "data": {
      "application/vnd.jupyter.widget-view+json": {
       "model_id": "1b29b3b9fb244db2bc27a75ad9d1d8ce",
       "version_major": 2,
       "version_minor": 0
      },
      "text/plain": [
       "Image (train):   0%|          | 0/14 [00:00<?, ?it/s]"
      ]
     },
     "metadata": {},
     "output_type": "display_data"
    },
    {
     "data": {
      "application/vnd.jupyter.widget-view+json": {
       "model_id": "1db4f34562234803923bcde48684b4ba",
       "version_major": 2,
       "version_minor": 0
      },
      "text/plain": [
       "Image (test):   0%|          | 0/14 [00:00<?, ?it/s]"
      ]
     },
     "metadata": {},
     "output_type": "display_data"
    },
    {
     "data": {
      "application/vnd.jupyter.widget-view+json": {
       "model_id": "28e8cc74ae3e492f951b64c4f89bfda9",
       "version_major": 2,
       "version_minor": 0
      },
      "text/plain": [
       "Image (train):   0%|          | 0/14 [00:00<?, ?it/s]"
      ]
     },
     "metadata": {},
     "output_type": "display_data"
    },
    {
     "data": {
      "application/vnd.jupyter.widget-view+json": {
       "model_id": "24916d92bcda4932ab64cbc96d2dadac",
       "version_major": 2,
       "version_minor": 0
      },
      "text/plain": [
       "Image (test):   0%|          | 0/14 [00:00<?, ?it/s]"
      ]
     },
     "metadata": {},
     "output_type": "display_data"
    },
    {
     "data": {
      "application/vnd.jupyter.widget-view+json": {
       "model_id": "0df1cab7f5ca45709ff0ad7dd50a7c64",
       "version_major": 2,
       "version_minor": 0
      },
      "text/plain": [
       "Image (train):   0%|          | 0/14 [00:00<?, ?it/s]"
      ]
     },
     "metadata": {},
     "output_type": "display_data"
    },
    {
     "data": {
      "application/vnd.jupyter.widget-view+json": {
       "model_id": "2797c8bf1bf240a38e8d7ba6f96e671c",
       "version_major": 2,
       "version_minor": 0
      },
      "text/plain": [
       "Image (test):   0%|          | 0/14 [00:00<?, ?it/s]"
      ]
     },
     "metadata": {},
     "output_type": "display_data"
    },
    {
     "data": {
      "application/vnd.jupyter.widget-view+json": {
       "model_id": "52405bb0e604441e9a1e70348efa668a",
       "version_major": 2,
       "version_minor": 0
      },
      "text/plain": [
       "Image (train):   0%|          | 0/13 [00:00<?, ?it/s]"
      ]
     },
     "metadata": {},
     "output_type": "display_data"
    },
    {
     "data": {
      "application/vnd.jupyter.widget-view+json": {
       "model_id": "78acf7fe39fc43aa8f3facdfca018cae",
       "version_major": 2,
       "version_minor": 0
      },
      "text/plain": [
       "Image (test):   0%|          | 0/13 [00:00<?, ?it/s]"
      ]
     },
     "metadata": {},
     "output_type": "display_data"
    },
    {
     "data": {
      "application/vnd.jupyter.widget-view+json": {
       "model_id": "32581e35533048ceaf1eabd6489868f0",
       "version_major": 2,
       "version_minor": 0
      },
      "text/plain": [
       "Image (train):   0%|          | 0/11 [00:00<?, ?it/s]"
      ]
     },
     "metadata": {},
     "output_type": "display_data"
    },
    {
     "data": {
      "application/vnd.jupyter.widget-view+json": {
       "model_id": "1821ffe7aa234b42bc02a32f49ce54c0",
       "version_major": 2,
       "version_minor": 0
      },
      "text/plain": [
       "Image (test):   0%|          | 0/11 [00:00<?, ?it/s]"
      ]
     },
     "metadata": {},
     "output_type": "display_data"
    },
    {
     "data": {
      "application/vnd.jupyter.widget-view+json": {
       "model_id": "638e1baabdab42d9af98dcedb628d0e2",
       "version_major": 2,
       "version_minor": 0
      },
      "text/plain": [
       "Image (train):   0%|          | 0/10 [00:00<?, ?it/s]"
      ]
     },
     "metadata": {},
     "output_type": "display_data"
    },
    {
     "data": {
      "application/vnd.jupyter.widget-view+json": {
       "model_id": "a6f9185655d44b4691fe6dc0cd3b8454",
       "version_major": 2,
       "version_minor": 0
      },
      "text/plain": [
       "Image (test):   0%|          | 0/10 [00:00<?, ?it/s]"
      ]
     },
     "metadata": {},
     "output_type": "display_data"
    },
    {
     "data": {
      "application/vnd.jupyter.widget-view+json": {
       "model_id": "9b9094a7296d43cfab4f4536250a8514",
       "version_major": 2,
       "version_minor": 0
      },
      "text/plain": [
       "Image (train):   0%|          | 0/9 [00:00<?, ?it/s]"
      ]
     },
     "metadata": {},
     "output_type": "display_data"
    },
    {
     "data": {
      "application/vnd.jupyter.widget-view+json": {
       "model_id": "7c21e230fda74f3595e579f39b5385c9",
       "version_major": 2,
       "version_minor": 0
      },
      "text/plain": [
       "Image (test):   0%|          | 0/9 [00:00<?, ?it/s]"
      ]
     },
     "metadata": {},
     "output_type": "display_data"
    },
    {
     "data": {
      "application/vnd.jupyter.widget-view+json": {
       "model_id": "36f1ad0d15da4c7fb68188f586792fa1",
       "version_major": 2,
       "version_minor": 0
      },
      "text/plain": [
       "Image (train):   0%|          | 0/9 [00:00<?, ?it/s]"
      ]
     },
     "metadata": {},
     "output_type": "display_data"
    },
    {
     "data": {
      "application/vnd.jupyter.widget-view+json": {
       "model_id": "a251408fa26a4134a124f8d3b9fd80bd",
       "version_major": 2,
       "version_minor": 0
      },
      "text/plain": [
       "Image (test):   0%|          | 0/9 [00:00<?, ?it/s]"
      ]
     },
     "metadata": {},
     "output_type": "display_data"
    },
    {
     "data": {
      "application/vnd.jupyter.widget-view+json": {
       "model_id": "9592ec66d30c4b58ae98f0adced3cffa",
       "version_major": 2,
       "version_minor": 0
      },
      "text/plain": [
       "Image (train):   0%|          | 0/8 [00:00<?, ?it/s]"
      ]
     },
     "metadata": {},
     "output_type": "display_data"
    },
    {
     "data": {
      "application/vnd.jupyter.widget-view+json": {
       "model_id": "48f21f71ea7c4c849316e9f09c7784ac",
       "version_major": 2,
       "version_minor": 0
      },
      "text/plain": [
       "Image (test):   0%|          | 0/8 [00:00<?, ?it/s]"
      ]
     },
     "metadata": {},
     "output_type": "display_data"
    },
    {
     "data": {
      "application/vnd.jupyter.widget-view+json": {
       "model_id": "9169d1595a9e4698a25b96d8140d241d",
       "version_major": 2,
       "version_minor": 0
      },
      "text/plain": [
       "Image (train):   0%|          | 0/8 [00:00<?, ?it/s]"
      ]
     },
     "metadata": {},
     "output_type": "display_data"
    },
    {
     "data": {
      "application/vnd.jupyter.widget-view+json": {
       "model_id": "45b86ea21c6d4c289bdfed18902626bf",
       "version_major": 2,
       "version_minor": 0
      },
      "text/plain": [
       "Image (test):   0%|          | 0/8 [00:00<?, ?it/s]"
      ]
     },
     "metadata": {},
     "output_type": "display_data"
    },
    {
     "data": {
      "application/vnd.jupyter.widget-view+json": {
       "model_id": "880f0f65d84c492a9a1f7f68ae4f0453",
       "version_major": 2,
       "version_minor": 0
      },
      "text/plain": [
       "Attempt:   0%|          | 0/20 [00:00<?, ?it/s]"
      ]
     },
     "metadata": {},
     "output_type": "display_data"
    },
    {
     "data": {
      "application/vnd.jupyter.widget-view+json": {
       "model_id": "8347548a521e42a89dcb73a905f5e548",
       "version_major": 2,
       "version_minor": 0
      },
      "text/plain": [
       "Image (train):   0%|          | 0/1000 [00:00<?, ?it/s]"
      ]
     },
     "metadata": {},
     "output_type": "display_data"
    },
    {
     "data": {
      "application/vnd.jupyter.widget-view+json": {
       "model_id": "d4887400309b45b2a0008383d99f1b89",
       "version_major": 2,
       "version_minor": 0
      },
      "text/plain": [
       "Image (test):   0%|          | 0/1000 [00:00<?, ?it/s]"
      ]
     },
     "metadata": {},
     "output_type": "display_data"
    },
    {
     "data": {
      "application/vnd.jupyter.widget-view+json": {
       "model_id": "be703a389d024cbaaa9af956ca34c158",
       "version_major": 2,
       "version_minor": 0
      },
      "text/plain": [
       "Image (train):   0%|          | 0/34 [00:00<?, ?it/s]"
      ]
     },
     "metadata": {},
     "output_type": "display_data"
    },
    {
     "data": {
      "application/vnd.jupyter.widget-view+json": {
       "model_id": "ff847aa7ed4744c484d52acf3ea78122",
       "version_major": 2,
       "version_minor": 0
      },
      "text/plain": [
       "Image (test):   0%|          | 0/34 [00:00<?, ?it/s]"
      ]
     },
     "metadata": {},
     "output_type": "display_data"
    },
    {
     "data": {
      "application/vnd.jupyter.widget-view+json": {
       "model_id": "461c8e64e0604b01834d939ea148ddc4",
       "version_major": 2,
       "version_minor": 0
      },
      "text/plain": [
       "Image (train):   0%|          | 0/30 [00:00<?, ?it/s]"
      ]
     },
     "metadata": {},
     "output_type": "display_data"
    },
    {
     "data": {
      "application/vnd.jupyter.widget-view+json": {
       "model_id": "5125606932ca4770aa67a914bb1f29eb",
       "version_major": 2,
       "version_minor": 0
      },
      "text/plain": [
       "Image (test):   0%|          | 0/30 [00:00<?, ?it/s]"
      ]
     },
     "metadata": {},
     "output_type": "display_data"
    },
    {
     "data": {
      "application/vnd.jupyter.widget-view+json": {
       "model_id": "8fc561003d9a42c7925bf896db4d5c61",
       "version_major": 2,
       "version_minor": 0
      },
      "text/plain": [
       "Image (train):   0%|          | 0/28 [00:00<?, ?it/s]"
      ]
     },
     "metadata": {},
     "output_type": "display_data"
    },
    {
     "data": {
      "application/vnd.jupyter.widget-view+json": {
       "model_id": "8148133758d44ff6a3434ef99fd40be9",
       "version_major": 2,
       "version_minor": 0
      },
      "text/plain": [
       "Image (test):   0%|          | 0/28 [00:00<?, ?it/s]"
      ]
     },
     "metadata": {},
     "output_type": "display_data"
    },
    {
     "data": {
      "application/vnd.jupyter.widget-view+json": {
       "model_id": "a3efb0601f664e2e8d1875f094970370",
       "version_major": 2,
       "version_minor": 0
      },
      "text/plain": [
       "Image (train):   0%|          | 0/24 [00:00<?, ?it/s]"
      ]
     },
     "metadata": {},
     "output_type": "display_data"
    },
    {
     "data": {
      "application/vnd.jupyter.widget-view+json": {
       "model_id": "081ce82c51fa46998ad0fad757f9f652",
       "version_major": 2,
       "version_minor": 0
      },
      "text/plain": [
       "Image (test):   0%|          | 0/24 [00:00<?, ?it/s]"
      ]
     },
     "metadata": {},
     "output_type": "display_data"
    },
    {
     "data": {
      "application/vnd.jupyter.widget-view+json": {
       "model_id": "89446899081447fd949de02d6b4f30b7",
       "version_major": 2,
       "version_minor": 0
      },
      "text/plain": [
       "Image (train):   0%|          | 0/23 [00:00<?, ?it/s]"
      ]
     },
     "metadata": {},
     "output_type": "display_data"
    },
    {
     "data": {
      "application/vnd.jupyter.widget-view+json": {
       "model_id": "b0709e3883564231a338079301737182",
       "version_major": 2,
       "version_minor": 0
      },
      "text/plain": [
       "Image (test):   0%|          | 0/23 [00:00<?, ?it/s]"
      ]
     },
     "metadata": {},
     "output_type": "display_data"
    },
    {
     "data": {
      "application/vnd.jupyter.widget-view+json": {
       "model_id": "f9f0fdee85dd47a699b662cfbc57691b",
       "version_major": 2,
       "version_minor": 0
      },
      "text/plain": [
       "Image (train):   0%|          | 0/22 [00:00<?, ?it/s]"
      ]
     },
     "metadata": {},
     "output_type": "display_data"
    },
    {
     "data": {
      "application/vnd.jupyter.widget-view+json": {
       "model_id": "60598e4fcc4b4eb290c55175af47dd41",
       "version_major": 2,
       "version_minor": 0
      },
      "text/plain": [
       "Image (test):   0%|          | 0/22 [00:00<?, ?it/s]"
      ]
     },
     "metadata": {},
     "output_type": "display_data"
    },
    {
     "data": {
      "application/vnd.jupyter.widget-view+json": {
       "model_id": "d0c01a605a9144ecbb752f363628b941",
       "version_major": 2,
       "version_minor": 0
      },
      "text/plain": [
       "Image (train):   0%|          | 0/21 [00:00<?, ?it/s]"
      ]
     },
     "metadata": {},
     "output_type": "display_data"
    },
    {
     "data": {
      "application/vnd.jupyter.widget-view+json": {
       "model_id": "79aa6aa83def4a06b8cb54b16e9ce5d6",
       "version_major": 2,
       "version_minor": 0
      },
      "text/plain": [
       "Image (test):   0%|          | 0/21 [00:00<?, ?it/s]"
      ]
     },
     "metadata": {},
     "output_type": "display_data"
    },
    {
     "data": {
      "application/vnd.jupyter.widget-view+json": {
       "model_id": "4977d6cfc23a4fa7b0a81fd2e10b7034",
       "version_major": 2,
       "version_minor": 0
      },
      "text/plain": [
       "Image (train):   0%|          | 0/18 [00:00<?, ?it/s]"
      ]
     },
     "metadata": {},
     "output_type": "display_data"
    },
    {
     "data": {
      "application/vnd.jupyter.widget-view+json": {
       "model_id": "4103c1e2f5b84a5fac69d1de77e9cde5",
       "version_major": 2,
       "version_minor": 0
      },
      "text/plain": [
       "Image (test):   0%|          | 0/18 [00:00<?, ?it/s]"
      ]
     },
     "metadata": {},
     "output_type": "display_data"
    },
    {
     "data": {
      "application/vnd.jupyter.widget-view+json": {
       "model_id": "f7940b276ce74f309a2da93b703e5bec",
       "version_major": 2,
       "version_minor": 0
      },
      "text/plain": [
       "Image (train):   0%|          | 0/16 [00:00<?, ?it/s]"
      ]
     },
     "metadata": {},
     "output_type": "display_data"
    },
    {
     "data": {
      "application/vnd.jupyter.widget-view+json": {
       "model_id": "6b8c05c0e5864af6a190bfab8dbde0b3",
       "version_major": 2,
       "version_minor": 0
      },
      "text/plain": [
       "Image (test):   0%|          | 0/16 [00:00<?, ?it/s]"
      ]
     },
     "metadata": {},
     "output_type": "display_data"
    },
    {
     "data": {
      "application/vnd.jupyter.widget-view+json": {
       "model_id": "f6bdb549d35a402b922ee4a5a7af73a3",
       "version_major": 2,
       "version_minor": 0
      },
      "text/plain": [
       "Image (train):   0%|          | 0/14 [00:00<?, ?it/s]"
      ]
     },
     "metadata": {},
     "output_type": "display_data"
    },
    {
     "data": {
      "application/vnd.jupyter.widget-view+json": {
       "model_id": "26d87aefe6204a7a9cd9089e717da17b",
       "version_major": 2,
       "version_minor": 0
      },
      "text/plain": [
       "Image (test):   0%|          | 0/14 [00:00<?, ?it/s]"
      ]
     },
     "metadata": {},
     "output_type": "display_data"
    },
    {
     "data": {
      "application/vnd.jupyter.widget-view+json": {
       "model_id": "e05567576df8488cb56124f32dff9c60",
       "version_major": 2,
       "version_minor": 0
      },
      "text/plain": [
       "Image (train):   0%|          | 0/14 [00:00<?, ?it/s]"
      ]
     },
     "metadata": {},
     "output_type": "display_data"
    },
    {
     "data": {
      "application/vnd.jupyter.widget-view+json": {
       "model_id": "d25fcad05d364e63ae8d3c0a94e0bbca",
       "version_major": 2,
       "version_minor": 0
      },
      "text/plain": [
       "Image (test):   0%|          | 0/14 [00:00<?, ?it/s]"
      ]
     },
     "metadata": {},
     "output_type": "display_data"
    },
    {
     "data": {
      "application/vnd.jupyter.widget-view+json": {
       "model_id": "c75f468bd110458e8557be46a092a735",
       "version_major": 2,
       "version_minor": 0
      },
      "text/plain": [
       "Image (train):   0%|          | 0/14 [00:00<?, ?it/s]"
      ]
     },
     "metadata": {},
     "output_type": "display_data"
    },
    {
     "data": {
      "application/vnd.jupyter.widget-view+json": {
       "model_id": "a3551cb9228748728938b9eac541feef",
       "version_major": 2,
       "version_minor": 0
      },
      "text/plain": [
       "Image (test):   0%|          | 0/14 [00:00<?, ?it/s]"
      ]
     },
     "metadata": {},
     "output_type": "display_data"
    },
    {
     "data": {
      "application/vnd.jupyter.widget-view+json": {
       "model_id": "e6a392e1270a43c3869d975083ccd291",
       "version_major": 2,
       "version_minor": 0
      },
      "text/plain": [
       "Image (train):   0%|          | 0/14 [00:00<?, ?it/s]"
      ]
     },
     "metadata": {},
     "output_type": "display_data"
    },
    {
     "data": {
      "application/vnd.jupyter.widget-view+json": {
       "model_id": "f9ea3b9dfd5942289f50d6e4cc55e465",
       "version_major": 2,
       "version_minor": 0
      },
      "text/plain": [
       "Image (test):   0%|          | 0/14 [00:00<?, ?it/s]"
      ]
     },
     "metadata": {},
     "output_type": "display_data"
    },
    {
     "data": {
      "application/vnd.jupyter.widget-view+json": {
       "model_id": "c050873529384bc2a1cfbbb935d11271",
       "version_major": 2,
       "version_minor": 0
      },
      "text/plain": [
       "Image (train):   0%|          | 0/14 [00:00<?, ?it/s]"
      ]
     },
     "metadata": {},
     "output_type": "display_data"
    },
    {
     "data": {
      "application/vnd.jupyter.widget-view+json": {
       "model_id": "843cc2188c04495aa71b5f169b841ccd",
       "version_major": 2,
       "version_minor": 0
      },
      "text/plain": [
       "Image (test):   0%|          | 0/14 [00:00<?, ?it/s]"
      ]
     },
     "metadata": {},
     "output_type": "display_data"
    },
    {
     "data": {
      "application/vnd.jupyter.widget-view+json": {
       "model_id": "ed5ada82808e455f9bba6915f8fb9dec",
       "version_major": 2,
       "version_minor": 0
      },
      "text/plain": [
       "Image (train):   0%|          | 0/13 [00:00<?, ?it/s]"
      ]
     },
     "metadata": {},
     "output_type": "display_data"
    },
    {
     "data": {
      "application/vnd.jupyter.widget-view+json": {
       "model_id": "219a24c5e087499c99e61c2eda42314c",
       "version_major": 2,
       "version_minor": 0
      },
      "text/plain": [
       "Image (test):   0%|          | 0/13 [00:00<?, ?it/s]"
      ]
     },
     "metadata": {},
     "output_type": "display_data"
    },
    {
     "data": {
      "application/vnd.jupyter.widget-view+json": {
       "model_id": "def6fa9a9f8a42c8b6fe79ed5b65c272",
       "version_major": 2,
       "version_minor": 0
      },
      "text/plain": [
       "Image (train):   0%|          | 0/13 [00:00<?, ?it/s]"
      ]
     },
     "metadata": {},
     "output_type": "display_data"
    },
    {
     "data": {
      "application/vnd.jupyter.widget-view+json": {
       "model_id": "8d10fb0a44c741fa9f4c6a0428571a51",
       "version_major": 2,
       "version_minor": 0
      },
      "text/plain": [
       "Image (test):   0%|          | 0/13 [00:00<?, ?it/s]"
      ]
     },
     "metadata": {},
     "output_type": "display_data"
    },
    {
     "data": {
      "application/vnd.jupyter.widget-view+json": {
       "model_id": "deccb85c40b843c3b4a1dcf2e0075e0a",
       "version_major": 2,
       "version_minor": 0
      },
      "text/plain": [
       "Image (train):   0%|          | 0/12 [00:00<?, ?it/s]"
      ]
     },
     "metadata": {},
     "output_type": "display_data"
    },
    {
     "data": {
      "application/vnd.jupyter.widget-view+json": {
       "model_id": "cb7172b78f2d44589aa6240ed46f688a",
       "version_major": 2,
       "version_minor": 0
      },
      "text/plain": [
       "Image (test):   0%|          | 0/12 [00:00<?, ?it/s]"
      ]
     },
     "metadata": {},
     "output_type": "display_data"
    },
    {
     "data": {
      "application/vnd.jupyter.widget-view+json": {
       "model_id": "8013736fe398454d9ce51cf960916cfb",
       "version_major": 2,
       "version_minor": 0
      },
      "text/plain": [
       "Image (train):   0%|          | 0/11 [00:00<?, ?it/s]"
      ]
     },
     "metadata": {},
     "output_type": "display_data"
    },
    {
     "data": {
      "application/vnd.jupyter.widget-view+json": {
       "model_id": "4470e17b8d664a0da5da26177fe3c425",
       "version_major": 2,
       "version_minor": 0
      },
      "text/plain": [
       "Image (test):   0%|          | 0/11 [00:00<?, ?it/s]"
      ]
     },
     "metadata": {},
     "output_type": "display_data"
    },
    {
     "data": {
      "application/vnd.jupyter.widget-view+json": {
       "model_id": "c4764bdcbacb47c69bb560e87dd7fac2",
       "version_major": 2,
       "version_minor": 0
      },
      "text/plain": [
       "Image (train):   0%|          | 0/11 [00:00<?, ?it/s]"
      ]
     },
     "metadata": {},
     "output_type": "display_data"
    },
    {
     "data": {
      "application/vnd.jupyter.widget-view+json": {
       "model_id": "c3301a7ed88e4b58ac6b46cc3d6ecf1b",
       "version_major": 2,
       "version_minor": 0
      },
      "text/plain": [
       "Image (test):   0%|          | 0/11 [00:00<?, ?it/s]"
      ]
     },
     "metadata": {},
     "output_type": "display_data"
    },
    {
     "data": {
      "application/vnd.jupyter.widget-view+json": {
       "model_id": "584b11626c4b47568f86ccaf105e28ca",
       "version_major": 2,
       "version_minor": 0
      },
      "text/plain": [
       "Attempt:   0%|          | 0/20 [00:00<?, ?it/s]"
      ]
     },
     "metadata": {},
     "output_type": "display_data"
    },
    {
     "data": {
      "application/vnd.jupyter.widget-view+json": {
       "model_id": "6a1e714bc62640348de6051a617472c4",
       "version_major": 2,
       "version_minor": 0
      },
      "text/plain": [
       "Image (train):   0%|          | 0/1000 [00:00<?, ?it/s]"
      ]
     },
     "metadata": {},
     "output_type": "display_data"
    },
    {
     "data": {
      "application/vnd.jupyter.widget-view+json": {
       "model_id": "2bcee0abf5b94241b9ce7d37fe5b7eb2",
       "version_major": 2,
       "version_minor": 0
      },
      "text/plain": [
       "Image (test):   0%|          | 0/1000 [00:00<?, ?it/s]"
      ]
     },
     "metadata": {},
     "output_type": "display_data"
    },
    {
     "data": {
      "application/vnd.jupyter.widget-view+json": {
       "model_id": "476ff24585fc4f0da3d36450bea327bf",
       "version_major": 2,
       "version_minor": 0
      },
      "text/plain": [
       "Image (train):   0%|          | 0/43 [00:00<?, ?it/s]"
      ]
     },
     "metadata": {},
     "output_type": "display_data"
    },
    {
     "data": {
      "application/vnd.jupyter.widget-view+json": {
       "model_id": "0f4f2dd77b4f454fae7b0f29cbc2b9a4",
       "version_major": 2,
       "version_minor": 0
      },
      "text/plain": [
       "Image (test):   0%|          | 0/43 [00:00<?, ?it/s]"
      ]
     },
     "metadata": {},
     "output_type": "display_data"
    },
    {
     "data": {
      "application/vnd.jupyter.widget-view+json": {
       "model_id": "c43cfcdf3956418a83aa421c2d12f2ba",
       "version_major": 2,
       "version_minor": 0
      },
      "text/plain": [
       "Image (train):   0%|          | 0/40 [00:00<?, ?it/s]"
      ]
     },
     "metadata": {},
     "output_type": "display_data"
    },
    {
     "data": {
      "application/vnd.jupyter.widget-view+json": {
       "model_id": "c6c5d1ba509f4ba8a82cc008d4269768",
       "version_major": 2,
       "version_minor": 0
      },
      "text/plain": [
       "Image (test):   0%|          | 0/40 [00:00<?, ?it/s]"
      ]
     },
     "metadata": {},
     "output_type": "display_data"
    },
    {
     "data": {
      "application/vnd.jupyter.widget-view+json": {
       "model_id": "016ee43f82854dd9ad1bb6ebb4e7c5d1",
       "version_major": 2,
       "version_minor": 0
      },
      "text/plain": [
       "Image (train):   0%|          | 0/36 [00:00<?, ?it/s]"
      ]
     },
     "metadata": {},
     "output_type": "display_data"
    },
    {
     "data": {
      "application/vnd.jupyter.widget-view+json": {
       "model_id": "ef985b8aca79487d950ff79dc3d8bc32",
       "version_major": 2,
       "version_minor": 0
      },
      "text/plain": [
       "Image (test):   0%|          | 0/36 [00:00<?, ?it/s]"
      ]
     },
     "metadata": {},
     "output_type": "display_data"
    },
    {
     "data": {
      "application/vnd.jupyter.widget-view+json": {
       "model_id": "d9b09f6aea4d48fd83f5d3fbc5659d2c",
       "version_major": 2,
       "version_minor": 0
      },
      "text/plain": [
       "Image (train):   0%|          | 0/34 [00:00<?, ?it/s]"
      ]
     },
     "metadata": {},
     "output_type": "display_data"
    },
    {
     "data": {
      "application/vnd.jupyter.widget-view+json": {
       "model_id": "c222dc3ec7d7429c9546fa5d8539d12f",
       "version_major": 2,
       "version_minor": 0
      },
      "text/plain": [
       "Image (test):   0%|          | 0/34 [00:00<?, ?it/s]"
      ]
     },
     "metadata": {},
     "output_type": "display_data"
    },
    {
     "data": {
      "application/vnd.jupyter.widget-view+json": {
       "model_id": "8ab99dd3fdd64393aa1fa39bd8b8547f",
       "version_major": 2,
       "version_minor": 0
      },
      "text/plain": [
       "Image (train):   0%|          | 0/27 [00:00<?, ?it/s]"
      ]
     },
     "metadata": {},
     "output_type": "display_data"
    },
    {
     "data": {
      "application/vnd.jupyter.widget-view+json": {
       "model_id": "af966ca1f85747f9941c2803bbce8045",
       "version_major": 2,
       "version_minor": 0
      },
      "text/plain": [
       "Image (test):   0%|          | 0/27 [00:00<?, ?it/s]"
      ]
     },
     "metadata": {},
     "output_type": "display_data"
    },
    {
     "data": {
      "application/vnd.jupyter.widget-view+json": {
       "model_id": "de65d1f57b9646c1aa5f1d7a9dbb8118",
       "version_major": 2,
       "version_minor": 0
      },
      "text/plain": [
       "Image (train):   0%|          | 0/25 [00:00<?, ?it/s]"
      ]
     },
     "metadata": {},
     "output_type": "display_data"
    },
    {
     "data": {
      "application/vnd.jupyter.widget-view+json": {
       "model_id": "09be008772364156a9a81d56392c7353",
       "version_major": 2,
       "version_minor": 0
      },
      "text/plain": [
       "Image (test):   0%|          | 0/25 [00:00<?, ?it/s]"
      ]
     },
     "metadata": {},
     "output_type": "display_data"
    },
    {
     "data": {
      "application/vnd.jupyter.widget-view+json": {
       "model_id": "411393788692407d88ffd96e91946823",
       "version_major": 2,
       "version_minor": 0
      },
      "text/plain": [
       "Image (train):   0%|          | 0/22 [00:00<?, ?it/s]"
      ]
     },
     "metadata": {},
     "output_type": "display_data"
    },
    {
     "data": {
      "application/vnd.jupyter.widget-view+json": {
       "model_id": "19e8535b9f934afda54c4bd3dc1b8b4d",
       "version_major": 2,
       "version_minor": 0
      },
      "text/plain": [
       "Image (test):   0%|          | 0/22 [00:00<?, ?it/s]"
      ]
     },
     "metadata": {},
     "output_type": "display_data"
    },
    {
     "data": {
      "application/vnd.jupyter.widget-view+json": {
       "model_id": "7462178354c149fd9b179acb4f956b0b",
       "version_major": 2,
       "version_minor": 0
      },
      "text/plain": [
       "Image (train):   0%|          | 0/20 [00:00<?, ?it/s]"
      ]
     },
     "metadata": {},
     "output_type": "display_data"
    },
    {
     "data": {
      "application/vnd.jupyter.widget-view+json": {
       "model_id": "a77e9868d2c54e398c20ff26cd22b86e",
       "version_major": 2,
       "version_minor": 0
      },
      "text/plain": [
       "Image (test):   0%|          | 0/20 [00:00<?, ?it/s]"
      ]
     },
     "metadata": {},
     "output_type": "display_data"
    },
    {
     "data": {
      "application/vnd.jupyter.widget-view+json": {
       "model_id": "e81f065e45a44a1c93e96fffc4833a1b",
       "version_major": 2,
       "version_minor": 0
      },
      "text/plain": [
       "Image (train):   0%|          | 0/18 [00:00<?, ?it/s]"
      ]
     },
     "metadata": {},
     "output_type": "display_data"
    },
    {
     "data": {
      "application/vnd.jupyter.widget-view+json": {
       "model_id": "8e41556465a4497d8c167bd968ae822e",
       "version_major": 2,
       "version_minor": 0
      },
      "text/plain": [
       "Image (test):   0%|          | 0/18 [00:00<?, ?it/s]"
      ]
     },
     "metadata": {},
     "output_type": "display_data"
    },
    {
     "data": {
      "application/vnd.jupyter.widget-view+json": {
       "model_id": "77f0402e61f94777b27afb8e5eaa18c4",
       "version_major": 2,
       "version_minor": 0
      },
      "text/plain": [
       "Image (train):   0%|          | 0/17 [00:00<?, ?it/s]"
      ]
     },
     "metadata": {},
     "output_type": "display_data"
    },
    {
     "data": {
      "application/vnd.jupyter.widget-view+json": {
       "model_id": "b6d042bd4c1744a68b02ea4d555363ec",
       "version_major": 2,
       "version_minor": 0
      },
      "text/plain": [
       "Image (test):   0%|          | 0/17 [00:00<?, ?it/s]"
      ]
     },
     "metadata": {},
     "output_type": "display_data"
    },
    {
     "data": {
      "application/vnd.jupyter.widget-view+json": {
       "model_id": "c6a8fe55cea14e14ba337ccdb56fcee9",
       "version_major": 2,
       "version_minor": 0
      },
      "text/plain": [
       "Image (train):   0%|          | 0/15 [00:00<?, ?it/s]"
      ]
     },
     "metadata": {},
     "output_type": "display_data"
    },
    {
     "data": {
      "application/vnd.jupyter.widget-view+json": {
       "model_id": "8d9075564b8c41de9b14f6390fbe191e",
       "version_major": 2,
       "version_minor": 0
      },
      "text/plain": [
       "Image (test):   0%|          | 0/15 [00:00<?, ?it/s]"
      ]
     },
     "metadata": {},
     "output_type": "display_data"
    },
    {
     "data": {
      "application/vnd.jupyter.widget-view+json": {
       "model_id": "42880e5dd7cb4277a9f0d6c5ab06c1f3",
       "version_major": 2,
       "version_minor": 0
      },
      "text/plain": [
       "Image (train):   0%|          | 0/15 [00:00<?, ?it/s]"
      ]
     },
     "metadata": {},
     "output_type": "display_data"
    },
    {
     "data": {
      "application/vnd.jupyter.widget-view+json": {
       "model_id": "5fb52f86ded04589a39b298f409c6b0c",
       "version_major": 2,
       "version_minor": 0
      },
      "text/plain": [
       "Image (test):   0%|          | 0/15 [00:00<?, ?it/s]"
      ]
     },
     "metadata": {},
     "output_type": "display_data"
    },
    {
     "data": {
      "application/vnd.jupyter.widget-view+json": {
       "model_id": "a3f5503c9d594c12952cf8223cfde4cf",
       "version_major": 2,
       "version_minor": 0
      },
      "text/plain": [
       "Image (train):   0%|          | 0/13 [00:00<?, ?it/s]"
      ]
     },
     "metadata": {},
     "output_type": "display_data"
    },
    {
     "data": {
      "application/vnd.jupyter.widget-view+json": {
       "model_id": "e0246bdcc79d4be0ba7e3bb9f4e40da1",
       "version_major": 2,
       "version_minor": 0
      },
      "text/plain": [
       "Image (test):   0%|          | 0/13 [00:00<?, ?it/s]"
      ]
     },
     "metadata": {},
     "output_type": "display_data"
    },
    {
     "data": {
      "application/vnd.jupyter.widget-view+json": {
       "model_id": "e71fdefad9754e34a57a692b559f2a0c",
       "version_major": 2,
       "version_minor": 0
      },
      "text/plain": [
       "Image (train):   0%|          | 0/12 [00:00<?, ?it/s]"
      ]
     },
     "metadata": {},
     "output_type": "display_data"
    },
    {
     "data": {
      "application/vnd.jupyter.widget-view+json": {
       "model_id": "2cfa7964bcec4d3b88d73650d64bf3b6",
       "version_major": 2,
       "version_minor": 0
      },
      "text/plain": [
       "Image (test):   0%|          | 0/12 [00:00<?, ?it/s]"
      ]
     },
     "metadata": {},
     "output_type": "display_data"
    },
    {
     "data": {
      "application/vnd.jupyter.widget-view+json": {
       "model_id": "be008c039e00454884704ce8f191a591",
       "version_major": 2,
       "version_minor": 0
      },
      "text/plain": [
       "Image (train):   0%|          | 0/11 [00:00<?, ?it/s]"
      ]
     },
     "metadata": {},
     "output_type": "display_data"
    },
    {
     "data": {
      "application/vnd.jupyter.widget-view+json": {
       "model_id": "a76a37b459a4458bbc2172dc8b63ce23",
       "version_major": 2,
       "version_minor": 0
      },
      "text/plain": [
       "Image (test):   0%|          | 0/11 [00:00<?, ?it/s]"
      ]
     },
     "metadata": {},
     "output_type": "display_data"
    },
    {
     "data": {
      "application/vnd.jupyter.widget-view+json": {
       "model_id": "8eddb62183d849a4b4eb7e0f308b32d8",
       "version_major": 2,
       "version_minor": 0
      },
      "text/plain": [
       "Image (train):   0%|          | 0/10 [00:00<?, ?it/s]"
      ]
     },
     "metadata": {},
     "output_type": "display_data"
    },
    {
     "data": {
      "application/vnd.jupyter.widget-view+json": {
       "model_id": "28bb510b0b0d4d548280f39eb937d032",
       "version_major": 2,
       "version_minor": 0
      },
      "text/plain": [
       "Image (test):   0%|          | 0/10 [00:00<?, ?it/s]"
      ]
     },
     "metadata": {},
     "output_type": "display_data"
    },
    {
     "data": {
      "application/vnd.jupyter.widget-view+json": {
       "model_id": "91682c64957d452a83eb727ce4bcdd0d",
       "version_major": 2,
       "version_minor": 0
      },
      "text/plain": [
       "Image (train):   0%|          | 0/10 [00:00<?, ?it/s]"
      ]
     },
     "metadata": {},
     "output_type": "display_data"
    },
    {
     "data": {
      "application/vnd.jupyter.widget-view+json": {
       "model_id": "ce0898be3007495c8cff902d8fd056c7",
       "version_major": 2,
       "version_minor": 0
      },
      "text/plain": [
       "Image (test):   0%|          | 0/10 [00:00<?, ?it/s]"
      ]
     },
     "metadata": {},
     "output_type": "display_data"
    },
    {
     "data": {
      "application/vnd.jupyter.widget-view+json": {
       "model_id": "8674db5851ce4dfbbf0b9aaf0842e115",
       "version_major": 2,
       "version_minor": 0
      },
      "text/plain": [
       "Image (train):   0%|          | 0/9 [00:00<?, ?it/s]"
      ]
     },
     "metadata": {},
     "output_type": "display_data"
    },
    {
     "data": {
      "application/vnd.jupyter.widget-view+json": {
       "model_id": "efc0c41f01cd41d0902e65fcdc6a6e8d",
       "version_major": 2,
       "version_minor": 0
      },
      "text/plain": [
       "Image (test):   0%|          | 0/9 [00:00<?, ?it/s]"
      ]
     },
     "metadata": {},
     "output_type": "display_data"
    },
    {
     "data": {
      "application/vnd.jupyter.widget-view+json": {
       "model_id": "10bb364a0f2a4eb5bcdce31b020eaef0",
       "version_major": 2,
       "version_minor": 0
      },
      "text/plain": [
       "Image (train):   0%|          | 0/8 [00:00<?, ?it/s]"
      ]
     },
     "metadata": {},
     "output_type": "display_data"
    },
    {
     "data": {
      "application/vnd.jupyter.widget-view+json": {
       "model_id": "e311e5fa554b4fd68aeca33580105fd8",
       "version_major": 2,
       "version_minor": 0
      },
      "text/plain": [
       "Image (test):   0%|          | 0/8 [00:00<?, ?it/s]"
      ]
     },
     "metadata": {},
     "output_type": "display_data"
    },
    {
     "data": {
      "application/vnd.jupyter.widget-view+json": {
       "model_id": "9824f929ed084d409f6b1d1c0b4a82fb",
       "version_major": 2,
       "version_minor": 0
      },
      "text/plain": [
       "Attempt:   0%|          | 0/20 [00:00<?, ?it/s]"
      ]
     },
     "metadata": {},
     "output_type": "display_data"
    },
    {
     "data": {
      "application/vnd.jupyter.widget-view+json": {
       "model_id": "6a897067fb1b42ad9e2c4946996a6044",
       "version_major": 2,
       "version_minor": 0
      },
      "text/plain": [
       "Image (train):   0%|          | 0/1000 [00:00<?, ?it/s]"
      ]
     },
     "metadata": {},
     "output_type": "display_data"
    },
    {
     "data": {
      "application/vnd.jupyter.widget-view+json": {
       "model_id": "e49a4820f67c4d36a86342ed38d2da79",
       "version_major": 2,
       "version_minor": 0
      },
      "text/plain": [
       "Image (test):   0%|          | 0/1000 [00:00<?, ?it/s]"
      ]
     },
     "metadata": {},
     "output_type": "display_data"
    },
    {
     "data": {
      "application/vnd.jupyter.widget-view+json": {
       "model_id": "f541b57f4fee4385a942b30d5452b282",
       "version_major": 2,
       "version_minor": 0
      },
      "text/plain": [
       "Image (train):   0%|          | 0/19 [00:00<?, ?it/s]"
      ]
     },
     "metadata": {},
     "output_type": "display_data"
    },
    {
     "data": {
      "application/vnd.jupyter.widget-view+json": {
       "model_id": "13875c4992934246b75d266619d7de1c",
       "version_major": 2,
       "version_minor": 0
      },
      "text/plain": [
       "Image (test):   0%|          | 0/19 [00:00<?, ?it/s]"
      ]
     },
     "metadata": {},
     "output_type": "display_data"
    },
    {
     "data": {
      "application/vnd.jupyter.widget-view+json": {
       "model_id": "eceaeff5c44a48a8a7d29b55b48acf56",
       "version_major": 2,
       "version_minor": 0
      },
      "text/plain": [
       "Image (train):   0%|          | 0/18 [00:00<?, ?it/s]"
      ]
     },
     "metadata": {},
     "output_type": "display_data"
    },
    {
     "data": {
      "application/vnd.jupyter.widget-view+json": {
       "model_id": "afe6c82374a847d9b74bb17a00b17874",
       "version_major": 2,
       "version_minor": 0
      },
      "text/plain": [
       "Image (test):   0%|          | 0/18 [00:00<?, ?it/s]"
      ]
     },
     "metadata": {},
     "output_type": "display_data"
    },
    {
     "data": {
      "application/vnd.jupyter.widget-view+json": {
       "model_id": "31c0d5ca40f4469b9b98550e21183bd4",
       "version_major": 2,
       "version_minor": 0
      },
      "text/plain": [
       "Image (train):   0%|          | 0/16 [00:00<?, ?it/s]"
      ]
     },
     "metadata": {},
     "output_type": "display_data"
    },
    {
     "data": {
      "application/vnd.jupyter.widget-view+json": {
       "model_id": "3ee257e00f594e4eb3c695b97d9bf3ce",
       "version_major": 2,
       "version_minor": 0
      },
      "text/plain": [
       "Image (test):   0%|          | 0/16 [00:00<?, ?it/s]"
      ]
     },
     "metadata": {},
     "output_type": "display_data"
    },
    {
     "data": {
      "application/vnd.jupyter.widget-view+json": {
       "model_id": "75506085100e48e0b17d2f61144643c0",
       "version_major": 2,
       "version_minor": 0
      },
      "text/plain": [
       "Image (train):   0%|          | 0/13 [00:00<?, ?it/s]"
      ]
     },
     "metadata": {},
     "output_type": "display_data"
    },
    {
     "data": {
      "application/vnd.jupyter.widget-view+json": {
       "model_id": "eb76e81335c14683932e27e35271cbce",
       "version_major": 2,
       "version_minor": 0
      },
      "text/plain": [
       "Image (test):   0%|          | 0/13 [00:00<?, ?it/s]"
      ]
     },
     "metadata": {},
     "output_type": "display_data"
    },
    {
     "data": {
      "application/vnd.jupyter.widget-view+json": {
       "model_id": "628f018ba5314e4dada86d5f5947d756",
       "version_major": 2,
       "version_minor": 0
      },
      "text/plain": [
       "Image (train):   0%|          | 0/11 [00:00<?, ?it/s]"
      ]
     },
     "metadata": {},
     "output_type": "display_data"
    },
    {
     "data": {
      "application/vnd.jupyter.widget-view+json": {
       "model_id": "2811cd3e14eb46c89c528d3b6db2b7dc",
       "version_major": 2,
       "version_minor": 0
      },
      "text/plain": [
       "Image (test):   0%|          | 0/11 [00:00<?, ?it/s]"
      ]
     },
     "metadata": {},
     "output_type": "display_data"
    },
    {
     "data": {
      "application/vnd.jupyter.widget-view+json": {
       "model_id": "29625e39e442490b892fd491445594d5",
       "version_major": 2,
       "version_minor": 0
      },
      "text/plain": [
       "Image (train):   0%|          | 0/10 [00:00<?, ?it/s]"
      ]
     },
     "metadata": {},
     "output_type": "display_data"
    },
    {
     "data": {
      "application/vnd.jupyter.widget-view+json": {
       "model_id": "1dce921e1a7c47c88d881f2d1efe2c54",
       "version_major": 2,
       "version_minor": 0
      },
      "text/plain": [
       "Image (test):   0%|          | 0/10 [00:00<?, ?it/s]"
      ]
     },
     "metadata": {},
     "output_type": "display_data"
    },
    {
     "data": {
      "application/vnd.jupyter.widget-view+json": {
       "model_id": "9a4f53a68f2f48cc951afb4386a4c19a",
       "version_major": 2,
       "version_minor": 0
      },
      "text/plain": [
       "Image (train):   0%|          | 0/8 [00:00<?, ?it/s]"
      ]
     },
     "metadata": {},
     "output_type": "display_data"
    },
    {
     "data": {
      "application/vnd.jupyter.widget-view+json": {
       "model_id": "c8f46b1452eb4e57954ace695d3ac419",
       "version_major": 2,
       "version_minor": 0
      },
      "text/plain": [
       "Image (test):   0%|          | 0/8 [00:00<?, ?it/s]"
      ]
     },
     "metadata": {},
     "output_type": "display_data"
    },
    {
     "data": {
      "application/vnd.jupyter.widget-view+json": {
       "model_id": "8547b6cb632c4e819d5a55447f14487c",
       "version_major": 2,
       "version_minor": 0
      },
      "text/plain": [
       "Image (train):   0%|          | 0/7 [00:00<?, ?it/s]"
      ]
     },
     "metadata": {},
     "output_type": "display_data"
    },
    {
     "data": {
      "application/vnd.jupyter.widget-view+json": {
       "model_id": "356d5e3e00674fc7a8a51451df819834",
       "version_major": 2,
       "version_minor": 0
      },
      "text/plain": [
       "Image (test):   0%|          | 0/7 [00:00<?, ?it/s]"
      ]
     },
     "metadata": {},
     "output_type": "display_data"
    },
    {
     "data": {
      "application/vnd.jupyter.widget-view+json": {
       "model_id": "ecfe2f6ed1ee46df90337cf736950c31",
       "version_major": 2,
       "version_minor": 0
      },
      "text/plain": [
       "Image (train):   0%|          | 0/5 [00:00<?, ?it/s]"
      ]
     },
     "metadata": {},
     "output_type": "display_data"
    },
    {
     "data": {
      "application/vnd.jupyter.widget-view+json": {
       "model_id": "ccf86c2efa8343238e6c8d389bf8b4ae",
       "version_major": 2,
       "version_minor": 0
      },
      "text/plain": [
       "Image (test):   0%|          | 0/5 [00:00<?, ?it/s]"
      ]
     },
     "metadata": {},
     "output_type": "display_data"
    },
    {
     "data": {
      "application/vnd.jupyter.widget-view+json": {
       "model_id": "f0c10d4c9344467d9cf2731df8dd062b",
       "version_major": 2,
       "version_minor": 0
      },
      "text/plain": [
       "Image (train):   0%|          | 0/5 [00:00<?, ?it/s]"
      ]
     },
     "metadata": {},
     "output_type": "display_data"
    },
    {
     "data": {
      "application/vnd.jupyter.widget-view+json": {
       "model_id": "5acb7ef63c5f49b19e2af8aea915d94e",
       "version_major": 2,
       "version_minor": 0
      },
      "text/plain": [
       "Image (test):   0%|          | 0/5 [00:00<?, ?it/s]"
      ]
     },
     "metadata": {},
     "output_type": "display_data"
    },
    {
     "data": {
      "application/vnd.jupyter.widget-view+json": {
       "model_id": "f443dc4f649d47b68a4969128aebbbf5",
       "version_major": 2,
       "version_minor": 0
      },
      "text/plain": [
       "Image (train):   0%|          | 0/5 [00:00<?, ?it/s]"
      ]
     },
     "metadata": {},
     "output_type": "display_data"
    },
    {
     "data": {
      "application/vnd.jupyter.widget-view+json": {
       "model_id": "97b6d5c3583146329f02f9d34d7bb458",
       "version_major": 2,
       "version_minor": 0
      },
      "text/plain": [
       "Image (test):   0%|          | 0/5 [00:00<?, ?it/s]"
      ]
     },
     "metadata": {},
     "output_type": "display_data"
    },
    {
     "data": {
      "application/vnd.jupyter.widget-view+json": {
       "model_id": "c74670425aa54e6c9b58087a8e9bd908",
       "version_major": 2,
       "version_minor": 0
      },
      "text/plain": [
       "Image (train):   0%|          | 0/5 [00:00<?, ?it/s]"
      ]
     },
     "metadata": {},
     "output_type": "display_data"
    },
    {
     "data": {
      "application/vnd.jupyter.widget-view+json": {
       "model_id": "22594a2aa1d9468e9569fe002a002f95",
       "version_major": 2,
       "version_minor": 0
      },
      "text/plain": [
       "Image (test):   0%|          | 0/5 [00:00<?, ?it/s]"
      ]
     },
     "metadata": {},
     "output_type": "display_data"
    },
    {
     "data": {
      "application/vnd.jupyter.widget-view+json": {
       "model_id": "bd61d926046842eb8ccda9d6c42d1317",
       "version_major": 2,
       "version_minor": 0
      },
      "text/plain": [
       "Image (train):   0%|          | 0/5 [00:00<?, ?it/s]"
      ]
     },
     "metadata": {},
     "output_type": "display_data"
    },
    {
     "data": {
      "application/vnd.jupyter.widget-view+json": {
       "model_id": "75104e05e2a746b7b6aec6478a544116",
       "version_major": 2,
       "version_minor": 0
      },
      "text/plain": [
       "Image (test):   0%|          | 0/5 [00:00<?, ?it/s]"
      ]
     },
     "metadata": {},
     "output_type": "display_data"
    },
    {
     "data": {
      "application/vnd.jupyter.widget-view+json": {
       "model_id": "8d168b8448b249a388cc8f76e22cced7",
       "version_major": 2,
       "version_minor": 0
      },
      "text/plain": [
       "Image (train):   0%|          | 0/4 [00:00<?, ?it/s]"
      ]
     },
     "metadata": {},
     "output_type": "display_data"
    },
    {
     "data": {
      "application/vnd.jupyter.widget-view+json": {
       "model_id": "538cff73840b4cd3aa6d4a675c751cf2",
       "version_major": 2,
       "version_minor": 0
      },
      "text/plain": [
       "Image (test):   0%|          | 0/4 [00:00<?, ?it/s]"
      ]
     },
     "metadata": {},
     "output_type": "display_data"
    },
    {
     "data": {
      "application/vnd.jupyter.widget-view+json": {
       "model_id": "6d0954b1e64849fa8c24576a5624c8da",
       "version_major": 2,
       "version_minor": 0
      },
      "text/plain": [
       "Image (train):   0%|          | 0/3 [00:00<?, ?it/s]"
      ]
     },
     "metadata": {},
     "output_type": "display_data"
    },
    {
     "data": {
      "application/vnd.jupyter.widget-view+json": {
       "model_id": "f7fd96417c894fa3859d33c84aac357a",
       "version_major": 2,
       "version_minor": 0
      },
      "text/plain": [
       "Image (test):   0%|          | 0/3 [00:00<?, ?it/s]"
      ]
     },
     "metadata": {},
     "output_type": "display_data"
    },
    {
     "data": {
      "application/vnd.jupyter.widget-view+json": {
       "model_id": "458318d04b104f99977822fa8e8c6f6a",
       "version_major": 2,
       "version_minor": 0
      },
      "text/plain": [
       "Image (train):   0%|          | 0/2 [00:00<?, ?it/s]"
      ]
     },
     "metadata": {},
     "output_type": "display_data"
    },
    {
     "data": {
      "application/vnd.jupyter.widget-view+json": {
       "model_id": "1d994b9eb68a49f2aef065acfd3323d3",
       "version_major": 2,
       "version_minor": 0
      },
      "text/plain": [
       "Image (test):   0%|          | 0/2 [00:00<?, ?it/s]"
      ]
     },
     "metadata": {},
     "output_type": "display_data"
    },
    {
     "data": {
      "application/vnd.jupyter.widget-view+json": {
       "model_id": "196a1df88a6e47438b562ff5692497d1",
       "version_major": 2,
       "version_minor": 0
      },
      "text/plain": [
       "Image (train):   0%|          | 0/2 [00:00<?, ?it/s]"
      ]
     },
     "metadata": {},
     "output_type": "display_data"
    },
    {
     "data": {
      "application/vnd.jupyter.widget-view+json": {
       "model_id": "ba7ad75f962f4ddd9f47ae2ec938d190",
       "version_major": 2,
       "version_minor": 0
      },
      "text/plain": [
       "Image (test):   0%|          | 0/2 [00:00<?, ?it/s]"
      ]
     },
     "metadata": {},
     "output_type": "display_data"
    },
    {
     "data": {
      "application/vnd.jupyter.widget-view+json": {
       "model_id": "af57b97ebe104b489b4806a460343cf7",
       "version_major": 2,
       "version_minor": 0
      },
      "text/plain": [
       "Image (train):   0%|          | 0/2 [00:00<?, ?it/s]"
      ]
     },
     "metadata": {},
     "output_type": "display_data"
    },
    {
     "data": {
      "application/vnd.jupyter.widget-view+json": {
       "model_id": "f1ce6365a8cf4197bcf9196058054a1d",
       "version_major": 2,
       "version_minor": 0
      },
      "text/plain": [
       "Image (test):   0%|          | 0/2 [00:00<?, ?it/s]"
      ]
     },
     "metadata": {},
     "output_type": "display_data"
    },
    {
     "data": {
      "application/vnd.jupyter.widget-view+json": {
       "model_id": "045809701b7149edaea933ab9d6d8dab",
       "version_major": 2,
       "version_minor": 0
      },
      "text/plain": [
       "Image (train):   0%|          | 0/2 [00:00<?, ?it/s]"
      ]
     },
     "metadata": {},
     "output_type": "display_data"
    },
    {
     "data": {
      "application/vnd.jupyter.widget-view+json": {
       "model_id": "f94e4f349b19428f82b33938a628e7e7",
       "version_major": 2,
       "version_minor": 0
      },
      "text/plain": [
       "Image (test):   0%|          | 0/2 [00:00<?, ?it/s]"
      ]
     },
     "metadata": {},
     "output_type": "display_data"
    },
    {
     "data": {
      "application/vnd.jupyter.widget-view+json": {
       "model_id": "d243d8d17ea048ceb29786c702b4f431",
       "version_major": 2,
       "version_minor": 0
      },
      "text/plain": [
       "Attempt:   0%|          | 0/20 [00:00<?, ?it/s]"
      ]
     },
     "metadata": {},
     "output_type": "display_data"
    },
    {
     "data": {
      "application/vnd.jupyter.widget-view+json": {
       "model_id": "7973b87f3a834ee086d4250e8a6bf9b8",
       "version_major": 2,
       "version_minor": 0
      },
      "text/plain": [
       "Image (train):   0%|          | 0/1000 [00:00<?, ?it/s]"
      ]
     },
     "metadata": {},
     "output_type": "display_data"
    },
    {
     "data": {
      "application/vnd.jupyter.widget-view+json": {
       "model_id": "dc4525d803fe41caa1a44786051b2978",
       "version_major": 2,
       "version_minor": 0
      },
      "text/plain": [
       "Image (test):   0%|          | 0/1000 [00:00<?, ?it/s]"
      ]
     },
     "metadata": {},
     "output_type": "display_data"
    },
    {
     "data": {
      "application/vnd.jupyter.widget-view+json": {
       "model_id": "a79d179fd3b446a0921881719561c744",
       "version_major": 2,
       "version_minor": 0
      },
      "text/plain": [
       "Image (train):   0%|          | 0/23 [00:00<?, ?it/s]"
      ]
     },
     "metadata": {},
     "output_type": "display_data"
    },
    {
     "data": {
      "application/vnd.jupyter.widget-view+json": {
       "model_id": "5af2bc51466140b98ef36b4fa50cdc42",
       "version_major": 2,
       "version_minor": 0
      },
      "text/plain": [
       "Image (test):   0%|          | 0/23 [00:00<?, ?it/s]"
      ]
     },
     "metadata": {},
     "output_type": "display_data"
    },
    {
     "data": {
      "application/vnd.jupyter.widget-view+json": {
       "model_id": "8ea23badf6a949dc99f00726a6d575f8",
       "version_major": 2,
       "version_minor": 0
      },
      "text/plain": [
       "Image (train):   0%|          | 0/19 [00:00<?, ?it/s]"
      ]
     },
     "metadata": {},
     "output_type": "display_data"
    },
    {
     "data": {
      "application/vnd.jupyter.widget-view+json": {
       "model_id": "c82ac7e0d6164773bfd92982f99106ed",
       "version_major": 2,
       "version_minor": 0
      },
      "text/plain": [
       "Image (test):   0%|          | 0/19 [00:00<?, ?it/s]"
      ]
     },
     "metadata": {},
     "output_type": "display_data"
    },
    {
     "data": {
      "application/vnd.jupyter.widget-view+json": {
       "model_id": "01cb833252f34d6eb92ec1ee820a3537",
       "version_major": 2,
       "version_minor": 0
      },
      "text/plain": [
       "Image (train):   0%|          | 0/17 [00:00<?, ?it/s]"
      ]
     },
     "metadata": {},
     "output_type": "display_data"
    },
    {
     "data": {
      "application/vnd.jupyter.widget-view+json": {
       "model_id": "96c4eaa3749649b9b2302724f033293d",
       "version_major": 2,
       "version_minor": 0
      },
      "text/plain": [
       "Image (test):   0%|          | 0/17 [00:00<?, ?it/s]"
      ]
     },
     "metadata": {},
     "output_type": "display_data"
    },
    {
     "data": {
      "application/vnd.jupyter.widget-view+json": {
       "model_id": "c6f732ea5a3f401a8d9f84b25dbc2993",
       "version_major": 2,
       "version_minor": 0
      },
      "text/plain": [
       "Image (train):   0%|          | 0/16 [00:00<?, ?it/s]"
      ]
     },
     "metadata": {},
     "output_type": "display_data"
    },
    {
     "data": {
      "application/vnd.jupyter.widget-view+json": {
       "model_id": "3cc72aa2549a466aa586034549dd6faf",
       "version_major": 2,
       "version_minor": 0
      },
      "text/plain": [
       "Image (test):   0%|          | 0/16 [00:00<?, ?it/s]"
      ]
     },
     "metadata": {},
     "output_type": "display_data"
    },
    {
     "data": {
      "application/vnd.jupyter.widget-view+json": {
       "model_id": "0f6fe6c082254b2fb560b88cc8af5bef",
       "version_major": 2,
       "version_minor": 0
      },
      "text/plain": [
       "Image (train):   0%|          | 0/15 [00:00<?, ?it/s]"
      ]
     },
     "metadata": {},
     "output_type": "display_data"
    },
    {
     "data": {
      "application/vnd.jupyter.widget-view+json": {
       "model_id": "1e30c8c17ad649b88b924017b8e8b90f",
       "version_major": 2,
       "version_minor": 0
      },
      "text/plain": [
       "Image (test):   0%|          | 0/15 [00:00<?, ?it/s]"
      ]
     },
     "metadata": {},
     "output_type": "display_data"
    },
    {
     "data": {
      "application/vnd.jupyter.widget-view+json": {
       "model_id": "1544a5cc451d4072807430d148f31dae",
       "version_major": 2,
       "version_minor": 0
      },
      "text/plain": [
       "Image (train):   0%|          | 0/13 [00:00<?, ?it/s]"
      ]
     },
     "metadata": {},
     "output_type": "display_data"
    },
    {
     "data": {
      "application/vnd.jupyter.widget-view+json": {
       "model_id": "b6d1f64235314d24b2a734f09ed0eb13",
       "version_major": 2,
       "version_minor": 0
      },
      "text/plain": [
       "Image (test):   0%|          | 0/13 [00:00<?, ?it/s]"
      ]
     },
     "metadata": {},
     "output_type": "display_data"
    },
    {
     "data": {
      "application/vnd.jupyter.widget-view+json": {
       "model_id": "6111835a1fc740328320fafb2af16153",
       "version_major": 2,
       "version_minor": 0
      },
      "text/plain": [
       "Image (train):   0%|          | 0/12 [00:00<?, ?it/s]"
      ]
     },
     "metadata": {},
     "output_type": "display_data"
    },
    {
     "data": {
      "application/vnd.jupyter.widget-view+json": {
       "model_id": "34bbc2510f874809a44b84f1994d73aa",
       "version_major": 2,
       "version_minor": 0
      },
      "text/plain": [
       "Image (test):   0%|          | 0/12 [00:00<?, ?it/s]"
      ]
     },
     "metadata": {},
     "output_type": "display_data"
    },
    {
     "data": {
      "application/vnd.jupyter.widget-view+json": {
       "model_id": "2eca87d83dfd49e09c0d86112b4a128f",
       "version_major": 2,
       "version_minor": 0
      },
      "text/plain": [
       "Image (train):   0%|          | 0/11 [00:00<?, ?it/s]"
      ]
     },
     "metadata": {},
     "output_type": "display_data"
    },
    {
     "data": {
      "application/vnd.jupyter.widget-view+json": {
       "model_id": "8b6065764e354b77b6dade9ae09bccec",
       "version_major": 2,
       "version_minor": 0
      },
      "text/plain": [
       "Image (test):   0%|          | 0/11 [00:00<?, ?it/s]"
      ]
     },
     "metadata": {},
     "output_type": "display_data"
    },
    {
     "data": {
      "application/vnd.jupyter.widget-view+json": {
       "model_id": "3c07e3d53ea04e85bc48d7cdbac1786c",
       "version_major": 2,
       "version_minor": 0
      },
      "text/plain": [
       "Image (train):   0%|          | 0/10 [00:00<?, ?it/s]"
      ]
     },
     "metadata": {},
     "output_type": "display_data"
    },
    {
     "data": {
      "application/vnd.jupyter.widget-view+json": {
       "model_id": "7cc15d5840f748de9b75a1ad05bb3ece",
       "version_major": 2,
       "version_minor": 0
      },
      "text/plain": [
       "Image (test):   0%|          | 0/10 [00:00<?, ?it/s]"
      ]
     },
     "metadata": {},
     "output_type": "display_data"
    },
    {
     "data": {
      "application/vnd.jupyter.widget-view+json": {
       "model_id": "25b9e6e8d82c4d7ea442dda41762d211",
       "version_major": 2,
       "version_minor": 0
      },
      "text/plain": [
       "Image (train):   0%|          | 0/10 [00:00<?, ?it/s]"
      ]
     },
     "metadata": {},
     "output_type": "display_data"
    },
    {
     "data": {
      "application/vnd.jupyter.widget-view+json": {
       "model_id": "5fd82fb241644085b4e485c3a472eef2",
       "version_major": 2,
       "version_minor": 0
      },
      "text/plain": [
       "Image (test):   0%|          | 0/10 [00:00<?, ?it/s]"
      ]
     },
     "metadata": {},
     "output_type": "display_data"
    },
    {
     "data": {
      "application/vnd.jupyter.widget-view+json": {
       "model_id": "b945ecf5e8f145e7adcc31a28335d8f2",
       "version_major": 2,
       "version_minor": 0
      },
      "text/plain": [
       "Image (train):   0%|          | 0/10 [00:00<?, ?it/s]"
      ]
     },
     "metadata": {},
     "output_type": "display_data"
    },
    {
     "data": {
      "application/vnd.jupyter.widget-view+json": {
       "model_id": "b335e5cdfea84e04a1fad647e15909be",
       "version_major": 2,
       "version_minor": 0
      },
      "text/plain": [
       "Image (test):   0%|          | 0/10 [00:00<?, ?it/s]"
      ]
     },
     "metadata": {},
     "output_type": "display_data"
    },
    {
     "data": {
      "application/vnd.jupyter.widget-view+json": {
       "model_id": "d4149964ec5449c882006ec729db3135",
       "version_major": 2,
       "version_minor": 0
      },
      "text/plain": [
       "Image (train):   0%|          | 0/8 [00:00<?, ?it/s]"
      ]
     },
     "metadata": {},
     "output_type": "display_data"
    },
    {
     "data": {
      "application/vnd.jupyter.widget-view+json": {
       "model_id": "57ba0c9d96be457c85dece8db204a43b",
       "version_major": 2,
       "version_minor": 0
      },
      "text/plain": [
       "Image (test):   0%|          | 0/8 [00:00<?, ?it/s]"
      ]
     },
     "metadata": {},
     "output_type": "display_data"
    },
    {
     "data": {
      "application/vnd.jupyter.widget-view+json": {
       "model_id": "8c2aa4af46a546859e31a2b24b39bc4b",
       "version_major": 2,
       "version_minor": 0
      },
      "text/plain": [
       "Image (train):   0%|          | 0/8 [00:00<?, ?it/s]"
      ]
     },
     "metadata": {},
     "output_type": "display_data"
    },
    {
     "data": {
      "application/vnd.jupyter.widget-view+json": {
       "model_id": "1dc5eca9d17a42b5933fe4f8c2be7735",
       "version_major": 2,
       "version_minor": 0
      },
      "text/plain": [
       "Image (test):   0%|          | 0/8 [00:00<?, ?it/s]"
      ]
     },
     "metadata": {},
     "output_type": "display_data"
    },
    {
     "data": {
      "application/vnd.jupyter.widget-view+json": {
       "model_id": "8e7a5eee2a0c47eda73b9feb31896472",
       "version_major": 2,
       "version_minor": 0
      },
      "text/plain": [
       "Image (train):   0%|          | 0/7 [00:00<?, ?it/s]"
      ]
     },
     "metadata": {},
     "output_type": "display_data"
    },
    {
     "data": {
      "application/vnd.jupyter.widget-view+json": {
       "model_id": "95cd4c7da0b84bd6a210514508b3788f",
       "version_major": 2,
       "version_minor": 0
      },
      "text/plain": [
       "Image (test):   0%|          | 0/7 [00:00<?, ?it/s]"
      ]
     },
     "metadata": {},
     "output_type": "display_data"
    },
    {
     "data": {
      "application/vnd.jupyter.widget-view+json": {
       "model_id": "17fab99a386243088fb36697afd557a9",
       "version_major": 2,
       "version_minor": 0
      },
      "text/plain": [
       "Image (train):   0%|          | 0/7 [00:00<?, ?it/s]"
      ]
     },
     "metadata": {},
     "output_type": "display_data"
    },
    {
     "data": {
      "application/vnd.jupyter.widget-view+json": {
       "model_id": "62918de99cab4fd28aad1a7ea0f13e14",
       "version_major": 2,
       "version_minor": 0
      },
      "text/plain": [
       "Image (test):   0%|          | 0/7 [00:00<?, ?it/s]"
      ]
     },
     "metadata": {},
     "output_type": "display_data"
    },
    {
     "data": {
      "application/vnd.jupyter.widget-view+json": {
       "model_id": "57adfec6387148b0b25cbf1860d92601",
       "version_major": 2,
       "version_minor": 0
      },
      "text/plain": [
       "Image (train):   0%|          | 0/5 [00:00<?, ?it/s]"
      ]
     },
     "metadata": {},
     "output_type": "display_data"
    },
    {
     "data": {
      "application/vnd.jupyter.widget-view+json": {
       "model_id": "1c9b64382a454761b079cd57ab689bc7",
       "version_major": 2,
       "version_minor": 0
      },
      "text/plain": [
       "Image (test):   0%|          | 0/5 [00:00<?, ?it/s]"
      ]
     },
     "metadata": {},
     "output_type": "display_data"
    },
    {
     "data": {
      "application/vnd.jupyter.widget-view+json": {
       "model_id": "e2fee6ca484c4ba39cdcd4801242fd8d",
       "version_major": 2,
       "version_minor": 0
      },
      "text/plain": [
       "Image (train):   0%|          | 0/5 [00:00<?, ?it/s]"
      ]
     },
     "metadata": {},
     "output_type": "display_data"
    },
    {
     "data": {
      "application/vnd.jupyter.widget-view+json": {
       "model_id": "974832a9a0d74a77a5923cbea6d59e27",
       "version_major": 2,
       "version_minor": 0
      },
      "text/plain": [
       "Image (test):   0%|          | 0/5 [00:00<?, ?it/s]"
      ]
     },
     "metadata": {},
     "output_type": "display_data"
    },
    {
     "data": {
      "application/vnd.jupyter.widget-view+json": {
       "model_id": "d047e1fb027648c2aaa04b5b3e862534",
       "version_major": 2,
       "version_minor": 0
      },
      "text/plain": [
       "Image (train):   0%|          | 0/5 [00:00<?, ?it/s]"
      ]
     },
     "metadata": {},
     "output_type": "display_data"
    },
    {
     "data": {
      "application/vnd.jupyter.widget-view+json": {
       "model_id": "6cbb21bc1ae146b6847798bcd1c23d14",
       "version_major": 2,
       "version_minor": 0
      },
      "text/plain": [
       "Image (test):   0%|          | 0/5 [00:00<?, ?it/s]"
      ]
     },
     "metadata": {},
     "output_type": "display_data"
    },
    {
     "data": {
      "application/vnd.jupyter.widget-view+json": {
       "model_id": "009e7dca28a048d49a85ec5c29f7032b",
       "version_major": 2,
       "version_minor": 0
      },
      "text/plain": [
       "Image (train):   0%|          | 0/5 [00:00<?, ?it/s]"
      ]
     },
     "metadata": {},
     "output_type": "display_data"
    },
    {
     "data": {
      "application/vnd.jupyter.widget-view+json": {
       "model_id": "e6bec14ce4574795803da52a0eaf0169",
       "version_major": 2,
       "version_minor": 0
      },
      "text/plain": [
       "Image (test):   0%|          | 0/5 [00:00<?, ?it/s]"
      ]
     },
     "metadata": {},
     "output_type": "display_data"
    },
    {
     "data": {
      "application/vnd.jupyter.widget-view+json": {
       "model_id": "1f7c3fd6c840429593479e4f46ca314f",
       "version_major": 2,
       "version_minor": 0
      },
      "text/plain": [
       "Attempt:   0%|          | 0/20 [00:00<?, ?it/s]"
      ]
     },
     "metadata": {},
     "output_type": "display_data"
    },
    {
     "data": {
      "application/vnd.jupyter.widget-view+json": {
       "model_id": "ff3ffd7647e9447094a6be7815b2ff67",
       "version_major": 2,
       "version_minor": 0
      },
      "text/plain": [
       "Image (train):   0%|          | 0/1000 [00:00<?, ?it/s]"
      ]
     },
     "metadata": {},
     "output_type": "display_data"
    },
    {
     "data": {
      "application/vnd.jupyter.widget-view+json": {
       "model_id": "02580aa1a5e7446fbf612ba5d84818c4",
       "version_major": 2,
       "version_minor": 0
      },
      "text/plain": [
       "Image (test):   0%|          | 0/1000 [00:00<?, ?it/s]"
      ]
     },
     "metadata": {},
     "output_type": "display_data"
    },
    {
     "data": {
      "application/vnd.jupyter.widget-view+json": {
       "model_id": "26cf8d65993847e2bd6c80a9f997bb9f",
       "version_major": 2,
       "version_minor": 0
      },
      "text/plain": [
       "Image (train):   0%|          | 0/27 [00:00<?, ?it/s]"
      ]
     },
     "metadata": {},
     "output_type": "display_data"
    },
    {
     "data": {
      "application/vnd.jupyter.widget-view+json": {
       "model_id": "d1d27bd119d74d9a83efadb42539a19c",
       "version_major": 2,
       "version_minor": 0
      },
      "text/plain": [
       "Image (test):   0%|          | 0/27 [00:00<?, ?it/s]"
      ]
     },
     "metadata": {},
     "output_type": "display_data"
    },
    {
     "data": {
      "application/vnd.jupyter.widget-view+json": {
       "model_id": "f3926c23f7ca46f9a5626b0eff866552",
       "version_major": 2,
       "version_minor": 0
      },
      "text/plain": [
       "Image (train):   0%|          | 0/22 [00:00<?, ?it/s]"
      ]
     },
     "metadata": {},
     "output_type": "display_data"
    },
    {
     "data": {
      "application/vnd.jupyter.widget-view+json": {
       "model_id": "85d8b8cbb95e4239a2893b39bc07975a",
       "version_major": 2,
       "version_minor": 0
      },
      "text/plain": [
       "Image (test):   0%|          | 0/22 [00:00<?, ?it/s]"
      ]
     },
     "metadata": {},
     "output_type": "display_data"
    },
    {
     "data": {
      "application/vnd.jupyter.widget-view+json": {
       "model_id": "68e9bf8317f045839dee5c4822cd5c13",
       "version_major": 2,
       "version_minor": 0
      },
      "text/plain": [
       "Image (train):   0%|          | 0/19 [00:00<?, ?it/s]"
      ]
     },
     "metadata": {},
     "output_type": "display_data"
    },
    {
     "data": {
      "application/vnd.jupyter.widget-view+json": {
       "model_id": "2bb18f68bc6c45c9812aad4ce9ee08d8",
       "version_major": 2,
       "version_minor": 0
      },
      "text/plain": [
       "Image (test):   0%|          | 0/19 [00:00<?, ?it/s]"
      ]
     },
     "metadata": {},
     "output_type": "display_data"
    },
    {
     "data": {
      "application/vnd.jupyter.widget-view+json": {
       "model_id": "a731283d7c534fdc8f6a21f6658f46fe",
       "version_major": 2,
       "version_minor": 0
      },
      "text/plain": [
       "Image (train):   0%|          | 0/19 [00:00<?, ?it/s]"
      ]
     },
     "metadata": {},
     "output_type": "display_data"
    },
    {
     "data": {
      "application/vnd.jupyter.widget-view+json": {
       "model_id": "9c0f3d0b9a9c4635a316384d2217d681",
       "version_major": 2,
       "version_minor": 0
      },
      "text/plain": [
       "Image (test):   0%|          | 0/19 [00:00<?, ?it/s]"
      ]
     },
     "metadata": {},
     "output_type": "display_data"
    },
    {
     "data": {
      "application/vnd.jupyter.widget-view+json": {
       "model_id": "ca7d32bc67ab453584e9b4f43e8bc31d",
       "version_major": 2,
       "version_minor": 0
      },
      "text/plain": [
       "Image (train):   0%|          | 0/19 [00:00<?, ?it/s]"
      ]
     },
     "metadata": {},
     "output_type": "display_data"
    },
    {
     "data": {
      "application/vnd.jupyter.widget-view+json": {
       "model_id": "6701a77fc3124ea8a0ea85b72a8fca1c",
       "version_major": 2,
       "version_minor": 0
      },
      "text/plain": [
       "Image (test):   0%|          | 0/19 [00:00<?, ?it/s]"
      ]
     },
     "metadata": {},
     "output_type": "display_data"
    },
    {
     "data": {
      "application/vnd.jupyter.widget-view+json": {
       "model_id": "6d2b947de510468887c1e8e44bdcee4b",
       "version_major": 2,
       "version_minor": 0
      },
      "text/plain": [
       "Image (train):   0%|          | 0/18 [00:00<?, ?it/s]"
      ]
     },
     "metadata": {},
     "output_type": "display_data"
    },
    {
     "data": {
      "application/vnd.jupyter.widget-view+json": {
       "model_id": "3a36fe57646f448a95fa42a55062f813",
       "version_major": 2,
       "version_minor": 0
      },
      "text/plain": [
       "Image (test):   0%|          | 0/18 [00:00<?, ?it/s]"
      ]
     },
     "metadata": {},
     "output_type": "display_data"
    },
    {
     "data": {
      "application/vnd.jupyter.widget-view+json": {
       "model_id": "6d17d28efa924fecb6b8aadcf1d2abe7",
       "version_major": 2,
       "version_minor": 0
      },
      "text/plain": [
       "Image (train):   0%|          | 0/18 [00:00<?, ?it/s]"
      ]
     },
     "metadata": {},
     "output_type": "display_data"
    },
    {
     "data": {
      "application/vnd.jupyter.widget-view+json": {
       "model_id": "eae97998aa4d40cca2e0412d8523dd0f",
       "version_major": 2,
       "version_minor": 0
      },
      "text/plain": [
       "Image (test):   0%|          | 0/18 [00:00<?, ?it/s]"
      ]
     },
     "metadata": {},
     "output_type": "display_data"
    },
    {
     "data": {
      "application/vnd.jupyter.widget-view+json": {
       "model_id": "451ba0b221a74278a107b235e26eae8e",
       "version_major": 2,
       "version_minor": 0
      },
      "text/plain": [
       "Image (train):   0%|          | 0/16 [00:00<?, ?it/s]"
      ]
     },
     "metadata": {},
     "output_type": "display_data"
    },
    {
     "data": {
      "application/vnd.jupyter.widget-view+json": {
       "model_id": "ff3cad1cc83040a19c006d4bb3d0655f",
       "version_major": 2,
       "version_minor": 0
      },
      "text/plain": [
       "Image (test):   0%|          | 0/16 [00:00<?, ?it/s]"
      ]
     },
     "metadata": {},
     "output_type": "display_data"
    },
    {
     "data": {
      "application/vnd.jupyter.widget-view+json": {
       "model_id": "50c9200a6dfa44698c2d6759ed699d1d",
       "version_major": 2,
       "version_minor": 0
      },
      "text/plain": [
       "Image (train):   0%|          | 0/16 [00:00<?, ?it/s]"
      ]
     },
     "metadata": {},
     "output_type": "display_data"
    },
    {
     "data": {
      "application/vnd.jupyter.widget-view+json": {
       "model_id": "516bca76d2b04bcaad30ac869736f73f",
       "version_major": 2,
       "version_minor": 0
      },
      "text/plain": [
       "Image (test):   0%|          | 0/16 [00:00<?, ?it/s]"
      ]
     },
     "metadata": {},
     "output_type": "display_data"
    },
    {
     "data": {
      "application/vnd.jupyter.widget-view+json": {
       "model_id": "73305103169240959cd8b8e95e40698b",
       "version_major": 2,
       "version_minor": 0
      },
      "text/plain": [
       "Image (train):   0%|          | 0/15 [00:00<?, ?it/s]"
      ]
     },
     "metadata": {},
     "output_type": "display_data"
    },
    {
     "data": {
      "application/vnd.jupyter.widget-view+json": {
       "model_id": "d680dd5b26f04af1b3fe8b1f84c7274b",
       "version_major": 2,
       "version_minor": 0
      },
      "text/plain": [
       "Image (test):   0%|          | 0/15 [00:00<?, ?it/s]"
      ]
     },
     "metadata": {},
     "output_type": "display_data"
    },
    {
     "data": {
      "application/vnd.jupyter.widget-view+json": {
       "model_id": "1d8e731233784350b7dea85a5196eef2",
       "version_major": 2,
       "version_minor": 0
      },
      "text/plain": [
       "Image (train):   0%|          | 0/14 [00:00<?, ?it/s]"
      ]
     },
     "metadata": {},
     "output_type": "display_data"
    },
    {
     "data": {
      "application/vnd.jupyter.widget-view+json": {
       "model_id": "2e23601ed7c84a47b682ae4a73949ade",
       "version_major": 2,
       "version_minor": 0
      },
      "text/plain": [
       "Image (test):   0%|          | 0/14 [00:00<?, ?it/s]"
      ]
     },
     "metadata": {},
     "output_type": "display_data"
    },
    {
     "data": {
      "application/vnd.jupyter.widget-view+json": {
       "model_id": "bb8f3e28ca3748f8af3cc3745660daae",
       "version_major": 2,
       "version_minor": 0
      },
      "text/plain": [
       "Image (train):   0%|          | 0/14 [00:00<?, ?it/s]"
      ]
     },
     "metadata": {},
     "output_type": "display_data"
    },
    {
     "data": {
      "application/vnd.jupyter.widget-view+json": {
       "model_id": "39ccbc8cba804f99b04d0c70db5b7547",
       "version_major": 2,
       "version_minor": 0
      },
      "text/plain": [
       "Image (test):   0%|          | 0/14 [00:00<?, ?it/s]"
      ]
     },
     "metadata": {},
     "output_type": "display_data"
    },
    {
     "data": {
      "application/vnd.jupyter.widget-view+json": {
       "model_id": "a2e35adf195e4988ad2b28e2a5a0eac9",
       "version_major": 2,
       "version_minor": 0
      },
      "text/plain": [
       "Image (train):   0%|          | 0/14 [00:00<?, ?it/s]"
      ]
     },
     "metadata": {},
     "output_type": "display_data"
    },
    {
     "data": {
      "application/vnd.jupyter.widget-view+json": {
       "model_id": "f8daa980f77147d8a132d0d913b00bdc",
       "version_major": 2,
       "version_minor": 0
      },
      "text/plain": [
       "Image (test):   0%|          | 0/14 [00:00<?, ?it/s]"
      ]
     },
     "metadata": {},
     "output_type": "display_data"
    },
    {
     "data": {
      "application/vnd.jupyter.widget-view+json": {
       "model_id": "37a2063dc12f410eb6d32e06ce67c40f",
       "version_major": 2,
       "version_minor": 0
      },
      "text/plain": [
       "Image (train):   0%|          | 0/12 [00:00<?, ?it/s]"
      ]
     },
     "metadata": {},
     "output_type": "display_data"
    },
    {
     "data": {
      "application/vnd.jupyter.widget-view+json": {
       "model_id": "fd8ef53bafec4d609170a74ffbb9b401",
       "version_major": 2,
       "version_minor": 0
      },
      "text/plain": [
       "Image (test):   0%|          | 0/12 [00:00<?, ?it/s]"
      ]
     },
     "metadata": {},
     "output_type": "display_data"
    },
    {
     "data": {
      "application/vnd.jupyter.widget-view+json": {
       "model_id": "45e8445f76b44d1d864a2928c0e50482",
       "version_major": 2,
       "version_minor": 0
      },
      "text/plain": [
       "Image (train):   0%|          | 0/12 [00:00<?, ?it/s]"
      ]
     },
     "metadata": {},
     "output_type": "display_data"
    },
    {
     "data": {
      "application/vnd.jupyter.widget-view+json": {
       "model_id": "b852ef5378894986a3e1a93e9f3f3d34",
       "version_major": 2,
       "version_minor": 0
      },
      "text/plain": [
       "Image (test):   0%|          | 0/12 [00:00<?, ?it/s]"
      ]
     },
     "metadata": {},
     "output_type": "display_data"
    },
    {
     "data": {
      "application/vnd.jupyter.widget-view+json": {
       "model_id": "b9f51c0ee9cf4174b34c4d7b988f221b",
       "version_major": 2,
       "version_minor": 0
      },
      "text/plain": [
       "Image (train):   0%|          | 0/12 [00:00<?, ?it/s]"
      ]
     },
     "metadata": {},
     "output_type": "display_data"
    },
    {
     "data": {
      "application/vnd.jupyter.widget-view+json": {
       "model_id": "8d770e74fd7f47af92f880504bbbc7e0",
       "version_major": 2,
       "version_minor": 0
      },
      "text/plain": [
       "Image (test):   0%|          | 0/12 [00:00<?, ?it/s]"
      ]
     },
     "metadata": {},
     "output_type": "display_data"
    },
    {
     "data": {
      "application/vnd.jupyter.widget-view+json": {
       "model_id": "71173c144c014d4c8f7455528c6325c0",
       "version_major": 2,
       "version_minor": 0
      },
      "text/plain": [
       "Image (train):   0%|          | 0/12 [00:00<?, ?it/s]"
      ]
     },
     "metadata": {},
     "output_type": "display_data"
    },
    {
     "data": {
      "application/vnd.jupyter.widget-view+json": {
       "model_id": "4a59328b14094c69a8e8110e3d2b928a",
       "version_major": 2,
       "version_minor": 0
      },
      "text/plain": [
       "Image (test):   0%|          | 0/12 [00:00<?, ?it/s]"
      ]
     },
     "metadata": {},
     "output_type": "display_data"
    },
    {
     "data": {
      "application/vnd.jupyter.widget-view+json": {
       "model_id": "b169c4e2652f478bb2bde6cacc5e13d7",
       "version_major": 2,
       "version_minor": 0
      },
      "text/plain": [
       "Image (train):   0%|          | 0/11 [00:00<?, ?it/s]"
      ]
     },
     "metadata": {},
     "output_type": "display_data"
    },
    {
     "data": {
      "application/vnd.jupyter.widget-view+json": {
       "model_id": "6ae6eba55d4047c38547f2727293207a",
       "version_major": 2,
       "version_minor": 0
      },
      "text/plain": [
       "Image (test):   0%|          | 0/11 [00:00<?, ?it/s]"
      ]
     },
     "metadata": {},
     "output_type": "display_data"
    },
    {
     "data": {
      "application/vnd.jupyter.widget-view+json": {
       "model_id": "543e216bb17246cdbd482f895306b629",
       "version_major": 2,
       "version_minor": 0
      },
      "text/plain": [
       "Image (train):   0%|          | 0/11 [00:00<?, ?it/s]"
      ]
     },
     "metadata": {},
     "output_type": "display_data"
    },
    {
     "data": {
      "application/vnd.jupyter.widget-view+json": {
       "model_id": "a14ad36502774799a683c36182d79107",
       "version_major": 2,
       "version_minor": 0
      },
      "text/plain": [
       "Image (test):   0%|          | 0/11 [00:00<?, ?it/s]"
      ]
     },
     "metadata": {},
     "output_type": "display_data"
    },
    {
     "data": {
      "application/vnd.jupyter.widget-view+json": {
       "model_id": "4782650fe0cc474fb11659d9134076a2",
       "version_major": 2,
       "version_minor": 0
      },
      "text/plain": [
       "Attempt:   0%|          | 0/20 [00:00<?, ?it/s]"
      ]
     },
     "metadata": {},
     "output_type": "display_data"
    },
    {
     "data": {
      "application/vnd.jupyter.widget-view+json": {
       "model_id": "aa2956932e404b8a869227cb00bed85d",
       "version_major": 2,
       "version_minor": 0
      },
      "text/plain": [
       "Image (train):   0%|          | 0/1000 [00:00<?, ?it/s]"
      ]
     },
     "metadata": {},
     "output_type": "display_data"
    },
    {
     "data": {
      "application/vnd.jupyter.widget-view+json": {
       "model_id": "f8c964e668064734b802057797a44d8b",
       "version_major": 2,
       "version_minor": 0
      },
      "text/plain": [
       "Image (test):   0%|          | 0/1000 [00:00<?, ?it/s]"
      ]
     },
     "metadata": {},
     "output_type": "display_data"
    },
    {
     "data": {
      "application/vnd.jupyter.widget-view+json": {
       "model_id": "4b02b160fe1c43abbd1e768e32863bf0",
       "version_major": 2,
       "version_minor": 0
      },
      "text/plain": [
       "Image (train):   0%|          | 0/22 [00:00<?, ?it/s]"
      ]
     },
     "metadata": {},
     "output_type": "display_data"
    },
    {
     "data": {
      "application/vnd.jupyter.widget-view+json": {
       "model_id": "ce3c9cf0944b405bbe6a7e6192958968",
       "version_major": 2,
       "version_minor": 0
      },
      "text/plain": [
       "Image (test):   0%|          | 0/22 [00:00<?, ?it/s]"
      ]
     },
     "metadata": {},
     "output_type": "display_data"
    },
    {
     "data": {
      "application/vnd.jupyter.widget-view+json": {
       "model_id": "fbdeb2041cf24c7492fb1ddc0f443f6e",
       "version_major": 2,
       "version_minor": 0
      },
      "text/plain": [
       "Image (train):   0%|          | 0/19 [00:00<?, ?it/s]"
      ]
     },
     "metadata": {},
     "output_type": "display_data"
    },
    {
     "data": {
      "application/vnd.jupyter.widget-view+json": {
       "model_id": "0e2f25e9546242c38bf1ad3c14b29158",
       "version_major": 2,
       "version_minor": 0
      },
      "text/plain": [
       "Image (test):   0%|          | 0/19 [00:00<?, ?it/s]"
      ]
     },
     "metadata": {},
     "output_type": "display_data"
    },
    {
     "data": {
      "application/vnd.jupyter.widget-view+json": {
       "model_id": "c6d5def7982747e39b65bc55778a7d75",
       "version_major": 2,
       "version_minor": 0
      },
      "text/plain": [
       "Image (train):   0%|          | 0/18 [00:00<?, ?it/s]"
      ]
     },
     "metadata": {},
     "output_type": "display_data"
    },
    {
     "data": {
      "application/vnd.jupyter.widget-view+json": {
       "model_id": "0530d0cc94d743ec8b34acf0a541baa5",
       "version_major": 2,
       "version_minor": 0
      },
      "text/plain": [
       "Image (test):   0%|          | 0/18 [00:00<?, ?it/s]"
      ]
     },
     "metadata": {},
     "output_type": "display_data"
    },
    {
     "data": {
      "application/vnd.jupyter.widget-view+json": {
       "model_id": "3e9575863ea141309fcca47e13b126c3",
       "version_major": 2,
       "version_minor": 0
      },
      "text/plain": [
       "Image (train):   0%|          | 0/18 [00:00<?, ?it/s]"
      ]
     },
     "metadata": {},
     "output_type": "display_data"
    },
    {
     "data": {
      "application/vnd.jupyter.widget-view+json": {
       "model_id": "306da6af46674082816420583e6aba72",
       "version_major": 2,
       "version_minor": 0
      },
      "text/plain": [
       "Image (test):   0%|          | 0/18 [00:00<?, ?it/s]"
      ]
     },
     "metadata": {},
     "output_type": "display_data"
    },
    {
     "data": {
      "application/vnd.jupyter.widget-view+json": {
       "model_id": "9113b7b7027d492a9409bc2b43f0563e",
       "version_major": 2,
       "version_minor": 0
      },
      "text/plain": [
       "Image (train):   0%|          | 0/18 [00:00<?, ?it/s]"
      ]
     },
     "metadata": {},
     "output_type": "display_data"
    },
    {
     "data": {
      "application/vnd.jupyter.widget-view+json": {
       "model_id": "1797a60b94b34e67afc14b9d63a27b1f",
       "version_major": 2,
       "version_minor": 0
      },
      "text/plain": [
       "Image (test):   0%|          | 0/18 [00:00<?, ?it/s]"
      ]
     },
     "metadata": {},
     "output_type": "display_data"
    },
    {
     "data": {
      "application/vnd.jupyter.widget-view+json": {
       "model_id": "9410cde41ff0433a98ec14f7b51e7ced",
       "version_major": 2,
       "version_minor": 0
      },
      "text/plain": [
       "Image (train):   0%|          | 0/18 [00:00<?, ?it/s]"
      ]
     },
     "metadata": {},
     "output_type": "display_data"
    },
    {
     "data": {
      "application/vnd.jupyter.widget-view+json": {
       "model_id": "5875aa61f06a483ea535ce2d07da8dab",
       "version_major": 2,
       "version_minor": 0
      },
      "text/plain": [
       "Image (test):   0%|          | 0/18 [00:00<?, ?it/s]"
      ]
     },
     "metadata": {},
     "output_type": "display_data"
    },
    {
     "data": {
      "application/vnd.jupyter.widget-view+json": {
       "model_id": "add996a3c0a5456f812ccbb8fe18b241",
       "version_major": 2,
       "version_minor": 0
      },
      "text/plain": [
       "Image (train):   0%|          | 0/16 [00:00<?, ?it/s]"
      ]
     },
     "metadata": {},
     "output_type": "display_data"
    },
    {
     "data": {
      "application/vnd.jupyter.widget-view+json": {
       "model_id": "2f0226c03fd743f0a4b5f26587177b6f",
       "version_major": 2,
       "version_minor": 0
      },
      "text/plain": [
       "Image (test):   0%|          | 0/16 [00:00<?, ?it/s]"
      ]
     },
     "metadata": {},
     "output_type": "display_data"
    },
    {
     "data": {
      "application/vnd.jupyter.widget-view+json": {
       "model_id": "39946ffb096c457583a70e3367a8d627",
       "version_major": 2,
       "version_minor": 0
      },
      "text/plain": [
       "Image (train):   0%|          | 0/14 [00:00<?, ?it/s]"
      ]
     },
     "metadata": {},
     "output_type": "display_data"
    },
    {
     "data": {
      "application/vnd.jupyter.widget-view+json": {
       "model_id": "eff0d6c37058442f9104c615e3ef061b",
       "version_major": 2,
       "version_minor": 0
      },
      "text/plain": [
       "Image (test):   0%|          | 0/14 [00:00<?, ?it/s]"
      ]
     },
     "metadata": {},
     "output_type": "display_data"
    },
    {
     "data": {
      "application/vnd.jupyter.widget-view+json": {
       "model_id": "44b5efa6aa614e798eefa345f414af7f",
       "version_major": 2,
       "version_minor": 0
      },
      "text/plain": [
       "Image (train):   0%|          | 0/12 [00:00<?, ?it/s]"
      ]
     },
     "metadata": {},
     "output_type": "display_data"
    },
    {
     "data": {
      "application/vnd.jupyter.widget-view+json": {
       "model_id": "dcbb2828300745168a47a6f0231c678f",
       "version_major": 2,
       "version_minor": 0
      },
      "text/plain": [
       "Image (test):   0%|          | 0/12 [00:00<?, ?it/s]"
      ]
     },
     "metadata": {},
     "output_type": "display_data"
    },
    {
     "data": {
      "application/vnd.jupyter.widget-view+json": {
       "model_id": "944e4e6065d84131af7e37055e5b4d9e",
       "version_major": 2,
       "version_minor": 0
      },
      "text/plain": [
       "Image (train):   0%|          | 0/12 [00:00<?, ?it/s]"
      ]
     },
     "metadata": {},
     "output_type": "display_data"
    },
    {
     "data": {
      "application/vnd.jupyter.widget-view+json": {
       "model_id": "1f1c6a39facc43e589eb99c2b01cd79a",
       "version_major": 2,
       "version_minor": 0
      },
      "text/plain": [
       "Image (test):   0%|          | 0/12 [00:00<?, ?it/s]"
      ]
     },
     "metadata": {},
     "output_type": "display_data"
    },
    {
     "data": {
      "application/vnd.jupyter.widget-view+json": {
       "model_id": "c62a1874531b4778b4b836aa8648b975",
       "version_major": 2,
       "version_minor": 0
      },
      "text/plain": [
       "Image (train):   0%|          | 0/9 [00:00<?, ?it/s]"
      ]
     },
     "metadata": {},
     "output_type": "display_data"
    },
    {
     "data": {
      "application/vnd.jupyter.widget-view+json": {
       "model_id": "bbbff09e057f4be590b0b1fde2c8b1b7",
       "version_major": 2,
       "version_minor": 0
      },
      "text/plain": [
       "Image (test):   0%|          | 0/9 [00:00<?, ?it/s]"
      ]
     },
     "metadata": {},
     "output_type": "display_data"
    },
    {
     "data": {
      "application/vnd.jupyter.widget-view+json": {
       "model_id": "0d6ca4a74230440c92d0839f0640bb61",
       "version_major": 2,
       "version_minor": 0
      },
      "text/plain": [
       "Image (train):   0%|          | 0/8 [00:00<?, ?it/s]"
      ]
     },
     "metadata": {},
     "output_type": "display_data"
    },
    {
     "data": {
      "application/vnd.jupyter.widget-view+json": {
       "model_id": "616ca84621d9408bbdbb85d94089c107",
       "version_major": 2,
       "version_minor": 0
      },
      "text/plain": [
       "Image (test):   0%|          | 0/8 [00:00<?, ?it/s]"
      ]
     },
     "metadata": {},
     "output_type": "display_data"
    },
    {
     "data": {
      "application/vnd.jupyter.widget-view+json": {
       "model_id": "edbbffdfc9d34a61a390826a06e4ef78",
       "version_major": 2,
       "version_minor": 0
      },
      "text/plain": [
       "Image (train):   0%|          | 0/6 [00:00<?, ?it/s]"
      ]
     },
     "metadata": {},
     "output_type": "display_data"
    },
    {
     "data": {
      "application/vnd.jupyter.widget-view+json": {
       "model_id": "6d653a1157d640699434d8dfbcbd801c",
       "version_major": 2,
       "version_minor": 0
      },
      "text/plain": [
       "Image (test):   0%|          | 0/6 [00:00<?, ?it/s]"
      ]
     },
     "metadata": {},
     "output_type": "display_data"
    },
    {
     "data": {
      "application/vnd.jupyter.widget-view+json": {
       "model_id": "b7d40c3e30aa4d8d81cf6b1ab871919d",
       "version_major": 2,
       "version_minor": 0
      },
      "text/plain": [
       "Image (train):   0%|          | 0/6 [00:00<?, ?it/s]"
      ]
     },
     "metadata": {},
     "output_type": "display_data"
    },
    {
     "data": {
      "application/vnd.jupyter.widget-view+json": {
       "model_id": "2c6f91cc8446457cb57ba435917ad6e2",
       "version_major": 2,
       "version_minor": 0
      },
      "text/plain": [
       "Image (test):   0%|          | 0/6 [00:00<?, ?it/s]"
      ]
     },
     "metadata": {},
     "output_type": "display_data"
    },
    {
     "data": {
      "application/vnd.jupyter.widget-view+json": {
       "model_id": "064084b1670544d8ba3e463e240be25f",
       "version_major": 2,
       "version_minor": 0
      },
      "text/plain": [
       "Image (train):   0%|          | 0/6 [00:00<?, ?it/s]"
      ]
     },
     "metadata": {},
     "output_type": "display_data"
    },
    {
     "data": {
      "application/vnd.jupyter.widget-view+json": {
       "model_id": "d4b5a344174b4c1eaf23a9cff3d87cba",
       "version_major": 2,
       "version_minor": 0
      },
      "text/plain": [
       "Image (test):   0%|          | 0/6 [00:00<?, ?it/s]"
      ]
     },
     "metadata": {},
     "output_type": "display_data"
    },
    {
     "data": {
      "application/vnd.jupyter.widget-view+json": {
       "model_id": "cb8b634d89bd451889a42b99f26ae9c7",
       "version_major": 2,
       "version_minor": 0
      },
      "text/plain": [
       "Image (train):   0%|          | 0/6 [00:00<?, ?it/s]"
      ]
     },
     "metadata": {},
     "output_type": "display_data"
    },
    {
     "data": {
      "application/vnd.jupyter.widget-view+json": {
       "model_id": "eaedbb91eea54e19a1c6f0a445290e73",
       "version_major": 2,
       "version_minor": 0
      },
      "text/plain": [
       "Image (test):   0%|          | 0/6 [00:00<?, ?it/s]"
      ]
     },
     "metadata": {},
     "output_type": "display_data"
    },
    {
     "data": {
      "application/vnd.jupyter.widget-view+json": {
       "model_id": "eeea7e50de5849129acf3dde1bccf180",
       "version_major": 2,
       "version_minor": 0
      },
      "text/plain": [
       "Image (train):   0%|          | 0/6 [00:00<?, ?it/s]"
      ]
     },
     "metadata": {},
     "output_type": "display_data"
    },
    {
     "data": {
      "application/vnd.jupyter.widget-view+json": {
       "model_id": "cec1a34dfd1b45f48a03722cb17e6b02",
       "version_major": 2,
       "version_minor": 0
      },
      "text/plain": [
       "Image (test):   0%|          | 0/6 [00:00<?, ?it/s]"
      ]
     },
     "metadata": {},
     "output_type": "display_data"
    },
    {
     "data": {
      "application/vnd.jupyter.widget-view+json": {
       "model_id": "877c47fa874645cd9cbece5d9bea28aa",
       "version_major": 2,
       "version_minor": 0
      },
      "text/plain": [
       "Image (train):   0%|          | 0/6 [00:00<?, ?it/s]"
      ]
     },
     "metadata": {},
     "output_type": "display_data"
    },
    {
     "data": {
      "application/vnd.jupyter.widget-view+json": {
       "model_id": "00087f2785774ef1bb13974baa04d85f",
       "version_major": 2,
       "version_minor": 0
      },
      "text/plain": [
       "Image (test):   0%|          | 0/6 [00:00<?, ?it/s]"
      ]
     },
     "metadata": {},
     "output_type": "display_data"
    },
    {
     "data": {
      "application/vnd.jupyter.widget-view+json": {
       "model_id": "185bc6dd8961415baaa12e68c97f6e01",
       "version_major": 2,
       "version_minor": 0
      },
      "text/plain": [
       "Image (train):   0%|          | 0/5 [00:00<?, ?it/s]"
      ]
     },
     "metadata": {},
     "output_type": "display_data"
    },
    {
     "data": {
      "application/vnd.jupyter.widget-view+json": {
       "model_id": "b8a4903cc81b403abae36e51e6c16397",
       "version_major": 2,
       "version_minor": 0
      },
      "text/plain": [
       "Image (test):   0%|          | 0/5 [00:00<?, ?it/s]"
      ]
     },
     "metadata": {},
     "output_type": "display_data"
    },
    {
     "data": {
      "application/vnd.jupyter.widget-view+json": {
       "model_id": "e36ee27515a44d838185451be3803210",
       "version_major": 2,
       "version_minor": 0
      },
      "text/plain": [
       "Attempt:   0%|          | 0/20 [00:00<?, ?it/s]"
      ]
     },
     "metadata": {},
     "output_type": "display_data"
    },
    {
     "data": {
      "application/vnd.jupyter.widget-view+json": {
       "model_id": "feaab1aa2e8d4d2589cb1dfa118f5dd5",
       "version_major": 2,
       "version_minor": 0
      },
      "text/plain": [
       "Image (train):   0%|          | 0/1000 [00:00<?, ?it/s]"
      ]
     },
     "metadata": {},
     "output_type": "display_data"
    },
    {
     "data": {
      "application/vnd.jupyter.widget-view+json": {
       "model_id": "548724a8586445fd8feb8f6bb87337ff",
       "version_major": 2,
       "version_minor": 0
      },
      "text/plain": [
       "Image (test):   0%|          | 0/1000 [00:00<?, ?it/s]"
      ]
     },
     "metadata": {},
     "output_type": "display_data"
    },
    {
     "data": {
      "application/vnd.jupyter.widget-view+json": {
       "model_id": "7f65da43581f4de5bdec80def15ba745",
       "version_major": 2,
       "version_minor": 0
      },
      "text/plain": [
       "Image (train):   0%|          | 0/30 [00:00<?, ?it/s]"
      ]
     },
     "metadata": {},
     "output_type": "display_data"
    },
    {
     "data": {
      "application/vnd.jupyter.widget-view+json": {
       "model_id": "6d2fc179c33b41398e69b397cd723a79",
       "version_major": 2,
       "version_minor": 0
      },
      "text/plain": [
       "Image (test):   0%|          | 0/30 [00:00<?, ?it/s]"
      ]
     },
     "metadata": {},
     "output_type": "display_data"
    },
    {
     "data": {
      "application/vnd.jupyter.widget-view+json": {
       "model_id": "78fea135917046399ee7db6fe16a7de5",
       "version_major": 2,
       "version_minor": 0
      },
      "text/plain": [
       "Image (train):   0%|          | 0/26 [00:00<?, ?it/s]"
      ]
     },
     "metadata": {},
     "output_type": "display_data"
    },
    {
     "data": {
      "application/vnd.jupyter.widget-view+json": {
       "model_id": "1285b1d06b874cb4b002d64d51326e14",
       "version_major": 2,
       "version_minor": 0
      },
      "text/plain": [
       "Image (test):   0%|          | 0/26 [00:00<?, ?it/s]"
      ]
     },
     "metadata": {},
     "output_type": "display_data"
    },
    {
     "data": {
      "application/vnd.jupyter.widget-view+json": {
       "model_id": "c1f1ad040a6d47188c3a3795bd006263",
       "version_major": 2,
       "version_minor": 0
      },
      "text/plain": [
       "Image (train):   0%|          | 0/23 [00:00<?, ?it/s]"
      ]
     },
     "metadata": {},
     "output_type": "display_data"
    },
    {
     "data": {
      "application/vnd.jupyter.widget-view+json": {
       "model_id": "3db8bec5f4d948f9a050b37a8a43922f",
       "version_major": 2,
       "version_minor": 0
      },
      "text/plain": [
       "Image (test):   0%|          | 0/23 [00:00<?, ?it/s]"
      ]
     },
     "metadata": {},
     "output_type": "display_data"
    },
    {
     "data": {
      "application/vnd.jupyter.widget-view+json": {
       "model_id": "f3921b6ed8c54cd7b779770013b69286",
       "version_major": 2,
       "version_minor": 0
      },
      "text/plain": [
       "Image (train):   0%|          | 0/19 [00:00<?, ?it/s]"
      ]
     },
     "metadata": {},
     "output_type": "display_data"
    },
    {
     "data": {
      "application/vnd.jupyter.widget-view+json": {
       "model_id": "09a8c3924bf5445d97e36ac275954854",
       "version_major": 2,
       "version_minor": 0
      },
      "text/plain": [
       "Image (test):   0%|          | 0/19 [00:00<?, ?it/s]"
      ]
     },
     "metadata": {},
     "output_type": "display_data"
    },
    {
     "data": {
      "application/vnd.jupyter.widget-view+json": {
       "model_id": "5d0244fd53d2427ea6a6c0513e92cbf9",
       "version_major": 2,
       "version_minor": 0
      },
      "text/plain": [
       "Image (train):   0%|          | 0/18 [00:00<?, ?it/s]"
      ]
     },
     "metadata": {},
     "output_type": "display_data"
    },
    {
     "data": {
      "application/vnd.jupyter.widget-view+json": {
       "model_id": "c611d62f7af644bebedde5c1148bbb70",
       "version_major": 2,
       "version_minor": 0
      },
      "text/plain": [
       "Image (test):   0%|          | 0/18 [00:00<?, ?it/s]"
      ]
     },
     "metadata": {},
     "output_type": "display_data"
    },
    {
     "data": {
      "application/vnd.jupyter.widget-view+json": {
       "model_id": "7f4969b1dda4453386e80dcbb211380d",
       "version_major": 2,
       "version_minor": 0
      },
      "text/plain": [
       "Image (train):   0%|          | 0/16 [00:00<?, ?it/s]"
      ]
     },
     "metadata": {},
     "output_type": "display_data"
    },
    {
     "data": {
      "application/vnd.jupyter.widget-view+json": {
       "model_id": "3d968f56df08419b8f95d34017bc2470",
       "version_major": 2,
       "version_minor": 0
      },
      "text/plain": [
       "Image (test):   0%|          | 0/16 [00:00<?, ?it/s]"
      ]
     },
     "metadata": {},
     "output_type": "display_data"
    },
    {
     "data": {
      "application/vnd.jupyter.widget-view+json": {
       "model_id": "3cb30d0f61f04ffbadd63b8bf54d4a59",
       "version_major": 2,
       "version_minor": 0
      },
      "text/plain": [
       "Image (train):   0%|          | 0/14 [00:00<?, ?it/s]"
      ]
     },
     "metadata": {},
     "output_type": "display_data"
    },
    {
     "data": {
      "application/vnd.jupyter.widget-view+json": {
       "model_id": "2d4a2a8f4cfc42ea91eb2b463badd6be",
       "version_major": 2,
       "version_minor": 0
      },
      "text/plain": [
       "Image (test):   0%|          | 0/14 [00:00<?, ?it/s]"
      ]
     },
     "metadata": {},
     "output_type": "display_data"
    },
    {
     "data": {
      "application/vnd.jupyter.widget-view+json": {
       "model_id": "7c7e23308ff048ed891d49b179bdc96a",
       "version_major": 2,
       "version_minor": 0
      },
      "text/plain": [
       "Image (train):   0%|          | 0/13 [00:00<?, ?it/s]"
      ]
     },
     "metadata": {},
     "output_type": "display_data"
    },
    {
     "data": {
      "application/vnd.jupyter.widget-view+json": {
       "model_id": "dd2fc1d33a934f81b85451ad3bf51aa4",
       "version_major": 2,
       "version_minor": 0
      },
      "text/plain": [
       "Image (test):   0%|          | 0/13 [00:00<?, ?it/s]"
      ]
     },
     "metadata": {},
     "output_type": "display_data"
    },
    {
     "data": {
      "application/vnd.jupyter.widget-view+json": {
       "model_id": "4c9384a35de54ed6a305778044eda6be",
       "version_major": 2,
       "version_minor": 0
      },
      "text/plain": [
       "Image (train):   0%|          | 0/12 [00:00<?, ?it/s]"
      ]
     },
     "metadata": {},
     "output_type": "display_data"
    },
    {
     "data": {
      "application/vnd.jupyter.widget-view+json": {
       "model_id": "6407ffb8546d4d78971bca89ab0662ad",
       "version_major": 2,
       "version_minor": 0
      },
      "text/plain": [
       "Image (test):   0%|          | 0/12 [00:00<?, ?it/s]"
      ]
     },
     "metadata": {},
     "output_type": "display_data"
    },
    {
     "data": {
      "application/vnd.jupyter.widget-view+json": {
       "model_id": "61c11142086d46878a3cde25dbb608bf",
       "version_major": 2,
       "version_minor": 0
      },
      "text/plain": [
       "Image (train):   0%|          | 0/11 [00:00<?, ?it/s]"
      ]
     },
     "metadata": {},
     "output_type": "display_data"
    },
    {
     "data": {
      "application/vnd.jupyter.widget-view+json": {
       "model_id": "0730ecacd0f244ff9a0ef5f837faaf2d",
       "version_major": 2,
       "version_minor": 0
      },
      "text/plain": [
       "Image (test):   0%|          | 0/11 [00:00<?, ?it/s]"
      ]
     },
     "metadata": {},
     "output_type": "display_data"
    },
    {
     "data": {
      "application/vnd.jupyter.widget-view+json": {
       "model_id": "2a7f587e646644f8b5deb5540267b883",
       "version_major": 2,
       "version_minor": 0
      },
      "text/plain": [
       "Image (train):   0%|          | 0/10 [00:00<?, ?it/s]"
      ]
     },
     "metadata": {},
     "output_type": "display_data"
    },
    {
     "data": {
      "application/vnd.jupyter.widget-view+json": {
       "model_id": "6a266357fa4d441d836ad7c7e5701b28",
       "version_major": 2,
       "version_minor": 0
      },
      "text/plain": [
       "Image (test):   0%|          | 0/10 [00:00<?, ?it/s]"
      ]
     },
     "metadata": {},
     "output_type": "display_data"
    },
    {
     "data": {
      "application/vnd.jupyter.widget-view+json": {
       "model_id": "5851e9bebff7433f8ee71e0ebc614108",
       "version_major": 2,
       "version_minor": 0
      },
      "text/plain": [
       "Image (train):   0%|          | 0/9 [00:00<?, ?it/s]"
      ]
     },
     "metadata": {},
     "output_type": "display_data"
    },
    {
     "data": {
      "application/vnd.jupyter.widget-view+json": {
       "model_id": "7e122fe1b05d4ff8afb35c8d041f31f4",
       "version_major": 2,
       "version_minor": 0
      },
      "text/plain": [
       "Image (test):   0%|          | 0/9 [00:00<?, ?it/s]"
      ]
     },
     "metadata": {},
     "output_type": "display_data"
    },
    {
     "data": {
      "application/vnd.jupyter.widget-view+json": {
       "model_id": "e474015ce7074419ad013875420a4056",
       "version_major": 2,
       "version_minor": 0
      },
      "text/plain": [
       "Image (train):   0%|          | 0/9 [00:00<?, ?it/s]"
      ]
     },
     "metadata": {},
     "output_type": "display_data"
    },
    {
     "data": {
      "application/vnd.jupyter.widget-view+json": {
       "model_id": "89db01a1a1a846e3a0646d5fc85fc47c",
       "version_major": 2,
       "version_minor": 0
      },
      "text/plain": [
       "Image (test):   0%|          | 0/9 [00:00<?, ?it/s]"
      ]
     },
     "metadata": {},
     "output_type": "display_data"
    },
    {
     "data": {
      "application/vnd.jupyter.widget-view+json": {
       "model_id": "a9390e4ca1214d75ab0c7480284f88f3",
       "version_major": 2,
       "version_minor": 0
      },
      "text/plain": [
       "Image (train):   0%|          | 0/8 [00:00<?, ?it/s]"
      ]
     },
     "metadata": {},
     "output_type": "display_data"
    },
    {
     "data": {
      "application/vnd.jupyter.widget-view+json": {
       "model_id": "8486705fcb3447b79e4ad76d78f5bd83",
       "version_major": 2,
       "version_minor": 0
      },
      "text/plain": [
       "Image (test):   0%|          | 0/8 [00:00<?, ?it/s]"
      ]
     },
     "metadata": {},
     "output_type": "display_data"
    },
    {
     "data": {
      "application/vnd.jupyter.widget-view+json": {
       "model_id": "f1302d32ce454dd3ae018011ae715f50",
       "version_major": 2,
       "version_minor": 0
      },
      "text/plain": [
       "Image (train):   0%|          | 0/8 [00:00<?, ?it/s]"
      ]
     },
     "metadata": {},
     "output_type": "display_data"
    },
    {
     "data": {
      "application/vnd.jupyter.widget-view+json": {
       "model_id": "372e0981dc3445b78f9c8c36e3c3bd4b",
       "version_major": 2,
       "version_minor": 0
      },
      "text/plain": [
       "Image (test):   0%|          | 0/8 [00:00<?, ?it/s]"
      ]
     },
     "metadata": {},
     "output_type": "display_data"
    },
    {
     "data": {
      "application/vnd.jupyter.widget-view+json": {
       "model_id": "73e8ed3e1b244906ab248794e5ae36e5",
       "version_major": 2,
       "version_minor": 0
      },
      "text/plain": [
       "Image (train):   0%|          | 0/7 [00:00<?, ?it/s]"
      ]
     },
     "metadata": {},
     "output_type": "display_data"
    },
    {
     "data": {
      "application/vnd.jupyter.widget-view+json": {
       "model_id": "f202b5047f3944c6878a0da3d63ba0c0",
       "version_major": 2,
       "version_minor": 0
      },
      "text/plain": [
       "Image (test):   0%|          | 0/7 [00:00<?, ?it/s]"
      ]
     },
     "metadata": {},
     "output_type": "display_data"
    },
    {
     "data": {
      "application/vnd.jupyter.widget-view+json": {
       "model_id": "4298c6cd09de4ec29225ca9269e6bf13",
       "version_major": 2,
       "version_minor": 0
      },
      "text/plain": [
       "Image (train):   0%|          | 0/7 [00:00<?, ?it/s]"
      ]
     },
     "metadata": {},
     "output_type": "display_data"
    },
    {
     "data": {
      "application/vnd.jupyter.widget-view+json": {
       "model_id": "5d0f8e49d798487687803ab164a6da71",
       "version_major": 2,
       "version_minor": 0
      },
      "text/plain": [
       "Image (test):   0%|          | 0/7 [00:00<?, ?it/s]"
      ]
     },
     "metadata": {},
     "output_type": "display_data"
    },
    {
     "data": {
      "application/vnd.jupyter.widget-view+json": {
       "model_id": "74966e3e23b248b386af74d7ad328470",
       "version_major": 2,
       "version_minor": 0
      },
      "text/plain": [
       "Image (train):   0%|          | 0/7 [00:00<?, ?it/s]"
      ]
     },
     "metadata": {},
     "output_type": "display_data"
    },
    {
     "data": {
      "application/vnd.jupyter.widget-view+json": {
       "model_id": "2a47b9cd38f946c591bec5b192a90068",
       "version_major": 2,
       "version_minor": 0
      },
      "text/plain": [
       "Image (test):   0%|          | 0/7 [00:00<?, ?it/s]"
      ]
     },
     "metadata": {},
     "output_type": "display_data"
    },
    {
     "data": {
      "application/vnd.jupyter.widget-view+json": {
       "model_id": "de570ae62a8148d4a4d462c6bfeb9939",
       "version_major": 2,
       "version_minor": 0
      },
      "text/plain": [
       "Image (train):   0%|          | 0/7 [00:00<?, ?it/s]"
      ]
     },
     "metadata": {},
     "output_type": "display_data"
    },
    {
     "data": {
      "application/vnd.jupyter.widget-view+json": {
       "model_id": "7c07b493096942ecb098b5e1ea80b4e0",
       "version_major": 2,
       "version_minor": 0
      },
      "text/plain": [
       "Image (test):   0%|          | 0/7 [00:00<?, ?it/s]"
      ]
     },
     "metadata": {},
     "output_type": "display_data"
    },
    {
     "data": {
      "application/vnd.jupyter.widget-view+json": {
       "model_id": "1dee7fec75f34926b7a1cdcf09b3782c",
       "version_major": 2,
       "version_minor": 0
      },
      "text/plain": [
       "Attempt:   0%|          | 0/20 [00:00<?, ?it/s]"
      ]
     },
     "metadata": {},
     "output_type": "display_data"
    },
    {
     "data": {
      "application/vnd.jupyter.widget-view+json": {
       "model_id": "217de5adb9d0417c9decd20be99e5491",
       "version_major": 2,
       "version_minor": 0
      },
      "text/plain": [
       "Image (train):   0%|          | 0/1000 [00:00<?, ?it/s]"
      ]
     },
     "metadata": {},
     "output_type": "display_data"
    },
    {
     "data": {
      "application/vnd.jupyter.widget-view+json": {
       "model_id": "eef59049fc44482db5945c8a1404751b",
       "version_major": 2,
       "version_minor": 0
      },
      "text/plain": [
       "Image (test):   0%|          | 0/1000 [00:00<?, ?it/s]"
      ]
     },
     "metadata": {},
     "output_type": "display_data"
    },
    {
     "data": {
      "application/vnd.jupyter.widget-view+json": {
       "model_id": "d70474ea801342238294b954819adb00",
       "version_major": 2,
       "version_minor": 0
      },
      "text/plain": [
       "Image (train):   0%|          | 0/32 [00:00<?, ?it/s]"
      ]
     },
     "metadata": {},
     "output_type": "display_data"
    },
    {
     "data": {
      "application/vnd.jupyter.widget-view+json": {
       "model_id": "36288b6e2cea414d8311ece54df72158",
       "version_major": 2,
       "version_minor": 0
      },
      "text/plain": [
       "Image (test):   0%|          | 0/32 [00:00<?, ?it/s]"
      ]
     },
     "metadata": {},
     "output_type": "display_data"
    },
    {
     "data": {
      "application/vnd.jupyter.widget-view+json": {
       "model_id": "f8e3888308f84a13a4080b17908f0dc5",
       "version_major": 2,
       "version_minor": 0
      },
      "text/plain": [
       "Image (train):   0%|          | 0/30 [00:00<?, ?it/s]"
      ]
     },
     "metadata": {},
     "output_type": "display_data"
    },
    {
     "data": {
      "application/vnd.jupyter.widget-view+json": {
       "model_id": "0a9a61e1fabb4bf0bae7f5a9dcf79904",
       "version_major": 2,
       "version_minor": 0
      },
      "text/plain": [
       "Image (test):   0%|          | 0/30 [00:00<?, ?it/s]"
      ]
     },
     "metadata": {},
     "output_type": "display_data"
    },
    {
     "data": {
      "application/vnd.jupyter.widget-view+json": {
       "model_id": "a5d55d4d828d4c2c8cf85411ae3cae3c",
       "version_major": 2,
       "version_minor": 0
      },
      "text/plain": [
       "Image (train):   0%|          | 0/25 [00:00<?, ?it/s]"
      ]
     },
     "metadata": {},
     "output_type": "display_data"
    },
    {
     "data": {
      "application/vnd.jupyter.widget-view+json": {
       "model_id": "788931bfcc9542be85b61922ffde9dca",
       "version_major": 2,
       "version_minor": 0
      },
      "text/plain": [
       "Image (test):   0%|          | 0/25 [00:00<?, ?it/s]"
      ]
     },
     "metadata": {},
     "output_type": "display_data"
    },
    {
     "data": {
      "application/vnd.jupyter.widget-view+json": {
       "model_id": "6b52ab4f9a864d7ab77b4f7de12a965e",
       "version_major": 2,
       "version_minor": 0
      },
      "text/plain": [
       "Image (train):   0%|          | 0/23 [00:00<?, ?it/s]"
      ]
     },
     "metadata": {},
     "output_type": "display_data"
    },
    {
     "data": {
      "application/vnd.jupyter.widget-view+json": {
       "model_id": "fdbb3ce395314b319aa178998ff8f449",
       "version_major": 2,
       "version_minor": 0
      },
      "text/plain": [
       "Image (test):   0%|          | 0/23 [00:00<?, ?it/s]"
      ]
     },
     "metadata": {},
     "output_type": "display_data"
    },
    {
     "data": {
      "application/vnd.jupyter.widget-view+json": {
       "model_id": "7d6fe397b6c746988ed7a422e6ed84c1",
       "version_major": 2,
       "version_minor": 0
      },
      "text/plain": [
       "Image (train):   0%|          | 0/19 [00:00<?, ?it/s]"
      ]
     },
     "metadata": {},
     "output_type": "display_data"
    },
    {
     "data": {
      "application/vnd.jupyter.widget-view+json": {
       "model_id": "1b1152a49f884972984137def1fa6b68",
       "version_major": 2,
       "version_minor": 0
      },
      "text/plain": [
       "Image (test):   0%|          | 0/19 [00:00<?, ?it/s]"
      ]
     },
     "metadata": {},
     "output_type": "display_data"
    },
    {
     "data": {
      "application/vnd.jupyter.widget-view+json": {
       "model_id": "8184d7715bd8416b81cc1336b6a0539a",
       "version_major": 2,
       "version_minor": 0
      },
      "text/plain": [
       "Image (train):   0%|          | 0/18 [00:00<?, ?it/s]"
      ]
     },
     "metadata": {},
     "output_type": "display_data"
    },
    {
     "data": {
      "application/vnd.jupyter.widget-view+json": {
       "model_id": "946747acd2204400802e3cd0194a3c9e",
       "version_major": 2,
       "version_minor": 0
      },
      "text/plain": [
       "Image (test):   0%|          | 0/18 [00:00<?, ?it/s]"
      ]
     },
     "metadata": {},
     "output_type": "display_data"
    },
    {
     "data": {
      "application/vnd.jupyter.widget-view+json": {
       "model_id": "5d061c3e26fb47f48a23615362b5141f",
       "version_major": 2,
       "version_minor": 0
      },
      "text/plain": [
       "Image (train):   0%|          | 0/18 [00:00<?, ?it/s]"
      ]
     },
     "metadata": {},
     "output_type": "display_data"
    },
    {
     "data": {
      "application/vnd.jupyter.widget-view+json": {
       "model_id": "f94d9277141e44a0aea6ab3b886079ee",
       "version_major": 2,
       "version_minor": 0
      },
      "text/plain": [
       "Image (test):   0%|          | 0/18 [00:00<?, ?it/s]"
      ]
     },
     "metadata": {},
     "output_type": "display_data"
    },
    {
     "data": {
      "application/vnd.jupyter.widget-view+json": {
       "model_id": "9b4b911fe6d74bc284442538fcb79895",
       "version_major": 2,
       "version_minor": 0
      },
      "text/plain": [
       "Image (train):   0%|          | 0/18 [00:00<?, ?it/s]"
      ]
     },
     "metadata": {},
     "output_type": "display_data"
    },
    {
     "data": {
      "application/vnd.jupyter.widget-view+json": {
       "model_id": "cd4397b86d2b4a49ab654e1b7365effe",
       "version_major": 2,
       "version_minor": 0
      },
      "text/plain": [
       "Image (test):   0%|          | 0/18 [00:00<?, ?it/s]"
      ]
     },
     "metadata": {},
     "output_type": "display_data"
    },
    {
     "data": {
      "application/vnd.jupyter.widget-view+json": {
       "model_id": "5a7eefcf51894600933b3e5c9f1f7479",
       "version_major": 2,
       "version_minor": 0
      },
      "text/plain": [
       "Image (train):   0%|          | 0/18 [00:00<?, ?it/s]"
      ]
     },
     "metadata": {},
     "output_type": "display_data"
    },
    {
     "data": {
      "application/vnd.jupyter.widget-view+json": {
       "model_id": "2efbfe3b73f8462d82b5933c98141fe8",
       "version_major": 2,
       "version_minor": 0
      },
      "text/plain": [
       "Image (test):   0%|          | 0/18 [00:00<?, ?it/s]"
      ]
     },
     "metadata": {},
     "output_type": "display_data"
    },
    {
     "data": {
      "application/vnd.jupyter.widget-view+json": {
       "model_id": "2d17e65551144995b1585fad3f1a0ff4",
       "version_major": 2,
       "version_minor": 0
      },
      "text/plain": [
       "Image (train):   0%|          | 0/18 [00:00<?, ?it/s]"
      ]
     },
     "metadata": {},
     "output_type": "display_data"
    },
    {
     "data": {
      "application/vnd.jupyter.widget-view+json": {
       "model_id": "2fe05da53e6b4fe387a73f236708ea62",
       "version_major": 2,
       "version_minor": 0
      },
      "text/plain": [
       "Image (test):   0%|          | 0/18 [00:00<?, ?it/s]"
      ]
     },
     "metadata": {},
     "output_type": "display_data"
    },
    {
     "data": {
      "application/vnd.jupyter.widget-view+json": {
       "model_id": "758a1e2f32c041b5a9d0274a107285ac",
       "version_major": 2,
       "version_minor": 0
      },
      "text/plain": [
       "Image (train):   0%|          | 0/16 [00:00<?, ?it/s]"
      ]
     },
     "metadata": {},
     "output_type": "display_data"
    },
    {
     "data": {
      "application/vnd.jupyter.widget-view+json": {
       "model_id": "c41c94a3b6bb494ab23535018d446d49",
       "version_major": 2,
       "version_minor": 0
      },
      "text/plain": [
       "Image (test):   0%|          | 0/16 [00:00<?, ?it/s]"
      ]
     },
     "metadata": {},
     "output_type": "display_data"
    },
    {
     "data": {
      "application/vnd.jupyter.widget-view+json": {
       "model_id": "d779a1194a4645419728d0339b493077",
       "version_major": 2,
       "version_minor": 0
      },
      "text/plain": [
       "Image (train):   0%|          | 0/14 [00:00<?, ?it/s]"
      ]
     },
     "metadata": {},
     "output_type": "display_data"
    },
    {
     "data": {
      "application/vnd.jupyter.widget-view+json": {
       "model_id": "1fcfe06fd1484901805234b6f9e28abe",
       "version_major": 2,
       "version_minor": 0
      },
      "text/plain": [
       "Image (test):   0%|          | 0/14 [00:00<?, ?it/s]"
      ]
     },
     "metadata": {},
     "output_type": "display_data"
    },
    {
     "data": {
      "application/vnd.jupyter.widget-view+json": {
       "model_id": "3bf958c663de40a4b1f2c50a963ef52c",
       "version_major": 2,
       "version_minor": 0
      },
      "text/plain": [
       "Image (train):   0%|          | 0/11 [00:00<?, ?it/s]"
      ]
     },
     "metadata": {},
     "output_type": "display_data"
    },
    {
     "data": {
      "application/vnd.jupyter.widget-view+json": {
       "model_id": "98fb66a3bb844e789f19ca9c8fe5dea2",
       "version_major": 2,
       "version_minor": 0
      },
      "text/plain": [
       "Image (test):   0%|          | 0/11 [00:00<?, ?it/s]"
      ]
     },
     "metadata": {},
     "output_type": "display_data"
    },
    {
     "data": {
      "application/vnd.jupyter.widget-view+json": {
       "model_id": "576b6f1e774e4bcda5ddb4fce14e46eb",
       "version_major": 2,
       "version_minor": 0
      },
      "text/plain": [
       "Image (train):   0%|          | 0/10 [00:00<?, ?it/s]"
      ]
     },
     "metadata": {},
     "output_type": "display_data"
    },
    {
     "data": {
      "application/vnd.jupyter.widget-view+json": {
       "model_id": "f6e5c55cfd964d329d9dece19f5ce23d",
       "version_major": 2,
       "version_minor": 0
      },
      "text/plain": [
       "Image (test):   0%|          | 0/10 [00:00<?, ?it/s]"
      ]
     },
     "metadata": {},
     "output_type": "display_data"
    },
    {
     "data": {
      "application/vnd.jupyter.widget-view+json": {
       "model_id": "323cb019e0834c47a56cb21b1ac672bd",
       "version_major": 2,
       "version_minor": 0
      },
      "text/plain": [
       "Image (train):   0%|          | 0/10 [00:00<?, ?it/s]"
      ]
     },
     "metadata": {},
     "output_type": "display_data"
    },
    {
     "data": {
      "application/vnd.jupyter.widget-view+json": {
       "model_id": "4912368a80a941b4b17079ee4a477506",
       "version_major": 2,
       "version_minor": 0
      },
      "text/plain": [
       "Image (test):   0%|          | 0/10 [00:00<?, ?it/s]"
      ]
     },
     "metadata": {},
     "output_type": "display_data"
    },
    {
     "data": {
      "application/vnd.jupyter.widget-view+json": {
       "model_id": "96e92696653748289b0b4e379483dcd9",
       "version_major": 2,
       "version_minor": 0
      },
      "text/plain": [
       "Image (train):   0%|          | 0/9 [00:00<?, ?it/s]"
      ]
     },
     "metadata": {},
     "output_type": "display_data"
    },
    {
     "data": {
      "application/vnd.jupyter.widget-view+json": {
       "model_id": "9e140a8a7b8846c28182de59a68b3a51",
       "version_major": 2,
       "version_minor": 0
      },
      "text/plain": [
       "Image (test):   0%|          | 0/9 [00:00<?, ?it/s]"
      ]
     },
     "metadata": {},
     "output_type": "display_data"
    },
    {
     "data": {
      "application/vnd.jupyter.widget-view+json": {
       "model_id": "7042b162071d4f109103ecc13bce3aa2",
       "version_major": 2,
       "version_minor": 0
      },
      "text/plain": [
       "Image (train):   0%|          | 0/9 [00:00<?, ?it/s]"
      ]
     },
     "metadata": {},
     "output_type": "display_data"
    },
    {
     "data": {
      "application/vnd.jupyter.widget-view+json": {
       "model_id": "a99f079cd78243a8afe734b0482e1f08",
       "version_major": 2,
       "version_minor": 0
      },
      "text/plain": [
       "Image (test):   0%|          | 0/9 [00:00<?, ?it/s]"
      ]
     },
     "metadata": {},
     "output_type": "display_data"
    },
    {
     "data": {
      "application/vnd.jupyter.widget-view+json": {
       "model_id": "de406b81f6904b5cb17c591f6962ebea",
       "version_major": 2,
       "version_minor": 0
      },
      "text/plain": [
       "Image (train):   0%|          | 0/9 [00:00<?, ?it/s]"
      ]
     },
     "metadata": {},
     "output_type": "display_data"
    },
    {
     "data": {
      "application/vnd.jupyter.widget-view+json": {
       "model_id": "db067b4265c147cb821eeaf4f3bee428",
       "version_major": 2,
       "version_minor": 0
      },
      "text/plain": [
       "Image (test):   0%|          | 0/9 [00:00<?, ?it/s]"
      ]
     },
     "metadata": {},
     "output_type": "display_data"
    },
    {
     "data": {
      "application/vnd.jupyter.widget-view+json": {
       "model_id": "a93a142bf09148a7a72656530ce8e14c",
       "version_major": 2,
       "version_minor": 0
      },
      "text/plain": [
       "Image (train):   0%|          | 0/8 [00:00<?, ?it/s]"
      ]
     },
     "metadata": {},
     "output_type": "display_data"
    },
    {
     "data": {
      "application/vnd.jupyter.widget-view+json": {
       "model_id": "5b667bd98760491caca3f27a5b6af125",
       "version_major": 2,
       "version_minor": 0
      },
      "text/plain": [
       "Image (test):   0%|          | 0/8 [00:00<?, ?it/s]"
      ]
     },
     "metadata": {},
     "output_type": "display_data"
    }
   ],
   "source": [
    "# TRAIN RUN\n",
    "TRAIN_RUN_ID += 1\n",
    "epochs = 10\n",
    "attempts_to_get_no_mistakes = 20\n",
    "count = 1000\n",
    "consolidation_threshold = 1000\n",
    "\n",
    "for epoch in tqdm(range(epochs), desc='Epoch'):\n",
    "    train_step_image_ids = RNG.choice(df_train_images.index.unique(), count, replace=False)\n",
    "\n",
    "    for attempt_to_get_no_mistakes in tqdm(range(attempts_to_get_no_mistakes), leave=False, desc='Attempt'):\n",
    "        # EVOLVE MEMORIES\n",
    "        for image_no, image_id in tqdm(enumerate(train_step_image_ids), leave=False, total=len(train_step_image_ids), desc='Image (train)'):\n",
    "            log.debug(f'[train_run_id={TRAIN_RUN_ID}, image_no={image_no}, image_id={image_id}] Cluster count={COLUMN.cluster_norms.len}')\n",
    "            \n",
    "            image_value = df_train_images.loc[image_id]['value']\n",
    "            df_image_encodings = pd.read_sql('SELECT hdv FROM image_encodings WHERE image_id=:image_id', params={'image_id': int(image_id)}, con=train_db_con)\n",
    "            assert len(df_image_encodings) > 0\n",
    "            image_encoding_hdvs = list(map(lambda h: np.frombuffer(h, dtype='b'), df_image_encodings['hdv']))\n",
    "            image_encoding_hdvs_norm = hdc.normalize(image_encoding_hdvs)\n",
    "            image_encoding_hdvs_norm = xp_array_to_gpu(image_encoding_hdvs_norm)\n",
    "    \n",
    "            cos_sim_matrix = COLUMN.cluster_norms.array @ image_encoding_hdvs_norm.T\n",
    "            cos_sim_matrix[cos_sim_matrix < COS_SIM_THRESHOLD] = 0\n",
    "            cos_sim_vector = xp_array_from_gpu(xp.sum(cos_sim_matrix, axis=1)) # how each mem recall (sum cos sim) is close to current image\n",
    "            \n",
    "            assert cos_sim_vector.shape == (COLUMN.cluster_norms.array.shape[0],)\n",
    "            cluster_ids_by_match_score = np.argsort(-cos_sim_vector) # sorted desc\n",
    "            match_found = False\n",
    "            match_pos = False\n",
    "            match_is_updated = False\n",
    "    \n",
    "            for pos, cluster_id in enumerate(cluster_ids_by_match_score):\n",
    "                cos_sim_value = cos_sim_vector[cluster_id]\n",
    "                log.debug(f'[train_run_id={TRAIN_RUN_ID}, image_no={image_no}, image_id={image_id}] Checking cluster #{cluster_id}, pos={pos}, sim={cos_sim_value:.2f}')\n",
    "    \n",
    "                if cos_sim_value <= 0:\n",
    "                    break\n",
    "    \n",
    "                cluster_image_ids = COLUMN.cluster_to_image_ids[cluster_id]\n",
    "                assert len(cluster_image_ids) > 0\n",
    "                cluster_is_sealed = len(cluster_image_ids) > 200\n",
    "                cluster_image_id = next(iter(cluster_image_ids))\n",
    "                cluster_image_value = df_train_images.loc[cluster_image_id]['value']\n",
    "    \n",
    "                if cluster_image_value != image_value:\n",
    "                    log.debug(f'[train_run_id={TRAIN_RUN_ID}, image_no={image_no}, image_id={image_id}] Match WRONG, cluster value={cluster_image_value} vs {image_value}')\n",
    "                else:\n",
    "                    log.debug(f'[train_run_id={TRAIN_RUN_ID}, image_no={image_no}, image_id={image_id}] Match CORRECT, sealed={cluster_is_sealed}')\n",
    "    \n",
    "                    if not cluster_is_sealed:\n",
    "                        cluster_image_ids.add(image_id)\n",
    "                        cluster_hdvs = COLUMN.clusters[cluster_id] # list\n",
    "                        cluster_hdvs.append(hdc.bundle(image_encoding_hdvs))\n",
    "                        new_cluster_bundle = xp_array_to_gpu(hdc.bundle(cluster_hdvs))\n",
    "                        COLUMN.cluster_norms.array[cluster_id] = hdc.normalize(new_cluster_bundle)\n",
    "    \n",
    "                    match_found = True\n",
    "                    match_pos = pos\n",
    "                    match_is_updated = not cluster_is_sealed\n",
    "                    break\n",
    "    \n",
    "            log.debug(f'[train_run_id={TRAIN_RUN_ID}, image_no={image_no}, image_id={image_id}] Match found={match_found}, pos={match_pos}, is updated={match_is_updated}')\n",
    "    \n",
    "            if (match_found and match_pos == 0) or (match_found and match_is_updated):\n",
    "                pass\n",
    "            else:\n",
    "                cluster_id = COLUMN.cluster_norms.lease()\n",
    "                cluster_bundle = hdc.bundle(image_encoding_hdvs)\n",
    "                COLUMN.cluster_norms.array[cluster_id] = xp_array_to_gpu(hdc.normalize(cluster_bundle))\n",
    "                COLUMN.clusters[cluster_id].append(cluster_bundle)\n",
    "                COLUMN.cluster_to_image_ids[cluster_id].add(image_id)\n",
    "                log.debug(f'[train_run_id={TRAIN_RUN_ID}, image_no={image_no}, image_id={image_id}] New cluster {cluster_id}')\n",
    "    \n",
    "            if image_no > 0 and image_no % consolidation_threshold == 0:\n",
    "                # CONSOLIDATE MEMORY\n",
    "                def dump_cluster_lengths(when):\n",
    "                    cluster_lengths = list(map(lambda image_ids: len(image_ids), COLUMN.cluster_to_image_ids.values()))\n",
    "                    cluster_lengths = np.unique_counts(cluster_lengths)\n",
    "                    \n",
    "                    for v, c in zip(reversed(cluster_lengths.values), reversed(cluster_lengths.counts)):\n",
    "                        log.debug(f'[train_run_id={TRAIN_RUN_ID}, consolidation] {when:10} {v:5} {c:5}')\n",
    "    \n",
    "                before_len = COLUMN.cluster_norms.len()\n",
    "                assert before_len == len(COLUMN.clusters)\n",
    "                \n",
    "                log.debug(f'[train_run_id={TRAIN_RUN_ID}, consolidation] BEFORE clusters count = {before_len}')\n",
    "                dump_cluster_lengths('BEFORE')\n",
    "                \n",
    "                cluster_indices_to_release = []\n",
    "                \n",
    "                for cluster_id, image_ids in COLUMN.cluster_to_image_ids.items():\n",
    "                    #l = 0.1\n",
    "                    l = 1\n",
    "                    exp_distro_level = l * np.exp(-l * len(image_ids))\n",
    "                    rand_level = RNG.random()\n",
    "                    do_release = rand_level < exp_distro_level\n",
    "                    \n",
    "                    if do_release:\n",
    "                        cluster_indices_to_release.append(cluster_id)\n",
    "                        log.debug(f'[train_run_id={TRAIN_RUN_ID}, consolidation] Dropping cluster #{cluster_id}, len={len(image_ids)}: {rand_level:.5f} < {exp_distro_level:.5f}')\n",
    "            \n",
    "                for cluster_index_to_release in cluster_indices_to_release:\n",
    "                    del COLUMN.clusters[cluster_index_to_release]\n",
    "                    del COLUMN.cluster_to_image_ids[cluster_index_to_release]\n",
    "                    COLUMN.cluster_norms.release(cluster_index_to_release)\n",
    "            \n",
    "                after_len = COLUMN.cluster_norms.len()\n",
    "                assert after_len == len(COLUMN.clusters)\n",
    "                \n",
    "                log.debug(f'[train_run_id={TRAIN_RUN_ID}, consolidation] AFTER clusters count = {after_len}')\n",
    "                dump_cluster_lengths('AFTER')\n",
    "\n",
    "        mistake_image_ids = []\n",
    "        \n",
    "        for image_no, image_id in tqdm(enumerate(train_step_image_ids), leave=False, total=len(train_step_image_ids), desc='Image (test)'):\n",
    "            image_value = df_train_images.loc[image_id]['value']\n",
    "            df_image_encodings = pd.read_sql('SELECT hdv FROM image_encodings WHERE image_id=:image_id', params={'image_id': int(image_id)}, con=train_db_con)\n",
    "            assert len(df_image_encodings) > 0\n",
    "            image_encoding_hdvs = list(map(lambda h: np.frombuffer(h, dtype='b'), df_image_encodings['hdv']))\n",
    "            image_encoding_hdvs_norm = hdc.normalize(image_encoding_hdvs)\n",
    "            image_encoding_hdvs_norm = xp_array_to_gpu(image_encoding_hdvs_norm)\n",
    "        \n",
    "            cos_sim_matrix = COLUMN.cluster_norms.array @ image_encoding_hdvs_norm.T\n",
    "            cos_sim_matrix[cos_sim_matrix < COS_SIM_THRESHOLD] = 0\n",
    "            cos_sim_vector = xp_array_from_gpu(xp.sum(cos_sim_matrix, axis=1)) # how each mem recall (sum cos sim) is close to current image\n",
    "            \n",
    "            assert cos_sim_vector.shape == (COLUMN.cluster_norms.array.shape[0],)\n",
    "            cluster_ids_by_match_score = np.argsort(-cos_sim_vector) # sorted desc\n",
    "        \n",
    "            if cluster_ids_by_match_score.shape[0] > 0:\n",
    "                cluster_id = cluster_ids_by_match_score[0]\n",
    "                cos_sim_value = cos_sim_vector[cluster_id]\n",
    "        \n",
    "                if cos_sim_value > 0:\n",
    "                    cluster_image_ids = COLUMN.cluster_to_image_ids[cluster_id]\n",
    "                    assert len(cluster_image_ids) > 0\n",
    "                    cluster_image_id = next(iter(cluster_image_ids))\n",
    "                    cluster_image_value = df_train_images.loc[cluster_image_id]['value']\n",
    "\n",
    "                    if cluster_image_value != image_value:\n",
    "                        mistake_image_ids.append(image_id)\n",
    "\n",
    "        log.debug(f'[train_run_id={TRAIN_RUN_ID}] Mistaken image ids = {len(mistake_image_ids)}')\n",
    "\n",
    "        if not mistake_image_ids:\n",
    "            break\n",
    "            \n",
    "        train_step_image_ids = mistake_image_ids\n",
    "\n",
    "        "
   ]
  },
  {
   "cell_type": "code",
   "execution_count": 65,
   "id": "cc549286-4674-4011-a93d-24ee0e15c8f1",
   "metadata": {},
   "outputs": [
    {
     "data": {
      "text/plain": [
       "243"
      ]
     },
     "execution_count": 65,
     "metadata": {},
     "output_type": "execute_result"
    }
   ],
   "source": [
    "len(COLUMN.clusters)"
   ]
  },
  {
   "cell_type": "code",
   "execution_count": 66,
   "id": "9ee32737-067b-47ea-9d07-5e67b9e4b801",
   "metadata": {},
   "outputs": [
    {
     "data": {
      "text/html": [
       "<div style=\"\n",
       "        display: grid; \n",
       "        grid-template-columns: repeat(8, 128px);\n",
       "        column-gap: 1px;\n",
       "        row-gap: 1px;\">\n",
       "        \n",
       "            <figure style=\"margin: 5px !important;\">\n",
       "              <img src=\"data:image/png;base64,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\" style=\"height: auto\">\n",
       "              <figcaption style=\"font-size: 0.6em\">clust=14, #51201, val=3</figcaption>\n",
       "            </figure>\n",
       "        \n",
       "            <figure style=\"margin: 5px !important;\">\n",
       "              <img src=\"data:image/png;base64,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\" style=\"height: auto\">\n",
       "              <figcaption style=\"font-size: 0.6em\">clust=14, #45441, val=3</figcaption>\n",
       "            </figure>\n",
       "        \n",
       "            <figure style=\"margin: 5px !important;\">\n",
       "              <img src=\"data:image/png;base64,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\" style=\"height: auto\">\n",
       "              <figcaption style=\"font-size: 0.6em\">clust=14, #20869, val=3</figcaption>\n",
       "            </figure>\n",
       "        \n",
       "            <figure style=\"margin: 5px !important;\">\n",
       "              <img src=\"data:image/png;base64,iVBORw0KGgoAAAANSUhEUgAAAIAAAACACAAAAADmVT4XAAALjklEQVR4nO2aWZPjuJGAEwfvQ6TOunrs8Y43bP//n7IRGxs7bvfUJakoUTxBEsThh+qe7p6pkqhS1fil8pGCiI8JJJAXwLu8y7u8y7v8hwUdOe7J8Rr0mwIghDAxDEoJxhgTQhACAK2U0ogSpNuqYv1LEegQAEyo7fqeYxnUMC3ToggAtOC9JI6D5Pb2Zs1fOP8wAGLafjSJR55l2Y7nuhYCAN01jaRBSPrr/xEVE28HgKjt+tFsMRsHruO6YeA7CABUU9XcjMaki7rtts3VmwGAEcTjyWwxG4eO43qh7z0+1mXZGVEAUF9eZSToeqGkVFrro7bDAADszj5czMfjKPQd23b9L39BviKYAIB//jfzKmNN09Q140KpYwiGLIF//t8/LQLPsR3LMi3y9QdQkmkCaIbmeVGW2S5J0qoVR6lgCIC7+K9/nDuEEINS+o3dMlYLTDHBnnfZ1WW2Wd5QpbRWx2yHIQBWMLu8sEBrhB5PHAQAIKu8qLkCbHhBYAFv8shWTdUJKY+Yf6AZUsNEgAA0570QQmqtdV+XFeNSY8OPosCkNNBtvk2bvj/qTBgCIHnDGg8AoC2LmrG2FULKvmVN10uNqeuPwjCOHTuMohHr2va1AQTLty5yAVSVPOyyoqgb3vc9572QSiNiml44+9Nfzh3bH40Yqyt0xC4cAKD7epc4BNvQ5Oubh02a5XXbcSGk0koDwgiZwQWzAtv0gohVxZCPOgYARFPsfNtCqM6S+9VDusurpuPy28/0xDTrFHXCiBU2efZNLwPQfVPuPMcClG9X98vNrqhY95udXmd5xXpihRNeuMYrA4Bg+da2TIW2yeputauahv/O0rqmrplrjHqR+fTV9wDLt4Zh9DhZLVfrshP9708aLbqmNaknupHz2ntAiya3CCUtStYPm5TJp45aDEoqIMhxbQO/MgCIpiBaiwxtl9u87p8YgbBhWpZBkZZCHHUXDVwCIlqWeVAu0+ZJxwMbjh+OAku2RVY2r34Ui0Z3VeaYqC0y/uTnUTeMxuMIl9U2Seuj/MMhGpCdYIQQDFLwpxSADHc0nkzHoShYus2O886GaECp51+JALDtjmbns8i3O83bpuVHOWdHmcwT8yNMrNFkcf7hcuzQTmut1Kt7RHsFUytY/PDjD+fnsQlKIUIQ/JEaoNTyxpd//ftfJkFgaAnENI2jroITABAgTC3LDReXP/71pxATrDQ2HdcxX/0ueAaAGJbtuUF89uHybIoBAJDhBmEYeLZUg53zEwAsPwyjKJ7Mr85Gj/NTNxJ9sU3rlouhp9HLAbAdzefz2Ww2iafO4yPDx0TVux0rWKcHEpygASe+uLq8WMwi0zY1AgCg1KCy3GwZJpR0YtAinKKB0eLD1eXZ1AMApREAYIy1P4onNbKatu26fgDDSUuwuDyfxh4AwOMeAECIOtFC+W3fsTzL66evjtcBIE58djUd2d89FL0yogu3AZDl8vq6P3wvnQBgR7Oz0Pru2FFN3YI7H2nbguIjbaruYJBywhIYXhS7CIP+NVyUZV62XNuOOQpogctN1rP+gDWccBQTaloUAEAqJTUoLasiK7lEhCKFTTeaX9Q0q5p+75l0AoDW6nOo2rGm45zzssirXmNq+LNpoFX0ozlZrZNq70Z4OYCSvG1tAADdpLu8KmtWFhUTGmMazOYTl/o/na3/ZfJeav28o/5yAN23VWHbAMDLh+UmTbOyrFjXa4RQMD07m56dX5LEYpuilXuSgSdogNfZ1owtkGW6vl0lmzSvWMeFBgA/zcvG/TAPw+raNfC+QOUEgC5PlrpxUZ/c3Vyvt2lWsPazL1IAwtaFsgMVuiZGbwTAtne0GLuk33z6eL0tyop1v/pCTWH4eaPAoBTjvYHKywEk2zh8E/lUbK4/3Rdty7+J2CSju5x1oAAQoH0qOEEDTYqbTegbYnd7s26UUurrPJrXRck6KZUGhPYlpE+wgq5EXR64pshXm91vHFEt2rbrh7jHp5hhA7yubUPWaf17R1gKpTRC+z//NADZ6b5hBlVt9cSVgxA8JvUOaOEEANUrjglBWj4VC2GCEYLDvukJd4HSEhAAerpegjEeVI05JTDR+/Q7NGt+VDbjGBFCDooR3wxASak1HLKBNwR4tL/Dy3BqdPzs9LZrm0PC1LcBwKYVTGLXwIcLim8E4IymF/ORjTXoA2fh2wBQb3ZxdRZZoA9awttsQiucXV3NQxOklAfquq+vAYQwDsaLi4uJR1TPhZR/LADC1LDixdUPV9OASs55L/eeSK+vAWI64ez86ofzkYe7tuF9L/atwutrgFrBeH5+cTG3TNlUrOHiyez2mwFgww0n09lsEgI0eV4wLvam7fYAYIQ/Nwrs30a/EcOLZ7NJ5IFm6Wq1Ldv90enzAAgTShACLY9KwGvDn8znsWdAt7u/uV1l7f7U8T4NGJaBEVKyVUeUIpE9mp3NIgdBldx8ul5l7f7E6R4NEMu1KMFaNKR8qkrxtDjBeD6f+Ibsi4fb69uk6F4KANTyPcs0kGS5U/VS7q9JY4QRRpjMFmeLaeTinuWb9TLJDlUP9mjA9OPY912q62ybVXX9hO/9LYBlWqZpWvM//+lyEdnQlrtkvd6Wvy3wDQfAZjBdjMcjBzVpkmyTNd+7DtQNfN/3/NmHH6+mHhX1bvPwkBTNExW2gQDIcKP54nwWkjZdr5aWZGzPe4g7Go+jOIqmZ5fzgIg23ybJJm3EIRPeawW2F00vJmY3Djxbd42qhMbfmyQiBsVKSOzFs/l0MhmP4+lsZPU8T1brZFeelKZTUghN7cDwCCAktRGVvNdCa9BaKQUIY0xN2ySql8iNp/PJOI7jIAos6LLVLzd323KA+T4PoEVTFmUjECB3pInhz7OCMc6VBi16LgBT07BdzzE078EejSejMAx8xzWhy5cff75ebprD8+8D4NXOC7KaU6AesoJFVZd5XrVKg+JNwzW1HMcLR76pOZemH458x7ZsSoFXm+v//9+bvOhOA+jrnR3sysYFZBE3FrIv0zRnEkC2dd0q0/a9MIpDW/NOEMfzLEoIUYo36frm4893XAyp3+3ZA6IpnSyvWoUQeXSwx2GQMQUg26pqlen4fhDHga05F8i27cfeFs7yh9Vqud4NmH2/BgSvs11e1q3xpXfHGmmjVQCSM8aVYbmuFwY+AbuX6HMQINsiTZY3q109bP59AIojtNtlReXCFwLDw64GUKLjvSaGZdqORQCwQdGjdytZnizv765X5dDy6Z4lkFrJPMuyCCFtPBIgEysNoJVUSmNMCKFEYQD02bvuWbG5/+X6dpWwoTf4Hg1oLUVZ5HlhEITpY5xnfB7/+HoEgOCxTqkRgO7qYpvc3fxyt80Ht/Lsc8k0iLYui8KxTAwA6Pn2Sw1aK8mrbPPwcHu3TIr60B00CAAARFvlue+jLyWZZwRpLfqu3q7u7tebdZIzPqxidRhAdVWej+KDb5Oct3V2/+njdVIVFeN7HeFjADSvszSMI//7pwAA6GtfmxBd27Bic/PP//u0FaKXanhH3wEA2ZY7zw9c00aAFNKPmdevFACgZd+2jLE6T25vb+/KoTMPBSg2lAAvPcM0MAKNsGma344QfVNnRV7WrNzdL9Nj5z8MkGPRVdtp4Ae+hbVGpv993kPU+Wa1SvK6bcv0Yej5NxhAtblsyu0yisaT2KdaYkcYzrcDmvzh7tOn+7Thomvrozr5BgFw1bMydYNoflaODCWxJ6jlff29SB9WNx9/vklbodVxzZzDALQUvK2tsuZ9kxtKYpfxJiIAWmMAYEWarG7uBt99RwNoDVoK3vFedIVHtcT2ejUO8BeAti526Wo5+O47GgAAFAKllBRNamGtkeH6noUBNCAA6LuW1XlWvbSxe1B3PQKEMKaUEgAATCkl6AuAklKIvuMvbq5/l3d5l3d5l3d5l3d5l3f5z8u/AePikdO5a7BjAAAAAElFTkSuQmCC\" style=\"height: auto\">\n",
       "              <figcaption style=\"font-size: 0.6em\">clust=14, #27527, val=3</figcaption>\n",
       "            </figure>\n",
       "        \n",
       "            <figure style=\"margin: 5px !important;\">\n",
       "              <img src=\"data:image/png;base64,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\" style=\"height: auto\">\n",
       "              <figcaption style=\"font-size: 0.6em\">clust=14, #10635, val=3</figcaption>\n",
       "            </figure>\n",
       "        \n",
       "            <figure style=\"margin: 5px !important;\">\n",
       "              <img src=\"data:image/png;base64,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\" style=\"height: auto\">\n",
       "              <figcaption style=\"font-size: 0.6em\">clust=14, #1935, val=3</figcaption>\n",
       "            </figure>\n",
       "        \n",
       "            <figure style=\"margin: 5px !important;\">\n",
       "              <img src=\"data:image/png;base64,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\" style=\"height: auto\">\n",
       "              <figcaption style=\"font-size: 0.6em\">clust=14, #40079, val=3</figcaption>\n",
       "            </figure>\n",
       "        \n",
       "            <figure style=\"margin: 5px !important;\">\n",
       "              <img src=\"data:image/png;base64,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\" style=\"height: auto\">\n",
       "              <figcaption style=\"font-size: 0.6em\">clust=14, #43537, val=3</figcaption>\n",
       "            </figure>\n",
       "        \n",
       "            <figure style=\"margin: 5px !important;\">\n",
       "              <img src=\"data:image/png;base64,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\" style=\"height: auto\">\n",
       "              <figcaption style=\"font-size: 0.6em\">clust=14, #52753, val=3</figcaption>\n",
       "            </figure>\n",
       "        \n",
       "            <figure style=\"margin: 5px !important;\">\n",
       "              <img src=\"data:image/png;base64,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\" style=\"height: auto\">\n",
       "              <figcaption style=\"font-size: 0.6em\">clust=14, #51991, val=3</figcaption>\n",
       "            </figure>\n",
       "        \n",
       "            <figure style=\"margin: 5px !important;\">\n",
       "              <img src=\"data:image/png;base64,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\" style=\"height: auto\">\n",
       "              <figcaption style=\"font-size: 0.6em\">clust=14, #42137, val=3</figcaption>\n",
       "            </figure>\n",
       "        \n",
       "            <figure style=\"margin: 5px !important;\">\n",
       "              <img src=\"data:image/png;base64,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\" style=\"height: auto\">\n",
       "              <figcaption style=\"font-size: 0.6em\">clust=14, #34845, val=3</figcaption>\n",
       "            </figure>\n",
       "        \n",
       "            <figure style=\"margin: 5px !important;\">\n",
       "              <img src=\"data:image/png;base64,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\" style=\"height: auto\">\n",
       "              <figcaption style=\"font-size: 0.6em\">clust=14, #11813, val=3</figcaption>\n",
       "            </figure>\n",
       "        \n",
       "            <figure style=\"margin: 5px !important;\">\n",
       "              <img src=\"data:image/png;base64,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\" style=\"height: auto\">\n",
       "              <figcaption style=\"font-size: 0.6em\">clust=14, #41639, val=3</figcaption>\n",
       "            </figure>\n",
       "        \n",
       "            <figure style=\"margin: 5px !important;\">\n",
       "              <img src=\"data:image/png;base64,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\" style=\"height: auto\">\n",
       "              <figcaption style=\"font-size: 0.6em\">clust=14, #41515, val=3</figcaption>\n",
       "            </figure>\n",
       "        \n",
       "            <figure style=\"margin: 5px !important;\">\n",
       "              <img src=\"data:image/png;base64,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\" style=\"height: auto\">\n",
       "              <figcaption style=\"font-size: 0.6em\">clust=14, #23724, val=3</figcaption>\n",
       "            </figure>\n",
       "        \n",
       "            <figure style=\"margin: 5px !important;\">\n",
       "              <img src=\"data:image/png;base64,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\" style=\"height: auto\">\n",
       "              <figcaption style=\"font-size: 0.6em\">clust=14, #51245, val=3</figcaption>\n",
       "            </figure>\n",
       "        \n",
       "            <figure style=\"margin: 5px !important;\">\n",
       "              <img src=\"data:image/png;base64,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\" style=\"height: auto\">\n",
       "              <figcaption style=\"font-size: 0.6em\">clust=14, #19501, val=3</figcaption>\n",
       "            </figure>\n",
       "        \n",
       "            <figure style=\"margin: 5px !important;\">\n",
       "              <img src=\"data:image/png;base64,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\" style=\"height: auto\">\n",
       "              <figcaption style=\"font-size: 0.6em\">clust=14, #6269, val=3</figcaption>\n",
       "            </figure>\n",
       "        \n",
       "            <figure style=\"margin: 5px !important;\">\n",
       "              <img src=\"data:image/png;base64,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\" style=\"height: auto\">\n",
       "              <figcaption style=\"font-size: 0.6em\">clust=14, #1981, val=3</figcaption>\n",
       "            </figure>\n",
       "        \n",
       "            <figure style=\"margin: 5px !important;\">\n",
       "              <img src=\"data:image/png;base64,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\" style=\"height: auto\">\n",
       "              <figcaption style=\"font-size: 0.6em\">clust=14, #33344, val=3</figcaption>\n",
       "            </figure>\n",
       "        \n",
       "            <figure style=\"margin: 5px !important;\">\n",
       "              <img src=\"data:image/png;base64,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\" style=\"height: auto\">\n",
       "              <figcaption style=\"font-size: 0.6em\">clust=14, #41537, val=3</figcaption>\n",
       "            </figure>\n",
       "        \n",
       "            <figure style=\"margin: 5px !important;\">\n",
       "              <img src=\"data:image/png;base64,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\" style=\"height: auto\">\n",
       "              <figcaption style=\"font-size: 0.6em\">clust=14, #41283, val=3</figcaption>\n",
       "            </figure>\n",
       "        \n",
       "            <figure style=\"margin: 5px !important;\">\n",
       "              <img src=\"data:image/png;base64,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\" style=\"height: auto\">\n",
       "              <figcaption style=\"font-size: 0.6em\">clust=14, #52035, val=3</figcaption>\n",
       "            </figure>\n",
       "        \n",
       "            <figure style=\"margin: 5px !important;\">\n",
       "              <img src=\"data:image/png;base64,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\" style=\"height: auto\">\n",
       "              <figcaption style=\"font-size: 0.6em\">clust=14, #1357, val=3</figcaption>\n",
       "            </figure>\n",
       "        \n",
       "            <figure style=\"margin: 5px !important;\">\n",
       "              <img src=\"data:image/png;base64,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\" style=\"height: auto\">\n",
       "              <figcaption style=\"font-size: 0.6em\">clust=14, #32339, val=3</figcaption>\n",
       "            </figure>\n",
       "        \n",
       "            <figure style=\"margin: 5px !important;\">\n",
       "              <img src=\"data:image/png;base64,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\" style=\"height: auto\">\n",
       "              <figcaption style=\"font-size: 0.6em\">clust=14, #8405, val=3</figcaption>\n",
       "            </figure>\n",
       "        \n",
       "            <figure style=\"margin: 5px !important;\">\n",
       "              <img src=\"data:image/png;base64,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\" style=\"height: auto\">\n",
       "              <figcaption style=\"font-size: 0.6em\">clust=14, #42070, val=3</figcaption>\n",
       "            </figure>\n",
       "        \n",
       "            <figure style=\"margin: 5px !important;\">\n",
       "              <img src=\"data:image/png;base64,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\" style=\"height: auto\">\n",
       "              <figcaption style=\"font-size: 0.6em\">clust=14, #28633, val=3</figcaption>\n",
       "            </figure>\n",
       "        \n",
       "            <figure style=\"margin: 5px !important;\">\n",
       "              <img src=\"data:image/png;base64,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\" style=\"height: auto\">\n",
       "              <figcaption style=\"font-size: 0.6em\">clust=14, #4073, val=3</figcaption>\n",
       "            </figure>\n",
       "        \n",
       "            <figure style=\"margin: 5px !important;\">\n",
       "              <img src=\"data:image/png;base64,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\" style=\"height: auto\">\n",
       "              <figcaption style=\"font-size: 0.6em\">clust=14, #47979, val=3</figcaption>\n",
       "            </figure>\n",
       "        \n",
       "            <figure style=\"margin: 5px !important;\">\n",
       "              <img src=\"data:image/png;base64,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\" style=\"height: auto\">\n",
       "              <figcaption style=\"font-size: 0.6em\">clust=14, #20849, val=3</figcaption>\n",
       "            </figure>\n",
       "        \n",
       "    </div>"
      ],
      "text/plain": [
       "<IPython.core.display.HTML object>"
      ]
     },
     "execution_count": 66,
     "metadata": {},
     "output_type": "execute_result"
    }
   ],
   "source": [
    "images = []\n",
    "captions = []\n",
    "\n",
    "if COLUMN.clusters.keys():\n",
    "    random_cluster_i = RNG.choice(list(COLUMN.clusters.keys()))\n",
    "    image_ids = COLUMN.cluster_to_image_ids[random_cluster_i]\n",
    "    df_i = df_train_images.loc[list(image_ids)]\n",
    "    image_datas = df_i['png']\n",
    "    images = [Image.open(io.BytesIO(image_data)) for image_data in image_datas]\n",
    "    captions = list(map(lambda p: f'clust={random_cluster_i}, #{p[0]}, val={p[1]}', zip(df_i.index, df_i['value'])))\n",
    "\n",
    "images = images[:32]\n",
    "captions = captions[:32]\n",
    "display_images_grid(images, captions=captions, col_count=8)"
   ]
  },
  {
   "cell_type": "code",
   "execution_count": 67,
   "id": "dedefb7f-24e7-43ca-91d6-eecc3fbaeb17",
   "metadata": {},
   "outputs": [
    {
     "data": {
      "application/vnd.jupyter.widget-view+json": {
       "model_id": "554383260dfd424a8d41db2ddc718b06",
       "version_major": 2,
       "version_minor": 0
      },
      "text/plain": [
       "  0%|          | 0/2000 [00:00<?, ?it/s]"
      ]
     },
     "metadata": {},
     "output_type": "display_data"
    }
   ],
   "source": [
    "# TEST RUN\n",
    "TEST_RUN_ID += 1\n",
    "count = 2000\n",
    "test_run_source = (df_test_images, test_db_con, 'test')\n",
    "# test_run_source = (df_train_images, train_db_con, 'train')\n",
    "test_image_ids = RNG.choice(test_run_source[0].index.unique(), count, replace=False)\n",
    "test_result_rows = defaultdict(list)\n",
    "\n",
    "for image_id in tqdm(test_image_ids):\n",
    "    max_cos_sim_index = -1 # aka cluster id\n",
    "    max_similar_cluster_image_value = ''\n",
    "    max_cos_sim = 0\n",
    "\n",
    "    image_value = test_run_source[0].loc[image_id]['value']\n",
    "    df_image_encodings = pd.read_sql('SELECT hdv FROM image_encodings WHERE image_id=:image_id', params={'image_id': int(image_id)}, con=test_run_source[1])\n",
    "    assert len(df_image_encodings) > 0\n",
    "    image_encoding_hdvs = list(map(lambda h: np.frombuffer(h, dtype='b'), df_image_encodings['hdv']))\n",
    "    image_encoding_hdvs_norm = hdc.normalize(image_encoding_hdvs)\n",
    "    image_encoding_hdvs_norm = xp_array_to_gpu(image_encoding_hdvs_norm)\n",
    "\n",
    "    cos_sim_matrix = COLUMN.cluster_norms.array @ image_encoding_hdvs_norm.T\n",
    "    cos_sim_matrix[cos_sim_matrix < COS_SIM_THRESHOLD] = 0\n",
    "    cos_sim_vector = xp_array_from_gpu(xp.sum(cos_sim_matrix, axis=1)) # how each mem recall (sum cos sim) is close to current image\n",
    "    \n",
    "    assert cos_sim_vector.shape == (COLUMN.cluster_norms.array.shape[0],)\n",
    "    cluster_ids_by_match_score = np.argsort(-cos_sim_vector) # sorted desc\n",
    "\n",
    "    if cluster_ids_by_match_score.shape[0] > 0:\n",
    "        cluster_id = cluster_ids_by_match_score[0]\n",
    "        cos_sim_value = cos_sim_vector[cluster_id]\n",
    "\n",
    "        # if cos_sim_value >= COS_SIM_THRESHOLD:\n",
    "        if cos_sim_value > 0:\n",
    "            cluster_image_ids = COLUMN.cluster_to_image_ids[cluster_id]\n",
    "            assert len(cluster_image_ids) > 0\n",
    "            cluster_image_id = next(iter(cluster_image_ids))\n",
    "            cluster_image_value = df_train_images.loc[cluster_image_id]['value']\n",
    "            max_cos_sim_index = cluster_id\n",
    "            max_similar_cluster_image_value = cluster_image_value\n",
    "            max_cos_sim = cos_sim_value\n",
    "    \n",
    "    test_result_rows['source_ds'].append(test_run_source[2])\n",
    "    test_result_rows['test_run_id'].append(TEST_RUN_ID)\n",
    "    test_result_rows['test_image_id'].append(image_id)\n",
    "    test_result_rows['true_value'].append(image_value)\n",
    "    test_result_rows['cluster_id'].append(max_cos_sim_index)\n",
    "    test_result_rows['infer_value'].append(max_similar_cluster_image_value)\n",
    "    test_result_rows['sim'].append(max_cos_sim)\n",
    "    \n",
    "\n",
    "assert set(test_result_rows.keys()) == set(df_test_results.columns)\n",
    "df_test_results_for_run = pd.DataFrame(test_result_rows, columns=df_test_results.columns)\n",
    "concat_list = [df_test_results] if len(df_test_results) > 0 else []\n",
    "concat_list.append(df_test_results_for_run)\n",
    "df_test_results = pd.concat(concat_list, ignore_index=True)"
   ]
  },
  {
   "cell_type": "code",
   "execution_count": 69,
   "id": "9ded612b-96ae-4f3d-a964-d78dcfb19834",
   "metadata": {},
   "outputs": [
    {
     "data": {
      "image/png": "[encoded data removed]",
      "text/plain": [
       "<Figure size 1600x400 with 3 Axes>"
      ]
     },
     "metadata": {},
     "output_type": "display_data"
    },
    {
     "data": {
      "text/html": [
       "<div>\n",
       "<style scoped>\n",
       "    .dataframe tbody tr th:only-of-type {\n",
       "        vertical-align: middle;\n",
       "    }\n",
       "\n",
       "    .dataframe tbody tr th {\n",
       "        vertical-align: top;\n",
       "    }\n",
       "\n",
       "    .dataframe thead th {\n",
       "        text-align: right;\n",
       "    }\n",
       "</style>\n",
       "<table border=\"1\" class=\"dataframe\">\n",
       "  <thead>\n",
       "    <tr style=\"text-align: right;\">\n",
       "      <th></th>\n",
       "      <th>count</th>\n",
       "      <th>infers</th>\n",
       "      <th>correct_infers</th>\n",
       "      <th>infer_ratio</th>\n",
       "      <th>accuracy_count</th>\n",
       "      <th>accuracy_infers</th>\n",
       "    </tr>\n",
       "    <tr>\n",
       "      <th>test_run_id</th>\n",
       "      <th></th>\n",
       "      <th></th>\n",
       "      <th></th>\n",
       "      <th></th>\n",
       "      <th></th>\n",
       "      <th></th>\n",
       "    </tr>\n",
       "  </thead>\n",
       "  <tbody>\n",
       "    <tr>\n",
       "      <th>1</th>\n",
       "      <td>2000</td>\n",
       "      <td>2000</td>\n",
       "      <td>1843</td>\n",
       "      <td>1.0</td>\n",
       "      <td>0.9215</td>\n",
       "      <td>0.9215</td>\n",
       "    </tr>\n",
       "    <tr>\n",
       "      <th>2</th>\n",
       "      <td>2000</td>\n",
       "      <td>2000</td>\n",
       "      <td>1861</td>\n",
       "      <td>1.0</td>\n",
       "      <td>0.9305</td>\n",
       "      <td>0.9305</td>\n",
       "    </tr>\n",
       "    <tr>\n",
       "      <th>3</th>\n",
       "      <td>2000</td>\n",
       "      <td>2000</td>\n",
       "      <td>1857</td>\n",
       "      <td>1.0</td>\n",
       "      <td>0.9285</td>\n",
       "      <td>0.9285</td>\n",
       "    </tr>\n",
       "    <tr>\n",
       "      <th>4</th>\n",
       "      <td>2000</td>\n",
       "      <td>2000</td>\n",
       "      <td>1867</td>\n",
       "      <td>1.0</td>\n",
       "      <td>0.9335</td>\n",
       "      <td>0.9335</td>\n",
       "    </tr>\n",
       "    <tr>\n",
       "      <th>5</th>\n",
       "      <td>2000</td>\n",
       "      <td>2000</td>\n",
       "      <td>1867</td>\n",
       "      <td>1.0</td>\n",
       "      <td>0.9335</td>\n",
       "      <td>0.9335</td>\n",
       "    </tr>\n",
       "  </tbody>\n",
       "</table>\n",
       "</div>"
      ],
      "text/plain": [
       "             count  infers  correct_infers  infer_ratio  accuracy_count  \\\n",
       "test_run_id                                                               \n",
       "1             2000    2000            1843          1.0          0.9215   \n",
       "2             2000    2000            1861          1.0          0.9305   \n",
       "3             2000    2000            1857          1.0          0.9285   \n",
       "4             2000    2000            1867          1.0          0.9335   \n",
       "5             2000    2000            1867          1.0          0.9335   \n",
       "\n",
       "             accuracy_infers  \n",
       "test_run_id                   \n",
       "1                     0.9215  \n",
       "2                     0.9305  \n",
       "3                     0.9285  \n",
       "4                     0.9335  \n",
       "5                     0.9335  "
      ]
     },
     "execution_count": 69,
     "metadata": {},
     "output_type": "execute_result"
    }
   ],
   "source": [
    "df_test_results2 = df_test_results.copy()\n",
    "df_test_results2['is_infer'] = df_test_results2['cluster_id'] > -1\n",
    "df_test_results2['is_correct_infer'] = df_test_results2['true_value'] == df_test_results2['infer_value']\n",
    "df_test_results2 = df_test_results2.groupby(by=['test_run_id']).agg({'test_image_id': 'count', 'is_infer': 'sum', 'is_correct_infer': 'sum'})\n",
    "df_test_results2.rename(columns=dict(test_image_id='count', is_infer='infers', is_correct_infer='correct_infers'), inplace=True, errors='raise')\n",
    "df_test_results2['infer_ratio'] = df_test_results2['infers'] / df_test_results2['count']\n",
    "df_test_results2['accuracy_count'] = df_test_results2['correct_infers'] / df_test_results2['count']\n",
    "df_test_results2['accuracy_infers'] = df_test_results2['correct_infers'] / df_test_results2['infers']\n",
    "\n",
    "plt.figure(figsize=(16, 4))\n",
    "plt.subplot(1, 3, 1)\n",
    "b = plt.bar(list(map(str, df_test_results2.index)), list(df_test_results2['infer_ratio']))\n",
    "plt.bar_label(b, map(lambda p: f'{p*100:.0f}', df_test_results2['infer_ratio']), label_type='center')\n",
    "plt.ylim(0, 1)\n",
    "plt.title('Infers, %')\n",
    "plt.xlabel('Test run')\n",
    "plt.grid()\n",
    "\n",
    "plt.subplot(1, 3, 2)\n",
    "b = plt.bar(list(map(str, df_test_results2.index)), list(df_test_results2['accuracy_count']))\n",
    "plt.bar_label(b, map(lambda p: f'{p*100:.0f}', df_test_results2['accuracy_count']), label_type='center')\n",
    "plt.ylim(0, 1)\n",
    "plt.title('Accuracy (Count), %')\n",
    "plt.xlabel('Test run')\n",
    "plt.grid()\n",
    "\n",
    "plt.subplot(1, 3, 3)\n",
    "b = plt.bar(list(map(str, df_test_results2.index)), list(df_test_results2['accuracy_infers']))\n",
    "plt.bar_label(b, map(lambda p: f'{p*100:.0f}', df_test_results2['accuracy_infers']), label_type='center')\n",
    "plt.ylim(0, 1)\n",
    "plt.title('Accuracy (Infers), %')\n",
    "plt.xlabel('Test run')\n",
    "plt.grid()\n",
    "\n",
    "plt.show()\n",
    "df_test_results2"
   ]
  },
  {
   "cell_type": "code",
   "execution_count": 80,
   "id": "a7f7fd04-f413-47bf-b601-3a9327b61c82",
   "metadata": {},
   "outputs": [
    {
     "data": {
      "text/html": [
       "<div>\n",
       "<style scoped>\n",
       "    .dataframe tbody tr th:only-of-type {\n",
       "        vertical-align: middle;\n",
       "    }\n",
       "\n",
       "    .dataframe tbody tr th {\n",
       "        vertical-align: top;\n",
       "    }\n",
       "\n",
       "    .dataframe thead th {\n",
       "        text-align: right;\n",
       "    }\n",
       "</style>\n",
       "<table border=\"1\" class=\"dataframe\">\n",
       "  <thead>\n",
       "    <tr style=\"text-align: right;\">\n",
       "      <th></th>\n",
       "      <th>test_run_id</th>\n",
       "      <th>test_image_id</th>\n",
       "      <th>true_value</th>\n",
       "      <th>cluster_id</th>\n",
       "      <th>cluster_value</th>\n",
       "      <th>sim</th>\n",
       "    </tr>\n",
       "  </thead>\n",
       "  <tbody>\n",
       "    <tr>\n",
       "      <th>0</th>\n",
       "      <td>4</td>\n",
       "      <td>50714</td>\n",
       "      <td>8</td>\n",
       "      <td>7</td>\n",
       "      <td>3</td>\n",
       "      <td>4.746327</td>\n",
       "    </tr>\n",
       "    <tr>\n",
       "      <th>1</th>\n",
       "      <td>4</td>\n",
       "      <td>50714</td>\n",
       "      <td>8</td>\n",
       "      <td>25</td>\n",
       "      <td>5</td>\n",
       "      <td>4.530153</td>\n",
       "    </tr>\n",
       "    <tr>\n",
       "      <th>2</th>\n",
       "      <td>4</td>\n",
       "      <td>50714</td>\n",
       "      <td>8</td>\n",
       "      <td>116</td>\n",
       "      <td>3</td>\n",
       "      <td>4.209261</td>\n",
       "    </tr>\n",
       "    <tr>\n",
       "      <th>3</th>\n",
       "      <td>4</td>\n",
       "      <td>50714</td>\n",
       "      <td>8</td>\n",
       "      <td>2</td>\n",
       "      <td>0</td>\n",
       "      <td>4.037438</td>\n",
       "    </tr>\n",
       "    <tr>\n",
       "      <th>4</th>\n",
       "      <td>4</td>\n",
       "      <td>50714</td>\n",
       "      <td>8</td>\n",
       "      <td>235</td>\n",
       "      <td>8</td>\n",
       "      <td>3.949721</td>\n",
       "    </tr>\n",
       "    <tr>\n",
       "      <th>5</th>\n",
       "      <td>4</td>\n",
       "      <td>50714</td>\n",
       "      <td>8</td>\n",
       "      <td>6</td>\n",
       "      <td>5</td>\n",
       "      <td>3.851814</td>\n",
       "    </tr>\n",
       "    <tr>\n",
       "      <th>6</th>\n",
       "      <td>4</td>\n",
       "      <td>50714</td>\n",
       "      <td>8</td>\n",
       "      <td>374</td>\n",
       "      <td>3</td>\n",
       "      <td>3.809770</td>\n",
       "    </tr>\n",
       "    <tr>\n",
       "      <th>7</th>\n",
       "      <td>4</td>\n",
       "      <td>50714</td>\n",
       "      <td>8</td>\n",
       "      <td>324</td>\n",
       "      <td>3</td>\n",
       "      <td>3.416562</td>\n",
       "    </tr>\n",
       "    <tr>\n",
       "      <th>8</th>\n",
       "      <td>4</td>\n",
       "      <td>50714</td>\n",
       "      <td>8</td>\n",
       "      <td>60</td>\n",
       "      <td>0</td>\n",
       "      <td>3.321664</td>\n",
       "    </tr>\n",
       "    <tr>\n",
       "      <th>9</th>\n",
       "      <td>4</td>\n",
       "      <td>50714</td>\n",
       "      <td>8</td>\n",
       "      <td>68</td>\n",
       "      <td>8</td>\n",
       "      <td>3.160940</td>\n",
       "    </tr>\n",
       "  </tbody>\n",
       "</table>\n",
       "</div>"
      ],
      "text/plain": [
       "   test_run_id  test_image_id true_value  cluster_id cluster_value       sim\n",
       "0            4          50714          8           7             3  4.746327\n",
       "1            4          50714          8          25             5  4.530153\n",
       "2            4          50714          8         116             3  4.209261\n",
       "3            4          50714          8           2             0  4.037438\n",
       "4            4          50714          8         235             8  3.949721\n",
       "5            4          50714          8           6             5  3.851814\n",
       "6            4          50714          8         374             3  3.809770\n",
       "7            4          50714          8         324             3  3.416562\n",
       "8            4          50714          8          60             0  3.321664\n",
       "9            4          50714          8          68             8  3.160940"
      ]
     },
     "execution_count": 80,
     "metadata": {},
     "output_type": "execute_result"
    }
   ],
   "source": [
    "df_test_results_incorrect_infers = df_test_results_for_run[df_test_results_for_run['true_value'] != df_test_results_for_run['infer_value']]\n",
    "incorrect_infer_row_index = RNG.choice(df_test_results_incorrect_infers.index.unique())\n",
    "test_run_id = df_test_results_incorrect_infers.loc[incorrect_infer_row_index]['test_run_id']\n",
    "incorrect_infer_image_id = df_test_results_incorrect_infers.loc[incorrect_infer_row_index]['test_image_id']\n",
    "image_data = test_run_source[0].loc[incorrect_infer_image_id]['png']\n",
    "image_value = test_run_source[0].loc[incorrect_infer_image_id]['value']\n",
    "\n",
    "df_x = pd.DataFrame(columns=['test_run_id', 'test_image_id', 'true_value', 'cluster_id', 'cluster_value', 'sim'])\n",
    "df_image_encodings = pd.read_sql('SELECT hdv FROM image_encodings WHERE image_id=:image_id', params={'image_id': int(incorrect_infer_image_id)}, con=test_run_source[1])\n",
    "assert len(df_image_encodings) > 0\n",
    "image_encoding_hdvs = list(map(lambda h: np.frombuffer(h, dtype='b'), df_image_encodings['hdv']))\n",
    "image_encoding_hdvs_norm = hdc.normalize(image_encoding_hdvs)\n",
    "image_encoding_hdvs_norm = xp_array_to_gpu(image_encoding_hdvs_norm)\n",
    "\n",
    "cos_sim_matrix = COLUMN.cluster_norms.array @ image_encoding_hdvs_norm.T\n",
    "cos_sim_matrix[cos_sim_matrix < COS_SIM_THRESHOLD] = 0\n",
    "cos_sim_vector = xp_array_from_gpu(xp.sum(cos_sim_matrix, axis=1)) # how each mem recall (sum cos sim) is close to current image\n",
    "\n",
    "assert cos_sim_vector.shape == (COLUMN.cluster_norms.array.shape[0],)\n",
    "cluster_ids_by_match_score = np.argsort(-cos_sim_vector) # sorted desc\n",
    "\n",
    "for pos, cluster_id in enumerate(cluster_ids_by_match_score):\n",
    "    cos_sim_value = cos_sim_vector[cluster_id]\n",
    "\n",
    "    if cos_sim_value <= 0:\n",
    "        break\n",
    "        \n",
    "    cluster_image_ids = COLUMN.cluster_to_image_ids[cluster_id]\n",
    "    assert len(cluster_image_ids) > 0\n",
    "    cluster_image_id = next(iter(cluster_image_ids))\n",
    "    cluster_image_value = df_train_images.loc[cluster_image_id]['value'] # exactly from train! (i.e. we look for prototype in train data)\n",
    "    df_x.loc[len(df_x)] = [test_run_id, incorrect_infer_image_id, image_value, cluster_id, cluster_image_value, cos_sim_value]\n",
    "\n",
    "df_x.sort_values(by='sim', ascending=False).head(10)"
   ]
  },
  {
   "cell_type": "code",
   "execution_count": 81,
   "id": "5ff3a026-80df-4d27-af26-5939c7a1ae64",
   "metadata": {},
   "outputs": [
    {
     "data": {
      "text/html": [
       "\n",
       "        <div style=\"display: flex; flex-flow: row wrap; text-align: center;\">\n",
       "        \n",
       "            <figure style=\"margin: 5px !important;\">\n",
       "              <img src=\"data:image/png;base64,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\" style=\"height: auto\">\n",
       "              <figcaption style=\"font-size: 0.6em\">8</figcaption>\n",
       "            </figure>\n",
       "        \n",
       "        </div>\n",
       "    "
      ],
      "text/plain": [
       "<IPython.core.display.HTML object>"
      ]
     },
     "execution_count": 81,
     "metadata": {},
     "output_type": "execute_result"
    }
   ],
   "source": [
    "image_data = test_run_source[0].loc[incorrect_infer_image_id]['png']\n",
    "image = Image.open(io.BytesIO(image_data))\n",
    "label = test_run_source[0].loc[incorrect_infer_image_id]['value']\n",
    "display_images([image], captions=[label])"
   ]
  },
  {
   "cell_type": "code",
   "execution_count": 59,
   "id": "0c9b40bc-7e09-40a6-947b-090d0ef463a2",
   "metadata": {},
   "outputs": [
    {
     "data": {
      "text/html": [
       "<div>\n",
       "<style scoped>\n",
       "    .dataframe tbody tr th:only-of-type {\n",
       "        vertical-align: middle;\n",
       "    }\n",
       "\n",
       "    .dataframe tbody tr th {\n",
       "        vertical-align: top;\n",
       "    }\n",
       "\n",
       "    .dataframe thead th {\n",
       "        text-align: right;\n",
       "    }\n",
       "</style>\n",
       "<table border=\"1\" class=\"dataframe\">\n",
       "  <thead>\n",
       "    <tr style=\"text-align: right;\">\n",
       "      <th></th>\n",
       "      <th>cluster_value</th>\n",
       "      <th>sim</th>\n",
       "      <th>true_value</th>\n",
       "    </tr>\n",
       "    <tr>\n",
       "      <th>cluster_id</th>\n",
       "      <th></th>\n",
       "      <th></th>\n",
       "      <th></th>\n",
       "    </tr>\n",
       "  </thead>\n",
       "  <tbody>\n",
       "    <tr>\n",
       "      <th>0</th>\n",
       "      <td>9</td>\n",
       "      <td>1.046799</td>\n",
       "      <td>9</td>\n",
       "    </tr>\n",
       "    <tr>\n",
       "      <th>249</th>\n",
       "      <td>7</td>\n",
       "      <td>1.044467</td>\n",
       "      <td>9</td>\n",
       "    </tr>\n",
       "    <tr>\n",
       "      <th>2</th>\n",
       "      <td>0</td>\n",
       "      <td>0.917181</td>\n",
       "      <td>9</td>\n",
       "    </tr>\n",
       "    <tr>\n",
       "      <th>226</th>\n",
       "      <td>9</td>\n",
       "      <td>0.548626</td>\n",
       "      <td>9</td>\n",
       "    </tr>\n",
       "    <tr>\n",
       "      <th>336</th>\n",
       "      <td>5</td>\n",
       "      <td>0.211032</td>\n",
       "      <td>9</td>\n",
       "    </tr>\n",
       "    <tr>\n",
       "      <th>192</th>\n",
       "      <td>5</td>\n",
       "      <td>0.12110580995225514</td>\n",
       "      <td>9</td>\n",
       "    </tr>\n",
       "    <tr>\n",
       "      <th>80</th>\n",
       "      <td>3</td>\n",
       "      <td>0.11793649906498342</td>\n",
       "      <td>9</td>\n",
       "    </tr>\n",
       "    <tr>\n",
       "      <th>104</th>\n",
       "      <td>3</td>\n",
       "      <td>0.10544239126778956</td>\n",
       "      <td>9</td>\n",
       "    </tr>\n",
       "    <tr>\n",
       "      <th>254</th>\n",
       "      <td>0</td>\n",
       "      <td>0.10111251713129436</td>\n",
       "      <td>9</td>\n",
       "    </tr>\n",
       "    <tr>\n",
       "      <th>41</th>\n",
       "      <td>5</td>\n",
       "      <td>0.09996525987493804</td>\n",
       "      <td>9</td>\n",
       "    </tr>\n",
       "    <tr>\n",
       "      <th>193</th>\n",
       "      <td>8</td>\n",
       "      <td>0.09824196236120111</td>\n",
       "      <td>9</td>\n",
       "    </tr>\n",
       "    <tr>\n",
       "      <th>23</th>\n",
       "      <td>0</td>\n",
       "      <td>0.08635478341512487</td>\n",
       "      <td>9</td>\n",
       "    </tr>\n",
       "    <tr>\n",
       "      <th>31</th>\n",
       "      <td>9</td>\n",
       "      <td>0.08568250457985543</td>\n",
       "      <td>9</td>\n",
       "    </tr>\n",
       "  </tbody>\n",
       "</table>\n",
       "</div>"
      ],
      "text/plain": [
       "           cluster_value                  sim true_value\n",
       "cluster_id                                              \n",
       "0                      9             1.046799          9\n",
       "249                    7             1.044467          9\n",
       "2                      0             0.917181          9\n",
       "226                    9             0.548626          9\n",
       "336                    5             0.211032          9\n",
       "192                    5  0.12110580995225514          9\n",
       "80                     3  0.11793649906498342          9\n",
       "104                    3  0.10544239126778956          9\n",
       "254                    0  0.10111251713129436          9\n",
       "41                     5  0.09996525987493804          9\n",
       "193                    8  0.09824196236120111          9\n",
       "23                     0  0.08635478341512487          9\n",
       "31                     9  0.08568250457985543          9"
      ]
     },
     "execution_count": 59,
     "metadata": {},
     "output_type": "execute_result"
    }
   ],
   "source": [
    "df_x_pivot = pd.pivot_table(df_x, index='cluster_id', \n",
    "                            values=['true_value', 'cluster_value', 'sim'], \n",
    "                            aggfunc=dict(cluster_value='first', true_value='first', sim='sum'))\n",
    "df_x_pivot.sort_values(by='sim', ascending=False)"
   ]
  },
  {
   "cell_type": "code",
   "execution_count": null,
   "id": "4b970735-532f-4a82-adfa-2df3f534203b",
   "metadata": {},
   "outputs": [],
   "source": []
  },
  {
   "cell_type": "code",
   "execution_count": 60,
   "id": "13076351-aaf9-4ef1-9e86-a77ee51ab0c0",
   "metadata": {},
   "outputs": [
    {
     "data": {
      "text/html": [
       "<div>\n",
       "<style scoped>\n",
       "    .dataframe tbody tr th:only-of-type {\n",
       "        vertical-align: middle;\n",
       "    }\n",
       "\n",
       "    .dataframe tbody tr th {\n",
       "        vertical-align: top;\n",
       "    }\n",
       "\n",
       "    .dataframe thead th {\n",
       "        text-align: right;\n",
       "    }\n",
       "</style>\n",
       "<table border=\"1\" class=\"dataframe\">\n",
       "  <thead>\n",
       "    <tr style=\"text-align: right;\">\n",
       "      <th></th>\n",
       "      <th>cluster_value</th>\n",
       "      <th>sim</th>\n",
       "      <th>true_value</th>\n",
       "    </tr>\n",
       "    <tr>\n",
       "      <th>cluster_id</th>\n",
       "      <th></th>\n",
       "      <th></th>\n",
       "      <th></th>\n",
       "    </tr>\n",
       "  </thead>\n",
       "  <tbody>\n",
       "    <tr>\n",
       "      <th>0</th>\n",
       "      <td>9</td>\n",
       "      <td>0.13774479351577515</td>\n",
       "      <td>9</td>\n",
       "    </tr>\n",
       "    <tr>\n",
       "      <th>249</th>\n",
       "      <td>7</td>\n",
       "      <td>0.1341514822666483</td>\n",
       "      <td>9</td>\n",
       "    </tr>\n",
       "    <tr>\n",
       "      <th>2</th>\n",
       "      <td>0</td>\n",
       "      <td>0.13210493575102844</td>\n",
       "      <td>9</td>\n",
       "    </tr>\n",
       "    <tr>\n",
       "      <th>226</th>\n",
       "      <td>9</td>\n",
       "      <td>0.1267169300539585</td>\n",
       "      <td>9</td>\n",
       "    </tr>\n",
       "    <tr>\n",
       "      <th>192</th>\n",
       "      <td>5</td>\n",
       "      <td>0.12110580995225514</td>\n",
       "      <td>9</td>\n",
       "    </tr>\n",
       "    <tr>\n",
       "      <th>80</th>\n",
       "      <td>3</td>\n",
       "      <td>0.11793649906498342</td>\n",
       "      <td>9</td>\n",
       "    </tr>\n",
       "    <tr>\n",
       "      <th>336</th>\n",
       "      <td>5</td>\n",
       "      <td>0.10593183890130904</td>\n",
       "      <td>9</td>\n",
       "    </tr>\n",
       "    <tr>\n",
       "      <th>104</th>\n",
       "      <td>3</td>\n",
       "      <td>0.10544239126778956</td>\n",
       "      <td>9</td>\n",
       "    </tr>\n",
       "    <tr>\n",
       "      <th>254</th>\n",
       "      <td>0</td>\n",
       "      <td>0.10111251713129436</td>\n",
       "      <td>9</td>\n",
       "    </tr>\n",
       "    <tr>\n",
       "      <th>41</th>\n",
       "      <td>5</td>\n",
       "      <td>0.09996525987493804</td>\n",
       "      <td>9</td>\n",
       "    </tr>\n",
       "    <tr>\n",
       "      <th>193</th>\n",
       "      <td>8</td>\n",
       "      <td>0.09824196236120111</td>\n",
       "      <td>9</td>\n",
       "    </tr>\n",
       "    <tr>\n",
       "      <th>23</th>\n",
       "      <td>0</td>\n",
       "      <td>0.08635478341512487</td>\n",
       "      <td>9</td>\n",
       "    </tr>\n",
       "    <tr>\n",
       "      <th>31</th>\n",
       "      <td>9</td>\n",
       "      <td>0.08568250457985543</td>\n",
       "      <td>9</td>\n",
       "    </tr>\n",
       "  </tbody>\n",
       "</table>\n",
       "</div>"
      ],
      "text/plain": [
       "           cluster_value                  sim true_value\n",
       "cluster_id                                              \n",
       "0                      9  0.13774479351577515          9\n",
       "249                    7   0.1341514822666483          9\n",
       "2                      0  0.13210493575102844          9\n",
       "226                    9   0.1267169300539585          9\n",
       "192                    5  0.12110580995225514          9\n",
       "80                     3  0.11793649906498342          9\n",
       "336                    5  0.10593183890130904          9\n",
       "104                    3  0.10544239126778956          9\n",
       "254                    0  0.10111251713129436          9\n",
       "41                     5  0.09996525987493804          9\n",
       "193                    8  0.09824196236120111          9\n",
       "23                     0  0.08635478341512487          9\n",
       "31                     9  0.08568250457985543          9"
      ]
     },
     "execution_count": 60,
     "metadata": {},
     "output_type": "execute_result"
    }
   ],
   "source": [
    "df_x_pivot = pd.pivot_table(df_x, index='cluster_id', \n",
    "                            values=['true_value', 'cluster_value', 'sim'], \n",
    "                            aggfunc=dict(cluster_value='first', true_value='first', sim='max'))\n",
    "df_x_pivot.sort_values(by='sim', ascending=False)"
   ]
  },
  {
   "cell_type": "code",
   "execution_count": 62,
   "id": "741528e7-cb1b-4583-93eb-c9c8425c70be",
   "metadata": {},
   "outputs": [
    {
     "data": {
      "text/plain": [
       "np.int64(4)"
      ]
     },
     "execution_count": 62,
     "metadata": {},
     "output_type": "execute_result"
    }
   ],
   "source": [
    "df_test_results_incorrect_infers.loc[incorrect_infer_row_index]['test_run_id']"
   ]
  },
  {
   "cell_type": "code",
   "execution_count": 63,
   "id": "75cc7cda-ca51-48b0-8fd1-b21a9244fcb5",
   "metadata": {},
   "outputs": [
    {
     "data": {
      "text/plain": [
       "np.int64(1312)"
      ]
     },
     "execution_count": 63,
     "metadata": {},
     "output_type": "execute_result"
    }
   ],
   "source": [
    "incorrect_infer_row_index"
   ]
  },
  {
   "cell_type": "code",
   "execution_count": null,
   "id": "173a27b8-9f22-47c0-a23a-ca3669ac1222",
   "metadata": {},
   "outputs": [],
   "source": []
  }
 ],
 "metadata": {
  "kernelspec": {
   "display_name": "Python 3 (ipykernel)",
   "language": "python",
   "name": "python3"
  },
  "language_info": {
   "codemirror_mode": {
    "name": "ipython",
    "version": 3
   },
   "file_extension": ".py",
   "mimetype": "text/x-python",
   "name": "python",
   "nbconvert_exporter": "python",
   "pygments_lexer": "ipython3",
   "version": "3.12.2"
  }
 },
 "nbformat": 4,
 "nbformat_minor": 5
}
