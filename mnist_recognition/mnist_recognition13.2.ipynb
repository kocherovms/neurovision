{
 "cells": [
  {
   "cell_type": "code",
   "execution_count": 4,
   "id": "27532844-1826-4299-b063-16a22e592f3f",
   "metadata": {},
   "outputs": [],
   "source": [
    "import os, math\n",
    "from collections import defaultdict\n",
    "import itertools\n",
    "import sqlite3\n",
    "\n",
    "import logging\n",
    "import logging.handlers\n",
    "\n",
    "from PIL import Image, ImageDraw\n",
    "from tqdm.notebook import tqdm\n",
    "\n",
    "from sklearn.model_selection import train_test_split\n",
    "import matplotlib.pyplot as plt\n",
    "import scipy\n",
    "import numpy as np\n",
    "import cupy as cp\n",
    "import pandas as pd\n",
    "\n",
    "from utils import *\n",
    "from hdc import *"
   ]
  },
  {
   "cell_type": "code",
   "execution_count": 5,
   "id": "73358262-adf2-4d17-a383-f120a5d1f8aa",
   "metadata": {},
   "outputs": [
    {
     "name": "stdout",
     "output_type": "stream",
     "text": [
      "xp = cupy\n"
     ]
    }
   ],
   "source": [
    "config = Config('SQLITE3_NORMAL_GRID_0_256')\n",
    "RNG = np.random.default_rng()\n",
    "\n",
    "if cp.cuda.is_available():\n",
    "    device_marker = cp.empty(1)\n",
    "    xp_array_from_gpu = lambda a: a.get() if isinstance(a, cp.ndarray) else a\n",
    "    xp_array_to_gpu = lambda a: cp.asarray(a) if isinstance(a, np.ndarray) else a\n",
    "else:\n",
    "    device_marker = np.empty(1)\n",
    "    xp_array_from_gpu = lambda a: a\n",
    "    xp_array_to_gpu = lambda a: a\n",
    "    \n",
    "xp = cp.get_array_module(device_marker)\n",
    "print(f'xp = {xp.__name__}')\n",
    "\n",
    "log = logging.getLogger('kmslog')\n",
    "log.setLevel(logging.DEBUG)\n",
    "\n",
    "if not log.hasHandlers():\n",
    "    log.addHandler(logging.handlers.SysLogHandler(address = '/dev/log', facility=logging.handlers.SysLogHandler.LOG_LOCAL0))\n",
    "\n",
    "def get_full_db_file_name(db_file_name):\n",
    "    return os.path.join(config.dataset_path, config.db_file_name_prefix + db_file_name)\n",
    "\n",
    "train_db_con = sqlite3.connect(get_full_db_file_name(config.train_db_file_name))\n",
    "test_db_con = sqlite3.connect(get_full_db_file_name(config.test_db_file_name))"
   ]
  },
  {
   "cell_type": "code",
   "execution_count": 6,
   "id": "d2dd62ab-b44e-4251-9e86-d41b3672e36e",
   "metadata": {},
   "outputs": [
    {
     "name": "stdout",
     "output_type": "stream",
     "text": [
      "CPU times: user 3 μs, sys: 1 μs, total: 4 μs\n",
      "Wall time: 7.39 μs\n"
     ]
    },
    {
     "data": {
      "text/plain": [
       "((10000, 3), (2000, 3))"
      ]
     },
     "execution_count": 6,
     "metadata": {},
     "output_type": "execute_result"
    }
   ],
   "source": [
    "%time\n",
    "df_train_images = pd.read_sql_query('SELECT * FROM images', con=train_db_con, index_col='image_id')\n",
    "df_test_images = pd.read_sql_query('SELECT * FROM images', con=test_db_con, index_col='image_id')\n",
    "df_train_images.shape, df_test_images.shape"
   ]
  },
  {
   "cell_type": "code",
   "execution_count": 7,
   "id": "75910c5d-054d-43c0-9a34-125ecde5a068",
   "metadata": {},
   "outputs": [
    {
     "data": {
      "text/html": [
       "<div>\n",
       "<style scoped>\n",
       "    .dataframe tbody tr th:only-of-type {\n",
       "        vertical-align: middle;\n",
       "    }\n",
       "\n",
       "    .dataframe tbody tr th {\n",
       "        vertical-align: top;\n",
       "    }\n",
       "\n",
       "    .dataframe thead th {\n",
       "        text-align: right;\n",
       "    }\n",
       "</style>\n",
       "<table border=\"1\" class=\"dataframe\">\n",
       "  <thead>\n",
       "    <tr style=\"text-align: right;\">\n",
       "      <th></th>\n",
       "      <th>index</th>\n",
       "      <th>value</th>\n",
       "      <th>png</th>\n",
       "    </tr>\n",
       "    <tr>\n",
       "      <th>image_id</th>\n",
       "      <th></th>\n",
       "      <th></th>\n",
       "      <th></th>\n",
       "    </tr>\n",
       "  </thead>\n",
       "  <tbody>\n",
       "    <tr>\n",
       "      <th>14189</th>\n",
       "      <td>0</td>\n",
       "      <td>8</td>\n",
       "      <td>b'\\x89PNG\\r\\n\\x1a\\n\\x00\\x00\\x00\\rIHDR\\x00\\x00\\...</td>\n",
       "    </tr>\n",
       "  </tbody>\n",
       "</table>\n",
       "</div>"
      ],
      "text/plain": [
       "          index value                                                png\n",
       "image_id                                                                \n",
       "14189         0     8  b'\\x89PNG\\r\\n\\x1a\\n\\x00\\x00\\x00\\rIHDR\\x00\\x00\\..."
      ]
     },
     "execution_count": 7,
     "metadata": {},
     "output_type": "execute_result"
    }
   ],
   "source": [
    "df_train_images.head(1)"
   ]
  },
  {
   "cell_type": "code",
   "execution_count": 8,
   "id": "b5a3b4ca-998d-4309-8499-d868b00ef9be",
   "metadata": {},
   "outputs": [],
   "source": [
    "def matrix_to_image(m):\n",
    "    m = m.ravel()\n",
    "    sz = int(np.sqrt(m.shape[0]))\n",
    "    assert sz * sz == m.shape[0]\n",
    "    return Image.frombytes('L', size=(sz, sz), data=m.astype('b'))"
   ]
  },
  {
   "cell_type": "code",
   "execution_count": 9,
   "id": "bc06ecb2-5ba8-4669-9dd9-17624127b081",
   "metadata": {},
   "outputs": [],
   "source": [
    "def lay_grid(image, step):\n",
    "    draw = ImageDraw.Draw(image)\n",
    "\n",
    "    for c in range(step - 1, image.height, step):\n",
    "        draw.line([0, c, image.width, c], fill=127)\n",
    "        draw.line([c, 0, c, image.height], fill=127)\n",
    "\n",
    "    return image"
   ]
  },
  {
   "cell_type": "code",
   "execution_count": 10,
   "id": "70b21219-4f16-4824-90ec-7bda1574c5d1",
   "metadata": {},
   "outputs": [
    {
     "data": {
      "text/html": [
       "<div style=\"\n",
       "        display: grid; \n",
       "        grid-template-columns: repeat(8, 128px);\n",
       "        column-gap: 1px;\n",
       "        row-gap: 1px;\">\n",
       "        \n",
       "            <figure style=\"margin: 5px !important;\">\n",
       "              <img src=\"data:image/png;base64,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\" style=\"height: auto\">\n",
       "              <figcaption style=\"font-size: 0.6em\">2</figcaption>\n",
       "            </figure>\n",
       "        \n",
       "            <figure style=\"margin: 5px !important;\">\n",
       "              <img src=\"data:image/png;base64,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\" style=\"height: auto\">\n",
       "              <figcaption style=\"font-size: 0.6em\">7</figcaption>\n",
       "            </figure>\n",
       "        \n",
       "            <figure style=\"margin: 5px !important;\">\n",
       "              <img src=\"data:image/png;base64,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\" style=\"height: auto\">\n",
       "              <figcaption style=\"font-size: 0.6em\">0</figcaption>\n",
       "            </figure>\n",
       "        \n",
       "            <figure style=\"margin: 5px !important;\">\n",
       "              <img src=\"data:image/png;base64,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\" style=\"height: auto\">\n",
       "              <figcaption style=\"font-size: 0.6em\">3</figcaption>\n",
       "            </figure>\n",
       "        \n",
       "            <figure style=\"margin: 5px !important;\">\n",
       "              <img src=\"data:image/png;base64,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\" style=\"height: auto\">\n",
       "              <figcaption style=\"font-size: 0.6em\">1</figcaption>\n",
       "            </figure>\n",
       "        \n",
       "            <figure style=\"margin: 5px !important;\">\n",
       "              <img src=\"data:image/png;base64,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\" style=\"height: auto\">\n",
       "              <figcaption style=\"font-size: 0.6em\">8</figcaption>\n",
       "            </figure>\n",
       "        \n",
       "            <figure style=\"margin: 5px !important;\">\n",
       "              <img src=\"data:image/png;base64,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\" style=\"height: auto\">\n",
       "              <figcaption style=\"font-size: 0.6em\">3</figcaption>\n",
       "            </figure>\n",
       "        \n",
       "            <figure style=\"margin: 5px !important;\">\n",
       "              <img src=\"data:image/png;base64,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\" style=\"height: auto\">\n",
       "              <figcaption style=\"font-size: 0.6em\">8</figcaption>\n",
       "            </figure>\n",
       "        \n",
       "            <figure style=\"margin: 5px !important;\">\n",
       "              <img src=\"data:image/png;base64,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\" style=\"height: auto\">\n",
       "              <figcaption style=\"font-size: 0.6em\">1</figcaption>\n",
       "            </figure>\n",
       "        \n",
       "            <figure style=\"margin: 5px !important;\">\n",
       "              <img src=\"data:image/png;base64,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\" style=\"height: auto\">\n",
       "              <figcaption style=\"font-size: 0.6em\">8</figcaption>\n",
       "            </figure>\n",
       "        \n",
       "            <figure style=\"margin: 5px !important;\">\n",
       "              <img src=\"data:image/png;base64,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\" style=\"height: auto\">\n",
       "              <figcaption style=\"font-size: 0.6em\">6</figcaption>\n",
       "            </figure>\n",
       "        \n",
       "            <figure style=\"margin: 5px !important;\">\n",
       "              <img src=\"data:image/png;base64,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\" style=\"height: auto\">\n",
       "              <figcaption style=\"font-size: 0.6em\">2</figcaption>\n",
       "            </figure>\n",
       "        \n",
       "            <figure style=\"margin: 5px !important;\">\n",
       "              <img src=\"data:image/png;base64,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\" style=\"height: auto\">\n",
       "              <figcaption style=\"font-size: 0.6em\">3</figcaption>\n",
       "            </figure>\n",
       "        \n",
       "            <figure style=\"margin: 5px !important;\">\n",
       "              <img src=\"data:image/png;base64,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\" style=\"height: auto\">\n",
       "              <figcaption style=\"font-size: 0.6em\">9</figcaption>\n",
       "            </figure>\n",
       "        \n",
       "            <figure style=\"margin: 5px !important;\">\n",
       "              <img src=\"data:image/png;base64,iVBORw0KGgoAAAANSUhEUgAAAIAAAACACAAAAADmVT4XAAAFk0lEQVR4nO2aS2/jNhCAZ/gWZW+apEAve2sP/f//qMAW21diW5YlvtmD7NhJLyWlag/1APbBAMXPw+E8BXCXu9zlLne5y13+74K16xApoxQBIOWYUko555oHsbrtAZncPHzSnOTo7TCM1rqwIgAg5ZsfPn9+bmlyY/f612vXn1JaDwAJlZsffvr58wNLY//n1y+NJNGFNQGYbJ8+//jjI49D96QpYrTGrghAuWy3D8/fbwG0ghgSBjOMqcIO6wAIk1prrRQAMP2dj0j80A02YjFBpQa4bLTiBAAAaPNEGDH7ly6ktTSAVCgpKEx2Lwlnaf/bRtmYoBShFoAxzighAACUco7j47ZVQ4BY+ihSB4CEUkrI2Y+i0JvNRjeSk2LPWgcAAICA+LYdl02jteJ0LYCcc8o33p9woRqlBC1+Uh1AzimllHICAMgAgJQJITld6whyit57H+JFBUgppbRi/1qA4Mw4Guuv8QcRsSa41wMM42hszJCnXXPOVRlBHUCK3tp3KUCqzUlqb0FKMaZU4XoXAkBCbz3RZAJYk9/VARDKhJRCsOvydY0QmZBKSsEpwhSBL055LQDChBCCXzUw3YH1jJAQyhil1/1jjDHG1QAQCSGE4NvqFIIPIVQQ1EZDRIJ4vQTRO+dciOWZee01xOlzlhycs9b5sJ4Gbi9+huStMcb4Cg1UVkbvJGU/jsPpNNiKrHQRgGBOx647HG34JhrIyZvh1B+PfaioTBbRQPTOWWtsTWiqT0rfPwYRb6/lv5clNECo0O1mu934UB6gFwBAypv83ePT87E3vtgIFtGAoPTh8fFxn1IsPoRFAICSRret7mm5SS1khOecdLX+wIfNITvnrLXu23jCDBCtGcfRfCNPCDlH76y11ldoYBkbeKvQypcuoQEEwqRSSomKYLCABhCRSt1uNm0jVusPfEAgUuu21TUAyxwBEi6EELzCES0BAJCntLymVlzGESVvxmEYjY/fxhHlaE993/eDKwdYwghzTq5aAws5olRtA8tcQ6Scc85Z+S1cBACRyqbRTSMrCJbxhEQ0bbupckQLaUCoRjfNiq3afzAwxt81LNYGACSEUkLK+1T1/YG3phgCAGQghFbsv1xSSijnax7BxxwYqdStlquF43/k4ERtn/vx1BX/odpglPPlaxKqn4bg+teVAPI0sZgAMgIA088JzEuzFkCKwQcfrzMyoh5y2H9Sa01MorfTwOJyCoSrdtsqthZAsP3h0A/mSjAN8sodQd0RpGCA7w79qIGd/0POdROLSgCfPO4Ox5MmSM/7xxhieUJUa4QxAjl23bHlV4K3a7ECAACAG/vuoDm9ziqrGgT1ANmf9i9KcHGz+6oAGIb9S9Po9o0IagBmDK/DeHjdHc2bM0KomVvNCMdx7A/dyZ2bIkgIZYyx0mZlPUAOpu/68QyAlHEhVdOIwgHyHAA79P3oL76YSdXotlWFOphRG0Y3DoMJFw2gUE272ZwK50YzNJCCNfZSDSJhXCqtW8VJ0TNnGGGOIdyOqaiQqrw2mJeU5tv+GOFSKSVFWWY6BwDxXfglXAipFGdFzmAGwDS9vNmMMyGFWPUI3gMRxhgvdUWzAD6Mach5nrsaACKh5PbS4Qer+K8BAADwUhqev9fsEZ2bg9fUfOoUFaZFsxyRN8NgbMznCjmlGHwIZYnhDFcc3XDYd71xl18wBWdN4eu9M1KyaCG1r4feXF5hy9GZYbBlzcI5ADnY9vV198Q30y9mHE7DaHzR3GZGOE4JXLf7649Ncg0nkIeXl/3xNBZ2S2f2isfd10/+z63iCDDuvnx56UvfIZgJ4Ha/hN+3U3/Q9S+/fj2Wju5mAoRd3mvJKSJAcEPX9bawX1z7ev9lOaPs0pybHFNNeXaXu9zlLne5y13+3/I3Cl8O/Ir0Q4MAAAAASUVORK5CYII=\" style=\"height: auto\">\n",
       "              <figcaption style=\"font-size: 0.6em\">1</figcaption>\n",
       "            </figure>\n",
       "        \n",
       "            <figure style=\"margin: 5px !important;\">\n",
       "              <img src=\"data:image/png;base64,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\" style=\"height: auto\">\n",
       "              <figcaption style=\"font-size: 0.6em\">6</figcaption>\n",
       "            </figure>\n",
       "        \n",
       "    </div>"
      ],
      "text/plain": [
       "<IPython.core.display.HTML object>"
      ]
     },
     "execution_count": 10,
     "metadata": {},
     "output_type": "execute_result"
    }
   ],
   "source": [
    "count = 8\n",
    "\n",
    "def get_some_random_images_and_labels(df, count):\n",
    "    image_ids = RNG.choice(df.index.unique(), count, replace=False)\n",
    "    image_datas = df.loc[image_ids]['png']\n",
    "    images = [Image.open(io.BytesIO(image_data)) for image_data in image_datas]\n",
    "    labels = df.loc[image_ids]['value']\n",
    "    return images, list(labels)\n",
    "\n",
    "train_images, train_labels = get_some_random_images_and_labels(df_train_images, count)\n",
    "test_images, test_labels = get_some_random_images_and_labels(df_test_images, count)\n",
    "\n",
    "display_images_grid(train_images + test_images, captions=train_labels + test_labels, col_count=count)"
   ]
  },
  {
   "cell_type": "code",
   "execution_count": null,
   "id": "5f694172-e3aa-4127-b775-cc4c4bc35b33",
   "metadata": {},
   "outputs": [],
   "source": [
    "DF_TEST_RESULTS = pd.DataFrame(columns=['test_run_id', 'config_variant', 'cortical_columns', 'train_images_count', \n",
    "                                        'source_ds', 'test_image_id', 'true_value', 'infer_value', 'sim'])\n",
    "TRAIN_RUN_ID = 0\n",
    "TEST_RUN_ID = 0"
   ]
  },
  {
   "cell_type": "code",
   "execution_count": 11,
   "id": "e5019d63-ce09-4130-ac07-b6ae15a84ab4",
   "metadata": {},
   "outputs": [],
   "source": [
    "# COS_SIM_THRESHOLD = 0.075\n",
    "COS_SIM_THRESHOLD = 0.055\n",
    "hdc = Hdc(10_000, np)"
   ]
  },
  {
   "cell_type": "code",
   "execution_count": 12,
   "id": "317bc435-b1be-4e25-8f4f-b9e3d35f522b",
   "metadata": {},
   "outputs": [],
   "source": [
    "class CorticalColumn(object):\n",
    "    def __init__(self):\n",
    "        self.clusters = defaultdict(list) # cluster = collection of image bundles for particular class\n",
    "        self.cluster_norms = HdvArray(hdc.N, xp)\n",
    "        self.cluster_to_image_ids = defaultdict(set)\n",
    "        self.images_seen = 0"
   ]
  },
  {
   "cell_type": "code",
   "execution_count": 13,
   "id": "1e8dc096-5076-4657-b22c-a489c2be1694",
   "metadata": {},
   "outputs": [],
   "source": [
    "COLUMN = CorticalColumn()"
   ]
  },
  {
   "cell_type": "code",
   "execution_count": null,
   "id": "bc72b601-6398-4d84-9ce3-97e1a9a92bfa",
   "metadata": {},
   "outputs": [
    {
     "data": {
      "application/vnd.jupyter.widget-view+json": {
       "model_id": "acd7a64f1a8d4645ab7d76a62cf883d5",
       "version_major": 2,
       "version_minor": 0
      },
      "text/plain": [
       "Epoch:   0%|          | 0/10 [00:00<?, ?it/s]"
      ]
     },
     "metadata": {},
     "output_type": "display_data"
    },
    {
     "data": {
      "application/vnd.jupyter.widget-view+json": {
       "model_id": "",
       "version_major": 2,
       "version_minor": 0
      },
      "text/plain": [
       "Attempt:   0%|          | 0/20 [00:00<?, ?it/s]"
      ]
     },
     "metadata": {},
     "output_type": "display_data"
    },
    {
     "data": {
      "application/vnd.jupyter.widget-view+json": {
       "model_id": "",
       "version_major": 2,
       "version_minor": 0
      },
      "text/plain": [
       "Image (train):   0%|          | 0/1000 [00:00<?, ?it/s]"
      ]
     },
     "metadata": {},
     "output_type": "display_data"
    },
    {
     "data": {
      "application/vnd.jupyter.widget-view+json": {
       "model_id": "",
       "version_major": 2,
       "version_minor": 0
      },
      "text/plain": [
       "Image (test):   0%|          | 0/1000 [00:00<?, ?it/s]"
      ]
     },
     "metadata": {},
     "output_type": "display_data"
    },
    {
     "data": {
      "application/vnd.jupyter.widget-view+json": {
       "model_id": "",
       "version_major": 2,
       "version_minor": 0
      },
      "text/plain": [
       "Image (train):   0%|          | 0/23 [00:00<?, ?it/s]"
      ]
     },
     "metadata": {},
     "output_type": "display_data"
    },
    {
     "data": {
      "application/vnd.jupyter.widget-view+json": {
       "model_id": "",
       "version_major": 2,
       "version_minor": 0
      },
      "text/plain": [
       "Image (test):   0%|          | 0/23 [00:00<?, ?it/s]"
      ]
     },
     "metadata": {},
     "output_type": "display_data"
    },
    {
     "data": {
      "application/vnd.jupyter.widget-view+json": {
       "model_id": "",
       "version_major": 2,
       "version_minor": 0
      },
      "text/plain": [
       "Image (train):   0%|          | 0/18 [00:00<?, ?it/s]"
      ]
     },
     "metadata": {},
     "output_type": "display_data"
    },
    {
     "data": {
      "application/vnd.jupyter.widget-view+json": {
       "model_id": "",
       "version_major": 2,
       "version_minor": 0
      },
      "text/plain": [
       "Image (test):   0%|          | 0/18 [00:00<?, ?it/s]"
      ]
     },
     "metadata": {},
     "output_type": "display_data"
    },
    {
     "data": {
      "application/vnd.jupyter.widget-view+json": {
       "model_id": "",
       "version_major": 2,
       "version_minor": 0
      },
      "text/plain": [
       "Image (train):   0%|          | 0/17 [00:00<?, ?it/s]"
      ]
     },
     "metadata": {},
     "output_type": "display_data"
    },
    {
     "data": {
      "application/vnd.jupyter.widget-view+json": {
       "model_id": "",
       "version_major": 2,
       "version_minor": 0
      },
      "text/plain": [
       "Image (test):   0%|          | 0/17 [00:00<?, ?it/s]"
      ]
     },
     "metadata": {},
     "output_type": "display_data"
    },
    {
     "data": {
      "application/vnd.jupyter.widget-view+json": {
       "model_id": "",
       "version_major": 2,
       "version_minor": 0
      },
      "text/plain": [
       "Image (train):   0%|          | 0/14 [00:00<?, ?it/s]"
      ]
     },
     "metadata": {},
     "output_type": "display_data"
    },
    {
     "data": {
      "application/vnd.jupyter.widget-view+json": {
       "model_id": "",
       "version_major": 2,
       "version_minor": 0
      },
      "text/plain": [
       "Image (test):   0%|          | 0/14 [00:00<?, ?it/s]"
      ]
     },
     "metadata": {},
     "output_type": "display_data"
    },
    {
     "data": {
      "application/vnd.jupyter.widget-view+json": {
       "model_id": "",
       "version_major": 2,
       "version_minor": 0
      },
      "text/plain": [
       "Image (train):   0%|          | 0/12 [00:00<?, ?it/s]"
      ]
     },
     "metadata": {},
     "output_type": "display_data"
    },
    {
     "data": {
      "application/vnd.jupyter.widget-view+json": {
       "model_id": "",
       "version_major": 2,
       "version_minor": 0
      },
      "text/plain": [
       "Image (test):   0%|          | 0/12 [00:00<?, ?it/s]"
      ]
     },
     "metadata": {},
     "output_type": "display_data"
    },
    {
     "data": {
      "application/vnd.jupyter.widget-view+json": {
       "model_id": "",
       "version_major": 2,
       "version_minor": 0
      },
      "text/plain": [
       "Image (train):   0%|          | 0/10 [00:00<?, ?it/s]"
      ]
     },
     "metadata": {},
     "output_type": "display_data"
    },
    {
     "data": {
      "application/vnd.jupyter.widget-view+json": {
       "model_id": "",
       "version_major": 2,
       "version_minor": 0
      },
      "text/plain": [
       "Image (test):   0%|          | 0/10 [00:00<?, ?it/s]"
      ]
     },
     "metadata": {},
     "output_type": "display_data"
    },
    {
     "data": {
      "application/vnd.jupyter.widget-view+json": {
       "model_id": "",
       "version_major": 2,
       "version_minor": 0
      },
      "text/plain": [
       "Image (train):   0%|          | 0/10 [00:00<?, ?it/s]"
      ]
     },
     "metadata": {},
     "output_type": "display_data"
    },
    {
     "data": {
      "application/vnd.jupyter.widget-view+json": {
       "model_id": "",
       "version_major": 2,
       "version_minor": 0
      },
      "text/plain": [
       "Image (test):   0%|          | 0/10 [00:00<?, ?it/s]"
      ]
     },
     "metadata": {},
     "output_type": "display_data"
    },
    {
     "data": {
      "application/vnd.jupyter.widget-view+json": {
       "model_id": "",
       "version_major": 2,
       "version_minor": 0
      },
      "text/plain": [
       "Image (train):   0%|          | 0/10 [00:00<?, ?it/s]"
      ]
     },
     "metadata": {},
     "output_type": "display_data"
    },
    {
     "data": {
      "application/vnd.jupyter.widget-view+json": {
       "model_id": "",
       "version_major": 2,
       "version_minor": 0
      },
      "text/plain": [
       "Image (test):   0%|          | 0/10 [00:00<?, ?it/s]"
      ]
     },
     "metadata": {},
     "output_type": "display_data"
    },
    {
     "data": {
      "application/vnd.jupyter.widget-view+json": {
       "model_id": "",
       "version_major": 2,
       "version_minor": 0
      },
      "text/plain": [
       "Image (train):   0%|          | 0/8 [00:00<?, ?it/s]"
      ]
     },
     "metadata": {},
     "output_type": "display_data"
    },
    {
     "data": {
      "application/vnd.jupyter.widget-view+json": {
       "model_id": "",
       "version_major": 2,
       "version_minor": 0
      },
      "text/plain": [
       "Image (test):   0%|          | 0/8 [00:00<?, ?it/s]"
      ]
     },
     "metadata": {},
     "output_type": "display_data"
    },
    {
     "data": {
      "application/vnd.jupyter.widget-view+json": {
       "model_id": "",
       "version_major": 2,
       "version_minor": 0
      },
      "text/plain": [
       "Image (train):   0%|          | 0/8 [00:00<?, ?it/s]"
      ]
     },
     "metadata": {},
     "output_type": "display_data"
    },
    {
     "data": {
      "application/vnd.jupyter.widget-view+json": {
       "model_id": "",
       "version_major": 2,
       "version_minor": 0
      },
      "text/plain": [
       "Image (test):   0%|          | 0/8 [00:00<?, ?it/s]"
      ]
     },
     "metadata": {},
     "output_type": "display_data"
    },
    {
     "data": {
      "application/vnd.jupyter.widget-view+json": {
       "model_id": "",
       "version_major": 2,
       "version_minor": 0
      },
      "text/plain": [
       "Image (train):   0%|          | 0/8 [00:00<?, ?it/s]"
      ]
     },
     "metadata": {},
     "output_type": "display_data"
    },
    {
     "data": {
      "application/vnd.jupyter.widget-view+json": {
       "model_id": "",
       "version_major": 2,
       "version_minor": 0
      },
      "text/plain": [
       "Image (test):   0%|          | 0/8 [00:00<?, ?it/s]"
      ]
     },
     "metadata": {},
     "output_type": "display_data"
    },
    {
     "data": {
      "application/vnd.jupyter.widget-view+json": {
       "model_id": "",
       "version_major": 2,
       "version_minor": 0
      },
      "text/plain": [
       "Image (train):   0%|          | 0/6 [00:00<?, ?it/s]"
      ]
     },
     "metadata": {},
     "output_type": "display_data"
    },
    {
     "data": {
      "application/vnd.jupyter.widget-view+json": {
       "model_id": "",
       "version_major": 2,
       "version_minor": 0
      },
      "text/plain": [
       "Image (test):   0%|          | 0/6 [00:00<?, ?it/s]"
      ]
     },
     "metadata": {},
     "output_type": "display_data"
    },
    {
     "data": {
      "application/vnd.jupyter.widget-view+json": {
       "model_id": "",
       "version_major": 2,
       "version_minor": 0
      },
      "text/plain": [
       "Image (train):   0%|          | 0/6 [00:00<?, ?it/s]"
      ]
     },
     "metadata": {},
     "output_type": "display_data"
    },
    {
     "data": {
      "application/vnd.jupyter.widget-view+json": {
       "model_id": "",
       "version_major": 2,
       "version_minor": 0
      },
      "text/plain": [
       "Image (test):   0%|          | 0/6 [00:00<?, ?it/s]"
      ]
     },
     "metadata": {},
     "output_type": "display_data"
    },
    {
     "data": {
      "application/vnd.jupyter.widget-view+json": {
       "model_id": "",
       "version_major": 2,
       "version_minor": 0
      },
      "text/plain": [
       "Image (train):   0%|          | 0/6 [00:00<?, ?it/s]"
      ]
     },
     "metadata": {},
     "output_type": "display_data"
    },
    {
     "data": {
      "application/vnd.jupyter.widget-view+json": {
       "model_id": "",
       "version_major": 2,
       "version_minor": 0
      },
      "text/plain": [
       "Image (test):   0%|          | 0/6 [00:00<?, ?it/s]"
      ]
     },
     "metadata": {},
     "output_type": "display_data"
    },
    {
     "data": {
      "application/vnd.jupyter.widget-view+json": {
       "model_id": "",
       "version_major": 2,
       "version_minor": 0
      },
      "text/plain": [
       "Image (train):   0%|          | 0/4 [00:00<?, ?it/s]"
      ]
     },
     "metadata": {},
     "output_type": "display_data"
    },
    {
     "data": {
      "application/vnd.jupyter.widget-view+json": {
       "model_id": "",
       "version_major": 2,
       "version_minor": 0
      },
      "text/plain": [
       "Image (test):   0%|          | 0/4 [00:00<?, ?it/s]"
      ]
     },
     "metadata": {},
     "output_type": "display_data"
    },
    {
     "data": {
      "application/vnd.jupyter.widget-view+json": {
       "model_id": "",
       "version_major": 2,
       "version_minor": 0
      },
      "text/plain": [
       "Image (train):   0%|          | 0/4 [00:00<?, ?it/s]"
      ]
     },
     "metadata": {},
     "output_type": "display_data"
    },
    {
     "data": {
      "application/vnd.jupyter.widget-view+json": {
       "model_id": "",
       "version_major": 2,
       "version_minor": 0
      },
      "text/plain": [
       "Image (test):   0%|          | 0/4 [00:00<?, ?it/s]"
      ]
     },
     "metadata": {},
     "output_type": "display_data"
    },
    {
     "data": {
      "application/vnd.jupyter.widget-view+json": {
       "model_id": "",
       "version_major": 2,
       "version_minor": 0
      },
      "text/plain": [
       "Image (train):   0%|          | 0/4 [00:00<?, ?it/s]"
      ]
     },
     "metadata": {},
     "output_type": "display_data"
    },
    {
     "data": {
      "application/vnd.jupyter.widget-view+json": {
       "model_id": "",
       "version_major": 2,
       "version_minor": 0
      },
      "text/plain": [
       "Image (test):   0%|          | 0/4 [00:00<?, ?it/s]"
      ]
     },
     "metadata": {},
     "output_type": "display_data"
    },
    {
     "data": {
      "application/vnd.jupyter.widget-view+json": {
       "model_id": "",
       "version_major": 2,
       "version_minor": 0
      },
      "text/plain": [
       "Image (train):   0%|          | 0/4 [00:00<?, ?it/s]"
      ]
     },
     "metadata": {},
     "output_type": "display_data"
    },
    {
     "data": {
      "application/vnd.jupyter.widget-view+json": {
       "model_id": "",
       "version_major": 2,
       "version_minor": 0
      },
      "text/plain": [
       "Image (test):   0%|          | 0/4 [00:00<?, ?it/s]"
      ]
     },
     "metadata": {},
     "output_type": "display_data"
    },
    {
     "data": {
      "application/vnd.jupyter.widget-view+json": {
       "model_id": "",
       "version_major": 2,
       "version_minor": 0
      },
      "text/plain": [
       "Image (train):   0%|          | 0/4 [00:00<?, ?it/s]"
      ]
     },
     "metadata": {},
     "output_type": "display_data"
    },
    {
     "data": {
      "application/vnd.jupyter.widget-view+json": {
       "model_id": "",
       "version_major": 2,
       "version_minor": 0
      },
      "text/plain": [
       "Image (test):   0%|          | 0/4 [00:00<?, ?it/s]"
      ]
     },
     "metadata": {},
     "output_type": "display_data"
    },
    {
     "data": {
      "application/vnd.jupyter.widget-view+json": {
       "model_id": "",
       "version_major": 2,
       "version_minor": 0
      },
      "text/plain": [
       "Attempt:   0%|          | 0/20 [00:00<?, ?it/s]"
      ]
     },
     "metadata": {},
     "output_type": "display_data"
    },
    {
     "data": {
      "application/vnd.jupyter.widget-view+json": {
       "model_id": "",
       "version_major": 2,
       "version_minor": 0
      },
      "text/plain": [
       "Image (train):   0%|          | 0/1000 [00:00<?, ?it/s]"
      ]
     },
     "metadata": {},
     "output_type": "display_data"
    },
    {
     "data": {
      "application/vnd.jupyter.widget-view+json": {
       "model_id": "",
       "version_major": 2,
       "version_minor": 0
      },
      "text/plain": [
       "Image (test):   0%|          | 0/1000 [00:00<?, ?it/s]"
      ]
     },
     "metadata": {},
     "output_type": "display_data"
    },
    {
     "data": {
      "application/vnd.jupyter.widget-view+json": {
       "model_id": "",
       "version_major": 2,
       "version_minor": 0
      },
      "text/plain": [
       "Image (train):   0%|          | 0/32 [00:00<?, ?it/s]"
      ]
     },
     "metadata": {},
     "output_type": "display_data"
    },
    {
     "data": {
      "application/vnd.jupyter.widget-view+json": {
       "model_id": "",
       "version_major": 2,
       "version_minor": 0
      },
      "text/plain": [
       "Image (test):   0%|          | 0/32 [00:00<?, ?it/s]"
      ]
     },
     "metadata": {},
     "output_type": "display_data"
    },
    {
     "data": {
      "application/vnd.jupyter.widget-view+json": {
       "model_id": "",
       "version_major": 2,
       "version_minor": 0
      },
      "text/plain": [
       "Image (train):   0%|          | 0/26 [00:00<?, ?it/s]"
      ]
     },
     "metadata": {},
     "output_type": "display_data"
    },
    {
     "data": {
      "application/vnd.jupyter.widget-view+json": {
       "model_id": "",
       "version_major": 2,
       "version_minor": 0
      },
      "text/plain": [
       "Image (test):   0%|          | 0/26 [00:00<?, ?it/s]"
      ]
     },
     "metadata": {},
     "output_type": "display_data"
    },
    {
     "data": {
      "application/vnd.jupyter.widget-view+json": {
       "model_id": "",
       "version_major": 2,
       "version_minor": 0
      },
      "text/plain": [
       "Image (train):   0%|          | 0/24 [00:00<?, ?it/s]"
      ]
     },
     "metadata": {},
     "output_type": "display_data"
    },
    {
     "data": {
      "application/vnd.jupyter.widget-view+json": {
       "model_id": "45be6f7b9b784e0db6e3175f5def1e69",
       "version_major": 2,
       "version_minor": 0
      },
      "text/plain": [
       "Image (test):   0%|          | 0/24 [00:00<?, ?it/s]"
      ]
     },
     "metadata": {},
     "output_type": "display_data"
    },
    {
     "data": {
      "application/vnd.jupyter.widget-view+json": {
       "model_id": "a5942f2bd60b47eaa53d6a604ce3b8e9",
       "version_major": 2,
       "version_minor": 0
      },
      "text/plain": [
       "Image (train):   0%|          | 0/23 [00:00<?, ?it/s]"
      ]
     },
     "metadata": {},
     "output_type": "display_data"
    },
    {
     "data": {
      "application/vnd.jupyter.widget-view+json": {
       "model_id": "bdbb6f8a7c6345d29d263a6669aacfe8",
       "version_major": 2,
       "version_minor": 0
      },
      "text/plain": [
       "Image (test):   0%|          | 0/23 [00:00<?, ?it/s]"
      ]
     },
     "metadata": {},
     "output_type": "display_data"
    },
    {
     "data": {
      "application/vnd.jupyter.widget-view+json": {
       "model_id": "b621dadfad2146f3ad00a3b74e4fc169",
       "version_major": 2,
       "version_minor": 0
      },
      "text/plain": [
       "Image (train):   0%|          | 0/18 [00:00<?, ?it/s]"
      ]
     },
     "metadata": {},
     "output_type": "display_data"
    },
    {
     "data": {
      "application/vnd.jupyter.widget-view+json": {
       "model_id": "1fa4e479cf044a308beffaa2e065f9d2",
       "version_major": 2,
       "version_minor": 0
      },
      "text/plain": [
       "Image (test):   0%|          | 0/18 [00:00<?, ?it/s]"
      ]
     },
     "metadata": {},
     "output_type": "display_data"
    },
    {
     "data": {
      "application/vnd.jupyter.widget-view+json": {
       "model_id": "adff8f2872a94d68b6d91b420b0a04f4",
       "version_major": 2,
       "version_minor": 0
      },
      "text/plain": [
       "Image (train):   0%|          | 0/16 [00:00<?, ?it/s]"
      ]
     },
     "metadata": {},
     "output_type": "display_data"
    },
    {
     "data": {
      "application/vnd.jupyter.widget-view+json": {
       "model_id": "12d95e09b6bd45288d6f5e75f9dd752d",
       "version_major": 2,
       "version_minor": 0
      },
      "text/plain": [
       "Image (test):   0%|          | 0/16 [00:00<?, ?it/s]"
      ]
     },
     "metadata": {},
     "output_type": "display_data"
    },
    {
     "data": {
      "application/vnd.jupyter.widget-view+json": {
       "model_id": "f07fc0ccb4ff4a01b2cc96b222b276bd",
       "version_major": 2,
       "version_minor": 0
      },
      "text/plain": [
       "Image (train):   0%|          | 0/16 [00:00<?, ?it/s]"
      ]
     },
     "metadata": {},
     "output_type": "display_data"
    },
    {
     "data": {
      "application/vnd.jupyter.widget-view+json": {
       "model_id": "2c788316861d40d39bdb8d60be4d75d3",
       "version_major": 2,
       "version_minor": 0
      },
      "text/plain": [
       "Image (test):   0%|          | 0/16 [00:00<?, ?it/s]"
      ]
     },
     "metadata": {},
     "output_type": "display_data"
    },
    {
     "data": {
      "application/vnd.jupyter.widget-view+json": {
       "model_id": "3a0633c97648435ba25eaa9b1da7b28a",
       "version_major": 2,
       "version_minor": 0
      },
      "text/plain": [
       "Image (train):   0%|          | 0/14 [00:00<?, ?it/s]"
      ]
     },
     "metadata": {},
     "output_type": "display_data"
    },
    {
     "data": {
      "application/vnd.jupyter.widget-view+json": {
       "model_id": "0778360be2384bc197bf8afca8561ce1",
       "version_major": 2,
       "version_minor": 0
      },
      "text/plain": [
       "Image (test):   0%|          | 0/14 [00:00<?, ?it/s]"
      ]
     },
     "metadata": {},
     "output_type": "display_data"
    },
    {
     "data": {
      "application/vnd.jupyter.widget-view+json": {
       "model_id": "e974512db5a54814a3c94b8e45698ceb",
       "version_major": 2,
       "version_minor": 0
      },
      "text/plain": [
       "Image (train):   0%|          | 0/11 [00:00<?, ?it/s]"
      ]
     },
     "metadata": {},
     "output_type": "display_data"
    },
    {
     "data": {
      "application/vnd.jupyter.widget-view+json": {
       "model_id": "372bd473c33b48fcbe51840990ebce43",
       "version_major": 2,
       "version_minor": 0
      },
      "text/plain": [
       "Image (test):   0%|          | 0/11 [00:00<?, ?it/s]"
      ]
     },
     "metadata": {},
     "output_type": "display_data"
    },
    {
     "data": {
      "application/vnd.jupyter.widget-view+json": {
       "model_id": "ede2a22c45c642e384c48ba263ed9669",
       "version_major": 2,
       "version_minor": 0
      },
      "text/plain": [
       "Image (train):   0%|          | 0/11 [00:00<?, ?it/s]"
      ]
     },
     "metadata": {},
     "output_type": "display_data"
    },
    {
     "data": {
      "application/vnd.jupyter.widget-view+json": {
       "model_id": "e5b6cd77636e4db3a36181ed9adfe701",
       "version_major": 2,
       "version_minor": 0
      },
      "text/plain": [
       "Image (test):   0%|          | 0/11 [00:00<?, ?it/s]"
      ]
     },
     "metadata": {},
     "output_type": "display_data"
    },
    {
     "data": {
      "application/vnd.jupyter.widget-view+json": {
       "model_id": "89f611575b004bab87b2ac801a1cd07c",
       "version_major": 2,
       "version_minor": 0
      },
      "text/plain": [
       "Image (train):   0%|          | 0/10 [00:00<?, ?it/s]"
      ]
     },
     "metadata": {},
     "output_type": "display_data"
    },
    {
     "data": {
      "application/vnd.jupyter.widget-view+json": {
       "model_id": "11b2dc15f95a4161b5b73944fbc1714b",
       "version_major": 2,
       "version_minor": 0
      },
      "text/plain": [
       "Image (test):   0%|          | 0/10 [00:00<?, ?it/s]"
      ]
     },
     "metadata": {},
     "output_type": "display_data"
    },
    {
     "data": {
      "application/vnd.jupyter.widget-view+json": {
       "model_id": "949350a79df54df7a3d15ebf62b2061d",
       "version_major": 2,
       "version_minor": 0
      },
      "text/plain": [
       "Image (train):   0%|          | 0/9 [00:00<?, ?it/s]"
      ]
     },
     "metadata": {},
     "output_type": "display_data"
    },
    {
     "data": {
      "application/vnd.jupyter.widget-view+json": {
       "model_id": "b8d54cbdedc0438d8d7cc7865fe3b737",
       "version_major": 2,
       "version_minor": 0
      },
      "text/plain": [
       "Image (test):   0%|          | 0/9 [00:00<?, ?it/s]"
      ]
     },
     "metadata": {},
     "output_type": "display_data"
    },
    {
     "data": {
      "application/vnd.jupyter.widget-view+json": {
       "model_id": "9a13a69ccdc343f0bff403e31b90843c",
       "version_major": 2,
       "version_minor": 0
      },
      "text/plain": [
       "Image (train):   0%|          | 0/8 [00:00<?, ?it/s]"
      ]
     },
     "metadata": {},
     "output_type": "display_data"
    },
    {
     "data": {
      "application/vnd.jupyter.widget-view+json": {
       "model_id": "36e2395a91314d9ea67fb8b81f682051",
       "version_major": 2,
       "version_minor": 0
      },
      "text/plain": [
       "Image (test):   0%|          | 0/8 [00:00<?, ?it/s]"
      ]
     },
     "metadata": {},
     "output_type": "display_data"
    },
    {
     "data": {
      "application/vnd.jupyter.widget-view+json": {
       "model_id": "ba38f12874954592bee374dc08a61dc1",
       "version_major": 2,
       "version_minor": 0
      },
      "text/plain": [
       "Image (train):   0%|          | 0/7 [00:00<?, ?it/s]"
      ]
     },
     "metadata": {},
     "output_type": "display_data"
    },
    {
     "data": {
      "application/vnd.jupyter.widget-view+json": {
       "model_id": "50728b0940c143de90fb73274ffdde0a",
       "version_major": 2,
       "version_minor": 0
      },
      "text/plain": [
       "Image (test):   0%|          | 0/7 [00:00<?, ?it/s]"
      ]
     },
     "metadata": {},
     "output_type": "display_data"
    },
    {
     "data": {
      "application/vnd.jupyter.widget-view+json": {
       "model_id": "b2a992813f2a4b16a94a36aa8e617b55",
       "version_major": 2,
       "version_minor": 0
      },
      "text/plain": [
       "Image (train):   0%|          | 0/7 [00:00<?, ?it/s]"
      ]
     },
     "metadata": {},
     "output_type": "display_data"
    },
    {
     "data": {
      "application/vnd.jupyter.widget-view+json": {
       "model_id": "119f81665a084d24a60e7f7ead506c2f",
       "version_major": 2,
       "version_minor": 0
      },
      "text/plain": [
       "Image (test):   0%|          | 0/7 [00:00<?, ?it/s]"
      ]
     },
     "metadata": {},
     "output_type": "display_data"
    },
    {
     "data": {
      "application/vnd.jupyter.widget-view+json": {
       "model_id": "d2756367d3ef4ac68a0170a9b69990e4",
       "version_major": 2,
       "version_minor": 0
      },
      "text/plain": [
       "Image (train):   0%|          | 0/7 [00:00<?, ?it/s]"
      ]
     },
     "metadata": {},
     "output_type": "display_data"
    },
    {
     "data": {
      "application/vnd.jupyter.widget-view+json": {
       "model_id": "a0c994c17b544bae891e388016369348",
       "version_major": 2,
       "version_minor": 0
      },
      "text/plain": [
       "Image (test):   0%|          | 0/7 [00:00<?, ?it/s]"
      ]
     },
     "metadata": {},
     "output_type": "display_data"
    },
    {
     "data": {
      "application/vnd.jupyter.widget-view+json": {
       "model_id": "442049f4be6e48b2baaec111f954e790",
       "version_major": 2,
       "version_minor": 0
      },
      "text/plain": [
       "Image (train):   0%|          | 0/6 [00:00<?, ?it/s]"
      ]
     },
     "metadata": {},
     "output_type": "display_data"
    },
    {
     "data": {
      "application/vnd.jupyter.widget-view+json": {
       "model_id": "fccbe6b02be148e68f456c4ac8a3f656",
       "version_major": 2,
       "version_minor": 0
      },
      "text/plain": [
       "Image (test):   0%|          | 0/6 [00:00<?, ?it/s]"
      ]
     },
     "metadata": {},
     "output_type": "display_data"
    },
    {
     "data": {
      "application/vnd.jupyter.widget-view+json": {
       "model_id": "8daa1591acb9449cba214a97d523bdfa",
       "version_major": 2,
       "version_minor": 0
      },
      "text/plain": [
       "Image (train):   0%|          | 0/6 [00:00<?, ?it/s]"
      ]
     },
     "metadata": {},
     "output_type": "display_data"
    },
    {
     "data": {
      "application/vnd.jupyter.widget-view+json": {
       "model_id": "d014567a515e4148a6a9ad745f7989b4",
       "version_major": 2,
       "version_minor": 0
      },
      "text/plain": [
       "Image (test):   0%|          | 0/6 [00:00<?, ?it/s]"
      ]
     },
     "metadata": {},
     "output_type": "display_data"
    },
    {
     "data": {
      "application/vnd.jupyter.widget-view+json": {
       "model_id": "ed607725fd604145912dafd64d7f344d",
       "version_major": 2,
       "version_minor": 0
      },
      "text/plain": [
       "Image (train):   0%|          | 0/6 [00:00<?, ?it/s]"
      ]
     },
     "metadata": {},
     "output_type": "display_data"
    },
    {
     "data": {
      "application/vnd.jupyter.widget-view+json": {
       "model_id": "40a2d93563b4422f9fa401a6aef499a3",
       "version_major": 2,
       "version_minor": 0
      },
      "text/plain": [
       "Image (test):   0%|          | 0/6 [00:00<?, ?it/s]"
      ]
     },
     "metadata": {},
     "output_type": "display_data"
    },
    {
     "data": {
      "application/vnd.jupyter.widget-view+json": {
       "model_id": "2954bad752434c038403411c1b510e63",
       "version_major": 2,
       "version_minor": 0
      },
      "text/plain": [
       "Attempt:   0%|          | 0/20 [00:00<?, ?it/s]"
      ]
     },
     "metadata": {},
     "output_type": "display_data"
    },
    {
     "data": {
      "application/vnd.jupyter.widget-view+json": {
       "model_id": "1a3611deb96141189388443ebbeb0586",
       "version_major": 2,
       "version_minor": 0
      },
      "text/plain": [
       "Image (train):   0%|          | 0/1000 [00:00<?, ?it/s]"
      ]
     },
     "metadata": {},
     "output_type": "display_data"
    },
    {
     "data": {
      "application/vnd.jupyter.widget-view+json": {
       "model_id": "6c5abcea0ecf4fd191006fbdee1a2e91",
       "version_major": 2,
       "version_minor": 0
      },
      "text/plain": [
       "Image (test):   0%|          | 0/1000 [00:00<?, ?it/s]"
      ]
     },
     "metadata": {},
     "output_type": "display_data"
    },
    {
     "data": {
      "application/vnd.jupyter.widget-view+json": {
       "model_id": "0f6151d738f6482fa95e19c0a7012dfa",
       "version_major": 2,
       "version_minor": 0
      },
      "text/plain": [
       "Image (train):   0%|          | 0/27 [00:00<?, ?it/s]"
      ]
     },
     "metadata": {},
     "output_type": "display_data"
    },
    {
     "data": {
      "application/vnd.jupyter.widget-view+json": {
       "model_id": "924f76361b414e96b2125b4c7a3d4421",
       "version_major": 2,
       "version_minor": 0
      },
      "text/plain": [
       "Image (test):   0%|          | 0/27 [00:00<?, ?it/s]"
      ]
     },
     "metadata": {},
     "output_type": "display_data"
    },
    {
     "data": {
      "application/vnd.jupyter.widget-view+json": {
       "model_id": "e66c7c7f52964d99b760a4f915a17f8c",
       "version_major": 2,
       "version_minor": 0
      },
      "text/plain": [
       "Image (train):   0%|          | 0/20 [00:00<?, ?it/s]"
      ]
     },
     "metadata": {},
     "output_type": "display_data"
    },
    {
     "data": {
      "application/vnd.jupyter.widget-view+json": {
       "model_id": "1a0fc4f87e234eeeaf835555527a2369",
       "version_major": 2,
       "version_minor": 0
      },
      "text/plain": [
       "Image (test):   0%|          | 0/20 [00:00<?, ?it/s]"
      ]
     },
     "metadata": {},
     "output_type": "display_data"
    },
    {
     "data": {
      "application/vnd.jupyter.widget-view+json": {
       "model_id": "c05e359da8574e3d8fcaa8426a59b525",
       "version_major": 2,
       "version_minor": 0
      },
      "text/plain": [
       "Image (train):   0%|          | 0/15 [00:00<?, ?it/s]"
      ]
     },
     "metadata": {},
     "output_type": "display_data"
    },
    {
     "data": {
      "application/vnd.jupyter.widget-view+json": {
       "model_id": "505699d8c4d449cbb01f2543569469aa",
       "version_major": 2,
       "version_minor": 0
      },
      "text/plain": [
       "Image (test):   0%|          | 0/15 [00:00<?, ?it/s]"
      ]
     },
     "metadata": {},
     "output_type": "display_data"
    },
    {
     "data": {
      "application/vnd.jupyter.widget-view+json": {
       "model_id": "eb8cde5baf954d3c92af9f9254a4dde8",
       "version_major": 2,
       "version_minor": 0
      },
      "text/plain": [
       "Image (train):   0%|          | 0/11 [00:00<?, ?it/s]"
      ]
     },
     "metadata": {},
     "output_type": "display_data"
    },
    {
     "data": {
      "application/vnd.jupyter.widget-view+json": {
       "model_id": "a1429795bdcb408590f299b6a9df9c75",
       "version_major": 2,
       "version_minor": 0
      },
      "text/plain": [
       "Image (test):   0%|          | 0/11 [00:00<?, ?it/s]"
      ]
     },
     "metadata": {},
     "output_type": "display_data"
    },
    {
     "data": {
      "application/vnd.jupyter.widget-view+json": {
       "model_id": "a50962fa975642ca8065bddb3cfa39ec",
       "version_major": 2,
       "version_minor": 0
      },
      "text/plain": [
       "Image (train):   0%|          | 0/8 [00:00<?, ?it/s]"
      ]
     },
     "metadata": {},
     "output_type": "display_data"
    },
    {
     "data": {
      "application/vnd.jupyter.widget-view+json": {
       "model_id": "db6da1f3bde048319c274c8f069f0d48",
       "version_major": 2,
       "version_minor": 0
      },
      "text/plain": [
       "Image (test):   0%|          | 0/8 [00:00<?, ?it/s]"
      ]
     },
     "metadata": {},
     "output_type": "display_data"
    },
    {
     "data": {
      "application/vnd.jupyter.widget-view+json": {
       "model_id": "0f787bdfea6f4f77b16c6c602c1afa7d",
       "version_major": 2,
       "version_minor": 0
      },
      "text/plain": [
       "Image (train):   0%|          | 0/7 [00:00<?, ?it/s]"
      ]
     },
     "metadata": {},
     "output_type": "display_data"
    },
    {
     "data": {
      "application/vnd.jupyter.widget-view+json": {
       "model_id": "aa2966b35b4c4547b44c58ecaf25b074",
       "version_major": 2,
       "version_minor": 0
      },
      "text/plain": [
       "Image (test):   0%|          | 0/7 [00:00<?, ?it/s]"
      ]
     },
     "metadata": {},
     "output_type": "display_data"
    },
    {
     "data": {
      "application/vnd.jupyter.widget-view+json": {
       "model_id": "de84506b099a4fc590e54db98d524e5b",
       "version_major": 2,
       "version_minor": 0
      },
      "text/plain": [
       "Image (train):   0%|          | 0/3 [00:00<?, ?it/s]"
      ]
     },
     "metadata": {},
     "output_type": "display_data"
    },
    {
     "data": {
      "application/vnd.jupyter.widget-view+json": {
       "model_id": "6367985a5c724db8a7b5cb3cec42b1c2",
       "version_major": 2,
       "version_minor": 0
      },
      "text/plain": [
       "Image (test):   0%|          | 0/3 [00:00<?, ?it/s]"
      ]
     },
     "metadata": {},
     "output_type": "display_data"
    },
    {
     "data": {
      "application/vnd.jupyter.widget-view+json": {
       "model_id": "91acc37ebcf14c71b315af815c038f34",
       "version_major": 2,
       "version_minor": 0
      },
      "text/plain": [
       "Image (train):   0%|          | 0/3 [00:00<?, ?it/s]"
      ]
     },
     "metadata": {},
     "output_type": "display_data"
    },
    {
     "data": {
      "application/vnd.jupyter.widget-view+json": {
       "model_id": "a5267ebee6534f1a99c0ed4d708273ff",
       "version_major": 2,
       "version_minor": 0
      },
      "text/plain": [
       "Image (test):   0%|          | 0/3 [00:00<?, ?it/s]"
      ]
     },
     "metadata": {},
     "output_type": "display_data"
    },
    {
     "data": {
      "application/vnd.jupyter.widget-view+json": {
       "model_id": "c05a1c1ba1b54fd89ca92ecf8b6bdd1c",
       "version_major": 2,
       "version_minor": 0
      },
      "text/plain": [
       "Image (train):   0%|          | 0/3 [00:00<?, ?it/s]"
      ]
     },
     "metadata": {},
     "output_type": "display_data"
    },
    {
     "data": {
      "application/vnd.jupyter.widget-view+json": {
       "model_id": "a12e66badde542328b0baddab2a697ee",
       "version_major": 2,
       "version_minor": 0
      },
      "text/plain": [
       "Image (test):   0%|          | 0/3 [00:00<?, ?it/s]"
      ]
     },
     "metadata": {},
     "output_type": "display_data"
    },
    {
     "data": {
      "application/vnd.jupyter.widget-view+json": {
       "model_id": "df53e57838654eb5b33498d7eb9d23aa",
       "version_major": 2,
       "version_minor": 0
      },
      "text/plain": [
       "Image (train):   0%|          | 0/3 [00:00<?, ?it/s]"
      ]
     },
     "metadata": {},
     "output_type": "display_data"
    },
    {
     "data": {
      "application/vnd.jupyter.widget-view+json": {
       "model_id": "b1a358ad027845c39a5102e689bd224d",
       "version_major": 2,
       "version_minor": 0
      },
      "text/plain": [
       "Image (test):   0%|          | 0/3 [00:00<?, ?it/s]"
      ]
     },
     "metadata": {},
     "output_type": "display_data"
    },
    {
     "data": {
      "application/vnd.jupyter.widget-view+json": {
       "model_id": "58c6680969724c9b833d8690872708ca",
       "version_major": 2,
       "version_minor": 0
      },
      "text/plain": [
       "Image (train):   0%|          | 0/3 [00:00<?, ?it/s]"
      ]
     },
     "metadata": {},
     "output_type": "display_data"
    },
    {
     "data": {
      "application/vnd.jupyter.widget-view+json": {
       "model_id": "da8c071a36584aa9ba50014bb6b01dc7",
       "version_major": 2,
       "version_minor": 0
      },
      "text/plain": [
       "Image (test):   0%|          | 0/3 [00:00<?, ?it/s]"
      ]
     },
     "metadata": {},
     "output_type": "display_data"
    },
    {
     "data": {
      "application/vnd.jupyter.widget-view+json": {
       "model_id": "91116fb6cf994b9a8681fb9e2593829a",
       "version_major": 2,
       "version_minor": 0
      },
      "text/plain": [
       "Image (train):   0%|          | 0/3 [00:00<?, ?it/s]"
      ]
     },
     "metadata": {},
     "output_type": "display_data"
    },
    {
     "data": {
      "application/vnd.jupyter.widget-view+json": {
       "model_id": "1354bee6094b4580aaa384736588524a",
       "version_major": 2,
       "version_minor": 0
      },
      "text/plain": [
       "Image (test):   0%|          | 0/3 [00:00<?, ?it/s]"
      ]
     },
     "metadata": {},
     "output_type": "display_data"
    },
    {
     "data": {
      "application/vnd.jupyter.widget-view+json": {
       "model_id": "f6967eb4f20e45b3bc94d606cc065fbf",
       "version_major": 2,
       "version_minor": 0
      },
      "text/plain": [
       "Image (train):   0%|          | 0/3 [00:00<?, ?it/s]"
      ]
     },
     "metadata": {},
     "output_type": "display_data"
    },
    {
     "data": {
      "application/vnd.jupyter.widget-view+json": {
       "model_id": "6759cbf107a74fc482f0def69f35faad",
       "version_major": 2,
       "version_minor": 0
      },
      "text/plain": [
       "Image (test):   0%|          | 0/3 [00:00<?, ?it/s]"
      ]
     },
     "metadata": {},
     "output_type": "display_data"
    },
    {
     "data": {
      "application/vnd.jupyter.widget-view+json": {
       "model_id": "9cfcc84486a9493d833ba50ca52f0d7c",
       "version_major": 2,
       "version_minor": 0
      },
      "text/plain": [
       "Image (train):   0%|          | 0/2 [00:00<?, ?it/s]"
      ]
     },
     "metadata": {},
     "output_type": "display_data"
    },
    {
     "data": {
      "application/vnd.jupyter.widget-view+json": {
       "model_id": "baa8b4e0ecfe45dca9df5c0b7737f22c",
       "version_major": 2,
       "version_minor": 0
      },
      "text/plain": [
       "Image (test):   0%|          | 0/2 [00:00<?, ?it/s]"
      ]
     },
     "metadata": {},
     "output_type": "display_data"
    },
    {
     "data": {
      "application/vnd.jupyter.widget-view+json": {
       "model_id": "6b611d0195844fba8559d58c38f5d4c2",
       "version_major": 2,
       "version_minor": 0
      },
      "text/plain": [
       "Image (train):   0%|          | 0/1 [00:00<?, ?it/s]"
      ]
     },
     "metadata": {},
     "output_type": "display_data"
    },
    {
     "data": {
      "application/vnd.jupyter.widget-view+json": {
       "model_id": "3536d3ae0f6b4362a1d2c3fd0ac28ac3",
       "version_major": 2,
       "version_minor": 0
      },
      "text/plain": [
       "Image (test):   0%|          | 0/1 [00:00<?, ?it/s]"
      ]
     },
     "metadata": {},
     "output_type": "display_data"
    },
    {
     "data": {
      "application/vnd.jupyter.widget-view+json": {
       "model_id": "615771617d01460586afb39b30b72d37",
       "version_major": 2,
       "version_minor": 0
      },
      "text/plain": [
       "Image (train):   0%|          | 0/1 [00:00<?, ?it/s]"
      ]
     },
     "metadata": {},
     "output_type": "display_data"
    },
    {
     "data": {
      "application/vnd.jupyter.widget-view+json": {
       "model_id": "b339cedb699f4d0f80626844f3f4b5ec",
       "version_major": 2,
       "version_minor": 0
      },
      "text/plain": [
       "Image (test):   0%|          | 0/1 [00:00<?, ?it/s]"
      ]
     },
     "metadata": {},
     "output_type": "display_data"
    },
    {
     "data": {
      "application/vnd.jupyter.widget-view+json": {
       "model_id": "cf6d53d4db1e428090e4eaf508ab2187",
       "version_major": 2,
       "version_minor": 0
      },
      "text/plain": [
       "Image (train):   0%|          | 0/1 [00:00<?, ?it/s]"
      ]
     },
     "metadata": {},
     "output_type": "display_data"
    },
    {
     "data": {
      "application/vnd.jupyter.widget-view+json": {
       "model_id": "a9b0863f08ee441f816e053d707bf3f6",
       "version_major": 2,
       "version_minor": 0
      },
      "text/plain": [
       "Image (test):   0%|          | 0/1 [00:00<?, ?it/s]"
      ]
     },
     "metadata": {},
     "output_type": "display_data"
    },
    {
     "data": {
      "application/vnd.jupyter.widget-view+json": {
       "model_id": "2415c95688bf4ed591428bea1abb03d0",
       "version_major": 2,
       "version_minor": 0
      },
      "text/plain": [
       "Image (train):   0%|          | 0/1 [00:00<?, ?it/s]"
      ]
     },
     "metadata": {},
     "output_type": "display_data"
    },
    {
     "data": {
      "application/vnd.jupyter.widget-view+json": {
       "model_id": "2846a0fee17b4b66a4ac67a87639656c",
       "version_major": 2,
       "version_minor": 0
      },
      "text/plain": [
       "Image (test):   0%|          | 0/1 [00:00<?, ?it/s]"
      ]
     },
     "metadata": {},
     "output_type": "display_data"
    },
    {
     "data": {
      "application/vnd.jupyter.widget-view+json": {
       "model_id": "033537734aa144428e5fed50c4aae9c6",
       "version_major": 2,
       "version_minor": 0
      },
      "text/plain": [
       "Image (train):   0%|          | 0/1 [00:00<?, ?it/s]"
      ]
     },
     "metadata": {},
     "output_type": "display_data"
    },
    {
     "data": {
      "application/vnd.jupyter.widget-view+json": {
       "model_id": "90ad4d2ac5c74e3084c4583068da9389",
       "version_major": 2,
       "version_minor": 0
      },
      "text/plain": [
       "Image (test):   0%|          | 0/1 [00:00<?, ?it/s]"
      ]
     },
     "metadata": {},
     "output_type": "display_data"
    },
    {
     "data": {
      "application/vnd.jupyter.widget-view+json": {
       "model_id": "1f0ad5601f22417a80124c0bbef8d315",
       "version_major": 2,
       "version_minor": 0
      },
      "text/plain": [
       "Attempt:   0%|          | 0/20 [00:00<?, ?it/s]"
      ]
     },
     "metadata": {},
     "output_type": "display_data"
    },
    {
     "data": {
      "application/vnd.jupyter.widget-view+json": {
       "model_id": "1751e24f87394f88bd1f64175c30b839",
       "version_major": 2,
       "version_minor": 0
      },
      "text/plain": [
       "Image (train):   0%|          | 0/1000 [00:00<?, ?it/s]"
      ]
     },
     "metadata": {},
     "output_type": "display_data"
    },
    {
     "data": {
      "application/vnd.jupyter.widget-view+json": {
       "model_id": "367bd0bf91584a05978549a80f497fb7",
       "version_major": 2,
       "version_minor": 0
      },
      "text/plain": [
       "Image (test):   0%|          | 0/1000 [00:00<?, ?it/s]"
      ]
     },
     "metadata": {},
     "output_type": "display_data"
    },
    {
     "data": {
      "application/vnd.jupyter.widget-view+json": {
       "model_id": "3f619451c368487e80c7c14cf4e67ac2",
       "version_major": 2,
       "version_minor": 0
      },
      "text/plain": [
       "Image (train):   0%|          | 0/23 [00:00<?, ?it/s]"
      ]
     },
     "metadata": {},
     "output_type": "display_data"
    },
    {
     "data": {
      "application/vnd.jupyter.widget-view+json": {
       "model_id": "697978c84c5f40cf964055b234f0fdf6",
       "version_major": 2,
       "version_minor": 0
      },
      "text/plain": [
       "Image (test):   0%|          | 0/23 [00:00<?, ?it/s]"
      ]
     },
     "metadata": {},
     "output_type": "display_data"
    },
    {
     "data": {
      "application/vnd.jupyter.widget-view+json": {
       "model_id": "bff478e1a162435b94bd500f65322c6e",
       "version_major": 2,
       "version_minor": 0
      },
      "text/plain": [
       "Image (train):   0%|          | 0/19 [00:00<?, ?it/s]"
      ]
     },
     "metadata": {},
     "output_type": "display_data"
    },
    {
     "data": {
      "application/vnd.jupyter.widget-view+json": {
       "model_id": "c84e66d780d54a46a7e131c86627350c",
       "version_major": 2,
       "version_minor": 0
      },
      "text/plain": [
       "Image (test):   0%|          | 0/19 [00:00<?, ?it/s]"
      ]
     },
     "metadata": {},
     "output_type": "display_data"
    },
    {
     "data": {
      "application/vnd.jupyter.widget-view+json": {
       "model_id": "71321cb8caaf47daa45aeb8268a5492d",
       "version_major": 2,
       "version_minor": 0
      },
      "text/plain": [
       "Image (train):   0%|          | 0/17 [00:00<?, ?it/s]"
      ]
     },
     "metadata": {},
     "output_type": "display_data"
    },
    {
     "data": {
      "application/vnd.jupyter.widget-view+json": {
       "model_id": "749d9466f9084ead8adb513a815e612e",
       "version_major": 2,
       "version_minor": 0
      },
      "text/plain": [
       "Image (test):   0%|          | 0/17 [00:00<?, ?it/s]"
      ]
     },
     "metadata": {},
     "output_type": "display_data"
    },
    {
     "data": {
      "application/vnd.jupyter.widget-view+json": {
       "model_id": "ad60f4d60dd94d0991883906e57e1af0",
       "version_major": 2,
       "version_minor": 0
      },
      "text/plain": [
       "Image (train):   0%|          | 0/15 [00:00<?, ?it/s]"
      ]
     },
     "metadata": {},
     "output_type": "display_data"
    },
    {
     "data": {
      "application/vnd.jupyter.widget-view+json": {
       "model_id": "00b3f4b7449648309183d9461531d84d",
       "version_major": 2,
       "version_minor": 0
      },
      "text/plain": [
       "Image (test):   0%|          | 0/15 [00:00<?, ?it/s]"
      ]
     },
     "metadata": {},
     "output_type": "display_data"
    },
    {
     "data": {
      "application/vnd.jupyter.widget-view+json": {
       "model_id": "b473f23c4e294ce99aeef594c1873bb4",
       "version_major": 2,
       "version_minor": 0
      },
      "text/plain": [
       "Image (train):   0%|          | 0/12 [00:00<?, ?it/s]"
      ]
     },
     "metadata": {},
     "output_type": "display_data"
    },
    {
     "data": {
      "application/vnd.jupyter.widget-view+json": {
       "model_id": "2c71ca8a381c429db9a8dd23be2c2891",
       "version_major": 2,
       "version_minor": 0
      },
      "text/plain": [
       "Image (test):   0%|          | 0/12 [00:00<?, ?it/s]"
      ]
     },
     "metadata": {},
     "output_type": "display_data"
    },
    {
     "data": {
      "application/vnd.jupyter.widget-view+json": {
       "model_id": "010566ed290940a0ae4e60a2c45fb2e3",
       "version_major": 2,
       "version_minor": 0
      },
      "text/plain": [
       "Image (train):   0%|          | 0/10 [00:00<?, ?it/s]"
      ]
     },
     "metadata": {},
     "output_type": "display_data"
    },
    {
     "data": {
      "application/vnd.jupyter.widget-view+json": {
       "model_id": "33b5abfaca0144058145991897f0e2c1",
       "version_major": 2,
       "version_minor": 0
      },
      "text/plain": [
       "Image (test):   0%|          | 0/10 [00:00<?, ?it/s]"
      ]
     },
     "metadata": {},
     "output_type": "display_data"
    },
    {
     "data": {
      "application/vnd.jupyter.widget-view+json": {
       "model_id": "d4eea3f2e7f64c3484bde426b4c4577e",
       "version_major": 2,
       "version_minor": 0
      },
      "text/plain": [
       "Image (train):   0%|          | 0/8 [00:00<?, ?it/s]"
      ]
     },
     "metadata": {},
     "output_type": "display_data"
    },
    {
     "data": {
      "application/vnd.jupyter.widget-view+json": {
       "model_id": "bb26c500bd2141d49f9192ad18290a5c",
       "version_major": 2,
       "version_minor": 0
      },
      "text/plain": [
       "Image (test):   0%|          | 0/8 [00:00<?, ?it/s]"
      ]
     },
     "metadata": {},
     "output_type": "display_data"
    },
    {
     "data": {
      "application/vnd.jupyter.widget-view+json": {
       "model_id": "9501a3d1ecbe430790830e965408b24d",
       "version_major": 2,
       "version_minor": 0
      },
      "text/plain": [
       "Image (train):   0%|          | 0/8 [00:00<?, ?it/s]"
      ]
     },
     "metadata": {},
     "output_type": "display_data"
    },
    {
     "data": {
      "application/vnd.jupyter.widget-view+json": {
       "model_id": "d990255adf1d479aa47636b67fc100fc",
       "version_major": 2,
       "version_minor": 0
      },
      "text/plain": [
       "Image (test):   0%|          | 0/8 [00:00<?, ?it/s]"
      ]
     },
     "metadata": {},
     "output_type": "display_data"
    },
    {
     "data": {
      "application/vnd.jupyter.widget-view+json": {
       "model_id": "6b01364e1f3d45759c8ebee6b71cd527",
       "version_major": 2,
       "version_minor": 0
      },
      "text/plain": [
       "Image (train):   0%|          | 0/7 [00:00<?, ?it/s]"
      ]
     },
     "metadata": {},
     "output_type": "display_data"
    },
    {
     "data": {
      "application/vnd.jupyter.widget-view+json": {
       "model_id": "c6fcdc56fd1145c098c3da6746b662e9",
       "version_major": 2,
       "version_minor": 0
      },
      "text/plain": [
       "Image (test):   0%|          | 0/7 [00:00<?, ?it/s]"
      ]
     },
     "metadata": {},
     "output_type": "display_data"
    },
    {
     "data": {
      "application/vnd.jupyter.widget-view+json": {
       "model_id": "f6588f17885f49b58f3bfc5c98728331",
       "version_major": 2,
       "version_minor": 0
      },
      "text/plain": [
       "Image (train):   0%|          | 0/6 [00:00<?, ?it/s]"
      ]
     },
     "metadata": {},
     "output_type": "display_data"
    },
    {
     "data": {
      "application/vnd.jupyter.widget-view+json": {
       "model_id": "4d2e35f503584552b26bdd340bd78bb7",
       "version_major": 2,
       "version_minor": 0
      },
      "text/plain": [
       "Image (test):   0%|          | 0/6 [00:00<?, ?it/s]"
      ]
     },
     "metadata": {},
     "output_type": "display_data"
    },
    {
     "data": {
      "application/vnd.jupyter.widget-view+json": {
       "model_id": "2c88361ba58f48458d176ed1b37673b3",
       "version_major": 2,
       "version_minor": 0
      },
      "text/plain": [
       "Image (train):   0%|          | 0/6 [00:00<?, ?it/s]"
      ]
     },
     "metadata": {},
     "output_type": "display_data"
    },
    {
     "data": {
      "application/vnd.jupyter.widget-view+json": {
       "model_id": "ef13273554054604bda5b3cf37ac23d5",
       "version_major": 2,
       "version_minor": 0
      },
      "text/plain": [
       "Image (test):   0%|          | 0/6 [00:00<?, ?it/s]"
      ]
     },
     "metadata": {},
     "output_type": "display_data"
    },
    {
     "data": {
      "application/vnd.jupyter.widget-view+json": {
       "model_id": "c47b5e616b8f4f93988487b4975a7899",
       "version_major": 2,
       "version_minor": 0
      },
      "text/plain": [
       "Image (train):   0%|          | 0/6 [00:00<?, ?it/s]"
      ]
     },
     "metadata": {},
     "output_type": "display_data"
    },
    {
     "data": {
      "application/vnd.jupyter.widget-view+json": {
       "model_id": "67e8daf0a53a43eb9534b972ec93081e",
       "version_major": 2,
       "version_minor": 0
      },
      "text/plain": [
       "Image (test):   0%|          | 0/6 [00:00<?, ?it/s]"
      ]
     },
     "metadata": {},
     "output_type": "display_data"
    },
    {
     "data": {
      "application/vnd.jupyter.widget-view+json": {
       "model_id": "7a31d9e949fd47b48193aa8de165f90e",
       "version_major": 2,
       "version_minor": 0
      },
      "text/plain": [
       "Image (train):   0%|          | 0/5 [00:00<?, ?it/s]"
      ]
     },
     "metadata": {},
     "output_type": "display_data"
    },
    {
     "data": {
      "application/vnd.jupyter.widget-view+json": {
       "model_id": "4fed5e5be62e4ccaa9b0d4f5e1cfe60b",
       "version_major": 2,
       "version_minor": 0
      },
      "text/plain": [
       "Image (test):   0%|          | 0/5 [00:00<?, ?it/s]"
      ]
     },
     "metadata": {},
     "output_type": "display_data"
    },
    {
     "data": {
      "application/vnd.jupyter.widget-view+json": {
       "model_id": "4341af4a518c4fe5a9b00af40b46fff7",
       "version_major": 2,
       "version_minor": 0
      },
      "text/plain": [
       "Image (train):   0%|          | 0/5 [00:00<?, ?it/s]"
      ]
     },
     "metadata": {},
     "output_type": "display_data"
    },
    {
     "data": {
      "application/vnd.jupyter.widget-view+json": {
       "model_id": "5e98ce12a4a44371889995c459ae9244",
       "version_major": 2,
       "version_minor": 0
      },
      "text/plain": [
       "Image (test):   0%|          | 0/5 [00:00<?, ?it/s]"
      ]
     },
     "metadata": {},
     "output_type": "display_data"
    },
    {
     "data": {
      "application/vnd.jupyter.widget-view+json": {
       "model_id": "e95045efafaf404bb103f9b3bc66a3fd",
       "version_major": 2,
       "version_minor": 0
      },
      "text/plain": [
       "Image (train):   0%|          | 0/5 [00:00<?, ?it/s]"
      ]
     },
     "metadata": {},
     "output_type": "display_data"
    },
    {
     "data": {
      "application/vnd.jupyter.widget-view+json": {
       "model_id": "63dd8d28319748329d7740ef823ef615",
       "version_major": 2,
       "version_minor": 0
      },
      "text/plain": [
       "Image (test):   0%|          | 0/5 [00:00<?, ?it/s]"
      ]
     },
     "metadata": {},
     "output_type": "display_data"
    },
    {
     "data": {
      "application/vnd.jupyter.widget-view+json": {
       "model_id": "96b9900fea7c4bac8d75002bb4a34903",
       "version_major": 2,
       "version_minor": 0
      },
      "text/plain": [
       "Image (train):   0%|          | 0/5 [00:00<?, ?it/s]"
      ]
     },
     "metadata": {},
     "output_type": "display_data"
    },
    {
     "data": {
      "application/vnd.jupyter.widget-view+json": {
       "model_id": "832cdaf56a0c453e8c607958a541aed5",
       "version_major": 2,
       "version_minor": 0
      },
      "text/plain": [
       "Image (test):   0%|          | 0/5 [00:00<?, ?it/s]"
      ]
     },
     "metadata": {},
     "output_type": "display_data"
    },
    {
     "data": {
      "application/vnd.jupyter.widget-view+json": {
       "model_id": "775f1564ad064d7a9e833c329afb85b0",
       "version_major": 2,
       "version_minor": 0
      },
      "text/plain": [
       "Image (train):   0%|          | 0/5 [00:00<?, ?it/s]"
      ]
     },
     "metadata": {},
     "output_type": "display_data"
    },
    {
     "data": {
      "application/vnd.jupyter.widget-view+json": {
       "model_id": "bd620e0535974ecea0b5960061f1d73a",
       "version_major": 2,
       "version_minor": 0
      },
      "text/plain": [
       "Image (test):   0%|          | 0/5 [00:00<?, ?it/s]"
      ]
     },
     "metadata": {},
     "output_type": "display_data"
    },
    {
     "data": {
      "application/vnd.jupyter.widget-view+json": {
       "model_id": "40909f8f8d26463a895b90737b4d4073",
       "version_major": 2,
       "version_minor": 0
      },
      "text/plain": [
       "Image (train):   0%|          | 0/2 [00:00<?, ?it/s]"
      ]
     },
     "metadata": {},
     "output_type": "display_data"
    },
    {
     "data": {
      "application/vnd.jupyter.widget-view+json": {
       "model_id": "7b14ebad6ac2456f965d59e54b6a1748",
       "version_major": 2,
       "version_minor": 0
      },
      "text/plain": [
       "Image (test):   0%|          | 0/2 [00:00<?, ?it/s]"
      ]
     },
     "metadata": {},
     "output_type": "display_data"
    },
    {
     "data": {
      "application/vnd.jupyter.widget-view+json": {
       "model_id": "d689cf7a610640e3ae470214582ed554",
       "version_major": 2,
       "version_minor": 0
      },
      "text/plain": [
       "Image (train):   0%|          | 0/2 [00:00<?, ?it/s]"
      ]
     },
     "metadata": {},
     "output_type": "display_data"
    },
    {
     "data": {
      "application/vnd.jupyter.widget-view+json": {
       "model_id": "6049c43ceee8463fba1f1ca199ecc613",
       "version_major": 2,
       "version_minor": 0
      },
      "text/plain": [
       "Image (test):   0%|          | 0/2 [00:00<?, ?it/s]"
      ]
     },
     "metadata": {},
     "output_type": "display_data"
    },
    {
     "data": {
      "application/vnd.jupyter.widget-view+json": {
       "model_id": "31fcf46ac9f34f2db0715667ac118e83",
       "version_major": 2,
       "version_minor": 0
      },
      "text/plain": [
       "Attempt:   0%|          | 0/20 [00:00<?, ?it/s]"
      ]
     },
     "metadata": {},
     "output_type": "display_data"
    },
    {
     "data": {
      "application/vnd.jupyter.widget-view+json": {
       "model_id": "51215b88640342a1a9fb38851bdfd3d6",
       "version_major": 2,
       "version_minor": 0
      },
      "text/plain": [
       "Image (train):   0%|          | 0/1000 [00:00<?, ?it/s]"
      ]
     },
     "metadata": {},
     "output_type": "display_data"
    },
    {
     "data": {
      "application/vnd.jupyter.widget-view+json": {
       "model_id": "72d1ac6945264eb49db4281b809d0164",
       "version_major": 2,
       "version_minor": 0
      },
      "text/plain": [
       "Image (test):   0%|          | 0/1000 [00:00<?, ?it/s]"
      ]
     },
     "metadata": {},
     "output_type": "display_data"
    },
    {
     "data": {
      "application/vnd.jupyter.widget-view+json": {
       "model_id": "8ca797f637094a1a8c422e3b1e784a05",
       "version_major": 2,
       "version_minor": 0
      },
      "text/plain": [
       "Image (train):   0%|          | 0/27 [00:00<?, ?it/s]"
      ]
     },
     "metadata": {},
     "output_type": "display_data"
    },
    {
     "data": {
      "application/vnd.jupyter.widget-view+json": {
       "model_id": "ac789db038f645e9a8df9d0636343565",
       "version_major": 2,
       "version_minor": 0
      },
      "text/plain": [
       "Image (test):   0%|          | 0/27 [00:00<?, ?it/s]"
      ]
     },
     "metadata": {},
     "output_type": "display_data"
    },
    {
     "data": {
      "application/vnd.jupyter.widget-view+json": {
       "model_id": "26bdde8602ff4ae49e6d5d4e8ba40a29",
       "version_major": 2,
       "version_minor": 0
      },
      "text/plain": [
       "Image (train):   0%|          | 0/24 [00:00<?, ?it/s]"
      ]
     },
     "metadata": {},
     "output_type": "display_data"
    },
    {
     "data": {
      "application/vnd.jupyter.widget-view+json": {
       "model_id": "17af526b70df40d0b3f4e822446618e0",
       "version_major": 2,
       "version_minor": 0
      },
      "text/plain": [
       "Image (test):   0%|          | 0/24 [00:00<?, ?it/s]"
      ]
     },
     "metadata": {},
     "output_type": "display_data"
    },
    {
     "data": {
      "application/vnd.jupyter.widget-view+json": {
       "model_id": "0d275577323d4d7eaef50a6be21338df",
       "version_major": 2,
       "version_minor": 0
      },
      "text/plain": [
       "Image (train):   0%|          | 0/20 [00:00<?, ?it/s]"
      ]
     },
     "metadata": {},
     "output_type": "display_data"
    },
    {
     "data": {
      "application/vnd.jupyter.widget-view+json": {
       "model_id": "492b526e312b4587bb5200248ca14e21",
       "version_major": 2,
       "version_minor": 0
      },
      "text/plain": [
       "Image (test):   0%|          | 0/20 [00:00<?, ?it/s]"
      ]
     },
     "metadata": {},
     "output_type": "display_data"
    },
    {
     "data": {
      "application/vnd.jupyter.widget-view+json": {
       "model_id": "8dcc0279efde45a69a57c7d985b2370f",
       "version_major": 2,
       "version_minor": 0
      },
      "text/plain": [
       "Image (train):   0%|          | 0/20 [00:00<?, ?it/s]"
      ]
     },
     "metadata": {},
     "output_type": "display_data"
    },
    {
     "data": {
      "application/vnd.jupyter.widget-view+json": {
       "model_id": "ca61999f87ca469db6963a78c4a8d3eb",
       "version_major": 2,
       "version_minor": 0
      },
      "text/plain": [
       "Image (test):   0%|          | 0/20 [00:00<?, ?it/s]"
      ]
     },
     "metadata": {},
     "output_type": "display_data"
    },
    {
     "data": {
      "application/vnd.jupyter.widget-view+json": {
       "model_id": "65c27d88faa04b2487a7aa8d0abaf346",
       "version_major": 2,
       "version_minor": 0
      },
      "text/plain": [
       "Image (train):   0%|          | 0/18 [00:00<?, ?it/s]"
      ]
     },
     "metadata": {},
     "output_type": "display_data"
    },
    {
     "data": {
      "application/vnd.jupyter.widget-view+json": {
       "model_id": "8ddc153255634a8fb781ffe91052da37",
       "version_major": 2,
       "version_minor": 0
      },
      "text/plain": [
       "Image (test):   0%|          | 0/18 [00:00<?, ?it/s]"
      ]
     },
     "metadata": {},
     "output_type": "display_data"
    },
    {
     "data": {
      "application/vnd.jupyter.widget-view+json": {
       "model_id": "8f232380a61b425d977e1c63abaa9efc",
       "version_major": 2,
       "version_minor": 0
      },
      "text/plain": [
       "Image (train):   0%|          | 0/17 [00:00<?, ?it/s]"
      ]
     },
     "metadata": {},
     "output_type": "display_data"
    },
    {
     "data": {
      "application/vnd.jupyter.widget-view+json": {
       "model_id": "e67871bdab8d42399a88bf0c418602c8",
       "version_major": 2,
       "version_minor": 0
      },
      "text/plain": [
       "Image (test):   0%|          | 0/17 [00:00<?, ?it/s]"
      ]
     },
     "metadata": {},
     "output_type": "display_data"
    },
    {
     "data": {
      "application/vnd.jupyter.widget-view+json": {
       "model_id": "3d643b44347144869ee151e3f1ce1556",
       "version_major": 2,
       "version_minor": 0
      },
      "text/plain": [
       "Image (train):   0%|          | 0/16 [00:00<?, ?it/s]"
      ]
     },
     "metadata": {},
     "output_type": "display_data"
    },
    {
     "data": {
      "application/vnd.jupyter.widget-view+json": {
       "model_id": "ddb4a121fa2446e084a62fe5f61af319",
       "version_major": 2,
       "version_minor": 0
      },
      "text/plain": [
       "Image (test):   0%|          | 0/16 [00:00<?, ?it/s]"
      ]
     },
     "metadata": {},
     "output_type": "display_data"
    },
    {
     "data": {
      "application/vnd.jupyter.widget-view+json": {
       "model_id": "8e7d4b03fb2849fea440a0779dee9723",
       "version_major": 2,
       "version_minor": 0
      },
      "text/plain": [
       "Image (train):   0%|          | 0/14 [00:00<?, ?it/s]"
      ]
     },
     "metadata": {},
     "output_type": "display_data"
    },
    {
     "data": {
      "application/vnd.jupyter.widget-view+json": {
       "model_id": "f3ce8ca1b4364c6681376ae4f938a120",
       "version_major": 2,
       "version_minor": 0
      },
      "text/plain": [
       "Image (test):   0%|          | 0/14 [00:00<?, ?it/s]"
      ]
     },
     "metadata": {},
     "output_type": "display_data"
    },
    {
     "data": {
      "application/vnd.jupyter.widget-view+json": {
       "model_id": "15b3e0416af6494f988c340ea2acbf33",
       "version_major": 2,
       "version_minor": 0
      },
      "text/plain": [
       "Image (train):   0%|          | 0/14 [00:00<?, ?it/s]"
      ]
     },
     "metadata": {},
     "output_type": "display_data"
    },
    {
     "data": {
      "application/vnd.jupyter.widget-view+json": {
       "model_id": "c154695d61184b6fbb19bf17e59dbf7b",
       "version_major": 2,
       "version_minor": 0
      },
      "text/plain": [
       "Image (test):   0%|          | 0/14 [00:00<?, ?it/s]"
      ]
     },
     "metadata": {},
     "output_type": "display_data"
    },
    {
     "data": {
      "application/vnd.jupyter.widget-view+json": {
       "model_id": "5e16edd324144d45bcf4ad405ed79861",
       "version_major": 2,
       "version_minor": 0
      },
      "text/plain": [
       "Image (train):   0%|          | 0/14 [00:00<?, ?it/s]"
      ]
     },
     "metadata": {},
     "output_type": "display_data"
    },
    {
     "data": {
      "application/vnd.jupyter.widget-view+json": {
       "model_id": "e0b1f181c9854ba0be5f164614c80f71",
       "version_major": 2,
       "version_minor": 0
      },
      "text/plain": [
       "Image (test):   0%|          | 0/14 [00:00<?, ?it/s]"
      ]
     },
     "metadata": {},
     "output_type": "display_data"
    },
    {
     "data": {
      "application/vnd.jupyter.widget-view+json": {
       "model_id": "beb2a02c6cff45488d3034ac3c5856cd",
       "version_major": 2,
       "version_minor": 0
      },
      "text/plain": [
       "Image (train):   0%|          | 0/12 [00:00<?, ?it/s]"
      ]
     },
     "metadata": {},
     "output_type": "display_data"
    },
    {
     "data": {
      "application/vnd.jupyter.widget-view+json": {
       "model_id": "8f45b48d233742ab87ccad0c99bbdfdb",
       "version_major": 2,
       "version_minor": 0
      },
      "text/plain": [
       "Image (test):   0%|          | 0/12 [00:00<?, ?it/s]"
      ]
     },
     "metadata": {},
     "output_type": "display_data"
    },
    {
     "data": {
      "application/vnd.jupyter.widget-view+json": {
       "model_id": "fbd5bd843f8b4c35873b0bf613514f35",
       "version_major": 2,
       "version_minor": 0
      },
      "text/plain": [
       "Image (train):   0%|          | 0/12 [00:00<?, ?it/s]"
      ]
     },
     "metadata": {},
     "output_type": "display_data"
    },
    {
     "data": {
      "application/vnd.jupyter.widget-view+json": {
       "model_id": "c460e539bce0402b9b00e8933d7c2ad0",
       "version_major": 2,
       "version_minor": 0
      },
      "text/plain": [
       "Image (test):   0%|          | 0/12 [00:00<?, ?it/s]"
      ]
     },
     "metadata": {},
     "output_type": "display_data"
    },
    {
     "data": {
      "application/vnd.jupyter.widget-view+json": {
       "model_id": "9571965ce19f4dacb3a7b482b9371f13",
       "version_major": 2,
       "version_minor": 0
      },
      "text/plain": [
       "Image (train):   0%|          | 0/11 [00:00<?, ?it/s]"
      ]
     },
     "metadata": {},
     "output_type": "display_data"
    },
    {
     "data": {
      "application/vnd.jupyter.widget-view+json": {
       "model_id": "12555e1c10a149bda1a3ddb48429bff9",
       "version_major": 2,
       "version_minor": 0
      },
      "text/plain": [
       "Image (test):   0%|          | 0/11 [00:00<?, ?it/s]"
      ]
     },
     "metadata": {},
     "output_type": "display_data"
    },
    {
     "data": {
      "application/vnd.jupyter.widget-view+json": {
       "model_id": "dfdd5ca0e7d944c983c7a78e89b6fe9a",
       "version_major": 2,
       "version_minor": 0
      },
      "text/plain": [
       "Image (train):   0%|          | 0/10 [00:00<?, ?it/s]"
      ]
     },
     "metadata": {},
     "output_type": "display_data"
    },
    {
     "data": {
      "application/vnd.jupyter.widget-view+json": {
       "model_id": "149b75679a694e22b0a9e8df9d6d0624",
       "version_major": 2,
       "version_minor": 0
      },
      "text/plain": [
       "Image (test):   0%|          | 0/10 [00:00<?, ?it/s]"
      ]
     },
     "metadata": {},
     "output_type": "display_data"
    },
    {
     "data": {
      "application/vnd.jupyter.widget-view+json": {
       "model_id": "f5bdf8f51f394599a0ae37e49ac584b0",
       "version_major": 2,
       "version_minor": 0
      },
      "text/plain": [
       "Image (train):   0%|          | 0/8 [00:00<?, ?it/s]"
      ]
     },
     "metadata": {},
     "output_type": "display_data"
    },
    {
     "data": {
      "application/vnd.jupyter.widget-view+json": {
       "model_id": "0c1ef368e9604df580b3e296af98ff22",
       "version_major": 2,
       "version_minor": 0
      },
      "text/plain": [
       "Image (test):   0%|          | 0/8 [00:00<?, ?it/s]"
      ]
     },
     "metadata": {},
     "output_type": "display_data"
    },
    {
     "data": {
      "application/vnd.jupyter.widget-view+json": {
       "model_id": "d071e869948b48a1aaa756fe6c291324",
       "version_major": 2,
       "version_minor": 0
      },
      "text/plain": [
       "Image (train):   0%|          | 0/6 [00:00<?, ?it/s]"
      ]
     },
     "metadata": {},
     "output_type": "display_data"
    },
    {
     "data": {
      "application/vnd.jupyter.widget-view+json": {
       "model_id": "c9bc33d186c242258e58775e2d00fee1",
       "version_major": 2,
       "version_minor": 0
      },
      "text/plain": [
       "Image (test):   0%|          | 0/6 [00:00<?, ?it/s]"
      ]
     },
     "metadata": {},
     "output_type": "display_data"
    },
    {
     "data": {
      "application/vnd.jupyter.widget-view+json": {
       "model_id": "283a4e5fc10a40d380a1bffe0216e62a",
       "version_major": 2,
       "version_minor": 0
      },
      "text/plain": [
       "Image (train):   0%|          | 0/6 [00:00<?, ?it/s]"
      ]
     },
     "metadata": {},
     "output_type": "display_data"
    },
    {
     "data": {
      "application/vnd.jupyter.widget-view+json": {
       "model_id": "92ae5332476448ecb7842b7a34fb00d5",
       "version_major": 2,
       "version_minor": 0
      },
      "text/plain": [
       "Image (test):   0%|          | 0/6 [00:00<?, ?it/s]"
      ]
     },
     "metadata": {},
     "output_type": "display_data"
    },
    {
     "data": {
      "application/vnd.jupyter.widget-view+json": {
       "model_id": "6202e90190394f45884155ccf6431847",
       "version_major": 2,
       "version_minor": 0
      },
      "text/plain": [
       "Image (train):   0%|          | 0/6 [00:00<?, ?it/s]"
      ]
     },
     "metadata": {},
     "output_type": "display_data"
    },
    {
     "data": {
      "application/vnd.jupyter.widget-view+json": {
       "model_id": "22fef1fa03e240b19b690955594c48b8",
       "version_major": 2,
       "version_minor": 0
      },
      "text/plain": [
       "Image (test):   0%|          | 0/6 [00:00<?, ?it/s]"
      ]
     },
     "metadata": {},
     "output_type": "display_data"
    },
    {
     "data": {
      "application/vnd.jupyter.widget-view+json": {
       "model_id": "635ede8a4f2e4cfebc4f43c2d9defe47",
       "version_major": 2,
       "version_minor": 0
      },
      "text/plain": [
       "Image (train):   0%|          | 0/5 [00:00<?, ?it/s]"
      ]
     },
     "metadata": {},
     "output_type": "display_data"
    },
    {
     "data": {
      "application/vnd.jupyter.widget-view+json": {
       "model_id": "edbf38b697f34be0a3a6b1d02bb11a90",
       "version_major": 2,
       "version_minor": 0
      },
      "text/plain": [
       "Image (test):   0%|          | 0/5 [00:00<?, ?it/s]"
      ]
     },
     "metadata": {},
     "output_type": "display_data"
    },
    {
     "data": {
      "application/vnd.jupyter.widget-view+json": {
       "model_id": "7c7845abc3a7449484c375f443403117",
       "version_major": 2,
       "version_minor": 0
      },
      "text/plain": [
       "Attempt:   0%|          | 0/20 [00:00<?, ?it/s]"
      ]
     },
     "metadata": {},
     "output_type": "display_data"
    },
    {
     "data": {
      "application/vnd.jupyter.widget-view+json": {
       "model_id": "8e37a5695f0f49a3bb26259b064c0607",
       "version_major": 2,
       "version_minor": 0
      },
      "text/plain": [
       "Image (train):   0%|          | 0/1000 [00:00<?, ?it/s]"
      ]
     },
     "metadata": {},
     "output_type": "display_data"
    },
    {
     "data": {
      "application/vnd.jupyter.widget-view+json": {
       "model_id": "9c4d77a7b7ea4ef1bd2c8ff0e145659d",
       "version_major": 2,
       "version_minor": 0
      },
      "text/plain": [
       "Image (test):   0%|          | 0/1000 [00:00<?, ?it/s]"
      ]
     },
     "metadata": {},
     "output_type": "display_data"
    },
    {
     "data": {
      "application/vnd.jupyter.widget-view+json": {
       "model_id": "00ef8b9167ec4ca3be2c887b94e1bd61",
       "version_major": 2,
       "version_minor": 0
      },
      "text/plain": [
       "Image (train):   0%|          | 0/30 [00:00<?, ?it/s]"
      ]
     },
     "metadata": {},
     "output_type": "display_data"
    },
    {
     "data": {
      "application/vnd.jupyter.widget-view+json": {
       "model_id": "1348595268c7438c8cf0c3061bbee1cc",
       "version_major": 2,
       "version_minor": 0
      },
      "text/plain": [
       "Image (test):   0%|          | 0/30 [00:00<?, ?it/s]"
      ]
     },
     "metadata": {},
     "output_type": "display_data"
    },
    {
     "data": {
      "application/vnd.jupyter.widget-view+json": {
       "model_id": "0d3ff8e547b9451ebffc902059e3131c",
       "version_major": 2,
       "version_minor": 0
      },
      "text/plain": [
       "Image (train):   0%|          | 0/25 [00:00<?, ?it/s]"
      ]
     },
     "metadata": {},
     "output_type": "display_data"
    },
    {
     "data": {
      "application/vnd.jupyter.widget-view+json": {
       "model_id": "4f9ce91a643345dc9f8bbc55056cd050",
       "version_major": 2,
       "version_minor": 0
      },
      "text/plain": [
       "Image (test):   0%|          | 0/25 [00:00<?, ?it/s]"
      ]
     },
     "metadata": {},
     "output_type": "display_data"
    },
    {
     "data": {
      "application/vnd.jupyter.widget-view+json": {
       "model_id": "7f259513f73a49d99024a22502f73021",
       "version_major": 2,
       "version_minor": 0
      },
      "text/plain": [
       "Image (train):   0%|          | 0/22 [00:00<?, ?it/s]"
      ]
     },
     "metadata": {},
     "output_type": "display_data"
    },
    {
     "data": {
      "application/vnd.jupyter.widget-view+json": {
       "model_id": "d75054409bd24366ac8582d33163f507",
       "version_major": 2,
       "version_minor": 0
      },
      "text/plain": [
       "Image (test):   0%|          | 0/22 [00:00<?, ?it/s]"
      ]
     },
     "metadata": {},
     "output_type": "display_data"
    },
    {
     "data": {
      "application/vnd.jupyter.widget-view+json": {
       "model_id": "4858345555514ec6a980a85fb10244cf",
       "version_major": 2,
       "version_minor": 0
      },
      "text/plain": [
       "Image (train):   0%|          | 0/20 [00:00<?, ?it/s]"
      ]
     },
     "metadata": {},
     "output_type": "display_data"
    },
    {
     "data": {
      "application/vnd.jupyter.widget-view+json": {
       "model_id": "b67a4b56978644d0aeb8f0bf767f4b09",
       "version_major": 2,
       "version_minor": 0
      },
      "text/plain": [
       "Image (test):   0%|          | 0/20 [00:00<?, ?it/s]"
      ]
     },
     "metadata": {},
     "output_type": "display_data"
    },
    {
     "data": {
      "application/vnd.jupyter.widget-view+json": {
       "model_id": "6ff0455968d04ab38608825f8a2ef114",
       "version_major": 2,
       "version_minor": 0
      },
      "text/plain": [
       "Image (train):   0%|          | 0/19 [00:00<?, ?it/s]"
      ]
     },
     "metadata": {},
     "output_type": "display_data"
    },
    {
     "data": {
      "application/vnd.jupyter.widget-view+json": {
       "model_id": "e2f42594066d4b2b8415c72707762a28",
       "version_major": 2,
       "version_minor": 0
      },
      "text/plain": [
       "Image (test):   0%|          | 0/19 [00:00<?, ?it/s]"
      ]
     },
     "metadata": {},
     "output_type": "display_data"
    },
    {
     "data": {
      "application/vnd.jupyter.widget-view+json": {
       "model_id": "e93dfe7efaa94a7b8e6475d3b8b34ce2",
       "version_major": 2,
       "version_minor": 0
      },
      "text/plain": [
       "Image (train):   0%|          | 0/17 [00:00<?, ?it/s]"
      ]
     },
     "metadata": {},
     "output_type": "display_data"
    },
    {
     "data": {
      "application/vnd.jupyter.widget-view+json": {
       "model_id": "7d405745688a4ae589cdff048e1c5cf8",
       "version_major": 2,
       "version_minor": 0
      },
      "text/plain": [
       "Image (test):   0%|          | 0/17 [00:00<?, ?it/s]"
      ]
     },
     "metadata": {},
     "output_type": "display_data"
    },
    {
     "data": {
      "application/vnd.jupyter.widget-view+json": {
       "model_id": "08e1474b20f9471cb0c76d593498bb57",
       "version_major": 2,
       "version_minor": 0
      },
      "text/plain": [
       "Image (train):   0%|          | 0/16 [00:00<?, ?it/s]"
      ]
     },
     "metadata": {},
     "output_type": "display_data"
    },
    {
     "data": {
      "application/vnd.jupyter.widget-view+json": {
       "model_id": "fd493cbd781a4ccba81cd731194502c9",
       "version_major": 2,
       "version_minor": 0
      },
      "text/plain": [
       "Image (test):   0%|          | 0/16 [00:00<?, ?it/s]"
      ]
     },
     "metadata": {},
     "output_type": "display_data"
    },
    {
     "data": {
      "application/vnd.jupyter.widget-view+json": {
       "model_id": "263773b9a64f459fb276245f6c09dbb4",
       "version_major": 2,
       "version_minor": 0
      },
      "text/plain": [
       "Image (train):   0%|          | 0/13 [00:00<?, ?it/s]"
      ]
     },
     "metadata": {},
     "output_type": "display_data"
    },
    {
     "data": {
      "application/vnd.jupyter.widget-view+json": {
       "model_id": "2828bc60f8d548c48f2fe47b9d2bc36c",
       "version_major": 2,
       "version_minor": 0
      },
      "text/plain": [
       "Image (test):   0%|          | 0/13 [00:00<?, ?it/s]"
      ]
     },
     "metadata": {},
     "output_type": "display_data"
    },
    {
     "data": {
      "application/vnd.jupyter.widget-view+json": {
       "model_id": "02e8d35d5c4440f4856e0e150962cddd",
       "version_major": 2,
       "version_minor": 0
      },
      "text/plain": [
       "Image (train):   0%|          | 0/12 [00:00<?, ?it/s]"
      ]
     },
     "metadata": {},
     "output_type": "display_data"
    },
    {
     "data": {
      "application/vnd.jupyter.widget-view+json": {
       "model_id": "b910dd8f1c7b405483515cbc8ab0ce50",
       "version_major": 2,
       "version_minor": 0
      },
      "text/plain": [
       "Image (test):   0%|          | 0/12 [00:00<?, ?it/s]"
      ]
     },
     "metadata": {},
     "output_type": "display_data"
    },
    {
     "data": {
      "application/vnd.jupyter.widget-view+json": {
       "model_id": "2afa9dabc1974526a25993d9ed0a30b3",
       "version_major": 2,
       "version_minor": 0
      },
      "text/plain": [
       "Image (train):   0%|          | 0/11 [00:00<?, ?it/s]"
      ]
     },
     "metadata": {},
     "output_type": "display_data"
    },
    {
     "data": {
      "application/vnd.jupyter.widget-view+json": {
       "model_id": "92ee4cbeed624e5690e9624fe54e1c01",
       "version_major": 2,
       "version_minor": 0
      },
      "text/plain": [
       "Image (test):   0%|          | 0/11 [00:00<?, ?it/s]"
      ]
     },
     "metadata": {},
     "output_type": "display_data"
    },
    {
     "data": {
      "application/vnd.jupyter.widget-view+json": {
       "model_id": "fddfb858e23048e7a76466e6435cde4a",
       "version_major": 2,
       "version_minor": 0
      },
      "text/plain": [
       "Image (train):   0%|          | 0/9 [00:00<?, ?it/s]"
      ]
     },
     "metadata": {},
     "output_type": "display_data"
    },
    {
     "data": {
      "application/vnd.jupyter.widget-view+json": {
       "model_id": "458a1c62fb8f423e92c0aaf14452edda",
       "version_major": 2,
       "version_minor": 0
      },
      "text/plain": [
       "Image (test):   0%|          | 0/9 [00:00<?, ?it/s]"
      ]
     },
     "metadata": {},
     "output_type": "display_data"
    },
    {
     "data": {
      "application/vnd.jupyter.widget-view+json": {
       "model_id": "7975218a5907430e9b8a4ac4940ba968",
       "version_major": 2,
       "version_minor": 0
      },
      "text/plain": [
       "Image (train):   0%|          | 0/8 [00:00<?, ?it/s]"
      ]
     },
     "metadata": {},
     "output_type": "display_data"
    },
    {
     "data": {
      "application/vnd.jupyter.widget-view+json": {
       "model_id": "42e277992a9d4ceb976db1df7f2dfec4",
       "version_major": 2,
       "version_minor": 0
      },
      "text/plain": [
       "Image (test):   0%|          | 0/8 [00:00<?, ?it/s]"
      ]
     },
     "metadata": {},
     "output_type": "display_data"
    },
    {
     "data": {
      "application/vnd.jupyter.widget-view+json": {
       "model_id": "df043fd4977942869abfcf285fdefac5",
       "version_major": 2,
       "version_minor": 0
      },
      "text/plain": [
       "Image (train):   0%|          | 0/8 [00:00<?, ?it/s]"
      ]
     },
     "metadata": {},
     "output_type": "display_data"
    },
    {
     "data": {
      "application/vnd.jupyter.widget-view+json": {
       "model_id": "6d4be78f2eeb437ba0df084729d49e79",
       "version_major": 2,
       "version_minor": 0
      },
      "text/plain": [
       "Image (test):   0%|          | 0/8 [00:00<?, ?it/s]"
      ]
     },
     "metadata": {},
     "output_type": "display_data"
    },
    {
     "data": {
      "application/vnd.jupyter.widget-view+json": {
       "model_id": "4f7912323cfe4187a66b51690d3d450a",
       "version_major": 2,
       "version_minor": 0
      },
      "text/plain": [
       "Image (train):   0%|          | 0/8 [00:00<?, ?it/s]"
      ]
     },
     "metadata": {},
     "output_type": "display_data"
    },
    {
     "data": {
      "application/vnd.jupyter.widget-view+json": {
       "model_id": "91a95e9c4fe3497580db7911c2e21ad6",
       "version_major": 2,
       "version_minor": 0
      },
      "text/plain": [
       "Image (test):   0%|          | 0/8 [00:00<?, ?it/s]"
      ]
     },
     "metadata": {},
     "output_type": "display_data"
    },
    {
     "data": {
      "application/vnd.jupyter.widget-view+json": {
       "model_id": "da1fba7d84294ff0aae5befb02ce6142",
       "version_major": 2,
       "version_minor": 0
      },
      "text/plain": [
       "Image (train):   0%|          | 0/7 [00:00<?, ?it/s]"
      ]
     },
     "metadata": {},
     "output_type": "display_data"
    },
    {
     "data": {
      "application/vnd.jupyter.widget-view+json": {
       "model_id": "0f58c32711bb46b5947d5ab8ce7bbb1d",
       "version_major": 2,
       "version_minor": 0
      },
      "text/plain": [
       "Image (test):   0%|          | 0/7 [00:00<?, ?it/s]"
      ]
     },
     "metadata": {},
     "output_type": "display_data"
    },
    {
     "data": {
      "application/vnd.jupyter.widget-view+json": {
       "model_id": "83ec44b25da44eab91e6b3383a5ae776",
       "version_major": 2,
       "version_minor": 0
      },
      "text/plain": [
       "Image (train):   0%|          | 0/6 [00:00<?, ?it/s]"
      ]
     },
     "metadata": {},
     "output_type": "display_data"
    },
    {
     "data": {
      "application/vnd.jupyter.widget-view+json": {
       "model_id": "ce3e61be7ccf4237b39144b6850028ca",
       "version_major": 2,
       "version_minor": 0
      },
      "text/plain": [
       "Image (test):   0%|          | 0/6 [00:00<?, ?it/s]"
      ]
     },
     "metadata": {},
     "output_type": "display_data"
    },
    {
     "data": {
      "application/vnd.jupyter.widget-view+json": {
       "model_id": "e5ed23e7fc7e41ff9185c986553f881a",
       "version_major": 2,
       "version_minor": 0
      },
      "text/plain": [
       "Image (train):   0%|          | 0/6 [00:00<?, ?it/s]"
      ]
     },
     "metadata": {},
     "output_type": "display_data"
    },
    {
     "data": {
      "application/vnd.jupyter.widget-view+json": {
       "model_id": "0a5d84dd550e40a7831e48d7501e7577",
       "version_major": 2,
       "version_minor": 0
      },
      "text/plain": [
       "Image (test):   0%|          | 0/6 [00:00<?, ?it/s]"
      ]
     },
     "metadata": {},
     "output_type": "display_data"
    },
    {
     "data": {
      "application/vnd.jupyter.widget-view+json": {
       "model_id": "f1b3833e23e747d8818691902804bb26",
       "version_major": 2,
       "version_minor": 0
      },
      "text/plain": [
       "Image (train):   0%|          | 0/5 [00:00<?, ?it/s]"
      ]
     },
     "metadata": {},
     "output_type": "display_data"
    },
    {
     "data": {
      "application/vnd.jupyter.widget-view+json": {
       "model_id": "717aa265f1c64a56964a5c100e7f90eb",
       "version_major": 2,
       "version_minor": 0
      },
      "text/plain": [
       "Image (test):   0%|          | 0/5 [00:00<?, ?it/s]"
      ]
     },
     "metadata": {},
     "output_type": "display_data"
    },
    {
     "data": {
      "application/vnd.jupyter.widget-view+json": {
       "model_id": "fc76ec20f83f4b5b97f2937917216338",
       "version_major": 2,
       "version_minor": 0
      },
      "text/plain": [
       "Image (train):   0%|          | 0/4 [00:00<?, ?it/s]"
      ]
     },
     "metadata": {},
     "output_type": "display_data"
    },
    {
     "data": {
      "application/vnd.jupyter.widget-view+json": {
       "model_id": "70a7b3610ce34ca2a5ef91b9889157d9",
       "version_major": 2,
       "version_minor": 0
      },
      "text/plain": [
       "Image (test):   0%|          | 0/4 [00:00<?, ?it/s]"
      ]
     },
     "metadata": {},
     "output_type": "display_data"
    },
    {
     "data": {
      "application/vnd.jupyter.widget-view+json": {
       "model_id": "642dbc19f61540a8a4635479aa4d76dc",
       "version_major": 2,
       "version_minor": 0
      },
      "text/plain": [
       "Attempt:   0%|          | 0/20 [00:00<?, ?it/s]"
      ]
     },
     "metadata": {},
     "output_type": "display_data"
    },
    {
     "data": {
      "application/vnd.jupyter.widget-view+json": {
       "model_id": "68ad2b34772440688fc2fd813b270a75",
       "version_major": 2,
       "version_minor": 0
      },
      "text/plain": [
       "Image (train):   0%|          | 0/1000 [00:00<?, ?it/s]"
      ]
     },
     "metadata": {},
     "output_type": "display_data"
    },
    {
     "data": {
      "application/vnd.jupyter.widget-view+json": {
       "model_id": "aea4c97be9134256a4e24333dbb23596",
       "version_major": 2,
       "version_minor": 0
      },
      "text/plain": [
       "Image (test):   0%|          | 0/1000 [00:00<?, ?it/s]"
      ]
     },
     "metadata": {},
     "output_type": "display_data"
    },
    {
     "data": {
      "application/vnd.jupyter.widget-view+json": {
       "model_id": "105e4dad658b4f6bab2d143f521dbecd",
       "version_major": 2,
       "version_minor": 0
      },
      "text/plain": [
       "Image (train):   0%|          | 0/25 [00:00<?, ?it/s]"
      ]
     },
     "metadata": {},
     "output_type": "display_data"
    },
    {
     "data": {
      "application/vnd.jupyter.widget-view+json": {
       "model_id": "6873ead3ab514855b4a5208def758afe",
       "version_major": 2,
       "version_minor": 0
      },
      "text/plain": [
       "Image (test):   0%|          | 0/25 [00:00<?, ?it/s]"
      ]
     },
     "metadata": {},
     "output_type": "display_data"
    },
    {
     "data": {
      "application/vnd.jupyter.widget-view+json": {
       "model_id": "2d489b33c58e4a26821cb0a2c5c74f44",
       "version_major": 2,
       "version_minor": 0
      },
      "text/plain": [
       "Image (train):   0%|          | 0/20 [00:00<?, ?it/s]"
      ]
     },
     "metadata": {},
     "output_type": "display_data"
    },
    {
     "data": {
      "application/vnd.jupyter.widget-view+json": {
       "model_id": "75c2ffcb9cb44fc2bf5d6129f4056389",
       "version_major": 2,
       "version_minor": 0
      },
      "text/plain": [
       "Image (test):   0%|          | 0/20 [00:00<?, ?it/s]"
      ]
     },
     "metadata": {},
     "output_type": "display_data"
    },
    {
     "data": {
      "application/vnd.jupyter.widget-view+json": {
       "model_id": "91fb4c08bbef43969ad681c7a07f0d80",
       "version_major": 2,
       "version_minor": 0
      },
      "text/plain": [
       "Image (train):   0%|          | 0/20 [00:00<?, ?it/s]"
      ]
     },
     "metadata": {},
     "output_type": "display_data"
    },
    {
     "data": {
      "application/vnd.jupyter.widget-view+json": {
       "model_id": "ba16d016d8354170860eca45d23d189b",
       "version_major": 2,
       "version_minor": 0
      },
      "text/plain": [
       "Image (test):   0%|          | 0/20 [00:00<?, ?it/s]"
      ]
     },
     "metadata": {},
     "output_type": "display_data"
    },
    {
     "data": {
      "application/vnd.jupyter.widget-view+json": {
       "model_id": "e463a87ee43349baa5604cb65af0b9bf",
       "version_major": 2,
       "version_minor": 0
      },
      "text/plain": [
       "Image (train):   0%|          | 0/17 [00:00<?, ?it/s]"
      ]
     },
     "metadata": {},
     "output_type": "display_data"
    },
    {
     "data": {
      "application/vnd.jupyter.widget-view+json": {
       "model_id": "abd4d87950f7456387187e417620ebd2",
       "version_major": 2,
       "version_minor": 0
      },
      "text/plain": [
       "Image (test):   0%|          | 0/17 [00:00<?, ?it/s]"
      ]
     },
     "metadata": {},
     "output_type": "display_data"
    },
    {
     "data": {
      "application/vnd.jupyter.widget-view+json": {
       "model_id": "d7a3825ccdc84c62bcfdd851a61590d1",
       "version_major": 2,
       "version_minor": 0
      },
      "text/plain": [
       "Image (train):   0%|          | 0/15 [00:00<?, ?it/s]"
      ]
     },
     "metadata": {},
     "output_type": "display_data"
    },
    {
     "data": {
      "application/vnd.jupyter.widget-view+json": {
       "model_id": "23faee24867c41259188ef24668731c2",
       "version_major": 2,
       "version_minor": 0
      },
      "text/plain": [
       "Image (test):   0%|          | 0/15 [00:00<?, ?it/s]"
      ]
     },
     "metadata": {},
     "output_type": "display_data"
    },
    {
     "data": {
      "application/vnd.jupyter.widget-view+json": {
       "model_id": "fd7f40db6df54f4b8fbba6c3dc980d7d",
       "version_major": 2,
       "version_minor": 0
      },
      "text/plain": [
       "Image (train):   0%|          | 0/13 [00:00<?, ?it/s]"
      ]
     },
     "metadata": {},
     "output_type": "display_data"
    },
    {
     "data": {
      "application/vnd.jupyter.widget-view+json": {
       "model_id": "fa11d36d51c64e1298cebe77ff575574",
       "version_major": 2,
       "version_minor": 0
      },
      "text/plain": [
       "Image (test):   0%|          | 0/13 [00:00<?, ?it/s]"
      ]
     },
     "metadata": {},
     "output_type": "display_data"
    },
    {
     "data": {
      "application/vnd.jupyter.widget-view+json": {
       "model_id": "fc3e766e3f6d4e86ad8f4c1f32b852ab",
       "version_major": 2,
       "version_minor": 0
      },
      "text/plain": [
       "Image (train):   0%|          | 0/11 [00:00<?, ?it/s]"
      ]
     },
     "metadata": {},
     "output_type": "display_data"
    },
    {
     "data": {
      "application/vnd.jupyter.widget-view+json": {
       "model_id": "8e8698de98da42749444d1da0709ed56",
       "version_major": 2,
       "version_minor": 0
      },
      "text/plain": [
       "Image (test):   0%|          | 0/11 [00:00<?, ?it/s]"
      ]
     },
     "metadata": {},
     "output_type": "display_data"
    },
    {
     "data": {
      "application/vnd.jupyter.widget-view+json": {
       "model_id": "5ea7ef369dbc4283a28f1d9d6b36f343",
       "version_major": 2,
       "version_minor": 0
      },
      "text/plain": [
       "Image (train):   0%|          | 0/10 [00:00<?, ?it/s]"
      ]
     },
     "metadata": {},
     "output_type": "display_data"
    },
    {
     "data": {
      "application/vnd.jupyter.widget-view+json": {
       "model_id": "62ac7f76b6b2410fbf14a8f32927a131",
       "version_major": 2,
       "version_minor": 0
      },
      "text/plain": [
       "Image (test):   0%|          | 0/10 [00:00<?, ?it/s]"
      ]
     },
     "metadata": {},
     "output_type": "display_data"
    },
    {
     "data": {
      "application/vnd.jupyter.widget-view+json": {
       "model_id": "607e06be3f0b4e7f8c46496fa81a97ab",
       "version_major": 2,
       "version_minor": 0
      },
      "text/plain": [
       "Image (train):   0%|          | 0/7 [00:00<?, ?it/s]"
      ]
     },
     "metadata": {},
     "output_type": "display_data"
    },
    {
     "data": {
      "application/vnd.jupyter.widget-view+json": {
       "model_id": "d051a96a52684169973c8fabb6e44fe3",
       "version_major": 2,
       "version_minor": 0
      },
      "text/plain": [
       "Image (test):   0%|          | 0/7 [00:00<?, ?it/s]"
      ]
     },
     "metadata": {},
     "output_type": "display_data"
    },
    {
     "data": {
      "application/vnd.jupyter.widget-view+json": {
       "model_id": "e448c0073991492689c988c3f94f18f1",
       "version_major": 2,
       "version_minor": 0
      },
      "text/plain": [
       "Image (train):   0%|          | 0/7 [00:00<?, ?it/s]"
      ]
     },
     "metadata": {},
     "output_type": "display_data"
    },
    {
     "data": {
      "application/vnd.jupyter.widget-view+json": {
       "model_id": "12e6513c1a8f4bb4831ea7472102b440",
       "version_major": 2,
       "version_minor": 0
      },
      "text/plain": [
       "Image (test):   0%|          | 0/7 [00:00<?, ?it/s]"
      ]
     },
     "metadata": {},
     "output_type": "display_data"
    },
    {
     "data": {
      "application/vnd.jupyter.widget-view+json": {
       "model_id": "b56f8d8cf7c140af81647e921b5fc1ae",
       "version_major": 2,
       "version_minor": 0
      },
      "text/plain": [
       "Image (train):   0%|          | 0/7 [00:00<?, ?it/s]"
      ]
     },
     "metadata": {},
     "output_type": "display_data"
    },
    {
     "data": {
      "application/vnd.jupyter.widget-view+json": {
       "model_id": "84c28278467c4d2f8e31259ab08561d1",
       "version_major": 2,
       "version_minor": 0
      },
      "text/plain": [
       "Image (test):   0%|          | 0/7 [00:00<?, ?it/s]"
      ]
     },
     "metadata": {},
     "output_type": "display_data"
    },
    {
     "data": {
      "application/vnd.jupyter.widget-view+json": {
       "model_id": "5f5392fb19a44ec08168bd43e42f8ee2",
       "version_major": 2,
       "version_minor": 0
      },
      "text/plain": [
       "Image (train):   0%|          | 0/6 [00:00<?, ?it/s]"
      ]
     },
     "metadata": {},
     "output_type": "display_data"
    },
    {
     "data": {
      "application/vnd.jupyter.widget-view+json": {
       "model_id": "a215177270f949499fc1366b87a16a36",
       "version_major": 2,
       "version_minor": 0
      },
      "text/plain": [
       "Image (test):   0%|          | 0/6 [00:00<?, ?it/s]"
      ]
     },
     "metadata": {},
     "output_type": "display_data"
    },
    {
     "data": {
      "application/vnd.jupyter.widget-view+json": {
       "model_id": "4eca5c2007d24268af38d67f00965139",
       "version_major": 2,
       "version_minor": 0
      },
      "text/plain": [
       "Image (train):   0%|          | 0/5 [00:00<?, ?it/s]"
      ]
     },
     "metadata": {},
     "output_type": "display_data"
    },
    {
     "data": {
      "application/vnd.jupyter.widget-view+json": {
       "model_id": "2d8d483b93d34c8bb0ba0135d563f56e",
       "version_major": 2,
       "version_minor": 0
      },
      "text/plain": [
       "Image (test):   0%|          | 0/5 [00:00<?, ?it/s]"
      ]
     },
     "metadata": {},
     "output_type": "display_data"
    },
    {
     "data": {
      "application/vnd.jupyter.widget-view+json": {
       "model_id": "9570825c838f4792b58a3952dd1888c0",
       "version_major": 2,
       "version_minor": 0
      },
      "text/plain": [
       "Image (train):   0%|          | 0/5 [00:00<?, ?it/s]"
      ]
     },
     "metadata": {},
     "output_type": "display_data"
    },
    {
     "data": {
      "application/vnd.jupyter.widget-view+json": {
       "model_id": "6d8af52db6be4b118ba5f74092f9809d",
       "version_major": 2,
       "version_minor": 0
      },
      "text/plain": [
       "Image (test):   0%|          | 0/5 [00:00<?, ?it/s]"
      ]
     },
     "metadata": {},
     "output_type": "display_data"
    },
    {
     "data": {
      "application/vnd.jupyter.widget-view+json": {
       "model_id": "3e64e04bfa3147c1a1ce9aaf14c746e7",
       "version_major": 2,
       "version_minor": 0
      },
      "text/plain": [
       "Image (train):   0%|          | 0/5 [00:00<?, ?it/s]"
      ]
     },
     "metadata": {},
     "output_type": "display_data"
    },
    {
     "data": {
      "application/vnd.jupyter.widget-view+json": {
       "model_id": "6e410378f290479b8f4dae0e57efb1ff",
       "version_major": 2,
       "version_minor": 0
      },
      "text/plain": [
       "Image (test):   0%|          | 0/5 [00:00<?, ?it/s]"
      ]
     },
     "metadata": {},
     "output_type": "display_data"
    },
    {
     "data": {
      "application/vnd.jupyter.widget-view+json": {
       "model_id": "54d6c1e9faf64c339983597ab85f34a7",
       "version_major": 2,
       "version_minor": 0
      },
      "text/plain": [
       "Image (train):   0%|          | 0/5 [00:00<?, ?it/s]"
      ]
     },
     "metadata": {},
     "output_type": "display_data"
    },
    {
     "data": {
      "application/vnd.jupyter.widget-view+json": {
       "model_id": "eed93f1cdbab4d1794bb17f677a93a4c",
       "version_major": 2,
       "version_minor": 0
      },
      "text/plain": [
       "Image (test):   0%|          | 0/5 [00:00<?, ?it/s]"
      ]
     },
     "metadata": {},
     "output_type": "display_data"
    },
    {
     "data": {
      "application/vnd.jupyter.widget-view+json": {
       "model_id": "415a60c6df094397b9a1c33027a0af3b",
       "version_major": 2,
       "version_minor": 0
      },
      "text/plain": [
       "Image (train):   0%|          | 0/5 [00:00<?, ?it/s]"
      ]
     },
     "metadata": {},
     "output_type": "display_data"
    },
    {
     "data": {
      "application/vnd.jupyter.widget-view+json": {
       "model_id": "6c1f9085330d496fbc11db3112ad64eb",
       "version_major": 2,
       "version_minor": 0
      },
      "text/plain": [
       "Image (test):   0%|          | 0/5 [00:00<?, ?it/s]"
      ]
     },
     "metadata": {},
     "output_type": "display_data"
    },
    {
     "data": {
      "application/vnd.jupyter.widget-view+json": {
       "model_id": "7e6f3d83e6f747e0a048687e615f9c40",
       "version_major": 2,
       "version_minor": 0
      },
      "text/plain": [
       "Image (train):   0%|          | 0/5 [00:00<?, ?it/s]"
      ]
     },
     "metadata": {},
     "output_type": "display_data"
    },
    {
     "data": {
      "application/vnd.jupyter.widget-view+json": {
       "model_id": "435c1a7ad2a9480ea22b35cc5dd04f5d",
       "version_major": 2,
       "version_minor": 0
      },
      "text/plain": [
       "Image (test):   0%|          | 0/5 [00:00<?, ?it/s]"
      ]
     },
     "metadata": {},
     "output_type": "display_data"
    },
    {
     "data": {
      "application/vnd.jupyter.widget-view+json": {
       "model_id": "d5d0e07309b44e3c8f196cebf37d0082",
       "version_major": 2,
       "version_minor": 0
      },
      "text/plain": [
       "Image (train):   0%|          | 0/5 [00:00<?, ?it/s]"
      ]
     },
     "metadata": {},
     "output_type": "display_data"
    },
    {
     "data": {
      "application/vnd.jupyter.widget-view+json": {
       "model_id": "ad54229ecbe74956859cc566b4c7d49f",
       "version_major": 2,
       "version_minor": 0
      },
      "text/plain": [
       "Image (test):   0%|          | 0/5 [00:00<?, ?it/s]"
      ]
     },
     "metadata": {},
     "output_type": "display_data"
    },
    {
     "data": {
      "application/vnd.jupyter.widget-view+json": {
       "model_id": "f0e3962cfe874f529d06e0927803fd99",
       "version_major": 2,
       "version_minor": 0
      },
      "text/plain": [
       "Attempt:   0%|          | 0/20 [00:00<?, ?it/s]"
      ]
     },
     "metadata": {},
     "output_type": "display_data"
    },
    {
     "data": {
      "application/vnd.jupyter.widget-view+json": {
       "model_id": "70488956c08a440fac24b8d1e4016a1a",
       "version_major": 2,
       "version_minor": 0
      },
      "text/plain": [
       "Image (train):   0%|          | 0/1000 [00:00<?, ?it/s]"
      ]
     },
     "metadata": {},
     "output_type": "display_data"
    },
    {
     "data": {
      "application/vnd.jupyter.widget-view+json": {
       "model_id": "3110635248cf4b2f8ab374f8fc9ff250",
       "version_major": 2,
       "version_minor": 0
      },
      "text/plain": [
       "Image (test):   0%|          | 0/1000 [00:00<?, ?it/s]"
      ]
     },
     "metadata": {},
     "output_type": "display_data"
    }
   ],
   "source": [
    "# TRAIN RUN\n",
    "TRAIN_RUN_ID += 1\n",
    "epochs = 10\n",
    "attempts_to_get_no_mistakes = 20\n",
    "count = 1000\n",
    "consolidation_threshold = 1000\n",
    "\n",
    "for epoch in tqdm(range(epochs), desc='Epoch'):\n",
    "    train_step_image_ids = RNG.choice(df_train_images.index.unique(), count, replace=False)\n",
    "\n",
    "    for attempt_to_get_no_mistakes in tqdm(range(attempts_to_get_no_mistakes), leave=False, desc='Attempt'):\n",
    "        # EVOLVE MEMORIES\n",
    "        for image_no, image_id in tqdm(enumerate(train_step_image_ids), leave=False, total=len(train_step_image_ids), desc='Image (train)'):\n",
    "            log.debug(f'[train_run_id={TRAIN_RUN_ID}, image_no={image_no}, image_id={image_id}] Cluster count={COLUMN.cluster_norms.len}')\n",
    "            \n",
    "            image_value = df_train_images.loc[image_id]['value']\n",
    "            df_image_encodings = pd.read_sql('SELECT hdv FROM image_encodings WHERE image_id=:image_id', params={'image_id': int(image_id)}, con=train_db_con)\n",
    "            assert len(df_image_encodings) > 0\n",
    "            image_encoding_hdvs = list(map(lambda h: np.frombuffer(h, dtype='b'), df_image_encodings['hdv']))\n",
    "            image_encoding_hdvs_norm = hdc.normalize(image_encoding_hdvs)\n",
    "            image_encoding_hdvs_norm = xp_array_to_gpu(image_encoding_hdvs_norm)\n",
    "    \n",
    "            cos_sim_matrix = COLUMN.cluster_norms.array @ image_encoding_hdvs_norm.T\n",
    "            cos_sim_matrix[cos_sim_matrix < COS_SIM_THRESHOLD] = 0\n",
    "            cos_sim_vector = xp_array_from_gpu(xp.sum(cos_sim_matrix, axis=1)) # how each mem recall (sum cos sim) is close to current image\n",
    "\n",
    "            COLUMN.images_seen += image_encoding_hdvs_norm.shape[0]\n",
    "            \n",
    "            assert cos_sim_vector.shape == (COLUMN.cluster_norms.array.shape[0],)\n",
    "            cluster_ids_by_match_score = np.argsort(-cos_sim_vector) # sorted desc\n",
    "            match_found = False\n",
    "            match_pos = False\n",
    "            match_is_updated = False\n",
    "    \n",
    "            for pos, cluster_id in enumerate(cluster_ids_by_match_score):\n",
    "                cos_sim_value = cos_sim_vector[cluster_id]\n",
    "                log.debug(f'[train_run_id={TRAIN_RUN_ID}, image_no={image_no}, image_id={image_id}] Checking cluster #{cluster_id}, pos={pos}, sim={cos_sim_value:.2f}')\n",
    "    \n",
    "                if cos_sim_value <= 0:\n",
    "                    break\n",
    "    \n",
    "                cluster_image_ids = COLUMN.cluster_to_image_ids[cluster_id]\n",
    "                assert len(cluster_image_ids) > 0\n",
    "                cluster_is_sealed = len(cluster_image_ids) > 200\n",
    "                cluster_image_id = next(iter(cluster_image_ids))\n",
    "                cluster_image_value = df_train_images.loc[cluster_image_id]['value']\n",
    "    \n",
    "                if cluster_image_value != image_value:\n",
    "                    log.debug(f'[train_run_id={TRAIN_RUN_ID}, image_no={image_no}, image_id={image_id}] Match WRONG, cluster value={cluster_image_value} vs {image_value}')\n",
    "                else:\n",
    "                    log.debug(f'[train_run_id={TRAIN_RUN_ID}, image_no={image_no}, image_id={image_id}] Match CORRECT, sealed={cluster_is_sealed}')\n",
    "    \n",
    "                    if not cluster_is_sealed:\n",
    "                        cluster_image_ids.add(image_id)\n",
    "                        cluster_hdvs = COLUMN.clusters[cluster_id] # list\n",
    "                        cluster_hdvs.append(hdc.bundle(image_encoding_hdvs))\n",
    "                        new_cluster_bundle = xp_array_to_gpu(hdc.bundle(cluster_hdvs))\n",
    "                        COLUMN.cluster_norms.array[cluster_id] = hdc.normalize(new_cluster_bundle)\n",
    "    \n",
    "                    match_found = True\n",
    "                    match_pos = pos\n",
    "                    match_is_updated = not cluster_is_sealed\n",
    "                    break\n",
    "    \n",
    "            log.debug(f'[train_run_id={TRAIN_RUN_ID}, image_no={image_no}, image_id={image_id}] Match found={match_found}, pos={match_pos}, is updated={match_is_updated}')\n",
    "    \n",
    "            if (match_found and match_pos == 0) or (match_found and match_is_updated):\n",
    "                pass\n",
    "            else:\n",
    "                cluster_id = COLUMN.cluster_norms.lease()\n",
    "                cluster_bundle = hdc.bundle(image_encoding_hdvs)\n",
    "                COLUMN.cluster_norms.array[cluster_id] = xp_array_to_gpu(hdc.normalize(cluster_bundle))\n",
    "                COLUMN.clusters[cluster_id].append(cluster_bundle)\n",
    "                COLUMN.cluster_to_image_ids[cluster_id].add(image_id)\n",
    "                log.debug(f'[train_run_id={TRAIN_RUN_ID}, image_no={image_no}, image_id={image_id}] New cluster {cluster_id}')\n",
    "    \n",
    "            if image_no > 0 and image_no % consolidation_threshold == 0:\n",
    "                # CONSOLIDATE MEMORY\n",
    "                def dump_cluster_lengths(when):\n",
    "                    cluster_lengths = list(map(lambda image_ids: len(image_ids), COLUMN.cluster_to_image_ids.values()))\n",
    "                    cluster_lengths = np.unique_counts(cluster_lengths)\n",
    "                    \n",
    "                    for v, c in zip(reversed(cluster_lengths.values), reversed(cluster_lengths.counts)):\n",
    "                        log.debug(f'[train_run_id={TRAIN_RUN_ID}, consolidation] {when:10} {v:5} {c:5}')\n",
    "    \n",
    "                before_len = COLUMN.cluster_norms.len()\n",
    "                assert before_len == len(COLUMN.clusters)\n",
    "                \n",
    "                log.debug(f'[train_run_id={TRAIN_RUN_ID}, consolidation] BEFORE clusters count = {before_len}')\n",
    "                dump_cluster_lengths('BEFORE')\n",
    "                \n",
    "                cluster_indices_to_release = []\n",
    "                \n",
    "                for cluster_id, image_ids in COLUMN.cluster_to_image_ids.items():\n",
    "                    #l = 0.1\n",
    "                    l = 1\n",
    "                    exp_distro_level = l * np.exp(-l * len(image_ids))\n",
    "                    rand_level = RNG.random()\n",
    "                    do_release = rand_level < exp_distro_level\n",
    "                    \n",
    "                    if do_release:\n",
    "                        cluster_indices_to_release.append(cluster_id)\n",
    "                        log.debug(f'[train_run_id={TRAIN_RUN_ID}, consolidation] Dropping cluster #{cluster_id}, len={len(image_ids)}: {rand_level:.5f} < {exp_distro_level:.5f}')\n",
    "            \n",
    "                for cluster_index_to_release in cluster_indices_to_release:\n",
    "                    del COLUMN.clusters[cluster_index_to_release]\n",
    "                    del COLUMN.cluster_to_image_ids[cluster_index_to_release]\n",
    "                    COLUMN.cluster_norms.release(cluster_index_to_release)\n",
    "            \n",
    "                after_len = COLUMN.cluster_norms.len()\n",
    "                assert after_len == len(COLUMN.clusters)\n",
    "                \n",
    "                log.debug(f'[train_run_id={TRAIN_RUN_ID}, consolidation] AFTER clusters count = {after_len}')\n",
    "                dump_cluster_lengths('AFTER')\n",
    "\n",
    "        mistake_image_ids = []\n",
    "        \n",
    "        for image_no, image_id in tqdm(enumerate(train_step_image_ids), leave=False, total=len(train_step_image_ids), desc='Image (test)'):\n",
    "            image_value = df_train_images.loc[image_id]['value']\n",
    "            df_image_encodings = pd.read_sql('SELECT hdv FROM image_encodings WHERE image_id=:image_id', params={'image_id': int(image_id)}, con=train_db_con)\n",
    "            assert len(df_image_encodings) > 0\n",
    "            image_encoding_hdvs = list(map(lambda h: np.frombuffer(h, dtype='b'), df_image_encodings['hdv']))\n",
    "            image_encoding_hdvs_norm = hdc.normalize(image_encoding_hdvs)\n",
    "            image_encoding_hdvs_norm = xp_array_to_gpu(image_encoding_hdvs_norm)\n",
    "        \n",
    "            cos_sim_matrix = COLUMN.cluster_norms.array @ image_encoding_hdvs_norm.T\n",
    "            cos_sim_matrix[cos_sim_matrix < COS_SIM_THRESHOLD] = 0\n",
    "            cos_sim_vector = xp_array_from_gpu(xp.sum(cos_sim_matrix, axis=1)) # how each mem recall (sum cos sim) is close to current image\n",
    "            \n",
    "            assert cos_sim_vector.shape == (COLUMN.cluster_norms.array.shape[0],)\n",
    "            cluster_ids_by_match_score = np.argsort(-cos_sim_vector) # sorted desc\n",
    "        \n",
    "            if cluster_ids_by_match_score.shape[0] > 0:\n",
    "                cluster_id = cluster_ids_by_match_score[0]\n",
    "                cos_sim_value = cos_sim_vector[cluster_id]\n",
    "        \n",
    "                if cos_sim_value > 0:\n",
    "                    cluster_image_ids = COLUMN.cluster_to_image_ids[cluster_id]\n",
    "                    assert len(cluster_image_ids) > 0\n",
    "                    cluster_image_id = next(iter(cluster_image_ids))\n",
    "                    cluster_image_value = df_train_images.loc[cluster_image_id]['value']\n",
    "\n",
    "                    if cluster_image_value != image_value:\n",
    "                        mistake_image_ids.append(image_id)\n",
    "\n",
    "        log.debug(f'[train_run_id={TRAIN_RUN_ID}] Mistaken image ids = {len(mistake_image_ids)}')\n",
    "\n",
    "        if not mistake_image_ids:\n",
    "            break\n",
    "            \n",
    "        train_step_image_ids = mistake_image_ids\n",
    "\n",
    "        "
   ]
  },
  {
   "cell_type": "code",
   "execution_count": 31,
   "id": "cc549286-4674-4011-a93d-24ee0e15c8f1",
   "metadata": {},
   "outputs": [
    {
     "data": {
      "text/plain": [
       "257"
      ]
     },
     "execution_count": 31,
     "metadata": {},
     "output_type": "execute_result"
    }
   ],
   "source": [
    "len(COLUMN.clusters)"
   ]
  },
  {
   "cell_type": "code",
   "execution_count": 32,
   "id": "9ee32737-067b-47ea-9d07-5e67b9e4b801",
   "metadata": {},
   "outputs": [
    {
     "data": {
      "text/html": [
       "<div style=\"\n",
       "        display: grid; \n",
       "        grid-template-columns: repeat(8, 128px);\n",
       "        column-gap: 1px;\n",
       "        row-gap: 1px;\">\n",
       "        \n",
       "            <figure style=\"margin: 5px !important;\">\n",
       "              <img src=\"data:image/png;base64,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\" style=\"height: auto\">\n",
       "              <figcaption style=\"font-size: 0.6em\">clust=248, #48953, val=4</figcaption>\n",
       "            </figure>\n",
       "        \n",
       "    </div>"
      ],
      "text/plain": [
       "<IPython.core.display.HTML object>"
      ]
     },
     "execution_count": 32,
     "metadata": {},
     "output_type": "execute_result"
    }
   ],
   "source": [
    "images = []\n",
    "captions = []\n",
    "\n",
    "if COLUMN.clusters.keys():\n",
    "    random_cluster_i = RNG.choice(list(COLUMN.clusters.keys()))\n",
    "    image_ids = COLUMN.cluster_to_image_ids[random_cluster_i]\n",
    "    df_i = df_train_images.loc[list(image_ids)]\n",
    "    image_datas = df_i['png']\n",
    "    images = [Image.open(io.BytesIO(image_data)) for image_data in image_datas]\n",
    "    captions = list(map(lambda p: f'clust={random_cluster_i}, #{p[0]}, val={p[1]}', zip(df_i.index, df_i['value'])))\n",
    "\n",
    "images = images[:32]\n",
    "captions = captions[:32]\n",
    "display_images_grid(images, captions=captions, col_count=8)"
   ]
  },
  {
   "cell_type": "code",
   "execution_count": 48,
   "id": "dedefb7f-24e7-43ca-91d6-eecc3fbaeb17",
   "metadata": {},
   "outputs": [
    {
     "data": {
      "application/vnd.jupyter.widget-view+json": {
       "model_id": "13ad6a37d8d24289973f006caaddfeb8",
       "version_major": 2,
       "version_minor": 0
      },
      "text/plain": [
       "  0%|          | 0/2000 [00:00<?, ?it/s]"
      ]
     },
     "metadata": {},
     "output_type": "display_data"
    }
   ],
   "source": [
    "# TEST RUN\n",
    "TEST_RUN_ID += 1\n",
    "count = 2000\n",
    "test_run_source = (df_test_images, test_db_con, 'test')\n",
    "# test_run_source = (df_train_images, train_db_con, 'train')\n",
    "test_image_ids = RNG.choice(test_run_source[0].index.unique(), count, replace=False)\n",
    "test_result_rows = defaultdict(list)\n",
    "\n",
    "for image_id in tqdm(test_image_ids):\n",
    "    max_cos_sim_index = -1 # aka cluster id\n",
    "    max_similar_cluster_image_value = ''\n",
    "    max_cos_sim = 0\n",
    "\n",
    "    image_value = test_run_source[0].loc[image_id]['value']\n",
    "    df_image_encodings = pd.read_sql('SELECT hdv FROM image_encodings WHERE image_id=:image_id', params={'image_id': int(image_id)}, con=test_run_source[1])\n",
    "    assert len(df_image_encodings) > 0\n",
    "    image_encoding_hdvs = list(map(lambda h: np.frombuffer(h, dtype='b'), df_image_encodings['hdv']))\n",
    "    image_encoding_hdvs_norm = hdc.normalize(image_encoding_hdvs)\n",
    "    image_encoding_hdvs_norm = xp_array_to_gpu(image_encoding_hdvs_norm)\n",
    "\n",
    "    cos_sim_matrix = COLUMN.cluster_norms.array @ image_encoding_hdvs_norm.T\n",
    "    cos_sim_matrix[cos_sim_matrix < COS_SIM_THRESHOLD] = 0\n",
    "    cos_sim_vector = xp_array_from_gpu(xp.sum(cos_sim_matrix, axis=1)) # how each mem recall (sum cos sim) is close to current image\n",
    "    \n",
    "    assert cos_sim_vector.shape == (COLUMN.cluster_norms.array.shape[0],)\n",
    "    cluster_ids_by_match_score = np.argsort(-cos_sim_vector) # sorted desc\n",
    "\n",
    "    if cluster_ids_by_match_score.shape[0] > 0:\n",
    "        cluster_id = cluster_ids_by_match_score[0]\n",
    "        cos_sim_value = cos_sim_vector[cluster_id]\n",
    "\n",
    "        # if cos_sim_value >= COS_SIM_THRESHOLD:\n",
    "        if cos_sim_value > 0:\n",
    "            cluster_image_ids = COLUMN.cluster_to_image_ids[cluster_id]\n",
    "            assert len(cluster_image_ids) > 0\n",
    "            cluster_image_id = next(iter(cluster_image_ids))\n",
    "            cluster_image_value = df_train_images.loc[cluster_image_id]['value']\n",
    "            max_cos_sim_index = cluster_id\n",
    "            max_similar_cluster_image_value = cluster_image_value\n",
    "            max_cos_sim = cos_sim_value\n",
    "\n",
    "    test_result_rows['config_variant'].append(config.section_name)\n",
    "    test_result_rows['cortical_columns'].append((-1))\n",
    "    test_result_rows['train_images_count'].append(COLUMN.images_seen)\n",
    "    test_result_rows['source_ds'].append(test_run_source[2])\n",
    "    test_result_rows['test_run_id'].append(TEST_RUN_ID)\n",
    "    test_result_rows['test_image_id'].append(image_id)\n",
    "    test_result_rows['true_value'].append(image_value)\n",
    "    test_result_rows['cluster_id'].append(max_cos_sim_index)\n",
    "    test_result_rows['infer_value'].append(max_similar_cluster_image_value)\n",
    "    test_result_rows['sim'].append(max_cos_sim)\n",
    "    \n",
    "\n",
    "assert set(test_result_rows.keys()) == set(DF_TEST_RESULTS.columns)\n",
    "df_test_results_for_run = pd.DataFrame(test_result_rows, columns=DF_TEST_RESULTS.columns)\n",
    "concat_list = [DF_TEST_RESULTS] if len(DF_TEST_RESULTS) > 0 else []\n",
    "concat_list.append(df_test_results_for_run)\n",
    "DF_TEST_RESULTS = pd.concat(concat_list, ignore_index=True)"
   ]
  },
  {
   "cell_type": "code",
   "execution_count": 49,
   "id": "9ded612b-96ae-4f3d-a964-d78dcfb19834",
   "metadata": {},
   "outputs": [
    {
     "data": {
      "image/png": "[encoded data removed]",
      "text/plain": [
       "<Figure size 1600x400 with 3 Axes>"
      ]
     },
     "metadata": {},
     "output_type": "display_data"
    },
    {
     "data": {
      "text/html": [
       "<div>\n",
       "<style scoped>\n",
       "    .dataframe tbody tr th:only-of-type {\n",
       "        vertical-align: middle;\n",
       "    }\n",
       "\n",
       "    .dataframe tbody tr th {\n",
       "        vertical-align: top;\n",
       "    }\n",
       "\n",
       "    .dataframe thead th {\n",
       "        text-align: right;\n",
       "    }\n",
       "</style>\n",
       "<table border=\"1\" class=\"dataframe\">\n",
       "  <thead>\n",
       "    <tr style=\"text-align: right;\">\n",
       "      <th></th>\n",
       "      <th>config_variant</th>\n",
       "      <th>source_ds</th>\n",
       "      <th>cortical_columns</th>\n",
       "      <th>train_images_count</th>\n",
       "      <th>count</th>\n",
       "      <th>infers</th>\n",
       "      <th>correct_infers</th>\n",
       "      <th>infer_ratio</th>\n",
       "      <th>accuracy_count</th>\n",
       "      <th>accuracy_infers</th>\n",
       "    </tr>\n",
       "    <tr>\n",
       "      <th>test_run_id</th>\n",
       "      <th></th>\n",
       "      <th></th>\n",
       "      <th></th>\n",
       "      <th></th>\n",
       "      <th></th>\n",
       "      <th></th>\n",
       "      <th></th>\n",
       "      <th></th>\n",
       "      <th></th>\n",
       "      <th></th>\n",
       "    </tr>\n",
       "  </thead>\n",
       "  <tbody>\n",
       "    <tr>\n",
       "      <th>1</th>\n",
       "      <td>None</td>\n",
       "      <td>test</td>\n",
       "      <td>None</td>\n",
       "      <td>None</td>\n",
       "      <td>2000</td>\n",
       "      <td>2000</td>\n",
       "      <td>1853</td>\n",
       "      <td>1.0</td>\n",
       "      <td>0.9265</td>\n",
       "      <td>0.9265</td>\n",
       "    </tr>\n",
       "    <tr>\n",
       "      <th>2</th>\n",
       "      <td>None</td>\n",
       "      <td>test</td>\n",
       "      <td>None</td>\n",
       "      <td>None</td>\n",
       "      <td>2000</td>\n",
       "      <td>2000</td>\n",
       "      <td>1864</td>\n",
       "      <td>1.0</td>\n",
       "      <td>0.9320</td>\n",
       "      <td>0.9320</td>\n",
       "    </tr>\n",
       "    <tr>\n",
       "      <th>3</th>\n",
       "      <td>None</td>\n",
       "      <td>test</td>\n",
       "      <td>None</td>\n",
       "      <td>None</td>\n",
       "      <td>2000</td>\n",
       "      <td>2000</td>\n",
       "      <td>1872</td>\n",
       "      <td>1.0</td>\n",
       "      <td>0.9360</td>\n",
       "      <td>0.9360</td>\n",
       "    </tr>\n",
       "    <tr>\n",
       "      <th>4</th>\n",
       "      <td>None</td>\n",
       "      <td>test</td>\n",
       "      <td>None</td>\n",
       "      <td>None</td>\n",
       "      <td>2000</td>\n",
       "      <td>2000</td>\n",
       "      <td>1871</td>\n",
       "      <td>1.0</td>\n",
       "      <td>0.9355</td>\n",
       "      <td>0.9355</td>\n",
       "    </tr>\n",
       "    <tr>\n",
       "      <th>12</th>\n",
       "      <td>SQLITE3_NORMAL_GRID_0_256</td>\n",
       "      <td>test</td>\n",
       "      <td>-1</td>\n",
       "      <td>-1</td>\n",
       "      <td>2000</td>\n",
       "      <td>2000</td>\n",
       "      <td>1871</td>\n",
       "      <td>1.0</td>\n",
       "      <td>0.9355</td>\n",
       "      <td>0.9355</td>\n",
       "    </tr>\n",
       "  </tbody>\n",
       "</table>\n",
       "</div>"
      ],
      "text/plain": [
       "                        config_variant source_ds cortical_columns  \\\n",
       "test_run_id                                                         \n",
       "1                                 None      test             None   \n",
       "2                                 None      test             None   \n",
       "3                                 None      test             None   \n",
       "4                                 None      test             None   \n",
       "12           SQLITE3_NORMAL_GRID_0_256      test               -1   \n",
       "\n",
       "            train_images_count  count  infers  correct_infers  infer_ratio  \\\n",
       "test_run_id                                                                  \n",
       "1                         None   2000    2000            1853          1.0   \n",
       "2                         None   2000    2000            1864          1.0   \n",
       "3                         None   2000    2000            1872          1.0   \n",
       "4                         None   2000    2000            1871          1.0   \n",
       "12                          -1   2000    2000            1871          1.0   \n",
       "\n",
       "             accuracy_count  accuracy_infers  \n",
       "test_run_id                                   \n",
       "1                    0.9265           0.9265  \n",
       "2                    0.9320           0.9320  \n",
       "3                    0.9360           0.9360  \n",
       "4                    0.9355           0.9355  \n",
       "12                   0.9355           0.9355  "
      ]
     },
     "execution_count": 49,
     "metadata": {},
     "output_type": "execute_result"
    }
   ],
   "source": [
    "df_test_results2 = DF_TEST_RESULTS.copy()\n",
    "df_test_results2['is_infer'] = df_test_results2['cluster_id'] > -1\n",
    "df_test_results2['is_correct_infer'] = df_test_results2['true_value'] == df_test_results2['infer_value']\n",
    "df_test_results2 = df_test_results2.groupby(by=['test_run_id']).agg({'config_variant': 'first', \n",
    "                                                                     'source_ds': 'first',\n",
    "                                                                     'cortical_columns': 'first',\n",
    "                                                                     'train_images_count': 'first',\n",
    "                                                                     'test_image_id': 'count', \n",
    "                                                                     'is_infer': 'sum', \n",
    "                                                                     'is_correct_infer': 'sum'})\n",
    "df_test_results2.rename(columns=dict(test_image_id='count', is_infer='infers', is_correct_infer='correct_infers'), inplace=True, errors='raise')\n",
    "df_test_results2['infer_ratio'] = df_test_results2['infers'] / df_test_results2['count']\n",
    "df_test_results2['accuracy_count'] = df_test_results2['correct_infers'] / df_test_results2['count']\n",
    "df_test_results2['accuracy_infers'] = df_test_results2['correct_infers'] / df_test_results2['infers']\n",
    "\n",
    "plt.figure(figsize=(16, 4))\n",
    "plt.subplot(1, 3, 1)\n",
    "b = plt.bar(list(map(str, df_test_results2.index)), list(df_test_results2['infer_ratio']))\n",
    "plt.bar_label(b, map(lambda p: f'{p*100:.0f}', df_test_results2['infer_ratio']), label_type='center')\n",
    "plt.ylim(0, 1)\n",
    "plt.title('Infers, %')\n",
    "plt.xlabel('Test run')\n",
    "plt.grid()\n",
    "\n",
    "plt.subplot(1, 3, 2)\n",
    "b = plt.bar(list(map(str, df_test_results2.index)), list(df_test_results2['accuracy_count']))\n",
    "plt.bar_label(b, map(lambda p: f'{p*100:.0f}', df_test_results2['accuracy_count']), label_type='center')\n",
    "plt.ylim(0, 1)\n",
    "plt.title('Accuracy (Count), %')\n",
    "plt.xlabel('Test run')\n",
    "plt.grid()\n",
    "\n",
    "plt.subplot(1, 3, 3)\n",
    "b = plt.bar(list(map(str, df_test_results2.index)), list(df_test_results2['accuracy_infers']))\n",
    "plt.bar_label(b, map(lambda p: f'{p*100:.0f}', df_test_results2['accuracy_infers']), label_type='center')\n",
    "plt.ylim(0, 1)\n",
    "plt.title('Accuracy (Infers), %')\n",
    "plt.xlabel('Test run')\n",
    "plt.grid()\n",
    "\n",
    "plt.show()\n",
    "df_test_results2"
   ]
  },
  {
   "cell_type": "code",
   "execution_count": null,
   "id": "a7f7fd04-f413-47bf-b601-3a9327b61c82",
   "metadata": {},
   "outputs": [],
   "source": [
    "df_test_results_incorrect_infers = df_test_results_for_run[df_test_results_for_run['true_value'] != df_test_results_for_run['infer_value']]\n",
    "incorrect_infer_row_index = RNG.choice(df_test_results_incorrect_infers.index.unique())\n",
    "test_run_id = df_test_results_incorrect_infers.loc[incorrect_infer_row_index]['test_run_id']\n",
    "incorrect_infer_image_id = df_test_results_incorrect_infers.loc[incorrect_infer_row_index]['test_image_id']\n",
    "image_data = test_run_source[0].loc[incorrect_infer_image_id]['png']\n",
    "image_value = test_run_source[0].loc[incorrect_infer_image_id]['value']\n",
    "\n",
    "df_x = pd.DataFrame(columns=['test_run_id', 'test_image_id', 'true_value', 'cluster_id', 'cluster_value', 'sim'])\n",
    "df_image_encodings = pd.read_sql('SELECT hdv FROM image_encodings WHERE image_id=:image_id', params={'image_id': int(incorrect_infer_image_id)}, con=test_run_source[1])\n",
    "assert len(df_image_encodings) > 0\n",
    "image_encoding_hdvs = list(map(lambda h: np.frombuffer(h, dtype='b'), df_image_encodings['hdv']))\n",
    "image_encoding_hdvs_norm = hdc.normalize(image_encoding_hdvs)\n",
    "image_encoding_hdvs_norm = xp_array_to_gpu(image_encoding_hdvs_norm)\n",
    "\n",
    "cos_sim_matrix = COLUMN.cluster_norms.array @ image_encoding_hdvs_norm.T\n",
    "cos_sim_matrix[cos_sim_matrix < COS_SIM_THRESHOLD] = 0\n",
    "cos_sim_vector = xp_array_from_gpu(xp.sum(cos_sim_matrix, axis=1)) # how each mem recall (sum cos sim) is close to current image\n",
    "\n",
    "assert cos_sim_vector.shape == (COLUMN.cluster_norms.array.shape[0],)\n",
    "cluster_ids_by_match_score = np.argsort(-cos_sim_vector) # sorted desc\n",
    "\n",
    "for pos, cluster_id in enumerate(cluster_ids_by_match_score):\n",
    "    cos_sim_value = cos_sim_vector[cluster_id]\n",
    "\n",
    "    if cos_sim_value <= 0:\n",
    "        break\n",
    "        \n",
    "    cluster_image_ids = COLUMN.cluster_to_image_ids[cluster_id]\n",
    "    assert len(cluster_image_ids) > 0\n",
    "    cluster_image_id = next(iter(cluster_image_ids))\n",
    "    cluster_image_value = df_train_images.loc[cluster_image_id]['value'] # exactly from train! (i.e. we look for prototype in train data)\n",
    "    df_x.loc[len(df_x)] = [test_run_id, incorrect_infer_image_id, image_value, cluster_id, cluster_image_value, cos_sim_value]\n",
    "\n",
    "df_x.sort_values(by='sim', ascending=False).head(10)"
   ]
  },
  {
   "cell_type": "code",
   "execution_count": null,
   "id": "5ff3a026-80df-4d27-af26-5939c7a1ae64",
   "metadata": {},
   "outputs": [],
   "source": [
    "image_data = test_run_source[0].loc[incorrect_infer_image_id]['png']\n",
    "image = Image.open(io.BytesIO(image_data))\n",
    "label = test_run_source[0].loc[incorrect_infer_image_id]['value']\n",
    "display_images([image], captions=[label])"
   ]
  },
  {
   "cell_type": "code",
   "execution_count": null,
   "id": "0c9b40bc-7e09-40a6-947b-090d0ef463a2",
   "metadata": {},
   "outputs": [],
   "source": [
    "df_x_pivot = pd.pivot_table(df_x, index='cluster_id', \n",
    "                            values=['true_value', 'cluster_value', 'sim'], \n",
    "                            aggfunc=dict(cluster_value='first', true_value='first', sim='sum'))\n",
    "df_x_pivot.sort_values(by='sim', ascending=False)"
   ]
  },
  {
   "cell_type": "code",
   "execution_count": null,
   "id": "4b970735-532f-4a82-adfa-2df3f534203b",
   "metadata": {},
   "outputs": [],
   "source": []
  },
  {
   "cell_type": "code",
   "execution_count": null,
   "id": "13076351-aaf9-4ef1-9e86-a77ee51ab0c0",
   "metadata": {},
   "outputs": [],
   "source": [
    "df_x_pivot = pd.pivot_table(df_x, index='cluster_id', \n",
    "                            values=['true_value', 'cluster_value', 'sim'], \n",
    "                            aggfunc=dict(cluster_value='first', true_value='first', sim='max'))\n",
    "df_x_pivot.sort_values(by='sim', ascending=False)"
   ]
  },
  {
   "cell_type": "code",
   "execution_count": null,
   "id": "741528e7-cb1b-4583-93eb-c9c8425c70be",
   "metadata": {},
   "outputs": [],
   "source": [
    "df_test_results_incorrect_infers.loc[incorrect_infer_row_index]['test_run_id']"
   ]
  },
  {
   "cell_type": "code",
   "execution_count": null,
   "id": "75cc7cda-ca51-48b0-8fd1-b21a9244fcb5",
   "metadata": {},
   "outputs": [],
   "source": [
    "incorrect_infer_row_index"
   ]
  },
  {
   "cell_type": "code",
   "execution_count": null,
   "id": "173a27b8-9f22-47c0-a23a-ca3669ac1222",
   "metadata": {},
   "outputs": [],
   "source": []
  }
 ],
 "metadata": {
  "kernelspec": {
   "display_name": "Python 3 (ipykernel)",
   "language": "python",
   "name": "python3"
  },
  "language_info": {
   "codemirror_mode": {
    "name": "ipython",
    "version": 3
   },
   "file_extension": ".py",
   "mimetype": "text/x-python",
   "name": "python",
   "nbconvert_exporter": "python",
   "pygments_lexer": "ipython3",
   "version": "3.12.2"
  }
 },
 "nbformat": 4,
 "nbformat_minor": 5
}
