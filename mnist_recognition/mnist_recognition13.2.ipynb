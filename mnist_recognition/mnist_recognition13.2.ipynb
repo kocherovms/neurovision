{
 "cells": [
  {
   "cell_type": "code",
   "execution_count": 4,
   "id": "27532844-1826-4299-b063-16a22e592f3f",
   "metadata": {},
   "outputs": [],
   "source": [
    "import os, math\n",
    "from collections import defaultdict\n",
    "import itertools\n",
    "import sqlite3\n",
    "\n",
    "import logging\n",
    "import logging.handlers\n",
    "\n",
    "from PIL import Image, ImageDraw\n",
    "from tqdm.notebook import tqdm\n",
    "\n",
    "from sklearn.model_selection import train_test_split\n",
    "import matplotlib.pyplot as plt\n",
    "import scipy\n",
    "import numpy as np\n",
    "import cupy as cp\n",
    "import pandas as pd\n",
    "\n",
    "from utils import *\n",
    "from hdc import *"
   ]
  },
  {
   "cell_type": "code",
   "execution_count": 5,
   "id": "73358262-adf2-4d17-a383-f120a5d1f8aa",
   "metadata": {},
   "outputs": [
    {
     "name": "stdout",
     "output_type": "stream",
     "text": [
      "xp = cupy\n"
     ]
    }
   ],
   "source": [
    "config = Config('SQLITE3_NORMAL_GRID_0_256')\n",
    "RNG = np.random.default_rng()\n",
    "\n",
    "if cp.cuda.is_available():\n",
    "    device_marker = cp.empty(1)\n",
    "    xp_array_from_gpu = lambda a: a.get() if isinstance(a, cp.ndarray) else a\n",
    "    xp_array_to_gpu = lambda a: cp.asarray(a) if isinstance(a, np.ndarray) else a\n",
    "else:\n",
    "    device_marker = np.empty(1)\n",
    "    xp_array_from_gpu = lambda a: a\n",
    "    xp_array_to_gpu = lambda a: a\n",
    "    \n",
    "xp = cp.get_array_module(device_marker)\n",
    "print(f'xp = {xp.__name__}')\n",
    "\n",
    "log = logging.getLogger('kmslog')\n",
    "log.setLevel(logging.DEBUG)\n",
    "\n",
    "if not log.hasHandlers():\n",
    "    log.addHandler(logging.handlers.SysLogHandler(address = '/dev/log', facility=logging.handlers.SysLogHandler.LOG_LOCAL0))\n",
    "\n",
    "def get_full_db_file_name(db_file_name):\n",
    "    return os.path.join(config.dataset_path, config.db_file_name_prefix + db_file_name)\n",
    "\n",
    "train_db_con = sqlite3.connect(get_full_db_file_name(config.train_db_file_name))\n",
    "test_db_con = sqlite3.connect(get_full_db_file_name(config.test_db_file_name))"
   ]
  },
  {
   "cell_type": "code",
   "execution_count": 6,
   "id": "d2dd62ab-b44e-4251-9e86-d41b3672e36e",
   "metadata": {},
   "outputs": [
    {
     "name": "stdout",
     "output_type": "stream",
     "text": [
      "CPU times: user 3 μs, sys: 1 μs, total: 4 μs\n",
      "Wall time: 7.39 μs\n"
     ]
    },
    {
     "data": {
      "text/plain": [
       "((10000, 3), (2000, 3))"
      ]
     },
     "execution_count": 6,
     "metadata": {},
     "output_type": "execute_result"
    }
   ],
   "source": [
    "%time\n",
    "df_train_images = pd.read_sql_query('SELECT * FROM images', con=train_db_con, index_col='image_id')\n",
    "df_test_images = pd.read_sql_query('SELECT * FROM images', con=test_db_con, index_col='image_id')\n",
    "df_train_images.shape, df_test_images.shape"
   ]
  },
  {
   "cell_type": "code",
   "execution_count": 7,
   "id": "75910c5d-054d-43c0-9a34-125ecde5a068",
   "metadata": {},
   "outputs": [
    {
     "data": {
      "text/html": [
       "<div>\n",
       "<style scoped>\n",
       "    .dataframe tbody tr th:only-of-type {\n",
       "        vertical-align: middle;\n",
       "    }\n",
       "\n",
       "    .dataframe tbody tr th {\n",
       "        vertical-align: top;\n",
       "    }\n",
       "\n",
       "    .dataframe thead th {\n",
       "        text-align: right;\n",
       "    }\n",
       "</style>\n",
       "<table border=\"1\" class=\"dataframe\">\n",
       "  <thead>\n",
       "    <tr style=\"text-align: right;\">\n",
       "      <th></th>\n",
       "      <th>index</th>\n",
       "      <th>value</th>\n",
       "      <th>png</th>\n",
       "    </tr>\n",
       "    <tr>\n",
       "      <th>image_id</th>\n",
       "      <th></th>\n",
       "      <th></th>\n",
       "      <th></th>\n",
       "    </tr>\n",
       "  </thead>\n",
       "  <tbody>\n",
       "    <tr>\n",
       "      <th>14189</th>\n",
       "      <td>0</td>\n",
       "      <td>8</td>\n",
       "      <td>b'\\x89PNG\\r\\n\\x1a\\n\\x00\\x00\\x00\\rIHDR\\x00\\x00\\...</td>\n",
       "    </tr>\n",
       "  </tbody>\n",
       "</table>\n",
       "</div>"
      ],
      "text/plain": [
       "          index value                                                png\n",
       "image_id                                                                \n",
       "14189         0     8  b'\\x89PNG\\r\\n\\x1a\\n\\x00\\x00\\x00\\rIHDR\\x00\\x00\\..."
      ]
     },
     "execution_count": 7,
     "metadata": {},
     "output_type": "execute_result"
    }
   ],
   "source": [
    "df_train_images.head(1)"
   ]
  },
  {
   "cell_type": "code",
   "execution_count": 8,
   "id": "b5a3b4ca-998d-4309-8499-d868b00ef9be",
   "metadata": {},
   "outputs": [],
   "source": [
    "def matrix_to_image(m):\n",
    "    m = m.ravel()\n",
    "    sz = int(np.sqrt(m.shape[0]))\n",
    "    assert sz * sz == m.shape[0]\n",
    "    return Image.frombytes('L', size=(sz, sz), data=m.astype('b'))"
   ]
  },
  {
   "cell_type": "code",
   "execution_count": 9,
   "id": "bc06ecb2-5ba8-4669-9dd9-17624127b081",
   "metadata": {},
   "outputs": [],
   "source": [
    "def lay_grid(image, step):\n",
    "    draw = ImageDraw.Draw(image)\n",
    "\n",
    "    for c in range(step - 1, image.height, step):\n",
    "        draw.line([0, c, image.width, c], fill=127)\n",
    "        draw.line([c, 0, c, image.height], fill=127)\n",
    "\n",
    "    return image"
   ]
  },
  {
   "cell_type": "code",
   "execution_count": 10,
   "id": "70b21219-4f16-4824-90ec-7bda1574c5d1",
   "metadata": {},
   "outputs": [
    {
     "data": {
      "text/html": [
       "<div style=\"\n",
       "        display: grid; \n",
       "        grid-template-columns: repeat(8, 128px);\n",
       "        column-gap: 1px;\n",
       "        row-gap: 1px;\">\n",
       "        \n",
       "            <figure style=\"margin: 5px !important;\">\n",
       "              <img src=\"data:image/png;base64,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\" style=\"height: auto\">\n",
       "              <figcaption style=\"font-size: 0.6em\">2</figcaption>\n",
       "            </figure>\n",
       "        \n",
       "            <figure style=\"margin: 5px !important;\">\n",
       "              <img src=\"data:image/png;base64,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\" style=\"height: auto\">\n",
       "              <figcaption style=\"font-size: 0.6em\">7</figcaption>\n",
       "            </figure>\n",
       "        \n",
       "            <figure style=\"margin: 5px !important;\">\n",
       "              <img src=\"data:image/png;base64,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\" style=\"height: auto\">\n",
       "              <figcaption style=\"font-size: 0.6em\">0</figcaption>\n",
       "            </figure>\n",
       "        \n",
       "            <figure style=\"margin: 5px !important;\">\n",
       "              <img src=\"data:image/png;base64,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\" style=\"height: auto\">\n",
       "              <figcaption style=\"font-size: 0.6em\">3</figcaption>\n",
       "            </figure>\n",
       "        \n",
       "            <figure style=\"margin: 5px !important;\">\n",
       "              <img src=\"data:image/png;base64,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\" style=\"height: auto\">\n",
       "              <figcaption style=\"font-size: 0.6em\">1</figcaption>\n",
       "            </figure>\n",
       "        \n",
       "            <figure style=\"margin: 5px !important;\">\n",
       "              <img src=\"data:image/png;base64,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\" style=\"height: auto\">\n",
       "              <figcaption style=\"font-size: 0.6em\">8</figcaption>\n",
       "            </figure>\n",
       "        \n",
       "            <figure style=\"margin: 5px !important;\">\n",
       "              <img src=\"data:image/png;base64,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\" style=\"height: auto\">\n",
       "              <figcaption style=\"font-size: 0.6em\">3</figcaption>\n",
       "            </figure>\n",
       "        \n",
       "            <figure style=\"margin: 5px !important;\">\n",
       "              <img src=\"data:image/png;base64,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\" style=\"height: auto\">\n",
       "              <figcaption style=\"font-size: 0.6em\">8</figcaption>\n",
       "            </figure>\n",
       "        \n",
       "            <figure style=\"margin: 5px !important;\">\n",
       "              <img src=\"data:image/png;base64,iVBORw0KGgoAAAANSUhEUgAAAIAAAACACAAAAADmVT4XAAAFv0lEQVR4nO2ay3LrNhKGuxs33iVLzkyqJllkMbPK+z9QPFV2HduSeCdAEsiC51TOFgBL3ujfg/j0o7vRAATw0EMPPfTQQw899NBDXyzc5yskVJpwsOsyz9osHkP5HtMDiuL53+eczNj39bW+MwACkKz+878/TjTWn5c31IO7KwAgkCx//e+fv7L+/e2V2ovP4D0AABlPD//6/TfWZczecq9v7uIAEucqywtguq1zxXwG0w4AQESMEQGIJEkkJ5/U2gMAiXFOzgIACc6YV2rvAUBMSsHRWUBinHkZsA+ATLIskYQAjHkasAcAMpVXZSYZAgCiZ3XdwwGelIdDrggAnHMOPMrQPg7wtKiqXJEDa611XvPv4gCTWZGnggA8J98LAIVKU8kJAJAI7x6EjphUSjJ0AEi+BLs4wGWipGf67QiATCZJIjn+CMJ7ZwETKivyVDKwi9HaLPcGIJEWVZUnDFYzDeM02zsDcJWVh6pMGCy679pBrz4WxAOgTPKyqjLFYBnbW91Nq8/weACV5UVZ5okgWIb6cmlGn540tiMiJvLD8VDmiQAA0368vn508x0BWJIdn8/HKpcE4Kbb218v3xrjEwPRANX5l+enMpUIAPr29vJyHbTPF2KXQBbHp6cqUwwBnGnfX19765WGsQAiyYosVYIAANapqxuvHIjPAmKci+9tIMPV+OVgPADCT9sfEVjf+eMdQEYI/3Rh3h1JrANMSCW3CIB1WbyqMABEByGKrKzKVKBz66p7z41oDwBZPJ2OhSK3mKm99fO9HSBVnp5PpUK3TM3npfMqgtsX4gBYWp3Ox0KinYf6/dL6A0Q5gKiy4nDIFQc7D/Xl2t8VAJFEmldVmXAEZ/rb5dYb7yAMXwJEEmlRlEUuCcDq9vpZ3zcGiMm8LIs85Qhgp/Z6vd11CZBEUlZlkSpAgFV3t2sz3LMOIE+K46FMFQKAW6auqZvBvw5ExIDMj+dzlTIAgNWMXVO3430BitPzqVL0HaBv2u6uACCK4+mpUAgAsJhx6Npe+52KAOJiQOVlkQl0CLCYaRgG7W9ATCEiLpUSjABgXYyZxtE/ByILETFGhABunWettX8ZjALYbiOIAMDNRhut/atQHAAS44wRAqx6HEc9+0dgHABxqaTkBKvu23aYAiIwCgCJK5Uowdw81J++Z9IdAIAJlaaJIGe668dHPXp35JEAuF0RC+ZMd/28NFNIDsQ5ILM8lRzdMnVNE9CLRAI4pvIykwxgnY0xYTkQA2ApKQ6ZQHAu4HZuBwDHkvKQcQSwzjm/M/lPCt8LmEzzIiEEsOsyL6sNcyAMABExTZNkeyBb9TAMAaeyGADO5bHMvh9Kl7G5XFodVgfCAJhI8/Mx45vrc395Dy5EYQAk86fnY8ocAICb+9vH5zCHleJAB1R+fP7hgJ3Htm68rsZ+UlgaMlUeT1sOAthVT2Po/KEAaXU+H3MJG8Aym9D5wwFOp0Mmto54WdewAIwASMrjU7UtgTNmXkPrYHAQyqysioQDOGv6Uc/hDgSmoUiLPFMc10X31zp0Kw4HQKHSNFEc7NRe3z+78BgMjAFiUiklGK5T8/F+7cL60QgAZFxKwRnYua/rNrAfjQAAZIwxBgB2Mdos4SEQ6sAmwJAH+z0AHLjtXhqRvF+L9wAA57Y/CmwH1C8A+EfbWnwhQKyCAbbfHdqM7wAA4BxEZkAEgIP4qaMAwFrrftSDLwFARCQAIiL8kjT8HnyMRdahQAC7LmbeupDYf8WG9QNW902dKcbXdVmCj4URAHP7rSILmM56GkcdeCyMANCXv+yggbt16ttuMP7vldEAS1fPIiPXNk3dT4G3I+EApu6bnh8ODK7XS93dH8DaWcPhl6PDy9vHtZ0iWrLgGxLbfbyIK7bfvl3rgJeaeABY6hf9f5yaZhhjAMLrCCVpKmE1ZlmWJbwSRBQyBMBtR9xlW3zooYceeuir9De/SqZRHxYnewAAAABJRU5ErkJggg==\" style=\"height: auto\">\n",
       "              <figcaption style=\"font-size: 0.6em\">1</figcaption>\n",
       "            </figure>\n",
       "        \n",
       "            <figure style=\"margin: 5px !important;\">\n",
       "              <img src=\"data:image/png;base64,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\" style=\"height: auto\">\n",
       "              <figcaption style=\"font-size: 0.6em\">8</figcaption>\n",
       "            </figure>\n",
       "        \n",
       "            <figure style=\"margin: 5px !important;\">\n",
       "              <img src=\"data:image/png;base64,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\" style=\"height: auto\">\n",
       "              <figcaption style=\"font-size: 0.6em\">6</figcaption>\n",
       "            </figure>\n",
       "        \n",
       "            <figure style=\"margin: 5px !important;\">\n",
       "              <img src=\"data:image/png;base64,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\" style=\"height: auto\">\n",
       "              <figcaption style=\"font-size: 0.6em\">2</figcaption>\n",
       "            </figure>\n",
       "        \n",
       "            <figure style=\"margin: 5px !important;\">\n",
       "              <img src=\"data:image/png;base64,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\" style=\"height: auto\">\n",
       "              <figcaption style=\"font-size: 0.6em\">3</figcaption>\n",
       "            </figure>\n",
       "        \n",
       "            <figure style=\"margin: 5px !important;\">\n",
       "              <img src=\"data:image/png;base64,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\" style=\"height: auto\">\n",
       "              <figcaption style=\"font-size: 0.6em\">9</figcaption>\n",
       "            </figure>\n",
       "        \n",
       "            <figure style=\"margin: 5px !important;\">\n",
       "              <img src=\"data:image/png;base64,iVBORw0KGgoAAAANSUhEUgAAAIAAAACACAAAAADmVT4XAAAFk0lEQVR4nO2aS2/jNhCAZ/gWZW+apEAve2sP/f//qMAW21diW5YlvtmD7NhJLyWlag/1APbBAMXPw+E8BXCXu9zlLne5y13+74K16xApoxQBIOWYUko555oHsbrtAZncPHzSnOTo7TCM1rqwIgAg5ZsfPn9+bmlyY/f612vXn1JaDwAJlZsffvr58wNLY//n1y+NJNGFNQGYbJ8+//jjI49D96QpYrTGrghAuWy3D8/fbwG0ghgSBjOMqcIO6wAIk1prrRQAMP2dj0j80A02YjFBpQa4bLTiBAAAaPNEGDH7ly6ktTSAVCgpKEx2Lwlnaf/bRtmYoBShFoAxzighAACUco7j47ZVQ4BY+ihSB4CEUkrI2Y+i0JvNRjeSk2LPWgcAAICA+LYdl02jteJ0LYCcc8o33p9woRqlBC1+Uh1AzimllHICAMgAgJQJITld6whyit57H+JFBUgppbRi/1qA4Mw4Guuv8QcRsSa41wMM42hszJCnXXPOVRlBHUCK3tp3KUCqzUlqb0FKMaZU4XoXAkBCbz3RZAJYk9/VARDKhJRCsOvydY0QmZBKSsEpwhSBL055LQDChBCCXzUw3YH1jJAQyhil1/1jjDHG1QAQCSGE4NvqFIIPIVQQ1EZDRIJ4vQTRO+dciOWZee01xOlzlhycs9b5sJ4Gbi9+huStMcb4Cg1UVkbvJGU/jsPpNNiKrHQRgGBOx647HG34JhrIyZvh1B+PfaioTBbRQPTOWWtsTWiqT0rfPwYRb6/lv5clNECo0O1mu934UB6gFwBAypv83ePT87E3vtgIFtGAoPTh8fFxn1IsPoRFAICSRret7mm5SS1khOecdLX+wIfNITvnrLXu23jCDBCtGcfRfCNPCDlH76y11ldoYBkbeKvQypcuoQEEwqRSSomKYLCABhCRSt1uNm0jVusPfEAgUuu21TUAyxwBEi6EELzCES0BAJCntLymVlzGESVvxmEYjY/fxhHlaE993/eDKwdYwghzTq5aAws5olRtA8tcQ6Scc85Z+S1cBACRyqbRTSMrCJbxhEQ0bbupckQLaUCoRjfNiq3afzAwxt81LNYGACSEUkLK+1T1/YG3phgCAGQghFbsv1xSSijnax7BxxwYqdStlquF43/k4ERtn/vx1BX/odpglPPlaxKqn4bg+teVAPI0sZgAMgIA088JzEuzFkCKwQcfrzMyoh5y2H9Sa01MorfTwOJyCoSrdtsqthZAsP3h0A/mSjAN8sodQd0RpGCA7w79qIGd/0POdROLSgCfPO4Ox5MmSM/7xxhieUJUa4QxAjl23bHlV4K3a7ECAACAG/vuoDm9ziqrGgT1ANmf9i9KcHGz+6oAGIb9S9Po9o0IagBmDK/DeHjdHc2bM0KomVvNCMdx7A/dyZ2bIkgIZYyx0mZlPUAOpu/68QyAlHEhVdOIwgHyHAA79P3oL76YSdXotlWFOphRG0Y3DoMJFw2gUE272ZwK50YzNJCCNfZSDSJhXCqtW8VJ0TNnGGGOIdyOqaiQqrw2mJeU5tv+GOFSKSVFWWY6BwDxXfglXAipFGdFzmAGwDS9vNmMMyGFWPUI3gMRxhgvdUWzAD6Mach5nrsaACKh5PbS4Qer+K8BAADwUhqev9fsEZ2bg9fUfOoUFaZFsxyRN8NgbMznCjmlGHwIZYnhDFcc3XDYd71xl18wBWdN4eu9M1KyaCG1r4feXF5hy9GZYbBlzcI5ADnY9vV198Q30y9mHE7DaHzR3GZGOE4JXLf7649Ncg0nkIeXl/3xNBZ2S2f2isfd10/+z63iCDDuvnx56UvfIZgJ4Ha/hN+3U3/Q9S+/fj2Wju5mAoRd3mvJKSJAcEPX9bawX1z7ev9lOaPs0pybHFNNeXaXu9zlLne5y13+3/I3Cl8O/Ir0Q4MAAAAASUVORK5CYII=\" style=\"height: auto\">\n",
       "              <figcaption style=\"font-size: 0.6em\">1</figcaption>\n",
       "            </figure>\n",
       "        \n",
       "            <figure style=\"margin: 5px !important;\">\n",
       "              <img src=\"data:image/png;base64,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\" style=\"height: auto\">\n",
       "              <figcaption style=\"font-size: 0.6em\">6</figcaption>\n",
       "            </figure>\n",
       "        \n",
       "    </div>"
      ],
      "text/plain": [
       "<IPython.core.display.HTML object>"
      ]
     },
     "execution_count": 10,
     "metadata": {},
     "output_type": "execute_result"
    }
   ],
   "source": [
    "count = 8\n",
    "\n",
    "def get_some_random_images_and_labels(df, count):\n",
    "    image_ids = RNG.choice(df.index.unique(), count, replace=False)\n",
    "    image_datas = df.loc[image_ids]['png']\n",
    "    images = [Image.open(io.BytesIO(image_data)) for image_data in image_datas]\n",
    "    labels = df.loc[image_ids]['value']\n",
    "    return images, list(labels)\n",
    "\n",
    "train_images, train_labels = get_some_random_images_and_labels(df_train_images, count)\n",
    "test_images, test_labels = get_some_random_images_and_labels(df_test_images, count)\n",
    "\n",
    "display_images_grid(train_images + test_images, captions=train_labels + test_labels, col_count=count)"
   ]
  },
  {
   "cell_type": "code",
   "execution_count": null,
   "id": "5f694172-e3aa-4127-b775-cc4c4bc35b33",
   "metadata": {},
   "outputs": [],
   "source": [
    "DF_TEST_RESULTS = pd.DataFrame(columns=['test_run_id', 'config_variant', 'cortical_columns', 'train_images_count', \n",
    "                                        'source_ds', 'test_image_id', 'true_value', 'infer_value', 'sim'])\n",
    "TRAIN_RUN_ID = 0\n",
    "TEST_RUN_ID = 0"
   ]
  },
  {
   "cell_type": "code",
   "execution_count": 11,
   "id": "e5019d63-ce09-4130-ac07-b6ae15a84ab4",
   "metadata": {},
   "outputs": [],
   "source": [
    "# COS_SIM_THRESHOLD = 0.075\n",
    "COS_SIM_THRESHOLD = 0.055\n",
    "hdc = Hdc(10_000, np)"
   ]
  },
  {
   "cell_type": "code",
   "execution_count": 12,
   "id": "317bc435-b1be-4e25-8f4f-b9e3d35f522b",
   "metadata": {},
   "outputs": [],
   "source": [
    "class CorticalColumn(object):\n",
    "    def __init__(self):\n",
    "        self.clusters = defaultdict(list) # cluster = collection of image bundles for particular class\n",
    "        self.cluster_norms = HdvArray(hdc.N, xp)\n",
    "        self.cluster_to_image_ids = defaultdict(set)\n",
    "        self.images_seen = 0"
   ]
  },
  {
   "cell_type": "code",
   "execution_count": 13,
   "id": "1e8dc096-5076-4657-b22c-a489c2be1694",
   "metadata": {},
   "outputs": [],
   "source": [
    "COLUMN = CorticalColumn()"
   ]
  },
  {
   "cell_type": "code",
   "execution_count": 50,
   "id": "bc72b601-6398-4d84-9ce3-97e1a9a92bfa",
   "metadata": {},
   "outputs": [
    {
     "data": {
      "application/vnd.jupyter.widget-view+json": {
       "model_id": "acd7a64f1a8d4645ab7d76a62cf883d5",
       "version_major": 2,
       "version_minor": 0
      },
      "text/plain": [
       "Epoch:   0%|          | 0/10 [00:00<?, ?it/s]"
      ]
     },
     "metadata": {},
     "output_type": "display_data"
    },
    {
     "data": {
      "application/vnd.jupyter.widget-view+json": {
       "model_id": "",
       "version_major": 2,
       "version_minor": 0
      },
      "text/plain": [
       "Attempt:   0%|          | 0/20 [00:00<?, ?it/s]"
      ]
     },
     "metadata": {},
     "output_type": "display_data"
    },
    {
     "data": {
      "application/vnd.jupyter.widget-view+json": {
       "model_id": "",
       "version_major": 2,
       "version_minor": 0
      },
      "text/plain": [
       "Image (train):   0%|          | 0/1000 [00:00<?, ?it/s]"
      ]
     },
     "metadata": {},
     "output_type": "display_data"
    },
    {
     "data": {
      "application/vnd.jupyter.widget-view+json": {
       "model_id": "",
       "version_major": 2,
       "version_minor": 0
      },
      "text/plain": [
       "Image (test):   0%|          | 0/1000 [00:00<?, ?it/s]"
      ]
     },
     "metadata": {},
     "output_type": "display_data"
    },
    {
     "data": {
      "application/vnd.jupyter.widget-view+json": {
       "model_id": "",
       "version_major": 2,
       "version_minor": 0
      },
      "text/plain": [
       "Image (train):   0%|          | 0/23 [00:00<?, ?it/s]"
      ]
     },
     "metadata": {},
     "output_type": "display_data"
    },
    {
     "data": {
      "application/vnd.jupyter.widget-view+json": {
       "model_id": "",
       "version_major": 2,
       "version_minor": 0
      },
      "text/plain": [
       "Image (test):   0%|          | 0/23 [00:00<?, ?it/s]"
      ]
     },
     "metadata": {},
     "output_type": "display_data"
    },
    {
     "data": {
      "application/vnd.jupyter.widget-view+json": {
       "model_id": "",
       "version_major": 2,
       "version_minor": 0
      },
      "text/plain": [
       "Image (train):   0%|          | 0/18 [00:00<?, ?it/s]"
      ]
     },
     "metadata": {},
     "output_type": "display_data"
    },
    {
     "data": {
      "application/vnd.jupyter.widget-view+json": {
       "model_id": "",
       "version_major": 2,
       "version_minor": 0
      },
      "text/plain": [
       "Image (test):   0%|          | 0/18 [00:00<?, ?it/s]"
      ]
     },
     "metadata": {},
     "output_type": "display_data"
    },
    {
     "data": {
      "application/vnd.jupyter.widget-view+json": {
       "model_id": "",
       "version_major": 2,
       "version_minor": 0
      },
      "text/plain": [
       "Image (train):   0%|          | 0/17 [00:00<?, ?it/s]"
      ]
     },
     "metadata": {},
     "output_type": "display_data"
    },
    {
     "data": {
      "application/vnd.jupyter.widget-view+json": {
       "model_id": "",
       "version_major": 2,
       "version_minor": 0
      },
      "text/plain": [
       "Image (test):   0%|          | 0/17 [00:00<?, ?it/s]"
      ]
     },
     "metadata": {},
     "output_type": "display_data"
    },
    {
     "data": {
      "application/vnd.jupyter.widget-view+json": {
       "model_id": "",
       "version_major": 2,
       "version_minor": 0
      },
      "text/plain": [
       "Image (train):   0%|          | 0/14 [00:00<?, ?it/s]"
      ]
     },
     "metadata": {},
     "output_type": "display_data"
    },
    {
     "data": {
      "application/vnd.jupyter.widget-view+json": {
       "model_id": "",
       "version_major": 2,
       "version_minor": 0
      },
      "text/plain": [
       "Image (test):   0%|          | 0/14 [00:00<?, ?it/s]"
      ]
     },
     "metadata": {},
     "output_type": "display_data"
    },
    {
     "data": {
      "application/vnd.jupyter.widget-view+json": {
       "model_id": "",
       "version_major": 2,
       "version_minor": 0
      },
      "text/plain": [
       "Image (train):   0%|          | 0/12 [00:00<?, ?it/s]"
      ]
     },
     "metadata": {},
     "output_type": "display_data"
    },
    {
     "data": {
      "application/vnd.jupyter.widget-view+json": {
       "model_id": "",
       "version_major": 2,
       "version_minor": 0
      },
      "text/plain": [
       "Image (test):   0%|          | 0/12 [00:00<?, ?it/s]"
      ]
     },
     "metadata": {},
     "output_type": "display_data"
    },
    {
     "data": {
      "application/vnd.jupyter.widget-view+json": {
       "model_id": "",
       "version_major": 2,
       "version_minor": 0
      },
      "text/plain": [
       "Image (train):   0%|          | 0/10 [00:00<?, ?it/s]"
      ]
     },
     "metadata": {},
     "output_type": "display_data"
    },
    {
     "data": {
      "application/vnd.jupyter.widget-view+json": {
       "model_id": "",
       "version_major": 2,
       "version_minor": 0
      },
      "text/plain": [
       "Image (test):   0%|          | 0/10 [00:00<?, ?it/s]"
      ]
     },
     "metadata": {},
     "output_type": "display_data"
    },
    {
     "data": {
      "application/vnd.jupyter.widget-view+json": {
       "model_id": "",
       "version_major": 2,
       "version_minor": 0
      },
      "text/plain": [
       "Image (train):   0%|          | 0/10 [00:00<?, ?it/s]"
      ]
     },
     "metadata": {},
     "output_type": "display_data"
    },
    {
     "data": {
      "application/vnd.jupyter.widget-view+json": {
       "model_id": "",
       "version_major": 2,
       "version_minor": 0
      },
      "text/plain": [
       "Image (test):   0%|          | 0/10 [00:00<?, ?it/s]"
      ]
     },
     "metadata": {},
     "output_type": "display_data"
    },
    {
     "data": {
      "application/vnd.jupyter.widget-view+json": {
       "model_id": "",
       "version_major": 2,
       "version_minor": 0
      },
      "text/plain": [
       "Image (train):   0%|          | 0/10 [00:00<?, ?it/s]"
      ]
     },
     "metadata": {},
     "output_type": "display_data"
    },
    {
     "data": {
      "application/vnd.jupyter.widget-view+json": {
       "model_id": "",
       "version_major": 2,
       "version_minor": 0
      },
      "text/plain": [
       "Image (test):   0%|          | 0/10 [00:00<?, ?it/s]"
      ]
     },
     "metadata": {},
     "output_type": "display_data"
    },
    {
     "data": {
      "application/vnd.jupyter.widget-view+json": {
       "model_id": "",
       "version_major": 2,
       "version_minor": 0
      },
      "text/plain": [
       "Image (train):   0%|          | 0/8 [00:00<?, ?it/s]"
      ]
     },
     "metadata": {},
     "output_type": "display_data"
    },
    {
     "data": {
      "application/vnd.jupyter.widget-view+json": {
       "model_id": "",
       "version_major": 2,
       "version_minor": 0
      },
      "text/plain": [
       "Image (test):   0%|          | 0/8 [00:00<?, ?it/s]"
      ]
     },
     "metadata": {},
     "output_type": "display_data"
    },
    {
     "data": {
      "application/vnd.jupyter.widget-view+json": {
       "model_id": "",
       "version_major": 2,
       "version_minor": 0
      },
      "text/plain": [
       "Image (train):   0%|          | 0/8 [00:00<?, ?it/s]"
      ]
     },
     "metadata": {},
     "output_type": "display_data"
    },
    {
     "data": {
      "application/vnd.jupyter.widget-view+json": {
       "model_id": "",
       "version_major": 2,
       "version_minor": 0
      },
      "text/plain": [
       "Image (test):   0%|          | 0/8 [00:00<?, ?it/s]"
      ]
     },
     "metadata": {},
     "output_type": "display_data"
    },
    {
     "data": {
      "application/vnd.jupyter.widget-view+json": {
       "model_id": "",
       "version_major": 2,
       "version_minor": 0
      },
      "text/plain": [
       "Image (train):   0%|          | 0/8 [00:00<?, ?it/s]"
      ]
     },
     "metadata": {},
     "output_type": "display_data"
    },
    {
     "data": {
      "application/vnd.jupyter.widget-view+json": {
       "model_id": "",
       "version_major": 2,
       "version_minor": 0
      },
      "text/plain": [
       "Image (test):   0%|          | 0/8 [00:00<?, ?it/s]"
      ]
     },
     "metadata": {},
     "output_type": "display_data"
    },
    {
     "data": {
      "application/vnd.jupyter.widget-view+json": {
       "model_id": "",
       "version_major": 2,
       "version_minor": 0
      },
      "text/plain": [
       "Image (train):   0%|          | 0/6 [00:00<?, ?it/s]"
      ]
     },
     "metadata": {},
     "output_type": "display_data"
    },
    {
     "data": {
      "application/vnd.jupyter.widget-view+json": {
       "model_id": "",
       "version_major": 2,
       "version_minor": 0
      },
      "text/plain": [
       "Image (test):   0%|          | 0/6 [00:00<?, ?it/s]"
      ]
     },
     "metadata": {},
     "output_type": "display_data"
    },
    {
     "data": {
      "application/vnd.jupyter.widget-view+json": {
       "model_id": "",
       "version_major": 2,
       "version_minor": 0
      },
      "text/plain": [
       "Image (train):   0%|          | 0/6 [00:00<?, ?it/s]"
      ]
     },
     "metadata": {},
     "output_type": "display_data"
    },
    {
     "data": {
      "application/vnd.jupyter.widget-view+json": {
       "model_id": "",
       "version_major": 2,
       "version_minor": 0
      },
      "text/plain": [
       "Image (test):   0%|          | 0/6 [00:00<?, ?it/s]"
      ]
     },
     "metadata": {},
     "output_type": "display_data"
    },
    {
     "data": {
      "application/vnd.jupyter.widget-view+json": {
       "model_id": "",
       "version_major": 2,
       "version_minor": 0
      },
      "text/plain": [
       "Image (train):   0%|          | 0/6 [00:00<?, ?it/s]"
      ]
     },
     "metadata": {},
     "output_type": "display_data"
    },
    {
     "data": {
      "application/vnd.jupyter.widget-view+json": {
       "model_id": "",
       "version_major": 2,
       "version_minor": 0
      },
      "text/plain": [
       "Image (test):   0%|          | 0/6 [00:00<?, ?it/s]"
      ]
     },
     "metadata": {},
     "output_type": "display_data"
    },
    {
     "data": {
      "application/vnd.jupyter.widget-view+json": {
       "model_id": "",
       "version_major": 2,
       "version_minor": 0
      },
      "text/plain": [
       "Image (train):   0%|          | 0/4 [00:00<?, ?it/s]"
      ]
     },
     "metadata": {},
     "output_type": "display_data"
    },
    {
     "data": {
      "application/vnd.jupyter.widget-view+json": {
       "model_id": "",
       "version_major": 2,
       "version_minor": 0
      },
      "text/plain": [
       "Image (test):   0%|          | 0/4 [00:00<?, ?it/s]"
      ]
     },
     "metadata": {},
     "output_type": "display_data"
    },
    {
     "data": {
      "application/vnd.jupyter.widget-view+json": {
       "model_id": "",
       "version_major": 2,
       "version_minor": 0
      },
      "text/plain": [
       "Image (train):   0%|          | 0/4 [00:00<?, ?it/s]"
      ]
     },
     "metadata": {},
     "output_type": "display_data"
    },
    {
     "data": {
      "application/vnd.jupyter.widget-view+json": {
       "model_id": "",
       "version_major": 2,
       "version_minor": 0
      },
      "text/plain": [
       "Image (test):   0%|          | 0/4 [00:00<?, ?it/s]"
      ]
     },
     "metadata": {},
     "output_type": "display_data"
    },
    {
     "data": {
      "application/vnd.jupyter.widget-view+json": {
       "model_id": "",
       "version_major": 2,
       "version_minor": 0
      },
      "text/plain": [
       "Image (train):   0%|          | 0/4 [00:00<?, ?it/s]"
      ]
     },
     "metadata": {},
     "output_type": "display_data"
    },
    {
     "data": {
      "application/vnd.jupyter.widget-view+json": {
       "model_id": "",
       "version_major": 2,
       "version_minor": 0
      },
      "text/plain": [
       "Image (test):   0%|          | 0/4 [00:00<?, ?it/s]"
      ]
     },
     "metadata": {},
     "output_type": "display_data"
    },
    {
     "data": {
      "application/vnd.jupyter.widget-view+json": {
       "model_id": "",
       "version_major": 2,
       "version_minor": 0
      },
      "text/plain": [
       "Image (train):   0%|          | 0/4 [00:00<?, ?it/s]"
      ]
     },
     "metadata": {},
     "output_type": "display_data"
    },
    {
     "data": {
      "application/vnd.jupyter.widget-view+json": {
       "model_id": "",
       "version_major": 2,
       "version_minor": 0
      },
      "text/plain": [
       "Image (test):   0%|          | 0/4 [00:00<?, ?it/s]"
      ]
     },
     "metadata": {},
     "output_type": "display_data"
    },
    {
     "data": {
      "application/vnd.jupyter.widget-view+json": {
       "model_id": "",
       "version_major": 2,
       "version_minor": 0
      },
      "text/plain": [
       "Image (train):   0%|          | 0/4 [00:00<?, ?it/s]"
      ]
     },
     "metadata": {},
     "output_type": "display_data"
    },
    {
     "data": {
      "application/vnd.jupyter.widget-view+json": {
       "model_id": "",
       "version_major": 2,
       "version_minor": 0
      },
      "text/plain": [
       "Image (test):   0%|          | 0/4 [00:00<?, ?it/s]"
      ]
     },
     "metadata": {},
     "output_type": "display_data"
    },
    {
     "data": {
      "application/vnd.jupyter.widget-view+json": {
       "model_id": "",
       "version_major": 2,
       "version_minor": 0
      },
      "text/plain": [
       "Attempt:   0%|          | 0/20 [00:00<?, ?it/s]"
      ]
     },
     "metadata": {},
     "output_type": "display_data"
    },
    {
     "data": {
      "application/vnd.jupyter.widget-view+json": {
       "model_id": "",
       "version_major": 2,
       "version_minor": 0
      },
      "text/plain": [
       "Image (train):   0%|          | 0/1000 [00:00<?, ?it/s]"
      ]
     },
     "metadata": {},
     "output_type": "display_data"
    },
    {
     "data": {
      "application/vnd.jupyter.widget-view+json": {
       "model_id": "",
       "version_major": 2,
       "version_minor": 0
      },
      "text/plain": [
       "Image (test):   0%|          | 0/1000 [00:00<?, ?it/s]"
      ]
     },
     "metadata": {},
     "output_type": "display_data"
    },
    {
     "data": {
      "application/vnd.jupyter.widget-view+json": {
       "model_id": "",
       "version_major": 2,
       "version_minor": 0
      },
      "text/plain": [
       "Image (train):   0%|          | 0/32 [00:00<?, ?it/s]"
      ]
     },
     "metadata": {},
     "output_type": "display_data"
    },
    {
     "data": {
      "application/vnd.jupyter.widget-view+json": {
       "model_id": "",
       "version_major": 2,
       "version_minor": 0
      },
      "text/plain": [
       "Image (test):   0%|          | 0/32 [00:00<?, ?it/s]"
      ]
     },
     "metadata": {},
     "output_type": "display_data"
    },
    {
     "data": {
      "application/vnd.jupyter.widget-view+json": {
       "model_id": "",
       "version_major": 2,
       "version_minor": 0
      },
      "text/plain": [
       "Image (train):   0%|          | 0/26 [00:00<?, ?it/s]"
      ]
     },
     "metadata": {},
     "output_type": "display_data"
    },
    {
     "data": {
      "application/vnd.jupyter.widget-view+json": {
       "model_id": "",
       "version_major": 2,
       "version_minor": 0
      },
      "text/plain": [
       "Image (test):   0%|          | 0/26 [00:00<?, ?it/s]"
      ]
     },
     "metadata": {},
     "output_type": "display_data"
    },
    {
     "data": {
      "application/vnd.jupyter.widget-view+json": {
       "model_id": "",
       "version_major": 2,
       "version_minor": 0
      },
      "text/plain": [
       "Image (train):   0%|          | 0/24 [00:00<?, ?it/s]"
      ]
     },
     "metadata": {},
     "output_type": "display_data"
    },
    {
     "data": {
      "application/vnd.jupyter.widget-view+json": {
       "model_id": "45be6f7b9b784e0db6e3175f5def1e69",
       "version_major": 2,
       "version_minor": 0
      },
      "text/plain": [
       "Image (test):   0%|          | 0/24 [00:00<?, ?it/s]"
      ]
     },
     "metadata": {},
     "output_type": "display_data"
    },
    {
     "data": {
      "application/vnd.jupyter.widget-view+json": {
       "model_id": "a5942f2bd60b47eaa53d6a604ce3b8e9",
       "version_major": 2,
       "version_minor": 0
      },
      "text/plain": [
       "Image (train):   0%|          | 0/23 [00:00<?, ?it/s]"
      ]
     },
     "metadata": {},
     "output_type": "display_data"
    },
    {
     "data": {
      "application/vnd.jupyter.widget-view+json": {
       "model_id": "bdbb6f8a7c6345d29d263a6669aacfe8",
       "version_major": 2,
       "version_minor": 0
      },
      "text/plain": [
       "Image (test):   0%|          | 0/23 [00:00<?, ?it/s]"
      ]
     },
     "metadata": {},
     "output_type": "display_data"
    },
    {
     "data": {
      "application/vnd.jupyter.widget-view+json": {
       "model_id": "b621dadfad2146f3ad00a3b74e4fc169",
       "version_major": 2,
       "version_minor": 0
      },
      "text/plain": [
       "Image (train):   0%|          | 0/18 [00:00<?, ?it/s]"
      ]
     },
     "metadata": {},
     "output_type": "display_data"
    },
    {
     "data": {
      "application/vnd.jupyter.widget-view+json": {
       "model_id": "1fa4e479cf044a308beffaa2e065f9d2",
       "version_major": 2,
       "version_minor": 0
      },
      "text/plain": [
       "Image (test):   0%|          | 0/18 [00:00<?, ?it/s]"
      ]
     },
     "metadata": {},
     "output_type": "display_data"
    },
    {
     "data": {
      "application/vnd.jupyter.widget-view+json": {
       "model_id": "adff8f2872a94d68b6d91b420b0a04f4",
       "version_major": 2,
       "version_minor": 0
      },
      "text/plain": [
       "Image (train):   0%|          | 0/16 [00:00<?, ?it/s]"
      ]
     },
     "metadata": {},
     "output_type": "display_data"
    },
    {
     "data": {
      "application/vnd.jupyter.widget-view+json": {
       "model_id": "12d95e09b6bd45288d6f5e75f9dd752d",
       "version_major": 2,
       "version_minor": 0
      },
      "text/plain": [
       "Image (test):   0%|          | 0/16 [00:00<?, ?it/s]"
      ]
     },
     "metadata": {},
     "output_type": "display_data"
    },
    {
     "data": {
      "application/vnd.jupyter.widget-view+json": {
       "model_id": "f07fc0ccb4ff4a01b2cc96b222b276bd",
       "version_major": 2,
       "version_minor": 0
      },
      "text/plain": [
       "Image (train):   0%|          | 0/16 [00:00<?, ?it/s]"
      ]
     },
     "metadata": {},
     "output_type": "display_data"
    },
    {
     "data": {
      "application/vnd.jupyter.widget-view+json": {
       "model_id": "2c788316861d40d39bdb8d60be4d75d3",
       "version_major": 2,
       "version_minor": 0
      },
      "text/plain": [
       "Image (test):   0%|          | 0/16 [00:00<?, ?it/s]"
      ]
     },
     "metadata": {},
     "output_type": "display_data"
    },
    {
     "data": {
      "application/vnd.jupyter.widget-view+json": {
       "model_id": "3a0633c97648435ba25eaa9b1da7b28a",
       "version_major": 2,
       "version_minor": 0
      },
      "text/plain": [
       "Image (train):   0%|          | 0/14 [00:00<?, ?it/s]"
      ]
     },
     "metadata": {},
     "output_type": "display_data"
    },
    {
     "data": {
      "application/vnd.jupyter.widget-view+json": {
       "model_id": "0778360be2384bc197bf8afca8561ce1",
       "version_major": 2,
       "version_minor": 0
      },
      "text/plain": [
       "Image (test):   0%|          | 0/14 [00:00<?, ?it/s]"
      ]
     },
     "metadata": {},
     "output_type": "display_data"
    },
    {
     "data": {
      "application/vnd.jupyter.widget-view+json": {
       "model_id": "e974512db5a54814a3c94b8e45698ceb",
       "version_major": 2,
       "version_minor": 0
      },
      "text/plain": [
       "Image (train):   0%|          | 0/11 [00:00<?, ?it/s]"
      ]
     },
     "metadata": {},
     "output_type": "display_data"
    },
    {
     "data": {
      "application/vnd.jupyter.widget-view+json": {
       "model_id": "372bd473c33b48fcbe51840990ebce43",
       "version_major": 2,
       "version_minor": 0
      },
      "text/plain": [
       "Image (test):   0%|          | 0/11 [00:00<?, ?it/s]"
      ]
     },
     "metadata": {},
     "output_type": "display_data"
    },
    {
     "data": {
      "application/vnd.jupyter.widget-view+json": {
       "model_id": "ede2a22c45c642e384c48ba263ed9669",
       "version_major": 2,
       "version_minor": 0
      },
      "text/plain": [
       "Image (train):   0%|          | 0/11 [00:00<?, ?it/s]"
      ]
     },
     "metadata": {},
     "output_type": "display_data"
    },
    {
     "data": {
      "application/vnd.jupyter.widget-view+json": {
       "model_id": "e5b6cd77636e4db3a36181ed9adfe701",
       "version_major": 2,
       "version_minor": 0
      },
      "text/plain": [
       "Image (test):   0%|          | 0/11 [00:00<?, ?it/s]"
      ]
     },
     "metadata": {},
     "output_type": "display_data"
    },
    {
     "data": {
      "application/vnd.jupyter.widget-view+json": {
       "model_id": "89f611575b004bab87b2ac801a1cd07c",
       "version_major": 2,
       "version_minor": 0
      },
      "text/plain": [
       "Image (train):   0%|          | 0/10 [00:00<?, ?it/s]"
      ]
     },
     "metadata": {},
     "output_type": "display_data"
    },
    {
     "data": {
      "application/vnd.jupyter.widget-view+json": {
       "model_id": "11b2dc15f95a4161b5b73944fbc1714b",
       "version_major": 2,
       "version_minor": 0
      },
      "text/plain": [
       "Image (test):   0%|          | 0/10 [00:00<?, ?it/s]"
      ]
     },
     "metadata": {},
     "output_type": "display_data"
    },
    {
     "data": {
      "application/vnd.jupyter.widget-view+json": {
       "model_id": "949350a79df54df7a3d15ebf62b2061d",
       "version_major": 2,
       "version_minor": 0
      },
      "text/plain": [
       "Image (train):   0%|          | 0/9 [00:00<?, ?it/s]"
      ]
     },
     "metadata": {},
     "output_type": "display_data"
    },
    {
     "data": {
      "application/vnd.jupyter.widget-view+json": {
       "model_id": "b8d54cbdedc0438d8d7cc7865fe3b737",
       "version_major": 2,
       "version_minor": 0
      },
      "text/plain": [
       "Image (test):   0%|          | 0/9 [00:00<?, ?it/s]"
      ]
     },
     "metadata": {},
     "output_type": "display_data"
    },
    {
     "data": {
      "application/vnd.jupyter.widget-view+json": {
       "model_id": "9a13a69ccdc343f0bff403e31b90843c",
       "version_major": 2,
       "version_minor": 0
      },
      "text/plain": [
       "Image (train):   0%|          | 0/8 [00:00<?, ?it/s]"
      ]
     },
     "metadata": {},
     "output_type": "display_data"
    },
    {
     "data": {
      "application/vnd.jupyter.widget-view+json": {
       "model_id": "36e2395a91314d9ea67fb8b81f682051",
       "version_major": 2,
       "version_minor": 0
      },
      "text/plain": [
       "Image (test):   0%|          | 0/8 [00:00<?, ?it/s]"
      ]
     },
     "metadata": {},
     "output_type": "display_data"
    },
    {
     "data": {
      "application/vnd.jupyter.widget-view+json": {
       "model_id": "ba38f12874954592bee374dc08a61dc1",
       "version_major": 2,
       "version_minor": 0
      },
      "text/plain": [
       "Image (train):   0%|          | 0/7 [00:00<?, ?it/s]"
      ]
     },
     "metadata": {},
     "output_type": "display_data"
    },
    {
     "data": {
      "application/vnd.jupyter.widget-view+json": {
       "model_id": "50728b0940c143de90fb73274ffdde0a",
       "version_major": 2,
       "version_minor": 0
      },
      "text/plain": [
       "Image (test):   0%|          | 0/7 [00:00<?, ?it/s]"
      ]
     },
     "metadata": {},
     "output_type": "display_data"
    },
    {
     "data": {
      "application/vnd.jupyter.widget-view+json": {
       "model_id": "b2a992813f2a4b16a94a36aa8e617b55",
       "version_major": 2,
       "version_minor": 0
      },
      "text/plain": [
       "Image (train):   0%|          | 0/7 [00:00<?, ?it/s]"
      ]
     },
     "metadata": {},
     "output_type": "display_data"
    },
    {
     "data": {
      "application/vnd.jupyter.widget-view+json": {
       "model_id": "119f81665a084d24a60e7f7ead506c2f",
       "version_major": 2,
       "version_minor": 0
      },
      "text/plain": [
       "Image (test):   0%|          | 0/7 [00:00<?, ?it/s]"
      ]
     },
     "metadata": {},
     "output_type": "display_data"
    },
    {
     "data": {
      "application/vnd.jupyter.widget-view+json": {
       "model_id": "d2756367d3ef4ac68a0170a9b69990e4",
       "version_major": 2,
       "version_minor": 0
      },
      "text/plain": [
       "Image (train):   0%|          | 0/7 [00:00<?, ?it/s]"
      ]
     },
     "metadata": {},
     "output_type": "display_data"
    },
    {
     "data": {
      "application/vnd.jupyter.widget-view+json": {
       "model_id": "a0c994c17b544bae891e388016369348",
       "version_major": 2,
       "version_minor": 0
      },
      "text/plain": [
       "Image (test):   0%|          | 0/7 [00:00<?, ?it/s]"
      ]
     },
     "metadata": {},
     "output_type": "display_data"
    },
    {
     "data": {
      "application/vnd.jupyter.widget-view+json": {
       "model_id": "442049f4be6e48b2baaec111f954e790",
       "version_major": 2,
       "version_minor": 0
      },
      "text/plain": [
       "Image (train):   0%|          | 0/6 [00:00<?, ?it/s]"
      ]
     },
     "metadata": {},
     "output_type": "display_data"
    },
    {
     "data": {
      "application/vnd.jupyter.widget-view+json": {
       "model_id": "fccbe6b02be148e68f456c4ac8a3f656",
       "version_major": 2,
       "version_minor": 0
      },
      "text/plain": [
       "Image (test):   0%|          | 0/6 [00:00<?, ?it/s]"
      ]
     },
     "metadata": {},
     "output_type": "display_data"
    },
    {
     "data": {
      "application/vnd.jupyter.widget-view+json": {
       "model_id": "8daa1591acb9449cba214a97d523bdfa",
       "version_major": 2,
       "version_minor": 0
      },
      "text/plain": [
       "Image (train):   0%|          | 0/6 [00:00<?, ?it/s]"
      ]
     },
     "metadata": {},
     "output_type": "display_data"
    },
    {
     "data": {
      "application/vnd.jupyter.widget-view+json": {
       "model_id": "d014567a515e4148a6a9ad745f7989b4",
       "version_major": 2,
       "version_minor": 0
      },
      "text/plain": [
       "Image (test):   0%|          | 0/6 [00:00<?, ?it/s]"
      ]
     },
     "metadata": {},
     "output_type": "display_data"
    },
    {
     "data": {
      "application/vnd.jupyter.widget-view+json": {
       "model_id": "ed607725fd604145912dafd64d7f344d",
       "version_major": 2,
       "version_minor": 0
      },
      "text/plain": [
       "Image (train):   0%|          | 0/6 [00:00<?, ?it/s]"
      ]
     },
     "metadata": {},
     "output_type": "display_data"
    },
    {
     "data": {
      "application/vnd.jupyter.widget-view+json": {
       "model_id": "40a2d93563b4422f9fa401a6aef499a3",
       "version_major": 2,
       "version_minor": 0
      },
      "text/plain": [
       "Image (test):   0%|          | 0/6 [00:00<?, ?it/s]"
      ]
     },
     "metadata": {},
     "output_type": "display_data"
    },
    {
     "data": {
      "application/vnd.jupyter.widget-view+json": {
       "model_id": "2954bad752434c038403411c1b510e63",
       "version_major": 2,
       "version_minor": 0
      },
      "text/plain": [
       "Attempt:   0%|          | 0/20 [00:00<?, ?it/s]"
      ]
     },
     "metadata": {},
     "output_type": "display_data"
    },
    {
     "data": {
      "application/vnd.jupyter.widget-view+json": {
       "model_id": "1a3611deb96141189388443ebbeb0586",
       "version_major": 2,
       "version_minor": 0
      },
      "text/plain": [
       "Image (train):   0%|          | 0/1000 [00:00<?, ?it/s]"
      ]
     },
     "metadata": {},
     "output_type": "display_data"
    },
    {
     "data": {
      "application/vnd.jupyter.widget-view+json": {
       "model_id": "6c5abcea0ecf4fd191006fbdee1a2e91",
       "version_major": 2,
       "version_minor": 0
      },
      "text/plain": [
       "Image (test):   0%|          | 0/1000 [00:00<?, ?it/s]"
      ]
     },
     "metadata": {},
     "output_type": "display_data"
    },
    {
     "data": {
      "application/vnd.jupyter.widget-view+json": {
       "model_id": "0f6151d738f6482fa95e19c0a7012dfa",
       "version_major": 2,
       "version_minor": 0
      },
      "text/plain": [
       "Image (train):   0%|          | 0/27 [00:00<?, ?it/s]"
      ]
     },
     "metadata": {},
     "output_type": "display_data"
    },
    {
     "data": {
      "application/vnd.jupyter.widget-view+json": {
       "model_id": "924f76361b414e96b2125b4c7a3d4421",
       "version_major": 2,
       "version_minor": 0
      },
      "text/plain": [
       "Image (test):   0%|          | 0/27 [00:00<?, ?it/s]"
      ]
     },
     "metadata": {},
     "output_type": "display_data"
    },
    {
     "data": {
      "application/vnd.jupyter.widget-view+json": {
       "model_id": "e66c7c7f52964d99b760a4f915a17f8c",
       "version_major": 2,
       "version_minor": 0
      },
      "text/plain": [
       "Image (train):   0%|          | 0/20 [00:00<?, ?it/s]"
      ]
     },
     "metadata": {},
     "output_type": "display_data"
    },
    {
     "data": {
      "application/vnd.jupyter.widget-view+json": {
       "model_id": "1a0fc4f87e234eeeaf835555527a2369",
       "version_major": 2,
       "version_minor": 0
      },
      "text/plain": [
       "Image (test):   0%|          | 0/20 [00:00<?, ?it/s]"
      ]
     },
     "metadata": {},
     "output_type": "display_data"
    },
    {
     "data": {
      "application/vnd.jupyter.widget-view+json": {
       "model_id": "c05e359da8574e3d8fcaa8426a59b525",
       "version_major": 2,
       "version_minor": 0
      },
      "text/plain": [
       "Image (train):   0%|          | 0/15 [00:00<?, ?it/s]"
      ]
     },
     "metadata": {},
     "output_type": "display_data"
    },
    {
     "data": {
      "application/vnd.jupyter.widget-view+json": {
       "model_id": "505699d8c4d449cbb01f2543569469aa",
       "version_major": 2,
       "version_minor": 0
      },
      "text/plain": [
       "Image (test):   0%|          | 0/15 [00:00<?, ?it/s]"
      ]
     },
     "metadata": {},
     "output_type": "display_data"
    },
    {
     "data": {
      "application/vnd.jupyter.widget-view+json": {
       "model_id": "eb8cde5baf954d3c92af9f9254a4dde8",
       "version_major": 2,
       "version_minor": 0
      },
      "text/plain": [
       "Image (train):   0%|          | 0/11 [00:00<?, ?it/s]"
      ]
     },
     "metadata": {},
     "output_type": "display_data"
    },
    {
     "data": {
      "application/vnd.jupyter.widget-view+json": {
       "model_id": "a1429795bdcb408590f299b6a9df9c75",
       "version_major": 2,
       "version_minor": 0
      },
      "text/plain": [
       "Image (test):   0%|          | 0/11 [00:00<?, ?it/s]"
      ]
     },
     "metadata": {},
     "output_type": "display_data"
    },
    {
     "data": {
      "application/vnd.jupyter.widget-view+json": {
       "model_id": "a50962fa975642ca8065bddb3cfa39ec",
       "version_major": 2,
       "version_minor": 0
      },
      "text/plain": [
       "Image (train):   0%|          | 0/8 [00:00<?, ?it/s]"
      ]
     },
     "metadata": {},
     "output_type": "display_data"
    },
    {
     "data": {
      "application/vnd.jupyter.widget-view+json": {
       "model_id": "db6da1f3bde048319c274c8f069f0d48",
       "version_major": 2,
       "version_minor": 0
      },
      "text/plain": [
       "Image (test):   0%|          | 0/8 [00:00<?, ?it/s]"
      ]
     },
     "metadata": {},
     "output_type": "display_data"
    },
    {
     "data": {
      "application/vnd.jupyter.widget-view+json": {
       "model_id": "0f787bdfea6f4f77b16c6c602c1afa7d",
       "version_major": 2,
       "version_minor": 0
      },
      "text/plain": [
       "Image (train):   0%|          | 0/7 [00:00<?, ?it/s]"
      ]
     },
     "metadata": {},
     "output_type": "display_data"
    },
    {
     "data": {
      "application/vnd.jupyter.widget-view+json": {
       "model_id": "aa2966b35b4c4547b44c58ecaf25b074",
       "version_major": 2,
       "version_minor": 0
      },
      "text/plain": [
       "Image (test):   0%|          | 0/7 [00:00<?, ?it/s]"
      ]
     },
     "metadata": {},
     "output_type": "display_data"
    },
    {
     "data": {
      "application/vnd.jupyter.widget-view+json": {
       "model_id": "de84506b099a4fc590e54db98d524e5b",
       "version_major": 2,
       "version_minor": 0
      },
      "text/plain": [
       "Image (train):   0%|          | 0/3 [00:00<?, ?it/s]"
      ]
     },
     "metadata": {},
     "output_type": "display_data"
    },
    {
     "data": {
      "application/vnd.jupyter.widget-view+json": {
       "model_id": "6367985a5c724db8a7b5cb3cec42b1c2",
       "version_major": 2,
       "version_minor": 0
      },
      "text/plain": [
       "Image (test):   0%|          | 0/3 [00:00<?, ?it/s]"
      ]
     },
     "metadata": {},
     "output_type": "display_data"
    },
    {
     "data": {
      "application/vnd.jupyter.widget-view+json": {
       "model_id": "91acc37ebcf14c71b315af815c038f34",
       "version_major": 2,
       "version_minor": 0
      },
      "text/plain": [
       "Image (train):   0%|          | 0/3 [00:00<?, ?it/s]"
      ]
     },
     "metadata": {},
     "output_type": "display_data"
    },
    {
     "data": {
      "application/vnd.jupyter.widget-view+json": {
       "model_id": "a5267ebee6534f1a99c0ed4d708273ff",
       "version_major": 2,
       "version_minor": 0
      },
      "text/plain": [
       "Image (test):   0%|          | 0/3 [00:00<?, ?it/s]"
      ]
     },
     "metadata": {},
     "output_type": "display_data"
    },
    {
     "data": {
      "application/vnd.jupyter.widget-view+json": {
       "model_id": "c05a1c1ba1b54fd89ca92ecf8b6bdd1c",
       "version_major": 2,
       "version_minor": 0
      },
      "text/plain": [
       "Image (train):   0%|          | 0/3 [00:00<?, ?it/s]"
      ]
     },
     "metadata": {},
     "output_type": "display_data"
    },
    {
     "data": {
      "application/vnd.jupyter.widget-view+json": {
       "model_id": "a12e66badde542328b0baddab2a697ee",
       "version_major": 2,
       "version_minor": 0
      },
      "text/plain": [
       "Image (test):   0%|          | 0/3 [00:00<?, ?it/s]"
      ]
     },
     "metadata": {},
     "output_type": "display_data"
    },
    {
     "data": {
      "application/vnd.jupyter.widget-view+json": {
       "model_id": "df53e57838654eb5b33498d7eb9d23aa",
       "version_major": 2,
       "version_minor": 0
      },
      "text/plain": [
       "Image (train):   0%|          | 0/3 [00:00<?, ?it/s]"
      ]
     },
     "metadata": {},
     "output_type": "display_data"
    },
    {
     "data": {
      "application/vnd.jupyter.widget-view+json": {
       "model_id": "b1a358ad027845c39a5102e689bd224d",
       "version_major": 2,
       "version_minor": 0
      },
      "text/plain": [
       "Image (test):   0%|          | 0/3 [00:00<?, ?it/s]"
      ]
     },
     "metadata": {},
     "output_type": "display_data"
    },
    {
     "data": {
      "application/vnd.jupyter.widget-view+json": {
       "model_id": "58c6680969724c9b833d8690872708ca",
       "version_major": 2,
       "version_minor": 0
      },
      "text/plain": [
       "Image (train):   0%|          | 0/3 [00:00<?, ?it/s]"
      ]
     },
     "metadata": {},
     "output_type": "display_data"
    },
    {
     "data": {
      "application/vnd.jupyter.widget-view+json": {
       "model_id": "da8c071a36584aa9ba50014bb6b01dc7",
       "version_major": 2,
       "version_minor": 0
      },
      "text/plain": [
       "Image (test):   0%|          | 0/3 [00:00<?, ?it/s]"
      ]
     },
     "metadata": {},
     "output_type": "display_data"
    },
    {
     "data": {
      "application/vnd.jupyter.widget-view+json": {
       "model_id": "91116fb6cf994b9a8681fb9e2593829a",
       "version_major": 2,
       "version_minor": 0
      },
      "text/plain": [
       "Image (train):   0%|          | 0/3 [00:00<?, ?it/s]"
      ]
     },
     "metadata": {},
     "output_type": "display_data"
    },
    {
     "data": {
      "application/vnd.jupyter.widget-view+json": {
       "model_id": "1354bee6094b4580aaa384736588524a",
       "version_major": 2,
       "version_minor": 0
      },
      "text/plain": [
       "Image (test):   0%|          | 0/3 [00:00<?, ?it/s]"
      ]
     },
     "metadata": {},
     "output_type": "display_data"
    },
    {
     "data": {
      "application/vnd.jupyter.widget-view+json": {
       "model_id": "f6967eb4f20e45b3bc94d606cc065fbf",
       "version_major": 2,
       "version_minor": 0
      },
      "text/plain": [
       "Image (train):   0%|          | 0/3 [00:00<?, ?it/s]"
      ]
     },
     "metadata": {},
     "output_type": "display_data"
    },
    {
     "data": {
      "application/vnd.jupyter.widget-view+json": {
       "model_id": "6759cbf107a74fc482f0def69f35faad",
       "version_major": 2,
       "version_minor": 0
      },
      "text/plain": [
       "Image (test):   0%|          | 0/3 [00:00<?, ?it/s]"
      ]
     },
     "metadata": {},
     "output_type": "display_data"
    },
    {
     "data": {
      "application/vnd.jupyter.widget-view+json": {
       "model_id": "9cfcc84486a9493d833ba50ca52f0d7c",
       "version_major": 2,
       "version_minor": 0
      },
      "text/plain": [
       "Image (train):   0%|          | 0/2 [00:00<?, ?it/s]"
      ]
     },
     "metadata": {},
     "output_type": "display_data"
    },
    {
     "data": {
      "application/vnd.jupyter.widget-view+json": {
       "model_id": "baa8b4e0ecfe45dca9df5c0b7737f22c",
       "version_major": 2,
       "version_minor": 0
      },
      "text/plain": [
       "Image (test):   0%|          | 0/2 [00:00<?, ?it/s]"
      ]
     },
     "metadata": {},
     "output_type": "display_data"
    },
    {
     "data": {
      "application/vnd.jupyter.widget-view+json": {
       "model_id": "6b611d0195844fba8559d58c38f5d4c2",
       "version_major": 2,
       "version_minor": 0
      },
      "text/plain": [
       "Image (train):   0%|          | 0/1 [00:00<?, ?it/s]"
      ]
     },
     "metadata": {},
     "output_type": "display_data"
    },
    {
     "data": {
      "application/vnd.jupyter.widget-view+json": {
       "model_id": "3536d3ae0f6b4362a1d2c3fd0ac28ac3",
       "version_major": 2,
       "version_minor": 0
      },
      "text/plain": [
       "Image (test):   0%|          | 0/1 [00:00<?, ?it/s]"
      ]
     },
     "metadata": {},
     "output_type": "display_data"
    },
    {
     "data": {
      "application/vnd.jupyter.widget-view+json": {
       "model_id": "615771617d01460586afb39b30b72d37",
       "version_major": 2,
       "version_minor": 0
      },
      "text/plain": [
       "Image (train):   0%|          | 0/1 [00:00<?, ?it/s]"
      ]
     },
     "metadata": {},
     "output_type": "display_data"
    },
    {
     "data": {
      "application/vnd.jupyter.widget-view+json": {
       "model_id": "b339cedb699f4d0f80626844f3f4b5ec",
       "version_major": 2,
       "version_minor": 0
      },
      "text/plain": [
       "Image (test):   0%|          | 0/1 [00:00<?, ?it/s]"
      ]
     },
     "metadata": {},
     "output_type": "display_data"
    },
    {
     "data": {
      "application/vnd.jupyter.widget-view+json": {
       "model_id": "cf6d53d4db1e428090e4eaf508ab2187",
       "version_major": 2,
       "version_minor": 0
      },
      "text/plain": [
       "Image (train):   0%|          | 0/1 [00:00<?, ?it/s]"
      ]
     },
     "metadata": {},
     "output_type": "display_data"
    },
    {
     "data": {
      "application/vnd.jupyter.widget-view+json": {
       "model_id": "a9b0863f08ee441f816e053d707bf3f6",
       "version_major": 2,
       "version_minor": 0
      },
      "text/plain": [
       "Image (test):   0%|          | 0/1 [00:00<?, ?it/s]"
      ]
     },
     "metadata": {},
     "output_type": "display_data"
    },
    {
     "data": {
      "application/vnd.jupyter.widget-view+json": {
       "model_id": "2415c95688bf4ed591428bea1abb03d0",
       "version_major": 2,
       "version_minor": 0
      },
      "text/plain": [
       "Image (train):   0%|          | 0/1 [00:00<?, ?it/s]"
      ]
     },
     "metadata": {},
     "output_type": "display_data"
    },
    {
     "data": {
      "application/vnd.jupyter.widget-view+json": {
       "model_id": "2846a0fee17b4b66a4ac67a87639656c",
       "version_major": 2,
       "version_minor": 0
      },
      "text/plain": [
       "Image (test):   0%|          | 0/1 [00:00<?, ?it/s]"
      ]
     },
     "metadata": {},
     "output_type": "display_data"
    },
    {
     "data": {
      "application/vnd.jupyter.widget-view+json": {
       "model_id": "033537734aa144428e5fed50c4aae9c6",
       "version_major": 2,
       "version_minor": 0
      },
      "text/plain": [
       "Image (train):   0%|          | 0/1 [00:00<?, ?it/s]"
      ]
     },
     "metadata": {},
     "output_type": "display_data"
    },
    {
     "data": {
      "application/vnd.jupyter.widget-view+json": {
       "model_id": "90ad4d2ac5c74e3084c4583068da9389",
       "version_major": 2,
       "version_minor": 0
      },
      "text/plain": [
       "Image (test):   0%|          | 0/1 [00:00<?, ?it/s]"
      ]
     },
     "metadata": {},
     "output_type": "display_data"
    },
    {
     "data": {
      "application/vnd.jupyter.widget-view+json": {
       "model_id": "1f0ad5601f22417a80124c0bbef8d315",
       "version_major": 2,
       "version_minor": 0
      },
      "text/plain": [
       "Attempt:   0%|          | 0/20 [00:00<?, ?it/s]"
      ]
     },
     "metadata": {},
     "output_type": "display_data"
    },
    {
     "data": {
      "application/vnd.jupyter.widget-view+json": {
       "model_id": "1751e24f87394f88bd1f64175c30b839",
       "version_major": 2,
       "version_minor": 0
      },
      "text/plain": [
       "Image (train):   0%|          | 0/1000 [00:00<?, ?it/s]"
      ]
     },
     "metadata": {},
     "output_type": "display_data"
    },
    {
     "data": {
      "application/vnd.jupyter.widget-view+json": {
       "model_id": "367bd0bf91584a05978549a80f497fb7",
       "version_major": 2,
       "version_minor": 0
      },
      "text/plain": [
       "Image (test):   0%|          | 0/1000 [00:00<?, ?it/s]"
      ]
     },
     "metadata": {},
     "output_type": "display_data"
    },
    {
     "data": {
      "application/vnd.jupyter.widget-view+json": {
       "model_id": "3f619451c368487e80c7c14cf4e67ac2",
       "version_major": 2,
       "version_minor": 0
      },
      "text/plain": [
       "Image (train):   0%|          | 0/23 [00:00<?, ?it/s]"
      ]
     },
     "metadata": {},
     "output_type": "display_data"
    },
    {
     "data": {
      "application/vnd.jupyter.widget-view+json": {
       "model_id": "697978c84c5f40cf964055b234f0fdf6",
       "version_major": 2,
       "version_minor": 0
      },
      "text/plain": [
       "Image (test):   0%|          | 0/23 [00:00<?, ?it/s]"
      ]
     },
     "metadata": {},
     "output_type": "display_data"
    },
    {
     "data": {
      "application/vnd.jupyter.widget-view+json": {
       "model_id": "bff478e1a162435b94bd500f65322c6e",
       "version_major": 2,
       "version_minor": 0
      },
      "text/plain": [
       "Image (train):   0%|          | 0/19 [00:00<?, ?it/s]"
      ]
     },
     "metadata": {},
     "output_type": "display_data"
    },
    {
     "data": {
      "application/vnd.jupyter.widget-view+json": {
       "model_id": "c84e66d780d54a46a7e131c86627350c",
       "version_major": 2,
       "version_minor": 0
      },
      "text/plain": [
       "Image (test):   0%|          | 0/19 [00:00<?, ?it/s]"
      ]
     },
     "metadata": {},
     "output_type": "display_data"
    },
    {
     "data": {
      "application/vnd.jupyter.widget-view+json": {
       "model_id": "71321cb8caaf47daa45aeb8268a5492d",
       "version_major": 2,
       "version_minor": 0
      },
      "text/plain": [
       "Image (train):   0%|          | 0/17 [00:00<?, ?it/s]"
      ]
     },
     "metadata": {},
     "output_type": "display_data"
    },
    {
     "data": {
      "application/vnd.jupyter.widget-view+json": {
       "model_id": "749d9466f9084ead8adb513a815e612e",
       "version_major": 2,
       "version_minor": 0
      },
      "text/plain": [
       "Image (test):   0%|          | 0/17 [00:00<?, ?it/s]"
      ]
     },
     "metadata": {},
     "output_type": "display_data"
    },
    {
     "data": {
      "application/vnd.jupyter.widget-view+json": {
       "model_id": "ad60f4d60dd94d0991883906e57e1af0",
       "version_major": 2,
       "version_minor": 0
      },
      "text/plain": [
       "Image (train):   0%|          | 0/15 [00:00<?, ?it/s]"
      ]
     },
     "metadata": {},
     "output_type": "display_data"
    },
    {
     "data": {
      "application/vnd.jupyter.widget-view+json": {
       "model_id": "00b3f4b7449648309183d9461531d84d",
       "version_major": 2,
       "version_minor": 0
      },
      "text/plain": [
       "Image (test):   0%|          | 0/15 [00:00<?, ?it/s]"
      ]
     },
     "metadata": {},
     "output_type": "display_data"
    },
    {
     "data": {
      "application/vnd.jupyter.widget-view+json": {
       "model_id": "b473f23c4e294ce99aeef594c1873bb4",
       "version_major": 2,
       "version_minor": 0
      },
      "text/plain": [
       "Image (train):   0%|          | 0/12 [00:00<?, ?it/s]"
      ]
     },
     "metadata": {},
     "output_type": "display_data"
    },
    {
     "data": {
      "application/vnd.jupyter.widget-view+json": {
       "model_id": "2c71ca8a381c429db9a8dd23be2c2891",
       "version_major": 2,
       "version_minor": 0
      },
      "text/plain": [
       "Image (test):   0%|          | 0/12 [00:00<?, ?it/s]"
      ]
     },
     "metadata": {},
     "output_type": "display_data"
    },
    {
     "data": {
      "application/vnd.jupyter.widget-view+json": {
       "model_id": "010566ed290940a0ae4e60a2c45fb2e3",
       "version_major": 2,
       "version_minor": 0
      },
      "text/plain": [
       "Image (train):   0%|          | 0/10 [00:00<?, ?it/s]"
      ]
     },
     "metadata": {},
     "output_type": "display_data"
    },
    {
     "data": {
      "application/vnd.jupyter.widget-view+json": {
       "model_id": "33b5abfaca0144058145991897f0e2c1",
       "version_major": 2,
       "version_minor": 0
      },
      "text/plain": [
       "Image (test):   0%|          | 0/10 [00:00<?, ?it/s]"
      ]
     },
     "metadata": {},
     "output_type": "display_data"
    },
    {
     "data": {
      "application/vnd.jupyter.widget-view+json": {
       "model_id": "d4eea3f2e7f64c3484bde426b4c4577e",
       "version_major": 2,
       "version_minor": 0
      },
      "text/plain": [
       "Image (train):   0%|          | 0/8 [00:00<?, ?it/s]"
      ]
     },
     "metadata": {},
     "output_type": "display_data"
    },
    {
     "data": {
      "application/vnd.jupyter.widget-view+json": {
       "model_id": "bb26c500bd2141d49f9192ad18290a5c",
       "version_major": 2,
       "version_minor": 0
      },
      "text/plain": [
       "Image (test):   0%|          | 0/8 [00:00<?, ?it/s]"
      ]
     },
     "metadata": {},
     "output_type": "display_data"
    },
    {
     "data": {
      "application/vnd.jupyter.widget-view+json": {
       "model_id": "9501a3d1ecbe430790830e965408b24d",
       "version_major": 2,
       "version_minor": 0
      },
      "text/plain": [
       "Image (train):   0%|          | 0/8 [00:00<?, ?it/s]"
      ]
     },
     "metadata": {},
     "output_type": "display_data"
    },
    {
     "data": {
      "application/vnd.jupyter.widget-view+json": {
       "model_id": "d990255adf1d479aa47636b67fc100fc",
       "version_major": 2,
       "version_minor": 0
      },
      "text/plain": [
       "Image (test):   0%|          | 0/8 [00:00<?, ?it/s]"
      ]
     },
     "metadata": {},
     "output_type": "display_data"
    },
    {
     "data": {
      "application/vnd.jupyter.widget-view+json": {
       "model_id": "6b01364e1f3d45759c8ebee6b71cd527",
       "version_major": 2,
       "version_minor": 0
      },
      "text/plain": [
       "Image (train):   0%|          | 0/7 [00:00<?, ?it/s]"
      ]
     },
     "metadata": {},
     "output_type": "display_data"
    },
    {
     "data": {
      "application/vnd.jupyter.widget-view+json": {
       "model_id": "c6fcdc56fd1145c098c3da6746b662e9",
       "version_major": 2,
       "version_minor": 0
      },
      "text/plain": [
       "Image (test):   0%|          | 0/7 [00:00<?, ?it/s]"
      ]
     },
     "metadata": {},
     "output_type": "display_data"
    },
    {
     "data": {
      "application/vnd.jupyter.widget-view+json": {
       "model_id": "f6588f17885f49b58f3bfc5c98728331",
       "version_major": 2,
       "version_minor": 0
      },
      "text/plain": [
       "Image (train):   0%|          | 0/6 [00:00<?, ?it/s]"
      ]
     },
     "metadata": {},
     "output_type": "display_data"
    },
    {
     "data": {
      "application/vnd.jupyter.widget-view+json": {
       "model_id": "4d2e35f503584552b26bdd340bd78bb7",
       "version_major": 2,
       "version_minor": 0
      },
      "text/plain": [
       "Image (test):   0%|          | 0/6 [00:00<?, ?it/s]"
      ]
     },
     "metadata": {},
     "output_type": "display_data"
    },
    {
     "data": {
      "application/vnd.jupyter.widget-view+json": {
       "model_id": "2c88361ba58f48458d176ed1b37673b3",
       "version_major": 2,
       "version_minor": 0
      },
      "text/plain": [
       "Image (train):   0%|          | 0/6 [00:00<?, ?it/s]"
      ]
     },
     "metadata": {},
     "output_type": "display_data"
    },
    {
     "data": {
      "application/vnd.jupyter.widget-view+json": {
       "model_id": "ef13273554054604bda5b3cf37ac23d5",
       "version_major": 2,
       "version_minor": 0
      },
      "text/plain": [
       "Image (test):   0%|          | 0/6 [00:00<?, ?it/s]"
      ]
     },
     "metadata": {},
     "output_type": "display_data"
    },
    {
     "data": {
      "application/vnd.jupyter.widget-view+json": {
       "model_id": "c47b5e616b8f4f93988487b4975a7899",
       "version_major": 2,
       "version_minor": 0
      },
      "text/plain": [
       "Image (train):   0%|          | 0/6 [00:00<?, ?it/s]"
      ]
     },
     "metadata": {},
     "output_type": "display_data"
    },
    {
     "data": {
      "application/vnd.jupyter.widget-view+json": {
       "model_id": "67e8daf0a53a43eb9534b972ec93081e",
       "version_major": 2,
       "version_minor": 0
      },
      "text/plain": [
       "Image (test):   0%|          | 0/6 [00:00<?, ?it/s]"
      ]
     },
     "metadata": {},
     "output_type": "display_data"
    },
    {
     "data": {
      "application/vnd.jupyter.widget-view+json": {
       "model_id": "7a31d9e949fd47b48193aa8de165f90e",
       "version_major": 2,
       "version_minor": 0
      },
      "text/plain": [
       "Image (train):   0%|          | 0/5 [00:00<?, ?it/s]"
      ]
     },
     "metadata": {},
     "output_type": "display_data"
    },
    {
     "data": {
      "application/vnd.jupyter.widget-view+json": {
       "model_id": "4fed5e5be62e4ccaa9b0d4f5e1cfe60b",
       "version_major": 2,
       "version_minor": 0
      },
      "text/plain": [
       "Image (test):   0%|          | 0/5 [00:00<?, ?it/s]"
      ]
     },
     "metadata": {},
     "output_type": "display_data"
    },
    {
     "data": {
      "application/vnd.jupyter.widget-view+json": {
       "model_id": "4341af4a518c4fe5a9b00af40b46fff7",
       "version_major": 2,
       "version_minor": 0
      },
      "text/plain": [
       "Image (train):   0%|          | 0/5 [00:00<?, ?it/s]"
      ]
     },
     "metadata": {},
     "output_type": "display_data"
    },
    {
     "data": {
      "application/vnd.jupyter.widget-view+json": {
       "model_id": "5e98ce12a4a44371889995c459ae9244",
       "version_major": 2,
       "version_minor": 0
      },
      "text/plain": [
       "Image (test):   0%|          | 0/5 [00:00<?, ?it/s]"
      ]
     },
     "metadata": {},
     "output_type": "display_data"
    },
    {
     "data": {
      "application/vnd.jupyter.widget-view+json": {
       "model_id": "e95045efafaf404bb103f9b3bc66a3fd",
       "version_major": 2,
       "version_minor": 0
      },
      "text/plain": [
       "Image (train):   0%|          | 0/5 [00:00<?, ?it/s]"
      ]
     },
     "metadata": {},
     "output_type": "display_data"
    },
    {
     "data": {
      "application/vnd.jupyter.widget-view+json": {
       "model_id": "63dd8d28319748329d7740ef823ef615",
       "version_major": 2,
       "version_minor": 0
      },
      "text/plain": [
       "Image (test):   0%|          | 0/5 [00:00<?, ?it/s]"
      ]
     },
     "metadata": {},
     "output_type": "display_data"
    },
    {
     "data": {
      "application/vnd.jupyter.widget-view+json": {
       "model_id": "96b9900fea7c4bac8d75002bb4a34903",
       "version_major": 2,
       "version_minor": 0
      },
      "text/plain": [
       "Image (train):   0%|          | 0/5 [00:00<?, ?it/s]"
      ]
     },
     "metadata": {},
     "output_type": "display_data"
    },
    {
     "data": {
      "application/vnd.jupyter.widget-view+json": {
       "model_id": "832cdaf56a0c453e8c607958a541aed5",
       "version_major": 2,
       "version_minor": 0
      },
      "text/plain": [
       "Image (test):   0%|          | 0/5 [00:00<?, ?it/s]"
      ]
     },
     "metadata": {},
     "output_type": "display_data"
    },
    {
     "data": {
      "application/vnd.jupyter.widget-view+json": {
       "model_id": "775f1564ad064d7a9e833c329afb85b0",
       "version_major": 2,
       "version_minor": 0
      },
      "text/plain": [
       "Image (train):   0%|          | 0/5 [00:00<?, ?it/s]"
      ]
     },
     "metadata": {},
     "output_type": "display_data"
    },
    {
     "data": {
      "application/vnd.jupyter.widget-view+json": {
       "model_id": "bd620e0535974ecea0b5960061f1d73a",
       "version_major": 2,
       "version_minor": 0
      },
      "text/plain": [
       "Image (test):   0%|          | 0/5 [00:00<?, ?it/s]"
      ]
     },
     "metadata": {},
     "output_type": "display_data"
    },
    {
     "data": {
      "application/vnd.jupyter.widget-view+json": {
       "model_id": "40909f8f8d26463a895b90737b4d4073",
       "version_major": 2,
       "version_minor": 0
      },
      "text/plain": [
       "Image (train):   0%|          | 0/2 [00:00<?, ?it/s]"
      ]
     },
     "metadata": {},
     "output_type": "display_data"
    },
    {
     "data": {
      "application/vnd.jupyter.widget-view+json": {
       "model_id": "7b14ebad6ac2456f965d59e54b6a1748",
       "version_major": 2,
       "version_minor": 0
      },
      "text/plain": [
       "Image (test):   0%|          | 0/2 [00:00<?, ?it/s]"
      ]
     },
     "metadata": {},
     "output_type": "display_data"
    },
    {
     "data": {
      "application/vnd.jupyter.widget-view+json": {
       "model_id": "d689cf7a610640e3ae470214582ed554",
       "version_major": 2,
       "version_minor": 0
      },
      "text/plain": [
       "Image (train):   0%|          | 0/2 [00:00<?, ?it/s]"
      ]
     },
     "metadata": {},
     "output_type": "display_data"
    },
    {
     "data": {
      "application/vnd.jupyter.widget-view+json": {
       "model_id": "6049c43ceee8463fba1f1ca199ecc613",
       "version_major": 2,
       "version_minor": 0
      },
      "text/plain": [
       "Image (test):   0%|          | 0/2 [00:00<?, ?it/s]"
      ]
     },
     "metadata": {},
     "output_type": "display_data"
    },
    {
     "data": {
      "application/vnd.jupyter.widget-view+json": {
       "model_id": "31fcf46ac9f34f2db0715667ac118e83",
       "version_major": 2,
       "version_minor": 0
      },
      "text/plain": [
       "Attempt:   0%|          | 0/20 [00:00<?, ?it/s]"
      ]
     },
     "metadata": {},
     "output_type": "display_data"
    },
    {
     "data": {
      "application/vnd.jupyter.widget-view+json": {
       "model_id": "51215b88640342a1a9fb38851bdfd3d6",
       "version_major": 2,
       "version_minor": 0
      },
      "text/plain": [
       "Image (train):   0%|          | 0/1000 [00:00<?, ?it/s]"
      ]
     },
     "metadata": {},
     "output_type": "display_data"
    },
    {
     "data": {
      "application/vnd.jupyter.widget-view+json": {
       "model_id": "72d1ac6945264eb49db4281b809d0164",
       "version_major": 2,
       "version_minor": 0
      },
      "text/plain": [
       "Image (test):   0%|          | 0/1000 [00:00<?, ?it/s]"
      ]
     },
     "metadata": {},
     "output_type": "display_data"
    },
    {
     "data": {
      "application/vnd.jupyter.widget-view+json": {
       "model_id": "8ca797f637094a1a8c422e3b1e784a05",
       "version_major": 2,
       "version_minor": 0
      },
      "text/plain": [
       "Image (train):   0%|          | 0/27 [00:00<?, ?it/s]"
      ]
     },
     "metadata": {},
     "output_type": "display_data"
    },
    {
     "data": {
      "application/vnd.jupyter.widget-view+json": {
       "model_id": "ac789db038f645e9a8df9d0636343565",
       "version_major": 2,
       "version_minor": 0
      },
      "text/plain": [
       "Image (test):   0%|          | 0/27 [00:00<?, ?it/s]"
      ]
     },
     "metadata": {},
     "output_type": "display_data"
    },
    {
     "data": {
      "application/vnd.jupyter.widget-view+json": {
       "model_id": "26bdde8602ff4ae49e6d5d4e8ba40a29",
       "version_major": 2,
       "version_minor": 0
      },
      "text/plain": [
       "Image (train):   0%|          | 0/24 [00:00<?, ?it/s]"
      ]
     },
     "metadata": {},
     "output_type": "display_data"
    },
    {
     "data": {
      "application/vnd.jupyter.widget-view+json": {
       "model_id": "17af526b70df40d0b3f4e822446618e0",
       "version_major": 2,
       "version_minor": 0
      },
      "text/plain": [
       "Image (test):   0%|          | 0/24 [00:00<?, ?it/s]"
      ]
     },
     "metadata": {},
     "output_type": "display_data"
    },
    {
     "data": {
      "application/vnd.jupyter.widget-view+json": {
       "model_id": "0d275577323d4d7eaef50a6be21338df",
       "version_major": 2,
       "version_minor": 0
      },
      "text/plain": [
       "Image (train):   0%|          | 0/20 [00:00<?, ?it/s]"
      ]
     },
     "metadata": {},
     "output_type": "display_data"
    },
    {
     "data": {
      "application/vnd.jupyter.widget-view+json": {
       "model_id": "492b526e312b4587bb5200248ca14e21",
       "version_major": 2,
       "version_minor": 0
      },
      "text/plain": [
       "Image (test):   0%|          | 0/20 [00:00<?, ?it/s]"
      ]
     },
     "metadata": {},
     "output_type": "display_data"
    },
    {
     "data": {
      "application/vnd.jupyter.widget-view+json": {
       "model_id": "8dcc0279efde45a69a57c7d985b2370f",
       "version_major": 2,
       "version_minor": 0
      },
      "text/plain": [
       "Image (train):   0%|          | 0/20 [00:00<?, ?it/s]"
      ]
     },
     "metadata": {},
     "output_type": "display_data"
    },
    {
     "data": {
      "application/vnd.jupyter.widget-view+json": {
       "model_id": "ca61999f87ca469db6963a78c4a8d3eb",
       "version_major": 2,
       "version_minor": 0
      },
      "text/plain": [
       "Image (test):   0%|          | 0/20 [00:00<?, ?it/s]"
      ]
     },
     "metadata": {},
     "output_type": "display_data"
    },
    {
     "data": {
      "application/vnd.jupyter.widget-view+json": {
       "model_id": "65c27d88faa04b2487a7aa8d0abaf346",
       "version_major": 2,
       "version_minor": 0
      },
      "text/plain": [
       "Image (train):   0%|          | 0/18 [00:00<?, ?it/s]"
      ]
     },
     "metadata": {},
     "output_type": "display_data"
    },
    {
     "data": {
      "application/vnd.jupyter.widget-view+json": {
       "model_id": "8ddc153255634a8fb781ffe91052da37",
       "version_major": 2,
       "version_minor": 0
      },
      "text/plain": [
       "Image (test):   0%|          | 0/18 [00:00<?, ?it/s]"
      ]
     },
     "metadata": {},
     "output_type": "display_data"
    },
    {
     "data": {
      "application/vnd.jupyter.widget-view+json": {
       "model_id": "8f232380a61b425d977e1c63abaa9efc",
       "version_major": 2,
       "version_minor": 0
      },
      "text/plain": [
       "Image (train):   0%|          | 0/17 [00:00<?, ?it/s]"
      ]
     },
     "metadata": {},
     "output_type": "display_data"
    },
    {
     "data": {
      "application/vnd.jupyter.widget-view+json": {
       "model_id": "e67871bdab8d42399a88bf0c418602c8",
       "version_major": 2,
       "version_minor": 0
      },
      "text/plain": [
       "Image (test):   0%|          | 0/17 [00:00<?, ?it/s]"
      ]
     },
     "metadata": {},
     "output_type": "display_data"
    },
    {
     "data": {
      "application/vnd.jupyter.widget-view+json": {
       "model_id": "3d643b44347144869ee151e3f1ce1556",
       "version_major": 2,
       "version_minor": 0
      },
      "text/plain": [
       "Image (train):   0%|          | 0/16 [00:00<?, ?it/s]"
      ]
     },
     "metadata": {},
     "output_type": "display_data"
    },
    {
     "data": {
      "application/vnd.jupyter.widget-view+json": {
       "model_id": "ddb4a121fa2446e084a62fe5f61af319",
       "version_major": 2,
       "version_minor": 0
      },
      "text/plain": [
       "Image (test):   0%|          | 0/16 [00:00<?, ?it/s]"
      ]
     },
     "metadata": {},
     "output_type": "display_data"
    },
    {
     "data": {
      "application/vnd.jupyter.widget-view+json": {
       "model_id": "8e7d4b03fb2849fea440a0779dee9723",
       "version_major": 2,
       "version_minor": 0
      },
      "text/plain": [
       "Image (train):   0%|          | 0/14 [00:00<?, ?it/s]"
      ]
     },
     "metadata": {},
     "output_type": "display_data"
    },
    {
     "data": {
      "application/vnd.jupyter.widget-view+json": {
       "model_id": "f3ce8ca1b4364c6681376ae4f938a120",
       "version_major": 2,
       "version_minor": 0
      },
      "text/plain": [
       "Image (test):   0%|          | 0/14 [00:00<?, ?it/s]"
      ]
     },
     "metadata": {},
     "output_type": "display_data"
    },
    {
     "data": {
      "application/vnd.jupyter.widget-view+json": {
       "model_id": "15b3e0416af6494f988c340ea2acbf33",
       "version_major": 2,
       "version_minor": 0
      },
      "text/plain": [
       "Image (train):   0%|          | 0/14 [00:00<?, ?it/s]"
      ]
     },
     "metadata": {},
     "output_type": "display_data"
    },
    {
     "data": {
      "application/vnd.jupyter.widget-view+json": {
       "model_id": "c154695d61184b6fbb19bf17e59dbf7b",
       "version_major": 2,
       "version_minor": 0
      },
      "text/plain": [
       "Image (test):   0%|          | 0/14 [00:00<?, ?it/s]"
      ]
     },
     "metadata": {},
     "output_type": "display_data"
    },
    {
     "data": {
      "application/vnd.jupyter.widget-view+json": {
       "model_id": "5e16edd324144d45bcf4ad405ed79861",
       "version_major": 2,
       "version_minor": 0
      },
      "text/plain": [
       "Image (train):   0%|          | 0/14 [00:00<?, ?it/s]"
      ]
     },
     "metadata": {},
     "output_type": "display_data"
    },
    {
     "data": {
      "application/vnd.jupyter.widget-view+json": {
       "model_id": "e0b1f181c9854ba0be5f164614c80f71",
       "version_major": 2,
       "version_minor": 0
      },
      "text/plain": [
       "Image (test):   0%|          | 0/14 [00:00<?, ?it/s]"
      ]
     },
     "metadata": {},
     "output_type": "display_data"
    },
    {
     "data": {
      "application/vnd.jupyter.widget-view+json": {
       "model_id": "beb2a02c6cff45488d3034ac3c5856cd",
       "version_major": 2,
       "version_minor": 0
      },
      "text/plain": [
       "Image (train):   0%|          | 0/12 [00:00<?, ?it/s]"
      ]
     },
     "metadata": {},
     "output_type": "display_data"
    },
    {
     "data": {
      "application/vnd.jupyter.widget-view+json": {
       "model_id": "8f45b48d233742ab87ccad0c99bbdfdb",
       "version_major": 2,
       "version_minor": 0
      },
      "text/plain": [
       "Image (test):   0%|          | 0/12 [00:00<?, ?it/s]"
      ]
     },
     "metadata": {},
     "output_type": "display_data"
    },
    {
     "data": {
      "application/vnd.jupyter.widget-view+json": {
       "model_id": "fbd5bd843f8b4c35873b0bf613514f35",
       "version_major": 2,
       "version_minor": 0
      },
      "text/plain": [
       "Image (train):   0%|          | 0/12 [00:00<?, ?it/s]"
      ]
     },
     "metadata": {},
     "output_type": "display_data"
    },
    {
     "data": {
      "application/vnd.jupyter.widget-view+json": {
       "model_id": "c460e539bce0402b9b00e8933d7c2ad0",
       "version_major": 2,
       "version_minor": 0
      },
      "text/plain": [
       "Image (test):   0%|          | 0/12 [00:00<?, ?it/s]"
      ]
     },
     "metadata": {},
     "output_type": "display_data"
    },
    {
     "data": {
      "application/vnd.jupyter.widget-view+json": {
       "model_id": "9571965ce19f4dacb3a7b482b9371f13",
       "version_major": 2,
       "version_minor": 0
      },
      "text/plain": [
       "Image (train):   0%|          | 0/11 [00:00<?, ?it/s]"
      ]
     },
     "metadata": {},
     "output_type": "display_data"
    },
    {
     "data": {
      "application/vnd.jupyter.widget-view+json": {
       "model_id": "12555e1c10a149bda1a3ddb48429bff9",
       "version_major": 2,
       "version_minor": 0
      },
      "text/plain": [
       "Image (test):   0%|          | 0/11 [00:00<?, ?it/s]"
      ]
     },
     "metadata": {},
     "output_type": "display_data"
    },
    {
     "data": {
      "application/vnd.jupyter.widget-view+json": {
       "model_id": "dfdd5ca0e7d944c983c7a78e89b6fe9a",
       "version_major": 2,
       "version_minor": 0
      },
      "text/plain": [
       "Image (train):   0%|          | 0/10 [00:00<?, ?it/s]"
      ]
     },
     "metadata": {},
     "output_type": "display_data"
    },
    {
     "data": {
      "application/vnd.jupyter.widget-view+json": {
       "model_id": "149b75679a694e22b0a9e8df9d6d0624",
       "version_major": 2,
       "version_minor": 0
      },
      "text/plain": [
       "Image (test):   0%|          | 0/10 [00:00<?, ?it/s]"
      ]
     },
     "metadata": {},
     "output_type": "display_data"
    },
    {
     "data": {
      "application/vnd.jupyter.widget-view+json": {
       "model_id": "f5bdf8f51f394599a0ae37e49ac584b0",
       "version_major": 2,
       "version_minor": 0
      },
      "text/plain": [
       "Image (train):   0%|          | 0/8 [00:00<?, ?it/s]"
      ]
     },
     "metadata": {},
     "output_type": "display_data"
    },
    {
     "data": {
      "application/vnd.jupyter.widget-view+json": {
       "model_id": "0c1ef368e9604df580b3e296af98ff22",
       "version_major": 2,
       "version_minor": 0
      },
      "text/plain": [
       "Image (test):   0%|          | 0/8 [00:00<?, ?it/s]"
      ]
     },
     "metadata": {},
     "output_type": "display_data"
    },
    {
     "data": {
      "application/vnd.jupyter.widget-view+json": {
       "model_id": "d071e869948b48a1aaa756fe6c291324",
       "version_major": 2,
       "version_minor": 0
      },
      "text/plain": [
       "Image (train):   0%|          | 0/6 [00:00<?, ?it/s]"
      ]
     },
     "metadata": {},
     "output_type": "display_data"
    },
    {
     "data": {
      "application/vnd.jupyter.widget-view+json": {
       "model_id": "c9bc33d186c242258e58775e2d00fee1",
       "version_major": 2,
       "version_minor": 0
      },
      "text/plain": [
       "Image (test):   0%|          | 0/6 [00:00<?, ?it/s]"
      ]
     },
     "metadata": {},
     "output_type": "display_data"
    },
    {
     "data": {
      "application/vnd.jupyter.widget-view+json": {
       "model_id": "283a4e5fc10a40d380a1bffe0216e62a",
       "version_major": 2,
       "version_minor": 0
      },
      "text/plain": [
       "Image (train):   0%|          | 0/6 [00:00<?, ?it/s]"
      ]
     },
     "metadata": {},
     "output_type": "display_data"
    },
    {
     "data": {
      "application/vnd.jupyter.widget-view+json": {
       "model_id": "92ae5332476448ecb7842b7a34fb00d5",
       "version_major": 2,
       "version_minor": 0
      },
      "text/plain": [
       "Image (test):   0%|          | 0/6 [00:00<?, ?it/s]"
      ]
     },
     "metadata": {},
     "output_type": "display_data"
    },
    {
     "data": {
      "application/vnd.jupyter.widget-view+json": {
       "model_id": "6202e90190394f45884155ccf6431847",
       "version_major": 2,
       "version_minor": 0
      },
      "text/plain": [
       "Image (train):   0%|          | 0/6 [00:00<?, ?it/s]"
      ]
     },
     "metadata": {},
     "output_type": "display_data"
    },
    {
     "data": {
      "application/vnd.jupyter.widget-view+json": {
       "model_id": "22fef1fa03e240b19b690955594c48b8",
       "version_major": 2,
       "version_minor": 0
      },
      "text/plain": [
       "Image (test):   0%|          | 0/6 [00:00<?, ?it/s]"
      ]
     },
     "metadata": {},
     "output_type": "display_data"
    },
    {
     "data": {
      "application/vnd.jupyter.widget-view+json": {
       "model_id": "635ede8a4f2e4cfebc4f43c2d9defe47",
       "version_major": 2,
       "version_minor": 0
      },
      "text/plain": [
       "Image (train):   0%|          | 0/5 [00:00<?, ?it/s]"
      ]
     },
     "metadata": {},
     "output_type": "display_data"
    },
    {
     "data": {
      "application/vnd.jupyter.widget-view+json": {
       "model_id": "edbf38b697f34be0a3a6b1d02bb11a90",
       "version_major": 2,
       "version_minor": 0
      },
      "text/plain": [
       "Image (test):   0%|          | 0/5 [00:00<?, ?it/s]"
      ]
     },
     "metadata": {},
     "output_type": "display_data"
    },
    {
     "data": {
      "application/vnd.jupyter.widget-view+json": {
       "model_id": "7c7845abc3a7449484c375f443403117",
       "version_major": 2,
       "version_minor": 0
      },
      "text/plain": [
       "Attempt:   0%|          | 0/20 [00:00<?, ?it/s]"
      ]
     },
     "metadata": {},
     "output_type": "display_data"
    },
    {
     "data": {
      "application/vnd.jupyter.widget-view+json": {
       "model_id": "8e37a5695f0f49a3bb26259b064c0607",
       "version_major": 2,
       "version_minor": 0
      },
      "text/plain": [
       "Image (train):   0%|          | 0/1000 [00:00<?, ?it/s]"
      ]
     },
     "metadata": {},
     "output_type": "display_data"
    },
    {
     "data": {
      "application/vnd.jupyter.widget-view+json": {
       "model_id": "9c4d77a7b7ea4ef1bd2c8ff0e145659d",
       "version_major": 2,
       "version_minor": 0
      },
      "text/plain": [
       "Image (test):   0%|          | 0/1000 [00:00<?, ?it/s]"
      ]
     },
     "metadata": {},
     "output_type": "display_data"
    },
    {
     "data": {
      "application/vnd.jupyter.widget-view+json": {
       "model_id": "00ef8b9167ec4ca3be2c887b94e1bd61",
       "version_major": 2,
       "version_minor": 0
      },
      "text/plain": [
       "Image (train):   0%|          | 0/30 [00:00<?, ?it/s]"
      ]
     },
     "metadata": {},
     "output_type": "display_data"
    },
    {
     "data": {
      "application/vnd.jupyter.widget-view+json": {
       "model_id": "1348595268c7438c8cf0c3061bbee1cc",
       "version_major": 2,
       "version_minor": 0
      },
      "text/plain": [
       "Image (test):   0%|          | 0/30 [00:00<?, ?it/s]"
      ]
     },
     "metadata": {},
     "output_type": "display_data"
    },
    {
     "data": {
      "application/vnd.jupyter.widget-view+json": {
       "model_id": "0d3ff8e547b9451ebffc902059e3131c",
       "version_major": 2,
       "version_minor": 0
      },
      "text/plain": [
       "Image (train):   0%|          | 0/25 [00:00<?, ?it/s]"
      ]
     },
     "metadata": {},
     "output_type": "display_data"
    },
    {
     "data": {
      "application/vnd.jupyter.widget-view+json": {
       "model_id": "4f9ce91a643345dc9f8bbc55056cd050",
       "version_major": 2,
       "version_minor": 0
      },
      "text/plain": [
       "Image (test):   0%|          | 0/25 [00:00<?, ?it/s]"
      ]
     },
     "metadata": {},
     "output_type": "display_data"
    },
    {
     "data": {
      "application/vnd.jupyter.widget-view+json": {
       "model_id": "7f259513f73a49d99024a22502f73021",
       "version_major": 2,
       "version_minor": 0
      },
      "text/plain": [
       "Image (train):   0%|          | 0/22 [00:00<?, ?it/s]"
      ]
     },
     "metadata": {},
     "output_type": "display_data"
    },
    {
     "data": {
      "application/vnd.jupyter.widget-view+json": {
       "model_id": "d75054409bd24366ac8582d33163f507",
       "version_major": 2,
       "version_minor": 0
      },
      "text/plain": [
       "Image (test):   0%|          | 0/22 [00:00<?, ?it/s]"
      ]
     },
     "metadata": {},
     "output_type": "display_data"
    },
    {
     "data": {
      "application/vnd.jupyter.widget-view+json": {
       "model_id": "4858345555514ec6a980a85fb10244cf",
       "version_major": 2,
       "version_minor": 0
      },
      "text/plain": [
       "Image (train):   0%|          | 0/20 [00:00<?, ?it/s]"
      ]
     },
     "metadata": {},
     "output_type": "display_data"
    },
    {
     "data": {
      "application/vnd.jupyter.widget-view+json": {
       "model_id": "b67a4b56978644d0aeb8f0bf767f4b09",
       "version_major": 2,
       "version_minor": 0
      },
      "text/plain": [
       "Image (test):   0%|          | 0/20 [00:00<?, ?it/s]"
      ]
     },
     "metadata": {},
     "output_type": "display_data"
    },
    {
     "data": {
      "application/vnd.jupyter.widget-view+json": {
       "model_id": "6ff0455968d04ab38608825f8a2ef114",
       "version_major": 2,
       "version_minor": 0
      },
      "text/plain": [
       "Image (train):   0%|          | 0/19 [00:00<?, ?it/s]"
      ]
     },
     "metadata": {},
     "output_type": "display_data"
    },
    {
     "data": {
      "application/vnd.jupyter.widget-view+json": {
       "model_id": "e2f42594066d4b2b8415c72707762a28",
       "version_major": 2,
       "version_minor": 0
      },
      "text/plain": [
       "Image (test):   0%|          | 0/19 [00:00<?, ?it/s]"
      ]
     },
     "metadata": {},
     "output_type": "display_data"
    },
    {
     "data": {
      "application/vnd.jupyter.widget-view+json": {
       "model_id": "e93dfe7efaa94a7b8e6475d3b8b34ce2",
       "version_major": 2,
       "version_minor": 0
      },
      "text/plain": [
       "Image (train):   0%|          | 0/17 [00:00<?, ?it/s]"
      ]
     },
     "metadata": {},
     "output_type": "display_data"
    },
    {
     "data": {
      "application/vnd.jupyter.widget-view+json": {
       "model_id": "7d405745688a4ae589cdff048e1c5cf8",
       "version_major": 2,
       "version_minor": 0
      },
      "text/plain": [
       "Image (test):   0%|          | 0/17 [00:00<?, ?it/s]"
      ]
     },
     "metadata": {},
     "output_type": "display_data"
    },
    {
     "data": {
      "application/vnd.jupyter.widget-view+json": {
       "model_id": "08e1474b20f9471cb0c76d593498bb57",
       "version_major": 2,
       "version_minor": 0
      },
      "text/plain": [
       "Image (train):   0%|          | 0/16 [00:00<?, ?it/s]"
      ]
     },
     "metadata": {},
     "output_type": "display_data"
    },
    {
     "data": {
      "application/vnd.jupyter.widget-view+json": {
       "model_id": "fd493cbd781a4ccba81cd731194502c9",
       "version_major": 2,
       "version_minor": 0
      },
      "text/plain": [
       "Image (test):   0%|          | 0/16 [00:00<?, ?it/s]"
      ]
     },
     "metadata": {},
     "output_type": "display_data"
    },
    {
     "data": {
      "application/vnd.jupyter.widget-view+json": {
       "model_id": "263773b9a64f459fb276245f6c09dbb4",
       "version_major": 2,
       "version_minor": 0
      },
      "text/plain": [
       "Image (train):   0%|          | 0/13 [00:00<?, ?it/s]"
      ]
     },
     "metadata": {},
     "output_type": "display_data"
    },
    {
     "data": {
      "application/vnd.jupyter.widget-view+json": {
       "model_id": "2828bc60f8d548c48f2fe47b9d2bc36c",
       "version_major": 2,
       "version_minor": 0
      },
      "text/plain": [
       "Image (test):   0%|          | 0/13 [00:00<?, ?it/s]"
      ]
     },
     "metadata": {},
     "output_type": "display_data"
    },
    {
     "data": {
      "application/vnd.jupyter.widget-view+json": {
       "model_id": "02e8d35d5c4440f4856e0e150962cddd",
       "version_major": 2,
       "version_minor": 0
      },
      "text/plain": [
       "Image (train):   0%|          | 0/12 [00:00<?, ?it/s]"
      ]
     },
     "metadata": {},
     "output_type": "display_data"
    },
    {
     "data": {
      "application/vnd.jupyter.widget-view+json": {
       "model_id": "b910dd8f1c7b405483515cbc8ab0ce50",
       "version_major": 2,
       "version_minor": 0
      },
      "text/plain": [
       "Image (test):   0%|          | 0/12 [00:00<?, ?it/s]"
      ]
     },
     "metadata": {},
     "output_type": "display_data"
    },
    {
     "data": {
      "application/vnd.jupyter.widget-view+json": {
       "model_id": "2afa9dabc1974526a25993d9ed0a30b3",
       "version_major": 2,
       "version_minor": 0
      },
      "text/plain": [
       "Image (train):   0%|          | 0/11 [00:00<?, ?it/s]"
      ]
     },
     "metadata": {},
     "output_type": "display_data"
    },
    {
     "data": {
      "application/vnd.jupyter.widget-view+json": {
       "model_id": "92ee4cbeed624e5690e9624fe54e1c01",
       "version_major": 2,
       "version_minor": 0
      },
      "text/plain": [
       "Image (test):   0%|          | 0/11 [00:00<?, ?it/s]"
      ]
     },
     "metadata": {},
     "output_type": "display_data"
    },
    {
     "data": {
      "application/vnd.jupyter.widget-view+json": {
       "model_id": "fddfb858e23048e7a76466e6435cde4a",
       "version_major": 2,
       "version_minor": 0
      },
      "text/plain": [
       "Image (train):   0%|          | 0/9 [00:00<?, ?it/s]"
      ]
     },
     "metadata": {},
     "output_type": "display_data"
    },
    {
     "data": {
      "application/vnd.jupyter.widget-view+json": {
       "model_id": "458a1c62fb8f423e92c0aaf14452edda",
       "version_major": 2,
       "version_minor": 0
      },
      "text/plain": [
       "Image (test):   0%|          | 0/9 [00:00<?, ?it/s]"
      ]
     },
     "metadata": {},
     "output_type": "display_data"
    },
    {
     "data": {
      "application/vnd.jupyter.widget-view+json": {
       "model_id": "7975218a5907430e9b8a4ac4940ba968",
       "version_major": 2,
       "version_minor": 0
      },
      "text/plain": [
       "Image (train):   0%|          | 0/8 [00:00<?, ?it/s]"
      ]
     },
     "metadata": {},
     "output_type": "display_data"
    },
    {
     "data": {
      "application/vnd.jupyter.widget-view+json": {
       "model_id": "42e277992a9d4ceb976db1df7f2dfec4",
       "version_major": 2,
       "version_minor": 0
      },
      "text/plain": [
       "Image (test):   0%|          | 0/8 [00:00<?, ?it/s]"
      ]
     },
     "metadata": {},
     "output_type": "display_data"
    },
    {
     "data": {
      "application/vnd.jupyter.widget-view+json": {
       "model_id": "df043fd4977942869abfcf285fdefac5",
       "version_major": 2,
       "version_minor": 0
      },
      "text/plain": [
       "Image (train):   0%|          | 0/8 [00:00<?, ?it/s]"
      ]
     },
     "metadata": {},
     "output_type": "display_data"
    },
    {
     "data": {
      "application/vnd.jupyter.widget-view+json": {
       "model_id": "6d4be78f2eeb437ba0df084729d49e79",
       "version_major": 2,
       "version_minor": 0
      },
      "text/plain": [
       "Image (test):   0%|          | 0/8 [00:00<?, ?it/s]"
      ]
     },
     "metadata": {},
     "output_type": "display_data"
    },
    {
     "data": {
      "application/vnd.jupyter.widget-view+json": {
       "model_id": "4f7912323cfe4187a66b51690d3d450a",
       "version_major": 2,
       "version_minor": 0
      },
      "text/plain": [
       "Image (train):   0%|          | 0/8 [00:00<?, ?it/s]"
      ]
     },
     "metadata": {},
     "output_type": "display_data"
    },
    {
     "data": {
      "application/vnd.jupyter.widget-view+json": {
       "model_id": "91a95e9c4fe3497580db7911c2e21ad6",
       "version_major": 2,
       "version_minor": 0
      },
      "text/plain": [
       "Image (test):   0%|          | 0/8 [00:00<?, ?it/s]"
      ]
     },
     "metadata": {},
     "output_type": "display_data"
    },
    {
     "data": {
      "application/vnd.jupyter.widget-view+json": {
       "model_id": "da1fba7d84294ff0aae5befb02ce6142",
       "version_major": 2,
       "version_minor": 0
      },
      "text/plain": [
       "Image (train):   0%|          | 0/7 [00:00<?, ?it/s]"
      ]
     },
     "metadata": {},
     "output_type": "display_data"
    },
    {
     "data": {
      "application/vnd.jupyter.widget-view+json": {
       "model_id": "0f58c32711bb46b5947d5ab8ce7bbb1d",
       "version_major": 2,
       "version_minor": 0
      },
      "text/plain": [
       "Image (test):   0%|          | 0/7 [00:00<?, ?it/s]"
      ]
     },
     "metadata": {},
     "output_type": "display_data"
    },
    {
     "data": {
      "application/vnd.jupyter.widget-view+json": {
       "model_id": "83ec44b25da44eab91e6b3383a5ae776",
       "version_major": 2,
       "version_minor": 0
      },
      "text/plain": [
       "Image (train):   0%|          | 0/6 [00:00<?, ?it/s]"
      ]
     },
     "metadata": {},
     "output_type": "display_data"
    },
    {
     "data": {
      "application/vnd.jupyter.widget-view+json": {
       "model_id": "ce3e61be7ccf4237b39144b6850028ca",
       "version_major": 2,
       "version_minor": 0
      },
      "text/plain": [
       "Image (test):   0%|          | 0/6 [00:00<?, ?it/s]"
      ]
     },
     "metadata": {},
     "output_type": "display_data"
    },
    {
     "data": {
      "application/vnd.jupyter.widget-view+json": {
       "model_id": "e5ed23e7fc7e41ff9185c986553f881a",
       "version_major": 2,
       "version_minor": 0
      },
      "text/plain": [
       "Image (train):   0%|          | 0/6 [00:00<?, ?it/s]"
      ]
     },
     "metadata": {},
     "output_type": "display_data"
    },
    {
     "data": {
      "application/vnd.jupyter.widget-view+json": {
       "model_id": "0a5d84dd550e40a7831e48d7501e7577",
       "version_major": 2,
       "version_minor": 0
      },
      "text/plain": [
       "Image (test):   0%|          | 0/6 [00:00<?, ?it/s]"
      ]
     },
     "metadata": {},
     "output_type": "display_data"
    },
    {
     "data": {
      "application/vnd.jupyter.widget-view+json": {
       "model_id": "f1b3833e23e747d8818691902804bb26",
       "version_major": 2,
       "version_minor": 0
      },
      "text/plain": [
       "Image (train):   0%|          | 0/5 [00:00<?, ?it/s]"
      ]
     },
     "metadata": {},
     "output_type": "display_data"
    },
    {
     "data": {
      "application/vnd.jupyter.widget-view+json": {
       "model_id": "717aa265f1c64a56964a5c100e7f90eb",
       "version_major": 2,
       "version_minor": 0
      },
      "text/plain": [
       "Image (test):   0%|          | 0/5 [00:00<?, ?it/s]"
      ]
     },
     "metadata": {},
     "output_type": "display_data"
    },
    {
     "data": {
      "application/vnd.jupyter.widget-view+json": {
       "model_id": "fc76ec20f83f4b5b97f2937917216338",
       "version_major": 2,
       "version_minor": 0
      },
      "text/plain": [
       "Image (train):   0%|          | 0/4 [00:00<?, ?it/s]"
      ]
     },
     "metadata": {},
     "output_type": "display_data"
    },
    {
     "data": {
      "application/vnd.jupyter.widget-view+json": {
       "model_id": "70a7b3610ce34ca2a5ef91b9889157d9",
       "version_major": 2,
       "version_minor": 0
      },
      "text/plain": [
       "Image (test):   0%|          | 0/4 [00:00<?, ?it/s]"
      ]
     },
     "metadata": {},
     "output_type": "display_data"
    },
    {
     "data": {
      "application/vnd.jupyter.widget-view+json": {
       "model_id": "642dbc19f61540a8a4635479aa4d76dc",
       "version_major": 2,
       "version_minor": 0
      },
      "text/plain": [
       "Attempt:   0%|          | 0/20 [00:00<?, ?it/s]"
      ]
     },
     "metadata": {},
     "output_type": "display_data"
    },
    {
     "data": {
      "application/vnd.jupyter.widget-view+json": {
       "model_id": "68ad2b34772440688fc2fd813b270a75",
       "version_major": 2,
       "version_minor": 0
      },
      "text/plain": [
       "Image (train):   0%|          | 0/1000 [00:00<?, ?it/s]"
      ]
     },
     "metadata": {},
     "output_type": "display_data"
    },
    {
     "data": {
      "application/vnd.jupyter.widget-view+json": {
       "model_id": "aea4c97be9134256a4e24333dbb23596",
       "version_major": 2,
       "version_minor": 0
      },
      "text/plain": [
       "Image (test):   0%|          | 0/1000 [00:00<?, ?it/s]"
      ]
     },
     "metadata": {},
     "output_type": "display_data"
    },
    {
     "data": {
      "application/vnd.jupyter.widget-view+json": {
       "model_id": "105e4dad658b4f6bab2d143f521dbecd",
       "version_major": 2,
       "version_minor": 0
      },
      "text/plain": [
       "Image (train):   0%|          | 0/25 [00:00<?, ?it/s]"
      ]
     },
     "metadata": {},
     "output_type": "display_data"
    },
    {
     "data": {
      "application/vnd.jupyter.widget-view+json": {
       "model_id": "6873ead3ab514855b4a5208def758afe",
       "version_major": 2,
       "version_minor": 0
      },
      "text/plain": [
       "Image (test):   0%|          | 0/25 [00:00<?, ?it/s]"
      ]
     },
     "metadata": {},
     "output_type": "display_data"
    },
    {
     "data": {
      "application/vnd.jupyter.widget-view+json": {
       "model_id": "2d489b33c58e4a26821cb0a2c5c74f44",
       "version_major": 2,
       "version_minor": 0
      },
      "text/plain": [
       "Image (train):   0%|          | 0/20 [00:00<?, ?it/s]"
      ]
     },
     "metadata": {},
     "output_type": "display_data"
    },
    {
     "data": {
      "application/vnd.jupyter.widget-view+json": {
       "model_id": "75c2ffcb9cb44fc2bf5d6129f4056389",
       "version_major": 2,
       "version_minor": 0
      },
      "text/plain": [
       "Image (test):   0%|          | 0/20 [00:00<?, ?it/s]"
      ]
     },
     "metadata": {},
     "output_type": "display_data"
    },
    {
     "data": {
      "application/vnd.jupyter.widget-view+json": {
       "model_id": "91fb4c08bbef43969ad681c7a07f0d80",
       "version_major": 2,
       "version_minor": 0
      },
      "text/plain": [
       "Image (train):   0%|          | 0/20 [00:00<?, ?it/s]"
      ]
     },
     "metadata": {},
     "output_type": "display_data"
    },
    {
     "data": {
      "application/vnd.jupyter.widget-view+json": {
       "model_id": "ba16d016d8354170860eca45d23d189b",
       "version_major": 2,
       "version_minor": 0
      },
      "text/plain": [
       "Image (test):   0%|          | 0/20 [00:00<?, ?it/s]"
      ]
     },
     "metadata": {},
     "output_type": "display_data"
    },
    {
     "data": {
      "application/vnd.jupyter.widget-view+json": {
       "model_id": "e463a87ee43349baa5604cb65af0b9bf",
       "version_major": 2,
       "version_minor": 0
      },
      "text/plain": [
       "Image (train):   0%|          | 0/17 [00:00<?, ?it/s]"
      ]
     },
     "metadata": {},
     "output_type": "display_data"
    },
    {
     "data": {
      "application/vnd.jupyter.widget-view+json": {
       "model_id": "abd4d87950f7456387187e417620ebd2",
       "version_major": 2,
       "version_minor": 0
      },
      "text/plain": [
       "Image (test):   0%|          | 0/17 [00:00<?, ?it/s]"
      ]
     },
     "metadata": {},
     "output_type": "display_data"
    },
    {
     "data": {
      "application/vnd.jupyter.widget-view+json": {
       "model_id": "d7a3825ccdc84c62bcfdd851a61590d1",
       "version_major": 2,
       "version_minor": 0
      },
      "text/plain": [
       "Image (train):   0%|          | 0/15 [00:00<?, ?it/s]"
      ]
     },
     "metadata": {},
     "output_type": "display_data"
    },
    {
     "data": {
      "application/vnd.jupyter.widget-view+json": {
       "model_id": "23faee24867c41259188ef24668731c2",
       "version_major": 2,
       "version_minor": 0
      },
      "text/plain": [
       "Image (test):   0%|          | 0/15 [00:00<?, ?it/s]"
      ]
     },
     "metadata": {},
     "output_type": "display_data"
    },
    {
     "data": {
      "application/vnd.jupyter.widget-view+json": {
       "model_id": "fd7f40db6df54f4b8fbba6c3dc980d7d",
       "version_major": 2,
       "version_minor": 0
      },
      "text/plain": [
       "Image (train):   0%|          | 0/13 [00:00<?, ?it/s]"
      ]
     },
     "metadata": {},
     "output_type": "display_data"
    },
    {
     "data": {
      "application/vnd.jupyter.widget-view+json": {
       "model_id": "fa11d36d51c64e1298cebe77ff575574",
       "version_major": 2,
       "version_minor": 0
      },
      "text/plain": [
       "Image (test):   0%|          | 0/13 [00:00<?, ?it/s]"
      ]
     },
     "metadata": {},
     "output_type": "display_data"
    },
    {
     "data": {
      "application/vnd.jupyter.widget-view+json": {
       "model_id": "fc3e766e3f6d4e86ad8f4c1f32b852ab",
       "version_major": 2,
       "version_minor": 0
      },
      "text/plain": [
       "Image (train):   0%|          | 0/11 [00:00<?, ?it/s]"
      ]
     },
     "metadata": {},
     "output_type": "display_data"
    },
    {
     "data": {
      "application/vnd.jupyter.widget-view+json": {
       "model_id": "8e8698de98da42749444d1da0709ed56",
       "version_major": 2,
       "version_minor": 0
      },
      "text/plain": [
       "Image (test):   0%|          | 0/11 [00:00<?, ?it/s]"
      ]
     },
     "metadata": {},
     "output_type": "display_data"
    },
    {
     "data": {
      "application/vnd.jupyter.widget-view+json": {
       "model_id": "5ea7ef369dbc4283a28f1d9d6b36f343",
       "version_major": 2,
       "version_minor": 0
      },
      "text/plain": [
       "Image (train):   0%|          | 0/10 [00:00<?, ?it/s]"
      ]
     },
     "metadata": {},
     "output_type": "display_data"
    },
    {
     "data": {
      "application/vnd.jupyter.widget-view+json": {
       "model_id": "62ac7f76b6b2410fbf14a8f32927a131",
       "version_major": 2,
       "version_minor": 0
      },
      "text/plain": [
       "Image (test):   0%|          | 0/10 [00:00<?, ?it/s]"
      ]
     },
     "metadata": {},
     "output_type": "display_data"
    },
    {
     "data": {
      "application/vnd.jupyter.widget-view+json": {
       "model_id": "607e06be3f0b4e7f8c46496fa81a97ab",
       "version_major": 2,
       "version_minor": 0
      },
      "text/plain": [
       "Image (train):   0%|          | 0/7 [00:00<?, ?it/s]"
      ]
     },
     "metadata": {},
     "output_type": "display_data"
    },
    {
     "data": {
      "application/vnd.jupyter.widget-view+json": {
       "model_id": "d051a96a52684169973c8fabb6e44fe3",
       "version_major": 2,
       "version_minor": 0
      },
      "text/plain": [
       "Image (test):   0%|          | 0/7 [00:00<?, ?it/s]"
      ]
     },
     "metadata": {},
     "output_type": "display_data"
    },
    {
     "data": {
      "application/vnd.jupyter.widget-view+json": {
       "model_id": "e448c0073991492689c988c3f94f18f1",
       "version_major": 2,
       "version_minor": 0
      },
      "text/plain": [
       "Image (train):   0%|          | 0/7 [00:00<?, ?it/s]"
      ]
     },
     "metadata": {},
     "output_type": "display_data"
    },
    {
     "data": {
      "application/vnd.jupyter.widget-view+json": {
       "model_id": "12e6513c1a8f4bb4831ea7472102b440",
       "version_major": 2,
       "version_minor": 0
      },
      "text/plain": [
       "Image (test):   0%|          | 0/7 [00:00<?, ?it/s]"
      ]
     },
     "metadata": {},
     "output_type": "display_data"
    },
    {
     "data": {
      "application/vnd.jupyter.widget-view+json": {
       "model_id": "b56f8d8cf7c140af81647e921b5fc1ae",
       "version_major": 2,
       "version_minor": 0
      },
      "text/plain": [
       "Image (train):   0%|          | 0/7 [00:00<?, ?it/s]"
      ]
     },
     "metadata": {},
     "output_type": "display_data"
    },
    {
     "data": {
      "application/vnd.jupyter.widget-view+json": {
       "model_id": "84c28278467c4d2f8e31259ab08561d1",
       "version_major": 2,
       "version_minor": 0
      },
      "text/plain": [
       "Image (test):   0%|          | 0/7 [00:00<?, ?it/s]"
      ]
     },
     "metadata": {},
     "output_type": "display_data"
    },
    {
     "data": {
      "application/vnd.jupyter.widget-view+json": {
       "model_id": "5f5392fb19a44ec08168bd43e42f8ee2",
       "version_major": 2,
       "version_minor": 0
      },
      "text/plain": [
       "Image (train):   0%|          | 0/6 [00:00<?, ?it/s]"
      ]
     },
     "metadata": {},
     "output_type": "display_data"
    },
    {
     "data": {
      "application/vnd.jupyter.widget-view+json": {
       "model_id": "a215177270f949499fc1366b87a16a36",
       "version_major": 2,
       "version_minor": 0
      },
      "text/plain": [
       "Image (test):   0%|          | 0/6 [00:00<?, ?it/s]"
      ]
     },
     "metadata": {},
     "output_type": "display_data"
    },
    {
     "data": {
      "application/vnd.jupyter.widget-view+json": {
       "model_id": "4eca5c2007d24268af38d67f00965139",
       "version_major": 2,
       "version_minor": 0
      },
      "text/plain": [
       "Image (train):   0%|          | 0/5 [00:00<?, ?it/s]"
      ]
     },
     "metadata": {},
     "output_type": "display_data"
    },
    {
     "data": {
      "application/vnd.jupyter.widget-view+json": {
       "model_id": "2d8d483b93d34c8bb0ba0135d563f56e",
       "version_major": 2,
       "version_minor": 0
      },
      "text/plain": [
       "Image (test):   0%|          | 0/5 [00:00<?, ?it/s]"
      ]
     },
     "metadata": {},
     "output_type": "display_data"
    },
    {
     "data": {
      "application/vnd.jupyter.widget-view+json": {
       "model_id": "9570825c838f4792b58a3952dd1888c0",
       "version_major": 2,
       "version_minor": 0
      },
      "text/plain": [
       "Image (train):   0%|          | 0/5 [00:00<?, ?it/s]"
      ]
     },
     "metadata": {},
     "output_type": "display_data"
    },
    {
     "data": {
      "application/vnd.jupyter.widget-view+json": {
       "model_id": "6d8af52db6be4b118ba5f74092f9809d",
       "version_major": 2,
       "version_minor": 0
      },
      "text/plain": [
       "Image (test):   0%|          | 0/5 [00:00<?, ?it/s]"
      ]
     },
     "metadata": {},
     "output_type": "display_data"
    },
    {
     "data": {
      "application/vnd.jupyter.widget-view+json": {
       "model_id": "3e64e04bfa3147c1a1ce9aaf14c746e7",
       "version_major": 2,
       "version_minor": 0
      },
      "text/plain": [
       "Image (train):   0%|          | 0/5 [00:00<?, ?it/s]"
      ]
     },
     "metadata": {},
     "output_type": "display_data"
    },
    {
     "data": {
      "application/vnd.jupyter.widget-view+json": {
       "model_id": "6e410378f290479b8f4dae0e57efb1ff",
       "version_major": 2,
       "version_minor": 0
      },
      "text/plain": [
       "Image (test):   0%|          | 0/5 [00:00<?, ?it/s]"
      ]
     },
     "metadata": {},
     "output_type": "display_data"
    },
    {
     "data": {
      "application/vnd.jupyter.widget-view+json": {
       "model_id": "54d6c1e9faf64c339983597ab85f34a7",
       "version_major": 2,
       "version_minor": 0
      },
      "text/plain": [
       "Image (train):   0%|          | 0/5 [00:00<?, ?it/s]"
      ]
     },
     "metadata": {},
     "output_type": "display_data"
    },
    {
     "data": {
      "application/vnd.jupyter.widget-view+json": {
       "model_id": "eed93f1cdbab4d1794bb17f677a93a4c",
       "version_major": 2,
       "version_minor": 0
      },
      "text/plain": [
       "Image (test):   0%|          | 0/5 [00:00<?, ?it/s]"
      ]
     },
     "metadata": {},
     "output_type": "display_data"
    },
    {
     "data": {
      "application/vnd.jupyter.widget-view+json": {
       "model_id": "415a60c6df094397b9a1c33027a0af3b",
       "version_major": 2,
       "version_minor": 0
      },
      "text/plain": [
       "Image (train):   0%|          | 0/5 [00:00<?, ?it/s]"
      ]
     },
     "metadata": {},
     "output_type": "display_data"
    },
    {
     "data": {
      "application/vnd.jupyter.widget-view+json": {
       "model_id": "6c1f9085330d496fbc11db3112ad64eb",
       "version_major": 2,
       "version_minor": 0
      },
      "text/plain": [
       "Image (test):   0%|          | 0/5 [00:00<?, ?it/s]"
      ]
     },
     "metadata": {},
     "output_type": "display_data"
    },
    {
     "data": {
      "application/vnd.jupyter.widget-view+json": {
       "model_id": "7e6f3d83e6f747e0a048687e615f9c40",
       "version_major": 2,
       "version_minor": 0
      },
      "text/plain": [
       "Image (train):   0%|          | 0/5 [00:00<?, ?it/s]"
      ]
     },
     "metadata": {},
     "output_type": "display_data"
    },
    {
     "data": {
      "application/vnd.jupyter.widget-view+json": {
       "model_id": "435c1a7ad2a9480ea22b35cc5dd04f5d",
       "version_major": 2,
       "version_minor": 0
      },
      "text/plain": [
       "Image (test):   0%|          | 0/5 [00:00<?, ?it/s]"
      ]
     },
     "metadata": {},
     "output_type": "display_data"
    },
    {
     "data": {
      "application/vnd.jupyter.widget-view+json": {
       "model_id": "d5d0e07309b44e3c8f196cebf37d0082",
       "version_major": 2,
       "version_minor": 0
      },
      "text/plain": [
       "Image (train):   0%|          | 0/5 [00:00<?, ?it/s]"
      ]
     },
     "metadata": {},
     "output_type": "display_data"
    },
    {
     "data": {
      "application/vnd.jupyter.widget-view+json": {
       "model_id": "ad54229ecbe74956859cc566b4c7d49f",
       "version_major": 2,
       "version_minor": 0
      },
      "text/plain": [
       "Image (test):   0%|          | 0/5 [00:00<?, ?it/s]"
      ]
     },
     "metadata": {},
     "output_type": "display_data"
    },
    {
     "data": {
      "application/vnd.jupyter.widget-view+json": {
       "model_id": "f0e3962cfe874f529d06e0927803fd99",
       "version_major": 2,
       "version_minor": 0
      },
      "text/plain": [
       "Attempt:   0%|          | 0/20 [00:00<?, ?it/s]"
      ]
     },
     "metadata": {},
     "output_type": "display_data"
    },
    {
     "data": {
      "application/vnd.jupyter.widget-view+json": {
       "model_id": "70488956c08a440fac24b8d1e4016a1a",
       "version_major": 2,
       "version_minor": 0
      },
      "text/plain": [
       "Image (train):   0%|          | 0/1000 [00:00<?, ?it/s]"
      ]
     },
     "metadata": {},
     "output_type": "display_data"
    },
    {
     "data": {
      "application/vnd.jupyter.widget-view+json": {
       "model_id": "3110635248cf4b2f8ab374f8fc9ff250",
       "version_major": 2,
       "version_minor": 0
      },
      "text/plain": [
       "Image (test):   0%|          | 0/1000 [00:00<?, ?it/s]"
      ]
     },
     "metadata": {},
     "output_type": "display_data"
    },
    {
     "data": {
      "application/vnd.jupyter.widget-view+json": {
       "model_id": "388962d857074f7498faae9ad6e6e2a8",
       "version_major": 2,
       "version_minor": 0
      },
      "text/plain": [
       "Image (train):   0%|          | 0/25 [00:00<?, ?it/s]"
      ]
     },
     "metadata": {},
     "output_type": "display_data"
    },
    {
     "data": {
      "application/vnd.jupyter.widget-view+json": {
       "model_id": "a7fff01e75474491ae6b1a42637ceb24",
       "version_major": 2,
       "version_minor": 0
      },
      "text/plain": [
       "Image (test):   0%|          | 0/25 [00:00<?, ?it/s]"
      ]
     },
     "metadata": {},
     "output_type": "display_data"
    },
    {
     "data": {
      "application/vnd.jupyter.widget-view+json": {
       "model_id": "2ae1aa235f0f4cb48ea5858caa5ba956",
       "version_major": 2,
       "version_minor": 0
      },
      "text/plain": [
       "Image (train):   0%|          | 0/24 [00:00<?, ?it/s]"
      ]
     },
     "metadata": {},
     "output_type": "display_data"
    },
    {
     "data": {
      "application/vnd.jupyter.widget-view+json": {
       "model_id": "f2370258bf7f4f8cab8f33570e8b8f61",
       "version_major": 2,
       "version_minor": 0
      },
      "text/plain": [
       "Image (test):   0%|          | 0/24 [00:00<?, ?it/s]"
      ]
     },
     "metadata": {},
     "output_type": "display_data"
    },
    {
     "data": {
      "application/vnd.jupyter.widget-view+json": {
       "model_id": "dd3167580f4f400fbca0b186d0fe07f6",
       "version_major": 2,
       "version_minor": 0
      },
      "text/plain": [
       "Image (train):   0%|          | 0/22 [00:00<?, ?it/s]"
      ]
     },
     "metadata": {},
     "output_type": "display_data"
    },
    {
     "data": {
      "application/vnd.jupyter.widget-view+json": {
       "model_id": "24957887231e4e7da3fb4f2318d040be",
       "version_major": 2,
       "version_minor": 0
      },
      "text/plain": [
       "Image (test):   0%|          | 0/22 [00:00<?, ?it/s]"
      ]
     },
     "metadata": {},
     "output_type": "display_data"
    },
    {
     "data": {
      "application/vnd.jupyter.widget-view+json": {
       "model_id": "fb382b986a054c1989f5f0e28476cd60",
       "version_major": 2,
       "version_minor": 0
      },
      "text/plain": [
       "Image (train):   0%|          | 0/17 [00:00<?, ?it/s]"
      ]
     },
     "metadata": {},
     "output_type": "display_data"
    },
    {
     "data": {
      "application/vnd.jupyter.widget-view+json": {
       "model_id": "408f334dfba245b9bb99004693fa3623",
       "version_major": 2,
       "version_minor": 0
      },
      "text/plain": [
       "Image (test):   0%|          | 0/17 [00:00<?, ?it/s]"
      ]
     },
     "metadata": {},
     "output_type": "display_data"
    },
    {
     "data": {
      "application/vnd.jupyter.widget-view+json": {
       "model_id": "732ada17bee743fcaa4e7853c8ac5af9",
       "version_major": 2,
       "version_minor": 0
      },
      "text/plain": [
       "Image (train):   0%|          | 0/17 [00:00<?, ?it/s]"
      ]
     },
     "metadata": {},
     "output_type": "display_data"
    },
    {
     "data": {
      "application/vnd.jupyter.widget-view+json": {
       "model_id": "92a6db1681b04de894e674eaef322af4",
       "version_major": 2,
       "version_minor": 0
      },
      "text/plain": [
       "Image (test):   0%|          | 0/17 [00:00<?, ?it/s]"
      ]
     },
     "metadata": {},
     "output_type": "display_data"
    },
    {
     "data": {
      "application/vnd.jupyter.widget-view+json": {
       "model_id": "e80344c49b94447ca90af1badbed0cf7",
       "version_major": 2,
       "version_minor": 0
      },
      "text/plain": [
       "Image (train):   0%|          | 0/13 [00:00<?, ?it/s]"
      ]
     },
     "metadata": {},
     "output_type": "display_data"
    },
    {
     "data": {
      "application/vnd.jupyter.widget-view+json": {
       "model_id": "bc662547c0894cf884a904cfb2604b1e",
       "version_major": 2,
       "version_minor": 0
      },
      "text/plain": [
       "Image (test):   0%|          | 0/13 [00:00<?, ?it/s]"
      ]
     },
     "metadata": {},
     "output_type": "display_data"
    },
    {
     "data": {
      "application/vnd.jupyter.widget-view+json": {
       "model_id": "ce0bc99d22c34cff992870352ea399b2",
       "version_major": 2,
       "version_minor": 0
      },
      "text/plain": [
       "Image (train):   0%|          | 0/13 [00:00<?, ?it/s]"
      ]
     },
     "metadata": {},
     "output_type": "display_data"
    },
    {
     "data": {
      "application/vnd.jupyter.widget-view+json": {
       "model_id": "241c08600d714b54b87e3e80128de701",
       "version_major": 2,
       "version_minor": 0
      },
      "text/plain": [
       "Image (test):   0%|          | 0/13 [00:00<?, ?it/s]"
      ]
     },
     "metadata": {},
     "output_type": "display_data"
    },
    {
     "data": {
      "application/vnd.jupyter.widget-view+json": {
       "model_id": "36748dcfdae54107a0faf4b89a9fbc49",
       "version_major": 2,
       "version_minor": 0
      },
      "text/plain": [
       "Image (train):   0%|          | 0/11 [00:00<?, ?it/s]"
      ]
     },
     "metadata": {},
     "output_type": "display_data"
    },
    {
     "data": {
      "application/vnd.jupyter.widget-view+json": {
       "model_id": "01794234fadc49fdb4fbb2584b455069",
       "version_major": 2,
       "version_minor": 0
      },
      "text/plain": [
       "Image (test):   0%|          | 0/11 [00:00<?, ?it/s]"
      ]
     },
     "metadata": {},
     "output_type": "display_data"
    },
    {
     "data": {
      "application/vnd.jupyter.widget-view+json": {
       "model_id": "80c0bd67de314b128603ece6588312e5",
       "version_major": 2,
       "version_minor": 0
      },
      "text/plain": [
       "Image (train):   0%|          | 0/11 [00:00<?, ?it/s]"
      ]
     },
     "metadata": {},
     "output_type": "display_data"
    },
    {
     "data": {
      "application/vnd.jupyter.widget-view+json": {
       "model_id": "1a15bdfdb0864226a66e39301e926c65",
       "version_major": 2,
       "version_minor": 0
      },
      "text/plain": [
       "Image (test):   0%|          | 0/11 [00:00<?, ?it/s]"
      ]
     },
     "metadata": {},
     "output_type": "display_data"
    },
    {
     "data": {
      "application/vnd.jupyter.widget-view+json": {
       "model_id": "6b0ce51057c04f1fa8c4e7c47e79bdeb",
       "version_major": 2,
       "version_minor": 0
      },
      "text/plain": [
       "Image (train):   0%|          | 0/10 [00:00<?, ?it/s]"
      ]
     },
     "metadata": {},
     "output_type": "display_data"
    },
    {
     "data": {
      "application/vnd.jupyter.widget-view+json": {
       "model_id": "09488569e35e46858052276b0780cc83",
       "version_major": 2,
       "version_minor": 0
      },
      "text/plain": [
       "Image (test):   0%|          | 0/10 [00:00<?, ?it/s]"
      ]
     },
     "metadata": {},
     "output_type": "display_data"
    },
    {
     "data": {
      "application/vnd.jupyter.widget-view+json": {
       "model_id": "f966c3f43d6246738d93d9da6b3fb7f9",
       "version_major": 2,
       "version_minor": 0
      },
      "text/plain": [
       "Image (train):   0%|          | 0/10 [00:00<?, ?it/s]"
      ]
     },
     "metadata": {},
     "output_type": "display_data"
    },
    {
     "data": {
      "application/vnd.jupyter.widget-view+json": {
       "model_id": "89c4e4001b1e4dac97de2d30fd36290e",
       "version_major": 2,
       "version_minor": 0
      },
      "text/plain": [
       "Image (test):   0%|          | 0/10 [00:00<?, ?it/s]"
      ]
     },
     "metadata": {},
     "output_type": "display_data"
    },
    {
     "data": {
      "application/vnd.jupyter.widget-view+json": {
       "model_id": "9b0d0176447b47ba83c3435058b4efd0",
       "version_major": 2,
       "version_minor": 0
      },
      "text/plain": [
       "Image (train):   0%|          | 0/8 [00:00<?, ?it/s]"
      ]
     },
     "metadata": {},
     "output_type": "display_data"
    },
    {
     "data": {
      "application/vnd.jupyter.widget-view+json": {
       "model_id": "bd34b1b2a424441997ad1e207ce42d99",
       "version_major": 2,
       "version_minor": 0
      },
      "text/plain": [
       "Image (test):   0%|          | 0/8 [00:00<?, ?it/s]"
      ]
     },
     "metadata": {},
     "output_type": "display_data"
    },
    {
     "data": {
      "application/vnd.jupyter.widget-view+json": {
       "model_id": "aead9f5a7a3149d1b9f4c5446f3a18de",
       "version_major": 2,
       "version_minor": 0
      },
      "text/plain": [
       "Image (train):   0%|          | 0/8 [00:00<?, ?it/s]"
      ]
     },
     "metadata": {},
     "output_type": "display_data"
    },
    {
     "data": {
      "application/vnd.jupyter.widget-view+json": {
       "model_id": "e23284b64437479a8ba2d77cbd769ea3",
       "version_major": 2,
       "version_minor": 0
      },
      "text/plain": [
       "Image (test):   0%|          | 0/8 [00:00<?, ?it/s]"
      ]
     },
     "metadata": {},
     "output_type": "display_data"
    },
    {
     "data": {
      "application/vnd.jupyter.widget-view+json": {
       "model_id": "f47aa9abf03e4b508bcbd9802a914bff",
       "version_major": 2,
       "version_minor": 0
      },
      "text/plain": [
       "Image (train):   0%|          | 0/6 [00:00<?, ?it/s]"
      ]
     },
     "metadata": {},
     "output_type": "display_data"
    },
    {
     "data": {
      "application/vnd.jupyter.widget-view+json": {
       "model_id": "03a50caa1a944da6876cca1ef6d596ea",
       "version_major": 2,
       "version_minor": 0
      },
      "text/plain": [
       "Image (test):   0%|          | 0/6 [00:00<?, ?it/s]"
      ]
     },
     "metadata": {},
     "output_type": "display_data"
    },
    {
     "data": {
      "application/vnd.jupyter.widget-view+json": {
       "model_id": "77b3d635c652408f87ba2b32d3fd278a",
       "version_major": 2,
       "version_minor": 0
      },
      "text/plain": [
       "Image (train):   0%|          | 0/5 [00:00<?, ?it/s]"
      ]
     },
     "metadata": {},
     "output_type": "display_data"
    },
    {
     "data": {
      "application/vnd.jupyter.widget-view+json": {
       "model_id": "7fdf1c1496e04a9daa2dbe61a431d173",
       "version_major": 2,
       "version_minor": 0
      },
      "text/plain": [
       "Image (test):   0%|          | 0/5 [00:00<?, ?it/s]"
      ]
     },
     "metadata": {},
     "output_type": "display_data"
    },
    {
     "data": {
      "application/vnd.jupyter.widget-view+json": {
       "model_id": "7c0170ab55674505ac31ab2d449507f8",
       "version_major": 2,
       "version_minor": 0
      },
      "text/plain": [
       "Image (train):   0%|          | 0/5 [00:00<?, ?it/s]"
      ]
     },
     "metadata": {},
     "output_type": "display_data"
    },
    {
     "data": {
      "application/vnd.jupyter.widget-view+json": {
       "model_id": "4a8e6808db534f10b654996ab828d119",
       "version_major": 2,
       "version_minor": 0
      },
      "text/plain": [
       "Image (test):   0%|          | 0/5 [00:00<?, ?it/s]"
      ]
     },
     "metadata": {},
     "output_type": "display_data"
    },
    {
     "data": {
      "application/vnd.jupyter.widget-view+json": {
       "model_id": "00652982d5a54d5294208430b07105e0",
       "version_major": 2,
       "version_minor": 0
      },
      "text/plain": [
       "Image (train):   0%|          | 0/5 [00:00<?, ?it/s]"
      ]
     },
     "metadata": {},
     "output_type": "display_data"
    },
    {
     "data": {
      "application/vnd.jupyter.widget-view+json": {
       "model_id": "68faec4d704a4a248c504e31d463c248",
       "version_major": 2,
       "version_minor": 0
      },
      "text/plain": [
       "Image (test):   0%|          | 0/5 [00:00<?, ?it/s]"
      ]
     },
     "metadata": {},
     "output_type": "display_data"
    },
    {
     "data": {
      "application/vnd.jupyter.widget-view+json": {
       "model_id": "7ef4710f6f0641fa9159615dce19b48e",
       "version_major": 2,
       "version_minor": 0
      },
      "text/plain": [
       "Image (train):   0%|          | 0/4 [00:00<?, ?it/s]"
      ]
     },
     "metadata": {},
     "output_type": "display_data"
    },
    {
     "data": {
      "application/vnd.jupyter.widget-view+json": {
       "model_id": "78b0960efdf948f79da9d9386d7f8b2a",
       "version_major": 2,
       "version_minor": 0
      },
      "text/plain": [
       "Image (test):   0%|          | 0/4 [00:00<?, ?it/s]"
      ]
     },
     "metadata": {},
     "output_type": "display_data"
    },
    {
     "data": {
      "application/vnd.jupyter.widget-view+json": {
       "model_id": "0205c9fa8e2a4bea9ce84cf6a52cd099",
       "version_major": 2,
       "version_minor": 0
      },
      "text/plain": [
       "Image (train):   0%|          | 0/4 [00:00<?, ?it/s]"
      ]
     },
     "metadata": {},
     "output_type": "display_data"
    },
    {
     "data": {
      "application/vnd.jupyter.widget-view+json": {
       "model_id": "3eac886d186847f6bd43eaa25dd1fa31",
       "version_major": 2,
       "version_minor": 0
      },
      "text/plain": [
       "Image (test):   0%|          | 0/4 [00:00<?, ?it/s]"
      ]
     },
     "metadata": {},
     "output_type": "display_data"
    },
    {
     "data": {
      "application/vnd.jupyter.widget-view+json": {
       "model_id": "68756096b77146dbb3e3dbd5026e325d",
       "version_major": 2,
       "version_minor": 0
      },
      "text/plain": [
       "Attempt:   0%|          | 0/20 [00:00<?, ?it/s]"
      ]
     },
     "metadata": {},
     "output_type": "display_data"
    },
    {
     "data": {
      "application/vnd.jupyter.widget-view+json": {
       "model_id": "55883b647f62408aaf924056e932ead9",
       "version_major": 2,
       "version_minor": 0
      },
      "text/plain": [
       "Image (train):   0%|          | 0/1000 [00:00<?, ?it/s]"
      ]
     },
     "metadata": {},
     "output_type": "display_data"
    },
    {
     "data": {
      "application/vnd.jupyter.widget-view+json": {
       "model_id": "b67c667e343c4c759577dfd2a9f8bf9f",
       "version_major": 2,
       "version_minor": 0
      },
      "text/plain": [
       "Image (test):   0%|          | 0/1000 [00:00<?, ?it/s]"
      ]
     },
     "metadata": {},
     "output_type": "display_data"
    },
    {
     "data": {
      "application/vnd.jupyter.widget-view+json": {
       "model_id": "b0a7162727d9498da7d8edc29762bd38",
       "version_major": 2,
       "version_minor": 0
      },
      "text/plain": [
       "Image (train):   0%|          | 0/17 [00:00<?, ?it/s]"
      ]
     },
     "metadata": {},
     "output_type": "display_data"
    },
    {
     "data": {
      "application/vnd.jupyter.widget-view+json": {
       "model_id": "ed0d4b97939d4e7f82e85f6ef08a5226",
       "version_major": 2,
       "version_minor": 0
      },
      "text/plain": [
       "Image (test):   0%|          | 0/17 [00:00<?, ?it/s]"
      ]
     },
     "metadata": {},
     "output_type": "display_data"
    },
    {
     "data": {
      "application/vnd.jupyter.widget-view+json": {
       "model_id": "2734422e3741457ab620c0276db3c595",
       "version_major": 2,
       "version_minor": 0
      },
      "text/plain": [
       "Image (train):   0%|          | 0/13 [00:00<?, ?it/s]"
      ]
     },
     "metadata": {},
     "output_type": "display_data"
    },
    {
     "data": {
      "application/vnd.jupyter.widget-view+json": {
       "model_id": "f29d5fc667954f458b219ab5e3aa9733",
       "version_major": 2,
       "version_minor": 0
      },
      "text/plain": [
       "Image (test):   0%|          | 0/13 [00:00<?, ?it/s]"
      ]
     },
     "metadata": {},
     "output_type": "display_data"
    },
    {
     "data": {
      "application/vnd.jupyter.widget-view+json": {
       "model_id": "5774e4316d654a46a52f6287d94f1540",
       "version_major": 2,
       "version_minor": 0
      },
      "text/plain": [
       "Image (train):   0%|          | 0/11 [00:00<?, ?it/s]"
      ]
     },
     "metadata": {},
     "output_type": "display_data"
    },
    {
     "data": {
      "application/vnd.jupyter.widget-view+json": {
       "model_id": "560c88132e634731a19f570af616da01",
       "version_major": 2,
       "version_minor": 0
      },
      "text/plain": [
       "Image (test):   0%|          | 0/11 [00:00<?, ?it/s]"
      ]
     },
     "metadata": {},
     "output_type": "display_data"
    },
    {
     "data": {
      "application/vnd.jupyter.widget-view+json": {
       "model_id": "fc3fa8eb1f144451ae5b897cb420b20a",
       "version_major": 2,
       "version_minor": 0
      },
      "text/plain": [
       "Image (train):   0%|          | 0/9 [00:00<?, ?it/s]"
      ]
     },
     "metadata": {},
     "output_type": "display_data"
    },
    {
     "data": {
      "application/vnd.jupyter.widget-view+json": {
       "model_id": "3c4646b78a354f9283034b60a011a051",
       "version_major": 2,
       "version_minor": 0
      },
      "text/plain": [
       "Image (test):   0%|          | 0/9 [00:00<?, ?it/s]"
      ]
     },
     "metadata": {},
     "output_type": "display_data"
    },
    {
     "data": {
      "application/vnd.jupyter.widget-view+json": {
       "model_id": "1a8ef5d0b23441a09a866b00703716ad",
       "version_major": 2,
       "version_minor": 0
      },
      "text/plain": [
       "Image (train):   0%|          | 0/7 [00:00<?, ?it/s]"
      ]
     },
     "metadata": {},
     "output_type": "display_data"
    },
    {
     "data": {
      "application/vnd.jupyter.widget-view+json": {
       "model_id": "18848e49df9f4892a13aba0c060e074d",
       "version_major": 2,
       "version_minor": 0
      },
      "text/plain": [
       "Image (test):   0%|          | 0/7 [00:00<?, ?it/s]"
      ]
     },
     "metadata": {},
     "output_type": "display_data"
    },
    {
     "data": {
      "application/vnd.jupyter.widget-view+json": {
       "model_id": "457b7b31b301426eb420ee709e8a7ddc",
       "version_major": 2,
       "version_minor": 0
      },
      "text/plain": [
       "Image (train):   0%|          | 0/6 [00:00<?, ?it/s]"
      ]
     },
     "metadata": {},
     "output_type": "display_data"
    },
    {
     "data": {
      "application/vnd.jupyter.widget-view+json": {
       "model_id": "0a747cd8b2444a85b8dd2b569b836cee",
       "version_major": 2,
       "version_minor": 0
      },
      "text/plain": [
       "Image (test):   0%|          | 0/6 [00:00<?, ?it/s]"
      ]
     },
     "metadata": {},
     "output_type": "display_data"
    },
    {
     "data": {
      "application/vnd.jupyter.widget-view+json": {
       "model_id": "1ddc5727e38a4b39be9c29452f885915",
       "version_major": 2,
       "version_minor": 0
      },
      "text/plain": [
       "Image (train):   0%|          | 0/6 [00:00<?, ?it/s]"
      ]
     },
     "metadata": {},
     "output_type": "display_data"
    },
    {
     "data": {
      "application/vnd.jupyter.widget-view+json": {
       "model_id": "3f73c6c4460244278a09270a9402b817",
       "version_major": 2,
       "version_minor": 0
      },
      "text/plain": [
       "Image (test):   0%|          | 0/6 [00:00<?, ?it/s]"
      ]
     },
     "metadata": {},
     "output_type": "display_data"
    },
    {
     "data": {
      "application/vnd.jupyter.widget-view+json": {
       "model_id": "a56d0bda8215424491ffdc323b2ff48e",
       "version_major": 2,
       "version_minor": 0
      },
      "text/plain": [
       "Image (train):   0%|          | 0/6 [00:00<?, ?it/s]"
      ]
     },
     "metadata": {},
     "output_type": "display_data"
    },
    {
     "data": {
      "application/vnd.jupyter.widget-view+json": {
       "model_id": "c1dd548b27bc4765b345d1affe4187d8",
       "version_major": 2,
       "version_minor": 0
      },
      "text/plain": [
       "Image (test):   0%|          | 0/6 [00:00<?, ?it/s]"
      ]
     },
     "metadata": {},
     "output_type": "display_data"
    },
    {
     "data": {
      "application/vnd.jupyter.widget-view+json": {
       "model_id": "5ecb8a1dd4274a28b61fed94687087a5",
       "version_major": 2,
       "version_minor": 0
      },
      "text/plain": [
       "Image (train):   0%|          | 0/5 [00:00<?, ?it/s]"
      ]
     },
     "metadata": {},
     "output_type": "display_data"
    },
    {
     "data": {
      "application/vnd.jupyter.widget-view+json": {
       "model_id": "e02d9d971a7141f99fb610d45da64b87",
       "version_major": 2,
       "version_minor": 0
      },
      "text/plain": [
       "Image (test):   0%|          | 0/5 [00:00<?, ?it/s]"
      ]
     },
     "metadata": {},
     "output_type": "display_data"
    },
    {
     "data": {
      "application/vnd.jupyter.widget-view+json": {
       "model_id": "3a6955616f3f48c59ece62280fa3612d",
       "version_major": 2,
       "version_minor": 0
      },
      "text/plain": [
       "Image (train):   0%|          | 0/4 [00:00<?, ?it/s]"
      ]
     },
     "metadata": {},
     "output_type": "display_data"
    },
    {
     "data": {
      "application/vnd.jupyter.widget-view+json": {
       "model_id": "ebc4e7593a9842bd9ae959d7a8ff6586",
       "version_major": 2,
       "version_minor": 0
      },
      "text/plain": [
       "Image (test):   0%|          | 0/4 [00:00<?, ?it/s]"
      ]
     },
     "metadata": {},
     "output_type": "display_data"
    },
    {
     "data": {
      "application/vnd.jupyter.widget-view+json": {
       "model_id": "1f2b1fa2461c4495886793a315c3bb2b",
       "version_major": 2,
       "version_minor": 0
      },
      "text/plain": [
       "Image (train):   0%|          | 0/3 [00:00<?, ?it/s]"
      ]
     },
     "metadata": {},
     "output_type": "display_data"
    },
    {
     "data": {
      "application/vnd.jupyter.widget-view+json": {
       "model_id": "70571701c57c464f82890b0671248c50",
       "version_major": 2,
       "version_minor": 0
      },
      "text/plain": [
       "Image (test):   0%|          | 0/3 [00:00<?, ?it/s]"
      ]
     },
     "metadata": {},
     "output_type": "display_data"
    },
    {
     "data": {
      "application/vnd.jupyter.widget-view+json": {
       "model_id": "0b9a455098804d09a05aa3bacad4b238",
       "version_major": 2,
       "version_minor": 0
      },
      "text/plain": [
       "Image (train):   0%|          | 0/3 [00:00<?, ?it/s]"
      ]
     },
     "metadata": {},
     "output_type": "display_data"
    },
    {
     "data": {
      "application/vnd.jupyter.widget-view+json": {
       "model_id": "9e01fdf72a254822ba09edb127ad822c",
       "version_major": 2,
       "version_minor": 0
      },
      "text/plain": [
       "Image (test):   0%|          | 0/3 [00:00<?, ?it/s]"
      ]
     },
     "metadata": {},
     "output_type": "display_data"
    },
    {
     "data": {
      "application/vnd.jupyter.widget-view+json": {
       "model_id": "891fcd48a3924b4d889dc29212208bb0",
       "version_major": 2,
       "version_minor": 0
      },
      "text/plain": [
       "Image (train):   0%|          | 0/3 [00:00<?, ?it/s]"
      ]
     },
     "metadata": {},
     "output_type": "display_data"
    },
    {
     "data": {
      "application/vnd.jupyter.widget-view+json": {
       "model_id": "a7c4f15c344045bbb1fd3585301a1abc",
       "version_major": 2,
       "version_minor": 0
      },
      "text/plain": [
       "Image (test):   0%|          | 0/3 [00:00<?, ?it/s]"
      ]
     },
     "metadata": {},
     "output_type": "display_data"
    },
    {
     "data": {
      "application/vnd.jupyter.widget-view+json": {
       "model_id": "8cff56ce7bf94a26a6deccadf037f818",
       "version_major": 2,
       "version_minor": 0
      },
      "text/plain": [
       "Image (train):   0%|          | 0/3 [00:00<?, ?it/s]"
      ]
     },
     "metadata": {},
     "output_type": "display_data"
    },
    {
     "data": {
      "application/vnd.jupyter.widget-view+json": {
       "model_id": "00e741d41d9f4225bea0dcb7ca4f7657",
       "version_major": 2,
       "version_minor": 0
      },
      "text/plain": [
       "Image (test):   0%|          | 0/3 [00:00<?, ?it/s]"
      ]
     },
     "metadata": {},
     "output_type": "display_data"
    },
    {
     "data": {
      "application/vnd.jupyter.widget-view+json": {
       "model_id": "f838a0cb771947598f49a9801f0d1848",
       "version_major": 2,
       "version_minor": 0
      },
      "text/plain": [
       "Image (train):   0%|          | 0/3 [00:00<?, ?it/s]"
      ]
     },
     "metadata": {},
     "output_type": "display_data"
    },
    {
     "data": {
      "application/vnd.jupyter.widget-view+json": {
       "model_id": "54b75e2430024530ad176aa6ff814a78",
       "version_major": 2,
       "version_minor": 0
      },
      "text/plain": [
       "Image (test):   0%|          | 0/3 [00:00<?, ?it/s]"
      ]
     },
     "metadata": {},
     "output_type": "display_data"
    },
    {
     "data": {
      "application/vnd.jupyter.widget-view+json": {
       "model_id": "dbc2a07f8d944af6ae4e34d98fdcc8a3",
       "version_major": 2,
       "version_minor": 0
      },
      "text/plain": [
       "Image (train):   0%|          | 0/3 [00:00<?, ?it/s]"
      ]
     },
     "metadata": {},
     "output_type": "display_data"
    },
    {
     "data": {
      "application/vnd.jupyter.widget-view+json": {
       "model_id": "1bd333c528904b5bae5b0401a76f15cf",
       "version_major": 2,
       "version_minor": 0
      },
      "text/plain": [
       "Image (test):   0%|          | 0/3 [00:00<?, ?it/s]"
      ]
     },
     "metadata": {},
     "output_type": "display_data"
    },
    {
     "data": {
      "application/vnd.jupyter.widget-view+json": {
       "model_id": "f945a83d78bc47e7b877fab4987b7da0",
       "version_major": 2,
       "version_minor": 0
      },
      "text/plain": [
       "Image (train):   0%|          | 0/3 [00:00<?, ?it/s]"
      ]
     },
     "metadata": {},
     "output_type": "display_data"
    },
    {
     "data": {
      "application/vnd.jupyter.widget-view+json": {
       "model_id": "8f73101c46ff4c11ac95dc8d277c90aa",
       "version_major": 2,
       "version_minor": 0
      },
      "text/plain": [
       "Image (test):   0%|          | 0/3 [00:00<?, ?it/s]"
      ]
     },
     "metadata": {},
     "output_type": "display_data"
    },
    {
     "data": {
      "application/vnd.jupyter.widget-view+json": {
       "model_id": "d56cbd7787dc43fbaf13bee32910246a",
       "version_major": 2,
       "version_minor": 0
      },
      "text/plain": [
       "Image (train):   0%|          | 0/3 [00:00<?, ?it/s]"
      ]
     },
     "metadata": {},
     "output_type": "display_data"
    },
    {
     "data": {
      "application/vnd.jupyter.widget-view+json": {
       "model_id": "05471f21ec434740965a180ae9b500b7",
       "version_major": 2,
       "version_minor": 0
      },
      "text/plain": [
       "Image (test):   0%|          | 0/3 [00:00<?, ?it/s]"
      ]
     },
     "metadata": {},
     "output_type": "display_data"
    },
    {
     "data": {
      "application/vnd.jupyter.widget-view+json": {
       "model_id": "0c6c3269f62b474ba95aee8ad385ddbd",
       "version_major": 2,
       "version_minor": 0
      },
      "text/plain": [
       "Image (train):   0%|          | 0/3 [00:00<?, ?it/s]"
      ]
     },
     "metadata": {},
     "output_type": "display_data"
    },
    {
     "data": {
      "application/vnd.jupyter.widget-view+json": {
       "model_id": "633663372f0b4862b8e8f2c55cbe5f31",
       "version_major": 2,
       "version_minor": 0
      },
      "text/plain": [
       "Image (test):   0%|          | 0/3 [00:00<?, ?it/s]"
      ]
     },
     "metadata": {},
     "output_type": "display_data"
    },
    {
     "data": {
      "application/vnd.jupyter.widget-view+json": {
       "model_id": "e0d918e1cb214ca2a222ab00f016d035",
       "version_major": 2,
       "version_minor": 0
      },
      "text/plain": [
       "Attempt:   0%|          | 0/20 [00:00<?, ?it/s]"
      ]
     },
     "metadata": {},
     "output_type": "display_data"
    },
    {
     "data": {
      "application/vnd.jupyter.widget-view+json": {
       "model_id": "f7816858a3d34f9f8840398e93419e8f",
       "version_major": 2,
       "version_minor": 0
      },
      "text/plain": [
       "Image (train):   0%|          | 0/1000 [00:00<?, ?it/s]"
      ]
     },
     "metadata": {},
     "output_type": "display_data"
    },
    {
     "data": {
      "application/vnd.jupyter.widget-view+json": {
       "model_id": "c3480c20b69c4f19aeca4a085c01d7b6",
       "version_major": 2,
       "version_minor": 0
      },
      "text/plain": [
       "Image (test):   0%|          | 0/1000 [00:00<?, ?it/s]"
      ]
     },
     "metadata": {},
     "output_type": "display_data"
    },
    {
     "data": {
      "application/vnd.jupyter.widget-view+json": {
       "model_id": "2fb3c3bc4862454c8680e572cdb113a6",
       "version_major": 2,
       "version_minor": 0
      },
      "text/plain": [
       "Image (train):   0%|          | 0/30 [00:00<?, ?it/s]"
      ]
     },
     "metadata": {},
     "output_type": "display_data"
    },
    {
     "data": {
      "application/vnd.jupyter.widget-view+json": {
       "model_id": "15fa309dc8b542b8879896d364fadc32",
       "version_major": 2,
       "version_minor": 0
      },
      "text/plain": [
       "Image (test):   0%|          | 0/30 [00:00<?, ?it/s]"
      ]
     },
     "metadata": {},
     "output_type": "display_data"
    },
    {
     "data": {
      "application/vnd.jupyter.widget-view+json": {
       "model_id": "8930708d389f471397eee584b18878b6",
       "version_major": 2,
       "version_minor": 0
      },
      "text/plain": [
       "Image (train):   0%|          | 0/23 [00:00<?, ?it/s]"
      ]
     },
     "metadata": {},
     "output_type": "display_data"
    },
    {
     "data": {
      "application/vnd.jupyter.widget-view+json": {
       "model_id": "d6aee8b44e03496e8af1b9e7bceaf84d",
       "version_major": 2,
       "version_minor": 0
      },
      "text/plain": [
       "Image (test):   0%|          | 0/23 [00:00<?, ?it/s]"
      ]
     },
     "metadata": {},
     "output_type": "display_data"
    },
    {
     "data": {
      "application/vnd.jupyter.widget-view+json": {
       "model_id": "14850e8e5e064a4bb65a073deafa12cb",
       "version_major": 2,
       "version_minor": 0
      },
      "text/plain": [
       "Image (train):   0%|          | 0/21 [00:00<?, ?it/s]"
      ]
     },
     "metadata": {},
     "output_type": "display_data"
    },
    {
     "data": {
      "application/vnd.jupyter.widget-view+json": {
       "model_id": "8e4da11aadc64c03bb9894391014ef7c",
       "version_major": 2,
       "version_minor": 0
      },
      "text/plain": [
       "Image (test):   0%|          | 0/21 [00:00<?, ?it/s]"
      ]
     },
     "metadata": {},
     "output_type": "display_data"
    },
    {
     "data": {
      "application/vnd.jupyter.widget-view+json": {
       "model_id": "41d44de1a54043e8a60919fb5d3c3b7a",
       "version_major": 2,
       "version_minor": 0
      },
      "text/plain": [
       "Image (train):   0%|          | 0/16 [00:00<?, ?it/s]"
      ]
     },
     "metadata": {},
     "output_type": "display_data"
    },
    {
     "data": {
      "application/vnd.jupyter.widget-view+json": {
       "model_id": "ba542372f78c4fbd86995b86058e272e",
       "version_major": 2,
       "version_minor": 0
      },
      "text/plain": [
       "Image (test):   0%|          | 0/16 [00:00<?, ?it/s]"
      ]
     },
     "metadata": {},
     "output_type": "display_data"
    },
    {
     "data": {
      "application/vnd.jupyter.widget-view+json": {
       "model_id": "6f85fae4a33842718b058e261b0ad6db",
       "version_major": 2,
       "version_minor": 0
      },
      "text/plain": [
       "Image (train):   0%|          | 0/13 [00:00<?, ?it/s]"
      ]
     },
     "metadata": {},
     "output_type": "display_data"
    },
    {
     "data": {
      "application/vnd.jupyter.widget-view+json": {
       "model_id": "e7984061ce684f8e97a634ef9f8bde5f",
       "version_major": 2,
       "version_minor": 0
      },
      "text/plain": [
       "Image (test):   0%|          | 0/13 [00:00<?, ?it/s]"
      ]
     },
     "metadata": {},
     "output_type": "display_data"
    },
    {
     "data": {
      "application/vnd.jupyter.widget-view+json": {
       "model_id": "58dae6d7c6fc4dcab62d6433fc022bbe",
       "version_major": 2,
       "version_minor": 0
      },
      "text/plain": [
       "Image (train):   0%|          | 0/9 [00:00<?, ?it/s]"
      ]
     },
     "metadata": {},
     "output_type": "display_data"
    },
    {
     "data": {
      "application/vnd.jupyter.widget-view+json": {
       "model_id": "e8c847de497742aaa33c106f22948e16",
       "version_major": 2,
       "version_minor": 0
      },
      "text/plain": [
       "Image (test):   0%|          | 0/9 [00:00<?, ?it/s]"
      ]
     },
     "metadata": {},
     "output_type": "display_data"
    },
    {
     "data": {
      "application/vnd.jupyter.widget-view+json": {
       "model_id": "55561f0b938c4ffd96deaff07bce6ef3",
       "version_major": 2,
       "version_minor": 0
      },
      "text/plain": [
       "Image (train):   0%|          | 0/9 [00:00<?, ?it/s]"
      ]
     },
     "metadata": {},
     "output_type": "display_data"
    },
    {
     "data": {
      "application/vnd.jupyter.widget-view+json": {
       "model_id": "ccc98c1a52644e04bf66461aad8e0157",
       "version_major": 2,
       "version_minor": 0
      },
      "text/plain": [
       "Image (test):   0%|          | 0/9 [00:00<?, ?it/s]"
      ]
     },
     "metadata": {},
     "output_type": "display_data"
    },
    {
     "data": {
      "application/vnd.jupyter.widget-view+json": {
       "model_id": "f13b5558b1464f4880603d960abc2d29",
       "version_major": 2,
       "version_minor": 0
      },
      "text/plain": [
       "Image (train):   0%|          | 0/8 [00:00<?, ?it/s]"
      ]
     },
     "metadata": {},
     "output_type": "display_data"
    },
    {
     "data": {
      "application/vnd.jupyter.widget-view+json": {
       "model_id": "9865442d850848ceaaa4184c4640344b",
       "version_major": 2,
       "version_minor": 0
      },
      "text/plain": [
       "Image (test):   0%|          | 0/8 [00:00<?, ?it/s]"
      ]
     },
     "metadata": {},
     "output_type": "display_data"
    },
    {
     "data": {
      "application/vnd.jupyter.widget-view+json": {
       "model_id": "8eaa43abb1d64f818ccb9e4213f84d19",
       "version_major": 2,
       "version_minor": 0
      },
      "text/plain": [
       "Image (train):   0%|          | 0/8 [00:00<?, ?it/s]"
      ]
     },
     "metadata": {},
     "output_type": "display_data"
    },
    {
     "data": {
      "application/vnd.jupyter.widget-view+json": {
       "model_id": "ce191a49817649edbdf2516e528a445e",
       "version_major": 2,
       "version_minor": 0
      },
      "text/plain": [
       "Image (test):   0%|          | 0/8 [00:00<?, ?it/s]"
      ]
     },
     "metadata": {},
     "output_type": "display_data"
    },
    {
     "data": {
      "application/vnd.jupyter.widget-view+json": {
       "model_id": "3f30c9c14631409eb13931076a19356b",
       "version_major": 2,
       "version_minor": 0
      },
      "text/plain": [
       "Image (train):   0%|          | 0/8 [00:00<?, ?it/s]"
      ]
     },
     "metadata": {},
     "output_type": "display_data"
    },
    {
     "data": {
      "application/vnd.jupyter.widget-view+json": {
       "model_id": "6cc82af34b7242c6b3bf2ba7148ba48c",
       "version_major": 2,
       "version_minor": 0
      },
      "text/plain": [
       "Image (test):   0%|          | 0/8 [00:00<?, ?it/s]"
      ]
     },
     "metadata": {},
     "output_type": "display_data"
    },
    {
     "data": {
      "application/vnd.jupyter.widget-view+json": {
       "model_id": "c6e6a6684f3342ce87627ee3399aeb61",
       "version_major": 2,
       "version_minor": 0
      },
      "text/plain": [
       "Image (train):   0%|          | 0/8 [00:00<?, ?it/s]"
      ]
     },
     "metadata": {},
     "output_type": "display_data"
    },
    {
     "data": {
      "application/vnd.jupyter.widget-view+json": {
       "model_id": "b80a477e20d24c37be0b59f85cd7ddfe",
       "version_major": 2,
       "version_minor": 0
      },
      "text/plain": [
       "Image (test):   0%|          | 0/8 [00:00<?, ?it/s]"
      ]
     },
     "metadata": {},
     "output_type": "display_data"
    },
    {
     "data": {
      "application/vnd.jupyter.widget-view+json": {
       "model_id": "7817b298a9964022ab8d2331abc7ae60",
       "version_major": 2,
       "version_minor": 0
      },
      "text/plain": [
       "Image (train):   0%|          | 0/7 [00:00<?, ?it/s]"
      ]
     },
     "metadata": {},
     "output_type": "display_data"
    },
    {
     "data": {
      "application/vnd.jupyter.widget-view+json": {
       "model_id": "86f60debab2845a98e80a4fef8b8ede7",
       "version_major": 2,
       "version_minor": 0
      },
      "text/plain": [
       "Image (test):   0%|          | 0/7 [00:00<?, ?it/s]"
      ]
     },
     "metadata": {},
     "output_type": "display_data"
    },
    {
     "data": {
      "application/vnd.jupyter.widget-view+json": {
       "model_id": "1d7d2ee3cba2443c84ffa7fc6772167d",
       "version_major": 2,
       "version_minor": 0
      },
      "text/plain": [
       "Image (train):   0%|          | 0/6 [00:00<?, ?it/s]"
      ]
     },
     "metadata": {},
     "output_type": "display_data"
    },
    {
     "data": {
      "application/vnd.jupyter.widget-view+json": {
       "model_id": "835e9ca4fc7241f287edf129a948e7c2",
       "version_major": 2,
       "version_minor": 0
      },
      "text/plain": [
       "Image (test):   0%|          | 0/6 [00:00<?, ?it/s]"
      ]
     },
     "metadata": {},
     "output_type": "display_data"
    },
    {
     "data": {
      "application/vnd.jupyter.widget-view+json": {
       "model_id": "98721a1efadb4d6f9c0786aa435c9829",
       "version_major": 2,
       "version_minor": 0
      },
      "text/plain": [
       "Image (train):   0%|          | 0/6 [00:00<?, ?it/s]"
      ]
     },
     "metadata": {},
     "output_type": "display_data"
    },
    {
     "data": {
      "application/vnd.jupyter.widget-view+json": {
       "model_id": "9299b7ea88284c518d8d47e4aa3fab84",
       "version_major": 2,
       "version_minor": 0
      },
      "text/plain": [
       "Image (test):   0%|          | 0/6 [00:00<?, ?it/s]"
      ]
     },
     "metadata": {},
     "output_type": "display_data"
    },
    {
     "data": {
      "application/vnd.jupyter.widget-view+json": {
       "model_id": "c86ac0cdfc8d4cb58f60dba2bf3d5842",
       "version_major": 2,
       "version_minor": 0
      },
      "text/plain": [
       "Image (train):   0%|          | 0/6 [00:00<?, ?it/s]"
      ]
     },
     "metadata": {},
     "output_type": "display_data"
    },
    {
     "data": {
      "application/vnd.jupyter.widget-view+json": {
       "model_id": "2a2bf94a9e4e440a81b140c4e3c8b7ee",
       "version_major": 2,
       "version_minor": 0
      },
      "text/plain": [
       "Image (test):   0%|          | 0/6 [00:00<?, ?it/s]"
      ]
     },
     "metadata": {},
     "output_type": "display_data"
    },
    {
     "data": {
      "application/vnd.jupyter.widget-view+json": {
       "model_id": "022814c0aa284d3ebc142d311cbb0823",
       "version_major": 2,
       "version_minor": 0
      },
      "text/plain": [
       "Image (train):   0%|          | 0/6 [00:00<?, ?it/s]"
      ]
     },
     "metadata": {},
     "output_type": "display_data"
    },
    {
     "data": {
      "application/vnd.jupyter.widget-view+json": {
       "model_id": "dfae23f3a259450fb503c1f4fae6f0c9",
       "version_major": 2,
       "version_minor": 0
      },
      "text/plain": [
       "Image (test):   0%|          | 0/6 [00:00<?, ?it/s]"
      ]
     },
     "metadata": {},
     "output_type": "display_data"
    },
    {
     "data": {
      "application/vnd.jupyter.widget-view+json": {
       "model_id": "06df672a40fb4facae4f09b37a203702",
       "version_major": 2,
       "version_minor": 0
      },
      "text/plain": [
       "Image (train):   0%|          | 0/6 [00:00<?, ?it/s]"
      ]
     },
     "metadata": {},
     "output_type": "display_data"
    },
    {
     "data": {
      "application/vnd.jupyter.widget-view+json": {
       "model_id": "f4049f111a51440faf30097222d42004",
       "version_major": 2,
       "version_minor": 0
      },
      "text/plain": [
       "Image (test):   0%|          | 0/6 [00:00<?, ?it/s]"
      ]
     },
     "metadata": {},
     "output_type": "display_data"
    },
    {
     "data": {
      "application/vnd.jupyter.widget-view+json": {
       "model_id": "cf4189dbc815418cafb56e6f9e65658b",
       "version_major": 2,
       "version_minor": 0
      },
      "text/plain": [
       "Image (train):   0%|          | 0/5 [00:00<?, ?it/s]"
      ]
     },
     "metadata": {},
     "output_type": "display_data"
    },
    {
     "data": {
      "application/vnd.jupyter.widget-view+json": {
       "model_id": "f4cc32c0fe174b73a07ee82162f8b474",
       "version_major": 2,
       "version_minor": 0
      },
      "text/plain": [
       "Image (test):   0%|          | 0/5 [00:00<?, ?it/s]"
      ]
     },
     "metadata": {},
     "output_type": "display_data"
    },
    {
     "data": {
      "application/vnd.jupyter.widget-view+json": {
       "model_id": "f41e1be6e1ec48019f55e8e16f1e616d",
       "version_major": 2,
       "version_minor": 0
      },
      "text/plain": [
       "Image (train):   0%|          | 0/3 [00:00<?, ?it/s]"
      ]
     },
     "metadata": {},
     "output_type": "display_data"
    },
    {
     "data": {
      "application/vnd.jupyter.widget-view+json": {
       "model_id": "b82ef5beb672464491537ac2fec95401",
       "version_major": 2,
       "version_minor": 0
      },
      "text/plain": [
       "Image (test):   0%|          | 0/3 [00:00<?, ?it/s]"
      ]
     },
     "metadata": {},
     "output_type": "display_data"
    }
   ],
   "source": [
    "# TRAIN RUN\n",
    "TRAIN_RUN_ID += 1\n",
    "epochs = 10\n",
    "attempts_to_get_no_mistakes = 20\n",
    "count = 1000\n",
    "consolidation_threshold = 1000\n",
    "\n",
    "for epoch in tqdm(range(epochs), desc='Epoch'):\n",
    "    train_step_image_ids = RNG.choice(df_train_images.index.unique(), count, replace=False)\n",
    "\n",
    "    for attempt_to_get_no_mistakes in tqdm(range(attempts_to_get_no_mistakes), leave=False, desc='Attempt'):\n",
    "        # EVOLVE MEMORIES\n",
    "        for image_no, image_id in tqdm(enumerate(train_step_image_ids), leave=False, total=len(train_step_image_ids), desc='Image (train)'):\n",
    "            log.debug(f'[train_run_id={TRAIN_RUN_ID}, image_no={image_no}, image_id={image_id}] Cluster count={COLUMN.cluster_norms.len}')\n",
    "            \n",
    "            image_value = df_train_images.loc[image_id]['value']\n",
    "            df_image_encodings = pd.read_sql('SELECT hdv FROM image_encodings WHERE image_id=:image_id', params={'image_id': int(image_id)}, con=train_db_con)\n",
    "            assert len(df_image_encodings) > 0\n",
    "            image_encoding_hdvs = list(map(lambda h: np.frombuffer(h, dtype='b'), df_image_encodings['hdv']))\n",
    "            image_encoding_hdvs_norm = hdc.normalize(image_encoding_hdvs)\n",
    "            image_encoding_hdvs_norm = xp_array_to_gpu(image_encoding_hdvs_norm)\n",
    "    \n",
    "            cos_sim_matrix = COLUMN.cluster_norms.array @ image_encoding_hdvs_norm.T\n",
    "            cos_sim_matrix[cos_sim_matrix < COS_SIM_THRESHOLD] = 0\n",
    "            cos_sim_vector = xp_array_from_gpu(xp.sum(cos_sim_matrix, axis=1)) # how each mem recall (sum cos sim) is close to current image\n",
    "\n",
    "            COLUMN.images_seen += image_encoding_hdvs_norm.shape[0]\n",
    "            \n",
    "            assert cos_sim_vector.shape == (COLUMN.cluster_norms.array.shape[0],)\n",
    "            cluster_ids_by_match_score = np.argsort(-cos_sim_vector) # sorted desc\n",
    "            match_found = False\n",
    "            match_pos = False\n",
    "            match_is_updated = False\n",
    "    \n",
    "            for pos, cluster_id in enumerate(cluster_ids_by_match_score):\n",
    "                cos_sim_value = cos_sim_vector[cluster_id]\n",
    "                log.debug(f'[train_run_id={TRAIN_RUN_ID}, image_no={image_no}, image_id={image_id}] Checking cluster #{cluster_id}, pos={pos}, sim={cos_sim_value:.2f}')\n",
    "    \n",
    "                if cos_sim_value <= 0:\n",
    "                    break\n",
    "    \n",
    "                cluster_image_ids = COLUMN.cluster_to_image_ids[cluster_id]\n",
    "                assert len(cluster_image_ids) > 0\n",
    "                cluster_is_sealed = len(cluster_image_ids) > 200\n",
    "                cluster_image_id = next(iter(cluster_image_ids))\n",
    "                cluster_image_value = df_train_images.loc[cluster_image_id]['value']\n",
    "    \n",
    "                if cluster_image_value != image_value:\n",
    "                    log.debug(f'[train_run_id={TRAIN_RUN_ID}, image_no={image_no}, image_id={image_id}] Match WRONG, cluster value={cluster_image_value} vs {image_value}')\n",
    "                else:\n",
    "                    log.debug(f'[train_run_id={TRAIN_RUN_ID}, image_no={image_no}, image_id={image_id}] Match CORRECT, sealed={cluster_is_sealed}')\n",
    "    \n",
    "                    if not cluster_is_sealed:\n",
    "                        cluster_image_ids.add(image_id)\n",
    "                        cluster_hdvs = COLUMN.clusters[cluster_id] # list\n",
    "                        cluster_hdvs.append(hdc.bundle(image_encoding_hdvs))\n",
    "                        new_cluster_bundle = xp_array_to_gpu(hdc.bundle(cluster_hdvs))\n",
    "                        COLUMN.cluster_norms.array[cluster_id] = hdc.normalize(new_cluster_bundle)\n",
    "    \n",
    "                    match_found = True\n",
    "                    match_pos = pos\n",
    "                    match_is_updated = not cluster_is_sealed\n",
    "                    break\n",
    "    \n",
    "            log.debug(f'[train_run_id={TRAIN_RUN_ID}, image_no={image_no}, image_id={image_id}] Match found={match_found}, pos={match_pos}, is updated={match_is_updated}')\n",
    "    \n",
    "            if (match_found and match_pos == 0) or (match_found and match_is_updated):\n",
    "                pass\n",
    "            else:\n",
    "                cluster_id = COLUMN.cluster_norms.lease()\n",
    "                cluster_bundle = hdc.bundle(image_encoding_hdvs)\n",
    "                COLUMN.cluster_norms.array[cluster_id] = xp_array_to_gpu(hdc.normalize(cluster_bundle))\n",
    "                COLUMN.clusters[cluster_id].append(cluster_bundle)\n",
    "                COLUMN.cluster_to_image_ids[cluster_id].add(image_id)\n",
    "                log.debug(f'[train_run_id={TRAIN_RUN_ID}, image_no={image_no}, image_id={image_id}] New cluster {cluster_id}')\n",
    "    \n",
    "            if image_no > 0 and image_no % consolidation_threshold == 0:\n",
    "                # CONSOLIDATE MEMORY\n",
    "                def dump_cluster_lengths(when):\n",
    "                    cluster_lengths = list(map(lambda image_ids: len(image_ids), COLUMN.cluster_to_image_ids.values()))\n",
    "                    cluster_lengths = np.unique_counts(cluster_lengths)\n",
    "                    \n",
    "                    for v, c in zip(reversed(cluster_lengths.values), reversed(cluster_lengths.counts)):\n",
    "                        log.debug(f'[train_run_id={TRAIN_RUN_ID}, consolidation] {when:10} {v:5} {c:5}')\n",
    "    \n",
    "                before_len = COLUMN.cluster_norms.len()\n",
    "                assert before_len == len(COLUMN.clusters)\n",
    "                \n",
    "                log.debug(f'[train_run_id={TRAIN_RUN_ID}, consolidation] BEFORE clusters count = {before_len}')\n",
    "                dump_cluster_lengths('BEFORE')\n",
    "                \n",
    "                cluster_indices_to_release = []\n",
    "                \n",
    "                for cluster_id, image_ids in COLUMN.cluster_to_image_ids.items():\n",
    "                    #l = 0.1\n",
    "                    l = 1\n",
    "                    exp_distro_level = l * np.exp(-l * len(image_ids))\n",
    "                    rand_level = RNG.random()\n",
    "                    do_release = rand_level < exp_distro_level\n",
    "                    \n",
    "                    if do_release:\n",
    "                        cluster_indices_to_release.append(cluster_id)\n",
    "                        log.debug(f'[train_run_id={TRAIN_RUN_ID}, consolidation] Dropping cluster #{cluster_id}, len={len(image_ids)}: {rand_level:.5f} < {exp_distro_level:.5f}')\n",
    "            \n",
    "                for cluster_index_to_release in cluster_indices_to_release:\n",
    "                    del COLUMN.clusters[cluster_index_to_release]\n",
    "                    del COLUMN.cluster_to_image_ids[cluster_index_to_release]\n",
    "                    COLUMN.cluster_norms.release(cluster_index_to_release)\n",
    "            \n",
    "                after_len = COLUMN.cluster_norms.len()\n",
    "                assert after_len == len(COLUMN.clusters)\n",
    "                \n",
    "                log.debug(f'[train_run_id={TRAIN_RUN_ID}, consolidation] AFTER clusters count = {after_len}')\n",
    "                dump_cluster_lengths('AFTER')\n",
    "\n",
    "        mistake_image_ids = []\n",
    "        \n",
    "        for image_no, image_id in tqdm(enumerate(train_step_image_ids), leave=False, total=len(train_step_image_ids), desc='Image (test)'):\n",
    "            image_value = df_train_images.loc[image_id]['value']\n",
    "            df_image_encodings = pd.read_sql('SELECT hdv FROM image_encodings WHERE image_id=:image_id', params={'image_id': int(image_id)}, con=train_db_con)\n",
    "            assert len(df_image_encodings) > 0\n",
    "            image_encoding_hdvs = list(map(lambda h: np.frombuffer(h, dtype='b'), df_image_encodings['hdv']))\n",
    "            image_encoding_hdvs_norm = hdc.normalize(image_encoding_hdvs)\n",
    "            image_encoding_hdvs_norm = xp_array_to_gpu(image_encoding_hdvs_norm)\n",
    "        \n",
    "            cos_sim_matrix = COLUMN.cluster_norms.array @ image_encoding_hdvs_norm.T\n",
    "            cos_sim_matrix[cos_sim_matrix < COS_SIM_THRESHOLD] = 0\n",
    "            cos_sim_vector = xp_array_from_gpu(xp.sum(cos_sim_matrix, axis=1)) # how each mem recall (sum cos sim) is close to current image\n",
    "            \n",
    "            assert cos_sim_vector.shape == (COLUMN.cluster_norms.array.shape[0],)\n",
    "            cluster_ids_by_match_score = np.argsort(-cos_sim_vector) # sorted desc\n",
    "        \n",
    "            if cluster_ids_by_match_score.shape[0] > 0:\n",
    "                cluster_id = cluster_ids_by_match_score[0]\n",
    "                cos_sim_value = cos_sim_vector[cluster_id]\n",
    "        \n",
    "                if cos_sim_value > 0:\n",
    "                    cluster_image_ids = COLUMN.cluster_to_image_ids[cluster_id]\n",
    "                    assert len(cluster_image_ids) > 0\n",
    "                    cluster_image_id = next(iter(cluster_image_ids))\n",
    "                    cluster_image_value = df_train_images.loc[cluster_image_id]['value']\n",
    "\n",
    "                    if cluster_image_value != image_value:\n",
    "                        mistake_image_ids.append(image_id)\n",
    "\n",
    "        log.debug(f'[train_run_id={TRAIN_RUN_ID}] Mistaken image ids = {len(mistake_image_ids)}')\n",
    "\n",
    "        if not mistake_image_ids:\n",
    "            break\n",
    "            \n",
    "        train_step_image_ids = mistake_image_ids\n",
    "\n",
    "        "
   ]
  },
  {
   "cell_type": "code",
   "execution_count": 51,
   "id": "cc549286-4674-4011-a93d-24ee0e15c8f1",
   "metadata": {},
   "outputs": [
    {
     "data": {
      "text/plain": [
       "261"
      ]
     },
     "execution_count": 51,
     "metadata": {},
     "output_type": "execute_result"
    }
   ],
   "source": [
    "len(COLUMN.clusters)"
   ]
  },
  {
   "cell_type": "code",
   "execution_count": 52,
   "id": "9ee32737-067b-47ea-9d07-5e67b9e4b801",
   "metadata": {},
   "outputs": [
    {
     "data": {
      "text/html": [
       "<div style=\"\n",
       "        display: grid; \n",
       "        grid-template-columns: repeat(8, 128px);\n",
       "        column-gap: 1px;\n",
       "        row-gap: 1px;\">\n",
       "        \n",
       "            <figure style=\"margin: 5px !important;\">\n",
       "              <img src=\"data:image/png;base64,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\" style=\"height: auto\">\n",
       "              <figcaption style=\"font-size: 0.6em\">clust=221, #6927, val=6</figcaption>\n",
       "            </figure>\n",
       "        \n",
       "            <figure style=\"margin: 5px !important;\">\n",
       "              <img src=\"data:image/png;base64,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\" style=\"height: auto\">\n",
       "              <figcaption style=\"font-size: 0.6em\">clust=221, #13593, val=6</figcaption>\n",
       "            </figure>\n",
       "        \n",
       "            <figure style=\"margin: 5px !important;\">\n",
       "              <img src=\"data:image/png;base64,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\" style=\"height: auto\">\n",
       "              <figcaption style=\"font-size: 0.6em\">clust=221, #7581, val=6</figcaption>\n",
       "            </figure>\n",
       "        \n",
       "            <figure style=\"margin: 5px !important;\">\n",
       "              <img src=\"data:image/png;base64,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\" style=\"height: auto\">\n",
       "              <figcaption style=\"font-size: 0.6em\">clust=221, #43166, val=6</figcaption>\n",
       "            </figure>\n",
       "        \n",
       "            <figure style=\"margin: 5px !important;\">\n",
       "              <img src=\"data:image/png;base64,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\" style=\"height: auto\">\n",
       "              <figcaption style=\"font-size: 0.6em\">clust=221, #21918, val=6</figcaption>\n",
       "            </figure>\n",
       "        \n",
       "            <figure style=\"margin: 5px !important;\">\n",
       "              <img src=\"data:image/png;base64,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\" style=\"height: auto\">\n",
       "              <figcaption style=\"font-size: 0.6em\">clust=221, #47774, val=6</figcaption>\n",
       "            </figure>\n",
       "        \n",
       "            <figure style=\"margin: 5px !important;\">\n",
       "              <img src=\"data:image/png;base64,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\" style=\"height: auto\">\n",
       "              <figcaption style=\"font-size: 0.6em\">clust=221, #8868, val=6</figcaption>\n",
       "            </figure>\n",
       "        \n",
       "            <figure style=\"margin: 5px !important;\">\n",
       "              <img src=\"data:image/png;base64,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\" style=\"height: auto\">\n",
       "              <figcaption style=\"font-size: 0.6em\">clust=221, #34601, val=6</figcaption>\n",
       "            </figure>\n",
       "        \n",
       "            <figure style=\"margin: 5px !important;\">\n",
       "              <img src=\"data:image/png;base64,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\" style=\"height: auto\">\n",
       "              <figcaption style=\"font-size: 0.6em\">clust=221, #28083, val=6</figcaption>\n",
       "            </figure>\n",
       "        \n",
       "            <figure style=\"margin: 5px !important;\">\n",
       "              <img src=\"data:image/png;base64,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\" style=\"height: auto\">\n",
       "              <figcaption style=\"font-size: 0.6em\">clust=221, #4660, val=6</figcaption>\n",
       "            </figure>\n",
       "        \n",
       "            <figure style=\"margin: 5px !important;\">\n",
       "              <img src=\"data:image/png;base64,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\" style=\"height: auto\">\n",
       "              <figcaption style=\"font-size: 0.6em\">clust=221, #4404, val=6</figcaption>\n",
       "            </figure>\n",
       "        \n",
       "            <figure style=\"margin: 5px !important;\">\n",
       "              <img src=\"data:image/png;base64,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\" style=\"height: auto\">\n",
       "              <figcaption style=\"font-size: 0.6em\">clust=221, #2486, val=6</figcaption>\n",
       "            </figure>\n",
       "        \n",
       "            <figure style=\"margin: 5px !important;\">\n",
       "              <img src=\"data:image/png;base64,iVBORw0KGgoAAAANSUhEUgAAAIAAAACACAAAAADmVT4XAAAM+klEQVR4nO2aWVMkR5KAPa7MjLyPuigKmlbvjub//5c1G5vdkZqmKOrK+z5jH4rWIMkECYU0L7gZBoZZeXzl4e7h4R4AH/IhH/IhH/IfFvTuak5/CgDxlwEgSijBBBGEECaMMeirqmzbbuhf/jB9DwDGFUlmjFGMqaybKi7Dg58UZT28bIX3ACCKYWiaIisSpZLmzmyS3P90uw9F37784fcAkA3XNQ1NUWXGZHN+OaG+Leq2rWv051sAIUQNdzGzdY1zmTHZXCxN4PluG6USHqHgbAsQpk4uP11aKpdliVJJ90wAVdNNXZXICBc/2wJUtefXf7sxZMYIxYRyHQCAyFxT2F9hAcbNycWn//qiEYwBYYSZBABlC5Qx+hcASJrlzhbL1UoFgB4AAGMAkRV1NwxiTCo6AwBTQjXLnV0uZ7b2RFfbNEEQhHHRjMhD5wAQRVUtb7a4uPTUJ/9uiyx7WN+tH/ysHWGCMwCo6jiT+cXFfGGzf/93KOPQX3/9+nWXF/WfCyDr7ny+XF14rkGH7/7W5bG/3327/bY+dn3/5wEgBEw1nclsPp87hsyEGIah60VbZ+Fxt9tsD0E2TtPbADAmVDFt1/M8xzJUilFfFnlZd02VRf7huDvE1UhVbwNAVFJ0x3Fd1zJUhRGALj0coqyqyyyJoygJ8+5PBSASNyzX81zL4BLFANDEm2/bKC/LIsvzoq7G+N8ZAFjSbG86cR1L5xJBAH0Z7W6/BWlZlUVdtUKMSkJnACjmZDqberapcYkA9HUeHx42YVbVVTWiCDgbQMjO/GIx9yxT5wxAdGUWHve7tGzaUenvbADE3eVq7tqmziUA6Ks0DoOjX7ddP7xS1dsAJGO6WE5tjXMJAfRlEvp+ECb9uPPnTACEEHK86Wzm6bIsYSGaIvF320OQlK/W9RYAJHOuXK0uZq6hMorbts5if/+w2YRvWv/1AFj1Jvb1l8uJzSVC+iqNw8Nms/F3YfMXAWizTxdX10tPZxjjOvd3u/tvdw9pno3NfWcCUM1b3awWU5MjBKjL/M397c/fdtUwvNb/3waAmGp5i5lncgIA0OXh7v5+e4jftDgAwJi68VdCJNW0TE0mAAAwFP7Dehvkb17/1QCIyVzT+Pc7R5f7D5vD6KPvfACkqJqucpniAQBAlKm/278xAE/yKh8gVDInnqVzmSIxIIA4DIIgHFn7vAOAZDjTy+uFzSWGRddV1fFuc3xbAnwbAJ9dX19dXzmcURi61D8+fL09lK88/s4CmP/3368WjqFQAGji9e23u2/+2OLvXQCmN3+/chRMMEBbhpt//bQ5RK+rP84AQEC5NV3MdQABQ1ckwX5zv4+KvwwAiMw13dAAAHVNGfuHw+E48gL4DgAIMOVckRkCAGiL5LjfH8OkaEf0oZ6V0YkIEUlTH3sOos3D/X4fxHlz7vrjLUCYomuKRAAARFfG/sGP8ldWwOcAAJE1Q1dPAGiosyiMsvK362NCKZMYQWIYhn7o+77rXyhTR1uAKrpp8JMLINFkcZQWvzuDiMxV0zIVPLRN29R1VZVl9T4AIGmmbXL62Alu8jhO698FAFMtZ7GYGbSvirLI8jSJRfv8UTkWgMiG49rqYyeiq7IkzmuBf/3tmGpNZ9efVg7rijRP4zj0UV08r3gcAEKybk+nriFjACH6ukijJH+aAhBCCJvebLG4+rRyWZeneRpFKmkScj4AQphq9vzyamErWIi+r5IoCKKiftIBEVSWFW+xXM6Xy6lFe84Lw7A0XBxfCPQRAAhhphiT5aebqa0SGLoqjQLfj8r26QYwzbIX158uJ7ZrcSwI44bp6BCtzwcAhKliTi6urx1ZIqJvyyQKwyjt+icXMaLas/nVD59XlqLIBAGm8tDXavugvccWEKpoljeb6wihfujqPMuyvHw6EmGGO1teXt98XuoIoQEQpQKLnqWOJr8DACJUVlTt9GVE3zVN++QaipjEdXs6v1heLjwbAIB8/zEMw9B5/9ydYVQUIEwwxhgBAAghBgGEyVL3qBWp3nTmTSbedOppv9EuaZaTVHX7x7fmcT6AMEYwDAQAhBgEYMa1vOpOYYiNyy+f5o5lGKZ5yhPil1EU5ZaXJUj8ccdwpBNSgsTQMQCAYegHoBJXuv40EOHu1Y8/LixVkmVKBnSamCEBGEBg2XTToXvm3joKgEqyLJHTcicX6AFjhAAQQtybX366WRgSJgDil+P59JsommWVBf3jycUYACJxTeMSOdUCQ1MVZVk33SAEYFV3F5+vFhNbObGe/PR7gGAqa4aRps+MTsYkIiprhqEpj/OHri6yNM3LuusBqL1crT7fTDTpV58AdPI6TGXVMDT5TAtQRbcsnZ8ARFdlcZyked0JAObe/PjpcuFIv1sBCQBAhMlcVZ4bHo2yADdsy3gsx4Y2T8IoycpGAIDirL78MLU5A4AB0Pd1BJwsgBAmlNLnhlejLMBNxzH492osDfwgKVsBGBHdniwWjkopAkB937W9QPhJ1gAx9F3/XOE4xgJMcyaexU9B2OTBbrONyg4QlmTTsi1TkxACAARVEmc9lhVZ4opEAQBEW2ZZXnV/TDDGAkx3phNbJQAAfZP6D5ttWvWAGDcc29D49+mYKHb3x5pplqmbQBgAQF9ncRgX5wEgqlqua3IqAGCos2C/3bedACrrrmfrioTFydxtuvtpXSrObNISrqKTAdIgiPNnhkfj8oBm6PzRB7sqDYMEAIiiO7OZa3CKAYRAosmi3fprpXeKqnanbW+qPInjrD5zCzCVZPk0FoCha6o8BwAk697F6nJuyQQAkGiaLNg+PGy73gYmSxTDIPqqyJI4LZtnhkfj6gFCySkPghjauq4BgCj24ub66sI6pSDURMfd3f3DEVSi2bYhYyG6tkiTOE6r9pnKfNRxLIQAeNzoYRg6AACqOsubHy6mjwfgkPv393cbP2OI255nyVT0bZFEYRRnzXNxOAZg6NumaR8jGyGEAQAk1Z6trmemQgYMAHm0W68fwnKg3LBdR8Wob4v46IdRWjzbQh8D0NdFmjEkEQBAhEmKPAiQFc12Jw4nCPquK/31+n4bNsyyPMfUOAUYqmi/2RySF1o4IwBEk/o7BohIAEBkbthO2wFXuKrrXAIQZRz5h7u7TVixueZ9WVoKBQDIdz//vNlE9fPaxwDU0VYDJKkAAEQxnElcNIOqyIosn1Z6uF0/bHZBo7iL5Wy1siUEACLb/OMfgR+/0MQcswV1tJWQYjgAAFQx3FmeFL2syIxRBAAi3/7zfzf7qGRz58vfLiaWRgEA2vj+n/+TVy810UZtQeZLkjWtBQLAsmpNcspaKkvSCaDNj+ufN2GJDMldfVma7OSlebi9u21efM40xgJdmShGnJUtIQBEMexUoApJlBIM0PdlGodB2lDuTKbTiSsBwNC27fEYxC/s/0gA0dd5miRZUSsEAMuanfc96jBCGIFoyziO02pQDG/+eemqEgBAV6Tp/S4a00IcFYZNmWdpmuWYYMCSZpV9O9SUYBAwNHmcFC3I+uLycrWyT3mxTQ/79TYZ00QflYi6qsiSKDQRVhAw1ar7eigUiWIBQ1fldU9UZXLz+Wq2ME5VS50e7u626YBfnqKMA0BlFh0eaDuYsmCq2YmO5JLJKQCIQRBuNXi2ulq5jvZYtWTHzeaYtu/0jkj0UCUHFSVxM7iSrHdYkoyCTS0ZCSCSai+FR7zVcmoaCgMAQF0WbB+OWfM+LygEEkOT7YdkHXZMV5QBJM3Ia2J4ChKIqgNIboEN17NU/lgdt7m/2wbv9ohFwNBAl+14LrkTjXIkm3XbIYnLAMBUpjpViyRFkdnj26muSvz9Pm3HdBHHHsdllSBCJquFqhNJQmIQgBBCAlEi699rcIQBBgxtHAVBEJVizKPKkV0yAQKgO2zuPOTq8i89ByEAPX2UOTRt27elf7f102JcE/dV84Js9y+WXc4nv9yD0G/cvC/zLE+jw93Xw8j1XwfQHv+vDtOWqX/UdmnSwD/u9/vdxh+RhV8P0IddmnRM19wnnSchfrFDmwbb3f3d/S6Ks7Ft7FcBdFld9dx2eMcpIgiBQAghEEgAgIA23m83D3e368OzhfgZAMPQDWzr8NqRCWaMMSYrioQB2q5t6qoM97vtbrP1o2r8FOG1w+sm3yvtXqOYyFzXDdMlCgAMVR6HURwcjscg8EdlwLcCQB2K+FbCQLjpeJOZUDQMUGfh9uHh6AdRnOUvNejPBGiTKmBIAOXOZJ7UlCsalJF/XN/e7YIoy6vudVOc1wKIvq8wEkIQXtRtN2BU61BEwXG9Xu+jpBz9hOutAAAAAwBAnyM0tGURTjhUWRzvd7soLcdG/7/ljMftkqppumXpDLqqLNMkKar29UPEMwAIpZQxiRIY+r5r27br3/iO5EM+5EM+5EM+5EM+5EM+5D8q/w96Wndi8yRYJwAAAABJRU5ErkJggg==\" style=\"height: auto\">\n",
       "              <figcaption style=\"font-size: 0.6em\">clust=221, #46390, val=6</figcaption>\n",
       "            </figure>\n",
       "        \n",
       "            <figure style=\"margin: 5px !important;\">\n",
       "              <img src=\"data:image/png;base64,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\" style=\"height: auto\">\n",
       "              <figcaption style=\"font-size: 0.6em\">clust=221, #59578, val=6</figcaption>\n",
       "            </figure>\n",
       "        \n",
       "            <figure style=\"margin: 5px !important;\">\n",
       "              <img src=\"data:image/png;base64,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\" style=\"height: auto\">\n",
       "              <figcaption style=\"font-size: 0.6em\">clust=221, #55483, val=6</figcaption>\n",
       "            </figure>\n",
       "        \n",
       "            <figure style=\"margin: 5px !important;\">\n",
       "              <img src=\"data:image/png;base64,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\" style=\"height: auto\">\n",
       "              <figcaption style=\"font-size: 0.6em\">clust=221, #36343, val=6</figcaption>\n",
       "            </figure>\n",
       "        \n",
       "            <figure style=\"margin: 5px !important;\">\n",
       "              <img src=\"data:image/png;base64,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\" style=\"height: auto\">\n",
       "              <figcaption style=\"font-size: 0.6em\">clust=221, #30916, val=6</figcaption>\n",
       "            </figure>\n",
       "        \n",
       "            <figure style=\"margin: 5px !important;\">\n",
       "              <img src=\"data:image/png;base64,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\" style=\"height: auto\">\n",
       "              <figcaption style=\"font-size: 0.6em\">clust=221, #32325, val=6</figcaption>\n",
       "            </figure>\n",
       "        \n",
       "            <figure style=\"margin: 5px !important;\">\n",
       "              <img src=\"data:image/png;base64,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\" style=\"height: auto\">\n",
       "              <figcaption style=\"font-size: 0.6em\">clust=221, #5576, val=6</figcaption>\n",
       "            </figure>\n",
       "        \n",
       "            <figure style=\"margin: 5px !important;\">\n",
       "              <img src=\"data:image/png;base64,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\" style=\"height: auto\">\n",
       "              <figcaption style=\"font-size: 0.6em\">clust=221, #51402, val=6</figcaption>\n",
       "            </figure>\n",
       "        \n",
       "            <figure style=\"margin: 5px !important;\">\n",
       "              <img src=\"data:image/png;base64,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\" style=\"height: auto\">\n",
       "              <figcaption style=\"font-size: 0.6em\">clust=221, #45771, val=6</figcaption>\n",
       "            </figure>\n",
       "        \n",
       "            <figure style=\"margin: 5px !important;\">\n",
       "              <img src=\"data:image/png;base64,iVBORw0KGgoAAAANSUhEUgAAAIAAAACACAAAAADmVT4XAAALhklEQVR4nO2aW1fjupKASzff7di5AgGa3fusnnX+/985Z3rTDSEhsR07vluXeUigm95NEoczzDxQDzwoQvpcKlWVSgL4kA/5kA/5kP9jQf+ZMRAoANj+eXcAopuWBryuW6GkUkqpLhz07QDYHY89VKzjvOZSCCHlOwNo/tWfE5TMZmHetLzhvNNCvBkAac7w+ssVXpmYJUVd40aJdwQgVHeGZxeXV9iUXLPTPMdI8HcEoG4wPPt8NR5gIkmwCqOYING+I4AWXF1d3lwOHEKIs1k+zBiIukQdrOCNAHpw9eXTxaRnEmYETWBAW5cZ7jLC2wCw4Z9d34x7lk40CySp1pGl0XcDQIiZbjAa+bZGAAEQ02AEdXRtnWh/nZ9oht3zfUsj2xYppBCimz8+HQAhTE3LcVyL4e1Xy6qq6rrtRvCGJcDMdD3XsYzd/CrPszwvay7fBwBR0xsMfNekAAAKoCmLfJMVdftOAJI4o+nF2NVgCyDbutis46Ro3gkAqD/949PE3Y6gJK/LbB0u46LuZARvADD605vribPdAUrUxSaJwmXcincKRjSYTC/P++Z2H8kmT+IoitaZ6pYXnQKAMNU0zbm5Oh8Fjr7TQBkv7h9WadXJAE4FYE4w8IPrzxeBrdPdHswWX2//mm86heKTAJACrPUuby7Hk3HfMxnZAojNw7//db/IO6elp2nAO//yXxe+pTGNYFAIAHg6//rvx7TuPNhJAMQIzm8uHSIVwQgBKFBlulrMo7p7lt0ZQAEIiZjt+wyUwIAApOBtkqTppj7hZHCKBgQXiGoMAG2jgGiqIkqyqlMq9hYAkErtwj4CACnqLA7XeTcX/CSnhGOsMYqx2s0PipebaJUU7QkHsxM0gDG1Bn3PpOgJANoyDcN13nRywScDgNHrn1+OnB//iGW5Xi3j/L00YI8vr2/OXfLcgngeLZdx0dkJngag984/31ydbQG2PqhKw2WYlO8BgID5o4ur67O+9WS9CrIkDldRWp5kAl0AEGa6bk+ury4mA3cXBHlb1+H9bL6Ms/p/HQCo7QeD808305Fnsq0G2s06Wdzezh7XxWmboJMGmDO+nF5cTieByQhSCADadP5w/+2v2SpvuiXDpwAQ5gyv/7icDAOHIrQ9gDabx7++3c2W61Z2KsycAoAwM/3x9GLYs/XnRp6tZncPq6Q8afJuAICI7vTHA8/UnptUk63uv4fx5uT5uwFothf0TPYj5qs2Wz3cZ8Xp8x8NgBDRDNPxPGt3+t6uuCiTKDrNA3UEwNTwekHPtQ0EoJ7CkJK8bTgAaDutIKWUkl32w9EasILRxXTkGS9zLkR1u0d13cVPAKIpq5oLqeRxBcujNeBe3Hy6mXq/9KdW/xybPb9PYRcZmiQKk6JpORdHFSyPBuhd/fPz9Mx9UsBubM2b3ATu+HzCngDKxffvi3VRNnXbHqOCYwE0f/rnl5Gn/dLM3Elb9S4/nWtPAMU3m1J9k5dliZojzPMYAAQIO/7w7Kyv//pNzBkq3rv6NHluEaiuwUg3RbbZ5Ee4x6MAiKb1ej3H1uFHKgoAAETzRrp0x/0fnUlwVjN/k2XrcAn8cJZ0FIBmucPA1snffzE85CnDZz+1GQPppkW2Wc1IW4mDO/IYAGr0BuPApr/5GmYzoaj+ondP61dVkS6MNk2bg8WKIwCQ4fbPzgf2rhTy0hEwCs9Lsp2L2JbkTZVabTQPSy4OHJYOACCEMPNG06uLcc/YpoFKCikEl4ApJRhjBEpIBRjjJ28IhJkW46HvWjmHA97gEAChmj2++nwzGQfm1gZE2zRlkdegOa7JMAaQQgDWtBeqYbbnea6Tt+pAonIQQLf9s5svn4eOa2AAQIJXRZ6GYS6d0cjXMUiQQiJm4ZdDUcNyXDdvDgWGgwCa5Y+mN3/2GN2GQdWW6Xo1m6+ln3NuYCmUlJIYHGkvjnlYM52eX9Rt8zYATDXT7Y/GFuyMTDVZvFzc3ccykKg1keRKSkXMUoCzDZSAAANCmuX1h1VdHUiWDu0ChDBlmmEC7IwdNenj7OH+YS0K2cQGKA5SKmINNrlHQClACBFNMxizB+eVqNMDE3SvEdXrh2+z+WojimrtarC9KsT26CIOKEiJESaa7QHF5rCWKnt8K4BSUnDePgcbVcWz24cwLUS+WWoYKQUKFLIn63XAQEqMCTN9wUxqDgCL8Nvf/WdnACk4fw6DTRYtZoukaDjCaFumUABgb+qir4GQBFPdqZjToxolUNx5xv5F6LQEUgqZxFEYxfmvB7EKM5VrICQhzPDAKxodY6fpDwb9Qog9uUknAF4X5Wq+jNPy7wfBLFIZA6EIpWZB+3ltUSCmOzi7VEVR1P8RANVm63g+W6a/q8i3G5lhUIpQZjXGOKs4BWBWf5qQKBSv3yF00kBbRIv7efTbg7AsW4xBAabMlm6ala0BQAz/LEOU5/mrY3YCEHUWh3H624OwrLdVUkQZp5usqFpBAGtOMKqKmL1ev+xmhG1d5EXV7POuqm1Bz/KirCyEMdNMy9K1PVuxU5lOibap6+ZQQbIqijzLi0oAYEIoJXhPAbcbgJLyiAcSkjdVVZY1BwCEDnTvBIAQIZSSA74NGKNI8pZLBTtPvadzJxvAzLBs2zKYeH1MRDXLD55rOAAHNNAJgFl+2WRxvKn3pNtmMBxfXo17FiNoO/tegi4AiLkSQZnEWbonz7HP/7iaXpwNPYMAKHnolNpNAw7VcLmOMilfTfiJN/3yj7OR75iUAAjetpzvy807AVCqMZGuwgIwfq0ya/pn139MfFNjACDbuszzat/p4DAAQgjhrUUhoKbbP8/AsMy0fPlkiDBKkALo9fvDQeBsbVA2ebxaJeUekzmckiGMf9p51Aguwek/zFdpWdY/+WRs2wZWEvxh37PNXY4um+Tx7nucNm/QAEII45+2vtbD1mAUeM4qSTP1wxQ0b+ARIZA/9i1td5kIbbl+uP1elK9H42MyIiWllNuUHAFQx/T6vqUzw2AEoepJB87gvE8FR72JbzGkECgEbbmJ5vczIfZsmkMAUvK2qcrS2qVfQAhYFpVCMV03zE3ZtAIAwJ6cTwdMcOSOfYsRBKAEL7bZ094JDgAo0VZFlq7Xkj3rFcDw6hbbvSBKs7LhQilA9tn1tM+4QNZw4OgYAFCTRfP7x6TaP8MBACnqMkuiZSAd9FNX3ZOGP4zXm7xuuZAKsDWaTnwiJehu4GgAAKiO7r7fLjYHiuiHNMAl3sTLhask/imqE5s4gyxN87JphRQKsBWMhg5RSlHdNAAAQOSP377eHrxNPrgEsirScG4hIMyBJ7+ODV3xKsuLmnMphQRiuIFvYgCFdreZkMeLu9tZWL4NAEDxOgsdyrlCim2virdvOInODKcRXEkhgei26zzZCG+lEDy6n93PV2n1tiUAANlmK1xtylZy29Ap+lGjMhDjUiglJWBNN5+aZZlXVVmGt1/vH+OD96lHxAKeoyaOSwEy8BD5KbtCFFElQSkFiLBnCymTJE2TdHX/bbY6/KjnCABR8YwmgjAsMdMBnutECiMFalu7Rs+pVZWEq3gVhavHxeO6PfjA9AgAKVuA2nBcnRr2dridKb7oppQCpaBaLxfLcLlaRWG03u+DjgUAAIBiverpRk9QgFfeAiPZtnVV5+FysYqiOE7S7IAP6gQAZWRrzkTsSUhVs0miZB0ul3GS5llRHtoAnQBQmz6yXrLvSNIU0WK2WC3DOMnrpmn5UReJR5freUbYIEor45UOotzEj3d/3T+u4jSvxNEPrI8FUK3C+urhu9ODv6W5CADapszW87vvs2WcHLX2nQEUrzeP/62lP/zxCwDe1kUWPs6X603eZf7jjVDJNn9E2Vf99wBC8KbONklWVN0u0Y5/94MQ1UxTJ78H2JaS2qYV4nCJ/kM+5EM+5EM+5EM+5EM+5P+V/A82ayJnJHyILgAAAABJRU5ErkJggg==\" style=\"height: auto\">\n",
       "              <figcaption style=\"font-size: 0.6em\">clust=221, #55372, val=6</figcaption>\n",
       "            </figure>\n",
       "        \n",
       "            <figure style=\"margin: 5px !important;\">\n",
       "              <img src=\"data:image/png;base64,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\" style=\"height: auto\">\n",
       "              <figcaption style=\"font-size: 0.6em\">clust=221, #20173, val=6</figcaption>\n",
       "            </figure>\n",
       "        \n",
       "            <figure style=\"margin: 5px !important;\">\n",
       "              <img src=\"data:image/png;base64,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\" style=\"height: auto\">\n",
       "              <figcaption style=\"font-size: 0.6em\">clust=221, #21838, val=6</figcaption>\n",
       "            </figure>\n",
       "        \n",
       "            <figure style=\"margin: 5px !important;\">\n",
       "              <img src=\"data:image/png;base64,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\" style=\"height: auto\">\n",
       "              <figcaption style=\"font-size: 0.6em\">clust=221, #41170, val=6</figcaption>\n",
       "            </figure>\n",
       "        \n",
       "            <figure style=\"margin: 5px !important;\">\n",
       "              <img src=\"data:image/png;base64,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\" style=\"height: auto\">\n",
       "              <figcaption style=\"font-size: 0.6em\">clust=221, #58835, val=6</figcaption>\n",
       "            </figure>\n",
       "        \n",
       "            <figure style=\"margin: 5px !important;\">\n",
       "              <img src=\"data:image/png;base64,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\" style=\"height: auto\">\n",
       "              <figcaption style=\"font-size: 0.6em\">clust=221, #29140, val=6</figcaption>\n",
       "            </figure>\n",
       "        \n",
       "            <figure style=\"margin: 5px !important;\">\n",
       "              <img src=\"data:image/png;base64,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\" style=\"height: auto\">\n",
       "              <figcaption style=\"font-size: 0.6em\">clust=221, #11348, val=6</figcaption>\n",
       "            </figure>\n",
       "        \n",
       "            <figure style=\"margin: 5px !important;\">\n",
       "              <img src=\"data:image/png;base64,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\" style=\"height: auto\">\n",
       "              <figcaption style=\"font-size: 0.6em\">clust=221, #20221, val=6</figcaption>\n",
       "            </figure>\n",
       "        \n",
       "            <figure style=\"margin: 5px !important;\">\n",
       "              <img src=\"data:image/png;base64,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\" style=\"height: auto\">\n",
       "              <figcaption style=\"font-size: 0.6em\">clust=221, #39154, val=6</figcaption>\n",
       "            </figure>\n",
       "        \n",
       "            <figure style=\"margin: 5px !important;\">\n",
       "              <img src=\"data:image/png;base64,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\" style=\"height: auto\">\n",
       "              <figcaption style=\"font-size: 0.6em\">clust=221, #53106, val=6</figcaption>\n",
       "            </figure>\n",
       "        \n",
       "            <figure style=\"margin: 5px !important;\">\n",
       "              <img src=\"data:image/png;base64,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\" style=\"height: auto\">\n",
       "              <figcaption style=\"font-size: 0.6em\">clust=221, #7543, val=6</figcaption>\n",
       "            </figure>\n",
       "        \n",
       "    </div>"
      ],
      "text/plain": [
       "<IPython.core.display.HTML object>"
      ]
     },
     "execution_count": 52,
     "metadata": {},
     "output_type": "execute_result"
    }
   ],
   "source": [
    "images = []\n",
    "captions = []\n",
    "\n",
    "if COLUMN.clusters.keys():\n",
    "    random_cluster_i = RNG.choice(list(COLUMN.clusters.keys()))\n",
    "    image_ids = COLUMN.cluster_to_image_ids[random_cluster_i]\n",
    "    df_i = df_train_images.loc[list(image_ids)]\n",
    "    image_datas = df_i['png']\n",
    "    images = [Image.open(io.BytesIO(image_data)) for image_data in image_datas]\n",
    "    captions = list(map(lambda p: f'clust={random_cluster_i}, #{p[0]}, val={p[1]}', zip(df_i.index, df_i['value'])))\n",
    "\n",
    "images = images[:32]\n",
    "captions = captions[:32]\n",
    "display_images_grid(images, captions=captions, col_count=8)"
   ]
  },
  {
   "cell_type": "code",
   "execution_count": 54,
   "id": "dedefb7f-24e7-43ca-91d6-eecc3fbaeb17",
   "metadata": {},
   "outputs": [
    {
     "data": {
      "application/vnd.jupyter.widget-view+json": {
       "model_id": "776be6afd77e4db4ba5c34182bf8f182",
       "version_major": 2,
       "version_minor": 0
      },
      "text/plain": [
       "  0%|          | 0/2000 [00:00<?, ?it/s]"
      ]
     },
     "metadata": {},
     "output_type": "display_data"
    }
   ],
   "source": [
    "# TEST RUN\n",
    "TEST_RUN_ID += 1\n",
    "count = 2000\n",
    "test_run_source = (df_test_images, test_db_con, 'test')\n",
    "# test_run_source = (df_train_images, train_db_con, 'train')\n",
    "test_image_ids = RNG.choice(test_run_source[0].index.unique(), count, replace=False)\n",
    "test_result_rows = defaultdict(list)\n",
    "\n",
    "for image_id in tqdm(test_image_ids):\n",
    "    max_cos_sim_index = -1 # aka cluster id\n",
    "    max_similar_cluster_image_value = ''\n",
    "    max_cos_sim = 0\n",
    "\n",
    "    image_value = test_run_source[0].loc[image_id]['value']\n",
    "    df_image_encodings = pd.read_sql('SELECT hdv FROM image_encodings WHERE image_id=:image_id', params={'image_id': int(image_id)}, con=test_run_source[1])\n",
    "    assert len(df_image_encodings) > 0\n",
    "    image_encoding_hdvs = list(map(lambda h: np.frombuffer(h, dtype='b'), df_image_encodings['hdv']))\n",
    "    image_encoding_hdvs_norm = hdc.normalize(image_encoding_hdvs)\n",
    "    image_encoding_hdvs_norm = xp_array_to_gpu(image_encoding_hdvs_norm)\n",
    "\n",
    "    cos_sim_matrix = COLUMN.cluster_norms.array @ image_encoding_hdvs_norm.T\n",
    "    cos_sim_matrix[cos_sim_matrix < COS_SIM_THRESHOLD] = 0\n",
    "    cos_sim_vector = xp_array_from_gpu(xp.sum(cos_sim_matrix, axis=1)) # how each mem recall (sum cos sim) is close to current image\n",
    "    \n",
    "    assert cos_sim_vector.shape == (COLUMN.cluster_norms.array.shape[0],)\n",
    "    cluster_ids_by_match_score = np.argsort(-cos_sim_vector) # sorted desc\n",
    "\n",
    "    if cluster_ids_by_match_score.shape[0] > 0:\n",
    "        cluster_id = cluster_ids_by_match_score[0]\n",
    "        cos_sim_value = cos_sim_vector[cluster_id]\n",
    "\n",
    "        # if cos_sim_value >= COS_SIM_THRESHOLD:\n",
    "        if cos_sim_value > 0:\n",
    "            cluster_image_ids = COLUMN.cluster_to_image_ids[cluster_id]\n",
    "            assert len(cluster_image_ids) > 0\n",
    "            cluster_image_id = next(iter(cluster_image_ids))\n",
    "            cluster_image_value = df_train_images.loc[cluster_image_id]['value']\n",
    "            max_cos_sim_index = cluster_id\n",
    "            max_similar_cluster_image_value = cluster_image_value\n",
    "            max_cos_sim = cos_sim_value\n",
    "\n",
    "    test_result_rows['config_variant'].append(config.section_name)\n",
    "    test_result_rows['cortical_columns'].append((-1))\n",
    "    test_result_rows['train_images_count'].append(COLUMN.images_seen)\n",
    "    test_result_rows['source_ds'].append(test_run_source[2])\n",
    "    test_result_rows['test_run_id'].append(TEST_RUN_ID)\n",
    "    test_result_rows['test_image_id'].append(image_id)\n",
    "    test_result_rows['true_value'].append(image_value)\n",
    "    test_result_rows['cluster_id'].append(max_cos_sim_index)\n",
    "    test_result_rows['infer_value'].append(max_similar_cluster_image_value)\n",
    "    test_result_rows['sim'].append(max_cos_sim)\n",
    "    \n",
    "\n",
    "assert set(test_result_rows.keys()) == set(DF_TEST_RESULTS.columns)\n",
    "df_test_results_for_run = pd.DataFrame(test_result_rows, columns=DF_TEST_RESULTS.columns)\n",
    "concat_list = [DF_TEST_RESULTS] if len(DF_TEST_RESULTS) > 0 else []\n",
    "concat_list.append(df_test_results_for_run)\n",
    "DF_TEST_RESULTS = pd.concat(concat_list, ignore_index=True)"
   ]
  },
  {
   "cell_type": "code",
   "execution_count": 55,
   "id": "9ded612b-96ae-4f3d-a964-d78dcfb19834",
   "metadata": {},
   "outputs": [
    {
     "data": {
      "image/png": "[encoded data removed]",
      "text/plain": [
       "<Figure size 1600x400 with 3 Axes>"
      ]
     },
     "metadata": {},
     "output_type": "display_data"
    },
    {
     "data": {
      "text/html": [
       "<div>\n",
       "<style scoped>\n",
       "    .dataframe tbody tr th:only-of-type {\n",
       "        vertical-align: middle;\n",
       "    }\n",
       "\n",
       "    .dataframe tbody tr th {\n",
       "        vertical-align: top;\n",
       "    }\n",
       "\n",
       "    .dataframe thead th {\n",
       "        text-align: right;\n",
       "    }\n",
       "</style>\n",
       "<table border=\"1\" class=\"dataframe\">\n",
       "  <thead>\n",
       "    <tr style=\"text-align: right;\">\n",
       "      <th></th>\n",
       "      <th>config_variant</th>\n",
       "      <th>source_ds</th>\n",
       "      <th>cortical_columns</th>\n",
       "      <th>train_images_count</th>\n",
       "      <th>count</th>\n",
       "      <th>infers</th>\n",
       "      <th>correct_infers</th>\n",
       "      <th>infer_ratio</th>\n",
       "      <th>accuracy_count</th>\n",
       "      <th>accuracy_infers</th>\n",
       "    </tr>\n",
       "    <tr>\n",
       "      <th>test_run_id</th>\n",
       "      <th></th>\n",
       "      <th></th>\n",
       "      <th></th>\n",
       "      <th></th>\n",
       "      <th></th>\n",
       "      <th></th>\n",
       "      <th></th>\n",
       "      <th></th>\n",
       "      <th></th>\n",
       "      <th></th>\n",
       "    </tr>\n",
       "  </thead>\n",
       "  <tbody>\n",
       "    <tr>\n",
       "      <th>1</th>\n",
       "      <td>None</td>\n",
       "      <td>test</td>\n",
       "      <td>None</td>\n",
       "      <td>None</td>\n",
       "      <td>2000</td>\n",
       "      <td>2000</td>\n",
       "      <td>1853</td>\n",
       "      <td>1.0</td>\n",
       "      <td>0.9265</td>\n",
       "      <td>0.9265</td>\n",
       "    </tr>\n",
       "    <tr>\n",
       "      <th>2</th>\n",
       "      <td>None</td>\n",
       "      <td>test</td>\n",
       "      <td>None</td>\n",
       "      <td>None</td>\n",
       "      <td>2000</td>\n",
       "      <td>2000</td>\n",
       "      <td>1864</td>\n",
       "      <td>1.0</td>\n",
       "      <td>0.9320</td>\n",
       "      <td>0.9320</td>\n",
       "    </tr>\n",
       "    <tr>\n",
       "      <th>3</th>\n",
       "      <td>None</td>\n",
       "      <td>test</td>\n",
       "      <td>None</td>\n",
       "      <td>None</td>\n",
       "      <td>2000</td>\n",
       "      <td>2000</td>\n",
       "      <td>1872</td>\n",
       "      <td>1.0</td>\n",
       "      <td>0.9360</td>\n",
       "      <td>0.9360</td>\n",
       "    </tr>\n",
       "    <tr>\n",
       "      <th>4</th>\n",
       "      <td>None</td>\n",
       "      <td>test</td>\n",
       "      <td>None</td>\n",
       "      <td>None</td>\n",
       "      <td>2000</td>\n",
       "      <td>2000</td>\n",
       "      <td>1871</td>\n",
       "      <td>1.0</td>\n",
       "      <td>0.9355</td>\n",
       "      <td>0.9355</td>\n",
       "    </tr>\n",
       "    <tr>\n",
       "      <th>12</th>\n",
       "      <td>SQLITE3_NORMAL_GRID_0_256</td>\n",
       "      <td>test</td>\n",
       "      <td>-1</td>\n",
       "      <td>-1</td>\n",
       "      <td>2000</td>\n",
       "      <td>2000</td>\n",
       "      <td>1871</td>\n",
       "      <td>1.0</td>\n",
       "      <td>0.9355</td>\n",
       "      <td>0.9355</td>\n",
       "    </tr>\n",
       "    <tr>\n",
       "      <th>13</th>\n",
       "      <td>SQLITE3_NORMAL_GRID_0_256</td>\n",
       "      <td>test</td>\n",
       "      <td>-1</td>\n",
       "      <td>489580</td>\n",
       "      <td>2000</td>\n",
       "      <td>2000</td>\n",
       "      <td>1879</td>\n",
       "      <td>1.0</td>\n",
       "      <td>0.9395</td>\n",
       "      <td>0.9395</td>\n",
       "    </tr>\n",
       "    <tr>\n",
       "      <th>14</th>\n",
       "      <td>SQLITE3_NORMAL_GRID_0_256</td>\n",
       "      <td>test</td>\n",
       "      <td>-1</td>\n",
       "      <td>489580</td>\n",
       "      <td>2000</td>\n",
       "      <td>2000</td>\n",
       "      <td>1879</td>\n",
       "      <td>1.0</td>\n",
       "      <td>0.9395</td>\n",
       "      <td>0.9395</td>\n",
       "    </tr>\n",
       "  </tbody>\n",
       "</table>\n",
       "</div>"
      ],
      "text/plain": [
       "                        config_variant source_ds cortical_columns  \\\n",
       "test_run_id                                                         \n",
       "1                                 None      test             None   \n",
       "2                                 None      test             None   \n",
       "3                                 None      test             None   \n",
       "4                                 None      test             None   \n",
       "12           SQLITE3_NORMAL_GRID_0_256      test               -1   \n",
       "13           SQLITE3_NORMAL_GRID_0_256      test               -1   \n",
       "14           SQLITE3_NORMAL_GRID_0_256      test               -1   \n",
       "\n",
       "            train_images_count  count  infers  correct_infers  infer_ratio  \\\n",
       "test_run_id                                                                  \n",
       "1                         None   2000    2000            1853          1.0   \n",
       "2                         None   2000    2000            1864          1.0   \n",
       "3                         None   2000    2000            1872          1.0   \n",
       "4                         None   2000    2000            1871          1.0   \n",
       "12                          -1   2000    2000            1871          1.0   \n",
       "13                      489580   2000    2000            1879          1.0   \n",
       "14                      489580   2000    2000            1879          1.0   \n",
       "\n",
       "             accuracy_count  accuracy_infers  \n",
       "test_run_id                                   \n",
       "1                    0.9265           0.9265  \n",
       "2                    0.9320           0.9320  \n",
       "3                    0.9360           0.9360  \n",
       "4                    0.9355           0.9355  \n",
       "12                   0.9355           0.9355  \n",
       "13                   0.9395           0.9395  \n",
       "14                   0.9395           0.9395  "
      ]
     },
     "execution_count": 55,
     "metadata": {},
     "output_type": "execute_result"
    }
   ],
   "source": [
    "df_test_results2 = DF_TEST_RESULTS.copy()\n",
    "df_test_results2['is_infer'] = df_test_results2['cluster_id'] > -1\n",
    "df_test_results2['is_correct_infer'] = df_test_results2['true_value'] == df_test_results2['infer_value']\n",
    "df_test_results2 = df_test_results2.groupby(by=['test_run_id']).agg({'config_variant': 'first', \n",
    "                                                                     'source_ds': 'first',\n",
    "                                                                     'cortical_columns': 'first',\n",
    "                                                                     'train_images_count': 'first',\n",
    "                                                                     'test_image_id': 'count', \n",
    "                                                                     'is_infer': 'sum', \n",
    "                                                                     'is_correct_infer': 'sum'})\n",
    "df_test_results2.rename(columns=dict(test_image_id='count', is_infer='infers', is_correct_infer='correct_infers'), inplace=True, errors='raise')\n",
    "df_test_results2['infer_ratio'] = df_test_results2['infers'] / df_test_results2['count']\n",
    "df_test_results2['accuracy_count'] = df_test_results2['correct_infers'] / df_test_results2['count']\n",
    "df_test_results2['accuracy_infers'] = df_test_results2['correct_infers'] / df_test_results2['infers']\n",
    "\n",
    "plt.figure(figsize=(16, 4))\n",
    "plt.subplot(1, 3, 1)\n",
    "b = plt.bar(list(map(str, df_test_results2.index)), list(df_test_results2['infer_ratio']))\n",
    "plt.bar_label(b, map(lambda p: f'{p*100:.0f}', df_test_results2['infer_ratio']), label_type='center')\n",
    "plt.ylim(0, 1)\n",
    "plt.title('Infers, %')\n",
    "plt.xlabel('Test run')\n",
    "plt.grid()\n",
    "\n",
    "plt.subplot(1, 3, 2)\n",
    "b = plt.bar(list(map(str, df_test_results2.index)), list(df_test_results2['accuracy_count']))\n",
    "plt.bar_label(b, map(lambda p: f'{p*100:.0f}', df_test_results2['accuracy_count']), label_type='center')\n",
    "plt.ylim(0, 1)\n",
    "plt.title('Accuracy (Count), %')\n",
    "plt.xlabel('Test run')\n",
    "plt.grid()\n",
    "\n",
    "plt.subplot(1, 3, 3)\n",
    "b = plt.bar(list(map(str, df_test_results2.index)), list(df_test_results2['accuracy_infers']))\n",
    "plt.bar_label(b, map(lambda p: f'{p*100:.0f}', df_test_results2['accuracy_infers']), label_type='center')\n",
    "plt.ylim(0, 1)\n",
    "plt.title('Accuracy (Infers), %')\n",
    "plt.xlabel('Test run')\n",
    "plt.grid()\n",
    "\n",
    "plt.show()\n",
    "df_test_results2"
   ]
  },
  {
   "cell_type": "code",
   "execution_count": null,
   "id": "a7f7fd04-f413-47bf-b601-3a9327b61c82",
   "metadata": {},
   "outputs": [],
   "source": [
    "df_test_results_incorrect_infers = df_test_results_for_run[df_test_results_for_run['true_value'] != df_test_results_for_run['infer_value']]\n",
    "incorrect_infer_row_index = RNG.choice(df_test_results_incorrect_infers.index.unique())\n",
    "test_run_id = df_test_results_incorrect_infers.loc[incorrect_infer_row_index]['test_run_id']\n",
    "incorrect_infer_image_id = df_test_results_incorrect_infers.loc[incorrect_infer_row_index]['test_image_id']\n",
    "image_data = test_run_source[0].loc[incorrect_infer_image_id]['png']\n",
    "image_value = test_run_source[0].loc[incorrect_infer_image_id]['value']\n",
    "\n",
    "df_x = pd.DataFrame(columns=['test_run_id', 'test_image_id', 'true_value', 'cluster_id', 'cluster_value', 'sim'])\n",
    "df_image_encodings = pd.read_sql('SELECT hdv FROM image_encodings WHERE image_id=:image_id', params={'image_id': int(incorrect_infer_image_id)}, con=test_run_source[1])\n",
    "assert len(df_image_encodings) > 0\n",
    "image_encoding_hdvs = list(map(lambda h: np.frombuffer(h, dtype='b'), df_image_encodings['hdv']))\n",
    "image_encoding_hdvs_norm = hdc.normalize(image_encoding_hdvs)\n",
    "image_encoding_hdvs_norm = xp_array_to_gpu(image_encoding_hdvs_norm)\n",
    "\n",
    "cos_sim_matrix = COLUMN.cluster_norms.array @ image_encoding_hdvs_norm.T\n",
    "cos_sim_matrix[cos_sim_matrix < COS_SIM_THRESHOLD] = 0\n",
    "cos_sim_vector = xp_array_from_gpu(xp.sum(cos_sim_matrix, axis=1)) # how each mem recall (sum cos sim) is close to current image\n",
    "\n",
    "assert cos_sim_vector.shape == (COLUMN.cluster_norms.array.shape[0],)\n",
    "cluster_ids_by_match_score = np.argsort(-cos_sim_vector) # sorted desc\n",
    "\n",
    "for pos, cluster_id in enumerate(cluster_ids_by_match_score):\n",
    "    cos_sim_value = cos_sim_vector[cluster_id]\n",
    "\n",
    "    if cos_sim_value <= 0:\n",
    "        break\n",
    "        \n",
    "    cluster_image_ids = COLUMN.cluster_to_image_ids[cluster_id]\n",
    "    assert len(cluster_image_ids) > 0\n",
    "    cluster_image_id = next(iter(cluster_image_ids))\n",
    "    cluster_image_value = df_train_images.loc[cluster_image_id]['value'] # exactly from train! (i.e. we look for prototype in train data)\n",
    "    df_x.loc[len(df_x)] = [test_run_id, incorrect_infer_image_id, image_value, cluster_id, cluster_image_value, cos_sim_value]\n",
    "\n",
    "df_x.sort_values(by='sim', ascending=False).head(10)"
   ]
  },
  {
   "cell_type": "code",
   "execution_count": null,
   "id": "5ff3a026-80df-4d27-af26-5939c7a1ae64",
   "metadata": {},
   "outputs": [],
   "source": [
    "image_data = test_run_source[0].loc[incorrect_infer_image_id]['png']\n",
    "image = Image.open(io.BytesIO(image_data))\n",
    "label = test_run_source[0].loc[incorrect_infer_image_id]['value']\n",
    "display_images([image], captions=[label])"
   ]
  },
  {
   "cell_type": "code",
   "execution_count": null,
   "id": "0c9b40bc-7e09-40a6-947b-090d0ef463a2",
   "metadata": {},
   "outputs": [],
   "source": [
    "df_x_pivot = pd.pivot_table(df_x, index='cluster_id', \n",
    "                            values=['true_value', 'cluster_value', 'sim'], \n",
    "                            aggfunc=dict(cluster_value='first', true_value='first', sim='sum'))\n",
    "df_x_pivot.sort_values(by='sim', ascending=False)"
   ]
  },
  {
   "cell_type": "code",
   "execution_count": null,
   "id": "4b970735-532f-4a82-adfa-2df3f534203b",
   "metadata": {},
   "outputs": [],
   "source": []
  },
  {
   "cell_type": "code",
   "execution_count": null,
   "id": "13076351-aaf9-4ef1-9e86-a77ee51ab0c0",
   "metadata": {},
   "outputs": [],
   "source": [
    "df_x_pivot = pd.pivot_table(df_x, index='cluster_id', \n",
    "                            values=['true_value', 'cluster_value', 'sim'], \n",
    "                            aggfunc=dict(cluster_value='first', true_value='first', sim='max'))\n",
    "df_x_pivot.sort_values(by='sim', ascending=False)"
   ]
  },
  {
   "cell_type": "code",
   "execution_count": null,
   "id": "741528e7-cb1b-4583-93eb-c9c8425c70be",
   "metadata": {},
   "outputs": [],
   "source": [
    "df_test_results_incorrect_infers.loc[incorrect_infer_row_index]['test_run_id']"
   ]
  },
  {
   "cell_type": "code",
   "execution_count": null,
   "id": "75cc7cda-ca51-48b0-8fd1-b21a9244fcb5",
   "metadata": {},
   "outputs": [],
   "source": [
    "incorrect_infer_row_index"
   ]
  },
  {
   "cell_type": "code",
   "execution_count": null,
   "id": "173a27b8-9f22-47c0-a23a-ca3669ac1222",
   "metadata": {},
   "outputs": [],
   "source": []
  }
 ],
 "metadata": {
  "kernelspec": {
   "display_name": "Python 3 (ipykernel)",
   "language": "python",
   "name": "python3"
  },
  "language_info": {
   "codemirror_mode": {
    "name": "ipython",
    "version": 3
   },
   "file_extension": ".py",
   "mimetype": "text/x-python",
   "name": "python",
   "nbconvert_exporter": "python",
   "pygments_lexer": "ipython3",
   "version": "3.12.2"
  }
 },
 "nbformat": 4,
 "nbformat_minor": 5
}
