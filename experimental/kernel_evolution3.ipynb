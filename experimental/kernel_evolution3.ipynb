{
 "cells": [
  {
   "cell_type": "code",
   "execution_count": 1,
   "id": "49d55add-2ab8-4e6d-8ffe-1c5ad6e34002",
   "metadata": {},
   "outputs": [],
   "source": [
    "import os\n",
    "import matplotlib.pyplot as plt\n",
    "from tqdm.notebook import tqdm\n",
    "from datetime import datetime\n",
    "from sklearn.model_selection import train_test_split\n",
    "from sklearn.decomposition import PCA\n",
    "from sklearn import preprocessing\n",
    "import scipy\n",
    "from collections import namedtuple\n",
    "import numpy as np\n",
    "import cupy as cp\n",
    "import math\n",
    "import json\n",
    "\n",
    "%run utils.ipynb"
   ]
  },
  {
   "cell_type": "code",
   "execution_count": 2,
   "id": "87a21646-414c-48a5-b986-bb7ff343c0fd",
   "metadata": {},
   "outputs": [],
   "source": [
    "config = Config()"
   ]
  },
  {
   "cell_type": "code",
   "execution_count": 3,
   "id": "77fe1f96-4aa0-496a-9f7b-0af85f5bea6b",
   "metadata": {},
   "outputs": [
    {
     "data": {
      "application/vnd.jupyter.widget-view+json": {
       "model_id": "250d69f3174346de99e0c0a7483727fb",
       "version_major": 2,
       "version_minor": 0
      },
      "text/plain": [
       "  0%|          | 0/9202 [00:00<?, ?it/s]"
      ]
     },
     "metadata": {},
     "output_type": "display_data"
    },
    {
     "name": "stdout",
     "output_type": "stream",
     "text": [
      "Loaded 9201 images\n",
      "CPU times: user 683 ms, sys: 148 ms, total: 830 ms\n",
      "Wall time: 1.44 s\n"
     ]
    }
   ],
   "source": [
    "%%time\n",
    "IMAGE_SIZE = -1\n",
    "IMAGES = []\n",
    "IMAGES_METADATA = []\n",
    "\n",
    "with open(os.path.join(config.dataset_path, config.dataset_metadata_file_name)) as f:\n",
    "    metadata = json.load(f)\n",
    "\n",
    "for image_fname in tqdm(os.listdir(config.dataset_path)):\n",
    "    image_fname = os.path.join(config.dataset_path, image_fname)\n",
    "\n",
    "    if not image_fname.endswith('.png'):\n",
    "        continue\n",
    "\n",
    "    # Following fuss with \"with\" is required to prevent \"Too many open files\" problem\n",
    "    with Image.open(image_fname) as image:\n",
    "        image.load()\n",
    "        assert image.width == image.height\n",
    "        assert image.width == IMAGE_SIZE or IMAGE_SIZE == -1\n",
    "        IMAGE_SIZE = image.width\n",
    "        assert image.mode == 'L'\n",
    "        image_index = len(IMAGES)\n",
    "        IMAGES.append(np.array(image).ravel())\n",
    "        metadata_record = metadata[os.path.basename(image_fname)]\n",
    "        metadata_record = np.rec.array([(image_fname, metadata_record.get('value', '?'))], dtype=[('file_name', 'object'), ('value', 'object')])\n",
    "        IMAGES_METADATA.append(metadata_record)\n",
    "        \n",
    "    assert image.fp is None\n",
    "\n",
    "assert len(IMAGES) == len(IMAGES_METADATA)\n",
    "IMAGES = (np.array(IMAGES) / 255).astype(np.uint8)\n",
    "IMAGES_METADATA = np.rec.array(np.concatenate(IMAGES_METADATA))\n",
    "print(f'Loaded {len(IMAGES)} images')"
   ]
  },
  {
   "cell_type": "code",
   "execution_count": 16,
   "id": "234ddfdd-cdf1-49ec-9f2b-fef826be2308",
   "metadata": {},
   "outputs": [
    {
     "data": {
      "image/png": "[encoded data removed]",
      "text/plain": [
       "<Figure size 640x480 with 1 Axes>"
      ]
     },
     "metadata": {},
     "output_type": "display_data"
    },
    {
     "data": {
      "text/plain": [
       "(np.float64(173.0),\n",
       " np.float64(175.95772198674058),\n",
       " np.float64(51.24122288672631))"
      ]
     },
     "execution_count": 16,
     "metadata": {},
     "output_type": "execute_result"
    }
   ],
   "source": [
    "images_stats = (IMAGES == 1).sum(axis=1)\n",
    "\n",
    "images_stats_counts, images_stats_bins = np.histogram(images_stats, 50)\n",
    "# plt.stairs(images_stats_counts, images_stats_bins)\n",
    "plt.hist(images_stats_bins[:-1], images_stats_bins, weights=images_stats_counts)\n",
    "plt.xlim(0, 400)\n",
    "plt.show()\n",
    "\n",
    "np.median(images_stats), np.mean(images_stats), np.std(images_stats)"
   ]
  },
  {
   "cell_type": "code",
   "execution_count": 19,
   "id": "12579cc4-db55-4dbd-abe6-3e99b24b13b1",
   "metadata": {},
   "outputs": [],
   "source": [
    "def draw_kernel_bar(p1, p2, p3, p4, size=32):\n",
    "    image = Image.new('L', (size, size), 0)\n",
    "    draw = ImageDraw.Draw(image)\n",
    "    draw.polygon([tuple(p1), tuple(p2), tuple(p3), tuple(p4)], fill=255, outline=255, width=1)\n",
    "    return image\n",
    "    \n",
    "def get_kernel_size(kernel):\n",
    "    if len(kernel.shape) == 1: # Raveled array\n",
    "        size = int(math.sqrt(kernel.shape[0]))\n",
    "        assert size * size == kernel.shape[0]\n",
    "        return size\n",
    "        \n",
    "    assert len(kernel.shape) == 2\n",
    "    assert kernel.shape[0] == kernel.shape[1]\n",
    "    assert kernel.dtype == np.uint8\n",
    "    return kernel.shape[0]\n",
    "\n",
    "def get_kernel_shape(kernel):\n",
    "    sz = get_kernel_size(kernel)\n",
    "    return (sz, sz)\n",
    "\n",
    "def kernel_as_matrix(kernel):\n",
    "    if len(kernel.shape) == 1: # Raveled array\n",
    "        size = int(math.sqrt(kernel.shape[0]))\n",
    "        assert size * size == kernel.shape[0]\n",
    "        return kernel.reshape(size, size)\n",
    "        \n",
    "    assert len(kernel.shape) == 2\n",
    "    assert kernel.shape[0] == kernel.shape[1]\n",
    "    return kernel\n",
    "\n",
    "def kernel_as_image(kernel):\n",
    "    data = (kernel * 255).astype(np.uint8)\n",
    "    return Image.frombytes('L', size=get_kernel_shape(kernel), data=data)\n",
    "\n",
    "def display_kernel_raw(kernel, precision=1):\n",
    "    kernel = kernel_as_matrix(kernel)\n",
    "    format_string = '{:4.' + str(precision) + 'f}'\n",
    "    \n",
    "    for ir, r in enumerate(kernel):\n",
    "        s = f'{ir:3}'\n",
    "\n",
    "        if ir == 0:\n",
    "            header_s = '   '\n",
    "            \n",
    "            for ic, _ in enumerate(r):\n",
    "                 header_s += ' ' + f'{ic:4}'  \n",
    "\n",
    "            print(header_s)\n",
    "            print('')\n",
    "            \n",
    "        for c in r:\n",
    "            s += ' ' + format_string.format(c)\n",
    "\n",
    "        print(s)            "
   ]
  },
  {
   "cell_type": "code",
   "execution_count": null,
   "id": "b888eebc-320c-42ee-ad49-9c5b81dcc80c",
   "metadata": {},
   "outputs": [],
   "source": []
  },
  {
   "cell_type": "code",
   "execution_count": 20,
   "id": "942030d9-7299-4626-9565-0c2cbac7563e",
   "metadata": {},
   "outputs": [],
   "source": [
    "BASE_KERNEL_SIZE = 32\n",
    "BAR_WIDTH = 4  # relative to BASE_KERNEL_SIZE. I.e. for 32 BAR_WIDTH would be 4/32, for 16 - 4/16, etc.\n",
    "OFFSET_STRIDE = 4\n",
    "MAX_STRECH_FACTOR = 4\n",
    "OFFSET_X_LEVELS = 1\n",
    "OFFSET_Y_LEVELS = 1\n",
    "STRETCH_X_LEVELS = 1\n",
    "STRETCH_Y_LEVELS = 1\n",
    "ROTATION_LEVELS = 1\n",
    "\n",
    "assert STRETCH_X_LEVELS > 0 \n",
    "assert STRETCH_Y_LEVELS > 0 \n",
    "assert ROTATION_LEVELS > 0\n",
    "assert OFFSET_X_LEVELS > 0 \n",
    "assert OFFSET_Y_LEVELS > 0"
   ]
  },
  {
   "cell_type": "code",
   "execution_count": 21,
   "id": "32758c8a-9e2d-4934-9679-d9f73a7fee51",
   "metadata": {},
   "outputs": [],
   "source": [
    "offset_x_transfs = []\n",
    "offset_y_transfs = []\n",
    "stretch_x_transfs = []\n",
    "stretch_y_transfs = []\n",
    "rotation_transfs = []\n",
    "identity_transf = np.array([\n",
    "    [1, 0, 0],\n",
    "    [0, 1, 0],\n",
    "    [0, 0, 1]\n",
    "])\n",
    "\n",
    "offset_x_transfs.append(identity_transf)\n",
    "\n",
    "for i in range(OFFSET_X_LEVELS // 2):\n",
    "    l = (i + 1) * (OFFSET_STRIDE / BASE_KERNEL_SIZE)\n",
    "    r = -l\n",
    "    transf = [\n",
    "        [1, 0, l],\n",
    "        [0, 1, 0],\n",
    "        [0, 0, 1]\n",
    "    ]\n",
    "    offset_x_transfs.append(np.array(transf))\n",
    "    transf = [\n",
    "        [1, 0, r],\n",
    "        [0, 1, 0],\n",
    "        [0, 0, 1]\n",
    "    ]\n",
    "    offset_x_transfs.append(np.array(transf))\n",
    "\n",
    "offset_y_transfs.append(identity_transf)\n",
    "\n",
    "for i in range(OFFSET_Y_LEVELS // 2):\n",
    "    u = (i + 1) * (OFFSET_STRIDE / BASE_KERNEL_SIZE)\n",
    "    d = -u\n",
    "    transf = [\n",
    "        [1, 0, 0],\n",
    "        [0, 1, u],\n",
    "        [0, 0, 1]\n",
    "    ]\n",
    "    offset_y_transfs.append(np.array(transf))\n",
    "    transf = [\n",
    "        [1, 0, 0],\n",
    "        [0, 1, d],\n",
    "        [0, 0, 1]\n",
    "    ]\n",
    "    offset_y_transfs.append(np.array(transf))\n",
    "\n",
    "# cover possible STRETCHES from 1x to MAX_STRETCH_FACTOR\n",
    "for i in range(STRETCH_X_LEVELS):\n",
    "    f = i * ((MAX_STRETCH_FACTOR - 1) / (STRETCH_X_LEVELS - 1)) + 1 if STRETCH_X_LEVELS > 1 else 1\n",
    "    transf = [\n",
    "        [f, 0, 0],\n",
    "        [0, 1, 0],\n",
    "        [0, 0, 1]\n",
    "    ]\n",
    "    stretch_x_transfs.append(np.array(transf))\n",
    "\n",
    "# cover possible STRETCHES from 1x to MAX_STRETCH_FACTOR\n",
    "for i in range(STRETCH_Y_LEVELS):\n",
    "    f = i * ((MAX_STRETCH_FACTOR - 1) / (STRETCH_Y_LEVELS - 1)) + 1 if STRETCH_Y_LEVELS > 1 else 1\n",
    "    transf = [\n",
    "        [1, 0, 0],\n",
    "        [0, f, 0],\n",
    "        [0, 0, 1]\n",
    "    ]\n",
    "    stretch_y_transfs.append(np.array(transf))\n",
    "\n",
    "# cover possible rotations counter clock wise (0 - is no rotation)\n",
    "for i in range(ROTATION_LEVELS):\n",
    "    theta = (2 * math.pi / ROTATION_LEVELS) * i\n",
    "    cos_theta = math.cos(theta)\n",
    "    sin_theta = math.sin(theta)\n",
    "    transf = [\n",
    "        [cos_theta, sin_theta, 0],\n",
    "        [-sin_theta, cos_theta, 0],\n",
    "        [0, 0, 1]\n",
    "    ]\n",
    "    rotation_transfs.append(np.array(transf))"
   ]
  },
  {
   "cell_type": "code",
   "execution_count": 22,
   "id": "30c71c46-da7c-4ac5-aeb8-c02b6b21e5c1",
   "metadata": {},
   "outputs": [
    {
     "name": "stdout",
     "output_type": "stream",
     "text": [
      "1 transformations\n"
     ]
    }
   ],
   "source": [
    "TRANSFS = []\n",
    "break_on_transf = -1\n",
    "i = 0\n",
    "\n",
    "for a in stretch_x_transfs:\n",
    "    for b in stretch_y_transfs:\n",
    "        for c in rotation_transfs:\n",
    "            for d in offset_x_transfs:\n",
    "                for e in offset_y_transfs:\n",
    "                    if break_on_transf > 0 and i == break_on_transf:\n",
    "                         assert False\n",
    "                    # https://learn.microsoft.com/en-us/dotnet/desktop/winforms/advanced/why-transformation-order-is-significant?view=netframeworkdesktop-4.8\n",
    "                    # We need first scale, then rotate (around origin), then translate\n",
    "                    transf = e @ d @ c @ b @ a\n",
    "                    TRANSFS.append(transf)\n",
    "                    i += 1\n",
    "\n",
    "print(f'{len(TRANSFS)} transformations')"
   ]
  },
  {
   "cell_type": "code",
   "execution_count": null,
   "id": "15678054-3b59-41a6-a22a-108d1b8d4faf",
   "metadata": {},
   "outputs": [],
   "source": []
  },
  {
   "cell_type": "code",
   "execution_count": 23,
   "id": "3876db6f-d9fd-4bf7-8f91-14a97dd7bc18",
   "metadata": {},
   "outputs": [
    {
     "name": "stdout",
     "output_type": "stream",
     "text": [
      "       0    1    2    3    4    5    6    7    8    9   10   11   12   13   14   15\n",
      "\n",
      "  0    0    0    0    0    0    0    0    0    0    0    0    0    0    0    0    0\n",
      "  1    0    0    0    0    0    0    0    0    0    0    0    0    0    0    0    0\n",
      "  2    0    0    0    0    0    0    0    0    0    0    0    0    0    0    0    0\n",
      "  3    0    0    0    0    0    0    0    0    0    0    0    0    0    0    0    0\n",
      "  4    0    0    0    0    0    0    0    1    1    0    0    0    0    0    0    0\n",
      "  5    0    0    0    0    0    0    0    1    1    0    0    0    0    0    0    0\n",
      "  6    0    0    0    0    0    0    0    1    1    0    0    0    0    0    0    0\n",
      "  7    0    0    0    0    0    0    0    1    1    0    0    0    0    0    0    0\n",
      "  8    0    0    0    0    0    0    0    1    1    0    0    0    0    0    0    0\n",
      "  9    0    0    0    0    0    0    0    1    1    0    0    0    0    0    0    0\n",
      " 10    0    0    0    0    0    0    0    1    1    0    0    0    0    0    0    0\n",
      " 11    0    0    0    0    0    0    0    1    1    0    0    0    0    0    0    0\n",
      " 12    0    0    0    0    0    0    0    0    0    0    0    0    0    0    0    0\n",
      " 13    0    0    0    0    0    0    0    0    0    0    0    0    0    0    0    0\n",
      " 14    0    0    0    0    0    0    0    0    0    0    0    0    0    0    0    0\n",
      " 15    0    0    0    0    0    0    0    0    0    0    0    0    0    0    0    0\n"
     ]
    }
   ],
   "source": [
    "lw = 1 / BASE_KERNEL_SIZE # line width \n",
    "hlw = lw / 2 # half line width\n",
    "hbw = BAR_WIDTH * lw / 2 # half bar width\n",
    "prototype_points_bar = np.array([\n",
    "    [-hbw      , +0.25      , 1],\n",
    "    [-hbw      , -0.25 + hlw, 1],\n",
    "    [+hbw - hlw, -0.25 + hlw, 1],\n",
    "    [+hbw - hlw, +0.25      , 1],\n",
    "]).T\n",
    "szsz = 16\n",
    "center_pt = szsz / 2\n",
    "#transf = e @ d @ c @ b @ a\n",
    "# transf = offset_y_transfs[3]\n",
    "#transf = stretch_x_transfs[4]\n",
    "# transf = offset_x_transfs[1]\n",
    "# transf = stretch_x_transfs[6]\n",
    "#transf = stretch_x_transfs[3]\n",
    "# transf = stretch_y_transfs[5]\n",
    "# transf = offset_y_transfs[5] @ stretch_y_transfs[5]\n",
    "transf = identity_transf\n",
    "points = (transf @ prototype_points_bar).T\n",
    "# points_x = np.round(points[:,0] * szsz + center_pt).astype(np.int32)\n",
    "# points_y = np.round(points[:,1] * -szsz + center_pt).astype(np.int32)\n",
    "points_x = (points[:,0] * szsz + center_pt).astype(np.int32)\n",
    "points_y = (points[:,1] * -szsz + center_pt).astype(np.int32)\n",
    "kernel_image = draw_kernel_bar(\n",
    "    (points_x[0], points_y[0]),\n",
    "    (points_x[1], points_y[1]),\n",
    "    (points_x[2], points_y[2]),\n",
    "    (points_x[3], points_y[3]),\n",
    "    size=szsz)\n",
    "kernel = (np.array(kernel_image) / 255).astype(np.uint8).ravel()\n",
    "#kernel_as_image(kernel).resize((320, 320))\n",
    "display_kernel_raw(kernel, precision=0)"
   ]
  },
  {
   "cell_type": "code",
   "execution_count": 24,
   "id": "c45d5fef-ce98-4030-943d-2fce6e13a565",
   "metadata": {},
   "outputs": [
    {
     "data": {
      "application/vnd.jupyter.widget-view+json": {
       "model_id": "a4e55c67f55c4af4b36c87e4af1f6700",
       "version_major": 2,
       "version_minor": 0
      },
      "text/plain": [
       "bar:   0%|          | 0/1 [00:00<?, ?it/s]"
      ]
     },
     "metadata": {},
     "output_type": "display_data"
    },
    {
     "name": "stdout",
     "output_type": "stream",
     "text": [
      "1 kernels generated\n",
      "CPU times: user 7.71 ms, sys: 0 ns, total: 7.71 ms\n",
      "Wall time: 6.79 ms\n"
     ]
    }
   ],
   "source": [
    "%%time\n",
    "KERNELS = []\n",
    "KERNEL_PARAMS = []\n",
    "\n",
    "# prototype is a simple vertical bar of half size of kernel\n",
    "lw = 1 / BASE_KERNEL_SIZE # line width \n",
    "hlw = lw / 2 # half line width\n",
    "hbw = BAR_WIDTH * lw / 2 # half bar width\n",
    "prototype_points_bar = np.array([\n",
    "    [-hbw      , +0.25      , 1],\n",
    "    [-hbw      , -0.25 + hlw, 1],\n",
    "    [+hbw - hlw, -0.25 + hlw, 1],\n",
    "    [+hbw - hlw, +0.25      , 1],\n",
    "]).T\n",
    "noncomplex_kernels_count = 0\n",
    "center_pt = config.kernel_size / 2\n",
    "transfs = TRANSFS\n",
    "\n",
    "for transf in tqdm(transfs, desc='bar'):\n",
    "    points = (transf @ prototype_points_bar).T\n",
    "    points_x = (points[:,0] * config.kernel_size + center_pt).astype(np.int32)\n",
    "    points_y = (points[:,1] * -config.kernel_size + center_pt).astype(np.int32)\n",
    "    kernel_image = draw_kernel_bar(\n",
    "        (points_x[0], points_y[0]),\n",
    "        (points_x[1], points_y[1]),\n",
    "        (points_x[2], points_y[2]),\n",
    "        (points_x[3], points_y[3]),\n",
    "        size=config.kernel_size)\n",
    "    kernel = (np.array(kernel_image) / 255).astype(np.uint8).ravel()\n",
    "    ones_count = (kernel == 1).sum()\n",
    "    denominator = 255 * ones_count\n",
    "    KERNELS.append(kernel)\n",
    "    KERNEL_PARAMS.append([ones_count, denominator])\n",
    "\n",
    "KERNELS = np.array(KERNELS)\n",
    "KERNEL_PARAMS = np.array(KERNEL_PARAMS)\n",
    "assert len(KERNELS) == len(KERNEL_PARAMS)\n",
    "\n",
    "print(f'{len(KERNELS)} kernels generated')"
   ]
  },
  {
   "cell_type": "code",
   "execution_count": null,
   "id": "f848eba0-ac27-4640-af28-b65fe948bbfa",
   "metadata": {},
   "outputs": [],
   "source": []
  },
  {
   "cell_type": "code",
   "execution_count": 25,
   "id": "cdc3fbb2-7dba-4a3b-9df4-d5fece46ff2c",
   "metadata": {},
   "outputs": [
    {
     "data": {
      "text/html": [
       "<div style=\"\n",
       "        display: grid; \n",
       "        grid-template-columns: repeat(16, 50px);\n",
       "        column-gap: 1px;\n",
       "        row-gap: 1px;\">\n",
       "        \n",
       "            <figure style=\"margin: 5px !important;\">\n",
       "              <img src=\"data:image/png;base64,iVBORw0KGgoAAAANSUhEUgAAADIAAAAyCAAAAAA7VNdtAAAAaUlEQVR4nO2UwQnAIBAExxDRIlKJtaSVdJPKJEUogpcGDokPH4Gb5y6z3OvAMNbi1PQ4I1Du5/tQaiIiLanlpqa9AtQ+oUgDaDKhDDHFFFP+oTgP4PWPpStbAAh6uatpviJQ8vhCw1jEC1QkFNsuOlDKAAAAAElFTkSuQmCC\" style=\"height: auto\">\n",
       "              <figcaption style=\"font-size: 0.6em\">0</figcaption>\n",
       "            </figure>\n",
       "        \n",
       "    </div>"
      ],
      "text/plain": [
       "<IPython.core.display.HTML object>"
      ]
     },
     "execution_count": 25,
     "metadata": {},
     "output_type": "execute_result"
    }
   ],
   "source": [
    "max_to_show = min(100, KERNELS.shape[0])\n",
    "\n",
    "if max_to_show > 0:\n",
    "    kernel_images = np.copy(KERNELS[:max_to_show])\n",
    "    kernel_image_denoms = KERNEL_PARAMS[:max_to_show,1]\n",
    "else:\n",
    "    kernel_images = np.copy(KERNELS)\n",
    "    kernel_image_denoms = KERNEL_PARAMS[:,1]\n",
    "\n",
    "assert kernel_image_denoms.shape == (max_to_show,)\n",
    "# Turn to column vector\n",
    "kernel_image_denoms = kernel_image_denoms.reshape(1,-1).T\n",
    "assert kernel_image_denoms.shape == (max_to_show, 1)\n",
    "kernel_images *= 255 # turn to 0..255\n",
    "\n",
    "_images = []\n",
    "_captions = []\n",
    "\n",
    "for i in range(kernel_images.shape[0]):\n",
    "    _image = Image.frombytes('L', size=get_kernel_shape(kernel_images[i]), data=kernel_images[i].astype(np.uint8))\n",
    "    _image = _image.resize((50, 50))\n",
    "    _images.append(_image)\n",
    "    _captions.append(str(i))\n",
    "    \n",
    "display_images_grid(_images, 16, captions=_captions)"
   ]
  },
  {
   "cell_type": "code",
   "execution_count": 26,
   "id": "a315ca0a-53ef-4dd3-8d04-08b6843cface",
   "metadata": {},
   "outputs": [],
   "source": [
    "NEXUSES = KERNELS"
   ]
  },
  {
   "cell_type": "code",
   "execution_count": 27,
   "id": "c3a74b39-8a0a-4e11-91f7-6cf977bf4bed",
   "metadata": {},
   "outputs": [],
   "source": [
    "IMAGES_ = cp.asarray(IMAGES)"
   ]
  },
  {
   "cell_type": "code",
   "execution_count": 62,
   "id": "db547a8f-605e-42f2-9104-b59974f8b9e9",
   "metadata": {},
   "outputs": [
    {
     "data": {
      "application/vnd.jupyter.widget-view+json": {
       "model_id": "41c16593d5c046ac851fd287125d8c1e",
       "version_major": 2,
       "version_minor": 0
      },
      "text/plain": [
       "cluster sizes:   0%|          | 0/1 [00:00<?, ?it/s]"
      ]
     },
     "metadata": {},
     "output_type": "display_data"
    },
    {
     "data": {
      "application/vnd.jupyter.widget-view+json": {
       "model_id": "",
       "version_major": 2,
       "version_minor": 0
      },
      "text/plain": [
       "trials, clust. size=16:   0%|          | 0/25 [00:00<?, ?it/s]"
      ]
     },
     "metadata": {},
     "output_type": "display_data"
    },
    {
     "data": {
      "application/vnd.jupyter.widget-view+json": {
       "model_id": "",
       "version_major": 2,
       "version_minor": 0
      },
      "text/plain": [
       "learning, trial=0, clust. size=16, clusters=91900:   0%|          | 0/10 [00:00<?, ?it/s]"
      ]
     },
     "metadata": {},
     "output_type": "display_data"
    },
    {
     "data": {
      "application/vnd.jupyter.widget-view+json": {
       "model_id": "",
       "version_major": 2,
       "version_minor": 0
      },
      "text/plain": [
       "images, learn step=0, nu=0.050, trial=0, clust. size=16, clusters=91900:   0%|          | 0/100 [00:00<?, ?it/…"
      ]
     },
     "metadata": {},
     "output_type": "display_data"
    },
    {
     "data": {
      "application/vnd.jupyter.widget-view+json": {
       "model_id": "",
       "version_major": 2,
       "version_minor": 0
      },
      "text/plain": [
       "images, learn step=1, nu=0.045, trial=0, clust. size=16, clusters=91900:   0%|          | 0/100 [00:00<?, ?it/…"
      ]
     },
     "metadata": {},
     "output_type": "display_data"
    },
    {
     "data": {
      "application/vnd.jupyter.widget-view+json": {
       "model_id": "",
       "version_major": 2,
       "version_minor": 0
      },
      "text/plain": [
       "images, learn step=2, nu=0.041, trial=0, clust. size=16, clusters=91900:   0%|          | 0/100 [00:00<?, ?it/…"
      ]
     },
     "metadata": {},
     "output_type": "display_data"
    },
    {
     "data": {
      "application/vnd.jupyter.widget-view+json": {
       "model_id": "",
       "version_major": 2,
       "version_minor": 0
      },
      "text/plain": [
       "images, learn step=3, nu=0.036, trial=0, clust. size=16, clusters=91900:   0%|          | 0/100 [00:00<?, ?it/…"
      ]
     },
     "metadata": {},
     "output_type": "display_data"
    },
    {
     "data": {
      "application/vnd.jupyter.widget-view+json": {
       "model_id": "",
       "version_major": 2,
       "version_minor": 0
      },
      "text/plain": [
       "images, learn step=4, nu=0.033, trial=0, clust. size=16, clusters=91900:   0%|          | 0/100 [00:00<?, ?it/…"
      ]
     },
     "metadata": {},
     "output_type": "display_data"
    },
    {
     "data": {
      "application/vnd.jupyter.widget-view+json": {
       "model_id": "",
       "version_major": 2,
       "version_minor": 0
      },
      "text/plain": [
       "images, learn step=5, nu=0.030, trial=0, clust. size=16, clusters=91900:   0%|          | 0/100 [00:00<?, ?it/…"
      ]
     },
     "metadata": {},
     "output_type": "display_data"
    },
    {
     "data": {
      "application/vnd.jupyter.widget-view+json": {
       "model_id": "",
       "version_major": 2,
       "version_minor": 0
      },
      "text/plain": [
       "images, learn step=6, nu=0.027, trial=0, clust. size=16, clusters=91900:   0%|          | 0/100 [00:00<?, ?it/…"
      ]
     },
     "metadata": {},
     "output_type": "display_data"
    },
    {
     "data": {
      "application/vnd.jupyter.widget-view+json": {
       "model_id": "",
       "version_major": 2,
       "version_minor": 0
      },
      "text/plain": [
       "images, learn step=7, nu=0.024, trial=0, clust. size=16, clusters=91900:   0%|          | 0/100 [00:00<?, ?it/…"
      ]
     },
     "metadata": {},
     "output_type": "display_data"
    },
    {
     "data": {
      "application/vnd.jupyter.widget-view+json": {
       "model_id": "",
       "version_major": 2,
       "version_minor": 0
      },
      "text/plain": [
       "images, learn step=8, nu=0.022, trial=0, clust. size=16, clusters=91900:   0%|          | 0/100 [00:00<?, ?it/…"
      ]
     },
     "metadata": {},
     "output_type": "display_data"
    },
    {
     "data": {
      "application/vnd.jupyter.widget-view+json": {
       "model_id": "",
       "version_major": 2,
       "version_minor": 0
      },
      "text/plain": [
       "images, learn step=9, nu=0.019, trial=0, clust. size=16, clusters=91900:   0%|          | 0/100 [00:00<?, ?it/…"
      ]
     },
     "metadata": {},
     "output_type": "display_data"
    },
    {
     "name": "stdout",
     "output_type": "stream",
     "text": [
      "3 good clusters found so far\n"
     ]
    },
    {
     "data": {
      "application/vnd.jupyter.widget-view+json": {
       "model_id": "",
       "version_major": 2,
       "version_minor": 0
      },
      "text/plain": [
       "learning, trial=1, clust. size=16, clusters=91900:   0%|          | 0/10 [00:00<?, ?it/s]"
      ]
     },
     "metadata": {},
     "output_type": "display_data"
    },
    {
     "data": {
      "application/vnd.jupyter.widget-view+json": {
       "model_id": "",
       "version_major": 2,
       "version_minor": 0
      },
      "text/plain": [
       "images, learn step=0, nu=0.050, trial=1, clust. size=16, clusters=91900:   0%|          | 0/100 [00:00<?, ?it/…"
      ]
     },
     "metadata": {},
     "output_type": "display_data"
    },
    {
     "data": {
      "application/vnd.jupyter.widget-view+json": {
       "model_id": "",
       "version_major": 2,
       "version_minor": 0
      },
      "text/plain": [
       "images, learn step=1, nu=0.045, trial=1, clust. size=16, clusters=91900:   0%|          | 0/100 [00:00<?, ?it/…"
      ]
     },
     "metadata": {},
     "output_type": "display_data"
    },
    {
     "data": {
      "application/vnd.jupyter.widget-view+json": {
       "model_id": "",
       "version_major": 2,
       "version_minor": 0
      },
      "text/plain": [
       "images, learn step=2, nu=0.041, trial=1, clust. size=16, clusters=91900:   0%|          | 0/100 [00:00<?, ?it/…"
      ]
     },
     "metadata": {},
     "output_type": "display_data"
    },
    {
     "data": {
      "application/vnd.jupyter.widget-view+json": {
       "model_id": "",
       "version_major": 2,
       "version_minor": 0
      },
      "text/plain": [
       "images, learn step=3, nu=0.036, trial=1, clust. size=16, clusters=91900:   0%|          | 0/100 [00:00<?, ?it/…"
      ]
     },
     "metadata": {},
     "output_type": "display_data"
    },
    {
     "data": {
      "application/vnd.jupyter.widget-view+json": {
       "model_id": "",
       "version_major": 2,
       "version_minor": 0
      },
      "text/plain": [
       "images, learn step=4, nu=0.033, trial=1, clust. size=16, clusters=91900:   0%|          | 0/100 [00:00<?, ?it/…"
      ]
     },
     "metadata": {},
     "output_type": "display_data"
    },
    {
     "data": {
      "application/vnd.jupyter.widget-view+json": {
       "model_id": "",
       "version_major": 2,
       "version_minor": 0
      },
      "text/plain": [
       "images, learn step=5, nu=0.030, trial=1, clust. size=16, clusters=91900:   0%|          | 0/100 [00:00<?, ?it/…"
      ]
     },
     "metadata": {},
     "output_type": "display_data"
    },
    {
     "data": {
      "application/vnd.jupyter.widget-view+json": {
       "model_id": "",
       "version_major": 2,
       "version_minor": 0
      },
      "text/plain": [
       "images, learn step=6, nu=0.027, trial=1, clust. size=16, clusters=91900:   0%|          | 0/100 [00:00<?, ?it/…"
      ]
     },
     "metadata": {},
     "output_type": "display_data"
    },
    {
     "data": {
      "application/vnd.jupyter.widget-view+json": {
       "model_id": "",
       "version_major": 2,
       "version_minor": 0
      },
      "text/plain": [
       "images, learn step=7, nu=0.024, trial=1, clust. size=16, clusters=91900:   0%|          | 0/100 [00:00<?, ?it/…"
      ]
     },
     "metadata": {},
     "output_type": "display_data"
    },
    {
     "data": {
      "application/vnd.jupyter.widget-view+json": {
       "model_id": "",
       "version_major": 2,
       "version_minor": 0
      },
      "text/plain": [
       "images, learn step=8, nu=0.022, trial=1, clust. size=16, clusters=91900:   0%|          | 0/100 [00:00<?, ?it/…"
      ]
     },
     "metadata": {},
     "output_type": "display_data"
    },
    {
     "data": {
      "application/vnd.jupyter.widget-view+json": {
       "model_id": "",
       "version_major": 2,
       "version_minor": 0
      },
      "text/plain": [
       "images, learn step=9, nu=0.019, trial=1, clust. size=16, clusters=91900:   0%|          | 0/100 [00:00<?, ?it/…"
      ]
     },
     "metadata": {},
     "output_type": "display_data"
    },
    {
     "name": "stdout",
     "output_type": "stream",
     "text": [
      "5 good clusters found so far\n"
     ]
    },
    {
     "data": {
      "application/vnd.jupyter.widget-view+json": {
       "model_id": "",
       "version_major": 2,
       "version_minor": 0
      },
      "text/plain": [
       "learning, trial=2, clust. size=16, clusters=91900:   0%|          | 0/10 [00:00<?, ?it/s]"
      ]
     },
     "metadata": {},
     "output_type": "display_data"
    },
    {
     "data": {
      "application/vnd.jupyter.widget-view+json": {
       "model_id": "",
       "version_major": 2,
       "version_minor": 0
      },
      "text/plain": [
       "images, learn step=0, nu=0.050, trial=2, clust. size=16, clusters=91900:   0%|          | 0/100 [00:00<?, ?it/…"
      ]
     },
     "metadata": {},
     "output_type": "display_data"
    },
    {
     "data": {
      "application/vnd.jupyter.widget-view+json": {
       "model_id": "",
       "version_major": 2,
       "version_minor": 0
      },
      "text/plain": [
       "images, learn step=1, nu=0.045, trial=2, clust. size=16, clusters=91900:   0%|          | 0/100 [00:00<?, ?it/…"
      ]
     },
     "metadata": {},
     "output_type": "display_data"
    },
    {
     "data": {
      "application/vnd.jupyter.widget-view+json": {
       "model_id": "",
       "version_major": 2,
       "version_minor": 0
      },
      "text/plain": [
       "images, learn step=2, nu=0.041, trial=2, clust. size=16, clusters=91900:   0%|          | 0/100 [00:00<?, ?it/…"
      ]
     },
     "metadata": {},
     "output_type": "display_data"
    },
    {
     "data": {
      "application/vnd.jupyter.widget-view+json": {
       "model_id": "",
       "version_major": 2,
       "version_minor": 0
      },
      "text/plain": [
       "images, learn step=3, nu=0.036, trial=2, clust. size=16, clusters=91900:   0%|          | 0/100 [00:00<?, ?it/…"
      ]
     },
     "metadata": {},
     "output_type": "display_data"
    },
    {
     "data": {
      "application/vnd.jupyter.widget-view+json": {
       "model_id": "",
       "version_major": 2,
       "version_minor": 0
      },
      "text/plain": [
       "images, learn step=4, nu=0.033, trial=2, clust. size=16, clusters=91900:   0%|          | 0/100 [00:00<?, ?it/…"
      ]
     },
     "metadata": {},
     "output_type": "display_data"
    },
    {
     "data": {
      "application/vnd.jupyter.widget-view+json": {
       "model_id": "",
       "version_major": 2,
       "version_minor": 0
      },
      "text/plain": [
       "images, learn step=5, nu=0.030, trial=2, clust. size=16, clusters=91900:   0%|          | 0/100 [00:00<?, ?it/…"
      ]
     },
     "metadata": {},
     "output_type": "display_data"
    },
    {
     "data": {
      "application/vnd.jupyter.widget-view+json": {
       "model_id": "",
       "version_major": 2,
       "version_minor": 0
      },
      "text/plain": [
       "images, learn step=6, nu=0.027, trial=2, clust. size=16, clusters=91900:   0%|          | 0/100 [00:00<?, ?it/…"
      ]
     },
     "metadata": {},
     "output_type": "display_data"
    },
    {
     "data": {
      "application/vnd.jupyter.widget-view+json": {
       "model_id": "",
       "version_major": 2,
       "version_minor": 0
      },
      "text/plain": [
       "images, learn step=7, nu=0.024, trial=2, clust. size=16, clusters=91900:   0%|          | 0/100 [00:00<?, ?it/…"
      ]
     },
     "metadata": {},
     "output_type": "display_data"
    },
    {
     "data": {
      "application/vnd.jupyter.widget-view+json": {
       "model_id": "",
       "version_major": 2,
       "version_minor": 0
      },
      "text/plain": [
       "images, learn step=8, nu=0.022, trial=2, clust. size=16, clusters=91900:   0%|          | 0/100 [00:00<?, ?it/…"
      ]
     },
     "metadata": {},
     "output_type": "display_data"
    },
    {
     "data": {
      "application/vnd.jupyter.widget-view+json": {
       "model_id": "",
       "version_major": 2,
       "version_minor": 0
      },
      "text/plain": [
       "images, learn step=9, nu=0.019, trial=2, clust. size=16, clusters=91900:   0%|          | 0/100 [00:00<?, ?it/…"
      ]
     },
     "metadata": {},
     "output_type": "display_data"
    },
    {
     "name": "stdout",
     "output_type": "stream",
     "text": [
      "7 good clusters found so far\n"
     ]
    },
    {
     "data": {
      "application/vnd.jupyter.widget-view+json": {
       "model_id": "",
       "version_major": 2,
       "version_minor": 0
      },
      "text/plain": [
       "learning, trial=3, clust. size=16, clusters=91900:   0%|          | 0/10 [00:00<?, ?it/s]"
      ]
     },
     "metadata": {},
     "output_type": "display_data"
    },
    {
     "data": {
      "application/vnd.jupyter.widget-view+json": {
       "model_id": "",
       "version_major": 2,
       "version_minor": 0
      },
      "text/plain": [
       "images, learn step=0, nu=0.050, trial=3, clust. size=16, clusters=91900:   0%|          | 0/100 [00:00<?, ?it/…"
      ]
     },
     "metadata": {},
     "output_type": "display_data"
    },
    {
     "data": {
      "application/vnd.jupyter.widget-view+json": {
       "model_id": "",
       "version_major": 2,
       "version_minor": 0
      },
      "text/plain": [
       "images, learn step=1, nu=0.045, trial=3, clust. size=16, clusters=91900:   0%|          | 0/100 [00:00<?, ?it/…"
      ]
     },
     "metadata": {},
     "output_type": "display_data"
    },
    {
     "data": {
      "application/vnd.jupyter.widget-view+json": {
       "model_id": "",
       "version_major": 2,
       "version_minor": 0
      },
      "text/plain": [
       "images, learn step=2, nu=0.041, trial=3, clust. size=16, clusters=91900:   0%|          | 0/100 [00:00<?, ?it/…"
      ]
     },
     "metadata": {},
     "output_type": "display_data"
    },
    {
     "data": {
      "application/vnd.jupyter.widget-view+json": {
       "model_id": "",
       "version_major": 2,
       "version_minor": 0
      },
      "text/plain": [
       "images, learn step=3, nu=0.036, trial=3, clust. size=16, clusters=91900:   0%|          | 0/100 [00:00<?, ?it/…"
      ]
     },
     "metadata": {},
     "output_type": "display_data"
    },
    {
     "data": {
      "application/vnd.jupyter.widget-view+json": {
       "model_id": "",
       "version_major": 2,
       "version_minor": 0
      },
      "text/plain": [
       "images, learn step=4, nu=0.033, trial=3, clust. size=16, clusters=91900:   0%|          | 0/100 [00:00<?, ?it/…"
      ]
     },
     "metadata": {},
     "output_type": "display_data"
    },
    {
     "data": {
      "application/vnd.jupyter.widget-view+json": {
       "model_id": "",
       "version_major": 2,
       "version_minor": 0
      },
      "text/plain": [
       "images, learn step=5, nu=0.030, trial=3, clust. size=16, clusters=91900:   0%|          | 0/100 [00:00<?, ?it/…"
      ]
     },
     "metadata": {},
     "output_type": "display_data"
    },
    {
     "data": {
      "application/vnd.jupyter.widget-view+json": {
       "model_id": "",
       "version_major": 2,
       "version_minor": 0
      },
      "text/plain": [
       "images, learn step=6, nu=0.027, trial=3, clust. size=16, clusters=91900:   0%|          | 0/100 [00:00<?, ?it/…"
      ]
     },
     "metadata": {},
     "output_type": "display_data"
    },
    {
     "data": {
      "application/vnd.jupyter.widget-view+json": {
       "model_id": "",
       "version_major": 2,
       "version_minor": 0
      },
      "text/plain": [
       "images, learn step=7, nu=0.024, trial=3, clust. size=16, clusters=91900:   0%|          | 0/100 [00:00<?, ?it/…"
      ]
     },
     "metadata": {},
     "output_type": "display_data"
    },
    {
     "data": {
      "application/vnd.jupyter.widget-view+json": {
       "model_id": "",
       "version_major": 2,
       "version_minor": 0
      },
      "text/plain": [
       "images, learn step=8, nu=0.022, trial=3, clust. size=16, clusters=91900:   0%|          | 0/100 [00:00<?, ?it/…"
      ]
     },
     "metadata": {},
     "output_type": "display_data"
    },
    {
     "data": {
      "application/vnd.jupyter.widget-view+json": {
       "model_id": "",
       "version_major": 2,
       "version_minor": 0
      },
      "text/plain": [
       "images, learn step=9, nu=0.019, trial=3, clust. size=16, clusters=91900:   0%|          | 0/100 [00:00<?, ?it/…"
      ]
     },
     "metadata": {},
     "output_type": "display_data"
    },
    {
     "name": "stdout",
     "output_type": "stream",
     "text": [
      "9 good clusters found so far\n"
     ]
    },
    {
     "data": {
      "application/vnd.jupyter.widget-view+json": {
       "model_id": "",
       "version_major": 2,
       "version_minor": 0
      },
      "text/plain": [
       "learning, trial=4, clust. size=16, clusters=91900:   0%|          | 0/10 [00:00<?, ?it/s]"
      ]
     },
     "metadata": {},
     "output_type": "display_data"
    },
    {
     "data": {
      "application/vnd.jupyter.widget-view+json": {
       "model_id": "",
       "version_major": 2,
       "version_minor": 0
      },
      "text/plain": [
       "images, learn step=0, nu=0.050, trial=4, clust. size=16, clusters=91900:   0%|          | 0/100 [00:00<?, ?it/…"
      ]
     },
     "metadata": {},
     "output_type": "display_data"
    },
    {
     "data": {
      "application/vnd.jupyter.widget-view+json": {
       "model_id": "",
       "version_major": 2,
       "version_minor": 0
      },
      "text/plain": [
       "images, learn step=1, nu=0.045, trial=4, clust. size=16, clusters=91900:   0%|          | 0/100 [00:00<?, ?it/…"
      ]
     },
     "metadata": {},
     "output_type": "display_data"
    },
    {
     "data": {
      "application/vnd.jupyter.widget-view+json": {
       "model_id": "",
       "version_major": 2,
       "version_minor": 0
      },
      "text/plain": [
       "images, learn step=2, nu=0.041, trial=4, clust. size=16, clusters=91900:   0%|          | 0/100 [00:00<?, ?it/…"
      ]
     },
     "metadata": {},
     "output_type": "display_data"
    },
    {
     "data": {
      "application/vnd.jupyter.widget-view+json": {
       "model_id": "",
       "version_major": 2,
       "version_minor": 0
      },
      "text/plain": [
       "images, learn step=3, nu=0.036, trial=4, clust. size=16, clusters=91900:   0%|          | 0/100 [00:00<?, ?it/…"
      ]
     },
     "metadata": {},
     "output_type": "display_data"
    },
    {
     "data": {
      "application/vnd.jupyter.widget-view+json": {
       "model_id": "",
       "version_major": 2,
       "version_minor": 0
      },
      "text/plain": [
       "images, learn step=4, nu=0.033, trial=4, clust. size=16, clusters=91900:   0%|          | 0/100 [00:00<?, ?it/…"
      ]
     },
     "metadata": {},
     "output_type": "display_data"
    },
    {
     "data": {
      "application/vnd.jupyter.widget-view+json": {
       "model_id": "",
       "version_major": 2,
       "version_minor": 0
      },
      "text/plain": [
       "images, learn step=5, nu=0.030, trial=4, clust. size=16, clusters=91900:   0%|          | 0/100 [00:00<?, ?it/…"
      ]
     },
     "metadata": {},
     "output_type": "display_data"
    },
    {
     "data": {
      "application/vnd.jupyter.widget-view+json": {
       "model_id": "",
       "version_major": 2,
       "version_minor": 0
      },
      "text/plain": [
       "images, learn step=6, nu=0.027, trial=4, clust. size=16, clusters=91900:   0%|          | 0/100 [00:00<?, ?it/…"
      ]
     },
     "metadata": {},
     "output_type": "display_data"
    },
    {
     "data": {
      "application/vnd.jupyter.widget-view+json": {
       "model_id": "",
       "version_major": 2,
       "version_minor": 0
      },
      "text/plain": [
       "images, learn step=7, nu=0.024, trial=4, clust. size=16, clusters=91900:   0%|          | 0/100 [00:00<?, ?it/…"
      ]
     },
     "metadata": {},
     "output_type": "display_data"
    },
    {
     "data": {
      "application/vnd.jupyter.widget-view+json": {
       "model_id": "",
       "version_major": 2,
       "version_minor": 0
      },
      "text/plain": [
       "images, learn step=8, nu=0.022, trial=4, clust. size=16, clusters=91900:   0%|          | 0/100 [00:00<?, ?it/…"
      ]
     },
     "metadata": {},
     "output_type": "display_data"
    },
    {
     "data": {
      "application/vnd.jupyter.widget-view+json": {
       "model_id": "",
       "version_major": 2,
       "version_minor": 0
      },
      "text/plain": [
       "images, learn step=9, nu=0.019, trial=4, clust. size=16, clusters=91900:   0%|          | 0/100 [00:00<?, ?it/…"
      ]
     },
     "metadata": {},
     "output_type": "display_data"
    },
    {
     "name": "stdout",
     "output_type": "stream",
     "text": [
      "14 good clusters found so far\n"
     ]
    },
    {
     "data": {
      "application/vnd.jupyter.widget-view+json": {
       "model_id": "",
       "version_major": 2,
       "version_minor": 0
      },
      "text/plain": [
       "learning, trial=5, clust. size=16, clusters=91900:   0%|          | 0/10 [00:00<?, ?it/s]"
      ]
     },
     "metadata": {},
     "output_type": "display_data"
    },
    {
     "data": {
      "application/vnd.jupyter.widget-view+json": {
       "model_id": "",
       "version_major": 2,
       "version_minor": 0
      },
      "text/plain": [
       "images, learn step=0, nu=0.050, trial=5, clust. size=16, clusters=91900:   0%|          | 0/100 [00:00<?, ?it/…"
      ]
     },
     "metadata": {},
     "output_type": "display_data"
    },
    {
     "data": {
      "application/vnd.jupyter.widget-view+json": {
       "model_id": "",
       "version_major": 2,
       "version_minor": 0
      },
      "text/plain": [
       "images, learn step=1, nu=0.045, trial=5, clust. size=16, clusters=91900:   0%|          | 0/100 [00:00<?, ?it/…"
      ]
     },
     "metadata": {},
     "output_type": "display_data"
    },
    {
     "data": {
      "application/vnd.jupyter.widget-view+json": {
       "model_id": "",
       "version_major": 2,
       "version_minor": 0
      },
      "text/plain": [
       "images, learn step=2, nu=0.041, trial=5, clust. size=16, clusters=91900:   0%|          | 0/100 [00:00<?, ?it/…"
      ]
     },
     "metadata": {},
     "output_type": "display_data"
    },
    {
     "data": {
      "application/vnd.jupyter.widget-view+json": {
       "model_id": "",
       "version_major": 2,
       "version_minor": 0
      },
      "text/plain": [
       "images, learn step=3, nu=0.036, trial=5, clust. size=16, clusters=91900:   0%|          | 0/100 [00:00<?, ?it/…"
      ]
     },
     "metadata": {},
     "output_type": "display_data"
    },
    {
     "data": {
      "application/vnd.jupyter.widget-view+json": {
       "model_id": "",
       "version_major": 2,
       "version_minor": 0
      },
      "text/plain": [
       "images, learn step=4, nu=0.033, trial=5, clust. size=16, clusters=91900:   0%|          | 0/100 [00:00<?, ?it/…"
      ]
     },
     "metadata": {},
     "output_type": "display_data"
    },
    {
     "data": {
      "application/vnd.jupyter.widget-view+json": {
       "model_id": "",
       "version_major": 2,
       "version_minor": 0
      },
      "text/plain": [
       "images, learn step=5, nu=0.030, trial=5, clust. size=16, clusters=91900:   0%|          | 0/100 [00:00<?, ?it/…"
      ]
     },
     "metadata": {},
     "output_type": "display_data"
    },
    {
     "data": {
      "application/vnd.jupyter.widget-view+json": {
       "model_id": "",
       "version_major": 2,
       "version_minor": 0
      },
      "text/plain": [
       "images, learn step=6, nu=0.027, trial=5, clust. size=16, clusters=91900:   0%|          | 0/100 [00:00<?, ?it/…"
      ]
     },
     "metadata": {},
     "output_type": "display_data"
    },
    {
     "data": {
      "application/vnd.jupyter.widget-view+json": {
       "model_id": "",
       "version_major": 2,
       "version_minor": 0
      },
      "text/plain": [
       "images, learn step=7, nu=0.024, trial=5, clust. size=16, clusters=91900:   0%|          | 0/100 [00:00<?, ?it/…"
      ]
     },
     "metadata": {},
     "output_type": "display_data"
    },
    {
     "data": {
      "application/vnd.jupyter.widget-view+json": {
       "model_id": "",
       "version_major": 2,
       "version_minor": 0
      },
      "text/plain": [
       "images, learn step=8, nu=0.022, trial=5, clust. size=16, clusters=91900:   0%|          | 0/100 [00:00<?, ?it/…"
      ]
     },
     "metadata": {},
     "output_type": "display_data"
    },
    {
     "data": {
      "application/vnd.jupyter.widget-view+json": {
       "model_id": "",
       "version_major": 2,
       "version_minor": 0
      },
      "text/plain": [
       "images, learn step=9, nu=0.019, trial=5, clust. size=16, clusters=91900:   0%|          | 0/100 [00:00<?, ?it/…"
      ]
     },
     "metadata": {},
     "output_type": "display_data"
    },
    {
     "name": "stdout",
     "output_type": "stream",
     "text": [
      "17 good clusters found so far\n"
     ]
    },
    {
     "data": {
      "application/vnd.jupyter.widget-view+json": {
       "model_id": "",
       "version_major": 2,
       "version_minor": 0
      },
      "text/plain": [
       "learning, trial=6, clust. size=16, clusters=91900:   0%|          | 0/10 [00:00<?, ?it/s]"
      ]
     },
     "metadata": {},
     "output_type": "display_data"
    },
    {
     "data": {
      "application/vnd.jupyter.widget-view+json": {
       "model_id": "",
       "version_major": 2,
       "version_minor": 0
      },
      "text/plain": [
       "images, learn step=0, nu=0.050, trial=6, clust. size=16, clusters=91900:   0%|          | 0/100 [00:00<?, ?it/…"
      ]
     },
     "metadata": {},
     "output_type": "display_data"
    },
    {
     "data": {
      "application/vnd.jupyter.widget-view+json": {
       "model_id": "",
       "version_major": 2,
       "version_minor": 0
      },
      "text/plain": [
       "images, learn step=1, nu=0.045, trial=6, clust. size=16, clusters=91900:   0%|          | 0/100 [00:00<?, ?it/…"
      ]
     },
     "metadata": {},
     "output_type": "display_data"
    },
    {
     "data": {
      "application/vnd.jupyter.widget-view+json": {
       "model_id": "",
       "version_major": 2,
       "version_minor": 0
      },
      "text/plain": [
       "images, learn step=2, nu=0.041, trial=6, clust. size=16, clusters=91900:   0%|          | 0/100 [00:00<?, ?it/…"
      ]
     },
     "metadata": {},
     "output_type": "display_data"
    },
    {
     "data": {
      "application/vnd.jupyter.widget-view+json": {
       "model_id": "",
       "version_major": 2,
       "version_minor": 0
      },
      "text/plain": [
       "images, learn step=3, nu=0.036, trial=6, clust. size=16, clusters=91900:   0%|          | 0/100 [00:00<?, ?it/…"
      ]
     },
     "metadata": {},
     "output_type": "display_data"
    },
    {
     "data": {
      "application/vnd.jupyter.widget-view+json": {
       "model_id": "",
       "version_major": 2,
       "version_minor": 0
      },
      "text/plain": [
       "images, learn step=4, nu=0.033, trial=6, clust. size=16, clusters=91900:   0%|          | 0/100 [00:00<?, ?it/…"
      ]
     },
     "metadata": {},
     "output_type": "display_data"
    },
    {
     "data": {
      "application/vnd.jupyter.widget-view+json": {
       "model_id": "",
       "version_major": 2,
       "version_minor": 0
      },
      "text/plain": [
       "images, learn step=5, nu=0.030, trial=6, clust. size=16, clusters=91900:   0%|          | 0/100 [00:00<?, ?it/…"
      ]
     },
     "metadata": {},
     "output_type": "display_data"
    },
    {
     "data": {
      "application/vnd.jupyter.widget-view+json": {
       "model_id": "",
       "version_major": 2,
       "version_minor": 0
      },
      "text/plain": [
       "images, learn step=6, nu=0.027, trial=6, clust. size=16, clusters=91900:   0%|          | 0/100 [00:00<?, ?it/…"
      ]
     },
     "metadata": {},
     "output_type": "display_data"
    },
    {
     "data": {
      "application/vnd.jupyter.widget-view+json": {
       "model_id": "",
       "version_major": 2,
       "version_minor": 0
      },
      "text/plain": [
       "images, learn step=7, nu=0.024, trial=6, clust. size=16, clusters=91900:   0%|          | 0/100 [00:00<?, ?it/…"
      ]
     },
     "metadata": {},
     "output_type": "display_data"
    },
    {
     "data": {
      "application/vnd.jupyter.widget-view+json": {
       "model_id": "",
       "version_major": 2,
       "version_minor": 0
      },
      "text/plain": [
       "images, learn step=8, nu=0.022, trial=6, clust. size=16, clusters=91900:   0%|          | 0/100 [00:00<?, ?it/…"
      ]
     },
     "metadata": {},
     "output_type": "display_data"
    },
    {
     "data": {
      "application/vnd.jupyter.widget-view+json": {
       "model_id": "",
       "version_major": 2,
       "version_minor": 0
      },
      "text/plain": [
       "images, learn step=9, nu=0.019, trial=6, clust. size=16, clusters=91900:   0%|          | 0/100 [00:00<?, ?it/…"
      ]
     },
     "metadata": {},
     "output_type": "display_data"
    },
    {
     "name": "stdout",
     "output_type": "stream",
     "text": [
      "23 good clusters found so far\n"
     ]
    },
    {
     "data": {
      "application/vnd.jupyter.widget-view+json": {
       "model_id": "",
       "version_major": 2,
       "version_minor": 0
      },
      "text/plain": [
       "learning, trial=7, clust. size=16, clusters=91900:   0%|          | 0/10 [00:00<?, ?it/s]"
      ]
     },
     "metadata": {},
     "output_type": "display_data"
    },
    {
     "data": {
      "application/vnd.jupyter.widget-view+json": {
       "model_id": "",
       "version_major": 2,
       "version_minor": 0
      },
      "text/plain": [
       "images, learn step=0, nu=0.050, trial=7, clust. size=16, clusters=91900:   0%|          | 0/100 [00:00<?, ?it/…"
      ]
     },
     "metadata": {},
     "output_type": "display_data"
    },
    {
     "data": {
      "application/vnd.jupyter.widget-view+json": {
       "model_id": "",
       "version_major": 2,
       "version_minor": 0
      },
      "text/plain": [
       "images, learn step=1, nu=0.045, trial=7, clust. size=16, clusters=91900:   0%|          | 0/100 [00:00<?, ?it/…"
      ]
     },
     "metadata": {},
     "output_type": "display_data"
    },
    {
     "data": {
      "application/vnd.jupyter.widget-view+json": {
       "model_id": "",
       "version_major": 2,
       "version_minor": 0
      },
      "text/plain": [
       "images, learn step=2, nu=0.041, trial=7, clust. size=16, clusters=91900:   0%|          | 0/100 [00:00<?, ?it/…"
      ]
     },
     "metadata": {},
     "output_type": "display_data"
    },
    {
     "data": {
      "application/vnd.jupyter.widget-view+json": {
       "model_id": "",
       "version_major": 2,
       "version_minor": 0
      },
      "text/plain": [
       "images, learn step=3, nu=0.036, trial=7, clust. size=16, clusters=91900:   0%|          | 0/100 [00:00<?, ?it/…"
      ]
     },
     "metadata": {},
     "output_type": "display_data"
    },
    {
     "data": {
      "application/vnd.jupyter.widget-view+json": {
       "model_id": "",
       "version_major": 2,
       "version_minor": 0
      },
      "text/plain": [
       "images, learn step=4, nu=0.033, trial=7, clust. size=16, clusters=91900:   0%|          | 0/100 [00:00<?, ?it/…"
      ]
     },
     "metadata": {},
     "output_type": "display_data"
    },
    {
     "data": {
      "application/vnd.jupyter.widget-view+json": {
       "model_id": "",
       "version_major": 2,
       "version_minor": 0
      },
      "text/plain": [
       "images, learn step=5, nu=0.030, trial=7, clust. size=16, clusters=91900:   0%|          | 0/100 [00:00<?, ?it/…"
      ]
     },
     "metadata": {},
     "output_type": "display_data"
    },
    {
     "data": {
      "application/vnd.jupyter.widget-view+json": {
       "model_id": "",
       "version_major": 2,
       "version_minor": 0
      },
      "text/plain": [
       "images, learn step=6, nu=0.027, trial=7, clust. size=16, clusters=91900:   0%|          | 0/100 [00:00<?, ?it/…"
      ]
     },
     "metadata": {},
     "output_type": "display_data"
    },
    {
     "data": {
      "application/vnd.jupyter.widget-view+json": {
       "model_id": "",
       "version_major": 2,
       "version_minor": 0
      },
      "text/plain": [
       "images, learn step=7, nu=0.024, trial=7, clust. size=16, clusters=91900:   0%|          | 0/100 [00:00<?, ?it/…"
      ]
     },
     "metadata": {},
     "output_type": "display_data"
    },
    {
     "data": {
      "application/vnd.jupyter.widget-view+json": {
       "model_id": "",
       "version_major": 2,
       "version_minor": 0
      },
      "text/plain": [
       "images, learn step=8, nu=0.022, trial=7, clust. size=16, clusters=91900:   0%|          | 0/100 [00:00<?, ?it/…"
      ]
     },
     "metadata": {},
     "output_type": "display_data"
    },
    {
     "data": {
      "application/vnd.jupyter.widget-view+json": {
       "model_id": "",
       "version_major": 2,
       "version_minor": 0
      },
      "text/plain": [
       "images, learn step=9, nu=0.019, trial=7, clust. size=16, clusters=91900:   0%|          | 0/100 [00:00<?, ?it/…"
      ]
     },
     "metadata": {},
     "output_type": "display_data"
    },
    {
     "name": "stdout",
     "output_type": "stream",
     "text": [
      "25 good clusters found so far\n"
     ]
    },
    {
     "data": {
      "application/vnd.jupyter.widget-view+json": {
       "model_id": "",
       "version_major": 2,
       "version_minor": 0
      },
      "text/plain": [
       "learning, trial=8, clust. size=16, clusters=91900:   0%|          | 0/10 [00:00<?, ?it/s]"
      ]
     },
     "metadata": {},
     "output_type": "display_data"
    },
    {
     "data": {
      "application/vnd.jupyter.widget-view+json": {
       "model_id": "",
       "version_major": 2,
       "version_minor": 0
      },
      "text/plain": [
       "images, learn step=0, nu=0.050, trial=8, clust. size=16, clusters=91900:   0%|          | 0/100 [00:00<?, ?it/…"
      ]
     },
     "metadata": {},
     "output_type": "display_data"
    },
    {
     "data": {
      "application/vnd.jupyter.widget-view+json": {
       "model_id": "",
       "version_major": 2,
       "version_minor": 0
      },
      "text/plain": [
       "images, learn step=1, nu=0.045, trial=8, clust. size=16, clusters=91900:   0%|          | 0/100 [00:00<?, ?it/…"
      ]
     },
     "metadata": {},
     "output_type": "display_data"
    },
    {
     "data": {
      "application/vnd.jupyter.widget-view+json": {
       "model_id": "",
       "version_major": 2,
       "version_minor": 0
      },
      "text/plain": [
       "images, learn step=2, nu=0.041, trial=8, clust. size=16, clusters=91900:   0%|          | 0/100 [00:00<?, ?it/…"
      ]
     },
     "metadata": {},
     "output_type": "display_data"
    },
    {
     "data": {
      "application/vnd.jupyter.widget-view+json": {
       "model_id": "",
       "version_major": 2,
       "version_minor": 0
      },
      "text/plain": [
       "images, learn step=3, nu=0.036, trial=8, clust. size=16, clusters=91900:   0%|          | 0/100 [00:00<?, ?it/…"
      ]
     },
     "metadata": {},
     "output_type": "display_data"
    },
    {
     "data": {
      "application/vnd.jupyter.widget-view+json": {
       "model_id": "",
       "version_major": 2,
       "version_minor": 0
      },
      "text/plain": [
       "images, learn step=4, nu=0.033, trial=8, clust. size=16, clusters=91900:   0%|          | 0/100 [00:00<?, ?it/…"
      ]
     },
     "metadata": {},
     "output_type": "display_data"
    },
    {
     "data": {
      "application/vnd.jupyter.widget-view+json": {
       "model_id": "",
       "version_major": 2,
       "version_minor": 0
      },
      "text/plain": [
       "images, learn step=5, nu=0.030, trial=8, clust. size=16, clusters=91900:   0%|          | 0/100 [00:00<?, ?it/…"
      ]
     },
     "metadata": {},
     "output_type": "display_data"
    },
    {
     "data": {
      "application/vnd.jupyter.widget-view+json": {
       "model_id": "",
       "version_major": 2,
       "version_minor": 0
      },
      "text/plain": [
       "images, learn step=6, nu=0.027, trial=8, clust. size=16, clusters=91900:   0%|          | 0/100 [00:00<?, ?it/…"
      ]
     },
     "metadata": {},
     "output_type": "display_data"
    },
    {
     "data": {
      "application/vnd.jupyter.widget-view+json": {
       "model_id": "",
       "version_major": 2,
       "version_minor": 0
      },
      "text/plain": [
       "images, learn step=7, nu=0.024, trial=8, clust. size=16, clusters=91900:   0%|          | 0/100 [00:00<?, ?it/…"
      ]
     },
     "metadata": {},
     "output_type": "display_data"
    },
    {
     "data": {
      "application/vnd.jupyter.widget-view+json": {
       "model_id": "",
       "version_major": 2,
       "version_minor": 0
      },
      "text/plain": [
       "images, learn step=8, nu=0.022, trial=8, clust. size=16, clusters=91900:   0%|          | 0/100 [00:00<?, ?it/…"
      ]
     },
     "metadata": {},
     "output_type": "display_data"
    },
    {
     "data": {
      "application/vnd.jupyter.widget-view+json": {
       "model_id": "",
       "version_major": 2,
       "version_minor": 0
      },
      "text/plain": [
       "images, learn step=9, nu=0.019, trial=8, clust. size=16, clusters=91900:   0%|          | 0/100 [00:00<?, ?it/…"
      ]
     },
     "metadata": {},
     "output_type": "display_data"
    },
    {
     "name": "stdout",
     "output_type": "stream",
     "text": [
      "29 good clusters found so far\n"
     ]
    },
    {
     "data": {
      "application/vnd.jupyter.widget-view+json": {
       "model_id": "",
       "version_major": 2,
       "version_minor": 0
      },
      "text/plain": [
       "learning, trial=9, clust. size=16, clusters=91900:   0%|          | 0/10 [00:00<?, ?it/s]"
      ]
     },
     "metadata": {},
     "output_type": "display_data"
    },
    {
     "data": {
      "application/vnd.jupyter.widget-view+json": {
       "model_id": "",
       "version_major": 2,
       "version_minor": 0
      },
      "text/plain": [
       "images, learn step=0, nu=0.050, trial=9, clust. size=16, clusters=91900:   0%|          | 0/100 [00:00<?, ?it/…"
      ]
     },
     "metadata": {},
     "output_type": "display_data"
    },
    {
     "data": {
      "application/vnd.jupyter.widget-view+json": {
       "model_id": "",
       "version_major": 2,
       "version_minor": 0
      },
      "text/plain": [
       "images, learn step=1, nu=0.045, trial=9, clust. size=16, clusters=91900:   0%|          | 0/100 [00:00<?, ?it/…"
      ]
     },
     "metadata": {},
     "output_type": "display_data"
    },
    {
     "data": {
      "application/vnd.jupyter.widget-view+json": {
       "model_id": "",
       "version_major": 2,
       "version_minor": 0
      },
      "text/plain": [
       "images, learn step=2, nu=0.041, trial=9, clust. size=16, clusters=91900:   0%|          | 0/100 [00:00<?, ?it/…"
      ]
     },
     "metadata": {},
     "output_type": "display_data"
    },
    {
     "data": {
      "application/vnd.jupyter.widget-view+json": {
       "model_id": "",
       "version_major": 2,
       "version_minor": 0
      },
      "text/plain": [
       "images, learn step=3, nu=0.036, trial=9, clust. size=16, clusters=91900:   0%|          | 0/100 [00:00<?, ?it/…"
      ]
     },
     "metadata": {},
     "output_type": "display_data"
    },
    {
     "data": {
      "application/vnd.jupyter.widget-view+json": {
       "model_id": "",
       "version_major": 2,
       "version_minor": 0
      },
      "text/plain": [
       "images, learn step=4, nu=0.033, trial=9, clust. size=16, clusters=91900:   0%|          | 0/100 [00:00<?, ?it/…"
      ]
     },
     "metadata": {},
     "output_type": "display_data"
    },
    {
     "data": {
      "application/vnd.jupyter.widget-view+json": {
       "model_id": "",
       "version_major": 2,
       "version_minor": 0
      },
      "text/plain": [
       "images, learn step=5, nu=0.030, trial=9, clust. size=16, clusters=91900:   0%|          | 0/100 [00:00<?, ?it/…"
      ]
     },
     "metadata": {},
     "output_type": "display_data"
    },
    {
     "data": {
      "application/vnd.jupyter.widget-view+json": {
       "model_id": "",
       "version_major": 2,
       "version_minor": 0
      },
      "text/plain": [
       "images, learn step=6, nu=0.027, trial=9, clust. size=16, clusters=91900:   0%|          | 0/100 [00:00<?, ?it/…"
      ]
     },
     "metadata": {},
     "output_type": "display_data"
    },
    {
     "data": {
      "application/vnd.jupyter.widget-view+json": {
       "model_id": "",
       "version_major": 2,
       "version_minor": 0
      },
      "text/plain": [
       "images, learn step=7, nu=0.024, trial=9, clust. size=16, clusters=91900:   0%|          | 0/100 [00:00<?, ?it/…"
      ]
     },
     "metadata": {},
     "output_type": "display_data"
    },
    {
     "data": {
      "application/vnd.jupyter.widget-view+json": {
       "model_id": "",
       "version_major": 2,
       "version_minor": 0
      },
      "text/plain": [
       "images, learn step=8, nu=0.022, trial=9, clust. size=16, clusters=91900:   0%|          | 0/100 [00:00<?, ?it/…"
      ]
     },
     "metadata": {},
     "output_type": "display_data"
    },
    {
     "data": {
      "application/vnd.jupyter.widget-view+json": {
       "model_id": "",
       "version_major": 2,
       "version_minor": 0
      },
      "text/plain": [
       "images, learn step=9, nu=0.019, trial=9, clust. size=16, clusters=91900:   0%|          | 0/100 [00:00<?, ?it/…"
      ]
     },
     "metadata": {},
     "output_type": "display_data"
    },
    {
     "name": "stdout",
     "output_type": "stream",
     "text": [
      "31 good clusters found so far\n"
     ]
    },
    {
     "data": {
      "application/vnd.jupyter.widget-view+json": {
       "model_id": "",
       "version_major": 2,
       "version_minor": 0
      },
      "text/plain": [
       "learning, trial=10, clust. size=16, clusters=91900:   0%|          | 0/10 [00:00<?, ?it/s]"
      ]
     },
     "metadata": {},
     "output_type": "display_data"
    },
    {
     "data": {
      "application/vnd.jupyter.widget-view+json": {
       "model_id": "",
       "version_major": 2,
       "version_minor": 0
      },
      "text/plain": [
       "images, learn step=0, nu=0.050, trial=10, clust. size=16, clusters=91900:   0%|          | 0/100 [00:00<?, ?it…"
      ]
     },
     "metadata": {},
     "output_type": "display_data"
    },
    {
     "data": {
      "application/vnd.jupyter.widget-view+json": {
       "model_id": "",
       "version_major": 2,
       "version_minor": 0
      },
      "text/plain": [
       "images, learn step=1, nu=0.045, trial=10, clust. size=16, clusters=91900:   0%|          | 0/100 [00:00<?, ?it…"
      ]
     },
     "metadata": {},
     "output_type": "display_data"
    },
    {
     "data": {
      "application/vnd.jupyter.widget-view+json": {
       "model_id": "",
       "version_major": 2,
       "version_minor": 0
      },
      "text/plain": [
       "images, learn step=2, nu=0.041, trial=10, clust. size=16, clusters=91900:   0%|          | 0/100 [00:00<?, ?it…"
      ]
     },
     "metadata": {},
     "output_type": "display_data"
    },
    {
     "data": {
      "application/vnd.jupyter.widget-view+json": {
       "model_id": "",
       "version_major": 2,
       "version_minor": 0
      },
      "text/plain": [
       "images, learn step=3, nu=0.036, trial=10, clust. size=16, clusters=91900:   0%|          | 0/100 [00:00<?, ?it…"
      ]
     },
     "metadata": {},
     "output_type": "display_data"
    },
    {
     "data": {
      "application/vnd.jupyter.widget-view+json": {
       "model_id": "",
       "version_major": 2,
       "version_minor": 0
      },
      "text/plain": [
       "images, learn step=4, nu=0.033, trial=10, clust. size=16, clusters=91900:   0%|          | 0/100 [00:00<?, ?it…"
      ]
     },
     "metadata": {},
     "output_type": "display_data"
    },
    {
     "data": {
      "application/vnd.jupyter.widget-view+json": {
       "model_id": "",
       "version_major": 2,
       "version_minor": 0
      },
      "text/plain": [
       "images, learn step=5, nu=0.030, trial=10, clust. size=16, clusters=91900:   0%|          | 0/100 [00:00<?, ?it…"
      ]
     },
     "metadata": {},
     "output_type": "display_data"
    },
    {
     "data": {
      "application/vnd.jupyter.widget-view+json": {
       "model_id": "",
       "version_major": 2,
       "version_minor": 0
      },
      "text/plain": [
       "images, learn step=6, nu=0.027, trial=10, clust. size=16, clusters=91900:   0%|          | 0/100 [00:00<?, ?it…"
      ]
     },
     "metadata": {},
     "output_type": "display_data"
    },
    {
     "data": {
      "application/vnd.jupyter.widget-view+json": {
       "model_id": "",
       "version_major": 2,
       "version_minor": 0
      },
      "text/plain": [
       "images, learn step=7, nu=0.024, trial=10, clust. size=16, clusters=91900:   0%|          | 0/100 [00:00<?, ?it…"
      ]
     },
     "metadata": {},
     "output_type": "display_data"
    },
    {
     "data": {
      "application/vnd.jupyter.widget-view+json": {
       "model_id": "",
       "version_major": 2,
       "version_minor": 0
      },
      "text/plain": [
       "images, learn step=8, nu=0.022, trial=10, clust. size=16, clusters=91900:   0%|          | 0/100 [00:00<?, ?it…"
      ]
     },
     "metadata": {},
     "output_type": "display_data"
    },
    {
     "data": {
      "application/vnd.jupyter.widget-view+json": {
       "model_id": "",
       "version_major": 2,
       "version_minor": 0
      },
      "text/plain": [
       "images, learn step=9, nu=0.019, trial=10, clust. size=16, clusters=91900:   0%|          | 0/100 [00:00<?, ?it…"
      ]
     },
     "metadata": {},
     "output_type": "display_data"
    },
    {
     "name": "stdout",
     "output_type": "stream",
     "text": [
      "32 good clusters found so far\n"
     ]
    },
    {
     "data": {
      "application/vnd.jupyter.widget-view+json": {
       "model_id": "",
       "version_major": 2,
       "version_minor": 0
      },
      "text/plain": [
       "learning, trial=11, clust. size=16, clusters=91900:   0%|          | 0/10 [00:00<?, ?it/s]"
      ]
     },
     "metadata": {},
     "output_type": "display_data"
    },
    {
     "data": {
      "application/vnd.jupyter.widget-view+json": {
       "model_id": "",
       "version_major": 2,
       "version_minor": 0
      },
      "text/plain": [
       "images, learn step=0, nu=0.050, trial=11, clust. size=16, clusters=91900:   0%|          | 0/100 [00:00<?, ?it…"
      ]
     },
     "metadata": {},
     "output_type": "display_data"
    },
    {
     "data": {
      "application/vnd.jupyter.widget-view+json": {
       "model_id": "",
       "version_major": 2,
       "version_minor": 0
      },
      "text/plain": [
       "images, learn step=1, nu=0.045, trial=11, clust. size=16, clusters=91900:   0%|          | 0/100 [00:00<?, ?it…"
      ]
     },
     "metadata": {},
     "output_type": "display_data"
    },
    {
     "data": {
      "application/vnd.jupyter.widget-view+json": {
       "model_id": "",
       "version_major": 2,
       "version_minor": 0
      },
      "text/plain": [
       "images, learn step=2, nu=0.041, trial=11, clust. size=16, clusters=91900:   0%|          | 0/100 [00:00<?, ?it…"
      ]
     },
     "metadata": {},
     "output_type": "display_data"
    },
    {
     "data": {
      "application/vnd.jupyter.widget-view+json": {
       "model_id": "",
       "version_major": 2,
       "version_minor": 0
      },
      "text/plain": [
       "images, learn step=3, nu=0.036, trial=11, clust. size=16, clusters=91900:   0%|          | 0/100 [00:00<?, ?it…"
      ]
     },
     "metadata": {},
     "output_type": "display_data"
    },
    {
     "data": {
      "application/vnd.jupyter.widget-view+json": {
       "model_id": "",
       "version_major": 2,
       "version_minor": 0
      },
      "text/plain": [
       "images, learn step=4, nu=0.033, trial=11, clust. size=16, clusters=91900:   0%|          | 0/100 [00:00<?, ?it…"
      ]
     },
     "metadata": {},
     "output_type": "display_data"
    },
    {
     "data": {
      "application/vnd.jupyter.widget-view+json": {
       "model_id": "",
       "version_major": 2,
       "version_minor": 0
      },
      "text/plain": [
       "images, learn step=5, nu=0.030, trial=11, clust. size=16, clusters=91900:   0%|          | 0/100 [00:00<?, ?it…"
      ]
     },
     "metadata": {},
     "output_type": "display_data"
    },
    {
     "data": {
      "application/vnd.jupyter.widget-view+json": {
       "model_id": "",
       "version_major": 2,
       "version_minor": 0
      },
      "text/plain": [
       "images, learn step=6, nu=0.027, trial=11, clust. size=16, clusters=91900:   0%|          | 0/100 [00:00<?, ?it…"
      ]
     },
     "metadata": {},
     "output_type": "display_data"
    },
    {
     "data": {
      "application/vnd.jupyter.widget-view+json": {
       "model_id": "",
       "version_major": 2,
       "version_minor": 0
      },
      "text/plain": [
       "images, learn step=7, nu=0.024, trial=11, clust. size=16, clusters=91900:   0%|          | 0/100 [00:00<?, ?it…"
      ]
     },
     "metadata": {},
     "output_type": "display_data"
    },
    {
     "data": {
      "application/vnd.jupyter.widget-view+json": {
       "model_id": "",
       "version_major": 2,
       "version_minor": 0
      },
      "text/plain": [
       "images, learn step=8, nu=0.022, trial=11, clust. size=16, clusters=91900:   0%|          | 0/100 [00:00<?, ?it…"
      ]
     },
     "metadata": {},
     "output_type": "display_data"
    },
    {
     "data": {
      "application/vnd.jupyter.widget-view+json": {
       "model_id": "",
       "version_major": 2,
       "version_minor": 0
      },
      "text/plain": [
       "images, learn step=9, nu=0.019, trial=11, clust. size=16, clusters=91900:   0%|          | 0/100 [00:00<?, ?it…"
      ]
     },
     "metadata": {},
     "output_type": "display_data"
    },
    {
     "name": "stdout",
     "output_type": "stream",
     "text": [
      "36 good clusters found so far\n"
     ]
    },
    {
     "data": {
      "application/vnd.jupyter.widget-view+json": {
       "model_id": "",
       "version_major": 2,
       "version_minor": 0
      },
      "text/plain": [
       "learning, trial=12, clust. size=16, clusters=91900:   0%|          | 0/10 [00:00<?, ?it/s]"
      ]
     },
     "metadata": {},
     "output_type": "display_data"
    },
    {
     "data": {
      "application/vnd.jupyter.widget-view+json": {
       "model_id": "",
       "version_major": 2,
       "version_minor": 0
      },
      "text/plain": [
       "images, learn step=0, nu=0.050, trial=12, clust. size=16, clusters=91900:   0%|          | 0/100 [00:00<?, ?it…"
      ]
     },
     "metadata": {},
     "output_type": "display_data"
    },
    {
     "data": {
      "application/vnd.jupyter.widget-view+json": {
       "model_id": "",
       "version_major": 2,
       "version_minor": 0
      },
      "text/plain": [
       "images, learn step=1, nu=0.045, trial=12, clust. size=16, clusters=91900:   0%|          | 0/100 [00:00<?, ?it…"
      ]
     },
     "metadata": {},
     "output_type": "display_data"
    },
    {
     "data": {
      "application/vnd.jupyter.widget-view+json": {
       "model_id": "",
       "version_major": 2,
       "version_minor": 0
      },
      "text/plain": [
       "images, learn step=2, nu=0.041, trial=12, clust. size=16, clusters=91900:   0%|          | 0/100 [00:00<?, ?it…"
      ]
     },
     "metadata": {},
     "output_type": "display_data"
    },
    {
     "data": {
      "application/vnd.jupyter.widget-view+json": {
       "model_id": "",
       "version_major": 2,
       "version_minor": 0
      },
      "text/plain": [
       "images, learn step=3, nu=0.036, trial=12, clust. size=16, clusters=91900:   0%|          | 0/100 [00:00<?, ?it…"
      ]
     },
     "metadata": {},
     "output_type": "display_data"
    },
    {
     "data": {
      "application/vnd.jupyter.widget-view+json": {
       "model_id": "",
       "version_major": 2,
       "version_minor": 0
      },
      "text/plain": [
       "images, learn step=4, nu=0.033, trial=12, clust. size=16, clusters=91900:   0%|          | 0/100 [00:00<?, ?it…"
      ]
     },
     "metadata": {},
     "output_type": "display_data"
    },
    {
     "data": {
      "application/vnd.jupyter.widget-view+json": {
       "model_id": "",
       "version_major": 2,
       "version_minor": 0
      },
      "text/plain": [
       "images, learn step=5, nu=0.030, trial=12, clust. size=16, clusters=91900:   0%|          | 0/100 [00:00<?, ?it…"
      ]
     },
     "metadata": {},
     "output_type": "display_data"
    },
    {
     "data": {
      "application/vnd.jupyter.widget-view+json": {
       "model_id": "",
       "version_major": 2,
       "version_minor": 0
      },
      "text/plain": [
       "images, learn step=6, nu=0.027, trial=12, clust. size=16, clusters=91900:   0%|          | 0/100 [00:00<?, ?it…"
      ]
     },
     "metadata": {},
     "output_type": "display_data"
    },
    {
     "data": {
      "application/vnd.jupyter.widget-view+json": {
       "model_id": "",
       "version_major": 2,
       "version_minor": 0
      },
      "text/plain": [
       "images, learn step=7, nu=0.024, trial=12, clust. size=16, clusters=91900:   0%|          | 0/100 [00:00<?, ?it…"
      ]
     },
     "metadata": {},
     "output_type": "display_data"
    },
    {
     "data": {
      "application/vnd.jupyter.widget-view+json": {
       "model_id": "",
       "version_major": 2,
       "version_minor": 0
      },
      "text/plain": [
       "images, learn step=8, nu=0.022, trial=12, clust. size=16, clusters=91900:   0%|          | 0/100 [00:00<?, ?it…"
      ]
     },
     "metadata": {},
     "output_type": "display_data"
    },
    {
     "data": {
      "application/vnd.jupyter.widget-view+json": {
       "model_id": "",
       "version_major": 2,
       "version_minor": 0
      },
      "text/plain": [
       "images, learn step=9, nu=0.019, trial=12, clust. size=16, clusters=91900:   0%|          | 0/100 [00:00<?, ?it…"
      ]
     },
     "metadata": {},
     "output_type": "display_data"
    },
    {
     "name": "stdout",
     "output_type": "stream",
     "text": [
      "37 good clusters found so far\n"
     ]
    },
    {
     "data": {
      "application/vnd.jupyter.widget-view+json": {
       "model_id": "",
       "version_major": 2,
       "version_minor": 0
      },
      "text/plain": [
       "learning, trial=13, clust. size=16, clusters=91900:   0%|          | 0/10 [00:00<?, ?it/s]"
      ]
     },
     "metadata": {},
     "output_type": "display_data"
    },
    {
     "data": {
      "application/vnd.jupyter.widget-view+json": {
       "model_id": "",
       "version_major": 2,
       "version_minor": 0
      },
      "text/plain": [
       "images, learn step=0, nu=0.050, trial=13, clust. size=16, clusters=91900:   0%|          | 0/100 [00:00<?, ?it…"
      ]
     },
     "metadata": {},
     "output_type": "display_data"
    },
    {
     "data": {
      "application/vnd.jupyter.widget-view+json": {
       "model_id": "",
       "version_major": 2,
       "version_minor": 0
      },
      "text/plain": [
       "images, learn step=1, nu=0.045, trial=13, clust. size=16, clusters=91900:   0%|          | 0/100 [00:00<?, ?it…"
      ]
     },
     "metadata": {},
     "output_type": "display_data"
    },
    {
     "data": {
      "application/vnd.jupyter.widget-view+json": {
       "model_id": "",
       "version_major": 2,
       "version_minor": 0
      },
      "text/plain": [
       "images, learn step=2, nu=0.041, trial=13, clust. size=16, clusters=91900:   0%|          | 0/100 [00:00<?, ?it…"
      ]
     },
     "metadata": {},
     "output_type": "display_data"
    },
    {
     "data": {
      "application/vnd.jupyter.widget-view+json": {
       "model_id": "",
       "version_major": 2,
       "version_minor": 0
      },
      "text/plain": [
       "images, learn step=3, nu=0.036, trial=13, clust. size=16, clusters=91900:   0%|          | 0/100 [00:00<?, ?it…"
      ]
     },
     "metadata": {},
     "output_type": "display_data"
    },
    {
     "data": {
      "application/vnd.jupyter.widget-view+json": {
       "model_id": "",
       "version_major": 2,
       "version_minor": 0
      },
      "text/plain": [
       "images, learn step=4, nu=0.033, trial=13, clust. size=16, clusters=91900:   0%|          | 0/100 [00:00<?, ?it…"
      ]
     },
     "metadata": {},
     "output_type": "display_data"
    },
    {
     "data": {
      "application/vnd.jupyter.widget-view+json": {
       "model_id": "",
       "version_major": 2,
       "version_minor": 0
      },
      "text/plain": [
       "images, learn step=5, nu=0.030, trial=13, clust. size=16, clusters=91900:   0%|          | 0/100 [00:00<?, ?it…"
      ]
     },
     "metadata": {},
     "output_type": "display_data"
    },
    {
     "data": {
      "application/vnd.jupyter.widget-view+json": {
       "model_id": "",
       "version_major": 2,
       "version_minor": 0
      },
      "text/plain": [
       "images, learn step=6, nu=0.027, trial=13, clust. size=16, clusters=91900:   0%|          | 0/100 [00:00<?, ?it…"
      ]
     },
     "metadata": {},
     "output_type": "display_data"
    },
    {
     "data": {
      "application/vnd.jupyter.widget-view+json": {
       "model_id": "",
       "version_major": 2,
       "version_minor": 0
      },
      "text/plain": [
       "images, learn step=7, nu=0.024, trial=13, clust. size=16, clusters=91900:   0%|          | 0/100 [00:00<?, ?it…"
      ]
     },
     "metadata": {},
     "output_type": "display_data"
    },
    {
     "data": {
      "application/vnd.jupyter.widget-view+json": {
       "model_id": "",
       "version_major": 2,
       "version_minor": 0
      },
      "text/plain": [
       "images, learn step=8, nu=0.022, trial=13, clust. size=16, clusters=91900:   0%|          | 0/100 [00:00<?, ?it…"
      ]
     },
     "metadata": {},
     "output_type": "display_data"
    },
    {
     "data": {
      "application/vnd.jupyter.widget-view+json": {
       "model_id": "",
       "version_major": 2,
       "version_minor": 0
      },
      "text/plain": [
       "images, learn step=9, nu=0.019, trial=13, clust. size=16, clusters=91900:   0%|          | 0/100 [00:00<?, ?it…"
      ]
     },
     "metadata": {},
     "output_type": "display_data"
    },
    {
     "name": "stdout",
     "output_type": "stream",
     "text": [
      "42 good clusters found so far\n"
     ]
    },
    {
     "data": {
      "application/vnd.jupyter.widget-view+json": {
       "model_id": "",
       "version_major": 2,
       "version_minor": 0
      },
      "text/plain": [
       "learning, trial=14, clust. size=16, clusters=91900:   0%|          | 0/10 [00:00<?, ?it/s]"
      ]
     },
     "metadata": {},
     "output_type": "display_data"
    },
    {
     "data": {
      "application/vnd.jupyter.widget-view+json": {
       "model_id": "",
       "version_major": 2,
       "version_minor": 0
      },
      "text/plain": [
       "images, learn step=0, nu=0.050, trial=14, clust. size=16, clusters=91900:   0%|          | 0/100 [00:00<?, ?it…"
      ]
     },
     "metadata": {},
     "output_type": "display_data"
    },
    {
     "data": {
      "application/vnd.jupyter.widget-view+json": {
       "model_id": "",
       "version_major": 2,
       "version_minor": 0
      },
      "text/plain": [
       "images, learn step=1, nu=0.045, trial=14, clust. size=16, clusters=91900:   0%|          | 0/100 [00:00<?, ?it…"
      ]
     },
     "metadata": {},
     "output_type": "display_data"
    },
    {
     "data": {
      "application/vnd.jupyter.widget-view+json": {
       "model_id": "",
       "version_major": 2,
       "version_minor": 0
      },
      "text/plain": [
       "images, learn step=2, nu=0.041, trial=14, clust. size=16, clusters=91900:   0%|          | 0/100 [00:00<?, ?it…"
      ]
     },
     "metadata": {},
     "output_type": "display_data"
    },
    {
     "data": {
      "application/vnd.jupyter.widget-view+json": {
       "model_id": "",
       "version_major": 2,
       "version_minor": 0
      },
      "text/plain": [
       "images, learn step=3, nu=0.036, trial=14, clust. size=16, clusters=91900:   0%|          | 0/100 [00:00<?, ?it…"
      ]
     },
     "metadata": {},
     "output_type": "display_data"
    },
    {
     "data": {
      "application/vnd.jupyter.widget-view+json": {
       "model_id": "",
       "version_major": 2,
       "version_minor": 0
      },
      "text/plain": [
       "images, learn step=4, nu=0.033, trial=14, clust. size=16, clusters=91900:   0%|          | 0/100 [00:00<?, ?it…"
      ]
     },
     "metadata": {},
     "output_type": "display_data"
    },
    {
     "data": {
      "application/vnd.jupyter.widget-view+json": {
       "model_id": "",
       "version_major": 2,
       "version_minor": 0
      },
      "text/plain": [
       "images, learn step=5, nu=0.030, trial=14, clust. size=16, clusters=91900:   0%|          | 0/100 [00:00<?, ?it…"
      ]
     },
     "metadata": {},
     "output_type": "display_data"
    },
    {
     "data": {
      "application/vnd.jupyter.widget-view+json": {
       "model_id": "",
       "version_major": 2,
       "version_minor": 0
      },
      "text/plain": [
       "images, learn step=6, nu=0.027, trial=14, clust. size=16, clusters=91900:   0%|          | 0/100 [00:00<?, ?it…"
      ]
     },
     "metadata": {},
     "output_type": "display_data"
    },
    {
     "data": {
      "application/vnd.jupyter.widget-view+json": {
       "model_id": "",
       "version_major": 2,
       "version_minor": 0
      },
      "text/plain": [
       "images, learn step=7, nu=0.024, trial=14, clust. size=16, clusters=91900:   0%|          | 0/100 [00:00<?, ?it…"
      ]
     },
     "metadata": {},
     "output_type": "display_data"
    },
    {
     "data": {
      "application/vnd.jupyter.widget-view+json": {
       "model_id": "",
       "version_major": 2,
       "version_minor": 0
      },
      "text/plain": [
       "images, learn step=8, nu=0.022, trial=14, clust. size=16, clusters=91900:   0%|          | 0/100 [00:00<?, ?it…"
      ]
     },
     "metadata": {},
     "output_type": "display_data"
    },
    {
     "data": {
      "application/vnd.jupyter.widget-view+json": {
       "model_id": "",
       "version_major": 2,
       "version_minor": 0
      },
      "text/plain": [
       "images, learn step=9, nu=0.019, trial=14, clust. size=16, clusters=91900:   0%|          | 0/100 [00:00<?, ?it…"
      ]
     },
     "metadata": {},
     "output_type": "display_data"
    },
    {
     "name": "stdout",
     "output_type": "stream",
     "text": [
      "47 good clusters found so far\n"
     ]
    },
    {
     "data": {
      "application/vnd.jupyter.widget-view+json": {
       "model_id": "",
       "version_major": 2,
       "version_minor": 0
      },
      "text/plain": [
       "learning, trial=15, clust. size=16, clusters=91900:   0%|          | 0/10 [00:00<?, ?it/s]"
      ]
     },
     "metadata": {},
     "output_type": "display_data"
    },
    {
     "data": {
      "application/vnd.jupyter.widget-view+json": {
       "model_id": "",
       "version_major": 2,
       "version_minor": 0
      },
      "text/plain": [
       "images, learn step=0, nu=0.050, trial=15, clust. size=16, clusters=91900:   0%|          | 0/100 [00:00<?, ?it…"
      ]
     },
     "metadata": {},
     "output_type": "display_data"
    },
    {
     "data": {
      "application/vnd.jupyter.widget-view+json": {
       "model_id": "",
       "version_major": 2,
       "version_minor": 0
      },
      "text/plain": [
       "images, learn step=1, nu=0.045, trial=15, clust. size=16, clusters=91900:   0%|          | 0/100 [00:00<?, ?it…"
      ]
     },
     "metadata": {},
     "output_type": "display_data"
    },
    {
     "data": {
      "application/vnd.jupyter.widget-view+json": {
       "model_id": "",
       "version_major": 2,
       "version_minor": 0
      },
      "text/plain": [
       "images, learn step=2, nu=0.041, trial=15, clust. size=16, clusters=91900:   0%|          | 0/100 [00:00<?, ?it…"
      ]
     },
     "metadata": {},
     "output_type": "display_data"
    },
    {
     "data": {
      "application/vnd.jupyter.widget-view+json": {
       "model_id": "",
       "version_major": 2,
       "version_minor": 0
      },
      "text/plain": [
       "images, learn step=3, nu=0.036, trial=15, clust. size=16, clusters=91900:   0%|          | 0/100 [00:00<?, ?it…"
      ]
     },
     "metadata": {},
     "output_type": "display_data"
    },
    {
     "data": {
      "application/vnd.jupyter.widget-view+json": {
       "model_id": "",
       "version_major": 2,
       "version_minor": 0
      },
      "text/plain": [
       "images, learn step=4, nu=0.033, trial=15, clust. size=16, clusters=91900:   0%|          | 0/100 [00:00<?, ?it…"
      ]
     },
     "metadata": {},
     "output_type": "display_data"
    },
    {
     "data": {
      "application/vnd.jupyter.widget-view+json": {
       "model_id": "",
       "version_major": 2,
       "version_minor": 0
      },
      "text/plain": [
       "images, learn step=5, nu=0.030, trial=15, clust. size=16, clusters=91900:   0%|          | 0/100 [00:00<?, ?it…"
      ]
     },
     "metadata": {},
     "output_type": "display_data"
    },
    {
     "data": {
      "application/vnd.jupyter.widget-view+json": {
       "model_id": "",
       "version_major": 2,
       "version_minor": 0
      },
      "text/plain": [
       "images, learn step=6, nu=0.027, trial=15, clust. size=16, clusters=91900:   0%|          | 0/100 [00:00<?, ?it…"
      ]
     },
     "metadata": {},
     "output_type": "display_data"
    },
    {
     "data": {
      "application/vnd.jupyter.widget-view+json": {
       "model_id": "",
       "version_major": 2,
       "version_minor": 0
      },
      "text/plain": [
       "images, learn step=7, nu=0.024, trial=15, clust. size=16, clusters=91900:   0%|          | 0/100 [00:00<?, ?it…"
      ]
     },
     "metadata": {},
     "output_type": "display_data"
    },
    {
     "data": {
      "application/vnd.jupyter.widget-view+json": {
       "model_id": "",
       "version_major": 2,
       "version_minor": 0
      },
      "text/plain": [
       "images, learn step=8, nu=0.022, trial=15, clust. size=16, clusters=91900:   0%|          | 0/100 [00:00<?, ?it…"
      ]
     },
     "metadata": {},
     "output_type": "display_data"
    },
    {
     "data": {
      "application/vnd.jupyter.widget-view+json": {
       "model_id": "",
       "version_major": 2,
       "version_minor": 0
      },
      "text/plain": [
       "images, learn step=9, nu=0.019, trial=15, clust. size=16, clusters=91900:   0%|          | 0/100 [00:00<?, ?it…"
      ]
     },
     "metadata": {},
     "output_type": "display_data"
    },
    {
     "name": "stdout",
     "output_type": "stream",
     "text": [
      "51 good clusters found so far\n"
     ]
    },
    {
     "data": {
      "application/vnd.jupyter.widget-view+json": {
       "model_id": "",
       "version_major": 2,
       "version_minor": 0
      },
      "text/plain": [
       "learning, trial=16, clust. size=16, clusters=91900:   0%|          | 0/10 [00:00<?, ?it/s]"
      ]
     },
     "metadata": {},
     "output_type": "display_data"
    },
    {
     "data": {
      "application/vnd.jupyter.widget-view+json": {
       "model_id": "",
       "version_major": 2,
       "version_minor": 0
      },
      "text/plain": [
       "images, learn step=0, nu=0.050, trial=16, clust. size=16, clusters=91900:   0%|          | 0/100 [00:00<?, ?it…"
      ]
     },
     "metadata": {},
     "output_type": "display_data"
    },
    {
     "data": {
      "application/vnd.jupyter.widget-view+json": {
       "model_id": "",
       "version_major": 2,
       "version_minor": 0
      },
      "text/plain": [
       "images, learn step=1, nu=0.045, trial=16, clust. size=16, clusters=91900:   0%|          | 0/100 [00:00<?, ?it…"
      ]
     },
     "metadata": {},
     "output_type": "display_data"
    },
    {
     "data": {
      "application/vnd.jupyter.widget-view+json": {
       "model_id": "",
       "version_major": 2,
       "version_minor": 0
      },
      "text/plain": [
       "images, learn step=2, nu=0.041, trial=16, clust. size=16, clusters=91900:   0%|          | 0/100 [00:00<?, ?it…"
      ]
     },
     "metadata": {},
     "output_type": "display_data"
    },
    {
     "data": {
      "application/vnd.jupyter.widget-view+json": {
       "model_id": "",
       "version_major": 2,
       "version_minor": 0
      },
      "text/plain": [
       "images, learn step=3, nu=0.036, trial=16, clust. size=16, clusters=91900:   0%|          | 0/100 [00:00<?, ?it…"
      ]
     },
     "metadata": {},
     "output_type": "display_data"
    },
    {
     "data": {
      "application/vnd.jupyter.widget-view+json": {
       "model_id": "",
       "version_major": 2,
       "version_minor": 0
      },
      "text/plain": [
       "images, learn step=4, nu=0.033, trial=16, clust. size=16, clusters=91900:   0%|          | 0/100 [00:00<?, ?it…"
      ]
     },
     "metadata": {},
     "output_type": "display_data"
    },
    {
     "data": {
      "application/vnd.jupyter.widget-view+json": {
       "model_id": "",
       "version_major": 2,
       "version_minor": 0
      },
      "text/plain": [
       "images, learn step=5, nu=0.030, trial=16, clust. size=16, clusters=91900:   0%|          | 0/100 [00:00<?, ?it…"
      ]
     },
     "metadata": {},
     "output_type": "display_data"
    },
    {
     "data": {
      "application/vnd.jupyter.widget-view+json": {
       "model_id": "",
       "version_major": 2,
       "version_minor": 0
      },
      "text/plain": [
       "images, learn step=6, nu=0.027, trial=16, clust. size=16, clusters=91900:   0%|          | 0/100 [00:00<?, ?it…"
      ]
     },
     "metadata": {},
     "output_type": "display_data"
    },
    {
     "data": {
      "application/vnd.jupyter.widget-view+json": {
       "model_id": "",
       "version_major": 2,
       "version_minor": 0
      },
      "text/plain": [
       "images, learn step=7, nu=0.024, trial=16, clust. size=16, clusters=91900:   0%|          | 0/100 [00:00<?, ?it…"
      ]
     },
     "metadata": {},
     "output_type": "display_data"
    },
    {
     "data": {
      "application/vnd.jupyter.widget-view+json": {
       "model_id": "",
       "version_major": 2,
       "version_minor": 0
      },
      "text/plain": [
       "images, learn step=8, nu=0.022, trial=16, clust. size=16, clusters=91900:   0%|          | 0/100 [00:00<?, ?it…"
      ]
     },
     "metadata": {},
     "output_type": "display_data"
    },
    {
     "data": {
      "application/vnd.jupyter.widget-view+json": {
       "model_id": "",
       "version_major": 2,
       "version_minor": 0
      },
      "text/plain": [
       "images, learn step=9, nu=0.019, trial=16, clust. size=16, clusters=91900:   0%|          | 0/100 [00:00<?, ?it…"
      ]
     },
     "metadata": {},
     "output_type": "display_data"
    },
    {
     "name": "stdout",
     "output_type": "stream",
     "text": [
      "54 good clusters found so far\n"
     ]
    },
    {
     "data": {
      "application/vnd.jupyter.widget-view+json": {
       "model_id": "5b19a422ef4c4114b20d4cbfc40c209b",
       "version_major": 2,
       "version_minor": 0
      },
      "text/plain": [
       "learning, trial=17, clust. size=16, clusters=91900:   0%|          | 0/10 [00:00<?, ?it/s]"
      ]
     },
     "metadata": {},
     "output_type": "display_data"
    },
    {
     "data": {
      "application/vnd.jupyter.widget-view+json": {
       "model_id": "",
       "version_major": 2,
       "version_minor": 0
      },
      "text/plain": [
       "images, learn step=0, nu=0.050, trial=17, clust. size=16, clusters=91900:   0%|          | 0/100 [00:00<?, ?it…"
      ]
     },
     "metadata": {},
     "output_type": "display_data"
    },
    {
     "data": {
      "application/vnd.jupyter.widget-view+json": {
       "model_id": "",
       "version_major": 2,
       "version_minor": 0
      },
      "text/plain": [
       "learning, trial=18, clust. size=16, clusters=91900:   0%|          | 0/10 [00:00<?, ?it/s]"
      ]
     },
     "metadata": {},
     "output_type": "display_data"
    },
    {
     "data": {
      "application/vnd.jupyter.widget-view+json": {
       "model_id": "",
       "version_major": 2,
       "version_minor": 0
      },
      "text/plain": [
       "images, learn step=0, nu=0.050, trial=18, clust. size=16, clusters=91900:   0%|          | 0/100 [00:00<?, ?it…"
      ]
     },
     "metadata": {},
     "output_type": "display_data"
    },
    {
     "data": {
      "application/vnd.jupyter.widget-view+json": {
       "model_id": "",
       "version_major": 2,
       "version_minor": 0
      },
      "text/plain": [
       "images, learn step=1, nu=0.045, trial=18, clust. size=16, clusters=91900:   0%|          | 0/100 [00:00<?, ?it…"
      ]
     },
     "metadata": {},
     "output_type": "display_data"
    },
    {
     "data": {
      "application/vnd.jupyter.widget-view+json": {
       "model_id": "",
       "version_major": 2,
       "version_minor": 0
      },
      "text/plain": [
       "images, learn step=2, nu=0.041, trial=18, clust. size=16, clusters=91900:   0%|          | 0/100 [00:00<?, ?it…"
      ]
     },
     "metadata": {},
     "output_type": "display_data"
    },
    {
     "data": {
      "application/vnd.jupyter.widget-view+json": {
       "model_id": "",
       "version_major": 2,
       "version_minor": 0
      },
      "text/plain": [
       "images, learn step=3, nu=0.036, trial=18, clust. size=16, clusters=91900:   0%|          | 0/100 [00:00<?, ?it…"
      ]
     },
     "metadata": {},
     "output_type": "display_data"
    },
    {
     "data": {
      "application/vnd.jupyter.widget-view+json": {
       "model_id": "",
       "version_major": 2,
       "version_minor": 0
      },
      "text/plain": [
       "images, learn step=4, nu=0.033, trial=18, clust. size=16, clusters=91900:   0%|          | 0/100 [00:00<?, ?it…"
      ]
     },
     "metadata": {},
     "output_type": "display_data"
    },
    {
     "data": {
      "application/vnd.jupyter.widget-view+json": {
       "model_id": "",
       "version_major": 2,
       "version_minor": 0
      },
      "text/plain": [
       "images, learn step=5, nu=0.030, trial=18, clust. size=16, clusters=91900:   0%|          | 0/100 [00:00<?, ?it…"
      ]
     },
     "metadata": {},
     "output_type": "display_data"
    },
    {
     "data": {
      "application/vnd.jupyter.widget-view+json": {
       "model_id": "",
       "version_major": 2,
       "version_minor": 0
      },
      "text/plain": [
       "images, learn step=6, nu=0.027, trial=18, clust. size=16, clusters=91900:   0%|          | 0/100 [00:00<?, ?it…"
      ]
     },
     "metadata": {},
     "output_type": "display_data"
    },
    {
     "data": {
      "application/vnd.jupyter.widget-view+json": {
       "model_id": "",
       "version_major": 2,
       "version_minor": 0
      },
      "text/plain": [
       "images, learn step=7, nu=0.024, trial=18, clust. size=16, clusters=91900:   0%|          | 0/100 [00:00<?, ?it…"
      ]
     },
     "metadata": {},
     "output_type": "display_data"
    },
    {
     "data": {
      "application/vnd.jupyter.widget-view+json": {
       "model_id": "",
       "version_major": 2,
       "version_minor": 0
      },
      "text/plain": [
       "images, learn step=8, nu=0.022, trial=18, clust. size=16, clusters=91900:   0%|          | 0/100 [00:00<?, ?it…"
      ]
     },
     "metadata": {},
     "output_type": "display_data"
    },
    {
     "data": {
      "application/vnd.jupyter.widget-view+json": {
       "model_id": "",
       "version_major": 2,
       "version_minor": 0
      },
      "text/plain": [
       "images, learn step=9, nu=0.019, trial=18, clust. size=16, clusters=91900:   0%|          | 0/100 [00:00<?, ?it…"
      ]
     },
     "metadata": {},
     "output_type": "display_data"
    },
    {
     "name": "stdout",
     "output_type": "stream",
     "text": [
      "57 good clusters found so far\n"
     ]
    },
    {
     "data": {
      "application/vnd.jupyter.widget-view+json": {
       "model_id": "",
       "version_major": 2,
       "version_minor": 0
      },
      "text/plain": [
       "learning, trial=19, clust. size=16, clusters=91900:   0%|          | 0/10 [00:00<?, ?it/s]"
      ]
     },
     "metadata": {},
     "output_type": "display_data"
    },
    {
     "data": {
      "application/vnd.jupyter.widget-view+json": {
       "model_id": "",
       "version_major": 2,
       "version_minor": 0
      },
      "text/plain": [
       "images, learn step=0, nu=0.050, trial=19, clust. size=16, clusters=91900:   0%|          | 0/100 [00:00<?, ?it…"
      ]
     },
     "metadata": {},
     "output_type": "display_data"
    },
    {
     "data": {
      "application/vnd.jupyter.widget-view+json": {
       "model_id": "",
       "version_major": 2,
       "version_minor": 0
      },
      "text/plain": [
       "images, learn step=1, nu=0.045, trial=19, clust. size=16, clusters=91900:   0%|          | 0/100 [00:00<?, ?it…"
      ]
     },
     "metadata": {},
     "output_type": "display_data"
    },
    {
     "data": {
      "application/vnd.jupyter.widget-view+json": {
       "model_id": "",
       "version_major": 2,
       "version_minor": 0
      },
      "text/plain": [
       "images, learn step=2, nu=0.041, trial=19, clust. size=16, clusters=91900:   0%|          | 0/100 [00:00<?, ?it…"
      ]
     },
     "metadata": {},
     "output_type": "display_data"
    },
    {
     "data": {
      "application/vnd.jupyter.widget-view+json": {
       "model_id": "",
       "version_major": 2,
       "version_minor": 0
      },
      "text/plain": [
       "images, learn step=3, nu=0.036, trial=19, clust. size=16, clusters=91900:   0%|          | 0/100 [00:00<?, ?it…"
      ]
     },
     "metadata": {},
     "output_type": "display_data"
    },
    {
     "data": {
      "application/vnd.jupyter.widget-view+json": {
       "model_id": "",
       "version_major": 2,
       "version_minor": 0
      },
      "text/plain": [
       "images, learn step=4, nu=0.033, trial=19, clust. size=16, clusters=91900:   0%|          | 0/100 [00:00<?, ?it…"
      ]
     },
     "metadata": {},
     "output_type": "display_data"
    },
    {
     "data": {
      "application/vnd.jupyter.widget-view+json": {
       "model_id": "",
       "version_major": 2,
       "version_minor": 0
      },
      "text/plain": [
       "images, learn step=5, nu=0.030, trial=19, clust. size=16, clusters=91900:   0%|          | 0/100 [00:00<?, ?it…"
      ]
     },
     "metadata": {},
     "output_type": "display_data"
    },
    {
     "data": {
      "application/vnd.jupyter.widget-view+json": {
       "model_id": "",
       "version_major": 2,
       "version_minor": 0
      },
      "text/plain": [
       "images, learn step=6, nu=0.027, trial=19, clust. size=16, clusters=91900:   0%|          | 0/100 [00:00<?, ?it…"
      ]
     },
     "metadata": {},
     "output_type": "display_data"
    },
    {
     "data": {
      "application/vnd.jupyter.widget-view+json": {
       "model_id": "",
       "version_major": 2,
       "version_minor": 0
      },
      "text/plain": [
       "images, learn step=7, nu=0.024, trial=19, clust. size=16, clusters=91900:   0%|          | 0/100 [00:00<?, ?it…"
      ]
     },
     "metadata": {},
     "output_type": "display_data"
    },
    {
     "data": {
      "application/vnd.jupyter.widget-view+json": {
       "model_id": "",
       "version_major": 2,
       "version_minor": 0
      },
      "text/plain": [
       "images, learn step=8, nu=0.022, trial=19, clust. size=16, clusters=91900:   0%|          | 0/100 [00:00<?, ?it…"
      ]
     },
     "metadata": {},
     "output_type": "display_data"
    },
    {
     "data": {
      "application/vnd.jupyter.widget-view+json": {
       "model_id": "",
       "version_major": 2,
       "version_minor": 0
      },
      "text/plain": [
       "images, learn step=9, nu=0.019, trial=19, clust. size=16, clusters=91900:   0%|          | 0/100 [00:00<?, ?it…"
      ]
     },
     "metadata": {},
     "output_type": "display_data"
    },
    {
     "name": "stdout",
     "output_type": "stream",
     "text": [
      "59 good clusters found so far\n"
     ]
    },
    {
     "data": {
      "application/vnd.jupyter.widget-view+json": {
       "model_id": "",
       "version_major": 2,
       "version_minor": 0
      },
      "text/plain": [
       "learning, trial=20, clust. size=16, clusters=91900:   0%|          | 0/10 [00:00<?, ?it/s]"
      ]
     },
     "metadata": {},
     "output_type": "display_data"
    },
    {
     "data": {
      "application/vnd.jupyter.widget-view+json": {
       "model_id": "",
       "version_major": 2,
       "version_minor": 0
      },
      "text/plain": [
       "images, learn step=0, nu=0.050, trial=20, clust. size=16, clusters=91900:   0%|          | 0/100 [00:00<?, ?it…"
      ]
     },
     "metadata": {},
     "output_type": "display_data"
    },
    {
     "data": {
      "application/vnd.jupyter.widget-view+json": {
       "model_id": "",
       "version_major": 2,
       "version_minor": 0
      },
      "text/plain": [
       "images, learn step=1, nu=0.045, trial=20, clust. size=16, clusters=91900:   0%|          | 0/100 [00:00<?, ?it…"
      ]
     },
     "metadata": {},
     "output_type": "display_data"
    },
    {
     "data": {
      "application/vnd.jupyter.widget-view+json": {
       "model_id": "",
       "version_major": 2,
       "version_minor": 0
      },
      "text/plain": [
       "images, learn step=2, nu=0.041, trial=20, clust. size=16, clusters=91900:   0%|          | 0/100 [00:00<?, ?it…"
      ]
     },
     "metadata": {},
     "output_type": "display_data"
    },
    {
     "data": {
      "application/vnd.jupyter.widget-view+json": {
       "model_id": "",
       "version_major": 2,
       "version_minor": 0
      },
      "text/plain": [
       "images, learn step=3, nu=0.036, trial=20, clust. size=16, clusters=91900:   0%|          | 0/100 [00:00<?, ?it…"
      ]
     },
     "metadata": {},
     "output_type": "display_data"
    },
    {
     "data": {
      "application/vnd.jupyter.widget-view+json": {
       "model_id": "",
       "version_major": 2,
       "version_minor": 0
      },
      "text/plain": [
       "images, learn step=4, nu=0.033, trial=20, clust. size=16, clusters=91900:   0%|          | 0/100 [00:00<?, ?it…"
      ]
     },
     "metadata": {},
     "output_type": "display_data"
    },
    {
     "data": {
      "application/vnd.jupyter.widget-view+json": {
       "model_id": "",
       "version_major": 2,
       "version_minor": 0
      },
      "text/plain": [
       "images, learn step=5, nu=0.030, trial=20, clust. size=16, clusters=91900:   0%|          | 0/100 [00:00<?, ?it…"
      ]
     },
     "metadata": {},
     "output_type": "display_data"
    },
    {
     "data": {
      "application/vnd.jupyter.widget-view+json": {
       "model_id": "",
       "version_major": 2,
       "version_minor": 0
      },
      "text/plain": [
       "images, learn step=6, nu=0.027, trial=20, clust. size=16, clusters=91900:   0%|          | 0/100 [00:00<?, ?it…"
      ]
     },
     "metadata": {},
     "output_type": "display_data"
    },
    {
     "data": {
      "application/vnd.jupyter.widget-view+json": {
       "model_id": "",
       "version_major": 2,
       "version_minor": 0
      },
      "text/plain": [
       "images, learn step=7, nu=0.024, trial=20, clust. size=16, clusters=91900:   0%|          | 0/100 [00:00<?, ?it…"
      ]
     },
     "metadata": {},
     "output_type": "display_data"
    },
    {
     "data": {
      "application/vnd.jupyter.widget-view+json": {
       "model_id": "",
       "version_major": 2,
       "version_minor": 0
      },
      "text/plain": [
       "images, learn step=8, nu=0.022, trial=20, clust. size=16, clusters=91900:   0%|          | 0/100 [00:00<?, ?it…"
      ]
     },
     "metadata": {},
     "output_type": "display_data"
    },
    {
     "data": {
      "application/vnd.jupyter.widget-view+json": {
       "model_id": "",
       "version_major": 2,
       "version_minor": 0
      },
      "text/plain": [
       "images, learn step=9, nu=0.019, trial=20, clust. size=16, clusters=91900:   0%|          | 0/100 [00:00<?, ?it…"
      ]
     },
     "metadata": {},
     "output_type": "display_data"
    },
    {
     "name": "stdout",
     "output_type": "stream",
     "text": [
      "64 good clusters found so far\n"
     ]
    },
    {
     "data": {
      "application/vnd.jupyter.widget-view+json": {
       "model_id": "",
       "version_major": 2,
       "version_minor": 0
      },
      "text/plain": [
       "learning, trial=21, clust. size=16, clusters=91900:   0%|          | 0/10 [00:00<?, ?it/s]"
      ]
     },
     "metadata": {},
     "output_type": "display_data"
    },
    {
     "data": {
      "application/vnd.jupyter.widget-view+json": {
       "model_id": "",
       "version_major": 2,
       "version_minor": 0
      },
      "text/plain": [
       "images, learn step=0, nu=0.050, trial=21, clust. size=16, clusters=91900:   0%|          | 0/100 [00:00<?, ?it…"
      ]
     },
     "metadata": {},
     "output_type": "display_data"
    },
    {
     "data": {
      "application/vnd.jupyter.widget-view+json": {
       "model_id": "",
       "version_major": 2,
       "version_minor": 0
      },
      "text/plain": [
       "images, learn step=1, nu=0.045, trial=21, clust. size=16, clusters=91900:   0%|          | 0/100 [00:00<?, ?it…"
      ]
     },
     "metadata": {},
     "output_type": "display_data"
    },
    {
     "data": {
      "application/vnd.jupyter.widget-view+json": {
       "model_id": "",
       "version_major": 2,
       "version_minor": 0
      },
      "text/plain": [
       "images, learn step=2, nu=0.041, trial=21, clust. size=16, clusters=91900:   0%|          | 0/100 [00:00<?, ?it…"
      ]
     },
     "metadata": {},
     "output_type": "display_data"
    },
    {
     "data": {
      "application/vnd.jupyter.widget-view+json": {
       "model_id": "",
       "version_major": 2,
       "version_minor": 0
      },
      "text/plain": [
       "images, learn step=3, nu=0.036, trial=21, clust. size=16, clusters=91900:   0%|          | 0/100 [00:00<?, ?it…"
      ]
     },
     "metadata": {},
     "output_type": "display_data"
    },
    {
     "data": {
      "application/vnd.jupyter.widget-view+json": {
       "model_id": "",
       "version_major": 2,
       "version_minor": 0
      },
      "text/plain": [
       "images, learn step=4, nu=0.033, trial=21, clust. size=16, clusters=91900:   0%|          | 0/100 [00:00<?, ?it…"
      ]
     },
     "metadata": {},
     "output_type": "display_data"
    },
    {
     "data": {
      "application/vnd.jupyter.widget-view+json": {
       "model_id": "",
       "version_major": 2,
       "version_minor": 0
      },
      "text/plain": [
       "images, learn step=5, nu=0.030, trial=21, clust. size=16, clusters=91900:   0%|          | 0/100 [00:00<?, ?it…"
      ]
     },
     "metadata": {},
     "output_type": "display_data"
    },
    {
     "data": {
      "application/vnd.jupyter.widget-view+json": {
       "model_id": "",
       "version_major": 2,
       "version_minor": 0
      },
      "text/plain": [
       "images, learn step=6, nu=0.027, trial=21, clust. size=16, clusters=91900:   0%|          | 0/100 [00:00<?, ?it…"
      ]
     },
     "metadata": {},
     "output_type": "display_data"
    },
    {
     "data": {
      "application/vnd.jupyter.widget-view+json": {
       "model_id": "",
       "version_major": 2,
       "version_minor": 0
      },
      "text/plain": [
       "images, learn step=7, nu=0.024, trial=21, clust. size=16, clusters=91900:   0%|          | 0/100 [00:00<?, ?it…"
      ]
     },
     "metadata": {},
     "output_type": "display_data"
    },
    {
     "data": {
      "application/vnd.jupyter.widget-view+json": {
       "model_id": "",
       "version_major": 2,
       "version_minor": 0
      },
      "text/plain": [
       "images, learn step=8, nu=0.022, trial=21, clust. size=16, clusters=91900:   0%|          | 0/100 [00:00<?, ?it…"
      ]
     },
     "metadata": {},
     "output_type": "display_data"
    },
    {
     "data": {
      "application/vnd.jupyter.widget-view+json": {
       "model_id": "",
       "version_major": 2,
       "version_minor": 0
      },
      "text/plain": [
       "images, learn step=9, nu=0.019, trial=21, clust. size=16, clusters=91900:   0%|          | 0/100 [00:00<?, ?it…"
      ]
     },
     "metadata": {},
     "output_type": "display_data"
    },
    {
     "name": "stdout",
     "output_type": "stream",
     "text": [
      "65 good clusters found so far\n"
     ]
    },
    {
     "data": {
      "application/vnd.jupyter.widget-view+json": {
       "model_id": "7294ad2af2914affb25607365e1f2118",
       "version_major": 2,
       "version_minor": 0
      },
      "text/plain": [
       "learning, trial=22, clust. size=16, clusters=91900:   0%|          | 0/10 [00:00<?, ?it/s]"
      ]
     },
     "metadata": {},
     "output_type": "display_data"
    },
    {
     "data": {
      "application/vnd.jupyter.widget-view+json": {
       "model_id": "",
       "version_major": 2,
       "version_minor": 0
      },
      "text/plain": [
       "images, learn step=0, nu=0.050, trial=22, clust. size=16, clusters=91900:   0%|          | 0/100 [00:00<?, ?it…"
      ]
     },
     "metadata": {},
     "output_type": "display_data"
    },
    {
     "data": {
      "application/vnd.jupyter.widget-view+json": {
       "model_id": "",
       "version_major": 2,
       "version_minor": 0
      },
      "text/plain": [
       "learning, trial=23, clust. size=16, clusters=91900:   0%|          | 0/10 [00:00<?, ?it/s]"
      ]
     },
     "metadata": {},
     "output_type": "display_data"
    },
    {
     "data": {
      "application/vnd.jupyter.widget-view+json": {
       "model_id": "",
       "version_major": 2,
       "version_minor": 0
      },
      "text/plain": [
       "images, learn step=0, nu=0.050, trial=23, clust. size=16, clusters=91900:   0%|          | 0/100 [00:00<?, ?it…"
      ]
     },
     "metadata": {},
     "output_type": "display_data"
    },
    {
     "data": {
      "application/vnd.jupyter.widget-view+json": {
       "model_id": "",
       "version_major": 2,
       "version_minor": 0
      },
      "text/plain": [
       "images, learn step=1, nu=0.045, trial=23, clust. size=16, clusters=91900:   0%|          | 0/100 [00:00<?, ?it…"
      ]
     },
     "metadata": {},
     "output_type": "display_data"
    },
    {
     "data": {
      "application/vnd.jupyter.widget-view+json": {
       "model_id": "",
       "version_major": 2,
       "version_minor": 0
      },
      "text/plain": [
       "images, learn step=2, nu=0.041, trial=23, clust. size=16, clusters=91900:   0%|          | 0/100 [00:00<?, ?it…"
      ]
     },
     "metadata": {},
     "output_type": "display_data"
    },
    {
     "data": {
      "application/vnd.jupyter.widget-view+json": {
       "model_id": "",
       "version_major": 2,
       "version_minor": 0
      },
      "text/plain": [
       "images, learn step=3, nu=0.036, trial=23, clust. size=16, clusters=91900:   0%|          | 0/100 [00:00<?, ?it…"
      ]
     },
     "metadata": {},
     "output_type": "display_data"
    },
    {
     "data": {
      "application/vnd.jupyter.widget-view+json": {
       "model_id": "",
       "version_major": 2,
       "version_minor": 0
      },
      "text/plain": [
       "images, learn step=4, nu=0.033, trial=23, clust. size=16, clusters=91900:   0%|          | 0/100 [00:00<?, ?it…"
      ]
     },
     "metadata": {},
     "output_type": "display_data"
    },
    {
     "data": {
      "application/vnd.jupyter.widget-view+json": {
       "model_id": "",
       "version_major": 2,
       "version_minor": 0
      },
      "text/plain": [
       "images, learn step=5, nu=0.030, trial=23, clust. size=16, clusters=91900:   0%|          | 0/100 [00:00<?, ?it…"
      ]
     },
     "metadata": {},
     "output_type": "display_data"
    },
    {
     "data": {
      "application/vnd.jupyter.widget-view+json": {
       "model_id": "",
       "version_major": 2,
       "version_minor": 0
      },
      "text/plain": [
       "images, learn step=6, nu=0.027, trial=23, clust. size=16, clusters=91900:   0%|          | 0/100 [00:00<?, ?it…"
      ]
     },
     "metadata": {},
     "output_type": "display_data"
    },
    {
     "data": {
      "application/vnd.jupyter.widget-view+json": {
       "model_id": "",
       "version_major": 2,
       "version_minor": 0
      },
      "text/plain": [
       "images, learn step=7, nu=0.024, trial=23, clust. size=16, clusters=91900:   0%|          | 0/100 [00:00<?, ?it…"
      ]
     },
     "metadata": {},
     "output_type": "display_data"
    },
    {
     "data": {
      "application/vnd.jupyter.widget-view+json": {
       "model_id": "",
       "version_major": 2,
       "version_minor": 0
      },
      "text/plain": [
       "images, learn step=8, nu=0.022, trial=23, clust. size=16, clusters=91900:   0%|          | 0/100 [00:00<?, ?it…"
      ]
     },
     "metadata": {},
     "output_type": "display_data"
    },
    {
     "data": {
      "application/vnd.jupyter.widget-view+json": {
       "model_id": "",
       "version_major": 2,
       "version_minor": 0
      },
      "text/plain": [
       "images, learn step=9, nu=0.019, trial=23, clust. size=16, clusters=91900:   0%|          | 0/100 [00:00<?, ?it…"
      ]
     },
     "metadata": {},
     "output_type": "display_data"
    },
    {
     "name": "stdout",
     "output_type": "stream",
     "text": [
      "70 good clusters found so far\n"
     ]
    },
    {
     "data": {
      "application/vnd.jupyter.widget-view+json": {
       "model_id": "",
       "version_major": 2,
       "version_minor": 0
      },
      "text/plain": [
       "learning, trial=24, clust. size=16, clusters=91900:   0%|          | 0/10 [00:00<?, ?it/s]"
      ]
     },
     "metadata": {},
     "output_type": "display_data"
    },
    {
     "data": {
      "application/vnd.jupyter.widget-view+json": {
       "model_id": "",
       "version_major": 2,
       "version_minor": 0
      },
      "text/plain": [
       "images, learn step=0, nu=0.050, trial=24, clust. size=16, clusters=91900:   0%|          | 0/100 [00:00<?, ?it…"
      ]
     },
     "metadata": {},
     "output_type": "display_data"
    },
    {
     "data": {
      "application/vnd.jupyter.widget-view+json": {
       "model_id": "",
       "version_major": 2,
       "version_minor": 0
      },
      "text/plain": [
       "images, learn step=1, nu=0.045, trial=24, clust. size=16, clusters=91900:   0%|          | 0/100 [00:00<?, ?it…"
      ]
     },
     "metadata": {},
     "output_type": "display_data"
    },
    {
     "data": {
      "application/vnd.jupyter.widget-view+json": {
       "model_id": "",
       "version_major": 2,
       "version_minor": 0
      },
      "text/plain": [
       "images, learn step=2, nu=0.041, trial=24, clust. size=16, clusters=91900:   0%|          | 0/100 [00:00<?, ?it…"
      ]
     },
     "metadata": {},
     "output_type": "display_data"
    },
    {
     "data": {
      "application/vnd.jupyter.widget-view+json": {
       "model_id": "",
       "version_major": 2,
       "version_minor": 0
      },
      "text/plain": [
       "images, learn step=3, nu=0.036, trial=24, clust. size=16, clusters=91900:   0%|          | 0/100 [00:00<?, ?it…"
      ]
     },
     "metadata": {},
     "output_type": "display_data"
    },
    {
     "data": {
      "application/vnd.jupyter.widget-view+json": {
       "model_id": "",
       "version_major": 2,
       "version_minor": 0
      },
      "text/plain": [
       "images, learn step=4, nu=0.033, trial=24, clust. size=16, clusters=91900:   0%|          | 0/100 [00:00<?, ?it…"
      ]
     },
     "metadata": {},
     "output_type": "display_data"
    },
    {
     "data": {
      "application/vnd.jupyter.widget-view+json": {
       "model_id": "",
       "version_major": 2,
       "version_minor": 0
      },
      "text/plain": [
       "images, learn step=5, nu=0.030, trial=24, clust. size=16, clusters=91900:   0%|          | 0/100 [00:00<?, ?it…"
      ]
     },
     "metadata": {},
     "output_type": "display_data"
    },
    {
     "data": {
      "application/vnd.jupyter.widget-view+json": {
       "model_id": "",
       "version_major": 2,
       "version_minor": 0
      },
      "text/plain": [
       "images, learn step=6, nu=0.027, trial=24, clust. size=16, clusters=91900:   0%|          | 0/100 [00:00<?, ?it…"
      ]
     },
     "metadata": {},
     "output_type": "display_data"
    },
    {
     "data": {
      "application/vnd.jupyter.widget-view+json": {
       "model_id": "",
       "version_major": 2,
       "version_minor": 0
      },
      "text/plain": [
       "images, learn step=7, nu=0.024, trial=24, clust. size=16, clusters=91900:   0%|          | 0/100 [00:00<?, ?it…"
      ]
     },
     "metadata": {},
     "output_type": "display_data"
    },
    {
     "data": {
      "application/vnd.jupyter.widget-view+json": {
       "model_id": "",
       "version_major": 2,
       "version_minor": 0
      },
      "text/plain": [
       "images, learn step=8, nu=0.022, trial=24, clust. size=16, clusters=91900:   0%|          | 0/100 [00:00<?, ?it…"
      ]
     },
     "metadata": {},
     "output_type": "display_data"
    },
    {
     "data": {
      "application/vnd.jupyter.widget-view+json": {
       "model_id": "",
       "version_major": 2,
       "version_minor": 0
      },
      "text/plain": [
       "images, learn step=9, nu=0.019, trial=24, clust. size=16, clusters=91900:   0%|          | 0/100 [00:00<?, ?it…"
      ]
     },
     "metadata": {},
     "output_type": "display_data"
    },
    {
     "name": "stdout",
     "output_type": "stream",
     "text": [
      "74 good clusters found so far\n"
     ]
    }
   ],
   "source": [
    "IMAGES_FOR_FOOTPRINTS_COUNT = 1000\n",
    "IMAGES_FOR_LEARNING_COUNT = 100\n",
    "MIN_CLUSTER_SIZE = 16\n",
    "MAX_CLUSTER_SIZE = 16\n",
    "CLUSTERS_PER_FOOTPRINT = 100\n",
    "LEARN_STEPS = 10\n",
    "INITIAL_NU = 0.05 # for oja it's better to set 0.01\n",
    "TRIALS = 25 # till non empty clusters\n",
    "\n",
    "image_indices = np.arange(IMAGES.shape[0])\n",
    "xp = cp.get_array_module(IMAGES_)\n",
    "\n",
    "good_cluster_masks = None\n",
    "good_clusters = None\n",
    "\n",
    "for nexus in NEXUSES:\n",
    "    nexus = cp.asarray(nexus)\n",
    "    image_indices_for_footprints = np.random.randint(len(IMAGES), size=IMAGES_FOR_FOOTPRINTS_COUNT)\n",
    "    images_for_footprints = IMAGES_[image_indices_for_footprints]\n",
    "    nexus_footprints = images_for_footprints * nexus\n",
    "    nexus_footprint_sizes = nexus_footprints.sum(axis=1)\n",
    "\n",
    "    for cluster_size in tqdm(range(MIN_CLUSTER_SIZE, MAX_CLUSTER_SIZE + 1), desc='cluster sizes'):\n",
    "        good_nexus_footprints = cp.asnumpy(nexus_footprints[nexus_footprint_sizes > cluster_size])\n",
    "\n",
    "        for trial in tqdm(range(TRIALS), leave=False, desc=f'trials, clust. size={cluster_size}'):\n",
    "            cluster_masks = []\n",
    "        \n",
    "            for good_nexus_footprint in good_nexus_footprints: #tqdm(good_nexus_footprints, leave=False, desc=f'footprints, trial={trial}, clust. size={cluster_size}'):\n",
    "                active_bit_indices = np.argwhere(good_nexus_footprint > 0).reshape(-1)\n",
    "        \n",
    "                for _ in range(CLUSTERS_PER_FOOTPRINT):\n",
    "                    first_n_active_bit_indices = np.random.permutation(active_bit_indices)[:cluster_size] # permutation is times faster than shuffle\n",
    "                    cluster_mask = np.zeros(NEXUSES.shape[1])\n",
    "                    cluster_mask[first_n_active_bit_indices] = 1\n",
    "                    cluster_masks.append(cluster_mask)\n",
    "    \n",
    "            # print(f'{len(cluster_masks)} cluster masks')\n",
    "\n",
    "            cluster_masks = cp.asarray(cluster_masks)\n",
    "            clusters = cp.ones(cluster_masks.shape)\n",
    "            clusters_len = len(clusters)\n",
    "        \n",
    "            nu = INITIAL_NU\n",
    "            image_indices = image_indices_for_footprints\n",
    "    \n",
    "            for learn_step in tqdm(range(LEARN_STEPS), leave=False, desc=f'learning, trial={trial}, clust. size={cluster_size}, clusters={clusters_len}'):\n",
    "                #image_indices = np.random.permutation(image_indices)\n",
    "            \n",
    "                for ii in tqdm(image_indices[:IMAGES_FOR_LEARNING_COUNT], leave=False, desc=f'images, learn step={learn_step}, nu={nu:.3f}, trial={trial}, clust. size={cluster_size}, clusters={clusters_len}'):\n",
    "                    image = IMAGES_[ii]\n",
    "                    xes = image * cluster_masks\n",
    "                    yeks = image @ clusters.T\n",
    "    \n",
    "                    # RDZB Hebb Filter\n",
    "                    nomin = clusters + (xes.T * (nu * yeks)).T\n",
    "                    denom = nomin.max(axis=1)\n",
    "                    assert xp.array_equal(denom[0], nomin[0].max())\n",
    "                    clusters = (nomin.T / denom).T\n",
    "    \n",
    "                # Pruning\n",
    "                cluster_masks = ((clusters.T >= xp.max(clusters, axis=1) * 0.75).T).astype(cp.uint8)\n",
    "                clusters = clusters * cluster_masks\n",
    "            \n",
    "                degenerate_cluster_indices = xp.argwhere(cluster_masks.sum(axis=1) < cluster_size)\n",
    "                cluster_masks = xp.delete(cluster_masks, degenerate_cluster_indices, axis=0)\n",
    "                clusters = xp.delete(clusters, degenerate_cluster_indices, axis=0)\n",
    "                \n",
    "                #print(f'{len(cp.asnumpy(clusters))} clusters, {len(cp.asnumpy(degenerate_cluster_indices))} dropped as degenerate')\n",
    "                #cp.cuda.Stream.null.synchronize()\n",
    "    \n",
    "                if len(clusters) == 0:\n",
    "                    break\n",
    "                \n",
    "                nu *= 0.9\n",
    "\n",
    "            if len(clusters) != 0:\n",
    "                def join_unique(a1, a2):\n",
    "                    if a1 is None:\n",
    "                        return a2\n",
    "                    a1 = cp.concatenate([a1, a2])\n",
    "                    return cp.unique(a1, axis=0)\n",
    "\n",
    "                good_clusters = join_unique(good_clusters, clusters)\n",
    "                good_cluster_masks = join_unique(good_cluster_masks, cluster_masks)\n",
    "                \n",
    "                print(f'{len(good_clusters)} good clusters found so far')"
   ]
  },
  {
   "cell_type": "code",
   "execution_count": 64,
   "id": "3a90da1f-e98f-4280-af02-d310eb2c92a4",
   "metadata": {},
   "outputs": [
    {
     "data": {
      "text/html": [
       "<div style=\"\n",
       "        display: grid; \n",
       "        grid-template-columns: repeat(8, 150px);\n",
       "        column-gap: 1px;\n",
       "        row-gap: 1px;\">\n",
       "        \n",
       "            <figure style=\"margin: 5px !important;\">\n",
       "              <img src=\"data:image/png;base64,iVBORw0KGgoAAAANSUhEUgAAAJYAAACWCAAAAAAZai4+AAAC0ElEQVR4nO3YSU/bQACG4W88TmInTnBCaQuBUKBSaen+/++VekCqAImyNLRZIJDYEJpgx3bcg2kPvc5IzuF7TnMavfJ4xgtARERERERERERERERERERERERERERERP8R+mYSQggASNM0TRUnMzUEZYpO1SkBQDK5v58qdunLsp61mi4AhJedTpCoTaYvy17de/McACYnxt1wYbJKT7Y/bgLAnbj+oXrL6ssyK43VZQCodWtF1SxDQ1BGyEIJAFBwLHNxsjBP4mwgDeVjR19WGkdBNoriuepkGrPSx6s1GQfx4hyncwgD8cM08LujYHGywrkh8dDvXHoXP+9UV1FfVpRKM5129w89/+Z2cbKkWTQRDo6/jqIoWoxFFBDCrVoSSTAeDTVMqCfLrlXtFxsNW1i1lXUrDAPVy6Uny2m9eLq2u2rDbb0zRjeDgb8Qj2p359PLxtpTwN7E2ujsKLxbhKziytb7t2XbArBS3vIq973c3yCkNOVyc6PVRBpEc7NUrS4NGlbeWUalXq8t7240gFFvOFtqbqJYrxRyz6q1dprLrfUKgva302nzs7sEu6T8pFXNErXND68btXoR/sX+/vhleXsJGr6n1Bfx2c4H1zAkJsPuuS9eXW8b01n+bxCFSn1FAoAo2tWkEN5cGH0/zDtLCMOUAAB7dc+8L1v9Wdz5Nc47K02TKDYBwNkydx7G0973id/J/w1iHs8CBwDKG09ms/OD8+PbcPI796z075eF6TiIvPngxFOdEhqyhCEL2WgWhNOr66GvOiOgIcswS1Y28ntXXvuHp3q3A9CxE+XjTowuD456Xv9WOQnQshPjbCeOu4df2lEYaIjSsIjRxBu4ANDv/mz3lXseqWbNJ1enpgMA3TNNCwhoWMTxLzm0AGDYvg41BGWUf61UXLdqAsCD7ykf7v+o/1uRMtuJaZIkWg4HIiIiIiIiIiIiotz9AZzTC4bnCxjmAAAAAElFTkSuQmCC\" style=\"height: auto\">\n",
       "              <figcaption style=\"font-size: 0.6em\">#0, w: 16</figcaption>\n",
       "            </figure>\n",
       "        \n",
       "            <figure style=\"margin: 5px !important;\">\n",
       "              <img src=\"data:image/png;base64,iVBORw0KGgoAAAANSUhEUgAAAJYAAACWCAAAAAAZai4+AAAC1klEQVR4nO3YS2/aQBSG4W/G5mqwgxwUECVFoDZNWylR//8f6CZV00pNQxMaAgRScw8Y7LGnC3LpfkaCSudZ4c3RK9kzHgMQQgghhBBCCCGEEEIIIYQQQgghhBBCCCGEEPLfYnrHJbJWCoG/XEu1OaaenCepStXlk17Xi9TmaM7KHn6q8873xVBxjuYsp3b60fg5b3HFOfqyGGMsWa7W3/Clm1F9ZPVlJS07Zx3VyiZyKWN3stKl6iu33nABpr6+9WVlSu8/VNxqClgFiutQZ1Zqv3FaS2aAaLIIFbctjVmJfLHiIl4G4/5krTpM40pMZi1g2BmMLm/nseIwjVnc4Fi1v1x4973J7mRJSIFp+/yzt/L93cmClJFcTu5aHqD6xGt9+TDOzFTWDoQQqjuE1pePAbt8tPKmw7HqM6/1JnI4taA4/N28WuxMlhTrtYVypj46F96d4jB9WZE/HTosXSrN5tfZ3XlVPwyunGl+34XtZJWn6ssa/07ODirvTAcJU/UUqDErvPU7zjF3HR3fLRpXot8ZpPnhJGCx3P52ahjm5iwqozgORSwlU45Sz+JWoWCbABCJULB6yU6Bs62fTrl92KhkACAWQrDa26KWT2LVLGa/PjnOA4CMY4nCQQEQQm573+LWQePEeb40TAb/YSW2fmhOWIWi8XIpZv64O1ptO4sxbv5TheFNf9jszredJWUUipchQfv8wrvvzbZ+Oo1FsMo9X3mtr2eev1xuPUvGkXj6ibDXvroYqY6EhizGjQQAIF7MF4vmTV9HlXoWN1Ppza/RTcdrX2up0rASjceVGP758a07HkzVm6BlJYrNSny4uzxrhYHydz4ADTcxXIwGewDQ697e9JV7HqlmxYt+08wBQOdXb6Le80j5Js7ahpcGAK91r+cGAuqHEG7t7eVNAPDHI+V/RJ4pn424YWxWooyiSMO5lBBCCCGEEEIIIYQQQnbAX1F7GDYkkrFmAAAAAElFTkSuQmCC\" style=\"height: auto\">\n",
       "              <figcaption style=\"font-size: 0.6em\">#1, w: 16</figcaption>\n",
       "            </figure>\n",
       "        \n",
       "            <figure style=\"margin: 5px !important;\">\n",
       "              <img src=\"data:image/png;base64,iVBORw0KGgoAAAANSUhEUgAAAJYAAACWCAAAAAAZai4+AAACmElEQVR4nO3YX08aQRSH4d/s7LICAqVIKTUFA+n/Jpp+/89gUtMLjFELFKIGBEUW2J2d6U1F09tzGmhynjtuTt6wM8wsgBBCCCGEEEIIIYQQQgghhBBCCCGEEEIIIYQQ/y3FOy7I5UPEi2jlaHN8npxH4f7bijcdDkYpbQ5zVq7xreX9+jEfE+cwZ5UOjr7q09mlR5zDl6WUUpn629Y7L6pkqUuWLyuzW9jNf2hUfYQ+9ctizNqpNfYrB80CkBhLHcaXla1/+fymXNuBmS+J+5AzK9xrHTWDIIMoWm1Rlp+v1CsAYE1K/DEFyIvzaZIOQgAAuQmcWc6l5Ge3xphlkhUAQCn6QcuYZU3MNowvC8rTbLP+wZKHoy96xm9LBxkA27YT4Sz5zFnjy7Krh2lqnWPZiXy/8g83ly+m+VIp6/ma3MWXNfmZuXtVb7dDHWzTxSbpL/qlj9ir6kywRVmI+tehas6tp73NP0St/ywll1qbpBZqG5a8ly+Xiz4ApCYxqvW6GMKjd5Gzio32fhYArDFGHbyvsrwSU7NUsXn4qQAAzlqHcq0MGOM2/ebj5Wvtw9L6o/YVFg9LQz2AyEs+yJWrz24O5n4xGdwuN52llKef32fG3avx2WC26Sxn08Q8DYl7J53RzfCeemiTH6Iz8aKw/jS6/H48WkTR5rOcTfF4yUqGvfPOLXUkGLK8IMwgnt1HDoA5615xVNGz/J3dHOLBxZUFYHoXLFX0najDLDDvHXdSAHZyfcdRRd+JAIBp9+TYAHBJvCInAQwPMY4mEzvod/scNWvULDsfdlbpaZf6Z+lfyA9xeo6uHXZnLDVr1KPeK7ws591sPFqy5Dwi34201h6sSfneEYUQQgghhBBCCCGEEGLjfgObhOVbTk+iugAAAABJRU5ErkJggg==\" style=\"height: auto\">\n",
       "              <figcaption style=\"font-size: 0.6em\">#2, w: 16</figcaption>\n",
       "            </figure>\n",
       "        \n",
       "            <figure style=\"margin: 5px !important;\">\n",
       "              <img src=\"data:image/png;base64,iVBORw0KGgoAAAANSUhEUgAAAJYAAACWCAAAAAAZai4+AAADhklEQVR4nO3Z228aRxQG8G9mdmGX29qGEFMb4uA4OI1VWXlo//+H9qlS1ZSkduLEBsytYC5e2AX21qem2khVK81Uuw/n9ziCo0/DzOzZASCEEEIIIYQQQgghhBBCCCHkf8Fkv2/m8zkRGwqc9dqN5Mpqcl8Ht+qNw2xsaDvq9raBXFnpWHvNy/NCbGh1pdnTpGPla603VmxoGY1vuGRZ2VgQupGPz5Zv6OIfPvyfycaK3Fn/UzE2ZPdnsiteOlb42MnOzdiQe9d5DCXLyh4QvHRQsfTYkLeczmRzycaC0DQRLxIFvi+5EQkhhBBCCCH/RrqXj9Nz+Sx2rrNN+A7iK9mjepkvBv2kX/a/kmu8afL79vpBso7iWNbJ5YW4tm8Tv4P4gjHGMrV684w7ZVN2yaqLlcmXCvnWSU1DISvSE8s4rB+Xm6dlgMnvb3WxzMNvXx+V61lgs5N+11cXK1s5vTzJmECwWHtJXyT9TS9Wj8uI3O18uNjKFlMXS5ilA2DRHT1c96TvtxQeELqhA4Nf2tPxYJGeWAAD3N7bHycb101PrNBz7OLD+P52CtkFrzLWZt6/scY2K3qh5/mSxdTFmt/u2YXQfnq5Xk0nsotLYb/1tF41q0/29d3o6l1HcroULvmxfZt5XW4+x0d/0JOspSYWA2MRXEd3MrUW9z/k0vGozllWPvQ8X2t8U82gYKSkgyidvqjB83z+4rwK8LR0EPtnP7REEISsfGSmp4PIVJ69+k5HBOgZIFw6fuIdhKZpvFy1TF0HEEVOGC7Hy8Q7CF56UimWGqK/EwAQBEG4+jBcJf1M5Put8yMjcn7b/PW7sU2/m3hjw/dOv3/Ju7++/RQAABdcBKvlY9Jri5mVxllo7wbvPQBgjDOEYZj0bCHcuetoh0zOB2PYbT3ZggAU/Cls3793xZQ3tIgLgdlo6KqIJXsei9rzZ5WcoXHBNV2Puu/aH1XEkp6tuT80rLNX5w1N07Xw92g2slMQK1qvgQPr4vhCA+DN9vMZBanUPHweveyeBmzt9WS5kd2EABTFYppZBPy7u0n380zJVlQSK2sYOjBu/9ydjycpiqVhh7DX/unGU3Rwqem3PHuam/c6nwdKqkFRLH/eaU+X1/cLFcUAKIrlTa42lnM3lG6zvlAT649gYHjLiZKzAYCi11cmhGBR6Afylw+EEEIIIYQQQgghhBCSBn8CmiJWZraNZrUAAAAASUVORK5CYII=\" style=\"height: auto\">\n",
       "              <figcaption style=\"font-size: 0.6em\">#3, w: 16</figcaption>\n",
       "            </figure>\n",
       "        \n",
       "            <figure style=\"margin: 5px !important;\">\n",
       "              <img src=\"data:image/png;base64,iVBORw0KGgoAAAANSUhEUgAAAJYAAACWCAAAAAAZai4+AAADfElEQVR4nO3aSXPaSBgG4FfdWlgkNkOMxxiMY6Zsp1yZTOb//4DckhxcTOyYgDcIm8GAkFrdObicTM21uwKH7zlx+uot1PrUG0AIIYQQQgghhBBCCCGEkN/FMlvO9lIOxHodK806ZuK8cPf+KFqzfn+8XbHS9bd1fnexnkq9OoZj5Q/fnfEv4Q3TrGM2lv2q3jpj4jKjO2R1Y1mZwE+p1Wy+5pnAz54c7aeRS9mbjsWKzUZZ3V9dr51Ks1E5OtkFONN+v/Vj/flPU14kg4lTefP+oLzvAlGkOeANxApqZ28SdZWCXWicH7segMelbtvSH/LMTWeTlMNgcS+TlZFU0++zSLeqbiy1GnZT8mYaIVkMOkrEsZh/6S90n6JuLDm9cm5lp7tEPGpbl0LEyarXnW36IcpJexSoaf9JxQP1kJVSyng2men+W/qvsm0zJLGQFndspgCoRCSJbllCCCGEEEIIIZtheEvXspgFJdWmV9X/4xYKGWs1e1xs15auVzuusmHneqW5rDYcy2+8b/FvfNLfrlilw/Nz7g/am947/YXZtu3Vagf7GAbu9sTyiqVC7rRRAjiztidWunp8WNlvZIEwSranQaSrp29rftFD+BRqb2+Zi+WW6qdNxhjWYbRFsbgX7HgAIKX2tjx0z4z+W4pzc7WMVYIUMQAzn1lzsZSIwudf2u3BaCwlze0vm4sVJ/K5Wzm2/gmZuVjrlyaach3tquZiiZd/i9v6Hx9zsX4+OxEn2zE7tTi32W4x60AKkUxHTxs/uHsukisW/Nrr3QDxeDQd/3u/8YM7AICz02zulZsHBUT37c74tqt9QmYmVun4XSsolRmeep8/juaPGz9PBADwfO3k3OM2MLppfxqqRPtjbWYG4eYqOWCxWHZ6dw/CQEEjsdaSe8C8ezP++nVoIpWhWEIqYHDx+e57b2qioKG+ZSHB8qH9obNaLEwUNBHLQsH3mAqnt5eX+tWeaV/9SQd+dudo17cQr+ZGIgEGLrMU6o29cqtZhA3odqtftGPlj/4+2SlXbVgW94xEAgzE8qutv4oeB8IYjpFIgIEhb3E35SaxVP3xUn8h9kL76k847uV9EcXy9nqkPZ/5SfuOzWPHGaaEEHL87WFlJBKgv6hjQbGUt6WUajWbzEIjmWBgrck5ZxagoBL9iQMhhBBCCCGEEEIIIYRshx90llG3bqxPQgAAAABJRU5ErkJggg==\" style=\"height: auto\">\n",
       "              <figcaption style=\"font-size: 0.6em\">#4, w: 16</figcaption>\n",
       "            </figure>\n",
       "        \n",
       "            <figure style=\"margin: 5px !important;\">\n",
       "              <img src=\"data:image/png;base64,iVBORw0KGgoAAAANSUhEUgAAAJYAAACWCAAAAAAZai4+AAADsElEQVR4nO3azXObRhzG8QcWLF4khEQcRdZL6rieOFM3Tn3p/3/qoZ20GY8nTeRY0buFEFiqMSBA6kGe9tqZ3WmZzu9z8mnnO2ZZELsAIYQQQgghhBBCCCGEEEL+LZKwkWRNK8lZkiRbAYMpAsbYk593GqVwPpknAgYTl6UeXb6xFtd5UKws/ej8x9o4G6siBhOXVT9stmqprcsiBuPNknTTNBgAtBzcJ4tVLGLGc2fJ1U73RQkADCf4kC16y1RAFX+W/erdWRkAQn/qLh9ms2Jkmc3Xl1UAmPw6eT/MkmgjoIp/yjNVM8sAoMRuf8IftMebtYv8yZcKAAxG7kpA0B5v1nY9KAU6ALifhKzve7zPRNmqP6uqABB6C0/I4gAIeFQzRWESAGyzLNvxBxFCCCGEEEL+EXGf3QBAKplGCZvHMOZ8qxf3xQYAJLvbcSR/NHBzvoHEZsn26eWxNHj/h1eoLKnS+f472fJ6vHNDbBYUvVKTLUMpVlb64E1seRbwznjR/635Z2PBxrcr3l/9YhcIyO3OM3k1n/ucXYKzwPSSlKUb3q8RAncxVJVJWZwJGUzc3NKcw6qyno0L8aX5b0b7rKu519FCxGACdzFab8/LY7gFyyo5x+e27d3crgUMJnDdOjBrpRftVzMvjqNNYd4gkiTdodK5UDx3OlsW5lEdPz6EGmu+ay57V1FQmCykUeigZnSDA/9rMR7VEiSpqksZoKplVjXUYmTpVkXvdhwDeRQngbvmnfGCssrdb543Tts2NvOx638ZrXmXejFZ9skP39qNpobHwW+/L5fufSGyDg6P354bmg74Xz/84qWb//4iMqYwp9XptoBNGo1Hg37EO6SALNms1SznrFMHVrNFcNO7E1HFn2V1T1pOt21iM7z+PHOHSxFV/Dv71suLN3WrdoBgePXzMAofCpElm42TC1uWGR79af8WOzF7d9xTXjVrhwwAJFUrW7mgTUXuiyjJCgMAaI3XeXu99AIRW/vcW+i7PM0UADA7Svt+9OljWIQsbLNNXAYA/ah+Gn3cLUb8UQKydtt8/xtMUQykflUrxNEfSDJ7OhqVxHFclKM/kJWStv8rmNwFw1u/EGdsJIk93Ynp3dX1NJgvCpG12+XZ/k5cj69/6qebpBBZSEN/bgPAdDzoT7l7nnCfsQnvekoZAMY303v+nifcF3E9ZJ4GAF7fLdDRH9O2KwoARIHP/a78F+7vWzJj+ztxl+c5Hf0hhBBCCCGEEEIIIYT8P/wJ5r1lTJlZGCwAAAAASUVORK5CYII=\" style=\"height: auto\">\n",
       "              <figcaption style=\"font-size: 0.6em\">#5, w: 16</figcaption>\n",
       "            </figure>\n",
       "        \n",
       "            <figure style=\"margin: 5px !important;\">\n",
       "              <img src=\"data:image/png;base64,iVBORw0KGgoAAAANSUhEUgAAAJYAAACWCAAAAAAZai4+AAADmElEQVR4nO3aS3PiRhAH8NZIQiDxFGAo47IXm9ix41QuruT7312VdzZeY2y8C8v7JUASGs3kAF5/gJ4KHPp349L1r5nRaDQNACGEEEIIIYQQQgghhBBC/i+askpGwkoYEiSIKNxwiSymJhMAJI+qR2kRx2IzGY7mBxPLrt1eHfGI8/XLQ+QJXDGFo1W5+vmU8yieZ/w+QxZTF8uwC5UagISZ92xjlyw2lmZn0kkZLD0/9udDJ5XRoFBKJ/YdixXqZyUYvLwEweAT61Q/HAOkUzqyqoJYl3d10TJng3VH9PJXUc4Bw8AuLXyszMnND8LqftT8r9On1CxTa0AUC+T+gF/yLJFyRCqhA+crgFy7U9QnqwhbFRtL+qPXpPg89rfjM2r/I/RWd4XcttCxxOzJ7IhOa7ete227zwatGXYSsU8yy5dLGVgMR9skyXI5w5aT8QI5XOhXtWEYDGLO421K02Ag3n4RQgghhBBCCCGEHDZ1XQxm7C4nZcw5RxZTdwFuFdy8DQAQLSaTw2kXpKqNDy4AgP+lybHXgSpjXf90DACw/Dsa9ZHF1MVKuKfXdQCAefDZ2Xe74J1mZcsWAEApZ+Pvr/F5djbStLcldU1DX8ni8+yE0W6ZRwraBepiaWLjAwBAsOHYa3lFsTTG9KwRTGIhJODHStWSTxdyViW3eJhZuYLDDB1/ra4iFRSuL9ykHA4st3GV0s39d8i2Sje/1MLm74/+KS9X9YR5GLGscv22Ph7MP42WJ57Qdbb/SdQNg5XKWctgUnAeC9Dwu5aKNmfRTWcrwdPImziXp2dnbhIYPhc6Vv7iu6OkPvkaSVGs2uXvj5Wc4dCd/fz53bn2+tufPef8x9uTVNEF4Fzu+1XNnOPL2zjYtJsF17loMA3AXwbYv9jgl7xp57Pg5rOZlCnDleA8nncmwb5jaVJIgGLjrsoqweMwjjZ8+djx9h1LxuEaIH/jzBcr7z4SnItg0MX2hPGTGAfLleM0arzz1x8fe1JKGfvr9d5jCR5FYOZysDGnzWdstTf4462RSID0/bA3GE9VJAIAFS+fpGND2P0y6D70fRWJAEDBk6hbNsCydf847fWx39Lv0E+ipmkA4+b9r34Y4k+lb9CTuFlPp6Lz+vyiIMw79H9sVt1/w/ihPVaS5hv0JM6eoC26bU9Jmm/Q35kZt+BIbzwKlMR5gz4b6brOQPAY/WlICCGEEEIIIYQQQgghh+M/npZ9UjKj82QAAAAASUVORK5CYII=\" style=\"height: auto\">\n",
       "              <figcaption style=\"font-size: 0.6em\">#6, w: 16</figcaption>\n",
       "            </figure>\n",
       "        \n",
       "            <figure style=\"margin: 5px !important;\">\n",
       "              <img src=\"data:image/png;base64,iVBORw0KGgoAAAANSUhEUgAAAJYAAACWCAAAAAAZai4+AAADuklEQVR4nO3a208bRxQG8G9m12t7Yxt8wcYYcAhQ3CL1GiX9/6U+VW0VNRCBcIpjUzAGX9bGm92dSx9oQXmeUb0P5/e4D0ef5mrNMUAIIYQQQgghhBBCCCGEkP8Ls1cpm/VcAFBJHAltVsy1kQgAwNY3N4oAEE9Gd9PUxOK1o6MGACx7Z3GgzIrZi5VvdN7sAsC8FA65YTF7sWpbe0evAGAafMybLlnTWCzn+3kHnLH2YbvJAKC87mdWHYsXm1v1HHcdp9F56T9+y7mmc2geq9Q+Piw4XsYtNpr/flMw3IcWJrHYOv5hjbuu4+b+G6MwVqa5zNdWpbWXB6C0FI9pZveL2LCqeaxMoZwHonEgE5EoAJh3hw+Gx5b5AeFkfQCfzgaJEEIBQHjVC1Y9iWCcA+OzX04TpR4nUQQT00PeOJaWcQj8ff7Hb4l++iTkymNFs2FZ9fqDO8NCXzKONe//GciLy7GVNE9MY6lpN+nqYe/BSponppcX80vFHJazmfFR9WVZ8wKMQWvz+4YQQgghhBBCSBrY62JwN+NyAFpLkUjDYvYewHPVWtVXSqlkNp7MU9Mu8Fudg5pMhFx+6krT50CLXYzmNz/tyDiRwUlyPzQsZi9Wplhvv1Ja6Wk08FfdLniWhIvpJJt3Ua8UPNNi9mJN+yfo13a2HZbzeHpGa/4xGVT3f/SaYIyt/KX52e3i0r8vtOppaK48YmBMIwyDu+BzwrX5E5ydWP7a2gslhODbtYIH45VlK1Zp/6AJIQT2OnUOZn6l2YlVPnx75CipUGluAErpVOxEr9b++tsMNJDxABFGcuU70XVdXq2v+54LQOulUrPbYOWNO17aqBXX2tnRB66kgpRSLc6vF6Y9H+NF0D7utPI8iRIpEqk0wKKrXm9o+IPLeLTW99985VyfvL+Mk0Roxl1HLmYr7yeyfG33UC8WF7/HWimAcwal1Kobd1Bx+CAnd8MA8F5wEUWmBQFY6JDNB6eh+NAdAqX2Zm5xM5inItbkPDqTg/Mx0H57XBq95yfpiCWucyoYA6X91z9X+nzUD1IQSz88NjgZNlvbO2VRNf9lCti6E3m1kt+ts/FyOA1NNyEAW7Eanf1quRK8i0dnd4mNglZiZXa/f73Fxv3L24fhjZXusJVYhcbBd+35u+tf/xJRlJ7Rclwvm1uGo96VjWqApVhyft39PLm8mdooBsBSrPj2NKksLq7sXDyArVg3YpCPJ7emz0fPrLxvMcdxuJbS9L+5hBBCCCGEEEIIIYQQkhL/AHGYkazMrSAYAAAAAElFTkSuQmCC\" style=\"height: auto\">\n",
       "              <figcaption style=\"font-size: 0.6em\">#7, w: 16</figcaption>\n",
       "            </figure>\n",
       "        \n",
       "            <figure style=\"margin: 5px !important;\">\n",
       "              <img src=\"data:image/png;base64,iVBORw0KGgoAAAANSUhEUgAAAJYAAACWCAAAAAAZai4+AAADpUlEQVR4nO3azXPaRhjH8Z92Vy8gkIWBYgfHOE5Sx23iTDPT/P+3HjuTxpOJISbGYGNbFuJFICQh9UAn/QN2J9bh+Zx0euY7sxJaSQCEEEIIIYQQQgghhBBCCPlZNBVDmGmaIoujdapiGgAIFUP0Zrtlx97odq5iGqAoy9h793szvBCzYmXpjZOPB1PjvqdiGABFWazkttrluq1kGABFWVk0fbCmk+VGK1UrlhYt5su8AFnJY9e8Ci9uV5p7dPQLvKt+tClC1i1/qMT3w5C5r/88Zn0zuCtCVvyw6ItsHa20Svv0HSuNvzDJiWrOreVye6Bzo2SzkiFbpSbrh3z1eF1mA28lecarzppemjds9C3IJAepzcqCi4mDuTeRzVJyq/4fF4IjS1Nl92xCCCGEEEIIIT+X4udETWMa8jwr1sM+zNpuBctpsJB8rFacZXVO2+zuW3dZrKzK8cffeI95N5JzFGfVDk7OOBvYhXjtBgBgus6N/d2y9Cs3QGWWVW/uWEfmXZJejmTPeIVZ5YM3h7aVf50vve+Pxckqtc/eOtOv3fMgXsyLk2XWX7x1B9/97iNyFOjn1Kw2RHN3x1mn6UbytbzCrDjVBGoHbxYPgR/IrqK6rPU6yhief3C9q24vLExWHoczF01+6H9KvbHkMDVZmgbNYaFX1USrNZtflmU3Jmqy7B3H2KvMemFptwHHKUtPVZPlvOq4tu7/fVF/JVzoQnoXpyarfvJhPx31hulBUnOlf7SgKMtsvf6jM10G54FXP1mzImRxLnij/bzTMo3wdmb5q4xp8jtx2Sxm12pO49dnOxDpcoZ5rBncFE/+PZE5hy/bjeOWgWgVARtN5zD0J8/SnM770123DoRRBhiCAxqkl1F+EVsv37uMa4hzq7Ko6umGL+PNk+8gdLvW5AAgqnvHwb4+HWD0+OQfhTWNCQ4AKLXPKgvLHkfx9WD+1Fl5vklSAQB2xzxeB/Prz6E/lP4oLL2IWRpHFQAoPasnSe/T9ZfJOpTd18hn5dlm+2FaCBvJXTK+8GVHQkGWxri+PYqj9XJ8701kJwIKspgwre3RZDT2+5e+gjuiiiuR/3clJrf/nI/8m0A6CVByJabbK3E2/PxXP1lHCqIULGIS+ncuANwMr/qyL2p+kM3KwnFXVABg2FO0gICCRZwNuGcBgNe/XysI2pK91TPbdasCAFYTX/qPSD9IbyQZ59srMd9spDcOhBBCCCGEEEIIIYQQUgz/Ajh1Y3ltcpS6AAAAAElFTkSuQmCC\" style=\"height: auto\">\n",
       "              <figcaption style=\"font-size: 0.6em\">#8, w: 16</figcaption>\n",
       "            </figure>\n",
       "        \n",
       "            <figure style=\"margin: 5px !important;\">\n",
       "              <img src=\"data:image/png;base64,iVBORw0KGgoAAAANSUhEUgAAAJYAAACWCAAAAAAZai4+AAADsklEQVR4nO2a2W/bRhCHh8tTh3WQkiPJcnzFVuK6TtoC7f//1NcCiRHYsiNbtmTZkihRN8nlbh5y9A/YQU0U8z3p6YcP5O6AmhkAgiAIgiAIgiAIgiAIgiAIgiD+KzSUFNu2DRFtQoGSBgAGSspWo5aLRr1HlDAALK1S67S6bPPnBCUNkLS06slfzcB+vokw0gCQtNz6QWt/Mr2sTDHSANS1tEwul62e7NWZt/um52yWixXGm1TVYsXd17Xq6UEGoPmrPBredwfrNGiVDj+8rdSaAOCdlvzOP5txKrRy9dbvrm0AADTcdcbvoJxW5RDddHKOjITUNGaxjKWjFGhVLbn2ezf5OI6FZlim6A6XKLVLVUvM7uyJw2MuNMMwZa89jjG0VB85K7iVoiGEkMCYLuf+KMCoqconQTcMXZPfw6TgPJGqkQRBEARBEARBEMTLgdPS/TdOYxpIKVT/K+L0Tn9il908rILpQrHnjKzl7L3bYU837VW6tPKHf57q12zUV8xB1io3W+c66+aYYg6eFjNN3aq7WVUjAMDUcrxq0dm3n2L+pad64hG1ss23r3OOvJyvRrfj9Ghlds7PCsFl+2IaLebp0bK9g7NS99Zvj0FCesqp7uRdyysVCiFPuGpfF7FASAGQrZ0sR1N/ovoW8bREtF5ZRv2DN75rXy/ToxUuFyV9O3M4+ciHqgNPPC2ZxBGwQgFm85uscl8dRQkAgAvQAQCgUMwa6dEKE2Z9+2UZyql4Wgmw7ydCKH8FImqZTHIAAEiWkfIkQ31w92O44lnhKKsBQDCaK499lMecWz9GUcWc/+meMcYWV4+qZQthKHx0su9wzhMeP90numHqUa87e3Gtwt5v53kex8mw/bk91E3TEPNg9tJnS8u4O0dFKYS8HUX9DtOYBjIRL/20IAlXc8O2AaqVcrEQhSjDV4Sh8MOn0K3Wa9pW/V3c8AePGPsG6lqTq/mVd3xmVM1G8mrcvdDbqdAKNo+WFzjbVVbJH6w/S38wT4GWjKI5hLvBOjYdB2K/nLMQrNRvouU4tlcrZ00IN5vNMNigbLypr/40Gtve0XEVYNIbTLpffJSrqKxVPn7fciuvKhAPPl70J0/DdGhtNX/5o2xZALOHi787MVLhUi6nzHCyjtgI2X+466g2an6ifBM3/n0xz2POH677UwwjAMCoW7fmyEk4T0ad5xBFCQBh9Wer7H773lpP/CnaOqz66o+uMw1AgkwS2vohCIIgCIIgCIIgCIIgCOJ/wleAdoJ05K3AdAAAAABJRU5ErkJggg==\" style=\"height: auto\">\n",
       "              <figcaption style=\"font-size: 0.6em\">#9, w: 16</figcaption>\n",
       "            </figure>\n",
       "        \n",
       "            <figure style=\"margin: 5px !important;\">\n",
       "              <img src=\"data:image/png;base64,iVBORw0KGgoAAAANSUhEUgAAAJYAAACWCAAAAAAZai4+AAADdUlEQVR4nO3aW28aRxgG4HcOsMBig9fQYMtxbOzajqOqB0Xq/7/qD0gi5+Q6DibGBpYzC+zOTC+o2vT6m5ao+p4rrl698gyeZb4FGGOMMcYYY4wxxhhjjDH2XxFeUoIg0Ha1WFovaQC0l5St/Ua46rXvvYQBvmpVzy/rsw/Zo/GSBk+1RP3s14NR8Hi98pEGeKoV7R2fHw2G72pDH2kAvZYohmGpfvZsT+4+PW0XAcDMZ7PEbbaWrDw9bNQvj4vAwQ/uewBYdj63lsRdRq5Vbf50UWscANi9rI4BYPpWT3qbrhXunf8SBRoA9qMUAEbu4aMkxpK3vMoVwoJbWSeEzAcAkBVyippKreWSuH1dTtPUCp3PSQCYtGPqjifXsuPbYFDI0swKrde1kk+3Y+opRD0T5XZUq2hrrYOUSgBAOurF1F7ko1pprYT7OsyZLPN2CjHGGGOMMcYYY4z9i/xMMQBAaq0lsL4ayYhhfsYFABDsRNUSAKTjOJ4QL5L81So2To8iAEjuPmazb6jW8x/3AWD6Ju09EMP81cpHh8+PAWC0aIXULeuvlipW6gEA1Colcir1Av2rJF0I1x+UEOQrWXqfv63LpKmx1Atwf7VctpoDABarjDyF9VfLLEZ9Y50D/W/lc8sv49vqMKxUilIr8tnhr1by5dWotndyEqicJq+Bz1qzT+UL1Orqz9kPhcdF7A9FXjybWank5hdRaS1hssxaZ6UwFoL+X8vDmHNrNwrduNefy9L2dth8sh1A0nt5GAqfNuzdVZLkas2j+uFZzcszHHmyX2m+PLFvJnf9/HcvXh5Wn+wAWeY2fVTL8v7FC7N6V4COmj+fKi2RTBfZpqevyJWjCnZKCqoYNYqwo/mgHS82XUsIpQEtARmUK8Dopt370J5supZzJgVS4yB0kAc6r191H7+QZ9XkRbTp0pr1M4Nd5eet1791k/l847WcNZkxTsCls0G907p+26dG+qgllM7JXE6LbNx+/3h3cx97aEWvJXUgdLEYiLR7ZcLu+y79YctDLSGVBoIgJ1Yd2cnPOkMfrejfRGsywAgl0v70VmbL5TdRC6tJb2DjuYFNEh+F1sjv2EzbV0t3fT/zsqX+Ql7E0e+i5R5uxn5rkX9nbkU7oZsNYvJ58w/0V3+UkrDG8Ms+jDHGGGOMMcYYY4yx/5E/AAKeUl7QZSvYAAAAAElFTkSuQmCC\" style=\"height: auto\">\n",
       "              <figcaption style=\"font-size: 0.6em\">#10, w: 16</figcaption>\n",
       "            </figure>\n",
       "        \n",
       "            <figure style=\"margin: 5px !important;\">\n",
       "              <img src=\"data:image/png;base64,iVBORw0KGgoAAAANSUhEUgAAAJYAAACWCAAAAAAZai4+AAADXUlEQVR4nO3ZW2/aSBQH8OPxMLYhhnBTQ8gNpU2Vtmq3UrXf/zOkq6o0hSQkkNDEGOICtufifUjDavdtNaPaD+f3hF+O/joejYczAAghhBBCCCGEEEIIIYQQ+l0sI1Uc16UyXSeKui4DnsQ80ytIjcSq7Xf9ZDqaxuXd/ZYV3k4CWYRYjTd/7ERfRJhUep9ektFZHBYhltV+/efRTF0yKHfff7S/Rpe6a8NIrEa70+2yhkeAbrV27aDK8o5llf0tt77nLqcP81iBWM2mdhClmiteOxap9w5bflt978/79xzW488xGV095h/r5FOPLe/OJz/vbpNseSEHVjiZqbxj+Xtv3sL5t7PPSbzisLoOGPB4nXcsIMyrSBleDwAAgPNItyAA6MfK1g8jV15MAiNpNnRjqfmgNJZXF2aatKEdK+wHfjafro2k2dD+VFNKCUghNL82CCGEEEIIof/HzNhtU83xygzS9SopxNjtmeXvdutWOBkXY+z2zKodvzuwbv5azTQLme7WwYdT0o8uiWYhw7G85sErsm55eY/d/o0rWqaw5dq6hXS7/R8pN/Pv2nSsNAFIhe4w0PBLhBKIxE647tTNYCxCKXXafgmkVAXqllNvbPsnuxVLClmgbnk7L49anV6VcF6kteXtnH7Yq9SqRHJRoG6xxsFpjxBiKSkL1C3b8ZsOAECmv+JN7lvE1t7c/6llrBIowQHAzBHOXKxMpPHTL0s/mMFYmTI3bTYXiz9v7iVKtNtlLlaS/toXXFbSrmoulnjulk2J9uoyF2vz7gSXWd7XnGBTalsZALyolylIKeQ8+JnqVtW/5my0alQplXV6TSdbheFj+O12mfc1J9k+PjlyhRBye7/jqeh6cBOOR4+5x6oefny/JTiXrr/tZtHo7MssWuR+hW55je5xLVMqs4hNxOrH4CzIpMq7WyB5vHQYe3ogcr24117vYOD2dXnbt5rtThUAAGxmZ0I/lIm76qG4ab169/bpUOMwxmL9VPqxFuJHuTV32p2nZ5u5RYiVrVb30Kh0D5slAOBRooycBY0cmmd3V+eUAoAY3kVGTjdmzvKzoXNPAUCOhzNuoqCZWIvhckAAQC0eAiOxzMxOmcNKFgBkIjUwgEAIIYQQQgghhBBCCCGE0G/1N1YxXwnHy4QuAAAAAElFTkSuQmCC\" style=\"height: auto\">\n",
       "              <figcaption style=\"font-size: 0.6em\">#11, w: 16</figcaption>\n",
       "            </figure>\n",
       "        \n",
       "            <figure style=\"margin: 5px !important;\">\n",
       "              <img src=\"data:image/png;base64,iVBORw0KGgoAAAANSUhEUgAAAJYAAACWCAAAAAAZai4+AAADTUlEQVR4nO3aSXPiRhjG8acXkMSOh9UDxltw4kkynqSSfP9T7jNxyjNjzIDNYrPIxmxCWw64nA/QnYjD+zvp1PUvpG4V9QoghBBCCCGEEEIIIYQQQsj/hWlZxTAM6W9WDrhlGnCdtRuqLSi1ZKX3K0lneDuCrDRK3B70J/4uZOXOzouzvxcjxGq/n8nux7W9C1ms2PyjNgk7136i9vNv8ur5m+qzoSVrr3p0djgaVvdG+WL1rZhk4lFnMSuZTBSbjSovHzRH4/2MO8bkeaP4xCtn8Wz9oFI8P7KAxof4o0wNnjfdzizyrNzxxfeFSg1A5aK8GE9uxs92fxpEnZWsnv2yZ0gAolF2Pk9uPk7d9SrqLIiYmTTDTRAyxk0ploPWXHVJDVnhatprpVzXDVgsHvO/9Sc6qpSzglnHsE3P9QIm4zK4vZ7qqFJ+J/LMXiErgyAIITgPZ6OHp13IgpBSsJfzgIWB53mqKxJCCCGEEEIIIYQQQv4TegZ3r2KWZcBdrVTHGHomZK/i+7U37GnQH+9WVuLgwxHvXS5Vxxias7KHFz/yr/MOV1xHYxZjiFcOTpvcKVhRD+7+xTO5dOr8sBSHGVP9sTRmidJ3h8XGaQ5wPdVJlMasWPndr/XsmwS8+VpxUq0zK1U6encshMByuQNZQkjBAKCcT8YEQ8jCEKrDVw1jznw+IwEgn7KvbCtfsCwrLiLPyhycvLUAwF93O1bp3LDiKVP5HihP9jON9z+kAeD+stV2j1m9BCPOoz63eLJ88j4LAK3u/ObJPRmfCtcPop7sI5bMFwUAFAv5XCDX4w7v207UWYxxuX3A0/Wf2FPC7G+8227k30GEoe96EgCMul9fzpa9zwv79jHyDw4Cb7NOAQAvp5ub1qfW1aOzmEeeFQb+djrNEgm40+D+i47ZvnIW4yK2vdqsneXwYWyrrghoyOLSMLdXdm84bd9MlV88gI6dKF52ojv4dNmb9h+VkwAtO9Hb7sTZ3V9/tl1nrSFKw010F9P7HAD07zrtvnLPC+VvbBbDrzIFAHfXmm4goOEmzrpibALAuP3gaAjaUv70J5nLpSUArOyp8uH+SvnPPhdiuxND3/e1HA6EEEIIIYQQQgghhBASuX8Aaqg3Y93u3BcAAAAASUVORK5CYII=\" style=\"height: auto\">\n",
       "              <figcaption style=\"font-size: 0.6em\">#12, w: 16</figcaption>\n",
       "            </figure>\n",
       "        \n",
       "            <figure style=\"margin: 5px !important;\">\n",
       "              <img src=\"data:image/png;base64,iVBORw0KGgoAAAANSUhEUgAAAJYAAACWCAAAAAAZai4+AAADVUlEQVR4nO3aW2/aSBjG8ccee2wgUGNIyqkp0KZdVYlWXfX7f4LdtlKlJqlCQiAUkpijw8HnvUiqfIAZtXPx/q589eovDvYwA0AIIYQQQgghhBBCCCGEkN9FkzFENy1uaACyKAxCGRMNKUPK+9UXOoB0fjtRJ8usHB01GYB4cLpdyJgoJ8vt/vPOABCfBuNrGROlZLFirfvBBBDFo547kzBRSpbOCy4HAN7svF97m/V6mymQBcbtx4uDo8DxJoNhkIgNlJOF7OnVYW3rcHpm+J4KWVkcrJ8uS7nWLLu90AUnSslKdyuvZgKAput2wTaZ6EQpWclqdBYbAMBM03gYzUQ/8XKyoulFcsMAgBmGsetfr1LBiZKy0mlBBwBN1/V46S1Es6Q8qjVmMP3XJC1L4ljwi0gIIYQQQgghhBDyW0jZGnnGTNNAEkWx4BxJe6e/WLW6o/l3d3PBnSTJWfnO3x199D1eqpVVbH86Zj+CGyW2dJ9VGq/fsI2bE/3IysvSc3nLapWyFVbbWIktXQCAVn31Ml83B/fh4GqpTpZRO/mrBP/0dr0Ye0rsNAMACo3jT+X7r1ef53GwUyNLg6YdtLrvHH6+u/MkDJRzKJzf27O77ZcOygfNzt5uuwtVOLgz3FfNauOoAuRaH+3pZPRTiRMys/L2pO3USoDZNNrzs6/bmQpZRvn1yQebWwDKxc5cv79U4i6v2+VaAwCQgjHLZMLrEilZYapzAEC2XT9sFteeGgd3uyB8XGCl/nAwng/7ogsISceccRQAALLV1ZfT2WoufHAnJavAtSQyAWTr8fl/0zRJ/3SWxi2bVxqOpQGAnmwXdzL+ZCOapZdq9arbPSxqAMA4y0SX8QAkZDlvjt+W3f3S4z3B4pzvxKvE38Ri6/ijY3D+dKti3FYiyyyUD5zH6wyRH6TC/4EAxLOy8GE63tl5DmyX/vpy4ks5PRfO8offNm7jsA74/StvdDmLVMhKF711r3pi7htY/Ph3uPSmamStggnfz+ptN/Z6Xy7iMFDiBpGFIeC3hj/5fDTsT2QkAZIePg+TXmW6Or9ZyBgGQNZPjOlZ4m7640DKMEDWRtKLqpuLlveiS+VncrKYwbQsjRPR1R8hhBBCCCGEEEIIIYSo4X8lFEA1ae15vwAAAABJRU5ErkJggg==\" style=\"height: auto\">\n",
       "              <figcaption style=\"font-size: 0.6em\">#13, w: 16</figcaption>\n",
       "            </figure>\n",
       "        \n",
       "            <figure style=\"margin: 5px !important;\">\n",
       "              <img src=\"data:image/png;base64,iVBORw0KGgoAAAANSUhEUgAAAJYAAACWCAAAAAAZai4+AAADy0lEQVR4nO3a6XPaRhzG8UerC8R9xBeHMQ5OXDtO7PZV//+ZvmqaTDp18IWBEmwjEFjmkJBWfZHUrzuzO7Ve/D7veLPzHUaslt0FCCGEEEIIIYQQQgghhBDyf1GkjGKYhq5AUaK17/lcwoCahDEAa2uzoDKVwbm/tz0JA8rJyjUP64ama1HvLz6LT1ax+fOhoekaP18NdRkDSskqbu22ftKhYG3nEkzGiKJZSjKVsspv9ioG4M0XY9eT8cQLZ7Fcrb5VbrU2gHl3MOl2nCAWWfnmh7elV9sq0P/852By9+DHIiu1/easaOjA9Pbzb7e+t1rHIQuqnkglIp9Hg17neiAjCRDPipaTwXU6WK/D/tXQkZIEiGfxx67pJIIgCO3rexkT6Xei70SWLZZzGuc8Wji2I2VyACS8qlVNU5UIAA/CIJJQRAghhBBCCPkv5Gy7PY9mpiwT/mK+ElzVy9lI+peSr9dKyqTffQjFBpKbxfKtsz2l+9G1Y5WlZGrvjljWvhR9NuRmQUtmCixrafHKipZ2z2I9eyn6P1Zy1vRS7SrD9kT0X7/kCSJTLKYxd8auYJfcLDCVMXAein5bkh/5iAOIxHdIJGfppVJGWTjOk+DXJTnLah7X2N1FexGvrHzr1yP1ko1EN1ElZ5Vrrw9ZcGnFZzplScs0q9noEY9L4W1BeVlKubZpbeu9kd/rzOKTpW29e5uFe34/nw7t+MxbqZ3jXwqjT52PTuCt4pGlQFE2qs2DvNFePdgSBpSTlcxmks3GZh6FjcpeerVc+bFYNKfrjY2dVglIVk8T47vBt3isTvP7p6/zW1lAr2gN5+un5SQOWcarvZPjpGECKGT2HDa6ET0ZFj+40zS1VK3XKwAADlU1dVV4uSR8zJkplnPlo0YZABAt50+LafflF80sv3/QKFZ20wAA7vZ7Q6d/O3vpeYtld09PClbaBABEj50/ziePzvSls5RksbKfV34svqP5sP37mIf8pbMQeAtX1XRdAQAWLqdSjvaFD4Xd/hevUNrcNAFANdQoFvcguHPhXpQOTn48XKZhGCvxKvGs2XJolufZevH7Z9VIxCEr8v0neNWRvaMDWLseVyVUif8STSup5zLeQFcBBDd3ruDbUE4WK9SrhVRWuflbARAObiaxuMzCSodnDX3au3rgAPjMHscjK7v7/gjt7u2XAEAU+F4sJggwPWGF3L3ry6h5Jn71Z3RrhDffJlJqnolPp1dan/c6rpSaZ+JZ7XE6mo2WUmqeiV/9UTWGMAykXUYihBBCCCGEEEIIIYSQl/cP1D9vquHu6lAAAAAASUVORK5CYII=\" style=\"height: auto\">\n",
       "              <figcaption style=\"font-size: 0.6em\">#14, w: 16</figcaption>\n",
       "            </figure>\n",
       "        \n",
       "            <figure style=\"margin: 5px !important;\">\n",
       "              <img src=\"data:image/png;base64,iVBORw0KGgoAAAANSUhEUgAAAJYAAACWCAAAAAAZai4+AAADv0lEQVR4nO2ayW/bRhSHfxxyqH13ZDuxldiJ4Dio07T9/889FAgQVI3r2I4WS9ZiSpQsURL3HqS61wLzUAvF+048/fBh+DjL4wAMwzAMwzAMwzAMwzAMwzAMw/xXaCQpZsKUGjQt9j3XiwgCDYIMIH2wX9KFLmAPh5ZLEEijVTg9r5mGNOLO12i2O1rl01/OTUMa0eW6LykCSbTKB6/rHyQ0+FYhKSgSVbW0VCaT3js7eWUCrrMcz12KilfWEoXj2sFevV4FnHZv0m7awU5oFU8/va+8ONSBuy+N3mQw8nZCK3N49nPZlMC09eXXlueu/V3Qgi6TmWTsRXGv07ztUSgB6lrxatK7zQa+H97d9G0SJUBdK3psJ+xkEAShdTukmEg3qK6JIl/eKxhRFMVL27JJJgeAYKnWDUPXYgBREAYxgRHDMAzDMAzDMP8GmrbbU1oilTbhrZau4q6eppH0N1ru5auSZt/3xqFaELFW4e0PNa3bWE4Ug6hHq/bjubiat1SbXMRaqUqtLlZ7KdWSpdXyYzNvoJiWyod1Ep0nvFgHTKmcSqwVBAEQRsqHfmItPVgCi7VyM4KutnRDGmZFn48wnCp3lOi0ktVqOXWUGbl+sztX7SjRaWVqF6dZ0+s2nIfWdHe00kcffypOL/9s2KvZbHe0ZP7wpNSO7hvjKFb+FOm0/LXzKGxrNKL4X0CnNb37Q8v3bh524i/GP0xvRT9tt8ckYYTbQLOYl95ivqTIotHSNGhxTNhnJtEysrmc9KY0ZbVJpAiReydHOaf1tU8RBoBKq/rh4sWs5AzIXiOJllE++XRsR93vI4o0gEhLpEqH1Xy/drQGoMVhECgefGi0vAA6ktXTj0VNCBHMrMmj4qJIorVeOSugVMc73TCMdetbtNgFrdBdzoHc29JKl9JYlNzhThzI0jLyfJlO7MeaENpsXH72A5kmEwmzsp+XgBASgO86a1+14tW1stVqufzuMLMdn8f+w/iq7zz3NlAUXr9/U6q+zG+qKWw1rq1B59k3zSJ3fHFRSqa3ozW6/u2ztXSefbS0VKV2Vtg8x/B7zauGarcGoCj5dGFjFTlzx7luDyis1CcIIRPbp0m7a3W+k1ipa8Xxto78h8vfe/ZwphoIgOAyS+guIwEAi/63z03fo7k5ojxa/mLcLwLAfe+uPVD22aJ8x8YZXBtZAOje3E/VfbYov8THjm4lAcBqjnbo6k+mWMwZALCyJ8qT+xPKJx+h6zoAIA7DkK/+MAzDMAzDMAzDMAzDMAzz/+AvzP5yk1PpG2IAAAAASUVORK5CYII=\" style=\"height: auto\">\n",
       "              <figcaption style=\"font-size: 0.6em\">#15, w: 16</figcaption>\n",
       "            </figure>\n",
       "        \n",
       "            <figure style=\"margin: 5px !important;\">\n",
       "              <img src=\"data:image/png;base64,iVBORw0KGgoAAAANSUhEUgAAAJYAAACWCAAAAAAZai4+AAADVElEQVR4nO3azVPiSBgG8CfpfPBlCBEBFxFlZB2ttebr/79v1Z52d2pdHRFBlIlkQJAQSEIyh4zlltfuGrJV7+/Uubz1VHcnnXQaIIQQQgghhBBCCCGEEELIzyIJqaLpmioBiAN/5YsoqIgoglytWpIBRBP7a4piFVsn+wqAsH/uPYooKCaW1fp0ogAIz1fDnoiCQmJZtWb7VAUQhHcdayygIm8sKZvP58rHh3UNALT64bHrLFzXizcbSy429mvldruSXFbaK9P52r9drTccy2y9f7u9s8uSS3ag73/7V3lyNh0rv3v80dLU52sjuzeO7SuZsyz3lGdqJp+J/SiZTJIsZ/IZlfFW5Y0Ve+O7TiEMgmTUmKoq87sx74znjhXNevokE4bhj1iKoixverOIsyzvmigbVrmoRNHLIMrh1Bnz5uJeqpmiMOm/YybF6+e+I4QQQgghhBDyvyNmS/elnCRLiKN40x/7r2immZO82dTd8LbbK/reUU12brrehve3Xik0P7VZj03sdMWyDs7OWOHhgnfKioslK4qi7zUadXwztPTE0k2rZJwe1oCMytITK1s7Oqg0WibwvNnFQWSst+8bRoUB7pJ7e0tcLM1qnh4yBiwmcz89j1MpW6rqWM/cyWC8TE+sQM4ZwLQzcDqDp/TE8mPGgOHnv0ajIfdOs8BBRBQq7u3n30fLhZeOWJIEqagFj+bw9voyDT/uEvmiodUL0wttcHUvIpWgWMZR09wq2ENv/MUWUlBMrO3jj7uRfX1lLydCOktMLL3a/tB8Cv68vI7XoYiCAn7cMYWV641mdetGj4KYfzkEIOI3Z6lklH/9pYjczsFvBXc2c0X0F3csY/9NvdyqasDOWeZh2L0epCGWZDTfnVjmNgDrtD6/zM6F3Ir8g1h9886UmQRkqhU/utsSchNxF9EK27WkFYah7/lrIXOeexBlLZu04qkznnX7UyFPCO7ekvDjcMH64fyLPbp9CHgrAgJiReEyaSzu//6jt3TnqTgoFQeLx4kJAKNB558uf6AE/zkIp2dsAUC/e+8ICJTgPwfRz85yAGBf2J6AQAkBxzMWNxoAPI0c3nfSF7yfv5Kia6oMAKG/WolZpwkhhBBCCCGEEEIIIYQQ8lN9B71uMHpne9amAAAAAElFTkSuQmCC\" style=\"height: auto\">\n",
       "              <figcaption style=\"font-size: 0.6em\">#16, w: 16</figcaption>\n",
       "            </figure>\n",
       "        \n",
       "            <figure style=\"margin: 5px !important;\">\n",
       "              <img src=\"data:image/png;base64,iVBORw0KGgoAAAANSUhEUgAAAJYAAACWCAAAAAAZai4+AAADdUlEQVR4nO3aW3PaRhjG8WdXKyGEDALs2MFOgcTJJE4yk6Tf/67TuyTupGl8iE9gbAwCIU5C51400y+gbbMX7+8DvPMf2Fl2dgEIIYQQQgghhBBCCCGEEPJ/YTKGcKNk6EAOAIxlURTGebGJQkaW3tzdrSNLUzCNa/Fk+OClKmTtvDr6hcVxknNhiODia+grkdV4+uEVj+Mk57ouFta8X3RtSMniZm2npf9YW5j1bUOJrCxcTB4qtg4AwWrqrYqueDlZiXdledvtrgYsLm/d77cLJbKi0Tfvrye/Wi2g9+mPsXs/y1TIiiervvGs1GrBv/r82zjahEpkZUEAoNvfrw96V98XEiZKyQIAeINTqzq4GMqokpi1ufuytKZnrpRh8rKyUT7Q15OZlGFSfqr/mSSEYFmSJNImEkIIIYQQQgghhPzH5F2NcCEEBwPyNC58PyLvIqnkNOoW41yLZ67rF7yllJdV3jvsNLnQxeb6JFkolPXy3QEXhlg6wZAXHCYvy2i0j7qMceaPHVOJVwwAADOdnRKw2XiLTaLEcwEAIMqFAbi9++l5f65QVppnWF98/OpOhp4SzwUAAMaQYnZz/LsbR2q8YoCBMcc2kIfL6YOMm3kpWcKybbPTqgro1b3OVrjehCq8VYvGk/3tvedNnVkH7+3J6HbgKvEo3Dx826ntNAWsduXQOzleT1XIEvX226OSURIoPWqkHh9fKrHLc7P+uAUAyKFpJV0rfC6R8/oKwwYA5MFytZ7duIES22kY5xoAIJv3+kOvf130XCMnK02TCACQ+9efT6ZzT423akuLlwCAfD08/TjJ0uxnZzHDLOn1WnxfMU2rrCGcj6KCI6VkVR/v1irO6sutvf+0zCslVnDHkpPFnWevW2I+uAgb77ZasCtlI1Ahq9Z9/zz/dnU6eGS+iAzdNE0Vslh5u/My9fTlQzZyvZ1l9GOr+NlZoryl67sH7cjWZ5fju7u5EmsLDBzYex10s6p/nHlnbqxEVhqHgPOm5k9G4/NpMJayPxTOypO1nzPsN5ObT+d/9tIwlPI/iMKfVuiP7hzOhWHEXv9eRhJQPCtbDc9FVeiG1uuPfClJgIQvcd7jblkInbtnQynLCkDxiyReqTlVwTlnwcSdFP2F/lfhcyTXNA1gQJamadHTHyGEEEIIIYQQQgghhKjhb95eblg6nZMfAAAAAElFTkSuQmCC\" style=\"height: auto\">\n",
       "              <figcaption style=\"font-size: 0.6em\">#17, w: 16</figcaption>\n",
       "            </figure>\n",
       "        \n",
       "            <figure style=\"margin: 5px !important;\">\n",
       "              <img src=\"data:image/png;base64,iVBORw0KGgoAAAANSUhEUgAAAJYAAACWCAAAAAAZai4+AAADZUlEQVR4nO3a2W7aQBQG4DOLDQEbbOosJVXVUEGVbmqqSn3/B2hVqVuaxqFJSALBxmA247UXEJqrttJMG1+c724kdPTLs9jMDABCCCGEEEIIIYQQQgghhP4XIqMIVQoqX1dKo3ARZ2IVuWgkAABublpVetMKvb4zzEMs5V6zuctuWrPTb6GfilWUE6vWeN1aVxpX5j36u5//BSmxmL7TeKrctIb+yYbokJUSi6rlmrpumUZJEY0l+rSXmFq81Spy4apyYkF2e+alIDgPJcXK4sX0VnMepqK5pIytNPCdnfWQH7mTULSilFiJf3EY/1og7N5UcNmSEytyj5POejmdX5z6uejEyE3d8nqUxr4nusjLeVUTxhldV8qSOElklEUIIYQQQgghhBD6x6RsjQAAAOMKJ2kcRcI7lCBpIwkAAIpbWzVl5vRc4a1AkBmr/PBFo+R++zTOV6zSg5cH1Q7ttWUUkxdLqdzfM9mJxv780z+TFysKpj4dzxaxjGLyYg07X6h+dXQ1llFMYiybXW147XMp26by1i1QzQoPRp6MZUtSLEKAZMtzH0JIlgkf+sjpRM2sFhZuNwXY2Dbp3B9N8nAoDOb+45p/GPUB6q8e82vbngmOMDmxrKdvd92N6z4ojbcHis0GV3mIVdjce7537X48DKyH+wecd7Q7P6tmnFNrs1LgqmbV3fuWXqCcCU8k0VhUv1fTKtuB7UxHtWfTHX30PTnpzURnovAR/INWc6vIwkVEGKNEUXky7x4dngu+gkSfFjEabxrk7MPHrt561dL9H0e2Pxl4d33MScv11vMkCE+Prbq5b51fXL53syS561iglIwK1KpaWTOsHdVgMycQLSkhFskyADAevTRqT3ZVUGmaiw+bLF3MAKot6urNOkCSUkVGLuFOjIPJrKQ1t4OCYQJMQlKc5yFWGoVhqVjcBgDIIsePpVz4EI5FCF3VSAfDid0dS/kMFI5FeWF17cc7bvcv7EEkWhFAwkwkjK9qXH7+0Bn1nVzEyrI0Xt5j8c6+vmvHizAXCwREU69nAAB0zs9Ou8J5VkRjpdPud64BAHSOL4fieVaEO9E/Y04RAMBpXy8kBFoSvsRXNgydAwDMvcFQ9A29JvwdSRlb7jpkSZJI+Y+IEEIIIYQQQgghhBBCd+4nOsk6O2tJvOAAAAAASUVORK5CYII=\" style=\"height: auto\">\n",
       "              <figcaption style=\"font-size: 0.6em\">#18, w: 16</figcaption>\n",
       "            </figure>\n",
       "        \n",
       "            <figure style=\"margin: 5px !important;\">\n",
       "              <img src=\"data:image/png;base64,iVBORw0KGgoAAAANSUhEUgAAAJYAAACWCAAAAAAZai4+AAADkUlEQVR4nO3Z22/aSBQH4OMZG5ursYFVmkQtSZuSplFWWu3l/3/el76kLaI0V0ogNhgDBnyZ2YcqJE/bSHPU+uF8byOZo588MweYASCEEEIIIYQQQgghhBBCyM+iYRRhhlnQt5VEEm9SqVZRV40EAKA7rabNHkbx9N4L8hDLaBwd7fGHUXTVjUOhVhEnlnv4x9ttpXltNWL/9/gzoMTi1Z3DE+NhFIRfi6pLFiUWK5Tdwnbk1EuGaizVt/0dL1hPRpauXBUnFsinO0+A4j5EiiXTzfLJcBUL1Vwoa0usQ29nu+Rn/iJWrYgSKwsHn9PHBtEfLRXbFk6sxP+S3W7b6WpwFeZiEhNf+OXtKk3DqWqTx/mq1rjO2baSzNIswyhLCCGEEEIIIeTnQ/mf+KScxjSQMh9HI49Mx61ANAsWeTg7fWS9erfHRv1elK9YlcO/T/gX5n1TrIMcy9nvnHF2Xc7FSTMAADDD4IUXbgnlfBEvltVo2VbbHCXp14HqikeMVdo/flm2ZHceeZd+fmIV985Oa7Nu7zyIF/P8xDIbB6f168tJzwepfAKOuBPNalNvNRwnTZM0y8MNGQAAxCno4LTPMs+/92a5ibVerzMO7XTX638UqosLcRLjZeiA+749taNhPtqppoFW45Ff06BULrgV5RsynFgVxzZ36ovelBdMYzEO43zsROfda7fEgn8Zt0rmpn+jfF2AE6t58s9eenXe9bllmZk/DnIRy2wdnB7MwlX/QtN1Dkn86yeR6zprtmqWwTWQiVz++BPPoRqLVRtuuf4ivZlHc7tTXfnjBCOW8k7eP3qzUzSkEIyzLPJ75xcYsVTflmYf/vmaD86799XO72/MQXU+inIQi1V2j9+L9eJTv2n/1W5Uh41iHmKBUXVtKGVBdDeehFYU49wkKk8iYwYAlzHEg8/1xuhikuYhlpQiBRCMAww/LGuzmzvlW32MWJAlG5nKQgVg+vGbGS/nKA1COZbMkkTwSvMyEeMxRiIAwPny4bq930kWwWSDUOw7hFiMw2+dbPf+sofSSQEAYSeClADuW/v49kM8DTAiASDsxCxeZRxaduLMr+0AIxIAwiTGoXdX1zizzILBf/z4M6nGEsu7nl7jhqHfDmcoLQsAECYxvGZekesG9y+GK5RIAOo/bFjZrtd0xpi2CiZTtFzKR7qMcw6gAQiRCtWf8IQQQgghhBBCCCGEEJIP/wHA61WcGEYwCwAAAABJRU5ErkJggg==\" style=\"height: auto\">\n",
       "              <figcaption style=\"font-size: 0.6em\">#19, w: 16</figcaption>\n",
       "            </figure>\n",
       "        \n",
       "            <figure style=\"margin: 5px !important;\">\n",
       "              <img src=\"data:image/png;base64,iVBORw0KGgoAAAANSUhEUgAAAJYAAACWCAAAAAAZai4+AAADXElEQVR4nO3aW3PaRhjG8UeLBJJAnAQ4JiaYNgdPYrudTL//V+hF63FdkpLYxkA4CGFAB7RSLzB0euNOZ3ciLt7flcXgd/5jZK2GFUAIIYQQQgghhBBCCCGEkO9FkTIlq+e0/aQ4DINNIjZQFS0CAFjNps12B+F0OHK42EA5WaU3P/2Q2R2sP18F7kFk2T9+PNd2BwtzcSd6bkjJqtaOjl/us/J3hWzaWYppFfRKy/RG+0kLZyV6xgtnsUqnXSuUWW+w/wOtPt0/pp/19peO9nh/NY53L4WTwTx+7ne+R5Z18v4D/uxe/x7tXopDP0g7Cyxr5Hns9v8SHfQvolmJN7nVeW8wk1KzJ5oVzz9rff619yilZk84y7mZWok7Wkup2RNeqlVVZeBRJLjaEEIIIYQQQgghhKRAzi4GADBNyyhxtNnIGCbne3kA0O16SfUmI0fGMHlZ5snZK316ExxYlvHy8ty6x7AnY5i8rJzdOS+XxjfFhYRh8rKQs2pqs3XaHwd+EB7Exh0AhJGiotj6EI0no2/OwWQFgR8zNC+Lk9617wruF8jLSsLVoozKmxez/HLA/vv9z5KTpShQimw1sRRWq9lO10h74247pGBZ2pE5u56bdkMplkzhqVKytFrnxDKU4disn2Vq0FTRz1BSVuP9RT38cvU1bPNaTcZCK+dDrHZ+bs0Wq+5seeIELE5EdznlZDGjctzQbQMR53EC4ShJWWGEDKyj15NZu13VwRTxnSQZWb638qC8+Fhc1c+aUu7hpGTxYP0I1C9PuWFXgShKDuK6ZWpxuNHyRhNMAbylH6W9s69ouVzWPipqiDnnPI4i7vZnfupZhUajWn19nFd813HXfBNGy24//ecgSu2z00qjWWRe/1NvGkdR7H97WKT9wAGzWhcXFd3MK97Db7/eJ0mScG+9TjtLMexX70oAEM7v/pByHw8Aoouqopml0nYS9+U9dSC81jMtt/0hp2Wef+f/mio6IEmezqNsNquLDtsTzUp48HR+R1Cz4j1PhK/ym+V0UAaAseuL/v/9Q/hhltWwqxYA4OHLNJQQtCX8RNLiNjPRAcC5HXoSgrZEl3qWL5ctFQB8d+76EooASLg3YpnM9sKQcB7LO7kIIYQQQgghhBBCCCEkTX8DIUcyK3LgkzoAAAAASUVORK5CYII=\" style=\"height: auto\">\n",
       "              <figcaption style=\"font-size: 0.6em\">#20, w: 16</figcaption>\n",
       "            </figure>\n",
       "        \n",
       "            <figure style=\"margin: 5px !important;\">\n",
       "              <img src=\"data:image/png;base64,iVBORw0KGgoAAAANSUhEUgAAAJYAAACWCAAAAAAZai4+AAAD/ElEQVR4nO3azXPaRhjA4VcrrRBI2CAT2wGCwYzdJHacONOZTv//nts0dtqEgMF8GGzEhxBI6LsHp+6klx52p9LhfU6cdn6jWa3EOwJACCGEEEIIIYQQQgghhND/ReCyiqxkqBDHAACCEHme68dsC0o8qiBfKetCGIYgiET0Z5P7RZiGrMLpRYP4vh8TSZaczifXTEOWoB+/Pxd9P4gIpZKVWw1Y9waXrGJp/7BM4XFvwXKgyUlnCbm8phSqmfW9omYBAJzNfLFh3fHMWaTYOCppWtia5F+cKADWzdBoD63ks05/bFCj29ro73JNgP6vv0+N8TJKOitffX0WX3286pegeiSZ3d9+mXpbN+ksIHJWDcLl8HZZHYyejfrdtsW6JIes2DH6SnB7b4I5+arro86ERxVzVrTs0FHYHm4Bpn8E2rxl8Khiz1p8meXj+dgHWHx+yNizJY8q9ke1JEkEQj+IQKIiiYIg4JGFEEIIIYQQ+g98xm5Pq2WyORk8x3ZTMXb7m5AvV4rC4m40S8N864mw2zyvCcNre864EO+rVXv7inyxeoRxIc5Z2b3aCXFK2aTHbt/zY3lHgkKOsmaxXu1/8WIRQKbMq3LOCoIAIIxYh4G8s8TABlhvg6SHlP8QJSrJuriaCJOly7oYvyxlf19XKpmhGfR6ZuJDyidq7c2xRuyb2WY+nKcnK1e9uNw1rvoflq5tpyeL7jxvFMU/l7cGAPOdyC8rdNdLWIdy3g8Dn3UkyC/Lubv2NM8+uLTWxpR1z/PL2nS9trKn15ve+HNopSbLHhqUvv6pUYdWMB4wLsYvKwg2QF9Ihz+Q4GsuRW8QmaySKx+UZNAUMUVZeqW8d9IsARAO034eQQAAIB9enFf363mArcf4Js8za6d69nMjowJEpp38G4QoSY87qVo7qh9AtA0W92bibxAkr5d2KQBA+WWlADB7WMxb43XSz0RSaJ7WswAAhepzGcxe63Y+6q8Sz9o5urzIAwDIqkrAuPnwabY2V0nvLSGrV5qFb7/BX03aH2dRFCV9tSBwbYuAIIBIKYixu5p6rEtyyIqswZWrEVEk2rMDlagZgfnM4pK1aFktRaRUOjjLqKCpWdlJQ5bpjDOiKFHxWDisAFUUJQ1ZseetH39tKy+PimsvFpmbgMOdmMllaeRYWzBGnULh7m6Vir1FirVqMXro3jj26NpVFy3DT0XW3qv39aij2t3w/mosO9MHHucDj1P+7VmUNzr9eLbpkdB1uXwHwf7pD1VykSJLxHd43ILfsH/6M+3J0a3hMP9j/Q77cdqWBvHdjck3i3mauLtX0mJrNuPbxfxnQBQlAmEYcjmuEEIIIYQQQgghhBBCKB3+ApxHpojHQadBAAAAAElFTkSuQmCC\" style=\"height: auto\">\n",
       "              <figcaption style=\"font-size: 0.6em\">#21, w: 16</figcaption>\n",
       "            </figure>\n",
       "        \n",
       "            <figure style=\"margin: 5px !important;\">\n",
       "              <img src=\"data:image/png;base64,iVBORw0KGgoAAAANSUhEUgAAAJYAAACWCAAAAAAZai4+AAADSUlEQVR4nO3aa3PaRhQG4FfSSiCEka1gh5jEF1LXpplMb9P//w/6pc1Mk7EhJKbGF0CWuBi02u2HxgRm2qYzZ6cwnfN8MjvymXeQtEh7FmCMMcYYY4wxxhhjjDHG2H/FMlLFK3juopLK5jOpaQUFNREAoFR7umM/fpgPb+/ijYgVNpoHi0qTztt5omgFzcSKGj82F5XSyvTa/qej/wUjsaLa4ck37uOnOGn51EuWGsvyg6BUPT2ue4uhne2Su+5YdvjioFY9OdlbGisK6jmkx9pufHf2ZPeZszSmQLwPDcQKnp3+EHnu8th0rqi5yJe84xaDol4Oct8fzalVqbH0dNC9KMssyxdD6cX1mDhtkWOppFMYFqWUn2NNu52EehKpd7JdiaqhUGrpJMpkOBwRvy7yT7UjhGOtfDk6l3n+d4czxhhjjDHGGGOMbRAzXQwAsIX4c81U51JKYjEz6/IAUNiJtksAkCWDQboR7QIA8GtfHUUAML08l9TlQJOxmt/uA8DoTXZ3TSxmLpYXHTSPAeD+4WOw7nbBEq8cFQBgLwrcLx37JeR+w8Jc4lPPwPds8pIsOc6j2Ww2e/ybPO2Yi2Up+SnWQ0Ze0TVzbVkWrDAQGhpax/EkW3tzBQBEUNkqPT+MCnqSpqP4vDfZiFju7tHRXvWwXtJJ53130G3H626uAAC83bPvX5Yroa+S9s9vBqOY2qo2E8up1E9fe7Zjy8nNxS99lauNiGXZjnCFZVsWdC6l1mtvcwIAZNpriWArLItw/2TWHyXJZBN+qrO7d/mH6lEjsJ6eief9y1b7YSNi3cpe+UXi1/zgZXQ2+NUabsQThIyTS+vWrx/WEQQqHrXXvg8CAKDzPMNVt7MPWzjO+CGj3ogGH2xGvXfeleO6Yvz2au296s/kzW9p6DiOM+99IM/yBt98SuVSAZYNNRmPp8SZy0AsC6BvE/mLmqT/Dypbvp6mCfmhYQV5M8tO43hX37Rb1NO2ih7r658a6sIZXJMnhWXkWOV685VyL8mvYKvIE4QtvKLy6Du2VtG3/ty+91TnzuylRd/6MzwXH/XvrXuzscjvmeGTalmn/b7ZXPStP46wkee82YcxxhhjjDHGGGOMMfZ/8gegxSwy51gE0gAAAABJRU5ErkJggg==\" style=\"height: auto\">\n",
       "              <figcaption style=\"font-size: 0.6em\">#22, w: 16</figcaption>\n",
       "            </figure>\n",
       "        \n",
       "            <figure style=\"margin: 5px !important;\">\n",
       "              <img src=\"data:image/png;base64,iVBORw0KGgoAAAANSUhEUgAAAJYAAACWCAAAAAAZai4+AAADK0lEQVR4nO3aS2/aWBiH8b/vJhBDIARI0yS0zaJN1Znp999Xqkaz6mRyYaBVTEy4G4Kx8eXMImknXb9HxYv3twIkjh7ZFj4cH4AxxhhjjDHGGGOMMcYYY7+KQv2+YVk64mizkZLznU78vuI0DsrCv7+fZ1J6nlCz1Mrrt4eifxH6UnK+I2eV2x/PxFXgUq+Gn5FP4k7j1btsc7OTsyyjWLWwVzSk1PygkgcwbMA2VLlHi5wFCEAI+jA/oWaJNFoBQZTKDaNeW9gsxo1svJT7a0rOyh7uLmNxM1jl62gJv6u6wuv5+crK5t15EQ+ThdR7D/lWDU3XVWRJksqoYYwxxhhjjDG2bfLWfxRFURQAEEKQV3DISyM/mKXdkgUA6Wq5DIhd8rLsxvGLCgBE3u1tSPyTLS+r0Dp/1wSA1bXqj3OTZe2/+v0EAHxl2KVesvKy9GK1VQMAx3VMapaEtdMnimZYAACjZOv5yUKWJo8vNPqys7wskcTh46s4Ia/BScwST0drtQiT/PycZlBUJOsgnLmTMD9ZUaZqWN/detOv33zqWZSXFQtNF4H715fpbER+uCgvS9NNHdH95edJHMf5OIkKFKWya2tIw8VkLGFAOVkFZ7dweujo0Iv7R/YmDKmHS05W6fj0oHlWM2C3zrXJxLuf5eJWXXn9x5tyvaYrO0fay+m/XyI/D1lmvf3hvW1aOuxWdTMvLshPrslZmqZrtaPjkxeP7woFlL2Kte0stVjZc+pvT5v/f2SVLPIMgpzlnLRf7rfbledjauQZBH3XyPFv59Vq4/lncUqeQdBPYuPsw572fL/BerkmP7kmX/KmU28B4UOk2gUbIlxHM2++9RmEYuyUAfS/Tu3miQ0xcwfTTv9h21lQTROY3/zpOue7B8iGf1+Mh3fbn9iILAWGV587NbV9pq0HF59G6yDYdpZIwkWU9ntX1/XDu3F91O9eTohDSskKhj096bhjTL1uc+j2vKmEKvqGA79nD9KOGyAd/qM4o+uRlA0R9H0QnaWTTbwEmF5MrdVgLqNK0pbFTRhmsAqmlkRRJKWLMcYYY4wxxhhjjDHGGGO/zH+Mbjj8TrZl5AAAAABJRU5ErkJggg==\" style=\"height: auto\">\n",
       "              <figcaption style=\"font-size: 0.6em\">#23, w: 16</figcaption>\n",
       "            </figure>\n",
       "        \n",
       "            <figure style=\"margin: 5px !important;\">\n",
       "              <img src=\"data:image/png;base64,iVBORw0KGgoAAAANSUhEUgAAAJYAAACWCAAAAAAZai4+AAADRklEQVR4nO3a23PSQBQG8C93QktSKFAuClRaZarWqaP//6NPzngZ66UX1NJSoBAKFLLJJvGBGavPu2N8OL8nZmc480122YScBQghhBBCCCGEEEIIIYQQ8q8oot83MpaBwPc5AEC3MgY4Y2EiVlYXjKVu1ar5eNy7WAAAzGotr8wGg0nasQpPDhvR2dvJOpbdeNHQrj6zaZxuLMXdfdmJnPHJAADgto4OtBO/pwqWFY5lOqVafLOz3eUA9HJj/0Dlp1nRJSsaKwnm44ES5Jp+BEDvPKrbcDJ66rFmP95NLJZ5+jABoD/q7ACaKppKOFY8+TrP53bKB44KQC3WTSAIBBe8hFhTdmkUXhQe7OsAFNMCcLsU3bbEJ5ExwCvNlQ0DAOIgTqajWSBYVTgWAGBxc9XN6gDAw5DPTwZ3orMoJRYmp+ZAAwDOw2h18XMmOonCvxkAgFsquSoAxHEchzNvuhC8XHJi6bq+3hQSAEnEo0hKWUIIIYQQQgghhBBCiERy3gYCgGrZmfXbZuazIOUO2R/ytYoDAMF4MPD+m1hasXOwAwDL7mf/NuXG3b1spfO6CQCzjcVV2o27NQWKUq639loAMPO+2Wl3yNZsJ2c3d6vbAABnw9JEC8qJtdlolSuPK7aUYoCsWFvtoz23VFyvKBZEqTfuAABmaffwWcY01yuKBTz9WJqua9sPGs3675EEoo0oCQcOcoWiW3y+V70fsgxddH+QcDyj/bi13dhz74cs8z+I5TSPDgtO/o8hRVGEb7XC5yDsQr299dfVWfpBlHavGlHo32mc80i3sxYSf8W8/pSlHSu+639VssxnofOwWUbi9a4np5eL1GNNz3nPYCs/rL3MlREPPx3fDK9EHyDEY93yYVYJgzBqu/uxuro+fjNaLZdpx0qWy9H6U27sefnR5fmXsWBJQNrzVm7TrJjT80yv25/IqCcnVqnddLcKs3fB6NtI/M4DSbGM5qujijL5+WN4dz2VUVBOrM1q53Vj8f7Dxy5nTEZBObE0w7I3GBtf9GVUAyTFiub9M9/7LmkCAUmxguFxWFicXsqZQEBWrGveswNvKO9kjZQ/+4qmaWoSRVzK5kAIIYQQQgghhBBCCCGp+wVXXTlaiT+bPgAAAABJRU5ErkJggg==\" style=\"height: auto\">\n",
       "              <figcaption style=\"font-size: 0.6em\">#24, w: 16</figcaption>\n",
       "            </figure>\n",
       "        \n",
       "            <figure style=\"margin: 5px !important;\">\n",
       "              <img src=\"data:image/png;base64,iVBORw0KGgoAAAANSUhEUgAAAJYAAACWCAAAAAAZai4+AAADeUlEQVR4nO3a2XLaSBQG4F/7hg3W2ODgGC9jV8VOOakk7/8OM56aZBIcJzF4YRWIVVK3ei7kmtxPd0VcnO8KLjj1V2+gPgCEEEIIIYQQQgghhBBCCPlVNNnPW45jIkuTTACA6bgWWPL87v8zZWNtN+pVMe33IgEA9ovmjhb3euOSY+m13y+a4v7TegIA8FpvW8bDp2SSlxyrevL+XHxedYvVUD1+d2m0111dsqz0JPqN08s8bXsaAJj11vmlzm582SUrHcsKQgc1V4fhb1WCV6cHHrZds+xY0C0XsMCFtXdytHf6qgEYumwq+ViAAHiaCmvv9YfD3QMbSFPJBS8fS/BkAcyWqTBrR1dntgNgupQ9tuRHK42HDT6cJUIzHD/I01xMBnEqW1U2Vj5/+CfL27214Iv+d8GyjM3avYXsLEpP4vRW7+ad7hLZ6LN2w1jGV527uOxJzCe3k0DEgyWyvngK8jzPsziKZUdLeisbpqmDM5ZrhmXqAoDgjHPZsoQQQgghhBBCCCG/gPTVyH900zR1ABCcMSZZTMHd6TNnJ6z5AJDF4/Gs5HbBT97+2XEIAKvuDZO9DlQZ6+JtEwDmf2fDnmQxdbHssHVxAgDTdScovV3wk10JHQDYrfnyTQj5OM9SBqMoaeia7Gipi5UkSQIAYBkXsjfN6mJpOStirVNWenOloEHTqoFZjBHjuexgqYll+pWKe/iyZgMALHMjOmSAGR4e7NZP9z0AgGtb0ktDSSzrt7Or4+1wt4hlmPI7Uc1o7RxdXTqWbQFQsxOVxDK88EUTAMA545PRvPTGHQBAs7wtAIBYTKI4+vJYeuOuoOlFnTz+8a0b3d9Jd8jUxMp5BgAQs871x/FsWno/sUiTLePixWrw9XokeL4Ro8UXgzvf83zHQBIPpNc7FMXKRm3jMTw8quuBoynpcCqJlfbFsPby/VYdlcCzVwoqKonFxvN766x6nuuW67obEytPU2B7FEU781QYKiqqOeVd3zX27cmt9/AQb87ashqtZqUWxn+k0ZdhpqKiklh2892buja++9FfDfoqzgdlP2w+tOZ/Xv/1jSeJ7HM+AFVf1YbtBUky6jyqqAaoOuVnj1/X0feniYpiAJQdpx+zcH5zn6goBkBVrCfW9dKor+6fNUrutzTDMHTBOZN+ECOEEEIIIYQQQgghhJCN8C8OcWr7z3Lq3AAAAABJRU5ErkJggg==\" style=\"height: auto\">\n",
       "              <figcaption style=\"font-size: 0.6em\">#25, w: 16</figcaption>\n",
       "            </figure>\n",
       "        \n",
       "            <figure style=\"margin: 5px !important;\">\n",
       "              <img src=\"data:image/png;base64,iVBORw0KGgoAAAANSUhEUgAAAJYAAACWCAAAAAAZai4+AAADt0lEQVR4nO3aW2/iRhyH4d/M+ADBGIddyJGEbJItmzbttv3+XyCqVLWNNps9JDEJEHYNBgPGNtjuRVRWze1YNar+zx0XjF7Jo7E9HoAQQgghhBBCCCGEEEIIIf8VJvt/VdcVLIJw+fSroKtYhMEilRtWkc0yt7bM1O12n7IqO7ubzO11B3G+Wdw6ebMbtxXXBwBmvf7pgLf/DNy8sypHv5zG78Z3AwBg5uHbM/5+cic7N6Qv4kb96E2yuKm3lwCYZtZ2+cDUcs9SCqaOvVet0J9N/XQxHfT5YBJJznjpLDAugK3WfGvQsTtTz/5jzNq2l3tWEkWAdlw47Vwu3cnoo3/F3O4wyTkrXfhjANVS88WsrafjsKdiEczzzkLkfe1ZjIvSRkHhaRiOZQcEIJ+VzPoftbKiqsr9o7fIJAnI4CJ6bTEsClVRnJvHeSZJgPw9kRvWpqlyzrnvOk9LfRZksyCEIhgAliyXsexMJ4QQQgghhBCSN+n3xGfDMc6QJmnuG0n/plnWBpt741nOO83P6Psn29y5u53nvKX7jHH466mwhdtfr6xq8/xcGF+u897S/YYriqLvNxp7WIOd5m90q7ppnh1tAwVVrE9WcfukWW+8soAkkV0fMs1qvW2YdQHMAskJn2WWVj08OxIC8N1p/p8LVljBqumIvJlrO/P1yYpSRQMeb+6HN7aX+778ShSnCSb2b3857tfR+mQxhhhe5+rCWSzWZG4xBmYZGtLIHztOBgNmkqWUzPLGwYGlQim93C9EQe7fqgEAaq3ZrNdP6hoKO9+LwaDXz/ujMABAq7V+Pi5vVlW2sS8aw8+X4XgdsoS59925JgRHYacajUrew3rcExkXimBImSgWUelZ+lpkzRz7KjZMq8IAQDd0ZS2ywofC7EP9+HWZP40p/VyT0UXsh91Sc2rsGwCAhfyXsmyyUnfEgtrJyACA+WQe573KM1XXNRbHcaIvRw8AAK83CnLPMmr1F2qSJKlR9d61AcD/1JnmncUrh62jIuOMBxOvGwBA9KU7zvsJgpcbP/xY4UIRvcuHyx4AJHPfzzuLFV82WxUAiMTo7lZytBXpLK1crQCJ5/f6jptJEpDBAqEUywC6N4+d63525yDkTyQJAUw/XFwPH/vLLIoAZHBqJFlGQO/64vd5GEq/ta7IH/2ZDd3k3r69yyDmG/mjP933YXxtDzKpWZG+iKPPsJOuPcmkZkX66E+5ullKJwMnyCTnHxkc/REcCZ36IYQQQgghhBBCCCGE/K/8DVJjeL2LHbWEAAAAAElFTkSuQmCC\" style=\"height: auto\">\n",
       "              <figcaption style=\"font-size: 0.6em\">#26, w: 16</figcaption>\n",
       "            </figure>\n",
       "        \n",
       "            <figure style=\"margin: 5px !important;\">\n",
       "              <img src=\"data:image/png;base64,iVBORw0KGgoAAAANSUhEUgAAAJYAAACWCAAAAAAZai4+AAADu0lEQVR4nO3a208bRxQG8G9mZ3cNNja2AdcQbgYaSKoERZX6/79XqhqFpCkJF4MxCTaLbXxZ7+xMH6BE8FTpjLo8nN+bH3z0aXbsncsBGGOMMcYYY4wxxhhjjDH2fxHU7/thqJBMYn33KRf6SOJJYmllFTVWsVYr2uji4i5Wqb5cFlH7optmG0vOb+8tp00VjQBAzP/8dk0230+irGOVNt/tpB97J10AEMX1/Vfyr8EJdW6QH+Ls0uaeSY6WmhqACIqLy7JbDDKPpXLFECuN3Xg0vB3Z5Lb7TXYHU+KMJ8eCkB5Q2x3Xuq3T1m3/9M+eaJ72M49lplMg2MrttD7oaHBzOPokootrk3Esm4x6ACr5jeqwGdpe3PaRTMZZx8K0f9WeF9LLz+aUtHHcoxYEQI9lht8Ogznl++rssp84iQQ4eIj9pnc94/lKdY4ux04iAfR3oizMl4u+lFKOos7dX70L1FjwPOUJAMJonVJnOmOMMcYYY+y/Iq/lH/Nn8yGm41Gc8bHbE+HKalXeXLQ6GZ9vPTG79q4hzz8Mu8Q6jmOVNvZ/8T4PjiWxjrtYQggR1FcbO3JUncn62O2HoDBXyL9cW1QIFXWwHMbK1dZWqhvrc0Ciybtrd7Fm6q9fLZdrOejhhPg7dBkrXGjsr/t+gNEofkaxVL5arwKA0Sn16BTkyfmjkueHAAByJriMZW1KfnYPHMbSSQwAEIL+onUYy+ips2LuYqXmflJ5kj5c7mLFyf0ZZS5QzyjWNLmf8b6vJPmkmBznodK/Waw1NvM7HwCAgBDzhVDCwiLqTzS1oJtYs6VS/sXmUgF60B9GJ1fj5zFaxa3t+lJjo4zp5Umr22z2M7+KAgCUd357Waos+Bifvz/oRp3nEStYWN97kwsEEJ1//L2jp9R+A3osTylZXSzNBCI26bR11jx1cSFFvtmfq1bypVXvu4ROdHx4fOXkmoy8F3ixs/3TTGBTa7TWuv31S9tFLPLNfqnx65b3/e/P59oaY25vBi5S0R9iYXn3tT04OP4jAQBj3Ky5yFPeL1RKyJt+30WaB9R3ohCeAiTcLUwB0GNZmyZACs9Jmgf09owkNkaLQLjYWTwgL2ysSbU2kG7PWOg9Np7yDX3d9wR5tKQKhRf67paTd1WJ3xfSU8Bdz4FD5F+iSTWQ0Lf3j9FbfwadyHQH7raIABy0/ty2PsX2S3vodrjIrT+9I3FmL4/J/W2PkTd0c5Vy3g6vo4HTXA5afzwJkzo8rWGMMcYYY4wxxhhjjLHM/QPoKGOV8XkE5gAAAABJRU5ErkJggg==\" style=\"height: auto\">\n",
       "              <figcaption style=\"font-size: 0.6em\">#27, w: 16</figcaption>\n",
       "            </figure>\n",
       "        \n",
       "            <figure style=\"margin: 5px !important;\">\n",
       "              <img src=\"data:image/png;base64,iVBORw0KGgoAAAANSUhEUgAAAJYAAACWCAAAAAAZai4+AAADqElEQVR4nO3aW3PaRhgG4Hd3JcDCFoIQiO3Ejg80tqdTj3PT/v8fkElz0brxIQZiAjFnAkan3V7QOrUvOp35dgoX33PHhd55R7uS0GoBxhhjjDHGGGOMMcYYY4z9XwT1eDebdRDPwwQA4GRzLpIwjA0t1qHW8qtV3wxarUWtzOZWUYw7nf6Sa8ng8HgrbTiDGQBgbed0R7V+D4d6ybUKe29r6W+jmx4AoPD67ERdzD9LYix5EL3K3rGOryuNBIBT2amdyOTSo05Zci0n52exvX8UJgCco/3tNfg5Z9m1IKQCqkf31QSAs39UBZSktqLX0lEEZA5yNQ1AlrczQBQRJzy9lolnIwCl/GsDQGSyAEYz6m2Lfrai8d2XQEiVBwDoSJvh3TiiplJr6WnnIrPhuO4iKInjZHLRmVJHkTyI44bqrynX+atWEqf3zcaYOojUa0auB0XflVIubqBaax2PB8NvxNNFvpSVcpR4CDIATJqkKTWWMcYYY4wxxthykN8Tn8QJKWCMXvZb9ZO09SDwMBuR36rJKzaPyODw8IXoXF3MVqqWCA5/qclL2W0RgyzX8l7UfpKykaeuNFOPf8wAQgghlr92+kgyuP0o5WV7uvRFysc65/KzbF8MqKuBlu9bKFcCMRsMJstednvKkcJovTpnS3r5nAwnEyth9uaWrOxt5ob1q76NMHu1nK2zH/32+4j6zW4RZiFjIb918nOpMW/ejCyE2aklBES5Uq0UpwXPtRFop1a+4GdeFaMv/du7qZW1bzu1/MPdoBB07sLBx05sI9BOrWdv3m6a7s2nTtjvhjYCrdTKVmtnu5P3/Q/XSJPVGESlHFXefrVb3bhx09AYQ31KW6kl88WiX/5hqwCv9LLmzKbfZjZOF7mWv3OwXd6vZoDSG33wtdlo369ALeHvnh6XgmcAiseV8dWv894q1JL56sFpIJUA1r2XkTf8ZOUiIoe4XvG5AgAo5eae+zkrf8OpIUJIpb7/zGfJOzMA0GsZncbJ95/0l4sF8ik3SfSPOT6P7HwOJs8tY3SKxUdqIO5P6TtGAAu1pJvNIJqMZwZAct2erMbDx8mte4hur9saQHp73V+JfxBCZdeAaePdeQpAj7q9lai1mFPD+od3CQCTRGHy7wf8N/StP7PBQN82600bbR7Qt/60zsP0j3rPSpsH5EEcXqGuW3U7b60PyFt/NkrFvJn0unMrdf5mYeuPktBJauUuyhhjjDHGGGOMMcYYY6vhT2oLT8V4SKnUAAAAAElFTkSuQmCC\" style=\"height: auto\">\n",
       "              <figcaption style=\"font-size: 0.6em\">#28, w: 16</figcaption>\n",
       "            </figure>\n",
       "        \n",
       "            <figure style=\"margin: 5px !important;\">\n",
       "              <img src=\"data:image/png;base64,iVBORw0KGgoAAAANSUhEUgAAAJYAAACWCAAAAAAZai4+AAADOElEQVR4nO3aSXPaSByH4Z92EWQBwvKgZGwHTxzbSSrJJKf5/vdUqiaVzc7YhMUsQmAMWEurlQOu8QforqDD/7mjeqVuBFI3QAghhBBCCCGEEEIIIYSQ30UR/bxhWwaS+I7DqpgaS5JERpYu+Hm1/jho8HGnm8Ldb1mr4aAcWd7J6wP2LR+m8F68cCef12EZspRa+90ps7qfV9re2T/NHuv9KMqQZbr+47znNyZecHTmVweBNy1BVpHeTkfI3La1+/zgDwSHz6eT9Wp1J3jJhLMWnY+RuXTevKy/PAQq7feVyfBnN8m3m8Wjb7eNnd3mm91q0ALwJ4Lwq34bbjtrnvQN73WzfWLZGgDrsBUVowtV8LDCg5gkwMxfa1Wds6JQVNWu2oYmeFThLADAcjq4eqRlaVaohmEs+5HojJeThejCHKosZYWqG3p81VnwUmTNz+euwnkORVVVdhPORbNEf6o3dF1XlfuBU4qcMcEvIiGEEEIIIYQQQgghRD45bwMBQLdsWwcAnsRJuuVVjAe23/IdAEino9GsNFmV4OzYB4D15Zf4RvCdrsSrtXfyfh8AFtXlYNurGA+MWnD0FAAWs+8V0SkreloPuGo5AAC3agkvrsjLirNcxrrrhrysLL1f1E/SXHQRQ2KWofAUAJCkTDhLypRXNF1T9+r25hwLiA+mlCzdbTSqT9pNCwBgGbrwGEjJMppH7VZzP6gAACyzNFnP/n7m7NRtAICiKMI/tVKyNPfJ6StT1TYXaR2nwrcKOXd5w/FcAEAex+nsep6UIitm/H42ZePrMLroL0uRlSTp5paFePDpfDoeiP6BkHTf4iwpFABYdD99CO/W6xJkKag7BpiBAtm49+NrJH5I8R1JlR2n6v0VuAZf3a5W552hjCoJu90ODoPm02MfiDq98Od/UqrEs2pH7049z68jm3z5tz8b3ZQjy2kdv22YOrC8/v7hMkulbA0Un/KKZtomj3kx6Hc7QxlJgIQdSXHUrTksY6x3MZjLKAIgYf/WzZUR2jljeXg5ljOAgPhTtbrT8Go657y4m0XCO37+J/ywr2maqgAFijyX+IxBCCGEEEIIIYQQQggh2/QLov8/EUMTsNoAAAAASUVORK5CYII=\" style=\"height: auto\">\n",
       "              <figcaption style=\"font-size: 0.6em\">#29, w: 16</figcaption>\n",
       "            </figure>\n",
       "        \n",
       "            <figure style=\"margin: 5px !important;\">\n",
       "              <img src=\"data:image/png;base64,iVBORw0KGgoAAAANSUhEUgAAAJYAAACWCAAAAAAZai4+AAAC/klEQVR4nO3ZzVPaQBjH8V92NwREMLwo+DrS0pniOMPYU///P8BOW506RaUqIiAETRBCsgk94Njed0dyeD4XuPDMdxJmA7sAIYQQQgghhBBCCCGEEELei6H6edOyBALfj5HOWFzOZ3MdWUI1K1+p5OPRXTdG4XAn7XVvB0nIYna9sRNdyoHEZrO50fv+koysjdqXTzLba/nmVuNr+WbWvlgkIMtY26o1Iu+87Nilys5mWC0XR0nIEum8hb2PR+n1YjSKXHP3aOxPvKniJVPNgsE4sH0c1qPc6NQKg5rtDW/afrTirDgIgPVGzh12739Ke/+gGbatp/6Ksxbh9BlAdUO2nc4P93D95NjI9H4xxbHKVytwHx9sxlKWFTy2J8yRaZFJqVYpZ8Uv/VYqJ1Imb3dHEzz1/pTE7XCmukgo30T3ljsZYZqs/9sBZp1vHr+/eopXnBW7N27bZIwbk8EYkJ34yvCGY9Us1Uc1OBfcAGBEUkoYpskRSylVxxJCCCGEEEIIIYS8A+WtkTdMCMEAYBGpb40o7wa+sQpFew0AQtdxPMWdJH1ZmWr9sAgAs86lfElQVqO5AwCT83DYVxymLytVPGjUAODZv8uqfmX1ZXErV7IAoGyvKU9V3qr+bxTnr6/MUL1aGrNiGQIAZBgtVDfA9WUtZOADAPxAqm4068xaxMuDHhnFykeK+rJCDTVv9GXNgyiJWTru3Rt9WaZg+p77WpZTgwvOKoXXVVR50YKmLJEvFLK7teUiD8sUKz9PBACYpQ+1aml/OwMAsFKJyaqf1NdzdhoAYBiG8q9LLVk8v/v5OMX48iJNffWlQksWS+fLeQBA5PvB+OFpnogsQ1jZ5btw8DB0Lu8nicj6tyj43bPWaNB9XvVZ9VL0+uMB7t3Z6XA2nSYiKw5enD0TQDjoXF04GiZqyYq83rUQAGTrpqejSk9W6FzzPgcgb6+1VGnKGrXGGwxAPO4/6xio588+M62UMAAswmAe6JhICCGEEEIIIYQQQgghhJD38xcsoSfXTj0TFQAAAABJRU5ErkJggg==\" style=\"height: auto\">\n",
       "              <figcaption style=\"font-size: 0.6em\">#30, w: 16</figcaption>\n",
       "            </figure>\n",
       "        \n",
       "            <figure style=\"margin: 5px !important;\">\n",
       "              <img src=\"data:image/png;base64,iVBORw0KGgoAAAANSUhEUgAAAJYAAACWCAAAAAAZai4+AAADuUlEQVR4nO3aW08bRxQH8DMze7WNvcYX7CpgoDaNSRRV5KX9/h+gqtKmrQwJ2GAMvoBtfNndufShCCl5PaOyD+f35Jc9+mtndnZnfAAIIYQQQgghhBBCCCGEEPJ/YdjrXd93INluNfihJ2QcxzZiOdhYxb29op4OhhqK+w1/NRpmIhaP2t0f1Lm8l7B7elocf15PMhGrdHTWkflRbyvq3V8r1/L6wmQgFsvVj7pq+Wd1tts87tbyw+buNAuxnKDow5sfT4PKycEeNFsn0/F6tdogbxk2FjAuAJrv03bxXQsgPPoYjkf9QaxeOZZOEoBCd2fhNxsA8Aaak7+d5eSVY5l0PQeARknyQACA32rMzN05R5ZF361kMb6NOPd8o6UxjPMgH7gCWxUbS6/uet6O47nCpElquOu6Tzcz7IzHD+KiL2ah47rcyEQa7rjO9vJqoZFlse9EXojKRZdzwYzWChjnXM4nM2wubCwQwhEMABg8DxwzSkrkg0gIIYQQQggh5LWg94nflWOcgTEau9m3G4sVoigH6/njE3JXjT6x+QaP2u0Gu7vorTMVi0XtXzr8nE+GyEKWY+UanQ+c9/PYYzfs9d+ycfYNALbvlpz1P6f8yw12xluOBaM/4n/45HL62sdu39sp51nytFwjh9N2LADGwKAnmb1Yjh8EQkmptFTo00B7cyuoNWp5laQqeZw9LDOznIbNbqemlNTrq975KjOxgvpPH/eNMWbxSY5vkcXsxXJLzeNDAIDF8iKHPlfH53mmnXwZAACKOR/954q9WLHi/vNPg34J2YslpfpvWdgmMkOxHBM/AQBAnCjsu8fOlGfCcXjV39yH3HUEcIZepK3EcqJqFFZKj3+NC7W9XBj66DGwEsutnxxHXjId+fXTQs4rBOiqdmLV3p41N73fe/Gh36qB53LsKFoaxIN3ren9ojdd7Y+PearQGzI7q7xXrOYglI/r2+urmjN8iDMRayuNANcRAMvrT1IM+otMxIrjJAHF/WCZDn8b8YfBYya+5ZlOY0hYkAN9t/nC4lUWthgMoryjjTTCAzWf4wuChdafcKeQrxzVc4wz/OL+At9WdtBqVtuHZRBWNwbI63np+OxtpbrnAdP475kX6FiFRufnsi8ANtsE/eHwAt+/JbzAU6k2d7OVtJEIACz02Gxng1JBJqm++TpNrEQCsNCRNL90J4GUUs+uRhsrkQAstP7slHdLjtbabBYPi62VTGCl9UdwBmDAKKXtzXlCCCGEEEIIIYQQQgh5Tf8CepFuNloMfXMAAAAASUVORK5CYII=\" style=\"height: auto\">\n",
       "              <figcaption style=\"font-size: 0.6em\">#31, w: 16</figcaption>\n",
       "            </figure>\n",
       "        \n",
       "            <figure style=\"margin: 5px !important;\">\n",
       "              <img src=\"data:image/png;base64,iVBORw0KGgoAAAANSUhEUgAAAJYAAACWCAAAAAAZai4+AAAD2klEQVR4nO3aW0/jRhiH8f/M2LFzwDkDWSghC8tuAmKlVtqq3/+ylVqpuwgUAmw4hjjnOHGcsac3Far2dqzGF+/vPq8exfbEzhgghBBCCCGEEEIIIYQQQsj/hel+3rQsA4HvR7DSKSFXq1UcWYZulrOz40SD+6cIzk+7lvfylIgsXjhuvguv5atEqdVy+hcLNxFZ+cbPH2T2pe2L7eZv5Qf50FEJyGKZ7UYznH2rDEu1981q9qlWGiQhy7AdC/tHLbt8crCDWv1k0F943lLzK9PNAuMCqJ2tj53TOpBu/JLuv3TvV+GGs6IgAHLNralV2wWwj5p7aczcDWep9WICYDcvuS0AWPXdoepdc82x2t9WMO0/FzhPWSqSSjHO7axtCt2pulmR12untoyUKdQ6WCtumub8cah7xusfxGlXDNOGaXIlA6m4YRr+3fdppDlW9zeR5wpFx+RcMBVFIRjnXE7coW6XbhaEMAQDwPDvgWMqlFLzQiSEEEIIIYQQsinaz4k/jGOcQalo0w/7P7CKpRwWk/Fc86k65iy73tzjvU57kays3PsvLXHN3SfNOTFnFfc/ngvezW78b7c33DRFqlbK6BYBiDPLLlfz9qHVW8ubR90zPsaszP6ng6ytrmYL926QnKz03vmZM7lqfxsH81lysqxy46zQvRu2B1BI0HJqbVWMarlYlHItw03vYrwJJAwUD89Dd9B3J4nJ8n0/FDiU79zORaR7csV4EANvWkTp9HCUXzwnYzllDMwRi4HDkMmmSjlT98YknqxcMW/tFrz2SBimMX8a+8m4EovNo1KGj/+AMExjdXczSca6VWn9uie7F5cu40LI6XCUiCyr2jhrTGZep8PAgDAMN55lGAavVB3b4CoKJQBAKe1ddO2dfada2crvy05/0bePHAAI59Op7t2p9pVcP/20ZynPCxQ3BAeA5cPN7bPUHKuZxQtHX05Y5/c/H7PHn892AGD2lY16mmO1XzhIVw4+hP3FbbtQsuvHADCZ36Y3vpxGwdKL1szOZszI9wDA89e6F6L+XvXs4WIpXjMnJXt72XYBYH717G16U1jUGvVKJmNyFq39QALA6qV7/6q5/ar9/lZmK2cXWp+bFa/9198vABAm4GUW5XlAecduHI4G/u215rQ3sTzVTYNUHsWMWsQxDEBMWRBmGrBivKWMJcsyuQKYSMUxDEBcWUx6kL4y4xgGIK77rdW4Z4+Gur/P/xFLlhx//+rOrvuxvEQJIKasdf/SL/j3j8s4hgGIK+tVPttyOoxvgYjlL10mhGBx3CsTQgghhBBCCCGEEEJIMvwD6QKJb4o74AcAAAAASUVORK5CYII=\" style=\"height: auto\">\n",
       "              <figcaption style=\"font-size: 0.6em\">#32, w: 16</figcaption>\n",
       "            </figure>\n",
       "        \n",
       "            <figure style=\"margin: 5px !important;\">\n",
       "              <img src=\"data:image/png;base64,iVBORw0KGgoAAAANSUhEUgAAAJYAAACWCAAAAAAZai4+AAADr0lEQVR4nO3a23PaRhQG8G9XKwQCY4FbWpMU125tJ52WmWTa/v9PfU497cQ2dmzAQAgXiYuuSKs+OA7TvLQzq4l4OL8nDSPOfKOVVtJZAYQQQgghhBBCCCGEEEII+VKY6v/1oqEjCoKY64YhAEBuojBO1coKxVjcah7W0ml/uNSsb7+pAEBkT6ZO3rHq5+2WvBGLlTg4f9kAAK97FS1lvrHY/vHrF4k5uoZ+cPrbEQCsqv6YK5ZVjlWoft1M+hUBUT08PQUAZ/mupHrKqsZKo9VsnMy9GKK0f8AAoGaZeu6xlt03c9kZ+NBLpvn4W1GojqFyLDm/WtXSSc9Ndf0pjITidZhBLCcc6Ii8ABwbtwQA8COpmkt5EMPw09byQxkAFrN1pFhVOdZWZHf3HQBY3Y5dxWkrw1jB+7duHQD8QXeZ9yBueaNgUAKAeGmrTvLKt+otrgmNA0CaxEmSWVlCCCGEEEIIIV9Udu+Jj+UYZ0jT3FsjnzFq9Qq8hbPOuXf6meLRy2d8fNvxditW5eT3n7QbPh0q1sk4Vu35eVvjvXLeneYtTeii0Kybyn1TIMtYxUajXmqVJ/HmdqB6xmcYq9z65aSiRx3HndzPdieW+bz9ypr91bmwg/UOHS29enhc42xyPUvzb4Bvychbcl8W9jbJJo4Vi2XY0h1f8aofNV8t19PpYmemU7fHB+b+3vFxMLqUq52J5fXtS+Ps9YuWvI5HfcViGS4XRDY0s/3VGU9uynmvkP1b4kujgEpRUy2Uya0iexnH0lkMRLHqbJrxIGo6SyIe7kAsTQgOGW8kADAgTTOY5NU/ONg7qFfkajIJACCOIQpMz39RmFs/nDbk4O06AADEqWAw9NxjMevk15Pk0uvbAAAJBnCm/EKlfLTKzbOfE96/7AEADBZJ7uW/Vg3dtKo4/O77eczARENzuhjM/LxjsTQFYB21DalxTasZQyfq91Z5x0pl6AFmSz6DLgT3Ft35ev5g5/50GgdrzzSa1R+5EELe/dn92w7d/Ff25SaKTL1eBwBsxuHweq5aEhnEYow/1fDd9Wg8zSKVeiwujOLj1qrbn727nakWBJDBlcg08bFG/83FYDZcKEcCMrgSUxnHAgDs+4s/7jZhkEGoDAZx49pjCwAeevd3qo2aT5Q/lHLfd0QFAB5uho56no/Uv3bradMiAEzvPoT/tff/pnqr52XL2hMA4NtzR/mp9IlyS5dr2uN7TpokifpjKSGEEEIIIYQQQgghhOyCfwBrg4RC9BpsUwAAAABJRU5ErkJggg==\" style=\"height: auto\">\n",
       "              <figcaption style=\"font-size: 0.6em\">#33, w: 16</figcaption>\n",
       "            </figure>\n",
       "        \n",
       "            <figure style=\"margin: 5px !important;\">\n",
       "              <img src=\"data:image/png;base64,iVBORw0KGgoAAAANSUhEUgAAAJYAAACWCAAAAAAZai4+AAADM0lEQVR4nO3a2W7aQBiG4c8ba2xiloRsDTQLqVpRqcv930BbtT1okqZZnIVCAphgNtvjcQ8g4QJmVOfgf85sidErBsaIGYAQQgghhBBCCCGEEEIIIf+LIvp6I5M24M+mHKlMWgcAHgY+i8WG1QWz1NXNDZvfOzcB8psbFgAE7kN3kHRWsdF8xU6jdgBrv1kFgIlzGgx5sllKof7hiKVvfo1ROvhcBwDPmnZUwWGFs1JWZTO6rdgPdrXWOACAwfAiK/qRFc2KA6/XQWjV06uN2oYCAPZqzkg8a+h876dGK+/fmod75vxeRhedQ+Es3j/1bLNcel/OrW0/3YPg91BC1sC/M4rNUr2RThmLe9OAi3YJT6LvA25louX1eFHz2BsFgqMKZwEARr3WVU5jQcgBwDvvjAWXLTlZ6P9JtVXG5lnTO2eY9CTODc4GlsL5fBLZ0BVd5IUf1XO6rqvK0zsURyyKpAxLCCGEEEIIIYQQQgiRSM6/gQCgZ7IZI45jcH/mBwnvkC1lq1tVk7OIB93OvftisnLbzTfrLAyj0eXx7DHhjbulTOXg4y5jYTTMj/4mvXG3pGXMYgUAhu5Z4ht3S9NB20HeysIq5IRHlZflXuXG1c29vSyM5DfulmaXE6dwNMvXZaw68rLgTW4zwfr+lsLjxPcT5zRdVxFx7ocRjxXhKFlZuVLJjFnIlNdVKw1VEZ5FOVlW/WBLYYwptcOKlAeanCx771ND4zyGvW4DjMUvYt1aWa+9aRoAoOkKpqOZ6BEb8eMZRjqdKu/ubFvzazacunf9WeJZK5W1UvltfW1x3XPavbM7L+kstbB7VC9t7+bml8H1z5PufUt4U1g4y9x51yyaq4vL7uWPb93pZJJ0lpIt144KWJwTCVvX5yd9wSEBGSeSzGIBGPW9GAA7c9oyqsQXCD1rAmj9vuUA2PWFlCrxLEXTgMeLL8cMAHc7jxKiJJyx4SwAOhc/vjIAcRj4MqrE361g3Hf57fXVjYyaZ8IHpcatEz86dXpSap4JT+LgHA5vOZ6Ummeij3rVLNr52Ot1Z1Jyngj/NtI0TQVnkei6TgghhBBCCCGEEEIIIS/IP1IFSATp+oNbAAAAAElFTkSuQmCC\" style=\"height: auto\">\n",
       "              <figcaption style=\"font-size: 0.6em\">#34, w: 16</figcaption>\n",
       "            </figure>\n",
       "        \n",
       "            <figure style=\"margin: 5px !important;\">\n",
       "              <img src=\"data:image/png;base64,iVBORw0KGgoAAAANSUhEUgAAAJYAAACWCAAAAAAZai4+AAADo0lEQVR4nO3azU/bSBjH8d/M+CUkAZqAki594a2IFolK3UP3/5f2uNp2EZXYBEKAhACxkzhOQmKPZ/ZAl13tpYcZbXx4Picf4NFXk8E2dgBCCCGEEEIIIYQQQgghhPxfmOnvu77vIFksJHd93wEYU0mySLXZWMc0a61eW9eD3t3EqdRrq0xwkYZ398NsuVn8xf6HLdU+iafOxuH7Onc85/Hi2yJadtb67s8Han1wCbf67vM2d10nLo5vTPeG8YdYrO8dZeMNH2Jt6+AAYBjdlL2lZ7mlqo/KigAvVGoMeJwOhlPTHW+cBe4WAN/l4H6pDMStTnDeiZeeBWhAa4AJRwDXv//RD3ojteQsnS2mwCxRgMrmK9Hll1/7yXyx7Cwk46CehVMJtRj3N7vXl+ex6UgLWWpye5aq5sMcctSurncv7mxUmX+IUYt3VKczQ/rwbVYcNAIbVearNWqNSnoczHRyr7ruLBzZqDK+VEM4DkcmpWKO4zAlpbSRRQghhBBCCCFkSYz/T/zPOMYZtFY5eJD0b36lWsYsGk0MH9lYzipsf3jF7y+as3xllfc+H4lzHtwazrGcVXl9+FHw6xI3nGMvSziu421Vi6ZFAGxmFWq16srbUl+mF13THW8xq/T2eK/sJs3RtN8O85NVfP3x04vwtHkynE9ytFru2k+7Fc76jVDD9GxqMSt9jIeYZN5qmsnU9JGgvazh1ddkNZnVP8WToB/l5nQaNdNWaaO6s5/0zrI4N1noRg3/6JfdHTRk78Zwlp0sBsY0JrH7xnl5yGWzuOwXd09DiuVyQaepFFv1TQ/lgshHVvXNq02kqRQH+5sAN7+Ls5Llbrw73uGZynhtZxWYJ4Zvqm2tVmX7+MjRAPwSoKKZzMXdqVipvNx6OlRzObyPFqYT7fwlcrfw/WhwPxw0ejm5Jmr9fTeN242rsHs9zkeWSpOng+Dy62k4ica52FtaySR1AcjotnkSKqXysVp/Y9lj1E8sDLJy5/30jQMAwhPaymtOO1nPW8n3PM/GQEur9Ux4hR//0I9ZuoNgDIBGGi+UsDHQShYTnu/iMYqnrbvY+HoI2Fotd6UMxO3LoNsapDYG2lktp1AERo3fbqIgzE8WAA0ZXHw5l8nCygnCSpZKJmFp2L1p39mYBljKksOr0yD6szOyMQyApay0fzZfn7V7xrdZz+xkPWS3hTTqm16g/2HlkS4TQjCtZGb87IEQQgghhBBCCCGEEEJy4S8AQZLDZMaZGwAAAABJRU5ErkJggg==\" style=\"height: auto\">\n",
       "              <figcaption style=\"font-size: 0.6em\">#35, w: 16</figcaption>\n",
       "            </figure>\n",
       "        \n",
       "            <figure style=\"margin: 5px !important;\">\n",
       "              <img src=\"data:image/png;base64,iVBORw0KGgoAAAANSUhEUgAAAJYAAACWCAAAAAAZai4+AAADn0lEQVR4nO3aYW/aRhgH8P+dbQxmBkwJJJmWNku6NemkSpk07ft/gHWb1q5N0yQNIUAAJ9gxxsa+24tEifr6sWo0Pb+Xlnj01/m4g3sOYIwxxhhjjDHGGGOMMcbYtyKon7ds20SaJJm0bNsEALVKk0zTyprUWI1et6n94ejO9Da73wFAejOZ3pYcS7b2DrbV+d9hZHZ+ftUFgMWXj2mgSo7V3D16qZr+Gaz2/m87ABA24rEkliW/RKf342EePLNhuFv7LwHgNjitUacsOZZVb9vwagZExX0mAMBrORY1FnW0Ia0qYFsSwqjU7h9VTXpVagFAA1oDgH6Y5wrE7yE9ls6TCFikCjpLovtncaqouahzC2kw7eWzKINazq8bADCf3aXUqtRY6u7qw0p9ul4iD/rvQwAIP48j4rJFjqXnp/JSXV4usJodqxMAiAdfgrJforo9va3rYLrQ2VRPHADIghvqIk/eqmGYpkSeZUoY5v3CoPMsz6llGWOMMcYYY4wxxr4B8tHII2k+HY1kGbEY+TTwke21Ww4ArALfD0tuFzypbe6/aANAfHmSUY8Di4x18GYbAO7eraZjYrHiYlXaOwe7ADBf9utldzGeCLuxYQNAp+mQqxbQLniQasu5L2kIUXpz5VGyepjmq1VObhcUF0uoNAYALNOMetBcUCwhpdEwl36ulAZ9rAqa8qbbbFQ2W9FpZLtNR5oGee8oJFZlc/95qybnb2vNF3tVadIbd4XEsnq/HG2l5+/P06203TWsNRkts7Xz+rk/9f/x9zqHSprmesSCMExTxLNB6MxTSEOuR6zFrH8cTU+HIeJcVqS9JnMr7v+VdObvBoC0bImKtR6xcKVH9eV4Aji1CiBA3nyKiZX0h1JnGeBVlZKLNC+7zSkqVdvSizABRLNe264GF3owi0uP5W71Wvn4bAh09nfcXn10k/QvwrJjSW/v8Pv8BEFk/PDrG0/M+6M7//Km7Ba6bOwe/ZS704vI3X79e2f6Z/8PP4lK7+wLZ2P3VT7v1kWl7nU34nR4PCOWLCSWVfcsy3NtoWJ/lA6GE7+AVPQFQlo24NQqIp18kO7o44T+Y6uIWNAKEKYl0qu3V3Y4KGSw6LdG8iQC4lyK9Dr8ZGTL5VrEQhJMumoaZVBxXESge/SrP4N/E/15GBUypR4VcPVH9PX4jHzZ52vk/5lu26vr6MYn7zdfoV/9MQwJlfNlH8YYY4wxxhhjjDHG2P/Jf8CNfhbENCdNAAAAAElFTkSuQmCC\" style=\"height: auto\">\n",
       "              <figcaption style=\"font-size: 0.6em\">#36, w: 16</figcaption>\n",
       "            </figure>\n",
       "        \n",
       "            <figure style=\"margin: 5px !important;\">\n",
       "              <img src=\"data:image/png;base64,iVBORw0KGgoAAAANSUhEUgAAAJYAAACWCAAAAAAZai4+AAADwklEQVR4nO3aSW/bRhiH8T83kdpISV5kW7YVR25iBYYBG02//63HtklcJJFXSbYWaqUkiiKHwx6MImivMyiN4v2ddNGLByDBbQYghBBCCCGEEEIIIYQQQsh/RRH9v2GaOsIg4DAtSwcAHoabKBEbq4tm2dWqzcedZw77qOYAQDjuD6Zxullq6bR5EN+wIUO5eXkAAP7t9WaedpZzcvUTy/dbgVI5/dgAAC/ndUTPDeGDmNs9acaL6+1JqbK7XwOAfKeQST1Lt2wTh40PVnZX8/oA4E1Xome8cBYUVQP2z6NTlvev7wFgddNdpJ7FwxAoNIveeODeLQEgHPVmPOWsJPLnAPYc9rj++lv3JTTYpJ2F0HN7JVXNmFY8aXdFp/1NNIuvBq1MUc8YWrs7mktJAiQcRK+tTbK6Yaju9/5GShIgfk9UC6WybaiqpqzG7kjw2v6DaBY0TdcUAApnjIleFwghhBBCCCGEpE34PfFf4xRVQZLw1D8k/ZNZrhTgz2dLwU82krOserOmDm5b/uvKKrz95YN2o46eBedIziofvr/Q1HZeFZwjL0s1DC2zX8mJFgGQmWVt7TjWG3MQsbsn0TNeYlbu8Ow4byXfFv7oYfx6srK1i3N7/q11PQuXi9eTZW6dnJfaD5PWGAlez+VUy9rb+k7FsTeMxaJfK+VlKaquo1x7v3Rnk5noUZSXlcQRgKOr8uixdbN6NVk8WHo2dvT65BMb9QWHycuK/ckgr2SqVW9xl0t74e6H5eDWmRe3t2A7OeGp8rKmDxmvWjvTHRi68A1IXlbUWXedprrlyHi2lPgEse4OLPV4Fio8EV7NEM7S9JfFFXAe84jxJFEkLLEIr+wXK9uOAQAsDELlbdU2oSrCR1F8H0Tj3ZssALBgHeD43baU1xbhLLt+eVEEgHizCZNStQwwlqR93VKylVqjBAAJ5xyarmK9DIRX8IRP+TgKVjqSBHrWAMDn/vRpEqSdxVe9b0qeM86do7oGzO+fRq2n1PdB8Nkd62aiKOIHV2YN6H/57A6fvbSfTvmcDXMKYxFvZA5r8DtffnXXvujbq/jKvu+7L7+yA3dc7nduv44FRwLSbj7FQmYvM7uzuve9iYx5crJ2GnWnVPF+D93vrpTVfSlZRv3nyz1l0n4crvozGQPlZBX2zz4eL//49PmebeTsHJGSpRlmNr/ZjDs9GdMASVnxoncbTB8kHUBAUlY4/DOqLG+e5G39kZPVZ91sOB1K2/kj55OuommamsQxbf0hhBBCCCGEEEIIIYT8T/wFnyyQOuUZwTsAAAAASUVORK5CYII=\" style=\"height: auto\">\n",
       "              <figcaption style=\"font-size: 0.6em\">#37, w: 16</figcaption>\n",
       "            </figure>\n",
       "        \n",
       "            <figure style=\"margin: 5px !important;\">\n",
       "              <img src=\"data:image/png;base64,iVBORw0KGgoAAAANSUhEUgAAAJYAAACWCAAAAAAZai4+AAADxElEQVR4nO3a20/jRhQG8M+ecZyE3BM2XAJZIOwutN2Kraq+9P9/6qoXtSoQCEkIITfs2Lnb43EfkKDvY615OL93H33yWGfsOQYIIYQQQgghhBBCCCGEEPKtaKrXG6bJ4a3XEmYyyUOEkP7GE6FaWa4aK1et5uTTfV8id7ifk0EgPWs8cWKOpRcaZ3vBjRgJlM4udqXviWX7yp/JmGPlj76ciq1Bc62XGj8fS98LnOxqqCuWVV7E9Lujs2D2T8XKl7Z39oEQ09ldWvWRVY7FkzkTtZPzZKoc2gMzy1GsZBJxx4KmM2D3e7/hm+6f3eLRMZBJMdWqyrGk5wGZs6w77vavtdqqUALnqo+WcqzQXzoAdvKiZQ3/mje23pfgB1KxP6jfLc8dPxZ0PWEmxVNnrp329ri18FWrqsaSi2EzkeUJg7X79hx27zLBW/2FYttSX0S3y6wUNwx9eP0ErB7+mOqj1jTuRZRux70zdJ1pi5ENBI+yrc+tqerdUm0wYIwzDYAWCCGgGZxBChGoliWEEEIIIYQQQgj5BpSPRl7o3Hg+nAwDXwjFYsqngS+S5Uo5DQD+dDJxYh4XvErvf2psA8CyfSninmK8Su2e/3QIAG5hNYh7ivHKyL6rHwPAdFxIxj4ueOGvlzMHYRg6s7Xq3C7CWE7/OjmUgZDzZtd9O7HcDrcK0vPFZjKwYj/SfWXkc2YgfCE9T3n6Gk0sTYMWhqor9z/RLOJWPpfY2GMJsGJW91aLdcxD4We5Rr0wu/VsYP/8kFndzlDxYD6aWOWPX3at9MSG0fj1s3H3dT5+C7HM6ulFfbJs3m62j378hWdG/8be5RnnrFI7qFe3Dg9q42o5m9KN+MecerZUyW9/d1BAZueD81RO2c2gNVzG3U71wsmH9+V6zQQq56YbJO46q8GNHfc8Uc/VLz4XMzkAxU/VVb9703PnVuyxtFRp/6SgaQAyqZpn9HpfrTAI4o6FwF8vDMYY0xhDssiXk41qyQhiycXjlVbMFYpZDQDShqb6Gg8ggljTlugVD0/0DABAZzyxUk+lHssRo3TpB769BwDYhNx8C7HC5XKMUvZkEwIhfHsZKP/IEkUsAIC7ltzAypktWoNZJNPzaLZqI5UBZu27yUPLUv5jBIgoVjKV2QKm17/dO5OntxPLTHBATG5/vxHe5k00iGf+3MrYD/ftQSTVEFEsYXf+njhXvWkUxQBEFMsfX67zy/ZjFNvOs2hijYJ+0nfGqhv0q0g+yDTGmBZKEUT4SUYIIYQQQgghhBBCCCEx+g803ppGozsMQAAAAABJRU5ErkJggg==\" style=\"height: auto\">\n",
       "              <figcaption style=\"font-size: 0.6em\">#38, w: 16</figcaption>\n",
       "            </figure>\n",
       "        \n",
       "            <figure style=\"margin: 5px !important;\">\n",
       "              <img src=\"data:image/png;base64,iVBORw0KGgoAAAANSUhEUgAAAJYAAACWCAAAAAAZai4+AAADP0lEQVR4nO3aXXPaRhQG4Fe7K/FlBBiDTexiqHETJxl32k7//y9opzeZ1sWJgTgOYMAgvqXVqhfE5AccjdWL89xJM5x5RwctzJ4FGGOMMcYYY4wxxhhjjDH2Uizq5+1USsHfbAycdEoBgAn8rY5oZRU1lnt87Jrx5weD3KuaCwD+0+NomnAsUWxdvQpv9VDDbV2fAMCqe+N7JuFYheavlzrXb29Qvvy9CQBzdz0QxLLkJmarzatw/uFoUjppvL4EgKn3KUP9ypJjqbSbwtnF23ThdaNmAUCpmLWTjgVLSKD2PmjlfrrI726lFbWH9FjG94GDq7znVM+eb4H4HtJjRcFqBuCkoIVjf7u39g01F/lp+d7j16IQTiqKvqWZjRc+tSo1llkO2k5eObaMtB8YAJh/HCyJyxa9iV5PTjLKtkWk9S7W+kvXozaR+iaLg2LJtYWQVmTMronae3paEB8XNRakVNICYO1fvyjUYUgtyxhjjDHGGGOMMfYCyFsje0LZuz3TKAy0JhYj7wbupctH5SwABNPRaJbwuOC77OmbVgUAVp1/9Px/EytTe/tbHQC84rqf9BTjOztfPf8RAKaPxXTi44K9YL2YTixYlrf0yZuB8cWafv6ArpBSLG8eqFunMcaafwrui1LZKujfT6mx4lu3gGzGkUops1muNsQd8HhiWbCsCBF91vMsniZm3Hwm0oEOV3PyXAVAXLEO6o0qtA70oNsJ4igYT6zixS8tYUIT3ObW93EUjCWWU2lev7cRITjcDvvUn2kghlhSKlk+q5+fAgAWvXp/HGpNXU/Jk/1cseRWrhrHu8taayJGs9Ek8QMH7nnzh6Nmo7S7LLRwMu78a6jLPP3USP3nd4eH1efr02xjUtomfg5C5I4vr0vyeUwNVSmXxoeJn4OA41ZqgL9YRwAsoaRcboLE/0FYdrYAYNgZhAAsadtqefM18Vk1hOMAq7s/2hoApJTS7/fI/yDIsSITAqOPf/4VALBgCZjVMvGnFemNtzUP3fbfcSzue+RYq+GdCtu9Yayp6MczZnfpftjrzGJJs0eONb2du9HTwzqWNHvxHFkMNtt4m8gYY4wxxhhjjDHGGGOMsZfzH7rGOkcvvhjjAAAAAElFTkSuQmCC\" style=\"height: auto\">\n",
       "              <figcaption style=\"font-size: 0.6em\">#39, w: 16</figcaption>\n",
       "            </figure>\n",
       "        \n",
       "            <figure style=\"margin: 5px !important;\">\n",
       "              <img src=\"data:image/png;base64,iVBORw0KGgoAAAANSUhEUgAAAJYAAACWCAAAAAAZai4+AAADrklEQVR4nO3aW2/aSByH4Z/HJw7GHBdCQgMpJNkkbao22u//DbbaXVWrHIFCDpSAwQZMjMfuRVqk7e2MFi7+z6UlRq88zAAeAEIIIYQQQgghhBBCCCGE/F8U0dfrpqkhWC4jGAlTA4BoFbyEsdiwmmiWXanY0aj3ECG9W7UBIHCGz5MNZ7Fc62SX34TfQtit8x0AWHQvAzfacFb24NNhmH66XqJ4+McBAHi2P2CCwwpPYqp8cMK9L6VxfqdxfAgAE/cuKfqWFc7SEraJWvM0kT1uVBUAyOdS+qazoDAVqL5btdJHzczrpYQmOofiWVEQANZJxjXKtZ+XILgOxbPi1WIKYCcbMkP/cc0PItEu4bsVuMPHHGOGGcc/aqajWSA6qmhWNB9cGxnN0NU4DFYRAHi3g7ngtiU+ie5XdZzUdJ3FYfia5d93XdFJFF3JzMrlbZ0xVYmj6HUSQ9dxZoK3SzQLqqqpCgBlvfxiHnIuOiwhhBBCCCGEkM0Q/p34y3AKUxBH8cYfjfyXkculFN+dzjf8SPcXZq21w547bV/wZ7XkLKt+cah2VWewXVmFxvv3qvXtcuPPTteYpmvmmzf7exjZxvZkJYqlon16XAUSuro9Wam931uV2lEeiIQfnUrMSlZPL+pWHsB8Kfx4S16WninX3yoAFs4s2J7tdOXPJmPOeTTtj5fbkzXpfUEn5lE8v+1725Pl3a36WUVRWDB8FD23k/pRnUoaTFXVeLnwXwRvl5wsBYoSIxY/6/lJziQm7UwSnHPuu3MpA8rJsvYbZRbH4INuZyRjQDlZuebHls4Yi24+h+5KwoBSsozfDs7fmUxl3HJ7Xx0JIwpnqZqmFmv7+3sAeKDr4ievgIST/UyhlC2d1YtA4Ey9uycv3IqsXPOoUditW+D9u+7z4+2zjLeWeJZd/3ieT1oGnPaff9/PJs5WZCnJwl4zBwXwnq4/t2MeiX7uSMlC+LLwVN3QoISzkS8jCZBwVu31/nkplHcrSCdUeYebwlnOlXdVOrvIG5aVNKUkARKypv6jWQorTUM1EwkpSYCEk/0gmCEYjMa2t4yk7KQAJKxEM5XUc5bfW7g9R/hfGWvC+1Z+v5ZPF/lVOG8/SFuI4lnFk08N3Xv4t++PnxZSkgApu/yHM1x1rv8KVsvtmUQwPZHifHLfk1GzJrwS/WHH4LcPYyk1a+Lb6Y3Wi7ptT0rNmnjW5ciKp0N5ixCAnL/+MHAeSvniQAghhBBCCCGEEEIIIdvhO7qHaKyK5nZ2AAAAAElFTkSuQmCC\" style=\"height: auto\">\n",
       "              <figcaption style=\"font-size: 0.6em\">#40, w: 16</figcaption>\n",
       "            </figure>\n",
       "        \n",
       "            <figure style=\"margin: 5px !important;\">\n",
       "              <img src=\"data:image/png;base64,iVBORw0KGgoAAAANSUhEUgAAAJYAAACWCAAAAAAZai4+AAADUUlEQVR4nO3a227aWBQG4H9vn8HYRiUEGhKSEkJp0mhUaTrv/wJzMepBaTJRCNMmlHCIgRjM9nYvSJMH2NY4F+u725ZY+uWFj8sAIYQQQgghhBBCCCGEEEL+L0z194Zl6YiXSwnTtnQAkOt4JVK1srpqLG9725Oj/g+J4uu6BwDxZHg3zTkWDw67r5ML8VPAOzytAcBD7ywOZc6x/IMPbVG8PV/iVfvPAwCYedGAK5ZVbmKhetBNZp8r43Jtv9MGgGl46aj+ZZVj6bZnodF6Z/ud/ToDgHJQMPKOBcY1oH6yPiwetUqbTbau2kP1WDKOAbdbCs1q4/cmKB6H6rHS9cM9gJovuGk8botiqZpLeW/F4fAm4Ny00vQxzf1oHqtWVY0lF4Nzs6SbhpaKeC0BYPbvYKF42lJvYnitjR3dMHgqxCZW9L0XqjZR9UjmblD2DM41lkq5aaIIJ5O54u5SjQVN0zUGgD0dfmkikkS1LCGEEEIIIYSQfCg/Jz5XYoyxNFV+KwIgg1cjT6wgKGnL6TjMolh2sYp77V3n7vzrC4tV2P3wvtQ3fvayKJZhEytvTgJv8MVeZlAsu1gAwCyvujNKxFooFsou1nJ4YXmRqP9xPx/d3ec8Lni2uOL9guc0tqPBNzF7ObF6Y8dsnx7X5aW4/a5YLLtY8XgCo3C8fcy1npv7uOAZN3THC8oefEe5aoax/K1K8LbhAzJNX87e0raPj+q1Ny7wsExyHxc8cRvvP+47roPFYqn8RjebWAyMVRutbhMA1rFQnRZkFKvg+8Vmp1kDAKQyzX0UteG1Duu1o33rcal+y5VNrHL7r06wVc2kFoCMYpmVZvfUeRq5MqZ8z6t+4tN1/qoaFEysZAJN1znXeO6xuLdVKflNa/gVYi1Sf6tiO46V+1CYlztvdxy+PvskhRBs751rm66d+8WHB62PR9rN509XIpVSOynuBjAN5S4qf3DgVPba6Xx+8fcagKE173bYOsl/Vi3jaJFMR8MQAKKb/lVJ+zFZ5R1Lzv77EiVn/elmObn6Z671r5WHwsqxJt9WZ+nt5XyzfOixazbpT1UvisrfbxVKrp1G4WwFADDdks1Wi3mUySM/IYQQQgghhBBCCCGEEEIIIZn7BTW/KgvWJIIjAAAAAElFTkSuQmCC\" style=\"height: auto\">\n",
       "              <figcaption style=\"font-size: 0.6em\">#41, w: 16</figcaption>\n",
       "            </figure>\n",
       "        \n",
       "            <figure style=\"margin: 5px !important;\">\n",
       "              <img src=\"data:image/png;base64,iVBORw0KGgoAAAANSUhEUgAAAJYAAACWCAAAAAAZai4+AAADKUlEQVR4nO3a20/bSBTH8d/MOA4mF5wLTaBtIKWthGhhL9r//33bRWrVqm1adiFQyM0JhITEl4n3wV31DzhHCw/n85aHHH3lsSfGGBBCCCGEEEIIIYQQQgghxP9FUb+fy7uuBoAkCqOEoQgA4BC/r8uNZs0FgNmgN5gxFAFgyPL3DvbWAWDwxcweTJYqPX39SxkAuhieMQRlyFlusbblA0BYWacO+4k6KY3nk8ESAIY3C8sQlCFn3V58WBYAoN/J8lhQs1bXJ3d/Z1di/+qOIShD3rfc/NqPfStchmz7lhBCCCGEEEIIIYQQgh31aeBP2nEcDQCpTRLqY0G+Z9b5StVfB4B4Oh7frmjD+LK85vPdKgAsLr4l8weUtX+0DQCzj/GoTxzGl+VWW/ttALhZnheopyxfFtxiNQ8AdZ/+XxZNz/khSmCykUYr6tHiywrDMAQAJLFNU+Iwviy1SrKsZZQQr0Ouc0tBqY2Ckx2jxK6oB4spyyuXvFarXmAZBnBlFVu7j5ovWxUAQEo+s7iy/L1fn1ca2y7LMIApy91sH75aX/OyTxy//uQsYxxTe9LaeQyEsTVOziijyWXkFw4KfqW8ub/bBKYX/UWpsVXyvDx526G/nrHTflpvt33g+1+fbpuHxZJbXCOvAfmFg3Lr6KBabQDL0+M/J8+8vW24OfIq0hex8eKwYnLA4Ps/X8fqamJNTN9PyYfbLdUaGvNZeBpYr5yPgzN9OQnvO0tp19OYn5yOx0H9d+sX+2Fy3p3ed1aqtAL6H95ewN955MV3Vx/nk/Nr6m81eRFTrGw67Lw52fjtyR/Vwfsv7ybhfHbvWUhTaxc3w561pa3NJB10AvJIjiyljCnWH4cbxTiILnujMUMVPUtBGzQPkheoTd+lvc6QfvvAkKXSVQo0jzan18Hw8/j2kmMJGa5EGy2scXaaSff483E3CRcPIgvRdNjztXbcXBScXXIkAQzvb817X52yk3NN93xww5IEMCzitKtHnuPk9KjTi1iSAPqtpC5s+GVHa60WwSgg/yH2H/J9pDbGAApYWWtZNgchhBBCCCGEEEIIIYS4d/8CLrQXV9lb7fUAAAAASUVORK5CYII=\" style=\"height: auto\">\n",
       "              <figcaption style=\"font-size: 0.6em\">#42, w: 16</figcaption>\n",
       "            </figure>\n",
       "        \n",
       "            <figure style=\"margin: 5px !important;\">\n",
       "              <img src=\"data:image/png;base64,iVBORw0KGgoAAAANSUhEUgAAAJYAAACWCAAAAAAZai4+AAADaUlEQVR4nO3aSXPaSBjG8UdqLYhNrI4XBsd2TaUST+Kc5vt/gKnJxTUVjCHYgI2xBGITQhJSDqQmmXO/NXB4fzcd6PoXSI3UaoAxxhhjjDHGGGOMMcYYY/8XRfbzumkYapoCcRiGW5ImAJrk59Xim+Oqvk226dJ9dVckTSDIKl1dX1lxGCevnZZ/MFlK4bePnwtxFCV9zXsiSQIIsox89aSEFLDGdwZJEiCflUar6TjOWcBRJStIkgCCrMXgNqg1Lgso5EyVJAmQz0q8jt+t32jXgC5kZ5ufpLPmmxejntQbdhRtU5IkgOBH3GzmmJ09DnVvFpDNptJZAIDFqFObLrvOhmIwAERZcFppJegPfZLBAKos787NxjN3TTIYIP9XvaNpmppu4zghGY0xxhhjjDHG2P7QLbLshlNUBWmayC6S0DxV/8ssV/LwZ95S8kGWOCtz/v5Mfem0/cPKyl/++UHcq47s4i5xVrnx7pNQH3Oyy5V0WaquC+OkkhOKokhfSHRZmWqtlLnITlrx/Wh1OFditvGumc9q3X/8UXsqu6JEl2WdfvrDXnRbd54/PaAss3bxsdTvDb+4aZIcTpawSjWtoCzHMcFgdC8eFFVoUJMNRRVhVprEESKi5VPCrDgMEEInGZH220ph2jWhHtJ0GoVRDKPc/OD4y+Vacj6lywqCIELm+NqcjAaDjeTrH8pvaxMp1ql2OmmLuXswWbqSJDCP7LeecL7JnlzSWUJou9ebR7apQIgMCkPb3HeWmiuXixoAnFxUTQCAmTe1vWcVm1dnFgCUGsfWjzHl3w5Lbzgont+8LwCAWbR/ZEVb6ale/kd8c3VjA4Ciit3cvF6spd9aS5/yRr56/PNoGwTh9NkL9p2lqIb1y2E0fnYm98PlvrOg/OdvNXi6bbvjp9nebwOTOPjlaN6//dtZ+7JPrwR7bHxvWtotZaSIxoPO14nkkCRZa+ehWM4XCwrWs8Wq/TCiqCLYzPJozavNy7yCRe/b62OXpIog68Hv1W/yZwa8u7/605fZQWSli9DR6+b575XY6Xy5j0KaDS3yp3wErJqDJ2M67PdGJE0gut9ajjpVd94aeBSDAaC6DXS/bit+75luRxLN2qldq1jR7HVCtoGLJktoQkmTmHC7G2OMMcYYY4wxxhhjjO3Td+uUWB6h7GrtAAAAAElFTkSuQmCC\" style=\"height: auto\">\n",
       "              <figcaption style=\"font-size: 0.6em\">#43, w: 16</figcaption>\n",
       "            </figure>\n",
       "        \n",
       "            <figure style=\"margin: 5px !important;\">\n",
       "              <img src=\"data:image/png;base64,iVBORw0KGgoAAAANSUhEUgAAAJYAAACWCAAAAAAZai4+AAADPklEQVR4nO3aS0/bQBSG4c/2xLknTppQSikBgQRIRYj//wu6aaVe1EKbFmgggcS5m/gytrtwWnV/jtoszrMyi4xeJWMbzQwghBBCCCGEEEIIIYQQQoh/xaB+XuXtnAkAOgrCmKEIAKCInzeqrXbDBgBvNHQ9hiIA9Cyz1jnulABg1L182qCsvbOzKgD01PSOIShD/hGLrc6JAwDFB8em96yRs3IlpwEAeFYrWPSeNZM8gCpkF8W8Rb2t/xqVOkCKZH2RUof6CzUrTcJVdrVcRQk55zfq3EK4dAd1AHicrtiepuSsxHvo2lUAuL8ZBwxBGWpWOr9RoyIAjG8GPkNQhnrzmJVGo6YAYDUbz1YMRQDoWbAslT0YkljHfHNeCCGEEEIIIYQQ4h9gXO5USpkAkMZaa+Jg5NXAP/KNplMCgGg+Hi+Iazd8WcXto/0mAKx637S3QVmn5zsAsPwUjR6Ig/Fl2c290wMAmPk/y9Qpy5cFu9LMA0DLKZFHJW8X/BFqZJsrpmUa5CVZes9aEATZAriOYvKOBl+Wkegsyw81eWmXZ24ZBox6WWXfkY4T8vYPS5Yq16ql3U4245FTJvndwZKVa+/vb7X2dooAgMJ6T52CJctun1wcVqr1LMtS9DuRJcuqvTw+sw0r+5I47kSmKW9ayjJNA0ms9dRdhtQBWbK80c3nuOI4FSucuJPJVZ/6pubJCnoF72rr6Dhv+f2rH+O72/lGZOEhuC/v+852wR98fOcuZvPNmFvpZGqEnYVOg9H396M0Tv73t2XY+YJtaK3jUl5Zhn6aDjm2humHWbZftFTgB9HuQbsMM42p/8bzZDmHr48Kge9HzcMdBdNUNsfOMP2g1O7ri2oYhXHBaQI6sfIbkZUrN7ac9R9pNPFiloM25AMH4dLtB5UyALiTZXewYDmjQc5a/Pzw1Hp1WAe866+Pd91xtAlZybTrddvnuTNgePnmdjYcbUbWPBjY7fT5KyfpX739poNwIx4QaRgCi93bnpr0bq8HHEkA08tnOeg+c+eXvSnHYAC43onul7j5dN3nO5HEs5BUbzWL0Ww4ZjvAxZNlKctIEx1znsMTQgghhBBCCCGEEEKI/+cXv9UutyPUqUwAAAAASUVORK5CYII=\" style=\"height: auto\">\n",
       "              <figcaption style=\"font-size: 0.6em\">#44, w: 16</figcaption>\n",
       "            </figure>\n",
       "        \n",
       "            <figure style=\"margin: 5px !important;\">\n",
       "              <img src=\"data:image/png;base64,iVBORw0KGgoAAAANSUhEUgAAAJYAAACWCAAAAAAZai4+AAADg0lEQVR4nO3azXPaRhzG8UerV14ECGPcxGCBE4+d1HYnk04u/f9PaQ9tM5MX28RgzEAAGSwBllhJPRC7nVx3p+jw+1zgws530LIgdgFCCCGEEEIIIYQQQgghhPxfFNHXa6ahMwDgURimEooAAJrg6xW7tusYAOCPh98yk8VK7rGbB4DRZz5JJBQBkJF1cHZmA0BPmXR9CUUAJFzEXM09qQBAbtypZSdLz1ccAMAz9+iuCADxcrFYCc4y0Swwzdo8ybd8awQA4bB3E8ZbzkrxOM+fK3s+AASfNH+y5aw0iVbfnxrNXQ4A83R0yQSHFX63omA6LAOAwhTTAgBu6aroqKJZyWJ0ZdgAwHRts9z7t57ojBe/iPddbZIDAKZpGgOA1XX3XnRdFf1OZEXHKWkAoDDGFABYzyeeaJdoFlRVUx8H2TymMeeCH0RCCCGEEEIIIdsifJ/4w3AKU5CmybZv9n9gOtUilvNZIHhXLTnLcl/ts9HVxTJbWcXDd6/VSzYZCI4jOctpHJ+rrFfY+t9uT1RN14zn1bxoEQCZWVa9Xs0dFMZ8fXUrOuMlZhUOzg6LenQxW4yvp9nJyjfO31SmHy7+unsIMvRu6aVnbYcp4y/TFMJbUvKy4jC4wyKxKnG8XvNt72I8WQ3+Dm0eNpVgPhp5mckKOuFlrl4/Oo1uPvBZZlb5VX+iG6e/uS/xcdXNznLK+RJ6Iy7U2dg2RH+YSPzyyRVMs6bd32I4E960lpel7LZ+ytfN/reo/3WenXXLbL59XUq8zsCfD73sZJUPfnnnjN733ns8jLJxEVVNY/tNt21xNrsJJAwoJyu/s2O3DusW2L+7nkLkZJXaR/t7Rw4QrVNVxjaUnCznxa/HdtUGlmtmRhIGlJJV3Gu9OjdUFfyBK4aMEcXPQZimUXObjRIAKOI/aTaEs4q79Z3az+06AEA1dCblhlj4jE3ZPWnvNDanfwBDE97UByAhy26enlftioyW/5Bw9Kd1Usb3ObW+X62lzC7hLMOuloHA81MAvDP0peyeCy8QWs4GMPjSTwDEtx1vLR4lIUtRVWDe+f0jB5DMJ9NMZKUJj4BR588/OICURyHPQhaihXeX9HvXNzJqnogf/Rl8CuPP3amUmifCF3F2hW4ykHdYcUP46I9ddQqpP508SMl5JOHoj8qQ8FjakVNCCCGEEEIIIYQQQgjZvn8AURk5+O+kyJAAAAAASUVORK5CYII=\" style=\"height: auto\">\n",
       "              <figcaption style=\"font-size: 0.6em\">#45, w: 16</figcaption>\n",
       "            </figure>\n",
       "        \n",
       "            <figure style=\"margin: 5px !important;\">\n",
       "              <img src=\"data:image/png;base64,iVBORw0KGgoAAAANSUhEUgAAAJYAAACWCAAAAAAZai4+AAADe0lEQVR4nO3aW0/bSBjG8WfGY8dxDnY2oRBKSYtKm1Vb7Yrv/zUqddUWCIE2Ieezj+O9SFm0V1t1Xi2+eH835IKM/jjD2J4YYIwxxhhjjDHGGGOMMcbY/0WYvl+VHFsCQBpHUU5QBABQhu8XtdZBwwGA1WhwX5gsWe+87XgAMPwrHWuCIgAUWacfPtQA4EaMeyuCIgAEH2K51ekGAFAeXbaKk2V7QQMA0O6cz6oAkG03m53hLDPNglTu/oX3cuUOASAa3PSj7ImzcjzM82NxuAKA9Se1Gj9xVq7j3Y+XzouDFAAW+fCLNBzW+GjF68nABwAhRckFgNS1LdNRTbP0ZvjVqQGAtNV+uV/dTU1nvPmHuOypcRkApFJKAsDuurc0XVdNz4my2mjUFQAIKaUAgGQxnpp2mWbBspT1MMj+Z56lqeE/ImOMMcYYY4yxp2J8n/g4khBC5Lkm2T813hr5h1P3q1a0mJPsCNJlec/Pjp351eeiZZ388XvluzO5pRiMLqt0+ObC7y2+uiHBYHRZqtI8LusXJyejLE1T08FIkgBACKlQb7/djJbT6cpwI4kuK0/C0HaO3lfGt1/STWGydLRd19Dstmcfk/HQcDDCrCQMIfyanof9iukqTZcFQEAIiZbvmX8JQZEDABCWXdoPaQlhvCVr3vODsGwHAJAkmfGJkS4LyPcxYZwaf69Il6Wj9TzTeQ7zY0U55Tfjm09bz/edkusY/7F0WbObanzdfu065YprPCpdVnyrR42ufVRD2bEKtG4t4oGXts8PkT9M/l9HkiUspaSOd7tZq3/XtKbrxHREkiwVtIJyNBnMMel9TOX1t7XpCkGSZT97cxZsruxtvO6VvsvR5bwYWQfdi/Yy2N4Pw/7ms9jO54WYWyo4fdeZh5fVYXw/kdA6K8TRglNveXbgKWhterm8R3LyCdPcgq0k3b0wSVYUxTEIrhsekWQJnUQIo4wui2BuCQQVpfMkLVCWKNeqlearZ57xBem/GD+/FZx22q3XLxtQgnD7xzjLP7voNluHDqCNT9CPjLOqR+d/NkoWEIZJcbIgLMd1skTnw+mGZikFCJ6xCad9v5rGib67msQkSQDBE0mLa3vspmmqp73B7r9//ycZ32fWGr/5Smud75azJcXWFgCSR38sKYAceZZpsudOGWOMMcYYY4wxxhhj7En9DV9NRyeghGgLAAAAAElFTkSuQmCC\" style=\"height: auto\">\n",
       "              <figcaption style=\"font-size: 0.6em\">#46, w: 16</figcaption>\n",
       "            </figure>\n",
       "        \n",
       "            <figure style=\"margin: 5px !important;\">\n",
       "              <img src=\"data:image/png;base64,iVBORw0KGgoAAAANSUhEUgAAAJYAAACWCAAAAAAZai4+AAADZElEQVR4nO3a2VLjRhiG4U9qWZuNF1mOGYNjJkCYKRImJLn/S8hBYJIpMoABL4wXyba8aG3lYEi4gO6KXan/Oeevt0TTNuoGCCGEEEIIIYQQQgghhBDyX1FEf75g6LoKAGkUxlwzTR1JFCa52FhNMEstN/frOgAEw/44tlttV/GHg2m25azq8fmxDQDPV8k8Kb799UR9/D30t5yl7LV//KkMAPebRw32wcUl+xR0RdeGcJZeqr+pAsC6aqrQSm6LTcv6trPyZOWPQgCYLCKOdO19YdMgFlzx4llB7zosAsDw1kux6V+F6uPDYttZfHa7vtMBYDEYJfnqPrtV/IHHBccK71u6Yb7sW+Em4gXT1pGEG+HfIiGEEEIIIYQQQgghRDbRt4GvVE3TVADIszRNBYeJvjt9ZdScqg0AycLzAsGXp/KyrP2TIwcANr3P6WqHst5/aAHA8mMy+SI4TF6W7nz7/i0AzMOn4rZPMV4pRrlhAIBbsYWnquI9L+K8YH8dyRRF9GnJy4qSl2WeJBkXPS2Ql6XweAMACONU9GxFUpaiqqyshV7GeQ7xZyVryRcrZb1ZnH2amTXH+ucQSIScrPJJp2qpzyOrcXZuWUVTeKqcrPrZz2/i7h/d5Eg5bMDS2U7sW0bz9LLjL5Z/+auOD+TIt33MCaZpzD1sd5qWY+bxZj4ZMW+ZiE4VvnCw57iVxnm7ilLj6J1bVwYF3h0sRXcICfcgvj+qdw4NqI0fCrPMeOpF47vZ1rPKncuLWqkMwL04WA8eH3qL9Wy27bWlWM7BcVVRAFRKneTjeHztcZ5t+2khi9YBY5rGFMZg1bT1JBIdKSGLL3rXUa3q1isKANgFRfRrPAAJWf5NcON8904rAwBUpukb8SrxrHk41Otzq8UZAES5ZuxCVh7HAaL2MgGQI/HXGZNQJeFGkmka9f2aXeCrYLW6ew4Eb27JyVIrrdY39ePTBuA99Kb9O0/4g0dKVu30w5njNl0k4z+v+vPJdDey9g7Pf6npOrAc3vx2n8bRTmwQUDXTNnnI80H/6eFZRhIg4S8x9J4qpTRJ097nwUxGEQAZ+1a3MDGzNM0m9yMZHztfCf+fuVdzKhrnPN/4nvD3mX8Jv99ijKkKkCPPsozuuBFCCCGEEEIIIYQQQv4f/gZniFSiqK11eQAAAABJRU5ErkJggg==\" style=\"height: auto\">\n",
       "              <figcaption style=\"font-size: 0.6em\">#47, w: 16</figcaption>\n",
       "            </figure>\n",
       "        \n",
       "            <figure style=\"margin: 5px !important;\">\n",
       "              <img src=\"data:image/png;base64,iVBORw0KGgoAAAANSUhEUgAAAJYAAACWCAAAAAAZai4+AAADk0lEQVR4nO3aSW/bRhiH8f9wE7VR1OYosmV5rdOkDtI2QL//pYcil8Z2mwSRrcWSLEsUJVELqeHSQ1oY8HWIUCje312DB9aAot8ZgBBCCCGEEEIIIYQQQggh3wsT/bya0jQJAHzP3YaKrmvgnssjsWUVwSzJeFErawDgDPvjbabeqDB7OLCChLPM0zenGQB4uOJznj1+fyZ1P7p2wlks37h8ZwDA3aarILP/9mf5k9MW3RvCWVqu/NIEgLWpS1BylbpsGVrSWRFf2Y8uAEwWXgh/PR3JlrMV3PHiWc79tZsFgGFr6mPTv3KlbmeRdFY4a61vNQBYDB55tLoLWsweTEPBZYWfW1pK//e55W68UNUzGri7Ef4WCSGEEEIIIYQQQr4D0dHI8+WYxBCFUdKDpGc008ywzWK+SnjS/Ezq4KwmTdp3m4RHus/kmr+eyx3ZHu1WVuno8lLOPX5OeqT7RFIUJXXQaOxjBybNT1JmqWi8Pq4BuirvTla6dna01zgxgTAUnpzGmfXqXcPYk4GVK7jh48zSSs3Xx7IMrO1l4scFT5huVlPYLlZ2Z7LZnaxtpGjAw21vettZiB4XxJgVRCGczoeriT2e7U4WYwiw6P/9x4TzHdlbDIyZOQ3Rdj2fTGJYMJ6sTKGQbR5VMkw3qge6l/xZ9TfG6dnL2sW+jkLjUrLGo1HSh8LfFM9/uzCrL4BME3Xr640334UsrdL88W1aA4Bq9mSadfqJ/ybKiiKVq4W0Gm2CEEoqny+MSnrSWVK+XMoZ+9H9Fpz7KO/XoRWzauJZ5un5ni67f/LA54F0+ouZQTolCa4qfuHAPHl/Ig1urtt+GIbKtNDMIIb/p4T/Wtn6Dz+F0c3wxo8A1exPDth66yf+lFezJQPVopHjYExR3Mc2G9he0llMklWgcvQGgSTLSkXpO7zXTfweBELfB4pn/kGkqKrkrruzld1L/g0i2CwB+TD3CoqqRO2Pvb9m3mqZdFa0XU5skxkGAIBbfPhlKrgkEEPWetzOlwtlFYDnLIejSRxV4ndsnG7aqRxf1AC/3R7ftqw4qsSz5p11p+rka8Do+kPXGsx3Iitabi21mjo8Loa969+/cs/djSzOV1gd9vqq3evcDmJpQkzvW8uHVtlafL6fxbEYgLjeTq1PQWndHnqxLAbENTstVEppPh9PhWcP/4knS1ZkFoV+QHfcCCGEEEIIIYQQQggh/w//AAfGeWGquIp9AAAAAElFTkSuQmCC\" style=\"height: auto\">\n",
       "              <figcaption style=\"font-size: 0.6em\">#48, w: 16</figcaption>\n",
       "            </figure>\n",
       "        \n",
       "            <figure style=\"margin: 5px !important;\">\n",
       "              <img src=\"data:image/png;base64,iVBORw0KGgoAAAANSUhEUgAAAJYAAACWCAAAAAAZai4+AAAD5UlEQVR4nO3aSW/jNhiA4Y8U5UXel+zjOJjs7SyHQfP/T0XRAoNpmkyz2I5je+zYkrVGlmSJUg8B0h9AYZTD99xNvNBCGSQBEEIIIYQQQgghhBBCCCH0sxDR37NcXqZAgES+twZaKOYhDPwwERuWiWaV2xvNHJUkak9GGkjb3S1qzKZLnm0WrXVPDxSWk+nsq6OB/O7ijI0ufSPrrMr+x481KSfTgdPvJcq7TxfsxhmKPhvCN1HZODivAwFYbTTrRnNjd09aVnOZZ+XK7QZA5AQG2Tp77jT5Mlk6a8EnXjgLpGIZAEYPhuV22nGpMbeD0aOdeRZlDED//ueEbnb3ip46nNnGVI8zzkpiHgJMr3/v1X/7/KE5NYZ/LUPfyzoLQle3o8mw/2gd8kKJeU99R3TIFLJid3oXRTcTA5zluGeMx2oaVeI30RxIo3j4wwO+uI4r6o2WRpX41TL7Rjk25xxA/Xuad1U9lSzReQ8kxijwKEyIJDMaR2GURhZCCCGEEEIIIYTQzyC8NPKKMplRAEgSHoWCy/Liq4GvCq12S4njOA4t3XAEVynTy1L2zo7aPIz4atTn7pvJKu788qXD1yG3r8PlXHCw9LLkymb3fZzEiRlMlKx3Mf4Xes+mkVcYbLUredHB0ssyx9cw3jzYBagq7O1cLWcQTlqnfrUMOZmKDpZeFiyehyWz1i0Dj0W3fFLKIkBIAp5nzxeLbWp5onvCKWUp9WopDtdrqPhjkgxm7tvIqh0ebSeB53MluR+sF/dG5ltRAADQOLk4oYEfrPVZf+p45tvIyrU6558kHkXrW0u9MhLOM89ijNHWZq0gyxIBsKqMh3GS+ZtIqxvtSq0jzUih2lKgsXfsac+2LbrPKZzVOD3bK8Srq3+VzsmRXD7gO/p48BBknVU/vDihw6//aJVfaXOruN84N66ouRAcVvjAQbG9fxxr9m2vLnWdLdZsgPn8UMz8m8gD1450bb4KnZAA4WHk+qHoiyi++2oPvxnhVV+DkBYUAGuu6bcz0T+n4lnL71YjmvQ4MKVShuTp8lZ7GpmZZxn+hMUrC6BaLcngTr79oa7czK9WEgQAAIRAu0zc3GJ8f7UUHDKNLCIXCnmJybK0U3OH08nDLJWtffF5a2d3s8BkWcpXdDtQ71ThD08qWY3jz6dlSZKIs/gxUd0nM42qFE67dT58qRECZGzNLx+jl0ct8yygrKCUAACor41m4kEvhN9EXx/XqgAAj6OFlULQC+F5yxrKWhEAQL2bp3MDAcQXkmil0awxAICVrgofcnslfvRHkigBAIg556lMDgghhBBCCCGEEEIIIZS5/wA4d8s5WX+ZcwAAAABJRU5ErkJggg==\" style=\"height: auto\">\n",
       "              <figcaption style=\"font-size: 0.6em\">#49, w: 16</figcaption>\n",
       "            </figure>\n",
       "        \n",
       "            <figure style=\"margin: 5px !important;\">\n",
       "              <img src=\"data:image/png;base64,iVBORw0KGgoAAAANSUhEUgAAAJYAAACWCAAAAAAZai4+AAAD/UlEQVR4nO3ax3PbRhQG8G8Li0gYFFsUWhRJyWqWVewccsn/n8nkkDKJrUKxiKIoUyxgBQGi5ZDJeEbXxQQ8vN8db77BLnYedhcghBBCCCGEEEIIIYQQQsj/hak+L+OJGAcDcy3LBk8m43Bt2wnUykrVWFqhmItzIfjsqTMAL+zl+azfH0cci2eqJ7WUjMf48++LAWTp46HoXdsTP+JYbyoXFxkRj/HmvMH9VPnqk6xbXa5YVnkQU8Xa+20wwCzmMkahfHgm3PuU6pRVjhXXClnAndtGkD9eHbwrp6AnZdSxILY0AJ2WYcy+z8ZK5yVAcNVU6rG4lMD4y6/dYPttpaiXNWC9Vpzw6rEC33OA3uef77XL49MDuQVgaqouW+pvy1mOZ2633XjQdt1kOnB8fzKYrVWrqsbyl707173pGlgYvVbgOWt3Xu8vVUdReRAnTdHx208rYHQXa/iO464eO7OoB9GfNAzNn/Q9wLgepQPP952ZMVN9W8qfspCSw3OdAFJKEQAIPNfzVMsSQgghhBBCCImG8n/iq3KMMwSBH/Vf9SuJbE6DOZ0sIt47fSVZfb/L+426uVmxtIMfz8Q9H/YU64QcK1s+uRS8k456p/kbHouJeCmXUk0EIMxYyXwxk6wl+o7bfFKd8SHGSpVPK+lkcDs3h+3R5sTa2r0816e39c+T9WK+ObES+f3z7U57XB8hwAYtp4k3BVnMZ7Ou67hexCdk36xdSGRrl95wNBhONyaWZVmeQM19O2x88VUnV4iDuF7Ossh9qBkZ83kzllPGwHRhjnSGVDqe02KRn5ABANIZPV7KmK0lE0LOe4a1GV+ifljdfrO1+EswMLZqN6ebsW7lT34oYdDuTHzP852pYWxErMTO0afq8s+/b9q+5/m+53uRxxJCisLuXnVnmVw9vwBcsED5lFP9ZD+9ndWLp5UiUsw2AX0nIzagaeZ6dX+vcLTLAdfxkTi8qIn+/W3UTTPTK1cfcoUiYJoOR/74pytRF4Oom2ae3jm6zEoJjKYWmLbz7kz4zcjvQSCuF0vAarFqPs9cBI5lilX0J/sslsoAwVOj370ZrGH1bxhvdaNvA3k8Dkzrv9yNn1+cYNkWHTZ8iH45DXwPGLb++G1l2S6WD8YWs6JvmgPXmtn+cDjoOwBg20PFgv9SjmW+tCQbBPmqY69Wytcy/qN84WDaSn5NBNrHvdXL4+PmxJrcz3W9Uj2OzW/EeBJGJCCEQZzZfZmXR8elCXtMhhIJCCHWej3HYt9kKTshQ9l+ABBSv7V46dTt+aMR2tQKqTsdXqNutrtmKMWAsPZOs98VUu5kOAotVzixhBQ88DzlXpkQQgghhBBCCCGEEEI2wz8ZYssaxYll0AAAAABJRU5ErkJggg==\" style=\"height: auto\">\n",
       "              <figcaption style=\"font-size: 0.6em\">#50, w: 16</figcaption>\n",
       "            </figure>\n",
       "        \n",
       "            <figure style=\"margin: 5px !important;\">\n",
       "              <img src=\"data:image/png;base64,iVBORw0KGgoAAAANSUhEUgAAAJYAAACWCAAAAAAZai4+AAAD50lEQVR4nO2azVPiSBTAXyedYEAEEQR30NLBqZkptVz3/7/unnanamcpXUdB+RgECQQIMOl0p3sPflz30F1rauv9TuGQV7/qvHqvm34ACIIgCIIgCIIgCIIgCIIgCIL8VxDd952M61pKPcfiMYulAS2q+b61Va3tOIlMFNi2BcFo5LM0aBUbJw1PxEIS6jiqeynnadAi+f2zn/OCc0mo48ir6MExYKWv5W7u7BXhObe4X9iwDFhpaym+Ch5FzgMA4MvVJGQmMl5fK+w3o3L9fR4g6XT8zl0g0qAlZ611u3JOTwBGzT960+FjnAqtBRu5FVmpF6Df/LUVs4inQUsxtoD5u+53J+jdtbomlAD0tQAAIBy2ysHi+ntgIhgAGNIC/1qV1neDyEgwAFNas2+TLA/GRmoDAOi36icopZYSQigj0RAEQRAEQRAE+XfM7OVfo2Vy2QzE61Wkuas3c/J5gRQP9nfItNd5TPQCmdWyih9+OSKdL6GfKi2S3z87sbb8G93cMKsF1MtvW1tZmi4tHo46Wavr/9A9xxperdGV3bUevk11j/1mCwRAtVqwVsFkoellWgscm6gk0V0tcx/RopRaMkmkUlL7LxJzWpntUtETnAuxXC7XqanyXu34sJRwkUSDTjdKTTn1ap/Pf1JSquWlvRinRsstHXw+AgCYyeGN7lWGwbrlbpYyAADVUs7VjWXkhgYAAGIB9tOT51q6dcecFmPs9cpOuxqa0yJSPGtFXDPhTeUWIUAKOapAgVKz2ZqnolXT3FY+Wz/a3QQ+n4fBzVC3mprRciqHh7u77w+3Ierfdqf99iwVPdGtfLpoFEplB1bdL1/9cK67gTCjZW+9+3iWcQnAfHDz1ZdSpkILiGVTiKSMx/NISKV/x2JEa+V3rhIiuOBjtnsaruezZSq2gbXjxh4kQkgv5xE2ur3ua95Ym/mIIzbIESmVdXzx8UDd2OOBZkAzWiqYEaIAnAKpfSKynX3rAxlxMxsuEUIkAIQ4nsXX5If+9I/+6E9tr0xZxDixbJvWMsNY3PXDty4QVrFxerzBoogT6jgWZ+0/V34neGstkq+fXuRjHieEOlTdN1tXs2j55qtFnNz2bvHlF5+w/uVUMySAgfGMeDl5YJs5AAAWLh9GvgkrA6M/vb/W5f1GAUDc34/brYkJKxOjP6tW5dw5Axg1f+9OBvN0aC3Y0K2o6n5R9pq/3XJmZnJEP7digLDe7dOg12nr9pxXjDSf5bC1M1lc92cmggGAqZ44+Tspre8fTMxQPmFmY1Molzw+H0+1D2IvmNGyqU2UFAmO/iAIgiAIgiAIgiAIgiAI8v/gHxSPwz83G7IFAAAAAElFTkSuQmCC\" style=\"height: auto\">\n",
       "              <figcaption style=\"font-size: 0.6em\">#51, w: 16</figcaption>\n",
       "            </figure>\n",
       "        \n",
       "            <figure style=\"margin: 5px !important;\">\n",
       "              <img src=\"data:image/png;base64,iVBORw0KGgoAAAANSUhEUgAAAJYAAACWCAAAAAAZai4+AAADVElEQVR4nO3azXPaRhzG8UfSCkWovEkQHAdDHDt1Mx4ncf7/U3tvM506jV+AOAYHgyJeJEBIq1UP7mR6323g8PvctfMdsaMVqwUIIYQQQgghhBBCCCGEEPKjaLLXm1ahoOc5AGhanm7iREEVmOT1erm555mZyHIYhpEH98NvO5FVPTo9snnChWaapuj/udyJLK10cPauxNNU6Mw0s1p028t3Iavwk/esise5hdR/Wq8FO5CVp8vpmDs2AKyXcWS1wlkchSvJWyadFQ7+iuutlyUgvrkLF9lRM/Jv+3G23Swx6656jbfsFBj+8SFw2of1tG/NHradtdg8FBqi0arw2w+/+u1a40yzR3/rksNK/4ibzQLz51+G5uSudzPXZ9kTZhdkq6SzAADhqFufBtejOeYPtx774q9lHxJKsuBf5m50NQHiwe8LY9idiZ3Iml19K26CKZAOsq4W+lPZLNml+hFjTBdZyqEz04DgnCsZlhBCCCGEEEIIIeT/pWZrBAB0xpgOAHkmvzWiZiMJAKyaWy0CQLoIglByJ0ldlr13/MIFgPXghi93KOv1230AiC5S/0FyMHVZBbf9+hAA5vGdIztl1WVpVrlhAUC9UpQeVXqr+rskN4uPQxqaJnu31GVt0n+neZpmQnYDXF2WJpI1ACBOuOxGs6IsTdeNMouDTIgc8vdK1ZR3KuVC05l9mlmVmqMzQ3rtUJNVPu5UbX00tt3jE9sw2W5884F38v5Z8vnj56TNG3tGwdyNLKv56rwzXUTXQdQKhWHo2/8RDcaMeuug07Q9GzwT0OSfWgoOHJTceqVxelBF6emxH3Q67hPo8l0KzkH8/MJr71vQ9s7Ly8Yv+0re4eRPjXTO39ScMoDGm8PM9lyA83zbS7Vmu8+PqhoAOMUcugaso5hv/etrlsbLAmMMyDnngvNsPgzibWeJ5ddLzfWaHrAeT8IsTXh0PQy3njXr8UH95KymY/rpYiQ4F/H4frHtb9VizsfFxrrWLmF88Vs/z/M8W69W287KV6sJPO/VxJne9z7eSI72nZLFJ/ja31/Ou0NfxWAAFGXlkyvWW14PVyoGA6DsHMTl3El82fM+/6Hmz75lWUwk8Ub6ZZkQQgghhBBCCCGEEEIIIT/ePyjvY6ZmvJvNAAAAAElFTkSuQmCC\" style=\"height: auto\">\n",
       "              <figcaption style=\"font-size: 0.6em\">#52, w: 16</figcaption>\n",
       "            </figure>\n",
       "        \n",
       "            <figure style=\"margin: 5px !important;\">\n",
       "              <img src=\"data:image/png;base64,iVBORw0KGgoAAAANSUhEUgAAAJYAAACWCAAAAAAZai4+AAADHElEQVR4nO3a72/SQBzH8c9drwdDqhtlwtzYcJuJzmBM/P//B2PmAzdlm4qOjR+jMAv0eucDFvWRMblvZh98X49KApd36JWW9gDGGGOMMcYYY4wxxhhjjN0X4fv5sKS1dHAAAGeWi8z6V0F5fl4+bDTj0ObWAoCdDK5HyyJkrR+8PFgzJssBIO+d2mkRskTU6ryOjDEGAMxJft0jqPLP0tV4ax13cyszX6LAuwn+WS67HV9llQerQ0fXHmjpH0WQNf16PI+3djdXL8ua5MvyzrI3n3506y9MVAYAOOefBBBkJYu+rv+oNtoAgNuFIQnz3omLRYKbuN2uhQCyQTKn+DX1zgIAzPrnj60CYD72kpxiRJIsjD/J7wGA/PJsmFEM6HtOXIniOJIA7O14nFB00WQFSkkBwNnc5EQHI2OMMcYYY4yx/4Hmf+Lv4YQUcNb7xg3Nn/1f9Pp6RaTJ5NazizirtHPYlIPzs9TzBglxVnXvzbPgIhj3i5VVa3c6QfXqg++UpcuSKlSlVqu1jUGki5NVjuvxw+f7dUAKUZysyvbzw0bzaQTMl943k+iy1raO3uyuVUuYz1LjOxhdVhg93tsHBOZz/4dkdFlZOrsZKR0G/jOLMuvmy3t83mg0HslQeT9gocuadrOvtf1XOgp0WKAsXM3OK8Pqrg1C5b0XabIEhHBI02Rnljkp/ScXSZaqVKtlZzIjmxsVDVmQKa9qre06jMnkwUFdQvhfxZFkhfFhpy1tbsVmqw5Y6wpx8lEbe50jBQeUKiFMuijGySdY22g+WW3auRlfJd4P92mORBmW77ZG/fHo5PvM9+xDk+Xc3dVocn5yMex9ToqRZbO73TY4e3s8nE2SQswtZ80yCwGYybfTd0NrbTG+LSGkBACRp5NrisUsJIsphAxLAQAEOnDel4AAURakClcbJa01yYAUg/yxLCPQ5b++8R+RZLksTZbOObecLmwhlv4AAPLpZVcpAKZ7OS3OOohs1A36AYC81x2RrIOgyRqejh9JAHYyKNDyDBmWtBIgXLLIGGOMMcYYY4wxxhhjjLH78xPl0SdA6r7AXwAAAABJRU5ErkJggg==\" style=\"height: auto\">\n",
       "              <figcaption style=\"font-size: 0.6em\">#53, w: 16</figcaption>\n",
       "            </figure>\n",
       "        \n",
       "            <figure style=\"margin: 5px !important;\">\n",
       "              <img src=\"data:image/png;base64,iVBORw0KGgoAAAANSUhEUgAAAJYAAACWCAAAAAAZai4+AAADlklEQVR4nO3azW/iRhjH8d/4DQPmJSGEBTYRm6iqttlVt+2h//+pUlWp0ioqu1VIeA8QsHk3tseeHuiLcp5R8eH53Djw6Cv8Nh4BEEIIIYQQQgghhBBCCCHk/8Jkv29mLEsTEAAAEYVBKB8FGJLf14q1NxUziZMEABJvOklHVvn27jbLeRQDAO+3/aV8lHwWK1x9/FTgnHMA4O3guaegSj7Lcir1Mv4+tyI+6py70lHyWSLaebMolz9eOlbz3be7+X6388WJszbD+0Olfl09frz8JijPJ/1BEJ82K1l29o8X73nBBgDorcz14ouxmZ86ax1MrYu9U2sdPxezb10xfdAkx0ofxCBYY1lptc5NAGCaZudtU5ecKp0FANhOu5eJAQC6aRrbkSt7xqvJgtfRnnUA0A3DOHR760RyoOwz8ahQqRQ0AGCapvHV3JXtUpOlG4b2zyQmYs4lL0RCCCGEEEIIIaei5j3xv3FMYxCJkH3ZV5vFcqVilvnr1e7E226vsVKrVWXz7pN/4v2t17TSzY83rKt7s1RlMad594E5L19lzw21WcIqvWnAK9uyWbK7ia/x2MgBBdtIVxbCGICuS1/firPiKAQiLrsZqDorI/YxVvsoHXunAKDl8nambrgd0X1JyZYuAGi1ViNfsXvDYNRZyh5FdVlm46e7Ep8+DjbrmZuerFzju5/PJ8vRby4Pw3QcRMbALqrV6tmW7RdzBQOVZBn5omNdnYWTzTR0Gtno4Mv+XEoWNtlm622xWHZsFqy8+c57Hi3S8Kg2L99/rCWz3tgvNlrfR/3PvpeGLOP89oer1Xb8q9sqNT+w9vYpFSsIPVdp1uzMZrCxw+I11mfpWEEw3coig8MG28QGCtl0rCAERIKYcyAWGmDo0lPVPKrj8IAgZoCpxelZQYiYh+B6rgRHO8RY+zwdd3kRx0J36jeLurnqY7hIyQoi4VFiXt7pKzs/OYSD/iYVWSKOImHVPzX95WZwv3OHXjpWEAnnwqoWbqKHz4O2F+x26cgSSQItm0U0jSZ/puGvP0e6aZngB38/mc09FQOVZDEz6wDbwXDx9OjKnu0AVGUZdg5w//h94I6XKgaqWjQzgE/avzxEwUHJPCVZSbhd5L1R/3GsYhqgKIt7vfv56utwqWIYAEVZ0cuXQ2nffQ5UDAOgKmsWj+1o9SK9cPiXklcMpus6EwmPldwcCCGEEEIIIYQQQggh5OT+ApeKiz04mPaKAAAAAElFTkSuQmCC\" style=\"height: auto\">\n",
       "              <figcaption style=\"font-size: 0.6em\">#54, w: 16</figcaption>\n",
       "            </figure>\n",
       "        \n",
       "            <figure style=\"margin: 5px !important;\">\n",
       "              <img src=\"data:image/png;base64,iVBORw0KGgoAAAANSUhEUgAAAJYAAACWCAAAAAAZai4+AAADrklEQVR4nO3a71PiRhjA8Wc3m0BCkKDQnopVvPbubOv0x7T//7veTF+1c3eWO05BEA0GElARkmx2+8IZ7w/YZ9q8eD7vfeY7IVlhswCEEEIIIYQQQgghhBBCCPmvMNO/F07F5sCAgdagZZrlCiFLmGb5rfa2wy2L66Io1DKKkqwEWbxx+PrIE47NdZ7n+eSTfihFVv2b09OG9ZQls4/FfIJQZf4heu2jk+DpFtWQy3HdQqgyz3L8VhNA3qei5oLTblR5GbLAcn0AGA0S7+C7KtRrtumzDQAIWVwIgPjsz6vgZ+8lCIFysYyztCpygOsPf3xuQedQpFLpMmRBvorv5NXw/HLRGU/a8/sUYzU1zlKr609S9q4SWIb97e3paFmUIUsvLqyRGk7WANGZ9JcXtxirqfnVWpwnvlpMC4Ckd1vZJPMcI8v4cbaE4FDIXIOwLa4KKVHueUIIIYQQQggh/w+UbZ+nSYwxpnVJtkaeOVsN30qXi3uMYXhZ3v7xnrMY9MuW1fnppHbjzK8whuFlVb5+9Wvjcnle3SAMw8sS3s6eqw4ODqIil9J0GEoSAABjTEBw8KOMFrPZ0nBPEC9L5Zu17ez90poPe/K+PFnp6mELWtXDJFiHpvvNeFlaphsAz20HUVA1XaURr5YGBirPZHK/Md4RxMtKFbdgHYWzpD++K09Wri2hHy//7s3nYWK6OY+XZdmOgPXNu7ezPDN+Z4CTxYCxoO4KKB6T6QxhIEqW8Pyae9Rpusxt7nbr6eMmNby5cLK2O/vt3TcvXGh2f/Nnt1eTmeErFpQse+fb026w9xVApVvtxr2/HuMyZIng8PR713UBoFE7jHl0UYpV3vJ29vYBsqzg3BIV2zL+Ko6SxWzXB1hNwgdRqTqry9m6HMsptyyA8P37W7vqVrLx0PR7DU6WBlCwDs/eDkWlYqu7ZFGKLNC60JtlOOhzxjmoQpUiSynNGHdcfytLUd5y4mRtsoJB/cWb1W4c3qwxJqJkpVmugXfynWj0wepjTMRZIJTMAILX+6t/dBxi/H5FyGIQVORdZoPn5XGz5phPRDj6U9uqu41dHdpC2LaKlptSHM/gzeNu2/P4+SUXtq1HFzHKo2ie9er3YxEP+lNlWRySaVSOLH//5Afo9QfvJDCAHGnhQjgo5VSL4i4cY9Q8Mz5js46GTnFxHaPUPDM+Y5N8FmM1GqBstn1hnvVx7utlhPIv5wvzoz+W4FAUEmW5IoQQQgghhBBCCCGEkHL4F4hzjrouw6GIAAAAAElFTkSuQmCC\" style=\"height: auto\">\n",
       "              <figcaption style=\"font-size: 0.6em\">#55, w: 16</figcaption>\n",
       "            </figure>\n",
       "        \n",
       "            <figure style=\"margin: 5px !important;\">\n",
       "              <img src=\"data:image/png;base64,iVBORw0KGgoAAAANSUhEUgAAAJYAAACWCAAAAAAZai4+AAAECElEQVR4nO3ay2/bNhzA8Z8o6mkrfskOajtOmsRJuiXtsALF9v8DPQxomwZIkVfjh2wviRxJjuOnJHKHAht22YXEosPvc7fwBS3SomgAhBBCCCGEEEIIIYQQQgj9XxTRz1Pd0AgooADnwJPVOmYSsqhoVt6tlnWiqoSnacomvh+uM5BFCtuHOzbVNcLjOI6HV/w5E1lO6+SkoP7IStaX6eNQQpX4l2hXd94Uf9yiHOLEc1QJVeJZet4tASTTFc1ZoFcLJslCFqhWHgD6ndDeapvg5DTRuQ0AErIIpQDBtz8GxV/sPaBUymAJZ3GWxgCj8483LjS36SphPAtZEM+Cp2TQ/d6Lmt6w+jhdyVhNhbPYbHSVJBeDECZ31+XyfX+SZiGLR7dqn3WHCwD/W5Kf3D7IWE3FRyv6HuZZdJ8ChBcPxjJ8jGVkCU9nlVICaRJzoJpKWJokUu55hBBCCCGE0H+TsjX/52pGzjZgPZ8tBR/ohbev/6IUW1sVJfB6D4K7RblZpNj+9bXS+zwdZypLcbZOfiYb42vRe0NuFlDLKZENm2Yriy/GfZv0xwvRLazkrOha7Sl/Xgair20kLxBOuZyHWfg4FeySmwVEJQQYS0VHS/Itz4Bz4OJvBCWPllYs5ZTF02SWqVUerJ2DOvE7N4tMLadQ2P/9UO1owV22smq7J++INcqLvgaXl0VM27L2W/UCbFia6MXkZSluq1He2y8DMMaz8+NDN4/fNtx6Dvh8mWbnx8fePHi/qxs6zGfLRPRicrIUBZSK67ouAEAcCw+WpKx8qWDUa8yn1M5TXdeEz6PkZJWO9io5Y/LlqrC969h5U/iqcrIqb35rJt6FFzc+VBywDZKJmWhUd49fR/79p6BdbDeBA7z4TKSUEnezaGt8MfamtDeo0+BZ+NxH+GR/o+o6hRb0xw+Xgyn43XOVdkfPL/28RUqHRw2Tzj9H4WUfYNX9FFD/NnrxrOLehwMyPPtyOQt8ALj76pF5FL30vaVYbqvNpove+ZoBADx3PSULD83pavbEl4zaBtU0Zfk8l3LMKXz6+tQ9DdWAbemKYRnK2Os9ycgSXffUarNRshzT0KlpGdD9enohI0t4tMLlgBaP3v60o2u6xkrzu+E0A1l8tQJYtOzWMQWA+L5g6xKqxGeiZpqG23xVowCL2cyfLDPx9wxSfFWvuYftGsC05z32b4NMzERSar87rNQaOoB3ejYM7/1sZDlbx+9LhgYQds8+duL1KhNZQKhpm2zJ+KDf7YxkJAFImInLwCvkkzhJBjejSEYRAEhYtyZdbWymSZKOOw8rKUkA4qs8cUrlAmWM8UUYCD/P/E38rz+qShQADjxNxTdiCCGEEEIIIYQQQgghlAl/AX44nvwxq41AAAAAAElFTkSuQmCC\" style=\"height: auto\">\n",
       "              <figcaption style=\"font-size: 0.6em\">#56, w: 16</figcaption>\n",
       "            </figure>\n",
       "        \n",
       "            <figure style=\"margin: 5px !important;\">\n",
       "              <img src=\"data:image/png;base64,iVBORw0KGgoAAAANSUhEUgAAAJYAAACWCAAAAAAZai4+AAADtklEQVR4nO2aTXPbNhCGXwIgJVKSRTnW1HVcf4ybyXjaxOmh///WQ3us49pO40iypNr6MEVLjigSIHpQ20wvvWCn1mGfO3eeAQEsdgGAYRiGYRiGYRiGYRiGYRiGYZj/C8/1exVUfAEPHqyF1au8KAm0lKtWfae9HQgphTXGlOl4nOQboCWah6+PIhX4whZFUQyu7WIjtBoHb9405VpL51dmOiCwcv+JUfvoNF5PUYtC3zYkgZW7VlDfaQF6vlK1EEG7WRWboAUZ1gH0PiXRN6+qaNR817UNgEBLKAU8XPzcj99FJ1CKZLCctWxpCmD4/qffd7B/qFa6tJugheLp4VH3Ox+7s/3bQXs6X1Hsps5a5dPwWuvLfoL07sP29n0vNZugZWc3sld2BktgfKHr6c2IYjd1H63Zx6Rezu4NkFyOKlkyLSi0nJezVErA6MJC+VKURmuSOc8wDMMwDMMwzH9DUpp/iVYJowD58vPK8UDvXL7+C6+x97LlJcPB1LFaJNZqnnx/4PXPPz84BqIerYOzU3E177g2SIi1whcHr8RyJ3SdsrRaUFGsEEfOTS6adtTfeEIFQOA7R6XVgi0NYNx7XLRa1mQLYJE59yFo55bN0vu2uJ+tXAPRaumHznkmPvXnri1B4pU4usatGHdmrlq0ORGI21timc4WjpOLWgtKeKUtN2e0VBhWvNXiiSYYSRQACHf3doK0300pgtFpRftvT6LRebFhWuHedz9s9ctRf04QjE7Lj/e/jSu9uEKhRZd8rN+I0YoEyS0GnVZuJRB4JqMIRqdVaAMYXZDcYtBpqXKZY5HDJwnmGkBKJT0A2JaLu+akqO1OS631M2uJWqu1pQBgOxz9Gs7z/R8f55Oxa652rgV2j09ehgBQmrJEpRaJbHD5vus4XM43+1uHZ6cNABhfX3azr9++Piqvi8GtY1j3n/jVyVkTAG5uJxfp/Lh+LLKr5y/I/FqrLQEgDlZJNp7M5mqZO99XO/9ET6j1OxElpcV8+JtSG3BottYUWgGAEZVwlfd/+UNMuslza6HUeVYHgEJU6zMzfLryssWzjxZsadabgfH8ACZJXAMCIEg+npDrdKOUpMtk7t0CVakCAKq+pCsMXLU8T/6zEgkbB66hrDV/5eVCG7oXEBRPf+5jABinS9dzwxfcn/7cfVB1ABh2piTPawAQbKePPTmpAkDSu1sSCK1x7ibW4rihACBLZynJOR4gKPaFlOuVaI1xbj0wDMMwDMMwDMMwDMMwDMNsBn8Ce6h1vGHz29sAAAAASUVORK5CYII=\" style=\"height: auto\">\n",
       "              <figcaption style=\"font-size: 0.6em\">#57, w: 16</figcaption>\n",
       "            </figure>\n",
       "        \n",
       "            <figure style=\"margin: 5px !important;\">\n",
       "              <img src=\"data:image/png;base64,iVBORw0KGgoAAAANSUhEUgAAAJYAAACWCAAAAAAZai4+AAADh0lEQVR4nO3azY/aRhzG8WdmbAwGds0ClZKsFi1Ru02UjVqp6v9/6yVSlL5ssu+8BAJbg82uMeCXmR5gD+11RsWH3+fkC6MvtjH2eABCCCGEEEIIIYQQQgghhPxfmO7nLadk8902U2mySaR2FGBpfp7VW+1GCQAYFxzBdOpvCpDFDzpnHRcAuGVbanAhF8XIOjk/rz9nyc/rb7aBKv2DWGl1fvR220j9wzLXTQIMZNmu19htb5bx7Glj4ozXzgK3yrutZX80798Hme6IgIEshefdM/z052g+eUh0RwT0s5RMVtutsPfpt16yWafaTTCwt5JoNjkEgNHg/nakH7SlmyWX09tSHQCGN98CA0Fb2gfxsW/5FQDwb6cmLqRbuv+JvNZoHFgAEAd+YOTiAOhnQQhLMACQWZ4p/SBCCCGEEEIIIXul/Zz4n+EYZ1BK6j4wak+N/JvTOKohXoSR5vO14axy580rPr29jouVVev++lbccH+sOY7hrMbx2XvBB1XdeV1zWdy2RenFUVUwxrR/SOayys2WVz5155fZzWRZnF+ie3x2UnOtu4t4cq090WUuq/Ly/bvDp7vLqzAOCpTltE7PvWFv9HGmpCxOlqh4LavOogcT7wuMvKEBADAuLHC5MfIWw1yWklmKNDMzq2swK0vWSGAbGdHs3lJwDtuCF+lyCpnlcJrd0F8+Pcaa11NzWSpPU1SOf/Lmo15/nesNZnBv5WnGKq/cbnDBw4fCZKk8y+E0G3mYjPZ/ByEsiyPPUiWlAphg3Lb43k95Xm8e1WQ4/TtfZcIBovAx6Purfd9BcO/199/J3u/zfJVZLtTD1f1s2Fvs+z+Red1fupk3u0tSKWysRx8/+I9BuO8sXn35w7ssuWwsHK6SavD18wdf5vu/g7Bd7wAvTk7zAzceR4PBaGLiHbr2QVQKQLP7c5t74R98cjUtxJt9JTcxUHvNgyj2B9FiODdRpX8Qs3UUu5XOUTL+8teXcRo9majSz5JpkrhOuw3na3R/byIJMHBjwxjffjWvnEfaOc+0s7jlbNf+VErC3PSPbhZjwtruLcmskn7Pjm6WUjLbPlQsE5jL0j7l02Uw9QBgGq6NLRoxsPRncm3VAGDcmxlZugXAxNKfgfDLABAMJisDQVvaS3+qnle3AGC9CBdrA0UADEzpciEEAEDl+jcOhBBCCCGEEEIIIYQQUgz/AMRnaOxUnf9HAAAAAElFTkSuQmCC\" style=\"height: auto\">\n",
       "              <figcaption style=\"font-size: 0.6em\">#58, w: 16</figcaption>\n",
       "            </figure>\n",
       "        \n",
       "            <figure style=\"margin: 5px !important;\">\n",
       "              <img src=\"data:image/png;base64,iVBORw0KGgoAAAANSUhEUgAAAJYAAACWCAAAAAAZai4+AAADY0lEQVR4nO3azXPaRhjA4XdXEhLCiC9hT2qCnI/WtJO4k8y0//+tpxzSNs54MA5gKzYOiE8RJK12e4jtTnt9t7UO73Piop3fzEpi2QWAEEIIIYQQQgghhBBCCCH/F4a93rRLFr/7zFSWJqlERwGYyOtZ1W83SgAAjBsc5pPJNClAFveC48AFAOCmZarxqVwWI6v7+nX1Pkt+3F1bGqrwk1j2g1797jNk05rDsUkA+Cww7Gr97rlJ4u1snei44/FZjN0/zfEojEaf5gI7IoCGLCnSxAYAgMv3f4bRzW2KbgItWdm3rMXw/W/DNNll+CgNWcBAgZS5DMefBqGGIgDQccuXyg5k0Ww9Pr+e6ygCAA1ZprNnQ3J1dnk7mOh4kd6Nirye8ZINsBm9O13NZ0pLEgA+SykpAGaj03eJyAuUlSxvQzm+Cmdacu6hs9aXf6zy82GkpeYBNksuBtlATUaxlpoH6GWg61Ud2C6XWl7ufw+LH4AxUAr03e6EEEIIIYQUC3rR/K/hGGeglMQuofFbI/9gN5p7sF0uNsjNN81ZTvDjIZ8M+ttiZe09//Un45xPPyPH0ZzV6ByfGHxcwe7r6svilmWUnjTdYuw0P3Ba7ZpzZE8ycRFi73iNWW6n16046my9nQ5nxckqH5688pZn/Q+LdLMuTpbdevaqPh5G/RngdyQ0Pol21TfbzZqXCJHnyLH0ZaWCmdDo9DZfFtECO4v6spJkJzk8fVufjvrncWGyVBqv6tA2utHvYnqDHExPFmPAPB5Pq8w8OFitL1zswkRPVqXmlQ7c6OPCbe0zr+biDyF0VIH3MqiX2c0Xt90zfLBM9BeQnqzW8dsn6fDDKA1y39exttSSZR98/yaYr+J+tOnMEy4Ven8Xf0Jmmobf6R7tu60yiDyXWjad0Sf71aZfa58824dq5ziaBkHTAc7Qs4jOqr/44ch/fgQA3V+8Vbv3nZafLRr+nvHmpFlvAUD756dpudUEEEI99nuLlZuHLxrfKvZ9xRnA181OPPoKIs92sZELIblhGUwKkS/DaPfYWTK+PmOVLMtybpUslmep2PTD9aNnLS7EVSkXuWSmaTAphNzdfl5hV6fog7typeJypZRijDGmlFL51+0WPYuEEEIIIYQQQgghhBBCCCGE/Df+AsaDUXw0E0z+AAAAAElFTkSuQmCC\" style=\"height: auto\">\n",
       "              <figcaption style=\"font-size: 0.6em\">#59, w: 16</figcaption>\n",
       "            </figure>\n",
       "        \n",
       "            <figure style=\"margin: 5px !important;\">\n",
       "              <img src=\"data:image/png;base64,iVBORw0KGgoAAAANSUhEUgAAAJYAAACWCAAAAAAZai4+AAADI0lEQVR4nO3azW/iRhzG8WfeDPbiJDQkhLxA0nS32VTsoVL//2OlVl2prdRt0xpKAgi2jiEYJ+DXHkJV7amHmQYffp/TcPDoqwFhmDFACCGEEEIIIYQQQgghhJCXwnSvlxVL8c1UrEjWq1g/CpCa1zO3cVC3AIAJwYtgPLo3UKWdxXc6X3YcAOBKybz/U1SSrHa36wKAkEpm9eWgV5Qgi9mNztXeZozEP2zUA90mGMhSzl59M44e18vKaThfLcNHzSXTzQKX1c1o1h9Hi+yyufQH/VW25awC+Wb05/e/PLxqXzSSfmU+3XJWkcdPz6PA++G7ebt+0GX25APXnFZ7teLl/WQXAIa3/T8iPs+q0rZ0q7Sz8mjqWS4ADHrTCA/Twb689Z90vyS038TFQPo2AHz8PQBWw/cLMfLm+X9d9z9n5YvbsCcBIPJDIBlmHgv9mW6W7q0aQkjBACBPkwxcKoE8TVPdaQkhhBBCCCGEEEJegPbWyKeEUgJZmuhujWjvBn7KOjzcYct7/0FzJ8lwVrV9fcqnN2lYrqydztdveS+djDTnMZzV6Lx9J8SgpvuRNZfFK3bVvjg72sWurT2rwdWqHx/V33T2gLwoyrNaonF13Wq2HeBxlW17A/xfztHVN+fVmoUo0j3xMZXFwNjhyfnrDgAkcaq7/20mSzq1V/b55VkTAFDkhfZJp5msz05PDlrXZ/8c4emfvxrJUvtfdC/qraaJuZ6ZWa29Tvfatu3NS8a0fwAYyRLO/vEJEMeZkEpwwcuRxZRdA8K76arWbLm2Xdn6eeIzLgQwfP9h0XpXc61atRw3nwLIEQ5//Da4dC6PYSntd9HMahVFVqxmI+8vdhVkIsnystx8GBOW467V2h/w8WxdiizGuIB78lUyc6rjOL27XZQiC0XBoM6T43DxOPotmt1t/az6uSqL18BB9fMn72fv1/k6WpYjKw5nsYLrJkE+vSnDoz8AgCyceNKSSmWTj/7MxIxGspLAE1OllMr7vcDE41uGsnz2cMOFEEUwnpuY0Myffa6simRg5h5ZJIQQQgghhBBCCCGEEELIy/kbwOciVhv1C7kAAAAASUVORK5CYII=\" style=\"height: auto\">\n",
       "              <figcaption style=\"font-size: 0.6em\">#60, w: 16</figcaption>\n",
       "            </figure>\n",
       "        \n",
       "            <figure style=\"margin: 5px !important;\">\n",
       "              <img src=\"data:image/png;base64,iVBORw0KGgoAAAANSUhEUgAAAJYAAACWCAAAAAAZai4+AAADaklEQVR4nO3az2/aSBQH8DczNr8xgWKqbtoEGlWJ1KZVb/3/b+2lq+1mE8imqSGAScDEwWD8a9xDBcketo30RoXD+9yehJ++eMzYeAaAEEIIIYQQQgghhBBCCCG/C8Mer2UzOl9VaRQGIbIjAABoyONZuW5WM6tKTkf2VsTixv7hfmFVxd1T/xbZEQBUxNo7Pi6vqvg0GFrIjgCgYBDz9f2jnVUVxf2LmoNsCaAgll7Yqa6rzG7rcD5ezOd+utlYwLXcg6rxKtgZ291ekOC6omOlIB9Uopndm5xps/GGY6Uy9B/WRv65k47+5f/3+UdCn63Qm9iVdcU4zxVzusB2xcaS89FFZj1BgNB1zes72CseP4h3ljbOr0uhadrym3Unf3LIY2DvibxUrRr3341xzmN37GBzYWOBEJr4TxOWJnGM/CESQgghhBBCCCGE/BboVyNrQtM1JqMoUtEM/TZwLddo1HTvejhR0UxdrOLe8cvC6CTYsliF52/fG1bcO1fRTF0s3XjWqopLs+IqaKYuVuTPphDknracyPfDTa9irE2tP0MjWe7CzB0OxlsTyz2PvhYb5m4z7J8sHOQrXXWxoO92sq8/vG6l55618VUMAABgDFgK3kx/wc0DHtTz2FlaSSytaJQLSRiG4tnTegZKObEVsXSz2WzI5SJgr14+AeD4W5qSWBnz6P0BLJchmE0DYBmiVwuUxBLG7uGxiOMYsgUA6S7iTS9F/cC40LI/VuuCaDpyA2xDJbHmY+s02WmYADDv30w6Qw+7QqYkVnCVm3f+ePOuBnD9z9m430Uv3KkZxFEwKB4k9RrEV18+3nju3XZcW+n0lkV7w1bputf+60ZKuemzxfRsNsOSJJHZyOmVut2BreKpGR2rZDae6FLK1KhMv4DdGW3Fszyv7B+18owzHvqTS9ftqdjKoiBW+cWbtxUuNGGfWH9fRd5sK2KxfL15VAEACNnk4lJBIgBQECtTrlUA5N1iYN+oGUAABROEli8DwOCr3W+P/F9++tFdsQ2YEABe51Pbsa/VbTPAb/2JQ4Bh+9NnP1hi5/Z7+K0/c2cqe9blNwVh7uG3/gzOgqRtKfmLfw89iLcXYMmBpWa6WkNv/SnXqsV0NhkvlcRZUbD1R3CQcYJ9ZiCEEEIIIYQQQgghhJAt8h3OYU55o/Q6PAAAAABJRU5ErkJggg==\" style=\"height: auto\">\n",
       "              <figcaption style=\"font-size: 0.6em\">#61, w: 16</figcaption>\n",
       "            </figure>\n",
       "        \n",
       "            <figure style=\"margin: 5px !important;\">\n",
       "              <img src=\"data:image/png;base64,iVBORw0KGgoAAAANSUhEUgAAAJYAAACWCAAAAAAZai4+AAAC2UlEQVR4nO3a2VPaUBQH4JNAdoxAUEG0rt0sOval//9zX60zUkDrBqJB1oQsN0kfmMFiZ9qHc8fwcL63eyY585skXLJcAEIIIYQQQgghhBBCCCGEvBUBu7+kyLK4UIqDwA8TXNssbncQzY2yJS+Ugt5Dtx/h2qJj5Q++HOgLJbd17g9TjiWsbB+fmgulkT66xV4b6FhyzqrkF0rGbU5OO1YSOv1Hb6E06jvYKx4fa3z3wzMWSk7zbpx2rHjQci9f/RLtziBGtkXPW7Ki/jVveX6APVyEEEIIIYQQQgghbwD7auR1O0EUIEnitF8kvaIUijlwh4MJ8k0S51jqzueq2G013OWKldv/dpRpinYb2YdzrMLWx5OMeGOI/9/0n/jFEiUpI1eKOjYRAPCMpVprq+qu0g3Z5T32iucYS9/69M5Qk/rYtX/1lieWVj2pmcN643wQTMbLE0ux9mr5m1/PjR4ksETTqWwUFCtvmj6LGPJLFMdYvh8moJc/OPbguY89i/xiee7EUbOVU6t33Wg6SxMLwqljZda1/f4Ze+oge/GJJYAgrGoCA9E0YTRu6Wl/uJs10XM5dbu6KgEAgGkoGXRHdCYAyBa3q6X1vQ2NR7NZRx5NJOvweNcslmax/CDCzqacjlZh5/hIkeTZSfQDthyxRLVQ3pyP8HM8AJfbkCAW//gAq0hZdFcusTw/YC8jRV6SWBEL/ZeRIAjoByousQxZiML5yPWCKO07CEFWVNmqFrVM4nk+AwAYdQZ+2rFEs1wpWe/3S2I86HTHAABu836Seqz8Qe2wuLG5BpF9cdEFAAge28O0706Fla3a14KmizB9qH+/BgCIpy726RUfSzIK63mABJ7aVz+vkN3m0GtsgkmvM2GMsZurts0lEgCPpT+3Z67GWBh1690pl0gAXJb+OC0pjuJ4/GSj/6Hn+CxZTCABFvjo6YoQQgghhBBCCCGEEEIIISn4DYqsCqsOArs+AAAAAElFTkSuQmCC\" style=\"height: auto\">\n",
       "              <figcaption style=\"font-size: 0.6em\">#62, w: 16</figcaption>\n",
       "            </figure>\n",
       "        \n",
       "            <figure style=\"margin: 5px !important;\">\n",
       "              <img src=\"data:image/png;base64,iVBORw0KGgoAAAANSUhEUgAAAJYAAACWCAAAAAAZai4+AAADg0lEQVR4nO3az3PaRhQH8KeVFiFAP0AipTh2YhPXydjN9NBD//9DTzl0GicpacwvAw4GJEASoB+sevDEzuRQd2a3EYf3uS0jvfmOfrGzbwEQQgghhBBCCCGEEEIIIfS9SLznU7VQIPfDDDJgSRSnGV9ZhTMWMX5o2IX7IdvtWOxOZ8u8Y1mt81bpfpgmabrutROf5RtL0g9//sV4iJUmu6W+mZB/OeW/4I5VqNg/Wl/9kMHC75Z4H1neWFkSerfbLyNJ0yWoOpVC7rH84eW2/GVEGs+bABVN5qzKHYstrtad+zdROUvMMigK76PFH2sVTR6+W3ShH7yAZMc4vw/8NzGKVl8Nzf7Ilt0w4azKHesbs/57JnfGIednS3Qsv1+akNvOgvcm8r7J3yjW6zoJ3PmK83IJjkWoQoCl6U5sWYQQQgghhBBCCKH/hbilEUKpLLE04V5yAxC5vlW066aymU08EcXExSo9fXlUnLejPYulHby+0IfwuSuimLhYqn18YZnTtrF6/NhHCVw7VXVHaR4+H02jbRTn3CF7EKeSAsbheTqdTW69vYkVRVtGoPnamHU/bJc5N+4eZHG4sqB62nDLwU3ejbs7kgSSQcKZLhHHsb2/tbw7ZHcqVVNtmMGnUKs5YBgl7qpiYlVftmyNLP74WHuhWEAV7r80MbHsV789Tbrv+/FBUrWAt7MCgmKp9ZOLY2/mXrot+ywi+xBLVhTiPLE0Cht35JcWUQYS/7SEe8OBbtcqZjMdzG/bQx82TC4QNf/uK7Fap0801X/je+0BgExVAgWaeyzJOvn1hEw+vL0K3SlASaMAEv9t5L5a5eZPFwzeDt/FDACsImNkHe/y7lUDLdcMsM1KSVUopQ26HGSj+SbvWBKRKYDz7FxiakmlNXXsxdcDP+9YwNIUoHq6O4SiVpTXq54buEMv9xb6bhMAKM/0VxIt0Kz7Z/+dF4W5d/azOJh5lmTcbUpKJtvxR5ezJICAWOtpT7dNmwJA5Ac3k5mIVPybWfyB5jvHZw2AtNebdq7mIlLxx1r21/26rzcAJpdvBvPxci9iZUE8p3X16LjKri9//5RE28fP+R6xkiSE8Oh6RL3rfmcsJBMImm8Fn6/s+ao9XIgoBgCiZqfzv3a1de8mElIMQNRCkunUtGQ5dYVtrRETS1ZkKWMp98QBIYQQQgghhBBCCCGE9sM/oB9bCbyES5cAAAAASUVORK5CYII=\" style=\"height: auto\">\n",
       "              <figcaption style=\"font-size: 0.6em\">#63, w: 16</figcaption>\n",
       "            </figure>\n",
       "        \n",
       "            <figure style=\"margin: 5px !important;\">\n",
       "              <img src=\"data:image/png;base64,iVBORw0KGgoAAAANSUhEUgAAAJYAAACWCAAAAAAZai4+AAADRUlEQVR4nO3a3W/aVhjH8Z9fwY4DIdCUQFKgqaImVapqU///m0m72zT1RSsjJC2Yl/COwcbYPmcXbKX352z44vlc4Ys8+socYcfHACGEEEIIIYQQQgghhBBC/i+K6N8bGdNUAYCDA4CisO02jLjYWF0wS809LxdNAGAsSaBoqhZNBsNZcuCsk6s3VzYAsCiKuaqbenD/KVwcOEs5vrx7l9tnGYbu2cuO6NoQzjKd4vnJ7vNubWHeccxDZ/FoPXvaAEDGMQAgWE9na9EVL57ldT9ujgCgUGtogNfujltd79BZbH7vt00AuPjZrgDffvtjNO7P2aGzluFw97t1lalUsHj4/ZfRdhMeOouH4fKfj41OteB+e2h5giMB8ay9mfvFzrn3AxlVErM2vQ8re9ocSxkmL4s9cdfwJ3Mpw0R/936YpOu6wuI4ljaREEIIIYQQQggh5D8m79EIAEAzDA1JHIk+H5H3IAkAYJ6d5ZTVZLwQfEopOSv74vZCHTZjL11ZudpPN2o7HriCcyRnlWo3bzXtq3PoXYw9NWNlrcZlOY+8JTxV4tkqVMqF69oJwDhPz9nSSq9vz5+/sAF/kxx6c2XPLr9+X886JtbrjeBuoqwsBYpyVq2/qgNAtI1F91bkZOm242RrjfMiAIBz0a9QVtbpZbVUvi5bMobtJsoYYhRf3dXzz0oqADmXWTlnq1C7u82Y/24FK+JhUrI06/S88v1IQhVU8RGAYljH+6OMoQtPlZIFRf3hrGfMtGSxJNofKIoivOylZPHIX+6P/M02HRef7WrcObaylgm+CcJZfx6mIms1bFmLQuXiFHzWHUxb7ioVWaxv+g/Vt7lTsKdPn8dPPdFbeUmX6jmb2ld2rY5g8PnXUeD7KchSAL5cIqn1J4WR2/5zIj5S/I2ko9yxxbzpAmP3/iTffehPJVSJv1ZWeNl4xnrNpue7H8OjUXMkflcjJev6/cvkL23uJcMPfXM9mMuoEs9yqjdvmNH78sgn60c1DsNUZEHVzSzLGJoaBYGMoB3hN5KC0aPJvo4DKUvqO+H3t2YtvcN77YXcLOFLfb5Ycrg3mcjtEr6T1DRdRZIkwv8aEkIIIYQQQgghhBBCSHr8DXR1On4E9r9zAAAAAElFTkSuQmCC\" style=\"height: auto\">\n",
       "              <figcaption style=\"font-size: 0.6em\">#64, w: 16</figcaption>\n",
       "            </figure>\n",
       "        \n",
       "            <figure style=\"margin: 5px !important;\">\n",
       "              <img src=\"data:image/png;base64,iVBORw0KGgoAAAANSUhEUgAAAJYAAACWCAAAAAAZai4+AAADn0lEQVR4nO3a23PaRhQG8G9XEuZikMA2vsfBxGNPHXeS6Uv//5c+tc1MHafxBYLBFghjAUaAbqs+KBNPn3db8XB+T5qd4cw3LFqhPQsQQgghhBBCCCGEEEIIIeT/wmQ/b6zlchwAkCTpkAgDP0rkyuqSsXhle2cjBwBCxCIBgMAdPo2zjmU1z5tFABBRGAkAmHe+BlORbSxWPrz4UPlXrJfKYsAly0rHyq1v7Frp9feJG09bBdmfrGysJPRcZwkAudJaOlS1ikbmsV56l8sSAJj7R6V0LK/LzqF0LDG+m7dyALD3np99H4Pkfagg1tQfpOvW27i6YwEAFoGQzSU9ib4/Ta/inePDNQCYjGaBZFXpWK9c+9acAMDL3cCTXLYUxvIHf4e3ALB46ExlJ1H2Tn7Fq5vVIgBEU9edSX5d6mIxXUsXhiSO4lhZWUIIIYQQQgghhJD/jrqtEU03dCbCMFRRTN3+Vr5erxkzxx6pKKYuVunNxXFx8NlfsVjFg58/VjpR90ZFMXWxjMpuo6q1t9INVEnqYoVLb6pFpb13z8Fi7mfcIXs17n5mlkAz//Lc6w4ldykVxrrjdrlePz71O5+80crEwoPXKpz/etYQlnubdSsqxRhYEjqOVjzlVd4vZd4hS4usl8tGMB5Gsd1tr+u952XWPR8AgLHZOCh7365sDL4UbP3xxl2J5opR/+lia1L1+ol/7V1ps9FoJWLptcaHQ1f0Wg5GLzpL4mglYvFCba9esd8cLEUsokQkmbc5AQCB0ArI758MTREJEc2m00XGBw4AAEs/FED9TDQFGFt2W21/FWLFwdyrwWyWPcZ1bXbJx45kRSWximzpHgL1mmCM88msnfk5CJbLrxmW6T+WCiVTAxAtvWUoeyPKx6rsbpslc/ZXzzw6NQG/13/6amfeq+ZW83xPnzy0go1fTBPo/Xk17N+PM49lNj6eJF++XT/U8+9O+KL9+2/DuZf5t8UKm2/PYteYDcTAGW7ZnetLFe8Y0rH0Qtkwtg+OgnVj3HJ6bftZQSr5BYKBAzvni4aoTD6J4fVQ+sGjJFYc+oD13pyMnOHNs9cfKwil4IxNNJ8kDPsbUeePm8v7yPdXIhb8ifNoca7ncqHbtVVEAhQclPL6N3pFN3LafddR8eKakp7E6T1/Kui6wZ+u+9Lno36QfabykmlVdM45W4yepP8r/yC9v8U1TQMYIOI4VrI4EEIIIYQQQgghhBBCSOb+AbYLiNCumCsbAAAAAElFTkSuQmCC\" style=\"height: auto\">\n",
       "              <figcaption style=\"font-size: 0.6em\">#65, w: 16</figcaption>\n",
       "            </figure>\n",
       "        \n",
       "            <figure style=\"margin: 5px !important;\">\n",
       "              <img src=\"data:image/png;base64,iVBORw0KGgoAAAANSUhEUgAAAJYAAACWCAAAAAAZai4+AAADU0lEQVR4nO3aXU/bPBgG4Dtp4pakLf2CtWUMBEjvtBekTfv/f2EH+5CGRhmsQNeOkjRp8+XY2UHQ2I7trT14riPLUh/dih2rsQ0QQgghhBBCCCGEEEIIIeRfMVR/b1cZMwEARVF2SZ6leaFW1lKMZTaf9bsMAKQUsgCAzPtx7687Vuv4/2MHAGTOcwkA0fV5Fsj1xjIa+2evm3/ECpvx1FQsqxyL1buDVtl+HDg/uNxSnbKqsQq+8mYJADC3Wna1W4699ljhzcfEBYDtvQO37KtZqmOoHEv6o+iSAcDw1Hz52AfF91BDrCCdluvWoWj3WwCAOJOquZQHMU2DsiX6R/tVAFjMl5liVeVYT7zJxfYCAMLRdKW4bGmMlU4/8wsAiG+vA9VBVH2Tn5jtXtsBgDzwvKXi49IXy7Aq5cJQiFwIbWUJIYQQQgghhBBC/h6NOzaWbZkAikLkXHVrRN/+Vq3b6zpSSskXD1645uOCJ87ey5Oe4LmIvo2E6nagvlhbg1dv90XGRfCJz6eKxfTFshu7B0eykIWf3jjrPi54wuOl71UdC896japqMX2x/PEnjHcPh0DTsTbnaYWX/Kb7X9Ksg9lrP1z5zWx55frbB3UI5UMMTbEMGEaBOA6ms9nAWMR83YcrZRGnXq8VOc+NZjZhxWgabUaszv5eD3nOi0blepJNvi424nDF7p6cHZpSSBHcX82W4czfiFhW++DslYUC/Etw994TWboRg2jW2v0hAMCrBLcrHRU11EAmTVa2XEskOipqiZWkWV62bNuq6KioJZbIefrYgl3TUVFLLJcZggMAwgy2jorq1zOqNdYdtqpGniVZcjOPVNcGLbHMZn/Q6xy9aBjx/XS++Hbl5RsRq3V8etLu7DSN6O78YvZwN+ebEMtoPD9907IYM5LZ+btxEkWbEct227stAMiDycVX9UAl5esZ2XI+SWoOg4001BIJ0HH1Z/wh6gxfDFB3mZbVBoCWqz+rUe/M3rEc19GykgLQcvXnO9spBoedwmLKHzy/qM+tDAifj++YH6RaVlIAmv7YLL+PuvPV6EeqoxgAXZ8Y88+ik45vYy3FAF0bSdu9zlYePHjacumJVbEqBoQQ+iYXIYQQQgghhBBCCCGErNNP0gJalizoGp8AAAAASUVORK5CYII=\" style=\"height: auto\">\n",
       "              <figcaption style=\"font-size: 0.6em\">#66, w: 16</figcaption>\n",
       "            </figure>\n",
       "        \n",
       "            <figure style=\"margin: 5px !important;\">\n",
       "              <img src=\"data:image/png;base64,iVBORw0KGgoAAAANSUhEUgAAAJYAAACWCAAAAAAZai4+AAADv0lEQVR4nO3aSVPjRhyG8VdSS14FXmcywGAGErLALEm+/yXnpEJqUhkwYAzCZrEtyQhvUi85uIpUzt019uH/u9P1lKXuRlIDhBBCCCGEEEIIIYQQQgj5Wizdv3dznmcrBQCWBQUFmS1SrvSGZZpZ9sbrb+qukELBcRxLCiHTcDAcrzqrcnB0UOApl5brupbMUj7tnmWJXG2W5b99/8nnWSZttswSY3/2YGsOq53lletvKljeWwCgECdXRd1bVjdLZZPokZcKADCb8JzPUG2UvZVnJbd/zxs7+z4wvwim1Xf7QLngaI6qnSXjy2mn+ZEdAb0/T+KdWaUGxnRvLf2sp8WD15TNnU1+ffLb8NvSXg2ZkJrrg/5FXCyeMN6+6bmDoHMxtr673WLhJNMcVTsLAJDcXzai8Px+jOj21GOd/kRz2TKTheGZqj23B8CsdxLbj5141RdxKW6PioswAsSd7NrPYaz7a+kuMEuMMVuKjMNymQPJuTAyLCGEEEIIIYSQr87McyIAWJZlLV+8KaXW46kaAHL+pp+XSio+SZ6nK36l+5/C9v5uVXAu5ndBMNd8rDaXVdw6/rTFs1QkZ/bTaG2yvOruD++k4HJsDa5W/e70fywr5wB+r5Jbn6zF6GojrLxqwCvmnPXJmgb2oNY6/qkGx7HWZ4GY9uLz4nu7XtNetGAyK83G8EqHydyW+mHmsmzGWK6cZ45lYOcwuMpXa9WN71s1F7Z+mMnl9HD/9ZuDBqCU9lZrcPPZOv51t1gpA2km1mcmetW3h3uAUlG0Jl8xAAAqt9EA0mEUdh51/4EwuUBY+RIwOu0Mr290vwkbzBLKtoDe5z8G8XC8PlnMEvN8GPzz+4Cn2covosPYcguse/OhfxvcXE91hzSQZfu1xiaTUqpaKfpi9y8eTFSZOAdxuJfnGZfKeehPw8uRiSoDp0ZaP38oZ1kmR9ed7sM8ik1U6Z+DKNS2DzaVlKo7ik+7SujOQTNZ4ItpwvIe0Cxk0cxEEmDgy34SfF7Ut1o+NkvMzC8FGMiK2km7+QHHcAt5z0gSYCBrPLvLNfmrli9tL2ckCTBwDiJNn5HePw5K0YRrHxZ5oT0Tc8WCWynPgulTEKVGkgAD61Z1d6daqos2n1z1jU1E/az6j7/suUn/y+0svDey7wAwssp/PEK7e/5Xms3X5yLCdvNFIeJeYKLmhfZMnA26nrjsh0ZqXugvpxcskNdXiZGaF/pZZ6OyGg/MTUIABl7pOg6zIQQ3tx8SQgghhBBCCCGEEELIyv0L61KoCKmqU3gAAAAASUVORK5CYII=\" style=\"height: auto\">\n",
       "              <figcaption style=\"font-size: 0.6em\">#67, w: 16</figcaption>\n",
       "            </figure>\n",
       "        \n",
       "            <figure style=\"margin: 5px !important;\">\n",
       "              <img src=\"data:image/png;base64,iVBORw0KGgoAAAANSUhEUgAAAJYAAACWCAAAAAAZai4+AAAD60lEQVR4nO3ayXPiRhTA4ddSSyxmHaCcMbYnMcmMPeMpJz4k+f8vuSRxNi94AYNZLRaJTUhqtXLwFMwpOfSrQKXed+PAq99BapqWAAghhBBCCCGEEEIIIYQQ8l9hqt83YqapRRCt5jHp+14Q/eO3/hVXzNIyu18UDBlK+fJR07Vg2OuPww1n5SofKgkhgpcO3eDcfbj0nA1nsfTBx2/TQgjxMo5zPk1OnlSvDeUsM1V4nYPPri2wn1LmprMif2q13Z30qmO+GI/nqle8cpZ06vFxsXxU/vTZanaH963pxrNGt6Or4qnIpgAAYFm7uB4MurbcdNbU7fFiWDx8yerd/fLzwF96m84CGQgwneFzyQCAoNWo389URyJksZ1MOpYtiabQAUBUH/sYVco/Pnq5clRKmCAjAICwfXfbRqhSX+VfnfxQ0fu3d00JAHI6nGBUqWelXr87jdhV40IAQCQ/rfaqlC/5SAoRzsfPI4yaFeUFYtapivCmZWPErClnjW/DB9mpodx/a8rbwFQ2k4C5bS9RclZj1QcwBtF6e0oIIYQQQsj/jfKmeT2JMcaiSKLsnpX/J66YmWxK9xx7ijEMLytZPtoz7frdtmXtn53sdM1hC2MYXlZs9+15tuE8xDH+MeJl8WRhLyEPDg6sMFA+IMHLYoxxyB2cCsseDBzFU0q8LBksXcPc+644fLwR0+3J8uazDBTjb8Y5t6cpDsPLioS3BEgmSjkrF9/0U4w1CZoOIHwxmfuKD6Iws3yIJQHsnjWqdmYbP5dfCbRYEsLebzfDXmvjTzHWdN3QYd76/SdrOV9sRxZjwLLxcMafn+6vMQ53cbJS+WysnHfrRqveQzlyxsnKH1cK6ZRz4Q6qFspAnKzCyY/7Ub9235s/2ygDUbJipaPTr6az4Z+10PcwBqpncc614m4uacDCenrGSALAeA+iVExnD6E5GF0/olWpZ+XfHZfjfPGr7Tw8BChJACivZ3z/Vmv/cVFd2Dg3IQAgPH1NFA+/kVO3cemrruyfU77kQ28+AS8yU6HOueZ76o/PMbKkU8+NuK1VMsBNg416XQtjiVDOGl45+Z1c+iyh6zqPGpehsxVZ9rJl5E7Pj7/mjGkiv2ijLNDK79h4ngPuoZYvGwAQ9NMx1W08ShaLJeJmPs8mHQ4AwnKWKDek+rp1uP9qJ6/VugwAwmZthLKmKmcV359/aUzaVwMJAHLct7YjK/Pm7ANUH6t/CQCIAt/biizQjHgylJNuA6NmRflOdK1HM6x1cN/OQHgP4p4/yWYd5bBtTT2rOkxFjuWi1KwoH+nqOtcgDAXm/oEQQgghhBBCCCGEEEI27G9Xq69XqUGSWQAAAABJRU5ErkJggg==\" style=\"height: auto\">\n",
       "              <figcaption style=\"font-size: 0.6em\">#68, w: 16</figcaption>\n",
       "            </figure>\n",
       "        \n",
       "            <figure style=\"margin: 5px !important;\">\n",
       "              <img src=\"data:image/png;base64,iVBORw0KGgoAAAANSUhEUgAAAJYAAACWCAAAAAAZai4+AAADYElEQVR4nO3aXW/iRhQG4Nf22BhiIHwk2SW7GyKthFIp2tX+/z9Q9aLqVmpDtiGQBFgKJoBhMfZ89MI06f2Mai7Oc2VfcPTKczzIPgYIIYQQQgghhBBCCCGEEPJ/sXR/z7yCa8PaF1JQkOku4UqvLNONFTRP6p7tODYAQAohk/l0tsw5ll296LRLjLlZIZ5y/qPfTSOZc6zyh+vrquOyfSyeimV5O7E1y2ovYumkfXX8nxZVWET3Jd2W1Y7lBc0aoKKtAmAVyxZqzcDLOxacYgBg3P8uAdhv2i0gKDq6VbVj2YwBm2+/dDkA1kmrR2BMt7W0YykpUmB88/OvKQB3UT7/iFRIzf1B/2qlm/lKDAe9OwBAdTBsOPNNqltVN5bcjG65uBnMstPZ4A/p9EYbzW1LfxEXPedBDgdRdhoNShP7795CdxF172S70qgHMppOYwCAf3JSttfzcKV5uXRjwWHMhuRplsN2mQ3JudAtSwghhBBCCCEkH9rPia+VLMuylFK6z/kADLwaeeFVqkdsF60ibqCYuVil88tWYfXYiw8rVvH801Uw+bqebA0UMxfLP+t8OX6I7lwTxczFcoPmO5/Xi0ZuIu23nC8sVvDh2SIxUcxcLKWkAE+T2EQxg7FEEiNOuJF9y2AsniZKWN6RiWLmWl4ILsAqby/DXbxLcp6QvYrjOIV/2lFhOJk8H0ysXbxLLb8lT+f3f8bLnAd3r2zFOfw35fbz0XqU9+AuY8GyqiUGuG4Fq+db7T3VSCxWCgL//Xk1+9+pVEvsMGLV3583Ty/Pitmpl/+EDADgNj5etyv15j6W1B6QGbpatYvrnwquly2i2CQi98EdANh+7W0LACA5F4tZpP13bSRWorwgO0rn4WJ+O859cAcA2KVy3+TJuNufDx90B2RmYgnB98u2fvz9tzBarg6it0qMr7Oj8Kn7daaEzPtqWV7Rd2sNFQ4cALz/OPp+CE8+9vG7Vi1o2P2pBUD0ejMTqfRj1TufPnjb6bdnBUBOHxcGQhlYxMrF5yurN/7rhgPAdrMxEMpEb5UbZ3L44+nGyOL9S/uDg2Q1HYnRJDSaSj/W8r48E3f9lZE0L7S/Gpl3VzUZPplpqRfanyy6fsFFEht5T0MIIYQQQgghhBBCCCGEkDz8A4n+Wr7RmY3CAAAAAElFTkSuQmCC\" style=\"height: auto\">\n",
       "              <figcaption style=\"font-size: 0.6em\">#69, w: 16</figcaption>\n",
       "            </figure>\n",
       "        \n",
       "            <figure style=\"margin: 5px !important;\">\n",
       "              <img src=\"data:image/png;base64,iVBORw0KGgoAAAANSUhEUgAAAJYAAACWCAAAAAAZai4+AAADZUlEQVR4nO3aSW/bRhQH8D83iaIYrVRc26htxUbipFkKtEC//6WHAj25rpMqkpdITuXQpERSGzlLDwrsDzCD0of3OxLQ4A+94SOlNwAhhBBCCCGEEEIIIYQQQv4vhurn7UrVMWHAgIQEAIgi3zCptqytGssPep2KaVmmFJxLAMjjb+Gs5Fhm8/DVkWdXHFOyohAAsLz+lCei5FjPDt69a1rbWIwDQNpYTU3FZZWL6PWOXre2W/R74WbJqKa6ZZVjVfygDbB0Y3n17aV2y3PKjgWr5gO4uYzdvX57e8m1VWuoHsu0bSD6+4/xszfG91gCiveheiwpeAHcnv/+ubXqHnYAAKtcqOZS/raKRZSw8dXwOuzdjGsAML/PctVVVWOJxe0/jH0cx1hMR+cZAKTD6UKxbakXcTaybsTVZAVEA2sEAKvJdVJ2EcVsGPtiNuVAOpzXAYAlsWqTV35Uw7JtE5wVEpazbQySM85VlyWEEEIIIYQQQgghhOim/G/gA9P1ao6UEmKz3uQlT8geGcHBfkNwzvNwehc/mVj2ztv3uyIvWHZ5sZ6XPLh75O28/KXPWcGSeva17MHdlmHA6AZB0AOAJB6UPrjb8tvN6l5Q3Eq36aPR9JRX1ROr/fq449lhVOuevGzAeQKDOwBA8Oa3/WJ0Ntz8mPkNHV1HS6xqr/+2H03Ds/uwd7oxhSx9ngjLts2g13AdU/IiL5iQ6kNOHZP9bqfe2mVf0iRpvDo4POy4MA3lKirHar04+aHmJH8Knj/fcXune1oeaMqT/eaLX4+tyfmnb7WD09PdWrcDMCbL7lumv3f6k1hnF8NW5UP/2DSAVbZWPWKjvuUrjaAJX8yW63CWLQRjfD6J1mXHMqxqHXBNBvH1807Mi5xlg0ladiwABmA5NnD3FwsEY2J9d6s8FFaOJYo1ICp1IB2EnpRS8tVyWXYsWSyifbF2OpVCRpHiYo+UYy2nI8uMav1iNb9faokEaDhwML90/3Ut/+ej9PrjQLV2DzScg0ibjX7/pDo/K8J7LZmgoYjJZmp3nZOj3Xhz2Xw6sfI8RdbPpOtWHUtLJEDT+1Z2dzPYpF9i5YNID/S8nYYXGCyvxvruRD2/qtvPA4/NQn0dQk8sy7ZMyTnX1iAIIYQQQgghhBBCCCGkVP8BAhp3J5k7aCYAAAAASUVORK5CYII=\" style=\"height: auto\">\n",
       "              <figcaption style=\"font-size: 0.6em\">#70, w: 16</figcaption>\n",
       "            </figure>\n",
       "        \n",
       "            <figure style=\"margin: 5px !important;\">\n",
       "              <img src=\"data:image/png;base64,iVBORw0KGgoAAAANSUhEUgAAAJYAAACWCAAAAAAZai4+AAADY0lEQVR4nO3aS2/bRhQF4DPkUJZkvajIil0kNuQmsJHCRdpV//+iqxbtoo7h+CHLkqMn9aZEcsiZLozI2hQNMINQi/vtrkBeHJHDIcAZgBBCCCGEEEIIIYQQQggh3wvTPZ/vZRxrux+TURQKpdeW650OVqwduJlNaVm2Jbxef5KkG8sqnZyd5Del7XC+vrsMZ6nHOr64KL6045wv8vO27tjQvom52sl5ZasGpu1CJvVYTr7ibv/gryYTX3fEa8eCxbPb5fCx6912FqnHUpBbVXD/19Vo1J3K/zz+2+jGUjJab5W9mz//GEVBmHYsREuvV/5aiE6rebvUbQn9WNLv32U2E0R8/dA3kUr/Js5bfJT7WiVPdxPNhs90Jxir4LqlzX+TC89baHYEoB8Lts3tTRMl41jztUMIIYQQQgghhBDy/Wh/GtmwucOZFEKYaKb9NXAjW69XneWg65loZi7W/vHFab5/Ge5YrPybn38pteL2jYlm5mI5paOGazcPyjMDzczFEoE/t+P9H96No/UqTHnh7sW0fckqEj9mF+NOe5jyCtmL6Z3VLdbrp2dh62/f25lYePLvcz/9dt6Qlclt2itkzxgDU2IwsPNnlmv19p2diMULxaITTYdx0m03C7wzDlJfIQMAp9Z4U/QfPnXRv8p1+ZebSepLUQDg1D9cHMxcv6fCz/4ne+l5OxGLVxsf305k534Ab8GZSuKdiGXnqkf1Uvf4baCSJFZS6Q4tU0+ixZE9PJvVk0gkYjmfrzUvl5lYSRgAtQ+5cSLiZN2+b+ouvxqJpcRqCRTfvQ6VlHLxjzUdaHY0EysOA+HsZaoAFGbLZm4nplOpAKgkfn4A/UDoPohmYgUxLJbMRuMVACyvu/5OTBCRtBwWDa8+DwEg7D2mvg8CAGDZGYeJ4dXvjwCQrPxduFoMlVLOYfG8c32r3+2Z/o6kYmH/1enrAoNYG1nUB2Bg/1bl+OSo9r7hggPa75wN7Vjl01/PX9UOORiz94xEAgzEKhy+/+ju2UAg4BiJBBgY8szOZDOJkKo/XmnPohvae2yCcbtciCMhn5peZCQSYGBH0uzBGWXjOJbjVm/9/8d/I+2tP0W3WuZSSrWeT+aBkUwwsvXHthigoJJEmhtchBBCCCGEEEIIIYQQkqZ/AWRlZpDBBusnAAAAAElFTkSuQmCC\" style=\"height: auto\">\n",
       "              <figcaption style=\"font-size: 0.6em\">#71, w: 16</figcaption>\n",
       "            </figure>\n",
       "        \n",
       "            <figure style=\"margin: 5px !important;\">\n",
       "              <img src=\"data:image/png;base64,iVBORw0KGgoAAAANSUhEUgAAAJYAAACWCAAAAAAZai4+AAAC4klEQVR4nO3abU/aUBQH8NNHWsJTC4pBgxLcdFO3Gb//t9iyzEUnbk7JgEp5KPTh3r1YslnMksVzM3zx/708oTd/2t7bwrlEAAAAAAAAAAAAAADwv2jc482Cbem5kkjiZSp5w5q8w0krNzY8O1eKgx+D+zXH0iu7B7vFXGne+xSHgjcsP1b75KScK00qUV//y8f/Ffsiuo3dw1qudB9eutxblh3LKta8fMmrFS1uLO7ZJt10VkuOyR+VO4CkR3e3IOY85MeSIo5Wa1EsuLm49xbF0+FdNVcZD6cxd1RuLDHrX9grC8RFf8ZcttixZNgzB26uFN30Qu5FZM/kkudV8t8tDYNgyjxd3FhkGKaRH0RmaZZxhwUAAAAAAAAAAADV2P8G5lmuW6AkiuI1d8hW2K2duja+/T54XrGK7dOOfvNhPlpz425Fde/dsf552lt34+4BTSN7q71/oC0ba2/c/aFXqpXSUbdlUckxnlGsjf3OZuewSaTz57e6WHbz+KztbxlEi5jdLVAXq9TsHHUtk0iM59z9BvxYhmkamiSipl92zCzJ5H1/vOSOyu7sl/1G1RRCSN9bXM/SOMkm57fcThQ/Vq37cs9Jk1SQNggoS9MsurnmboNQsT3j9E0pSRIx7F32AimESKdjdj+Rvw/C3+5WpRDyahB8vCIikkKIdZ8typbzienYRHU3DR5105+K3asOv71f1rd2fHJsXV1zkx0rOJ+cN16fui6ZlqUkEpGCWOPFrd1YeNuu0K1H+0eejN3Zj+MJxYPJUgpNN5REIlIwE23HKdSbVUfTNYUv4Ox1q9pqbdZfdTwyNYU/DNixvBdvD/zmtkPEXqwe4D8Td47OfNsiiqJEXS72cqqbTrEgFkL2R7NURSIiUjATF6Ov1VIaJ+Lmy5C9Eek3/rp1ZQ2cNE3FqHen7NnD3/pT9vxf71tRGIQLJZlIydYfQ9eIJMksUzkXAQAAAAAAAAAAANboJ278B6rfJqnJAAAAAElFTkSuQmCC\" style=\"height: auto\">\n",
       "              <figcaption style=\"font-size: 0.6em\">#72, w: 16</figcaption>\n",
       "            </figure>\n",
       "        \n",
       "            <figure style=\"margin: 5px !important;\">\n",
       "              <img src=\"data:image/png;base64,iVBORw0KGgoAAAANSUhEUgAAAJYAAACWCAAAAAAZai4+AAAC5klEQVR4nO3abU/aUBQH8H9vb3lSoBUwc2aSKE5d5t64ZN//G2zZTDSLBqZOELQ81JaWPuwFIqlmybJzY31xfi9P6M2f3tsbuKcAY4wxxhhjjDHGGGOMMcZeika9XuZzhkiV4lnghwltWEm7HFq53rByqVJg9wfDjGOJSnOvWUqV3M5pMI5pw9JjbR0ellOlScXrib98/F+RJ7FYb+6bqdJwfF6kLllyLKNkWumSZZYMaizq3YaQhaelgqSPSh0gwbPVHYP4HNJjJXHgPa15QUzNRV1bCJzbbjVVGd06AXVUaqz4vneWe7JBnPXuidsWOVYy7shBMVXyrjpj6iSSn+RVy6qkv1s4tm2HeLuosaDrUk8PkkRhFFGHZYwxxhhjjDHGGHsB5KORR0Ia8zPTJJqFIXEw8mngo0KtXisBwGw4GIwybhcslTb3Ww0AcNsn4eTVxCpufDjaAoCx6XWz7mIsGeX15jYADPtmIesuxtLMc4Z3ADCaTKl9O4WxhhfH6ADA/c8L8pGuuliT89llFQCC265NPQBXt28BpWIOUNN9VRNLg6YlSOi9ngU1k1iqVlfiMAwjAIh9d+pn3BSeq+y0NrCI5d9cXg2IB/NqYlm7X/b0OJo3xpyTr+7da4iVqzcPPhmLlTUU/fPMd3ldSlFrVIuGsajkDZ38IJE7++Xa2mplM7kMpBBCA4BJZ+BlvZ0Kc2d3vaBPv82E/vB7y7toU3/X0Dv75vbnbfH7+Ec7MeT8rZZwbA+zjiVW3r7/GCfH18eRJh4WehzFWceCsbJWQaNmVjzfp461RJ5EoRvAm9ZR0e5d20oiAQruVhyGgHlgtK5PvvuuikiAgliR5wB4Z7rt/Lj7amIlgTOwTUjL8mvlZ6+1/DdyLLffLld1Q8qe7VL/HS6RX8+Y/CpOSlIa8ua0N1USCVAQa9RxOzmh68K5Ube0FLyymMsbAhq0MPADdbPIGGOMMcYYY4wxxhhjjLEX8wfGgwUX50WgcgAAAABJRU5ErkJggg==\" style=\"height: auto\">\n",
       "              <figcaption style=\"font-size: 0.6em\">#73, w: 16</figcaption>\n",
       "            </figure>\n",
       "        \n",
       "    </div>"
      ],
      "text/plain": [
       "<IPython.core.display.HTML object>"
      ]
     },
     "execution_count": 64,
     "metadata": {},
     "output_type": "execute_result"
    }
   ],
   "source": [
    "cluster_masks = cp.asnumpy(good_cluster_masks)\n",
    "\n",
    "sorted_indices = np.argsort(-cluster_masks.sum(axis=1))\n",
    "max_to_show = min(100, len(sorted_indices))\n",
    "\n",
    "_images = []\n",
    "_captions = []\n",
    "\n",
    "for i in sorted_indices[:max_to_show]:\n",
    "    c = cluster_masks[i]\n",
    "    _image = Image.frombytes('L', size=get_kernel_shape(c), data=c.astype(np.uint8) * 255)\n",
    "    _image = _image.resize((150, 150))\n",
    "    _images.append(_image)\n",
    "    _captions.append(f'#{i}, w: {(c == 1).sum()}')\n",
    "    \n",
    "display_images_grid(_images, 8, captions=_captions)"
   ]
  },
  {
   "cell_type": "code",
   "execution_count": null,
   "id": "62897fcb-4083-4b88-9014-7ef3d62a201d",
   "metadata": {},
   "outputs": [],
   "source": []
  },
  {
   "cell_type": "code",
   "execution_count": null,
   "id": "35a49fb3-5722-4c63-879c-1c7335948f1c",
   "metadata": {},
   "outputs": [],
   "source": []
  },
  {
   "cell_type": "code",
   "execution_count": null,
   "id": "947a69c5-a787-4750-a0d1-988b6fd16724",
   "metadata": {},
   "outputs": [],
   "source": []
  },
  {
   "cell_type": "code",
   "execution_count": null,
   "id": "460420c4-c144-40d2-9df7-7249ed230792",
   "metadata": {},
   "outputs": [],
   "source": []
  },
  {
   "cell_type": "code",
   "execution_count": null,
   "id": "af5035fa-9bd7-420f-beb6-dd12f6de56be",
   "metadata": {},
   "outputs": [],
   "source": []
  },
  {
   "cell_type": "code",
   "execution_count": null,
   "id": "da40aff8-0c31-4868-bb06-ecf712902674",
   "metadata": {},
   "outputs": [],
   "source": []
  },
  {
   "cell_type": "code",
   "execution_count": null,
   "id": "8373a561-84a7-4302-bb81-ab41b339f855",
   "metadata": {},
   "outputs": [],
   "source": []
  },
  {
   "cell_type": "code",
   "execution_count": null,
   "id": "7a9d5431-1ec1-4232-8434-2b566967a322",
   "metadata": {},
   "outputs": [],
   "source": []
  },
  {
   "cell_type": "code",
   "execution_count": null,
   "id": "f8a404e5-1c3e-4ff4-8417-5a77ed84329a",
   "metadata": {},
   "outputs": [],
   "source": []
  },
  {
   "cell_type": "code",
   "execution_count": null,
   "id": "06d94d84-9d11-4d92-8aeb-f22b13bda1be",
   "metadata": {},
   "outputs": [],
   "source": []
  },
  {
   "cell_type": "code",
   "execution_count": null,
   "id": "cfb54280-420a-445c-abc8-0e228d1dbc27",
   "metadata": {},
   "outputs": [],
   "source": []
  },
  {
   "cell_type": "code",
   "execution_count": null,
   "id": "45cd1fd4-2681-4a5a-a2f8-078f62b35cb5",
   "metadata": {},
   "outputs": [],
   "source": []
  },
  {
   "cell_type": "code",
   "execution_count": null,
   "id": "0a7366d0-f824-441b-bb3b-2875fe5c0ab8",
   "metadata": {},
   "outputs": [],
   "source": []
  },
  {
   "cell_type": "code",
   "execution_count": 30,
   "id": "fd35849e-29f7-40b4-94f0-6cf5774e630f",
   "metadata": {},
   "outputs": [
    {
     "ename": "AssertionError",
     "evalue": "",
     "output_type": "error",
     "traceback": [
      "\u001b[0;31m---------------------------------------------------------------------------\u001b[0m",
      "\u001b[0;31mAssertionError\u001b[0m                            Traceback (most recent call last)",
      "Cell \u001b[0;32mIn[30], line 1\u001b[0m\n\u001b[0;32m----> 1\u001b[0m \u001b[38;5;28;01massert\u001b[39;00m \u001b[38;5;28;01mFalse\u001b[39;00m\n",
      "\u001b[0;31mAssertionError\u001b[0m: "
     ]
    }
   ],
   "source": [
    "assert False"
   ]
  },
  {
   "cell_type": "code",
   "execution_count": null,
   "id": "a3fd04d8-233c-4220-8115-77a46a4ae0a5",
   "metadata": {},
   "outputs": [],
   "source": []
  },
  {
   "cell_type": "code",
   "execution_count": null,
   "id": "0d876250-cd92-4882-84fb-949a3166b99c",
   "metadata": {},
   "outputs": [],
   "source": [
    "%%time\n",
    "NEXUSES = KERNELS\n",
    "MIN_CLUSTER_SIZE = 8\n",
    "CLUSTER_MASKS = []\n",
    "\n",
    "clusters_per_nexus = 30\n",
    "ctr = 0\n",
    "\n",
    "for image in IMAGES_BW:\n",
    "    active_nexuses = image * NEXUSES\n",
    "    active_nexuses_counts = active_nexuses.sum(axis=1)\n",
    "    assert active_nexuses_counts.shape == (NEXUSES.shape[0],)\n",
    "    active_nexuses = active_nexuses[active_nexuses_counts >= MIN_CLUSTER_SIZE]\n",
    "\n",
    "    for active_nexus in active_nexuses:\n",
    "        active_bit_indices = np.argwhere(active_nexus > 0)\n",
    "\n",
    "        for i in range(clusters_per_nexus):\n",
    "            np.random.shuffle(active_bit_indices)\n",
    "            cluster_mask = np.zeros(NEXUSES.shape[1])\n",
    "            first_n_active_bit_indices = active_bit_indices[:MIN_CLUSTER_SIZE]\n",
    "            cluster_mask[first_n_active_bit_indices] = 1\n",
    "            CLUSTER_MASKS.append(cluster_mask)\n",
    "\n",
    "CLUSTER_MASKS = np.array(CLUSTER_MASKS)\n",
    "cluster_means = 1 / np.pow(np.sum(CLUSTER_MASKS, axis=1), 1)\n",
    "cluster_sigmas = cluster_means / 3\n",
    "CLUSTERS = np.random.normal(cluster_means, cluster_sigmas, size=(CLUSTER_MASKS.shape[1], CLUSTER_MASKS.shape[0])).T\n",
    "\n",
    "print(f'{len(CLUSTERS)} clusters generated')"
   ]
  },
  {
   "cell_type": "code",
   "execution_count": null,
   "id": "96215d63-ead0-43bb-925a-54c3c81bf310",
   "metadata": {},
   "outputs": [],
   "source": [
    "active_nexuses_counts"
   ]
  },
  {
   "cell_type": "code",
   "execution_count": null,
   "id": "365f5ca8-9dbc-4059-a546-a288198561ad",
   "metadata": {},
   "outputs": [],
   "source": []
  },
  {
   "cell_type": "code",
   "execution_count": null,
   "id": "7b5d9829-5198-4d1e-8139-49ba0af6b4f0",
   "metadata": {},
   "outputs": [],
   "source": []
  },
  {
   "cell_type": "code",
   "execution_count": null,
   "id": "70656ab4-08ae-46a8-bbbf-bc07d346b5df",
   "metadata": {},
   "outputs": [],
   "source": [
    "IMAGES_BW_XP = cp.asarray(IMAGES_BW)"
   ]
  },
  {
   "cell_type": "code",
   "execution_count": null,
   "id": "ee1fea15-f53b-429f-9a92-9f5f4d9bc360",
   "metadata": {},
   "outputs": [],
   "source": []
  },
  {
   "cell_type": "code",
   "execution_count": null,
   "id": "dfea2992-5b7c-4693-9695-595bda385ad8",
   "metadata": {},
   "outputs": [],
   "source": [
    "nu = 0.05 # for oja it's better to set 0.01\n",
    "batch_size = 100\n",
    "epochs = 10\n",
    "\n",
    "image_indices = np.arange(IMAGES_BW.shape[0])\n",
    "method = 'rdzb' # oja, classic, rdzb\n",
    "\n",
    "CLUSTER_MASKS = cp.asarray(CLUSTER_MASKS)\n",
    "CLUSTERS = cp.asarray(CLUSTERS)\n",
    "xp = cp.get_array_module(CLUSTERS)\n",
    "\n",
    "for batches in tqdm(range(epochs)):\n",
    "    np.random.shuffle(image_indices)\n",
    "\n",
    "    for ii in image_indices[:batch_size]:\n",
    "        image = IMAGES_BW_XP[ii]\n",
    "        xes = image * CLUSTER_MASKS\n",
    "        yeks = image @ CLUSTERS.T\n",
    "\n",
    "        if method == 'oja':\n",
    "            grow = (nu * yeks).reshape(1, -1).T\n",
    "            grow = xes * grow \n",
    "            assert np.array_equal(xes[0] * (nu * yeks[0]), grow[0])\n",
    "            stabil = (nu * np.pow(yeks, 2)).reshape(1, -1).T\n",
    "            stabil = CLUSTERS * stabil \n",
    "            CLUSTERS = CLUSTERS + grow - stabil\n",
    "        elif method == 'classic':\n",
    "            denom = np.pow(CLUSTERS + xes * (nu * yeks).reshape(1, -1).T, 2)\n",
    "            denom = np.sqrt(np.sum(denom, axis=1).reshape(1, -1).T)\n",
    "            assert np.array_equal(denom[0], [np.sqrt(np.pow(CLUSTERS[0] + xes[0] * (nu * yeks[0]), 2).sum())])\n",
    "            nomin = CLUSTERS + xes * (nu * yeks).reshape(1, -1).T\n",
    "            CLUSTERS = nomin / denom\n",
    "        elif method == 'rdzb':\n",
    "            nomin = CLUSTERS + xes * (nu * yeks).reshape(1, -1).T\n",
    "            denom = nomin.max(axis=1)\n",
    "            assert xp.array_equal(denom[0], nomin[0].max())\n",
    "            CLUSTERS = (nomin.T / denom).T\n",
    "        else:\n",
    "            assert False, method\n",
    "\n",
    "    # Pruning\n",
    "    CLUSTER_MASKS = (CLUSTERS.T >= xp.max(CLUSTERS, axis=1) * 0.75).T\n",
    "    CLUSTERS = CLUSTERS * CLUSTER_MASKS\n",
    "\n",
    "    degenerate_cluster_indices = xp.argwhere(CLUSTER_MASKS.sum(axis=1) < MIN_CLUSTER_SIZE)\n",
    "    CLUSTER_MASKS = xp.delete(CLUSTER_MASKS, degenerate_cluster_indices, axis=0)\n",
    "    CLUSTERS = xp.delete(CLUSTERS, degenerate_cluster_indices, axis=0)\n",
    "    \n",
    "    print(f'{len(cp.asnumpy(CLUSTERS))} clusters, {len(cp.asnumpy(degenerate_cluster_indices))} dropped as degenerate')\n",
    "\n",
    "    if len(CLUSTERS.get()) == 0:\n",
    "        print('All clusters removed!')\n",
    "        break\n",
    "    \n",
    "    nu *= 0.9"
   ]
  },
  {
   "cell_type": "code",
   "execution_count": null,
   "id": "0a97993c-2d91-4918-a2a6-f031be38a0a6",
   "metadata": {},
   "outputs": [],
   "source": []
  },
  {
   "cell_type": "code",
   "execution_count": null,
   "id": "fb2532d5-9d0e-443f-8aa9-04bf77adbf95",
   "metadata": {},
   "outputs": [],
   "source": [
    "CLUSTER_MASKS = cp.asnumpy(CLUSTER_MASKS)\n",
    "CLUSTERS = cp.asnumpy(CLUSTERS)"
   ]
  },
  {
   "cell_type": "code",
   "execution_count": null,
   "id": "bbf9eb37-e461-4889-ac66-fe6a5b7b9c06",
   "metadata": {},
   "outputs": [],
   "source": [
    "sorted_indices = np.argsort(-CLUSTER_MASKS.sum(axis=1))\n",
    "max_to_show = min(100, len(sorted_indices))\n",
    "\n",
    "_images = []\n",
    "_captions = []\n",
    "\n",
    "for i in sorted_indices[:max_to_show]:\n",
    "    c = CLUSTER_MASKS[i]\n",
    "    _image = Image.frombytes('L', size=get_kernel_shape(c), data=c.astype(np.uint8) * 255)\n",
    "    _image = _image.resize((150, 150))\n",
    "    _images.append(_image)\n",
    "    _captions.append(f'#{i}, w: {(c == 1).sum()}')\n",
    "    \n",
    "display_images_grid(_images, 8, captions=_captions)"
   ]
  },
  {
   "cell_type": "code",
   "execution_count": null,
   "id": "f70d77b4-1e88-4c4a-98b2-f4cb68ffbc0f",
   "metadata": {},
   "outputs": [],
   "source": [
    "display_kernel_raw(CLUSTER_MASKS[225686], precision=0)"
   ]
  },
  {
   "cell_type": "code",
   "execution_count": null,
   "id": "f3bc5655-5e0a-4b26-b1e1-11697361a6d5",
   "metadata": {},
   "outputs": [],
   "source": []
  },
  {
   "cell_type": "code",
   "execution_count": null,
   "id": "e0f23879-7e63-43b8-b6a8-31e1229cd2c4",
   "metadata": {},
   "outputs": [],
   "source": []
  },
  {
   "cell_type": "code",
   "execution_count": null,
   "id": "6dbf7992-8d05-4cda-b392-817168cf6206",
   "metadata": {},
   "outputs": [],
   "source": []
  },
  {
   "cell_type": "code",
   "execution_count": null,
   "id": "d33cf1f3-1596-48d9-b65d-c0678402bef0",
   "metadata": {},
   "outputs": [],
   "source": [
    "# # turn to adjustable weights\n",
    "# assert np.array_equal((KERNELS[0] == 0).sum(), (KERNELS == 0).sum(axis=1)[0])\n",
    "# means = 1 / np.pow((KERNELS == 0).sum(axis=1), 1)\n",
    "# sigmas = means / 3\n",
    "# CLUSTERS = np.random.normal(means, sigmas, size=(KERNELS.shape[1], KERNELS.shape[0]))\n",
    "# CLUSTERS = KERNELS * CLUSTERS.T"
   ]
  },
  {
   "cell_type": "code",
   "execution_count": null,
   "id": "e67d1617-9593-483d-959f-194413c7b834",
   "metadata": {},
   "outputs": [],
   "source": [
    "# nu = 0.01\n",
    "# batch_size = 1000\n",
    "# epochs = 10\n",
    "# image_indices = np.arange(IMAGES_BW.shape[0])\n",
    "# method = 'plain' # oja, plain\n",
    "\n",
    "# for batches in tqdm(range(epochs)):\n",
    "#     np.random.shuffle(image_indices)\n",
    "    \n",
    "#     for ii in image_indices[:batch_size]:\n",
    "#         image_bw = IMAGES_BW[ii]\n",
    "#         xes = image_bw * KERNELS # use KERNELS as mask for input data\n",
    "#         yeks = image_bw @ CLUSTERS.T\n",
    "\n",
    "#         if method == 'oja':\n",
    "#             grow = (nu * yeks).reshape(1, -1).T\n",
    "#             grow = xes * grow \n",
    "#             assert np.array_equal(xes[0], image_bw * KERNELS[0])\n",
    "#             assert np.array_equal(image_bw * KERNELS[0] * (nu * yeks)[0], grow[0])\n",
    "#             stabil = (nu * np.pow(yeks, 2)).reshape(1, -1).T\n",
    "#             stabil = KERNELS * CLUSTERS * stabil # use KERNELS as mask for clusters\n",
    "    \n",
    "#             CLUSTERS = CLUSTERS + grow - stabil\n",
    "#         elif method == 'plain':\n",
    "#             denom1 = np.pow(CLUSTERS + xes * (nu * yeks).reshape(1, -1).T, 2)\n",
    "#             denom = np.sqrt(np.sum(denom1, axis=1).reshape(1, -1).T)\n",
    "#             assert np.array_equal(denom[0], [np.sqrt(np.pow(CLUSTERS[0] + (nu * yeks[0] * KERNELS[0] * image_bw), 2).sum())])\n",
    "#             nomin = CLUSTERS + xes * (nu * yeks).reshape(1, -1).T\n",
    "#             CLUSTERS = nomin / denom\n",
    "#         else:\n",
    "#             assert False, method\n",
    "\n",
    "#         # print(ii, np.unique(CLUSTERS[0]))\n",
    "#         # break\n",
    "\n",
    "#     nu *= 0.9"
   ]
  },
  {
   "cell_type": "code",
   "execution_count": null,
   "id": "e262c994-75b9-422d-91ba-126113e2d627",
   "metadata": {},
   "outputs": [],
   "source": []
  },
  {
   "cell_type": "code",
   "execution_count": null,
   "id": "f4238f65-df74-4199-a2aa-e9516cc5ac29",
   "metadata": {},
   "outputs": [],
   "source": []
  },
  {
   "cell_type": "code",
   "execution_count": null,
   "id": "ed1e4fb9-bb2d-4e6b-a3f3-389a0a7725e7",
   "metadata": {},
   "outputs": [],
   "source": []
  },
  {
   "cell_type": "code",
   "execution_count": null,
   "id": "5fd085de-9f5d-47fe-887d-1300b703af2b",
   "metadata": {},
   "outputs": [],
   "source": []
  },
  {
   "cell_type": "code",
   "execution_count": null,
   "id": "58d073c3-e067-40a8-9999-69d2d9b8e17b",
   "metadata": {},
   "outputs": [],
   "source": []
  },
  {
   "cell_type": "code",
   "execution_count": null,
   "id": "1ac1fe05-4086-44ef-abfc-cb5ea086ae1f",
   "metadata": {},
   "outputs": [],
   "source": []
  },
  {
   "cell_type": "code",
   "execution_count": null,
   "id": "bfff8b06-14cd-491a-a91f-a5bc2bf95035",
   "metadata": {},
   "outputs": [],
   "source": []
  },
  {
   "cell_type": "code",
   "execution_count": null,
   "id": "35cb5499-6a54-4673-80ac-e3418384e754",
   "metadata": {},
   "outputs": [],
   "source": []
  },
  {
   "cell_type": "code",
   "execution_count": null,
   "id": "83c6d823-333f-4f16-b70c-df279eb12741",
   "metadata": {},
   "outputs": [],
   "source": []
  },
  {
   "cell_type": "code",
   "execution_count": null,
   "id": "4e48e9e2-4cf4-46b8-8d24-c080262d923c",
   "metadata": {},
   "outputs": [],
   "source": []
  },
  {
   "cell_type": "code",
   "execution_count": null,
   "id": "c2fe7acc-4a53-478d-ab44-b0555b0f45f6",
   "metadata": {},
   "outputs": [],
   "source": []
  },
  {
   "cell_type": "code",
   "execution_count": null,
   "id": "0ae30ca7-7ed2-4d0a-a2a9-deae7aa3025e",
   "metadata": {},
   "outputs": [],
   "source": []
  },
  {
   "cell_type": "code",
   "execution_count": null,
   "id": "e5fc83c6-30cf-4af8-920c-db4b8b2f8f46",
   "metadata": {},
   "outputs": [],
   "source": []
  },
  {
   "cell_type": "code",
   "execution_count": null,
   "id": "e00d4c5b-7dee-4f39-94af-78bf1871c7e1",
   "metadata": {},
   "outputs": [],
   "source": []
  },
  {
   "cell_type": "code",
   "execution_count": null,
   "id": "07cecfeb-bc1c-42fb-b403-aacf2019cfca",
   "metadata": {},
   "outputs": [],
   "source": []
  },
  {
   "cell_type": "code",
   "execution_count": null,
   "id": "863eb1c9-4566-476d-8862-05ca7115881c",
   "metadata": {},
   "outputs": [],
   "source": []
  },
  {
   "cell_type": "code",
   "execution_count": null,
   "id": "1c8d49ae-ca16-4ee7-95d0-09e15f4eb133",
   "metadata": {},
   "outputs": [],
   "source": []
  },
  {
   "cell_type": "code",
   "execution_count": null,
   "id": "a74bbdbf-eb4a-41e9-b91a-b2c26ad6d19f",
   "metadata": {},
   "outputs": [],
   "source": []
  },
  {
   "cell_type": "code",
   "execution_count": null,
   "id": "56866ed8-2d37-4135-9f10-8ff57e3b5875",
   "metadata": {},
   "outputs": [],
   "source": []
  },
  {
   "cell_type": "code",
   "execution_count": null,
   "id": "475573bd-ee78-48fe-984b-c9f9d52fb6b1",
   "metadata": {},
   "outputs": [],
   "source": []
  },
  {
   "cell_type": "code",
   "execution_count": null,
   "id": "74a1f86b-2bfb-40b0-9a10-99b244d84340",
   "metadata": {},
   "outputs": [],
   "source": []
  },
  {
   "cell_type": "code",
   "execution_count": null,
   "id": "02816bf5-a3cd-4188-9862-f49095e0561e",
   "metadata": {},
   "outputs": [],
   "source": []
  },
  {
   "cell_type": "code",
   "execution_count": null,
   "id": "454d0324-ad96-4ea0-8d11-3210a89c211c",
   "metadata": {},
   "outputs": [],
   "source": []
  },
  {
   "cell_type": "code",
   "execution_count": null,
   "id": "38ca9e69-dba2-4b00-9216-5e746d3d33ee",
   "metadata": {},
   "outputs": [],
   "source": []
  },
  {
   "cell_type": "code",
   "execution_count": null,
   "id": "e0c827c9-19f5-49c2-84f9-4988dc04669a",
   "metadata": {},
   "outputs": [],
   "source": [
    "sz = int(np.sqrt(IMAGES.shape[1]))\n",
    "center_ij = int(sz * (sz / 2 + 0.5))\n",
    "assert np.isclose(IMAGES.std(axis=0)[center_ij], IMAGES[:,center_ij].std())\n",
    "center_ij, IMAGES[:,center_ij].mean(), IMAGES[:,center_ij].std()"
   ]
  },
  {
   "cell_type": "code",
   "execution_count": null,
   "id": "8de41e2d-2591-4697-af9d-b739e6c24c7b",
   "metadata": {},
   "outputs": [],
   "source": []
  },
  {
   "cell_type": "code",
   "execution_count": null,
   "id": "0e8fd0cd-5ffc-46eb-980e-973bb94c9dcd",
   "metadata": {},
   "outputs": [],
   "source": [
    "# mask = (IMAGES_METADATA.value != '3') & (IMAGES_METADATA.value != '9')\n",
    "#mask = (IMAGES_METADATA.value == '1') | (IMAGES_METADATA.value == '5')\n",
    "# mask = (IMAGES_METADATA.value == '5')\n",
    "mask = np.full(IMAGES.shape[0], True)\n",
    "SUBIMAGES = IMAGES[mask]\n",
    "SUBIMAGES_MEAN = SUBIMAGES.mean(axis=0)\n",
    "SUBIMAGES_STD = SUBIMAGES.std(axis=0)\n",
    "SUBIMAGES_PREPD = preprocessing.scale(SUBIMAGES)\n",
    "\n",
    "values = np.unique_counts(IMAGES_METADATA.value[mask])\n",
    "p = plt.bar(values.values, values.counts)\n",
    "plt.bar_label(p, values.counts)\n",
    "plt.show()"
   ]
  },
  {
   "cell_type": "code",
   "execution_count": null,
   "id": "4c05e957-0cfb-4c98-b165-c5c681d74e8e",
   "metadata": {},
   "outputs": [],
   "source": [
    "%%time\n",
    "pca = PCA()\n",
    "pca.fit(SUBIMAGES_PREPD)\n",
    "pca_data = pca.transform(SUBIMAGES_PREPD)"
   ]
  },
  {
   "cell_type": "code",
   "execution_count": null,
   "id": "e34b8858-87cf-4f5f-a77e-bccd4c43927e",
   "metadata": {},
   "outputs": [],
   "source": [
    "per_var = np.round(pca.explained_variance_ratio_ * 100, decimals=1)[:10]\n",
    "per_var_names = [f'PC{i+1}' for i in range(len(per_var))]\n",
    "\n",
    "p = plt.bar(per_var_names, per_var)\n",
    "plt.bar_label(p, map(str, per_var))\n",
    "plt.show()"
   ]
  },
  {
   "cell_type": "code",
   "execution_count": null,
   "id": "162a0f89-1469-4903-b87b-fa2f93fbb9fe",
   "metadata": {},
   "outputs": [],
   "source": [
    "per_var.sum()"
   ]
  },
  {
   "cell_type": "code",
   "execution_count": null,
   "id": "50fbbca1-7ba3-4ff5-92cd-f43cf43fe606",
   "metadata": {},
   "outputs": [],
   "source": [
    "pc_imgs = []\n",
    "pc_captions = {}\n",
    "\n",
    "for i in range(min(100, len(pca.components_))):\n",
    "    pc = pca.components_[i].copy()\n",
    "    pc *= SUBIMAGES_STD\n",
    "    pc += SUBIMAGES_MEAN\n",
    "    # pc[pc < 128] = 0\n",
    "    # pc[pc > 0] = 255\n",
    "    #display_kernel_raw(pc, 1)\n",
    "    pc_img = Image.frombytes('L', size=(sz, sz), data=pc.astype(np.uint8)).resize((100, 100))\n",
    "    pc_imgs.append(pc_img)\n",
    "    pc_captions[id(pc_img)] = f'{pca.explained_variance_ratio_[i] * 100:.1f}%'\n",
    "\n",
    "display_images(pc_imgs, captions=pc_captions)    "
   ]
  },
  {
   "cell_type": "code",
   "execution_count": null,
   "id": "9b0b2f21-923f-4526-915c-a529adaa5bf6",
   "metadata": {},
   "outputs": [],
   "source": [
    "display_images(map(lambda x: Image.frombytes('L', size=(sz, sz), data=x), SUBIMAGES[:100]))"
   ]
  },
  {
   "cell_type": "code",
   "execution_count": null,
   "id": "34dd5335-d7d8-4c5d-973f-6497b9b56b2a",
   "metadata": {},
   "outputs": [],
   "source": [
    "pca_components_mod = pca.components_.copy()\n",
    "\n",
    "for i in range(len(pca_components_mod)):\n",
    "    pc = pca_components_mod[i]\n",
    "    pc *= SUBIMAGES_STD\n",
    "    pc += SUBIMAGES_MEAN\n",
    "    pc[pc < 128] = 0\n",
    "    pc[pc > 0] = 255"
   ]
  },
  {
   "cell_type": "code",
   "execution_count": null,
   "id": "28ba3302-7315-4535-858a-265046c50b55",
   "metadata": {},
   "outputs": [],
   "source": [
    "imgs_restored = []\n",
    "imgs_restored_caps = []\n",
    "\n",
    "for pc_count in range(10):\n",
    "    for i in range(min(10, len(pca_data))):\n",
    "        img_compressed = pca_data[i].copy()\n",
    "        img_compressed[pc_count+1:] = 0\n",
    "        img_restored = img_compressed @ pca.components_\n",
    "        #img_restored = img_compressed @ pca_components_mod\n",
    "        img_restored *= SUBIMAGES_STD\n",
    "        img_restored += SUBIMAGES_MEAN\n",
    "        img_restored[img_restored < 128] = 0\n",
    "        img_restored[img_restored > 0] = 255\n",
    "        imgs_restored.append(Image.frombytes('L', size=(sz, sz), data=img_restored.astype(np.uint8)).resize((100, 100)))\n",
    "        imgs_restored_caps.append(f'PC {pc_count+1}, #{i}')\n",
    "\n",
    "display_images_grid(imgs_restored, col_count=min(10, len(pca_data)), captions=imgs_restored_caps)    "
   ]
  },
  {
   "cell_type": "code",
   "execution_count": null,
   "id": "b6b2e5e6-7e02-4ae8-8190-8015064294f5",
   "metadata": {},
   "outputs": [],
   "source": [
    "XY_DATA = []\n",
    "\n",
    "for y in range(IMAGE_SIZE):\n",
    "    for x in range(IMAGE_SIZE):\n",
    "        i = y * IMAGE_SIZE + x\n",
    "        samples_indices = np.argwhere(SUBIMAGES[:,i] > 0)\n",
    "        samples_indices = samples_indices.reshape(-1)\n",
    "\n",
    "        for si in samples_indices:\n",
    "            XY_DATA.append([x, y])\n",
    "\n",
    "XY_DATA = np.array(XY_DATA)"
   ]
  },
  {
   "cell_type": "code",
   "execution_count": null,
   "id": "7f737115-1958-446b-a7b0-2b86df507dd1",
   "metadata": {},
   "outputs": [],
   "source": [
    "test_image = Image.new('L', size=(IMAGE_SIZE, IMAGE_SIZE))\n",
    "test_image_draw = ImageDraw.Draw(test_image)\n",
    "\n",
    "for xy in XY_DATA[np.random.randint(len(XY_DATA), size=1000)]:\n",
    "    test_image_draw.point(list(xy), fill=255)\n",
    "    \n",
    "test_image.resize((50, 50))"
   ]
  },
  {
   "cell_type": "code",
   "execution_count": null,
   "id": "24a80abc-8fb1-46fd-965a-233fe5decf51",
   "metadata": {},
   "outputs": [],
   "source": [
    "%time\n",
    "xy_pca = PCA()\n",
    "xy_pca.fit(XY_DATA)"
   ]
  },
  {
   "cell_type": "code",
   "execution_count": null,
   "id": "ef5cd1d2-7ac8-4024-a4e3-160482fe27f5",
   "metadata": {},
   "outputs": [],
   "source": [
    "per_var = np.round(xy_pca.explained_variance_ratio_ * 100, decimals=1)[:10]\n",
    "per_var_names = [f'PC{i+1}' for i in range(len(per_var))]\n",
    "\n",
    "p = plt.bar(per_var_names, per_var)\n",
    "plt.bar_label(p, map(str, per_var))\n",
    "plt.show()"
   ]
  },
  {
   "cell_type": "code",
   "execution_count": null,
   "id": "6c64ed20-86f3-4d8d-b16c-596994787007",
   "metadata": {},
   "outputs": [],
   "source": []
  }
 ],
 "metadata": {
  "kernelspec": {
   "display_name": "Python 3 (ipykernel)",
   "language": "python",
   "name": "python3"
  },
  "language_info": {
   "codemirror_mode": {
    "name": "ipython",
    "version": 3
   },
   "file_extension": ".py",
   "mimetype": "text/x-python",
   "name": "python",
   "nbconvert_exporter": "python",
   "pygments_lexer": "ipython3",
   "version": "3.12.2"
  }
 },
 "nbformat": 4,
 "nbformat_minor": 5
}
