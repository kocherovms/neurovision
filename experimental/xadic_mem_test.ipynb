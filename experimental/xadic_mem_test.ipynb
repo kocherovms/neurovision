{
 "cells": [
  {
   "cell_type": "code",
   "execution_count": 2,
   "id": "9fe0ca9a-724a-445b-a96e-ff0270ba0863",
   "metadata": {},
   "outputs": [],
   "source": [
    "import os\n",
    "import re\n",
    "import numpy as np\n",
    "import pandas as pd\n",
    "from sklearn.model_selection import train_test_split\n",
    "from xadic_memory.mem_sdrsdm2 import DiadicMemory_Orig, DiadicMemory_Counters, DiadicMemory_SdmCounters, DiadicMemory_SdmCountersAndRetrieval\n",
    "import xadic_memory.mem_sdrsdm2\n",
    "import xadic_memory.sdr_util\n",
    "from tqdm.notebook import tqdm"
   ]
  },
  {
   "cell_type": "code",
   "execution_count": 3,
   "id": "8c931b67-4073-4e7f-94c4-85d035dde6b9",
   "metadata": {},
   "outputs": [],
   "source": [
    "def clean_text(text):\n",
    "    text = text.lower()\n",
    "    text = text.replace(' ', '_')\n",
    "    text = re.sub(r'[^a-z_]', '', text)\n",
    "    return text"
   ]
  },
  {
   "cell_type": "code",
   "execution_count": 4,
   "id": "1d2107af-ead3-465b-8ff5-804ab2c893fd",
   "metadata": {},
   "outputs": [],
   "source": [
    "with open(os.path.join('text', 'text_sh.txt'), 'r', encoding='cp1251') as file:\n",
    "    content = file.read().replace('\\n', '')\n",
    "    content = clean_text(content)"
   ]
  },
  {
   "cell_type": "code",
   "execution_count": 5,
   "id": "8903bbed-37e8-4dda-965b-93babb4b51a8",
   "metadata": {},
   "outputs": [],
   "source": [
    "PERIOD_OF_IDS = 10\n",
    "WINDOW_SIZE = 6\n",
    "CODE_SIZE = 10000\n",
    "SENTENCE_ACTIVE_BITS = 12\n",
    "assert SENTENCE_ACTIVE_BITS % WINDOW_SIZE == 0\n",
    "WORD_ACTIVE_BITS = SENTENCE_ACTIVE_BITS // WINDOW_SIZE"
   ]
  },
  {
   "cell_type": "code",
   "execution_count": 6,
   "id": "077994bb-caf9-4ff5-82a5-779075aabe21",
   "metadata": {},
   "outputs": [
    {
     "data": {
      "application/vnd.jupyter.widget-view+json": {
       "model_id": "8b0a67edb05241d5ada348df32fbf196",
       "version_major": 2,
       "version_minor": 0
      },
      "text/plain": [
       "  0%|          | 0/27 [00:00<?, ?it/s]"
      ]
     },
     "metadata": {},
     "output_type": "display_data"
    },
    {
     "data": {
      "application/vnd.jupyter.widget-view+json": {
       "model_id": "",
       "version_major": 2,
       "version_minor": 0
      },
      "text/plain": [
       "a:   0%|          | 0/10 [00:00<?, ?it/s]"
      ]
     },
     "metadata": {},
     "output_type": "display_data"
    },
    {
     "data": {
      "application/vnd.jupyter.widget-view+json": {
       "model_id": "",
       "version_major": 2,
       "version_minor": 0
      },
      "text/plain": [
       "b:   0%|          | 0/10 [00:00<?, ?it/s]"
      ]
     },
     "metadata": {},
     "output_type": "display_data"
    },
    {
     "data": {
      "application/vnd.jupyter.widget-view+json": {
       "model_id": "",
       "version_major": 2,
       "version_minor": 0
      },
      "text/plain": [
       "c:   0%|          | 0/10 [00:00<?, ?it/s]"
      ]
     },
     "metadata": {},
     "output_type": "display_data"
    },
    {
     "data": {
      "application/vnd.jupyter.widget-view+json": {
       "model_id": "",
       "version_major": 2,
       "version_minor": 0
      },
      "text/plain": [
       "d:   0%|          | 0/10 [00:00<?, ?it/s]"
      ]
     },
     "metadata": {},
     "output_type": "display_data"
    },
    {
     "data": {
      "application/vnd.jupyter.widget-view+json": {
       "model_id": "",
       "version_major": 2,
       "version_minor": 0
      },
      "text/plain": [
       "e:   0%|          | 0/10 [00:00<?, ?it/s]"
      ]
     },
     "metadata": {},
     "output_type": "display_data"
    },
    {
     "data": {
      "application/vnd.jupyter.widget-view+json": {
       "model_id": "",
       "version_major": 2,
       "version_minor": 0
      },
      "text/plain": [
       "f:   0%|          | 0/10 [00:00<?, ?it/s]"
      ]
     },
     "metadata": {},
     "output_type": "display_data"
    },
    {
     "data": {
      "application/vnd.jupyter.widget-view+json": {
       "model_id": "",
       "version_major": 2,
       "version_minor": 0
      },
      "text/plain": [
       "g:   0%|          | 0/10 [00:00<?, ?it/s]"
      ]
     },
     "metadata": {},
     "output_type": "display_data"
    },
    {
     "data": {
      "application/vnd.jupyter.widget-view+json": {
       "model_id": "",
       "version_major": 2,
       "version_minor": 0
      },
      "text/plain": [
       "h:   0%|          | 0/10 [00:00<?, ?it/s]"
      ]
     },
     "metadata": {},
     "output_type": "display_data"
    },
    {
     "data": {
      "application/vnd.jupyter.widget-view+json": {
       "model_id": "",
       "version_major": 2,
       "version_minor": 0
      },
      "text/plain": [
       "i:   0%|          | 0/10 [00:00<?, ?it/s]"
      ]
     },
     "metadata": {},
     "output_type": "display_data"
    },
    {
     "data": {
      "application/vnd.jupyter.widget-view+json": {
       "model_id": "",
       "version_major": 2,
       "version_minor": 0
      },
      "text/plain": [
       "j:   0%|          | 0/10 [00:00<?, ?it/s]"
      ]
     },
     "metadata": {},
     "output_type": "display_data"
    },
    {
     "data": {
      "application/vnd.jupyter.widget-view+json": {
       "model_id": "",
       "version_major": 2,
       "version_minor": 0
      },
      "text/plain": [
       "k:   0%|          | 0/10 [00:00<?, ?it/s]"
      ]
     },
     "metadata": {},
     "output_type": "display_data"
    },
    {
     "data": {
      "application/vnd.jupyter.widget-view+json": {
       "model_id": "",
       "version_major": 2,
       "version_minor": 0
      },
      "text/plain": [
       "l:   0%|          | 0/10 [00:00<?, ?it/s]"
      ]
     },
     "metadata": {},
     "output_type": "display_data"
    },
    {
     "data": {
      "application/vnd.jupyter.widget-view+json": {
       "model_id": "",
       "version_major": 2,
       "version_minor": 0
      },
      "text/plain": [
       "m:   0%|          | 0/10 [00:00<?, ?it/s]"
      ]
     },
     "metadata": {},
     "output_type": "display_data"
    },
    {
     "data": {
      "application/vnd.jupyter.widget-view+json": {
       "model_id": "",
       "version_major": 2,
       "version_minor": 0
      },
      "text/plain": [
       "n:   0%|          | 0/10 [00:00<?, ?it/s]"
      ]
     },
     "metadata": {},
     "output_type": "display_data"
    },
    {
     "data": {
      "application/vnd.jupyter.widget-view+json": {
       "model_id": "",
       "version_major": 2,
       "version_minor": 0
      },
      "text/plain": [
       "o:   0%|          | 0/10 [00:00<?, ?it/s]"
      ]
     },
     "metadata": {},
     "output_type": "display_data"
    },
    {
     "data": {
      "application/vnd.jupyter.widget-view+json": {
       "model_id": "",
       "version_major": 2,
       "version_minor": 0
      },
      "text/plain": [
       "p:   0%|          | 0/10 [00:00<?, ?it/s]"
      ]
     },
     "metadata": {},
     "output_type": "display_data"
    },
    {
     "data": {
      "application/vnd.jupyter.widget-view+json": {
       "model_id": "",
       "version_major": 2,
       "version_minor": 0
      },
      "text/plain": [
       "q:   0%|          | 0/10 [00:00<?, ?it/s]"
      ]
     },
     "metadata": {},
     "output_type": "display_data"
    },
    {
     "data": {
      "application/vnd.jupyter.widget-view+json": {
       "model_id": "",
       "version_major": 2,
       "version_minor": 0
      },
      "text/plain": [
       "r:   0%|          | 0/10 [00:00<?, ?it/s]"
      ]
     },
     "metadata": {},
     "output_type": "display_data"
    },
    {
     "data": {
      "application/vnd.jupyter.widget-view+json": {
       "model_id": "",
       "version_major": 2,
       "version_minor": 0
      },
      "text/plain": [
       "s:   0%|          | 0/10 [00:00<?, ?it/s]"
      ]
     },
     "metadata": {},
     "output_type": "display_data"
    },
    {
     "data": {
      "application/vnd.jupyter.widget-view+json": {
       "model_id": "",
       "version_major": 2,
       "version_minor": 0
      },
      "text/plain": [
       "t:   0%|          | 0/10 [00:00<?, ?it/s]"
      ]
     },
     "metadata": {},
     "output_type": "display_data"
    },
    {
     "data": {
      "application/vnd.jupyter.widget-view+json": {
       "model_id": "",
       "version_major": 2,
       "version_minor": 0
      },
      "text/plain": [
       "u:   0%|          | 0/10 [00:00<?, ?it/s]"
      ]
     },
     "metadata": {},
     "output_type": "display_data"
    },
    {
     "data": {
      "application/vnd.jupyter.widget-view+json": {
       "model_id": "",
       "version_major": 2,
       "version_minor": 0
      },
      "text/plain": [
       "v:   0%|          | 0/10 [00:00<?, ?it/s]"
      ]
     },
     "metadata": {},
     "output_type": "display_data"
    },
    {
     "data": {
      "application/vnd.jupyter.widget-view+json": {
       "model_id": "",
       "version_major": 2,
       "version_minor": 0
      },
      "text/plain": [
       "w:   0%|          | 0/10 [00:00<?, ?it/s]"
      ]
     },
     "metadata": {},
     "output_type": "display_data"
    },
    {
     "data": {
      "application/vnd.jupyter.widget-view+json": {
       "model_id": "",
       "version_major": 2,
       "version_minor": 0
      },
      "text/plain": [
       "x:   0%|          | 0/10 [00:00<?, ?it/s]"
      ]
     },
     "metadata": {},
     "output_type": "display_data"
    },
    {
     "data": {
      "application/vnd.jupyter.widget-view+json": {
       "model_id": "",
       "version_major": 2,
       "version_minor": 0
      },
      "text/plain": [
       "y:   0%|          | 0/10 [00:00<?, ?it/s]"
      ]
     },
     "metadata": {},
     "output_type": "display_data"
    },
    {
     "data": {
      "application/vnd.jupyter.widget-view+json": {
       "model_id": "",
       "version_major": 2,
       "version_minor": 0
      },
      "text/plain": [
       "z:   0%|          | 0/10 [00:00<?, ?it/s]"
      ]
     },
     "metadata": {},
     "output_type": "display_data"
    },
    {
     "data": {
      "application/vnd.jupyter.widget-view+json": {
       "model_id": "",
       "version_major": 2,
       "version_minor": 0
      },
      "text/plain": [
       "_:   0%|          | 0/10 [00:00<?, ?it/s]"
      ]
     },
     "metadata": {},
     "output_type": "display_data"
    }
   ],
   "source": [
    "VOCAB = dict()\n",
    "syms = [chr(x) for x in range(ord('a'), ord('z') + 1)]\n",
    "syms += ['_']\n",
    "#codes = set()\n",
    "blum_filter = np.zeros(CODE_SIZE, dtype=int)\n",
    "\n",
    "for sym in tqdm(syms):\n",
    "    for p in tqdm(range(PERIOD_OF_IDS), desc=sym, leave=False):\n",
    "        vocab_item_id = f'{sym}:{p}'\n",
    "        vocab_item_code = np.zeros(CODE_SIZE, dtype=int)\n",
    "        available_positions = np.argwhere(blum_filter == 0).reshape(-1)\n",
    "        assert len(available_positions) >= WORD_ACTIVE_BITS\n",
    "        fill_positions = np.random.choice(available_positions, WORD_ACTIVE_BITS, replace=False)\n",
    "        vocab_item_code[fill_positions] = 1\n",
    "        assert blum_filter @ vocab_item_code == 0\n",
    "        blum_filter = blum_filter + vocab_item_code\n",
    "        \n",
    "        # while True:\n",
    "        #     vocab_item_code = np.random.permutation(vocab_item_code)\n",
    "        #     assert (vocab_item_code == 1).sum() == CODE_ACTIVE_BITS\n",
    "        #     vocab_item_code_str = ''.join(map(str, vocab_item_code))\n",
    "\n",
    "        #     if not vocab_item_code_str in codes:\n",
    "        #         codes.add(vocab_item_code_str)\n",
    "        #         break\n",
    "\n",
    "        VOCAB[vocab_item_id] = vocab_item_code\n",
    "\n",
    "# assert len(codes) == len(syms) * PERIOD_OF_IDS, (len(codes), len(syms))"
   ]
  },
  {
   "cell_type": "code",
   "execution_count": 7,
   "id": "31f62027-4832-403b-bbb1-a1df98d97ae3",
   "metadata": {},
   "outputs": [],
   "source": [
    "def encode(content, offsets):\n",
    "    df = pd.DataFrame(columns=['text'])\n",
    "    \n",
    "    for offset in offsets:\n",
    "        window_texts = []\n",
    "        window_offset_texts = []\n",
    "        cumcodes = []\n",
    "        \n",
    "        window = []\n",
    "        window_text = []\n",
    "        window_offset_text = []\n",
    "        \n",
    "        for i, ch in enumerate(content):\n",
    "            p = (i + offset) % PERIOD_OF_IDS\n",
    "            q = f'{ch}:{p}'\n",
    "            code = VOCAB[q]\n",
    "            window.append(code)\n",
    "            window_text.append(ch)\n",
    "            window_offset_text.append(q)\n",
    "        \n",
    "            while len(window) > WINDOW_SIZE:\n",
    "                window.pop(0)\n",
    "                window_text.pop(0)\n",
    "                window_offset_text.pop(0)\n",
    "        \n",
    "            if len(window) == WINDOW_SIZE:\n",
    "                cumcode = np.sum(window, axis=0)\n",
    "                cumcode[cumcode > 1] = 1\n",
    "                assert (cumcode == 1).sum() == SENTENCE_ACTIVE_BITS\n",
    "                cumcodes.append(cumcode)\n",
    "    \n",
    "                window_texts.append(''.join(window_text))\n",
    "                window_offset_texts.append(''.join(window_offset_text))\n",
    "        \n",
    "        df['text'] = window_texts\n",
    "        df[f'offset_{offset}_text'] = window_offset_texts\n",
    "        df[f'offset_{offset}_code'] = cumcodes\n",
    "\n",
    "    return df"
   ]
  },
  {
   "cell_type": "code",
   "execution_count": 8,
   "id": "8f4c9905-ea16-420d-a481-dcf46cee3d0d",
   "metadata": {},
   "outputs": [
    {
     "data": {
      "text/html": [
       "<div>\n",
       "<style scoped>\n",
       "    .dataframe tbody tr th:only-of-type {\n",
       "        vertical-align: middle;\n",
       "    }\n",
       "\n",
       "    .dataframe tbody tr th {\n",
       "        vertical-align: top;\n",
       "    }\n",
       "\n",
       "    .dataframe thead th {\n",
       "        text-align: right;\n",
       "    }\n",
       "</style>\n",
       "<table border=\"1\" class=\"dataframe\">\n",
       "  <thead>\n",
       "    <tr style=\"text-align: right;\">\n",
       "      <th></th>\n",
       "      <th>text</th>\n",
       "      <th>offset_0_text</th>\n",
       "      <th>offset_0_code</th>\n",
       "      <th>offset_8_text</th>\n",
       "      <th>offset_8_code</th>\n",
       "    </tr>\n",
       "  </thead>\n",
       "  <tbody>\n",
       "    <tr>\n",
       "      <th>0</th>\n",
       "      <td>hello_</td>\n",
       "      <td>h:0e:1l:2l:3o:4_:5</td>\n",
       "      <td>[0, 0, 0, 0, 0, 0, 0, 0, 0, 0, 0, 0, 0, 0, 0, ...</td>\n",
       "      <td>h:8e:9l:0l:1o:2_:3</td>\n",
       "      <td>[0, 0, 0, 0, 0, 0, 0, 0, 0, 0, 0, 0, 0, 0, 0, ...</td>\n",
       "    </tr>\n",
       "  </tbody>\n",
       "</table>\n",
       "</div>"
      ],
      "text/plain": [
       "     text       offset_0_text  \\\n",
       "0  hello_  h:0e:1l:2l:3o:4_:5   \n",
       "\n",
       "                                       offset_0_code       offset_8_text  \\\n",
       "0  [0, 0, 0, 0, 0, 0, 0, 0, 0, 0, 0, 0, 0, 0, 0, ...  h:8e:9l:0l:1o:2_:3   \n",
       "\n",
       "                                       offset_8_code  \n",
       "0  [0, 0, 0, 0, 0, 0, 0, 0, 0, 0, 0, 0, 0, 0, 0, ...  "
      ]
     },
     "execution_count": 8,
     "metadata": {},
     "output_type": "execute_result"
    }
   ],
   "source": [
    "encode(clean_text('hello_'), [0, 8])"
   ]
  },
  {
   "cell_type": "code",
   "execution_count": 9,
   "id": "ced2ead2-6fda-40bb-aa9c-56187925b053",
   "metadata": {},
   "outputs": [
    {
     "data": {
      "text/html": [
       "<div>\n",
       "<style scoped>\n",
       "    .dataframe tbody tr th:only-of-type {\n",
       "        vertical-align: middle;\n",
       "    }\n",
       "\n",
       "    .dataframe tbody tr th {\n",
       "        vertical-align: top;\n",
       "    }\n",
       "\n",
       "    .dataframe thead th {\n",
       "        text-align: right;\n",
       "    }\n",
       "</style>\n",
       "<table border=\"1\" class=\"dataframe\">\n",
       "  <thead>\n",
       "    <tr style=\"text-align: right;\">\n",
       "      <th></th>\n",
       "      <th>text</th>\n",
       "      <th>offset_0_text</th>\n",
       "      <th>offset_0_code</th>\n",
       "      <th>offset_1_text</th>\n",
       "      <th>offset_1_code</th>\n",
       "    </tr>\n",
       "  </thead>\n",
       "  <tbody>\n",
       "    <tr>\n",
       "      <th>0</th>\n",
       "      <td>the_so</td>\n",
       "      <td>t:0h:1e:2_:3s:4o:5</td>\n",
       "      <td>[0, 0, 0, 0, 0, 0, 0, 0, 0, 0, 0, 0, 0, 0, 0, ...</td>\n",
       "      <td>t:1h:2e:3_:4s:5o:6</td>\n",
       "      <td>[0, 0, 0, 0, 0, 0, 0, 0, 0, 0, 0, 0, 0, 0, 0, ...</td>\n",
       "    </tr>\n",
       "    <tr>\n",
       "      <th>1</th>\n",
       "      <td>he_son</td>\n",
       "      <td>h:1e:2_:3s:4o:5n:6</td>\n",
       "      <td>[0, 0, 0, 0, 0, 0, 0, 0, 0, 0, 0, 0, 0, 0, 0, ...</td>\n",
       "      <td>h:2e:3_:4s:5o:6n:7</td>\n",
       "      <td>[0, 0, 0, 0, 0, 0, 0, 0, 0, 0, 0, 0, 0, 0, 0, ...</td>\n",
       "    </tr>\n",
       "    <tr>\n",
       "      <th>2</th>\n",
       "      <td>e_sonn</td>\n",
       "      <td>e:2_:3s:4o:5n:6n:7</td>\n",
       "      <td>[0, 0, 0, 0, 0, 0, 0, 0, 0, 0, 0, 0, 0, 0, 0, ...</td>\n",
       "      <td>e:3_:4s:5o:6n:7n:8</td>\n",
       "      <td>[0, 0, 0, 0, 0, 0, 0, 0, 0, 0, 0, 0, 0, 0, 0, ...</td>\n",
       "    </tr>\n",
       "    <tr>\n",
       "      <th>3</th>\n",
       "      <td>_sonne</td>\n",
       "      <td>_:3s:4o:5n:6n:7e:8</td>\n",
       "      <td>[0, 0, 0, 0, 0, 0, 0, 0, 0, 0, 0, 0, 0, 0, 0, ...</td>\n",
       "      <td>_:4s:5o:6n:7n:8e:9</td>\n",
       "      <td>[0, 0, 0, 0, 0, 0, 0, 0, 0, 0, 0, 0, 0, 0, 0, ...</td>\n",
       "    </tr>\n",
       "    <tr>\n",
       "      <th>4</th>\n",
       "      <td>sonnet</td>\n",
       "      <td>s:4o:5n:6n:7e:8t:9</td>\n",
       "      <td>[0, 0, 0, 0, 0, 0, 0, 0, 0, 0, 0, 0, 0, 0, 0, ...</td>\n",
       "      <td>s:5o:6n:7n:8e:9t:0</td>\n",
       "      <td>[0, 0, 0, 0, 0, 0, 0, 0, 0, 0, 0, 0, 0, 0, 0, ...</td>\n",
       "    </tr>\n",
       "  </tbody>\n",
       "</table>\n",
       "</div>"
      ],
      "text/plain": [
       "     text       offset_0_text  \\\n",
       "0  the_so  t:0h:1e:2_:3s:4o:5   \n",
       "1  he_son  h:1e:2_:3s:4o:5n:6   \n",
       "2  e_sonn  e:2_:3s:4o:5n:6n:7   \n",
       "3  _sonne  _:3s:4o:5n:6n:7e:8   \n",
       "4  sonnet  s:4o:5n:6n:7e:8t:9   \n",
       "\n",
       "                                       offset_0_code       offset_1_text  \\\n",
       "0  [0, 0, 0, 0, 0, 0, 0, 0, 0, 0, 0, 0, 0, 0, 0, ...  t:1h:2e:3_:4s:5o:6   \n",
       "1  [0, 0, 0, 0, 0, 0, 0, 0, 0, 0, 0, 0, 0, 0, 0, ...  h:2e:3_:4s:5o:6n:7   \n",
       "2  [0, 0, 0, 0, 0, 0, 0, 0, 0, 0, 0, 0, 0, 0, 0, ...  e:3_:4s:5o:6n:7n:8   \n",
       "3  [0, 0, 0, 0, 0, 0, 0, 0, 0, 0, 0, 0, 0, 0, 0, ...  _:4s:5o:6n:7n:8e:9   \n",
       "4  [0, 0, 0, 0, 0, 0, 0, 0, 0, 0, 0, 0, 0, 0, 0, ...  s:5o:6n:7n:8e:9t:0   \n",
       "\n",
       "                                       offset_1_code  \n",
       "0  [0, 0, 0, 0, 0, 0, 0, 0, 0, 0, 0, 0, 0, 0, 0, ...  \n",
       "1  [0, 0, 0, 0, 0, 0, 0, 0, 0, 0, 0, 0, 0, 0, 0, ...  \n",
       "2  [0, 0, 0, 0, 0, 0, 0, 0, 0, 0, 0, 0, 0, 0, 0, ...  \n",
       "3  [0, 0, 0, 0, 0, 0, 0, 0, 0, 0, 0, 0, 0, 0, 0, ...  \n",
       "4  [0, 0, 0, 0, 0, 0, 0, 0, 0, 0, 0, 0, 0, 0, 0, ...  "
      ]
     },
     "execution_count": 9,
     "metadata": {},
     "output_type": "execute_result"
    }
   ],
   "source": [
    "df = encode(content, [0, 1])\n",
    "df.head()"
   ]
  },
  {
   "cell_type": "code",
   "execution_count": 10,
   "id": "2f40ba24-4266-4206-b715-ffed07433a47",
   "metadata": {},
   "outputs": [],
   "source": [
    "df_train, df_test = train_test_split(df[:10000])"
   ]
  },
  {
   "cell_type": "code",
   "execution_count": 11,
   "id": "38ad4f3f-8ed4-4db2-98bf-bae4202e8b43",
   "metadata": {},
   "outputs": [],
   "source": [
    "mem = DiadicMemory_Counters(CODE_SIZE, SENTENCE_ACTIVE_BITS)"
   ]
  },
  {
   "cell_type": "code",
   "execution_count": 12,
   "id": "d83dcf7b-bd44-4824-a0fe-1d33349a9064",
   "metadata": {},
   "outputs": [
    {
     "data": {
      "application/vnd.jupyter.widget-view+json": {
       "model_id": "4d82466233a546d3a8ed071e79ffc628",
       "version_major": 2,
       "version_minor": 0
      },
      "text/plain": [
       "  0%|          | 0/7500 [00:00<?, ?it/s]"
      ]
     },
     "metadata": {},
     "output_type": "display_data"
    }
   ],
   "source": [
    "for _, df_train_row in tqdm(df_train.iterrows(), total=df_train.shape[0]):\n",
    "    sdr_x = np.argwhere(df_train_row['offset_0_code'] > 0).reshape(-1)\n",
    "    sdr_y = np.argwhere(df_train_row['offset_1_code'] > 0).reshape(-1)\n",
    "    mem.store(sdr_x, sdr_y)"
   ]
  },
  {
   "cell_type": "code",
   "execution_count": 13,
   "id": "f12b12da-90e6-4973-9598-ef88ee7c5ad5",
   "metadata": {},
   "outputs": [
    {
     "data": {
      "application/vnd.jupyter.widget-view+json": {
       "model_id": "55c221809a034d3596db71f5f04fd957",
       "version_major": 2,
       "version_minor": 0
      },
      "text/plain": [
       "  0%|          | 0/2500 [00:00<?, ?it/s]"
      ]
     },
     "metadata": {},
     "output_type": "display_data"
    },
    {
     "data": {
      "text/plain": [
       "np.float64(2.3936)"
      ]
     },
     "execution_count": 13,
     "metadata": {},
     "output_type": "execute_result"
    }
   ],
   "source": [
    "hamming_dists = []\n",
    "\n",
    "for _, df_test_row in tqdm(df_test.iterrows(), total=df_test.shape[0]):\n",
    "    sdr_x = np.argwhere(df_test_row['offset_0_code'] > 0).reshape(-1)\n",
    "    sdr_y = np.argwhere(df_test_row['offset_1_code'] > 0).reshape(-1)\n",
    "    sdr_y_q = mem.query(sdr_x)\n",
    "    #hamming_dist = np.count_nonzero(sdr_y != sdr_y_q)\n",
    "    hamming_dist = len(set(sdr_y) ^ set(sdr_y_q))\n",
    "    hamming_dists.append(hamming_dist)\n",
    "\n",
    "hamming_dists = np.array(hamming_dists)\n",
    "hamming_dists.mean()"
   ]
  },
  {
   "cell_type": "code",
   "execution_count": 14,
   "id": "1409ddd4-ed30-4196-a459-b83906041477",
   "metadata": {},
   "outputs": [
    {
     "data": {
      "text/plain": [
       "(array([  43,  763, 1645, 2850, 3254, 4450, 4609, 6487, 7074, 7879, 8504,\n",
       "        9372]),\n",
       " array([  43,  763, 2850, 3254, 3348, 4450, 4609, 6487, 7016, 7879, 8504,\n",
       "        9372]))"
      ]
     },
     "execution_count": 14,
     "metadata": {},
     "output_type": "execute_result"
    }
   ],
   "source": [
    "sdr_x, sdr_y = encode(clean_text('hello_'), [0, 1]).iloc[0][['offset_0_code', 'offset_1_code']]\n",
    "sdr_x = np.argwhere(sdr_x > 0).reshape(-1)\n",
    "sdr_y = np.argwhere(sdr_y > 0).reshape(-1)\n",
    "mem.query(sdr_x), sdr_y"
   ]
  },
  {
   "cell_type": "code",
   "execution_count": null,
   "id": "e3ee8954-fda9-44b1-9efc-aada73706664",
   "metadata": {},
   "outputs": [],
   "source": []
  },
  {
   "cell_type": "code",
   "execution_count": null,
   "id": "8c56ab5a-35c8-4b65-a1d0-2d2c6a38a56d",
   "metadata": {},
   "outputs": [],
   "source": []
  },
  {
   "cell_type": "code",
   "execution_count": null,
   "id": "e126d0b6-458d-4e44-b915-cc85f9eaecb3",
   "metadata": {},
   "outputs": [],
   "source": []
  },
  {
   "cell_type": "code",
   "execution_count": 27,
   "id": "fda6e138-2747-4947-988c-15028086277b",
   "metadata": {},
   "outputs": [],
   "source": [
    "M = np.zeros(CODE_SIZE)\n",
    "vec_from = df_train.loc[0]['offset_0_code']\n",
    "vec_to = df_train.loc[0]['offset_1_code']\n",
    "M = np.logical_or(M, np.logical_xor(vec_from, vec_to)).astype(int)\n",
    "assert np.array_equal(np.logical_xor(vec_from, M).astype(int), vec_to)"
   ]
  },
  {
   "cell_type": "code",
   "execution_count": 34,
   "id": "bebfb9d6-59f3-4b60-ab05-7cd9b57f0020",
   "metadata": {},
   "outputs": [
    {
     "data": {
      "text/plain": [
       "np.float64(312.0)"
      ]
     },
     "execution_count": 34,
     "metadata": {},
     "output_type": "execute_result"
    }
   ],
   "source": [
    "M = np.zeros(CODE_SIZE)\n",
    "hamming_dists = []\n",
    "\n",
    "for _, row in df_train[:100].iterrows():\n",
    "    vec_from = row['offset_0_code']\n",
    "    vec_to = row['offset_1_code']\n",
    "    M = np.logical_or(M, np.logical_xor(vec_from, vec_to)).astype(int)\n",
    "    #assert np.array_equal(np.logical_xor(vec_from, M).astype(int), vec_to)\n",
    "    vec_to_m = np.logical_xor(vec_from, M).astype(int)\n",
    "    hamming_dist = np.count_nonzero(vec_to_m != vec_to)\n",
    "    hamming_dists.append(hamming_dist)\n",
    "\n",
    "np.array(hamming_dists).mean()"
   ]
  },
  {
   "cell_type": "code",
   "execution_count": null,
   "id": "e57fa55a-d429-4a15-a0f1-6d735222ba54",
   "metadata": {},
   "outputs": [],
   "source": []
  },
  {
   "cell_type": "code",
   "execution_count": null,
   "id": "ab8acb31-5f63-4f74-8bf9-c928ec39d85e",
   "metadata": {},
   "outputs": [],
   "source": []
  },
  {
   "cell_type": "code",
   "execution_count": null,
   "id": "9ebc58f2-f866-4a7a-86ed-4c2e77498083",
   "metadata": {},
   "outputs": [],
   "source": []
  },
  {
   "cell_type": "code",
   "execution_count": 15,
   "id": "4aac7a06-9575-4a48-a8ca-ffb3f0a37d9a",
   "metadata": {},
   "outputs": [
    {
     "name": "stdout",
     "output_type": "stream",
     "text": [
      "1) [1 1 1 1 0 0]\n",
      "2) [1 0 0 1 1 1]\n",
      "3) [1 1 1 1 0 0]\n"
     ]
    }
   ],
   "source": [
    "P = np.zeros((6,6), dtype=int)\n",
    "pool = list(range(6))\n",
    "i = 0\n",
    "\n",
    "while pool:\n",
    "    p = pool.pop(np.random.randint(len(pool)))\n",
    "    P[i, p] = 1\n",
    "    i += 1\n",
    "\n",
    "v = np.random.randint(2, size=6)\n",
    "print(f'1) {v}')\n",
    "v_hat = P @ v\n",
    "print(f'2) {v_hat}')\n",
    "v_hat_hat = P.T @ v_hat\n",
    "print(f'3) {v_hat_hat}')"
   ]
  },
  {
   "cell_type": "code",
   "execution_count": null,
   "id": "1e46142b-0ad3-48eb-9df0-dcfb65b69c63",
   "metadata": {},
   "outputs": [],
   "source": []
  }
 ],
 "metadata": {
  "kernelspec": {
   "display_name": "Python 3 (ipykernel)",
   "language": "python",
   "name": "python3"
  },
  "language_info": {
   "codemirror_mode": {
    "name": "ipython",
    "version": 3
   },
   "file_extension": ".py",
   "mimetype": "text/x-python",
   "name": "python",
   "nbconvert_exporter": "python",
   "pygments_lexer": "ipython3",
   "version": "3.12.2"
  }
 },
 "nbformat": 4,
 "nbformat_minor": 5
}
