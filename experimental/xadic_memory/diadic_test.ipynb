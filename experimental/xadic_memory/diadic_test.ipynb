{
 "cells": [
  {
   "cell_type": "code",
   "execution_count": 24,
   "id": "b7dbefd6-93b7-4656-a733-7ba48fc8aa30",
   "metadata": {},
   "outputs": [],
   "source": [
    "from time import time\n",
    "import numpy as np\n",
    "import mem_sdrsdm as m\n",
    "from mem_sdrsdm2 import DiadicMemory_Orig, DiadicMemory_Counters, DiadicMemory_SdmCounters, DiadicMemory_SdmCountersAndRetrieval\n",
    "from sdrsdm import DiadicMemory\n",
    "from sdr_util import random_sdrs\n",
    "from tqdm.notebook import tqdm\n",
    "import time\n",
    "import pandas as pd"
   ]
  },
  {
   "cell_type": "code",
   "execution_count": 8,
   "id": "86a62eac-e0a1-45b0-90b5-a42f3fa63025",
   "metadata": {},
   "outputs": [],
   "source": [
    "SDR_SIZE = 1000\n",
    "SDR_BITS = 10\n",
    "XCOUNT = 10000"
   ]
  },
  {
   "cell_type": "code",
   "execution_count": null,
   "id": "5cdb3e62-a3db-45d8-9bc7-c60d9dd6cdd1",
   "metadata": {},
   "outputs": [],
   "source": []
  },
  {
   "cell_type": "code",
   "execution_count": 9,
   "id": "48543091-ba35-461f-b660-5032e6d7ec62",
   "metadata": {},
   "outputs": [],
   "source": [
    "# SDRs -> binary arrays\n",
    "def expand_sdrs_ndarray(sdrs, sdr_size):\n",
    "    z = np.zeros((sdrs.shape[0], sdr_size), dtype=int).reshape(-1)\n",
    "    non_zero_indices = (sdrs.T + np.arange(0, sdr_size * sdrs.shape[0], sdr_size)).T.reshape(-1)\n",
    "    z[non_zero_indices] = 1\n",
    "    return z.reshape((sdrs.shape[0], sdr_size))\n",
    "\n",
    "def expand_sdrs_list(sdrs, sdr_size):\n",
    "    subsdrs = []\n",
    "    rv = None\n",
    "\n",
    "    for sdr in sdrs:\n",
    "        if not subsdrs or len(sdr) == len(subsdrs[0]):\n",
    "            subsdrs.append(sdr)\n",
    "            continue\n",
    "        \n",
    "        b = expand_sdrs_ndarray(np.array(subsdrs), sdr_size)\n",
    "        rv = b if rv is None else np.concat([rv, b])\n",
    "        subsdrs = [sdr]\n",
    "\n",
    "    if subsdrs:\n",
    "        b = expand_sdrs_ndarray(np.array(subsdrs), sdr_size)\n",
    "        rv = b if rv is None else np.concat([rv, b])\n",
    "\n",
    "    return rv\n",
    "\n",
    "# binary arrays-> SDRs\n",
    "def compact_binaries(bins, sdr_size):\n",
    "    return np.argwhere(bins > 0)[:,1].reshape(bins.shape[0],-1)\n",
    "\n",
    "def hamming_dist(bins1, bins2):\n",
    "    return np.count_nonzero(bins1 != bins2, axis=1)"
   ]
  },
  {
   "cell_type": "code",
   "execution_count": 10,
   "id": "898614dd-aaf2-4c83-9c4f-9279dd19c99a",
   "metadata": {},
   "outputs": [
    {
     "data": {
      "text/plain": [
       "(array([[ 23,  31,  57,  65,  91, 144, 553, 691, 803, 813],\n",
       "        [ 70, 174, 202, 291, 345, 510, 599, 698, 770, 910]], dtype=uint32),\n",
       " array([[ 34, 155, 283, 405, 453, 455, 475, 506, 751, 921],\n",
       "        [167, 521, 533, 677, 682, 683, 704, 705, 781, 794]], dtype=uint32))"
      ]
     },
     "execution_count": 10,
     "metadata": {},
     "output_type": "execute_result"
    }
   ],
   "source": [
    "a1 = np.array(random_sdrs(2, sdr_size=SDR_SIZE, on_bits=SDR_BITS))\n",
    "a2 = np.array(random_sdrs(2, sdr_size=SDR_SIZE, on_bits=SDR_BITS))\n",
    "a1, a2"
   ]
  },
  {
   "cell_type": "code",
   "execution_count": 11,
   "id": "7f2ec65f-b85c-4cb4-b146-31bf06a88e8e",
   "metadata": {},
   "outputs": [],
   "source": [
    "z1 = expand_sdrs_ndarray(a1, SDR_SIZE)\n",
    "z2 = expand_sdrs_ndarray(a2, SDR_SIZE)\n",
    "assert np.array_equal(compact_binaries(z1, SDR_SIZE), a1)\n",
    "assert np.array_equal(compact_binaries(z2, SDR_SIZE), a2)\n",
    "assert np.all(hamming_dist(z1, z1) == 0)\n",
    "assert np.all(hamming_dist(z2, z2) == 0)\n",
    "assert np.all(hamming_dist(z1, z2) > 0)"
   ]
  },
  {
   "cell_type": "code",
   "execution_count": 12,
   "id": "36b41d87-6752-4c79-a3f7-ae1665238816",
   "metadata": {},
   "outputs": [],
   "source": [
    "b1 = random_sdrs(2, sdr_size=SDR_SIZE, on_bits=SDR_BITS)\n",
    "b2 = random_sdrs(2, sdr_size=SDR_SIZE, on_bits=SDR_BITS + 1)\n",
    "expand_sdrs_list(b1 + b2, SDR_SIZE);"
   ]
  },
  {
   "cell_type": "code",
   "execution_count": 101,
   "id": "17ef27dc-d7c9-4e9b-a522-6774f133970c",
   "metadata": {},
   "outputs": [
    {
     "data": {
      "application/vnd.jupyter.widget-view+json": {
       "model_id": "1d1c401ebaa94c0499a82910623eaca5",
       "version_major": 2,
       "version_minor": 0
      },
      "text/plain": [
       "  0%|          | 0/4 [00:00<?, ?it/s]"
      ]
     },
     "metadata": {},
     "output_type": "display_data"
    },
    {
     "data": {
      "text/html": [
       "<div>\n",
       "<style scoped>\n",
       "    .dataframe tbody tr th:only-of-type {\n",
       "        vertical-align: middle;\n",
       "    }\n",
       "\n",
       "    .dataframe tbody tr th {\n",
       "        vertical-align: top;\n",
       "    }\n",
       "\n",
       "    .dataframe thead th {\n",
       "        text-align: right;\n",
       "    }\n",
       "</style>\n",
       "<table border=\"1\" class=\"dataframe\">\n",
       "  <thead>\n",
       "    <tr style=\"text-align: right;\">\n",
       "      <th></th>\n",
       "      <th>Type</th>\n",
       "      <th>Duration</th>\n",
       "      <th>Hamm. dist</th>\n",
       "    </tr>\n",
       "  </thead>\n",
       "  <tbody>\n",
       "    <tr>\n",
       "      <th>0</th>\n",
       "      <td>0 DiadicMemory_Orig</td>\n",
       "      <td>3.509741</td>\n",
       "      <td>[0, 10000]</td>\n",
       "    </tr>\n",
       "    <tr>\n",
       "      <th>1</th>\n",
       "      <td>1 DiadicMemory_Counters</td>\n",
       "      <td>1.661758</td>\n",
       "      <td>[0, 10000]</td>\n",
       "    </tr>\n",
       "    <tr>\n",
       "      <th>2</th>\n",
       "      <td>2 DiadicMemory_SdmCounters</td>\n",
       "      <td>7.074571</td>\n",
       "      <td>[0, 9533]</td>\n",
       "    </tr>\n",
       "    <tr>\n",
       "      <th>3</th>\n",
       "      <td>2 DiadicMemory_SdmCounters</td>\n",
       "      <td>7.074571</td>\n",
       "      <td>[992, 2]</td>\n",
       "    </tr>\n",
       "    <tr>\n",
       "      <th>4</th>\n",
       "      <td>2 DiadicMemory_SdmCounters</td>\n",
       "      <td>7.074571</td>\n",
       "      <td>[993, 15]</td>\n",
       "    </tr>\n",
       "    <tr>\n",
       "      <th>5</th>\n",
       "      <td>2 DiadicMemory_SdmCounters</td>\n",
       "      <td>7.074571</td>\n",
       "      <td>[994, 30]</td>\n",
       "    </tr>\n",
       "    <tr>\n",
       "      <th>6</th>\n",
       "      <td>2 DiadicMemory_SdmCounters</td>\n",
       "      <td>7.074571</td>\n",
       "      <td>[995, 89]</td>\n",
       "    </tr>\n",
       "    <tr>\n",
       "      <th>7</th>\n",
       "      <td>2 DiadicMemory_SdmCounters</td>\n",
       "      <td>7.074571</td>\n",
       "      <td>[996, 99]</td>\n",
       "    </tr>\n",
       "    <tr>\n",
       "      <th>8</th>\n",
       "      <td>2 DiadicMemory_SdmCounters</td>\n",
       "      <td>7.074571</td>\n",
       "      <td>[997, 106]</td>\n",
       "    </tr>\n",
       "    <tr>\n",
       "      <th>9</th>\n",
       "      <td>2 DiadicMemory_SdmCounters</td>\n",
       "      <td>7.074571</td>\n",
       "      <td>[998, 87]</td>\n",
       "    </tr>\n",
       "    <tr>\n",
       "      <th>10</th>\n",
       "      <td>2 DiadicMemory_SdmCounters</td>\n",
       "      <td>7.074571</td>\n",
       "      <td>[999, 33]</td>\n",
       "    </tr>\n",
       "    <tr>\n",
       "      <th>11</th>\n",
       "      <td>2 DiadicMemory_SdmCounters</td>\n",
       "      <td>7.074571</td>\n",
       "      <td>[1000, 6]</td>\n",
       "    </tr>\n",
       "    <tr>\n",
       "      <th>12</th>\n",
       "      <td>3 DiadicMemory_SdmCountersAndRetrieval</td>\n",
       "      <td>27.552194</td>\n",
       "      <td>[0, 7274]</td>\n",
       "    </tr>\n",
       "    <tr>\n",
       "      <th>13</th>\n",
       "      <td>3 DiadicMemory_SdmCountersAndRetrieval</td>\n",
       "      <td>27.552194</td>\n",
       "      <td>[1, 50]</td>\n",
       "    </tr>\n",
       "    <tr>\n",
       "      <th>14</th>\n",
       "      <td>3 DiadicMemory_SdmCountersAndRetrieval</td>\n",
       "      <td>27.552194</td>\n",
       "      <td>[2, 94]</td>\n",
       "    </tr>\n",
       "    <tr>\n",
       "      <th>15</th>\n",
       "      <td>3 DiadicMemory_SdmCountersAndRetrieval</td>\n",
       "      <td>27.552194</td>\n",
       "      <td>[3, 114]</td>\n",
       "    </tr>\n",
       "    <tr>\n",
       "      <th>16</th>\n",
       "      <td>3 DiadicMemory_SdmCountersAndRetrieval</td>\n",
       "      <td>27.552194</td>\n",
       "      <td>[4, 134]</td>\n",
       "    </tr>\n",
       "    <tr>\n",
       "      <th>17</th>\n",
       "      <td>3 DiadicMemory_SdmCountersAndRetrieval</td>\n",
       "      <td>27.552194</td>\n",
       "      <td>[5, 133]</td>\n",
       "    </tr>\n",
       "    <tr>\n",
       "      <th>18</th>\n",
       "      <td>3 DiadicMemory_SdmCountersAndRetrieval</td>\n",
       "      <td>27.552194</td>\n",
       "      <td>[6, 162]</td>\n",
       "    </tr>\n",
       "    <tr>\n",
       "      <th>19</th>\n",
       "      <td>3 DiadicMemory_SdmCountersAndRetrieval</td>\n",
       "      <td>27.552194</td>\n",
       "      <td>[7, 195]</td>\n",
       "    </tr>\n",
       "    <tr>\n",
       "      <th>20</th>\n",
       "      <td>3 DiadicMemory_SdmCountersAndRetrieval</td>\n",
       "      <td>27.552194</td>\n",
       "      <td>[8, 234]</td>\n",
       "    </tr>\n",
       "    <tr>\n",
       "      <th>21</th>\n",
       "      <td>3 DiadicMemory_SdmCountersAndRetrieval</td>\n",
       "      <td>27.552194</td>\n",
       "      <td>[9, 411]</td>\n",
       "    </tr>\n",
       "    <tr>\n",
       "      <th>22</th>\n",
       "      <td>3 DiadicMemory_SdmCountersAndRetrieval</td>\n",
       "      <td>27.552194</td>\n",
       "      <td>[10, 1199]</td>\n",
       "    </tr>\n",
       "  </tbody>\n",
       "</table>\n",
       "</div>"
      ],
      "text/plain": [
       "                                      Type   Duration  Hamm. dist\n",
       "0                      0 DiadicMemory_Orig   3.509741  [0, 10000]\n",
       "1                  1 DiadicMemory_Counters   1.661758  [0, 10000]\n",
       "2               2 DiadicMemory_SdmCounters   7.074571   [0, 9533]\n",
       "3               2 DiadicMemory_SdmCounters   7.074571    [992, 2]\n",
       "4               2 DiadicMemory_SdmCounters   7.074571   [993, 15]\n",
       "5               2 DiadicMemory_SdmCounters   7.074571   [994, 30]\n",
       "6               2 DiadicMemory_SdmCounters   7.074571   [995, 89]\n",
       "7               2 DiadicMemory_SdmCounters   7.074571   [996, 99]\n",
       "8               2 DiadicMemory_SdmCounters   7.074571  [997, 106]\n",
       "9               2 DiadicMemory_SdmCounters   7.074571   [998, 87]\n",
       "10              2 DiadicMemory_SdmCounters   7.074571   [999, 33]\n",
       "11              2 DiadicMemory_SdmCounters   7.074571   [1000, 6]\n",
       "12  3 DiadicMemory_SdmCountersAndRetrieval  27.552194   [0, 7274]\n",
       "13  3 DiadicMemory_SdmCountersAndRetrieval  27.552194     [1, 50]\n",
       "14  3 DiadicMemory_SdmCountersAndRetrieval  27.552194     [2, 94]\n",
       "15  3 DiadicMemory_SdmCountersAndRetrieval  27.552194    [3, 114]\n",
       "16  3 DiadicMemory_SdmCountersAndRetrieval  27.552194    [4, 134]\n",
       "17  3 DiadicMemory_SdmCountersAndRetrieval  27.552194    [5, 133]\n",
       "18  3 DiadicMemory_SdmCountersAndRetrieval  27.552194    [6, 162]\n",
       "19  3 DiadicMemory_SdmCountersAndRetrieval  27.552194    [7, 195]\n",
       "20  3 DiadicMemory_SdmCountersAndRetrieval  27.552194    [8, 234]\n",
       "21  3 DiadicMemory_SdmCountersAndRetrieval  27.552194    [9, 411]\n",
       "22  3 DiadicMemory_SdmCountersAndRetrieval  27.552194  [10, 1199]"
      ]
     },
     "execution_count": 101,
     "metadata": {},
     "output_type": "execute_result"
    }
   ],
   "source": [
    "mem_types = [DiadicMemory_Orig, DiadicMemory_Counters, DiadicMemory_SdmCounters, DiadicMemory_SdmCountersAndRetrieval]\n",
    "results = pd.DataFrame([], columns=['Type', 'Duration', 'Hamm. dist'])\n",
    "\n",
    "for i, mem_type in tqdm(enumerate(mem_types), total=len(mem_types)):\n",
    "    start_ts = time.time()\n",
    "    \n",
    "    mem = mem_type(SDR_SIZE, SDR_BITS)\n",
    "    x = random_sdrs(XCOUNT, sdr_size=mem.N, on_bits=mem.P)\n",
    "    y = random_sdrs(XCOUNT, sdr_size=mem.N, on_bits=mem.P)\n",
    "    \n",
    "    for x_, y_ in zip(x, y): mem.store(x_, y_)\n",
    "    \n",
    "    y2 = [mem.query(x_) for x_ in x]\n",
    "    yb = expand_sdrs_ndarray(np.array(y), SDR_SIZE)\n",
    "    y2b = expand_sdrs_list(y2, SDR_SIZE)\n",
    "    hds = hamming_dist(yb, y2b)\n",
    "    \n",
    "    end_ts = time.time()\n",
    "    duration = (end_ts - start_ts)\n",
    "\n",
    "    for hd_bin in np.array(np.unique_counts(hds)).T:\n",
    "        results.loc[len(results)] = [f'{i} {mem_type.__name__}', duration, hd_bin]\n"
   ]
  },
  {
   "cell_type": "code",
   "execution_count": null,
   "id": "8996d18f-11c1-420b-9981-ad51cb4d8453",
   "metadata": {},
   "outputs": [],
   "source": []
  },
  {
   "cell_type": "code",
   "execution_count": null,
   "id": "9a555b05-200d-4665-a516-35cdfadc5e74",
   "metadata": {},
   "outputs": [],
   "source": []
  },
  {
   "cell_type": "code",
   "execution_count": 9,
   "id": "78d8877a-18ff-4d14-9b2d-7ba4de052380",
   "metadata": {},
   "outputs": [
    {
     "data": {
      "text/plain": [
       "array([[    0],\n",
       "       [10000]])"
      ]
     },
     "execution_count": 9,
     "metadata": {},
     "output_type": "execute_result"
    }
   ],
   "source": [
    "mem = MemDiadicMemory(SDR_SIZE, SDR_BITS)\n",
    "x = random_sdrs(XCOUNT, sdr_size=mem.N, on_bits=mem.P)\n",
    "y = random_sdrs(XCOUNT, sdr_size=mem.N, on_bits=mem.P)\n",
    "\n",
    "for x_, y_ in zip(x, y): mem.store(x_, y_)\n",
    "\n",
    "y2 = [mem.query(x_) for x_ in x]\n",
    "\n",
    "yb = expand_sdrs_ndarray(np.array(y), SDR_SIZE)\n",
    "y2b = expand_sdrs_list(y2, SDR_SIZE)\n",
    "\n",
    "hds = hamming_dist(yb, y2b)\n",
    "np.array(np.unique_counts(hds))"
   ]
  },
  {
   "cell_type": "code",
   "execution_count": 10,
   "id": "f29e95e3-f91d-43e0-9e72-2c9cf4fd82ac",
   "metadata": {},
   "outputs": [
    {
     "data": {
      "text/plain": [
       "array([[   0,    1,    2,    3,    4,    5,    6,    7,    8,    9,   10],\n",
       "       [7335,   39,   83,  133,  119,  135,  159,  213,  243,  410, 1131]])"
      ]
     },
     "execution_count": 10,
     "metadata": {},
     "output_type": "execute_result"
    }
   ],
   "source": [
    "mem = MemDiadicMemory2(SDR_SIZE, SDR_BITS)\n",
    "x = random_sdrs(XCOUNT, sdr_size=mem.N, on_bits=mem.P)\n",
    "y = random_sdrs(XCOUNT, sdr_size=mem.N, on_bits=mem.P)\n",
    "\n",
    "for x_, y_ in zip(x, y): mem.store2(x_, y_)\n",
    "\n",
    "y2 = [mem.query2(x_) for x_ in x]\n",
    "\n",
    "yb = expand_sdrs_ndarray(np.array(y), SDR_SIZE)\n",
    "y2b = expand_sdrs_list(y2, SDR_SIZE)\n",
    "\n",
    "hds = hamming_dist(yb, y2b)\n",
    "np.array(np.unique_counts(hds))"
   ]
  },
  {
   "cell_type": "code",
   "execution_count": null,
   "id": "f85eeab6-0da7-45b1-a1fe-f9dccf96c6b1",
   "metadata": {},
   "outputs": [],
   "source": []
  }
 ],
 "metadata": {
  "kernelspec": {
   "display_name": "Python 3 (ipykernel)",
   "language": "python",
   "name": "python3"
  },
  "language_info": {
   "codemirror_mode": {
    "name": "ipython",
    "version": 3
   },
   "file_extension": ".py",
   "mimetype": "text/x-python",
   "name": "python",
   "nbconvert_exporter": "python",
   "pygments_lexer": "ipython3",
   "version": "3.12.2"
  }
 },
 "nbformat": 4,
 "nbformat_minor": 5
}
